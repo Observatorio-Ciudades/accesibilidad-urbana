{
 "cells": [
  {
   "cell_type": "code",
   "execution_count": 1,
   "id": "9d0bbe69-02a1-4cb3-b9f4-db25ec02ddd0",
   "metadata": {},
   "outputs": [
    {
     "name": "stderr",
     "output_type": "stream",
     "text": [
      "/home/edgaregurrola/.local/lib/python3.10/site-packages/osmnx/utils.py:192: UserWarning: The `utils.config` function is deprecated and will be removed in a future release. Instead, use the `settings` module directly to configure a global setting's value. For example, `ox.settings.log_console=True`.\n",
      "  warnings.warn(\n"
     ]
    }
   ],
   "source": [
    "import os\n",
    "import sys\n",
    "\n",
    "import pandas as pd\n",
    "import geopandas as gpd\n",
    "import osmnx as ox\n",
    "import numpy as np\n",
    "from shapely.geometry import Point\n",
    "import xlrd\n",
    "\n",
    "from geopy.geocoders import Nominatim\n",
    "from random import randint\n",
    "\n",
    "from difflib import SequenceMatcher\n",
    "\n",
    "import matplotlib.pyplot as plt\n",
    "\n",
    "import warnings\n",
    "warnings.simplefilter(action='ignore', category=FutureWarning)\n",
    "\n",
    "module_path = os.path.abspath(os.path.join('../../'))\n",
    "if module_path not in sys.path:\n",
    "    sys.path.append(module_path)\n",
    "    import aup"
   ]
  },
  {
   "cell_type": "code",
   "execution_count": 2,
   "id": "591108ea-e96f-4ad7-ab06-c28ef47b6fee",
   "metadata": {},
   "outputs": [],
   "source": []
  },
  {
   "cell_type": "code",
   "execution_count": 3,
   "id": "40493bbe-b6f7-4c54-8bfc-af4d11a6fd2f",
   "metadata": {},
   "outputs": [],
   "source": [
    "user_agent = 'user_me_{}'.format(randint(10000,99999))\n",
    "geolocator = Nominatim(user_agent=user_agent)"
   ]
  },
  {
   "cell_type": "code",
   "execution_count": 4,
   "id": "328874b9-4bb8-432c-95fa-5fc413095db9",
   "metadata": {},
   "outputs": [
    {
     "data": {
      "text/plain": [
       "<geopy.geocoders.nominatim.Nominatim at 0x7f2884352200>"
      ]
     },
     "execution_count": 4,
     "metadata": {},
     "output_type": "execute_result"
    }
   ],
   "source": [
    "geolocator"
   ]
  },
  {
   "cell_type": "code",
   "execution_count": 5,
   "id": "b8bc1dbd-1724-47da-b0b2-0b917989da26",
   "metadata": {},
   "outputs": [
    {
     "data": {
      "text/plain": [
       "Location(Santa Fe, Zapopan, Jalisco, 45160, México, (20.7136061, -103.3922395, 0.0))"
      ]
     },
     "execution_count": 5,
     "metadata": {},
     "output_type": "execute_result"
    }
   ],
   "source": [
    "address = 'Santa Fe, Zapopan'\n",
    "geolocator.geocode(address)"
   ]
  },
  {
   "cell_type": "code",
   "execution_count": 6,
   "id": "a7b59ccd-a447-4484-9826-f1a8bf9acda6",
   "metadata": {},
   "outputs": [],
   "source": [
    "from difflib import SequenceMatcher\n",
    "\n",
    "def similar(a, b):\n",
    "    return SequenceMatcher(None, a, b).ratio()"
   ]
  },
  {
   "cell_type": "code",
   "execution_count": 7,
   "id": "b65e34bc-8bf9-4090-8644-3eb122b2f8f8",
   "metadata": {},
   "outputs": [],
   "source": [
    "a = 'santa fe'\n",
    "b = 'Santa Fe'\n",
    "c = 'SANTA FE'"
   ]
  },
  {
   "cell_type": "code",
   "execution_count": 8,
   "id": "3a3769b5-140f-49b3-b458-b93a4d14cac2",
   "metadata": {},
   "outputs": [
    {
     "data": {
      "text/plain": [
       "0.125"
      ]
     },
     "execution_count": 8,
     "metadata": {},
     "output_type": "execute_result"
    }
   ],
   "source": [
    "similar(a,c)"
   ]
  },
  {
   "cell_type": "code",
   "execution_count": 6,
   "id": "3fe47b5d-fc3d-46ad-ad06-be7974f4993f",
   "metadata": {
    "tags": []
   },
   "outputs": [
    {
     "data": {
      "text/html": [
       "<div>\n",
       "<style scoped>\n",
       "    .dataframe tbody tr th:only-of-type {\n",
       "        vertical-align: middle;\n",
       "    }\n",
       "\n",
       "    .dataframe tbody tr th {\n",
       "        vertical-align: top;\n",
       "    }\n",
       "\n",
       "    .dataframe thead th {\n",
       "        text-align: right;\n",
       "    }\n",
       "</style>\n",
       "<table border=\"1\" class=\"dataframe\">\n",
       "  <thead>\n",
       "    <tr style=\"text-align: right;\">\n",
       "      <th></th>\n",
       "      <th>Inmueble</th>\n",
       "      <th>Precio</th>\n",
       "      <th>Municipio</th>\n",
       "      <th>Colonia</th>\n",
       "    </tr>\n",
       "  </thead>\n",
       "  <tbody>\n",
       "    <tr>\n",
       "      <th>0</th>\n",
       "      <td>Departamento</td>\n",
       "      <td>6476224</td>\n",
       "      <td>Guadalajara</td>\n",
       "      <td>LADRON DE GUEVARA</td>\n",
       "    </tr>\n",
       "    <tr>\n",
       "      <th>1</th>\n",
       "      <td>Departamento</td>\n",
       "      <td>5390000</td>\n",
       "      <td>Zapopan</td>\n",
       "      <td>CAMINO REAL</td>\n",
       "    </tr>\n",
       "    <tr>\n",
       "      <th>2</th>\n",
       "      <td>Departamento</td>\n",
       "      <td>3677233</td>\n",
       "      <td>Guadalajara</td>\n",
       "      <td>JARDINES DEL BOSQUE</td>\n",
       "    </tr>\n",
       "    <tr>\n",
       "      <th>3</th>\n",
       "      <td>Departamento</td>\n",
       "      <td>7593583</td>\n",
       "      <td>Guadalajara</td>\n",
       "      <td>PROVIDENCIA</td>\n",
       "    </tr>\n",
       "    <tr>\n",
       "      <th>4</th>\n",
       "      <td>Casa</td>\n",
       "      <td>2500000</td>\n",
       "      <td>Zapopan</td>\n",
       "      <td>IXCATAN</td>\n",
       "    </tr>\n",
       "  </tbody>\n",
       "</table>\n",
       "</div>"
      ],
      "text/plain": [
       "       Inmueble   Precio    Municipio              Colonia\n",
       "0  Departamento  6476224  Guadalajara    LADRON DE GUEVARA\n",
       "1  Departamento  5390000      Zapopan          CAMINO REAL\n",
       "2  Departamento  3677233  Guadalajara  JARDINES DEL BOSQUE\n",
       "3  Departamento  7593583  Guadalajara          PROVIDENCIA\n",
       "4          Casa  2500000      Zapopan              IXCATAN"
      ]
     },
     "execution_count": 6,
     "metadata": {},
     "output_type": "execute_result"
    }
   ],
   "source": [
    "import xlrd\n",
    "\n",
    "dir_grl = '../../data/raw/costo_vivienda/'\n",
    "\n",
    "for file in os.listdir(dir_grl):\n",
    "\n",
    "        if file.endswith('.xlsx'):\n",
    "            if file == 'BD_SECTOR_INMOBILIARIO.xlsx':\n",
    "                df = pd.read_excel(dir_grl+file, skiprows=4)\n",
    "                \n",
    "df.head(5)"
   ]
  },
  {
   "cell_type": "code",
   "execution_count": 7,
   "id": "0993e71c-1334-4fec-bb86-2bc94d887c6c",
   "metadata": {},
   "outputs": [
    {
     "data": {
      "text/plain": [
       "array(['Guadalajara', 'Zapopan', 'Tlajomulco', 'El Salto', 'Tlaquepaque',\n",
       "       'Tonalá'], dtype=object)"
      ]
     },
     "execution_count": 7,
     "metadata": {},
     "output_type": "execute_result"
    }
   ],
   "source": [
    "df.Municipio.unique()"
   ]
  },
  {
   "cell_type": "code",
   "execution_count": 10,
   "id": "9341afea-3d26-4d74-b742-957ffe8e7109",
   "metadata": {},
   "outputs": [],
   "source": [
    "idx = df.Colonia.isna()\n",
    "df = df[~idx]\n",
    "colonia = df.iloc[0]['Colonia']\n",
    "municipio = df.iloc[0]['Municipio']"
   ]
  },
  {
   "cell_type": "code",
   "execution_count": 11,
   "id": "2b0e3bb3-ce2b-4a36-8411-3b84b27c0269",
   "metadata": {},
   "outputs": [
    {
     "data": {
      "text/plain": [
       "'Guadalajara'"
      ]
     },
     "execution_count": 11,
     "metadata": {},
     "output_type": "execute_result"
    }
   ],
   "source": [
    "municipio"
   ]
  },
  {
   "cell_type": "code",
   "execution_count": 12,
   "id": "1298c0e8-221a-46b8-8fc4-ccc283dbe89e",
   "metadata": {},
   "outputs": [
    {
     "data": {
      "text/plain": [
       "Location(Ladrón de Guevara, Guadalajara, Jalisco, 44158, México, (20.6760789, -103.3779083, 0.0))"
      ]
     },
     "execution_count": 12,
     "metadata": {},
     "output_type": "execute_result"
    }
   ],
   "source": [
    "address = colonia + ', '+ municipio\n",
    "geocode = geolocator.geocode(address)\n",
    "geocode"
   ]
  },
  {
   "cell_type": "code",
   "execution_count": 13,
   "id": "4e5645c9-0bb5-454d-8ca5-5dc0cb91621e",
   "metadata": {},
   "outputs": [
    {
     "data": {
      "text/plain": [
       "20.6760789"
      ]
     },
     "execution_count": 13,
     "metadata": {},
     "output_type": "execute_result"
    }
   ],
   "source": [
    "geocode[1][0]"
   ]
  },
  {
   "cell_type": "code",
   "execution_count": 14,
   "id": "41452f56-77c0-46b8-9e5f-212cbcdcdb3a",
   "metadata": {
    "tags": []
   },
   "outputs": [],
   "source": [
    "import numpy as np\n",
    "\n",
    "df_test = df.iloc[:10].copy()\n",
    "\n",
    "df['x'] = np.nan\n",
    "df['y'] = np.nan\n",
    "\n",
    "for i in range(len(df_test)):\n",
    "    colonia = df_test.iloc[i]['Colonia']\n",
    "    municipio = df_test.iloc[i]['Municipio']\n",
    "    address = colonia + ', '+ municipio\n",
    "    geocode = geolocator.geocode(address)\n",
    "    \n",
    "    if geocode is not None:\n",
    "        x,y = geocode[1][1], geocode[1][0]\n",
    "        df_test.loc[i,'x'] = x\n",
    "        df_test.loc[i,'y'] = y"
   ]
  },
  {
   "cell_type": "code",
   "execution_count": 15,
   "id": "1130f557-d555-4864-a7c8-3b9d98d64508",
   "metadata": {},
   "outputs": [],
   "source": [
    "from shapely.geometry import Point\n",
    "\n",
    "point_dict = {'geometry':[Point(x,y)]}\n",
    "point_tmp = gpd.GeoDataFrame(\n",
    "    pd.DataFrame.from_dict(point_dict), \n",
    "    geometry='geometry').set_crs(\"EPSG:4326\")\n",
    "buffer = point_tmp.to_crs(\"EPSG:6372\").buffer(1500)\n",
    "buffer = gpd.GeoDataFrame(buffer.to_crs(\"EPSG:4326\"))\n",
    "buffer.rename(columns={0:'geometry'}, inplace=True)"
   ]
  },
  {
   "cell_type": "code",
   "execution_count": 16,
   "id": "3f4e2813-99d1-4cbc-992c-883a89162e02",
   "metadata": {},
   "outputs": [
    {
     "name": "stdout",
     "output_type": "stream",
     "text": [
      "(2324, 10)\n"
     ]
    },
    {
     "data": {
      "text/html": [
       "<div>\n",
       "<style scoped>\n",
       "    .dataframe tbody tr th:only-of-type {\n",
       "        vertical-align: middle;\n",
       "    }\n",
       "\n",
       "    .dataframe tbody tr th {\n",
       "        vertical-align: top;\n",
       "    }\n",
       "\n",
       "    .dataframe thead th {\n",
       "        text-align: right;\n",
       "    }\n",
       "</style>\n",
       "<table border=\"1\" class=\"dataframe\">\n",
       "  <thead>\n",
       "    <tr style=\"text-align: right;\">\n",
       "      <th></th>\n",
       "      <th>ID</th>\n",
       "      <th>ENTIDAD</th>\n",
       "      <th>MUNICIPIO</th>\n",
       "      <th>NOMBRE</th>\n",
       "      <th>CLASIFICAC</th>\n",
       "      <th>CP</th>\n",
       "      <th>OTROS_CP</th>\n",
       "      <th>CONTROL</th>\n",
       "      <th>Geometry1_</th>\n",
       "      <th>geometry</th>\n",
       "    </tr>\n",
       "  </thead>\n",
       "  <tbody>\n",
       "    <tr>\n",
       "      <th>0</th>\n",
       "      <td>1</td>\n",
       "      <td>14</td>\n",
       "      <td>41</td>\n",
       "      <td>LOMAS INDEPENDENCIA</td>\n",
       "      <td>1</td>\n",
       "      <td>44370</td>\n",
       "      <td>None</td>\n",
       "      <td>1</td>\n",
       "      <td>1=X&lt;rg</td>\n",
       "      <td>MULTIPOLYGON (((-103.32323 20.69386, -103.3226...</td>\n",
       "    </tr>\n",
       "    <tr>\n",
       "      <th>1</th>\n",
       "      <td>2</td>\n",
       "      <td>14</td>\n",
       "      <td>41</td>\n",
       "      <td>POSTES CUATES</td>\n",
       "      <td>2</td>\n",
       "      <td>44350</td>\n",
       "      <td>None</td>\n",
       "      <td>2</td>\n",
       "      <td>1=X&lt;rg</td>\n",
       "      <td>MULTIPOLYGON (((-103.32296 20.69387, -103.3228...</td>\n",
       "    </tr>\n",
       "  </tbody>\n",
       "</table>\n",
       "</div>"
      ],
      "text/plain": [
       "   ID  ENTIDAD  MUNICIPIO               NOMBRE  CLASIFICAC     CP OTROS_CP  \\\n",
       "0   1       14         41  LOMAS INDEPENDENCIA           1  44370     None   \n",
       "1   2       14         41        POSTES CUATES           2  44350     None   \n",
       "\n",
       "   CONTROL Geometry1_                                           geometry  \n",
       "0        1     1=X<rg  MULTIPOLYGON (((-103.32323 20.69386, -103.3226...  \n",
       "1        2     1=X<rg  MULTIPOLYGON (((-103.32296 20.69387, -103.3228...  "
      ]
     },
     "execution_count": 16,
     "metadata": {},
     "output_type": "execute_result"
    }
   ],
   "source": [
    "dir_grl = '../../data/external/colonia_amg/'\n",
    "colonias = gpd.read_file(dir_grl+'colonias_amg.geojson', driver='GeoJSON')\n",
    "print(colonias.shape)\n",
    "colonias.head(2)"
   ]
  },
  {
   "cell_type": "code",
   "execution_count": 17,
   "id": "2a238d08-80d7-4fa2-a365-b4b4ba69b905",
   "metadata": {},
   "outputs": [
    {
     "data": {
      "text/html": [
       "<div>\n",
       "<style scoped>\n",
       "    .dataframe tbody tr th:only-of-type {\n",
       "        vertical-align: middle;\n",
       "    }\n",
       "\n",
       "    .dataframe tbody tr th {\n",
       "        vertical-align: top;\n",
       "    }\n",
       "\n",
       "    .dataframe thead th {\n",
       "        text-align: right;\n",
       "    }\n",
       "</style>\n",
       "<table border=\"1\" class=\"dataframe\">\n",
       "  <thead>\n",
       "    <tr style=\"text-align: right;\">\n",
       "      <th></th>\n",
       "      <th>geometry</th>\n",
       "      <th>index_right</th>\n",
       "      <th>ID</th>\n",
       "      <th>ENTIDAD</th>\n",
       "      <th>MUNICIPIO</th>\n",
       "      <th>NOMBRE</th>\n",
       "      <th>CLASIFICAC</th>\n",
       "      <th>CP</th>\n",
       "      <th>OTROS_CP</th>\n",
       "      <th>CONTROL</th>\n",
       "      <th>Geometry1_</th>\n",
       "    </tr>\n",
       "  </thead>\n",
       "  <tbody>\n",
       "    <tr>\n",
       "      <th>0</th>\n",
       "      <td>POLYGON ((-103.40471 20.71782, -103.40477 20.7...</td>\n",
       "      <td>1686</td>\n",
       "      <td>3648</td>\n",
       "      <td>14</td>\n",
       "      <td>120</td>\n",
       "      <td>SANTA ISABEL</td>\n",
       "      <td>1</td>\n",
       "      <td>45110</td>\n",
       "      <td>None</td>\n",
       "      <td>133</td>\n",
       "      <td>1=X&lt;Ks</td>\n",
       "    </tr>\n",
       "    <tr>\n",
       "      <th>0</th>\n",
       "      <td>POLYGON ((-103.40471 20.71782, -103.40477 20.7...</td>\n",
       "      <td>745</td>\n",
       "      <td>1377</td>\n",
       "      <td>14</td>\n",
       "      <td>120</td>\n",
       "      <td>EL PRADO</td>\n",
       "      <td>2</td>\n",
       "      <td>45118</td>\n",
       "      <td>None</td>\n",
       "      <td>1683</td>\n",
       "      <td>1=X&lt;KT,</td>\n",
       "    </tr>\n",
       "    <tr>\n",
       "      <th>0</th>\n",
       "      <td>POLYGON ((-103.40471 20.71782, -103.40477 20.7...</td>\n",
       "      <td>747</td>\n",
       "      <td>1379</td>\n",
       "      <td>14</td>\n",
       "      <td>120</td>\n",
       "      <td>LOMAS DEL BOSQUE</td>\n",
       "      <td>2</td>\n",
       "      <td>45118</td>\n",
       "      <td>None</td>\n",
       "      <td>1685</td>\n",
       "      <td>1=X&lt;KT,</td>\n",
       "    </tr>\n",
       "    <tr>\n",
       "      <th>0</th>\n",
       "      <td>POLYGON ((-103.40471 20.71782, -103.40477 20.7...</td>\n",
       "      <td>1395</td>\n",
       "      <td>3111</td>\n",
       "      <td>14</td>\n",
       "      <td>120</td>\n",
       "      <td>PONTEVEDRA</td>\n",
       "      <td>23</td>\n",
       "      <td>45116</td>\n",
       "      <td>None</td>\n",
       "      <td>5001</td>\n",
       "      <td>1=X&lt;Ks</td>\n",
       "    </tr>\n",
       "  </tbody>\n",
       "</table>\n",
       "</div>"
      ],
      "text/plain": [
       "                                            geometry  index_right    ID  \\\n",
       "0  POLYGON ((-103.40471 20.71782, -103.40477 20.7...         1686  3648   \n",
       "0  POLYGON ((-103.40471 20.71782, -103.40477 20.7...          745  1377   \n",
       "0  POLYGON ((-103.40471 20.71782, -103.40477 20.7...          747  1379   \n",
       "0  POLYGON ((-103.40471 20.71782, -103.40477 20.7...         1395  3111   \n",
       "\n",
       "   ENTIDAD  MUNICIPIO            NOMBRE  CLASIFICAC     CP OTROS_CP  CONTROL  \\\n",
       "0       14        120      SANTA ISABEL           1  45110     None      133   \n",
       "0       14        120          EL PRADO           2  45118     None     1683   \n",
       "0       14        120  LOMAS DEL BOSQUE           2  45118     None     1685   \n",
       "0       14        120        PONTEVEDRA          23  45116     None     5001   \n",
       "\n",
       "  Geometry1_  \n",
       "0     1=X<Ks  \n",
       "0    1=X<KT,  \n",
       "0    1=X<KT,  \n",
       "0     1=X<Ks  "
      ]
     },
     "execution_count": 17,
     "metadata": {},
     "output_type": "execute_result"
    }
   ],
   "source": [
    "buffer_colonias = gpd.sjoin(buffer, colonias)\n",
    "buffer_colonias.head(4)"
   ]
  },
  {
   "cell_type": "code",
   "execution_count": 19,
   "id": "0b0ca220-e6ea-4b09-8931-9fe6a622ff9f",
   "metadata": {},
   "outputs": [
    {
     "data": {
      "text/plain": [
       "'puerta de hierro'"
      ]
     },
     "execution_count": 19,
     "metadata": {},
     "output_type": "execute_result"
    }
   ],
   "source": [
    "colonia.lower()"
   ]
  },
  {
   "cell_type": "code",
   "execution_count": 18,
   "id": "fea8c1b2-a51f-4580-a43b-05fa7c9be8c3",
   "metadata": {},
   "outputs": [
    {
     "data": {
      "text/html": [
       "<div>\n",
       "<style scoped>\n",
       "    .dataframe tbody tr th:only-of-type {\n",
       "        vertical-align: middle;\n",
       "    }\n",
       "\n",
       "    .dataframe tbody tr th {\n",
       "        vertical-align: top;\n",
       "    }\n",
       "\n",
       "    .dataframe thead th {\n",
       "        text-align: right;\n",
       "    }\n",
       "</style>\n",
       "<table border=\"1\" class=\"dataframe\">\n",
       "  <thead>\n",
       "    <tr style=\"text-align: right;\">\n",
       "      <th></th>\n",
       "      <th>geometry</th>\n",
       "      <th>index_right</th>\n",
       "      <th>ID</th>\n",
       "      <th>ENTIDAD</th>\n",
       "      <th>MUNICIPIO</th>\n",
       "      <th>NOMBRE</th>\n",
       "      <th>CLASIFICAC</th>\n",
       "      <th>CP</th>\n",
       "      <th>OTROS_CP</th>\n",
       "      <th>CONTROL</th>\n",
       "      <th>Geometry1_</th>\n",
       "    </tr>\n",
       "  </thead>\n",
       "  <tbody>\n",
       "    <tr>\n",
       "      <th>0</th>\n",
       "      <td>POINT (-103.41917 20.71769)</td>\n",
       "      <td>1689</td>\n",
       "      <td>3651</td>\n",
       "      <td>14</td>\n",
       "      <td>120</td>\n",
       "      <td>puerta de hierro</td>\n",
       "      <td>2</td>\n",
       "      <td>45116</td>\n",
       "      <td>None</td>\n",
       "      <td>12047</td>\n",
       "      <td>1=X&lt;Ks</td>\n",
       "    </tr>\n",
       "  </tbody>\n",
       "</table>\n",
       "</div>"
      ],
      "text/plain": [
       "                      geometry  index_right    ID  ENTIDAD  MUNICIPIO  \\\n",
       "0  POINT (-103.41917 20.71769)         1689  3651       14        120   \n",
       "\n",
       "             NOMBRE  CLASIFICAC     CP OTROS_CP  CONTROL Geometry1_  \n",
       "0  puerta de hierro           2  45116     None    12047     1=X<Ks  "
      ]
     },
     "execution_count": 18,
     "metadata": {},
     "output_type": "execute_result"
    }
   ],
   "source": [
    "point_colonia = gpd.sjoin(point_tmp, colonias)\n",
    "point_colonia['NOMBRE'] = point_colonia['NOMBRE'].apply(lambda x: x.lower())\n",
    "point_colonia.head(4)"
   ]
  },
  {
   "cell_type": "code",
   "execution_count": 20,
   "id": "cb83dfdd-6250-4008-bdc2-466c5992aba0",
   "metadata": {},
   "outputs": [],
   "source": [
    "buffer_colonias['NOMBRE'] = buffer_colonias['NOMBRE'].apply(lambda x: x.lower())"
   ]
  },
  {
   "cell_type": "code",
   "execution_count": 21,
   "id": "6fb0a49d-890a-4d93-bf6c-b4175c8ee4ed",
   "metadata": {},
   "outputs": [],
   "source": [
    "buffer_colonias['similarity'] = buffer_colonias['NOMBRE'].apply(lambda x: similar(colonia.lower(), x))"
   ]
  },
  {
   "cell_type": "code",
   "execution_count": 35,
   "id": "2979d42c-44af-43e1-b578-86aae95cd047",
   "metadata": {},
   "outputs": [
    {
     "data": {
      "text/html": [
       "<div>\n",
       "<style scoped>\n",
       "    .dataframe tbody tr th:only-of-type {\n",
       "        vertical-align: middle;\n",
       "    }\n",
       "\n",
       "    .dataframe tbody tr th {\n",
       "        vertical-align: top;\n",
       "    }\n",
       "\n",
       "    .dataframe thead th {\n",
       "        text-align: right;\n",
       "    }\n",
       "</style>\n",
       "<table border=\"1\" class=\"dataframe\">\n",
       "  <thead>\n",
       "    <tr style=\"text-align: right;\">\n",
       "      <th></th>\n",
       "      <th>geometry</th>\n",
       "      <th>index_right</th>\n",
       "      <th>ID</th>\n",
       "      <th>ENTIDAD</th>\n",
       "      <th>MUNICIPIO</th>\n",
       "      <th>NOMBRE</th>\n",
       "      <th>CLASIFICAC</th>\n",
       "      <th>CP</th>\n",
       "      <th>OTROS_CP</th>\n",
       "      <th>CONTROL</th>\n",
       "      <th>Geometry1_</th>\n",
       "      <th>similarity</th>\n",
       "    </tr>\n",
       "  </thead>\n",
       "  <tbody>\n",
       "    <tr>\n",
       "      <th>0</th>\n",
       "      <td>POLYGON ((-103.40471 20.71782, -103.40477 20.7...</td>\n",
       "      <td>1689</td>\n",
       "      <td>3651</td>\n",
       "      <td>14</td>\n",
       "      <td>120</td>\n",
       "      <td>puerta de hierro</td>\n",
       "      <td>2</td>\n",
       "      <td>45116</td>\n",
       "      <td>None</td>\n",
       "      <td>12047</td>\n",
       "      <td>1=X&lt;Ks</td>\n",
       "      <td>1.000000</td>\n",
       "    </tr>\n",
       "    <tr>\n",
       "      <th>1</th>\n",
       "      <td>POLYGON ((-103.40471 20.71782, -103.40477 20.7...</td>\n",
       "      <td>1167</td>\n",
       "      <td>2672</td>\n",
       "      <td>14</td>\n",
       "      <td>120</td>\n",
       "      <td>puerta del valle</td>\n",
       "      <td>2</td>\n",
       "      <td>45140</td>\n",
       "      <td>None</td>\n",
       "      <td>4134</td>\n",
       "      <td>1=X&lt;Kt5</td>\n",
       "      <td>0.687500</td>\n",
       "    </tr>\n",
       "    <tr>\n",
       "      <th>2</th>\n",
       "      <td>POLYGON ((-103.40471 20.71782, -103.40477 20.7...</td>\n",
       "      <td>1068</td>\n",
       "      <td>2394</td>\n",
       "      <td>14</td>\n",
       "      <td>120</td>\n",
       "      <td>puerta de plata</td>\n",
       "      <td>2</td>\n",
       "      <td>45116</td>\n",
       "      <td>None</td>\n",
       "      <td>3710</td>\n",
       "      <td>1=X&lt;Kt&gt;</td>\n",
       "      <td>0.645161</td>\n",
       "    </tr>\n",
       "  </tbody>\n",
       "</table>\n",
       "</div>"
      ],
      "text/plain": [
       "                                            geometry  index_right    ID  \\\n",
       "0  POLYGON ((-103.40471 20.71782, -103.40477 20.7...         1689  3651   \n",
       "1  POLYGON ((-103.40471 20.71782, -103.40477 20.7...         1167  2672   \n",
       "2  POLYGON ((-103.40471 20.71782, -103.40477 20.7...         1068  2394   \n",
       "\n",
       "   ENTIDAD  MUNICIPIO            NOMBRE  CLASIFICAC     CP OTROS_CP  CONTROL  \\\n",
       "0       14        120  puerta de hierro           2  45116     None    12047   \n",
       "1       14        120  puerta del valle           2  45140     None     4134   \n",
       "2       14        120   puerta de plata           2  45116     None     3710   \n",
       "\n",
       "  Geometry1_  similarity  \n",
       "0     1=X<Ks    1.000000  \n",
       "1    1=X<Kt5    0.687500  \n",
       "2    1=X<Kt>    0.645161  "
      ]
     },
     "execution_count": 35,
     "metadata": {},
     "output_type": "execute_result"
    }
   ],
   "source": [
    "buffer_similar = buffer_colonias.sort_values('similarity', ascending=False).iloc[:3]\n",
    "buffer_similar.reset_index(drop=True, inplace=True)\n",
    "buffer_similar"
   ]
  },
  {
   "cell_type": "code",
   "execution_count": 23,
   "id": "2ba48ee7-340b-4fab-bb66-576dfea39d87",
   "metadata": {},
   "outputs": [
    {
     "data": {
      "text/plain": [
       "1.0"
      ]
     },
     "execution_count": 23,
     "metadata": {},
     "output_type": "execute_result"
    }
   ],
   "source": [
    "point_similairty = similar(colonia.lower(), point_colonia.NOMBRE[0])\n",
    "point_similairty"
   ]
  },
  {
   "cell_type": "code",
   "execution_count": 37,
   "id": "bd76ed0f-47a1-420e-9b5e-7a5d0c9473fa",
   "metadata": {},
   "outputs": [
    {
     "name": "stdout",
     "output_type": "stream",
     "text": [
      "puerta de hierro ['puerta de hierro', 'puerta de hierro', 'puerta del valle', 'puerta de plata']\n"
     ]
    },
    {
     "name": "stdin",
     "output_type": "stream",
     "text": [
      "Select, 0,1,2,3 or None 1\n"
     ]
    },
    {
     "name": "stdout",
     "output_type": "stream",
     "text": [
      "puerta de hierro\n"
     ]
    }
   ],
   "source": [
    "point_similairty = 0\n",
    "if point_similairty >= buffer_colonias.similarity.max():\n",
    "    id_colonia = point_colonia.iloc[0].ID\n",
    "    print('here')\n",
    "else:\n",
    "    options = [x for x in buffer_similar.NOMBRE]\n",
    "    options = [point_colonia.NOMBRE[0]] + options\n",
    "    print(colonia.lower(), options)\n",
    "    user_selection = input('Select, 0,1,2,3 or None')\n",
    "    if user_selection != 'None':\n",
    "        id_colonia = point_colonia.iloc[int(user_selection)-1].ID\n",
    "        print(options[int(user_selection)])"
   ]
  },
  {
   "cell_type": "code",
   "execution_count": 40,
   "id": "715b346a-4508-47af-b402-8651a93d130b",
   "metadata": {},
   "outputs": [],
   "source": [
    "colonia = colonias.loc[colonias.ID==id_colonia,['ID','geometry']]\n",
    "point_within_polygon = gpd.GeoDataFrame(geometry=colonia.representative_point())"
   ]
  },
  {
   "cell_type": "code",
   "execution_count": 42,
   "id": "3e3c84ba-87a6-4ff0-a7eb-e4f83752a54e",
   "metadata": {},
   "outputs": [],
   "source": [
    "colonia = colonia.to_crs(\"EPSG:6372\")\n",
    "colonia = colonia.buffer(1).reset_index().rename(columns={0: \"geometry\"})\n",
    "colonia = colonia.to_crs(\"EPSG:4326\")\n",
    "poly_wkt = colonia.dissolve().geometry.to_wkt()[0]"
   ]
  },
  {
   "cell_type": "code",
   "execution_count": 44,
   "id": "40b25979-4732-4247-84d6-232bf2765b43",
   "metadata": {},
   "outputs": [],
   "source": [
    "schema = 'censo'\n",
    "folder = 'censo_mza_centroid_2020'\n",
    "query = f\"SELECT cvegeo, geometry FROM {schema}.{folder} WHERE ST_Intersects(geometry, 'SRID=4326;{poly_wkt}')\"\n",
    "colonia_blocks = aup.gdf_from_query(query, geometry_col=\"geometry\")"
   ]
  },
  {
   "cell_type": "code",
   "execution_count": 60,
   "id": "db12061b-4910-4fa1-b6d2-dea693618812",
   "metadata": {},
   "outputs": [
    {
     "data": {
      "text/plain": [
       "20.713033037492185"
      ]
     },
     "execution_count": 60,
     "metadata": {},
     "output_type": "execute_result"
    }
   ],
   "source": [
    "x = colonia_blocks.sample(1).geometry.x.values[0]\n",
    "y = colonia_blocks.sample(1).geometry.y.values[0]\n",
    "\n",
    "y\n"
   ]
  },
  {
   "cell_type": "code",
   "execution_count": 47,
   "id": "a1b25df1-5700-4f49-b08d-0c6bef49d30b",
   "metadata": {},
   "outputs": [
    {
     "data": {
      "text/plain": [
       "<AxesSubplot:>"
      ]
     },
     "execution_count": 47,
     "metadata": {},
     "output_type": "execute_result"
    },
    {
     "data": {
      "image/png": "[encoded data removed]",
      "text/plain": [
       "<Figure size 432x288 with 1 Axes>"
      ]
     },
     "metadata": {
      "needs_background": "light"
     },
     "output_type": "display_data"
    }
   ],
   "source": [
    "colonia_blocks.plot()"
   ]
  },
  {
   "cell_type": "code",
   "execution_count": 35,
   "id": "63d10277-e740-486d-ab41-1d94a83642d6",
   "metadata": {},
   "outputs": [
    {
     "data": {
      "text/plain": [
       "nan"
      ]
     },
     "execution_count": 35,
     "metadata": {},
     "output_type": "execute_result"
    }
   ],
   "source": [
    "# crea centroide de la colonia\n",
    "# descarga manzanas de la base de datos y asigna el punto de forma aleatoria\n",
    "# extrae centroide de la manzana seleccionada\n",
    "# crea geometría y la carga a la tabla"
   ]
  },
  {
   "cell_type": "markdown",
   "id": "b66e731b-987c-4643-8743-27cf1e7a94e3",
   "metadata": {},
   "source": [
    "## Putting it all together"
   ]
  },
  {
   "cell_type": "code",
   "execution_count": 2,
   "id": "08f08622-fcfb-46fd-bcbd-8e1ba524497b",
   "metadata": {},
   "outputs": [],
   "source": [
    "user_agent = 'user_me_{}'.format(randint(10000,99999))\n",
    "geolocator = Nominatim(user_agent=user_agent)"
   ]
  },
  {
   "cell_type": "code",
   "execution_count": 3,
   "id": "25aaee87-f97f-4e2b-bd6a-115d6e62ffed",
   "metadata": {},
   "outputs": [],
   "source": [
    "dir_grl = '../../data/raw/costo_vivienda/'\n",
    "\n",
    "for file in os.listdir(dir_grl):\n",
    "\n",
    "        if file.endswith('.xlsx'):\n",
    "            if file == 'BD_SECTOR_INMOBILIARIO.xlsx':\n",
    "                df = pd.read_excel(dir_grl+file, skiprows=4)\n",
    "\n",
    "# abre gdf de colonias                \n",
    "dir_grl = '../../data/external/colonia_amg/'\n",
    "colonias = gpd.read_file(dir_grl+'colonias_amg.geojson', driver='GeoJSON')\n",
    "colonias['NOMBRE'] = colonias['NOMBRE'].apply(lambda x: x.lower())"
   ]
  },
  {
   "cell_type": "code",
   "execution_count": 4,
   "id": "bd6b81e1-0096-466b-b186-9e5a9919d623",
   "metadata": {},
   "outputs": [],
   "source": [
    "idx = df.Colonia.isna()\n",
    "df = df[~idx]\n",
    "\n",
    "# crea las columnas para guardar coordenadas de la venta\n",
    "df['x'] = np.nan\n",
    "df['y'] = np.nan"
   ]
  },
  {
   "cell_type": "code",
   "execution_count": 5,
   "id": "231ad1cb-6093-49cf-b514-ad28246a8113",
   "metadata": {},
   "outputs": [],
   "source": [
    "mun_dict = {'zapopan':120,\n",
    "           'guadalajara':41,\n",
    "           'tlaquepaque':99,\n",
    "           'tonalá':102,\n",
    "           'el salto':72,\n",
    "           'zapotlanejo':124,\n",
    "           'juanacatlán':53,\n",
    "           'ixtlahuacán':46,\n",
    "           'tlajomulco':98}"
   ]
  },
  {
   "cell_type": "code",
   "execution_count": 6,
   "id": "76b2d2a6-cd10-4f59-8a91-c74789aba329",
   "metadata": {},
   "outputs": [],
   "source": [
    "\n",
    "def similar(a, b):\n",
    "    return SequenceMatcher(None, a, b).ratio()"
   ]
  },
  {
   "cell_type": "code",
   "execution_count": 31,
   "id": "7b1c41fc-5bab-4d7f-8632-88ae662395b5",
   "metadata": {
    "collapsed": true,
    "jupyter": {
     "outputs_hidden": true,
     "source_hidden": true
    },
    "tags": []
   },
   "outputs": [
    {
     "name": "stderr",
     "output_type": "stream",
     "text": [
      "  0%|                                                                                                                                              | 5/9601 [00:11<6:17:59,  2.36s/it]"
     ]
    },
    {
     "name": "stdout",
     "output_type": "stream",
     "text": [
      "cima real ['colinas del rey', 'hacienda del valle', 'la cima', 'colinas del rey']\n"
     ]
    },
    {
     "name": "stdin",
     "output_type": "stream",
     "text": [
      "Select: 0 for point value or: 1,2,3 for buffer values or None to skip None\n"
     ]
    },
    {
     "name": "stderr",
     "output_type": "stream",
     "text": [
      "  0%|▏                                                                                                                                            | 15/9601 [00:42<6:46:37,  2.55s/it]"
     ]
    },
    {
     "name": "stdout",
     "output_type": "stream",
     "text": [
      "los pinos ['santa ana tepetitlan', 'villas perisur', 'lomas del fortin', 'el fortin']\n"
     ]
    },
    {
     "name": "stdin",
     "output_type": "stream",
     "text": [
      "Select: 0 for point value or: 1,2,3 for buffer values or None to skip None\n"
     ]
    },
    {
     "name": "stderr",
     "output_type": "stream",
     "text": [
      "  0%|▏                                                                                                                                           | 16/9601 [00:52<12:13:04,  4.59s/it]"
     ]
    },
    {
     "name": "stdout",
     "output_type": "stream",
     "text": [
      "los pinos ['santa ana tepetitlan', 'villas perisur', 'lomas del fortin', 'el fortin']\n"
     ]
    },
    {
     "name": "stdin",
     "output_type": "stream",
     "text": [
      "Select: 0 for point value or: 1,2,3 for buffer values or None to skip None\n"
     ]
    },
    {
     "name": "stderr",
     "output_type": "stream",
     "text": [
      "  0%|▎                                                                                                                                           | 24/9601 [03:49<15:28:05,  5.81s/it]"
     ]
    },
    {
     "name": "stdout",
     "output_type": "stream",
     "text": [
      "bosques de santa anita ['condominio campo de golf santa anita', 'arbolada bosques de santa anita', 'real de santa anita', 'villas de santa anita']\n"
     ]
    },
    {
     "name": "stdin",
     "output_type": "stream",
     "text": [
      "Select: 0 for point value or: 1,2,3 for buffer values or None to skip 1\n"
     ]
    },
    {
     "name": "stderr",
     "output_type": "stream",
     "text": [
      "  0%|▍                                                                                                                                           | 26/9601 [04:03<15:47:34,  5.94s/it]"
     ]
    },
    {
     "name": "stdout",
     "output_type": "stream",
     "text": [
      "bosques de san isidro (las cañadas) ['bosques de san isidro (las ca�adas)', 'bosques de san isidro (las ca�adas)', 'lomas del centinela', 'canteras del centinela']\n"
     ]
    },
    {
     "name": "stdin",
     "output_type": "stream",
     "text": [
      "Select: 0 for point value or: 1,2,3 for buffer values or None to skip 0\n"
     ]
    },
    {
     "name": "stderr",
     "output_type": "stream",
     "text": [
      "  0%|▍                                                                                                                                           | 29/9601 [04:46<23:44:24,  8.93s/it]"
     ]
    },
    {
     "name": "stdout",
     "output_type": "stream",
     "text": [
      "mirador del bosque ['fraccionamiento mirador del bosque', 'fraccionamiento mirador del bosque', 'fraccionamiento albaterra']\n"
     ]
    },
    {
     "name": "stdin",
     "output_type": "stream",
     "text": [
      "Select: 0 for point value or: 1,2,3 for buffer values or None to skip 0\n"
     ]
    },
    {
     "name": "stderr",
     "output_type": "stream",
     "text": [
      "  0%|▌                                                                                                                                            | 39/9601 [05:13<7:02:09,  2.65s/it]"
     ]
    },
    {
     "name": "stdout",
     "output_type": "stream",
     "text": [
      "felipe angeles ['centro', 'laureles', 'el pedregal', 'mesa de los laureles']\n"
     ]
    },
    {
     "name": "stdin",
     "output_type": "stream",
     "text": [
      "Select: 0 for point value or: 1,2,3 for buffer values or None to skip None\n"
     ]
    },
    {
     "name": "stderr",
     "output_type": "stream",
     "text": [
      "  1%|▋                                                                                                                                            | 49/9601 [05:38<5:56:56,  2.24s/it]"
     ]
    },
    {
     "name": "stdout",
     "output_type": "stream",
     "text": [
      "ciudad aztlan ['tonala centro', 'la guadalupana', 'colinas de altamira', 'la alberca']\n"
     ]
    },
    {
     "name": "stdin",
     "output_type": "stream",
     "text": [
      "Select: 0 for point value or: 1,2,3 for buffer values or None to skip None\n"
     ]
    },
    {
     "name": "stderr",
     "output_type": "stream",
     "text": [
      "  1%|█▎                                                                                                                                           | 92/9601 [07:21<6:13:29,  2.36s/it]"
     ]
    },
    {
     "name": "stdout",
     "output_type": "stream",
     "text": [
      "san diego ['la purisima', 'los ciruelos', 'los ciruelos', 'silos']\n"
     ]
    },
    {
     "name": "stdin",
     "output_type": "stream",
     "text": [
      "Select: 0 for point value or: 1,2,3 for buffer values or None to skip None\n"
     ]
    },
    {
     "name": "stderr",
     "output_type": "stream",
     "text": [
      "  1%|█▋                                                                                                                                          | 114/9601 [08:37<5:35:22,  2.12s/it]"
     ]
    },
    {
     "name": "stdout",
     "output_type": "stream",
     "text": [
      "centro ['arroyo seco', 'san arturo', 'el mante', 'santa maria']\n"
     ]
    },
    {
     "name": "stdin",
     "output_type": "stream",
     "text": [
      "Select: 0 for point value or: 1,2,3 for buffer values or None to skip None\n"
     ]
    },
    {
     "name": "stderr",
     "output_type": "stream",
     "text": [
      "  1%|█▌                                                                                                                                   | 116/9601 [4:16:55<8245:50:12, 3129.68s/it]"
     ]
    },
    {
     "name": "stdout",
     "output_type": "stream",
     "text": [
      "horizontes de tlaquepaque ['horizonte el tapatio', 'horizonte el tapatio', 'jardines del tapatio', 'paisajes del tapatio']\n"
     ]
    },
    {
     "name": "stdin",
     "output_type": "stream",
     "text": [
      "Select: 0 for point value or: 1,2,3 for buffer values or None to skip None\n"
     ]
    },
    {
     "name": "stderr",
     "output_type": "stream",
     "text": [
      "  1%|█▊                                                                                                                                       | 131/9601 [4:17:38<45:10:47, 17.17s/it]"
     ]
    },
    {
     "name": "stdout",
     "output_type": "stream",
     "text": [
      "felipe angeles ['centro', 'laureles', 'el pedregal', 'mesa de los laureles']\n"
     ]
    },
    {
     "name": "stdin",
     "output_type": "stream",
     "text": [
      "Select: 0 for point value or: 1,2,3 for buffer values or None to skip None\n"
     ]
    },
    {
     "name": "stderr",
     "output_type": "stream",
     "text": [
      "  1%|██                                                                                                                                        | 140/9601 [4:18:36<9:15:39,  3.52s/it]"
     ]
    },
    {
     "name": "stdout",
     "output_type": "stream",
     "text": [
      "la purisima ['hacienda santa fe', 'las luces', 'la concha jardin residencial', 'geovillas la arbolada']\n"
     ]
    },
    {
     "name": "stdin",
     "output_type": "stream",
     "text": [
      "Select: 0 for point value or: 1,2,3 for buffer values or None to skip None\n"
     ]
    },
    {
     "name": "stderr",
     "output_type": "stream",
     "text": [
      "  2%|██▏                                                                                                                                       | 154/9601 [4:20:11<5:31:21,  2.10s/it]"
     ]
    },
    {
     "name": "stdout",
     "output_type": "stream",
     "text": [
      "francisco silva romero ['la soledad', 'san francisco', 'paseos del valle', 'brisas del nilo']\n"
     ]
    },
    {
     "name": "stdin",
     "output_type": "stream",
     "text": [
      "Select: 0 for point value or: 1,2,3 for buffer values or None to skip None\n"
     ]
    },
    {
     "name": "stderr",
     "output_type": "stream",
     "text": [
      "  2%|██▏                                                                                                                                      | 156/9601 [4:21:07<33:39:10, 12.83s/it]"
     ]
    },
    {
     "name": "stdout",
     "output_type": "stream",
     "text": [
      "prados de la cañada ['prados de la ca�ada', 'prados de la ca�ada', 'san francisco de la soledad', 'san francisco de la soledad']\n"
     ]
    },
    {
     "name": "stdin",
     "output_type": "stream",
     "text": [
      "Select: 0 for point value or: 1,2,3 for buffer values or None to skip 0\n"
     ]
    },
    {
     "name": "stderr",
     "output_type": "stream",
     "text": [
      "  2%|██▍                                                                                                                                       | 167/9601 [4:21:30<4:25:03,  1.69s/it]"
     ]
    },
    {
     "name": "stdout",
     "output_type": "stream",
     "text": [
      "de san martin ['san martin de las flores de arriba', 'bosques de san martin', 'lomas de san pedrito', 'san pedrito']\n"
     ]
    },
    {
     "name": "stdin",
     "output_type": "stream",
     "text": [
      "Select: 0 for point value or: 1,2,3 for buffer values or None to skip 0\n"
     ]
    },
    {
     "name": "stderr",
     "output_type": "stream",
     "text": [
      "  2%|██▌                                                                                                                                       | 180/9601 [4:22:33<6:17:28,  2.40s/it]"
     ]
    },
    {
     "name": "stdout",
     "output_type": "stream",
     "text": [
      "san diego ['la purisima', 'los ciruelos', 'los ciruelos', 'silos']\n"
     ]
    },
    {
     "name": "stdin",
     "output_type": "stream",
     "text": [
      "Select: 0 for point value or: 1,2,3 for buffer values or None to skip None\n"
     ]
    },
    {
     "name": "stderr",
     "output_type": "stream",
     "text": [
      "  2%|██▋                                                                                                                                       | 186/9601 [4:23:10<6:58:21,  2.67s/it]"
     ]
    },
    {
     "name": "stdout",
     "output_type": "stream",
     "text": [
      "villas de tesistan ['villas de la loma', 'villas del valle', 'villas de la loma', 'lomas de san gonzalo']\n"
     ]
    },
    {
     "name": "stdin",
     "output_type": "stream",
     "text": [
      "Select: 0 for point value or: 1,2,3 for buffer values or None to skip None\n"
     ]
    },
    {
     "name": "stderr",
     "output_type": "stream",
     "text": [
      "  2%|██▋                                                                                                                                       | 191/9601 [4:23:38<8:52:41,  3.40s/it]"
     ]
    },
    {
     "name": "stdout",
     "output_type": "stream",
     "text": [
      "villas del bosque ['la guadalupana', 'lomas de san miguel', 'luis alonso', 'jose vasconcelos']\n"
     ]
    },
    {
     "name": "stdin",
     "output_type": "stream",
     "text": [
      "Select: 0 for point value or: 1,2,3 for buffer values or None to skip None\n"
     ]
    },
    {
     "name": "stderr",
     "output_type": "stream",
     "text": [
      "  2%|███                                                                                                                                       | 211/9601 [4:24:30<5:51:00,  2.24s/it]"
     ]
    },
    {
     "name": "stdout",
     "output_type": "stream",
     "text": [
      "beatriz hernandez ['zona centro', 'barragan hernandez', 'obrera', 'la perla']\n"
     ]
    },
    {
     "name": "stdin",
     "output_type": "stream",
     "text": [
      "Select: 0 for point value or: 1,2,3 for buffer values or None to skip None\n"
     ]
    },
    {
     "name": "stderr",
     "output_type": "stream",
     "text": [
      "  2%|███                                                                                                                                      | 212/9601 [4:24:40<12:05:12,  4.63s/it]"
     ]
    },
    {
     "name": "stdout",
     "output_type": "stream",
     "text": [
      "beatriz hernandez ['zona centro', 'barragan hernandez', 'obrera', 'la perla']\n"
     ]
    },
    {
     "name": "stdin",
     "output_type": "stream",
     "text": [
      "Select: 0 for point value or: 1,2,3 for buffer values or None to skip None\n"
     ]
    },
    {
     "name": "stderr",
     "output_type": "stream",
     "text": [
      "  2%|███                                                                                                                                     | 218/9601 [4:25:02<190:07:55, 72.95s/it]\n"
     ]
    },
    {
     "ename": "TypeError",
     "evalue": "unhashable type: 'Series'",
     "output_type": "error",
     "traceback": [
      "\u001b[0;31m---------------------------------------------------------------------------\u001b[0m",
      "\u001b[0;31mTypeError\u001b[0m                                 Traceback (most recent call last)",
      "Input \u001b[0;32mIn [31]\u001b[0m, in \u001b[0;36m<cell line: 9>\u001b[0;34m()\u001b[0m\n\u001b[1;32m     31\u001b[0m point_colonia \u001b[38;5;241m=\u001b[39m gpd\u001b[38;5;241m.\u001b[39msjoin(point_tmp, colonias)\n\u001b[1;32m     32\u001b[0m point_colonia[\u001b[38;5;124m'\u001b[39m\u001b[38;5;124mNOMBRE\u001b[39m\u001b[38;5;124m'\u001b[39m] \u001b[38;5;241m=\u001b[39m point_colonia[\u001b[38;5;124m'\u001b[39m\u001b[38;5;124mNOMBRE\u001b[39m\u001b[38;5;124m'\u001b[39m]\u001b[38;5;241m.\u001b[39mapply(\u001b[38;5;28;01mlambda\u001b[39;00m x: x\u001b[38;5;241m.\u001b[39mlower())\n\u001b[0;32m---> 33\u001b[0m point_similairty \u001b[38;5;241m=\u001b[39m \u001b[43msimilar\u001b[49m\u001b[43m(\u001b[49m\u001b[43mcolonia\u001b[49m\u001b[38;5;241;43m.\u001b[39;49m\u001b[43mlower\u001b[49m\u001b[43m(\u001b[49m\u001b[43m)\u001b[49m\u001b[43m,\u001b[49m\u001b[43m \u001b[49m\u001b[43mpoint_colonia\u001b[49m\u001b[38;5;241;43m.\u001b[39;49m\u001b[43mNOMBRE\u001b[49m\u001b[43m[\u001b[49m\u001b[38;5;241;43m0\u001b[39;49m\u001b[43m]\u001b[49m\u001b[43m)\u001b[49m\n\u001b[1;32m     36\u001b[0m buffer_colonias[\u001b[38;5;124m'\u001b[39m\u001b[38;5;124mNOMBRE\u001b[39m\u001b[38;5;124m'\u001b[39m] \u001b[38;5;241m=\u001b[39m buffer_colonias[\u001b[38;5;124m'\u001b[39m\u001b[38;5;124mNOMBRE\u001b[39m\u001b[38;5;124m'\u001b[39m]\u001b[38;5;241m.\u001b[39mapply(\u001b[38;5;28;01mlambda\u001b[39;00m x: x\u001b[38;5;241m.\u001b[39mlower())\n\u001b[1;32m     37\u001b[0m buffer_colonias[\u001b[38;5;124m'\u001b[39m\u001b[38;5;124msimilarity\u001b[39m\u001b[38;5;124m'\u001b[39m] \u001b[38;5;241m=\u001b[39m buffer_colonias[\u001b[38;5;124m'\u001b[39m\u001b[38;5;124mNOMBRE\u001b[39m\u001b[38;5;124m'\u001b[39m]\u001b[38;5;241m.\u001b[39mapply(\u001b[38;5;28;01mlambda\u001b[39;00m x: similar(colonia\u001b[38;5;241m.\u001b[39mlower(), x))\n",
      "Input \u001b[0;32mIn [7]\u001b[0m, in \u001b[0;36msimilar\u001b[0;34m(a, b)\u001b[0m\n\u001b[1;32m      1\u001b[0m \u001b[38;5;28;01mdef\u001b[39;00m \u001b[38;5;21msimilar\u001b[39m(a, b):\n\u001b[0;32m----> 2\u001b[0m     \u001b[38;5;28;01mreturn\u001b[39;00m \u001b[43mSequenceMatcher\u001b[49m\u001b[43m(\u001b[49m\u001b[38;5;28;43;01mNone\u001b[39;49;00m\u001b[43m,\u001b[49m\u001b[43m \u001b[49m\u001b[43ma\u001b[49m\u001b[43m,\u001b[49m\u001b[43m \u001b[49m\u001b[43mb\u001b[49m\u001b[43m)\u001b[49m\u001b[38;5;241;43m.\u001b[39;49m\u001b[43mratio\u001b[49m\u001b[43m(\u001b[49m\u001b[43m)\u001b[49m\n",
      "File \u001b[0;32m~/anaconda3/envs/odc/lib/python3.10/difflib.py:619\u001b[0m, in \u001b[0;36mSequenceMatcher.ratio\u001b[0;34m(self)\u001b[0m\n\u001b[1;32m    597\u001b[0m \u001b[38;5;28;01mdef\u001b[39;00m \u001b[38;5;21mratio\u001b[39m(\u001b[38;5;28mself\u001b[39m):\n\u001b[1;32m    598\u001b[0m     \u001b[38;5;124;03m\"\"\"Return a measure of the sequences' similarity (float in [0,1]).\u001b[39;00m\n\u001b[1;32m    599\u001b[0m \n\u001b[1;32m    600\u001b[0m \u001b[38;5;124;03m    Where T is the total number of elements in both sequences, and\u001b[39;00m\n\u001b[0;32m   (...)\u001b[0m\n\u001b[1;32m    616\u001b[0m \u001b[38;5;124;03m    1.0\u001b[39;00m\n\u001b[1;32m    617\u001b[0m \u001b[38;5;124;03m    \"\"\"\u001b[39;00m\n\u001b[0;32m--> 619\u001b[0m     matches \u001b[38;5;241m=\u001b[39m \u001b[38;5;28msum\u001b[39m(triple[\u001b[38;5;241m-\u001b[39m\u001b[38;5;241m1\u001b[39m] \u001b[38;5;28;01mfor\u001b[39;00m triple \u001b[38;5;129;01min\u001b[39;00m \u001b[38;5;28;43mself\u001b[39;49m\u001b[38;5;241;43m.\u001b[39;49m\u001b[43mget_matching_blocks\u001b[49m\u001b[43m(\u001b[49m\u001b[43m)\u001b[49m)\n\u001b[1;32m    620\u001b[0m     \u001b[38;5;28;01mreturn\u001b[39;00m _calculate_ratio(matches, \u001b[38;5;28mlen\u001b[39m(\u001b[38;5;28mself\u001b[39m\u001b[38;5;241m.\u001b[39ma) \u001b[38;5;241m+\u001b[39m \u001b[38;5;28mlen\u001b[39m(\u001b[38;5;28mself\u001b[39m\u001b[38;5;241m.\u001b[39mb))\n",
      "File \u001b[0;32m~/anaconda3/envs/odc/lib/python3.10/difflib.py:454\u001b[0m, in \u001b[0;36mSequenceMatcher.get_matching_blocks\u001b[0;34m(self)\u001b[0m\n\u001b[1;32m    452\u001b[0m \u001b[38;5;28;01mwhile\u001b[39;00m queue:\n\u001b[1;32m    453\u001b[0m     alo, ahi, blo, bhi \u001b[38;5;241m=\u001b[39m queue\u001b[38;5;241m.\u001b[39mpop()\n\u001b[0;32m--> 454\u001b[0m     i, j, k \u001b[38;5;241m=\u001b[39m x \u001b[38;5;241m=\u001b[39m \u001b[38;5;28;43mself\u001b[39;49m\u001b[38;5;241;43m.\u001b[39;49m\u001b[43mfind_longest_match\u001b[49m\u001b[43m(\u001b[49m\u001b[43malo\u001b[49m\u001b[43m,\u001b[49m\u001b[43m \u001b[49m\u001b[43mahi\u001b[49m\u001b[43m,\u001b[49m\u001b[43m \u001b[49m\u001b[43mblo\u001b[49m\u001b[43m,\u001b[49m\u001b[43m \u001b[49m\u001b[43mbhi\u001b[49m\u001b[43m)\u001b[49m\n\u001b[1;32m    455\u001b[0m     \u001b[38;5;66;03m# a[alo:i] vs b[blo:j] unknown\u001b[39;00m\n\u001b[1;32m    456\u001b[0m     \u001b[38;5;66;03m# a[i:i+k] same as b[j:j+k]\u001b[39;00m\n\u001b[1;32m    457\u001b[0m     \u001b[38;5;66;03m# a[i+k:ahi] vs b[j+k:bhi] unknown\u001b[39;00m\n\u001b[1;32m    458\u001b[0m     \u001b[38;5;28;01mif\u001b[39;00m k:   \u001b[38;5;66;03m# if k is 0, there was no matching block\u001b[39;00m\n",
      "File \u001b[0;32m~/anaconda3/envs/odc/lib/python3.10/difflib.py:399\u001b[0m, in \u001b[0;36mSequenceMatcher.find_longest_match\u001b[0;34m(self, alo, ahi, blo, bhi)\u001b[0m\n\u001b[1;32m    394\u001b[0m \u001b[38;5;28;01mwhile\u001b[39;00m besti \u001b[38;5;241m>\u001b[39m alo \u001b[38;5;129;01mand\u001b[39;00m bestj \u001b[38;5;241m>\u001b[39m blo \u001b[38;5;129;01mand\u001b[39;00m \\\n\u001b[1;32m    395\u001b[0m       \u001b[38;5;129;01mnot\u001b[39;00m isbjunk(b[bestj\u001b[38;5;241m-\u001b[39m\u001b[38;5;241m1\u001b[39m]) \u001b[38;5;129;01mand\u001b[39;00m \\\n\u001b[1;32m    396\u001b[0m       a[besti\u001b[38;5;241m-\u001b[39m\u001b[38;5;241m1\u001b[39m] \u001b[38;5;241m==\u001b[39m b[bestj\u001b[38;5;241m-\u001b[39m\u001b[38;5;241m1\u001b[39m]:\n\u001b[1;32m    397\u001b[0m     besti, bestj, bestsize \u001b[38;5;241m=\u001b[39m besti\u001b[38;5;241m-\u001b[39m\u001b[38;5;241m1\u001b[39m, bestj\u001b[38;5;241m-\u001b[39m\u001b[38;5;241m1\u001b[39m, bestsize\u001b[38;5;241m+\u001b[39m\u001b[38;5;241m1\u001b[39m\n\u001b[1;32m    398\u001b[0m \u001b[38;5;28;01mwhile\u001b[39;00m besti\u001b[38;5;241m+\u001b[39mbestsize \u001b[38;5;241m<\u001b[39m ahi \u001b[38;5;129;01mand\u001b[39;00m bestj\u001b[38;5;241m+\u001b[39mbestsize \u001b[38;5;241m<\u001b[39m bhi \u001b[38;5;129;01mand\u001b[39;00m \\\n\u001b[0;32m--> 399\u001b[0m       \u001b[38;5;129;01mnot\u001b[39;00m \u001b[43misbjunk\u001b[49m\u001b[43m(\u001b[49m\u001b[43mb\u001b[49m\u001b[43m[\u001b[49m\u001b[43mbestj\u001b[49m\u001b[38;5;241;43m+\u001b[39;49m\u001b[43mbestsize\u001b[49m\u001b[43m]\u001b[49m\u001b[43m)\u001b[49m \u001b[38;5;129;01mand\u001b[39;00m \\\n\u001b[1;32m    400\u001b[0m       a[besti\u001b[38;5;241m+\u001b[39mbestsize] \u001b[38;5;241m==\u001b[39m b[bestj\u001b[38;5;241m+\u001b[39mbestsize]:\n\u001b[1;32m    401\u001b[0m     bestsize \u001b[38;5;241m+\u001b[39m\u001b[38;5;241m=\u001b[39m \u001b[38;5;241m1\u001b[39m\n\u001b[1;32m    403\u001b[0m \u001b[38;5;66;03m# Now that we have a wholly interesting match (albeit possibly\u001b[39;00m\n\u001b[1;32m    404\u001b[0m \u001b[38;5;66;03m# empty!), we may as well suck up the matching junk on each\u001b[39;00m\n\u001b[1;32m    405\u001b[0m \u001b[38;5;66;03m# side of it too.  Can't think of a good reason not to, and it\u001b[39;00m\n\u001b[0;32m   (...)\u001b[0m\n\u001b[1;32m    408\u001b[0m \u001b[38;5;66;03m# interesting match, this is clearly the right thing to do,\u001b[39;00m\n\u001b[1;32m    409\u001b[0m \u001b[38;5;66;03m# because no other kind of match is possible in the regions.\u001b[39;00m\n",
      "\u001b[0;31mTypeError\u001b[0m: unhashable type: 'Series'"
     ]
    }
   ],
   "source": [
    "from tqdm import tqdm\n",
    "\n",
    "# crea las columnas para guardar coordenadas de la venta\n",
    "df['x'] = np.nan\n",
    "df['y'] = np.nan\n",
    "\n",
    "selection_dict = {'buffer':{},\n",
    "                 'colonias':{}}\n",
    "\n",
    "for i in tqdm(range(len(df)), position=0, leave=True):\n",
    "    # itera y obtiene colonia, municipio y crea una direccion\n",
    "    colonia = df.iloc[i]['Colonia']\n",
    "    municipio = df.iloc[i]['Municipio']\n",
    "    address = colonia + ', '+ municipio + ', Jalisco, Mexico'\n",
    "    geocode = geolocator.geocode(address) # geocode\n",
    "    \n",
    "    # revisa si se obtuvieron datos\n",
    "    if geocode is not None:\n",
    "        x,y = geocode[1][1], geocode[1][0]\n",
    "        \n",
    "        # crea un punto con las coordenadas para estudiar el entorno\n",
    "        point_dict = {'geometry':[Point(x,y)]}\n",
    "        point_tmp = gpd.GeoDataFrame(\n",
    "            pd.DataFrame.from_dict(point_dict), \n",
    "            geometry='geometry').set_crs(\"EPSG:4326\")\n",
    "        \n",
    "        # buffer a partir del punto\n",
    "        buffer = point_tmp.to_crs(\"EPSG:6372\").buffer(1500)\n",
    "        buffer = gpd.GeoDataFrame(buffer.to_crs(\"EPSG:4326\"))\n",
    "        buffer.rename(columns={0:'geometry'}, inplace=True)\n",
    "        \n",
    "        # obtiene las colonias dentro del buffer\n",
    "        buffer_colonias = gpd.sjoin(buffer, colonias)\n",
    "        \n",
    "        # continua solo si hay colonias dentro del buffer\n",
    "        if len(buffer_colonias) != 0:\n",
    "            \n",
    "            # analiza similitud del nombre de la colonia en la que cayó el punto\n",
    "            # con el nombre de la colonia que se está buscando\n",
    "            point_colonia = gpd.sjoin(point_tmp, colonias)\n",
    "            # point_colonia['NOMBRE'] = point_colonia['NOMBRE'].apply(lambda x: x.lower())\n",
    "            point_similairty = similar(colonia.lower(), point_colonia.NOMBRE[0])\n",
    "\n",
    "            # analiza similitud del nombre de las colonias dentro del buffer\n",
    "            # con el nombre de la colonia que se está buscando\n",
    "            # buffer_colonias['NOMBRE'] = buffer_colonias['NOMBRE'].apply(lambda x: x.lower())\n",
    "            buffer_colonias['similarity'] = buffer_colonias['NOMBRE'].apply(lambda x: similar(colonia.lower(), x))\n",
    "            \n",
    "            # filtra a los nombres más parecidos\n",
    "            buffer_similar = buffer_colonias.sort_values('similarity', ascending=False).iloc[:3]\n",
    "            buffer_similar.reset_index(drop=True, inplace=True)\n",
    "            \n",
    "            # primer analisis\n",
    "            # comparacion enrte colonias del punto y buffer\n",
    "            if point_similairty == 1:\n",
    "                id_colonia = point_colonia.iloc[0].ID\n",
    "\n",
    "            elif buffer_colonias.similarity.max() == 1:\n",
    "                id_colonia = buffer_similar.iloc[0].ID\n",
    "                \n",
    "\n",
    "            else:                   \n",
    "\n",
    "                options = [x for x in buffer_similar.NOMBRE]\n",
    "                options = [point_colonia.NOMBRE[0]] + options\n",
    "\n",
    "                if colonia in selection_dict['buffer'].keys():\n",
    "                    id_colonia = buffer_similar.iloc[int(selection_dict['buffer'][colonia])-1].ID\n",
    "\n",
    "                else:\n",
    "\n",
    "                    print(colonia.lower(), options)\n",
    "\n",
    "                    user_selection = input('Select: 0 for point value or: 1,2,3 for buffer values or None to skip')\n",
    "\n",
    "                    if user_selection != 'None':\n",
    "                        id_colonia = buffer_similar.iloc[int(user_selection)-1].ID\n",
    "                        selection_dict['buffer'][colonia] = user_selection\n",
    "\n",
    "\n",
    "                    else:\n",
    "                        colonias_analisis = colonias.loc[colonias.MUNICIPIO==mun_dict[municipio.lower()]].copy()\n",
    "                        # colonias_analisis['NOMBRE'] = colonias_analisis['NOMBRE'].apply(lambda x: x.lower())\n",
    "                        colonias_analisis['similarity'] = colonias_analisis['NOMBRE'].apply(lambda x: similar(colonia.lower(), x))\n",
    "                        colonias_similar = colonias_analisis.sort_values('similarity', ascending=False)\n",
    "                        colonias_similar = colonias_similar.loc[colonias_similar.similarity>=0.6]\n",
    "                        colonias_similar.reset_index(drop=True, inplace=True)\n",
    "\n",
    "                        if colonias_similar.similarity.max() == 1:\n",
    "                            id_colonia = colonias_similar.iloc[0].ID\n",
    "\n",
    "                        else:\n",
    "\n",
    "                            options = [x for x in colonias_similar.NOMBRE]\n",
    "\n",
    "                            if colonia in selection_dict['colonias'].keys():\n",
    "                                id_colonia = colonias_similar.iloc[int(selection_dict['colonias'][colonia])-1].ID\n",
    "\n",
    "                            else:\n",
    "\n",
    "                                print(colonia.lower(), options)\n",
    "\n",
    "                                user_selection = input('Select: 1,2,3...n for colonias values or None to skip')\n",
    "\n",
    "                                if user_selection != 'None':\n",
    "                                    id_colonia = colonias_similar.iloc[int(user_selection)-1].ID\n",
    "                                    selection_dict['colonias'][colonia] = user_selection\n",
    "\n",
    "                                else:\n",
    "                                    continue\n",
    "\n",
    "            colonia_gdf = colonias.loc[colonias.ID==id_colonia,['ID','geometry']]\n",
    "\n",
    "            # point_within_polygon = gpd.GeoDataFrame(geometry=colonia.representative_point())\n",
    "\n",
    "            colonia_gdf = colonia_gdf.to_crs(\"EPSG:6372\")\n",
    "            buffer_colonia = gpd.GeoDataFrame(\n",
    "                gpd.GeoDataFrame(\n",
    "                    colonia_gdf.buffer(1).reset_index(drop=True))).rename(columns={0:'geometry'})\n",
    "            buffer_colonia = buffer_colonia.to_crs(\"EPSG:4326\")\n",
    "            poly_wkt = buffer_colonia.dissolve().geometry.to_wkt()[0]\n",
    "\n",
    "            schema = 'censo'\n",
    "            folder = 'censo_mza_centroid_2020'\n",
    "            query = f\"SELECT cvegeo, geometry FROM {schema}.{folder} WHERE ST_Intersects(geometry, 'SRID=4326;{poly_wkt}')\"\n",
    "            colonia_blocks = aup.gdf_from_query(query, geometry_col=\"geometry\")\n",
    "\n",
    "            if len(colonia_blocks) != 0:\n",
    "\n",
    "                rndm_colonia_block = colonia_blocks.sample(1)\n",
    "\n",
    "                x_colonia = rndm_colonia_block.geometry.x.values[0]\n",
    "                y_colonia = rndm_colonia_block.geometry.y.values[0]\n",
    "\n",
    "                df_test.loc[i,'x'] = x_colonia\n",
    "\n",
    "                df_test.loc[i,'y'] = y_colonia"
   ]
  },
  {
   "cell_type": "code",
   "execution_count": 7,
   "id": "c456b773-8082-4683-add2-55bc0c57b945",
   "metadata": {
    "tags": []
   },
   "outputs": [
    {
     "name": "stderr",
     "output_type": "stream",
     "text": [
      " 40%|████████████████                        | 3845/9601 [2:34:13<3:52:35,  2.42s/it]"
     ]
    },
    {
     "name": "stdout",
     "output_type": "stream",
     "text": [
      "dr atlas {'buffer': ['san elias', 'alcalde barranquitas', 'jardines alcalde'], 'point': ['independencia'], 'colonias': ['dr atl', 'atlas']}\n"
     ]
    },
    {
     "name": "stdin",
     "output_type": "stream",
     "text": [
      "Write the option (buffer, point, colonias) , and the number (1,2,3..n) or none to skip colonias, 1\n"
     ]
    },
    {
     "name": "stderr",
     "output_type": "stream",
     "text": [
      " 94%|███████████████████████████████████████▎  | 8985/9601 [5:58:42<27:03,  2.64s/it]"
     ]
    },
    {
     "name": "stdout",
     "output_type": "stream",
     "text": [
      "el alamo {'buffer': ['la aurora', 'el retiro', 'analco'], 'point': ['zona centro'], 'colonias': ['el zalate', 'el zalate', 'valle del alamo', 'valle del alamo']}\n"
     ]
    },
    {
     "name": "stdin",
     "output_type": "stream",
     "text": [
      "Write the option (buffer, point, colonias) , and the number (1,2,3..n) or none to skip colonias, 3\n"
     ]
    },
    {
     "name": "stderr",
     "output_type": "stream",
     "text": [
      "100%|██████████████████████████████████████████| 9601/9601 [6:33:45<00:00,  2.46s/it]\n"
     ]
    }
   ],
   "source": [
    "from tqdm import tqdm\n",
    "\n",
    "selection_dict = {'buffer':{},\n",
    "                  'point':{},\n",
    "                 'colonias':{},\n",
    "                 'none':{}}\n",
    "\n",
    "selection_dict = {'buffer': {},\n",
    " 'point': {'MIRADOR DEL BOSQUE': ' 1'},\n",
    " 'colonias': {'MAGAÑA': ' 1'},\n",
    " 'none': {}}\n",
    "\n",
    "skip_list = []\n",
    "\n",
    "df_analysis = df.loc[df.x.isna()]\n",
    "\n",
    "for i in tqdm(df_analysis.index.values, position=0, leave=True):\n",
    "    \n",
    "    if i in skip_list:\n",
    "        continue\n",
    "    \n",
    "    # itera y obtiene colonia, municipio y crea una direccion\n",
    "    colonia = df_analysis.loc[df_analysis.index==i,'Colonia'].values[0]\n",
    "    municipio = df_analysis.loc[df_analysis.index==i,'Municipio'].values[0]\n",
    "    address = colonia + ', '+ municipio + ', Jalisco, Mexico'\n",
    "    \n",
    "    try:\n",
    "        geocode = geolocator.geocode(address) # geocode\n",
    "    except:\n",
    "        skip_list.append(i)\n",
    "        continue\n",
    "    \n",
    "    # revisa si se obtuvieron datos\n",
    "    if geocode is not None:\n",
    "        x,y = geocode[1][1], geocode[1][0]\n",
    "        \n",
    "        # crea un punto con las coordenadas para estudiar el entorno\n",
    "        point_dict = {'geometry':[Point(x,y)]}\n",
    "        point_tmp = gpd.GeoDataFrame(\n",
    "            pd.DataFrame.from_dict(point_dict), \n",
    "            geometry='geometry').set_crs(\"EPSG:4326\")\n",
    "        \n",
    "        # buffer a partir del punto\n",
    "        buffer = point_tmp.to_crs(\"EPSG:6372\").buffer(1500)\n",
    "        buffer = gpd.GeoDataFrame(buffer.to_crs(\"EPSG:4326\"))\n",
    "        buffer.rename(columns={0:'geometry'}, inplace=True)\n",
    "        \n",
    "        # obtiene las colonias dentro del buffer\n",
    "        buffer_colonias = gpd.sjoin(buffer, colonias)\n",
    "        \n",
    "        # continua solo si hay colonias dentro del buffer\n",
    "        if len(buffer_colonias) != 0:\n",
    "            \n",
    "            # analiza similitud del nombre de la colonia en la que cayó el punto\n",
    "            # con el nombre de la colonia que se está buscando\n",
    "            point_colonia = gpd.sjoin(point_tmp, colonias)\n",
    "            try:\n",
    "                point_colonia = point_colonia.reset_index(drop=True).loc[0]\n",
    "            except:\n",
    "                continue\n",
    "            point_similairty = similar(colonia.lower(), point_colonia.NOMBRE)\n",
    "\n",
    "            # analiza similitud del nombre de las colonias dentro del buffer\n",
    "            # con el nombre de la colonia que se está buscando\n",
    "            buffer_colonias['similarity'] = buffer_colonias['NOMBRE'].apply(lambda x: similar(colonia.lower(), x))\n",
    "            \n",
    "            # filtra a los nombres más parecidos\n",
    "            buffer_similar = buffer_colonias.sort_values('similarity', ascending=False).iloc[:3]\n",
    "            buffer_similar.reset_index(drop=True, inplace=True)\n",
    "            \n",
    "            colonias_analisis = colonias.loc[colonias.MUNICIPIO==mun_dict[municipio.lower()]].copy()\n",
    "            # colonias_analisis['NOMBRE'] = colonias_analisis['NOMBRE'].apply(lambda x: x.lower())\n",
    "            colonias_analisis['similarity'] = colonias_analisis['NOMBRE'].apply(lambda x: similar(colonia.lower(), x))\n",
    "            colonias_similar = colonias_analisis.sort_values('similarity', ascending=False)\n",
    "            colonias_similar = colonias_similar.loc[colonias_similar.similarity>=0.65]\n",
    "            colonias_similar.reset_index(drop=True, inplace=True)\n",
    "            \n",
    "            # primer analisis\n",
    "            # comparacion enrte colonias del punto y buffer\n",
    "            if point_similairty >= 0.90:\n",
    "                id_colonia = point_colonia.ID\n",
    "                \n",
    "            # analiza si hay un nombre dentro de colonias buffer\n",
    "            # que sea igual a la colonia que se busca\n",
    "            elif buffer_colonias.similarity.max() >= 0.90:\n",
    "                id_colonia = buffer_similar.iloc[0].ID\n",
    "            \n",
    "            # analiza si hay un nombre dentro de los nombres de colonias\n",
    "            # que sea igual a la colonia que se busca\n",
    "            elif colonias_similar.similarity.max() >= 0.90:\n",
    "                id_colonia = colonias_similar.iloc[0].ID\n",
    "                \n",
    "            # ofrece opciones al usuario\n",
    "            else:\n",
    "                options = {}\n",
    "                options['buffer'] = [x for x in buffer_similar.NOMBRE]\n",
    "                options['point'] = [point_colonia.NOMBRE]\n",
    "                options['colonias'] = [x for x in colonias_similar.NOMBRE]\n",
    "                \n",
    "                # analiza si es una colonia sobre la que ya se había hecho una seleccion\n",
    "                # por usuario\n",
    "                if colonia in selection_dict['buffer'].keys():\n",
    "                    id_colonia = buffer_similar.iloc[int(selection_dict['buffer'][colonia])-1].ID\n",
    "                    \n",
    "                elif colonia in selection_dict['point'].keys():\n",
    "                    id_colonia = point_colonia.ID\n",
    "                \n",
    "                elif colonia in selection_dict['colonias'].keys():\n",
    "                    id_colonia = colonias_similar.iloc[int(selection_dict['colonias'][colonia])-1].ID\n",
    "                \n",
    "                elif colonia in selection_dict['none'].keys():\n",
    "                    continue\n",
    "                \n",
    "                # si no se ha preguntado sobre esa colonia se hace la pregunta\n",
    "                else:\n",
    "\n",
    "                    print(colonia.lower(), options)\n",
    "\n",
    "                    user_selection = input('Write the option (buffer, point, colonias) , and the number (1,2,3..n) or none to skip')\n",
    "                    select_level = user_selection.split(',')[0]\n",
    "                    select_id = user_selection.split(',')[1]\n",
    "                        \n",
    "                    # guarda la seleccion del usuario\n",
    "                    selection_dict[select_level][colonia] = select_id\n",
    "\n",
    "                    # selecciona la colonia de acuerdo con la seleccion de usuario\n",
    "                    if select_level == 'buffer':\n",
    "                        id_colonia = buffer_similar.iloc[int(select_id)-1].ID\n",
    "                    \n",
    "                    elif select_level == 'point':\n",
    "                        id_colonia = point_colonia.ID\n",
    "                        \n",
    "                    elif select_level == 'colonias':\n",
    "                        id_colonia = colonias_similar.iloc[int(select_id)-1].ID\n",
    "                        \n",
    "                    elif select_level == 'none':\n",
    "                        continue\n",
    "                       \n",
    "\n",
    "            colonia_gdf = colonias.loc[colonias.ID==id_colonia,['ID','geometry']]\n",
    "\n",
    "            colonia_gdf = colonia_gdf.to_crs(\"EPSG:6372\")\n",
    "            buffer_colonia = gpd.GeoDataFrame(\n",
    "                gpd.GeoDataFrame(\n",
    "                    colonia_gdf.buffer(1).reset_index(drop=True))).rename(columns={0:'geometry'})\n",
    "            buffer_colonia = buffer_colonia.to_crs(\"EPSG:4326\")\n",
    "            poly_wkt = buffer_colonia.dissolve().geometry.to_wkt()[0]\n",
    "\n",
    "            schema = 'censo'\n",
    "            folder = 'censo_mza_centroid_2020'\n",
    "            query = f\"SELECT cvegeo, geometry FROM {schema}.{folder} WHERE ST_Intersects(geometry, 'SRID=4326;{poly_wkt}')\"\n",
    "            colonia_blocks = aup.gdf_from_query(query, geometry_col=\"geometry\")\n",
    "            \n",
    "            # analiza si se obtuvieron manzanas dentro de la colonia\n",
    "            if len(colonia_blocks) != 0:\n",
    "\n",
    "                rndm_colonia_block = colonia_blocks.sample(1)\n",
    "\n",
    "                x_colonia = rndm_colonia_block.geometry.x.values[0]\n",
    "                y_colonia = rndm_colonia_block.geometry.y.values[0]\n",
    "\n",
    "                df.loc[df.index==i,'x'] = x_colonia\n",
    "\n",
    "                df.loc[df.index==i,'y'] = y_colonia\n",
    "                \n",
    "    else:\n",
    "        skip_list.append(i)\n",
    "            "
   ]
  },
  {
   "cell_type": "code",
   "execution_count": 71,
   "id": "729d6bb2-088b-4312-8757-b9d66e272b8d",
   "metadata": {},
   "outputs": [
    {
     "data": {
      "text/plain": [
       "{'buffer': {},\n",
       " 'point': {'MIRADOR DEL BOSQUE': ' 1'},\n",
       " 'colonias': {'MAGAÑA': ' 1'},\n",
       " 'none': {}}"
      ]
     },
     "execution_count": 71,
     "metadata": {},
     "output_type": "execute_result"
    }
   ],
   "source": [
    "selection_dict"
   ]
  },
  {
   "cell_type": "code",
   "execution_count": 8,
   "id": "401e43f2-2c58-4ed7-b7b0-07c2d4b8a3fc",
   "metadata": {},
   "outputs": [
    {
     "name": "stderr",
     "output_type": "stream",
     "text": [
      "100%|████████████████████████████████████████████████████████████████████████████████████████████████████████████████████████████████████████████████████████████| 1452/1452 [58:24<00:00,  2.41s/it]\n"
     ]
    }
   ],
   "source": [
    "selection_dict = {'buffer': {},\n",
    " 'point': {'MIRADOR DEL BOSQUE': ' 1'},\n",
    " 'colonias': {'MAGAÑA': ' 1'},\n",
    " 'none': {}}\n",
    "\n",
    "skip_list = []\n",
    "\n",
    "df_analysis = df.loc[df.x.isna()]\n",
    "\n",
    "for i in tqdm(df_analysis.index.values, position=0, leave=True):\n",
    "    \n",
    "    # itera y obtiene colonia, municipio y crea una direccion\n",
    "    colonia = df_analysis.loc[df_analysis.index==i,'Colonia'].values[0]\n",
    "    municipio = df_analysis.loc[df_analysis.index==i,'Municipio'].values[0]\n",
    "    \n",
    "    colonias_analisis = colonias.loc[colonias.MUNICIPIO==mun_dict[municipio.lower()]].copy()\n",
    "    # colonias_analisis['NOMBRE'] = colonias_analisis['NOMBRE'].apply(lambda x: x.lower())\n",
    "    colonias_analisis['similarity'] = colonias_analisis['NOMBRE'].apply(lambda x: similar(colonia.lower(), x))\n",
    "    colonias_similar = colonias_analisis.sort_values('similarity', ascending=False)\n",
    "    colonias_similar = colonias_similar.loc[colonias_similar.similarity>=0.65]\n",
    "    colonias_similar.reset_index(drop=True, inplace=True)\n",
    "    \n",
    "    # analiza si hay un nombre dentro de los nombres de colonias\n",
    "    # que sea igual a la colonia que se busca\n",
    "    if colonias_similar.similarity.max() >= 0.90:\n",
    "        id_colonia = colonias_similar.iloc[0].ID\n",
    "        \n",
    "        colonia_gdf = colonias.loc[colonias.ID==id_colonia,['ID','geometry']]\n",
    "\n",
    "        colonia_gdf = colonia_gdf.to_crs(\"EPSG:6372\")\n",
    "        buffer_colonia = gpd.GeoDataFrame(\n",
    "            gpd.GeoDataFrame(\n",
    "                colonia_gdf.buffer(1).reset_index(drop=True))).rename(columns={0:'geometry'})\n",
    "        buffer_colonia = buffer_colonia.to_crs(\"EPSG:4326\")\n",
    "        poly_wkt = buffer_colonia.dissolve().geometry.to_wkt()[0]\n",
    "\n",
    "        schema = 'censo'\n",
    "        folder = 'censo_mza_centroid_2020'\n",
    "        query = f\"SELECT cvegeo, geometry FROM {schema}.{folder} WHERE ST_Intersects(geometry, 'SRID=4326;{poly_wkt}')\"\n",
    "        colonia_blocks = aup.gdf_from_query(query, geometry_col=\"geometry\")\n",
    "\n",
    "        # analiza si se obtuvieron manzanas dentro de la colonia\n",
    "        if len(colonia_blocks) != 0:\n",
    "\n",
    "            rndm_colonia_block = colonia_blocks.sample(1)\n",
    "\n",
    "            x_colonia = rndm_colonia_block.geometry.x.values[0]\n",
    "            y_colonia = rndm_colonia_block.geometry.y.values[0]\n",
    "\n",
    "            df.loc[df.index==i,'x'] = x_colonia\n",
    "\n",
    "            df.loc[df.index==i,'y'] = y_colonia\n",
    "    \n",
    "    "
   ]
  },
  {
   "cell_type": "code",
   "execution_count": 9,
   "id": "1d40c539-f783-42b8-a25a-9644bcd30a51",
   "metadata": {},
   "outputs": [
    {
     "data": {
      "text/plain": [
       "303"
      ]
     },
     "execution_count": 9,
     "metadata": {},
     "output_type": "execute_result"
    }
   ],
   "source": [
    "sum(df.x.isna())"
   ]
  },
  {
   "cell_type": "code",
   "execution_count": 12,
   "id": "b20a906a-2a9c-4fdc-8e56-19fc9e1ce5f3",
   "metadata": {},
   "outputs": [],
   "source": [
    "dir_grl = '../../data/processed/costo_vivienda/'\n",
    "df.to_csv(dir_grl+'2019_Venta_BD_SECTORINMOBILIARIO_coord.csv')"
   ]
  },
  {
   "cell_type": "code",
   "execution_count": null,
   "id": "cabe3d9e-d4cc-43a1-ac4f-c02f0189a063",
   "metadata": {},
   "outputs": [],
   "source": []
  }
 ],
 "metadata": {
  "kernelspec": {
   "display_name": "odc",
   "language": "python",
   "name": "odc"
  },
  "language_info": {
   "codemirror_mode": {
    "name": "ipython",
    "version": 3
   },
   "file_extension": ".py",
   "mimetype": "text/x-python",
   "name": "python",
   "nbconvert_exporter": "python",
   "pygments_lexer": "ipython3",
   "version": "3.10.4"
  }
 },
 "nbformat": 4,
 "nbformat_minor": 5
}
