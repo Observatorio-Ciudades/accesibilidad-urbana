{
 "cells": [
  {
   "cell_type": "code",
   "execution_count": 1,
   "metadata": {},
   "outputs": [
    {
     "name": "stdout",
     "output_type": "stream",
     "text": [
      "2022-05-31 17:13:03 Configured OSMnx 1.1.1\n",
      "2022-05-31 17:13:03 HTTP response caching is on\n"
     ]
    }
   ],
   "source": [
    "import os\n",
    "import sys\n",
    "\n",
    "import pandas as pd\n",
    "import geopandas as gpd\n",
    "module_path = os.path.abspath(os.path.join('..'))\n",
    "if module_path not in sys.path:\n",
    "    sys.path.append(module_path)\n",
    "    import aup"
   ]
  },
  {
   "cell_type": "code",
   "execution_count": 2,
   "metadata": {},
   "outputs": [],
   "source": [
    "df = pd.read_json(\"/home/jovyan/work/scripts/areas.json\")"
   ]
  },
  {
   "cell_type": "code",
   "execution_count": 3,
   "metadata": {},
   "outputs": [],
   "source": [
    "for c in df.columns.unique():\n",
    "        aup.log(f\"\\n Starting municipality filters for {c}\")\n",
    "        # Creates empty GeoDataFrame to store specified municipality bike infrastructure\n",
    "        fm = gpd.GeoDataFrame()\n",
    "        # Iterates over municipality codes for each metropolitan area or capital\n",
    "        for i in range(len(df.loc[\"mpos\", c])):\n",
    "            # Extracts specific municipality code\n",
    "            m = df.loc[\"mpos\", c][i]\n",
    "            # Downloads municipality polygon according to code\n",
    "            query = f\"SELECT * FROM censo_urbano.censo_fm_2020 WHERE \\\"CVEGEO\\\" LIKE \\'{m}\\'\"\n",
    "            fm = fm.append(aup.gdf_from_query(query, geometry_col='geometry'))\n",
    "            aup.log(f\"Downloaded {m} GeoDataFrame at: {c}\")"
   ]
  },
  {
   "cell_type": "code",
   "execution_count": null,
   "metadata": {},
   "outputs": [],
   "source": [
    "fm = fm.set_crs(\"EPSG:4326\")"
   ]
  },
  {
   "cell_type": "code",
   "execution_count": 45,
   "metadata": {},
   "outputs": [],
   "source": [
    "ciclovia = fm[fm['CICLOVIA']==1]\n",
    "ciclocarril = fm[fm['CICLOCARRIL']==1]"
   ]
  },
  {
   "cell_type": "code",
   "execution_count": 46,
   "metadata": {},
   "outputs": [],
   "source": [
    "bike_infra = ciclovia.append(ciclocarril)"
   ]
  },
  {
   "cell_type": "code",
   "execution_count": 47,
   "metadata": {},
   "outputs": [],
   "source": [
    "bike_infra = bike_infra.to_crs(\"EPSG:6372\")\n",
    "centroid = bike_infra.centroid\n",
    "bike_infra = bike_infra.to_crs(\"EPSG:4326\")\n",
    "centroid = centroid.to_crs(\"EPSG:4326\")"
   ]
  },
  {
   "cell_type": "code",
   "execution_count": 48,
   "metadata": {},
   "outputs": [],
   "source": [
    "bike_infra['centroid'] = centroid"
   ]
  },
  {
   "cell_type": "code",
   "execution_count": 52,
   "metadata": {},
   "outputs": [
    {
     "name": "stderr",
     "output_type": "stream",
     "text": [
      "/tmp/ipykernel_556/4180384012.py:2: SettingWithCopyWarning: \n",
      "A value is trying to be set on a copy of a slice from a DataFrame.\n",
      "Try using .loc[row_indexer,col_indexer] = value instead\n",
      "\n",
      "See the caveats in the documentation: https://pandas.pydata.org/pandas-docs/stable/user_guide/indexing.html#returning-a-view-versus-a-copy\n",
      "  bike_points['geometry'] = centroid.copy()\n"
     ]
    }
   ],
   "source": [
    "bike_points = bike_infra[['CVEGEO']]\n",
    "bike_points['geometry'] = centroid.copy()"
   ]
  },
  {
   "cell_type": "code",
   "execution_count": 56,
   "metadata": {},
   "outputs": [],
   "source": [
    "bike_points= gpd.GeoDataFrame(bike_points)\n",
    "bike_points = bike_points.set_crs(\"EPSG:4326\")"
   ]
  }
 ],
 "metadata": {
  "interpreter": {
   "hash": "edc4b9aeef6144e45a4490bf12f63337156a050e1d077f48d33213c325dd7ad2"
  },
  "kernelspec": {
   "display_name": "Python 3.9.6 ('ox')",
   "language": "python",
   "name": "python3"
  },
  "language_info": {
   "codemirror_mode": {
    "name": "ipython",
    "version": 3
   },
   "file_extension": ".py",
   "mimetype": "text/x-python",
   "name": "python",
   "nbconvert_exporter": "python",
   "pygments_lexer": "ipython3",
   "version": "3.9.6"
  },
  "orig_nbformat": 4
 },
 "nbformat": 4,
 "nbformat_minor": 2
}
