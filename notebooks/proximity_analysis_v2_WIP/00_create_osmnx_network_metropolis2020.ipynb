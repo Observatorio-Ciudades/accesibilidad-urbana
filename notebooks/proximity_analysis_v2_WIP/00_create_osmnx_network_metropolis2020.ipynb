{
 "cells": [
  {
   "cell_type": "markdown",
   "id": "792082cf-f94e-4a2c-a1a3-efec3d8b97d6",
   "metadata": {},
   "source": [
    "# Notebook create_osmnx_network_metropolis2020"
   ]
  },
  {
   "cell_type": "markdown",
   "id": "634c0116-963f-4596-8c06-9661f25d2319",
   "metadata": {},
   "source": [
    "This notebook runs the cities of metropolis>metro_gdf_2020, creates a Network (G,nodes,edges) for a bbox around the city and saves it to db"
   ]
  },
  {
   "cell_type": "markdown",
   "id": "54b6deaa-a730-4d38-ac3b-e75ad8a3d78b",
   "metadata": {},
   "source": [
    "## Import libraries"
   ]
  },
  {
   "cell_type": "code",
   "execution_count": 1,
   "id": "de71e742-8577-439e-8cbd-73822d13972d",
   "metadata": {},
   "outputs": [
    {
     "name": "stderr",
     "output_type": "stream",
     "text": [
      "/home/jovyan/accesibilidad-urbana/aup/data.py:25: UserWarning: The `utils.config` function is deprecated and will be removed in a future release. Instead, use the `settings` module directly to configure a global setting's value. For example, `ox.settings.log_console=True`.\n",
      "  ox.config(\n"
     ]
    }
   ],
   "source": [
    "import os\n",
    "import sys\n",
    "\n",
    "import pandas as pd\n",
    "import geopandas as gpd\n",
    "import osmnx as ox\n",
    "import numpy as np\n",
    "\n",
    "import matplotlib.pyplot as plt\n",
    "import seaborn as sns\n",
    "\n",
    "import warnings\n",
    "warnings.simplefilter(action='ignore', category=FutureWarning)\n",
    "\n",
    "module_path = os.path.abspath(os.path.join('../../'))\n",
    "if module_path not in sys.path:\n",
    "    sys.path.append(module_path)\n",
    "    import aup"
   ]
  },
  {
   "cell_type": "markdown",
   "id": "17e29570-63d9-42da-b988-3b6ba5df2815",
   "metadata": {},
   "source": [
    "## Load data"
   ]
  },
  {
   "cell_type": "code",
   "execution_count": 2,
   "id": "ae7a1e38-4f2c-4a80-abca-413450465819",
   "metadata": {},
   "outputs": [
    {
     "name": "stdout",
     "output_type": "stream",
     "text": [
      "(367, 6)\n",
      "71\n",
      "['Aguascalientes', 'Ensenada', 'Mexicali', 'Tijuana', 'La Paz', 'Los Cabos', 'Campeche', 'Laguna', 'Monclova', 'Piedras Negras', 'Saltillo', 'Colima', 'Tapachula', 'Tuxtla', 'Chihuahua', 'Delicias', 'Juarez', 'CDMX', 'ZMVM', 'Durango', 'Celaya', 'Guanajuato', 'Leon', 'Irapuato', 'Acapulco', 'Chilpancingo', 'Pachuca', 'Tulancingo', 'Guadalajara', 'Vallarta', 'Piedad', 'Toluca', 'Morelia', 'Zamora', 'Uruapan', 'Cuautla', 'Cuernavaca', 'Tepic', 'Monterrey', 'Oaxaca', 'Puebla', 'San Martin', 'Tehuacan', 'Queretaro', 'Cancun', 'Chetumal', 'Playa', 'SLP', 'Culiacan', 'Los Mochis', 'Mazatlan', 'Guaymas', 'Ciudad Obregon', 'Hermosillo', 'Nogales', 'Villahermosa', 'Victoria', 'Matamoros', 'Nuevo Laredo', 'Reynosa', 'Tampico', 'Tlaxcala', 'Coatzacoalcos', 'Cordoba', 'Minatitlan', 'Orizaba', 'Poza Rica', 'Veracruz', 'Xalapa', 'Merida', 'Zacatecas']\n"
     ]
    },
    {
     "data": {
      "text/html": [
       "<div>\n",
       "<style scoped>\n",
       "    .dataframe tbody tr th:only-of-type {\n",
       "        vertical-align: middle;\n",
       "    }\n",
       "\n",
       "    .dataframe tbody tr th {\n",
       "        vertical-align: top;\n",
       "    }\n",
       "\n",
       "    .dataframe thead th {\n",
       "        text-align: right;\n",
       "    }\n",
       "</style>\n",
       "<table border=\"1\" class=\"dataframe\">\n",
       "  <thead>\n",
       "    <tr style=\"text-align: right;\">\n",
       "      <th></th>\n",
       "      <th>CVEGEO</th>\n",
       "      <th>CVE_ENT</th>\n",
       "      <th>CVE_MUN</th>\n",
       "      <th>NOMGEO</th>\n",
       "      <th>geometry</th>\n",
       "      <th>city</th>\n",
       "    </tr>\n",
       "  </thead>\n",
       "  <tbody>\n",
       "    <tr>\n",
       "      <th>0</th>\n",
       "      <td>01001</td>\n",
       "      <td>01</td>\n",
       "      <td>001</td>\n",
       "      <td>Aguascalientes</td>\n",
       "      <td>POLYGON ((-102.10641 22.06035, -102.10368 22.0...</td>\n",
       "      <td>Aguascalientes</td>\n",
       "    </tr>\n",
       "  </tbody>\n",
       "</table>\n",
       "</div>"
      ],
      "text/plain": [
       "  CVEGEO CVE_ENT CVE_MUN          NOMGEO  \\\n",
       "0  01001      01     001  Aguascalientes   \n",
       "\n",
       "                                            geometry            city  \n",
       "0  POLYGON ((-102.10641 22.06035, -102.10368 22.0...  Aguascalientes  "
      ]
     },
     "execution_count": 2,
     "metadata": {},
     "output_type": "execute_result"
    }
   ],
   "source": [
    "# gdf_mun\n",
    "metro_schema = 'metropolis'\n",
    "metro_table = 'metro_gdf_2020'\n",
    "\n",
    "query = f\"SELECT * FROM {metro_schema}.{metro_table}\"\n",
    "metro_gdf = aup.gdf_from_query(query, geometry_col='geometry')\n",
    "metro_gdf = metro_gdf.set_crs(\"EPSG:4326\")\n",
    "\n",
    "city_list = list(metro_gdf.city.unique())\n",
    "\n",
    "# Show\n",
    "print(metro_gdf.shape)\n",
    "print(len(city_list))\n",
    "print(city_list)\n",
    "metro_gdf.head(1)"
   ]
  },
  {
   "cell_type": "markdown",
   "id": "3bf2e232-07e1-4da4-9d9c-623436503037",
   "metadata": {},
   "source": [
    "## Run function create_osmnx_network for each city and save"
   ]
  },
  {
   "cell_type": "code",
   "execution_count": null,
   "id": "753871ea-6d19-4c24-8895-28dce431a4ee",
   "metadata": {},
   "outputs": [
    {
     "name": "stdout",
     "output_type": "stream",
     "text": [
      "--------------------------------------------------------------------------------\n",
      "Aguascalientes already processed. (70/71)\n",
      "--------------------------------------------------------------------------------\n",
      "Ensenada already processed. (70/71)\n",
      "--------------------------------------------------------------------------------\n",
      "Mexicali already processed. (70/71)\n",
      "--------------------------------------------------------------------------------\n",
      "Tijuana already processed. (70/71)\n",
      "--------------------------------------------------------------------------------\n",
      "La Paz already processed. (70/71)\n",
      "--------------------------------------------------------------------------------\n",
      "Los Cabos already processed. (70/71)\n",
      "--------------------------------------------------------------------------------\n",
      "Campeche already processed. (70/71)\n",
      "--------------------------------------------------------------------------------\n",
      "Laguna already processed. (70/71)\n",
      "--------------------------------------------------------------------------------\n",
      "Monclova already processed. (70/71)\n",
      "--------------------------------------------------------------------------------\n",
      "Piedras Negras already processed. (70/71)\n",
      "--------------------------------------------------------------------------------\n",
      "Saltillo already processed. (70/71)\n",
      "--------------------------------------------------------------------------------\n",
      "Colima already processed. (70/71)\n",
      "--------------------------------------------------------------------------------\n",
      "Tapachula already processed. (70/71)\n",
      "--------------------------------------------------------------------------------\n",
      "Tuxtla already processed. (70/71)\n",
      "--------------------------------------------------------------------------------\n",
      "Chihuahua already processed. (70/71)\n",
      "--------------------------------------------------------------------------------\n",
      "Delicias already processed. (70/71)\n",
      "--------------------------------------------------------------------------------\n",
      "Juarez already processed. (70/71)\n",
      "--------------------------------------------------------------------------------\n",
      "CDMX already processed. (70/71)\n",
      "--------------------------------------------------------------------------------\n",
      "Starting city 71/71: ZMVM\n",
      "Extracted min and max coordinates from the municipality. Polygon N:20.04706, S:19.11426, E-98.62752, W-99.53398.\n"
     ]
    }
   ],
   "source": [
    "# prevent cities being analyzed several times in case of a crash\n",
    "nodes_processed_city_list = []\n",
    "edges_processed_city_list = []\n",
    "\n",
    "try:\n",
    "    query = f\"SELECT city FROM osmnx.nodes_23_point\"\n",
    "    nodes_processed = aup.df_from_query(query)\n",
    "    nodes_processed_city_list = list(nodes_processed.city.unique())\n",
    "    \n",
    "    query = f\"SELECT city FROM osmnx.edges_23_line\"\n",
    "    edges_processed = aup.df_from_query(query)\n",
    "    edges_processed_city_list = list(edges_processed.city.unique())\n",
    "\n",
    "except:\n",
    "    pass\n",
    "\n",
    "# Done cities\n",
    "i = len(edges_processed_city_list)\n",
    "\n",
    "# Cities to go\n",
    "j = len(city_list)\n",
    "\n",
    "# Failed on:\n",
    "    # Campeche: InterfaceError: (psycopg2.InterfaceError) connection already closed (Background on this error at: https://sqlalche.me/e/20/rvf5)\n",
    "skip_city_list = []\n",
    "#['ZMVM','CDMX']\n",
    "#['Monterrey','Guadalajara','Campeche']\n",
    "\n",
    "for city in city_list:\n",
    "    if city not in skip_city_list:\n",
    "        if (city not in nodes_processed_city_list) and (city not in edges_processed_city_list):\n",
    "            print(\"--\"*40)\n",
    "            i = i + 1\n",
    "            print(f\"Starting city {i}/{j}: {city}\")\n",
    "        \n",
    "            # Load area of interest\n",
    "            city_gdf = metro_gdf.loc[metro_gdf.city == city]\n",
    "            aoi = city_gdf.dissolve()\n",
    "            \n",
    "            # Create Network\n",
    "            G,nodes,edges = aup.create_osmnx_network(aoi, how='from_bbox', network_type='all_private')\n",
    "\n",
    "            nodes['city'] = city\n",
    "            edges['city'] = city\n",
    "        \n",
    "            # Save Network\n",
    "            print(f\"Uploading nodes for {city}\")\n",
    "            aup.gdf_to_db_slow(nodes, 'nodes_23_point', 'osmnx', if_exists='append')\n",
    "            print(f\"Uploading edges for {city}\")\n",
    "            aup.gdf_to_db_slow(edges, 'edges_23_line', 'osmnx', if_exists='append')\n",
    "\n",
    "        else:\n",
    "            print(\"--\"*40)\n",
    "            print(f\"{city} already processed. ({i}/{j})\")\n",
    "            \n",
    "    else:\n",
    "        print(\"--\"*40)\n",
    "        print(f\"SKIPPED {city}\")"
   ]
  },
  {
   "cell_type": "code",
   "execution_count": null,
   "id": "bde476d1-97e2-4d11-871b-387bb7b703ed",
   "metadata": {},
   "outputs": [],
   "source": [
    "# Compare columns with db data\n",
    "#city_list = ['Aguascalientes']\n",
    "\n",
    "#for city in city_list:\n",
    "    # Load area of interest\n",
    "#    city_gdf = metro_gdf.loc[metro_gdf.city == city]\n",
    "#    aoi = city_gdf.dissolve()\n",
    "\n",
    "#    nodes_gdf = aup.gdf_from_polygon(aoi, 'osmnx', 'nodes', geom_col=\"geometry\")\n",
    "#    nodes_gdf = nodes_gdf.set_crs(\"EPSG:4326\")\n",
    "    \n",
    "#    edges_gdf = aup.gdf_from_polygon(aoi, 'osmnx', 'edges', geom_col=\"geometry\")\n",
    "#    edges_gdf = edges_gdf.set_crs(\"EPSG:4326\")"
   ]
  },
  {
   "cell_type": "code",
   "execution_count": null,
   "id": "09f3a075-7d06-421a-9180-7d51c83ca579",
   "metadata": {},
   "outputs": [],
   "source": [
    "# Check available data\n",
    "#city_list = ['Aguascalientes']\n",
    "\n",
    "#for city in city_list:\n",
    "    # Load area of interest\n",
    "#    city_gdf = metro_gdf.loc[metro_gdf.city == city]\n",
    "#    aoi = city_gdf.dissolve()\n",
    "\n",
    "#    nodes_gdf = aup.gdf_from_polygon(aoi, 'osmnx', 'nodes_23_point', geom_col=\"geometry\")\n",
    "#    nodes_gdf = nodes_gdf.set_crs(\"EPSG:4326\")\n",
    "    \n",
    "#    edges_gdf = aup.gdf_from_polygon(aoi, 'osmnx', 'edges_23_line', geom_col=\"geometry\")\n",
    "#    edges_gdf = edges_gdf.set_crs(\"EPSG:4326\")"
   ]
  },
  {
   "cell_type": "code",
   "execution_count": null,
   "id": "e877290b-2925-4bcd-9bb4-614538934a6e",
   "metadata": {},
   "outputs": [],
   "source": []
  }
 ],
 "metadata": {
  "kernelspec": {
   "display_name": "GDS-10.0",
   "language": "python",
   "name": "gds"
  },
  "language_info": {
   "codemirror_mode": {
    "name": "ipython",
    "version": 3
   },
   "file_extension": ".py",
   "mimetype": "text/x-python",
   "name": "python",
   "nbconvert_exporter": "python",
   "pygments_lexer": "ipython3",
   "version": "3.9.18"
  }
 },
 "nbformat": 4,
 "nbformat_minor": 5
}
