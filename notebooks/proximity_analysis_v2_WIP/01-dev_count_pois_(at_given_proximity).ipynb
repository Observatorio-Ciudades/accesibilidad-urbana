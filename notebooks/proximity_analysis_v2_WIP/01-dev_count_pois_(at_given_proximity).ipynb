{
 "cells": [
  {
   "cell_type": "code",
   "execution_count": 1,
   "id": "9ace2cd4-cfc1-4cb2-97d2-0d39eca03b63",
   "metadata": {},
   "outputs": [
    {
     "name": "stderr",
     "output_type": "stream",
     "text": [
      "/home/jovyan/accesibilidad-urbana/aup/data.py:25: UserWarning: The `utils.config` function is deprecated and will be removed in a future release. Instead, use the `settings` module directly to configure a global setting's value. For example, `ox.settings.log_console=True`.\n",
      "  ox.config(\n"
     ]
    }
   ],
   "source": [
    "import os\n",
    "import sys\n",
    "\n",
    "import pandas as pd\n",
    "import geopandas as gpd\n",
    "import osmnx as ox\n",
    "import numpy as np\n",
    "\n",
    "import matplotlib.pyplot as plt\n",
    "import seaborn as sns\n",
    "\n",
    "import warnings\n",
    "warnings.simplefilter(action='ignore', category=FutureWarning)\n",
    "\n",
    "module_path = os.path.abspath(os.path.join('../../'))\n",
    "if module_path not in sys.path:\n",
    "    sys.path.append(module_path)\n",
    "    import aup"
   ]
  },
  {
   "cell_type": "code",
   "execution_count": 2,
   "id": "2ee368c1-fab8-4f81-a210-5de1b9fc783f",
   "metadata": {},
   "outputs": [],
   "source": [
    "city = 'Aguascalientes'\n",
    "version = 1\n",
    "prox_measure = 'time_min'\n",
    "\n",
    "# BASE DATA REQUIRED\n",
    "# Area of interest (city)\n",
    "metro_schema = 'metropolis'\n",
    "metro_table = 'metro_gdf_2015' #'metro_gdf_2015' or 'metro_gdf_2020'\n",
    "# Network data (nodes and edges table for distance analysis,\n",
    "# also used to generate the network G with which the nearest OSMID is assigned to each poi)\n",
    "network_schema = 'osmnx'\n",
    "nodes_table = 'nodes' #'nodes' or 'nodes_23_point'\n",
    "edges_table = 'edges_speed' ################################# PENDIENTE\n",
    "# Points of interest - DENUE\n",
    "denue_schema = 'denue'\n",
    "denue_table = 'denue_2020' #'denue_2020' or 'denue_23_point'\n",
    "# Points of interest - CLUES\n",
    "clues_schema = 'denue'\n",
    "clues_table = 'clues' #'clues' or 'clues_23_point'\n",
    "# Points of interest - SIP\n",
    "sip_schema = 'denue'\n",
    "sip_table = 'sip_2020' #'sip_2020' or 'sip_23_point'\n",
    "# Hexgrid\n",
    "hex_schema = 'hexgrid'\n",
    "# Population data\n",
    "pop_schema = 'censo'\n",
    "pop_table = 'hex_bins_pop_2020' ################################# PENDIENTE"
   ]
  },
  {
   "cell_type": "code",
   "execution_count": 3,
   "id": "af9141ff-3d88-4c90-9deb-96d88e3ad4e7",
   "metadata": {},
   "outputs": [],
   "source": [
    "parameters = {'Escuelas':{'Preescolar':{'denue_preescolar':[611111, 611112]}}}\n",
    "#                          'Primaria':{'denue_primaria':[611121, 611122]},\n",
    "#                          'Secundaria':{'denue_secundaria':[611131, 611132]}\n",
    "#                         }\n",
    "#             }\n",
    "\n",
    "source_weight = {'Escuelas':{'Preescolar':'max'}}, #There is only one source, no effect.\n",
    "#                             'Primaria':'max',  #There is only one source, no effect.\n",
    "#                             'Secundaria':'max'\n",
    "#                            },  #There is only one source, no effect.\n",
    "#                }"
   ]
  },
  {
   "cell_type": "code",
   "execution_count": 4,
   "id": "75cc2f16-9e0c-4bce-b6f1-84bc7fb581f8",
   "metadata": {},
   "outputs": [],
   "source": [
    "def get_denue_pois(denue_schema,denue_table,poly_wkt,code,version):\n",
    "    # This function downloads the codigo_act denue poi requested for the analysis.\n",
    "    # If it is version 2.0, applies a filter to certain pois.\n",
    "\n",
    "    # Download denue pois\n",
    "    query = f\"SELECT * FROM {denue_schema}.{denue_table} WHERE (ST_Intersects(geometry, \\'SRID=4326;{poly_wkt}\\')) AND (\\\"codigo_act\\\" = \\'{code}\\')\"\n",
    "    code_pois = aup.gdf_from_query(query, geometry_col='geometry')\n",
    "\n",
    "     # Format denue pois\n",
    "    code_pois = code_pois[['codigo_act', 'geometry']]\n",
    "    code_pois = code_pois.rename(columns={'codigo_act':'code'})\n",
    "    code_pois['code'] = code_pois['code'].astype('int64')\n",
    "    \n",
    "    return code_pois"
   ]
  },
  {
   "cell_type": "code",
   "execution_count": 5,
   "id": "e82e307a-035b-4887-bddb-d24d6f2d16eb",
   "metadata": {},
   "outputs": [],
   "source": [
    "# Download area of interest\n",
    "query = f\"SELECT * FROM {metro_schema}.{metro_table} WHERE \\\"city\\\" LIKE \\'{city}\\'\"\n",
    "mun_gdf = aup.gdf_from_query(query, geometry_col='geometry')\n",
    "mun_gdf = mun_gdf.set_crs(\"EPSG:4326\")\n",
    "aoi = mun_gdf.dissolve()"
   ]
  },
  {
   "cell_type": "code",
   "execution_count": 6,
   "id": "6d36b56d-fe82-4ca0-b7be-b7e515e9014e",
   "metadata": {},
   "outputs": [],
   "source": [
    "# Download Network used to calculate nearest note to each poi\n",
    "G, nodes, edges = aup.graph_from_hippo(aoi, schema=network_schema, edges_folder=edges_table, nodes_folder=nodes_table)"
   ]
  },
  {
   "cell_type": "code",
   "execution_count": 7,
   "id": "70df7a80-4606-408c-adbe-c5e2c381bd20",
   "metadata": {},
   "outputs": [
    {
     "name": "stdout",
     "output_type": "stream",
     "text": [
      "(51434, 4)\n",
      "(121037, 19)\n"
     ]
    }
   ],
   "source": [
    "# Show\n",
    "print(nodes.shape)\n",
    "print(edges.shape)"
   ]
  },
  {
   "cell_type": "code",
   "execution_count": 8,
   "id": "deedac2b-3bb7-4808-9242-c50b60a3ed59",
   "metadata": {},
   "outputs": [],
   "source": [
    "poly_wkt = aoi.dissolve().geometry.to_wkt()[0]\n",
    "\n",
    "i = 0\n",
    "source_list = []\n",
    "\n",
    "for eje in parameters.keys():\n",
    "    for amenity in parameters[eje]:\n",
    "        for source in parameters[eje][amenity]:\n",
    "\n",
    "            source_list.append(source)\n",
    "            # ANALYSIS - Select source points of interest\n",
    "            source_pois = gpd.GeoDataFrame()\n",
    "            for code in parameters[eje][amenity][source]:\n",
    "                #If source is denue:\n",
    "                if source[0] == 'd':\n",
    "                    aup.log(f'--- Downloading denue source pois code {code} from db.')\n",
    "                    code_pois = get_denue_pois(denue_schema,denue_table,poly_wkt,code,version)\n",
    "                #If source is clues or sip:\n",
    "                elif source[0] == 'c' or source[0] == 's':\n",
    "                    aup.log(f'--- Getting clues/sip source pois code {code} from previously downloaded.')\n",
    "                    code_pois = sip_clues_gdf.loc[sip_clues_gdf['code'] == code]\n",
    "                else:\n",
    "                    aup.log(f'--- Error, check parameters dicctionary.')\n",
    "                    aup.log(f'--- Sources must start with denue_, clues_ or sip_.')\n",
    "                    intended_crash\n",
    "                    \n",
    "                source_pois = pd.concat([source_pois,code_pois])\n",
    "\n",
    "            # ANALYSIS - Calculate times from nodes to source\n",
    "            #source_nodes_time = aup.pois_time(G, nodes, edges, source_pois, source, prox_measure)"
   ]
  },
  {
   "cell_type": "code",
   "execution_count": 9,
   "id": "c52a2109-89d7-473b-b4af-b93295497b97",
   "metadata": {},
   "outputs": [
    {
     "name": "stdout",
     "output_type": "stream",
     "text": [
      "(306, 2)\n"
     ]
    },
    {
     "data": {
      "text/html": [
       "<div>\n",
       "<style scoped>\n",
       "    .dataframe tbody tr th:only-of-type {\n",
       "        vertical-align: middle;\n",
       "    }\n",
       "\n",
       "    .dataframe tbody tr th {\n",
       "        vertical-align: top;\n",
       "    }\n",
       "\n",
       "    .dataframe thead th {\n",
       "        text-align: right;\n",
       "    }\n",
       "</style>\n",
       "<table border=\"1\" class=\"dataframe\">\n",
       "  <thead>\n",
       "    <tr style=\"text-align: right;\">\n",
       "      <th></th>\n",
       "      <th>code</th>\n",
       "      <th>geometry</th>\n",
       "    </tr>\n",
       "  </thead>\n",
       "  <tbody>\n",
       "    <tr>\n",
       "      <th>0</th>\n",
       "      <td>611111</td>\n",
       "      <td>POINT (-102.27464 21.90191)</td>\n",
       "    </tr>\n",
       "  </tbody>\n",
       "</table>\n",
       "</div>"
      ],
      "text/plain": [
       "     code                     geometry\n",
       "0  611111  POINT (-102.27464 21.90191)"
      ]
     },
     "execution_count": 9,
     "metadata": {},
     "output_type": "execute_result"
    }
   ],
   "source": [
    "# Show\n",
    "print(source_pois.shape)\n",
    "source_pois.head(1)"
   ]
  },
  {
   "cell_type": "markdown",
   "id": "b7f2aa6b-4693-4607-89bf-bacafbef37a5",
   "metadata": {},
   "source": [
    "# STARTS SCRIPT/FUNCTIONS REDEVELOPMENT"
   ]
  },
  {
   "cell_type": "code",
   "execution_count": 14,
   "id": "f3c29cee-f4f0-4010-920c-e5b3119bd998",
   "metadata": {},
   "outputs": [],
   "source": [
    "test = True"
   ]
  },
  {
   "cell_type": "markdown",
   "id": "ddd20c12-026c-47db-96fd-77665a897400",
   "metadata": {},
   "source": [
    "## DESGLOSE DE LA FUNCIÓN aup.pois_time"
   ]
  },
  {
   "cell_type": "code",
   "execution_count": 93,
   "id": "3796755d-11e9-43ac-9936-f7b1966dc4fa",
   "metadata": {},
   "outputs": [],
   "source": [
    "### DESGLOSE DE LA FUNCIÓN aup.pois_time\n",
    "\n",
    "if test:\n",
    "    # Objetivo:\n",
    "    #source_nodes_time = aup.pois_time(G, nodes, edges, source_pois, source, prox_measure)\n",
    "    \n",
    "    # Función usada:\n",
    "    #def pois_time(G, nodes, edges, pois, poi_name, prox_measure):\n",
    "    \n",
    "    # Base data needed:\n",
    "    pois = source_pois.copy()\n",
    "    poi_name = source"
   ]
  },
  {
   "cell_type": "code",
   "execution_count": 94,
   "id": "5b5e0b03-19eb-43ff-b9c8-ca914fde0311",
   "metadata": {},
   "outputs": [
    {
     "name": "stdout",
     "output_type": "stream",
     "text": [
      "Found and assigned nearest node osmid to each denue_preescolar.\n",
      "Starting time analysis for denue_preescolar.\n",
      "Starting range k = 1 of 2 for denue_preescolar.\n",
      "Starting range k = 2 of 2 for denue_preescolar.\n"
     ]
    }
   ],
   "source": [
    "### DESGLOSE DE LA FUNCIÓN aup.pois_time\n",
    "\n",
    "if test:\n",
    "    ##########################################################################################\n",
    "    # Step 1: NEAREST. Finds and assigns nearest node OSMID to each point of interest.\n",
    "       \n",
    "    # Defines projection for downloaded data\n",
    "    pois = pois.set_crs(\"EPSG:4326\")\n",
    "    nodes = nodes.set_crs(\"EPSG:4326\")\n",
    "    edges = edges.set_crs(\"EPSG:4326\")\n",
    "    \n",
    "    # In case there are no amenities of the type in the city, prevents it from crashing if len = 0\n",
    "    if len(pois) == 0:\n",
    "        nodes_time = nodes.copy()\n",
    "        # Time is set to np.nan\n",
    "        nodes_time['time'] = np.nan\n",
    "        print(f\"0 {poi_name} found. Time set to 0.\")\n",
    "        # Format\n",
    "        nodes_time['source'] = poi_name\n",
    "        nodes_time.reset_index(inplace=True)\n",
    "        nodes_time = nodes_time.set_crs(\"EPSG:4326\")\n",
    "        nodes_time = nodes_time[['osmid','time','source','x','y','geometry']]\n",
    "        #return nodes_time\n",
    "    \n",
    "    else:\n",
    "        ### Calculate nearest node for each DENUE point\n",
    "        nearest = aup.find_nearest(G, nodes, pois, return_distance= True)\n",
    "        nearest = nearest.set_crs(\"EPSG:4326\")\n",
    "        print(f\"Found and assigned nearest node osmid to each {poi_name}.\")\n",
    "    \n",
    "        ##########################################################################################\n",
    "        # Step 2: DISTANCE NEAREST POI. Calculates distance from each node to its nearest point of interest.\n",
    "            \n",
    "        # --------------- 2.1 FORMAT NETWORK\n",
    "        # Fill NANs with mean times\n",
    "        edges[prox_measure].fillna(edges[prox_measure].mean(),inplace=True)\n",
    "        \n",
    "        # --------------- 2.2 ELEMENTS NEEDED OUTSIDE THE LOOP\n",
    "        # The pois are divided by batches of 200 or 250 pois and analysed using the function calculate_distance_nearest_poi\n",
    "        # nodes_analysis is a nodes (index reseted) used in the function.\n",
    "        nodes_analysis = nodes.reset_index().copy()\n",
    "        # df_temp: Each column will store a batch of procesed nodes.\n",
    "        df_temp = nodes.copy()\n",
    "        #nodes_distance: Minimum time/distance found in all batches will be added from df_min (within if/elif/else) \n",
    "        #\t\t\t\t to nodes_distance (output) keeping x,y and geometry data.\n",
    "        nodes_distance = nodes.copy()\n",
    "        \n",
    "        # --------------- 2.3 PROCESSING DISTANCE\n",
    "        print (f\"Starting time analysis for {poi_name}.\")\n",
    "        \n",
    "        # If possible, analyses by batches of 200 pois.\n",
    "        if len(nearest) % 250:\n",
    "            batch_size = len(nearest)/200\n",
    "            for k in range(int(batch_size)+1):\n",
    "                print(f\"Starting range k = {k+1} of {int(batch_size)+1} for {poi_name}.\")\n",
    "                source_process = nearest.iloc[int(200*k):int(200*(1+k))].copy()\n",
    "                #nodes_distance_prep = calculate_distance_nearest_poi(source_process, nodes_analysis, edges, poi_name, 'osmid', wght=prox_measure)"
   ]
  },
  {
   "cell_type": "markdown",
   "id": "9d2035a3-d335-43cf-ad35-aae8e97a865b",
   "metadata": {},
   "source": [
    "## DESGLOSE DE LAS FUNCIONES aup.calculate_distance_nearest_poi & aup.get_distances"
   ]
  },
  {
   "cell_type": "markdown",
   "id": "87474ab0-85f2-4882-ac93-7cf38a09faf2",
   "metadata": {},
   "source": [
    "### 01 - Exploración del código"
   ]
  },
  {
   "cell_type": "code",
   "execution_count": 45,
   "id": "fda7f8a0-82ea-4303-be63-d55d0d4b635e",
   "metadata": {},
   "outputs": [],
   "source": [
    "# DESGLOSE DE LA FUNCIÓN aup.calculate_distance_nearest_poi\n",
    "\n",
    "if test:\n",
    "    # Objetivo:\n",
    "    #nodes_distance_prep = aup.calculate_distance_nearest_poi(source_process, nodes_analysis, edges, poi_name, 'osmid', wght=prox_measure, get_nearest_poi=(False, 'osmid'))\n",
    "    \n",
    "    # Función usada:\n",
    "    # def calculate_distance_nearest_poi(gdf_f, nodes, edges, amenity_name, column_name, wght='length', get_nearest_poi=(False, 'poi_id_column') max_distance=(0,'distance_node'))\n",
    "    \n",
    "    # Base data needed:\n",
    "    gdf_f = source_process.copy()\n",
    "    nodes = nodes_analysis.copy()\n",
    "    amenity_name = poi_name\n",
    "    column_name = 'osmid'\n",
    "    wght = prox_measure\n",
    "    get_nearest_poi=(True, 'osmid')\n",
    "    max_distance=(0,'distance_node')"
   ]
  },
  {
   "cell_type": "code",
   "execution_count": 48,
   "id": "a1e3b2f1-3964-4388-a87a-af3b42570010",
   "metadata": {},
   "outputs": [],
   "source": [
    "# DESGLOSE DE LA FUNCIÓN aup.calculate_distance_nearest_poi\n",
    "\n",
    "if test:\n",
    "    # --- Required processing\n",
    "\tnodes = nodes.copy()\n",
    "\tedges = edges.copy()\n",
    "\tif max_distance[0] > 0:\n",
    "\t\tgdf_f = gdf_f.loc[gdf_f[max_distance[1]]<=max_distance[0]]\n",
    "\tg, weights, node_mapping = aup.to_igraph(nodes,edges,wght=wght) #convert to igraph to run the calculations\n",
    "\tseeds = aup.get_seeds(gdf_f, node_mapping, column_name)\n",
    "\tvoronoi_assignment = aup.voronoi_cpu(g, weights, seeds)\n",
    "\n",
    "    #if get_nearest_poi[0]: # Return distances and nearest poi idx\n",
    "    \t#distances, nearest_poi_idx = get_distances(g,seeds,weights,voronoi_assignment,get_nearest_poi=True)"
   ]
  },
  {
   "cell_type": "code",
   "execution_count": 47,
   "id": "8d57bf99-e09f-4858-89e0-545ab12a00d1",
   "metadata": {},
   "outputs": [
    {
     "name": "stderr",
     "output_type": "stream",
     "text": [
      "/tmp/ipykernel_91615/893628089.py:12: DeprecationWarning: Graph.shortest_paths() is deprecated; use Graph.distances() instead\n",
      "  shortest_paths = np.array(g.shortest_paths_dijkstra(seeds,weights=weights))\n"
     ]
    }
   ],
   "source": [
    "# DESGLOSE DE LA FUNCIÓN aup.get_distances\n",
    "\n",
    "if test:\n",
    "    # Objetivo:\n",
    "    # distances, nearest_poi_idx = get_distances(g,seeds,weights,voronoi_assignment,get_nearest_poi=True)\n",
    "    \n",
    "    # Función usada:\n",
    "    # def get_distances(g, seeds, weights, voronoi_assignment, get_nearest_poi=False):\n",
    "    \n",
    "    # Base data needed:\n",
    "    get_nearest_poi=True\n",
    "    shortest_paths = np.array(g.shortest_paths_dijkstra(seeds,weights=weights))\n",
    "    distances = [np.min(shortest_paths[:,i]) for i in range(len(voronoi_assignment))]"
   ]
  },
  {
   "cell_type": "code",
   "execution_count": 44,
   "id": "d2162fbc-09d6-4000-a74a-8f38b9b7b213",
   "metadata": {},
   "outputs": [
    {
     "name": "stdout",
     "output_type": "stream",
     "text": [
      "[[113.33214179 115.88226669 378.65469722 ... 442.08203755 446.50099706\n",
      "  445.02305781]\n",
      " [ 78.58497605  76.96433302 333.88721812 ... 411.47954795 415.89850746\n",
      "  414.42056822]\n",
      " [ 85.56306961  88.11319451 350.88562504 ... 386.46582687 390.88478638\n",
      "  389.40684714]\n",
      " ...\n",
      " [ 87.06053584  85.43989281 309.5042713  ... 413.90823148 418.32719099\n",
      "  416.84925174]\n",
      " [180.1850379  182.73516281 445.50759333 ... 444.69173697 449.11069648\n",
      "  447.63275723]\n",
      " [101.15011665 102.08379497 360.33744754 ... 429.90001241 434.31897192\n",
      "  432.84103267]]\n"
     ]
    }
   ],
   "source": [
    "if test:\n",
    "    # Matriz de interés. Contiene los tiempos.\n",
    "\n",
    "    # Show\n",
    "    print(shortest_paths)"
   ]
  },
  {
   "cell_type": "code",
   "execution_count": 43,
   "id": "93d210c0-98d3-4565-8315-3a8615ab1ca9",
   "metadata": {},
   "outputs": [
    {
     "name": "stdout",
     "output_type": "stream",
     "text": [
      "[113.33214179  78.58497605  85.56306961 117.52311897  68.60085329\n",
      "  51.56463007 170.9175337   75.07727785 223.8291327   58.42020168\n",
      " 315.31174911 110.61660483 162.72606779 228.3471477   92.96721778\n",
      "  53.68238175 173.65663025 100.35295246  74.48106063 291.35137183\n",
      " 370.29557164  42.3794578  204.13221372 230.21278095  55.58135656\n",
      " 208.22490023 156.06895672  69.85007677 221.16000957  51.39209932\n",
      " 199.28687143 106.05166432  51.26005005 101.42330262 170.48918077\n",
      "  50.06991488  61.11640661  54.79656954  81.26428866  65.79941447\n",
      "  63.5149553  133.22728122  87.22870857 202.90183309 234.88127472\n",
      " 211.8147678   65.69617246  74.70116732 357.27566147 142.21288107\n",
      " 105.08072001 119.37030475 101.54756158  90.45926562  99.52946609\n",
      "  91.3153677  204.08824287 167.11815649 182.94639004  67.71718786\n",
      "  11.61862373 104.89382074  29.22382747 205.38705709 100.35583427\n",
      " 216.88135097  80.91884763 215.36086315  66.82910877  27.23033332\n",
      " 255.72981364 145.04748389 114.25754681  61.03697984  66.07271408\n",
      " 163.4551335  251.41725365 161.27715468  37.37821699  54.45390124\n",
      "  37.86706729  29.71557801  81.98916462  71.92967014 100.47284979\n",
      " 202.16264116  46.5733731   28.70411873 188.32724574  79.39718892\n",
      "  36.27035618 229.55696759  87.06053584 180.1850379  101.15011665]\n"
     ]
    }
   ],
   "source": [
    "if test:\n",
    "    # Ejemplo de función que se utiliza para conocer la nearest amenity\n",
    "    # nearest_poi_idx = [np.argmin(shortest_paths[:,i]) for i in range(len(voronoi_assignment))]\n",
    "    \n",
    "    # Show\n",
    "    print(shortest_paths[:,0])"
   ]
  },
  {
   "cell_type": "markdown",
   "id": "b8731699-377f-4bbe-95d2-aaa8e81ce55f",
   "metadata": {},
   "source": [
    "### 02 - Desarrollo del cambio a realizar para que cuente las amenidades a x tiempo (e.g. 15 mins)"
   ]
  },
  {
   "cell_type": "code",
   "execution_count": 56,
   "id": "8f49a8ed-81f7-45bc-a3bd-26e7bb94f791",
   "metadata": {},
   "outputs": [
    {
     "name": "stdout",
     "output_type": "stream",
     "text": [
      "[2, 1]\n"
     ]
    }
   ],
   "source": [
    "### PRUEBA DEL MÉTODO PARA LA FUNCIÓN get_distances\n",
    "\n",
    "if test:\n",
    "    # Base data\n",
    "    data = np.array([[10, 20],\n",
    "                     [20, 83],\n",
    "                     [1, 15]])\n",
    "    \n",
    "    # Test 1 (failed)\n",
    "    #prueba = np.where( data <= 15 )\n",
    "    # Test 2 (Success)\n",
    "    prueba = [len(np.where(data[:,i] <= 15)[0]) for i in range(2)] #in range of number of columns\n",
    "    # Show\n",
    "    print(prueba)"
   ]
  },
  {
   "cell_type": "markdown",
   "id": "fd7fcd52-c5c2-4aa1-b12e-9e55993e25d8",
   "metadata": {},
   "source": [
    "### 03 - Prueba de redefinición de las funciones"
   ]
  },
  {
   "cell_type": "code",
   "execution_count": 82,
   "id": "24478664-daa3-4493-acf3-a14162e97ab2",
   "metadata": {},
   "outputs": [],
   "source": [
    "if test:\n",
    "    def get_distances(g, seeds, weights, voronoi_assignment, get_nearest_poi=False, count_pois = 0):\n",
    "    \n",
    "        shortest_paths = np.array(g.shortest_paths_dijkstra(seeds,weights=weights))\n",
    "        distances = [np.min(shortest_paths[:,i]) for i in range(len(voronoi_assignment))]\n",
    "        \n",
    "        if get_nearest_poi:\n",
    "            nearest_poi_idx = [np.argmin(shortest_paths[:,i]) for i in range(len(voronoi_assignment))]\n",
    "        \n",
    "        if (count_pois != 0):\n",
    "            near_count = [len(np.where(shortest_paths[:,i] <= count_pois)[0]) for i in range(len(voronoi_assignment))]\n",
    "    \n",
    "        # Return options\n",
    "        if get_nearest_poi and (count_pois != 0):\n",
    "            return distances, nearest_poi_idx, near_count\n",
    "        elif get_nearest_poi:\n",
    "            return distances, nearest_poi_idx\n",
    "        elif (count_pois != 0):\n",
    "            return distances, near_count\n",
    "        else:\n",
    "            return distances"
   ]
  },
  {
   "cell_type": "code",
   "execution_count": 83,
   "id": "8666e447-24fc-4b86-b288-1f98055a904d",
   "metadata": {},
   "outputs": [],
   "source": [
    "if test:\n",
    "    def calculate_distance_nearest_poi(gdf_f, nodes, edges, amenity_name, column_name, \n",
    "    wght='length', get_nearest_poi=(False, 'poi_id_column'),count_pois=0, max_distance=(0,'distance_node')):\n",
    "                                       \n",
    "        nodes = nodes.copy()\n",
    "        edges = edges.copy()\n",
    "        if max_distance[0] > 0:\n",
    "            gdf_f = gdf_f.loc[gdf_f[max_distance[1]]<=max_distance[0]]\n",
    "        g, weights, node_mapping = aup.to_igraph(nodes,edges,wght=wght) #convert to igraph to run the calculations\n",
    "        col_weight = f'dist_{amenity_name}'\n",
    "        seeds = aup.get_seeds(gdf_f, node_mapping, column_name)\n",
    "        voronoi_assignment = aup.voronoi_cpu(g, weights, seeds)\n",
    "    \n",
    "        # Return distances, nearest poi and near count\n",
    "        if get_nearest_poi[0] and (count_pois != 0):\n",
    "            distances, nearest_poi_idx, near_count = get_distances(g,seeds,weights,voronoi_assignment,\n",
    "                                                                   get_nearest_poi=True, \n",
    "                                                                   count_pois=count_pois)\n",
    "            nearest_poi = [gdf_f.iloc[i][get_nearest_poi[1]] for i in nearest_poi_idx]\n",
    "            nodes[f'{count_pois}min_{amenity_name}'] = near_count\n",
    "            nodes[f'nearest_{amenity_name}'] = nearest_poi\n",
    "            \n",
    "        # Return distances and nearest poi\n",
    "        elif get_nearest_poi[0]:\n",
    "            distances, nearest_poi_idx = get_distances(g,seeds,weights,voronoi_assignment,\n",
    "                                                       get_nearest_poi=True)\n",
    "            nearest_poi = [gdf_f.iloc[i][get_nearest_poi[1]] for i in nearest_poi_idx]\n",
    "            nodes[f'nearest_{amenity_name}'] = nearest_poi\n",
    "    \n",
    "        # Return distances and near count\n",
    "        elif (count_pois != 0):\n",
    "            distances, near_count = get_distances(g,seeds,weights,voronoi_assignment,\n",
    "                                                  count_pois=count_pois)\n",
    "            nodes[f'{count_pois}min_{amenity_name}'] = near_count\n",
    "    \n",
    "        # Return distances only\n",
    "        else:\n",
    "            distances = get_distances(g,seeds,weights,voronoi_assignment)\n",
    "    \n",
    "        nodes[col_weight] = distances\n",
    "    \n",
    "        nodes.replace([np.inf, -np.inf], np.nan, inplace=True)\n",
    "        idx = pd.notnull(nodes[col_weight])\n",
    "        nodes = nodes[idx].copy()\n",
    "    \n",
    "        return nodes"
   ]
  },
  {
   "cell_type": "markdown",
   "id": "35c4ce98-127f-46cf-88ea-8ae46edcb9d7",
   "metadata": {},
   "source": [
    "### 04 - Resultado de las funciones redefinidas"
   ]
  },
  {
   "cell_type": "code",
   "execution_count": 88,
   "id": "f83f1c21-e19b-40ff-9e48-b5ecc2247b0c",
   "metadata": {},
   "outputs": [
    {
     "name": "stderr",
     "output_type": "stream",
     "text": [
      "/tmp/ipykernel_91615/2864802881.py:4: DeprecationWarning: Graph.shortest_paths() is deprecated; use Graph.distances() instead\n",
      "  shortest_paths = np.array(g.shortest_paths_dijkstra(seeds,weights=weights))\n"
     ]
    },
    {
     "name": "stdout",
     "output_type": "stream",
     "text": [
      "(51371, 6)\n"
     ]
    },
    {
     "data": {
      "text/html": [
       "<div>\n",
       "<style scoped>\n",
       "    .dataframe tbody tr th:only-of-type {\n",
       "        vertical-align: middle;\n",
       "    }\n",
       "\n",
       "    .dataframe tbody tr th {\n",
       "        vertical-align: top;\n",
       "    }\n",
       "\n",
       "    .dataframe thead th {\n",
       "        text-align: right;\n",
       "    }\n",
       "</style>\n",
       "<table border=\"1\" class=\"dataframe\">\n",
       "  <thead>\n",
       "    <tr style=\"text-align: right;\">\n",
       "      <th></th>\n",
       "      <th>index</th>\n",
       "      <th>x</th>\n",
       "      <th>y</th>\n",
       "      <th>street_count</th>\n",
       "      <th>geometry</th>\n",
       "      <th>dist_denue_preescolar</th>\n",
       "    </tr>\n",
       "    <tr>\n",
       "      <th>osmid</th>\n",
       "      <th></th>\n",
       "      <th></th>\n",
       "      <th></th>\n",
       "      <th></th>\n",
       "      <th></th>\n",
       "      <th></th>\n",
       "    </tr>\n",
       "  </thead>\n",
       "  <tbody>\n",
       "    <tr>\n",
       "      <th>272921360</th>\n",
       "      <td>0</td>\n",
       "      <td>-102.295073</td>\n",
       "      <td>21.872876</td>\n",
       "      <td>3</td>\n",
       "      <td>POINT (-102.29507 21.87288)</td>\n",
       "      <td>11.618624</td>\n",
       "    </tr>\n",
       "  </tbody>\n",
       "</table>\n",
       "</div>"
      ],
      "text/plain": [
       "           index           x          y  street_count  \\\n",
       "osmid                                                   \n",
       "272921360      0 -102.295073  21.872876             3   \n",
       "\n",
       "                              geometry  dist_denue_preescolar  \n",
       "osmid                                                          \n",
       "272921360  POINT (-102.29507 21.87288)              11.618624  "
      ]
     },
     "execution_count": 88,
     "metadata": {},
     "output_type": "execute_result"
    }
   ],
   "source": [
    "# Prueba 1: return distance\n",
    "nodes_distance_prep_01 = calculate_distance_nearest_poi(source_process, nodes_analysis, edges, poi_name, 'osmid', wght=prox_measure)\n",
    "\n",
    "# Show\n",
    "print(nodes_distance_prep_01.shape)\n",
    "nodes_distance_prep_01.head(1)"
   ]
  },
  {
   "cell_type": "code",
   "execution_count": 89,
   "id": "065c5586-6ceb-456a-a5d4-a9d455881c79",
   "metadata": {},
   "outputs": [
    {
     "name": "stderr",
     "output_type": "stream",
     "text": [
      "/tmp/ipykernel_91615/2864802881.py:4: DeprecationWarning: Graph.shortest_paths() is deprecated; use Graph.distances() instead\n",
      "  shortest_paths = np.array(g.shortest_paths_dijkstra(seeds,weights=weights))\n"
     ]
    },
    {
     "name": "stdout",
     "output_type": "stream",
     "text": [
      "(51371, 7)\n"
     ]
    },
    {
     "data": {
      "text/html": [
       "<div>\n",
       "<style scoped>\n",
       "    .dataframe tbody tr th:only-of-type {\n",
       "        vertical-align: middle;\n",
       "    }\n",
       "\n",
       "    .dataframe tbody tr th {\n",
       "        vertical-align: top;\n",
       "    }\n",
       "\n",
       "    .dataframe thead th {\n",
       "        text-align: right;\n",
       "    }\n",
       "</style>\n",
       "<table border=\"1\" class=\"dataframe\">\n",
       "  <thead>\n",
       "    <tr style=\"text-align: right;\">\n",
       "      <th></th>\n",
       "      <th>index</th>\n",
       "      <th>x</th>\n",
       "      <th>y</th>\n",
       "      <th>street_count</th>\n",
       "      <th>geometry</th>\n",
       "      <th>nearest_denue_preescolar</th>\n",
       "      <th>dist_denue_preescolar</th>\n",
       "    </tr>\n",
       "    <tr>\n",
       "      <th>osmid</th>\n",
       "      <th></th>\n",
       "      <th></th>\n",
       "      <th></th>\n",
       "      <th></th>\n",
       "      <th></th>\n",
       "      <th></th>\n",
       "      <th></th>\n",
       "    </tr>\n",
       "  </thead>\n",
       "  <tbody>\n",
       "    <tr>\n",
       "      <th>272921360</th>\n",
       "      <td>0</td>\n",
       "      <td>-102.295073</td>\n",
       "      <td>21.872876</td>\n",
       "      <td>3</td>\n",
       "      <td>POINT (-102.29507 21.87288)</td>\n",
       "      <td>936100055</td>\n",
       "      <td>11.618624</td>\n",
       "    </tr>\n",
       "  </tbody>\n",
       "</table>\n",
       "</div>"
      ],
      "text/plain": [
       "           index           x          y  street_count  \\\n",
       "osmid                                                   \n",
       "272921360      0 -102.295073  21.872876             3   \n",
       "\n",
       "                              geometry  nearest_denue_preescolar  \\\n",
       "osmid                                                              \n",
       "272921360  POINT (-102.29507 21.87288)                 936100055   \n",
       "\n",
       "           dist_denue_preescolar  \n",
       "osmid                             \n",
       "272921360              11.618624  "
      ]
     },
     "execution_count": 89,
     "metadata": {},
     "output_type": "execute_result"
    }
   ],
   "source": [
    "# Prueba 2: return distance and nearest_poi\n",
    "nodes_distance_prep_02 = calculate_distance_nearest_poi(source_process, nodes_analysis, edges, poi_name, 'osmid', wght=prox_measure,\n",
    "                                                     get_nearest_poi=(True, 'osmid'))\n",
    "\n",
    "# Show\n",
    "print(nodes_distance_prep_02.shape)\n",
    "nodes_distance_prep_02.head(1)"
   ]
  },
  {
   "cell_type": "code",
   "execution_count": 90,
   "id": "207686b3-1773-4939-b0e0-3c75ecda5d6b",
   "metadata": {},
   "outputs": [
    {
     "name": "stderr",
     "output_type": "stream",
     "text": [
      "/tmp/ipykernel_91615/2864802881.py:4: DeprecationWarning: Graph.shortest_paths() is deprecated; use Graph.distances() instead\n",
      "  shortest_paths = np.array(g.shortest_paths_dijkstra(seeds,weights=weights))\n"
     ]
    },
    {
     "name": "stdout",
     "output_type": "stream",
     "text": [
      "(51371, 7)\n"
     ]
    },
    {
     "data": {
      "text/html": [
       "<div>\n",
       "<style scoped>\n",
       "    .dataframe tbody tr th:only-of-type {\n",
       "        vertical-align: middle;\n",
       "    }\n",
       "\n",
       "    .dataframe tbody tr th {\n",
       "        vertical-align: top;\n",
       "    }\n",
       "\n",
       "    .dataframe thead th {\n",
       "        text-align: right;\n",
       "    }\n",
       "</style>\n",
       "<table border=\"1\" class=\"dataframe\">\n",
       "  <thead>\n",
       "    <tr style=\"text-align: right;\">\n",
       "      <th></th>\n",
       "      <th>index</th>\n",
       "      <th>x</th>\n",
       "      <th>y</th>\n",
       "      <th>street_count</th>\n",
       "      <th>geometry</th>\n",
       "      <th>15min_denue_preescolar</th>\n",
       "      <th>dist_denue_preescolar</th>\n",
       "    </tr>\n",
       "    <tr>\n",
       "      <th>osmid</th>\n",
       "      <th></th>\n",
       "      <th></th>\n",
       "      <th></th>\n",
       "      <th></th>\n",
       "      <th></th>\n",
       "      <th></th>\n",
       "      <th></th>\n",
       "    </tr>\n",
       "  </thead>\n",
       "  <tbody>\n",
       "    <tr>\n",
       "      <th>272921360</th>\n",
       "      <td>0</td>\n",
       "      <td>-102.295073</td>\n",
       "      <td>21.872876</td>\n",
       "      <td>3</td>\n",
       "      <td>POINT (-102.29507 21.87288)</td>\n",
       "      <td>1</td>\n",
       "      <td>11.618624</td>\n",
       "    </tr>\n",
       "  </tbody>\n",
       "</table>\n",
       "</div>"
      ],
      "text/plain": [
       "           index           x          y  street_count  \\\n",
       "osmid                                                   \n",
       "272921360      0 -102.295073  21.872876             3   \n",
       "\n",
       "                              geometry  15min_denue_preescolar  \\\n",
       "osmid                                                            \n",
       "272921360  POINT (-102.29507 21.87288)                       1   \n",
       "\n",
       "           dist_denue_preescolar  \n",
       "osmid                             \n",
       "272921360              11.618624  "
      ]
     },
     "execution_count": 90,
     "metadata": {},
     "output_type": "execute_result"
    }
   ],
   "source": [
    "# Prueba 3: return distance and count amenities at 15 mins\n",
    "nodes_distance_prep_02 = calculate_distance_nearest_poi(source_process, nodes_analysis, edges, poi_name, 'osmid', wght=prox_measure,\n",
    "                                                     count_pois = 15)\n",
    "\n",
    "# Show\n",
    "print(nodes_distance_prep_02.shape)\n",
    "nodes_distance_prep_02.head(1)"
   ]
  },
  {
   "cell_type": "code",
   "execution_count": 91,
   "id": "fa2af79c-c448-46a8-9496-d83bcdabcf8f",
   "metadata": {},
   "outputs": [
    {
     "name": "stderr",
     "output_type": "stream",
     "text": [
      "/tmp/ipykernel_91615/2864802881.py:4: DeprecationWarning: Graph.shortest_paths() is deprecated; use Graph.distances() instead\n",
      "  shortest_paths = np.array(g.shortest_paths_dijkstra(seeds,weights=weights))\n"
     ]
    },
    {
     "name": "stdout",
     "output_type": "stream",
     "text": [
      "(51371, 7)\n"
     ]
    },
    {
     "data": {
      "text/html": [
       "<div>\n",
       "<style scoped>\n",
       "    .dataframe tbody tr th:only-of-type {\n",
       "        vertical-align: middle;\n",
       "    }\n",
       "\n",
       "    .dataframe tbody tr th {\n",
       "        vertical-align: top;\n",
       "    }\n",
       "\n",
       "    .dataframe thead th {\n",
       "        text-align: right;\n",
       "    }\n",
       "</style>\n",
       "<table border=\"1\" class=\"dataframe\">\n",
       "  <thead>\n",
       "    <tr style=\"text-align: right;\">\n",
       "      <th></th>\n",
       "      <th>index</th>\n",
       "      <th>x</th>\n",
       "      <th>y</th>\n",
       "      <th>street_count</th>\n",
       "      <th>geometry</th>\n",
       "      <th>30min_denue_preescolar</th>\n",
       "      <th>dist_denue_preescolar</th>\n",
       "    </tr>\n",
       "    <tr>\n",
       "      <th>osmid</th>\n",
       "      <th></th>\n",
       "      <th></th>\n",
       "      <th></th>\n",
       "      <th></th>\n",
       "      <th></th>\n",
       "      <th></th>\n",
       "      <th></th>\n",
       "    </tr>\n",
       "  </thead>\n",
       "  <tbody>\n",
       "    <tr>\n",
       "      <th>272921360</th>\n",
       "      <td>0</td>\n",
       "      <td>-102.295073</td>\n",
       "      <td>21.872876</td>\n",
       "      <td>3</td>\n",
       "      <td>POINT (-102.29507 21.87288)</td>\n",
       "      <td>5</td>\n",
       "      <td>11.618624</td>\n",
       "    </tr>\n",
       "  </tbody>\n",
       "</table>\n",
       "</div>"
      ],
      "text/plain": [
       "           index           x          y  street_count  \\\n",
       "osmid                                                   \n",
       "272921360      0 -102.295073  21.872876             3   \n",
       "\n",
       "                              geometry  30min_denue_preescolar  \\\n",
       "osmid                                                            \n",
       "272921360  POINT (-102.29507 21.87288)                       5   \n",
       "\n",
       "           dist_denue_preescolar  \n",
       "osmid                             \n",
       "272921360              11.618624  "
      ]
     },
     "execution_count": 91,
     "metadata": {},
     "output_type": "execute_result"
    }
   ],
   "source": [
    "# Prueba 4: return distance and count amenities at 30 mins\n",
    "nodes_distance_prep_02 = calculate_distance_nearest_poi(source_process, nodes_analysis, edges, poi_name, 'osmid', wght=prox_measure,\n",
    "                                                     count_pois = 30)\n",
    "\n",
    "# Show\n",
    "print(nodes_distance_prep_02.shape)\n",
    "nodes_distance_prep_02.head(1)"
   ]
  },
  {
   "cell_type": "code",
   "execution_count": 92,
   "id": "3c7ec1a7-7405-4bfe-9518-f7b3ad35070b",
   "metadata": {},
   "outputs": [
    {
     "name": "stderr",
     "output_type": "stream",
     "text": [
      "/tmp/ipykernel_91615/2864802881.py:4: DeprecationWarning: Graph.shortest_paths() is deprecated; use Graph.distances() instead\n",
      "  shortest_paths = np.array(g.shortest_paths_dijkstra(seeds,weights=weights))\n"
     ]
    },
    {
     "name": "stdout",
     "output_type": "stream",
     "text": [
      "(51371, 8)\n"
     ]
    },
    {
     "data": {
      "text/html": [
       "<div>\n",
       "<style scoped>\n",
       "    .dataframe tbody tr th:only-of-type {\n",
       "        vertical-align: middle;\n",
       "    }\n",
       "\n",
       "    .dataframe tbody tr th {\n",
       "        vertical-align: top;\n",
       "    }\n",
       "\n",
       "    .dataframe thead th {\n",
       "        text-align: right;\n",
       "    }\n",
       "</style>\n",
       "<table border=\"1\" class=\"dataframe\">\n",
       "  <thead>\n",
       "    <tr style=\"text-align: right;\">\n",
       "      <th></th>\n",
       "      <th>index</th>\n",
       "      <th>x</th>\n",
       "      <th>y</th>\n",
       "      <th>street_count</th>\n",
       "      <th>geometry</th>\n",
       "      <th>45min_denue_preescolar</th>\n",
       "      <th>nearest_denue_preescolar</th>\n",
       "      <th>dist_denue_preescolar</th>\n",
       "    </tr>\n",
       "    <tr>\n",
       "      <th>osmid</th>\n",
       "      <th></th>\n",
       "      <th></th>\n",
       "      <th></th>\n",
       "      <th></th>\n",
       "      <th></th>\n",
       "      <th></th>\n",
       "      <th></th>\n",
       "      <th></th>\n",
       "    </tr>\n",
       "  </thead>\n",
       "  <tbody>\n",
       "    <tr>\n",
       "      <th>272921360</th>\n",
       "      <td>0</td>\n",
       "      <td>-102.295073</td>\n",
       "      <td>21.872876</td>\n",
       "      <td>3</td>\n",
       "      <td>POINT (-102.29507 21.87288)</td>\n",
       "      <td>9</td>\n",
       "      <td>936100055</td>\n",
       "      <td>11.618624</td>\n",
       "    </tr>\n",
       "  </tbody>\n",
       "</table>\n",
       "</div>"
      ],
      "text/plain": [
       "           index           x          y  street_count  \\\n",
       "osmid                                                   \n",
       "272921360      0 -102.295073  21.872876             3   \n",
       "\n",
       "                              geometry  45min_denue_preescolar  \\\n",
       "osmid                                                            \n",
       "272921360  POINT (-102.29507 21.87288)                       9   \n",
       "\n",
       "           nearest_denue_preescolar  dist_denue_preescolar  \n",
       "osmid                                                       \n",
       "272921360                 936100055              11.618624  "
      ]
     },
     "execution_count": 92,
     "metadata": {},
     "output_type": "execute_result"
    }
   ],
   "source": [
    "# Prueba 5: return distance, nearest poi and count amenities at 45 mins\n",
    "nodes_distance_prep_03 = calculate_distance_nearest_poi(source_process, nodes_analysis, edges, poi_name, 'osmid', wght=prox_measure,\n",
    "                                                     get_nearest_poi=(True, 'osmid'),\n",
    "                                                     count_pois = 45,\n",
    "                                                     max_distance=(0,'distance_node'))\n",
    "\n",
    "# Show\n",
    "print(nodes_distance_prep_03.shape)\n",
    "nodes_distance_prep_03.head(1)"
   ]
  },
  {
   "cell_type": "markdown",
   "id": "bd6645b1-a188-45d6-bbaf-d90683c408e2",
   "metadata": {},
   "source": [
    "## TERMINA DESGLOSE DE FUNCIONES aup.calculate_distance_nearest_poi & aup.get_distances\n",
    "## DESGLOSE DE LA FUNCIÓN aup.pois_time"
   ]
  },
  {
   "cell_type": "code",
   "execution_count": 95,
   "id": "0fda9ae6-4642-4e01-8f01-0440356ce93b",
   "metadata": {},
   "outputs": [],
   "source": [
    "# Siguientes pasos:\n",
    "\n",
    "# Continuar con aup.pois_time para lo que pasa después de los batches. Sumar las amenidades encontradas.\n",
    "\n",
    "# DUDA DE LO QUE PASA CUANDO SE USA 'lenght'\n",
    "# DUDA EDGAR: Cuando se usa 'lenght' en lugar de 'time_min', calcula la 'time_min' asumiendo 4km/hr después de realizar el calculo de amenidades a x minutos. (En realidad se le pasa metros, no minutos).\n",
    "# ¿Se podría generar una columna en 'edges' llamada 'time_min' y siempre realizar aup.calculate_distance_nearest_poi con 'time_min'?\n",
    "# Opción b: Colocar un bloqueo, si prox_measure == 'lenght' no permitir que regrese cantidad de amenidades cerca.\n",
    "\n",
    "# Terminar y actualizar la función aup.pois_time. Continuar con lo que pasa en el resto del script (Mean time en hexágonos)"
   ]
  },
  {
   "cell_type": "markdown",
   "id": "424b187a-5311-419e-8218-a6c80c6e6707",
   "metadata": {},
   "source": [
    "# FINISHES FUNCTIONS REDEVELOPMENT"
   ]
  },
  {
   "cell_type": "code",
   "execution_count": null,
   "id": "0e48f959-d5eb-4c0b-bf23-d5d2218baf02",
   "metadata": {},
   "outputs": [],
   "source": []
  }
 ],
 "metadata": {
  "kernelspec": {
   "display_name": "GDS-10.0",
   "language": "python",
   "name": "gds"
  },
  "language_info": {
   "codemirror_mode": {
    "name": "ipython",
    "version": 3
   },
   "file_extension": ".py",
   "mimetype": "text/x-python",
   "name": "python",
   "nbconvert_exporter": "python",
   "pygments_lexer": "ipython3",
   "version": "3.9.18"
  }
 },
 "nbformat": 4,
 "nbformat_minor": 5
}
