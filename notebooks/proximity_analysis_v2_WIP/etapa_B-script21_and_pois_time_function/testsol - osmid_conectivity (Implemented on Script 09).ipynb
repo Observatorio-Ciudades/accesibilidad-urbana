{
 "cells": [
  {
   "cell_type": "markdown",
   "id": "924df602-87e7-43ca-9220-25aae231375d",
   "metadata": {},
   "source": [
    "# testsol - osmid_conectivity"
   ]
  },
  {
   "cell_type": "markdown",
   "id": "d45ad0ef-6e5c-4d69-8b11-379bfafcf74e",
   "metadata": {},
   "source": [
    "__Problem:__ aup.graph_from_hippo generates networks inside a given polygon. Sometimes, when using city/political boundaries to generate a OSMnx network, the resulting OSMnx network is composed of multiple networks that do not connect to each other because of those political boundaries.\n",
    "\n",
    "This notebook that tests ways to __remove parts of a OSMnx network which are not connected to the rest (main) OSMnx network of a city.__\n",
    "\n",
    "* __Result was successfull__. From here a function was developed and inplemented on __Script 09-hex-speed.py__"
   ]
  },
  {
   "cell_type": "markdown",
   "id": "bbfea414-a5e4-43c8-bd11-b957ded63956",
   "metadata": {},
   "source": [
    "## Import libraries"
   ]
  },
  {
   "cell_type": "code",
   "execution_count": 1,
   "id": "92f87c37-6ecf-4229-bf24-36fa81720ea0",
   "metadata": {},
   "outputs": [
    {
     "name": "stderr",
     "output_type": "stream",
     "text": [
      "/home/jovyan/accesibilidad-urbana/aup/data.py:25: UserWarning: The `utils.config` function is deprecated and will be removed in a future release. Instead, use the `settings` module directly to configure a global setting's value. For example, `ox.settings.log_console=True`.\n",
      "  ox.config(\n"
     ]
    }
   ],
   "source": [
    "import os\n",
    "import sys\n",
    "\n",
    "import pandas as pd\n",
    "import geopandas as gpd\n",
    "import osmnx as ox\n",
    "import numpy as np\n",
    "\n",
    "import matplotlib.pyplot as plt\n",
    "import seaborn as sns\n",
    "\n",
    "import warnings\n",
    "warnings.simplefilter(action='ignore', category=FutureWarning)\n",
    "\n",
    "module_path = os.path.abspath(os.path.join('../../../'))\n",
    "if module_path not in sys.path:\n",
    "    sys.path.append(module_path)\n",
    "    import aup"
   ]
  },
  {
   "cell_type": "code",
   "execution_count": 2,
   "id": "927f2396-4be8-4ac8-b81e-986e785f0435",
   "metadata": {},
   "outputs": [
    {
     "name": "stdout",
     "output_type": "stream",
     "text": [
      "Requirement already satisfied: networkx[default] in /opt/conda/envs/gds/lib/python3.9/site-packages (3.2)\n",
      "Requirement already satisfied: numpy>=1.22 in /opt/conda/envs/gds/lib/python3.9/site-packages (from networkx[default]) (1.23.4)\n",
      "Requirement already satisfied: scipy!=1.11.0,!=1.11.1,>=1.9 in /opt/conda/envs/gds/lib/python3.9/site-packages (from networkx[default]) (1.11.3)\n",
      "Requirement already satisfied: matplotlib>=3.5 in /opt/conda/envs/gds/lib/python3.9/site-packages (from networkx[default]) (3.8.0)\n",
      "Requirement already satisfied: pandas>=1.4 in /opt/conda/envs/gds/lib/python3.9/site-packages (from networkx[default]) (2.1.1)\n",
      "Requirement already satisfied: contourpy>=1.0.1 in /opt/conda/envs/gds/lib/python3.9/site-packages (from matplotlib>=3.5->networkx[default]) (1.1.1)\n",
      "Requirement already satisfied: cycler>=0.10 in /opt/conda/envs/gds/lib/python3.9/site-packages (from matplotlib>=3.5->networkx[default]) (0.12.1)\n",
      "Requirement already satisfied: fonttools>=4.22.0 in /opt/conda/envs/gds/lib/python3.9/site-packages (from matplotlib>=3.5->networkx[default]) (4.43.1)\n",
      "Requirement already satisfied: kiwisolver>=1.0.1 in /opt/conda/envs/gds/lib/python3.9/site-packages (from matplotlib>=3.5->networkx[default]) (1.4.5)\n",
      "Requirement already satisfied: packaging>=20.0 in /opt/conda/envs/gds/lib/python3.9/site-packages (from matplotlib>=3.5->networkx[default]) (23.2)\n",
      "Requirement already satisfied: pillow>=6.2.0 in /opt/conda/envs/gds/lib/python3.9/site-packages (from matplotlib>=3.5->networkx[default]) (10.1.0)\n",
      "Requirement already satisfied: pyparsing>=2.3.1 in /opt/conda/envs/gds/lib/python3.9/site-packages (from matplotlib>=3.5->networkx[default]) (3.1.1)\n",
      "Requirement already satisfied: python-dateutil>=2.7 in /opt/conda/envs/gds/lib/python3.9/site-packages (from matplotlib>=3.5->networkx[default]) (2.8.2)\n",
      "Requirement already satisfied: importlib-resources>=3.2.0 in /opt/conda/envs/gds/lib/python3.9/site-packages (from matplotlib>=3.5->networkx[default]) (6.1.0)\n",
      "Requirement already satisfied: pytz>=2020.1 in /opt/conda/envs/gds/lib/python3.9/site-packages (from pandas>=1.4->networkx[default]) (2023.3.post1)\n",
      "Requirement already satisfied: tzdata>=2022.1 in /opt/conda/envs/gds/lib/python3.9/site-packages (from pandas>=1.4->networkx[default]) (2023.3)\n",
      "Requirement already satisfied: zipp>=3.1.0 in /opt/conda/envs/gds/lib/python3.9/site-packages (from importlib-resources>=3.2.0->matplotlib>=3.5->networkx[default]) (3.17.0)\n",
      "Requirement already satisfied: six>=1.5 in /opt/conda/envs/gds/lib/python3.9/site-packages (from python-dateutil>=2.7->matplotlib>=3.5->networkx[default]) (1.16.0)\n",
      "Note: you may need to restart the kernel to use updated packages.\n"
     ]
    }
   ],
   "source": [
    "pip install networkx[default]"
   ]
  },
  {
   "cell_type": "code",
   "execution_count": 2,
   "id": "47d0d991-28ad-4c1d-9a9c-afb51f1f206c",
   "metadata": {},
   "outputs": [],
   "source": [
    "import networkx as nx"
   ]
  },
  {
   "cell_type": "code",
   "execution_count": 11,
   "id": "f2df02cf-6f2b-4b22-8075-15b559c7e43e",
   "metadata": {},
   "outputs": [],
   "source": [
    "# Save fixed nodes and edges to local to view in QGIS?\n",
    "gis_check = True\n",
    "\n",
    "# Save fixed edges to db osmnx > edges_speed_test to test aup.graph_from_hippo?\n",
    "db_save = False"
   ]
  },
  {
   "cell_type": "markdown",
   "id": "73c1ec8f-5b75-4fc9-9881-4c77fa595165",
   "metadata": {},
   "source": [
    "## a) Find centroid of city"
   ]
  },
  {
   "cell_type": "markdown",
   "id": "e89342bb-12c2-40ab-a464-11db1cd67b7c",
   "metadata": {},
   "source": [
    "### a.1) Load municipalities gdf"
   ]
  },
  {
   "cell_type": "code",
   "execution_count": 3,
   "id": "2308e30a-2875-42e6-b484-feca474bbd40",
   "metadata": {},
   "outputs": [
    {
     "name": "stdout",
     "output_type": "stream",
     "text": [
      "(3, 6)\n"
     ]
    },
    {
     "data": {
      "text/html": [
       "<div>\n",
       "<style scoped>\n",
       "    .dataframe tbody tr th:only-of-type {\n",
       "        vertical-align: middle;\n",
       "    }\n",
       "\n",
       "    .dataframe tbody tr th {\n",
       "        vertical-align: top;\n",
       "    }\n",
       "\n",
       "    .dataframe thead th {\n",
       "        text-align: right;\n",
       "    }\n",
       "</style>\n",
       "<table border=\"1\" class=\"dataframe\">\n",
       "  <thead>\n",
       "    <tr style=\"text-align: right;\">\n",
       "      <th></th>\n",
       "      <th>CVEGEO</th>\n",
       "      <th>CVE_ENT</th>\n",
       "      <th>CVE_MUN</th>\n",
       "      <th>NOMGEO</th>\n",
       "      <th>geometry</th>\n",
       "      <th>city</th>\n",
       "    </tr>\n",
       "  </thead>\n",
       "  <tbody>\n",
       "    <tr>\n",
       "      <th>0</th>\n",
       "      <td>01001</td>\n",
       "      <td>01</td>\n",
       "      <td>001</td>\n",
       "      <td>Aguascalientes</td>\n",
       "      <td>POLYGON ((-102.10641 22.06035, -102.10368 22.0...</td>\n",
       "      <td>Aguascalientes</td>\n",
       "    </tr>\n",
       "  </tbody>\n",
       "</table>\n",
       "</div>"
      ],
      "text/plain": [
       "  CVEGEO CVE_ENT CVE_MUN          NOMGEO  \\\n",
       "0  01001      01     001  Aguascalientes   \n",
       "\n",
       "                                            geometry            city  \n",
       "0  POLYGON ((-102.10641 22.06035, -102.10368 22.0...  Aguascalientes  "
      ]
     },
     "execution_count": 3,
     "metadata": {},
     "output_type": "execute_result"
    }
   ],
   "source": [
    "city = 'Aguascalientes'\n",
    "schema = 'metropolis'\n",
    "table = 'metro_gdf_2020'\n",
    "query = f\"SELECT * FROM {schema}.{table} WHERE \\\"city\\\" LIKE \\'{city}\\'\"\n",
    "city_gdf = aup.gdf_from_query(query, geometry_col='geometry')\n",
    "\n",
    "# Show\n",
    "print(city_gdf.shape)\n",
    "city_gdf.head(1)"
   ]
  },
  {
   "cell_type": "markdown",
   "id": "e9e2513d-0d21-4e74-904d-3747eb5efd2a",
   "metadata": {},
   "source": [
    "### a.2) Load ageb gdf from municipalities gdf"
   ]
  },
  {
   "cell_type": "code",
   "execution_count": 4,
   "id": "6b17a071-ce8b-4242-8759-6aa3aebc5f54",
   "metadata": {},
   "outputs": [
    {
     "name": "stdout",
     "output_type": "stream",
     "text": [
      "(392, 6)\n"
     ]
    },
    {
     "data": {
      "text/html": [
       "<div>\n",
       "<style scoped>\n",
       "    .dataframe tbody tr th:only-of-type {\n",
       "        vertical-align: middle;\n",
       "    }\n",
       "\n",
       "    .dataframe tbody tr th {\n",
       "        vertical-align: top;\n",
       "    }\n",
       "\n",
       "    .dataframe thead th {\n",
       "        text-align: right;\n",
       "    }\n",
       "</style>\n",
       "<table border=\"1\" class=\"dataframe\">\n",
       "  <thead>\n",
       "    <tr style=\"text-align: right;\">\n",
       "      <th></th>\n",
       "      <th>cve_geo_ageb</th>\n",
       "      <th>cve_ent</th>\n",
       "      <th>cve_mun</th>\n",
       "      <th>cve_loc</th>\n",
       "      <th>cve_ageb</th>\n",
       "      <th>geometry</th>\n",
       "    </tr>\n",
       "  </thead>\n",
       "  <tbody>\n",
       "    <tr>\n",
       "      <th>0</th>\n",
       "      <td>010010001216A</td>\n",
       "      <td>01</td>\n",
       "      <td>001</td>\n",
       "      <td>0001</td>\n",
       "      <td>216A</td>\n",
       "      <td>POLYGON ((-102.27058 21.87363, -102.27083 21.8...</td>\n",
       "    </tr>\n",
       "  </tbody>\n",
       "</table>\n",
       "</div>"
      ],
      "text/plain": [
       "    cve_geo_ageb cve_ent cve_mun cve_loc cve_ageb  \\\n",
       "0  010010001216A      01     001    0001     216A   \n",
       "\n",
       "                                            geometry  \n",
       "0  POLYGON ((-102.27058 21.87363, -102.27083 21.8...  "
      ]
     },
     "execution_count": 4,
     "metadata": {},
     "output_type": "execute_result"
    }
   ],
   "source": [
    "ageb_gdf = gpd.GeoDataFrame()\n",
    "\n",
    "# Load city states (CVE_ENT)\n",
    "cve_ent_list = list(city_gdf.CVE_ENT.unique())\n",
    "for cve_ent in cve_ent_list:\n",
    "    \n",
    "    #Load muns in each city state\n",
    "    cve_mun_list = list(city_gdf.loc[city_gdf.CVE_ENT == cve_ent].CVE_MUN.unique())\n",
    "    # To avoid error that happens when there's only one MUN: [SQL: SELECT * FROM censo_mza.censo_mza_2020 WHERE (\"CVE_ENT\" = '02') AND \"CVE_MUN\" IN ('001',) ]\n",
    "    if len(cve_mun_list) >= 2:\n",
    "        cve_mun_tpl = str(tuple(cve_mun_list))\n",
    "    else:\n",
    "        cve_mun_list.append(cve_mun_list[0])\n",
    "        cve_mun_tpl = str(tuple(cve_mun_list))\n",
    "\n",
    "    # Load AGEBs and concat\n",
    "    query = f\"SELECT * FROM marco.ageb_2020 WHERE (\\\"cve_ent\\\" = \\'{cve_ent}\\') AND \\\"cve_mun\\\" IN {cve_mun_tpl} \"\n",
    "    ageb_gdf = pd.concat([ageb_gdf,aup.gdf_from_query(query, geometry_col='geometry')])\n",
    "\n",
    "# Show\n",
    "print(ageb_gdf.shape)\n",
    "ageb_gdf.head(1)"
   ]
  },
  {
   "cell_type": "markdown",
   "id": "efc8e2f9-309a-4019-b640-64bc17e13f97",
   "metadata": {},
   "source": [
    "### a.3) Find centroid of AGEBs"
   ]
  },
  {
   "cell_type": "code",
   "execution_count": 5,
   "id": "a9470ceb-e2a3-4f49-9de9-3ab417aee855",
   "metadata": {},
   "outputs": [
    {
     "name": "stderr",
     "output_type": "stream",
     "text": [
      "/tmp/ipykernel_9506/760750170.py:2: UserWarning: Geometry is in a geographic CRS. Results from 'centroid' are likely incorrect. Use 'GeoSeries.to_crs()' to re-project geometries to a projected CRS before this operation.\n",
      "\n",
      "  aoi_centroid = gpd.GeoDataFrame(geometry=aoi.centroid)\n"
     ]
    },
    {
     "data": {
      "text/plain": [
       "<Axes: >"
      ]
     },
     "execution_count": 5,
     "metadata": {},
     "output_type": "execute_result"
    },
    {
     "data": {
      "image/png": "[encoded data removed]",
      "text/plain": [
       "<Figure size 640x480 with 1 Axes>"
      ]
     },
     "metadata": {},
     "output_type": "display_data"
    }
   ],
   "source": [
    "aoi = ageb_gdf.dissolve()\n",
    "aoi_centroid = gpd.GeoDataFrame(geometry=aoi.centroid)\n",
    "\n",
    "# Show\n",
    "fig, ax = plt.subplots(1,1)\n",
    "aoi_centroid.plot(ax=ax,zorder=2,color='red')\n",
    "aoi.plot(ax=ax,zorder=1)"
   ]
  },
  {
   "cell_type": "markdown",
   "id": "1908bd94-966b-4eae-b026-0be5ee6d16b4",
   "metadata": {},
   "source": [
    "## b) Find Network node closest to centroid"
   ]
  },
  {
   "cell_type": "markdown",
   "id": "0e37f0c0-8859-4acd-b000-de7caa96c6b2",
   "metadata": {},
   "source": [
    "### b.1) Load network nodes"
   ]
  },
  {
   "cell_type": "code",
   "execution_count": 6,
   "id": "7409a933-0f08-495a-9312-04634939d5af",
   "metadata": {},
   "outputs": [],
   "source": [
    "aoi = city_gdf.dissolve()\n",
    "\n",
    "# Download Network used to calculate nearest note to each poi\n",
    "network_schema = 'osmnx'\n",
    "edges_table = 'edges_speed'\n",
    "nodes_table = 'nodes'\n",
    "G, nodes, edges = aup.graph_from_hippo(aoi, schema=network_schema, edges_folder=edges_table, nodes_folder=nodes_table)"
   ]
  },
  {
   "cell_type": "code",
   "execution_count": 7,
   "id": "44abf592-a9f1-4bc5-86fc-d94dbac357a6",
   "metadata": {},
   "outputs": [
    {
     "name": "stdout",
     "output_type": "stream",
     "text": [
      "(51434, 4)\n"
     ]
    },
    {
     "data": {
      "text/html": [
       "<div>\n",
       "<style scoped>\n",
       "    .dataframe tbody tr th:only-of-type {\n",
       "        vertical-align: middle;\n",
       "    }\n",
       "\n",
       "    .dataframe tbody tr th {\n",
       "        vertical-align: top;\n",
       "    }\n",
       "\n",
       "    .dataframe thead th {\n",
       "        text-align: right;\n",
       "    }\n",
       "</style>\n",
       "<table border=\"1\" class=\"dataframe\">\n",
       "  <thead>\n",
       "    <tr style=\"text-align: right;\">\n",
       "      <th></th>\n",
       "      <th>x</th>\n",
       "      <th>y</th>\n",
       "      <th>street_count</th>\n",
       "      <th>geometry</th>\n",
       "    </tr>\n",
       "    <tr>\n",
       "      <th>osmid</th>\n",
       "      <th></th>\n",
       "      <th></th>\n",
       "      <th></th>\n",
       "      <th></th>\n",
       "    </tr>\n",
       "  </thead>\n",
       "  <tbody>\n",
       "    <tr>\n",
       "      <th>272921360</th>\n",
       "      <td>-102.295073</td>\n",
       "      <td>21.872876</td>\n",
       "      <td>3</td>\n",
       "      <td>POINT (-102.29507 21.87288)</td>\n",
       "    </tr>\n",
       "  </tbody>\n",
       "</table>\n",
       "</div>"
      ],
      "text/plain": [
       "                    x          y  street_count                     geometry\n",
       "osmid                                                                      \n",
       "272921360 -102.295073  21.872876             3  POINT (-102.29507 21.87288)"
      ]
     },
     "execution_count": 7,
     "metadata": {},
     "output_type": "execute_result"
    }
   ],
   "source": [
    "# Show\n",
    "print(nodes.shape)\n",
    "nodes.head(1)"
   ]
  },
  {
   "cell_type": "code",
   "execution_count": 8,
   "id": "158fd7ce-4233-4128-be33-91c93e708ecf",
   "metadata": {},
   "outputs": [
    {
     "name": "stdout",
     "output_type": "stream",
     "text": [
      "(121037, 19)\n"
     ]
    },
    {
     "data": {
      "text/html": [
       "<div>\n",
       "<style scoped>\n",
       "    .dataframe tbody tr th:only-of-type {\n",
       "        vertical-align: middle;\n",
       "    }\n",
       "\n",
       "    .dataframe tbody tr th {\n",
       "        vertical-align: top;\n",
       "    }\n",
       "\n",
       "    .dataframe thead th {\n",
       "        text-align: right;\n",
       "    }\n",
       "</style>\n",
       "<table border=\"1\" class=\"dataframe\">\n",
       "  <thead>\n",
       "    <tr style=\"text-align: right;\">\n",
       "      <th></th>\n",
       "      <th></th>\n",
       "      <th></th>\n",
       "      <th>osmid</th>\n",
       "      <th>oneway</th>\n",
       "      <th>lanes</th>\n",
       "      <th>name</th>\n",
       "      <th>highway</th>\n",
       "      <th>length</th>\n",
       "      <th>geometry</th>\n",
       "      <th>grade</th>\n",
       "      <th>grade_abs</th>\n",
       "      <th>access</th>\n",
       "      <th>tunnel</th>\n",
       "      <th>ref</th>\n",
       "      <th>maxspeed</th>\n",
       "      <th>bridge</th>\n",
       "      <th>junction</th>\n",
       "      <th>service</th>\n",
       "      <th>width</th>\n",
       "      <th>walkspeed</th>\n",
       "      <th>time_min</th>\n",
       "    </tr>\n",
       "    <tr>\n",
       "      <th>u</th>\n",
       "      <th>v</th>\n",
       "      <th>key</th>\n",
       "      <th></th>\n",
       "      <th></th>\n",
       "      <th></th>\n",
       "      <th></th>\n",
       "      <th></th>\n",
       "      <th></th>\n",
       "      <th></th>\n",
       "      <th></th>\n",
       "      <th></th>\n",
       "      <th></th>\n",
       "      <th></th>\n",
       "      <th></th>\n",
       "      <th></th>\n",
       "      <th></th>\n",
       "      <th></th>\n",
       "      <th></th>\n",
       "      <th></th>\n",
       "      <th></th>\n",
       "      <th></th>\n",
       "    </tr>\n",
       "  </thead>\n",
       "  <tbody>\n",
       "    <tr>\n",
       "      <th>3003502781</th>\n",
       "      <th>8424128014</th>\n",
       "      <th>0</th>\n",
       "      <td>296556921</td>\n",
       "      <td>True</td>\n",
       "      <td>1</td>\n",
       "      <td>Carretera Aguascalietes-San Marcos</td>\n",
       "      <td>primary</td>\n",
       "      <td>17.585</td>\n",
       "      <td>LINESTRING (-102.20343 21.99742, -102.20327 21...</td>\n",
       "      <td>0.0</td>\n",
       "      <td>0.0</td>\n",
       "      <td>None</td>\n",
       "      <td>None</td>\n",
       "      <td>MEX 25</td>\n",
       "      <td>80</td>\n",
       "      <td>None</td>\n",
       "      <td>None</td>\n",
       "      <td>None</td>\n",
       "      <td>None</td>\n",
       "      <td>4.0</td>\n",
       "      <td>0.263775</td>\n",
       "    </tr>\n",
       "  </tbody>\n",
       "</table>\n",
       "</div>"
      ],
      "text/plain": [
       "                               osmid  oneway lanes  \\\n",
       "u          v          key                            \n",
       "3003502781 8424128014 0    296556921    True     1   \n",
       "\n",
       "                                                         name  highway  \\\n",
       "u          v          key                                                \n",
       "3003502781 8424128014 0    Carretera Aguascalietes-San Marcos  primary   \n",
       "\n",
       "                           length  \\\n",
       "u          v          key           \n",
       "3003502781 8424128014 0    17.585   \n",
       "\n",
       "                                                                    geometry  \\\n",
       "u          v          key                                                      \n",
       "3003502781 8424128014 0    LINESTRING (-102.20343 21.99742, -102.20327 21...   \n",
       "\n",
       "                           grade  grade_abs access tunnel     ref maxspeed  \\\n",
       "u          v          key                                                    \n",
       "3003502781 8424128014 0      0.0        0.0   None   None  MEX 25       80   \n",
       "\n",
       "                          bridge junction service width  walkspeed  time_min  \n",
       "u          v          key                                                     \n",
       "3003502781 8424128014 0     None     None    None  None        4.0  0.263775  "
      ]
     },
     "execution_count": 8,
     "metadata": {},
     "output_type": "execute_result"
    }
   ],
   "source": [
    "# Show\n",
    "print(edges.shape)\n",
    "edges.head(1)"
   ]
  },
  {
   "cell_type": "markdown",
   "id": "3d7e8790-39e5-42a9-86b9-804c6d5caf83",
   "metadata": {},
   "source": [
    "### b.2) Find closest node"
   ]
  },
  {
   "cell_type": "code",
   "execution_count": 9,
   "id": "13655ca0-cac5-422d-bf0a-9ea0a77e7c06",
   "metadata": {},
   "outputs": [
    {
     "name": "stdout",
     "output_type": "stream",
     "text": [
      "(1, 2)\n"
     ]
    },
    {
     "data": {
      "text/html": [
       "<div>\n",
       "<style scoped>\n",
       "    .dataframe tbody tr th:only-of-type {\n",
       "        vertical-align: middle;\n",
       "    }\n",
       "\n",
       "    .dataframe tbody tr th {\n",
       "        vertical-align: top;\n",
       "    }\n",
       "\n",
       "    .dataframe thead th {\n",
       "        text-align: right;\n",
       "    }\n",
       "</style>\n",
       "<table border=\"1\" class=\"dataframe\">\n",
       "  <thead>\n",
       "    <tr style=\"text-align: right;\">\n",
       "      <th></th>\n",
       "      <th>geometry</th>\n",
       "      <th>osmid</th>\n",
       "    </tr>\n",
       "  </thead>\n",
       "  <tbody>\n",
       "    <tr>\n",
       "      <th>0</th>\n",
       "      <td>POINT (-102.28575 21.89511)</td>\n",
       "      <td>7795331388</td>\n",
       "    </tr>\n",
       "  </tbody>\n",
       "</table>\n",
       "</div>"
      ],
      "text/plain": [
       "                      geometry       osmid\n",
       "0  POINT (-102.28575 21.89511)  7795331388"
      ]
     },
     "execution_count": 9,
     "metadata": {},
     "output_type": "execute_result"
    }
   ],
   "source": [
    "### Find nearest osmnx node for each DENUE point.\n",
    "nearest = aup.find_nearest(G, nodes, aoi_centroid, return_distance= False)\n",
    "\n",
    "# Show\n",
    "print(nearest.shape)\n",
    "nearest.head(1)"
   ]
  },
  {
   "cell_type": "markdown",
   "id": "906db1d1-5a0e-4d23-83d7-e8fda4f0bfe3",
   "metadata": {},
   "source": [
    "### b.3) Find all nodes that have a path to the nearest node to centroid (Takes about 415s for Aguascalientes)"
   ]
  },
  {
   "cell_type": "code",
   "execution_count": 12,
   "id": "c0e76f06-f9bc-4988-a260-5c110616d22d",
   "metadata": {},
   "outputs": [],
   "source": [
    "# Get the unique osmid of the target node\n",
    "target_osmid = nearest.osmid.unique()[0]\n",
    "\n",
    "# Convert the graph to an undirected graph (To ignore nodes which are not reachable due to direction of streets)\n",
    "G_undirected = G.to_undirected()\n",
    "\n",
    "# Initialize a list to store nodes that have a path to the target node\n",
    "osmids_with_path = []\n",
    "\n",
    "# Iterate over all nodes in the graph\n",
    "for node in G_undirected.nodes():\n",
    "    # Check if there is a path from the current node to the target node\n",
    "    if nx.has_path(G_undirected, node, target_osmid):\n",
    "        # If a path exists, append the node to the list\n",
    "        osmids_with_path.append(node)"
   ]
  },
  {
   "cell_type": "markdown",
   "id": "6dab7919-35ad-47a9-8b06-afcc620a8fba",
   "metadata": {},
   "source": [
    "### b.4) Filter nodes using osmids_with_path"
   ]
  },
  {
   "cell_type": "code",
   "execution_count": 20,
   "id": "7ce9eec6-47c3-496d-8df0-31e975e7b0ce",
   "metadata": {},
   "outputs": [
    {
     "name": "stdout",
     "output_type": "stream",
     "text": [
      "Deleted 51364 unconnected nodes.\n",
      "(70, 5)\n"
     ]
    },
    {
     "data": {
      "text/html": [
       "<div>\n",
       "<style scoped>\n",
       "    .dataframe tbody tr th:only-of-type {\n",
       "        vertical-align: middle;\n",
       "    }\n",
       "\n",
       "    .dataframe tbody tr th {\n",
       "        vertical-align: top;\n",
       "    }\n",
       "\n",
       "    .dataframe thead th {\n",
       "        text-align: right;\n",
       "    }\n",
       "</style>\n",
       "<table border=\"1\" class=\"dataframe\">\n",
       "  <thead>\n",
       "    <tr style=\"text-align: right;\">\n",
       "      <th></th>\n",
       "      <th>osmid</th>\n",
       "      <th>x</th>\n",
       "      <th>y</th>\n",
       "      <th>street_count</th>\n",
       "      <th>geometry</th>\n",
       "    </tr>\n",
       "  </thead>\n",
       "  <tbody>\n",
       "    <tr>\n",
       "      <th>5783</th>\n",
       "      <td>1103032963</td>\n",
       "      <td>-102.33579</td>\n",
       "      <td>22.051572</td>\n",
       "      <td>3</td>\n",
       "      <td>POINT (-102.33579 22.05157)</td>\n",
       "    </tr>\n",
       "  </tbody>\n",
       "</table>\n",
       "</div>"
      ],
      "text/plain": [
       "           osmid          x          y  street_count  \\\n",
       "5783  1103032963 -102.33579  22.051572             3   \n",
       "\n",
       "                         geometry  \n",
       "5783  POINT (-102.33579 22.05157)  "
      ]
     },
     "execution_count": 20,
     "metadata": {},
     "output_type": "execute_result"
    }
   ],
   "source": [
    "nodes_gdf = nodes.reset_index()\n",
    "filtered_nodes = nodes_gdf.loc[nodes_gdf['osmid'].isin(osmids_with_path)].copy()\n",
    "\n",
    "# Show\n",
    "print(f\"Deleted {nodes.shape[0] - filtered_nodes.shape[0]} unconnected nodes.\")\n",
    "print(filtered_nodes.shape)\n",
    "filtered_nodes.head(1)"
   ]
  },
  {
   "cell_type": "markdown",
   "id": "e2690507-1122-426f-b16b-d4962bb35d9a",
   "metadata": {},
   "source": [
    "### b.5) Filter edges using osmids_with_path"
   ]
  },
  {
   "cell_type": "code",
   "execution_count": 14,
   "id": "1f41e005-8900-48e5-a3a5-58f48266a95d",
   "metadata": {},
   "outputs": [
    {
     "name": "stdout",
     "output_type": "stream",
     "text": [
      "Deleted 116 unconnected edges.\n",
      "(120921, 22)\n"
     ]
    },
    {
     "data": {
      "text/html": [
       "<div>\n",
       "<style scoped>\n",
       "    .dataframe tbody tr th:only-of-type {\n",
       "        vertical-align: middle;\n",
       "    }\n",
       "\n",
       "    .dataframe tbody tr th {\n",
       "        vertical-align: top;\n",
       "    }\n",
       "\n",
       "    .dataframe thead th {\n",
       "        text-align: right;\n",
       "    }\n",
       "</style>\n",
       "<table border=\"1\" class=\"dataframe\">\n",
       "  <thead>\n",
       "    <tr style=\"text-align: right;\">\n",
       "      <th></th>\n",
       "      <th>u</th>\n",
       "      <th>v</th>\n",
       "      <th>key</th>\n",
       "      <th>osmid</th>\n",
       "      <th>oneway</th>\n",
       "      <th>lanes</th>\n",
       "      <th>name</th>\n",
       "      <th>highway</th>\n",
       "      <th>length</th>\n",
       "      <th>geometry</th>\n",
       "      <th>...</th>\n",
       "      <th>access</th>\n",
       "      <th>tunnel</th>\n",
       "      <th>ref</th>\n",
       "      <th>maxspeed</th>\n",
       "      <th>bridge</th>\n",
       "      <th>junction</th>\n",
       "      <th>service</th>\n",
       "      <th>width</th>\n",
       "      <th>walkspeed</th>\n",
       "      <th>time_min</th>\n",
       "    </tr>\n",
       "  </thead>\n",
       "  <tbody>\n",
       "    <tr>\n",
       "      <th>0</th>\n",
       "      <td>3003502781</td>\n",
       "      <td>8424128014</td>\n",
       "      <td>0</td>\n",
       "      <td>296556921</td>\n",
       "      <td>True</td>\n",
       "      <td>1</td>\n",
       "      <td>Carretera Aguascalietes-San Marcos</td>\n",
       "      <td>primary</td>\n",
       "      <td>17.585</td>\n",
       "      <td>LINESTRING (-102.20343 21.99742, -102.20327 21...</td>\n",
       "      <td>...</td>\n",
       "      <td>None</td>\n",
       "      <td>None</td>\n",
       "      <td>MEX 25</td>\n",
       "      <td>80</td>\n",
       "      <td>None</td>\n",
       "      <td>None</td>\n",
       "      <td>None</td>\n",
       "      <td>None</td>\n",
       "      <td>4.0</td>\n",
       "      <td>0.263775</td>\n",
       "    </tr>\n",
       "  </tbody>\n",
       "</table>\n",
       "<p>1 rows × 22 columns</p>\n",
       "</div>"
      ],
      "text/plain": [
       "            u           v  key      osmid  oneway lanes  \\\n",
       "0  3003502781  8424128014    0  296556921    True     1   \n",
       "\n",
       "                                 name  highway  length  \\\n",
       "0  Carretera Aguascalietes-San Marcos  primary  17.585   \n",
       "\n",
       "                                            geometry  ...  access  tunnel  \\\n",
       "0  LINESTRING (-102.20343 21.99742, -102.20327 21...  ...    None    None   \n",
       "\n",
       "      ref maxspeed bridge junction service width walkspeed  time_min  \n",
       "0  MEX 25       80   None     None    None  None       4.0  0.263775  \n",
       "\n",
       "[1 rows x 22 columns]"
      ]
     },
     "execution_count": 14,
     "metadata": {},
     "output_type": "execute_result"
    }
   ],
   "source": [
    "edges_gdf = edges.reset_index()\n",
    "filtered_edges = edges_gdf.loc[(edges_gdf['u'].isin(osmids_with_path)) | (edges_gdf['v'].isin(osmids_with_path))].copy()\n",
    "\n",
    "# Show\n",
    "print(f\"Deleted {edges.shape[0] - filtered_edges.shape[0]} unconnected edges.\")\n",
    "print(filtered_edges.shape)\n",
    "filtered_edges.head(1)"
   ]
  },
  {
   "cell_type": "markdown",
   "id": "9cd9a77a-a4c1-4927-af46-80d96974dc31",
   "metadata": {},
   "source": [
    "### c) Save to view result in QGIS"
   ]
  },
  {
   "cell_type": "code",
   "execution_count": 21,
   "id": "19cfebba-be7c-493e-b8fd-8a2244e3b91d",
   "metadata": {},
   "outputs": [],
   "source": [
    "if gis_check:\n",
    "    filtered_nodes.to_file(\"../../../data/external/temporal_fromjupyter/proximity_v2/networkx_has_path_nodes.gpkg\", driver='GPKG')\n",
    "    filtered_edges.to_file(\"../../../data/external/temporal_fromjupyter/proximity_v2/networkx_has_path_edges.gpkg\", driver='GPKG')"
   ]
  },
  {
   "cell_type": "markdown",
   "id": "0a7830bc-9b1c-4fef-9307-e412d903b2a3",
   "metadata": {},
   "source": [
    "## Test resulting Network [Success]"
   ]
  },
  {
   "cell_type": "markdown",
   "id": "c4f3e6a9-29f4-4edb-b1d9-e29c82ab8307",
   "metadata": {},
   "source": [
    "Do we also need to upload a 'nodes speed' for the Network to work? Test by loading aup.graph_from_hippo using nodes and recently filtered edges_speed. Resulting nodes_test and edges_test shape should be that of filtered nodes and edges."
   ]
  },
  {
   "cell_type": "code",
   "execution_count": 16,
   "id": "717bac55-646a-4b99-94ad-bb56d7b529ba",
   "metadata": {},
   "outputs": [],
   "source": [
    "if db_save:\n",
    "    aup.gdf_to_db_slow(filtered_edges, \"edges_speed_test\", schema='osmnx', if_exists=\"replace\")"
   ]
  },
  {
   "cell_type": "code",
   "execution_count": 17,
   "id": "97308742-ecc0-4a54-9b79-0db17a8488b1",
   "metadata": {},
   "outputs": [],
   "source": [
    "if db_save:\n",
    "    aoi = city_gdf.dissolve()\n",
    "    \n",
    "    # Download Network used to calculate nearest note to each poi\n",
    "    network_schema = 'osmnx'\n",
    "    edges_table = 'edges_speed_test'\n",
    "    nodes_table = 'nodes'\n",
    "    G, nodes_test, edges_test = aup.graph_from_hippo(aoi, schema=network_schema, edges_folder=edges_table, nodes_folder=nodes_table)"
   ]
  },
  {
   "cell_type": "code",
   "execution_count": 18,
   "id": "1cfe0c5b-f09b-46c7-b4c3-3630a5c5670c",
   "metadata": {},
   "outputs": [],
   "source": [
    "if db_save:\n",
    "    # Show test\n",
    "    print(nodes_test.shape)\n",
    "    nodes_test.head(1)"
   ]
  },
  {
   "cell_type": "code",
   "execution_count": 19,
   "id": "d3d6f0de-4248-4929-ad24-3c1c93ad677c",
   "metadata": {},
   "outputs": [],
   "source": [
    "if db_save:\n",
    "    # Show test\n",
    "    print(edges_test.shape)\n",
    "    edges_test.head(1)"
   ]
  },
  {
   "cell_type": "code",
   "execution_count": null,
   "id": "747bf388-8a50-47cb-9217-5c38473454f9",
   "metadata": {},
   "outputs": [],
   "source": []
  }
 ],
 "metadata": {
  "kernelspec": {
   "display_name": "GDS-10.0",
   "language": "python",
   "name": "gds"
  },
  "language_info": {
   "codemirror_mode": {
    "name": "ipython",
    "version": 3
   },
   "file_extension": ".py",
   "mimetype": "text/x-python",
   "name": "python",
   "nbconvert_exporter": "python",
   "pygments_lexer": "ipython3",
   "version": "3.9.18"
  }
 },
 "nbformat": 4,
 "nbformat_minor": 5
}
