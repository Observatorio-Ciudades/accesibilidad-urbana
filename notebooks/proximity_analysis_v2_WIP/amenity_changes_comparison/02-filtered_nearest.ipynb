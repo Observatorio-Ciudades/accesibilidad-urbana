{
 "cells": [
  {
   "cell_type": "markdown",
   "id": "552118ce-ebba-47a5-8c88-cb6567bde7d0",
   "metadata": {},
   "source": [
    "# Amenity filter"
   ]
  },
  {
   "cell_type": "markdown",
   "id": "e54d392a-5fc2-41f9-9eec-8cae4348bb83",
   "metadata": {},
   "source": [
    "This notebook helped explore a way to __filter cultural/social amenities by nom_estab__ in order to integrate changes into the 2024 proximity analysis.\n",
    "\n",
    "The __output_ at the end of this notebook is a __gdf__ containing the __time (proximity) to each amenity (source) from each node__. (nodes_proximity_2020 for updated amenities)"
   ]
  },
  {
   "cell_type": "markdown",
   "id": "187cd46a-5e58-4292-a4f9-34f9f19d9e7e",
   "metadata": {},
   "source": [
    "## Import libraries"
   ]
  },
  {
   "cell_type": "code",
   "execution_count": 1,
   "id": "779e2272-7f0c-432b-bdd0-a68b7feeb000",
   "metadata": {
    "tags": []
   },
   "outputs": [
    {
     "name": "stderr",
     "output_type": "stream",
     "text": [
      "/home/jovyan/accesibilidad-urbana/aup/data.py:25: UserWarning: The `utils.config` function is deprecated and will be removed in a future release. Instead, use the `settings` module directly to configure a global setting's value. For example, `ox.settings.log_console=True`.\n",
      "  ox.config(\n"
     ]
    }
   ],
   "source": [
    "import os\n",
    "import sys\n",
    "\n",
    "import pandas as pd\n",
    "import geopandas as gpd\n",
    "import osmnx as ox\n",
    "import numpy as np\n",
    "\n",
    "import matplotlib.pyplot as plt\n",
    "import seaborn as sns\n",
    "\n",
    "import warnings\n",
    "warnings.simplefilter(action='ignore', category=FutureWarning)\n",
    "\n",
    "module_path = os.path.abspath(os.path.join('../../../'))\n",
    "if module_path not in sys.path:\n",
    "    sys.path.append(module_path)\n",
    "    import aup"
   ]
  },
  {
   "cell_type": "markdown",
   "id": "8f60b5ae-9e37-46d9-96b9-fe643d5b4212",
   "metadata": {},
   "source": [
    "## Part 1: Amenity filter"
   ]
  },
  {
   "cell_type": "code",
   "execution_count": 2,
   "id": "e8295fa6-53d5-4816-9486-28c3db30e48f",
   "metadata": {},
   "outputs": [],
   "source": [
    "# Location of centro_cultural points of interest\n",
    "centro_cultural_dir = \"../../../data/external/temporal_todocker/proximity_v2/denue_centrocultural_mty.gpkg\"\n",
    "\n",
    "# Location of denue_dif points of interest\n",
    "dif_dir = \"../../../data/external/temporal_todocker/proximity_v2/denue_dif_mty.gpkg\""
   ]
  },
  {
   "cell_type": "markdown",
   "id": "5d43a7c2-6564-4cf1-98f5-f9844e9843fc",
   "metadata": {},
   "source": [
    "### a) Filter cultural pois according to analysis"
   ]
  },
  {
   "cell_type": "code",
   "execution_count": 3,
   "id": "e755398d-97af-402a-a4cd-d66c3a87da51",
   "metadata": {},
   "outputs": [
    {
     "name": "stdout",
     "output_type": "stream",
     "text": [
      "(50, 42)\n"
     ]
    },
    {
     "data": {
      "text/html": [
       "<div>\n",
       "<style scoped>\n",
       "    .dataframe tbody tr th:only-of-type {\n",
       "        vertical-align: middle;\n",
       "    }\n",
       "\n",
       "    .dataframe tbody tr th {\n",
       "        vertical-align: top;\n",
       "    }\n",
       "\n",
       "    .dataframe thead th {\n",
       "        text-align: right;\n",
       "    }\n",
       "</style>\n",
       "<table border=\"1\" class=\"dataframe\">\n",
       "  <thead>\n",
       "    <tr style=\"text-align: right;\">\n",
       "      <th></th>\n",
       "      <th>id</th>\n",
       "      <th>nom_estab</th>\n",
       "      <th>raz_social</th>\n",
       "      <th>codigo_act</th>\n",
       "      <th>nombre_act</th>\n",
       "      <th>per_ocu</th>\n",
       "      <th>tipo_vial</th>\n",
       "      <th>nom_vial</th>\n",
       "      <th>tipo_v_e_1</th>\n",
       "      <th>nom_v_e_1</th>\n",
       "      <th>...</th>\n",
       "      <th>ageb</th>\n",
       "      <th>manzana</th>\n",
       "      <th>telefono</th>\n",
       "      <th>correoelec</th>\n",
       "      <th>www</th>\n",
       "      <th>tipo_uni_eco</th>\n",
       "      <th>latitud</th>\n",
       "      <th>longitud</th>\n",
       "      <th>fecha_alta</th>\n",
       "      <th>geometry</th>\n",
       "    </tr>\n",
       "  </thead>\n",
       "  <tbody>\n",
       "    <tr>\n",
       "      <th>0</th>\n",
       "      <td>8419714.0</td>\n",
       "      <td>CASA DE LA CULTURA</td>\n",
       "      <td>GOBIERNO</td>\n",
       "      <td>711312.0</td>\n",
       "      <td>Promotores del sector público de espectáculos ...</td>\n",
       "      <td>0 a 5 personas</td>\n",
       "      <td>CALLE</td>\n",
       "      <td>LICENCIADO BENITO JUAREZ</td>\n",
       "      <td>CALLE</td>\n",
       "      <td>FRANCISCO I. MADERO</td>\n",
       "      <td>...</td>\n",
       "      <td>0021</td>\n",
       "      <td>31.0</td>\n",
       "      <td>nan</td>\n",
       "      <td>None</td>\n",
       "      <td>None</td>\n",
       "      <td>Fijo</td>\n",
       "      <td>25.945332</td>\n",
       "      <td>-100.39991</td>\n",
       "      <td>2019-11</td>\n",
       "      <td>POINT (-100.39991 25.94533)</td>\n",
       "    </tr>\n",
       "  </tbody>\n",
       "</table>\n",
       "<p>1 rows × 42 columns</p>\n",
       "</div>"
      ],
      "text/plain": [
       "          id           nom_estab raz_social  codigo_act  \\\n",
       "0  8419714.0  CASA DE LA CULTURA  GOBIERNO     711312.0   \n",
       "\n",
       "                                          nombre_act         per_ocu  \\\n",
       "0  Promotores del sector público de espectáculos ...  0 a 5 personas   \n",
       "\n",
       "  tipo_vial                  nom_vial tipo_v_e_1            nom_v_e_1  ...  \\\n",
       "0     CALLE  LICENCIADO BENITO JUAREZ      CALLE  FRANCISCO I. MADERO  ...   \n",
       "\n",
       "   ageb manzana telefono correoelec   www tipo_uni_eco    latitud   longitud  \\\n",
       "0  0021    31.0      nan       None  None         Fijo  25.945332 -100.39991   \n",
       "\n",
       "   fecha_alta                     geometry  \n",
       "0     2019-11  POINT (-100.39991 25.94533)  \n",
       "\n",
       "[1 rows x 42 columns]"
      ]
     },
     "execution_count": 3,
     "metadata": {},
     "output_type": "execute_result"
    }
   ],
   "source": [
    "# Read points of interest (pois)\n",
    "centro_cultural = gpd.read_file(centro_cultural_dir)\n",
    "centro_cultural = centro_cultural.set_crs(\"EPSG:4326\")\n",
    "\n",
    "# Filter for public cultural amenities (private are more variable and less accurate)\n",
    "pois_cultural = centro_cultural.loc[centro_cultural.codigo_act == 711312.0]\n",
    "\n",
    "# Somehow there\n",
    "pois_cultural = pois_cultural.explode()\n",
    "pois_cultural = pois_cultural.droplevel(1)\n",
    "\n",
    "#Show\n",
    "print(pois_cultural.shape)\n",
    "pois_cultural.head(1)"
   ]
  },
  {
   "cell_type": "code",
   "execution_count": 4,
   "id": "4904dc56-5dba-47be-8ab4-8b12b379867a",
   "metadata": {},
   "outputs": [
    {
     "name": "stdout",
     "output_type": "stream",
     "text": [
      "(43, 42)\n",
      "[711312.]\n",
      "['CENTRO CIVICO METROPLEX' 'CENTRO CULTURALROSA DE LOS VIENTOS'\n",
      " 'ARCHVO HISTORICO Y CENTRO CULTURAL URBANO'\n",
      " 'CENTRO CULTURAL PLAZA FATIMA' 'CENTRO CIVICO' 'CENTRO CULTURAL BAM'\n",
      " 'CENTRO CULTURAL LA PERGOLA' 'CENTRO DE LAS ARTES II'\n",
      " 'CASA DE LA CULTURA'\n",
      " 'CASA DE LA CULTURA PROFESORA MARÍA VILLARREAL DE BARRERA'\n",
      " 'CASA DE CULTURA' 'CASA DE LA CULTURA LICENCIADO MANUEL GOMEZ MORIN'\n",
      " 'CASA DE LA CULTURA EFRAÍN DÍAZ DE LA GARZA' 'CASA DE CULTURA SAN PEDRO'\n",
      " 'CASA DE LA CULTURA LA CIMA' 'CASA DE LA CULTURA VISTA MONTAÑA'\n",
      " 'ESTACIONAMINETO DE LA CASA DE CULTURA'\n",
      " 'CONSEJO PARA LA CULTURA Y LA ARTES I I I'\n",
      " 'INSTITUTO MUNICIPAL DE DESARROLLO CULTURAL'\n",
      " 'TALLER PERMANENTES DE LA CASA DE LA CULTURA'\n",
      " 'LIENZO CHARRO FELIX CARDENAS' 'LIENZO CHARRO MUNICIPAL'\n",
      " 'PLAZA CUATRO CAMINOS' 'PLAZA DE TOROS CADEREYTA'\n",
      " 'AUDITORIO MUNICIPAL COLINAS DEL AEROPUERTO'\n",
      " 'AUDITORIO MUNICIPAL EL CARMEN' 'AUDITORIO SAN PEDRO'\n",
      " 'AUDITORIO MUNICIPAL MARIANO ESCOBEDO'\n",
      " 'AUDITORIO MUNICIPAL DE CARRIZALEJO' 'AUDITORIO MUNICIPAL PALMAS UNIDOS'\n",
      " 'TEATRO DE LA CIUDAD' 'TEATRO CALDERON'\n",
      " 'TEATRO MUNICIPAL FIDEL VELAZQUEZ' 'TEATRO DE LA CIUDAD DE MONTERREY'\n",
      " 'TEATRO DE LA CIUDAD DE SAN NICOLAS'\n",
      " 'INSTITUTO MUNICIPAL DE BELLAS ARTES DE GARCIA NUEVO LEON'\n",
      " 'MUSEO DE HISTORIA MEXICANA' 'MUSEO DEL  NORESTE']\n"
     ]
    },
    {
     "data": {
      "text/html": [
       "<div>\n",
       "<style scoped>\n",
       "    .dataframe tbody tr th:only-of-type {\n",
       "        vertical-align: middle;\n",
       "    }\n",
       "\n",
       "    .dataframe tbody tr th {\n",
       "        vertical-align: top;\n",
       "    }\n",
       "\n",
       "    .dataframe thead th {\n",
       "        text-align: right;\n",
       "    }\n",
       "</style>\n",
       "<table border=\"1\" class=\"dataframe\">\n",
       "  <thead>\n",
       "    <tr style=\"text-align: right;\">\n",
       "      <th></th>\n",
       "      <th>id</th>\n",
       "      <th>nom_estab</th>\n",
       "      <th>raz_social</th>\n",
       "      <th>codigo_act</th>\n",
       "      <th>nombre_act</th>\n",
       "      <th>per_ocu</th>\n",
       "      <th>tipo_vial</th>\n",
       "      <th>nom_vial</th>\n",
       "      <th>tipo_v_e_1</th>\n",
       "      <th>nom_v_e_1</th>\n",
       "      <th>...</th>\n",
       "      <th>ageb</th>\n",
       "      <th>manzana</th>\n",
       "      <th>telefono</th>\n",
       "      <th>correoelec</th>\n",
       "      <th>www</th>\n",
       "      <th>tipo_uni_eco</th>\n",
       "      <th>latitud</th>\n",
       "      <th>longitud</th>\n",
       "      <th>fecha_alta</th>\n",
       "      <th>geometry</th>\n",
       "    </tr>\n",
       "  </thead>\n",
       "  <tbody>\n",
       "    <tr>\n",
       "      <th>3</th>\n",
       "      <td>2947834.0</td>\n",
       "      <td>CENTRO CIVICO METROPLEX</td>\n",
       "      <td>MUNICIPIO DE APODACA</td>\n",
       "      <td>711312.0</td>\n",
       "      <td>Promotores del sector público de espectáculos ...</td>\n",
       "      <td>0 a 5 personas</td>\n",
       "      <td>CALLE</td>\n",
       "      <td>N31</td>\n",
       "      <td>AVENIDA</td>\n",
       "      <td>METROPLEX</td>\n",
       "      <td>...</td>\n",
       "      <td>087A</td>\n",
       "      <td>2.0</td>\n",
       "      <td>8183829121.0</td>\n",
       "      <td>None</td>\n",
       "      <td>None</td>\n",
       "      <td>Fijo</td>\n",
       "      <td>25.7951</td>\n",
       "      <td>-100.2535</td>\n",
       "      <td>2014-12</td>\n",
       "      <td>POINT (-100.25350 25.79510)</td>\n",
       "    </tr>\n",
       "  </tbody>\n",
       "</table>\n",
       "<p>1 rows × 42 columns</p>\n",
       "</div>"
      ],
      "text/plain": [
       "          id                nom_estab             raz_social  codigo_act  \\\n",
       "3  2947834.0  CENTRO CIVICO METROPLEX  MUNICIPIO DE APODACA     711312.0   \n",
       "\n",
       "                                          nombre_act         per_ocu  \\\n",
       "3  Promotores del sector público de espectáculos ...  0 a 5 personas   \n",
       "\n",
       "  tipo_vial nom_vial tipo_v_e_1  nom_v_e_1  ...  ageb manzana      telefono  \\\n",
       "3     CALLE      N31    AVENIDA  METROPLEX  ...  087A     2.0  8183829121.0   \n",
       "\n",
       "  correoelec   www tipo_uni_eco  latitud  longitud  fecha_alta  \\\n",
       "3       None  None         Fijo  25.7951 -100.2535     2014-12   \n",
       "\n",
       "                      geometry  \n",
       "3  POINT (-100.25350 25.79510)  \n",
       "\n",
       "[1 rows x 42 columns]"
      ]
     },
     "execution_count": 4,
     "metadata": {},
     "output_type": "execute_result"
    }
   ],
   "source": [
    "amenities_ofinterest = ['CENTRO',\n",
    "                      'CULTURA', #incluye CULTURAL\n",
    "                      'LIENZO',\n",
    "                      'PLAZA',\n",
    "                      'ARENA',\n",
    "                      'AUDITORIO',\n",
    "                      'TEATRO',\n",
    "                      'ARTE', # incluye ARTES\n",
    "                      'MUSEO']\n",
    "\n",
    "centro_cultural_filtered = gpd.GeoDataFrame()\n",
    "\n",
    "for amenity in amenities_ofinterest:\n",
    "    pois_f = pois_cultural.loc[pois_cultural['nom_estab'].str.contains(amenity, regex=False)]\n",
    "    centro_cultural_filtered = pd.concat([centro_cultural_filtered, pois_f])\n",
    "\n",
    "centro_cultural_filtered.drop_duplicates(inplace=True)\n",
    "    \n",
    "#Show\n",
    "print(centro_cultural_filtered.shape)\n",
    "print(centro_cultural_filtered.codigo_act.unique())\n",
    "print(centro_cultural_filtered.nom_estab.unique())\n",
    "centro_cultural_filtered.head(1)"
   ]
  },
  {
   "cell_type": "code",
   "execution_count": 5,
   "id": "774bc6ed-a470-434f-8ec3-95c6acbb2d1d",
   "metadata": {},
   "outputs": [],
   "source": [
    "centro_cultural_final = centro_cultural_filtered[['codigo_act','geometry']]\n",
    "\n",
    "centro_cultural_final.to_file(\"../../../data/external/temporal_fromjupyter/proximity_v2/denue_centrocultural_filtered.gpkg\", driver='GPKG')"
   ]
  },
  {
   "cell_type": "markdown",
   "id": "73c265bc-d4f7-40ce-b74e-de932f6838ed",
   "metadata": {},
   "source": [
    "### b) Filter dif pois according to analysis"
   ]
  },
  {
   "cell_type": "code",
   "execution_count": 6,
   "id": "b4eb0fbe-cb7a-4e2f-b02a-e1365864129f",
   "metadata": {},
   "outputs": [
    {
     "name": "stdout",
     "output_type": "stream",
     "text": [
      "(451, 43)\n"
     ]
    },
    {
     "data": {
      "text/html": [
       "<div>\n",
       "<style scoped>\n",
       "    .dataframe tbody tr th:only-of-type {\n",
       "        vertical-align: middle;\n",
       "    }\n",
       "\n",
       "    .dataframe tbody tr th {\n",
       "        vertical-align: top;\n",
       "    }\n",
       "\n",
       "    .dataframe thead th {\n",
       "        text-align: right;\n",
       "    }\n",
       "</style>\n",
       "<table border=\"1\" class=\"dataframe\">\n",
       "  <thead>\n",
       "    <tr style=\"text-align: right;\">\n",
       "      <th></th>\n",
       "      <th>id</th>\n",
       "      <th>nom_estab</th>\n",
       "      <th>raz_social</th>\n",
       "      <th>codigo_act</th>\n",
       "      <th>nombre_act</th>\n",
       "      <th>per_ocu</th>\n",
       "      <th>tipo_vial</th>\n",
       "      <th>nom_vial</th>\n",
       "      <th>tipo_v_e_1</th>\n",
       "      <th>nom_v_e_1</th>\n",
       "      <th>...</th>\n",
       "      <th>manzana</th>\n",
       "      <th>telefono</th>\n",
       "      <th>correoelec</th>\n",
       "      <th>www</th>\n",
       "      <th>tipo_uni_eco</th>\n",
       "      <th>latitud</th>\n",
       "      <th>longitud</th>\n",
       "      <th>fecha_alta</th>\n",
       "      <th>Utilidad</th>\n",
       "      <th>geometry</th>\n",
       "    </tr>\n",
       "  </thead>\n",
       "  <tbody>\n",
       "    <tr>\n",
       "      <th>0</th>\n",
       "      <td>3050055.0</td>\n",
       "      <td>ACTIVIDADES ADMINISTRATIVAS DE INSTITUCIONES D...</td>\n",
       "      <td>DIF NUEVO LEÓN</td>\n",
       "      <td>931610.0</td>\n",
       "      <td>Actividades administrativas de instituciones d...</td>\n",
       "      <td>0 a 5 personas</td>\n",
       "      <td>CALLE</td>\n",
       "      <td>CIUDAD DE GUAYMAS</td>\n",
       "      <td>CALLE</td>\n",
       "      <td>DECRETO PRESIDENCIAL</td>\n",
       "      <td>...</td>\n",
       "      <td>4.0</td>\n",
       "      <td>nan</td>\n",
       "      <td>None</td>\n",
       "      <td>None</td>\n",
       "      <td>Fijo</td>\n",
       "      <td>25.75152</td>\n",
       "      <td>-100.38762</td>\n",
       "      <td>2010-07</td>\n",
       "      <td>1</td>\n",
       "      <td>POINT (-100.38762 25.75152)</td>\n",
       "    </tr>\n",
       "  </tbody>\n",
       "</table>\n",
       "<p>1 rows × 43 columns</p>\n",
       "</div>"
      ],
      "text/plain": [
       "          id                                          nom_estab  \\\n",
       "0  3050055.0  ACTIVIDADES ADMINISTRATIVAS DE INSTITUCIONES D...   \n",
       "\n",
       "        raz_social  codigo_act  \\\n",
       "0  DIF NUEVO LEÓN     931610.0   \n",
       "\n",
       "                                          nombre_act         per_ocu  \\\n",
       "0  Actividades administrativas de instituciones d...  0 a 5 personas   \n",
       "\n",
       "  tipo_vial           nom_vial tipo_v_e_1             nom_v_e_1  ... manzana  \\\n",
       "0     CALLE  CIUDAD DE GUAYMAS      CALLE  DECRETO PRESIDENCIAL  ...     4.0   \n",
       "\n",
       "  telefono correoelec   www  tipo_uni_eco   latitud   longitud  fecha_alta  \\\n",
       "0      nan       None  None          Fijo  25.75152 -100.38762     2010-07   \n",
       "\n",
       "   Utilidad                     geometry  \n",
       "0         1  POINT (-100.38762 25.75152)  \n",
       "\n",
       "[1 rows x 43 columns]"
      ]
     },
     "execution_count": 6,
     "metadata": {},
     "output_type": "execute_result"
    }
   ],
   "source": [
    "# Read points of interest (pois)\n",
    "dif = gpd.read_file(dif_dir)\n",
    "dif = dif.set_crs(\"EPSG:4326\")\n",
    "\n",
    "#Show\n",
    "print(dif.shape)\n",
    "dif.head(1)"
   ]
  },
  {
   "cell_type": "markdown",
   "id": "f318532b-bcfe-49d7-b741-a2f14ddb5bb1",
   "metadata": {},
   "source": [
    "### Evaluate"
   ]
  },
  {
   "cell_type": "code",
   "execution_count": 7,
   "id": "9c62644d-813f-497e-b5ae-a84ca7cd4b06",
   "metadata": {},
   "outputs": [
    {
     "name": "stdout",
     "output_type": "stream",
     "text": [
      "Current accuracy is 20.17738359201774%.\n"
     ]
    },
    {
     "data": {
      "text/html": [
       "<div>\n",
       "<style scoped>\n",
       "    .dataframe tbody tr th:only-of-type {\n",
       "        vertical-align: middle;\n",
       "    }\n",
       "\n",
       "    .dataframe tbody tr th {\n",
       "        vertical-align: top;\n",
       "    }\n",
       "\n",
       "    .dataframe thead th {\n",
       "        text-align: right;\n",
       "    }\n",
       "</style>\n",
       "<table border=\"1\" class=\"dataframe\">\n",
       "  <thead>\n",
       "    <tr style=\"text-align: right;\">\n",
       "      <th></th>\n",
       "      <th>Utilidad</th>\n",
       "      <th>id</th>\n",
       "    </tr>\n",
       "  </thead>\n",
       "  <tbody>\n",
       "    <tr>\n",
       "      <th>0</th>\n",
       "      <td>otros</td>\n",
       "      <td>30</td>\n",
       "    </tr>\n",
       "    <tr>\n",
       "      <th>1</th>\n",
       "      <td>oficina</td>\n",
       "      <td>264</td>\n",
       "    </tr>\n",
       "    <tr>\n",
       "      <th>2</th>\n",
       "      <td>bodega</td>\n",
       "      <td>13</td>\n",
       "    </tr>\n",
       "    <tr>\n",
       "      <th>3</th>\n",
       "      <td>no encontrado</td>\n",
       "      <td>20</td>\n",
       "    </tr>\n",
       "    <tr>\n",
       "      <th>4</th>\n",
       "      <td>parque con casita</td>\n",
       "      <td>2</td>\n",
       "    </tr>\n",
       "    <tr>\n",
       "      <th>5</th>\n",
       "      <td>apoyo escolar</td>\n",
       "      <td>6</td>\n",
       "    </tr>\n",
       "    <tr>\n",
       "      <th>6</th>\n",
       "      <td>DIF</td>\n",
       "      <td>91</td>\n",
       "    </tr>\n",
       "    <tr>\n",
       "      <th>7</th>\n",
       "      <td>otros good</td>\n",
       "      <td>25</td>\n",
       "    </tr>\n",
       "  </tbody>\n",
       "</table>\n",
       "</div>"
      ],
      "text/plain": [
       "            Utilidad   id\n",
       "0              otros   30\n",
       "1            oficina  264\n",
       "2             bodega   13\n",
       "3      no encontrado   20\n",
       "4  parque con casita    2\n",
       "5      apoyo escolar    6\n",
       "6                DIF   91\n",
       "7         otros good   25"
      ]
     },
     "execution_count": 7,
     "metadata": {},
     "output_type": "execute_result"
    }
   ],
   "source": [
    "situacion_actual = dif.groupby('Utilidad').count()\n",
    "situacion_actual = situacion_actual[['id']]\n",
    "situacion_actual.reset_index(inplace=True)\n",
    "situacion_actual.loc[(situacion_actual['Utilidad'] == -3),'Utilidad'] = 'otros'\n",
    "situacion_actual.loc[(situacion_actual['Utilidad'] == -2),'Utilidad'] = 'oficina'\n",
    "situacion_actual.loc[(situacion_actual['Utilidad'] == -1),'Utilidad'] = 'bodega'\n",
    "situacion_actual.loc[(situacion_actual['Utilidad'] == 0),'Utilidad'] = 'no encontrado'\n",
    "situacion_actual.loc[(situacion_actual['Utilidad'] == 1),'Utilidad'] = 'parque con casita'\n",
    "situacion_actual.loc[(situacion_actual['Utilidad'] == 2),'Utilidad'] = 'apoyo escolar'\n",
    "situacion_actual.loc[(situacion_actual['Utilidad'] == 3),'Utilidad'] = 'DIF'\n",
    "situacion_actual.loc[(situacion_actual['Utilidad'] == 4),'Utilidad'] = 'otros good'\n",
    "\n",
    "total = situacion_actual.id.sum()\n",
    "\n",
    "idx1 = situacion_actual.loc[situacion_actual.Utilidad == 'DIF']\n",
    "idx2 = situacion_actual.loc[situacion_actual.Utilidad == 'parque']\n",
    "accuracy = ((idx1.id.sum() + idx2.id.sum())/total)*100\n",
    "\n",
    "print(f\"Current accuracy is {accuracy}%.\")\n",
    "situacion_actual"
   ]
  },
  {
   "cell_type": "markdown",
   "id": "4105db2e-7774-4cbc-99b9-00ee2d253ceb",
   "metadata": {},
   "source": [
    "### Filter"
   ]
  },
  {
   "cell_type": "code",
   "execution_count": 8,
   "id": "54482ea2-a1f9-42dd-9253-fc0cdd254e2b",
   "metadata": {},
   "outputs": [
    {
     "name": "stdout",
     "output_type": "stream",
     "text": [
      "(111, 45)\n",
      "[931610.]\n"
     ]
    },
    {
     "name": "stderr",
     "output_type": "stream",
     "text": [
      "/tmp/ipykernel_1768/2034591611.py:50: SettingWithCopyWarning: \n",
      "A value is trying to be set on a copy of a slice from a DataFrame\n",
      "\n",
      "See the caveats in the documentation: https://pandas.pydata.org/pandas-docs/stable/user_guide/indexing.html#returning-a-view-versus-a-copy\n",
      "  dif_filtered.drop_duplicates(inplace=True)\n"
     ]
    },
    {
     "data": {
      "text/html": [
       "<div>\n",
       "<style scoped>\n",
       "    .dataframe tbody tr th:only-of-type {\n",
       "        vertical-align: middle;\n",
       "    }\n",
       "\n",
       "    .dataframe tbody tr th {\n",
       "        vertical-align: top;\n",
       "    }\n",
       "\n",
       "    .dataframe thead th {\n",
       "        text-align: right;\n",
       "    }\n",
       "</style>\n",
       "<table border=\"1\" class=\"dataframe\">\n",
       "  <thead>\n",
       "    <tr style=\"text-align: right;\">\n",
       "      <th></th>\n",
       "      <th>id</th>\n",
       "      <th>nom_estab</th>\n",
       "      <th>raz_social</th>\n",
       "      <th>codigo_act</th>\n",
       "      <th>nombre_act</th>\n",
       "      <th>per_ocu</th>\n",
       "      <th>tipo_vial</th>\n",
       "      <th>nom_vial</th>\n",
       "      <th>tipo_v_e_1</th>\n",
       "      <th>nom_v_e_1</th>\n",
       "      <th>...</th>\n",
       "      <th>correoelec</th>\n",
       "      <th>www</th>\n",
       "      <th>tipo_uni_eco</th>\n",
       "      <th>latitud</th>\n",
       "      <th>longitud</th>\n",
       "      <th>fecha_alta</th>\n",
       "      <th>Utilidad</th>\n",
       "      <th>geometry</th>\n",
       "      <th>keep</th>\n",
       "      <th>word_coincidence_count</th>\n",
       "    </tr>\n",
       "  </thead>\n",
       "  <tbody>\n",
       "    <tr>\n",
       "      <th>1</th>\n",
       "      <td>8505069.0</td>\n",
       "      <td>ALIADOS CONTIGO</td>\n",
       "      <td>SECRETARIA DE DESARROLLO SOCIAL</td>\n",
       "      <td>931610.0</td>\n",
       "      <td>Actividades administrativas de instituciones d...</td>\n",
       "      <td>11 a 30 personas</td>\n",
       "      <td>CALLE</td>\n",
       "      <td>NOGAL</td>\n",
       "      <td>CALLE</td>\n",
       "      <td>MARAVILLA</td>\n",
       "      <td>...</td>\n",
       "      <td>None</td>\n",
       "      <td>None</td>\n",
       "      <td>Fijo</td>\n",
       "      <td>25.798649</td>\n",
       "      <td>-100.60499</td>\n",
       "      <td>2019-11</td>\n",
       "      <td>3</td>\n",
       "      <td>POINT (-100.60499 25.79865)</td>\n",
       "      <td>1</td>\n",
       "      <td>0</td>\n",
       "    </tr>\n",
       "  </tbody>\n",
       "</table>\n",
       "<p>1 rows × 45 columns</p>\n",
       "</div>"
      ],
      "text/plain": [
       "          id        nom_estab                        raz_social  codigo_act  \\\n",
       "1  8505069.0  ALIADOS CONTIGO  SECRETARIA DE DESARROLLO SOCIAL     931610.0   \n",
       "\n",
       "                                          nombre_act           per_ocu  \\\n",
       "1  Actividades administrativas de instituciones d...  11 a 30 personas   \n",
       "\n",
       "  tipo_vial nom_vial tipo_v_e_1  nom_v_e_1  ... correoelec   www tipo_uni_eco  \\\n",
       "1     CALLE    NOGAL      CALLE  MARAVILLA  ...       None  None         Fijo   \n",
       "\n",
       "     latitud   longitud fecha_alta Utilidad                     geometry  \\\n",
       "1  25.798649 -100.60499    2019-11        3  POINT (-100.60499 25.79865)   \n",
       "\n",
       "   keep word_coincidence_count  \n",
       "1     1                      0  \n",
       "\n",
       "[1 rows x 45 columns]"
      ]
     },
     "execution_count": 8,
     "metadata": {},
     "output_type": "execute_result"
    }
   ],
   "source": [
    "words_toavoid = [# Culturales\n",
    "                     'ARTE', #incluye ARTES, CONARTE\n",
    "                     'MEDIATECA', 'MUSICA','ORQUESTA', #incluye MUSICAL, ORQUESTAS\n",
    "                     # Instituciones\n",
    "                     'CONAFE','CONACYT', #incluye CULTURAL\n",
    "                     'TRIBUNAL','PROTECCION CIVIL','IMM',\n",
    "                     # Salud\n",
    "                     'IMMS','ISSTE','INAPAM','SEGURO','POPULAR','FOVI', #incluye FOVISSTE, FOVILEON, etc\n",
    "                     'CAPASITIS',#Centro ambulatorio para la prevención y atención del SIDA e infecciones de transmision sexual\n",
    "                     'SANITARI', #SANITARIO/SANITARIA\n",
    "                     'MEDIC', #MEDICO/MEDICA\n",
    "                     # Educación\n",
    "                     'INEA','PRIMARIA','SECUNDARIA','PREPARATORIA','APOYO','MAESTROS','BECA','ASESORIA',\n",
    "                     'USAER', #Unidad de Servicio de Apoyo a la Educación Regular\n",
    "                     'EDUCA', #EDUCACION, EDUCACIÓN, EDUCATIVO, EDUCATIVA\n",
    "                     # Vivienda\n",
    "                     'INFONAVIT', 'VIVIENDA',\n",
    "                     # Oficinas\n",
    "                     'COORDINA','CORDINA', #incluye COORDINACION, y typos (CORDINACION)\n",
    "                     'DIRECCION','DIVISION','INSPECCION','INSTITUTO','JEFATURA','JURISDICCION','OFICINA','PROGRAMA','PROCURADORIA','PROCURADURIA',\n",
    "                     'RECAUDACION','PAPELERIA','REGION ','REGULACION','SECRETARIA','DELEGACION','SUPERVI',\n",
    "                     'ADMINISTRA',#ADMINISTRATIVO, ADMINISTRATIVA\n",
    "                     'ANALISIS', 'SEGUIMIENTO','MICRORED','MICRO RED',\n",
    "                     # Almacenes y bodegas\n",
    "                     'ALMACEN','BODEGA','ARCHIVO','ACTIVO',\n",
    "                     'PROVEED', #PROVEEDOR, PROVEEDORA\n",
    "                     # Otros\n",
    "                     'JUNTA', # para juntas de mejoras\n",
    "                     'POLIVALENTE',\n",
    "                     'SERVICIO',\n",
    "                     'GIMNASIO']\n",
    "\n",
    "# keep all unless\n",
    "dif['keep'] = 1\n",
    "\n",
    "# word of amenity is in nom_estab\n",
    "for word in words_toavoid:\n",
    "    # Reset word_coincidence_count column\n",
    "    dif['word_coincidence_count'] = 0\n",
    "    \n",
    "    # Look for word coincidence (0 = absent, 1 = present)\n",
    "    dif['word_coincidence_count'] = dif['nom_estab'].apply(lambda x: x.count(word))\n",
    "    \n",
    "    # If the word is present, do not keep\n",
    "    dif.loc[dif.word_coincidence_count > 0,'keep'] = 0\n",
    "\n",
    "# Filter\n",
    "dif_filtered = dif.loc[dif['keep'] == 1]\n",
    "\n",
    "dif_filtered.drop_duplicates(inplace=True)\n",
    "\n",
    "#Show\n",
    "print(dif_filtered.shape)\n",
    "print(dif_filtered.codigo_act.unique())\n",
    "dif_filtered.head(1)"
   ]
  },
  {
   "cell_type": "code",
   "execution_count": 9,
   "id": "a2745ea5-92a6-48d2-82f8-d7b11763ea01",
   "metadata": {},
   "outputs": [],
   "source": [
    "dif_final = dif_filtered[['codigo_act','geometry']]\n",
    "\n",
    "dif_final.to_file(\"../../../data/external/temporal_fromjupyter/proximity_v2/denue_dif_filtered.gpkg\", driver='GPKG')\n"
   ]
  },
  {
   "cell_type": "code",
   "execution_count": 10,
   "id": "6ef1d1f5-26ee-4297-8397-b2cb5d067d13",
   "metadata": {},
   "outputs": [
    {
     "name": "stdout",
     "output_type": "stream",
     "text": [
      "Current accuracy is 72.97297297297297%.\n"
     ]
    },
    {
     "data": {
      "text/html": [
       "<div>\n",
       "<style scoped>\n",
       "    .dataframe tbody tr th:only-of-type {\n",
       "        vertical-align: middle;\n",
       "    }\n",
       "\n",
       "    .dataframe tbody tr th {\n",
       "        vertical-align: top;\n",
       "    }\n",
       "\n",
       "    .dataframe thead th {\n",
       "        text-align: right;\n",
       "    }\n",
       "</style>\n",
       "<table border=\"1\" class=\"dataframe\">\n",
       "  <thead>\n",
       "    <tr style=\"text-align: right;\">\n",
       "      <th></th>\n",
       "      <th>Utilidad</th>\n",
       "      <th>id</th>\n",
       "    </tr>\n",
       "  </thead>\n",
       "  <tbody>\n",
       "    <tr>\n",
       "      <th>0</th>\n",
       "      <td>otros</td>\n",
       "      <td>9</td>\n",
       "    </tr>\n",
       "    <tr>\n",
       "      <th>1</th>\n",
       "      <td>oficina</td>\n",
       "      <td>8</td>\n",
       "    </tr>\n",
       "    <tr>\n",
       "      <th>2</th>\n",
       "      <td>bodega</td>\n",
       "      <td>1</td>\n",
       "    </tr>\n",
       "    <tr>\n",
       "      <th>3</th>\n",
       "      <td>no encontrado</td>\n",
       "      <td>4</td>\n",
       "    </tr>\n",
       "    <tr>\n",
       "      <th>4</th>\n",
       "      <td>parque con casita</td>\n",
       "      <td>1</td>\n",
       "    </tr>\n",
       "    <tr>\n",
       "      <th>5</th>\n",
       "      <td>apoyo escolar</td>\n",
       "      <td>1</td>\n",
       "    </tr>\n",
       "    <tr>\n",
       "      <th>6</th>\n",
       "      <td>DIF</td>\n",
       "      <td>81</td>\n",
       "    </tr>\n",
       "    <tr>\n",
       "      <th>7</th>\n",
       "      <td>otros good</td>\n",
       "      <td>6</td>\n",
       "    </tr>\n",
       "  </tbody>\n",
       "</table>\n",
       "</div>"
      ],
      "text/plain": [
       "            Utilidad  id\n",
       "0              otros   9\n",
       "1            oficina   8\n",
       "2             bodega   1\n",
       "3      no encontrado   4\n",
       "4  parque con casita   1\n",
       "5      apoyo escolar   1\n",
       "6                DIF  81\n",
       "7         otros good   6"
      ]
     },
     "execution_count": 10,
     "metadata": {},
     "output_type": "execute_result"
    }
   ],
   "source": [
    "situacion_filtrada = dif_filtered.groupby('Utilidad').count()\n",
    "situacion_filtrada = situacion_filtrada[['id']]\n",
    "situacion_filtrada.reset_index(inplace=True)\n",
    "situacion_filtrada.loc[(situacion_filtrada['Utilidad'] == -3),'Utilidad'] = 'otros'\n",
    "situacion_filtrada.loc[(situacion_filtrada['Utilidad'] == -2),'Utilidad'] = 'oficina'\n",
    "situacion_filtrada.loc[(situacion_filtrada['Utilidad'] == -1),'Utilidad'] = 'bodega'\n",
    "situacion_filtrada.loc[(situacion_filtrada['Utilidad'] == 0),'Utilidad'] = 'no encontrado'\n",
    "situacion_filtrada.loc[(situacion_filtrada['Utilidad'] == 1),'Utilidad'] = 'parque con casita'\n",
    "situacion_filtrada.loc[(situacion_filtrada['Utilidad'] == 2),'Utilidad'] = 'apoyo escolar'\n",
    "situacion_filtrada.loc[(situacion_filtrada['Utilidad'] == 3),'Utilidad'] = 'DIF'\n",
    "situacion_filtrada.loc[(situacion_filtrada['Utilidad'] == 4),'Utilidad'] = 'otros good'\n",
    "\n",
    "total = situacion_filtrada.id.sum()\n",
    "\n",
    "idx1 = situacion_filtrada.loc[situacion_filtrada.Utilidad == 'DIF']\n",
    "idx2 = situacion_filtrada.loc[situacion_filtrada.Utilidad == 'parque']\n",
    "accuracy = ((idx1.id.sum() + idx2.id.sum())/total)*100\n",
    "\n",
    "print(f\"Current accuracy is {accuracy}%.\")\n",
    "situacion_filtrada"
   ]
  },
  {
   "cell_type": "code",
   "execution_count": 11,
   "id": "dcc82c4f-8377-486f-96db-bde8a0911f44",
   "metadata": {},
   "outputs": [
    {
     "data": {
      "text/plain": [
       "array(['CAM SERVICIOS DE APOYO A LA INTEGRACION EDUCATIVA Y COMUNITARIA',\n",
       "       'CENTRO DE ATENCION PRIMARIA EN ADICCIONES',\n",
       "       'CENTRO DE ATENCION SUPERVISION ESCOLAR 15 DE EDUCACION ESPECIAL',\n",
       "       'CENTRO DE BIENESTAR FAMILIAR VALLE DE INFONAVIT',\n",
       "       'CLASES DE APOYO ESCOLAR EN EL DIF PUEBLO NUEVO',\n",
       "       'DELEGACION DIF SAN PEDRO 400',\n",
       "       'DEPARTAMENTO DE ACCION SOCIAL CULTURAL Y DEPORTIVA DEL ISSTE',\n",
       "       'EDUCACION INICIAL EN EL DIF PUEBLO NUEVO', 'INEA',\n",
       "       'INEA EN ELDIF PUEBLO NUEVO'], dtype=object)"
      ]
     },
     "execution_count": 11,
     "metadata": {},
     "output_type": "execute_result"
    }
   ],
   "source": [
    "# Filter\n",
    "dif_deleted= dif.loc[dif['keep'] == 0]\n",
    "dif_deleted_error = dif_deleted.loc[dif_deleted['Utilidad'] == 3]\n",
    "dif_deleted_error.nom_estab.unique()"
   ]
  },
  {
   "cell_type": "markdown",
   "id": "963c0f12-c90c-410c-8b63-c5a152e8a065",
   "metadata": {
    "tags": []
   },
   "source": [
    "## Part 2: Nodes proximity for filtered amenities"
   ]
  },
  {
   "cell_type": "code",
   "execution_count": 12,
   "id": "ed683fd4-817f-46fe-ab23-a0f93d283f14",
   "metadata": {},
   "outputs": [],
   "source": [
    "city = 'Monterrey'\n",
    "local_save = True\n",
    "save_space = False"
   ]
  },
  {
   "cell_type": "markdown",
   "id": "d7ce2e17-ef37-4c67-be1e-c65745954de4",
   "metadata": {},
   "source": [
    "### Load data - Area of interest"
   ]
  },
  {
   "cell_type": "code",
   "execution_count": 13,
   "id": "daa59efb-15d6-4d83-b435-0c3c3700ff95",
   "metadata": {},
   "outputs": [
    {
     "data": {
      "text/plain": [
       "<Axes: >"
      ]
     },
     "execution_count": 13,
     "metadata": {},
     "output_type": "execute_result"
    },
    {
     "data": {
      "image/png": "[encoded data removed]",
      "text/plain": [
       "<Figure size 640x480 with 1 Axes>"
      ]
     },
     "metadata": {},
     "output_type": "display_data"
    }
   ],
   "source": [
    "# Location of area of interest (Required)\n",
    "schema = 'metropolis'\n",
    "table = 'metro_gdf_2015'\n",
    "\n",
    "query = f\"SELECT * FROM {schema}.{table} WHERE \\\"city\\\" LIKE \\'{city}%%\\'\"\n",
    "mun_gdf = aup.gdf_from_query(query, geometry_col='geometry')\n",
    "mun_gdf.set_crs(\"EPSG:4326\",inplace=True)\n",
    "\n",
    "# Create dissolved area of interest\n",
    "mun_gdf = mun_gdf.to_crs(\"EPSG:6372\")\n",
    "aoi = mun_gdf.dissolve()\n",
    "aoi = aoi.to_crs(\"EPSG:4326\")\n",
    "aoi.plot()"
   ]
  },
  {
   "cell_type": "markdown",
   "id": "ddcd5b39-ec18-408c-a08d-ec52adc4fee7",
   "metadata": {},
   "source": [
    "### Load data - Additional amenities (libraries)"
   ]
  },
  {
   "cell_type": "code",
   "execution_count": 14,
   "id": "6cdb16e7-735a-43da-b89b-b9a6f6fb8726",
   "metadata": {},
   "outputs": [
    {
     "name": "stdout",
     "output_type": "stream",
     "text": [
      "(209, 2)\n"
     ]
    },
    {
     "data": {
      "text/html": [
       "<div>\n",
       "<style scoped>\n",
       "    .dataframe tbody tr th:only-of-type {\n",
       "        vertical-align: middle;\n",
       "    }\n",
       "\n",
       "    .dataframe tbody tr th {\n",
       "        vertical-align: top;\n",
       "    }\n",
       "\n",
       "    .dataframe thead th {\n",
       "        text-align: right;\n",
       "    }\n",
       "</style>\n",
       "<table border=\"1\" class=\"dataframe\">\n",
       "  <thead>\n",
       "    <tr style=\"text-align: right;\">\n",
       "      <th></th>\n",
       "      <th>codigo_act</th>\n",
       "      <th>geometry</th>\n",
       "    </tr>\n",
       "  </thead>\n",
       "  <tbody>\n",
       "    <tr>\n",
       "      <th>700</th>\n",
       "      <td>519122.0</td>\n",
       "      <td>POINT (-100.59989 25.80232)</td>\n",
       "    </tr>\n",
       "  </tbody>\n",
       "</table>\n",
       "</div>"
      ],
      "text/plain": [
       "     codigo_act                     geometry\n",
       "700    519122.0  POINT (-100.59989 25.80232)"
      ]
     },
     "execution_count": 14,
     "metadata": {},
     "output_type": "execute_result"
    }
   ],
   "source": [
    "schema = 'denue'\n",
    "table = 'denue_2020'\n",
    "\n",
    "denue_gdf = aup.gdf_from_polygon(aoi,schema,table)\n",
    "\n",
    "bibliotecas = denue_gdf.loc[(denue_gdf.codigo_act == 519121) | (denue_gdf.codigo_act == 519122)]\n",
    "bibliotecas = bibliotecas[['codigo_act','geometry']]\n",
    "\n",
    "del denue_gdf\n",
    "\n",
    "# Show\n",
    "print(bibliotecas.shape)\n",
    "bibliotecas.head(1)"
   ]
  },
  {
   "cell_type": "code",
   "execution_count": 15,
   "id": "cb8278fa-d18d-4d77-a9a1-a08f27221863",
   "metadata": {},
   "outputs": [
    {
     "name": "stdout",
     "output_type": "stream",
     "text": [
      "(363, 2)\n"
     ]
    },
    {
     "data": {
      "text/html": [
       "<div>\n",
       "<style scoped>\n",
       "    .dataframe tbody tr th:only-of-type {\n",
       "        vertical-align: middle;\n",
       "    }\n",
       "\n",
       "    .dataframe tbody tr th {\n",
       "        vertical-align: top;\n",
       "    }\n",
       "\n",
       "    .dataframe thead th {\n",
       "        text-align: right;\n",
       "    }\n",
       "</style>\n",
       "<table border=\"1\" class=\"dataframe\">\n",
       "  <thead>\n",
       "    <tr style=\"text-align: right;\">\n",
       "      <th></th>\n",
       "      <th>code</th>\n",
       "      <th>geometry</th>\n",
       "    </tr>\n",
       "  </thead>\n",
       "  <tbody>\n",
       "    <tr>\n",
       "      <th>3</th>\n",
       "      <td>711312.0</td>\n",
       "      <td>POINT (-100.25350 25.79510)</td>\n",
       "    </tr>\n",
       "  </tbody>\n",
       "</table>\n",
       "</div>"
      ],
      "text/plain": [
       "       code                     geometry\n",
       "3  711312.0  POINT (-100.25350 25.79510)"
      ]
     },
     "execution_count": 15,
     "metadata": {},
     "output_type": "execute_result"
    }
   ],
   "source": [
    "pois = pd.concat([centro_cultural_final,dif_final,bibliotecas])\n",
    "pois.rename(columns={'codigo_act':'code'},inplace=True)\n",
    "\n",
    "# Show\n",
    "print(pois.shape)\n",
    "pois.head(1)"
   ]
  },
  {
   "cell_type": "markdown",
   "id": "596e5179-f170-46e3-a70c-27098b1459ef",
   "metadata": {},
   "source": [
    "### Step 1: Download OSMnx network (G, nodes and edges)"
   ]
  },
  {
   "cell_type": "code",
   "execution_count": 16,
   "id": "1df9b7a6-4309-4896-b36f-eab858cf2e38",
   "metadata": {
    "tags": []
   },
   "outputs": [
    {
     "name": "stdout",
     "output_type": "stream",
     "text": [
      "Extracted min and max coordinates from the municipality. Polygon N:26.39517, S:25.22379, E-99.6862, W-100.8619.\n",
      "Created OSMnx graph from bounding box.\n",
      "Converted OSMnx graph to 240756 nodes and 612178 edges GeoDataFrame.\n",
      "Filtered columns.\n",
      "Column: osmid in nodes gdf, has a list in it, the column data was converted to string.\n",
      "Column: lanes in nodes gdf, has a list in it, the column data was converted to string.\n",
      "Column: name in nodes gdf, has a list in it, the column data was converted to string.\n",
      "Column: highway in nodes gdf, has a list in it, the column data was converted to string.\n",
      "Column: maxspeed in nodes gdf, has a list in it, the column data was converted to string.\n",
      "Column: ref in nodes gdf, has a list in it, the column data was converted to string.\n",
      "Column: access in nodes gdf, has a list in it, the column data was converted to string.\n",
      "Column: width in nodes gdf, has a list in it, the column data was converted to string.\n",
      "Column: service in nodes gdf, has a list in it, the column data was converted to string.\n"
     ]
    }
   ],
   "source": [
    "# Download osmnx network (G, nodes and edges from bounding box of aoi)\n",
    "G, nodes, edges = aup.create_osmnx_network(aoi,how='from_bbox')"
   ]
  },
  {
   "cell_type": "markdown",
   "id": "b4f180d5-54c7-4948-ac9e-85f8c83914ed",
   "metadata": {
    "tags": []
   },
   "source": [
    "### Step 2: Calculate distance from each poi to nearest node (osmid)"
   ]
  },
  {
   "cell_type": "code",
   "execution_count": 17,
   "id": "73ddda5b-81ac-4271-afcd-2aa7efa9fce8",
   "metadata": {
    "tags": []
   },
   "outputs": [
    {
     "name": "stdout",
     "output_type": "stream",
     "text": [
      "Calculated distances from pois to nearest node.\n",
      "(363, 4)\n"
     ]
    },
    {
     "data": {
      "text/html": [
       "<div>\n",
       "<style scoped>\n",
       "    .dataframe tbody tr th:only-of-type {\n",
       "        vertical-align: middle;\n",
       "    }\n",
       "\n",
       "    .dataframe tbody tr th {\n",
       "        vertical-align: top;\n",
       "    }\n",
       "\n",
       "    .dataframe thead th {\n",
       "        text-align: right;\n",
       "    }\n",
       "</style>\n",
       "<table border=\"1\" class=\"dataframe\">\n",
       "  <thead>\n",
       "    <tr style=\"text-align: right;\">\n",
       "      <th></th>\n",
       "      <th>code</th>\n",
       "      <th>geometry</th>\n",
       "      <th>osmid</th>\n",
       "      <th>distance_node</th>\n",
       "    </tr>\n",
       "  </thead>\n",
       "  <tbody>\n",
       "    <tr>\n",
       "      <th>3</th>\n",
       "      <td>711312.0</td>\n",
       "      <td>POINT (-100.25350 25.79510)</td>\n",
       "      <td>1950519761</td>\n",
       "      <td>37.600127</td>\n",
       "    </tr>\n",
       "    <tr>\n",
       "      <th>4</th>\n",
       "      <td>711312.0</td>\n",
       "      <td>POINT (-100.22668 25.72303)</td>\n",
       "      <td>1154691863</td>\n",
       "      <td>24.617579</td>\n",
       "    </tr>\n",
       "  </tbody>\n",
       "</table>\n",
       "</div>"
      ],
      "text/plain": [
       "       code                     geometry       osmid  distance_node\n",
       "3  711312.0  POINT (-100.25350 25.79510)  1950519761      37.600127\n",
       "4  711312.0  POINT (-100.22668 25.72303)  1154691863      24.617579"
      ]
     },
     "execution_count": 17,
     "metadata": {},
     "output_type": "execute_result"
    }
   ],
   "source": [
    "# Filter pois for aoi\n",
    "pois_aoi = gpd.sjoin(pois,aoi,how='inner')\n",
    "pois = pois_aoi[['code','geometry']]\n",
    "\n",
    "# Format to calculate nearest\n",
    "nodes_gdf = nodes.set_crs(\"EPSG:4326\")\n",
    "edges_gdf = edges.set_crs(\"EPSG:4326\")\n",
    "nodes_gdf = nodes_gdf.set_index('osmid')\n",
    "edges_gdf = edges_gdf.set_index([\"u\", \"v\", \"key\"])\n",
    "\n",
    "# Calculate nearest\n",
    "nearest = aup.find_nearest(G, nodes_gdf, pois, return_distance= True)\n",
    "\n",
    "#---------------------------------------------------------------------------------------------------------------------------------------------------------\n",
    "print(\"Calculated distances from pois to nearest node.\")\n",
    "#---------------------------------------------------------------------------------------------------------------------------------------------------------\n",
    "\n",
    "# Saves space in disk if instructed\n",
    "if save_space:\n",
    "    del nodes\n",
    "    del edges\n",
    "    #-----------------------------------------------------------------------------------------------------------------------------------------------------\n",
    "    print(\"Saved space by deleting used data.\")\n",
    "    #-----------------------------------------------------------------------------------------------------------------------------------------------------\n",
    "\n",
    "#Show\n",
    "print(nearest.shape)\n",
    "nearest.head(2)"
   ]
  },
  {
   "cell_type": "code",
   "execution_count": 18,
   "id": "7de89e93-368a-4d78-a475-aa492ecc1c39",
   "metadata": {},
   "outputs": [],
   "source": [
    "if local_save:\n",
    "    nearest.to_file('../../../data/external/temporal_fromjupyter/02_pois_distance_node_filtered.gpkg', driver='GPKG')"
   ]
  },
  {
   "cell_type": "markdown",
   "id": "da178102-647c-4d3a-b322-8bb9d937cfcb",
   "metadata": {
    "tags": []
   },
   "source": [
    "### Step 3: Calculate distance to nearest source amenity for each node"
   ]
  },
  {
   "cell_type": "code",
   "execution_count": 38,
   "id": "f3f17f00-fa07-44fe-a153-7bc9344c6b26",
   "metadata": {
    "tags": []
   },
   "outputs": [
    {
     "name": "stdout",
     "output_type": "stream",
     "text": [
      "Loaded a total of 111 points of interest of the source denue_dif for analisis.\n",
      "Starting range k = 0 of 0 for source denue_dif.\n",
      "Calculated time from nodes to pois for a total of 240756 nodes for source denue_dif.\n",
      "Applying final formating to calculated nodes.\n",
      "Added time for source denue_dif to nodes_sources.\n",
      "Loaded a total of 209 points of interest of the source denue_bibliotecas for analisis.\n",
      "Starting range k = 0 of 1 for source denue_bibliotecas.\n",
      "Starting range k = 1 of 1 for source denue_bibliotecas.\n",
      "Calculated time from nodes to pois for a total of 240756 nodes for source denue_bibliotecas.\n",
      "Applying final formating to calculated nodes.\n",
      "Added time for source denue_bibliotecas to nodes_sources.\n",
      "Loaded a total of 43 points of interest of the source denue_centrocultural for analisis.\n",
      "Starting range k = 0 of 0 for source denue_centrocultural.\n",
      "Calculated time from nodes to pois for a total of 240756 nodes for source denue_centrocultural.\n",
      "Applying final formating to calculated nodes.\n",
      "Added time for source denue_centrocultural to nodes_sources.\n",
      "(722268, 7)\n"
     ]
    },
    {
     "data": {
      "text/html": [
       "<div>\n",
       "<style scoped>\n",
       "    .dataframe tbody tr th:only-of-type {\n",
       "        vertical-align: middle;\n",
       "    }\n",
       "\n",
       "    .dataframe tbody tr th {\n",
       "        vertical-align: top;\n",
       "    }\n",
       "\n",
       "    .dataframe thead th {\n",
       "        text-align: right;\n",
       "    }\n",
       "</style>\n",
       "<table border=\"1\" class=\"dataframe\">\n",
       "  <thead>\n",
       "    <tr style=\"text-align: right;\">\n",
       "      <th></th>\n",
       "      <th>osmid</th>\n",
       "      <th>time</th>\n",
       "      <th>source</th>\n",
       "      <th>city</th>\n",
       "      <th>x</th>\n",
       "      <th>y</th>\n",
       "      <th>geometry</th>\n",
       "    </tr>\n",
       "  </thead>\n",
       "  <tbody>\n",
       "    <tr>\n",
       "      <th>0</th>\n",
       "      <td>316859918</td>\n",
       "      <td>94.03329</td>\n",
       "      <td>denue_dif</td>\n",
       "      <td>Monterrey</td>\n",
       "      <td>-100.037085</td>\n",
       "      <td>25.635101</td>\n",
       "      <td>POINT (-100.03709 25.63510)</td>\n",
       "    </tr>\n",
       "    <tr>\n",
       "      <th>1</th>\n",
       "      <td>316859925</td>\n",
       "      <td>13.46412</td>\n",
       "      <td>denue_dif</td>\n",
       "      <td>Monterrey</td>\n",
       "      <td>-99.995324</td>\n",
       "      <td>25.606418</td>\n",
       "      <td>POINT (-99.99532 25.60642)</td>\n",
       "    </tr>\n",
       "  </tbody>\n",
       "</table>\n",
       "</div>"
      ],
      "text/plain": [
       "       osmid      time     source       city           x          y  \\\n",
       "0  316859918  94.03329  denue_dif  Monterrey -100.037085  25.635101   \n",
       "1  316859925  13.46412  denue_dif  Monterrey  -99.995324  25.606418   \n",
       "\n",
       "                      geometry  \n",
       "0  POINT (-100.03709 25.63510)  \n",
       "1   POINT (-99.99532 25.60642)  "
      ]
     },
     "execution_count": 38,
     "metadata": {},
     "output_type": "execute_result"
    }
   ],
   "source": [
    "# Create sources - code dicc out of main parameters dicc\n",
    "sources = {}\n",
    "for eje in parameters.keys():\n",
    "    for amenity in parameters[eje]:\n",
    "        for source in parameters[eje][amenity]:\n",
    "            sources[source] = parameters[eje][amenity][source]\n",
    "\n",
    "# Format\n",
    "pois_distance_node = nearest.copy()\n",
    "edges_gdf['length'].fillna(edges_gdf['length'].mean(),inplace=True)\n",
    "\n",
    "# ELEMENTS NEEDED OUTSIDE THE LOOP - nodes_analysis is a nodes_gdf out of loop used in aup.calculate_distance_nearest_poi in each loop\n",
    "nodes_analysis = nodes_gdf.reset_index().copy()\n",
    "# ELEMENTS NEEDED OUTSIDE THE LOOP - nodes_sources is a nodes_gdf out of loop used to accumulate a final gdf with the minimal distance from each node to each source\n",
    "nodes_sources = gpd.GeoDataFrame()\n",
    "# ELEMENTS NEEDED OUTSIDE THE LOOP - Count\n",
    "i = 0\n",
    "\n",
    "# Loop that calculates distance from each node to each source (source by source)\n",
    "for s in sources:\n",
    "    \n",
    "    # Locate pois data for current source\n",
    "    source_gdf = gpd.GeoDataFrame()\n",
    "    for cod in sources[s]:\n",
    "        source_tmp = pois_distance_node[pois_distance_node['code']==cod]\n",
    "        source_gdf = pd.concat([source_gdf,source_tmp])\n",
    "    #-----------------------------------------------------------------------------------------------------------------------------------------------------\n",
    "    print(f\"Loaded a total of {len(source_gdf)} points of interest of the source {s} for analisis.\")\n",
    "    #-----------------------------------------------------------------------------------------------------------------------------------------------------\n",
    "    \n",
    "    # Data for current amenity loop - df_temp: Each column will be a batch of procesed nodes.\n",
    "    df_temp = nodes_gdf.copy()\n",
    "    # Data for current amenity loop - nodes_distance: Minimum time/distance found in all batches will be added from df_min (within if/elif/else) to nodes_distance and finally to nodes_sources (outside loop)\n",
    "    nodes_distance = nodes_gdf.copy()\n",
    "    \n",
    "    # In case there are no amenities of a certain type in the city\n",
    "    if len(source_gdf) == 0:\n",
    "        nodes_time = nodes_distance.copy()\n",
    "        nodes_time['time'] = 0\n",
    "        #-------------------------------------------------------------------------------------------------------------------------------------------------\n",
    "        print(f\"0 points of interest of the source {s} found, time is NaN.\")\n",
    "        #-------------------------------------------------------------------------------------------------------------------------------------------------       \n",
    "    \n",
    "    # Elif, divide in batches processing (200 if the total number of pois is an exact multiple of 250, 250 otherwise)\n",
    "    elif len(source_gdf) % 250:\n",
    "        batch_size = len(source_gdf)/200\n",
    "        for k in range(int(batch_size)+1):\n",
    "            #---------------------------------------------------------------------------------------------------------------------------------------------\n",
    "            print(f\"Starting range k = {k} of {int(batch_size)} for source {s}.\")\n",
    "            #---------------------------------------------------------------------------------------------------------------------------------------------\n",
    "            source_process = source_gdf.iloc[int(200*k):int(200*(1+k))].copy()\n",
    "            nodes_distance_prep = aup.calculate_distance_nearest_poi(source_process, nodes_analysis, edges_gdf, s, 'osmid', wght='length')\n",
    "            \n",
    "            #A middle gdf is created whose columns will be the name of the amenity and the batch number it belongs to\n",
    "            df_int = pd.DataFrame()\n",
    "            df_int['dist_'+str(k)+s] = nodes_distance_prep['dist_'+s]\n",
    "            \n",
    "            #The middle gdf is merged into the previously created temporary gdf to store the data by node, each batch in a column.\n",
    "            df_temp = df_temp.merge(df_int, left_index=True, right_index=True)\n",
    "            \n",
    "        # Once finished, drop the non-distance values from the temporary gdf\n",
    "        df_temp.drop(['x', 'y', 'street_count','geometry'], inplace = True, axis=1)\n",
    "        \n",
    "        #We apply the min function to find the minimum value. This value is sent to a new df_min\n",
    "        df_min = pd.DataFrame()\n",
    "        df_min['dist_'+s] = df_temp.min(axis=1)\n",
    "        \n",
    "        #We merge df_min which contains the shortest distance to the POI with nodes_distance which will store all final data\n",
    "        nodes_distance = nodes_distance.merge(df_min, left_index=True, right_index=True)\n",
    "        \n",
    "        #Final data gets converted to time, assuming a walking speed of 4km/hr\n",
    "        nodes_time = nodes_distance.copy()\n",
    "        nodes_time['time'] = (nodes_time['dist_'+s]*60)/4000\n",
    "        \n",
    "        #-------------------------------------------------------------------------------------------------------------------------------------------------\n",
    "        print(f\"Calculated time from nodes to pois for a total of {len(nodes_distance)} nodes for source {s}.\")\n",
    "        #------------------------------------------------------------------------------------------------------------------------------------------------- \n",
    "\n",
    "    # Else, divide in batches processing (200 if the total number of pois is an exact multiple of 250, 250 otherwise)   \n",
    "    else:\n",
    "        batch_size = len(source_gdf)/250\n",
    "        for k in range(int(batch_size)+1):\n",
    "            #---------------------------------------------------------------------------------------------------------------------------------------------\n",
    "            print(f\"Starting range k = {k} of {int(batch_size)} for source {s}.\")\n",
    "            #---------------------------------------------------------------------------------------------------------------------------------------------\n",
    "            source_process = source_gdf.iloc[int(250*k):int(250*(1+k))].copy()\n",
    "            nodes_distance_prep = aup.calculate_distance_nearest_poi(source_process, nodes_analysis, edges_gdf, s, 'osmid', wght='length')\n",
    "            \n",
    "            #A middle gdf is created whose columns will be the name of the amenity and the batch number it belongs to\n",
    "            df_int = pd.DataFrame()\n",
    "            df_int['dist_'+str(k)+s] = nodes_distance_prep['dist_'+s]\n",
    "            \n",
    "            #The middle gdf is merged into the previously created temporary gdf to store the data by node, each batch in a column.\n",
    "            df_temp = df_temp.merge(df_int, left_index=True, right_index=True)\n",
    "            \n",
    "        # Once finished, drop the non-distance values from the temporary gdf\n",
    "        df_temp.drop(['x', 'y', 'street_count','geometry'], inplace = True, axis=1)\n",
    "        \n",
    "        #We apply the min function to find the minimum value. This value is sent to a new df_min\n",
    "        df_min = pd.DataFrame()\n",
    "        df_min['dist_'+s] = df_temp.min(axis=1)\n",
    "        \n",
    "        #We merge df_min which contains the shortest distance to the POI with nodes_distance which will store all final data\n",
    "        nodes_distance = nodes_distance.merge(df_min, left_index=True, right_index=True)\n",
    "        \n",
    "        #Final data gets converted to time, assuming a walking speed of 4km/hr\n",
    "        nodes_time = nodes_distance.copy()\n",
    "        nodes_time['time'] = (nodes_time['dist_'+s]*60)/4000\n",
    "    \n",
    "        #-------------------------------------------------------------------------------------------------------------------------------------------------\n",
    "        print(f\"Calculated time from nodes to pois for a total of {len(nodes_distance)} nodes for source {s}.\")\n",
    "        #-------------------------------------------------------------------------------------------------------------------------------------------------    \n",
    "    \n",
    "    #-----------------------------------------------------------------------------------------------------------------------------------------------------\n",
    "    print(\"Applying final formating to calculated nodes.\")\n",
    "    #----------------------------------------------------------------------------------------------------------------------------------------------------- \n",
    "    \n",
    "    #Format nodes_distance\n",
    "    nodes_time['source'] = s\n",
    "    nodes_time['city'] = city\n",
    "    nodes_time.reset_index(inplace=True)\n",
    "    nodes_time = nodes_time.set_crs(\"EPSG:4326\")\n",
    "    nodes_time = nodes_time[['osmid','time','source','city','x','y','geometry']]\n",
    "    \n",
    "    #If it is the first round nodes_sources is created equal to nodes_distance (all nodes, one source)\n",
    "    #If it is the second or more, the new nodes_distance is merged.\n",
    "    #This way we obtain the final gdf of interest that will contain the minimum disstance to each type of amenity by column.\n",
    "    if i == 0:\n",
    "        nodes_sources = nodes_time.copy()\n",
    "    else:\n",
    "        nodes_sources = pd.concat([nodes_sources,nodes_time])\n",
    "        \n",
    "    #-----------------------------------------------------------------------------------------------------------------------------------------------------\n",
    "    print(f\"Added time for source {s} to nodes_sources.\")\n",
    "    #-----------------------------------------------------------------------------------------------------------------------------------------------------\n",
    "    \n",
    "    i += 1\n",
    "\n",
    "# Saves space in disk if instructed\n",
    "if save_space:\n",
    "    del nearest\n",
    "    del nodes_gdf\n",
    "    del nodes_analysis\n",
    "    del source_tmp\n",
    "    del source_gdf\n",
    "    del df_temp\n",
    "    del nodes_distance\n",
    "    del nodes_time\n",
    "    del source_process\n",
    "    del nodes_distance_prep\n",
    "    del df_int\n",
    "    del df_min\n",
    "    #-----------------------------------------------------------------------------------------------------------------------------------------------------\n",
    "    print(\"Saved space by deleting used data.\")\n",
    "    #-----------------------------------------------------------------------------------------------------------------------------------------------------\n",
    "\n",
    "#Show\n",
    "print(nodes_sources.shape)\n",
    "nodes_sources.head(2)"
   ]
  },
  {
   "cell_type": "code",
   "execution_count": 39,
   "id": "262d4afc-b15f-4938-a796-c4ff47435e1a",
   "metadata": {
    "tags": []
   },
   "outputs": [],
   "source": [
    "nodes_sources.to_file('../../../data/external/temporal_fromjupyter/03_filtered_nodes_proximity_2020_concat.gpkg', driver='GPKG')"
   ]
  },
  {
   "cell_type": "code",
   "execution_count": null,
   "id": "658e1c42-e9d6-4187-9705-58b17124d66c",
   "metadata": {},
   "outputs": [],
   "source": []
  }
 ],
 "metadata": {
  "kernelspec": {
   "display_name": "GDS-10.0",
   "language": "python",
   "name": "gds"
  },
  "language_info": {
   "codemirror_mode": {
    "name": "ipython",
    "version": 3
   },
   "file_extension": ".py",
   "mimetype": "text/x-python",
   "name": "python",
   "nbconvert_exporter": "python",
   "pygments_lexer": "ipython3",
   "version": "3.9.18"
  }
 },
 "nbformat": 4,
 "nbformat_minor": 5
}
