{
 "cells": [
  {
   "cell_type": "markdown",
   "id": "29a1d13e-8900-4840-8099-cf89a6248686",
   "metadata": {},
   "source": [
    "# WORK IN PROGRESS"
   ]
  },
  {
   "cell_type": "markdown",
   "id": "d059fd96-895f-48e6-97ec-3043c3a782cb",
   "metadata": {},
   "source": [
    "## Import libraries"
   ]
  },
  {
   "cell_type": "code",
   "execution_count": 1,
   "id": "90cfe31d-5c6e-44fa-98d6-f03dcfb6a314",
   "metadata": {},
   "outputs": [
    {
     "name": "stderr",
     "output_type": "stream",
     "text": [
      "/home/jovyan/accesibilidad-urbana/aup/data.py:25: UserWarning: The `utils.config` function is deprecated and will be removed in a future release. Instead, use the `settings` module directly to configure a global setting's value. For example, `ox.settings.log_console=True`.\n",
      "  ox.config(\n"
     ]
    }
   ],
   "source": [
    "import os\n",
    "import sys\n",
    "\n",
    "import pandas as pd\n",
    "import geopandas as gpd\n",
    "import osmnx as ox\n",
    "import numpy as np\n",
    "\n",
    "from scipy.spatial import Voronoi, voronoi_plot_2d\n",
    "import shapely\n",
    "\n",
    "import matplotlib.pyplot as plt\n",
    "import seaborn as sns\n",
    "\n",
    "import warnings\n",
    "warnings.simplefilter(action='ignore', category=FutureWarning)\n",
    "\n",
    "module_path = os.path.abspath(os.path.join('../../../'))\n",
    "if module_path not in sys.path:\n",
    "    sys.path.append(module_path)\n",
    "    import aup"
   ]
  },
  {
   "cell_type": "markdown",
   "id": "39c77897-e894-45d9-a7d3-a16ae41df142",
   "metadata": {},
   "source": [
    "## Work in progress based on Script 03-population_to_nodes"
   ]
  },
  {
   "cell_type": "code",
   "execution_count": null,
   "id": "50209eb1-7a4e-4425-834a-eb6dc1e84d9f",
   "metadata": {},
   "outputs": [],
   "source": [
    "# gdf_mun\n",
    "metro_schema = 'metropolis'\n",
    "metro_table = 'metro_gdf_2020'\n",
    "\n",
    "query = f\"SELECT * FROM {metro_schema}.{metro_table}\"\n",
    "metro_gdf = aup.gdf_from_query(query, geometry_col='geometry')\n",
    "metro_gdf = metro_gdf.set_crs(\"EPSG:4326\")\n",
    "\n",
    "city_list = list(metro_gdf.city.unique())\n",
    "\n",
    "# Show\n",
    "print(metro_gdf.shape)\n",
    "print(len(city_list))\n",
    "print(city_list)\n",
    "metro_gdf.head(1)"
   ]
  },
  {
   "cell_type": "code",
   "execution_count": null,
   "id": "ef62f9df-d08f-4523-8c5e-23adf42814b9",
   "metadata": {},
   "outputs": [],
   "source": [
    "censo_column_start = 14 #column where numeric data starts in censo (16 for 2010, 14 for 2020)\n",
    "censo_column_end = 0 #column where numeric data ends in censo (-1 for 2010, all up to the end (0) for 2020)\n",
    "year = '2020'\n",
    "pop_schema = 'censoageb'\n",
    "pop_table = 'censoageb_' + year\n",
    "\n",
    "res_list = [8] #Only 8,9,10 and 11 available\n",
    "\n",
    "save_schema = 'censo'\n",
    "save_table = f'censo_inegi_{year[:2]}_ageb_hex'"
   ]
  },
  {
   "cell_type": "code",
   "execution_count": null,
   "id": "89068502-bbdf-47a7-bf02-27615bbf2c5a",
   "metadata": {},
   "outputs": [],
   "source": [
    "def main():\n",
    "    # Load city\n",
    "    city_gdf = metro_gdf.loc[metro_gdf.city == city]\n",
    "\n",
    "    # Load agebs of city\n",
    "    ageb_gdf = gpd.GeoDataFrame()\n",
    "    for cvegeo in list(city_gdf.CVEGEO.unique()):\n",
    "        query = f\"SELECT * FROM {pop_schema}.{pop_table} WHERE \\\"cve_geo\\\" LIKE \\'{cvegeo}%%\\'\"\n",
    "        ageb_gdf = pd.concat([ageb_gdf,aup.gdf_from_query(query, geometry_col='geometry')])\n",
    "\n",
    "    # Load hexgrids of city\n",
    "    hex_bins = gpd.GeoDataFrame()\n",
    "    for res in res_list:\n",
    "        # Load hexgrids\n",
    "        query = f\"SELECT * FROM hexgrid.hexgrid_{res}_city_2020 WHERE \\\"city\\\" LIKE \\'{city}\\'\"\n",
    "        hex_bins = pd.concat([hex_bins,aup.gdf_from_query(query, geometry_col='geometry')])    \n",
    "    hex_bins = hex_bins.set_crs(\"EPSG:4326\")\n",
    "\n",
    "    return (ageb_gdf,hex_bins)"
   ]
  },
  {
   "cell_type": "code",
   "execution_count": null,
   "id": "b9f56a37-1bbf-4253-ba32-213fcd1aff8f",
   "metadata": {},
   "outputs": [],
   "source": [
    "k = len(city_list)\n",
    "\n",
    "# prevent cities being analyzed several times in case of a crash\n",
    "processed_city_list = []\n",
    "try:\n",
    "    query = f\"SELECT city FROM {save_schema}.{save_table}\"\n",
    "    cities_processed = aup.df_from_query(query)\n",
    "    processed_city_list = list(cities_processed.city.unique())\n",
    "except:\n",
    "    pass\n",
    "\n",
    "# PRINT PROGRESS\n",
    "missing_cities_list = []\n",
    "for city in city_list:\n",
    "    if city not in processed_city_list:\n",
    "        missing_cities_list.append(city)\n",
    "\n",
    "i = len(processed_city_list)\n",
    "print(f'Already processed ({i}/{k}) cities.')\n",
    "print(f'Missing procesing for cities: {missing_cities_list}')\n",
    " \n",
    "# SKIP FAILED CITIES\n",
    "skip_city_list = []\n",
    "\n",
    "missing_cities_list = ['Aguascalientes']\n",
    "\n",
    "for city in missing_cities_list:\n",
    "    if city not in skip_city_list:\n",
    "        print(\"--\"*40)\n",
    "        i = i + 1\n",
    "        print(f\"Starting city {i}/{k}: {city}\")\n",
    "        ageb_gdf,hex_bins = main()\n",
    "        #main(schema, folder_sufix, year, censo_column_start, censo_column_end, save=True)"
   ]
  },
  {
   "cell_type": "code",
   "execution_count": null,
   "id": "3505762d-5dca-4905-9d6c-08952e5df052",
   "metadata": {},
   "outputs": [],
   "source": [
    "ageb_gdf.nom_mun.unique()"
   ]
  },
  {
   "cell_type": "code",
   "execution_count": null,
   "id": "e347f1e4-bcb9-4b5f-90a3-1ac61e3df802",
   "metadata": {},
   "outputs": [],
   "source": [
    "# city\n",
    "#metro_schema = 'metropolis'\n",
    "#metro_table = 'metro_gdf_2020'\n",
    "#c = 'Aguascalientes'\n",
    "\n",
    "#query = f\"SELECT * FROM {metro_schema}.{metro_table} WHERE \\\"city\\\" LIKE \\'{c}\\'\"\n",
    "#metro_gdf = aup.gdf_from_query(query, geometry_col='geometry')\n",
    "#metro_gdf = metro_gdf.set_crs(\"EPSG:4326\")\n",
    "#aoi = metro_gdf.dissolve()\n",
    "\n",
    "# Show\n",
    "#print(metro_gdf.shape)\n",
    "#metro_gdf.head(1)"
   ]
  },
  {
   "cell_type": "code",
   "execution_count": null,
   "id": "149b438a-78e3-4438-86c8-487db367ddd1",
   "metadata": {},
   "outputs": [],
   "source": [
    "# agebs_gdf\n",
    "#agebs_schema = 'marco'\n",
    "#agebs_table = 'ageb_2020'\n",
    "\n",
    "#agebs_gdf = aup.gdf_from_polygon(aoi,agebs_schema,agebs_table)\n",
    "\n",
    "# Show\n",
    "#print(agebs_gdf.shape)\n",
    "#agebs_gdf.head(1)"
   ]
  }
 ],
 "metadata": {
  "kernelspec": {
   "display_name": "GDS-10.0",
   "language": "python",
   "name": "gds"
  },
  "language_info": {
   "codemirror_mode": {
    "name": "ipython",
    "version": 3
   },
   "file_extension": ".py",
   "mimetype": "text/x-python",
   "name": "python",
   "nbconvert_exporter": "python",
   "pygments_lexer": "ipython3",
   "version": "3.9.18"
  }
 },
 "nbformat": 4,
 "nbformat_minor": 5
}
