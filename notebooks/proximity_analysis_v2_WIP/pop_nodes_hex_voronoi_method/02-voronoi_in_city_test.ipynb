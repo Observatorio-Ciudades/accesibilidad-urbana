{
 "cells": [
  {
   "cell_type": "markdown",
   "id": "fda6d275-61b6-4c47-96db-437a75141a6e",
   "metadata": {},
   "source": [
    "# Notebook 02-voronoi_in_city_test"
   ]
  },
  {
   "cell_type": "markdown",
   "id": "2caeae9c-d9b4-440e-a922-2d63b97f5127",
   "metadata": {},
   "source": [
    "This notebook takes the work developed on Notebook 00-voronoi_in_ageb_test and applies it to a city (Aguascalientes).\n",
    "\n",
    "Helped function voronoi_points_within_polygon to work properly."
   ]
  },
  {
   "cell_type": "markdown",
   "id": "516e2546-6a73-4181-a2d4-6f1d040ebcce",
   "metadata": {},
   "source": [
    "## Import libraries"
   ]
  },
  {
   "cell_type": "code",
   "execution_count": 33,
   "id": "c08f62c9-3c61-4fcd-baae-e046d26255c5",
   "metadata": {},
   "outputs": [],
   "source": [
    "import os\n",
    "import sys\n",
    "\n",
    "import pandas as pd\n",
    "import geopandas as gpd\n",
    "import osmnx as ox\n",
    "import numpy as np\n",
    "\n",
    "from scipy.spatial import Voronoi, voronoi_plot_2d\n",
    "import shapely\n",
    "\n",
    "import matplotlib.pyplot as plt\n",
    "import seaborn as sns\n",
    "\n",
    "import warnings\n",
    "warnings.simplefilter(action='ignore', category=FutureWarning)\n",
    "\n",
    "module_path = os.path.abspath(os.path.join('../../../'))\n",
    "if module_path not in sys.path:\n",
    "    sys.path.append(module_path)\n",
    "    import aup"
   ]
  },
  {
   "cell_type": "markdown",
   "id": "2dfc9215-141b-4028-a040-1b8acf1dacb0",
   "metadata": {},
   "source": [
    "## Load city data"
   ]
  },
  {
   "cell_type": "markdown",
   "id": "d29776ba-ef7a-4ca1-b86e-3faa7f4cef1a",
   "metadata": {},
   "source": [
    "### Load mun_gdf (Area of interest)"
   ]
  },
  {
   "cell_type": "code",
   "execution_count": 2,
   "id": "bd3643fb-d5d5-4880-9273-e0a0cf0731ba",
   "metadata": {},
   "outputs": [],
   "source": [
    "# OUTSIDE FUNCTION:\n",
    "city = 'Aguascalientes'\n",
    "\n",
    "# --------------- CREATE AREA OF INTEREST (aoi)\n",
    "# Downloads mun_gdf for city and create aoi\n",
    "query = f\"SELECT * FROM metropolis.metro_gdf_2020 WHERE \\\"city\\\" LIKE \\'{city}\\'\"\n",
    "mun_gdf = aup.gdf_from_query(query, geometry_col='geometry')\n",
    "mun_gdf = mun_gdf.set_crs(\"EPSG:4326\")"
   ]
  },
  {
   "cell_type": "code",
   "execution_count": 4,
   "id": "aa5b8ba9-c193-4215-a257-25c0ef1d1f2b",
   "metadata": {},
   "outputs": [
    {
     "name": "stdout",
     "output_type": "stream",
     "text": [
      "Loading AGEBs for area of interest.\n",
      "Loading blocks for area of interest.\n"
     ]
    }
   ],
   "source": [
    "# --------------- DOWNLOAD POP DATA\n",
    "aoi = mun_gdf.dissolve()\n",
    "print(\"Loading AGEBs for area of interest.\")\n",
    "pop_ageb_gdf = aup.gdf_from_polygon(aoi,'censoageb','censoageb_2020')\n",
    "print(\"Loading blocks for area of interest.\")\n",
    "pop_mza_gdf = aup.gdf_from_polygon(aoi,'censo_mza','censo_mza_2020')\n",
    "pop_mza_gdf = pop_mza_gdf.loc[pop_mza_gdf.AMBITO == 'Urbana'].copy()"
   ]
  },
  {
   "cell_type": "markdown",
   "id": "8a441c24-ef01-4a2d-90d0-c818aead8196",
   "metadata": {},
   "source": [
    "## Methodology"
   ]
  },
  {
   "cell_type": "markdown",
   "id": "80b261c8-aa5a-4c62-9fa1-fe5398ac78e3",
   "metadata": {},
   "source": [
    "### 1. Select nodes within area of interest"
   ]
  },
  {
   "cell_type": "code",
   "execution_count": null,
   "id": "7ce72032-24fc-4f5e-b5e6-b43b91a92312",
   "metadata": {},
   "outputs": [],
   "source": [
    "G, nodes, edges = aup.create_osmnx_network(aoi)\n",
    "\n",
    "fig,ax = plt.subplots(figsize=(5,5))\n",
    "nodes.plot(ax=ax,color='red',zorder=2)\n",
    "edges.plot(ax=ax,zorder=1,color='red')\n",
    "aoi.plot(ax=ax,zorder=0)"
   ]
  },
  {
   "cell_type": "markdown",
   "id": "30af11ec-e9d4-4c47-b75a-b49f1d5f128e",
   "metadata": {},
   "source": [
    "### 2. Create voronoi polygons using nodes"
   ]
  },
  {
   "cell_type": "code",
   "execution_count": null,
   "id": "3b2373fd-83fb-441a-bf91-ea0524c8a509",
   "metadata": {},
   "outputs": [],
   "source": [
    "def voronoi_points_within_polygon (polygon, points, admissible_error = 0.01):\n",
    "    # This function takes as input a polygon and points within that polygon\n",
    "    # And returns the voronoi distribution of those points within that polygon\n",
    "\n",
    "    \n",
    "    #Set area of interest (polygon) and points of interest (nodes) for voronoi analysis to crs:6372\n",
    "    aoi = polygon.to_crs(\"EPSG:6372\")\n",
    "    pois = points.to_crs(\"EPSG:6372\")\n",
    "\n",
    "    # Distance is a number used to create a buffer around the polygon and coordinates along a bounding box of that buffer.\n",
    "    # Starts at 100 (works for smaller polygons) but will increase itself until the diference between the area of \n",
    "    # the voronoi polygons created and the area of the aoi is less than the admissible_error.\n",
    "    distance = 100\n",
    "\n",
    "    # Goal area (Area of aoi)\n",
    "    goal_area_gdf = aoi.copy()\n",
    "    goal_area_gdf['area'] = goal_area_gdf.geometry.area\n",
    "    goal_area = goal_area_gdf['area'].sum()\n",
    "    \n",
    "    #Loop starter:\n",
    "    area_diff = admissible_error + 1\n",
    "    \n",
    "    # Will repeat process while difference between voronoi polygons area and goal_area is more than admissible_error.\n",
    "    while area_diff > admissible_error:\n",
    "\n",
    "        print(f'Processing area of interest for distance = {distance}.')\n",
    "        \n",
    "        #Create a rectangular bound for the area of interest\n",
    "        polygon = aoi['geometry'].unique()[0]\n",
    "        bound = polygon.buffer(distance).envelope.boundary\n",
    "        \n",
    "        #Create points along the rectangular boundary\n",
    "        boundarypoints = [bound.interpolate(distance=d) for d in range(0, np.ceil(bound.length).astype(int), distance)]\n",
    "        boundarycoords = np.array([[p.x, p.y] for p in boundarypoints])\n",
    "        \n",
    "        #Load the points inside the polygon\n",
    "        coords = np.array(pois.get_coordinates())\n",
    "        \n",
    "        #Create an array of all points on the boundary and inside the polygon\n",
    "        all_coords = np.concatenate((boundarycoords, coords))\n",
    "        \n",
    "        # Calculate voronoi to all coords and create voronois gdf (No boundary)\n",
    "        vor = Voronoi(points=all_coords)\n",
    "        lines = [shapely.geometry.LineString(vor.vertices[line]) for line in vor.ridge_vertices if -1 not in line]\n",
    "        polys = shapely.ops.polygonize(lines)\n",
    "        unbounded_voronois = gpd.GeoDataFrame(geometry=gpd.GeoSeries(polys), crs=\"epsg:6372\")\n",
    "        \n",
    "        #Clip voronoi with boundary\n",
    "        bounded_voronois = gpd.overlay(df1=unbounded_voronois, df2=aoi, how=\"intersection\")\n",
    "        \n",
    "        # Change back crs\n",
    "        voronois_gdf = bounded_voronois.to_crs(\"EPSG:4326\")\n",
    "\n",
    "        # Area check for while loop\n",
    "        voronois_area_gdf = voronois_gdf.to_crs(\"EPSG:6372\")\n",
    "        voronois_area_gdf['area'] = voronois_area_gdf.geometry.area\n",
    "        voronois_area = voronois_area_gdf['area'].sum()\n",
    "\n",
    "        area_diff = ((goal_area - voronois_area)/(goal_area))*100\n",
    "        \n",
    "        if area_diff > admissible_error:\n",
    "            print(f'Error = {round(area_diff,2)}%. Repeating process.')\n",
    "            distance = distance * 10\n",
    "        else:\n",
    "            print(f'Error = {round(area_diff,2)}%. Admissible.')\n",
    "            \n",
    "    return voronois_gdf\n"
   ]
  },
  {
   "cell_type": "code",
   "execution_count": null,
   "id": "fba9bbce-a9ca-471e-810d-960ec5e8db50",
   "metadata": {},
   "outputs": [],
   "source": [
    "voronois_gdf = voronoi_points_within_polygon(aoi,nodes)\n",
    "\n",
    "# Show\n",
    "fig, ax = plt.subplots(figsize=(20, 20))\n",
    "nodes.plot(ax=ax, color=\"maroon\",zorder=2)\n",
    "aoi.boundary.plot(ax=ax, edgecolor=\"blue\", linewidth=6,zorder=1)\n",
    "voronois_gdf.plot(ax=ax, color=\"red\", alpha=0.3, edgecolor=\"black\",zorder=0)"
   ]
  },
  {
   "cell_type": "code",
   "execution_count": null,
   "id": "bf9a276c-d1cd-4ac0-8068-a68088bb19ad",
   "metadata": {},
   "outputs": [],
   "source": [
    "# Add nodes osmid data to voronoi polygons\n",
    "nodes_voronoi_gdf = gpd.sjoin(voronois_gdf,nodes[['osmid','geometry']])\n",
    "nodes_voronoi_gdf = nodes_voronoi_gdf[['osmid','geometry']]\n",
    "\n",
    "# Show\n",
    "print(nodes_voronoi_gdf.shape)\n",
    "nodes_voronoi_gdf.head(1)"
   ]
  },
  {
   "cell_type": "markdown",
   "id": "f96fd6ce-355b-4d65-b91c-26f45f76aedd",
   "metadata": {},
   "source": [
    "### 3. Spatial intersection of voronoi polygons with blocks. Calculate pct of area that corresponds to each osmid within block."
   ]
  },
  {
   "cell_type": "code",
   "execution_count": null,
   "id": "da1e67f2-9bdd-45f4-8a1e-36913a1ebb55",
   "metadata": {},
   "outputs": [],
   "source": [
    "# Calculate block area\n",
    "mza_gdf = pop_mza_gdf.to_crs(\"EPSG:6372\")\n",
    "mza_gdf['area_mza'] = mza_gdf.geometry.area\n",
    "mza_gdf = mza_gdf.to_crs(\"EPSG:4326\")\n",
    "\n",
    "# Overlay blocks with voronoi\n",
    "mza_voronoi = gpd.overlay(df1=mza_gdf, df2=nodes_voronoi_gdf, how=\"intersection\")\n",
    "del mza_gdf\n",
    "\n",
    "# Calculate area distribution of block in voronoi zones\n",
    "mza_voronoi = mza_voronoi.to_crs(\"EPSG:6372\")\n",
    "mza_voronoi['area_voronoi'] = mza_voronoi.geometry.area\n",
    "mza_voronoi = mza_voronoi.to_crs(\"EPSG:4326\")\n",
    "mza_voronoi['area_pct'] = mza_voronoi['area_voronoi']/mza_voronoi['area_mza']\n",
    "\n",
    "# Drop used columns\n",
    "mza_voronoi.drop(columns=['area_mza','area_voronoi'],inplace=True)\n",
    "\n",
    "# Show\n",
    "print(mza_voronoi.shape)\n",
    "mza_voronoi.head(1)"
   ]
  },
  {
   "cell_type": "markdown",
   "id": "ebcad051-768d-4f0e-acb4-667bccf1e1be",
   "metadata": {},
   "source": [
    "### 4. Sum of pob data that corresponds to each node"
   ]
  },
  {
   "cell_type": "code",
   "execution_count": null,
   "id": "10b13c2c-9229-4c03-b8af-ef70f64f3d49",
   "metadata": {},
   "outputs": [],
   "source": [
    "len(mza_voronoi.osmid.unique())"
   ]
  },
  {
   "cell_type": "code",
   "execution_count": null,
   "id": "a1634f2e-21bc-4500-ad06-f3ed4d321ccf",
   "metadata": {},
   "outputs": [],
   "source": [
    "columns_of_interest = ['POBTOT','POBFEM','POBMAS',\n",
    "                    'P_0A2','P_0A2_F','P_0A2_M',\n",
    "                    'P_3A5','P_3A5_F','P_3A5_M',\n",
    "                    'P_6A11','P_6A11_F','P_6A11_M',\n",
    "                    'P_12A14','P_12A14_F','P_12A14_M',\n",
    "                    'P_15A17','P_15A17_F','P_15A17_M',\n",
    "                    'P_18A24','P_18A24_F','P_18A24_M',\n",
    "                    'P_60YMAS','P_60YMAS_F','P_60YMAS_M',\n",
    "                    'P_3YMAS','P_3YMAS_F','P_3YMAS_M',\n",
    "                    'P_12YMAS','P_12YMAS_F','P_12YMAS_M',\n",
    "                    'P_15YMAS','P_15YMAS_F','P_15YMAS_M',\n",
    "                    'P_18YMAS','P_18YMAS_F','P_18YMAS_M',\n",
    "                    'REL_H_M','POB0_14','POB15_64','POB65_MAS']\n",
    "\n",
    "nodes_gdf = nodes.copy()\n",
    "\n",
    "for col in columns_of_interest:\n",
    "    # Turn column to numeric \n",
    "    mza_voronoi[col] = pd.to_numeric(mza_voronoi[col])\n",
    "\n",
    "    # Calculate population proportional to voronoi area of block\n",
    "    mza_voronoi[f'voronoi_{col}'] = mza_voronoi[col] * mza_voronoi['area_pct']\n",
    "    \n",
    "    # Group data by osmid\n",
    "    col_data = mza_voronoi[['osmid',f'voronoi_{col}']]\n",
    "    osmid_grouped_data = col_data.groupby('osmid').agg({f'voronoi_{col}':np.sum})\n",
    "    \n",
    "    # Merge data to nodes_gdf\n",
    "    osmid_grouped_data.reset_index(inplace=True)\n",
    "    nodes_gdf = pd.merge(nodes_gdf,osmid_grouped_data,on='osmid')\n",
    "    nodes_gdf.rename(columns={f'voronoi_{col}':col},inplace=True)\n",
    "\n",
    "print(nodes_gdf.shape)\n",
    "nodes_gdf.head(1)"
   ]
  },
  {
   "cell_type": "markdown",
   "id": "149d455c-9370-4f33-bf4e-e3b8d40840e7",
   "metadata": {},
   "source": [
    "## Visual test"
   ]
  },
  {
   "cell_type": "code",
   "execution_count": null,
   "id": "74e22825-e20b-4b27-a1e3-b47a79095af8",
   "metadata": {},
   "outputs": [],
   "source": [
    "nodes_pop_gdf = aup.gdf_from_polygon(aoi,'censo','nodes_pop_2020')"
   ]
  },
  {
   "cell_type": "code",
   "execution_count": null,
   "id": "1cc18e98-2154-4674-9507-6bc2935a985d",
   "metadata": {},
   "outputs": [],
   "source": [
    "# Show\n",
    "print(nodes_pop_gdf.shape)\n",
    "nodes_pop_gdf.head(1)"
   ]
  },
  {
   "cell_type": "code",
   "execution_count": null,
   "id": "6794bd31-5556-4fff-b7f3-8bc6933f8bbe",
   "metadata": {},
   "outputs": [],
   "source": [
    "fig, ax = plt.subplots(1,2,figsize=(10, 10))\n",
    "nodes_gdf.plot('POBTOT',ax=ax[0],markersize=.05,cmap='Reds')\n",
    "nodes_pop_gdf.plot('pobtot',ax=ax[1],markersize=.05,cmap='Reds')"
   ]
  },
  {
   "cell_type": "markdown",
   "id": "de90b8a3-6c15-480a-9163-9ac39ff7f339",
   "metadata": {},
   "source": [
    "## Other tests"
   ]
  },
  {
   "cell_type": "code",
   "execution_count": null,
   "id": "75b0069e-f818-4242-af76-7cc9e5b51c8e",
   "metadata": {},
   "outputs": [],
   "source": [
    "test_df = pd.DataFrame()\n",
    "\n",
    "test_cols = columns_of_interest.copy()\n",
    "test_cols.remove('REL_H_M')\n",
    "\n",
    "i = 0\n",
    "for col in test_cols:\n",
    "    # Turn column to numeric \n",
    "    pop_mza_gdf[col] = pd.to_numeric(pop_mza_gdf[col])\n",
    "    pop_ageb_gdf[col.lower()] = pd.to_numeric(pop_ageb_gdf[col.lower()])\n",
    "\n",
    "    # Get values of col\n",
    "    blocks_value = pop_mza_gdf[col].sum()\n",
    "    nodes_value = nodes_gdf[col].sum()\n",
    "    ageb_value = pop_ageb_gdf[col.lower()].sum()\n",
    "    db_nodes_value = nodes_pop_gdf[col.lower()].sum()\n",
    "\n",
    "    # Assign values to corresponding row\n",
    "    test_df.loc[i,'atr'] = col\n",
    "    test_df.loc[i,'blocks'] = blocks_value\n",
    "    test_df.loc[i,'nodes'] = nodes_value\n",
    "    test_df.loc[i,'ageb'] = ageb_value\n",
    "    test_df.loc[i,'db_nodes'] = db_nodes_value\n",
    "\n",
    "    i = i+1\n",
    "\n",
    "# Find differences in data and methodologies\n",
    "test_df['diff'] = test_df['nodes'] - test_df['blocks']\n",
    "test_df['blocks_diff'] = test_df['blocks'] - test_df['ageb']\n",
    "test_df['diff_db'] = test_df['db_nodes'] - test_df['ageb']\n",
    "\n",
    "# Find sum of differences and assign to final row 'TOTAL'\n",
    "diff_sum = test_df['diff'].sum()\n",
    "blocks_diff_sum = test_df['blocks_diff'].sum()\n",
    "diff_db_sum = test_df['diff_db'].sum()\n",
    "\n",
    "test_df.loc[i,'atr'] = 'TOTAL'\n",
    "test_df.loc[i,'diff'] = diff_sum\n",
    "test_df.loc[i,'blocks_diff'] = blocks_diff_sum\n",
    "test_df.loc[i,'diff_db'] = diff_db_sum\n",
    "\n",
    "# Format - reorder columns\n",
    "test_df = test_df[['atr','blocks','nodes','diff','ageb','blocks_diff','db_nodes','diff_db']]\n",
    "\n",
    "# Show\n",
    "test_df"
   ]
  },
  {
   "cell_type": "code",
   "execution_count": 23,
   "id": "35a07030-756d-4509-9d5a-c6799752c69f",
   "metadata": {},
   "outputs": [
    {
     "name": "stdout",
     "output_type": "stream",
     "text": [
      "1042295\n"
     ]
    },
    {
     "data": {
      "text/html": [
       "<div>\n",
       "<style scoped>\n",
       "    .dataframe tbody tr th:only-of-type {\n",
       "        vertical-align: middle;\n",
       "    }\n",
       "\n",
       "    .dataframe tbody tr th {\n",
       "        vertical-align: top;\n",
       "    }\n",
       "\n",
       "    .dataframe thead th {\n",
       "        text-align: right;\n",
       "    }\n",
       "</style>\n",
       "<table border=\"1\" class=\"dataframe\">\n",
       "  <thead>\n",
       "    <tr style=\"text-align: right;\">\n",
       "      <th></th>\n",
       "      <th>cve_geo</th>\n",
       "      <th>cve_ent</th>\n",
       "      <th>cve_mun</th>\n",
       "      <th>cve_loc</th>\n",
       "      <th>cve_ageb</th>\n",
       "      <th>geometry</th>\n",
       "      <th>entidad</th>\n",
       "      <th>nom_ent</th>\n",
       "      <th>mun</th>\n",
       "      <th>nom_mun</th>\n",
       "      <th>...</th>\n",
       "      <th>vph_cel</th>\n",
       "      <th>vph_inter</th>\n",
       "      <th>vph_stvp</th>\n",
       "      <th>vph_spmvpi</th>\n",
       "      <th>vph_cvj</th>\n",
       "      <th>vph_sinrtv</th>\n",
       "      <th>vph_sintlc</th>\n",
       "      <th>vph_sincint</th>\n",
       "      <th>vph_sintic</th>\n",
       "      <th>cve_geo_ageb</th>\n",
       "    </tr>\n",
       "  </thead>\n",
       "  <tbody>\n",
       "  </tbody>\n",
       "</table>\n",
       "<p>0 rows × 237 columns</p>\n",
       "</div>"
      ],
      "text/plain": [
       "Empty GeoDataFrame\n",
       "Columns: [cve_geo, cve_ent, cve_mun, cve_loc, cve_ageb, geometry, entidad, nom_ent, mun, nom_mun, loc, nom_loc, ageb, mza, pobtot, pobfem, pobmas, p_0a2, p_0a2_f, p_0a2_m, p_3ymas, p_3ymas_f, p_3ymas_m, p_5ymas, p_5ymas_f, p_5ymas_m, p_12ymas, p_12ymas_f, p_12ymas_m, p_15ymas, p_15ymas_f, p_15ymas_m, p_18ymas, p_18ymas_f, p_18ymas_m, p_3a5, p_3a5_f, p_3a5_m, p_6a11, p_6a11_f, p_6a11_m, p_8a14, p_8a14_f, p_8a14_m, p_12a14, p_12a14_f, p_12a14_m, p_15a17, p_15a17_f, p_15a17_m, p_18a24, p_18a24_f, p_18a24_m, p_15a49_f, p_60ymas, p_60ymas_f, p_60ymas_m, rel_h_m, pob0_14, pob15_64, pob65_mas, prom_hnv, pnacent, pnacent_f, pnacent_m, pnacoe, pnacoe_f, pnacoe_m, pres2015, pres2015_f, pres2015_m, presoe15, presoe15_f, presoe15_m, p3ym_hli, p3ym_hli_f, p3ym_hli_m, p3hlinhe, p3hlinhe_f, p3hlinhe_m, p3hli_he, p3hli_he_f, p3hli_he_m, p5_hli, p5_hli_nhe, p5_hli_he, phog_ind, pob_afro, pob_afro_f, pob_afro_m, pcon_disc, pcdisc_mot, pcdisc_vis, pcdisc_leng, pcdisc_aud, pcdisc_mot2, pcdisc_men, pcon_limi, pclim_csb, pclim_vis, ...]\n",
       "Index: []\n",
       "\n",
       "[0 rows x 237 columns]"
      ]
     },
     "execution_count": 23,
     "metadata": {},
     "output_type": "execute_result"
    }
   ],
   "source": [
    "print(pop_ageb_gdf.pobtot.sum())\n",
    "pop_ageb_gdf.loc[pop_ageb_gdf.pobtot.isna()]"
   ]
  },
  {
   "cell_type": "code",
   "execution_count": 19,
   "id": "f193f299-4ec4-4cc3-a236-143527def5d0",
   "metadata": {},
   "outputs": [
    {
     "ename": "NameError",
     "evalue": "name 'nodes_gdf' is not defined",
     "output_type": "error",
     "traceback": [
      "\u001b[0;31m---------------------------------------------------------------------------\u001b[0m",
      "\u001b[0;31mNameError\u001b[0m                                 Traceback (most recent call last)",
      "Cell \u001b[0;32mIn[19], line 1\u001b[0m\n\u001b[0;32m----> 1\u001b[0m \u001b[38;5;28mprint\u001b[39m(\u001b[43mnodes_gdf\u001b[49m\u001b[38;5;241m.\u001b[39mPOBTOT\u001b[38;5;241m.\u001b[39msum())\n\u001b[1;32m      2\u001b[0m nodes_gdf\u001b[38;5;241m.\u001b[39mloc[nodes_gdf\u001b[38;5;241m.\u001b[39mPOBTOT\u001b[38;5;241m.\u001b[39misna()]\n",
      "\u001b[0;31mNameError\u001b[0m: name 'nodes_gdf' is not defined"
     ]
    }
   ],
   "source": [
    "print(nodes_gdf.POBTOT.sum())\n",
    "nodes_gdf.loc[nodes_gdf.POBTOT.isna()]"
   ]
  },
  {
   "cell_type": "code",
   "execution_count": 5,
   "id": "906af597-526d-4bc2-88a5-4cf3ffdd0089",
   "metadata": {},
   "outputs": [
    {
     "data": {
      "text/html": [
       "<div>\n",
       "<style scoped>\n",
       "    .dataframe tbody tr th:only-of-type {\n",
       "        vertical-align: middle;\n",
       "    }\n",
       "\n",
       "    .dataframe tbody tr th {\n",
       "        vertical-align: top;\n",
       "    }\n",
       "\n",
       "    .dataframe thead th {\n",
       "        text-align: right;\n",
       "    }\n",
       "</style>\n",
       "<table border=\"1\" class=\"dataframe\">\n",
       "  <thead>\n",
       "    <tr style=\"text-align: right;\">\n",
       "      <th></th>\n",
       "      <th>cve_geo</th>\n",
       "      <th>cve_ent</th>\n",
       "      <th>cve_mun</th>\n",
       "      <th>cve_loc</th>\n",
       "      <th>cve_ageb</th>\n",
       "      <th>geometry</th>\n",
       "      <th>entidad</th>\n",
       "      <th>nom_ent</th>\n",
       "      <th>mun</th>\n",
       "      <th>nom_mun</th>\n",
       "      <th>...</th>\n",
       "      <th>vph_cel</th>\n",
       "      <th>vph_inter</th>\n",
       "      <th>vph_stvp</th>\n",
       "      <th>vph_spmvpi</th>\n",
       "      <th>vph_cvj</th>\n",
       "      <th>vph_sinrtv</th>\n",
       "      <th>vph_sintlc</th>\n",
       "      <th>vph_sincint</th>\n",
       "      <th>vph_sintic</th>\n",
       "      <th>cve_geo_ageb</th>\n",
       "    </tr>\n",
       "  </thead>\n",
       "  <tbody>\n",
       "    <tr>\n",
       "      <th>0</th>\n",
       "      <td>010010001216A</td>\n",
       "      <td>01</td>\n",
       "      <td>001</td>\n",
       "      <td>0001</td>\n",
       "      <td>216A</td>\n",
       "      <td>POLYGON ((-102.27058 21.87363, -102.27083 21.8...</td>\n",
       "      <td>1</td>\n",
       "      <td>Aguascalientes</td>\n",
       "      <td>1</td>\n",
       "      <td>Aguascalientes</td>\n",
       "      <td>...</td>\n",
       "      <td>753.0</td>\n",
       "      <td>609.0</td>\n",
       "      <td>439.0</td>\n",
       "      <td>205.0</td>\n",
       "      <td>146.0</td>\n",
       "      <td>7.0</td>\n",
       "      <td>14.0</td>\n",
       "      <td>174.0</td>\n",
       "      <td>NaN</td>\n",
       "      <td>010010001216A</td>\n",
       "    </tr>\n",
       "  </tbody>\n",
       "</table>\n",
       "<p>1 rows × 237 columns</p>\n",
       "</div>"
      ],
      "text/plain": [
       "         cve_geo cve_ent cve_mun cve_loc cve_ageb  \\\n",
       "0  010010001216A      01     001    0001     216A   \n",
       "\n",
       "                                            geometry  entidad         nom_ent  \\\n",
       "0  POLYGON ((-102.27058 21.87363, -102.27083 21.8...        1  Aguascalientes   \n",
       "\n",
       "   mun         nom_mun  ...  vph_cel vph_inter vph_stvp  vph_spmvpi  vph_cvj  \\\n",
       "0    1  Aguascalientes  ...    753.0     609.0    439.0       205.0    146.0   \n",
       "\n",
       "   vph_sinrtv  vph_sintlc  vph_sincint  vph_sintic   cve_geo_ageb  \n",
       "0         7.0        14.0        174.0         NaN  010010001216A  \n",
       "\n",
       "[1 rows x 237 columns]"
      ]
     },
     "execution_count": 5,
     "metadata": {},
     "output_type": "execute_result"
    }
   ],
   "source": [
    "pop_ageb_gdf.head(1)"
   ]
  },
  {
   "cell_type": "markdown",
   "id": "6c100ea8-24b6-4b2a-98d7-7b98c0d05f6f",
   "metadata": {},
   "source": [
    "## Test - Is it the same loading pop_mza_gdf through aup.gdf_from_polygon vs loading it through cve_ent+cve_mun queries?\n",
    "__Answer:__ It is the same, but the former (26s/26s for Ags) is faster than the latter ((206s/206s using LIKE and = in query), (503s/212s using =,= in query), (207s/352s using LIKE and LIKE in query) for Ags.)"
   ]
  },
  {
   "cell_type": "code",
   "execution_count": 41,
   "id": "b6a6eebd-90d2-4ecd-beee-0c1d2741bef6",
   "metadata": {},
   "outputs": [],
   "source": [
    "pop_mza_gdf = aup.gdf_from_polygon(aoi,'censo_mza','censo_mza_2020')\n",
    "pop_mza_gdf = pop_mza_gdf.loc[pop_mza_gdf.AMBITO == 'Urbana'].copy()"
   ]
  },
  {
   "cell_type": "code",
   "execution_count": 26,
   "id": "48972f73-0164-44b1-b094-0fd94cecc05e",
   "metadata": {},
   "outputs": [
    {
     "name": "stdout",
     "output_type": "stream",
     "text": [
      "(12932, 239)\n",
      "1041064\n"
     ]
    },
    {
     "data": {
      "text/html": [
       "<div>\n",
       "<style scoped>\n",
       "    .dataframe tbody tr th:only-of-type {\n",
       "        vertical-align: middle;\n",
       "    }\n",
       "\n",
       "    .dataframe tbody tr th {\n",
       "        vertical-align: top;\n",
       "    }\n",
       "\n",
       "    .dataframe thead th {\n",
       "        text-align: right;\n",
       "    }\n",
       "</style>\n",
       "<table border=\"1\" class=\"dataframe\">\n",
       "  <thead>\n",
       "    <tr style=\"text-align: right;\">\n",
       "      <th></th>\n",
       "      <th>CVEGEO</th>\n",
       "      <th>CVE_ENT</th>\n",
       "      <th>CVE_MUN</th>\n",
       "      <th>CVE_LOC</th>\n",
       "      <th>CVE_AGEB</th>\n",
       "      <th>CVE_MZA</th>\n",
       "      <th>AMBITO</th>\n",
       "      <th>TIPOMZA</th>\n",
       "      <th>geometry</th>\n",
       "      <th>ENTIDAD</th>\n",
       "      <th>...</th>\n",
       "      <th>VPH_TELEF</th>\n",
       "      <th>VPH_CEL</th>\n",
       "      <th>VPH_INTER</th>\n",
       "      <th>VPH_STVP</th>\n",
       "      <th>VPH_SPMVPI</th>\n",
       "      <th>VPH_CVJ</th>\n",
       "      <th>VPH_SINRTV</th>\n",
       "      <th>VPH_SINLTC</th>\n",
       "      <th>VPH_SINCINT</th>\n",
       "      <th>VPH_SINTIC</th>\n",
       "    </tr>\n",
       "  </thead>\n",
       "  <tbody>\n",
       "  </tbody>\n",
       "</table>\n",
       "<p>0 rows × 239 columns</p>\n",
       "</div>"
      ],
      "text/plain": [
       "Empty GeoDataFrame\n",
       "Columns: [CVEGEO, CVE_ENT, CVE_MUN, CVE_LOC, CVE_AGEB, CVE_MZA, AMBITO, TIPOMZA, geometry, ENTIDAD, NOM_ENT, MUN, NOM_MUN, LOC, NOM_LOC, AGEB, MZA, POBTOT, POBFEM, POBMAS, P_0A2, P_0A2_F, P_0A2_M, P_3YMAS, P_3YMAS_F, P_3YMAS_M, P_5YMAS, P_5YMAS_F, P_5YMAS_M, P_12YMAS, P_12YMAS_F, P_12YMAS_M, P_15YMAS, P_15YMAS_F, P_15YMAS_M, P_18YMAS, P_18YMAS_F, P_18YMAS_M, P_3A5, P_3A5_F, P_3A5_M, P_6A11, P_6A11_F, P_6A11_M, P_8A14, P_8A14_F, P_8A14_M, P_12A14, P_12A14_F, P_12A14_M, P_15A17, P_15A17_F, P_15A17_M, P_18A24, P_18A24_F, P_18A24_M, P_15A49_F, P_60YMAS, P_60YMAS_F, P_60YMAS_M, REL_H_M, POB0_14, POB15_64, POB65_MAS, PROM_HNV, PNACENT, PNACENT_F, PNACENT_M, PNACOE, PNACOE_F, PNACOE_M, PRES2015, PRES2015_F, PRES2015_M, PRESOE15, PRESOE15_F, PRESOE15_M, P3YM_HLI, P3YM_HLI_F, P3YM_HLI_M, P3HLINHE, P3HLINHE_F, P3HLINHE_M, P3HLI_HE, P3HLI_HE_F, P3HLI_HE_M, P5_HLI, P5_HLI_NHE, P5_HLI_HE, PHOG_IND, POB_AFRO, POB_AFRO_F, POB_AFRO_M, PCON_DISC, PCDISC_MOT, PCDISC_VIS, PCDISC_LENG, PCDISC_AUD, PCDISC_MOT2, PCDISC_MEN, ...]\n",
       "Index: []\n",
       "\n",
       "[0 rows x 239 columns]"
      ]
     },
     "execution_count": 26,
     "metadata": {},
     "output_type": "execute_result"
    }
   ],
   "source": [
    "print(pop_mza_gdf.shape)\n",
    "print(pop_mza_gdf.POBTOT.sum())\n",
    "pop_mza_gdf.loc[pop_mza_gdf.POBTOT.isna()]"
   ]
  },
  {
   "cell_type": "code",
   "execution_count": 42,
   "id": "a7569323-6ce8-4a22-b3fb-b2d82e87db5e",
   "metadata": {},
   "outputs": [
    {
     "name": "stdout",
     "output_type": "stream",
     "text": [
      "(12932, 239)\n"
     ]
    },
    {
     "data": {
      "text/html": [
       "<div>\n",
       "<style scoped>\n",
       "    .dataframe tbody tr th:only-of-type {\n",
       "        vertical-align: middle;\n",
       "    }\n",
       "\n",
       "    .dataframe tbody tr th {\n",
       "        vertical-align: top;\n",
       "    }\n",
       "\n",
       "    .dataframe thead th {\n",
       "        text-align: right;\n",
       "    }\n",
       "</style>\n",
       "<table border=\"1\" class=\"dataframe\">\n",
       "  <thead>\n",
       "    <tr style=\"text-align: right;\">\n",
       "      <th></th>\n",
       "      <th>CVEGEO</th>\n",
       "      <th>CVE_ENT</th>\n",
       "      <th>CVE_MUN</th>\n",
       "      <th>CVE_LOC</th>\n",
       "      <th>CVE_AGEB</th>\n",
       "      <th>CVE_MZA</th>\n",
       "      <th>AMBITO</th>\n",
       "      <th>TIPOMZA</th>\n",
       "      <th>geometry</th>\n",
       "      <th>ENTIDAD</th>\n",
       "      <th>...</th>\n",
       "      <th>VPH_TELEF</th>\n",
       "      <th>VPH_CEL</th>\n",
       "      <th>VPH_INTER</th>\n",
       "      <th>VPH_STVP</th>\n",
       "      <th>VPH_SPMVPI</th>\n",
       "      <th>VPH_CVJ</th>\n",
       "      <th>VPH_SINRTV</th>\n",
       "      <th>VPH_SINLTC</th>\n",
       "      <th>VPH_SINCINT</th>\n",
       "      <th>VPH_SINTIC</th>\n",
       "    </tr>\n",
       "  </thead>\n",
       "  <tbody>\n",
       "    <tr>\n",
       "      <th>0</th>\n",
       "      <td>0100100010286027</td>\n",
       "      <td>01</td>\n",
       "      <td>001</td>\n",
       "      <td>0001</td>\n",
       "      <td>0286</td>\n",
       "      <td>027</td>\n",
       "      <td>Urbana</td>\n",
       "      <td>Típica</td>\n",
       "      <td>POLYGON ((-102.31215 21.90182, -102.31220 21.9...</td>\n",
       "      <td>1</td>\n",
       "      <td>...</td>\n",
       "      <td>31</td>\n",
       "      <td>45</td>\n",
       "      <td>39</td>\n",
       "      <td>30</td>\n",
       "      <td>18</td>\n",
       "      <td>18</td>\n",
       "      <td>0</td>\n",
       "      <td>0</td>\n",
       "      <td>5</td>\n",
       "      <td>0</td>\n",
       "    </tr>\n",
       "  </tbody>\n",
       "</table>\n",
       "<p>1 rows × 239 columns</p>\n",
       "</div>"
      ],
      "text/plain": [
       "             CVEGEO CVE_ENT CVE_MUN CVE_LOC CVE_AGEB CVE_MZA  AMBITO TIPOMZA  \\\n",
       "0  0100100010286027      01     001    0001     0286     027  Urbana  Típica   \n",
       "\n",
       "                                            geometry  ENTIDAD  ... VPH_TELEF  \\\n",
       "0  POLYGON ((-102.31215 21.90182, -102.31220 21.9...        1  ...        31   \n",
       "\n",
       "   VPH_CEL VPH_INTER  VPH_STVP VPH_SPMVPI VPH_CVJ  VPH_SINRTV  VPH_SINLTC  \\\n",
       "0       45        39        30         18      18           0           0   \n",
       "\n",
       "  VPH_SINCINT VPH_SINTIC  \n",
       "0           5          0  \n",
       "\n",
       "[1 rows x 239 columns]"
      ]
     },
     "execution_count": 42,
     "metadata": {},
     "output_type": "execute_result"
    }
   ],
   "source": [
    "mza_schema = 'censo_mza'\n",
    "mza_table = 'censo_mza_2020'\n",
    "\n",
    "cve_ent_list = list(pop_ageb_gdf.cve_ent.unique())\n",
    "cve_mun_list = list(pop_ageb_gdf.cve_mun.unique())\n",
    "\n",
    "pop_mza_gdf_2 = gpd.GeoDataFrame()\n",
    "for cve_ent in cve_ent_list:\n",
    "    for cve_mun in cve_mun_list:\n",
    "        query = f\"SELECT * FROM {mza_schema}.{mza_table} WHERE (\\\"CVE_ENT\\\" LIKE \\'{cve_ent}\\') AND (\\\"CVE_MUN\\\" = \\'{cve_mun}\\')\"\n",
    "        pop_mza_gdf_2 = pd.concat([pop_mza_gdf_2,aup.gdf_from_query(query, geometry_col='geometry')])\n",
    "\n",
    "# Remove AMBITO == 'Rural' (If exists)\n",
    "pop_mza_gdf_2 = pop_mza_gdf_2.loc[pop_mza_gdf_2.AMBITO == 'Urbana'].copy()\n",
    "\n",
    "# Show\n",
    "print(pop_mza_gdf_2.shape)\n",
    "pop_mza_gdf_2.head(1)"
   ]
  },
  {
   "cell_type": "code",
   "execution_count": 43,
   "id": "e54a4e38-f3a6-4027-a2be-41a3045699e8",
   "metadata": {},
   "outputs": [
    {
     "name": "stdout",
     "output_type": "stream",
     "text": [
      "(12932, 239)\n",
      "1041064\n"
     ]
    },
    {
     "data": {
      "text/html": [
       "<div>\n",
       "<style scoped>\n",
       "    .dataframe tbody tr th:only-of-type {\n",
       "        vertical-align: middle;\n",
       "    }\n",
       "\n",
       "    .dataframe tbody tr th {\n",
       "        vertical-align: top;\n",
       "    }\n",
       "\n",
       "    .dataframe thead th {\n",
       "        text-align: right;\n",
       "    }\n",
       "</style>\n",
       "<table border=\"1\" class=\"dataframe\">\n",
       "  <thead>\n",
       "    <tr style=\"text-align: right;\">\n",
       "      <th></th>\n",
       "      <th>CVEGEO</th>\n",
       "      <th>CVE_ENT</th>\n",
       "      <th>CVE_MUN</th>\n",
       "      <th>CVE_LOC</th>\n",
       "      <th>CVE_AGEB</th>\n",
       "      <th>CVE_MZA</th>\n",
       "      <th>AMBITO</th>\n",
       "      <th>TIPOMZA</th>\n",
       "      <th>geometry</th>\n",
       "      <th>ENTIDAD</th>\n",
       "      <th>...</th>\n",
       "      <th>VPH_TELEF</th>\n",
       "      <th>VPH_CEL</th>\n",
       "      <th>VPH_INTER</th>\n",
       "      <th>VPH_STVP</th>\n",
       "      <th>VPH_SPMVPI</th>\n",
       "      <th>VPH_CVJ</th>\n",
       "      <th>VPH_SINRTV</th>\n",
       "      <th>VPH_SINLTC</th>\n",
       "      <th>VPH_SINCINT</th>\n",
       "      <th>VPH_SINTIC</th>\n",
       "    </tr>\n",
       "  </thead>\n",
       "  <tbody>\n",
       "  </tbody>\n",
       "</table>\n",
       "<p>0 rows × 239 columns</p>\n",
       "</div>"
      ],
      "text/plain": [
       "Empty GeoDataFrame\n",
       "Columns: [CVEGEO, CVE_ENT, CVE_MUN, CVE_LOC, CVE_AGEB, CVE_MZA, AMBITO, TIPOMZA, geometry, ENTIDAD, NOM_ENT, MUN, NOM_MUN, LOC, NOM_LOC, AGEB, MZA, POBTOT, POBFEM, POBMAS, P_0A2, P_0A2_F, P_0A2_M, P_3YMAS, P_3YMAS_F, P_3YMAS_M, P_5YMAS, P_5YMAS_F, P_5YMAS_M, P_12YMAS, P_12YMAS_F, P_12YMAS_M, P_15YMAS, P_15YMAS_F, P_15YMAS_M, P_18YMAS, P_18YMAS_F, P_18YMAS_M, P_3A5, P_3A5_F, P_3A5_M, P_6A11, P_6A11_F, P_6A11_M, P_8A14, P_8A14_F, P_8A14_M, P_12A14, P_12A14_F, P_12A14_M, P_15A17, P_15A17_F, P_15A17_M, P_18A24, P_18A24_F, P_18A24_M, P_15A49_F, P_60YMAS, P_60YMAS_F, P_60YMAS_M, REL_H_M, POB0_14, POB15_64, POB65_MAS, PROM_HNV, PNACENT, PNACENT_F, PNACENT_M, PNACOE, PNACOE_F, PNACOE_M, PRES2015, PRES2015_F, PRES2015_M, PRESOE15, PRESOE15_F, PRESOE15_M, P3YM_HLI, P3YM_HLI_F, P3YM_HLI_M, P3HLINHE, P3HLINHE_F, P3HLINHE_M, P3HLI_HE, P3HLI_HE_F, P3HLI_HE_M, P5_HLI, P5_HLI_NHE, P5_HLI_HE, PHOG_IND, POB_AFRO, POB_AFRO_F, POB_AFRO_M, PCON_DISC, PCDISC_MOT, PCDISC_VIS, PCDISC_LENG, PCDISC_AUD, PCDISC_MOT2, PCDISC_MEN, ...]\n",
       "Index: []\n",
       "\n",
       "[0 rows x 239 columns]"
      ]
     },
     "execution_count": 43,
     "metadata": {},
     "output_type": "execute_result"
    }
   ],
   "source": [
    "print(pop_mza_gdf_2.shape)\n",
    "print(pop_mza_gdf_2.POBTOT.sum())\n",
    "pop_mza_gdf_2.loc[pop_mza_gdf_2.POBTOT.isna()]"
   ]
  },
  {
   "cell_type": "markdown",
   "id": "e6163c6c-e30c-4517-ad95-3b07e2d5bfb5",
   "metadata": {},
   "source": [
    "## Test - And what about quering by LIKE CVEGEO?\n",
    "__Answer:__ It is still the same but still slower (354s) than aup.gdf_from_polygon."
   ]
  },
  {
   "cell_type": "code",
   "execution_count": 47,
   "id": "71bcb9d0-935a-4d22-9434-fefe7f5d9799",
   "metadata": {},
   "outputs": [
    {
     "name": "stdout",
     "output_type": "stream",
     "text": [
      "(12932, 239)\n"
     ]
    },
    {
     "data": {
      "text/html": [
       "<div>\n",
       "<style scoped>\n",
       "    .dataframe tbody tr th:only-of-type {\n",
       "        vertical-align: middle;\n",
       "    }\n",
       "\n",
       "    .dataframe tbody tr th {\n",
       "        vertical-align: top;\n",
       "    }\n",
       "\n",
       "    .dataframe thead th {\n",
       "        text-align: right;\n",
       "    }\n",
       "</style>\n",
       "<table border=\"1\" class=\"dataframe\">\n",
       "  <thead>\n",
       "    <tr style=\"text-align: right;\">\n",
       "      <th></th>\n",
       "      <th>CVEGEO</th>\n",
       "      <th>CVE_ENT</th>\n",
       "      <th>CVE_MUN</th>\n",
       "      <th>CVE_LOC</th>\n",
       "      <th>CVE_AGEB</th>\n",
       "      <th>CVE_MZA</th>\n",
       "      <th>AMBITO</th>\n",
       "      <th>TIPOMZA</th>\n",
       "      <th>geometry</th>\n",
       "      <th>ENTIDAD</th>\n",
       "      <th>...</th>\n",
       "      <th>VPH_TELEF</th>\n",
       "      <th>VPH_CEL</th>\n",
       "      <th>VPH_INTER</th>\n",
       "      <th>VPH_STVP</th>\n",
       "      <th>VPH_SPMVPI</th>\n",
       "      <th>VPH_CVJ</th>\n",
       "      <th>VPH_SINRTV</th>\n",
       "      <th>VPH_SINLTC</th>\n",
       "      <th>VPH_SINCINT</th>\n",
       "      <th>VPH_SINTIC</th>\n",
       "    </tr>\n",
       "  </thead>\n",
       "  <tbody>\n",
       "    <tr>\n",
       "      <th>0</th>\n",
       "      <td>0100100010229001</td>\n",
       "      <td>01</td>\n",
       "      <td>001</td>\n",
       "      <td>0001</td>\n",
       "      <td>0229</td>\n",
       "      <td>001</td>\n",
       "      <td>Urbana</td>\n",
       "      <td>Típica</td>\n",
       "      <td>POLYGON ((-102.29582 21.92984, -102.29579 21.9...</td>\n",
       "      <td>1</td>\n",
       "      <td>...</td>\n",
       "      <td>14</td>\n",
       "      <td>21</td>\n",
       "      <td>20</td>\n",
       "      <td>17</td>\n",
       "      <td>16</td>\n",
       "      <td>6</td>\n",
       "      <td>0</td>\n",
       "      <td>0</td>\n",
       "      <td>None</td>\n",
       "      <td>0</td>\n",
       "    </tr>\n",
       "  </tbody>\n",
       "</table>\n",
       "<p>1 rows × 239 columns</p>\n",
       "</div>"
      ],
      "text/plain": [
       "             CVEGEO CVE_ENT CVE_MUN CVE_LOC CVE_AGEB CVE_MZA  AMBITO TIPOMZA  \\\n",
       "0  0100100010229001      01     001    0001     0229     001  Urbana  Típica   \n",
       "\n",
       "                                            geometry  ENTIDAD  ... VPH_TELEF  \\\n",
       "0  POLYGON ((-102.29582 21.92984, -102.29579 21.9...        1  ...        14   \n",
       "\n",
       "   VPH_CEL VPH_INTER  VPH_STVP VPH_SPMVPI VPH_CVJ  VPH_SINRTV  VPH_SINLTC  \\\n",
       "0       21        20        17         16       6           0           0   \n",
       "\n",
       "  VPH_SINCINT VPH_SINTIC  \n",
       "0        None          0  \n",
       "\n",
       "[1 rows x 239 columns]"
      ]
     },
     "execution_count": 47,
     "metadata": {},
     "output_type": "execute_result"
    }
   ],
   "source": [
    "mza_schema = 'censo_mza'\n",
    "mza_table = 'censo_mza_2020'\n",
    "\n",
    "# Load blocks of city\n",
    "pop_mza_gdf_3 = gpd.GeoDataFrame()\n",
    "for cvegeo in list(mun_gdf.CVEGEO.unique()):\n",
    "    query = f\"SELECT * FROM {mza_schema}.{mza_table} WHERE \\\"CVEGEO\\\" LIKE \\'{cvegeo}%%\\'\"\n",
    "    pop_mza_gdf_3 = pd.concat([pop_mza_gdf_3,aup.gdf_from_query(query, geometry_col='geometry')])\n",
    "\n",
    "# Remove AMBITO == 'Rural' (If exists)\n",
    "pop_mza_gdf_3 = pop_mza_gdf_3.loc[pop_mza_gdf_3.AMBITO == 'Urbana'].copy()\n",
    "\n",
    "# Show\n",
    "print(pop_mza_gdf_3.shape)\n",
    "pop_mza_gdf_3.head(1)"
   ]
  },
  {
   "cell_type": "code",
   "execution_count": 48,
   "id": "91789d43-e0aa-49d4-b07e-b35e8510a94a",
   "metadata": {},
   "outputs": [
    {
     "name": "stdout",
     "output_type": "stream",
     "text": [
      "(12932, 239)\n",
      "1041064\n"
     ]
    },
    {
     "data": {
      "text/html": [
       "<div>\n",
       "<style scoped>\n",
       "    .dataframe tbody tr th:only-of-type {\n",
       "        vertical-align: middle;\n",
       "    }\n",
       "\n",
       "    .dataframe tbody tr th {\n",
       "        vertical-align: top;\n",
       "    }\n",
       "\n",
       "    .dataframe thead th {\n",
       "        text-align: right;\n",
       "    }\n",
       "</style>\n",
       "<table border=\"1\" class=\"dataframe\">\n",
       "  <thead>\n",
       "    <tr style=\"text-align: right;\">\n",
       "      <th></th>\n",
       "      <th>CVEGEO</th>\n",
       "      <th>CVE_ENT</th>\n",
       "      <th>CVE_MUN</th>\n",
       "      <th>CVE_LOC</th>\n",
       "      <th>CVE_AGEB</th>\n",
       "      <th>CVE_MZA</th>\n",
       "      <th>AMBITO</th>\n",
       "      <th>TIPOMZA</th>\n",
       "      <th>geometry</th>\n",
       "      <th>ENTIDAD</th>\n",
       "      <th>...</th>\n",
       "      <th>VPH_TELEF</th>\n",
       "      <th>VPH_CEL</th>\n",
       "      <th>VPH_INTER</th>\n",
       "      <th>VPH_STVP</th>\n",
       "      <th>VPH_SPMVPI</th>\n",
       "      <th>VPH_CVJ</th>\n",
       "      <th>VPH_SINRTV</th>\n",
       "      <th>VPH_SINLTC</th>\n",
       "      <th>VPH_SINCINT</th>\n",
       "      <th>VPH_SINTIC</th>\n",
       "    </tr>\n",
       "  </thead>\n",
       "  <tbody>\n",
       "  </tbody>\n",
       "</table>\n",
       "<p>0 rows × 239 columns</p>\n",
       "</div>"
      ],
      "text/plain": [
       "Empty GeoDataFrame\n",
       "Columns: [CVEGEO, CVE_ENT, CVE_MUN, CVE_LOC, CVE_AGEB, CVE_MZA, AMBITO, TIPOMZA, geometry, ENTIDAD, NOM_ENT, MUN, NOM_MUN, LOC, NOM_LOC, AGEB, MZA, POBTOT, POBFEM, POBMAS, P_0A2, P_0A2_F, P_0A2_M, P_3YMAS, P_3YMAS_F, P_3YMAS_M, P_5YMAS, P_5YMAS_F, P_5YMAS_M, P_12YMAS, P_12YMAS_F, P_12YMAS_M, P_15YMAS, P_15YMAS_F, P_15YMAS_M, P_18YMAS, P_18YMAS_F, P_18YMAS_M, P_3A5, P_3A5_F, P_3A5_M, P_6A11, P_6A11_F, P_6A11_M, P_8A14, P_8A14_F, P_8A14_M, P_12A14, P_12A14_F, P_12A14_M, P_15A17, P_15A17_F, P_15A17_M, P_18A24, P_18A24_F, P_18A24_M, P_15A49_F, P_60YMAS, P_60YMAS_F, P_60YMAS_M, REL_H_M, POB0_14, POB15_64, POB65_MAS, PROM_HNV, PNACENT, PNACENT_F, PNACENT_M, PNACOE, PNACOE_F, PNACOE_M, PRES2015, PRES2015_F, PRES2015_M, PRESOE15, PRESOE15_F, PRESOE15_M, P3YM_HLI, P3YM_HLI_F, P3YM_HLI_M, P3HLINHE, P3HLINHE_F, P3HLINHE_M, P3HLI_HE, P3HLI_HE_F, P3HLI_HE_M, P5_HLI, P5_HLI_NHE, P5_HLI_HE, PHOG_IND, POB_AFRO, POB_AFRO_F, POB_AFRO_M, PCON_DISC, PCDISC_MOT, PCDISC_VIS, PCDISC_LENG, PCDISC_AUD, PCDISC_MOT2, PCDISC_MEN, ...]\n",
       "Index: []\n",
       "\n",
       "[0 rows x 239 columns]"
      ]
     },
     "execution_count": 48,
     "metadata": {},
     "output_type": "execute_result"
    }
   ],
   "source": [
    "print(pop_mza_gdf_3.shape)\n",
    "print(pop_mza_gdf_3.POBTOT.sum())\n",
    "pop_mza_gdf_3.loc[pop_mza_gdf_3.POBTOT.isna()]"
   ]
  },
  {
   "cell_type": "markdown",
   "id": "168d1d02-02cf-41ab-9627-87f017c5071c",
   "metadata": {},
   "source": [
    "## Test - AGEBs and blocks have the same poptot data?\n",
    "__Answer:__ No. Don't know why."
   ]
  },
  {
   "cell_type": "code",
   "execution_count": 34,
   "id": "e52e5d69-18d1-4db0-94b7-b46ad235e3d0",
   "metadata": {},
   "outputs": [],
   "source": [
    "pop_ageb_gdf = aup.gdf_from_polygon(aoi,'censoageb','censoageb_2020') #Loads in 164 segs"
   ]
  },
  {
   "cell_type": "code",
   "execution_count": 31,
   "id": "2c747a72-cfa2-47dd-938a-6ad65902610e",
   "metadata": {},
   "outputs": [
    {
     "name": "stdout",
     "output_type": "stream",
     "text": [
      "(392, 237)\n",
      "1042295\n"
     ]
    },
    {
     "data": {
      "text/html": [
       "<div>\n",
       "<style scoped>\n",
       "    .dataframe tbody tr th:only-of-type {\n",
       "        vertical-align: middle;\n",
       "    }\n",
       "\n",
       "    .dataframe tbody tr th {\n",
       "        vertical-align: top;\n",
       "    }\n",
       "\n",
       "    .dataframe thead th {\n",
       "        text-align: right;\n",
       "    }\n",
       "</style>\n",
       "<table border=\"1\" class=\"dataframe\">\n",
       "  <thead>\n",
       "    <tr style=\"text-align: right;\">\n",
       "      <th></th>\n",
       "      <th>cve_geo</th>\n",
       "      <th>cve_ent</th>\n",
       "      <th>cve_mun</th>\n",
       "      <th>cve_loc</th>\n",
       "      <th>cve_ageb</th>\n",
       "      <th>geometry</th>\n",
       "      <th>entidad</th>\n",
       "      <th>nom_ent</th>\n",
       "      <th>mun</th>\n",
       "      <th>nom_mun</th>\n",
       "      <th>...</th>\n",
       "      <th>vph_cel</th>\n",
       "      <th>vph_inter</th>\n",
       "      <th>vph_stvp</th>\n",
       "      <th>vph_spmvpi</th>\n",
       "      <th>vph_cvj</th>\n",
       "      <th>vph_sinrtv</th>\n",
       "      <th>vph_sintlc</th>\n",
       "      <th>vph_sincint</th>\n",
       "      <th>vph_sintic</th>\n",
       "      <th>cve_geo_ageb</th>\n",
       "    </tr>\n",
       "  </thead>\n",
       "  <tbody>\n",
       "  </tbody>\n",
       "</table>\n",
       "<p>0 rows × 237 columns</p>\n",
       "</div>"
      ],
      "text/plain": [
       "Empty GeoDataFrame\n",
       "Columns: [cve_geo, cve_ent, cve_mun, cve_loc, cve_ageb, geometry, entidad, nom_ent, mun, nom_mun, loc, nom_loc, ageb, mza, pobtot, pobfem, pobmas, p_0a2, p_0a2_f, p_0a2_m, p_3ymas, p_3ymas_f, p_3ymas_m, p_5ymas, p_5ymas_f, p_5ymas_m, p_12ymas, p_12ymas_f, p_12ymas_m, p_15ymas, p_15ymas_f, p_15ymas_m, p_18ymas, p_18ymas_f, p_18ymas_m, p_3a5, p_3a5_f, p_3a5_m, p_6a11, p_6a11_f, p_6a11_m, p_8a14, p_8a14_f, p_8a14_m, p_12a14, p_12a14_f, p_12a14_m, p_15a17, p_15a17_f, p_15a17_m, p_18a24, p_18a24_f, p_18a24_m, p_15a49_f, p_60ymas, p_60ymas_f, p_60ymas_m, rel_h_m, pob0_14, pob15_64, pob65_mas, prom_hnv, pnacent, pnacent_f, pnacent_m, pnacoe, pnacoe_f, pnacoe_m, pres2015, pres2015_f, pres2015_m, presoe15, presoe15_f, presoe15_m, p3ym_hli, p3ym_hli_f, p3ym_hli_m, p3hlinhe, p3hlinhe_f, p3hlinhe_m, p3hli_he, p3hli_he_f, p3hli_he_m, p5_hli, p5_hli_nhe, p5_hli_he, phog_ind, pob_afro, pob_afro_f, pob_afro_m, pcon_disc, pcdisc_mot, pcdisc_vis, pcdisc_leng, pcdisc_aud, pcdisc_mot2, pcdisc_men, pcon_limi, pclim_csb, pclim_vis, ...]\n",
       "Index: []\n",
       "\n",
       "[0 rows x 237 columns]"
      ]
     },
     "execution_count": 31,
     "metadata": {},
     "output_type": "execute_result"
    }
   ],
   "source": [
    "print(pop_ageb_gdf.shape)\n",
    "print(pop_ageb_gdf.pobtot.sum())\n",
    "pop_ageb_gdf.loc[pop_ageb_gdf.pobtot.isna()]"
   ]
  }
 ],
 "metadata": {
  "kernelspec": {
   "display_name": "GDS-10.0",
   "language": "python",
   "name": "gds"
  },
  "language_info": {
   "codemirror_mode": {
    "name": "ipython",
    "version": 3
   },
   "file_extension": ".py",
   "mimetype": "text/x-python",
   "name": "python",
   "nbconvert_exporter": "python",
   "pygments_lexer": "ipython3",
   "version": "3.9.18"
  }
 },
 "nbformat": 4,
 "nbformat_minor": 5
}
