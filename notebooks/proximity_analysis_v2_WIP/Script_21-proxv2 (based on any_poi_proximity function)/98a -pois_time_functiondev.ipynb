{
 "cells": [
  {
   "cell_type": "code",
   "execution_count": 1,
   "id": "df359d47-b3d6-4ec5-9f7d-6eb1fd17f858",
   "metadata": {},
   "outputs": [
    {
     "name": "stderr",
     "output_type": "stream",
     "text": [
      "/home/jovyan/accesibilidad-urbana/aup/data.py:28: UserWarning: The `utils.config` function is deprecated and will be removed in a future release. Instead, use the `settings` module directly to configure a global setting's value. For example, `ox.settings.log_console=True`.\n",
      "  ox.config(\n"
     ]
    }
   ],
   "source": [
    "import os\n",
    "import sys\n",
    "\n",
    "import pandas as pd\n",
    "import geopandas as gpd\n",
    "import osmnx as ox\n",
    "import numpy as np\n",
    "\n",
    "import matplotlib.pyplot as plt\n",
    "import seaborn as sns\n",
    "\n",
    "import warnings\n",
    "warnings.simplefilter(action='ignore', category=FutureWarning)\n",
    "\n",
    "module_path = os.path.abspath(os.path.join('../../'))\n",
    "if module_path not in sys.path:\n",
    "    sys.path.append(module_path)\n",
    "    import aup"
   ]
  },
  {
   "cell_type": "markdown",
   "id": "8643fa82-8448-4e08-8eaa-5127bd088634",
   "metadata": {},
   "source": [
    "## 00 - Required data"
   ]
  },
  {
   "cell_type": "code",
   "execution_count": 2,
   "id": "58d3a032-52d2-49cd-9646-277c69d79571",
   "metadata": {},
   "outputs": [],
   "source": [
    "city = 'Aguascalientes'\n",
    "\n",
    "# Area of interest (city)\n",
    "metro_schema = 'metropolis'\n",
    "metro_table = 'metro_gdf_2015'\n",
    "\n",
    "# Edges folder for distance analysis,\n",
    "# also used to generate the network G with which the nearest OSMID is assigned to each poi\n",
    "edges_folder = 'edges_speed'\n",
    "\n",
    "# Pois data\n",
    "pois_schema = ''\n",
    "pois_table = ''\n",
    "codes_test = [611111, 611112] #denue_preescolar\n",
    "s = 'Preescolar'.lower()\n",
    "\n",
    "# Network used to calculate distance from each node to nearest poi\n",
    "prox_measure = 'time_min' #'length' or 'time_min'"
   ]
  },
  {
   "cell_type": "markdown",
   "id": "b8bfb15d-3366-4192-a872-e69d57ac4f6c",
   "metadata": {},
   "source": [
    "### 00 - Required data - Area of interest"
   ]
  },
  {
   "cell_type": "code",
   "execution_count": 3,
   "id": "8f66c76e-09cb-4b0d-988d-bc7db499c5fb",
   "metadata": {},
   "outputs": [
    {
     "data": {
      "text/plain": [
       "<Axes: >"
      ]
     },
     "execution_count": 3,
     "metadata": {},
     "output_type": "execute_result"
    },
    {
     "data": {
      "image/png": "[encoded data removed]",
      "text/plain": [
       "<Figure size 640x480 with 1 Axes>"
      ]
     },
     "metadata": {},
     "output_type": "display_data"
    }
   ],
   "source": [
    "# Downloads hexagons within 'city'\n",
    "query = f\"SELECT * FROM {metro_schema}.{metro_table} WHERE \\\"city\\\" LIKE \\'{city}\\'\"\n",
    "mun_gdf = aup.gdf_from_query(query, geometry_col='geometry')\n",
    "\n",
    "mun_gdf = mun_gdf.set_crs(\"EPSG:4326\")\n",
    "aoi = mun_gdf.dissolve()\n",
    "\n",
    "#Show\n",
    "aoi.plot()"
   ]
  },
  {
   "cell_type": "markdown",
   "id": "84047dcc-64e4-4f6d-bbbd-f05c2dee2990",
   "metadata": {},
   "source": [
    "### 00 - Required data - pois"
   ]
  },
  {
   "cell_type": "code",
   "execution_count": 4,
   "id": "cda88290-b8d9-4540-927b-59d9d6f280f6",
   "metadata": {},
   "outputs": [
    {
     "name": "stdout",
     "output_type": "stream",
     "text": [
      "(306, 2)\n"
     ]
    },
    {
     "data": {
      "text/html": [
       "<div>\n",
       "<style scoped>\n",
       "    .dataframe tbody tr th:only-of-type {\n",
       "        vertical-align: middle;\n",
       "    }\n",
       "\n",
       "    .dataframe tbody tr th {\n",
       "        vertical-align: top;\n",
       "    }\n",
       "\n",
       "    .dataframe thead th {\n",
       "        text-align: right;\n",
       "    }\n",
       "</style>\n",
       "<table border=\"1\" class=\"dataframe\">\n",
       "  <thead>\n",
       "    <tr style=\"text-align: right;\">\n",
       "      <th></th>\n",
       "      <th>code</th>\n",
       "      <th>geometry</th>\n",
       "    </tr>\n",
       "  </thead>\n",
       "  <tbody>\n",
       "    <tr>\n",
       "      <th>0</th>\n",
       "      <td>611111</td>\n",
       "      <td>POINT (-102.27464 21.90191)</td>\n",
       "    </tr>\n",
       "    <tr>\n",
       "      <th>1</th>\n",
       "      <td>611111</td>\n",
       "      <td>POINT (-102.26601 21.85971)</td>\n",
       "    </tr>\n",
       "  </tbody>\n",
       "</table>\n",
       "</div>"
      ],
      "text/plain": [
       "     code                     geometry\n",
       "0  611111  POINT (-102.27464 21.90191)\n",
       "1  611111  POINT (-102.26601 21.85971)"
      ]
     },
     "execution_count": 4,
     "metadata": {},
     "output_type": "execute_result"
    }
   ],
   "source": [
    "poly_wkt = aoi.dissolve().geometry.to_wkt()[0]\n",
    "\n",
    "pois_schema = 'denue'\n",
    "pois_table = 'denue_2020'\n",
    "\n",
    "pois = gpd.GeoDataFrame()\n",
    "for cod in codes_test:\n",
    "    query = f\"SELECT * FROM {pois_schema}.{pois_table} WHERE (ST_Intersects(geometry, \\'SRID=4326;{poly_wkt}\\')) AND (\\\"codigo_act\\\" LIKE \\'{cod}\\')\"\n",
    "    pois = pd.concat([pois,aup.gdf_from_query(query, geometry_col='geometry')])\n",
    "\n",
    "pois = pois.rename(columns={'codigo_act':'code'})\n",
    "pois['code'] = pois['code'].astype('int64')\n",
    "pois = pois[['code','geometry']]\n",
    "\n",
    "# Show\n",
    "print(pois.shape)\n",
    "pois.head(2)"
   ]
  },
  {
   "cell_type": "markdown",
   "id": "f696bc5d-1bc2-4a3d-ae96-78024feb9453",
   "metadata": {},
   "source": [
    "### 00 - Required data - Networks"
   ]
  },
  {
   "cell_type": "code",
   "execution_count": 5,
   "id": "dbb6e11d-efeb-409d-998a-37ee69a397cc",
   "metadata": {},
   "outputs": [],
   "source": [
    "# Network used to calculate nearest note to each poi\n",
    "G, nodes, edges = aup.graph_from_hippo(aoi, 'osmnx',edges_folder=edges_folder)"
   ]
  },
  {
   "cell_type": "markdown",
   "id": "f24c8cb5-fca8-4e16-8da1-caab0fcbf17a",
   "metadata": {
    "jp-MarkdownHeadingCollapsed": true
   },
   "source": [
    "## 01 - Function development"
   ]
  },
  {
   "cell_type": "code",
   "execution_count": 9,
   "id": "0e4c32cc-2100-4800-b3be-a7e8ff73c7c9",
   "metadata": {},
   "outputs": [],
   "source": [
    "#if prox_measure == 'length':\n",
    "#    edges_speed = edges.copy()\n",
    "#else:\n",
    "#    _, nodes, edges_speed = aup.graph_from_hippo(aoi, 'osmnx', edges_folder=edges_folder)"
   ]
  },
  {
   "cell_type": "code",
   "execution_count": 14,
   "id": "c08c8658-b89c-415a-996c-c50a642ef940",
   "metadata": {},
   "outputs": [
    {
     "name": "stdout",
     "output_type": "stream",
     "text": [
      "(306, 4)\n"
     ]
    },
    {
     "data": {
      "text/html": [
       "<div>\n",
       "<style scoped>\n",
       "    .dataframe tbody tr th:only-of-type {\n",
       "        vertical-align: middle;\n",
       "    }\n",
       "\n",
       "    .dataframe tbody tr th {\n",
       "        vertical-align: top;\n",
       "    }\n",
       "\n",
       "    .dataframe thead th {\n",
       "        text-align: right;\n",
       "    }\n",
       "</style>\n",
       "<table border=\"1\" class=\"dataframe\">\n",
       "  <thead>\n",
       "    <tr style=\"text-align: right;\">\n",
       "      <th></th>\n",
       "      <th>code</th>\n",
       "      <th>geometry</th>\n",
       "      <th>osmid</th>\n",
       "      <th>distance_node</th>\n",
       "    </tr>\n",
       "  </thead>\n",
       "  <tbody>\n",
       "    <tr>\n",
       "      <th>0</th>\n",
       "      <td>611111</td>\n",
       "      <td>POINT (-102.27464 21.90191)</td>\n",
       "      <td>961580633</td>\n",
       "      <td>16.377978</td>\n",
       "    </tr>\n",
       "    <tr>\n",
       "      <th>1</th>\n",
       "      <td>611111</td>\n",
       "      <td>POINT (-102.26601 21.85971)</td>\n",
       "      <td>2253747737</td>\n",
       "      <td>71.553289</td>\n",
       "    </tr>\n",
       "  </tbody>\n",
       "</table>\n",
       "</div>"
      ],
      "text/plain": [
       "     code                     geometry       osmid  distance_node\n",
       "0  611111  POINT (-102.27464 21.90191)   961580633      16.377978\n",
       "1  611111  POINT (-102.26601 21.85971)  2253747737      71.553289"
      ]
     },
     "execution_count": 14,
     "metadata": {},
     "output_type": "execute_result"
    }
   ],
   "source": [
    "# Defines projection for downloaded data\n",
    "pois = pois.set_crs(\"EPSG:4326\")\n",
    "nodes = nodes.set_crs(\"EPSG:4326\")\n",
    "edges = edges.set_crs(\"EPSG:4326\")\n",
    "\n",
    "### Calculate nearest node for each DENUE point\n",
    "nearest = aup.find_nearest(G, nodes, pois, return_distance= True)\n",
    "nearest = nearest.set_crs(\"EPSG:4326\")\n",
    "\n",
    "# Show\n",
    "print(nearest.shape)\n",
    "nearest.head(2)"
   ]
  },
  {
   "cell_type": "code",
   "execution_count": 30,
   "id": "adbeee4a-94e6-43f9-a10c-f222c4ceb986",
   "metadata": {},
   "outputs": [
    {
     "name": "stdout",
     "output_type": "stream",
     "text": [
      "Starting range k = 1 of 2 for source preescolar.\n",
      "Starting range k = 2 of 2 for source preescolar.\n",
      "(51371, 6)\n"
     ]
    },
    {
     "data": {
      "text/html": [
       "<div>\n",
       "<style scoped>\n",
       "    .dataframe tbody tr th:only-of-type {\n",
       "        vertical-align: middle;\n",
       "    }\n",
       "\n",
       "    .dataframe tbody tr th {\n",
       "        vertical-align: top;\n",
       "    }\n",
       "\n",
       "    .dataframe thead th {\n",
       "        text-align: right;\n",
       "    }\n",
       "</style>\n",
       "<table border=\"1\" class=\"dataframe\">\n",
       "  <thead>\n",
       "    <tr style=\"text-align: right;\">\n",
       "      <th></th>\n",
       "      <th>osmid</th>\n",
       "      <th>time</th>\n",
       "      <th>source</th>\n",
       "      <th>x</th>\n",
       "      <th>y</th>\n",
       "      <th>geometry</th>\n",
       "    </tr>\n",
       "  </thead>\n",
       "  <tbody>\n",
       "    <tr>\n",
       "      <th>0</th>\n",
       "      <td>272921360</td>\n",
       "      <td>10.557825</td>\n",
       "      <td>preescolar</td>\n",
       "      <td>-102.295073</td>\n",
       "      <td>21.872876</td>\n",
       "      <td>POINT (-102.29507 21.87288)</td>\n",
       "    </tr>\n",
       "    <tr>\n",
       "      <th>1</th>\n",
       "      <td>272921393</td>\n",
       "      <td>8.820540</td>\n",
       "      <td>preescolar</td>\n",
       "      <td>-102.295097</td>\n",
       "      <td>21.871411</td>\n",
       "      <td>POINT (-102.29510 21.87141)</td>\n",
       "    </tr>\n",
       "    <tr>\n",
       "      <th>2</th>\n",
       "      <td>280093727</td>\n",
       "      <td>15.769410</td>\n",
       "      <td>preescolar</td>\n",
       "      <td>-102.276792</td>\n",
       "      <td>21.718777</td>\n",
       "      <td>POINT (-102.27679 21.71878)</td>\n",
       "    </tr>\n",
       "  </tbody>\n",
       "</table>\n",
       "</div>"
      ],
      "text/plain": [
       "       osmid       time      source           x          y  \\\n",
       "0  272921360  10.557825  preescolar -102.295073  21.872876   \n",
       "1  272921393   8.820540  preescolar -102.295097  21.871411   \n",
       "2  280093727  15.769410  preescolar -102.276792  21.718777   \n",
       "\n",
       "                      geometry  \n",
       "0  POINT (-102.29507 21.87288)  \n",
       "1  POINT (-102.29510 21.87141)  \n",
       "2  POINT (-102.27679 21.71878)  "
      ]
     },
     "execution_count": 30,
     "metadata": {},
     "output_type": "execute_result"
    }
   ],
   "source": [
    "# FORMAT NETWORK\n",
    "# Fill NANs with mean times\n",
    "edges_speed[prox_measure].fillna(edges_speed[prox_measure].mean(),inplace=True)\n",
    "\n",
    "# ELEMENTS NEEDED OUTSIDE THE LOOP\n",
    "# df_temp: Each column will store a batch of procesed nodes.\n",
    "df_temp = nodes.copy()\n",
    "\n",
    "#nodes_distance: Minimum time/distance found in all batches will be added from df_min (within if/elif/else) to nodes_distance (output)\n",
    "# (which keeps x,y and geometry data)\n",
    "nodes_distance = nodes.copy()\n",
    "\n",
    "# nodes_analysis is a nodes (index reseted) used in aup.calculate_distance_nearest_poi\n",
    "nodes_analysis = nodes.reset_index().copy()\n",
    "\n",
    "# PROCESSING\n",
    "# Added first if in case there are no amenities of the type in the city. \n",
    "# Prevents it from Crashing if len = 0\n",
    "if len(nearest) == 0:\n",
    "    nodes_time['time'] = 0\n",
    "    print(f\"0 {s} found in {city}.\")\n",
    "\n",
    "elif len(nearest) % 250:\n",
    "    batch_size = len(nearest)/200\n",
    "    for k in range(int(batch_size)+1):\n",
    "        #---------------------------------------------------------------------------------------------------------------------------------------------\n",
    "        print(f\"Starting range k = {k+1} of {int(batch_size)+1} for source {s}.\")\n",
    "        #---------------------------------------------------------------------------------------------------------------------------------------------\n",
    "        source_process = nearest.iloc[int(200*k):int(200*(1+k))].copy()\n",
    "        nodes_distance_prep = aup.calculate_distance_nearest_poi(source_process, nodes_analysis, edges_speed, s, 'osmid', wght=prox_measure)\n",
    "\n",
    "        #A middle gdf is created whose columns will be the name of the amenity and the batch number it belongs to\n",
    "        df_int = pd.DataFrame()\n",
    "        df_int['dist_'+str(k)+s] = nodes_distance_prep['dist_'+s]\n",
    "        \n",
    "        #The middle gdf is merged into the previously created temporary gdf to store the data by node, each batch in a column.\n",
    "        df_temp = df_temp.merge(df_int, left_index=True, right_index=True)\n",
    "\n",
    "    # Once finished, drop the non-distance values from the temporary gdf\n",
    "    df_temp.drop(['x', 'y', 'street_count','geometry'], inplace = True, axis=1)\n",
    "\n",
    "    #We apply the min function to find the minimum value. This value is sent to a new df_min\n",
    "    df_min = pd.DataFrame()\n",
    "    df_min['dist_'+s] = df_temp.min(axis=1)\n",
    "\n",
    "    #We merge df_min which contains the shortest distance to the POI with nodes_distance which will store all final data\n",
    "    nodes_distance = nodes_distance.merge(df_min, left_index=True, right_index=True)\n",
    "\n",
    "    if prox_measure == 'length':\n",
    "        # If used lenght, calculate time assuming walking speed = 4km/hr\n",
    "        nodes_time = nodes_distance.copy()\n",
    "        nodes_time['time'] = (nodes_time['dist_'+s]*60)/4000\n",
    "    else:\n",
    "        nodes_time = nodes_distance.copy()\n",
    "        nodes_time['time'] = nodes_time['dist_'+s]\n",
    "\n",
    "else:\n",
    "    batch_size = len(nearest)/250\n",
    "    for k in range(int(batch_size)+1):\n",
    "        #---------------------------------------------------------------------------------------------------------------------------------------------\n",
    "        print(f\"Starting range k = {k+1} of {int(batch_size)+1} for source {s}.\")\n",
    "        #---------------------------------------------------------------------------------------------------------------------------------------------\n",
    "        source_process = nearest.iloc[int(250*k):int(250*(1+k))].copy()\n",
    "        nodes_distance_prep = aup.calculate_distance_nearest_poi(source_process, nodes_analysis, edges_speed, s, 'osmid', wght=prox_measure)\n",
    "\n",
    "        #A middle gdf is created whose columns will be the name of the amenity and the batch number it belongs to\n",
    "        df_int = pd.DataFrame()\n",
    "        df_int['dist_'+str(k)+s] = nodes_distance_prep['dist_'+s]\n",
    "\n",
    "        #The middle gdf is merged into the previously created temporary gdf to store the data by node, each batch in a column.\n",
    "        df_temp = df_temp.merge(df_int, left_index=True, right_index=True)\n",
    "\n",
    "    # Once finished, drop the non-distance values from the temporary gdf\n",
    "    df_temp.drop(['x', 'y', 'street_count','geometry'], inplace = True, axis=1)\n",
    "\n",
    "    #We apply the min function to find the minimum value. This value is sent to a new df_min\n",
    "    df_min = pd.DataFrame()\n",
    "    df_min['dist_'+s] = df_temp.min(axis=1)\n",
    "\n",
    "    #We merge df_min which contains the shortest distance to the POI with nodes_distance which will store all final data\n",
    "    nodes_distance = nodes_distance.merge(df_min, left_index=True, right_index=True)\n",
    "\n",
    "    if prox_measure == 'length':\n",
    "        # If used lenght, calculate time assuming walking speed = 4km/hr\n",
    "        nodes_time = nodes_distance.copy()\n",
    "        nodes_time['time'] = (nodes_time['dist_'+s]*60)/4000\n",
    "    else:\n",
    "        nodes_time = nodes_distance.copy()\n",
    "        nodes_time['time'] = nodes_time['dist_'+s]\n",
    "\n",
    "#Format nodes_time\n",
    "nodes_time['source'] = s\n",
    "nodes_time.reset_index(inplace=True)\n",
    "nodes_time = nodes_time.set_crs(\"EPSG:4326\")\n",
    "nodes_time = nodes_time[['osmid','time','source','x','y','geometry']]\n",
    "\n",
    "# Show\n",
    "print(nodes_time.shape)\n",
    "nodes_time.head(3)"
   ]
  },
  {
   "cell_type": "markdown",
   "id": "91deff97-7005-4c0d-aca4-0acf54225ae0",
   "metadata": {},
   "source": [
    "## 02 - Function"
   ]
  },
  {
   "cell_type": "code",
   "execution_count": 6,
   "id": "3d07d949-e69e-478f-83d5-5e8275a2a471",
   "metadata": {},
   "outputs": [],
   "source": [
    "def sources_time(G, nodes, edges, pois, s, prox_measure):\n",
    "    ############################################################################################################################################################################\n",
    "    # NEAREST\n",
    "    # Finds nearest node OSMID to each point of interest\n",
    "    ############################################################################################################################################################################\n",
    "    \n",
    "    # Defines projection for downloaded data\n",
    "    pois = pois.set_crs(\"EPSG:4326\")\n",
    "    nodes = nodes.set_crs(\"EPSG:4326\")\n",
    "    edges = edges.set_crs(\"EPSG:4326\")\n",
    "    \n",
    "    ### Calculate nearest node for each DENUE point\n",
    "    nearest = aup.find_nearest(G, nodes, pois, return_distance= True)\n",
    "    nearest = nearest.set_crs(\"EPSG:4326\")\n",
    "    \n",
    "    ############################################################################################################################################################################\n",
    "    # NODES DISTANCE\n",
    "    # Calculates distance from each node to its nearest point of interest\n",
    "    ############################################################################################################################################################################\n",
    "    \n",
    "    # --------------------------------------------------------------------------------- FORMAT NETWORK\n",
    "    # Fill NANs with mean times\n",
    "    edges[prox_measure].fillna(edges[prox_measure].mean(),inplace=True)\n",
    "    \n",
    "    # --------------------------------------------------------------------------------- ELEMENTS NEEDED OUTSIDE THE LOOP\n",
    "    # df_temp: Each column will store a batch of procesed nodes.\n",
    "    df_temp = nodes.copy()\n",
    "    \n",
    "    #nodes_distance: Minimum time/distance found in all batches will be added from df_min (within if/elif/else) to nodes_distance (output)\n",
    "    # (which keeps x,y and geometry data)\n",
    "    nodes_distance = nodes.copy()\n",
    "    \n",
    "    # nodes_analysis is a nodes (index reseted) used in aup.calculate_distance_nearest_poi\n",
    "    nodes_analysis = nodes.reset_index().copy()\n",
    "    \n",
    "    # --------------------------------------------------------------------------------- PROCESSING\n",
    "    # Added first if in case there are no amenities of the type in the city. \n",
    "    # Prevents it from Crashing if len = 0\n",
    "    if len(nearest) == 0:\n",
    "        nodes_time['time'] = 0\n",
    "        print(f\"0 {s} found in {city}.\")\n",
    "    \n",
    "    elif len(nearest) % 250:\n",
    "        batch_size = len(nearest)/200\n",
    "        for k in range(int(batch_size)+1):\n",
    "            #---------------------------------------------------------------------------------------------------------------------------------------------\n",
    "            print(f\"Starting range k = {k+1} of {int(batch_size)+1} for source {s}.\")\n",
    "            #---------------------------------------------------------------------------------------------------------------------------------------------\n",
    "            source_process = nearest.iloc[int(200*k):int(200*(1+k))].copy()\n",
    "            nodes_distance_prep = aup.calculate_distance_nearest_poi(source_process, nodes_analysis, edges, s, 'osmid', wght=prox_measure)\n",
    "    \n",
    "            #A middle gdf is created whose columns will be the name of the amenity and the batch number it belongs to\n",
    "            df_int = pd.DataFrame()\n",
    "            df_int['dist_'+str(k)+s] = nodes_distance_prep['dist_'+s]\n",
    "            \n",
    "            #The middle gdf is merged into the previously created temporary gdf to store the data by node, each batch in a column.\n",
    "            df_temp = df_temp.merge(df_int, left_index=True, right_index=True)\n",
    "    \n",
    "        # Once finished, drop the non-distance values from the temporary gdf\n",
    "        df_temp.drop(['x', 'y', 'street_count','geometry'], inplace = True, axis=1)\n",
    "    \n",
    "        #We apply the min function to find the minimum value. This value is sent to a new df_min\n",
    "        df_min = pd.DataFrame()\n",
    "        df_min['dist_'+s] = df_temp.min(axis=1)\n",
    "    \n",
    "        #We merge df_min which contains the shortest distance to the POI with nodes_distance which will store all final data\n",
    "        nodes_distance = nodes_distance.merge(df_min, left_index=True, right_index=True)\n",
    "    \n",
    "        if prox_measure == 'length':\n",
    "            # If used lenght, calculate time assuming walking speed = 4km/hr\n",
    "            nodes_time = nodes_distance.copy()\n",
    "            nodes_time['time'] = (nodes_time['dist_'+s]*60)/4000\n",
    "        else:\n",
    "            nodes_time = nodes_distance.copy()\n",
    "            nodes_time['time'] = nodes_time['dist_'+s]\n",
    "    \n",
    "    else:\n",
    "        batch_size = len(nearest)/250\n",
    "        for k in range(int(batch_size)+1):\n",
    "            #---------------------------------------------------------------------------------------------------------------------------------------------\n",
    "            print(f\"Starting range k = {k+1} of {int(batch_size)+1} for source {s}.\")\n",
    "            #---------------------------------------------------------------------------------------------------------------------------------------------\n",
    "            source_process = nearest.iloc[int(250*k):int(250*(1+k))].copy()\n",
    "            nodes_distance_prep = aup.calculate_distance_nearest_poi(source_process, nodes_analysis, edges, s, 'osmid', wght=prox_measure)\n",
    "    \n",
    "            #A middle gdf is created whose columns will be the name of the amenity and the batch number it belongs to\n",
    "            df_int = pd.DataFrame()\n",
    "            df_int['dist_'+str(k)+s] = nodes_distance_prep['dist_'+s]\n",
    "    \n",
    "            #The middle gdf is merged into the previously created temporary gdf to store the data by node, each batch in a column.\n",
    "            df_temp = df_temp.merge(df_int, left_index=True, right_index=True)\n",
    "    \n",
    "        # Once finished, drop the non-distance values from the temporary gdf\n",
    "        df_temp.drop(['x', 'y', 'street_count','geometry'], inplace = True, axis=1)\n",
    "    \n",
    "        #We apply the min function to find the minimum value. This value is sent to a new df_min\n",
    "        df_min = pd.DataFrame()\n",
    "        df_min['dist_'+s] = df_temp.min(axis=1)\n",
    "    \n",
    "        #We merge df_min which contains the shortest distance to the POI with nodes_distance which will store all final data\n",
    "        nodes_distance = nodes_distance.merge(df_min, left_index=True, right_index=True)\n",
    "    \n",
    "        if prox_measure == 'length':\n",
    "            # If used lenght, calculate time assuming walking speed = 4km/hr\n",
    "            nodes_time = nodes_distance.copy()\n",
    "            nodes_time['time'] = (nodes_time['dist_'+s]*60)/4000\n",
    "        else:\n",
    "            nodes_time = nodes_distance.copy()\n",
    "            nodes_time['time'] = nodes_time['dist_'+s]\n",
    "\n",
    "    # --------------------------------------------------------------------------------- FINAL FORMAT\n",
    "    #Format nodes_time\n",
    "    nodes_time['source'] = s\n",
    "    nodes_time.reset_index(inplace=True)\n",
    "    nodes_time = nodes_time.set_crs(\"EPSG:4326\")\n",
    "    nodes_time = nodes_time[['osmid','time','source','x','y','geometry']]\n",
    "\n",
    "    return nodes_time"
   ]
  },
  {
   "cell_type": "code",
   "execution_count": 7,
   "id": "30dadf7c-95b8-45c7-a373-81cd8d8b5c54",
   "metadata": {},
   "outputs": [
    {
     "name": "stdout",
     "output_type": "stream",
     "text": [
      "Starting range k = 1 of 2 for source preescolar.\n",
      "Starting range k = 2 of 2 for source preescolar.\n",
      "(51371, 6)\n"
     ]
    },
    {
     "data": {
      "text/html": [
       "<div>\n",
       "<style scoped>\n",
       "    .dataframe tbody tr th:only-of-type {\n",
       "        vertical-align: middle;\n",
       "    }\n",
       "\n",
       "    .dataframe tbody tr th {\n",
       "        vertical-align: top;\n",
       "    }\n",
       "\n",
       "    .dataframe thead th {\n",
       "        text-align: right;\n",
       "    }\n",
       "</style>\n",
       "<table border=\"1\" class=\"dataframe\">\n",
       "  <thead>\n",
       "    <tr style=\"text-align: right;\">\n",
       "      <th></th>\n",
       "      <th>osmid</th>\n",
       "      <th>time</th>\n",
       "      <th>source</th>\n",
       "      <th>x</th>\n",
       "      <th>y</th>\n",
       "      <th>geometry</th>\n",
       "    </tr>\n",
       "  </thead>\n",
       "  <tbody>\n",
       "    <tr>\n",
       "      <th>0</th>\n",
       "      <td>272921360</td>\n",
       "      <td>10.770629</td>\n",
       "      <td>preescolar</td>\n",
       "      <td>-102.295073</td>\n",
       "      <td>21.872876</td>\n",
       "      <td>POINT (-102.29507 21.87288)</td>\n",
       "    </tr>\n",
       "    <tr>\n",
       "      <th>1</th>\n",
       "      <td>272921393</td>\n",
       "      <td>9.033784</td>\n",
       "      <td>preescolar</td>\n",
       "      <td>-102.295097</td>\n",
       "      <td>21.871411</td>\n",
       "      <td>POINT (-102.29510 21.87141)</td>\n",
       "    </tr>\n",
       "    <tr>\n",
       "      <th>2</th>\n",
       "      <td>280093727</td>\n",
       "      <td>16.752189</td>\n",
       "      <td>preescolar</td>\n",
       "      <td>-102.276792</td>\n",
       "      <td>21.718777</td>\n",
       "      <td>POINT (-102.27679 21.71878)</td>\n",
       "    </tr>\n",
       "  </tbody>\n",
       "</table>\n",
       "</div>"
      ],
      "text/plain": [
       "       osmid       time      source           x          y  \\\n",
       "0  272921360  10.770629  preescolar -102.295073  21.872876   \n",
       "1  272921393   9.033784  preescolar -102.295097  21.871411   \n",
       "2  280093727  16.752189  preescolar -102.276792  21.718777   \n",
       "\n",
       "                      geometry  \n",
       "0  POINT (-102.29507 21.87288)  \n",
       "1  POINT (-102.29510 21.87141)  \n",
       "2  POINT (-102.27679 21.71878)  "
      ]
     },
     "execution_count": 7,
     "metadata": {},
     "output_type": "execute_result"
    }
   ],
   "source": [
    "nodes_time = sources_time(G, nodes, edges, pois, s, prox_measure)\n",
    "\n",
    "# Show\n",
    "print(nodes_time.shape)\n",
    "nodes_time.head(3)"
   ]
  },
  {
   "cell_type": "code",
   "execution_count": 8,
   "id": "b4779e39-cfbd-4cb8-a0d0-28d0e505752b",
   "metadata": {},
   "outputs": [],
   "source": [
    "nodes_time.to_file('../../data/external/temporal_fromjupyter/proximity_v2/nodestime_time_min.gpkg', driver='GPKG')"
   ]
  },
  {
   "cell_type": "markdown",
   "id": "f750cea2-a329-47db-a23c-85e19e2a603b",
   "metadata": {},
   "source": [
    "## Time comparison [Success]"
   ]
  },
  {
   "cell_type": "code",
   "execution_count": 10,
   "id": "0422cde2-67bc-42b5-8538-b33b825706c8",
   "metadata": {},
   "outputs": [
    {
     "name": "stdout",
     "output_type": "stream",
     "text": [
      "(51371, 6)\n"
     ]
    },
    {
     "data": {
      "text/html": [
       "<div>\n",
       "<style scoped>\n",
       "    .dataframe tbody tr th:only-of-type {\n",
       "        vertical-align: middle;\n",
       "    }\n",
       "\n",
       "    .dataframe tbody tr th {\n",
       "        vertical-align: top;\n",
       "    }\n",
       "\n",
       "    .dataframe thead th {\n",
       "        text-align: right;\n",
       "    }\n",
       "</style>\n",
       "<table border=\"1\" class=\"dataframe\">\n",
       "  <thead>\n",
       "    <tr style=\"text-align: right;\">\n",
       "      <th></th>\n",
       "      <th>osmid</th>\n",
       "      <th>time</th>\n",
       "      <th>source</th>\n",
       "      <th>x</th>\n",
       "      <th>y</th>\n",
       "      <th>geometry</th>\n",
       "    </tr>\n",
       "  </thead>\n",
       "  <tbody>\n",
       "    <tr>\n",
       "      <th>0</th>\n",
       "      <td>272921360</td>\n",
       "      <td>10.770629</td>\n",
       "      <td>preescolar</td>\n",
       "      <td>-102.295073</td>\n",
       "      <td>21.872876</td>\n",
       "      <td>POINT (-102.29507 21.87288)</td>\n",
       "    </tr>\n",
       "    <tr>\n",
       "      <th>1</th>\n",
       "      <td>272921393</td>\n",
       "      <td>9.033784</td>\n",
       "      <td>preescolar</td>\n",
       "      <td>-102.295097</td>\n",
       "      <td>21.871411</td>\n",
       "      <td>POINT (-102.29510 21.87141)</td>\n",
       "    </tr>\n",
       "    <tr>\n",
       "      <th>2</th>\n",
       "      <td>280093727</td>\n",
       "      <td>16.752189</td>\n",
       "      <td>preescolar</td>\n",
       "      <td>-102.276792</td>\n",
       "      <td>21.718777</td>\n",
       "      <td>POINT (-102.27679 21.71878)</td>\n",
       "    </tr>\n",
       "  </tbody>\n",
       "</table>\n",
       "</div>"
      ],
      "text/plain": [
       "       osmid       time      source           x          y  \\\n",
       "0  272921360  10.770629  preescolar -102.295073  21.872876   \n",
       "1  272921393   9.033784  preescolar -102.295097  21.871411   \n",
       "2  280093727  16.752189  preescolar -102.276792  21.718777   \n",
       "\n",
       "                      geometry  \n",
       "0  POINT (-102.29507 21.87288)  \n",
       "1  POINT (-102.29510 21.87141)  \n",
       "2  POINT (-102.27679 21.71878)  "
      ]
     },
     "execution_count": 10,
     "metadata": {},
     "output_type": "execute_result"
    }
   ],
   "source": [
    "# Load nodes_time\n",
    "nodes_time = gpd.read_file('../../data/external/temporal_fromjupyter/proximity_v2/nodestime_time_min.gpkg')\n",
    "\n",
    "# Show\n",
    "print(nodes_time.shape)\n",
    "nodes_time.head(3)"
   ]
  },
  {
   "cell_type": "code",
   "execution_count": 15,
   "id": "e93f75d2-1929-4fcf-a176-0a689caefd68",
   "metadata": {},
   "outputs": [
    {
     "name": "stdout",
     "output_type": "stream",
     "text": [
      "(51371, 7)\n"
     ]
    },
    {
     "data": {
      "text/html": [
       "<div>\n",
       "<style scoped>\n",
       "    .dataframe tbody tr th:only-of-type {\n",
       "        vertical-align: middle;\n",
       "    }\n",
       "\n",
       "    .dataframe tbody tr th {\n",
       "        vertical-align: top;\n",
       "    }\n",
       "\n",
       "    .dataframe thead th {\n",
       "        text-align: right;\n",
       "    }\n",
       "</style>\n",
       "<table border=\"1\" class=\"dataframe\">\n",
       "  <thead>\n",
       "    <tr style=\"text-align: right;\">\n",
       "      <th></th>\n",
       "      <th>osmid</th>\n",
       "      <th>x</th>\n",
       "      <th>y</th>\n",
       "      <th>geometry</th>\n",
       "      <th>time</th>\n",
       "      <th>amenity</th>\n",
       "      <th>metropolis</th>\n",
       "    </tr>\n",
       "  </thead>\n",
       "  <tbody>\n",
       "    <tr>\n",
       "      <th>0</th>\n",
       "      <td>272921360</td>\n",
       "      <td>-102.295073</td>\n",
       "      <td>21.872876</td>\n",
       "      <td>POINT (-102.29507 21.87288)</td>\n",
       "      <td>10.770629</td>\n",
       "      <td>denue_preescolar</td>\n",
       "      <td>Aguascalientes</td>\n",
       "    </tr>\n",
       "    <tr>\n",
       "      <th>1</th>\n",
       "      <td>808114976</td>\n",
       "      <td>-102.308667</td>\n",
       "      <td>21.896123</td>\n",
       "      <td>POINT (-102.30867 21.89612)</td>\n",
       "      <td>5.508627</td>\n",
       "      <td>denue_preescolar</td>\n",
       "      <td>Aguascalientes</td>\n",
       "    </tr>\n",
       "  </tbody>\n",
       "</table>\n",
       "</div>"
      ],
      "text/plain": [
       "       osmid           x          y                     geometry       time  \\\n",
       "0  272921360 -102.295073  21.872876  POINT (-102.29507 21.87288)  10.770629   \n",
       "1  808114976 -102.308667  21.896123  POINT (-102.30867 21.89612)   5.508627   \n",
       "\n",
       "            amenity      metropolis  \n",
       "0  denue_preescolar  Aguascalientes  \n",
       "1  denue_preescolar  Aguascalientes  "
      ]
     },
     "execution_count": 15,
     "metadata": {},
     "output_type": "execute_result"
    }
   ],
   "source": [
    "nodes_schema = 'prox_analysis'\n",
    "nodes_table = 'nodes_proximity_2020'\n",
    "\n",
    "a = 'denue_preescolar'\n",
    "\n",
    "nodes_time_org = gpd.GeoDataFrame()\n",
    "query = f\"SELECT * FROM {nodes_schema}.{nodes_table} WHERE \\\"metropolis\\\" LIKE \\'{city}\\' AND (\\\"amenity\\\" LIKE \\'{a}\\')\"\n",
    "nodes_time_org = aup.gdf_from_query(query, geometry_col='geometry')\n",
    "\n",
    "# Show\n",
    "print(nodes_time_org.shape)\n",
    "nodes_time_org.head(2)"
   ]
  },
  {
   "cell_type": "code",
   "execution_count": 16,
   "id": "85bc1f5d-6dff-4f56-8641-dbf1b31d8c03",
   "metadata": {},
   "outputs": [
    {
     "data": {
      "text/plain": [
       "33.837910405263145"
      ]
     },
     "execution_count": 16,
     "metadata": {},
     "output_type": "execute_result"
    }
   ],
   "source": [
    "nodes_time.time.mean()"
   ]
  },
  {
   "cell_type": "code",
   "execution_count": 18,
   "id": "7d7d1ab0-0e33-4b02-bb7c-8843b03da525",
   "metadata": {},
   "outputs": [
    {
     "data": {
      "text/plain": [
       "33.837910405263145"
      ]
     },
     "execution_count": 18,
     "metadata": {},
     "output_type": "execute_result"
    }
   ],
   "source": [
    "nodes_time_org.time.mean()"
   ]
  },
  {
   "cell_type": "code",
   "execution_count": null,
   "id": "f7621f4c-12cc-403b-9da5-d8e75f25d4ee",
   "metadata": {},
   "outputs": [],
   "source": []
  }
 ],
 "metadata": {
  "kernelspec": {
   "display_name": "GDS-10.0",
   "language": "python",
   "name": "gds"
  },
  "language_info": {
   "codemirror_mode": {
    "name": "ipython",
    "version": 3
   },
   "file_extension": ".py",
   "mimetype": "text/x-python",
   "name": "python",
   "nbconvert_exporter": "python",
   "pygments_lexer": "ipython3",
   "version": "3.9.18"
  }
 },
 "nbformat": 4,
 "nbformat_minor": 5
}
