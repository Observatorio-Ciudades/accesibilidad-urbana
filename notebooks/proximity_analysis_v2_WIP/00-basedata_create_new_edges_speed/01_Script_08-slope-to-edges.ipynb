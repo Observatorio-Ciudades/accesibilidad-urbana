{
 "cells": [
  {
   "cell_type": "markdown",
   "id": "11c6d5dc-b504-4fcb-b05c-5f9cfa97d573",
   "metadata": {},
   "source": [
    "# Notebook Script 08-slope-to-edges"
   ]
  },
  {
   "cell_type": "markdown",
   "id": "c6f3d47d-3381-48e2-91d0-f847f679351a",
   "metadata": {},
   "source": [
    "This Notebook edits and tests Script 08"
   ]
  },
  {
   "cell_type": "code",
   "execution_count": 1,
   "id": "81d3c749-5d62-4ec2-b1ec-36c1e724c251",
   "metadata": {},
   "outputs": [
    {
     "name": "stderr",
     "output_type": "stream",
     "text": [
      "/home/jovyan/accesibilidad-urbana/aup/data.py:25: UserWarning: The `utils.config` function is deprecated and will be removed in a future release. Instead, use the `settings` module directly to configure a global setting's value. For example, `ox.settings.log_console=True`.\n",
      "  ox.config(\n"
     ]
    }
   ],
   "source": [
    "import os\n",
    "import sys\n",
    "\n",
    "import pandas as pd\n",
    "import geopandas as gpd\n",
    "import osmnx as ox\n",
    "import numpy as np\n",
    "\n",
    "import matplotlib.pyplot as plt\n",
    "import seaborn as sns\n",
    "\n",
    "import warnings\n",
    "warnings.simplefilter(action='ignore', category=FutureWarning)\n",
    "\n",
    "module_path = os.path.abspath(os.path.join('../../../'))\n",
    "if module_path not in sys.path:\n",
    "    sys.path.append(module_path)\n",
    "    import aup"
   ]
  },
  {
   "cell_type": "markdown",
   "id": "28ca8f08-5621-49c7-b2d8-5b7a5418fdb3",
   "metadata": {
    "jp-MarkdownHeadingCollapsed": true
   },
   "source": [
    "## Script editing"
   ]
  },
  {
   "cell_type": "code",
   "execution_count": 6,
   "id": "31b1588d-4ee7-4b67-9c8f-26b6391ea5ce",
   "metadata": {},
   "outputs": [],
   "source": [
    "schema = 'osmnx'\n",
    "#table_sufix = 'elevation_24' #sufix for nodes and edges table names\n",
    "grl_path = '../../../data/external/MDE/'\n",
    "#main(schema, folder_sufix, year, grl_path, save=True)\n",
    "\n",
    "metro_schema = 'metropolis'\n",
    "metro_table = 'metro_gdf_2020' # Cities 2020\n",
    "\n",
    "# --------------- SCRIPT\n",
    "# Load cities (municipalities)\n",
    "query = f\"SELECT city FROM {metro_schema}.{metro_table}\"\n",
    "metro_df = aup.df_from_query(query)\n",
    "city_list = list(metro_df.city.unique())\n",
    "k = len(city_list)"
   ]
  },
  {
   "cell_type": "code",
   "execution_count": 7,
   "id": "c689fe1b-b426-4e42-b848-99a8bf99909f",
   "metadata": {},
   "outputs": [],
   "source": [
    "city = 'Aguascalientes'"
   ]
  },
  {
   "cell_type": "code",
   "execution_count": 8,
   "id": "bf1cb82f-55a8-41ae-bcd7-9b2a06ef5ecc",
   "metadata": {},
   "outputs": [],
   "source": [
    "# Creates empty GeoDataFrame to store specified municipality polygons and hex grid\n",
    "mun_gdf = gpd.GeoDataFrame()\n",
    "# Iterates over municipality codes for each metropolitan area or capital\n",
    "query = f\"SELECT * FROM {metro_schema}.{metro_table} WHERE \\\"city\\\" LIKE \\'{city}\\'\"\n",
    "mun_gdf = aup.gdf_from_query(query, geometry_col='geometry')\n",
    "\n",
    "#Define projections for municipalities and hexgrids\n",
    "mun_gdf = mun_gdf.set_crs(\"EPSG:4326\")\n",
    "\n",
    "# Creates query to download OSMNX nodes and edges from the DB\n",
    "# by metropolitan area or capital using the municipality geometry\n",
    "G, nodes, edges = aup.graph_from_hippo(mun_gdf, schema='osmnx', edges_folder='edges_23_line', nodes_folder='nodes_23_point')\n",
    "aup.log(f\"Downloaded {len(nodes)} nodes and {len(edges)} edges from database for {city}\")"
   ]
  },
  {
   "cell_type": "code",
   "execution_count": 44,
   "id": "ca725914-04c3-413a-a6c9-f4f0312e5748",
   "metadata": {},
   "outputs": [
    {
     "name": "stdout",
     "output_type": "stream",
     "text": [
      "(55006, 5)\n"
     ]
    },
    {
     "data": {
      "text/html": [
       "<div>\n",
       "<style scoped>\n",
       "    .dataframe tbody tr th:only-of-type {\n",
       "        vertical-align: middle;\n",
       "    }\n",
       "\n",
       "    .dataframe tbody tr th {\n",
       "        vertical-align: top;\n",
       "    }\n",
       "\n",
       "    .dataframe thead th {\n",
       "        text-align: right;\n",
       "    }\n",
       "</style>\n",
       "<table border=\"1\" class=\"dataframe\">\n",
       "  <thead>\n",
       "    <tr style=\"text-align: right;\">\n",
       "      <th></th>\n",
       "      <th>x</th>\n",
       "      <th>y</th>\n",
       "      <th>street_count</th>\n",
       "      <th>geometry</th>\n",
       "      <th>city</th>\n",
       "    </tr>\n",
       "    <tr>\n",
       "      <th>osmid</th>\n",
       "      <th></th>\n",
       "      <th></th>\n",
       "      <th></th>\n",
       "      <th></th>\n",
       "      <th></th>\n",
       "    </tr>\n",
       "  </thead>\n",
       "  <tbody>\n",
       "    <tr>\n",
       "      <th>272921360</th>\n",
       "      <td>-102.295073</td>\n",
       "      <td>21.872876</td>\n",
       "      <td>3</td>\n",
       "      <td>POINT (-102.29507 21.87288)</td>\n",
       "      <td>Aguascalientes</td>\n",
       "    </tr>\n",
       "  </tbody>\n",
       "</table>\n",
       "</div>"
      ],
      "text/plain": [
       "                    x          y  street_count                     geometry  \\\n",
       "osmid                                                                         \n",
       "272921360 -102.295073  21.872876             3  POINT (-102.29507 21.87288)   \n",
       "\n",
       "                     city  \n",
       "osmid                      \n",
       "272921360  Aguascalientes  "
      ]
     },
     "execution_count": 44,
     "metadata": {},
     "output_type": "execute_result"
    }
   ],
   "source": [
    "# Show\n",
    "print(nodes.shape)\n",
    "nodes.head(1)"
   ]
  },
  {
   "cell_type": "code",
   "execution_count": 45,
   "id": "e256ae8c-8460-423f-a940-a8adcfe93ce9",
   "metadata": {},
   "outputs": [
    {
     "name": "stdout",
     "output_type": "stream",
     "text": [
      "(128284, 16)\n"
     ]
    },
    {
     "data": {
      "text/html": [
       "<div>\n",
       "<style scoped>\n",
       "    .dataframe tbody tr th:only-of-type {\n",
       "        vertical-align: middle;\n",
       "    }\n",
       "\n",
       "    .dataframe tbody tr th {\n",
       "        vertical-align: top;\n",
       "    }\n",
       "\n",
       "    .dataframe thead th {\n",
       "        text-align: right;\n",
       "    }\n",
       "</style>\n",
       "<table border=\"1\" class=\"dataframe\">\n",
       "  <thead>\n",
       "    <tr style=\"text-align: right;\">\n",
       "      <th></th>\n",
       "      <th></th>\n",
       "      <th></th>\n",
       "      <th>osmid</th>\n",
       "      <th>oneway</th>\n",
       "      <th>lanes</th>\n",
       "      <th>name</th>\n",
       "      <th>highway</th>\n",
       "      <th>maxspeed</th>\n",
       "      <th>length</th>\n",
       "      <th>geometry</th>\n",
       "      <th>bridge</th>\n",
       "      <th>ref</th>\n",
       "      <th>junction</th>\n",
       "      <th>tunnel</th>\n",
       "      <th>access</th>\n",
       "      <th>width</th>\n",
       "      <th>service</th>\n",
       "      <th>city</th>\n",
       "    </tr>\n",
       "    <tr>\n",
       "      <th>u</th>\n",
       "      <th>v</th>\n",
       "      <th>key</th>\n",
       "      <th></th>\n",
       "      <th></th>\n",
       "      <th></th>\n",
       "      <th></th>\n",
       "      <th></th>\n",
       "      <th></th>\n",
       "      <th></th>\n",
       "      <th></th>\n",
       "      <th></th>\n",
       "      <th></th>\n",
       "      <th></th>\n",
       "      <th></th>\n",
       "      <th></th>\n",
       "      <th></th>\n",
       "      <th></th>\n",
       "      <th></th>\n",
       "    </tr>\n",
       "  </thead>\n",
       "  <tbody>\n",
       "    <tr>\n",
       "      <th>1417904191</th>\n",
       "      <th>4507389643</th>\n",
       "      <th>0</th>\n",
       "      <td>1036118103</td>\n",
       "      <td>False</td>\n",
       "      <td>None</td>\n",
       "      <td>Calle San Martín de la Cantera</td>\n",
       "      <td>unclassified</td>\n",
       "      <td>None</td>\n",
       "      <td>74.345</td>\n",
       "      <td>LINESTRING (-102.35592 21.85416, -102.35540 21...</td>\n",
       "      <td>None</td>\n",
       "      <td>None</td>\n",
       "      <td>None</td>\n",
       "      <td>None</td>\n",
       "      <td>None</td>\n",
       "      <td>None</td>\n",
       "      <td>None</td>\n",
       "      <td>Aguascalientes</td>\n",
       "    </tr>\n",
       "  </tbody>\n",
       "</table>\n",
       "</div>"
      ],
      "text/plain": [
       "                                osmid  oneway lanes  \\\n",
       "u          v          key                             \n",
       "1417904191 4507389643 0    1036118103   False  None   \n",
       "\n",
       "                                                     name       highway  \\\n",
       "u          v          key                                                 \n",
       "1417904191 4507389643 0    Calle San Martín de la Cantera  unclassified   \n",
       "\n",
       "                          maxspeed  length  \\\n",
       "u          v          key                    \n",
       "1417904191 4507389643 0       None  74.345   \n",
       "\n",
       "                                                                    geometry  \\\n",
       "u          v          key                                                      \n",
       "1417904191 4507389643 0    LINESTRING (-102.35592 21.85416, -102.35540 21...   \n",
       "\n",
       "                          bridge   ref junction tunnel access width service  \\\n",
       "u          v          key                                                     \n",
       "1417904191 4507389643 0     None  None     None   None   None  None    None   \n",
       "\n",
       "                                     city  \n",
       "u          v          key                  \n",
       "1417904191 4507389643 0    Aguascalientes  "
      ]
     },
     "execution_count": 45,
     "metadata": {},
     "output_type": "execute_result"
    }
   ],
   "source": [
    "# Show\n",
    "print(edges.shape)\n",
    "edges.head(1)"
   ]
  },
  {
   "cell_type": "code",
   "execution_count": 14,
   "id": "adcefa8f-ec5f-45d4-ac5b-06a9e6f69709",
   "metadata": {},
   "outputs": [],
   "source": [
    "mde_path = [] # list to append mde path strings\n",
    "#Gathers state codes for MDE\n",
    "for e in mun_gdf.CVE_ENT.unique():\n",
    "    tmp_path = grl_path + (f'CEM_V3_20170619_R15_E{e}_TIF/')\n",
    "\n",
    "    #search for files in tmp_path for .tif\n",
    "    for f in os.listdir(tmp_path):\n",
    "        if f.endswith('.tif'):\n",
    "            mde_path.append(tmp_path+f)"
   ]
  },
  {
   "cell_type": "code",
   "execution_count": 16,
   "id": "9bb1352c-438c-46ae-a948-21e6b9f1d147",
   "metadata": {},
   "outputs": [
    {
     "name": "stderr",
     "output_type": "stream",
     "text": [
      "/tmp/ipykernel_90156/1505067729.py:4: UserWarning: the `precision` parameter is deprecated and will be removed in a future release\n",
      "  G_elev_mde = ox.elevation.add_edge_grades(G_elev_mde, add_absolute=True, precision=3)\n"
     ]
    }
   ],
   "source": [
    "#elevations to nodes\n",
    "G_elev_mde = ox.elevation.add_node_elevations_raster(G, mde_path)\n",
    "#slope to edges\n",
    "G_elev_mde = ox.elevation.add_edge_grades(G_elev_mde, add_absolute=True, precision=3)\n",
    "nodes_elev_mde, edges_elev_mde = ox.graph_to_gdfs(G_elev_mde, nodes=True, edges=True)\n",
    "mean_elev = round(nodes_elev_mde.elevation.mean(),2)\n",
    "mean_slope = round(edges_elev_mde.grade_abs.mean(),2)\n",
    "aup.log(f\"Assigned a mean elevation of {mean_elev} to nodes \"+\n",
    "f\"\\nand mean slope of {mean_slope} to edges\")\n",
    "# reset index for upload\n",
    "nodes_elev_mde.reset_index(inplace=True)\n",
    "edges_elev_mde.reset_index(inplace=True)\n",
    "\n",
    "#set street_count as float\n",
    "nodes_elev_mde[\"street_count\"] = nodes_elev_mde[\"street_count\"].astype(float)"
   ]
  },
  {
   "cell_type": "code",
   "execution_count": 27,
   "id": "da8fdd54-9e1b-4e3d-81c7-04e52c1874c0",
   "metadata": {},
   "outputs": [
    {
     "data": {
      "text/html": [
       "<div>\n",
       "<style scoped>\n",
       "    .dataframe tbody tr th:only-of-type {\n",
       "        vertical-align: middle;\n",
       "    }\n",
       "\n",
       "    .dataframe tbody tr th {\n",
       "        vertical-align: top;\n",
       "    }\n",
       "\n",
       "    .dataframe thead th {\n",
       "        text-align: right;\n",
       "    }\n",
       "</style>\n",
       "<table border=\"1\" class=\"dataframe\">\n",
       "  <thead>\n",
       "    <tr style=\"text-align: right;\">\n",
       "      <th></th>\n",
       "      <th>u</th>\n",
       "      <th>v</th>\n",
       "      <th>key</th>\n",
       "      <th>osmid</th>\n",
       "      <th>oneway</th>\n",
       "      <th>name</th>\n",
       "      <th>highway</th>\n",
       "      <th>length</th>\n",
       "      <th>geometry</th>\n",
       "      <th>city</th>\n",
       "      <th>...</th>\n",
       "      <th>grade_abs</th>\n",
       "      <th>lanes</th>\n",
       "      <th>bridge</th>\n",
       "      <th>maxspeed</th>\n",
       "      <th>ref</th>\n",
       "      <th>access</th>\n",
       "      <th>junction</th>\n",
       "      <th>service</th>\n",
       "      <th>tunnel</th>\n",
       "      <th>width</th>\n",
       "    </tr>\n",
       "  </thead>\n",
       "  <tbody>\n",
       "    <tr>\n",
       "      <th>0</th>\n",
       "      <td>1417904191</td>\n",
       "      <td>4507389643</td>\n",
       "      <td>0</td>\n",
       "      <td>1036118103</td>\n",
       "      <td>False</td>\n",
       "      <td>Calle San Martín de la Cantera</td>\n",
       "      <td>unclassified</td>\n",
       "      <td>74.345</td>\n",
       "      <td>LINESTRING (-102.35592 21.85416, -102.35540 21...</td>\n",
       "      <td>Aguascalientes</td>\n",
       "      <td>...</td>\n",
       "      <td>0.027</td>\n",
       "      <td>NaN</td>\n",
       "      <td>NaN</td>\n",
       "      <td>NaN</td>\n",
       "      <td>NaN</td>\n",
       "      <td>NaN</td>\n",
       "      <td>NaN</td>\n",
       "      <td>NaN</td>\n",
       "      <td>NaN</td>\n",
       "      <td>NaN</td>\n",
       "    </tr>\n",
       "  </tbody>\n",
       "</table>\n",
       "<p>1 rows × 21 columns</p>\n",
       "</div>"
      ],
      "text/plain": [
       "            u           v  key       osmid  oneway  \\\n",
       "0  1417904191  4507389643    0  1036118103   False   \n",
       "\n",
       "                             name       highway  length  \\\n",
       "0  Calle San Martín de la Cantera  unclassified  74.345   \n",
       "\n",
       "                                            geometry            city  ...  \\\n",
       "0  LINESTRING (-102.35592 21.85416, -102.35540 21...  Aguascalientes  ...   \n",
       "\n",
       "   grade_abs  lanes bridge maxspeed  ref access junction service tunnel width  \n",
       "0      0.027    NaN    NaN      NaN  NaN    NaN      NaN     NaN    NaN   NaN  \n",
       "\n",
       "[1 rows x 21 columns]"
      ]
     },
     "execution_count": 27,
     "metadata": {},
     "output_type": "execute_result"
    }
   ],
   "source": [
    "edges_elev_mde.head(1)"
   ]
  },
  {
   "cell_type": "code",
   "execution_count": 20,
   "id": "4e169db9-eace-44dd-b773-ebedde512d00",
   "metadata": {},
   "outputs": [
    {
     "data": {
      "text/html": [
       "<div>\n",
       "<style scoped>\n",
       "    .dataframe tbody tr th:only-of-type {\n",
       "        vertical-align: middle;\n",
       "    }\n",
       "\n",
       "    .dataframe tbody tr th {\n",
       "        vertical-align: top;\n",
       "    }\n",
       "\n",
       "    .dataframe thead th {\n",
       "        text-align: right;\n",
       "    }\n",
       "</style>\n",
       "<table border=\"1\" class=\"dataframe\">\n",
       "  <thead>\n",
       "    <tr style=\"text-align: right;\">\n",
       "      <th></th>\n",
       "      <th>osmid</th>\n",
       "      <th>x</th>\n",
       "      <th>y</th>\n",
       "      <th>street_count</th>\n",
       "      <th>city</th>\n",
       "      <th>elevation</th>\n",
       "      <th>geometry</th>\n",
       "    </tr>\n",
       "  </thead>\n",
       "  <tbody>\n",
       "    <tr>\n",
       "      <th>0</th>\n",
       "      <td>1417904191</td>\n",
       "      <td>-102.355922</td>\n",
       "      <td>21.85416</td>\n",
       "      <td>3.0</td>\n",
       "      <td>Aguascalientes</td>\n",
       "      <td>1867.0</td>\n",
       "      <td>POINT (-102.35592 21.85416)</td>\n",
       "    </tr>\n",
       "  </tbody>\n",
       "</table>\n",
       "</div>"
      ],
      "text/plain": [
       "        osmid           x         y  street_count            city  elevation  \\\n",
       "0  1417904191 -102.355922  21.85416           3.0  Aguascalientes     1867.0   \n",
       "\n",
       "                      geometry  \n",
       "0  POINT (-102.35592 21.85416)  "
      ]
     },
     "execution_count": 20,
     "metadata": {},
     "output_type": "execute_result"
    }
   ],
   "source": [
    "nodes_elev_mde.head(1)"
   ]
  },
  {
   "cell_type": "markdown",
   "id": "e390f551-3321-4a8e-9f4f-9dae50e41b93",
   "metadata": {
    "jp-MarkdownHeadingCollapsed": true
   },
   "source": [
    "## Test (After running Aguascalientes on Script 08 on Visual) "
   ]
  },
  {
   "cell_type": "code",
   "execution_count": 2,
   "id": "42479b3c-1fb8-445d-949f-0d3f9cece0a6",
   "metadata": {},
   "outputs": [],
   "source": [
    "# Load test\n",
    "saved_schema = 'osmnx'\n",
    "saved_nodes_table = 'nodes_elevation_23_point'\n",
    "saved_edges_table = 'edges_elevation_23_line'"
   ]
  },
  {
   "cell_type": "code",
   "execution_count": 3,
   "id": "6752c7ed-011d-45b0-9ad7-738e4140bec4",
   "metadata": {},
   "outputs": [
    {
     "name": "stdout",
     "output_type": "stream",
     "text": [
      "(55006, 6)\n"
     ]
    },
    {
     "data": {
      "text/html": [
       "<div>\n",
       "<style scoped>\n",
       "    .dataframe tbody tr th:only-of-type {\n",
       "        vertical-align: middle;\n",
       "    }\n",
       "\n",
       "    .dataframe tbody tr th {\n",
       "        vertical-align: top;\n",
       "    }\n",
       "\n",
       "    .dataframe thead th {\n",
       "        text-align: right;\n",
       "    }\n",
       "</style>\n",
       "<table border=\"1\" class=\"dataframe\">\n",
       "  <thead>\n",
       "    <tr style=\"text-align: right;\">\n",
       "      <th></th>\n",
       "      <th>osmid</th>\n",
       "      <th>x</th>\n",
       "      <th>y</th>\n",
       "      <th>street_count</th>\n",
       "      <th>elevation</th>\n",
       "      <th>geometry</th>\n",
       "    </tr>\n",
       "  </thead>\n",
       "  <tbody>\n",
       "    <tr>\n",
       "      <th>0</th>\n",
       "      <td>1417904191</td>\n",
       "      <td>-102.355922</td>\n",
       "      <td>21.85416</td>\n",
       "      <td>3.0</td>\n",
       "      <td>1867.0</td>\n",
       "      <td>POINT (-102.35592 21.85416)</td>\n",
       "    </tr>\n",
       "  </tbody>\n",
       "</table>\n",
       "</div>"
      ],
      "text/plain": [
       "        osmid           x         y  street_count  elevation  \\\n",
       "0  1417904191 -102.355922  21.85416           3.0     1867.0   \n",
       "\n",
       "                      geometry  \n",
       "0  POINT (-102.35592 21.85416)  "
      ]
     },
     "execution_count": 3,
     "metadata": {},
     "output_type": "execute_result"
    }
   ],
   "source": [
    "query = f\"SELECT * FROM {saved_schema}.{saved_nodes_table}\"\n",
    "nodes_test = aup.gdf_from_query(query)\n",
    "\n",
    "# Show\n",
    "print(nodes_test.shape)\n",
    "nodes_test.head(1)"
   ]
  },
  {
   "cell_type": "code",
   "execution_count": 4,
   "id": "3eff3814-f0f3-462f-8eac-937beaa0b78d",
   "metadata": {},
   "outputs": [
    {
     "name": "stdout",
     "output_type": "stream",
     "text": [
      "(128284, 20)\n"
     ]
    },
    {
     "data": {
      "text/html": [
       "<div>\n",
       "<style scoped>\n",
       "    .dataframe tbody tr th:only-of-type {\n",
       "        vertical-align: middle;\n",
       "    }\n",
       "\n",
       "    .dataframe tbody tr th {\n",
       "        vertical-align: top;\n",
       "    }\n",
       "\n",
       "    .dataframe thead th {\n",
       "        text-align: right;\n",
       "    }\n",
       "</style>\n",
       "<table border=\"1\" class=\"dataframe\">\n",
       "  <thead>\n",
       "    <tr style=\"text-align: right;\">\n",
       "      <th></th>\n",
       "      <th>u</th>\n",
       "      <th>v</th>\n",
       "      <th>key</th>\n",
       "      <th>osmid</th>\n",
       "      <th>oneway</th>\n",
       "      <th>name</th>\n",
       "      <th>highway</th>\n",
       "      <th>length</th>\n",
       "      <th>geometry</th>\n",
       "      <th>grade</th>\n",
       "      <th>grade_abs</th>\n",
       "      <th>lanes</th>\n",
       "      <th>bridge</th>\n",
       "      <th>maxspeed</th>\n",
       "      <th>ref</th>\n",
       "      <th>access</th>\n",
       "      <th>junction</th>\n",
       "      <th>service</th>\n",
       "      <th>tunnel</th>\n",
       "      <th>width</th>\n",
       "    </tr>\n",
       "  </thead>\n",
       "  <tbody>\n",
       "    <tr>\n",
       "      <th>0</th>\n",
       "      <td>1417904191</td>\n",
       "      <td>4507389643</td>\n",
       "      <td>0</td>\n",
       "      <td>1036118103</td>\n",
       "      <td>False</td>\n",
       "      <td>Calle San Martín de la Cantera</td>\n",
       "      <td>unclassified</td>\n",
       "      <td>74.345</td>\n",
       "      <td>LINESTRING (-102.35592 21.85416, -102.35540 21...</td>\n",
       "      <td>0.027</td>\n",
       "      <td>0.027</td>\n",
       "      <td>None</td>\n",
       "      <td>None</td>\n",
       "      <td>None</td>\n",
       "      <td>None</td>\n",
       "      <td>None</td>\n",
       "      <td>None</td>\n",
       "      <td>None</td>\n",
       "      <td>None</td>\n",
       "      <td>None</td>\n",
       "    </tr>\n",
       "  </tbody>\n",
       "</table>\n",
       "</div>"
      ],
      "text/plain": [
       "            u           v  key       osmid  oneway  \\\n",
       "0  1417904191  4507389643    0  1036118103   False   \n",
       "\n",
       "                             name       highway  length  \\\n",
       "0  Calle San Martín de la Cantera  unclassified  74.345   \n",
       "\n",
       "                                            geometry  grade  grade_abs lanes  \\\n",
       "0  LINESTRING (-102.35592 21.85416, -102.35540 21...  0.027      0.027  None   \n",
       "\n",
       "  bridge maxspeed   ref access junction service tunnel width  \n",
       "0   None     None  None   None     None    None   None  None  "
      ]
     },
     "execution_count": 4,
     "metadata": {},
     "output_type": "execute_result"
    }
   ],
   "source": [
    "query = f\"SELECT * FROM {saved_schema}.{saved_edges_table}\"\n",
    "edges_test = aup.gdf_from_query(query)\n",
    "\n",
    "# Show\n",
    "print(edges_test.shape)\n",
    "edges_test.head(1)"
   ]
  },
  {
   "cell_type": "code",
   "execution_count": null,
   "id": "d3f2110d-11b9-4f82-a783-d2fd3cf0e7d6",
   "metadata": {},
   "outputs": [],
   "source": []
  }
 ],
 "metadata": {
  "kernelspec": {
   "display_name": "GDS-10.0",
   "language": "python",
   "name": "gds"
  },
  "language_info": {
   "codemirror_mode": {
    "name": "ipython",
    "version": 3
   },
   "file_extension": ".py",
   "mimetype": "text/x-python",
   "name": "python",
   "nbconvert_exporter": "python",
   "pygments_lexer": "ipython3",
   "version": "3.9.18"
  }
 },
 "nbformat": 4,
 "nbformat_minor": 5
}
