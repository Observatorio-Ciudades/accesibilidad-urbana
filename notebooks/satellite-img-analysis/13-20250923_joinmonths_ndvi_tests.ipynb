{
 "cells": [
  {
   "cell_type": "markdown",
   "id": "a1640b71-bc29-4f82-b7ac-20dc3e642f0c",
   "metadata": {},
   "source": [
    "# 20250923 join months test with ndvi"
   ]
  },
  {
   "cell_type": "markdown",
   "id": "e7761667-902b-4898-8145-26b06f92aa6d",
   "metadata": {},
   "source": [
    "Previous context: After finding the problem on notebook 20250903 (Specific date analysis in some cities could not provide enough raster tiles for the area of interest to be processed), the implemented solution (Backup: Processing all rasters found in various dates within each month, all together as a unified mosaic) was succesfully tested in Puebla's temperature analysis.\n",
    "\n",
    "This notebook tests the process using a city with only two raster tiles in order to __analyse whether joining all tiles in a month plan creates variability depending on the raster tile footprint__ since the process joins __different dates and hours together.__"
   ]
  },
  {
   "cell_type": "markdown",
   "id": "56847bc7-ec74-4878-b54d-a4718aaf56ce",
   "metadata": {},
   "source": [
    "* __Tuxtla__ (2 tiles) started with 40% missing, ended up _Missing more than 50 percent of data points_ when 2/2021 failed.\n",
    "* __Piedad__ (2 tiles) started with 39% missing and ended with 39% missing. [Chosen as test]"
   ]
  },
  {
   "cell_type": "markdown",
   "id": "1d8879c8-b464-415c-80fa-7c6650d83de7",
   "metadata": {},
   "source": [
    "## __Import libraries__"
   ]
  },
  {
   "cell_type": "code",
   "execution_count": 1,
   "id": "46abdca3-42b0-49d2-b303-e807b8248bcc",
   "metadata": {},
   "outputs": [
    {
     "name": "stdout",
     "output_type": "stream",
     "text": [
      "/home/jovyan/accesibilidad-urbana/\n"
     ]
    }
   ],
   "source": [
    "from pathlib import Path\n",
    "current_path = Path().resolve()\n",
    "for parent in current_path.parents:\n",
    "    if parent.name == \"accesibilidad-urbana\":\n",
    "        module_path = str(parent)+'/'\n",
    "        break\n",
    "print(module_path)"
   ]
  },
  {
   "cell_type": "code",
   "execution_count": 2,
   "id": "768397c2-552b-4315-b329-e674740f77de",
   "metadata": {},
   "outputs": [],
   "source": [
    "import os\n",
    "import sys\n",
    "\n",
    "import pandas as pd\n",
    "import geopandas as gpd\n",
    "import osmnx as ox\n",
    "import numpy as np\n",
    "\n",
    "import matplotlib.pyplot as plt\n",
    "import seaborn as sns\n",
    "\n",
    "import warnings\n",
    "warnings.simplefilter(action='ignore', category=FutureWarning)\n",
    "\n",
    "if module_path not in sys.path:\n",
    "    sys.path.append(module_path)\n",
    "import aup"
   ]
  },
  {
   "cell_type": "markdown",
   "id": "bf1d0688-10ab-46ff-9ea7-38f9fa0f5729",
   "metadata": {},
   "source": [
    "## __From Script 19: Config notebook__"
   ]
  },
  {
   "cell_type": "code",
   "execution_count": 4,
   "id": "384d6428-f20f-4a1b-9146-c80f9aabc3fd",
   "metadata": {},
   "outputs": [],
   "source": [
    "city = 'Piedad'\n",
    "# Saving\n",
    "save_output_database = False\n",
    "# In case of error when saving\n",
    "already_processed_res = []"
   ]
  },
  {
   "cell_type": "code",
   "execution_count": 5,
   "id": "fe65653e-9388-4104-b462-d06348340ec3",
   "metadata": {},
   "outputs": [
    {
     "name": "stdout",
     "output_type": "stream",
     "text": [
      "/home/jovyan/accesibilidad-urbana/data/processed/tmp_ndvi/\n"
     ]
    }
   ],
   "source": [
    "band_name_dict = {'nir08':[False], #If GSD(resolution) of band is different, set True.\n",
    "                   'red':[False], #If GSD(resolution) of band is different, set True.\n",
    "                   'eq':['(nir08-red)/(nir08+red)']}\n",
    "query_sat = {\"eo:cloud_cover\": {\"lt\": 15},\n",
    "          \"platform\": {\"in\": [\"landsat-8\", \"landsat-9\"]}}\n",
    "index_analysis = 'ndvi'\n",
    "tmp_dir = module_path + f'data/processed/tmp_{index_analysis}/'\n",
    "res = [8,11]\n",
    "freq = 'MS'\n",
    "start_date = '2018-01-01'\n",
    "end_date = '2023-12-31'\n",
    "satellite = 'landsat-c2-l2'\n",
    "save = True  # True\n",
    "del_data = False # True\n",
    "\n",
    "print(tmp_dir)"
   ]
  },
  {
   "cell_type": "markdown",
   "id": "612b2bf9-6770-4f51-a9bd-a1122f8cd625",
   "metadata": {},
   "source": [
    "## __From Script 19: Main function__"
   ]
  },
  {
   "cell_type": "markdown",
   "id": "d8f4d695-6bf8-4617-ad17-02215219e815",
   "metadata": {},
   "source": [
    "### __Main function__ - Create hex_city"
   ]
  },
  {
   "cell_type": "code",
   "execution_count": 6,
   "id": "49481ebf-ff02-4343-aa83-8fb96a2edbbb",
   "metadata": {},
   "outputs": [
    {
     "name": "stdout",
     "output_type": "stream",
     "text": [
      "Downloaded 173 hexagon features\n",
      "(173, 2)\n",
      "epsg:4326\n"
     ]
    },
    {
     "data": {
      "text/html": [
       "<div>\n",
       "<style scoped>\n",
       "    .dataframe tbody tr th:only-of-type {\n",
       "        vertical-align: middle;\n",
       "    }\n",
       "\n",
       "    .dataframe tbody tr th {\n",
       "        vertical-align: top;\n",
       "    }\n",
       "\n",
       "    .dataframe thead th {\n",
       "        text-align: right;\n",
       "    }\n",
       "</style>\n",
       "<table border=\"1\" class=\"dataframe\">\n",
       "  <thead>\n",
       "    <tr style=\"text-align: right;\">\n",
       "      <th></th>\n",
       "      <th>hex_id_8</th>\n",
       "      <th>geometry</th>\n",
       "    </tr>\n",
       "  </thead>\n",
       "  <tbody>\n",
       "    <tr>\n",
       "      <th>0</th>\n",
       "      <td>884981192dfffff</td>\n",
       "      <td>POLYGON ((-101.69493 20.39082, -101.69039 20.3...</td>\n",
       "    </tr>\n",
       "    <tr>\n",
       "      <th>1</th>\n",
       "      <td>88498112b5fffff</td>\n",
       "      <td>POLYGON ((-102.00760 20.33191, -102.00306 20.3...</td>\n",
       "    </tr>\n",
       "  </tbody>\n",
       "</table>\n",
       "</div>"
      ],
      "text/plain": [
       "          hex_id_8                                           geometry\n",
       "0  884981192dfffff  POLYGON ((-101.69493 20.39082, -101.69039 20.3...\n",
       "1  88498112b5fffff  POLYGON ((-102.00760 20.33191, -102.00306 20.3..."
      ]
     },
     "execution_count": 6,
     "metadata": {},
     "output_type": "execute_result"
    }
   ],
   "source": [
    "###############################\n",
    "### Create city area of interest with biggest hexs\n",
    "big_res = min(res)\n",
    "schema_hex = 'hexgrid'\n",
    "table_hex = f'hexgrid_{big_res}_city_2020'\n",
    "\n",
    "# Download hexagons with type=urban\n",
    "type = 'urban'\n",
    "query = f\"SELECT hex_id_{big_res},geometry FROM {schema_hex}.{table_hex} WHERE \\\"city\\\" = '{city}\\' AND \\\"type\\\" = '{type}\\'\"\n",
    "hex_urban = aup.gdf_from_query(query, geometry_col='geometry')\n",
    "\n",
    "# Download hexagons with type=rural within 500m buffer\n",
    "poly = hex_urban.to_crs(\"EPSG:6372\").buffer(500).reset_index()\n",
    "poly = poly.to_crs(\"EPSG:4326\")\n",
    "poly_wkt = poly.dissolve().geometry.to_wkt()[0]\n",
    "type = 'rural'\n",
    "query = f\"SELECT hex_id_{big_res},geometry FROM {schema_hex}.{table_hex} WHERE \\\"city\\\" = '{city}\\' AND \\\"type\\\" = '{type}\\' AND (ST_Intersects(geometry, \\'SRID=4326;{poly_wkt}\\'))\"\n",
    "hex_rural = aup.gdf_from_query(query, geometry_col='geometry')\n",
    "\n",
    "# Concatenate urban and rural hex\n",
    "hex_city = pd.concat([hex_urban, hex_rural])\n",
    "\n",
    "# Show\n",
    "print(f'Downloaded {len(hex_city)} hexagon features')\n",
    "print(hex_city.shape)\n",
    "print(hex_city.crs)\n",
    "hex_city.head(2)"
   ]
  },
  {
   "cell_type": "markdown",
   "id": "9ca915e5-5f24-468c-a4af-124b66026d0a",
   "metadata": {},
   "source": [
    "### __Main function__ - download_raster_from_pc"
   ]
  },
  {
   "cell_type": "markdown",
   "id": "6d8349fe-f261-4e25-acf4-2f8206570cba",
   "metadata": {},
   "source": [
    "#### __download_raster_from_pc__ - Try entire function with compute_unavailable_dates=False"
   ]
  },
  {
   "cell_type": "code",
   "execution_count": 7,
   "id": "c1616991-1028-490f-8295-16b181edebbd",
   "metadata": {},
   "outputs": [
    {
     "name": "stderr",
     "output_type": "stream",
     "text": [
      "  3%|███▍                                                                                                                       | 2/72 [01:16<44:11, 37.88s/it]<string>:1: RuntimeWarning: overflow encountered in add\n",
      "  4%|█████▏                                                                                                                     | 3/72 [01:51<41:56, 36.47s/it]<string>:1: RuntimeWarning: overflow encountered in add\n",
      "  6%|██████▊                                                                                                                    | 4/72 [02:27<41:09, 36.32s/it]<string>:1: RuntimeWarning: overflow encountered in add\n",
      " 22%|███████████████████████████                                                                                               | 16/72 [05:32<17:45, 19.03s/it]<string>:1: RuntimeWarning: overflow encountered in add\n",
      " 24%|████████████████████████████▊                                                                                             | 17/72 [06:07<20:10, 22.02s/it]<string>:1: RuntimeWarning: overflow encountered in add\n",
      " 29%|███████████████████████████████████▌                                                                                      | 21/72 [06:41<12:51, 15.12s/it]<string>:1: RuntimeWarning: overflow encountered in add\n",
      " 38%|█████████████████████████████████████████████▊                                                                            | 27/72 [08:58<15:43, 20.97s/it]<string>:1: RuntimeWarning: overflow encountered in add\n",
      " 39%|███████████████████████████████████████████████▍                                                                          | 28/72 [09:32<17:23, 23.72s/it]<string>:1: RuntimeWarning: overflow encountered in add\n",
      " 49%|███████████████████████████████████████████████████████████▎                                                              | 35/72 [10:49<08:15, 13.40s/it]<string>:1: RuntimeWarning: overflow encountered in add\n",
      " 54%|██████████████████████████████████████████████████████████████████                                                        | 39/72 [12:37<11:03, 20.11s/it]<string>:1: RuntimeWarning: overflow encountered in add\n",
      " 56%|███████████████████████████████████████████████████████████████████▊                                                      | 40/72 [13:12<12:16, 23.03s/it]<string>:1: RuntimeWarning: overflow encountered in add\n",
      " 57%|█████████████████████████████████████████████████████████████████████▍                                                    | 41/72 [13:49<13:24, 25.95s/it]<string>:1: RuntimeWarning: overflow encountered in add\n",
      " 60%|████████████████████████████████████████████████████████████████████████▊                                                 | 43/72 [14:26<11:07, 23.03s/it]<string>:1: RuntimeWarning: overflow encountered in add\n",
      " 71%|██████████████████████████████████████████████████████████████████████████████████████▍                                   | 51/72 [18:21<10:46, 30.77s/it]<string>:1: RuntimeWarning: overflow encountered in add\n",
      " 72%|████████████████████████████████████████████████████████████████████████████████████████                                  | 52/72 [18:54<10:25, 31.29s/it]<string>:1: RuntimeWarning: overflow encountered in add\n",
      " 81%|██████████████████████████████████████████████████████████████████████████████████████████████████▎                       | 58/72 [20:01<03:33, 15.25s/it]<string>:1: RuntimeWarning: overflow encountered in add\n",
      " 83%|█████████████████████████████████████████████████████████████████████████████████████████████████████▋                    | 60/72 [21:07<04:09, 20.78s/it]<string>:1: RuntimeWarning: overflow encountered in add\n",
      " 88%|██████████████████████████████████████████████████████████████████████████████████████████████████████████▊               | 63/72 [22:46<04:08, 27.61s/it]<string>:1: RuntimeWarning: overflow encountered in add\n",
      " 89%|████████████████████████████████████████████████████████████████████████████████████████████████████████████▍             | 64/72 [23:20<03:54, 29.28s/it]<string>:1: RuntimeWarning: overflow encountered in add\n",
      " 90%|██████████████████████████████████████████████████████████████████████████████████████████████████████████████▏           | 65/72 [23:53<03:31, 30.24s/it]<string>:1: RuntimeWarning: overflow encountered in add\n",
      " 92%|███████████████████████████████████████████████████████████████████████████████████████████████████████████████▊          | 66/72 [24:27<03:08, 31.35s/it]<string>:1: RuntimeWarning: overflow encountered in add\n",
      " 96%|████████████████████████████████████████████████████████████████████████████████████████████████████████████████████▉     | 69/72 [25:02<01:01, 20.52s/it]<string>:1: RuntimeWarning: overflow encountered in add\n",
      " 97%|██████████████████████████████████████████████████████████████████████████████████████████████████████████████████████▌   | 70/72 [25:38<00:47, 23.74s/it]<string>:1: RuntimeWarning: overflow encountered in add\n",
      "100%|██████████████████████████████████████████████████████████████████████████████████████████████████████████████████████████| 72/72 [26:11<00:00, 21.83s/it]\n"
     ]
    }
   ],
   "source": [
    "df_len = aup.download_raster_from_pc(hex_city, index_analysis, city, freq,\n",
    "                                     start_date, end_date, tmp_dir, band_name_dict, \n",
    "                                     query=query_sat, satellite = satellite,\n",
    "                                     compute_unavailable_dates=True)"
   ]
  },
  {
   "cell_type": "code",
   "execution_count": 6,
   "id": "279d98dd-43f1-4aef-a254-d4043ce172cd",
   "metadata": {},
   "outputs": [],
   "source": [
    "def raster_to_hex_save(hex_gdf_i, df_len, index_analysis, tmp_dir, city, r, save, local_save=False, i=0):\n",
    "    print(f'Translating raster to hexagon for res: {r}')\n",
    "\n",
    "    hex_raster_analysis, df_raster_analysis = aup.raster_to_hex_analysis(hex_gdf_i, df_len, index_analysis,\n",
    "                                                                tmp_dir, city, r)\n",
    "    print('Finished assigning raster data to hexagons')\n",
    "    print(f'df nan values: {df_raster_analysis[index_analysis].isna().sum()}')\n",
    "    if df_raster_analysis[index_analysis].isna().sum() > 0:\n",
    "        raise NanValues('NaN values are still present after processing')\n",
    "    \n",
    "    # local save (test)\n",
    "    if local_save:\n",
    "        # Create folder to store local save\n",
    "        localsave_dir = tmp_dir+'local_save/'\n",
    "        if os.path.exists(localsave_dir) == False:\n",
    "            os.mkdir(localsave_dir)\n",
    "\n",
    "        # Local save\n",
    "        #hex_raster_analysis.to_file(tmp_dir+'local_save/'+f'{city}_{index_analysis}_HexRes{r}_v{i}.geojson')\n",
    "        #df_raster_analysis.to_csv(localsave_dir+f'{city}_{index_analysis}_HexRes{r}_v{i}.csv')\n",
    "\n",
    "    # Save - upload to database\n",
    "    if save:\n",
    "        upload_chunk = 150000\n",
    "        print(f'Starting upload for res: {r}')\n",
    "\n",
    "        if r == 8:\n",
    "            # df upload\n",
    "            #aup.df_to_db_slow(df_raster_analysis, f'{index_analysis}_complete_dataset_hex',\n",
    "            #                'raster_analysis', if_exists='append', chunksize=upload_chunk)\n",
    "            # gdf upload\n",
    "            aup.gdf_to_db_slow(hex_raster_analysis, f'{index_analysis}_analysis_hex',\n",
    "                            'raster_analysis', if_exists='append')\n",
    "\n",
    "        else:\n",
    "            # df upload\n",
    "            #limit_len = 5000000\n",
    "            #if len(df_raster_analysis)>limit_len:\n",
    "            #    c_upload = len(df_raster_analysis)/limit_len\n",
    "            #    for k in range(int(c_upload)+1):\n",
    "            #        print(f\"Starting range k = {k} of {int(c_upload)}\")\n",
    "            #        df_inter_upload = df_raster_analysis.iloc[int(limit_len*k):int(limit_len*(1+k))].copy()\n",
    "            #        aup.df_to_db(df_inter_upload,f'{index_analysis}_complete_dataset_hex',\n",
    "            #                        'raster_analysis', if_exists='append')\n",
    "            #else:\n",
    "            #    aup.df_to_db(df_raster_analysis,f'{index_analysis}_complete_dataset_hex',\n",
    "            #                        'raster_analysis', if_exists='append')\n",
    "            # gdf upload\n",
    "            aup.gdf_to_db_slow(hex_raster_analysis, f'{index_analysis}_analysis_hex',\n",
    "                            'raster_analysis', if_exists='append')\n",
    "        print(f'Finished uploading data for res{r}')\n",
    "        \n",
    "    # delete variables\n",
    "    del df_raster_analysis\n",
    "    del hex_raster_analysis"
   ]
  },
  {
   "cell_type": "code",
   "execution_count": 8,
   "id": "e54c2040-a79d-4698-bf56-5f4995607988",
   "metadata": {},
   "outputs": [
    {
     "name": "stdout",
     "output_type": "stream",
     "text": [
      "Started loading hexagons at different resolutions\n",
      "Loaded hexgrid res 8\n",
      "Loaded hexgrid res 9\n",
      "Loaded hexgrid res 10\n",
      "Loaded hexgrid res 11\n",
      "Finished creating hexagons at different resolutions\n",
      "---------------------------------------\n",
      "STARTING processing for resolution 8.\n",
      "hex_gdf len smaller than processing chunk\n",
      "Translating raster to hexagon for res: 8\n"
     ]
    },
    {
     "name": "stderr",
     "output_type": "stream",
     "text": [
      "  0%|                                                                                | 0/6 [00:00<?, ?it/s]\n",
      " 17%|████████████                                                            | 1/6 [00:03<00:18,  3.69s/it]\u001b[A\n",
      "\n",
      "  0%|                                                                               | 0/12 [00:03<?, ?it/s]\u001b[A\u001b[A\n",
      "Exception during reset or similar\n",
      "Traceback (most recent call last):\n",
      "  File \"/opt/conda/envs/gds/lib/python3.9/site-packages/sqlalchemy/pool/base.py\", line 988, in _finalize_fairy\n",
      "    fairy._reset(\n",
      "  File \"/opt/conda/envs/gds/lib/python3.9/site-packages/sqlalchemy/pool/base.py\", line 1438, in _reset\n",
      "    pool._dialect.do_rollback(self)\n",
      "  File \"/opt/conda/envs/gds/lib/python3.9/site-packages/sqlalchemy/engine/default.py\", line 692, in do_rollback\n",
      "    dbapi_connection.rollback()\n",
      "psycopg2.OperationalError: SSL error: wrong version number\n",
      "\n",
      "Exception during reset or similar\n",
      "Traceback (most recent call last):\n",
      "  File \"/opt/conda/envs/gds/lib/python3.9/site-packages/sqlalchemy/pool/base.py\", line 988, in _finalize_fairy\n",
      "    fairy._reset(\n",
      "  File \"/opt/conda/envs/gds/lib/python3.9/site-packages/sqlalchemy/pool/base.py\", line 1438, in _reset\n",
      "    pool._dialect.do_rollback(self)\n",
      "  File \"/opt/conda/envs/gds/lib/python3.9/site-packages/sqlalchemy/engine/default.py\", line 692, in do_rollback\n",
      "    dbapi_connection.rollback()\n",
      "psycopg2.OperationalError: SSL error: wrong version number\n",
      "\n",
      "Exception during reset or similar\n",
      "Traceback (most recent call last):\n",
      "  File \"/opt/conda/envs/gds/lib/python3.9/site-packages/sqlalchemy/pool/base.py\", line 988, in _finalize_fairy\n",
      "    fairy._reset(\n",
      "  File \"/opt/conda/envs/gds/lib/python3.9/site-packages/sqlalchemy/pool/base.py\", line 1438, in _reset\n",
      "    pool._dialect.do_rollback(self)\n",
      "  File \"/opt/conda/envs/gds/lib/python3.9/site-packages/sqlalchemy/engine/default.py\", line 692, in do_rollback\n",
      "    dbapi_connection.rollback()\n",
      "psycopg2.OperationalError: SSL error: cipher operation failed\n",
      "\n",
      "Exception during reset or similar\n",
      "Traceback (most recent call last):\n",
      "  File \"/opt/conda/envs/gds/lib/python3.9/site-packages/sqlalchemy/pool/base.py\", line 988, in _finalize_fairy\n",
      "    fairy._reset(\n",
      "  File \"/opt/conda/envs/gds/lib/python3.9/site-packages/sqlalchemy/pool/base.py\", line 1438, in _reset\n",
      "    pool._dialect.do_rollback(self)\n",
      "  File \"/opt/conda/envs/gds/lib/python3.9/site-packages/sqlalchemy/engine/default.py\", line 692, in do_rollback\n",
      "    dbapi_connection.rollback()\n",
      "psycopg2.OperationalError: SSL error: wrong version number\n",
      "\n",
      "Exception during reset or similar\n",
      "Traceback (most recent call last):\n",
      "  File \"/opt/conda/envs/gds/lib/python3.9/site-packages/sqlalchemy/pool/base.py\", line 988, in _finalize_fairy\n",
      "    fairy._reset(\n",
      "  File \"/opt/conda/envs/gds/lib/python3.9/site-packages/sqlalchemy/pool/base.py\", line 1438, in _reset\n",
      "    pool._dialect.do_rollback(self)\n",
      "  File \"/opt/conda/envs/gds/lib/python3.9/site-packages/sqlalchemy/engine/default.py\", line 692, in do_rollback\n",
      "    dbapi_connection.rollback()\n",
      "psycopg2.OperationalError: SSL error: wrong version number\n",
      "\n",
      "Exception during reset or similar\n",
      "Traceback (most recent call last):\n",
      "  File \"/opt/conda/envs/gds/lib/python3.9/site-packages/sqlalchemy/pool/base.py\", line 988, in _finalize_fairy\n",
      "    fairy._reset(\n",
      "  File \"/opt/conda/envs/gds/lib/python3.9/site-packages/sqlalchemy/pool/base.py\", line 1438, in _reset\n",
      "    pool._dialect.do_rollback(self)\n",
      "  File \"/opt/conda/envs/gds/lib/python3.9/site-packages/sqlalchemy/engine/default.py\", line 692, in do_rollback\n",
      "    dbapi_connection.rollback()\n",
      "psycopg2.OperationalError: SSL error: wrong version number\n",
      "\n",
      "Exception during reset or similar\n",
      "Traceback (most recent call last):\n",
      "  File \"/opt/conda/envs/gds/lib/python3.9/site-packages/sqlalchemy/pool/base.py\", line 988, in _finalize_fairy\n",
      "    fairy._reset(\n",
      "  File \"/opt/conda/envs/gds/lib/python3.9/site-packages/sqlalchemy/pool/base.py\", line 1438, in _reset\n",
      "    pool._dialect.do_rollback(self)\n",
      "  File \"/opt/conda/envs/gds/lib/python3.9/site-packages/sqlalchemy/engine/default.py\", line 692, in do_rollback\n",
      "    dbapi_connection.rollback()\n",
      "psycopg2.OperationalError: SSL error: wrong version number\n",
      "\n",
      "Exception during reset or similar\n",
      "Traceback (most recent call last):\n",
      "  File \"/opt/conda/envs/gds/lib/python3.9/site-packages/sqlalchemy/pool/base.py\", line 988, in _finalize_fairy\n",
      "    fairy._reset(\n",
      "  File \"/opt/conda/envs/gds/lib/python3.9/site-packages/sqlalchemy/pool/base.py\", line 1438, in _reset\n",
      "    pool._dialect.do_rollback(self)\n",
      "  File \"/opt/conda/envs/gds/lib/python3.9/site-packages/sqlalchemy/engine/default.py\", line 692, in do_rollback\n",
      "    dbapi_connection.rollback()\n",
      "psycopg2.OperationalError: SSL SYSCALL error: EOF detected\n",
      "\n",
      "Exception during reset or similar\n",
      "Traceback (most recent call last):\n",
      "  File \"/opt/conda/envs/gds/lib/python3.9/site-packages/sqlalchemy/pool/base.py\", line 988, in _finalize_fairy\n",
      "    fairy._reset(\n",
      "  File \"/opt/conda/envs/gds/lib/python3.9/site-packages/sqlalchemy/pool/base.py\", line 1438, in _reset\n",
      "    pool._dialect.do_rollback(self)\n",
      "  File \"/opt/conda/envs/gds/lib/python3.9/site-packages/sqlalchemy/engine/default.py\", line 692, in do_rollback\n",
      "    dbapi_connection.rollback()\n",
      "psycopg2.OperationalError: SSL SYSCALL error: EOF detected\n",
      "\n",
      "Exception during reset or similar\n",
      "Traceback (most recent call last):\n",
      "  File \"/opt/conda/envs/gds/lib/python3.9/site-packages/sqlalchemy/pool/base.py\", line 988, in _finalize_fairy\n",
      "    fairy._reset(\n",
      "  File \"/opt/conda/envs/gds/lib/python3.9/site-packages/sqlalchemy/pool/base.py\", line 1438, in _reset\n",
      "    pool._dialect.do_rollback(self)\n",
      "  File \"/opt/conda/envs/gds/lib/python3.9/site-packages/sqlalchemy/engine/default.py\", line 692, in do_rollback\n",
      "    dbapi_connection.rollback()\n",
      "psycopg2.OperationalError: SSL SYSCALL error: EOF detected\n",
      "\n",
      "Exception during reset or similar\n",
      "Traceback (most recent call last):\n",
      "  File \"/opt/conda/envs/gds/lib/python3.9/site-packages/sqlalchemy/pool/base.py\", line 988, in _finalize_fairy\n",
      "    fairy._reset(\n",
      "  File \"/opt/conda/envs/gds/lib/python3.9/site-packages/sqlalchemy/pool/base.py\", line 1438, in _reset\n",
      "    pool._dialect.do_rollback(self)\n",
      "  File \"/opt/conda/envs/gds/lib/python3.9/site-packages/sqlalchemy/engine/default.py\", line 692, in do_rollback\n",
      "    dbapi_connection.rollback()\n",
      "psycopg2.OperationalError: SSL SYSCALL error: EOF detected\n",
      "\n",
      "Exception during reset or similar\n",
      "Traceback (most recent call last):\n",
      "  File \"/opt/conda/envs/gds/lib/python3.9/site-packages/sqlalchemy/pool/base.py\", line 988, in _finalize_fairy\n",
      "    fairy._reset(\n",
      "  File \"/opt/conda/envs/gds/lib/python3.9/site-packages/sqlalchemy/pool/base.py\", line 1438, in _reset\n",
      "    pool._dialect.do_rollback(self)\n",
      "  File \"/opt/conda/envs/gds/lib/python3.9/site-packages/sqlalchemy/engine/default.py\", line 692, in do_rollback\n",
      "    dbapi_connection.rollback()\n",
      "psycopg2.OperationalError: SSL SYSCALL error: EOF detected\n",
      "\n",
      "Exception during reset or similar\n",
      "Traceback (most recent call last):\n",
      "  File \"/opt/conda/envs/gds/lib/python3.9/site-packages/sqlalchemy/pool/base.py\", line 988, in _finalize_fairy\n",
      "    fairy._reset(\n",
      "  File \"/opt/conda/envs/gds/lib/python3.9/site-packages/sqlalchemy/pool/base.py\", line 1438, in _reset\n",
      "    pool._dialect.do_rollback(self)\n",
      "  File \"/opt/conda/envs/gds/lib/python3.9/site-packages/sqlalchemy/engine/default.py\", line 692, in do_rollback\n",
      "    dbapi_connection.rollback()\n",
      "psycopg2.OperationalError: SSL SYSCALL error: EOF detected\n",
      "\n",
      " 33%|████████████████████████                                                | 2/6 [00:08<00:17,  4.49s/it]\n",
      "  0%|                                                                               | 0/12 [00:05<?, ?it/s]\u001b[A\n",
      " 50%|████████████████████████████████████                                    | 3/6 [00:12<00:13,  4.37s/it]\n",
      "\n",
      "  0%|                                                                               | 0/12 [00:04<?, ?it/s]\u001b[A\u001b[A\n",
      " 67%|████████████████████████████████████████████████                        | 4/6 [00:17<00:08,  4.46s/it]\n",
      "  0%|                                                                               | 0/12 [00:04<?, ?it/s]\u001b[A\n",
      " 83%|████████████████████████████████████████████████████████████            | 5/6 [00:22<00:04,  4.61s/it]\n",
      "\n",
      "  0%|                                                                               | 0/12 [00:04<?, ?it/s]\u001b[A\u001b[A\n",
      "100%|████████████████████████████████████████████████████████████████████████| 6/6 [00:27<00:00,  4.60s/it]\n",
      "  0%|                                                                               | 0/12 [00:05<?, ?it/s]\n"
     ]
    },
    {
     "name": "stdout",
     "output_type": "stream",
     "text": [
      "Finished assigning raster data to hexagons\n",
      "df nan values: 0\n",
      "Starting upload for res: 8\n",
      "Finished uploading data for res8\n",
      "---------------------------------------\n",
      "STARTING processing for resolution 9.\n",
      "hex_gdf len smaller than processing chunk\n",
      "Translating raster to hexagon for res: 9\n"
     ]
    },
    {
     "name": "stderr",
     "output_type": "stream",
     "text": [
      "  0%|                                                                                | 0/6 [00:00<?, ?it/s]\n",
      " 17%|████████████                                                            | 1/6 [00:31<02:35, 31.14s/it]\u001b[A\n",
      "\n",
      "  0%|                                                                               | 0/12 [00:31<?, ?it/s]\u001b[A\u001b[A\n",
      " 33%|████████████████████████                                                | 2/6 [01:02<02:05, 31.47s/it]\n",
      "  0%|                                                                               | 0/12 [00:31<?, ?it/s]\u001b[A\n",
      " 50%|████████████████████████████████████                                    | 3/6 [01:34<01:34, 31.48s/it]\n",
      "\n",
      "  0%|                                                                               | 0/12 [00:31<?, ?it/s]\u001b[A\u001b[A\n",
      " 67%|████████████████████████████████████████████████                        | 4/6 [02:05<01:02, 31.39s/it]\n",
      "  0%|                                                                               | 0/12 [00:31<?, ?it/s]\u001b[A\n",
      " 83%|████████████████████████████████████████████████████████████            | 5/6 [02:37<00:31, 31.41s/it]\n",
      "\n",
      "  0%|                                                                               | 0/12 [00:31<?, ?it/s]\u001b[A\u001b[A\n",
      "100%|████████████████████████████████████████████████████████████████████████| 6/6 [03:08<00:00, 31.42s/it]\n",
      "  0%|                                                                               | 0/12 [00:31<?, ?it/s]\n"
     ]
    },
    {
     "name": "stdout",
     "output_type": "stream",
     "text": [
      "Finished assigning raster data to hexagons\n",
      "df nan values: 0\n",
      "Starting upload for res: 9\n",
      "Finished uploading data for res9\n",
      "---------------------------------------\n",
      "STARTING processing for resolution 10.\n",
      "hex_gdf_res len: 61051 is bigger than processing chunk: 20000\n",
      "There are 3 processes\n",
      "Processing from 0 to 20000\n",
      "Translating raster to hexagon for res: 10\n"
     ]
    },
    {
     "name": "stderr",
     "output_type": "stream",
     "text": [
      "  0%|                                                                                | 0/6 [00:00<?, ?it/s]\n",
      " 17%|████████████                                                            | 1/6 [01:13<06:06, 73.36s/it]\u001b[A\n",
      "\n",
      "  0%|                                                                               | 0/12 [01:13<?, ?it/s]\u001b[A\u001b[A\n",
      " 33%|████████████████████████                                                | 2/6 [02:24<04:48, 72.11s/it]\n",
      "  0%|                                                                               | 0/12 [01:11<?, ?it/s]\u001b[A\n",
      " 50%|████████████████████████████████████                                    | 3/6 [03:35<03:34, 71.61s/it]\n",
      "\n",
      "  0%|                                                                               | 0/12 [01:11<?, ?it/s]\u001b[A\u001b[A\n",
      " 67%|████████████████████████████████████████████████                        | 4/6 [04:50<02:26, 73.10s/it]\n",
      "  0%|                                                                               | 0/12 [01:15<?, ?it/s]\u001b[A\n",
      " 83%|████████████████████████████████████████████████████████████            | 5/6 [06:03<01:12, 72.95s/it]\n",
      "\n",
      "  0%|                                                                               | 0/12 [01:12<?, ?it/s]\u001b[A\u001b[A\n",
      "100%|████████████████████████████████████████████████████████████████████████| 6/6 [07:16<00:00, 72.67s/it]\n",
      "  0%|                                                                               | 0/12 [01:12<?, ?it/s]\n"
     ]
    },
    {
     "name": "stdout",
     "output_type": "stream",
     "text": [
      "Finished assigning raster data to hexagons\n",
      "df nan values: 0\n",
      "Starting upload for res: 10\n",
      "Finished uploading data for res10\n",
      "Processing from 20000 to 40000\n",
      "Translating raster to hexagon for res: 10\n"
     ]
    },
    {
     "name": "stderr",
     "output_type": "stream",
     "text": [
      "  0%|                                                                                | 0/6 [00:00<?, ?it/s]\n",
      " 17%|████████████                                                            | 1/6 [01:12<06:00, 72.07s/it]\u001b[A\n",
      "\n",
      "  0%|                                                                               | 0/12 [01:12<?, ?it/s]\u001b[A\u001b[A\n",
      " 33%|████████████████████████                                                | 2/6 [02:29<05:01, 75.47s/it]\n",
      "  0%|                                                                               | 0/12 [01:17<?, ?it/s]\u001b[A\n",
      " 50%|████████████████████████████████████                                    | 3/6 [03:49<03:51, 77.20s/it]\n",
      "\n",
      "  0%|                                                                               | 0/12 [01:19<?, ?it/s]\u001b[A\u001b[A\n",
      " 67%|████████████████████████████████████████████████                        | 4/6 [05:06<02:34, 77.31s/it]\n",
      "  0%|                                                                               | 0/12 [01:17<?, ?it/s]\u001b[A\n",
      " 83%|████████████████████████████████████████████████████████████            | 5/6 [06:25<01:17, 77.93s/it]\n",
      "\n",
      "  0%|                                                                               | 0/12 [01:19<?, ?it/s]\u001b[A\u001b[A\n",
      "100%|████████████████████████████████████████████████████████████████████████| 6/6 [07:44<00:00, 77.42s/it]\n",
      "  0%|                                                                               | 0/12 [01:18<?, ?it/s]\n"
     ]
    },
    {
     "name": "stdout",
     "output_type": "stream",
     "text": [
      "Finished assigning raster data to hexagons\n",
      "df nan values: 0\n",
      "Starting upload for res: 10\n",
      "Finished uploading data for res10\n",
      "Processing from 40000 to 60000\n",
      "Translating raster to hexagon for res: 10\n"
     ]
    },
    {
     "name": "stderr",
     "output_type": "stream",
     "text": [
      "  0%|                                                                                | 0/6 [00:00<?, ?it/s]\n",
      " 17%|████████████                                                            | 1/6 [01:24<07:00, 84.18s/it]\u001b[A\n",
      "\n",
      "  0%|                                                                               | 0/12 [01:24<?, ?it/s]\u001b[A\u001b[A\n",
      " 33%|████████████████████████                                                | 2/6 [02:45<05:28, 82.21s/it]\n",
      "  0%|                                                                               | 0/12 [01:20<?, ?it/s]\u001b[A\n",
      " 50%|████████████████████████████████████                                    | 3/6 [04:07<04:06, 82.19s/it]\n",
      "\n",
      "  0%|                                                                               | 0/12 [01:22<?, ?it/s]\u001b[A\u001b[A\n",
      " 67%|████████████████████████████████████████████████                        | 4/6 [05:27<02:42, 81.45s/it]\n",
      "  0%|                                                                               | 0/12 [01:20<?, ?it/s]\u001b[A\n",
      " 83%|████████████████████████████████████████████████████████████            | 5/6 [06:45<01:20, 80.34s/it]\n",
      "\n",
      "  0%|                                                                               | 0/12 [01:18<?, ?it/s]\u001b[A\u001b[A\n",
      "100%|████████████████████████████████████████████████████████████████████████| 6/6 [08:13<00:00, 82.21s/it]\n",
      "  0%|                                                                               | 0/12 [01:27<?, ?it/s]\n"
     ]
    },
    {
     "name": "stdout",
     "output_type": "stream",
     "text": [
      "Finished assigning raster data to hexagons\n",
      "df nan values: 0\n",
      "Starting upload for res: 10\n",
      "Finished uploading data for res10\n",
      "Processing from 60000 to 80000\n",
      "Translating raster to hexagon for res: 10\n"
     ]
    },
    {
     "name": "stderr",
     "output_type": "stream",
     "text": [
      "  0%|                                                                                | 0/6 [00:00<?, ?it/s]\n",
      " 17%|████████████                                                            | 1/6 [00:04<00:21,  4.32s/it]\u001b[A\n",
      "\n",
      "  0%|                                                                               | 0/12 [00:04<?, ?it/s]\u001b[A\u001b[A\n",
      " 33%|████████████████████████                                                | 2/6 [00:09<00:18,  4.63s/it]\n",
      "  0%|                                                                               | 0/12 [00:04<?, ?it/s]\u001b[A\n",
      " 50%|████████████████████████████████████                                    | 3/6 [00:14<00:14,  4.93s/it]\n",
      "\n",
      "  0%|                                                                               | 0/12 [00:05<?, ?it/s]\u001b[A\u001b[A\n",
      " 67%|████████████████████████████████████████████████                        | 4/6 [00:19<00:09,  4.93s/it]\n",
      "  0%|                                                                               | 0/12 [00:04<?, ?it/s]\u001b[A\n",
      " 83%|████████████████████████████████████████████████████████████            | 5/6 [00:24<00:05,  5.04s/it]\n",
      "\n",
      "  0%|                                                                               | 0/12 [00:05<?, ?it/s]\u001b[A\u001b[A\n",
      "100%|████████████████████████████████████████████████████████████████████████| 6/6 [00:29<00:00,  4.99s/it]\n",
      "  0%|                                                                               | 0/12 [00:05<?, ?it/s]\n"
     ]
    },
    {
     "name": "stdout",
     "output_type": "stream",
     "text": [
      "Finished assigning raster data to hexagons\n",
      "df nan values: 0\n",
      "Starting upload for res: 10\n",
      "Finished uploading data for res10\n",
      "---------------------------------------\n",
      "STARTING processing for resolution 11.\n",
      "hex_gdf_res len: 419494 is bigger than processing chunk: 20000\n",
      "There are 21 processes\n",
      "Processing from 0 to 20000\n",
      "Translating raster to hexagon for res: 11\n"
     ]
    },
    {
     "name": "stderr",
     "output_type": "stream",
     "text": [
      "  0%|                                                                                | 0/6 [00:00<?, ?it/s]\n",
      " 17%|████████████                                                            | 1/6 [01:17<06:29, 77.89s/it]\u001b[A\n",
      "\n",
      "  0%|                                                                               | 0/12 [01:17<?, ?it/s]\u001b[A\u001b[A\n",
      " 33%|████████████████████████                                                | 2/6 [02:37<05:15, 78.80s/it]\n",
      "  0%|                                                                               | 0/12 [01:19<?, ?it/s]\u001b[A\n",
      " 50%|████████████████████████████████████                                    | 3/6 [03:55<03:55, 78.60s/it]\n",
      "\n",
      "  0%|                                                                               | 0/12 [01:18<?, ?it/s]\u001b[A\u001b[A\n",
      " 67%|████████████████████████████████████████████████                        | 4/6 [05:17<02:40, 80.01s/it]\n",
      "  0%|                                                                               | 0/12 [01:22<?, ?it/s]\u001b[A\n",
      " 83%|████████████████████████████████████████████████████████████            | 5/6 [06:38<01:20, 80.23s/it]\n",
      "\n",
      "  0%|                                                                               | 0/12 [01:20<?, ?it/s]\u001b[A\u001b[A\n",
      "100%|████████████████████████████████████████████████████████████████████████| 6/6 [07:57<00:00, 79.53s/it]\n",
      "  0%|                                                                               | 0/12 [01:18<?, ?it/s]\n"
     ]
    },
    {
     "name": "stdout",
     "output_type": "stream",
     "text": [
      "Finished assigning raster data to hexagons\n",
      "df nan values: 0\n",
      "Starting upload for res: 11\n",
      "Finished uploading data for res11\n",
      "Processing from 20000 to 40000\n",
      "Translating raster to hexagon for res: 11\n"
     ]
    },
    {
     "name": "stderr",
     "output_type": "stream",
     "text": [
      "  0%|                                                                                | 0/6 [00:00<?, ?it/s]\n",
      " 17%|████████████                                                            | 1/6 [01:16<06:22, 76.50s/it]\u001b[A\n",
      "\n",
      "  0%|                                                                               | 0/12 [01:16<?, ?it/s]\u001b[A\u001b[A\n",
      " 33%|████████████████████████                                                | 2/6 [02:35<05:11, 77.81s/it]\n",
      "  0%|                                                                               | 0/12 [01:18<?, ?it/s]\u001b[A\n",
      " 50%|████████████████████████████████████                                    | 3/6 [03:52<03:53, 77.70s/it]\n",
      "\n",
      "  0%|                                                                               | 0/12 [01:17<?, ?it/s]\u001b[A\u001b[A\n",
      " 67%|████████████████████████████████████████████████                        | 4/6 [05:15<02:39, 79.59s/it]\n",
      "  0%|                                                                               | 0/12 [01:22<?, ?it/s]\u001b[A\n",
      " 83%|████████████████████████████████████████████████████████████            | 5/6 [06:35<01:19, 79.82s/it]\n",
      "\n",
      "  0%|                                                                               | 0/12 [01:20<?, ?it/s]\u001b[A\u001b[A\n",
      "100%|████████████████████████████████████████████████████████████████████████| 6/6 [07:53<00:00, 78.85s/it]\n",
      "  0%|                                                                               | 0/12 [01:17<?, ?it/s]\n"
     ]
    },
    {
     "name": "stdout",
     "output_type": "stream",
     "text": [
      "Finished assigning raster data to hexagons\n",
      "df nan values: 0\n",
      "Starting upload for res: 11\n",
      "Finished uploading data for res11\n",
      "Processing from 40000 to 60000\n",
      "Translating raster to hexagon for res: 11\n"
     ]
    },
    {
     "name": "stderr",
     "output_type": "stream",
     "text": [
      "  0%|                                                                                | 0/6 [00:00<?, ?it/s]\n",
      " 17%|████████████                                                            | 1/6 [01:15<06:17, 75.53s/it]\u001b[A\n",
      "\n",
      "  0%|                                                                               | 0/12 [01:15<?, ?it/s]\u001b[A\u001b[A\n",
      " 33%|████████████████████████                                                | 2/6 [02:33<05:08, 77.07s/it]\n",
      "  0%|                                                                               | 0/12 [01:18<?, ?it/s]\u001b[A\n",
      " 50%|████████████████████████████████████                                    | 3/6 [03:51<03:52, 77.56s/it]\n",
      "\n",
      "  0%|                                                                               | 0/12 [01:18<?, ?it/s]\u001b[A\u001b[A\n",
      " 67%|████████████████████████████████████████████████                        | 4/6 [05:09<02:35, 77.76s/it]\n",
      "  0%|                                                                               | 0/12 [01:18<?, ?it/s]\u001b[A\n",
      " 83%|████████████████████████████████████████████████████████████            | 5/6 [06:32<01:19, 79.55s/it]\n",
      "\n",
      "  0%|                                                                               | 0/12 [01:22<?, ?it/s]\u001b[A\u001b[A\n",
      "100%|████████████████████████████████████████████████████████████████████████| 6/6 [07:51<00:00, 78.58s/it]\n",
      "  0%|                                                                               | 0/12 [01:18<?, ?it/s]\n"
     ]
    },
    {
     "name": "stdout",
     "output_type": "stream",
     "text": [
      "Finished assigning raster data to hexagons\n",
      "df nan values: 0\n",
      "Starting upload for res: 11\n",
      "Finished uploading data for res11\n",
      "Processing from 60000 to 80000\n",
      "Translating raster to hexagon for res: 11\n"
     ]
    },
    {
     "name": "stderr",
     "output_type": "stream",
     "text": [
      "  0%|                                                                                | 0/6 [00:00<?, ?it/s]\n",
      " 17%|████████████                                                            | 1/6 [01:15<06:19, 75.93s/it]\u001b[A\n",
      "\n",
      "  0%|                                                                               | 0/12 [01:15<?, ?it/s]\u001b[A\u001b[A\n",
      " 33%|████████████████████████                                                | 2/6 [02:33<05:07, 76.99s/it]\n",
      "  0%|                                                                               | 0/12 [01:17<?, ?it/s]\u001b[A\n",
      " 50%|████████████████████████████████████                                    | 3/6 [03:52<03:53, 77.82s/it]\n",
      "\n",
      "  0%|                                                                               | 0/12 [01:18<?, ?it/s]\u001b[A\u001b[A\n",
      " 67%|████████████████████████████████████████████████                        | 4/6 [05:10<02:36, 78.04s/it]\n",
      "  0%|                                                                               | 0/12 [01:18<?, ?it/s]\u001b[A\n",
      " 83%|████████████████████████████████████████████████████████████            | 5/6 [06:33<01:19, 79.86s/it]\n",
      "\n",
      "  0%|                                                                               | 0/12 [01:23<?, ?it/s]\u001b[A\u001b[A\n",
      "100%|████████████████████████████████████████████████████████████████████████| 6/6 [07:53<00:00, 78.97s/it]\n",
      "  0%|                                                                               | 0/12 [01:19<?, ?it/s]\n"
     ]
    },
    {
     "name": "stdout",
     "output_type": "stream",
     "text": [
      "Finished assigning raster data to hexagons\n",
      "df nan values: 0\n",
      "Starting upload for res: 11\n",
      "Finished uploading data for res11\n",
      "Processing from 80000 to 100000\n",
      "Translating raster to hexagon for res: 11\n"
     ]
    },
    {
     "name": "stderr",
     "output_type": "stream",
     "text": [
      "  0%|                                                                                | 0/6 [00:00<?, ?it/s]\n",
      " 17%|████████████                                                            | 1/6 [01:15<06:17, 75.43s/it]\u001b[A\n",
      "\n",
      "  0%|                                                                               | 0/12 [01:15<?, ?it/s]\u001b[A\u001b[A\n",
      " 33%|████████████████████████                                                | 2/6 [02:35<05:12, 78.17s/it]\n",
      "  0%|                                                                               | 0/12 [01:20<?, ?it/s]\u001b[A\n",
      " 50%|████████████████████████████████████                                    | 3/6 [04:01<04:04, 81.52s/it]\n",
      "\n",
      "  0%|                                                                               | 0/12 [01:25<?, ?it/s]\u001b[A\u001b[A\n",
      " 67%|████████████████████████████████████████████████                        | 4/6 [05:20<02:41, 80.90s/it]\n",
      "  0%|                                                                               | 0/12 [01:19<?, ?it/s]\u001b[A\n",
      " 83%|████████████████████████████████████████████████████████████            | 5/6 [06:39<01:20, 80.16s/it]\n",
      "\n",
      "  0%|                                                                               | 0/12 [01:18<?, ?it/s]\u001b[A\u001b[A\n",
      "100%|████████████████████████████████████████████████████████████████████████| 6/6 [07:59<00:00, 79.90s/it]\n",
      "  0%|                                                                               | 0/12 [01:19<?, ?it/s]\n"
     ]
    },
    {
     "name": "stdout",
     "output_type": "stream",
     "text": [
      "Finished assigning raster data to hexagons\n",
      "df nan values: 0\n",
      "Starting upload for res: 11\n",
      "Finished uploading data for res11\n",
      "Processing from 100000 to 120000\n",
      "Translating raster to hexagon for res: 11\n"
     ]
    },
    {
     "name": "stderr",
     "output_type": "stream",
     "text": [
      "  0%|                                                                                | 0/6 [00:00<?, ?it/s]\n",
      " 17%|████████████                                                            | 1/6 [01:15<06:19, 75.85s/it]\u001b[A\n",
      "\n",
      "  0%|                                                                               | 0/12 [01:15<?, ?it/s]\u001b[A\u001b[A\n",
      " 33%|████████████████████████                                                | 2/6 [02:38<05:20, 80.14s/it]\n",
      "  0%|                                                                               | 0/12 [01:23<?, ?it/s]\u001b[A\n",
      " 50%|████████████████████████████████████                                    | 3/6 [03:59<04:00, 80.12s/it]\n",
      "\n",
      "  0%|                                                                               | 0/12 [01:20<?, ?it/s]\u001b[A\u001b[A\n",
      " 67%|████████████████████████████████████████████████                        | 4/6 [05:17<02:39, 79.55s/it]\n",
      "  0%|                                                                               | 0/12 [01:18<?, ?it/s]\u001b[A\n",
      " 83%|████████████████████████████████████████████████████████████            | 5/6 [06:37<01:19, 79.67s/it]\n",
      "\n",
      "  0%|                                                                               | 0/12 [01:19<?, ?it/s]\u001b[A\u001b[A\n",
      "100%|████████████████████████████████████████████████████████████████████████| 6/6 [07:58<00:00, 79.79s/it]\n",
      "  0%|                                                                               | 0/12 [01:21<?, ?it/s]\n"
     ]
    },
    {
     "name": "stdout",
     "output_type": "stream",
     "text": [
      "Finished assigning raster data to hexagons\n",
      "df nan values: 0\n",
      "Starting upload for res: 11\n",
      "Finished uploading data for res11\n",
      "Processing from 120000 to 140000\n",
      "Translating raster to hexagon for res: 11\n"
     ]
    },
    {
     "name": "stderr",
     "output_type": "stream",
     "text": [
      "  0%|                                                                                | 0/6 [00:00<?, ?it/s]\n",
      " 17%|████████████                                                            | 1/6 [01:16<06:20, 76.07s/it]\u001b[A\n",
      "\n",
      "  0%|                                                                               | 0/12 [01:16<?, ?it/s]\u001b[A\u001b[A\n",
      " 33%|████████████████████████                                                | 2/6 [02:34<05:09, 77.39s/it]\n",
      "  0%|                                                                               | 0/12 [01:18<?, ?it/s]\u001b[A\n",
      " 50%|████████████████████████████████████                                    | 3/6 [03:54<03:55, 78.53s/it]\n",
      "\n",
      "  0%|                                                                               | 0/12 [01:19<?, ?it/s]\u001b[A\u001b[A\n",
      " 67%|████████████████████████████████████████████████                        | 4/6 [05:13<02:37, 78.72s/it]\n",
      "  0%|                                                                               | 0/12 [01:19<?, ?it/s]\u001b[A\n",
      " 83%|████████████████████████████████████████████████████████████            | 5/6 [06:32<01:18, 78.82s/it]\n",
      "\n",
      "  0%|                                                                               | 0/12 [01:18<?, ?it/s]\u001b[A\u001b[A\n",
      "100%|████████████████████████████████████████████████████████████████████████| 6/6 [07:52<00:00, 78.74s/it]\n",
      "  0%|                                                                               | 0/12 [01:20<?, ?it/s]\n"
     ]
    },
    {
     "name": "stdout",
     "output_type": "stream",
     "text": [
      "Finished assigning raster data to hexagons\n",
      "df nan values: 0\n",
      "Starting upload for res: 11\n",
      "Finished uploading data for res11\n",
      "Processing from 140000 to 160000\n",
      "Translating raster to hexagon for res: 11\n"
     ]
    },
    {
     "name": "stderr",
     "output_type": "stream",
     "text": [
      "  0%|                                                                                | 0/6 [00:00<?, ?it/s]\n",
      " 17%|████████████                                                            | 1/6 [01:21<06:47, 81.49s/it]\u001b[A\n",
      "\n",
      "  0%|                                                                               | 0/12 [01:21<?, ?it/s]\u001b[A\u001b[A\n",
      " 33%|████████████████████████                                                | 2/6 [02:40<05:21, 80.26s/it]\n",
      "  0%|                                                                               | 0/12 [01:19<?, ?it/s]\u001b[A\n",
      " 50%|████████████████████████████████████                                    | 3/6 [04:03<04:04, 81.50s/it]\n",
      "\n",
      "  0%|                                                                               | 0/12 [01:22<?, ?it/s]\u001b[A\u001b[A\n",
      " 67%|████████████████████████████████████████████████                        | 4/6 [05:24<02:42, 81.27s/it]\n",
      "  0%|                                                                               | 0/12 [01:20<?, ?it/s]\u001b[A\n",
      " 83%|████████████████████████████████████████████████████████████            | 5/6 [06:45<01:20, 80.92s/it]\n",
      "\n",
      "  0%|                                                                               | 0/12 [01:20<?, ?it/s]\u001b[A\u001b[A\n",
      "100%|████████████████████████████████████████████████████████████████████████| 6/6 [08:07<00:00, 81.28s/it]\n",
      "  0%|                                                                               | 0/12 [01:22<?, ?it/s]\n"
     ]
    },
    {
     "name": "stdout",
     "output_type": "stream",
     "text": [
      "Finished assigning raster data to hexagons\n",
      "df nan values: 0\n",
      "Starting upload for res: 11\n",
      "Finished uploading data for res11\n",
      "Processing from 160000 to 180000\n",
      "Translating raster to hexagon for res: 11\n"
     ]
    },
    {
     "name": "stderr",
     "output_type": "stream",
     "text": [
      "  0%|                                                                                | 0/6 [00:00<?, ?it/s]\n",
      " 17%|████████████                                                            | 1/6 [01:17<06:27, 77.52s/it]\u001b[A\n",
      "\n",
      "  0%|                                                                               | 0/12 [01:17<?, ?it/s]\u001b[A\u001b[A\n",
      " 33%|████████████████████████                                                | 2/6 [02:35<05:11, 77.92s/it]\n",
      "  0%|                                                                               | 0/12 [01:18<?, ?it/s]\u001b[A\n",
      " 50%|████████████████████████████████████                                    | 3/6 [03:58<03:59, 79.96s/it]\n",
      "\n",
      "  0%|                                                                               | 0/12 [01:22<?, ?it/s]\u001b[A\u001b[A\n",
      " 67%|████████████████████████████████████████████████                        | 4/6 [05:18<02:40, 80.25s/it]\n",
      "  0%|                                                                               | 0/12 [01:20<?, ?it/s]\u001b[A\n",
      " 83%|████████████████████████████████████████████████████████████            | 5/6 [06:38<01:20, 80.19s/it]\n",
      "\n",
      "  0%|                                                                               | 0/12 [01:20<?, ?it/s]\u001b[A\u001b[A\n",
      "100%|████████████████████████████████████████████████████████████████████████| 6/6 [08:01<00:00, 80.28s/it]\n",
      "  0%|                                                                               | 0/12 [01:22<?, ?it/s]\n"
     ]
    },
    {
     "name": "stdout",
     "output_type": "stream",
     "text": [
      "Finished assigning raster data to hexagons\n",
      "df nan values: 0\n",
      "Starting upload for res: 11\n",
      "Finished uploading data for res11\n",
      "Processing from 180000 to 200000\n",
      "Translating raster to hexagon for res: 11\n"
     ]
    },
    {
     "name": "stderr",
     "output_type": "stream",
     "text": [
      "  0%|                                                                                | 0/6 [00:00<?, ?it/s]\n",
      " 17%|████████████                                                            | 1/6 [01:17<06:27, 77.59s/it]\u001b[A\n",
      "\n",
      "  0%|                                                                               | 0/12 [01:17<?, ?it/s]\u001b[A\u001b[A\n",
      " 33%|████████████████████████                                                | 2/6 [02:36<05:12, 78.11s/it]\n",
      "  0%|                                                                               | 0/12 [01:18<?, ?it/s]\u001b[A\n",
      " 50%|████████████████████████████████████                                    | 3/6 [03:54<03:54, 78.20s/it]\n",
      "\n",
      "  0%|                                                                               | 0/12 [01:18<?, ?it/s]\u001b[A\u001b[A\n",
      " 67%|████████████████████████████████████████████████                        | 4/6 [05:16<02:39, 79.60s/it]\n",
      "  0%|                                                                               | 0/12 [01:21<?, ?it/s]\u001b[A\n",
      " 83%|████████████████████████████████████████████████████████████            | 5/6 [06:36<01:20, 80.05s/it]\n",
      "\n",
      "  0%|                                                                               | 0/12 [01:20<?, ?it/s]\u001b[A\u001b[A\n",
      "100%|████████████████████████████████████████████████████████████████████████| 6/6 [07:55<00:00, 79.26s/it]\n",
      "  0%|                                                                               | 0/12 [01:18<?, ?it/s]\n"
     ]
    },
    {
     "name": "stdout",
     "output_type": "stream",
     "text": [
      "Finished assigning raster data to hexagons\n",
      "df nan values: 0\n",
      "Starting upload for res: 11\n",
      "Finished uploading data for res11\n",
      "Processing from 200000 to 220000\n",
      "Translating raster to hexagon for res: 11\n"
     ]
    },
    {
     "name": "stderr",
     "output_type": "stream",
     "text": [
      "  0%|                                                                                | 0/6 [00:00<?, ?it/s]\n",
      " 17%|████████████                                                            | 1/6 [01:16<06:22, 76.51s/it]\u001b[A\n",
      "\n",
      "  0%|                                                                               | 0/12 [01:16<?, ?it/s]\u001b[A\u001b[A\n",
      " 33%|████████████████████████                                                | 2/6 [02:35<05:11, 77.97s/it]\n",
      "  0%|                                                                               | 0/12 [01:19<?, ?it/s]\u001b[A\n",
      " 50%|████████████████████████████████████                                    | 3/6 [03:54<03:54, 78.28s/it]\n",
      "\n",
      "  0%|                                                                               | 0/12 [01:18<?, ?it/s]\u001b[A\u001b[A\n",
      " 67%|████████████████████████████████████████████████                        | 4/6 [05:16<02:39, 79.84s/it]\n",
      "  0%|                                                                               | 0/12 [01:22<?, ?it/s]\u001b[A\n",
      " 83%|████████████████████████████████████████████████████████████            | 5/6 [06:36<01:19, 80.00s/it]\n",
      "\n",
      "  0%|                                                                               | 0/12 [01:20<?, ?it/s]\u001b[A\u001b[A\n",
      "100%|████████████████████████████████████████████████████████████████████████| 6/6 [07:55<00:00, 79.24s/it]\n",
      "  0%|                                                                               | 0/12 [01:18<?, ?it/s]\n"
     ]
    },
    {
     "name": "stdout",
     "output_type": "stream",
     "text": [
      "Finished assigning raster data to hexagons\n",
      "df nan values: 0\n",
      "Starting upload for res: 11\n",
      "Finished uploading data for res11\n",
      "Processing from 220000 to 240000\n",
      "Translating raster to hexagon for res: 11\n"
     ]
    },
    {
     "name": "stderr",
     "output_type": "stream",
     "text": [
      "  0%|                                                                                | 0/6 [00:00<?, ?it/s]\n",
      " 17%|████████████                                                            | 1/6 [01:16<06:24, 76.82s/it]\u001b[A\n",
      "\n",
      "  0%|                                                                               | 0/12 [01:16<?, ?it/s]\u001b[A\u001b[A\n",
      " 33%|████████████████████████                                                | 2/6 [02:36<05:13, 78.36s/it]\n",
      "  0%|                                                                               | 0/12 [01:19<?, ?it/s]\u001b[A\n",
      " 50%|████████████████████████████████████                                    | 3/6 [03:55<03:56, 78.80s/it]\n",
      "\n",
      "  0%|                                                                               | 0/12 [01:19<?, ?it/s]\u001b[A\u001b[A\n",
      " 67%|████████████████████████████████████████████████                        | 4/6 [05:18<02:41, 80.53s/it]\n",
      "  0%|                                                                               | 0/12 [01:23<?, ?it/s]\u001b[A\n",
      " 83%|████████████████████████████████████████████████████████████            | 5/6 [06:39<01:20, 80.50s/it]\n",
      "\n",
      "  0%|                                                                               | 0/12 [01:20<?, ?it/s]\u001b[A\u001b[A\n",
      "100%|████████████████████████████████████████████████████████████████████████| 6/6 [07:58<00:00, 79.73s/it]\n",
      "  0%|                                                                               | 0/12 [01:19<?, ?it/s]\n"
     ]
    },
    {
     "name": "stdout",
     "output_type": "stream",
     "text": [
      "Finished assigning raster data to hexagons\n",
      "df nan values: 0\n",
      "Starting upload for res: 11\n",
      "Finished uploading data for res11\n",
      "Processing from 240000 to 260000\n",
      "Translating raster to hexagon for res: 11\n"
     ]
    },
    {
     "name": "stderr",
     "output_type": "stream",
     "text": [
      "  0%|                                                                                | 0/6 [00:00<?, ?it/s]\n",
      " 17%|████████████                                                            | 1/6 [01:19<06:37, 79.50s/it]\u001b[A\n",
      "\n",
      "  0%|                                                                               | 0/12 [01:19<?, ?it/s]\u001b[A\u001b[A\n",
      " 33%|████████████████████████                                                | 2/6 [02:40<05:21, 80.34s/it]\n",
      "  0%|                                                                               | 0/12 [01:20<?, ?it/s]\u001b[A\n",
      " 50%|████████████████████████████████████                                    | 3/6 [04:00<04:00, 80.17s/it]\n",
      "\n",
      "  0%|                                                                               | 0/12 [01:19<?, ?it/s]\u001b[A\u001b[A\n",
      " 67%|████████████████████████████████████████████████                        | 4/6 [05:19<02:39, 79.84s/it]\n",
      "  0%|                                                                               | 0/12 [01:19<?, ?it/s]\u001b[A\n",
      " 83%|████████████████████████████████████████████████████████████            | 5/6 [06:42<01:20, 80.95s/it]\n",
      "\n",
      "  0%|                                                                               | 0/12 [01:22<?, ?it/s]\u001b[A\u001b[A\n",
      "100%|████████████████████████████████████████████████████████████████████████| 6/6 [08:04<00:00, 80.75s/it]\n",
      "  0%|                                                                               | 0/12 [01:21<?, ?it/s]\n"
     ]
    },
    {
     "name": "stdout",
     "output_type": "stream",
     "text": [
      "Finished assigning raster data to hexagons\n",
      "df nan values: 0\n",
      "Starting upload for res: 11\n",
      "Finished uploading data for res11\n",
      "Processing from 260000 to 280000\n",
      "Translating raster to hexagon for res: 11\n"
     ]
    },
    {
     "name": "stderr",
     "output_type": "stream",
     "text": [
      "  0%|                                                                                | 0/6 [00:00<?, ?it/s]\n",
      " 17%|████████████                                                            | 1/6 [01:15<06:18, 75.62s/it]\u001b[A\n",
      "\n",
      "  0%|                                                                               | 0/12 [01:15<?, ?it/s]\u001b[A\u001b[A\n",
      " 33%|████████████████████████                                                | 2/6 [02:35<05:12, 78.05s/it]\n",
      "  0%|                                                                               | 0/12 [01:19<?, ?it/s]\u001b[A\n",
      " 50%|████████████████████████████████████                                    | 3/6 [03:58<04:00, 80.17s/it]\n",
      "\n",
      "  0%|                                                                               | 0/12 [01:22<?, ?it/s]\u001b[A\u001b[A\n",
      " 67%|████████████████████████████████████████████████                        | 4/6 [05:19<02:41, 80.71s/it]\n",
      "  0%|                                                                               | 0/12 [01:21<?, ?it/s]\u001b[A\n",
      " 83%|████████████████████████████████████████████████████████████            | 5/6 [06:39<01:20, 80.55s/it]\n",
      "\n",
      "  0%|                                                                               | 0/12 [01:20<?, ?it/s]\u001b[A\u001b[A\n",
      "100%|████████████████████████████████████████████████████████████████████████| 6/6 [08:00<00:00, 80.06s/it]\n",
      "  0%|                                                                               | 0/12 [01:20<?, ?it/s]\n"
     ]
    },
    {
     "name": "stdout",
     "output_type": "stream",
     "text": [
      "Finished assigning raster data to hexagons\n",
      "df nan values: 0\n",
      "Starting upload for res: 11\n",
      "Finished uploading data for res11\n",
      "Processing from 280000 to 300000\n",
      "Translating raster to hexagon for res: 11\n"
     ]
    },
    {
     "name": "stderr",
     "output_type": "stream",
     "text": [
      "  0%|                                                                                | 0/6 [00:00<?, ?it/s]\n",
      " 17%|████████████                                                            | 1/6 [01:17<06:28, 77.61s/it]\u001b[A\n",
      "\n",
      "  0%|                                                                               | 0/12 [01:17<?, ?it/s]\u001b[A\u001b[A\n",
      " 33%|████████████████████████                                                | 2/6 [02:37<05:16, 79.19s/it]\n",
      "  0%|                                                                               | 0/12 [01:20<?, ?it/s]\u001b[A\n",
      " 50%|████████████████████████████████████                                    | 3/6 [03:58<04:00, 80.00s/it]\n",
      "\n",
      "  0%|                                                                               | 0/12 [01:20<?, ?it/s]\u001b[A\u001b[A\n",
      " 67%|████████████████████████████████████████████████                        | 4/6 [05:22<02:43, 81.59s/it]\n",
      "  0%|                                                                               | 0/12 [01:24<?, ?it/s]\u001b[A\n",
      " 83%|████████████████████████████████████████████████████████████            | 5/6 [06:43<01:21, 81.33s/it]\n",
      "\n",
      "  0%|                                                                               | 0/12 [01:20<?, ?it/s]\u001b[A\u001b[A\n",
      "100%|████████████████████████████████████████████████████████████████████████| 6/6 [08:04<00:00, 80.69s/it]\n",
      "  0%|                                                                               | 0/12 [01:20<?, ?it/s]\n"
     ]
    },
    {
     "name": "stdout",
     "output_type": "stream",
     "text": [
      "Finished assigning raster data to hexagons\n",
      "df nan values: 0\n",
      "Starting upload for res: 11\n",
      "Finished uploading data for res11\n",
      "Processing from 300000 to 320000\n",
      "Translating raster to hexagon for res: 11\n"
     ]
    },
    {
     "name": "stderr",
     "output_type": "stream",
     "text": [
      "  0%|                                                                                | 0/6 [00:00<?, ?it/s]\n",
      " 17%|████████████                                                            | 1/6 [01:20<06:42, 80.42s/it]\u001b[A\n",
      "\n",
      "  0%|                                                                               | 0/12 [01:20<?, ?it/s]\u001b[A\u001b[A\n",
      " 33%|████████████████████████                                                | 2/6 [02:42<05:24, 81.11s/it]\n",
      "  0%|                                                                               | 0/12 [01:21<?, ?it/s]\u001b[A\n",
      " 50%|████████████████████████████████████                                    | 3/6 [04:03<04:03, 81.24s/it]\n",
      "\n",
      "  0%|                                                                               | 0/12 [01:21<?, ?it/s]\u001b[A\u001b[A\n",
      " 67%|████████████████████████████████████████████████                        | 4/6 [05:24<02:42, 81.03s/it]\n",
      "  0%|                                                                               | 0/12 [01:20<?, ?it/s]\u001b[A\n",
      " 83%|████████████████████████████████████████████████████████████            | 5/6 [06:43<01:20, 80.57s/it]\n",
      "\n",
      "  0%|                                                                               | 0/12 [01:19<?, ?it/s]\u001b[A\u001b[A\n",
      "100%|████████████████████████████████████████████████████████████████████████| 6/6 [08:04<00:00, 80.80s/it]\n",
      "  0%|                                                                               | 0/12 [01:20<?, ?it/s]\n"
     ]
    },
    {
     "name": "stdout",
     "output_type": "stream",
     "text": [
      "Finished assigning raster data to hexagons\n",
      "df nan values: 0\n",
      "Starting upload for res: 11\n",
      "Finished uploading data for res11\n",
      "Processing from 320000 to 340000\n",
      "Translating raster to hexagon for res: 11\n"
     ]
    },
    {
     "name": "stderr",
     "output_type": "stream",
     "text": [
      "  0%|                                                                                | 0/6 [00:00<?, ?it/s]\n",
      " 17%|████████████                                                            | 1/6 [01:17<06:26, 77.27s/it]\u001b[A\n",
      "\n",
      "  0%|                                                                               | 0/12 [01:17<?, ?it/s]\u001b[A\u001b[A\n",
      " 33%|████████████████████████                                                | 2/6 [02:37<05:16, 79.00s/it]\n",
      "  0%|                                                                               | 0/12 [01:20<?, ?it/s]\u001b[A\n",
      " 50%|████████████████████████████████████                                    | 3/6 [04:02<04:05, 81.92s/it]\n",
      "\n",
      "  0%|                                                                               | 0/12 [01:25<?, ?it/s]\u001b[A\u001b[A\n",
      " 67%|████████████████████████████████████████████████                        | 4/6 [05:24<02:43, 81.64s/it]\n",
      "  0%|                                                                               | 0/12 [01:21<?, ?it/s]\u001b[A\n",
      " 83%|████████████████████████████████████████████████████████████            | 5/6 [06:44<01:21, 81.31s/it]\n",
      "\n",
      "  0%|                                                                               | 0/12 [01:20<?, ?it/s]\u001b[A\u001b[A\n",
      "100%|████████████████████████████████████████████████████████████████████████| 6/6 [08:09<00:00, 81.62s/it]\n",
      "  0%|                                                                               | 0/12 [01:24<?, ?it/s]\n"
     ]
    },
    {
     "name": "stdout",
     "output_type": "stream",
     "text": [
      "Finished assigning raster data to hexagons\n",
      "df nan values: 0\n",
      "Starting upload for res: 11\n",
      "Finished uploading data for res11\n",
      "Processing from 340000 to 360000\n",
      "Translating raster to hexagon for res: 11\n"
     ]
    },
    {
     "name": "stderr",
     "output_type": "stream",
     "text": [
      "  0%|                                                                                | 0/6 [00:00<?, ?it/s]\n",
      " 17%|████████████                                                            | 1/6 [01:17<06:26, 77.26s/it]\u001b[A\n",
      "\n",
      "  0%|                                                                               | 0/12 [01:17<?, ?it/s]\u001b[A\u001b[A\n",
      " 33%|████████████████████████                                                | 2/6 [02:42<05:27, 81.90s/it]\n",
      "  0%|                                                                               | 0/12 [01:25<?, ?it/s]\u001b[A\n",
      " 50%|████████████████████████████████████                                    | 3/6 [04:06<04:08, 82.82s/it]\n",
      "\n",
      "  0%|                                                                               | 0/12 [01:23<?, ?it/s]\u001b[A\u001b[A\n",
      " 67%|████████████████████████████████████████████████                        | 4/6 [05:27<02:44, 82.03s/it]\n",
      "  0%|                                                                               | 0/12 [01:20<?, ?it/s]\u001b[A\n",
      " 83%|████████████████████████████████████████████████████████████            | 5/6 [06:47<01:21, 81.29s/it]\n",
      "\n",
      "  0%|                                                                               | 0/12 [01:19<?, ?it/s]\u001b[A\u001b[A\n",
      "100%|████████████████████████████████████████████████████████████████████████| 6/6 [08:09<00:00, 81.55s/it]\n",
      "  0%|                                                                               | 0/12 [01:22<?, ?it/s]\n"
     ]
    },
    {
     "name": "stdout",
     "output_type": "stream",
     "text": [
      "Finished assigning raster data to hexagons\n",
      "df nan values: 0\n",
      "Starting upload for res: 11\n",
      "Finished uploading data for res11\n",
      "Processing from 360000 to 380000\n",
      "Translating raster to hexagon for res: 11\n"
     ]
    },
    {
     "name": "stderr",
     "output_type": "stream",
     "text": [
      "  0%|                                                                                | 0/6 [00:00<?, ?it/s]\n",
      " 17%|████████████                                                            | 1/6 [01:17<06:27, 77.40s/it]\u001b[A\n",
      "\n",
      "  0%|                                                                               | 0/12 [01:17<?, ?it/s]\u001b[A\u001b[A\n",
      " 33%|████████████████████████                                                | 2/6 [02:37<05:16, 79.13s/it]\n",
      "  0%|                                                                               | 0/12 [01:20<?, ?it/s]\u001b[A\n",
      " 50%|████████████████████████████████████                                    | 3/6 [03:57<03:58, 79.60s/it]\n",
      "\n",
      "  0%|                                                                               | 0/12 [01:20<?, ?it/s]\u001b[A\u001b[A\n",
      " 67%|████████████████████████████████████████████████                        | 4/6 [05:17<02:39, 79.70s/it]\n",
      "  0%|                                                                               | 0/12 [01:19<?, ?it/s]\u001b[A\n",
      " 83%|████████████████████████████████████████████████████████████            | 5/6 [06:41<01:20, 80.99s/it]\n",
      "\n",
      "  0%|                                                                               | 0/12 [01:23<?, ?it/s]\u001b[A\u001b[A\n",
      "100%|████████████████████████████████████████████████████████████████████████| 6/6 [08:03<00:00, 80.54s/it]\n",
      "  0%|                                                                               | 0/12 [01:22<?, ?it/s]\n"
     ]
    },
    {
     "name": "stdout",
     "output_type": "stream",
     "text": [
      "Finished assigning raster data to hexagons\n",
      "df nan values: 0\n",
      "Starting upload for res: 11\n",
      "Finished uploading data for res11\n",
      "Processing from 380000 to 400000\n",
      "Translating raster to hexagon for res: 11\n"
     ]
    },
    {
     "name": "stderr",
     "output_type": "stream",
     "text": [
      "  0%|                                                                                | 0/6 [00:00<?, ?it/s]\n",
      " 17%|████████████                                                            | 1/6 [01:16<06:23, 76.77s/it]\u001b[A\n",
      "\n",
      "  0%|                                                                               | 0/12 [01:16<?, ?it/s]\u001b[A\u001b[A\n",
      " 33%|████████████████████████                                                | 2/6 [02:36<05:13, 78.49s/it]\n",
      "  0%|                                                                               | 0/12 [01:19<?, ?it/s]\u001b[A\n",
      " 50%|████████████████████████████████████                                    | 3/6 [03:57<03:58, 79.43s/it]\n",
      "\n",
      "  0%|                                                                               | 0/12 [01:20<?, ?it/s]\u001b[A\u001b[A\n",
      " 67%|████████████████████████████████████████████████                        | 4/6 [05:17<02:39, 79.77s/it]\n",
      "  0%|                                                                               | 0/12 [01:20<?, ?it/s]\u001b[A\n",
      " 83%|████████████████████████████████████████████████████████████            | 5/6 [06:37<01:19, 79.95s/it]\n",
      "\n",
      "  0%|                                                                               | 0/12 [01:20<?, ?it/s]\u001b[A\u001b[A\n",
      "100%|████████████████████████████████████████████████████████████████████████| 6/6 [07:59<00:00, 79.84s/it]\n",
      "  0%|                                                                               | 0/12 [01:21<?, ?it/s]\n"
     ]
    },
    {
     "name": "stdout",
     "output_type": "stream",
     "text": [
      "Finished assigning raster data to hexagons\n",
      "df nan values: 0\n",
      "Starting upload for res: 11\n",
      "Finished uploading data for res11\n",
      "Processing from 400000 to 420000\n",
      "Translating raster to hexagon for res: 11\n"
     ]
    },
    {
     "name": "stderr",
     "output_type": "stream",
     "text": [
      "  0%|                                                                                | 0/6 [00:00<?, ?it/s]\n",
      " 17%|████████████                                                            | 1/6 [01:15<06:17, 75.54s/it]\u001b[A\n",
      "\n",
      "  0%|                                                                               | 0/12 [01:15<?, ?it/s]\u001b[A\u001b[A\n",
      " 33%|████████████████████████                                                | 2/6 [02:33<05:07, 76.81s/it]\n",
      "  0%|                                                                               | 0/12 [01:17<?, ?it/s]\u001b[A\n",
      " 50%|████████████████████████████████████                                    | 3/6 [03:54<03:57, 79.07s/it]\n",
      "\n",
      "  0%|                                                                               | 0/12 [01:21<?, ?it/s]\u001b[A\u001b[A\n",
      " 67%|████████████████████████████████████████████████                        | 4/6 [05:15<02:38, 79.50s/it]\n",
      "  0%|                                                                               | 0/12 [01:20<?, ?it/s]\u001b[A\n",
      " 83%|████████████████████████████████████████████████████████████            | 5/6 [06:33<01:19, 79.03s/it]\n",
      "\n",
      "  0%|                                                                               | 0/12 [01:18<?, ?it/s]\u001b[A\u001b[A\n",
      "100%|████████████████████████████████████████████████████████████████████████| 6/6 [07:52<00:00, 78.73s/it]\n",
      "  0%|                                                                               | 0/12 [01:19<?, ?it/s]\n"
     ]
    },
    {
     "name": "stdout",
     "output_type": "stream",
     "text": [
      "Finished assigning raster data to hexagons\n",
      "df nan values: 0\n",
      "Starting upload for res: 11\n",
      "Finished uploading data for res11\n"
     ]
    }
   ],
   "source": [
    "if save_output_database:\n",
    "    # ------------------------------ RASTERS TO HEX ------------------------------\n",
    "    ### hex preprocessing\n",
    "    print('Started loading hexagons at different resolutions')\n",
    "    \n",
    "    # Create res_list\n",
    "    res_list=[]\n",
    "    for r in range(res[0],res[-1]+1):\n",
    "        res_list.append(r)\n",
    "    \n",
    "    # Load hexgrids\n",
    "    hex_gdf = hex_city.copy()\n",
    "    hex_gdf.rename(columns={f'hex_id_{big_res}':'hex_id'}, inplace=True)\n",
    "    hex_gdf['res'] = big_res\n",
    "    \n",
    "    print(f'Loaded hexgrid res {big_res}')\n",
    "    \n",
    "    for r in res_list:\n",
    "        # biggest resolution already loaded\n",
    "        if r == big_res:\n",
    "            continue\n",
    "        \n",
    "        # Load hexgrid\n",
    "        table_hex = f'hexgrid_{r}_city_2020'\n",
    "        query = f\"SELECT hex_id_{r},geometry FROM {schema_hex}.{table_hex} WHERE \\\"city\\\"=\\'{city}\\' AND  (ST_Intersects(geometry, \\'SRID=4326;{poly_wkt}\\'))\"\n",
    "        hex_tmp = aup.gdf_from_query(query, geometry_col='geometry')\n",
    "        # Format hexgrid\n",
    "        hex_tmp.rename(columns={f'hex_id_{r}':'hex_id'}, inplace=True)\n",
    "        hex_tmp['res'] = r\n",
    "        # Concatenate to hex_gdf\n",
    "        hex_gdf = pd.concat([hex_gdf, hex_tmp])\n",
    "    \n",
    "        print(f'Loaded hexgrid res {r}')\n",
    "    \n",
    "        del hex_tmp\n",
    "    \n",
    "    print('Finished creating hexagons at different resolutions')\n",
    "    \n",
    "    # Raster to hex function for each resolution (saves output)\n",
    "    for r in list(hex_gdf.res.unique()):\n",
    "\n",
    "        if r in already_processed_res:\n",
    "            continue\n",
    "    \n",
    "        print(f'---------------------------------------')\n",
    "        print(f'STARTING processing for resolution {r}.')\n",
    "    \n",
    "        processing_chunk = 20000 # Use 20,000 max, crashed on DELL laptop with 50,000\n",
    "    \n",
    "        # filters hexagons at specified resolution\n",
    "        hex_gdf_res = hex_gdf.loc[hex_gdf.res==r].copy()\n",
    "        hex_gdf_res = hex_gdf_res.reset_index(drop=True)\n",
    "    \n",
    "        if len(hex_gdf_res)>processing_chunk:\n",
    "            print(f'hex_gdf_res len: {len(hex_gdf_res)} is bigger than processing chunk: {processing_chunk}')\n",
    "            c_processing = len(hex_gdf_res)/processing_chunk\n",
    "            print(f'There are {round(c_processing)} processes')\n",
    "            for i in range(int(c_processing)+1):\n",
    "                print(f'Processing from {i*processing_chunk} to {(i+1)*processing_chunk}')\n",
    "                hex_gdf_i = hex_gdf_res.iloc[int(processing_chunk*i):int(processing_chunk*(1+i))].copy()\n",
    "                raster_to_hex_save(hex_gdf_i, df_len, index_analysis, tmp_dir, city, r, save, local_save=True, i=i)\n",
    "    \n",
    "        else:\n",
    "            print('hex_gdf len smaller than processing chunk')\n",
    "            hex_gdf_i = hex_gdf_res.copy()\n",
    "            raster_to_hex_save(hex_gdf_i, df_len, index_analysis, tmp_dir, city, r, save, local_save=True)"
   ]
  },
  {
   "cell_type": "code",
   "execution_count": null,
   "id": "38c33669-c097-4019-a2ff-7658c5bb2819",
   "metadata": {},
   "outputs": [],
   "source": []
  }
 ],
 "metadata": {
  "kernelspec": {
   "display_name": "GDS-10.0",
   "language": "python",
   "name": "gds"
  },
  "language_info": {
   "codemirror_mode": {
    "name": "ipython",
    "version": 3
   },
   "file_extension": ".py",
   "mimetype": "text/x-python",
   "name": "python",
   "nbconvert_exporter": "python",
   "pygments_lexer": "ipython3",
   "version": "3.9.18"
  }
 },
 "nbformat": 4,
 "nbformat_minor": 5
}
