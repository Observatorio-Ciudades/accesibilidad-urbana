{
 "cells": [
  {
   "cell_type": "markdown",
   "id": "c63bd0f4-df7c-45c4-9e2b-400242a256a1",
   "metadata": {},
   "source": [
    "# 10-sat_image_analysis_script"
   ]
  },
  {
   "cell_type": "markdown",
   "id": "c7ffbd39-8dcf-4567-9182-54bd758e6cfa",
   "metadata": {},
   "source": [
    "This notebook is a simplified version of script 17-sat_image_analysis.py (Updated up until Dec 11 2023)\n",
    "\n",
    "It allows us to run 1 city and 1 resolution in order to spot and debug errors."
   ]
  },
  {
   "cell_type": "markdown",
   "id": "e1f6a4d3-556d-43bb-a972-db85c2bf5304",
   "metadata": {},
   "source": [
    "## Import libraries"
   ]
  },
  {
   "cell_type": "code",
   "execution_count": 1,
   "id": "8a6175a0-a75a-429f-b4e7-5409c8264973",
   "metadata": {},
   "outputs": [
    {
     "name": "stderr",
     "output_type": "stream",
     "text": [
      "/home/jovyan/accesibilidad-urbana/aup/data.py:25: UserWarning: The `utils.config` function is deprecated and will be removed in a future release. Instead, use the `settings` module directly to configure a global setting's value. For example, `ox.settings.log_console=True`.\n",
      "  ox.config(\n"
     ]
    }
   ],
   "source": [
    "from pystac_client import Client\n",
    "from pystac.extensions.eo import EOExtension as eo\n",
    "import planetary_computer as pc\n",
    "import geopandas as gpd\n",
    "import h3\n",
    "import pandas as pd\n",
    "\n",
    "import rasterio\n",
    "from rasterio import windows\n",
    "from rasterio import features\n",
    "from rasterio import warp\n",
    "import rasterio.mask\n",
    "from rasterio.enums import Resampling\n",
    "from rasterio.merge import merge\n",
    "\n",
    "import numpy as np\n",
    "from PIL import Image\n",
    "\n",
    "import matplotlib.pyplot as plt\n",
    "\n",
    "from shapely.geometry import Point\n",
    "\n",
    "from tqdm import tqdm\n",
    "\n",
    "import os\n",
    "import sys\n",
    "module_path = os.path.abspath(os.path.join('../../'))\n",
    "if module_path not in sys.path:\n",
    "    sys.path.append(module_path)\n",
    "    import aup"
   ]
  },
  {
   "cell_type": "markdown",
   "id": "18b0cdea-8ab4-4288-952e-ecc2b9408d26",
   "metadata": {},
   "source": [
    "## Config notebook"
   ]
  },
  {
   "cell_type": "code",
   "execution_count": 2,
   "id": "42aa13f4-4755-494d-a4b2-9c0ae4c82227",
   "metadata": {
    "tags": []
   },
   "outputs": [],
   "source": [
    "# Set raster spectral bands and analysis equation\n",
    "band_name_dict = {'nir':[False], #If GSD(resolution) of band is different, set True.\n",
    "                  'red':[False], #If GSD(resolution) of band is different, set True.\n",
    "                  'eq':['(nir-red)/(nir+red)']}\n",
    "\n",
    "# Set analysis name\n",
    "index_analysis = 'ndvi'\n",
    "\n",
    "# Set directory to save analysed rasters\n",
    "tmp_dir = f'../../data/processed/tmp_{index_analysis}/'\n",
    "\n",
    "# Set desired hex resolution\n",
    "res = [11] #JUST ONE since it is for trials, if many needed use script or edit notebook\n",
    "\n",
    "# Set frequency of search for rasters (MS = Month Start)\n",
    "freq = 'MS'\n",
    "\n",
    "# Set start and end date for search (Sentinel-2 2A has images since mids 2015)\n",
    "start_date = '2018-01-01'\n",
    "end_date = '2022-12-31'\n",
    "\n",
    "# Set satellite. Defaults to \"sentinel-2-l2a\"\n",
    "satellite = 'sentinel-2-l2a'\n",
    "\n",
    "# Del rasters after processing.\n",
    "del_data = False # True\n",
    "\n",
    "# Save?\n",
    "save = True #------ Set True if full analysis\n",
    "\n",
    "# city can be substituted by \"place\". (presa_laboca / presa_cerroprieto / presa_elcuchillo)\n",
    "city = 'Campeche'\n",
    "\n",
    "#Set filter if necessary. Defaults to \"{}\". Example: No images with cloud cover avobe 10%: {\"eo:cloud_cover\": {\"lt\": 10}}\n",
    "#query = {\"eo:cloud_cover\": {\"lt\": 10}}"
   ]
  },
  {
   "cell_type": "markdown",
   "id": "4e4f721d-f243-4062-ab63-5026a7db2ca9",
   "metadata": {},
   "source": [
    "## 01 - Load Area of interest"
   ]
  },
  {
   "cell_type": "code",
   "execution_count": 3,
   "id": "36fc5268-e879-4bda-855b-50566d148eaa",
   "metadata": {},
   "outputs": [
    {
     "name": "stdout",
     "output_type": "stream",
     "text": [
      "Downloaded 186 hexagon features\n"
     ]
    },
    {
     "data": {
      "text/plain": [
       "<Axes: >"
      ]
     },
     "execution_count": 3,
     "metadata": {},
     "output_type": "execute_result"
    },
    {
     "data": {
      "image/png": "[encoded data removed]",
      "text/plain": [
       "<Figure size 640x480 with 1 Axes>"
      ]
     },
     "metadata": {},
     "output_type": "display_data"
    }
   ],
   "source": [
    "### Create city area of interest with biggest hexs\n",
    "schema_hex = 'hexgrid'\n",
    "table_hex = f'hexgrid_8_city_2020'\n",
    "\n",
    "# Download hexagons with type=urban\n",
    "type = 'urban'\n",
    "query = f\"SELECT hex_id_8,geometry FROM {schema_hex}.{table_hex} WHERE \\\"city\\\" = '{city}\\' AND \\\"type\\\" = '{type}\\'\"\n",
    "hex_urban = aup.gdf_from_query(query, geometry_col='geometry')\n",
    "\n",
    "# Download hexagons with type=rural within 500m buffer\n",
    "poly = hex_urban.to_crs(\"EPSG:6372\").buffer(500).reset_index()\n",
    "poly = poly.to_crs(\"EPSG:4326\")\n",
    "poly_wkt = poly.dissolve().geometry.to_wkt()[0]\n",
    "type = 'rural'\n",
    "query = f\"SELECT hex_id_8,geometry FROM {schema_hex}.{table_hex} WHERE \\\"city\\\" = '{city}\\' AND \\\"type\\\" = '{type}\\' AND (ST_Intersects(geometry, \\'SRID=4326;{poly_wkt}\\'))\"\n",
    "hex_rural = aup.gdf_from_query(query, geometry_col='geometry')\n",
    "\n",
    "# Concatenate urban and rural hex\n",
    "hex_city = pd.concat([hex_urban, hex_rural])\n",
    "\n",
    "print(f'Downloaded {len(hex_city)} hexagon features')\n",
    "\n",
    "# Show\n",
    "hex_city.plot()"
   ]
  },
  {
   "cell_type": "markdown",
   "id": "64e7c0bb-0288-4046-b8f6-fc7589a4745f",
   "metadata": {},
   "source": [
    "## 02 - Download and process rasters"
   ]
  },
  {
   "cell_type": "code",
   "execution_count": 4,
   "id": "bcce0bdb-6c63-4e0f-8cf2-f391df646d69",
   "metadata": {},
   "outputs": [
    {
     "name": "stderr",
     "output_type": "stream",
     "text": [
      "/opt/conda/envs/gds/lib/python3.9/site-packages/pystac_client/item_search.py:835: FutureWarning: get_items() is deprecated, use items() instead\n",
      "  warnings.warn(\n",
      "  0%|                                                                                                                                                                                                       | 0/60 [00:00<?, ?it/s]/opt/conda/envs/gds/lib/python3.9/site-packages/pystac_client/item_search.py:835: FutureWarning: get_items() is deprecated, use items() instead\n",
      "  warnings.warn(\n",
      "/opt/conda/envs/gds/lib/python3.9/site-packages/pystac_client/item_search.py:835: FutureWarning: get_items() is deprecated, use items() instead\n",
      "  warnings.warn(\n",
      "  8%|███████████████▋                                                                                                                                                                            | 5/60 [24:00<4:24:09, 288.18s/it]\n"
     ]
    },
    {
     "ename": "AvailableData",
     "evalue": "Multiple missing months together",
     "output_type": "error",
     "traceback": [
      "\u001b[0;31m---------------------------------------------------------------------------\u001b[0m",
      "\u001b[0;31mAvailableData\u001b[0m                             Traceback (most recent call last)",
      "Cell \u001b[0;32mIn[4], line 2\u001b[0m\n\u001b[1;32m      1\u001b[0m \u001b[38;5;66;03m### Download and process rasters\u001b[39;00m\n\u001b[0;32m----> 2\u001b[0m df_len \u001b[38;5;241m=\u001b[39m \u001b[43maup\u001b[49m\u001b[38;5;241;43m.\u001b[39;49m\u001b[43mdownload_raster_from_pc\u001b[49m\u001b[43m(\u001b[49m\u001b[43mhex_city\u001b[49m\u001b[43m,\u001b[49m\u001b[43m \u001b[49m\u001b[43mindex_analysis\u001b[49m\u001b[43m,\u001b[49m\u001b[43m \u001b[49m\u001b[43mcity\u001b[49m\u001b[43m,\u001b[49m\u001b[43m \u001b[49m\u001b[43mfreq\u001b[49m\u001b[43m,\u001b[49m\u001b[43m \u001b[49m\u001b[43mstart_date\u001b[49m\u001b[43m,\u001b[49m\u001b[43m \u001b[49m\u001b[43mend_date\u001b[49m\u001b[43m,\u001b[49m\u001b[43m \u001b[49m\u001b[43mtmp_dir\u001b[49m\u001b[43m,\u001b[49m\u001b[43m \u001b[49m\u001b[43mband_name_dict\u001b[49m\u001b[43m,\u001b[49m\u001b[43m \u001b[49m\u001b[43msatellite\u001b[49m\u001b[43m \u001b[49m\u001b[38;5;241;43m=\u001b[39;49m\u001b[43m \u001b[49m\u001b[43msatellite\u001b[49m\u001b[43m)\u001b[49m\n",
      "File \u001b[0;32m~/accesibilidad-urbana/aup/raster.py:152\u001b[0m, in \u001b[0;36mdownload_raster_from_pc\u001b[0;34m(gdf, index_analysis, city, freq, start_date, end_date, tmp_dir, band_name_dict, query, satellite)\u001b[0m\n\u001b[1;32m    149\u001b[0m log(\u001b[38;5;124m'\u001b[39m\u001b[38;5;124mStarting raster creation for specified time\u001b[39m\u001b[38;5;124m'\u001b[39m)\n\u001b[1;32m    151\u001b[0m \u001b[38;5;66;03m# download raster data by month\u001b[39;00m\n\u001b[0;32m--> 152\u001b[0m df_len \u001b[38;5;241m=\u001b[39m \u001b[43mcreate_raster_by_month\u001b[49m\u001b[43m(\u001b[49m\n\u001b[1;32m    153\u001b[0m \u001b[43m    \u001b[49m\u001b[43mdf_len\u001b[49m\u001b[43m,\u001b[49m\u001b[43m \u001b[49m\u001b[43mindex_analysis\u001b[49m\u001b[43m,\u001b[49m\u001b[43m \u001b[49m\u001b[43mcity\u001b[49m\u001b[43m,\u001b[49m\u001b[43m \u001b[49m\u001b[43mtmp_dir\u001b[49m\u001b[43m,\u001b[49m\n\u001b[1;32m    154\u001b[0m \u001b[43m    \u001b[49m\u001b[43mband_name_dict\u001b[49m\u001b[43m,\u001b[49m\u001b[43mdate_list\u001b[49m\u001b[43m,\u001b[49m\u001b[43m \u001b[49m\u001b[43mgdf_raster_test\u001b[49m\u001b[43m,\u001b[49m\n\u001b[1;32m    155\u001b[0m \u001b[43m    \u001b[49m\u001b[43mgdf_bb\u001b[49m\u001b[43m,\u001b[49m\u001b[43m \u001b[49m\u001b[43marea_of_interest\u001b[49m\u001b[43m,\u001b[49m\u001b[43m \u001b[49m\u001b[43msatellite\u001b[49m\u001b[43m,\u001b[49m\u001b[43m \u001b[49m\u001b[43mquery\u001b[49m\u001b[38;5;241;43m=\u001b[39;49m\u001b[43mquery\u001b[49m\u001b[43m)\u001b[49m\n\u001b[1;32m    156\u001b[0m log(\u001b[38;5;124m'\u001b[39m\u001b[38;5;124mFinished raster creation\u001b[39m\u001b[38;5;124m'\u001b[39m)\n\u001b[1;32m    157\u001b[0m \u001b[38;5;66;03m# calculates percentage of missing months\u001b[39;00m\n",
      "File \u001b[0;32m~/accesibilidad-urbana/aup/raster.py:917\u001b[0m, in \u001b[0;36mcreate_raster_by_month\u001b[0;34m(df_len, index_analysis, city, tmp_dir, band_name_dict, date_list, gdf_raster_test, gdf_bb, aoi, sat, query, time_exc_limit)\u001b[0m\n\u001b[1;32m    915\u001b[0m         df_raster\u001b[38;5;241m.\u001b[39mloc[df_raster\u001b[38;5;241m.\u001b[39mindex\u001b[38;5;241m==\u001b[39mi,\u001b[38;5;124m'\u001b[39m\u001b[38;5;124mable_to_download\u001b[39m\u001b[38;5;124m'\u001b[39m]\u001b[38;5;241m=\u001b[39m\u001b[38;5;241m0\u001b[39m\n\u001b[1;32m    916\u001b[0m         df_raster\u001b[38;5;241m.\u001b[39mto_csv(df_file_dir, index\u001b[38;5;241m=\u001b[39m\u001b[38;5;28;01mFalse\u001b[39;00m)\n\u001b[0;32m--> 917\u001b[0m         \u001b[43mavailable_data_check\u001b[49m\u001b[43m(\u001b[49m\u001b[43mdf_raster\u001b[49m\u001b[43m,\u001b[49m\u001b[43m \u001b[49m\u001b[38;5;28;43mlen\u001b[39;49m\u001b[43m(\u001b[49m\u001b[43mdf_raster\u001b[49m\u001b[38;5;241;43m.\u001b[39;49m\u001b[43mloc\u001b[49m\u001b[43m[\u001b[49m\u001b[43mdf_raster\u001b[49m\u001b[38;5;241;43m.\u001b[39;49m\u001b[43mdata_id\u001b[49m\u001b[38;5;241;43m==\u001b[39;49m\u001b[38;5;241;43m0\u001b[39;49m\u001b[43m]\u001b[49m\u001b[43m)\u001b[49m\u001b[43m)\u001b[49m \u001b[38;5;66;03m# test for missing months\u001b[39;00m\n\u001b[1;32m    918\u001b[0m         \u001b[38;5;28;01mcontinue\u001b[39;00m\n\u001b[1;32m    920\u001b[0m df_len \u001b[38;5;241m=\u001b[39m pd\u001b[38;5;241m.\u001b[39mread_csv(df_file_dir, index_col\u001b[38;5;241m=\u001b[39m\u001b[38;5;28;01mFalse\u001b[39;00m)\n",
      "File \u001b[0;32m~/accesibilidad-urbana/aup/raster.py:54\u001b[0m, in \u001b[0;36mavailable_data_check\u001b[0;34m(df_len, missing_months, pct_limit, window_limit)\u001b[0m\n\u001b[1;32m     52\u001b[0m df_rol \u001b[38;5;241m=\u001b[39m df_len\u001b[38;5;241m.\u001b[39mrolling(window_limit)\u001b[38;5;241m.\u001b[39msum()\n\u001b[1;32m     53\u001b[0m \u001b[38;5;28;01mif\u001b[39;00m \u001b[38;5;28mlen\u001b[39m(df_rol\u001b[38;5;241m.\u001b[39mloc[df_rol\u001b[38;5;241m.\u001b[39mdata_id\u001b[38;5;241m==\u001b[39m\u001b[38;5;241m0\u001b[39m])\u001b[38;5;241m>\u001b[39m\u001b[38;5;241m0\u001b[39m:\n\u001b[0;32m---> 54\u001b[0m     \u001b[38;5;28;01mraise\u001b[39;00m AvailableData(\u001b[38;5;124m'\u001b[39m\u001b[38;5;124mMultiple missing months together\u001b[39m\u001b[38;5;124m'\u001b[39m)\n\u001b[1;32m     55\u001b[0m \u001b[38;5;28;01mdel\u001b[39;00m df_rol\n",
      "\u001b[0;31mAvailableData\u001b[0m: Multiple missing months together"
     ]
    }
   ],
   "source": [
    "### Download and process rasters\n",
    "df_len = aup.download_raster_from_pc(hex_city, index_analysis, city, freq, start_date, end_date, tmp_dir, band_name_dict, satellite = satellite)"
   ]
  },
  {
   "cell_type": "markdown",
   "id": "72ffe3d9-4d65-4eee-930f-f56e85521d27",
   "metadata": {},
   "source": [
    "## 03 - Create hexgrids"
   ]
  },
  {
   "cell_type": "code",
   "execution_count": 5,
   "id": "258fabaf-ddea-47c2-9d98-45097188c09d",
   "metadata": {},
   "outputs": [
    {
     "name": "stdout",
     "output_type": "stream",
     "text": [
      "Loaded hexgrid res 8\n",
      "Loaded hexgrid res 11\n"
     ]
    }
   ],
   "source": [
    "# Create res_list\n",
    "res_list=[]\n",
    "for r in range(res[0],res[-1]+1):\n",
    "    res_list.append(r)\n",
    "\n",
    "# Load hexgrids\n",
    "hex_gdf = hex_city.copy()\n",
    "hex_gdf.rename(columns={f'hex_id_8':'hex_id'}, inplace=True)\n",
    "hex_gdf['res'] = 8\n",
    "\n",
    "print(f'Loaded hexgrid res 8')\n",
    "\n",
    "for r in res_list:\n",
    "    # biggest resolution already loaded\n",
    "    if r == 8:\n",
    "        continue\n",
    "    # Load hexgrid\n",
    "    table_hex = f'hexgrid_{r}_city_2020'\n",
    "    query = f\"SELECT hex_id_{r},geometry FROM {schema_hex}.{table_hex} WHERE (ST_Intersects(geometry, \\'SRID=4326;{poly_wkt}\\'))\"\n",
    "    hex_tmp = aup.gdf_from_query(query, geometry_col='geometry')\n",
    "    # Format hexgrid\n",
    "    hex_tmp.rename(columns={f'hex_id_{r}':'hex_id'}, inplace=True)\n",
    "    hex_tmp['res'] = r\n",
    "    # Concatenate to hex_gdf\n",
    "    hex_gdf = pd.concat([hex_gdf, hex_tmp])\n",
    "\n",
    "    print(f'Loaded hexgrid res {r}')\n",
    "\n",
    "    del hex_tmp"
   ]
  },
  {
   "cell_type": "code",
   "execution_count": 6,
   "id": "961d4ac3-569d-40f8-83b8-06cddc4e0bf8",
   "metadata": {},
   "outputs": [
    {
     "data": {
      "text/plain": [
       "array([11])"
      ]
     },
     "execution_count": 6,
     "metadata": {},
     "output_type": "execute_result"
    }
   ],
   "source": [
    "# NOT IN SCRIPT - Since this notebook allows us to run trials it keeps 1 resolution specified in res\n",
    "hex_gdf = hex_gdf.loc[hex_gdf.res == res[0]]\n",
    "hex_gdf.res.unique()"
   ]
  },
  {
   "cell_type": "markdown",
   "id": "13503acc-2941-4d2e-8f5d-4fae80ac3423",
   "metadata": {},
   "source": [
    "## 04 - Process and save data"
   ]
  },
  {
   "cell_type": "code",
   "execution_count": 10,
   "id": "131e86e1-155e-4764-9a55-668a7c650f98",
   "metadata": {},
   "outputs": [],
   "source": [
    "def raster_to_hex_save(hex_gdf_i, df_len, index_analysis, tmp_dir, city, r, save, i=0):\n",
    "    print(f'Translating raster to hexagon for res: {r}')\n",
    "    \n",
    "    hex_raster_analysis, df_raster_analysis = aup.raster_to_hex_analysis(hex_gdf_i, df_len, index_analysis,\n",
    "                                                                tmp_dir, city, r)\n",
    "    print('Finished assigning raster data to hexagons')\n",
    "    print(f'df nan values: {df_raster_analysis[index_analysis].isna().sum()}')\n",
    "    if df_raster_analysis[index_analysis].isna().sum() > 0:\n",
    "        raise NanValues('NaN values are still present after processing')\n",
    "    \n",
    "    # local save (test)\n",
    "    if local_save:\n",
    "        # Create folder to store local save\n",
    "        localsave_dir = tmp_dir+'local_save/'\n",
    "        if os.path.exists(localsave_dir) == False:\n",
    "            os.mkdir(localsave_dir)\n",
    "    \n",
    "        # Local save\n",
    "        hex_raster_analysis.to_file(tmp_dir+'local_save/'+f'{city}_{index_analysis}_HexRes{r}_v{i}.geojson')\n",
    "        df_raster_analysis.to_csv(tmp_dir+'local_save/'+f'{city}_{index_analysis}_HexRes{r}_v{i}.csv')\n",
    "\n",
    "    # Save - upload to database\n",
    "    if save:\n",
    "        upload_chunk = 150000\n",
    "        print(f'Starting upload for res: {r}')\n",
    "\n",
    "        if r == 8:\n",
    "            # df upload\n",
    "            aup.df_to_db_slow(df_raster_analysis, f'{index_analysis}_complete_dataset_hex',\n",
    "                            'raster_analysis', if_exists='append', chunksize=upload_chunk)\n",
    "            # gdf upload\n",
    "            aup.gdf_to_db_slow(hex_raster_analysis, f'{index_analysis}_analysis_hex',\n",
    "                            'raster_analysis', if_exists='append')\n",
    "\n",
    "        else:\n",
    "            # df upload\n",
    "            limit_len = 5000000\n",
    "            if len(df_raster_analysis)>limit_len:\n",
    "                c_upload = len(df_raster_analysis)/limit_len\n",
    "                for k in range(int(c_upload)+1):\n",
    "                    print(f\"Starting range k = {k} of {int(c_upload)}\")\n",
    "                    df_inter_upload = df_raster_analysis.iloc[int(limit_len*k):int(limit_len*(1+k))].copy()\n",
    "                    aup.df_to_db(df_inter_upload,f'{index_analysis}_complete_dataset_hex',\n",
    "                                    'raster_analysis', if_exists='append')\n",
    "            else:\n",
    "                aup.df_to_db(df_raster_analysis,f'{index_analysis}_complete_dataset_hex',\n",
    "                                    'raster_analysis', if_exists='append')\n",
    "            # gdf upload\n",
    "            aup.gdf_to_db_slow(hex_raster_analysis, f'{index_analysis}_analysis_hex',\n",
    "                            'raster_analysis', if_exists='append')\n",
    "        print(f'Finished uploading data for res{r}')\n",
    "        \n",
    "    # delete variables\n",
    "    del df_raster_analysis\n",
    "    del hex_raster_analysis"
   ]
  },
  {
   "cell_type": "code",
   "execution_count": null,
   "id": "14861b56-c560-4f12-b046-72fa1db20959",
   "metadata": {},
   "outputs": [
    {
     "name": "stdout",
     "output_type": "stream",
     "text": [
      "---------------------------------------\n",
      "STARTING processing for resolution 11.\n",
      "hex_gdf_res len: 128538 is bigger than processing chunk: 100000\n",
      "There are 1 processes\n",
      "Processing from 0 to 100000\n",
      "Translating raster to hexagon for res: 11\n"
     ]
    },
    {
     "name": "stderr",
     "output_type": "stream",
     "text": [
      "  0%|                                                                                                                                                                                                        | 0/5 [00:00<?, ?it/s]\n",
      " 20%|██████████████████████████████████████▏                                                                                                                                                        | 1/5 [04:20<17:21, 260.31s/it]\u001b[A\n",
      "\n",
      "  0%|                                                                                                                                                                                                       | 0/12 [04:20<?, ?it/s]\u001b[A\u001b[A\n",
      " 40%|████████████████████████████████████████████████████████████████████████████▍                                                                                                                  | 2/5 [09:14<14:00, 280.31s/it]\n",
      "  0%|                                                                                                                                                                                                       | 0/12 [04:54<?, ?it/s]\u001b[A\n"
     ]
    }
   ],
   "source": [
    "for r in list(hex_gdf.res.unique()):\n",
    "\n",
    "    print(f'---------------------------------------')\n",
    "    print(f'STARTING processing for resolution {r}.')\n",
    "\n",
    "    processing_chunk = 100000\n",
    "\n",
    "    # filters hexagons at specified resolution\n",
    "    hex_gdf_res = hex_gdf.loc[hex_gdf.res==r].copy()\n",
    "    hex_gdf_res = hex_gdf_res.reset_index(drop=True)\n",
    "\n",
    "    if len(hex_gdf_res)>processing_chunk:\n",
    "        print(f'hex_gdf_res len: {len(hex_gdf_res)} is bigger than processing chunk: {processing_chunk}')\n",
    "        c_processing = len(hex_gdf_res)/processing_chunk\n",
    "        print(f'There are {round(c_processing)} processes')\n",
    "        for i in range(int(c_processing)+1):\n",
    "            print(f'Processing from {i*processing_chunk} to {(i+1)*processing_chunk}')\n",
    "            hex_gdf_i = hex_gdf_res.iloc[int(processing_chunk*i):int(processing_chunk*(1+i))].copy()\n",
    "            raster_to_hex_save(hex_gdf_i, df_len, index_analysis, tmp_dir, city, r, save, i)\n",
    "\n",
    "    else:\n",
    "        print('hex_gdf len smaller than processing chunk')\n",
    "        hex_gdf_i = hex_gdf_res.copy()\n",
    "        raster_to_hex_save(hex_gdf_i, df_len, index_analysis, tmp_dir, city, r, save)\n",
    "\n",
    "print(f'Finished processing city -- {city}')\n",
    "del hex_gdf\n",
    "\n",
    "if del_data:\n",
    "    # delete raster files\n",
    "    aup.delete_files_from_folder(tmp_dir)"
   ]
  },
  {
   "cell_type": "code",
   "execution_count": null,
   "id": "4229a2e8-8694-4b40-8bb2-aa46bc005162",
   "metadata": {},
   "outputs": [],
   "source": []
  }
 ],
 "metadata": {
  "kernelspec": {
   "display_name": "GDS-10.0",
   "language": "python",
   "name": "gds"
  },
  "language_info": {
   "codemirror_mode": {
    "name": "ipython",
    "version": 3
   },
   "file_extension": ".py",
   "mimetype": "text/x-python",
   "name": "python",
   "nbconvert_exporter": "python",
   "pygments_lexer": "ipython3",
   "version": "3.9.18"
  }
 },
 "nbformat": 4,
 "nbformat_minor": 5
}
