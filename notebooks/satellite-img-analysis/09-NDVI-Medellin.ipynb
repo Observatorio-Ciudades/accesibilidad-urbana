{
 "cells": [
  {
   "cell_type": "markdown",
   "id": "0ea640a6-b205-4091-8eea-c4dcab0fffd2",
   "metadata": {},
   "source": [
    "# Medellín NDVI"
   ]
  },
  {
   "cell_type": "markdown",
   "id": "8572ac2b-ccd1-4743-977c-4f150a03a06c",
   "metadata": {},
   "source": [
    "NDVI analysis for Medellín using updated functions in raster.py"
   ]
  },
  {
   "cell_type": "markdown",
   "id": "e85673a1-e837-4d98-85d4-ffc1ed848b37",
   "metadata": {},
   "source": [
    "## Import packages"
   ]
  },
  {
   "cell_type": "code",
   "execution_count": 1,
   "id": "0f476748-81ea-4211-afae-7858cae91474",
   "metadata": {},
   "outputs": [
    {
     "name": "stderr",
     "output_type": "stream",
     "text": [
      "/home/edgaregurrola/anaconda3/envs/odc/lib/python3.10/site-packages/geopandas/_compat.py:123: UserWarning: The Shapely GEOS version (3.10.3-CAPI-1.16.1) is incompatible with the GEOS version PyGEOS was compiled with (3.10.1-CAPI-1.16.0). Conversions between both will be slow.\n",
      "  warnings.warn(\n",
      "/home/edgaregurrola/.local/lib/python3.10/site-packages/requests/__init__.py:109: RequestsDependencyWarning: urllib3 (1.26.9) or chardet (5.1.0)/charset_normalizer (2.0.12) doesn't match a supported version!\n",
      "  warnings.warn(\n"
     ]
    },
    {
     "name": "stdout",
     "output_type": "stream",
     "text": [
      "2023-07-27 11:41:18 Configured OSMnx 1.1.2\n",
      "2023-07-27 11:41:18 HTTP response caching is on\n"
     ]
    }
   ],
   "source": [
    "import pandas as pd\n",
    "import geopandas as gpd\n",
    "\n",
    "import os\n",
    "import sys\n",
    "module_path = os.path.abspath(os.path.join('../../'))\n",
    "if module_path not in sys.path:\n",
    "    sys.path.append(module_path)\n",
    "    import aup"
   ]
  },
  {
   "cell_type": "markdown",
   "id": "75c8632d-1e90-45f1-9a77-2edd2620438e",
   "metadata": {},
   "source": [
    "## Read Medellín limits"
   ]
  },
  {
   "cell_type": "code",
   "execution_count": 2,
   "id": "4160895e-dc64-45d9-96f4-2aefbe19be2f",
   "metadata": {},
   "outputs": [
    {
     "name": "stdout",
     "output_type": "stream",
     "text": [
      "(18, 8)\n"
     ]
    },
    {
     "data": {
      "text/plain": [
       "<AxesSubplot: >"
      ]
     },
     "execution_count": 2,
     "metadata": {},
     "output_type": "execute_result"
    },
    {
     "data": {
      "image/png": "[encoded data removed]",
      "text/plain": [
       "<Figure size 432x288 with 1 Axes>"
      ]
     },
     "metadata": {
      "needs_background": "light"
     },
     "output_type": "display_data"
    }
   ],
   "source": [
    "gdf = gpd.read_file('../../data/external/Perimetro_Urb_Med/Perimetro_Urb_Med.shp')\n",
    "print(gdf.shape)\n",
    "gdf.plot()"
   ]
  },
  {
   "cell_type": "code",
   "execution_count": 3,
   "id": "9e7aff08-5513-4109-8600-6c9a13eff842",
   "metadata": {},
   "outputs": [],
   "source": [
    "gdf = gdf.to_crs(\"EPSG:4326\")"
   ]
  },
  {
   "cell_type": "markdown",
   "id": "4121062c-8891-4b19-a3cf-436d62db61b1",
   "metadata": {},
   "source": [
    "## Download raster"
   ]
  },
  {
   "cell_type": "code",
   "execution_count": 4,
   "id": "fd7833f5-d253-4b35-b61a-d07a97b4e181",
   "metadata": {},
   "outputs": [],
   "source": [
    "band_name_dict = {'nir':[False],\n",
    "                      'red':[False],\n",
    "                 'eq':[\"(nir-red)/(nir+red)\"]}\n",
    "index_analysis = 'ndvi'\n",
    "tmp_dir = f'../../data/processed/tmp_{index_analysis}/'\n",
    "res = [8,11] # 8, 11\n",
    "freq = 'MS'\n",
    "start_date = '2018-01-01'\n",
    "end_date = '2022-12-31'\n",
    "satellite = \"sentinel-2-l2a\"\n",
    "save = False # True\n",
    "del_data = False # True\n",
    "city = 'Medellin'\n",
    "query = {}\n"
   ]
  },
  {
   "cell_type": "markdown",
   "id": "f3105ac4-ef60-4195-8216-6fcc23df855d",
   "metadata": {},
   "source": [
    "### Function"
   ]
  },
  {
   "cell_type": "markdown",
   "id": "8d4fc526-2084-4e29-ba7d-9cec587c34f5",
   "metadata": {
    "tags": []
   },
   "source": [
    "### step by step process"
   ]
  },
  {
   "cell_type": "code",
   "execution_count": 5,
   "id": "7df0ba47-5347-40e2-9851-6d52e684bcc2",
   "metadata": {},
   "outputs": [],
   "source": [
    "# Create buffer around hexagons\n",
    "poly = gdf.to_crs(\"EPSG:6372\").buffer(500)\n",
    "poly = poly.to_crs(\"EPSG:4326\")\n",
    "poly = gpd.GeoDataFrame(geometry=poly).dissolve().geometry\n",
    "# Extracts coordinates from polygon as DataFrame\n",
    "coord_val = poly.bounds\n",
    "# Gets coordinates for bounding box\n",
    "n = coord_val.maxy.max()\n",
    "s = coord_val.miny.min()\n",
    "e = coord_val.maxx.max()\n",
    "w = coord_val.minx.min()\n",
    "\n",
    "# Sets the coordinates for the area of interest\n",
    "area_of_interest = {\n",
    "    \"type\": \"Polygon\",\n",
    "    \"coordinates\": [\n",
    "        [\n",
    "            [e, s],\n",
    "            [w, s],\n",
    "            [w, n],\n",
    "            [e, n],\n",
    "            [e, s],\n",
    "        ]\n",
    "    ],\n",
    "}\n",
    "\n",
    "# create time of interest\n",
    "time_of_interest = aup.create_time_of_interest(start_date, end_date, freq=freq)\n",
    "# gathers items for time and area of interest\n",
    "items = aup.gather_items(time_of_interest, area_of_interest, query=query, satellite=satellite)\n",
    "\n",
    "date_list = aup.available_datasets(items, satellite)\n",
    "\n",
    "# create dictionary from links\n",
    "band_name_list = list(band_name_dict.keys())[:-1]\n",
    "assets_hrefs = aup.link_dict(band_name_list, items, date_list)\n",
    "\n",
    "# analyze available data according to raster properties\n",
    "df_len, missing_months = aup.df_date_links(assets_hrefs, start_date, end_date, \n",
    "                                       band_name_list, freq)\n",
    "aup.available_data_check(df_len, missing_months) # test for missing months\n",
    "\n",
    "# creates raster and analyzes percentage of missing data points\n",
    "df_len, missing_months = aup.df_date_links(assets_hrefs, start_date, end_date, \n",
    "                                       band_name_list, freq)\n",
    "pct_missing = round(missing_months/len(df_len),2)*100\n",
    "# if more than 50% of data is missing, raise error and print message\n",
    "if pct_missing >= 50:\n",
    "    raise AvailableData('Missing more than 50 percent of data points')\n",
    "\n",
    "# raster cropping with bounding box from earlier \n",
    "bounding_box = gpd.GeoDataFrame(geometry=poly).envelope\n",
    "gdf_bb = gpd.GeoDataFrame(gpd.GeoSeries(bounding_box), columns=['geometry'])\n",
    "\n",
    "# create GeoDataFrame to test nan values in raster\n",
    "gdf_raster_test = gdf.to_crs(\"EPSG:6372\").buffer(1)\n",
    "gdf_raster_test = gdf_raster_test.to_crs(\"EPSG:4326\")\n",
    "gdf_raster_test = gpd.GeoDataFrame(geometry=gdf_raster_test).dissolve()\n",
    "\n",
    "# raster creation\n"
   ]
  },
  {
   "cell_type": "code",
   "execution_count": 23,
   "id": "80d51849-d19c-4c73-b526-e3258c076a74",
   "metadata": {},
   "outputs": [],
   "source": [
    "from func_timeout import func_timeout\n",
    "import numpy as np\n",
    "import rasterio\n",
    "from tqdm import tqdm\n",
    "from datetime import datetime\n",
    "from dateutil.relativedelta import relativedelta\n",
    "\n",
    "\n",
    "df_len['able_to_download'] = np.nan\n",
    "\n",
    "i = 4\n",
    "\n",
    "# check if file exists, for example in case of code crash\n",
    "df_file_dir = tmp_dir+index_analysis+f'_{city}_dataframe.csv'\n",
    "if os.path.exists(df_file_dir) == False: # Or folder, will return true or false\n",
    "    df_len.to_csv(df_file_dir)\n",
    "# create folder to store temporary raster files by iteration\n",
    "tmp_raster_dir = tmp_dir+'temporary_files/'\n",
    "if os.path.exists(tmp_raster_dir) == False: # Or folder, will return true or false\n",
    "    os.mkdir(tmp_raster_dir)\n",
    "\n",
    "df_raster = pd.read_csv(df_file_dir, index_col=False)\n",
    "\n",
    "# binary id - checks if month could be processed\n",
    "checker = 0\n",
    "\n",
    "# gather month and year from df to save ndmi\n",
    "month_ = df_raster.loc[df_raster.index==i].month.values[0]\n",
    "year_ = df_raster.loc[df_raster.index==i].year.values[0]\n",
    "\n",
    "# gather links for raster images\n",
    "sample_date = datetime(year_, month_, 1)\n",
    "first_day = sample_date + relativedelta(day=1)\n",
    "last_day = sample_date + relativedelta(day=31)\n",
    "\n",
    "# creates time range for a specific month\n",
    "time_of_interest = [f\"{year_}-{month_:02d}-{first_day.day:02d}/{year_}\"+\n",
    "                    f\"-{month_:02d}-{last_day.day:02d}\"]\n",
    "\n",
    "\n",
    "# gather links for the date range\n",
    "items = aup.gather_items(time_of_interest, area_of_interest, query=query, satellite=satellite)\n",
    "# gather links from dates that are within date_list\n",
    "assets_hrefs = aup.link_dict(band_name_list, items, date_list)\n",
    "# create dataframe\n",
    "#df_links = pd.DataFrame.from_dict(assets_hrefs, \n",
    "#                                orient='Index').reset_index().rename(columns={'index':'date'})\n"
   ]
  },
  {
   "cell_type": "code",
   "execution_count": 24,
   "id": "c963cc8f-1263-420b-81e6-d11bf96941df",
   "metadata": {},
   "outputs": [
    {
     "data": {
      "text/plain": [
       "{'nir': ['https://sentinel2l2a01.blob.core.windows.net/sentinel2-l2/18/N/VN/2018/05/29/S2A_MSIL2A_20180529T152641_N0212_R025_T18NVN_20201012T152604.SAFE/GRANULE/L2A_T18NVN_A015323_20180529T152640/IMG_DATA/R10m/T18NVN_20180529T152641_B08_10m.tif?st=2023-07-26T17%3A41%3A38Z&se=2023-07-27T18%3A26%3A38Z&sp=rl&sv=2021-06-08&sr=c&skoid=c85c15d6-d1ae-42d4-af60-e2ca0f81359b&sktid=72f988bf-86f1-41af-91ab-2d7cd011db47&skt=2023-07-27T14%3A44%3A14Z&ske=2023-08-03T14%3A44%3A14Z&sks=b&skv=2021-06-08&sig=sWIgIP6COqjVk9B3DdZzfqyoqBw2nHziBpxPeO6WSd8%3D',\n",
       "  'https://sentinel2l2a01.blob.core.windows.net/sentinel2-l2/18/N/VM/2018/05/29/S2A_MSIL2A_20180529T152641_N0212_R025_T18NVM_20201012T152608.SAFE/GRANULE/L2A_T18NVM_A015323_20180529T152640/IMG_DATA/R10m/T18NVM_20180529T152641_B08_10m.tif?st=2023-07-26T17%3A41%3A38Z&se=2023-07-27T18%3A26%3A38Z&sp=rl&sv=2021-06-08&sr=c&skoid=c85c15d6-d1ae-42d4-af60-e2ca0f81359b&sktid=72f988bf-86f1-41af-91ab-2d7cd011db47&skt=2023-07-27T14%3A44%3A14Z&ske=2023-08-03T14%3A44%3A14Z&sks=b&skv=2021-06-08&sig=sWIgIP6COqjVk9B3DdZzfqyoqBw2nHziBpxPeO6WSd8%3D'],\n",
       " 'red': ['https://sentinel2l2a01.blob.core.windows.net/sentinel2-l2/18/N/VN/2018/05/29/S2A_MSIL2A_20180529T152641_N0212_R025_T18NVN_20201012T152604.SAFE/GRANULE/L2A_T18NVN_A015323_20180529T152640/IMG_DATA/R10m/T18NVN_20180529T152641_B04_10m.tif?st=2023-07-26T17%3A41%3A38Z&se=2023-07-27T18%3A26%3A38Z&sp=rl&sv=2021-06-08&sr=c&skoid=c85c15d6-d1ae-42d4-af60-e2ca0f81359b&sktid=72f988bf-86f1-41af-91ab-2d7cd011db47&skt=2023-07-27T14%3A44%3A14Z&ske=2023-08-03T14%3A44%3A14Z&sks=b&skv=2021-06-08&sig=sWIgIP6COqjVk9B3DdZzfqyoqBw2nHziBpxPeO6WSd8%3D',\n",
       "  'https://sentinel2l2a01.blob.core.windows.net/sentinel2-l2/18/N/VM/2018/05/29/S2A_MSIL2A_20180529T152641_N0212_R025_T18NVM_20201012T152608.SAFE/GRANULE/L2A_T18NVM_A015323_20180529T152640/IMG_DATA/R10m/T18NVM_20180529T152641_B04_10m.tif?st=2023-07-26T17%3A41%3A38Z&se=2023-07-27T18%3A26%3A38Z&sp=rl&sv=2021-06-08&sr=c&skoid=c85c15d6-d1ae-42d4-af60-e2ca0f81359b&sktid=72f988bf-86f1-41af-91ab-2d7cd011db47&skt=2023-07-27T14%3A44%3A14Z&ske=2023-08-03T14%3A44%3A14Z&sks=b&skv=2021-06-08&sig=sWIgIP6COqjVk9B3DdZzfqyoqBw2nHziBpxPeO6WSd8%3D']}"
      ]
     },
     "execution_count": 24,
     "metadata": {},
     "output_type": "execute_result"
    }
   ],
   "source": [
    "data_link = 0\n",
    "bands_links = assets_hrefs[list(assets_hrefs.keys())[data_link]]\n",
    "bands_links"
   ]
  },
  {
   "cell_type": "code",
   "execution_count": 25,
   "id": "efc4753a-c04f-4bde-bb90-5634a1c94b6e",
   "metadata": {},
   "outputs": [],
   "source": [
    "raster_arrays = aup.mosaic_process_v2(bands_links, band_name_dict,\n",
    "                     gdf_bb, tmp_raster_dir)"
   ]
  },
  {
   "cell_type": "code",
   "execution_count": 26,
   "id": "d255caf0-9298-4eb3-b6a0-7f234c445847",
   "metadata": {},
   "outputs": [
    {
     "data": {
      "text/plain": [
       "dict_keys(['nir', 'red'])"
      ]
     },
     "execution_count": 26,
     "metadata": {},
     "output_type": "execute_result"
    }
   ],
   "source": [
    "raster_arrays.keys()"
   ]
  },
  {
   "cell_type": "code",
   "execution_count": 27,
   "id": "778693bc-3dcd-4658-87c7-9c1a851717c9",
   "metadata": {},
   "outputs": [
    {
     "ename": "SyntaxError",
     "evalue": "invalid syntax. Perhaps you forgot a comma? (<string>, line 1)",
     "output_type": "error",
     "traceback": [
      "Traceback \u001b[0;36m(most recent call last)\u001b[0m:\n",
      "  File \u001b[1;32m~/.local/lib/python3.10/site-packages/IPython/core/interactiveshell.py:3398\u001b[0m in \u001b[1;35mrun_code\u001b[0m\n    exec(code_obj, self.user_global_ns, self.user_ns)\n",
      "  Input \u001b[1;32mIn [27]\u001b[0m in \u001b[1;35m<cell line: 1>\u001b[0m\n    raster_index = aup.calculate_raster_index(band_name_dict, raster_arrays)\n",
      "\u001b[0;36m  File \u001b[0;32m~/Repos/observatorio-ciudades/accesibilidad-urbana/aup/raster.py:914\u001b[0;36m in \u001b[0;35mcalculate_raster_index\u001b[0;36m\u001b[0m\n\u001b[0;31m    exec(f\"raster_index = {band_name_dict['eq'][0]}\", globals())\u001b[0m\n",
      "\u001b[0;36m  File \u001b[0;32m<string>:1\u001b[0;36m\u001b[0m\n\u001b[0;31m    raster_index = (ra['ra['nir'][0]'][0]-ra['ra['red'][0]'][0])/(ra['ra['nir'][0]'][0]+ra['ra['red'][0]'][0])\u001b[0m\n\u001b[0m                       ^\u001b[0m\n\u001b[0;31mSyntaxError\u001b[0m\u001b[0;31m:\u001b[0m invalid syntax. Perhaps you forgot a comma?\n"
     ]
    }
   ],
   "source": [
    "raster_index = aup.calculate_raster_index(band_name_dict, raster_arrays)\n",
    "raster_index"
   ]
  },
  {
   "cell_type": "code",
   "execution_count": null,
   "id": "fbedd95f-5571-4647-b784-d909a80f9e3d",
   "metadata": {},
   "outputs": [],
   "source": [
    "raster_index[raster_index == 0 ] = np.nan # change zero values to nan\n",
    "raster_index = raster_index.astype('float32') # change data type to float32 to avoid fillnodata error"
   ]
  },
  {
   "cell_type": "code",
   "execution_count": null,
   "id": "ed066032-c59b-4e5a-8deb-8e0721a25376",
   "metadata": {},
   "outputs": [],
   "source": [
    "from rasterio.fill import fillnodata\n",
    "\n",
    "raster_fill = fillnodata(raster_index, mask=~np.isnan(raster_index),\n",
    "                         max_search_distance=50, smoothing_iterations=0)"
   ]
  },
  {
   "cell_type": "code",
   "execution_count": null,
   "id": "42b8e8f7-b310-43c6-b7ef-79141edddf33",
   "metadata": {},
   "outputs": [],
   "source": [
    "out_meta = raster_arrays[list(raster_arrays.keys())[0]][2]\n",
    "\n",
    "with rasterio.open(f\"{tmp_raster_dir}{index_analysis}.tif\",'w', **out_meta) as dest:\n",
    "        dest.write(raster_fill)\n",
    "\n",
    "        dest.close()"
   ]
  },
  {
   "cell_type": "code",
   "execution_count": null,
   "id": "71d6e866-990a-41e3-b3ba-85d2475b86d8",
   "metadata": {},
   "outputs": [],
   "source": [
    "raster_file = rasterio.open(f\"{tmp_raster_dir}{index_analysis}.tif\")\n",
    "\n",
    "gdf_raster_test = gdf_raster_test.to_crs(raster_file.crs)"
   ]
  },
  {
   "cell_type": "code",
   "execution_count": null,
   "id": "8ab95c30-2070-48a1-b4a0-4c319e713174",
   "metadata": {},
   "outputs": [],
   "source": [
    "try:\n",
    "    # test for nan values within study area\n",
    "    aup.raster_nan_test(gdf_raster_test,raster_file)\n",
    "\n",
    "    # save raster to processing database\n",
    "    with rasterio.open(f\"{tmp_dir}{city}_{index_analysis}_{month_}_{year_}.tif\",'w', **out_meta) as dest:\n",
    "        dest.write(raster_fill)\n",
    "\n",
    "        dest.close()\n",
    "    checker = 1\n",
    "    iter_count = 6\n",
    "    delete_files_from_folder(tmp_raster_dir)\n",
    "except:\n",
    "    aup.delete_files_from_folder(tmp_raster_dir)"
   ]
  },
  {
   "cell_type": "code",
   "execution_count": null,
   "id": "194e1fd1-c43b-49ca-b876-fa36179fd000",
   "metadata": {},
   "outputs": [],
   "source": []
  },
  {
   "cell_type": "code",
   "execution_count": 53,
   "id": "8332db6f-a8a9-462d-b5da-5d1522376670",
   "metadata": {},
   "outputs": [],
   "source": [
    "def calculate_raster_index(band_name_dict, rasters_arrays):\n",
    "    \"\"\"\n",
    "    The function calculates the raster index according to a user equation. \n",
    "    If no equation is provided, the raster_array is returned.\n",
    "\n",
    "    Args:\n",
    "        band_name_dict (dict): dictionary containing the band names and the equation to be used\n",
    "        raster_arrays (dict): dictionary containing the rasters numpy arrays\n",
    "\n",
    "    Returns:\n",
    "        np.array: resulting numpy array for the raster index\n",
    "    \"\"\"\n",
    "\n",
    "    if len(band_name_dict['eq']) == 0:\n",
    "        # if there is no equation the raster array is the result\n",
    "        raster_idx = raster_arrays[list(raster_arrays.keys())[0]]\n",
    "        return raster_idx\n",
    "\n",
    "    # calculate raster index according to user equation\n",
    "    for rb in rasters_arrays.keys():\n",
    "        band_name_dict['eq'][0] = band_name_dict['eq'][0].replace(rb,f\"ra['{rb}'][0]\")\n",
    "\n",
    "        global ra\n",
    "    ra = rasters_arrays\n",
    "    exec(f\"raster_index = {band_name_dict['eq'][0]}\", globals())\n",
    "    # exec('myvar=\"boooh!\"', globals())\n",
    "    del ra\n",
    "\n",
    "    return raster_index"
   ]
  },
  {
   "cell_type": "code",
   "execution_count": 45,
   "id": "bf5ebc6f-e47c-4f59-9ba3-16fc9589c909",
   "metadata": {},
   "outputs": [
    {
     "data": {
      "text/plain": [
       "['([[[   0.    0.    0. ...    0.    0.    0.]\\n  [   0.    0. 3060. ...    0.    0.    0.]\\n  [   0.    0. 2934. ...    0.    0.    0.]\\n  ...\\n  [1014.  933.  993. ...    0.    0.    0.]\\n  [   0.    0.    0. ...    0.    0.    0.]\\n  [   0.    0.    0. ...    0.    0.    0.]]]-[[[  0.   0.   0. ...   0.   0.   0.]\\n  [  0.   0. 458. ...   0.   0.   0.]\\n  [  0.   0. 435. ...   0.   0.   0.]\\n  ...\\n  [794. 816. 816. ...   0.   0.   0.]\\n  [  0.   0.   0. ...   0.   0.   0.]\\n  [  0.   0.   0. ...   0.   0.   0.]]])/([[[   0.    0.    0. ...    0.    0.    0.]\\n  [   0.    0. 3060. ...    0.    0.    0.]\\n  [   0.    0. 2934. ...    0.    0.    0.]\\n  ...\\n  [1014.  933.  993. ...    0.    0.    0.]\\n  [   0.    0.    0. ...    0.    0.    0.]\\n  [   0.    0.    0. ...    0.    0.    0.]]]+[[[  0.   0.   0. ...   0.   0.   0.]\\n  [  0.   0. 458. ...   0.   0.   0.]\\n  [  0.   0. 435. ...   0.   0.   0.]\\n  ...\\n  [794. 816. 816. ...   0.   0.   0.]\\n  [  0.   0.   0. ...   0.   0.   0.]\\n  [  0.   0.   0. ...   0.   0.   0.]]])']"
      ]
     },
     "execution_count": 45,
     "metadata": {},
     "output_type": "execute_result"
    }
   ],
   "source": [
    "band_name_dict = {'nir':[False],\n",
    "                      'red':[False],\n",
    "                 'eq':[\"(nir-red)/(nir+red)\"]}\n",
    "for rb in raster_arrays.keys():\n",
    "    band_name_dict['eq'][0] = band_name_dict['eq'][0].replace(rb,str(raster_arrays[rb][0]))\n",
    "band_name_dict['eq']"
   ]
  },
  {
   "cell_type": "code",
   "execution_count": 46,
   "id": "13c6ca21-5cb6-4f2e-81dc-72d8100d8888",
   "metadata": {},
   "outputs": [
    {
     "ename": "SyntaxError",
     "evalue": "invalid syntax. Perhaps you forgot a comma? (<string>, line 1)",
     "output_type": "error",
     "traceback": [
      "Traceback \u001b[0;36m(most recent call last)\u001b[0m:\n",
      "  File \u001b[1;32m~/.local/lib/python3.10/site-packages/IPython/core/interactiveshell.py:3398\u001b[0m in \u001b[1;35mrun_code\u001b[0m\n    exec(code_obj, self.user_global_ns, self.user_ns)\n",
      "\u001b[0;36m  Input \u001b[0;32mIn [46]\u001b[0;36m in \u001b[0;35m<cell line: 1>\u001b[0;36m\u001b[0m\n\u001b[0;31m    exec(f\"raster_index = {band_name_dict['eq'][0]}\", globals())\u001b[0m\n",
      "\u001b[0;36m  File \u001b[0;32m<string>:1\u001b[0;36m\u001b[0m\n\u001b[0;31m    raster_index = ([[[   0.    0.    0. ...    0.    0.    0.]\u001b[0m\n\u001b[0m                          ^\u001b[0m\n\u001b[0;31mSyntaxError\u001b[0m\u001b[0;31m:\u001b[0m invalid syntax. Perhaps you forgot a comma?\n"
     ]
    }
   ],
   "source": [
    "exec(f\"raster_index = {band_name_dict['eq'][0]}\", globals())"
   ]
  },
  {
   "cell_type": "code",
   "execution_count": 55,
   "id": "6c41b5a9-4b41-4a78-a09d-425d0bbb7cdd",
   "metadata": {},
   "outputs": [
    {
     "data": {
      "text/plain": [
       "array([[[    nan,     nan,     nan, ...,     nan,     nan,     nan],\n",
       "        [    nan,     nan, 0.7397 , ...,     nan,     nan,     nan],\n",
       "        [    nan,     nan, 0.742  , ...,     nan,     nan,     nan],\n",
       "        ...,\n",
       "        [0.1217 , 0.0669 , 0.09784, ...,     nan,     nan,     nan],\n",
       "        [    nan,     nan,     nan, ...,     nan,     nan,     nan],\n",
       "        [    nan,     nan,     nan, ...,     nan,     nan,     nan]]],\n",
       "      dtype=float16)"
      ]
     },
     "execution_count": 55,
     "metadata": {},
     "output_type": "execute_result"
    }
   ],
   "source": [
    "band_name_dict = {'nir':[False],\n",
    "                      'red':[False],\n",
    "                 'eq':[\"(nir-red)/(nir+red)\"]}\n",
    "raster_idx = calculate_raster_index(band_name_dict, raster_arrays)\n",
    "raster_idx"
   ]
  },
  {
   "cell_type": "code",
   "execution_count": 20,
   "id": "3cebb33c-d15c-480e-b2bb-6361d23129d6",
   "metadata": {},
   "outputs": [],
   "source": [
    "exec(f\"bla={band_name_dict['eq'][0]}\")"
   ]
  },
  {
   "cell_type": "markdown",
   "id": "3fef41eb-c2e1-4e81-b032-a33e82c7ac3a",
   "metadata": {},
   "source": []
  },
  {
   "cell_type": "code",
   "execution_count": null,
   "id": "0b298bb1-357c-4390-b610-44de4216c8e5",
   "metadata": {},
   "outputs": [],
   "source": [
    "# mosaic raster\n",
    "\n",
    "iter_count = 1\n",
    "\n",
    "while iter_count <= 5:\n",
    "\n",
    "    # create skip date list used to analyze null values in raster\n",
    "    skip_date_list = []\n",
    "\n",
    "    #for data_link in range(len(df_links)):\n",
    "    for data_link in range(len(assets_hrefs.keys())):\n",
    "\n",
    "        # check if date contains null values within study area\n",
    "        #if df_links.iloc[data_link]['date'] in skip_date_list:\n",
    "        if list(assets_hrefs.keys())[data_link] in skip_date_list:\n",
    "            continue\n",
    "\n",
    "        try:\n",
    "            #links_band_1 = df_links.iloc[data_link][list(band_name_dict.keys())[0]]\n",
    "            #links_band_2 = df_links.iloc[data_link][list(band_name_dict.keys())[1]]\n",
    "            bands_links = assets_hrefs[list(assets_hrefs.keys())[data_link]]\n",
    "\n",
    "            rasters_arrays = func_timeout(time_exc_limit, aup.mosaic_process_v2,\n",
    "                                                                        args=(bands_links,\n",
    "                                                                              band_name_dict, \n",
    "                                                                              gdf_bb, tmp_raster_dir))\n",
    "            out_meta = rasters_arrays[list(rasters_arrays.keys())[0]][2]\n",
    "\n",
    "            # calculate raster index\n",
    "            raster_index = calculate_raster_index(band_name_dict, rasters_arrays)\n",
    "            del raster_arrays\n",
    "\n",
    "            raster_index[raster_index == 0 ] = np.nan # change zero values to nan\n",
    "            raster_index = raster_index.astype('float32') # change data type to float32 to avoid fillnodata error\n",
    "\n",
    "            raster_fill = fillnodata(raster_index, mask=~np.isnan(raster_index),\n",
    "                                max_search_distance=50, smoothing_iterations=0)\n",
    "\n",
    "            with rasterio.open(f\"{tmp_raster_dir}{index_analysis}.tif\",'w', **out_meta) as dest:\n",
    "                    dest.write(raster_fill)\n",
    "\n",
    "                    dest.close()\n",
    "\n",
    "            raster_file = rasterio.open(f\"{tmp_raster_dir}{index_analysis}.tif\")\n",
    "\n",
    "            gdf_raster_test = gdf_raster_test.to_crs(raster_file.crs)\n",
    "\n",
    "            try:\n",
    "                # test for nan values within study area\n",
    "                raster_nan_test(gdf_raster_test,raster_file)\n",
    "\n",
    "\n",
    "                # save raster to processing database\n",
    "                with rasterio.open(f\"{tmp_dir}{city}_{index_analysis}_{month_}_{year_}.tif\",'w', **out_meta) as dest:\n",
    "                    dest.write(raster_fill)\n",
    "\n",
    "                    dest.close()\n",
    "\n",
    "                checker = 1\n",
    "                iter_count = 6\n",
    "                delete_files_from_folder(tmp_raster_dir)\n",
    "                break\n",
    "            except:\n",
    "                skip_date_list.append(assets_hrefs[list(assets_hrefs.keys())[data_link]])\n",
    "                delete_files_from_folder(tmp_raster_dir)\n",
    "\n",
    "        except:\n",
    "            delete_files_from_folder(tmp_raster_dir)\n",
    "            \n",
    "    iter_count = iter_count + 1\n",
    "\n",
    "if checker==0:\n",
    "    df_raster.loc[df_raster.index==i,'data_id']=0\n",
    "    df_raster.loc[df_raster.index==i,'able_to_download']=0\n",
    "    df_raster.to_csv(df_file_dir, index=False)"
   ]
  },
  {
   "cell_type": "markdown",
   "id": "abf5de1f-507d-4d1d-8018-7cbb83007afc",
   "metadata": {},
   "source": [
    "### Donwload raster function"
   ]
  },
  {
   "cell_type": "code",
   "execution_count": 7,
   "id": "5e9340aa-8bf0-45eb-9ad9-56574bbb38c3",
   "metadata": {},
   "outputs": [
    {
     "name": "stderr",
     "output_type": "stream",
     "text": [
      "100%|██████████████████████████████████████████████████████████████████████| 60/60 [00:34<00:00,  1.75it/s]\n"
     ]
    },
    {
     "ename": "AttributeError",
     "evalue": "'DataFrame' object has no attribute 'raster_row'",
     "output_type": "error",
     "traceback": [
      "\u001b[0;31m---------------------------------------------------------------------------\u001b[0m",
      "\u001b[0;31mAttributeError\u001b[0m                            Traceback (most recent call last)",
      "Input \u001b[0;32mIn [7]\u001b[0m, in \u001b[0;36m<cell line: 1>\u001b[0;34m()\u001b[0m\n\u001b[0;32m----> 1\u001b[0m df_len \u001b[38;5;241m=\u001b[39m \u001b[43maup\u001b[49m\u001b[38;5;241;43m.\u001b[39;49m\u001b[43mdownload_raster_from_pc\u001b[49m\u001b[43m(\u001b[49m\u001b[43mgdf\u001b[49m\u001b[43m,\u001b[49m\u001b[43m \u001b[49m\u001b[43mindex_analysis\u001b[49m\u001b[43m,\u001b[49m\u001b[43m \u001b[49m\u001b[43mcity\u001b[49m\u001b[43m,\u001b[49m\u001b[43m \u001b[49m\u001b[43mfreq\u001b[49m\u001b[43m,\u001b[49m\n\u001b[1;32m      2\u001b[0m \u001b[43m                                        \u001b[49m\u001b[43mstart_date\u001b[49m\u001b[43m,\u001b[49m\u001b[43m \u001b[49m\u001b[43mend_date\u001b[49m\u001b[43m,\u001b[49m\u001b[43m \u001b[49m\u001b[43mtmp_dir\u001b[49m\u001b[43m,\u001b[49m\u001b[43m \u001b[49m\n\u001b[1;32m      3\u001b[0m \u001b[43m                                     \u001b[49m\u001b[43mband_name_dict\u001b[49m\u001b[43m,\u001b[49m\u001b[43msatellite\u001b[49m\u001b[38;5;241;43m=\u001b[39;49m\u001b[43msatellite\u001b[49m\u001b[43m)\u001b[49m\n",
      "File \u001b[0;32m~/Repos/observatorio-ciudades/accesibilidad-urbana/aup/raster.py:155\u001b[0m, in \u001b[0;36mdownload_raster_from_pc\u001b[0;34m(gdf, index_analysis, city, freq, start_date, end_date, tmp_dir, band_name_dict, query, satellite)\u001b[0m\n\u001b[1;32m    153\u001b[0m log(\u001b[38;5;124mf\u001b[39m\u001b[38;5;124m'\u001b[39m\u001b[38;5;124mUpdated missing months to \u001b[39m\u001b[38;5;132;01m{\u001b[39;00mmissing_months\u001b[38;5;132;01m}\u001b[39;00m\u001b[38;5;124m (\u001b[39m\u001b[38;5;132;01m{\u001b[39;00m\u001b[38;5;28mround\u001b[39m(missing_months\u001b[38;5;241m/\u001b[39m\u001b[38;5;28mlen\u001b[39m(df_len),\u001b[38;5;241m2\u001b[39m)\u001b[38;5;241m*\u001b[39m\u001b[38;5;241m100\u001b[39m\u001b[38;5;132;01m}\u001b[39;00m\u001b[38;5;124m%)\u001b[39m\u001b[38;5;124m'\u001b[39m)\n\u001b[1;32m    154\u001b[0m \u001b[38;5;66;03m# assures that all the values missing are filled with 0\u001b[39;00m\n\u001b[0;32m--> 155\u001b[0m row_mode \u001b[38;5;241m=\u001b[39m \u001b[43mdf_len\u001b[49m\u001b[38;5;241;43m.\u001b[39;49m\u001b[43mraster_row\u001b[49m\u001b[38;5;241m.\u001b[39mmode()\u001b[38;5;241m.\u001b[39mvalues[\u001b[38;5;241m0\u001b[39m]\n\u001b[1;32m    156\u001b[0m col_mode \u001b[38;5;241m=\u001b[39m df_len\u001b[38;5;241m.\u001b[39mraster_col\u001b[38;5;241m.\u001b[39mmode()\u001b[38;5;241m.\u001b[39mvalues[\u001b[38;5;241m0\u001b[39m]\n\u001b[1;32m    157\u001b[0m df_len\u001b[38;5;241m.\u001b[39mloc[((df_len\u001b[38;5;241m.\u001b[39mraster_row \u001b[38;5;241m<\u001b[39m row_mode)\u001b[38;5;241m|\u001b[39m\n\u001b[1;32m    158\u001b[0m         (df_len\u001b[38;5;241m.\u001b[39mraster_col \u001b[38;5;241m<\u001b[39m col_mode)\u001b[38;5;241m|\u001b[39m\n\u001b[1;32m    159\u001b[0m         (df_len\u001b[38;5;241m.\u001b[39mraster_col\u001b[38;5;241m.\u001b[39misna())),\u001b[38;5;124m'\u001b[39m\u001b[38;5;124mdata_id\u001b[39m\u001b[38;5;124m'\u001b[39m] \u001b[38;5;241m=\u001b[39m \u001b[38;5;241m0\u001b[39m\n",
      "File \u001b[0;32m~/anaconda3/envs/odc/lib/python3.10/site-packages/pandas/core/generic.py:5902\u001b[0m, in \u001b[0;36mNDFrame.__getattr__\u001b[0;34m(self, name)\u001b[0m\n\u001b[1;32m   5895\u001b[0m \u001b[38;5;28;01mif\u001b[39;00m (\n\u001b[1;32m   5896\u001b[0m     name \u001b[38;5;129;01mnot\u001b[39;00m \u001b[38;5;129;01min\u001b[39;00m \u001b[38;5;28mself\u001b[39m\u001b[38;5;241m.\u001b[39m_internal_names_set\n\u001b[1;32m   5897\u001b[0m     \u001b[38;5;129;01mand\u001b[39;00m name \u001b[38;5;129;01mnot\u001b[39;00m \u001b[38;5;129;01min\u001b[39;00m \u001b[38;5;28mself\u001b[39m\u001b[38;5;241m.\u001b[39m_metadata\n\u001b[1;32m   5898\u001b[0m     \u001b[38;5;129;01mand\u001b[39;00m name \u001b[38;5;129;01mnot\u001b[39;00m \u001b[38;5;129;01min\u001b[39;00m \u001b[38;5;28mself\u001b[39m\u001b[38;5;241m.\u001b[39m_accessors\n\u001b[1;32m   5899\u001b[0m     \u001b[38;5;129;01mand\u001b[39;00m \u001b[38;5;28mself\u001b[39m\u001b[38;5;241m.\u001b[39m_info_axis\u001b[38;5;241m.\u001b[39m_can_hold_identifiers_and_holds_name(name)\n\u001b[1;32m   5900\u001b[0m ):\n\u001b[1;32m   5901\u001b[0m     \u001b[38;5;28;01mreturn\u001b[39;00m \u001b[38;5;28mself\u001b[39m[name]\n\u001b[0;32m-> 5902\u001b[0m \u001b[38;5;28;01mreturn\u001b[39;00m \u001b[38;5;28;43mobject\u001b[39;49m\u001b[38;5;241;43m.\u001b[39;49m\u001b[38;5;21;43m__getattribute__\u001b[39;49m\u001b[43m(\u001b[49m\u001b[38;5;28;43mself\u001b[39;49m\u001b[43m,\u001b[49m\u001b[43m \u001b[49m\u001b[43mname\u001b[49m\u001b[43m)\u001b[49m\n",
      "\u001b[0;31mAttributeError\u001b[0m: 'DataFrame' object has no attribute 'raster_row'"
     ]
    }
   ],
   "source": [
    "df_len = aup.download_raster_from_pc(gdf, index_analysis, city, freq,\n",
    "                                        start_date, end_date, tmp_dir, \n",
    "                                     band_name_dict,satellite=satellite)"
   ]
  },
  {
   "cell_type": "code",
   "execution_count": null,
   "id": "1baaa77d-0b7a-47fc-9f7b-bac9aa5591bd",
   "metadata": {},
   "outputs": [],
   "source": []
  }
 ],
 "metadata": {
  "kernelspec": {
   "display_name": "odc",
   "language": "python",
   "name": "odc"
  },
  "language_info": {
   "codemirror_mode": {
    "name": "ipython",
    "version": 3
   },
   "file_extension": ".py",
   "mimetype": "text/x-python",
   "name": "python",
   "nbconvert_exporter": "python",
   "pygments_lexer": "ipython3",
   "version": "3.10.4"
  }
 },
 "nbformat": 4,
 "nbformat_minor": 5
}
