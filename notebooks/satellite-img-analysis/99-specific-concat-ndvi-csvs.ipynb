{
 "cells": [
  {
   "cell_type": "markdown",
   "id": "a18711c3-757a-4550-95a2-6fb555ddeaa2",
   "metadata": {},
   "source": [
    "# Specific concat ndvi csvs"
   ]
  },
  {
   "cell_type": "markdown",
   "id": "e7d0d4e7-7660-40f1-b53e-7439a1070993",
   "metadata": {},
   "source": [
    "Temporal Notebook used only to concatenate csvs from ndvi analysis in Santiago, Chile."
   ]
  },
  {
   "cell_type": "markdown",
   "id": "fbd19dee-a96a-4daa-98f9-c6ff3248a9dd",
   "metadata": {},
   "source": [
    "## Import libraries"
   ]
  },
  {
   "cell_type": "code",
   "execution_count": 1,
   "id": "725c4db0-46ed-48b4-8a94-1f485d207576",
   "metadata": {},
   "outputs": [
    {
     "name": "stderr",
     "output_type": "stream",
     "text": [
      "/home/jovyan/accesibilidad-urbana/aup/data.py:24: FutureWarning: The `utils.config` function is deprecated and will be removed in the v2.0.0 release. Instead, use the `settings` module directly to configure a global setting's value. For example, `ox.settings.log_console=True`. See the OSMnx v2 migration guide: https://github.com/gboeing/osmnx/issues/1123\n",
      "  ox.config(\n"
     ]
    }
   ],
   "source": [
    "from pystac_client import Client\n",
    "from pystac.extensions.eo import EOExtension as eo\n",
    "import planetary_computer as pc\n",
    "import geopandas as gpd\n",
    "import h3\n",
    "import pandas as pd\n",
    "\n",
    "import rasterio\n",
    "from rasterio import windows\n",
    "from rasterio import features\n",
    "from rasterio import warp\n",
    "import rasterio.mask\n",
    "from rasterio.enums import Resampling\n",
    "from rasterio.merge import merge\n",
    "\n",
    "import numpy as np\n",
    "from PIL import Image\n",
    "\n",
    "import matplotlib.pyplot as plt\n",
    "\n",
    "from shapely.geometry import Point\n",
    "\n",
    "from tqdm import tqdm\n",
    "\n",
    "import os\n",
    "import sys\n",
    "module_path = os.path.abspath(os.path.join('../../'))\n",
    "if module_path not in sys.path:\n",
    "    sys.path.append(module_path)\n",
    "    import aup"
   ]
  },
  {
   "cell_type": "code",
   "execution_count": 8,
   "id": "515a56f1-ae23-4468-8ba4-6840f4e0eb52",
   "metadata": {},
   "outputs": [
    {
     "name": "stdout",
     "output_type": "stream",
     "text": [
      "(26959800, 6)\n"
     ]
    },
    {
     "data": {
      "text/html": [
       "<div>\n",
       "<style scoped>\n",
       "    .dataframe tbody tr th:only-of-type {\n",
       "        vertical-align: middle;\n",
       "    }\n",
       "\n",
       "    .dataframe tbody tr th {\n",
       "        vertical-align: top;\n",
       "    }\n",
       "\n",
       "    .dataframe thead th {\n",
       "        text-align: right;\n",
       "    }\n",
       "</style>\n",
       "<table border=\"1\" class=\"dataframe\">\n",
       "  <thead>\n",
       "    <tr style=\"text-align: right;\">\n",
       "      <th></th>\n",
       "      <th>hex_id</th>\n",
       "      <th>res</th>\n",
       "      <th>ndvi</th>\n",
       "      <th>month</th>\n",
       "      <th>year</th>\n",
       "      <th>city</th>\n",
       "    </tr>\n",
       "  </thead>\n",
       "  <tbody>\n",
       "    <tr>\n",
       "      <th>0</th>\n",
       "      <td>8bb2c5544c83fff</td>\n",
       "      <td>11</td>\n",
       "      <td>0.230173</td>\n",
       "      <td>1</td>\n",
       "      <td>2019</td>\n",
       "      <td>Santiago</td>\n",
       "    </tr>\n",
       "    <tr>\n",
       "      <th>1</th>\n",
       "      <td>8bb2c5469060fff</td>\n",
       "      <td>11</td>\n",
       "      <td>0.135206</td>\n",
       "      <td>1</td>\n",
       "      <td>2019</td>\n",
       "      <td>Santiago</td>\n",
       "    </tr>\n",
       "  </tbody>\n",
       "</table>\n",
       "</div>"
      ],
      "text/plain": [
       "            hex_id  res      ndvi  month  year      city\n",
       "0  8bb2c5544c83fff   11  0.230173      1  2019  Santiago\n",
       "1  8bb2c5469060fff   11  0.135206      1  2019  Santiago"
      ]
     },
     "execution_count": 8,
     "metadata": {},
     "output_type": "execute_result"
    }
   ],
   "source": [
    "grl_dir = \"../../data/external/\"\n",
    "concat_csv = pd.DataFrame()\n",
    "versions = [0,1,2,3,4]\n",
    "\n",
    "for vers in versions:\n",
    "    # Read current csv\n",
    "    dir = grl_dir+ f\"temporal_todocker/ndvi_santiago/Santiago_ndvi_HexRes11_v{vers}.csv\"\n",
    "    tmp_csv = pd.read_csv(dir)\n",
    "    tmp_csv = tmp_csv.drop(columns=['Unnamed: 0'])\n",
    "    # Concatenate to all-versions csv\n",
    "    concat_csv = pd.concat([tmp_csv,concat_csv])\n",
    "\n",
    "#Show\n",
    "print(concat_csv.shape)\n",
    "concat_csv.head(2)"
   ]
  },
  {
   "cell_type": "code",
   "execution_count": 9,
   "id": "43fa0795-4840-40f7-a5b4-351e63bd429c",
   "metadata": {},
   "outputs": [],
   "source": [
    "# Saving to local\n",
    "concat_csv.to_csv(grl_dir+\"temporal_fromjupyter/Santiago_ndvi_HexRes11.csv\")"
   ]
  },
  {
   "cell_type": "code",
   "execution_count": null,
   "id": "aea59e90-fc91-495e-a90a-1bf79a82468a",
   "metadata": {},
   "outputs": [],
   "source": []
  }
 ],
 "metadata": {
  "kernelspec": {
   "display_name": "GDS-10.0",
   "language": "python",
   "name": "gds"
  },
  "language_info": {
   "codemirror_mode": {
    "name": "ipython",
    "version": 3
   },
   "file_extension": ".py",
   "mimetype": "text/x-python",
   "name": "python",
   "nbconvert_exporter": "python",
   "pygments_lexer": "ipython3",
   "version": "3.9.18"
  }
 },
 "nbformat": 4,
 "nbformat_minor": 5
}
