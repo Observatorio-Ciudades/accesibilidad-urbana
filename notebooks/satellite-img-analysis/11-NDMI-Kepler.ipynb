{
 "cells": [
  {
   "cell_type": "markdown",
   "id": "3b35187a-243c-48d9-8602-655f8d98976c",
   "metadata": {},
   "source": [
    "# NDMI Kepler"
   ]
  },
  {
   "cell_type": "code",
   "execution_count": 1,
   "id": "e95ee43f-5ea6-4c45-8867-a12893ac3535",
   "metadata": {},
   "outputs": [
    {
     "name": "stderr",
     "output_type": "stream",
     "text": [
      "/home/edgaregurrola/Repos/observatorio-ciudades/accesibilidad-urbana/aup/data.py:24: UserWarning: The `utils.config` function is deprecated and will be removed in a future release. Instead, use the `settings` module directly to configure a global setting's value. For example, `ox.settings.log_console=True`.\n",
      "  ox.config(\n"
     ]
    }
   ],
   "source": [
    "import io\n",
    "import os\n",
    "import sys\n",
    "\n",
    "import geopandas as gpd\n",
    "import pandas as pd\n",
    "from keplergl import KeplerGl\n",
    "\n",
    "module_path = os.path.abspath(os.path.join(\"../../\"))\n",
    "if module_path not in sys.path:\n",
    "    sys.path.append(module_path)\n",
    "    import aup"
   ]
  },
  {
   "cell_type": "markdown",
   "id": "ad700670-1f2a-40ce-937d-d6e4a8298463",
   "metadata": {},
   "source": [
    "## Downlaod data"
   ]
  },
  {
   "cell_type": "markdown",
   "id": "cba59663-20d3-456e-aa83-0eeb96bf7b97",
   "metadata": {},
   "source": [
    "NDMI"
   ]
  },
  {
   "cell_type": "code",
   "execution_count": 2,
   "id": "d18207e1-cc6b-4b61-b689-ce2afa722249",
   "metadata": {
    "scrolled": true
   },
   "outputs": [
    {
     "name": "stdout",
     "output_type": "stream",
     "text": [
      "(64174, 11)\n"
     ]
    },
    {
     "data": {
      "text/html": [
       "<div>\n",
       "<style scoped>\n",
       "    .dataframe tbody tr th:only-of-type {\n",
       "        vertical-align: middle;\n",
       "    }\n",
       "\n",
       "    .dataframe tbody tr th {\n",
       "        vertical-align: top;\n",
       "    }\n",
       "\n",
       "    .dataframe thead th {\n",
       "        text-align: right;\n",
       "    }\n",
       "</style>\n",
       "<table border=\"1\" class=\"dataframe\">\n",
       "  <thead>\n",
       "    <tr style=\"text-align: right;\">\n",
       "      <th></th>\n",
       "      <th>hex_id</th>\n",
       "      <th>geometry</th>\n",
       "      <th>res</th>\n",
       "      <th>ndmi_mean</th>\n",
       "      <th>ndmi_std</th>\n",
       "      <th>ndmi_median</th>\n",
       "      <th>ndmi_max</th>\n",
       "      <th>ndmi_min</th>\n",
       "      <th>ndmi_diff</th>\n",
       "      <th>ndmi_tend</th>\n",
       "      <th>city</th>\n",
       "    </tr>\n",
       "  </thead>\n",
       "  <tbody>\n",
       "    <tr>\n",
       "      <th>0</th>\n",
       "      <td>8a4995959c17fff</td>\n",
       "      <td>POLYGON ((-99.16973 19.18997, -99.16908 19.190...</td>\n",
       "      <td>10</td>\n",
       "      <td>0.059833</td>\n",
       "      <td>0.052246</td>\n",
       "      <td>0.063521</td>\n",
       "      <td>0.133204</td>\n",
       "      <td>-0.01477</td>\n",
       "      <td>0.147973</td>\n",
       "      <td>0.000434</td>\n",
       "      <td>CDMX</td>\n",
       "    </tr>\n",
       "    <tr>\n",
       "      <th>1</th>\n",
       "      <td>8a499595bb47fff</td>\n",
       "      <td>POLYGON ((-99.16604 19.20465, -99.16539 19.205...</td>\n",
       "      <td>10</td>\n",
       "      <td>0.032387</td>\n",
       "      <td>0.115082</td>\n",
       "      <td>0.005131</td>\n",
       "      <td>0.199716</td>\n",
       "      <td>-0.09263</td>\n",
       "      <td>0.292346</td>\n",
       "      <td>0.000628</td>\n",
       "      <td>CDMX</td>\n",
       "    </tr>\n",
       "  </tbody>\n",
       "</table>\n",
       "</div>"
      ],
      "text/plain": [
       "            hex_id                                           geometry  res  \\\n",
       "0  8a4995959c17fff  POLYGON ((-99.16973 19.18997, -99.16908 19.190...   10   \n",
       "1  8a499595bb47fff  POLYGON ((-99.16604 19.20465, -99.16539 19.205...   10   \n",
       "\n",
       "   ndmi_mean  ndmi_std  ndmi_median  ndmi_max  ndmi_min  ndmi_diff  ndmi_tend  \\\n",
       "0   0.059833  0.052246     0.063521  0.133204  -0.01477   0.147973   0.000434   \n",
       "1   0.032387  0.115082     0.005131  0.199716  -0.09263   0.292346   0.000628   \n",
       "\n",
       "   city  \n",
       "0  CDMX  \n",
       "1  CDMX  "
      ]
     },
     "execution_count": 2,
     "metadata": {},
     "output_type": "execute_result"
    }
   ],
   "source": [
    "schema = 'raster_analysis'\n",
    "table = 'ndmi_analysis_hex'\n",
    "\n",
    "city = 'CDMX'\n",
    "\n",
    "query = f\"SELECT * FROM {schema}.{table} WHERE \\\"city\\\" = '{city}' AND \\\"res\\\" = {10}\"\n",
    "\n",
    "hex_gdf = aup.gdf_from_query(query) \n",
    "print(hex_gdf.shape)\n",
    "hex_gdf.head(2)"
   ]
  },
  {
   "cell_type": "markdown",
   "id": "0713ecb2-ce18-4d3a-a3e1-3763f26aaaf2",
   "metadata": {},
   "source": [
    "Urban data"
   ]
  },
  {
   "cell_type": "code",
   "execution_count": 3,
   "id": "0e406dcf-3151-417c-837d-d9f087639931",
   "metadata": {},
   "outputs": [
    {
     "name": "stdout",
     "output_type": "stream",
     "text": [
      "(47502, 6)\n"
     ]
    },
    {
     "data": {
      "text/html": [
       "<div>\n",
       "<style scoped>\n",
       "    .dataframe tbody tr th:only-of-type {\n",
       "        vertical-align: middle;\n",
       "    }\n",
       "\n",
       "    .dataframe tbody tr th {\n",
       "        vertical-align: top;\n",
       "    }\n",
       "\n",
       "    .dataframe thead th {\n",
       "        text-align: right;\n",
       "    }\n",
       "</style>\n",
       "<table border=\"1\" class=\"dataframe\">\n",
       "  <thead>\n",
       "    <tr style=\"text-align: right;\">\n",
       "      <th></th>\n",
       "      <th>hex_id_10</th>\n",
       "      <th>geometry</th>\n",
       "      <th>CVEGEO</th>\n",
       "      <th>NOMGEO</th>\n",
       "      <th>city</th>\n",
       "      <th>type</th>\n",
       "    </tr>\n",
       "  </thead>\n",
       "  <tbody>\n",
       "    <tr>\n",
       "      <th>0</th>\n",
       "      <td>8a4995b8cb57fff</td>\n",
       "      <td>POLYGON ((-99.19358 19.48193, -99.19293 19.482...</td>\n",
       "      <td>09002</td>\n",
       "      <td>Azcapotzalco</td>\n",
       "      <td>CDMX</td>\n",
       "      <td>urban</td>\n",
       "    </tr>\n",
       "    <tr>\n",
       "      <th>1</th>\n",
       "      <td>8a4995bab38ffff</td>\n",
       "      <td>POLYGON ((-99.20837 19.48081, -99.20772 19.481...</td>\n",
       "      <td>09002</td>\n",
       "      <td>Azcapotzalco</td>\n",
       "      <td>CDMX</td>\n",
       "      <td>urban</td>\n",
       "    </tr>\n",
       "  </tbody>\n",
       "</table>\n",
       "</div>"
      ],
      "text/plain": [
       "         hex_id_10                                           geometry CVEGEO  \\\n",
       "0  8a4995b8cb57fff  POLYGON ((-99.19358 19.48193, -99.19293 19.482...  09002   \n",
       "1  8a4995bab38ffff  POLYGON ((-99.20837 19.48081, -99.20772 19.481...  09002   \n",
       "\n",
       "         NOMGEO  city   type  \n",
       "0  Azcapotzalco  CDMX  urban  \n",
       "1  Azcapotzalco  CDMX  urban  "
      ]
     },
     "execution_count": 3,
     "metadata": {},
     "output_type": "execute_result"
    }
   ],
   "source": [
    "schema = 'hexgrid'\n",
    "table = 'hexgrid_10_city_2020'\n",
    "\n",
    "city = 'CDMX'\n",
    "tipo_entorno = 'urban'\n",
    "\n",
    "query = f\"SELECT * FROM {schema}.{table} WHERE \\\"city\\\" = '{city}' AND \\\"type\\\" = '{tipo_entorno}'\"\n",
    "\n",
    "hex_urb = aup.gdf_from_query(query) \n",
    "print(hex_urb.shape)\n",
    "hex_urb.head(2)"
   ]
  },
  {
   "cell_type": "markdown",
   "id": "f38ceacf-1206-474b-8042-38bdae03b449",
   "metadata": {},
   "source": [
    "## Filter for urban area"
   ]
  },
  {
   "cell_type": "code",
   "execution_count": 4,
   "id": "7c65012e-da69-4280-971c-c60db497ae14",
   "metadata": {},
   "outputs": [
    {
     "name": "stdout",
     "output_type": "stream",
     "text": [
      "(47502, 11)\n"
     ]
    }
   ],
   "source": [
    "hex_idx = list(hex_urb.hex_id_10.unique())\n",
    "hex_gdf = hex_gdf.loc[hex_gdf.hex_id.isin(hex_idx)].copy()\n",
    "print(hex_gdf.shape)"
   ]
  },
  {
   "cell_type": "markdown",
   "id": "210c0952-57ea-41b6-ac17-da6ac1b63acd",
   "metadata": {},
   "source": [
    "## Create Kepler"
   ]
  },
  {
   "cell_type": "markdown",
   "id": "bf229a38-fe33-465a-8adf-a9ce536da52c",
   "metadata": {},
   "source": [
    "Data treatment"
   ]
  },
  {
   "cell_type": "markdown",
   "id": "baf990a8-ba06-4f5e-9650-5169a39d0b09",
   "metadata": {},
   "source": [
    "<0.1\tBare soil\n",
    "0.1 – 0.2\tAlmost absent canopy cover\n",
    "0.2 – 0.3\tVery low canopy cover\n",
    "0.3 – 0.4\tLow canopy cover, low vigour or very low canopy cover, high vigour\n",
    "0.4 – 0.5\tMid-low canopy cover, low vigour or low canopy cover, high vigour\n",
    "0.5 – 0.6\tAverage canopy cover, low vigour or mid-low canopy cover, high vigour\n",
    "0.6 – 0.7\tMid-high canopy cover, low vigour or average canopy cover, high vigour\n",
    "0.7 – 0.8\tHigh canopy cover, high vigour\n",
    "0.8 – 0.9\tVery high canopy cover, very high vigour\n",
    "0.9 – 1.0\tTotal canopy cover, very high vigour"
   ]
  },
  {
   "cell_type": "code",
   "execution_count": 5,
   "id": "f14c5516-944f-4752-9bec-72a8bb6d3d67",
   "metadata": {},
   "outputs": [],
   "source": [
    "hex_gdf['ndmi_mean'] = hex_gdf['ndmi_mean'].round(decimals = 3)\n",
    "hex_gdf = hex_gdf.rename(columns={'ndmi_mean':'Índice de humedad'})"
   ]
  },
  {
   "cell_type": "code",
   "execution_count": 6,
   "id": "1680c8e0-a9fd-4dd6-8fdb-facc3ffd5e91",
   "metadata": {},
   "outputs": [],
   "source": [
    "hex_gdf['ndmi_diff'] = hex_gdf['ndmi_diff'].round(decimals = 3)\n",
    "hex_gdf = hex_gdf.rename(columns={'ndmi_diff':'Variación de humedad anual'})"
   ]
  },
  {
   "cell_type": "code",
   "execution_count": 7,
   "id": "429f9925-9534-45cb-8aaf-f6c733870e81",
   "metadata": {
    "scrolled": true
   },
   "outputs": [
    {
     "data": {
      "text/html": [
       "<div>\n",
       "<style scoped>\n",
       "    .dataframe tbody tr th:only-of-type {\n",
       "        vertical-align: middle;\n",
       "    }\n",
       "\n",
       "    .dataframe tbody tr th {\n",
       "        vertical-align: top;\n",
       "    }\n",
       "\n",
       "    .dataframe thead th {\n",
       "        text-align: right;\n",
       "    }\n",
       "</style>\n",
       "<table border=\"1\" class=\"dataframe\">\n",
       "  <thead>\n",
       "    <tr style=\"text-align: right;\">\n",
       "      <th></th>\n",
       "      <th>hex_id</th>\n",
       "      <th>geometry</th>\n",
       "      <th>res</th>\n",
       "      <th>Índice de humedad</th>\n",
       "      <th>ndmi_std</th>\n",
       "      <th>ndmi_median</th>\n",
       "      <th>ndmi_max</th>\n",
       "      <th>ndmi_min</th>\n",
       "      <th>Variación de humedad anual</th>\n",
       "      <th>ndmi_tend</th>\n",
       "      <th>city</th>\n",
       "    </tr>\n",
       "  </thead>\n",
       "  <tbody>\n",
       "    <tr>\n",
       "      <th>4</th>\n",
       "      <td>8a4995959437fff</td>\n",
       "      <td>POLYGON ((-99.16617 19.19689, -99.16552 19.197...</td>\n",
       "      <td>10</td>\n",
       "      <td>0.074</td>\n",
       "      <td>0.085720</td>\n",
       "      <td>0.048988</td>\n",
       "      <td>0.239059</td>\n",
       "      <td>-0.027803</td>\n",
       "      <td>0.267</td>\n",
       "      <td>0.000282</td>\n",
       "      <td>CDMX</td>\n",
       "    </tr>\n",
       "    <tr>\n",
       "      <th>8</th>\n",
       "      <td>8a499595b90ffff</td>\n",
       "      <td>POLYGON ((-99.15871 19.19635, -99.15807 19.196...</td>\n",
       "      <td>10</td>\n",
       "      <td>0.050</td>\n",
       "      <td>0.094892</td>\n",
       "      <td>0.042274</td>\n",
       "      <td>0.195947</td>\n",
       "      <td>-0.076172</td>\n",
       "      <td>0.272</td>\n",
       "      <td>0.000439</td>\n",
       "      <td>CDMX</td>\n",
       "    </tr>\n",
       "  </tbody>\n",
       "</table>\n",
       "</div>"
      ],
      "text/plain": [
       "            hex_id                                           geometry  res  \\\n",
       "4  8a4995959437fff  POLYGON ((-99.16617 19.19689, -99.16552 19.197...   10   \n",
       "8  8a499595b90ffff  POLYGON ((-99.15871 19.19635, -99.15807 19.196...   10   \n",
       "\n",
       "   Índice de humedad  ndmi_std  ndmi_median  ndmi_max  ndmi_min  \\\n",
       "4              0.074  0.085720     0.048988  0.239059 -0.027803   \n",
       "8              0.050  0.094892     0.042274  0.195947 -0.076172   \n",
       "\n",
       "   Variación de humedad anual  ndmi_tend  city  \n",
       "4                       0.267   0.000282  CDMX  \n",
       "8                       0.272   0.000439  CDMX  "
      ]
     },
     "execution_count": 7,
     "metadata": {},
     "output_type": "execute_result"
    }
   ],
   "source": [
    "hex_gdf.head(2)"
   ]
  },
  {
   "cell_type": "markdown",
   "id": "eef6a645-a00b-4b06-9f69-2c0214eec502",
   "metadata": {},
   "source": [
    "### Configure data"
   ]
  },
  {
   "cell_type": "code",
   "execution_count": 14,
   "id": "c44ef4e6-177a-4e1b-82e0-f24c0d252de3",
   "metadata": {},
   "outputs": [],
   "source": [
    "config,config_idx = aup.kepler_config()\n",
    "\n",
    "# column = 'Variación de humedad anual'\n",
    "column = 'Índice de humedad'\n",
    "\n",
    "config[\"config\"][\"visState\"][\"layers\"][0][\"visualChannels\"][\"colorField\"][\"name\"] = column\n",
    "config[\"config\"][\"visState\"][\"interactionConfig\"][\"tooltip\"][\n",
    "\"fieldsToShow\"][\"Análisis de hexágono\"] = [column]\n",
    "layer_id = 0\n",
    "config[list(config.keys())[1]][list(config[list(config.keys())[1]].keys())[0]]['layers'][layer_id]['config']['visConfig']['opacity'] = 0.35\n",
    "\n",
    "# for Variacion anual\n",
    "if column == 'Variación de humedad anual':\n",
    "    config[list(config.keys())[1]][list(config[list(config.keys())[1]].keys())[0]]['layers'][layer_id]['config']['visConfig']['colorRange']['colors'] = ['#00939c','#85c4c8','#feeee8','#ec9370','#c22e00']"
   ]
  },
  {
   "cell_type": "markdown",
   "id": "463dc7a9-cda0-4b58-acd5-5cf06f61151d",
   "metadata": {},
   "source": [
    "### Create Kepler"
   ]
  },
  {
   "cell_type": "code",
   "execution_count": 15,
   "id": "f4de7b71-dc96-4b62-a235-7ed384c29968",
   "metadata": {},
   "outputs": [
    {
     "name": "stderr",
     "output_type": "stream",
     "text": [
      "/tmp/ipykernel_41858/1842880563.py:4: UserWarning: Geometry is in a geographic CRS. Results from 'centroid' are likely incorrect. Use 'GeoSeries.to_crs()' to re-project geometries to a projected CRS before this operation.\n",
      "\n",
      "  longitude = hex_gdf.dissolve().geometry.centroid.x\n",
      "/tmp/ipykernel_41858/1842880563.py:5: UserWarning: Geometry is in a geographic CRS. Results from 'centroid' are likely incorrect. Use 'GeoSeries.to_crs()' to re-project geometries to a projected CRS before this operation.\n",
      "\n",
      "  latitude = hex_gdf.dissolve().geometry.centroid.y\n"
     ]
    },
    {
     "name": "stdout",
     "output_type": "stream",
     "text": [
      "User Guide: https://docs.kepler.gl/docs/keplergl-jupyter\n",
      "Map saved to cdmx_ndmi.html!\n"
     ]
    }
   ],
   "source": [
    "# hex_gdf[\"d\"] = 0\n",
    "hex_kepler = hex_gdf.copy()\n",
    "hex_kepler = hex_kepler[[column,'geometry']]\n",
    "longitude = hex_gdf.dissolve().geometry.centroid.x\n",
    "latitude = hex_gdf.dissolve().geometry.centroid.y\n",
    "config[\"config\"][\"mapState\"][\"latitude\"] = latitude[0]\n",
    "config[\"config\"][\"mapState\"][\"longitude\"] = longitude[0]\n",
    "config[\"config\"][\"mapState\"][\"zoom\"] = 10.25\n",
    "\n",
    "# hex_kepler['           '] = '         '\n",
    "# hex_kepler['            '] = '          '\n",
    "# session = boto3.Session(profile_name=\"observatorio\")\n",
    "# dev_s3_client = session.client(\"s3\")\n",
    "# map_city = KeplerGl(height=800, data={\"Análisis de ciudad\": hex_kepler}, config=config_idx)\n",
    "map_city = KeplerGl(height=500)\n",
    "map_city.config = config\n",
    "map_city.add_data(hex_kepler, name='Análisis de hexágono')\n",
    "map_city.save_to_html(file_name=\"cdmx_ndmi.html\", read_only=False)"
   ]
  },
  {
   "cell_type": "code",
   "execution_count": null,
   "id": "c240ee12-0421-44ff-b465-7f20665df733",
   "metadata": {},
   "outputs": [],
   "source": []
  }
 ],
 "metadata": {
  "kernelspec": {
   "display_name": "odc",
   "language": "python",
   "name": "odc"
  },
  "language_info": {
   "codemirror_mode": {
    "name": "ipython",
    "version": 3
   },
   "file_extension": ".py",
   "mimetype": "text/x-python",
   "name": "python",
   "nbconvert_exporter": "python",
   "pygments_lexer": "ipython3",
   "version": "3.10.4"
  }
 },
 "nbformat": 4,
 "nbformat_minor": 5
}
