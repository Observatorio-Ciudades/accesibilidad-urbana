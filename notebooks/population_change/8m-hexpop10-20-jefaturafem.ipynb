{
 "cells": [
  {
   "cell_type": "markdown",
   "id": "a3be849c-8ade-4d54-84c7-9ee9acfceb9d",
   "metadata": {},
   "source": [
    "Notebooks con el tema de Marginación\n",
    "\n",
    "23b-Group-block-hex\n",
    "23c-Group-block-hex\n",
    "29-Population-correlation"
   ]
  },
  {
   "cell_type": "markdown",
   "id": "98003579-be9d-45f7-9505-9d0d9dd0d951",
   "metadata": {},
   "source": [
    "## Importing libraries"
   ]
  },
  {
   "cell_type": "code",
   "execution_count": 1,
   "id": "eb9730f9-61fb-4a86-9c98-d4132785987b",
   "metadata": {},
   "outputs": [
    {
     "name": "stdout",
     "output_type": "stream",
     "text": [
      "2023-02-28 21:56:18 Configured OSMnx 1.1.1\n",
      "2023-02-28 21:56:18 HTTP response caching is on\n"
     ]
    }
   ],
   "source": [
    "import os\n",
    "import sys\n",
    "\n",
    "import geopandas as gpd\n",
    "import pandas as pd\n",
    "import numpy as np\n",
    "\n",
    "import matplotlib.pyplot as plt\n",
    "import seaborn as sns\n",
    "\n",
    "import esda\n",
    "import pysal\n",
    "import libpysal as lps\n",
    "from splot import esda as esdaplot\n",
    "\n",
    "\n",
    "module_path = os.path.abspath(os.path.join('../../'))\n",
    "if module_path not in sys.path:\n",
    "    sys.path.append(module_path)\n",
    "    import aup"
   ]
  },
  {
   "cell_type": "markdown",
   "id": "5fe9056c-a04b-4c71-8d15-1ad15cf0c590",
   "metadata": {},
   "source": [
    "## Downloading data"
   ]
  },
  {
   "cell_type": "markdown",
   "id": "9b975bd3-969c-49ae-a223-7bfea16ea9e7",
   "metadata": {},
   "source": [
    "Pop data"
   ]
  },
  {
   "cell_type": "code",
   "execution_count": 8,
   "id": "b0672c83-7b69-40c2-a5cd-0d4861d28832",
   "metadata": {},
   "outputs": [
    {
     "data": {
      "text/plain": [
       "array(['ZMVM', 'Guadalajara', 'Monterrey'], dtype=object)"
      ]
     },
     "execution_count": 8,
     "metadata": {},
     "output_type": "execute_result"
    }
   ],
   "source": [
    "pop_hex9 = aup.gdf_from_db('censo_10_20_hexres8','censo')\n",
    "pop_hex9.city.unique()"
   ]
  },
  {
   "cell_type": "markdown",
   "id": "e878f330-f082-4ce5-a110-a37a4b141a6f",
   "metadata": {},
   "source": [
    "Marginalization data"
   ]
  },
  {
   "cell_type": "code",
   "execution_count": 10,
   "id": "cd3c0fcd-4389-4325-9569-aafe71d04ab1",
   "metadata": {},
   "outputs": [],
   "source": [
    "gdf_tmp = pop_hex9.copy()\n",
    "gdf_tmp = gdf_tmp.to_crs(\"EPSG:6372\")\n",
    "gdf_tmp = gdf_tmp.buffer(1).reset_index().rename(columns={0:'geometry'})\n",
    "gdf_tmp = gdf_tmp.to_crs(\"EPSG:4326\")\n",
    "poly_wkt = gdf_tmp.dissolve().geometry.to_wkt()[0]"
   ]
  },
  {
   "cell_type": "code",
   "execution_count": 11,
   "id": "c0297142-811d-411f-881e-fa9f71ba02ce",
   "metadata": {},
   "outputs": [
    {
     "name": "stdout",
     "output_type": "stream",
     "text": [
      "(6406, 17)\n"
     ]
    },
    {
     "data": {
      "text/html": [
       "<div>\n",
       "<style scoped>\n",
       "    .dataframe tbody tr th:only-of-type {\n",
       "        vertical-align: middle;\n",
       "    }\n",
       "\n",
       "    .dataframe tbody tr th {\n",
       "        vertical-align: top;\n",
       "    }\n",
       "\n",
       "    .dataframe thead th {\n",
       "        text-align: right;\n",
       "    }\n",
       "</style>\n",
       "<table border=\"1\" class=\"dataframe\">\n",
       "  <thead>\n",
       "    <tr style=\"text-align: right;\">\n",
       "      <th></th>\n",
       "      <th>geometry</th>\n",
       "      <th>hex_id_8</th>\n",
       "      <th>CVEGEO</th>\n",
       "      <th>pobtot</th>\n",
       "      <th>p6a14nae</th>\n",
       "      <th>sbasc</th>\n",
       "      <th>psdss</th>\n",
       "      <th>ovsde</th>\n",
       "      <th>ovsee</th>\n",
       "      <th>ovsae</th>\n",
       "      <th>ovpt</th>\n",
       "      <th>ovsref</th>\n",
       "      <th>ovsint</th>\n",
       "      <th>ovscel</th>\n",
       "      <th>ovhac</th>\n",
       "      <th>im_2020</th>\n",
       "      <th>imn_2020</th>\n",
       "    </tr>\n",
       "  </thead>\n",
       "  <tbody>\n",
       "    <tr>\n",
       "      <th>0</th>\n",
       "      <td>POLYGON ((-99.17740 19.48241, -99.17776 19.487...</td>\n",
       "      <td>884995b8c1fffff</td>\n",
       "      <td>09002</td>\n",
       "      <td>14474.150</td>\n",
       "      <td>11.159615</td>\n",
       "      <td>39.639160</td>\n",
       "      <td>60.006165</td>\n",
       "      <td>0.094840</td>\n",
       "      <td>0.109755</td>\n",
       "      <td>0.752394</td>\n",
       "      <td>0.921807</td>\n",
       "      <td>8.358856</td>\n",
       "      <td>45.407722</td>\n",
       "      <td>16.135150</td>\n",
       "      <td>54.746320</td>\n",
       "      <td>123.545098</td>\n",
       "      <td>0.965088</td>\n",
       "    </tr>\n",
       "    <tr>\n",
       "      <th>1</th>\n",
       "      <td>POLYGON ((-99.17884 19.50300, -99.17848 19.497...</td>\n",
       "      <td>884995b88dfffff</td>\n",
       "      <td>09002</td>\n",
       "      <td>5324.688</td>\n",
       "      <td>12.022201</td>\n",
       "      <td>22.668638</td>\n",
       "      <td>27.020708</td>\n",
       "      <td>0.101111</td>\n",
       "      <td>0.016225</td>\n",
       "      <td>5.099980</td>\n",
       "      <td>1.091457</td>\n",
       "      <td>5.453633</td>\n",
       "      <td>28.146427</td>\n",
       "      <td>7.906191</td>\n",
       "      <td>28.952435</td>\n",
       "      <td>123.916076</td>\n",
       "      <td>0.967986</td>\n",
       "    </tr>\n",
       "  </tbody>\n",
       "</table>\n",
       "</div>"
      ],
      "text/plain": [
       "                                            geometry         hex_id_8 CVEGEO  \\\n",
       "0  POLYGON ((-99.17740 19.48241, -99.17776 19.487...  884995b8c1fffff  09002   \n",
       "1  POLYGON ((-99.17884 19.50300, -99.17848 19.497...  884995b88dfffff  09002   \n",
       "\n",
       "      pobtot   p6a14nae      sbasc      psdss     ovsde     ovsee     ovsae  \\\n",
       "0  14474.150  11.159615  39.639160  60.006165  0.094840  0.109755  0.752394   \n",
       "1   5324.688  12.022201  22.668638  27.020708  0.101111  0.016225  5.099980   \n",
       "\n",
       "       ovpt    ovsref     ovsint     ovscel      ovhac     im_2020  imn_2020  \n",
       "0  0.921807  8.358856  45.407722  16.135150  54.746320  123.545098  0.965088  \n",
       "1  1.091457  5.453633  28.146427   7.906191  28.952435  123.916076  0.967986  "
      ]
     },
     "execution_count": 11,
     "metadata": {},
     "output_type": "execute_result"
    }
   ],
   "source": [
    "query = f\"SELECT * FROM censo.hex_bins_marg_2020 WHERE (ST_Intersects(geometry, \\'SRID=4326; {poly_wkt}\\'))\"\n",
    "marg_hex9 = aup.gdf_from_query(query, geometry_col='geometry')\n",
    "print(marg_hex9.shape)\n",
    "marg_hex9.head(2)"
   ]
  },
  {
   "cell_type": "markdown",
   "id": "e1425fd6-d630-43a6-9928-00004ebd13fa",
   "metadata": {},
   "source": [
    "## Merging geodataframes"
   ]
  },
  {
   "cell_type": "code",
   "execution_count": 22,
   "id": "7dc1fc4e-c2fa-43aa-93f4-fd63bf521a5a",
   "metadata": {},
   "outputs": [
    {
     "data": {
      "text/html": [
       "<div>\n",
       "<style scoped>\n",
       "    .dataframe tbody tr th:only-of-type {\n",
       "        vertical-align: middle;\n",
       "    }\n",
       "\n",
       "    .dataframe tbody tr th {\n",
       "        vertical-align: top;\n",
       "    }\n",
       "\n",
       "    .dataframe thead th {\n",
       "        text-align: right;\n",
       "    }\n",
       "</style>\n",
       "<table border=\"1\" class=\"dataframe\">\n",
       "  <thead>\n",
       "    <tr style=\"text-align: right;\">\n",
       "      <th></th>\n",
       "      <th>hex_id_8</th>\n",
       "      <th>pobtot</th>\n",
       "      <th>tothog</th>\n",
       "      <th>hogjef_f</th>\n",
       "      <th>10_pobtot</th>\n",
       "      <th>10_tothog</th>\n",
       "      <th>10_hogjef_f</th>\n",
       "      <th>geometry</th>\n",
       "      <th>city</th>\n",
       "    </tr>\n",
       "  </thead>\n",
       "  <tbody>\n",
       "    <tr>\n",
       "      <th>0</th>\n",
       "      <td>8849950593fffff</td>\n",
       "      <td>2584.0</td>\n",
       "      <td>684.0</td>\n",
       "      <td>179.0</td>\n",
       "      <td>2323.0</td>\n",
       "      <td>547.0</td>\n",
       "      <td>76.0</td>\n",
       "      <td>POLYGON ((-98.95532 19.76038, -98.95079 19.763...</td>\n",
       "      <td>ZMVM</td>\n",
       "    </tr>\n",
       "  </tbody>\n",
       "</table>\n",
       "</div>"
      ],
      "text/plain": [
       "          hex_id_8  pobtot  tothog  hogjef_f  10_pobtot  10_tothog  \\\n",
       "0  8849950593fffff  2584.0   684.0     179.0     2323.0      547.0   \n",
       "\n",
       "   10_hogjef_f                                           geometry  city  \n",
       "0         76.0  POLYGON ((-98.95532 19.76038, -98.95079 19.763...  ZMVM  "
      ]
     },
     "execution_count": 22,
     "metadata": {},
     "output_type": "execute_result"
    }
   ],
   "source": [
    "fields_to_keep = ['hex_id_8','pobtot','tothog','hogjef_f','10_pobtot','10_tothog','10_hogjef_f','geometry','city']\n",
    "pop_hex9_f = pop_hex9[fields_to_keep]\n",
    "pop_hex9_f.head(1)"
   ]
  },
  {
   "cell_type": "code",
   "execution_count": 23,
   "id": "73eda194-c0c3-4dc8-9024-21f77ec4c578",
   "metadata": {},
   "outputs": [
    {
     "data": {
      "text/html": [
       "<div>\n",
       "<style scoped>\n",
       "    .dataframe tbody tr th:only-of-type {\n",
       "        vertical-align: middle;\n",
       "    }\n",
       "\n",
       "    .dataframe tbody tr th {\n",
       "        vertical-align: top;\n",
       "    }\n",
       "\n",
       "    .dataframe thead th {\n",
       "        text-align: right;\n",
       "    }\n",
       "</style>\n",
       "<table border=\"1\" class=\"dataframe\">\n",
       "  <thead>\n",
       "    <tr style=\"text-align: right;\">\n",
       "      <th></th>\n",
       "      <th>hex_id_8</th>\n",
       "      <th>im_2020</th>\n",
       "      <th>imn_2020</th>\n",
       "      <th>geometry</th>\n",
       "    </tr>\n",
       "  </thead>\n",
       "  <tbody>\n",
       "    <tr>\n",
       "      <th>0</th>\n",
       "      <td>884995b8c1fffff</td>\n",
       "      <td>123.545098</td>\n",
       "      <td>0.965088</td>\n",
       "      <td>POLYGON ((-99.17740 19.48241, -99.17776 19.487...</td>\n",
       "    </tr>\n",
       "  </tbody>\n",
       "</table>\n",
       "</div>"
      ],
      "text/plain": [
       "          hex_id_8     im_2020  imn_2020  \\\n",
       "0  884995b8c1fffff  123.545098  0.965088   \n",
       "\n",
       "                                            geometry  \n",
       "0  POLYGON ((-99.17740 19.48241, -99.17776 19.487...  "
      ]
     },
     "execution_count": 23,
     "metadata": {},
     "output_type": "execute_result"
    }
   ],
   "source": [
    "fields_to_keep = ['hex_id_8','im_2020','imn_2020','geometry']\n",
    "marg_hex9_f = marg_hex9[fields_to_keep]\n",
    "marg_hex9_f.head(1)"
   ]
  },
  {
   "cell_type": "code",
   "execution_count": 25,
   "id": "4a7d375c-cd64-4d39-8b33-a6e37d267eef",
   "metadata": {},
   "outputs": [
    {
     "data": {
      "text/html": [
       "<div>\n",
       "<style scoped>\n",
       "    .dataframe tbody tr th:only-of-type {\n",
       "        vertical-align: middle;\n",
       "    }\n",
       "\n",
       "    .dataframe tbody tr th {\n",
       "        vertical-align: top;\n",
       "    }\n",
       "\n",
       "    .dataframe thead th {\n",
       "        text-align: right;\n",
       "    }\n",
       "</style>\n",
       "<table border=\"1\" class=\"dataframe\">\n",
       "  <thead>\n",
       "    <tr style=\"text-align: right;\">\n",
       "      <th></th>\n",
       "      <th>hex_id_8</th>\n",
       "      <th>pobtot</th>\n",
       "      <th>tothog</th>\n",
       "      <th>hogjef_f</th>\n",
       "      <th>10_pobtot</th>\n",
       "      <th>10_tothog</th>\n",
       "      <th>10_hogjef_f</th>\n",
       "      <th>geometry_x</th>\n",
       "      <th>city</th>\n",
       "      <th>im_2020</th>\n",
       "      <th>imn_2020</th>\n",
       "      <th>geometry_y</th>\n",
       "    </tr>\n",
       "  </thead>\n",
       "  <tbody>\n",
       "    <tr>\n",
       "      <th>0</th>\n",
       "      <td>8849950593fffff</td>\n",
       "      <td>2584.0</td>\n",
       "      <td>684.0</td>\n",
       "      <td>179.0</td>\n",
       "      <td>2323.0</td>\n",
       "      <td>547.0</td>\n",
       "      <td>76.0</td>\n",
       "      <td>POLYGON ((-98.95532 19.76038, -98.95079 19.763...</td>\n",
       "      <td>ZMVM</td>\n",
       "      <td>118.096535</td>\n",
       "      <td>0.922526</td>\n",
       "      <td>POLYGON ((-98.95114 19.76845, -98.95603 19.770...</td>\n",
       "    </tr>\n",
       "  </tbody>\n",
       "</table>\n",
       "</div>"
      ],
      "text/plain": [
       "          hex_id_8  pobtot  tothog  hogjef_f  10_pobtot  10_tothog  \\\n",
       "0  8849950593fffff  2584.0   684.0     179.0     2323.0      547.0   \n",
       "\n",
       "   10_hogjef_f                                         geometry_x  city  \\\n",
       "0         76.0  POLYGON ((-98.95532 19.76038, -98.95079 19.763...  ZMVM   \n",
       "\n",
       "      im_2020  imn_2020                                         geometry_y  \n",
       "0  118.096535  0.922526  POLYGON ((-98.95114 19.76845, -98.95603 19.770...  "
      ]
     },
     "execution_count": 25,
     "metadata": {},
     "output_type": "execute_result"
    }
   ],
   "source": [
    "pop_marg_hex9 = pop_hex9_f.merge(marg_hex9_f, on='hex_id_8')\n",
    "pop_marg_hex9.head(1)"
   ]
  },
  {
   "cell_type": "markdown",
   "id": "d58aef19-0084-4a47-8aa0-43bb90f91540",
   "metadata": {},
   "source": [
    "## Data analysis"
   ]
  },
  {
   "cell_type": "markdown",
   "id": "5d699641-b289-47f0-a876-876b7e761055",
   "metadata": {},
   "source": [
    "Calculating change in %hogjef from 2010 to 2020"
   ]
  },
  {
   "cell_type": "code",
   "execution_count": 27,
   "id": "a6779c11-d02e-43b7-aa4d-f1920cf04626",
   "metadata": {},
   "outputs": [
    {
     "data": {
      "text/html": [
       "<div>\n",
       "<style scoped>\n",
       "    .dataframe tbody tr th:only-of-type {\n",
       "        vertical-align: middle;\n",
       "    }\n",
       "\n",
       "    .dataframe tbody tr th {\n",
       "        vertical-align: top;\n",
       "    }\n",
       "\n",
       "    .dataframe thead th {\n",
       "        text-align: right;\n",
       "    }\n",
       "</style>\n",
       "<table border=\"1\" class=\"dataframe\">\n",
       "  <thead>\n",
       "    <tr style=\"text-align: right;\">\n",
       "      <th></th>\n",
       "      <th>hex_id_8</th>\n",
       "      <th>pobtot</th>\n",
       "      <th>tothog</th>\n",
       "      <th>hogjef_f</th>\n",
       "      <th>10_pobtot</th>\n",
       "      <th>10_tothog</th>\n",
       "      <th>10_hogjef_f</th>\n",
       "      <th>geometry_x</th>\n",
       "      <th>city</th>\n",
       "      <th>im_2020</th>\n",
       "      <th>imn_2020</th>\n",
       "      <th>geometry_y</th>\n",
       "      <th>%hogjef_f</th>\n",
       "      <th>%10_hogjef_f</th>\n",
       "      <th>chg_%hogjef_f</th>\n",
       "    </tr>\n",
       "  </thead>\n",
       "  <tbody>\n",
       "    <tr>\n",
       "      <th>0</th>\n",
       "      <td>8849950593fffff</td>\n",
       "      <td>2584.0</td>\n",
       "      <td>684.0</td>\n",
       "      <td>179.0</td>\n",
       "      <td>2323.0</td>\n",
       "      <td>547.0</td>\n",
       "      <td>76.0</td>\n",
       "      <td>POLYGON ((-98.95532 19.76038, -98.95079 19.763...</td>\n",
       "      <td>ZMVM</td>\n",
       "      <td>118.096535</td>\n",
       "      <td>0.922526</td>\n",
       "      <td>POLYGON ((-98.95114 19.76845, -98.95603 19.770...</td>\n",
       "      <td>26.169591</td>\n",
       "      <td>13.893967</td>\n",
       "      <td>12.275624</td>\n",
       "    </tr>\n",
       "    <tr>\n",
       "      <th>1</th>\n",
       "      <td>8849958da5fffff</td>\n",
       "      <td>10322.0</td>\n",
       "      <td>2682.0</td>\n",
       "      <td>763.0</td>\n",
       "      <td>7725.0</td>\n",
       "      <td>1837.0</td>\n",
       "      <td>361.0</td>\n",
       "      <td>POLYGON ((-98.94151 19.41992, -98.93699 19.422...</td>\n",
       "      <td>ZMVM</td>\n",
       "      <td>118.539489</td>\n",
       "      <td>0.925986</td>\n",
       "      <td>POLYGON ((-98.94151 19.41992, -98.93699 19.422...</td>\n",
       "      <td>28.448919</td>\n",
       "      <td>19.651606</td>\n",
       "      <td>8.797313</td>\n",
       "    </tr>\n",
       "  </tbody>\n",
       "</table>\n",
       "</div>"
      ],
      "text/plain": [
       "          hex_id_8   pobtot  tothog  hogjef_f  10_pobtot  10_tothog  \\\n",
       "0  8849950593fffff   2584.0   684.0     179.0     2323.0      547.0   \n",
       "1  8849958da5fffff  10322.0  2682.0     763.0     7725.0     1837.0   \n",
       "\n",
       "   10_hogjef_f                                         geometry_x  city  \\\n",
       "0         76.0  POLYGON ((-98.95532 19.76038, -98.95079 19.763...  ZMVM   \n",
       "1        361.0  POLYGON ((-98.94151 19.41992, -98.93699 19.422...  ZMVM   \n",
       "\n",
       "      im_2020  imn_2020                                         geometry_y  \\\n",
       "0  118.096535  0.922526  POLYGON ((-98.95114 19.76845, -98.95603 19.770...   \n",
       "1  118.539489  0.925986  POLYGON ((-98.94151 19.41992, -98.93699 19.422...   \n",
       "\n",
       "   %hogjef_f  %10_hogjef_f  chg_%hogjef_f  \n",
       "0  26.169591     13.893967      12.275624  \n",
       "1  28.448919     19.651606       8.797313  "
      ]
     },
     "execution_count": 27,
     "metadata": {},
     "output_type": "execute_result"
    }
   ],
   "source": [
    "pop_marg_hex9['%hogjef_f'] = (pop_marg_hex9['hogjef_f'] / pop_marg_hex9['tothog'])*100\n",
    "pop_marg_hex9['%10_hogjef_f'] = (pop_marg_hex9['10_hogjef_f'] / pop_marg_hex9['10_tothog'])*100\n",
    "pop_marg_hex9['chg_%hogjef_f'] = pop_marg_hex9['%hogjef_f'] - pop_marg_hex9['%10_hogjef_f']\n",
    "pop_marg_hex9.head(2)"
   ]
  },
  {
   "cell_type": "markdown",
   "id": "42c14317-8172-48b5-9b9f-7b44d3ebdff6",
   "metadata": {},
   "source": [
    "Calculating marginalization categories"
   ]
  },
  {
   "cell_type": "code",
   "execution_count": 29,
   "id": "01370338-062a-42dd-a797-9ca43592d825",
   "metadata": {},
   "outputs": [
    {
     "data": {
      "text/html": [
       "<div>\n",
       "<style scoped>\n",
       "    .dataframe tbody tr th:only-of-type {\n",
       "        vertical-align: middle;\n",
       "    }\n",
       "\n",
       "    .dataframe tbody tr th {\n",
       "        vertical-align: top;\n",
       "    }\n",
       "\n",
       "    .dataframe thead th {\n",
       "        text-align: right;\n",
       "    }\n",
       "</style>\n",
       "<table border=\"1\" class=\"dataframe\">\n",
       "  <thead>\n",
       "    <tr style=\"text-align: right;\">\n",
       "      <th></th>\n",
       "      <th>hex_id_8</th>\n",
       "      <th>pobtot</th>\n",
       "      <th>tothog</th>\n",
       "      <th>hogjef_f</th>\n",
       "      <th>10_pobtot</th>\n",
       "      <th>10_tothog</th>\n",
       "      <th>10_hogjef_f</th>\n",
       "      <th>geometry_x</th>\n",
       "      <th>city</th>\n",
       "      <th>im_2020</th>\n",
       "      <th>imn_2020</th>\n",
       "      <th>geometry_y</th>\n",
       "      <th>%hogjef_f</th>\n",
       "      <th>%10_hogjef_f</th>\n",
       "      <th>chg_%hogjef_f</th>\n",
       "      <th>Grado_Marg</th>\n",
       "      <th>grado_marg</th>\n",
       "    </tr>\n",
       "  </thead>\n",
       "  <tbody>\n",
       "    <tr>\n",
       "      <th>0</th>\n",
       "      <td>8849950593fffff</td>\n",
       "      <td>2584.0</td>\n",
       "      <td>684.0</td>\n",
       "      <td>179.0</td>\n",
       "      <td>2323.0</td>\n",
       "      <td>547.0</td>\n",
       "      <td>76.0</td>\n",
       "      <td>POLYGON ((-98.95532 19.76038, -98.95079 19.763...</td>\n",
       "      <td>ZMVM</td>\n",
       "      <td>118.096535</td>\n",
       "      <td>0.922526</td>\n",
       "      <td>POLYGON ((-98.95114 19.76845, -98.95603 19.770...</td>\n",
       "      <td>26.169591</td>\n",
       "      <td>13.893967</td>\n",
       "      <td>12.275624</td>\n",
       "      <td>Alto</td>\n",
       "      <td>Alto</td>\n",
       "    </tr>\n",
       "    <tr>\n",
       "      <th>1</th>\n",
       "      <td>8849958da5fffff</td>\n",
       "      <td>10322.0</td>\n",
       "      <td>2682.0</td>\n",
       "      <td>763.0</td>\n",
       "      <td>7725.0</td>\n",
       "      <td>1837.0</td>\n",
       "      <td>361.0</td>\n",
       "      <td>POLYGON ((-98.94151 19.41992, -98.93699 19.422...</td>\n",
       "      <td>ZMVM</td>\n",
       "      <td>118.539489</td>\n",
       "      <td>0.925986</td>\n",
       "      <td>POLYGON ((-98.94151 19.41992, -98.93699 19.422...</td>\n",
       "      <td>28.448919</td>\n",
       "      <td>19.651606</td>\n",
       "      <td>8.797313</td>\n",
       "      <td>Alto</td>\n",
       "      <td>Alto</td>\n",
       "    </tr>\n",
       "  </tbody>\n",
       "</table>\n",
       "</div>"
      ],
      "text/plain": [
       "          hex_id_8   pobtot  tothog  hogjef_f  10_pobtot  10_tothog  \\\n",
       "0  8849950593fffff   2584.0   684.0     179.0     2323.0      547.0   \n",
       "1  8849958da5fffff  10322.0  2682.0     763.0     7725.0     1837.0   \n",
       "\n",
       "   10_hogjef_f                                         geometry_x  city  \\\n",
       "0         76.0  POLYGON ((-98.95532 19.76038, -98.95079 19.763...  ZMVM   \n",
       "1        361.0  POLYGON ((-98.94151 19.41992, -98.93699 19.422...  ZMVM   \n",
       "\n",
       "      im_2020  imn_2020                                         geometry_y  \\\n",
       "0  118.096535  0.922526  POLYGON ((-98.95114 19.76845, -98.95603 19.770...   \n",
       "1  118.539489  0.925986  POLYGON ((-98.94151 19.41992, -98.93699 19.422...   \n",
       "\n",
       "   %hogjef_f  %10_hogjef_f  chg_%hogjef_f Grado_Marg grado_marg  \n",
       "0  26.169591     13.893967      12.275624       Alto       Alto  \n",
       "1  28.448919     19.651606       8.797313       Alto       Alto  "
      ]
     },
     "execution_count": 29,
     "metadata": {},
     "output_type": "execute_result"
    }
   ],
   "source": [
    "pop_marg_hex9['grado_marg'] = np.nan\n",
    "pop_marg_hex9.loc[pop_marg_hex9.imn_2020>=0.966338 , 'grado_marg'] = 'Muy bajo'\n",
    "pop_marg_hex9.loc[(pop_marg_hex9.imn_2020>=0.946436 ) & (pop_marg_hex9.imn_2020<0.966338), 'grado_marg'] = 'Bajo'\n",
    "pop_marg_hex9.loc[(pop_marg_hex9.imn_2020>=0.926536) & (pop_marg_hex9.imn_2020<0.946436), 'grado_marg'] = 'Medio'\n",
    "pop_marg_hex9.loc[(pop_marg_hex9.imn_2020>=0.8999) & (pop_marg_hex9.imn_2020<0.926536), 'grado_marg'] = 'Alto'\n",
    "pop_marg_hex9.loc[pop_marg_hex9.imn_2020 < 0.8999, 'grado_marg'] = 'Muy alto'\n",
    "pop_marg_hex9.head(2)"
   ]
  },
  {
   "cell_type": "markdown",
   "id": "83e90711-040d-497c-9a14-f03d71140510",
   "metadata": {},
   "source": [
    "Calculating average change in %hogjef_f by grado_marg"
   ]
  },
  {
   "cell_type": "code",
   "execution_count": 50,
   "id": "28dd08c6-4e16-461d-826a-8964300242ad",
   "metadata": {},
   "outputs": [
    {
     "name": "stdout",
     "output_type": "stream",
     "text": [
      "             hex_id_8  pobtot  tothog  hogjef_f  10_pobtot  10_tothog  \\\n",
      "6     8849953037fffff   931.0   277.0      94.0        0.0        0.0   \n",
      "17    884995a009fffff  1737.0   576.0     130.0        0.0        0.0   \n",
      "23    8849950637fffff     0.0     0.0       0.0        0.0        0.0   \n",
      "41    8849958b1bfffff     0.0     0.0       0.0        0.0        0.0   \n",
      "63    8849953065fffff     0.0     0.0       0.0        0.0        0.0   \n",
      "...               ...     ...     ...       ...        ...        ...   \n",
      "6152  8848a201b5fffff    12.0     0.0       0.0        4.0        0.0   \n",
      "6158  8848a20a41fffff  1740.0   616.0     200.0        0.0        0.0   \n",
      "6161  8848a20ab5fffff  6365.0  1810.0     545.0        0.0        0.0   \n",
      "6166  8848a20c93fffff   489.0   161.0      45.0        0.0        0.0   \n",
      "6194  8848a20257fffff   220.0    44.0       0.0        0.0        0.0   \n",
      "\n",
      "      10_hogjef_f                                         geometry_x  \\\n",
      "6             0.0  POLYGON ((-99.09155 19.81245, -99.08702 19.815...   \n",
      "17            0.0  POLYGON ((-99.28567 19.54150, -99.28115 19.544...   \n",
      "23            0.0  POLYGON ((-98.98140 19.65752, -98.97687 19.660...   \n",
      "41            0.0  POLYGON ((-98.85697 19.21690, -98.85246 19.219...   \n",
      "63            0.0  POLYGON ((-99.06947 19.76748, -99.06494 19.770...   \n",
      "...           ...                                                ...   \n",
      "6152          0.0  POLYGON ((-100.17568 25.69835, -100.17093 25.7...   \n",
      "6158          0.0  POLYGON ((-100.08317 25.60233, -100.07843 25.6...   \n",
      "6161          0.0  POLYGON ((-100.10623 25.70285, -100.10148 25.7...   \n",
      "6166          0.0  POLYGON ((-100.26356 25.85745, -100.25880 25.8...   \n",
      "6194          0.0  POLYGON ((-100.26899 25.55879, -100.26425 25.5...   \n",
      "\n",
      "           city     im_2020  imn_2020  \\\n",
      "6          ZMVM  121.072478  0.945773   \n",
      "17         ZMVM  126.182770  0.985693   \n",
      "23         ZMVM  125.275482  0.978605   \n",
      "41         ZMVM  121.792267  0.951396   \n",
      "63         ZMVM  119.596062  0.934240   \n",
      "...         ...         ...       ...   \n",
      "6152  Monterrey  122.031684  0.953266   \n",
      "6158  Monterrey  120.568144  0.941833   \n",
      "6161  Monterrey  122.661375  0.958185   \n",
      "6166  Monterrey  124.114597  0.969537   \n",
      "6194  Monterrey  126.648624  0.989332   \n",
      "\n",
      "                                             geometry_y  %hogjef_f  \\\n",
      "6     POLYGON ((-99.08737 19.82053, -99.09227 19.822...  33.935018   \n",
      "17    POLYGON ((-99.29093 19.54887, -99.29057 19.543...  22.569444   \n",
      "23    POLYGON ((-98.98664 19.66490, -98.98629 19.659...        NaN   \n",
      "41    POLYGON ((-98.85767 19.22718, -98.86218 19.224...        NaN   \n",
      "63    POLYGON ((-99.06530 19.77555, -99.07019 19.777...        NaN   \n",
      "...                                                 ...        ...   \n",
      "6152  POLYGON ((-100.17093 25.70127, -100.17135 25.7...        NaN   \n",
      "6158  POLYGON ((-100.08401 25.61274, -100.08876 25.6...  32.467532   \n",
      "6161  POLYGON ((-100.10190 25.71098, -100.10707 25.7...  30.110497   \n",
      "6166  POLYGON ((-100.26356 25.85745, -100.25880 25.8...  27.950311   \n",
      "6194  POLYGON ((-100.26425 25.56172, -100.26467 25.5...   0.000000   \n",
      "\n",
      "      %10_hogjef_f  chg_%hogjef_f Grado_Marg grado_marg  \n",
      "6              NaN            NaN      Medio      Medio  \n",
      "17             NaN            NaN   Muy bajo   Muy bajo  \n",
      "23             NaN            NaN   Muy bajo   Muy bajo  \n",
      "41             NaN            NaN       Bajo       Bajo  \n",
      "63             NaN            NaN      Medio      Medio  \n",
      "...            ...            ...        ...        ...  \n",
      "6152           NaN            NaN       Bajo       Bajo  \n",
      "6158           NaN            NaN      Medio      Medio  \n",
      "6161           NaN            NaN       Bajo       Bajo  \n",
      "6166           NaN            NaN   Muy bajo   Muy bajo  \n",
      "6194           NaN            NaN   Muy bajo   Muy bajo  \n",
      "\n",
      "[730 rows x 17 columns]\n",
      "4886.0\n"
     ]
    }
   ],
   "source": [
    "#Finding None values in 'chg_%hogjef_f' and changing them to 0\n",
    "#First we create a boolean mask where there is nan in 'name'\n",
    "idx = pop_marg_hex9['chg_%hogjef_f'].isna()\n",
    "#Then, in that boolean mask, we change 'chg_%hogjef_f' to 0\n",
    "#pop_marg_hex9.loc[idx, 'chg_%hogjef_f'] = 0\n",
    "\n",
    "nodata = pop_marg_hex9.loc[idx]\n",
    "print(nodata)\n",
    "print(nodata['10_pobtot'].sum())"
   ]
  },
  {
   "cell_type": "code",
   "execution_count": 67,
   "id": "2bcc8d0b-707c-4ddc-9d19-eaf3a48891a3",
   "metadata": {},
   "outputs": [
    {
     "data": {
      "text/html": [
       "<div>\n",
       "<style scoped>\n",
       "    .dataframe tbody tr th:only-of-type {\n",
       "        vertical-align: middle;\n",
       "    }\n",
       "\n",
       "    .dataframe tbody tr th {\n",
       "        vertical-align: top;\n",
       "    }\n",
       "\n",
       "    .dataframe thead th {\n",
       "        text-align: right;\n",
       "    }\n",
       "</style>\n",
       "<table border=\"1\" class=\"dataframe\">\n",
       "  <thead>\n",
       "    <tr style=\"text-align: right;\">\n",
       "      <th></th>\n",
       "      <th>grado_marg</th>\n",
       "      <th>chg_%hogjef_f</th>\n",
       "    </tr>\n",
       "  </thead>\n",
       "  <tbody>\n",
       "    <tr>\n",
       "      <th>0</th>\n",
       "      <td>Alto</td>\n",
       "      <td>10.757931</td>\n",
       "    </tr>\n",
       "    <tr>\n",
       "      <th>1</th>\n",
       "      <td>Bajo</td>\n",
       "      <td>10.198740</td>\n",
       "    </tr>\n",
       "    <tr>\n",
       "      <th>2</th>\n",
       "      <td>Medio</td>\n",
       "      <td>10.783619</td>\n",
       "    </tr>\n",
       "    <tr>\n",
       "      <th>3</th>\n",
       "      <td>Muy alto</td>\n",
       "      <td>12.742203</td>\n",
       "    </tr>\n",
       "    <tr>\n",
       "      <th>4</th>\n",
       "      <td>Muy bajo</td>\n",
       "      <td>9.310988</td>\n",
       "    </tr>\n",
       "  </tbody>\n",
       "</table>\n",
       "</div>"
      ],
      "text/plain": [
       "  grado_marg  chg_%hogjef_f\n",
       "0       Alto      10.757931\n",
       "1       Bajo      10.198740\n",
       "2      Medio      10.783619\n",
       "3   Muy alto      12.742203\n",
       "4   Muy bajo       9.310988"
      ]
     },
     "execution_count": 67,
     "metadata": {},
     "output_type": "execute_result"
    }
   ],
   "source": [
    "hogjef_f_bymarg = pop_marg_hex9.groupby('grado_marg').agg({'chg_%hogjef_f':np.nanmean})\n",
    "hogjef_f_bymarg = hogjef_f_bymarg.reset_index()\n",
    "hogjef_f_bymarg"
   ]
  },
  {
   "cell_type": "code",
   "execution_count": 74,
   "id": "52f0b90d-4c0a-4e5e-96e9-5fe15c6e3f6b",
   "metadata": {},
   "outputs": [
    {
     "data": {
      "text/plain": [
       "Text(0, 0.5, 'Cambio en el porcentaje de hogares con jefatura femenina (2010 vs 2020)')"
      ]
     },
     "execution_count": 74,
     "metadata": {},
     "output_type": "execute_result"
    },
    {
     "data": {
      "image/png": "[encoded data removed]",
      "text/plain": [
       "<Figure size 720x720 with 1 Axes>"
      ]
     },
     "metadata": {
      "needs_background": "light"
     },
     "output_type": "display_data"
    }
   ],
   "source": [
    "fig, ax = plt.subplots(figsize=(10,10))\n",
    "\n",
    "x = np.array(pop_marg_hex9.grado_marg)\n",
    "y = np.array(pop_marg_hex9['chg_%hogjef_f'])\n",
    "\n",
    "sns.boxplot(x=x , y=y, ax=ax)\n",
    "\n",
    "plt.xlabel('Grado de Marginación')\n",
    "plt.ylabel('Cambio en el porcentaje de hogares con jefatura femenina (2010 vs 2020)')"
   ]
  },
  {
   "cell_type": "code",
   "execution_count": null,
   "id": "32988fec-581d-49dd-870b-59787f4acfd7",
   "metadata": {},
   "outputs": [],
   "source": []
  }
 ],
 "metadata": {
  "kernelspec": {
   "display_name": "Python 3 (ipykernel)",
   "language": "python",
   "name": "python3"
  },
  "language_info": {
   "codemirror_mode": {
    "name": "ipython",
    "version": 3
   },
   "file_extension": ".py",
   "mimetype": "text/x-python",
   "name": "python",
   "nbconvert_exporter": "python",
   "pygments_lexer": "ipython3",
   "version": "3.9.7"
  }
 },
 "nbformat": 4,
 "nbformat_minor": 5
}
