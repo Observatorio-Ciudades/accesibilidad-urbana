{
 "cells": [
  {
   "cell_type": "code",
   "execution_count": 2,
   "id": "2e82038b-a822-48f7-b0b3-f7ef635d72d8",
   "metadata": {
    "scrolled": true
   },
   "outputs": [
    {
     "name": "stderr",
     "output_type": "stream",
     "text": [
      "/home/andrea/Desktop/Observatorio_Ciudades/accesibilidad-urbana/aup/data.py:27: UserWarning: The `utils.config` function is deprecated and will be removed in a future release. Instead, use the `settings` module directly to configure a global setting's value. For example, `ox.settings.log_console=True`.\n",
      "  ox.config(\n"
     ]
    }
   ],
   "source": [
    "import os\n",
    "import sys\n",
    "\n",
    "import pandas as pd\n",
    "import geopandas as gpd\n",
    "import osmnx as ox\n",
    "import numpy as np\n",
    "\n",
    "import matplotlib.pyplot as plt\n",
    "import seaborn as sns\n",
    "import folium\n",
    "import warnings\n",
    "warnings.simplefilter(action='ignore', category=FutureWarning)\n",
    "\n",
    "module_path = os.path.abspath(os.path.join('../../'))\n",
    "if module_path not in sys.path:\n",
    "    sys.path.append(module_path)\n",
    "    import aup"
   ]
  },
  {
   "cell_type": "code",
   "execution_count": null,
   "id": "aafefb86-ff0a-45ff-8357-038aa39b0e31",
   "metadata": {},
   "outputs": [],
   "source": [
    "mun_schema = 'censo_mza'\n",
    "mun_table = 'censo_mza_2020'\n",
    "\n",
    "query_distinct = f'SELECT DISTINCT \"CVE_ENT\" FROM {mun_schema}.{mun_table}'\n",
    "mun_df = aup.df_from_query(query_distinct)\n",
    "\n",
    "cve_ent_list = mun_df[\"CVE_ENT\"].tolist()\n",
    "\n",
    "# Iterar sobre cada entidad\n",
    "for entidad in cve_ent_list:\n",
    "    query_municipal = f'SELECT DISTINCT \"CVE_MUN\" FROM {mun_schema}.{mun_table} WHERE \"CVE_ENT\" = \\'{entidad}\\''\n",
    "    mun_municipal_df = aup.df_from_query(query_municipal)\n",
    "    lista_municipios = mun_municipal_df[\"CVE_MUN\"].tolist()\n",
    "\n",
    "    # Iterar sobre cada municipio de la entidad actual\n",
    "    for municipio in lista_municipios:\n",
    "        query = f'SELECT * FROM {mun_schema}.{mun_table} WHERE \"CVE_ENT\" = \\'{entidad}\\' AND \"CVE_MUN\" = \\'{municipio}\\''\n",
    "        gdf = aup.gdf_from_query(query)\n",
    "\n",
    "        # Imprimir GeoDataFrame)\n",
    "        print(f\"Entidad: {entidad}, Municipio: {municipio}\")\n",
    "        print(gdf)\n",
    "        print()  \n"
   ]
  },
  {
   "cell_type": "code",
   "execution_count": 8,
   "id": "2e08d469-e5d4-4553-bc6d-25f23c7e6c05",
   "metadata": {},
   "outputs": [
    {
     "name": "stdout",
     "output_type": "stream",
     "text": [
      "                 CVEGEO CVE_ENT CVE_MUN CVE_LOC CVE_AGEB CVE_MZA  AMBITO  \\\n",
      "0      0100100010233003      01     001    0001     0233     003  Urbana   \n",
      "1      0100100010229001      01     001    0001     0229     001  Urbana   \n",
      "2      0100100010229002      01     001    0001     0229     002  Urbana   \n",
      "3      0100100010229003      01     001    0001     0229     003  Urbana   \n",
      "4      0100100010229004      01     001    0001     0229     004  Urbana   \n",
      "...                 ...     ...     ...     ...      ...     ...     ...   \n",
      "11109  0100100013488005      01     001    0001     3488     005  Urbana   \n",
      "11110  0100100014486021      01     001    0001     4486     021  Urbana   \n",
      "11111  0100100014448033      01     001    0001     4448     033  Urbana   \n",
      "11112  0100100012140029      01     001    0001     2140     029  Urbana   \n",
      "11113  0100100013670015      01     001    0001     3670     015  Urbana   \n",
      "\n",
      "      TIPOMZA                                           geometry  ENTIDAD  \\\n",
      "0      Típica  0103000020E610000001000000560000008605E05E2394...        1   \n",
      "1      Típica  0103000020E6100000010000004A000000C0C9CDAAEE92...        1   \n",
      "2      Típica  0103000020E61000000100000043000000A1A1BA53B092...        1   \n",
      "3      Típica  0103000020E610000001000000130000007244C73C5B92...        1   \n",
      "4      Típica  0103000020E6100000010000003800000058AD6E1CCA92...        1   \n",
      "...       ...                                                ...      ...   \n",
      "11109  Típica  0103000020E610000001000000170000007B9E96D2FD96...        1   \n",
      "11110  Típica  0103000020E610000001000000050000008E3738757D8E...        1   \n",
      "11111  Típica  0103000020E610000001000000050000002E295B486C8F...        1   \n",
      "11112  Típica  0103000020E6100000010000001900000002F5D77F3E91...        1   \n",
      "11113  Típica  0103000020E61000000100000027000000507F3DC0A893...        1   \n",
      "\n",
      "       ... VPH_TELEF  VPH_CEL VPH_INTER  VPH_STVP VPH_SPMVPI VPH_CVJ  \\\n",
      "0      ...      None     None      None      None       None    None   \n",
      "1      ...        14       21        20        17         16       6   \n",
      "2      ...         0        0         0         0          0       0   \n",
      "3      ...         0        0         0         0          0       0   \n",
      "4      ...         0        0         0         0          0       0   \n",
      "...    ...       ...      ...       ...       ...        ...     ...   \n",
      "11109  ...         0        0         0         0          0       0   \n",
      "11110  ...      None        9         5         4          3    None   \n",
      "11111  ...         0        0         0         0          0       0   \n",
      "11112  ...         0        0         0         0          0       0   \n",
      "11113  ...         5        8         8         5          4       4   \n",
      "\n",
      "       VPH_SINRTV  VPH_SINLTC VPH_SINCINT VPH_SINTIC  \n",
      "0            None        None        None       None  \n",
      "1               0           0        None          0  \n",
      "2               0           0           0          0  \n",
      "3               0           0           0          0  \n",
      "4               0           0           0          0  \n",
      "...           ...         ...         ...        ...  \n",
      "11109           0           0           0          0  \n",
      "11110           0           0           4          0  \n",
      "11111           0           0           0          0  \n",
      "11112           0           0           0          0  \n",
      "11113           0           0           0          0  \n",
      "\n",
      "[11114 rows x 239 columns]\n"
     ]
    }
   ],
   "source": [
    "mun_schema = 'censo_mza'\n",
    "mun_table = 'censo_mza_2020'\n",
    "\n",
    "query = f\"SELECT * FROM {mun_schema}.{mun_table} WHERE \\\"CVE_ENT\\\" = '01' AND \\\"CVE_MUN\\\" = '001'\"\n",
    "gdf = aup.gdf_from_query(query)\n",
    "print(df)\n",
    "aup.gdf_to_db_slow(gdf, 'trial_ent01', 'censo_mza', if_exists='replace')"
   ]
  },
  {
   "cell_type": "code",
   "execution_count": null,
   "id": "b2ee5e0f-af36-4e12-8966-415a541cd981",
   "metadata": {},
   "outputs": [],
   "source": []
  }
 ],
 "metadata": {
  "kernelspec": {
   "display_name": "Python 3 (ipykernel)",
   "language": "python",
   "name": "python3"
  },
  "language_info": {
   "codemirror_mode": {
    "name": "ipython",
    "version": 3
   },
   "file_extension": ".py",
   "mimetype": "text/x-python",
   "name": "python",
   "nbconvert_exporter": "python",
   "pygments_lexer": "ipython3",
   "version": "3.11.5"
  }
 },
 "nbformat": 4,
 "nbformat_minor": 5
}
