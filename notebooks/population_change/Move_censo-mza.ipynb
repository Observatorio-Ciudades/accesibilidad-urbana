{
 "cells": [
  {
   "cell_type": "code",
   "execution_count": 1,
   "id": "60e5e3bc",
   "metadata": {
    "scrolled": true
   },
   "outputs": [
    {
     "name": "stdout",
     "output_type": "stream",
     "text": [
      "Directorio de utils.py: /home/andrea/Desktop/Observatorio_Ciudades/accesibilidad-urbana/aup\n"
     ]
    },
    {
     "name": "stderr",
     "output_type": "stream",
     "text": [
      "/home/andrea/Desktop/Observatorio_Ciudades/accesibilidad-urbana/aup/data.py:27: UserWarning: The `utils.config` function is deprecated and will be removed in a future release. Instead, use the `settings` module directly to configure a global setting's value. For example, `ox.settings.log_console=True`.\n",
      "  ox.config(\n"
     ]
    }
   ],
   "source": [
    "import os\n",
    "import sys\n",
    "\n",
    "import pandas as pd\n",
    "import geopandas as gpd\n",
    "import osmnx as ox\n",
    "import numpy as np\n",
    "\n",
    "import matplotlib.pyplot as plt\n",
    "import seaborn as sns\n",
    "import folium\n",
    "import warnings\n",
    "warnings.simplefilter(action='ignore', category=FutureWarning)\n",
    "\n",
    "module_path = os.path.abspath(os.path.join('../../'))\n",
    "if module_path not in sys.path:\n",
    "    sys.path.append(module_path)\n",
    "    import aup"
   ]
  },
  {
   "cell_type": "code",
   "execution_count": 2,
   "id": "548ebce3",
   "metadata": {
    "scrolled": true
   },
   "outputs": [
    {
     "ename": "NameError",
     "evalue": "name 'aup' is not defined",
     "output_type": "error",
     "traceback": [
      "\u001b[0;31m---------------------------------------------------------------------------\u001b[0m",
      "\u001b[0;31mNameError\u001b[0m                                 Traceback (most recent call last)",
      "\u001b[0;32m<ipython-input-2-4404bdbfcb5b>\u001b[0m in \u001b[0;36m<module>\u001b[0;34m\u001b[0m\n\u001b[1;32m      3\u001b[0m \u001b[0;34m\u001b[0m\u001b[0m\n\u001b[1;32m      4\u001b[0m \u001b[0mquery_distinct\u001b[0m \u001b[0;34m=\u001b[0m \u001b[0;34mf'SELECT DISTINCT \"CVE_ENT\" FROM {mun_schema}.{mun_table}'\u001b[0m\u001b[0;34m\u001b[0m\u001b[0;34m\u001b[0m\u001b[0m\n\u001b[0;32m----> 5\u001b[0;31m \u001b[0mmun_df\u001b[0m \u001b[0;34m=\u001b[0m \u001b[0maup\u001b[0m\u001b[0;34m.\u001b[0m\u001b[0mdf_from_query\u001b[0m\u001b[0;34m(\u001b[0m\u001b[0mquery_distinct\u001b[0m\u001b[0;34m)\u001b[0m\u001b[0;34m\u001b[0m\u001b[0;34m\u001b[0m\u001b[0m\n\u001b[0m\u001b[1;32m      6\u001b[0m \u001b[0;34m\u001b[0m\u001b[0m\n\u001b[1;32m      7\u001b[0m \u001b[0mcve_ent_list\u001b[0m \u001b[0;34m=\u001b[0m \u001b[0mmun_df\u001b[0m\u001b[0;34m[\u001b[0m\u001b[0;34m\"CVE_ENT\"\u001b[0m\u001b[0;34m]\u001b[0m\u001b[0;34m.\u001b[0m\u001b[0mtolist\u001b[0m\u001b[0;34m(\u001b[0m\u001b[0;34m)\u001b[0m\u001b[0;34m\u001b[0m\u001b[0;34m\u001b[0m\u001b[0m\n",
      "\u001b[0;31mNameError\u001b[0m: name 'aup' is not defined"
     ]
    }
   ],
   "source": [
    "mun_schema = 'censo_mza'\n",
    "mun_table = 'censo_mza_2020'\n",
    "\n",
    "query_distinct = f'SELECT DISTINCT \"CVE_ENT\" FROM {mun_schema}.{mun_table}'\n",
    "mun_df = aup.df_from_query(query_distinct)\n",
    "\n",
    "cve_ent_list = mun_df[\"CVE_ENT\"].tolist()\n",
    "\n",
    "# Iterar sobre cada entidad\n",
    "for entidad in cve_ent_list:\n",
    "    query_municipal = f'SELECT DISTINCT \"CVE_MUN\" FROM {mun_schema}.{mun_table} WHERE \"CVE_ENT\" = \\'{entidad}\\''\n",
    "    mun_municipal_df = aup.df_from_query(query_municipal)\n",
    "    lista_municipios = mun_municipal_df[\"CVE_MUN\"].tolist()\n",
    "\n",
    "    # Iterar sobre cada municipio de la entidad actual\n",
    "    for municipio in lista_municipios:\n",
    "        query = f'SELECT * FROM {mun_schema}.{mun_table} WHERE \"CVE_ENT\" = \\'{entidad}\\' AND \"CVE_MUN\" = \\'{municipio}\\''\n",
    "        gdf = aup.gdf_from_query(query)\n",
    "\n",
    "        # Imprimir GeoDataFrame)\n",
    "        print(f\"Entidad: {entidad}, Municipio: {municipio}\")\n",
    "        print(gdf)\n",
    "        print()  \n"
   ]
  },
  {
   "cell_type": "code",
   "execution_count": null,
   "id": "99912b94",
   "metadata": {},
   "outputs": [],
   "source": [
    "        destino_schema= \"censo\"\n",
    "        #Nueva nomenclatura\n",
    "        destino_table = \"censo_20_mza\"\n",
    "        gdf_to_db_slow(gdf, destino_table, destino_schema, if_exists=\"replace\")"
   ]
  },
  {
   "cell_type": "markdown",
   "id": "d085b544",
   "metadata": {},
   "source": [
    "## Prueba con entidad 01 y municipio 001"
   ]
  },
  {
   "cell_type": "code",
   "execution_count": 2,
   "id": "3a4cc85a",
   "metadata": {},
   "outputs": [
    {
     "ename": "NameError",
     "evalue": "name 'settings' is not defined",
     "output_type": "error",
     "traceback": [
      "\u001b[0;31m---------------------------------------------------------------------------\u001b[0m",
      "\u001b[0;31mNameError\u001b[0m                                 Traceback (most recent call last)",
      "Cell \u001b[0;32mIn[2], line 5\u001b[0m\n\u001b[1;32m      2\u001b[0m mun_table \u001b[38;5;241m=\u001b[39m \u001b[38;5;124m'\u001b[39m\u001b[38;5;124mcenso_mza_2020\u001b[39m\u001b[38;5;124m'\u001b[39m\n\u001b[1;32m      4\u001b[0m query \u001b[38;5;241m=\u001b[39m \u001b[38;5;124mf\u001b[39m\u001b[38;5;124m\"\u001b[39m\u001b[38;5;124mSELECT * FROM \u001b[39m\u001b[38;5;132;01m{\u001b[39;00mmun_schema\u001b[38;5;132;01m}\u001b[39;00m\u001b[38;5;124m.\u001b[39m\u001b[38;5;132;01m{\u001b[39;00mmun_table\u001b[38;5;132;01m}\u001b[39;00m\u001b[38;5;124m WHERE CVE_ENT = \u001b[39m\u001b[38;5;124m'\u001b[39m\u001b[38;5;124m01\u001b[39m\u001b[38;5;124m'\u001b[39m\u001b[38;5;124m AND CVE_MUN = \u001b[39m\u001b[38;5;124m'\u001b[39m\u001b[38;5;124m001\u001b[39m\u001b[38;5;124m'\u001b[39m\u001b[38;5;124m\"\u001b[39m\n\u001b[0;32m----> 5\u001b[0m gdf \u001b[38;5;241m=\u001b[39m \u001b[43maup\u001b[49m\u001b[38;5;241;43m.\u001b[39;49m\u001b[43mgdf_from_query\u001b[49m\u001b[43m(\u001b[49m\u001b[43mquery\u001b[49m\u001b[43m)\u001b[49m\n",
      "File \u001b[0;32m~/Desktop/Observatorio_Ciudades/accesibilidad-urbana/aup/data.py:327\u001b[0m, in \u001b[0;36mgdf_from_query\u001b[0;34m(query, geometry_col, index_col)\u001b[0m\n\u001b[1;32m    317\u001b[0m \u001b[38;5;28;01mdef\u001b[39;00m \u001b[38;5;21mgdf_from_query\u001b[39m(query, geometry_col\u001b[38;5;241m=\u001b[39m\u001b[38;5;124m\"\u001b[39m\u001b[38;5;124mgeometry\u001b[39m\u001b[38;5;124m\"\u001b[39m, index_col\u001b[38;5;241m=\u001b[39m\u001b[38;5;28;01mNone\u001b[39;00m):\n\u001b[1;32m    318\u001b[0m \u001b[38;5;250m    \u001b[39m\u001b[38;5;124;03m\"\"\"\u001b[39;00m\n\u001b[1;32m    319\u001b[0m \u001b[38;5;124;03m    Load a table from the database into a GeoDataFrame\u001b[39;00m\n\u001b[1;32m    320\u001b[0m \n\u001b[0;32m   (...)\u001b[0m\n\u001b[1;32m    325\u001b[0m \u001b[38;5;124;03m        df (geoPandas.GeoDataFrame): GeoDataFrame with the table from the database.\u001b[39;00m\n\u001b[1;32m    326\u001b[0m \u001b[38;5;124;03m    \"\"\"\u001b[39;00m\n\u001b[0;32m--> 327\u001b[0m     engine \u001b[38;5;241m=\u001b[39m \u001b[43mutils\u001b[49m\u001b[38;5;241;43m.\u001b[39;49m\u001b[43mdb_engine\u001b[49m\u001b[43m(\u001b[49m\u001b[43m)\u001b[49m\n\u001b[1;32m    328\u001b[0m     utils\u001b[38;5;241m.\u001b[39mlog(\u001b[38;5;124m\"\u001b[39m\u001b[38;5;124mGetting data from DB\u001b[39m\u001b[38;5;124m\"\u001b[39m)\n\u001b[1;32m    329\u001b[0m     df \u001b[38;5;241m=\u001b[39m gpd\u001b[38;5;241m.\u001b[39mGeoDataFrame\u001b[38;5;241m.\u001b[39mfrom_postgis(\n\u001b[1;32m    330\u001b[0m         query, engine, geom_col\u001b[38;5;241m=\u001b[39mgeometry_col, index_col\u001b[38;5;241m=\u001b[39mindex_col\n\u001b[1;32m    331\u001b[0m     )\n",
      "File \u001b[0;32m~/Desktop/Observatorio_Ciudades/accesibilidad-urbana/aup/utils.py:143\u001b[0m, in \u001b[0;36mdb_engine\u001b[0;34m()\u001b[0m\n\u001b[1;32m    136\u001b[0m \u001b[38;5;28;01mdef\u001b[39;00m \u001b[38;5;21mdb_engine\u001b[39m():\n\u001b[1;32m    137\u001b[0m \u001b[38;5;250m    \u001b[39m\u001b[38;5;124;03m\"\"\"\u001b[39;00m\n\u001b[1;32m    138\u001b[0m \u001b[38;5;124;03m    Function to create an engine with Ada\u001b[39;00m\n\u001b[1;32m    139\u001b[0m \n\u001b[1;32m    140\u001b[0m \u001b[38;5;124;03m    Returns:\u001b[39;00m\n\u001b[1;32m    141\u001b[0m \u001b[38;5;124;03m        database engine: sqlalchemy engine\u001b[39;00m\n\u001b[1;32m    142\u001b[0m \u001b[38;5;124;03m    \"\"\"\u001b[39;00m\n\u001b[0;32m--> 143\u001b[0m     \u001b[43mlog\u001b[49m\u001b[43m(\u001b[49m\u001b[38;5;124;43m\"\u001b[39;49m\u001b[38;5;124;43mCreating SQL engine\u001b[39;49m\u001b[38;5;124;43m\"\u001b[39;49m\u001b[43m)\u001b[49m\n\u001b[1;32m    144\u001b[0m     \u001b[38;5;28;01mreturn\u001b[39;00m create_engine(\n\u001b[1;32m    145\u001b[0m         \u001b[38;5;124m\"\u001b[39m\u001b[38;5;124mpostgresql://\u001b[39m\u001b[38;5;132;01m{user}\u001b[39;00m\u001b[38;5;124m:\u001b[39m\u001b[38;5;132;01m{pw}\u001b[39;00m\u001b[38;5;124m@\u001b[39m\u001b[38;5;132;01m{url}\u001b[39;00m\u001b[38;5;124m/\u001b[39m\u001b[38;5;132;01m{db}\u001b[39;00m\u001b[38;5;124m\"\u001b[39m\u001b[38;5;241m.\u001b[39mformat(\n\u001b[1;32m    146\u001b[0m             user\u001b[38;5;241m=\u001b[39m\u001b[38;5;28mstr\u001b[39m(settings\u001b[38;5;241m.\u001b[39muser), pw\u001b[38;5;241m=\u001b[39m\u001b[38;5;28mstr\u001b[39m(settings\u001b[38;5;241m.\u001b[39mpw), url\u001b[38;5;241m=\u001b[39m\u001b[38;5;28mstr\u001b[39m(settings\u001b[38;5;241m.\u001b[39murl), db\u001b[38;5;241m=\u001b[39m\u001b[38;5;28mstr\u001b[39m(settings\u001b[38;5;241m.\u001b[39mdb)\n\u001b[1;32m    147\u001b[0m         )\n\u001b[1;32m    148\u001b[0m     )\n",
      "File \u001b[0;32m~/Desktop/Observatorio_Ciudades/accesibilidad-urbana/aup/utils.py:77\u001b[0m, in \u001b[0;36mlog\u001b[0;34m(message, level, name, filename)\u001b[0m\n\u001b[1;32m     62\u001b[0m \u001b[38;5;250m\u001b[39m\u001b[38;5;124;03m\"\"\"\u001b[39;00m\n\u001b[1;32m     63\u001b[0m \u001b[38;5;124;03mWrite a message to the logger.\u001b[39;00m\n\u001b[1;32m     64\u001b[0m \u001b[38;5;124;03mThis logs to file and/or prints to the console (terminal), depending on\u001b[39;00m\n\u001b[0;32m   (...)\u001b[0m\n\u001b[1;32m     74\u001b[0m \u001b[38;5;124;03m    None\u001b[39;00m\n\u001b[1;32m     75\u001b[0m \u001b[38;5;124;03m\"\"\"\u001b[39;00m\n\u001b[1;32m     76\u001b[0m \u001b[38;5;28;01mif\u001b[39;00m level \u001b[38;5;129;01mis\u001b[39;00m \u001b[38;5;28;01mNone\u001b[39;00m:\n\u001b[0;32m---> 77\u001b[0m     level \u001b[38;5;241m=\u001b[39m \u001b[43msettings\u001b[49m\u001b[38;5;241m.\u001b[39mlog_level\n\u001b[1;32m     78\u001b[0m \u001b[38;5;28;01mif\u001b[39;00m name \u001b[38;5;129;01mis\u001b[39;00m \u001b[38;5;28;01mNone\u001b[39;00m:\n\u001b[1;32m     79\u001b[0m     name \u001b[38;5;241m=\u001b[39m settings\u001b[38;5;241m.\u001b[39mlog_name\n",
      "\u001b[0;31mNameError\u001b[0m: name 'settings' is not defined"
     ]
    }
   ],
   "source": [
    "mun_schema = 'censo_mza'\n",
    "mun_table = 'censo_mza_2020'\n",
    "\n",
    "query = f\"SELECT * FROM {mun_schema}.{mun_table} WHERE CVE_ENT = '01' AND CVE_MUN = '001'\"\n",
    "gdf = aup.gdf_from_query(query)"
   ]
  },
  {
   "cell_type": "code",
   "execution_count": null,
   "id": "d843abe0",
   "metadata": {},
   "outputs": [],
   "source": []
  },
  {
   "cell_type": "code",
   "execution_count": null,
   "id": "18ce7d90",
   "metadata": {},
   "outputs": [],
   "source": []
  }
 ],
 "metadata": {
  "kernelspec": {
   "display_name": "Python 3 (ipykernel)",
   "language": "python",
   "name": "python3"
  },
  "language_info": {
   "codemirror_mode": {
    "name": "ipython",
    "version": 3
   },
   "file_extension": ".py",
   "mimetype": "text/x-python",
   "name": "python",
   "nbconvert_exporter": "python",
   "pygments_lexer": "ipython3",
   "version": "3.11.5"
  }
 },
 "nbformat": 4,
 "nbformat_minor": 5
}
