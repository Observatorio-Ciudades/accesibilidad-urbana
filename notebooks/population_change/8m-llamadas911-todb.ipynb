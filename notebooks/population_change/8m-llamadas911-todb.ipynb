{
 "cells": [
  {
   "cell_type": "code",
   "execution_count": 2,
   "id": "79018922-6751-47d3-8cb2-eecf7894bebc",
   "metadata": {},
   "outputs": [
    {
     "name": "stdout",
     "output_type": "stream",
     "text": [
      "2023-03-07 21:44:20 Configured OSMnx 1.1.1\n",
      "2023-03-07 21:44:20 HTTP response caching is on\n"
     ]
    }
   ],
   "source": [
    "import os\n",
    "import sys\n",
    "\n",
    "import geopandas as gpd\n",
    "import pandas as pd\n",
    "import numpy as np\n",
    "\n",
    "import matplotlib.pyplot as plt\n",
    "import seaborn as sns\n",
    "\n",
    "import esda\n",
    "import pysal\n",
    "import libpysal as lps\n",
    "from splot import esda as esdaplot\n",
    "\n",
    "\n",
    "module_path = os.path.abspath(os.path.join('../../'))\n",
    "if module_path not in sys.path:\n",
    "    sys.path.append(module_path)\n",
    "    import aup"
   ]
  },
  {
   "cell_type": "code",
   "execution_count": 3,
   "id": "07e0f887-6309-4035-b896-190fbec1aba8",
   "metadata": {},
   "outputs": [
    {
     "data": {
      "text/plain": [
       "<AxesSubplot:>"
      ]
     },
     "execution_count": 3,
     "metadata": {},
     "output_type": "execute_result"
    },
    {
     "data": {
      "image/png": "[encoded data removed]",
      "text/plain": [
       "<Figure size 432x288 with 1 Axes>"
      ]
     },
     "metadata": {
      "needs_background": "light"
     },
     "output_type": "display_data"
    }
   ],
   "source": [
    "llamadas911_cdmx_8m = gpd.read_file(\"../../data/external/temporal_todocker/llamadas911_cdmx_8m.gpkg\")\n",
    "llamadas911_cdmx_8m.plot()"
   ]
  },
  {
   "cell_type": "code",
   "execution_count": 5,
   "id": "63d3076c-4eb1-44f8-ab40-b26b8826d394",
   "metadata": {},
   "outputs": [],
   "source": [
    "aup.gdf_to_db_slow(llamadas911_cdmx_8m,'llamadas911_cdmx_8m','segundopiso',if_exists=\"replace\")"
   ]
  },
  {
   "cell_type": "code",
   "execution_count": null,
   "id": "ecfe739a-c6c8-46d3-bc12-8b4dbdf1706c",
   "metadata": {},
   "outputs": [],
   "source": []
  }
 ],
 "metadata": {
  "kernelspec": {
   "display_name": "Python 3 (ipykernel)",
   "language": "python",
   "name": "python3"
  },
  "language_info": {
   "codemirror_mode": {
    "name": "ipython",
    "version": 3
   },
   "file_extension": ".py",
   "mimetype": "text/x-python",
   "name": "python",
   "nbconvert_exporter": "python",
   "pygments_lexer": "ipython3",
   "version": "3.9.7"
  }
 },
 "nbformat": 4,
 "nbformat_minor": 5
}
