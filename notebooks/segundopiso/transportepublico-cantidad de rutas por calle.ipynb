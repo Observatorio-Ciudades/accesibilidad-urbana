{
 "cells": [
  {
   "cell_type": "code",
   "execution_count": 1,
   "id": "8e4e47c4-357c-4adc-bd1b-ad56bfd434b1",
   "metadata": {
    "tags": []
   },
   "outputs": [
    {
     "name": "stderr",
     "output_type": "stream",
     "text": [
      "/usr/local/python/lib/python3.10/site-packages/osmnx/utils.py:192: UserWarning: The `utils.config` function is deprecated and will be removed in a future release. Instead, use the `settings` module directly to configure a global setting's value. For example, `ox.settings.log_console=True`.\n",
      "  warnings.warn(\n"
     ]
    }
   ],
   "source": [
    "import os\n",
    "import sys\n",
    "\n",
    "import pandas as pd\n",
    "import geopandas as gpd\n",
    "import osmnx as ox\n",
    "import numpy as np\n",
    "\n",
    "import matplotlib.pyplot as plt\n",
    "\n",
    "import warnings\n",
    "warnings.simplefilter(action='ignore', category=FutureWarning)\n",
    "\n",
    "module_path = os.path.abspath(os.path.join('../../'))\n",
    "if module_path not in sys.path:\n",
    "    sys.path.append(module_path)\n",
    "    import aup"
   ]
  },
  {
   "cell_type": "markdown",
   "id": "f14cf1f7-b465-46f8-927a-81e7dc1cb672",
   "metadata": {},
   "source": [
    "## Download data"
   ]
  },
  {
   "cell_type": "code",
   "execution_count": 2,
   "id": "546f6958-dfda-4f9d-8edb-57a7ebe7ef20",
   "metadata": {
    "tags": []
   },
   "outputs": [],
   "source": [
    "ejesviales = gpd.read_file('../../data/external/temporal_todocker/0_marcogeo_ejesviales_prueba.gpkg')\n",
    "hubdistance = gpd.read_file('../../data/external/temporal_todocker/02_hubdistance.gpkg')"
   ]
  },
  {
   "cell_type": "code",
   "execution_count": 3,
   "id": "7050945d-ac0d-41e6-aabb-6a10146c8427",
   "metadata": {
    "tags": []
   },
   "outputs": [
    {
     "name": "stdout",
     "output_type": "stream",
     "text": [
      "(768, 13)\n"
     ]
    },
    {
     "data": {
      "text/html": [
       "<div>\n",
       "<style scoped>\n",
       "    .dataframe tbody tr th:only-of-type {\n",
       "        vertical-align: middle;\n",
       "    }\n",
       "\n",
       "    .dataframe tbody tr th {\n",
       "        vertical-align: top;\n",
       "    }\n",
       "\n",
       "    .dataframe thead th {\n",
       "        text-align: right;\n",
       "    }\n",
       "</style>\n",
       "<table border=\"1\" class=\"dataframe\">\n",
       "  <thead>\n",
       "    <tr style=\"text-align: right;\">\n",
       "      <th></th>\n",
       "      <th>CVEGEO</th>\n",
       "      <th>CVE_ENT</th>\n",
       "      <th>CVE_MUN</th>\n",
       "      <th>CVE_LOC</th>\n",
       "      <th>CVEVIAL</th>\n",
       "      <th>CVESEG</th>\n",
       "      <th>NOMVIAL</th>\n",
       "      <th>TIPOVIAL</th>\n",
       "      <th>SENTIDO</th>\n",
       "      <th>TIPOSEN</th>\n",
       "      <th>AMBITO</th>\n",
       "      <th>CVEGEOSEG</th>\n",
       "      <th>geometry</th>\n",
       "    </tr>\n",
       "  </thead>\n",
       "  <tbody>\n",
       "    <tr>\n",
       "      <th>0</th>\n",
       "      <td>140390001</td>\n",
       "      <td>14</td>\n",
       "      <td>039</td>\n",
       "      <td>0001</td>\n",
       "      <td>00184</td>\n",
       "      <td>00003</td>\n",
       "      <td>Teatro de la República</td>\n",
       "      <td>Calle</td>\n",
       "      <td>Un sentido</td>\n",
       "      <td>1</td>\n",
       "      <td>Urbana</td>\n",
       "      <td>1403900010018400003</td>\n",
       "      <td>MULTILINESTRING ((666274.061 2287716.662, 6662...</td>\n",
       "    </tr>\n",
       "  </tbody>\n",
       "</table>\n",
       "</div>"
      ],
      "text/plain": [
       "      CVEGEO CVE_ENT CVE_MUN CVE_LOC CVEVIAL CVESEG                 NOMVIAL  \\\n",
       "0  140390001      14     039    0001   00184  00003  Teatro de la República   \n",
       "\n",
       "  TIPOVIAL     SENTIDO  TIPOSEN  AMBITO            CVEGEOSEG  \\\n",
       "0    Calle  Un sentido        1  Urbana  1403900010018400003   \n",
       "\n",
       "                                            geometry  \n",
       "0  MULTILINESTRING ((666274.061 2287716.662, 6662...  "
      ]
     },
     "execution_count": 3,
     "metadata": {},
     "output_type": "execute_result"
    }
   ],
   "source": [
    "print(ejesviales.shape)\n",
    "ejesviales.head(1)"
   ]
  },
  {
   "cell_type": "code",
   "execution_count": 4,
   "id": "085d85db-8978-42dc-9fc8-982165bc9623",
   "metadata": {
    "tags": []
   },
   "outputs": [
    {
     "name": "stdout",
     "output_type": "stream",
     "text": [
      "(23044, 15)\n"
     ]
    },
    {
     "data": {
      "text/html": [
       "<div>\n",
       "<style scoped>\n",
       "    .dataframe tbody tr th:only-of-type {\n",
       "        vertical-align: middle;\n",
       "    }\n",
       "\n",
       "    .dataframe tbody tr th {\n",
       "        vertical-align: top;\n",
       "    }\n",
       "\n",
       "    .dataframe thead th {\n",
       "        text-align: right;\n",
       "    }\n",
       "</style>\n",
       "<table border=\"1\" class=\"dataframe\">\n",
       "  <thead>\n",
       "    <tr style=\"text-align: right;\">\n",
       "      <th></th>\n",
       "      <th>fid</th>\n",
       "      <th>cat</th>\n",
       "      <th>Tipo_de_se</th>\n",
       "      <th>Clasificac</th>\n",
       "      <th>Clasifica0</th>\n",
       "      <th>idruta</th>\n",
       "      <th>fid_2</th>\n",
       "      <th>cat_2</th>\n",
       "      <th>Tipo_de_se_2</th>\n",
       "      <th>Clasificac_2</th>\n",
       "      <th>Clasifica0_2</th>\n",
       "      <th>idruta_2</th>\n",
       "      <th>HubName</th>\n",
       "      <th>HubDist</th>\n",
       "      <th>geometry</th>\n",
       "    </tr>\n",
       "  </thead>\n",
       "  <tbody>\n",
       "    <tr>\n",
       "      <th>0</th>\n",
       "      <td>1</td>\n",
       "      <td>1</td>\n",
       "      <td>Complementaria</td>\n",
       "      <td>Rutas complementarias y otros servicios</td>\n",
       "      <td>Operando</td>\n",
       "      <td>34</td>\n",
       "      <td>2</td>\n",
       "      <td>1</td>\n",
       "      <td>Complementaria</td>\n",
       "      <td>Rutas complementarias y otros servicios</td>\n",
       "      <td>Operando</td>\n",
       "      <td>34</td>\n",
       "      <td>1412000010358500034</td>\n",
       "      <td>2.604311</td>\n",
       "      <td>POINT (665756.141 2287120.589)</td>\n",
       "    </tr>\n",
       "    <tr>\n",
       "      <th>1</th>\n",
       "      <td>1</td>\n",
       "      <td>1</td>\n",
       "      <td>Complementaria</td>\n",
       "      <td>Rutas complementarias y otros servicios</td>\n",
       "      <td>Operando</td>\n",
       "      <td>34</td>\n",
       "      <td>165</td>\n",
       "      <td>2</td>\n",
       "      <td>Complementaria</td>\n",
       "      <td>Rutas complementarias y otros servicios</td>\n",
       "      <td>Operando</td>\n",
       "      <td>36</td>\n",
       "      <td>1412000010358500034</td>\n",
       "      <td>2.604311</td>\n",
       "      <td>POINT (665756.141 2287120.589)</td>\n",
       "    </tr>\n",
       "  </tbody>\n",
       "</table>\n",
       "</div>"
      ],
      "text/plain": [
       "   fid  cat      Tipo_de_se                               Clasificac  \\\n",
       "0    1    1  Complementaria  Rutas complementarias y otros servicios   \n",
       "1    1    1  Complementaria  Rutas complementarias y otros servicios   \n",
       "\n",
       "  Clasifica0  idruta  fid_2  cat_2    Tipo_de_se_2  \\\n",
       "0   Operando      34      2      1  Complementaria   \n",
       "1   Operando      34    165      2  Complementaria   \n",
       "\n",
       "                              Clasificac_2 Clasifica0_2  idruta_2  \\\n",
       "0  Rutas complementarias y otros servicios     Operando        34   \n",
       "1  Rutas complementarias y otros servicios     Operando        36   \n",
       "\n",
       "               HubName   HubDist                        geometry  \n",
       "0  1412000010358500034  2.604311  POINT (665756.141 2287120.589)  \n",
       "1  1412000010358500034  2.604311  POINT (665756.141 2287120.589)  "
      ]
     },
     "execution_count": 4,
     "metadata": {},
     "output_type": "execute_result"
    }
   ],
   "source": [
    "print(hubdistance.shape)\n",
    "hubdistance.head(2)"
   ]
  },
  {
   "cell_type": "code",
   "execution_count": 5,
   "id": "31621357-4591-43bf-81ee-3d9636e4f6e4",
   "metadata": {
    "tags": []
   },
   "outputs": [
    {
     "data": {
      "text/html": [
       "<div>\n",
       "<style scoped>\n",
       "    .dataframe tbody tr th:only-of-type {\n",
       "        vertical-align: middle;\n",
       "    }\n",
       "\n",
       "    .dataframe tbody tr th {\n",
       "        vertical-align: top;\n",
       "    }\n",
       "\n",
       "    .dataframe thead th {\n",
       "        text-align: right;\n",
       "    }\n",
       "</style>\n",
       "<table border=\"1\" class=\"dataframe\">\n",
       "  <thead>\n",
       "    <tr style=\"text-align: right;\">\n",
       "      <th></th>\n",
       "      <th>idruta</th>\n",
       "      <th>segmentocalle</th>\n",
       "      <th>geometry</th>\n",
       "    </tr>\n",
       "  </thead>\n",
       "  <tbody>\n",
       "    <tr>\n",
       "      <th>0</th>\n",
       "      <td>34</td>\n",
       "      <td>1412000010358500034</td>\n",
       "      <td>POINT (665756.141 2287120.589)</td>\n",
       "    </tr>\n",
       "  </tbody>\n",
       "</table>\n",
       "</div>"
      ],
      "text/plain": [
       "   idruta        segmentocalle                        geometry\n",
       "0      34  1412000010358500034  POINT (665756.141 2287120.589)"
      ]
     },
     "execution_count": 5,
     "metadata": {},
     "output_type": "execute_result"
    }
   ],
   "source": [
    "columns_tokeep = ['idruta','HubName','geometry']\n",
    "hubdistance_f = hubdistance[columns_tokeep]\n",
    "hubdistance_f = hubdistance_f.rename(columns={'HubName':'segmentocalle'})\n",
    "hubdistance_f.head(1)"
   ]
  },
  {
   "cell_type": "code",
   "execution_count": 6,
   "id": "ebf91c40-0148-4036-b2b1-a6a5f5a63e20",
   "metadata": {
    "tags": []
   },
   "outputs": [
    {
     "name": "stdout",
     "output_type": "stream",
     "text": [
      "26\n",
      "138\n"
     ]
    }
   ],
   "source": [
    "rutas = list(hubdistance_f.idruta.unique())\n",
    "print(len(rutas))\n",
    "\n",
    "segmentos = list(hubdistance_f.segmentocalle.unique())\n",
    "print(len(segmentos))"
   ]
  },
  {
   "cell_type": "markdown",
   "id": "e38ef485-5f60-4a2f-9843-381af0252709",
   "metadata": {},
   "source": [
    "## Prueba separando rutas y group by segmentos"
   ]
  },
  {
   "cell_type": "code",
   "execution_count": 29,
   "id": "f039d672-58b1-4bc9-92fa-f567702349d3",
   "metadata": {
    "tags": []
   },
   "outputs": [
    {
     "data": {
      "text/html": [
       "<div>\n",
       "<style scoped>\n",
       "    .dataframe tbody tr th:only-of-type {\n",
       "        vertical-align: middle;\n",
       "    }\n",
       "\n",
       "    .dataframe tbody tr th {\n",
       "        vertical-align: top;\n",
       "    }\n",
       "\n",
       "    .dataframe thead th {\n",
       "        text-align: right;\n",
       "    }\n",
       "</style>\n",
       "<table border=\"1\" class=\"dataframe\">\n",
       "  <thead>\n",
       "    <tr style=\"text-align: right;\">\n",
       "      <th></th>\n",
       "      <th>segmentocalle</th>\n",
       "      <th>count</th>\n",
       "    </tr>\n",
       "  </thead>\n",
       "  <tbody>\n",
       "    <tr>\n",
       "      <th>0</th>\n",
       "      <td>1403900010015900003</td>\n",
       "      <td>4</td>\n",
       "    </tr>\n",
       "    <tr>\n",
       "      <th>1</th>\n",
       "      <td>1403900010017200002</td>\n",
       "      <td>4</td>\n",
       "    </tr>\n",
       "    <tr>\n",
       "      <th>2</th>\n",
       "      <td>1403900010315600046</td>\n",
       "      <td>4</td>\n",
       "    </tr>\n",
       "    <tr>\n",
       "      <th>3</th>\n",
       "      <td>1403900010434500003</td>\n",
       "      <td>1</td>\n",
       "    </tr>\n",
       "    <tr>\n",
       "      <th>4</th>\n",
       "      <td>1403900010863100001</td>\n",
       "      <td>60</td>\n",
       "    </tr>\n",
       "    <tr>\n",
       "      <th>5</th>\n",
       "      <td>1403900010863100004</td>\n",
       "      <td>4</td>\n",
       "    </tr>\n",
       "    <tr>\n",
       "      <th>6</th>\n",
       "      <td>1403900010863100005</td>\n",
       "      <td>8</td>\n",
       "    </tr>\n",
       "    <tr>\n",
       "      <th>7</th>\n",
       "      <td>1403900010863100015</td>\n",
       "      <td>8</td>\n",
       "    </tr>\n",
       "    <tr>\n",
       "      <th>8</th>\n",
       "      <td>1403900010863100017</td>\n",
       "      <td>16</td>\n",
       "    </tr>\n",
       "    <tr>\n",
       "      <th>9</th>\n",
       "      <td>1403900010863100018</td>\n",
       "      <td>28</td>\n",
       "    </tr>\n",
       "    <tr>\n",
       "      <th>10</th>\n",
       "      <td>1403900010863100019</td>\n",
       "      <td>28</td>\n",
       "    </tr>\n",
       "    <tr>\n",
       "      <th>11</th>\n",
       "      <td>1403900010863100020</td>\n",
       "      <td>32</td>\n",
       "    </tr>\n",
       "    <tr>\n",
       "      <th>12</th>\n",
       "      <td>1412000010358500031</td>\n",
       "      <td>8</td>\n",
       "    </tr>\n",
       "    <tr>\n",
       "      <th>13</th>\n",
       "      <td>1412000010358500034</td>\n",
       "      <td>56</td>\n",
       "    </tr>\n",
       "    <tr>\n",
       "      <th>14</th>\n",
       "      <td>1412000010358500036</td>\n",
       "      <td>64</td>\n",
       "    </tr>\n",
       "    <tr>\n",
       "      <th>15</th>\n",
       "      <td>1412000011048800002</td>\n",
       "      <td>5</td>\n",
       "    </tr>\n",
       "  </tbody>\n",
       "</table>\n",
       "</div>"
      ],
      "text/plain": [
       "          segmentocalle  count\n",
       "0   1403900010015900003      4\n",
       "1   1403900010017200002      4\n",
       "2   1403900010315600046      4\n",
       "3   1403900010434500003      1\n",
       "4   1403900010863100001     60\n",
       "5   1403900010863100004      4\n",
       "6   1403900010863100005      8\n",
       "7   1403900010863100015      8\n",
       "8   1403900010863100017     16\n",
       "9   1403900010863100018     28\n",
       "10  1403900010863100019     28\n",
       "11  1403900010863100020     32\n",
       "12  1412000010358500031      8\n",
       "13  1412000010358500034     56\n",
       "14  1412000010358500036     64\n",
       "15  1412000011048800002      5"
      ]
     },
     "execution_count": 29,
     "metadata": {},
     "output_type": "execute_result"
    }
   ],
   "source": [
    "gdf_ruta_prueba = hubdistance_f[hubdistance_f.idruta == 34]\n",
    "\n",
    "#Contar las veces que la ruta pasa por un segmento de calle\n",
    "segs_deruta = gdf_ruta_prueba.groupby('segmentocalle').count()\n",
    "\n",
    "#Formato\n",
    "columns_tokeep = ['idruta']\n",
    "segs_deruta = segs_deruta[columns_tokeep]\n",
    "segs_deruta = segs_deruta.reset_index()\n",
    "segs_deruta = segs_deruta.rename(columns={'idruta':'count'})\n",
    "\n",
    "segs_deruta"
   ]
  },
  {
   "cell_type": "code",
   "execution_count": 65,
   "id": "886bae91-e24c-4d73-8c53-c1ac895ea9ea",
   "metadata": {
    "tags": []
   },
   "outputs": [],
   "source": [
    "ruta = 34\n",
    "\n",
    "dicc_segmento_prueba = {}\n",
    "listavacia = []\n",
    "\n",
    "for row_id,row_series in segs_deruta.iterrows():\n",
    "    segmento_calle = row_series[0]\n",
    "    count = row_series[1]\n",
    "    \n",
    "    if count > 1: #Si la ruta pasa solo 1 vez, probablemente es un segmento en una intersección y la ruta no usa por esa calle.\n",
    "        if segmento_calle not in dicc_segmento_prueba:\n",
    "            dicc_segmento_prueba[segmento_calle] = listavacia\n",
    "    \n",
    "        if ruta not in dicc_segmento_prueba[segmento_calle]:\n",
    "            dicc_segmento_prueba[segmento_calle].append(ruta)"
   ]
  },
  {
   "cell_type": "code",
   "execution_count": 66,
   "id": "71b8d062-d868-4e21-a7a8-d5c8bedfee61",
   "metadata": {
    "tags": []
   },
   "outputs": [
    {
     "data": {
      "text/plain": [
       "{'1403900010015900003': [34],\n",
       " '1403900010017200002': [34],\n",
       " '1403900010315600046': [34],\n",
       " '1403900010863100001': [34],\n",
       " '1403900010863100004': [34],\n",
       " '1403900010863100005': [34],\n",
       " '1403900010863100015': [34],\n",
       " '1403900010863100017': [34],\n",
       " '1403900010863100018': [34],\n",
       " '1403900010863100019': [34],\n",
       " '1403900010863100020': [34],\n",
       " '1412000010358500031': [34],\n",
       " '1412000010358500034': [34],\n",
       " '1412000010358500036': [34],\n",
       " '1412000011048800002': [34]}"
      ]
     },
     "execution_count": 66,
     "metadata": {},
     "output_type": "execute_result"
    }
   ],
   "source": [
    "dicc_segmento_prueba"
   ]
  },
  {
   "cell_type": "markdown",
   "id": "a240b508-61f7-44f8-98bb-27b8f5c63aef",
   "metadata": {},
   "source": [
    "## Prueba con un solo segmento"
   ]
  },
  {
   "cell_type": "code",
   "execution_count": 169,
   "id": "3257cb6f-ece4-43b3-8c47-8906da3696fe",
   "metadata": {
    "tags": []
   },
   "outputs": [],
   "source": [
    "#Por el segmento 1412000011131900003 solo pasan la ruta 70 y 71"
   ]
  },
  {
   "cell_type": "code",
   "execution_count": 185,
   "id": "b178f96c-24e7-4597-aedf-8f724c74354d",
   "metadata": {
    "tags": []
   },
   "outputs": [],
   "source": [
    "gdf_segmento_prueba = hubdistance[hubdistance.HubName == '1412000011131900003']\n",
    "\n",
    "dicc_segmento_prueba = {}\n",
    "listavacia = []\n",
    "\n",
    "for index,row in gdf_segmento_prueba.iterrows():\n",
    "    segmento_calle = row.HubName #Es un str   \n",
    "    ruta = row.idruta #Es un int\n",
    "    \n",
    "    if segmento_calle not in dicc_segmento_prueba:\n",
    "        dicc_segmento_prueba[segmento_calle] = listavacia\n",
    "    \n",
    "    if ruta not in dicc_segmento_prueba[segmento_calle]:\n",
    "        dicc_segmento_prueba[segmento_calle].append(ruta)"
   ]
  },
  {
   "cell_type": "code",
   "execution_count": 186,
   "id": "aad5a235-c9d2-49ef-9813-c9f9505a44e6",
   "metadata": {
    "tags": []
   },
   "outputs": [
    {
     "data": {
      "text/plain": [
       "{'1412000011131900003': [70, 71]}"
      ]
     },
     "execution_count": 186,
     "metadata": {},
     "output_type": "execute_result"
    }
   ],
   "source": [
    "dicc_segmento_prueba"
   ]
  },
  {
   "cell_type": "markdown",
   "id": "2a74555c-c0f4-41d9-9a4f-8fae8520f21b",
   "metadata": {},
   "source": [
    "## Prueba iterando en los segmentos"
   ]
  },
  {
   "cell_type": "code",
   "execution_count": 190,
   "id": "fb583799-4c36-4514-a586-487cad3b8fe8",
   "metadata": {
    "tags": []
   },
   "outputs": [],
   "source": [
    "segmentos = list(hubdistance.HubName.unique())\n",
    "\n",
    "dicc_segmentos_rutas = {}\n",
    "listavacia = []\n",
    "\n",
    "for segmento in segmentos:\n",
    "    gdf_segmento_actual = hubdistance[hubdistance.HubName == segmento]\n",
    "    \n",
    "    for index,row in gdf_segmento_actual.iterrows():\n",
    "        segmento_calle = row.HubName #Es un str\n",
    "        ruta = row.idruta #Es un int\n",
    "\n",
    "        if segmento_calle not in dicc_segmentos_rutas:\n",
    "            dicc_segmentos_rutas[segmento_calle] = listavacia\n",
    "\n",
    "        if ruta not in dicc_segmentos_rutas[segmento_calle]:\n",
    "            dicc_segmentos_rutas[segmento_calle].append(ruta)    "
   ]
  },
  {
   "cell_type": "code",
   "execution_count": 191,
   "id": "70b93a31-8f47-4219-949e-aca0163f9472",
   "metadata": {
    "tags": []
   },
   "outputs": [
    {
     "data": {
      "text/plain": [
       "[34,\n",
       " 36,\n",
       " 42,\n",
       " 43,\n",
       " 44,\n",
       " 45,\n",
       " 46,\n",
       " 47,\n",
       " 72,\n",
       " 73,\n",
       " 167,\n",
       " 168,\n",
       " 173,\n",
       " 174,\n",
       " 39,\n",
       " 40,\n",
       " 103,\n",
       " 104,\n",
       " 107,\n",
       " 108,\n",
       " 109,\n",
       " 110,\n",
       " 149,\n",
       " 150,\n",
       " 70,\n",
       " 71]"
      ]
     },
     "execution_count": 191,
     "metadata": {},
     "output_type": "execute_result"
    }
   ],
   "source": [
    "dicc_segmentos_rutas['1412000011131900003']"
   ]
  },
  {
   "cell_type": "markdown",
   "id": "42b5b33f-7281-4af9-8e8c-a446ddeeea1d",
   "metadata": {},
   "source": [
    "## Resto del código"
   ]
  },
  {
   "cell_type": "code",
   "execution_count": 161,
   "id": "7f4d2a41-4572-4365-b788-ba69512c4526",
   "metadata": {
    "tags": []
   },
   "outputs": [],
   "source": [
    "rutas = list(hubdistance.idruta.unique())\n",
    "\n",
    "dicc_segmentos_rutas = {}\n",
    "listavacia = []\n",
    "\n",
    "for ruta in rutas:\n",
    "    gdf_ruta_actual = hubdistance[hubdistance.idruta == ruta]\n",
    "    \n",
    "    for index,row in gdf_ruta_actual.iterrows():\n",
    "        segmento_calle = row.HubName\n",
    "        \n",
    "        #Si en esta ruta no había salido este segmento, añadirlo\n",
    "        if segmento_calle not in dicc_segmentos_rutas:\n",
    "            dicc_segmentos_rutas[segmento_calle] = listavacia\n",
    "        \n",
    "        #Agregar la ruta a ese segmento, si no estaba antes\n",
    "        if ruta not in dicc_segmentos_rutas[segmento_calle]:\n",
    "            dicc_segmentos_rutas[segmento_calle].append(ruta)"
   ]
  },
  {
   "cell_type": "code",
   "execution_count": 164,
   "id": "1c11561d-37ce-4065-b1e4-6d3710a0b6d2",
   "metadata": {
    "tags": []
   },
   "outputs": [
    {
     "name": "stdout",
     "output_type": "stream",
     "text": [
      "138\n"
     ]
    }
   ],
   "source": [
    "print(len(segmentos_rutas))"
   ]
  },
  {
   "cell_type": "code",
   "execution_count": null,
   "id": "33dd121e-c52b-496d-a4a6-00914f234a74",
   "metadata": {},
   "outputs": [],
   "source": [
    "for segmento in segmentos_rutas:\n",
    "    print(len(segmento))"
   ]
  },
  {
   "cell_type": "markdown",
   "id": "2271b5ce-b326-49ef-a0f2-04ce16f1bd4c",
   "metadata": {},
   "source": [
    "## Iteración fallida"
   ]
  },
  {
   "cell_type": "code",
   "execution_count": 69,
   "id": "d47961bb-4f63-4c2d-b7f2-631d18a8c645",
   "metadata": {
    "tags": []
   },
   "outputs": [
    {
     "data": {
      "text/html": [
       "<div>\n",
       "<style scoped>\n",
       "    .dataframe tbody tr th:only-of-type {\n",
       "        vertical-align: middle;\n",
       "    }\n",
       "\n",
       "    .dataframe tbody tr th {\n",
       "        vertical-align: top;\n",
       "    }\n",
       "\n",
       "    .dataframe thead th {\n",
       "        text-align: right;\n",
       "    }\n",
       "</style>\n",
       "<table border=\"1\" class=\"dataframe\">\n",
       "  <thead>\n",
       "    <tr style=\"text-align: right;\">\n",
       "      <th></th>\n",
       "      <th>fid</th>\n",
       "      <th>cat</th>\n",
       "      <th>Tipo_de_se</th>\n",
       "      <th>Clasificac</th>\n",
       "      <th>Clasifica0</th>\n",
       "      <th>idruta</th>\n",
       "      <th>fid_2</th>\n",
       "      <th>cat_2</th>\n",
       "      <th>Tipo_de_se_2</th>\n",
       "      <th>Clasificac_2</th>\n",
       "      <th>Clasifica0_2</th>\n",
       "      <th>idruta_2</th>\n",
       "      <th>HubName</th>\n",
       "      <th>HubDist</th>\n",
       "      <th>geometry</th>\n",
       "    </tr>\n",
       "  </thead>\n",
       "  <tbody>\n",
       "    <tr>\n",
       "      <th>0</th>\n",
       "      <td>1</td>\n",
       "      <td>1</td>\n",
       "      <td>Complementaria</td>\n",
       "      <td>Rutas complementarias y otros servicios</td>\n",
       "      <td>Operando</td>\n",
       "      <td>34</td>\n",
       "      <td>2</td>\n",
       "      <td>1</td>\n",
       "      <td>Complementaria</td>\n",
       "      <td>Rutas complementarias y otros servicios</td>\n",
       "      <td>Operando</td>\n",
       "      <td>34</td>\n",
       "      <td>1412000010358500034</td>\n",
       "      <td>2.604311</td>\n",
       "      <td>POINT (665756.141 2287120.589)</td>\n",
       "    </tr>\n",
       "    <tr>\n",
       "      <th>1</th>\n",
       "      <td>1</td>\n",
       "      <td>1</td>\n",
       "      <td>Complementaria</td>\n",
       "      <td>Rutas complementarias y otros servicios</td>\n",
       "      <td>Operando</td>\n",
       "      <td>34</td>\n",
       "      <td>165</td>\n",
       "      <td>2</td>\n",
       "      <td>Complementaria</td>\n",
       "      <td>Rutas complementarias y otros servicios</td>\n",
       "      <td>Operando</td>\n",
       "      <td>36</td>\n",
       "      <td>1412000010358500034</td>\n",
       "      <td>2.604311</td>\n",
       "      <td>POINT (665756.141 2287120.589)</td>\n",
       "    </tr>\n",
       "  </tbody>\n",
       "</table>\n",
       "</div>"
      ],
      "text/plain": [
       "   fid  cat      Tipo_de_se                               Clasificac  \\\n",
       "0    1    1  Complementaria  Rutas complementarias y otros servicios   \n",
       "1    1    1  Complementaria  Rutas complementarias y otros servicios   \n",
       "\n",
       "  Clasifica0  idruta  fid_2  cat_2    Tipo_de_se_2  \\\n",
       "0   Operando      34      2      1  Complementaria   \n",
       "1   Operando      34    165      2  Complementaria   \n",
       "\n",
       "                              Clasificac_2 Clasifica0_2  idruta_2  \\\n",
       "0  Rutas complementarias y otros servicios     Operando        34   \n",
       "1  Rutas complementarias y otros servicios     Operando        36   \n",
       "\n",
       "               HubName   HubDist                        geometry  \n",
       "0  1412000010358500034  2.604311  POINT (665756.141 2287120.589)  \n",
       "1  1412000010358500034  2.604311  POINT (665756.141 2287120.589)  "
      ]
     },
     "execution_count": 69,
     "metadata": {},
     "output_type": "execute_result"
    }
   ],
   "source": [
    "hubdistance.head(2)"
   ]
  },
  {
   "cell_type": "code",
   "execution_count": 77,
   "id": "4299b4d7-5676-4206-b754-e1378aba17b3",
   "metadata": {
    "tags": []
   },
   "outputs": [],
   "source": [
    "## Diccionario de segmentos que tienen rutas y las rutas que tienen\n",
    "dicc_segmentos_rutas = {}\n",
    "listavacia = []\n",
    "\n",
    "#Crear un diccionario con los segmentos de calle y una lista de rutas por segmento\n",
    "for index,row in hubdistance.iterrows():    \n",
    "    segmento_calle = row[12] #Es un str   \n",
    "    ruta = row[5] #Es un int\n",
    "    \n",
    "    #Si es la primera vez que encuentra este segmento, agregarlo con una lista vacía\n",
    "    if segmento_calle not in dicc_segmentos_rutas:\n",
    "        dicc_segmentos_rutas[segmento_calle] = listavacia\n",
    "\n",
    "    #Para esta row en la que iteramos (segmento de calle y ruta), si es la primera vez que encuentra la ruta en este segmento, agregarla a esa lista:\n",
    "    if ruta not in dicc_segmentos_rutas[segmento_calle]:\n",
    "        dicc_segmentos_rutas[segmento_calle].append(ruta)"
   ]
  },
  {
   "cell_type": "code",
   "execution_count": 79,
   "id": "7c5e96ba-19fe-4a4a-9203-8f1070ac917e",
   "metadata": {
    "tags": []
   },
   "outputs": [],
   "source": [
    "#dicc_segmentos_rutas"
   ]
  },
  {
   "cell_type": "code",
   "execution_count": 80,
   "id": "95ac5638-c735-4daa-95d1-f7afe812b1fe",
   "metadata": {
    "tags": []
   },
   "outputs": [
    {
     "name": "stdout",
     "output_type": "stream",
     "text": [
      "19\n",
      "19\n",
      "19\n",
      "19\n",
      "19\n",
      "19\n",
      "19\n",
      "19\n",
      "19\n",
      "19\n",
      "19\n",
      "19\n",
      "19\n",
      "19\n",
      "19\n",
      "19\n",
      "19\n",
      "19\n",
      "19\n",
      "19\n",
      "19\n",
      "19\n",
      "19\n",
      "19\n",
      "19\n",
      "19\n",
      "19\n",
      "19\n",
      "19\n",
      "19\n",
      "19\n",
      "19\n",
      "19\n",
      "19\n",
      "19\n",
      "19\n",
      "19\n",
      "19\n",
      "19\n",
      "19\n",
      "19\n",
      "19\n",
      "19\n",
      "19\n",
      "19\n",
      "19\n",
      "19\n",
      "19\n",
      "19\n",
      "19\n",
      "19\n",
      "19\n",
      "19\n",
      "19\n",
      "19\n",
      "19\n",
      "19\n",
      "19\n",
      "19\n",
      "19\n",
      "19\n",
      "19\n",
      "19\n",
      "19\n",
      "19\n",
      "19\n",
      "19\n",
      "19\n",
      "19\n",
      "19\n",
      "19\n",
      "19\n",
      "19\n",
      "19\n",
      "19\n",
      "19\n",
      "19\n",
      "19\n",
      "19\n",
      "19\n",
      "19\n",
      "19\n",
      "19\n",
      "19\n",
      "19\n",
      "19\n",
      "19\n",
      "19\n",
      "19\n",
      "19\n",
      "19\n",
      "19\n",
      "19\n",
      "19\n",
      "19\n",
      "19\n",
      "19\n",
      "19\n",
      "19\n",
      "19\n",
      "19\n",
      "19\n",
      "19\n",
      "19\n",
      "19\n",
      "19\n",
      "19\n",
      "19\n",
      "19\n",
      "19\n",
      "19\n",
      "19\n",
      "19\n",
      "19\n",
      "19\n",
      "19\n",
      "19\n",
      "19\n",
      "19\n",
      "19\n",
      "19\n",
      "19\n",
      "19\n",
      "19\n",
      "19\n",
      "19\n",
      "19\n",
      "19\n",
      "19\n",
      "19\n",
      "19\n",
      "19\n",
      "19\n",
      "19\n",
      "19\n",
      "19\n",
      "19\n",
      "19\n"
     ]
    }
   ],
   "source": [
    "for segmento in dicc_segmentos_rutas:\n",
    "    print(len(segmento))"
   ]
  },
  {
   "cell_type": "code",
   "execution_count": null,
   "id": "0af5f972-7a16-484e-bbfa-2db8279d85f4",
   "metadata": {},
   "outputs": [],
   "source": []
  }
 ],
 "metadata": {
  "kernelspec": {
   "display_name": "Python 3 (ipykernel)",
   "language": "python",
   "name": "python3"
  },
  "language_info": {
   "codemirror_mode": {
    "name": "ipython",
    "version": 3
   },
   "file_extension": ".py",
   "mimetype": "text/x-python",
   "name": "python",
   "nbconvert_exporter": "python",
   "pygments_lexer": "ipython3",
   "version": "3.10.5"
  }
 },
 "nbformat": 4,
 "nbformat_minor": 5
}
