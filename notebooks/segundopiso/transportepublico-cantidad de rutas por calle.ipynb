{
 "cells": [
  {
   "cell_type": "code",
   "execution_count": 1,
   "id": "8e4e47c4-357c-4adc-bd1b-ad56bfd434b1",
   "metadata": {
    "tags": []
   },
   "outputs": [
    {
     "name": "stderr",
     "output_type": "stream",
     "text": [
      "/usr/local/python/lib/python3.10/site-packages/osmnx/utils.py:192: UserWarning: The `utils.config` function is deprecated and will be removed in a future release. Instead, use the `settings` module directly to configure a global setting's value. For example, `ox.settings.log_console=True`.\n",
      "  warnings.warn(\n"
     ]
    }
   ],
   "source": [
    "import os\n",
    "import sys\n",
    "\n",
    "import pandas as pd\n",
    "import geopandas as gpd\n",
    "import osmnx as ox\n",
    "import numpy as np\n",
    "\n",
    "import matplotlib.pyplot as plt\n",
    "\n",
    "import warnings\n",
    "warnings.simplefilter(action='ignore', category=FutureWarning)\n",
    "\n",
    "module_path = os.path.abspath(os.path.join('../../'))\n",
    "if module_path not in sys.path:\n",
    "    sys.path.append(module_path)\n",
    "    import aup"
   ]
  },
  {
   "cell_type": "markdown",
   "id": "f14cf1f7-b465-46f8-927a-81e7dc1cb672",
   "metadata": {},
   "source": [
    "## Download data"
   ]
  },
  {
   "cell_type": "code",
   "execution_count": 2,
   "id": "1890e2e8-79ae-484e-bf1d-c434817ec7a1",
   "metadata": {
    "tags": []
   },
   "outputs": [],
   "source": [
    "#\"hubdistance_rutas_ejesviales\" se hizo con puntos a cada 20 metros --> [Funciona bien con un mincount de 9 puntos, pero necesita algo de limpieza después en GIS]\n",
    "#\"hubdistance_rutas20m_ejesviales10m\" se hizo con rutas a cada 20 metros y ejesviales a cada 10 metros"
   ]
  },
  {
   "cell_type": "code",
   "execution_count": 3,
   "id": "546f6958-dfda-4f9d-8edb-57a7ebe7ef20",
   "metadata": {
    "tags": []
   },
   "outputs": [],
   "source": [
    "ejesviales = gpd.read_file('../../data/external/temporal_todocker/marcogeo_ejesviales_2km.gpkg')\n",
    "hubdistance = gpd.read_file('../../data/external/temporal_todocker/hubdistance_rutas10m_ejesviales10m.gpkg')"
   ]
  },
  {
   "cell_type": "code",
   "execution_count": 4,
   "id": "7050945d-ac0d-41e6-aabb-6a10146c8427",
   "metadata": {
    "tags": []
   },
   "outputs": [
    {
     "name": "stdout",
     "output_type": "stream",
     "text": [
      "(19887, 14)\n"
     ]
    },
    {
     "data": {
      "text/html": [
       "<div>\n",
       "<style scoped>\n",
       "    .dataframe tbody tr th:only-of-type {\n",
       "        vertical-align: middle;\n",
       "    }\n",
       "\n",
       "    .dataframe tbody tr th {\n",
       "        vertical-align: top;\n",
       "    }\n",
       "\n",
       "    .dataframe thead th {\n",
       "        text-align: right;\n",
       "    }\n",
       "</style>\n",
       "<table border=\"1\" class=\"dataframe\">\n",
       "  <thead>\n",
       "    <tr style=\"text-align: right;\">\n",
       "      <th></th>\n",
       "      <th>CVEGEO</th>\n",
       "      <th>CVE_ENT</th>\n",
       "      <th>CVE_MUN</th>\n",
       "      <th>CVE_LOC</th>\n",
       "      <th>CVEVIAL</th>\n",
       "      <th>CVESEG</th>\n",
       "      <th>NOMVIAL</th>\n",
       "      <th>TIPOVIAL</th>\n",
       "      <th>SENTIDO</th>\n",
       "      <th>TIPOSEN</th>\n",
       "      <th>AMBITO</th>\n",
       "      <th>CVEGEOSEG</th>\n",
       "      <th>rutas_transporte</th>\n",
       "      <th>geometry</th>\n",
       "    </tr>\n",
       "  </thead>\n",
       "  <tbody>\n",
       "    <tr>\n",
       "      <th>0</th>\n",
       "      <td>140390001</td>\n",
       "      <td>14</td>\n",
       "      <td>039</td>\n",
       "      <td>0001</td>\n",
       "      <td>03975</td>\n",
       "      <td>00007</td>\n",
       "      <td>Patria</td>\n",
       "      <td>Avenida</td>\n",
       "      <td>Dos sentidos</td>\n",
       "      <td>2</td>\n",
       "      <td>Urbana</td>\n",
       "      <td>1403900010397500007</td>\n",
       "      <td>NaN</td>\n",
       "      <td>MULTILINESTRING ((668243.519 2290955.957, 6682...</td>\n",
       "    </tr>\n",
       "  </tbody>\n",
       "</table>\n",
       "</div>"
      ],
      "text/plain": [
       "      CVEGEO CVE_ENT CVE_MUN CVE_LOC CVEVIAL CVESEG NOMVIAL TIPOVIAL  \\\n",
       "0  140390001      14     039    0001   03975  00007  Patria  Avenida   \n",
       "\n",
       "        SENTIDO  TIPOSEN  AMBITO            CVEGEOSEG  rutas_transporte  \\\n",
       "0  Dos sentidos        2  Urbana  1403900010397500007               NaN   \n",
       "\n",
       "                                            geometry  \n",
       "0  MULTILINESTRING ((668243.519 2290955.957, 6682...  "
      ]
     },
     "execution_count": 4,
     "metadata": {},
     "output_type": "execute_result"
    }
   ],
   "source": [
    "print(ejesviales.shape)\n",
    "ejesviales.head(1)"
   ]
  },
  {
   "cell_type": "code",
   "execution_count": 5,
   "id": "085d85db-8978-42dc-9fc8-982165bc9623",
   "metadata": {
    "tags": []
   },
   "outputs": [
    {
     "name": "stdout",
     "output_type": "stream",
     "text": [
      "(1381164, 14)\n"
     ]
    },
    {
     "data": {
      "text/html": [
       "<div>\n",
       "<style scoped>\n",
       "    .dataframe tbody tr th:only-of-type {\n",
       "        vertical-align: middle;\n",
       "    }\n",
       "\n",
       "    .dataframe tbody tr th {\n",
       "        vertical-align: top;\n",
       "    }\n",
       "\n",
       "    .dataframe thead th {\n",
       "        text-align: right;\n",
       "    }\n",
       "</style>\n",
       "<table border=\"1\" class=\"dataframe\">\n",
       "  <thead>\n",
       "    <tr style=\"text-align: right;\">\n",
       "      <th></th>\n",
       "      <th>cat</th>\n",
       "      <th>Tipo_de_se</th>\n",
       "      <th>Clasificac</th>\n",
       "      <th>Clasifica0</th>\n",
       "      <th>idruta</th>\n",
       "      <th>fid_2</th>\n",
       "      <th>cat_2</th>\n",
       "      <th>Tipo_de_se_2</th>\n",
       "      <th>Clasificac_2</th>\n",
       "      <th>Clasifica0_2</th>\n",
       "      <th>idruta_2</th>\n",
       "      <th>HubName</th>\n",
       "      <th>HubDist</th>\n",
       "      <th>geometry</th>\n",
       "    </tr>\n",
       "  </thead>\n",
       "  <tbody>\n",
       "    <tr>\n",
       "      <th>0</th>\n",
       "      <td>1</td>\n",
       "      <td>Complementaria</td>\n",
       "      <td>Rutas complementarias y otros servicios</td>\n",
       "      <td>Operando</td>\n",
       "      <td>1</td>\n",
       "      <td>2</td>\n",
       "      <td>1</td>\n",
       "      <td>Complementaria</td>\n",
       "      <td>Rutas complementarias y otros servicios</td>\n",
       "      <td>Operando</td>\n",
       "      <td>1</td>\n",
       "      <td>1403900010366300013</td>\n",
       "      <td>1.883139</td>\n",
       "      <td>POINT (671655.896 2288719.052)</td>\n",
       "    </tr>\n",
       "    <tr>\n",
       "      <th>1</th>\n",
       "      <td>1</td>\n",
       "      <td>Complementaria</td>\n",
       "      <td>Rutas complementarias y otros servicios</td>\n",
       "      <td>Operando</td>\n",
       "      <td>1</td>\n",
       "      <td>1155</td>\n",
       "      <td>2</td>\n",
       "      <td>Complementaria</td>\n",
       "      <td>Rutas complementarias y otros servicios</td>\n",
       "      <td>Operando</td>\n",
       "      <td>2</td>\n",
       "      <td>1403900010366300013</td>\n",
       "      <td>11.513562</td>\n",
       "      <td>POINT (671655.450 2288709.068)</td>\n",
       "    </tr>\n",
       "  </tbody>\n",
       "</table>\n",
       "</div>"
      ],
      "text/plain": [
       "   cat      Tipo_de_se                               Clasificac Clasifica0  \\\n",
       "0    1  Complementaria  Rutas complementarias y otros servicios   Operando   \n",
       "1    1  Complementaria  Rutas complementarias y otros servicios   Operando   \n",
       "\n",
       "   idruta  fid_2  cat_2    Tipo_de_se_2  \\\n",
       "0       1      2      1  Complementaria   \n",
       "1       1   1155      2  Complementaria   \n",
       "\n",
       "                              Clasificac_2 Clasifica0_2  idruta_2  \\\n",
       "0  Rutas complementarias y otros servicios     Operando         1   \n",
       "1  Rutas complementarias y otros servicios     Operando         2   \n",
       "\n",
       "               HubName    HubDist                        geometry  \n",
       "0  1403900010366300013   1.883139  POINT (671655.896 2288719.052)  \n",
       "1  1403900010366300013  11.513562  POINT (671655.450 2288709.068)  "
      ]
     },
     "execution_count": 5,
     "metadata": {},
     "output_type": "execute_result"
    }
   ],
   "source": [
    "print(hubdistance.shape)\n",
    "hubdistance.head(2)"
   ]
  },
  {
   "cell_type": "code",
   "execution_count": 6,
   "id": "31621357-4591-43bf-81ee-3d9636e4f6e4",
   "metadata": {
    "tags": []
   },
   "outputs": [
    {
     "data": {
      "text/html": [
       "<div>\n",
       "<style scoped>\n",
       "    .dataframe tbody tr th:only-of-type {\n",
       "        vertical-align: middle;\n",
       "    }\n",
       "\n",
       "    .dataframe tbody tr th {\n",
       "        vertical-align: top;\n",
       "    }\n",
       "\n",
       "    .dataframe thead th {\n",
       "        text-align: right;\n",
       "    }\n",
       "</style>\n",
       "<table border=\"1\" class=\"dataframe\">\n",
       "  <thead>\n",
       "    <tr style=\"text-align: right;\">\n",
       "      <th></th>\n",
       "      <th>idruta</th>\n",
       "      <th>segmentocalle</th>\n",
       "      <th>geometry</th>\n",
       "    </tr>\n",
       "  </thead>\n",
       "  <tbody>\n",
       "    <tr>\n",
       "      <th>0</th>\n",
       "      <td>1</td>\n",
       "      <td>1403900010366300013</td>\n",
       "      <td>POINT (671655.896 2288719.052)</td>\n",
       "    </tr>\n",
       "  </tbody>\n",
       "</table>\n",
       "</div>"
      ],
      "text/plain": [
       "   idruta        segmentocalle                        geometry\n",
       "0       1  1403900010366300013  POINT (671655.896 2288719.052)"
      ]
     },
     "execution_count": 6,
     "metadata": {},
     "output_type": "execute_result"
    }
   ],
   "source": [
    "columns_tokeep = ['idruta','HubName','geometry']\n",
    "hubdistance_f = hubdistance[columns_tokeep]\n",
    "hubdistance_f = hubdistance_f.rename(columns={'HubName':'segmentocalle'})\n",
    "hubdistance_f.head(1)"
   ]
  },
  {
   "cell_type": "code",
   "execution_count": 7,
   "id": "ebf91c40-0148-4036-b2b1-a6a5f5a63e20",
   "metadata": {
    "tags": []
   },
   "outputs": [
    {
     "name": "stdout",
     "output_type": "stream",
     "text": [
      "176\n",
      "3735\n"
     ]
    }
   ],
   "source": [
    "rutas = list(hubdistance_f.idruta.unique())\n",
    "print(len(rutas))\n",
    "\n",
    "segmentos = list(hubdistance_f.segmentocalle.unique())\n",
    "print(len(segmentos))"
   ]
  },
  {
   "cell_type": "markdown",
   "id": "2271b5ce-b326-49ef-a0f2-04ce16f1bd4c",
   "metadata": {
    "jp-MarkdownHeadingCollapsed": true,
    "tags": []
   },
   "source": [
    "## Iteración (Método anterior, no permite ajustar el número de veces que se debe encontrar una ruta en un segmento para considerar que pasa por ahí y no solo es una intersección)"
   ]
  },
  {
   "cell_type": "code",
   "execution_count": 89,
   "id": "d47961bb-4f63-4c2d-b7f2-631d18a8c645",
   "metadata": {
    "tags": []
   },
   "outputs": [],
   "source": [
    "#hubdistance_f.head(2)"
   ]
  },
  {
   "cell_type": "code",
   "execution_count": 90,
   "id": "4299b4d7-5676-4206-b754-e1378aba17b3",
   "metadata": {
    "tags": []
   },
   "outputs": [],
   "source": [
    "# ---------- Diccionario de segmentos que tienen rutas y las rutas que tienen\n",
    "#dicc_segmentos_rutas = {}\n",
    "#listavacia = []\n",
    "\n",
    "# ---------- Crear un diccionario con los segmentos de calle y una lista de rutas por segmento\n",
    "#for index,row in hubdistance_f.iterrows():    \n",
    "#    segmento_calle = row['segmentocalle'] #Es un str   \n",
    "#    ruta = row['idruta'] #Es un int\n",
    "    \n",
    "    # ---------- Si es la primera vez que encuentra este segmento, agregarlo con una lista vacía\n",
    "#    if segmento_calle not in dicc_segmentos_rutas:\n",
    "#        dicc_segmentos_rutas[segmento_calle] = listavacia.copy()\n",
    "\n",
    "    # ---------- Para esta row en la que iteramos (segmento de calle y ruta), si es la primera vez que encuentra la ruta en este segmento, agregarla a esa lista:\n",
    "#    if ruta not in dicc_segmentos_rutas[segmento_calle]:\n",
    "#        dicc_segmentos_rutas[segmento_calle].append(ruta)"
   ]
  },
  {
   "cell_type": "markdown",
   "id": "51375608-c3a8-4a55-9236-c646fecce8c4",
   "metadata": {
    "tags": []
   },
   "source": [
    "## Data processing 01 - Diccionario con segmentos y rutas que pasan por cada segmento"
   ]
  },
  {
   "cell_type": "code",
   "execution_count": 8,
   "id": "de390df7-3305-41db-a790-4c69d0caeeda",
   "metadata": {
    "tags": []
   },
   "outputs": [],
   "source": [
    "#Rutas en el gdf\n",
    "rutas = list(hubdistance_f.idruta.unique())"
   ]
  },
  {
   "cell_type": "code",
   "execution_count": 9,
   "id": "04200497-dc56-473b-b8ff-b92f8f667fe6",
   "metadata": {
    "tags": []
   },
   "outputs": [],
   "source": [
    "#---------- Insumos base de la iteración ----------\n",
    "dicc_segmentos_rutas = {} #Guarda los segmentos de calle y las rutas que pasan por cada segmento de calle\n",
    "listavacia = [] #Lista vacía usada cuando se encuentra un nuevo segmento de calle\n",
    "\n",
    "#---------- Para decidir si es una intersección o una calle muy pequeña ----------\n",
    "\n",
    "# Con rutas @10m sin borrar duplicados y segmentos @10m sin duplicados (Iteración actual): \n",
    "# Cuando una ruta pasa por un segmento de calle corto (Cuadra pequeña, aprox 55 metros), se encuentran aprox. 10 puntos, pero en calles más pequeñas (50 mts) hay aprox. 8 puntos.\n",
    "# Cuando una ruta pasa por una intersección \n",
    "\n",
    "mincount = 9 #Número mínimo de ocasiones en las que se debe encontrar una ruta cerca de un segmento de calle para considerar que la ruta pasa por ahí y no solo que la encontró porque es una intersección\n",
    "    \n",
    "#---------- Iterar ruta por ruta ----------\n",
    "for ruta in rutas:\n",
    "    gdf_ruta = hubdistance_f[hubdistance_f.idruta == ruta]\n",
    "\n",
    "    #---------- Veces que la ruta pasa por un segmento de calle ----------\n",
    "    segs_deruta = gdf_ruta.groupby('segmentocalle').count()\n",
    "    #---------- Formato ----------\n",
    "    columns_tokeep = ['idruta']\n",
    "    segs_deruta = segs_deruta[columns_tokeep]\n",
    "    segs_deruta = segs_deruta.reset_index()\n",
    "    segs_deruta = segs_deruta.rename(columns={'idruta':'count'})\n",
    "\n",
    "    #---------- Para el count de segmentos esa ruta ----------\n",
    "    for row_id,row_series in segs_deruta.iterrows():\n",
    "        segmento_calle = row_series[0]\n",
    "        count = row_series[1]\n",
    "    \n",
    "        #---------- Si se confirma que la ruta pasa por ahí, agregar al diccionario el segmento de calle y la ruta ----------\n",
    "        if count > (mincount-1): \n",
    "            #---------- Si no se había encontrado ese segmento de calle, meterlo al diccionario por primera vez con una lista vacia de rutas ----------\n",
    "            if segmento_calle not in dicc_segmentos_rutas:\n",
    "                dicc_segmentos_rutas[segmento_calle] = listavacia.copy()\n",
    "            \n",
    "            #---------- Si la ruta no está ya asignada a ese segmento, meterla a la lista ----------\n",
    "            if ruta not in dicc_segmentos_rutas[segmento_calle]:\n",
    "                dicc_segmentos_rutas[segmento_calle].append(ruta)"
   ]
  },
  {
   "cell_type": "code",
   "execution_count": 16,
   "id": "220dc772-cea7-44ca-bac2-18e096095b45",
   "metadata": {
    "tags": []
   },
   "outputs": [
    {
     "data": {
      "text/plain": [
       "[152]"
      ]
     },
     "execution_count": 16,
     "metadata": {},
     "output_type": "execute_result"
    }
   ],
   "source": [
    "#Ejemplo:\n",
    "dicc_segmentos_rutas['1403900010341300007']"
   ]
  },
  {
   "cell_type": "markdown",
   "id": "373cdc18-4dc6-4ac0-a917-224ec8a299c4",
   "metadata": {
    "tags": []
   },
   "source": [
    "## Data processing 02 - Asignar numero de rutas a los segmentos de ejesviales"
   ]
  },
  {
   "cell_type": "code",
   "execution_count": 11,
   "id": "ef327a9e-87e8-4eb1-bbdf-d4a97791bb4c",
   "metadata": {
    "tags": []
   },
   "outputs": [],
   "source": [
    "# Crear un gdf de ejes viales con rutas_count\n",
    "ejesviales_rutas = ejesviales.copy()\n",
    "ejesviales_rutas['rutas_count'] = 0"
   ]
  },
  {
   "cell_type": "code",
   "execution_count": 12,
   "id": "7309b0a3-7e05-40cd-a9ad-46f3a9442dd3",
   "metadata": {
    "tags": []
   },
   "outputs": [
    {
     "data": {
      "text/html": [
       "<div>\n",
       "<style scoped>\n",
       "    .dataframe tbody tr th:only-of-type {\n",
       "        vertical-align: middle;\n",
       "    }\n",
       "\n",
       "    .dataframe tbody tr th {\n",
       "        vertical-align: top;\n",
       "    }\n",
       "\n",
       "    .dataframe thead th {\n",
       "        text-align: right;\n",
       "    }\n",
       "</style>\n",
       "<table border=\"1\" class=\"dataframe\">\n",
       "  <thead>\n",
       "    <tr style=\"text-align: right;\">\n",
       "      <th></th>\n",
       "      <th>CVEGEO</th>\n",
       "      <th>CVE_ENT</th>\n",
       "      <th>CVE_MUN</th>\n",
       "      <th>CVE_LOC</th>\n",
       "      <th>CVEVIAL</th>\n",
       "      <th>CVESEG</th>\n",
       "      <th>NOMVIAL</th>\n",
       "      <th>TIPOVIAL</th>\n",
       "      <th>SENTIDO</th>\n",
       "      <th>TIPOSEN</th>\n",
       "      <th>AMBITO</th>\n",
       "      <th>CVEGEOSEG</th>\n",
       "      <th>rutas_transporte</th>\n",
       "      <th>geometry</th>\n",
       "      <th>rutas_count</th>\n",
       "    </tr>\n",
       "  </thead>\n",
       "  <tbody>\n",
       "    <tr>\n",
       "      <th>0</th>\n",
       "      <td>140390001</td>\n",
       "      <td>14</td>\n",
       "      <td>039</td>\n",
       "      <td>0001</td>\n",
       "      <td>03975</td>\n",
       "      <td>00007</td>\n",
       "      <td>Patria</td>\n",
       "      <td>Avenida</td>\n",
       "      <td>Dos sentidos</td>\n",
       "      <td>2</td>\n",
       "      <td>Urbana</td>\n",
       "      <td>1403900010397500007</td>\n",
       "      <td>NaN</td>\n",
       "      <td>MULTILINESTRING ((668243.519 2290955.957, 6682...</td>\n",
       "      <td>0</td>\n",
       "    </tr>\n",
       "  </tbody>\n",
       "</table>\n",
       "</div>"
      ],
      "text/plain": [
       "      CVEGEO CVE_ENT CVE_MUN CVE_LOC CVEVIAL CVESEG NOMVIAL TIPOVIAL  \\\n",
       "0  140390001      14     039    0001   03975  00007  Patria  Avenida   \n",
       "\n",
       "        SENTIDO  TIPOSEN  AMBITO            CVEGEOSEG  rutas_transporte  \\\n",
       "0  Dos sentidos        2  Urbana  1403900010397500007               NaN   \n",
       "\n",
       "                                            geometry  rutas_count  \n",
       "0  MULTILINESTRING ((668243.519 2290955.957, 6682...            0  "
      ]
     },
     "execution_count": 12,
     "metadata": {},
     "output_type": "execute_result"
    }
   ],
   "source": [
    "ejesviales_rutas.head(1)"
   ]
  },
  {
   "cell_type": "code",
   "execution_count": 13,
   "id": "98bf062f-8a08-43e5-8f10-26f3bdc86229",
   "metadata": {
    "tags": []
   },
   "outputs": [],
   "source": [
    "# Iterar en el diccionario creado para asignar el numero de rutas que pasan por cada segmento\n",
    "for segmento in dicc_segmentos_rutas:\n",
    "    idx = ejesviales_rutas['CVEGEOSEG'] == segmento\n",
    "    ejesviales_rutas.loc[idx,'rutas_count'] = len(dicc_segmentos_rutas[segmento])"
   ]
  },
  {
   "cell_type": "code",
   "execution_count": 14,
   "id": "1ec937f7-608e-41a8-886e-60c534ae295a",
   "metadata": {
    "tags": []
   },
   "outputs": [
    {
     "data": {
      "text/html": [
       "<div>\n",
       "<style scoped>\n",
       "    .dataframe tbody tr th:only-of-type {\n",
       "        vertical-align: middle;\n",
       "    }\n",
       "\n",
       "    .dataframe tbody tr th {\n",
       "        vertical-align: top;\n",
       "    }\n",
       "\n",
       "    .dataframe thead th {\n",
       "        text-align: right;\n",
       "    }\n",
       "</style>\n",
       "<table border=\"1\" class=\"dataframe\">\n",
       "  <thead>\n",
       "    <tr style=\"text-align: right;\">\n",
       "      <th></th>\n",
       "      <th>CVEGEO</th>\n",
       "      <th>CVE_ENT</th>\n",
       "      <th>CVE_MUN</th>\n",
       "      <th>CVE_LOC</th>\n",
       "      <th>CVEVIAL</th>\n",
       "      <th>CVESEG</th>\n",
       "      <th>NOMVIAL</th>\n",
       "      <th>TIPOVIAL</th>\n",
       "      <th>SENTIDO</th>\n",
       "      <th>TIPOSEN</th>\n",
       "      <th>AMBITO</th>\n",
       "      <th>CVEGEOSEG</th>\n",
       "      <th>rutas_transporte</th>\n",
       "      <th>geometry</th>\n",
       "      <th>rutas_count</th>\n",
       "    </tr>\n",
       "  </thead>\n",
       "  <tbody>\n",
       "    <tr>\n",
       "      <th>18461</th>\n",
       "      <td>141200001</td>\n",
       "      <td>14</td>\n",
       "      <td>120</td>\n",
       "      <td>0001</td>\n",
       "      <td>00302</td>\n",
       "      <td>00002</td>\n",
       "      <td>López Mateos Sur</td>\n",
       "      <td>Avenida</td>\n",
       "      <td>Dos sentidos</td>\n",
       "      <td>2</td>\n",
       "      <td>Urbana</td>\n",
       "      <td>1412000010030200002</td>\n",
       "      <td>NaN</td>\n",
       "      <td>MULTILINESTRING ((663924.928 2280302.722, 6639...</td>\n",
       "      <td>37</td>\n",
       "    </tr>\n",
       "    <tr>\n",
       "      <th>14446</th>\n",
       "      <td>141200001</td>\n",
       "      <td>14</td>\n",
       "      <td>120</td>\n",
       "      <td>0001</td>\n",
       "      <td>03541</td>\n",
       "      <td>00003</td>\n",
       "      <td>López Mateos Sur</td>\n",
       "      <td>Avenida</td>\n",
       "      <td>Dos sentidos</td>\n",
       "      <td>2</td>\n",
       "      <td>Urbana</td>\n",
       "      <td>1412000010354100003</td>\n",
       "      <td>NaN</td>\n",
       "      <td>MULTILINESTRING ((666046.183 2283779.958, 6660...</td>\n",
       "      <td>35</td>\n",
       "    </tr>\n",
       "  </tbody>\n",
       "</table>\n",
       "</div>"
      ],
      "text/plain": [
       "          CVEGEO CVE_ENT CVE_MUN CVE_LOC CVEVIAL CVESEG           NOMVIAL  \\\n",
       "18461  141200001      14     120    0001   00302  00002  López Mateos Sur   \n",
       "14446  141200001      14     120    0001   03541  00003  López Mateos Sur   \n",
       "\n",
       "      TIPOVIAL       SENTIDO  TIPOSEN  AMBITO            CVEGEOSEG  \\\n",
       "18461  Avenida  Dos sentidos        2  Urbana  1412000010030200002   \n",
       "14446  Avenida  Dos sentidos        2  Urbana  1412000010354100003   \n",
       "\n",
       "       rutas_transporte                                           geometry  \\\n",
       "18461               NaN  MULTILINESTRING ((663924.928 2280302.722, 6639...   \n",
       "14446               NaN  MULTILINESTRING ((666046.183 2283779.958, 6660...   \n",
       "\n",
       "       rutas_count  \n",
       "18461           37  \n",
       "14446           35  "
      ]
     },
     "execution_count": 14,
     "metadata": {},
     "output_type": "execute_result"
    }
   ],
   "source": [
    "# Revisión rápida: En esta df (prueba) máximo deberían haber 14 rutas en una calle\n",
    "ejesviales_rutas = ejesviales_rutas.sort_values(by = 'rutas_count', ascending = False)\n",
    "ejesviales_rutas.head(2)"
   ]
  },
  {
   "cell_type": "markdown",
   "id": "39fa0057-1022-4224-89c8-c51581a02f82",
   "metadata": {},
   "source": [
    "## Save to db"
   ]
  },
  {
   "cell_type": "code",
   "execution_count": 15,
   "id": "e2712640-102e-4723-99d0-41a7c4920791",
   "metadata": {
    "tags": []
   },
   "outputs": [],
   "source": [
    "ejesviales_rutas = ejesviales_rutas.to_crs(\"EPSG:4326\")\n",
    "aup.gdf_to_db_slow(ejesviales_rutas,\"rutastransporte_bystreet\", 'segundopiso', if_exists='replace')"
   ]
  },
  {
   "cell_type": "code",
   "execution_count": null,
   "id": "9f9e7928-5b03-49c1-ac76-e39d6f0f1093",
   "metadata": {},
   "outputs": [],
   "source": []
  }
 ],
 "metadata": {
  "kernelspec": {
   "display_name": "Python 3 (ipykernel)",
   "language": "python",
   "name": "python3"
  },
  "language_info": {
   "codemirror_mode": {
    "name": "ipython",
    "version": 3
   },
   "file_extension": ".py",
   "mimetype": "text/x-python",
   "name": "python",
   "nbconvert_exporter": "python",
   "pygments_lexer": "ipython3",
   "version": "3.10.5"
  }
 },
 "nbformat": 4,
 "nbformat_minor": 5
}
