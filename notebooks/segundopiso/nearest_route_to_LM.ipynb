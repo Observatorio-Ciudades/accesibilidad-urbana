{
 "cells": [
  {
   "cell_type": "markdown",
   "id": "8ac256c1-624c-47a0-9ea1-25dab5a400b8",
   "metadata": {},
   "source": [
    "Instrucciones\n",
    "\n",
    "Base: 16b-Hex-to-centrality de guggenheim\n",
    "\n",
    "1. Tomar nodos López Mateos (destino)\n",
    "2. Tomar ¿Graph?, nodes y edges de aup.graph_from_hippo de nodos a 2km (origen)\n",
    "3. aup.to_igraph con nodes y edges del buffer\n",
    "4. seeds dest y seeds org\n",
    "5. Nearest centrality to route\n",
    "6. routes_osmid list comprehension\n",
    "7. celda 59\n",
    "\n",
    "Necesitamos ig.Graph.get_shortests_paths"
   ]
  },
  {
   "cell_type": "code",
   "execution_count": 1,
   "id": "df403b31-bf6c-419b-83bf-29229a5dc367",
   "metadata": {},
   "outputs": [
    {
     "name": "stdout",
     "output_type": "stream",
     "text": [
      "2023-02-15 02:57:18 Configured OSMnx 1.1.1\n",
      "2023-02-15 02:57:18 HTTP response caching is on\n"
     ]
    }
   ],
   "source": [
    "import os\n",
    "import sys\n",
    "\n",
    "import pandas as pd\n",
    "import geopandas as gpd\n",
    "import osmnx as ox\n",
    "import numpy as np\n",
    "import igraph as ig\n",
    "\n",
    "import matplotlib.pyplot as plt\n",
    "import seaborn as sns\n",
    "import folium\n",
    "\n",
    "import warnings\n",
    "warnings.simplefilter(action='ignore', category=FutureWarning)\n",
    "\n",
    "module_path = os.path.abspath(os.path.join('../../'))\n",
    "if module_path not in sys.path:\n",
    "    sys.path.append(module_path)\n",
    "    import aup"
   ]
  },
  {
   "cell_type": "markdown",
   "id": "2b1f3ff9-04c9-45de-b984-549a29c77910",
   "metadata": {
    "jp-MarkdownHeadingCollapsed": true,
    "tags": []
   },
   "source": [
    "## Loading López Mateos and creating buffer"
   ]
  },
  {
   "cell_type": "code",
   "execution_count": 2,
   "id": "5f92f81a-e5c7-4c4c-be32-515de9639275",
   "metadata": {},
   "outputs": [
    {
     "data": {
      "text/plain": [
       "<AxesSubplot:>"
      ]
     },
     "execution_count": 2,
     "metadata": {},
     "output_type": "execute_result"
    },
    {
     "data": {
      "image/png": "[encoded data removed]",
      "text/plain": [
       "<Figure size 432x288 with 1 Axes>"
      ]
     },
     "metadata": {
      "needs_background": "light"
     },
     "output_type": "display_data"
    }
   ],
   "source": [
    "#Importing gdf with Avenue López Mateos as line \n",
    "lopezmateos_gdf = gpd.read_file(\"../../data/external/db_segundopiso_temp/lopezmateos.gpkg\")\n",
    "lopezmateos_gdf.plot()"
   ]
  },
  {
   "cell_type": "code",
   "execution_count": 3,
   "id": "4bcdfa57-640e-4644-9b1b-df41cc70aa4f",
   "metadata": {},
   "outputs": [
    {
     "data": {
      "text/plain": [
       "<AxesSubplot:>"
      ]
     },
     "execution_count": 3,
     "metadata": {},
     "output_type": "execute_result"
    },
    {
     "data": {
      "image/png": "[encoded data removed]",
      "text/plain": [
       "<Figure size 432x288 with 1 Axes>"
      ]
     },
     "metadata": {
      "needs_background": "light"
     },
     "output_type": "display_data"
    }
   ],
   "source": [
    "#Creating 2km buffer\n",
    "lopezmateos_gdf_temp = lopezmateos_gdf.to_crs(\"EPSG:6372\")\n",
    "buffer_2km = lopezmateos_gdf_temp.buffer(2000)\n",
    "buffer_2km.plot()"
   ]
  },
  {
   "cell_type": "markdown",
   "id": "debf9ae0-7928-4627-a63b-149d7df3b45e",
   "metadata": {
    "jp-MarkdownHeadingCollapsed": true,
    "tags": []
   },
   "source": [
    "## Getting nodes from López Mateos"
   ]
  },
  {
   "cell_type": "markdown",
   "id": "f4d09896-9257-4eb9-8045-0b966293b7ad",
   "metadata": {},
   "source": [
    "1. Getting edges and nodes from buffer_2km"
   ]
  },
  {
   "cell_type": "code",
   "execution_count": 4,
   "id": "98e9534d-6f45-45b6-8328-99317faa3b87",
   "metadata": {},
   "outputs": [
    {
     "name": "stdout",
     "output_type": "stream",
     "text": [
      "2023-02-15 02:58:29 Created graph from node/edge GeoDataFrames\n"
     ]
    }
   ],
   "source": [
    "#graph_from_hippo(gdf, schema, edges_folder='edges', nodes_folder='nodes')\n",
    "graph_2kmgdf, nodes_2kmgdf, edges_2kmgdf = aup.graph_from_hippo(buffer_2km, 'osmnx', edges_folder='edges_speed', nodes_folder='nodes')"
   ]
  },
  {
   "cell_type": "code",
   "execution_count": 5,
   "id": "2ce8ef6a-b338-4ae6-a72d-c2b078090833",
   "metadata": {},
   "outputs": [
    {
     "data": {
      "text/html": [
       "<div>\n",
       "<style scoped>\n",
       "    .dataframe tbody tr th:only-of-type {\n",
       "        vertical-align: middle;\n",
       "    }\n",
       "\n",
       "    .dataframe tbody tr th {\n",
       "        vertical-align: top;\n",
       "    }\n",
       "\n",
       "    .dataframe thead th {\n",
       "        text-align: right;\n",
       "    }\n",
       "</style>\n",
       "<table border=\"1\" class=\"dataframe\">\n",
       "  <thead>\n",
       "    <tr style=\"text-align: right;\">\n",
       "      <th></th>\n",
       "      <th></th>\n",
       "      <th></th>\n",
       "      <th>osmid</th>\n",
       "      <th>oneway</th>\n",
       "      <th>lanes</th>\n",
       "      <th>name</th>\n",
       "      <th>highway</th>\n",
       "      <th>length</th>\n",
       "      <th>geometry</th>\n",
       "      <th>grade</th>\n",
       "      <th>grade_abs</th>\n",
       "      <th>access</th>\n",
       "      <th>tunnel</th>\n",
       "      <th>ref</th>\n",
       "      <th>maxspeed</th>\n",
       "      <th>bridge</th>\n",
       "      <th>junction</th>\n",
       "      <th>service</th>\n",
       "      <th>width</th>\n",
       "      <th>walkspeed</th>\n",
       "      <th>time_min</th>\n",
       "    </tr>\n",
       "    <tr>\n",
       "      <th>u</th>\n",
       "      <th>v</th>\n",
       "      <th>key</th>\n",
       "      <th></th>\n",
       "      <th></th>\n",
       "      <th></th>\n",
       "      <th></th>\n",
       "      <th></th>\n",
       "      <th></th>\n",
       "      <th></th>\n",
       "      <th></th>\n",
       "      <th></th>\n",
       "      <th></th>\n",
       "      <th></th>\n",
       "      <th></th>\n",
       "      <th></th>\n",
       "      <th></th>\n",
       "      <th></th>\n",
       "      <th></th>\n",
       "      <th></th>\n",
       "      <th></th>\n",
       "      <th></th>\n",
       "    </tr>\n",
       "  </thead>\n",
       "  <tbody>\n",
       "    <tr>\n",
       "      <th>4649110319</th>\n",
       "      <th>8764357413</th>\n",
       "      <th>0</th>\n",
       "      <td>727557563</td>\n",
       "      <td>False</td>\n",
       "      <td>None</td>\n",
       "      <td>None</td>\n",
       "      <td>unclassified</td>\n",
       "      <td>37.557</td>\n",
       "      <td>LINESTRING (-103.49277 20.47597, -103.49247 20...</td>\n",
       "      <td>0.0</td>\n",
       "      <td>0.0</td>\n",
       "      <td>None</td>\n",
       "      <td>None</td>\n",
       "      <td>None</td>\n",
       "      <td>None</td>\n",
       "      <td>None</td>\n",
       "      <td>None</td>\n",
       "      <td>None</td>\n",
       "      <td>None</td>\n",
       "      <td>4.0</td>\n",
       "      <td>0.563355</td>\n",
       "    </tr>\n",
       "  </tbody>\n",
       "</table>\n",
       "</div>"
      ],
      "text/plain": [
       "                               osmid  oneway lanes  name       highway  \\\n",
       "u          v          key                                                \n",
       "4649110319 8764357413 0    727557563   False  None  None  unclassified   \n",
       "\n",
       "                           length  \\\n",
       "u          v          key           \n",
       "4649110319 8764357413 0    37.557   \n",
       "\n",
       "                                                                    geometry  \\\n",
       "u          v          key                                                      \n",
       "4649110319 8764357413 0    LINESTRING (-103.49277 20.47597, -103.49247 20...   \n",
       "\n",
       "                           grade  grade_abs access tunnel   ref maxspeed  \\\n",
       "u          v          key                                                  \n",
       "4649110319 8764357413 0      0.0        0.0   None   None  None     None   \n",
       "\n",
       "                          bridge junction service width  walkspeed  time_min  \n",
       "u          v          key                                                     \n",
       "4649110319 8764357413 0     None     None    None  None        4.0  0.563355  "
      ]
     },
     "execution_count": 5,
     "metadata": {},
     "output_type": "execute_result"
    }
   ],
   "source": [
    "edges_2kmgdf.head(1)"
   ]
  },
  {
   "cell_type": "markdown",
   "id": "339eecdf-7958-486f-9eb0-0d28efb641f4",
   "metadata": {},
   "source": [
    "2. From edges, find streets named like López Mateos"
   ]
  },
  {
   "cell_type": "code",
   "execution_count": 6,
   "id": "75744bc5-f5a8-48d0-b363-eaee8ffa3e7d",
   "metadata": {},
   "outputs": [],
   "source": [
    "#Finding None values in 'name' and changing them to 'sin nombre'\n",
    "#First we create a boolean mask where there is nan in 'name'\n",
    "idx = edges_2kmgdf['name'].isna()\n",
    "#Then, in that boolean mask, we change 'name' to 'sin nombre'\n",
    "edges_2kmgdf.loc[idx, 'name'] = 'sin nombre'"
   ]
  },
  {
   "cell_type": "code",
   "execution_count": 7,
   "id": "9cc8d59e-c1f5-4d1f-85f1-fc17780f18f3",
   "metadata": {},
   "outputs": [
    {
     "data": {
      "text/plain": [
       "['Lateral de López Mateos Sur',\n",
       " 'Avenida Adolfo López Mateos Sur',\n",
       " 'Avenida Adolfo López Mateos Norte',\n",
       " \"['Avenida Adolfo López Mateos Norte', 'Avenida Adolfo López Mateos Sur']\",\n",
       " \"['Avenida Adolfo López Mateos Norte', 'Circunvalación Jorge Álvarez del Castillo']\",\n",
       " 'Calle López Mateos',\n",
       " \"['Avenida Adolfo López Mateos Sur', 'Avenida López Mateos Sur']\",\n",
       " 'Avenida López Mateos Sur',\n",
       " 'Farmacias Guadalajara López Mateos Sur',\n",
       " \"['Autopista Guadalajara - Colima', 'Avenida López Mateos Sur']\"]"
      ]
     },
     "execution_count": 7,
     "metadata": {},
     "output_type": "execute_result"
    }
   ],
   "source": [
    "#Finding streets named 'Mateos' (List comprehensions)\n",
    "calles_lm_lst = [x for x in list(edges_2kmgdf.name.unique()) if 'Mateos' in x]\n",
    "calles_lm_lst"
   ]
  },
  {
   "cell_type": "code",
   "execution_count": 8,
   "id": "c166700c-12c7-4d2c-bada-7e4aba4717f0",
   "metadata": {},
   "outputs": [
    {
     "data": {
      "text/plain": [
       "<AxesSubplot:>"
      ]
     },
     "execution_count": 8,
     "metadata": {},
     "output_type": "execute_result"
    },
    {
     "data": {
      "image/png": "[encoded data removed]",
      "text/plain": [
       "<Figure size 432x288 with 1 Axes>"
      ]
     },
     "metadata": {
      "needs_background": "light"
     },
     "output_type": "display_data"
    }
   ],
   "source": [
    "#Results: There're still missing lines. \n",
    "edges_2kmgdf.loc[edges_2kmgdf.name.isin(calles_lm_lst)].plot()"
   ]
  },
  {
   "cell_type": "code",
   "execution_count": 9,
   "id": "f7d5c664-971b-4167-b525-4be9c9fb65c2",
   "metadata": {},
   "outputs": [],
   "source": [
    "#Export to db to open in GIS and find missing lines\n",
    "#aup.gdf_to_db_slow(edges_gdf,\"edges_lopezmateos\", 'segundopiso', if_exists='replace')"
   ]
  },
  {
   "cell_type": "code",
   "execution_count": 10,
   "id": "565c2ea3-19dc-4d6e-a40f-4f2c69de1119",
   "metadata": {},
   "outputs": [
    {
     "data": {
      "text/plain": [
       "<AxesSubplot:>"
      ]
     },
     "execution_count": 10,
     "metadata": {},
     "output_type": "execute_result"
    },
    {
     "data": {
      "image/png": "[encoded data removed]",
      "text/plain": [
       "<Figure size 432x288 with 1 Axes>"
      ]
     },
     "metadata": {
      "needs_background": "light"
     },
     "output_type": "display_data"
    }
   ],
   "source": [
    "add_tolst = ['Autopista Guadalajara - Colima','Circunvalación Jorge Álvarez del Castillo']\n",
    "for st in add_tolst:\n",
    "    if st not in calles_lm_lst:\n",
    "        calles_lm_lst.append(st)\n",
    "\n",
    "remove_lst = ['Farmacias Guadalajara López Mateos Sur','Calle López Mateos']\n",
    "for st in remove_lst:\n",
    "    if st in calles_lm_lst:\n",
    "        calles_lm_lst.remove(st)\n",
    "\n",
    "#calles_lm_lst\n",
    "edges_2kmgdf.loc[edges_2kmgdf.name.isin(calles_lm_lst)].plot()"
   ]
  },
  {
   "cell_type": "code",
   "execution_count": 11,
   "id": "e1eb2e51-d53d-4629-8c01-00e9dc51bba1",
   "metadata": {},
   "outputs": [
    {
     "data": {
      "text/plain": [
       "845"
      ]
     },
     "execution_count": 11,
     "metadata": {},
     "output_type": "execute_result"
    }
   ],
   "source": [
    "edges_lm_gdf = edges_2kmgdf.loc[edges_2kmgdf.name.isin(calles_lm_lst)]\n",
    "len(edges_lm_gdf)"
   ]
  },
  {
   "cell_type": "markdown",
   "id": "bd93c031-ea95-49a2-9262-89b8ab446387",
   "metadata": {},
   "source": [
    "3. From those lines, get the nodes"
   ]
  },
  {
   "cell_type": "code",
   "execution_count": 12,
   "id": "69bbd5f2-7e0c-46f5-a4be-afc6f86a58e7",
   "metadata": {},
   "outputs": [
    {
     "data": {
      "text/plain": [
       "MultiIndex([(8407976153, 1760037166, 0),\n",
       "            (8636724621, 8776027172, 0),\n",
       "            (8636724626, 8636724621, 0),\n",
       "            (1760037166, 8636724626, 0),\n",
       "            (8407976154, 8407976153, 0),\n",
       "            (1653526239, 6345478758, 0),\n",
       "            (8317791436, 2882811501, 0),\n",
       "            (6345478758, 8324054199, 0),\n",
       "            (2882807997, 2882807994, 0),\n",
       "            (2882811501, 1383913684, 0),\n",
       "            ...\n",
       "            (1207849850, 6345478759, 0),\n",
       "            (6345478759, 3022414405, 0),\n",
       "            (8324054199, 2882807995, 0),\n",
       "            (2978021614, 1041108864, 0),\n",
       "            (1041108864, 1347475658, 0),\n",
       "            (1450183997, 8323161278, 0),\n",
       "            (1347475658, 1450183997, 0),\n",
       "            (2978021612, 6511832111, 0),\n",
       "            (8323161278, 1041865204, 0),\n",
       "            (8324161160, 1347454171, 0)],\n",
       "           names=['u', 'v', 'key'], length=845)"
      ]
     },
     "execution_count": 12,
     "metadata": {},
     "output_type": "execute_result"
    }
   ],
   "source": [
    "#The nodes are stored in the index of edges_lm_gdf\n",
    "edges_index = edges_lm_gdf.index\n",
    "edges_index"
   ]
  },
  {
   "cell_type": "code",
   "execution_count": 13,
   "id": "888b705e-2551-4ba7-9b81-cb7c90376b92",
   "metadata": {},
   "outputs": [
    {
     "data": {
      "text/plain": [
       "851"
      ]
     },
     "execution_count": 13,
     "metadata": {},
     "output_type": "execute_result"
    }
   ],
   "source": [
    "#From each tupple of the multiindex we'll keep the first[0] and second[1] values.\n",
    "nodes_lm_lst = []\n",
    "for tupp in edges_index:\n",
    "    if tupp[0] not in nodes_lm_lst:\n",
    "        nodes_lm_lst.append(tupp[0])\n",
    "    if tupp[1] not in nodes_lm_lst:\n",
    "        nodes_lm_lst.append(tupp[1])\n",
    "        \n",
    "len(nodes_lm_lst)"
   ]
  },
  {
   "cell_type": "code",
   "execution_count": 14,
   "id": "83e835ee-c90a-4c7f-977b-a09e942fd995",
   "metadata": {},
   "outputs": [
    {
     "data": {
      "text/html": [
       "<div>\n",
       "<style scoped>\n",
       "    .dataframe tbody tr th:only-of-type {\n",
       "        vertical-align: middle;\n",
       "    }\n",
       "\n",
       "    .dataframe tbody tr th {\n",
       "        vertical-align: top;\n",
       "    }\n",
       "\n",
       "    .dataframe thead th {\n",
       "        text-align: right;\n",
       "    }\n",
       "</style>\n",
       "<table border=\"1\" class=\"dataframe\">\n",
       "  <thead>\n",
       "    <tr style=\"text-align: right;\">\n",
       "      <th></th>\n",
       "      <th>x</th>\n",
       "      <th>y</th>\n",
       "      <th>street_count</th>\n",
       "      <th>geometry</th>\n",
       "    </tr>\n",
       "    <tr>\n",
       "      <th>osmid</th>\n",
       "      <th></th>\n",
       "      <th></th>\n",
       "      <th></th>\n",
       "      <th></th>\n",
       "    </tr>\n",
       "  </thead>\n",
       "  <tbody>\n",
       "    <tr>\n",
       "      <th>283528400</th>\n",
       "      <td>-103.416184</td>\n",
       "      <td>20.630711</td>\n",
       "      <td>3</td>\n",
       "      <td>POINT (-103.41618 20.63071)</td>\n",
       "    </tr>\n",
       "  </tbody>\n",
       "</table>\n",
       "</div>"
      ],
      "text/plain": [
       "                    x          y  street_count                     geometry\n",
       "osmid                                                                      \n",
       "283528400 -103.416184  20.630711             3  POINT (-103.41618 20.63071)"
      ]
     },
     "execution_count": 14,
     "metadata": {},
     "output_type": "execute_result"
    }
   ],
   "source": [
    "nodes_lm_gdf = nodes_2kmgdf.loc[nodes_2kmgdf.index.isin(nodes_lm_lst)]\n",
    "nodes_lm_gdf.head(1)"
   ]
  },
  {
   "cell_type": "markdown",
   "id": "bac86304-7a32-424f-b0de-1bdaeda9971b",
   "metadata": {},
   "source": [
    "## Part 2"
   ]
  },
  {
   "cell_type": "markdown",
   "id": "92f36b3c-55a3-49b1-a644-ba5de21e3f33",
   "metadata": {},
   "source": [
    "Input data for nearest route calculation"
   ]
  },
  {
   "cell_type": "code",
   "execution_count": 15,
   "id": "24dd77c4-4776-4091-9ee6-00e8d0525f8f",
   "metadata": {},
   "outputs": [],
   "source": [
    "nodes_2km = nodes_2kmgdf.copy()\n",
    "edges_2km = edges_2kmgdf.copy()\n",
    "graph_2km = graph_2kmgdf.copy()\n",
    "destiny_nodes = nodes_lm_gdf.copy()"
   ]
  },
  {
   "cell_type": "markdown",
   "id": "516a2485-006f-49ff-8b71-39c2dfca29d2",
   "metadata": {},
   "source": [
    "Calculation"
   ]
  },
  {
   "cell_type": "code",
   "execution_count": 16,
   "id": "dac31dbd-b375-45e3-99b7-e0411a077ee8",
   "metadata": {},
   "outputs": [],
   "source": [
    "#convert to igraph to run the calculations\n",
    "g, weights, node_mapping = aup.to_igraph(nodes_2km,edges_2km, \"time_min\") #time_min is what it will take into account to identify the shortest path"
   ]
  },
  {
   "cell_type": "code",
   "execution_count": 17,
   "id": "9c15d586-2a0f-45c7-8c32-e3366b4cebee",
   "metadata": {},
   "outputs": [],
   "source": [
    "#seeds that will be used in ig.Graph.get_shortest_paths\n",
    "nodes_2km = nodes_2km.reset_index() #For get_seeds to work we need osmid to be a column, not the index\n",
    "destiny_nodes = destiny_nodes.reset_index() #For get_seeds to work we need osmid to be a column, not the index\n",
    "\n",
    "seeds_dest = aup.get_seeds(destiny_nodes, node_mapping, 'osmid')\n",
    "seeds_org = aup.get_seeds(nodes_2km, node_mapping, 'osmid')"
   ]
  },
  {
   "cell_type": "code",
   "execution_count": 18,
   "id": "28c984a1-c78e-4766-b4da-03d4982f4126",
   "metadata": {},
   "outputs": [],
   "source": [
    "shortest_path_len = g.shortest_paths_dijkstra(seeds_org, seeds_dest, weights=weights)\n",
    "nearest_seed = np.array(shortest_path_len).argmin(axis=1)"
   ]
  },
  {
   "cell_type": "code",
   "execution_count": 20,
   "id": "dff5334e-86d5-4d45-9bb4-12f6436bb02b",
   "metadata": {},
   "outputs": [
    {
     "name": "stderr",
     "output_type": "stream",
     "text": [
      "/tmp/ipykernel_4289/337504445.py:2: RuntimeWarning: Couldn't reach some vertices at src/paths/dijkstra.c:441\n",
      "  shortest_path_nodes = [ig.Graph.get_shortest_paths(g, seeds_org[i], seeds_dest[nearest_seed[i]], weights=weights) for i in range(len(seeds_org))]\n"
     ]
    }
   ],
   "source": [
    "#calculate shortest path\n",
    "shortest_path_nodes = [ig.Graph.get_shortest_paths(g, seeds_org[i], seeds_dest[nearest_seed[i]], weights=weights) for i in range(len(seeds_org))]"
   ]
  },
  {
   "cell_type": "code",
   "execution_count": 21,
   "id": "ecb464e4-4df3-4ded-a08b-4078cd954fe9",
   "metadata": {},
   "outputs": [
    {
     "data": {
      "text/plain": [
       "25470"
      ]
     },
     "execution_count": 21,
     "metadata": {},
     "output_type": "execute_result"
    }
   ],
   "source": [
    "keys_list = list(node_mapping)\n",
    "routes_osmid = [[keys_list[shortest_path_nodes[x][0][i]] for i in range(len(shortest_path_nodes[x][0]))] for x in range(len(shortest_path_nodes))]\n",
    "len(routes_osmid)"
   ]
  },
  {
   "cell_type": "code",
   "execution_count": 22,
   "id": "f04e2a95-553b-4e69-b025-5c2816994d8c",
   "metadata": {},
   "outputs": [
    {
     "name": "stdout",
     "output_type": "stream",
     "text": [
      "2023-02-15 03:21:16 Created edges GeoDataFrame from graph\n"
     ]
    }
   ],
   "source": [
    "edges_G = ox.graph_to_gdfs(graph_2km, nodes=False).reset_index().set_index(['u', 'v']).sort_index()"
   ]
  },
  {
   "cell_type": "code",
   "execution_count": 23,
   "id": "89827ec0-a85a-42c3-b368-f765e4714778",
   "metadata": {},
   "outputs": [
    {
     "name": "stdout",
     "output_type": "stream",
     "text": [
      "route 1 finished\n",
      "route 1000 finished\n",
      "route 2000 finished\n",
      "route 3000 finished\n",
      "route 4000 finished\n",
      "route 5000 finished\n",
      "route 6000 finished\n",
      "route 7000 finished\n",
      "route 8000 finished\n",
      "route 9000 finished\n",
      "route 10000 finished\n",
      "route 11000 finished\n",
      "route 12000 finished\n",
      "route 13000 finished\n",
      "route 14000 finished\n",
      "route 15000 finished\n",
      "route 16000 finished\n",
      "route 17000 finished\n",
      "route 18000 finished\n",
      "route 19000 finished\n",
      "route 20000 finished\n",
      "route 21000 finished\n",
      "route 22000 finished\n",
      "route 23000 finished\n",
      "route 24000 finished\n",
      "route 25000 finished\n",
      "route 25470 finished\n"
     ]
    }
   ],
   "source": [
    "i = 0 #count variable\n",
    "mun = 'AMG' #metropolis\n",
    "\n",
    "lines = []\n",
    "\n",
    "for r in range(len(routes_osmid)):\n",
    "    route_pairwise = zip(routes_osmid[r][:-1], routes_osmid[r][1:])\n",
    "    \n",
    "    for z in route_pairwise:\n",
    "        try:\n",
    "            osmid_touple = (z[0],z[1])\n",
    "            lines.append(edges_G.loc[osmid_touple, ['osmid','geometry']].iloc[0])\n",
    "        except:\n",
    "            osmid_touple = (z[1],z[0])\n",
    "            lines.append(edges_G.loc[osmid_touple, ['osmid','geometry']].iloc[0])\n",
    "            \n",
    "    i += 1\n",
    "    if i==1 or i%1000==0 or i==(len(routes_osmid)):\n",
    "        print('route',i,'finished')\n",
    "        if i > 1:\n",
    "            route_gdf = gpd.GeoDataFrame(lines)\n",
    "            route_gdf = route_gdf.set_crs(\"EPSG:4326\")\n",
    "            #routes_join = route_gdf.rese/search?channel=fs&client=ubuntu&q=vensim+tutorialt_index().groupby(['level_0','level_1']).count()\n",
    "            route_gdf.to_file(f'../../data/processed/lopezmateos_routes/{mun}_lm_route_{i}.geojson', driver='GeoJSON')\n",
    "            lines = []"
   ]
  },
  {
   "cell_type": "markdown",
   "id": "97fc319d-c1bc-42a1-bc0f-920afde6dc88",
   "metadata": {},
   "source": [
    "### Grouping and cleaning routes"
   ]
  },
  {
   "cell_type": "code",
   "execution_count": 26,
   "id": "56b71ac9-46fc-46e5-956a-8977801a3d90",
   "metadata": {},
   "outputs": [
    {
     "name": "stdout",
     "output_type": "stream",
     "text": [
      "(492030, 4)\n"
     ]
    },
    {
     "data": {
      "text/html": [
       "<div>\n",
       "<style scoped>\n",
       "    .dataframe tbody tr th:only-of-type {\n",
       "        vertical-align: middle;\n",
       "    }\n",
       "\n",
       "    .dataframe tbody tr th {\n",
       "        vertical-align: top;\n",
       "    }\n",
       "\n",
       "    .dataframe thead th {\n",
       "        text-align: right;\n",
       "    }\n",
       "</style>\n",
       "<table border=\"1\" class=\"dataframe\">\n",
       "  <thead>\n",
       "    <tr style=\"text-align: right;\">\n",
       "      <th></th>\n",
       "      <th>level_0</th>\n",
       "      <th>level_1</th>\n",
       "      <th>osmid</th>\n",
       "      <th>geometry</th>\n",
       "    </tr>\n",
       "  </thead>\n",
       "  <tbody>\n",
       "    <tr>\n",
       "      <th>0</th>\n",
       "      <td>7824742432</td>\n",
       "      <td>1374116004</td>\n",
       "      <td>139215486</td>\n",
       "      <td>LINESTRING (-103.40446 20.64759, -103.40453 20...</td>\n",
       "    </tr>\n",
       "    <tr>\n",
       "      <th>1</th>\n",
       "      <td>7824742433</td>\n",
       "      <td>7824742417</td>\n",
       "      <td>[ 838407352, 894834366 ]</td>\n",
       "      <td>LINESTRING (-103.40428 20.64779, -103.40435 20...</td>\n",
       "    </tr>\n",
       "  </tbody>\n",
       "</table>\n",
       "</div>"
      ],
      "text/plain": [
       "      level_0     level_1                     osmid  \\\n",
       "0  7824742432  1374116004                 139215486   \n",
       "1  7824742433  7824742417  [ 838407352, 894834366 ]   \n",
       "\n",
       "                                            geometry  \n",
       "0  LINESTRING (-103.40446 20.64759, -103.40453 20...  \n",
       "1  LINESTRING (-103.40428 20.64779, -103.40435 20...  "
      ]
     },
     "execution_count": 26,
     "metadata": {},
     "output_type": "execute_result"
    }
   ],
   "source": [
    "#Concatenating previously generated route files\n",
    "gdf_routes = gpd.GeoDataFrame()\n",
    "route_path = \"../../data/processed/lopezmateos_routes/\"\n",
    "\n",
    "for f in os.listdir(route_path):\n",
    "        if f.startswith(f'{mun}_lm_route_'):\n",
    "            gdf_routes = gdf_routes.append(gpd.read_file(route_path+f, driver='GeoJSON'))\n",
    "            \n",
    "print(gdf_routes.shape)\n",
    "gdf_routes.head(2)"
   ]
  },
  {
   "cell_type": "code",
   "execution_count": 27,
   "id": "834662a6-af8b-4772-be82-58266d6f2885",
   "metadata": {},
   "outputs": [
    {
     "name": "stdout",
     "output_type": "stream",
     "text": [
      "(24421, 3)\n"
     ]
    },
    {
     "data": {
      "text/html": [
       "<div>\n",
       "<style scoped>\n",
       "    .dataframe tbody tr th:only-of-type {\n",
       "        vertical-align: middle;\n",
       "    }\n",
       "\n",
       "    .dataframe tbody tr th {\n",
       "        vertical-align: top;\n",
       "    }\n",
       "\n",
       "    .dataframe thead th {\n",
       "        text-align: right;\n",
       "    }\n",
       "</style>\n",
       "<table border=\"1\" class=\"dataframe\">\n",
       "  <thead>\n",
       "    <tr style=\"text-align: right;\">\n",
       "      <th></th>\n",
       "      <th>level_0</th>\n",
       "      <th>level_1</th>\n",
       "      <th>count</th>\n",
       "    </tr>\n",
       "  </thead>\n",
       "  <tbody>\n",
       "    <tr>\n",
       "      <th>0</th>\n",
       "      <td>28791285</td>\n",
       "      <td>1668893850</td>\n",
       "      <td>15</td>\n",
       "    </tr>\n",
       "    <tr>\n",
       "      <th>1</th>\n",
       "      <td>28791354</td>\n",
       "      <td>803055773</td>\n",
       "      <td>38</td>\n",
       "    </tr>\n",
       "    <tr>\n",
       "      <th>2</th>\n",
       "      <td>28791359</td>\n",
       "      <td>8347582312</td>\n",
       "      <td>47</td>\n",
       "    </tr>\n",
       "    <tr>\n",
       "      <th>3</th>\n",
       "      <td>28791397</td>\n",
       "      <td>1894163442</td>\n",
       "      <td>29</td>\n",
       "    </tr>\n",
       "    <tr>\n",
       "      <th>4</th>\n",
       "      <td>28791518</td>\n",
       "      <td>1473544273</td>\n",
       "      <td>1</td>\n",
       "    </tr>\n",
       "  </tbody>\n",
       "</table>\n",
       "</div>"
      ],
      "text/plain": [
       "    level_0     level_1  count\n",
       "0  28791285  1668893850     15\n",
       "1  28791354   803055773     38\n",
       "2  28791359  8347582312     47\n",
       "3  28791397  1894163442     29\n",
       "4  28791518  1473544273      1"
      ]
     },
     "execution_count": 27,
     "metadata": {},
     "output_type": "execute_result"
    }
   ],
   "source": [
    "#Grouping routes by osmid\n",
    "grouped_routes = gdf_routes.groupby(['level_0','level_1']).count()\n",
    "grouped_routes.reset_index(inplace=True)\n",
    "grouped_routes.rename(columns={'osmid':'count'}, inplace=True)\n",
    "grouped_routes.drop(columns=['geometry'], inplace=True)\n",
    "print(grouped_routes.shape)\n",
    "grouped_routes.head(5)"
   ]
  },
  {
   "cell_type": "code",
   "execution_count": 29,
   "id": "f4121425-4562-4ad7-ad32-8d474e6aca1c",
   "metadata": {},
   "outputs": [
    {
     "name": "stdout",
     "output_type": "stream",
     "text": [
      "(24421, 6)\n"
     ]
    },
    {
     "data": {
      "text/plain": [
       "492030"
      ]
     },
     "execution_count": 29,
     "metadata": {},
     "output_type": "execute_result"
    }
   ],
   "source": [
    "#Merging grouped_routes with gdf_routes and dropping dupplicates\n",
    "gdf_routes_diss = grouped_routes.reset_index().merge(gdf_routes, left_on=['level_0','level_1'],\n",
    "                right_on=['level_0','level_1'], how='left')\n",
    "gdf_routes_diss.drop_duplicates(inplace=True)\n",
    "print(gdf_routes_diss.shape)\n",
    "gdf_routes_diss.head(2)\n",
    "gdf_routes_diss['count'].sum()"
   ]
  },
  {
   "cell_type": "markdown",
   "id": "e36079b6-b58b-4620-989a-7fc192f16920",
   "metadata": {},
   "source": [
    "### Saving file"
   ]
  },
  {
   "cell_type": "code",
   "execution_count": 31,
   "id": "8df3405a-eab1-4e92-a8f3-ebfd80dbd2f7",
   "metadata": {},
   "outputs": [],
   "source": [
    "gdf_routes_diss = gdf_routes_diss.set_crs(\"EPSG:4326\")\n",
    "aup.gdf_to_db_slow(gdf_routes_diss,\"lopezmateos_routes\", 'segundopiso', if_exists='replace')"
   ]
  },
  {
   "cell_type": "code",
   "execution_count": null,
   "id": "e7e8fd87-8f1a-4113-b01e-d3ba86ab7d1e",
   "metadata": {},
   "outputs": [],
   "source": []
  }
 ],
 "metadata": {
  "kernelspec": {
   "display_name": "Python 3 (ipykernel)",
   "language": "python",
   "name": "python3"
  },
  "language_info": {
   "codemirror_mode": {
    "name": "ipython",
    "version": 3
   },
   "file_extension": ".py",
   "mimetype": "text/x-python",
   "name": "python",
   "nbconvert_exporter": "python",
   "pygments_lexer": "ipython3",
   "version": "3.9.7"
  }
 },
 "nbformat": 4,
 "nbformat_minor": 5
}
