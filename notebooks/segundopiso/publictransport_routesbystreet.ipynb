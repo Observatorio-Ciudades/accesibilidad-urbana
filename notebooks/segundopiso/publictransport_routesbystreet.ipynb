{
 "cells": [
  {
   "cell_type": "markdown",
   "id": "3da87688-dfb0-4d43-870d-3e474009a4a5",
   "metadata": {},
   "source": [
    "## Importing libraries"
   ]
  },
  {
   "cell_type": "code",
   "execution_count": 1,
   "id": "2dd4daf9-4b82-4d6d-9418-331e2688fc79",
   "metadata": {},
   "outputs": [
    {
     "name": "stdout",
     "output_type": "stream",
     "text": [
      "2023-03-01 19:50:54 Configured OSMnx 1.1.1\n",
      "2023-03-01 19:50:54 HTTP response caching is on\n"
     ]
    }
   ],
   "source": [
    "import os\n",
    "import sys\n",
    "\n",
    "import pandas as pd\n",
    "import geopandas as gpd\n",
    "import osmnx as ox\n",
    "import numpy as np\n",
    "import igraph as ig\n",
    "\n",
    "import matplotlib.pyplot as plt\n",
    "import seaborn as sns\n",
    "import folium\n",
    "\n",
    "import warnings\n",
    "warnings.simplefilter(action='ignore', category=FutureWarning)\n",
    "\n",
    "module_path = os.path.abspath(os.path.join('../../'))\n",
    "if module_path not in sys.path:\n",
    "    sys.path.append(module_path)\n",
    "    import aup"
   ]
  },
  {
   "cell_type": "markdown",
   "id": "3ae1a11e-d48f-4916-8897-e60bd17d7b7a",
   "metadata": {
    "tags": []
   },
   "source": [
    "## Loading dissolved roads from hex within 2km buffer"
   ]
  },
  {
   "cell_type": "code",
   "execution_count": 19,
   "id": "d77e844b-fde4-4d9c-8538-db391281edba",
   "metadata": {},
   "outputs": [
    {
     "data": {
      "text/plain": [
       "<AxesSubplot:>"
      ]
     },
     "execution_count": 19,
     "metadata": {},
     "output_type": "execute_result"
    },
    {
     "data": {
      "image/png": "[encoded data removed]",
      "text/plain": [
       "<Figure size 432x288 with 1 Axes>"
      ]
     },
     "metadata": {
      "needs_background": "light"
     },
     "output_type": "display_data"
    }
   ],
   "source": [
    "roads_2km  = gpd.read_file(\"../../data/external/db_segundopiso_temp/marcogeo_ejesviales_dissolved_2km.gpkg\")\n",
    "roads_2km.plot()"
   ]
  },
  {
   "cell_type": "code",
   "execution_count": 50,
   "id": "47af22c1-f8de-4592-b94e-95bf16c500d2",
   "metadata": {},
   "outputs": [
    {
     "data": {
      "text/html": [
       "<div>\n",
       "<style scoped>\n",
       "    .dataframe tbody tr th:only-of-type {\n",
       "        vertical-align: middle;\n",
       "    }\n",
       "\n",
       "    .dataframe tbody tr th {\n",
       "        vertical-align: top;\n",
       "    }\n",
       "\n",
       "    .dataframe thead th {\n",
       "        text-align: right;\n",
       "    }\n",
       "</style>\n",
       "<table border=\"1\" class=\"dataframe\">\n",
       "  <thead>\n",
       "    <tr style=\"text-align: right;\">\n",
       "      <th></th>\n",
       "      <th>CVEGEO</th>\n",
       "      <th>CVE_ENT</th>\n",
       "      <th>CVE_MUN</th>\n",
       "      <th>CVE_LOC</th>\n",
       "      <th>CVEVIAL</th>\n",
       "      <th>CVESEG</th>\n",
       "      <th>NOMVIAL</th>\n",
       "      <th>TIPOVIAL</th>\n",
       "      <th>SENTIDO</th>\n",
       "      <th>TIPOSEN</th>\n",
       "      <th>AMBITO</th>\n",
       "      <th>geometry</th>\n",
       "    </tr>\n",
       "  </thead>\n",
       "  <tbody>\n",
       "    <tr>\n",
       "      <th>0</th>\n",
       "      <td>140390001</td>\n",
       "      <td>14</td>\n",
       "      <td>039</td>\n",
       "      <td>0001</td>\n",
       "      <td>06922</td>\n",
       "      <td>00001</td>\n",
       "      <td>Misioneros</td>\n",
       "      <td>Calle</td>\n",
       "      <td>Un sentido</td>\n",
       "      <td>1</td>\n",
       "      <td>Urbana</td>\n",
       "      <td>MULTILINESTRING ((-103.48548 20.53465, -103.48...</td>\n",
       "    </tr>\n",
       "    <tr>\n",
       "      <th>1</th>\n",
       "      <td>140210001</td>\n",
       "      <td>14</td>\n",
       "      <td>021</td>\n",
       "      <td>0001</td>\n",
       "      <td>00009</td>\n",
       "      <td>00001</td>\n",
       "      <td>Camino a la Loma</td>\n",
       "      <td>Calle</td>\n",
       "      <td>Dos sentidos</td>\n",
       "      <td>2</td>\n",
       "      <td>Urbana</td>\n",
       "      <td>MULTILINESTRING ((-103.45348 20.53685, -103.45...</td>\n",
       "    </tr>\n",
       "    <tr>\n",
       "      <th>2</th>\n",
       "      <td>140080001</td>\n",
       "      <td>14</td>\n",
       "      <td>008</td>\n",
       "      <td>0001</td>\n",
       "      <td>00556</td>\n",
       "      <td>00001</td>\n",
       "      <td>Fenicios</td>\n",
       "      <td>Calle</td>\n",
       "      <td>Dos sentidos</td>\n",
       "      <td>2</td>\n",
       "      <td>Urbana</td>\n",
       "      <td>MULTILINESTRING ((-103.38593 20.71085, -103.38...</td>\n",
       "    </tr>\n",
       "    <tr>\n",
       "      <th>3</th>\n",
       "      <td>140060001</td>\n",
       "      <td>14</td>\n",
       "      <td>006</td>\n",
       "      <td>0001</td>\n",
       "      <td>00387</td>\n",
       "      <td>00009</td>\n",
       "      <td>Caoba</td>\n",
       "      <td>Calle</td>\n",
       "      <td>Dos sentidos</td>\n",
       "      <td>2</td>\n",
       "      <td>Urbana</td>\n",
       "      <td>MULTILINESTRING ((-103.40020 20.62931, -103.39...</td>\n",
       "    </tr>\n",
       "    <tr>\n",
       "      <th>4</th>\n",
       "      <td>140970025</td>\n",
       "      <td>14</td>\n",
       "      <td>097</td>\n",
       "      <td>0025</td>\n",
       "      <td>00384</td>\n",
       "      <td>00002</td>\n",
       "      <td>Sendero la Pradera</td>\n",
       "      <td>Calle</td>\n",
       "      <td>Dos sentidos</td>\n",
       "      <td>2</td>\n",
       "      <td>Urbana</td>\n",
       "      <td>MULTILINESTRING ((-103.48019 20.55908, -103.47...</td>\n",
       "    </tr>\n",
       "    <tr>\n",
       "      <th>...</th>\n",
       "      <td>...</td>\n",
       "      <td>...</td>\n",
       "      <td>...</td>\n",
       "      <td>...</td>\n",
       "      <td>...</td>\n",
       "      <td>...</td>\n",
       "      <td>...</td>\n",
       "      <td>...</td>\n",
       "      <td>...</td>\n",
       "      <td>...</td>\n",
       "      <td>...</td>\n",
       "      <td>...</td>\n",
       "    </tr>\n",
       "    <tr>\n",
       "      <th>3530</th>\n",
       "      <td>140390001</td>\n",
       "      <td>14</td>\n",
       "      <td>039</td>\n",
       "      <td>0001</td>\n",
       "      <td>03321</td>\n",
       "      <td>00001</td>\n",
       "      <td>Cremona</td>\n",
       "      <td>Calle</td>\n",
       "      <td>Un sentido</td>\n",
       "      <td>1</td>\n",
       "      <td>Urbana</td>\n",
       "      <td>MULTILINESTRING ((-103.38713 20.69401, -103.38...</td>\n",
       "    </tr>\n",
       "    <tr>\n",
       "      <th>3531</th>\n",
       "      <td>141200001</td>\n",
       "      <td>14</td>\n",
       "      <td>120</td>\n",
       "      <td>0001</td>\n",
       "      <td>03525</td>\n",
       "      <td>00009</td>\n",
       "      <td>Tizoc</td>\n",
       "      <td>Avenida</td>\n",
       "      <td>Un sentido</td>\n",
       "      <td>1</td>\n",
       "      <td>Urbana</td>\n",
       "      <td>MULTILINESTRING ((-103.40171 20.65396, -103.40...</td>\n",
       "    </tr>\n",
       "    <tr>\n",
       "      <th>3532</th>\n",
       "      <td>140390001</td>\n",
       "      <td>14</td>\n",
       "      <td>039</td>\n",
       "      <td>0001</td>\n",
       "      <td>03437</td>\n",
       "      <td>00001</td>\n",
       "      <td>Pedro Castera</td>\n",
       "      <td>Calle</td>\n",
       "      <td>Un sentido</td>\n",
       "      <td>1</td>\n",
       "      <td>Urbana</td>\n",
       "      <td>MULTILINESTRING ((-103.37185 20.68277, -103.37...</td>\n",
       "    </tr>\n",
       "    <tr>\n",
       "      <th>3533</th>\n",
       "      <td>141200001</td>\n",
       "      <td>14</td>\n",
       "      <td>120</td>\n",
       "      <td>0001</td>\n",
       "      <td>00048</td>\n",
       "      <td>00012</td>\n",
       "      <td>Santo Tomás de Aquino</td>\n",
       "      <td>Calle</td>\n",
       "      <td>Dos sentidos</td>\n",
       "      <td>2</td>\n",
       "      <td>Urbana</td>\n",
       "      <td>MULTILINESTRING ((-103.41496 20.66681, -103.41...</td>\n",
       "    </tr>\n",
       "    <tr>\n",
       "      <th>3534</th>\n",
       "      <td>140980014</td>\n",
       "      <td>14</td>\n",
       "      <td>098</td>\n",
       "      <td>0014</td>\n",
       "      <td>00133</td>\n",
       "      <td>00001</td>\n",
       "      <td>Virgen de la Defensa</td>\n",
       "      <td>Calle</td>\n",
       "      <td>Dos sentidos</td>\n",
       "      <td>2</td>\n",
       "      <td>Urbana</td>\n",
       "      <td>MULTILINESTRING ((-103.45126 20.55576, -103.45...</td>\n",
       "    </tr>\n",
       "  </tbody>\n",
       "</table>\n",
       "<p>3535 rows × 12 columns</p>\n",
       "</div>"
      ],
      "text/plain": [
       "         CVEGEO CVE_ENT CVE_MUN CVE_LOC CVEVIAL CVESEG                NOMVIAL  \\\n",
       "0     140390001      14     039    0001   06922  00001             Misioneros   \n",
       "1     140210001      14     021    0001   00009  00001       Camino a la Loma   \n",
       "2     140080001      14     008    0001   00556  00001               Fenicios   \n",
       "3     140060001      14     006    0001   00387  00009                  Caoba   \n",
       "4     140970025      14     097    0025   00384  00002     Sendero la Pradera   \n",
       "...         ...     ...     ...     ...     ...    ...                    ...   \n",
       "3530  140390001      14     039    0001   03321  00001                Cremona   \n",
       "3531  141200001      14     120    0001   03525  00009                  Tizoc   \n",
       "3532  140390001      14     039    0001   03437  00001          Pedro Castera   \n",
       "3533  141200001      14     120    0001   00048  00012  Santo Tomás de Aquino   \n",
       "3534  140980014      14     098    0014   00133  00001   Virgen de la Defensa   \n",
       "\n",
       "     TIPOVIAL       SENTIDO  TIPOSEN  AMBITO  \\\n",
       "0       Calle    Un sentido        1  Urbana   \n",
       "1       Calle  Dos sentidos        2  Urbana   \n",
       "2       Calle  Dos sentidos        2  Urbana   \n",
       "3       Calle  Dos sentidos        2  Urbana   \n",
       "4       Calle  Dos sentidos        2  Urbana   \n",
       "...       ...           ...      ...     ...   \n",
       "3530    Calle    Un sentido        1  Urbana   \n",
       "3531  Avenida    Un sentido        1  Urbana   \n",
       "3532    Calle    Un sentido        1  Urbana   \n",
       "3533    Calle  Dos sentidos        2  Urbana   \n",
       "3534    Calle  Dos sentidos        2  Urbana   \n",
       "\n",
       "                                               geometry  \n",
       "0     MULTILINESTRING ((-103.48548 20.53465, -103.48...  \n",
       "1     MULTILINESTRING ((-103.45348 20.53685, -103.45...  \n",
       "2     MULTILINESTRING ((-103.38593 20.71085, -103.38...  \n",
       "3     MULTILINESTRING ((-103.40020 20.62931, -103.39...  \n",
       "4     MULTILINESTRING ((-103.48019 20.55908, -103.47...  \n",
       "...                                                 ...  \n",
       "3530  MULTILINESTRING ((-103.38713 20.69401, -103.38...  \n",
       "3531  MULTILINESTRING ((-103.40171 20.65396, -103.40...  \n",
       "3532  MULTILINESTRING ((-103.37185 20.68277, -103.37...  \n",
       "3533  MULTILINESTRING ((-103.41496 20.66681, -103.41...  \n",
       "3534  MULTILINESTRING ((-103.45126 20.55576, -103.45...  \n",
       "\n",
       "[3535 rows x 12 columns]"
      ]
     },
     "execution_count": 50,
     "metadata": {},
     "output_type": "execute_result"
    }
   ],
   "source": [
    "roads_2km"
   ]
  },
  {
   "cell_type": "markdown",
   "id": "d2ce16e6-083c-4ddf-81b5-fccafe35fd5f",
   "metadata": {},
   "source": [
    "## Generating public transport routes by street map"
   ]
  },
  {
   "cell_type": "markdown",
   "id": "a5ecae69-84bc-497f-a565-a9c96d4abea1",
   "metadata": {},
   "source": [
    "10m Buffer to streets"
   ]
  },
  {
   "cell_type": "code",
   "execution_count": 25,
   "id": "3fb1f237-92da-474c-8879-347fd61ff3c6",
   "metadata": {},
   "outputs": [
    {
     "data": {
      "text/plain": [
       "<AxesSubplot:>"
      ]
     },
     "execution_count": 25,
     "metadata": {},
     "output_type": "execute_result"
    },
    {
     "data": {
      "image/png": "[encoded data removed]",
      "text/plain": [
       "<Figure size 432x288 with 1 Axes>"
      ]
     },
     "metadata": {
      "needs_background": "light"
     },
     "output_type": "display_data"
    }
   ],
   "source": [
    "#Creating 2km buffer\n",
    "roads_2km = roads_2km.to_crs(\"EPSG:6372\")\n",
    "roads_buffer_10m = roads_2km.buffer(10)\n",
    "roads_2km = roads_2km.to_crs(\"EPSG:4326\")\n",
    "roads_buffer_10m.plot()"
   ]
  },
  {
   "cell_type": "code",
   "execution_count": 56,
   "id": "6a442d1e-94f9-4bd6-bce9-5cbe4edb8396",
   "metadata": {},
   "outputs": [
    {
     "data": {
      "text/html": [
       "<div>\n",
       "<style scoped>\n",
       "    .dataframe tbody tr th:only-of-type {\n",
       "        vertical-align: middle;\n",
       "    }\n",
       "\n",
       "    .dataframe tbody tr th {\n",
       "        vertical-align: top;\n",
       "    }\n",
       "\n",
       "    .dataframe thead th {\n",
       "        text-align: right;\n",
       "    }\n",
       "</style>\n",
       "<table border=\"1\" class=\"dataframe\">\n",
       "  <thead>\n",
       "    <tr style=\"text-align: right;\">\n",
       "      <th></th>\n",
       "      <th>street</th>\n",
       "      <th>geometry</th>\n",
       "    </tr>\n",
       "  </thead>\n",
       "  <tbody>\n",
       "    <tr>\n",
       "      <th>0</th>\n",
       "      <td>0</td>\n",
       "      <td>MULTIPOLYGON (((-103.36415 20.71036, -103.3649...</td>\n",
       "    </tr>\n",
       "    <tr>\n",
       "      <th>1</th>\n",
       "      <td>1</td>\n",
       "      <td>MULTIPOLYGON (((-103.44905 20.54652, -103.4490...</td>\n",
       "    </tr>\n",
       "    <tr>\n",
       "      <th>2</th>\n",
       "      <td>2</td>\n",
       "      <td>POLYGON ((-103.38700 20.71161, -103.38701 20.7...</td>\n",
       "    </tr>\n",
       "    <tr>\n",
       "      <th>3</th>\n",
       "      <td>3</td>\n",
       "      <td>POLYGON ((-103.40288 20.62984, -103.40288 20.6...</td>\n",
       "    </tr>\n",
       "    <tr>\n",
       "      <th>4</th>\n",
       "      <td>4</td>\n",
       "      <td>POLYGON ((-103.48192 20.55917, -103.48192 20.5...</td>\n",
       "    </tr>\n",
       "    <tr>\n",
       "      <th>...</th>\n",
       "      <td>...</td>\n",
       "      <td>...</td>\n",
       "    </tr>\n",
       "    <tr>\n",
       "      <th>3530</th>\n",
       "      <td>3530</td>\n",
       "      <td>POLYGON ((-103.38710 20.69239, -103.38710 20.6...</td>\n",
       "    </tr>\n",
       "    <tr>\n",
       "      <th>3531</th>\n",
       "      <td>3531</td>\n",
       "      <td>POLYGON ((-103.40467 20.65678, -103.40498 20.6...</td>\n",
       "    </tr>\n",
       "    <tr>\n",
       "      <th>3532</th>\n",
       "      <td>3532</td>\n",
       "      <td>POLYGON ((-103.37072 20.68285, -103.37071 20.6...</td>\n",
       "    </tr>\n",
       "    <tr>\n",
       "      <th>3533</th>\n",
       "      <td>3533</td>\n",
       "      <td>POLYGON ((-103.41557 20.66681, -103.41568 20.6...</td>\n",
       "    </tr>\n",
       "    <tr>\n",
       "      <th>3534</th>\n",
       "      <td>3534</td>\n",
       "      <td>POLYGON ((-103.45227 20.55595, -103.45227 20.5...</td>\n",
       "    </tr>\n",
       "  </tbody>\n",
       "</table>\n",
       "<p>3535 rows × 2 columns</p>\n",
       "</div>"
      ],
      "text/plain": [
       "      street                                           geometry\n",
       "0          0  MULTIPOLYGON (((-103.36415 20.71036, -103.3649...\n",
       "1          1  MULTIPOLYGON (((-103.44905 20.54652, -103.4490...\n",
       "2          2  POLYGON ((-103.38700 20.71161, -103.38701 20.7...\n",
       "3          3  POLYGON ((-103.40288 20.62984, -103.40288 20.6...\n",
       "4          4  POLYGON ((-103.48192 20.55917, -103.48192 20.5...\n",
       "...      ...                                                ...\n",
       "3530    3530  POLYGON ((-103.38710 20.69239, -103.38710 20.6...\n",
       "3531    3531  POLYGON ((-103.40467 20.65678, -103.40498 20.6...\n",
       "3532    3532  POLYGON ((-103.37072 20.68285, -103.37071 20.6...\n",
       "3533    3533  POLYGON ((-103.41557 20.66681, -103.41568 20.6...\n",
       "3534    3534  POLYGON ((-103.45227 20.55595, -103.45227 20.5...\n",
       "\n",
       "[3535 rows x 2 columns]"
      ]
     },
     "execution_count": 56,
     "metadata": {},
     "output_type": "execute_result"
    }
   ],
   "source": [
    "#Converting geoseries to geodataframe\n",
    "roads_buffer_10mgdf = gpd.GeoDataFrame(geometry=gpd.GeoSeries(roads_buffer_10m))\n",
    "\n",
    "#Saving street number\n",
    "roads_buffer_10mgdf_st = roads_buffer_10mgdf.reset_index()\n",
    "roads_buffer_10mgdf_st = roads_buffer_10mgdf_st.rename(columns={'index':'street'})\n",
    "roads_buffer_10mgdf_st"
   ]
  },
  {
   "cell_type": "markdown",
   "id": "b8b03400-43dd-4c14-8b86-cb5989d69497",
   "metadata": {},
   "source": [
    "### Intersection of GDL Public routes with buffered streets"
   ]
  },
  {
   "cell_type": "code",
   "execution_count": 26,
   "id": "d2d53e57-830c-4339-8acd-214eb55c19a7",
   "metadata": {},
   "outputs": [
    {
     "data": {
      "text/plain": [
       "<AxesSubplot:>"
      ]
     },
     "execution_count": 26,
     "metadata": {},
     "output_type": "execute_result"
    },
    {
     "data": {
      "image/png": "[encoded data removed]",
      "text/plain": [
       "<Figure size 432x288 with 1 Axes>"
      ]
     },
     "metadata": {
      "needs_background": "light"
     },
     "output_type": "display_data"
    }
   ],
   "source": [
    "routes_gdl  = gpd.read_file(\"../../data/external/db_segundopiso_temp/rutastransporte_gdl.gpkg\")\n",
    "routes_gdl.plot()"
   ]
  },
  {
   "cell_type": "code",
   "execution_count": 57,
   "id": "a2a9858a-8fce-42df-a551-72059e758965",
   "metadata": {
    "collapsed": true,
    "jupyter": {
     "outputs_hidden": true
    },
    "tags": []
   },
   "outputs": [
    {
     "data": {
      "text/html": [
       "<div>\n",
       "<style scoped>\n",
       "    .dataframe tbody tr th:only-of-type {\n",
       "        vertical-align: middle;\n",
       "    }\n",
       "\n",
       "    .dataframe tbody tr th {\n",
       "        vertical-align: top;\n",
       "    }\n",
       "\n",
       "    .dataframe thead th {\n",
       "        text-align: right;\n",
       "    }\n",
       "</style>\n",
       "<table border=\"1\" class=\"dataframe\">\n",
       "  <thead>\n",
       "    <tr style=\"text-align: right;\">\n",
       "      <th></th>\n",
       "      <th>street</th>\n",
       "      <th>Tipo_de_se</th>\n",
       "      <th>Clasificac</th>\n",
       "      <th>Clasifica0</th>\n",
       "      <th>geometry</th>\n",
       "    </tr>\n",
       "  </thead>\n",
       "  <tbody>\n",
       "    <tr>\n",
       "      <th>0</th>\n",
       "      <td>6</td>\n",
       "      <td>Complementaria</td>\n",
       "      <td>Rutas complementarias y otros servicios</td>\n",
       "      <td>Operando</td>\n",
       "      <td>LINESTRING (-103.38065 20.65310, -103.38065 20...</td>\n",
       "    </tr>\n",
       "    <tr>\n",
       "      <th>1</th>\n",
       "      <td>7</td>\n",
       "      <td>Complementaria</td>\n",
       "      <td>Rutas complementarias y otros servicios</td>\n",
       "      <td>Operando</td>\n",
       "      <td>LINESTRING (-103.38066 20.65270, -103.38066 20...</td>\n",
       "    </tr>\n",
       "    <tr>\n",
       "      <th>2</th>\n",
       "      <td>19</td>\n",
       "      <td>Complementaria</td>\n",
       "      <td>Rutas complementarias y otros servicios</td>\n",
       "      <td>Operando</td>\n",
       "      <td>LINESTRING (-103.38064 20.65343, -103.38064 20...</td>\n",
       "    </tr>\n",
       "    <tr>\n",
       "      <th>3</th>\n",
       "      <td>340</td>\n",
       "      <td>Complementaria</td>\n",
       "      <td>Rutas complementarias y otros servicios</td>\n",
       "      <td>Operando</td>\n",
       "      <td>LINESTRING (-103.38066 20.65092, -103.38066 20...</td>\n",
       "    </tr>\n",
       "    <tr>\n",
       "      <th>4</th>\n",
       "      <td>472</td>\n",
       "      <td>Complementaria</td>\n",
       "      <td>Rutas complementarias y otros servicios</td>\n",
       "      <td>Operando</td>\n",
       "      <td>LINESTRING (-103.38019 20.65733, -103.38011 20...</td>\n",
       "    </tr>\n",
       "    <tr>\n",
       "      <th>...</th>\n",
       "      <td>...</td>\n",
       "      <td>...</td>\n",
       "      <td>...</td>\n",
       "      <td>...</td>\n",
       "      <td>...</td>\n",
       "    </tr>\n",
       "    <tr>\n",
       "      <th>11694</th>\n",
       "      <td>3461</td>\n",
       "      <td>Complementaria</td>\n",
       "      <td>Rutas complementarias y otros servicios</td>\n",
       "      <td>Operando</td>\n",
       "      <td>LINESTRING (-103.35109 20.68804, -103.35108 20...</td>\n",
       "    </tr>\n",
       "    <tr>\n",
       "      <th>11695</th>\n",
       "      <td>1525</td>\n",
       "      <td>Complementaria</td>\n",
       "      <td>Rutas complementarias y otros servicios</td>\n",
       "      <td>Operando</td>\n",
       "      <td>LINESTRING (-103.34716 20.69291, -103.34687 20...</td>\n",
       "    </tr>\n",
       "    <tr>\n",
       "      <th>11696</th>\n",
       "      <td>1812</td>\n",
       "      <td>Complementaria</td>\n",
       "      <td>Rutas complementarias y otros servicios</td>\n",
       "      <td>Operando</td>\n",
       "      <td>LINESTRING (-103.35108 20.68887, -103.35108 20...</td>\n",
       "    </tr>\n",
       "    <tr>\n",
       "      <th>11697</th>\n",
       "      <td>1971</td>\n",
       "      <td>Complementaria</td>\n",
       "      <td>Rutas complementarias y otros servicios</td>\n",
       "      <td>Operando</td>\n",
       "      <td>LINESTRING (-103.35056 20.68900, -103.35049 20...</td>\n",
       "    </tr>\n",
       "    <tr>\n",
       "      <th>11698</th>\n",
       "      <td>3461</td>\n",
       "      <td>Complementaria</td>\n",
       "      <td>Rutas complementarias y otros servicios</td>\n",
       "      <td>Operando</td>\n",
       "      <td>LINESTRING (-103.35109 20.68804, -103.35108 20...</td>\n",
       "    </tr>\n",
       "  </tbody>\n",
       "</table>\n",
       "<p>11699 rows × 5 columns</p>\n",
       "</div>"
      ],
      "text/plain": [
       "       street      Tipo_de_se                               Clasificac  \\\n",
       "0           6  Complementaria  Rutas complementarias y otros servicios   \n",
       "1           7  Complementaria  Rutas complementarias y otros servicios   \n",
       "2          19  Complementaria  Rutas complementarias y otros servicios   \n",
       "3         340  Complementaria  Rutas complementarias y otros servicios   \n",
       "4         472  Complementaria  Rutas complementarias y otros servicios   \n",
       "...       ...             ...                                      ...   \n",
       "11694    3461  Complementaria  Rutas complementarias y otros servicios   \n",
       "11695    1525  Complementaria  Rutas complementarias y otros servicios   \n",
       "11696    1812  Complementaria  Rutas complementarias y otros servicios   \n",
       "11697    1971  Complementaria  Rutas complementarias y otros servicios   \n",
       "11698    3461  Complementaria  Rutas complementarias y otros servicios   \n",
       "\n",
       "      Clasifica0                                           geometry  \n",
       "0       Operando  LINESTRING (-103.38065 20.65310, -103.38065 20...  \n",
       "1       Operando  LINESTRING (-103.38066 20.65270, -103.38066 20...  \n",
       "2       Operando  LINESTRING (-103.38064 20.65343, -103.38064 20...  \n",
       "3       Operando  LINESTRING (-103.38066 20.65092, -103.38066 20...  \n",
       "4       Operando  LINESTRING (-103.38019 20.65733, -103.38011 20...  \n",
       "...          ...                                                ...  \n",
       "11694   Operando  LINESTRING (-103.35109 20.68804, -103.35108 20...  \n",
       "11695   Operando  LINESTRING (-103.34716 20.69291, -103.34687 20...  \n",
       "11696   Operando  LINESTRING (-103.35108 20.68887, -103.35108 20...  \n",
       "11697   Operando  LINESTRING (-103.35056 20.68900, -103.35049 20...  \n",
       "11698   Operando  LINESTRING (-103.35109 20.68804, -103.35108 20...  \n",
       "\n",
       "[11699 rows x 5 columns]"
      ]
     },
     "execution_count": 57,
     "metadata": {},
     "output_type": "execute_result"
    }
   ],
   "source": [
    "roads_buffer_10mgdf_st = roads_buffer_10mgdf_st.to_crs(\"EPSG:4326\")\n",
    "intersect_gdf = roads_buffer_10mgdf_st.overlay(routes_gdl, keep_geom_type=False)\n",
    "intersect_gdf"
   ]
  },
  {
   "cell_type": "markdown",
   "id": "77022e36-7d7e-467f-863a-078008020500",
   "metadata": {},
   "source": [
    "### Grouping routes by street number"
   ]
  },
  {
   "cell_type": "code",
   "execution_count": 83,
   "id": "b619354f-a69e-4cff-b963-05e7f3bdbb2d",
   "metadata": {},
   "outputs": [
    {
     "data": {
      "text/html": [
       "<div>\n",
       "<style scoped>\n",
       "    .dataframe tbody tr th:only-of-type {\n",
       "        vertical-align: middle;\n",
       "    }\n",
       "\n",
       "    .dataframe tbody tr th {\n",
       "        vertical-align: top;\n",
       "    }\n",
       "\n",
       "    .dataframe thead th {\n",
       "        text-align: right;\n",
       "    }\n",
       "</style>\n",
       "<table border=\"1\" class=\"dataframe\">\n",
       "  <thead>\n",
       "    <tr style=\"text-align: right;\">\n",
       "      <th></th>\n",
       "      <th>street</th>\n",
       "      <th>Tipo_de_se</th>\n",
       "      <th>Clasificac</th>\n",
       "      <th>Clasifica0</th>\n",
       "      <th>geometry</th>\n",
       "    </tr>\n",
       "  </thead>\n",
       "  <tbody>\n",
       "    <tr>\n",
       "      <th>0</th>\n",
       "      <td>6</td>\n",
       "      <td>Complementaria</td>\n",
       "      <td>Rutas complementarias y otros servicios</td>\n",
       "      <td>Operando</td>\n",
       "      <td>LINESTRING (-103.38065 20.65310, -103.38065 20...</td>\n",
       "    </tr>\n",
       "    <tr>\n",
       "      <th>1</th>\n",
       "      <td>7</td>\n",
       "      <td>Complementaria</td>\n",
       "      <td>Rutas complementarias y otros servicios</td>\n",
       "      <td>Operando</td>\n",
       "      <td>LINESTRING (-103.38066 20.65270, -103.38066 20...</td>\n",
       "    </tr>\n",
       "  </tbody>\n",
       "</table>\n",
       "</div>"
      ],
      "text/plain": [
       "   street      Tipo_de_se                               Clasificac Clasifica0  \\\n",
       "0       6  Complementaria  Rutas complementarias y otros servicios   Operando   \n",
       "1       7  Complementaria  Rutas complementarias y otros servicios   Operando   \n",
       "\n",
       "                                            geometry  \n",
       "0  LINESTRING (-103.38065 20.65310, -103.38065 20...  \n",
       "1  LINESTRING (-103.38066 20.65270, -103.38066 20...  "
      ]
     },
     "execution_count": 83,
     "metadata": {},
     "output_type": "execute_result"
    }
   ],
   "source": [
    "intersect_gdf.head(2)"
   ]
  },
  {
   "cell_type": "code",
   "execution_count": 91,
   "id": "e6bbd36f-6622-4f12-b57a-ef89fc4045c9",
   "metadata": {},
   "outputs": [
    {
     "name": "stdout",
     "output_type": "stream",
     "text": [
      "(1261, 2)\n"
     ]
    },
    {
     "data": {
      "text/html": [
       "<div>\n",
       "<style scoped>\n",
       "    .dataframe tbody tr th:only-of-type {\n",
       "        vertical-align: middle;\n",
       "    }\n",
       "\n",
       "    .dataframe tbody tr th {\n",
       "        vertical-align: top;\n",
       "    }\n",
       "\n",
       "    .dataframe thead th {\n",
       "        text-align: right;\n",
       "    }\n",
       "</style>\n",
       "<table border=\"1\" class=\"dataframe\">\n",
       "  <thead>\n",
       "    <tr style=\"text-align: right;\">\n",
       "      <th></th>\n",
       "      <th>street</th>\n",
       "      <th>routes_count</th>\n",
       "    </tr>\n",
       "  </thead>\n",
       "  <tbody>\n",
       "    <tr>\n",
       "      <th>0</th>\n",
       "      <td>6</td>\n",
       "      <td>10</td>\n",
       "    </tr>\n",
       "    <tr>\n",
       "      <th>1</th>\n",
       "      <td>7</td>\n",
       "      <td>10</td>\n",
       "    </tr>\n",
       "    <tr>\n",
       "      <th>2</th>\n",
       "      <td>10</td>\n",
       "      <td>24</td>\n",
       "    </tr>\n",
       "    <tr>\n",
       "      <th>3</th>\n",
       "      <td>11</td>\n",
       "      <td>2</td>\n",
       "    </tr>\n",
       "    <tr>\n",
       "      <th>4</th>\n",
       "      <td>12</td>\n",
       "      <td>6</td>\n",
       "    </tr>\n",
       "  </tbody>\n",
       "</table>\n",
       "</div>"
      ],
      "text/plain": [
       "   street  routes_count\n",
       "0       6            10\n",
       "1       7            10\n",
       "2      10            24\n",
       "3      11             2\n",
       "4      12             6"
      ]
     },
     "execution_count": 91,
     "metadata": {},
     "output_type": "execute_result"
    }
   ],
   "source": [
    "#Counting routes_count by street\n",
    "routes_bystreet = intersect_gdf.groupby('street').count()\n",
    "routes_bystreet = routes_bystreet.reset_index().rename(columns={'Tipo_de_se':'routes_count'})\n",
    "routes_bystreet_f = routes_bystreet[['street','routes_count']].copy()\n",
    "\n",
    "print(routes_bystreet_f.shape)\n",
    "routes_bystreet_f.head()"
   ]
  },
  {
   "cell_type": "code",
   "execution_count": 96,
   "id": "e0eb5124-6730-4208-9a96-1b2f223c70c6",
   "metadata": {},
   "outputs": [
    {
     "data": {
      "text/html": [
       "<div>\n",
       "<style scoped>\n",
       "    .dataframe tbody tr th:only-of-type {\n",
       "        vertical-align: middle;\n",
       "    }\n",
       "\n",
       "    .dataframe tbody tr th {\n",
       "        vertical-align: top;\n",
       "    }\n",
       "\n",
       "    .dataframe thead th {\n",
       "        text-align: right;\n",
       "    }\n",
       "</style>\n",
       "<table border=\"1\" class=\"dataframe\">\n",
       "  <thead>\n",
       "    <tr style=\"text-align: right;\">\n",
       "      <th></th>\n",
       "      <th>street</th>\n",
       "      <th>routes_count</th>\n",
       "      <th>geometry</th>\n",
       "    </tr>\n",
       "  </thead>\n",
       "  <tbody>\n",
       "    <tr>\n",
       "      <th>0</th>\n",
       "      <td>6</td>\n",
       "      <td>10</td>\n",
       "      <td>POLYGON ((-103.38238 20.65337, -103.38159 20.6...</td>\n",
       "    </tr>\n",
       "    <tr>\n",
       "      <th>1</th>\n",
       "      <td>7</td>\n",
       "      <td>10</td>\n",
       "      <td>POLYGON ((-103.38238 20.65299, -103.38061 20.6...</td>\n",
       "    </tr>\n",
       "  </tbody>\n",
       "</table>\n",
       "</div>"
      ],
      "text/plain": [
       "   street  routes_count                                           geometry\n",
       "0       6            10  POLYGON ((-103.38238 20.65337, -103.38159 20.6...\n",
       "1       7            10  POLYGON ((-103.38238 20.65299, -103.38061 20.6..."
      ]
     },
     "execution_count": 96,
     "metadata": {},
     "output_type": "execute_result"
    }
   ],
   "source": [
    "routes_bystreetgdf = routes_bystreet_f.merge(roads_buffer_10mgdf_st, on='street')\n",
    "#routes_bystreetgdf.setgeometry('geometry')\n",
    "routes_bystreetgdf.head(2)"
   ]
  },
  {
   "cell_type": "code",
   "execution_count": 94,
   "id": "b21e891a-c93e-4dd4-ad77-07d7aebdf84e",
   "metadata": {},
   "outputs": [
    {
     "data": {
      "text/plain": [
       "<AxesSubplot:>"
      ]
     },
     "execution_count": 94,
     "metadata": {},
     "output_type": "execute_result"
    },
    {
     "data": {
      "image/png": "[encoded data removed]",
      "text/plain": [
       "<Figure size 432x288 with 1 Axes>"
      ]
     },
     "metadata": {
      "needs_background": "light"
     },
     "output_type": "display_data"
    }
   ],
   "source": [
    "routes_bystreetgdf.plot()"
   ]
  },
  {
   "cell_type": "code",
   "execution_count": null,
   "id": "42f58582-4f37-4315-a5e7-7be49b479ff1",
   "metadata": {},
   "outputs": [],
   "source": []
  }
 ],
 "metadata": {
  "kernelspec": {
   "display_name": "Python 3 (ipykernel)",
   "language": "python",
   "name": "python3"
  },
  "language_info": {
   "codemirror_mode": {
    "name": "ipython",
    "version": 3
   },
   "file_extension": ".py",
   "mimetype": "text/x-python",
   "name": "python",
   "nbconvert_exporter": "python",
   "pygments_lexer": "ipython3",
   "version": "3.9.7"
  }
 },
 "nbformat": 4,
 "nbformat_minor": 5
}
