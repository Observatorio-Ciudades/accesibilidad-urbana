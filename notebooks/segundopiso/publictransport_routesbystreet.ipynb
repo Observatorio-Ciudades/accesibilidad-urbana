{
 "cells": [
  {
   "cell_type": "markdown",
   "id": "3da87688-dfb0-4d43-870d-3e474009a4a5",
   "metadata": {},
   "source": [
    "## Importing libraries"
   ]
  },
  {
   "cell_type": "code",
   "execution_count": 2,
   "id": "2dd4daf9-4b82-4d6d-9418-331e2688fc79",
   "metadata": {},
   "outputs": [
    {
     "name": "stdout",
     "output_type": "stream",
     "text": [
      "2023-03-02 17:01:07 Configured OSMnx 1.1.1\n",
      "2023-03-02 17:01:07 HTTP response caching is on\n"
     ]
    }
   ],
   "source": [
    "import os\n",
    "import sys\n",
    "\n",
    "import pandas as pd\n",
    "import geopandas as gpd\n",
    "import osmnx as ox\n",
    "import numpy as np\n",
    "import igraph as ig\n",
    "\n",
    "import matplotlib.pyplot as plt\n",
    "import seaborn as sns\n",
    "import folium\n",
    "\n",
    "import warnings\n",
    "warnings.simplefilter(action='ignore', category=FutureWarning)\n",
    "\n",
    "module_path = os.path.abspath(os.path.join('../../'))\n",
    "if module_path not in sys.path:\n",
    "    sys.path.append(module_path)\n",
    "    import aup"
   ]
  },
  {
   "cell_type": "markdown",
   "id": "3ae1a11e-d48f-4916-8897-e60bd17d7b7a",
   "metadata": {
    "tags": []
   },
   "source": [
    "## Loading dissolved roads from hex within 2km buffer"
   ]
  },
  {
   "cell_type": "code",
   "execution_count": 153,
   "id": "d77e844b-fde4-4d9c-8538-db391281edba",
   "metadata": {},
   "outputs": [
    {
     "data": {
      "text/plain": [
       "<AxesSubplot:>"
      ]
     },
     "execution_count": 153,
     "metadata": {},
     "output_type": "execute_result"
    },
    {
     "data": {
      "image/png": "[encoded data removed]",
      "text/plain": [
       "<Figure size 432x288 with 1 Axes>"
      ]
     },
     "metadata": {
      "needs_background": "light"
     },
     "output_type": "display_data"
    }
   ],
   "source": [
    "roads_2km  = gpd.read_file(\"../../data/external/db_segundopiso_temp/marcogeo_ejesviales_2km.gpkg\")\n",
    "roads_2km.plot()"
   ]
  },
  {
   "cell_type": "code",
   "execution_count": 154,
   "id": "47af22c1-f8de-4592-b94e-95bf16c500d2",
   "metadata": {},
   "outputs": [
    {
     "name": "stdout",
     "output_type": "stream",
     "text": [
      "(21389, 12)\n"
     ]
    },
    {
     "data": {
      "text/html": [
       "<div>\n",
       "<style scoped>\n",
       "    .dataframe tbody tr th:only-of-type {\n",
       "        vertical-align: middle;\n",
       "    }\n",
       "\n",
       "    .dataframe tbody tr th {\n",
       "        vertical-align: top;\n",
       "    }\n",
       "\n",
       "    .dataframe thead th {\n",
       "        text-align: right;\n",
       "    }\n",
       "</style>\n",
       "<table border=\"1\" class=\"dataframe\">\n",
       "  <thead>\n",
       "    <tr style=\"text-align: right;\">\n",
       "      <th></th>\n",
       "      <th>CVEGEO</th>\n",
       "      <th>CVE_ENT</th>\n",
       "      <th>CVE_MUN</th>\n",
       "      <th>CVE_LOC</th>\n",
       "      <th>CVEVIAL</th>\n",
       "      <th>CVESEG</th>\n",
       "      <th>NOMVIAL</th>\n",
       "      <th>TIPOVIAL</th>\n",
       "      <th>SENTIDO</th>\n",
       "      <th>TIPOSEN</th>\n",
       "      <th>AMBITO</th>\n",
       "      <th>geometry</th>\n",
       "    </tr>\n",
       "  </thead>\n",
       "  <tbody>\n",
       "    <tr>\n",
       "      <th>0</th>\n",
       "      <td>140390001</td>\n",
       "      <td>14</td>\n",
       "      <td>039</td>\n",
       "      <td>0001</td>\n",
       "      <td>03975</td>\n",
       "      <td>00007</td>\n",
       "      <td>Patria</td>\n",
       "      <td>Avenida</td>\n",
       "      <td>Dos sentidos</td>\n",
       "      <td>2</td>\n",
       "      <td>Urbana</td>\n",
       "      <td>MULTILINESTRING ((2356137.273 967663.731, 2356...</td>\n",
       "    </tr>\n",
       "    <tr>\n",
       "      <th>1</th>\n",
       "      <td>140390001</td>\n",
       "      <td>14</td>\n",
       "      <td>039</td>\n",
       "      <td>0001</td>\n",
       "      <td>03975</td>\n",
       "      <td>00008</td>\n",
       "      <td>Patria</td>\n",
       "      <td>Avenida</td>\n",
       "      <td>Dos sentidos</td>\n",
       "      <td>2</td>\n",
       "      <td>Urbana</td>\n",
       "      <td>MULTILINESTRING ((2356686.712 967789.121, 2356...</td>\n",
       "    </tr>\n",
       "  </tbody>\n",
       "</table>\n",
       "</div>"
      ],
      "text/plain": [
       "      CVEGEO CVE_ENT CVE_MUN CVE_LOC CVEVIAL CVESEG NOMVIAL TIPOVIAL  \\\n",
       "0  140390001      14     039    0001   03975  00007  Patria  Avenida   \n",
       "1  140390001      14     039    0001   03975  00008  Patria  Avenida   \n",
       "\n",
       "        SENTIDO  TIPOSEN  AMBITO  \\\n",
       "0  Dos sentidos        2  Urbana   \n",
       "1  Dos sentidos        2  Urbana   \n",
       "\n",
       "                                            geometry  \n",
       "0  MULTILINESTRING ((2356137.273 967663.731, 2356...  \n",
       "1  MULTILINESTRING ((2356686.712 967789.121, 2356...  "
      ]
     },
     "execution_count": 154,
     "metadata": {},
     "output_type": "execute_result"
    }
   ],
   "source": [
    "print(roads_2km.shape)\n",
    "roads_2km.head(2)"
   ]
  },
  {
   "cell_type": "code",
   "execution_count": 155,
   "id": "81ad0db3-f58c-4e1e-b347-76d3b90bdc83",
   "metadata": {},
   "outputs": [
    {
     "name": "stdout",
     "output_type": "stream",
     "text": [
      "(21389, 12)\n"
     ]
    },
    {
     "data": {
      "text/html": [
       "<div>\n",
       "<style scoped>\n",
       "    .dataframe tbody tr th:only-of-type {\n",
       "        vertical-align: middle;\n",
       "    }\n",
       "\n",
       "    .dataframe tbody tr th {\n",
       "        vertical-align: top;\n",
       "    }\n",
       "\n",
       "    .dataframe thead th {\n",
       "        text-align: right;\n",
       "    }\n",
       "</style>\n",
       "<table border=\"1\" class=\"dataframe\">\n",
       "  <thead>\n",
       "    <tr style=\"text-align: right;\">\n",
       "      <th></th>\n",
       "      <th>streetid</th>\n",
       "      <th>CVEGEO</th>\n",
       "      <th>CVE_ENT</th>\n",
       "      <th>CVE_MUN</th>\n",
       "      <th>CVE_LOC</th>\n",
       "      <th>CVEVIAL</th>\n",
       "      <th>CVESEG</th>\n",
       "      <th>NOMVIAL</th>\n",
       "      <th>TIPOVIAL</th>\n",
       "      <th>SENTIDO</th>\n",
       "      <th>TIPOSEN</th>\n",
       "      <th>AMBITO</th>\n",
       "      <th>geometry</th>\n",
       "    </tr>\n",
       "  </thead>\n",
       "  <tbody>\n",
       "    <tr>\n",
       "      <th>0</th>\n",
       "      <td>0</td>\n",
       "      <td>140390001</td>\n",
       "      <td>14</td>\n",
       "      <td>039</td>\n",
       "      <td>0001</td>\n",
       "      <td>03975</td>\n",
       "      <td>00007</td>\n",
       "      <td>Patria</td>\n",
       "      <td>Avenida</td>\n",
       "      <td>Dos sentidos</td>\n",
       "      <td>2</td>\n",
       "      <td>Urbana</td>\n",
       "      <td>MULTILINESTRING ((2356137.273 967663.731, 2356...</td>\n",
       "    </tr>\n",
       "    <tr>\n",
       "      <th>1</th>\n",
       "      <td>1</td>\n",
       "      <td>140390001</td>\n",
       "      <td>14</td>\n",
       "      <td>039</td>\n",
       "      <td>0001</td>\n",
       "      <td>03975</td>\n",
       "      <td>00008</td>\n",
       "      <td>Patria</td>\n",
       "      <td>Avenida</td>\n",
       "      <td>Dos sentidos</td>\n",
       "      <td>2</td>\n",
       "      <td>Urbana</td>\n",
       "      <td>MULTILINESTRING ((2356686.712 967789.121, 2356...</td>\n",
       "    </tr>\n",
       "  </tbody>\n",
       "</table>\n",
       "</div>"
      ],
      "text/plain": [
       "   streetid     CVEGEO CVE_ENT CVE_MUN CVE_LOC CVEVIAL CVESEG NOMVIAL  \\\n",
       "0         0  140390001      14     039    0001   03975  00007  Patria   \n",
       "1         1  140390001      14     039    0001   03975  00008  Patria   \n",
       "\n",
       "  TIPOVIAL       SENTIDO  TIPOSEN  AMBITO  \\\n",
       "0  Avenida  Dos sentidos        2  Urbana   \n",
       "1  Avenida  Dos sentidos        2  Urbana   \n",
       "\n",
       "                                            geometry  \n",
       "0  MULTILINESTRING ((2356137.273 967663.731, 2356...  \n",
       "1  MULTILINESTRING ((2356686.712 967789.121, 2356...  "
      ]
     },
     "execution_count": 155,
     "metadata": {},
     "output_type": "execute_result"
    }
   ],
   "source": [
    "## Saving unique street ID\n",
    "roads_2km_st = roads_2km.reset_index()\n",
    "roads_2km_st = roads_2km_st.rename(columns={'index':'streetid'})\n",
    "print(roads_2km.shape)\n",
    "roads_2km_st.head(2)"
   ]
  },
  {
   "cell_type": "markdown",
   "id": "d2ce16e6-083c-4ddf-81b5-fccafe35fd5f",
   "metadata": {},
   "source": [
    "## Generating public transport routes by street map"
   ]
  },
  {
   "cell_type": "markdown",
   "id": "a5ecae69-84bc-497f-a565-a9c96d4abea1",
   "metadata": {},
   "source": [
    "10m Buffer to streets"
   ]
  },
  {
   "cell_type": "code",
   "execution_count": 156,
   "id": "3fb1f237-92da-474c-8879-347fd61ff3c6",
   "metadata": {},
   "outputs": [
    {
     "data": {
      "text/plain": [
       "<AxesSubplot:>"
      ]
     },
     "execution_count": 156,
     "metadata": {},
     "output_type": "execute_result"
    },
    {
     "data": {
      "image/png": "[encoded data removed]",
      "text/plain": [
       "<Figure size 432x288 with 1 Axes>"
      ]
     },
     "metadata": {
      "needs_background": "light"
     },
     "output_type": "display_data"
    }
   ],
   "source": [
    "#Creating 10m buffer geometry on existing roads gdf\n",
    "roads_2km_st = roads_2km_st.to_crs(\"EPSG:6372\")\n",
    "buffered_roads_2km = roads_2km_st.copy()\n",
    "buffered_roads_2km['geometry'] = buffered_roads_2km.geometry.buffer(10)\n",
    "buffered_roads_2km = buffered_roads_2km.to_crs(\"EPSG:4326\")\n",
    "buffered_roads_2km.plot()"
   ]
  },
  {
   "cell_type": "code",
   "execution_count": 157,
   "id": "f1417e52-de3d-4ae5-a488-9a68faca60a2",
   "metadata": {},
   "outputs": [
    {
     "name": "stdout",
     "output_type": "stream",
     "text": [
      "(21389, 13)\n"
     ]
    },
    {
     "data": {
      "text/html": [
       "<div>\n",
       "<style scoped>\n",
       "    .dataframe tbody tr th:only-of-type {\n",
       "        vertical-align: middle;\n",
       "    }\n",
       "\n",
       "    .dataframe tbody tr th {\n",
       "        vertical-align: top;\n",
       "    }\n",
       "\n",
       "    .dataframe thead th {\n",
       "        text-align: right;\n",
       "    }\n",
       "</style>\n",
       "<table border=\"1\" class=\"dataframe\">\n",
       "  <thead>\n",
       "    <tr style=\"text-align: right;\">\n",
       "      <th></th>\n",
       "      <th>streetid</th>\n",
       "      <th>CVEGEO</th>\n",
       "      <th>CVE_ENT</th>\n",
       "      <th>CVE_MUN</th>\n",
       "      <th>CVE_LOC</th>\n",
       "      <th>CVEVIAL</th>\n",
       "      <th>CVESEG</th>\n",
       "      <th>NOMVIAL</th>\n",
       "      <th>TIPOVIAL</th>\n",
       "      <th>SENTIDO</th>\n",
       "      <th>TIPOSEN</th>\n",
       "      <th>AMBITO</th>\n",
       "      <th>geometry</th>\n",
       "    </tr>\n",
       "  </thead>\n",
       "  <tbody>\n",
       "    <tr>\n",
       "      <th>0</th>\n",
       "      <td>0</td>\n",
       "      <td>140390001</td>\n",
       "      <td>14</td>\n",
       "      <td>039</td>\n",
       "      <td>0001</td>\n",
       "      <td>03975</td>\n",
       "      <td>00007</td>\n",
       "      <td>Patria</td>\n",
       "      <td>Avenida</td>\n",
       "      <td>Dos sentidos</td>\n",
       "      <td>2</td>\n",
       "      <td>Urbana</td>\n",
       "      <td>POLYGON ((-103.38430 20.71069, -103.38217 20.7...</td>\n",
       "    </tr>\n",
       "    <tr>\n",
       "      <th>1</th>\n",
       "      <td>1</td>\n",
       "      <td>140390001</td>\n",
       "      <td>14</td>\n",
       "      <td>039</td>\n",
       "      <td>0001</td>\n",
       "      <td>03975</td>\n",
       "      <td>00008</td>\n",
       "      <td>Patria</td>\n",
       "      <td>Avenida</td>\n",
       "      <td>Dos sentidos</td>\n",
       "      <td>2</td>\n",
       "      <td>Urbana</td>\n",
       "      <td>POLYGON ((-103.38060 20.71130, -103.38059 20.7...</td>\n",
       "    </tr>\n",
       "  </tbody>\n",
       "</table>\n",
       "</div>"
      ],
      "text/plain": [
       "   streetid     CVEGEO CVE_ENT CVE_MUN CVE_LOC CVEVIAL CVESEG NOMVIAL  \\\n",
       "0         0  140390001      14     039    0001   03975  00007  Patria   \n",
       "1         1  140390001      14     039    0001   03975  00008  Patria   \n",
       "\n",
       "  TIPOVIAL       SENTIDO  TIPOSEN  AMBITO  \\\n",
       "0  Avenida  Dos sentidos        2  Urbana   \n",
       "1  Avenida  Dos sentidos        2  Urbana   \n",
       "\n",
       "                                            geometry  \n",
       "0  POLYGON ((-103.38430 20.71069, -103.38217 20.7...  \n",
       "1  POLYGON ((-103.38060 20.71130, -103.38059 20.7...  "
      ]
     },
     "execution_count": 157,
     "metadata": {},
     "output_type": "execute_result"
    }
   ],
   "source": [
    "print(buffered_roads_2km.shape)\n",
    "buffered_roads_2km.head(2)"
   ]
  },
  {
   "cell_type": "markdown",
   "id": "b8b03400-43dd-4c14-8b86-cb5989d69497",
   "metadata": {},
   "source": [
    "### Intersection of GDL Public routes with buffered streets"
   ]
  },
  {
   "cell_type": "code",
   "execution_count": 158,
   "id": "d2d53e57-830c-4339-8acd-214eb55c19a7",
   "metadata": {},
   "outputs": [
    {
     "data": {
      "text/plain": [
       "<AxesSubplot:>"
      ]
     },
     "execution_count": 158,
     "metadata": {},
     "output_type": "execute_result"
    },
    {
     "data": {
      "image/png": "[encoded data removed]",
      "text/plain": [
       "<Figure size 432x288 with 1 Axes>"
      ]
     },
     "metadata": {
      "needs_background": "light"
     },
     "output_type": "display_data"
    }
   ],
   "source": [
    "routes_gdl  = gpd.read_file(\"../../data/external/db_segundopiso_temp/rutastransporte_gdl.gpkg\")\n",
    "routes_gdl.plot()"
   ]
  },
  {
   "cell_type": "code",
   "execution_count": 159,
   "id": "9cf21475-d3d9-46ac-b144-6c4b15b1a697",
   "metadata": {},
   "outputs": [
    {
     "name": "stdout",
     "output_type": "stream",
     "text": [
      "(449, 4)\n"
     ]
    },
    {
     "data": {
      "text/html": [
       "<div>\n",
       "<style scoped>\n",
       "    .dataframe tbody tr th:only-of-type {\n",
       "        vertical-align: middle;\n",
       "    }\n",
       "\n",
       "    .dataframe tbody tr th {\n",
       "        vertical-align: top;\n",
       "    }\n",
       "\n",
       "    .dataframe thead th {\n",
       "        text-align: right;\n",
       "    }\n",
       "</style>\n",
       "<table border=\"1\" class=\"dataframe\">\n",
       "  <thead>\n",
       "    <tr style=\"text-align: right;\">\n",
       "      <th></th>\n",
       "      <th>Tipo_de_se</th>\n",
       "      <th>Clasificac</th>\n",
       "      <th>Clasifica0</th>\n",
       "      <th>geometry</th>\n",
       "    </tr>\n",
       "  </thead>\n",
       "  <tbody>\n",
       "    <tr>\n",
       "      <th>0</th>\n",
       "      <td>Complementaria</td>\n",
       "      <td>Rutas complementarias y otros servicios</td>\n",
       "      <td>Operando</td>\n",
       "      <td>MULTILINESTRING ((-103.28542 20.61928, -103.28...</td>\n",
       "    </tr>\n",
       "    <tr>\n",
       "      <th>1</th>\n",
       "      <td>Complementaria</td>\n",
       "      <td>Rutas complementarias y otros servicios</td>\n",
       "      <td>Operando</td>\n",
       "      <td>MULTILINESTRING ((-103.25951 20.68500, -103.25...</td>\n",
       "    </tr>\n",
       "  </tbody>\n",
       "</table>\n",
       "</div>"
      ],
      "text/plain": [
       "       Tipo_de_se                               Clasificac Clasifica0  \\\n",
       "0  Complementaria  Rutas complementarias y otros servicios   Operando   \n",
       "1  Complementaria  Rutas complementarias y otros servicios   Operando   \n",
       "\n",
       "                                            geometry  \n",
       "0  MULTILINESTRING ((-103.28542 20.61928, -103.28...  \n",
       "1  MULTILINESTRING ((-103.25951 20.68500, -103.25...  "
      ]
     },
     "execution_count": 159,
     "metadata": {},
     "output_type": "execute_result"
    }
   ],
   "source": [
    "print(routes_gdl.shape)\n",
    "routes_gdl.head(2)"
   ]
  },
  {
   "cell_type": "markdown",
   "id": "2dd01d23-35f4-442b-bd83-0d8001a3c7b9",
   "metadata": {},
   "source": [
    "Intersecting routes over buffered roads"
   ]
  },
  {
   "cell_type": "code",
   "execution_count": 160,
   "id": "a2a9858a-8fce-42df-a551-72059e758965",
   "metadata": {
    "tags": []
   },
   "outputs": [],
   "source": [
    "intersect_gdf = gpd.overlay(buffered_roads_2km,routes_gdl,keep_geom_type=False)"
   ]
  },
  {
   "cell_type": "code",
   "execution_count": 161,
   "id": "d694a0b5-927e-437f-9d58-26dda62b50e9",
   "metadata": {},
   "outputs": [
    {
     "name": "stdout",
     "output_type": "stream",
     "text": [
      "(30930, 4)\n"
     ]
    },
    {
     "data": {
      "text/html": [
       "<div>\n",
       "<style scoped>\n",
       "    .dataframe tbody tr th:only-of-type {\n",
       "        vertical-align: middle;\n",
       "    }\n",
       "\n",
       "    .dataframe tbody tr th {\n",
       "        vertical-align: top;\n",
       "    }\n",
       "\n",
       "    .dataframe thead th {\n",
       "        text-align: right;\n",
       "    }\n",
       "</style>\n",
       "<table border=\"1\" class=\"dataframe\">\n",
       "  <thead>\n",
       "    <tr style=\"text-align: right;\">\n",
       "      <th></th>\n",
       "      <th>Tipo_de_se</th>\n",
       "      <th>Clasificac</th>\n",
       "      <th>Clasifica0</th>\n",
       "      <th>streetid</th>\n",
       "    </tr>\n",
       "  </thead>\n",
       "  <tbody>\n",
       "    <tr>\n",
       "      <th>0</th>\n",
       "      <td>Complementaria</td>\n",
       "      <td>Rutas complementarias y otros servicios</td>\n",
       "      <td>Operando</td>\n",
       "      <td>0</td>\n",
       "    </tr>\n",
       "    <tr>\n",
       "      <th>1</th>\n",
       "      <td>Complementaria</td>\n",
       "      <td>Rutas complementarias y otros servicios</td>\n",
       "      <td>Operando</td>\n",
       "      <td>10</td>\n",
       "    </tr>\n",
       "  </tbody>\n",
       "</table>\n",
       "</div>"
      ],
      "text/plain": [
       "       Tipo_de_se                               Clasificac Clasifica0  \\\n",
       "0  Complementaria  Rutas complementarias y otros servicios   Operando   \n",
       "1  Complementaria  Rutas complementarias y otros servicios   Operando   \n",
       "\n",
       "   streetid  \n",
       "0         0  \n",
       "1        10  "
      ]
     },
     "execution_count": 161,
     "metadata": {},
     "output_type": "execute_result"
    }
   ],
   "source": [
    "fields_tokeep = ['Tipo_de_se','Clasificac','Clasifica0','streetid']\n",
    "intersect_gdf = intersect_gdf[fields_tokeep]\n",
    "print(intersect_gdf.shape)\n",
    "intersect_gdf.head(2)"
   ]
  },
  {
   "cell_type": "markdown",
   "id": "77022e36-7d7e-467f-863a-078008020500",
   "metadata": {},
   "source": [
    "### Grouping routes by street number and joining with original street geo"
   ]
  },
  {
   "cell_type": "code",
   "execution_count": 162,
   "id": "e6bbd36f-6622-4f12-b57a-ef89fc4045c9",
   "metadata": {},
   "outputs": [
    {
     "name": "stdout",
     "output_type": "stream",
     "text": [
      "(5311, 2)\n"
     ]
    },
    {
     "data": {
      "text/html": [
       "<div>\n",
       "<style scoped>\n",
       "    .dataframe tbody tr th:only-of-type {\n",
       "        vertical-align: middle;\n",
       "    }\n",
       "\n",
       "    .dataframe tbody tr th {\n",
       "        vertical-align: top;\n",
       "    }\n",
       "\n",
       "    .dataframe thead th {\n",
       "        text-align: right;\n",
       "    }\n",
       "</style>\n",
       "<table border=\"1\" class=\"dataframe\">\n",
       "  <thead>\n",
       "    <tr style=\"text-align: right;\">\n",
       "      <th></th>\n",
       "      <th>streetid</th>\n",
       "      <th>routes_count</th>\n",
       "    </tr>\n",
       "  </thead>\n",
       "  <tbody>\n",
       "    <tr>\n",
       "      <th>0</th>\n",
       "      <td>0</td>\n",
       "      <td>4</td>\n",
       "    </tr>\n",
       "    <tr>\n",
       "      <th>1</th>\n",
       "      <td>1</td>\n",
       "      <td>2</td>\n",
       "    </tr>\n",
       "    <tr>\n",
       "      <th>2</th>\n",
       "      <td>4</td>\n",
       "      <td>14</td>\n",
       "    </tr>\n",
       "    <tr>\n",
       "      <th>3</th>\n",
       "      <td>5</td>\n",
       "      <td>18</td>\n",
       "    </tr>\n",
       "    <tr>\n",
       "      <th>4</th>\n",
       "      <td>6</td>\n",
       "      <td>2</td>\n",
       "    </tr>\n",
       "  </tbody>\n",
       "</table>\n",
       "</div>"
      ],
      "text/plain": [
       "   streetid  routes_count\n",
       "0         0             4\n",
       "1         1             2\n",
       "2         4            14\n",
       "3         5            18\n",
       "4         6             2"
      ]
     },
     "execution_count": 162,
     "metadata": {},
     "output_type": "execute_result"
    }
   ],
   "source": [
    "#Counting routes_count by street\n",
    "routes_bystreet = intersect_gdf.groupby('streetid').count()\n",
    "routes_bystreet = routes_bystreet.reset_index().rename(columns={'Tipo_de_se':'routes_count'})\n",
    "routes_bystreet_f = routes_bystreet[['streetid','routes_count']].copy()\n",
    "\n",
    "print(routes_bystreet_f.shape)\n",
    "routes_bystreet_f.head()"
   ]
  },
  {
   "cell_type": "code",
   "execution_count": 163,
   "id": "e0eb5124-6730-4208-9a96-1b2f223c70c6",
   "metadata": {},
   "outputs": [
    {
     "data": {
      "text/html": [
       "<div>\n",
       "<style scoped>\n",
       "    .dataframe tbody tr th:only-of-type {\n",
       "        vertical-align: middle;\n",
       "    }\n",
       "\n",
       "    .dataframe tbody tr th {\n",
       "        vertical-align: top;\n",
       "    }\n",
       "\n",
       "    .dataframe thead th {\n",
       "        text-align: right;\n",
       "    }\n",
       "</style>\n",
       "<table border=\"1\" class=\"dataframe\">\n",
       "  <thead>\n",
       "    <tr style=\"text-align: right;\">\n",
       "      <th></th>\n",
       "      <th>streetid</th>\n",
       "      <th>CVEGEO</th>\n",
       "      <th>CVE_ENT</th>\n",
       "      <th>CVE_MUN</th>\n",
       "      <th>CVE_LOC</th>\n",
       "      <th>CVEVIAL</th>\n",
       "      <th>CVESEG</th>\n",
       "      <th>NOMVIAL</th>\n",
       "      <th>TIPOVIAL</th>\n",
       "      <th>SENTIDO</th>\n",
       "      <th>TIPOSEN</th>\n",
       "      <th>AMBITO</th>\n",
       "      <th>geometry</th>\n",
       "      <th>routes_count</th>\n",
       "    </tr>\n",
       "  </thead>\n",
       "  <tbody>\n",
       "    <tr>\n",
       "      <th>0</th>\n",
       "      <td>0</td>\n",
       "      <td>140390001</td>\n",
       "      <td>14</td>\n",
       "      <td>039</td>\n",
       "      <td>0001</td>\n",
       "      <td>03975</td>\n",
       "      <td>00007</td>\n",
       "      <td>Patria</td>\n",
       "      <td>Avenida</td>\n",
       "      <td>Dos sentidos</td>\n",
       "      <td>2</td>\n",
       "      <td>Urbana</td>\n",
       "      <td>MULTILINESTRING ((2356137.273 967663.731, 2356...</td>\n",
       "      <td>4.0</td>\n",
       "    </tr>\n",
       "    <tr>\n",
       "      <th>1</th>\n",
       "      <td>1</td>\n",
       "      <td>140390001</td>\n",
       "      <td>14</td>\n",
       "      <td>039</td>\n",
       "      <td>0001</td>\n",
       "      <td>03975</td>\n",
       "      <td>00008</td>\n",
       "      <td>Patria</td>\n",
       "      <td>Avenida</td>\n",
       "      <td>Dos sentidos</td>\n",
       "      <td>2</td>\n",
       "      <td>Urbana</td>\n",
       "      <td>MULTILINESTRING ((2356686.712 967789.121, 2356...</td>\n",
       "      <td>2.0</td>\n",
       "    </tr>\n",
       "    <tr>\n",
       "      <th>2</th>\n",
       "      <td>2</td>\n",
       "      <td>140390001</td>\n",
       "      <td>14</td>\n",
       "      <td>039</td>\n",
       "      <td>0001</td>\n",
       "      <td>03149</td>\n",
       "      <td>00001</td>\n",
       "      <td>Francisco Seles</td>\n",
       "      <td>Privada</td>\n",
       "      <td>Dos sentidos</td>\n",
       "      <td>2</td>\n",
       "      <td>Urbana</td>\n",
       "      <td>MULTILINESTRING ((2355206.594 961653.772, 2355...</td>\n",
       "      <td>0.0</td>\n",
       "    </tr>\n",
       "    <tr>\n",
       "      <th>3</th>\n",
       "      <td>3</td>\n",
       "      <td>140390001</td>\n",
       "      <td>14</td>\n",
       "      <td>039</td>\n",
       "      <td>0001</td>\n",
       "      <td>00184</td>\n",
       "      <td>00003</td>\n",
       "      <td>Teatro de la República</td>\n",
       "      <td>Calle</td>\n",
       "      <td>Un sentido</td>\n",
       "      <td>1</td>\n",
       "      <td>Urbana</td>\n",
       "      <td>MULTILINESTRING ((2354375.691 964530.075, 2354...</td>\n",
       "      <td>0.0</td>\n",
       "    </tr>\n",
       "    <tr>\n",
       "      <th>4</th>\n",
       "      <td>4</td>\n",
       "      <td>140390001</td>\n",
       "      <td>14</td>\n",
       "      <td>039</td>\n",
       "      <td>0001</td>\n",
       "      <td>04035</td>\n",
       "      <td>00002</td>\n",
       "      <td>Fray Antonio Alcalde</td>\n",
       "      <td>Avenida</td>\n",
       "      <td>Dos sentidos</td>\n",
       "      <td>2</td>\n",
       "      <td>Urbana</td>\n",
       "      <td>MULTILINESTRING ((2360249.160 966974.827, 2360...</td>\n",
       "      <td>14.0</td>\n",
       "    </tr>\n",
       "    <tr>\n",
       "      <th>...</th>\n",
       "      <td>...</td>\n",
       "      <td>...</td>\n",
       "      <td>...</td>\n",
       "      <td>...</td>\n",
       "      <td>...</td>\n",
       "      <td>...</td>\n",
       "      <td>...</td>\n",
       "      <td>...</td>\n",
       "      <td>...</td>\n",
       "      <td>...</td>\n",
       "      <td>...</td>\n",
       "      <td>...</td>\n",
       "      <td>...</td>\n",
       "      <td>...</td>\n",
       "    </tr>\n",
       "    <tr>\n",
       "      <th>21384</th>\n",
       "      <td>21384</td>\n",
       "      <td>141200001</td>\n",
       "      <td>14</td>\n",
       "      <td>120</td>\n",
       "      <td>0001</td>\n",
       "      <td>18519</td>\n",
       "      <td>00001</td>\n",
       "      <td>Ninguno</td>\n",
       "      <td>Calle</td>\n",
       "      <td>Dos sentidos</td>\n",
       "      <td>2</td>\n",
       "      <td>Urbana</td>\n",
       "      <td>MULTILINESTRING ((2352508.763 955622.952, 2352...</td>\n",
       "      <td>0.0</td>\n",
       "    </tr>\n",
       "    <tr>\n",
       "      <th>21385</th>\n",
       "      <td>21385</td>\n",
       "      <td>141200001</td>\n",
       "      <td>14</td>\n",
       "      <td>120</td>\n",
       "      <td>0001</td>\n",
       "      <td>18517</td>\n",
       "      <td>00002</td>\n",
       "      <td>Lázaro Cárdenas</td>\n",
       "      <td>Calle</td>\n",
       "      <td>Dos sentidos</td>\n",
       "      <td>2</td>\n",
       "      <td>Urbana</td>\n",
       "      <td>MULTILINESTRING ((2352340.473 955652.437, 2352...</td>\n",
       "      <td>0.0</td>\n",
       "    </tr>\n",
       "    <tr>\n",
       "      <th>21386</th>\n",
       "      <td>21386</td>\n",
       "      <td>141200001</td>\n",
       "      <td>14</td>\n",
       "      <td>120</td>\n",
       "      <td>0001</td>\n",
       "      <td>18517</td>\n",
       "      <td>00001</td>\n",
       "      <td>Lázaro Cárdenas</td>\n",
       "      <td>Calle</td>\n",
       "      <td>Dos sentidos</td>\n",
       "      <td>2</td>\n",
       "      <td>Urbana</td>\n",
       "      <td>MULTILINESTRING ((2352230.071 955640.523, 2352...</td>\n",
       "      <td>0.0</td>\n",
       "    </tr>\n",
       "    <tr>\n",
       "      <th>21387</th>\n",
       "      <td>21387</td>\n",
       "      <td>141200001</td>\n",
       "      <td>14</td>\n",
       "      <td>120</td>\n",
       "      <td>0001</td>\n",
       "      <td>10634</td>\n",
       "      <td>00003</td>\n",
       "      <td>San Juan Diego</td>\n",
       "      <td>Calle</td>\n",
       "      <td>Dos sentidos</td>\n",
       "      <td>2</td>\n",
       "      <td>Urbana</td>\n",
       "      <td>MULTILINESTRING ((2352485.585 954177.700, 2352...</td>\n",
       "      <td>0.0</td>\n",
       "    </tr>\n",
       "    <tr>\n",
       "      <th>21388</th>\n",
       "      <td>21388</td>\n",
       "      <td>141200001</td>\n",
       "      <td>14</td>\n",
       "      <td>120</td>\n",
       "      <td>0001</td>\n",
       "      <td>10634</td>\n",
       "      <td>00004</td>\n",
       "      <td>San Juan Diego</td>\n",
       "      <td>Calle</td>\n",
       "      <td>Dos sentidos</td>\n",
       "      <td>2</td>\n",
       "      <td>Urbana</td>\n",
       "      <td>MULTILINESTRING ((2352428.874 954170.532, 2352...</td>\n",
       "      <td>0.0</td>\n",
       "    </tr>\n",
       "  </tbody>\n",
       "</table>\n",
       "<p>21389 rows × 14 columns</p>\n",
       "</div>"
      ],
      "text/plain": [
       "       streetid     CVEGEO CVE_ENT CVE_MUN CVE_LOC CVEVIAL CVESEG  \\\n",
       "0             0  140390001      14     039    0001   03975  00007   \n",
       "1             1  140390001      14     039    0001   03975  00008   \n",
       "2             2  140390001      14     039    0001   03149  00001   \n",
       "3             3  140390001      14     039    0001   00184  00003   \n",
       "4             4  140390001      14     039    0001   04035  00002   \n",
       "...         ...        ...     ...     ...     ...     ...    ...   \n",
       "21384     21384  141200001      14     120    0001   18519  00001   \n",
       "21385     21385  141200001      14     120    0001   18517  00002   \n",
       "21386     21386  141200001      14     120    0001   18517  00001   \n",
       "21387     21387  141200001      14     120    0001   10634  00003   \n",
       "21388     21388  141200001      14     120    0001   10634  00004   \n",
       "\n",
       "                      NOMVIAL TIPOVIAL       SENTIDO  TIPOSEN  AMBITO  \\\n",
       "0                      Patria  Avenida  Dos sentidos        2  Urbana   \n",
       "1                      Patria  Avenida  Dos sentidos        2  Urbana   \n",
       "2             Francisco Seles  Privada  Dos sentidos        2  Urbana   \n",
       "3      Teatro de la República    Calle    Un sentido        1  Urbana   \n",
       "4        Fray Antonio Alcalde  Avenida  Dos sentidos        2  Urbana   \n",
       "...                       ...      ...           ...      ...     ...   \n",
       "21384                 Ninguno    Calle  Dos sentidos        2  Urbana   \n",
       "21385         Lázaro Cárdenas    Calle  Dos sentidos        2  Urbana   \n",
       "21386         Lázaro Cárdenas    Calle  Dos sentidos        2  Urbana   \n",
       "21387          San Juan Diego    Calle  Dos sentidos        2  Urbana   \n",
       "21388          San Juan Diego    Calle  Dos sentidos        2  Urbana   \n",
       "\n",
       "                                                geometry  routes_count  \n",
       "0      MULTILINESTRING ((2356137.273 967663.731, 2356...           4.0  \n",
       "1      MULTILINESTRING ((2356686.712 967789.121, 2356...           2.0  \n",
       "2      MULTILINESTRING ((2355206.594 961653.772, 2355...           0.0  \n",
       "3      MULTILINESTRING ((2354375.691 964530.075, 2354...           0.0  \n",
       "4      MULTILINESTRING ((2360249.160 966974.827, 2360...          14.0  \n",
       "...                                                  ...           ...  \n",
       "21384  MULTILINESTRING ((2352508.763 955622.952, 2352...           0.0  \n",
       "21385  MULTILINESTRING ((2352340.473 955652.437, 2352...           0.0  \n",
       "21386  MULTILINESTRING ((2352230.071 955640.523, 2352...           0.0  \n",
       "21387  MULTILINESTRING ((2352485.585 954177.700, 2352...           0.0  \n",
       "21388  MULTILINESTRING ((2352428.874 954170.532, 2352...           0.0  \n",
       "\n",
       "[21389 rows x 14 columns]"
      ]
     },
     "execution_count": 163,
     "metadata": {},
     "output_type": "execute_result"
    }
   ],
   "source": [
    "# Joining with original roads_2km_st geometry\n",
    "routes_bystreetgdf = pd.merge(roads_2km_st,routes_bystreet_f, on='streetid',how='outer')\n",
    "\n",
    "#Finding None values in 'routes_count' and changing them to 0\n",
    "#Boolean mask\n",
    "idx = routes_bystreetgdf['routes_count'].isna()\n",
    "#Change where boolean mask\n",
    "routes_bystreetgdf.loc[idx, 'routes_count'] = 0\n",
    "\n",
    "\n",
    "routes_bystreetgdf = gpd.GeoDataFrame(routes_bystreetgdf, geometry='geometry')\n",
    "routes_bystreetgdf"
   ]
  },
  {
   "cell_type": "code",
   "execution_count": 164,
   "id": "b21e891a-c93e-4dd4-ad77-07d7aebdf84e",
   "metadata": {},
   "outputs": [
    {
     "data": {
      "text/plain": [
       "<AxesSubplot:>"
      ]
     },
     "execution_count": 164,
     "metadata": {},
     "output_type": "execute_result"
    },
    {
     "data": {
      "image/png": "[encoded data removed]",
      "text/plain": [
       "<Figure size 432x288 with 1 Axes>"
      ]
     },
     "metadata": {
      "needs_background": "light"
     },
     "output_type": "display_data"
    }
   ],
   "source": [
    "routes_bystreetgdf = routes_bystreetgdf.to_crs(\"EPSG:4326\")\n",
    "routes_bystreetgdf.plot()"
   ]
  },
  {
   "cell_type": "markdown",
   "id": "45ba68c5-37b3-4c9c-bb1d-a4b41c1af7f8",
   "metadata": {},
   "source": [
    "## Saving to db."
   ]
  },
  {
   "cell_type": "code",
   "execution_count": 165,
   "id": "767c7e31-0703-41ee-a8bf-6a2faee45ebd",
   "metadata": {},
   "outputs": [],
   "source": [
    "aup.gdf_to_db_slow(routes_bystreetgdf,'rutastransporte_2km_bystreet','segundopiso',if_exists=\"replace\")"
   ]
  },
  {
   "cell_type": "code",
   "execution_count": null,
   "id": "4e429837-73d5-42c7-a181-cc1785bdd771",
   "metadata": {},
   "outputs": [],
   "source": []
  }
 ],
 "metadata": {
  "kernelspec": {
   "display_name": "Python 3 (ipykernel)",
   "language": "python",
   "name": "python3"
  },
  "language_info": {
   "codemirror_mode": {
    "name": "ipython",
    "version": 3
   },
   "file_extension": ".py",
   "mimetype": "text/x-python",
   "name": "python",
   "nbconvert_exporter": "python",
   "pygments_lexer": "ipython3",
   "version": "3.9.7"
  }
 },
 "nbformat": 4,
 "nbformat_minor": 5
}
