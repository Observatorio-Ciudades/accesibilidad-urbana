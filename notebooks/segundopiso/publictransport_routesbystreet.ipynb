{
 "cells": [
  {
   "cell_type": "markdown",
   "id": "881c7072-e00c-4f52-a4d2-3d59a773b66a",
   "metadata": {},
   "source": [
    "This notebook counts (or at least attempts to count) the number of public transport routes by street.\n",
    "\n",
    "1. Take the steet data from Marco Geoestadístico within a 2km buffer from López Mateos and assign unique Street ID\n",
    "2. Create 10m buffer around each street\n",
    "3. Intersect public transport routes with buffer within the route goes through\n",
    "4. Delete falsly associated bus lines (cross/barely touch buffer)\n",
    "5. Group bus lines by Street ID to count #bus lines by street"
   ]
  },
  {
   "cell_type": "markdown",
   "id": "3da87688-dfb0-4d43-870d-3e474009a4a5",
   "metadata": {},
   "source": [
    "## Importing libraries"
   ]
  },
  {
   "cell_type": "code",
   "execution_count": 80,
   "id": "2dd4daf9-4b82-4d6d-9418-331e2688fc79",
   "metadata": {},
   "outputs": [],
   "source": [
    "import os\n",
    "import sys\n",
    "\n",
    "import pandas as pd\n",
    "import geopandas as gpd\n",
    "import osmnx as ox\n",
    "import numpy as np\n",
    "import igraph as ig\n",
    "\n",
    "import matplotlib.pyplot as plt\n",
    "import seaborn as sns\n",
    "import folium\n",
    "\n",
    "import warnings\n",
    "warnings.simplefilter(action='ignore', category=FutureWarning)\n",
    "\n",
    "module_path = os.path.abspath(os.path.join('../../'))\n",
    "if module_path not in sys.path:\n",
    "    sys.path.append(module_path)\n",
    "    import aup"
   ]
  },
  {
   "cell_type": "markdown",
   "id": "3ae1a11e-d48f-4916-8897-e60bd17d7b7a",
   "metadata": {
    "tags": []
   },
   "source": [
    "## Roads from hex within 2km buffer data"
   ]
  },
  {
   "cell_type": "code",
   "execution_count": 82,
   "id": "d77e844b-fde4-4d9c-8538-db391281edba",
   "metadata": {},
   "outputs": [
    {
     "data": {
      "text/plain": [
       "<AxesSubplot:>"
      ]
     },
     "execution_count": 82,
     "metadata": {},
     "output_type": "execute_result"
    },
    {
     "data": {
      "image/png": "[encoded data removed]",
      "text/plain": [
       "<Figure size 432x288 with 1 Axes>"
      ]
     },
     "metadata": {
      "needs_background": "light"
     },
     "output_type": "display_data"
    }
   ],
   "source": [
    "roads_2km  = gpd.read_file(\"../../data/external/db_segundopiso_temp/marcogeo_ejesviales2km.gpkg\")\n",
    "roads_2km.plot()"
   ]
  },
  {
   "cell_type": "code",
   "execution_count": 83,
   "id": "47af22c1-f8de-4592-b94e-95bf16c500d2",
   "metadata": {},
   "outputs": [
    {
     "name": "stdout",
     "output_type": "stream",
     "text": [
      "(19887, 12)\n"
     ]
    },
    {
     "data": {
      "text/html": [
       "<div>\n",
       "<style scoped>\n",
       "    .dataframe tbody tr th:only-of-type {\n",
       "        vertical-align: middle;\n",
       "    }\n",
       "\n",
       "    .dataframe tbody tr th {\n",
       "        vertical-align: top;\n",
       "    }\n",
       "\n",
       "    .dataframe thead th {\n",
       "        text-align: right;\n",
       "    }\n",
       "</style>\n",
       "<table border=\"1\" class=\"dataframe\">\n",
       "  <thead>\n",
       "    <tr style=\"text-align: right;\">\n",
       "      <th></th>\n",
       "      <th>CVEGEO</th>\n",
       "      <th>CVE_ENT</th>\n",
       "      <th>CVE_MUN</th>\n",
       "      <th>CVE_LOC</th>\n",
       "      <th>CVEVIAL</th>\n",
       "      <th>CVESEG</th>\n",
       "      <th>NOMVIAL</th>\n",
       "      <th>TIPOVIAL</th>\n",
       "      <th>SENTIDO</th>\n",
       "      <th>TIPOSEN</th>\n",
       "      <th>AMBITO</th>\n",
       "      <th>geometry</th>\n",
       "    </tr>\n",
       "  </thead>\n",
       "  <tbody>\n",
       "    <tr>\n",
       "      <th>0</th>\n",
       "      <td>140390001</td>\n",
       "      <td>14</td>\n",
       "      <td>039</td>\n",
       "      <td>0001</td>\n",
       "      <td>03975</td>\n",
       "      <td>00007</td>\n",
       "      <td>Patria</td>\n",
       "      <td>Avenida</td>\n",
       "      <td>Dos sentidos</td>\n",
       "      <td>2</td>\n",
       "      <td>Urbana</td>\n",
       "      <td>MULTILINESTRING ((-103.38442 20.71058, -103.38...</td>\n",
       "    </tr>\n",
       "    <tr>\n",
       "      <th>1</th>\n",
       "      <td>140390001</td>\n",
       "      <td>14</td>\n",
       "      <td>039</td>\n",
       "      <td>0001</td>\n",
       "      <td>03975</td>\n",
       "      <td>00008</td>\n",
       "      <td>Patria</td>\n",
       "      <td>Avenida</td>\n",
       "      <td>Dos sentidos</td>\n",
       "      <td>2</td>\n",
       "      <td>Urbana</td>\n",
       "      <td>MULTILINESTRING ((-103.38166 20.71126, -103.38...</td>\n",
       "    </tr>\n",
       "  </tbody>\n",
       "</table>\n",
       "</div>"
      ],
      "text/plain": [
       "      CVEGEO CVE_ENT CVE_MUN CVE_LOC CVEVIAL CVESEG NOMVIAL TIPOVIAL  \\\n",
       "0  140390001      14     039    0001   03975  00007  Patria  Avenida   \n",
       "1  140390001      14     039    0001   03975  00008  Patria  Avenida   \n",
       "\n",
       "        SENTIDO  TIPOSEN  AMBITO  \\\n",
       "0  Dos sentidos        2  Urbana   \n",
       "1  Dos sentidos        2  Urbana   \n",
       "\n",
       "                                            geometry  \n",
       "0  MULTILINESTRING ((-103.38442 20.71058, -103.38...  \n",
       "1  MULTILINESTRING ((-103.38166 20.71126, -103.38...  "
      ]
     },
     "execution_count": 83,
     "metadata": {},
     "output_type": "execute_result"
    }
   ],
   "source": [
    "print(roads_2km.shape)\n",
    "roads_2km.head(2)"
   ]
  },
  {
   "cell_type": "markdown",
   "id": "6759ff6c-7a12-477a-98c2-815c14124070",
   "metadata": {},
   "source": [
    "### Saving original street data used in further cleaning and analysis"
   ]
  },
  {
   "cell_type": "code",
   "execution_count": 84,
   "id": "81ad0db3-f58c-4e1e-b347-76d3b90bdc83",
   "metadata": {},
   "outputs": [
    {
     "name": "stdout",
     "output_type": "stream",
     "text": [
      "(19887, 12)\n"
     ]
    },
    {
     "data": {
      "text/html": [
       "<div>\n",
       "<style scoped>\n",
       "    .dataframe tbody tr th:only-of-type {\n",
       "        vertical-align: middle;\n",
       "    }\n",
       "\n",
       "    .dataframe tbody tr th {\n",
       "        vertical-align: top;\n",
       "    }\n",
       "\n",
       "    .dataframe thead th {\n",
       "        text-align: right;\n",
       "    }\n",
       "</style>\n",
       "<table border=\"1\" class=\"dataframe\">\n",
       "  <thead>\n",
       "    <tr style=\"text-align: right;\">\n",
       "      <th></th>\n",
       "      <th>streetid</th>\n",
       "      <th>CVEGEO</th>\n",
       "      <th>CVE_ENT</th>\n",
       "      <th>CVE_MUN</th>\n",
       "      <th>CVE_LOC</th>\n",
       "      <th>CVEVIAL</th>\n",
       "      <th>CVESEG</th>\n",
       "      <th>NOMVIAL</th>\n",
       "      <th>TIPOVIAL</th>\n",
       "      <th>SENTIDO</th>\n",
       "      <th>TIPOSEN</th>\n",
       "      <th>AMBITO</th>\n",
       "      <th>geometry</th>\n",
       "    </tr>\n",
       "  </thead>\n",
       "  <tbody>\n",
       "    <tr>\n",
       "      <th>0</th>\n",
       "      <td>0</td>\n",
       "      <td>140390001</td>\n",
       "      <td>14</td>\n",
       "      <td>039</td>\n",
       "      <td>0001</td>\n",
       "      <td>03975</td>\n",
       "      <td>00007</td>\n",
       "      <td>Patria</td>\n",
       "      <td>Avenida</td>\n",
       "      <td>Dos sentidos</td>\n",
       "      <td>2</td>\n",
       "      <td>Urbana</td>\n",
       "      <td>MULTILINESTRING ((-103.38442 20.71058, -103.38...</td>\n",
       "    </tr>\n",
       "    <tr>\n",
       "      <th>1</th>\n",
       "      <td>1</td>\n",
       "      <td>140390001</td>\n",
       "      <td>14</td>\n",
       "      <td>039</td>\n",
       "      <td>0001</td>\n",
       "      <td>03975</td>\n",
       "      <td>00008</td>\n",
       "      <td>Patria</td>\n",
       "      <td>Avenida</td>\n",
       "      <td>Dos sentidos</td>\n",
       "      <td>2</td>\n",
       "      <td>Urbana</td>\n",
       "      <td>MULTILINESTRING ((-103.38166 20.71126, -103.38...</td>\n",
       "    </tr>\n",
       "  </tbody>\n",
       "</table>\n",
       "</div>"
      ],
      "text/plain": [
       "   streetid     CVEGEO CVE_ENT CVE_MUN CVE_LOC CVEVIAL CVESEG NOMVIAL  \\\n",
       "0         0  140390001      14     039    0001   03975  00007  Patria   \n",
       "1         1  140390001      14     039    0001   03975  00008  Patria   \n",
       "\n",
       "  TIPOVIAL       SENTIDO  TIPOSEN  AMBITO  \\\n",
       "0  Avenida  Dos sentidos        2  Urbana   \n",
       "1  Avenida  Dos sentidos        2  Urbana   \n",
       "\n",
       "                                            geometry  \n",
       "0  MULTILINESTRING ((-103.38442 20.71058, -103.38...  \n",
       "1  MULTILINESTRING ((-103.38166 20.71126, -103.38...  "
      ]
     },
     "execution_count": 84,
     "metadata": {},
     "output_type": "execute_result"
    }
   ],
   "source": [
    "# Saving unique street ID\n",
    "roads_2km_st = roads_2km.reset_index()\n",
    "roads_2km_st = roads_2km_st.rename(columns={'index':'streetid'})\n",
    "print(roads_2km.shape)\n",
    "roads_2km_st.head(2)"
   ]
  },
  {
   "cell_type": "code",
   "execution_count": 85,
   "id": "cd818581-04f8-4ac0-988c-3ea1252ed152",
   "metadata": {},
   "outputs": [
    {
     "name": "stdout",
     "output_type": "stream",
     "text": [
      "(19887, 12)\n"
     ]
    },
    {
     "data": {
      "text/html": [
       "<div>\n",
       "<style scoped>\n",
       "    .dataframe tbody tr th:only-of-type {\n",
       "        vertical-align: middle;\n",
       "    }\n",
       "\n",
       "    .dataframe tbody tr th {\n",
       "        vertical-align: top;\n",
       "    }\n",
       "\n",
       "    .dataframe thead th {\n",
       "        text-align: right;\n",
       "    }\n",
       "</style>\n",
       "<table border=\"1\" class=\"dataframe\">\n",
       "  <thead>\n",
       "    <tr style=\"text-align: right;\">\n",
       "      <th></th>\n",
       "      <th>streetid</th>\n",
       "      <th>CVEGEO</th>\n",
       "      <th>CVE_ENT</th>\n",
       "      <th>CVE_MUN</th>\n",
       "      <th>CVE_LOC</th>\n",
       "      <th>CVEVIAL</th>\n",
       "      <th>CVESEG</th>\n",
       "      <th>NOMVIAL</th>\n",
       "      <th>TIPOVIAL</th>\n",
       "      <th>SENTIDO</th>\n",
       "      <th>TIPOSEN</th>\n",
       "      <th>AMBITO</th>\n",
       "      <th>geometry</th>\n",
       "      <th>st_lenght</th>\n",
       "    </tr>\n",
       "  </thead>\n",
       "  <tbody>\n",
       "    <tr>\n",
       "      <th>0</th>\n",
       "      <td>0</td>\n",
       "      <td>140390001</td>\n",
       "      <td>14</td>\n",
       "      <td>039</td>\n",
       "      <td>0001</td>\n",
       "      <td>03975</td>\n",
       "      <td>00007</td>\n",
       "      <td>Patria</td>\n",
       "      <td>Avenida</td>\n",
       "      <td>Dos sentidos</td>\n",
       "      <td>2</td>\n",
       "      <td>Urbana</td>\n",
       "      <td>MULTILINESTRING ((-103.38442 20.71058, -103.38...</td>\n",
       "      <td>296.334843</td>\n",
       "    </tr>\n",
       "    <tr>\n",
       "      <th>1</th>\n",
       "      <td>1</td>\n",
       "      <td>140390001</td>\n",
       "      <td>14</td>\n",
       "      <td>039</td>\n",
       "      <td>0001</td>\n",
       "      <td>03975</td>\n",
       "      <td>00008</td>\n",
       "      <td>Patria</td>\n",
       "      <td>Avenida</td>\n",
       "      <td>Dos sentidos</td>\n",
       "      <td>2</td>\n",
       "      <td>Urbana</td>\n",
       "      <td>MULTILINESTRING ((-103.38166 20.71126, -103.38...</td>\n",
       "      <td>110.001355</td>\n",
       "    </tr>\n",
       "  </tbody>\n",
       "</table>\n",
       "</div>"
      ],
      "text/plain": [
       "   streetid     CVEGEO CVE_ENT CVE_MUN CVE_LOC CVEVIAL CVESEG NOMVIAL  \\\n",
       "0         0  140390001      14     039    0001   03975  00007  Patria   \n",
       "1         1  140390001      14     039    0001   03975  00008  Patria   \n",
       "\n",
       "  TIPOVIAL       SENTIDO  TIPOSEN  AMBITO  \\\n",
       "0  Avenida  Dos sentidos        2  Urbana   \n",
       "1  Avenida  Dos sentidos        2  Urbana   \n",
       "\n",
       "                                            geometry   st_lenght  \n",
       "0  MULTILINESTRING ((-103.38442 20.71058, -103.38...  296.334843  \n",
       "1  MULTILINESTRING ((-103.38166 20.71126, -103.38...  110.001355  "
      ]
     },
     "execution_count": 85,
     "metadata": {},
     "output_type": "execute_result"
    }
   ],
   "source": [
    "# Saving street lenght\n",
    "roads_2km_st = roads_2km_st.to_crs(\"EPSG:6372\")\n",
    "roads_2km_st['st_lenght'] = roads_2km_st.geometry.length\n",
    "roads_2km_st = roads_2km_st.to_crs(\"EPSG:4326\")\n",
    "print(roads_2km.shape)\n",
    "roads_2km_st.head(2)"
   ]
  },
  {
   "cell_type": "markdown",
   "id": "a5ecae69-84bc-497f-a565-a9c96d4abea1",
   "metadata": {},
   "source": [
    "## 10m Buffer to streets"
   ]
  },
  {
   "cell_type": "code",
   "execution_count": 86,
   "id": "3fb1f237-92da-474c-8879-347fd61ff3c6",
   "metadata": {},
   "outputs": [
    {
     "data": {
      "text/plain": [
       "<AxesSubplot:>"
      ]
     },
     "execution_count": 86,
     "metadata": {},
     "output_type": "execute_result"
    },
    {
     "data": {
      "image/png": "[encoded data removed]",
      "text/plain": [
       "<Figure size 432x288 with 1 Axes>"
      ]
     },
     "metadata": {
      "needs_background": "light"
     },
     "output_type": "display_data"
    }
   ],
   "source": [
    "#Creating 10m buffer geometry on existing roads gdf\n",
    "roads_2km_st = roads_2km_st.to_crs(\"EPSG:6372\")\n",
    "buffered_roads_2km = roads_2km_st.copy()\n",
    "buffered_roads_2km['geometry'] = buffered_roads_2km.geometry.buffer(10)\n",
    "buffered_roads_2km = buffered_roads_2km.to_crs(\"EPSG:4326\")\n",
    "buffered_roads_2km.plot()"
   ]
  },
  {
   "cell_type": "code",
   "execution_count": 87,
   "id": "f1417e52-de3d-4ae5-a488-9a68faca60a2",
   "metadata": {},
   "outputs": [
    {
     "name": "stdout",
     "output_type": "stream",
     "text": [
      "(19887, 14)\n"
     ]
    },
    {
     "data": {
      "text/html": [
       "<div>\n",
       "<style scoped>\n",
       "    .dataframe tbody tr th:only-of-type {\n",
       "        vertical-align: middle;\n",
       "    }\n",
       "\n",
       "    .dataframe tbody tr th {\n",
       "        vertical-align: top;\n",
       "    }\n",
       "\n",
       "    .dataframe thead th {\n",
       "        text-align: right;\n",
       "    }\n",
       "</style>\n",
       "<table border=\"1\" class=\"dataframe\">\n",
       "  <thead>\n",
       "    <tr style=\"text-align: right;\">\n",
       "      <th></th>\n",
       "      <th>streetid</th>\n",
       "      <th>CVEGEO</th>\n",
       "      <th>CVE_ENT</th>\n",
       "      <th>CVE_MUN</th>\n",
       "      <th>CVE_LOC</th>\n",
       "      <th>CVEVIAL</th>\n",
       "      <th>CVESEG</th>\n",
       "      <th>NOMVIAL</th>\n",
       "      <th>TIPOVIAL</th>\n",
       "      <th>SENTIDO</th>\n",
       "      <th>TIPOSEN</th>\n",
       "      <th>AMBITO</th>\n",
       "      <th>geometry</th>\n",
       "      <th>st_lenght</th>\n",
       "    </tr>\n",
       "  </thead>\n",
       "  <tbody>\n",
       "    <tr>\n",
       "      <th>0</th>\n",
       "      <td>0</td>\n",
       "      <td>140390001</td>\n",
       "      <td>14</td>\n",
       "      <td>039</td>\n",
       "      <td>0001</td>\n",
       "      <td>03975</td>\n",
       "      <td>00007</td>\n",
       "      <td>Patria</td>\n",
       "      <td>Avenida</td>\n",
       "      <td>Dos sentidos</td>\n",
       "      <td>2</td>\n",
       "      <td>Urbana</td>\n",
       "      <td>POLYGON ((-103.38430 20.71069, -103.38217 20.7...</td>\n",
       "      <td>296.334843</td>\n",
       "    </tr>\n",
       "    <tr>\n",
       "      <th>1</th>\n",
       "      <td>1</td>\n",
       "      <td>140390001</td>\n",
       "      <td>14</td>\n",
       "      <td>039</td>\n",
       "      <td>0001</td>\n",
       "      <td>03975</td>\n",
       "      <td>00008</td>\n",
       "      <td>Patria</td>\n",
       "      <td>Avenida</td>\n",
       "      <td>Dos sentidos</td>\n",
       "      <td>2</td>\n",
       "      <td>Urbana</td>\n",
       "      <td>POLYGON ((-103.38060 20.71130, -103.38059 20.7...</td>\n",
       "      <td>110.001355</td>\n",
       "    </tr>\n",
       "  </tbody>\n",
       "</table>\n",
       "</div>"
      ],
      "text/plain": [
       "   streetid     CVEGEO CVE_ENT CVE_MUN CVE_LOC CVEVIAL CVESEG NOMVIAL  \\\n",
       "0         0  140390001      14     039    0001   03975  00007  Patria   \n",
       "1         1  140390001      14     039    0001   03975  00008  Patria   \n",
       "\n",
       "  TIPOVIAL       SENTIDO  TIPOSEN  AMBITO  \\\n",
       "0  Avenida  Dos sentidos        2  Urbana   \n",
       "1  Avenida  Dos sentidos        2  Urbana   \n",
       "\n",
       "                                            geometry   st_lenght  \n",
       "0  POLYGON ((-103.38430 20.71069, -103.38217 20.7...  296.334843  \n",
       "1  POLYGON ((-103.38060 20.71130, -103.38059 20.7...  110.001355  "
      ]
     },
     "execution_count": 87,
     "metadata": {},
     "output_type": "execute_result"
    }
   ],
   "source": [
    "print(buffered_roads_2km.shape)\n",
    "buffered_roads_2km.head(2)"
   ]
  },
  {
   "cell_type": "markdown",
   "id": "b8b03400-43dd-4c14-8b86-cb5989d69497",
   "metadata": {},
   "source": [
    "## Intersection of GDL public transport routes with buffered streets"
   ]
  },
  {
   "cell_type": "markdown",
   "id": "7f049515-e241-453e-ac47-f28856544276",
   "metadata": {},
   "source": [
    "Loading public transport routes data"
   ]
  },
  {
   "cell_type": "code",
   "execution_count": 88,
   "id": "d2d53e57-830c-4339-8acd-214eb55c19a7",
   "metadata": {},
   "outputs": [
    {
     "data": {
      "text/plain": [
       "<AxesSubplot:>"
      ]
     },
     "execution_count": 88,
     "metadata": {},
     "output_type": "execute_result"
    },
    {
     "data": {
      "image/png": "[encoded data removed]",
      "text/plain": [
       "<Figure size 432x288 with 1 Axes>"
      ]
     },
     "metadata": {
      "needs_background": "light"
     },
     "output_type": "display_data"
    }
   ],
   "source": [
    "routes_gdl  = gpd.read_file(\"../../data/external/db_segundopiso_temp/rutastransporte_gdl.gpkg\")\n",
    "routes_gdl.plot()"
   ]
  },
  {
   "cell_type": "code",
   "execution_count": 89,
   "id": "9cf21475-d3d9-46ac-b144-6c4b15b1a697",
   "metadata": {},
   "outputs": [
    {
     "name": "stdout",
     "output_type": "stream",
     "text": [
      "(449, 4)\n"
     ]
    },
    {
     "data": {
      "text/html": [
       "<div>\n",
       "<style scoped>\n",
       "    .dataframe tbody tr th:only-of-type {\n",
       "        vertical-align: middle;\n",
       "    }\n",
       "\n",
       "    .dataframe tbody tr th {\n",
       "        vertical-align: top;\n",
       "    }\n",
       "\n",
       "    .dataframe thead th {\n",
       "        text-align: right;\n",
       "    }\n",
       "</style>\n",
       "<table border=\"1\" class=\"dataframe\">\n",
       "  <thead>\n",
       "    <tr style=\"text-align: right;\">\n",
       "      <th></th>\n",
       "      <th>Tipo_de_se</th>\n",
       "      <th>Clasificac</th>\n",
       "      <th>Clasifica0</th>\n",
       "      <th>geometry</th>\n",
       "    </tr>\n",
       "  </thead>\n",
       "  <tbody>\n",
       "    <tr>\n",
       "      <th>0</th>\n",
       "      <td>Complementaria</td>\n",
       "      <td>Rutas complementarias y otros servicios</td>\n",
       "      <td>Operando</td>\n",
       "      <td>MULTILINESTRING ((-103.28542 20.61928, -103.28...</td>\n",
       "    </tr>\n",
       "    <tr>\n",
       "      <th>1</th>\n",
       "      <td>Complementaria</td>\n",
       "      <td>Rutas complementarias y otros servicios</td>\n",
       "      <td>Operando</td>\n",
       "      <td>MULTILINESTRING ((-103.25951 20.68500, -103.25...</td>\n",
       "    </tr>\n",
       "  </tbody>\n",
       "</table>\n",
       "</div>"
      ],
      "text/plain": [
       "       Tipo_de_se                               Clasificac Clasifica0  \\\n",
       "0  Complementaria  Rutas complementarias y otros servicios   Operando   \n",
       "1  Complementaria  Rutas complementarias y otros servicios   Operando   \n",
       "\n",
       "                                            geometry  \n",
       "0  MULTILINESTRING ((-103.28542 20.61928, -103.28...  \n",
       "1  MULTILINESTRING ((-103.25951 20.68500, -103.25...  "
      ]
     },
     "execution_count": 89,
     "metadata": {},
     "output_type": "execute_result"
    }
   ],
   "source": [
    "print(routes_gdl.shape)\n",
    "routes_gdl.head(2)"
   ]
  },
  {
   "cell_type": "markdown",
   "id": "2dd01d23-35f4-442b-bd83-0d8001a3c7b9",
   "metadata": {},
   "source": [
    "Intersecting routes over buffered roads (Se le asigna a la ruta la info de la calle que toca, conservando la geometría de la ruta)"
   ]
  },
  {
   "cell_type": "code",
   "execution_count": 90,
   "id": "a2a9858a-8fce-42df-a551-72059e758965",
   "metadata": {
    "tags": []
   },
   "outputs": [],
   "source": [
    "intersect = gpd.overlay(buffered_roads_2km,routes_gdl,keep_geom_type=False)"
   ]
  },
  {
   "cell_type": "code",
   "execution_count": 91,
   "id": "1f4d8f8d-5739-4e60-b33d-ac11ce0a12bc",
   "metadata": {},
   "outputs": [
    {
     "name": "stdout",
     "output_type": "stream",
     "text": [
      "(29398, 17)\n"
     ]
    },
    {
     "data": {
      "text/html": [
       "<div>\n",
       "<style scoped>\n",
       "    .dataframe tbody tr th:only-of-type {\n",
       "        vertical-align: middle;\n",
       "    }\n",
       "\n",
       "    .dataframe tbody tr th {\n",
       "        vertical-align: top;\n",
       "    }\n",
       "\n",
       "    .dataframe thead th {\n",
       "        text-align: right;\n",
       "    }\n",
       "</style>\n",
       "<table border=\"1\" class=\"dataframe\">\n",
       "  <thead>\n",
       "    <tr style=\"text-align: right;\">\n",
       "      <th></th>\n",
       "      <th>streetid</th>\n",
       "      <th>CVEGEO</th>\n",
       "      <th>CVE_ENT</th>\n",
       "      <th>CVE_MUN</th>\n",
       "      <th>CVE_LOC</th>\n",
       "      <th>CVEVIAL</th>\n",
       "      <th>CVESEG</th>\n",
       "      <th>NOMVIAL</th>\n",
       "      <th>TIPOVIAL</th>\n",
       "      <th>SENTIDO</th>\n",
       "      <th>TIPOSEN</th>\n",
       "      <th>AMBITO</th>\n",
       "      <th>st_lenght</th>\n",
       "      <th>Tipo_de_se</th>\n",
       "      <th>Clasificac</th>\n",
       "      <th>Clasifica0</th>\n",
       "      <th>geometry</th>\n",
       "    </tr>\n",
       "  </thead>\n",
       "  <tbody>\n",
       "    <tr>\n",
       "      <th>0</th>\n",
       "      <td>0</td>\n",
       "      <td>140390001</td>\n",
       "      <td>14</td>\n",
       "      <td>039</td>\n",
       "      <td>0001</td>\n",
       "      <td>03975</td>\n",
       "      <td>00007</td>\n",
       "      <td>Patria</td>\n",
       "      <td>Avenida</td>\n",
       "      <td>Dos sentidos</td>\n",
       "      <td>2</td>\n",
       "      <td>Urbana</td>\n",
       "      <td>296.334843</td>\n",
       "      <td>Complementaria</td>\n",
       "      <td>Rutas complementarias y otros servicios</td>\n",
       "      <td>Operando</td>\n",
       "      <td>LINESTRING (-103.38271 20.71113, -103.38285 20...</td>\n",
       "    </tr>\n",
       "    <tr>\n",
       "      <th>1</th>\n",
       "      <td>13</td>\n",
       "      <td>140390001</td>\n",
       "      <td>14</td>\n",
       "      <td>039</td>\n",
       "      <td>0001</td>\n",
       "      <td>03975</td>\n",
       "      <td>00011</td>\n",
       "      <td>Patria</td>\n",
       "      <td>Avenida</td>\n",
       "      <td>Dos sentidos</td>\n",
       "      <td>2</td>\n",
       "      <td>Urbana</td>\n",
       "      <td>564.985728</td>\n",
       "      <td>Complementaria</td>\n",
       "      <td>Rutas complementarias y otros servicios</td>\n",
       "      <td>Operando</td>\n",
       "      <td>LINESTRING (-103.37487 20.71214, -103.37500 20...</td>\n",
       "    </tr>\n",
       "  </tbody>\n",
       "</table>\n",
       "</div>"
      ],
      "text/plain": [
       "   streetid     CVEGEO CVE_ENT CVE_MUN CVE_LOC CVEVIAL CVESEG NOMVIAL  \\\n",
       "0         0  140390001      14     039    0001   03975  00007  Patria   \n",
       "1        13  140390001      14     039    0001   03975  00011  Patria   \n",
       "\n",
       "  TIPOVIAL       SENTIDO  TIPOSEN  AMBITO   st_lenght      Tipo_de_se  \\\n",
       "0  Avenida  Dos sentidos        2  Urbana  296.334843  Complementaria   \n",
       "1  Avenida  Dos sentidos        2  Urbana  564.985728  Complementaria   \n",
       "\n",
       "                                Clasificac Clasifica0  \\\n",
       "0  Rutas complementarias y otros servicios   Operando   \n",
       "1  Rutas complementarias y otros servicios   Operando   \n",
       "\n",
       "                                            geometry  \n",
       "0  LINESTRING (-103.38271 20.71113, -103.38285 20...  \n",
       "1  LINESTRING (-103.37487 20.71214, -103.37500 20...  "
      ]
     },
     "execution_count": 91,
     "metadata": {},
     "output_type": "execute_result"
    }
   ],
   "source": [
    "print(intersect.shape)\n",
    "intersect.head(2)"
   ]
  },
  {
   "cell_type": "code",
   "execution_count": 92,
   "id": "eefc0e36-4ec2-489a-8960-ed9aa5d2b9a4",
   "metadata": {},
   "outputs": [
    {
     "data": {
      "text/plain": [
       "<AxesSubplot:>"
      ]
     },
     "execution_count": 92,
     "metadata": {},
     "output_type": "execute_result"
    },
    {
     "data": {
      "image/png": "[encoded data removed]",
      "text/plain": [
       "<Figure size 432x288 with 1 Axes>"
      ]
     },
     "metadata": {
      "needs_background": "light"
     },
     "output_type": "display_data"
    }
   ],
   "source": [
    "intersect.plot()"
   ]
  },
  {
   "cell_type": "markdown",
   "id": "84e9b23a-0b98-488a-9afa-c7524c443bcc",
   "metadata": {},
   "source": [
    "## Removing falsly associated routes with streetid only because they touch/cross that street"
   ]
  },
  {
   "cell_type": "code",
   "execution_count": 93,
   "id": "6e921031-6c1d-4a5d-a964-16966374bc47",
   "metadata": {},
   "outputs": [
    {
     "name": "stdout",
     "output_type": "stream",
     "text": [
      "(29398, 19)\n"
     ]
    },
    {
     "data": {
      "text/html": [
       "<div>\n",
       "<style scoped>\n",
       "    .dataframe tbody tr th:only-of-type {\n",
       "        vertical-align: middle;\n",
       "    }\n",
       "\n",
       "    .dataframe tbody tr th {\n",
       "        vertical-align: top;\n",
       "    }\n",
       "\n",
       "    .dataframe thead th {\n",
       "        text-align: right;\n",
       "    }\n",
       "</style>\n",
       "<table border=\"1\" class=\"dataframe\">\n",
       "  <thead>\n",
       "    <tr style=\"text-align: right;\">\n",
       "      <th></th>\n",
       "      <th>streetid</th>\n",
       "      <th>CVEGEO</th>\n",
       "      <th>CVE_ENT</th>\n",
       "      <th>CVE_MUN</th>\n",
       "      <th>CVE_LOC</th>\n",
       "      <th>CVEVIAL</th>\n",
       "      <th>CVESEG</th>\n",
       "      <th>NOMVIAL</th>\n",
       "      <th>TIPOVIAL</th>\n",
       "      <th>SENTIDO</th>\n",
       "      <th>TIPOSEN</th>\n",
       "      <th>AMBITO</th>\n",
       "      <th>st_lenght</th>\n",
       "      <th>Tipo_de_se</th>\n",
       "      <th>Clasificac</th>\n",
       "      <th>Clasifica0</th>\n",
       "      <th>geometry</th>\n",
       "      <th>overlay_length</th>\n",
       "      <th>length_ratio</th>\n",
       "    </tr>\n",
       "  </thead>\n",
       "  <tbody>\n",
       "    <tr>\n",
       "      <th>0</th>\n",
       "      <td>0</td>\n",
       "      <td>140390001</td>\n",
       "      <td>14</td>\n",
       "      <td>039</td>\n",
       "      <td>0001</td>\n",
       "      <td>03975</td>\n",
       "      <td>00007</td>\n",
       "      <td>Patria</td>\n",
       "      <td>Avenida</td>\n",
       "      <td>Dos sentidos</td>\n",
       "      <td>2</td>\n",
       "      <td>Urbana</td>\n",
       "      <td>296.334843</td>\n",
       "      <td>Complementaria</td>\n",
       "      <td>Rutas complementarias y otros servicios</td>\n",
       "      <td>Operando</td>\n",
       "      <td>LINESTRING (2356577.790 967776.382, 2356563.51...</td>\n",
       "      <td>29.256664</td>\n",
       "      <td>0.098728</td>\n",
       "    </tr>\n",
       "    <tr>\n",
       "      <th>1</th>\n",
       "      <td>13</td>\n",
       "      <td>140390001</td>\n",
       "      <td>14</td>\n",
       "      <td>039</td>\n",
       "      <td>0001</td>\n",
       "      <td>03975</td>\n",
       "      <td>00011</td>\n",
       "      <td>Patria</td>\n",
       "      <td>Avenida</td>\n",
       "      <td>Dos sentidos</td>\n",
       "      <td>2</td>\n",
       "      <td>Urbana</td>\n",
       "      <td>564.985728</td>\n",
       "      <td>Complementaria</td>\n",
       "      <td>Rutas complementarias y otros servicios</td>\n",
       "      <td>Operando</td>\n",
       "      <td>LINESTRING (2357391.994 967879.743, 2357379.34...</td>\n",
       "      <td>21.001513</td>\n",
       "      <td>0.037172</td>\n",
       "    </tr>\n",
       "  </tbody>\n",
       "</table>\n",
       "</div>"
      ],
      "text/plain": [
       "   streetid     CVEGEO CVE_ENT CVE_MUN CVE_LOC CVEVIAL CVESEG NOMVIAL  \\\n",
       "0         0  140390001      14     039    0001   03975  00007  Patria   \n",
       "1        13  140390001      14     039    0001   03975  00011  Patria   \n",
       "\n",
       "  TIPOVIAL       SENTIDO  TIPOSEN  AMBITO   st_lenght      Tipo_de_se  \\\n",
       "0  Avenida  Dos sentidos        2  Urbana  296.334843  Complementaria   \n",
       "1  Avenida  Dos sentidos        2  Urbana  564.985728  Complementaria   \n",
       "\n",
       "                                Clasificac Clasifica0  \\\n",
       "0  Rutas complementarias y otros servicios   Operando   \n",
       "1  Rutas complementarias y otros servicios   Operando   \n",
       "\n",
       "                                            geometry  overlay_length  \\\n",
       "0  LINESTRING (2356577.790 967776.382, 2356563.51...       29.256664   \n",
       "1  LINESTRING (2357391.994 967879.743, 2357379.34...       21.001513   \n",
       "\n",
       "   length_ratio  \n",
       "0      0.098728  \n",
       "1      0.037172  "
      ]
     },
     "execution_count": 93,
     "metadata": {},
     "output_type": "execute_result"
    }
   ],
   "source": [
    "#Copy to calculate lenght\n",
    "intersect_c = intersect.copy()\n",
    "\n",
    "#Calculating lenght of linestring resulting from previous overlay operation \n",
    "intersect_c = intersect_c.to_crs(\"EPSG:6372\")\n",
    "intersect_c['overlay_length'] = intersect_c.geometry.length\n",
    "\n",
    "## Calculating overlay_length:st_length ratio\n",
    "intersect_c['length_ratio'] = intersect_c['overlay_length'] / intersect_c['st_lenght']\n",
    "\n",
    "print(intersect_c.shape)\n",
    "intersect_c.head(2)"
   ]
  },
  {
   "cell_type": "code",
   "execution_count": 100,
   "id": "846e3b17-5208-4334-8497-4ec15d33fc81",
   "metadata": {},
   "outputs": [
    {
     "name": "stdout",
     "output_type": "stream",
     "text": [
      "(20510, 19)\n"
     ]
    },
    {
     "data": {
      "text/html": [
       "<div>\n",
       "<style scoped>\n",
       "    .dataframe tbody tr th:only-of-type {\n",
       "        vertical-align: middle;\n",
       "    }\n",
       "\n",
       "    .dataframe tbody tr th {\n",
       "        vertical-align: top;\n",
       "    }\n",
       "\n",
       "    .dataframe thead th {\n",
       "        text-align: right;\n",
       "    }\n",
       "</style>\n",
       "<table border=\"1\" class=\"dataframe\">\n",
       "  <thead>\n",
       "    <tr style=\"text-align: right;\">\n",
       "      <th></th>\n",
       "      <th>streetid</th>\n",
       "      <th>CVEGEO</th>\n",
       "      <th>CVE_ENT</th>\n",
       "      <th>CVE_MUN</th>\n",
       "      <th>CVE_LOC</th>\n",
       "      <th>CVEVIAL</th>\n",
       "      <th>CVESEG</th>\n",
       "      <th>NOMVIAL</th>\n",
       "      <th>TIPOVIAL</th>\n",
       "      <th>SENTIDO</th>\n",
       "      <th>TIPOSEN</th>\n",
       "      <th>AMBITO</th>\n",
       "      <th>st_lenght</th>\n",
       "      <th>Tipo_de_se</th>\n",
       "      <th>Clasificac</th>\n",
       "      <th>Clasifica0</th>\n",
       "      <th>geometry</th>\n",
       "      <th>overlay_length</th>\n",
       "      <th>length_ratio</th>\n",
       "    </tr>\n",
       "  </thead>\n",
       "  <tbody>\n",
       "    <tr>\n",
       "      <th>3</th>\n",
       "      <td>87.0</td>\n",
       "      <td>140390001</td>\n",
       "      <td>14</td>\n",
       "      <td>039</td>\n",
       "      <td>0001</td>\n",
       "      <td>03765</td>\n",
       "      <td>00001</td>\n",
       "      <td>Manuel Ávila Camacho</td>\n",
       "      <td>Avenida</td>\n",
       "      <td>Dos sentidos</td>\n",
       "      <td>2.0</td>\n",
       "      <td>Urbana</td>\n",
       "      <td>203.268797</td>\n",
       "      <td>Complementaria</td>\n",
       "      <td>Rutas complementarias y otros servicios</td>\n",
       "      <td>Operando</td>\n",
       "      <td>LINESTRING (2357557.077 967764.590, 2357544.81...</td>\n",
       "      <td>221.233796</td>\n",
       "      <td>1.088381</td>\n",
       "    </tr>\n",
       "    <tr>\n",
       "      <th>5</th>\n",
       "      <td>145.0</td>\n",
       "      <td>140390001</td>\n",
       "      <td>14</td>\n",
       "      <td>039</td>\n",
       "      <td>0001</td>\n",
       "      <td>03790</td>\n",
       "      <td>00001</td>\n",
       "      <td>División del Norte</td>\n",
       "      <td>Circunvalación</td>\n",
       "      <td>Un sentido</td>\n",
       "      <td>1.0</td>\n",
       "      <td>Urbana</td>\n",
       "      <td>41.415006</td>\n",
       "      <td>Complementaria</td>\n",
       "      <td>Rutas complementarias y otros servicios</td>\n",
       "      <td>Operando</td>\n",
       "      <td>LINESTRING (2359614.284 967273.371, 2359605.20...</td>\n",
       "      <td>58.212844</td>\n",
       "      <td>1.405598</td>\n",
       "    </tr>\n",
       "  </tbody>\n",
       "</table>\n",
       "</div>"
      ],
      "text/plain": [
       "   streetid     CVEGEO CVE_ENT CVE_MUN CVE_LOC CVEVIAL CVESEG  \\\n",
       "3      87.0  140390001      14     039    0001   03765  00001   \n",
       "5     145.0  140390001      14     039    0001   03790  00001   \n",
       "\n",
       "                NOMVIAL        TIPOVIAL       SENTIDO  TIPOSEN  AMBITO  \\\n",
       "3  Manuel Ávila Camacho         Avenida  Dos sentidos      2.0  Urbana   \n",
       "5    División del Norte  Circunvalación    Un sentido      1.0  Urbana   \n",
       "\n",
       "    st_lenght      Tipo_de_se                               Clasificac  \\\n",
       "3  203.268797  Complementaria  Rutas complementarias y otros servicios   \n",
       "5   41.415006  Complementaria  Rutas complementarias y otros servicios   \n",
       "\n",
       "  Clasifica0                                           geometry  \\\n",
       "3   Operando  LINESTRING (2357557.077 967764.590, 2357544.81...   \n",
       "5   Operando  LINESTRING (2359614.284 967273.371, 2359605.20...   \n",
       "\n",
       "   overlay_length  length_ratio  \n",
       "3      221.233796      1.088381  \n",
       "5       58.212844      1.405598  "
      ]
     },
     "execution_count": 100,
     "metadata": {},
     "output_type": "execute_result"
    }
   ],
   "source": [
    "#Modifiable parameter: ¿How much % of the street lenght should be used by the overlay lenght to consider the route uses (not crossess/touches) that street?\n",
    "idxkeep =  intersect_c['length_ratio'] > 0.20\n",
    "#Change where boolean mask\n",
    "intersect_c = intersect_c.where(idxkeep).dropna()\n",
    "print(intersect_c.shape)\n",
    "intersect_c.head(2)"
   ]
  },
  {
   "cell_type": "markdown",
   "id": "c22a116b-92de-4cf8-8873-e5c69d0e5561",
   "metadata": {},
   "source": [
    "### Cleaning gdf"
   ]
  },
  {
   "cell_type": "code",
   "execution_count": 101,
   "id": "d694a0b5-927e-437f-9d58-26dda62b50e9",
   "metadata": {},
   "outputs": [
    {
     "name": "stdout",
     "output_type": "stream",
     "text": [
      "(20510, 7)\n"
     ]
    },
    {
     "data": {
      "text/html": [
       "<div>\n",
       "<style scoped>\n",
       "    .dataframe tbody tr th:only-of-type {\n",
       "        vertical-align: middle;\n",
       "    }\n",
       "\n",
       "    .dataframe tbody tr th {\n",
       "        vertical-align: top;\n",
       "    }\n",
       "\n",
       "    .dataframe thead th {\n",
       "        text-align: right;\n",
       "    }\n",
       "</style>\n",
       "<table border=\"1\" class=\"dataframe\">\n",
       "  <thead>\n",
       "    <tr style=\"text-align: right;\">\n",
       "      <th></th>\n",
       "      <th>Tipo_de_se</th>\n",
       "      <th>Clasificac</th>\n",
       "      <th>Clasifica0</th>\n",
       "      <th>streetid</th>\n",
       "      <th>st_lenght</th>\n",
       "      <th>overlay_length</th>\n",
       "      <th>length_ratio</th>\n",
       "    </tr>\n",
       "  </thead>\n",
       "  <tbody>\n",
       "    <tr>\n",
       "      <th>3</th>\n",
       "      <td>Complementaria</td>\n",
       "      <td>Rutas complementarias y otros servicios</td>\n",
       "      <td>Operando</td>\n",
       "      <td>87.0</td>\n",
       "      <td>203.268797</td>\n",
       "      <td>221.233796</td>\n",
       "      <td>1.088381</td>\n",
       "    </tr>\n",
       "    <tr>\n",
       "      <th>5</th>\n",
       "      <td>Complementaria</td>\n",
       "      <td>Rutas complementarias y otros servicios</td>\n",
       "      <td>Operando</td>\n",
       "      <td>145.0</td>\n",
       "      <td>41.415006</td>\n",
       "      <td>58.212844</td>\n",
       "      <td>1.405598</td>\n",
       "    </tr>\n",
       "  </tbody>\n",
       "</table>\n",
       "</div>"
      ],
      "text/plain": [
       "       Tipo_de_se                               Clasificac Clasifica0  \\\n",
       "3  Complementaria  Rutas complementarias y otros servicios   Operando   \n",
       "5  Complementaria  Rutas complementarias y otros servicios   Operando   \n",
       "\n",
       "   streetid   st_lenght  overlay_length  length_ratio  \n",
       "3      87.0  203.268797      221.233796      1.088381  \n",
       "5     145.0   41.415006       58.212844      1.405598  "
      ]
     },
     "execution_count": 101,
     "metadata": {},
     "output_type": "execute_result"
    }
   ],
   "source": [
    "fields_tokeep = ['Tipo_de_se','Clasificac','Clasifica0','streetid','st_lenght', 'overlay_length','length_ratio']\n",
    "intersect_gdf = intersect_c[fields_tokeep]\n",
    "print(intersect_gdf.shape)\n",
    "intersect_gdf.head(2)"
   ]
  },
  {
   "cell_type": "markdown",
   "id": "77022e36-7d7e-467f-863a-078008020500",
   "metadata": {},
   "source": [
    "## Grouping routes by street number and joining with original street geo"
   ]
  },
  {
   "cell_type": "code",
   "execution_count": 102,
   "id": "e6bbd36f-6622-4f12-b57a-ef89fc4045c9",
   "metadata": {},
   "outputs": [
    {
     "name": "stdout",
     "output_type": "stream",
     "text": [
      "(3747, 2)\n"
     ]
    },
    {
     "data": {
      "text/html": [
       "<div>\n",
       "<style scoped>\n",
       "    .dataframe tbody tr th:only-of-type {\n",
       "        vertical-align: middle;\n",
       "    }\n",
       "\n",
       "    .dataframe tbody tr th {\n",
       "        vertical-align: top;\n",
       "    }\n",
       "\n",
       "    .dataframe thead th {\n",
       "        text-align: right;\n",
       "    }\n",
       "</style>\n",
       "<table border=\"1\" class=\"dataframe\">\n",
       "  <thead>\n",
       "    <tr style=\"text-align: right;\">\n",
       "      <th></th>\n",
       "      <th>streetid</th>\n",
       "      <th>routes_count</th>\n",
       "    </tr>\n",
       "  </thead>\n",
       "  <tbody>\n",
       "    <tr>\n",
       "      <th>0</th>\n",
       "      <td>0.0</td>\n",
       "      <td>2</td>\n",
       "    </tr>\n",
       "    <tr>\n",
       "      <th>1</th>\n",
       "      <td>4.0</td>\n",
       "      <td>14</td>\n",
       "    </tr>\n",
       "    <tr>\n",
       "      <th>2</th>\n",
       "      <td>5.0</td>\n",
       "      <td>1</td>\n",
       "    </tr>\n",
       "    <tr>\n",
       "      <th>3</th>\n",
       "      <td>6.0</td>\n",
       "      <td>1</td>\n",
       "    </tr>\n",
       "    <tr>\n",
       "      <th>4</th>\n",
       "      <td>7.0</td>\n",
       "      <td>7</td>\n",
       "    </tr>\n",
       "  </tbody>\n",
       "</table>\n",
       "</div>"
      ],
      "text/plain": [
       "   streetid  routes_count\n",
       "0       0.0             2\n",
       "1       4.0            14\n",
       "2       5.0             1\n",
       "3       6.0             1\n",
       "4       7.0             7"
      ]
     },
     "execution_count": 102,
     "metadata": {},
     "output_type": "execute_result"
    }
   ],
   "source": [
    "#Counting routes_count by street\n",
    "routes_bystreet = intersect_gdf.groupby('streetid').count()\n",
    "routes_bystreet = routes_bystreet.reset_index().rename(columns={'Tipo_de_se':'routes_count'})\n",
    "routes_bystreet_f = routes_bystreet[['streetid','routes_count']].copy()\n",
    "\n",
    "print(routes_bystreet_f.shape)\n",
    "routes_bystreet_f.head()"
   ]
  },
  {
   "cell_type": "code",
   "execution_count": 103,
   "id": "e0eb5124-6730-4208-9a96-1b2f223c70c6",
   "metadata": {},
   "outputs": [
    {
     "data": {
      "text/html": [
       "<div>\n",
       "<style scoped>\n",
       "    .dataframe tbody tr th:only-of-type {\n",
       "        vertical-align: middle;\n",
       "    }\n",
       "\n",
       "    .dataframe tbody tr th {\n",
       "        vertical-align: top;\n",
       "    }\n",
       "\n",
       "    .dataframe thead th {\n",
       "        text-align: right;\n",
       "    }\n",
       "</style>\n",
       "<table border=\"1\" class=\"dataframe\">\n",
       "  <thead>\n",
       "    <tr style=\"text-align: right;\">\n",
       "      <th></th>\n",
       "      <th>streetid</th>\n",
       "      <th>CVEGEO</th>\n",
       "      <th>CVE_ENT</th>\n",
       "      <th>CVE_MUN</th>\n",
       "      <th>CVE_LOC</th>\n",
       "      <th>CVEVIAL</th>\n",
       "      <th>CVESEG</th>\n",
       "      <th>NOMVIAL</th>\n",
       "      <th>TIPOVIAL</th>\n",
       "      <th>SENTIDO</th>\n",
       "      <th>TIPOSEN</th>\n",
       "      <th>AMBITO</th>\n",
       "      <th>geometry</th>\n",
       "      <th>st_lenght</th>\n",
       "      <th>routes_count</th>\n",
       "    </tr>\n",
       "  </thead>\n",
       "  <tbody>\n",
       "    <tr>\n",
       "      <th>0</th>\n",
       "      <td>0</td>\n",
       "      <td>140390001</td>\n",
       "      <td>14</td>\n",
       "      <td>039</td>\n",
       "      <td>0001</td>\n",
       "      <td>03975</td>\n",
       "      <td>00007</td>\n",
       "      <td>Patria</td>\n",
       "      <td>Avenida</td>\n",
       "      <td>Dos sentidos</td>\n",
       "      <td>2</td>\n",
       "      <td>Urbana</td>\n",
       "      <td>MULTILINESTRING ((2356399.855 967716.721, 2356...</td>\n",
       "      <td>296.334843</td>\n",
       "      <td>2.0</td>\n",
       "    </tr>\n",
       "    <tr>\n",
       "      <th>1</th>\n",
       "      <td>1</td>\n",
       "      <td>140390001</td>\n",
       "      <td>14</td>\n",
       "      <td>039</td>\n",
       "      <td>0001</td>\n",
       "      <td>03975</td>\n",
       "      <td>00008</td>\n",
       "      <td>Patria</td>\n",
       "      <td>Avenida</td>\n",
       "      <td>Dos sentidos</td>\n",
       "      <td>2</td>\n",
       "      <td>Urbana</td>\n",
       "      <td>MULTILINESTRING ((2356686.712 967789.121, 2356...</td>\n",
       "      <td>110.001355</td>\n",
       "      <td>0.0</td>\n",
       "    </tr>\n",
       "    <tr>\n",
       "      <th>2</th>\n",
       "      <td>2</td>\n",
       "      <td>140390001</td>\n",
       "      <td>14</td>\n",
       "      <td>039</td>\n",
       "      <td>0001</td>\n",
       "      <td>03149</td>\n",
       "      <td>00001</td>\n",
       "      <td>Francisco Seles</td>\n",
       "      <td>Privada</td>\n",
       "      <td>Dos sentidos</td>\n",
       "      <td>2</td>\n",
       "      <td>Urbana</td>\n",
       "      <td>MULTILINESTRING ((2355206.594 961653.772, 2355...</td>\n",
       "      <td>54.851899</td>\n",
       "      <td>0.0</td>\n",
       "    </tr>\n",
       "    <tr>\n",
       "      <th>3</th>\n",
       "      <td>3</td>\n",
       "      <td>140390001</td>\n",
       "      <td>14</td>\n",
       "      <td>039</td>\n",
       "      <td>0001</td>\n",
       "      <td>00184</td>\n",
       "      <td>00003</td>\n",
       "      <td>Teatro de la República</td>\n",
       "      <td>Calle</td>\n",
       "      <td>Un sentido</td>\n",
       "      <td>1</td>\n",
       "      <td>Urbana</td>\n",
       "      <td>MULTILINESTRING ((2354375.691 964530.075, 2354...</td>\n",
       "      <td>164.322734</td>\n",
       "      <td>0.0</td>\n",
       "    </tr>\n",
       "    <tr>\n",
       "      <th>4</th>\n",
       "      <td>4</td>\n",
       "      <td>140390001</td>\n",
       "      <td>14</td>\n",
       "      <td>039</td>\n",
       "      <td>0001</td>\n",
       "      <td>04035</td>\n",
       "      <td>00002</td>\n",
       "      <td>Fray Antonio Alcalde</td>\n",
       "      <td>Avenida</td>\n",
       "      <td>Dos sentidos</td>\n",
       "      <td>2</td>\n",
       "      <td>Urbana</td>\n",
       "      <td>MULTILINESTRING ((2360249.159 966974.827, 2360...</td>\n",
       "      <td>78.181553</td>\n",
       "      <td>14.0</td>\n",
       "    </tr>\n",
       "    <tr>\n",
       "      <th>...</th>\n",
       "      <td>...</td>\n",
       "      <td>...</td>\n",
       "      <td>...</td>\n",
       "      <td>...</td>\n",
       "      <td>...</td>\n",
       "      <td>...</td>\n",
       "      <td>...</td>\n",
       "      <td>...</td>\n",
       "      <td>...</td>\n",
       "      <td>...</td>\n",
       "      <td>...</td>\n",
       "      <td>...</td>\n",
       "      <td>...</td>\n",
       "      <td>...</td>\n",
       "      <td>...</td>\n",
       "    </tr>\n",
       "    <tr>\n",
       "      <th>19882</th>\n",
       "      <td>19882</td>\n",
       "      <td>141200001</td>\n",
       "      <td>14</td>\n",
       "      <td>120</td>\n",
       "      <td>0001</td>\n",
       "      <td>17152</td>\n",
       "      <td>00001</td>\n",
       "      <td>Privada Nicolás Bravo</td>\n",
       "      <td>Privada</td>\n",
       "      <td>Dos sentidos</td>\n",
       "      <td>2</td>\n",
       "      <td>Urbana</td>\n",
       "      <td>MULTILINESTRING ((2352340.473 955652.437, 2352...</td>\n",
       "      <td>57.746859</td>\n",
       "      <td>0.0</td>\n",
       "    </tr>\n",
       "    <tr>\n",
       "      <th>19883</th>\n",
       "      <td>19883</td>\n",
       "      <td>141200001</td>\n",
       "      <td>14</td>\n",
       "      <td>120</td>\n",
       "      <td>0001</td>\n",
       "      <td>18520</td>\n",
       "      <td>00001</td>\n",
       "      <td>Ninguno</td>\n",
       "      <td>Calle</td>\n",
       "      <td>Dos sentidos</td>\n",
       "      <td>2</td>\n",
       "      <td>Urbana</td>\n",
       "      <td>MULTILINESTRING ((2352523.616 955694.162, 2352...</td>\n",
       "      <td>87.207872</td>\n",
       "      <td>0.0</td>\n",
       "    </tr>\n",
       "    <tr>\n",
       "      <th>19884</th>\n",
       "      <td>19884</td>\n",
       "      <td>141200001</td>\n",
       "      <td>14</td>\n",
       "      <td>120</td>\n",
       "      <td>0001</td>\n",
       "      <td>18519</td>\n",
       "      <td>00001</td>\n",
       "      <td>Ninguno</td>\n",
       "      <td>Calle</td>\n",
       "      <td>Dos sentidos</td>\n",
       "      <td>2</td>\n",
       "      <td>Urbana</td>\n",
       "      <td>MULTILINESTRING ((2352508.763 955622.952, 2352...</td>\n",
       "      <td>72.796151</td>\n",
       "      <td>0.0</td>\n",
       "    </tr>\n",
       "    <tr>\n",
       "      <th>19885</th>\n",
       "      <td>19885</td>\n",
       "      <td>141200001</td>\n",
       "      <td>14</td>\n",
       "      <td>120</td>\n",
       "      <td>0001</td>\n",
       "      <td>18517</td>\n",
       "      <td>00002</td>\n",
       "      <td>Lázaro Cárdenas</td>\n",
       "      <td>Calle</td>\n",
       "      <td>Dos sentidos</td>\n",
       "      <td>2</td>\n",
       "      <td>Urbana</td>\n",
       "      <td>MULTILINESTRING ((2352340.473 955652.437, 2352...</td>\n",
       "      <td>111.042987</td>\n",
       "      <td>0.0</td>\n",
       "    </tr>\n",
       "    <tr>\n",
       "      <th>19886</th>\n",
       "      <td>19886</td>\n",
       "      <td>141200001</td>\n",
       "      <td>14</td>\n",
       "      <td>120</td>\n",
       "      <td>0001</td>\n",
       "      <td>18517</td>\n",
       "      <td>00001</td>\n",
       "      <td>Lázaro Cárdenas</td>\n",
       "      <td>Calle</td>\n",
       "      <td>Dos sentidos</td>\n",
       "      <td>2</td>\n",
       "      <td>Urbana</td>\n",
       "      <td>MULTILINESTRING ((2352230.071 955640.523, 2352...</td>\n",
       "      <td>70.385956</td>\n",
       "      <td>0.0</td>\n",
       "    </tr>\n",
       "  </tbody>\n",
       "</table>\n",
       "<p>19887 rows × 15 columns</p>\n",
       "</div>"
      ],
      "text/plain": [
       "       streetid     CVEGEO CVE_ENT CVE_MUN CVE_LOC CVEVIAL CVESEG  \\\n",
       "0             0  140390001      14     039    0001   03975  00007   \n",
       "1             1  140390001      14     039    0001   03975  00008   \n",
       "2             2  140390001      14     039    0001   03149  00001   \n",
       "3             3  140390001      14     039    0001   00184  00003   \n",
       "4             4  140390001      14     039    0001   04035  00002   \n",
       "...         ...        ...     ...     ...     ...     ...    ...   \n",
       "19882     19882  141200001      14     120    0001   17152  00001   \n",
       "19883     19883  141200001      14     120    0001   18520  00001   \n",
       "19884     19884  141200001      14     120    0001   18519  00001   \n",
       "19885     19885  141200001      14     120    0001   18517  00002   \n",
       "19886     19886  141200001      14     120    0001   18517  00001   \n",
       "\n",
       "                      NOMVIAL TIPOVIAL       SENTIDO  TIPOSEN  AMBITO  \\\n",
       "0                      Patria  Avenida  Dos sentidos        2  Urbana   \n",
       "1                      Patria  Avenida  Dos sentidos        2  Urbana   \n",
       "2             Francisco Seles  Privada  Dos sentidos        2  Urbana   \n",
       "3      Teatro de la República    Calle    Un sentido        1  Urbana   \n",
       "4        Fray Antonio Alcalde  Avenida  Dos sentidos        2  Urbana   \n",
       "...                       ...      ...           ...      ...     ...   \n",
       "19882   Privada Nicolás Bravo  Privada  Dos sentidos        2  Urbana   \n",
       "19883                 Ninguno    Calle  Dos sentidos        2  Urbana   \n",
       "19884                 Ninguno    Calle  Dos sentidos        2  Urbana   \n",
       "19885         Lázaro Cárdenas    Calle  Dos sentidos        2  Urbana   \n",
       "19886         Lázaro Cárdenas    Calle  Dos sentidos        2  Urbana   \n",
       "\n",
       "                                                geometry   st_lenght  \\\n",
       "0      MULTILINESTRING ((2356399.855 967716.721, 2356...  296.334843   \n",
       "1      MULTILINESTRING ((2356686.712 967789.121, 2356...  110.001355   \n",
       "2      MULTILINESTRING ((2355206.594 961653.772, 2355...   54.851899   \n",
       "3      MULTILINESTRING ((2354375.691 964530.075, 2354...  164.322734   \n",
       "4      MULTILINESTRING ((2360249.159 966974.827, 2360...   78.181553   \n",
       "...                                                  ...         ...   \n",
       "19882  MULTILINESTRING ((2352340.473 955652.437, 2352...   57.746859   \n",
       "19883  MULTILINESTRING ((2352523.616 955694.162, 2352...   87.207872   \n",
       "19884  MULTILINESTRING ((2352508.763 955622.952, 2352...   72.796151   \n",
       "19885  MULTILINESTRING ((2352340.473 955652.437, 2352...  111.042987   \n",
       "19886  MULTILINESTRING ((2352230.071 955640.523, 2352...   70.385956   \n",
       "\n",
       "       routes_count  \n",
       "0               2.0  \n",
       "1               0.0  \n",
       "2               0.0  \n",
       "3               0.0  \n",
       "4              14.0  \n",
       "...             ...  \n",
       "19882           0.0  \n",
       "19883           0.0  \n",
       "19884           0.0  \n",
       "19885           0.0  \n",
       "19886           0.0  \n",
       "\n",
       "[19887 rows x 15 columns]"
      ]
     },
     "execution_count": 103,
     "metadata": {},
     "output_type": "execute_result"
    }
   ],
   "source": [
    "# Joining with original roads_2km_st geometry\n",
    "routes_bystreetgdf = pd.merge(roads_2km_st,routes_bystreet_f, on='streetid',how='outer')\n",
    "\n",
    "#Finding None values in 'routes_count' and changing them to 0\n",
    "#Boolean mask\n",
    "idx = routes_bystreetgdf['routes_count'].isna()\n",
    "#Change where boolean mask\n",
    "routes_bystreetgdf.loc[idx, 'routes_count'] = 0\n",
    "\n",
    "\n",
    "routes_bystreetgdf = gpd.GeoDataFrame(routes_bystreetgdf, geometry='geometry')\n",
    "routes_bystreetgdf"
   ]
  },
  {
   "cell_type": "code",
   "execution_count": 104,
   "id": "b21e891a-c93e-4dd4-ad77-07d7aebdf84e",
   "metadata": {},
   "outputs": [
    {
     "data": {
      "text/plain": [
       "<AxesSubplot:>"
      ]
     },
     "execution_count": 104,
     "metadata": {},
     "output_type": "execute_result"
    },
    {
     "data": {
      "image/png": "[encoded data removed]",
      "text/plain": [
       "<Figure size 432x288 with 1 Axes>"
      ]
     },
     "metadata": {
      "needs_background": "light"
     },
     "output_type": "display_data"
    }
   ],
   "source": [
    "routes_bystreetgdf = routes_bystreetgdf.to_crs(\"EPSG:4326\")\n",
    "routes_bystreetgdf.plot()"
   ]
  },
  {
   "cell_type": "markdown",
   "id": "45ba68c5-37b3-4c9c-bb1d-a4b41c1af7f8",
   "metadata": {},
   "source": [
    "## Saving to db."
   ]
  },
  {
   "cell_type": "code",
   "execution_count": 105,
   "id": "767c7e31-0703-41ee-a8bf-6a2faee45ebd",
   "metadata": {},
   "outputs": [],
   "source": [
    "aup.gdf_to_db_slow(routes_bystreetgdf,'rutastransporte_2km_bystreet','segundopiso',if_exists=\"replace\")"
   ]
  },
  {
   "cell_type": "code",
   "execution_count": null,
   "id": "4e429837-73d5-42c7-a181-cc1785bdd771",
   "metadata": {},
   "outputs": [],
   "source": []
  }
 ],
 "metadata": {
  "kernelspec": {
   "display_name": "Python 3 (ipykernel)",
   "language": "python",
   "name": "python3"
  },
  "language_info": {
   "codemirror_mode": {
    "name": "ipython",
    "version": 3
   },
   "file_extension": ".py",
   "mimetype": "text/x-python",
   "name": "python",
   "nbconvert_exporter": "python",
   "pygments_lexer": "ipython3",
   "version": "3.9.7"
  }
 },
 "nbformat": 4,
 "nbformat_minor": 5
}
