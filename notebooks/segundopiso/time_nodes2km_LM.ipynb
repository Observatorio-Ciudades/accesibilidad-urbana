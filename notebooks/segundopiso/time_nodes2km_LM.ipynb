{
 "cells": [
  {
   "cell_type": "markdown",
   "id": "d4a69436-3210-4438-b8d0-40a4703a2740",
   "metadata": {},
   "source": [
    "Medir el tiempo de nodos en buffer de 2km al punto más cercano de López Mateos:\n",
    "\n",
    "1. Hacer selección de los nodos que corresponden a López Mateos en un gdf manualmente (GIS?)\n",
    "2. Descargar buffer 2km base de datos\n",
    "3. graph_from_hippo para descargar edges_speed y nodes dentro del buffer\n",
    "4. Museo_ciencias_ambientales>26cMCA .ipynb celda 34 aup_find_nearest\n",
    "5. Museo_ciencias_ambientales>26cMCA .ipynb celd 35 aup.calculate_distance_nearest_poi\n",
    "6. agrupar a hexres9"
   ]
  }
 ],
 "metadata": {
  "kernelspec": {
   "display_name": "Python 3 (ipykernel)",
   "language": "python",
   "name": "python3"
  },
  "language_info": {
   "codemirror_mode": {
    "name": "ipython",
    "version": 3
   },
   "file_extension": ".py",
   "mimetype": "text/x-python",
   "name": "python",
   "nbconvert_exporter": "python",
   "pygments_lexer": "ipython3",
   "version": "3.9.7"
  }
 },
 "nbformat": 4,
 "nbformat_minor": 5
}
