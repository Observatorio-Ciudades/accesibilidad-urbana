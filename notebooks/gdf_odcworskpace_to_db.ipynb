{
 "cells": [
  {
   "cell_type": "markdown",
   "id": "b1455a10-bd65-4d4e-993b-934e8bddc661",
   "metadata": {},
   "source": [
    "## Pasar gdf de odc workspace a db"
   ]
  },
  {
   "cell_type": "markdown",
   "id": "4cee80ad-cb10-4d5f-ab4f-b95f61e2e3e2",
   "metadata": {},
   "source": [
    "Este notebook importa un gdf de odc workspace>data>external y lo sube a la base de datos"
   ]
  },
  {
   "cell_type": "code",
   "execution_count": 1,
   "id": "6180e580-0aff-444b-b55f-8ef20dd82bd7",
   "metadata": {},
   "outputs": [
    {
     "name": "stdout",
     "output_type": "stream",
     "text": [
      "2023-01-13 16:39:30 Configured OSMnx 1.1.1\n",
      "2023-01-13 16:39:30 HTTP response caching is on\n"
     ]
    }
   ],
   "source": [
    "import os\n",
    "import sys\n",
    "\n",
    "import pandas as pd\n",
    "import geopandas as gpd\n",
    "import seaborn as sns\n",
    "import warnings\n",
    "warnings.simplefilter(action='ignore', category=FutureWarning)\n",
    "\n",
    "module_path = os.path.abspath(os.path.join('../'))\n",
    "if module_path not in sys.path:\n",
    "    sys.path.append(module_path)\n",
    "    import aup"
   ]
  },
  {
   "cell_type": "code",
   "execution_count": 15,
   "id": "b9641882-751f-44e9-91da-82eb684b0561",
   "metadata": {},
   "outputs": [],
   "source": [
    "#Importing data from odcworkspace > external\n",
    "gdf = gpd.read_file(\"../data/external/db_segundopiso/censo_10_20_mza_hexres9_guadalajara.gpkg\")"
   ]
  },
  {
   "cell_type": "code",
   "execution_count": 16,
   "id": "275b75b5-ed49-4c24-9d19-12ec10e288ad",
   "metadata": {},
   "outputs": [],
   "source": [
    "#Uploading to db\n",
    "aup.gdf_to_db_slow(gdf,\"censo1020_mza_hexres9_guadalajara\", 'segundopiso', if_exists='replace')"
   ]
  },
  {
   "cell_type": "code",
   "execution_count": null,
   "id": "17f58f3e-e571-484a-80dc-81112e3df749",
   "metadata": {},
   "outputs": [],
   "source": []
  }
 ],
 "metadata": {
  "kernelspec": {
   "display_name": "Python 3 (ipykernel)",
   "language": "python",
   "name": "python3"
  },
  "language_info": {
   "codemirror_mode": {
    "name": "ipython",
    "version": 3
   },
   "file_extension": ".py",
   "mimetype": "text/x-python",
   "name": "python",
   "nbconvert_exporter": "python",
   "pygments_lexer": "ipython3",
   "version": "3.9.7"
  }
 },
 "nbformat": 4,
 "nbformat_minor": 5
}
