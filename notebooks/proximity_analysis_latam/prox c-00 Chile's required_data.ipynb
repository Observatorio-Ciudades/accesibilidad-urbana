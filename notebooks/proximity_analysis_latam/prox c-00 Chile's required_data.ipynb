{
 "cells": [
  {
   "cell_type": "code",
   "execution_count": 1,
   "id": "731048e3-b7e9-4c1c-aa0f-c720410fd37e",
   "metadata": {
    "tags": []
   },
   "outputs": [
    {
     "name": "stderr",
     "output_type": "stream",
     "text": [
      "/usr/local/python/lib/python3.10/site-packages/osmnx/utils.py:192: UserWarning: The `utils.config` function is deprecated and will be removed in a future release. Instead, use the `settings` module directly to configure a global setting's value. For example, `ox.settings.log_console=True`.\n",
      "  warnings.warn(\n",
      "/root/accesibilidad-urbana/aup/analysis.py:587: SyntaxWarning: 'float' object is not callable; perhaps you missed a comma?\n",
      "  weights = 1.0 (dist + 1e-12)**power\n"
     ]
    }
   ],
   "source": [
    "import os\n",
    "import sys\n",
    "\n",
    "import pandas as pd\n",
    "import geopandas as gpd\n",
    "import osmnx as ox\n",
    "import numpy as np\n",
    "\n",
    "import matplotlib.pyplot as plt\n",
    "import seaborn as sns\n",
    "\n",
    "import warnings\n",
    "warnings.simplefilter(action='ignore', category=FutureWarning)\n",
    "\n",
    "module_path = os.path.abspath(os.path.join('../../'))\n",
    "if module_path not in sys.path:\n",
    "    sys.path.append(module_path)\n",
    "    import aup"
   ]
  },
  {
   "cell_type": "code",
   "execution_count": 2,
   "id": "e7b2777f-cb29-41f7-8ea3-b15e73af050b",
   "metadata": {
    "tags": []
   },
   "outputs": [],
   "source": [
    "save = True"
   ]
  },
  {
   "cell_type": "markdown",
   "id": "3fe6fe23-0da3-4516-a743-9f89ce735f73",
   "metadata": {
    "tags": []
   },
   "source": [
    "### Required data - Area of interest"
   ]
  },
  {
   "cell_type": "code",
   "execution_count": 3,
   "id": "accbf691-1cd3-4148-94f0-d01d5c2f4be0",
   "metadata": {
    "tags": []
   },
   "outputs": [
    {
     "data": {
      "text/plain": [
       "<Axes: >"
      ]
     },
     "execution_count": 3,
     "metadata": {},
     "output_type": "execute_result"
    },
    {
     "data": {
      "image/png": "[encoded data removed]",
      "text/plain": [
       "<Figure size 640x480 with 1 Axes>"
      ]
     },
     "metadata": {},
     "output_type": "display_data"
    }
   ],
   "source": [
    "aoi_dir = \"../../data/external/prox_latam/aoi_rmsantiago.gpkg\"\n",
    "aoi = gpd.read_file(aoi_dir)\n",
    "\n",
    "# Show\n",
    "aoi.plot()"
   ]
  },
  {
   "cell_type": "markdown",
   "id": "acc77be8-e4a3-48c0-b964-401c3d3e370d",
   "metadata": {},
   "source": [
    "### Required data - pois - dne"
   ]
  },
  {
   "cell_type": "code",
   "execution_count": 6,
   "id": "401d59c1-05d2-4a94-8336-a578e5d360c2",
   "metadata": {
    "tags": []
   },
   "outputs": [
    {
     "name": "stdout",
     "output_type": "stream",
     "text": [
      "(353643, 2)\n"
     ]
    },
    {
     "data": {
      "text/html": [
       "<div>\n",
       "<style scoped>\n",
       "    .dataframe tbody tr th:only-of-type {\n",
       "        vertical-align: middle;\n",
       "    }\n",
       "\n",
       "    .dataframe tbody tr th {\n",
       "        vertical-align: top;\n",
       "    }\n",
       "\n",
       "    .dataframe thead th {\n",
       "        text-align: right;\n",
       "    }\n",
       "</style>\n",
       "<table border=\"1\" class=\"dataframe\">\n",
       "  <thead>\n",
       "    <tr style=\"text-align: right;\">\n",
       "      <th></th>\n",
       "      <th>code</th>\n",
       "      <th>geometry</th>\n",
       "    </tr>\n",
       "  </thead>\n",
       "  <tbody>\n",
       "    <tr>\n",
       "      <th>0</th>\n",
       "      <td>47</td>\n",
       "      <td>POINT (-70.14256 -20.21390)</td>\n",
       "    </tr>\n",
       "    <tr>\n",
       "      <th>1</th>\n",
       "      <td>47</td>\n",
       "      <td>POINT (-70.12391 -20.26698)</td>\n",
       "    </tr>\n",
       "  </tbody>\n",
       "</table>\n",
       "</div>"
      ],
      "text/plain": [
       "   code                     geometry\n",
       "0    47  POINT (-70.14256 -20.21390)\n",
       "1    47  POINT (-70.12391 -20.26698)"
      ]
     },
     "execution_count": 6,
     "metadata": {},
     "output_type": "execute_result"
    }
   ],
   "source": [
    "dne = gpd.read_file(\"../../data/external/prox_latam/dne_2017_chile.gpkg\")\n",
    "\n",
    "# Filter por pois\n",
    "divisiones = [47,56,59,88,90,91,93,96]\n",
    "dne_pois = gpd.GeoDataFrame()\n",
    "\n",
    "for d in divisiones:\n",
    "    dne_tmp = dne.loc[dne['DIVISION_CIIU4CL'] == f'{d}']\n",
    "    dne_pois = pd.concat([dne_pois,dne_tmp])\n",
    "\n",
    "# Format\n",
    "dne_pois = dne_pois.rename(columns={'DIVISION_CIIU4CL':'code'})\n",
    "dne_pois = dne_pois[['code','geometry']]\n",
    "dne_pois['code'] = dne_pois['code'].astype('int64')\n",
    "\n",
    "# Show\n",
    "print(dne_pois.shape)\n",
    "dne_pois.head(2)"
   ]
  },
  {
   "cell_type": "markdown",
   "id": "50c10722-a4d7-4564-91c9-d74f8a39354c",
   "metadata": {
    "tags": []
   },
   "source": [
    "### Required data - pois - Educación parvularia (preescolar)"
   ]
  },
  {
   "cell_type": "code",
   "execution_count": 8,
   "id": "87fb22dc-01b0-4fff-846e-d23a7056a675",
   "metadata": {
    "tags": []
   },
   "outputs": [
    {
     "name": "stdout",
     "output_type": "stream",
     "text": [
      "(11951, 2)\n"
     ]
    },
    {
     "data": {
      "text/html": [
       "<div>\n",
       "<style scoped>\n",
       "    .dataframe tbody tr th:only-of-type {\n",
       "        vertical-align: middle;\n",
       "    }\n",
       "\n",
       "    .dataframe tbody tr th {\n",
       "        vertical-align: top;\n",
       "    }\n",
       "\n",
       "    .dataframe thead th {\n",
       "        text-align: right;\n",
       "    }\n",
       "</style>\n",
       "<table border=\"1\" class=\"dataframe\">\n",
       "  <thead>\n",
       "    <tr style=\"text-align: right;\">\n",
       "      <th></th>\n",
       "      <th>code</th>\n",
       "      <th>geometry</th>\n",
       "    </tr>\n",
       "  </thead>\n",
       "  <tbody>\n",
       "    <tr>\n",
       "      <th>0</th>\n",
       "      <td>611111</td>\n",
       "      <td>POINT (-70.30276 -18.46986)</td>\n",
       "    </tr>\n",
       "    <tr>\n",
       "      <th>1</th>\n",
       "      <td>611111</td>\n",
       "      <td>POINT (-70.31758 -18.48249)</td>\n",
       "    </tr>\n",
       "  </tbody>\n",
       "</table>\n",
       "</div>"
      ],
      "text/plain": [
       "     code                     geometry\n",
       "0  611111  POINT (-70.30276 -18.46986)\n",
       "1  611111  POINT (-70.31758 -18.48249)"
      ]
     },
     "execution_count": 8,
     "metadata": {},
     "output_type": "execute_result"
    }
   ],
   "source": [
    "parvularia = gpd.read_file(\"../../data/external/prox_latam/educacion_parvularia_chile_epsg4326.gpkg\")\n",
    "\n",
    "# Format\n",
    "parvularia.loc[:,'code'] = 611111\n",
    "pavularia_pois = parvularia[['code','geometry']]\n",
    "\n",
    "# Show\n",
    "print(pavularia_pois.shape)\n",
    "pavularia_pois.head(2)"
   ]
  },
  {
   "cell_type": "markdown",
   "id": "f88b0d19-460c-4a4d-bc8e-39c1b5ff963e",
   "metadata": {
    "tags": []
   },
   "source": [
    "### Required data - pois - Educación escolar (básica)"
   ]
  },
  {
   "cell_type": "code",
   "execution_count": 9,
   "id": "606783b1-9a7d-4e25-9359-2758e888cd97",
   "metadata": {
    "tags": []
   },
   "outputs": [
    {
     "name": "stdout",
     "output_type": "stream",
     "text": [
      "(11285, 2)\n"
     ]
    },
    {
     "data": {
      "text/html": [
       "<div>\n",
       "<style scoped>\n",
       "    .dataframe tbody tr th:only-of-type {\n",
       "        vertical-align: middle;\n",
       "    }\n",
       "\n",
       "    .dataframe tbody tr th {\n",
       "        vertical-align: top;\n",
       "    }\n",
       "\n",
       "    .dataframe thead th {\n",
       "        text-align: right;\n",
       "    }\n",
       "</style>\n",
       "<table border=\"1\" class=\"dataframe\">\n",
       "  <thead>\n",
       "    <tr style=\"text-align: right;\">\n",
       "      <th></th>\n",
       "      <th>code</th>\n",
       "      <th>geometry</th>\n",
       "    </tr>\n",
       "  </thead>\n",
       "  <tbody>\n",
       "    <tr>\n",
       "      <th>0</th>\n",
       "      <td>611121</td>\n",
       "      <td>POINT (-67.07622 -55.08317)</td>\n",
       "    </tr>\n",
       "    <tr>\n",
       "      <th>1</th>\n",
       "      <td>611121</td>\n",
       "      <td>POINT (-67.60534 -54.93480)</td>\n",
       "    </tr>\n",
       "  </tbody>\n",
       "</table>\n",
       "</div>"
      ],
      "text/plain": [
       "     code                     geometry\n",
       "0  611121  POINT (-67.07622 -55.08317)\n",
       "1  611121  POINT (-67.60534 -54.93480)"
      ]
     },
     "execution_count": 9,
     "metadata": {},
     "output_type": "execute_result"
    }
   ],
   "source": [
    "escolar = gpd.read_file(\"../../data/external/prox_latam/educacion_escolar_chile_epsg4326.gpkg\")\n",
    "\n",
    "# Format\n",
    "escolar.loc[:,'code'] = 611121\n",
    "escolar_pois = escolar[['code','geometry']]\n",
    "\n",
    "# Show\n",
    "print(escolar_pois.shape)\n",
    "escolar_pois.head(2)"
   ]
  },
  {
   "cell_type": "markdown",
   "id": "12c0d117-b904-4170-88b1-cf62aea34ab2",
   "metadata": {
    "tags": []
   },
   "source": [
    "### Required data - pois - salud"
   ]
  },
  {
   "cell_type": "code",
   "execution_count": 7,
   "id": "133cb904-e39f-4cc7-b393-904ff57b061e",
   "metadata": {
    "tags": []
   },
   "outputs": [
    {
     "name": "stdout",
     "output_type": "stream",
     "text": [
      "(2162, 2)\n"
     ]
    },
    {
     "data": {
      "text/html": [
       "<div>\n",
       "<style scoped>\n",
       "    .dataframe tbody tr th:only-of-type {\n",
       "        vertical-align: middle;\n",
       "    }\n",
       "\n",
       "    .dataframe tbody tr th {\n",
       "        vertical-align: top;\n",
       "    }\n",
       "\n",
       "    .dataframe thead th {\n",
       "        text-align: right;\n",
       "    }\n",
       "</style>\n",
       "<table border=\"1\" class=\"dataframe\">\n",
       "  <thead>\n",
       "    <tr style=\"text-align: right;\">\n",
       "      <th></th>\n",
       "      <th>code</th>\n",
       "      <th>geometry</th>\n",
       "    </tr>\n",
       "  </thead>\n",
       "  <tbody>\n",
       "    <tr>\n",
       "      <th>33</th>\n",
       "      <td>8610</td>\n",
       "      <td>POINT (-70.31295 -18.48248)</td>\n",
       "    </tr>\n",
       "    <tr>\n",
       "      <th>37</th>\n",
       "      <td>8610</td>\n",
       "      <td>POINT (-70.25005 -18.54442)</td>\n",
       "    </tr>\n",
       "  </tbody>\n",
       "</table>\n",
       "</div>"
      ],
      "text/plain": [
       "    code                     geometry\n",
       "33  8610  POINT (-70.31295 -18.48248)\n",
       "37  8610  POINT (-70.25005 -18.54442)"
      ]
     },
     "execution_count": 7,
     "metadata": {},
     "output_type": "execute_result"
    }
   ],
   "source": [
    "salud = gpd.read_file(\"../../data/external/prox_latam/salud_chile_epsg4326.gpkg\")\n",
    "\n",
    "# Filter por pois\n",
    "tipos = ['Hospital','Clínica','Centro de Salud','Centro de Salud Familiar (CESFAM)',\n",
    "         'Centro Comunitario de Salud Familiar (CECOSF)',\n",
    "         'Servicio de Atención Primaria de Urgencia (SAPU)',\n",
    "         'Servicio de Atención Primaria de Urgencia de Alta Resolutividad (SAR)',\n",
    "         'Consultorio General Urbano (CGU)','Consultorio General Rural (CGR)',\n",
    "         'Servicio de Atención Primaria de Urgencia de Alta Resolutividad  (SAR)',\n",
    "         'Servicio de Urgencia Rural (SUR)']\n",
    "\n",
    "salud_pois = gpd.GeoDataFrame()\n",
    "\n",
    "for t in tipos:\n",
    "    salud_tmp = salud.loc[salud['TIPO'] == t]\n",
    "    salud_pois = pd.concat([salud_pois,salud_tmp])\n",
    "\n",
    "# Format\n",
    "salud_pois.loc[:,'code'] = 8610\n",
    "salud_pois = salud_pois[['code','geometry']]\n",
    "\n",
    "# Show\n",
    "print(salud_pois.shape)\n",
    "salud_pois.head(2)"
   ]
  },
  {
   "cell_type": "markdown",
   "id": "53919916-6784-44a1-88a1-a6ae90c51ffd",
   "metadata": {
    "tags": []
   },
   "source": [
    "### Required data - pois - Concatenate data"
   ]
  },
  {
   "cell_type": "code",
   "execution_count": 10,
   "id": "41118115-d847-4181-83fc-0b4c523c84c7",
   "metadata": {
    "tags": []
   },
   "outputs": [
    {
     "name": "stdout",
     "output_type": "stream",
     "text": [
      "(379041, 2)\n"
     ]
    },
    {
     "data": {
      "text/html": [
       "<div>\n",
       "<style scoped>\n",
       "    .dataframe tbody tr th:only-of-type {\n",
       "        vertical-align: middle;\n",
       "    }\n",
       "\n",
       "    .dataframe tbody tr th {\n",
       "        vertical-align: top;\n",
       "    }\n",
       "\n",
       "    .dataframe thead th {\n",
       "        text-align: right;\n",
       "    }\n",
       "</style>\n",
       "<table border=\"1\" class=\"dataframe\">\n",
       "  <thead>\n",
       "    <tr style=\"text-align: right;\">\n",
       "      <th></th>\n",
       "      <th>code</th>\n",
       "      <th>geometry</th>\n",
       "    </tr>\n",
       "  </thead>\n",
       "  <tbody>\n",
       "    <tr>\n",
       "      <th>0</th>\n",
       "      <td>47</td>\n",
       "      <td>POINT (-70.14256 -20.21390)</td>\n",
       "    </tr>\n",
       "    <tr>\n",
       "      <th>1</th>\n",
       "      <td>47</td>\n",
       "      <td>POINT (-70.12391 -20.26698)</td>\n",
       "    </tr>\n",
       "  </tbody>\n",
       "</table>\n",
       "</div>"
      ],
      "text/plain": [
       "   code                     geometry\n",
       "0    47  POINT (-70.14256 -20.21390)\n",
       "1    47  POINT (-70.12391 -20.26698)"
      ]
     },
     "execution_count": 10,
     "metadata": {},
     "output_type": "execute_result"
    }
   ],
   "source": [
    "pois = pd.concat([dne_pois,salud_pois,pavularia_pois,escolar_pois])\n",
    "\n",
    "# Save\n",
    "if save:\n",
    "    pois.to_file('../../data/external/prox_latam/pois_santiago.gpkg', driver='GPKG')\n",
    "    \n",
    "# Show\n",
    "print(pois.shape)\n",
    "pois.head(2)"
   ]
  },
  {
   "cell_type": "code",
   "execution_count": null,
   "id": "41d63b62-a04e-4684-a70a-ec0a7ee6c098",
   "metadata": {},
   "outputs": [],
   "source": []
  }
 ],
 "metadata": {
  "kernelspec": {
   "display_name": "Python 3 (ipykernel)",
   "language": "python",
   "name": "python3"
  },
  "language_info": {
   "codemirror_mode": {
    "name": "ipython",
    "version": 3
   },
   "file_extension": ".py",
   "mimetype": "text/x-python",
   "name": "python",
   "nbconvert_exporter": "python",
   "pygments_lexer": "ipython3",
   "version": "3.10.5"
  }
 },
 "nbformat": 4,
 "nbformat_minor": 5
}
