{
 "cells": [
  {
   "cell_type": "code",
   "execution_count": 1,
   "id": "731048e3-b7e9-4c1c-aa0f-c720410fd37e",
   "metadata": {
    "tags": []
   },
   "outputs": [
    {
     "name": "stderr",
     "output_type": "stream",
     "text": [
      "/usr/local/python/lib/python3.10/site-packages/osmnx/utils.py:192: UserWarning: The `utils.config` function is deprecated and will be removed in a future release. Instead, use the `settings` module directly to configure a global setting's value. For example, `ox.settings.log_console=True`.\n",
      "  warnings.warn(\n"
     ]
    }
   ],
   "source": [
    "import os\n",
    "import sys\n",
    "\n",
    "import pandas as pd\n",
    "import geopandas as gpd\n",
    "import osmnx as ox\n",
    "import numpy as np\n",
    "\n",
    "import matplotlib.pyplot as plt\n",
    "import seaborn as sns\n",
    "\n",
    "import warnings\n",
    "warnings.simplefilter(action='ignore', category=FutureWarning)\n",
    "\n",
    "module_path = os.path.abspath(os.path.join('../../'))\n",
    "if module_path not in sys.path:\n",
    "    sys.path.append(module_path)\n",
    "    import aup"
   ]
  },
  {
   "cell_type": "code",
   "execution_count": 17,
   "id": "e7b2777f-cb29-41f7-8ea3-b15e73af050b",
   "metadata": {
    "tags": []
   },
   "outputs": [],
   "source": [
    "save = True"
   ]
  },
  {
   "cell_type": "code",
   "execution_count": 3,
   "id": "accbf691-1cd3-4148-94f0-d01d5c2f4be0",
   "metadata": {
    "tags": []
   },
   "outputs": [],
   "source": [
    "aoi_dir = \"../../data/external/prox_latam/aoi_rmsantiago.gpkg\""
   ]
  },
  {
   "cell_type": "code",
   "execution_count": 4,
   "id": "9da8aab4-41fa-4a3c-89fa-aa49edfe607b",
   "metadata": {
    "tags": []
   },
   "outputs": [
    {
     "data": {
      "text/plain": [
       "<Axes: >"
      ]
     },
     "execution_count": 4,
     "metadata": {},
     "output_type": "execute_result"
    },
    {
     "data": {
      "image/png": "[encoded data removed]",
      "text/plain": [
       "<Figure size 640x480 with 1 Axes>"
      ]
     },
     "metadata": {},
     "output_type": "display_data"
    }
   ],
   "source": [
    "aoi = gpd.read_file(aoi_dir)\n",
    "\n",
    "#Show\n",
    "aoi.plot()"
   ]
  },
  {
   "cell_type": "code",
   "execution_count": 5,
   "id": "401d59c1-05d2-4a94-8336-a578e5d360c2",
   "metadata": {
    "tags": []
   },
   "outputs": [
    {
     "data": {
      "text/html": [
       "<div>\n",
       "<style scoped>\n",
       "    .dataframe tbody tr th:only-of-type {\n",
       "        vertical-align: middle;\n",
       "    }\n",
       "\n",
       "    .dataframe tbody tr th {\n",
       "        vertical-align: top;\n",
       "    }\n",
       "\n",
       "    .dataframe thead th {\n",
       "        text-align: right;\n",
       "    }\n",
       "</style>\n",
       "<table border=\"1\" class=\"dataframe\">\n",
       "  <thead>\n",
       "    <tr style=\"text-align: right;\">\n",
       "      <th></th>\n",
       "      <th>OBJECTID</th>\n",
       "      <th>REGION</th>\n",
       "      <th>NOM_REGION</th>\n",
       "      <th>COMUNA</th>\n",
       "      <th>NOM_COMUNA</th>\n",
       "      <th>SECCION_CIIU4CL</th>\n",
       "      <th>GLOSA_SECCION</th>\n",
       "      <th>DIVISION_CIIU4CL</th>\n",
       "      <th>GLOSA_DIVISION</th>\n",
       "      <th>geometry</th>\n",
       "    </tr>\n",
       "  </thead>\n",
       "  <tbody>\n",
       "    <tr>\n",
       "      <th>0</th>\n",
       "      <td>1</td>\n",
       "      <td>1</td>\n",
       "      <td>REGIÓN DE TARAPACÁ</td>\n",
       "      <td>1101</td>\n",
       "      <td>IQUIQUE</td>\n",
       "      <td>G</td>\n",
       "      <td>Comercio al por mayor y al por menor; reparaci...</td>\n",
       "      <td>47</td>\n",
       "      <td>Comercio al por menor, excepto el de vehículos...</td>\n",
       "      <td>POINT (-70.14256 -20.21390)</td>\n",
       "    </tr>\n",
       "    <tr>\n",
       "      <th>1</th>\n",
       "      <td>2</td>\n",
       "      <td>1</td>\n",
       "      <td>REGIÓN DE TARAPACÁ</td>\n",
       "      <td>1101</td>\n",
       "      <td>IQUIQUE</td>\n",
       "      <td>G</td>\n",
       "      <td>Comercio al por mayor y al por menor; reparaci...</td>\n",
       "      <td>47</td>\n",
       "      <td>Comercio al por menor, excepto el de vehículos...</td>\n",
       "      <td>POINT (-70.12391 -20.26698)</td>\n",
       "    </tr>\n",
       "  </tbody>\n",
       "</table>\n",
       "</div>"
      ],
      "text/plain": [
       "   OBJECTID REGION          NOM_REGION COMUNA NOM_COMUNA SECCION_CIIU4CL  \\\n",
       "0         1      1  REGIÓN DE TARAPACÁ   1101    IQUIQUE               G   \n",
       "1         2      1  REGIÓN DE TARAPACÁ   1101    IQUIQUE               G   \n",
       "\n",
       "                                       GLOSA_SECCION DIVISION_CIIU4CL  \\\n",
       "0  Comercio al por mayor y al por menor; reparaci...               47   \n",
       "1  Comercio al por mayor y al por menor; reparaci...               47   \n",
       "\n",
       "                                      GLOSA_DIVISION  \\\n",
       "0  Comercio al por menor, excepto el de vehículos...   \n",
       "1  Comercio al por menor, excepto el de vehículos...   \n",
       "\n",
       "                      geometry  \n",
       "0  POINT (-70.14256 -20.21390)  \n",
       "1  POINT (-70.12391 -20.26698)  "
      ]
     },
     "execution_count": 5,
     "metadata": {},
     "output_type": "execute_result"
    }
   ],
   "source": [
    "dne = gpd.read_file(\"../../data/external/prox_latam/dne_2017_chile.gpkg\")\n",
    "dne.head(2)"
   ]
  },
  {
   "cell_type": "code",
   "execution_count": 9,
   "id": "95150676-18c4-4357-b2c8-0871947aa850",
   "metadata": {
    "tags": []
   },
   "outputs": [
    {
     "name": "stdout",
     "output_type": "stream",
     "text": [
      "(353643, 2)\n"
     ]
    },
    {
     "data": {
      "text/html": [
       "<div>\n",
       "<style scoped>\n",
       "    .dataframe tbody tr th:only-of-type {\n",
       "        vertical-align: middle;\n",
       "    }\n",
       "\n",
       "    .dataframe tbody tr th {\n",
       "        vertical-align: top;\n",
       "    }\n",
       "\n",
       "    .dataframe thead th {\n",
       "        text-align: right;\n",
       "    }\n",
       "</style>\n",
       "<table border=\"1\" class=\"dataframe\">\n",
       "  <thead>\n",
       "    <tr style=\"text-align: right;\">\n",
       "      <th></th>\n",
       "      <th>code</th>\n",
       "      <th>geometry</th>\n",
       "    </tr>\n",
       "  </thead>\n",
       "  <tbody>\n",
       "    <tr>\n",
       "      <th>0</th>\n",
       "      <td>47</td>\n",
       "      <td>POINT (-70.14256 -20.21390)</td>\n",
       "    </tr>\n",
       "    <tr>\n",
       "      <th>1</th>\n",
       "      <td>47</td>\n",
       "      <td>POINT (-70.12391 -20.26698)</td>\n",
       "    </tr>\n",
       "  </tbody>\n",
       "</table>\n",
       "</div>"
      ],
      "text/plain": [
       "   code                     geometry\n",
       "0    47  POINT (-70.14256 -20.21390)\n",
       "1    47  POINT (-70.12391 -20.26698)"
      ]
     },
     "execution_count": 9,
     "metadata": {},
     "output_type": "execute_result"
    }
   ],
   "source": [
    "# Filter por pois\n",
    "divisiones = [47,56,59,88,90,91,93,96]\n",
    "dne_pois = gpd.GeoDataFrame()\n",
    "\n",
    "for d in divisiones:\n",
    "    dne_tmp = dne.loc[dne['DIVISION_CIIU4CL'] == f'{d}']\n",
    "    dne_pois = pd.concat([dne_pois,dne_tmp])\n",
    "\n",
    "# Format\n",
    "dne_pois = dne_pois.rename(columns={'DIVISION_CIIU4CL':'code'})\n",
    "dne_pois = dne_pois[['code','geometry']]\n",
    "dne_pois['code'] = dne_pois['code'].astype('int64')\n",
    "\n",
    "# Show\n",
    "print(dne_pois.shape)\n",
    "dne_pois.head(2)"
   ]
  },
  {
   "cell_type": "code",
   "execution_count": 10,
   "id": "133cb904-e39f-4cc7-b393-904ff57b061e",
   "metadata": {
    "tags": []
   },
   "outputs": [
    {
     "data": {
      "text/html": [
       "<div>\n",
       "<style scoped>\n",
       "    .dataframe tbody tr th:only-of-type {\n",
       "        vertical-align: middle;\n",
       "    }\n",
       "\n",
       "    .dataframe tbody tr th {\n",
       "        vertical-align: top;\n",
       "    }\n",
       "\n",
       "    .dataframe thead th {\n",
       "        text-align: right;\n",
       "    }\n",
       "</style>\n",
       "<table border=\"1\" class=\"dataframe\">\n",
       "  <thead>\n",
       "    <tr style=\"text-align: right;\">\n",
       "      <th></th>\n",
       "      <th>C_ANT</th>\n",
       "      <th>c_VIG</th>\n",
       "      <th>C_MAD</th>\n",
       "      <th>C_NMAD</th>\n",
       "      <th>C_REG</th>\n",
       "      <th>NOM_REG</th>\n",
       "      <th>C_DEPEND</th>\n",
       "      <th>DEPEN</th>\n",
       "      <th>PERENEC</th>\n",
       "      <th>TIPO</th>\n",
       "      <th>...</th>\n",
       "      <th>TIPO_CAMB</th>\n",
       "      <th>LATITUD</th>\n",
       "      <th>LONGITUD</th>\n",
       "      <th>PRESTADOR</th>\n",
       "      <th>ESTADO</th>\n",
       "      <th>NIVEL_COM</th>\n",
       "      <th>MODALIDAD</th>\n",
       "      <th>COORD_X</th>\n",
       "      <th>COORD_Y</th>\n",
       "      <th>geometry</th>\n",
       "    </tr>\n",
       "  </thead>\n",
       "  <tbody>\n",
       "    <tr>\n",
       "      <th>0</th>\n",
       "      <td>23-030</td>\n",
       "      <td>123030.0</td>\n",
       "      <td>23-010</td>\n",
       "      <td>123010</td>\n",
       "      <td>10.0</td>\n",
       "      <td>Región De Los Lagos</td>\n",
       "      <td>23.0</td>\n",
       "      <td>Servicio de Salud Osorno</td>\n",
       "      <td>Perteneciente</td>\n",
       "      <td>Unidad de Salud Funcionarios</td>\n",
       "      <td>...</td>\n",
       "      <td>Sin cambio</td>\n",
       "      <td>-40.588216</td>\n",
       "      <td>-73.127054</td>\n",
       "      <td>Público</td>\n",
       "      <td>Vigente en operación</td>\n",
       "      <td>Baja Complejidad</td>\n",
       "      <td>Atención Abierta-Ambulatoria</td>\n",
       "      <td>150710.486335</td>\n",
       "      <td>5.498761e+06</td>\n",
       "      <td>POINT (-73.12705 -40.58822)</td>\n",
       "    </tr>\n",
       "    <tr>\n",
       "      <th>1</th>\n",
       "      <td>01-030</td>\n",
       "      <td>101030.0</td>\n",
       "      <td>No Aplica</td>\n",
       "      <td>No Aplica</td>\n",
       "      <td>15.0</td>\n",
       "      <td>Región De Arica Parinacota</td>\n",
       "      <td>1.0</td>\n",
       "      <td>Servicio de Salud Arica</td>\n",
       "      <td>Perteneciente</td>\n",
       "      <td>Unidad de Salud Funcionarios</td>\n",
       "      <td>...</td>\n",
       "      <td>Sin cambio</td>\n",
       "      <td>-18.484664</td>\n",
       "      <td>-70.303464</td>\n",
       "      <td>Público</td>\n",
       "      <td>Vigente en operación</td>\n",
       "      <td>Baja Complejidad</td>\n",
       "      <td>Atención Abierta-Ambulatoria</td>\n",
       "      <td>362384.209122</td>\n",
       "      <td>7.955695e+06</td>\n",
       "      <td>POINT (-70.30346 -18.48466)</td>\n",
       "    </tr>\n",
       "  </tbody>\n",
       "</table>\n",
       "<p>2 rows × 36 columns</p>\n",
       "</div>"
      ],
      "text/plain": [
       "    C_ANT     c_VIG      C_MAD     C_NMAD  C_REG                     NOM_REG  \\\n",
       "0  23-030  123030.0     23-010     123010   10.0         Región De Los Lagos   \n",
       "1  01-030  101030.0  No Aplica  No Aplica   15.0  Región De Arica Parinacota   \n",
       "\n",
       "   C_DEPEND                     DEPEN        PERENEC  \\\n",
       "0      23.0  Servicio de Salud Osorno  Perteneciente   \n",
       "1       1.0   Servicio de Salud Arica  Perteneciente   \n",
       "\n",
       "                           TIPO  ...   TIPO_CAMB    LATITUD   LONGITUD  \\\n",
       "0  Unidad de Salud Funcionarios  ...  Sin cambio -40.588216 -73.127054   \n",
       "1  Unidad de Salud Funcionarios  ...  Sin cambio -18.484664 -70.303464   \n",
       "\n",
       "  PRESTADOR                ESTADO         NIVEL_COM  \\\n",
       "0   Público  Vigente en operación  Baja Complejidad   \n",
       "1   Público  Vigente en operación  Baja Complejidad   \n",
       "\n",
       "                      MODALIDAD        COORD_X       COORD_Y  \\\n",
       "0  Atención Abierta-Ambulatoria  150710.486335  5.498761e+06   \n",
       "1  Atención Abierta-Ambulatoria  362384.209122  7.955695e+06   \n",
       "\n",
       "                      geometry  \n",
       "0  POINT (-73.12705 -40.58822)  \n",
       "1  POINT (-70.30346 -18.48466)  \n",
       "\n",
       "[2 rows x 36 columns]"
      ]
     },
     "execution_count": 10,
     "metadata": {},
     "output_type": "execute_result"
    }
   ],
   "source": [
    "salud = gpd.read_file(\"../../data/external/prox_latam/salud_chile_epsg4326.gpkg\")\n",
    "salud.head(2)"
   ]
  },
  {
   "cell_type": "code",
   "execution_count": 16,
   "id": "633fa624-a64f-46b8-913a-9d7834215b27",
   "metadata": {
    "tags": []
   },
   "outputs": [
    {
     "name": "stdout",
     "output_type": "stream",
     "text": [
      "(11951, 2)\n"
     ]
    },
    {
     "data": {
      "text/html": [
       "<div>\n",
       "<style scoped>\n",
       "    .dataframe tbody tr th:only-of-type {\n",
       "        vertical-align: middle;\n",
       "    }\n",
       "\n",
       "    .dataframe tbody tr th {\n",
       "        vertical-align: top;\n",
       "    }\n",
       "\n",
       "    .dataframe thead th {\n",
       "        text-align: right;\n",
       "    }\n",
       "</style>\n",
       "<table border=\"1\" class=\"dataframe\">\n",
       "  <thead>\n",
       "    <tr style=\"text-align: right;\">\n",
       "      <th></th>\n",
       "      <th>code</th>\n",
       "      <th>geometry</th>\n",
       "    </tr>\n",
       "  </thead>\n",
       "  <tbody>\n",
       "    <tr>\n",
       "      <th>0</th>\n",
       "      <td>611111</td>\n",
       "      <td>POINT (-70.30276 -18.46986)</td>\n",
       "    </tr>\n",
       "    <tr>\n",
       "      <th>1</th>\n",
       "      <td>611111</td>\n",
       "      <td>POINT (-70.31758 -18.48249)</td>\n",
       "    </tr>\n",
       "  </tbody>\n",
       "</table>\n",
       "</div>"
      ],
      "text/plain": [
       "     code                     geometry\n",
       "0  611111  POINT (-70.30276 -18.46986)\n",
       "1  611111  POINT (-70.31758 -18.48249)"
      ]
     },
     "execution_count": 16,
     "metadata": {},
     "output_type": "execute_result"
    }
   ],
   "source": [
    "salud.loc[:,'code'] = 8610\n",
    "salud_pois = parvularia[['code','geometry']]\n",
    "\n",
    "# Show\n",
    "print(pavularia_pois.shape)\n",
    "pavularia_pois.head(2)"
   ]
  },
  {
   "cell_type": "code",
   "execution_count": 12,
   "id": "87fb22dc-01b0-4fff-846e-d23a7056a675",
   "metadata": {
    "tags": []
   },
   "outputs": [
    {
     "data": {
      "text/html": [
       "<div>\n",
       "<style scoped>\n",
       "    .dataframe tbody tr th:only-of-type {\n",
       "        vertical-align: middle;\n",
       "    }\n",
       "\n",
       "    .dataframe tbody tr th {\n",
       "        vertical-align: top;\n",
       "    }\n",
       "\n",
       "    .dataframe thead th {\n",
       "        text-align: right;\n",
       "    }\n",
       "</style>\n",
       "<table border=\"1\" class=\"dataframe\">\n",
       "  <thead>\n",
       "    <tr style=\"text-align: right;\">\n",
       "      <th></th>\n",
       "      <th>AGNO</th>\n",
       "      <th>ID_ESTAB</th>\n",
       "      <th>ORIGEN</th>\n",
       "      <th>NOM_ESTAB</th>\n",
       "      <th>COD_REG_ES</th>\n",
       "      <th>COD_PRO_ES</th>\n",
       "      <th>COD_COM_ES</th>\n",
       "      <th>NOM_COM_ES</th>\n",
       "      <th>COD_DEPROV</th>\n",
       "      <th>NOM_DEPROV</th>\n",
       "      <th>...</th>\n",
       "      <th>NT2_SI</th>\n",
       "      <th>NT2_H</th>\n",
       "      <th>NT2_M</th>\n",
       "      <th>N_TOTAL</th>\n",
       "      <th>DIRECCION</th>\n",
       "      <th>NUMERO</th>\n",
       "      <th>REFERENCIA</th>\n",
       "      <th>LATITUD</th>\n",
       "      <th>LONGITUD</th>\n",
       "      <th>geometry</th>\n",
       "    </tr>\n",
       "  </thead>\n",
       "  <tbody>\n",
       "    <tr>\n",
       "      <th>0</th>\n",
       "      <td>2021.0</td>\n",
       "      <td>2.0</td>\n",
       "      <td>1.0</td>\n",
       "      <td>PARVULARIO LAS ESPIGUITAS</td>\n",
       "      <td>15.0</td>\n",
       "      <td>151.0</td>\n",
       "      <td>15101.0</td>\n",
       "      <td>ARICA</td>\n",
       "      <td>151.0</td>\n",
       "      <td>ARICA</td>\n",
       "      <td>...</td>\n",
       "      <td>0.0</td>\n",
       "      <td>41.0</td>\n",
       "      <td>43.0</td>\n",
       "      <td>170.0</td>\n",
       "      <td>RONALD ROSS</td>\n",
       "      <td>2165.0</td>\n",
       "      <td>POB. JUAN NOE</td>\n",
       "      <td>-18.469862</td>\n",
       "      <td>-70.302757</td>\n",
       "      <td>POINT (-70.30276 -18.46986)</td>\n",
       "    </tr>\n",
       "    <tr>\n",
       "      <th>1</th>\n",
       "      <td>2021.0</td>\n",
       "      <td>8.0</td>\n",
       "      <td>1.0</td>\n",
       "      <td>COLEGIO INTEGRADO EDUARDO FREI MONTALVA</td>\n",
       "      <td>15.0</td>\n",
       "      <td>151.0</td>\n",
       "      <td>15101.0</td>\n",
       "      <td>ARICA</td>\n",
       "      <td>151.0</td>\n",
       "      <td>ARICA</td>\n",
       "      <td>...</td>\n",
       "      <td>0.0</td>\n",
       "      <td>23.0</td>\n",
       "      <td>9.0</td>\n",
       "      <td>60.0</td>\n",
       "      <td>SAN MARCOS</td>\n",
       "      <td>611.0</td>\n",
       "      <td>ESQUINA GENERAL LAGOS</td>\n",
       "      <td>-18.482491</td>\n",
       "      <td>-70.317581</td>\n",
       "      <td>POINT (-70.31758 -18.48249)</td>\n",
       "    </tr>\n",
       "  </tbody>\n",
       "</table>\n",
       "<p>2 rows × 37 columns</p>\n",
       "</div>"
      ],
      "text/plain": [
       "     AGNO  ID_ESTAB  ORIGEN                                NOM_ESTAB  \\\n",
       "0  2021.0       2.0     1.0                PARVULARIO LAS ESPIGUITAS   \n",
       "1  2021.0       8.0     1.0  COLEGIO INTEGRADO EDUARDO FREI MONTALVA   \n",
       "\n",
       "   COD_REG_ES  COD_PRO_ES  COD_COM_ES NOM_COM_ES  COD_DEPROV NOM_DEPROV  ...  \\\n",
       "0        15.0       151.0     15101.0      ARICA       151.0      ARICA  ...   \n",
       "1        15.0       151.0     15101.0      ARICA       151.0      ARICA  ...   \n",
       "\n",
       "   NT2_SI  NT2_H  NT2_M  N_TOTAL    DIRECCION  NUMERO             REFERENCIA  \\\n",
       "0     0.0   41.0   43.0    170.0  RONALD ROSS  2165.0          POB. JUAN NOE   \n",
       "1     0.0   23.0    9.0     60.0   SAN MARCOS   611.0  ESQUINA GENERAL LAGOS   \n",
       "\n",
       "     LATITUD   LONGITUD                     geometry  \n",
       "0 -18.469862 -70.302757  POINT (-70.30276 -18.46986)  \n",
       "1 -18.482491 -70.317581  POINT (-70.31758 -18.48249)  \n",
       "\n",
       "[2 rows x 37 columns]"
      ]
     },
     "execution_count": 12,
     "metadata": {},
     "output_type": "execute_result"
    }
   ],
   "source": [
    "parvularia = gpd.read_file(\"../../data/external/prox_latam/educacion_parvularia_chile_epsg4326.gpkg\")\n",
    "parvularia.head(2)"
   ]
  },
  {
   "cell_type": "code",
   "execution_count": 14,
   "id": "7a7bf22a-aeb8-448f-b85c-609928161617",
   "metadata": {
    "tags": []
   },
   "outputs": [
    {
     "name": "stdout",
     "output_type": "stream",
     "text": [
      "(11951, 2)\n"
     ]
    },
    {
     "data": {
      "text/html": [
       "<div>\n",
       "<style scoped>\n",
       "    .dataframe tbody tr th:only-of-type {\n",
       "        vertical-align: middle;\n",
       "    }\n",
       "\n",
       "    .dataframe tbody tr th {\n",
       "        vertical-align: top;\n",
       "    }\n",
       "\n",
       "    .dataframe thead th {\n",
       "        text-align: right;\n",
       "    }\n",
       "</style>\n",
       "<table border=\"1\" class=\"dataframe\">\n",
       "  <thead>\n",
       "    <tr style=\"text-align: right;\">\n",
       "      <th></th>\n",
       "      <th>code</th>\n",
       "      <th>geometry</th>\n",
       "    </tr>\n",
       "  </thead>\n",
       "  <tbody>\n",
       "    <tr>\n",
       "      <th>0</th>\n",
       "      <td>611111</td>\n",
       "      <td>POINT (-70.30276 -18.46986)</td>\n",
       "    </tr>\n",
       "    <tr>\n",
       "      <th>1</th>\n",
       "      <td>611111</td>\n",
       "      <td>POINT (-70.31758 -18.48249)</td>\n",
       "    </tr>\n",
       "  </tbody>\n",
       "</table>\n",
       "</div>"
      ],
      "text/plain": [
       "     code                     geometry\n",
       "0  611111  POINT (-70.30276 -18.46986)\n",
       "1  611111  POINT (-70.31758 -18.48249)"
      ]
     },
     "execution_count": 14,
     "metadata": {},
     "output_type": "execute_result"
    }
   ],
   "source": [
    "parvularia.loc[:,'code'] = 611111\n",
    "pavularia_pois = parvularia[['code','geometry']]\n",
    "\n",
    "# Show\n",
    "print(pavularia_pois.shape)\n",
    "pavularia_pois.head(2)"
   ]
  },
  {
   "cell_type": "code",
   "execution_count": 13,
   "id": "606783b1-9a7d-4e25-9359-2758e888cd97",
   "metadata": {
    "tags": []
   },
   "outputs": [
    {
     "data": {
      "text/html": [
       "<div>\n",
       "<style scoped>\n",
       "    .dataframe tbody tr th:only-of-type {\n",
       "        vertical-align: middle;\n",
       "    }\n",
       "\n",
       "    .dataframe tbody tr th {\n",
       "        vertical-align: top;\n",
       "    }\n",
       "\n",
       "    .dataframe thead th {\n",
       "        text-align: right;\n",
       "    }\n",
       "</style>\n",
       "<table border=\"1\" class=\"dataframe\">\n",
       "  <thead>\n",
       "    <tr style=\"text-align: right;\">\n",
       "      <th></th>\n",
       "      <th>AGNO</th>\n",
       "      <th>RBD</th>\n",
       "      <th>DGV_RBD</th>\n",
       "      <th>NOM_RBD</th>\n",
       "      <th>TIPO_SOST</th>\n",
       "      <th>COD_REG_RB</th>\n",
       "      <th>NOM_REG_RB</th>\n",
       "      <th>COD_PRO_RB</th>\n",
       "      <th>COD_COM_RB</th>\n",
       "      <th>NOM_COM_RB</th>\n",
       "      <th>...</th>\n",
       "      <th>MAT_MHC_AD</th>\n",
       "      <th>MAT_MTP_RE</th>\n",
       "      <th>MAT_MTP_AD</th>\n",
       "      <th>MAT_TOTAL</th>\n",
       "      <th>MAT_HOM_TO</th>\n",
       "      <th>MAT_MUJ_TO</th>\n",
       "      <th>MAT_SI_TOT</th>\n",
       "      <th>CUR_SIM_TO</th>\n",
       "      <th>CUR_COMB_T</th>\n",
       "      <th>geometry</th>\n",
       "    </tr>\n",
       "  </thead>\n",
       "  <tbody>\n",
       "    <tr>\n",
       "      <th>0</th>\n",
       "      <td>2021.0</td>\n",
       "      <td>8484.0</td>\n",
       "      <td>0.0</td>\n",
       "      <td>ESCUELA PUERTO TORO</td>\n",
       "      <td>1.0</td>\n",
       "      <td>12.0</td>\n",
       "      <td>MAG</td>\n",
       "      <td>122.0</td>\n",
       "      <td>12201.0</td>\n",
       "      <td>CABO DE HORNOS</td>\n",
       "      <td>...</td>\n",
       "      <td>0.0</td>\n",
       "      <td>0.0</td>\n",
       "      <td>0.0</td>\n",
       "      <td>5.0</td>\n",
       "      <td>4.0</td>\n",
       "      <td>1.0</td>\n",
       "      <td>0.0</td>\n",
       "      <td>4.0</td>\n",
       "      <td>0.0</td>\n",
       "      <td>POINT (-67.07622 -55.08317)</td>\n",
       "    </tr>\n",
       "    <tr>\n",
       "      <th>1</th>\n",
       "      <td>2021.0</td>\n",
       "      <td>8483.0</td>\n",
       "      <td>2.0</td>\n",
       "      <td>LICEO BICENTENARIO DONALD MC-INTYRE GRIFFITHS</td>\n",
       "      <td>1.0</td>\n",
       "      <td>12.0</td>\n",
       "      <td>MAG</td>\n",
       "      <td>122.0</td>\n",
       "      <td>12201.0</td>\n",
       "      <td>CABO DE HORNOS</td>\n",
       "      <td>...</td>\n",
       "      <td>0.0</td>\n",
       "      <td>0.0</td>\n",
       "      <td>0.0</td>\n",
       "      <td>424.0</td>\n",
       "      <td>212.0</td>\n",
       "      <td>212.0</td>\n",
       "      <td>0.0</td>\n",
       "      <td>15.0</td>\n",
       "      <td>0.0</td>\n",
       "      <td>POINT (-67.60534 -54.93480)</td>\n",
       "    </tr>\n",
       "  </tbody>\n",
       "</table>\n",
       "<p>2 rows × 33 columns</p>\n",
       "</div>"
      ],
      "text/plain": [
       "     AGNO     RBD  DGV_RBD                                        NOM_RBD  \\\n",
       "0  2021.0  8484.0      0.0                            ESCUELA PUERTO TORO   \n",
       "1  2021.0  8483.0      2.0  LICEO BICENTENARIO DONALD MC-INTYRE GRIFFITHS   \n",
       "\n",
       "   TIPO_SOST  COD_REG_RB NOM_REG_RB  COD_PRO_RB  COD_COM_RB      NOM_COM_RB  \\\n",
       "0        1.0        12.0        MAG       122.0     12201.0  CABO DE HORNOS   \n",
       "1        1.0        12.0        MAG       122.0     12201.0  CABO DE HORNOS   \n",
       "\n",
       "   ...  MAT_MHC_AD MAT_MTP_RE  MAT_MTP_AD MAT_TOTAL  MAT_HOM_TO MAT_MUJ_TO  \\\n",
       "0  ...         0.0        0.0         0.0       5.0         4.0        1.0   \n",
       "1  ...         0.0        0.0         0.0     424.0       212.0      212.0   \n",
       "\n",
       "   MAT_SI_TOT  CUR_SIM_TO  CUR_COMB_T                     geometry  \n",
       "0         0.0         4.0         0.0  POINT (-67.07622 -55.08317)  \n",
       "1         0.0        15.0         0.0  POINT (-67.60534 -54.93480)  \n",
       "\n",
       "[2 rows x 33 columns]"
      ]
     },
     "execution_count": 13,
     "metadata": {},
     "output_type": "execute_result"
    }
   ],
   "source": [
    "escolar = gpd.read_file(\"../../data/external/prox_latam/educacion_escolar_chile_epsg4326.gpkg\")\n",
    "escolar.head(2)"
   ]
  },
  {
   "cell_type": "code",
   "execution_count": 15,
   "id": "2353a09b-023f-4af5-b4e8-bbdaffe311b0",
   "metadata": {
    "tags": []
   },
   "outputs": [
    {
     "name": "stdout",
     "output_type": "stream",
     "text": [
      "(11285, 2)\n"
     ]
    },
    {
     "data": {
      "text/html": [
       "<div>\n",
       "<style scoped>\n",
       "    .dataframe tbody tr th:only-of-type {\n",
       "        vertical-align: middle;\n",
       "    }\n",
       "\n",
       "    .dataframe tbody tr th {\n",
       "        vertical-align: top;\n",
       "    }\n",
       "\n",
       "    .dataframe thead th {\n",
       "        text-align: right;\n",
       "    }\n",
       "</style>\n",
       "<table border=\"1\" class=\"dataframe\">\n",
       "  <thead>\n",
       "    <tr style=\"text-align: right;\">\n",
       "      <th></th>\n",
       "      <th>code</th>\n",
       "      <th>geometry</th>\n",
       "    </tr>\n",
       "  </thead>\n",
       "  <tbody>\n",
       "    <tr>\n",
       "      <th>0</th>\n",
       "      <td>611121</td>\n",
       "      <td>POINT (-67.07622 -55.08317)</td>\n",
       "    </tr>\n",
       "    <tr>\n",
       "      <th>1</th>\n",
       "      <td>611121</td>\n",
       "      <td>POINT (-67.60534 -54.93480)</td>\n",
       "    </tr>\n",
       "  </tbody>\n",
       "</table>\n",
       "</div>"
      ],
      "text/plain": [
       "     code                     geometry\n",
       "0  611121  POINT (-67.07622 -55.08317)\n",
       "1  611121  POINT (-67.60534 -54.93480)"
      ]
     },
     "execution_count": 15,
     "metadata": {},
     "output_type": "execute_result"
    }
   ],
   "source": [
    "escolar.loc[:,'code'] = 611121\n",
    "escolar_pois = escolar[['code','geometry']]\n",
    "\n",
    "# Show\n",
    "print(escolar_pois.shape)\n",
    "escolar_pois.head(2)"
   ]
  },
  {
   "cell_type": "code",
   "execution_count": 18,
   "id": "41118115-d847-4181-83fc-0b4c523c84c7",
   "metadata": {
    "tags": []
   },
   "outputs": [
    {
     "name": "stdout",
     "output_type": "stream",
     "text": [
      "(388830, 2)\n"
     ]
    },
    {
     "data": {
      "text/html": [
       "<div>\n",
       "<style scoped>\n",
       "    .dataframe tbody tr th:only-of-type {\n",
       "        vertical-align: middle;\n",
       "    }\n",
       "\n",
       "    .dataframe tbody tr th {\n",
       "        vertical-align: top;\n",
       "    }\n",
       "\n",
       "    .dataframe thead th {\n",
       "        text-align: right;\n",
       "    }\n",
       "</style>\n",
       "<table border=\"1\" class=\"dataframe\">\n",
       "  <thead>\n",
       "    <tr style=\"text-align: right;\">\n",
       "      <th></th>\n",
       "      <th>code</th>\n",
       "      <th>geometry</th>\n",
       "    </tr>\n",
       "  </thead>\n",
       "  <tbody>\n",
       "    <tr>\n",
       "      <th>0</th>\n",
       "      <td>47</td>\n",
       "      <td>POINT (-70.14256 -20.21390)</td>\n",
       "    </tr>\n",
       "    <tr>\n",
       "      <th>1</th>\n",
       "      <td>47</td>\n",
       "      <td>POINT (-70.12391 -20.26698)</td>\n",
       "    </tr>\n",
       "  </tbody>\n",
       "</table>\n",
       "</div>"
      ],
      "text/plain": [
       "   code                     geometry\n",
       "0    47  POINT (-70.14256 -20.21390)\n",
       "1    47  POINT (-70.12391 -20.26698)"
      ]
     },
     "execution_count": 18,
     "metadata": {},
     "output_type": "execute_result"
    }
   ],
   "source": [
    "pois = pd.concat([dne_pois,salud_pois,pavularia_pois,escolar_pois])\n",
    "\n",
    "# Show\n",
    "print(pois.shape)\n",
    "pois.head(2)"
   ]
  },
  {
   "cell_type": "code",
   "execution_count": 19,
   "id": "46916944-1182-4f9d-a45b-bd23d2cdd7bb",
   "metadata": {
    "tags": []
   },
   "outputs": [],
   "source": [
    "# Save\n",
    "if save:\n",
    "    pois.to_file('../../data/external/prox_latam/pois_santiago.gpkg', driver='GPKG')"
   ]
  },
  {
   "cell_type": "code",
   "execution_count": null,
   "id": "41d63b62-a04e-4684-a70a-ec0a7ee6c098",
   "metadata": {},
   "outputs": [],
   "source": []
  }
 ],
 "metadata": {
  "kernelspec": {
   "display_name": "Python 3 (ipykernel)",
   "language": "python",
   "name": "python3"
  },
  "language_info": {
   "codemirror_mode": {
    "name": "ipython",
    "version": 3
   },
   "file_extension": ".py",
   "mimetype": "text/x-python",
   "name": "python",
   "nbconvert_exporter": "python",
   "pygments_lexer": "ipython3",
   "version": "3.10.5"
  }
 },
 "nbformat": 4,
 "nbformat_minor": 5
}
