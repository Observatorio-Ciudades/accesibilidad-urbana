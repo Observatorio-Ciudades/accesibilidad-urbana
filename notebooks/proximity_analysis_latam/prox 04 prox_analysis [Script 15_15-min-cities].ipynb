{
 "cells": [
  {
   "cell_type": "markdown",
   "id": "187cd46a-5e58-4292-a4f9-34f9f19d9e7e",
   "metadata": {},
   "source": [
    "## Import libraries"
   ]
  },
  {
   "cell_type": "code",
   "execution_count": 1,
   "id": "779e2272-7f0c-432b-bdd0-a68b7feeb000",
   "metadata": {
    "tags": []
   },
   "outputs": [
    {
     "name": "stderr",
     "output_type": "stream",
     "text": [
      "/usr/local/python/lib/python3.10/site-packages/osmnx/utils.py:192: UserWarning: The `utils.config` function is deprecated and will be removed in a future release. Instead, use the `settings` module directly to configure a global setting's value. For example, `ox.settings.log_console=True`.\n",
      "  warnings.warn(\n"
     ]
    }
   ],
   "source": [
    "import os\n",
    "import sys\n",
    "\n",
    "import pandas as pd\n",
    "import geopandas as gpd\n",
    "import osmnx as ox\n",
    "import numpy as np\n",
    "\n",
    "import matplotlib.pyplot as plt\n",
    "import seaborn as sns\n",
    "from shapely.geometry import Polygon, MultiLineString, Point, LineString\n",
    "\n",
    "import warnings\n",
    "warnings.simplefilter(action='ignore', category=FutureWarning)\n",
    "\n",
    "module_path = os.path.abspath(os.path.join('../../'))\n",
    "if module_path not in sys.path:\n",
    "    sys.path.append(module_path)\n",
    "    import aup"
   ]
  },
  {
   "cell_type": "code",
   "execution_count": 34,
   "id": "04dadf3a-a470-4618-bb7c-b1893e5f24d7",
   "metadata": {
    "tags": []
   },
   "outputs": [],
   "source": [
    "save = True\n",
    "save_space = True"
   ]
  },
  {
   "cell_type": "markdown",
   "id": "963c0f12-c90c-410c-8b63-c5a152e8a065",
   "metadata": {},
   "source": [
    "## Required data"
   ]
  },
  {
   "cell_type": "code",
   "execution_count": 20,
   "id": "570d45b6-78da-4b33-98bf-b1a9f2f51b19",
   "metadata": {
    "tags": []
   },
   "outputs": [],
   "source": [
    "res = 9"
   ]
  },
  {
   "cell_type": "markdown",
   "id": "3e5f51da-3d20-46a0-8235-a232aa74adb1",
   "metadata": {},
   "source": [
    "### Required data - Area of Interest"
   ]
  },
  {
   "cell_type": "code",
   "execution_count": 16,
   "id": "5bc095a6-a06f-4852-9633-a84d81a036aa",
   "metadata": {
    "tags": []
   },
   "outputs": [
    {
     "name": "stdout",
     "output_type": "stream",
     "text": [
      "['Aguascalientes' 'Jesús María' 'San Francisco de los Romo']\n"
     ]
    },
    {
     "data": {
      "text/plain": [
       "<Axes: >"
      ]
     },
     "execution_count": 16,
     "metadata": {},
     "output_type": "execute_result"
    },
    {
     "data": {
      "image/png": "[encoded data removed]",
      "text/plain": [
       "<Figure size 640x480 with 1 Axes>"
      ]
     },
     "metadata": {},
     "output_type": "display_data"
    }
   ],
   "source": [
    "city = 'Aguascalientes'\n",
    "\n",
    "# Source Data\n",
    "schema = 'metropolis'\n",
    "folder = 'metro_gdf'\n",
    "\n",
    "# Downloads hexagons within 'city'\n",
    "query = f\"SELECT * FROM {schema}.{folder} WHERE \\\"city\\\" LIKE \\'{city}\\'\"\n",
    "mun_gdf = aup.gdf_from_query(query, geometry_col='geometry')\n",
    "\n",
    "print(mun_gdf.NOMGEO.unique())\n",
    "\n",
    "mun_gdf = mun_gdf.set_crs(\"EPSG:4326\")\n",
    "aoi = mun_gdf.dissolve()\n",
    "aoi = aoi[['city','geometry']]\n",
    "\n",
    "# Saves space in disk if instructed\n",
    "if save_space:\n",
    "    del mun_gdf\n",
    "\n",
    "#Show\n",
    "aoi.plot()"
   ]
  },
  {
   "cell_type": "markdown",
   "id": "5015bdf4-5dbc-4e15-bc76-f9eb6fbc46b1",
   "metadata": {},
   "source": [
    "### Required data - nodes with distance to nearest amenity from notebook prox_loading_osmnx 3 [Script 02_distance_amenities]"
   ]
  },
  {
   "cell_type": "code",
   "execution_count": 5,
   "id": "2cb612fd-6e72-4842-96ca-108819bf049c",
   "metadata": {
    "tags": []
   },
   "outputs": [
    {
     "name": "stdout",
     "output_type": "stream",
     "text": [
      "Downloaded a total of 1560458 nodes.\n",
      "(1560458, 7)\n",
      "osmid          int64\n",
      "time         float64\n",
      "source        object\n",
      "city          object\n",
      "x            float64\n",
      "y            float64\n",
      "geometry    geometry\n",
      "dtype: object\n"
     ]
    },
    {
     "data": {
      "text/html": [
       "<div>\n",
       "<style scoped>\n",
       "    .dataframe tbody tr th:only-of-type {\n",
       "        vertical-align: middle;\n",
       "    }\n",
       "\n",
       "    .dataframe tbody tr th {\n",
       "        vertical-align: top;\n",
       "    }\n",
       "\n",
       "    .dataframe thead th {\n",
       "        text-align: right;\n",
       "    }\n",
       "</style>\n",
       "<table border=\"1\" class=\"dataframe\">\n",
       "  <thead>\n",
       "    <tr style=\"text-align: right;\">\n",
       "      <th></th>\n",
       "      <th>osmid</th>\n",
       "      <th>time</th>\n",
       "      <th>source</th>\n",
       "      <th>city</th>\n",
       "      <th>x</th>\n",
       "      <th>y</th>\n",
       "      <th>geometry</th>\n",
       "    </tr>\n",
       "  </thead>\n",
       "  <tbody>\n",
       "    <tr>\n",
       "      <th>0</th>\n",
       "      <td>301189389</td>\n",
       "      <td>6.400245</td>\n",
       "      <td>denue_preescolar</td>\n",
       "      <td>Aguascalientes</td>\n",
       "      <td>-102.342212</td>\n",
       "      <td>21.848544</td>\n",
       "      <td>POINT (-102.34221 21.84854)</td>\n",
       "    </tr>\n",
       "    <tr>\n",
       "      <th>1</th>\n",
       "      <td>301189406</td>\n",
       "      <td>17.556360</td>\n",
       "      <td>denue_preescolar</td>\n",
       "      <td>Aguascalientes</td>\n",
       "      <td>-102.350222</td>\n",
       "      <td>21.850815</td>\n",
       "      <td>POINT (-102.35022 21.85082)</td>\n",
       "    </tr>\n",
       "  </tbody>\n",
       "</table>\n",
       "</div>"
      ],
      "text/plain": [
       "       osmid       time            source            city           x  \\\n",
       "0  301189389   6.400245  denue_preescolar  Aguascalientes -102.342212   \n",
       "1  301189406  17.556360  denue_preescolar  Aguascalientes -102.350222   \n",
       "\n",
       "           y                     geometry  \n",
       "0  21.848544  POINT (-102.34221 21.84854)  \n",
       "1  21.850815  POINT (-102.35022 21.85082)  "
      ]
     },
     "execution_count": 5,
     "metadata": {},
     "output_type": "execute_result"
    }
   ],
   "source": [
    "nodes_sources = gpd.read_file('../../data/external/temporal_fromjupyter/nodes_proximity_2020.gpkg')\n",
    "\n",
    "#---------------------------------------------------------------------------------------------------------------------------------------------------------\n",
    "print(f\"Downloaded a total of {nodes_sources.shape[0]} nodes.\")\n",
    "#---------------------------------------------------------------------------------------------------------------------------------------------------------\n",
    "\n",
    "#Show\n",
    "print(nodes_sources.shape)\n",
    "print(nodes_sources.dtypes)\n",
    "nodes_sources.head(2)"
   ]
  },
  {
   "cell_type": "code",
   "execution_count": 6,
   "id": "7e8898f3-9bb0-499e-94da-fb68d90e781b",
   "metadata": {
    "tags": []
   },
   "outputs": [
    {
     "name": "stdout",
     "output_type": "stream",
     "text": [
      "Transformed nodes data.\n"
     ]
    }
   ],
   "source": [
    "nodes = nodes_sources.copy()\n",
    "\n",
    "#--------------- PREPARE DATA\n",
    "#--------------- PREPARE DATA ---------- DELETE DUPLICATES AND CLEAN NODES\n",
    "#This step keeps osmid, geometry and metropolis (without duplicates, keeping only one point for each node) to store times to each amenity source by node in following loop.\n",
    "nodes_geom = nodes.drop_duplicates(subset='osmid', keep=\"last\")[['osmid','geometry','city']].copy()\n",
    "\n",
    "#--------------- PREPARE DATA ---------- REORGANIZE NODES DATA\n",
    "#This step organizes data by nodes by changing (time to source amenities) from rows (1 column with source amenity name + 1 column with time data) \n",
    "#to columns (1 column with time data named after its source amenity)\n",
    "nodes_analysis = nodes_geom.copy()\n",
    "\n",
    "for source_amenity in list(nodes.source.unique()):\n",
    "    nodes_tmp = nodes.loc[nodes.source == source_amenity,['osmid','time']]\n",
    "    nodes_tmp = nodes_tmp.rename(columns={'time':source_amenity})\n",
    "    # Search for amenities that aren't present in the city (with all values marked as 0) and change them to NaN\n",
    "    if nodes_tmp[source_amenity].mean() == 0:\n",
    "        nodes_tmp[source_amenity] = np.nan\n",
    "    nodes_analysis = nodes_analysis.merge(nodes_tmp, on='osmid')\n",
    "\n",
    "if save_space:\n",
    "    del nodes_sources\n",
    "    del nodes_geom\n",
    "    del nodes_tmp\n",
    "\n",
    "#---------------------------------------------------------------------------------------------------------------------------------------------------------\n",
    "print(\"Transformed nodes data.\")\n",
    "#---------------------------------------------------------------------------------------------------------------------------------------------------------"
   ]
  },
  {
   "cell_type": "code",
   "execution_count": 8,
   "id": "95ee8b32-f05a-4f6a-a20f-6ceb39d673a2",
   "metadata": {
    "tags": []
   },
   "outputs": [
    {
     "name": "stdout",
     "output_type": "stream",
     "text": [
      "(52013, 33)\n"
     ]
    },
    {
     "data": {
      "text/html": [
       "<div>\n",
       "<style scoped>\n",
       "    .dataframe tbody tr th:only-of-type {\n",
       "        vertical-align: middle;\n",
       "    }\n",
       "\n",
       "    .dataframe tbody tr th {\n",
       "        vertical-align: top;\n",
       "    }\n",
       "\n",
       "    .dataframe thead th {\n",
       "        text-align: right;\n",
       "    }\n",
       "</style>\n",
       "<table border=\"1\" class=\"dataframe\">\n",
       "  <thead>\n",
       "    <tr style=\"text-align: right;\">\n",
       "      <th></th>\n",
       "      <th>osmid</th>\n",
       "      <th>geometry</th>\n",
       "      <th>city</th>\n",
       "      <th>denue_preescolar</th>\n",
       "      <th>denue_primaria</th>\n",
       "      <th>denue_secundaria</th>\n",
       "      <th>clues_primer_nivel</th>\n",
       "      <th>denue_guarderias</th>\n",
       "      <th>denue_dif</th>\n",
       "      <th>denue_supermercado</th>\n",
       "      <th>...</th>\n",
       "      <th>denue_restaurante_insitu</th>\n",
       "      <th>denue_restaurante_llevar</th>\n",
       "      <th>denue_bares</th>\n",
       "      <th>denue_cafe</th>\n",
       "      <th>sip_cancha</th>\n",
       "      <th>sip_unidad_deportiva</th>\n",
       "      <th>sip_espacio_publico</th>\n",
       "      <th>denue_parque_natural</th>\n",
       "      <th>denue_cines</th>\n",
       "      <th>denue_museos</th>\n",
       "    </tr>\n",
       "  </thead>\n",
       "  <tbody>\n",
       "    <tr>\n",
       "      <th>0</th>\n",
       "      <td>301189389</td>\n",
       "      <td>POINT (-102.34221 21.84854)</td>\n",
       "      <td>Aguascalientes</td>\n",
       "      <td>6.400245</td>\n",
       "      <td>6.400245</td>\n",
       "      <td>2.133810</td>\n",
       "      <td>49.969125</td>\n",
       "      <td>5.135355</td>\n",
       "      <td>35.372640</td>\n",
       "      <td>31.292565</td>\n",
       "      <td>...</td>\n",
       "      <td>5.639280</td>\n",
       "      <td>2.802210</td>\n",
       "      <td>38.864595</td>\n",
       "      <td>2.133810</td>\n",
       "      <td>152.447610</td>\n",
       "      <td>79.55634</td>\n",
       "      <td>9.610185</td>\n",
       "      <td>NaN</td>\n",
       "      <td>81.32691</td>\n",
       "      <td>37.025325</td>\n",
       "    </tr>\n",
       "    <tr>\n",
       "      <th>1</th>\n",
       "      <td>301189406</td>\n",
       "      <td>POINT (-102.35022 21.85082)</td>\n",
       "      <td>Aguascalientes</td>\n",
       "      <td>17.556360</td>\n",
       "      <td>17.556360</td>\n",
       "      <td>14.897805</td>\n",
       "      <td>50.857980</td>\n",
       "      <td>16.302480</td>\n",
       "      <td>46.539765</td>\n",
       "      <td>44.056560</td>\n",
       "      <td>...</td>\n",
       "      <td>16.795395</td>\n",
       "      <td>13.969335</td>\n",
       "      <td>48.043620</td>\n",
       "      <td>14.897805</td>\n",
       "      <td>140.144235</td>\n",
       "      <td>91.38255</td>\n",
       "      <td>20.766300</td>\n",
       "      <td>NaN</td>\n",
       "      <td>89.40900</td>\n",
       "      <td>45.107415</td>\n",
       "    </tr>\n",
       "  </tbody>\n",
       "</table>\n",
       "<p>2 rows × 33 columns</p>\n",
       "</div>"
      ],
      "text/plain": [
       "       osmid                     geometry            city  denue_preescolar  \\\n",
       "0  301189389  POINT (-102.34221 21.84854)  Aguascalientes          6.400245   \n",
       "1  301189406  POINT (-102.35022 21.85082)  Aguascalientes         17.556360   \n",
       "\n",
       "   denue_primaria  denue_secundaria  clues_primer_nivel  denue_guarderias  \\\n",
       "0        6.400245          2.133810           49.969125          5.135355   \n",
       "1       17.556360         14.897805           50.857980         16.302480   \n",
       "\n",
       "   denue_dif  denue_supermercado  ...  denue_restaurante_insitu  \\\n",
       "0  35.372640           31.292565  ...                  5.639280   \n",
       "1  46.539765           44.056560  ...                 16.795395   \n",
       "\n",
       "   denue_restaurante_llevar  denue_bares  denue_cafe  sip_cancha  \\\n",
       "0                  2.802210    38.864595    2.133810  152.447610   \n",
       "1                 13.969335    48.043620   14.897805  140.144235   \n",
       "\n",
       "   sip_unidad_deportiva  sip_espacio_publico  denue_parque_natural  \\\n",
       "0              79.55634             9.610185                   NaN   \n",
       "1              91.38255            20.766300                   NaN   \n",
       "\n",
       "   denue_cines  denue_museos  \n",
       "0     81.32691     37.025325  \n",
       "1     89.40900     45.107415  \n",
       "\n",
       "[2 rows x 33 columns]"
      ]
     },
     "execution_count": 8,
     "metadata": {},
     "output_type": "execute_result"
    }
   ],
   "source": [
    "#Show\n",
    "print(nodes_analysis.shape)\n",
    "nodes_analysis.head(2)"
   ]
  },
  {
   "cell_type": "code",
   "execution_count": 9,
   "id": "8f83a7c2-54b0-46c1-8766-399ea73050d8",
   "metadata": {
    "tags": []
   },
   "outputs": [
    {
     "name": "stdout",
     "output_type": "stream",
     "text": [
      "Finished missing source amenities analysis. 0 not present source amenities were added as np.nan columns\n"
     ]
    }
   ],
   "source": [
    "#--------------- PREPARE DATA ---------- SET PARAMETER DEFINITIONS\n",
    "    #This step sets the ejes, amenidades, sources and weights for further analysis\n",
    "    #{Eje (e):\n",
    "    #         {Amenidad (a):\n",
    "    #                       {Source (s))}}}\n",
    "idx_15_min = {'Escuelas':{'Preescolar':['denue_preescolar'],\n",
    "                          'Primaria':['denue_primaria'],\n",
    "                          'Secundaria':['denue_secundaria']},\n",
    "             'Servicios comunitarios':{'Salud':['clues_primer_nivel'],\n",
    "                                       'Guarderías':['denue_guarderias'],\n",
    "                                       'Asistencia social':['denue_dif']},\n",
    "              'Comercio':{'Alimentos':['denue_supermercado','denue_abarrotes',\n",
    "                                       'denue_carnicerias','sip_mercado'],\n",
    "                          'Personal':['denue_peluqueria'],\n",
    "                          'Farmacias':['denue_farmacias'],\n",
    "                          'Hogar':['denue_ferreteria_tlapaleria','denue_art_limpieza'],\n",
    "                          'Complementarios':['denue_ropa','denue_calzado','denue_muebles',\n",
    "                                             'denue_lavanderia','denue_revistas_periodicos',\n",
    "                                             'denue_pintura']},\n",
    "              'Entretenimiento':{'Social':['denue_restaurante_insitu','denue_restaurante_llevar',\n",
    "                                           'denue_bares','denue_cafe'],\n",
    "                                 'Actividad física':['sip_cancha','sip_unidad_deportiva',\n",
    "                                                    'sip_espacio_publico','denue_parque_natural'],\n",
    "                                 'Cultural':['denue_cines','denue_museos']} \n",
    "             }\n",
    "\n",
    "#If weight of amenity is less than number of sources, the algorith chooses the minimum time to source. \n",
    "#Else (if equall or greater), the algorithm chooses max time.\n",
    "wegiht_idx = {'Escuelas':{'Preescolar':1,\n",
    "                          'Primaria':1,\n",
    "                          'Secundaria':1},\n",
    "              'Servicios comunitarios':{'Salud':1,\n",
    "                                        'Guarderías':1,\n",
    "                                        'Asistencia social':1},\n",
    "              'Comercio':{'Alimentos':1, #Will choose min time to source.\n",
    "                          'Personal':1,\n",
    "                          'Farmacias':1,\n",
    "                          'Hogar':1, #Will choose min time to source.\n",
    "                          'Complementarios':1},  #Will choose min time to source.\n",
    "              'Entretenimiento':{'Social':4,\n",
    "                                 'Actividad física':1,  #Will choose min time to source.\n",
    "                                 'Cultural':1}  #Will choose min time to source.\n",
    "            }    \n",
    "    \n",
    "#--------------- PREPARE DATA ---------- FILL MISSING COLUMNS (In case there is a source amenity not available in a city)\n",
    "sources = []\n",
    "\n",
    "# Gather all possible sources\n",
    "for eje in idx_15_min.keys():\n",
    "    for amenity in idx_15_min[eje].values():\n",
    "        for source in amenity:\n",
    "            sources.append(source)\n",
    "            \n",
    "# If source not in currently analized city, fill column with np.nan\n",
    "column_list = list(nodes_analysis.columns)\n",
    "missing_sourceamenities = []\n",
    "\n",
    "for s in sources:\n",
    "        if s not in column_list:\n",
    "            nodes_analysis[s] = np.nan\n",
    "            #---------------------------------------------------------------------------------------------------------------------------------------------\n",
    "            print(f\"{s} source amenity is not present in {city}.\")\n",
    "            #---------------------------------------------------------------------------------------------------------------------------------------------\n",
    "            missing_sourceamenities.append(s)\n",
    "            \n",
    "#---------------------------------------------------------------------------------------------------------------------------------------------------------\n",
    "print(f\"Finished missing source amenities analysis. {len(missing_sourceamenities)} not present source amenities were added as np.nan columns\")\n",
    "#---------------------------------------------------------------------------------------------------------------------------------------------------------"
   ]
  },
  {
   "cell_type": "code",
   "execution_count": 12,
   "id": "6d50f211-b11c-4b36-ad90-8340de93468c",
   "metadata": {
    "tags": []
   },
   "outputs": [
    {
     "name": "stdout",
     "output_type": "stream",
     "text": [
      "Starting proximity to amenities analysis by node.\n",
      "Calculated proximity to amenities data by node.\n"
     ]
    }
   ],
   "source": [
    "#---------------------------------------------------------------------------------------------------------------------------------------------------------\n",
    "print(\"Starting proximity to amenities analysis by node.\")\n",
    "#---------------------------------------------------------------------------------------------------------------------------------------------------------\n",
    "\n",
    "#--------------- PROCESS DATA \n",
    "#--------------- PROCESS DATA ---------- Max time calculation\n",
    "#This step calculates times by amenity\n",
    "\n",
    "column_max_all = [] # list with all max index column names\n",
    "column_max_ejes = [] # list with ejes index column names\n",
    "\n",
    "#Goes through each eje in dictionary:\n",
    "for e in idx_15_min.keys():\n",
    "\n",
    "    #Appends to 3 lists currently examined eje\n",
    "    column_max_all.append('max_'+ e.lower())\n",
    "    column_max_ejes.append('max_'+ e.lower())\n",
    "    column_max_amenities = [] # list with amenities in current eje\n",
    "\n",
    "    #Goes through each amenity of current eje:\n",
    "    for a in idx_15_min[e].keys():\n",
    "\n",
    "        #Appends to 2 lists currently examined amenity:\n",
    "        column_max_all.append('max_'+ a.lower())\n",
    "        column_max_amenities.append('max_'+ a.lower())\n",
    "\n",
    "        #Calculates time to currently examined amenity:\n",
    "        #If weight is less than number of sources of amenity, choose minimum time to sources.\n",
    "        if wegiht_idx[e][a] < len(idx_15_min[e][a]): \n",
    "            nodes_analysis['max_'+ a.lower()] = nodes_analysis[idx_15_min[e][a]].min(axis=1)\n",
    "        #Else, choose maximum time to sources.\n",
    "        else:\n",
    "            nodes_analysis['max_'+ a.lower()] = nodes_analysis[idx_15_min[e][a]].max(axis=1)\n",
    "\n",
    "    #Calculates time to currently examined eje (max time of its amenities):\n",
    "    nodes_analysis['max_'+ e.lower()] = nodes_analysis[column_max_amenities].max(axis=1) \n",
    "\n",
    "index_column = 'max_time' # column name for maximum time data\n",
    "\n",
    "#Add to column_max_all list the attribute 'max_time'\n",
    "column_max_all.append(index_column)\n",
    "\n",
    "#Assigns \"max_time\" the max time for all ejes\n",
    "nodes_analysis[index_column] = nodes_analysis[column_max_ejes].max(axis=1)     \n",
    "\n",
    "#Add to column_max_all list the attributes 'osmid' and 'geometry' to filter nodes_analysis with the column_max_all list.\n",
    "column_max_all.append('osmid')\n",
    "column_max_all.append('geometry')\n",
    "nodes_analysis_filter = nodes_analysis[column_max_all].copy()\n",
    "\n",
    "if save_space:\n",
    "    del nodes_analysis\n",
    "    \n",
    "#---------------------------------------------------------------------------------------------------------------------------------------------------------\n",
    "print(\"Calculated proximity to amenities data by node.\")\n",
    "#---------------------------------------------------------------------------------------------------------------------------------------------------------"
   ]
  },
  {
   "cell_type": "code",
   "execution_count": 15,
   "id": "af34493b-6a97-4cbc-b880-a0f1395feb87",
   "metadata": {
    "tags": []
   },
   "outputs": [
    {
     "name": "stdout",
     "output_type": "stream",
     "text": [
      "(52013, 21)\n"
     ]
    },
    {
     "data": {
      "text/html": [
       "<div>\n",
       "<style scoped>\n",
       "    .dataframe tbody tr th:only-of-type {\n",
       "        vertical-align: middle;\n",
       "    }\n",
       "\n",
       "    .dataframe tbody tr th {\n",
       "        vertical-align: top;\n",
       "    }\n",
       "\n",
       "    .dataframe thead th {\n",
       "        text-align: right;\n",
       "    }\n",
       "</style>\n",
       "<table border=\"1\" class=\"dataframe\">\n",
       "  <thead>\n",
       "    <tr style=\"text-align: right;\">\n",
       "      <th></th>\n",
       "      <th>max_escuelas</th>\n",
       "      <th>max_preescolar</th>\n",
       "      <th>max_primaria</th>\n",
       "      <th>max_secundaria</th>\n",
       "      <th>max_servicios comunitarios</th>\n",
       "      <th>max_salud</th>\n",
       "      <th>max_guarderías</th>\n",
       "      <th>max_asistencia social</th>\n",
       "      <th>max_comercio</th>\n",
       "      <th>max_alimentos</th>\n",
       "      <th>...</th>\n",
       "      <th>max_farmacias</th>\n",
       "      <th>max_hogar</th>\n",
       "      <th>max_complementarios</th>\n",
       "      <th>max_entretenimiento</th>\n",
       "      <th>max_social</th>\n",
       "      <th>max_actividad física</th>\n",
       "      <th>max_cultural</th>\n",
       "      <th>max_time</th>\n",
       "      <th>osmid</th>\n",
       "      <th>geometry</th>\n",
       "    </tr>\n",
       "  </thead>\n",
       "  <tbody>\n",
       "    <tr>\n",
       "      <th>0</th>\n",
       "      <td>6.400245</td>\n",
       "      <td>6.400245</td>\n",
       "      <td>6.400245</td>\n",
       "      <td>2.133810</td>\n",
       "      <td>49.969125</td>\n",
       "      <td>49.969125</td>\n",
       "      <td>5.135355</td>\n",
       "      <td>35.372640</td>\n",
       "      <td>2.802210</td>\n",
       "      <td>2.802210</td>\n",
       "      <td>...</td>\n",
       "      <td>0.207180</td>\n",
       "      <td>0.207180</td>\n",
       "      <td>0.207180</td>\n",
       "      <td>38.864595</td>\n",
       "      <td>38.864595</td>\n",
       "      <td>9.610185</td>\n",
       "      <td>37.025325</td>\n",
       "      <td>49.969125</td>\n",
       "      <td>301189389</td>\n",
       "      <td>POINT (-102.34221 21.84854)</td>\n",
       "    </tr>\n",
       "    <tr>\n",
       "      <th>1</th>\n",
       "      <td>17.556360</td>\n",
       "      <td>17.556360</td>\n",
       "      <td>17.556360</td>\n",
       "      <td>14.897805</td>\n",
       "      <td>50.857980</td>\n",
       "      <td>50.857980</td>\n",
       "      <td>16.302480</td>\n",
       "      <td>46.539765</td>\n",
       "      <td>13.969335</td>\n",
       "      <td>13.969335</td>\n",
       "      <td>...</td>\n",
       "      <td>13.440945</td>\n",
       "      <td>13.440945</td>\n",
       "      <td>13.440945</td>\n",
       "      <td>48.043620</td>\n",
       "      <td>48.043620</td>\n",
       "      <td>20.766300</td>\n",
       "      <td>45.107415</td>\n",
       "      <td>50.857980</td>\n",
       "      <td>301189406</td>\n",
       "      <td>POINT (-102.35022 21.85082)</td>\n",
       "    </tr>\n",
       "  </tbody>\n",
       "</table>\n",
       "<p>2 rows × 21 columns</p>\n",
       "</div>"
      ],
      "text/plain": [
       "   max_escuelas  max_preescolar  max_primaria  max_secundaria  \\\n",
       "0      6.400245        6.400245      6.400245        2.133810   \n",
       "1     17.556360       17.556360     17.556360       14.897805   \n",
       "\n",
       "   max_servicios comunitarios  max_salud  max_guarderías  \\\n",
       "0                   49.969125  49.969125        5.135355   \n",
       "1                   50.857980  50.857980       16.302480   \n",
       "\n",
       "   max_asistencia social  max_comercio  max_alimentos  ...  max_farmacias  \\\n",
       "0              35.372640      2.802210       2.802210  ...       0.207180   \n",
       "1              46.539765     13.969335      13.969335  ...      13.440945   \n",
       "\n",
       "   max_hogar  max_complementarios  max_entretenimiento  max_social  \\\n",
       "0   0.207180             0.207180            38.864595   38.864595   \n",
       "1  13.440945            13.440945            48.043620   48.043620   \n",
       "\n",
       "   max_actividad física  max_cultural   max_time      osmid  \\\n",
       "0              9.610185     37.025325  49.969125  301189389   \n",
       "1             20.766300     45.107415  50.857980  301189406   \n",
       "\n",
       "                      geometry  \n",
       "0  POINT (-102.34221 21.84854)  \n",
       "1  POINT (-102.35022 21.85082)  \n",
       "\n",
       "[2 rows x 21 columns]"
      ]
     },
     "execution_count": 15,
     "metadata": {},
     "output_type": "execute_result"
    }
   ],
   "source": [
    "#Show\n",
    "print(nodes_analysis_filter.shape)\n",
    "nodes_analysis_filter.head(2)"
   ]
  },
  {
   "cell_type": "code",
   "execution_count": 25,
   "id": "26961020-b3e6-4500-86de-700e381ec820",
   "metadata": {
    "tags": []
   },
   "outputs": [
    {
     "name": "stdout",
     "output_type": "stream",
     "text": [
      "Created hexgrid of resolution 9\n",
      "(14612, 2)\n"
     ]
    },
    {
     "data": {
      "text/html": [
       "<div>\n",
       "<style scoped>\n",
       "    .dataframe tbody tr th:only-of-type {\n",
       "        vertical-align: middle;\n",
       "    }\n",
       "\n",
       "    .dataframe tbody tr th {\n",
       "        vertical-align: top;\n",
       "    }\n",
       "\n",
       "    .dataframe thead th {\n",
       "        text-align: right;\n",
       "    }\n",
       "</style>\n",
       "<table border=\"1\" class=\"dataframe\">\n",
       "  <thead>\n",
       "    <tr style=\"text-align: right;\">\n",
       "      <th></th>\n",
       "      <th>hex_id_9</th>\n",
       "      <th>geometry</th>\n",
       "    </tr>\n",
       "  </thead>\n",
       "  <tbody>\n",
       "    <tr>\n",
       "      <th>0</th>\n",
       "      <td>89498e3420fffff</td>\n",
       "      <td>POLYGON ((-102.21746 21.95460, -102.21622 21.9...</td>\n",
       "    </tr>\n",
       "    <tr>\n",
       "      <th>1</th>\n",
       "      <td>894988cb423ffff</td>\n",
       "      <td>POLYGON ((-102.35652 21.97058, -102.35528 21.9...</td>\n",
       "    </tr>\n",
       "  </tbody>\n",
       "</table>\n",
       "</div>"
      ],
      "text/plain": [
       "          hex_id_9                                           geometry\n",
       "0  89498e3420fffff  POLYGON ((-102.21746 21.95460, -102.21622 21.9...\n",
       "1  894988cb423ffff  POLYGON ((-102.35652 21.97058, -102.35528 21.9..."
      ]
     },
     "execution_count": 25,
     "metadata": {},
     "output_type": "execute_result"
    }
   ],
   "source": [
    "#--------------- PROCESS DATA ---------- GROUP TIMES BY HEXAGONS\n",
    "# Create hexgrid\n",
    "hexgrid = aup.create_hexgrid(aoi,res)\n",
    "hexgrid = hexgrid.set_crs(\"EPSG:4326\")\n",
    "\n",
    "#---------------------------------------------------------------------------------------------------------------------------------------------------------\n",
    "print(f\"Created hexgrid of resolution {res}\")\n",
    "#---------------------------------------------------------------------------------------------------------------------------------------------------------\n",
    "\n",
    "#Show\n",
    "print(hexgrid.shape)\n",
    "hexgrid.head(2)"
   ]
  },
  {
   "cell_type": "code",
   "execution_count": 27,
   "id": "c3419ddb-e6e6-44d6-9a94-83ce34afbaf3",
   "metadata": {
    "tags": []
   },
   "outputs": [
    {
     "name": "stdout",
     "output_type": "stream",
     "text": [
      "Grouped nodes data by hexagons res 9\n"
     ]
    }
   ],
   "source": [
    "# group data by hex\n",
    "hex_tmp = hexgrid.copy()\n",
    "hex_idx = aup.group_by_hex_mean(nodes_analysis_filter, hex_tmp, res, index_column)\n",
    "hex_idx = hex_idx.loc[hex_idx[index_column]>0].copy()\n",
    "\n",
    "if save_space:\n",
    "    del hex_tmp\n",
    "    del nodes_analysis_filter\n",
    "    \n",
    "#---------------------------------------------------------------------------------------------------------------------------------------------------------\n",
    "print(f\"Grouped nodes data by hexagons res {res}\")\n",
    "#---------------------------------------------------------------------------------------------------------------------------------------------------------"
   ]
  },
  {
   "cell_type": "code",
   "execution_count": 28,
   "id": "d0ada186-c4c5-4dad-bc0f-1f9c6e3b588e",
   "metadata": {
    "tags": []
   },
   "outputs": [
    {
     "name": "stdout",
     "output_type": "stream",
     "text": [
      "Recalculating times in hexagons\n",
      "Finished recalculating times in hexagons\n"
     ]
    }
   ],
   "source": [
    "#---------------------------------------------------------------------------------------------------------------------------------------------------------\n",
    "print('Recalculating times in hexagons')\n",
    "#---------------------------------------------------------------------------------------------------------------------------------------------------------\n",
    "\n",
    "#--------------- PROCESS DATA ---------- RE-CALCULATE MAX TIMES BY HEXAGON\n",
    "# This step recalculates max time to each eje from max times to calculated amenities and max_time from max eje\n",
    "column_max_ejes = [] # list with ejes index column names\n",
    "\n",
    "#Goes (again) through each eje in dictionary:\n",
    "for e in idx_15_min.keys():\n",
    "\n",
    "    column_max_ejes.append('max_'+ e.lower())\n",
    "    column_max_amenities = [] # list with amenities in current eje\n",
    "\n",
    "    #Goes (again) through each amenity of current eje:    \n",
    "    for a in idx_15_min[e].keys():\n",
    "\n",
    "        column_max_amenities.append('max_'+ a.lower())\n",
    "\n",
    "    #Re-calculates time to currently examined eje (max time of its amenities):        \n",
    "    hex_idx['max_'+ e.lower()] = hex_idx[column_max_amenities].max(axis=1)\n",
    "\n",
    "hex_idx[index_column] = hex_idx[column_max_ejes].max(axis=1)\n",
    "\n",
    "#Add to column_max_all list the attribute 'max_time'\n",
    "column_max_ejes.append(index_column)\n",
    "\n",
    "#---------------------------------------------------------------------------------------------------------------------------------------------------------\n",
    "print('Finished recalculating times in hexagons')\n",
    "#---------------------------------------------------------------------------------------------------------------------------------------------------------"
   ]
  },
  {
   "cell_type": "code",
   "execution_count": 29,
   "id": "e5801e51-5253-45c3-bf20-960627503e92",
   "metadata": {
    "tags": []
   },
   "outputs": [
    {
     "name": "stdout",
     "output_type": "stream",
     "text": [
      "Finished calculating index, mean and median time\n"
     ]
    }
   ],
   "source": [
    "#--------------- PROCESS DATA ---------- INDEX, MEDIAN AND MEAN CALCULATION\n",
    "# This step adds data\n",
    "\n",
    "#Define function\n",
    "def apply_sigmoidal(x):\n",
    "    if x == -1:\n",
    "        return -1\n",
    "    elif x > 1000:\n",
    "        return 0\n",
    "    else:\n",
    "        val = aup.sigmoidal_function(0.1464814753435666, x, 30)\n",
    "        return val\n",
    "\n",
    "#Apply function\n",
    "amenities_col = ['max_preescolar','max_primaria','max_secundaria',\n",
    "           'max_salud','max_guarderías','max_asistencia social',\n",
    "           'max_alimentos','max_personal','max_farmacias','max_hogar',\n",
    "           'max_complementarios','max_social','max_actividad física',\n",
    "           'max_cultural']\n",
    "for ac in amenities_col:\n",
    "    idx_col = ac.replace('max','idx')\n",
    "    hex_idx[idx_col] = hex_idx[ac].apply(apply_sigmoidal)\n",
    "\n",
    "#Add data\n",
    "idx_colname = []\n",
    "for ac in amenities_col:\n",
    "    idx_col = ac.replace('max','idx')\n",
    "    idx_colname.append(idx_col)\n",
    "\n",
    "hex_idx['mean_time'] = hex_idx[amenities_col].mean(axis=1)\n",
    "hex_idx['median_time'] = hex_idx[amenities_col].median(axis=1)\n",
    "hex_idx['idx_sum'] = hex_idx[idx_colname].sum(axis=1)\n",
    "\n",
    "print('Finished calculating index, mean and median time')"
   ]
  },
  {
   "cell_type": "code",
   "execution_count": 30,
   "id": "013a2207-3c87-461a-a26c-fb8f58e7953d",
   "metadata": {
    "tags": []
   },
   "outputs": [
    {
     "name": "stdout",
     "output_type": "stream",
     "text": [
      "Finished adding pop and city data\n"
     ]
    }
   ],
   "source": [
    "#--------------- PROCESS DATA ---------- ADD POP AND CITY DATA\n",
    "# calculate population density\n",
    "#hex_pop = hex_pop.to_crs(\"EPSG:6372\")\n",
    "#hex_pop['dens_pobha'] = hex_pop['pobtot'] / (hex_pop.area/10000)\n",
    "#hex_pop = hex_pop.to_crs(\"EPSG:4326\")\n",
    "\n",
    "# Add pop data\n",
    "#pop_list = ['hex_id_9','pobtot','dens_pobha']\n",
    "#hex_res_9_idx = pd.merge(hex_res_9_idx, hex_pop[pop_list], on='hex_id_9')\n",
    "\n",
    "#if save_disk_space:\n",
    "#    del hex_pop\n",
    "\n",
    "# Add city data\n",
    "hex_idx['city'] = city\n",
    "\n",
    "print('Finished adding pop and city data')"
   ]
  },
  {
   "cell_type": "code",
   "execution_count": 32,
   "id": "a4e21b86-3688-4c54-98a9-056f1040ef8b",
   "metadata": {
    "tags": []
   },
   "outputs": [
    {
     "name": "stdout",
     "output_type": "stream",
     "text": [
      "Finished final format\n"
     ]
    }
   ],
   "source": [
    "#--------------- FINAL FORMAT ----------\n",
    "#--------------- FINAL FORMAT ---------- REORDER COLUMNS    \n",
    "#Final format\n",
    "final_column_ordered_list = ['hex_id_9', 'geometry', \n",
    "                             #Escuelas\n",
    "                             'max_escuelas', 'max_preescolar', 'max_primaria', 'max_secundaria',\n",
    "                             #Servicios comunitarios\n",
    "                             'max_servicios comunitarios', 'max_salud', 'max_guarderías', 'max_asistencia social',\n",
    "                             #Comercio\n",
    "                             'max_comercio', 'max_alimentos', 'max_personal', 'max_farmacias', 'max_hogar', 'max_complementarios',\n",
    "                             #Entretenimiento\n",
    "                             'max_entretenimiento', 'max_social', 'max_actividad física', 'max_cultural', \n",
    "                             #Escuelas\n",
    "                             'idx_preescolar', 'idx_primaria', 'idx_secundaria',\n",
    "                             #Servicios comunitarios\n",
    "                             'idx_salud', 'idx_guarderías', 'idx_asistencia social',\n",
    "                             #Comercio\n",
    "                             'idx_alimentos', 'idx_personal', 'idx_farmacias', 'idx_hogar', 'idx_complementarios',\n",
    "                             #Entretenimiento\n",
    "                             'idx_social', 'idx_actividad física', 'idx_cultural',\n",
    "                             #Mean, median, max, index\n",
    "                             'mean_time', 'median_time', 'max_time', 'idx_sum',\n",
    "                             #Pop data\n",
    "                             #'pobtot', 'dens_pobha',\n",
    "                             #City data\n",
    "                             'city']\n",
    "\n",
    "hex_idx_city = hex_idx[final_column_ordered_list]\n",
    "\n",
    "if save_space:\n",
    "    del hex_idx\n",
    "\n",
    "print('Finished final format')"
   ]
  },
  {
   "cell_type": "code",
   "execution_count": 33,
   "id": "c69f9b1c-9ffe-428b-b221-2377d4b4aa3b",
   "metadata": {
    "tags": []
   },
   "outputs": [],
   "source": [
    "if save:\n",
    "    hex_idx_city.to_file('../../data/external/temporal_fromjupyter/proximityanalysis_hexres9.gpkg', driver='GPKG')"
   ]
  },
  {
   "cell_type": "code",
   "execution_count": null,
   "id": "ed3d96c0-a984-49d5-b20d-4ec478f6b927",
   "metadata": {},
   "outputs": [],
   "source": []
  }
 ],
 "metadata": {
  "kernelspec": {
   "display_name": "Python 3 (ipykernel)",
   "language": "python",
   "name": "python3"
  },
  "language_info": {
   "codemirror_mode": {
    "name": "ipython",
    "version": 3
   },
   "file_extension": ".py",
   "mimetype": "text/x-python",
   "name": "python",
   "nbconvert_exporter": "python",
   "pygments_lexer": "ipython3",
   "version": "3.10.5"
  }
 },
 "nbformat": 4,
 "nbformat_minor": 5
}
