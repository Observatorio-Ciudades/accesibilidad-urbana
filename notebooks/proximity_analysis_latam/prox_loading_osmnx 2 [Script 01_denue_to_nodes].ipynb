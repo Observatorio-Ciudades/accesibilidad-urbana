{
 "cells": [
  {
   "cell_type": "markdown",
   "id": "187cd46a-5e58-4292-a4f9-34f9f19d9e7e",
   "metadata": {},
   "source": [
    "## Import libraries"
   ]
  },
  {
   "cell_type": "code",
   "execution_count": 1,
   "id": "779e2272-7f0c-432b-bdd0-a68b7feeb000",
   "metadata": {
    "tags": []
   },
   "outputs": [
    {
     "name": "stderr",
     "output_type": "stream",
     "text": [
      "/usr/local/python/lib/python3.10/site-packages/osmnx/utils.py:192: UserWarning: The `utils.config` function is deprecated and will be removed in a future release. Instead, use the `settings` module directly to configure a global setting's value. For example, `ox.settings.log_console=True`.\n",
      "  warnings.warn(\n"
     ]
    }
   ],
   "source": [
    "import os\n",
    "import sys\n",
    "\n",
    "import pandas as pd\n",
    "import geopandas as gpd\n",
    "import osmnx as ox\n",
    "import numpy as np\n",
    "\n",
    "import matplotlib.pyplot as plt\n",
    "import seaborn as sns\n",
    "from shapely.geometry import Polygon, MultiLineString, Point, LineString\n",
    "\n",
    "import warnings\n",
    "warnings.simplefilter(action='ignore', category=FutureWarning)\n",
    "\n",
    "module_path = os.path.abspath(os.path.join('../../'))\n",
    "if module_path not in sys.path:\n",
    "    sys.path.append(module_path)\n",
    "    import aup"
   ]
  },
  {
   "cell_type": "code",
   "execution_count": 13,
   "id": "04dadf3a-a470-4618-bb7c-b1893e5f24d7",
   "metadata": {
    "tags": []
   },
   "outputs": [],
   "source": [
    "save = True"
   ]
  },
  {
   "cell_type": "markdown",
   "id": "963c0f12-c90c-410c-8b63-c5a152e8a065",
   "metadata": {},
   "source": [
    "## Required data"
   ]
  },
  {
   "cell_type": "markdown",
   "id": "3e5f51da-3d20-46a0-8235-a232aa74adb1",
   "metadata": {},
   "source": [
    "### Required data - Area of Interest"
   ]
  },
  {
   "cell_type": "code",
   "execution_count": 2,
   "id": "5bc095a6-a06f-4852-9633-a84d81a036aa",
   "metadata": {
    "tags": []
   },
   "outputs": [
    {
     "data": {
      "text/plain": [
       "<Axes: >"
      ]
     },
     "execution_count": 2,
     "metadata": {},
     "output_type": "execute_result"
    },
    {
     "data": {
      "image/png": "[encoded data removed]",
      "text/plain": [
       "<Figure size 640x480 with 1 Axes>"
      ]
     },
     "metadata": {},
     "output_type": "display_data"
    }
   ],
   "source": [
    "city = 'Nuevo Laredo'\n",
    "\n",
    "# Source Data\n",
    "schema = 'marco'\n",
    "folder = 'mpos_2020'\n",
    "\n",
    "# Downloads hexagons within 'city'\n",
    "query = f\"SELECT * FROM {schema}.{folder} WHERE \\\"NOMGEO\\\" LIKE \\'{city}\\'\"\n",
    "mpo = aup.gdf_from_query(query, geometry_col='geometry')\n",
    "\n",
    "mpo.plot()"
   ]
  },
  {
   "cell_type": "code",
   "execution_count": 3,
   "id": "697ff34d-d8a4-41d3-9756-70c54ae402b5",
   "metadata": {
    "tags": []
   },
   "outputs": [],
   "source": [
    "aoi = mpo.copy()"
   ]
  },
  {
   "cell_type": "markdown",
   "id": "5015bdf4-5dbc-4e15-bc76-f9eb6fbc46b1",
   "metadata": {},
   "source": [
    "### Required data - nodes and edges from notebook prox_loading_osmnx 1 [Script 07-download_osmnx]"
   ]
  },
  {
   "cell_type": "code",
   "execution_count": 4,
   "id": "2cb612fd-6e72-4842-96ca-108819bf049c",
   "metadata": {
    "tags": []
   },
   "outputs": [
    {
     "name": "stdout",
     "output_type": "stream",
     "text": [
      "(25712, 5)\n"
     ]
    },
    {
     "data": {
      "text/html": [
       "<div>\n",
       "<style scoped>\n",
       "    .dataframe tbody tr th:only-of-type {\n",
       "        vertical-align: middle;\n",
       "    }\n",
       "\n",
       "    .dataframe tbody tr th {\n",
       "        vertical-align: top;\n",
       "    }\n",
       "\n",
       "    .dataframe thead th {\n",
       "        text-align: right;\n",
       "    }\n",
       "</style>\n",
       "<table border=\"1\" class=\"dataframe\">\n",
       "  <thead>\n",
       "    <tr style=\"text-align: right;\">\n",
       "      <th></th>\n",
       "      <th>osmid</th>\n",
       "      <th>x</th>\n",
       "      <th>y</th>\n",
       "      <th>street_count</th>\n",
       "      <th>geometry</th>\n",
       "    </tr>\n",
       "  </thead>\n",
       "  <tbody>\n",
       "    <tr>\n",
       "      <th>0</th>\n",
       "      <td>229142483</td>\n",
       "      <td>-99.535591</td>\n",
       "      <td>27.629201</td>\n",
       "      <td>3</td>\n",
       "      <td>POINT (-99.53559 27.62920)</td>\n",
       "    </tr>\n",
       "    <tr>\n",
       "      <th>1</th>\n",
       "      <td>229142517</td>\n",
       "      <td>-99.495918</td>\n",
       "      <td>27.512994</td>\n",
       "      <td>4</td>\n",
       "      <td>POINT (-99.49592 27.51299)</td>\n",
       "    </tr>\n",
       "  </tbody>\n",
       "</table>\n",
       "</div>"
      ],
      "text/plain": [
       "       osmid          x          y  street_count                    geometry\n",
       "0  229142483 -99.535591  27.629201             3  POINT (-99.53559 27.62920)\n",
       "1  229142517 -99.495918  27.512994             4  POINT (-99.49592 27.51299)"
      ]
     },
     "execution_count": 4,
     "metadata": {},
     "output_type": "execute_result"
    }
   ],
   "source": [
    "nodes = gpd.read_file(\"../../data/external/temporal_fromjupyter/nodes.gpkg\")\n",
    "\n",
    "#Show\n",
    "print(nodes.shape)\n",
    "nodes.head(2)"
   ]
  },
  {
   "cell_type": "code",
   "execution_count": 6,
   "id": "e5bba68a-d290-4ea7-9295-0c66a62207c3",
   "metadata": {
    "tags": []
   },
   "outputs": [],
   "source": [
    "#poly_wkt = aoi.dissolve().geometry.to_wkt()[0]\n",
    "# Creates query to download nodes\n",
    "#query = f\"SELECT * FROM osmnx.nodes WHERE ST_Intersects(geometry, \\'SRID=4326;{poly_wkt}\\')\"\n",
    "#nodes = aup.gdf_from_query(query, geometry_col='geometry')\n",
    "\n",
    "#Show\n",
    "#print(nodes.shape)\n",
    "#nodes.head(2)"
   ]
  },
  {
   "cell_type": "code",
   "execution_count": 5,
   "id": "e0b10a51-60c1-49b5-878a-c6d870b73de7",
   "metadata": {
    "tags": []
   },
   "outputs": [
    {
     "name": "stdout",
     "output_type": "stream",
     "text": [
      "(70645, 18)\n"
     ]
    },
    {
     "data": {
      "text/html": [
       "<div>\n",
       "<style scoped>\n",
       "    .dataframe tbody tr th:only-of-type {\n",
       "        vertical-align: middle;\n",
       "    }\n",
       "\n",
       "    .dataframe tbody tr th {\n",
       "        vertical-align: top;\n",
       "    }\n",
       "\n",
       "    .dataframe thead th {\n",
       "        text-align: right;\n",
       "    }\n",
       "</style>\n",
       "<table border=\"1\" class=\"dataframe\">\n",
       "  <thead>\n",
       "    <tr style=\"text-align: right;\">\n",
       "      <th></th>\n",
       "      <th>osmid</th>\n",
       "      <th>v</th>\n",
       "      <th>u</th>\n",
       "      <th>key</th>\n",
       "      <th>oneway</th>\n",
       "      <th>lanes</th>\n",
       "      <th>name</th>\n",
       "      <th>highway</th>\n",
       "      <th>maxspeed</th>\n",
       "      <th>length</th>\n",
       "      <th>bridge</th>\n",
       "      <th>ref</th>\n",
       "      <th>junction</th>\n",
       "      <th>tunnel</th>\n",
       "      <th>access</th>\n",
       "      <th>width</th>\n",
       "      <th>service</th>\n",
       "      <th>geometry</th>\n",
       "    </tr>\n",
       "  </thead>\n",
       "  <tbody>\n",
       "    <tr>\n",
       "      <th>0</th>\n",
       "      <td>21332716</td>\n",
       "      <td>229416549</td>\n",
       "      <td>229142483</td>\n",
       "      <td>0</td>\n",
       "      <td>False</td>\n",
       "      <td>NaN</td>\n",
       "      <td>Trade Center Boulevard</td>\n",
       "      <td>unclassified</td>\n",
       "      <td>NaN</td>\n",
       "      <td>202.915</td>\n",
       "      <td>NaN</td>\n",
       "      <td>NaN</td>\n",
       "      <td>NaN</td>\n",
       "      <td>NaN</td>\n",
       "      <td>NaN</td>\n",
       "      <td>NaN</td>\n",
       "      <td>NaN</td>\n",
       "      <td>LINESTRING (-99.53559 27.62920, -99.53746 27.6...</td>\n",
       "    </tr>\n",
       "    <tr>\n",
       "      <th>1</th>\n",
       "      <td>21302430</td>\n",
       "      <td>10798126756</td>\n",
       "      <td>229142483</td>\n",
       "      <td>0</td>\n",
       "      <td>False</td>\n",
       "      <td>NaN</td>\n",
       "      <td>Industry Avenue</td>\n",
       "      <td>unclassified</td>\n",
       "      <td>NaN</td>\n",
       "      <td>553.562</td>\n",
       "      <td>NaN</td>\n",
       "      <td>NaN</td>\n",
       "      <td>NaN</td>\n",
       "      <td>NaN</td>\n",
       "      <td>NaN</td>\n",
       "      <td>NaN</td>\n",
       "      <td>NaN</td>\n",
       "      <td>LINESTRING (-99.53559 27.62920, -99.53348 27.6...</td>\n",
       "    </tr>\n",
       "  </tbody>\n",
       "</table>\n",
       "</div>"
      ],
      "text/plain": [
       "      osmid            v          u  key  oneway lanes  \\\n",
       "0  21332716    229416549  229142483    0   False   NaN   \n",
       "1  21302430  10798126756  229142483    0   False   NaN   \n",
       "\n",
       "                     name       highway maxspeed   length bridge  ref  \\\n",
       "0  Trade Center Boulevard  unclassified      NaN  202.915    NaN  NaN   \n",
       "1         Industry Avenue  unclassified      NaN  553.562    NaN  NaN   \n",
       "\n",
       "  junction tunnel access  width service  \\\n",
       "0      NaN    NaN    NaN    NaN     NaN   \n",
       "1      NaN    NaN    NaN    NaN     NaN   \n",
       "\n",
       "                                            geometry  \n",
       "0  LINESTRING (-99.53559 27.62920, -99.53746 27.6...  \n",
       "1  LINESTRING (-99.53559 27.62920, -99.53348 27.6...  "
      ]
     },
     "execution_count": 5,
     "metadata": {},
     "output_type": "execute_result"
    }
   ],
   "source": [
    "edges = gpd.read_file(\"../../data/external/temporal_fromjupyter/edges.gpkg\")\n",
    "\n",
    "#Show\n",
    "print(edges.shape)\n",
    "edges.head(2)"
   ]
  },
  {
   "cell_type": "code",
   "execution_count": 7,
   "id": "ab804f63-753e-4cbe-b7cb-25466910d15b",
   "metadata": {
    "tags": []
   },
   "outputs": [],
   "source": [
    "#poly_wkt = aoi.dissolve().geometry.to_wkt()[0]\n",
    "# Creates query to download edges\n",
    "#query = f\"SELECT * FROM osmnx.edges WHERE ST_Intersects(geometry, \\'SRID=4326;{poly_wkt}\\')\"\n",
    "#edges = aup.gdf_from_query(query, geometry_col='geometry')\n",
    "\n",
    "#Show\n",
    "#print(edges.shape)\n",
    "#edges.head(2)"
   ]
  },
  {
   "cell_type": "markdown",
   "id": "92dd827c-94f2-404f-b9cb-f53dd9aa6e23",
   "metadata": {},
   "source": [
    "### Required data - Points of interest"
   ]
  },
  {
   "cell_type": "code",
   "execution_count": 8,
   "id": "2838e264-a780-491b-aedc-e245d0316eb2",
   "metadata": {
    "tags": []
   },
   "outputs": [
    {
     "name": "stdout",
     "output_type": "stream",
     "text": [
      "(15105, 3)\n"
     ]
    },
    {
     "data": {
      "text/html": [
       "<div>\n",
       "<style scoped>\n",
       "    .dataframe tbody tr th:only-of-type {\n",
       "        vertical-align: middle;\n",
       "    }\n",
       "\n",
       "    .dataframe tbody tr th {\n",
       "        vertical-align: top;\n",
       "    }\n",
       "\n",
       "    .dataframe thead th {\n",
       "        text-align: right;\n",
       "    }\n",
       "</style>\n",
       "<table border=\"1\" class=\"dataframe\">\n",
       "  <thead>\n",
       "    <tr style=\"text-align: right;\">\n",
       "      <th></th>\n",
       "      <th>id</th>\n",
       "      <th>codigo_act</th>\n",
       "      <th>geometry</th>\n",
       "    </tr>\n",
       "  </thead>\n",
       "  <tbody>\n",
       "    <tr>\n",
       "      <th>0</th>\n",
       "      <td>8292733</td>\n",
       "      <td>322299</td>\n",
       "      <td>POINT (-99.50178 27.48765)</td>\n",
       "    </tr>\n",
       "    <tr>\n",
       "      <th>1</th>\n",
       "      <td>9041161</td>\n",
       "      <td>326212</td>\n",
       "      <td>POINT (-99.51682 27.46476)</td>\n",
       "    </tr>\n",
       "  </tbody>\n",
       "</table>\n",
       "</div>"
      ],
      "text/plain": [
       "        id codigo_act                    geometry\n",
       "0  8292733     322299  POINT (-99.50178 27.48765)\n",
       "1  9041161     326212  POINT (-99.51682 27.46476)"
      ]
     },
     "execution_count": 8,
     "metadata": {},
     "output_type": "execute_result"
    }
   ],
   "source": [
    "poly_wkt = aoi.dissolve().geometry.to_wkt()[0]\n",
    "# Creates query to download DENUE from the metropolitan area or capital\n",
    "query = f\"SELECT * FROM denue.denue_2022 WHERE ST_Intersects(geometry, \\'SRID=4326;{poly_wkt}\\')\"\n",
    "denue = aup.gdf_from_query(query, geometry_col='geometry')\n",
    "\n",
    "pois = denue[['id', 'codigo_act', 'geometry']]\n",
    "\n",
    "#Show\n",
    "print(pois.shape)\n",
    "pois.head(2)"
   ]
  },
  {
   "cell_type": "markdown",
   "id": "60ef2305-7c29-403a-865d-bf2efcda4ea7",
   "metadata": {},
   "source": [
    "## Step 2: define graph_from_hippo without loading from a database"
   ]
  },
  {
   "cell_type": "markdown",
   "id": "3421c939-0697-4df7-89a4-76889bea8a82",
   "metadata": {},
   "source": [
    "### Necessary definitions - graph_from_hippo"
   ]
  },
  {
   "cell_type": "code",
   "execution_count": 9,
   "id": "eeaf3031-1c45-4242-b348-e6f3541aeb8c",
   "metadata": {
    "tags": []
   },
   "outputs": [],
   "source": [
    "def graph_from_nodes_and_edges(gdf, nodes, edges):\n",
    "    # ------------------------------------------------------ CODE CHANGE NEEDED: INSTEAD OF QUERRING FROM DB FROM A POLY_WKT, OVERLAY IS USED.\n",
    "    # Query edges intersecting area of interest\n",
    "    edges_gdf = gpd.overlay(gdf,edges,keep_geom_type=False)\n",
    "\n",
    "    # Delete useless columns resulting from overlay\n",
    "    edges_columns = [\n",
    "        \"osmid\",\n",
    "        \"v\",\n",
    "        \"u\",\n",
    "        \"key\",\n",
    "        \"oneway\",\n",
    "        \"lanes\",\n",
    "        \"name\",\n",
    "        \"highway\",\n",
    "        \"maxspeed\",\n",
    "        \"length\",\n",
    "        \"geometry\",\n",
    "        \"bridge\",\n",
    "        \"ref\",\n",
    "        \"junction\",\n",
    "        \"tunnel\",\n",
    "        \"access\",\n",
    "        \"width\",\n",
    "        \"service\",\n",
    "    ]\n",
    "\n",
    "    edges_gdf = edges_gdf[edges_columns]\n",
    "\n",
    "    # Find nodes belonging to those querried edges\n",
    "    nodes_id = list(edges_gdf.v.unique())\n",
    "    u = list(edges_gdf.u.unique())\n",
    "    nodes_id.extend(u)\n",
    "    myset = set(nodes_id)\n",
    "    nodes_id = list(myset)\n",
    "\n",
    "    # ------------------------------------------------------ CODE CHANGE NEEDED: INSTEAD OF QUERRING FROM DB WHERE osmid IN {str(tuple(nodes_id))}, isin(nodes_id list) IS USED.\n",
    "    # Query those nodes\n",
    "    idx = nodes['osmid'].isin(nodes_id)\n",
    "    nodes_gdf = nodes.loc[idx]\n",
    "\n",
    "    # Drop duplicates\n",
    "    #                                       ----------------------------------- ERROR, CONSULTAR CON EDGAR: ---------- Usando este method sale \"TypeError: unhashable type: 'list'\".\n",
    "    edges_gdf.drop_duplicates(inplace=True) \n",
    "    #edges_gdf = edges_gdf.loc[edges_gdf.astype(str).drop_duplicates().index]\n",
    "    nodes_gdf.drop_duplicates(inplace=True)\n",
    "\n",
    "    # Format\n",
    "    nodes_gdf = nodes_gdf.set_index('osmid')\n",
    "    edges_gdf = edges_gdf.set_index([\"u\", \"v\", \"key\"])\n",
    "\n",
    "    nodes_gdf = nodes_gdf.set_crs(\"EPSG:4326\")\n",
    "    edges_gdf = edges_gdf.set_crs(\"EPSG:4326\")\n",
    "\n",
    "    #-----------------------------------------------------------------------------------------------------------------------------------------------------\n",
    "    print(\"Querried and formated nodes and edges within area of interest.\")\n",
    "    #-----------------------------------------------------------------------------------------------------------------------------------------------------\n",
    "\n",
    "    # Making sure all nodes belonging to edges_gdf are present in nodes_gdf\n",
    "    nodes_tmp = nodes_gdf.reset_index().copy()\n",
    "    edges_tmp = edges_gdf.reset_index().copy()\n",
    "\n",
    "    # Current nodes in nodes_gdf\n",
    "    nodes_dict = nodes_tmp.to_dict()\n",
    "\n",
    "    # U nodes\n",
    "    # U nodes that are in edges_tmp but not in nodes_tmp\n",
    "    from_osmid = list(set(edges_tmp['u'].to_list()).difference(set(nodes_tmp.osmid.to_list())))\n",
    "\n",
    "    # Iterating over each missing U node and adding its data to nodes_dict\n",
    "    for i in from_osmid:\n",
    "        row = edges_tmp.loc[(edges_tmp.u==i)].iloc[0]\n",
    "        coords = [(coords) for coords in list(row['geometry'].coords)]\n",
    "        first_coord, last_coord = [ coords[i] for i in (0, -1) ]\n",
    "\n",
    "        nodes_dict['osmid'][len(nodes_dict['osmid'])] = i\n",
    "        nodes_dict['x'][len(nodes_dict['x'])] = first_coord[0]\n",
    "        nodes_dict['y'][len(nodes_dict['y'])] = first_coord[1]\n",
    "        nodes_dict['street_count'][len(nodes_dict['street_count'])] = np.nan\n",
    "        nodes_dict['geometry'][len(nodes_dict['geometry'])] = Point(first_coord)\n",
    "\n",
    "    # V nodes\n",
    "    # V nodes that are in edges_tmp but not in nodes_dict                                                      #Duda para Edgar: ¿Por qué en U nodes revisamos nodes_tmp pero en V nodes revisamos nodes_dict?\n",
    "    to_osmid = list(set(edges_tmp['v'].to_list()).difference(set(list(nodes_dict['osmid'].values()))))\n",
    "\n",
    "    # Iterating over each missing V node and adding its data to nodes_dict\n",
    "    for i in to_osmid:\n",
    "        row = edges_tmp.loc[(edges_tmp.v==i)].iloc[0]\n",
    "        coords = [(coords) for coords in list(row['geometry'].coords)]\n",
    "        first_coord, last_coord = [ coords[i] for i in (0, -1) ]\n",
    "\n",
    "        nodes_dict['osmid'][len(nodes_dict['osmid'])] = i\n",
    "        nodes_dict['x'][len(nodes_dict['x'])] = last_coord[0]\n",
    "        nodes_dict['y'][len(nodes_dict['y'])] = last_coord[1]\n",
    "        nodes_dict['street_count'][len(nodes_dict['street_count'])] = np.nan\n",
    "        nodes_dict['geometry'][len(nodes_dict['geometry'])] = Point(last_coord)\n",
    "\n",
    "    # Rewriting nodes_gdf from updated nodes_dict\n",
    "    nodes_tmp = pd.DataFrame.from_dict(nodes_dict)\n",
    "    nodes_tmp = gpd.GeoDataFrame(nodes_tmp, crs=\"EPSG:4326\", geometry='geometry')\n",
    "    nodes_gdf = nodes_tmp.copy()\n",
    "    nodes_gdf.set_index('osmid',inplace=True)    \n",
    "\n",
    "    #-----------------------------------------------------------------------------------------------------------------------------------------------------\n",
    "    print(\"Missing nodes from edges added to nodes gdf.\")\n",
    "    #-----------------------------------------------------------------------------------------------------------------------------------------------------\n",
    "\n",
    "    G = ox.graph_from_gdfs(nodes_gdf, edges_gdf)\n",
    "\n",
    "    #-----------------------------------------------------------------------------------------------------------------------------------------------------\n",
    "    print(\"Created graph.\")\n",
    "    #-----------------------------------------------------------------------------------------------------------------------------------------------------\n",
    "    \n",
    "    return G, nodes_gdf, edges_gdf"
   ]
  },
  {
   "cell_type": "code",
   "execution_count": 10,
   "id": "fbacba81-980a-4e6c-ba34-b44a1aaef3cd",
   "metadata": {
    "tags": []
   },
   "outputs": [],
   "source": [
    "def pois_nodes_distance(aoi, nodes, edges, pois):\n",
    "    G, nodes_gdf, edges_gdf = graph_from_nodes_and_edges(aoi, nodes, edges)\n",
    "\n",
    "    #-----------------------------------------------------------------------------------------------------------------------------------------------------\n",
    "    print(\"Created network.\")\n",
    "    #-----------------------------------------------------------------------------------------------------------------------------------------------------\n",
    "\n",
    "    pois = pois.set_crs(\"EPSG:4326\")\n",
    "    nodes = nodes.set_crs(\"EPSG:4326\")\n",
    "    edges = edges.set_crs(\"EPSG:4326\")\n",
    "\n",
    "    nearest = aup.find_nearest(G, nodes, pois, return_distance= True)\n",
    "    \n",
    "    #-----------------------------------------------------------------------------------------------------------------------------------------------------\n",
    "    print(\"Calculated distances from pois to nearest node.\")\n",
    "    #-----------------------------------------------------------------------------------------------------------------------------------------------------\n",
    "    \n",
    "    return nearest"
   ]
  },
  {
   "cell_type": "code",
   "execution_count": 11,
   "id": "81b92727-01a1-4e73-8371-65382cb5fc3a",
   "metadata": {
    "tags": []
   },
   "outputs": [
    {
     "name": "stderr",
     "output_type": "stream",
     "text": [
      "/tmp/ipykernel_25813/3734518090.py:46: SettingWithCopyWarning: \n",
      "A value is trying to be set on a copy of a slice from a DataFrame\n",
      "\n",
      "See the caveats in the documentation: https://pandas.pydata.org/pandas-docs/stable/user_guide/indexing.html#returning-a-view-versus-a-copy\n",
      "  nodes_gdf.drop_duplicates(inplace=True)\n"
     ]
    },
    {
     "name": "stdout",
     "output_type": "stream",
     "text": [
      "Querried and formated nodes and edges within area of interest.\n",
      "Missing nodes from edges added to nodes gdf.\n",
      "Created graph.\n",
      "Created network.\n",
      "Calculated distances from pois to nearest node.\n"
     ]
    }
   ],
   "source": [
    "nearest = pois_nodes_distance(aoi, nodes, edges, pois)"
   ]
  },
  {
   "cell_type": "code",
   "execution_count": 12,
   "id": "553512be-f2d0-477a-9010-7498d45739b9",
   "metadata": {
    "tags": []
   },
   "outputs": [
    {
     "name": "stdout",
     "output_type": "stream",
     "text": [
      "(15105, 5)\n"
     ]
    },
    {
     "data": {
      "text/html": [
       "<div>\n",
       "<style scoped>\n",
       "    .dataframe tbody tr th:only-of-type {\n",
       "        vertical-align: middle;\n",
       "    }\n",
       "\n",
       "    .dataframe tbody tr th {\n",
       "        vertical-align: top;\n",
       "    }\n",
       "\n",
       "    .dataframe thead th {\n",
       "        text-align: right;\n",
       "    }\n",
       "</style>\n",
       "<table border=\"1\" class=\"dataframe\">\n",
       "  <thead>\n",
       "    <tr style=\"text-align: right;\">\n",
       "      <th></th>\n",
       "      <th>id</th>\n",
       "      <th>codigo_act</th>\n",
       "      <th>geometry</th>\n",
       "      <th>osmid</th>\n",
       "      <th>distance_node</th>\n",
       "    </tr>\n",
       "  </thead>\n",
       "  <tbody>\n",
       "    <tr>\n",
       "      <th>0</th>\n",
       "      <td>8292733</td>\n",
       "      <td>322299</td>\n",
       "      <td>POINT (-99.50178 27.48765)</td>\n",
       "      <td>11319</td>\n",
       "      <td>11.389133</td>\n",
       "    </tr>\n",
       "    <tr>\n",
       "      <th>1</th>\n",
       "      <td>9041161</td>\n",
       "      <td>326212</td>\n",
       "      <td>POINT (-99.51682 27.46476)</td>\n",
       "      <td>10124</td>\n",
       "      <td>71.458501</td>\n",
       "    </tr>\n",
       "  </tbody>\n",
       "</table>\n",
       "</div>"
      ],
      "text/plain": [
       "        id codigo_act                    geometry  osmid  distance_node\n",
       "0  8292733     322299  POINT (-99.50178 27.48765)  11319      11.389133\n",
       "1  9041161     326212  POINT (-99.51682 27.46476)  10124      71.458501"
      ]
     },
     "execution_count": 12,
     "metadata": {},
     "output_type": "execute_result"
    }
   ],
   "source": [
    "#Show\n",
    "print(nearest.shape)\n",
    "nearest.head(2)"
   ]
  },
  {
   "cell_type": "code",
   "execution_count": 14,
   "id": "c69f9b1c-9ffe-428b-b221-2377d4b4aa3b",
   "metadata": {
    "tags": []
   },
   "outputs": [],
   "source": [
    "if save:\n",
    "    nodes.to_file('../../data/external/temporal_fromjupyter/pois_distance_node.gpkg', driver='GPKG')"
   ]
  },
  {
   "cell_type": "code",
   "execution_count": null,
   "id": "ad0a7f84-9aa5-4006-ad04-d783a873bc58",
   "metadata": {},
   "outputs": [],
   "source": []
  }
 ],
 "metadata": {
  "kernelspec": {
   "display_name": "Python 3 (ipykernel)",
   "language": "python",
   "name": "python3"
  },
  "language_info": {
   "codemirror_mode": {
    "name": "ipython",
    "version": 3
   },
   "file_extension": ".py",
   "mimetype": "text/x-python",
   "name": "python",
   "nbconvert_exporter": "python",
   "pygments_lexer": "ipython3",
   "version": "3.10.5"
  }
 },
 "nbformat": 4,
 "nbformat_minor": 5
}
