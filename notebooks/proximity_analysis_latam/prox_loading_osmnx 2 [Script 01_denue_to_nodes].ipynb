{
 "cells": [
  {
   "cell_type": "markdown",
   "id": "187cd46a-5e58-4292-a4f9-34f9f19d9e7e",
   "metadata": {},
   "source": [
    "## Import libraries"
   ]
  },
  {
   "cell_type": "code",
   "execution_count": 1,
   "id": "779e2272-7f0c-432b-bdd0-a68b7feeb000",
   "metadata": {
    "tags": []
   },
   "outputs": [
    {
     "name": "stderr",
     "output_type": "stream",
     "text": [
      "/usr/local/python/lib/python3.10/site-packages/osmnx/utils.py:192: UserWarning: The `utils.config` function is deprecated and will be removed in a future release. Instead, use the `settings` module directly to configure a global setting's value. For example, `ox.settings.log_console=True`.\n",
      "  warnings.warn(\n"
     ]
    }
   ],
   "source": [
    "import os\n",
    "import sys\n",
    "\n",
    "import pandas as pd\n",
    "import geopandas as gpd\n",
    "import osmnx as ox\n",
    "import numpy as np\n",
    "\n",
    "import matplotlib.pyplot as plt\n",
    "import seaborn as sns\n",
    "from shapely.geometry import Polygon, MultiLineString, Point, LineString\n",
    "\n",
    "import warnings\n",
    "warnings.simplefilter(action='ignore', category=FutureWarning)\n",
    "\n",
    "module_path = os.path.abspath(os.path.join('../../'))\n",
    "if module_path not in sys.path:\n",
    "    sys.path.append(module_path)\n",
    "    import aup"
   ]
  },
  {
   "cell_type": "code",
   "execution_count": 2,
   "id": "04dadf3a-a470-4618-bb7c-b1893e5f24d7",
   "metadata": {
    "tags": []
   },
   "outputs": [],
   "source": [
    "save = True\n",
    "save_space = True"
   ]
  },
  {
   "cell_type": "markdown",
   "id": "963c0f12-c90c-410c-8b63-c5a152e8a065",
   "metadata": {},
   "source": [
    "## Required data"
   ]
  },
  {
   "cell_type": "markdown",
   "id": "3e5f51da-3d20-46a0-8235-a232aa74adb1",
   "metadata": {},
   "source": [
    "### Required data - Area of Interest"
   ]
  },
  {
   "cell_type": "code",
   "execution_count": 3,
   "id": "5bc095a6-a06f-4852-9633-a84d81a036aa",
   "metadata": {
    "tags": []
   },
   "outputs": [
    {
     "name": "stdout",
     "output_type": "stream",
     "text": [
      "(3, 6)\n"
     ]
    },
    {
     "data": {
      "text/html": [
       "<div>\n",
       "<style scoped>\n",
       "    .dataframe tbody tr th:only-of-type {\n",
       "        vertical-align: middle;\n",
       "    }\n",
       "\n",
       "    .dataframe tbody tr th {\n",
       "        vertical-align: top;\n",
       "    }\n",
       "\n",
       "    .dataframe thead th {\n",
       "        text-align: right;\n",
       "    }\n",
       "</style>\n",
       "<table border=\"1\" class=\"dataframe\">\n",
       "  <thead>\n",
       "    <tr style=\"text-align: right;\">\n",
       "      <th></th>\n",
       "      <th>CVEGEO</th>\n",
       "      <th>CVE_ENT</th>\n",
       "      <th>CVE_MUN</th>\n",
       "      <th>NOMGEO</th>\n",
       "      <th>geometry</th>\n",
       "      <th>city</th>\n",
       "    </tr>\n",
       "  </thead>\n",
       "  <tbody>\n",
       "    <tr>\n",
       "      <th>0</th>\n",
       "      <td>01001</td>\n",
       "      <td>01</td>\n",
       "      <td>001</td>\n",
       "      <td>Aguascalientes</td>\n",
       "      <td>POLYGON ((-102.10641 22.06035, -102.10368 22.0...</td>\n",
       "      <td>Aguascalientes</td>\n",
       "    </tr>\n",
       "    <tr>\n",
       "      <th>1</th>\n",
       "      <td>01005</td>\n",
       "      <td>01</td>\n",
       "      <td>005</td>\n",
       "      <td>Jesús María</td>\n",
       "      <td>POLYGON ((-102.33568 22.05067, -102.33348 22.0...</td>\n",
       "      <td>Aguascalientes</td>\n",
       "    </tr>\n",
       "  </tbody>\n",
       "</table>\n",
       "</div>"
      ],
      "text/plain": [
       "  CVEGEO CVE_ENT CVE_MUN          NOMGEO  \\\n",
       "0  01001      01     001  Aguascalientes   \n",
       "1  01005      01     005     Jesús María   \n",
       "\n",
       "                                            geometry            city  \n",
       "0  POLYGON ((-102.10641 22.06035, -102.10368 22.0...  Aguascalientes  \n",
       "1  POLYGON ((-102.33568 22.05067, -102.33348 22.0...  Aguascalientes  "
      ]
     },
     "execution_count": 3,
     "metadata": {},
     "output_type": "execute_result"
    }
   ],
   "source": [
    "city = 'Aguascalientes'\n",
    "\n",
    "# Source Data\n",
    "schema = 'metropolis'\n",
    "folder = 'metro_gdf'\n",
    "\n",
    "# Downloads hexagons within 'city'\n",
    "query = f\"SELECT * FROM {schema}.{folder} WHERE \\\"city\\\" LIKE \\'{city}\\'\"\n",
    "mun_gdf = aup.gdf_from_query(query, geometry_col='geometry')\n",
    "\n",
    "#Show\n",
    "print(mun_gdf.shape)\n",
    "mun_gdf.head(2)"
   ]
  },
  {
   "cell_type": "code",
   "execution_count": 4,
   "id": "697ff34d-d8a4-41d3-9756-70c54ae402b5",
   "metadata": {
    "tags": []
   },
   "outputs": [
    {
     "data": {
      "text/plain": [
       "<Axes: >"
      ]
     },
     "execution_count": 4,
     "metadata": {},
     "output_type": "execute_result"
    },
    {
     "data": {
      "image/png": "[encoded data removed]",
      "text/plain": [
       "<Figure size 640x480 with 1 Axes>"
      ]
     },
     "metadata": {},
     "output_type": "display_data"
    }
   ],
   "source": [
    "mun_gdf = mun_gdf.set_crs(\"EPSG:4326\")\n",
    "aoi = mun_gdf.dissolve()\n",
    "aoi = aoi[['city','geometry']]\n",
    "\n",
    "#Show\n",
    "aoi.plot()"
   ]
  },
  {
   "cell_type": "markdown",
   "id": "5015bdf4-5dbc-4e15-bc76-f9eb6fbc46b1",
   "metadata": {},
   "source": [
    "### Required data - nodes and edges from notebook prox_loading_osmnx 1 [Script 07-download_osmnx]"
   ]
  },
  {
   "cell_type": "code",
   "execution_count": 5,
   "id": "2cb612fd-6e72-4842-96ca-108819bf049c",
   "metadata": {
    "tags": []
   },
   "outputs": [
    {
     "name": "stdout",
     "output_type": "stream",
     "text": [
      "(57478, 5)\n"
     ]
    },
    {
     "data": {
      "text/html": [
       "<div>\n",
       "<style scoped>\n",
       "    .dataframe tbody tr th:only-of-type {\n",
       "        vertical-align: middle;\n",
       "    }\n",
       "\n",
       "    .dataframe tbody tr th {\n",
       "        vertical-align: top;\n",
       "    }\n",
       "\n",
       "    .dataframe thead th {\n",
       "        text-align: right;\n",
       "    }\n",
       "</style>\n",
       "<table border=\"1\" class=\"dataframe\">\n",
       "  <thead>\n",
       "    <tr style=\"text-align: right;\">\n",
       "      <th></th>\n",
       "      <th>osmid</th>\n",
       "      <th>x</th>\n",
       "      <th>y</th>\n",
       "      <th>street_count</th>\n",
       "      <th>geometry</th>\n",
       "    </tr>\n",
       "  </thead>\n",
       "  <tbody>\n",
       "    <tr>\n",
       "      <th>0</th>\n",
       "      <td>301189389</td>\n",
       "      <td>-102.342212</td>\n",
       "      <td>21.848544</td>\n",
       "      <td>4</td>\n",
       "      <td>POINT (-102.34221 21.84854)</td>\n",
       "    </tr>\n",
       "    <tr>\n",
       "      <th>1</th>\n",
       "      <td>301189406</td>\n",
       "      <td>-102.350222</td>\n",
       "      <td>21.850815</td>\n",
       "      <td>3</td>\n",
       "      <td>POINT (-102.35022 21.85082)</td>\n",
       "    </tr>\n",
       "  </tbody>\n",
       "</table>\n",
       "</div>"
      ],
      "text/plain": [
       "       osmid           x          y  street_count                     geometry\n",
       "0  301189389 -102.342212  21.848544             4  POINT (-102.34221 21.84854)\n",
       "1  301189406 -102.350222  21.850815             3  POINT (-102.35022 21.85082)"
      ]
     },
     "execution_count": 5,
     "metadata": {},
     "output_type": "execute_result"
    }
   ],
   "source": [
    "nodes = gpd.read_file(\"../../data/external/temporal_fromjupyter/nodes.gpkg\")\n",
    "\n",
    "#Show\n",
    "print(nodes.shape)\n",
    "nodes.head(2)"
   ]
  },
  {
   "cell_type": "code",
   "execution_count": 6,
   "id": "e5bba68a-d290-4ea7-9295-0c66a62207c3",
   "metadata": {
    "tags": []
   },
   "outputs": [],
   "source": [
    "#poly_wkt = aoi.dissolve().geometry.to_wkt()[0]\n",
    "# Creates query to download nodes\n",
    "#query = f\"SELECT * FROM osmnx.nodes WHERE ST_Intersects(geometry, \\'SRID=4326;{poly_wkt}\\')\"\n",
    "#nodes = aup.gdf_from_query(query, geometry_col='geometry')\n",
    "\n",
    "#Show\n",
    "#print(nodes.shape)\n",
    "#nodes.head(2)"
   ]
  },
  {
   "cell_type": "code",
   "execution_count": 7,
   "id": "e0b10a51-60c1-49b5-878a-c6d870b73de7",
   "metadata": {
    "tags": []
   },
   "outputs": [
    {
     "name": "stdout",
     "output_type": "stream",
     "text": [
      "(135456, 18)\n"
     ]
    },
    {
     "data": {
      "text/html": [
       "<div>\n",
       "<style scoped>\n",
       "    .dataframe tbody tr th:only-of-type {\n",
       "        vertical-align: middle;\n",
       "    }\n",
       "\n",
       "    .dataframe tbody tr th {\n",
       "        vertical-align: top;\n",
       "    }\n",
       "\n",
       "    .dataframe thead th {\n",
       "        text-align: right;\n",
       "    }\n",
       "</style>\n",
       "<table border=\"1\" class=\"dataframe\">\n",
       "  <thead>\n",
       "    <tr style=\"text-align: right;\">\n",
       "      <th></th>\n",
       "      <th>osmid</th>\n",
       "      <th>v</th>\n",
       "      <th>u</th>\n",
       "      <th>key</th>\n",
       "      <th>oneway</th>\n",
       "      <th>lanes</th>\n",
       "      <th>name</th>\n",
       "      <th>highway</th>\n",
       "      <th>maxspeed</th>\n",
       "      <th>length</th>\n",
       "      <th>bridge</th>\n",
       "      <th>ref</th>\n",
       "      <th>junction</th>\n",
       "      <th>tunnel</th>\n",
       "      <th>access</th>\n",
       "      <th>width</th>\n",
       "      <th>service</th>\n",
       "      <th>geometry</th>\n",
       "    </tr>\n",
       "  </thead>\n",
       "  <tbody>\n",
       "    <tr>\n",
       "      <th>0</th>\n",
       "      <td>713153965</td>\n",
       "      <td>1408187972</td>\n",
       "      <td>301189389</td>\n",
       "      <td>0</td>\n",
       "      <td>False</td>\n",
       "      <td>NaN</td>\n",
       "      <td>Prolongación Constitución</td>\n",
       "      <td>residential</td>\n",
       "      <td>NaN</td>\n",
       "      <td>13.812</td>\n",
       "      <td>NaN</td>\n",
       "      <td>NaN</td>\n",
       "      <td>NaN</td>\n",
       "      <td>NaN</td>\n",
       "      <td>NaN</td>\n",
       "      <td>NaN</td>\n",
       "      <td>NaN</td>\n",
       "      <td>LINESTRING (-102.34221 21.84854, -102.34219 21...</td>\n",
       "    </tr>\n",
       "    <tr>\n",
       "      <th>1</th>\n",
       "      <td>715583649</td>\n",
       "      <td>9370947312</td>\n",
       "      <td>301189389</td>\n",
       "      <td>0</td>\n",
       "      <td>True</td>\n",
       "      <td>2</td>\n",
       "      <td>Avenida Siglo XXI</td>\n",
       "      <td>trunk</td>\n",
       "      <td>NaN</td>\n",
       "      <td>412.235</td>\n",
       "      <td>NaN</td>\n",
       "      <td>NaN</td>\n",
       "      <td>NaN</td>\n",
       "      <td>NaN</td>\n",
       "      <td>NaN</td>\n",
       "      <td>NaN</td>\n",
       "      <td>NaN</td>\n",
       "      <td>LINESTRING (-102.34221 21.84854, -102.34600 21...</td>\n",
       "    </tr>\n",
       "  </tbody>\n",
       "</table>\n",
       "</div>"
      ],
      "text/plain": [
       "       osmid           v          u  key  oneway lanes  \\\n",
       "0  713153965  1408187972  301189389    0   False   NaN   \n",
       "1  715583649  9370947312  301189389    0    True     2   \n",
       "\n",
       "                        name      highway maxspeed   length bridge  ref  \\\n",
       "0  Prolongación Constitución  residential      NaN   13.812    NaN  NaN   \n",
       "1          Avenida Siglo XXI        trunk      NaN  412.235    NaN  NaN   \n",
       "\n",
       "  junction tunnel access width service  \\\n",
       "0      NaN    NaN    NaN   NaN     NaN   \n",
       "1      NaN    NaN    NaN   NaN     NaN   \n",
       "\n",
       "                                            geometry  \n",
       "0  LINESTRING (-102.34221 21.84854, -102.34219 21...  \n",
       "1  LINESTRING (-102.34221 21.84854, -102.34600 21...  "
      ]
     },
     "execution_count": 7,
     "metadata": {},
     "output_type": "execute_result"
    }
   ],
   "source": [
    "edges = gpd.read_file(\"../../data/external/temporal_fromjupyter/edges.gpkg\")\n",
    "\n",
    "#Show\n",
    "print(edges.shape)\n",
    "edges.head(2)"
   ]
  },
  {
   "cell_type": "code",
   "execution_count": 8,
   "id": "ab804f63-753e-4cbe-b7cb-25466910d15b",
   "metadata": {
    "tags": []
   },
   "outputs": [],
   "source": [
    "#poly_wkt = aoi.dissolve().geometry.to_wkt()[0]\n",
    "# Creates query to download edges\n",
    "#query = f\"SELECT * FROM osmnx.edges WHERE ST_Intersects(geometry, \\'SRID=4326;{poly_wkt}\\')\"\n",
    "#edges = aup.gdf_from_query(query, geometry_col='geometry')\n",
    "\n",
    "#Show\n",
    "#print(edges.shape)\n",
    "#edges.head(2)"
   ]
  },
  {
   "cell_type": "markdown",
   "id": "92dd827c-94f2-404f-b9cb-f53dd9aa6e23",
   "metadata": {},
   "source": [
    "### Required data - Points of interest"
   ]
  },
  {
   "cell_type": "code",
   "execution_count": 9,
   "id": "d0d9c65c-807c-4101-b998-3a4de8470d7d",
   "metadata": {
    "tags": []
   },
   "outputs": [],
   "source": [
    "poly_wkt = aoi.dissolve().geometry.to_wkt()[0]"
   ]
  },
  {
   "cell_type": "markdown",
   "id": "3156e560-7469-46f3-a25a-a89e82b97a5b",
   "metadata": {},
   "source": [
    "### Required data - Points of interest - DENUE"
   ]
  },
  {
   "cell_type": "code",
   "execution_count": 10,
   "id": "2838e264-a780-491b-aedc-e245d0316eb2",
   "metadata": {
    "tags": []
   },
   "outputs": [
    {
     "name": "stdout",
     "output_type": "stream",
     "text": [
      "(52473, 2)\n"
     ]
    },
    {
     "data": {
      "text/html": [
       "<div>\n",
       "<style scoped>\n",
       "    .dataframe tbody tr th:only-of-type {\n",
       "        vertical-align: middle;\n",
       "    }\n",
       "\n",
       "    .dataframe tbody tr th {\n",
       "        vertical-align: top;\n",
       "    }\n",
       "\n",
       "    .dataframe thead th {\n",
       "        text-align: right;\n",
       "    }\n",
       "</style>\n",
       "<table border=\"1\" class=\"dataframe\">\n",
       "  <thead>\n",
       "    <tr style=\"text-align: right;\">\n",
       "      <th></th>\n",
       "      <th>codigo_act</th>\n",
       "      <th>geometry</th>\n",
       "    </tr>\n",
       "  </thead>\n",
       "  <tbody>\n",
       "    <tr>\n",
       "      <th>0</th>\n",
       "      <td>436112</td>\n",
       "      <td>POINT (-102.28996 21.90149)</td>\n",
       "    </tr>\n",
       "    <tr>\n",
       "      <th>1</th>\n",
       "      <td>436112</td>\n",
       "      <td>POINT (-102.28880 21.99203)</td>\n",
       "    </tr>\n",
       "  </tbody>\n",
       "</table>\n",
       "</div>"
      ],
      "text/plain": [
       "  codigo_act                     geometry\n",
       "0     436112  POINT (-102.28996 21.90149)\n",
       "1     436112  POINT (-102.28880 21.99203)"
      ]
     },
     "execution_count": 10,
     "metadata": {},
     "output_type": "execute_result"
    }
   ],
   "source": [
    "# Creates query to download DENUE from the metropolitan area or capital\n",
    "query = f\"SELECT * FROM denue.denue_2022 WHERE ST_Intersects(geometry, \\'SRID=4326;{poly_wkt}\\')\"\n",
    "denue = aup.gdf_from_query(query, geometry_col='geometry')\n",
    "\n",
    "denue = denue[['codigo_act', 'geometry']]\n",
    "\n",
    "#Show\n",
    "print(denue.shape)\n",
    "denue.head(2)"
   ]
  },
  {
   "cell_type": "code",
   "execution_count": 11,
   "id": "d26d3ab2-a8d8-44dc-b8a4-b9b2019a9005",
   "metadata": {
    "tags": []
   },
   "outputs": [
    {
     "name": "stdout",
     "output_type": "stream",
     "text": [
      "(20279, 2)\n"
     ]
    },
    {
     "data": {
      "text/html": [
       "<div>\n",
       "<style scoped>\n",
       "    .dataframe tbody tr th:only-of-type {\n",
       "        vertical-align: middle;\n",
       "    }\n",
       "\n",
       "    .dataframe tbody tr th {\n",
       "        vertical-align: top;\n",
       "    }\n",
       "\n",
       "    .dataframe thead th {\n",
       "        text-align: right;\n",
       "    }\n",
       "</style>\n",
       "<table border=\"1\" class=\"dataframe\">\n",
       "  <thead>\n",
       "    <tr style=\"text-align: right;\">\n",
       "      <th></th>\n",
       "      <th>code</th>\n",
       "      <th>geometry</th>\n",
       "    </tr>\n",
       "  </thead>\n",
       "  <tbody>\n",
       "    <tr>\n",
       "      <th>27063</th>\n",
       "      <td>611111</td>\n",
       "      <td>POINT (-102.32776 21.94211)</td>\n",
       "    </tr>\n",
       "    <tr>\n",
       "      <th>27082</th>\n",
       "      <td>611111</td>\n",
       "      <td>POINT (-102.26791 21.92303)</td>\n",
       "    </tr>\n",
       "  </tbody>\n",
       "</table>\n",
       "</div>"
      ],
      "text/plain": [
       "         code                     geometry\n",
       "27063  611111  POINT (-102.32776 21.94211)\n",
       "27082  611111  POINT (-102.26791 21.92303)"
      ]
     },
     "execution_count": 11,
     "metadata": {},
     "output_type": "execute_result"
    }
   ],
   "source": [
    "# Set denue amenities of interest\n",
    "denue_amenities = {'Preescolar':[611111, 611112], \n",
    "                   'Primaria':[611121, 611122],\n",
    "                   'Secundaria':[611131, 611132], \n",
    "                   'denue_guarderias':[624411, 624412],\n",
    "                   'denue_dif':[931610],\n",
    "                   'denue_supermercado':[462111],'denue_abarrotes':[461110], 'denue_carnicerias': [461121, 461122, 461123],\n",
    "                   'denue_peluqueria':[812110],\n",
    "                   'denue_farmacias':[464111, 464112],\n",
    "                   'denue_ferreteria_tlapaleria':[467111],'denue_art_limpieza':[467115],\n",
    "                   'denue_ropa':[463211, 463212, 463213, 463215, 463216, 463218],'denue_calzado':[463310], 'denue_muebles':[466111, 466112, 466113, 466114],'denue_lavanderia':[812210],'denue_revistas_periodicos':[465313],'denue_pintura':[467113],\n",
    "                   'denue_restaurante_insitu':[722511, 722512, 722513, 722514, 722519],'denue_restaurante_llevar':[722516, 722518, 722517],'denue_bares':[722412],'denue_cafe':[722515],\n",
    "                   'denue_parque_natural':[712190],\n",
    "                   'denue_cines':[512130],'denue_museos':[712111, 712112]}\n",
    "\n",
    "# Iterate over denue_amenities and filter denue gdf\n",
    "denue_pois = gpd.GeoDataFrame()\n",
    "\n",
    "for amenity in denue_amenities.values():\n",
    "    for code in range(len(amenity)):\n",
    "        denue_tmp = denue.loc[denue['codigo_act'] == f'{amenity[code]}']\n",
    "        denue_pois = pd.concat([denue_pois,denue_tmp])\n",
    "\n",
    "# Format\n",
    "denue_pois = denue_pois.rename(columns={'codigo_act':'code'})\n",
    "\n",
    "# Saves space in disk if instructed\n",
    "if save_space:\n",
    "    del denue\n",
    "    del denue_tmp\n",
    "        \n",
    "# Show\n",
    "print(denue_pois.shape)\n",
    "denue_pois.head(2)"
   ]
  },
  {
   "cell_type": "markdown",
   "id": "b4023c03-9d86-4030-8375-14082e594d95",
   "metadata": {},
   "source": [
    "### Required data - Points of interest - CLUES"
   ]
  },
  {
   "cell_type": "code",
   "execution_count": 12,
   "id": "d74ffed2-fcf6-41b2-84c2-ba910d7879e9",
   "metadata": {
    "tags": []
   },
   "outputs": [
    {
     "name": "stdout",
     "output_type": "stream",
     "text": [
      "(132, 2)\n"
     ]
    },
    {
     "name": "stderr",
     "output_type": "stream",
     "text": [
      "/usr/local/python/lib/python3.10/site-packages/geopandas/geodataframe.py:1443: SettingWithCopyWarning: \n",
      "A value is trying to be set on a copy of a slice from a DataFrame.\n",
      "Try using .loc[row_indexer,col_indexer] = value instead\n",
      "\n",
      "See the caveats in the documentation: https://pandas.pydata.org/pandas-docs/stable/user_guide/indexing.html#returning-a-view-versus-a-copy\n",
      "  super().__setitem__(key, value)\n"
     ]
    },
    {
     "data": {
      "text/html": [
       "<div>\n",
       "<style scoped>\n",
       "    .dataframe tbody tr th:only-of-type {\n",
       "        vertical-align: middle;\n",
       "    }\n",
       "\n",
       "    .dataframe tbody tr th {\n",
       "        vertical-align: top;\n",
       "    }\n",
       "\n",
       "    .dataframe thead th {\n",
       "        text-align: right;\n",
       "    }\n",
       "</style>\n",
       "<table border=\"1\" class=\"dataframe\">\n",
       "  <thead>\n",
       "    <tr style=\"text-align: right;\">\n",
       "      <th></th>\n",
       "      <th>code</th>\n",
       "      <th>geometry</th>\n",
       "    </tr>\n",
       "  </thead>\n",
       "  <tbody>\n",
       "    <tr>\n",
       "      <th>0</th>\n",
       "      <td>8610</td>\n",
       "      <td>POINT (-102.27370 21.72520)</td>\n",
       "    </tr>\n",
       "    <tr>\n",
       "      <th>1</th>\n",
       "      <td>8610</td>\n",
       "      <td>POINT (-102.37120 21.75750)</td>\n",
       "    </tr>\n",
       "  </tbody>\n",
       "</table>\n",
       "</div>"
      ],
      "text/plain": [
       "   code                     geometry\n",
       "0  8610  POINT (-102.27370 21.72520)\n",
       "1  8610  POINT (-102.37120 21.75750)"
      ]
     },
     "execution_count": 12,
     "metadata": {},
     "output_type": "execute_result"
    }
   ],
   "source": [
    "# Creates query to download DENUE from the metropolitan area or capital\n",
    "query = f\"SELECT * FROM denue.clues WHERE ST_Intersects(geometry, \\'SRID=4326;{poly_wkt}\\')\"\n",
    "clues = aup.gdf_from_query(query, geometry_col='geometry')\n",
    "\n",
    "# Set and filter CLUES amenities of interest\n",
    "clues_pois = clues.loc[clues['nivel_atencion'] == 'PRIMER NIVEL']\n",
    "\n",
    "#Format\n",
    "clues_pois.loc[:,'code'] = 8610\n",
    "clues_pois = clues_pois[['code','geometry']]\n",
    "\n",
    "# Saves space in disk if instructed\n",
    "if save_space:\n",
    "    del clues\n",
    "\n",
    "# Show\n",
    "print(clues_pois.shape)\n",
    "clues_pois.head(2)"
   ]
  },
  {
   "cell_type": "markdown",
   "id": "4a865305-829c-4097-a7c1-0449a4d75daa",
   "metadata": {},
   "source": [
    "### Required data - Points of interest - SIP"
   ]
  },
  {
   "cell_type": "code",
   "execution_count": 13,
   "id": "44a546fe-bebe-4ae4-a8a9-0d44b4a4e9af",
   "metadata": {
    "tags": []
   },
   "outputs": [
    {
     "name": "stdout",
     "output_type": "stream",
     "text": [
      "(182, 2)\n"
     ]
    },
    {
     "name": "stderr",
     "output_type": "stream",
     "text": [
      "/usr/local/python/lib/python3.10/site-packages/geopandas/geodataframe.py:1443: SettingWithCopyWarning: \n",
      "A value is trying to be set on a copy of a slice from a DataFrame.\n",
      "Try using .loc[row_indexer,col_indexer] = value instead\n",
      "\n",
      "See the caveats in the documentation: https://pandas.pydata.org/pandas-docs/stable/user_guide/indexing.html#returning-a-view-versus-a-copy\n",
      "  super().__setitem__(key, value)\n",
      "/usr/local/python/lib/python3.10/site-packages/geopandas/geodataframe.py:1443: SettingWithCopyWarning: \n",
      "A value is trying to be set on a copy of a slice from a DataFrame.\n",
      "Try using .loc[row_indexer,col_indexer] = value instead\n",
      "\n",
      "See the caveats in the documentation: https://pandas.pydata.org/pandas-docs/stable/user_guide/indexing.html#returning-a-view-versus-a-copy\n",
      "  super().__setitem__(key, value)\n",
      "/usr/local/python/lib/python3.10/site-packages/geopandas/geodataframe.py:1443: SettingWithCopyWarning: \n",
      "A value is trying to be set on a copy of a slice from a DataFrame.\n",
      "Try using .loc[row_indexer,col_indexer] = value instead\n",
      "\n",
      "See the caveats in the documentation: https://pandas.pydata.org/pandas-docs/stable/user_guide/indexing.html#returning-a-view-versus-a-copy\n",
      "  super().__setitem__(key, value)\n",
      "/usr/local/python/lib/python3.10/site-packages/geopandas/geodataframe.py:1443: SettingWithCopyWarning: \n",
      "A value is trying to be set on a copy of a slice from a DataFrame.\n",
      "Try using .loc[row_indexer,col_indexer] = value instead\n",
      "\n",
      "See the caveats in the documentation: https://pandas.pydata.org/pandas-docs/stable/user_guide/indexing.html#returning-a-view-versus-a-copy\n",
      "  super().__setitem__(key, value)\n",
      "/usr/local/python/lib/python3.10/site-packages/geopandas/geodataframe.py:1443: SettingWithCopyWarning: \n",
      "A value is trying to be set on a copy of a slice from a DataFrame.\n",
      "Try using .loc[row_indexer,col_indexer] = value instead\n",
      "\n",
      "See the caveats in the documentation: https://pandas.pydata.org/pandas-docs/stable/user_guide/indexing.html#returning-a-view-versus-a-copy\n",
      "  super().__setitem__(key, value)\n"
     ]
    },
    {
     "data": {
      "text/html": [
       "<div>\n",
       "<style scoped>\n",
       "    .dataframe tbody tr th:only-of-type {\n",
       "        vertical-align: middle;\n",
       "    }\n",
       "\n",
       "    .dataframe tbody tr th {\n",
       "        vertical-align: top;\n",
       "    }\n",
       "\n",
       "    .dataframe thead th {\n",
       "        text-align: right;\n",
       "    }\n",
       "</style>\n",
       "<table border=\"1\" class=\"dataframe\">\n",
       "  <thead>\n",
       "    <tr style=\"text-align: right;\">\n",
       "      <th></th>\n",
       "      <th>code</th>\n",
       "      <th>geometry</th>\n",
       "    </tr>\n",
       "  </thead>\n",
       "  <tbody>\n",
       "    <tr>\n",
       "      <th>314</th>\n",
       "      <td>4721</td>\n",
       "      <td>POINT (-102.26894 21.85950)</td>\n",
       "    </tr>\n",
       "    <tr>\n",
       "      <th>350</th>\n",
       "      <td>4721</td>\n",
       "      <td>POINT (-102.25365 21.89700)</td>\n",
       "    </tr>\n",
       "  </tbody>\n",
       "</table>\n",
       "</div>"
      ],
      "text/plain": [
       "     code                     geometry\n",
       "314  4721  POINT (-102.26894 21.85950)\n",
       "350  4721  POINT (-102.25365 21.89700)"
      ]
     },
     "execution_count": 13,
     "metadata": {},
     "output_type": "execute_result"
    }
   ],
   "source": [
    "# Creates query to download DENUE from the metropolitan area or capital\n",
    "query = f\"SELECT * FROM denue.sip_2020 WHERE ST_Intersects(geometry, \\'SRID=4326;{poly_wkt}\\')\"\n",
    "sip = aup.gdf_from_query(query, geometry_col='geometry')\n",
    "\n",
    "sip_amenities = {'GEOGRAFICO':['Mercado','Plaza'], \n",
    "                 'TIPO':['Cancha','Unidad Deportiva','Parque']}\n",
    "\n",
    "sip_amenities_codes = {'Mercado':4721,\n",
    "                       'Plaza':9321,\n",
    "                       'Cancha':9311,\n",
    "                       'Unidad Deportiva':9311,\n",
    "                       'Parque':9321}\n",
    "                 \n",
    "# Iterate over sip_amenities and filter sip gdf\n",
    "sip_pois = gpd.GeoDataFrame()\n",
    "\n",
    "for col in sip_amenities:\n",
    "    for amenity in sip_amenities[col]:\n",
    "        sip_tmp = sip.loc[sip[col] == amenity]\n",
    "        sip_tmp.loc[:,'code'] = sip_amenities_codes[amenity]\n",
    "        sip_pois = pd.concat([sip_pois,sip_tmp])\n",
    "\n",
    "#Format\n",
    "sip_pois = sip_pois[['code','geometry']]\n",
    "\n",
    "# Saves space in disk if instructed\n",
    "if save_space:\n",
    "    del sip\n",
    "\n",
    "# Show\n",
    "print(sip_pois.shape)\n",
    "sip_pois.head(2)"
   ]
  },
  {
   "cell_type": "code",
   "execution_count": 14,
   "id": "eb4fd754-a9da-448c-9e84-38a14f5edfa6",
   "metadata": {
    "tags": []
   },
   "outputs": [
    {
     "name": "stdout",
     "output_type": "stream",
     "text": [
      "(20593, 2)\n"
     ]
    },
    {
     "data": {
      "text/html": [
       "<div>\n",
       "<style scoped>\n",
       "    .dataframe tbody tr th:only-of-type {\n",
       "        vertical-align: middle;\n",
       "    }\n",
       "\n",
       "    .dataframe tbody tr th {\n",
       "        vertical-align: top;\n",
       "    }\n",
       "\n",
       "    .dataframe thead th {\n",
       "        text-align: right;\n",
       "    }\n",
       "</style>\n",
       "<table border=\"1\" class=\"dataframe\">\n",
       "  <thead>\n",
       "    <tr style=\"text-align: right;\">\n",
       "      <th></th>\n",
       "      <th>code</th>\n",
       "      <th>geometry</th>\n",
       "    </tr>\n",
       "  </thead>\n",
       "  <tbody>\n",
       "    <tr>\n",
       "      <th>27063</th>\n",
       "      <td>611111</td>\n",
       "      <td>POINT (-102.32776 21.94211)</td>\n",
       "    </tr>\n",
       "    <tr>\n",
       "      <th>27082</th>\n",
       "      <td>611111</td>\n",
       "      <td>POINT (-102.26791 21.92303)</td>\n",
       "    </tr>\n",
       "  </tbody>\n",
       "</table>\n",
       "</div>"
      ],
      "text/plain": [
       "         code                     geometry\n",
       "27063  611111  POINT (-102.32776 21.94211)\n",
       "27082  611111  POINT (-102.26791 21.92303)"
      ]
     },
     "execution_count": 14,
     "metadata": {},
     "output_type": "execute_result"
    }
   ],
   "source": [
    "pois = pd.concat([denue_pois,clues_pois,sip_pois])\n",
    "\n",
    "# Show\n",
    "print(pois.shape)\n",
    "pois.head(2)"
   ]
  },
  {
   "cell_type": "markdown",
   "id": "60ef2305-7c29-403a-865d-bf2efcda4ea7",
   "metadata": {},
   "source": [
    "## Step 2: define graph_from_hippo without loading from a database"
   ]
  },
  {
   "cell_type": "markdown",
   "id": "3421c939-0697-4df7-89a4-76889bea8a82",
   "metadata": {},
   "source": [
    "### Necessary definitions - graph_from_hippo"
   ]
  },
  {
   "cell_type": "code",
   "execution_count": 15,
   "id": "eeaf3031-1c45-4242-b348-e6f3541aeb8c",
   "metadata": {
    "tags": []
   },
   "outputs": [],
   "source": [
    "def graph_from_nodes_and_edges(gdf, nodes, edges):\n",
    "    # ------------------------------------------------------ CODE CHANGE NEEDED: INSTEAD OF QUERRING FROM DB FROM A POLY_WKT, OVERLAY IS USED.\n",
    "    # Query edges intersecting area of interest\n",
    "    edges_gdf = gpd.overlay(gdf,edges,keep_geom_type=False)\n",
    "\n",
    "    # Delete useless columns resulting from overlay\n",
    "    edges_columns = [\n",
    "        \"osmid\",\n",
    "        \"v\",\n",
    "        \"u\",\n",
    "        \"key\",\n",
    "        \"oneway\",\n",
    "        \"lanes\",\n",
    "        \"name\",\n",
    "        \"highway\",\n",
    "        \"maxspeed\",\n",
    "        \"length\",\n",
    "        \"geometry\",\n",
    "        \"bridge\",\n",
    "        \"ref\",\n",
    "        \"junction\",\n",
    "        \"tunnel\",\n",
    "        \"access\",\n",
    "        \"width\",\n",
    "        \"service\",\n",
    "    ]\n",
    "\n",
    "    edges_gdf = edges_gdf[edges_columns]\n",
    "\n",
    "    # Find nodes belonging to those querried edges\n",
    "    nodes_id = list(edges_gdf.v.unique())\n",
    "    u = list(edges_gdf.u.unique())\n",
    "    nodes_id.extend(u)\n",
    "    myset = set(nodes_id)\n",
    "    nodes_id = list(myset)\n",
    "\n",
    "    # ------------------------------------------------------ CODE CHANGE NEEDED: INSTEAD OF QUERRING FROM DB WHERE osmid IN {str(tuple(nodes_id))}, isin(nodes_id list) IS USED.\n",
    "    # Query those nodes\n",
    "    idx = nodes['osmid'].isin(nodes_id)\n",
    "    nodes_gdf = nodes.loc[idx]\n",
    "\n",
    "    # Drop duplicates\n",
    "    #                                       ----------------------------------- ERROR, CONSULTAR CON EDGAR: ---------- Usando este method sale \"TypeError: unhashable type: 'list'\".\n",
    "    edges_gdf.drop_duplicates(inplace=True) \n",
    "    #edges_gdf = edges_gdf.loc[edges_gdf.astype(str).drop_duplicates().index]\n",
    "    nodes_gdf.drop_duplicates(inplace=True)\n",
    "\n",
    "    # Format\n",
    "    nodes_gdf = nodes_gdf.set_index('osmid')\n",
    "    edges_gdf = edges_gdf.set_index([\"u\", \"v\", \"key\"])\n",
    "\n",
    "    nodes_gdf = nodes_gdf.set_crs(\"EPSG:4326\")\n",
    "    edges_gdf = edges_gdf.set_crs(\"EPSG:4326\")\n",
    "\n",
    "    #-----------------------------------------------------------------------------------------------------------------------------------------------------\n",
    "    print(\"Querried and formated nodes and edges within area of interest.\")\n",
    "    #-----------------------------------------------------------------------------------------------------------------------------------------------------\n",
    "\n",
    "    # Making sure all nodes belonging to edges_gdf are present in nodes_gdf\n",
    "    nodes_tmp = nodes_gdf.reset_index().copy()\n",
    "    edges_tmp = edges_gdf.reset_index().copy()\n",
    "\n",
    "    # Current nodes in nodes_gdf\n",
    "    nodes_dict = nodes_tmp.to_dict()\n",
    "\n",
    "    # U nodes\n",
    "    # U nodes that are in edges_tmp but not in nodes_tmp\n",
    "    from_osmid = list(set(edges_tmp['u'].to_list()).difference(set(nodes_tmp.osmid.to_list())))\n",
    "\n",
    "    # Iterating over each missing U node and adding its data to nodes_dict\n",
    "    for i in from_osmid:\n",
    "        row = edges_tmp.loc[(edges_tmp.u==i)].iloc[0]\n",
    "        coords = [(coords) for coords in list(row['geometry'].coords)]\n",
    "        first_coord, last_coord = [ coords[i] for i in (0, -1) ]\n",
    "\n",
    "        nodes_dict['osmid'][len(nodes_dict['osmid'])] = i\n",
    "        nodes_dict['x'][len(nodes_dict['x'])] = first_coord[0]\n",
    "        nodes_dict['y'][len(nodes_dict['y'])] = first_coord[1]\n",
    "        nodes_dict['street_count'][len(nodes_dict['street_count'])] = np.nan\n",
    "        nodes_dict['geometry'][len(nodes_dict['geometry'])] = Point(first_coord)\n",
    "\n",
    "    # V nodes\n",
    "    # V nodes that are in edges_tmp but not in nodes_dict                                                      #Duda para Edgar: ¿Por qué en U nodes revisamos nodes_tmp pero en V nodes revisamos nodes_dict?\n",
    "    to_osmid = list(set(edges_tmp['v'].to_list()).difference(set(list(nodes_dict['osmid'].values()))))\n",
    "\n",
    "    # Iterating over each missing V node and adding its data to nodes_dict\n",
    "    for i in to_osmid:\n",
    "        row = edges_tmp.loc[(edges_tmp.v==i)].iloc[0]\n",
    "        coords = [(coords) for coords in list(row['geometry'].coords)]\n",
    "        first_coord, last_coord = [ coords[i] for i in (0, -1) ]\n",
    "\n",
    "        nodes_dict['osmid'][len(nodes_dict['osmid'])] = i\n",
    "        nodes_dict['x'][len(nodes_dict['x'])] = last_coord[0]\n",
    "        nodes_dict['y'][len(nodes_dict['y'])] = last_coord[1]\n",
    "        nodes_dict['street_count'][len(nodes_dict['street_count'])] = np.nan\n",
    "        nodes_dict['geometry'][len(nodes_dict['geometry'])] = Point(last_coord)\n",
    "\n",
    "    # Rewriting nodes_gdf from updated nodes_dict\n",
    "    nodes_tmp = pd.DataFrame.from_dict(nodes_dict)\n",
    "    nodes_tmp = gpd.GeoDataFrame(nodes_tmp, crs=\"EPSG:4326\", geometry='geometry')\n",
    "    nodes_gdf = nodes_tmp.copy()\n",
    "    nodes_gdf.set_index('osmid',inplace=True)    \n",
    "\n",
    "    #-----------------------------------------------------------------------------------------------------------------------------------------------------\n",
    "    print(\"Missing nodes from edges added to nodes gdf.\")\n",
    "    #-----------------------------------------------------------------------------------------------------------------------------------------------------\n",
    "\n",
    "    G = ox.graph_from_gdfs(nodes_gdf, edges_gdf)\n",
    "\n",
    "    #-----------------------------------------------------------------------------------------------------------------------------------------------------\n",
    "    print(\"Created graph.\")\n",
    "    #-----------------------------------------------------------------------------------------------------------------------------------------------------\n",
    "    \n",
    "    return G, nodes_gdf, edges_gdf"
   ]
  },
  {
   "cell_type": "code",
   "execution_count": 16,
   "id": "fbacba81-980a-4e6c-ba34-b44a1aaef3cd",
   "metadata": {
    "tags": []
   },
   "outputs": [],
   "source": [
    "def pois_nodes_distance(aoi, nodes, edges, pois):\n",
    "    G, nodes_gdf, edges_gdf = graph_from_nodes_and_edges(aoi, nodes, edges)\n",
    "\n",
    "    #-----------------------------------------------------------------------------------------------------------------------------------------------------\n",
    "    print(\"Created network.\")\n",
    "    #-----------------------------------------------------------------------------------------------------------------------------------------------------\n",
    "\n",
    "    pois = pois.set_crs(\"EPSG:4326\")\n",
    "    nodes = nodes.set_crs(\"EPSG:4326\")\n",
    "    edges = edges.set_crs(\"EPSG:4326\")\n",
    "\n",
    "    nearest = aup.find_nearest(G, nodes, pois, return_distance= True)\n",
    "    \n",
    "    #-----------------------------------------------------------------------------------------------------------------------------------------------------\n",
    "    print(\"Calculated distances from pois to nearest node.\")\n",
    "    #-----------------------------------------------------------------------------------------------------------------------------------------------------\n",
    "    \n",
    "    return nearest"
   ]
  },
  {
   "cell_type": "code",
   "execution_count": 17,
   "id": "81b92727-01a1-4e73-8371-65382cb5fc3a",
   "metadata": {
    "tags": []
   },
   "outputs": [
    {
     "name": "stderr",
     "output_type": "stream",
     "text": [
      "/tmp/ipykernel_19910/3734518090.py:46: SettingWithCopyWarning: \n",
      "A value is trying to be set on a copy of a slice from a DataFrame\n",
      "\n",
      "See the caveats in the documentation: https://pandas.pydata.org/pandas-docs/stable/user_guide/indexing.html#returning-a-view-versus-a-copy\n",
      "  nodes_gdf.drop_duplicates(inplace=True)\n"
     ]
    },
    {
     "name": "stdout",
     "output_type": "stream",
     "text": [
      "Querried and formated nodes and edges within area of interest.\n",
      "Missing nodes from edges added to nodes gdf.\n",
      "Created graph.\n",
      "Created network.\n",
      "Calculated distances from pois to nearest node.\n"
     ]
    }
   ],
   "source": [
    "nearest = pois_nodes_distance(aoi, nodes, edges, pois)"
   ]
  },
  {
   "cell_type": "code",
   "execution_count": 18,
   "id": "553512be-f2d0-477a-9010-7498d45739b9",
   "metadata": {
    "tags": []
   },
   "outputs": [
    {
     "name": "stdout",
     "output_type": "stream",
     "text": [
      "(20593, 4)\n"
     ]
    },
    {
     "data": {
      "text/html": [
       "<div>\n",
       "<style scoped>\n",
       "    .dataframe tbody tr th:only-of-type {\n",
       "        vertical-align: middle;\n",
       "    }\n",
       "\n",
       "    .dataframe tbody tr th {\n",
       "        vertical-align: top;\n",
       "    }\n",
       "\n",
       "    .dataframe thead th {\n",
       "        text-align: right;\n",
       "    }\n",
       "</style>\n",
       "<table border=\"1\" class=\"dataframe\">\n",
       "  <thead>\n",
       "    <tr style=\"text-align: right;\">\n",
       "      <th></th>\n",
       "      <th>code</th>\n",
       "      <th>geometry</th>\n",
       "      <th>osmid</th>\n",
       "      <th>distance_node</th>\n",
       "    </tr>\n",
       "  </thead>\n",
       "  <tbody>\n",
       "    <tr>\n",
       "      <th>27063</th>\n",
       "      <td>611111</td>\n",
       "      <td>POINT (-102.32776 21.94211)</td>\n",
       "      <td>5897</td>\n",
       "      <td>8.434524</td>\n",
       "    </tr>\n",
       "    <tr>\n",
       "      <th>27082</th>\n",
       "      <td>611111</td>\n",
       "      <td>POINT (-102.26791 21.92303)</td>\n",
       "      <td>28485</td>\n",
       "      <td>19.788102</td>\n",
       "    </tr>\n",
       "  </tbody>\n",
       "</table>\n",
       "</div>"
      ],
      "text/plain": [
       "         code                     geometry  osmid  distance_node\n",
       "27063  611111  POINT (-102.32776 21.94211)   5897       8.434524\n",
       "27082  611111  POINT (-102.26791 21.92303)  28485      19.788102"
      ]
     },
     "execution_count": 18,
     "metadata": {},
     "output_type": "execute_result"
    }
   ],
   "source": [
    "#Show\n",
    "print(nearest.shape)\n",
    "nearest.head(2)"
   ]
  },
  {
   "cell_type": "code",
   "execution_count": 19,
   "id": "c69f9b1c-9ffe-428b-b221-2377d4b4aa3b",
   "metadata": {
    "tags": []
   },
   "outputs": [],
   "source": [
    "if save:\n",
    "    nearest.to_file('../../data/external/temporal_fromjupyter/pois_distance_node.gpkg', driver='GPKG')"
   ]
  },
  {
   "cell_type": "code",
   "execution_count": null,
   "id": "ad0a7f84-9aa5-4006-ad04-d783a873bc58",
   "metadata": {},
   "outputs": [],
   "source": []
  }
 ],
 "metadata": {
  "kernelspec": {
   "display_name": "Python 3 (ipykernel)",
   "language": "python",
   "name": "python3"
  },
  "language_info": {
   "codemirror_mode": {
    "name": "ipython",
    "version": 3
   },
   "file_extension": ".py",
   "mimetype": "text/x-python",
   "name": "python",
   "nbconvert_exporter": "python",
   "pygments_lexer": "ipython3",
   "version": "3.10.5"
  }
 },
 "nbformat": 4,
 "nbformat_minor": 5
}
