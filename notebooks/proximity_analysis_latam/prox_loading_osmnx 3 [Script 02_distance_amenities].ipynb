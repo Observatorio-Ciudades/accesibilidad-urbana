{
 "cells": [
  {
   "cell_type": "markdown",
   "id": "187cd46a-5e58-4292-a4f9-34f9f19d9e7e",
   "metadata": {},
   "source": [
    "## Import libraries"
   ]
  },
  {
   "cell_type": "code",
   "execution_count": 1,
   "id": "779e2272-7f0c-432b-bdd0-a68b7feeb000",
   "metadata": {
    "tags": []
   },
   "outputs": [
    {
     "name": "stderr",
     "output_type": "stream",
     "text": [
      "/usr/local/python/lib/python3.10/site-packages/osmnx/utils.py:192: UserWarning: The `utils.config` function is deprecated and will be removed in a future release. Instead, use the `settings` module directly to configure a global setting's value. For example, `ox.settings.log_console=True`.\n",
      "  warnings.warn(\n"
     ]
    }
   ],
   "source": [
    "import os\n",
    "import sys\n",
    "\n",
    "import pandas as pd\n",
    "import geopandas as gpd\n",
    "import osmnx as ox\n",
    "import numpy as np\n",
    "\n",
    "import matplotlib.pyplot as plt\n",
    "import seaborn as sns\n",
    "from shapely.geometry import Polygon, MultiLineString, Point, LineString\n",
    "\n",
    "import warnings\n",
    "warnings.simplefilter(action='ignore', category=FutureWarning)\n",
    "\n",
    "module_path = os.path.abspath(os.path.join('../../'))\n",
    "if module_path not in sys.path:\n",
    "    sys.path.append(module_path)\n",
    "    import aup"
   ]
  },
  {
   "cell_type": "code",
   "execution_count": 2,
   "id": "04dadf3a-a470-4618-bb7c-b1893e5f24d7",
   "metadata": {
    "tags": []
   },
   "outputs": [],
   "source": [
    "save = True\n",
    "save_space = True"
   ]
  },
  {
   "cell_type": "markdown",
   "id": "963c0f12-c90c-410c-8b63-c5a152e8a065",
   "metadata": {},
   "source": [
    "## Required data"
   ]
  },
  {
   "cell_type": "markdown",
   "id": "3e5f51da-3d20-46a0-8235-a232aa74adb1",
   "metadata": {},
   "source": [
    "### Required data - Area of Interest"
   ]
  },
  {
   "cell_type": "code",
   "execution_count": 3,
   "id": "5bc095a6-a06f-4852-9633-a84d81a036aa",
   "metadata": {
    "tags": []
   },
   "outputs": [
    {
     "name": "stdout",
     "output_type": "stream",
     "text": [
      "['Aguascalientes' 'Jesús María' 'San Francisco de los Romo']\n"
     ]
    },
    {
     "data": {
      "text/plain": [
       "<Axes: >"
      ]
     },
     "execution_count": 3,
     "metadata": {},
     "output_type": "execute_result"
    },
    {
     "data": {
      "image/png": "[encoded data removed]",
      "text/plain": [
       "<Figure size 640x480 with 1 Axes>"
      ]
     },
     "metadata": {},
     "output_type": "display_data"
    }
   ],
   "source": [
    "city = 'Aguascalientes'\n",
    "\n",
    "# Source Data\n",
    "schema = 'metropolis'\n",
    "folder = 'metro_gdf'\n",
    "\n",
    "# Downloads hexagons within 'city'\n",
    "query = f\"SELECT * FROM {schema}.{folder} WHERE \\\"city\\\" LIKE \\'{city}\\'\"\n",
    "mun_gdf = aup.gdf_from_query(query, geometry_col='geometry')\n",
    "\n",
    "print(mun_gdf.NOMGEO.unique())\n",
    "\n",
    "mun_gdf = mun_gdf.set_crs(\"EPSG:4326\")\n",
    "aoi = mun_gdf.dissolve()\n",
    "aoi = aoi[['city','geometry']]\n",
    "\n",
    "# Saves space in disk if instructed\n",
    "if save_space:\n",
    "    del mun_gdf\n",
    "\n",
    "#Show\n",
    "aoi.plot()"
   ]
  },
  {
   "cell_type": "markdown",
   "id": "5015bdf4-5dbc-4e15-bc76-f9eb6fbc46b1",
   "metadata": {},
   "source": [
    "### Required data - nodes and edges from notebook prox_loading_osmnx 1 [Script 07-download_osmnx]"
   ]
  },
  {
   "cell_type": "code",
   "execution_count": 4,
   "id": "2cb612fd-6e72-4842-96ca-108819bf049c",
   "metadata": {
    "tags": []
   },
   "outputs": [
    {
     "name": "stdout",
     "output_type": "stream",
     "text": [
      "(57478, 5)\n",
      "osmid              int64\n",
      "x                float64\n",
      "y                float64\n",
      "street_count       int64\n",
      "geometry        geometry\n",
      "dtype: object\n"
     ]
    },
    {
     "data": {
      "text/html": [
       "<div>\n",
       "<style scoped>\n",
       "    .dataframe tbody tr th:only-of-type {\n",
       "        vertical-align: middle;\n",
       "    }\n",
       "\n",
       "    .dataframe tbody tr th {\n",
       "        vertical-align: top;\n",
       "    }\n",
       "\n",
       "    .dataframe thead th {\n",
       "        text-align: right;\n",
       "    }\n",
       "</style>\n",
       "<table border=\"1\" class=\"dataframe\">\n",
       "  <thead>\n",
       "    <tr style=\"text-align: right;\">\n",
       "      <th></th>\n",
       "      <th>osmid</th>\n",
       "      <th>x</th>\n",
       "      <th>y</th>\n",
       "      <th>street_count</th>\n",
       "      <th>geometry</th>\n",
       "    </tr>\n",
       "  </thead>\n",
       "  <tbody>\n",
       "    <tr>\n",
       "      <th>0</th>\n",
       "      <td>301189389</td>\n",
       "      <td>-102.342212</td>\n",
       "      <td>21.848544</td>\n",
       "      <td>4</td>\n",
       "      <td>POINT (-102.34221 21.84854)</td>\n",
       "    </tr>\n",
       "    <tr>\n",
       "      <th>1</th>\n",
       "      <td>301189406</td>\n",
       "      <td>-102.350222</td>\n",
       "      <td>21.850815</td>\n",
       "      <td>3</td>\n",
       "      <td>POINT (-102.35022 21.85082)</td>\n",
       "    </tr>\n",
       "  </tbody>\n",
       "</table>\n",
       "</div>"
      ],
      "text/plain": [
       "       osmid           x          y  street_count                     geometry\n",
       "0  301189389 -102.342212  21.848544             4  POINT (-102.34221 21.84854)\n",
       "1  301189406 -102.350222  21.850815             3  POINT (-102.35022 21.85082)"
      ]
     },
     "execution_count": 4,
     "metadata": {},
     "output_type": "execute_result"
    }
   ],
   "source": [
    "nodes = gpd.read_file(\"../../data/external/temporal_fromjupyter/nodes.gpkg\")\n",
    "\n",
    "# Check if there is any list in any column (Shouldn't be)\n",
    "for col in nodes.columns:\n",
    "    if any(isinstance(val, list) for val in nodes[col]):\n",
    "        #nodes[col] = nodes[col].astype('string')\n",
    "        #---------------------------------------------------------------------------------------------------------------------------------------------\n",
    "        print(f\"Column: {col} in nodes gdf, has a list in it.\")\n",
    "        #---------------------------------------------------------------------------------------------------------------------------------------------\n",
    "        \n",
    "#Show\n",
    "print(nodes.shape)\n",
    "print(nodes.dtypes)\n",
    "nodes.head(2)"
   ]
  },
  {
   "cell_type": "code",
   "execution_count": 5,
   "id": "e0b10a51-60c1-49b5-878a-c6d870b73de7",
   "metadata": {
    "tags": []
   },
   "outputs": [
    {
     "name": "stdout",
     "output_type": "stream",
     "text": [
      "(135456, 18)\n",
      "osmid         object\n",
      "v              int64\n",
      "u              int64\n",
      "key            int64\n",
      "oneway          bool\n",
      "lanes         object\n",
      "name          object\n",
      "highway       object\n",
      "maxspeed      object\n",
      "length       float64\n",
      "bridge        object\n",
      "ref           object\n",
      "junction      object\n",
      "tunnel        object\n",
      "access        object\n",
      "width         object\n",
      "service       object\n",
      "geometry    geometry\n",
      "dtype: object\n"
     ]
    },
    {
     "data": {
      "text/html": [
       "<div>\n",
       "<style scoped>\n",
       "    .dataframe tbody tr th:only-of-type {\n",
       "        vertical-align: middle;\n",
       "    }\n",
       "\n",
       "    .dataframe tbody tr th {\n",
       "        vertical-align: top;\n",
       "    }\n",
       "\n",
       "    .dataframe thead th {\n",
       "        text-align: right;\n",
       "    }\n",
       "</style>\n",
       "<table border=\"1\" class=\"dataframe\">\n",
       "  <thead>\n",
       "    <tr style=\"text-align: right;\">\n",
       "      <th></th>\n",
       "      <th>osmid</th>\n",
       "      <th>v</th>\n",
       "      <th>u</th>\n",
       "      <th>key</th>\n",
       "      <th>oneway</th>\n",
       "      <th>lanes</th>\n",
       "      <th>name</th>\n",
       "      <th>highway</th>\n",
       "      <th>maxspeed</th>\n",
       "      <th>length</th>\n",
       "      <th>bridge</th>\n",
       "      <th>ref</th>\n",
       "      <th>junction</th>\n",
       "      <th>tunnel</th>\n",
       "      <th>access</th>\n",
       "      <th>width</th>\n",
       "      <th>service</th>\n",
       "      <th>geometry</th>\n",
       "    </tr>\n",
       "  </thead>\n",
       "  <tbody>\n",
       "    <tr>\n",
       "      <th>0</th>\n",
       "      <td>713153965</td>\n",
       "      <td>1408187972</td>\n",
       "      <td>301189389</td>\n",
       "      <td>0</td>\n",
       "      <td>False</td>\n",
       "      <td>NaN</td>\n",
       "      <td>Prolongación Constitución</td>\n",
       "      <td>residential</td>\n",
       "      <td>NaN</td>\n",
       "      <td>13.812</td>\n",
       "      <td>NaN</td>\n",
       "      <td>NaN</td>\n",
       "      <td>NaN</td>\n",
       "      <td>NaN</td>\n",
       "      <td>NaN</td>\n",
       "      <td>NaN</td>\n",
       "      <td>NaN</td>\n",
       "      <td>LINESTRING (-102.34221 21.84854, -102.34219 21...</td>\n",
       "    </tr>\n",
       "    <tr>\n",
       "      <th>1</th>\n",
       "      <td>715583649</td>\n",
       "      <td>9370947312</td>\n",
       "      <td>301189389</td>\n",
       "      <td>0</td>\n",
       "      <td>True</td>\n",
       "      <td>2</td>\n",
       "      <td>Avenida Siglo XXI</td>\n",
       "      <td>trunk</td>\n",
       "      <td>NaN</td>\n",
       "      <td>412.235</td>\n",
       "      <td>NaN</td>\n",
       "      <td>NaN</td>\n",
       "      <td>NaN</td>\n",
       "      <td>NaN</td>\n",
       "      <td>NaN</td>\n",
       "      <td>NaN</td>\n",
       "      <td>NaN</td>\n",
       "      <td>LINESTRING (-102.34221 21.84854, -102.34600 21...</td>\n",
       "    </tr>\n",
       "  </tbody>\n",
       "</table>\n",
       "</div>"
      ],
      "text/plain": [
       "       osmid           v          u  key  oneway lanes  \\\n",
       "0  713153965  1408187972  301189389    0   False   NaN   \n",
       "1  715583649  9370947312  301189389    0    True     2   \n",
       "\n",
       "                        name      highway maxspeed   length bridge  ref  \\\n",
       "0  Prolongación Constitución  residential      NaN   13.812    NaN  NaN   \n",
       "1          Avenida Siglo XXI        trunk      NaN  412.235    NaN  NaN   \n",
       "\n",
       "  junction tunnel access width service  \\\n",
       "0      NaN    NaN    NaN   NaN     NaN   \n",
       "1      NaN    NaN    NaN   NaN     NaN   \n",
       "\n",
       "                                            geometry  \n",
       "0  LINESTRING (-102.34221 21.84854, -102.34219 21...  \n",
       "1  LINESTRING (-102.34221 21.84854, -102.34600 21...  "
      ]
     },
     "execution_count": 5,
     "metadata": {},
     "output_type": "execute_result"
    }
   ],
   "source": [
    "edges = gpd.read_file(\"../../data/external/temporal_fromjupyter/edges.gpkg\")\n",
    "\n",
    "# Check if there is any list in any column (Shouldn't be)\n",
    "for col in edges.columns:\n",
    "    if any(isinstance(val, list) for val in edges[col]):\n",
    "        #edges[col] = edges[col].astype('string')\n",
    "        #---------------------------------------------------------------------------------------------------------------------------------------------\n",
    "        print(f\"Column: {col} in nodes gdf, has a list in it.\")\n",
    "        #---------------------------------------------------------------------------------------------------------------------------------------------\n",
    "        \n",
    "#Show\n",
    "print(edges.shape)\n",
    "print(edges.dtypes)\n",
    "edges.head(2)"
   ]
  },
  {
   "cell_type": "markdown",
   "id": "92dd827c-94f2-404f-b9cb-f53dd9aa6e23",
   "metadata": {},
   "source": [
    "### Required data - Points of interest"
   ]
  },
  {
   "cell_type": "code",
   "execution_count": 6,
   "id": "2838e264-a780-491b-aedc-e245d0316eb2",
   "metadata": {
    "tags": []
   },
   "outputs": [
    {
     "name": "stdout",
     "output_type": "stream",
     "text": [
      "(20593, 4)\n",
      "code               object\n",
      "osmid               int64\n",
      "distance_node     float64\n",
      "geometry         geometry\n",
      "dtype: object\n"
     ]
    },
    {
     "data": {
      "text/html": [
       "<div>\n",
       "<style scoped>\n",
       "    .dataframe tbody tr th:only-of-type {\n",
       "        vertical-align: middle;\n",
       "    }\n",
       "\n",
       "    .dataframe tbody tr th {\n",
       "        vertical-align: top;\n",
       "    }\n",
       "\n",
       "    .dataframe thead th {\n",
       "        text-align: right;\n",
       "    }\n",
       "</style>\n",
       "<table border=\"1\" class=\"dataframe\">\n",
       "  <thead>\n",
       "    <tr style=\"text-align: right;\">\n",
       "      <th></th>\n",
       "      <th>code</th>\n",
       "      <th>osmid</th>\n",
       "      <th>distance_node</th>\n",
       "      <th>geometry</th>\n",
       "    </tr>\n",
       "  </thead>\n",
       "  <tbody>\n",
       "    <tr>\n",
       "      <th>0</th>\n",
       "      <td>611111</td>\n",
       "      <td>1453747584</td>\n",
       "      <td>8.434524</td>\n",
       "      <td>POINT (-102.32776 21.94211)</td>\n",
       "    </tr>\n",
       "    <tr>\n",
       "      <th>1</th>\n",
       "      <td>611111</td>\n",
       "      <td>3324147003</td>\n",
       "      <td>19.788102</td>\n",
       "      <td>POINT (-102.26791 21.92303)</td>\n",
       "    </tr>\n",
       "  </tbody>\n",
       "</table>\n",
       "</div>"
      ],
      "text/plain": [
       "     code       osmid  distance_node                     geometry\n",
       "0  611111  1453747584       8.434524  POINT (-102.32776 21.94211)\n",
       "1  611111  3324147003      19.788102  POINT (-102.26791 21.92303)"
      ]
     },
     "execution_count": 6,
     "metadata": {},
     "output_type": "execute_result"
    }
   ],
   "source": [
    "# Get pois with distance to nearest node calculated\n",
    "pois_distance_node = gpd.read_file(\"../../data/external/temporal_fromjupyter/pois_distance_node.gpkg\")\n",
    "\n",
    "#Show\n",
    "print(pois_distance_node.shape)\n",
    "print(pois_distance_node.dtypes)\n",
    "pois_distance_node.head(2)"
   ]
  },
  {
   "cell_type": "markdown",
   "id": "60ef2305-7c29-403a-865d-bf2efcda4ea7",
   "metadata": {},
   "source": [
    "## Step 2: Function definitions"
   ]
  },
  {
   "cell_type": "markdown",
   "id": "3421c939-0697-4df7-89a4-76889bea8a82",
   "metadata": {},
   "source": [
    "### Function definitions - graph_from_hippo"
   ]
  },
  {
   "cell_type": "code",
   "execution_count": 8,
   "id": "eeaf3031-1c45-4242-b348-e6f3541aeb8c",
   "metadata": {
    "tags": []
   },
   "outputs": [],
   "source": [
    "def graph_from_nodes_and_edges(gdf, nodes, edges):\n",
    "    # ------------------------------------------------------ CODE CHANGE NEEDED: INSTEAD OF QUERRING FROM DB FROM A POLY_WKT, OVERLAY IS USED.\n",
    "    # Query edges intersecting area of interest\n",
    "    edges_gdf = gpd.overlay(gdf,edges,keep_geom_type=False)\n",
    "\n",
    "    # Delete useless columns resulting from overlay\n",
    "    edges_columns = [\n",
    "        \"osmid\",\n",
    "        \"v\",\n",
    "        \"u\",\n",
    "        \"key\",\n",
    "        \"oneway\",\n",
    "        \"lanes\",\n",
    "        \"name\",\n",
    "        \"highway\",\n",
    "        \"maxspeed\",\n",
    "        \"length\",\n",
    "        \"geometry\",\n",
    "        \"bridge\",\n",
    "        \"ref\",\n",
    "        \"junction\",\n",
    "        \"tunnel\",\n",
    "        \"access\",\n",
    "        \"width\",\n",
    "        \"service\",\n",
    "    ]\n",
    "\n",
    "    edges_gdf = edges_gdf[edges_columns]\n",
    "\n",
    "    # Find nodes belonging to those querried edges\n",
    "    nodes_id = list(edges_gdf.v.unique())\n",
    "    u = list(edges_gdf.u.unique())\n",
    "    nodes_id.extend(u)\n",
    "    myset = set(nodes_id)\n",
    "    nodes_id = list(myset)\n",
    "\n",
    "    # ------------------------------------------------------ CODE CHANGE NEEDED: INSTEAD OF QUERRING FROM DB WHERE osmid IN {str(tuple(nodes_id))}, isin(nodes_id list) IS USED.\n",
    "    # Query those nodes\n",
    "    idx = nodes['osmid'].isin(nodes_id)\n",
    "    nodes_gdf = nodes.loc[idx]\n",
    "\n",
    "    # Drop duplicates\n",
    "    edges_gdf.drop_duplicates(inplace=True) \n",
    "    nodes_gdf.drop_duplicates(inplace=True)\n",
    "\n",
    "    # Format\n",
    "    nodes_gdf = nodes_gdf.set_index('osmid')\n",
    "    edges_gdf = edges_gdf.set_index([\"u\", \"v\", \"key\"])\n",
    "\n",
    "    nodes_gdf = nodes_gdf.set_crs(\"EPSG:4326\")\n",
    "    edges_gdf = edges_gdf.set_crs(\"EPSG:4326\")\n",
    "\n",
    "    #-----------------------------------------------------------------------------------------------------------------------------------------------------\n",
    "    print(\"Querried and formated nodes and edges within area of interest.\")\n",
    "    #-----------------------------------------------------------------------------------------------------------------------------------------------------\n",
    "\n",
    "    # Making sure all nodes belonging to edges_gdf are present in nodes_gdf\n",
    "    nodes_tmp = nodes_gdf.reset_index().copy()\n",
    "    edges_tmp = edges_gdf.reset_index().copy()\n",
    "\n",
    "    # Current nodes in nodes_gdf\n",
    "    nodes_dict = nodes_tmp.to_dict()\n",
    "\n",
    "    # U nodes\n",
    "    # U nodes that are in edges_tmp but not in nodes_tmp\n",
    "    from_osmid = list(set(edges_tmp['u'].to_list()).difference(set(nodes_tmp.osmid.to_list())))\n",
    "\n",
    "    # Iterating over each missing U node and adding its data to nodes_dict\n",
    "    for i in from_osmid:\n",
    "        row = edges_tmp.loc[(edges_tmp.u==i)].iloc[0]\n",
    "        coords = [(coords) for coords in list(row['geometry'].coords)]\n",
    "        first_coord, last_coord = [ coords[i] for i in (0, -1) ]\n",
    "\n",
    "        nodes_dict['osmid'][len(nodes_dict['osmid'])] = i\n",
    "        nodes_dict['x'][len(nodes_dict['x'])] = first_coord[0]\n",
    "        nodes_dict['y'][len(nodes_dict['y'])] = first_coord[1]\n",
    "        nodes_dict['street_count'][len(nodes_dict['street_count'])] = np.nan\n",
    "        nodes_dict['geometry'][len(nodes_dict['geometry'])] = Point(first_coord)\n",
    "\n",
    "    # V nodes\n",
    "    # V nodes that are in edges_tmp but not in nodes_dict                                                      #Duda para Edgar: ¿Por qué en U nodes revisamos nodes_tmp pero en V nodes revisamos nodes_dict?\n",
    "    to_osmid = list(set(edges_tmp['v'].to_list()).difference(set(list(nodes_dict['osmid'].values()))))\n",
    "\n",
    "    # Iterating over each missing V node and adding its data to nodes_dict\n",
    "    for i in to_osmid:\n",
    "        row = edges_tmp.loc[(edges_tmp.v==i)].iloc[0]\n",
    "        coords = [(coords) for coords in list(row['geometry'].coords)]\n",
    "        first_coord, last_coord = [ coords[i] for i in (0, -1) ]\n",
    "\n",
    "        nodes_dict['osmid'][len(nodes_dict['osmid'])] = i\n",
    "        nodes_dict['x'][len(nodes_dict['x'])] = last_coord[0]\n",
    "        nodes_dict['y'][len(nodes_dict['y'])] = last_coord[1]\n",
    "        nodes_dict['street_count'][len(nodes_dict['street_count'])] = np.nan\n",
    "        nodes_dict['geometry'][len(nodes_dict['geometry'])] = Point(last_coord)\n",
    "\n",
    "    # Rewriting nodes_gdf from updated nodes_dict\n",
    "    nodes_tmp = pd.DataFrame.from_dict(nodes_dict)\n",
    "    nodes_tmp = gpd.GeoDataFrame(nodes_tmp, crs=\"EPSG:4326\", geometry='geometry')\n",
    "    nodes_gdf = nodes_tmp.copy()\n",
    "    nodes_gdf.set_index('osmid',inplace=True)    \n",
    "\n",
    "    #-----------------------------------------------------------------------------------------------------------------------------------------------------\n",
    "    print(\"Missing nodes from edges added to nodes gdf.\")\n",
    "    #-----------------------------------------------------------------------------------------------------------------------------------------------------\n",
    "\n",
    "    G = ox.graph_from_gdfs(nodes_gdf, edges_gdf)\n",
    "\n",
    "    #-----------------------------------------------------------------------------------------------------------------------------------------------------\n",
    "    print(\"Created graph.\")\n",
    "    #-----------------------------------------------------------------------------------------------------------------------------------------------------\n",
    "    \n",
    "    return G, nodes_gdf, edges_gdf"
   ]
  },
  {
   "cell_type": "code",
   "execution_count": 9,
   "id": "ad6afffe-405a-4187-a69c-929c37c6e427",
   "metadata": {
    "tags": []
   },
   "outputs": [
    {
     "name": "stderr",
     "output_type": "stream",
     "text": [
      "/tmp/ipykernel_13782/2659713794.py:44: SettingWithCopyWarning: \n",
      "A value is trying to be set on a copy of a slice from a DataFrame\n",
      "\n",
      "See the caveats in the documentation: https://pandas.pydata.org/pandas-docs/stable/user_guide/indexing.html#returning-a-view-versus-a-copy\n",
      "  nodes_gdf.drop_duplicates(inplace=True)\n"
     ]
    },
    {
     "name": "stdout",
     "output_type": "stream",
     "text": [
      "Querried and formated nodes and edges within area of interest.\n",
      "Missing nodes from edges added to nodes gdf.\n",
      "Created graph.\n"
     ]
    }
   ],
   "source": [
    "# Get graph, nodes and edges\n",
    "G, nodes_gdf, edges_gdf = graph_from_nodes_and_edges(aoi, nodes, edges)\n",
    "# Format\n",
    "edges_gdf['length'].fillna(edges_gdf['length'].mean(),inplace=True)"
   ]
  },
  {
   "cell_type": "code",
   "execution_count": 10,
   "id": "fedf3687-c5c7-4fe7-bc09-3bf1b1403172",
   "metadata": {
    "tags": []
   },
   "outputs": [
    {
     "name": "stdout",
     "output_type": "stream",
     "text": [
      "(52081, 4)\n",
      "x                float64\n",
      "y                float64\n",
      "street_count       int64\n",
      "geometry        geometry\n",
      "dtype: object\n"
     ]
    },
    {
     "data": {
      "text/html": [
       "<div>\n",
       "<style scoped>\n",
       "    .dataframe tbody tr th:only-of-type {\n",
       "        vertical-align: middle;\n",
       "    }\n",
       "\n",
       "    .dataframe tbody tr th {\n",
       "        vertical-align: top;\n",
       "    }\n",
       "\n",
       "    .dataframe thead th {\n",
       "        text-align: right;\n",
       "    }\n",
       "</style>\n",
       "<table border=\"1\" class=\"dataframe\">\n",
       "  <thead>\n",
       "    <tr style=\"text-align: right;\">\n",
       "      <th></th>\n",
       "      <th>x</th>\n",
       "      <th>y</th>\n",
       "      <th>street_count</th>\n",
       "      <th>geometry</th>\n",
       "    </tr>\n",
       "    <tr>\n",
       "      <th>osmid</th>\n",
       "      <th></th>\n",
       "      <th></th>\n",
       "      <th></th>\n",
       "      <th></th>\n",
       "    </tr>\n",
       "  </thead>\n",
       "  <tbody>\n",
       "    <tr>\n",
       "      <th>301189389</th>\n",
       "      <td>-102.342212</td>\n",
       "      <td>21.848544</td>\n",
       "      <td>4</td>\n",
       "      <td>POINT (-102.34221 21.84854)</td>\n",
       "    </tr>\n",
       "    <tr>\n",
       "      <th>301189406</th>\n",
       "      <td>-102.350222</td>\n",
       "      <td>21.850815</td>\n",
       "      <td>3</td>\n",
       "      <td>POINT (-102.35022 21.85082)</td>\n",
       "    </tr>\n",
       "  </tbody>\n",
       "</table>\n",
       "</div>"
      ],
      "text/plain": [
       "                    x          y  street_count                     geometry\n",
       "osmid                                                                      \n",
       "301189389 -102.342212  21.848544             4  POINT (-102.34221 21.84854)\n",
       "301189406 -102.350222  21.850815             3  POINT (-102.35022 21.85082)"
      ]
     },
     "execution_count": 10,
     "metadata": {},
     "output_type": "execute_result"
    }
   ],
   "source": [
    "#Show\n",
    "print(nodes_gdf.shape)\n",
    "print(nodes_gdf.dtypes)\n",
    "nodes_gdf.head(2)"
   ]
  },
  {
   "cell_type": "code",
   "execution_count": 11,
   "id": "84ca02fb-9fb1-4954-88e7-e6efa23616ac",
   "metadata": {
    "tags": []
   },
   "outputs": [
    {
     "name": "stdout",
     "output_type": "stream",
     "text": [
      "(121337, 15)\n",
      "osmid         object\n",
      "oneway          bool\n",
      "lanes         object\n",
      "name          object\n",
      "highway       object\n",
      "maxspeed      object\n",
      "length       float64\n",
      "geometry    geometry\n",
      "bridge        object\n",
      "ref           object\n",
      "junction      object\n",
      "tunnel        object\n",
      "access        object\n",
      "width         object\n",
      "service       object\n",
      "dtype: object\n"
     ]
    },
    {
     "data": {
      "text/html": [
       "<div>\n",
       "<style scoped>\n",
       "    .dataframe tbody tr th:only-of-type {\n",
       "        vertical-align: middle;\n",
       "    }\n",
       "\n",
       "    .dataframe tbody tr th {\n",
       "        vertical-align: top;\n",
       "    }\n",
       "\n",
       "    .dataframe thead th {\n",
       "        text-align: right;\n",
       "    }\n",
       "</style>\n",
       "<table border=\"1\" class=\"dataframe\">\n",
       "  <thead>\n",
       "    <tr style=\"text-align: right;\">\n",
       "      <th></th>\n",
       "      <th></th>\n",
       "      <th></th>\n",
       "      <th>osmid</th>\n",
       "      <th>oneway</th>\n",
       "      <th>lanes</th>\n",
       "      <th>name</th>\n",
       "      <th>highway</th>\n",
       "      <th>maxspeed</th>\n",
       "      <th>length</th>\n",
       "      <th>geometry</th>\n",
       "      <th>bridge</th>\n",
       "      <th>ref</th>\n",
       "      <th>junction</th>\n",
       "      <th>tunnel</th>\n",
       "      <th>access</th>\n",
       "      <th>width</th>\n",
       "      <th>service</th>\n",
       "    </tr>\n",
       "    <tr>\n",
       "      <th>u</th>\n",
       "      <th>v</th>\n",
       "      <th>key</th>\n",
       "      <th></th>\n",
       "      <th></th>\n",
       "      <th></th>\n",
       "      <th></th>\n",
       "      <th></th>\n",
       "      <th></th>\n",
       "      <th></th>\n",
       "      <th></th>\n",
       "      <th></th>\n",
       "      <th></th>\n",
       "      <th></th>\n",
       "      <th></th>\n",
       "      <th></th>\n",
       "      <th></th>\n",
       "      <th></th>\n",
       "    </tr>\n",
       "  </thead>\n",
       "  <tbody>\n",
       "    <tr>\n",
       "      <th rowspan=\"2\" valign=\"top\">301189389</th>\n",
       "      <th>1408187972</th>\n",
       "      <th>0</th>\n",
       "      <td>713153965</td>\n",
       "      <td>False</td>\n",
       "      <td>NaN</td>\n",
       "      <td>Prolongación Constitución</td>\n",
       "      <td>residential</td>\n",
       "      <td>NaN</td>\n",
       "      <td>13.812</td>\n",
       "      <td>LINESTRING (-102.34221 21.84854, -102.34219 21...</td>\n",
       "      <td>NaN</td>\n",
       "      <td>NaN</td>\n",
       "      <td>NaN</td>\n",
       "      <td>NaN</td>\n",
       "      <td>NaN</td>\n",
       "      <td>NaN</td>\n",
       "      <td>NaN</td>\n",
       "    </tr>\n",
       "    <tr>\n",
       "      <th>9370947312</th>\n",
       "      <th>0</th>\n",
       "      <td>715583649</td>\n",
       "      <td>True</td>\n",
       "      <td>2</td>\n",
       "      <td>Avenida Siglo XXI</td>\n",
       "      <td>trunk</td>\n",
       "      <td>NaN</td>\n",
       "      <td>412.235</td>\n",
       "      <td>LINESTRING (-102.34221 21.84854, -102.34600 21...</td>\n",
       "      <td>NaN</td>\n",
       "      <td>NaN</td>\n",
       "      <td>NaN</td>\n",
       "      <td>NaN</td>\n",
       "      <td>NaN</td>\n",
       "      <td>NaN</td>\n",
       "      <td>NaN</td>\n",
       "    </tr>\n",
       "  </tbody>\n",
       "</table>\n",
       "</div>"
      ],
      "text/plain": [
       "                              osmid  oneway lanes                       name  \\\n",
       "u         v          key                                                       \n",
       "301189389 1408187972 0    713153965   False   NaN  Prolongación Constitución   \n",
       "          9370947312 0    715583649    True     2          Avenida Siglo XXI   \n",
       "\n",
       "                              highway maxspeed   length  \\\n",
       "u         v          key                                  \n",
       "301189389 1408187972 0    residential      NaN   13.812   \n",
       "          9370947312 0          trunk      NaN  412.235   \n",
       "\n",
       "                                                                   geometry  \\\n",
       "u         v          key                                                      \n",
       "301189389 1408187972 0    LINESTRING (-102.34221 21.84854, -102.34219 21...   \n",
       "          9370947312 0    LINESTRING (-102.34221 21.84854, -102.34600 21...   \n",
       "\n",
       "                         bridge  ref junction tunnel access width service  \n",
       "u         v          key                                                   \n",
       "301189389 1408187972 0      NaN  NaN      NaN    NaN    NaN   NaN     NaN  \n",
       "          9370947312 0      NaN  NaN      NaN    NaN    NaN   NaN     NaN  "
      ]
     },
     "execution_count": 11,
     "metadata": {},
     "output_type": "execute_result"
    }
   ],
   "source": [
    "#Show\n",
    "print(edges_gdf.shape)\n",
    "print(edges_gdf.dtypes)\n",
    "edges_gdf.head(2)"
   ]
  },
  {
   "cell_type": "code",
   "execution_count": 10,
   "id": "cba46a27-e1d6-4a98-920d-c9667e60fb32",
   "metadata": {},
   "outputs": [],
   "source": [
    "sources = \"\"\"{ \n",
    "    #Preescolar\n",
    "    'denue_preescolar':[611111, 611112],\n",
    "    #Primaria\n",
    "    'denue_primaria':[611121, 611122],\n",
    "    #Secundaria\n",
    "    'denue_secundaria':[611131, 611132],\n",
    "    #Salud\n",
    "    'clues_primer_nivel':[8610],\n",
    "    #Guarderías\n",
    "    'denue_guarderias':[624411, 624412],\n",
    "    #Asistencia social\n",
    "    'denue_dif':[931610],\n",
    "    #Alimentos\n",
    "    'denue_supermercado':[462111],'denue_abarrotes':[461110], 'denue_carnicerias': [461121, 461122, 461123],'sip_mercado':[4721],\n",
    "    #Personal       \n",
    "    'denue_peluqueria':[812110],\n",
    "    #Farmacias       \n",
    "    'denue_farmacias':[464111, 464112],\n",
    "    #Hogar       \n",
    "    'denue_ferreteria_tlapaleria':[467111],'denue_art_limpieza':[467115],\n",
    "    #Complementarios\n",
    "    'denue_ropa':[463211, 463212, 463213, 463215, 463216, 463218],'denue_calzado':[463310], 'denue_muebles':[466111, 466112, 466113, 466114],'denue_lavanderia':[812210],'denue_revistas_periodicos':[465313],'denue_pintura':[467113],\n",
    "    #Social\n",
    "    'denue_restaurante_insitu':[722511, 722512, 722513, 722514, 722519],'denue_restaurante_llevar':[722516, 722518, 722517],'denue_bares':[722412],'denue_cafe':[722515],\n",
    "    #Actividad física       \n",
    "    'sip_cancha':[9311],'sip_unidad_deportiva':[9311],'sip_espacio_publico':[9321],'denue_parque_natural':[712190],\n",
    "    #Cultural       \n",
    "    'denue_cines':[512130],'denue_museos':[712111, 712112]}\"\"\""
   ]
  },
  {
   "cell_type": "code",
   "execution_count": 12,
   "id": "4179d186-8ca4-4446-821f-a1e1eb53837a",
   "metadata": {
    "tags": []
   },
   "outputs": [],
   "source": [
    "sources = { \n",
    "    #Preescolar\n",
    "    'denue_preescolar':[611111, 611112]}"
   ]
  },
  {
   "cell_type": "code",
   "execution_count": 13,
   "id": "c49fb086-6be8-4c6f-aba6-eaffcd278bf6",
   "metadata": {
    "tags": []
   },
   "outputs": [
    {
     "name": "stdout",
     "output_type": "stream",
     "text": [
      "Loaded a total of 303 points of interest of the source denue_preescolar for analisis.\n",
      "Starting range k = 0 of 1 for source denue_preescolar.\n",
      "Starting range k = 1 of 1 for source denue_preescolar.\n",
      "Calculated distance for a TOTAL of 52013 nodes.\n",
      "Added time for source denue_preescolar to nodes_sources.\n"
     ]
    }
   ],
   "source": [
    "# ELEMENTS NEEDED OUTSIDE THE LOOP\n",
    "# nodes_analysis is a nodes_gdf out of loop used in aup.calculate_distance_nearest_poi in each loop\n",
    "nodes_analysis = nodes_gdf.reset_index().copy()\n",
    "# nodes_sources is a nodes_gdf out of loop used to accumulate a final gdf with the minimal distance from each node to each source\n",
    "nodes_sources = gpd.GeoDataFrame()\n",
    "# Count\n",
    "i = 0\n",
    "\n",
    "# Loop that calculates distance from each node to each source (source by source)\n",
    "for s in sources:\n",
    "    \n",
    "    # Locate pois data for current source\n",
    "    source_gdf = gpd.GeoDataFrame()\n",
    "    for cod in sources[s]:\n",
    "        source_tmp = pois_distance_node[pois_distance_node['code']==f'{cod}']\n",
    "        source_gdf = pd.concat([source_gdf,source_tmp])\n",
    "    #-----------------------------------------------------------------------------------------------------------------------------------------------------\n",
    "    print(f\"Loaded a total of {len(source_gdf)} points of interest of the source {s} for analisis.\")\n",
    "    #-----------------------------------------------------------------------------------------------------------------------------------------------------\n",
    "    \n",
    "    # Data for current amenity loop - df_temp: Each column will be a batch of procesed nodes.\n",
    "    df_temp = nodes_gdf.copy()\n",
    "    # Data for current amenity loop - nodes_distance: Minimum time/distance found in all batches will be added from df_min (within if/elif/else) to nodes_distance and finally to nodes_sources (outside loop)\n",
    "    nodes_distance = nodes_gdf.copy()\n",
    "    \n",
    "    # In case there are no amenities of a certain type in the city\n",
    "    if len(source_gdf) == 0:\n",
    "        nodes_distance['dist_'+s] = 0\n",
    "        #-------------------------------------------------------------------------------------------------------------------------------------------------\n",
    "        print(f\"0 points of interest of the source {s} found.\")\n",
    "        #-------------------------------------------------------------------------------------------------------------------------------------------------       \n",
    "    \n",
    "    # Elif, divide in batches processing (200 if the total number of pois is an exact multiple of 250, 250 otherwise)\n",
    "    elif len(source_gdf) % 250:\n",
    "        batch_size = len(source_gdf)/200\n",
    "        for k in range(int(batch_size)+1):\n",
    "            #---------------------------------------------------------------------------------------------------------------------------------------------\n",
    "            print(f\"Starting range k = {k} of {int(batch_size)} for source {s}.\")\n",
    "            #---------------------------------------------------------------------------------------------------------------------------------------------\n",
    "            source_process = source_gdf.iloc[int(200*k):int(200*(1+k))].copy()\n",
    "            nodes_distance_prep = aup.calculate_distance_nearest_poi(source_process, nodes_analysis, edges_gdf, s, 'osmid', wght='length')\n",
    "            \n",
    "            #A middle gdf is created whose columns will be the name of the amenity and the batch number it belongs to\n",
    "            df_int = pd.DataFrame()\n",
    "            df_int['dist_'+str(k)+s] = nodes_distance_prep['dist_'+s]\n",
    "            \n",
    "            #The middle gdf is merged into the previously created temporary gdf to store the data by node, each batch in a column.\n",
    "            df_temp = df_temp.merge(df_int, left_index=True, right_index=True)\n",
    "            \n",
    "        # Once finished, drop the non-distance values from the temporary gdf\n",
    "        df_temp.drop(['x', 'y', 'street_count','geometry'], inplace = True, axis=1)\n",
    "        \n",
    "        #We apply the min function to find the minimum value. This value is sent to a new df_min\n",
    "        df_min = pd.DataFrame()\n",
    "        df_min['dist_'+s] = df_temp.min(axis=1)\n",
    "        \n",
    "        #We merge df_min which contains the shortest distance to the POI with nodes_distance which will store all final data\n",
    "        nodes_distance = nodes_distance.merge(df_min, left_index=True, right_index=True)\n",
    "        \n",
    "        #-------------------------------------------------------------------------------------------------------------------------------------------------\n",
    "        print(f\"Calculated distance for a TOTAL of {len(nodes_distance)} nodes.\")\n",
    "        #------------------------------------------------------------------------------------------------------------------------------------------------- \n",
    "\n",
    "    # Else, divide in batches processing (200 if the total number of pois is an exact multiple of 250, 250 otherwise)   \n",
    "    else:\n",
    "        batch_size = len(source_gdf)/250\n",
    "        for k in range(int(batch_size)+1):\n",
    "            #---------------------------------------------------------------------------------------------------------------------------------------------\n",
    "            print(f\"Starting range k = {k} of {int(batch_size)} for source {s}.\")\n",
    "            #---------------------------------------------------------------------------------------------------------------------------------------------\n",
    "            source_process = source_gdf.iloc[int(250*k):int(250*(1+k))].copy()\n",
    "            nodes_distance_prep = aup.calculate_distance_nearest_poi(source_process, nodes_analysis, edges_gdf, s, 'osmid', wght='length')\n",
    "            \n",
    "            #A middle gdf is created whose columns will be the name of the amenity and the batch number it belongs to\n",
    "            df_int = pd.DataFrame()\n",
    "            df_int['dist_'+str(k)+s] = nodes_distance_prep['dist_'+s]\n",
    "            \n",
    "            #The middle gdf is merged into the previously created temporary gdf to store the data by node, each batch in a column.\n",
    "            df_temp = df_temp.merge(df_int, left_index=True, right_index=True)\n",
    "            \n",
    "        # Once finished, drop the non-distance values from the temporary gdf\n",
    "        df_temp.drop(['x', 'y', 'street_count','geometry'], inplace = True, axis=1)\n",
    "        \n",
    "        #We apply the min function to find the minimum value. This value is sent to a new df_min\n",
    "        df_min = pd.DataFrame()\n",
    "        df_min['dist_'+s] = df_temp.min(axis=1)\n",
    "        \n",
    "        #We merge df_min which contains the shortest distance to the POI with nodes_distance which will store all final data\n",
    "        nodes_distance = nodes_distance.merge(df_min, left_index=True, right_index=True)\n",
    "    \n",
    "        #-------------------------------------------------------------------------------------------------------------------------------------------------\n",
    "        print(f\"Calculated distance for a TOTAL of {len(nodes_distance)} nodes.\")\n",
    "        #-------------------------------------------------------------------------------------------------------------------------------------------------    \n",
    "    \n",
    "    # Calculate time (Walking speed = 4km/hr)\n",
    "    nodes_time = nodes_distance.copy()\n",
    "    if len(source_gdf) == 0:\n",
    "        nodes_time['time'] = np.nan\n",
    "    else:\n",
    "        nodes_time['time'] = (nodes_time['dist_'+s]*60)/4000\n",
    "    \n",
    "    #Format nodes_distance\n",
    "    nodes_time['source'] = s\n",
    "    nodes_time['city'] = city\n",
    "    nodes_time.reset_index(inplace=True)\n",
    "    nodes_time = nodes_time.set_crs(\"EPSG:4326\")\n",
    "    nodes_time = nodes_time[['osmid','time','source','x','y','geometry','city']]\n",
    "    \n",
    "    #If it is the first round nodes_sources is created equal to nodes_distance (all nodes, one source)\n",
    "    #If it is the second or more, the new nodes_distance is merged.\n",
    "    #This way we obtain the final gdf of interest that will contain the minimum disstance to each type of amenity by column.\n",
    "    if i == 0:\n",
    "        nodes_sources = nodes_time.copy()\n",
    "    else:\n",
    "        nodes_sources = pd.concat([nodes_sources,nodes_time])\n",
    "        \n",
    "    #-----------------------------------------------------------------------------------------------------------------------------------------------------\n",
    "    print(f\"Added time for source {s} to nodes_sources.\")\n",
    "    #-----------------------------------------------------------------------------------------------------------------------------------------------------        \n",
    "    \n",
    "    i += 1"
   ]
  },
  {
   "cell_type": "code",
   "execution_count": 14,
   "id": "f584d40e-8441-4034-9e64-9da235407ccb",
   "metadata": {
    "tags": []
   },
   "outputs": [
    {
     "data": {
      "text/html": [
       "<div>\n",
       "<style scoped>\n",
       "    .dataframe tbody tr th:only-of-type {\n",
       "        vertical-align: middle;\n",
       "    }\n",
       "\n",
       "    .dataframe tbody tr th {\n",
       "        vertical-align: top;\n",
       "    }\n",
       "\n",
       "    .dataframe thead th {\n",
       "        text-align: right;\n",
       "    }\n",
       "</style>\n",
       "<table border=\"1\" class=\"dataframe\">\n",
       "  <thead>\n",
       "    <tr style=\"text-align: right;\">\n",
       "      <th></th>\n",
       "      <th>osmid</th>\n",
       "      <th>time</th>\n",
       "      <th>source</th>\n",
       "      <th>x</th>\n",
       "      <th>y</th>\n",
       "      <th>geometry</th>\n",
       "      <th>city</th>\n",
       "    </tr>\n",
       "  </thead>\n",
       "  <tbody>\n",
       "    <tr>\n",
       "      <th>0</th>\n",
       "      <td>301189389</td>\n",
       "      <td>6.400245</td>\n",
       "      <td>denue_preescolar</td>\n",
       "      <td>-102.342212</td>\n",
       "      <td>21.848544</td>\n",
       "      <td>POINT (-102.34221 21.84854)</td>\n",
       "      <td>Aguascalientes</td>\n",
       "    </tr>\n",
       "    <tr>\n",
       "      <th>1</th>\n",
       "      <td>301189406</td>\n",
       "      <td>17.556360</td>\n",
       "      <td>denue_preescolar</td>\n",
       "      <td>-102.350222</td>\n",
       "      <td>21.850815</td>\n",
       "      <td>POINT (-102.35022 21.85082)</td>\n",
       "      <td>Aguascalientes</td>\n",
       "    </tr>\n",
       "    <tr>\n",
       "      <th>2</th>\n",
       "      <td>301191695</td>\n",
       "      <td>6.655365</td>\n",
       "      <td>denue_preescolar</td>\n",
       "      <td>-102.342228</td>\n",
       "      <td>21.848392</td>\n",
       "      <td>POINT (-102.34223 21.84839)</td>\n",
       "      <td>Aguascalientes</td>\n",
       "    </tr>\n",
       "    <tr>\n",
       "      <th>3</th>\n",
       "      <td>301191702</td>\n",
       "      <td>11.940270</td>\n",
       "      <td>denue_preescolar</td>\n",
       "      <td>-102.326375</td>\n",
       "      <td>21.843567</td>\n",
       "      <td>POINT (-102.32638 21.84357)</td>\n",
       "      <td>Aguascalientes</td>\n",
       "    </tr>\n",
       "    <tr>\n",
       "      <th>4</th>\n",
       "      <td>395436249</td>\n",
       "      <td>22.370580</td>\n",
       "      <td>denue_preescolar</td>\n",
       "      <td>-102.331855</td>\n",
       "      <td>21.843707</td>\n",
       "      <td>POINT (-102.33186 21.84371)</td>\n",
       "      <td>Aguascalientes</td>\n",
       "    </tr>\n",
       "    <tr>\n",
       "      <th>...</th>\n",
       "      <td>...</td>\n",
       "      <td>...</td>\n",
       "      <td>...</td>\n",
       "      <td>...</td>\n",
       "      <td>...</td>\n",
       "      <td>...</td>\n",
       "      <td>...</td>\n",
       "    </tr>\n",
       "    <tr>\n",
       "      <th>52008</th>\n",
       "      <td>11201041922</td>\n",
       "      <td>29.143890</td>\n",
       "      <td>denue_preescolar</td>\n",
       "      <td>-102.292966</td>\n",
       "      <td>21.814457</td>\n",
       "      <td>POINT (-102.29297 21.81446)</td>\n",
       "      <td>Aguascalientes</td>\n",
       "    </tr>\n",
       "    <tr>\n",
       "      <th>52009</th>\n",
       "      <td>11206653584</td>\n",
       "      <td>28.583370</td>\n",
       "      <td>denue_preescolar</td>\n",
       "      <td>-102.270787</td>\n",
       "      <td>21.812594</td>\n",
       "      <td>POINT (-102.27079 21.81259)</td>\n",
       "      <td>Aguascalientes</td>\n",
       "    </tr>\n",
       "    <tr>\n",
       "      <th>52010</th>\n",
       "      <td>11206653585</td>\n",
       "      <td>28.296585</td>\n",
       "      <td>denue_preescolar</td>\n",
       "      <td>-102.270652</td>\n",
       "      <td>21.812476</td>\n",
       "      <td>POINT (-102.27065 21.81248)</td>\n",
       "      <td>Aguascalientes</td>\n",
       "    </tr>\n",
       "    <tr>\n",
       "      <th>52011</th>\n",
       "      <td>11209035965</td>\n",
       "      <td>50.299530</td>\n",
       "      <td>denue_preescolar</td>\n",
       "      <td>-102.297370</td>\n",
       "      <td>21.804235</td>\n",
       "      <td>POINT (-102.29737 21.80424)</td>\n",
       "      <td>Aguascalientes</td>\n",
       "    </tr>\n",
       "    <tr>\n",
       "      <th>52012</th>\n",
       "      <td>11209035970</td>\n",
       "      <td>50.430930</td>\n",
       "      <td>denue_preescolar</td>\n",
       "      <td>-102.297448</td>\n",
       "      <td>21.804371</td>\n",
       "      <td>POINT (-102.29745 21.80437)</td>\n",
       "      <td>Aguascalientes</td>\n",
       "    </tr>\n",
       "  </tbody>\n",
       "</table>\n",
       "<p>52013 rows × 7 columns</p>\n",
       "</div>"
      ],
      "text/plain": [
       "             osmid       time            source           x          y  \\\n",
       "0        301189389   6.400245  denue_preescolar -102.342212  21.848544   \n",
       "1        301189406  17.556360  denue_preescolar -102.350222  21.850815   \n",
       "2        301191695   6.655365  denue_preescolar -102.342228  21.848392   \n",
       "3        301191702  11.940270  denue_preescolar -102.326375  21.843567   \n",
       "4        395436249  22.370580  denue_preescolar -102.331855  21.843707   \n",
       "...            ...        ...               ...         ...        ...   \n",
       "52008  11201041922  29.143890  denue_preescolar -102.292966  21.814457   \n",
       "52009  11206653584  28.583370  denue_preescolar -102.270787  21.812594   \n",
       "52010  11206653585  28.296585  denue_preescolar -102.270652  21.812476   \n",
       "52011  11209035965  50.299530  denue_preescolar -102.297370  21.804235   \n",
       "52012  11209035970  50.430930  denue_preescolar -102.297448  21.804371   \n",
       "\n",
       "                          geometry            city  \n",
       "0      POINT (-102.34221 21.84854)  Aguascalientes  \n",
       "1      POINT (-102.35022 21.85082)  Aguascalientes  \n",
       "2      POINT (-102.34223 21.84839)  Aguascalientes  \n",
       "3      POINT (-102.32638 21.84357)  Aguascalientes  \n",
       "4      POINT (-102.33186 21.84371)  Aguascalientes  \n",
       "...                            ...             ...  \n",
       "52008  POINT (-102.29297 21.81446)  Aguascalientes  \n",
       "52009  POINT (-102.27079 21.81259)  Aguascalientes  \n",
       "52010  POINT (-102.27065 21.81248)  Aguascalientes  \n",
       "52011  POINT (-102.29737 21.80424)  Aguascalientes  \n",
       "52012  POINT (-102.29745 21.80437)  Aguascalientes  \n",
       "\n",
       "[52013 rows x 7 columns]"
      ]
     },
     "execution_count": 14,
     "metadata": {},
     "output_type": "execute_result"
    }
   ],
   "source": [
    "nodes_sources"
   ]
  },
  {
   "cell_type": "markdown",
   "id": "572fef0a-f5bb-44d3-8609-4b1d776502b4",
   "metadata": {},
   "source": [
    "## DEBUG DE AUP.CALCULATE_DISTANCE_NEAREST_POI"
   ]
  },
  {
   "cell_type": "markdown",
   "id": "065dcdb9-5c55-4b8f-9641-bc0830aa93cd",
   "metadata": {},
   "source": [
    "### Previous data:"
   ]
  },
  {
   "cell_type": "code",
   "execution_count": 67,
   "id": "aee78009-a41f-410f-a8b8-17e47c03fe67",
   "metadata": {
    "tags": []
   },
   "outputs": [
    {
     "name": "stdout",
     "output_type": "stream",
     "text": [
      "Loaded a total of 303 points of interest of the source denue_preescolar for analisis.\n"
     ]
    }
   ],
   "source": [
    "# ELEMENTS NEEDED OUTSIDE THE LOOP\n",
    "# nodes_analysis is a nodes_gdf out of loop used in aup.calculate_distance_nearest_poi in each loop\n",
    "nodes_analysis = nodes_gdf.reset_index().copy()\n",
    "# nodes_sources is a nodes_gdf out of loop used to accumulate a final gdf with the minimal distance from each node to each source\n",
    "nodes_sources = gpd.GeoDataFrame()\n",
    "# Count\n",
    "i = 0\n",
    "\n",
    "sources = { \n",
    "    #Preescolar\n",
    "    'denue_preescolar':[611111, 611112]}\n",
    "\n",
    "# Loop that calculates distance from each node to each source (source by source)\n",
    "for s in sources:\n",
    "    # Locate pois data for current source\n",
    "    source_gdf = gpd.GeoDataFrame()\n",
    "    for cod in sources[s]:\n",
    "        source_tmp = pois_distance_node[pois_distance_node['code']==f'{cod}']\n",
    "        source_gdf = pd.concat([source_gdf,source_tmp])\n",
    "    #-----------------------------------------------------------------------------------------------------------------------------------------------------\n",
    "    print(f\"Loaded a total of {len(source_gdf)} points of interest of the source {s} for analisis.\")\n",
    "    #-----------------------------------------------------------------------------------------------------------------------------------------------------\n",
    "    \n",
    "    # Data for current amenity loop - df_temp: Each column will be a batch of procesed nodes.\n",
    "    df_temp = nodes_gdf.copy()\n",
    "    # Data for current amenity loop - nodes_distance: Minimum time/distance found in all batches will be added from df_min (within if/elif/else) to nodes_distance and finally to nodes_sources (outside loop)\n",
    "    nodes_distance = nodes_gdf.copy()"
   ]
  },
  {
   "cell_type": "markdown",
   "id": "47fd4af1-fdfb-4bf9-8d9e-8bcc53db107c",
   "metadata": {},
   "source": [
    "### Actual debug:"
   ]
  },
  {
   "cell_type": "code",
   "execution_count": 80,
   "id": "df11923b-b005-4412-a9a8-8763e45740c4",
   "metadata": {
    "tags": []
   },
   "outputs": [
    {
     "name": "stdout",
     "output_type": "stream",
     "text": [
      "Starting range k = 0 of 1 for source denue_preescolar.\n"
     ]
    },
    {
     "ename": "KeyError",
     "evalue": "5897",
     "output_type": "error",
     "traceback": [
      "\u001b[0;31m---------------------------------------------------------------------------\u001b[0m",
      "\u001b[0;31mKeyError\u001b[0m                                  Traceback (most recent call last)",
      "Cell \u001b[0;32mIn[80], line 47\u001b[0m\n\u001b[1;32m     43\u001b[0m gdf \u001b[38;5;241m=\u001b[39m gdf_f\u001b[38;5;241m.\u001b[39mcopy()\n\u001b[1;32m     44\u001b[0m \u001b[38;5;66;03m#node_mapping = node_mapping\u001b[39;00m\n\u001b[1;32m     45\u001b[0m \u001b[38;5;66;03m#column_name = column_name\u001b[39;00m\n\u001b[0;32m---> 47\u001b[0m np\u001b[38;5;241m.\u001b[39marray(\u001b[38;5;28mlist\u001b[39m(\u001b[38;5;28mset\u001b[39m([node_mapping[i] \u001b[38;5;28;01mfor\u001b[39;00m i \u001b[38;5;129;01min\u001b[39;00m gdf[column_name]])))\n",
      "Cell \u001b[0;32mIn[80], line 47\u001b[0m, in \u001b[0;36m<listcomp>\u001b[0;34m(.0)\u001b[0m\n\u001b[1;32m     43\u001b[0m gdf \u001b[38;5;241m=\u001b[39m gdf_f\u001b[38;5;241m.\u001b[39mcopy()\n\u001b[1;32m     44\u001b[0m \u001b[38;5;66;03m#node_mapping = node_mapping\u001b[39;00m\n\u001b[1;32m     45\u001b[0m \u001b[38;5;66;03m#column_name = column_name\u001b[39;00m\n\u001b[0;32m---> 47\u001b[0m np\u001b[38;5;241m.\u001b[39marray(\u001b[38;5;28mlist\u001b[39m(\u001b[38;5;28mset\u001b[39m([\u001b[43mnode_mapping\u001b[49m\u001b[43m[\u001b[49m\u001b[43mi\u001b[49m\u001b[43m]\u001b[49m \u001b[38;5;28;01mfor\u001b[39;00m i \u001b[38;5;129;01min\u001b[39;00m gdf[column_name]])))\n",
      "\u001b[0;31mKeyError\u001b[0m: 5897"
     ]
    }
   ],
   "source": [
    "# In case there are no amenities of a certain type in the city\n",
    "if len(source_gdf) == 0:\n",
    "    nodes_distance['dist_'+s] = 0\n",
    "    #-------------------------------------------------------------------------------------------------------------------------------------------------\n",
    "    print(f\"0 points of interest of the source {s} found.\")\n",
    "    #-------------------------------------------------------------------------------------------------------------------------------------------------       \n",
    "\n",
    "# Elif, divide in batches processing (200 if the total number of pois is an exact multiple of 250, 250 otherwise)\n",
    "elif len(source_gdf) % 250:\n",
    "    batch_size = len(source_gdf)/200\n",
    "    for k in range(int(batch_size)+1):\n",
    "        #---------------------------------------------------------------------------------------------------------------------------------------------\n",
    "        print(f\"Starting range k = {k} of {int(batch_size)} for source {s}.\")\n",
    "        #---------------------------------------------------------------------------------------------------------------------------------------------\n",
    "        source_process = source_gdf.iloc[int(200*k):int(200*(1+k))].copy()\n",
    "        \n",
    "       #///////////.................................................... DEBUGING AUP.CALCULATE_DISTANCE_NEAREST_POI........................................................///////////\n",
    "        \n",
    "        #def calculate_distance_nearest_poi(gdf_f, nodes, edges, amenity_name, column_name, wght='length', max_distance=(0,'distance_node')):\n",
    "        #nodes_distance_prep = aup.calculate_distance_nearest_poi(source_process, nodes_analysis, edges_gdf, s, 'osmid', wght='length')\n",
    "        \n",
    "        # Parameters\n",
    "        gdf_f = source_process.copy()\n",
    "        nodes = nodes_analysis.copy()\n",
    "        edges = edges_gdf.copy()\n",
    "        amenity_name = a\n",
    "        column_name = 'osmid'\n",
    "        wght = 'length'\n",
    "        max_distance=(0,'distance_node')\n",
    "        \n",
    "        nodes = nodes_analysis.copy()\n",
    "        edges = edges_gdf.copy()\n",
    "        if max_distance[0] > 0:\n",
    "            gdf_f = gdf_f.loc[gdf_f[max_distance[1]]<=max_distance[0]]\n",
    "        g, weights, node_mapping = aup.to_igraph(nodes,edges,wght=wght) #convert to igraph to run the calculations\n",
    "        \n",
    "        #///////////.................................................... DEBUGING AUP.GETSEEDS........................................................///////////\n",
    "        \n",
    "        #def get_seeds(gdf, node_mapping, column_name):\n",
    "        #seeds = aup.get_seeds(gdf_f, node_mapping, column_name)\n",
    "        \n",
    "        # Parameters\n",
    "        gdf = gdf_f.copy()\n",
    "        #node_mapping = node_mapping\n",
    "        #column_name = column_name\n",
    "        \n",
    "        np.array(list(set([node_mapping[i] for i in gdf[column_name]])))\n",
    "        \n",
    "       \n",
    "        "
   ]
  },
  {
   "cell_type": "code",
   "execution_count": 84,
   "id": "fdd64753-cb3a-4127-8e6d-40287e83f971",
   "metadata": {
    "tags": []
   },
   "outputs": [
    {
     "data": {
      "text/plain": [
       "0       5897\n",
       "1      28485\n",
       "2      13667\n",
       "3      19471\n",
       "4      17407\n",
       "       ...  \n",
       "195    23646\n",
       "196    23639\n",
       "197    25814\n",
       "198     5897\n",
       "199     6986\n",
       "Name: osmid, Length: 200, dtype: int64"
      ]
     },
     "execution_count": 84,
     "metadata": {},
     "output_type": "execute_result"
    }
   ],
   "source": [
    "gdf[column_name]"
   ]
  },
  {
   "cell_type": "code",
   "execution_count": 86,
   "id": "f75cbcb8-4d71-4400-bee1-6a4fc22ed7fe",
   "metadata": {
    "tags": []
   },
   "outputs": [
    {
     "data": {
      "text/html": [
       "<div>\n",
       "<style scoped>\n",
       "    .dataframe tbody tr th:only-of-type {\n",
       "        vertical-align: middle;\n",
       "    }\n",
       "\n",
       "    .dataframe tbody tr th {\n",
       "        vertical-align: top;\n",
       "    }\n",
       "\n",
       "    .dataframe thead th {\n",
       "        text-align: right;\n",
       "    }\n",
       "</style>\n",
       "<table border=\"1\" class=\"dataframe\">\n",
       "  <thead>\n",
       "    <tr style=\"text-align: right;\">\n",
       "      <th></th>\n",
       "      <th>code</th>\n",
       "      <th>osmid</th>\n",
       "      <th>distance_node</th>\n",
       "      <th>geometry</th>\n",
       "    </tr>\n",
       "  </thead>\n",
       "  <tbody>\n",
       "    <tr>\n",
       "      <th>0</th>\n",
       "      <td>611111</td>\n",
       "      <td>5897</td>\n",
       "      <td>8.434524</td>\n",
       "      <td>POINT (-102.32776 21.94211)</td>\n",
       "    </tr>\n",
       "    <tr>\n",
       "      <th>1</th>\n",
       "      <td>611111</td>\n",
       "      <td>28485</td>\n",
       "      <td>19.788102</td>\n",
       "      <td>POINT (-102.26791 21.92303)</td>\n",
       "    </tr>\n",
       "    <tr>\n",
       "      <th>2</th>\n",
       "      <td>611111</td>\n",
       "      <td>13667</td>\n",
       "      <td>32.820307</td>\n",
       "      <td>POINT (-102.28527 21.88381)</td>\n",
       "    </tr>\n",
       "    <tr>\n",
       "      <th>3</th>\n",
       "      <td>611111</td>\n",
       "      <td>19471</td>\n",
       "      <td>64.326094</td>\n",
       "      <td>POINT (-102.28277 21.92966)</td>\n",
       "    </tr>\n",
       "    <tr>\n",
       "      <th>4</th>\n",
       "      <td>611111</td>\n",
       "      <td>17407</td>\n",
       "      <td>16.186290</td>\n",
       "      <td>POINT (-102.27464 21.90191)</td>\n",
       "    </tr>\n",
       "    <tr>\n",
       "      <th>...</th>\n",
       "      <td>...</td>\n",
       "      <td>...</td>\n",
       "      <td>...</td>\n",
       "      <td>...</td>\n",
       "    </tr>\n",
       "    <tr>\n",
       "      <th>195</th>\n",
       "      <td>611112</td>\n",
       "      <td>23646</td>\n",
       "      <td>49.065349</td>\n",
       "      <td>POINT (-102.25177 21.90474)</td>\n",
       "    </tr>\n",
       "    <tr>\n",
       "      <th>196</th>\n",
       "      <td>611112</td>\n",
       "      <td>23639</td>\n",
       "      <td>48.385999</td>\n",
       "      <td>POINT (-102.25176 21.90471)</td>\n",
       "    </tr>\n",
       "    <tr>\n",
       "      <th>197</th>\n",
       "      <td>611112</td>\n",
       "      <td>25814</td>\n",
       "      <td>58.452251</td>\n",
       "      <td>POINT (-102.26026 22.03351)</td>\n",
       "    </tr>\n",
       "    <tr>\n",
       "      <th>198</th>\n",
       "      <td>611112</td>\n",
       "      <td>5897</td>\n",
       "      <td>11.046362</td>\n",
       "      <td>POINT (-102.32788 21.94207)</td>\n",
       "    </tr>\n",
       "    <tr>\n",
       "      <th>199</th>\n",
       "      <td>611112</td>\n",
       "      <td>6986</td>\n",
       "      <td>17.676497</td>\n",
       "      <td>POINT (-102.33892 21.97009)</td>\n",
       "    </tr>\n",
       "  </tbody>\n",
       "</table>\n",
       "<p>200 rows × 4 columns</p>\n",
       "</div>"
      ],
      "text/plain": [
       "       code  osmid  distance_node                     geometry\n",
       "0    611111   5897       8.434524  POINT (-102.32776 21.94211)\n",
       "1    611111  28485      19.788102  POINT (-102.26791 21.92303)\n",
       "2    611111  13667      32.820307  POINT (-102.28527 21.88381)\n",
       "3    611111  19471      64.326094  POINT (-102.28277 21.92966)\n",
       "4    611111  17407      16.186290  POINT (-102.27464 21.90191)\n",
       "..      ...    ...            ...                          ...\n",
       "195  611112  23646      49.065349  POINT (-102.25177 21.90474)\n",
       "196  611112  23639      48.385999  POINT (-102.25176 21.90471)\n",
       "197  611112  25814      58.452251  POINT (-102.26026 22.03351)\n",
       "198  611112   5897      11.046362  POINT (-102.32788 21.94207)\n",
       "199  611112   6986      17.676497  POINT (-102.33892 21.97009)\n",
       "\n",
       "[200 rows x 4 columns]"
      ]
     },
     "execution_count": 86,
     "metadata": {},
     "output_type": "execute_result"
    }
   ],
   "source": [
    "source_process"
   ]
  },
  {
   "cell_type": "code",
   "execution_count": 56,
   "id": "d2fed211-8a4f-49bb-8855-d12bfb9ab889",
   "metadata": {
    "tags": []
   },
   "outputs": [
    {
     "name": "stdout",
     "output_type": "stream",
     "text": [
      "Node ID 5897 does not exist.\n"
     ]
    }
   ],
   "source": [
    "unique_node_ids = nodes_gdf.index.unique()\n",
    "if 5897 in unique_node_ids:\n",
    "    print(\"Node ID 5897 exists.\")\n",
    "else:\n",
    "    print(\"Node ID 5897 does not exist.\")"
   ]
  },
  {
   "cell_type": "code",
   "execution_count": 57,
   "id": "8d04f3d5-4bd4-4eef-822a-122ed6d24918",
   "metadata": {
    "tags": []
   },
   "outputs": [
    {
     "name": "stdout",
     "output_type": "stream",
     "text": [
      "Empty GeoDataFrame\n",
      "Columns: [x, y, street_count, geometry]\n",
      "Index: []\n"
     ]
    }
   ],
   "source": [
    "node = nodes_gdf.loc[nodes_gdf.index == 5897]\n",
    "print(node)"
   ]
  },
  {
   "cell_type": "code",
   "execution_count": 14,
   "id": "c69f9b1c-9ffe-428b-b221-2377d4b4aa3b",
   "metadata": {
    "tags": []
   },
   "outputs": [],
   "source": [
    "#if save:\n",
    "#    nearest.to_file('../../data/external/temporal_fromjupyter/pois_distance_node.gpkg', driver='GPKG')"
   ]
  },
  {
   "cell_type": "markdown",
   "id": "9d024818-b655-4d8a-8805-976860049337",
   "metadata": {},
   "source": [
    "### DEBUGGING CODE"
   ]
  },
  {
   "cell_type": "code",
   "execution_count": 38,
   "id": "058ad02c-2ac7-4e79-a72b-bb5888184d17",
   "metadata": {
    "tags": []
   },
   "outputs": [],
   "source": [
    "year = '2020'\n",
    "denue_folder = 'denue_node_'+year\n",
    "schema = 'prox_analysis'\n",
    "folder_sufix = 'proximity_2020' #sufix for folder name\n",
    "amenities = {'denue_preescolar':[611111, 611112]}\n",
    "c = 'Aguascalientes'\n",
    "resolution = 8"
   ]
  },
  {
   "cell_type": "code",
   "execution_count": 39,
   "id": "9dcc1c36-f66d-4d4d-a367-3f71c9ea18ee",
   "metadata": {
    "tags": []
   },
   "outputs": [
    {
     "name": "stdout",
     "output_type": "stream",
     "text": [
      "Starting municipality filters for Aguascalientes\n",
      "Downloaded 51448 nodes and 121067 from database for Aguascalientes\n",
      "\n",
      "Created wkt based on dissolved polygon\n"
     ]
    }
   ],
   "source": [
    "#---------------------------------------------------------------------------------------------------------------------------------------------------------\n",
    "print(f\"Starting municipality filters for {c}\")\n",
    "#---------------------------------------------------------------------------------------------------------------------------------------------------------\n",
    "\n",
    "# Creates empty GeoDataFrame to store specified municipality polygons and hex grid\n",
    "mun_gdf = gpd.GeoDataFrame()\n",
    "hex_bins = gpd.GeoDataFrame()\n",
    "\n",
    "# Iterates over city names for each metropolitan area or capital\n",
    "query = f\"SELECT * FROM metropolis.metro_gdf WHERE \\\"city\\\" LIKE \\'{c}\\'\"\n",
    "mun_gdf = aup.gdf_from_query(query, geometry_col='geometry')\n",
    "\n",
    "query = f\"SELECT * FROM hexgrid.hexgrid_{resolution}_city WHERE \\\"metropolis\\\" LIKE \\'{c}\\'\"\n",
    "hex_bins = aup.gdf_from_query(query, geometry_col='geometry')\n",
    "\n",
    "#Define projections for municipalities and hexgrids\n",
    "mun_gdf = mun_gdf.set_crs(\"EPSG:4326\")\n",
    "hex_bins = hex_bins.set_crs(\"EPSG:4326\")\n",
    "\n",
    "# Creates query to download OSMNX nodes and edges from the DB\n",
    "# by metropolitan area or capital using the municipality geometry\n",
    "_, nodes_vsc, edges_vsc = aup.graph_from_hippo(mun_gdf, 'osmnx', edges_folder='edges')\n",
    "nodes_analysis = nodes_vsc.reset_index().copy()\n",
    "edges_vsc['length'].fillna(edges_vsc['length'].mean(),inplace=True)\n",
    "\n",
    "#---------------------------------------------------------------------------------------------------------------------------------------------------------\n",
    "print(f\"Downloaded {len(nodes_vsc)} nodes and {len(edges_vsc)} from database for {c}\")\n",
    "print(f\"\")\n",
    "#---------------------------------------------------------------------------------------------------------------------------------------------------------\n",
    "\n",
    "#Creates wkt for query\n",
    "# It will be used to download the POI\n",
    "gdf_tmp = mun_gdf.copy()\n",
    "gdf_tmp = gdf_tmp.to_crs(\"EPSG:6372\")\n",
    "gdf_tmp = gdf_tmp.buffer(1).reset_index()\n",
    "gdf_tmp = gdf_tmp.to_crs(\"EPSG:4326\")\n",
    "poly_wkt = gdf_tmp.dissolve().geometry.to_wkt()[0]\n",
    "\n",
    "#---------------------------------------------------------------------------------------------------------------------------------------------------------\n",
    "print(\"Created wkt based on dissolved polygon\")\n",
    "#---------------------------------------------------------------------------------------------------------------------------------------------------------"
   ]
  },
  {
   "cell_type": "code",
   "execution_count": 40,
   "id": "3ca426d1-a8a6-4720-812f-8009853ddf5e",
   "metadata": {
    "tags": []
   },
   "outputs": [
    {
     "name": "stdout",
     "output_type": "stream",
     "text": [
      "(51448, 4)\n",
      "x                float64\n",
      "y                float64\n",
      "street_count       int64\n",
      "geometry        geometry\n",
      "dtype: object\n"
     ]
    },
    {
     "data": {
      "text/html": [
       "<div>\n",
       "<style scoped>\n",
       "    .dataframe tbody tr th:only-of-type {\n",
       "        vertical-align: middle;\n",
       "    }\n",
       "\n",
       "    .dataframe tbody tr th {\n",
       "        vertical-align: top;\n",
       "    }\n",
       "\n",
       "    .dataframe thead th {\n",
       "        text-align: right;\n",
       "    }\n",
       "</style>\n",
       "<table border=\"1\" class=\"dataframe\">\n",
       "  <thead>\n",
       "    <tr style=\"text-align: right;\">\n",
       "      <th></th>\n",
       "      <th>x</th>\n",
       "      <th>y</th>\n",
       "      <th>street_count</th>\n",
       "      <th>geometry</th>\n",
       "    </tr>\n",
       "    <tr>\n",
       "      <th>osmid</th>\n",
       "      <th></th>\n",
       "      <th></th>\n",
       "      <th></th>\n",
       "      <th></th>\n",
       "    </tr>\n",
       "  </thead>\n",
       "  <tbody>\n",
       "    <tr>\n",
       "      <th>272921360</th>\n",
       "      <td>-102.295073</td>\n",
       "      <td>21.872876</td>\n",
       "      <td>3</td>\n",
       "      <td>POINT (-102.29507 21.87288)</td>\n",
       "    </tr>\n",
       "    <tr>\n",
       "      <th>272921393</th>\n",
       "      <td>-102.295097</td>\n",
       "      <td>21.871411</td>\n",
       "      <td>4</td>\n",
       "      <td>POINT (-102.29510 21.87141)</td>\n",
       "    </tr>\n",
       "  </tbody>\n",
       "</table>\n",
       "</div>"
      ],
      "text/plain": [
       "                    x          y  street_count                     geometry\n",
       "osmid                                                                      \n",
       "272921360 -102.295073  21.872876             3  POINT (-102.29507 21.87288)\n",
       "272921393 -102.295097  21.871411             4  POINT (-102.29510 21.87141)"
      ]
     },
     "execution_count": 40,
     "metadata": {},
     "output_type": "execute_result"
    }
   ],
   "source": [
    "#Show\n",
    "print(nodes_vsc.shape)\n",
    "print(nodes_vsc.dtypes)\n",
    "nodes_vsc.head(2)"
   ]
  },
  {
   "cell_type": "code",
   "execution_count": 41,
   "id": "a10d6745-e43f-476f-b10a-f2d1aa8e643a",
   "metadata": {
    "tags": []
   },
   "outputs": [
    {
     "name": "stdout",
     "output_type": "stream",
     "text": [
      "(121067, 15)\n",
      "osmid         object\n",
      "oneway          bool\n",
      "lanes         object\n",
      "name          object\n",
      "highway       object\n",
      "maxspeed      object\n",
      "length       float64\n",
      "geometry    geometry\n",
      "bridge        object\n",
      "ref           object\n",
      "junction      object\n",
      "tunnel        object\n",
      "access        object\n",
      "width         object\n",
      "service       object\n",
      "dtype: object\n"
     ]
    },
    {
     "data": {
      "text/html": [
       "<div>\n",
       "<style scoped>\n",
       "    .dataframe tbody tr th:only-of-type {\n",
       "        vertical-align: middle;\n",
       "    }\n",
       "\n",
       "    .dataframe tbody tr th {\n",
       "        vertical-align: top;\n",
       "    }\n",
       "\n",
       "    .dataframe thead th {\n",
       "        text-align: right;\n",
       "    }\n",
       "</style>\n",
       "<table border=\"1\" class=\"dataframe\">\n",
       "  <thead>\n",
       "    <tr style=\"text-align: right;\">\n",
       "      <th></th>\n",
       "      <th></th>\n",
       "      <th></th>\n",
       "      <th>osmid</th>\n",
       "      <th>oneway</th>\n",
       "      <th>lanes</th>\n",
       "      <th>name</th>\n",
       "      <th>highway</th>\n",
       "      <th>maxspeed</th>\n",
       "      <th>length</th>\n",
       "      <th>geometry</th>\n",
       "      <th>bridge</th>\n",
       "      <th>ref</th>\n",
       "      <th>junction</th>\n",
       "      <th>tunnel</th>\n",
       "      <th>access</th>\n",
       "      <th>width</th>\n",
       "      <th>service</th>\n",
       "    </tr>\n",
       "    <tr>\n",
       "      <th>u</th>\n",
       "      <th>v</th>\n",
       "      <th>key</th>\n",
       "      <th></th>\n",
       "      <th></th>\n",
       "      <th></th>\n",
       "      <th></th>\n",
       "      <th></th>\n",
       "      <th></th>\n",
       "      <th></th>\n",
       "      <th></th>\n",
       "      <th></th>\n",
       "      <th></th>\n",
       "      <th></th>\n",
       "      <th></th>\n",
       "      <th></th>\n",
       "      <th></th>\n",
       "      <th></th>\n",
       "    </tr>\n",
       "  </thead>\n",
       "  <tbody>\n",
       "    <tr>\n",
       "      <th rowspan=\"2\" valign=\"top\">807059500</th>\n",
       "      <th>8547877099</th>\n",
       "      <th>0</th>\n",
       "      <td>66751891</td>\n",
       "      <td>False</td>\n",
       "      <td>2</td>\n",
       "      <td>Alfonso Esparza Oteo</td>\n",
       "      <td>tertiary</td>\n",
       "      <td>None</td>\n",
       "      <td>6.828</td>\n",
       "      <td>LINESTRING (-102.30495 21.87976, -102.30501 21...</td>\n",
       "      <td>None</td>\n",
       "      <td>None</td>\n",
       "      <td>None</td>\n",
       "      <td>None</td>\n",
       "      <td>None</td>\n",
       "      <td>None</td>\n",
       "      <td>None</td>\n",
       "    </tr>\n",
       "    <tr>\n",
       "      <th>808556292</th>\n",
       "      <th>0</th>\n",
       "      <td>66933086</td>\n",
       "      <td>True</td>\n",
       "      <td>1</td>\n",
       "      <td>Monroy</td>\n",
       "      <td>residential</td>\n",
       "      <td>None</td>\n",
       "      <td>107.437</td>\n",
       "      <td>LINESTRING (-102.30495 21.87976, -102.30484 21...</td>\n",
       "      <td>None</td>\n",
       "      <td>None</td>\n",
       "      <td>None</td>\n",
       "      <td>None</td>\n",
       "      <td>None</td>\n",
       "      <td>None</td>\n",
       "      <td>None</td>\n",
       "    </tr>\n",
       "  </tbody>\n",
       "</table>\n",
       "</div>"
      ],
      "text/plain": [
       "                             osmid  oneway lanes                  name  \\\n",
       "u         v          key                                                 \n",
       "807059500 8547877099 0    66751891   False     2  Alfonso Esparza Oteo   \n",
       "          808556292  0    66933086    True     1                Monroy   \n",
       "\n",
       "                              highway maxspeed   length  \\\n",
       "u         v          key                                  \n",
       "807059500 8547877099 0       tertiary     None    6.828   \n",
       "          808556292  0    residential     None  107.437   \n",
       "\n",
       "                                                                   geometry  \\\n",
       "u         v          key                                                      \n",
       "807059500 8547877099 0    LINESTRING (-102.30495 21.87976, -102.30501 21...   \n",
       "          808556292  0    LINESTRING (-102.30495 21.87976, -102.30484 21...   \n",
       "\n",
       "                         bridge   ref junction tunnel access width service  \n",
       "u         v          key                                                    \n",
       "807059500 8547877099 0     None  None     None   None   None  None    None  \n",
       "          808556292  0     None  None     None   None   None  None    None  "
      ]
     },
     "execution_count": 41,
     "metadata": {},
     "output_type": "execute_result"
    }
   ],
   "source": [
    "#Show\n",
    "print(edges_vsc.shape)\n",
    "print(edges_vsc.dtypes)\n",
    "edges_vsc.head(2)"
   ]
  },
  {
   "cell_type": "code",
   "execution_count": 43,
   "id": "53967c70-a312-419f-98ac-e75c816b6728",
   "metadata": {
    "tags": []
   },
   "outputs": [
    {
     "name": "stdout",
     "output_type": "stream",
     "text": [
      "Downloaded accumulated total of 306 denue_preescolar from database for Aguascalientes\n",
      "Starting range k = 0 of 1\n",
      "           id  codigo_act                     geometry       osmid  \\\n",
      "0     15960.0    611111.0  POINT (-102.27464 21.90191)   961580633   \n",
      "1   7622186.0    611111.0  POINT (-102.26601 21.85971)  2253747737   \n",
      "2     12517.0    611111.0  POINT (-102.28277 21.92966)  1314259696   \n",
      "3   8094021.0    611111.0  POINT (-102.30592 21.92980)  8445106240   \n",
      "4     38424.0    611111.0  POINT (-102.34526 21.95573)  1473239255   \n",
      "..        ...         ...                          ...         ...   \n",
      "82     9729.0    611112.0  POINT (-102.30025 21.84420)  1598969007   \n",
      "83    25050.0    611112.0  POINT (-102.28482 21.99425)  2111890427   \n",
      "84     8570.0    611112.0  POINT (-102.25595 21.88110)  1336972503   \n",
      "85    51889.0    611112.0  POINT (-102.26549 21.93298)  1766943000   \n",
      "86     9537.0    611112.0  POINT (-102.29844 21.84873)  2139312023   \n",
      "\n",
      "    distance_node  \n",
      "0       16.377978  \n",
      "1       71.553289  \n",
      "2       64.469162  \n",
      "3       37.569445  \n",
      "4       51.822225  \n",
      "..            ...  \n",
      "82      50.084692  \n",
      "83     105.064253  \n",
      "84      33.092110  \n",
      "85      61.313880  \n",
      "86      21.833974  \n",
      "\n",
      "[200 rows x 5 columns]\n",
      "Starting range k = 1 of 1\n",
      "            id  codigo_act                     geometry       osmid  \\\n",
      "87     33975.0    611112.0  POINT (-102.29844 21.84873)  2139312023   \n",
      "88     51618.0    611112.0  POINT (-102.27663 21.88714)   867595664   \n",
      "89     22361.0    611112.0  POINT (-102.30518 21.88046)  1210939024   \n",
      "90   7066380.0    611112.0  POINT (-102.26703 21.75119)  4129345370   \n",
      "91      8189.0    611112.0  POINT (-102.27677 21.88030)  5516904859   \n",
      "..         ...         ...                          ...         ...   \n",
      "188     3201.0    611112.0  POINT (-102.34274 21.95680)  1470742081   \n",
      "189    29552.0    611112.0  POINT (-102.24024 21.86414)  1634724440   \n",
      "190  6912202.0    611112.0  POINT (-102.35625 21.77972)  5825424372   \n",
      "191  7066196.0    611112.0  POINT (-102.27428 21.72593)  1252486805   \n",
      "192  6981116.0    611112.0  POINT (-102.24547 21.87010)  1349274663   \n",
      "\n",
      "     distance_node  \n",
      "87       21.475007  \n",
      "88       56.611350  \n",
      "89       12.557610  \n",
      "90       38.043343  \n",
      "91       13.411177  \n",
      "..             ...  \n",
      "188      79.717924  \n",
      "189      18.754057  \n",
      "190      60.196179  \n",
      "191      34.123087  \n",
      "192      21.598502  \n",
      "\n",
      "[106 rows x 5 columns]\n",
      "finished\n",
      "Calculated distance for a TOTAL of 51390 nodes\n"
     ]
    }
   ],
   "source": [
    "nodes_amenities = gpd.GeoDataFrame()\n",
    "i = 0\n",
    "#Starts iterating by type of amenity defined i.e: pharmacies, supermarkets, elementary schools, etc\n",
    "\n",
    "for a in amenities:\n",
    "    #creates empty gdf for the POIs\n",
    "    denue_amenity = gpd.GeoDataFrame()\n",
    "    #Based on the SCIAN code, the POIs will be downloaded from the DB\n",
    "    for cod in amenities[a]:\n",
    "        query = f\"SELECT * FROM denue_nodes.{denue_folder} WHERE (ST_Intersects(geometry, \\'SRID=4326;{poly_wkt}\\')) AND (\\\"codigo_act\\\" = {cod})\"\n",
    "        denue_amenity = denue_amenity.append(aup.gdf_from_query(query, geometry_col='geometry'))\n",
    "    \n",
    "    #-----------------------------------------------------------------------------------------------------------------------------------------------------\n",
    "    print(f\"Downloaded accumulated total of {len(denue_amenity)} {a} from database for {c}\")\n",
    "    #-----------------------------------------------------------------------------------------------------------------------------------------------------\n",
    "    df_temp = nodes_vsc.copy()\n",
    "    nodes_distance = nodes_vsc.copy()   \n",
    "    \n",
    "    ##Added this if in case there are no amenities of the type in the city. Prevents it from \n",
    "    #Crashing if len = 0\n",
    "    if len(denue_amenity) == 0:\n",
    "        nodes_distance['time_'+a] = 0\n",
    "        print(f\"0 {cod} found in {c}\")\n",
    "        ##### This hecks if the number of points is an exact multiple of 250, if it is it will run with segments of 200, in order to avoid a crash.\n",
    "    elif len(denue_amenity) % 250:\n",
    "        #Due to memory constraints, the total number of POIs will be divided in groups of 250\n",
    "        #These will run with the calculate nearest distance poi function by group and will be stored\n",
    "        # to check later\n",
    "        c_denue = len(denue_amenity)/200\n",
    "        \n",
    "        for k in range(int(c_denue)+1):\n",
    "            print(f\"Starting range k = {k} of {int(c_denue)}\")\n",
    "            denue_process = denue_amenity.iloc[int(200*k):int(200*(1+k))].copy()\n",
    "            print(denue_process)\n",
    "            nodes_distance_prep = aup.calculate_distance_nearest_poi(denue_process, nodes_analysis, \n",
    "            edges_vsc, a, 'osmid', wght='length')\n",
    "            #A middle gdf is created whose columns will be the name of the amenity and the group number it belongs to\n",
    "            df_int = pd.DataFrame()\n",
    "            df_int['time_'+str(k)+a] = nodes_distance_prep['dist_'+a]\n",
    "            #The middle gdf is merged into the previously created temporary gdf to store the data\n",
    "            df_temp = df_temp.merge(df_int, left_index=True, right_index=True)\n",
    "        print(f\"finished\")\n",
    "        #Once all groups of 100 are run, we drop the non-distance values from the temporary gdf\n",
    "        df_temp.drop(['x', 'y', 'street_count','geometry'], inplace = True, axis=1)\n",
    "        #We apply the min function to find the minimum value. This value is sent to a new df_min\n",
    "        df_min = pd.DataFrame()\n",
    "        df_min['time_'+a] = df_temp.min(axis=1)\n",
    "        #We merge df_min which contains the shortest distance to the POI with nodes_distance which will store\n",
    "        #all final data\n",
    "        nodes_distance = nodes_distance.merge(df_min, left_index=True, right_index=True)\n",
    "    else:\n",
    "        #Due to memory constraints, the total number of POIs will be divided in groups of 250\n",
    "        #These will run with the calculate nearest distance poi function by group and will be stored\n",
    "        # to check later\n",
    "        c_denue = len(denue_amenity)/250\n",
    "        for k in range(int(c_denue)+1):\n",
    "            print(f\"Starting range k = {k} of {int(c_denue)}\")\n",
    "            denue_process = denue_amenity.iloc[int(250*k):int(250*(1+k))].copy()\n",
    "            nodes_distance_prep = aup.calculate_distance_nearest_poi(denue_process, nodes_analysis, \n",
    "            edges_vsc, a, 'osmid', wght='length')\n",
    "            #A middle gdf is created whose columns will be the name of the amenity and the group number it belongs to\n",
    "            df_int = pd.DataFrame()\n",
    "            df_int['time_'+str(k)+a] = nodes_distance_prep['dist_'+a]\n",
    "            #The middle gdf is merged into the previously created temporary gdf to store the data\n",
    "            df_temp = df_temp.merge(df_int, left_index=True, right_index=True)\n",
    "        print(f\"finished\")\n",
    "        #Once all groups of 100 are run, we drop the non-distance values from the temporary gdf\n",
    "        df_temp.drop(['x', 'y', 'street_count','geometry'], inplace = True, axis=1)\n",
    "        #We apply the min function to find the minimum value. This value is sent to a new df_min\n",
    "        df_min = pd.DataFrame()\n",
    "        df_min['time_'+a] = df_temp.min(axis=1)\n",
    "        #We merge df_min which contains the shortest distance to the POI with nodes_distance which will store\n",
    "        #all final data\n",
    "        nodes_distance = nodes_distance.merge(df_min, left_index=True, right_index=True)\n",
    "\n",
    "    print(f\"Calculated distance for a TOTAL of {len(nodes_distance)} nodes\")"
   ]
  },
  {
   "cell_type": "code",
   "execution_count": 85,
   "id": "dc9a83cf-3771-4ec7-8088-8ee054bb39d7",
   "metadata": {
    "tags": []
   },
   "outputs": [
    {
     "name": "stdout",
     "output_type": "stream",
     "text": [
      "Node ID 842969678 exists.\n"
     ]
    }
   ],
   "source": [
    "unique_node_ids = nodes.index.unique()\n",
    "if 842969678 in unique_node_ids:\n",
    "    print(\"Node ID 842969678 exists.\")\n",
    "else:\n",
    "    print(\"Node ID 842969678 does not exist.\")"
   ]
  },
  {
   "cell_type": "code",
   "execution_count": 86,
   "id": "49714532-cc92-468b-bb88-ac1040bda653",
   "metadata": {
    "tags": []
   },
   "outputs": [
    {
     "name": "stdout",
     "output_type": "stream",
     "text": [
      "                    x          y  street_count                     geometry\n",
      "osmid                                                                      \n",
      "842969678 -102.306902  21.880806             1  POINT (-102.30690 21.88081)\n"
     ]
    }
   ],
   "source": [
    "node = nodes.loc[nodes.index == 842969678]\n",
    "print(node)"
   ]
  },
  {
   "cell_type": "code",
   "execution_count": 89,
   "id": "b14c1fa2-0ce7-4ea7-a031-bcd5c0ba720a",
   "metadata": {
    "tags": []
   },
   "outputs": [],
   "source": [
    "node.reset_index(inplace=True)"
   ]
  },
  {
   "cell_type": "code",
   "execution_count": 90,
   "id": "d5102dd9-2c11-4b8a-a380-9b15a82a13a8",
   "metadata": {
    "tags": []
   },
   "outputs": [
    {
     "data": {
      "text/plain": [
       "osmid              int64\n",
       "x                float64\n",
       "y                float64\n",
       "street_count       int64\n",
       "geometry        geometry\n",
       "dtype: object"
      ]
     },
     "execution_count": 90,
     "metadata": {},
     "output_type": "execute_result"
    }
   ],
   "source": [
    "node.dtypes"
   ]
  },
  {
   "cell_type": "code",
   "execution_count": 94,
   "id": "f2d158d0-aff6-4b8d-a8da-49dfb1964b25",
   "metadata": {
    "tags": []
   },
   "outputs": [
    {
     "name": "stdout",
     "output_type": "stream",
     "text": [
      "            u          v  key                  osmid  oneway lanes  \\\n",
      "60  842969672  842969678    0  [838350824, 70657783]   False  None   \n",
      "62  842969678  842969672    0  [838350824, 70657783]   False  None   \n",
      "\n",
      "                 name      highway maxspeed  length  \\\n",
      "60  2a Privada Rincon  residential     None  57.273   \n",
      "62  2a Privada Rincon  residential     None  57.273   \n",
      "\n",
      "                                             geometry bridge   ref junction  \\\n",
      "60  LINESTRING (-102.30745 21.88074, -102.30737 21...   None  None     None   \n",
      "62  LINESTRING (-102.30690 21.88081, -102.30737 21...   None  None     None   \n",
      "\n",
      "   tunnel   access width service  \n",
      "60   None  private  None    None  \n",
      "62   None  private  None    None  \n"
     ]
    }
   ],
   "source": [
    "edges_prueba = edges.reset_index()\n",
    "edges_with_node = edges_prueba[(edges_prueba['u'] == 842969678) | (edges_prueba['v'] == 842969678)]\n",
    "print(edges_with_node)"
   ]
  },
  {
   "cell_type": "markdown",
   "id": "de961409-0721-4108-9647-40c5963195ab",
   "metadata": {},
   "source": [
    "## Not Used"
   ]
  },
  {
   "cell_type": "code",
   "execution_count": 11,
   "id": "c9364ce5-ff36-4006-ae90-89de9c0b194c",
   "metadata": {
    "tags": []
   },
   "outputs": [],
   "source": [
    "# Create hexgrid\n",
    "#hexgrid = aup.create_hexgrid(aoi,8)\n",
    "\n",
    "# Define projections for municipalities and hexgrids\n",
    "#aoi = aoi.set_crs(\"EPSG:4326\")\n",
    "#hexgrid = hexgrid.set_crs(\"EPSG:4326\")"
   ]
  },
  {
   "cell_type": "code",
   "execution_count": null,
   "id": "ed3d96c0-a984-49d5-b20d-4ec478f6b927",
   "metadata": {},
   "outputs": [],
   "source": []
  }
 ],
 "metadata": {
  "kernelspec": {
   "display_name": "Python 3 (ipykernel)",
   "language": "python",
   "name": "python3"
  },
  "language_info": {
   "codemirror_mode": {
    "name": "ipython",
    "version": 3
   },
   "file_extension": ".py",
   "mimetype": "text/x-python",
   "name": "python",
   "nbconvert_exporter": "python",
   "pygments_lexer": "ipython3",
   "version": "3.10.5"
  }
 },
 "nbformat": 4,
 "nbformat_minor": 5
}
