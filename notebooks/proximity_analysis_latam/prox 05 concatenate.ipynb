{
 "cells": [
  {
   "cell_type": "markdown",
   "id": "187cd46a-5e58-4292-a4f9-34f9f19d9e7e",
   "metadata": {},
   "source": [
    "## Import libraries"
   ]
  },
  {
   "cell_type": "code",
   "execution_count": 1,
   "id": "779e2272-7f0c-432b-bdd0-a68b7feeb000",
   "metadata": {
    "tags": []
   },
   "outputs": [
    {
     "name": "stderr",
     "output_type": "stream",
     "text": [
      "/usr/local/python/lib/python3.10/site-packages/osmnx/utils.py:192: UserWarning: The `utils.config` function is deprecated and will be removed in a future release. Instead, use the `settings` module directly to configure a global setting's value. For example, `ox.settings.log_console=True`.\n",
      "  warnings.warn(\n"
     ]
    }
   ],
   "source": [
    "import os\n",
    "import sys\n",
    "\n",
    "import pandas as pd\n",
    "import geopandas as gpd\n",
    "import osmnx as ox\n",
    "import numpy as np\n",
    "\n",
    "import matplotlib.pyplot as plt\n",
    "import seaborn as sns\n",
    "\n",
    "import warnings\n",
    "warnings.simplefilter(action='ignore', category=FutureWarning)\n",
    "\n",
    "module_path = os.path.abspath(os.path.join('../../'))\n",
    "if module_path not in sys.path:\n",
    "    sys.path.append(module_path)\n",
    "    import aup"
   ]
  },
  {
   "cell_type": "code",
   "execution_count": 2,
   "id": "19fbe058-22ec-42cb-a506-eaf015a710ed",
   "metadata": {},
   "outputs": [],
   "source": [
    "save = True\n",
    "save_space = True"
   ]
  },
  {
   "cell_type": "markdown",
   "id": "963c0f12-c90c-410c-8b63-c5a152e8a065",
   "metadata": {},
   "source": [
    "## Step 1: Download OSMnx network (G, nodes and edges)"
   ]
  },
  {
   "cell_type": "markdown",
   "id": "130d607e-83d2-453d-ab43-42e62fe5b217",
   "metadata": {},
   "source": [
    "### Step 1 - Required data - Directories"
   ]
  },
  {
   "cell_type": "code",
   "execution_count": 3,
   "id": "f4ce0667-f763-48b8-9ca9-0ca3bdfabf7a",
   "metadata": {},
   "outputs": [],
   "source": [
    "aoi_dir = \"../../data/external/prox_latam/aoi_ags.gpkg\"\n",
    "nodes_save_dir = '../../data/external/temporal_fromjupyter/01_nodes_concat.gpkg'\n",
    "edges_save_dir = '../../data/external/temporal_fromjupyter/01_edges_concat.gpkg'"
   ]
  },
  {
   "cell_type": "markdown",
   "id": "3e5f51da-3d20-46a0-8235-a232aa74adb1",
   "metadata": {},
   "source": [
    "### Step 1 - Required data - Area of Interest"
   ]
  },
  {
   "cell_type": "code",
   "execution_count": 4,
   "id": "4add3f12-b2c5-4b97-a656-340fbef6c5ee",
   "metadata": {
    "tags": []
   },
   "outputs": [
    {
     "data": {
      "text/plain": [
       "<Axes: >"
      ]
     },
     "execution_count": 4,
     "metadata": {},
     "output_type": "execute_result"
    },
    {
     "data": {
      "image/png": "[encoded data removed]",
      "text/plain": [
       "<Figure size 640x480 with 1 Axes>"
      ]
     },
     "metadata": {},
     "output_type": "display_data"
    }
   ],
   "source": [
    "aoi = gpd.read_file(aoi_dir)\n",
    "\n",
    "#Show\n",
    "aoi.plot()"
   ]
  },
  {
   "cell_type": "markdown",
   "id": "b6e9fdc4-2432-431a-817c-b6cfe0765ab2",
   "metadata": {},
   "source": [
    "### Step 1: Code"
   ]
  },
  {
   "cell_type": "code",
   "execution_count": 5,
   "id": "737c706e-a9d8-4372-acb2-f3df0f7fe733",
   "metadata": {
    "tags": []
   },
   "outputs": [],
   "source": [
    "def download_osmnx(aoi, save_space = True):\n",
    "    #Read area of interest as a polygon\n",
    "    poly = aoi.geometry\n",
    "\n",
    "    # Extracts coordinates from polygon as DataFrame\n",
    "    coord_val = poly.bounds\n",
    "\n",
    "    # Gets coordinates for bounding box\n",
    "    n = coord_val.maxy.max()\n",
    "    s = coord_val.miny.min()\n",
    "    e = coord_val.maxx.max()\n",
    "    w = coord_val.minx.min()\n",
    "\n",
    "    #-----------------------------------------------------------------------------------------------------------------------------------------------------\n",
    "    print(f\"Extracted min and max coordinates from the municipality. Polygon N:{round(n,5)}, S:{round(s,5)}, E{round(e,5)}, W{round(w,5)}.\")\n",
    "    #-----------------------------------------------------------------------------------------------------------------------------------------------------\n",
    "\n",
    "    # Downloads OSMnx graph from bounding box\n",
    "    G = ox.graph_from_bbox(n, s, e, w, network_type=\"all_private\")\n",
    "\n",
    "    #-----------------------------------------------------------------------------------------------------------------------------------------------------\n",
    "    print(\"Downloaded data from OSMnx.\")\n",
    "    #-----------------------------------------------------------------------------------------------------------------------------------------------------\n",
    "\n",
    "    #Transforms graph to nodes and edges Geodataframe\n",
    "    nodes, edges = ox.graph_to_gdfs(G)\n",
    "\n",
    "    #Resets index to access osmid as a column\n",
    "    nodes.reset_index(inplace=True)\n",
    "\n",
    "    #Resets index to acces u and v as columns\n",
    "    edges.reset_index(inplace=True)\n",
    "\n",
    "    #-----------------------------------------------------------------------------------------------------------------------------------------------------\n",
    "    print(f\"Converted OSMnx graph to {len(nodes)} nodes and {len(edges)} edges GeoDataFrame.\")\n",
    "    #-----------------------------------------------------------------------------------------------------------------------------------------------------\n",
    "\n",
    "    # Defines columns of interest for nodes and edges\n",
    "    nodes_columns = [\"osmid\", \"x\", \"y\", \"street_count\", \"geometry\"]\n",
    "    edges_columns = [\n",
    "        \"osmid\",\n",
    "        \"v\",\n",
    "        \"u\",\n",
    "        \"key\",\n",
    "        \"oneway\",\n",
    "        \"lanes\",\n",
    "        \"name\",\n",
    "        \"highway\",\n",
    "        \"maxspeed\",\n",
    "        \"length\",\n",
    "        \"geometry\",\n",
    "        \"bridge\",\n",
    "        \"ref\",\n",
    "        \"junction\",\n",
    "        \"tunnel\",\n",
    "        \"access\",\n",
    "        \"width\",\n",
    "        \"service\",\n",
    "    ]\n",
    "\n",
    "    # if column doesn't exist it creates it as nan\n",
    "    for c in nodes_columns:\n",
    "        if c not in nodes.columns:\n",
    "            nodes[c] = np.nan\n",
    "            #---------------------------------------------------------------------------------------------------------------------------------------------\n",
    "            print(f\"Added column {c} for nodes.\")\n",
    "            #---------------------------------------------------------------------------------------------------------------------------------------------\n",
    "\n",
    "    for c in edges_columns:\n",
    "        if c not in edges.columns:\n",
    "            edges[c] = np.nan\n",
    "            #---------------------------------------------------------------------------------------------------------------------------------------------\n",
    "            print(f\"Added column {c} for edges.\")\n",
    "            #---------------------------------------------------------------------------------------------------------------------------------------------\n",
    "\n",
    "    # Filters GeoDataFrames for relevant columns\n",
    "    nodes = nodes[nodes_columns]\n",
    "    edges = edges[edges_columns]\n",
    "    #-----------------------------------------------------------------------------------------------------------------------------------------------------\n",
    "    print(\"Filtered columns.\")\n",
    "    #-----------------------------------------------------------------------------------------------------------------------------------------------------\n",
    "    \n",
    "    # Converts columns with lists to strings to allow saving to local and further processes.\n",
    "    for col in nodes.columns:\n",
    "        if any(isinstance(val, list) for val in nodes[col]):\n",
    "            nodes[col] = nodes[col].astype('string')\n",
    "            #---------------------------------------------------------------------------------------------------------------------------------------------\n",
    "            print(f\"Column: {col} in nodes gdf, has a list in it, the column data was converted to string.\")\n",
    "            #---------------------------------------------------------------------------------------------------------------------------------------------\n",
    "    \n",
    "    for col in edges.columns:\n",
    "        if any(isinstance(val, list) for val in edges[col]):\n",
    "            edges[col] = edges[col].astype('string')\n",
    "            #---------------------------------------------------------------------------------------------------------------------------------------------\n",
    "            print(f\"Column: {col} in nodes gdf, has a list in it, the column data was converted to string.\")\n",
    "            #---------------------------------------------------------------------------------------------------------------------------------------------\n",
    "    \n",
    "    # Saves space in disk if instructed\n",
    "    if save_space:\n",
    "        del nodes_columns\n",
    "        del edges_columns\n",
    "        del c\n",
    "        #-------------------------------------------------------------------------------------------------------------------------------------------------\n",
    "        print(\"Saved space by deleting used data.\")\n",
    "        #-------------------------------------------------------------------------------------------------------------------------------------------------\n",
    "    \n",
    "    return G,nodes,edges"
   ]
  },
  {
   "cell_type": "code",
   "execution_count": 6,
   "id": "1df9b7a6-4309-4896-b36f-eab858cf2e38",
   "metadata": {
    "tags": []
   },
   "outputs": [
    {
     "name": "stdout",
     "output_type": "stream",
     "text": [
      "Extracted min and max coordinates from the municipality. Polygon N:22.10033, S:21.62227, E-102.06451, W-102.59887.\n",
      "Downloaded data from OSMnx.\n",
      "Converted OSMnx graph to 60233 nodes and 142263 edges GeoDataFrame.\n",
      "Filtered columns.\n",
      "Column: osmid in nodes gdf, has a list in it, the column data was converted to string.\n",
      "Column: lanes in nodes gdf, has a list in it, the column data was converted to string.\n",
      "Column: name in nodes gdf, has a list in it, the column data was converted to string.\n",
      "Column: highway in nodes gdf, has a list in it, the column data was converted to string.\n",
      "Column: maxspeed in nodes gdf, has a list in it, the column data was converted to string.\n",
      "Column: ref in nodes gdf, has a list in it, the column data was converted to string.\n",
      "Saved space by deleting used data.\n"
     ]
    }
   ],
   "source": [
    "G, nodes, edges = download_osmnx(aoi, save_space = save_space)"
   ]
  },
  {
   "cell_type": "code",
   "execution_count": 7,
   "id": "34557d56-a0d2-4723-8fd5-0c189a6cd746",
   "metadata": {
    "tags": []
   },
   "outputs": [],
   "source": [
    "if save:\n",
    "    nodes.to_file(nodes_save_dir, driver='GPKG')\n",
    "    edges.to_file(edges_save_dir, driver='GPKG')"
   ]
  },
  {
   "cell_type": "markdown",
   "id": "b4f180d5-54c7-4948-ac9e-85f8c83914ed",
   "metadata": {},
   "source": [
    "## Step 2: Calculate distance from each poi to nearest node (osmid)"
   ]
  },
  {
   "cell_type": "markdown",
   "id": "8d85059e-85b9-4d40-98dc-85cc01e4d86c",
   "metadata": {},
   "source": [
    "### Step 2 - Required data - Directories"
   ]
  },
  {
   "cell_type": "code",
   "execution_count": 8,
   "id": "a488729c-fb85-494d-b4de-d88bfb116c08",
   "metadata": {},
   "outputs": [],
   "source": [
    "pois_dir = \"../../data/external/prox_latam/pois_ags.gpkg\"\n",
    "nearest_save_dir = '../../data/external/temporal_fromjupyter/02_pois_distance_node_concat.gpkg'"
   ]
  },
  {
   "cell_type": "markdown",
   "id": "e5113c7f-4630-405d-941e-f679263469bf",
   "metadata": {},
   "source": [
    "### Step 2- Required data - Points of Interest"
   ]
  },
  {
   "cell_type": "code",
   "execution_count": 9,
   "id": "3a3cfd70-1578-4157-a290-46c4df58ac5c",
   "metadata": {
    "tags": []
   },
   "outputs": [
    {
     "name": "stdout",
     "output_type": "stream",
     "text": [
      "(20792, 2)\n"
     ]
    },
    {
     "data": {
      "text/html": [
       "<div>\n",
       "<style scoped>\n",
       "    .dataframe tbody tr th:only-of-type {\n",
       "        vertical-align: middle;\n",
       "    }\n",
       "\n",
       "    .dataframe tbody tr th {\n",
       "        vertical-align: top;\n",
       "    }\n",
       "\n",
       "    .dataframe thead th {\n",
       "        text-align: right;\n",
       "    }\n",
       "</style>\n",
       "<table border=\"1\" class=\"dataframe\">\n",
       "  <thead>\n",
       "    <tr style=\"text-align: right;\">\n",
       "      <th></th>\n",
       "      <th>code</th>\n",
       "      <th>geometry</th>\n",
       "    </tr>\n",
       "  </thead>\n",
       "  <tbody>\n",
       "    <tr>\n",
       "      <th>0</th>\n",
       "      <td>611111</td>\n",
       "      <td>POINT (-102.27464 21.90191)</td>\n",
       "    </tr>\n",
       "    <tr>\n",
       "      <th>1</th>\n",
       "      <td>611111</td>\n",
       "      <td>POINT (-102.26601 21.85971)</td>\n",
       "    </tr>\n",
       "  </tbody>\n",
       "</table>\n",
       "</div>"
      ],
      "text/plain": [
       "     code                     geometry\n",
       "0  611111  POINT (-102.27464 21.90191)\n",
       "1  611111  POINT (-102.26601 21.85971)"
      ]
     },
     "execution_count": 9,
     "metadata": {},
     "output_type": "execute_result"
    }
   ],
   "source": [
    "pois = gpd.read_file(pois_dir)\n",
    "\n",
    "#Show\n",
    "print(pois.shape)\n",
    "pois.head(2)"
   ]
  },
  {
   "cell_type": "markdown",
   "id": "81c662dc-97c4-44d2-825b-0fb5f39b6c52",
   "metadata": {},
   "source": [
    "### Step 2 - Code"
   ]
  },
  {
   "cell_type": "code",
   "execution_count": 10,
   "id": "73ddda5b-81ac-4271-afcd-2aa7efa9fce8",
   "metadata": {
    "tags": []
   },
   "outputs": [
    {
     "name": "stdout",
     "output_type": "stream",
     "text": [
      "Calculated distances from pois to nearest node.\n"
     ]
    }
   ],
   "source": [
    "# Format to calculate nearest\n",
    "pois = pois.set_crs(\"EPSG:4326\")\n",
    "nodes_gdf = nodes.set_crs(\"EPSG:4326\")\n",
    "edges_gdf = edges.set_crs(\"EPSG:4326\")\n",
    "\n",
    "nodes_gdf = nodes_gdf.set_index('osmid')\n",
    "edges_gdf = edges_gdf.set_index([\"u\", \"v\", \"key\"])\n",
    "\n",
    "# Calculate nearest\n",
    "nearest = aup.find_nearest(G, nodes_gdf, pois, return_distance= True)\n",
    "\n",
    "#---------------------------------------------------------------------------------------------------------------------------------------------------------\n",
    "print(\"Calculated distances from pois to nearest node.\")\n",
    "#---------------------------------------------------------------------------------------------------------------------------------------------------------"
   ]
  },
  {
   "cell_type": "markdown",
   "id": "2be44a58-1301-4337-99fc-05252a827d1a",
   "metadata": {},
   "source": [
    "### Step 2 - Compare data"
   ]
  },
  {
   "cell_type": "code",
   "execution_count": 11,
   "id": "823666bc-7e15-427b-a3b6-4444d3a88207",
   "metadata": {
    "tags": []
   },
   "outputs": [
    {
     "name": "stdout",
     "output_type": "stream",
     "text": [
      "(20792, 4)\n"
     ]
    },
    {
     "data": {
      "text/html": [
       "<div>\n",
       "<style scoped>\n",
       "    .dataframe tbody tr th:only-of-type {\n",
       "        vertical-align: middle;\n",
       "    }\n",
       "\n",
       "    .dataframe tbody tr th {\n",
       "        vertical-align: top;\n",
       "    }\n",
       "\n",
       "    .dataframe thead th {\n",
       "        text-align: right;\n",
       "    }\n",
       "</style>\n",
       "<table border=\"1\" class=\"dataframe\">\n",
       "  <thead>\n",
       "    <tr style=\"text-align: right;\">\n",
       "      <th></th>\n",
       "      <th>code</th>\n",
       "      <th>geometry</th>\n",
       "      <th>osmid</th>\n",
       "      <th>distance_node</th>\n",
       "    </tr>\n",
       "  </thead>\n",
       "  <tbody>\n",
       "    <tr>\n",
       "      <th>0</th>\n",
       "      <td>611111</td>\n",
       "      <td>POINT (-102.27464 21.90191)</td>\n",
       "      <td>961580633</td>\n",
       "      <td>16.377978</td>\n",
       "    </tr>\n",
       "    <tr>\n",
       "      <th>1</th>\n",
       "      <td>611111</td>\n",
       "      <td>POINT (-102.26601 21.85971)</td>\n",
       "      <td>2253747737</td>\n",
       "      <td>71.553289</td>\n",
       "    </tr>\n",
       "  </tbody>\n",
       "</table>\n",
       "</div>"
      ],
      "text/plain": [
       "     code                     geometry       osmid  distance_node\n",
       "0  611111  POINT (-102.27464 21.90191)   961580633      16.377978\n",
       "1  611111  POINT (-102.26601 21.85971)  2253747737      71.553289"
      ]
     },
     "execution_count": 11,
     "metadata": {},
     "output_type": "execute_result"
    }
   ],
   "source": [
    "#Show\n",
    "print(nearest.shape)\n",
    "nearest.head(2)"
   ]
  },
  {
   "cell_type": "code",
   "execution_count": 12,
   "id": "3719e831-6a63-48e7-b1ee-c4ce629517d7",
   "metadata": {
    "tags": []
   },
   "outputs": [
    {
     "data": {
      "text/plain": [
       "517514.431670162"
      ]
     },
     "execution_count": 12,
     "metadata": {},
     "output_type": "execute_result"
    }
   ],
   "source": [
    "nearest.distance_node.sum()"
   ]
  },
  {
   "cell_type": "code",
   "execution_count": 13,
   "id": "382955a2-ac90-4fec-8c63-cb4f92d410f0",
   "metadata": {
    "tags": []
   },
   "outputs": [
    {
     "data": {
      "text/plain": [
       "52307150069060"
      ]
     },
     "execution_count": 13,
     "metadata": {},
     "output_type": "execute_result"
    }
   ],
   "source": [
    "nearest.osmid.sum()"
   ]
  },
  {
   "cell_type": "code",
   "execution_count": 14,
   "id": "ad0a7f84-9aa5-4006-ad04-d783a873bc58",
   "metadata": {},
   "outputs": [],
   "source": [
    "if save:\n",
    "    nearest.to_file(nearest_save_dir, driver='GPKG')"
   ]
  },
  {
   "cell_type": "markdown",
   "id": "da178102-647c-4d3a-b322-8bb9d937cfcb",
   "metadata": {},
   "source": [
    "## Step 3: Calculate distance to nearest source amenity for each node"
   ]
  },
  {
   "cell_type": "markdown",
   "id": "a6521026-373e-4bc1-8275-400d9c72c0bf",
   "metadata": {},
   "source": [
    "### Step 3 - Required data - Directories"
   ]
  },
  {
   "cell_type": "code",
   "execution_count": 15,
   "id": "bb0a9da5-8e9c-4ea3-8eb3-6d57e63749fa",
   "metadata": {},
   "outputs": [],
   "source": [
    "nodesproximity_save_dir = '../../data/external/temporal_fromjupyter/03_nodes_proximity_2020_concat.gpkg'"
   ]
  },
  {
   "cell_type": "markdown",
   "id": "5e70a730-1c02-4a6c-9692-6c9e2635bd6a",
   "metadata": {},
   "source": [
    "### Step 3 - Required data - Name of area of interest"
   ]
  },
  {
   "cell_type": "code",
   "execution_count": 16,
   "id": "feacc04e-7b3c-44b8-9f50-e16969f037d6",
   "metadata": {
    "tags": []
   },
   "outputs": [],
   "source": [
    "city = 'Aguascalientes'"
   ]
  },
  {
   "cell_type": "markdown",
   "id": "702a26e7-5261-4394-840e-5b63e0ad549d",
   "metadata": {},
   "source": [
    "### Step 3 - Required data - Source dictionary"
   ]
  },
  {
   "cell_type": "code",
   "execution_count": 17,
   "id": "214c6723-cdf0-4e39-97c9-1904cef480ef",
   "metadata": {
    "tags": []
   },
   "outputs": [],
   "source": [
    "sources = { \n",
    "    #Preescolar\n",
    "    'denue_preescolar':[611111, 611112],\n",
    "    #Primaria\n",
    "    'denue_primaria':[611121, 611122],\n",
    "    #Secundaria\n",
    "    'denue_secundaria':[611131, 611132],\n",
    "    #Salud\n",
    "    'clues_primer_nivel':[8610],\n",
    "    #Guarderías\n",
    "    'denue_guarderias':[624411, 624412],\n",
    "    #Asistencia social\n",
    "    'denue_dif':[931610],\n",
    "    #Alimentos\n",
    "    'denue_supermercado':[462111],'denue_abarrotes':[461110], 'denue_carnicerias': [461121, 461122, 461123],'sip_mercado':[4721],\n",
    "    #Personal       \n",
    "    'denue_peluqueria':[812110],\n",
    "    #Farmacias       \n",
    "    'denue_farmacias':[464111, 464112],\n",
    "    #Hogar       \n",
    "    'denue_ferreteria_tlapaleria':[467111],'denue_art_limpieza':[467115],\n",
    "    #Complementarios\n",
    "    'denue_ropa':[463211, 463212, 463213, 463215, 463216, 463218],'denue_calzado':[463310], 'denue_muebles':[466111, 466112, 466113, 466114],'denue_lavanderia':[812210],'denue_revistas_periodicos':[465313],'denue_pintura':[467113],\n",
    "    #Social\n",
    "    'denue_restaurante_insitu':[722511, 722512, 722513, 722514, 722519],'denue_restaurante_llevar':[722516, 722518, 722517],'denue_bares':[722412],'denue_cafe':[722515],\n",
    "    #Actividad física       \n",
    "    'sip_cancha':[93110],'sip_unidad_deportiva':[93111],'sip_espacio_publico':[9321],'denue_parque_natural':[712190],\n",
    "    #Cultural       \n",
    "    'denue_cines':[512130],'denue_museos':[712111, 712112]}"
   ]
  },
  {
   "cell_type": "markdown",
   "id": "00571593-b366-454e-929d-de2800954258",
   "metadata": {},
   "source": [
    "### Step 3 - Code"
   ]
  },
  {
   "cell_type": "code",
   "execution_count": 18,
   "id": "f3f17f00-fa07-44fe-a153-7bc9344c6b26",
   "metadata": {
    "tags": []
   },
   "outputs": [
    {
     "name": "stdout",
     "output_type": "stream",
     "text": [
      "Loaded a total of 306 points of interest of the source denue_preescolar for analisis.\n",
      "Starting range k = 0 of 1 for source denue_preescolar.\n",
      "Starting range k = 1 of 1 for source denue_preescolar.\n",
      "Calculated time from nodes to pois for a total of 60233 nodes for source denue_preescolar.\n",
      "Applying final formating to calculated nodes.\n",
      "Added time for source denue_preescolar to nodes_sources.\n",
      "Loaded a total of 309 points of interest of the source denue_primaria for analisis.\n",
      "Starting range k = 0 of 1 for source denue_primaria.\n",
      "Starting range k = 1 of 1 for source denue_primaria.\n",
      "Calculated time from nodes to pois for a total of 60233 nodes for source denue_primaria.\n",
      "Applying final formating to calculated nodes.\n",
      "Added time for source denue_primaria to nodes_sources.\n",
      "Loaded a total of 70 points of interest of the source denue_secundaria for analisis.\n",
      "Starting range k = 0 of 0 for source denue_secundaria.\n",
      "Calculated time from nodes to pois for a total of 60233 nodes for source denue_secundaria.\n",
      "Applying final formating to calculated nodes.\n",
      "Added time for source denue_secundaria to nodes_sources.\n",
      "Loaded a total of 132 points of interest of the source clues_primer_nivel for analisis.\n",
      "Starting range k = 0 of 0 for source clues_primer_nivel.\n",
      "Calculated time from nodes to pois for a total of 60233 nodes for source clues_primer_nivel.\n",
      "Applying final formating to calculated nodes.\n",
      "Added time for source clues_primer_nivel to nodes_sources.\n",
      "Loaded a total of 167 points of interest of the source denue_guarderias for analisis.\n",
      "Starting range k = 0 of 0 for source denue_guarderias.\n",
      "Calculated time from nodes to pois for a total of 60233 nodes for source denue_guarderias.\n",
      "Applying final formating to calculated nodes.\n",
      "Added time for source denue_guarderias to nodes_sources.\n",
      "Loaded a total of 103 points of interest of the source denue_dif for analisis.\n",
      "Starting range k = 0 of 0 for source denue_dif.\n",
      "Calculated time from nodes to pois for a total of 60233 nodes for source denue_dif.\n",
      "Applying final formating to calculated nodes.\n",
      "Added time for source denue_dif to nodes_sources.\n",
      "Loaded a total of 59 points of interest of the source denue_supermercado for analisis.\n",
      "Starting range k = 0 of 0 for source denue_supermercado.\n",
      "Calculated time from nodes to pois for a total of 60233 nodes for source denue_supermercado.\n",
      "Applying final formating to calculated nodes.\n",
      "Added time for source denue_supermercado to nodes_sources.\n",
      "Loaded a total of 3957 points of interest of the source denue_abarrotes for analisis.\n",
      "Starting range k = 0 of 19 for source denue_abarrotes.\n",
      "Starting range k = 1 of 19 for source denue_abarrotes.\n",
      "Starting range k = 2 of 19 for source denue_abarrotes.\n",
      "Starting range k = 3 of 19 for source denue_abarrotes.\n",
      "Starting range k = 4 of 19 for source denue_abarrotes.\n",
      "Starting range k = 5 of 19 for source denue_abarrotes.\n",
      "Starting range k = 6 of 19 for source denue_abarrotes.\n",
      "Starting range k = 7 of 19 for source denue_abarrotes.\n",
      "Starting range k = 8 of 19 for source denue_abarrotes.\n",
      "Starting range k = 9 of 19 for source denue_abarrotes.\n",
      "Starting range k = 10 of 19 for source denue_abarrotes.\n",
      "Starting range k = 11 of 19 for source denue_abarrotes.\n",
      "Starting range k = 12 of 19 for source denue_abarrotes.\n",
      "Starting range k = 13 of 19 for source denue_abarrotes.\n",
      "Starting range k = 14 of 19 for source denue_abarrotes.\n",
      "Starting range k = 15 of 19 for source denue_abarrotes.\n",
      "Starting range k = 16 of 19 for source denue_abarrotes.\n",
      "Starting range k = 17 of 19 for source denue_abarrotes.\n",
      "Starting range k = 18 of 19 for source denue_abarrotes.\n",
      "Starting range k = 19 of 19 for source denue_abarrotes.\n",
      "Calculated time from nodes to pois for a total of 60233 nodes for source denue_abarrotes.\n",
      "Applying final formating to calculated nodes.\n",
      "Added time for source denue_abarrotes to nodes_sources.\n",
      "Loaded a total of 728 points of interest of the source denue_carnicerias for analisis.\n",
      "Starting range k = 0 of 3 for source denue_carnicerias.\n",
      "Starting range k = 1 of 3 for source denue_carnicerias.\n",
      "Starting range k = 2 of 3 for source denue_carnicerias.\n",
      "Starting range k = 3 of 3 for source denue_carnicerias.\n",
      "Calculated time from nodes to pois for a total of 60233 nodes for source denue_carnicerias.\n",
      "Applying final formating to calculated nodes.\n",
      "Added time for source denue_carnicerias to nodes_sources.\n",
      "Loaded a total of 30 points of interest of the source sip_mercado for analisis.\n",
      "Starting range k = 0 of 0 for source sip_mercado.\n",
      "Calculated time from nodes to pois for a total of 60233 nodes for source sip_mercado.\n",
      "Applying final formating to calculated nodes.\n",
      "Added time for source sip_mercado to nodes_sources.\n",
      "Loaded a total of 2549 points of interest of the source denue_peluqueria for analisis.\n",
      "Starting range k = 0 of 12 for source denue_peluqueria.\n",
      "Starting range k = 1 of 12 for source denue_peluqueria.\n",
      "Starting range k = 2 of 12 for source denue_peluqueria.\n",
      "Starting range k = 3 of 12 for source denue_peluqueria.\n",
      "Starting range k = 4 of 12 for source denue_peluqueria.\n",
      "Starting range k = 5 of 12 for source denue_peluqueria.\n",
      "Starting range k = 6 of 12 for source denue_peluqueria.\n",
      "Starting range k = 7 of 12 for source denue_peluqueria.\n",
      "Starting range k = 8 of 12 for source denue_peluqueria.\n",
      "Starting range k = 9 of 12 for source denue_peluqueria.\n",
      "Starting range k = 10 of 12 for source denue_peluqueria.\n",
      "Starting range k = 11 of 12 for source denue_peluqueria.\n",
      "Starting range k = 12 of 12 for source denue_peluqueria.\n",
      "Calculated time from nodes to pois for a total of 60233 nodes for source denue_peluqueria.\n",
      "Applying final formating to calculated nodes.\n",
      "Added time for source denue_peluqueria to nodes_sources.\n",
      "Loaded a total of 386 points of interest of the source denue_farmacias for analisis.\n",
      "Starting range k = 0 of 1 for source denue_farmacias.\n",
      "Starting range k = 1 of 1 for source denue_farmacias.\n",
      "Calculated time from nodes to pois for a total of 60233 nodes for source denue_farmacias.\n",
      "Applying final formating to calculated nodes.\n",
      "Added time for source denue_farmacias to nodes_sources.\n",
      "Loaded a total of 635 points of interest of the source denue_ferreteria_tlapaleria for analisis.\n",
      "Starting range k = 0 of 3 for source denue_ferreteria_tlapaleria.\n",
      "Starting range k = 1 of 3 for source denue_ferreteria_tlapaleria.\n",
      "Starting range k = 2 of 3 for source denue_ferreteria_tlapaleria.\n",
      "Starting range k = 3 of 3 for source denue_ferreteria_tlapaleria.\n",
      "Calculated time from nodes to pois for a total of 60233 nodes for source denue_ferreteria_tlapaleria.\n",
      "Applying final formating to calculated nodes.\n",
      "Added time for source denue_ferreteria_tlapaleria to nodes_sources.\n",
      "Loaded a total of 406 points of interest of the source denue_art_limpieza for analisis.\n",
      "Starting range k = 0 of 2 for source denue_art_limpieza.\n",
      "Starting range k = 1 of 2 for source denue_art_limpieza.\n",
      "Starting range k = 2 of 2 for source denue_art_limpieza.\n",
      "Calculated time from nodes to pois for a total of 60233 nodes for source denue_art_limpieza.\n",
      "Applying final formating to calculated nodes.\n",
      "Added time for source denue_art_limpieza to nodes_sources.\n",
      "Loaded a total of 2060 points of interest of the source denue_ropa for analisis.\n",
      "Starting range k = 0 of 10 for source denue_ropa.\n",
      "Starting range k = 1 of 10 for source denue_ropa.\n",
      "Starting range k = 2 of 10 for source denue_ropa.\n",
      "Starting range k = 3 of 10 for source denue_ropa.\n",
      "Starting range k = 4 of 10 for source denue_ropa.\n",
      "Starting range k = 5 of 10 for source denue_ropa.\n",
      "Starting range k = 6 of 10 for source denue_ropa.\n",
      "Starting range k = 7 of 10 for source denue_ropa.\n",
      "Starting range k = 8 of 10 for source denue_ropa.\n",
      "Starting range k = 9 of 10 for source denue_ropa.\n",
      "Starting range k = 10 of 10 for source denue_ropa.\n",
      "Calculated time from nodes to pois for a total of 60233 nodes for source denue_ropa.\n",
      "Applying final formating to calculated nodes.\n",
      "Added time for source denue_ropa to nodes_sources.\n",
      "Loaded a total of 347 points of interest of the source denue_calzado for analisis.\n",
      "Starting range k = 0 of 1 for source denue_calzado.\n",
      "Starting range k = 1 of 1 for source denue_calzado.\n",
      "Calculated time from nodes to pois for a total of 60233 nodes for source denue_calzado.\n",
      "Applying final formating to calculated nodes.\n",
      "Added time for source denue_calzado to nodes_sources.\n",
      "Loaded a total of 418 points of interest of the source denue_muebles for analisis.\n",
      "Starting range k = 0 of 2 for source denue_muebles.\n",
      "Starting range k = 1 of 2 for source denue_muebles.\n",
      "Starting range k = 2 of 2 for source denue_muebles.\n",
      "Calculated time from nodes to pois for a total of 60233 nodes for source denue_muebles.\n",
      "Applying final formating to calculated nodes.\n",
      "Added time for source denue_muebles to nodes_sources.\n",
      "Loaded a total of 396 points of interest of the source denue_lavanderia for analisis.\n",
      "Starting range k = 0 of 1 for source denue_lavanderia.\n",
      "Starting range k = 1 of 1 for source denue_lavanderia.\n",
      "Calculated time from nodes to pois for a total of 60233 nodes for source denue_lavanderia.\n",
      "Applying final formating to calculated nodes.\n",
      "Added time for source denue_lavanderia to nodes_sources.\n",
      "Loaded a total of 39 points of interest of the source denue_revistas_periodicos for analisis.\n",
      "Starting range k = 0 of 0 for source denue_revistas_periodicos.\n",
      "Calculated time from nodes to pois for a total of 60233 nodes for source denue_revistas_periodicos.\n",
      "Applying final formating to calculated nodes.\n",
      "Added time for source denue_revistas_periodicos to nodes_sources.\n",
      "Loaded a total of 155 points of interest of the source denue_pintura for analisis.\n",
      "Starting range k = 0 of 0 for source denue_pintura.\n",
      "Calculated time from nodes to pois for a total of 60233 nodes for source denue_pintura.\n",
      "Applying final formating to calculated nodes.\n",
      "Added time for source denue_pintura to nodes_sources.\n",
      "Loaded a total of 4926 points of interest of the source denue_restaurante_insitu for analisis.\n",
      "Starting range k = 0 of 24 for source denue_restaurante_insitu.\n",
      "Starting range k = 1 of 24 for source denue_restaurante_insitu.\n",
      "Starting range k = 2 of 24 for source denue_restaurante_insitu.\n",
      "Starting range k = 3 of 24 for source denue_restaurante_insitu.\n",
      "Starting range k = 4 of 24 for source denue_restaurante_insitu.\n",
      "Starting range k = 5 of 24 for source denue_restaurante_insitu.\n",
      "Starting range k = 6 of 24 for source denue_restaurante_insitu.\n",
      "Starting range k = 7 of 24 for source denue_restaurante_insitu.\n",
      "Starting range k = 8 of 24 for source denue_restaurante_insitu.\n",
      "Starting range k = 9 of 24 for source denue_restaurante_insitu.\n",
      "Starting range k = 10 of 24 for source denue_restaurante_insitu.\n",
      "Starting range k = 11 of 24 for source denue_restaurante_insitu.\n",
      "Starting range k = 12 of 24 for source denue_restaurante_insitu.\n",
      "Starting range k = 13 of 24 for source denue_restaurante_insitu.\n",
      "Starting range k = 14 of 24 for source denue_restaurante_insitu.\n",
      "Starting range k = 15 of 24 for source denue_restaurante_insitu.\n",
      "Starting range k = 16 of 24 for source denue_restaurante_insitu.\n",
      "Starting range k = 17 of 24 for source denue_restaurante_insitu.\n",
      "Starting range k = 18 of 24 for source denue_restaurante_insitu.\n",
      "Starting range k = 19 of 24 for source denue_restaurante_insitu.\n",
      "Starting range k = 20 of 24 for source denue_restaurante_insitu.\n",
      "Starting range k = 21 of 24 for source denue_restaurante_insitu.\n",
      "Starting range k = 22 of 24 for source denue_restaurante_insitu.\n",
      "Starting range k = 23 of 24 for source denue_restaurante_insitu.\n",
      "Starting range k = 24 of 24 for source denue_restaurante_insitu.\n",
      "Calculated time from nodes to pois for a total of 60233 nodes for source denue_restaurante_insitu.\n",
      "Applying final formating to calculated nodes.\n",
      "Added time for source denue_restaurante_insitu to nodes_sources.\n",
      "Loaded a total of 1055 points of interest of the source denue_restaurante_llevar for analisis.\n",
      "Starting range k = 0 of 5 for source denue_restaurante_llevar.\n",
      "Starting range k = 1 of 5 for source denue_restaurante_llevar.\n",
      "Starting range k = 2 of 5 for source denue_restaurante_llevar.\n",
      "Starting range k = 3 of 5 for source denue_restaurante_llevar.\n",
      "Starting range k = 4 of 5 for source denue_restaurante_llevar.\n",
      "Starting range k = 5 of 5 for source denue_restaurante_llevar.\n",
      "Calculated time from nodes to pois for a total of 60233 nodes for source denue_restaurante_llevar.\n",
      "Applying final formating to calculated nodes.\n",
      "Added time for source denue_restaurante_llevar to nodes_sources.\n",
      "Loaded a total of 278 points of interest of the source denue_bares for analisis.\n",
      "Starting range k = 0 of 1 for source denue_bares.\n",
      "Starting range k = 1 of 1 for source denue_bares.\n",
      "Calculated time from nodes to pois for a total of 60233 nodes for source denue_bares.\n",
      "Applying final formating to calculated nodes.\n",
      "Added time for source denue_bares to nodes_sources.\n",
      "Loaded a total of 957 points of interest of the source denue_cafe for analisis.\n",
      "Starting range k = 0 of 4 for source denue_cafe.\n",
      "Starting range k = 1 of 4 for source denue_cafe.\n",
      "Starting range k = 2 of 4 for source denue_cafe.\n",
      "Starting range k = 3 of 4 for source denue_cafe.\n",
      "Starting range k = 4 of 4 for source denue_cafe.\n",
      "Calculated time from nodes to pois for a total of 60233 nodes for source denue_cafe.\n",
      "Applying final formating to calculated nodes.\n",
      "Added time for source denue_cafe to nodes_sources.\n",
      "Loaded a total of 25 points of interest of the source sip_cancha for analisis.\n",
      "Starting range k = 0 of 0 for source sip_cancha.\n",
      "Calculated time from nodes to pois for a total of 60233 nodes for source sip_cancha.\n",
      "Applying final formating to calculated nodes.\n",
      "Added time for source sip_cancha to nodes_sources.\n",
      "Loaded a total of 4 points of interest of the source sip_unidad_deportiva for analisis.\n",
      "Starting range k = 0 of 0 for source sip_unidad_deportiva.\n",
      "Calculated time from nodes to pois for a total of 60233 nodes for source sip_unidad_deportiva.\n",
      "Applying final formating to calculated nodes.\n",
      "Added time for source sip_unidad_deportiva to nodes_sources.\n",
      "Loaded a total of 272 points of interest of the source sip_espacio_publico for analisis.\n",
      "Starting range k = 0 of 1 for source sip_espacio_publico.\n",
      "Starting range k = 1 of 1 for source sip_espacio_publico.\n",
      "Calculated time from nodes to pois for a total of 60233 nodes for source sip_espacio_publico.\n",
      "Applying final formating to calculated nodes.\n",
      "Added time for source sip_espacio_publico to nodes_sources.\n",
      "Loaded a total of 0 points of interest of the source denue_parque_natural for analisis.\n",
      "0 points of interest of the source denue_parque_natural found, time is NaN.\n",
      "Applying final formating to calculated nodes.\n",
      "Added time for source denue_parque_natural to nodes_sources.\n",
      "Loaded a total of 9 points of interest of the source denue_cines for analisis.\n",
      "Starting range k = 0 of 0 for source denue_cines.\n",
      "Calculated time from nodes to pois for a total of 60233 nodes for source denue_cines.\n",
      "Applying final formating to calculated nodes.\n",
      "Added time for source denue_cines to nodes_sources.\n",
      "Loaded a total of 14 points of interest of the source denue_museos for analisis.\n",
      "Starting range k = 0 of 0 for source denue_museos.\n",
      "Calculated time from nodes to pois for a total of 60233 nodes for source denue_museos.\n",
      "Applying final formating to calculated nodes.\n",
      "Added time for source denue_museos to nodes_sources.\n"
     ]
    }
   ],
   "source": [
    "# Format\n",
    "pois_distance_node = nearest.copy()\n",
    "edges_gdf['length'].fillna(edges_gdf['length'].mean(),inplace=True)\n",
    "\n",
    "# ELEMENTS NEEDED OUTSIDE THE LOOP - nodes_analysis is a nodes_gdf out of loop used in aup.calculate_distance_nearest_poi in each loop\n",
    "nodes_analysis = nodes_gdf.reset_index().copy()\n",
    "# ELEMENTS NEEDED OUTSIDE THE LOOP - nodes_sources is a nodes_gdf out of loop used to accumulate a final gdf with the minimal distance from each node to each source\n",
    "nodes_sources = gpd.GeoDataFrame()\n",
    "# ELEMENTS NEEDED OUTSIDE THE LOOP - Count\n",
    "i = 0\n",
    "\n",
    "# Loop that calculates distance from each node to each source (source by source)\n",
    "for s in sources:\n",
    "    \n",
    "    # Locate pois data for current source\n",
    "    source_gdf = gpd.GeoDataFrame()\n",
    "    for cod in sources[s]:\n",
    "        source_tmp = pois_distance_node[pois_distance_node['code']==cod]\n",
    "        source_gdf = pd.concat([source_gdf,source_tmp])\n",
    "    #-----------------------------------------------------------------------------------------------------------------------------------------------------\n",
    "    print(f\"Loaded a total of {len(source_gdf)} points of interest of the source {s} for analisis.\")\n",
    "    #-----------------------------------------------------------------------------------------------------------------------------------------------------\n",
    "    \n",
    "    # Data for current amenity loop - df_temp: Each column will be a batch of procesed nodes.\n",
    "    df_temp = nodes_gdf.copy()\n",
    "    # Data for current amenity loop - nodes_distance: Minimum time/distance found in all batches will be added from df_min (within if/elif/else) to nodes_distance and finally to nodes_sources (outside loop)\n",
    "    nodes_distance = nodes_gdf.copy()\n",
    "    \n",
    "    # In case there are no amenities of a certain type in the city\n",
    "    if len(source_gdf) == 0:\n",
    "        nodes_time = nodes_distance.copy()\n",
    "        nodes_time['time'] = 0\n",
    "        #-------------------------------------------------------------------------------------------------------------------------------------------------\n",
    "        print(f\"0 points of interest of the source {s} found, time is NaN.\")\n",
    "        #-------------------------------------------------------------------------------------------------------------------------------------------------       \n",
    "    \n",
    "    # Elif, divide in batches processing (200 if the total number of pois is an exact multiple of 250, 250 otherwise)\n",
    "    elif len(source_gdf) % 250:\n",
    "        batch_size = len(source_gdf)/200\n",
    "        for k in range(int(batch_size)+1):\n",
    "            #---------------------------------------------------------------------------------------------------------------------------------------------\n",
    "            print(f\"Starting range k = {k} of {int(batch_size)} for source {s}.\")\n",
    "            #---------------------------------------------------------------------------------------------------------------------------------------------\n",
    "            source_process = source_gdf.iloc[int(200*k):int(200*(1+k))].copy()\n",
    "            nodes_distance_prep = aup.calculate_distance_nearest_poi(source_process, nodes_analysis, edges_gdf, s, 'osmid', wght='length')\n",
    "            \n",
    "            #A middle gdf is created whose columns will be the name of the amenity and the batch number it belongs to\n",
    "            df_int = pd.DataFrame()\n",
    "            df_int['dist_'+str(k)+s] = nodes_distance_prep['dist_'+s]\n",
    "            \n",
    "            #The middle gdf is merged into the previously created temporary gdf to store the data by node, each batch in a column.\n",
    "            df_temp = df_temp.merge(df_int, left_index=True, right_index=True)\n",
    "            \n",
    "        # Once finished, drop the non-distance values from the temporary gdf\n",
    "        df_temp.drop(['x', 'y', 'street_count','geometry'], inplace = True, axis=1)\n",
    "        \n",
    "        #We apply the min function to find the minimum value. This value is sent to a new df_min\n",
    "        df_min = pd.DataFrame()\n",
    "        df_min['dist_'+s] = df_temp.min(axis=1)\n",
    "        \n",
    "        #We merge df_min which contains the shortest distance to the POI with nodes_distance which will store all final data\n",
    "        nodes_distance = nodes_distance.merge(df_min, left_index=True, right_index=True)\n",
    "        \n",
    "        #Final data gets converted to time, assuming a walking speed of 4km/hr\n",
    "        nodes_time = nodes_distance.copy()\n",
    "        nodes_time['time'] = (nodes_time['dist_'+s]*60)/4000\n",
    "        \n",
    "        #-------------------------------------------------------------------------------------------------------------------------------------------------\n",
    "        print(f\"Calculated time from nodes to pois for a total of {len(nodes_distance)} nodes for source {s}.\")\n",
    "        #------------------------------------------------------------------------------------------------------------------------------------------------- \n",
    "\n",
    "    # Else, divide in batches processing (200 if the total number of pois is an exact multiple of 250, 250 otherwise)   \n",
    "    else:\n",
    "        batch_size = len(source_gdf)/250\n",
    "        for k in range(int(batch_size)+1):\n",
    "            #---------------------------------------------------------------------------------------------------------------------------------------------\n",
    "            print(f\"Starting range k = {k} of {int(batch_size)} for source {s}.\")\n",
    "            #---------------------------------------------------------------------------------------------------------------------------------------------\n",
    "            source_process = source_gdf.iloc[int(250*k):int(250*(1+k))].copy()\n",
    "            nodes_distance_prep = aup.calculate_distance_nearest_poi(source_process, nodes_analysis, edges_gdf, s, 'osmid', wght='length')\n",
    "            \n",
    "            #A middle gdf is created whose columns will be the name of the amenity and the batch number it belongs to\n",
    "            df_int = pd.DataFrame()\n",
    "            df_int['dist_'+str(k)+s] = nodes_distance_prep['dist_'+s]\n",
    "            \n",
    "            #The middle gdf is merged into the previously created temporary gdf to store the data by node, each batch in a column.\n",
    "            df_temp = df_temp.merge(df_int, left_index=True, right_index=True)\n",
    "            \n",
    "        # Once finished, drop the non-distance values from the temporary gdf\n",
    "        df_temp.drop(['x', 'y', 'street_count','geometry'], inplace = True, axis=1)\n",
    "        \n",
    "        #We apply the min function to find the minimum value. This value is sent to a new df_min\n",
    "        df_min = pd.DataFrame()\n",
    "        df_min['dist_'+s] = df_temp.min(axis=1)\n",
    "        \n",
    "        #We merge df_min which contains the shortest distance to the POI with nodes_distance which will store all final data\n",
    "        nodes_distance = nodes_distance.merge(df_min, left_index=True, right_index=True)\n",
    "        \n",
    "        #Final data gets converted to time, assuming a walking speed of 4km/hr\n",
    "        nodes_time = nodes_distance.copy()\n",
    "        nodes_time['time'] = (nodes_time['dist_'+s]*60)/4000\n",
    "    \n",
    "        #-------------------------------------------------------------------------------------------------------------------------------------------------\n",
    "        print(f\"Calculated time from nodes to pois for a total of {len(nodes_distance)} nodes for source {s}.\")\n",
    "        #-------------------------------------------------------------------------------------------------------------------------------------------------    \n",
    "    \n",
    "    #-----------------------------------------------------------------------------------------------------------------------------------------------------\n",
    "    print(\"Applying final formating to calculated nodes.\")\n",
    "    #----------------------------------------------------------------------------------------------------------------------------------------------------- \n",
    "    \n",
    "    #Format nodes_distance\n",
    "    nodes_time['source'] = s\n",
    "    nodes_time['city'] = city\n",
    "    nodes_time.reset_index(inplace=True)\n",
    "    nodes_time = nodes_time.set_crs(\"EPSG:4326\")\n",
    "    nodes_time = nodes_time[['osmid','time','source','city','x','y','geometry']]\n",
    "    \n",
    "    #If it is the first round nodes_sources is created equal to nodes_distance (all nodes, one source)\n",
    "    #If it is the second or more, the new nodes_distance is merged.\n",
    "    #This way we obtain the final gdf of interest that will contain the minimum disstance to each type of amenity by column.\n",
    "    if i == 0:\n",
    "        nodes_sources = nodes_time.copy()\n",
    "    else:\n",
    "        nodes_sources = pd.concat([nodes_sources,nodes_time])\n",
    "        \n",
    "    #-----------------------------------------------------------------------------------------------------------------------------------------------------\n",
    "    print(f\"Added time for source {s} to nodes_sources.\")\n",
    "    #-----------------------------------------------------------------------------------------------------------------------------------------------------        \n",
    "    \n",
    "    i += 1"
   ]
  },
  {
   "cell_type": "code",
   "execution_count": 19,
   "id": "262d4afc-b15f-4938-a796-c4ff47435e1a",
   "metadata": {
    "tags": []
   },
   "outputs": [],
   "source": [
    "if save:\n",
    "    nodes_sources.to_file(nodesproximity_save_dir, driver='GPKG')"
   ]
  },
  {
   "cell_type": "code",
   "execution_count": 20,
   "id": "e7f7e411-b127-4340-8a80-33cefa6d2abd",
   "metadata": {
    "tags": []
   },
   "outputs": [
    {
     "data": {
      "text/html": [
       "<div>\n",
       "<style scoped>\n",
       "    .dataframe tbody tr th:only-of-type {\n",
       "        vertical-align: middle;\n",
       "    }\n",
       "\n",
       "    .dataframe tbody tr th {\n",
       "        vertical-align: top;\n",
       "    }\n",
       "\n",
       "    .dataframe thead th {\n",
       "        text-align: right;\n",
       "    }\n",
       "</style>\n",
       "<table border=\"1\" class=\"dataframe\">\n",
       "  <thead>\n",
       "    <tr style=\"text-align: right;\">\n",
       "      <th></th>\n",
       "      <th>source</th>\n",
       "      <th>old_mean_data</th>\n",
       "      <th>new_mean_data</th>\n",
       "      <th>diff</th>\n",
       "    </tr>\n",
       "  </thead>\n",
       "  <tbody>\n",
       "    <tr>\n",
       "      <th>0</th>\n",
       "      <td>denue_preescolar</td>\n",
       "      <td>33.837910</td>\n",
       "      <td>55.577241</td>\n",
       "      <td>-21.739330</td>\n",
       "    </tr>\n",
       "    <tr>\n",
       "      <th>1</th>\n",
       "      <td>denue_primaria</td>\n",
       "      <td>34.258209</td>\n",
       "      <td>55.841008</td>\n",
       "      <td>-21.582799</td>\n",
       "    </tr>\n",
       "    <tr>\n",
       "      <th>2</th>\n",
       "      <td>denue_secundaria</td>\n",
       "      <td>45.826365</td>\n",
       "      <td>66.825726</td>\n",
       "      <td>-20.999361</td>\n",
       "    </tr>\n",
       "    <tr>\n",
       "      <th>3</th>\n",
       "      <td>clues_primer_nivel</td>\n",
       "      <td>34.123632</td>\n",
       "      <td>46.424953</td>\n",
       "      <td>-12.301322</td>\n",
       "    </tr>\n",
       "    <tr>\n",
       "      <th>4</th>\n",
       "      <td>denue_guarderias</td>\n",
       "      <td>41.959923</td>\n",
       "      <td>63.909352</td>\n",
       "      <td>-21.949428</td>\n",
       "    </tr>\n",
       "    <tr>\n",
       "      <th>5</th>\n",
       "      <td>denue_dif</td>\n",
       "      <td>66.038962</td>\n",
       "      <td>89.753966</td>\n",
       "      <td>-23.715004</td>\n",
       "    </tr>\n",
       "    <tr>\n",
       "      <th>6</th>\n",
       "      <td>denue_supermercado</td>\n",
       "      <td>62.590882</td>\n",
       "      <td>87.467038</td>\n",
       "      <td>-24.876157</td>\n",
       "    </tr>\n",
       "    <tr>\n",
       "      <th>7</th>\n",
       "      <td>denue_abarrotes</td>\n",
       "      <td>26.946920</td>\n",
       "      <td>48.586716</td>\n",
       "      <td>-21.639795</td>\n",
       "    </tr>\n",
       "    <tr>\n",
       "      <th>8</th>\n",
       "      <td>denue_carnicerias</td>\n",
       "      <td>35.527392</td>\n",
       "      <td>57.710202</td>\n",
       "      <td>-22.182810</td>\n",
       "    </tr>\n",
       "    <tr>\n",
       "      <th>9</th>\n",
       "      <td>sip_mercado</td>\n",
       "      <td>87.941042</td>\n",
       "      <td>114.625426</td>\n",
       "      <td>-26.684384</td>\n",
       "    </tr>\n",
       "    <tr>\n",
       "      <th>10</th>\n",
       "      <td>denue_peluqueria</td>\n",
       "      <td>31.945786</td>\n",
       "      <td>54.527643</td>\n",
       "      <td>-22.581857</td>\n",
       "    </tr>\n",
       "    <tr>\n",
       "      <th>11</th>\n",
       "      <td>denue_farmacias</td>\n",
       "      <td>40.139476</td>\n",
       "      <td>62.514773</td>\n",
       "      <td>-22.375298</td>\n",
       "    </tr>\n",
       "    <tr>\n",
       "      <th>12</th>\n",
       "      <td>denue_ferreteria_tlapaleria</td>\n",
       "      <td>31.762729</td>\n",
       "      <td>53.412927</td>\n",
       "      <td>-21.650198</td>\n",
       "    </tr>\n",
       "    <tr>\n",
       "      <th>13</th>\n",
       "      <td>denue_art_limpieza</td>\n",
       "      <td>39.001169</td>\n",
       "      <td>61.285006</td>\n",
       "      <td>-22.283837</td>\n",
       "    </tr>\n",
       "    <tr>\n",
       "      <th>14</th>\n",
       "      <td>denue_ropa</td>\n",
       "      <td>35.591535</td>\n",
       "      <td>57.957533</td>\n",
       "      <td>-22.365998</td>\n",
       "    </tr>\n",
       "    <tr>\n",
       "      <th>15</th>\n",
       "      <td>denue_calzado</td>\n",
       "      <td>55.192952</td>\n",
       "      <td>79.254136</td>\n",
       "      <td>-24.061184</td>\n",
       "    </tr>\n",
       "    <tr>\n",
       "      <th>16</th>\n",
       "      <td>denue_muebles</td>\n",
       "      <td>42.508101</td>\n",
       "      <td>64.509350</td>\n",
       "      <td>-22.001249</td>\n",
       "    </tr>\n",
       "    <tr>\n",
       "      <th>17</th>\n",
       "      <td>denue_lavanderia</td>\n",
       "      <td>45.352555</td>\n",
       "      <td>69.131704</td>\n",
       "      <td>-23.779149</td>\n",
       "    </tr>\n",
       "    <tr>\n",
       "      <th>18</th>\n",
       "      <td>denue_revistas_periodicos</td>\n",
       "      <td>93.588423</td>\n",
       "      <td>120.379917</td>\n",
       "      <td>-26.791494</td>\n",
       "    </tr>\n",
       "    <tr>\n",
       "      <th>19</th>\n",
       "      <td>denue_pintura</td>\n",
       "      <td>53.887476</td>\n",
       "      <td>78.062151</td>\n",
       "      <td>-24.174675</td>\n",
       "    </tr>\n",
       "    <tr>\n",
       "      <th>20</th>\n",
       "      <td>denue_restaurante_insitu</td>\n",
       "      <td>27.016555</td>\n",
       "      <td>49.013532</td>\n",
       "      <td>-21.996978</td>\n",
       "    </tr>\n",
       "    <tr>\n",
       "      <th>21</th>\n",
       "      <td>denue_restaurante_llevar</td>\n",
       "      <td>33.645541</td>\n",
       "      <td>56.166477</td>\n",
       "      <td>-22.520936</td>\n",
       "    </tr>\n",
       "    <tr>\n",
       "      <th>22</th>\n",
       "      <td>denue_bares</td>\n",
       "      <td>54.690106</td>\n",
       "      <td>76.857899</td>\n",
       "      <td>-22.167794</td>\n",
       "    </tr>\n",
       "    <tr>\n",
       "      <th>23</th>\n",
       "      <td>denue_cafe</td>\n",
       "      <td>30.951619</td>\n",
       "      <td>52.689801</td>\n",
       "      <td>-21.738182</td>\n",
       "    </tr>\n",
       "    <tr>\n",
       "      <th>24</th>\n",
       "      <td>sip_cancha</td>\n",
       "      <td>131.610228</td>\n",
       "      <td>136.722426</td>\n",
       "      <td>-5.112198</td>\n",
       "    </tr>\n",
       "    <tr>\n",
       "      <th>25</th>\n",
       "      <td>sip_unidad_deportiva</td>\n",
       "      <td>112.376201</td>\n",
       "      <td>138.596391</td>\n",
       "      <td>-26.220190</td>\n",
       "    </tr>\n",
       "    <tr>\n",
       "      <th>26</th>\n",
       "      <td>sip_espacio_publico</td>\n",
       "      <td>29.558059</td>\n",
       "      <td>41.950510</td>\n",
       "      <td>-12.392452</td>\n",
       "    </tr>\n",
       "    <tr>\n",
       "      <th>27</th>\n",
       "      <td>denue_parque_natural</td>\n",
       "      <td>0.000000</td>\n",
       "      <td>0.000000</td>\n",
       "      <td>0.000000</td>\n",
       "    </tr>\n",
       "    <tr>\n",
       "      <th>28</th>\n",
       "      <td>denue_cines</td>\n",
       "      <td>105.653468</td>\n",
       "      <td>132.679732</td>\n",
       "      <td>-27.026264</td>\n",
       "    </tr>\n",
       "    <tr>\n",
       "      <th>29</th>\n",
       "      <td>denue_museos</td>\n",
       "      <td>128.878193</td>\n",
       "      <td>155.060532</td>\n",
       "      <td>-26.182339</td>\n",
       "    </tr>\n",
       "  </tbody>\n",
       "</table>\n",
       "</div>"
      ],
      "text/plain": [
       "                         source  old_mean_data  new_mean_data       diff\n",
       "0              denue_preescolar      33.837910      55.577241 -21.739330\n",
       "1                denue_primaria      34.258209      55.841008 -21.582799\n",
       "2              denue_secundaria      45.826365      66.825726 -20.999361\n",
       "3            clues_primer_nivel      34.123632      46.424953 -12.301322\n",
       "4              denue_guarderias      41.959923      63.909352 -21.949428\n",
       "5                     denue_dif      66.038962      89.753966 -23.715004\n",
       "6            denue_supermercado      62.590882      87.467038 -24.876157\n",
       "7               denue_abarrotes      26.946920      48.586716 -21.639795\n",
       "8             denue_carnicerias      35.527392      57.710202 -22.182810\n",
       "9                   sip_mercado      87.941042     114.625426 -26.684384\n",
       "10             denue_peluqueria      31.945786      54.527643 -22.581857\n",
       "11              denue_farmacias      40.139476      62.514773 -22.375298\n",
       "12  denue_ferreteria_tlapaleria      31.762729      53.412927 -21.650198\n",
       "13           denue_art_limpieza      39.001169      61.285006 -22.283837\n",
       "14                   denue_ropa      35.591535      57.957533 -22.365998\n",
       "15                denue_calzado      55.192952      79.254136 -24.061184\n",
       "16                denue_muebles      42.508101      64.509350 -22.001249\n",
       "17             denue_lavanderia      45.352555      69.131704 -23.779149\n",
       "18    denue_revistas_periodicos      93.588423     120.379917 -26.791494\n",
       "19                denue_pintura      53.887476      78.062151 -24.174675\n",
       "20     denue_restaurante_insitu      27.016555      49.013532 -21.996978\n",
       "21     denue_restaurante_llevar      33.645541      56.166477 -22.520936\n",
       "22                  denue_bares      54.690106      76.857899 -22.167794\n",
       "23                   denue_cafe      30.951619      52.689801 -21.738182\n",
       "24                   sip_cancha     131.610228     136.722426  -5.112198\n",
       "25         sip_unidad_deportiva     112.376201     138.596391 -26.220190\n",
       "26          sip_espacio_publico      29.558059      41.950510 -12.392452\n",
       "27         denue_parque_natural       0.000000       0.000000   0.000000\n",
       "28                  denue_cines     105.653468     132.679732 -27.026264\n",
       "29                 denue_museos     128.878193     155.060532 -26.182339"
      ]
     },
     "execution_count": 20,
     "metadata": {},
     "output_type": "execute_result"
    }
   ],
   "source": [
    "schema = 'prox_analysis'\n",
    "table = 'nodes_proximity_2020'\n",
    "\n",
    "query = f\"SELECT * FROM {schema}.{table} WHERE \\\"metropolis\\\" LIKE \\'{city}\\'\"\n",
    "nodes_prox = aup.gdf_from_query(query, geometry_col='geometry')\n",
    "\n",
    "summary = pd.DataFrame()\n",
    "i = 0\n",
    "\n",
    "for s in sources:\n",
    "    \n",
    "    #Old data\n",
    "    amenity_gdf = nodes_prox.loc[nodes_prox.amenity == s]\n",
    "    old_mean = amenity_gdf.time.mean()\n",
    "    \n",
    "    #New Data\n",
    "    source_gdf = nodes_sources.loc[nodes_sources.source == s]\n",
    "    new_mean = source_gdf.time.mean()\n",
    "    \n",
    "    summary.loc[i,'source'] = s\n",
    "    summary.loc[i,'old_mean_data'] = old_mean\n",
    "    summary.loc[i,'new_mean_data'] = new_mean\n",
    "    \n",
    "    i = i + 1\n",
    "    \n",
    "summary['diff'] = summary['old_mean_data'] - summary['new_mean_data']\n",
    "summary"
   ]
  },
  {
   "cell_type": "code",
   "execution_count": 21,
   "id": "a7cecfc1-b058-425d-a4a1-0244f048fee5",
   "metadata": {
    "tags": []
   },
   "outputs": [
    {
     "name": "stdout",
     "output_type": "stream",
     "text": [
      "(2208953, 7)\n"
     ]
    },
    {
     "data": {
      "text/html": [
       "<div>\n",
       "<style scoped>\n",
       "    .dataframe tbody tr th:only-of-type {\n",
       "        vertical-align: middle;\n",
       "    }\n",
       "\n",
       "    .dataframe tbody tr th {\n",
       "        vertical-align: top;\n",
       "    }\n",
       "\n",
       "    .dataframe thead th {\n",
       "        text-align: right;\n",
       "    }\n",
       "</style>\n",
       "<table border=\"1\" class=\"dataframe\">\n",
       "  <thead>\n",
       "    <tr style=\"text-align: right;\">\n",
       "      <th></th>\n",
       "      <th>osmid</th>\n",
       "      <th>x</th>\n",
       "      <th>y</th>\n",
       "      <th>geometry</th>\n",
       "      <th>time</th>\n",
       "      <th>amenity</th>\n",
       "      <th>metropolis</th>\n",
       "    </tr>\n",
       "  </thead>\n",
       "  <tbody>\n",
       "    <tr>\n",
       "      <th>0</th>\n",
       "      <td>817349939</td>\n",
       "      <td>-102.303738</td>\n",
       "      <td>21.882370</td>\n",
       "      <td>POINT (-102.30374 21.88237)</td>\n",
       "      <td>3.363196</td>\n",
       "      <td>sigade_preescolar</td>\n",
       "      <td>Aguascalientes</td>\n",
       "    </tr>\n",
       "    <tr>\n",
       "      <th>1</th>\n",
       "      <td>840674582</td>\n",
       "      <td>-102.315734</td>\n",
       "      <td>21.897341</td>\n",
       "      <td>POINT (-102.31573 21.89734)</td>\n",
       "      <td>3.444772</td>\n",
       "      <td>sigade_preescolar</td>\n",
       "      <td>Aguascalientes</td>\n",
       "    </tr>\n",
       "  </tbody>\n",
       "</table>\n",
       "</div>"
      ],
      "text/plain": [
       "       osmid           x          y                     geometry      time  \\\n",
       "0  817349939 -102.303738  21.882370  POINT (-102.30374 21.88237)  3.363196   \n",
       "1  840674582 -102.315734  21.897341  POINT (-102.31573 21.89734)  3.444772   \n",
       "\n",
       "             amenity      metropolis  \n",
       "0  sigade_preescolar  Aguascalientes  \n",
       "1  sigade_preescolar  Aguascalientes  "
      ]
     },
     "execution_count": 21,
     "metadata": {},
     "output_type": "execute_result"
    }
   ],
   "source": [
    "#Show\n",
    "print(nodes_prox.shape)\n",
    "nodes_prox.head(2)"
   ]
  },
  {
   "cell_type": "markdown",
   "id": "d2d70338-f735-4bde-829b-d4cbd1e011cb",
   "metadata": {},
   "source": [
    "## Step 4 - Analize distance data by nodes to proximity in hexagons"
   ]
  },
  {
   "cell_type": "markdown",
   "id": "c271798a-c948-4b34-8856-c901a061cbb8",
   "metadata": {},
   "source": [
    "### Step 4 - Required data - Resolution of hexgrid output"
   ]
  },
  {
   "cell_type": "code",
   "execution_count": 22,
   "id": "4db7f18c-754c-45b9-b801-ace36ac8466a",
   "metadata": {
    "tags": []
   },
   "outputs": [],
   "source": [
    "res_list = [8,9]"
   ]
  },
  {
   "cell_type": "markdown",
   "id": "bbfa0210-9abc-4bb9-a5e7-aa4687c3b720",
   "metadata": {},
   "source": [
    "### Step 4 - Required data - Proximity parameters and definitions"
   ]
  },
  {
   "cell_type": "code",
   "execution_count": 23,
   "id": "d70caead-c426-4a33-941f-39ace6740c96",
   "metadata": {
    "tags": []
   },
   "outputs": [],
   "source": [
    "#--------------- PREPARE DATA ---------- SET PARAMETER DEFINITIONS\n",
    "    #This step sets the ejes, amenidades, sources and weights for further analysis\n",
    "    #{Eje (e):\n",
    "    #         {Amenidad (a):\n",
    "    #                       {Source (s))}}}\n",
    "idx_15_min = {'Escuelas':{'Preescolar':['denue_preescolar'],\n",
    "                          'Primaria':['denue_primaria'],\n",
    "                          'Secundaria':['denue_secundaria']},\n",
    "             'Servicios comunitarios':{'Salud':['clues_primer_nivel'],\n",
    "                                       'Guarderías':['denue_guarderias'],\n",
    "                                       'Asistencia social':['denue_dif']},\n",
    "              'Comercio':{'Alimentos':['denue_supermercado','denue_abarrotes',\n",
    "                                       'denue_carnicerias','sip_mercado'],\n",
    "                          'Personal':['denue_peluqueria'],\n",
    "                          'Farmacias':['denue_farmacias'],\n",
    "                          'Hogar':['denue_ferreteria_tlapaleria','denue_art_limpieza'],\n",
    "                          'Complementarios':['denue_ropa','denue_calzado','denue_muebles',\n",
    "                                             'denue_lavanderia','denue_revistas_periodicos',\n",
    "                                             'denue_pintura']},\n",
    "              'Entretenimiento':{'Social':['denue_restaurante_insitu','denue_restaurante_llevar',\n",
    "                                           'denue_bares','denue_cafe'],\n",
    "                                 'Actividad física':['sip_cancha','sip_unidad_deportiva',\n",
    "                                                    'sip_espacio_publico','denue_parque_natural'],\n",
    "                                 'Cultural':['denue_cines','denue_museos']} \n",
    "             }\n",
    "\n",
    "#If weight of amenity is less than number of sources, the algorith chooses the minimum time to source. \n",
    "#Else (if equall or greater), the algorithm chooses max time.\n",
    "wegiht_idx = {'Escuelas':{'Preescolar':1,\n",
    "                          'Primaria':1,\n",
    "                          'Secundaria':1},\n",
    "              'Servicios comunitarios':{'Salud':1,\n",
    "                                        'Guarderías':1,\n",
    "                                        'Asistencia social':1},\n",
    "              'Comercio':{'Alimentos':1, #Will choose min time to source.\n",
    "                          'Personal':1,\n",
    "                          'Farmacias':1,\n",
    "                          'Hogar':1, #Will choose min time to source.\n",
    "                          'Complementarios':1},  #Will choose min time to source.\n",
    "              'Entretenimiento':{'Social':4,\n",
    "                                 'Actividad física':1,  #Will choose min time to source.\n",
    "                                 'Cultural':1}  #Will choose min time to source.\n",
    "             }"
   ]
  },
  {
   "cell_type": "markdown",
   "id": "fb04e2c9-03f0-496a-baad-0c0f38b6d8ee",
   "metadata": {},
   "source": [
    "### Step 4 - Optional data - Directories"
   ]
  },
  {
   "cell_type": "code",
   "execution_count": 24,
   "id": "8da6602f-f7c8-4d6b-9b81-ab11ee2dc4c7",
   "metadata": {},
   "outputs": [],
   "source": [
    "# Location of saved data (Required)\n",
    "proximityanalysis_save_dir = '../../data/external/temporal_fromjupyter/04_proximityanalysis_hexres9_concat.gpkg'\n",
    "\n",
    "# Location of pop data file (optional)\n",
    "pop_dir = \"../../data/external/prox_latam/pop_gdf_ags.gpkg\"\n",
    "\n",
    "pop_save_dir = '../../data/external/temporal_fromjupyter/04_hex_pop_concat.gpkg'"
   ]
  },
  {
   "cell_type": "markdown",
   "id": "61dbf237-d3d2-496c-b4f8-dea68a2f75dc",
   "metadata": {},
   "source": [
    "### Step 4 - Optional data - Population data"
   ]
  },
  {
   "cell_type": "code",
   "execution_count": 25,
   "id": "5123dd48-d856-4c30-ac07-fd481eb7ebb2",
   "metadata": {
    "tags": []
   },
   "outputs": [],
   "source": [
    "pop_output = True\n",
    "\n",
    "# Insert name of column with pop data (optional)\n",
    "pop_column = 'pobtot'\n",
    "\n",
    "# Insert name of pop gdf index column (optional)\n",
    "pop_index_column = 'cvegeo'"
   ]
  },
  {
   "cell_type": "markdown",
   "id": "194efe1a-f301-490b-b809-21a84be4e37d",
   "metadata": {},
   "source": [
    "### Step 4 - Code - Pop Data (Optional)"
   ]
  },
  {
   "cell_type": "code",
   "execution_count": 26,
   "id": "b6d441c6-0b0a-43f0-b62e-d39691101193",
   "metadata": {
    "tags": []
   },
   "outputs": [],
   "source": [
    "def create_popdata_hexgrid(aoi,pop_dir,pop_column,pop_index_column,res_list):\n",
    "    \n",
    "    pop_gdf = gpd.read_file(pop_dir)\n",
    "    \n",
    "    # Format and isolate data of interest\n",
    "    pop_gdf = pop_gdf.to_crs(\"EPSG:4326\")\n",
    "    pop_gdf.columns = pop_gdf.columns.str.lower()\n",
    "    block_pop = pop_gdf[[pop_index_column,pop_column,'geometry']]\n",
    "\n",
    "    # Extract point from polygon\n",
    "    block_pop = block_pop.to_crs(\"EPSG:6372\")\n",
    "    block_pop = block_pop.set_index(pop_index_column)\n",
    "    point_within_polygon = gpd.GeoDataFrame(geometry=block_pop.representative_point())\n",
    "\n",
    "    # Add census data to points\n",
    "    centroid_block_pop = point_within_polygon.merge(block_pop, right_index=True, left_index=True) \n",
    "\n",
    "    # Format centroid with pop data\n",
    "    centroid_block_pop.drop(columns=['geometry_y'], inplace=True)\n",
    "    centroid_block_pop.rename(columns={'geometry_x':'geometry'}, inplace=True)\n",
    "    centroid_block_pop = gpd.GeoDataFrame(centroid_block_pop, geometry='geometry')\n",
    "    centroid_block_pop = centroid_block_pop.to_crs(\"EPSG:4326\")\n",
    "    centroid_block_pop = centroid_block_pop.reset_index()\n",
    "    centroid_block_pop.rename(columns={pop_column:'pobtot'},inplace=True)\n",
    "\n",
    "    #---------------------------------------------------------------------------------------------------------------------------------------------------------\n",
    "    print(f\"Converted to centroids with {centroid_block_pop.pobtot.sum()} \" + f\"pop vs {block_pop.pobtot.sum()} pop in original gdf.\")\n",
    "    #---------------------------------------------------------------------------------------------------------------------------------------------------------\n",
    "    \n",
    "    # create buffer for aoi to include outer blocks when creating hexgrid\n",
    "    aoi_buffer = aoi.copy()\n",
    "    aoi_buffer = aoi_buffer.dissolve()\n",
    "    aoi_buffer = aoi_buffer.to_crs(\"EPSG:6372\").buffer(2500)\n",
    "    aoi_buffer = gpd.GeoDataFrame(geometry=aoi_buffer)\n",
    "    aoi_buffer = aoi_buffer.to_crs(\"EPSG:4326\")\n",
    "\n",
    "    hex_socio_gdf = gpd.GeoDataFrame()\n",
    "\n",
    "    for res in res_list:\n",
    "        # Generate hexagon gdf\n",
    "        hex_gdf = aup.create_hexgrid(aoi_buffer, res)\n",
    "        hex_gdf = hex_gdf.set_crs(\"EPSG:4326\")\n",
    "\n",
    "        # Format - Remove res from index name and add column with res\n",
    "        hex_gdf.rename(columns={f'hex_id_{res}':'hex_id'},inplace=True)\n",
    "        hex_gdf['res'] = res\n",
    "        #-----------------------------------------------------------------------------------------------------------------------------------------------------\n",
    "        print(f\"Created hex_grid with {res} resolution\")\n",
    "        #-----------------------------------------------------------------------------------------------------------------------------------------------------    \n",
    "        # Group pop data\n",
    "        # def socio_points_to_polygon(gdf_polygon,gdf_socio,cve_column,string_columns,wgt_dict=None,avg_column=None):\n",
    "        # Agruments:\n",
    "            #gdf_polygon (geopandas.GeoDataFrame): GeoDataFrame polygon where sociodemographic data will be grouped\n",
    "            #gdf_socio (geopandas.GeoDataFrame): GeoDataFrame points with sociodemographic data\n",
    "            #cve_column (str): Column name with polygon id in gdf_polygon.\n",
    "            #string_columns (list): List with column names for string data in gdf_socio.\n",
    "            #wgt_dict {dict, optional): Dictionary with average column names and weight column names for weighted average. Defaults to None.\n",
    "            #avg_column (list, optional): List with column names with average data. Defaults to None.\n",
    "\n",
    "        string_columns = [pop_index_column]\n",
    "        hex_socio_df = aup.socio_points_to_polygon(hex_gdf, centroid_block_pop,'hex_id', string_columns)\n",
    "\n",
    "        #-----------------------------------------------------------------------------------------------------------------------------------------------------     \n",
    "        print(f\"Agregated socio data to hex with a total of {hex_socio_df.pobtot.sum()} population for resolution {res}.\")\n",
    "        #----------------------------------------------------------------------------------------------------------------------------------------------------- \n",
    "\n",
    "        # Hexagons to GeoDataFrame\n",
    "        hex_socio_gdf_tmp = hex_gdf.merge(hex_socio_df, on='hex_id')\n",
    "\n",
    "        hectares = hex_socio_gdf_tmp.to_crs(\"EPSG:6372\").area / 10000\n",
    "        hex_socio_gdf_tmp['dens_pob_ha'] = hex_socio_gdf_tmp['pobtot'] / hectares\n",
    "\n",
    "        #-----------------------------------------------------------------------------------------------------------------------------------------------------    \n",
    "        print(f\"Calculated an average density of {hex_socio_gdf_tmp.dens_pob_ha.mean()}\")\n",
    "        #-----------------------------------------------------------------------------------------------------------------------------------------------------\n",
    "\n",
    "        hex_socio_gdf = pd.concat([hex_socio_gdf,hex_socio_gdf_tmp])    \n",
    "\n",
    "    #---------------------------------------------------------------------------------------------------------------------------------------------------------\n",
    "    print(f\"Finished calculating population by hexgrid for res {res_list}.\")\n",
    "    #---------------------------------------------------------------------------------------------------------------------------------------------------------\n",
    "    \n",
    "    return hex_socio_gdf"
   ]
  },
  {
   "cell_type": "code",
   "execution_count": 27,
   "id": "f214da1e-b554-4c31-85cf-fe14d987b829",
   "metadata": {
    "tags": []
   },
   "outputs": [
    {
     "name": "stdout",
     "output_type": "stream",
     "text": [
      "Converted to centroids with 1043905 pop vs 1043905 pop in original gdf.\n",
      "Created hex_grid with 8 resolution\n",
      "Agregated socio data to hex with a total of 1043905.0 population for resolution 8.\n",
      "Calculated an average density of 39.753067559930635\n",
      "Created hex_grid with 9 resolution\n",
      "Agregated socio data to hex with a total of 1043905.0 population for resolution 9.\n",
      "Calculated an average density of 57.50817597082861\n",
      "Finished calculating population by hexgrid for res [8, 9].\n"
     ]
    }
   ],
   "source": [
    "if pop_output:\n",
    "    hex_socio_gdf = create_popdata_hexgrid(aoi,pop_dir,pop_column,pop_index_column,res_list)\n",
    "    if save:\n",
    "        hex_socio_gdf.to_file(pop_save_dir, driver='GPKG')"
   ]
  },
  {
   "cell_type": "markdown",
   "id": "51378d1a-38bd-474f-b029-5465af2a1aa8",
   "metadata": {},
   "source": [
    "### Step 4 - Code - Transform nodes data"
   ]
  },
  {
   "cell_type": "code",
   "execution_count": 28,
   "id": "02515bf3-c366-474f-9354-10cd6417dea9",
   "metadata": {
    "tags": []
   },
   "outputs": [
    {
     "name": "stdout",
     "output_type": "stream",
     "text": [
      "Transformed nodes data.\n"
     ]
    }
   ],
   "source": [
    "nodes = nodes_sources.copy()\n",
    "\n",
    "#--------------- PREPARE DATA\n",
    "#--------------- PREPARE DATA ---------- DELETE DUPLICATES AND CLEAN NODES\n",
    "#This step keeps osmid, geometry and metropolis (without duplicates, keeping only one point for each node) to store times to each amenity source by node in following loop.\n",
    "nodes_geom = nodes.drop_duplicates(subset='osmid', keep=\"last\")[['osmid','geometry','city']].copy()\n",
    "\n",
    "#--------------- PREPARE DATA ---------- REORGANIZE NODES DATA\n",
    "#This step organizes data by nodes by changing (time to source amenities) from rows (1 column with source amenity name + 1 column with time data) \n",
    "#to columns (1 column with time data named after its source amenity)\n",
    "nodes_analysis = nodes_geom.copy()\n",
    "\n",
    "for source_amenity in list(nodes.source.unique()):\n",
    "    nodes_tmp = nodes.loc[nodes.source == source_amenity,['osmid','time']]\n",
    "    nodes_tmp = nodes_tmp.rename(columns={'time':source_amenity})\n",
    "    # Search for amenities that aren't present in the city (with all values marked as 0) and change them to NaN\n",
    "    if nodes_tmp[source_amenity].mean() == 0:\n",
    "        nodes_tmp[source_amenity] = np.nan\n",
    "    nodes_analysis = nodes_analysis.merge(nodes_tmp, on='osmid')\n",
    "\n",
    "if save_space:\n",
    "    del nodes_sources\n",
    "    del nodes_geom\n",
    "    del nodes_tmp\n",
    "\n",
    "#---------------------------------------------------------------------------------------------------------------------------------------------------------\n",
    "print(\"Transformed nodes data.\")\n",
    "#---------------------------------------------------------------------------------------------------------------------------------------------------------"
   ]
  },
  {
   "cell_type": "code",
   "execution_count": 29,
   "id": "62d092c3-c85c-48e7-bfe7-9e178953c074",
   "metadata": {
    "tags": []
   },
   "outputs": [
    {
     "name": "stdout",
     "output_type": "stream",
     "text": [
      "(60233, 33)\n"
     ]
    },
    {
     "data": {
      "text/html": [
       "<div>\n",
       "<style scoped>\n",
       "    .dataframe tbody tr th:only-of-type {\n",
       "        vertical-align: middle;\n",
       "    }\n",
       "\n",
       "    .dataframe tbody tr th {\n",
       "        vertical-align: top;\n",
       "    }\n",
       "\n",
       "    .dataframe thead th {\n",
       "        text-align: right;\n",
       "    }\n",
       "</style>\n",
       "<table border=\"1\" class=\"dataframe\">\n",
       "  <thead>\n",
       "    <tr style=\"text-align: right;\">\n",
       "      <th></th>\n",
       "      <th>osmid</th>\n",
       "      <th>geometry</th>\n",
       "      <th>city</th>\n",
       "      <th>denue_preescolar</th>\n",
       "      <th>denue_primaria</th>\n",
       "      <th>denue_secundaria</th>\n",
       "      <th>clues_primer_nivel</th>\n",
       "      <th>denue_guarderias</th>\n",
       "      <th>denue_dif</th>\n",
       "      <th>denue_supermercado</th>\n",
       "      <th>...</th>\n",
       "      <th>denue_restaurante_insitu</th>\n",
       "      <th>denue_restaurante_llevar</th>\n",
       "      <th>denue_bares</th>\n",
       "      <th>denue_cafe</th>\n",
       "      <th>sip_cancha</th>\n",
       "      <th>sip_unidad_deportiva</th>\n",
       "      <th>sip_espacio_publico</th>\n",
       "      <th>denue_parque_natural</th>\n",
       "      <th>denue_cines</th>\n",
       "      <th>denue_museos</th>\n",
       "    </tr>\n",
       "  </thead>\n",
       "  <tbody>\n",
       "    <tr>\n",
       "      <th>0</th>\n",
       "      <td>301189389</td>\n",
       "      <td>POINT (-102.34221 21.84854)</td>\n",
       "      <td>Aguascalientes</td>\n",
       "      <td>6.400245</td>\n",
       "      <td>6.400245</td>\n",
       "      <td>2.133810</td>\n",
       "      <td>49.969125</td>\n",
       "      <td>5.135355</td>\n",
       "      <td>35.372640</td>\n",
       "      <td>31.292565</td>\n",
       "      <td>...</td>\n",
       "      <td>5.639280</td>\n",
       "      <td>2.802210</td>\n",
       "      <td>38.864595</td>\n",
       "      <td>2.133810</td>\n",
       "      <td>152.447610</td>\n",
       "      <td>79.55634</td>\n",
       "      <td>9.610185</td>\n",
       "      <td>NaN</td>\n",
       "      <td>81.32691</td>\n",
       "      <td>37.025325</td>\n",
       "    </tr>\n",
       "    <tr>\n",
       "      <th>1</th>\n",
       "      <td>301189406</td>\n",
       "      <td>POINT (-102.35022 21.85082)</td>\n",
       "      <td>Aguascalientes</td>\n",
       "      <td>17.556360</td>\n",
       "      <td>17.556360</td>\n",
       "      <td>14.897805</td>\n",
       "      <td>50.857980</td>\n",
       "      <td>16.302480</td>\n",
       "      <td>46.539765</td>\n",
       "      <td>44.056560</td>\n",
       "      <td>...</td>\n",
       "      <td>16.795395</td>\n",
       "      <td>13.969335</td>\n",
       "      <td>48.043620</td>\n",
       "      <td>14.897805</td>\n",
       "      <td>140.144235</td>\n",
       "      <td>91.38255</td>\n",
       "      <td>20.766300</td>\n",
       "      <td>NaN</td>\n",
       "      <td>89.40900</td>\n",
       "      <td>45.107415</td>\n",
       "    </tr>\n",
       "  </tbody>\n",
       "</table>\n",
       "<p>2 rows × 33 columns</p>\n",
       "</div>"
      ],
      "text/plain": [
       "       osmid                     geometry            city  denue_preescolar  \\\n",
       "0  301189389  POINT (-102.34221 21.84854)  Aguascalientes          6.400245   \n",
       "1  301189406  POINT (-102.35022 21.85082)  Aguascalientes         17.556360   \n",
       "\n",
       "   denue_primaria  denue_secundaria  clues_primer_nivel  denue_guarderias  \\\n",
       "0        6.400245          2.133810           49.969125          5.135355   \n",
       "1       17.556360         14.897805           50.857980         16.302480   \n",
       "\n",
       "   denue_dif  denue_supermercado  ...  denue_restaurante_insitu  \\\n",
       "0  35.372640           31.292565  ...                  5.639280   \n",
       "1  46.539765           44.056560  ...                 16.795395   \n",
       "\n",
       "   denue_restaurante_llevar  denue_bares  denue_cafe  sip_cancha  \\\n",
       "0                  2.802210    38.864595    2.133810  152.447610   \n",
       "1                 13.969335    48.043620   14.897805  140.144235   \n",
       "\n",
       "   sip_unidad_deportiva  sip_espacio_publico  denue_parque_natural  \\\n",
       "0              79.55634             9.610185                   NaN   \n",
       "1              91.38255            20.766300                   NaN   \n",
       "\n",
       "   denue_cines  denue_museos  \n",
       "0     81.32691     37.025325  \n",
       "1     89.40900     45.107415  \n",
       "\n",
       "[2 rows x 33 columns]"
      ]
     },
     "execution_count": 29,
     "metadata": {},
     "output_type": "execute_result"
    }
   ],
   "source": [
    "#Show\n",
    "print(nodes_analysis.shape)\n",
    "nodes_analysis.head(2)"
   ]
  },
  {
   "cell_type": "markdown",
   "id": "3a64d955-1c54-4f76-a852-8ce023e8d62b",
   "metadata": {},
   "source": [
    "### Step 4 - Code - Fill for missing amenities"
   ]
  },
  {
   "cell_type": "code",
   "execution_count": 30,
   "id": "00693d26-bbdb-4f1e-9f32-8ccefee9ab80",
   "metadata": {
    "tags": []
   },
   "outputs": [
    {
     "name": "stdout",
     "output_type": "stream",
     "text": [
      "Finished missing source amenities analysis. 0 not present source amenities were added as np.nan columns\n"
     ]
    }
   ],
   "source": [
    "#--------------- PREPARE DATA ---------- FILL MISSING COLUMNS (In case there is a source amenity not available in a city)\n",
    "sources = []\n",
    "\n",
    "# Gather all possible sources\n",
    "for eje in idx_15_min.keys():\n",
    "    for amenity in idx_15_min[eje].values():\n",
    "        for source in amenity:\n",
    "            sources.append(source)\n",
    "            \n",
    "# If source not in currently analized city, fill column with np.nan\n",
    "column_list = list(nodes_analysis.columns)\n",
    "missing_sourceamenities = []\n",
    "\n",
    "for s in sources:\n",
    "        if s not in column_list:\n",
    "            nodes_analysis[s] = np.nan\n",
    "            #---------------------------------------------------------------------------------------------------------------------------------------------\n",
    "            print(f\"{s} source amenity is not present in {city}.\")\n",
    "            #---------------------------------------------------------------------------------------------------------------------------------------------\n",
    "            missing_sourceamenities.append(s)\n",
    "            \n",
    "#---------------------------------------------------------------------------------------------------------------------------------------------------------\n",
    "print(f\"Finished missing source amenities analysis. {len(missing_sourceamenities)} not present source amenities were added as np.nan columns\")\n",
    "#---------------------------------------------------------------------------------------------------------------------------------------------------------"
   ]
  },
  {
   "cell_type": "markdown",
   "id": "070d56b6-ec15-4942-aeed-9b3b2c4aa546",
   "metadata": {},
   "source": [
    "### Step 4 - Code - Amenities analysis"
   ]
  },
  {
   "cell_type": "code",
   "execution_count": 31,
   "id": "caacd424-d67c-4450-ac75-e26a694f6c74",
   "metadata": {
    "tags": []
   },
   "outputs": [
    {
     "name": "stdout",
     "output_type": "stream",
     "text": [
      "Starting proximity to amenities analysis by node.\n",
      "Calculated proximity to amenities data by node.\n"
     ]
    }
   ],
   "source": [
    "#---------------------------------------------------------------------------------------------------------------------------------------------------------\n",
    "print(\"Starting proximity to amenities analysis by node.\")\n",
    "#---------------------------------------------------------------------------------------------------------------------------------------------------------\n",
    "\n",
    "#--------------- PROCESS DATA \n",
    "#--------------- PROCESS DATA ---------- Max time calculation\n",
    "#This step calculates times by amenity\n",
    "\n",
    "column_max_all = [] # list with all max index column names\n",
    "column_max_ejes = [] # list with ejes index column names\n",
    "\n",
    "#Goes through each eje in dictionary:\n",
    "for e in idx_15_min.keys():\n",
    "\n",
    "    #Appends to 3 lists currently examined eje\n",
    "    column_max_all.append('max_'+ e.lower())\n",
    "    column_max_ejes.append('max_'+ e.lower())\n",
    "    column_max_amenities = [] # list with amenities in current eje\n",
    "\n",
    "    #Goes through each amenity of current eje:\n",
    "    for a in idx_15_min[e].keys():\n",
    "\n",
    "        #Appends to 2 lists currently examined amenity:\n",
    "        column_max_all.append('max_'+ a.lower())\n",
    "        column_max_amenities.append('max_'+ a.lower())\n",
    "\n",
    "        #Calculates time to currently examined amenity:\n",
    "        #If weight is less than number of sources of amenity, choose minimum time to sources.\n",
    "        if wegiht_idx[e][a] < len(idx_15_min[e][a]): \n",
    "            nodes_analysis['max_'+ a.lower()] = nodes_analysis[idx_15_min[e][a]].min(axis=1)\n",
    "        #Else, choose maximum time to sources.\n",
    "        else:\n",
    "            nodes_analysis['max_'+ a.lower()] = nodes_analysis[idx_15_min[e][a]].max(axis=1)\n",
    "\n",
    "    #Calculates time to currently examined eje (max time of its amenities):\n",
    "    nodes_analysis['max_'+ e.lower()] = nodes_analysis[column_max_amenities].max(axis=1) \n",
    "\n",
    "index_column = 'max_time' # column name for maximum time data\n",
    "\n",
    "#Add to column_max_all list the attribute 'max_time'\n",
    "column_max_all.append(index_column)\n",
    "\n",
    "#Assigns \"max_time\" the max time for all ejes\n",
    "nodes_analysis[index_column] = nodes_analysis[column_max_ejes].max(axis=1)     \n",
    "\n",
    "#Add to column_max_all list the attributes 'osmid' and 'geometry' to filter nodes_analysis with the column_max_all list.\n",
    "column_max_all.append('osmid')\n",
    "column_max_all.append('geometry')\n",
    "nodes_analysis_filter = nodes_analysis[column_max_all].copy()\n",
    "\n",
    "if save_space:\n",
    "    del nodes_analysis\n",
    "    \n",
    "#---------------------------------------------------------------------------------------------------------------------------------------------------------\n",
    "print(\"Calculated proximity to amenities data by node.\")\n",
    "#---------------------------------------------------------------------------------------------------------------------------------------------------------"
   ]
  },
  {
   "cell_type": "markdown",
   "id": "46877181-5cd4-4c77-9d16-c0cee63a02d8",
   "metadata": {},
   "source": [
    "### Step 4 - Code - Group by hex (mean data)"
   ]
  },
  {
   "cell_type": "code",
   "execution_count": 32,
   "id": "96ef9f64-4fcd-4b7f-9e3c-d985cfce031a",
   "metadata": {
    "tags": []
   },
   "outputs": [
    {
     "name": "stdout",
     "output_type": "stream",
     "text": [
      "Loaded pop hexgrid of resolution 8\n"
     ]
    },
    {
     "name": "stderr",
     "output_type": "stream",
     "text": [
      "/tmp/ipykernel_5389/1860612382.py:12: SettingWithCopyWarning: \n",
      "A value is trying to be set on a copy of a slice from a DataFrame\n",
      "\n",
      "See the caveats in the documentation: https://pandas.pydata.org/pandas-docs/stable/user_guide/indexing.html#returning-a-view-versus-a-copy\n",
      "  hex_pop.rename(columns={'hex_id':f'hex_id_{res}'},inplace=True)\n",
      "/tmp/ipykernel_5389/1860612382.py:12: SettingWithCopyWarning: \n",
      "A value is trying to be set on a copy of a slice from a DataFrame\n",
      "\n",
      "See the caveats in the documentation: https://pandas.pydata.org/pandas-docs/stable/user_guide/indexing.html#returning-a-view-versus-a-copy\n",
      "  hex_pop.rename(columns={'hex_id':f'hex_id_{res}'},inplace=True)\n"
     ]
    },
    {
     "name": "stdout",
     "output_type": "stream",
     "text": [
      "Grouped nodes data by hexagons res 8\n",
      "Saved grouped data by hexagons res 8\n",
      "Loaded pop hexgrid of resolution 9\n",
      "Grouped nodes data by hexagons res 9\n",
      "Saved grouped data by hexagons res 9\n"
     ]
    }
   ],
   "source": [
    "hex_idx = gpd.GeoDataFrame()\n",
    "\n",
    "for res in res_list:\n",
    "    \n",
    "    #/////////////////////////////////////////////////////////////////////////// HEXGRID DEPENDS ON POP DATA BEING CALCULATED OR NOT ///////////////////////////////////////////////////////////////////////////\n",
    "    # If pop_output is true, loads previously created hexgrid with pop data\n",
    "    if pop_output:\n",
    "        # Load hexgrid\n",
    "        hex_pop = hex_socio_gdf.loc[hex_socio_gdf['res'] == res]\n",
    "        \n",
    "        #Function group_by_hex_mean requires ID to include resolution\n",
    "        hex_pop.rename(columns={'hex_id':f'hex_id_{res}'},inplace=True)\n",
    "        \n",
    "        # Create hex_tmp\n",
    "        hex_pop = hex_pop.set_crs(\"EPSG:4326\")\n",
    "        hex_tmp = hex_pop[[f'hex_id_{res}','geometry']].copy()\n",
    "        #-------------------------------------------------------------------------------------------------------------------------------------------------\n",
    "        print(f\"Loaded pop hexgrid of resolution {res}\")\n",
    "        #-------------------------------------------------------------------------------------------------------------------------------------------------\n",
    "        \n",
    "    # If pop_output is false, creates hexgrid\n",
    "    else:\n",
    "        # Create hexgrid (which already has ID_res)\n",
    "        hexgrid = aup.create_hexgrid(aoi,res)\n",
    "        \n",
    "        # Create hex_tmp\n",
    "        hexgrid = hexgrid.set_crs(\"EPSG:4326\")\n",
    "        hex_tmp = hexgrid.copy()\n",
    "        #-------------------------------------------------------------------------------------------------------------------------------------------------\n",
    "        print(f\"Created hexgrid of resolution {res}\")\n",
    "        #-------------------------------------------------------------------------------------------------------------------------------------------------\n",
    "        \n",
    "    #/////////////////////////////////////////////////////////////////////////// HEXGRID DEPENDS ON POP DATA BEING CALCULATED OR NOT ///////////////////////////////////////////////////////////////////////////\n",
    "    \n",
    "    # group data by hex\n",
    "    hex_res_idx = aup.group_by_hex_mean(nodes_analysis_filter, hex_tmp, res, index_column)\n",
    "    hex_res_idx = hex_res_idx.loc[hex_res_idx[index_column]>0].copy()\n",
    "    \n",
    "    #-----------------------------------------------------------------------------------------------------------------------------------------------------\n",
    "    print(f\"Grouped nodes data by hexagons res {res}\")\n",
    "    #-----------------------------------------------------------------------------------------------------------------------------------------------------\n",
    "    \n",
    "    #////////////////////////////////////////////////////////////////////////////////// ADD POP DATA IF POP DATA IS CONSIDERED /////////////////////////////////////////////////////////////////////////////////\n",
    "    # Add pop data\n",
    "    if pop_output:\n",
    "        pop_list = [f'hex_id_{res}','pobtot','dens_pob_ha']\n",
    "        hex_res_pop = pd.merge(hex_res_idx, hex_pop[pop_list], on=f'hex_id_{res}')\n",
    "    else:\n",
    "        hex_res_pop = hex_res_idx.copy()\n",
    "    #////////////////////////////////////////////////////////////////////////////////// ADD POP DATA IF POP DATA IS CONSIDERED /////////////////////////////////////////////////////////////////////////////////    \n",
    "    \n",
    "    # After funtion group_by_hex_mean we can remove res from ID and set as a column\n",
    "    hex_res_pop.rename(columns={f'hex_id_{res}':'hex_id'},inplace=True)\n",
    "    hex_res_pop['res'] = res\n",
    "\n",
    "    hex_idx = hex_idx.append(hex_res_pop)\n",
    "        \n",
    "    #-----------------------------------------------------------------------------------------------------------------------------------------------------    \n",
    "    print(f\"Saved grouped data by hexagons res {res}\")\n",
    "    #-----------------------------------------------------------------------------------------------------------------------------------------------------\n",
    "    \n",
    "if save_space:\n",
    "    if pop_output:\n",
    "        del hex_socio_gdf #pop_output=True\n",
    "        del hex_pop #pop_output=True\n",
    "        del hex_tmp\n",
    "        del hex_res_idx\n",
    "        del hex_res_pop #pop_output=True\n",
    "\n",
    "    else:\n",
    "        del hexgrid #pop_output=False\n",
    "        del hex_tmp\n",
    "        del hex_res_idx"
   ]
  },
  {
   "cell_type": "markdown",
   "id": "beeea7d8-21ad-4804-9ffb-58eb72fffb6e",
   "metadata": {},
   "source": [
    "### Step 4 - Code - Relculate ejes max times by hexagon"
   ]
  },
  {
   "cell_type": "code",
   "execution_count": 33,
   "id": "1e097688-1269-4859-864a-7fff68a3c97e",
   "metadata": {
    "tags": []
   },
   "outputs": [
    {
     "name": "stdout",
     "output_type": "stream",
     "text": [
      "Finished recalculating times in hexagons\n"
     ]
    }
   ],
   "source": [
    "#--------------- PROCESS DATA ---------- RE-CALCULATE MAX TIMES BY HEXAGON (ALL)\n",
    "# This step recalculates max time to each eje from max times to calculated amenities and max_time from max eje\n",
    "column_max_ejes = [] # list with ejes index column names\n",
    "\n",
    "#Goes (again) through each eje in dictionary:\n",
    "for e in idx_15_min.keys():\n",
    "\n",
    "    column_max_ejes.append('max_'+ e.lower())\n",
    "    column_max_amenities = [] # list with amenities in current eje\n",
    "\n",
    "    #Goes (again) through each amenity of current eje:    \n",
    "    for a in idx_15_min[e].keys():\n",
    "\n",
    "        column_max_amenities.append('max_'+ a.lower())\n",
    "\n",
    "    #Re-calculates time to currently examined eje (max time of its amenities):        \n",
    "    hex_idx['max_'+ e.lower()] = hex_idx[column_max_amenities].max(axis=1)\n",
    "\n",
    "#-----------------------------------------------------------------------------------------------------------------------------------------------------\n",
    "print('Finished recalculating times in hexagons')\n",
    "#-----------------------------------------------------------------------------------------------------------------------------------------------------   "
   ]
  },
  {
   "cell_type": "markdown",
   "id": "8ed4f409-6466-47fc-a95e-043c22d0f1aa",
   "metadata": {},
   "source": [
    "### Step 4 - Code - Calculate index and add aditional data"
   ]
  },
  {
   "cell_type": "code",
   "execution_count": 34,
   "id": "b496bb68-4e8a-4e64-a229-ca6b26c3a726",
   "metadata": {
    "tags": []
   },
   "outputs": [
    {
     "name": "stdout",
     "output_type": "stream",
     "text": [
      "Finished calculating index, mean and median time\n"
     ]
    }
   ],
   "source": [
    "#--------------- PROCESS DATA ---------- INDEX, MEDIAN AND MEAN CALCULATION (ALL)\n",
    "\n",
    "#Define function\n",
    "def apply_sigmoidal(x):\n",
    "    if x == -1:\n",
    "        return -1\n",
    "    elif x > 1000:\n",
    "        return 0\n",
    "    else:\n",
    "        val = aup.sigmoidal_function(0.1464814753435666, x, 30)\n",
    "        return val\n",
    "\n",
    "#Apply function to amenities columns without ejes ---------------------------------------------///// En lugar de pasarle la lista de amenidades, se crea la lista de amenidades desde column_max_all\n",
    "max_amenities_cols = [i for i in column_max_all if i not in column_max_ejes]\n",
    "max_amenities_cols.remove('max_time')\n",
    "max_amenities_cols.remove('osmid')\n",
    "max_amenities_cols.remove('geometry')\n",
    "\n",
    "idx_amenities_cols = [] # list with idx amenity column names\n",
    "for ac in max_amenities_cols:\n",
    "    idx_col = ac.replace('max','idx')\n",
    "    hex_idx[idx_col] = hex_idx[ac].apply(apply_sigmoidal)\n",
    "    idx_amenities_cols.append(idx_col)\n",
    "\n",
    "# Add final data\n",
    "hex_idx[index_column] = hex_idx[column_max_ejes].max(axis=1)\n",
    "hex_idx['mean_time'] = hex_idx[max_amenities_cols].mean(axis=1)\n",
    "hex_idx['median_time'] = hex_idx[max_amenities_cols].median(axis=1)\n",
    "hex_idx['idx_sum'] = hex_idx[idx_amenities_cols].sum(axis=1)\n",
    "hex_idx['city'] = city\n",
    "#-----------------------------------------------------------------------------------------------------------------------------------------------------    \n",
    "print('Finished calculating index, mean and median time')\n",
    "#-----------------------------------------------------------------------------------------------------------------------------------------------------"
   ]
  },
  {
   "cell_type": "markdown",
   "id": "d001a6e1-aee0-4459-8fba-7a8f211432f4",
   "metadata": {},
   "source": [
    "### Step 4 - Code - Final format"
   ]
  },
  {
   "cell_type": "code",
   "execution_count": 35,
   "id": "cd82f9ad-3a0a-42ea-bd19-cb59f6730f99",
   "metadata": {
    "tags": []
   },
   "outputs": [
    {
     "name": "stdout",
     "output_type": "stream",
     "text": [
      "Finished final format\n"
     ]
    }
   ],
   "source": [
    "#--------------- FINAL FORMAT ----------\n",
    "#--------------- FINAL FORMAT ---------- REORDER COLUMNS\n",
    "\n",
    "# First elements of ordered list - ID and geometry\n",
    "first_elements = ['hex_id','res','geometry']\n",
    "\n",
    "# Second elements of ordered list - max_ejes and max_amenities removing max_time, osmid and geometry.\n",
    "column_max_ejes_amenities = column_max_all.copy()\n",
    "column_max_ejes_amenities.remove('max_time')\n",
    "column_max_ejes_amenities.remove('osmid')\n",
    "column_max_ejes_amenities.remove('geometry')\n",
    "\n",
    "# Third elements of ordered list are listed in idx_amenities_cols\n",
    "\n",
    "# Fourth elements of ordered list - Mean, median, max and idx\n",
    "fourth_elements = ['mean_time', 'median_time', 'max_time', 'idx_sum']\n",
    "\n",
    "# Fifth elements - If pop is calculated - Pop data\n",
    "fifth_elements = ['pobtot', 'dens_pob_ha']\n",
    "\n",
    "# Last element - City data\n",
    "last_element = ['city']\n",
    "\n",
    "if pop_output:\n",
    "    final_column_ordered_list = first_elements + column_max_ejes_amenities + idx_amenities_cols + fourth_elements + fifth_elements + last_element\n",
    "else:\n",
    "    final_column_ordered_list = first_elements + column_max_ejes_amenities + idx_amenities_cols + fourth_elements + last_element\n",
    "    \n",
    "hex_idx_city = hex_idx[final_column_ordered_list]\n",
    "\n",
    "if save_space:\n",
    "    del hex_idx\n",
    "    \n",
    "#---------------------------------------------------------------------------------------------------------------------------------------------------------\n",
    "print('Finished final format')\n",
    "#---------------------------------------------------------------------------------------------------------------------------------------------------------"
   ]
  },
  {
   "cell_type": "code",
   "execution_count": 36,
   "id": "3014da94-129d-4cad-b693-b0418420c085",
   "metadata": {
    "tags": []
   },
   "outputs": [],
   "source": [
    "if save:\n",
    "    hex_idx_city.to_file(proximityanalysis_save_dir, driver='GPKG')"
   ]
  },
  {
   "cell_type": "markdown",
   "id": "3d3d1071-9113-4d59-932d-67bb13585933",
   "metadata": {},
   "source": [
    "### Used to compare data using graph_from_hippo vs using graph from osmnx"
   ]
  },
  {
   "cell_type": "code",
   "execution_count": null,
   "id": "6dfb3269-c7a1-4ce1-a264-f27e620f8f14",
   "metadata": {
    "tags": []
   },
   "outputs": [],
   "source": [
    "#datos = column_max_ejes_amenities + idx_amenities_cols + fourth_elements + fifth_elements\n",
    "#datos\n",
    "\n",
    "#summarydata = pd.DataFrame()\n",
    "\n",
    "#i = 0\n",
    "\n",
    "#for c in datos:\n",
    "#    suma = hex_idx_city[c].mean()\n",
    "#    summarydata.loc[i,'columna'] = c\n",
    "#    summarydata.loc[i,'data'] = suma\n",
    "#    i = i+1\n",
    "    \n",
    "#summarydata"
   ]
  },
  {
   "cell_type": "code",
   "execution_count": null,
   "id": "658e1c42-e9d6-4187-9705-58b17124d66c",
   "metadata": {},
   "outputs": [],
   "source": []
  }
 ],
 "metadata": {
  "kernelspec": {
   "display_name": "Python 3 (ipykernel)",
   "language": "python",
   "name": "python3"
  },
  "language_info": {
   "codemirror_mode": {
    "name": "ipython",
    "version": 3
   },
   "file_extension": ".py",
   "mimetype": "text/x-python",
   "name": "python",
   "nbconvert_exporter": "python",
   "pygments_lexer": "ipython3",
   "version": "3.10.5"
  }
 },
 "nbformat": 4,
 "nbformat_minor": 5
}
