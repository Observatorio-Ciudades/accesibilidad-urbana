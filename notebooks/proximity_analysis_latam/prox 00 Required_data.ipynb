{
 "cells": [
  {
   "cell_type": "code",
   "execution_count": 1,
   "id": "b13b24f7-80c2-437a-821c-fb285b62577f",
   "metadata": {
    "tags": []
   },
   "outputs": [
    {
     "name": "stderr",
     "output_type": "stream",
     "text": [
      "/usr/local/python/lib/python3.10/site-packages/osmnx/utils.py:192: UserWarning: The `utils.config` function is deprecated and will be removed in a future release. Instead, use the `settings` module directly to configure a global setting's value. For example, `ox.settings.log_console=True`.\n",
      "  warnings.warn(\n"
     ]
    }
   ],
   "source": [
    "import os\n",
    "import sys\n",
    "\n",
    "import pandas as pd\n",
    "import geopandas as gpd\n",
    "import osmnx as ox\n",
    "import numpy as np\n",
    "\n",
    "import matplotlib.pyplot as plt\n",
    "import seaborn as sns\n",
    "\n",
    "import warnings\n",
    "warnings.simplefilter(action='ignore', category=FutureWarning)\n",
    "\n",
    "module_path = os.path.abspath(os.path.join('../../'))\n",
    "if module_path not in sys.path:\n",
    "    sys.path.append(module_path)\n",
    "    import aup"
   ]
  },
  {
   "cell_type": "code",
   "execution_count": 3,
   "id": "07a6cae1-e032-4e25-bff2-0c5cb35985c0",
   "metadata": {
    "tags": []
   },
   "outputs": [],
   "source": [
    "save = True\n",
    "save_space = True"
   ]
  },
  {
   "cell_type": "markdown",
   "id": "b6cb21fe-9c7d-424d-b2b8-eae678e35f0b",
   "metadata": {},
   "source": [
    "## Required data"
   ]
  },
  {
   "cell_type": "markdown",
   "id": "26265457-c499-46a9-98e2-22d34d9ac177",
   "metadata": {},
   "source": [
    "### Required data - Area of interest"
   ]
  },
  {
   "cell_type": "code",
   "execution_count": 2,
   "id": "4b4a1880-01c8-4afb-a51b-5f8cfdbb1778",
   "metadata": {
    "tags": []
   },
   "outputs": [
    {
     "data": {
      "text/plain": [
       "<Axes: >"
      ]
     },
     "execution_count": 2,
     "metadata": {},
     "output_type": "execute_result"
    },
    {
     "data": {
      "image/png": "[encoded data removed]",
      "text/plain": [
       "<Figure size 640x480 with 1 Axes>"
      ]
     },
     "metadata": {},
     "output_type": "display_data"
    }
   ],
   "source": [
    "city = 'Monterrey'\n",
    "\n",
    "# Source Data\n",
    "schema = 'metropolis'\n",
    "folder = 'metro_gdf'\n",
    "\n",
    "# Downloads hexagons within 'city'\n",
    "query = f\"SELECT * FROM {schema}.{folder} WHERE \\\"city\\\" LIKE \\'{city}\\'\"\n",
    "mun_gdf = aup.gdf_from_query(query, geometry_col='geometry')\n",
    "\n",
    "mun_gdf = mun_gdf.set_crs(\"EPSG:4326\")\n",
    "aoi = mun_gdf.dissolve()\n",
    "aoi = aoi[['city','geometry']]\n",
    "\n",
    "#Show\n",
    "aoi.plot()"
   ]
  },
  {
   "cell_type": "code",
   "execution_count": 4,
   "id": "f39f5962-f22f-49a4-975f-d693356aa247",
   "metadata": {
    "tags": []
   },
   "outputs": [],
   "source": [
    "#Save\n",
    "if save:\n",
    "    aoi.to_file('../../data/external/prox_latam/aoi_mty.gpkg', driver='GPKG')"
   ]
  },
  {
   "cell_type": "markdown",
   "id": "37adea54-c124-4fda-81b0-247d0c31586a",
   "metadata": {},
   "source": [
    "### Required data - Points of interest - DENUE"
   ]
  },
  {
   "cell_type": "code",
   "execution_count": 4,
   "id": "d780e3ec-a11b-4833-acb0-f6a85bac4fd7",
   "metadata": {
    "tags": []
   },
   "outputs": [],
   "source": [
    "poly_wkt = aoi.dissolve().geometry.to_wkt()[0]"
   ]
  },
  {
   "cell_type": "code",
   "execution_count": 5,
   "id": "a64b6a32-7af3-41a8-9d1d-5278e76848cb",
   "metadata": {
    "tags": []
   },
   "outputs": [
    {
     "name": "stdout",
     "output_type": "stream",
     "text": [
      "(166633, 2)\n"
     ]
    },
    {
     "data": {
      "text/html": [
       "<div>\n",
       "<style scoped>\n",
       "    .dataframe tbody tr th:only-of-type {\n",
       "        vertical-align: middle;\n",
       "    }\n",
       "\n",
       "    .dataframe tbody tr th {\n",
       "        vertical-align: top;\n",
       "    }\n",
       "\n",
       "    .dataframe thead th {\n",
       "        text-align: right;\n",
       "    }\n",
       "</style>\n",
       "<table border=\"1\" class=\"dataframe\">\n",
       "  <thead>\n",
       "    <tr style=\"text-align: right;\">\n",
       "      <th></th>\n",
       "      <th>codigo_act</th>\n",
       "      <th>geometry</th>\n",
       "    </tr>\n",
       "  </thead>\n",
       "  <tbody>\n",
       "    <tr>\n",
       "      <th>0</th>\n",
       "      <td>237212.0</td>\n",
       "      <td>POINT (-100.20686 25.67193)</td>\n",
       "    </tr>\n",
       "    <tr>\n",
       "      <th>1</th>\n",
       "      <td>237312.0</td>\n",
       "      <td>POINT (-100.19833 25.67555)</td>\n",
       "    </tr>\n",
       "  </tbody>\n",
       "</table>\n",
       "</div>"
      ],
      "text/plain": [
       "   codigo_act                     geometry\n",
       "0    237212.0  POINT (-100.20686 25.67193)\n",
       "1    237312.0  POINT (-100.19833 25.67555)"
      ]
     },
     "execution_count": 5,
     "metadata": {},
     "output_type": "execute_result"
    }
   ],
   "source": [
    "# Creates query to download DENUE from the metropolitan area or capital\n",
    "query = f\"SELECT * FROM denue.denue_2020 WHERE ST_Intersects(geometry, \\'SRID=4326;{poly_wkt}\\')\"\n",
    "denue = aup.gdf_from_query(query, geometry_col='geometry')\n",
    "\n",
    "denue = denue[['codigo_act', 'geometry']]\n",
    "\n",
    "#Show\n",
    "print(denue.shape)\n",
    "denue.head(2)"
   ]
  },
  {
   "cell_type": "code",
   "execution_count": 6,
   "id": "dcf316cf-ffe5-4b81-b36b-07da02e2d146",
   "metadata": {
    "tags": []
   },
   "outputs": [
    {
     "name": "stdout",
     "output_type": "stream",
     "text": [
      "(61930, 2)\n"
     ]
    },
    {
     "data": {
      "text/html": [
       "<div>\n",
       "<style scoped>\n",
       "    .dataframe tbody tr th:only-of-type {\n",
       "        vertical-align: middle;\n",
       "    }\n",
       "\n",
       "    .dataframe tbody tr th {\n",
       "        vertical-align: top;\n",
       "    }\n",
       "\n",
       "    .dataframe thead th {\n",
       "        text-align: right;\n",
       "    }\n",
       "</style>\n",
       "<table border=\"1\" class=\"dataframe\">\n",
       "  <thead>\n",
       "    <tr style=\"text-align: right;\">\n",
       "      <th></th>\n",
       "      <th>code</th>\n",
       "      <th>geometry</th>\n",
       "    </tr>\n",
       "  </thead>\n",
       "  <tbody>\n",
       "    <tr>\n",
       "      <th>217</th>\n",
       "      <td>611111</td>\n",
       "      <td>POINT (-100.20505 25.67201)</td>\n",
       "    </tr>\n",
       "    <tr>\n",
       "      <th>1246</th>\n",
       "      <td>611111</td>\n",
       "      <td>POINT (-100.32507 25.69189)</td>\n",
       "    </tr>\n",
       "  </tbody>\n",
       "</table>\n",
       "</div>"
      ],
      "text/plain": [
       "        code                     geometry\n",
       "217   611111  POINT (-100.20505 25.67201)\n",
       "1246  611111  POINT (-100.32507 25.69189)"
      ]
     },
     "execution_count": 6,
     "metadata": {},
     "output_type": "execute_result"
    }
   ],
   "source": [
    "# Set denue amenities of interest\n",
    "denue_sources = {'denue_preescolar':[611111, 611112], \n",
    "                 'denue_primaria':[611121, 611122],\n",
    "                 'denue_secundaria':[611131, 611132], \n",
    "                 'denue_guarderias':[624411, 624412],\n",
    "                 'denue_dif':[931610],\n",
    "                 'denue_supermercado':[462111],'denue_abarrotes':[461110], 'denue_carnicerias': [461121, 461122, 461123],\n",
    "                 'denue_peluqueria':[812110],\n",
    "                 'denue_farmacias':[464111, 464112],\n",
    "                 'denue_ferreteria_tlapaleria':[467111],'denue_art_limpieza':[467115],\n",
    "                 'denue_ropa':[463211, 463212, 463213, 463215, 463216, 463218],'denue_calzado':[463310], 'denue_muebles':[466111, 466112, 466113, 466114],'denue_lavanderia':[812210],'denue_revistas_periodicos':[465313],'denue_pintura':[467113],\n",
    "                 'denue_restaurante_insitu':[722511, 722512, 722513, 722514, 722519],'denue_restaurante_llevar':[722516, 722518, 722517],'denue_bares':[722412],'denue_cafe':[722515],\n",
    "                 'denue_parque_natural':[712190],\n",
    "                 'denue_cines':[512130],\n",
    "                 'denue_centro_cultural':[711311,711312],'denue_biblioteca':[519121,519122],\n",
    "                 'denue_museos':[712111, 712112]}\n",
    "\n",
    "# Iterate over denue_amenities and filter denue gdf\n",
    "denue_pois = gpd.GeoDataFrame()\n",
    "\n",
    "for s in denue_sources:\n",
    "    for code in denue_sources[s]:\n",
    "        denue_tmp = denue.loc[denue['codigo_act'] == code]\n",
    "        denue_pois = pd.concat([denue_pois,denue_tmp])\n",
    "\n",
    "# Format\n",
    "denue_pois = denue_pois.rename(columns={'codigo_act':'code'})\n",
    "denue_pois['code'] = denue_pois['code'].astype('int64')\n",
    "\n",
    "# Saves space in disk if instructed\n",
    "if save_space:\n",
    "    del denue\n",
    "    del denue_tmp\n",
    "        \n",
    "# Show\n",
    "print(denue_pois.shape)\n",
    "denue_pois.head(2)"
   ]
  },
  {
   "cell_type": "markdown",
   "id": "f46d825e-619f-4c07-ba78-dd3f0867cc47",
   "metadata": {},
   "source": [
    "### Required data - Points of interest - CLUES"
   ]
  },
  {
   "cell_type": "code",
   "execution_count": 7,
   "id": "89a0ede0-df18-40d5-9e5b-056ef73ac2be",
   "metadata": {
    "tags": []
   },
   "outputs": [
    {
     "name": "stdout",
     "output_type": "stream",
     "text": [
      "(878, 2)\n"
     ]
    },
    {
     "name": "stderr",
     "output_type": "stream",
     "text": [
      "/usr/local/python/lib/python3.10/site-packages/geopandas/geodataframe.py:1443: SettingWithCopyWarning: \n",
      "A value is trying to be set on a copy of a slice from a DataFrame.\n",
      "Try using .loc[row_indexer,col_indexer] = value instead\n",
      "\n",
      "See the caveats in the documentation: https://pandas.pydata.org/pandas-docs/stable/user_guide/indexing.html#returning-a-view-versus-a-copy\n",
      "  super().__setitem__(key, value)\n"
     ]
    },
    {
     "data": {
      "text/html": [
       "<div>\n",
       "<style scoped>\n",
       "    .dataframe tbody tr th:only-of-type {\n",
       "        vertical-align: middle;\n",
       "    }\n",
       "\n",
       "    .dataframe tbody tr th {\n",
       "        vertical-align: top;\n",
       "    }\n",
       "\n",
       "    .dataframe thead th {\n",
       "        text-align: right;\n",
       "    }\n",
       "</style>\n",
       "<table border=\"1\" class=\"dataframe\">\n",
       "  <thead>\n",
       "    <tr style=\"text-align: right;\">\n",
       "      <th></th>\n",
       "      <th>code</th>\n",
       "      <th>geometry</th>\n",
       "    </tr>\n",
       "  </thead>\n",
       "  <tbody>\n",
       "    <tr>\n",
       "      <th>0</th>\n",
       "      <td>8610</td>\n",
       "      <td>POINT (-100.28076 25.34542)</td>\n",
       "    </tr>\n",
       "    <tr>\n",
       "      <th>1</th>\n",
       "      <td>8610</td>\n",
       "      <td>POINT (-100.42010 25.36860)</td>\n",
       "    </tr>\n",
       "  </tbody>\n",
       "</table>\n",
       "</div>"
      ],
      "text/plain": [
       "   code                     geometry\n",
       "0  8610  POINT (-100.28076 25.34542)\n",
       "1  8610  POINT (-100.42010 25.36860)"
      ]
     },
     "execution_count": 7,
     "metadata": {},
     "output_type": "execute_result"
    }
   ],
   "source": [
    "# Creates query to download DENUE from the metropolitan area or capital\n",
    "query = f\"SELECT * FROM denue.clues WHERE ST_Intersects(geometry, \\'SRID=4326;{poly_wkt}\\')\"\n",
    "clues = aup.gdf_from_query(query, geometry_col='geometry')\n",
    "\n",
    "# Set and filter CLUES amenities of interest\n",
    "clues_pois = clues.loc[clues['nivel_atencion'] == 'PRIMER NIVEL']\n",
    "\n",
    "#Format\n",
    "clues_pois.loc[:,'code'] = 8610\n",
    "clues_pois = clues_pois[['code','geometry']]\n",
    "\n",
    "# Saves space in disk if instructed\n",
    "if save_space:\n",
    "    del clues\n",
    "\n",
    "# Show\n",
    "print(clues_pois.shape)\n",
    "clues_pois.head(2)"
   ]
  },
  {
   "cell_type": "markdown",
   "id": "bd808f7d-dde8-4947-8d4e-68bd441e93b8",
   "metadata": {},
   "source": [
    "### Required data - Points of interest - SIP"
   ]
  },
  {
   "cell_type": "code",
   "execution_count": 8,
   "id": "01b18794-358e-478c-b2d8-249d30d12ed6",
   "metadata": {
    "tags": []
   },
   "outputs": [
    {
     "name": "stdout",
     "output_type": "stream",
     "text": [
      "(5070, 2)\n"
     ]
    },
    {
     "name": "stderr",
     "output_type": "stream",
     "text": [
      "/usr/local/python/lib/python3.10/site-packages/geopandas/geodataframe.py:1443: SettingWithCopyWarning: \n",
      "A value is trying to be set on a copy of a slice from a DataFrame.\n",
      "Try using .loc[row_indexer,col_indexer] = value instead\n",
      "\n",
      "See the caveats in the documentation: https://pandas.pydata.org/pandas-docs/stable/user_guide/indexing.html#returning-a-view-versus-a-copy\n",
      "  super().__setitem__(key, value)\n",
      "/usr/local/python/lib/python3.10/site-packages/geopandas/geodataframe.py:1443: SettingWithCopyWarning: \n",
      "A value is trying to be set on a copy of a slice from a DataFrame.\n",
      "Try using .loc[row_indexer,col_indexer] = value instead\n",
      "\n",
      "See the caveats in the documentation: https://pandas.pydata.org/pandas-docs/stable/user_guide/indexing.html#returning-a-view-versus-a-copy\n",
      "  super().__setitem__(key, value)\n",
      "/usr/local/python/lib/python3.10/site-packages/geopandas/geodataframe.py:1443: SettingWithCopyWarning: \n",
      "A value is trying to be set on a copy of a slice from a DataFrame.\n",
      "Try using .loc[row_indexer,col_indexer] = value instead\n",
      "\n",
      "See the caveats in the documentation: https://pandas.pydata.org/pandas-docs/stable/user_guide/indexing.html#returning-a-view-versus-a-copy\n",
      "  super().__setitem__(key, value)\n",
      "/usr/local/python/lib/python3.10/site-packages/geopandas/geodataframe.py:1443: SettingWithCopyWarning: \n",
      "A value is trying to be set on a copy of a slice from a DataFrame.\n",
      "Try using .loc[row_indexer,col_indexer] = value instead\n",
      "\n",
      "See the caveats in the documentation: https://pandas.pydata.org/pandas-docs/stable/user_guide/indexing.html#returning-a-view-versus-a-copy\n",
      "  super().__setitem__(key, value)\n",
      "/usr/local/python/lib/python3.10/site-packages/geopandas/geodataframe.py:1443: SettingWithCopyWarning: \n",
      "A value is trying to be set on a copy of a slice from a DataFrame.\n",
      "Try using .loc[row_indexer,col_indexer] = value instead\n",
      "\n",
      "See the caveats in the documentation: https://pandas.pydata.org/pandas-docs/stable/user_guide/indexing.html#returning-a-view-versus-a-copy\n",
      "  super().__setitem__(key, value)\n",
      "/usr/local/python/lib/python3.10/site-packages/geopandas/geodataframe.py:1443: SettingWithCopyWarning: \n",
      "A value is trying to be set on a copy of a slice from a DataFrame.\n",
      "Try using .loc[row_indexer,col_indexer] = value instead\n",
      "\n",
      "See the caveats in the documentation: https://pandas.pydata.org/pandas-docs/stable/user_guide/indexing.html#returning-a-view-versus-a-copy\n",
      "  super().__setitem__(key, value)\n",
      "/usr/local/python/lib/python3.10/site-packages/geopandas/geodataframe.py:1443: SettingWithCopyWarning: \n",
      "A value is trying to be set on a copy of a slice from a DataFrame.\n",
      "Try using .loc[row_indexer,col_indexer] = value instead\n",
      "\n",
      "See the caveats in the documentation: https://pandas.pydata.org/pandas-docs/stable/user_guide/indexing.html#returning-a-view-versus-a-copy\n",
      "  super().__setitem__(key, value)\n"
     ]
    },
    {
     "data": {
      "text/html": [
       "<div>\n",
       "<style scoped>\n",
       "    .dataframe tbody tr th:only-of-type {\n",
       "        vertical-align: middle;\n",
       "    }\n",
       "\n",
       "    .dataframe tbody tr th {\n",
       "        vertical-align: top;\n",
       "    }\n",
       "\n",
       "    .dataframe thead th {\n",
       "        text-align: right;\n",
       "    }\n",
       "</style>\n",
       "<table border=\"1\" class=\"dataframe\">\n",
       "  <thead>\n",
       "    <tr style=\"text-align: right;\">\n",
       "      <th></th>\n",
       "      <th>code</th>\n",
       "      <th>geometry</th>\n",
       "    </tr>\n",
       "  </thead>\n",
       "  <tbody>\n",
       "    <tr>\n",
       "      <th>1797</th>\n",
       "      <td>4721</td>\n",
       "      <td>POINT (-100.31708 25.68795)</td>\n",
       "    </tr>\n",
       "    <tr>\n",
       "      <th>2118</th>\n",
       "      <td>4721</td>\n",
       "      <td>POINT (-100.31852 25.66898)</td>\n",
       "    </tr>\n",
       "  </tbody>\n",
       "</table>\n",
       "</div>"
      ],
      "text/plain": [
       "      code                     geometry\n",
       "1797  4721  POINT (-100.31708 25.68795)\n",
       "2118  4721  POINT (-100.31852 25.66898)"
      ]
     },
     "execution_count": 8,
     "metadata": {},
     "output_type": "execute_result"
    }
   ],
   "source": [
    "# Creates query to download DENUE from the metropolitan area or capital\n",
    "query = f\"SELECT * FROM denue.sip_2020 WHERE ST_Intersects(geometry, \\'SRID=4326;{poly_wkt}\\')\"\n",
    "sip = aup.gdf_from_query(query, geometry_col='geometry')\n",
    "\n",
    "sip_amenities = {'GEOGRAFICO':['Mercado','Plaza'], \n",
    "                 'TIPO':['Cancha','Unidad Deportiva','Áreas Verdes','Jardín','Parque']}\n",
    "\n",
    "sip_amenities_codes = {\n",
    "    #sip_mercado\n",
    "    'Mercado':4721,\n",
    "    #sip_cancha                   \n",
    "    'Cancha':93110,\n",
    "    #sip_unidad_deportiva                   \n",
    "    'Unidad Deportiva':93111,\n",
    "    #sip_espacio_publico\n",
    "    'Áreas Verdes':9321,    \n",
    "    'Jardín':9321,    \n",
    "    'Parque':9321, \n",
    "    'Plaza':9321}    \n",
    "    \n",
    "# Iterate over sip_amenities and filter sip gdf\n",
    "sip_pois = gpd.GeoDataFrame()\n",
    "\n",
    "for col in sip_amenities:\n",
    "    for amenity in sip_amenities[col]:\n",
    "        sip_tmp = sip.loc[sip[col] == amenity]\n",
    "        sip_tmp.loc[:,'code'] = sip_amenities_codes[amenity]\n",
    "        sip_pois = pd.concat([sip_pois,sip_tmp])\n",
    "\n",
    "#Format\n",
    "sip_pois = sip_pois[['code','geometry']]\n",
    "\n",
    "# Saves space in disk if instructed\n",
    "if save_space:\n",
    "    del sip\n",
    "\n",
    "# Show\n",
    "print(sip_pois.shape)\n",
    "sip_pois.head(2)"
   ]
  },
  {
   "cell_type": "code",
   "execution_count": 9,
   "id": "81e1be54-72f5-4106-9568-fd837a5279db",
   "metadata": {
    "tags": []
   },
   "outputs": [
    {
     "name": "stdout",
     "output_type": "stream",
     "text": [
      "(67878, 2)\n"
     ]
    },
    {
     "data": {
      "text/html": [
       "<div>\n",
       "<style scoped>\n",
       "    .dataframe tbody tr th:only-of-type {\n",
       "        vertical-align: middle;\n",
       "    }\n",
       "\n",
       "    .dataframe tbody tr th {\n",
       "        vertical-align: top;\n",
       "    }\n",
       "\n",
       "    .dataframe thead th {\n",
       "        text-align: right;\n",
       "    }\n",
       "</style>\n",
       "<table border=\"1\" class=\"dataframe\">\n",
       "  <thead>\n",
       "    <tr style=\"text-align: right;\">\n",
       "      <th></th>\n",
       "      <th>code</th>\n",
       "      <th>geometry</th>\n",
       "    </tr>\n",
       "  </thead>\n",
       "  <tbody>\n",
       "    <tr>\n",
       "      <th>217</th>\n",
       "      <td>611111</td>\n",
       "      <td>POINT (-100.20505 25.67201)</td>\n",
       "    </tr>\n",
       "    <tr>\n",
       "      <th>1246</th>\n",
       "      <td>611111</td>\n",
       "      <td>POINT (-100.32507 25.69189)</td>\n",
       "    </tr>\n",
       "  </tbody>\n",
       "</table>\n",
       "</div>"
      ],
      "text/plain": [
       "        code                     geometry\n",
       "217   611111  POINT (-100.20505 25.67201)\n",
       "1246  611111  POINT (-100.32507 25.69189)"
      ]
     },
     "execution_count": 9,
     "metadata": {},
     "output_type": "execute_result"
    }
   ],
   "source": [
    "pois = pd.concat([denue_pois,clues_pois,sip_pois])\n",
    "\n",
    "# Saves space in disk if instructed\n",
    "if save_space:\n",
    "    del denue_pois\n",
    "    del clues_pois\n",
    "    del sip_pois\n",
    "\n",
    "# Show\n",
    "print(pois.shape)\n",
    "pois.head(2)"
   ]
  },
  {
   "cell_type": "code",
   "execution_count": 10,
   "id": "1a930977-7247-4f59-b14b-c790a8ba95da",
   "metadata": {
    "tags": []
   },
   "outputs": [],
   "source": [
    "#Save\n",
    "if save:\n",
    "    pois.to_file('../../data/external/prox_latam/pois_cultural_mty.gpkg', driver='GPKG')"
   ]
  },
  {
   "cell_type": "markdown",
   "id": "dc4983ee-fe4d-4ff5-a2c4-c6ad1a59a357",
   "metadata": {},
   "source": [
    "### Required data - Pop data"
   ]
  },
  {
   "cell_type": "code",
   "execution_count": 12,
   "id": "dab5be4c-b1dc-4b19-8cc2-720a9e36fb59",
   "metadata": {
    "tags": []
   },
   "outputs": [
    {
     "name": "stderr",
     "output_type": "stream",
     "text": [
      "Exception during reset or similar\n",
      "Traceback (most recent call last):\n",
      "  File \"/usr/local/python/lib/python3.10/site-packages/sqlalchemy/pool/base.py\", line 991, in _finalize_fairy\n",
      "    fairy._reset(\n",
      "  File \"/usr/local/python/lib/python3.10/site-packages/sqlalchemy/pool/base.py\", line 1440, in _reset\n",
      "    pool._dialect.do_rollback(self)\n",
      "  File \"/usr/local/python/lib/python3.10/site-packages/sqlalchemy/engine/default.py\", line 657, in do_rollback\n",
      "    dbapi_connection.rollback()\n",
      "psycopg2.OperationalError: SSL SYSCALL error: EOF detected\n",
      "\n",
      "Exception during reset or similar\n",
      "Traceback (most recent call last):\n",
      "  File \"/usr/local/python/lib/python3.10/site-packages/sqlalchemy/pool/base.py\", line 991, in _finalize_fairy\n",
      "    fairy._reset(\n",
      "  File \"/usr/local/python/lib/python3.10/site-packages/sqlalchemy/pool/base.py\", line 1440, in _reset\n",
      "    pool._dialect.do_rollback(self)\n",
      "  File \"/usr/local/python/lib/python3.10/site-packages/sqlalchemy/engine/default.py\", line 657, in do_rollback\n",
      "    dbapi_connection.rollback()\n",
      "psycopg2.OperationalError: SSL SYSCALL error: EOF detected\n",
      "\n",
      "Exception during reset or similar\n",
      "Traceback (most recent call last):\n",
      "  File \"/usr/local/python/lib/python3.10/site-packages/sqlalchemy/pool/base.py\", line 991, in _finalize_fairy\n",
      "    fairy._reset(\n",
      "  File \"/usr/local/python/lib/python3.10/site-packages/sqlalchemy/pool/base.py\", line 1440, in _reset\n",
      "    pool._dialect.do_rollback(self)\n",
      "  File \"/usr/local/python/lib/python3.10/site-packages/sqlalchemy/engine/default.py\", line 657, in do_rollback\n",
      "    dbapi_connection.rollback()\n",
      "psycopg2.OperationalError: SSL SYSCALL error: EOF detected\n",
      "\n"
     ]
    },
    {
     "name": "stdout",
     "output_type": "stream",
     "text": [
      "Downloaded pop data for aoi.\n",
      "(64727, 239)\n"
     ]
    },
    {
     "data": {
      "text/html": [
       "<div>\n",
       "<style scoped>\n",
       "    .dataframe tbody tr th:only-of-type {\n",
       "        vertical-align: middle;\n",
       "    }\n",
       "\n",
       "    .dataframe tbody tr th {\n",
       "        vertical-align: top;\n",
       "    }\n",
       "\n",
       "    .dataframe thead th {\n",
       "        text-align: right;\n",
       "    }\n",
       "</style>\n",
       "<table border=\"1\" class=\"dataframe\">\n",
       "  <thead>\n",
       "    <tr style=\"text-align: right;\">\n",
       "      <th></th>\n",
       "      <th>CVEGEO</th>\n",
       "      <th>CVE_ENT</th>\n",
       "      <th>CVE_MUN</th>\n",
       "      <th>CVE_LOC</th>\n",
       "      <th>CVE_AGEB</th>\n",
       "      <th>CVE_MZA</th>\n",
       "      <th>AMBITO</th>\n",
       "      <th>TIPOMZA</th>\n",
       "      <th>geometry</th>\n",
       "      <th>ENTIDAD</th>\n",
       "      <th>...</th>\n",
       "      <th>VPH_TELEF</th>\n",
       "      <th>VPH_CEL</th>\n",
       "      <th>VPH_INTER</th>\n",
       "      <th>VPH_STVP</th>\n",
       "      <th>VPH_SPMVPI</th>\n",
       "      <th>VPH_CVJ</th>\n",
       "      <th>VPH_SINRTV</th>\n",
       "      <th>VPH_SINLTC</th>\n",
       "      <th>VPH_SINCINT</th>\n",
       "      <th>VPH_SINTIC</th>\n",
       "    </tr>\n",
       "  </thead>\n",
       "  <tbody>\n",
       "    <tr>\n",
       "      <th>0</th>\n",
       "      <td>1900100010055001</td>\n",
       "      <td>19</td>\n",
       "      <td>001</td>\n",
       "      <td>0001</td>\n",
       "      <td>0055</td>\n",
       "      <td>001</td>\n",
       "      <td>Urbana</td>\n",
       "      <td>Típica</td>\n",
       "      <td>POLYGON ((-100.38820 25.94035, -100.38939 25.9...</td>\n",
       "      <td>19</td>\n",
       "      <td>...</td>\n",
       "      <td>None</td>\n",
       "      <td>None</td>\n",
       "      <td>None</td>\n",
       "      <td>None</td>\n",
       "      <td>None</td>\n",
       "      <td>None</td>\n",
       "      <td>None</td>\n",
       "      <td>None</td>\n",
       "      <td>None</td>\n",
       "      <td>None</td>\n",
       "    </tr>\n",
       "    <tr>\n",
       "      <th>1</th>\n",
       "      <td>1900100010021004</td>\n",
       "      <td>19</td>\n",
       "      <td>001</td>\n",
       "      <td>0001</td>\n",
       "      <td>0021</td>\n",
       "      <td>004</td>\n",
       "      <td>Urbana</td>\n",
       "      <td>Típica</td>\n",
       "      <td>POLYGON ((-100.40140 25.94833, -100.40127 25.9...</td>\n",
       "      <td>19</td>\n",
       "      <td>...</td>\n",
       "      <td>None</td>\n",
       "      <td>7</td>\n",
       "      <td>4</td>\n",
       "      <td>3</td>\n",
       "      <td>4</td>\n",
       "      <td>3</td>\n",
       "      <td>0</td>\n",
       "      <td>0</td>\n",
       "      <td>3</td>\n",
       "      <td>0</td>\n",
       "    </tr>\n",
       "  </tbody>\n",
       "</table>\n",
       "<p>2 rows × 239 columns</p>\n",
       "</div>"
      ],
      "text/plain": [
       "             CVEGEO CVE_ENT CVE_MUN CVE_LOC CVE_AGEB CVE_MZA  AMBITO TIPOMZA  \\\n",
       "0  1900100010055001      19     001    0001     0055     001  Urbana  Típica   \n",
       "1  1900100010021004      19     001    0001     0021     004  Urbana  Típica   \n",
       "\n",
       "                                            geometry  ENTIDAD  ... VPH_TELEF  \\\n",
       "0  POLYGON ((-100.38820 25.94035, -100.38939 25.9...       19  ...      None   \n",
       "1  POLYGON ((-100.40140 25.94833, -100.40127 25.9...       19  ...      None   \n",
       "\n",
       "   VPH_CEL VPH_INTER  VPH_STVP VPH_SPMVPI VPH_CVJ  VPH_SINRTV  VPH_SINLTC  \\\n",
       "0     None      None      None       None    None        None        None   \n",
       "1        7         4         3          4       3           0           0   \n",
       "\n",
       "  VPH_SINCINT VPH_SINTIC  \n",
       "0        None       None  \n",
       "1           3          0  \n",
       "\n",
       "[2 rows x 239 columns]"
      ]
     },
     "execution_count": 12,
     "metadata": {},
     "output_type": "execute_result"
    }
   ],
   "source": [
    "# Get CVEGEO list from Municipality\n",
    "cve_geo_lst = mun_gdf.CVEGEO.unique()\n",
    "\n",
    "# Query from CVEGEO list\n",
    "schema = 'censo_mza'\n",
    "table = 'censo_mza_2020'\n",
    "\n",
    "pop_gdf = gpd.GeoDataFrame()\n",
    "\n",
    "for i in range(len(cve_geo_lst)):\n",
    "    m = cve_geo_lst[i]\n",
    "    query = f\"SELECT * FROM {schema}.{table} WHERE \\\"CVEGEO\\\" LIKE \\'{m}%%\\'\"\n",
    "    pop_gdf = pop_gdf.append(aup.gdf_from_query(query, geometry_col='geometry'))\n",
    "    \n",
    "#---------------------------------------------------------------------------------------------------------------------------------------------------------\n",
    "print(f\"Downloaded pop data for aoi.\")\n",
    "#---------------------------------------------------------------------------------------------------------------------------------------------------------\n",
    "\n",
    "#Show\n",
    "print(pop_gdf.shape)\n",
    "pop_gdf.head(2)"
   ]
  },
  {
   "cell_type": "code",
   "execution_count": 13,
   "id": "0282fdef-a86b-4559-b8c2-293aa26c8ac7",
   "metadata": {
    "tags": []
   },
   "outputs": [],
   "source": [
    "#Save\n",
    "if save:\n",
    "    pop_gdf.to_file('../../data/external/prox_latam/pop_gdf_mty.gpkg', driver='GPKG')"
   ]
  },
  {
   "cell_type": "code",
   "execution_count": null,
   "id": "139c12a8-18ec-44b3-b0e8-0cf344aae33f",
   "metadata": {},
   "outputs": [],
   "source": []
  }
 ],
 "metadata": {
  "kernelspec": {
   "display_name": "Python 3 (ipykernel)",
   "language": "python",
   "name": "python3"
  },
  "language_info": {
   "codemirror_mode": {
    "name": "ipython",
    "version": 3
   },
   "file_extension": ".py",
   "mimetype": "text/x-python",
   "name": "python",
   "nbconvert_exporter": "python",
   "pygments_lexer": "ipython3",
   "version": "3.10.5"
  }
 },
 "nbformat": 4,
 "nbformat_minor": 5
}
