{
 "cells": [
  {
   "cell_type": "markdown",
   "id": "187cd46a-5e58-4292-a4f9-34f9f19d9e7e",
   "metadata": {},
   "source": [
    "## Import libraries"
   ]
  },
  {
   "cell_type": "code",
   "execution_count": 1,
   "id": "779e2272-7f0c-432b-bdd0-a68b7feeb000",
   "metadata": {
    "tags": []
   },
   "outputs": [
    {
     "name": "stderr",
     "output_type": "stream",
     "text": [
      "/usr/local/python/lib/python3.10/site-packages/osmnx/utils.py:192: UserWarning: The `utils.config` function is deprecated and will be removed in a future release. Instead, use the `settings` module directly to configure a global setting's value. For example, `ox.settings.log_console=True`.\n",
      "  warnings.warn(\n",
      "/root/accesibilidad-urbana/aup/analysis.py:587: SyntaxWarning: 'float' object is not callable; perhaps you missed a comma?\n",
      "  weights = 1.0 (dist + 1e-12)**power\n"
     ]
    }
   ],
   "source": [
    "import os\n",
    "import sys\n",
    "\n",
    "import pandas as pd\n",
    "import geopandas as gpd\n",
    "import osmnx as ox\n",
    "import numpy as np\n",
    "\n",
    "import matplotlib.pyplot as plt\n",
    "import seaborn as sns\n",
    "\n",
    "import warnings\n",
    "warnings.simplefilter(action='ignore', category=FutureWarning)\n",
    "\n",
    "module_path = os.path.abspath(os.path.join('../../'))\n",
    "if module_path not in sys.path:\n",
    "    sys.path.append(module_path)\n",
    "    import aup"
   ]
  },
  {
   "cell_type": "markdown",
   "id": "130d607e-83d2-453d-ab43-42e62fe5b217",
   "metadata": {},
   "source": [
    "### Notebook config - Input data Directories (Required)"
   ]
  },
  {
   "cell_type": "code",
   "execution_count": 2,
   "id": "f4ce0667-f763-48b8-9ca9-0ca3bdfabf7a",
   "metadata": {},
   "outputs": [],
   "source": [
    "# Location of area of interest (Required)\n",
    "aoi_dir = \"../../data/external/prox_latam/aoi_ags.gpkg\"\n",
    "# Location of points of interest (Required)\n",
    "#pois_dir = \"../../data/external/prox_latam/pois_ags.gpkg\""
   ]
  },
  {
   "cell_type": "code",
   "execution_count": 3,
   "id": "4c7d4093-a34f-4e86-ac44-bdbf6a488887",
   "metadata": {},
   "outputs": [
    {
     "data": {
      "text/plain": [
       "<Axes: >"
      ]
     },
     "execution_count": 3,
     "metadata": {},
     "output_type": "execute_result"
    },
    {
     "data": {
      "image/png": "[encoded data removed]",
      "text/plain": [
       "<Figure size 640x480 with 1 Axes>"
      ]
     },
     "metadata": {},
     "output_type": "display_data"
    }
   ],
   "source": [
    "# Read area of interest (aoi)\n",
    "aoi = gpd.read_file(aoi_dir)\n",
    "aoi = aoi.to_crs(\"EPSG:4326\")\n",
    "\n",
    "# Show\n",
    "aoi.plot()"
   ]
  },
  {
   "cell_type": "markdown",
   "id": "2f1b4055-f4dc-409d-8bde-58aaa5205fa1",
   "metadata": {},
   "source": [
    "### Trial of Function 1 once in Visual Studio Code:"
   ]
  },
  {
   "cell_type": "code",
   "execution_count": 4,
   "id": "fd30ef56-aabf-44af-ae6c-453d0bbc9427",
   "metadata": {
    "tags": []
   },
   "outputs": [
    {
     "name": "stdout",
     "output_type": "stream",
     "text": [
      "Extracted min and max coordinates from the municipality. Polygon N:22.10033, S:21.62227, E-102.06451, W-102.59887.\n",
      "Created OSMnx graph from bounding box.\n",
      "Converted OSMnx graph to 60233 nodes and 142263 edges GeoDataFrame.\n",
      "Filtered columns.\n",
      "Column: osmid in nodes gdf, has a list in it, the column data was converted to string.\n",
      "Column: lanes in nodes gdf, has a list in it, the column data was converted to string.\n",
      "Column: name in nodes gdf, has a list in it, the column data was converted to string.\n",
      "Column: highway in nodes gdf, has a list in it, the column data was converted to string.\n",
      "Column: maxspeed in nodes gdf, has a list in it, the column data was converted to string.\n",
      "Column: ref in nodes gdf, has a list in it, the column data was converted to string.\n"
     ]
    }
   ],
   "source": [
    "G, nodes, edges = aup.create_osmnx_network(aoi,how='from_bbox',network_type='all_private')"
   ]
  },
  {
   "cell_type": "markdown",
   "id": "963c0f12-c90c-410c-8b63-c5a152e8a065",
   "metadata": {
    "tags": []
   },
   "source": [
    "## Function 1: Creates OSMnx network (G, nodes and edges)"
   ]
  },
  {
   "cell_type": "code",
   "execution_count": 17,
   "id": "737c706e-a9d8-4372-acb2-f3df0f7fe733",
   "metadata": {
    "tags": []
   },
   "outputs": [],
   "source": [
    "def create_osmnx_network(aoi, how='from_polygon', network_type='all_private'):\n",
    "    \n",
    "    # Set crs of area of interest\n",
    "    aoi = aoi.to_crs(\"EPSG:4326\")\n",
    "    \n",
    "    if how == 'from_bbox':\n",
    "        # Read area of interest as a polygon geometry\n",
    "        poly = aoi.geometry\n",
    "        \n",
    "        # Extracts coordinates from polygon as DataFrame\n",
    "        coord_val = poly.bounds\n",
    "\n",
    "        # Gets coordinates for bounding box\n",
    "        n = coord_val.maxy.max()\n",
    "        s = coord_val.miny.min()\n",
    "        e = coord_val.maxx.max()\n",
    "        w = coord_val.minx.min()\n",
    "\n",
    "        print(f\"Extracted min and max coordinates from the municipality. Polygon N:{round(n,5)}, S:{round(s,5)}, E{round(e,5)}, W{round(w,5)}.\")\n",
    "\n",
    "        # Downloads OSMnx graph from bounding box\n",
    "        G = ox.graph_from_bbox(n, s, e, w,\n",
    "                               network_type=network_type,\n",
    "                               simplify=True,\n",
    "                               retain_all=False,\n",
    "                               truncate_by_edge=False)\n",
    "\n",
    "        print(\"Created OSMnx graph from bounding box.\")\n",
    "\n",
    "    elif how == 'from_polygon':        \n",
    "        # Downloads OSMnx graph from bounding box\n",
    "        G = ox.graph_from_polygon(aoi.unary_union,\n",
    "                                  network_type=network_type,\n",
    "                                  simplify=True,\n",
    "                                  retain_all=False,\n",
    "                                  truncate_by_edge=False)\n",
    "\n",
    "        print(\"Created OSMnx graph from bounding polygon.\")\n",
    "\n",
    "    else:\n",
    "        print(\"Invalid argument 'how'.\")\n",
    "\n",
    "    #Transforms graph to nodes and edges Geodataframe\n",
    "    nodes, edges = ox.graph_to_gdfs(G)\n",
    "\n",
    "    #Resets index to access osmid as a column\n",
    "    nodes.reset_index(inplace=True)\n",
    "\n",
    "    #Resets index to acces u and v as columns\n",
    "    edges.reset_index(inplace=True)\n",
    "\n",
    "    print(f\"Converted OSMnx graph to {len(nodes)} nodes and {len(edges)} edges GeoDataFrame.\")\n",
    "\n",
    "    # Defines columns of interest for nodes and edges\n",
    "    nodes_columns = [\"osmid\", \"x\", \"y\", \"street_count\", \"geometry\"]\n",
    "    edges_columns = [\n",
    "        \"osmid\",\n",
    "        \"v\",\n",
    "        \"u\",\n",
    "        \"key\",\n",
    "        \"oneway\",\n",
    "        \"lanes\",\n",
    "        \"name\",\n",
    "        \"highway\",\n",
    "        \"maxspeed\",\n",
    "        \"length\",\n",
    "        \"geometry\",\n",
    "        \"bridge\",\n",
    "        \"ref\",\n",
    "        \"junction\",\n",
    "        \"tunnel\",\n",
    "        \"access\",\n",
    "        \"width\",\n",
    "        \"service\",\n",
    "    ]\n",
    "\n",
    "    # if column doesn't exist it creates it as nan\n",
    "    for c in nodes_columns:\n",
    "        if c not in nodes.columns:\n",
    "            nodes[c] = np.nan\n",
    "            print(f\"Added column {c} for nodes.\")\n",
    "\n",
    "    for c in edges_columns:\n",
    "        if c not in edges.columns:\n",
    "            edges[c] = np.nan\n",
    "            print(f\"Added column {c} for edges.\")\n",
    "\n",
    "    # Filters GeoDataFrames for relevant columns\n",
    "    nodes = nodes[nodes_columns]\n",
    "    edges = edges[edges_columns]\n",
    "    print(\"Filtered columns.\")\n",
    "\n",
    "    # Converts columns with lists to strings to allow saving to local and further processes.\n",
    "    for col in nodes.columns:\n",
    "        if any(isinstance(val, list) for val in nodes[col]):\n",
    "            nodes[col] = nodes[col].astype('string')\n",
    "            print(f\"Column: {col} in nodes gdf, has a list in it, the column data was converted to string.\")\n",
    "\n",
    "    for col in edges.columns:\n",
    "        if any(isinstance(val, list) for val in edges[col]):\n",
    "            edges[col] = edges[col].astype('string')\n",
    "            print(f\"Column: {col} in nodes gdf, has a list in it, the column data was converted to string.\")\n",
    "\n",
    "    return G,nodes,edges"
   ]
  },
  {
   "cell_type": "code",
   "execution_count": 18,
   "id": "553bc582-c18a-4188-9c2a-789bc8ee8b63",
   "metadata": {
    "tags": []
   },
   "outputs": [
    {
     "name": "stdout",
     "output_type": "stream",
     "text": [
      "Extracted min and max coordinates from the municipality. Polygon N:22.10033, S:21.62227, E-102.06451, W-102.59887.\n"
     ]
    },
    {
     "name": "stderr",
     "output_type": "stream",
     "text": [
      "Exception ignored in: <function Collection.__del__ at 0x7f1e2acbf1c0>\n",
      "Traceback (most recent call last):\n",
      "  File \"/usr/local/python/lib/python3.10/site-packages/fiona/collection.py\", line 693, in __del__\n",
      "    def __del__(self):\n",
      "KeyboardInterrupt: \n"
     ]
    },
    {
     "name": "stdout",
     "output_type": "stream",
     "text": [
      "Created OSMnx graph from bounding box.\n",
      "Converted OSMnx graph to 60233 nodes and 142263 edges GeoDataFrame.\n",
      "Filtered columns.\n",
      "Column: osmid in nodes gdf, has a list in it, the column data was converted to string.\n",
      "Column: lanes in nodes gdf, has a list in it, the column data was converted to string.\n",
      "Column: name in nodes gdf, has a list in it, the column data was converted to string.\n",
      "Column: highway in nodes gdf, has a list in it, the column data was converted to string.\n",
      "Column: maxspeed in nodes gdf, has a list in it, the column data was converted to string.\n",
      "Column: ref in nodes gdf, has a list in it, the column data was converted to string.\n"
     ]
    }
   ],
   "source": [
    "G,nodes,edges = create_osmnx_network(aoi, how='from_bbox', network_type='all_private')"
   ]
  },
  {
   "cell_type": "code",
   "execution_count": 14,
   "id": "1df9b7a6-4309-4896-b36f-eab858cf2e38",
   "metadata": {
    "tags": []
   },
   "outputs": [],
   "source": [
    "nodes_save_dir = '../../data/external/temporal_fromjupyter/01_nodes_unary_union.gpkg'\n",
    "edges_save_dir = '../../data/external/temporal_fromjupyter/01_edges_unary_union.gpkg'\n",
    "\n",
    "nodes.to_file(nodes_save_dir, driver='GPKG')\n",
    "edges.to_file(edges_save_dir, driver='GPKG')"
   ]
  },
  {
   "cell_type": "markdown",
   "id": "d2d70338-f735-4bde-829b-d4cbd1e011cb",
   "metadata": {},
   "source": [
    "## Function 2 - Creates a popdata hexgrid containing total population in especified resolutions"
   ]
  },
  {
   "cell_type": "markdown",
   "id": "6b4e5baa-424f-455e-b9f0-c065d92304d3",
   "metadata": {},
   "source": [
    "### Trial of Function 2 once in Visual Studio Code:"
   ]
  },
  {
   "cell_type": "code",
   "execution_count": 4,
   "id": "6d96a895-8737-4e58-b991-343f44a90ed9",
   "metadata": {
    "tags": []
   },
   "outputs": [
    {
     "name": "stdout",
     "output_type": "stream",
     "text": [
      "Filtered pop_gdf.\n",
      "Extracted pop_gdf centroids.\n",
      "Converted to centroids with 1043905 pop vs 1043905 pop in original gdf.\n",
      "Created hex_grid with 8 resolution\n",
      "Agregated socio data to hex with a total of 1043905.0 population for resolution 8.\n",
      "Calculated an average density of 39.75306755993063\n",
      "Created hex_grid with 9 resolution\n",
      "Agregated socio data to hex with a total of 1043905.0 population for resolution 9.\n",
      "Calculated an average density of 57.50817597082861\n",
      "Finished calculating population by hexgrid for res [8, 9].\n"
     ]
    }
   ],
   "source": [
    "pop_dir = \"../../data/external/prox_latam/pop_gdf_ags.gpkg\"\n",
    "index_column = 'cvegeo'\n",
    "pop_columns = ['pobtot','p_0a2','p_3a5','p_60ymas']\n",
    "res_list = [8,9]\n",
    "hex_socio_gdf = aup.create_popdata_hexgrid(aoi,pop_dir,index_column,pop_columns,res_list)"
   ]
  },
  {
   "cell_type": "markdown",
   "id": "6a7b68b9-876c-4836-a9ce-087d244f51e5",
   "metadata": {},
   "source": [
    "### Original Function 2"
   ]
  },
  {
   "cell_type": "code",
   "execution_count": 21,
   "id": "b6d441c6-0b0a-43f0-b62e-d39691101193",
   "metadata": {
    "tags": []
   },
   "outputs": [],
   "source": [
    "def create_popdata_hexgrid(aoi,pop_dir,pop_column,pop_index_column,res_list):\n",
    "    \n",
    "    # Read pop GeoDataFrame\n",
    "    pop_gdf = gpd.read_file(pop_dir)\n",
    "    \n",
    "    # Format and isolate data of interest\n",
    "    pop_gdf = pop_gdf.to_crs(\"EPSG:4326\")\n",
    "    pop_gdf.columns = pop_gdf.columns.str.lower()\n",
    "    block_pop = pop_gdf[[pop_index_column,pop_column,'geometry']]\n",
    "\n",
    "    # Extract point from polygon\n",
    "    block_pop = block_pop.to_crs(\"EPSG:6372\")\n",
    "    block_pop = block_pop.set_index(pop_index_column)\n",
    "    point_within_polygon = gpd.GeoDataFrame(geometry=block_pop.representative_point())\n",
    "\n",
    "    # Add census data to points\n",
    "    centroid_block_pop = point_within_polygon.merge(block_pop, right_index=True, left_index=True) \n",
    "\n",
    "    # Format centroids with pop data\n",
    "    # Format geometry column\n",
    "    centroid_block_pop.drop(columns=['geometry_y'], inplace=True)\n",
    "    centroid_block_pop.rename(columns={'geometry_x':'geometry'}, inplace=True)\n",
    "    # Create GeoDataFrame with that geometry column\n",
    "    centroid_block_pop = gpd.GeoDataFrame(centroid_block_pop, geometry='geometry')\n",
    "    # Format population column\n",
    "    centroid_block_pop.rename(columns={pop_column:'pobtot'},inplace=True)\n",
    "    # General final formatting\n",
    "    centroid_block_pop = centroid_block_pop.to_crs(\"EPSG:4326\")\n",
    "    centroid_block_pop = centroid_block_pop.reset_index()\n",
    "\n",
    "    #---------------------------------------------------------------------------------------------------------------------------------------------------------\n",
    "    print(f\"Converted to centroids with {centroid_block_pop.pobtot.sum()} \" + f\"pop vs {block_pop.pobtot.sum()} pop in original gdf.\")\n",
    "    #---------------------------------------------------------------------------------------------------------------------------------------------------------\n",
    "    \n",
    "    # create buffer for aoi to include outer blocks when creating hexgrid\n",
    "    aoi_buffer = aoi.copy()\n",
    "    aoi_buffer = aoi_buffer.dissolve()\n",
    "    aoi_buffer = aoi_buffer.to_crs(\"EPSG:6372\").buffer(2500)\n",
    "    aoi_buffer = gpd.GeoDataFrame(geometry=aoi_buffer)\n",
    "    aoi_buffer = aoi_buffer.to_crs(\"EPSG:4326\")\n",
    "\n",
    "    hex_socio_gdf = gpd.GeoDataFrame()\n",
    "\n",
    "    for res in res_list:\n",
    "        # Generate hexagon gdf\n",
    "        hex_gdf = aup.create_hexgrid(aoi_buffer, res)\n",
    "        hex_gdf = hex_gdf.set_crs(\"EPSG:4326\")\n",
    "\n",
    "        # Format - Remove res from index name and add column with res\n",
    "        hex_gdf.rename(columns={f'hex_id_{res}':'hex_id'},inplace=True)\n",
    "        hex_gdf['res'] = res\n",
    "        #-----------------------------------------------------------------------------------------------------------------------------------------------------\n",
    "        print(f\"Created hex_grid with {res} resolution\")\n",
    "        #-----------------------------------------------------------------------------------------------------------------------------------------------------    \n",
    "        # Group pop data\n",
    "        # def socio_points_to_polygon(gdf_polygon,gdf_socio,cve_column,string_columns,wgt_dict=None,avg_column=None):\n",
    "        # Agruments:\n",
    "            #gdf_polygon (geopandas.GeoDataFrame): GeoDataFrame polygon where sociodemographic data will be grouped\n",
    "            #gdf_socio (geopandas.GeoDataFrame): GeoDataFrame points with sociodemographic data\n",
    "            #cve_column (str): Column name with polygon id in gdf_polygon.\n",
    "            #string_columns (list): List with column names for string data in gdf_socio.\n",
    "            #wgt_dict {dict, optional): Dictionary with average column names and weight column names for weighted average. Defaults to None.\n",
    "            #avg_column (list, optional): List with column names with average data. Defaults to None.\n",
    "\n",
    "        string_columns = [pop_index_column]\n",
    "        hex_socio_df = aup.socio_points_to_polygon(hex_gdf, centroid_block_pop,'hex_id', string_columns)\n",
    "\n",
    "        #-----------------------------------------------------------------------------------------------------------------------------------------------------     \n",
    "        print(f\"Agregated socio data to hex with a total of {hex_socio_df.pobtot.sum()} population for resolution {res}.\")\n",
    "        #----------------------------------------------------------------------------------------------------------------------------------------------------- \n",
    "\n",
    "        # Hexagons to GeoDataFrame\n",
    "        hex_socio_gdf_tmp = hex_gdf.merge(hex_socio_df, on='hex_id')\n",
    "\n",
    "        hectares = hex_socio_gdf_tmp.to_crs(\"EPSG:6372\").area / 10000\n",
    "        hex_socio_gdf_tmp['dens_pob_ha'] = hex_socio_gdf_tmp['pobtot'] / hectares\n",
    "\n",
    "        #-----------------------------------------------------------------------------------------------------------------------------------------------------    \n",
    "        print(f\"Calculated an average density of {hex_socio_gdf_tmp.dens_pob_ha.mean()}\")\n",
    "        #-----------------------------------------------------------------------------------------------------------------------------------------------------\n",
    "        \n",
    "        # Concatenate in hex_socio_gdf, where (if more resolutions) next resolution will also be stored.\n",
    "        hex_socio_gdf = pd.concat([hex_socio_gdf,hex_socio_gdf_tmp])    \n",
    "\n",
    "    #---------------------------------------------------------------------------------------------------------------------------------------------------------\n",
    "    print(f\"Finished calculating population by hexgrid for res {res_list}.\")\n",
    "    #---------------------------------------------------------------------------------------------------------------------------------------------------------\n",
    "    \n",
    "    return hex_socio_gdf"
   ]
  },
  {
   "cell_type": "code",
   "execution_count": 7,
   "id": "060b49f7-a712-416d-b0e4-97d8067c6a0c",
   "metadata": {
    "tags": []
   },
   "outputs": [],
   "source": [
    "# Resolutions of hexgrid output\n",
    "res_list = [8,9]\n",
    "# Location of pop data file (Optional, if pop_output = True)\n",
    "pop_dir = \"../../data/external/prox_latam/pop_gdf_ags.gpkg\"\n",
    "# Insert name of column with pop data (Optional, if pop_output = True)\n",
    "pop_column = 'pobtot'\n",
    "# Insert name of pop gdf index column (Optional, if pop_output = True)\n",
    "pop_index_column = 'cvegeo'"
   ]
  },
  {
   "cell_type": "code",
   "execution_count": 22,
   "id": "f214da1e-b554-4c31-85cf-fe14d987b829",
   "metadata": {
    "tags": []
   },
   "outputs": [
    {
     "name": "stdout",
     "output_type": "stream",
     "text": [
      "Converted to centroids with 1043905 pop vs 1043905 pop in original gdf.\n",
      "Created hex_grid with 8 resolution\n",
      "Agregated socio data to hex with a total of 1043905.0 population for resolution 8.\n",
      "Calculated an average density of 39.75306755993063\n",
      "Created hex_grid with 9 resolution\n",
      "Agregated socio data to hex with a total of 1043905.0 population for resolution 9.\n",
      "Calculated an average density of 57.50817597082861\n",
      "Finished calculating population by hexgrid for res [8, 9].\n"
     ]
    }
   ],
   "source": [
    "hex_socio_gdf = create_popdata_hexgrid(aoi,pop_dir,pop_column,pop_index_column,res_list)"
   ]
  },
  {
   "cell_type": "markdown",
   "id": "18b2fe9a-90c1-4080-8208-c367cf936907",
   "metadata": {},
   "source": [
    "### Expanded version of function 2"
   ]
  },
  {
   "cell_type": "code",
   "execution_count": 34,
   "id": "b95f76f9-8adb-4629-a2e3-0d4e090bddd5",
   "metadata": {
    "tags": []
   },
   "outputs": [],
   "source": [
    "def create_popdata_hexgrid(aoi,pop_dir,index_column,pop_columns,res_list):\n",
    "    \n",
    "    # Read pop GeoDataFrame\n",
    "    pop_gdf = gpd.read_file(pop_dir)\n",
    "    \n",
    "    # Format and isolate data of interest\n",
    "    pop_gdf = pop_gdf.to_crs(\"EPSG:4326\")\n",
    "    pop_gdf.columns = pop_gdf.columns.str.lower()\n",
    "    \n",
    "    # Set columns of interest\n",
    "    columns_ofinterest = pop_columns.copy()\n",
    "    columns_ofinterest.append(index_column)\n",
    "    columns_ofinterest.append('geometry')\n",
    "    block_pop = pop_gdf[columns_ofinterest]\n",
    "\n",
    "    # Extract point from polygon\n",
    "    block_pop = block_pop.to_crs(\"EPSG:6372\")\n",
    "    block_pop = block_pop.set_index(index_column)\n",
    "    point_within_polygon = gpd.GeoDataFrame(geometry=block_pop.representative_point())\n",
    "\n",
    "    # Add census data to points\n",
    "    centroid_block_pop = point_within_polygon.merge(block_pop, right_index=True, left_index=True) \n",
    "\n",
    "    # Format centroids with pop data\n",
    "    # Format geometry column\n",
    "    centroid_block_pop.drop(columns=['geometry_y'], inplace=True)\n",
    "    centroid_block_pop.rename(columns={'geometry_x':'geometry'}, inplace=True)\n",
    "    # Create GeoDataFrame with that geometry column\n",
    "    centroid_block_pop = gpd.GeoDataFrame(centroid_block_pop, geometry='geometry')\n",
    "    # Format population column\n",
    "    centroid_block_pop.rename(columns={pop_columns[0]:'pobtot'},inplace=True)\n",
    "    # General final formatting\n",
    "    centroid_block_pop = centroid_block_pop.to_crs(\"EPSG:4326\")\n",
    "    centroid_block_pop = centroid_block_pop.reset_index()\n",
    "    \n",
    "    #---------------------------------------------------------------------------------------------------------------------------------------------------------\n",
    "    print(f\"Converted to centroids with {centroid_block_pop.pobtot.sum()} \" + f\"pop vs {block_pop[pop_columns[0]].sum()} pop in original gdf.\")\n",
    "    #---------------------------------------------------------------------------------------------------------------------------------------------------------\n",
    "    \n",
    "    # Create buffer for aoi to include outer blocks when creating hexgrid\n",
    "    aoi_buffer = aoi.copy()\n",
    "    aoi_buffer = aoi_buffer.dissolve()\n",
    "    aoi_buffer = aoi_buffer.to_crs(\"EPSG:6372\").buffer(2500)\n",
    "    aoi_buffer = gpd.GeoDataFrame(geometry=aoi_buffer)\n",
    "    aoi_buffer = aoi_buffer.to_crs(\"EPSG:4326\")\n",
    "\n",
    "    hex_socio_gdf = gpd.GeoDataFrame()\n",
    "\n",
    "    for res in res_list:\n",
    "        # Generate hexagon gdf\n",
    "        hex_gdf = aup.create_hexgrid(aoi_buffer, res)\n",
    "        hex_gdf = hex_gdf.set_crs(\"EPSG:4326\")\n",
    "\n",
    "        # Format - Remove res from index name and add column with res\n",
    "        hex_gdf.rename(columns={f'hex_id_{res}':'hex_id'},inplace=True)\n",
    "        hex_gdf['res'] = res\n",
    "        #-----------------------------------------------------------------------------------------------------------------------------------------------------\n",
    "        print(f\"Created hex_grid with {res} resolution\")\n",
    "        #-----------------------------------------------------------------------------------------------------------------------------------------------------    \n",
    "        # Group pop data\n",
    "        # def socio_points_to_polygon(gdf_polygon,gdf_socio,cve_column,string_columns,wgt_dict=None,avg_column=None):\n",
    "        # Agruments:\n",
    "            #gdf_polygon (geopandas.GeoDataFrame): GeoDataFrame polygon where sociodemographic data will be grouped\n",
    "            #gdf_socio (geopandas.GeoDataFrame): GeoDataFrame points with sociodemographic data\n",
    "            #cve_column (str): Column name with polygon id in gdf_polygon.\n",
    "            #string_columns (list): List with column names for string data in gdf_socio.\n",
    "            #wgt_dict {dict, optional): Dictionary with average column names and weight column names for weighted average. Defaults to None.\n",
    "            #avg_column (list, optional): List with column names with average data. Defaults to None.\n",
    "        string_columns = [index_column]\n",
    "        hex_socio_df = aup.socio_points_to_polygon(hex_gdf, centroid_block_pop,'hex_id', string_columns)\n",
    "\n",
    "        #-----------------------------------------------------------------------------------------------------------------------------------------------------     \n",
    "        print(f\"Agregated socio data to hex with a total of {hex_socio_df.pobtot.sum()} population for resolution {res}.\")\n",
    "        #----------------------------------------------------------------------------------------------------------------------------------------------------- \n",
    "\n",
    "        # Hexagons data to hex_gdf GeoDataFrame\n",
    "        hex_socio_gdf_tmp = hex_gdf.merge(hex_socio_df, on='hex_id')\n",
    "       \n",
    "        # Calculate population density\n",
    "        hectares = hex_socio_gdf_tmp.to_crs(\"EPSG:6372\").area / 10000\n",
    "        hex_socio_gdf_tmp['dens_pob_ha'] = hex_socio_gdf_tmp['pobtot'] / hectares\n",
    "\n",
    "        #-----------------------------------------------------------------------------------------------------------------------------------------------------    \n",
    "        print(f\"Calculated an average density of {hex_socio_gdf_tmp.dens_pob_ha.mean()}\")\n",
    "        #-----------------------------------------------------------------------------------------------------------------------------------------------------\n",
    "        \n",
    "        # Concatenate in hex_socio_gdf, where (if more resolutions) next resolution will also be stored.\n",
    "        hex_socio_gdf = pd.concat([hex_socio_gdf,hex_socio_gdf_tmp])    \n",
    "\n",
    "    #---------------------------------------------------------------------------------------------------------------------------------------------------------\n",
    "    print(f\"Finished calculating population by hexgrid for res {res_list}.\")\n",
    "    #---------------------------------------------------------------------------------------------------------------------------------------------------------\n",
    "    \n",
    "    return hex_socio_gdf"
   ]
  },
  {
   "cell_type": "code",
   "execution_count": 2,
   "id": "dcce81fe-e3ae-473f-b258-f46d1eb37993",
   "metadata": {
    "tags": []
   },
   "outputs": [
    {
     "ename": "NameError",
     "evalue": "name 'create_popdata_hexgrid' is not defined",
     "output_type": "error",
     "traceback": [
      "\u001b[0;31m---------------------------------------------------------------------------\u001b[0m",
      "\u001b[0;31mNameError\u001b[0m                                 Traceback (most recent call last)",
      "Cell \u001b[0;32mIn[2], line 6\u001b[0m\n\u001b[1;32m      3\u001b[0m pop_columns \u001b[38;5;241m=\u001b[39m [\u001b[38;5;124m'\u001b[39m\u001b[38;5;124mpobtot\u001b[39m\u001b[38;5;124m'\u001b[39m,\u001b[38;5;124m'\u001b[39m\u001b[38;5;124mp_0a2\u001b[39m\u001b[38;5;124m'\u001b[39m,\u001b[38;5;124m'\u001b[39m\u001b[38;5;124mp_3a5\u001b[39m\u001b[38;5;124m'\u001b[39m,\u001b[38;5;124m'\u001b[39m\u001b[38;5;124mp_60ymas\u001b[39m\u001b[38;5;124m'\u001b[39m]\n\u001b[1;32m      4\u001b[0m res_list \u001b[38;5;241m=\u001b[39m [\u001b[38;5;241m8\u001b[39m,\u001b[38;5;241m9\u001b[39m]\n\u001b[0;32m----> 6\u001b[0m hex_socio_gdf \u001b[38;5;241m=\u001b[39m \u001b[43mcreate_popdata_hexgrid\u001b[49m(aoi,pop_dir,index_column,pop_columns,res_list)\n",
      "\u001b[0;31mNameError\u001b[0m: name 'create_popdata_hexgrid' is not defined"
     ]
    }
   ],
   "source": [
    "pop_dir = \"../../data/external/prox_latam/pop_gdf_ags.gpkg\"\n",
    "index_column = 'cvegeo'\n",
    "pop_columns = ['pobtot','p_0a2','p_3a5','p_60ymas']\n",
    "res_list = [8,9]\n",
    "\n",
    "hex_socio_gdf = create_popdata_hexgrid(aoi,pop_dir,index_column,pop_columns,res_list)"
   ]
  },
  {
   "cell_type": "code",
   "execution_count": 36,
   "id": "0744adf3-e66e-4383-982f-e4f3162903fe",
   "metadata": {
    "tags": []
   },
   "outputs": [
    {
     "data": {
      "text/html": [
       "<div>\n",
       "<style scoped>\n",
       "    .dataframe tbody tr th:only-of-type {\n",
       "        vertical-align: middle;\n",
       "    }\n",
       "\n",
       "    .dataframe tbody tr th {\n",
       "        vertical-align: top;\n",
       "    }\n",
       "\n",
       "    .dataframe thead th {\n",
       "        text-align: right;\n",
       "    }\n",
       "</style>\n",
       "<table border=\"1\" class=\"dataframe\">\n",
       "  <thead>\n",
       "    <tr style=\"text-align: right;\">\n",
       "      <th></th>\n",
       "      <th>hex_id</th>\n",
       "      <th>geometry</th>\n",
       "      <th>res</th>\n",
       "      <th>pobtot</th>\n",
       "      <th>p_0a2</th>\n",
       "      <th>p_3a5</th>\n",
       "      <th>p_60ymas</th>\n",
       "      <th>dens_pob_ha</th>\n",
       "    </tr>\n",
       "  </thead>\n",
       "  <tbody>\n",
       "    <tr>\n",
       "      <th>0</th>\n",
       "      <td>88498e35d9fffff</td>\n",
       "      <td>POLYGON ((-102.24057 21.97733, -102.23598 21.9...</td>\n",
       "      <td>8</td>\n",
       "      <td>47.0</td>\n",
       "      <td>0.0</td>\n",
       "      <td>0.0</td>\n",
       "      <td>0.0</td>\n",
       "      <td>0.544121</td>\n",
       "    </tr>\n",
       "    <tr>\n",
       "      <th>1</th>\n",
       "      <td>88498e341dfffff</td>\n",
       "      <td>POLYGON ((-102.25696 21.94442, -102.25237 21.9...</td>\n",
       "      <td>8</td>\n",
       "      <td>2237.0</td>\n",
       "      <td>212.0</td>\n",
       "      <td>168.0</td>\n",
       "      <td>37.0</td>\n",
       "      <td>25.897283</td>\n",
       "    </tr>\n",
       "  </tbody>\n",
       "</table>\n",
       "</div>"
      ],
      "text/plain": [
       "            hex_id                                           geometry  res  \\\n",
       "0  88498e35d9fffff  POLYGON ((-102.24057 21.97733, -102.23598 21.9...    8   \n",
       "1  88498e341dfffff  POLYGON ((-102.25696 21.94442, -102.25237 21.9...    8   \n",
       "\n",
       "   pobtot  p_0a2  p_3a5  p_60ymas  dens_pob_ha  \n",
       "0    47.0    0.0    0.0       0.0     0.544121  \n",
       "1  2237.0  212.0  168.0      37.0    25.897283  "
      ]
     },
     "execution_count": 36,
     "metadata": {},
     "output_type": "execute_result"
    }
   ],
   "source": [
    "hex_socio_gdf.head(2)"
   ]
  },
  {
   "cell_type": "code",
   "execution_count": 37,
   "id": "c6311465-b70a-440d-a579-d2643d10adb2",
   "metadata": {
    "tags": []
   },
   "outputs": [
    {
     "data": {
      "text/html": [
       "<div>\n",
       "<style scoped>\n",
       "    .dataframe tbody tr th:only-of-type {\n",
       "        vertical-align: middle;\n",
       "    }\n",
       "\n",
       "    .dataframe tbody tr th {\n",
       "        vertical-align: top;\n",
       "    }\n",
       "\n",
       "    .dataframe thead th {\n",
       "        text-align: right;\n",
       "    }\n",
       "</style>\n",
       "<table border=\"1\" class=\"dataframe\">\n",
       "  <thead>\n",
       "    <tr style=\"text-align: right;\">\n",
       "      <th></th>\n",
       "      <th>hex_id</th>\n",
       "      <th>geometry</th>\n",
       "      <th>res</th>\n",
       "      <th>pobtot</th>\n",
       "      <th>p_0a2</th>\n",
       "      <th>p_3a5</th>\n",
       "      <th>p_60ymas</th>\n",
       "      <th>dens_pob_ha</th>\n",
       "    </tr>\n",
       "  </thead>\n",
       "  <tbody>\n",
       "    <tr>\n",
       "      <th>299</th>\n",
       "      <td>88498e34e1fffff</td>\n",
       "      <td>POLYGON ((-102.25996 21.97565, -102.25536 21.9...</td>\n",
       "      <td>8</td>\n",
       "      <td>103.0</td>\n",
       "      <td>3.0</td>\n",
       "      <td>14.0</td>\n",
       "      <td>4.0</td>\n",
       "      <td>1.192333</td>\n",
       "    </tr>\n",
       "  </tbody>\n",
       "</table>\n",
       "</div>"
      ],
      "text/plain": [
       "              hex_id                                           geometry  res  \\\n",
       "299  88498e34e1fffff  POLYGON ((-102.25996 21.97565, -102.25536 21.9...    8   \n",
       "\n",
       "     pobtot  p_0a2  p_3a5  p_60ymas  dens_pob_ha  \n",
       "299   103.0    3.0   14.0       4.0     1.192333  "
      ]
     },
     "execution_count": 37,
     "metadata": {},
     "output_type": "execute_result"
    }
   ],
   "source": [
    "prueba = hex_socio_gdf.loc[hex_socio_gdf.hex_id == '88498e34e1fffff']\n",
    "prueba"
   ]
  },
  {
   "cell_type": "code",
   "execution_count": null,
   "id": "5fbd367f-496f-4d87-baa8-89dfe9fca67e",
   "metadata": {},
   "outputs": [],
   "source": [
    "pop_save_dir = '../../data/external/temporal_fromjupyter/04_hex_pop_concat.gpkg'\n",
    "\n",
    "hex_socio_gdf.to_file(pop_save_dir, driver='GPKG')"
   ]
  },
  {
   "cell_type": "code",
   "execution_count": null,
   "id": "658e1c42-e9d6-4187-9705-58b17124d66c",
   "metadata": {},
   "outputs": [],
   "source": []
  }
 ],
 "metadata": {
  "kernelspec": {
   "display_name": "Python 3 (ipykernel)",
   "language": "python",
   "name": "python3"
  },
  "language_info": {
   "codemirror_mode": {
    "name": "ipython",
    "version": 3
   },
   "file_extension": ".py",
   "mimetype": "text/x-python",
   "name": "python",
   "nbconvert_exporter": "python",
   "pygments_lexer": "ipython3",
   "version": "3.10.5"
  }
 },
 "nbformat": 4,
 "nbformat_minor": 5
}
