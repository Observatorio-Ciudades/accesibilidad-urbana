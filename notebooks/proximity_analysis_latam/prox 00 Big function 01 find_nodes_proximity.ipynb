{
 "cells": [
  {
   "cell_type": "markdown",
   "id": "88c2ec85-c3d3-4d7e-bec4-23c9c2df6b33",
   "metadata": {},
   "source": [
    "## Import libraries"
   ]
  },
  {
   "cell_type": "code",
   "execution_count": 1,
   "id": "3d993b10-e815-442d-ac71-ef7afca98f98",
   "metadata": {
    "tags": []
   },
   "outputs": [
    {
     "name": "stderr",
     "output_type": "stream",
     "text": [
      "/usr/local/python/lib/python3.10/site-packages/osmnx/utils.py:192: UserWarning: The `utils.config` function is deprecated and will be removed in a future release. Instead, use the `settings` module directly to configure a global setting's value. For example, `ox.settings.log_console=True`.\n",
      "  warnings.warn(\n"
     ]
    }
   ],
   "source": [
    "import os\n",
    "import sys\n",
    "\n",
    "import pandas as pd\n",
    "import geopandas as gpd\n",
    "import osmnx as ox\n",
    "import numpy as np\n",
    "\n",
    "import matplotlib.pyplot as plt\n",
    "import seaborn as sns\n",
    "\n",
    "import warnings\n",
    "warnings.simplefilter(action='ignore', category=FutureWarning)\n",
    "\n",
    "module_path = os.path.abspath(os.path.join('../../'))\n",
    "if module_path not in sys.path:\n",
    "    sys.path.append(module_path)\n",
    "    import aup"
   ]
  },
  {
   "cell_type": "markdown",
   "id": "0c9d61a0-02f4-4e82-a893-6b7311037d7b",
   "metadata": {
    "tags": []
   },
   "source": [
    "## 00 - Required data"
   ]
  },
  {
   "cell_type": "code",
   "execution_count": 2,
   "id": "f4489f14-5c76-4a85-8bcb-00473dc9c07b",
   "metadata": {
    "tags": []
   },
   "outputs": [],
   "source": [
    "# Location of area of interest (Required)\n",
    "aoi_dir = \"../../data/external/prox_latam/aoi_ags.gpkg\"\n",
    "\n",
    "# Name of points of interest (Required)\n",
    "s = 'random_pois'\n",
    "# Location of points of interest (Required)\n",
    "pois_dir = \"../../data/external/prox_latam/pois_ags.gpkg\""
   ]
  },
  {
   "cell_type": "markdown",
   "id": "728c3263-6576-469b-b567-10983be1215e",
   "metadata": {
    "jp-MarkdownHeadingCollapsed": true,
    "tags": []
   },
   "source": [
    "## 01 - Create network"
   ]
  },
  {
   "cell_type": "code",
   "execution_count": 3,
   "id": "40f4cedf-9160-47e8-a9e5-c8fcde59f2db",
   "metadata": {
    "tags": []
   },
   "outputs": [
    {
     "name": "stdout",
     "output_type": "stream",
     "text": [
      "Extracted min and max coordinates from the municipality. Polygon N:22.10033, S:21.62227, E-102.06451, W-102.59887.\n",
      "Created OSMnx graph from bounding box.\n",
      "Converted OSMnx graph to 60233 nodes and 142263 edges GeoDataFrame.\n",
      "Filtered columns.\n",
      "Column: osmid in nodes gdf, has a list in it, the column data was converted to string.\n",
      "Column: lanes in nodes gdf, has a list in it, the column data was converted to string.\n",
      "Column: name in nodes gdf, has a list in it, the column data was converted to string.\n",
      "Column: highway in nodes gdf, has a list in it, the column data was converted to string.\n",
      "Column: maxspeed in nodes gdf, has a list in it, the column data was converted to string.\n",
      "Column: ref in nodes gdf, has a list in it, the column data was converted to string.\n"
     ]
    }
   ],
   "source": [
    "# Read area of interest (aoi)\n",
    "aoi = gpd.read_file(aoi_dir)\n",
    "\n",
    "# Create OSMnx network for area of interest\n",
    "G, nodes, edges = aup.create_osmnx_network(aoi,how='from_bbox',network_type='all_private')"
   ]
  },
  {
   "cell_type": "markdown",
   "id": "41399d3f-b346-4a73-93ea-7ccb071f29eb",
   "metadata": {
    "jp-MarkdownHeadingCollapsed": true,
    "tags": []
   },
   "source": [
    "## 02 - Assign nearest node(osmid) to each point of interest"
   ]
  },
  {
   "cell_type": "code",
   "execution_count": 4,
   "id": "a3fad2d8-0f68-45a5-9c36-5e3ccf06d634",
   "metadata": {
    "tags": []
   },
   "outputs": [
    {
     "data": {
      "text/html": [
       "<div>\n",
       "<style scoped>\n",
       "    .dataframe tbody tr th:only-of-type {\n",
       "        vertical-align: middle;\n",
       "    }\n",
       "\n",
       "    .dataframe tbody tr th {\n",
       "        vertical-align: top;\n",
       "    }\n",
       "\n",
       "    .dataframe thead th {\n",
       "        text-align: right;\n",
       "    }\n",
       "</style>\n",
       "<table border=\"1\" class=\"dataframe\">\n",
       "  <thead>\n",
       "    <tr style=\"text-align: right;\">\n",
       "      <th></th>\n",
       "      <th>code</th>\n",
       "      <th>geometry</th>\n",
       "      <th>index_right</th>\n",
       "      <th>city</th>\n",
       "    </tr>\n",
       "  </thead>\n",
       "  <tbody>\n",
       "    <tr>\n",
       "      <th>0</th>\n",
       "      <td>611111</td>\n",
       "      <td>POINT (-102.27464 21.90191)</td>\n",
       "      <td>0</td>\n",
       "      <td>Aguascalientes</td>\n",
       "    </tr>\n",
       "    <tr>\n",
       "      <th>1</th>\n",
       "      <td>611111</td>\n",
       "      <td>POINT (-102.26601 21.85971)</td>\n",
       "      <td>0</td>\n",
       "      <td>Aguascalientes</td>\n",
       "    </tr>\n",
       "  </tbody>\n",
       "</table>\n",
       "</div>"
      ],
      "text/plain": [
       "     code                     geometry  index_right            city\n",
       "0  611111  POINT (-102.27464 21.90191)            0  Aguascalientes\n",
       "1  611111  POINT (-102.26601 21.85971)            0  Aguascalientes"
      ]
     },
     "execution_count": 4,
     "metadata": {},
     "output_type": "execute_result"
    }
   ],
   "source": [
    "# Load pois\n",
    "pois = gpd.read_file(pois_dir)\n",
    "pois = pois.set_crs(\"EPSG:4326\")\n",
    "\n",
    "# Filter pois\n",
    "pois_aoi = gpd.sjoin(pois,aoi,how='inner')\n",
    "\n",
    "pois_aoi.head(2)"
   ]
  },
  {
   "cell_type": "code",
   "execution_count": 5,
   "id": "d58cefcf-d2e3-4ba9-a9e5-83413712258e",
   "metadata": {
    "tags": []
   },
   "outputs": [
    {
     "name": "stdout",
     "output_type": "stream",
     "text": [
      "Calculated distances from pois to nearest node.\n"
     ]
    }
   ],
   "source": [
    "# Format to calculate nearest\n",
    "nodes_gdf = nodes.set_crs(\"EPSG:4326\")\n",
    "edges_gdf = edges.set_crs(\"EPSG:4326\")\n",
    "nodes_gdf = nodes_gdf.set_index('osmid')\n",
    "edges_gdf = edges_gdf.set_index([\"u\", \"v\", \"key\"])\n",
    "\n",
    "# Calculate nearest\n",
    "nearest = aup.find_nearest(G, nodes_gdf, pois, return_distance= True)\n",
    "print(\"Calculated distances from pois to nearest node.\")"
   ]
  },
  {
   "cell_type": "code",
   "execution_count": 6,
   "id": "fbf8f63b-16ec-4f48-965e-5e8cfd556def",
   "metadata": {
    "tags": []
   },
   "outputs": [
    {
     "data": {
      "text/html": [
       "<div>\n",
       "<style scoped>\n",
       "    .dataframe tbody tr th:only-of-type {\n",
       "        vertical-align: middle;\n",
       "    }\n",
       "\n",
       "    .dataframe tbody tr th {\n",
       "        vertical-align: top;\n",
       "    }\n",
       "\n",
       "    .dataframe thead th {\n",
       "        text-align: right;\n",
       "    }\n",
       "</style>\n",
       "<table border=\"1\" class=\"dataframe\">\n",
       "  <thead>\n",
       "    <tr style=\"text-align: right;\">\n",
       "      <th></th>\n",
       "      <th>code</th>\n",
       "      <th>geometry</th>\n",
       "      <th>osmid</th>\n",
       "      <th>distance_node</th>\n",
       "    </tr>\n",
       "  </thead>\n",
       "  <tbody>\n",
       "    <tr>\n",
       "      <th>0</th>\n",
       "      <td>611111</td>\n",
       "      <td>POINT (-102.27464 21.90191)</td>\n",
       "      <td>961580633</td>\n",
       "      <td>16.377978</td>\n",
       "    </tr>\n",
       "    <tr>\n",
       "      <th>1</th>\n",
       "      <td>611111</td>\n",
       "      <td>POINT (-102.26601 21.85971)</td>\n",
       "      <td>2253747737</td>\n",
       "      <td>71.553289</td>\n",
       "    </tr>\n",
       "    <tr>\n",
       "      <th>2</th>\n",
       "      <td>611111</td>\n",
       "      <td>POINT (-102.28277 21.92966)</td>\n",
       "      <td>1314259696</td>\n",
       "      <td>64.123810</td>\n",
       "    </tr>\n",
       "    <tr>\n",
       "      <th>3</th>\n",
       "      <td>611111</td>\n",
       "      <td>POINT (-102.28387 21.86783)</td>\n",
       "      <td>8559538139</td>\n",
       "      <td>7.363815</td>\n",
       "    </tr>\n",
       "    <tr>\n",
       "      <th>4</th>\n",
       "      <td>611111</td>\n",
       "      <td>POINT (-102.30135 21.86116)</td>\n",
       "      <td>4638354829</td>\n",
       "      <td>36.750632</td>\n",
       "    </tr>\n",
       "    <tr>\n",
       "      <th>...</th>\n",
       "      <td>...</td>\n",
       "      <td>...</td>\n",
       "      <td>...</td>\n",
       "      <td>...</td>\n",
       "    </tr>\n",
       "    <tr>\n",
       "      <th>20787</th>\n",
       "      <td>9321</td>\n",
       "      <td>POINT (-102.26780 22.07600)</td>\n",
       "      <td>2168313153</td>\n",
       "      <td>74.797796</td>\n",
       "    </tr>\n",
       "    <tr>\n",
       "      <th>20788</th>\n",
       "      <td>9321</td>\n",
       "      <td>POINT (-102.25874 21.97471)</td>\n",
       "      <td>8417685286</td>\n",
       "      <td>38.813478</td>\n",
       "    </tr>\n",
       "    <tr>\n",
       "      <th>20789</th>\n",
       "      <td>9321</td>\n",
       "      <td>POINT (-102.25767 22.03427)</td>\n",
       "      <td>2117400623</td>\n",
       "      <td>44.197349</td>\n",
       "    </tr>\n",
       "    <tr>\n",
       "      <th>20790</th>\n",
       "      <td>9321</td>\n",
       "      <td>POINT (-102.24936 21.95630)</td>\n",
       "      <td>4120694367</td>\n",
       "      <td>25.284346</td>\n",
       "    </tr>\n",
       "    <tr>\n",
       "      <th>20791</th>\n",
       "      <td>9321</td>\n",
       "      <td>POINT (-102.27586 22.02837)</td>\n",
       "      <td>4344955153</td>\n",
       "      <td>54.294467</td>\n",
       "    </tr>\n",
       "  </tbody>\n",
       "</table>\n",
       "<p>20792 rows × 4 columns</p>\n",
       "</div>"
      ],
      "text/plain": [
       "         code                     geometry       osmid  distance_node\n",
       "0      611111  POINT (-102.27464 21.90191)   961580633      16.377978\n",
       "1      611111  POINT (-102.26601 21.85971)  2253747737      71.553289\n",
       "2      611111  POINT (-102.28277 21.92966)  1314259696      64.123810\n",
       "3      611111  POINT (-102.28387 21.86783)  8559538139       7.363815\n",
       "4      611111  POINT (-102.30135 21.86116)  4638354829      36.750632\n",
       "...       ...                          ...         ...            ...\n",
       "20787    9321  POINT (-102.26780 22.07600)  2168313153      74.797796\n",
       "20788    9321  POINT (-102.25874 21.97471)  8417685286      38.813478\n",
       "20789    9321  POINT (-102.25767 22.03427)  2117400623      44.197349\n",
       "20790    9321  POINT (-102.24936 21.95630)  4120694367      25.284346\n",
       "20791    9321  POINT (-102.27586 22.02837)  4344955153      54.294467\n",
       "\n",
       "[20792 rows x 4 columns]"
      ]
     },
     "execution_count": 6,
     "metadata": {},
     "output_type": "execute_result"
    }
   ],
   "source": [
    "nearest"
   ]
  },
  {
   "cell_type": "markdown",
   "id": "4c52ab78-a2be-42f4-b5a6-0f2332c2a46b",
   "metadata": {
    "jp-MarkdownHeadingCollapsed": true,
    "tags": []
   },
   "source": [
    "## 03 - Calcular la distancia de cada nodo al poi más cercano"
   ]
  },
  {
   "cell_type": "markdown",
   "id": "df1a34c4-38ec-4902-9506-dea63236cd9f",
   "metadata": {
    "tags": []
   },
   "source": [
    "Filtro (preescolares) para disminuir la cantidad de datos y hacer una comparación al final"
   ]
  },
  {
   "cell_type": "code",
   "execution_count": 7,
   "id": "6b523e38-bd6d-4b94-b802-98133497f6a8",
   "metadata": {
    "tags": []
   },
   "outputs": [
    {
     "data": {
      "text/html": [
       "<div>\n",
       "<style scoped>\n",
       "    .dataframe tbody tr th:only-of-type {\n",
       "        vertical-align: middle;\n",
       "    }\n",
       "\n",
       "    .dataframe tbody tr th {\n",
       "        vertical-align: top;\n",
       "    }\n",
       "\n",
       "    .dataframe thead th {\n",
       "        text-align: right;\n",
       "    }\n",
       "</style>\n",
       "<table border=\"1\" class=\"dataframe\">\n",
       "  <thead>\n",
       "    <tr style=\"text-align: right;\">\n",
       "      <th></th>\n",
       "      <th>code</th>\n",
       "      <th>geometry</th>\n",
       "      <th>osmid</th>\n",
       "      <th>distance_node</th>\n",
       "    </tr>\n",
       "  </thead>\n",
       "  <tbody>\n",
       "    <tr>\n",
       "      <th>0</th>\n",
       "      <td>611111</td>\n",
       "      <td>POINT (-102.27464 21.90191)</td>\n",
       "      <td>961580633</td>\n",
       "      <td>16.377978</td>\n",
       "    </tr>\n",
       "    <tr>\n",
       "      <th>1</th>\n",
       "      <td>611111</td>\n",
       "      <td>POINT (-102.26601 21.85971)</td>\n",
       "      <td>2253747737</td>\n",
       "      <td>71.553289</td>\n",
       "    </tr>\n",
       "    <tr>\n",
       "      <th>2</th>\n",
       "      <td>611111</td>\n",
       "      <td>POINT (-102.28277 21.92966)</td>\n",
       "      <td>1314259696</td>\n",
       "      <td>64.123810</td>\n",
       "    </tr>\n",
       "    <tr>\n",
       "      <th>3</th>\n",
       "      <td>611111</td>\n",
       "      <td>POINT (-102.28387 21.86783)</td>\n",
       "      <td>8559538139</td>\n",
       "      <td>7.363815</td>\n",
       "    </tr>\n",
       "    <tr>\n",
       "      <th>4</th>\n",
       "      <td>611111</td>\n",
       "      <td>POINT (-102.30135 21.86116)</td>\n",
       "      <td>4638354829</td>\n",
       "      <td>36.750632</td>\n",
       "    </tr>\n",
       "    <tr>\n",
       "      <th>...</th>\n",
       "      <td>...</td>\n",
       "      <td>...</td>\n",
       "      <td>...</td>\n",
       "      <td>...</td>\n",
       "    </tr>\n",
       "    <tr>\n",
       "      <th>301</th>\n",
       "      <td>611112</td>\n",
       "      <td>POINT (-102.24547 21.87010)</td>\n",
       "      <td>1349274663</td>\n",
       "      <td>21.598502</td>\n",
       "    </tr>\n",
       "    <tr>\n",
       "      <th>302</th>\n",
       "      <td>611112</td>\n",
       "      <td>POINT (-102.31882 21.90120)</td>\n",
       "      <td>8573661848</td>\n",
       "      <td>53.097210</td>\n",
       "    </tr>\n",
       "    <tr>\n",
       "      <th>303</th>\n",
       "      <td>611112</td>\n",
       "      <td>POINT (-102.25430 21.85272)</td>\n",
       "      <td>1618371055</td>\n",
       "      <td>64.540709</td>\n",
       "    </tr>\n",
       "    <tr>\n",
       "      <th>304</th>\n",
       "      <td>611112</td>\n",
       "      <td>POINT (-102.25421 21.85283)</td>\n",
       "      <td>1618371055</td>\n",
       "      <td>49.378704</td>\n",
       "    </tr>\n",
       "    <tr>\n",
       "      <th>305</th>\n",
       "      <td>611112</td>\n",
       "      <td>POINT (-102.24892 21.84382)</td>\n",
       "      <td>1623849984</td>\n",
       "      <td>17.405793</td>\n",
       "    </tr>\n",
       "  </tbody>\n",
       "</table>\n",
       "<p>306 rows × 4 columns</p>\n",
       "</div>"
      ],
      "text/plain": [
       "       code                     geometry       osmid  distance_node\n",
       "0    611111  POINT (-102.27464 21.90191)   961580633      16.377978\n",
       "1    611111  POINT (-102.26601 21.85971)  2253747737      71.553289\n",
       "2    611111  POINT (-102.28277 21.92966)  1314259696      64.123810\n",
       "3    611111  POINT (-102.28387 21.86783)  8559538139       7.363815\n",
       "4    611111  POINT (-102.30135 21.86116)  4638354829      36.750632\n",
       "..      ...                          ...         ...            ...\n",
       "301  611112  POINT (-102.24547 21.87010)  1349274663      21.598502\n",
       "302  611112  POINT (-102.31882 21.90120)  8573661848      53.097210\n",
       "303  611112  POINT (-102.25430 21.85272)  1618371055      64.540709\n",
       "304  611112  POINT (-102.25421 21.85283)  1618371055      49.378704\n",
       "305  611112  POINT (-102.24892 21.84382)  1623849984      17.405793\n",
       "\n",
       "[306 rows x 4 columns]"
      ]
     },
     "execution_count": 7,
     "metadata": {},
     "output_type": "execute_result"
    }
   ],
   "source": [
    "nearest = nearest.loc[(nearest.code==611111)|(nearest.code==611112)]\n",
    "nearest"
   ]
  },
  {
   "cell_type": "code",
   "execution_count": 14,
   "id": "21f82058-5701-408d-95bf-b74a28863a71",
   "metadata": {
    "tags": []
   },
   "outputs": [
    {
     "name": "stdout",
     "output_type": "stream",
     "text": [
      "Starting range k = 1 of 2 for source random_pois.\n",
      "Starting range k = 2 of 2 for source random_pois.\n"
     ]
    }
   ],
   "source": [
    "# Format\n",
    "edges_gdf['length'].fillna(edges_gdf['length'].mean(),inplace=True)\n",
    "\n",
    "# ELEMENTS NEEDED OUTSIDE THE LOOP\n",
    "# df_temp: Each column will store a batch of procesed nodes.\n",
    "df_temp = nodes_gdf.copy()\n",
    "\n",
    "# ELEMENTS NEEDED OUTSIDE THE LOOP\n",
    "# nodes_analysis is a nodes_gdf (index reseted) used in aup.calculate_distance_nearest_poi\n",
    "nodes_analysis = nodes_gdf.reset_index().copy()\n",
    "\n",
    "# ELEMENTS NEEDED OUTSIDE THE LOOP\n",
    "#nodes_distance: Minimum time/distance found in all batches will be added from df_min (within if/elif/else) to nodes_distance \n",
    "# (which keeps x,y and geometry data)\n",
    "nodes_distance = nodes_gdf.copy()\n",
    "\n",
    "if len(nearest) % 250:\n",
    "    batch_size = len(nearest)/200\n",
    "    for k in range(int(batch_size)+1):\n",
    "        #---------------------------------------------------------------------------------------------------------------------------------------------\n",
    "        print(f\"Starting range k = {k+1} of {int(batch_size)+1} for source {s}.\")\n",
    "        #---------------------------------------------------------------------------------------------------------------------------------------------\n",
    "        source_process = nearest.iloc[int(200*k):int(200*(1+k))].copy()\n",
    "        nodes_distance_prep = aup.calculate_distance_nearest_poi(source_process, nodes_analysis, edges_gdf, s, 'osmid', wght='length')\n",
    "\n",
    "        #A middle gdf is created whose columns will be the name of the amenity and the batch number it belongs to\n",
    "        df_int = pd.DataFrame()\n",
    "        df_int['dist_'+str(k)+s] = nodes_distance_prep['dist_'+s]\n",
    "        \n",
    "        #The middle gdf is merged into the previously created temporary gdf to store the data by node, each batch in a column.\n",
    "        df_temp = df_temp.merge(df_int, left_index=True, right_index=True)\n",
    "\n",
    "    # Once finished, drop the non-distance values from the temporary gdf\n",
    "    df_temp.drop(['x', 'y', 'street_count','geometry'], inplace = True, axis=1)\n",
    "\n",
    "    #We apply the min function to find the minimum value. This value is sent to a new df_min\n",
    "    df_min = pd.DataFrame()\n",
    "    df_min['dist_'+s] = df_temp.min(axis=1)\n",
    "\n",
    "    #We merge df_min which contains the shortest distance to the POI with nodes_distance which will store all final data\n",
    "    nodes_distance = nodes_distance.merge(df_min, left_index=True, right_index=True)\n",
    "\n",
    "    #Final data gets converted to time, assuming a walking speed of 4km/hr\n",
    "    nodes_time = nodes_distance.copy()\n",
    "    nodes_time['time'] = (nodes_time['dist_'+s]*60)/4000\n",
    "\n",
    "else:\n",
    "    batch_size = len(nearest)/250\n",
    "    for k in range(int(batch_size)+1):\n",
    "        #---------------------------------------------------------------------------------------------------------------------------------------------\n",
    "        print(f\"Starting range k = {k+1} of {int(batch_size)+1} for source {s}.\")\n",
    "        #---------------------------------------------------------------------------------------------------------------------------------------------\n",
    "        source_process = nearest.iloc[int(250*k):int(250*(1+k))].copy()\n",
    "        nodes_distance_prep = aup.calculate_distance_nearest_poi(source_process, nodes_analysis, edges_gdf, s, 'osmid', wght='length')\n",
    "\n",
    "        #A middle gdf is created whose columns will be the name of the amenity and the batch number it belongs to\n",
    "        df_int = pd.DataFrame()\n",
    "        df_int['dist_'+str(k)+s] = nodes_distance_prep['dist_'+s]\n",
    "\n",
    "        #The middle gdf is merged into the previously created temporary gdf to store the data by node, each batch in a column.\n",
    "        df_temp = df_temp.merge(df_int, left_index=True, right_index=True)\n",
    "\n",
    "    # Once finished, drop the non-distance values from the temporary gdf\n",
    "    df_temp.drop(['x', 'y', 'street_count','geometry'], inplace = True, axis=1)\n",
    "\n",
    "    #We apply the min function to find the minimum value. This value is sent to a new df_min\n",
    "    df_min = pd.DataFrame()\n",
    "    df_min['dist_'+s] = df_temp.min(axis=1)\n",
    "\n",
    "    #We merge df_min which contains the shortest distance to the POI with nodes_distance which will store all final data\n",
    "    nodes_distance = nodes_distance.merge(df_min, left_index=True, right_index=True)\n",
    "\n",
    "    #Final data gets converted to time, assuming a walking speed of 4km/hr\n",
    "    nodes_time = nodes_distance.copy()\n",
    "    nodes_time['time'] = (nodes_time['dist_'+s]*60)/4000\n",
    "\n",
    "#Format nodes_time\n",
    "nodes_time['source'] = s\n",
    "nodes_time.reset_index(inplace=True)\n",
    "nodes_time = nodes_time.set_crs(\"EPSG:4326\")\n",
    "nodes_time = nodes_time[['osmid','time','source','x','y','geometry']]"
   ]
  },
  {
   "cell_type": "code",
   "execution_count": 15,
   "id": "59c613f1-1859-4b7d-9c18-c4ab93394d77",
   "metadata": {
    "tags": []
   },
   "outputs": [
    {
     "name": "stdout",
     "output_type": "stream",
     "text": [
      "(60233, 6)\n"
     ]
    },
    {
     "data": {
      "text/html": [
       "<div>\n",
       "<style scoped>\n",
       "    .dataframe tbody tr th:only-of-type {\n",
       "        vertical-align: middle;\n",
       "    }\n",
       "\n",
       "    .dataframe tbody tr th {\n",
       "        vertical-align: top;\n",
       "    }\n",
       "\n",
       "    .dataframe thead th {\n",
       "        text-align: right;\n",
       "    }\n",
       "</style>\n",
       "<table border=\"1\" class=\"dataframe\">\n",
       "  <thead>\n",
       "    <tr style=\"text-align: right;\">\n",
       "      <th></th>\n",
       "      <th>osmid</th>\n",
       "      <th>time</th>\n",
       "      <th>source</th>\n",
       "      <th>x</th>\n",
       "      <th>y</th>\n",
       "      <th>geometry</th>\n",
       "    </tr>\n",
       "  </thead>\n",
       "  <tbody>\n",
       "    <tr>\n",
       "      <th>0</th>\n",
       "      <td>301189389</td>\n",
       "      <td>6.400245</td>\n",
       "      <td>random_pois</td>\n",
       "      <td>-102.342212</td>\n",
       "      <td>21.848544</td>\n",
       "      <td>POINT (-102.34221 21.84854)</td>\n",
       "    </tr>\n",
       "    <tr>\n",
       "      <th>1</th>\n",
       "      <td>301189406</td>\n",
       "      <td>17.556360</td>\n",
       "      <td>random_pois</td>\n",
       "      <td>-102.350222</td>\n",
       "      <td>21.850815</td>\n",
       "      <td>POINT (-102.35022 21.85082)</td>\n",
       "    </tr>\n",
       "  </tbody>\n",
       "</table>\n",
       "</div>"
      ],
      "text/plain": [
       "       osmid       time       source           x          y  \\\n",
       "0  301189389   6.400245  random_pois -102.342212  21.848544   \n",
       "1  301189406  17.556360  random_pois -102.350222  21.850815   \n",
       "\n",
       "                      geometry  \n",
       "0  POINT (-102.34221 21.84854)  \n",
       "1  POINT (-102.35022 21.85082)  "
      ]
     },
     "execution_count": 15,
     "metadata": {},
     "output_type": "execute_result"
    }
   ],
   "source": [
    "# Show\n",
    "print(nodes_time.shape)\n",
    "nodes_time.head(2)"
   ]
  },
  {
   "cell_type": "markdown",
   "id": "a940798d-7b04-4898-89ca-317f56aedb51",
   "metadata": {
    "jp-MarkdownHeadingCollapsed": true,
    "tags": []
   },
   "source": [
    "## 99 - Result comparison"
   ]
  },
  {
   "cell_type": "code",
   "execution_count": 16,
   "id": "9050ff7c-60c5-4979-8020-2d2df9326c3c",
   "metadata": {
    "tags": []
   },
   "outputs": [
    {
     "name": "stdout",
     "output_type": "stream",
     "text": [
      "(60233, 2)\n"
     ]
    },
    {
     "data": {
      "text/html": [
       "<div>\n",
       "<style scoped>\n",
       "    .dataframe tbody tr th:only-of-type {\n",
       "        vertical-align: middle;\n",
       "    }\n",
       "\n",
       "    .dataframe tbody tr th {\n",
       "        vertical-align: top;\n",
       "    }\n",
       "\n",
       "    .dataframe thead th {\n",
       "        text-align: right;\n",
       "    }\n",
       "</style>\n",
       "<table border=\"1\" class=\"dataframe\">\n",
       "  <thead>\n",
       "    <tr style=\"text-align: right;\">\n",
       "      <th></th>\n",
       "      <th>osmid</th>\n",
       "      <th>time</th>\n",
       "    </tr>\n",
       "  </thead>\n",
       "  <tbody>\n",
       "    <tr>\n",
       "      <th>0</th>\n",
       "      <td>301189389</td>\n",
       "      <td>6.400245</td>\n",
       "    </tr>\n",
       "    <tr>\n",
       "      <th>1</th>\n",
       "      <td>301189406</td>\n",
       "      <td>17.556360</td>\n",
       "    </tr>\n",
       "  </tbody>\n",
       "</table>\n",
       "</div>"
      ],
      "text/plain": [
       "       osmid       time\n",
       "0  301189389   6.400245\n",
       "1  301189406  17.556360"
      ]
     },
     "execution_count": 16,
     "metadata": {},
     "output_type": "execute_result"
    }
   ],
   "source": [
    "# Filter current data for comparison\n",
    "nodes_time_f = nodes_time[['osmid','time']]\n",
    "\n",
    "# Show\n",
    "print(nodes_time_f.shape)\n",
    "nodes_time_f.head(2)"
   ]
  },
  {
   "cell_type": "code",
   "execution_count": 11,
   "id": "45b90c4c-1c5f-4a75-bdf4-c412cb50ee7b",
   "metadata": {
    "tags": []
   },
   "outputs": [
    {
     "name": "stdout",
     "output_type": "stream",
     "text": [
      "(60233, 2)\n"
     ]
    },
    {
     "name": "stderr",
     "output_type": "stream",
     "text": [
      "/tmp/ipykernel_30432/2215709692.py:9: SettingWithCopyWarning: \n",
      "A value is trying to be set on a copy of a slice from a DataFrame\n",
      "\n",
      "See the caveats in the documentation: https://pandas.pydata.org/pandas-docs/stable/user_guide/indexing.html#returning-a-view-versus-a-copy\n",
      "  nodes_proximity_comp.rename(columns={'time':'baselinetime'},inplace=True)\n"
     ]
    },
    {
     "data": {
      "text/html": [
       "<div>\n",
       "<style scoped>\n",
       "    .dataframe tbody tr th:only-of-type {\n",
       "        vertical-align: middle;\n",
       "    }\n",
       "\n",
       "    .dataframe tbody tr th {\n",
       "        vertical-align: top;\n",
       "    }\n",
       "\n",
       "    .dataframe thead th {\n",
       "        text-align: right;\n",
       "    }\n",
       "</style>\n",
       "<table border=\"1\" class=\"dataframe\">\n",
       "  <thead>\n",
       "    <tr style=\"text-align: right;\">\n",
       "      <th></th>\n",
       "      <th>osmid</th>\n",
       "      <th>baselinetime</th>\n",
       "    </tr>\n",
       "  </thead>\n",
       "  <tbody>\n",
       "    <tr>\n",
       "      <th>0</th>\n",
       "      <td>301189389</td>\n",
       "      <td>6.400245</td>\n",
       "    </tr>\n",
       "    <tr>\n",
       "      <th>1</th>\n",
       "      <td>301189406</td>\n",
       "      <td>17.556360</td>\n",
       "    </tr>\n",
       "  </tbody>\n",
       "</table>\n",
       "</div>"
      ],
      "text/plain": [
       "       osmid  baselinetime\n",
       "0  301189389      6.400245\n",
       "1  301189406     17.556360"
      ]
     },
     "execution_count": 11,
     "metadata": {},
     "output_type": "execute_result"
    }
   ],
   "source": [
    "# Location of baseline data\n",
    "nodes_proximity_dir = \"../../data/external/prox_latam/03_nodes_proximity_2020_concat.gpkg\"\n",
    "\n",
    "# Load baseline data\n",
    "nodes_proximity = gpd.read_file(nodes_proximity_dir)\n",
    "\n",
    "# Filter baseline data\n",
    "nodes_proximity_comp = nodes_proximity.loc[nodes_proximity.source=='denue_preescolar']\n",
    "nodes_proximity_comp.rename(columns={'time':'baselinetime'},inplace=True)\n",
    "nodes_proximity_comp = nodes_proximity_comp[['osmid','baselinetime']]\n",
    "\n",
    "# Show\n",
    "print(nodes_proximity_comp.shape)\n",
    "nodes_proximity_comp.head(2)"
   ]
  },
  {
   "cell_type": "code",
   "execution_count": 17,
   "id": "1c19c5ac-842b-451a-b89d-bf8b5bcd910a",
   "metadata": {
    "tags": []
   },
   "outputs": [
    {
     "name": "stdout",
     "output_type": "stream",
     "text": [
      "Current difference between both methodologies is 0.0 minutes total.\n"
     ]
    },
    {
     "data": {
      "text/html": [
       "<div>\n",
       "<style scoped>\n",
       "    .dataframe tbody tr th:only-of-type {\n",
       "        vertical-align: middle;\n",
       "    }\n",
       "\n",
       "    .dataframe tbody tr th {\n",
       "        vertical-align: top;\n",
       "    }\n",
       "\n",
       "    .dataframe thead th {\n",
       "        text-align: right;\n",
       "    }\n",
       "</style>\n",
       "<table border=\"1\" class=\"dataframe\">\n",
       "  <thead>\n",
       "    <tr style=\"text-align: right;\">\n",
       "      <th></th>\n",
       "      <th>osmid</th>\n",
       "      <th>time</th>\n",
       "      <th>baselinetime</th>\n",
       "      <th>diff</th>\n",
       "    </tr>\n",
       "  </thead>\n",
       "  <tbody>\n",
       "    <tr>\n",
       "      <th>0</th>\n",
       "      <td>301189389</td>\n",
       "      <td>6.400245</td>\n",
       "      <td>6.400245</td>\n",
       "      <td>0.0</td>\n",
       "    </tr>\n",
       "    <tr>\n",
       "      <th>1</th>\n",
       "      <td>301189406</td>\n",
       "      <td>17.556360</td>\n",
       "      <td>17.556360</td>\n",
       "      <td>0.0</td>\n",
       "    </tr>\n",
       "    <tr>\n",
       "      <th>2</th>\n",
       "      <td>301191695</td>\n",
       "      <td>6.655365</td>\n",
       "      <td>6.655365</td>\n",
       "      <td>0.0</td>\n",
       "    </tr>\n",
       "    <tr>\n",
       "      <th>3</th>\n",
       "      <td>301191702</td>\n",
       "      <td>11.940270</td>\n",
       "      <td>11.940270</td>\n",
       "      <td>0.0</td>\n",
       "    </tr>\n",
       "    <tr>\n",
       "      <th>4</th>\n",
       "      <td>395436249</td>\n",
       "      <td>22.370580</td>\n",
       "      <td>22.370580</td>\n",
       "      <td>0.0</td>\n",
       "    </tr>\n",
       "    <tr>\n",
       "      <th>...</th>\n",
       "      <td>...</td>\n",
       "      <td>...</td>\n",
       "      <td>...</td>\n",
       "      <td>...</td>\n",
       "    </tr>\n",
       "    <tr>\n",
       "      <th>60228</th>\n",
       "      <td>11216001345</td>\n",
       "      <td>32.346510</td>\n",
       "      <td>32.346510</td>\n",
       "      <td>0.0</td>\n",
       "    </tr>\n",
       "    <tr>\n",
       "      <th>60229</th>\n",
       "      <td>11216001346</td>\n",
       "      <td>31.217775</td>\n",
       "      <td>31.217775</td>\n",
       "      <td>0.0</td>\n",
       "    </tr>\n",
       "    <tr>\n",
       "      <th>60230</th>\n",
       "      <td>11216001347</td>\n",
       "      <td>30.739860</td>\n",
       "      <td>30.739860</td>\n",
       "      <td>0.0</td>\n",
       "    </tr>\n",
       "    <tr>\n",
       "      <th>60231</th>\n",
       "      <td>11216001348</td>\n",
       "      <td>30.299505</td>\n",
       "      <td>30.299505</td>\n",
       "      <td>0.0</td>\n",
       "    </tr>\n",
       "    <tr>\n",
       "      <th>60232</th>\n",
       "      <td>11216304216</td>\n",
       "      <td>23.102790</td>\n",
       "      <td>23.102790</td>\n",
       "      <td>0.0</td>\n",
       "    </tr>\n",
       "  </tbody>\n",
       "</table>\n",
       "<p>60233 rows × 4 columns</p>\n",
       "</div>"
      ],
      "text/plain": [
       "             osmid       time  baselinetime  diff\n",
       "0        301189389   6.400245      6.400245   0.0\n",
       "1        301189406  17.556360     17.556360   0.0\n",
       "2        301191695   6.655365      6.655365   0.0\n",
       "3        301191702  11.940270     11.940270   0.0\n",
       "4        395436249  22.370580     22.370580   0.0\n",
       "...            ...        ...           ...   ...\n",
       "60228  11216001345  32.346510     32.346510   0.0\n",
       "60229  11216001346  31.217775     31.217775   0.0\n",
       "60230  11216001347  30.739860     30.739860   0.0\n",
       "60231  11216001348  30.299505     30.299505   0.0\n",
       "60232  11216304216  23.102790     23.102790   0.0\n",
       "\n",
       "[60233 rows x 4 columns]"
      ]
     },
     "execution_count": 17,
     "metadata": {},
     "output_type": "execute_result"
    }
   ],
   "source": [
    "# Merge current and baseline data\n",
    "comparison = pd.merge(nodes_time_f, nodes_proximity_comp, on='osmid')\n",
    "\n",
    "# Show difference in times\n",
    "comparison['diff'] = comparison['time']-comparison['baselinetime']\n",
    "print(f\"Current difference between both methodologies is {comparison['diff'].sum()} minutes total.\")\n",
    "comparison"
   ]
  },
  {
   "cell_type": "markdown",
   "id": "a27b044e-5750-4c94-a6fd-18412a3576d4",
   "metadata": {
    "tags": []
   },
   "source": [
    "## Script mode"
   ]
  },
  {
   "cell_type": "code",
   "execution_count": 3,
   "id": "8a6eaa63-6856-436a-a4f9-2be49c7250dc",
   "metadata": {
    "tags": []
   },
   "outputs": [],
   "source": [
    "def find_nodes_proximity(aoi_dir,pois_dir,pois_name):\n",
    "\n",
    "    #-------------------------------------------------- Create OSMnx network\n",
    "\n",
    "    # Read area of interest (aoi)\n",
    "    aoi = gpd.read_file(aoi_dir)\n",
    "\n",
    "    # Create OSMnx network for area of interest\n",
    "    G, nodes, edges = aup.create_osmnx_network(aoi,how='from_bbox',network_type='all_private')\n",
    "\n",
    "    #-------------------------------------------------- Assign nearest node(osmid) to each point of interest\n",
    "\n",
    "    # Load pois\n",
    "    pois = gpd.read_file(pois_dir)\n",
    "    pois = pois.set_crs(\"EPSG:4326\")\n",
    "\n",
    "    # Filter pois\n",
    "    pois_aoi = gpd.sjoin(pois,aoi,how='inner')\n",
    "\n",
    "    # Format to calculate nearest\n",
    "    nodes_gdf = nodes.set_crs(\"EPSG:4326\")\n",
    "    edges_gdf = edges.set_crs(\"EPSG:4326\")\n",
    "    nodes_gdf = nodes_gdf.set_index('osmid')\n",
    "    edges_gdf = edges_gdf.set_index([\"u\", \"v\", \"key\"])\n",
    "\n",
    "    # Calculate nearest\n",
    "    nearest = aup.find_nearest(G, nodes_gdf, pois, return_distance= True)\n",
    "    print(\"Calculated distances from pois to nearest node.\")\n",
    "\n",
    "    #-------------------------------------------------- Calculate distance from each node to nearest poi\n",
    "    ########################################## This one is not necessary\n",
    "    nearest = nearest.loc[(nearest.code==611111)|(nearest.code==611112)]\n",
    "    ########################################## This one is not necessary\n",
    "    \n",
    "    # Format\n",
    "    edges_gdf['length'].fillna(edges_gdf['length'].mean(),inplace=True)\n",
    "\n",
    "    # ELEMENTS NEEDED OUTSIDE THE LOOP\n",
    "    # df_temp: Each column will store a batch of procesed nodes.\n",
    "    df_temp = nodes_gdf.copy()\n",
    "\n",
    "    # ELEMENTS NEEDED OUTSIDE THE LOOP\n",
    "    # nodes_analysis is a nodes_gdf (index reseted) used in aup.calculate_distance_nearest_poi\n",
    "    nodes_analysis = nodes_gdf.reset_index().copy()\n",
    "\n",
    "    # ELEMENTS NEEDED OUTSIDE THE LOOP\n",
    "    #nodes_distance: Minimum time/distance found in all batches will be added from df_min (within if/elif/else) to nodes_distance \n",
    "    # (which keeps x,y and geometry data)\n",
    "    nodes_distance = nodes_gdf.copy()\n",
    "\n",
    "    s = pois_name\n",
    "\n",
    "    if len(nearest) % 250:\n",
    "        batch_size = len(nearest)/200\n",
    "        for k in range(int(batch_size)+1):\n",
    "            #---------------------------------------------------------------------------------------------------------------------------------------------\n",
    "            print(f\"Starting range k = {k+1} of {int(batch_size)+1} for source {s}.\")\n",
    "            #---------------------------------------------------------------------------------------------------------------------------------------------\n",
    "            source_process = nearest.iloc[int(200*k):int(200*(1+k))].copy()\n",
    "            nodes_distance_prep = aup.calculate_distance_nearest_poi(source_process, nodes_analysis, edges_gdf, s, 'osmid', wght='length')\n",
    "\n",
    "            #A middle gdf is created whose columns will be the name of the amenity and the batch number it belongs to\n",
    "            df_int = pd.DataFrame()\n",
    "            df_int['dist_'+str(k)+s] = nodes_distance_prep['dist_'+s]\n",
    "\n",
    "            #The middle gdf is merged into the previously created temporary gdf to store the data by node, each batch in a column.\n",
    "            df_temp = df_temp.merge(df_int, left_index=True, right_index=True)\n",
    "\n",
    "        # Once finished, drop the non-distance values from the temporary gdf\n",
    "        df_temp.drop(['x', 'y', 'street_count','geometry'], inplace = True, axis=1)\n",
    "\n",
    "        #We apply the min function to find the minimum value. This value is sent to a new df_min\n",
    "        df_min = pd.DataFrame()\n",
    "        df_min['dist_'+s] = df_temp.min(axis=1)\n",
    "\n",
    "        #We merge df_min which contains the shortest distance to the POI with nodes_distance which will store all final data\n",
    "        nodes_distance = nodes_distance.merge(df_min, left_index=True, right_index=True)\n",
    "\n",
    "        #Final data gets converted to time, assuming a walking speed of 4km/hr\n",
    "        nodes_time = nodes_distance.copy()\n",
    "        nodes_time['time'] = (nodes_time['dist_'+s]*60)/4000\n",
    "\n",
    "    else:\n",
    "        batch_size = len(nearest)/250\n",
    "        for k in range(int(batch_size)+1):\n",
    "            #---------------------------------------------------------------------------------------------------------------------------------------------\n",
    "            print(f\"Starting range k = {k+1} of {int(batch_size)+1} for source {s}.\")\n",
    "            #---------------------------------------------------------------------------------------------------------------------------------------------\n",
    "            source_process = nearest.iloc[int(250*k):int(250*(1+k))].copy()\n",
    "            nodes_distance_prep = aup.calculate_distance_nearest_poi(source_process, nodes_analysis, edges_gdf, s, 'osmid', wght='length')\n",
    "\n",
    "            #A middle gdf is created whose columns will be the name of the amenity and the batch number it belongs to\n",
    "            df_int = pd.DataFrame()\n",
    "            df_int['dist_'+str(k)+s] = nodes_distance_prep['dist_'+s]\n",
    "\n",
    "            #The middle gdf is merged into the previously created temporary gdf to store the data by node, each batch in a column.\n",
    "            df_temp = df_temp.merge(df_int, left_index=True, right_index=True)\n",
    "\n",
    "        # Once finished, drop the non-distance values from the temporary gdf\n",
    "        df_temp.drop(['x', 'y', 'street_count','geometry'], inplace = True, axis=1)\n",
    "\n",
    "        #We apply the min function to find the minimum value. This value is sent to a new df_min\n",
    "        df_min = pd.DataFrame()\n",
    "        df_min['dist_'+s] = df_temp.min(axis=1)\n",
    "\n",
    "        #We merge df_min which contains the shortest distance to the POI with nodes_distance which will store all final data\n",
    "        nodes_distance = nodes_distance.merge(df_min, left_index=True, right_index=True)\n",
    "\n",
    "        #Final data gets converted to time, assuming a walking speed of 4km/hr\n",
    "        nodes_time = nodes_distance.copy()\n",
    "        nodes_time['time'] = (nodes_time['dist_'+s]*60)/4000\n",
    "\n",
    "    #Format nodes_time\n",
    "    nodes_time['source'] = s\n",
    "    nodes_time.reset_index(inplace=True)\n",
    "    nodes_time = nodes_time.set_crs(\"EPSG:4326\")\n",
    "    nodes_time = nodes_time[['osmid','time','source','x','y','geometry']]\n",
    "\n",
    "    return nodes_time"
   ]
  },
  {
   "cell_type": "code",
   "execution_count": 4,
   "id": "fabeb71b-7dc2-4615-8730-a7cae58515d5",
   "metadata": {
    "tags": []
   },
   "outputs": [
    {
     "name": "stdout",
     "output_type": "stream",
     "text": [
      "Extracted min and max coordinates from the municipality. Polygon N:22.10033, S:21.62227, E-102.06451, W-102.59887.\n",
      "Created OSMnx graph from bounding box.\n",
      "Converted OSMnx graph to 60233 nodes and 142263 edges GeoDataFrame.\n",
      "Filtered columns.\n",
      "Column: osmid in nodes gdf, has a list in it, the column data was converted to string.\n",
      "Column: lanes in nodes gdf, has a list in it, the column data was converted to string.\n",
      "Column: name in nodes gdf, has a list in it, the column data was converted to string.\n",
      "Column: highway in nodes gdf, has a list in it, the column data was converted to string.\n",
      "Column: maxspeed in nodes gdf, has a list in it, the column data was converted to string.\n",
      "Column: ref in nodes gdf, has a list in it, the column data was converted to string.\n",
      "Calculated distances from pois to nearest node.\n",
      "Starting range k = 1 of 2 for source random_pois.\n",
      "Starting range k = 2 of 2 for source random_pois.\n"
     ]
    },
    {
     "data": {
      "text/html": [
       "<div>\n",
       "<style scoped>\n",
       "    .dataframe tbody tr th:only-of-type {\n",
       "        vertical-align: middle;\n",
       "    }\n",
       "\n",
       "    .dataframe tbody tr th {\n",
       "        vertical-align: top;\n",
       "    }\n",
       "\n",
       "    .dataframe thead th {\n",
       "        text-align: right;\n",
       "    }\n",
       "</style>\n",
       "<table border=\"1\" class=\"dataframe\">\n",
       "  <thead>\n",
       "    <tr style=\"text-align: right;\">\n",
       "      <th></th>\n",
       "      <th>osmid</th>\n",
       "      <th>time</th>\n",
       "      <th>source</th>\n",
       "      <th>x</th>\n",
       "      <th>y</th>\n",
       "      <th>geometry</th>\n",
       "    </tr>\n",
       "  </thead>\n",
       "  <tbody>\n",
       "    <tr>\n",
       "      <th>0</th>\n",
       "      <td>301189389</td>\n",
       "      <td>6.400245</td>\n",
       "      <td>random_pois</td>\n",
       "      <td>-102.342212</td>\n",
       "      <td>21.848544</td>\n",
       "      <td>POINT (-102.34221 21.84854)</td>\n",
       "    </tr>\n",
       "    <tr>\n",
       "      <th>1</th>\n",
       "      <td>301189406</td>\n",
       "      <td>17.556360</td>\n",
       "      <td>random_pois</td>\n",
       "      <td>-102.350222</td>\n",
       "      <td>21.850815</td>\n",
       "      <td>POINT (-102.35022 21.85082)</td>\n",
       "    </tr>\n",
       "    <tr>\n",
       "      <th>2</th>\n",
       "      <td>301191695</td>\n",
       "      <td>6.655365</td>\n",
       "      <td>random_pois</td>\n",
       "      <td>-102.342228</td>\n",
       "      <td>21.848392</td>\n",
       "      <td>POINT (-102.34223 21.84839)</td>\n",
       "    </tr>\n",
       "    <tr>\n",
       "      <th>3</th>\n",
       "      <td>301191702</td>\n",
       "      <td>11.940270</td>\n",
       "      <td>random_pois</td>\n",
       "      <td>-102.326375</td>\n",
       "      <td>21.843567</td>\n",
       "      <td>POINT (-102.32638 21.84357)</td>\n",
       "    </tr>\n",
       "    <tr>\n",
       "      <th>4</th>\n",
       "      <td>395436249</td>\n",
       "      <td>22.370580</td>\n",
       "      <td>random_pois</td>\n",
       "      <td>-102.331855</td>\n",
       "      <td>21.843707</td>\n",
       "      <td>POINT (-102.33186 21.84371)</td>\n",
       "    </tr>\n",
       "    <tr>\n",
       "      <th>...</th>\n",
       "      <td>...</td>\n",
       "      <td>...</td>\n",
       "      <td>...</td>\n",
       "      <td>...</td>\n",
       "      <td>...</td>\n",
       "      <td>...</td>\n",
       "    </tr>\n",
       "    <tr>\n",
       "      <th>60228</th>\n",
       "      <td>11216001345</td>\n",
       "      <td>32.346510</td>\n",
       "      <td>random_pois</td>\n",
       "      <td>-102.275587</td>\n",
       "      <td>21.817389</td>\n",
       "      <td>POINT (-102.27559 21.81739)</td>\n",
       "    </tr>\n",
       "    <tr>\n",
       "      <th>60229</th>\n",
       "      <td>11216001346</td>\n",
       "      <td>31.217775</td>\n",
       "      <td>random_pois</td>\n",
       "      <td>-102.275558</td>\n",
       "      <td>21.816713</td>\n",
       "      <td>POINT (-102.27556 21.81671)</td>\n",
       "    </tr>\n",
       "    <tr>\n",
       "      <th>60230</th>\n",
       "      <td>11216001347</td>\n",
       "      <td>30.739860</td>\n",
       "      <td>random_pois</td>\n",
       "      <td>-102.275250</td>\n",
       "      <td>21.816721</td>\n",
       "      <td>POINT (-102.27525 21.81672)</td>\n",
       "    </tr>\n",
       "    <tr>\n",
       "      <th>60231</th>\n",
       "      <td>11216001348</td>\n",
       "      <td>30.299505</td>\n",
       "      <td>random_pois</td>\n",
       "      <td>-102.275241</td>\n",
       "      <td>21.816457</td>\n",
       "      <td>POINT (-102.27524 21.81646)</td>\n",
       "    </tr>\n",
       "    <tr>\n",
       "      <th>60232</th>\n",
       "      <td>11216304216</td>\n",
       "      <td>23.102790</td>\n",
       "      <td>random_pois</td>\n",
       "      <td>-102.275329</td>\n",
       "      <td>21.812287</td>\n",
       "      <td>POINT (-102.27533 21.81229)</td>\n",
       "    </tr>\n",
       "  </tbody>\n",
       "</table>\n",
       "<p>60233 rows × 6 columns</p>\n",
       "</div>"
      ],
      "text/plain": [
       "             osmid       time       source           x          y  \\\n",
       "0        301189389   6.400245  random_pois -102.342212  21.848544   \n",
       "1        301189406  17.556360  random_pois -102.350222  21.850815   \n",
       "2        301191695   6.655365  random_pois -102.342228  21.848392   \n",
       "3        301191702  11.940270  random_pois -102.326375  21.843567   \n",
       "4        395436249  22.370580  random_pois -102.331855  21.843707   \n",
       "...            ...        ...          ...         ...        ...   \n",
       "60228  11216001345  32.346510  random_pois -102.275587  21.817389   \n",
       "60229  11216001346  31.217775  random_pois -102.275558  21.816713   \n",
       "60230  11216001347  30.739860  random_pois -102.275250  21.816721   \n",
       "60231  11216001348  30.299505  random_pois -102.275241  21.816457   \n",
       "60232  11216304216  23.102790  random_pois -102.275329  21.812287   \n",
       "\n",
       "                          geometry  \n",
       "0      POINT (-102.34221 21.84854)  \n",
       "1      POINT (-102.35022 21.85082)  \n",
       "2      POINT (-102.34223 21.84839)  \n",
       "3      POINT (-102.32638 21.84357)  \n",
       "4      POINT (-102.33186 21.84371)  \n",
       "...                            ...  \n",
       "60228  POINT (-102.27559 21.81739)  \n",
       "60229  POINT (-102.27556 21.81671)  \n",
       "60230  POINT (-102.27525 21.81672)  \n",
       "60231  POINT (-102.27524 21.81646)  \n",
       "60232  POINT (-102.27533 21.81229)  \n",
       "\n",
       "[60233 rows x 6 columns]"
      ]
     },
     "execution_count": 4,
     "metadata": {},
     "output_type": "execute_result"
    }
   ],
   "source": [
    "nodes_time = find_nodes_proximity(aoi_dir,pois_dir,s)\n",
    "nodes_time"
   ]
  },
  {
   "cell_type": "markdown",
   "id": "e4534575-ec4d-4600-8094-d3cc72f7d54a",
   "metadata": {},
   "source": [
    "## 01 - Transform nodes data"
   ]
  },
  {
   "cell_type": "code",
   "execution_count": 26,
   "id": "a547a89e-6838-4fa8-b082-e278a5cf12f2",
   "metadata": {
    "tags": []
   },
   "outputs": [
    {
     "name": "stderr",
     "output_type": "stream",
     "text": [
      "/tmp/ipykernel_24760/3882504483.py:4: SettingWithCopyWarning: \n",
      "A value is trying to be set on a copy of a slice from a DataFrame\n",
      "\n",
      "See the caveats in the documentation: https://pandas.pydata.org/pandas-docs/stable/user_guide/indexing.html#returning-a-view-versus-a-copy\n",
      "  nodes_analysis.rename(columns={'time':s},inplace=True)\n"
     ]
    },
    {
     "data": {
      "text/html": [
       "<div>\n",
       "<style scoped>\n",
       "    .dataframe tbody tr th:only-of-type {\n",
       "        vertical-align: middle;\n",
       "    }\n",
       "\n",
       "    .dataframe tbody tr th {\n",
       "        vertical-align: top;\n",
       "    }\n",
       "\n",
       "    .dataframe thead th {\n",
       "        text-align: right;\n",
       "    }\n",
       "</style>\n",
       "<table border=\"1\" class=\"dataframe\">\n",
       "  <thead>\n",
       "    <tr style=\"text-align: right;\">\n",
       "      <th></th>\n",
       "      <th>osmid</th>\n",
       "      <th>geometry</th>\n",
       "      <th>random_pois</th>\n",
       "    </tr>\n",
       "  </thead>\n",
       "  <tbody>\n",
       "    <tr>\n",
       "      <th>0</th>\n",
       "      <td>301189389</td>\n",
       "      <td>POINT (-102.34221 21.84854)</td>\n",
       "      <td>6.400245</td>\n",
       "    </tr>\n",
       "    <tr>\n",
       "      <th>1</th>\n",
       "      <td>301189406</td>\n",
       "      <td>POINT (-102.35022 21.85082)</td>\n",
       "      <td>17.556360</td>\n",
       "    </tr>\n",
       "  </tbody>\n",
       "</table>\n",
       "</div>"
      ],
      "text/plain": [
       "       osmid                     geometry  random_pois\n",
       "0  301189389  POINT (-102.34221 21.84854)     6.400245\n",
       "1  301189406  POINT (-102.35022 21.85082)    17.556360"
      ]
     },
     "execution_count": 26,
     "metadata": {},
     "output_type": "execute_result"
    }
   ],
   "source": [
    "s = nodes_time.source.unique()[0]\n",
    "\n",
    "nodes_analysis = nodes_time[['osmid','geometry','time']]\n",
    "nodes_analysis.rename(columns={'time':s},inplace=True)\n",
    "\n",
    "nodes_analysis.head(2)"
   ]
  },
  {
   "cell_type": "markdown",
   "id": "5dca9986-6860-4fe1-b66f-14d0b6a62490",
   "metadata": {},
   "source": [
    "## 02 - Group by hex"
   ]
  },
  {
   "cell_type": "code",
   "execution_count": 7,
   "id": "8ef30d4d-6e30-4a41-bbed-c316497328fb",
   "metadata": {
    "tags": []
   },
   "outputs": [
    {
     "name": "stdout",
     "output_type": "stream",
     "text": [
      "Filtered pop_gdf.\n",
      "Extracted pop_gdf centroids.\n",
      "Converted to centroids with 1043905 pop vs 1043905 pop in original gdf.\n",
      "Created hex_grid with 8 resolution\n",
      "Agregated socio data to hex with a total of 1043905.0 population for resolution 8.\n",
      "Calculated an average density of 39.75306755993063\n",
      "Created hex_grid with 9 resolution\n",
      "Agregated socio data to hex with a total of 1043905.0 population for resolution 9.\n",
      "Calculated an average density of 57.50817597082862\n",
      "Finished calculating population by hexgrid for res [8, 9].\n"
     ]
    }
   ],
   "source": [
    "aoi = gpd.read_file(aoi_dir)\n",
    "pop_dir = \"../../data/external/prox_latam/pop_gdf_ags.gpkg\"\n",
    "index_column = 'cvegeo'\n",
    "pop_columns = ['pobtot','p_0a2','p_3a5','p_60ymas']\n",
    "res_list = [8,9]\n",
    "\n",
    "hex_socio_gdf = aup.create_popdata_hexgrid(aoi,pop_dir,index_column,pop_columns,res_list)"
   ]
  },
  {
   "cell_type": "code",
   "execution_count": 11,
   "id": "ca0aee84-1ffc-4ba2-b2bb-510ac8f80cd5",
   "metadata": {
    "tags": []
   },
   "outputs": [
    {
     "data": {
      "text/html": [
       "<div>\n",
       "<style scoped>\n",
       "    .dataframe tbody tr th:only-of-type {\n",
       "        vertical-align: middle;\n",
       "    }\n",
       "\n",
       "    .dataframe tbody tr th {\n",
       "        vertical-align: top;\n",
       "    }\n",
       "\n",
       "    .dataframe thead th {\n",
       "        text-align: right;\n",
       "    }\n",
       "</style>\n",
       "<table border=\"1\" class=\"dataframe\">\n",
       "  <thead>\n",
       "    <tr style=\"text-align: right;\">\n",
       "      <th></th>\n",
       "      <th>hex_id</th>\n",
       "      <th>geometry</th>\n",
       "      <th>res</th>\n",
       "      <th>pobtot</th>\n",
       "      <th>p_0a2</th>\n",
       "      <th>p_3a5</th>\n",
       "      <th>p_60ymas</th>\n",
       "      <th>dens_pob_ha</th>\n",
       "    </tr>\n",
       "  </thead>\n",
       "  <tbody>\n",
       "    <tr>\n",
       "      <th>0</th>\n",
       "      <td>88498eacb1fffff</td>\n",
       "      <td>POLYGON ((-102.29640 21.84650, -102.29181 21.8...</td>\n",
       "      <td>8</td>\n",
       "      <td>12230.0</td>\n",
       "      <td>510.0</td>\n",
       "      <td>598.0</td>\n",
       "      <td>1608.0</td>\n",
       "      <td>141.581209</td>\n",
       "    </tr>\n",
       "    <tr>\n",
       "      <th>1</th>\n",
       "      <td>88498e34e1fffff</td>\n",
       "      <td>POLYGON ((-102.25996 21.97565, -102.25536 21.9...</td>\n",
       "      <td>8</td>\n",
       "      <td>103.0</td>\n",
       "      <td>3.0</td>\n",
       "      <td>14.0</td>\n",
       "      <td>4.0</td>\n",
       "      <td>1.192333</td>\n",
       "    </tr>\n",
       "  </tbody>\n",
       "</table>\n",
       "</div>"
      ],
      "text/plain": [
       "            hex_id                                           geometry  res  \\\n",
       "0  88498eacb1fffff  POLYGON ((-102.29640 21.84650, -102.29181 21.8...    8   \n",
       "1  88498e34e1fffff  POLYGON ((-102.25996 21.97565, -102.25536 21.9...    8   \n",
       "\n",
       "    pobtot  p_0a2  p_3a5  p_60ymas  dens_pob_ha  \n",
       "0  12230.0  510.0  598.0    1608.0   141.581209  \n",
       "1    103.0    3.0   14.0       4.0     1.192333  "
      ]
     },
     "execution_count": 11,
     "metadata": {},
     "output_type": "execute_result"
    }
   ],
   "source": [
    "hex_socio_gdf.head(2)"
   ]
  },
  {
   "cell_type": "code",
   "execution_count": 9,
   "id": "23483c00-fc8e-43fd-96c5-970f50df0faf",
   "metadata": {
    "tags": []
   },
   "outputs": [],
   "source": [
    "nodes_analysis_filter = nodes_analysis.copy()"
   ]
  },
  {
   "cell_type": "code",
   "execution_count": 12,
   "id": "2ccb3cff-d9f3-4266-8398-6cb203d49290",
   "metadata": {
    "tags": []
   },
   "outputs": [],
   "source": [
    "pop_output = True\n",
    "index_column = s"
   ]
  },
  {
   "cell_type": "code",
   "execution_count": 13,
   "id": "6433816a-31a8-4b37-b809-dfe8f5b4161e",
   "metadata": {
    "tags": []
   },
   "outputs": [
    {
     "name": "stderr",
     "output_type": "stream",
     "text": [
      "/tmp/ipykernel_24760/156202181.py:12: SettingWithCopyWarning: \n",
      "A value is trying to be set on a copy of a slice from a DataFrame\n",
      "\n",
      "See the caveats in the documentation: https://pandas.pydata.org/pandas-docs/stable/user_guide/indexing.html#returning-a-view-versus-a-copy\n",
      "  hex_pop.rename(columns={'hex_id':f'hex_id_{res}'},inplace=True)\n"
     ]
    },
    {
     "name": "stdout",
     "output_type": "stream",
     "text": [
      "Loaded pop hexgrid of resolution 8\n",
      "Grouped nodes data by hexagons res 8\n",
      "Saved grouped data by hexagons res 8\n",
      "Loaded pop hexgrid of resolution 9\n"
     ]
    },
    {
     "name": "stderr",
     "output_type": "stream",
     "text": [
      "/tmp/ipykernel_24760/156202181.py:12: SettingWithCopyWarning: \n",
      "A value is trying to be set on a copy of a slice from a DataFrame\n",
      "\n",
      "See the caveats in the documentation: https://pandas.pydata.org/pandas-docs/stable/user_guide/indexing.html#returning-a-view-versus-a-copy\n",
      "  hex_pop.rename(columns={'hex_id':f'hex_id_{res}'},inplace=True)\n"
     ]
    },
    {
     "name": "stdout",
     "output_type": "stream",
     "text": [
      "Grouped nodes data by hexagons res 9\n",
      "Saved grouped data by hexagons res 9\n"
     ]
    }
   ],
   "source": [
    "hex_idx = gpd.GeoDataFrame()\n",
    "\n",
    "for res in res_list:\n",
    "    \n",
    "    #/////////////////////////////////////////////////////////////////////////// HEXGRID DEPENDS ON POP DATA BEING CALCULATED OR NOT ///////////////////////////////////////////////////////////////////////////\n",
    "    # If pop_output is true, loads previously created hexgrid with pop data\n",
    "    if pop_output:\n",
    "        # Load hexgrid\n",
    "        hex_pop = hex_socio_gdf.loc[hex_socio_gdf['res'] == res]\n",
    "        \n",
    "        #Function group_by_hex_mean requires ID to include resolution\n",
    "        hex_pop.rename(columns={'hex_id':f'hex_id_{res}'},inplace=True)\n",
    "        \n",
    "        # Create hex_tmp\n",
    "        hex_pop = hex_pop.set_crs(\"EPSG:4326\")\n",
    "        hex_tmp = hex_pop[[f'hex_id_{res}','geometry']].copy()\n",
    "        #-------------------------------------------------------------------------------------------------------------------------------------------------\n",
    "        print(f\"Loaded pop hexgrid of resolution {res}\")\n",
    "        #-------------------------------------------------------------------------------------------------------------------------------------------------\n",
    "        \n",
    "    # If pop_output is false, creates hexgrid\n",
    "    else:\n",
    "        # Create hexgrid (which already has ID_res)\n",
    "        hexgrid = aup.create_hexgrid(aoi,res)\n",
    "        \n",
    "        # Create hex_tmp\n",
    "        hexgrid = hexgrid.set_crs(\"EPSG:4326\")\n",
    "        hex_tmp = hexgrid.copy()\n",
    "        #-------------------------------------------------------------------------------------------------------------------------------------------------\n",
    "        print(f\"Created hexgrid of resolution {res}\")\n",
    "        #-------------------------------------------------------------------------------------------------------------------------------------------------\n",
    "        \n",
    "    #/////////////////////////////////////////////////////////////////////////// HEXGRID DEPENDS ON POP DATA BEING CALCULATED OR NOT ///////////////////////////////////////////////////////////////////////////\n",
    "    \n",
    "    # group data by hex\n",
    "    hex_res_idx = aup.group_by_hex_mean(nodes_analysis_filter, hex_tmp, res, index_column)\n",
    "    hex_res_idx = hex_res_idx.loc[hex_res_idx[index_column]>0].copy()\n",
    "    \n",
    "    #-----------------------------------------------------------------------------------------------------------------------------------------------------\n",
    "    print(f\"Grouped nodes data by hexagons res {res}\")\n",
    "    #-----------------------------------------------------------------------------------------------------------------------------------------------------\n",
    "    \n",
    "    #////////////////////////////////////////////////////////////////////////////////// ADD POP DATA IF POP DATA IS CONSIDERED /////////////////////////////////////////////////////////////////////////////////\n",
    "    # Add pop data\n",
    "    if pop_output:\n",
    "        pop_list = [f'hex_id_{res}','pobtot','dens_pob_ha']\n",
    "        hex_res_pop = pd.merge(hex_res_idx, hex_pop[pop_list], on=f'hex_id_{res}')\n",
    "    else:\n",
    "        hex_res_pop = hex_res_idx.copy()\n",
    "    #////////////////////////////////////////////////////////////////////////////////// ADD POP DATA IF POP DATA IS CONSIDERED /////////////////////////////////////////////////////////////////////////////////    \n",
    "    \n",
    "    # After funtion group_by_hex_mean we can remove res from ID and set as a column\n",
    "    hex_res_pop.rename(columns={f'hex_id_{res}':'hex_id'},inplace=True)\n",
    "    hex_res_pop['res'] = res\n",
    "\n",
    "    hex_idx = hex_idx.append(hex_res_pop)\n",
    "        \n",
    "    #-----------------------------------------------------------------------------------------------------------------------------------------------------    \n",
    "    print(f\"Saved grouped data by hexagons res {res}\")\n",
    "    #-----------------------------------------------------------------------------------------------------------------------------------------------------\n",
    "    "
   ]
  },
  {
   "cell_type": "code",
   "execution_count": 18,
   "id": "7971f481-eb6f-4a0b-99d4-7cede2957c44",
   "metadata": {
    "tags": []
   },
   "outputs": [],
   "source": [
    "hex_idx.rename(columns={s:'max_time'},inplace=True)"
   ]
  },
  {
   "cell_type": "code",
   "execution_count": 21,
   "id": "47ac7cfc-21e5-4faf-a2ac-9ed426e3db8d",
   "metadata": {
    "tags": []
   },
   "outputs": [
    {
     "name": "stdout",
     "output_type": "stream",
     "text": [
      "(1765, 6)\n"
     ]
    },
    {
     "data": {
      "text/html": [
       "<div>\n",
       "<style scoped>\n",
       "    .dataframe tbody tr th:only-of-type {\n",
       "        vertical-align: middle;\n",
       "    }\n",
       "\n",
       "    .dataframe tbody tr th {\n",
       "        vertical-align: top;\n",
       "    }\n",
       "\n",
       "    .dataframe thead th {\n",
       "        text-align: right;\n",
       "    }\n",
       "</style>\n",
       "<table border=\"1\" class=\"dataframe\">\n",
       "  <thead>\n",
       "    <tr style=\"text-align: right;\">\n",
       "      <th></th>\n",
       "      <th>hex_id</th>\n",
       "      <th>geometry</th>\n",
       "      <th>max_time</th>\n",
       "      <th>pobtot</th>\n",
       "      <th>dens_pob_ha</th>\n",
       "      <th>res</th>\n",
       "    </tr>\n",
       "  </thead>\n",
       "  <tbody>\n",
       "    <tr>\n",
       "      <th>0</th>\n",
       "      <td>88498eacb1fffff</td>\n",
       "      <td>POLYGON ((-102.29640 21.84650, -102.29181 21.8...</td>\n",
       "      <td>5.246933</td>\n",
       "      <td>12230.0</td>\n",
       "      <td>141.581209</td>\n",
       "      <td>8</td>\n",
       "    </tr>\n",
       "    <tr>\n",
       "      <th>1</th>\n",
       "      <td>88498e34e1fffff</td>\n",
       "      <td>POLYGON ((-102.25996 21.97565, -102.25536 21.9...</td>\n",
       "      <td>26.711324</td>\n",
       "      <td>103.0</td>\n",
       "      <td>1.192333</td>\n",
       "      <td>8</td>\n",
       "    </tr>\n",
       "  </tbody>\n",
       "</table>\n",
       "</div>"
      ],
      "text/plain": [
       "            hex_id                                           geometry  \\\n",
       "0  88498eacb1fffff  POLYGON ((-102.29640 21.84650, -102.29181 21.8...   \n",
       "1  88498e34e1fffff  POLYGON ((-102.25996 21.97565, -102.25536 21.9...   \n",
       "\n",
       "    max_time   pobtot  dens_pob_ha  res  \n",
       "0   5.246933  12230.0   141.581209    8  \n",
       "1  26.711324    103.0     1.192333    8  "
      ]
     },
     "execution_count": 21,
     "metadata": {},
     "output_type": "execute_result"
    }
   ],
   "source": [
    "# Show\n",
    "print(hex_idx.shape)\n",
    "hex_idx.head(2)"
   ]
  },
  {
   "cell_type": "markdown",
   "id": "3fe168c9-9070-4fea-9fdb-67b790038bbc",
   "metadata": {},
   "source": [
    "## 03 - Save"
   ]
  },
  {
   "cell_type": "code",
   "execution_count": null,
   "id": "9bb8323c-c639-44cd-b4e2-ab49655cfef0",
   "metadata": {},
   "outputs": [],
   "source": [
    "'../../data/external/temporal_fromjupyter/proximity_function02.gpkg'\n",
    "hex_idx.to_file(proximityanalysis_save_dir, driver='GPKG')"
   ]
  }
 ],
 "metadata": {
  "kernelspec": {
   "display_name": "Python 3 (ipykernel)",
   "language": "python",
   "name": "python3"
  },
  "language_info": {
   "codemirror_mode": {
    "name": "ipython",
    "version": 3
   },
   "file_extension": ".py",
   "mimetype": "text/x-python",
   "name": "python",
   "nbconvert_exporter": "python",
   "pygments_lexer": "ipython3",
   "version": "3.10.5"
  }
 },
 "nbformat": 4,
 "nbformat_minor": 5
}
