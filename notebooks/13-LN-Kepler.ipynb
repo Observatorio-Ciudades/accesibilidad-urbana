{
 "cells": [
  {
   "cell_type": "code",
   "execution_count": 1,
   "metadata": {},
   "outputs": [],
   "source": [
    "import aup\n",
    "import pandas as pd\n",
    "from keplergl import KeplerGl\n",
    "import geopandas as gpd"
   ]
  },
  {
   "cell_type": "code",
   "execution_count": 24,
   "metadata": {},
   "outputs": [],
   "source": [
    "df = pd.read_json(\"../scripts/Metropolis_CVE.json\")\n",
    "cities = [c for c in df.columns.unique()]\n",
    "# Creates empty GeoDataFrame to store specified municipality polygons\n",
    "mun_gdf = gpd.GeoDataFrame()\n",
    "#ageb_gdf = gpd.GeoDataFrame()\n",
    "hex_bins = gpd.GeoDataFrame()\n",
    "year = 2020\n",
    "mpos_folder = f'mpos_{year}'\n",
    "\n",
    "c = cities[-1]\n",
    "for i in range(len(df.loc[\"mpos\", c])):\n",
    "    # Extracts specific municipality code\n",
    "    m = df.loc[\"mpos\", c][i]\n",
    "    # Downloads municipality polygon according to code\n",
    "    query = f\"SELECT * FROM marco.{mpos_folder} WHERE \\\"CVEGEO\\\" LIKE \\'{m}\\'\"\n",
    "    mun_gdf = mun_gdf.append(aup.gdf_from_query(query, geometry_col='geometry'))\n",
    "    #Creates query to download hex bins\n",
    "    query = f\"SELECT * FROM processed.hex_bins_index_{year} WHERE \\\"CVEGEO\\\" LIKE \\'{m}%%\\'\"\n",
    "    hex_bins = hex_bins.append(aup.gdf_from_query(query, geometry_col='geometry'))"
   ]
  },
  {
   "cell_type": "code",
   "execution_count": 25,
   "metadata": {},
   "outputs": [
    {
     "name": "stdout",
     "output_type": "stream",
     "text": [
      "User Guide: https://docs.kepler.gl/docs/keplergl-jupyter\n"
     ]
    },
    {
     "name": "stderr",
     "output_type": "stream",
     "text": [
      "/Users/natera/miniconda3/envs/ox/lib/python3.8/site-packages/geopandas/geodataframe.py:852: UserWarning: Geometry column does not contain geometry.\n",
      "  warnings.warn(\"Geometry column does not contain geometry.\")\n"
     ]
    },
    {
     "data": {
      "application/vnd.jupyter.widget-view+json": {
       "model_id": "6b64174d939d420587ca3b340c27a29e",
       "version_major": 2,
       "version_minor": 0
      },
      "text/plain": [
       "KeplerGl(config={'version': 'v1', 'config': {'visState': {'filters': [], 'layers': [{'id': 'jsx1yd', 'type': '…"
      ]
     },
     "metadata": {},
     "output_type": "display_data"
    }
   ],
   "source": [
    "map_city = KeplerGl(height=800, data={'data_farmacias':hex_bins}, config=config)\n",
    "#map_city.add_data(hex_bins, c)\n",
    "map_city"
   ]
  },
  {
   "cell_type": "code",
   "execution_count": 30,
   "metadata": {},
   "outputs": [
    {
     "name": "stdout",
     "output_type": "stream",
     "text": [
      "Map saved to ../output/html/Zacatecas_farmacias.html!\n"
     ]
    },
    {
     "name": "stderr",
     "output_type": "stream",
     "text": [
      "/Users/natera/miniconda3/envs/ox/lib/python3.8/site-packages/geopandas/geodataframe.py:852: UserWarning: Geometry column does not contain geometry.\n",
      "  warnings.warn(\"Geometry column does not contain geometry.\")\n"
     ]
    }
   ],
   "source": [
    "map_city.save_to_html(file_name=f'../output/html/{c}_farmacias.html')"
   ]
  },
  {
   "cell_type": "code",
   "execution_count": 10,
   "metadata": {},
   "outputs": [],
   "source": [
    "with open('hex_config.py', 'w') as f:\n",
    "   f.write('config = {}'.format(map_city.config))\n"
   ]
  },
  {
   "cell_type": "code",
   "execution_count": 20,
   "metadata": {},
   "outputs": [],
   "source": [
    "%run hex_config.py"
   ]
  },
  {
   "cell_type": "code",
   "execution_count": 21,
   "metadata": {},
   "outputs": [
    {
     "data": {
      "text/plain": [
       "{'version': 'v1',\n",
       " 'config': {'visState': {'filters': [],\n",
       "   'layers': [{'id': 'jsx1yd',\n",
       "     'type': 'geojson',\n",
       "     'config': {'dataId': 'data_farmacias',\n",
       "      'label': 'data_farmacias',\n",
       "      'color': [231, 159, 213],\n",
       "      'columns': {'geojson': 'geometry'},\n",
       "      'isVisible': True,\n",
       "      'visConfig': {'opacity': 0.35,\n",
       "       'strokeOpacity': 0.18,\n",
       "       'thickness': 0.2,\n",
       "       'strokeColor': [255, 254, 230],\n",
       "       'colorRange': {'name': 'Custom Palette',\n",
       "        'type': 'custom',\n",
       "        'category': 'Custom',\n",
       "        'colors': ['#FAE300', '#FD7900', '#CF1750', '#7A0DA6', '#2C51BE']},\n",
       "       'strokeColorRange': {'name': 'Global Warming',\n",
       "        'type': 'sequential',\n",
       "        'category': 'Uber',\n",
       "        'colors': ['#5A1846',\n",
       "         '#900C3F',\n",
       "         '#C70039',\n",
       "         '#E3611C',\n",
       "         '#F1920E',\n",
       "         '#FFC300']},\n",
       "       'radius': 10,\n",
       "       'sizeRange': [0, 10],\n",
       "       'radiusRange': [0, 50],\n",
       "       'heightRange': [0, 500],\n",
       "       'elevationScale': 5,\n",
       "       'stroked': False,\n",
       "       'filled': True,\n",
       "       'enable3d': False,\n",
       "       'wireframe': False},\n",
       "      'hidden': False,\n",
       "      'textLabel': [{'field': None,\n",
       "        'color': [255, 255, 255],\n",
       "        'size': 18,\n",
       "        'offset': [0, 0],\n",
       "        'anchor': 'start',\n",
       "        'alignment': 'center'}]},\n",
       "     'visualChannels': {'colorField': {'name': 'dist_farmacia',\n",
       "       'type': 'real'},\n",
       "      'colorScale': 'quantile',\n",
       "      'sizeField': None,\n",
       "      'sizeScale': 'linear',\n",
       "      'strokeColorField': None,\n",
       "      'strokeColorScale': 'quantile',\n",
       "      'heightField': {'name': 'dist_farmacia', 'type': 'real'},\n",
       "      'heightScale': 'linear',\n",
       "      'radiusField': None,\n",
       "      'radiusScale': 'linear'}}],\n",
       "   'interactionConfig': {'tooltip': {'fieldsToShow': {'data_farmacias': [{'name': 'dist_farmacia',\n",
       "        'format': None},\n",
       "       {'name': 'dist_hospitales', 'format': None},\n",
       "       {'name': 'dist_supermercados', 'format': None},\n",
       "       {'name': 'idx_accessibility', 'format': None}]},\n",
       "     'compareMode': True,\n",
       "     'compareType': 'absolute',\n",
       "     'enabled': True},\n",
       "    'brush': {'size': 0.5, 'enabled': False},\n",
       "    'geocoder': {'enabled': False},\n",
       "    'coordinate': {'enabled': False}},\n",
       "   'layerBlending': 'normal',\n",
       "   'splitMaps': [],\n",
       "   'animationConfig': {'currentTime': None, 'speed': 1}},\n",
       "  'mapState': {'bearing': 0,\n",
       "   'dragRotate': False,\n",
       "   'latitude': 20.663763061180177,\n",
       "   'longitude': -103.37697537836645,\n",
       "   'pitch': 0,\n",
       "   'zoom': 9.193984242046747,\n",
       "   'isSplit': False},\n",
       "  'mapStyle': {'styleType': 'dark',\n",
       "   'topLayerGroups': {},\n",
       "   'visibleLayerGroups': {'label': True,\n",
       "    'road': True,\n",
       "    'border': False,\n",
       "    'building': True,\n",
       "    'water': True,\n",
       "    'land': True,\n",
       "    '3d building': False},\n",
       "   'threeDBuildingColor': [9.665468314072013,\n",
       "    17.18305478057247,\n",
       "    31.1442867897876],\n",
       "   'mapStyles': {}}}}"
      ]
     },
     "execution_count": 21,
     "metadata": {},
     "output_type": "execute_result"
    }
   ],
   "source": [
    "config"
   ]
  },
  {
   "cell_type": "code",
   "execution_count": 27,
   "metadata": {},
   "outputs": [
    {
     "data": {
      "text/plain": [
       "{'bearing': 0,\n",
       " 'dragRotate': False,\n",
       " 'latitude': 20.663763061180177,\n",
       " 'longitude': -103.37697537836645,\n",
       " 'pitch': 0,\n",
       " 'zoom': 9.193984242046747,\n",
       " 'isSplit': False}"
      ]
     },
     "execution_count": 27,
     "metadata": {},
     "output_type": "execute_result"
    }
   ],
   "source": [
    "config['config']['mapState']"
   ]
  },
  {
   "cell_type": "code",
   "execution_count": null,
   "metadata": {},
   "outputs": [],
   "source": []
  }
 ],
 "metadata": {
  "kernelspec": {
   "display_name": "Python 3",
   "language": "python",
   "name": "python3"
  },
  "language_info": {
   "codemirror_mode": {
    "name": "ipython",
    "version": 3
   },
   "file_extension": ".py",
   "mimetype": "text/x-python",
   "name": "python",
   "nbconvert_exporter": "python",
   "pygments_lexer": "ipython3",
   "version": "3.8.6"
  }
 },
 "nbformat": 4,
 "nbformat_minor": 4
}
