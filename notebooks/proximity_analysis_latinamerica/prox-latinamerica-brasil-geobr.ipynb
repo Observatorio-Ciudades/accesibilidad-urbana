{
 "cells": [
  {
   "cell_type": "code",
   "execution_count": 2,
   "id": "6f0e23b1-9718-4232-828e-157827e2f69d",
   "metadata": {
    "tags": []
   },
   "outputs": [
    {
     "ename": "ModuleNotFoundError",
     "evalue": "No module named 'aup'",
     "output_type": "error",
     "traceback": [
      "\u001b[0;31m---------------------------------------------------------------------------\u001b[0m",
      "\u001b[0;31mModuleNotFoundError\u001b[0m                       Traceback (most recent call last)",
      "Cell \u001b[0;32mIn[2], line 11\u001b[0m\n\u001b[1;32m      9\u001b[0m \u001b[38;5;28;01mif\u001b[39;00m module_path \u001b[38;5;129;01mnot\u001b[39;00m \u001b[38;5;129;01min\u001b[39;00m sys\u001b[38;5;241m.\u001b[39mpath:\n\u001b[1;32m     10\u001b[0m     sys\u001b[38;5;241m.\u001b[39mpath\u001b[38;5;241m.\u001b[39mappend(module_path)\n\u001b[0;32m---> 11\u001b[0m     \u001b[38;5;28;01mimport\u001b[39;00m \u001b[38;5;21;01maup\u001b[39;00m\n\u001b[1;32m     12\u001b[0m get_ipython()\u001b[38;5;241m.\u001b[39mrun_line_magic(\u001b[38;5;124m'\u001b[39m\u001b[38;5;124mmatplotlib\u001b[39m\u001b[38;5;124m'\u001b[39m, \u001b[38;5;124m'\u001b[39m\u001b[38;5;124minline\u001b[39m\u001b[38;5;124m'\u001b[39m)\n",
      "\u001b[0;31mModuleNotFoundError\u001b[0m: No module named 'aup'"
     ]
    }
   ],
   "source": [
    "import os\n",
    "import sys\n",
    "import pandas as pd\n",
    "import geopandas as gpd\n",
    "import numpy as np\n",
    "import math\n",
    "import matplotlib.pyplot as plt\n",
    "module_path = os.path.abspath(os.path.join('..'))\n",
    "if module_path not in sys.path:\n",
    "    sys.path.append(module_path)\n",
    "    import aup\n",
    "%matplotlib inline"
   ]
  },
  {
   "cell_type": "code",
   "execution_count": 3,
   "id": "da3793d2-e081-4d95-9b41-3021507d97c3",
   "metadata": {
    "tags": []
   },
   "outputs": [
    {
     "name": "stdout",
     "output_type": "stream",
     "text": [
      "Collecting geobr\n",
      "  Downloading geobr-0.2.0-py2.py3-none-any.whl (34 kB)\n",
      "Collecting shapely<2.0.0,>=1.7.0\n",
      "  Downloading Shapely-1.8.5.post1-cp310-cp310-manylinux_2_12_x86_64.manylinux2010_x86_64.whl (2.0 MB)\n",
      "\u001b[2K     \u001b[38;2;114;156;31m━━━━━━━━━━━━━━━━━━━━━━━━━━━━━━━━━━━━━━━━\u001b[0m \u001b[32m2.0/2.0 MB\u001b[0m \u001b[31m1.1 MB/s\u001b[0m eta \u001b[36m0:00:00\u001b[0mm eta \u001b[36m0:00:01\u001b[0m0:01\u001b[0m:01\u001b[0m0m\n",
      "\u001b[?25hCollecting geopandas<0.8.0,>=0.7.0\n",
      "  Downloading geopandas-0.7.0-py2.py3-none-any.whl (928 kB)\n",
      "\u001b[2K     \u001b[38;2;114;156;31m━━━━━━━━━━━━━━━━━━━━━━━━━━━━━━━━━━━━━━━\u001b[0m \u001b[32m928.1/928.1 kB\u001b[0m \u001b[31m1.6 MB/s\u001b[0m eta \u001b[36m0:00:00\u001b[0mm eta \u001b[36m0:00:01\u001b[0m[36m0:00:01\u001b[0m\n",
      "\u001b[?25hRequirement already satisfied: fiona in /usr/local/python/lib/python3.10/site-packages (from geopandas<0.8.0,>=0.7.0->geobr) (1.9.2)\n",
      "Requirement already satisfied: pandas>=0.23.0 in /usr/local/python/lib/python3.10/site-packages (from geopandas<0.8.0,>=0.7.0->geobr) (1.5.3)\n",
      "Requirement already satisfied: pyproj>=2.2.0 in /usr/local/python/lib/python3.10/site-packages (from geopandas<0.8.0,>=0.7.0->geobr) (3.4.1)\n",
      "Requirement already satisfied: pytz>=2020.1 in /usr/local/python/lib/python3.10/site-packages (from pandas>=0.23.0->geopandas<0.8.0,>=0.7.0->geobr) (2023.2)\n",
      "Requirement already satisfied: python-dateutil>=2.8.1 in /usr/local/python/lib/python3.10/site-packages (from pandas>=0.23.0->geopandas<0.8.0,>=0.7.0->geobr) (2.8.2)\n",
      "Requirement already satisfied: numpy>=1.21.0 in /usr/local/python/lib/python3.10/site-packages (from pandas>=0.23.0->geopandas<0.8.0,>=0.7.0->geobr) (1.24.2)\n",
      "Requirement already satisfied: certifi in /usr/local/python/lib/python3.10/site-packages (from pyproj>=2.2.0->geopandas<0.8.0,>=0.7.0->geobr) (2022.12.7)\n",
      "Requirement already satisfied: click-plugins>=1.0 in /usr/local/python/lib/python3.10/site-packages (from fiona->geopandas<0.8.0,>=0.7.0->geobr) (1.1.1)\n",
      "Requirement already satisfied: munch>=2.3.2 in /usr/local/python/lib/python3.10/site-packages (from fiona->geopandas<0.8.0,>=0.7.0->geobr) (2.5.0)\n",
      "Requirement already satisfied: attrs>=19.2.0 in /usr/local/python/lib/python3.10/site-packages (from fiona->geopandas<0.8.0,>=0.7.0->geobr) (22.2.0)\n",
      "Requirement already satisfied: click~=8.0 in /usr/local/python/lib/python3.10/site-packages (from fiona->geopandas<0.8.0,>=0.7.0->geobr) (8.1.3)\n",
      "Requirement already satisfied: cligj>=0.5 in /usr/local/python/lib/python3.10/site-packages (from fiona->geopandas<0.8.0,>=0.7.0->geobr) (0.7.2)\n",
      "Requirement already satisfied: six in /usr/local/python/lib/python3.10/site-packages (from munch>=2.3.2->fiona->geopandas<0.8.0,>=0.7.0->geobr) (1.16.0)\n",
      "Installing collected packages: shapely, geopandas, geobr\n",
      "  Attempting uninstall: shapely\n",
      "    Found existing installation: shapely 2.0.1\n",
      "    Uninstalling shapely-2.0.1:\n",
      "      Successfully uninstalled shapely-2.0.1\n",
      "  Attempting uninstall: geopandas\n",
      "    Found existing installation: geopandas 0.12.2\n",
      "    Uninstalling geopandas-0.12.2:\n",
      "      Successfully uninstalled geopandas-0.12.2\n",
      "\u001b[31mERROR: pip's dependency resolver does not currently take into account all the packages that are installed. This behaviour is the source of the following dependency conflicts.\n",
      "osmnx 1.3.0 requires geopandas>=0.12, but you have geopandas 0.7.0 which is incompatible.\n",
      "osmnx 1.3.0 requires Shapely>=2.0, but you have shapely 1.8.5.post1 which is incompatible.\u001b[0m\u001b[31m\n",
      "\u001b[0mSuccessfully installed geobr-0.2.0 geopandas-0.7.0 shapely-1.8.5.post1\n",
      "\u001b[33mWARNING: Running pip as the 'root' user can result in broken permissions and conflicting behaviour with the system package manager. It is recommended to use a virtual environment instead: https://pip.pypa.io/warnings/venv\u001b[0m\u001b[33m\n",
      "\u001b[0mNote: you may need to restart the kernel to use updated packages.\n"
     ]
    }
   ],
   "source": [
    "pip install geobr"
   ]
  },
  {
   "cell_type": "code",
   "execution_count": null,
   "id": "53ae6137-a1a4-4673-aa81-8e33d2ca8cab",
   "metadata": {},
   "outputs": [],
   "source": []
  }
 ],
 "metadata": {
  "kernelspec": {
   "display_name": "Python 3 (ipykernel)",
   "language": "python",
   "name": "python3"
  },
  "language_info": {
   "codemirror_mode": {
    "name": "ipython",
    "version": 3
   },
   "file_extension": ".py",
   "mimetype": "text/x-python",
   "name": "python",
   "nbconvert_exporter": "python",
   "pygments_lexer": "ipython3",
   "version": "3.10.5"
  }
 },
 "nbformat": 4,
 "nbformat_minor": 5
}
