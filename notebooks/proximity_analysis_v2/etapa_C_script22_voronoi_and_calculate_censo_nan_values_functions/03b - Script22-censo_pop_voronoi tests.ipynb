{
 "cells": [
  {
   "cell_type": "markdown",
   "id": "c94a0038-4af3-4a29-9482-095ddded6f64",
   "metadata": {},
   "source": [
    "# Script 22-censo_pop_voronoi tests"
   ]
  },
  {
   "cell_type": "markdown",
   "id": "d5135033-6173-4847-821b-4c21a42697c3",
   "metadata": {},
   "source": [
    "This Notebook checks the outputs of script on test mode (Aguascalientes data)"
   ]
  },
  {
   "cell_type": "markdown",
   "id": "d251afb4-d190-45df-8880-bbdec034e962",
   "metadata": {},
   "source": [
    "## Import libraries"
   ]
  },
  {
   "cell_type": "code",
   "execution_count": 2,
   "id": "66470b83-05d2-42c9-8f5d-f30932bd4c40",
   "metadata": {},
   "outputs": [],
   "source": [
    "import os\n",
    "import sys\n",
    "\n",
    "import pandas as pd\n",
    "import geopandas as gpd\n",
    "import osmnx as ox\n",
    "import numpy as np\n",
    "\n",
    "from scipy.spatial import Voronoi, voronoi_plot_2d\n",
    "import shapely\n",
    "\n",
    "import matplotlib.pyplot as plt\n",
    "import seaborn as sns\n",
    "\n",
    "import warnings\n",
    "warnings.simplefilter(action='ignore', category=FutureWarning)\n",
    "\n",
    "module_path = os.path.abspath(os.path.join('../../../'))\n",
    "if module_path not in sys.path:\n",
    "    sys.path.append(module_path)\n",
    "    import aup"
   ]
  },
  {
   "cell_type": "markdown",
   "id": "6f049a65-4e8a-430f-a584-a25e48d94f9d",
   "metadata": {},
   "source": [
    "## Load data"
   ]
  },
  {
   "cell_type": "code",
   "execution_count": 3,
   "id": "0a757813-037c-42d4-9a60-da673cc40a84",
   "metadata": {},
   "outputs": [
    {
     "name": "stdout",
     "output_type": "stream",
     "text": [
      "(35950, 43)\n"
     ]
    },
    {
     "data": {
      "text/html": [
       "<div>\n",
       "<style scoped>\n",
       "    .dataframe tbody tr th:only-of-type {\n",
       "        vertical-align: middle;\n",
       "    }\n",
       "\n",
       "    .dataframe tbody tr th {\n",
       "        vertical-align: top;\n",
       "    }\n",
       "\n",
       "    .dataframe thead th {\n",
       "        text-align: right;\n",
       "    }\n",
       "</style>\n",
       "<table border=\"1\" class=\"dataframe\">\n",
       "  <thead>\n",
       "    <tr style=\"text-align: right;\">\n",
       "      <th></th>\n",
       "      <th>osmid</th>\n",
       "      <th>pobtot</th>\n",
       "      <th>pobfem</th>\n",
       "      <th>pobmas</th>\n",
       "      <th>p_0a2</th>\n",
       "      <th>p_0a2_f</th>\n",
       "      <th>p_0a2_m</th>\n",
       "      <th>p_3a5</th>\n",
       "      <th>p_3a5_f</th>\n",
       "      <th>p_3a5_m</th>\n",
       "      <th>...</th>\n",
       "      <th>p_15ymas_m</th>\n",
       "      <th>p_18ymas</th>\n",
       "      <th>p_18ymas_f</th>\n",
       "      <th>p_18ymas_m</th>\n",
       "      <th>pob0_14</th>\n",
       "      <th>pob15_64</th>\n",
       "      <th>pob65_mas</th>\n",
       "      <th>pcon_disc</th>\n",
       "      <th>city</th>\n",
       "      <th>geometry</th>\n",
       "    </tr>\n",
       "  </thead>\n",
       "  <tbody>\n",
       "    <tr>\n",
       "      <th>0</th>\n",
       "      <td>272921360</td>\n",
       "      <td>0.828358</td>\n",
       "      <td>0.393971</td>\n",
       "      <td>0.437472</td>\n",
       "      <td>-0.007713</td>\n",
       "      <td>0.0</td>\n",
       "      <td>-0.003085</td>\n",
       "      <td>0.001732</td>\n",
       "      <td>0.001073</td>\n",
       "      <td>0.001126</td>\n",
       "      <td>...</td>\n",
       "      <td>0.418807</td>\n",
       "      <td>0.744288</td>\n",
       "      <td>0.373764</td>\n",
       "      <td>0.370525</td>\n",
       "      <td>0.038873</td>\n",
       "      <td>0.683512</td>\n",
       "      <td>0.109059</td>\n",
       "      <td>0.048397</td>\n",
       "      <td>Aguascalientes</td>\n",
       "      <td>POINT (-102.29507 21.87288)</td>\n",
       "    </tr>\n",
       "  </tbody>\n",
       "</table>\n",
       "<p>1 rows × 43 columns</p>\n",
       "</div>"
      ],
      "text/plain": [
       "       osmid    pobtot    pobfem    pobmas     p_0a2  p_0a2_f   p_0a2_m   \n",
       "0  272921360  0.828358  0.393971  0.437472 -0.007713      0.0 -0.003085  \\\n",
       "\n",
       "      p_3a5   p_3a5_f   p_3a5_m  ...  p_15ymas_m  p_18ymas  p_18ymas_f   \n",
       "0  0.001732  0.001073  0.001126  ...    0.418807  0.744288    0.373764  \\\n",
       "\n",
       "   p_18ymas_m   pob0_14  pob15_64  pob65_mas  pcon_disc            city   \n",
       "0    0.370525  0.038873  0.683512   0.109059   0.048397  Aguascalientes  \\\n",
       "\n",
       "                      geometry  \n",
       "0  POINT (-102.29507 21.87288)  \n",
       "\n",
       "[1 rows x 43 columns]"
      ]
     },
     "execution_count": 3,
     "metadata": {},
     "output_type": "execute_result"
    }
   ],
   "source": [
    "# test\n",
    "nodes_dir = \"../../../data/processed/pop_data/test_ags_script22_nodes.gpkg\"\n",
    "nodes_test = gpd.read_file(nodes_dir)\n",
    "\n",
    "# Show\n",
    "print(nodes_test.shape)\n",
    "nodes_test.head(1)"
   ]
  },
  {
   "cell_type": "code",
   "execution_count": 14,
   "id": "3c2209bd-1915-4cb3-9cdc-41b9d9614891",
   "metadata": {},
   "outputs": [
    {
     "data": {
      "text/plain": [
       "['osmid',\n",
       " 'pobtot',\n",
       " 'pobfem',\n",
       " 'pobmas',\n",
       " 'p_0a2',\n",
       " 'p_0a2_f',\n",
       " 'p_0a2_m',\n",
       " 'p_3a5',\n",
       " 'p_3a5_f',\n",
       " 'p_3a5_m',\n",
       " 'p_6a11',\n",
       " 'p_6a11_f',\n",
       " 'p_6a11_m',\n",
       " 'p_12a14',\n",
       " 'p_12a14_f',\n",
       " 'p_12a14_m',\n",
       " 'p_15a17',\n",
       " 'p_15a17_f',\n",
       " 'p_15a17_m',\n",
       " 'p_18a24',\n",
       " 'p_18a24_f',\n",
       " 'p_18a24_m',\n",
       " 'p_60ymas',\n",
       " 'p_60ymas_f',\n",
       " 'p_60ymas_m',\n",
       " 'p_3ymas',\n",
       " 'p_3ymas_f',\n",
       " 'p_3ymas_m',\n",
       " 'p_12ymas',\n",
       " 'p_12ymas_f',\n",
       " 'p_12ymas_m',\n",
       " 'p_15ymas',\n",
       " 'p_15ymas_f',\n",
       " 'p_15ymas_m',\n",
       " 'p_18ymas',\n",
       " 'p_18ymas_f',\n",
       " 'p_18ymas_m',\n",
       " 'pob0_14',\n",
       " 'pob15_64',\n",
       " 'pob65_mas',\n",
       " 'pcon_disc',\n",
       " 'city',\n",
       " 'geometry']"
      ]
     },
     "execution_count": 14,
     "metadata": {},
     "output_type": "execute_result"
    }
   ],
   "source": [
    "list(nodes_test.columns)"
   ]
  },
  {
   "cell_type": "code",
   "execution_count": 4,
   "id": "7d6f2d85-140c-45bf-a86f-6471b98c7264",
   "metadata": {},
   "outputs": [
    {
     "name": "stdout",
     "output_type": "stream",
     "text": [
      "(1938, 48)\n"
     ]
    },
    {
     "data": {
      "text/html": [
       "<div>\n",
       "<style scoped>\n",
       "    .dataframe tbody tr th:only-of-type {\n",
       "        vertical-align: middle;\n",
       "    }\n",
       "\n",
       "    .dataframe tbody tr th {\n",
       "        vertical-align: top;\n",
       "    }\n",
       "\n",
       "    .dataframe thead th {\n",
       "        text-align: right;\n",
       "    }\n",
       "</style>\n",
       "<table border=\"1\" class=\"dataframe\">\n",
       "  <thead>\n",
       "    <tr style=\"text-align: right;\">\n",
       "      <th></th>\n",
       "      <th>hex_id</th>\n",
       "      <th>cvegeo</th>\n",
       "      <th>nomgeo</th>\n",
       "      <th>city</th>\n",
       "      <th>type</th>\n",
       "      <th>res</th>\n",
       "      <th>pobtot</th>\n",
       "      <th>pobfem</th>\n",
       "      <th>pobmas</th>\n",
       "      <th>p_0a2</th>\n",
       "      <th>...</th>\n",
       "      <th>p_15ymas_m</th>\n",
       "      <th>p_18ymas</th>\n",
       "      <th>p_18ymas_f</th>\n",
       "      <th>p_18ymas_m</th>\n",
       "      <th>pob0_14</th>\n",
       "      <th>pob15_64</th>\n",
       "      <th>pob65_mas</th>\n",
       "      <th>pcon_disc</th>\n",
       "      <th>dens_pob_ha</th>\n",
       "      <th>geometry</th>\n",
       "    </tr>\n",
       "  </thead>\n",
       "  <tbody>\n",
       "    <tr>\n",
       "      <th>0</th>\n",
       "      <td>88498e3639fffff</td>\n",
       "      <td>01001</td>\n",
       "      <td>Aguascalientes</td>\n",
       "      <td>Aguascalientes</td>\n",
       "      <td>urban</td>\n",
       "      <td>8</td>\n",
       "      <td>6963.374023</td>\n",
       "      <td>3558.997803</td>\n",
       "      <td>3404.375977</td>\n",
       "      <td>245.704391</td>\n",
       "      <td>...</td>\n",
       "      <td>2592.240967</td>\n",
       "      <td>4911.568359</td>\n",
       "      <td>2551.991455</td>\n",
       "      <td>2359.576904</td>\n",
       "      <td>1611.170166</td>\n",
       "      <td>4845.36084</td>\n",
       "      <td>506.842896</td>\n",
       "      <td>358.328735</td>\n",
       "      <td>80.614392</td>\n",
       "      <td>POLYGON ((-102.27184 21.89588, -102.26725 21.8...</td>\n",
       "    </tr>\n",
       "  </tbody>\n",
       "</table>\n",
       "<p>1 rows × 48 columns</p>\n",
       "</div>"
      ],
      "text/plain": [
       "            hex_id cvegeo          nomgeo            city   type  res   \n",
       "0  88498e3639fffff  01001  Aguascalientes  Aguascalientes  urban    8  \\\n",
       "\n",
       "        pobtot       pobfem       pobmas       p_0a2  ...   p_15ymas_m   \n",
       "0  6963.374023  3558.997803  3404.375977  245.704391  ...  2592.240967  \\\n",
       "\n",
       "      p_18ymas   p_18ymas_f   p_18ymas_m      pob0_14    pob15_64   pob65_mas   \n",
       "0  4911.568359  2551.991455  2359.576904  1611.170166  4845.36084  506.842896  \\\n",
       "\n",
       "    pcon_disc  dens_pob_ha                                           geometry  \n",
       "0  358.328735    80.614392  POLYGON ((-102.27184 21.89588, -102.26725 21.8...  \n",
       "\n",
       "[1 rows x 48 columns]"
      ]
     },
     "execution_count": 4,
     "metadata": {},
     "output_type": "execute_result"
    }
   ],
   "source": [
    "# Load hexs test\n",
    "hexs_dir = \"../../../data/processed/pop_data/test_ags_script22_hex.gpkg\"\n",
    "hexs_test = gpd.read_file(hexs_dir)\n",
    "\n",
    "# Show\n",
    "print(hexs_test.shape)\n",
    "hexs_test.head(1)"
   ]
  },
  {
   "cell_type": "code",
   "execution_count": 15,
   "id": "5d1e05e7-4d46-4ef3-b25c-3f0c7c1c0e51",
   "metadata": {},
   "outputs": [
    {
     "data": {
      "text/plain": [
       "['hex_id',\n",
       " 'cvegeo',\n",
       " 'nomgeo',\n",
       " 'city',\n",
       " 'type',\n",
       " 'res',\n",
       " 'pobtot',\n",
       " 'pobfem',\n",
       " 'pobmas',\n",
       " 'p_0a2',\n",
       " 'p_0a2_f',\n",
       " 'p_0a2_m',\n",
       " 'p_3a5',\n",
       " 'p_3a5_f',\n",
       " 'p_3a5_m',\n",
       " 'p_6a11',\n",
       " 'p_6a11_f',\n",
       " 'p_6a11_m',\n",
       " 'p_12a14',\n",
       " 'p_12a14_f',\n",
       " 'p_12a14_m',\n",
       " 'p_15a17',\n",
       " 'p_15a17_f',\n",
       " 'p_15a17_m',\n",
       " 'p_18a24',\n",
       " 'p_18a24_f',\n",
       " 'p_18a24_m',\n",
       " 'p_60ymas',\n",
       " 'p_60ymas_f',\n",
       " 'p_60ymas_m',\n",
       " 'p_3ymas',\n",
       " 'p_3ymas_f',\n",
       " 'p_3ymas_m',\n",
       " 'p_12ymas',\n",
       " 'p_12ymas_f',\n",
       " 'p_12ymas_m',\n",
       " 'p_15ymas',\n",
       " 'p_15ymas_f',\n",
       " 'p_15ymas_m',\n",
       " 'p_18ymas',\n",
       " 'p_18ymas_f',\n",
       " 'p_18ymas_m',\n",
       " 'pob0_14',\n",
       " 'pob15_64',\n",
       " 'pob65_mas',\n",
       " 'pcon_disc',\n",
       " 'dens_pob_ha',\n",
       " 'geometry']"
      ]
     },
     "execution_count": 15,
     "metadata": {},
     "output_type": "execute_result"
    }
   ],
   "source": [
    "list(hexs_test.columns)"
   ]
  },
  {
   "cell_type": "code",
   "execution_count": null,
   "id": "b5ab8848-b4f2-4014-a42e-1dbc15cad082",
   "metadata": {},
   "outputs": [],
   "source": []
  }
 ],
 "metadata": {
  "kernelspec": {
   "display_name": "GDS-10.0",
   "language": "python",
   "name": "gds"
  },
  "language_info": {
   "codemirror_mode": {
    "name": "ipython",
    "version": 3
   },
   "file_extension": ".py",
   "mimetype": "text/x-python",
   "name": "python",
   "nbconvert_exporter": "python",
   "pygments_lexer": "ipython3",
   "version": "3.9.18"
  }
 },
 "nbformat": 4,
 "nbformat_minor": 5
}
