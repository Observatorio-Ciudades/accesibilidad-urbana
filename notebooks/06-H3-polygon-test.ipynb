{
 "cells": [
  {
   "cell_type": "code",
   "execution_count": 1,
   "id": "81e0e02c-abfc-46b1-8746-8fc4507f5a34",
   "metadata": {},
   "outputs": [],
   "source": [
    "from shapely import wkt"
   ]
  },
  {
   "cell_type": "code",
   "execution_count": 2,
   "id": "7513faac-4342-4965-ba54-b8cecd4f7ab9",
   "metadata": {},
   "outputs": [
    {
     "data": {
      "image/svg+xml": [
       "<svg xmlns=\"http://www.w3.org/2000/svg\" xmlns:xlink=\"http://www.w3.org/1999/xlink\" width=\"100.0\" height=\"100.0\" viewBox=\"55.13971871089155 25.097220481530425 0.0015728663558292055 0.001340171353202635\" preserveAspectRatio=\"xMinYMin meet\"><g transform=\"matrix(1,0,0,-1,0,50.19578113441405)\"><path fill-rule=\"evenodd\" fill=\"#66cc99\" stroke=\"#555555\" stroke-width=\"3.145732711658411e-05\" opacity=\"0.6\" d=\"M 55.13977696520102,25.09805053895709 L 55.14002932545401,25.09743871100549 L 55.1407574981263,25.0972787358399 L 55.14123332293791,25.09773058763684 L 55.14098097073993,25.09834242241949 L 55.14025278567518,25.09850239857415 L 55.13977696520102,25.09805053895709 z\" /></g></svg>"
      ],
      "text/plain": [
       "<shapely.geometry.polygon.Polygon at 0x7f9d0f91adf0>"
      ]
     },
     "execution_count": 2,
     "metadata": {},
     "output_type": "execute_result"
    }
   ],
   "source": [
    "\n",
    "\n",
    "polygon_string = \"POLYGON ((55.13977696520102 25.09805053895709, 55.14002932545401 25.09743871100549, 55.1407574981263 25.0972787358399, 55.14123332293791 25.09773058763684, 55.14098097073993 25.09834242241949, 55.14025278567518 25.09850239857415, 55.13977696520102 25.09805053895709))\"\n",
    "\n",
    "shapely_polygon_fig = wkt.loads(polygon_string)\n",
    "shapely_polygon_fig\n",
    "\n"
   ]
  },
  {
   "cell_type": "code",
   "execution_count": 3,
   "id": "1a6b1cf3-f2cf-46d2-bd39-c5035f65ec57",
   "metadata": {},
   "outputs": [],
   "source": [
    "import h3"
   ]
  },
  {
   "cell_type": "code",
   "execution_count": null,
   "id": "1b25e62e-5b69-4b70-a2c0-4331f257813d",
   "metadata": {},
   "outputs": [],
   "source": []
  }
 ],
 "metadata": {
  "kernelspec": {
   "display_name": "geo_env",
   "language": "python",
   "name": "geo_env"
  },
  "language_info": {
   "codemirror_mode": {
    "name": "ipython",
    "version": 3
   },
   "file_extension": ".py",
   "mimetype": "text/x-python",
   "name": "python",
   "nbconvert_exporter": "python",
   "pygments_lexer": "ipython3",
   "version": "3.9.5"
  }
 },
 "nbformat": 4,
 "nbformat_minor": 5
}
