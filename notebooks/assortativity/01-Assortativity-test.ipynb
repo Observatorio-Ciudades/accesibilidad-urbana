{
 "cells": [
  {
   "cell_type": "markdown",
   "id": "1b743a25-aa15-4ca0-8aac-eebfb4d4c523",
   "metadata": {},
   "source": [
    "# Assortativity analysis"
   ]
  },
  {
   "cell_type": "markdown",
   "id": "97509e55-84d4-4b02-8f90-bbed7231517a",
   "metadata": {},
   "source": [
    "Notebook for testing assortativity analysis in nodes, used to determine certain urban areas with specific clustering structures based on opportunities."
   ]
  },
  {
   "cell_type": "markdown",
   "id": "b29994e4-6626-4f9d-b80e-782dc466d935",
   "metadata": {},
   "source": [
    "## Import libraries"
   ]
  },
  {
   "cell_type": "code",
   "execution_count": 11,
   "id": "bdf3d0ac-22bc-4a87-b042-a6c6d9dfb732",
   "metadata": {},
   "outputs": [],
   "source": [
    "import odc\n",
    "\n",
    "import geopandas as gpd\n",
    "import pandas as pd\n",
    "import numpy as np\n",
    "import networkx as nx\n",
    "import osmnx as ox\n",
    "\n",
    "import matplotlib.pyplot as plt\n",
    "import seaborn as sns\n",
    "\n",
    "import aup"
   ]
  },
  {
   "cell_type": "markdown",
   "id": "433c1e10-a9b0-4eb9-971b-4073ce57a6aa",
   "metadata": {},
   "source": [
    "## Add data"
   ]
  },
  {
   "cell_type": "markdown",
   "id": "ff833e0c-c934-4786-8bad-689d41a5d66e",
   "metadata": {},
   "source": [
    "### Network data"
   ]
  },
  {
   "cell_type": "markdown",
   "id": "3d578dba-8610-488f-947d-bf6393c672e8",
   "metadata": {},
   "source": [
    "Nodes"
   ]
  },
  {
   "cell_type": "code",
   "execution_count": 2,
   "id": "fa8faf18-c398-442d-9bef-1a6274712b7d",
   "metadata": {},
   "outputs": [
    {
     "name": "stdout",
     "output_type": "stream",
     "text": [
      "(270414, 5)\n"
     ]
    },
    {
     "data": {
      "text/html": [
       "<div>\n",
       "<style scoped>\n",
       "    .dataframe tbody tr th:only-of-type {\n",
       "        vertical-align: middle;\n",
       "    }\n",
       "\n",
       "    .dataframe tbody tr th {\n",
       "        vertical-align: top;\n",
       "    }\n",
       "\n",
       "    .dataframe thead th {\n",
       "        text-align: right;\n",
       "    }\n",
       "</style>\n",
       "<table border=\"1\" class=\"dataframe\">\n",
       "  <thead>\n",
       "    <tr style=\"text-align: right;\">\n",
       "      <th></th>\n",
       "      <th>osmid</th>\n",
       "      <th>x</th>\n",
       "      <th>y</th>\n",
       "      <th>street_count</th>\n",
       "      <th>geometry</th>\n",
       "    </tr>\n",
       "  </thead>\n",
       "  <tbody>\n",
       "    <tr>\n",
       "      <th>0</th>\n",
       "      <td>14609420</td>\n",
       "      <td>-70.754779</td>\n",
       "      <td>-33.515980</td>\n",
       "      <td>3</td>\n",
       "      <td>POINT (-70.75478 -33.51598)</td>\n",
       "    </tr>\n",
       "    <tr>\n",
       "      <th>1</th>\n",
       "      <td>14609423</td>\n",
       "      <td>-70.752761</td>\n",
       "      <td>-33.516031</td>\n",
       "      <td>3</td>\n",
       "      <td>POINT (-70.75276 -33.51603)</td>\n",
       "    </tr>\n",
       "  </tbody>\n",
       "</table>\n",
       "</div>"
      ],
      "text/plain": [
       "      osmid          x          y  street_count                     geometry\n",
       "0  14609420 -70.754779 -33.515980             3  POINT (-70.75478 -33.51598)\n",
       "1  14609423 -70.752761 -33.516031             3  POINT (-70.75276 -33.51603)"
      ]
     },
     "execution_count": 2,
     "metadata": {},
     "output_type": "execute_result"
    }
   ],
   "source": [
    "schema = 'projects_research'\n",
    "table = 'santiago_nodes'\n",
    "\n",
    "nodes = aup.gdf_from_db(table, schema)\n",
    "print(nodes.shape)\n",
    "nodes.head(2)"
   ]
  },
  {
   "cell_type": "markdown",
   "id": "774738e8-a5b1-4f6d-9158-b7d57059ec2f",
   "metadata": {},
   "source": [
    "Edges"
   ]
  },
  {
   "cell_type": "code",
   "execution_count": 3,
   "id": "af2e72d1-81a0-41c7-8e6a-c464588d31c2",
   "metadata": {},
   "outputs": [
    {
     "name": "stdout",
     "output_type": "stream",
     "text": [
      "(704877, 18)\n"
     ]
    },
    {
     "data": {
      "text/html": [
       "<div>\n",
       "<style scoped>\n",
       "    .dataframe tbody tr th:only-of-type {\n",
       "        vertical-align: middle;\n",
       "    }\n",
       "\n",
       "    .dataframe tbody tr th {\n",
       "        vertical-align: top;\n",
       "    }\n",
       "\n",
       "    .dataframe thead th {\n",
       "        text-align: right;\n",
       "    }\n",
       "</style>\n",
       "<table border=\"1\" class=\"dataframe\">\n",
       "  <thead>\n",
       "    <tr style=\"text-align: right;\">\n",
       "      <th></th>\n",
       "      <th>u</th>\n",
       "      <th>v</th>\n",
       "      <th>key</th>\n",
       "      <th>osmid</th>\n",
       "      <th>oneway</th>\n",
       "      <th>lanes</th>\n",
       "      <th>name</th>\n",
       "      <th>highway</th>\n",
       "      <th>maxspeed</th>\n",
       "      <th>length</th>\n",
       "      <th>geometry</th>\n",
       "      <th>bridge</th>\n",
       "      <th>ref</th>\n",
       "      <th>junction</th>\n",
       "      <th>tunnel</th>\n",
       "      <th>access</th>\n",
       "      <th>width</th>\n",
       "      <th>service</th>\n",
       "    </tr>\n",
       "  </thead>\n",
       "  <tbody>\n",
       "    <tr>\n",
       "      <th>0</th>\n",
       "      <td>14609420</td>\n",
       "      <td>448810971</td>\n",
       "      <td>0</td>\n",
       "      <td>279808979</td>\n",
       "      <td>False</td>\n",
       "      <td>2</td>\n",
       "      <td>Corregidor Zañartu</td>\n",
       "      <td>residential</td>\n",
       "      <td>None</td>\n",
       "      <td>39.944</td>\n",
       "      <td>LINESTRING (-70.75478 -33.51598, -70.75478 -33...</td>\n",
       "      <td>None</td>\n",
       "      <td>None</td>\n",
       "      <td>None</td>\n",
       "      <td>None</td>\n",
       "      <td>None</td>\n",
       "      <td>None</td>\n",
       "      <td>None</td>\n",
       "    </tr>\n",
       "    <tr>\n",
       "      <th>1</th>\n",
       "      <td>14609420</td>\n",
       "      <td>14609423</td>\n",
       "      <td>0</td>\n",
       "      <td>986531508</td>\n",
       "      <td>False</td>\n",
       "      <td>2</td>\n",
       "      <td>Cuatro Álamos</td>\n",
       "      <td>secondary</td>\n",
       "      <td>None</td>\n",
       "      <td>187.178</td>\n",
       "      <td>LINESTRING (-70.75478 -33.51598, -70.75472 -33...</td>\n",
       "      <td>None</td>\n",
       "      <td>None</td>\n",
       "      <td>None</td>\n",
       "      <td>None</td>\n",
       "      <td>None</td>\n",
       "      <td>None</td>\n",
       "      <td>None</td>\n",
       "    </tr>\n",
       "  </tbody>\n",
       "</table>\n",
       "</div>"
      ],
      "text/plain": [
       "          u          v  key      osmid  oneway lanes                name  \\\n",
       "0  14609420  448810971    0  279808979   False     2  Corregidor Zañartu   \n",
       "1  14609420   14609423    0  986531508   False     2       Cuatro Álamos   \n",
       "\n",
       "       highway maxspeed   length  \\\n",
       "0  residential     None   39.944   \n",
       "1    secondary     None  187.178   \n",
       "\n",
       "                                            geometry bridge   ref junction  \\\n",
       "0  LINESTRING (-70.75478 -33.51598, -70.75478 -33...   None  None     None   \n",
       "1  LINESTRING (-70.75478 -33.51598, -70.75472 -33...   None  None     None   \n",
       "\n",
       "  tunnel access width service  \n",
       "0   None   None  None    None  \n",
       "1   None   None  None    None  "
      ]
     },
     "execution_count": 3,
     "metadata": {},
     "output_type": "execute_result"
    }
   ],
   "source": [
    "schema = 'projects_research'\n",
    "table = 'santiago_edges'\n",
    "\n",
    "edges = aup.gdf_from_db(table, schema)\n",
    "print(edges.shape)\n",
    "edges.head(2)"
   ]
  },
  {
   "cell_type": "markdown",
   "id": "da35ce9e-d04d-4161-8ccd-c0fc8278c454",
   "metadata": {},
   "source": [
    "### Proximity nodes"
   ]
  },
  {
   "cell_type": "code",
   "execution_count": 4,
   "id": "b2a6736a-ccdb-441f-8a34-b293598b55d0",
   "metadata": {},
   "outputs": [
    {
     "name": "stdout",
     "output_type": "stream",
     "text": [
      "(11093957, 8)\n"
     ]
    },
    {
     "data": {
      "text/html": [
       "<div>\n",
       "<style scoped>\n",
       "    .dataframe tbody tr th:only-of-type {\n",
       "        vertical-align: middle;\n",
       "    }\n",
       "\n",
       "    .dataframe tbody tr th {\n",
       "        vertical-align: top;\n",
       "    }\n",
       "\n",
       "    .dataframe thead th {\n",
       "        text-align: right;\n",
       "    }\n",
       "</style>\n",
       "<table border=\"1\" class=\"dataframe\">\n",
       "  <thead>\n",
       "    <tr style=\"text-align: right;\">\n",
       "      <th></th>\n",
       "      <th>osmid</th>\n",
       "      <th>source</th>\n",
       "      <th>source_time</th>\n",
       "      <th>source_15min</th>\n",
       "      <th>x</th>\n",
       "      <th>y</th>\n",
       "      <th>geometry</th>\n",
       "      <th>city</th>\n",
       "    </tr>\n",
       "  </thead>\n",
       "  <tbody>\n",
       "    <tr>\n",
       "      <th>0</th>\n",
       "      <td>14609420</td>\n",
       "      <td>clinica_priv</td>\n",
       "      <td>7.005465</td>\n",
       "      <td>6.0</td>\n",
       "      <td>-70.754779</td>\n",
       "      <td>-33.515980</td>\n",
       "      <td>POINT (-70.75478 -33.51598)</td>\n",
       "      <td>AM_Santiago</td>\n",
       "    </tr>\n",
       "    <tr>\n",
       "      <th>1</th>\n",
       "      <td>266256899</td>\n",
       "      <td>clinica_priv</td>\n",
       "      <td>65.749155</td>\n",
       "      <td>0.0</td>\n",
       "      <td>-70.795942</td>\n",
       "      <td>-33.522296</td>\n",
       "      <td>POINT (-70.79594 -33.5223)</td>\n",
       "      <td>AM_Santiago</td>\n",
       "    </tr>\n",
       "  </tbody>\n",
       "</table>\n",
       "</div>"
      ],
      "text/plain": [
       "       osmid        source  source_time  source_15min          x          y  \\\n",
       "0   14609420  clinica_priv     7.005465           6.0 -70.754779 -33.515980   \n",
       "1  266256899  clinica_priv    65.749155           0.0 -70.795942 -33.522296   \n",
       "\n",
       "                      geometry         city  \n",
       "0  POINT (-70.75478 -33.51598)  AM_Santiago  \n",
       "1   POINT (-70.79594 -33.5223)  AM_Santiago  "
      ]
     },
     "execution_count": 4,
     "metadata": {},
     "output_type": "execute_result"
    }
   ],
   "source": [
    "schema = 'projects_research'\n",
    "table = 'santiago_nodesproximity'\n",
    "\n",
    "nodes_raw = aup.gdf_from_db(table, schema)\n",
    "print(nodes_raw.shape)\n",
    "nodes_raw.head(2)"
   ]
  },
  {
   "cell_type": "markdown",
   "id": "1b2493c4-5a86-4ff2-9c8b-65bd2393720a",
   "metadata": {},
   "source": [
    "Data treatment"
   ]
  },
  {
   "cell_type": "code",
   "execution_count": 7,
   "id": "d4491425-dfab-49d1-bdb7-db37c734391c",
   "metadata": {
    "scrolled": true
   },
   "outputs": [],
   "source": [
    "nodes_prox = nodes.copy()\n",
    "\n",
    "for source in list(nodes_raw.source.unique()):\n",
    "    # filter nodes according to source\n",
    "    nodes_tmp = nodes_raw.loc[nodes_raw.source==source].copy()\n",
    "    # merge nodes with proximity data with restructured node data\n",
    "    nodes_prox = nodes_prox.merge(nodes_tmp.drop(columns=['x','y','geometry','city']), \n",
    "                             on='osmid', how='left')\n",
    "    nodes_prox = nodes_prox.rename(columns={'source_time':f'{source}_time',\n",
    "                                           'source_15min':f'{source}_15min'})\n",
    "    nodes_prox = nodes_prox.drop(columns=['source'])\n",
    "    \n",
    "    del nodes_tmp"
   ]
  },
  {
   "cell_type": "code",
   "execution_count": 8,
   "id": "951e2837-c2ed-4a00-998d-e4d083facc85",
   "metadata": {},
   "outputs": [
    {
     "name": "stdout",
     "output_type": "stream",
     "text": [
      "(270414, 91)\n"
     ]
    },
    {
     "data": {
      "text/html": [
       "<div>\n",
       "<style scoped>\n",
       "    .dataframe tbody tr th:only-of-type {\n",
       "        vertical-align: middle;\n",
       "    }\n",
       "\n",
       "    .dataframe tbody tr th {\n",
       "        vertical-align: top;\n",
       "    }\n",
       "\n",
       "    .dataframe thead th {\n",
       "        text-align: right;\n",
       "    }\n",
       "</style>\n",
       "<table border=\"1\" class=\"dataframe\">\n",
       "  <thead>\n",
       "    <tr style=\"text-align: right;\">\n",
       "      <th></th>\n",
       "      <th>osmid</th>\n",
       "      <th>x</th>\n",
       "      <th>y</th>\n",
       "      <th>street_count</th>\n",
       "      <th>geometry</th>\n",
       "      <th>clinica_priv_time</th>\n",
       "      <th>clinica_priv_15min</th>\n",
       "      <th>clinica_pub_time</th>\n",
       "      <th>clinica_pub_15min</th>\n",
       "      <th>consult_ado_priv_time</th>\n",
       "      <th>...</th>\n",
       "      <th>paradas_tp_masivo_time</th>\n",
       "      <th>paradas_tp_masivo_15min</th>\n",
       "      <th>restaurantes_bar_cafe_time</th>\n",
       "      <th>restaurantes_bar_cafe_15min</th>\n",
       "      <th>viv_social_time</th>\n",
       "      <th>viv_social_15min</th>\n",
       "      <th>local_mini_market_time</th>\n",
       "      <th>local_mini_market_15min</th>\n",
       "      <th>ferias_time</th>\n",
       "      <th>ferias_15min</th>\n",
       "    </tr>\n",
       "  </thead>\n",
       "  <tbody>\n",
       "    <tr>\n",
       "      <th>0</th>\n",
       "      <td>14609420</td>\n",
       "      <td>-70.754779</td>\n",
       "      <td>-33.515980</td>\n",
       "      <td>3</td>\n",
       "      <td>POINT (-70.75478 -33.51598)</td>\n",
       "      <td>7.005465</td>\n",
       "      <td>6.0</td>\n",
       "      <td>21.63234</td>\n",
       "      <td>0.0</td>\n",
       "      <td>9.31332</td>\n",
       "      <td>...</td>\n",
       "      <td>12.744885</td>\n",
       "      <td>1.0</td>\n",
       "      <td>5.425845</td>\n",
       "      <td>37.0</td>\n",
       "      <td>6.52719</td>\n",
       "      <td>34.0</td>\n",
       "      <td>7.98183</td>\n",
       "      <td>17.0</td>\n",
       "      <td>9.20229</td>\n",
       "      <td>1.0</td>\n",
       "    </tr>\n",
       "    <tr>\n",
       "      <th>1</th>\n",
       "      <td>14609423</td>\n",
       "      <td>-70.752761</td>\n",
       "      <td>-33.516031</td>\n",
       "      <td>3</td>\n",
       "      <td>POINT (-70.75276 -33.51603)</td>\n",
       "      <td>8.175150</td>\n",
       "      <td>6.0</td>\n",
       "      <td>19.84779</td>\n",
       "      <td>0.0</td>\n",
       "      <td>12.12099</td>\n",
       "      <td>...</td>\n",
       "      <td>15.310575</td>\n",
       "      <td>0.0</td>\n",
       "      <td>8.233515</td>\n",
       "      <td>24.0</td>\n",
       "      <td>8.07789</td>\n",
       "      <td>43.0</td>\n",
       "      <td>6.39741</td>\n",
       "      <td>12.0</td>\n",
       "      <td>6.39462</td>\n",
       "      <td>1.0</td>\n",
       "    </tr>\n",
       "  </tbody>\n",
       "</table>\n",
       "<p>2 rows × 91 columns</p>\n",
       "</div>"
      ],
      "text/plain": [
       "      osmid          x          y  street_count                     geometry  \\\n",
       "0  14609420 -70.754779 -33.515980             3  POINT (-70.75478 -33.51598)   \n",
       "1  14609423 -70.752761 -33.516031             3  POINT (-70.75276 -33.51603)   \n",
       "\n",
       "   clinica_priv_time  clinica_priv_15min  clinica_pub_time  clinica_pub_15min  \\\n",
       "0           7.005465                 6.0          21.63234                0.0   \n",
       "1           8.175150                 6.0          19.84779                0.0   \n",
       "\n",
       "   consult_ado_priv_time  ...  paradas_tp_masivo_time  \\\n",
       "0                9.31332  ...               12.744885   \n",
       "1               12.12099  ...               15.310575   \n",
       "\n",
       "   paradas_tp_masivo_15min  restaurantes_bar_cafe_time  \\\n",
       "0                      1.0                    5.425845   \n",
       "1                      0.0                    8.233515   \n",
       "\n",
       "   restaurantes_bar_cafe_15min  viv_social_time  viv_social_15min  \\\n",
       "0                         37.0          6.52719              34.0   \n",
       "1                         24.0          8.07789              43.0   \n",
       "\n",
       "   local_mini_market_time  local_mini_market_15min  ferias_time  ferias_15min  \n",
       "0                 7.98183                     17.0      9.20229           1.0  \n",
       "1                 6.39741                     12.0      6.39462           1.0  \n",
       "\n",
       "[2 rows x 91 columns]"
      ]
     },
     "execution_count": 8,
     "metadata": {},
     "output_type": "execute_result"
    }
   ],
   "source": [
    "print(nodes_prox.shape)\n",
    "nodes_prox.head(2)"
   ]
  },
  {
   "cell_type": "code",
   "execution_count": 9,
   "id": "c9819418-f6a9-4670-af66-28792962d5d6",
   "metadata": {},
   "outputs": [
    {
     "data": {
      "text/plain": [
       "<Axes: >"
      ]
     },
     "execution_count": 9,
     "metadata": {},
     "output_type": "execute_result"
    },
    {
     "data": {
      "image/png": "[encoded data removed]",
      "text/plain": [
       "<Figure size 640x480 with 1 Axes>"
      ]
     },
     "metadata": {},
     "output_type": "display_data"
    }
   ],
   "source": [
    "nodes_prox.plot('clinica_priv_15min')"
   ]
  },
  {
   "cell_type": "markdown",
   "id": "03c96e78-d0cc-4f88-9d2f-6c1e1c28a7b8",
   "metadata": {},
   "source": [
    "## Assortivity analysis"
   ]
  },
  {
   "cell_type": "markdown",
   "id": "66f740cd-146d-4e80-ae21-5d5c13a91aa6",
   "metadata": {},
   "source": [
    "Create Graph"
   ]
  },
  {
   "cell_type": "code",
   "execution_count": 15,
   "id": "4abd2865-8706-48d4-923c-e2db06b45b6e",
   "metadata": {},
   "outputs": [],
   "source": [
    "if 'osmid' in nodes.columns:\n",
    "    nodes = nodes.set_index('osmid')\n",
    "if 'u' in edges.columns:\n",
    "    edges = edges.set_index(['u','v','key'])"
   ]
  },
  {
   "cell_type": "code",
   "execution_count": 16,
   "id": "a4d766e6-7c73-4d46-94ef-fd2990d85e83",
   "metadata": {},
   "outputs": [],
   "source": [
    "G = ox.graph_from_gdfs(nodes, edges)"
   ]
  },
  {
   "cell_type": "markdown",
   "id": "1cbb3a0c-2541-4d21-96b8-1467ac6f6c41",
   "metadata": {},
   "source": [
    "Set attributes to the nodes"
   ]
  },
  {
   "cell_type": "code",
   "execution_count": 24,
   "id": "51f36bcc-7350-4ea6-bf29-209f4aa5a65b",
   "metadata": {},
   "outputs": [],
   "source": [
    "if 'osmid' in nodes_prox.columns:\n",
    "    nodes_prox = nodes_prox.set_index('osmid')"
   ]
  },
  {
   "cell_type": "code",
   "execution_count": 66,
   "id": "f99ccb1c-8bb0-4ac3-a24d-a0eb362a7d7c",
   "metadata": {},
   "outputs": [
    {
     "data": {
      "text/html": [
       "<div>\n",
       "<style scoped>\n",
       "    .dataframe tbody tr th:only-of-type {\n",
       "        vertical-align: middle;\n",
       "    }\n",
       "\n",
       "    .dataframe tbody tr th {\n",
       "        vertical-align: top;\n",
       "    }\n",
       "\n",
       "    .dataframe thead th {\n",
       "        text-align: right;\n",
       "    }\n",
       "</style>\n",
       "<table border=\"1\" class=\"dataframe\">\n",
       "  <thead>\n",
       "    <tr style=\"text-align: right;\">\n",
       "      <th></th>\n",
       "      <th>x</th>\n",
       "      <th>y</th>\n",
       "      <th>street_count</th>\n",
       "      <th>geometry</th>\n",
       "      <th>clinica_priv_time</th>\n",
       "      <th>clinica_priv_15min</th>\n",
       "      <th>clinica_pub_time</th>\n",
       "      <th>clinica_pub_15min</th>\n",
       "      <th>consult_ado_priv_time</th>\n",
       "      <th>consult_ado_priv_15min</th>\n",
       "      <th>...</th>\n",
       "      <th>paradas_tp_masivo_time</th>\n",
       "      <th>paradas_tp_masivo_15min</th>\n",
       "      <th>restaurantes_bar_cafe_time</th>\n",
       "      <th>restaurantes_bar_cafe_15min</th>\n",
       "      <th>viv_social_time</th>\n",
       "      <th>viv_social_15min</th>\n",
       "      <th>local_mini_market_time</th>\n",
       "      <th>local_mini_market_15min</th>\n",
       "      <th>ferias_time</th>\n",
       "      <th>ferias_15min</th>\n",
       "    </tr>\n",
       "    <tr>\n",
       "      <th>osmid</th>\n",
       "      <th></th>\n",
       "      <th></th>\n",
       "      <th></th>\n",
       "      <th></th>\n",
       "      <th></th>\n",
       "      <th></th>\n",
       "      <th></th>\n",
       "      <th></th>\n",
       "      <th></th>\n",
       "      <th></th>\n",
       "      <th></th>\n",
       "      <th></th>\n",
       "      <th></th>\n",
       "      <th></th>\n",
       "      <th></th>\n",
       "      <th></th>\n",
       "      <th></th>\n",
       "      <th></th>\n",
       "      <th></th>\n",
       "      <th></th>\n",
       "      <th></th>\n",
       "    </tr>\n",
       "  </thead>\n",
       "  <tbody>\n",
       "    <tr>\n",
       "      <th>14609420</th>\n",
       "      <td>-70.754779</td>\n",
       "      <td>-33.51598</td>\n",
       "      <td>3</td>\n",
       "      <td>POINT (-70.75478 -33.51598)</td>\n",
       "      <td>7.005465</td>\n",
       "      <td>6.0</td>\n",
       "      <td>21.63234</td>\n",
       "      <td>0.0</td>\n",
       "      <td>9.31332</td>\n",
       "      <td>2.0</td>\n",
       "      <td>...</td>\n",
       "      <td>12.744885</td>\n",
       "      <td>1.0</td>\n",
       "      <td>5.425845</td>\n",
       "      <td>37.0</td>\n",
       "      <td>6.52719</td>\n",
       "      <td>34.0</td>\n",
       "      <td>7.98183</td>\n",
       "      <td>17.0</td>\n",
       "      <td>9.20229</td>\n",
       "      <td>1.0</td>\n",
       "    </tr>\n",
       "  </tbody>\n",
       "</table>\n",
       "<p>1 rows × 90 columns</p>\n",
       "</div>"
      ],
      "text/plain": [
       "                  x         y  street_count                     geometry  \\\n",
       "osmid                                                                      \n",
       "14609420 -70.754779 -33.51598             3  POINT (-70.75478 -33.51598)   \n",
       "\n",
       "          clinica_priv_time  clinica_priv_15min  clinica_pub_time  \\\n",
       "osmid                                                               \n",
       "14609420           7.005465                 6.0          21.63234   \n",
       "\n",
       "          clinica_pub_15min  consult_ado_priv_time  consult_ado_priv_15min  \\\n",
       "osmid                                                                        \n",
       "14609420                0.0                9.31332                     2.0   \n",
       "\n",
       "          ...  paradas_tp_masivo_time  paradas_tp_masivo_15min  \\\n",
       "osmid     ...                                                    \n",
       "14609420  ...               12.744885                      1.0   \n",
       "\n",
       "          restaurantes_bar_cafe_time  restaurantes_bar_cafe_15min  \\\n",
       "osmid                                                               \n",
       "14609420                    5.425845                         37.0   \n",
       "\n",
       "          viv_social_time  viv_social_15min  local_mini_market_time  \\\n",
       "osmid                                                                 \n",
       "14609420          6.52719              34.0                 7.98183   \n",
       "\n",
       "          local_mini_market_15min  ferias_time  ferias_15min  \n",
       "osmid                                                         \n",
       "14609420                     17.0      9.20229           1.0  \n",
       "\n",
       "[1 rows x 90 columns]"
      ]
     },
     "execution_count": 66,
     "metadata": {},
     "output_type": "execute_result"
    }
   ],
   "source": [
    "nodes_prox.head(1)"
   ]
  },
  {
   "cell_type": "code",
   "execution_count": 42,
   "id": "a4c33dbc-a17a-4462-8d2a-e0dc07c005fa",
   "metadata": {},
   "outputs": [],
   "source": [
    "nodes_prox = nodes_prox.fillna(0)"
   ]
  },
  {
   "cell_type": "code",
   "execution_count": 48,
   "id": "5e087370-459f-481f-9214-ff2d4b96043d",
   "metadata": {},
   "outputs": [
    {
     "data": {
      "text/plain": [
       "array([ 6.,  5.,  8.,  0.,  1.,  2.,  3.,  4.,  7.,  9., 10., 18., 19.,\n",
       "       20., 16., 14., 13., 11., 12., 15., 17.])"
      ]
     },
     "execution_count": 48,
     "metadata": {},
     "output_type": "execute_result"
    }
   ],
   "source": [
    "nodes_prox.clinica_priv_15min.unique()"
   ]
  },
  {
   "cell_type": "code",
   "execution_count": 61,
   "id": "46be5dc2-45c5-4446-ace9-53a29cfcb357",
   "metadata": {},
   "outputs": [],
   "source": [
    "nx.set_node_attributes(G, nodes_prox.drop(columns=['x','y','street_count',\n",
    "                                                  'geometry']).to_dict(orient='index'))"
   ]
  },
  {
   "cell_type": "markdown",
   "id": "6641195e-89b1-4cf1-b4df-e67c6e6200f5",
   "metadata": {},
   "source": [
    "City wide testing for clinica_priv assortativity"
   ]
  },
  {
   "cell_type": "code",
   "execution_count": 64,
   "id": "432d5921-ebd2-41d0-b2d3-7d57c7f3c899",
   "metadata": {},
   "outputs": [],
   "source": [
    "M_ = nx.attribute_mixing_matrix(G, 'clinica_priv_15min')"
   ]
  },
  {
   "cell_type": "code",
   "execution_count": 67,
   "id": "864591f7-8413-4f66-941b-37be4dea9ca7",
   "metadata": {
    "scrolled": true
   },
   "outputs": [
    {
     "name": "stdout",
     "output_type": "stream",
     "text": [
      "0.8944892247345128\n"
     ]
    }
   ],
   "source": [
    "# NX computation\n",
    "nx.attribute_assortativity_coefficient(G, 'clinica_priv_15min')"
   ]
  },
  {
   "cell_type": "code",
   "execution_count": 71,
   "id": "814a3bfb-a64f-40d3-b30e-c8583b2c422c",
   "metadata": {
    "scrolled": true
   },
   "outputs": [
    {
     "name": "stdout",
     "output_type": "stream",
     "text": [
      "clinica_priv_15min 0.8944892247345128\n",
      "clinica_pub_15min 0.9076538337027847\n",
      "consult_ado_priv_15min 0.9205612138103261\n",
      "consult_ado_pub_15min 0.9576277640567266\n",
      "hospital_priv_15min 0.9532566720678342\n",
      "hospital_pub_15min 0.9382452357590793\n",
      "vacunatorio_priv_15min 0.9465001845785718\n",
      "vacunatorio_pub_15min 0.9639118124516074\n",
      "carniceria_15min 0.8499767153278687\n",
      "edu_basica_priv_15min 0.8996365860226204\n",
      "edu_basica_pub_15min 0.7728413247050798\n",
      "edu_media_priv_15min 0.9057273961734547\n",
      "edu_media_pub_15min 0.8439729347874626\n",
      "universidad_15min 0.8706220923923084\n",
      "farmacia_15min 0.7538567786623435\n",
      "museos_priv_15min 0.932836771427067\n",
      "museos_pub_15min 0.9269642673823563\n",
      "paradas_tp_15min 0.46395890374425075\n",
      "sitios_historicos_15min 0.8913745854113765\n",
      "bibliotecas_15min 0.9416284413534111\n",
      "edu_adultos_priv_15min 0.9599030356554257\n",
      "edu_adultos_pub_15min 0.9154993867934399\n",
      "edu_especial_priv_15min 0.9509839474508094\n",
      "edu_especial_pub_15min 0.84813478667375\n",
      "eq_deportivo_priv_15min 0.8086530471738108\n",
      "eq_deportivo_pub_15min 0.7514066595287231\n",
      "of_civicas_15min 0.8965279444950663\n",
      "police_15min 0.931827478573927\n",
      "bomberos_15min 0.9358528742340876\n",
      "centro_edu_amb_15min 0.9507347536917353\n",
      "centro_recyc_15min 0.7999581414177493\n",
      "ciclovias_15min 0.5698439752648446\n",
      "cines_15min 0.9338742220938531\n",
      "childcare_pub_15min 0.8380489028517565\n",
      "childcare_priv_15min 0.8997622888996466\n",
      "hogar_15min 0.8306468612056246\n",
      "supermercado_15min 0.8742075322764046\n",
      "banco_15min 0.8097517176837037\n",
      "paradas_tp_masivo_15min 0.9235586822383236\n",
      "restaurantes_bar_cafe_15min 0.694746942591149\n",
      "viv_social_15min 0.4232515467177841\n",
      "local_mini_market_15min 0.7281536860609666\n",
      "ferias_15min 0.8767622504671465\n"
     ]
    }
   ],
   "source": [
    "for source_count in nodes_prox.columns.unique():\n",
    "    if '_15min' in source_count:\n",
    "        print(source_count, nx.attribute_assortativity_coefficient(G, source_count))"
   ]
  },
  {
   "cell_type": "code",
   "execution_count": 72,
   "id": "d074f10e-e765-4f8b-9cc8-e6483e281c66",
   "metadata": {
    "scrolled": true
   },
   "outputs": [
    {
     "name": "stdout",
     "output_type": "stream",
     "text": [
      "clinica_priv_15min 0.988685020917558\n",
      "clinica_pub_15min 0.9561822504854826\n",
      "consult_ado_priv_15min 0.9852195982455431\n",
      "consult_ado_pub_15min 0.9576278001486495\n",
      "hospital_priv_15min 0.9621643546906135\n",
      "hospital_pub_15min 0.9732799762523331\n",
      "vacunatorio_priv_15min 0.9771444307797134\n",
      "vacunatorio_pub_15min 0.9639118124515994\n",
      "carniceria_15min 0.9774614538935584\n",
      "edu_basica_priv_15min 0.983383937602416\n",
      "edu_basica_pub_15min 0.9807112310101243\n",
      "edu_media_priv_15min 0.9822818349018472\n",
      "edu_media_pub_15min 0.9755615935301544\n",
      "universidad_15min 0.9952043478693625\n",
      "farmacia_15min 0.9944260221247296\n",
      "museos_priv_15min 0.984621197341194\n",
      "museos_pub_15min 0.9846265170261126\n",
      "paradas_tp_15min 0.9926036594040623\n",
      "sitios_historicos_15min 0.9958574212145037\n",
      "bibliotecas_15min 0.9457577459095262\n",
      "edu_adultos_priv_15min 0.9702631368896842\n",
      "edu_adultos_pub_15min 0.9623116310579662\n",
      "edu_especial_priv_15min 0.9509839474508084\n",
      "edu_especial_pub_15min 0.9748488106087152\n",
      "eq_deportivo_priv_15min 0.9781526265817057\n",
      "eq_deportivo_pub_15min 0.9902971863971717\n",
      "of_civicas_15min 0.9827572556470678\n",
      "police_15min 0.9589459201039252\n",
      "bomberos_15min 0.9512588848756555\n",
      "centro_edu_amb_15min 0.9507347576337322\n",
      "centro_recyc_15min 0.9841456168301174\n",
      "ciclovias_15min 0.9951807884903612\n",
      "cines_15min 0.9807256761530728\n",
      "childcare_pub_15min 0.9801071964226489\n",
      "childcare_priv_15min 0.9729036131340515\n",
      "hogar_15min 0.9865009995193086\n",
      "supermercado_15min 0.9760264415110187\n",
      "banco_15min 0.99513020887548\n",
      "paradas_tp_masivo_15min 0.9715136041376643\n",
      "restaurantes_bar_cafe_15min 0.9959284839196131\n",
      "viv_social_15min 0.996244955183643\n",
      "local_mini_market_15min 0.9951054881457676\n",
      "ferias_15min 0.9742246463589191\n"
     ]
    }
   ],
   "source": [
    "for source_count in nodes_prox.columns.unique():\n",
    "    if '_15min' in source_count:\n",
    "        print(source_count, nx.numeric_assortativity_coefficient(G, source_count))"
   ]
  },
  {
   "cell_type": "code",
   "execution_count": null,
   "id": "f02d6373-d19e-461f-ba0e-4648d5a4b774",
   "metadata": {},
   "outputs": [],
   "source": []
  }
 ],
 "metadata": {
  "kernelspec": {
   "display_name": "Python 3 (ipykernel)",
   "language": "python",
   "name": "python3"
  },
  "language_info": {
   "codemirror_mode": {
    "name": "ipython",
    "version": 3
   },
   "file_extension": ".py",
   "mimetype": "text/x-python",
   "name": "python",
   "nbconvert_exporter": "python",
   "pygments_lexer": "ipython3",
   "version": "3.13.1"
  }
 },
 "nbformat": 4,
 "nbformat_minor": 5
}
