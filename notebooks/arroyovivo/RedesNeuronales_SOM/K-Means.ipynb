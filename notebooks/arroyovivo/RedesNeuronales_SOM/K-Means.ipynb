{
 "cells": [
  {
   "cell_type": "code",
   "execution_count": 8,
   "id": "8403554e-ed00-445d-b6a0-e75f711a3425",
   "metadata": {
    "tags": []
   },
   "outputs": [],
   "source": [
    "import warnings\n",
    "warnings.simplefilter(action='ignore', category=FutureWarning)\n",
    "import pandas as pd\n",
    "import geopandas as gpd\n",
    "import numpy as np\n",
    "import matplotlib.pyplot as plt\n",
    "import os \n",
    "import sys\n",
    "module_path = os.path.abspath(os.path.join('../../../'))\n",
    "if module_path not in sys.path:\n",
    "    sys.path.append(module_path)\n",
    "    import aup\n",
    "from matplotlib.colors import ListedColormap\n",
    "import folium\n",
    "from folium.plugins import MarkerCluster\n",
    "import leafmap"
   ]
  },
  {
   "cell_type": "code",
   "execution_count": 2,
   "id": "e9407e5c-fff7-4494-a77b-b44e0ac49130",
   "metadata": {
    "tags": []
   },
   "outputs": [
    {
     "name": "stdout",
     "output_type": "stream",
     "text": [
      "(562, 51)\n"
     ]
    },
    {
     "data": {
      "text/html": [
       "<div>\n",
       "<style scoped>\n",
       "    .dataframe tbody tr th:only-of-type {\n",
       "        vertical-align: middle;\n",
       "    }\n",
       "\n",
       "    .dataframe tbody tr th {\n",
       "        vertical-align: top;\n",
       "    }\n",
       "\n",
       "    .dataframe thead th {\n",
       "        text-align: right;\n",
       "    }\n",
       "</style>\n",
       "<table border=\"1\" class=\"dataframe\">\n",
       "  <thead>\n",
       "    <tr style=\"text-align: right;\">\n",
       "      <th></th>\n",
       "      <th>hex_id</th>\n",
       "      <th>res</th>\n",
       "      <th>geometry</th>\n",
       "      <th>aluminio</th>\n",
       "      <th>aluminio_quantity</th>\n",
       "      <th>baterias</th>\n",
       "      <th>baterias_quantity</th>\n",
       "      <th>carton</th>\n",
       "      <th>carton_quantity</th>\n",
       "      <th>cenizas</th>\n",
       "      <th>...</th>\n",
       "      <th>unicel</th>\n",
       "      <th>unicel_quantity</th>\n",
       "      <th>vidrio</th>\n",
       "      <th>vidrio_quantity</th>\n",
       "      <th>epi</th>\n",
       "      <th>epi_quantity</th>\n",
       "      <th>total_points</th>\n",
       "      <th>most_common_point</th>\n",
       "      <th>total_quantity</th>\n",
       "      <th>most_common_quantity</th>\n",
       "    </tr>\n",
       "  </thead>\n",
       "  <tbody>\n",
       "    <tr>\n",
       "      <th>0</th>\n",
       "      <td>8a48a20296a7fff</td>\n",
       "      <td>10</td>\n",
       "      <td>POLYGON ((-100.30269 25.63956, -100.30201 25.6...</td>\n",
       "      <td>13.0</td>\n",
       "      <td>24.0</td>\n",
       "      <td>0.0</td>\n",
       "      <td>0.0</td>\n",
       "      <td>36.0</td>\n",
       "      <td>44.0</td>\n",
       "      <td>0.0</td>\n",
       "      <td>...</td>\n",
       "      <td>207.0</td>\n",
       "      <td>259.0</td>\n",
       "      <td>89.0</td>\n",
       "      <td>137.0</td>\n",
       "      <td>1.0</td>\n",
       "      <td>1.0</td>\n",
       "      <td>1918.0</td>\n",
       "      <td>Plastico</td>\n",
       "      <td>2669.0</td>\n",
       "      <td>Plastico_quantity</td>\n",
       "    </tr>\n",
       "  </tbody>\n",
       "</table>\n",
       "<p>1 rows × 51 columns</p>\n",
       "</div>"
      ],
      "text/plain": [
       "            hex_id  res                                           geometry  \\\n",
       "0  8a48a20296a7fff   10  POLYGON ((-100.30269 25.63956, -100.30201 25.6...   \n",
       "\n",
       "   aluminio  aluminio_quantity  baterias  baterias_quantity  carton  \\\n",
       "0      13.0               24.0       0.0                0.0    36.0   \n",
       "\n",
       "   carton_quantity  cenizas  ...  unicel  unicel_quantity  vidrio  \\\n",
       "0             44.0      0.0  ...   207.0            259.0    89.0   \n",
       "\n",
       "   vidrio_quantity  epi  epi_quantity  total_points  most_common_point  \\\n",
       "0            137.0  1.0           1.0        1918.0           Plastico   \n",
       "\n",
       "   total_quantity  most_common_quantity  \n",
       "0          2669.0     Plastico_quantity  \n",
       "\n",
       "[1 rows x 51 columns]"
      ]
     },
     "execution_count": 2,
     "metadata": {},
     "output_type": "execute_result"
    }
   ],
   "source": [
    "schema = 'projects_research'\n",
    "table = 'arroyovivo_residuos_hex'\n",
    "query = f\"SELECT * FROM {schema}.{table}\"\n",
    "residuos = aup.gdf_from_query(query, geometry_col='geometry')\n",
    "\n",
    "print(residuos.shape)\n",
    "residuos.head(1)"
   ]
  },
  {
   "cell_type": "code",
   "execution_count": 3,
   "id": "8df4affa-c628-4be5-b872-9f40dc0713a5",
   "metadata": {
    "tags": []
   },
   "outputs": [
    {
     "data": {
      "text/plain": [
       "Index(['hex_id', 'res', 'geometry', 'aluminio', 'aluminio_quantity',\n",
       "       'baterias', 'baterias_quantity', 'carton', 'carton_quantity', 'cenizas',\n",
       "       'cenizas_quantity', 'ceramica', 'ceramica_quantity', 'electronica',\n",
       "       'electronica_quantity', 'escombros', 'escombros_quantity', 'goma',\n",
       "       'goma_quantity', 'llantas', 'llantas_quantity', 'madera',\n",
       "       'madera_quantity', 'metal', 'metal_quantity', 'organico',\n",
       "       'organico_quantity', 'otros', 'otros_quantity', 'papel',\n",
       "       'papel_quantity', 'pesca', 'pesca_quantity', 'plastico',\n",
       "       'plastico_quantity', 'salud e higiene', 'salud e higiene_quantity',\n",
       "       'tabaco', 'tabaco_quantity', 'tela', 'tela_quantity', 'unicel',\n",
       "       'unicel_quantity', 'vidrio', 'vidrio_quantity', 'epi', 'epi_quantity',\n",
       "       'total_points', 'most_common_point', 'total_quantity',\n",
       "       'most_common_quantity'],\n",
       "      dtype='object')"
      ]
     },
     "execution_count": 3,
     "metadata": {},
     "output_type": "execute_result"
    }
   ],
   "source": [
    "residuos.columns"
   ]
  },
  {
   "cell_type": "markdown",
   "id": "a0c6c801-55cd-45bb-8a9d-18ae7bc23d04",
   "metadata": {},
   "source": [
    "## Dividir Data Sets en Material y Material_quantity"
   ]
  },
  {
   "cell_type": "markdown",
   "id": "501fd40c-9225-463c-bb77-bd80f384f070",
   "metadata": {},
   "source": [
    "### DataFrame Material"
   ]
  },
  {
   "cell_type": "code",
   "execution_count": 7,
   "id": "0af1af0c-9429-45b9-ba8a-7550bda616be",
   "metadata": {
    "tags": []
   },
   "outputs": [
    {
     "name": "stdout",
     "output_type": "stream",
     "text": [
      "(562, 26)\n"
     ]
    },
    {
     "data": {
      "text/html": [
       "<div>\n",
       "<style scoped>\n",
       "    .dataframe tbody tr th:only-of-type {\n",
       "        vertical-align: middle;\n",
       "    }\n",
       "\n",
       "    .dataframe tbody tr th {\n",
       "        vertical-align: top;\n",
       "    }\n",
       "\n",
       "    .dataframe thead th {\n",
       "        text-align: right;\n",
       "    }\n",
       "</style>\n",
       "<table border=\"1\" class=\"dataframe\">\n",
       "  <thead>\n",
       "    <tr style=\"text-align: right;\">\n",
       "      <th></th>\n",
       "      <th>hex_id</th>\n",
       "      <th>geometry</th>\n",
       "      <th>aluminio</th>\n",
       "      <th>baterias</th>\n",
       "      <th>carton</th>\n",
       "      <th>cenizas</th>\n",
       "      <th>ceramica</th>\n",
       "      <th>electronica</th>\n",
       "      <th>escombros</th>\n",
       "      <th>goma</th>\n",
       "      <th>...</th>\n",
       "      <th>pesca</th>\n",
       "      <th>plastico</th>\n",
       "      <th>salud e higiene</th>\n",
       "      <th>tabaco</th>\n",
       "      <th>tela</th>\n",
       "      <th>unicel</th>\n",
       "      <th>vidrio</th>\n",
       "      <th>epi</th>\n",
       "      <th>total_points</th>\n",
       "      <th>most_common_point</th>\n",
       "    </tr>\n",
       "  </thead>\n",
       "  <tbody>\n",
       "    <tr>\n",
       "      <th>0</th>\n",
       "      <td>8a48a20296a7fff</td>\n",
       "      <td>POLYGON ((-100.30269 25.63956, -100.30201 25.6...</td>\n",
       "      <td>13.0</td>\n",
       "      <td>0.0</td>\n",
       "      <td>36.0</td>\n",
       "      <td>0.0</td>\n",
       "      <td>10.0</td>\n",
       "      <td>1.0</td>\n",
       "      <td>21.0</td>\n",
       "      <td>0.0</td>\n",
       "      <td>...</td>\n",
       "      <td>0.0</td>\n",
       "      <td>1202.0</td>\n",
       "      <td>29.0</td>\n",
       "      <td>13.0</td>\n",
       "      <td>84.0</td>\n",
       "      <td>207.0</td>\n",
       "      <td>89.0</td>\n",
       "      <td>1.0</td>\n",
       "      <td>1918.0</td>\n",
       "      <td>Plastico</td>\n",
       "    </tr>\n",
       "    <tr>\n",
       "      <th>1</th>\n",
       "      <td>8a48a202978ffff</td>\n",
       "      <td>POLYGON ((-100.30331 25.63839, -100.30263 25.6...</td>\n",
       "      <td>10.0</td>\n",
       "      <td>0.0</td>\n",
       "      <td>13.0</td>\n",
       "      <td>2.0</td>\n",
       "      <td>2.0</td>\n",
       "      <td>2.0</td>\n",
       "      <td>25.0</td>\n",
       "      <td>2.0</td>\n",
       "      <td>...</td>\n",
       "      <td>0.0</td>\n",
       "      <td>760.0</td>\n",
       "      <td>12.0</td>\n",
       "      <td>7.0</td>\n",
       "      <td>81.0</td>\n",
       "      <td>57.0</td>\n",
       "      <td>26.0</td>\n",
       "      <td>0.0</td>\n",
       "      <td>1122.0</td>\n",
       "      <td>Plastico</td>\n",
       "    </tr>\n",
       "  </tbody>\n",
       "</table>\n",
       "<p>2 rows × 26 columns</p>\n",
       "</div>"
      ],
      "text/plain": [
       "            hex_id                                           geometry  \\\n",
       "0  8a48a20296a7fff  POLYGON ((-100.30269 25.63956, -100.30201 25.6...   \n",
       "1  8a48a202978ffff  POLYGON ((-100.30331 25.63839, -100.30263 25.6...   \n",
       "\n",
       "   aluminio  baterias  carton  cenizas  ceramica  electronica  escombros  \\\n",
       "0      13.0       0.0    36.0      0.0      10.0          1.0       21.0   \n",
       "1      10.0       0.0    13.0      2.0       2.0          2.0       25.0   \n",
       "\n",
       "   goma  ...  pesca  plastico  salud e higiene  tabaco  tela  unicel  vidrio  \\\n",
       "0   0.0  ...    0.0    1202.0             29.0    13.0  84.0   207.0    89.0   \n",
       "1   2.0  ...    0.0     760.0             12.0     7.0  81.0    57.0    26.0   \n",
       "\n",
       "   epi  total_points  most_common_point  \n",
       "0  1.0        1918.0           Plastico  \n",
       "1  0.0        1122.0           Plastico  \n",
       "\n",
       "[2 rows x 26 columns]"
      ]
     },
     "execution_count": 7,
     "metadata": {},
     "output_type": "execute_result"
    }
   ],
   "source": [
    "col_material = ['hex_id', 'geometry', 'aluminio', 'baterias', 'carton','cenizas','ceramica','electronica','escombros',\n",
    "                'goma','llantas','madera','metal','organico','otros','papel','pesca','plastico','salud e higiene',\n",
    "                'tabaco','tela','unicel','vidrio','epi','total_points', 'most_common_point'] \n",
    "data_material = residuos[col_material].copy()\n",
    "print(data_material.shape)\n",
    "data_material.head(2)"
   ]
  },
  {
   "cell_type": "code",
   "execution_count": 9,
   "id": "c16c6c6e-8041-460e-902f-873d785cd04a",
   "metadata": {
    "tags": []
   },
   "outputs": [
    {
     "data": {
      "text/plain": [
       "Index(['hex_id', 'geometry', 'aluminio', 'baterias', 'carton', 'cenizas',\n",
       "       'ceramica', 'electronica', 'escombros', 'goma', 'llantas', 'madera',\n",
       "       'metal', 'organico', 'otros', 'papel', 'pesca', 'plastico',\n",
       "       'salud e higiene', 'tabaco', 'tela', 'unicel', 'vidrio', 'epi',\n",
       "       'total_points', 'most_common_point'],\n",
       "      dtype='object')"
      ]
     },
     "execution_count": 9,
     "metadata": {},
     "output_type": "execute_result"
    }
   ],
   "source": [
    "data_material.columns"
   ]
  },
  {
   "cell_type": "markdown",
   "id": "ca069747-5f8f-4c60-ba40-fcd9c7f64651",
   "metadata": {},
   "source": [
    "### DataFrame Material_quantity"
   ]
  },
  {
   "cell_type": "code",
   "execution_count": 5,
   "id": "12abb526-7b7e-41f9-8e46-caf083049750",
   "metadata": {
    "tags": []
   },
   "outputs": [
    {
     "name": "stdout",
     "output_type": "stream",
     "text": [
      "(562, 26)\n"
     ]
    },
    {
     "data": {
      "text/html": [
       "<div>\n",
       "<style scoped>\n",
       "    .dataframe tbody tr th:only-of-type {\n",
       "        vertical-align: middle;\n",
       "    }\n",
       "\n",
       "    .dataframe tbody tr th {\n",
       "        vertical-align: top;\n",
       "    }\n",
       "\n",
       "    .dataframe thead th {\n",
       "        text-align: right;\n",
       "    }\n",
       "</style>\n",
       "<table border=\"1\" class=\"dataframe\">\n",
       "  <thead>\n",
       "    <tr style=\"text-align: right;\">\n",
       "      <th></th>\n",
       "      <th>hex_id</th>\n",
       "      <th>geometry</th>\n",
       "      <th>aluminio_quantity</th>\n",
       "      <th>baterias_quantity</th>\n",
       "      <th>carton_quantity</th>\n",
       "      <th>cenizas_quantity</th>\n",
       "      <th>ceramica_quantity</th>\n",
       "      <th>electronica_quantity</th>\n",
       "      <th>escombros_quantity</th>\n",
       "      <th>goma_quantity</th>\n",
       "      <th>...</th>\n",
       "      <th>pesca_quantity</th>\n",
       "      <th>plastico_quantity</th>\n",
       "      <th>salud e higiene_quantity</th>\n",
       "      <th>tabaco_quantity</th>\n",
       "      <th>tela_quantity</th>\n",
       "      <th>unicel_quantity</th>\n",
       "      <th>vidrio_quantity</th>\n",
       "      <th>epi_quantity</th>\n",
       "      <th>total_quantity</th>\n",
       "      <th>most_common_quantity</th>\n",
       "    </tr>\n",
       "  </thead>\n",
       "  <tbody>\n",
       "    <tr>\n",
       "      <th>0</th>\n",
       "      <td>8a48a20296a7fff</td>\n",
       "      <td>POLYGON ((-100.30269 25.63956, -100.30201 25.6...</td>\n",
       "      <td>24.0</td>\n",
       "      <td>0.0</td>\n",
       "      <td>44.0</td>\n",
       "      <td>0.0</td>\n",
       "      <td>52.0</td>\n",
       "      <td>2.0</td>\n",
       "      <td>39.0</td>\n",
       "      <td>0.0</td>\n",
       "      <td>...</td>\n",
       "      <td>0.0</td>\n",
       "      <td>1479.0</td>\n",
       "      <td>37.0</td>\n",
       "      <td>21.0</td>\n",
       "      <td>108.0</td>\n",
       "      <td>259.0</td>\n",
       "      <td>137.0</td>\n",
       "      <td>1.0</td>\n",
       "      <td>2669.0</td>\n",
       "      <td>Plastico_quantity</td>\n",
       "    </tr>\n",
       "    <tr>\n",
       "      <th>1</th>\n",
       "      <td>8a48a202978ffff</td>\n",
       "      <td>POLYGON ((-100.30331 25.63839, -100.30263 25.6...</td>\n",
       "      <td>33.0</td>\n",
       "      <td>0.0</td>\n",
       "      <td>15.0</td>\n",
       "      <td>2.0</td>\n",
       "      <td>5.0</td>\n",
       "      <td>5.0</td>\n",
       "      <td>59.0</td>\n",
       "      <td>2.0</td>\n",
       "      <td>...</td>\n",
       "      <td>0.0</td>\n",
       "      <td>1640.0</td>\n",
       "      <td>38.0</td>\n",
       "      <td>7.0</td>\n",
       "      <td>170.0</td>\n",
       "      <td>238.0</td>\n",
       "      <td>55.0</td>\n",
       "      <td>0.0</td>\n",
       "      <td>2473.0</td>\n",
       "      <td>Plastico_quantity</td>\n",
       "    </tr>\n",
       "  </tbody>\n",
       "</table>\n",
       "<p>2 rows × 26 columns</p>\n",
       "</div>"
      ],
      "text/plain": [
       "            hex_id                                           geometry  \\\n",
       "0  8a48a20296a7fff  POLYGON ((-100.30269 25.63956, -100.30201 25.6...   \n",
       "1  8a48a202978ffff  POLYGON ((-100.30331 25.63839, -100.30263 25.6...   \n",
       "\n",
       "   aluminio_quantity  baterias_quantity  carton_quantity  cenizas_quantity  \\\n",
       "0               24.0                0.0             44.0               0.0   \n",
       "1               33.0                0.0             15.0               2.0   \n",
       "\n",
       "   ceramica_quantity  electronica_quantity  escombros_quantity  goma_quantity  \\\n",
       "0               52.0                   2.0                39.0            0.0   \n",
       "1                5.0                   5.0                59.0            2.0   \n",
       "\n",
       "   ...  pesca_quantity  plastico_quantity  salud e higiene_quantity  \\\n",
       "0  ...             0.0             1479.0                      37.0   \n",
       "1  ...             0.0             1640.0                      38.0   \n",
       "\n",
       "   tabaco_quantity  tela_quantity  unicel_quantity  vidrio_quantity  \\\n",
       "0             21.0          108.0            259.0            137.0   \n",
       "1              7.0          170.0            238.0             55.0   \n",
       "\n",
       "   epi_quantity  total_quantity  most_common_quantity  \n",
       "0           1.0          2669.0     Plastico_quantity  \n",
       "1           0.0          2473.0     Plastico_quantity  \n",
       "\n",
       "[2 rows x 26 columns]"
      ]
     },
     "execution_count": 5,
     "metadata": {},
     "output_type": "execute_result"
    }
   ],
   "source": [
    "col_qty = ['hex_id', 'geometry', 'aluminio_quantity', 'baterias_quantity', 'carton_quantity','cenizas_quantity',\n",
    "                  'ceramica_quantity','electronica_quantity','escombros_quantity','goma_quantity','llantas_quantity', \n",
    "                  'madera_quantity','metal_quantity','organico_quantity','otros_quantity','papel_quantity','pesca_quantity',\n",
    "                  'plastico_quantity','salud e higiene_quantity','tabaco_quantity','tela_quantity','unicel_quantity',\n",
    "                  'vidrio_quantity','epi_quantity','total_quantity','most_common_quantity'] \n",
    "data_quantity = residuos[col_qty].copy()\n",
    "print(data_quantity.shape)\n",
    "data_quantity.head(2)"
   ]
  },
  {
   "cell_type": "code",
   "execution_count": 6,
   "id": "d3f6e2fe-7aff-411a-8f9b-b3a2e056445f",
   "metadata": {
    "tags": []
   },
   "outputs": [
    {
     "data": {
      "text/plain": [
       "Index(['hex_id', 'geometry', 'aluminio_quantity', 'baterias_quantity',\n",
       "       'carton_quantity', 'cenizas_quantity', 'ceramica_quantity',\n",
       "       'electronica_quantity', 'escombros_quantity', 'goma_quantity',\n",
       "       'llantas_quantity', 'madera_quantity', 'metal_quantity',\n",
       "       'organico_quantity', 'otros_quantity', 'papel_quantity',\n",
       "       'pesca_quantity', 'plastico_quantity', 'salud e higiene_quantity',\n",
       "       'tabaco_quantity', 'tela_quantity', 'unicel_quantity',\n",
       "       'vidrio_quantity', 'epi_quantity', 'total_quantity',\n",
       "       'most_common_quantity'],\n",
       "      dtype='object')"
      ]
     },
     "execution_count": 6,
     "metadata": {},
     "output_type": "execute_result"
    }
   ],
   "source": [
    "data_quantity.columns"
   ]
  }
 ],
 "metadata": {
  "kernelspec": {
   "display_name": "Python 3 (ipykernel)",
   "language": "python",
   "name": "python3"
  },
  "language_info": {
   "codemirror_mode": {
    "name": "ipython",
    "version": 3
   },
   "file_extension": ".py",
   "mimetype": "text/x-python",
   "name": "python",
   "nbconvert_exporter": "python",
   "pygments_lexer": "ipython3",
   "version": "3.10.10"
  }
 },
 "nbformat": 4,
 "nbformat_minor": 5
}
