{
 "cells": [
  {
   "cell_type": "markdown",
   "id": "5c8a07b5-3a46-44aa-b8cf-3fbe94005e3d",
   "metadata": {},
   "source": [
    "# Maximum residue analysis"
   ]
  },
  {
   "cell_type": "markdown",
   "id": "e8bff923-50aa-48d8-94e0-a081a5259017",
   "metadata": {},
   "source": [
    "This notebooks presents an analysis to identify the maximum residue present by hexagon in the hydrological watershed for the Arroyo Vivo project. For the quantification of the number of residue is taken into account in each hexagon."
   ]
  },
  {
   "cell_type": "markdown",
   "id": "5c862e78-65b1-448a-95c4-4ad680c3243b",
   "metadata": {},
   "source": [
    "## Import libraries"
   ]
  },
  {
   "cell_type": "code",
   "execution_count": 1,
   "id": "b63aebc3-97b7-41e8-ae3d-847bd2fa6c41",
   "metadata": {},
   "outputs": [
    {
     "name": "stderr",
     "output_type": "stream",
     "text": [
      "/home/vscode/anaconda3/envs/odc/lib/python3.10/site-packages/osmnx/utils.py:192: UserWarning: The `utils.config` function is deprecated and will be removed in a future release. Instead, use the `settings` module directly to configure a global setting's value. For example, `ox.settings.log_console=True`.\n",
      "  warnings.warn(\n"
     ]
    }
   ],
   "source": [
    "import os\n",
    "import sys\n",
    "\n",
    "import geopandas as gpd\n",
    "import pandas as pd\n",
    "import numpy as np\n",
    "\n",
    "import matplotlib.pyplot as plt\n",
    "import seaborn as sns\n",
    "\n",
    "import warnings\n",
    "warnings.simplefilter(action='ignore', category=FutureWarning)\n",
    "\n",
    "module_path = os.path.abspath(os.path.join('../../'))\n",
    "if module_path not in sys.path:\n",
    "    sys.path.append(module_path)\n",
    "    import aup"
   ]
  },
  {
   "cell_type": "markdown",
   "id": "7a784c1a-2fca-4bc7-b3d0-dd489820693d",
   "metadata": {},
   "source": [
    "## Import files"
   ]
  },
  {
   "cell_type": "markdown",
   "id": "75a2f20a-567b-4b90-8a5c-08b8c7a202d0",
   "metadata": {},
   "source": [
    "Residue data"
   ]
  },
  {
   "cell_type": "code",
   "execution_count": 4,
   "id": "057e3994-e798-4113-a1e8-2154f1e3d3c5",
   "metadata": {},
   "outputs": [
    {
     "name": "stdout",
     "output_type": "stream",
     "text": [
      "(16634, 9)\n"
     ]
    },
    {
     "data": {
      "text/html": [
       "<div>\n",
       "<style scoped>\n",
       "    .dataframe tbody tr th:only-of-type {\n",
       "        vertical-align: middle;\n",
       "    }\n",
       "\n",
       "    .dataframe tbody tr th {\n",
       "        vertical-align: top;\n",
       "    }\n",
       "\n",
       "    .dataframe thead th {\n",
       "        text-align: right;\n",
       "    }\n",
       "</style>\n",
       "<table border=\"1\" class=\"dataframe\">\n",
       "  <thead>\n",
       "    <tr style=\"text-align: right;\">\n",
       "      <th></th>\n",
       "      <th>itemname</th>\n",
       "      <th>tipo</th>\n",
       "      <th>material</th>\n",
       "      <th>quantity</th>\n",
       "      <th>latitude</th>\n",
       "      <th>longitude</th>\n",
       "      <th>altitude</th>\n",
       "      <th>data_origin</th>\n",
       "      <th>geometry</th>\n",
       "    </tr>\n",
       "  </thead>\n",
       "  <tbody>\n",
       "    <tr>\n",
       "      <th>0</th>\n",
       "      <td>Latas de aluminio o estaño</td>\n",
       "      <td>None</td>\n",
       "      <td>Aluminio</td>\n",
       "      <td>11</td>\n",
       "      <td>25.644154</td>\n",
       "      <td>-100.310618</td>\n",
       "      <td>627.104902</td>\n",
       "      <td>9 de enero.csv</td>\n",
       "      <td>POINT (368436.536 2836928.414)</td>\n",
       "    </tr>\n",
       "    <tr>\n",
       "      <th>1</th>\n",
       "      <td>Latas de aluminio o estaño</td>\n",
       "      <td>None</td>\n",
       "      <td>Aluminio</td>\n",
       "      <td>20</td>\n",
       "      <td>25.640925</td>\n",
       "      <td>-100.309352</td>\n",
       "      <td>583.488804</td>\n",
       "      <td>9 de enero.csv</td>\n",
       "      <td>POINT (368560.128 2836569.554)</td>\n",
       "    </tr>\n",
       "  </tbody>\n",
       "</table>\n",
       "</div>"
      ],
      "text/plain": [
       "                     itemname  tipo  material  quantity   latitude  \\\n",
       "0  Latas de aluminio o estaño  None  Aluminio        11  25.644154   \n",
       "1  Latas de aluminio o estaño  None  Aluminio        20  25.640925   \n",
       "\n",
       "    longitude    altitude     data_origin                        geometry  \n",
       "0 -100.310618  627.104902  9 de enero.csv  POINT (368436.536 2836928.414)  \n",
       "1 -100.309352  583.488804  9 de enero.csv  POINT (368560.128 2836569.554)  "
      ]
     },
     "execution_count": 4,
     "metadata": {},
     "output_type": "execute_result"
    }
   ],
   "source": [
    "res_gdf = gpd.read_file('../../data/processed/arroyo_vivo/residuos_arroyovivo_v3_32614.gpkg')\n",
    "print(res_gdf.shape)\n",
    "res_gdf.head(2)"
   ]
  },
  {
   "cell_type": "markdown",
   "id": "c0617cfe-9413-4104-b510-2c6449127351",
   "metadata": {},
   "source": [
    "Study area"
   ]
  },
  {
   "cell_type": "code",
   "execution_count": 5,
   "id": "04eeae9d-c7e1-40f3-9f01-ec919c0d873e",
   "metadata": {},
   "outputs": [
    {
     "name": "stdout",
     "output_type": "stream",
     "text": [
      "(1400, 6)\n"
     ]
    },
    {
     "data": {
      "text/html": [
       "<div>\n",
       "<style scoped>\n",
       "    .dataframe tbody tr th:only-of-type {\n",
       "        vertical-align: middle;\n",
       "    }\n",
       "\n",
       "    .dataframe tbody tr th {\n",
       "        vertical-align: top;\n",
       "    }\n",
       "\n",
       "    .dataframe thead th {\n",
       "        text-align: right;\n",
       "    }\n",
       "</style>\n",
       "<table border=\"1\" class=\"dataframe\">\n",
       "  <thead>\n",
       "    <tr style=\"text-align: right;\">\n",
       "      <th></th>\n",
       "      <th>hex_id_10</th>\n",
       "      <th>CVEGEO</th>\n",
       "      <th>NOMGEO</th>\n",
       "      <th>city</th>\n",
       "      <th>type</th>\n",
       "      <th>geometry</th>\n",
       "    </tr>\n",
       "  </thead>\n",
       "  <tbody>\n",
       "    <tr>\n",
       "      <th>0</th>\n",
       "      <td>8a48a2074127fff</td>\n",
       "      <td>19019</td>\n",
       "      <td>San Pedro Garza García</td>\n",
       "      <td>Monterrey</td>\n",
       "      <td>urban</td>\n",
       "      <td>POLYGON ((366283.533 2836598.177, 366352.081 2...</td>\n",
       "    </tr>\n",
       "    <tr>\n",
       "      <th>1</th>\n",
       "      <td>8a48a2074727fff</td>\n",
       "      <td>19019</td>\n",
       "      <td>San Pedro Garza García</td>\n",
       "      <td>Monterrey</td>\n",
       "      <td>urban</td>\n",
       "      <td>POLYGON ((366726.012 2837495.137, 366794.558 2...</td>\n",
       "    </tr>\n",
       "  </tbody>\n",
       "</table>\n",
       "</div>"
      ],
      "text/plain": [
       "         hex_id_10 CVEGEO                  NOMGEO       city   type  \\\n",
       "0  8a48a2074127fff  19019  San Pedro Garza García  Monterrey  urban   \n",
       "1  8a48a2074727fff  19019  San Pedro Garza García  Monterrey  urban   \n",
       "\n",
       "                                            geometry  \n",
       "0  POLYGON ((366283.533 2836598.177, 366352.081 2...  \n",
       "1  POLYGON ((366726.012 2837495.137, 366794.558 2...  "
      ]
     },
     "execution_count": 5,
     "metadata": {},
     "output_type": "execute_result"
    }
   ],
   "source": [
    "hex_gdf = gpd.read_file('../../data/processed/arroyo_vivo/AreaEscurrimiento_HexRes10_OdC23_UTM_v1.geojson')\n",
    "print(hex_gdf.shape)\n",
    "hex_gdf.head(2)"
   ]
  },
  {
   "cell_type": "markdown",
   "id": "4892c952-e41f-4036-a95e-645ba5679b8d",
   "metadata": {},
   "source": [
    "## Spatial analysis"
   ]
  },
  {
   "cell_type": "markdown",
   "id": "44e0a0c3-3a0e-4ab9-b636-ae9abebef76e",
   "metadata": {},
   "source": [
    "Spatial join"
   ]
  },
  {
   "cell_type": "code",
   "execution_count": 7,
   "id": "c833d89b-6952-47b5-aa00-44d7c8b4e3c8",
   "metadata": {},
   "outputs": [
    {
     "name": "stdout",
     "output_type": "stream",
     "text": [
      "(16244, 11)\n"
     ]
    },
    {
     "data": {
      "text/html": [
       "<div>\n",
       "<style scoped>\n",
       "    .dataframe tbody tr th:only-of-type {\n",
       "        vertical-align: middle;\n",
       "    }\n",
       "\n",
       "    .dataframe tbody tr th {\n",
       "        vertical-align: top;\n",
       "    }\n",
       "\n",
       "    .dataframe thead th {\n",
       "        text-align: right;\n",
       "    }\n",
       "</style>\n",
       "<table border=\"1\" class=\"dataframe\">\n",
       "  <thead>\n",
       "    <tr style=\"text-align: right;\">\n",
       "      <th></th>\n",
       "      <th>itemname</th>\n",
       "      <th>tipo</th>\n",
       "      <th>material</th>\n",
       "      <th>quantity</th>\n",
       "      <th>latitude</th>\n",
       "      <th>longitude</th>\n",
       "      <th>altitude</th>\n",
       "      <th>data_origin</th>\n",
       "      <th>geometry</th>\n",
       "      <th>index_right</th>\n",
       "      <th>hex_id_10</th>\n",
       "    </tr>\n",
       "  </thead>\n",
       "  <tbody>\n",
       "    <tr>\n",
       "      <th>0</th>\n",
       "      <td>Latas de aluminio o estaño</td>\n",
       "      <td>None</td>\n",
       "      <td>Aluminio</td>\n",
       "      <td>11</td>\n",
       "      <td>25.644154</td>\n",
       "      <td>-100.310618</td>\n",
       "      <td>627.104902</td>\n",
       "      <td>9 de enero.csv</td>\n",
       "      <td>POINT (368436.536 2836928.414)</td>\n",
       "      <td>1011</td>\n",
       "      <td>8a48a2076917fff</td>\n",
       "    </tr>\n",
       "    <tr>\n",
       "      <th>64</th>\n",
       "      <td>Papel de aluminio</td>\n",
       "      <td>None</td>\n",
       "      <td>Aluminio</td>\n",
       "      <td>6</td>\n",
       "      <td>25.644065</td>\n",
       "      <td>-100.310389</td>\n",
       "      <td>634.796484</td>\n",
       "      <td>9 de enero.csv</td>\n",
       "      <td>POINT (368459.459 2836918.325)</td>\n",
       "      <td>1011</td>\n",
       "      <td>8a48a2076917fff</td>\n",
       "    </tr>\n",
       "  </tbody>\n",
       "</table>\n",
       "</div>"
      ],
      "text/plain": [
       "                      itemname  tipo  material  quantity   latitude  \\\n",
       "0   Latas de aluminio o estaño  None  Aluminio        11  25.644154   \n",
       "64           Papel de aluminio  None  Aluminio         6  25.644065   \n",
       "\n",
       "     longitude    altitude     data_origin                        geometry  \\\n",
       "0  -100.310618  627.104902  9 de enero.csv  POINT (368436.536 2836928.414)   \n",
       "64 -100.310389  634.796484  9 de enero.csv  POINT (368459.459 2836918.325)   \n",
       "\n",
       "    index_right        hex_id_10  \n",
       "0          1011  8a48a2076917fff  \n",
       "64         1011  8a48a2076917fff  "
      ]
     },
     "execution_count": 7,
     "metadata": {},
     "output_type": "execute_result"
    }
   ],
   "source": [
    "res_hex = res_gdf.sjoin(hex_gdf[['hex_id_10','geometry']])\n",
    "print(res_hex.shape)\n",
    "res_hex.head(2)"
   ]
  },
  {
   "cell_type": "markdown",
   "id": "7411ffa0-b011-454a-93c0-de590a89c0e7",
   "metadata": {},
   "source": [
    "Mode equal weights"
   ]
  },
  {
   "cell_type": "code",
   "execution_count": 12,
   "id": "8499d664-91bc-4662-8aa0-ceb136173537",
   "metadata": {},
   "outputs": [
    {
     "name": "stdout",
     "output_type": "stream",
     "text": [
      "(143, 2)\n"
     ]
    },
    {
     "data": {
      "text/html": [
       "<div>\n",
       "<style scoped>\n",
       "    .dataframe tbody tr th:only-of-type {\n",
       "        vertical-align: middle;\n",
       "    }\n",
       "\n",
       "    .dataframe tbody tr th {\n",
       "        vertical-align: top;\n",
       "    }\n",
       "\n",
       "    .dataframe thead th {\n",
       "        text-align: right;\n",
       "    }\n",
       "</style>\n",
       "<table border=\"1\" class=\"dataframe\">\n",
       "  <thead>\n",
       "    <tr style=\"text-align: right;\">\n",
       "      <th></th>\n",
       "      <th>hex_id_10</th>\n",
       "      <th>material</th>\n",
       "    </tr>\n",
       "  </thead>\n",
       "  <tbody>\n",
       "    <tr>\n",
       "      <th>0</th>\n",
       "      <td>8a48a200ca67fff</td>\n",
       "      <td>Plastico</td>\n",
       "    </tr>\n",
       "    <tr>\n",
       "      <th>1</th>\n",
       "      <td>8a48a200ca6ffff</td>\n",
       "      <td>Plastico</td>\n",
       "    </tr>\n",
       "  </tbody>\n",
       "</table>\n",
       "</div>"
      ],
      "text/plain": [
       "         hex_id_10  material\n",
       "0  8a48a200ca67fff  Plastico\n",
       "1  8a48a200ca6ffff  Plastico"
      ]
     },
     "execution_count": 12,
     "metadata": {},
     "output_type": "execute_result"
    }
   ],
   "source": [
    "res_max = res_hex.groupby(['hex_id_10'])['material'].agg(pd.Series.mode).to_frame()\n",
    "res_max.reset_index(inplace=True)\n",
    "print(res_max.shape)\n",
    "res_max.head(2)"
   ]
  },
  {
   "cell_type": "markdown",
   "id": "ad60036e-7d8e-4e6b-8971-bfd7945a3aee",
   "metadata": {},
   "source": [
    "Mode quantity weigths"
   ]
  },
  {
   "cell_type": "code",
   "execution_count": null,
   "id": "bbb664df-f97c-4287-861e-0073d35b5599",
   "metadata": {},
   "outputs": [],
   "source": []
  }
 ],
 "metadata": {
  "kernelspec": {
   "display_name": "Python 3 (ipykernel)",
   "language": "python",
   "name": "python3"
  },
  "language_info": {
   "codemirror_mode": {
    "name": "ipython",
    "version": 3
   },
   "file_extension": ".py",
   "mimetype": "text/x-python",
   "name": "python",
   "nbconvert_exporter": "python",
   "pygments_lexer": "ipython3",
   "version": "3.10.4"
  }
 },
 "nbformat": 4,
 "nbformat_minor": 5
}
