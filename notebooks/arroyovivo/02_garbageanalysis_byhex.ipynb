{
 "cells": [
  {
   "cell_type": "markdown",
   "id": "75a33c95-a38a-438a-ab38-2a4b03acc987",
   "metadata": {
    "tags": []
   },
   "source": [
    "## Import libraries"
   ]
  },
  {
   "cell_type": "code",
   "execution_count": 1,
   "id": "cb9193b4-9986-4fab-bfea-59910401db72",
   "metadata": {
    "tags": []
   },
   "outputs": [
    {
     "name": "stderr",
     "output_type": "stream",
     "text": [
      "/usr/local/python/lib/python3.10/site-packages/osmnx/utils.py:192: UserWarning: The `utils.config` function is deprecated and will be removed in a future release. Instead, use the `settings` module directly to configure a global setting's value. For example, `ox.settings.log_console=True`.\n",
      "  warnings.warn(\n"
     ]
    }
   ],
   "source": [
    "import os\n",
    "import sys\n",
    "\n",
    "import pandas as pd\n",
    "import geopandas as gpd\n",
    "import numpy as np\n",
    "\n",
    "import matplotlib.pyplot as plt\n",
    "from matplotlib import colors\n",
    "import seaborn as sns\n",
    "\n",
    "from pandas.api.types import CategoricalDtype\n",
    "\n",
    "import warnings\n",
    "warnings.simplefilter(action='ignore', category=FutureWarning)\n",
    "\n",
    "module_path = os.path.abspath(os.path.join('../../'))\n",
    "if module_path not in sys.path:\n",
    "    sys.path.append(module_path)\n",
    "    import aup"
   ]
  },
  {
   "cell_type": "markdown",
   "id": "23b90c46-785d-4b0e-927f-0b3372f05ad9",
   "metadata": {
    "tags": []
   },
   "source": [
    "## Download data"
   ]
  },
  {
   "cell_type": "code",
   "execution_count": 2,
   "id": "f87fc861-03a0-462d-a1a8-36454f67ae37",
   "metadata": {
    "tags": []
   },
   "outputs": [],
   "source": [
    "aoi_dir = f'../../data/external/temporal_todocker/arroyo_vivo/cuenca_arroyo_32614.gpkg'\n",
    "resolutions = [10,11]"
   ]
  },
  {
   "cell_type": "code",
   "execution_count": 3,
   "id": "47c6f12f-9dc4-4347-8b4d-0c073be2237e",
   "metadata": {
    "tags": []
   },
   "outputs": [
    {
     "data": {
      "text/plain": [
       "<Axes: >"
      ]
     },
     "execution_count": 3,
     "metadata": {},
     "output_type": "execute_result"
    },
    {
     "data": {
      "image/png": "[encoded data removed]",
      "text/plain": [
       "<Figure size 640x480 with 1 Axes>"
      ]
     },
     "metadata": {},
     "output_type": "display_data"
    }
   ],
   "source": [
    "aoi = gpd.read_file(aoi_dir)\n",
    "aoi = aoi.to_crs(\"EPSG:4326\")\n",
    "\n",
    "# Show\n",
    "aoi.plot()"
   ]
  },
  {
   "cell_type": "code",
   "execution_count": 4,
   "id": "1aa573d1-cd5e-473b-89c2-2e4d90133231",
   "metadata": {
    "tags": []
   },
   "outputs": [
    {
     "name": "stdout",
     "output_type": "stream",
     "text": [
      "(13451, 11)\n"
     ]
    },
    {
     "data": {
      "text/html": [
       "<div>\n",
       "<style scoped>\n",
       "    .dataframe tbody tr th:only-of-type {\n",
       "        vertical-align: middle;\n",
       "    }\n",
       "\n",
       "    .dataframe tbody tr th {\n",
       "        vertical-align: top;\n",
       "    }\n",
       "\n",
       "    .dataframe thead th {\n",
       "        text-align: right;\n",
       "    }\n",
       "</style>\n",
       "<table border=\"1\" class=\"dataframe\">\n",
       "  <thead>\n",
       "    <tr style=\"text-align: right;\">\n",
       "      <th></th>\n",
       "      <th>id</th>\n",
       "      <th>itemname</th>\n",
       "      <th>tipo</th>\n",
       "      <th>material</th>\n",
       "      <th>quantity</th>\n",
       "      <th>latitude</th>\n",
       "      <th>longitude</th>\n",
       "      <th>altitude</th>\n",
       "      <th>datetime</th>\n",
       "      <th>jornada</th>\n",
       "      <th>geometry</th>\n",
       "    </tr>\n",
       "  </thead>\n",
       "  <tbody>\n",
       "    <tr>\n",
       "      <th>0</th>\n",
       "      <td>2251010</td>\n",
       "      <td>Bolsa de plástico para comestibles</td>\n",
       "      <td>Productos Plásticos para Comida</td>\n",
       "      <td>plastico</td>\n",
       "      <td>5</td>\n",
       "      <td>25.641495</td>\n",
       "      <td>-100.293776</td>\n",
       "      <td>530.400024</td>\n",
       "      <td>2022-10-29 14:05:31+00:00</td>\n",
       "      <td>221029</td>\n",
       "      <td>MULTIPOINT (-100.29378 25.64149)</td>\n",
       "    </tr>\n",
       "  </tbody>\n",
       "</table>\n",
       "</div>"
      ],
      "text/plain": [
       "        id                            itemname  \\\n",
       "0  2251010  Bolsa de plástico para comestibles   \n",
       "\n",
       "                              tipo  material  quantity   latitude   longitude  \\\n",
       "0  Productos Plásticos para Comida  plastico         5  25.641495 -100.293776   \n",
       "\n",
       "     altitude                  datetime  jornada  \\\n",
       "0  530.400024 2022-10-29 14:05:31+00:00   221029   \n",
       "\n",
       "                           geometry  \n",
       "0  MULTIPOINT (-100.29378 25.64149)  "
      ]
     },
     "execution_count": 4,
     "metadata": {},
     "output_type": "execute_result"
    }
   ],
   "source": [
    "# Referencia\n",
    "schema = 'projects_research'\n",
    "table = 'arroyovivo_residuosjornada_point'\n",
    "query = f\"SELECT * FROM {schema}.{table}\"\n",
    "pois = aup.gdf_from_query(query, geometry_col='geometry')\n",
    "\n",
    "# Show\n",
    "print(pois.shape)\n",
    "pois.head(1)"
   ]
  },
  {
   "cell_type": "markdown",
   "id": "54538b1d-ef82-4416-ac53-90a309cd83b3",
   "metadata": {
    "tags": []
   },
   "source": [
    "## Create hexgrid and group by hex data"
   ]
  },
  {
   "cell_type": "code",
   "execution_count": 5,
   "id": "1da23375-3026-47d2-a187-05a0ab6700c9",
   "metadata": {
    "tags": []
   },
   "outputs": [],
   "source": [
    "# Create buffer for aoi in order to create a hexgrid that includes all the area\n",
    "aoi_buffer = aoi.to_crs(\"EPSG:6372\").buffer(60)\n",
    "aoi_buffer = aoi_buffer.to_crs(\"EPSG:4326\")\n",
    "aoi_buffer = gpd.GeoDataFrame(geometry=aoi_buffer).dissolve()\n",
    "\n",
    "# Go back to EPSG:4326\n",
    "aoi = aoi.to_crs(\"EPSG:4326\")"
   ]
  },
  {
   "cell_type": "code",
   "execution_count": 6,
   "id": "34908ade-4111-46a4-95c4-e385f4452cb9",
   "metadata": {
    "tags": []
   },
   "outputs": [
    {
     "name": "stdout",
     "output_type": "stream",
     "text": [
      "STARTING ANALYSIS FOR RES 10\n",
      "Counting material 1 of 23: plastico\n",
      "Counting material 2 of 23: tabaco\n",
      "Counting material 3 of 23: unicel/plastico\n",
      "Counting material 4 of 23: metal\n",
      "Counting material 5 of 23: vidrio\n",
      "Counting material 6 of 23: llantas\n",
      "Counting material 7 of 23: tela\n",
      "Counting material 8 of 23: madera\n",
      "Counting material 9 of 23: escombros\n",
      "Counting material 10 of 23: papel\n",
      "Counting material 11 of 23: carton\n",
      "Counting material 12 of 23: otros\n",
      "Counting material 13 of 23: unicel\n",
      "Counting material 14 of 23: electronica\n",
      "Counting material 15 of 23: organico\n",
      "Counting material 16 of 23: vidrio/ceramica\n",
      "Counting material 17 of 23: EPI\n",
      "Counting material 18 of 23: salud e higiene\n",
      "Counting material 19 of 23: plastico/tela\n",
      "Counting material 20 of 23: pesca\n",
      "Counting material 21 of 23: baterias\n",
      "Counting material 22 of 23: goma\n",
      "Counting material 23 of 23: cenizas\n",
      "Counting jornada 1 of 21: 221029\n",
      "Counting jornada 2 of 21: 220924\n",
      "Counting jornada 3 of 21: 220705\n",
      "Counting jornada 4 of 21: 220822\n",
      "Counting jornada 5 of 21: 220827\n",
      "Counting jornada 6 of 21: 220823\n",
      "Counting jornada 7 of 21: 220824\n",
      "Counting jornada 8 of 21: 220829\n",
      "Counting jornada 9 of 21: 220818\n",
      "Counting jornada 10 of 21: 221130\n",
      "Counting jornada 11 of 21: 221201\n",
      "Counting jornada 12 of 21: 230415\n",
      "Counting jornada 13 of 21: 230527\n",
      "Counting jornada 14 of 21: 230713\n",
      "Counting jornada 15 of 21: 230819\n",
      "Counting jornada 16 of 21: 230817\n",
      "Counting jornada 17 of 21: 230109\n",
      "Counting jornada 18 of 21: 230203\n",
      "Counting jornada 19 of 21: 230311\n",
      "Counting jornada 20 of 21: 230530\n",
      "Counting jornada 21 of 21: 230419\n",
      "STARTING ANALYSIS FOR RES 11\n",
      "Counting material 1 of 23: plastico\n",
      "Counting material 2 of 23: tabaco\n",
      "Counting material 3 of 23: unicel/plastico\n",
      "Counting material 4 of 23: metal\n",
      "Counting material 5 of 23: vidrio\n",
      "Counting material 6 of 23: llantas\n",
      "Counting material 7 of 23: tela\n",
      "Counting material 8 of 23: madera\n",
      "Counting material 9 of 23: escombros\n",
      "Counting material 10 of 23: papel\n",
      "Counting material 11 of 23: carton\n",
      "Counting material 12 of 23: otros\n",
      "Counting material 13 of 23: unicel\n",
      "Counting material 14 of 23: electronica\n",
      "Counting material 15 of 23: organico\n",
      "Counting material 16 of 23: vidrio/ceramica\n",
      "Counting material 17 of 23: EPI\n",
      "Counting material 18 of 23: salud e higiene\n",
      "Counting material 19 of 23: plastico/tela\n",
      "Counting material 20 of 23: pesca\n",
      "Counting material 21 of 23: baterias\n",
      "Counting material 22 of 23: goma\n",
      "Counting material 23 of 23: cenizas\n",
      "Counting jornada 1 of 21: 221029\n",
      "Counting jornada 2 of 21: 220924\n",
      "Counting jornada 3 of 21: 220705\n",
      "Counting jornada 4 of 21: 220822\n",
      "Counting jornada 5 of 21: 220827\n",
      "Counting jornada 6 of 21: 220823\n",
      "Counting jornada 7 of 21: 220824\n",
      "Counting jornada 8 of 21: 220829\n",
      "Counting jornada 9 of 21: 220818\n",
      "Counting jornada 10 of 21: 221130\n",
      "Counting jornada 11 of 21: 221201\n",
      "Counting jornada 12 of 21: 230415\n",
      "Counting jornada 13 of 21: 230527\n",
      "Counting jornada 14 of 21: 230713\n",
      "Counting jornada 15 of 21: 230819\n",
      "Counting jornada 16 of 21: 230817\n",
      "Counting jornada 17 of 21: 230109\n",
      "Counting jornada 18 of 21: 230203\n",
      "Counting jornada 19 of 21: 230311\n",
      "Counting jornada 20 of 21: 230530\n",
      "Counting jornada 21 of 21: 230419\n",
      "Adding additional data\n",
      "(560, 96)\n"
     ]
    },
    {
     "data": {
      "text/html": [
       "<div>\n",
       "<style scoped>\n",
       "    .dataframe tbody tr th:only-of-type {\n",
       "        vertical-align: middle;\n",
       "    }\n",
       "\n",
       "    .dataframe tbody tr th {\n",
       "        vertical-align: top;\n",
       "    }\n",
       "\n",
       "    .dataframe thead th {\n",
       "        text-align: right;\n",
       "    }\n",
       "</style>\n",
       "<table border=\"1\" class=\"dataframe\">\n",
       "  <thead>\n",
       "    <tr style=\"text-align: right;\">\n",
       "      <th></th>\n",
       "      <th>hex_id</th>\n",
       "      <th>geometry</th>\n",
       "      <th>plastico</th>\n",
       "      <th>plastico_quantity</th>\n",
       "      <th>tabaco</th>\n",
       "      <th>tabaco_quantity</th>\n",
       "      <th>unicel/plastico</th>\n",
       "      <th>unicel/plastico_quantity</th>\n",
       "      <th>metal</th>\n",
       "      <th>metal_quantity</th>\n",
       "      <th>...</th>\n",
       "      <th>230530_points</th>\n",
       "      <th>230530_quantity</th>\n",
       "      <th>230419_points</th>\n",
       "      <th>230419_quantity</th>\n",
       "      <th>res</th>\n",
       "      <th>jornadas_count</th>\n",
       "      <th>total_points</th>\n",
       "      <th>most_common_point</th>\n",
       "      <th>total_quantity</th>\n",
       "      <th>most_common_quantity</th>\n",
       "    </tr>\n",
       "  </thead>\n",
       "  <tbody>\n",
       "    <tr>\n",
       "      <th>683</th>\n",
       "      <td>8a48a20296a7fff</td>\n",
       "      <td>POLYGON ((-100.30269 25.63956, -100.30201 25.6...</td>\n",
       "      <td>754.0</td>\n",
       "      <td>836.0</td>\n",
       "      <td>14.0</td>\n",
       "      <td>22.0</td>\n",
       "      <td>226.0</td>\n",
       "      <td>244.0</td>\n",
       "      <td>84.0</td>\n",
       "      <td>184.0</td>\n",
       "      <td>...</td>\n",
       "      <td>0.0</td>\n",
       "      <td>0.0</td>\n",
       "      <td>0.0</td>\n",
       "      <td>0.0</td>\n",
       "      <td>10</td>\n",
       "      <td>5.0</td>\n",
       "      <td>1583.0</td>\n",
       "      <td>plastico</td>\n",
       "      <td>1942.0</td>\n",
       "      <td>plastico_quantity</td>\n",
       "    </tr>\n",
       "  </tbody>\n",
       "</table>\n",
       "<p>1 rows × 96 columns</p>\n",
       "</div>"
      ],
      "text/plain": [
       "              hex_id                                           geometry  \\\n",
       "683  8a48a20296a7fff  POLYGON ((-100.30269 25.63956, -100.30201 25.6...   \n",
       "\n",
       "     plastico  plastico_quantity  tabaco  tabaco_quantity  unicel/plastico  \\\n",
       "683     754.0              836.0    14.0             22.0            226.0   \n",
       "\n",
       "     unicel/plastico_quantity  metal  metal_quantity  ...  230530_points  \\\n",
       "683                     244.0   84.0           184.0  ...            0.0   \n",
       "\n",
       "     230530_quantity  230419_points  230419_quantity  res  jornadas_count  \\\n",
       "683              0.0            0.0              0.0   10             5.0   \n",
       "\n",
       "     total_points  most_common_point  total_quantity  most_common_quantity  \n",
       "683        1583.0           plastico          1942.0     plastico_quantity  \n",
       "\n",
       "[1 rows x 96 columns]"
      ]
     },
     "execution_count": 6,
     "metadata": {},
     "output_type": "execute_result"
    }
   ],
   "source": [
    "materiales_list = list(pois.material.unique())\n",
    "jornadas_list = list(pois.jornada.unique())\n",
    "\n",
    "pois_copy = pois.copy()\n",
    "pois_copy.loc[:,'count'] = 1\n",
    "\n",
    "i = 0\n",
    "\n",
    "for res in resolutions:\n",
    "    print(f\"STARTING ANALYSIS FOR RES {res}\")\n",
    "    # Create hexgrid\n",
    "    hexgrid = aup.create_hexgrid(aoi_buffer,res)\n",
    "    \n",
    "    # Duplicate hexgrid to merge later\n",
    "    summary_tmp = hexgrid.copy()\n",
    "    \n",
    "    j = 1\n",
    "    for material in materiales_list:\n",
    "        print(f\"Counting material {j} of {len(materiales_list)}: {material}\")\n",
    "        \n",
    "        pois_process = pois_copy.loc[pois.material == material]\n",
    "        pois_inhex = gpd.sjoin(pois_process, hexgrid)\n",
    "\n",
    "        # Sum by hex count (individual points) and quantity (how much trash was registered in that point)\n",
    "        groupby = pois_inhex.groupby(f'hex_id_{res}').agg({'count':np.sum,\n",
    "                                                           'quantity':np.sum})\n",
    "        groupby.rename(columns={'count':material,\n",
    "                                'quantity':f'{material}_quantity'},inplace=True)\n",
    "        groupby = groupby[[material,f'{material}_quantity']]\n",
    "\n",
    "        # Join groupby with geometry\n",
    "        summary_tmp = pd.merge(summary_tmp,groupby, on=f'hex_id_{res}',how='outer')\n",
    "        \n",
    "        j = j+1\n",
    "        \n",
    "    k = 1\n",
    "    for jornada in jornadas_list:\n",
    "        print(f\"Counting jornada {k} of {len(jornadas_list)}: {jornada}\")\n",
    "        \n",
    "        pois_process = pois_copy.loc[pois.jornada == jornada]\n",
    "        pois_inhex = gpd.sjoin(pois_process, hexgrid)\n",
    "        \n",
    "        # Create tot column for this jornada (points and quantity)\n",
    "        groupby = pois_inhex.groupby(f'hex_id_{res}').agg({'count':np.sum,\n",
    "                                                           'quantity':np.sum})\n",
    "        groupby.rename(columns={'count':f'{jornada}_points',\n",
    "                                'quantity':f'{jornada}_quantity'},inplace=True)\n",
    "        groupby = groupby[[f'{jornada}_points',f'{jornada}_quantity']]\n",
    "        \n",
    "        # Add this jornada to the jornadas_count column\n",
    "        groupby[jornada] = 1\n",
    "        \n",
    "         # Join groupby with geometry\n",
    "        summary_tmp = pd.merge(summary_tmp,groupby, on=f'hex_id_{res}',how='outer')\n",
    "        \n",
    "        k = k+1\n",
    "\n",
    "    # Add resolution currently processed and change hex_id column name\n",
    "    summary_tmp['res'] = res\n",
    "    summary_tmp.rename(columns={f'hex_id_{res}':'hex_id'},inplace=True)\n",
    "        \n",
    "    if i == 0:\n",
    "        summary = summary_tmp.copy()\n",
    "    else:\n",
    "        summary = pd.concat([summary,summary_tmp])\n",
    "        \n",
    "    i = i+1\n",
    "\n",
    "print(\"Adding additional data\")\n",
    "# Additional data -----------------------------------------------\n",
    "# Remove NaNs\n",
    "summary = summary.fillna(0)\n",
    "\n",
    "# Count jornadas by hex and drop individual count columns\n",
    "summary['jornadas_count'] = summary[jornadas_list].sum(axis=1)\n",
    "summary.drop(columns=jornadas_list,inplace=True)\n",
    "\n",
    "# Sum total garbage points by hex and find most common residue by total data\n",
    "summary['total_points'] = summary[materiales_list].sum(axis=1)\n",
    "summary['most_common_point'] = summary[materiales_list].idxmax(axis=1)\n",
    "\n",
    "# Sum total garbage quantity by hex and find most common residue by total quantity data\n",
    "materiales_quantity_list = []\n",
    "for material in materiales_list:\n",
    "    column_name = f'{material}_quantity'\n",
    "    materiales_quantity_list.append(column_name)\n",
    "    \n",
    "summary['total_quantity'] = summary[materiales_quantity_list].sum(axis=1)\n",
    "summary['most_common_quantity'] = summary[materiales_quantity_list].idxmax(axis=1)\n",
    "\n",
    "# Delete hexs without data\n",
    "idx = summary['total_points'] != 0\n",
    "summary_f = summary.loc[idx]\n",
    "#Sort values \n",
    "summary_f = summary_f.sort_values(by='total_points',ascending=False)\n",
    "\n",
    "# Show -----------------------------------------------\n",
    "print(summary_f.shape)\n",
    "summary_f.head(1)"
   ]
  },
  {
   "cell_type": "markdown",
   "id": "23826f69-86d8-4323-8d24-6181520a81ed",
   "metadata": {
    "tags": []
   },
   "source": [
    "## Review output"
   ]
  },
  {
   "cell_type": "code",
   "execution_count": 7,
   "id": "58770807-ef96-4149-88d4-86a821964588",
   "metadata": {
    "tags": []
   },
   "outputs": [
    {
     "name": "stdout",
     "output_type": "stream",
     "text": [
      "Original total: 13451\n",
      "total after groupby: 13451.0\n",
      "Original total quantity: 21203\n",
      "total quantity after groupby: 21203.0\n"
     ]
    }
   ],
   "source": [
    "# Check result\n",
    "print(f'Original total: {pois.shape[0]}')\n",
    "print(f'total after groupby: {(summary_f.total_points.sum())/(len(resolutions))}')\n",
    "\n",
    "print(f'Original total quantity: {pois.quantity.sum()}')\n",
    "print(f'total quantity after groupby: {(summary_f.total_quantity.sum())/(len(resolutions))}')"
   ]
  },
  {
   "cell_type": "code",
   "execution_count": 8,
   "id": "508edcea-f493-4281-8718-ea5615206e19",
   "metadata": {
    "tags": []
   },
   "outputs": [
    {
     "name": "stdout",
     "output_type": "stream",
     "text": [
      "points_diff: 0.0\n",
      "quantity_diff: 0.0\n"
     ]
    }
   ],
   "source": [
    "# CHECKING IF POINTS BY JORNADAS IS THE SAME AS TOTAL POINTS\n",
    "\n",
    "jornadas_points_columns = []\n",
    "for jornada in jornadas_list:\n",
    "    column_name = f'{jornada}_points'\n",
    "    jornadas_points_columns.append(column_name)\n",
    "    \n",
    "prueba = summary_f.copy()\n",
    "prueba['jornadas_points_checker'] = prueba[jornadas_points_columns].sum(axis=1)\n",
    "prueba['diff'] = prueba['total_points'] - prueba['jornadas_points_checker']\n",
    "\n",
    "resultado = prueba['diff'].sum()\n",
    "print(f'points_diff: {resultado}')\n",
    "\n",
    "# CHECKING IF QUANTITY BY JORNADAS IS THE SAME AS TOTAL QUANTITY\n",
    "\n",
    "jornadas_quantity_columns = []\n",
    "for jornada in jornadas_list:\n",
    "    column_name = f'{jornada}_quantity'\n",
    "    jornadas_quantity_columns.append(column_name)\n",
    "    \n",
    "prueba = summary_f.copy()\n",
    "prueba['jornadas_quantity_checker'] = prueba[jornadas_quantity_columns].sum(axis=1)\n",
    "prueba['diff'] = prueba['total_quantity'] - prueba['jornadas_quantity_checker']\n",
    "\n",
    "resultado = prueba['diff'].sum()\n",
    "print(f'quantity_diff: {resultado}')"
   ]
  },
  {
   "cell_type": "code",
   "execution_count": 9,
   "id": "6d494f73-a5c4-4d16-8c7d-9d94043d3350",
   "metadata": {
    "tags": []
   },
   "outputs": [],
   "source": [
    "#fig,ax = plt.subplots(figsize=(20,20))\n",
    "\n",
    "#summary_f.plot('total_points', cmap='Reds',ax=ax,zorder=0)\n",
    "#aoi.plot(ax=ax, zorder=1, facecolor=\"none\", edgecolor='black', lw=0.7)\n",
    "#pois.plot(ax=ax, zorder=2)"
   ]
  },
  {
   "cell_type": "code",
   "execution_count": 10,
   "id": "e7750193-1bca-4ca8-9748-4e7c1e0e487c",
   "metadata": {
    "tags": []
   },
   "outputs": [
    {
     "data": {
      "text/plain": [
       "Index(['hex_id', 'geometry', 'plastico', 'plastico_quantity', 'tabaco',\n",
       "       'tabaco_quantity', 'unicel/plastico', 'unicel/plastico_quantity',\n",
       "       'metal', 'metal_quantity', 'vidrio', 'vidrio_quantity', 'llantas',\n",
       "       'llantas_quantity', 'tela', 'tela_quantity', 'madera',\n",
       "       'madera_quantity', 'escombros', 'escombros_quantity', 'papel',\n",
       "       'papel_quantity', 'carton', 'carton_quantity', 'otros',\n",
       "       'otros_quantity', 'unicel', 'unicel_quantity', 'electronica',\n",
       "       'electronica_quantity', 'organico', 'organico_quantity',\n",
       "       'vidrio/ceramica', 'vidrio/ceramica_quantity', 'EPI', 'EPI_quantity',\n",
       "       'salud e higiene', 'salud e higiene_quantity', 'plastico/tela',\n",
       "       'plastico/tela_quantity', 'pesca', 'pesca_quantity', 'baterias',\n",
       "       'baterias_quantity', 'goma', 'goma_quantity', 'cenizas',\n",
       "       'cenizas_quantity', '221029_points', '221029_quantity', '220924_points',\n",
       "       '220924_quantity', '220705_points', '220705_quantity', '220822_points',\n",
       "       '220822_quantity', '220827_points', '220827_quantity', '220823_points',\n",
       "       '220823_quantity', '220824_points', '220824_quantity', '220829_points',\n",
       "       '220829_quantity', '220818_points', '220818_quantity', '221130_points',\n",
       "       '221130_quantity', '221201_points', '221201_quantity', '230415_points',\n",
       "       '230415_quantity', '230527_points', '230527_quantity', '230713_points',\n",
       "       '230713_quantity', '230819_points', '230819_quantity', '230817_points',\n",
       "       '230817_quantity', '230109_points', '230109_quantity', '230203_points',\n",
       "       '230203_quantity', '230311_points', '230311_quantity', '230530_points',\n",
       "       '230530_quantity', '230419_points', '230419_quantity', 'res',\n",
       "       'jornadas_count', 'total_points', 'most_common_point', 'total_quantity',\n",
       "       'most_common_quantity'],\n",
       "      dtype='object')"
      ]
     },
     "execution_count": 10,
     "metadata": {},
     "output_type": "execute_result"
    }
   ],
   "source": [
    "summary_f.columns"
   ]
  },
  {
   "cell_type": "code",
   "execution_count": 11,
   "id": "a169c005-ee1b-45cd-a220-70c15885c37f",
   "metadata": {
    "tags": []
   },
   "outputs": [
    {
     "data": {
      "text/html": [
       "<div>\n",
       "<style scoped>\n",
       "    .dataframe tbody tr th:only-of-type {\n",
       "        vertical-align: middle;\n",
       "    }\n",
       "\n",
       "    .dataframe tbody tr th {\n",
       "        vertical-align: top;\n",
       "    }\n",
       "\n",
       "    .dataframe thead th {\n",
       "        text-align: right;\n",
       "    }\n",
       "</style>\n",
       "<table border=\"1\" class=\"dataframe\">\n",
       "  <thead>\n",
       "    <tr style=\"text-align: right;\">\n",
       "      <th></th>\n",
       "      <th>hex_id</th>\n",
       "      <th>res</th>\n",
       "      <th>plastico</th>\n",
       "      <th>plastico_quantity</th>\n",
       "      <th>tabaco</th>\n",
       "      <th>tabaco_quantity</th>\n",
       "      <th>unicel/plastico</th>\n",
       "      <th>unicel/plastico_quantity</th>\n",
       "      <th>metal</th>\n",
       "      <th>metal_quantity</th>\n",
       "      <th>...</th>\n",
       "      <th>230530_points</th>\n",
       "      <th>230530_quantity</th>\n",
       "      <th>230419_points</th>\n",
       "      <th>230419_quantity</th>\n",
       "      <th>jornadas_count</th>\n",
       "      <th>total_points</th>\n",
       "      <th>most_common_point</th>\n",
       "      <th>total_quantity</th>\n",
       "      <th>most_common_quantity</th>\n",
       "      <th>geometry</th>\n",
       "    </tr>\n",
       "  </thead>\n",
       "  <tbody>\n",
       "    <tr>\n",
       "      <th>683</th>\n",
       "      <td>8a48a20296a7fff</td>\n",
       "      <td>10</td>\n",
       "      <td>754.0</td>\n",
       "      <td>836.0</td>\n",
       "      <td>14.0</td>\n",
       "      <td>22.0</td>\n",
       "      <td>226.0</td>\n",
       "      <td>244.0</td>\n",
       "      <td>84.0</td>\n",
       "      <td>184.0</td>\n",
       "      <td>...</td>\n",
       "      <td>0.0</td>\n",
       "      <td>0.0</td>\n",
       "      <td>0.0</td>\n",
       "      <td>0.0</td>\n",
       "      <td>5.0</td>\n",
       "      <td>1583.0</td>\n",
       "      <td>plastico</td>\n",
       "      <td>1942.0</td>\n",
       "      <td>plastico_quantity</td>\n",
       "      <td>POLYGON ((-100.30269 25.63956, -100.30201 25.6...</td>\n",
       "    </tr>\n",
       "  </tbody>\n",
       "</table>\n",
       "<p>1 rows × 96 columns</p>\n",
       "</div>"
      ],
      "text/plain": [
       "              hex_id  res  plastico  plastico_quantity  tabaco  \\\n",
       "683  8a48a20296a7fff   10     754.0              836.0    14.0   \n",
       "\n",
       "     tabaco_quantity  unicel/plastico  unicel/plastico_quantity  metal  \\\n",
       "683             22.0            226.0                     244.0   84.0   \n",
       "\n",
       "     metal_quantity  ...  230530_points  230530_quantity  230419_points  \\\n",
       "683           184.0  ...            0.0              0.0            0.0   \n",
       "\n",
       "     230419_quantity  jornadas_count  total_points  most_common_point  \\\n",
       "683              0.0             5.0        1583.0           plastico   \n",
       "\n",
       "     total_quantity  most_common_quantity  \\\n",
       "683          1942.0     plastico_quantity   \n",
       "\n",
       "                                              geometry  \n",
       "683  POLYGON ((-100.30269 25.63956, -100.30201 25.6...  \n",
       "\n",
       "[1 rows x 96 columns]"
      ]
     },
     "execution_count": 11,
     "metadata": {},
     "output_type": "execute_result"
    }
   ],
   "source": [
    "summary_f = summary_f [['hex_id', 'res', 'plastico', 'plastico_quantity', 'tabaco',\n",
    "       'tabaco_quantity', 'unicel/plastico', 'unicel/plastico_quantity',\n",
    "       'metal', 'metal_quantity', 'vidrio', 'vidrio_quantity', 'llantas',\n",
    "       'llantas_quantity', 'tela', 'tela_quantity', 'madera',\n",
    "       'madera_quantity', 'escombros', 'escombros_quantity', 'papel',\n",
    "       'papel_quantity', 'carton', 'carton_quantity', 'otros',\n",
    "       'otros_quantity', 'unicel', 'unicel_quantity', 'electronica',\n",
    "       'electronica_quantity', 'organico', 'organico_quantity',\n",
    "       'vidrio/ceramica', 'vidrio/ceramica_quantity', 'EPI', 'EPI_quantity',\n",
    "       'salud e higiene', 'salud e higiene_quantity', 'plastico/tela',\n",
    "       'plastico/tela_quantity', 'pesca', 'pesca_quantity', 'baterias',\n",
    "       'baterias_quantity', 'goma', 'goma_quantity', 'cenizas',\n",
    "       'cenizas_quantity', '221029_points', '221029_quantity', '220924_points',\n",
    "       '220924_quantity', '220705_points', '220705_quantity', '220822_points',\n",
    "       '220822_quantity', '220827_points', '220827_quantity', '220823_points',\n",
    "       '220823_quantity', '220824_points', '220824_quantity', '220829_points',\n",
    "       '220829_quantity', '220818_points', '220818_quantity', '221130_points',\n",
    "       '221130_quantity', '221201_points', '221201_quantity', '230415_points',\n",
    "       '230415_quantity', '230527_points', '230527_quantity', '230713_points',\n",
    "       '230713_quantity', '230819_points', '230819_quantity', '230817_points',\n",
    "       '230817_quantity', '230109_points', '230109_quantity', '230203_points',\n",
    "       '230203_quantity', '230311_points', '230311_quantity', '230530_points',\n",
    "       '230530_quantity', '230419_points', '230419_quantity',\n",
    "       'jornadas_count', 'total_points', 'most_common_point', 'total_quantity',\n",
    "       'most_common_quantity','geometry']]\n",
    "\n",
    "summary_f.head(1)"
   ]
  },
  {
   "cell_type": "code",
   "execution_count": 12,
   "id": "91621e5a-dbc3-4bf7-8af4-a6fcb05ed5d9",
   "metadata": {
    "tags": []
   },
   "outputs": [
    {
     "data": {
      "text/html": [
       "<div>\n",
       "<style scoped>\n",
       "    .dataframe tbody tr th:only-of-type {\n",
       "        vertical-align: middle;\n",
       "    }\n",
       "\n",
       "    .dataframe tbody tr th {\n",
       "        vertical-align: top;\n",
       "    }\n",
       "\n",
       "    .dataframe thead th {\n",
       "        text-align: right;\n",
       "    }\n",
       "</style>\n",
       "<table border=\"1\" class=\"dataframe\">\n",
       "  <thead>\n",
       "    <tr style=\"text-align: right;\">\n",
       "      <th></th>\n",
       "      <th>hex_id</th>\n",
       "      <th>res</th>\n",
       "      <th>plastico</th>\n",
       "      <th>plastico_quantity</th>\n",
       "      <th>tabaco</th>\n",
       "      <th>tabaco_quantity</th>\n",
       "      <th>unicel/plastico</th>\n",
       "      <th>unicel/plastico_quantity</th>\n",
       "      <th>metal</th>\n",
       "      <th>metal_quantity</th>\n",
       "      <th>...</th>\n",
       "      <th>230530_points</th>\n",
       "      <th>230530_quantity</th>\n",
       "      <th>230419_points</th>\n",
       "      <th>230419_quantity</th>\n",
       "      <th>jornadas_count</th>\n",
       "      <th>total_points</th>\n",
       "      <th>most_common_point</th>\n",
       "      <th>total_quantity</th>\n",
       "      <th>most_common_quantity</th>\n",
       "      <th>geometry</th>\n",
       "    </tr>\n",
       "  </thead>\n",
       "  <tbody>\n",
       "    <tr>\n",
       "      <th>683</th>\n",
       "      <td>8a48a20296a7fff</td>\n",
       "      <td>10</td>\n",
       "      <td>754.0</td>\n",
       "      <td>836.0</td>\n",
       "      <td>14.0</td>\n",
       "      <td>22.0</td>\n",
       "      <td>226.0</td>\n",
       "      <td>244.0</td>\n",
       "      <td>84.0</td>\n",
       "      <td>184.0</td>\n",
       "      <td>...</td>\n",
       "      <td>0.0</td>\n",
       "      <td>0.0</td>\n",
       "      <td>0.0</td>\n",
       "      <td>0.0</td>\n",
       "      <td>5.0</td>\n",
       "      <td>1583.0</td>\n",
       "      <td>plastico</td>\n",
       "      <td>1942.0</td>\n",
       "      <td>plastico_quantity</td>\n",
       "      <td>POLYGON ((-100.30269 25.63956, -100.30201 25.6...</td>\n",
       "    </tr>\n",
       "  </tbody>\n",
       "</table>\n",
       "<p>1 rows × 96 columns</p>\n",
       "</div>"
      ],
      "text/plain": [
       "              hex_id  res  plastico  plastico_quantity  tabaco  \\\n",
       "683  8a48a20296a7fff   10     754.0              836.0    14.0   \n",
       "\n",
       "     tabaco_quantity  unicel/plastico  unicel/plastico_quantity  metal  \\\n",
       "683             22.0            226.0                     244.0   84.0   \n",
       "\n",
       "     metal_quantity  ...  230530_points  230530_quantity  230419_points  \\\n",
       "683           184.0  ...            0.0              0.0            0.0   \n",
       "\n",
       "     230419_quantity  jornadas_count  total_points  most_common_point  \\\n",
       "683              0.0             5.0        1583.0           plastico   \n",
       "\n",
       "     total_quantity  most_common_quantity  \\\n",
       "683          1942.0     plastico_quantity   \n",
       "\n",
       "                                              geometry  \n",
       "683  POLYGON ((-100.30269 25.63956, -100.30201 25.6...  \n",
       "\n",
       "[1 rows x 96 columns]"
      ]
     },
     "execution_count": 12,
     "metadata": {},
     "output_type": "execute_result"
    }
   ],
   "source": [
    "# Make all columns .lower()\n",
    "columns = summary_f.columns\n",
    "for column in columns:\n",
    "    summary_f.rename(columns={column:column.lower()},inplace=True)\n",
    "\n",
    "summary_f.head(1)  "
   ]
  },
  {
   "cell_type": "markdown",
   "id": "1280e992-3d6d-4b1d-a639-e987dab10b0d",
   "metadata": {
    "tags": []
   },
   "source": [
    "## Save output"
   ]
  },
  {
   "cell_type": "code",
   "execution_count": 13,
   "id": "b03a7434-2cda-43b1-a602-323eff5b4a39",
   "metadata": {},
   "outputs": [],
   "source": [
    "summary_f.to_file(f'../../data/external/temporal_fromjupyter/arroyo_vivo/residuosarroyo_hex.gpkg')"
   ]
  },
  {
   "cell_type": "code",
   "execution_count": 14,
   "id": "c8572cba-1e70-474f-aadf-a066ce8e32ad",
   "metadata": {},
   "outputs": [],
   "source": [
    "aup.gdf_to_db_slow(summary_f, 'arroyovivo_residuosjornada_hex','projects_research', if_exists='replace')"
   ]
  },
  {
   "cell_type": "markdown",
   "id": "df744fb3-1512-4f29-b31a-439070fc4529",
   "metadata": {},
   "source": [
    "## Upload other things"
   ]
  },
  {
   "cell_type": "code",
   "execution_count": 15,
   "id": "3deb7e22-abeb-428e-b438-831b0b9a45f1",
   "metadata": {
    "tags": []
   },
   "outputs": [],
   "source": [
    "#buffer_dir = f'../../data/external/temporal_todocker/arroyo_vivo/arroyo_buffer200mts_32614.gpkg'\n",
    "#buffer = gpd.read_file(buffer_dir)\n",
    "#buffer = buffer.to_crs(\"EPSG:4326\")"
   ]
  },
  {
   "cell_type": "code",
   "execution_count": 16,
   "id": "944d87ee-aa73-44a7-9081-b45d4ebe8472",
   "metadata": {
    "tags": []
   },
   "outputs": [],
   "source": [
    "#buffer = buffer[['geometry']]\n",
    "#buffer"
   ]
  },
  {
   "cell_type": "code",
   "execution_count": 17,
   "id": "f8d0fd8b-7375-4c2b-938a-b5cf52d67dd2",
   "metadata": {
    "tags": []
   },
   "outputs": [],
   "source": [
    "#buffer.plot()"
   ]
  },
  {
   "cell_type": "code",
   "execution_count": 18,
   "id": "7991dd06-42cd-4717-a305-f5223fb1c720",
   "metadata": {
    "tags": []
   },
   "outputs": [],
   "source": [
    "#aup.gdf_to_db_slow(buffer, 'arroyovivo_buffer200mts','projects_research', if_exists='replace')"
   ]
  },
  {
   "cell_type": "code",
   "execution_count": null,
   "id": "8580cc3b-e8a2-415f-bd99-279647d7a16b",
   "metadata": {},
   "outputs": [],
   "source": []
  }
 ],
 "metadata": {
  "kernelspec": {
   "display_name": "Python 3 (ipykernel)",
   "language": "python",
   "name": "python3"
  },
  "language_info": {
   "codemirror_mode": {
    "name": "ipython",
    "version": 3
   },
   "file_extension": ".py",
   "mimetype": "text/x-python",
   "name": "python",
   "nbconvert_exporter": "python",
   "pygments_lexer": "ipython3",
   "version": "3.10.5"
  }
 },
 "nbformat": 4,
 "nbformat_minor": 5
}
