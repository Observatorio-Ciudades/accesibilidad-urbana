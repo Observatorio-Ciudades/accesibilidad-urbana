{
 "cells": [
  {
   "cell_type": "markdown",
   "id": "f352e018-aa8b-4f8f-a65b-b4ea36a73764",
   "metadata": {},
   "source": [
    "# Concatenate garbage data from Arroyo Vivo"
   ]
  },
  {
   "cell_type": "markdown",
   "id": "1456d2bd-d40a-4777-b7d1-b756c8049050",
   "metadata": {},
   "source": [
    "This notebook takes as input 21 csvs from Arroyo Vivo and creates one csv deleting duplicates.\n",
    "\n",
    "Most csvs have different column names for garbage categories. The output orders data the following way:\n",
    "\n",
    "* \"itemname\" --> How the item was used (Bolsa de Plastico para comestibles, Vasos o tapas de unicel o Plastico)\n",
    "* \"tipo\" --> middle category\n",
    "* \"material\" --> Material of item (Vidrio, Plastico, Papel, Unicel etc)\n",
    "\n",
    "#Original column names:\n",
    "\n",
    "* \"itemname\" <--\"itemname\", \"T\"\n",
    "* \"tipo\" <-- \"material\"\n",
    "* \"material\" <-- \"id\", \"category\", \"Category\", \"Column1\", \"tipo\"\n",
    "\n",
    "Notes:\n",
    "* csv \"2022_2023\" underwent an external coordenate-fix-process. It's data treatment is slightly different.\n",
    "* csv \"mdt-data abril a junio 2023.csv\" and csv \"'mdt-data agosto 2023.csv\" didn't have a column for \"material\", it was created from data in \"tipo\".\n",
    "* Materials 'Colector de aguas pluviales','Comercio','Recoleccion','Recipiente de basura', 'Reciclaje', 'Canal', 'Colector','Basurero', 'Hidrología' were deleted before generating final output."
   ]
  },
  {
   "cell_type": "code",
   "execution_count": 1,
   "id": "2fa109d7-f9a0-47d0-806f-ce6de1310e4f",
   "metadata": {
    "tags": []
   },
   "outputs": [
    {
     "name": "stderr",
     "output_type": "stream",
     "text": [
      "/usr/local/python/lib/python3.10/site-packages/osmnx/utils.py:192: UserWarning: The `utils.config` function is deprecated and will be removed in a future release. Instead, use the `settings` module directly to configure a global setting's value. For example, `ox.settings.log_console=True`.\n",
      "  warnings.warn(\n"
     ]
    }
   ],
   "source": [
    "import os\n",
    "import sys\n",
    "\n",
    "import pandas as pd\n",
    "import geopandas as gpd\n",
    "import numpy as np\n",
    "\n",
    "import matplotlib.pyplot as plt\n",
    "from matplotlib import colors\n",
    "import seaborn as sns\n",
    "\n",
    "from pandas.api.types import CategoricalDtype\n",
    "\n",
    "import warnings\n",
    "warnings.simplefilter(action='ignore', category=FutureWarning)\n",
    "\n",
    "module_path = os.path.abspath(os.path.join('../../'))\n",
    "if module_path not in sys.path:\n",
    "    sys.path.append(module_path)\n",
    "    import aup"
   ]
  },
  {
   "cell_type": "code",
   "execution_count": 154,
   "id": "8670b72a-42a3-4975-848a-f5f77031f44b",
   "metadata": {
    "tags": []
   },
   "outputs": [],
   "source": [
    "res = 10\n",
    "# Referencia\n",
    "schema = 'projects_research'\n",
    "table = 'arroyovivo_residuos_point'\n",
    "query = f\"SELECT * FROM {schema}.{table}\"\n",
    "residuos_point = aup.gdf_from_query(query, geometry_col='geometry')"
   ]
  },
  {
   "cell_type": "code",
   "execution_count": 155,
   "id": "88c7fc7f-f9e0-423e-809d-0f162e2d641e",
   "metadata": {
    "tags": []
   },
   "outputs": [
    {
     "name": "stdout",
     "output_type": "stream",
     "text": [
      "(16179, 9)\n"
     ]
    },
    {
     "data": {
      "text/html": [
       "<div>\n",
       "<style scoped>\n",
       "    .dataframe tbody tr th:only-of-type {\n",
       "        vertical-align: middle;\n",
       "    }\n",
       "\n",
       "    .dataframe tbody tr th {\n",
       "        vertical-align: top;\n",
       "    }\n",
       "\n",
       "    .dataframe thead th {\n",
       "        text-align: right;\n",
       "    }\n",
       "</style>\n",
       "<table border=\"1\" class=\"dataframe\">\n",
       "  <thead>\n",
       "    <tr style=\"text-align: right;\">\n",
       "      <th></th>\n",
       "      <th>itemname</th>\n",
       "      <th>tipo</th>\n",
       "      <th>material</th>\n",
       "      <th>quantity</th>\n",
       "      <th>latitude</th>\n",
       "      <th>longitude</th>\n",
       "      <th>altitude</th>\n",
       "      <th>data_origin</th>\n",
       "      <th>geometry</th>\n",
       "    </tr>\n",
       "  </thead>\n",
       "  <tbody>\n",
       "    <tr>\n",
       "      <th>0</th>\n",
       "      <td>Latas de aluminio o estaño</td>\n",
       "      <td>None</td>\n",
       "      <td>Aluminio</td>\n",
       "      <td>11</td>\n",
       "      <td>25.644154</td>\n",
       "      <td>-100.310618</td>\n",
       "      <td>627.104902</td>\n",
       "      <td>9 de enero.csv</td>\n",
       "      <td>MULTIPOINT (-100.31062 25.64415)</td>\n",
       "    </tr>\n",
       "  </tbody>\n",
       "</table>\n",
       "</div>"
      ],
      "text/plain": [
       "                     itemname  tipo  material  quantity   latitude  \\\n",
       "0  Latas de aluminio o estaño  None  Aluminio        11  25.644154   \n",
       "\n",
       "    longitude    altitude     data_origin                          geometry  \n",
       "0 -100.310618  627.104902  9 de enero.csv  MULTIPOINT (-100.31062 25.64415)  "
      ]
     },
     "execution_count": 155,
     "metadata": {},
     "output_type": "execute_result"
    }
   ],
   "source": [
    "# Show\n",
    "print(residuos_point.shape)\n",
    "residuos_point.head(1)"
   ]
  },
  {
   "cell_type": "code",
   "execution_count": 220,
   "id": "5e9ce850-bb4a-467d-bb1b-4fe8165d7a95",
   "metadata": {
    "tags": []
   },
   "outputs": [
    {
     "data": {
      "text/plain": [
       "array(['Tela'], dtype=object)"
      ]
     },
     "execution_count": 220,
     "metadata": {},
     "output_type": "execute_result"
    }
   ],
   "source": [
    "calculo = residuos_point.loc[residuos_point.itemname == 'Ropa o zapatos']\n",
    "calculo.material.unique()"
   ]
  },
  {
   "cell_type": "code",
   "execution_count": 177,
   "id": "a640cca2-1806-4032-82f6-27c3fac9fa2e",
   "metadata": {
    "tags": []
   },
   "outputs": [
    {
     "data": {
      "text/plain": [
       "(222, 9)"
      ]
     },
     "execution_count": 177,
     "metadata": {},
     "output_type": "execute_result"
    }
   ],
   "source": [
    "ejemplo = calculo.loc[calculo.material=='Vidrio']\n",
    "ejemplo.shape"
   ]
  },
  {
   "cell_type": "markdown",
   "id": "4130b969-956b-40b2-9d1f-240f6b9322c1",
   "metadata": {
    "jp-MarkdownHeadingCollapsed": true,
    "tags": []
   },
   "source": [
    "## Import and treatment of base data"
   ]
  },
  {
   "cell_type": "code",
   "execution_count": 5,
   "id": "76ee55a3-668a-44fc-89fd-726db27356dc",
   "metadata": {
    "tags": []
   },
   "outputs": [],
   "source": [
    "tmp_dir = f'../../data/external/temporal_todocker/arroyo_vivo/input_csv_2/'"
   ]
  },
  {
   "cell_type": "markdown",
   "id": "e7481b2b-89a4-410b-a6c2-ab65877cadef",
   "metadata": {
    "jp-MarkdownHeadingCollapsed": true,
    "tags": []
   },
   "source": [
    "### 29_0ctubre_mdt-data.csv"
   ]
  },
  {
   "cell_type": "code",
   "execution_count": 12,
   "id": "cb221946-29e4-45b1-9ad0-3835bc4e93c8",
   "metadata": {
    "tags": []
   },
   "outputs": [
    {
     "name": "stderr",
     "output_type": "stream",
     "text": [
      "/tmp/ipykernel_20994/480549487.py:1: ParserWarning: Length of header or names does not match length of data. This leads to a loss of data with index_col=False.\n",
      "  doc_29_0ctubre_mdt_data = pd.read_csv(tmp_dir+'29_0ctubre_mdt-data.csv',index_col=False)\n"
     ]
    }
   ],
   "source": [
    "doc_29_0ctubre_mdt_data = pd.read_csv(tmp_dir+'29_0ctubre_mdt-data.csv',index_col=False)"
   ]
  },
  {
   "cell_type": "code",
   "execution_count": 17,
   "id": "01860fe2-d057-4dcf-93e6-b921c5380ed7",
   "metadata": {
    "tags": []
   },
   "outputs": [
    {
     "data": {
      "text/plain": [
       "Index(['master_item_id', 'item_id', 'itemname', 'id', 'log_index', 'quantity',\n",
       "       'latitude', 'longitude', 'altitude', 'description', 'radius',\n",
       "       'manual_upload', 'project_id', 'project_name', 'timestamp', 'location'],\n",
       "      dtype='object')"
      ]
     },
     "execution_count": 17,
     "metadata": {},
     "output_type": "execute_result"
    }
   ],
   "source": [
    "doc_29_0ctubre_mdt_data.columns"
   ]
  },
  {
   "cell_type": "markdown",
   "id": "8f6f9e64-4f51-40aa-b292-0843065f0696",
   "metadata": {
    "jp-MarkdownHeadingCollapsed": true,
    "tags": []
   },
   "source": [
    "### mdt-data (1).csv"
   ]
  },
  {
   "cell_type": "code",
   "execution_count": 21,
   "id": "faf29732-7e1c-436e-a24f-babcdc2d47e3",
   "metadata": {
    "tags": []
   },
   "outputs": [
    {
     "name": "stderr",
     "output_type": "stream",
     "text": [
      "/tmp/ipykernel_20994/2574467936.py:1: ParserWarning: Length of header or names does not match length of data. This leads to a loss of data with index_col=False.\n",
      "  doc_mdt_data_1 = pd.read_csv(tmp_dir+'mdt-data (1).csv',index_col=False)\n"
     ]
    }
   ],
   "source": [
    "doc_mdt_data_1 = pd.read_csv(tmp_dir+'mdt-data (1).csv',index_col=False)"
   ]
  },
  {
   "cell_type": "code",
   "execution_count": 23,
   "id": "92a603f6-251a-44ee-a9e9-326ae0fd4506",
   "metadata": {
    "tags": []
   },
   "outputs": [
    {
     "data": {
      "text/plain": [
       "Index(['master_item_id', 'item_id', 'itemname', 'id', 'log_index', 'quantity',\n",
       "       'latitude', 'longitude', 'altitude', 'description', 'radius',\n",
       "       'manual_upload', 'project_id', 'project_name', 'timestamp', 'location'],\n",
       "      dtype='object')"
      ]
     },
     "execution_count": 23,
     "metadata": {},
     "output_type": "execute_result"
    }
   ],
   "source": [
    "doc_mdt_data_1.columns"
   ]
  },
  {
   "cell_type": "markdown",
   "id": "1afdcac3-0444-4aa0-a46c-156502b2dec7",
   "metadata": {
    "jp-MarkdownHeadingCollapsed": true,
    "tags": []
   },
   "source": [
    "### mdt-data 5julio-24sep.csv"
   ]
  },
  {
   "cell_type": "code",
   "execution_count": 24,
   "id": "3ad534d1-7d3c-4f75-9037-ebb9618568ae",
   "metadata": {
    "tags": []
   },
   "outputs": [
    {
     "name": "stderr",
     "output_type": "stream",
     "text": [
      "/tmp/ipykernel_20994/225545345.py:1: ParserWarning: Length of header or names does not match length of data. This leads to a loss of data with index_col=False.\n",
      "  doc_mdt_data_5julio_24sep = pd.read_csv(tmp_dir+'mdt-data 5julio-24sep.csv',index_col=False)\n"
     ]
    }
   ],
   "source": [
    "doc_mdt_data_5julio_24sep = pd.read_csv(tmp_dir+'mdt-data 5julio-24sep.csv',index_col=False)"
   ]
  },
  {
   "cell_type": "code",
   "execution_count": 26,
   "id": "f0c5ba95-52e9-4ab5-9044-d2f4c59a5139",
   "metadata": {
    "tags": []
   },
   "outputs": [
    {
     "data": {
      "text/plain": [
       "Index(['master_item_id', 'item_id', 'itemname', 'id', 'log_index', 'quantity',\n",
       "       'latitude', 'longitude', 'altitude', 'description', 'radius',\n",
       "       'manual_upload', 'project_id', 'project_name', 'timestamp', 'location'],\n",
       "      dtype='object')"
      ]
     },
     "execution_count": 26,
     "metadata": {},
     "output_type": "execute_result"
    }
   ],
   "source": [
    "doc_mdt_data_5julio_24sep.columns"
   ]
  },
  {
   "cell_type": "markdown",
   "id": "cd1c666f-266b-4532-bea1-8c407983e5ff",
   "metadata": {
    "jp-MarkdownHeadingCollapsed": true,
    "tags": []
   },
   "source": [
    "### mdt-data 22ago-24sep.csv"
   ]
  },
  {
   "cell_type": "code",
   "execution_count": 28,
   "id": "d2a2b080-6245-44fa-b6f8-85873a1781c5",
   "metadata": {
    "tags": []
   },
   "outputs": [
    {
     "name": "stderr",
     "output_type": "stream",
     "text": [
      "/tmp/ipykernel_20994/893118776.py:1: ParserWarning: Length of header or names does not match length of data. This leads to a loss of data with index_col=False.\n",
      "  doc_mdt_data_22ago_24sep = pd.read_csv(tmp_dir+'mdt-data 22ago-24sep.csv',index_col=False)\n"
     ]
    }
   ],
   "source": [
    "doc_mdt_data_22ago_24sep = pd.read_csv(tmp_dir+'mdt-data 22ago-24sep.csv',index_col=False)"
   ]
  },
  {
   "cell_type": "code",
   "execution_count": 30,
   "id": "39541036-8ca2-4aad-b9d7-b0814bfbf662",
   "metadata": {
    "tags": []
   },
   "outputs": [
    {
     "data": {
      "text/plain": [
       "Index(['master_item_id', 'item_id', 'itemname', 'id', 'log_index', 'quantity',\n",
       "       'latitude', 'longitude', 'altitude', 'description', 'radius',\n",
       "       'manual_upload', 'project_id', 'project_name', 'timestamp', 'location'],\n",
       "      dtype='object')"
      ]
     },
     "execution_count": 30,
     "metadata": {},
     "output_type": "execute_result"
    }
   ],
   "source": [
    "doc_mdt_data_22ago_24sep.columns"
   ]
  },
  {
   "cell_type": "markdown",
   "id": "72e0ba8a-11da-44d7-998f-86e935713ac0",
   "metadata": {
    "jp-MarkdownHeadingCollapsed": true,
    "tags": []
   },
   "source": [
    "### mdt-data abril a junio 2023.csv"
   ]
  },
  {
   "cell_type": "code",
   "execution_count": 31,
   "id": "ecac7088-b3dc-4273-b5c1-1be6b276969d",
   "metadata": {
    "tags": []
   },
   "outputs": [],
   "source": [
    "doc_mdt_data_abril_junio_2023 = pd.read_csv(tmp_dir+'mdt-data abril a junio 2023.csv',index_col=False)"
   ]
  },
  {
   "cell_type": "code",
   "execution_count": 33,
   "id": "c95b9f30-acda-4927-9d4a-b76e76e7d431",
   "metadata": {
    "tags": []
   },
   "outputs": [
    {
     "data": {
      "text/plain": [
       "Index(['list_name', 'itemname', 'material', 'quantity', 'description',\n",
       "       'latitude', 'longitude', 'altitude', 'radius', 'location', 'timestamp',\n",
       "       'dt', 'project_name', 'username', 'manual_upload', 'event_name', 'id',\n",
       "       'log_index'],\n",
       "      dtype='object')"
      ]
     },
     "execution_count": 33,
     "metadata": {},
     "output_type": "execute_result"
    }
   ],
   "source": [
    "doc_mdt_data_abril_junio_2023.columns"
   ]
  },
  {
   "cell_type": "markdown",
   "id": "db30c511-5349-4700-9410-7595918cac37",
   "metadata": {
    "jp-MarkdownHeadingCollapsed": true,
    "tags": []
   },
   "source": [
    "### mdt-data agosto 2023.csv"
   ]
  },
  {
   "cell_type": "code",
   "execution_count": 52,
   "id": "9e62dec6-f5d9-41e0-9836-f60efe1ab4f9",
   "metadata": {
    "tags": []
   },
   "outputs": [],
   "source": [
    "doc_mdt_data_agosto_2023 = pd.read_csv(tmp_dir+'mdt-data agosto 2023.csv',index_col=False)"
   ]
  },
  {
   "cell_type": "code",
   "execution_count": 54,
   "id": "7aa5fed1-3dbc-43fc-a87c-dd334dd7df18",
   "metadata": {
    "tags": []
   },
   "outputs": [
    {
     "data": {
      "text/plain": [
       "Index(['list_name', 'itemname', 'material', 'quantity', 'description',\n",
       "       'latitude', 'longitude', 'altitude', 'radius', 'location', 'timestamp',\n",
       "       'dt', 'project_name', 'username', 'manual_upload', 'event_name', 'id',\n",
       "       'log_index'],\n",
       "      dtype='object')"
      ]
     },
     "execution_count": 54,
     "metadata": {},
     "output_type": "execute_result"
    }
   ],
   "source": [
    "doc_mdt_data_agosto_2023.columns"
   ]
  },
  {
   "cell_type": "markdown",
   "id": "70382864-d312-41f6-bc43-6970610cc69c",
   "metadata": {
    "jp-MarkdownHeadingCollapsed": true,
    "tags": []
   },
   "source": [
    "### mdt-data_27agosto.csv"
   ]
  },
  {
   "cell_type": "code",
   "execution_count": 61,
   "id": "d05bb09a-ded8-4327-9e64-adc2946675a2",
   "metadata": {
    "tags": []
   },
   "outputs": [
    {
     "name": "stderr",
     "output_type": "stream",
     "text": [
      "/tmp/ipykernel_20994/4288113453.py:1: ParserWarning: Length of header or names does not match length of data. This leads to a loss of data with index_col=False.\n",
      "  doc_mdt_data_27agosto = pd.read_csv(tmp_dir+'mdt-data_27agosto.csv',index_col=False)\n"
     ]
    }
   ],
   "source": [
    "doc_mdt_data_27agosto = pd.read_csv(tmp_dir+'mdt-data_27agosto.csv',index_col=False)"
   ]
  },
  {
   "cell_type": "code",
   "execution_count": 63,
   "id": "392211df-b1e2-4e1a-9b4a-a502520efad3",
   "metadata": {
    "tags": []
   },
   "outputs": [
    {
     "data": {
      "text/plain": [
       "Index(['master_item_id', 'item_id', 'itemname', 'id', 'log_index', 'quantity',\n",
       "       'latitude', 'longitude', 'altitude', 'description', 'radius',\n",
       "       'manual_upload', 'project_id', 'project_name', 'timestamp', 'location'],\n",
       "      dtype='object')"
      ]
     },
     "execution_count": 63,
     "metadata": {},
     "output_type": "execute_result"
    }
   ],
   "source": [
    "doc_mdt_data_27agosto.columns"
   ]
  },
  {
   "cell_type": "markdown",
   "id": "7ce488d7-c853-4f52-b96e-7e769543ea73",
   "metadata": {
    "jp-MarkdownHeadingCollapsed": true,
    "tags": []
   },
   "source": [
    "### mdt-data_octubre a marzo 2023.csv"
   ]
  },
  {
   "cell_type": "code",
   "execution_count": 64,
   "id": "3c477102-3053-4405-9106-3e0aebd1941b",
   "metadata": {
    "tags": []
   },
   "outputs": [],
   "source": [
    "doc_mdt_data_octubre_marzo_2023 = pd.read_csv(tmp_dir+'mdt-data_octubre a marzo 2023.csv',index_col=False)"
   ]
  },
  {
   "cell_type": "code",
   "execution_count": 65,
   "id": "7e4d63c2-1287-40b0-b37f-1a0e9becca6d",
   "metadata": {
    "tags": []
   },
   "outputs": [
    {
     "data": {
      "text/plain": [
       "Index(['list_name', 'itemname', 'material', 'quantity', 'description',\n",
       "       'latitude', 'longitude', 'altitude', 'radius', 'location', 'timestamp',\n",
       "       'dt', 'project_name', 'username', 'manual_upload', 'event_name', 'id',\n",
       "       'log_index'],\n",
       "      dtype='object')"
      ]
     },
     "execution_count": 65,
     "metadata": {},
     "output_type": "execute_result"
    }
   ],
   "source": [
    "doc_mdt_data_octubre_marzo_2023.columns"
   ]
  },
  {
   "cell_type": "markdown",
   "id": "f220ff2e-e27d-4ca7-8eb0-87a2f3341a23",
   "metadata": {
    "jp-MarkdownHeadingCollapsed": true,
    "tags": []
   },
   "source": [
    "### mdt-data_Todos los tramos_30nov.csv"
   ]
  },
  {
   "cell_type": "code",
   "execution_count": 68,
   "id": "c0e2c5bd-f8b6-46d6-8f44-b20445250e66",
   "metadata": {
    "tags": []
   },
   "outputs": [
    {
     "name": "stderr",
     "output_type": "stream",
     "text": [
      "/tmp/ipykernel_20994/3909461749.py:1: ParserWarning: Length of header or names does not match length of data. This leads to a loss of data with index_col=False.\n",
      "  doc_mdt_data_todos_los_tramos_30nov = pd.read_csv(tmp_dir+'mdt-data_Todos los tramos_30nov.csv',index_col=False)\n"
     ]
    }
   ],
   "source": [
    "doc_mdt_data_todos_los_tramos_30nov = pd.read_csv(tmp_dir+'mdt-data_Todos los tramos_30nov.csv',index_col=False)"
   ]
  },
  {
   "cell_type": "code",
   "execution_count": 72,
   "id": "34e1fff6-5717-48d8-b190-11a13764d7bb",
   "metadata": {
    "tags": []
   },
   "outputs": [
    {
     "data": {
      "text/plain": [
       "Index(['master_item_id', 'item_id', 'itemname', 'id', 'log_index', 'quantity',\n",
       "       'latitude', 'longitude', 'altitude', 'description', 'radius',\n",
       "       'manual_upload', 'project_id', 'project_name', 'timestamp', 'location'],\n",
       "      dtype='object')"
      ]
     },
     "execution_count": 72,
     "metadata": {},
     "output_type": "execute_result"
    }
   ],
   "source": [
    "doc_mdt_data_todos_los_tramos_30nov.columns"
   ]
  },
  {
   "cell_type": "markdown",
   "id": "632e3a5d-cc02-4902-bf92-db8984d492a8",
   "metadata": {},
   "source": [
    "## Concatenate"
   ]
  },
  {
   "cell_type": "markdown",
   "id": "181d58cc-c7fb-43a2-9a5c-796622ffcf53",
   "metadata": {
    "tags": []
   },
   "source": [
    "### CSVs type 1 - Containing master_item_id"
   ]
  },
  {
   "cell_type": "code",
   "execution_count": 134,
   "id": "0e50a314-5de9-4a95-a43b-e27dbffef126",
   "metadata": {
    "tags": []
   },
   "outputs": [
    {
     "name": "stderr",
     "output_type": "stream",
     "text": [
      "/tmp/ipykernel_20994/1124814518.py:11: ParserWarning: Length of header or names does not match length of data. This leads to a loss of data with index_col=False.\n",
      "  tmp_gdf = pd.read_csv(tmp_dir+csv,\n",
      "/tmp/ipykernel_20994/1124814518.py:11: ParserWarning: Length of header or names does not match length of data. This leads to a loss of data with index_col=False.\n",
      "  tmp_gdf = pd.read_csv(tmp_dir+csv,\n",
      "/tmp/ipykernel_20994/1124814518.py:11: ParserWarning: Length of header or names does not match length of data. This leads to a loss of data with index_col=False.\n",
      "  tmp_gdf = pd.read_csv(tmp_dir+csv,\n",
      "/tmp/ipykernel_20994/1124814518.py:11: ParserWarning: Length of header or names does not match length of data. This leads to a loss of data with index_col=False.\n",
      "  tmp_gdf = pd.read_csv(tmp_dir+csv,\n",
      "/tmp/ipykernel_20994/1124814518.py:11: ParserWarning: Length of header or names does not match length of data. This leads to a loss of data with index_col=False.\n",
      "  tmp_gdf = pd.read_csv(tmp_dir+csv,\n",
      "/tmp/ipykernel_20994/1124814518.py:11: ParserWarning: Length of header or names does not match length of data. This leads to a loss of data with index_col=False.\n",
      "  tmp_gdf = pd.read_csv(tmp_dir+csv,\n"
     ]
    },
    {
     "name": "stdout",
     "output_type": "stream",
     "text": [
      "(15043, 17)\n"
     ]
    },
    {
     "data": {
      "text/html": [
       "<div>\n",
       "<style scoped>\n",
       "    .dataframe tbody tr th:only-of-type {\n",
       "        vertical-align: middle;\n",
       "    }\n",
       "\n",
       "    .dataframe tbody tr th {\n",
       "        vertical-align: top;\n",
       "    }\n",
       "\n",
       "    .dataframe thead th {\n",
       "        text-align: right;\n",
       "    }\n",
       "</style>\n",
       "<table border=\"1\" class=\"dataframe\">\n",
       "  <thead>\n",
       "    <tr style=\"text-align: right;\">\n",
       "      <th></th>\n",
       "      <th>master_item_id</th>\n",
       "      <th>item_id</th>\n",
       "      <th>itemname</th>\n",
       "      <th>id</th>\n",
       "      <th>log_index</th>\n",
       "      <th>quantity</th>\n",
       "      <th>latitude</th>\n",
       "      <th>longitude</th>\n",
       "      <th>altitude</th>\n",
       "      <th>description</th>\n",
       "      <th>radius</th>\n",
       "      <th>manual_upload</th>\n",
       "      <th>project_id</th>\n",
       "      <th>project_name</th>\n",
       "      <th>timestamp</th>\n",
       "      <th>location</th>\n",
       "      <th>datetime</th>\n",
       "    </tr>\n",
       "  </thead>\n",
       "  <tbody>\n",
       "    <tr>\n",
       "      <th>0</th>\n",
       "      <td>1</td>\n",
       "      <td>3730</td>\n",
       "      <td>Bolsa de plástico para comestibles</td>\n",
       "      <td>2251010</td>\n",
       "      <td>56719</td>\n",
       "      <td>5</td>\n",
       "      <td>25.641495</td>\n",
       "      <td>-100.293776</td>\n",
       "      <td>530.400024</td>\n",
       "      <td>NaN</td>\n",
       "      <td>4.819</td>\n",
       "      <td>0</td>\n",
       "      <td>223.0</td>\n",
       "      <td>Default</td>\n",
       "      <td>20221029140531</td>\n",
       "      <td>Monterrey</td>\n",
       "      <td>2022-10-29 14:05:31</td>\n",
       "    </tr>\n",
       "  </tbody>\n",
       "</table>\n",
       "</div>"
      ],
      "text/plain": [
       "   master_item_id  item_id                            itemname       id  \\\n",
       "0               1     3730  Bolsa de plástico para comestibles  2251010   \n",
       "\n",
       "   log_index  quantity   latitude   longitude    altitude description  radius  \\\n",
       "0      56719         5  25.641495 -100.293776  530.400024         NaN   4.819   \n",
       "\n",
       "   manual_upload  project_id project_name       timestamp   location  \\\n",
       "0              0       223.0      Default  20221029140531  Monterrey   \n",
       "\n",
       "             datetime  \n",
       "0 2022-10-29 14:05:31  "
      ]
     },
     "execution_count": 134,
     "metadata": {},
     "output_type": "execute_result"
    }
   ],
   "source": [
    "# csvs type 1 contain 'master_item_id' as a starting column.\n",
    "# All columns: ['master_item_id', 'item_id', 'itemname', 'id', 'log_index', 'quantity',\n",
    "#       'latitude', 'longitude', 'altitude', 'description', 'radius',\n",
    "#       'manual_upload', 'project_id', 'project_name', 'timestamp', 'location']\n",
    "\n",
    "csvs_type1 = ['29_0ctubre_mdt-data.csv','mdt-data (1).csv','mdt-data 5julio-24sep.csv','mdt-data 22ago-24sep.csv','mdt-data_27agosto.csv','mdt-data_Todos los tramos_30nov.csv']\n",
    "\n",
    "# Concatenate csvs\n",
    "type_1 = pd.DataFrame()\n",
    "for csv in csvs_type1:\n",
    "    tmp_gdf = pd.read_csv(tmp_dir+csv,\n",
    "                          index_col=False)\n",
    "    type_1 = pd.concat([type_1,tmp_gdf])\n",
    "    \n",
    "# Set column with date time format\n",
    "type_1['datetime'] = pd.to_datetime(type_1['timestamp'], format='%Y%m%d%H%M%S')\n",
    "\n",
    "print(type_1.shape)\n",
    "type_1.head(1)"
   ]
  },
  {
   "cell_type": "code",
   "execution_count": 209,
   "id": "bbcb461b-91cb-4e09-9b64-8f1ed362bae0",
   "metadata": {
    "tags": []
   },
   "outputs": [
    {
     "name": "stdout",
     "output_type": "stream",
     "text": [
      "(9016, 19)\n"
     ]
    },
    {
     "data": {
      "text/html": [
       "<div>\n",
       "<style scoped>\n",
       "    .dataframe tbody tr th:only-of-type {\n",
       "        vertical-align: middle;\n",
       "    }\n",
       "\n",
       "    .dataframe tbody tr th {\n",
       "        vertical-align: top;\n",
       "    }\n",
       "\n",
       "    .dataframe thead th {\n",
       "        text-align: right;\n",
       "    }\n",
       "</style>\n",
       "<table border=\"1\" class=\"dataframe\">\n",
       "  <thead>\n",
       "    <tr style=\"text-align: right;\">\n",
       "      <th></th>\n",
       "      <th>list_name</th>\n",
       "      <th>itemname</th>\n",
       "      <th>material</th>\n",
       "      <th>quantity</th>\n",
       "      <th>description</th>\n",
       "      <th>latitude</th>\n",
       "      <th>longitude</th>\n",
       "      <th>altitude</th>\n",
       "      <th>radius</th>\n",
       "      <th>location</th>\n",
       "      <th>timestamp</th>\n",
       "      <th>dt</th>\n",
       "      <th>project_name</th>\n",
       "      <th>username</th>\n",
       "      <th>manual_upload</th>\n",
       "      <th>event_name</th>\n",
       "      <th>id</th>\n",
       "      <th>log_index</th>\n",
       "      <th>datetime</th>\n",
       "    </tr>\n",
       "  </thead>\n",
       "  <tbody>\n",
       "    <tr>\n",
       "      <th>0</th>\n",
       "      <td>Tecnológico de Monterrey</td>\n",
       "      <td>Bolsa de plástico para comestibles</td>\n",
       "      <td>Productos Plásticos para Comida</td>\n",
       "      <td>10</td>\n",
       "      <td>NaN</td>\n",
       "      <td>25.641958</td>\n",
       "      <td>-100.296648</td>\n",
       "      <td>553.976016</td>\n",
       "      <td>4.743728</td>\n",
       "      <td>Monterrey, Nuevo León, Mexico</td>\n",
       "      <td>20230415143048</td>\n",
       "      <td>2023-04-15 14:30:48</td>\n",
       "      <td>Default</td>\n",
       "      <td>AlexGuajardo</td>\n",
       "      <td>0</td>\n",
       "      <td>NaN</td>\n",
       "      <td>2398898</td>\n",
       "      <td>61617</td>\n",
       "      <td>2023-04-15 14:30:48</td>\n",
       "    </tr>\n",
       "  </tbody>\n",
       "</table>\n",
       "</div>"
      ],
      "text/plain": [
       "                  list_name                            itemname  \\\n",
       "0  Tecnológico de Monterrey  Bolsa de plástico para comestibles   \n",
       "\n",
       "                          material  quantity  description   latitude  \\\n",
       "0  Productos Plásticos para Comida        10          NaN  25.641958   \n",
       "\n",
       "    longitude    altitude    radius                       location  \\\n",
       "0 -100.296648  553.976016  4.743728  Monterrey, Nuevo León, Mexico   \n",
       "\n",
       "        timestamp                   dt project_name      username  \\\n",
       "0  20230415143048  2023-04-15 14:30:48      Default  AlexGuajardo   \n",
       "\n",
       "   manual_upload  event_name       id  log_index            datetime  \n",
       "0              0         NaN  2398898      61617 2023-04-15 14:30:48  "
      ]
     },
     "execution_count": 209,
     "metadata": {},
     "output_type": "execute_result"
    }
   ],
   "source": [
    "# csvs type 2 contain 'list_name' as a starting column.\n",
    "# All columns: ['list_name', 'itemname', 'material', 'quantity', 'description',\n",
    "#       'latitude', 'longitude', 'altitude', 'radius', 'location', 'timestamp',\n",
    "#       'dt', 'project_name', 'username', 'manual_upload', 'event_name', 'id',\n",
    "#       'log_index']\n",
    "\n",
    "csvs_type2 = ['mdt-data abril a junio 2023.csv','mdt-data agosto 2023.csv','mdt-data_octubre a marzo 2023.csv']\n",
    "\n",
    "# Concatenate csvs\n",
    "type_2 = pd.DataFrame()\n",
    "for csv in csvs_type2:\n",
    "    tmp_gdf = pd.read_csv(tmp_dir+csv,\n",
    "                          index_col=False)\n",
    "    type_2 = pd.concat([type_2,tmp_gdf])\n",
    "    \n",
    "# Set column with date time format\n",
    "type_2['datetime'] = pd.to_datetime(type_2['timestamp'], format='%Y%m%d%H%M%S')\n",
    "\n",
    "print(type_2.shape)\n",
    "type_2.head(1)"
   ]
  },
  {
   "cell_type": "code",
   "execution_count": 221,
   "id": "2428f59c-01f4-4a18-b028-aacdf941b00e",
   "metadata": {
    "tags": []
   },
   "outputs": [],
   "source": [
    "material_itemname_dicc = {'plastico':['Bolsa de plástico para comestibles', 'Bolsa de plástico (otra)','Botella de plástico','Tapa de botella de plástico',\n",
    "                                      'Vasos o tapas de unicel o plástico','Envoltorio de plástico para alimentos','Fragmentos de plástico duro', 'Fragmentos de película de plástico',\n",
    "                                      'Utensilios de plástico','Otro plástico relacionado con los alimentos','Otro plástico','Otros fragmentos',\n",
    "                                      'Cuerda de plástico/ cinta o correas de embalaje','Bolsas a granel','Popotes','Chancletas/sandalias','Sedal','Cuerda de plástico', \n",
    "                                      'Red de plástico o piezas de red','Tazón de comida para llevar','Plastico para cerveza'\n",
    "                                     ],\n",
    "                          'tabaco':['Cajetilla de cigarrillos', 'Otro producto de tabaco','Cigarrillos','Sobres de tabaco'],\n",
    "                          'metal':['Latas de aluminio o estaño','Tapas o lengüetas de metal para botellas','Fragmentos de metal','Papel de aluminio','Otro metal'],\n",
    "                          'vidrio':['Botella de vidrio','Otro vidrio'],\n",
    "                          'llantas':['Llantas'],\n",
    "                          'tela':['Ropa','Piezas de tela','Otra tela','Toallas o trapos','Ropa o zapatos'],\n",
    "                          'escombros':['Tablas de madera', 'Materiales de construcción','Agregado y ladrillo','Otros artículos de construcción','Pernos/ clavos y tornillos'],\n",
    "                          'papel':['Envoltura de alimentos de papel sin recubrimiento','Caja de papel multimaterial','Papel','Recibos','Otro papel','Bolsas de papel'],\n",
    "                          'carton':['Cartón acanalado','Cartón recubierto'],\n",
    "                          'otros':['Otro','Boyas y Flotadores'],\n",
    "                          'salud e higiene':['Otro producto de cuidado personal','Redes para el cabello','Tubo de pasta de dientes u otro producto','Champú u otro recipiente de HDPE',\n",
    "                                             'Cotonetes de algodón','Cepillos de dientes','Embalaje de mascarilla facial','Sobre de productos de cuidado personal'],\n",
    "                          'unicel':['Contenedor de espuma de poliestireno (unicel)','Fragmentos de espuma (unicel)'],\n",
    "                          'electronica':['Otros desechos electrónicos','Fragmentos de electrónicos'],\n",
    "                          'organico':['Otros desechos orgánicos','Desechos de comida'],\n",
    "                          'ceramica':['Fragmentos de vidrio o cerámica'],\n",
    "                          'comercio':['Tienda de comestibles','Tienda al por menor','Otra tienda','Tienda de conveniencia','Puesto de comida para llevar','Tienda de café / té',\n",
    "                                      'Otro Restaurante'],\n",
    "                          'EPI':['Máscaras faciales', 'Careta','Elemento de prueba','Cubrezapatos de hospital','Otros EPI','Embalaje de EPI asociado','Guantes desechables',\n",
    "                                'Paquete de medicamentos','Toallitas desinfectantes'],\n",
    "                          'infraestructura':['Bote de la basura', 'Bote de reciclaje','Canal', 'Reciclaje informal', 'Colector de aguas pluviales','Basurero'],\n",
    "                          'baterias':['Baterías',],\n",
    "                          'goma':['Ligas de goma'],\n",
    "                          'madera':['Palito de paleta'],\n",
    "                          'pesca':['Otro equipo de pesca'],\n",
    "                          'cenizas':['Pila de cenizas']}"
   ]
  },
  {
   "cell_type": "code",
   "execution_count": 222,
   "id": "d764d40f-7687-450c-a0cb-6971cc12a226",
   "metadata": {
    "tags": []
   },
   "outputs": [],
   "source": [
    "# Revisar que todos los itemnames estén asignados a un material en el diccionario:\n",
    "\n",
    "analized_items = []\n",
    "for k in material_itemname_dicc.keys():\n",
    "    for item in material_itemname_dicc[k]:\n",
    "        analized_items.append(item)\n",
    "        \n",
    "for item in list(type_1.itemname.unique()):\n",
    "    if item not in analized_items:\n",
    "        print(item)       \n",
    "        \n",
    "for item in list(type_2.itemname.unique()):\n",
    "    if item not in analized_items:\n",
    "        print(item)\n",
    "        \n",
    "for item in list(residuos_point.itemname.unique()):\n",
    "    if item not in analized_items:\n",
    "        print(item)    "
   ]
  },
  {
   "cell_type": "markdown",
   "id": "d5c81497-0b91-4e70-8ab9-82ae2e2efd31",
   "metadata": {
    "jp-MarkdownHeadingCollapsed": true,
    "tags": []
   },
   "source": [
    "# Old code"
   ]
  },
  {
   "cell_type": "code",
   "execution_count": 3,
   "id": "e6240e2b-700e-4ab0-a8ee-14a867eb633f",
   "metadata": {
    "tags": []
   },
   "outputs": [],
   "source": [
    "columns_tokeep = ['itemname','tipo','material','quantity','latitude','longitude','altitude','data_origin']"
   ]
  },
  {
   "cell_type": "code",
   "execution_count": null,
   "id": "1c098bd7-d5b7-4748-9e7e-fa6c7485b58c",
   "metadata": {},
   "outputs": [],
   "source": []
  },
  {
   "cell_type": "markdown",
   "id": "457b64e8-6b91-401d-8572-297462ee7b37",
   "metadata": {
    "tags": []
   },
   "source": [
    "### Batch 1"
   ]
  },
  {
   "cell_type": "code",
   "execution_count": 4,
   "id": "059ad549-d6ac-4594-b1f2-f1c293f39238",
   "metadata": {
    "tags": []
   },
   "outputs": [],
   "source": [
    "doc_9_de_enero = pd.read_csv(tmp_dir+'9 de enero.csv')\n",
    "doc_9_de_enero['data_origin'] = '9 de enero.csv'\n",
    "\n",
    "doc_27_05 = pd.read_csv(tmp_dir+'27_05.csv')\n",
    "doc_27_05['data_origin'] = '27_05.csv'\n",
    "\n",
    "doc_30_05 = pd.read_csv(tmp_dir+'30_05.csv')\n",
    "doc_30_05['data_origin'] = '30_05.csv'\n",
    "\n",
    "doc_todo_hasta_septiembre = pd.read_csv(tmp_dir+'todo hasta septiembre 24.csv')\n",
    "doc_todo_hasta_septiembre['data_origin'] = 'todo hasta septiembre 24.csv'"
   ]
  },
  {
   "cell_type": "markdown",
   "id": "7580f575-b816-478a-ac1f-6416e8b59369",
   "metadata": {
    "jp-MarkdownHeadingCollapsed": true,
    "tags": []
   },
   "source": [
    "#### Data treatment - 9 de enero.csv"
   ]
  },
  {
   "cell_type": "code",
   "execution_count": 5,
   "id": "fb8a519c-96d6-42a4-ae61-e8783f99d196",
   "metadata": {
    "tags": []
   },
   "outputs": [
    {
     "data": {
      "text/html": [
       "<div>\n",
       "<style scoped>\n",
       "    .dataframe tbody tr th:only-of-type {\n",
       "        vertical-align: middle;\n",
       "    }\n",
       "\n",
       "    .dataframe tbody tr th {\n",
       "        vertical-align: top;\n",
       "    }\n",
       "\n",
       "    .dataframe thead th {\n",
       "        text-align: right;\n",
       "    }\n",
       "</style>\n",
       "<table border=\"1\" class=\"dataframe\">\n",
       "  <thead>\n",
       "    <tr style=\"text-align: right;\">\n",
       "      <th></th>\n",
       "      <th>itemname</th>\n",
       "      <th>Category</th>\n",
       "      <th>quantity</th>\n",
       "      <th>latitude</th>\n",
       "      <th>longitude</th>\n",
       "      <th>altitude</th>\n",
       "      <th>Unnamed: 6</th>\n",
       "      <th>data_origin</th>\n",
       "    </tr>\n",
       "  </thead>\n",
       "  <tbody>\n",
       "    <tr>\n",
       "      <th>0</th>\n",
       "      <td>Latas de aluminio o estaño</td>\n",
       "      <td>Aluminio</td>\n",
       "      <td>4</td>\n",
       "      <td>0.084465</td>\n",
       "      <td>-79.050839</td>\n",
       "      <td>627.300049</td>\n",
       "      <td>NaN</td>\n",
       "      <td>9 de enero.csv</td>\n",
       "    </tr>\n",
       "  </tbody>\n",
       "</table>\n",
       "</div>"
      ],
      "text/plain": [
       "                     itemname  Category  quantity  latitude  longitude  \\\n",
       "0  Latas de aluminio o estaño  Aluminio         4  0.084465 -79.050839   \n",
       "\n",
       "     altitude Unnamed: 6     data_origin  \n",
       "0  627.300049        NaN  9 de enero.csv  "
      ]
     },
     "execution_count": 5,
     "metadata": {},
     "output_type": "execute_result"
    }
   ],
   "source": [
    "doc_9_de_enero.head(1)"
   ]
  },
  {
   "cell_type": "code",
   "execution_count": 6,
   "id": "60facda9-23bb-41cf-932d-3798081c9b9a",
   "metadata": {
    "tags": []
   },
   "outputs": [
    {
     "name": "stdout",
     "output_type": "stream",
     "text": [
      "(10237, 8)\n"
     ]
    },
    {
     "data": {
      "text/html": [
       "<div>\n",
       "<style scoped>\n",
       "    .dataframe tbody tr th:only-of-type {\n",
       "        vertical-align: middle;\n",
       "    }\n",
       "\n",
       "    .dataframe tbody tr th {\n",
       "        vertical-align: top;\n",
       "    }\n",
       "\n",
       "    .dataframe thead th {\n",
       "        text-align: right;\n",
       "    }\n",
       "</style>\n",
       "<table border=\"1\" class=\"dataframe\">\n",
       "  <thead>\n",
       "    <tr style=\"text-align: right;\">\n",
       "      <th></th>\n",
       "      <th>itemname</th>\n",
       "      <th>tipo</th>\n",
       "      <th>material</th>\n",
       "      <th>quantity</th>\n",
       "      <th>latitude</th>\n",
       "      <th>longitude</th>\n",
       "      <th>altitude</th>\n",
       "      <th>data_origin</th>\n",
       "    </tr>\n",
       "  </thead>\n",
       "  <tbody>\n",
       "    <tr>\n",
       "      <th>0</th>\n",
       "      <td>Latas de aluminio o estaño</td>\n",
       "      <td>NaN</td>\n",
       "      <td>Aluminio</td>\n",
       "      <td>4</td>\n",
       "      <td>0.084465</td>\n",
       "      <td>-79.050839</td>\n",
       "      <td>627.300049</td>\n",
       "      <td>9 de enero.csv</td>\n",
       "    </tr>\n",
       "    <tr>\n",
       "      <th>1</th>\n",
       "      <td>Latas de aluminio o estaño</td>\n",
       "      <td>NaN</td>\n",
       "      <td>Aluminio</td>\n",
       "      <td>1</td>\n",
       "      <td>-33.629462</td>\n",
       "      <td>-71.549508</td>\n",
       "      <td>104.600000</td>\n",
       "      <td>9 de enero.csv</td>\n",
       "    </tr>\n",
       "  </tbody>\n",
       "</table>\n",
       "</div>"
      ],
      "text/plain": [
       "                     itemname  tipo  material  quantity   latitude  longitude  \\\n",
       "0  Latas de aluminio o estaño   NaN  Aluminio         4   0.084465 -79.050839   \n",
       "1  Latas de aluminio o estaño   NaN  Aluminio         1 -33.629462 -71.549508   \n",
       "\n",
       "     altitude     data_origin  \n",
       "0  627.300049  9 de enero.csv  \n",
       "1  104.600000  9 de enero.csv  "
      ]
     },
     "execution_count": 6,
     "metadata": {},
     "output_type": "execute_result"
    }
   ],
   "source": [
    "doc_9_de_enero_f = doc_9_de_enero.copy()\n",
    "doc_9_de_enero_f['tipo'] = np.nan\n",
    "doc_9_de_enero_f.rename(columns={'Category':'material'},inplace=True)\n",
    "doc_9_de_enero_f = doc_9_de_enero_f[columns_tokeep]\n",
    "\n",
    "# Show\n",
    "print(doc_9_de_enero_f.shape)\n",
    "doc_9_de_enero_f.head(2)"
   ]
  },
  {
   "cell_type": "markdown",
   "id": "793886a8-43a6-4f41-aa8f-7bb559a2fc8f",
   "metadata": {
    "jp-MarkdownHeadingCollapsed": true,
    "tags": []
   },
   "source": [
    "#### Data treatment - 27_05.csv"
   ]
  },
  {
   "cell_type": "code",
   "execution_count": 7,
   "id": "f6bf1917-e751-44c8-b923-ff8dd7ea381e",
   "metadata": {
    "tags": []
   },
   "outputs": [
    {
     "data": {
      "text/html": [
       "<div>\n",
       "<style scoped>\n",
       "    .dataframe tbody tr th:only-of-type {\n",
       "        vertical-align: middle;\n",
       "    }\n",
       "\n",
       "    .dataframe tbody tr th {\n",
       "        vertical-align: top;\n",
       "    }\n",
       "\n",
       "    .dataframe thead th {\n",
       "        text-align: right;\n",
       "    }\n",
       "</style>\n",
       "<table border=\"1\" class=\"dataframe\">\n",
       "  <thead>\n",
       "    <tr style=\"text-align: right;\">\n",
       "      <th></th>\n",
       "      <th>itemname</th>\n",
       "      <th>material</th>\n",
       "      <th>id</th>\n",
       "      <th>quantity</th>\n",
       "      <th>description</th>\n",
       "      <th>latitude</th>\n",
       "      <th>longitude</th>\n",
       "      <th>altitude</th>\n",
       "      <th>data_origin</th>\n",
       "    </tr>\n",
       "  </thead>\n",
       "  <tbody>\n",
       "    <tr>\n",
       "      <th>0</th>\n",
       "      <td>Tablas de madera</td>\n",
       "      <td>Materiales de Construcción</td>\n",
       "      <td>Construccion</td>\n",
       "      <td>2</td>\n",
       "      <td>NaN</td>\n",
       "      <td>25.639195</td>\n",
       "      <td>-100.303704</td>\n",
       "      <td>544.800049</td>\n",
       "      <td>27_05.csv</td>\n",
       "    </tr>\n",
       "  </tbody>\n",
       "</table>\n",
       "</div>"
      ],
      "text/plain": [
       "           itemname                    material            id  quantity  \\\n",
       "0  Tablas de madera  Materiales de Construcción  Construccion         2   \n",
       "\n",
       "   description   latitude   longitude    altitude data_origin  \n",
       "0          NaN  25.639195 -100.303704  544.800049   27_05.csv  "
      ]
     },
     "execution_count": 7,
     "metadata": {},
     "output_type": "execute_result"
    }
   ],
   "source": [
    "doc_27_05.head(1)"
   ]
  },
  {
   "cell_type": "code",
   "execution_count": 8,
   "id": "f4e1d1cd-9c67-43ed-a7bc-5025a7e99c75",
   "metadata": {
    "tags": []
   },
   "outputs": [
    {
     "name": "stdout",
     "output_type": "stream",
     "text": [
      "(1484, 8)\n"
     ]
    },
    {
     "data": {
      "text/html": [
       "<div>\n",
       "<style scoped>\n",
       "    .dataframe tbody tr th:only-of-type {\n",
       "        vertical-align: middle;\n",
       "    }\n",
       "\n",
       "    .dataframe tbody tr th {\n",
       "        vertical-align: top;\n",
       "    }\n",
       "\n",
       "    .dataframe thead th {\n",
       "        text-align: right;\n",
       "    }\n",
       "</style>\n",
       "<table border=\"1\" class=\"dataframe\">\n",
       "  <thead>\n",
       "    <tr style=\"text-align: right;\">\n",
       "      <th></th>\n",
       "      <th>itemname</th>\n",
       "      <th>tipo</th>\n",
       "      <th>material</th>\n",
       "      <th>quantity</th>\n",
       "      <th>latitude</th>\n",
       "      <th>longitude</th>\n",
       "      <th>altitude</th>\n",
       "      <th>data_origin</th>\n",
       "    </tr>\n",
       "  </thead>\n",
       "  <tbody>\n",
       "    <tr>\n",
       "      <th>0</th>\n",
       "      <td>Tablas de madera</td>\n",
       "      <td>Materiales de Construcción</td>\n",
       "      <td>Construccion</td>\n",
       "      <td>2</td>\n",
       "      <td>25.639195</td>\n",
       "      <td>-100.303704</td>\n",
       "      <td>544.800049</td>\n",
       "      <td>27_05.csv</td>\n",
       "    </tr>\n",
       "    <tr>\n",
       "      <th>1</th>\n",
       "      <td>Tablas de madera</td>\n",
       "      <td>Materiales de Construcción</td>\n",
       "      <td>Construccion</td>\n",
       "      <td>5</td>\n",
       "      <td>25.639991</td>\n",
       "      <td>-100.302126</td>\n",
       "      <td>540.700012</td>\n",
       "      <td>27_05.csv</td>\n",
       "    </tr>\n",
       "  </tbody>\n",
       "</table>\n",
       "</div>"
      ],
      "text/plain": [
       "           itemname                        tipo      material  quantity  \\\n",
       "0  Tablas de madera  Materiales de Construcción  Construccion         2   \n",
       "1  Tablas de madera  Materiales de Construcción  Construccion         5   \n",
       "\n",
       "    latitude   longitude    altitude data_origin  \n",
       "0  25.639195 -100.303704  544.800049   27_05.csv  \n",
       "1  25.639991 -100.302126  540.700012   27_05.csv  "
      ]
     },
     "execution_count": 8,
     "metadata": {},
     "output_type": "execute_result"
    }
   ],
   "source": [
    "doc_27_05_f = doc_27_05.copy()\n",
    "doc_27_05_f.rename(columns={'material':'tipo',\n",
    "                            'id':'material'},inplace=True)\n",
    "doc_27_05_f = doc_27_05_f[columns_tokeep]\n",
    "\n",
    "# Show\n",
    "print(doc_27_05_f.shape)\n",
    "doc_27_05_f.head(2)"
   ]
  },
  {
   "cell_type": "markdown",
   "id": "19333cd6-eee9-4880-8800-9305585adfde",
   "metadata": {
    "jp-MarkdownHeadingCollapsed": true,
    "tags": []
   },
   "source": [
    "#### Data treatment - 30_05.csv"
   ]
  },
  {
   "cell_type": "code",
   "execution_count": 9,
   "id": "6157d32d-3a1d-42d8-b6a5-7c0e33e93a92",
   "metadata": {
    "tags": []
   },
   "outputs": [
    {
     "data": {
      "text/html": [
       "<div>\n",
       "<style scoped>\n",
       "    .dataframe tbody tr th:only-of-type {\n",
       "        vertical-align: middle;\n",
       "    }\n",
       "\n",
       "    .dataframe tbody tr th {\n",
       "        vertical-align: top;\n",
       "    }\n",
       "\n",
       "    .dataframe thead th {\n",
       "        text-align: right;\n",
       "    }\n",
       "</style>\n",
       "<table border=\"1\" class=\"dataframe\">\n",
       "  <thead>\n",
       "    <tr style=\"text-align: right;\">\n",
       "      <th></th>\n",
       "      <th>itemname</th>\n",
       "      <th>material</th>\n",
       "      <th>id</th>\n",
       "      <th>quantity</th>\n",
       "      <th>description</th>\n",
       "      <th>latitude</th>\n",
       "      <th>longitude</th>\n",
       "      <th>altitude</th>\n",
       "      <th>data_origin</th>\n",
       "    </tr>\n",
       "  </thead>\n",
       "  <tbody>\n",
       "    <tr>\n",
       "      <th>0</th>\n",
       "      <td>Other Metal</td>\n",
       "      <td>METAL</td>\n",
       "      <td>Metal</td>\n",
       "      <td>1</td>\n",
       "      <td>NaN</td>\n",
       "      <td>25.641804</td>\n",
       "      <td>-100.314824</td>\n",
       "      <td>562.835693</td>\n",
       "      <td>30_05.csv</td>\n",
       "    </tr>\n",
       "  </tbody>\n",
       "</table>\n",
       "</div>"
      ],
      "text/plain": [
       "      itemname material     id  quantity  description   latitude   longitude  \\\n",
       "0  Other Metal    METAL  Metal         1          NaN  25.641804 -100.314824   \n",
       "\n",
       "     altitude data_origin  \n",
       "0  562.835693   30_05.csv  "
      ]
     },
     "execution_count": 9,
     "metadata": {},
     "output_type": "execute_result"
    }
   ],
   "source": [
    "doc_30_05.head(1)"
   ]
  },
  {
   "cell_type": "code",
   "execution_count": 10,
   "id": "ba3bac43-719a-4ba7-bffc-df863456a711",
   "metadata": {
    "tags": []
   },
   "outputs": [
    {
     "name": "stdout",
     "output_type": "stream",
     "text": [
      "(315, 8)\n"
     ]
    },
    {
     "data": {
      "text/html": [
       "<div>\n",
       "<style scoped>\n",
       "    .dataframe tbody tr th:only-of-type {\n",
       "        vertical-align: middle;\n",
       "    }\n",
       "\n",
       "    .dataframe tbody tr th {\n",
       "        vertical-align: top;\n",
       "    }\n",
       "\n",
       "    .dataframe thead th {\n",
       "        text-align: right;\n",
       "    }\n",
       "</style>\n",
       "<table border=\"1\" class=\"dataframe\">\n",
       "  <thead>\n",
       "    <tr style=\"text-align: right;\">\n",
       "      <th></th>\n",
       "      <th>itemname</th>\n",
       "      <th>tipo</th>\n",
       "      <th>material</th>\n",
       "      <th>quantity</th>\n",
       "      <th>latitude</th>\n",
       "      <th>longitude</th>\n",
       "      <th>altitude</th>\n",
       "      <th>data_origin</th>\n",
       "    </tr>\n",
       "  </thead>\n",
       "  <tbody>\n",
       "    <tr>\n",
       "      <th>0</th>\n",
       "      <td>Other Metal</td>\n",
       "      <td>METAL</td>\n",
       "      <td>Metal</td>\n",
       "      <td>1</td>\n",
       "      <td>25.641804</td>\n",
       "      <td>-100.314824</td>\n",
       "      <td>562.835693</td>\n",
       "      <td>30_05.csv</td>\n",
       "    </tr>\n",
       "    <tr>\n",
       "      <th>1</th>\n",
       "      <td>Other Metal</td>\n",
       "      <td>METAL</td>\n",
       "      <td>Metal</td>\n",
       "      <td>1</td>\n",
       "      <td>25.641804</td>\n",
       "      <td>-100.314824</td>\n",
       "      <td>562.835693</td>\n",
       "      <td>30_05.csv</td>\n",
       "    </tr>\n",
       "  </tbody>\n",
       "</table>\n",
       "</div>"
      ],
      "text/plain": [
       "      itemname   tipo material  quantity   latitude   longitude    altitude  \\\n",
       "0  Other Metal  METAL    Metal         1  25.641804 -100.314824  562.835693   \n",
       "1  Other Metal  METAL    Metal         1  25.641804 -100.314824  562.835693   \n",
       "\n",
       "  data_origin  \n",
       "0   30_05.csv  \n",
       "1   30_05.csv  "
      ]
     },
     "execution_count": 10,
     "metadata": {},
     "output_type": "execute_result"
    }
   ],
   "source": [
    "doc_30_05_f = doc_30_05.copy()\n",
    "doc_30_05_f.rename(columns={'material':'tipo',\n",
    "                            'id':'material'},inplace=True)\n",
    "doc_30_05_f = doc_30_05_f[columns_tokeep]\n",
    "\n",
    "# Show\n",
    "print(doc_30_05_f.shape)\n",
    "doc_30_05_f.head(2)"
   ]
  },
  {
   "cell_type": "markdown",
   "id": "274d4f9b-cd37-47d0-955d-a60423949ffe",
   "metadata": {
    "jp-MarkdownHeadingCollapsed": true,
    "tags": []
   },
   "source": [
    "#### Data treatment - todo_hasta_septiembre_24.csv"
   ]
  },
  {
   "cell_type": "code",
   "execution_count": 11,
   "id": "23385e46-9724-4c5d-94e2-314069f497c8",
   "metadata": {
    "tags": []
   },
   "outputs": [
    {
     "data": {
      "text/html": [
       "<div>\n",
       "<style scoped>\n",
       "    .dataframe tbody tr th:only-of-type {\n",
       "        vertical-align: middle;\n",
       "    }\n",
       "\n",
       "    .dataframe tbody tr th {\n",
       "        vertical-align: top;\n",
       "    }\n",
       "\n",
       "    .dataframe thead th {\n",
       "        text-align: right;\n",
       "    }\n",
       "</style>\n",
       "<table border=\"1\" class=\"dataframe\">\n",
       "  <thead>\n",
       "    <tr style=\"text-align: right;\">\n",
       "      <th></th>\n",
       "      <th>quantity</th>\n",
       "      <th>category</th>\n",
       "      <th>T</th>\n",
       "      <th>latitude</th>\n",
       "      <th>longitude</th>\n",
       "      <th>altitude</th>\n",
       "      <th>data_origin</th>\n",
       "    </tr>\n",
       "  </thead>\n",
       "  <tbody>\n",
       "    <tr>\n",
       "      <th>0</th>\n",
       "      <td>1</td>\n",
       "      <td>plastico</td>\n",
       "      <td>Bolsa de plastico para comestibles</td>\n",
       "      <td>25.643146</td>\n",
       "      <td>-100.312009</td>\n",
       "      <td>606.27422</td>\n",
       "      <td>todo hasta septiembre 24.csv</td>\n",
       "    </tr>\n",
       "  </tbody>\n",
       "</table>\n",
       "</div>"
      ],
      "text/plain": [
       "   quantity  category                                   T   latitude  \\\n",
       "0         1  plastico  Bolsa de plastico para comestibles  25.643146   \n",
       "\n",
       "    longitude   altitude                   data_origin  \n",
       "0 -100.312009  606.27422  todo hasta septiembre 24.csv  "
      ]
     },
     "execution_count": 11,
     "metadata": {},
     "output_type": "execute_result"
    }
   ],
   "source": [
    "doc_todo_hasta_septiembre.head(1)"
   ]
  },
  {
   "cell_type": "code",
   "execution_count": 12,
   "id": "10dfd9e8-7572-4d7a-b93b-89a8ba2c7958",
   "metadata": {
    "tags": []
   },
   "outputs": [
    {
     "name": "stdout",
     "output_type": "stream",
     "text": [
      "(5166, 8)\n"
     ]
    },
    {
     "data": {
      "text/html": [
       "<div>\n",
       "<style scoped>\n",
       "    .dataframe tbody tr th:only-of-type {\n",
       "        vertical-align: middle;\n",
       "    }\n",
       "\n",
       "    .dataframe tbody tr th {\n",
       "        vertical-align: top;\n",
       "    }\n",
       "\n",
       "    .dataframe thead th {\n",
       "        text-align: right;\n",
       "    }\n",
       "</style>\n",
       "<table border=\"1\" class=\"dataframe\">\n",
       "  <thead>\n",
       "    <tr style=\"text-align: right;\">\n",
       "      <th></th>\n",
       "      <th>itemname</th>\n",
       "      <th>tipo</th>\n",
       "      <th>material</th>\n",
       "      <th>quantity</th>\n",
       "      <th>latitude</th>\n",
       "      <th>longitude</th>\n",
       "      <th>altitude</th>\n",
       "      <th>data_origin</th>\n",
       "    </tr>\n",
       "  </thead>\n",
       "  <tbody>\n",
       "    <tr>\n",
       "      <th>0</th>\n",
       "      <td>Bolsa de plastico para comestibles</td>\n",
       "      <td>NaN</td>\n",
       "      <td>plastico</td>\n",
       "      <td>1</td>\n",
       "      <td>25.643146</td>\n",
       "      <td>-100.312009</td>\n",
       "      <td>606.274220</td>\n",
       "      <td>todo hasta septiembre 24.csv</td>\n",
       "    </tr>\n",
       "    <tr>\n",
       "      <th>1</th>\n",
       "      <td>Bolsa de plastico para comestibles</td>\n",
       "      <td>NaN</td>\n",
       "      <td>plastico</td>\n",
       "      <td>1</td>\n",
       "      <td>25.643812</td>\n",
       "      <td>-100.310577</td>\n",
       "      <td>626.850122</td>\n",
       "      <td>todo hasta septiembre 24.csv</td>\n",
       "    </tr>\n",
       "  </tbody>\n",
       "</table>\n",
       "</div>"
      ],
      "text/plain": [
       "                             itemname  tipo  material  quantity   latitude  \\\n",
       "0  Bolsa de plastico para comestibles   NaN  plastico         1  25.643146   \n",
       "1  Bolsa de plastico para comestibles   NaN  plastico         1  25.643812   \n",
       "\n",
       "    longitude    altitude                   data_origin  \n",
       "0 -100.312009  606.274220  todo hasta septiembre 24.csv  \n",
       "1 -100.310577  626.850122  todo hasta septiembre 24.csv  "
      ]
     },
     "execution_count": 12,
     "metadata": {},
     "output_type": "execute_result"
    }
   ],
   "source": [
    "doc_todo_hasta_septiembre_f = doc_todo_hasta_septiembre.copy()\n",
    "doc_todo_hasta_septiembre_f['tipo'] = np.nan\n",
    "doc_todo_hasta_septiembre_f.rename(columns={'T':'itemname',\n",
    "                                            'category':'material'},inplace=True)\n",
    "doc_todo_hasta_septiembre_f = doc_todo_hasta_septiembre_f[columns_tokeep]\n",
    "\n",
    "# Show\n",
    "print(doc_todo_hasta_septiembre_f.shape)\n",
    "doc_todo_hasta_septiembre_f.head(2)"
   ]
  },
  {
   "cell_type": "markdown",
   "id": "842a705f-6063-4ded-b2e8-884744284fa9",
   "metadata": {
    "jp-MarkdownHeadingCollapsed": true,
    "tags": []
   },
   "source": [
    "### Batch 2"
   ]
  },
  {
   "cell_type": "code",
   "execution_count": 13,
   "id": "2388a776-6d07-4617-95a7-f54ff4c0cc87",
   "metadata": {
    "tags": []
   },
   "outputs": [],
   "source": [
    "doc_2022_2023 = pd.read_csv(tmp_dir+'2022_2023_fixcoord.csv')\n",
    "doc_2022_2023['data_origin'] = '2022_2023.csv'\n",
    "\n",
    "doc_punto1 = pd.read_csv(tmp_dir+'punto1.csv')\n",
    "doc_punto1['data_origin'] = 'punto1.csv'\n",
    "\n",
    "doc_punto_2 = pd.read_csv(tmp_dir+'punto 2.csv')\n",
    "doc_punto_2['data_origin'] = 'punto 2.csv'\n",
    "\n",
    "doc_punto_3 = pd.read_csv(tmp_dir+'punto 3.csv')\n",
    "doc_punto_3['data_origin'] = 'punto 3.csv'\n",
    "\n",
    "doc_punto_4 = pd.read_csv(tmp_dir+'punto 4.csv')\n",
    "doc_punto_4['data_origin'] = 'punto 4.csv'\n",
    "\n",
    "doc_punto_5 = pd.read_csv(tmp_dir+'punto 5.csv')\n",
    "doc_punto_5['data_origin'] = 'punto 5.csv'\n",
    "\n",
    "doc_punto_6 = pd.read_csv(tmp_dir+'punto 6.csv')\n",
    "doc_punto_6['data_origin'] = 'punto 6.csv'\n",
    "\n",
    "doc_punto_7 = pd.read_csv(tmp_dir+'punto 7.csv')\n",
    "doc_punto_7['data_origin'] = 'punto 7.csv'\n",
    "\n",
    "doc_punto_8 = pd.read_csv(tmp_dir+'punto 8.csv')\n",
    "doc_punto_8['data_origin'] = 'punto 8.csv'"
   ]
  },
  {
   "cell_type": "markdown",
   "id": "4164ce55-64bb-42f3-bb87-94ad43f75d81",
   "metadata": {
    "jp-MarkdownHeadingCollapsed": true,
    "tags": []
   },
   "source": [
    "#### Data treatment - punto1.csv"
   ]
  },
  {
   "cell_type": "code",
   "execution_count": 15,
   "id": "e4b3b79f-784b-4602-96f9-35959b49e525",
   "metadata": {
    "tags": []
   },
   "outputs": [
    {
     "data": {
      "text/html": [
       "<div>\n",
       "<style scoped>\n",
       "    .dataframe tbody tr th:only-of-type {\n",
       "        vertical-align: middle;\n",
       "    }\n",
       "\n",
       "    .dataframe tbody tr th {\n",
       "        vertical-align: top;\n",
       "    }\n",
       "\n",
       "    .dataframe thead th {\n",
       "        text-align: right;\n",
       "    }\n",
       "</style>\n",
       "<table border=\"1\" class=\"dataframe\">\n",
       "  <thead>\n",
       "    <tr style=\"text-align: right;\">\n",
       "      <th></th>\n",
       "      <th>itemname</th>\n",
       "      <th>Category</th>\n",
       "      <th>quantity</th>\n",
       "      <th>latitude</th>\n",
       "      <th>longitude</th>\n",
       "      <th>altitude</th>\n",
       "      <th>field_7</th>\n",
       "      <th>data_origin</th>\n",
       "    </tr>\n",
       "  </thead>\n",
       "  <tbody>\n",
       "    <tr>\n",
       "      <th>0</th>\n",
       "      <td>Latas de aluminio o estaño</td>\n",
       "      <td>Aluminio</td>\n",
       "      <td>11</td>\n",
       "      <td>25.644154</td>\n",
       "      <td>-100.310618</td>\n",
       "      <td>627.104902</td>\n",
       "      <td>NaN</td>\n",
       "      <td>punto1.csv</td>\n",
       "    </tr>\n",
       "  </tbody>\n",
       "</table>\n",
       "</div>"
      ],
      "text/plain": [
       "                     itemname  Category  quantity   latitude   longitude  \\\n",
       "0  Latas de aluminio o estaño  Aluminio        11  25.644154 -100.310618   \n",
       "\n",
       "     altitude  field_7 data_origin  \n",
       "0  627.104902      NaN  punto1.csv  "
      ]
     },
     "execution_count": 15,
     "metadata": {},
     "output_type": "execute_result"
    }
   ],
   "source": [
    "doc_punto1.head(1)"
   ]
  },
  {
   "cell_type": "code",
   "execution_count": 16,
   "id": "854df99c-1321-4ba2-9009-09e6c260f747",
   "metadata": {
    "tags": []
   },
   "outputs": [
    {
     "name": "stdout",
     "output_type": "stream",
     "text": [
      "(339, 8)\n"
     ]
    },
    {
     "data": {
      "text/html": [
       "<div>\n",
       "<style scoped>\n",
       "    .dataframe tbody tr th:only-of-type {\n",
       "        vertical-align: middle;\n",
       "    }\n",
       "\n",
       "    .dataframe tbody tr th {\n",
       "        vertical-align: top;\n",
       "    }\n",
       "\n",
       "    .dataframe thead th {\n",
       "        text-align: right;\n",
       "    }\n",
       "</style>\n",
       "<table border=\"1\" class=\"dataframe\">\n",
       "  <thead>\n",
       "    <tr style=\"text-align: right;\">\n",
       "      <th></th>\n",
       "      <th>itemname</th>\n",
       "      <th>tipo</th>\n",
       "      <th>material</th>\n",
       "      <th>quantity</th>\n",
       "      <th>latitude</th>\n",
       "      <th>longitude</th>\n",
       "      <th>altitude</th>\n",
       "      <th>data_origin</th>\n",
       "    </tr>\n",
       "  </thead>\n",
       "  <tbody>\n",
       "    <tr>\n",
       "      <th>0</th>\n",
       "      <td>Latas de aluminio o estaño</td>\n",
       "      <td>NaN</td>\n",
       "      <td>Aluminio</td>\n",
       "      <td>11</td>\n",
       "      <td>25.644154</td>\n",
       "      <td>-100.310618</td>\n",
       "      <td>627.104902</td>\n",
       "      <td>punto1.csv</td>\n",
       "    </tr>\n",
       "    <tr>\n",
       "      <th>1</th>\n",
       "      <td>Papel de aluminio</td>\n",
       "      <td>NaN</td>\n",
       "      <td>Aluminio</td>\n",
       "      <td>6</td>\n",
       "      <td>25.644065</td>\n",
       "      <td>-100.310389</td>\n",
       "      <td>634.796484</td>\n",
       "      <td>punto1.csv</td>\n",
       "    </tr>\n",
       "  </tbody>\n",
       "</table>\n",
       "</div>"
      ],
      "text/plain": [
       "                     itemname  tipo  material  quantity   latitude  \\\n",
       "0  Latas de aluminio o estaño   NaN  Aluminio        11  25.644154   \n",
       "1           Papel de aluminio   NaN  Aluminio         6  25.644065   \n",
       "\n",
       "    longitude    altitude data_origin  \n",
       "0 -100.310618  627.104902  punto1.csv  \n",
       "1 -100.310389  634.796484  punto1.csv  "
      ]
     },
     "execution_count": 16,
     "metadata": {},
     "output_type": "execute_result"
    }
   ],
   "source": [
    "doc_punto1_f = doc_punto1.copy()\n",
    "doc_punto1_f['tipo'] = np.nan\n",
    "doc_punto1_f.rename(columns={'Category':'material'},inplace=True)\n",
    "doc_punto1_f = doc_punto1_f[columns_tokeep]\n",
    "\n",
    "# Show\n",
    "print(doc_punto1_f.shape)\n",
    "doc_punto1_f.head(2)"
   ]
  },
  {
   "cell_type": "markdown",
   "id": "7fc0aa11-58d8-44a1-a651-5b845d9c3211",
   "metadata": {
    "jp-MarkdownHeadingCollapsed": true,
    "tags": []
   },
   "source": [
    "#### Data treatment - punto 2.csv"
   ]
  },
  {
   "cell_type": "code",
   "execution_count": 17,
   "id": "d3a2bec1-44d9-45ef-86e8-d3261ef2e51a",
   "metadata": {
    "tags": []
   },
   "outputs": [
    {
     "data": {
      "text/html": [
       "<div>\n",
       "<style scoped>\n",
       "    .dataframe tbody tr th:only-of-type {\n",
       "        vertical-align: middle;\n",
       "    }\n",
       "\n",
       "    .dataframe tbody tr th {\n",
       "        vertical-align: top;\n",
       "    }\n",
       "\n",
       "    .dataframe thead th {\n",
       "        text-align: right;\n",
       "    }\n",
       "</style>\n",
       "<table border=\"1\" class=\"dataframe\">\n",
       "  <thead>\n",
       "    <tr style=\"text-align: right;\">\n",
       "      <th></th>\n",
       "      <th>itemname</th>\n",
       "      <th>Category</th>\n",
       "      <th>quantity</th>\n",
       "      <th>latitude</th>\n",
       "      <th>longitude</th>\n",
       "      <th>altitude</th>\n",
       "      <th>field_7</th>\n",
       "      <th>data_origin</th>\n",
       "    </tr>\n",
       "  </thead>\n",
       "  <tbody>\n",
       "    <tr>\n",
       "      <th>0</th>\n",
       "      <td>Latas de aluminio o estaño</td>\n",
       "      <td>Aluminio</td>\n",
       "      <td>1</td>\n",
       "      <td>25.641301</td>\n",
       "      <td>-100.312949</td>\n",
       "      <td>558.200012</td>\n",
       "      <td>NaN</td>\n",
       "      <td>punto 2.csv</td>\n",
       "    </tr>\n",
       "  </tbody>\n",
       "</table>\n",
       "</div>"
      ],
      "text/plain": [
       "                     itemname  Category  quantity   latitude   longitude  \\\n",
       "0  Latas de aluminio o estaño  Aluminio         1  25.641301 -100.312949   \n",
       "\n",
       "     altitude  field_7  data_origin  \n",
       "0  558.200012      NaN  punto 2.csv  "
      ]
     },
     "execution_count": 17,
     "metadata": {},
     "output_type": "execute_result"
    }
   ],
   "source": [
    "doc_punto_2.head(1)"
   ]
  },
  {
   "cell_type": "code",
   "execution_count": 18,
   "id": "29279b25-52de-462e-8eb0-dea11b4ed59e",
   "metadata": {
    "tags": []
   },
   "outputs": [
    {
     "name": "stdout",
     "output_type": "stream",
     "text": [
      "(374, 8)\n"
     ]
    },
    {
     "data": {
      "text/html": [
       "<div>\n",
       "<style scoped>\n",
       "    .dataframe tbody tr th:only-of-type {\n",
       "        vertical-align: middle;\n",
       "    }\n",
       "\n",
       "    .dataframe tbody tr th {\n",
       "        vertical-align: top;\n",
       "    }\n",
       "\n",
       "    .dataframe thead th {\n",
       "        text-align: right;\n",
       "    }\n",
       "</style>\n",
       "<table border=\"1\" class=\"dataframe\">\n",
       "  <thead>\n",
       "    <tr style=\"text-align: right;\">\n",
       "      <th></th>\n",
       "      <th>itemname</th>\n",
       "      <th>tipo</th>\n",
       "      <th>material</th>\n",
       "      <th>quantity</th>\n",
       "      <th>latitude</th>\n",
       "      <th>longitude</th>\n",
       "      <th>altitude</th>\n",
       "      <th>data_origin</th>\n",
       "    </tr>\n",
       "  </thead>\n",
       "  <tbody>\n",
       "    <tr>\n",
       "      <th>0</th>\n",
       "      <td>Latas de aluminio o estaño</td>\n",
       "      <td>NaN</td>\n",
       "      <td>Aluminio</td>\n",
       "      <td>1</td>\n",
       "      <td>25.641301</td>\n",
       "      <td>-100.312949</td>\n",
       "      <td>558.200012</td>\n",
       "      <td>punto 2.csv</td>\n",
       "    </tr>\n",
       "    <tr>\n",
       "      <th>1</th>\n",
       "      <td>Latas de aluminio o estaño</td>\n",
       "      <td>NaN</td>\n",
       "      <td>Aluminio</td>\n",
       "      <td>1</td>\n",
       "      <td>25.641301</td>\n",
       "      <td>-100.312769</td>\n",
       "      <td>573.357257</td>\n",
       "      <td>punto 2.csv</td>\n",
       "    </tr>\n",
       "  </tbody>\n",
       "</table>\n",
       "</div>"
      ],
      "text/plain": [
       "                     itemname  tipo  material  quantity   latitude  \\\n",
       "0  Latas de aluminio o estaño   NaN  Aluminio         1  25.641301   \n",
       "1  Latas de aluminio o estaño   NaN  Aluminio         1  25.641301   \n",
       "\n",
       "    longitude    altitude  data_origin  \n",
       "0 -100.312949  558.200012  punto 2.csv  \n",
       "1 -100.312769  573.357257  punto 2.csv  "
      ]
     },
     "execution_count": 18,
     "metadata": {},
     "output_type": "execute_result"
    }
   ],
   "source": [
    "doc_punto_2_f = doc_punto_2.copy()\n",
    "doc_punto_2_f['tipo'] = np.nan\n",
    "doc_punto_2_f.rename(columns={'Category':'material'},inplace=True)\n",
    "doc_punto_2_f = doc_punto_2_f[columns_tokeep]\n",
    "\n",
    "# Show\n",
    "print(doc_punto_2_f.shape)\n",
    "doc_punto_2_f.head(2)"
   ]
  },
  {
   "cell_type": "markdown",
   "id": "fe250ab6-ac5c-4cce-bf3a-074bcfed44ea",
   "metadata": {
    "jp-MarkdownHeadingCollapsed": true,
    "tags": []
   },
   "source": [
    "#### Data treatment - punto 3.csv"
   ]
  },
  {
   "cell_type": "code",
   "execution_count": 19,
   "id": "37630cc7-aa0a-4d29-a504-68a6996a9495",
   "metadata": {
    "tags": []
   },
   "outputs": [
    {
     "data": {
      "text/html": [
       "<div>\n",
       "<style scoped>\n",
       "    .dataframe tbody tr th:only-of-type {\n",
       "        vertical-align: middle;\n",
       "    }\n",
       "\n",
       "    .dataframe tbody tr th {\n",
       "        vertical-align: top;\n",
       "    }\n",
       "\n",
       "    .dataframe thead th {\n",
       "        text-align: right;\n",
       "    }\n",
       "</style>\n",
       "<table border=\"1\" class=\"dataframe\">\n",
       "  <thead>\n",
       "    <tr style=\"text-align: right;\">\n",
       "      <th></th>\n",
       "      <th>itemname</th>\n",
       "      <th>Category</th>\n",
       "      <th>quantity</th>\n",
       "      <th>latitude</th>\n",
       "      <th>longitude</th>\n",
       "      <th>altitude</th>\n",
       "      <th>field_7</th>\n",
       "      <th>data_origin</th>\n",
       "    </tr>\n",
       "  </thead>\n",
       "  <tbody>\n",
       "    <tr>\n",
       "      <th>0</th>\n",
       "      <td>Cartón recubierto</td>\n",
       "      <td>Carton</td>\n",
       "      <td>1</td>\n",
       "      <td>25.641006</td>\n",
       "      <td>-100.310754</td>\n",
       "      <td>573.351175</td>\n",
       "      <td>NaN</td>\n",
       "      <td>punto 3.csv</td>\n",
       "    </tr>\n",
       "  </tbody>\n",
       "</table>\n",
       "</div>"
      ],
      "text/plain": [
       "            itemname Category  quantity   latitude   longitude    altitude  \\\n",
       "0  Cartón recubierto   Carton         1  25.641006 -100.310754  573.351175   \n",
       "\n",
       "   field_7  data_origin  \n",
       "0      NaN  punto 3.csv  "
      ]
     },
     "execution_count": 19,
     "metadata": {},
     "output_type": "execute_result"
    }
   ],
   "source": [
    "doc_punto_3.head(1)"
   ]
  },
  {
   "cell_type": "code",
   "execution_count": 20,
   "id": "aec21aad-6e92-4736-923e-aee8e5576f3f",
   "metadata": {
    "tags": []
   },
   "outputs": [
    {
     "name": "stdout",
     "output_type": "stream",
     "text": [
      "(180, 8)\n"
     ]
    },
    {
     "data": {
      "text/html": [
       "<div>\n",
       "<style scoped>\n",
       "    .dataframe tbody tr th:only-of-type {\n",
       "        vertical-align: middle;\n",
       "    }\n",
       "\n",
       "    .dataframe tbody tr th {\n",
       "        vertical-align: top;\n",
       "    }\n",
       "\n",
       "    .dataframe thead th {\n",
       "        text-align: right;\n",
       "    }\n",
       "</style>\n",
       "<table border=\"1\" class=\"dataframe\">\n",
       "  <thead>\n",
       "    <tr style=\"text-align: right;\">\n",
       "      <th></th>\n",
       "      <th>itemname</th>\n",
       "      <th>tipo</th>\n",
       "      <th>material</th>\n",
       "      <th>quantity</th>\n",
       "      <th>latitude</th>\n",
       "      <th>longitude</th>\n",
       "      <th>altitude</th>\n",
       "      <th>data_origin</th>\n",
       "    </tr>\n",
       "  </thead>\n",
       "  <tbody>\n",
       "    <tr>\n",
       "      <th>0</th>\n",
       "      <td>Cartón recubierto</td>\n",
       "      <td>NaN</td>\n",
       "      <td>Carton</td>\n",
       "      <td>1</td>\n",
       "      <td>25.641006</td>\n",
       "      <td>-100.310754</td>\n",
       "      <td>573.351175</td>\n",
       "      <td>punto 3.csv</td>\n",
       "    </tr>\n",
       "    <tr>\n",
       "      <th>1</th>\n",
       "      <td>Cartón recubierto</td>\n",
       "      <td>NaN</td>\n",
       "      <td>Carton</td>\n",
       "      <td>1</td>\n",
       "      <td>25.640935</td>\n",
       "      <td>-100.310646</td>\n",
       "      <td>573.351175</td>\n",
       "      <td>punto 3.csv</td>\n",
       "    </tr>\n",
       "  </tbody>\n",
       "</table>\n",
       "</div>"
      ],
      "text/plain": [
       "            itemname  tipo material  quantity   latitude   longitude  \\\n",
       "0  Cartón recubierto   NaN   Carton         1  25.641006 -100.310754   \n",
       "1  Cartón recubierto   NaN   Carton         1  25.640935 -100.310646   \n",
       "\n",
       "     altitude  data_origin  \n",
       "0  573.351175  punto 3.csv  \n",
       "1  573.351175  punto 3.csv  "
      ]
     },
     "execution_count": 20,
     "metadata": {},
     "output_type": "execute_result"
    }
   ],
   "source": [
    "doc_punto_3_f = doc_punto_3.copy()\n",
    "doc_punto_3_f['tipo'] = np.nan\n",
    "doc_punto_3_f.rename(columns={'Category':'material'},inplace=True)\n",
    "doc_punto_3_f = doc_punto_3_f[columns_tokeep]\n",
    "\n",
    "# Show\n",
    "print(doc_punto_3_f.shape)\n",
    "doc_punto_3_f.head(2)"
   ]
  },
  {
   "cell_type": "markdown",
   "id": "9451f692-2356-417b-a09b-8d2dbae5f4e8",
   "metadata": {
    "jp-MarkdownHeadingCollapsed": true,
    "tags": []
   },
   "source": [
    "#### Data treatment - punto 4.csv"
   ]
  },
  {
   "cell_type": "code",
   "execution_count": 21,
   "id": "b7d087f3-5c6e-4aa9-b97a-5edddbed9d7e",
   "metadata": {
    "tags": []
   },
   "outputs": [
    {
     "data": {
      "text/html": [
       "<div>\n",
       "<style scoped>\n",
       "    .dataframe tbody tr th:only-of-type {\n",
       "        vertical-align: middle;\n",
       "    }\n",
       "\n",
       "    .dataframe tbody tr th {\n",
       "        vertical-align: top;\n",
       "    }\n",
       "\n",
       "    .dataframe thead th {\n",
       "        text-align: right;\n",
       "    }\n",
       "</style>\n",
       "<table border=\"1\" class=\"dataframe\">\n",
       "  <thead>\n",
       "    <tr style=\"text-align: right;\">\n",
       "      <th></th>\n",
       "      <th>itemname</th>\n",
       "      <th>Category</th>\n",
       "      <th>quantity</th>\n",
       "      <th>latitude</th>\n",
       "      <th>longitude</th>\n",
       "      <th>altitude</th>\n",
       "      <th>field_7</th>\n",
       "      <th>data_origin</th>\n",
       "    </tr>\n",
       "  </thead>\n",
       "  <tbody>\n",
       "    <tr>\n",
       "      <th>0</th>\n",
       "      <td>Latas de aluminio o estaño</td>\n",
       "      <td>Aluminio</td>\n",
       "      <td>1</td>\n",
       "      <td>25.639487</td>\n",
       "      <td>-100.309424</td>\n",
       "      <td>572.535219</td>\n",
       "      <td>NaN</td>\n",
       "      <td>punto 4.csv</td>\n",
       "    </tr>\n",
       "  </tbody>\n",
       "</table>\n",
       "</div>"
      ],
      "text/plain": [
       "                     itemname  Category  quantity   latitude   longitude  \\\n",
       "0  Latas de aluminio o estaño  Aluminio         1  25.639487 -100.309424   \n",
       "\n",
       "     altitude  field_7  data_origin  \n",
       "0  572.535219      NaN  punto 4.csv  "
      ]
     },
     "execution_count": 21,
     "metadata": {},
     "output_type": "execute_result"
    }
   ],
   "source": [
    "doc_punto_4.head(1)"
   ]
  },
  {
   "cell_type": "code",
   "execution_count": 22,
   "id": "2ee80794-5d9e-420d-96fe-1e264a342a94",
   "metadata": {
    "tags": []
   },
   "outputs": [
    {
     "name": "stdout",
     "output_type": "stream",
     "text": [
      "(61, 8)\n"
     ]
    },
    {
     "data": {
      "text/html": [
       "<div>\n",
       "<style scoped>\n",
       "    .dataframe tbody tr th:only-of-type {\n",
       "        vertical-align: middle;\n",
       "    }\n",
       "\n",
       "    .dataframe tbody tr th {\n",
       "        vertical-align: top;\n",
       "    }\n",
       "\n",
       "    .dataframe thead th {\n",
       "        text-align: right;\n",
       "    }\n",
       "</style>\n",
       "<table border=\"1\" class=\"dataframe\">\n",
       "  <thead>\n",
       "    <tr style=\"text-align: right;\">\n",
       "      <th></th>\n",
       "      <th>itemname</th>\n",
       "      <th>tipo</th>\n",
       "      <th>material</th>\n",
       "      <th>quantity</th>\n",
       "      <th>latitude</th>\n",
       "      <th>longitude</th>\n",
       "      <th>altitude</th>\n",
       "      <th>data_origin</th>\n",
       "    </tr>\n",
       "  </thead>\n",
       "  <tbody>\n",
       "    <tr>\n",
       "      <th>0</th>\n",
       "      <td>Latas de aluminio o estaño</td>\n",
       "      <td>NaN</td>\n",
       "      <td>Aluminio</td>\n",
       "      <td>1</td>\n",
       "      <td>25.639487</td>\n",
       "      <td>-100.309424</td>\n",
       "      <td>572.535219</td>\n",
       "      <td>punto 4.csv</td>\n",
       "    </tr>\n",
       "    <tr>\n",
       "      <th>1</th>\n",
       "      <td>Latas de aluminio o estaño</td>\n",
       "      <td>NaN</td>\n",
       "      <td>Aluminio</td>\n",
       "      <td>1</td>\n",
       "      <td>25.639592</td>\n",
       "      <td>-100.309716</td>\n",
       "      <td>573.351175</td>\n",
       "      <td>punto 4.csv</td>\n",
       "    </tr>\n",
       "  </tbody>\n",
       "</table>\n",
       "</div>"
      ],
      "text/plain": [
       "                     itemname  tipo  material  quantity   latitude  \\\n",
       "0  Latas de aluminio o estaño   NaN  Aluminio         1  25.639487   \n",
       "1  Latas de aluminio o estaño   NaN  Aluminio         1  25.639592   \n",
       "\n",
       "    longitude    altitude  data_origin  \n",
       "0 -100.309424  572.535219  punto 4.csv  \n",
       "1 -100.309716  573.351175  punto 4.csv  "
      ]
     },
     "execution_count": 22,
     "metadata": {},
     "output_type": "execute_result"
    }
   ],
   "source": [
    "doc_punto_4_f = doc_punto_4.copy()\n",
    "doc_punto_4_f['tipo'] = np.nan\n",
    "doc_punto_4_f.rename(columns={'Category':'material'},inplace=True)\n",
    "doc_punto_4_f = doc_punto_4_f[columns_tokeep]\n",
    "\n",
    "# Show\n",
    "print(doc_punto_4_f.shape)\n",
    "doc_punto_4_f.head(2)"
   ]
  },
  {
   "cell_type": "markdown",
   "id": "f5ed7ab3-ea32-4e76-a264-c9c798d5ed0a",
   "metadata": {
    "jp-MarkdownHeadingCollapsed": true,
    "tags": []
   },
   "source": [
    "#### Data treatment - punto 5.csv"
   ]
  },
  {
   "cell_type": "code",
   "execution_count": 23,
   "id": "9e80970a-92a6-427b-ab24-9a4a55cea020",
   "metadata": {
    "tags": []
   },
   "outputs": [
    {
     "data": {
      "text/html": [
       "<div>\n",
       "<style scoped>\n",
       "    .dataframe tbody tr th:only-of-type {\n",
       "        vertical-align: middle;\n",
       "    }\n",
       "\n",
       "    .dataframe tbody tr th {\n",
       "        vertical-align: top;\n",
       "    }\n",
       "\n",
       "    .dataframe thead th {\n",
       "        text-align: right;\n",
       "    }\n",
       "</style>\n",
       "<table border=\"1\" class=\"dataframe\">\n",
       "  <thead>\n",
       "    <tr style=\"text-align: right;\">\n",
       "      <th></th>\n",
       "      <th>itemname</th>\n",
       "      <th>Category</th>\n",
       "      <th>quantity</th>\n",
       "      <th>latitude</th>\n",
       "      <th>longitude</th>\n",
       "      <th>altitude</th>\n",
       "      <th>field_7</th>\n",
       "      <th>data_origin</th>\n",
       "    </tr>\n",
       "  </thead>\n",
       "  <tbody>\n",
       "    <tr>\n",
       "      <th>0</th>\n",
       "      <td>Latas de aluminio o estaño</td>\n",
       "      <td>Aluminio</td>\n",
       "      <td>1</td>\n",
       "      <td>25.640303</td>\n",
       "      <td>-100.30339</td>\n",
       "      <td>562.19939</td>\n",
       "      <td>NaN</td>\n",
       "      <td>punto 5.csv</td>\n",
       "    </tr>\n",
       "  </tbody>\n",
       "</table>\n",
       "</div>"
      ],
      "text/plain": [
       "                     itemname  Category  quantity   latitude  longitude  \\\n",
       "0  Latas de aluminio o estaño  Aluminio         1  25.640303 -100.30339   \n",
       "\n",
       "    altitude  field_7  data_origin  \n",
       "0  562.19939      NaN  punto 5.csv  "
      ]
     },
     "execution_count": 23,
     "metadata": {},
     "output_type": "execute_result"
    }
   ],
   "source": [
    "doc_punto_5.head(1)"
   ]
  },
  {
   "cell_type": "code",
   "execution_count": 24,
   "id": "8e7a5f19-1bce-404a-8f79-6b034c91bd7e",
   "metadata": {
    "tags": []
   },
   "outputs": [
    {
     "name": "stdout",
     "output_type": "stream",
     "text": [
      "(416, 8)\n"
     ]
    },
    {
     "data": {
      "text/html": [
       "<div>\n",
       "<style scoped>\n",
       "    .dataframe tbody tr th:only-of-type {\n",
       "        vertical-align: middle;\n",
       "    }\n",
       "\n",
       "    .dataframe tbody tr th {\n",
       "        vertical-align: top;\n",
       "    }\n",
       "\n",
       "    .dataframe thead th {\n",
       "        text-align: right;\n",
       "    }\n",
       "</style>\n",
       "<table border=\"1\" class=\"dataframe\">\n",
       "  <thead>\n",
       "    <tr style=\"text-align: right;\">\n",
       "      <th></th>\n",
       "      <th>itemname</th>\n",
       "      <th>tipo</th>\n",
       "      <th>material</th>\n",
       "      <th>quantity</th>\n",
       "      <th>latitude</th>\n",
       "      <th>longitude</th>\n",
       "      <th>altitude</th>\n",
       "      <th>data_origin</th>\n",
       "    </tr>\n",
       "  </thead>\n",
       "  <tbody>\n",
       "    <tr>\n",
       "      <th>0</th>\n",
       "      <td>Latas de aluminio o estaño</td>\n",
       "      <td>NaN</td>\n",
       "      <td>Aluminio</td>\n",
       "      <td>1</td>\n",
       "      <td>25.640303</td>\n",
       "      <td>-100.303390</td>\n",
       "      <td>562.199390</td>\n",
       "      <td>punto 5.csv</td>\n",
       "    </tr>\n",
       "    <tr>\n",
       "      <th>1</th>\n",
       "      <td>Papel de aluminio</td>\n",
       "      <td>NaN</td>\n",
       "      <td>Aluminio</td>\n",
       "      <td>1</td>\n",
       "      <td>25.640279</td>\n",
       "      <td>-100.303387</td>\n",
       "      <td>562.986032</td>\n",
       "      <td>punto 5.csv</td>\n",
       "    </tr>\n",
       "  </tbody>\n",
       "</table>\n",
       "</div>"
      ],
      "text/plain": [
       "                     itemname  tipo  material  quantity   latitude  \\\n",
       "0  Latas de aluminio o estaño   NaN  Aluminio         1  25.640303   \n",
       "1           Papel de aluminio   NaN  Aluminio         1  25.640279   \n",
       "\n",
       "    longitude    altitude  data_origin  \n",
       "0 -100.303390  562.199390  punto 5.csv  \n",
       "1 -100.303387  562.986032  punto 5.csv  "
      ]
     },
     "execution_count": 24,
     "metadata": {},
     "output_type": "execute_result"
    }
   ],
   "source": [
    "doc_punto_5_f = doc_punto_5.copy()\n",
    "doc_punto_5_f['tipo'] = np.nan\n",
    "doc_punto_5_f.rename(columns={'Category':'material'},inplace=True)\n",
    "doc_punto_5_f = doc_punto_5_f[columns_tokeep]\n",
    "\n",
    "# Show\n",
    "print(doc_punto_5_f.shape)\n",
    "doc_punto_5_f.head(2)"
   ]
  },
  {
   "cell_type": "markdown",
   "id": "c37ec758-f004-46c9-82ef-e6c64c0de39a",
   "metadata": {
    "jp-MarkdownHeadingCollapsed": true,
    "tags": []
   },
   "source": [
    "#### Data treatment - punto 6.csv"
   ]
  },
  {
   "cell_type": "code",
   "execution_count": 25,
   "id": "480f8664-d6f5-4a84-9f46-6a8811279418",
   "metadata": {
    "tags": []
   },
   "outputs": [
    {
     "data": {
      "text/html": [
       "<div>\n",
       "<style scoped>\n",
       "    .dataframe tbody tr th:only-of-type {\n",
       "        vertical-align: middle;\n",
       "    }\n",
       "\n",
       "    .dataframe tbody tr th {\n",
       "        vertical-align: top;\n",
       "    }\n",
       "\n",
       "    .dataframe thead th {\n",
       "        text-align: right;\n",
       "    }\n",
       "</style>\n",
       "<table border=\"1\" class=\"dataframe\">\n",
       "  <thead>\n",
       "    <tr style=\"text-align: right;\">\n",
       "      <th></th>\n",
       "      <th>itemname</th>\n",
       "      <th>Category</th>\n",
       "      <th>quantity</th>\n",
       "      <th>latitude</th>\n",
       "      <th>longitude</th>\n",
       "      <th>altitude</th>\n",
       "      <th>field_7</th>\n",
       "      <th>data_origin</th>\n",
       "    </tr>\n",
       "  </thead>\n",
       "  <tbody>\n",
       "    <tr>\n",
       "      <th>0</th>\n",
       "      <td>Latas de aluminio o estaño</td>\n",
       "      <td>Aluminio</td>\n",
       "      <td>1</td>\n",
       "      <td>25.641152</td>\n",
       "      <td>-100.293677</td>\n",
       "      <td>530.300049</td>\n",
       "      <td>NaN</td>\n",
       "      <td>punto 6.csv</td>\n",
       "    </tr>\n",
       "  </tbody>\n",
       "</table>\n",
       "</div>"
      ],
      "text/plain": [
       "                     itemname  Category  quantity   latitude   longitude  \\\n",
       "0  Latas de aluminio o estaño  Aluminio         1  25.641152 -100.293677   \n",
       "\n",
       "     altitude  field_7  data_origin  \n",
       "0  530.300049      NaN  punto 6.csv  "
      ]
     },
     "execution_count": 25,
     "metadata": {},
     "output_type": "execute_result"
    }
   ],
   "source": [
    "doc_punto_6.head(1)"
   ]
  },
  {
   "cell_type": "code",
   "execution_count": 26,
   "id": "5c0b3f5c-20db-4015-9cdf-465616dc2e29",
   "metadata": {
    "tags": []
   },
   "outputs": [
    {
     "name": "stdout",
     "output_type": "stream",
     "text": [
      "(450, 8)\n"
     ]
    },
    {
     "data": {
      "text/html": [
       "<div>\n",
       "<style scoped>\n",
       "    .dataframe tbody tr th:only-of-type {\n",
       "        vertical-align: middle;\n",
       "    }\n",
       "\n",
       "    .dataframe tbody tr th {\n",
       "        vertical-align: top;\n",
       "    }\n",
       "\n",
       "    .dataframe thead th {\n",
       "        text-align: right;\n",
       "    }\n",
       "</style>\n",
       "<table border=\"1\" class=\"dataframe\">\n",
       "  <thead>\n",
       "    <tr style=\"text-align: right;\">\n",
       "      <th></th>\n",
       "      <th>itemname</th>\n",
       "      <th>tipo</th>\n",
       "      <th>material</th>\n",
       "      <th>quantity</th>\n",
       "      <th>latitude</th>\n",
       "      <th>longitude</th>\n",
       "      <th>altitude</th>\n",
       "      <th>data_origin</th>\n",
       "    </tr>\n",
       "  </thead>\n",
       "  <tbody>\n",
       "    <tr>\n",
       "      <th>0</th>\n",
       "      <td>Latas de aluminio o estaño</td>\n",
       "      <td>NaN</td>\n",
       "      <td>Aluminio</td>\n",
       "      <td>1</td>\n",
       "      <td>25.641152</td>\n",
       "      <td>-100.293677</td>\n",
       "      <td>530.300049</td>\n",
       "      <td>punto 6.csv</td>\n",
       "    </tr>\n",
       "    <tr>\n",
       "      <th>1</th>\n",
       "      <td>Papel de aluminio</td>\n",
       "      <td>NaN</td>\n",
       "      <td>Aluminio</td>\n",
       "      <td>1</td>\n",
       "      <td>25.640885</td>\n",
       "      <td>-100.293805</td>\n",
       "      <td>534.300049</td>\n",
       "      <td>punto 6.csv</td>\n",
       "    </tr>\n",
       "  </tbody>\n",
       "</table>\n",
       "</div>"
      ],
      "text/plain": [
       "                     itemname  tipo  material  quantity   latitude  \\\n",
       "0  Latas de aluminio o estaño   NaN  Aluminio         1  25.641152   \n",
       "1           Papel de aluminio   NaN  Aluminio         1  25.640885   \n",
       "\n",
       "    longitude    altitude  data_origin  \n",
       "0 -100.293677  530.300049  punto 6.csv  \n",
       "1 -100.293805  534.300049  punto 6.csv  "
      ]
     },
     "execution_count": 26,
     "metadata": {},
     "output_type": "execute_result"
    }
   ],
   "source": [
    "doc_punto_6_f = doc_punto_6.copy()\n",
    "doc_punto_6_f['tipo'] = np.nan\n",
    "doc_punto_6_f.rename(columns={'Category':'material'},inplace=True)\n",
    "doc_punto_6_f = doc_punto_6_f[columns_tokeep]\n",
    "\n",
    "# Show\n",
    "print(doc_punto_6_f.shape)\n",
    "doc_punto_6_f.head(2)"
   ]
  },
  {
   "cell_type": "markdown",
   "id": "8a18ce4a-35e1-4305-a93a-083be2b0858f",
   "metadata": {
    "jp-MarkdownHeadingCollapsed": true,
    "tags": []
   },
   "source": [
    "#### Data treatment - punto 7.csv"
   ]
  },
  {
   "cell_type": "code",
   "execution_count": 27,
   "id": "481bd37b-bf96-407a-b608-c71b48aadf76",
   "metadata": {
    "tags": []
   },
   "outputs": [
    {
     "data": {
      "text/html": [
       "<div>\n",
       "<style scoped>\n",
       "    .dataframe tbody tr th:only-of-type {\n",
       "        vertical-align: middle;\n",
       "    }\n",
       "\n",
       "    .dataframe tbody tr th {\n",
       "        vertical-align: top;\n",
       "    }\n",
       "\n",
       "    .dataframe thead th {\n",
       "        text-align: right;\n",
       "    }\n",
       "</style>\n",
       "<table border=\"1\" class=\"dataframe\">\n",
       "  <thead>\n",
       "    <tr style=\"text-align: right;\">\n",
       "      <th></th>\n",
       "      <th>itemname</th>\n",
       "      <th>Category</th>\n",
       "      <th>quantity</th>\n",
       "      <th>latitude</th>\n",
       "      <th>longitude</th>\n",
       "      <th>altitude</th>\n",
       "      <th>field_7</th>\n",
       "      <th>data_origin</th>\n",
       "    </tr>\n",
       "  </thead>\n",
       "  <tbody>\n",
       "    <tr>\n",
       "      <th>0</th>\n",
       "      <td>Latas de aluminio o estaño</td>\n",
       "      <td>Aluminio</td>\n",
       "      <td>1</td>\n",
       "      <td>25.656683</td>\n",
       "      <td>-100.283225</td>\n",
       "      <td>526.301173</td>\n",
       "      <td>NaN</td>\n",
       "      <td>punto 7.csv</td>\n",
       "    </tr>\n",
       "  </tbody>\n",
       "</table>\n",
       "</div>"
      ],
      "text/plain": [
       "                     itemname  Category  quantity   latitude   longitude  \\\n",
       "0  Latas de aluminio o estaño  Aluminio         1  25.656683 -100.283225   \n",
       "\n",
       "     altitude  field_7  data_origin  \n",
       "0  526.301173      NaN  punto 7.csv  "
      ]
     },
     "execution_count": 27,
     "metadata": {},
     "output_type": "execute_result"
    }
   ],
   "source": [
    "doc_punto_7.head(1)"
   ]
  },
  {
   "cell_type": "code",
   "execution_count": 28,
   "id": "f9c2fe68-df3f-4c20-bd76-5187b2f0bcb3",
   "metadata": {
    "tags": []
   },
   "outputs": [
    {
     "name": "stdout",
     "output_type": "stream",
     "text": [
      "(148, 8)\n"
     ]
    },
    {
     "data": {
      "text/html": [
       "<div>\n",
       "<style scoped>\n",
       "    .dataframe tbody tr th:only-of-type {\n",
       "        vertical-align: middle;\n",
       "    }\n",
       "\n",
       "    .dataframe tbody tr th {\n",
       "        vertical-align: top;\n",
       "    }\n",
       "\n",
       "    .dataframe thead th {\n",
       "        text-align: right;\n",
       "    }\n",
       "</style>\n",
       "<table border=\"1\" class=\"dataframe\">\n",
       "  <thead>\n",
       "    <tr style=\"text-align: right;\">\n",
       "      <th></th>\n",
       "      <th>itemname</th>\n",
       "      <th>tipo</th>\n",
       "      <th>material</th>\n",
       "      <th>quantity</th>\n",
       "      <th>latitude</th>\n",
       "      <th>longitude</th>\n",
       "      <th>altitude</th>\n",
       "      <th>data_origin</th>\n",
       "    </tr>\n",
       "  </thead>\n",
       "  <tbody>\n",
       "    <tr>\n",
       "      <th>0</th>\n",
       "      <td>Latas de aluminio o estaño</td>\n",
       "      <td>NaN</td>\n",
       "      <td>Aluminio</td>\n",
       "      <td>1</td>\n",
       "      <td>25.656683</td>\n",
       "      <td>-100.283225</td>\n",
       "      <td>526.301173</td>\n",
       "      <td>punto 7.csv</td>\n",
       "    </tr>\n",
       "    <tr>\n",
       "      <th>1</th>\n",
       "      <td>Latas de aluminio o estaño</td>\n",
       "      <td>NaN</td>\n",
       "      <td>Aluminio</td>\n",
       "      <td>1</td>\n",
       "      <td>25.656664</td>\n",
       "      <td>-100.283432</td>\n",
       "      <td>526.532977</td>\n",
       "      <td>punto 7.csv</td>\n",
       "    </tr>\n",
       "  </tbody>\n",
       "</table>\n",
       "</div>"
      ],
      "text/plain": [
       "                     itemname  tipo  material  quantity   latitude  \\\n",
       "0  Latas de aluminio o estaño   NaN  Aluminio         1  25.656683   \n",
       "1  Latas de aluminio o estaño   NaN  Aluminio         1  25.656664   \n",
       "\n",
       "    longitude    altitude  data_origin  \n",
       "0 -100.283225  526.301173  punto 7.csv  \n",
       "1 -100.283432  526.532977  punto 7.csv  "
      ]
     },
     "execution_count": 28,
     "metadata": {},
     "output_type": "execute_result"
    }
   ],
   "source": [
    "doc_punto_7_f = doc_punto_7.copy()\n",
    "doc_punto_7_f['tipo'] = np.nan\n",
    "doc_punto_7_f.rename(columns={'Category':'material'},inplace=True)\n",
    "doc_punto_7_f = doc_punto_7_f[columns_tokeep]\n",
    "\n",
    "# Show\n",
    "print(doc_punto_7_f.shape)\n",
    "doc_punto_7_f.head(2)"
   ]
  },
  {
   "cell_type": "markdown",
   "id": "67f78937-37a5-414c-b720-050a390d84f4",
   "metadata": {
    "jp-MarkdownHeadingCollapsed": true,
    "tags": []
   },
   "source": [
    "#### Data treatment - punto 8.csv"
   ]
  },
  {
   "cell_type": "code",
   "execution_count": 29,
   "id": "2529f711-76ba-4598-8c6f-0ea460ccc8f1",
   "metadata": {
    "tags": []
   },
   "outputs": [
    {
     "data": {
      "text/html": [
       "<div>\n",
       "<style scoped>\n",
       "    .dataframe tbody tr th:only-of-type {\n",
       "        vertical-align: middle;\n",
       "    }\n",
       "\n",
       "    .dataframe tbody tr th {\n",
       "        vertical-align: top;\n",
       "    }\n",
       "\n",
       "    .dataframe thead th {\n",
       "        text-align: right;\n",
       "    }\n",
       "</style>\n",
       "<table border=\"1\" class=\"dataframe\">\n",
       "  <thead>\n",
       "    <tr style=\"text-align: right;\">\n",
       "      <th></th>\n",
       "      <th>itemname</th>\n",
       "      <th>Category</th>\n",
       "      <th>quantity</th>\n",
       "      <th>latitude</th>\n",
       "      <th>longitude</th>\n",
       "      <th>altitude</th>\n",
       "      <th>field_7</th>\n",
       "      <th>data_origin</th>\n",
       "    </tr>\n",
       "  </thead>\n",
       "  <tbody>\n",
       "    <tr>\n",
       "      <th>0</th>\n",
       "      <td>Papel de aluminio</td>\n",
       "      <td>Aluminio</td>\n",
       "      <td>1</td>\n",
       "      <td>25.637287</td>\n",
       "      <td>-100.305609</td>\n",
       "      <td>571.355888</td>\n",
       "      <td>NaN</td>\n",
       "      <td>punto 8.csv</td>\n",
       "    </tr>\n",
       "  </tbody>\n",
       "</table>\n",
       "</div>"
      ],
      "text/plain": [
       "            itemname  Category  quantity   latitude   longitude    altitude  \\\n",
       "0  Papel de aluminio  Aluminio         1  25.637287 -100.305609  571.355888   \n",
       "\n",
       "   field_7  data_origin  \n",
       "0      NaN  punto 8.csv  "
      ]
     },
     "execution_count": 29,
     "metadata": {},
     "output_type": "execute_result"
    }
   ],
   "source": [
    "doc_punto_8.head(1)"
   ]
  },
  {
   "cell_type": "code",
   "execution_count": 30,
   "id": "1abb35e4-b648-40c9-a138-99d55cbcfa27",
   "metadata": {
    "tags": []
   },
   "outputs": [
    {
     "name": "stdout",
     "output_type": "stream",
     "text": [
      "(499, 8)\n"
     ]
    },
    {
     "data": {
      "text/html": [
       "<div>\n",
       "<style scoped>\n",
       "    .dataframe tbody tr th:only-of-type {\n",
       "        vertical-align: middle;\n",
       "    }\n",
       "\n",
       "    .dataframe tbody tr th {\n",
       "        vertical-align: top;\n",
       "    }\n",
       "\n",
       "    .dataframe thead th {\n",
       "        text-align: right;\n",
       "    }\n",
       "</style>\n",
       "<table border=\"1\" class=\"dataframe\">\n",
       "  <thead>\n",
       "    <tr style=\"text-align: right;\">\n",
       "      <th></th>\n",
       "      <th>itemname</th>\n",
       "      <th>tipo</th>\n",
       "      <th>material</th>\n",
       "      <th>quantity</th>\n",
       "      <th>latitude</th>\n",
       "      <th>longitude</th>\n",
       "      <th>altitude</th>\n",
       "      <th>data_origin</th>\n",
       "    </tr>\n",
       "  </thead>\n",
       "  <tbody>\n",
       "    <tr>\n",
       "      <th>0</th>\n",
       "      <td>Papel de aluminio</td>\n",
       "      <td>NaN</td>\n",
       "      <td>Aluminio</td>\n",
       "      <td>1</td>\n",
       "      <td>25.637287</td>\n",
       "      <td>-100.305609</td>\n",
       "      <td>571.355888</td>\n",
       "      <td>punto 8.csv</td>\n",
       "    </tr>\n",
       "    <tr>\n",
       "      <th>1</th>\n",
       "      <td>Papel de aluminio</td>\n",
       "      <td>NaN</td>\n",
       "      <td>Aluminio</td>\n",
       "      <td>1</td>\n",
       "      <td>25.637121</td>\n",
       "      <td>-100.305543</td>\n",
       "      <td>571.415097</td>\n",
       "      <td>punto 8.csv</td>\n",
       "    </tr>\n",
       "  </tbody>\n",
       "</table>\n",
       "</div>"
      ],
      "text/plain": [
       "            itemname  tipo  material  quantity   latitude   longitude  \\\n",
       "0  Papel de aluminio   NaN  Aluminio         1  25.637287 -100.305609   \n",
       "1  Papel de aluminio   NaN  Aluminio         1  25.637121 -100.305543   \n",
       "\n",
       "     altitude  data_origin  \n",
       "0  571.355888  punto 8.csv  \n",
       "1  571.415097  punto 8.csv  "
      ]
     },
     "execution_count": 30,
     "metadata": {},
     "output_type": "execute_result"
    }
   ],
   "source": [
    "doc_punto_8_f = doc_punto_8.copy()\n",
    "doc_punto_8_f['tipo'] = np.nan\n",
    "doc_punto_8_f.rename(columns={'Category':'material'},inplace=True)\n",
    "doc_punto_8_f = doc_punto_8_f[columns_tokeep]\n",
    "\n",
    "# Show\n",
    "print(doc_punto_8_f.shape)\n",
    "doc_punto_8_f.head(2)"
   ]
  },
  {
   "cell_type": "markdown",
   "id": "bfd883e5-a178-44df-99ee-f399348c371a",
   "metadata": {
    "jp-MarkdownHeadingCollapsed": true,
    "tags": []
   },
   "source": [
    "#### Data treatment - 2022_2023.csv"
   ]
  },
  {
   "cell_type": "code",
   "execution_count": 31,
   "id": "2b433546-7f34-4e2c-bfff-bf6fae134feb",
   "metadata": {
    "tags": []
   },
   "outputs": [
    {
     "data": {
      "text/html": [
       "<div>\n",
       "<style scoped>\n",
       "    .dataframe tbody tr th:only-of-type {\n",
       "        vertical-align: middle;\n",
       "    }\n",
       "\n",
       "    .dataframe tbody tr th {\n",
       "        vertical-align: top;\n",
       "    }\n",
       "\n",
       "    .dataframe thead th {\n",
       "        text-align: right;\n",
       "    }\n",
       "</style>\n",
       "<table border=\"1\" class=\"dataframe\">\n",
       "  <thead>\n",
       "    <tr style=\"text-align: right;\">\n",
       "      <th></th>\n",
       "      <th>itemname</th>\n",
       "      <th>material</th>\n",
       "      <th>Column1</th>\n",
       "      <th>quantity</th>\n",
       "      <th>latitude</th>\n",
       "      <th>longitude</th>\n",
       "      <th>altitude</th>\n",
       "      <th>radius</th>\n",
       "      <th>Column2</th>\n",
       "      <th>Column3</th>\n",
       "      <th>Column4</th>\n",
       "      <th>Column5</th>\n",
       "      <th>lat_fix</th>\n",
       "      <th>lon_fix</th>\n",
       "      <th>data_origin</th>\n",
       "    </tr>\n",
       "  </thead>\n",
       "  <tbody>\n",
       "    <tr>\n",
       "      <th>0</th>\n",
       "      <td>Bolsa de Plastico para comestibles</td>\n",
       "      <td>Productos Plasticos para Comida</td>\n",
       "      <td>Plastico</td>\n",
       "      <td>1</td>\n",
       "      <td>2564314581</td>\n",
       "      <td>-1003120089</td>\n",
       "      <td>6.062742e+09</td>\n",
       "      <td>4.710354e+09</td>\n",
       "      <td>25.643146</td>\n",
       "      <td>-100.312009</td>\n",
       "      <td>2564314581</td>\n",
       "      <td>-1003120089</td>\n",
       "      <td>25.643146</td>\n",
       "      <td>-100.312009</td>\n",
       "      <td>2022_2023.csv</td>\n",
       "    </tr>\n",
       "  </tbody>\n",
       "</table>\n",
       "</div>"
      ],
      "text/plain": [
       "                             itemname                         material  \\\n",
       "0  Bolsa de Plastico para comestibles  Productos Plasticos para Comida   \n",
       "\n",
       "    Column1  quantity    latitude   longitude      altitude        radius  \\\n",
       "0  Plastico         1  2564314581 -1003120089  6.062742e+09  4.710354e+09   \n",
       "\n",
       "     Column2     Column3     Column4     Column5    lat_fix     lon_fix  \\\n",
       "0  25.643146 -100.312009  2564314581 -1003120089  25.643146 -100.312009   \n",
       "\n",
       "     data_origin  \n",
       "0  2022_2023.csv  "
      ]
     },
     "execution_count": 31,
     "metadata": {},
     "output_type": "execute_result"
    }
   ],
   "source": [
    "doc_2022_2023.head(1)"
   ]
  },
  {
   "cell_type": "code",
   "execution_count": 32,
   "id": "35b11bdc-fb42-4d5e-ad56-e87f10c1610e",
   "metadata": {
    "tags": []
   },
   "outputs": [
    {
     "name": "stdout",
     "output_type": "stream",
     "text": [
      "(12360, 8)\n"
     ]
    },
    {
     "name": "stderr",
     "output_type": "stream",
     "text": [
      "/tmp/ipykernel_1256/3375308736.py:5: SettingWithCopyWarning: \n",
      "A value is trying to be set on a copy of a slice from a DataFrame\n",
      "\n",
      "See the caveats in the documentation: https://pandas.pydata.org/pandas-docs/stable/user_guide/indexing.html#returning-a-view-versus-a-copy\n",
      "  doc_2022_2023_f.rename(columns={'lat_fix':'latitude',\n"
     ]
    },
    {
     "data": {
      "text/html": [
       "<div>\n",
       "<style scoped>\n",
       "    .dataframe tbody tr th:only-of-type {\n",
       "        vertical-align: middle;\n",
       "    }\n",
       "\n",
       "    .dataframe tbody tr th {\n",
       "        vertical-align: top;\n",
       "    }\n",
       "\n",
       "    .dataframe thead th {\n",
       "        text-align: right;\n",
       "    }\n",
       "</style>\n",
       "<table border=\"1\" class=\"dataframe\">\n",
       "  <thead>\n",
       "    <tr style=\"text-align: right;\">\n",
       "      <th></th>\n",
       "      <th>itemname</th>\n",
       "      <th>tipo</th>\n",
       "      <th>material</th>\n",
       "      <th>quantity</th>\n",
       "      <th>latitude</th>\n",
       "      <th>longitude</th>\n",
       "      <th>altitude</th>\n",
       "      <th>data_origin</th>\n",
       "    </tr>\n",
       "  </thead>\n",
       "  <tbody>\n",
       "    <tr>\n",
       "      <th>0</th>\n",
       "      <td>Bolsa de Plastico para comestibles</td>\n",
       "      <td>Productos Plasticos para Comida</td>\n",
       "      <td>Plastico</td>\n",
       "      <td>1</td>\n",
       "      <td>25.643146</td>\n",
       "      <td>-100.312009</td>\n",
       "      <td>6.062742e+09</td>\n",
       "      <td>2022_2023.csv</td>\n",
       "    </tr>\n",
       "    <tr>\n",
       "      <th>1</th>\n",
       "      <td>Bolsa de Plastico para comestibles</td>\n",
       "      <td>Productos Plasticos para Comida</td>\n",
       "      <td>Plastico</td>\n",
       "      <td>1</td>\n",
       "      <td>25.643812</td>\n",
       "      <td>-100.310577</td>\n",
       "      <td>6.268501e+09</td>\n",
       "      <td>2022_2023.csv</td>\n",
       "    </tr>\n",
       "  </tbody>\n",
       "</table>\n",
       "</div>"
      ],
      "text/plain": [
       "                             itemname                             tipo  \\\n",
       "0  Bolsa de Plastico para comestibles  Productos Plasticos para Comida   \n",
       "1  Bolsa de Plastico para comestibles  Productos Plasticos para Comida   \n",
       "\n",
       "   material  quantity   latitude   longitude      altitude    data_origin  \n",
       "0  Plastico         1  25.643146 -100.312009  6.062742e+09  2022_2023.csv  \n",
       "1  Plastico         1  25.643812 -100.310577  6.268501e+09  2022_2023.csv  "
      ]
     },
     "execution_count": 32,
     "metadata": {},
     "output_type": "execute_result"
    }
   ],
   "source": [
    "# Additional internal cleaning. This csv is different.\n",
    "internal_cleaning = ['itemname','material','Column1','quantity','lat_fix','lon_fix','altitude','data_origin']\n",
    "doc_2022_2023_f = doc_2022_2023[internal_cleaning]\n",
    "\n",
    "doc_2022_2023_f.rename(columns={'lat_fix':'latitude',\n",
    "                              'lon_fix':'longitude'},inplace=True)\n",
    "\n",
    "\n",
    "doc_2022_2023_f2 = doc_2022_2023_f.loc[((doc_2022_2023_f.latitude < 26) & (doc_2022_2023_f.latitude > 25)) &\n",
    "                                       ((doc_2022_2023_f.longitude < -100) & (doc_2022_2023_f.latitude > -101))]\n",
    "\n",
    "# Regular formatting\n",
    "doc_2022_2023_f3 = doc_2022_2023_f2.copy()\n",
    "doc_2022_2023_f3.rename(columns={'material':'tipo',\n",
    "                                'Column1':'material'},inplace=True)\n",
    "doc_2022_2023_f3 = doc_2022_2023_f3[columns_tokeep]\n",
    "\n",
    "# Show\n",
    "print(doc_2022_2023_f3.shape)\n",
    "doc_2022_2023_f3.head(2)"
   ]
  },
  {
   "cell_type": "markdown",
   "id": "b85f9b01-1153-4ced-abb7-39f12ad23c84",
   "metadata": {
    "jp-MarkdownHeadingCollapsed": true,
    "tags": []
   },
   "source": [
    "### Batch 3"
   ]
  },
  {
   "cell_type": "code",
   "execution_count": 33,
   "id": "87344333-a3e1-4d38-8de1-37e029d36996",
   "metadata": {
    "tags": []
   },
   "outputs": [],
   "source": [
    "doc_01_01 = pd.read_csv(tmp_dir+'01_01.csv')\n",
    "doc_01_01['data_origin'] = '01_01.csv'\n",
    "\n",
    "doc_01_02 = pd.read_csv(tmp_dir+'01_02.csv')\n",
    "doc_01_02['data_origin'] = '01_02.csv'\n",
    "\n",
    "doc_02_01 = pd.read_csv(tmp_dir+'02_01.csv')\n",
    "doc_02_01['data_origin'] = '02_01.csv'\n",
    "\n",
    "doc_02_02 = pd.read_csv(tmp_dir+'02_02.csv')\n",
    "doc_02_02['data_origin'] = '02_02.csv'\n",
    "\n",
    "doc_03_01 = pd.read_csv(tmp_dir+'03_01.csv')\n",
    "doc_03_01['data_origin'] = '03_01.csv'\n",
    "\n",
    "doc_03_02 = pd.read_csv(tmp_dir+'03_02.csv')\n",
    "doc_03_02['data_origin'] = '03_02.csv'"
   ]
  },
  {
   "cell_type": "markdown",
   "id": "ea92b4cd-3003-467b-85b4-5ac8bcd024fa",
   "metadata": {
    "jp-MarkdownHeadingCollapsed": true,
    "tags": []
   },
   "source": [
    "#### Data treatment - 01_01.csv"
   ]
  },
  {
   "cell_type": "code",
   "execution_count": 35,
   "id": "21fc9cba-6879-458f-9f50-a3dacd8e2df4",
   "metadata": {
    "tags": []
   },
   "outputs": [
    {
     "data": {
      "text/html": [
       "<div>\n",
       "<style scoped>\n",
       "    .dataframe tbody tr th:only-of-type {\n",
       "        vertical-align: middle;\n",
       "    }\n",
       "\n",
       "    .dataframe tbody tr th {\n",
       "        vertical-align: top;\n",
       "    }\n",
       "\n",
       "    .dataframe thead th {\n",
       "        text-align: right;\n",
       "    }\n",
       "</style>\n",
       "<table border=\"1\" class=\"dataframe\">\n",
       "  <thead>\n",
       "    <tr style=\"text-align: right;\">\n",
       "      <th></th>\n",
       "      <th>itemname</th>\n",
       "      <th>material</th>\n",
       "      <th>tipo</th>\n",
       "      <th>quantity</th>\n",
       "      <th>latitude</th>\n",
       "      <th>longitude</th>\n",
       "      <th>altitude</th>\n",
       "      <th>data_origin</th>\n",
       "    </tr>\n",
       "  </thead>\n",
       "  <tbody>\n",
       "    <tr>\n",
       "      <th>0</th>\n",
       "      <td>Bolsa de plástico para comestibles</td>\n",
       "      <td>Productos Plásticos para Comida</td>\n",
       "      <td>Plastico</td>\n",
       "      <td>1</td>\n",
       "      <td>25.63975</td>\n",
       "      <td>-100.302499</td>\n",
       "      <td>570.187852</td>\n",
       "      <td>01_01.csv</td>\n",
       "    </tr>\n",
       "  </tbody>\n",
       "</table>\n",
       "</div>"
      ],
      "text/plain": [
       "                             itemname                         material  \\\n",
       "0  Bolsa de plástico para comestibles  Productos Plásticos para Comida   \n",
       "\n",
       "       tipo  quantity  latitude   longitude    altitude data_origin  \n",
       "0  Plastico         1  25.63975 -100.302499  570.187852   01_01.csv  "
      ]
     },
     "execution_count": 35,
     "metadata": {},
     "output_type": "execute_result"
    }
   ],
   "source": [
    "doc_01_01.head(1)"
   ]
  },
  {
   "cell_type": "code",
   "execution_count": 36,
   "id": "e4164a25-b8f0-4970-a53b-045956e03877",
   "metadata": {
    "tags": []
   },
   "outputs": [
    {
     "name": "stdout",
     "output_type": "stream",
     "text": [
      "(886, 8)\n"
     ]
    },
    {
     "data": {
      "text/html": [
       "<div>\n",
       "<style scoped>\n",
       "    .dataframe tbody tr th:only-of-type {\n",
       "        vertical-align: middle;\n",
       "    }\n",
       "\n",
       "    .dataframe tbody tr th {\n",
       "        vertical-align: top;\n",
       "    }\n",
       "\n",
       "    .dataframe thead th {\n",
       "        text-align: right;\n",
       "    }\n",
       "</style>\n",
       "<table border=\"1\" class=\"dataframe\">\n",
       "  <thead>\n",
       "    <tr style=\"text-align: right;\">\n",
       "      <th></th>\n",
       "      <th>itemname</th>\n",
       "      <th>tipo</th>\n",
       "      <th>material</th>\n",
       "      <th>quantity</th>\n",
       "      <th>latitude</th>\n",
       "      <th>longitude</th>\n",
       "      <th>altitude</th>\n",
       "      <th>data_origin</th>\n",
       "    </tr>\n",
       "  </thead>\n",
       "  <tbody>\n",
       "    <tr>\n",
       "      <th>0</th>\n",
       "      <td>Bolsa de plástico para comestibles</td>\n",
       "      <td>Productos Plásticos para Comida</td>\n",
       "      <td>Plastico</td>\n",
       "      <td>1</td>\n",
       "      <td>25.639750</td>\n",
       "      <td>-100.302499</td>\n",
       "      <td>570.187852</td>\n",
       "      <td>01_01.csv</td>\n",
       "    </tr>\n",
       "    <tr>\n",
       "      <th>1</th>\n",
       "      <td>Bolsa de plástico para comestibles</td>\n",
       "      <td>Productos Plásticos para Comida</td>\n",
       "      <td>Plastico</td>\n",
       "      <td>1</td>\n",
       "      <td>25.639572</td>\n",
       "      <td>-100.303028</td>\n",
       "      <td>566.861935</td>\n",
       "      <td>01_01.csv</td>\n",
       "    </tr>\n",
       "  </tbody>\n",
       "</table>\n",
       "</div>"
      ],
      "text/plain": [
       "                             itemname                             tipo  \\\n",
       "0  Bolsa de plástico para comestibles  Productos Plásticos para Comida   \n",
       "1  Bolsa de plástico para comestibles  Productos Plásticos para Comida   \n",
       "\n",
       "   material  quantity   latitude   longitude    altitude data_origin  \n",
       "0  Plastico         1  25.639750 -100.302499  570.187852   01_01.csv  \n",
       "1  Plastico         1  25.639572 -100.303028  566.861935   01_01.csv  "
      ]
     },
     "execution_count": 36,
     "metadata": {},
     "output_type": "execute_result"
    }
   ],
   "source": [
    "doc_01_01_f = doc_01_01.copy()\n",
    "doc_01_01_f.rename(columns={'material':'tipo',\n",
    "                            'tipo':'material'},inplace=True)\n",
    "doc_01_01_f = doc_01_01_f[columns_tokeep]\n",
    "\n",
    "# Show\n",
    "print(doc_01_01_f.shape)\n",
    "doc_01_01_f.head(2)"
   ]
  },
  {
   "cell_type": "markdown",
   "id": "bc97e756-0bcf-42b4-a602-7b896749104a",
   "metadata": {
    "jp-MarkdownHeadingCollapsed": true,
    "tags": []
   },
   "source": [
    "#### Data treatment - 01_02.csv"
   ]
  },
  {
   "cell_type": "code",
   "execution_count": 37,
   "id": "7cdaff48-ef6d-4418-a7f0-b92b7f5ac625",
   "metadata": {
    "tags": []
   },
   "outputs": [
    {
     "data": {
      "text/html": [
       "<div>\n",
       "<style scoped>\n",
       "    .dataframe tbody tr th:only-of-type {\n",
       "        vertical-align: middle;\n",
       "    }\n",
       "\n",
       "    .dataframe tbody tr th {\n",
       "        vertical-align: top;\n",
       "    }\n",
       "\n",
       "    .dataframe thead th {\n",
       "        text-align: right;\n",
       "    }\n",
       "</style>\n",
       "<table border=\"1\" class=\"dataframe\">\n",
       "  <thead>\n",
       "    <tr style=\"text-align: right;\">\n",
       "      <th></th>\n",
       "      <th>itemname</th>\n",
       "      <th>material</th>\n",
       "      <th>tipo</th>\n",
       "      <th>quantity</th>\n",
       "      <th>latitude</th>\n",
       "      <th>longitude</th>\n",
       "      <th>altitude</th>\n",
       "      <th>data_origin</th>\n",
       "    </tr>\n",
       "  </thead>\n",
       "  <tbody>\n",
       "    <tr>\n",
       "      <th>0</th>\n",
       "      <td>Bolsa de Plastico para comestibles</td>\n",
       "      <td>Productos Plasticos para Comida</td>\n",
       "      <td>Plastico</td>\n",
       "      <td>1</td>\n",
       "      <td>25.638845</td>\n",
       "      <td>-100.304293</td>\n",
       "      <td>546.100037</td>\n",
       "      <td>01_02.csv</td>\n",
       "    </tr>\n",
       "  </tbody>\n",
       "</table>\n",
       "</div>"
      ],
      "text/plain": [
       "                             itemname                         material  \\\n",
       "0  Bolsa de Plastico para comestibles  Productos Plasticos para Comida   \n",
       "\n",
       "       tipo  quantity   latitude   longitude    altitude data_origin  \n",
       "0  Plastico         1  25.638845 -100.304293  546.100037   01_02.csv  "
      ]
     },
     "execution_count": 37,
     "metadata": {},
     "output_type": "execute_result"
    }
   ],
   "source": [
    "doc_01_02.head(1)"
   ]
  },
  {
   "cell_type": "code",
   "execution_count": 38,
   "id": "e95de669-e89d-42ff-a9b6-2a8533153f16",
   "metadata": {
    "tags": []
   },
   "outputs": [
    {
     "name": "stdout",
     "output_type": "stream",
     "text": [
      "(2093, 8)\n"
     ]
    },
    {
     "data": {
      "text/html": [
       "<div>\n",
       "<style scoped>\n",
       "    .dataframe tbody tr th:only-of-type {\n",
       "        vertical-align: middle;\n",
       "    }\n",
       "\n",
       "    .dataframe tbody tr th {\n",
       "        vertical-align: top;\n",
       "    }\n",
       "\n",
       "    .dataframe thead th {\n",
       "        text-align: right;\n",
       "    }\n",
       "</style>\n",
       "<table border=\"1\" class=\"dataframe\">\n",
       "  <thead>\n",
       "    <tr style=\"text-align: right;\">\n",
       "      <th></th>\n",
       "      <th>itemname</th>\n",
       "      <th>tipo</th>\n",
       "      <th>material</th>\n",
       "      <th>quantity</th>\n",
       "      <th>latitude</th>\n",
       "      <th>longitude</th>\n",
       "      <th>altitude</th>\n",
       "      <th>data_origin</th>\n",
       "    </tr>\n",
       "  </thead>\n",
       "  <tbody>\n",
       "    <tr>\n",
       "      <th>0</th>\n",
       "      <td>Bolsa de Plastico para comestibles</td>\n",
       "      <td>Productos Plasticos para Comida</td>\n",
       "      <td>Plastico</td>\n",
       "      <td>1</td>\n",
       "      <td>25.638845</td>\n",
       "      <td>-100.304293</td>\n",
       "      <td>546.100037</td>\n",
       "      <td>01_02.csv</td>\n",
       "    </tr>\n",
       "    <tr>\n",
       "      <th>1</th>\n",
       "      <td>Bolsa de Plastico para comestibles</td>\n",
       "      <td>Productos Plasticos para Comida</td>\n",
       "      <td>Plastico</td>\n",
       "      <td>1</td>\n",
       "      <td>25.638845</td>\n",
       "      <td>-100.304293</td>\n",
       "      <td>546.100037</td>\n",
       "      <td>01_02.csv</td>\n",
       "    </tr>\n",
       "  </tbody>\n",
       "</table>\n",
       "</div>"
      ],
      "text/plain": [
       "                             itemname                             tipo  \\\n",
       "0  Bolsa de Plastico para comestibles  Productos Plasticos para Comida   \n",
       "1  Bolsa de Plastico para comestibles  Productos Plasticos para Comida   \n",
       "\n",
       "   material  quantity   latitude   longitude    altitude data_origin  \n",
       "0  Plastico         1  25.638845 -100.304293  546.100037   01_02.csv  \n",
       "1  Plastico         1  25.638845 -100.304293  546.100037   01_02.csv  "
      ]
     },
     "execution_count": 38,
     "metadata": {},
     "output_type": "execute_result"
    }
   ],
   "source": [
    "doc_01_02_f = doc_01_02.copy()\n",
    "doc_01_02_f.rename(columns={'material':'tipo',\n",
    "                            'tipo':'material'},inplace=True)\n",
    "doc_01_02_f = doc_01_02_f[columns_tokeep]\n",
    "\n",
    "# Show\n",
    "print(doc_01_02_f.shape)\n",
    "doc_01_02_f.head(2)"
   ]
  },
  {
   "cell_type": "markdown",
   "id": "3c763eb5-79d8-4f73-915e-8d1ab877ac6c",
   "metadata": {
    "jp-MarkdownHeadingCollapsed": true,
    "tags": []
   },
   "source": [
    "#### Data treatment - 02_01.csv"
   ]
  },
  {
   "cell_type": "code",
   "execution_count": 39,
   "id": "7398a4ba-e504-4aee-9490-a454d61c4798",
   "metadata": {
    "tags": []
   },
   "outputs": [
    {
     "data": {
      "text/html": [
       "<div>\n",
       "<style scoped>\n",
       "    .dataframe tbody tr th:only-of-type {\n",
       "        vertical-align: middle;\n",
       "    }\n",
       "\n",
       "    .dataframe tbody tr th {\n",
       "        vertical-align: top;\n",
       "    }\n",
       "\n",
       "    .dataframe thead th {\n",
       "        text-align: right;\n",
       "    }\n",
       "</style>\n",
       "<table border=\"1\" class=\"dataframe\">\n",
       "  <thead>\n",
       "    <tr style=\"text-align: right;\">\n",
       "      <th></th>\n",
       "      <th>itemname</th>\n",
       "      <th>material</th>\n",
       "      <th>tipo</th>\n",
       "      <th>quantity</th>\n",
       "      <th>latitude</th>\n",
       "      <th>longitude</th>\n",
       "      <th>altitude</th>\n",
       "      <th>data_origin</th>\n",
       "    </tr>\n",
       "  </thead>\n",
       "  <tbody>\n",
       "    <tr>\n",
       "      <th>0</th>\n",
       "      <td>Bolsa de Plastico para comestibles</td>\n",
       "      <td>Productos Plasticos para Comida</td>\n",
       "      <td>Plastico</td>\n",
       "      <td>1</td>\n",
       "      <td>25.641024</td>\n",
       "      <td>-100.310774</td>\n",
       "      <td>574.64481</td>\n",
       "      <td>02_01.csv</td>\n",
       "    </tr>\n",
       "  </tbody>\n",
       "</table>\n",
       "</div>"
      ],
      "text/plain": [
       "                             itemname                         material  \\\n",
       "0  Bolsa de Plastico para comestibles  Productos Plasticos para Comida   \n",
       "\n",
       "       tipo  quantity   latitude   longitude   altitude data_origin  \n",
       "0  Plastico         1  25.641024 -100.310774  574.64481   02_01.csv  "
      ]
     },
     "execution_count": 39,
     "metadata": {},
     "output_type": "execute_result"
    }
   ],
   "source": [
    "doc_02_01.head(1)"
   ]
  },
  {
   "cell_type": "code",
   "execution_count": 40,
   "id": "9e96a2ef-ffe2-4870-bf54-e71766443e9d",
   "metadata": {
    "tags": []
   },
   "outputs": [
    {
     "name": "stdout",
     "output_type": "stream",
     "text": [
      "(991, 8)\n"
     ]
    },
    {
     "data": {
      "text/html": [
       "<div>\n",
       "<style scoped>\n",
       "    .dataframe tbody tr th:only-of-type {\n",
       "        vertical-align: middle;\n",
       "    }\n",
       "\n",
       "    .dataframe tbody tr th {\n",
       "        vertical-align: top;\n",
       "    }\n",
       "\n",
       "    .dataframe thead th {\n",
       "        text-align: right;\n",
       "    }\n",
       "</style>\n",
       "<table border=\"1\" class=\"dataframe\">\n",
       "  <thead>\n",
       "    <tr style=\"text-align: right;\">\n",
       "      <th></th>\n",
       "      <th>itemname</th>\n",
       "      <th>tipo</th>\n",
       "      <th>material</th>\n",
       "      <th>quantity</th>\n",
       "      <th>latitude</th>\n",
       "      <th>longitude</th>\n",
       "      <th>altitude</th>\n",
       "      <th>data_origin</th>\n",
       "    </tr>\n",
       "  </thead>\n",
       "  <tbody>\n",
       "    <tr>\n",
       "      <th>0</th>\n",
       "      <td>Bolsa de Plastico para comestibles</td>\n",
       "      <td>Productos Plasticos para Comida</td>\n",
       "      <td>Plastico</td>\n",
       "      <td>1</td>\n",
       "      <td>25.641024</td>\n",
       "      <td>-100.310774</td>\n",
       "      <td>574.644810</td>\n",
       "      <td>02_01.csv</td>\n",
       "    </tr>\n",
       "    <tr>\n",
       "      <th>1</th>\n",
       "      <td>Bolsa de Plastico para comestibles</td>\n",
       "      <td>Productos Plasticos para Comida</td>\n",
       "      <td>Plastico</td>\n",
       "      <td>1</td>\n",
       "      <td>25.640954</td>\n",
       "      <td>-100.310654</td>\n",
       "      <td>573.157998</td>\n",
       "      <td>02_01.csv</td>\n",
       "    </tr>\n",
       "  </tbody>\n",
       "</table>\n",
       "</div>"
      ],
      "text/plain": [
       "                             itemname                             tipo  \\\n",
       "0  Bolsa de Plastico para comestibles  Productos Plasticos para Comida   \n",
       "1  Bolsa de Plastico para comestibles  Productos Plasticos para Comida   \n",
       "\n",
       "   material  quantity   latitude   longitude    altitude data_origin  \n",
       "0  Plastico         1  25.641024 -100.310774  574.644810   02_01.csv  \n",
       "1  Plastico         1  25.640954 -100.310654  573.157998   02_01.csv  "
      ]
     },
     "execution_count": 40,
     "metadata": {},
     "output_type": "execute_result"
    }
   ],
   "source": [
    "doc_02_01_f = doc_02_01.copy()\n",
    "doc_02_01_f.rename(columns={'material':'tipo',\n",
    "                            'tipo':'material'},inplace=True)\n",
    "doc_02_01_f = doc_02_01_f[columns_tokeep]\n",
    "\n",
    "# Show\n",
    "print(doc_02_01_f.shape)\n",
    "doc_02_01_f.head(2)"
   ]
  },
  {
   "cell_type": "markdown",
   "id": "e3b89aea-f6b3-4ee0-b825-31beb149db24",
   "metadata": {
    "jp-MarkdownHeadingCollapsed": true,
    "tags": []
   },
   "source": [
    "#### Data treatment - 02_02.csv"
   ]
  },
  {
   "cell_type": "code",
   "execution_count": 41,
   "id": "e1e67fe3-7da5-461d-a842-8ac8bdeecc8a",
   "metadata": {
    "tags": []
   },
   "outputs": [
    {
     "data": {
      "text/html": [
       "<div>\n",
       "<style scoped>\n",
       "    .dataframe tbody tr th:only-of-type {\n",
       "        vertical-align: middle;\n",
       "    }\n",
       "\n",
       "    .dataframe tbody tr th {\n",
       "        vertical-align: top;\n",
       "    }\n",
       "\n",
       "    .dataframe thead th {\n",
       "        text-align: right;\n",
       "    }\n",
       "</style>\n",
       "<table border=\"1\" class=\"dataframe\">\n",
       "  <thead>\n",
       "    <tr style=\"text-align: right;\">\n",
       "      <th></th>\n",
       "      <th>itemname</th>\n",
       "      <th>material</th>\n",
       "      <th>tipo</th>\n",
       "      <th>quantity</th>\n",
       "      <th>description</th>\n",
       "      <th>latitude</th>\n",
       "      <th>longitude</th>\n",
       "      <th>altitude</th>\n",
       "      <th>data_origin</th>\n",
       "    </tr>\n",
       "  </thead>\n",
       "  <tbody>\n",
       "    <tr>\n",
       "      <th>0</th>\n",
       "      <td>Bolsa de Plastico para comestibles</td>\n",
       "      <td>Productos Plasticos para Comida</td>\n",
       "      <td>Plastico</td>\n",
       "      <td>8</td>\n",
       "      <td>NaN</td>\n",
       "      <td>25.639855</td>\n",
       "      <td>-100.309363</td>\n",
       "      <td>551.900024</td>\n",
       "      <td>02_02.csv</td>\n",
       "    </tr>\n",
       "  </tbody>\n",
       "</table>\n",
       "</div>"
      ],
      "text/plain": [
       "                             itemname                         material  \\\n",
       "0  Bolsa de Plastico para comestibles  Productos Plasticos para Comida   \n",
       "\n",
       "       tipo  quantity  description   latitude   longitude    altitude  \\\n",
       "0  Plastico         8          NaN  25.639855 -100.309363  551.900024   \n",
       "\n",
       "  data_origin  \n",
       "0   02_02.csv  "
      ]
     },
     "execution_count": 41,
     "metadata": {},
     "output_type": "execute_result"
    }
   ],
   "source": [
    "doc_02_02.head(1)"
   ]
  },
  {
   "cell_type": "code",
   "execution_count": 42,
   "id": "ff5df6df-bffa-4d5a-bb96-683d34b332fc",
   "metadata": {
    "tags": []
   },
   "outputs": [
    {
     "name": "stdout",
     "output_type": "stream",
     "text": [
      "(57, 8)\n"
     ]
    },
    {
     "data": {
      "text/html": [
       "<div>\n",
       "<style scoped>\n",
       "    .dataframe tbody tr th:only-of-type {\n",
       "        vertical-align: middle;\n",
       "    }\n",
       "\n",
       "    .dataframe tbody tr th {\n",
       "        vertical-align: top;\n",
       "    }\n",
       "\n",
       "    .dataframe thead th {\n",
       "        text-align: right;\n",
       "    }\n",
       "</style>\n",
       "<table border=\"1\" class=\"dataframe\">\n",
       "  <thead>\n",
       "    <tr style=\"text-align: right;\">\n",
       "      <th></th>\n",
       "      <th>itemname</th>\n",
       "      <th>tipo</th>\n",
       "      <th>material</th>\n",
       "      <th>quantity</th>\n",
       "      <th>latitude</th>\n",
       "      <th>longitude</th>\n",
       "      <th>altitude</th>\n",
       "      <th>data_origin</th>\n",
       "    </tr>\n",
       "  </thead>\n",
       "  <tbody>\n",
       "    <tr>\n",
       "      <th>0</th>\n",
       "      <td>Bolsa de Plastico para comestibles</td>\n",
       "      <td>Productos Plasticos para Comida</td>\n",
       "      <td>Plastico</td>\n",
       "      <td>8</td>\n",
       "      <td>25.639855</td>\n",
       "      <td>-100.309363</td>\n",
       "      <td>551.900024</td>\n",
       "      <td>02_02.csv</td>\n",
       "    </tr>\n",
       "    <tr>\n",
       "      <th>1</th>\n",
       "      <td>Bolsa de Plastico (otra)</td>\n",
       "      <td>Productos Plasticos para Comida</td>\n",
       "      <td>Plastico</td>\n",
       "      <td>35</td>\n",
       "      <td>25.640555</td>\n",
       "      <td>-100.310213</td>\n",
       "      <td>553.100037</td>\n",
       "      <td>02_02.csv</td>\n",
       "    </tr>\n",
       "  </tbody>\n",
       "</table>\n",
       "</div>"
      ],
      "text/plain": [
       "                             itemname                             tipo  \\\n",
       "0  Bolsa de Plastico para comestibles  Productos Plasticos para Comida   \n",
       "1            Bolsa de Plastico (otra)  Productos Plasticos para Comida   \n",
       "\n",
       "   material  quantity   latitude   longitude    altitude data_origin  \n",
       "0  Plastico         8  25.639855 -100.309363  551.900024   02_02.csv  \n",
       "1  Plastico        35  25.640555 -100.310213  553.100037   02_02.csv  "
      ]
     },
     "execution_count": 42,
     "metadata": {},
     "output_type": "execute_result"
    }
   ],
   "source": [
    "doc_02_02_f = doc_02_02.copy()\n",
    "doc_02_02_f.rename(columns={'material':'tipo',\n",
    "                            'tipo':'material'},inplace=True)\n",
    "doc_02_02_f = doc_02_02_f[columns_tokeep]\n",
    "\n",
    "# Show\n",
    "print(doc_02_02_f.shape)\n",
    "doc_02_02_f.head(2)"
   ]
  },
  {
   "cell_type": "markdown",
   "id": "d3368a47-14d2-41f0-b778-d656fc85d7c6",
   "metadata": {
    "jp-MarkdownHeadingCollapsed": true,
    "tags": []
   },
   "source": [
    "#### Data treatment - 03_01.csv"
   ]
  },
  {
   "cell_type": "code",
   "execution_count": 43,
   "id": "a8e1684f-c897-458a-b082-5c5788ff2dac",
   "metadata": {
    "tags": []
   },
   "outputs": [
    {
     "data": {
      "text/html": [
       "<div>\n",
       "<style scoped>\n",
       "    .dataframe tbody tr th:only-of-type {\n",
       "        vertical-align: middle;\n",
       "    }\n",
       "\n",
       "    .dataframe tbody tr th {\n",
       "        vertical-align: top;\n",
       "    }\n",
       "\n",
       "    .dataframe thead th {\n",
       "        text-align: right;\n",
       "    }\n",
       "</style>\n",
       "<table border=\"1\" class=\"dataframe\">\n",
       "  <thead>\n",
       "    <tr style=\"text-align: right;\">\n",
       "      <th></th>\n",
       "      <th>itemname</th>\n",
       "      <th>material</th>\n",
       "      <th>tipo</th>\n",
       "      <th>quantity</th>\n",
       "      <th>latitude</th>\n",
       "      <th>longitude</th>\n",
       "      <th>altitude</th>\n",
       "      <th>data_origin</th>\n",
       "    </tr>\n",
       "  </thead>\n",
       "  <tbody>\n",
       "    <tr>\n",
       "      <th>0</th>\n",
       "      <td>Bolsa de Plastico para comestibles</td>\n",
       "      <td>Productos Plasticos para Comida</td>\n",
       "      <td>Plastico</td>\n",
       "      <td>5</td>\n",
       "      <td>25.641495</td>\n",
       "      <td>-100.293776</td>\n",
       "      <td>530.400024</td>\n",
       "      <td>03_01.csv</td>\n",
       "    </tr>\n",
       "  </tbody>\n",
       "</table>\n",
       "</div>"
      ],
      "text/plain": [
       "                             itemname                         material  \\\n",
       "0  Bolsa de Plastico para comestibles  Productos Plasticos para Comida   \n",
       "\n",
       "       tipo  quantity   latitude   longitude    altitude data_origin  \n",
       "0  Plastico         5  25.641495 -100.293776  530.400024   03_01.csv  "
      ]
     },
     "execution_count": 43,
     "metadata": {},
     "output_type": "execute_result"
    }
   ],
   "source": [
    "doc_03_01.head(1)"
   ]
  },
  {
   "cell_type": "code",
   "execution_count": 44,
   "id": "5fb99d58-e92a-4e7f-a7b5-bafa82914dbd",
   "metadata": {
    "tags": []
   },
   "outputs": [
    {
     "name": "stdout",
     "output_type": "stream",
     "text": [
      "(342, 8)\n"
     ]
    },
    {
     "data": {
      "text/html": [
       "<div>\n",
       "<style scoped>\n",
       "    .dataframe tbody tr th:only-of-type {\n",
       "        vertical-align: middle;\n",
       "    }\n",
       "\n",
       "    .dataframe tbody tr th {\n",
       "        vertical-align: top;\n",
       "    }\n",
       "\n",
       "    .dataframe thead th {\n",
       "        text-align: right;\n",
       "    }\n",
       "</style>\n",
       "<table border=\"1\" class=\"dataframe\">\n",
       "  <thead>\n",
       "    <tr style=\"text-align: right;\">\n",
       "      <th></th>\n",
       "      <th>itemname</th>\n",
       "      <th>tipo</th>\n",
       "      <th>material</th>\n",
       "      <th>quantity</th>\n",
       "      <th>latitude</th>\n",
       "      <th>longitude</th>\n",
       "      <th>altitude</th>\n",
       "      <th>data_origin</th>\n",
       "    </tr>\n",
       "  </thead>\n",
       "  <tbody>\n",
       "    <tr>\n",
       "      <th>0</th>\n",
       "      <td>Bolsa de Plastico para comestibles</td>\n",
       "      <td>Productos Plasticos para Comida</td>\n",
       "      <td>Plastico</td>\n",
       "      <td>5</td>\n",
       "      <td>25.641495</td>\n",
       "      <td>-100.293776</td>\n",
       "      <td>530.400024</td>\n",
       "      <td>03_01.csv</td>\n",
       "    </tr>\n",
       "    <tr>\n",
       "      <th>1</th>\n",
       "      <td>Bolsa de Plastico para comestibles</td>\n",
       "      <td>Productos Plasticos para Comida</td>\n",
       "      <td>Plastico</td>\n",
       "      <td>17</td>\n",
       "      <td>25.641586</td>\n",
       "      <td>-100.293740</td>\n",
       "      <td>530.700012</td>\n",
       "      <td>03_01.csv</td>\n",
       "    </tr>\n",
       "  </tbody>\n",
       "</table>\n",
       "</div>"
      ],
      "text/plain": [
       "                             itemname                             tipo  \\\n",
       "0  Bolsa de Plastico para comestibles  Productos Plasticos para Comida   \n",
       "1  Bolsa de Plastico para comestibles  Productos Plasticos para Comida   \n",
       "\n",
       "   material  quantity   latitude   longitude    altitude data_origin  \n",
       "0  Plastico         5  25.641495 -100.293776  530.400024   03_01.csv  \n",
       "1  Plastico        17  25.641586 -100.293740  530.700012   03_01.csv  "
      ]
     },
     "execution_count": 44,
     "metadata": {},
     "output_type": "execute_result"
    }
   ],
   "source": [
    "doc_03_01_f = doc_03_01.copy()\n",
    "doc_03_01_f.rename(columns={'material':'tipo',\n",
    "                            'tipo':'material'},inplace=True)\n",
    "doc_03_01_f = doc_03_01_f[columns_tokeep]\n",
    "\n",
    "# Show\n",
    "print(doc_03_01_f.shape)\n",
    "doc_03_01_f.head(2)"
   ]
  },
  {
   "cell_type": "markdown",
   "id": "6a7f1e20-cbca-4430-b228-2f51cacdcd7d",
   "metadata": {
    "jp-MarkdownHeadingCollapsed": true,
    "tags": []
   },
   "source": [
    "#### Data treatment - 03_02.csv"
   ]
  },
  {
   "cell_type": "code",
   "execution_count": 45,
   "id": "6a124484-72d9-4de8-9bd8-ba7990618ecc",
   "metadata": {
    "tags": []
   },
   "outputs": [
    {
     "data": {
      "text/html": [
       "<div>\n",
       "<style scoped>\n",
       "    .dataframe tbody tr th:only-of-type {\n",
       "        vertical-align: middle;\n",
       "    }\n",
       "\n",
       "    .dataframe tbody tr th {\n",
       "        vertical-align: top;\n",
       "    }\n",
       "\n",
       "    .dataframe thead th {\n",
       "        text-align: right;\n",
       "    }\n",
       "</style>\n",
       "<table border=\"1\" class=\"dataframe\">\n",
       "  <thead>\n",
       "    <tr style=\"text-align: right;\">\n",
       "      <th></th>\n",
       "      <th>itemname</th>\n",
       "      <th>material</th>\n",
       "      <th>tipo</th>\n",
       "      <th>quantity</th>\n",
       "      <th>latitude</th>\n",
       "      <th>longitude</th>\n",
       "      <th>altitude</th>\n",
       "      <th>data_origin</th>\n",
       "    </tr>\n",
       "  </thead>\n",
       "  <tbody>\n",
       "    <tr>\n",
       "      <th>0</th>\n",
       "      <td>Bolsa de Plastico para comestibles</td>\n",
       "      <td>Productos Plasticos para Comida</td>\n",
       "      <td>Plastico</td>\n",
       "      <td>10</td>\n",
       "      <td>25.641958</td>\n",
       "      <td>-100.296649</td>\n",
       "      <td>553.976017</td>\n",
       "      <td>03_02.csv</td>\n",
       "    </tr>\n",
       "  </tbody>\n",
       "</table>\n",
       "</div>"
      ],
      "text/plain": [
       "                             itemname                         material  \\\n",
       "0  Bolsa de Plastico para comestibles  Productos Plasticos para Comida   \n",
       "\n",
       "       tipo  quantity   latitude   longitude    altitude data_origin  \n",
       "0  Plastico        10  25.641958 -100.296649  553.976017   03_02.csv  "
      ]
     },
     "execution_count": 45,
     "metadata": {},
     "output_type": "execute_result"
    }
   ],
   "source": [
    "doc_03_02.head(1)"
   ]
  },
  {
   "cell_type": "code",
   "execution_count": 46,
   "id": "2366f34f-328a-4dfe-a876-6ae408d868f0",
   "metadata": {
    "tags": []
   },
   "outputs": [
    {
     "name": "stdout",
     "output_type": "stream",
     "text": [
      "(632, 8)\n"
     ]
    },
    {
     "data": {
      "text/html": [
       "<div>\n",
       "<style scoped>\n",
       "    .dataframe tbody tr th:only-of-type {\n",
       "        vertical-align: middle;\n",
       "    }\n",
       "\n",
       "    .dataframe tbody tr th {\n",
       "        vertical-align: top;\n",
       "    }\n",
       "\n",
       "    .dataframe thead th {\n",
       "        text-align: right;\n",
       "    }\n",
       "</style>\n",
       "<table border=\"1\" class=\"dataframe\">\n",
       "  <thead>\n",
       "    <tr style=\"text-align: right;\">\n",
       "      <th></th>\n",
       "      <th>itemname</th>\n",
       "      <th>tipo</th>\n",
       "      <th>material</th>\n",
       "      <th>quantity</th>\n",
       "      <th>latitude</th>\n",
       "      <th>longitude</th>\n",
       "      <th>altitude</th>\n",
       "      <th>data_origin</th>\n",
       "    </tr>\n",
       "  </thead>\n",
       "  <tbody>\n",
       "    <tr>\n",
       "      <th>0</th>\n",
       "      <td>Bolsa de Plastico para comestibles</td>\n",
       "      <td>Productos Plasticos para Comida</td>\n",
       "      <td>Plastico</td>\n",
       "      <td>10</td>\n",
       "      <td>25.641958</td>\n",
       "      <td>-100.296649</td>\n",
       "      <td>553.976017</td>\n",
       "      <td>03_02.csv</td>\n",
       "    </tr>\n",
       "    <tr>\n",
       "      <th>1</th>\n",
       "      <td>Bolsa de Plastico para comestibles</td>\n",
       "      <td>Productos Plasticos para Comida</td>\n",
       "      <td>Plastico</td>\n",
       "      <td>4</td>\n",
       "      <td>25.642008</td>\n",
       "      <td>-100.296322</td>\n",
       "      <td>550.018779</td>\n",
       "      <td>03_02.csv</td>\n",
       "    </tr>\n",
       "  </tbody>\n",
       "</table>\n",
       "</div>"
      ],
      "text/plain": [
       "                             itemname                             tipo  \\\n",
       "0  Bolsa de Plastico para comestibles  Productos Plasticos para Comida   \n",
       "1  Bolsa de Plastico para comestibles  Productos Plasticos para Comida   \n",
       "\n",
       "   material  quantity   latitude   longitude    altitude data_origin  \n",
       "0  Plastico        10  25.641958 -100.296649  553.976017   03_02.csv  \n",
       "1  Plastico         4  25.642008 -100.296322  550.018779   03_02.csv  "
      ]
     },
     "execution_count": 46,
     "metadata": {},
     "output_type": "execute_result"
    }
   ],
   "source": [
    "doc_03_02_f = doc_03_02.copy()\n",
    "doc_03_02_f.rename(columns={'material':'tipo',\n",
    "                            'tipo':'material'},inplace=True)\n",
    "doc_03_02_f = doc_03_02_f[columns_tokeep]\n",
    "\n",
    "# Show\n",
    "print(doc_03_02_f.shape)\n",
    "doc_03_02_f.head(2)"
   ]
  },
  {
   "cell_type": "markdown",
   "id": "48fc71ec-c604-4bd0-bed6-b5498c0759f7",
   "metadata": {
    "jp-MarkdownHeadingCollapsed": true,
    "tags": []
   },
   "source": [
    "### Batch 4"
   ]
  },
  {
   "cell_type": "code",
   "execution_count": 47,
   "id": "b2ae560a-713a-4e22-9e99-cb1d18e4e21c",
   "metadata": {
    "tags": []
   },
   "outputs": [],
   "source": [
    "doc_mdt_abril_junio_2023 = pd.read_csv(tmp_dir+'mdt-data abril a junio 2023.csv')\n",
    "doc_mdt_abril_junio_2023['data_origin'] = 'mdt-abril_junio_2023.csv'\n",
    "\n",
    "doc_mdt_agosto_2023 = pd.read_csv(tmp_dir+'mdt-data agosto 2023.csv')\n",
    "doc_mdt_agosto_2023['data_origin'] = 'mdt-agosto_2023.csv'"
   ]
  },
  {
   "cell_type": "markdown",
   "id": "8e340839-f6b9-4132-8cdf-8b7bac50e8e2",
   "metadata": {
    "jp-MarkdownHeadingCollapsed": true,
    "tags": []
   },
   "source": [
    "#### Data treatment - mdt-data abril a junio 2023.csv"
   ]
  },
  {
   "cell_type": "code",
   "execution_count": 48,
   "id": "ade89065-6ba8-4a59-b3f1-3c7f932673ec",
   "metadata": {
    "tags": []
   },
   "outputs": [
    {
     "data": {
      "text/html": [
       "<div>\n",
       "<style scoped>\n",
       "    .dataframe tbody tr th:only-of-type {\n",
       "        vertical-align: middle;\n",
       "    }\n",
       "\n",
       "    .dataframe tbody tr th {\n",
       "        vertical-align: top;\n",
       "    }\n",
       "\n",
       "    .dataframe thead th {\n",
       "        text-align: right;\n",
       "    }\n",
       "</style>\n",
       "<table border=\"1\" class=\"dataframe\">\n",
       "  <thead>\n",
       "    <tr style=\"text-align: right;\">\n",
       "      <th></th>\n",
       "      <th>list_name</th>\n",
       "      <th>itemname</th>\n",
       "      <th>material</th>\n",
       "      <th>quantity</th>\n",
       "      <th>description</th>\n",
       "      <th>latitude</th>\n",
       "      <th>longitude</th>\n",
       "      <th>altitude</th>\n",
       "      <th>radius</th>\n",
       "      <th>location</th>\n",
       "      <th>timestamp</th>\n",
       "      <th>dt</th>\n",
       "      <th>project_name</th>\n",
       "      <th>username</th>\n",
       "      <th>manual_upload</th>\n",
       "      <th>event_name</th>\n",
       "      <th>id</th>\n",
       "      <th>log_index</th>\n",
       "      <th>data_origin</th>\n",
       "    </tr>\n",
       "  </thead>\n",
       "  <tbody>\n",
       "    <tr>\n",
       "      <th>0</th>\n",
       "      <td>Tecnológico de Monterrey</td>\n",
       "      <td>Bolsa de plástico para comestibles</td>\n",
       "      <td>Productos Plásticos para Comida</td>\n",
       "      <td>10</td>\n",
       "      <td>NaN</td>\n",
       "      <td>25.641958</td>\n",
       "      <td>-100.296648</td>\n",
       "      <td>553.976016</td>\n",
       "      <td>4.743728</td>\n",
       "      <td>Monterrey, Nuevo León, Mexico</td>\n",
       "      <td>20230415143048</td>\n",
       "      <td>2023-04-15 14:30:48</td>\n",
       "      <td>Default</td>\n",
       "      <td>AlexGuajardo</td>\n",
       "      <td>0</td>\n",
       "      <td>NaN</td>\n",
       "      <td>2398898</td>\n",
       "      <td>61617</td>\n",
       "      <td>mdt-abril_junio_2023.csv</td>\n",
       "    </tr>\n",
       "  </tbody>\n",
       "</table>\n",
       "</div>"
      ],
      "text/plain": [
       "                  list_name                            itemname  \\\n",
       "0  Tecnológico de Monterrey  Bolsa de plástico para comestibles   \n",
       "\n",
       "                          material  quantity  description   latitude  \\\n",
       "0  Productos Plásticos para Comida        10          NaN  25.641958   \n",
       "\n",
       "    longitude    altitude    radius                       location  \\\n",
       "0 -100.296648  553.976016  4.743728  Monterrey, Nuevo León, Mexico   \n",
       "\n",
       "        timestamp                   dt project_name      username  \\\n",
       "0  20230415143048  2023-04-15 14:30:48      Default  AlexGuajardo   \n",
       "\n",
       "   manual_upload  event_name       id  log_index               data_origin  \n",
       "0              0         NaN  2398898      61617  mdt-abril_junio_2023.csv  "
      ]
     },
     "execution_count": 48,
     "metadata": {},
     "output_type": "execute_result"
    }
   ],
   "source": [
    "doc_mdt_abril_junio_2023.head(1)"
   ]
  },
  {
   "cell_type": "code",
   "execution_count": 49,
   "id": "c0516923-847f-4be6-b980-df48e8f731f1",
   "metadata": {
    "tags": []
   },
   "outputs": [
    {
     "name": "stdout",
     "output_type": "stream",
     "text": [
      "(2392, 8)\n"
     ]
    },
    {
     "data": {
      "text/html": [
       "<div>\n",
       "<style scoped>\n",
       "    .dataframe tbody tr th:only-of-type {\n",
       "        vertical-align: middle;\n",
       "    }\n",
       "\n",
       "    .dataframe tbody tr th {\n",
       "        vertical-align: top;\n",
       "    }\n",
       "\n",
       "    .dataframe thead th {\n",
       "        text-align: right;\n",
       "    }\n",
       "</style>\n",
       "<table border=\"1\" class=\"dataframe\">\n",
       "  <thead>\n",
       "    <tr style=\"text-align: right;\">\n",
       "      <th></th>\n",
       "      <th>itemname</th>\n",
       "      <th>tipo</th>\n",
       "      <th>material</th>\n",
       "      <th>quantity</th>\n",
       "      <th>latitude</th>\n",
       "      <th>longitude</th>\n",
       "      <th>altitude</th>\n",
       "      <th>data_origin</th>\n",
       "    </tr>\n",
       "  </thead>\n",
       "  <tbody>\n",
       "    <tr>\n",
       "      <th>0</th>\n",
       "      <td>Bolsa de plástico para comestibles</td>\n",
       "      <td>Productos Plásticos para Comida</td>\n",
       "      <td>NaN</td>\n",
       "      <td>10</td>\n",
       "      <td>25.641958</td>\n",
       "      <td>-100.296648</td>\n",
       "      <td>553.976016</td>\n",
       "      <td>mdt-abril_junio_2023.csv</td>\n",
       "    </tr>\n",
       "    <tr>\n",
       "      <th>1</th>\n",
       "      <td>Bolsa de plástico para comestibles</td>\n",
       "      <td>Productos Plásticos para Comida</td>\n",
       "      <td>NaN</td>\n",
       "      <td>4</td>\n",
       "      <td>25.642008</td>\n",
       "      <td>-100.296322</td>\n",
       "      <td>550.018779</td>\n",
       "      <td>mdt-abril_junio_2023.csv</td>\n",
       "    </tr>\n",
       "  </tbody>\n",
       "</table>\n",
       "</div>"
      ],
      "text/plain": [
       "                             itemname                             tipo  \\\n",
       "0  Bolsa de plástico para comestibles  Productos Plásticos para Comida   \n",
       "1  Bolsa de plástico para comestibles  Productos Plásticos para Comida   \n",
       "\n",
       "   material  quantity   latitude   longitude    altitude  \\\n",
       "0       NaN        10  25.641958 -100.296648  553.976016   \n",
       "1       NaN         4  25.642008 -100.296322  550.018779   \n",
       "\n",
       "                data_origin  \n",
       "0  mdt-abril_junio_2023.csv  \n",
       "1  mdt-abril_junio_2023.csv  "
      ]
     },
     "execution_count": 49,
     "metadata": {},
     "output_type": "execute_result"
    }
   ],
   "source": [
    "# Regular formatting\n",
    "doc_mdt_abril_junio_2023_f = doc_mdt_abril_junio_2023.copy()\n",
    "doc_mdt_abril_junio_2023_f.rename(columns={'material':'tipo'},inplace=True)\n",
    "doc_mdt_abril_junio_2023_f['material'] = np.nan\n",
    "doc_mdt_abril_junio_2023_f = doc_mdt_abril_junio_2023_f[columns_tokeep]\n",
    "\n",
    "# Show\n",
    "print(doc_mdt_abril_junio_2023_f.shape)\n",
    "doc_mdt_abril_junio_2023_f.head(2)"
   ]
  },
  {
   "cell_type": "code",
   "execution_count": 50,
   "id": "0ab94a3d-1ad7-44c4-ae55-9d382aba6e52",
   "metadata": {
    "tags": []
   },
   "outputs": [
    {
     "data": {
      "text/plain": [
       "array(['Productos Plásticos para Comida', 'Otros Productos Plásticos',\n",
       "       'Fragmentos de Plástico  ', 'Productos de Cuidado Personal',\n",
       "       'Productos de Tabaco', 'Materiales de Construcción',\n",
       "       'Desechos Electrónicos', 'Desechos Orgánicos', 'Metales', 'Vidrio',\n",
       "       'Tela', 'Papel', 'Herramientas de Pesca', 'Otro', 'Restaurantes',\n",
       "       'Tienda', 'Infraestructura para Desechos '], dtype=object)"
      ]
     },
     "execution_count": 50,
     "metadata": {},
     "output_type": "execute_result"
    }
   ],
   "source": [
    "# Additional cleaning. This csv does not have a \"material\" column, it must be created from \"tipo\"\n",
    "doc_mdt_abril_junio_2023_f.tipo.unique()"
   ]
  },
  {
   "cell_type": "code",
   "execution_count": 51,
   "id": "7fc5245f-7569-4b70-a577-5365418332ef",
   "metadata": {
    "tags": []
   },
   "outputs": [
    {
     "name": "stdout",
     "output_type": "stream",
     "text": [
      "(2392, 8)\n"
     ]
    },
    {
     "data": {
      "text/html": [
       "<div>\n",
       "<style scoped>\n",
       "    .dataframe tbody tr th:only-of-type {\n",
       "        vertical-align: middle;\n",
       "    }\n",
       "\n",
       "    .dataframe tbody tr th {\n",
       "        vertical-align: top;\n",
       "    }\n",
       "\n",
       "    .dataframe thead th {\n",
       "        text-align: right;\n",
       "    }\n",
       "</style>\n",
       "<table border=\"1\" class=\"dataframe\">\n",
       "  <thead>\n",
       "    <tr style=\"text-align: right;\">\n",
       "      <th></th>\n",
       "      <th>itemname</th>\n",
       "      <th>tipo</th>\n",
       "      <th>material</th>\n",
       "      <th>quantity</th>\n",
       "      <th>latitude</th>\n",
       "      <th>longitude</th>\n",
       "      <th>altitude</th>\n",
       "      <th>data_origin</th>\n",
       "    </tr>\n",
       "  </thead>\n",
       "  <tbody>\n",
       "    <tr>\n",
       "      <th>0</th>\n",
       "      <td>Bolsa de plástico para comestibles</td>\n",
       "      <td>Productos Plásticos para Comida</td>\n",
       "      <td>Plastico</td>\n",
       "      <td>10</td>\n",
       "      <td>25.641958</td>\n",
       "      <td>-100.296648</td>\n",
       "      <td>553.976016</td>\n",
       "      <td>mdt-abril_junio_2023.csv</td>\n",
       "    </tr>\n",
       "    <tr>\n",
       "      <th>1</th>\n",
       "      <td>Bolsa de plástico para comestibles</td>\n",
       "      <td>Productos Plásticos para Comida</td>\n",
       "      <td>Plastico</td>\n",
       "      <td>4</td>\n",
       "      <td>25.642008</td>\n",
       "      <td>-100.296322</td>\n",
       "      <td>550.018779</td>\n",
       "      <td>mdt-abril_junio_2023.csv</td>\n",
       "    </tr>\n",
       "  </tbody>\n",
       "</table>\n",
       "</div>"
      ],
      "text/plain": [
       "                             itemname                             tipo  \\\n",
       "0  Bolsa de plástico para comestibles  Productos Plásticos para Comida   \n",
       "1  Bolsa de plástico para comestibles  Productos Plásticos para Comida   \n",
       "\n",
       "   material  quantity   latitude   longitude    altitude  \\\n",
       "0  Plastico        10  25.641958 -100.296648  553.976016   \n",
       "1  Plastico         4  25.642008 -100.296322  550.018779   \n",
       "\n",
       "                data_origin  \n",
       "0  mdt-abril_junio_2023.csv  \n",
       "1  mdt-abril_junio_2023.csv  "
      ]
     },
     "execution_count": 51,
     "metadata": {},
     "output_type": "execute_result"
    }
   ],
   "source": [
    "# Additional cleaning. This csv does not have a \"material\" column, it must be created from \"tipo\"\n",
    "doc_mdt_abril_junio_2023_f2 = doc_mdt_abril_junio_2023_f.copy()\n",
    "\n",
    "fix_names = {'Plastico':['Productos Plásticos para Comida','Otros Productos Plásticos','Fragmentos de Plástico  '],\n",
    "             'Tabaco':['Productos de Tabaco'],\n",
    "             'Pesca':['Herramientas de Pesca'],\n",
    "             'Salud e higiene':['Productos de Cuidado Personal'],\n",
    "             'Tela':['Tela'],\n",
    "             'Escombros':['Materiales de Construcción'],\n",
    "             'Papel':['Papel'],\n",
    "             'Comercio':['Restaurantes','Tienda'],\n",
    "             'Electronica':['Desechos Electrónicos'],\n",
    "             'Organico':['Desechos Orgánicos'],\n",
    "             'Otros':['Otro'],\n",
    "             'Vidrio':['Vidrio'],\n",
    "             'Metal':['Metales'],\n",
    "             'Recoleccion':['Infraestructura para Desechos ']}\n",
    "\n",
    "for k in fix_names.keys():\n",
    "    for item in fix_names[k]:\n",
    "        idx = doc_mdt_abril_junio_2023_f2.tipo == item\n",
    "        doc_mdt_abril_junio_2023_f2.loc[idx,'material'] = k\n",
    "        \n",
    "# Show\n",
    "print(doc_mdt_abril_junio_2023_f2.shape)\n",
    "doc_mdt_abril_junio_2023_f2.head(2)"
   ]
  },
  {
   "cell_type": "markdown",
   "id": "9738c8f0-f23f-4ce3-8549-0c759c1e737e",
   "metadata": {
    "jp-MarkdownHeadingCollapsed": true,
    "tags": []
   },
   "source": [
    "#### Data treatment - mdt-data agosto 2023.csv"
   ]
  },
  {
   "cell_type": "code",
   "execution_count": 53,
   "id": "ba642877-5a29-4e14-a6e8-7cfce4aaeda0",
   "metadata": {
    "tags": []
   },
   "outputs": [
    {
     "data": {
      "text/html": [
       "<div>\n",
       "<style scoped>\n",
       "    .dataframe tbody tr th:only-of-type {\n",
       "        vertical-align: middle;\n",
       "    }\n",
       "\n",
       "    .dataframe tbody tr th {\n",
       "        vertical-align: top;\n",
       "    }\n",
       "\n",
       "    .dataframe thead th {\n",
       "        text-align: right;\n",
       "    }\n",
       "</style>\n",
       "<table border=\"1\" class=\"dataframe\">\n",
       "  <thead>\n",
       "    <tr style=\"text-align: right;\">\n",
       "      <th></th>\n",
       "      <th>list_name</th>\n",
       "      <th>itemname</th>\n",
       "      <th>material</th>\n",
       "      <th>quantity</th>\n",
       "      <th>description</th>\n",
       "      <th>latitude</th>\n",
       "      <th>longitude</th>\n",
       "      <th>altitude</th>\n",
       "      <th>radius</th>\n",
       "      <th>location</th>\n",
       "      <th>timestamp</th>\n",
       "      <th>dt</th>\n",
       "      <th>project_name</th>\n",
       "      <th>username</th>\n",
       "      <th>manual_upload</th>\n",
       "      <th>event_name</th>\n",
       "      <th>id</th>\n",
       "      <th>log_index</th>\n",
       "      <th>data_origin</th>\n",
       "    </tr>\n",
       "  </thead>\n",
       "  <tbody>\n",
       "    <tr>\n",
       "      <th>0</th>\n",
       "      <td>Tecnológico de Monterrey</td>\n",
       "      <td>Bolsa de plástico para comestibles</td>\n",
       "      <td>Productos Plásticos para Comida</td>\n",
       "      <td>2</td>\n",
       "      <td>NaN</td>\n",
       "      <td>25.649795</td>\n",
       "      <td>-100.284015</td>\n",
       "      <td>534.115751</td>\n",
       "      <td>4.730886</td>\n",
       "      <td>Monterrey, Nuevo León, Mexico</td>\n",
       "      <td>20230819162919</td>\n",
       "      <td>2023-08-19 16:29:19</td>\n",
       "      <td>Default</td>\n",
       "      <td>raulherrera</td>\n",
       "      <td>0</td>\n",
       "      <td>NaN</td>\n",
       "      <td>2589766</td>\n",
       "      <td>68725</td>\n",
       "      <td>mdt-agosto_2023.csv</td>\n",
       "    </tr>\n",
       "  </tbody>\n",
       "</table>\n",
       "</div>"
      ],
      "text/plain": [
       "                  list_name                            itemname  \\\n",
       "0  Tecnológico de Monterrey  Bolsa de plástico para comestibles   \n",
       "\n",
       "                          material  quantity  description   latitude  \\\n",
       "0  Productos Plásticos para Comida         2          NaN  25.649795   \n",
       "\n",
       "    longitude    altitude    radius                       location  \\\n",
       "0 -100.284015  534.115751  4.730886  Monterrey, Nuevo León, Mexico   \n",
       "\n",
       "        timestamp                   dt project_name     username  \\\n",
       "0  20230819162919  2023-08-19 16:29:19      Default  raulherrera   \n",
       "\n",
       "   manual_upload  event_name       id  log_index          data_origin  \n",
       "0              0         NaN  2589766      68725  mdt-agosto_2023.csv  "
      ]
     },
     "execution_count": 53,
     "metadata": {},
     "output_type": "execute_result"
    }
   ],
   "source": [
    "doc_mdt_agosto_2023.head(1)"
   ]
  },
  {
   "cell_type": "code",
   "execution_count": 54,
   "id": "ea80802d-6188-4ab8-85f7-2757add2e150",
   "metadata": {
    "tags": []
   },
   "outputs": [
    {
     "name": "stdout",
     "output_type": "stream",
     "text": [
      "(268, 8)\n"
     ]
    },
    {
     "data": {
      "text/html": [
       "<div>\n",
       "<style scoped>\n",
       "    .dataframe tbody tr th:only-of-type {\n",
       "        vertical-align: middle;\n",
       "    }\n",
       "\n",
       "    .dataframe tbody tr th {\n",
       "        vertical-align: top;\n",
       "    }\n",
       "\n",
       "    .dataframe thead th {\n",
       "        text-align: right;\n",
       "    }\n",
       "</style>\n",
       "<table border=\"1\" class=\"dataframe\">\n",
       "  <thead>\n",
       "    <tr style=\"text-align: right;\">\n",
       "      <th></th>\n",
       "      <th>itemname</th>\n",
       "      <th>tipo</th>\n",
       "      <th>material</th>\n",
       "      <th>quantity</th>\n",
       "      <th>latitude</th>\n",
       "      <th>longitude</th>\n",
       "      <th>altitude</th>\n",
       "      <th>data_origin</th>\n",
       "    </tr>\n",
       "  </thead>\n",
       "  <tbody>\n",
       "    <tr>\n",
       "      <th>0</th>\n",
       "      <td>Bolsa de plástico para comestibles</td>\n",
       "      <td>Productos Plásticos para Comida</td>\n",
       "      <td>NaN</td>\n",
       "      <td>2</td>\n",
       "      <td>25.649795</td>\n",
       "      <td>-100.284015</td>\n",
       "      <td>534.115751</td>\n",
       "      <td>mdt-agosto_2023.csv</td>\n",
       "    </tr>\n",
       "    <tr>\n",
       "      <th>1</th>\n",
       "      <td>Bolsa de plástico para comestibles</td>\n",
       "      <td>Productos Plásticos para Comida</td>\n",
       "      <td>NaN</td>\n",
       "      <td>2</td>\n",
       "      <td>25.649796</td>\n",
       "      <td>-100.282770</td>\n",
       "      <td>532.783177</td>\n",
       "      <td>mdt-agosto_2023.csv</td>\n",
       "    </tr>\n",
       "  </tbody>\n",
       "</table>\n",
       "</div>"
      ],
      "text/plain": [
       "                             itemname                             tipo  \\\n",
       "0  Bolsa de plástico para comestibles  Productos Plásticos para Comida   \n",
       "1  Bolsa de plástico para comestibles  Productos Plásticos para Comida   \n",
       "\n",
       "   material  quantity   latitude   longitude    altitude          data_origin  \n",
       "0       NaN         2  25.649795 -100.284015  534.115751  mdt-agosto_2023.csv  \n",
       "1       NaN         2  25.649796 -100.282770  532.783177  mdt-agosto_2023.csv  "
      ]
     },
     "execution_count": 54,
     "metadata": {},
     "output_type": "execute_result"
    }
   ],
   "source": [
    "# Regular formatting\n",
    "doc_mdt_agosto_2023_f = doc_mdt_agosto_2023.copy()\n",
    "doc_mdt_agosto_2023_f.rename(columns={'material':'tipo'},inplace=True)\n",
    "doc_mdt_agosto_2023_f['material'] = np.nan\n",
    "doc_mdt_agosto_2023_f = doc_mdt_agosto_2023_f[columns_tokeep]\n",
    "\n",
    "# Show\n",
    "print(doc_mdt_agosto_2023_f.shape)\n",
    "doc_mdt_agosto_2023_f.head(2)"
   ]
  },
  {
   "cell_type": "code",
   "execution_count": 55,
   "id": "cdbc39e8-cb91-46f5-ae3b-744b45fba5c8",
   "metadata": {
    "tags": []
   },
   "outputs": [
    {
     "data": {
      "text/plain": [
       "array(['Productos Plásticos para Comida', 'Otros Productos Plásticos',\n",
       "       'Fragmentos de Plástico  ', 'Productos de Cuidado Personal',\n",
       "       'Productos de Tabaco', 'Materiales de Construcción',\n",
       "       'Desechos Orgánicos', 'Metales', 'Vidrio', 'Tela', 'Papel', 'EPI',\n",
       "       'Restaurantes', 'Tienda', 'Hidrología',\n",
       "       'Infraestructura para Desechos '], dtype=object)"
      ]
     },
     "execution_count": 55,
     "metadata": {},
     "output_type": "execute_result"
    }
   ],
   "source": [
    "# Additional cleaning. This csv does not have a \"material\" column, it must be created from \"tipo\"\n",
    "doc_mdt_agosto_2023_f.tipo.unique()"
   ]
  },
  {
   "cell_type": "code",
   "execution_count": 56,
   "id": "bed25c48-450b-4b06-a17d-01fc74068770",
   "metadata": {
    "tags": []
   },
   "outputs": [
    {
     "name": "stdout",
     "output_type": "stream",
     "text": [
      "(268, 8)\n"
     ]
    },
    {
     "data": {
      "text/html": [
       "<div>\n",
       "<style scoped>\n",
       "    .dataframe tbody tr th:only-of-type {\n",
       "        vertical-align: middle;\n",
       "    }\n",
       "\n",
       "    .dataframe tbody tr th {\n",
       "        vertical-align: top;\n",
       "    }\n",
       "\n",
       "    .dataframe thead th {\n",
       "        text-align: right;\n",
       "    }\n",
       "</style>\n",
       "<table border=\"1\" class=\"dataframe\">\n",
       "  <thead>\n",
       "    <tr style=\"text-align: right;\">\n",
       "      <th></th>\n",
       "      <th>itemname</th>\n",
       "      <th>tipo</th>\n",
       "      <th>material</th>\n",
       "      <th>quantity</th>\n",
       "      <th>latitude</th>\n",
       "      <th>longitude</th>\n",
       "      <th>altitude</th>\n",
       "      <th>data_origin</th>\n",
       "    </tr>\n",
       "  </thead>\n",
       "  <tbody>\n",
       "    <tr>\n",
       "      <th>0</th>\n",
       "      <td>Bolsa de plástico para comestibles</td>\n",
       "      <td>Productos Plásticos para Comida</td>\n",
       "      <td>Plastico</td>\n",
       "      <td>2</td>\n",
       "      <td>25.649795</td>\n",
       "      <td>-100.284015</td>\n",
       "      <td>534.115751</td>\n",
       "      <td>mdt-agosto_2023.csv</td>\n",
       "    </tr>\n",
       "    <tr>\n",
       "      <th>1</th>\n",
       "      <td>Bolsa de plástico para comestibles</td>\n",
       "      <td>Productos Plásticos para Comida</td>\n",
       "      <td>Plastico</td>\n",
       "      <td>2</td>\n",
       "      <td>25.649796</td>\n",
       "      <td>-100.282770</td>\n",
       "      <td>532.783177</td>\n",
       "      <td>mdt-agosto_2023.csv</td>\n",
       "    </tr>\n",
       "  </tbody>\n",
       "</table>\n",
       "</div>"
      ],
      "text/plain": [
       "                             itemname                             tipo  \\\n",
       "0  Bolsa de plástico para comestibles  Productos Plásticos para Comida   \n",
       "1  Bolsa de plástico para comestibles  Productos Plásticos para Comida   \n",
       "\n",
       "   material  quantity   latitude   longitude    altitude          data_origin  \n",
       "0  Plastico         2  25.649795 -100.284015  534.115751  mdt-agosto_2023.csv  \n",
       "1  Plastico         2  25.649796 -100.282770  532.783177  mdt-agosto_2023.csv  "
      ]
     },
     "execution_count": 56,
     "metadata": {},
     "output_type": "execute_result"
    }
   ],
   "source": [
    "# Additional cleaning. This csv does not have a \"material\" column, it must be created from \"tipo\"\n",
    "doc_mdt_agosto_2023_f2 = doc_mdt_agosto_2023_f.copy()\n",
    "\n",
    "fix_names = {'Plastico':['Productos Plásticos para Comida','Otros Productos Plásticos','Fragmentos de Plástico  '],\n",
    "             'Tabaco':['Productos de Tabaco'],\n",
    "             'Salud e higiene':['Productos de Cuidado Personal'],\n",
    "             'Tela':['Tela'],\n",
    "             'Escombros':['Materiales de Construcción'],\n",
    "             'Papel':['Papel'],\n",
    "             'Comercio':['Restaurantes','Tienda'],\n",
    "             'Organico':['Desechos Orgánicos'],\n",
    "             'Hidrología':['Hidrología'],\n",
    "             'Vidrio':['Vidrio'],\n",
    "             'Metal':['Metales'],\n",
    "             'Recoleccion':['Infraestructura para Desechos '],\n",
    "             'EPI':['EPI']}\n",
    "\n",
    "for k in fix_names.keys():\n",
    "    for item in fix_names[k]:\n",
    "        idx = doc_mdt_agosto_2023_f2.tipo == item\n",
    "        doc_mdt_agosto_2023_f2.loc[idx,'material'] = k\n",
    "        \n",
    "# Show\n",
    "print(doc_mdt_agosto_2023_f2.shape)\n",
    "doc_mdt_agosto_2023_f2.head(2)"
   ]
  },
  {
   "cell_type": "markdown",
   "id": "ba8f89c3-e5f9-46b8-9e06-8c48790284b5",
   "metadata": {
    "jp-MarkdownHeadingCollapsed": true,
    "tags": []
   },
   "source": [
    "## Concatenate"
   ]
  },
  {
   "cell_type": "code",
   "execution_count": 58,
   "id": "f364c90d-e90c-47da-a59d-d2729bf46f55",
   "metadata": {
    "tags": []
   },
   "outputs": [
    {
     "name": "stdout",
     "output_type": "stream",
     "text": [
      "(39690, 8)\n"
     ]
    },
    {
     "data": {
      "text/html": [
       "<div>\n",
       "<style scoped>\n",
       "    .dataframe tbody tr th:only-of-type {\n",
       "        vertical-align: middle;\n",
       "    }\n",
       "\n",
       "    .dataframe tbody tr th {\n",
       "        vertical-align: top;\n",
       "    }\n",
       "\n",
       "    .dataframe thead th {\n",
       "        text-align: right;\n",
       "    }\n",
       "</style>\n",
       "<table border=\"1\" class=\"dataframe\">\n",
       "  <thead>\n",
       "    <tr style=\"text-align: right;\">\n",
       "      <th></th>\n",
       "      <th>itemname</th>\n",
       "      <th>tipo</th>\n",
       "      <th>material</th>\n",
       "      <th>quantity</th>\n",
       "      <th>latitude</th>\n",
       "      <th>longitude</th>\n",
       "      <th>altitude</th>\n",
       "      <th>data_origin</th>\n",
       "    </tr>\n",
       "  </thead>\n",
       "  <tbody>\n",
       "    <tr>\n",
       "      <th>0</th>\n",
       "      <td>Latas de aluminio o estaño</td>\n",
       "      <td>NaN</td>\n",
       "      <td>Aluminio</td>\n",
       "      <td>4</td>\n",
       "      <td>0.084465</td>\n",
       "      <td>-79.050839</td>\n",
       "      <td>627.300049</td>\n",
       "      <td>9 de enero.csv</td>\n",
       "    </tr>\n",
       "    <tr>\n",
       "      <th>1</th>\n",
       "      <td>Latas de aluminio o estaño</td>\n",
       "      <td>NaN</td>\n",
       "      <td>Aluminio</td>\n",
       "      <td>1</td>\n",
       "      <td>-33.629462</td>\n",
       "      <td>-71.549508</td>\n",
       "      <td>104.600000</td>\n",
       "      <td>9 de enero.csv</td>\n",
       "    </tr>\n",
       "  </tbody>\n",
       "</table>\n",
       "</div>"
      ],
      "text/plain": [
       "                     itemname tipo  material  quantity   latitude  longitude  \\\n",
       "0  Latas de aluminio o estaño  NaN  Aluminio         4   0.084465 -79.050839   \n",
       "1  Latas de aluminio o estaño  NaN  Aluminio         1 -33.629462 -71.549508   \n",
       "\n",
       "     altitude     data_origin  \n",
       "0  627.300049  9 de enero.csv  \n",
       "1  104.600000  9 de enero.csv  "
      ]
     },
     "execution_count": 58,
     "metadata": {},
     "output_type": "execute_result"
    }
   ],
   "source": [
    "all_together = pd.concat([doc_9_de_enero_f,\n",
    "                          doc_27_05_f,\n",
    "                          doc_30_05_f,\n",
    "                          doc_todo_hasta_septiembre_f,\n",
    "                          doc_2022_2023_f3,\n",
    "                          doc_punto1_f,\n",
    "                          doc_punto_2_f,\n",
    "                          doc_punto_3_f,\n",
    "                          doc_punto_4_f,\n",
    "                          doc_punto_5_f,\n",
    "                          doc_punto_6_f,\n",
    "                          doc_punto_7_f,\n",
    "                          doc_punto_8_f,\n",
    "                          doc_01_01_f,\n",
    "                          doc_01_02_f,\n",
    "                          doc_02_01_f,\n",
    "                          doc_02_02_f,\n",
    "                          doc_03_01_f,\n",
    "                          doc_03_02_f,\n",
    "                          doc_mdt_abril_junio_2023_f2,\n",
    "                          doc_mdt_agosto_2023_f2], ignore_index = True)\n",
    "                         \n",
    "# Show\n",
    "print(all_together.shape)\n",
    "all_together.head(2)"
   ]
  },
  {
   "cell_type": "markdown",
   "id": "6b33b368-4e77-4a51-9746-5f26e8348e18",
   "metadata": {
    "tags": []
   },
   "source": [
    "## Fix badly named columns"
   ]
  },
  {
   "cell_type": "markdown",
   "id": "357cca49-e37d-4a6e-ba09-dcc380b4aafc",
   "metadata": {
    "jp-MarkdownHeadingCollapsed": true,
    "tags": []
   },
   "source": [
    "### Fix column material"
   ]
  },
  {
   "cell_type": "code",
   "execution_count": 60,
   "id": "d409179a-2a36-4823-a371-d1d4ccdaca05",
   "metadata": {
    "tags": []
   },
   "outputs": [
    {
     "data": {
      "text/plain": [
       "array(['Aluminio', 'Baterias', 'Carton', 'Cenizas', 'Ceramica',\n",
       "       'Colector de aguas pluviales', 'Comercio', 'Electronica',\n",
       "       'Escombros', 'Goma', 'Llantas', 'Madera', 'Metal', 'Organico',\n",
       "       'Otros', 'Papel', 'Pesca', 'Plastico', 'Recoleccion',\n",
       "       'Salud e higiene', 'Tabaco', 'Tela', 'Unicel', 'Vidrio',\n",
       "       'Construccion', 'plastico', 'tabaco', 'unicel', 'EPI',\n",
       "       'salud e higiene', 'tela', 'escombros', 'papel', 'carton',\n",
       "       'Recipiente de basura', 'Reciclaje', 'electronicos', 'organico',\n",
       "       'ceramica', 'otros', 'Canal', 'Colector', 'Basurero', 'Metales',\n",
       "       'Hidrología'], dtype=object)"
      ]
     },
     "execution_count": 60,
     "metadata": {},
     "output_type": "execute_result"
    }
   ],
   "source": [
    "all_together.material.unique()"
   ]
  },
  {
   "cell_type": "code",
   "execution_count": 61,
   "id": "d7c260f0-426c-4a1c-a47e-6e95ed7dfd3a",
   "metadata": {
    "tags": []
   },
   "outputs": [],
   "source": [
    "all_together_fix = all_together.copy()\n",
    "\n",
    "fix_names = {'Plastico':['plastico'],\n",
    "             'Tabaco':['tabaco'],\n",
    "             'Unicel':['unicel'],\n",
    "             'Salud e higiene':['salud e higiene'],\n",
    "             'Tela':['tela'],\n",
    "             'Escombros':['escombros','Construccion'],\n",
    "             'Papel':['papel'],\n",
    "             'Carton':['carton'],\n",
    "             'Electronica':['electronicos'],\n",
    "             'Organico':['organico'],\n",
    "             'Ceramica':['ceramica'],\n",
    "             'Otros':['otros'],\n",
    "             'Metal':['Metales']}\n",
    "\n",
    "for k in fix_names.keys():\n",
    "    for item in fix_names[k]:\n",
    "        idx = all_together_fix.material == item\n",
    "        all_together_fix.loc[idx,'material'] = k"
   ]
  },
  {
   "cell_type": "code",
   "execution_count": 62,
   "id": "f6b87d29-912a-44c8-ae62-245ddadb0d8a",
   "metadata": {
    "tags": []
   },
   "outputs": [
    {
     "data": {
      "text/plain": [
       "array(['Aluminio', 'Baterias', 'Carton', 'Cenizas', 'Ceramica',\n",
       "       'Colector de aguas pluviales', 'Comercio', 'Electronica',\n",
       "       'Escombros', 'Goma', 'Llantas', 'Madera', 'Metal', 'Organico',\n",
       "       'Otros', 'Papel', 'Pesca', 'Plastico', 'Recoleccion',\n",
       "       'Salud e higiene', 'Tabaco', 'Tela', 'Unicel', 'Vidrio', 'EPI',\n",
       "       'Recipiente de basura', 'Reciclaje', 'Canal', 'Colector',\n",
       "       'Basurero', 'Hidrología'], dtype=object)"
      ]
     },
     "execution_count": 62,
     "metadata": {},
     "output_type": "execute_result"
    }
   ],
   "source": [
    "all_together_fix.material.unique()"
   ]
  },
  {
   "cell_type": "markdown",
   "id": "7fa8ecea-f329-4f5e-8aac-6b4ac0172095",
   "metadata": {
    "tags": []
   },
   "source": [
    "### Fix column itemname"
   ]
  },
  {
   "cell_type": "code",
   "execution_count": 63,
   "id": "a7dcf5de-1ac7-460d-836d-8e5e1aa94ee1",
   "metadata": {
    "tags": []
   },
   "outputs": [
    {
     "data": {
      "text/plain": [
       "array(['Latas de aluminio o estaño', 'Papel de aluminio', 'Baterías',\n",
       "       'Cartón acanalado', 'Cartón recubierto',\n",
       "       'Envoltura de alimentos de papel sin recubrimiento',\n",
       "       'Pila de cenizas', 'Fragmentos de vidrio o cerámica',\n",
       "       'Colector de aguas pluviales', 'Puesto de comida para llevar',\n",
       "       'Tienda al por menor', 'Tienda de comestibles',\n",
       "       'Tienda de conveniencia', 'Fragmentos de electrónicos',\n",
       "       'Otros desechos electrónicos', 'Agregado y ladrillo',\n",
       "       'Materiales de construcción', 'Otros artículos de construcción',\n",
       "       'Otros fragmentos', 'Ligas de goma', 'Llantas', 'Palito de paleta',\n",
       "       'Tablas de madera', 'Fragmentos de metal', 'Otro metal',\n",
       "       'Pernos/ clavos y tornillos',\n",
       "       'Tapas o lengüetas de metal para botellas',\n",
       "       'Otros desechos orgánicos', 'Desechos de comida',\n",
       "       'Boyas y Flotadores', 'Otro', 'Sedal',\n",
       "       'Caja de papel multimaterial', 'Otro papel', 'Papel', 'Recibos',\n",
       "       'Otro equipo de pesca', 'Bolsa de plástico (otra)',\n",
       "       'Bolsa de plástico para comestibles', 'Bolsas a granel',\n",
       "       'Botella de plástico', 'Cuerda de plástico',\n",
       "       'Cuerda de plástico/ cinta o correas de embalaje',\n",
       "       'Envoltorio de plástico para alimentos',\n",
       "       'Fragmentos de película de plástico',\n",
       "       'Fragmentos de plástico duro', 'Otro plástico',\n",
       "       'Otro plástico relacionado con los alimentos', 'Popotes',\n",
       "       'Red de plástico o piezas de red', 'Tapa de botella de plástico',\n",
       "       'Utensilios de plástico', 'Basurero', 'Bote de la basura',\n",
       "       'Bote de reciclaje', 'Reciclaje informal', 'Careta',\n",
       "       'Cepillos de dientes', 'Champú u otro recipiente de HDPE',\n",
       "       'Cotonetes de algodón', 'Cubrezapatos de hospital',\n",
       "       'Elemento de prueba', 'Embalaje de EPI asociado',\n",
       "       'Embalaje de mascarilla facial', 'Guantes desechables',\n",
       "       'Máscaras faciales', 'Otro producto de cuidado personal',\n",
       "       'Otros EPI', 'Paquete de medicamentos', 'Redes para el cabello',\n",
       "       'Sobre de productos de cuidado personal',\n",
       "       'Toallitas desinfectantes',\n",
       "       'Tubo de pasta de dientes u otro producto',\n",
       "       'Cajetilla de cigarrillos', 'Cigarrillos',\n",
       "       'Otro producto de tabaco', 'Sobres de tabaco',\n",
       "       'Chancletas/sandalias', 'Otra tela', 'Piezas de tela', 'Ropa',\n",
       "       'Contenedor de espuma de poliestireno (unicel)',\n",
       "       'Fragmentos de espuma (unicel)', 'Tazón de comida para llevar',\n",
       "       'Vasos o tapas de unicel o plástico', 'Botella de vidrio',\n",
       "       'Otro vidrio', 'Other Metal', 'Metal fragments',\n",
       "       'Aluminum or tin cans', 'Other Paper & Lumber', 'Pallets',\n",
       "       'Paper and Cardboard', 'Food wrappers (paper)',\n",
       "       'Lumber/Building Materials', 'Paper Bags', 'Plastico para cerveza',\n",
       "       'Fabric Face Masks', 'Other Cloth', 'Towels or rags',\n",
       "       'Fabric pieces', 'Clothing and Shoes', 'Glass fragments',\n",
       "       'Glass Jars', 'Bolsa de plastico para comestibles',\n",
       "       'Bolsa de plastico (otra)', 'Botella de plastico',\n",
       "       'Tapa de botella de plastico',\n",
       "       'Vasos o tapas de unicel o plastico',\n",
       "       'Envoltorio de plastico para alimentos', 'Cotonetes de algodÃ³n',\n",
       "       'ChampÃº u otro recipiente de HDPE', 'Fragmentos de plastico duro',\n",
       "       'Fragmentos de peliculade plastico', 'Utensilios de plastico',\n",
       "       'Tapas o lenguetas de metal para botellas',\n",
       "       'Materiales de cconstruccion', 'carton acanalado', 'papel',\n",
       "       'Cuerda de plastico', 'Red de plastico o piezas de red',\n",
       "       'baterias', 'papel de aluminio', 'Otros desechos electronicos',\n",
       "       'Otros desechos organico', 'Fragmentos de vidrio o cerÃ¡mica',\n",
       "       'Otro plastico relacionado con los alimentos', 'Otro plastico',\n",
       "       'carton recubierto', 'TazÃ³n de comida para llevar',\n",
       "       'Otros artÃ\\xadculos de cconstruccion',\n",
       "       'Fragmentos de electronicos',\n",
       "       'Cuerda de plastico/ cinta o correas de embalaje',\n",
       "       'Tienda de cafÃ© / tÃ©', 'Otro Restaurante', 'Otra tienda',\n",
       "       'Canal', 'MÃ¡scaras faciales',\n",
       "       'Bolsa de Plastico para comestibles', 'Bolsa de Plastico (otra)',\n",
       "       'Botella de Plastico', 'Tapa de botella de Plastico',\n",
       "       'Utensilios de Plastico', 'Envoltorio de Plastico para alimentos',\n",
       "       'Vasos o tapas de unicel o Plastico',\n",
       "       'Otro Plastico relacionado con los alimentos',\n",
       "       'Cuerda de Plastico/ cinta o correas de embalaje', 'Otro Plastico',\n",
       "       'Fragmentos de Plastico duro',\n",
       "       'Fragmentos de película de Plastico', 'Materiales de Construccion',\n",
       "       'Otros artículos de Construccion',\n",
       "       'Otros articulos de Construccion'], dtype=object)"
      ]
     },
     "execution_count": 63,
     "metadata": {},
     "output_type": "execute_result"
    }
   ],
   "source": [
    "all_together_fix.itemname.unique()"
   ]
  },
  {
   "cell_type": "code",
   "execution_count": 64,
   "id": "f9216ee4-5a4e-4f5f-b71e-cb242f05affc",
   "metadata": {
    "tags": []
   },
   "outputs": [],
   "source": [
    "all_together_fix_2 = all_together_fix.copy()\n",
    "\n",
    "fix_names = {'Latas de aluminio o estaño':['Aluminum or tin cans'],\n",
    "             'Papel de aluminio':['papel de aluminio'],\n",
    "             'Baterías':['baterias'],\n",
    "             'Cartón acanalado':['carton acanalado'],\n",
    "             'Cartón recubierto':['carton recubierto'],\n",
    "             'Envoltura de alimentos de papel sin recubrimiento':['Food wrappers (paper)'],\n",
    "             'Fragmentos de vidrio o cerámica':['Fragmentos de vidrio o cerÃ¡mica','Glass fragments'],\n",
    "             'Fragmentos de electrónicos':['Fragmentos de electronicos'],\n",
    "             'Otros desechos electrónicos':['Otros desechos electronicos'],\n",
    "             'Materiales de construcción':['Materiales de cconstruccion','Materiales de Construccion','Lumber/Building Materials'],\n",
    "             'Otros artículos de construcción':['Otros artÃ­culos de cconstruccion','Otros artículos de Construccion','Otros articulos de Construccion'],\n",
    "             'Palito de paleta':['Pallets'],\n",
    "             'Fragmentos de metal':['Metal fragments'],\n",
    "             'Otro metal':['Other Metal'],\n",
    "             'Tapas o lengüetas de metal para botellas':['Tapas o lenguetas de metal para botellas'],\n",
    "             'Otros desechos orgánicos':['Otros desechos organico'],\n",
    "             'Bolsas de papel':['Paper Bags'],\n",
    "             'Papel':['papel','Paper and Cardboard'],\n",
    "             'Bolsa de plástico (otra)':['Bolsa de plastico (otra)','Bolsa de Plastico (otra)'],\n",
    "             'Bolsa de plástico para comestibles':['Bolsa de plastico para comestibles','Bolsa de Plastico para comestibles'],\n",
    "             'Botella de plástico':['Botella de plastico','Botella de Plastico'],\n",
    "             'Cuerda de plástico':['Cuerda de plastico'],\n",
    "             'Cuerda de plástico/ cinta o correas de embalaje':['Cuerda de plastico/ cinta o correas de embalaje','Cuerda de Plastico/ cinta o correas de embalaje'],\n",
    "             'Envoltorio de plástico para alimentos':['Envoltorio de plastico para alimentos','Envoltorio de Plastico para alimentos'],\n",
    "             'Fragmentos de película de plástico':['Fragmentos de peliculade plastico','Fragmentos de película de Plastico'],\n",
    "             'Fragmentos de plástico duro':['Fragmentos de plastico duro','Fragmentos de Plastico duro'],\n",
    "             'Otro plástico':['Otro plastico','Otro Plastico'],\n",
    "             'Otro plástico relacionado con los alimentos':['Otro plastico relacionado con los alimentos','Otro Plastico relacionado con los alimentos'],\n",
    "             'Red de plástico o piezas de red':['Red de plastico o piezas de red','Tapa de botella de Plastico'],\n",
    "             'Tapa de botella de plástico':['Tapa de botella de plastico'],\n",
    "             'Utensilios de plástico':['Utensilios de plastico','Utensilios de Plastico'],\n",
    "             'Champú u otro recipiente de HDPE':['ChampÃº u otro recipiente de HDPE'],\n",
    "             'Cotonetes de algodón':['Cotonetes de algodÃ³n'],\n",
    "             'Máscaras faciales':['MÃ¡scaras faciales','Fabric Face Masks'],\n",
    "             'Otra tela':['Other Cloth'],\n",
    "             'Piezas de tela':['Fabric pieces'],\n",
    "             'Tazón de comida para llevar':['TazÃ³n de comida para llevar'],\n",
    "             'Vasos o tapas de unicel o plástico':['Vasos o tapas de unicel o plastico','Vasos o tapas de unicel o Plastico'],\n",
    "             'Botella de vidrio':['Glass Jars'],\n",
    "             'Otro papel':['Other Paper & Lumber'],\n",
    "             'Bolsas de papel':['Paper Bags'],\n",
    "             'Toallas o trapos':['Towels or rags'],\n",
    "             'Ropa o zapatos':['Clothing and Shoes'],\n",
    "             'Tienda de café / té':['Tienda de cafÃ© / tÃ©']\n",
    "            }\n",
    "\n",
    "for k in fix_names.keys():\n",
    "    for item in fix_names[k]:\n",
    "        idx = all_together_fix_2.itemname == item\n",
    "        all_together_fix_2.loc[idx,'itemname'] = k"
   ]
  },
  {
   "cell_type": "code",
   "execution_count": 65,
   "id": "6c56cc70-f645-4a78-9792-a161a8b269d2",
   "metadata": {
    "tags": []
   },
   "outputs": [
    {
     "data": {
      "text/plain": [
       "array(['Latas de aluminio o estaño', 'Papel de aluminio', 'Baterías',\n",
       "       'Cartón acanalado', 'Cartón recubierto',\n",
       "       'Envoltura de alimentos de papel sin recubrimiento',\n",
       "       'Pila de cenizas', 'Fragmentos de vidrio o cerámica',\n",
       "       'Colector de aguas pluviales', 'Puesto de comida para llevar',\n",
       "       'Tienda al por menor', 'Tienda de comestibles',\n",
       "       'Tienda de conveniencia', 'Fragmentos de electrónicos',\n",
       "       'Otros desechos electrónicos', 'Agregado y ladrillo',\n",
       "       'Materiales de construcción', 'Otros artículos de construcción',\n",
       "       'Otros fragmentos', 'Ligas de goma', 'Llantas', 'Palito de paleta',\n",
       "       'Tablas de madera', 'Fragmentos de metal', 'Otro metal',\n",
       "       'Pernos/ clavos y tornillos',\n",
       "       'Tapas o lengüetas de metal para botellas',\n",
       "       'Otros desechos orgánicos', 'Desechos de comida',\n",
       "       'Boyas y Flotadores', 'Otro', 'Sedal',\n",
       "       'Caja de papel multimaterial', 'Otro papel', 'Papel', 'Recibos',\n",
       "       'Otro equipo de pesca', 'Bolsa de plástico (otra)',\n",
       "       'Bolsa de plástico para comestibles', 'Bolsas a granel',\n",
       "       'Botella de plástico', 'Cuerda de plástico',\n",
       "       'Cuerda de plástico/ cinta o correas de embalaje',\n",
       "       'Envoltorio de plástico para alimentos',\n",
       "       'Fragmentos de película de plástico',\n",
       "       'Fragmentos de plástico duro', 'Otro plástico',\n",
       "       'Otro plástico relacionado con los alimentos', 'Popotes',\n",
       "       'Red de plástico o piezas de red', 'Tapa de botella de plástico',\n",
       "       'Utensilios de plástico', 'Basurero', 'Bote de la basura',\n",
       "       'Bote de reciclaje', 'Reciclaje informal', 'Careta',\n",
       "       'Cepillos de dientes', 'Champú u otro recipiente de HDPE',\n",
       "       'Cotonetes de algodón', 'Cubrezapatos de hospital',\n",
       "       'Elemento de prueba', 'Embalaje de EPI asociado',\n",
       "       'Embalaje de mascarilla facial', 'Guantes desechables',\n",
       "       'Máscaras faciales', 'Otro producto de cuidado personal',\n",
       "       'Otros EPI', 'Paquete de medicamentos', 'Redes para el cabello',\n",
       "       'Sobre de productos de cuidado personal',\n",
       "       'Toallitas desinfectantes',\n",
       "       'Tubo de pasta de dientes u otro producto',\n",
       "       'Cajetilla de cigarrillos', 'Cigarrillos',\n",
       "       'Otro producto de tabaco', 'Sobres de tabaco',\n",
       "       'Chancletas/sandalias', 'Otra tela', 'Piezas de tela', 'Ropa',\n",
       "       'Contenedor de espuma de poliestireno (unicel)',\n",
       "       'Fragmentos de espuma (unicel)', 'Tazón de comida para llevar',\n",
       "       'Vasos o tapas de unicel o plástico', 'Botella de vidrio',\n",
       "       'Otro vidrio', 'Bolsas de papel', 'Plastico para cerveza',\n",
       "       'Toallas o trapos', 'Ropa o zapatos', 'Tienda de café / té',\n",
       "       'Otro Restaurante', 'Otra tienda', 'Canal'], dtype=object)"
      ]
     },
     "execution_count": 65,
     "metadata": {},
     "output_type": "execute_result"
    }
   ],
   "source": [
    "all_together_fix_2.itemname.unique()"
   ]
  },
  {
   "cell_type": "markdown",
   "id": "99040559-3b97-4d78-9dbb-9613baa7843d",
   "metadata": {
    "jp-MarkdownHeadingCollapsed": true,
    "tags": []
   },
   "source": [
    "## Delete categories that will not be used in analysis"
   ]
  },
  {
   "cell_type": "code",
   "execution_count": 66,
   "id": "e13a8a1a-fce0-4f06-997f-159fb348432e",
   "metadata": {
    "tags": []
   },
   "outputs": [
    {
     "data": {
      "text/plain": [
       "array(['Aluminio', 'Baterias', 'Carton', 'Cenizas', 'Ceramica',\n",
       "       'Colector de aguas pluviales', 'Comercio', 'Electronica',\n",
       "       'Escombros', 'Goma', 'Llantas', 'Madera', 'Metal', 'Organico',\n",
       "       'Otros', 'Papel', 'Pesca', 'Plastico', 'Recoleccion',\n",
       "       'Salud e higiene', 'Tabaco', 'Tela', 'Unicel', 'Vidrio', 'EPI',\n",
       "       'Recipiente de basura', 'Reciclaje', 'Canal', 'Colector',\n",
       "       'Basurero', 'Hidrología'], dtype=object)"
      ]
     },
     "execution_count": 66,
     "metadata": {},
     "output_type": "execute_result"
    }
   ],
   "source": [
    "all_together_fix_2.material.unique()"
   ]
  },
  {
   "cell_type": "code",
   "execution_count": 82,
   "id": "1750a57e-283e-4645-b406-2338d0402605",
   "metadata": {
    "tags": []
   },
   "outputs": [
    {
     "name": "stdout",
     "output_type": "stream",
     "text": [
      "(38686, 8)\n"
     ]
    },
    {
     "data": {
      "text/html": [
       "<div>\n",
       "<style scoped>\n",
       "    .dataframe tbody tr th:only-of-type {\n",
       "        vertical-align: middle;\n",
       "    }\n",
       "\n",
       "    .dataframe tbody tr th {\n",
       "        vertical-align: top;\n",
       "    }\n",
       "\n",
       "    .dataframe thead th {\n",
       "        text-align: right;\n",
       "    }\n",
       "</style>\n",
       "<table border=\"1\" class=\"dataframe\">\n",
       "  <thead>\n",
       "    <tr style=\"text-align: right;\">\n",
       "      <th></th>\n",
       "      <th>itemname</th>\n",
       "      <th>tipo</th>\n",
       "      <th>material</th>\n",
       "      <th>quantity</th>\n",
       "      <th>latitude</th>\n",
       "      <th>longitude</th>\n",
       "      <th>altitude</th>\n",
       "      <th>data_origin</th>\n",
       "    </tr>\n",
       "  </thead>\n",
       "  <tbody>\n",
       "    <tr>\n",
       "      <th>0</th>\n",
       "      <td>Latas de aluminio o estaño</td>\n",
       "      <td>NaN</td>\n",
       "      <td>Aluminio</td>\n",
       "      <td>4</td>\n",
       "      <td>0.084465</td>\n",
       "      <td>-79.050839</td>\n",
       "      <td>627.300049</td>\n",
       "      <td>9 de enero.csv</td>\n",
       "    </tr>\n",
       "    <tr>\n",
       "      <th>1</th>\n",
       "      <td>Latas de aluminio o estaño</td>\n",
       "      <td>NaN</td>\n",
       "      <td>Aluminio</td>\n",
       "      <td>1</td>\n",
       "      <td>-33.629462</td>\n",
       "      <td>-71.549508</td>\n",
       "      <td>104.600000</td>\n",
       "      <td>9 de enero.csv</td>\n",
       "    </tr>\n",
       "  </tbody>\n",
       "</table>\n",
       "</div>"
      ],
      "text/plain": [
       "                     itemname tipo  material  quantity   latitude  longitude  \\\n",
       "0  Latas de aluminio o estaño  NaN  Aluminio         4   0.084465 -79.050839   \n",
       "1  Latas de aluminio o estaño  NaN  Aluminio         1 -33.629462 -71.549508   \n",
       "\n",
       "     altitude     data_origin  \n",
       "0  627.300049  9 de enero.csv  \n",
       "1  104.600000  9 de enero.csv  "
      ]
     },
     "execution_count": 82,
     "metadata": {},
     "output_type": "execute_result"
    }
   ],
   "source": [
    "# Create a \"checker\" column. All rows will be kept if checker=1. Categories to be deleted are assigned checker=0.\n",
    "all_together_fix_2['checker'] = 1\n",
    "\n",
    "# Assign checker=0\n",
    "del_categories = ['Colector de aguas pluviales','Comercio','Recoleccion','Recipiente de basura', 'Reciclaje', 'Canal', 'Colector','Basurero', 'Hidrología']\n",
    "for mat in del_categories:\n",
    "    idx = all_together_fix_2.material == mat\n",
    "    all_together_fix_2.loc[idx,'checker'] = 0\n",
    "    \n",
    "# Keep those with checker = 1\n",
    "all_together_fix_3 = all_together_fix_2.loc[all_together_fix_2.checker == 1]\n",
    "# Delete column \"checker\"\n",
    "all_together_fix_3 = all_together_fix_3[columns_tokeep]\n",
    "\n",
    "# Show\n",
    "print(all_together_fix_3.shape)\n",
    "all_together_fix_3.head(2)"
   ]
  },
  {
   "cell_type": "markdown",
   "id": "19317704-7546-4498-a029-827dd0edcaad",
   "metadata": {
    "jp-MarkdownHeadingCollapsed": true,
    "tags": []
   },
   "source": [
    "## Drop duplicates"
   ]
  },
  {
   "cell_type": "code",
   "execution_count": 83,
   "id": "9c1de246-5bf5-4e45-bb74-d069795f314d",
   "metadata": {
    "tags": []
   },
   "outputs": [
    {
     "name": "stdout",
     "output_type": "stream",
     "text": [
      "(17226, 8)\n"
     ]
    },
    {
     "data": {
      "text/html": [
       "<div>\n",
       "<style scoped>\n",
       "    .dataframe tbody tr th:only-of-type {\n",
       "        vertical-align: middle;\n",
       "    }\n",
       "\n",
       "    .dataframe tbody tr th {\n",
       "        vertical-align: top;\n",
       "    }\n",
       "\n",
       "    .dataframe thead th {\n",
       "        text-align: right;\n",
       "    }\n",
       "</style>\n",
       "<table border=\"1\" class=\"dataframe\">\n",
       "  <thead>\n",
       "    <tr style=\"text-align: right;\">\n",
       "      <th></th>\n",
       "      <th>itemname</th>\n",
       "      <th>tipo</th>\n",
       "      <th>material</th>\n",
       "      <th>quantity</th>\n",
       "      <th>latitude</th>\n",
       "      <th>longitude</th>\n",
       "      <th>altitude</th>\n",
       "      <th>data_origin</th>\n",
       "    </tr>\n",
       "  </thead>\n",
       "  <tbody>\n",
       "    <tr>\n",
       "      <th>0</th>\n",
       "      <td>Latas de aluminio o estaño</td>\n",
       "      <td>NaN</td>\n",
       "      <td>Aluminio</td>\n",
       "      <td>4</td>\n",
       "      <td>0.084465</td>\n",
       "      <td>-79.050839</td>\n",
       "      <td>627.300049</td>\n",
       "      <td>9 de enero.csv</td>\n",
       "    </tr>\n",
       "    <tr>\n",
       "      <th>1</th>\n",
       "      <td>Latas de aluminio o estaño</td>\n",
       "      <td>NaN</td>\n",
       "      <td>Aluminio</td>\n",
       "      <td>1</td>\n",
       "      <td>-33.629462</td>\n",
       "      <td>-71.549508</td>\n",
       "      <td>104.600000</td>\n",
       "      <td>9 de enero.csv</td>\n",
       "    </tr>\n",
       "  </tbody>\n",
       "</table>\n",
       "</div>"
      ],
      "text/plain": [
       "                     itemname tipo  material  quantity   latitude  longitude  \\\n",
       "0  Latas de aluminio o estaño  NaN  Aluminio         4   0.084465 -79.050839   \n",
       "1  Latas de aluminio o estaño  NaN  Aluminio         1 -33.629462 -71.549508   \n",
       "\n",
       "     altitude     data_origin  \n",
       "0  627.300049  9 de enero.csv  \n",
       "1  104.600000  9 de enero.csv  "
      ]
     },
     "execution_count": 83,
     "metadata": {},
     "output_type": "execute_result"
    }
   ],
   "source": [
    "# Drop duplicates for item data (itemname, tipo, material, quantity) and location (latitude, longitude)\n",
    "garbage = all_together_fix_3.drop_duplicates(subset=['itemname','tipo','material','quantity','latitude','longitude'])\n",
    "\n",
    "# Show\n",
    "print(garbage.shape)\n",
    "garbage.head(2)"
   ]
  },
  {
   "cell_type": "markdown",
   "id": "738d9acc-f6c6-4c5c-a95e-fee9af66d81e",
   "metadata": {},
   "source": [
    "## Save to local"
   ]
  },
  {
   "cell_type": "code",
   "execution_count": 84,
   "id": "4eccda06-be5a-4f85-8dbd-65c018ce37d7",
   "metadata": {
    "tags": []
   },
   "outputs": [],
   "source": [
    "garbage.to_csv(\"../../data/external/temporal_fromjupyter/residuos_arroyovivo.csv\",index=False)"
   ]
  },
  {
   "cell_type": "code",
   "execution_count": null,
   "id": "bf70f9de-1cc0-4356-b004-345ab3bb354c",
   "metadata": {},
   "outputs": [],
   "source": []
  }
 ],
 "metadata": {
  "kernelspec": {
   "display_name": "Python 3 (ipykernel)",
   "language": "python",
   "name": "python3"
  },
  "language_info": {
   "codemirror_mode": {
    "name": "ipython",
    "version": 3
   },
   "file_extension": ".py",
   "mimetype": "text/x-python",
   "name": "python",
   "nbconvert_exporter": "python",
   "pygments_lexer": "ipython3",
   "version": "3.10.5"
  }
 },
 "nbformat": 4,
 "nbformat_minor": 5
}
