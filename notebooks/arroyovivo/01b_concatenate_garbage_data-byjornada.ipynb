{
 "cells": [
  {
   "cell_type": "markdown",
   "id": "f352e018-aa8b-4f8f-a65b-b4ea36a73764",
   "metadata": {},
   "source": [
    "# Concatenate garbage data from Arroyo Vivo \n",
    "## (Produces final arroyovivo_residuosjornada_point geodataframe) "
   ]
  },
  {
   "cell_type": "markdown",
   "id": "1456d2bd-d40a-4777-b7d1-b756c8049050",
   "metadata": {},
   "source": [
    "This notebook takes as input 9 csvs that come directly from Marine App (mdt csvs), which contain datetime data.\n",
    "\n",
    "There are two types of mdt csvs. The first type has a column for \"master_item_id\" (which represents a middle category) as a number, while the second type has a column for \"material\" (which also represents a middle category) as a string.\n",
    "\n",
    "This column is changed to the name \"tipo\", while a \"material\" column is created for all csvs based on previous data (generated on Notebook 01a_concatenate_garbage_data).\n",
    "\n",
    "* \"itemname\" --> How the item was used (Bolsa de Plastico para comestibles, Vasos o tapas de unicel o Plastico)\n",
    "* \"tipo\" --> middle category\n",
    "* \"material\" --> Material of item (Vidrio, Plastico, Papel, Unicel etc)\n",
    "\n",
    "Notes:\n",
    "* After this notebook it was noted that some points where missing. The missing points correspond to csv \"30_05.csv\" and required a specific data treatment in order to be added."
   ]
  },
  {
   "cell_type": "code",
   "execution_count": 1,
   "id": "2fa109d7-f9a0-47d0-806f-ce6de1310e4f",
   "metadata": {
    "tags": []
   },
   "outputs": [
    {
     "name": "stderr",
     "output_type": "stream",
     "text": [
      "/usr/local/python/lib/python3.10/site-packages/osmnx/utils.py:192: UserWarning: The `utils.config` function is deprecated and will be removed in a future release. Instead, use the `settings` module directly to configure a global setting's value. For example, `ox.settings.log_console=True`.\n",
      "  warnings.warn(\n"
     ]
    }
   ],
   "source": [
    "import os\n",
    "import sys\n",
    "\n",
    "import pandas as pd\n",
    "import geopandas as gpd\n",
    "import numpy as np\n",
    "\n",
    "import matplotlib.pyplot as plt\n",
    "from matplotlib import colors\n",
    "import seaborn as sns\n",
    "\n",
    "from pandas.api.types import CategoricalDtype\n",
    "\n",
    "import warnings\n",
    "warnings.simplefilter(action='ignore', category=FutureWarning)\n",
    "\n",
    "module_path = os.path.abspath(os.path.join('../../'))\n",
    "if module_path not in sys.path:\n",
    "    sys.path.append(module_path)\n",
    "    import aup"
   ]
  },
  {
   "cell_type": "markdown",
   "id": "89e05ee2-5d78-4d04-9777-1829b0f0bf83",
   "metadata": {
    "jp-MarkdownHeadingCollapsed": true,
    "tags": []
   },
   "source": [
    "## Download data"
   ]
  },
  {
   "cell_type": "markdown",
   "id": "4130b969-956b-40b2-9d1f-240f6b9322c1",
   "metadata": {
    "jp-MarkdownHeadingCollapsed": true,
    "tags": []
   },
   "source": [
    "### Download new base data (9 csvs with timestamp)"
   ]
  },
  {
   "cell_type": "code",
   "execution_count": 2,
   "id": "76ee55a3-668a-44fc-89fd-726db27356dc",
   "metadata": {
    "tags": []
   },
   "outputs": [],
   "source": [
    "tmp_dir = f'../../data/external/temporal_todocker/arroyo_vivo/input_csv_2/'"
   ]
  },
  {
   "cell_type": "markdown",
   "id": "e7481b2b-89a4-410b-a6c2-ab65877cadef",
   "metadata": {
    "tags": []
   },
   "source": [
    "29_0ctubre_mdt-data.csv"
   ]
  },
  {
   "cell_type": "code",
   "execution_count": 3,
   "id": "cb221946-29e4-45b1-9ad0-3835bc4e93c8",
   "metadata": {
    "tags": []
   },
   "outputs": [
    {
     "name": "stderr",
     "output_type": "stream",
     "text": [
      "/tmp/ipykernel_1000/2686198930.py:1: ParserWarning: Length of header or names does not match length of data. This leads to a loss of data with index_col=False.\n",
      "  doc_29_0ctubre_mdt_data = pd.read_csv(tmp_dir+'29_0ctubre_mdt-data.csv',index_col=False)\n"
     ]
    },
    {
     "data": {
      "text/plain": [
       "Index(['master_item_id', 'item_id', 'itemname', 'id', 'log_index', 'quantity',\n",
       "       'latitude', 'longitude', 'altitude', 'description', 'radius',\n",
       "       'manual_upload', 'project_id', 'project_name', 'timestamp', 'location'],\n",
       "      dtype='object')"
      ]
     },
     "execution_count": 3,
     "metadata": {},
     "output_type": "execute_result"
    }
   ],
   "source": [
    "doc_29_0ctubre_mdt_data = pd.read_csv(tmp_dir+'29_0ctubre_mdt-data.csv',index_col=False)\n",
    "doc_29_0ctubre_mdt_data.columns"
   ]
  },
  {
   "cell_type": "markdown",
   "id": "8f6f9e64-4f51-40aa-b292-0843065f0696",
   "metadata": {
    "tags": []
   },
   "source": [
    "mdt-data (1).csv"
   ]
  },
  {
   "cell_type": "code",
   "execution_count": 4,
   "id": "faf29732-7e1c-436e-a24f-babcdc2d47e3",
   "metadata": {
    "tags": []
   },
   "outputs": [
    {
     "name": "stderr",
     "output_type": "stream",
     "text": [
      "/tmp/ipykernel_1000/2925154035.py:1: ParserWarning: Length of header or names does not match length of data. This leads to a loss of data with index_col=False.\n",
      "  doc_mdt_data_1 = pd.read_csv(tmp_dir+'mdt-data (1).csv',index_col=False)\n"
     ]
    },
    {
     "data": {
      "text/plain": [
       "Index(['master_item_id', 'item_id', 'itemname', 'id', 'log_index', 'quantity',\n",
       "       'latitude', 'longitude', 'altitude', 'description', 'radius',\n",
       "       'manual_upload', 'project_id', 'project_name', 'timestamp', 'location'],\n",
       "      dtype='object')"
      ]
     },
     "execution_count": 4,
     "metadata": {},
     "output_type": "execute_result"
    }
   ],
   "source": [
    "doc_mdt_data_1 = pd.read_csv(tmp_dir+'mdt-data (1).csv',index_col=False)\n",
    "doc_mdt_data_1.columns"
   ]
  },
  {
   "cell_type": "markdown",
   "id": "1afdcac3-0444-4aa0-a46c-156502b2dec7",
   "metadata": {
    "tags": []
   },
   "source": [
    "mdt-data 5julio-24sep.csv"
   ]
  },
  {
   "cell_type": "code",
   "execution_count": 5,
   "id": "3ad534d1-7d3c-4f75-9037-ebb9618568ae",
   "metadata": {
    "tags": []
   },
   "outputs": [
    {
     "name": "stderr",
     "output_type": "stream",
     "text": [
      "/tmp/ipykernel_1000/1728166398.py:1: ParserWarning: Length of header or names does not match length of data. This leads to a loss of data with index_col=False.\n",
      "  doc_mdt_data_5julio_24sep = pd.read_csv(tmp_dir+'mdt-data 5julio-24sep.csv',index_col=False)\n"
     ]
    },
    {
     "data": {
      "text/plain": [
       "Index(['master_item_id', 'item_id', 'itemname', 'id', 'log_index', 'quantity',\n",
       "       'latitude', 'longitude', 'altitude', 'description', 'radius',\n",
       "       'manual_upload', 'project_id', 'project_name', 'timestamp', 'location'],\n",
       "      dtype='object')"
      ]
     },
     "execution_count": 5,
     "metadata": {},
     "output_type": "execute_result"
    }
   ],
   "source": [
    "doc_mdt_data_5julio_24sep = pd.read_csv(tmp_dir+'mdt-data 5julio-24sep.csv',index_col=False)\n",
    "doc_mdt_data_5julio_24sep.columns"
   ]
  },
  {
   "cell_type": "markdown",
   "id": "cd1c666f-266b-4532-bea1-8c407983e5ff",
   "metadata": {
    "tags": []
   },
   "source": [
    "mdt-data 22ago-24sep.csv"
   ]
  },
  {
   "cell_type": "code",
   "execution_count": 6,
   "id": "d2a2b080-6245-44fa-b6f8-85873a1781c5",
   "metadata": {
    "tags": []
   },
   "outputs": [
    {
     "name": "stderr",
     "output_type": "stream",
     "text": [
      "/tmp/ipykernel_1000/1597682300.py:1: ParserWarning: Length of header or names does not match length of data. This leads to a loss of data with index_col=False.\n",
      "  doc_mdt_data_22ago_24sep = pd.read_csv(tmp_dir+'mdt-data 22ago-24sep.csv',index_col=False)\n"
     ]
    },
    {
     "data": {
      "text/plain": [
       "Index(['master_item_id', 'item_id', 'itemname', 'id', 'log_index', 'quantity',\n",
       "       'latitude', 'longitude', 'altitude', 'description', 'radius',\n",
       "       'manual_upload', 'project_id', 'project_name', 'timestamp', 'location'],\n",
       "      dtype='object')"
      ]
     },
     "execution_count": 6,
     "metadata": {},
     "output_type": "execute_result"
    }
   ],
   "source": [
    "doc_mdt_data_22ago_24sep = pd.read_csv(tmp_dir+'mdt-data 22ago-24sep.csv',index_col=False)\n",
    "doc_mdt_data_22ago_24sep.columns"
   ]
  },
  {
   "cell_type": "markdown",
   "id": "72e0ba8a-11da-44d7-998f-86e935713ac0",
   "metadata": {
    "tags": []
   },
   "source": [
    "mdt-data abril a junio 2023.csv"
   ]
  },
  {
   "cell_type": "code",
   "execution_count": 7,
   "id": "ecac7088-b3dc-4273-b5c1-1be6b276969d",
   "metadata": {
    "tags": []
   },
   "outputs": [
    {
     "data": {
      "text/plain": [
       "Index(['list_name', 'itemname', 'material', 'quantity', 'description',\n",
       "       'latitude', 'longitude', 'altitude', 'radius', 'location', 'timestamp',\n",
       "       'dt', 'project_name', 'username', 'manual_upload', 'event_name', 'id',\n",
       "       'log_index'],\n",
       "      dtype='object')"
      ]
     },
     "execution_count": 7,
     "metadata": {},
     "output_type": "execute_result"
    }
   ],
   "source": [
    "doc_mdt_data_abril_junio_2023 = pd.read_csv(tmp_dir+'mdt-data abril a junio 2023.csv',index_col=False)\n",
    "doc_mdt_data_abril_junio_2023.columns"
   ]
  },
  {
   "cell_type": "markdown",
   "id": "db30c511-5349-4700-9410-7595918cac37",
   "metadata": {
    "tags": []
   },
   "source": [
    "mdt-data agosto 2023.csv"
   ]
  },
  {
   "cell_type": "code",
   "execution_count": 8,
   "id": "9e62dec6-f5d9-41e0-9836-f60efe1ab4f9",
   "metadata": {
    "tags": []
   },
   "outputs": [
    {
     "data": {
      "text/plain": [
       "Index(['list_name', 'itemname', 'material', 'quantity', 'description',\n",
       "       'latitude', 'longitude', 'altitude', 'radius', 'location', 'timestamp',\n",
       "       'dt', 'project_name', 'username', 'manual_upload', 'event_name', 'id',\n",
       "       'log_index'],\n",
       "      dtype='object')"
      ]
     },
     "execution_count": 8,
     "metadata": {},
     "output_type": "execute_result"
    }
   ],
   "source": [
    "doc_mdt_data_agosto_2023 = pd.read_csv(tmp_dir+'mdt-data agosto 2023.csv',index_col=False)\n",
    "doc_mdt_data_agosto_2023.columns"
   ]
  },
  {
   "cell_type": "markdown",
   "id": "70382864-d312-41f6-bc43-6970610cc69c",
   "metadata": {
    "tags": []
   },
   "source": [
    "mdt-data_27agosto.csv"
   ]
  },
  {
   "cell_type": "code",
   "execution_count": 9,
   "id": "d05bb09a-ded8-4327-9e64-adc2946675a2",
   "metadata": {
    "tags": []
   },
   "outputs": [
    {
     "name": "stderr",
     "output_type": "stream",
     "text": [
      "/tmp/ipykernel_1000/3933488440.py:1: ParserWarning: Length of header or names does not match length of data. This leads to a loss of data with index_col=False.\n",
      "  doc_mdt_data_27agosto = pd.read_csv(tmp_dir+'mdt-data_27agosto.csv',index_col=False)\n"
     ]
    },
    {
     "data": {
      "text/plain": [
       "Index(['master_item_id', 'item_id', 'itemname', 'id', 'log_index', 'quantity',\n",
       "       'latitude', 'longitude', 'altitude', 'description', 'radius',\n",
       "       'manual_upload', 'project_id', 'project_name', 'timestamp', 'location'],\n",
       "      dtype='object')"
      ]
     },
     "execution_count": 9,
     "metadata": {},
     "output_type": "execute_result"
    }
   ],
   "source": [
    "doc_mdt_data_27agosto = pd.read_csv(tmp_dir+'mdt-data_27agosto.csv',index_col=False)\n",
    "doc_mdt_data_27agosto.columns"
   ]
  },
  {
   "cell_type": "markdown",
   "id": "7ce488d7-c853-4f52-b96e-7e769543ea73",
   "metadata": {
    "tags": []
   },
   "source": [
    "mdt-data_octubre a marzo 2023.csv"
   ]
  },
  {
   "cell_type": "code",
   "execution_count": 10,
   "id": "3c477102-3053-4405-9106-3e0aebd1941b",
   "metadata": {
    "tags": []
   },
   "outputs": [
    {
     "data": {
      "text/plain": [
       "Index(['list_name', 'itemname', 'material', 'quantity', 'description',\n",
       "       'latitude', 'longitude', 'altitude', 'radius', 'location', 'timestamp',\n",
       "       'dt', 'project_name', 'username', 'manual_upload', 'event_name', 'id',\n",
       "       'log_index'],\n",
       "      dtype='object')"
      ]
     },
     "execution_count": 10,
     "metadata": {},
     "output_type": "execute_result"
    }
   ],
   "source": [
    "doc_mdt_data_octubre_marzo_2023 = pd.read_csv(tmp_dir+'mdt-data_octubre a marzo 2023.csv',index_col=False)\n",
    "doc_mdt_data_octubre_marzo_2023.columns"
   ]
  },
  {
   "cell_type": "markdown",
   "id": "f220ff2e-e27d-4ca7-8eb0-87a2f3341a23",
   "metadata": {
    "tags": []
   },
   "source": [
    "mdt-data_Todos los tramos_30nov.csv"
   ]
  },
  {
   "cell_type": "code",
   "execution_count": 11,
   "id": "c0e2c5bd-f8b6-46d6-8f44-b20445250e66",
   "metadata": {
    "tags": []
   },
   "outputs": [
    {
     "name": "stderr",
     "output_type": "stream",
     "text": [
      "/tmp/ipykernel_1000/1232169902.py:1: ParserWarning: Length of header or names does not match length of data. This leads to a loss of data with index_col=False.\n",
      "  doc_mdt_data_todos_los_tramos_30nov = pd.read_csv(tmp_dir+'mdt-data_Todos los tramos_30nov.csv',index_col=False)\n"
     ]
    },
    {
     "data": {
      "text/plain": [
       "Index(['master_item_id', 'item_id', 'itemname', 'id', 'log_index', 'quantity',\n",
       "       'latitude', 'longitude', 'altitude', 'description', 'radius',\n",
       "       'manual_upload', 'project_id', 'project_name', 'timestamp', 'location'],\n",
       "      dtype='object')"
      ]
     },
     "execution_count": 11,
     "metadata": {},
     "output_type": "execute_result"
    }
   ],
   "source": [
    "doc_mdt_data_todos_los_tramos_30nov = pd.read_csv(tmp_dir+'mdt-data_Todos los tramos_30nov.csv',index_col=False)\n",
    "doc_mdt_data_todos_los_tramos_30nov.columns"
   ]
  },
  {
   "cell_type": "markdown",
   "id": "632e3a5d-cc02-4902-bf92-db8984d492a8",
   "metadata": {
    "tags": []
   },
   "source": [
    "## Data treatment for new base data"
   ]
  },
  {
   "cell_type": "markdown",
   "id": "df208be8-7939-4272-a526-08c340e810b1",
   "metadata": {
    "jp-MarkdownHeadingCollapsed": true,
    "tags": []
   },
   "source": [
    "### Data treatment - Concatenate new base data"
   ]
  },
  {
   "cell_type": "markdown",
   "id": "181d58cc-c7fb-43a2-9a5c-796622ffcf53",
   "metadata": {
    "tags": []
   },
   "source": [
    "CSVs type 1 - Starting with master_item_id column"
   ]
  },
  {
   "cell_type": "code",
   "execution_count": 12,
   "id": "0e50a314-5de9-4a95-a43b-e27dbffef126",
   "metadata": {
    "tags": []
   },
   "outputs": [
    {
     "name": "stderr",
     "output_type": "stream",
     "text": [
      "/tmp/ipykernel_1000/3208410158.py:11: ParserWarning: Length of header or names does not match length of data. This leads to a loss of data with index_col=False.\n",
      "  tmp_gdf = pd.read_csv(tmp_dir+csv,\n",
      "/tmp/ipykernel_1000/3208410158.py:11: ParserWarning: Length of header or names does not match length of data. This leads to a loss of data with index_col=False.\n",
      "  tmp_gdf = pd.read_csv(tmp_dir+csv,\n",
      "/tmp/ipykernel_1000/3208410158.py:11: ParserWarning: Length of header or names does not match length of data. This leads to a loss of data with index_col=False.\n",
      "  tmp_gdf = pd.read_csv(tmp_dir+csv,\n",
      "/tmp/ipykernel_1000/3208410158.py:11: ParserWarning: Length of header or names does not match length of data. This leads to a loss of data with index_col=False.\n",
      "  tmp_gdf = pd.read_csv(tmp_dir+csv,\n",
      "/tmp/ipykernel_1000/3208410158.py:11: ParserWarning: Length of header or names does not match length of data. This leads to a loss of data with index_col=False.\n",
      "  tmp_gdf = pd.read_csv(tmp_dir+csv,\n",
      "/tmp/ipykernel_1000/3208410158.py:11: ParserWarning: Length of header or names does not match length of data. This leads to a loss of data with index_col=False.\n",
      "  tmp_gdf = pd.read_csv(tmp_dir+csv,\n"
     ]
    },
    {
     "name": "stdout",
     "output_type": "stream",
     "text": [
      "(15043, 8)\n"
     ]
    },
    {
     "data": {
      "text/html": [
       "<div>\n",
       "<style scoped>\n",
       "    .dataframe tbody tr th:only-of-type {\n",
       "        vertical-align: middle;\n",
       "    }\n",
       "\n",
       "    .dataframe tbody tr th {\n",
       "        vertical-align: top;\n",
       "    }\n",
       "\n",
       "    .dataframe thead th {\n",
       "        text-align: right;\n",
       "    }\n",
       "</style>\n",
       "<table border=\"1\" class=\"dataframe\">\n",
       "  <thead>\n",
       "    <tr style=\"text-align: right;\">\n",
       "      <th></th>\n",
       "      <th>id</th>\n",
       "      <th>itemname</th>\n",
       "      <th>tipo</th>\n",
       "      <th>quantity</th>\n",
       "      <th>latitude</th>\n",
       "      <th>longitude</th>\n",
       "      <th>altitude</th>\n",
       "      <th>datetime</th>\n",
       "    </tr>\n",
       "  </thead>\n",
       "  <tbody>\n",
       "    <tr>\n",
       "      <th>0</th>\n",
       "      <td>2251010</td>\n",
       "      <td>Bolsa de plástico para comestibles</td>\n",
       "      <td>1</td>\n",
       "      <td>5</td>\n",
       "      <td>25.641495</td>\n",
       "      <td>-100.293776</td>\n",
       "      <td>530.400024</td>\n",
       "      <td>2022-10-29 14:05:31</td>\n",
       "    </tr>\n",
       "  </tbody>\n",
       "</table>\n",
       "</div>"
      ],
      "text/plain": [
       "        id                            itemname  tipo  quantity   latitude  \\\n",
       "0  2251010  Bolsa de plástico para comestibles     1         5  25.641495   \n",
       "\n",
       "    longitude    altitude            datetime  \n",
       "0 -100.293776  530.400024 2022-10-29 14:05:31  "
      ]
     },
     "execution_count": 12,
     "metadata": {},
     "output_type": "execute_result"
    }
   ],
   "source": [
    "# csvs type 1 contain 'master_item_id' as a starting column.\n",
    "# All columns: ['master_item_id', 'item_id', 'itemname', 'id', 'log_index', 'quantity',\n",
    "#       'latitude', 'longitude', 'altitude', 'description', 'radius',\n",
    "#       'manual_upload', 'project_id', 'project_name', 'timestamp', 'location']\n",
    "\n",
    "csvs_type1 = ['29_0ctubre_mdt-data.csv','mdt-data (1).csv','mdt-data 5julio-24sep.csv','mdt-data 22ago-24sep.csv','mdt-data_27agosto.csv','mdt-data_Todos los tramos_30nov.csv']\n",
    "\n",
    "# Concatenate csvs\n",
    "type_1 = pd.DataFrame()\n",
    "for csv in csvs_type1:\n",
    "    tmp_gdf = pd.read_csv(tmp_dir+csv,\n",
    "                          index_col=False)\n",
    "    type_1 = pd.concat([type_1,tmp_gdf])\n",
    "    \n",
    "# Set column with date time format\n",
    "type_1['datetime'] = pd.to_datetime(type_1['timestamp'], format='%Y%m%d%H%M%S')\n",
    "\n",
    "# Keep columns of interest\n",
    "type_1 = type_1[['id','itemname','master_item_id','quantity','latitude','longitude','altitude','datetime']]\n",
    "# Rename column of interest\n",
    "type_1.rename(columns={'master_item_id':'tipo'},inplace=True)\n",
    "\n",
    "# Show\n",
    "print(type_1.shape)\n",
    "type_1.head(1)"
   ]
  },
  {
   "cell_type": "markdown",
   "id": "3dad0c63-3367-48bb-9a85-66b983e38018",
   "metadata": {},
   "source": [
    "CSVs type 2 - Starting with list_name column"
   ]
  },
  {
   "cell_type": "code",
   "execution_count": 13,
   "id": "bbcb461b-91cb-4e09-9b64-8f1ed362bae0",
   "metadata": {
    "tags": []
   },
   "outputs": [
    {
     "name": "stdout",
     "output_type": "stream",
     "text": [
      "(9016, 8)\n"
     ]
    },
    {
     "data": {
      "text/html": [
       "<div>\n",
       "<style scoped>\n",
       "    .dataframe tbody tr th:only-of-type {\n",
       "        vertical-align: middle;\n",
       "    }\n",
       "\n",
       "    .dataframe tbody tr th {\n",
       "        vertical-align: top;\n",
       "    }\n",
       "\n",
       "    .dataframe thead th {\n",
       "        text-align: right;\n",
       "    }\n",
       "</style>\n",
       "<table border=\"1\" class=\"dataframe\">\n",
       "  <thead>\n",
       "    <tr style=\"text-align: right;\">\n",
       "      <th></th>\n",
       "      <th>id</th>\n",
       "      <th>itemname</th>\n",
       "      <th>tipo</th>\n",
       "      <th>quantity</th>\n",
       "      <th>latitude</th>\n",
       "      <th>longitude</th>\n",
       "      <th>altitude</th>\n",
       "      <th>datetime</th>\n",
       "    </tr>\n",
       "  </thead>\n",
       "  <tbody>\n",
       "    <tr>\n",
       "      <th>0</th>\n",
       "      <td>2398898</td>\n",
       "      <td>Bolsa de plástico para comestibles</td>\n",
       "      <td>Productos Plásticos para Comida</td>\n",
       "      <td>10</td>\n",
       "      <td>25.641958</td>\n",
       "      <td>-100.296648</td>\n",
       "      <td>553.976016</td>\n",
       "      <td>2023-04-15 14:30:48</td>\n",
       "    </tr>\n",
       "  </tbody>\n",
       "</table>\n",
       "</div>"
      ],
      "text/plain": [
       "        id                            itemname  \\\n",
       "0  2398898  Bolsa de plástico para comestibles   \n",
       "\n",
       "                              tipo  quantity   latitude   longitude  \\\n",
       "0  Productos Plásticos para Comida        10  25.641958 -100.296648   \n",
       "\n",
       "     altitude            datetime  \n",
       "0  553.976016 2023-04-15 14:30:48  "
      ]
     },
     "execution_count": 13,
     "metadata": {},
     "output_type": "execute_result"
    }
   ],
   "source": [
    "# csvs type 2 contain 'list_name' as a starting column.\n",
    "# All columns: ['list_name', 'itemname', 'material', 'quantity', 'description',\n",
    "#       'latitude', 'longitude', 'altitude', 'radius', 'location', 'timestamp',\n",
    "#       'dt', 'project_name', 'username', 'manual_upload', 'event_name', 'id',\n",
    "#       'log_index']\n",
    "\n",
    "csvs_type2 = ['mdt-data abril a junio 2023.csv','mdt-data agosto 2023.csv','mdt-data_octubre a marzo 2023.csv']\n",
    "\n",
    "# Concatenate csvs\n",
    "type_2 = pd.DataFrame()\n",
    "for csv in csvs_type2:\n",
    "    tmp_gdf = pd.read_csv(tmp_dir+csv,\n",
    "                          index_col=False)\n",
    "    type_2 = pd.concat([type_2,tmp_gdf])\n",
    "    \n",
    "# Set column with date time format\n",
    "type_2['datetime'] = pd.to_datetime(type_2['timestamp'], format='%Y%m%d%H%M%S')\n",
    "\n",
    "# Keep columns of interest\n",
    "type_2 = type_2[['id','itemname','material','quantity','latitude','longitude','altitude','datetime']]\n",
    "# Rename column of interest\n",
    "type_2.rename(columns={'material':'tipo'},inplace=True)\n",
    "\n",
    "# Show\n",
    "print(type_2.shape)\n",
    "type_2.head(1)"
   ]
  },
  {
   "cell_type": "markdown",
   "id": "4875523b-c715-42f4-8beb-9246e27cd059",
   "metadata": {},
   "source": [
    "Join both types"
   ]
  },
  {
   "cell_type": "code",
   "execution_count": 14,
   "id": "3b25e767-7bb8-4ccb-a12a-fb421c766878",
   "metadata": {
    "tags": []
   },
   "outputs": [
    {
     "name": "stdout",
     "output_type": "stream",
     "text": [
      "(24059, 8)\n"
     ]
    },
    {
     "data": {
      "text/html": [
       "<div>\n",
       "<style scoped>\n",
       "    .dataframe tbody tr th:only-of-type {\n",
       "        vertical-align: middle;\n",
       "    }\n",
       "\n",
       "    .dataframe tbody tr th {\n",
       "        vertical-align: top;\n",
       "    }\n",
       "\n",
       "    .dataframe thead th {\n",
       "        text-align: right;\n",
       "    }\n",
       "</style>\n",
       "<table border=\"1\" class=\"dataframe\">\n",
       "  <thead>\n",
       "    <tr style=\"text-align: right;\">\n",
       "      <th></th>\n",
       "      <th>id</th>\n",
       "      <th>itemname</th>\n",
       "      <th>tipo</th>\n",
       "      <th>quantity</th>\n",
       "      <th>latitude</th>\n",
       "      <th>longitude</th>\n",
       "      <th>altitude</th>\n",
       "      <th>datetime</th>\n",
       "    </tr>\n",
       "  </thead>\n",
       "  <tbody>\n",
       "    <tr>\n",
       "      <th>0</th>\n",
       "      <td>2251010</td>\n",
       "      <td>Bolsa de plástico para comestibles</td>\n",
       "      <td>1</td>\n",
       "      <td>5</td>\n",
       "      <td>25.641495</td>\n",
       "      <td>-100.293776</td>\n",
       "      <td>530.400024</td>\n",
       "      <td>2022-10-29 14:05:31</td>\n",
       "    </tr>\n",
       "  </tbody>\n",
       "</table>\n",
       "</div>"
      ],
      "text/plain": [
       "        id                            itemname tipo  quantity   latitude  \\\n",
       "0  2251010  Bolsa de plástico para comestibles    1         5  25.641495   \n",
       "\n",
       "    longitude    altitude            datetime  \n",
       "0 -100.293776  530.400024 2022-10-29 14:05:31  "
      ]
     },
     "execution_count": 14,
     "metadata": {},
     "output_type": "execute_result"
    }
   ],
   "source": [
    "joined_types = pd.concat([type_1,type_2])\n",
    "\n",
    "# Show\n",
    "print(joined_types.shape)\n",
    "joined_types.head(1)"
   ]
  },
  {
   "cell_type": "markdown",
   "id": "4122da5b-857f-4a68-89d7-8a3ac818acfe",
   "metadata": {
    "jp-MarkdownHeadingCollapsed": true,
    "tags": []
   },
   "source": [
    "### Data treatment - Work on 'tipo' data"
   ]
  },
  {
   "cell_type": "markdown",
   "id": "6a2dc248-05d9-462d-8139-0e41c0adf11d",
   "metadata": {},
   "source": [
    "Problem: Most itemnames have type expressed as integer and type expressed as string."
   ]
  },
  {
   "cell_type": "code",
   "execution_count": 15,
   "id": "8aff5909-bb4a-4062-858d-796db4a84875",
   "metadata": {
    "tags": []
   },
   "outputs": [
    {
     "data": {
      "text/plain": [
       "array([36, 'Otro'], dtype=object)"
      ]
     },
     "execution_count": 15,
     "metadata": {},
     "output_type": "execute_result"
    }
   ],
   "source": [
    "prueba = joined_types.loc[joined_types.itemname == 'Otro']\n",
    "prueba.tipo.unique()"
   ]
  },
  {
   "cell_type": "markdown",
   "id": "d9269c1e-ce03-454d-a01a-4a85cd63a2f7",
   "metadata": {},
   "source": [
    "Transform 'tipo' column values which are integer to string according to other values within the same gdf"
   ]
  },
  {
   "cell_type": "code",
   "execution_count": 16,
   "id": "e35d4dfc-9a43-4f80-8765-61be816a477b",
   "metadata": {
    "tags": []
   },
   "outputs": [
    {
     "name": "stdout",
     "output_type": "stream",
     "text": [
      "(24059, 8)\n"
     ]
    },
    {
     "data": {
      "text/html": [
       "<div>\n",
       "<style scoped>\n",
       "    .dataframe tbody tr th:only-of-type {\n",
       "        vertical-align: middle;\n",
       "    }\n",
       "\n",
       "    .dataframe tbody tr th {\n",
       "        vertical-align: top;\n",
       "    }\n",
       "\n",
       "    .dataframe thead th {\n",
       "        text-align: right;\n",
       "    }\n",
       "</style>\n",
       "<table border=\"1\" class=\"dataframe\">\n",
       "  <thead>\n",
       "    <tr style=\"text-align: right;\">\n",
       "      <th></th>\n",
       "      <th>id</th>\n",
       "      <th>itemname</th>\n",
       "      <th>tipo</th>\n",
       "      <th>quantity</th>\n",
       "      <th>latitude</th>\n",
       "      <th>longitude</th>\n",
       "      <th>altitude</th>\n",
       "      <th>datetime</th>\n",
       "    </tr>\n",
       "  </thead>\n",
       "  <tbody>\n",
       "    <tr>\n",
       "      <th>0</th>\n",
       "      <td>2251010</td>\n",
       "      <td>Bolsa de plástico para comestibles</td>\n",
       "      <td>Productos Plásticos para Comida</td>\n",
       "      <td>5</td>\n",
       "      <td>25.641495</td>\n",
       "      <td>-100.293776</td>\n",
       "      <td>530.400024</td>\n",
       "      <td>2022-10-29 14:05:31</td>\n",
       "    </tr>\n",
       "  </tbody>\n",
       "</table>\n",
       "</div>"
      ],
      "text/plain": [
       "        id                            itemname  \\\n",
       "0  2251010  Bolsa de plástico para comestibles   \n",
       "\n",
       "                              tipo  quantity   latitude   longitude  \\\n",
       "0  Productos Plásticos para Comida         5  25.641495 -100.293776   \n",
       "\n",
       "     altitude            datetime  \n",
       "0  530.400024 2022-10-29 14:05:31  "
      ]
     },
     "execution_count": 16,
     "metadata": {},
     "output_type": "execute_result"
    }
   ],
   "source": [
    "joined_types_c = joined_types.copy()\n",
    "\n",
    "# Para cada itemname\n",
    "for item in list(joined_types_c.itemname.unique()):\n",
    "    \n",
    "    # Obtener una lista de los tipos\n",
    "    tmp = joined_types_c.loc[joined_types_c.itemname == item]\n",
    "    tipos = list(tmp.tipo.unique())\n",
    "    \n",
    "    # Si el itemname nada mas tiene un tipo:\n",
    "    if (len(tipos) == 1):\n",
    "        # y el tipo es un string, aceptarlo como el tipo para todos esos itemnames.\n",
    "        if isinstance(tipos[0], str):                  \n",
    "            idx = ((joined_types_c.tipo == tipos[0]) & (joined_types_c.itemname == item))\n",
    "            joined_types_c.loc[idx,'tipo'] = tipos[0]\n",
    "            \n",
    "        # y el tipo es un int, colocar tipo 'desconocido'\n",
    "        elif isinstance(tipos[0], int):\n",
    "            idx = ((joined_types_c.tipo == tipos[0]) & (joined_types_c.itemname == item))\n",
    "            joined_types_c.loc[idx,'tipo'] = 'desconocido'\n",
    "            \n",
    "        # Si es algo más, colocar como caso especial.\n",
    "        else:\n",
    "            print(f'Revisar caso para el itemname {itemname}')\n",
    "            \n",
    "    # Pero si hay dos tipos, lo más probable es que uno sea int y el otro str.\n",
    "    elif len(tipos) == 2:\n",
    "        # Si el primero es el int, colocar el segundo como el tipo\n",
    "        if isinstance(tipos[0], int):\n",
    "            idx = ((joined_types_c.tipo == tipos[0]) & (joined_types_c.itemname == item))\n",
    "            joined_types_c.loc[idx,'tipo'] = tipos[1]\n",
    "        \n",
    "        # Si el segundo es el int, colocar el primero como el tipo  \n",
    "        elif isinstance(tipos[1], int):\n",
    "            idx = ((joined_types_c.tipo == tipos[1]) & (joined_types_c.itemname == item))\n",
    "            joined_types_c.loc[idx,'tipo'] = tipos[0] \n",
    "                    \n",
    "    # Si hay más de tres tipos para un itemname, es un caso especial. Atender por separado.\n",
    "    else:\n",
    "        print(f'El itemname {itemname} tiene más de 2 tipos.')\n",
    "        \n",
    "# Show\n",
    "print(joined_types_c.shape)\n",
    "joined_types_c.head(1)"
   ]
  },
  {
   "cell_type": "markdown",
   "id": "398dd3e1-2718-4043-9a0d-b41a22fa540b",
   "metadata": {},
   "source": [
    "Problem solved"
   ]
  },
  {
   "cell_type": "code",
   "execution_count": 17,
   "id": "55bc478f-f189-49f9-bfbd-0c7e65b235f1",
   "metadata": {
    "tags": []
   },
   "outputs": [
    {
     "data": {
      "text/plain": [
       "array(['Otro'], dtype=object)"
      ]
     },
     "execution_count": 17,
     "metadata": {},
     "output_type": "execute_result"
    }
   ],
   "source": [
    "prueba2 = joined_types_c.loc[joined_types_c.itemname == 'Otro']\n",
    "prueba2.tipo.unique()"
   ]
  },
  {
   "cell_type": "code",
   "execution_count": 18,
   "id": "6250d3dc-8e74-4eeb-b410-51d122bae61c",
   "metadata": {
    "tags": []
   },
   "outputs": [
    {
     "data": {
      "text/plain": [
       "{'Bolsa de plástico para comestibles': ['Productos Plásticos para Comida'],\n",
       " 'Bolsa de plástico (otra)': ['Productos Plásticos para Comida'],\n",
       " 'Botella de plástico': ['Productos Plásticos para Comida'],\n",
       " 'Tapa de botella de plástico': ['Productos Plásticos para Comida'],\n",
       " 'Cajetilla de cigarrillos': ['Productos de Tabaco'],\n",
       " 'Otro producto de tabaco': ['Productos de Tabaco'],\n",
       " 'Cigarrillos': ['Productos de Tabaco'],\n",
       " 'Vasos o tapas de unicel o plástico': ['Productos Plásticos para Comida'],\n",
       " 'Envoltorio de plástico para alimentos': ['Productos Plásticos para Comida'],\n",
       " 'Fragmentos de plástico duro': ['Fragmentos de Plástico  '],\n",
       " 'Fragmentos de película de plástico': ['Fragmentos de Plástico  '],\n",
       " 'Utensilios de plástico': ['Productos Plásticos para Comida'],\n",
       " 'Latas de aluminio o estaño': ['Metales'],\n",
       " 'Botella de vidrio': ['Vidrio'],\n",
       " 'Llantas': ['Otros Productos Plásticos'],\n",
       " 'Ropa': ['Tela'],\n",
       " 'Piezas de tela': ['Tela'],\n",
       " 'Tablas de madera': ['Materiales de Construcción'],\n",
       " 'Materiales de construcción': ['Materiales de Construcción'],\n",
       " 'Envoltura de alimentos de papel sin recubrimiento': ['Papel'],\n",
       " 'Caja de papel multimaterial': ['Papel'],\n",
       " 'Cartón acanalado': ['Papel'],\n",
       " 'Papel': ['Papel'],\n",
       " 'Agregado y ladrillo': ['Materiales de Construcción'],\n",
       " 'Otro': ['Otro'],\n",
       " 'Contenedor de espuma de poliestireno (unicel)': ['Productos Plásticos para Comida'],\n",
       " 'Otros desechos electrónicos': ['Desechos Electrónicos'],\n",
       " 'Otros desechos orgánicos': ['Desechos Orgánicos'],\n",
       " 'Fragmentos de vidrio o cerámica': ['Vidrio'],\n",
       " 'Otro plástico relacionado con los alimentos': ['Productos Plásticos para Comida'],\n",
       " 'Otro plástico': ['Otros Productos Plásticos'],\n",
       " 'Otros fragmentos': ['Fragmentos de Plástico  '],\n",
       " 'Cartón recubierto': ['Papel'],\n",
       " 'Otra tela': ['Tela'],\n",
       " 'Recibos': ['Papel'],\n",
       " 'Otro papel': ['Papel'],\n",
       " 'Otros artículos de construcción': ['Materiales de Construcción'],\n",
       " 'Fragmentos de electrónicos': ['Desechos Electrónicos'],\n",
       " 'Desechos de comida': ['Desechos Orgánicos'],\n",
       " 'Cuerda de plástico/ cinta o correas de embalaje': ['Otros Productos Plásticos'],\n",
       " 'Bolsas a granel': ['Otros Productos Plásticos'],\n",
       " 'Tienda de comestibles': ['Tienda'],\n",
       " 'Tienda al por menor': ['Tienda'],\n",
       " 'Fragmentos de espuma (unicel)': ['Fragmentos de Plástico  '],\n",
       " 'Máscaras faciales': ['EPI'],\n",
       " 'Guantes desechables': ['EPI'],\n",
       " 'Tubo de pasta de dientes u otro producto': ['Productos de Cuidado Personal'],\n",
       " 'Champú u otro recipiente de HDPE': ['Productos de Cuidado Personal'],\n",
       " 'Popotes': ['Productos Plásticos para Comida'],\n",
       " 'Tapas o lengüetas de metal para botellas': ['Metales'],\n",
       " 'Chancletas/sandalias': ['Otros Productos Plásticos'],\n",
       " 'Sedal': ['Herramientas de Pesca'],\n",
       " 'Cuerda de plástico': ['Herramientas de Pesca'],\n",
       " 'Red de plástico o piezas de red': ['Herramientas de Pesca'],\n",
       " 'Elemento de prueba': ['desconocido'],\n",
       " 'Cubrezapatos de hospital': ['EPI'],\n",
       " 'Bote de la basura': ['Infraestructura para Desechos '],\n",
       " 'Bote de reciclaje': ['desconocido'],\n",
       " 'Fragmentos de metal': ['Metales'],\n",
       " 'Baterías': ['Desechos Electrónicos'],\n",
       " 'Papel de aluminio': ['Metales'],\n",
       " 'Ligas de goma': ['Otros Productos Plásticos'],\n",
       " 'Otro metal': ['Metales'],\n",
       " 'Tazón de comida para llevar': ['Productos Plásticos para Comida'],\n",
       " 'Pernos/ clavos y tornillos': ['Materiales de Construcción'],\n",
       " 'Paquete de medicamentos': ['Productos de Cuidado Personal'],\n",
       " 'Puesto de comida para llevar': ['Restaurantes'],\n",
       " 'Otra tienda': ['Tienda'],\n",
       " 'Canal': ['Hidrología'],\n",
       " 'Reciclaje informal': ['Infraestructura para Desechos '],\n",
       " 'Palito de paleta': ['Otro'],\n",
       " 'Toallitas desinfectantes': ['EPI'],\n",
       " 'Cotonetes de algodón': ['desconocido'],\n",
       " 'Cepillos de dientes': ['Productos de Cuidado Personal'],\n",
       " 'Otro producto de cuidado personal': ['Productos de Cuidado Personal'],\n",
       " 'Redes para el cabello': ['EPI'],\n",
       " 'Otros EPI': ['EPI'],\n",
       " 'Embalaje de mascarilla facial': ['EPI'],\n",
       " 'Otro vidrio': ['Vidrio'],\n",
       " 'Otro equipo de pesca': ['desconocido'],\n",
       " 'Sobre de productos de cuidado personal': ['Productos de Cuidado Personal'],\n",
       " 'Sobres de tabaco': ['desconocido'],\n",
       " 'Tienda de café / té': ['desconocido'],\n",
       " 'Otro Restaurante': ['Restaurantes'],\n",
       " 'Tienda de conveniencia': ['Tienda'],\n",
       " 'Colector de aguas pluviales': ['Hidrología'],\n",
       " 'Basurero': ['Infraestructura para Desechos '],\n",
       " 'Pila de cenizas': ['Infraestructura para Desechos '],\n",
       " 'Careta': ['EPI'],\n",
       " 'Embalaje de EPI asociado': ['EPI'],\n",
       " 'Boyas y Flotadores': ['Herramientas de Pesca']}"
      ]
     },
     "execution_count": 18,
     "metadata": {},
     "output_type": "execute_result"
    }
   ],
   "source": [
    "dicc_check = {}\n",
    "\n",
    "for item in list(joined_types_c.itemname.unique()):\n",
    "    tmp = joined_types_c.loc[joined_types_c.itemname == item]\n",
    "    tipos = list(tmp.tipo.unique())\n",
    "    \n",
    "    dicc_check[item] = tipos\n",
    "\n",
    "dicc_check"
   ]
  },
  {
   "cell_type": "markdown",
   "id": "a5d75f51-a90b-4b3e-b380-a6c0438438a4",
   "metadata": {},
   "source": [
    "Manually set 'tipo' for 'desconocido' category"
   ]
  },
  {
   "cell_type": "code",
   "execution_count": 19,
   "id": "c8b92aef-67c0-40b8-8756-fe00e9bbc09b",
   "metadata": {
    "tags": []
   },
   "outputs": [
    {
     "name": "stdout",
     "output_type": "stream",
     "text": [
      "(24059, 8)\n"
     ]
    },
    {
     "data": {
      "text/html": [
       "<div>\n",
       "<style scoped>\n",
       "    .dataframe tbody tr th:only-of-type {\n",
       "        vertical-align: middle;\n",
       "    }\n",
       "\n",
       "    .dataframe tbody tr th {\n",
       "        vertical-align: top;\n",
       "    }\n",
       "\n",
       "    .dataframe thead th {\n",
       "        text-align: right;\n",
       "    }\n",
       "</style>\n",
       "<table border=\"1\" class=\"dataframe\">\n",
       "  <thead>\n",
       "    <tr style=\"text-align: right;\">\n",
       "      <th></th>\n",
       "      <th>id</th>\n",
       "      <th>itemname</th>\n",
       "      <th>tipo</th>\n",
       "      <th>quantity</th>\n",
       "      <th>latitude</th>\n",
       "      <th>longitude</th>\n",
       "      <th>altitude</th>\n",
       "      <th>datetime</th>\n",
       "    </tr>\n",
       "  </thead>\n",
       "  <tbody>\n",
       "    <tr>\n",
       "      <th>0</th>\n",
       "      <td>2251010</td>\n",
       "      <td>Bolsa de plástico para comestibles</td>\n",
       "      <td>Productos Plásticos para Comida</td>\n",
       "      <td>5</td>\n",
       "      <td>25.641495</td>\n",
       "      <td>-100.293776</td>\n",
       "      <td>530.400024</td>\n",
       "      <td>2022-10-29 14:05:31</td>\n",
       "    </tr>\n",
       "  </tbody>\n",
       "</table>\n",
       "</div>"
      ],
      "text/plain": [
       "        id                            itemname  \\\n",
       "0  2251010  Bolsa de plástico para comestibles   \n",
       "\n",
       "                              tipo  quantity   latitude   longitude  \\\n",
       "0  Productos Plásticos para Comida         5  25.641495 -100.293776   \n",
       "\n",
       "     altitude            datetime  \n",
       "0  530.400024 2022-10-29 14:05:31  "
      ]
     },
     "execution_count": 19,
     "metadata": {},
     "output_type": "execute_result"
    }
   ],
   "source": [
    "#desconocidos:'Elemento de prueba','Bote de reciclaje','Cotonetes de algodón','Otro equipo de pesca','Sobres de tabaco','Tienda de café / té'\n",
    "\n",
    "joined_types_cc = joined_types_c.copy()\n",
    "\n",
    "desconocidos_dicc = {'Elemento de prueba':'Salud e higiene',\n",
    "                     'Bote de reciclaje':'Infraestructura para Desechos ',\n",
    "                     'Cotonetes de algodón':'Salud e higiene',\n",
    "                     'Otro equipo de pesca':'Herramientas de Pesca',\n",
    "                     'Sobres de tabaco':'Productos de Tabaco',\n",
    "                     'Tienda de café / té':'Tienda'}\n",
    "\n",
    "for desconocido in desconocidos_dicc:\n",
    "    idx = joined_types_cc.itemname == desconocido\n",
    "    joined_types_cc.loc[idx,'tipo'] = desconocidos_dicc[desconocido]\n",
    "\n",
    "# Show\n",
    "print(joined_types_cc.shape)\n",
    "joined_types_cc.head(1)"
   ]
  },
  {
   "cell_type": "code",
   "execution_count": 20,
   "id": "2757ab26-da2e-43e4-a3d4-573f8fcbd848",
   "metadata": {
    "tags": []
   },
   "outputs": [
    {
     "data": {
      "text/plain": [
       "array(['Productos Plásticos para Comida', 'Productos de Tabaco',\n",
       "       'Fragmentos de Plástico  ', 'Metales', 'Vidrio',\n",
       "       'Otros Productos Plásticos', 'Tela', 'Materiales de Construcción',\n",
       "       'Papel', 'Otro', 'Desechos Electrónicos', 'Desechos Orgánicos',\n",
       "       'Tienda', 'EPI', 'Productos de Cuidado Personal',\n",
       "       'Herramientas de Pesca', 'Salud e higiene',\n",
       "       'Infraestructura para Desechos ', 'Restaurantes', 'Hidrología'],\n",
       "      dtype=object)"
      ]
     },
     "execution_count": 20,
     "metadata": {},
     "output_type": "execute_result"
    }
   ],
   "source": [
    "joined_types_cc.tipo.unique()"
   ]
  },
  {
   "cell_type": "markdown",
   "id": "372f108e-7667-4b00-b9c9-9a410fa9da79",
   "metadata": {
    "jp-MarkdownHeadingCollapsed": true,
    "tags": []
   },
   "source": [
    "### Data treatment - Work on 'material' data (Dictionary)"
   ]
  },
  {
   "cell_type": "markdown",
   "id": "27b2f1d4-4f11-4277-9f82-7d2665a76ef7",
   "metadata": {},
   "source": [
    "#### Dictionary - Itemname-Material Problem solving"
   ]
  },
  {
   "cell_type": "markdown",
   "id": "d3d7f5a9-b07f-4deb-8e55-a1cdc348e525",
   "metadata": {},
   "source": [
    "* Problem: On the first concatenation notebook it was noted that some itemnames have two or more materials in it.\n",
    "* Solution: Find those itemnames and solve for each invividually"
   ]
  },
  {
   "cell_type": "code",
   "execution_count": 21,
   "id": "8670b72a-42a3-4975-848a-f5f77031f44b",
   "metadata": {
    "tags": []
   },
   "outputs": [
    {
     "name": "stdout",
     "output_type": "stream",
     "text": [
      "(16179, 9)\n"
     ]
    },
    {
     "data": {
      "text/html": [
       "<div>\n",
       "<style scoped>\n",
       "    .dataframe tbody tr th:only-of-type {\n",
       "        vertical-align: middle;\n",
       "    }\n",
       "\n",
       "    .dataframe tbody tr th {\n",
       "        vertical-align: top;\n",
       "    }\n",
       "\n",
       "    .dataframe thead th {\n",
       "        text-align: right;\n",
       "    }\n",
       "</style>\n",
       "<table border=\"1\" class=\"dataframe\">\n",
       "  <thead>\n",
       "    <tr style=\"text-align: right;\">\n",
       "      <th></th>\n",
       "      <th>itemname</th>\n",
       "      <th>tipo</th>\n",
       "      <th>material</th>\n",
       "      <th>quantity</th>\n",
       "      <th>latitude</th>\n",
       "      <th>longitude</th>\n",
       "      <th>altitude</th>\n",
       "      <th>data_origin</th>\n",
       "      <th>geometry</th>\n",
       "    </tr>\n",
       "  </thead>\n",
       "  <tbody>\n",
       "    <tr>\n",
       "      <th>0</th>\n",
       "      <td>Latas de aluminio o estaño</td>\n",
       "      <td>None</td>\n",
       "      <td>Aluminio</td>\n",
       "      <td>11</td>\n",
       "      <td>25.644154</td>\n",
       "      <td>-100.310618</td>\n",
       "      <td>627.104902</td>\n",
       "      <td>9 de enero.csv</td>\n",
       "      <td>MULTIPOINT (-100.31062 25.64415)</td>\n",
       "    </tr>\n",
       "  </tbody>\n",
       "</table>\n",
       "</div>"
      ],
      "text/plain": [
       "                     itemname  tipo  material  quantity   latitude  \\\n",
       "0  Latas de aluminio o estaño  None  Aluminio        11  25.644154   \n",
       "\n",
       "    longitude    altitude     data_origin                          geometry  \n",
       "0 -100.310618  627.104902  9 de enero.csv  MULTIPOINT (-100.31062 25.64415)  "
      ]
     },
     "execution_count": 21,
     "metadata": {},
     "output_type": "execute_result"
    }
   ],
   "source": [
    "# Referencia\n",
    "schema = 'projects_research'\n",
    "table = 'arroyovivo_residuos_point'\n",
    "query = f\"SELECT * FROM {schema}.{table}\"\n",
    "residuos_point = aup.gdf_from_query(query, geometry_col='geometry')\n",
    "\n",
    "# Show\n",
    "print(residuos_point.shape)\n",
    "residuos_point.head(1)"
   ]
  },
  {
   "cell_type": "code",
   "execution_count": 22,
   "id": "8f5f9cae-7f21-48d2-b870-ae8a3a538f9a",
   "metadata": {
    "tags": []
   },
   "outputs": [
    {
     "data": {
      "text/html": [
       "<div>\n",
       "<style scoped>\n",
       "    .dataframe tbody tr th:only-of-type {\n",
       "        vertical-align: middle;\n",
       "    }\n",
       "\n",
       "    .dataframe tbody tr th {\n",
       "        vertical-align: top;\n",
       "    }\n",
       "\n",
       "    .dataframe thead th {\n",
       "        text-align: right;\n",
       "    }\n",
       "</style>\n",
       "<table border=\"1\" class=\"dataframe\">\n",
       "  <thead>\n",
       "    <tr style=\"text-align: right;\">\n",
       "      <th></th>\n",
       "      <th>itemname</th>\n",
       "      <th>material</th>\n",
       "    </tr>\n",
       "  </thead>\n",
       "  <tbody>\n",
       "    <tr>\n",
       "      <th>12</th>\n",
       "      <td>Cartón acanalado</td>\n",
       "      <td>Carton</td>\n",
       "    </tr>\n",
       "    <tr>\n",
       "      <th>13</th>\n",
       "      <td>Cartón acanalado</td>\n",
       "      <td>Papel</td>\n",
       "    </tr>\n",
       "    <tr>\n",
       "      <th>14</th>\n",
       "      <td>Cartón recubierto</td>\n",
       "      <td>Carton</td>\n",
       "    </tr>\n",
       "    <tr>\n",
       "      <th>15</th>\n",
       "      <td>Cartón recubierto</td>\n",
       "      <td>Papel</td>\n",
       "    </tr>\n",
       "    <tr>\n",
       "      <th>18</th>\n",
       "      <td>Chancletas/sandalias</td>\n",
       "      <td>Plastico</td>\n",
       "    </tr>\n",
       "    <tr>\n",
       "      <th>19</th>\n",
       "      <td>Chancletas/sandalias</td>\n",
       "      <td>Tela</td>\n",
       "    </tr>\n",
       "    <tr>\n",
       "      <th>21</th>\n",
       "      <td>Contenedor de espuma de poliestireno (unicel)</td>\n",
       "      <td>Plastico</td>\n",
       "    </tr>\n",
       "    <tr>\n",
       "      <th>22</th>\n",
       "      <td>Contenedor de espuma de poliestireno (unicel)</td>\n",
       "      <td>Unicel</td>\n",
       "    </tr>\n",
       "    <tr>\n",
       "      <th>24</th>\n",
       "      <td>Cubrezapatos de hospital</td>\n",
       "      <td>EPI</td>\n",
       "    </tr>\n",
       "    <tr>\n",
       "      <th>25</th>\n",
       "      <td>Cubrezapatos de hospital</td>\n",
       "      <td>Salud e higiene</td>\n",
       "    </tr>\n",
       "    <tr>\n",
       "      <th>26</th>\n",
       "      <td>Cuerda de plástico</td>\n",
       "      <td>Pesca</td>\n",
       "    </tr>\n",
       "    <tr>\n",
       "      <th>27</th>\n",
       "      <td>Cuerda de plástico</td>\n",
       "      <td>Plastico</td>\n",
       "    </tr>\n",
       "    <tr>\n",
       "      <th>30</th>\n",
       "      <td>Elemento de prueba</td>\n",
       "      <td>Otros</td>\n",
       "    </tr>\n",
       "    <tr>\n",
       "      <th>31</th>\n",
       "      <td>Elemento de prueba</td>\n",
       "      <td>Salud e higiene</td>\n",
       "    </tr>\n",
       "    <tr>\n",
       "      <th>33</th>\n",
       "      <td>Embalaje de mascarilla facial</td>\n",
       "      <td>EPI</td>\n",
       "    </tr>\n",
       "    <tr>\n",
       "      <th>34</th>\n",
       "      <td>Embalaje de mascarilla facial</td>\n",
       "      <td>Salud e higiene</td>\n",
       "    </tr>\n",
       "    <tr>\n",
       "      <th>36</th>\n",
       "      <td>Envoltura de alimentos de papel sin recubrimiento</td>\n",
       "      <td>Carton</td>\n",
       "    </tr>\n",
       "    <tr>\n",
       "      <th>37</th>\n",
       "      <td>Envoltura de alimentos de papel sin recubrimiento</td>\n",
       "      <td>Papel</td>\n",
       "    </tr>\n",
       "    <tr>\n",
       "      <th>39</th>\n",
       "      <td>Fragmentos de espuma (unicel)</td>\n",
       "      <td>Plastico</td>\n",
       "    </tr>\n",
       "    <tr>\n",
       "      <th>40</th>\n",
       "      <td>Fragmentos de espuma (unicel)</td>\n",
       "      <td>Unicel</td>\n",
       "    </tr>\n",
       "    <tr>\n",
       "      <th>44</th>\n",
       "      <td>Fragmentos de vidrio o cerámica</td>\n",
       "      <td>Ceramica</td>\n",
       "    </tr>\n",
       "    <tr>\n",
       "      <th>45</th>\n",
       "      <td>Fragmentos de vidrio o cerámica</td>\n",
       "      <td>Vidrio</td>\n",
       "    </tr>\n",
       "    <tr>\n",
       "      <th>46</th>\n",
       "      <td>Guantes desechables</td>\n",
       "      <td>EPI</td>\n",
       "    </tr>\n",
       "    <tr>\n",
       "      <th>47</th>\n",
       "      <td>Guantes desechables</td>\n",
       "      <td>Salud e higiene</td>\n",
       "    </tr>\n",
       "    <tr>\n",
       "      <th>48</th>\n",
       "      <td>Latas de aluminio o estaño</td>\n",
       "      <td>Aluminio</td>\n",
       "    </tr>\n",
       "    <tr>\n",
       "      <th>49</th>\n",
       "      <td>Latas de aluminio o estaño</td>\n",
       "      <td>Metal</td>\n",
       "    </tr>\n",
       "    <tr>\n",
       "      <th>50</th>\n",
       "      <td>Ligas de goma</td>\n",
       "      <td>Goma</td>\n",
       "    </tr>\n",
       "    <tr>\n",
       "      <th>51</th>\n",
       "      <td>Ligas de goma</td>\n",
       "      <td>Plastico</td>\n",
       "    </tr>\n",
       "    <tr>\n",
       "      <th>52</th>\n",
       "      <td>Llantas</td>\n",
       "      <td>Llantas</td>\n",
       "    </tr>\n",
       "    <tr>\n",
       "      <th>53</th>\n",
       "      <td>Llantas</td>\n",
       "      <td>Plastico</td>\n",
       "    </tr>\n",
       "    <tr>\n",
       "      <th>54</th>\n",
       "      <td>Materiales de construcción</td>\n",
       "      <td>Escombros</td>\n",
       "    </tr>\n",
       "    <tr>\n",
       "      <th>55</th>\n",
       "      <td>Materiales de construcción</td>\n",
       "      <td>Papel</td>\n",
       "    </tr>\n",
       "    <tr>\n",
       "      <th>56</th>\n",
       "      <td>Máscaras faciales</td>\n",
       "      <td>Salud e higiene</td>\n",
       "    </tr>\n",
       "    <tr>\n",
       "      <th>57</th>\n",
       "      <td>Máscaras faciales</td>\n",
       "      <td>Tela</td>\n",
       "    </tr>\n",
       "    <tr>\n",
       "      <th>60</th>\n",
       "      <td>Otro equipo de pesca</td>\n",
       "      <td>Otros</td>\n",
       "    </tr>\n",
       "    <tr>\n",
       "      <th>61</th>\n",
       "      <td>Otro equipo de pesca</td>\n",
       "      <td>Pesca</td>\n",
       "    </tr>\n",
       "    <tr>\n",
       "      <th>69</th>\n",
       "      <td>Otros EPI</td>\n",
       "      <td>EPI</td>\n",
       "    </tr>\n",
       "    <tr>\n",
       "      <th>70</th>\n",
       "      <td>Otros EPI</td>\n",
       "      <td>Salud e higiene</td>\n",
       "    </tr>\n",
       "    <tr>\n",
       "      <th>74</th>\n",
       "      <td>Otros fragmentos</td>\n",
       "      <td>Escombros</td>\n",
       "    </tr>\n",
       "    <tr>\n",
       "      <th>75</th>\n",
       "      <td>Otros fragmentos</td>\n",
       "      <td>Otros</td>\n",
       "    </tr>\n",
       "    <tr>\n",
       "      <th>76</th>\n",
       "      <td>Otros fragmentos</td>\n",
       "      <td>Plastico</td>\n",
       "    </tr>\n",
       "    <tr>\n",
       "      <th>77</th>\n",
       "      <td>Palito de paleta</td>\n",
       "      <td>Madera</td>\n",
       "    </tr>\n",
       "    <tr>\n",
       "      <th>78</th>\n",
       "      <td>Palito de paleta</td>\n",
       "      <td>Papel</td>\n",
       "    </tr>\n",
       "    <tr>\n",
       "      <th>80</th>\n",
       "      <td>Papel de aluminio</td>\n",
       "      <td>Aluminio</td>\n",
       "    </tr>\n",
       "    <tr>\n",
       "      <th>81</th>\n",
       "      <td>Papel de aluminio</td>\n",
       "      <td>Metal</td>\n",
       "    </tr>\n",
       "    <tr>\n",
       "      <th>83</th>\n",
       "      <td>Pernos/ clavos y tornillos</td>\n",
       "      <td>Escombros</td>\n",
       "    </tr>\n",
       "    <tr>\n",
       "      <th>84</th>\n",
       "      <td>Pernos/ clavos y tornillos</td>\n",
       "      <td>Metal</td>\n",
       "    </tr>\n",
       "    <tr>\n",
       "      <th>85</th>\n",
       "      <td>Pernos/ clavos y tornillos</td>\n",
       "      <td>Plastico</td>\n",
       "    </tr>\n",
       "    <tr>\n",
       "      <th>95</th>\n",
       "      <td>Sedal</td>\n",
       "      <td>Otros</td>\n",
       "    </tr>\n",
       "    <tr>\n",
       "      <th>96</th>\n",
       "      <td>Sedal</td>\n",
       "      <td>Plastico</td>\n",
       "    </tr>\n",
       "    <tr>\n",
       "      <th>97</th>\n",
       "      <td>Sedal</td>\n",
       "      <td>Tela</td>\n",
       "    </tr>\n",
       "    <tr>\n",
       "      <th>100</th>\n",
       "      <td>Tablas de madera</td>\n",
       "      <td>Escombros</td>\n",
       "    </tr>\n",
       "    <tr>\n",
       "      <th>101</th>\n",
       "      <td>Tablas de madera</td>\n",
       "      <td>Madera</td>\n",
       "    </tr>\n",
       "    <tr>\n",
       "      <th>104</th>\n",
       "      <td>Tazón de comida para llevar</td>\n",
       "      <td>Plastico</td>\n",
       "    </tr>\n",
       "    <tr>\n",
       "      <th>105</th>\n",
       "      <td>Tazón de comida para llevar</td>\n",
       "      <td>Unicel</td>\n",
       "    </tr>\n",
       "    <tr>\n",
       "      <th>110</th>\n",
       "      <td>Vasos o tapas de unicel o plástico</td>\n",
       "      <td>Plastico</td>\n",
       "    </tr>\n",
       "    <tr>\n",
       "      <th>111</th>\n",
       "      <td>Vasos o tapas de unicel o plástico</td>\n",
       "      <td>Unicel</td>\n",
       "    </tr>\n",
       "  </tbody>\n",
       "</table>\n",
       "</div>"
      ],
      "text/plain": [
       "                                              itemname         material\n",
       "12                                    Cartón acanalado           Carton\n",
       "13                                    Cartón acanalado            Papel\n",
       "14                                   Cartón recubierto           Carton\n",
       "15                                   Cartón recubierto            Papel\n",
       "18                                Chancletas/sandalias         Plastico\n",
       "19                                Chancletas/sandalias             Tela\n",
       "21       Contenedor de espuma de poliestireno (unicel)         Plastico\n",
       "22       Contenedor de espuma de poliestireno (unicel)           Unicel\n",
       "24                            Cubrezapatos de hospital              EPI\n",
       "25                            Cubrezapatos de hospital  Salud e higiene\n",
       "26                                  Cuerda de plástico            Pesca\n",
       "27                                  Cuerda de plástico         Plastico\n",
       "30                                  Elemento de prueba            Otros\n",
       "31                                  Elemento de prueba  Salud e higiene\n",
       "33                       Embalaje de mascarilla facial              EPI\n",
       "34                       Embalaje de mascarilla facial  Salud e higiene\n",
       "36   Envoltura de alimentos de papel sin recubrimiento           Carton\n",
       "37   Envoltura de alimentos de papel sin recubrimiento            Papel\n",
       "39                       Fragmentos de espuma (unicel)         Plastico\n",
       "40                       Fragmentos de espuma (unicel)           Unicel\n",
       "44                     Fragmentos de vidrio o cerámica         Ceramica\n",
       "45                     Fragmentos de vidrio o cerámica           Vidrio\n",
       "46                                 Guantes desechables              EPI\n",
       "47                                 Guantes desechables  Salud e higiene\n",
       "48                          Latas de aluminio o estaño         Aluminio\n",
       "49                          Latas de aluminio o estaño            Metal\n",
       "50                                       Ligas de goma             Goma\n",
       "51                                       Ligas de goma         Plastico\n",
       "52                                             Llantas          Llantas\n",
       "53                                             Llantas         Plastico\n",
       "54                          Materiales de construcción        Escombros\n",
       "55                          Materiales de construcción            Papel\n",
       "56                                   Máscaras faciales  Salud e higiene\n",
       "57                                   Máscaras faciales             Tela\n",
       "60                                Otro equipo de pesca            Otros\n",
       "61                                Otro equipo de pesca            Pesca\n",
       "69                                           Otros EPI              EPI\n",
       "70                                           Otros EPI  Salud e higiene\n",
       "74                                    Otros fragmentos        Escombros\n",
       "75                                    Otros fragmentos            Otros\n",
       "76                                    Otros fragmentos         Plastico\n",
       "77                                    Palito de paleta           Madera\n",
       "78                                    Palito de paleta            Papel\n",
       "80                                   Papel de aluminio         Aluminio\n",
       "81                                   Papel de aluminio            Metal\n",
       "83                          Pernos/ clavos y tornillos        Escombros\n",
       "84                          Pernos/ clavos y tornillos            Metal\n",
       "85                          Pernos/ clavos y tornillos         Plastico\n",
       "95                                               Sedal            Otros\n",
       "96                                               Sedal         Plastico\n",
       "97                                               Sedal             Tela\n",
       "100                                   Tablas de madera        Escombros\n",
       "101                                   Tablas de madera           Madera\n",
       "104                        Tazón de comida para llevar         Plastico\n",
       "105                        Tazón de comida para llevar           Unicel\n",
       "110                 Vasos o tapas de unicel o plástico         Plastico\n",
       "111                 Vasos o tapas de unicel o plástico           Unicel"
      ]
     },
     "execution_count": 22,
     "metadata": {},
     "output_type": "execute_result"
    }
   ],
   "source": [
    "# Group original data by itemname and material\n",
    "categories = residuos_point.groupby(['itemname','material']).count().reset_index()[['itemname','material']]\n",
    "\n",
    "# Count how many materials exist for each itemname\n",
    "variations = categories.groupby('itemname').count()\n",
    "\n",
    "# Find where there are 2 or more variations\n",
    "problem = variations.loc[variations.material>1].reset_index()\n",
    "problem_list = list(problem.itemname.unique())\n",
    "categories.loc[categories.itemname.isin(problem_list)]"
   ]
  },
  {
   "cell_type": "markdown",
   "id": "215c77d6-4715-4d6a-a920-20c49cabec3a",
   "metadata": {},
   "source": [
    "#### Dictionary - Manual Building of material-itemname dictionary"
   ]
  },
  {
   "cell_type": "code",
   "execution_count": 23,
   "id": "2428f59c-01f4-4a18-b028-aacdf941b00e",
   "metadata": {
    "tags": []
   },
   "outputs": [],
   "source": [
    "material_itemname_dicc = {'plastico':['Bolsa de plástico para comestibles', 'Bolsa de plástico (otra)','Botella de plástico','Tapa de botella de plástico',\n",
    "                                      'Envoltorio de plástico para alimentos','Fragmentos de plástico duro', 'Fragmentos de película de plástico',\n",
    "                                      'Utensilios de plástico','Otro plástico relacionado con los alimentos','Otro plástico',\n",
    "                                      'Cuerda de plástico/ cinta o correas de embalaje','Bolsas a granel','Popotes', \n",
    "                                      'Plastico para cerveza'\n",
    "                                     ],\n",
    "                          'tabaco':['Cajetilla de cigarrillos', 'Otro producto de tabaco','Cigarrillos','Sobres de tabaco'],\n",
    "                          'metal':['Latas de aluminio o estaño','Tapas o lengüetas de metal para botellas','Fragmentos de metal','Papel de aluminio','Otro metal'],\n",
    "                          'vidrio':['Botella de vidrio','Otro vidrio'],\n",
    "                          'llantas':['Llantas'],\n",
    "                          'tela':['Ropa','Piezas de tela','Otra tela','Toallas o trapos','Ropa o zapatos'],\n",
    "                          'escombros':['Materiales de construcción','Agregado y ladrillo','Otros artículos de construcción','Pernos/ clavos y tornillos'],\n",
    "                          'papel':['Envoltura de alimentos de papel sin recubrimiento','Caja de papel multimaterial','Papel','Recibos','Otro papel','Bolsas de papel'],\n",
    "                          'carton':['Cartón acanalado','Cartón recubierto'],\n",
    "                          'otros':['Otro','Otros fragmentos'],\n",
    "                          'salud e higiene':['Otro producto de cuidado personal','Tubo de pasta de dientes u otro producto','Champú u otro recipiente de HDPE',\n",
    "                                             'Cotonetes de algodón','Cepillos de dientes','Sobre de productos de cuidado personal','Elemento de prueba'],\n",
    "                          'unicel':['Contenedor de espuma de poliestireno (unicel)','Fragmentos de espuma (unicel)'],\n",
    "                          'electronica':['Otros desechos electrónicos','Fragmentos de electrónicos'],\n",
    "                          'organico':['Otros desechos orgánicos','Desechos de comida'],\n",
    "                          'ceramica':[],\n",
    "                          'comercio':['Tienda de comestibles','Tienda al por menor','Otra tienda','Tienda de conveniencia','Puesto de comida para llevar','Tienda de café / té',\n",
    "                                      'Otro Restaurante'],\n",
    "                          'EPI':['Máscaras faciales', 'Careta','Cubrezapatos de hospital','Otros EPI','Embalaje de EPI asociado','Guantes desechables',\n",
    "                                'Paquete de medicamentos','Toallitas desinfectantes','Redes para el cabello','Embalaje de mascarilla facial'],\n",
    "                          'infraestructura':['Bote de la basura', 'Bote de reciclaje','Canal', 'Reciclaje informal', 'Colector de aguas pluviales','Basurero'],\n",
    "                          'baterias':['Baterías',],\n",
    "                          'goma':['Ligas de goma'],\n",
    "                          'madera':['Tablas de madera','Palito de paleta'],\n",
    "                          'pesca':['Otro equipo de pesca','Sedal','Cuerda de plástico','Red de plástico o piezas de red','Boyas y Flotadores'],\n",
    "                          'cenizas':['Pila de cenizas'],\n",
    "                         'unicel/plastico':['Vasos o tapas de unicel o plástico','Tazón de comida para llevar'],\n",
    "                         'vidrio/ceramica':['Fragmentos de vidrio o cerámica'],\n",
    "                         'plastico/tela':['Chancletas/sandalias']}"
   ]
  },
  {
   "cell_type": "code",
   "execution_count": 24,
   "id": "d764d40f-7687-450c-a0cb-6971cc12a226",
   "metadata": {
    "tags": []
   },
   "outputs": [],
   "source": [
    "# Revisar que todos los itemnames estén asignados a un material en el diccionario:\n",
    "\n",
    "# Generar lista\n",
    "analized_items = []\n",
    "for k in material_itemname_dicc.keys():\n",
    "    for item in material_itemname_dicc[k]:\n",
    "        analized_items.append(item)\n",
    "\n",
    "# Analizar gdf original\n",
    "for item in list(residuos_point.itemname.unique()):\n",
    "    if item not in analized_items:\n",
    "        print(item)\n",
    "\n",
    "# Analizar nuevo gdf\n",
    "for item in list(joined_types_cc.itemname.unique()):\n",
    "    if item not in analized_items:\n",
    "        print(item)"
   ]
  },
  {
   "cell_type": "code",
   "execution_count": 25,
   "id": "66bf3dab-3553-42d5-92ef-28a1e9fbfd13",
   "metadata": {
    "tags": []
   },
   "outputs": [
    {
     "name": "stdout",
     "output_type": "stream",
     "text": [
      "(24059, 9)\n"
     ]
    },
    {
     "data": {
      "text/html": [
       "<div>\n",
       "<style scoped>\n",
       "    .dataframe tbody tr th:only-of-type {\n",
       "        vertical-align: middle;\n",
       "    }\n",
       "\n",
       "    .dataframe tbody tr th {\n",
       "        vertical-align: top;\n",
       "    }\n",
       "\n",
       "    .dataframe thead th {\n",
       "        text-align: right;\n",
       "    }\n",
       "</style>\n",
       "<table border=\"1\" class=\"dataframe\">\n",
       "  <thead>\n",
       "    <tr style=\"text-align: right;\">\n",
       "      <th></th>\n",
       "      <th>id</th>\n",
       "      <th>itemname</th>\n",
       "      <th>tipo</th>\n",
       "      <th>quantity</th>\n",
       "      <th>latitude</th>\n",
       "      <th>longitude</th>\n",
       "      <th>altitude</th>\n",
       "      <th>datetime</th>\n",
       "      <th>material</th>\n",
       "    </tr>\n",
       "  </thead>\n",
       "  <tbody>\n",
       "    <tr>\n",
       "      <th>0</th>\n",
       "      <td>2251010</td>\n",
       "      <td>Bolsa de plástico para comestibles</td>\n",
       "      <td>Productos Plásticos para Comida</td>\n",
       "      <td>5</td>\n",
       "      <td>25.641495</td>\n",
       "      <td>-100.293776</td>\n",
       "      <td>530.400024</td>\n",
       "      <td>2022-10-29 14:05:31</td>\n",
       "      <td>plastico</td>\n",
       "    </tr>\n",
       "  </tbody>\n",
       "</table>\n",
       "</div>"
      ],
      "text/plain": [
       "        id                            itemname  \\\n",
       "0  2251010  Bolsa de plástico para comestibles   \n",
       "\n",
       "                              tipo  quantity   latitude   longitude  \\\n",
       "0  Productos Plásticos para Comida         5  25.641495 -100.293776   \n",
       "\n",
       "     altitude            datetime  material  \n",
       "0  530.400024 2022-10-29 14:05:31  plastico  "
      ]
     },
     "execution_count": 25,
     "metadata": {},
     "output_type": "execute_result"
    }
   ],
   "source": [
    "joined_types_ccc = joined_types_cc.copy()\n",
    "\n",
    "for material in material_itemname_dicc.keys():\n",
    "    for item in material_itemname_dicc[material]:\n",
    "        idx = joined_types_ccc.itemname == item\n",
    "        joined_types_ccc.loc[idx,'material'] = material\n",
    "        \n",
    "# Show\n",
    "print(joined_types_ccc.shape)\n",
    "joined_types_ccc.head(1)"
   ]
  },
  {
   "cell_type": "code",
   "execution_count": 26,
   "id": "fbc5b05d-458e-4503-8e5c-9dc54207c8bb",
   "metadata": {
    "tags": []
   },
   "outputs": [],
   "source": [
    "# Order columns\n",
    "joined_types_ccc = joined_types_ccc[['id','itemname','tipo','material','quantity','latitude','longitude','altitude','datetime']]"
   ]
  },
  {
   "cell_type": "markdown",
   "id": "ff88fa60-e982-49d0-8576-85703d71616d",
   "metadata": {
    "jp-MarkdownHeadingCollapsed": true,
    "tags": []
   },
   "source": [
    "## Download and data treatment for missing csv data points (Found in '30_05.csv')"
   ]
  },
  {
   "cell_type": "markdown",
   "id": "54af4df1-7a8e-4b3e-8e56-f8e3c1b15490",
   "metadata": {
    "jp-MarkdownHeadingCollapsed": true,
    "tags": []
   },
   "source": [
    "### Download missing csv data ('30_05.csv')"
   ]
  },
  {
   "cell_type": "code",
   "execution_count": 27,
   "id": "0d07e28a-080f-450e-88ed-a93c4b7b8828",
   "metadata": {
    "tags": []
   },
   "outputs": [
    {
     "name": "stdout",
     "output_type": "stream",
     "text": [
      "Index(['itemname', 'material', 'id', 'quantity', 'description', 'latitude',\n",
      "       'longitude', 'altitude'],\n",
      "      dtype='object')\n"
     ]
    },
    {
     "data": {
      "text/html": [
       "<div>\n",
       "<style scoped>\n",
       "    .dataframe tbody tr th:only-of-type {\n",
       "        vertical-align: middle;\n",
       "    }\n",
       "\n",
       "    .dataframe tbody tr th {\n",
       "        vertical-align: top;\n",
       "    }\n",
       "\n",
       "    .dataframe thead th {\n",
       "        text-align: right;\n",
       "    }\n",
       "</style>\n",
       "<table border=\"1\" class=\"dataframe\">\n",
       "  <thead>\n",
       "    <tr style=\"text-align: right;\">\n",
       "      <th></th>\n",
       "      <th>itemname</th>\n",
       "      <th>material</th>\n",
       "      <th>id</th>\n",
       "      <th>quantity</th>\n",
       "      <th>description</th>\n",
       "      <th>latitude</th>\n",
       "      <th>longitude</th>\n",
       "      <th>altitude</th>\n",
       "    </tr>\n",
       "  </thead>\n",
       "  <tbody>\n",
       "    <tr>\n",
       "      <th>0</th>\n",
       "      <td>Other Metal</td>\n",
       "      <td>METAL</td>\n",
       "      <td>Metal</td>\n",
       "      <td>1</td>\n",
       "      <td>NaN</td>\n",
       "      <td>25.641804</td>\n",
       "      <td>-100.314824</td>\n",
       "      <td>562.835693</td>\n",
       "    </tr>\n",
       "  </tbody>\n",
       "</table>\n",
       "</div>"
      ],
      "text/plain": [
       "      itemname material     id  quantity  description   latitude   longitude  \\\n",
       "0  Other Metal    METAL  Metal         1          NaN  25.641804 -100.314824   \n",
       "\n",
       "     altitude  \n",
       "0  562.835693  "
      ]
     },
     "execution_count": 27,
     "metadata": {},
     "output_type": "execute_result"
    }
   ],
   "source": [
    "tmp_dir = f'../../data/external/temporal_todocker/arroyo_vivo/input_csv/'\n",
    "doc_30_05 = pd.read_csv(tmp_dir+'30_05.csv')\n",
    "\n",
    "# Show\n",
    "print(doc_30_05.columns)\n",
    "doc_30_05.head(1)"
   ]
  },
  {
   "cell_type": "markdown",
   "id": "3eccc42f-bba6-4fe4-9fc3-6a0c0445c08a",
   "metadata": {
    "jp-MarkdownHeadingCollapsed": true,
    "tags": []
   },
   "source": [
    "### Format missing csv data"
   ]
  },
  {
   "cell_type": "code",
   "execution_count": 29,
   "id": "0ff2aae4-32e2-4e40-aaeb-f9f26fe62ac9",
   "metadata": {
    "tags": []
   },
   "outputs": [
    {
     "name": "stdout",
     "output_type": "stream",
     "text": [
      "(315, 9)\n"
     ]
    },
    {
     "data": {
      "text/html": [
       "<div>\n",
       "<style scoped>\n",
       "    .dataframe tbody tr th:only-of-type {\n",
       "        vertical-align: middle;\n",
       "    }\n",
       "\n",
       "    .dataframe tbody tr th {\n",
       "        vertical-align: top;\n",
       "    }\n",
       "\n",
       "    .dataframe thead th {\n",
       "        text-align: right;\n",
       "    }\n",
       "</style>\n",
       "<table border=\"1\" class=\"dataframe\">\n",
       "  <thead>\n",
       "    <tr style=\"text-align: right;\">\n",
       "      <th></th>\n",
       "      <th>id</th>\n",
       "      <th>itemname</th>\n",
       "      <th>tipo</th>\n",
       "      <th>material</th>\n",
       "      <th>quantity</th>\n",
       "      <th>latitude</th>\n",
       "      <th>longitude</th>\n",
       "      <th>altitude</th>\n",
       "      <th>datetime</th>\n",
       "    </tr>\n",
       "  </thead>\n",
       "  <tbody>\n",
       "    <tr>\n",
       "      <th>0</th>\n",
       "      <td>0</td>\n",
       "      <td>Other Metal</td>\n",
       "      <td>METAL</td>\n",
       "      <td>metal</td>\n",
       "      <td>1</td>\n",
       "      <td>25.641804</td>\n",
       "      <td>-100.314824</td>\n",
       "      <td>562.835693</td>\n",
       "      <td>2023-05-30</td>\n",
       "    </tr>\n",
       "  </tbody>\n",
       "</table>\n",
       "</div>"
      ],
      "text/plain": [
       "   id     itemname   tipo material  quantity   latitude   longitude  \\\n",
       "0   0  Other Metal  METAL    metal         1  25.641804 -100.314824   \n",
       "\n",
       "     altitude   datetime  \n",
       "0  562.835693 2023-05-30  "
      ]
     },
     "execution_count": 29,
     "metadata": {},
     "output_type": "execute_result"
    }
   ],
   "source": [
    "# Create index with unique numbers column\n",
    "missing_doc = doc_30_05.reset_index()\n",
    "\n",
    "# Rename columns\n",
    "missing_doc.rename(columns={'material':'tipo',\n",
    "                          'id':'material',\n",
    "                           'index':'id'},inplace=True)\n",
    "\n",
    "# Make data in 'material' column x.lower()\n",
    "missing_doc['material'] = missing_doc['material'].apply(lambda x: x.lower())\n",
    "\n",
    "# Add datetime column\n",
    "missing_doc['datetime'] = pd.to_datetime('20230530', format='%Y%m%d')\n",
    "\n",
    "# Delete description column\n",
    "missing_doc.drop(columns=['description'],inplace=True)\n",
    "\n",
    "# Show\n",
    "print(missing_doc.shape)\n",
    "missing_doc.head(1)"
   ]
  },
  {
   "cell_type": "markdown",
   "id": "4906e658-38bb-40e8-92a6-644d2df1dfea",
   "metadata": {
    "jp-MarkdownHeadingCollapsed": true,
    "tags": []
   },
   "source": [
    "### Fix column itemname (Dictionary with all previously found variations)"
   ]
  },
  {
   "cell_type": "code",
   "execution_count": 30,
   "id": "0ed0210a-fe4f-4ad3-bce9-56afda55c41f",
   "metadata": {
    "tags": []
   },
   "outputs": [
    {
     "name": "stdout",
     "output_type": "stream",
     "text": [
      "(315, 9)\n"
     ]
    },
    {
     "data": {
      "text/html": [
       "<div>\n",
       "<style scoped>\n",
       "    .dataframe tbody tr th:only-of-type {\n",
       "        vertical-align: middle;\n",
       "    }\n",
       "\n",
       "    .dataframe tbody tr th {\n",
       "        vertical-align: top;\n",
       "    }\n",
       "\n",
       "    .dataframe thead th {\n",
       "        text-align: right;\n",
       "    }\n",
       "</style>\n",
       "<table border=\"1\" class=\"dataframe\">\n",
       "  <thead>\n",
       "    <tr style=\"text-align: right;\">\n",
       "      <th></th>\n",
       "      <th>id</th>\n",
       "      <th>itemname</th>\n",
       "      <th>tipo</th>\n",
       "      <th>material</th>\n",
       "      <th>quantity</th>\n",
       "      <th>latitude</th>\n",
       "      <th>longitude</th>\n",
       "      <th>altitude</th>\n",
       "      <th>datetime</th>\n",
       "    </tr>\n",
       "  </thead>\n",
       "  <tbody>\n",
       "    <tr>\n",
       "      <th>0</th>\n",
       "      <td>0</td>\n",
       "      <td>Otro metal</td>\n",
       "      <td>METAL</td>\n",
       "      <td>metal</td>\n",
       "      <td>1</td>\n",
       "      <td>25.641804</td>\n",
       "      <td>-100.314824</td>\n",
       "      <td>562.835693</td>\n",
       "      <td>2023-05-30</td>\n",
       "    </tr>\n",
       "  </tbody>\n",
       "</table>\n",
       "</div>"
      ],
      "text/plain": [
       "   id    itemname   tipo material  quantity   latitude   longitude  \\\n",
       "0   0  Otro metal  METAL    metal         1  25.641804 -100.314824   \n",
       "\n",
       "     altitude   datetime  \n",
       "0  562.835693 2023-05-30  "
      ]
     },
     "execution_count": 30,
     "metadata": {},
     "output_type": "execute_result"
    }
   ],
   "source": [
    "missing_doc_2 = missing_doc.copy()\n",
    "\n",
    "fix_names = {'Latas de aluminio o estaño':['Aluminum or tin cans'],\n",
    "             'Papel de aluminio':['papel de aluminio'],\n",
    "             'Baterías':['baterias'],\n",
    "             'Cartón acanalado':['carton acanalado'],\n",
    "             'Cartón recubierto':['carton recubierto'],\n",
    "             'Envoltura de alimentos de papel sin recubrimiento':['Food wrappers (paper)'],\n",
    "             'Fragmentos de vidrio o cerámica':['Fragmentos de vidrio o cerÃ¡mica','Glass fragments'],\n",
    "             'Fragmentos de electrónicos':['Fragmentos de electronicos'],\n",
    "             'Otros desechos electrónicos':['Otros desechos electronicos'],\n",
    "             'Materiales de construcción':['Materiales de cconstruccion','Materiales de Construccion','Lumber/Building Materials'],\n",
    "             'Otros artículos de construcción':['Otros artÃ­culos de cconstruccion','Otros artículos de Construccion','Otros articulos de Construccion'],\n",
    "             'Palito de paleta':['Pallets'],\n",
    "             'Fragmentos de metal':['Metal fragments'],\n",
    "             'Otro metal':['Other Metal'],\n",
    "             'Tapas o lengüetas de metal para botellas':['Tapas o lenguetas de metal para botellas'],\n",
    "             'Otros desechos orgánicos':['Otros desechos organico'],\n",
    "             'Bolsas de papel':['Paper Bags'],\n",
    "             'Papel':['papel','Paper and Cardboard'],\n",
    "             'Bolsa de plástico (otra)':['Bolsa de plastico (otra)','Bolsa de Plastico (otra)'],\n",
    "             'Bolsa de plástico para comestibles':['Bolsa de plastico para comestibles','Bolsa de Plastico para comestibles'],\n",
    "             'Botella de plástico':['Botella de plastico','Botella de Plastico'],\n",
    "             'Cuerda de plástico':['Cuerda de plastico'],\n",
    "             'Cuerda de plástico/ cinta o correas de embalaje':['Cuerda de plastico/ cinta o correas de embalaje','Cuerda de Plastico/ cinta o correas de embalaje'],\n",
    "             'Envoltorio de plástico para alimentos':['Envoltorio de plastico para alimentos','Envoltorio de Plastico para alimentos'],\n",
    "             'Fragmentos de película de plástico':['Fragmentos de peliculade plastico','Fragmentos de película de Plastico'],\n",
    "             'Fragmentos de plástico duro':['Fragmentos de plastico duro','Fragmentos de Plastico duro'],\n",
    "             'Otro plástico':['Otro plastico','Otro Plastico'],\n",
    "             'Otro plástico relacionado con los alimentos':['Otro plastico relacionado con los alimentos','Otro Plastico relacionado con los alimentos'],\n",
    "             'Red de plástico o piezas de red':['Red de plastico o piezas de red','Tapa de botella de Plastico'],\n",
    "             'Tapa de botella de plástico':['Tapa de botella de plastico'],\n",
    "             'Utensilios de plástico':['Utensilios de plastico','Utensilios de Plastico'],\n",
    "             'Champú u otro recipiente de HDPE':['ChampÃº u otro recipiente de HDPE'],\n",
    "             'Cotonetes de algodón':['Cotonetes de algodÃ³n'],\n",
    "             'Máscaras faciales':['MÃ¡scaras faciales','Fabric Face Masks'],\n",
    "             'Otra tela':['Other Cloth'],\n",
    "             'Piezas de tela':['Fabric pieces'],\n",
    "             'Tazón de comida para llevar':['TazÃ³n de comida para llevar'],\n",
    "             'Vasos o tapas de unicel o plástico':['Vasos o tapas de unicel o plastico','Vasos o tapas de unicel o Plastico'],\n",
    "             'Botella de vidrio':['Glass Jars'],\n",
    "             'Otro papel':['Other Paper & Lumber'],\n",
    "             'Bolsas de papel':['Paper Bags'],\n",
    "             'Toallas o trapos':['Towels or rags'],\n",
    "             'Ropa o zapatos':['Clothing and Shoes'],\n",
    "             'Tienda de café / té':['Tienda de cafÃ© / tÃ©']\n",
    "            }\n",
    "\n",
    "for k in fix_names.keys():\n",
    "    for item in fix_names[k]:\n",
    "        idx = missing_doc_2.itemname == item\n",
    "        missing_doc_2.loc[idx,'itemname'] = k\n",
    "        \n",
    "# Show\n",
    "print(missing_doc_2.shape)\n",
    "missing_doc_2.head(1)"
   ]
  },
  {
   "cell_type": "markdown",
   "id": "8c46b863-c3c3-46f6-aec9-3517cc65da3a",
   "metadata": {
    "jp-MarkdownHeadingCollapsed": true,
    "tags": []
   },
   "source": [
    "### Fix column tipo"
   ]
  },
  {
   "cell_type": "code",
   "execution_count": 32,
   "id": "d99b185f-d381-4a0c-9e64-097b66dec483",
   "metadata": {
    "tags": []
   },
   "outputs": [
    {
     "name": "stdout",
     "output_type": "stream",
     "text": [
      "(315, 9)\n"
     ]
    },
    {
     "data": {
      "text/html": [
       "<div>\n",
       "<style scoped>\n",
       "    .dataframe tbody tr th:only-of-type {\n",
       "        vertical-align: middle;\n",
       "    }\n",
       "\n",
       "    .dataframe tbody tr th {\n",
       "        vertical-align: top;\n",
       "    }\n",
       "\n",
       "    .dataframe thead th {\n",
       "        text-align: right;\n",
       "    }\n",
       "</style>\n",
       "<table border=\"1\" class=\"dataframe\">\n",
       "  <thead>\n",
       "    <tr style=\"text-align: right;\">\n",
       "      <th></th>\n",
       "      <th>id</th>\n",
       "      <th>itemname</th>\n",
       "      <th>tipo</th>\n",
       "      <th>material</th>\n",
       "      <th>quantity</th>\n",
       "      <th>latitude</th>\n",
       "      <th>longitude</th>\n",
       "      <th>altitude</th>\n",
       "      <th>datetime</th>\n",
       "    </tr>\n",
       "  </thead>\n",
       "  <tbody>\n",
       "    <tr>\n",
       "      <th>0</th>\n",
       "      <td>0</td>\n",
       "      <td>Otro metal</td>\n",
       "      <td>Metales</td>\n",
       "      <td>metal</td>\n",
       "      <td>1</td>\n",
       "      <td>25.641804</td>\n",
       "      <td>-100.314824</td>\n",
       "      <td>562.835693</td>\n",
       "      <td>2023-05-30</td>\n",
       "    </tr>\n",
       "  </tbody>\n",
       "</table>\n",
       "</div>"
      ],
      "text/plain": [
       "   id    itemname     tipo material  quantity   latitude   longitude  \\\n",
       "0   0  Otro metal  Metales    metal         1  25.641804 -100.314824   \n",
       "\n",
       "     altitude   datetime  \n",
       "0  562.835693 2023-05-30  "
      ]
     },
     "execution_count": 32,
     "metadata": {},
     "output_type": "execute_result"
    }
   ],
   "source": [
    "missing_doc_3 = missing_doc_2.copy()\n",
    "\n",
    "# For each item\n",
    "for item in list(missing_doc_3.itemname.unique()):\n",
    "\n",
    "    # Find its assigned 'tipo' in original mdt csvs\n",
    "    tmp_gdf = joined_types_ccc.loc[joined_types_ccc.itemname == item]\n",
    "    tipo_list = tmp_gdf.tipo.unique()\n",
    "    if len(tipo_list) == 1:\n",
    "        tipo = tipo_list[0]\n",
    "        idx = (missing_doc_3.itemname == item)\n",
    "        missing_doc_3.loc[idx,'tipo'] = tipo\n",
    "    \n",
    "    elif len(tipo_list) == 0:\n",
    "        if item == 'Bolsas de papel':\n",
    "            tipo = 'Papel'\n",
    "        elif item == 'Materiales de Construcción':\n",
    "            tipo = 'Materiales de Construcción'\n",
    "        elif item == 'Plastico para cerveza':\n",
    "            tipo = 'Productos Plasticos para Comida'\n",
    "        elif item == 'Fragmentos de Plástico':\n",
    "            tipo = 'Fragmentos de Plastico  '\n",
    "        elif item == 'Toallas o trapos':\n",
    "            tipo = 'Tela'\n",
    "        elif item == 'Ropa o zapatos':\n",
    "            tipo = 'Tela'\n",
    "        elif item == 'Tela':\n",
    "            tipo = 'Tela'\n",
    "        else:\n",
    "            print('Problema con:')\n",
    "            print(item)\n",
    "            print(tipo)\n",
    "        \n",
    "        idx = (missing_doc_3.itemname == item)\n",
    "        missing_doc_3.loc[idx,'tipo'] = tipo        \n",
    "        \n",
    "# Show\n",
    "print(missing_doc_3.shape)\n",
    "missing_doc_3.head(1)"
   ]
  },
  {
   "cell_type": "code",
   "execution_count": 33,
   "id": "0770bf14-ccea-4e60-bc1a-fb524add1bb0",
   "metadata": {
    "tags": []
   },
   "outputs": [
    {
     "data": {
      "text/plain": [
       "array(['Metales', 'Papel', 'Otro', 'Materiales de Construcción',\n",
       "       'Fragmentos de Plástico  ', 'Productos Plasticos para Comida',\n",
       "       'Productos Plásticos para Comida', 'EPI', 'Tela', 'Vidrio'],\n",
       "      dtype=object)"
      ]
     },
     "execution_count": 33,
     "metadata": {},
     "output_type": "execute_result"
    }
   ],
   "source": [
    "# Review result\n",
    "missing_doc_3.tipo.unique()"
   ]
  },
  {
   "cell_type": "markdown",
   "id": "c8f5b0ee-8aa4-4dee-930d-02624ec5fad5",
   "metadata": {
    "jp-MarkdownHeadingCollapsed": true,
    "tags": []
   },
   "source": [
    "## Data treatment for all data"
   ]
  },
  {
   "cell_type": "markdown",
   "id": "1503d8cf-f541-4d0e-804e-dccaae725225",
   "metadata": {},
   "source": [
    "Join data"
   ]
  },
  {
   "cell_type": "code",
   "execution_count": 34,
   "id": "8a1b98c1-62c6-4db0-b5b1-12f3729c3c01",
   "metadata": {
    "tags": []
   },
   "outputs": [
    {
     "name": "stdout",
     "output_type": "stream",
     "text": [
      "(24374, 9)\n"
     ]
    },
    {
     "data": {
      "text/html": [
       "<div>\n",
       "<style scoped>\n",
       "    .dataframe tbody tr th:only-of-type {\n",
       "        vertical-align: middle;\n",
       "    }\n",
       "\n",
       "    .dataframe tbody tr th {\n",
       "        vertical-align: top;\n",
       "    }\n",
       "\n",
       "    .dataframe thead th {\n",
       "        text-align: right;\n",
       "    }\n",
       "</style>\n",
       "<table border=\"1\" class=\"dataframe\">\n",
       "  <thead>\n",
       "    <tr style=\"text-align: right;\">\n",
       "      <th></th>\n",
       "      <th>id</th>\n",
       "      <th>itemname</th>\n",
       "      <th>tipo</th>\n",
       "      <th>material</th>\n",
       "      <th>quantity</th>\n",
       "      <th>latitude</th>\n",
       "      <th>longitude</th>\n",
       "      <th>altitude</th>\n",
       "      <th>datetime</th>\n",
       "    </tr>\n",
       "  </thead>\n",
       "  <tbody>\n",
       "    <tr>\n",
       "      <th>0</th>\n",
       "      <td>2251010</td>\n",
       "      <td>Bolsa de plástico para comestibles</td>\n",
       "      <td>Productos Plásticos para Comida</td>\n",
       "      <td>plastico</td>\n",
       "      <td>5</td>\n",
       "      <td>25.641495</td>\n",
       "      <td>-100.293776</td>\n",
       "      <td>530.400024</td>\n",
       "      <td>2022-10-29 14:05:31</td>\n",
       "    </tr>\n",
       "  </tbody>\n",
       "</table>\n",
       "</div>"
      ],
      "text/plain": [
       "        id                            itemname  \\\n",
       "0  2251010  Bolsa de plástico para comestibles   \n",
       "\n",
       "                              tipo  material  quantity   latitude   longitude  \\\n",
       "0  Productos Plásticos para Comida  plastico         5  25.641495 -100.293776   \n",
       "\n",
       "     altitude            datetime  \n",
       "0  530.400024 2022-10-29 14:05:31  "
      ]
     },
     "execution_count": 34,
     "metadata": {},
     "output_type": "execute_result"
    }
   ],
   "source": [
    "joined_types_cccc = pd.concat([joined_types_ccc,missing_doc_3])\n",
    "\n",
    "# Show\n",
    "print(joined_types_cccc.shape)\n",
    "joined_types_cccc.head(1)"
   ]
  },
  {
   "cell_type": "markdown",
   "id": "b84b4e54-f5c8-4ab5-94e8-68a5987010e6",
   "metadata": {
    "tags": []
   },
   "source": [
    "### Data treatment - Format and delete duplicates"
   ]
  },
  {
   "cell_type": "code",
   "execution_count": 35,
   "id": "330fda89-9990-47b2-9db1-a1fccc04cc19",
   "metadata": {
    "tags": []
   },
   "outputs": [
    {
     "name": "stdout",
     "output_type": "stream",
     "text": [
      "(14497, 9)\n"
     ]
    },
    {
     "data": {
      "text/html": [
       "<div>\n",
       "<style scoped>\n",
       "    .dataframe tbody tr th:only-of-type {\n",
       "        vertical-align: middle;\n",
       "    }\n",
       "\n",
       "    .dataframe tbody tr th {\n",
       "        vertical-align: top;\n",
       "    }\n",
       "\n",
       "    .dataframe thead th {\n",
       "        text-align: right;\n",
       "    }\n",
       "</style>\n",
       "<table border=\"1\" class=\"dataframe\">\n",
       "  <thead>\n",
       "    <tr style=\"text-align: right;\">\n",
       "      <th></th>\n",
       "      <th>id</th>\n",
       "      <th>itemname</th>\n",
       "      <th>tipo</th>\n",
       "      <th>material</th>\n",
       "      <th>quantity</th>\n",
       "      <th>latitude</th>\n",
       "      <th>longitude</th>\n",
       "      <th>altitude</th>\n",
       "      <th>datetime</th>\n",
       "    </tr>\n",
       "  </thead>\n",
       "  <tbody>\n",
       "    <tr>\n",
       "      <th>0</th>\n",
       "      <td>2251010</td>\n",
       "      <td>Bolsa de plástico para comestibles</td>\n",
       "      <td>Productos Plásticos para Comida</td>\n",
       "      <td>plastico</td>\n",
       "      <td>5</td>\n",
       "      <td>25.641495</td>\n",
       "      <td>-100.293776</td>\n",
       "      <td>530.400024</td>\n",
       "      <td>2022-10-29 14:05:31</td>\n",
       "    </tr>\n",
       "  </tbody>\n",
       "</table>\n",
       "</div>"
      ],
      "text/plain": [
       "        id                            itemname  \\\n",
       "0  2251010  Bolsa de plástico para comestibles   \n",
       "\n",
       "                              tipo  material  quantity   latitude   longitude  \\\n",
       "0  Productos Plásticos para Comida  plastico         5  25.641495 -100.293776   \n",
       "\n",
       "     altitude            datetime  \n",
       "0  530.400024 2022-10-29 14:05:31  "
      ]
     },
     "execution_count": 35,
     "metadata": {},
     "output_type": "execute_result"
    }
   ],
   "source": [
    "# Delete duplicates\n",
    "garbage = joined_types_cccc.drop_duplicates() #subset=['id','itemname','tipo','material','quantity','latitude','longitude','datetime']\n",
    "\n",
    "# Show\n",
    "print(garbage.shape)\n",
    "garbage.head(1)"
   ]
  },
  {
   "cell_type": "markdown",
   "id": "3c954d43-cad7-4bcd-8f00-4b6090dd74c9",
   "metadata": {
    "jp-MarkdownHeadingCollapsed": true,
    "tags": []
   },
   "source": [
    "## Format"
   ]
  },
  {
   "cell_type": "code",
   "execution_count": 36,
   "id": "942e9455-cf92-4a17-af2c-926e0e0cfa27",
   "metadata": {
    "tags": []
   },
   "outputs": [
    {
     "name": "stdout",
     "output_type": "stream",
     "text": [
      "(14497, 10)\n"
     ]
    },
    {
     "name": "stderr",
     "output_type": "stream",
     "text": [
      "/tmp/ipykernel_1000/2155304246.py:2: SettingWithCopyWarning: \n",
      "A value is trying to be set on a copy of a slice from a DataFrame.\n",
      "Try using .loc[row_indexer,col_indexer] = value instead\n",
      "\n",
      "See the caveats in the documentation: https://pandas.pydata.org/pandas-docs/stable/user_guide/indexing.html#returning-a-view-versus-a-copy\n",
      "  garbage['jornada'] = garbage['datetime'].dt.strftime('%y%m%d')\n"
     ]
    },
    {
     "data": {
      "text/html": [
       "<div>\n",
       "<style scoped>\n",
       "    .dataframe tbody tr th:only-of-type {\n",
       "        vertical-align: middle;\n",
       "    }\n",
       "\n",
       "    .dataframe tbody tr th {\n",
       "        vertical-align: top;\n",
       "    }\n",
       "\n",
       "    .dataframe thead th {\n",
       "        text-align: right;\n",
       "    }\n",
       "</style>\n",
       "<table border=\"1\" class=\"dataframe\">\n",
       "  <thead>\n",
       "    <tr style=\"text-align: right;\">\n",
       "      <th></th>\n",
       "      <th>id</th>\n",
       "      <th>itemname</th>\n",
       "      <th>tipo</th>\n",
       "      <th>material</th>\n",
       "      <th>quantity</th>\n",
       "      <th>latitude</th>\n",
       "      <th>longitude</th>\n",
       "      <th>altitude</th>\n",
       "      <th>datetime</th>\n",
       "      <th>jornada</th>\n",
       "    </tr>\n",
       "  </thead>\n",
       "  <tbody>\n",
       "    <tr>\n",
       "      <th>0</th>\n",
       "      <td>2251010</td>\n",
       "      <td>Bolsa de plástico para comestibles</td>\n",
       "      <td>Productos Plásticos para Comida</td>\n",
       "      <td>plastico</td>\n",
       "      <td>5</td>\n",
       "      <td>25.641495</td>\n",
       "      <td>-100.293776</td>\n",
       "      <td>530.400024</td>\n",
       "      <td>2022-10-29 14:05:31</td>\n",
       "      <td>221029</td>\n",
       "    </tr>\n",
       "  </tbody>\n",
       "</table>\n",
       "</div>"
      ],
      "text/plain": [
       "        id                            itemname  \\\n",
       "0  2251010  Bolsa de plástico para comestibles   \n",
       "\n",
       "                              tipo  material  quantity   latitude   longitude  \\\n",
       "0  Productos Plásticos para Comida  plastico         5  25.641495 -100.293776   \n",
       "\n",
       "     altitude            datetime jornada  \n",
       "0  530.400024 2022-10-29 14:05:31  221029  "
      ]
     },
     "execution_count": 36,
     "metadata": {},
     "output_type": "execute_result"
    }
   ],
   "source": [
    "# Add 'jornada' column\n",
    "garbage['jornada'] = garbage['datetime'].dt.strftime('%y%m%d')\n",
    "\n",
    "# Show\n",
    "print(garbage.shape)\n",
    "garbage.head(1)"
   ]
  },
  {
   "cell_type": "markdown",
   "id": "a66ac37a-1729-4cf2-b7a5-d4ffaaa44fa5",
   "metadata": {
    "jp-MarkdownHeadingCollapsed": true,
    "tags": []
   },
   "source": [
    "## Save to local for inspection"
   ]
  },
  {
   "cell_type": "code",
   "execution_count": 38,
   "id": "bc6f5790-a247-47ac-bae5-34c755edefba",
   "metadata": {
    "tags": []
   },
   "outputs": [],
   "source": [
    "garbage.to_csv(\"../../data/external/temporal_fromjupyter/arroyo_vivo/residuos_arroyovivo_jornada.csv\",index=False)"
   ]
  },
  {
   "cell_type": "markdown",
   "id": "bb0af892-4c94-44dc-ab1e-feae29a58c81",
   "metadata": {
    "jp-MarkdownHeadingCollapsed": true,
    "tags": []
   },
   "source": [
    "## Load garbage (clipped and inspected geopackage in GIS) and upload to db"
   ]
  },
  {
   "cell_type": "code",
   "execution_count": 39,
   "id": "13e22274-b77f-45db-898f-07e1cbb22cc9",
   "metadata": {
    "tags": []
   },
   "outputs": [],
   "source": [
    "garbage_dir = f'../../data/external/temporal_todocker/arroyo_vivo/arroyovivo_residuosjornada_cuenca_point_32614.gpkg'\n",
    "garbage_inspected = gpd.read_file(garbage_dir)\n",
    "garbage_inspected = garbage_inspected.to_crs(\"EPSG:4326\")\n",
    "\n",
    "aup.gdf_to_db_slow(garbage_inspected, 'arroyovivo_residuosjornada_point','projects_research', if_exists='replace')"
   ]
  }
 ],
 "metadata": {
  "kernelspec": {
   "display_name": "Python 3 (ipykernel)",
   "language": "python",
   "name": "python3"
  },
  "language_info": {
   "codemirror_mode": {
    "name": "ipython",
    "version": 3
   },
   "file_extension": ".py",
   "mimetype": "text/x-python",
   "name": "python",
   "nbconvert_exporter": "python",
   "pygments_lexer": "ipython3",
   "version": "3.10.5"
  }
 },
 "nbformat": 4,
 "nbformat_minor": 5
}
