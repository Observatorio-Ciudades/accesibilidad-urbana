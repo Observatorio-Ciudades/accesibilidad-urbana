{
 "cells": [
  {
   "cell_type": "markdown",
   "id": "23d3cfc4-fc86-4003-828e-656a95c43a26",
   "metadata": {},
   "source": [
    "# NDVI Analysis - Arroyo Vivo"
   ]
  },
  {
   "cell_type": "markdown",
   "id": "c7ffbd39-8dcf-4567-9182-54bd758e6cfa",
   "metadata": {},
   "source": [
    "This notebook takes in variables (Config notebook) in order to download an process raster images for a certain time period and perform certain analysis.\n",
    "Output includes the rasters (saved to local), date by date behaviour csv (saved to local), and hexgrid with mean data (saved to local).\n",
    "\n",
    "Data was saved to local because of an error in the \"if_exists:append\" parameter of aup.gdf_to_db_slow.\n",
    "\n",
    "The data can be saved to db using the notebook 01b_ndvi_todb.ipynb"
   ]
  },
  {
   "cell_type": "markdown",
   "id": "e1f6a4d3-556d-43bb-a972-db85c2bf5304",
   "metadata": {},
   "source": [
    "## Import libraries"
   ]
  },
  {
   "cell_type": "code",
   "execution_count": 1,
   "id": "8a6175a0-a75a-429f-b4e7-5409c8264973",
   "metadata": {},
   "outputs": [
    {
     "name": "stderr",
     "output_type": "stream",
     "text": [
      "/home/edgaregurrola/.local/lib/python3.10/site-packages/requests/__init__.py:109: RequestsDependencyWarning: urllib3 (1.26.9) or chardet (5.1.0)/charset_normalizer (2.0.12) doesn't match a supported version!\n",
      "  warnings.warn(\n",
      "/home/edgaregurrola/anaconda3/envs/odc/lib/python3.10/site-packages/geopandas/_compat.py:123: UserWarning: The Shapely GEOS version (3.10.3-CAPI-1.16.1) is incompatible with the GEOS version PyGEOS was compiled with (3.10.1-CAPI-1.16.0). Conversions between both will be slow.\n",
      "  warnings.warn(\n"
     ]
    },
    {
     "name": "stdout",
     "output_type": "stream",
     "text": [
      "2023-11-15 18:27:17 Configured OSMnx 1.1.2\n",
      "2023-11-15 18:27:17 HTTP response caching is on\n"
     ]
    }
   ],
   "source": [
    "from pystac_client import Client\n",
    "from pystac.extensions.eo import EOExtension as eo\n",
    "import planetary_computer as pc\n",
    "import geopandas as gpd\n",
    "import h3\n",
    "import pandas as pd\n",
    "\n",
    "import rasterio\n",
    "from rasterio import windows\n",
    "from rasterio import features\n",
    "from rasterio import warp\n",
    "import rasterio.mask\n",
    "from rasterio.enums import Resampling\n",
    "from rasterio.merge import merge\n",
    "\n",
    "import numpy as np\n",
    "from PIL import Image\n",
    "\n",
    "import matplotlib.pyplot as plt\n",
    "\n",
    "from shapely.geometry import Point\n",
    "\n",
    "from tqdm import tqdm\n",
    "\n",
    "import os\n",
    "import sys\n",
    "module_path = os.path.abspath(os.path.join('../../'))\n",
    "if module_path not in sys.path:\n",
    "    sys.path.append(module_path)\n",
    "    import aup"
   ]
  },
  {
   "cell_type": "markdown",
   "id": "18b0cdea-8ab4-4288-952e-ecc2b9408d26",
   "metadata": {},
   "source": [
    "## Config notebook"
   ]
  },
  {
   "cell_type": "code",
   "execution_count": 2,
   "id": "42aa13f4-4755-494d-a4b2-9c0ae4c82227",
   "metadata": {
    "tags": []
   },
   "outputs": [],
   "source": [
    "# Set raster spectral bands and analysis equation\n",
    "band_name_dict = {'red':[False], #If GSD(resolution) of band is different, set True.\n",
    "                  'nir':[False], #If GSD(resolution) of band is different, set True.\n",
    "                  'eq':[\"(nir-red)/(nir+red)\"]}\n",
    "\n",
    "# Set analysis name\n",
    "index_analysis = 'ndvi'\n",
    "\n",
    "# Set directory to save analysed rasters\n",
    "tmp_dir = f'../../data/processed/tmp_{index_analysis}/'\n",
    "\n",
    "# Set desired hex resolution\n",
    "res = [12]\n",
    "\n",
    "# Set frequency of search for rasters (MS = Month Start)\n",
    "freq = 'MS'\n",
    "\n",
    "# Set start and end date for search (Sentinel-2 2A has images since mids 2015)\n",
    "start_date = '2016-01-01'\n",
    "end_date = '2023-11-13'\n",
    "\n",
    "# Save?\n",
    "save = True # True\n",
    "\n",
    "# Del rasters after processing.\n",
    "del_data = False # True\n",
    "\n",
    "# input area of interest directory\n",
    "# gdf_dir = \"../../data/external/temporal_todocker/arroyo_vivo/cuenca_arroyo_32614.gpkg\"\n",
    "\n",
    "# city can be substituted by \"place\". (presa_laboca / presa_cerroprieto / presa_elcuchillo)\n",
    "city = 'arroyo_vivo'\n",
    "\n",
    "#Set filter if necessary. Defaults to \"{}\". Example: No images with cloud cover avobe 10%: {\"eo:cloud_cover\": {\"lt\": 10}}\n",
    "query = {\"eo:cloud_cover\": {\"lt\": 10}}\n",
    "\n",
    "# Set satellite. Defaults to \"sentinel-2-l2a\"\n",
    "satellite = 'sentinel-2-l2a'"
   ]
  },
  {
   "cell_type": "markdown",
   "id": "72ffe3d9-4d65-4eee-930f-f56e85521d27",
   "metadata": {},
   "source": [
    "## Download data"
   ]
  },
  {
   "cell_type": "markdown",
   "id": "f2bcc506-8647-468d-aaa3-8649a15704af",
   "metadata": {},
   "source": [
    "### Download data - area of interest"
   ]
  },
  {
   "cell_type": "code",
   "execution_count": 3,
   "id": "3d67b692-90e3-4368-ab78-b82d338a5fa8",
   "metadata": {
    "tags": []
   },
   "outputs": [
    {
     "data": {
      "text/plain": [
       "<AxesSubplot: >"
      ]
     },
     "execution_count": 3,
     "metadata": {},
     "output_type": "execute_result"
    },
    {
     "data": {
      "image/png": "[encoded data removed]",
      "text/plain": [
       "<Figure size 432x288 with 1 Axes>"
      ]
     },
     "metadata": {
      "needs_background": "light"
     },
     "output_type": "display_data"
    }
   ],
   "source": [
    "#Load data\n",
    "gdf_original = aup.gdf_from_db('arroyovivo_buffer200mts','projects_research')\n",
    "gdf_original.plot()"
   ]
  },
  {
   "cell_type": "markdown",
   "id": "dbb9b5f2-b02e-42b3-8ad2-2fe7f1a8a7c9",
   "metadata": {},
   "source": [
    "Area of interest treatment"
   ]
  },
  {
   "cell_type": "code",
   "execution_count": 4,
   "id": "bd90c4d3-0c55-4b21-887b-c71be996b219",
   "metadata": {
    "tags": []
   },
   "outputs": [
    {
     "name": "stdout",
     "output_type": "stream",
     "text": [
      "(1,)\n"
     ]
    },
    {
     "data": {
      "text/plain": [
       "0    POLYGON ((-100.34225 25.63137, -100.34213 25.6...\n",
       "Name: geometry, dtype: geometry"
      ]
     },
     "execution_count": 4,
     "metadata": {},
     "output_type": "execute_result"
    }
   ],
   "source": [
    "#Filter for relevant data\n",
    "columns_tokeep = ['geometry']\n",
    "gdf = gdf_original[columns_tokeep]\n",
    "\n",
    "#Create buffer for dam geometry\n",
    "polygon = gdf.to_crs(\"EPSG:6372\").buffer(250)\n",
    "polygon = polygon.to_crs(\"EPSG:4326\")\n",
    "polygon = gpd.GeoDataFrame(geometry=polygon).dissolve().geometry\n",
    "\n",
    "#Review result\n",
    "print(polygon.shape)\n",
    "polygon.head(2)"
   ]
  },
  {
   "cell_type": "markdown",
   "id": "c0678877-2a42-47ce-b884-da2f33c789f6",
   "metadata": {},
   "source": [
    "### Data download - Download and proccess rasters"
   ]
  },
  {
   "cell_type": "code",
   "execution_count": 5,
   "id": "821e4b68-439d-4e2a-b1f3-bc88bc8936f0",
   "metadata": {
    "tags": []
   },
   "outputs": [
    {
     "name": "stderr",
     "output_type": "stream",
     "text": [
      " 32%|███████████████████▎                                         | 30/95 [42:37<2:02:38, 113.20s/it]ERROR 1: TIFFFillTile:Read error at row 5120, col 5120, tile 429; got 0 bytes, expected 396063\n",
      "ERROR 1: TIFFReadEncodedTile() failed.\n",
      "ERROR 1: IReadBlock failed at X offset 11, Y offset 19: TIFFReadEncodedTile() failed.\n",
      " 58%|██████████████████████████████████▏                        | 55/95 [1:28:18<1:17:58, 116.95s/it]ERROR 1: TIFFFillTile:Read error at row 6656, col 6656, tile 454; got 0 bytes, expected 381892\n",
      "ERROR 1: TIFFReadEncodedTile() failed.\n",
      "ERROR 1: IReadBlock failed at X offset 14, Y offset 20: TIFFReadEncodedTile() failed.\n",
      " 98%|███████████████████████████████████████████████████████████▋ | 93/95 [2:58:41<04:34, 137.24s/it]ERROR 1: TIFFFillTile:Read error at row 6144, col 6144, tile 57; got 0 bytes, expected 373708\n",
      "ERROR 1: TIFFReadEncodedTile() failed.\n",
      "ERROR 1: IReadBlock failed at X offset 13, Y offset 2: TIFFReadEncodedTile() failed.\n",
      "100%|█████████████████████████████████████████████████████████████| 95/95 [3:02:25<00:00, 115.22s/it]\n"
     ]
    }
   ],
   "source": [
    "#download_raster_from_pc(gdf, index_analysis, city, freq, start_date, end_date, tmp_dir, band_name_dict, query={}, satellite=\"sentinel-2-l2a\"):\n",
    "df_len = aup.download_raster_from_pc(polygon, index_analysis, city, freq, \n",
    "                                     start_date, end_date, tmp_dir, band_name_dict, query=query, satellite = satellite)"
   ]
  },
  {
   "cell_type": "markdown",
   "id": "3a80e0b8-eb53-4916-8178-5dcc07e8cbbb",
   "metadata": {
    "jp-MarkdownHeadingCollapsed": true,
    "tags": []
   },
   "source": [
    "### Debuging / reviewing: download_raster_from_pc step by step"
   ]
  },
  {
   "cell_type": "code",
   "execution_count": 7,
   "id": "a4bdb8bd-39b8-46c1-ba68-860b70e39ca3",
   "metadata": {
    "tags": []
   },
   "outputs": [],
   "source": [
    "#download_raster_from_pc(gdf, index_analysis, city, freq, start_date, end_date, tmp_dir, band_name_dict, query={}, satellite=\"sentinel-2-l2a\")\n",
    "gdf = polygon.copy()"
   ]
  },
  {
   "cell_type": "code",
   "execution_count": 8,
   "id": "7468c33e-5867-4d8d-b123-81b033e76c78",
   "metadata": {
    "tags": []
   },
   "outputs": [
    {
     "name": "stdout",
     "output_type": "stream",
     "text": [
      "Extracting bounding coordinates from hexagons\n",
      "Defining time of interest\n",
      "Gathering items for time and area of interest\n",
      "Fetched 167 items\n",
      "Created dictionary from items\n"
     ]
    }
   ],
   "source": [
    "# create area of interest coordinates from hexagons to download raster data    \n",
    "print('Extracting bounding coordinates from hexagons')\n",
    "# Create buffer around hexagons\n",
    "poly = gdf.to_crs(\"EPSG:6372\").buffer(500)\n",
    "poly = poly.to_crs(\"EPSG:4326\")\n",
    "poly = gpd.GeoDataFrame(geometry=poly).dissolve().geometry\n",
    "# Extracts coordinates from polygon as DataFrame\n",
    "coord_val = poly.bounds\n",
    "# Gets coordinates for bounding box\n",
    "n = coord_val.maxy.max()\n",
    "s = coord_val.miny.min()\n",
    "e = coord_val.maxx.max()\n",
    "w = coord_val.minx.min()\n",
    "# Sets the coordinates for the area of interest\n",
    "area_of_interest = {\n",
    "    \"type\": \"Polygon\",\n",
    "    \"coordinates\": [\n",
    "        [\n",
    "            [e, s],\n",
    "            [w, s],\n",
    "            [w, n],\n",
    "            [e, n],\n",
    "            [e, s],\n",
    "        ]\n",
    "    ],\n",
    "}\n",
    "\n",
    "# create time of interest\n",
    "print('Defining time of interest')\n",
    "time_of_interest = aup.create_time_of_interest(start_date, end_date, freq=freq)\n",
    "\n",
    "# gathers items for time and area of interest\n",
    "print('Gathering items for time and area of interest')\n",
    "items = aup.gather_items(time_of_interest, area_of_interest, query=query, satellite=satellite)\n",
    "print(f'Fetched {len(items)} items')\n",
    "\n",
    "date_list = aup.available_datasets(items, satellite)\n",
    "\n",
    "# create dictionary from links\n",
    "band_name_list = list(band_name_dict.keys())[:-1]\n",
    "assets_hrefs = aup.link_dict(band_name_list, items, date_list)\n",
    "print('Created dictionary from items')"
   ]
  },
  {
   "cell_type": "code",
   "execution_count": 9,
   "id": "52c4a374-f747-4276-8f8c-537775ef89ca",
   "metadata": {
    "collapsed": true,
    "jupyter": {
     "outputs_hidden": true
    },
    "tags": []
   },
   "outputs": [
    {
     "data": {
      "text/plain": [
       "{datetime.date(2016, 1, 16): {'red': ['https://sentinel2l2a01.blob.core.windows.net/sentinel2-l2/14/R/LP/2016/01/16/S2A_MSIL2A_20160116T171642_N0300_R112_T14RLP_20210527T183616.SAFE/GRANULE/L2A_T14RLP_A002969_20160116T172524/IMG_DATA/R10m/T14RLP_20160116T171642_B04_10m.tif?st=2023-11-15T00%3A04%3A08Z&se=2023-11-16T00%3A49%3A08Z&sp=rl&sv=2021-06-08&sr=c&skoid=c85c15d6-d1ae-42d4-af60-e2ca0f81359b&sktid=72f988bf-86f1-41af-91ab-2d7cd011db47&skt=2023-11-15T19%3A35%3A57Z&ske=2023-11-22T19%3A35%3A57Z&sks=b&skv=2021-06-08&sig=3m3jElRLso6//YheLb%2B21/LFxL9owor7Y0CJVtOXDLc%3D'],\n",
       "  'nir': ['https://sentinel2l2a01.blob.core.windows.net/sentinel2-l2/14/R/LP/2016/01/16/S2A_MSIL2A_20160116T171642_N0300_R112_T14RLP_20210527T183616.SAFE/GRANULE/L2A_T14RLP_A002969_20160116T172524/IMG_DATA/R10m/T14RLP_20160116T171642_B08_10m.tif?st=2023-11-15T00%3A04%3A08Z&se=2023-11-16T00%3A49%3A08Z&sp=rl&sv=2021-06-08&sr=c&skoid=c85c15d6-d1ae-42d4-af60-e2ca0f81359b&sktid=72f988bf-86f1-41af-91ab-2d7cd011db47&skt=2023-11-15T19%3A35%3A57Z&ske=2023-11-22T19%3A35%3A57Z&sks=b&skv=2021-06-08&sig=3m3jElRLso6//YheLb%2B21/LFxL9owor7Y0CJVtOXDLc%3D']},\n",
       " datetime.date(2016, 2, 15): {'red': ['https://sentinel2l2a01.blob.core.windows.net/sentinel2-l2/14/R/LP/2016/02/15/S2A_MSIL2A_20160215T171412_N0300_R112_T14RLP_20210528T065946.SAFE/GRANULE/L2A_T14RLP_A003398_20160215T172207/IMG_DATA/R10m/T14RLP_20160215T171412_B04_10m.tif?st=2023-11-15T00%3A04%3A08Z&se=2023-11-16T00%3A49%3A08Z&sp=rl&sv=2021-06-08&sr=c&skoid=c85c15d6-d1ae-42d4-af60-e2ca0f81359b&sktid=72f988bf-86f1-41af-91ab-2d7cd011db47&skt=2023-11-15T19%3A35%3A57Z&ske=2023-11-22T19%3A35%3A57Z&sks=b&skv=2021-06-08&sig=3m3jElRLso6//YheLb%2B21/LFxL9owor7Y0CJVtOXDLc%3D'],\n",
       "  'nir': ['https://sentinel2l2a01.blob.core.windows.net/sentinel2-l2/14/R/LP/2016/02/15/S2A_MSIL2A_20160215T171412_N0300_R112_T14RLP_20210528T065946.SAFE/GRANULE/L2A_T14RLP_A003398_20160215T172207/IMG_DATA/R10m/T14RLP_20160215T171412_B08_10m.tif?st=2023-11-15T00%3A04%3A08Z&se=2023-11-16T00%3A49%3A08Z&sp=rl&sv=2021-06-08&sr=c&skoid=c85c15d6-d1ae-42d4-af60-e2ca0f81359b&sktid=72f988bf-86f1-41af-91ab-2d7cd011db47&skt=2023-11-15T19%3A35%3A57Z&ske=2023-11-22T19%3A35%3A57Z&sks=b&skv=2021-06-08&sig=3m3jElRLso6//YheLb%2B21/LFxL9owor7Y0CJVtOXDLc%3D']},\n",
       " datetime.date(2016, 5, 5): {'red': ['https://sentinel2l2a01.blob.core.windows.net/sentinel2-l2/14/R/LP/2016/05/05/S2A_MSIL2A_20160505T171302_N0212_R112_T14RLP_20210211T085107.SAFE/GRANULE/L2A_T14RLP_A004542_20160505T172301/IMG_DATA/R10m/T14RLP_20160505T171302_B04_10m.tif?st=2023-11-15T00%3A04%3A08Z&se=2023-11-16T00%3A49%3A08Z&sp=rl&sv=2021-06-08&sr=c&skoid=c85c15d6-d1ae-42d4-af60-e2ca0f81359b&sktid=72f988bf-86f1-41af-91ab-2d7cd011db47&skt=2023-11-15T19%3A35%3A57Z&ske=2023-11-22T19%3A35%3A57Z&sks=b&skv=2021-06-08&sig=3m3jElRLso6//YheLb%2B21/LFxL9owor7Y0CJVtOXDLc%3D'],\n",
       "  'nir': ['https://sentinel2l2a01.blob.core.windows.net/sentinel2-l2/14/R/LP/2016/05/05/S2A_MSIL2A_20160505T171302_N0212_R112_T14RLP_20210211T085107.SAFE/GRANULE/L2A_T14RLP_A004542_20160505T172301/IMG_DATA/R10m/T14RLP_20160505T171302_B08_10m.tif?st=2023-11-15T00%3A04%3A08Z&se=2023-11-16T00%3A49%3A08Z&sp=rl&sv=2021-06-08&sr=c&skoid=c85c15d6-d1ae-42d4-af60-e2ca0f81359b&sktid=72f988bf-86f1-41af-91ab-2d7cd011db47&skt=2023-11-15T19%3A35%3A57Z&ske=2023-11-22T19%3A35%3A57Z&sks=b&skv=2021-06-08&sig=3m3jElRLso6//YheLb%2B21/LFxL9owor7Y0CJVtOXDLc%3D']},\n",
       " datetime.date(2016, 7, 24): {'red': ['https://sentinel2l2a01.blob.core.windows.net/sentinel2-l2/14/R/LP/2016/07/24/S2A_MSIL2A_20160724T171302_N0212_R112_T14RLP_20210212T073941.SAFE/GRANULE/L2A_T14RLP_A005686_20160724T172601/IMG_DATA/R10m/T14RLP_20160724T171302_B04_10m.tif?st=2023-11-15T00%3A04%3A08Z&se=2023-11-16T00%3A49%3A08Z&sp=rl&sv=2021-06-08&sr=c&skoid=c85c15d6-d1ae-42d4-af60-e2ca0f81359b&sktid=72f988bf-86f1-41af-91ab-2d7cd011db47&skt=2023-11-15T19%3A35%3A57Z&ske=2023-11-22T19%3A35%3A57Z&sks=b&skv=2021-06-08&sig=3m3jElRLso6//YheLb%2B21/LFxL9owor7Y0CJVtOXDLc%3D'],\n",
       "  'nir': ['https://sentinel2l2a01.blob.core.windows.net/sentinel2-l2/14/R/LP/2016/07/24/S2A_MSIL2A_20160724T171302_N0212_R112_T14RLP_20210212T073941.SAFE/GRANULE/L2A_T14RLP_A005686_20160724T172601/IMG_DATA/R10m/T14RLP_20160724T171302_B08_10m.tif?st=2023-11-15T00%3A04%3A08Z&se=2023-11-16T00%3A49%3A08Z&sp=rl&sv=2021-06-08&sr=c&skoid=c85c15d6-d1ae-42d4-af60-e2ca0f81359b&sktid=72f988bf-86f1-41af-91ab-2d7cd011db47&skt=2023-11-15T19%3A35%3A57Z&ske=2023-11-22T19%3A35%3A57Z&sks=b&skv=2021-06-08&sig=3m3jElRLso6//YheLb%2B21/LFxL9owor7Y0CJVtOXDLc%3D']},\n",
       " datetime.date(2016, 10, 12): {'red': ['https://sentinel2l2a01.blob.core.windows.net/sentinel2-l2/14/R/LP/2016/10/12/S2A_MSIL2A_20161012T171302_N0212_R112_T14RLP_20210213T095951.SAFE/GRANULE/L2A_T14RLP_A006830_20161012T172230/IMG_DATA/R10m/T14RLP_20161012T171302_B04_10m.tif?st=2023-11-15T00%3A04%3A08Z&se=2023-11-16T00%3A49%3A08Z&sp=rl&sv=2021-06-08&sr=c&skoid=c85c15d6-d1ae-42d4-af60-e2ca0f81359b&sktid=72f988bf-86f1-41af-91ab-2d7cd011db47&skt=2023-11-15T19%3A35%3A57Z&ske=2023-11-22T19%3A35%3A57Z&sks=b&skv=2021-06-08&sig=3m3jElRLso6//YheLb%2B21/LFxL9owor7Y0CJVtOXDLc%3D'],\n",
       "  'nir': ['https://sentinel2l2a01.blob.core.windows.net/sentinel2-l2/14/R/LP/2016/10/12/S2A_MSIL2A_20161012T171302_N0212_R112_T14RLP_20210213T095951.SAFE/GRANULE/L2A_T14RLP_A006830_20161012T172230/IMG_DATA/R10m/T14RLP_20161012T171302_B08_10m.tif?st=2023-11-15T00%3A04%3A08Z&se=2023-11-16T00%3A49%3A08Z&sp=rl&sv=2021-06-08&sr=c&skoid=c85c15d6-d1ae-42d4-af60-e2ca0f81359b&sktid=72f988bf-86f1-41af-91ab-2d7cd011db47&skt=2023-11-15T19%3A35%3A57Z&ske=2023-11-22T19%3A35%3A57Z&sks=b&skv=2021-06-08&sig=3m3jElRLso6//YheLb%2B21/LFxL9owor7Y0CJVtOXDLc%3D']},\n",
       " datetime.date(2016, 11, 1): {'red': ['https://sentinel2l2a01.blob.core.windows.net/sentinel2-l2/14/R/LP/2016/11/01/S2A_MSIL2A_20161101T171442_N0212_R112_T14RLP_20210213T162534.SAFE/GRANULE/L2A_T14RLP_A007116_20161101T171850/IMG_DATA/R10m/T14RLP_20161101T171442_B04_10m.tif?st=2023-11-15T00%3A04%3A08Z&se=2023-11-16T00%3A49%3A08Z&sp=rl&sv=2021-06-08&sr=c&skoid=c85c15d6-d1ae-42d4-af60-e2ca0f81359b&sktid=72f988bf-86f1-41af-91ab-2d7cd011db47&skt=2023-11-15T19%3A35%3A57Z&ske=2023-11-22T19%3A35%3A57Z&sks=b&skv=2021-06-08&sig=3m3jElRLso6//YheLb%2B21/LFxL9owor7Y0CJVtOXDLc%3D'],\n",
       "  'nir': ['https://sentinel2l2a01.blob.core.windows.net/sentinel2-l2/14/R/LP/2016/11/01/S2A_MSIL2A_20161101T171442_N0212_R112_T14RLP_20210213T162534.SAFE/GRANULE/L2A_T14RLP_A007116_20161101T171850/IMG_DATA/R10m/T14RLP_20161101T171442_B08_10m.tif?st=2023-11-15T00%3A04%3A08Z&se=2023-11-16T00%3A49%3A08Z&sp=rl&sv=2021-06-08&sr=c&skoid=c85c15d6-d1ae-42d4-af60-e2ca0f81359b&sktid=72f988bf-86f1-41af-91ab-2d7cd011db47&skt=2023-11-15T19%3A35%3A57Z&ske=2023-11-22T19%3A35%3A57Z&sks=b&skv=2021-06-08&sig=3m3jElRLso6//YheLb%2B21/LFxL9owor7Y0CJVtOXDLc%3D']},\n",
       " datetime.date(2016, 12, 21): {'red': ['https://sentinel2l2a01.blob.core.windows.net/sentinel2-l2/14/R/LP/2016/12/21/S2A_MSIL2A_20161221T171722_N0212_R112_T14RLP_20210213T232224.SAFE/GRANULE/L2A_T14RLP_A007831_20161221T172430/IMG_DATA/R10m/T14RLP_20161221T171722_B04_10m.tif?st=2023-11-15T00%3A04%3A08Z&se=2023-11-16T00%3A49%3A08Z&sp=rl&sv=2021-06-08&sr=c&skoid=c85c15d6-d1ae-42d4-af60-e2ca0f81359b&sktid=72f988bf-86f1-41af-91ab-2d7cd011db47&skt=2023-11-15T19%3A35%3A57Z&ske=2023-11-22T19%3A35%3A57Z&sks=b&skv=2021-06-08&sig=3m3jElRLso6//YheLb%2B21/LFxL9owor7Y0CJVtOXDLc%3D'],\n",
       "  'nir': ['https://sentinel2l2a01.blob.core.windows.net/sentinel2-l2/14/R/LP/2016/12/21/S2A_MSIL2A_20161221T171722_N0212_R112_T14RLP_20210213T232224.SAFE/GRANULE/L2A_T14RLP_A007831_20161221T172430/IMG_DATA/R10m/T14RLP_20161221T171722_B08_10m.tif?st=2023-11-15T00%3A04%3A08Z&se=2023-11-16T00%3A49%3A08Z&sp=rl&sv=2021-06-08&sr=c&skoid=c85c15d6-d1ae-42d4-af60-e2ca0f81359b&sktid=72f988bf-86f1-41af-91ab-2d7cd011db47&skt=2023-11-15T19%3A35%3A57Z&ske=2023-11-22T19%3A35%3A57Z&sks=b&skv=2021-06-08&sig=3m3jElRLso6//YheLb%2B21/LFxL9owor7Y0CJVtOXDLc%3D']},\n",
       " datetime.date(2016, 12, 11): {'red': ['https://sentinel2l2a01.blob.core.windows.net/sentinel2-l2/14/R/LP/2016/12/11/S2A_MSIL2A_20161211T171712_N0212_R112_T14RLP_20210213T200017.SAFE/GRANULE/L2A_T14RLP_A007688_20161211T172120/IMG_DATA/R10m/T14RLP_20161211T171712_B04_10m.tif?st=2023-11-15T00%3A04%3A08Z&se=2023-11-16T00%3A49%3A08Z&sp=rl&sv=2021-06-08&sr=c&skoid=c85c15d6-d1ae-42d4-af60-e2ca0f81359b&sktid=72f988bf-86f1-41af-91ab-2d7cd011db47&skt=2023-11-15T19%3A35%3A57Z&ske=2023-11-22T19%3A35%3A57Z&sks=b&skv=2021-06-08&sig=3m3jElRLso6//YheLb%2B21/LFxL9owor7Y0CJVtOXDLc%3D'],\n",
       "  'nir': ['https://sentinel2l2a01.blob.core.windows.net/sentinel2-l2/14/R/LP/2016/12/11/S2A_MSIL2A_20161211T171712_N0212_R112_T14RLP_20210213T200017.SAFE/GRANULE/L2A_T14RLP_A007688_20161211T172120/IMG_DATA/R10m/T14RLP_20161211T171712_B08_10m.tif?st=2023-11-15T00%3A04%3A08Z&se=2023-11-16T00%3A49%3A08Z&sp=rl&sv=2021-06-08&sr=c&skoid=c85c15d6-d1ae-42d4-af60-e2ca0f81359b&sktid=72f988bf-86f1-41af-91ab-2d7cd011db47&skt=2023-11-15T19%3A35%3A57Z&ske=2023-11-22T19%3A35%3A57Z&sks=b&skv=2021-06-08&sig=3m3jElRLso6//YheLb%2B21/LFxL9owor7Y0CJVtOXDLc%3D']},\n",
       " datetime.date(2016, 12, 1): {'red': ['https://sentinel2l2a01.blob.core.windows.net/sentinel2-l2/14/R/LP/2016/12/01/S2A_MSIL2A_20161201T171652_N0212_R112_T14RLP_20210213T170326.SAFE/GRANULE/L2A_T14RLP_A007545_20161201T172545/IMG_DATA/R10m/T14RLP_20161201T171652_B04_10m.tif?st=2023-11-15T00%3A04%3A08Z&se=2023-11-16T00%3A49%3A08Z&sp=rl&sv=2021-06-08&sr=c&skoid=c85c15d6-d1ae-42d4-af60-e2ca0f81359b&sktid=72f988bf-86f1-41af-91ab-2d7cd011db47&skt=2023-11-15T19%3A35%3A57Z&ske=2023-11-22T19%3A35%3A57Z&sks=b&skv=2021-06-08&sig=3m3jElRLso6//YheLb%2B21/LFxL9owor7Y0CJVtOXDLc%3D'],\n",
       "  'nir': ['https://sentinel2l2a01.blob.core.windows.net/sentinel2-l2/14/R/LP/2016/12/01/S2A_MSIL2A_20161201T171652_N0212_R112_T14RLP_20210213T170326.SAFE/GRANULE/L2A_T14RLP_A007545_20161201T172545/IMG_DATA/R10m/T14RLP_20161201T171652_B08_10m.tif?st=2023-11-15T00%3A04%3A08Z&se=2023-11-16T00%3A49%3A08Z&sp=rl&sv=2021-06-08&sr=c&skoid=c85c15d6-d1ae-42d4-af60-e2ca0f81359b&sktid=72f988bf-86f1-41af-91ab-2d7cd011db47&skt=2023-11-15T19%3A35%3A57Z&ske=2023-11-22T19%3A35%3A57Z&sks=b&skv=2021-06-08&sig=3m3jElRLso6//YheLb%2B21/LFxL9owor7Y0CJVtOXDLc%3D']},\n",
       " datetime.date(2017, 1, 30): {'red': ['https://sentinel2l2a01.blob.core.windows.net/sentinel2-l2/14/R/LP/2017/01/30/S2A_MSIL2A_20170130T171541_N0212_R112_T14RLP_20210208T012405.SAFE/GRANULE/L2A_T14RLP_A008403_20170130T171741/IMG_DATA/R10m/T14RLP_20170130T171541_B04_10m.tif?st=2023-11-15T00%3A04%3A08Z&se=2023-11-16T00%3A49%3A08Z&sp=rl&sv=2021-06-08&sr=c&skoid=c85c15d6-d1ae-42d4-af60-e2ca0f81359b&sktid=72f988bf-86f1-41af-91ab-2d7cd011db47&skt=2023-11-15T19%3A35%3A57Z&ske=2023-11-22T19%3A35%3A57Z&sks=b&skv=2021-06-08&sig=3m3jElRLso6//YheLb%2B21/LFxL9owor7Y0CJVtOXDLc%3D'],\n",
       "  'nir': ['https://sentinel2l2a01.blob.core.windows.net/sentinel2-l2/14/R/LP/2017/01/30/S2A_MSIL2A_20170130T171541_N0212_R112_T14RLP_20210208T012405.SAFE/GRANULE/L2A_T14RLP_A008403_20170130T171741/IMG_DATA/R10m/T14RLP_20170130T171541_B08_10m.tif?st=2023-11-15T00%3A04%3A08Z&se=2023-11-16T00%3A49%3A08Z&sp=rl&sv=2021-06-08&sr=c&skoid=c85c15d6-d1ae-42d4-af60-e2ca0f81359b&sktid=72f988bf-86f1-41af-91ab-2d7cd011db47&skt=2023-11-15T19%3A35%3A57Z&ske=2023-11-22T19%3A35%3A57Z&sks=b&skv=2021-06-08&sig=3m3jElRLso6//YheLb%2B21/LFxL9owor7Y0CJVtOXDLc%3D']},\n",
       " datetime.date(2017, 3, 21): {'red': ['https://sentinel2l2a01.blob.core.windows.net/sentinel2-l2/14/R/LP/2017/03/21/S2A_MSIL2A_20170321T171251_N0212_R112_T14RLP_20210209T002945.SAFE/GRANULE/L2A_T14RLP_A009118_20170321T172621/IMG_DATA/R10m/T14RLP_20170321T171251_B04_10m.tif?st=2023-11-15T00%3A04%3A08Z&se=2023-11-16T00%3A49%3A08Z&sp=rl&sv=2021-06-08&sr=c&skoid=c85c15d6-d1ae-42d4-af60-e2ca0f81359b&sktid=72f988bf-86f1-41af-91ab-2d7cd011db47&skt=2023-11-15T19%3A35%3A57Z&ske=2023-11-22T19%3A35%3A57Z&sks=b&skv=2021-06-08&sig=3m3jElRLso6//YheLb%2B21/LFxL9owor7Y0CJVtOXDLc%3D'],\n",
       "  'nir': ['https://sentinel2l2a01.blob.core.windows.net/sentinel2-l2/14/R/LP/2017/03/21/S2A_MSIL2A_20170321T171251_N0212_R112_T14RLP_20210209T002945.SAFE/GRANULE/L2A_T14RLP_A009118_20170321T172621/IMG_DATA/R10m/T14RLP_20170321T171251_B08_10m.tif?st=2023-11-15T00%3A04%3A08Z&se=2023-11-16T00%3A49%3A08Z&sp=rl&sv=2021-06-08&sr=c&skoid=c85c15d6-d1ae-42d4-af60-e2ca0f81359b&sktid=72f988bf-86f1-41af-91ab-2d7cd011db47&skt=2023-11-15T19%3A35%3A57Z&ske=2023-11-22T19%3A35%3A57Z&sks=b&skv=2021-06-08&sig=3m3jElRLso6//YheLb%2B21/LFxL9owor7Y0CJVtOXDLc%3D']},\n",
       " datetime.date(2017, 3, 1): {'red': ['https://sentinel2l2a01.blob.core.windows.net/sentinel2-l2/14/R/LP/2017/03/01/S2A_MSIL2A_20170301T171251_N0212_R112_T14RLP_20210208T183833.SAFE/GRANULE/L2A_T14RLP_A008832_20170301T171554/IMG_DATA/R10m/T14RLP_20170301T171251_B04_10m.tif?st=2023-11-15T00%3A04%3A08Z&se=2023-11-16T00%3A49%3A08Z&sp=rl&sv=2021-06-08&sr=c&skoid=c85c15d6-d1ae-42d4-af60-e2ca0f81359b&sktid=72f988bf-86f1-41af-91ab-2d7cd011db47&skt=2023-11-15T19%3A35%3A57Z&ske=2023-11-22T19%3A35%3A57Z&sks=b&skv=2021-06-08&sig=3m3jElRLso6//YheLb%2B21/LFxL9owor7Y0CJVtOXDLc%3D'],\n",
       "  'nir': ['https://sentinel2l2a01.blob.core.windows.net/sentinel2-l2/14/R/LP/2017/03/01/S2A_MSIL2A_20170301T171251_N0212_R112_T14RLP_20210208T183833.SAFE/GRANULE/L2A_T14RLP_A008832_20170301T171554/IMG_DATA/R10m/T14RLP_20170301T171251_B08_10m.tif?st=2023-11-15T00%3A04%3A08Z&se=2023-11-16T00%3A49%3A08Z&sp=rl&sv=2021-06-08&sr=c&skoid=c85c15d6-d1ae-42d4-af60-e2ca0f81359b&sktid=72f988bf-86f1-41af-91ab-2d7cd011db47&skt=2023-11-15T19%3A35%3A57Z&ske=2023-11-22T19%3A35%3A57Z&sks=b&skv=2021-06-08&sig=3m3jElRLso6//YheLb%2B21/LFxL9owor7Y0CJVtOXDLc%3D']},\n",
       " datetime.date(2017, 4, 30): {'red': ['https://sentinel2l2a01.blob.core.windows.net/sentinel2-l2/14/R/LP/2017/04/30/S2A_MSIL2A_20170430T171301_N0212_R112_T14RLP_20210209T120157.SAFE/GRANULE/L2A_T14RLP_A009690_20170430T172229/IMG_DATA/R10m/T14RLP_20170430T171301_B04_10m.tif?st=2023-11-15T00%3A04%3A08Z&se=2023-11-16T00%3A49%3A08Z&sp=rl&sv=2021-06-08&sr=c&skoid=c85c15d6-d1ae-42d4-af60-e2ca0f81359b&sktid=72f988bf-86f1-41af-91ab-2d7cd011db47&skt=2023-11-15T19%3A35%3A57Z&ske=2023-11-22T19%3A35%3A57Z&sks=b&skv=2021-06-08&sig=3m3jElRLso6//YheLb%2B21/LFxL9owor7Y0CJVtOXDLc%3D'],\n",
       "  'nir': ['https://sentinel2l2a01.blob.core.windows.net/sentinel2-l2/14/R/LP/2017/04/30/S2A_MSIL2A_20170430T171301_N0212_R112_T14RLP_20210209T120157.SAFE/GRANULE/L2A_T14RLP_A009690_20170430T172229/IMG_DATA/R10m/T14RLP_20170430T171301_B08_10m.tif?st=2023-11-15T00%3A04%3A08Z&se=2023-11-16T00%3A49%3A08Z&sp=rl&sv=2021-06-08&sr=c&skoid=c85c15d6-d1ae-42d4-af60-e2ca0f81359b&sktid=72f988bf-86f1-41af-91ab-2d7cd011db47&skt=2023-11-15T19%3A35%3A57Z&ske=2023-11-22T19%3A35%3A57Z&sks=b&skv=2021-06-08&sig=3m3jElRLso6//YheLb%2B21/LFxL9owor7Y0CJVtOXDLc%3D']},\n",
       " datetime.date(2017, 6, 29): {'red': ['https://sentinel2l2a01.blob.core.windows.net/sentinel2-l2/14/R/LP/2017/06/29/S2A_MSIL2A_20170629T171301_N0212_R112_T14RLP_20210210T023850.SAFE/GRANULE/L2A_T14RLP_A010548_20170629T172222/IMG_DATA/R10m/T14RLP_20170629T171301_B04_10m.tif?st=2023-11-15T00%3A04%3A08Z&se=2023-11-16T00%3A49%3A08Z&sp=rl&sv=2021-06-08&sr=c&skoid=c85c15d6-d1ae-42d4-af60-e2ca0f81359b&sktid=72f988bf-86f1-41af-91ab-2d7cd011db47&skt=2023-11-15T19%3A35%3A57Z&ske=2023-11-22T19%3A35%3A57Z&sks=b&skv=2021-06-08&sig=3m3jElRLso6//YheLb%2B21/LFxL9owor7Y0CJVtOXDLc%3D'],\n",
       "  'nir': ['https://sentinel2l2a01.blob.core.windows.net/sentinel2-l2/14/R/LP/2017/06/29/S2A_MSIL2A_20170629T171301_N0212_R112_T14RLP_20210210T023850.SAFE/GRANULE/L2A_T14RLP_A010548_20170629T172222/IMG_DATA/R10m/T14RLP_20170629T171301_B08_10m.tif?st=2023-11-15T00%3A04%3A08Z&se=2023-11-16T00%3A49%3A08Z&sp=rl&sv=2021-06-08&sr=c&skoid=c85c15d6-d1ae-42d4-af60-e2ca0f81359b&sktid=72f988bf-86f1-41af-91ab-2d7cd011db47&skt=2023-11-15T19%3A35%3A57Z&ske=2023-11-22T19%3A35%3A57Z&sks=b&skv=2021-06-08&sig=3m3jElRLso6//YheLb%2B21/LFxL9owor7Y0CJVtOXDLc%3D']},\n",
       " datetime.date(2017, 9, 12): {'red': ['https://sentinel2l2a01.blob.core.windows.net/sentinel2-l2/14/R/LP/2017/09/12/S2B_MSIL2A_20170912T170949_N0212_R112_T14RLP_20210202T013103.SAFE/GRANULE/L2A_T14RLP_A002712_20170912T172515/IMG_DATA/R10m/T14RLP_20170912T170949_B04_10m.tif?st=2023-11-15T00%3A04%3A08Z&se=2023-11-16T00%3A49%3A08Z&sp=rl&sv=2021-06-08&sr=c&skoid=c85c15d6-d1ae-42d4-af60-e2ca0f81359b&sktid=72f988bf-86f1-41af-91ab-2d7cd011db47&skt=2023-11-15T19%3A35%3A57Z&ske=2023-11-22T19%3A35%3A57Z&sks=b&skv=2021-06-08&sig=3m3jElRLso6//YheLb%2B21/LFxL9owor7Y0CJVtOXDLc%3D'],\n",
       "  'nir': ['https://sentinel2l2a01.blob.core.windows.net/sentinel2-l2/14/R/LP/2017/09/12/S2B_MSIL2A_20170912T170949_N0212_R112_T14RLP_20210202T013103.SAFE/GRANULE/L2A_T14RLP_A002712_20170912T172515/IMG_DATA/R10m/T14RLP_20170912T170949_B08_10m.tif?st=2023-11-15T00%3A04%3A08Z&se=2023-11-16T00%3A49%3A08Z&sp=rl&sv=2021-06-08&sr=c&skoid=c85c15d6-d1ae-42d4-af60-e2ca0f81359b&sktid=72f988bf-86f1-41af-91ab-2d7cd011db47&skt=2023-11-15T19%3A35%3A57Z&ske=2023-11-22T19%3A35%3A57Z&sks=b&skv=2021-06-08&sig=3m3jElRLso6//YheLb%2B21/LFxL9owor7Y0CJVtOXDLc%3D']},\n",
       " datetime.date(2017, 10, 27): {'red': ['https://sentinel2l2a01.blob.core.windows.net/sentinel2-l2/14/R/LP/2017/10/27/S2A_MSIL2A_20171027T171421_N0212_R112_T14RLP_20201015T023430.SAFE/GRANULE/L2A_T14RLP_A012264_20171027T172037/IMG_DATA/R10m/T14RLP_20171027T171421_B04_10m.tif?st=2023-11-15T00%3A04%3A08Z&se=2023-11-16T00%3A49%3A08Z&sp=rl&sv=2021-06-08&sr=c&skoid=c85c15d6-d1ae-42d4-af60-e2ca0f81359b&sktid=72f988bf-86f1-41af-91ab-2d7cd011db47&skt=2023-11-15T19%3A35%3A57Z&ske=2023-11-22T19%3A35%3A57Z&sks=b&skv=2021-06-08&sig=3m3jElRLso6//YheLb%2B21/LFxL9owor7Y0CJVtOXDLc%3D'],\n",
       "  'nir': ['https://sentinel2l2a01.blob.core.windows.net/sentinel2-l2/14/R/LP/2017/10/27/S2A_MSIL2A_20171027T171421_N0212_R112_T14RLP_20201015T023430.SAFE/GRANULE/L2A_T14RLP_A012264_20171027T172037/IMG_DATA/R10m/T14RLP_20171027T171421_B08_10m.tif?st=2023-11-15T00%3A04%3A08Z&se=2023-11-16T00%3A49%3A08Z&sp=rl&sv=2021-06-08&sr=c&skoid=c85c15d6-d1ae-42d4-af60-e2ca0f81359b&sktid=72f988bf-86f1-41af-91ab-2d7cd011db47&skt=2023-11-15T19%3A35%3A57Z&ske=2023-11-22T19%3A35%3A57Z&sks=b&skv=2021-06-08&sig=3m3jElRLso6//YheLb%2B21/LFxL9owor7Y0CJVtOXDLc%3D']},\n",
       " datetime.date(2017, 10, 7): {'red': ['https://sentinel2l2a01.blob.core.windows.net/sentinel2-l2/14/R/LP/2017/10/07/S2A_MSIL2A_20171007T171211_N0212_R112_T14RLP_20210202T151256.SAFE/GRANULE/L2A_T14RLP_A011978_20171007T172457/IMG_DATA/R10m/T14RLP_20171007T171211_B04_10m.tif?st=2023-11-15T00%3A04%3A08Z&se=2023-11-16T00%3A49%3A08Z&sp=rl&sv=2021-06-08&sr=c&skoid=c85c15d6-d1ae-42d4-af60-e2ca0f81359b&sktid=72f988bf-86f1-41af-91ab-2d7cd011db47&skt=2023-11-15T19%3A35%3A57Z&ske=2023-11-22T19%3A35%3A57Z&sks=b&skv=2021-06-08&sig=3m3jElRLso6//YheLb%2B21/LFxL9owor7Y0CJVtOXDLc%3D'],\n",
       "  'nir': ['https://sentinel2l2a01.blob.core.windows.net/sentinel2-l2/14/R/LP/2017/10/07/S2A_MSIL2A_20171007T171211_N0212_R112_T14RLP_20210202T151256.SAFE/GRANULE/L2A_T14RLP_A011978_20171007T172457/IMG_DATA/R10m/T14RLP_20171007T171211_B08_10m.tif?st=2023-11-15T00%3A04%3A08Z&se=2023-11-16T00%3A49%3A08Z&sp=rl&sv=2021-06-08&sr=c&skoid=c85c15d6-d1ae-42d4-af60-e2ca0f81359b&sktid=72f988bf-86f1-41af-91ab-2d7cd011db47&skt=2023-11-15T19%3A35%3A57Z&ske=2023-11-22T19%3A35%3A57Z&sks=b&skv=2021-06-08&sig=3m3jElRLso6//YheLb%2B21/LFxL9owor7Y0CJVtOXDLc%3D']},\n",
       " datetime.date(2018, 1, 20): {'red': ['https://sentinel2l2a01.blob.core.windows.net/sentinel2-l2/14/R/LP/2018/01/20/S2B_MSIL2A_20180120T171619_N0212_R112_T14RLP_20201014T072447.SAFE/GRANULE/L2A_T14RLP_A004571_20180120T172131/IMG_DATA/R10m/T14RLP_20180120T171619_B04_10m.tif?st=2023-11-15T00%3A04%3A08Z&se=2023-11-16T00%3A49%3A08Z&sp=rl&sv=2021-06-08&sr=c&skoid=c85c15d6-d1ae-42d4-af60-e2ca0f81359b&sktid=72f988bf-86f1-41af-91ab-2d7cd011db47&skt=2023-11-15T19%3A35%3A57Z&ske=2023-11-22T19%3A35%3A57Z&sks=b&skv=2021-06-08&sig=3m3jElRLso6//YheLb%2B21/LFxL9owor7Y0CJVtOXDLc%3D'],\n",
       "  'nir': ['https://sentinel2l2a01.blob.core.windows.net/sentinel2-l2/14/R/LP/2018/01/20/S2B_MSIL2A_20180120T171619_N0212_R112_T14RLP_20201014T072447.SAFE/GRANULE/L2A_T14RLP_A004571_20180120T172131/IMG_DATA/R10m/T14RLP_20180120T171619_B08_10m.tif?st=2023-11-15T00%3A04%3A08Z&se=2023-11-16T00%3A49%3A08Z&sp=rl&sv=2021-06-08&sr=c&skoid=c85c15d6-d1ae-42d4-af60-e2ca0f81359b&sktid=72f988bf-86f1-41af-91ab-2d7cd011db47&skt=2023-11-15T19%3A35%3A57Z&ske=2023-11-22T19%3A35%3A57Z&sks=b&skv=2021-06-08&sig=3m3jElRLso6//YheLb%2B21/LFxL9owor7Y0CJVtOXDLc%3D']},\n",
       " datetime.date(2018, 1, 15): {'red': ['https://sentinel2l2a01.blob.core.windows.net/sentinel2-l2/14/R/LP/2018/01/15/S2A_MSIL2A_20180115T171641_N0212_R112_T14RLP_20201014T055641.SAFE/GRANULE/L2A_T14RLP_A013408_20180115T171853/IMG_DATA/R10m/T14RLP_20180115T171641_B04_10m.tif?st=2023-11-15T00%3A04%3A08Z&se=2023-11-16T00%3A49%3A08Z&sp=rl&sv=2021-06-08&sr=c&skoid=c85c15d6-d1ae-42d4-af60-e2ca0f81359b&sktid=72f988bf-86f1-41af-91ab-2d7cd011db47&skt=2023-11-15T19%3A35%3A57Z&ske=2023-11-22T19%3A35%3A57Z&sks=b&skv=2021-06-08&sig=3m3jElRLso6//YheLb%2B21/LFxL9owor7Y0CJVtOXDLc%3D'],\n",
       "  'nir': ['https://sentinel2l2a01.blob.core.windows.net/sentinel2-l2/14/R/LP/2018/01/15/S2A_MSIL2A_20180115T171641_N0212_R112_T14RLP_20201014T055641.SAFE/GRANULE/L2A_T14RLP_A013408_20180115T171853/IMG_DATA/R10m/T14RLP_20180115T171641_B08_10m.tif?st=2023-11-15T00%3A04%3A08Z&se=2023-11-16T00%3A49%3A08Z&sp=rl&sv=2021-06-08&sr=c&skoid=c85c15d6-d1ae-42d4-af60-e2ca0f81359b&sktid=72f988bf-86f1-41af-91ab-2d7cd011db47&skt=2023-11-15T19%3A35%3A57Z&ske=2023-11-22T19%3A35%3A57Z&sks=b&skv=2021-06-08&sig=3m3jElRLso6//YheLb%2B21/LFxL9owor7Y0CJVtOXDLc%3D']},\n",
       " datetime.date(2018, 1, 10): {'red': ['https://sentinel2l2a01.blob.core.windows.net/sentinel2-l2/14/R/LP/2018/01/10/S2B_MSIL2A_20180110T171659_N0212_R112_T14RLP_20201014T044826.SAFE/GRANULE/L2A_T14RLP_A004428_20180110T171653/IMG_DATA/R10m/T14RLP_20180110T171659_B04_10m.tif?st=2023-11-15T00%3A04%3A08Z&se=2023-11-16T00%3A49%3A08Z&sp=rl&sv=2021-06-08&sr=c&skoid=c85c15d6-d1ae-42d4-af60-e2ca0f81359b&sktid=72f988bf-86f1-41af-91ab-2d7cd011db47&skt=2023-11-15T19%3A35%3A57Z&ske=2023-11-22T19%3A35%3A57Z&sks=b&skv=2021-06-08&sig=3m3jElRLso6//YheLb%2B21/LFxL9owor7Y0CJVtOXDLc%3D'],\n",
       "  'nir': ['https://sentinel2l2a01.blob.core.windows.net/sentinel2-l2/14/R/LP/2018/01/10/S2B_MSIL2A_20180110T171659_N0212_R112_T14RLP_20201014T044826.SAFE/GRANULE/L2A_T14RLP_A004428_20180110T171653/IMG_DATA/R10m/T14RLP_20180110T171659_B08_10m.tif?st=2023-11-15T00%3A04%3A08Z&se=2023-11-16T00%3A49%3A08Z&sp=rl&sv=2021-06-08&sr=c&skoid=c85c15d6-d1ae-42d4-af60-e2ca0f81359b&sktid=72f988bf-86f1-41af-91ab-2d7cd011db47&skt=2023-11-15T19%3A35%3A57Z&ske=2023-11-22T19%3A35%3A57Z&sks=b&skv=2021-06-08&sig=3m3jElRLso6//YheLb%2B21/LFxL9owor7Y0CJVtOXDLc%3D']},\n",
       " datetime.date(2018, 3, 31): {'red': ['https://sentinel2l2a01.blob.core.windows.net/sentinel2-l2/14/R/LP/2018/03/31/S2B_MSIL2A_20180331T170859_N0212_R112_T14RLP_20201013T172505.SAFE/GRANULE/L2A_T14RLP_A005572_20180331T171809/IMG_DATA/R10m/T14RLP_20180331T170859_B04_10m.tif?st=2023-11-15T00%3A04%3A08Z&se=2023-11-16T00%3A49%3A08Z&sp=rl&sv=2021-06-08&sr=c&skoid=c85c15d6-d1ae-42d4-af60-e2ca0f81359b&sktid=72f988bf-86f1-41af-91ab-2d7cd011db47&skt=2023-11-15T19%3A35%3A57Z&ske=2023-11-22T19%3A35%3A57Z&sks=b&skv=2021-06-08&sig=3m3jElRLso6//YheLb%2B21/LFxL9owor7Y0CJVtOXDLc%3D'],\n",
       "  'nir': ['https://sentinel2l2a01.blob.core.windows.net/sentinel2-l2/14/R/LP/2018/03/31/S2B_MSIL2A_20180331T170859_N0212_R112_T14RLP_20201013T172505.SAFE/GRANULE/L2A_T14RLP_A005572_20180331T171809/IMG_DATA/R10m/T14RLP_20180331T170859_B08_10m.tif?st=2023-11-15T00%3A04%3A08Z&se=2023-11-16T00%3A49%3A08Z&sp=rl&sv=2021-06-08&sr=c&skoid=c85c15d6-d1ae-42d4-af60-e2ca0f81359b&sktid=72f988bf-86f1-41af-91ab-2d7cd011db47&skt=2023-11-15T19%3A35%3A57Z&ske=2023-11-22T19%3A35%3A57Z&sks=b&skv=2021-06-08&sig=3m3jElRLso6//YheLb%2B21/LFxL9owor7Y0CJVtOXDLc%3D']},\n",
       " datetime.date(2018, 3, 16): {'red': ['https://sentinel2l2a01.blob.core.windows.net/sentinel2-l2/14/R/LP/2018/03/16/S2A_MSIL2A_20180316T171031_N0212_R112_T14RLP_20201013T094643.SAFE/GRANULE/L2A_T14RLP_A014266_20180316T171943/IMG_DATA/R10m/T14RLP_20180316T171031_B04_10m.tif?st=2023-11-15T00%3A04%3A08Z&se=2023-11-16T00%3A49%3A08Z&sp=rl&sv=2021-06-08&sr=c&skoid=c85c15d6-d1ae-42d4-af60-e2ca0f81359b&sktid=72f988bf-86f1-41af-91ab-2d7cd011db47&skt=2023-11-15T19%3A35%3A57Z&ske=2023-11-22T19%3A35%3A57Z&sks=b&skv=2021-06-08&sig=3m3jElRLso6//YheLb%2B21/LFxL9owor7Y0CJVtOXDLc%3D'],\n",
       "  'nir': ['https://sentinel2l2a01.blob.core.windows.net/sentinel2-l2/14/R/LP/2018/03/16/S2A_MSIL2A_20180316T171031_N0212_R112_T14RLP_20201013T094643.SAFE/GRANULE/L2A_T14RLP_A014266_20180316T171943/IMG_DATA/R10m/T14RLP_20180316T171031_B08_10m.tif?st=2023-11-15T00%3A04%3A08Z&se=2023-11-16T00%3A49%3A08Z&sp=rl&sv=2021-06-08&sr=c&skoid=c85c15d6-d1ae-42d4-af60-e2ca0f81359b&sktid=72f988bf-86f1-41af-91ab-2d7cd011db47&skt=2023-11-15T19%3A35%3A57Z&ske=2023-11-22T19%3A35%3A57Z&sks=b&skv=2021-06-08&sig=3m3jElRLso6//YheLb%2B21/LFxL9owor7Y0CJVtOXDLc%3D']},\n",
       " datetime.date(2018, 4, 15): {'red': ['https://sentinel2l2a01.blob.core.windows.net/sentinel2-l2/14/R/LP/2018/04/15/S2A_MSIL2A_20180415T170851_N0212_R112_T14RLP_20201012T223602.SAFE/GRANULE/L2A_T14RLP_A014695_20180415T172455/IMG_DATA/R10m/T14RLP_20180415T170851_B04_10m.tif?st=2023-11-15T00%3A04%3A08Z&se=2023-11-16T00%3A49%3A08Z&sp=rl&sv=2021-06-08&sr=c&skoid=c85c15d6-d1ae-42d4-af60-e2ca0f81359b&sktid=72f988bf-86f1-41af-91ab-2d7cd011db47&skt=2023-11-15T19%3A35%3A57Z&ske=2023-11-22T19%3A35%3A57Z&sks=b&skv=2021-06-08&sig=3m3jElRLso6//YheLb%2B21/LFxL9owor7Y0CJVtOXDLc%3D'],\n",
       "  'nir': ['https://sentinel2l2a01.blob.core.windows.net/sentinel2-l2/14/R/LP/2018/04/15/S2A_MSIL2A_20180415T170851_N0212_R112_T14RLP_20201012T223602.SAFE/GRANULE/L2A_T14RLP_A014695_20180415T172455/IMG_DATA/R10m/T14RLP_20180415T170851_B08_10m.tif?st=2023-11-15T00%3A04%3A08Z&se=2023-11-16T00%3A49%3A08Z&sp=rl&sv=2021-06-08&sr=c&skoid=c85c15d6-d1ae-42d4-af60-e2ca0f81359b&sktid=72f988bf-86f1-41af-91ab-2d7cd011db47&skt=2023-11-15T19%3A35%3A57Z&ske=2023-11-22T19%3A35%3A57Z&sks=b&skv=2021-06-08&sig=3m3jElRLso6//YheLb%2B21/LFxL9owor7Y0CJVtOXDLc%3D']},\n",
       " datetime.date(2018, 5, 25): {'red': ['https://sentinel2l2a01.blob.core.windows.net/sentinel2-l2/14/R/LP/2018/05/25/S2A_MSIL2A_20180525T170851_N0212_R112_T14RLP_20201012T140519.SAFE/GRANULE/L2A_T14RLP_A015267_20180525T172636/IMG_DATA/R10m/T14RLP_20180525T170851_B04_10m.tif?st=2023-11-15T00%3A04%3A08Z&se=2023-11-16T00%3A49%3A08Z&sp=rl&sv=2021-06-08&sr=c&skoid=c85c15d6-d1ae-42d4-af60-e2ca0f81359b&sktid=72f988bf-86f1-41af-91ab-2d7cd011db47&skt=2023-11-15T19%3A35%3A57Z&ske=2023-11-22T19%3A35%3A57Z&sks=b&skv=2021-06-08&sig=3m3jElRLso6//YheLb%2B21/LFxL9owor7Y0CJVtOXDLc%3D'],\n",
       "  'nir': ['https://sentinel2l2a01.blob.core.windows.net/sentinel2-l2/14/R/LP/2018/05/25/S2A_MSIL2A_20180525T170851_N0212_R112_T14RLP_20201012T140519.SAFE/GRANULE/L2A_T14RLP_A015267_20180525T172636/IMG_DATA/R10m/T14RLP_20180525T170851_B08_10m.tif?st=2023-11-15T00%3A04%3A08Z&se=2023-11-16T00%3A49%3A08Z&sp=rl&sv=2021-06-08&sr=c&skoid=c85c15d6-d1ae-42d4-af60-e2ca0f81359b&sktid=72f988bf-86f1-41af-91ab-2d7cd011db47&skt=2023-11-15T19%3A35%3A57Z&ske=2023-11-22T19%3A35%3A57Z&sks=b&skv=2021-06-08&sig=3m3jElRLso6//YheLb%2B21/LFxL9owor7Y0CJVtOXDLc%3D']},\n",
       " datetime.date(2018, 6, 24): {'red': ['https://sentinel2l2a01.blob.core.windows.net/sentinel2-l2/14/R/LP/2018/06/24/S2A_MSIL2A_20180624T170851_N0212_R112_T14RLP_20201012T015115.SAFE/GRANULE/L2A_T14RLP_A015696_20180624T171600/IMG_DATA/R10m/T14RLP_20180624T170851_B04_10m.tif?st=2023-11-15T00%3A04%3A08Z&se=2023-11-16T00%3A49%3A08Z&sp=rl&sv=2021-06-08&sr=c&skoid=c85c15d6-d1ae-42d4-af60-e2ca0f81359b&sktid=72f988bf-86f1-41af-91ab-2d7cd011db47&skt=2023-11-15T19%3A35%3A57Z&ske=2023-11-22T19%3A35%3A57Z&sks=b&skv=2021-06-08&sig=3m3jElRLso6//YheLb%2B21/LFxL9owor7Y0CJVtOXDLc%3D'],\n",
       "  'nir': ['https://sentinel2l2a01.blob.core.windows.net/sentinel2-l2/14/R/LP/2018/06/24/S2A_MSIL2A_20180624T170851_N0212_R112_T14RLP_20201012T015115.SAFE/GRANULE/L2A_T14RLP_A015696_20180624T171600/IMG_DATA/R10m/T14RLP_20180624T170851_B08_10m.tif?st=2023-11-15T00%3A04%3A08Z&se=2023-11-16T00%3A49%3A08Z&sp=rl&sv=2021-06-08&sr=c&skoid=c85c15d6-d1ae-42d4-af60-e2ca0f81359b&sktid=72f988bf-86f1-41af-91ab-2d7cd011db47&skt=2023-11-15T19%3A35%3A57Z&ske=2023-11-22T19%3A35%3A57Z&sks=b&skv=2021-06-08&sig=3m3jElRLso6//YheLb%2B21/LFxL9owor7Y0CJVtOXDLc%3D']},\n",
       " datetime.date(2018, 7, 29): {'red': ['https://sentinel2l2a01.blob.core.windows.net/sentinel2-l2/14/R/LP/2018/07/29/S2B_MSIL2A_20180729T170849_N0212_R112_T14RLP_20201011T213107.SAFE/GRANULE/L2A_T14RLP_A007288_20180729T172230/IMG_DATA/R10m/T14RLP_20180729T170849_B04_10m.tif?st=2023-11-15T00%3A04%3A08Z&se=2023-11-16T00%3A49%3A08Z&sp=rl&sv=2021-06-08&sr=c&skoid=c85c15d6-d1ae-42d4-af60-e2ca0f81359b&sktid=72f988bf-86f1-41af-91ab-2d7cd011db47&skt=2023-11-15T19%3A35%3A57Z&ske=2023-11-22T19%3A35%3A57Z&sks=b&skv=2021-06-08&sig=3m3jElRLso6//YheLb%2B21/LFxL9owor7Y0CJVtOXDLc%3D'],\n",
       "  'nir': ['https://sentinel2l2a01.blob.core.windows.net/sentinel2-l2/14/R/LP/2018/07/29/S2B_MSIL2A_20180729T170849_N0212_R112_T14RLP_20201011T213107.SAFE/GRANULE/L2A_T14RLP_A007288_20180729T172230/IMG_DATA/R10m/T14RLP_20180729T170849_B08_10m.tif?st=2023-11-15T00%3A04%3A08Z&se=2023-11-16T00%3A49%3A08Z&sp=rl&sv=2021-06-08&sr=c&skoid=c85c15d6-d1ae-42d4-af60-e2ca0f81359b&sktid=72f988bf-86f1-41af-91ab-2d7cd011db47&skt=2023-11-15T19%3A35%3A57Z&ske=2023-11-22T19%3A35%3A57Z&sks=b&skv=2021-06-08&sig=3m3jElRLso6//YheLb%2B21/LFxL9owor7Y0CJVtOXDLc%3D']},\n",
       " datetime.date(2018, 7, 19): {'red': ['https://sentinel2l2a01.blob.core.windows.net/sentinel2-l2/14/R/LP/2018/07/19/S2B_MSIL2A_20180719T170849_N0212_R112_T14RLP_20201011T174434.SAFE/GRANULE/L2A_T14RLP_A007145_20180719T172037/IMG_DATA/R10m/T14RLP_20180719T170849_B04_10m.tif?st=2023-11-15T00%3A04%3A08Z&se=2023-11-16T00%3A49%3A08Z&sp=rl&sv=2021-06-08&sr=c&skoid=c85c15d6-d1ae-42d4-af60-e2ca0f81359b&sktid=72f988bf-86f1-41af-91ab-2d7cd011db47&skt=2023-11-15T19%3A35%3A57Z&ske=2023-11-22T19%3A35%3A57Z&sks=b&skv=2021-06-08&sig=3m3jElRLso6//YheLb%2B21/LFxL9owor7Y0CJVtOXDLc%3D'],\n",
       "  'nir': ['https://sentinel2l2a01.blob.core.windows.net/sentinel2-l2/14/R/LP/2018/07/19/S2B_MSIL2A_20180719T170849_N0212_R112_T14RLP_20201011T174434.SAFE/GRANULE/L2A_T14RLP_A007145_20180719T172037/IMG_DATA/R10m/T14RLP_20180719T170849_B08_10m.tif?st=2023-11-15T00%3A04%3A08Z&se=2023-11-16T00%3A49%3A08Z&sp=rl&sv=2021-06-08&sr=c&skoid=c85c15d6-d1ae-42d4-af60-e2ca0f81359b&sktid=72f988bf-86f1-41af-91ab-2d7cd011db47&skt=2023-11-15T19%3A35%3A57Z&ske=2023-11-22T19%3A35%3A57Z&sks=b&skv=2021-06-08&sig=3m3jElRLso6//YheLb%2B21/LFxL9owor7Y0CJVtOXDLc%3D']},\n",
       " datetime.date(2018, 7, 14): {'red': ['https://sentinel2l2a01.blob.core.windows.net/sentinel2-l2/14/R/LP/2018/07/14/S2A_MSIL2A_20180714T170851_N0212_R112_T14RLP_20201011T154134.SAFE/GRANULE/L2A_T14RLP_A015982_20180714T172256/IMG_DATA/R10m/T14RLP_20180714T170851_B04_10m.tif?st=2023-11-15T00%3A04%3A08Z&se=2023-11-16T00%3A49%3A08Z&sp=rl&sv=2021-06-08&sr=c&skoid=c85c15d6-d1ae-42d4-af60-e2ca0f81359b&sktid=72f988bf-86f1-41af-91ab-2d7cd011db47&skt=2023-11-15T19%3A35%3A57Z&ske=2023-11-22T19%3A35%3A57Z&sks=b&skv=2021-06-08&sig=3m3jElRLso6//YheLb%2B21/LFxL9owor7Y0CJVtOXDLc%3D'],\n",
       "  'nir': ['https://sentinel2l2a01.blob.core.windows.net/sentinel2-l2/14/R/LP/2018/07/14/S2A_MSIL2A_20180714T170851_N0212_R112_T14RLP_20201011T154134.SAFE/GRANULE/L2A_T14RLP_A015982_20180714T172256/IMG_DATA/R10m/T14RLP_20180714T170851_B08_10m.tif?st=2023-11-15T00%3A04%3A08Z&se=2023-11-16T00%3A49%3A08Z&sp=rl&sv=2021-06-08&sr=c&skoid=c85c15d6-d1ae-42d4-af60-e2ca0f81359b&sktid=72f988bf-86f1-41af-91ab-2d7cd011db47&skt=2023-11-15T19%3A35%3A57Z&ske=2023-11-22T19%3A35%3A57Z&sks=b&skv=2021-06-08&sig=3m3jElRLso6//YheLb%2B21/LFxL9owor7Y0CJVtOXDLc%3D']},\n",
       " datetime.date(2018, 7, 4): {'red': ['https://sentinel2l2a01.blob.core.windows.net/sentinel2-l2/14/R/LP/2018/07/04/S2A_MSIL2A_20180704T171011_N0212_R112_T14RLP_20201011T115145.SAFE/GRANULE/L2A_T14RLP_A015839_20180704T172139/IMG_DATA/R10m/T14RLP_20180704T171011_B04_10m.tif?st=2023-11-15T00%3A04%3A08Z&se=2023-11-16T00%3A49%3A08Z&sp=rl&sv=2021-06-08&sr=c&skoid=c85c15d6-d1ae-42d4-af60-e2ca0f81359b&sktid=72f988bf-86f1-41af-91ab-2d7cd011db47&skt=2023-11-15T19%3A35%3A57Z&ske=2023-11-22T19%3A35%3A57Z&sks=b&skv=2021-06-08&sig=3m3jElRLso6//YheLb%2B21/LFxL9owor7Y0CJVtOXDLc%3D'],\n",
       "  'nir': ['https://sentinel2l2a01.blob.core.windows.net/sentinel2-l2/14/R/LP/2018/07/04/S2A_MSIL2A_20180704T171011_N0212_R112_T14RLP_20201011T115145.SAFE/GRANULE/L2A_T14RLP_A015839_20180704T172139/IMG_DATA/R10m/T14RLP_20180704T171011_B08_10m.tif?st=2023-11-15T00%3A04%3A08Z&se=2023-11-16T00%3A49%3A08Z&sp=rl&sv=2021-06-08&sr=c&skoid=c85c15d6-d1ae-42d4-af60-e2ca0f81359b&sktid=72f988bf-86f1-41af-91ab-2d7cd011db47&skt=2023-11-15T19%3A35%3A57Z&ske=2023-11-22T19%3A35%3A57Z&sks=b&skv=2021-06-08&sig=3m3jElRLso6//YheLb%2B21/LFxL9owor7Y0CJVtOXDLc%3D']},\n",
       " datetime.date(2018, 8, 28): {'red': ['https://sentinel2l2a01.blob.core.windows.net/sentinel2-l2/14/R/LP/2018/08/28/S2B_MSIL2A_20180828T171039_N0212_R112_T14RLP_20201103T093805.SAFE/GRANULE/L2A_T14RLP_A007717_20180828T172348/IMG_DATA/R10m/T14RLP_20180828T171039_B04_10m.tif?st=2023-11-15T00%3A04%3A08Z&se=2023-11-16T00%3A49%3A08Z&sp=rl&sv=2021-06-08&sr=c&skoid=c85c15d6-d1ae-42d4-af60-e2ca0f81359b&sktid=72f988bf-86f1-41af-91ab-2d7cd011db47&skt=2023-11-15T19%3A35%3A57Z&ske=2023-11-22T19%3A35%3A57Z&sks=b&skv=2021-06-08&sig=3m3jElRLso6//YheLb%2B21/LFxL9owor7Y0CJVtOXDLc%3D'],\n",
       "  'nir': ['https://sentinel2l2a01.blob.core.windows.net/sentinel2-l2/14/R/LP/2018/08/28/S2B_MSIL2A_20180828T171039_N0212_R112_T14RLP_20201103T093805.SAFE/GRANULE/L2A_T14RLP_A007717_20180828T172348/IMG_DATA/R10m/T14RLP_20180828T171039_B08_10m.tif?st=2023-11-15T00%3A04%3A08Z&se=2023-11-16T00%3A49%3A08Z&sp=rl&sv=2021-06-08&sr=c&skoid=c85c15d6-d1ae-42d4-af60-e2ca0f81359b&sktid=72f988bf-86f1-41af-91ab-2d7cd011db47&skt=2023-11-15T19%3A35%3A57Z&ske=2023-11-22T19%3A35%3A57Z&sks=b&skv=2021-06-08&sig=3m3jElRLso6//YheLb%2B21/LFxL9owor7Y0CJVtOXDLc%3D']},\n",
       " datetime.date(2018, 8, 23): {'red': ['https://sentinel2l2a01.blob.core.windows.net/sentinel2-l2/14/R/LP/2018/08/23/S2A_MSIL2A_20180823T170851_N0212_R112_T14RLP_20201011T055137.SAFE/GRANULE/L2A_T14RLP_A016554_20180823T172457/IMG_DATA/R10m/T14RLP_20180823T170851_B04_10m.tif?st=2023-11-15T00%3A04%3A08Z&se=2023-11-16T00%3A49%3A08Z&sp=rl&sv=2021-06-08&sr=c&skoid=c85c15d6-d1ae-42d4-af60-e2ca0f81359b&sktid=72f988bf-86f1-41af-91ab-2d7cd011db47&skt=2023-11-15T19%3A35%3A57Z&ske=2023-11-22T19%3A35%3A57Z&sks=b&skv=2021-06-08&sig=3m3jElRLso6//YheLb%2B21/LFxL9owor7Y0CJVtOXDLc%3D'],\n",
       "  'nir': ['https://sentinel2l2a01.blob.core.windows.net/sentinel2-l2/14/R/LP/2018/08/23/S2A_MSIL2A_20180823T170851_N0212_R112_T14RLP_20201011T055137.SAFE/GRANULE/L2A_T14RLP_A016554_20180823T172457/IMG_DATA/R10m/T14RLP_20180823T170851_B08_10m.tif?st=2023-11-15T00%3A04%3A08Z&se=2023-11-16T00%3A49%3A08Z&sp=rl&sv=2021-06-08&sr=c&skoid=c85c15d6-d1ae-42d4-af60-e2ca0f81359b&sktid=72f988bf-86f1-41af-91ab-2d7cd011db47&skt=2023-11-15T19%3A35%3A57Z&ske=2023-11-22T19%3A35%3A57Z&sks=b&skv=2021-06-08&sig=3m3jElRLso6//YheLb%2B21/LFxL9owor7Y0CJVtOXDLc%3D']},\n",
       " datetime.date(2018, 8, 18): {'red': ['https://sentinel2l2a01.blob.core.windows.net/sentinel2-l2/14/R/LP/2018/08/18/S2B_MSIL2A_20180818T170839_N0212_R112_T14RLP_20201011T034402.SAFE/GRANULE/L2A_T14RLP_A007574_20180818T172003/IMG_DATA/R10m/T14RLP_20180818T170839_B04_10m.tif?st=2023-11-15T00%3A04%3A08Z&se=2023-11-16T00%3A49%3A08Z&sp=rl&sv=2021-06-08&sr=c&skoid=c85c15d6-d1ae-42d4-af60-e2ca0f81359b&sktid=72f988bf-86f1-41af-91ab-2d7cd011db47&skt=2023-11-15T19%3A35%3A57Z&ske=2023-11-22T19%3A35%3A57Z&sks=b&skv=2021-06-08&sig=3m3jElRLso6//YheLb%2B21/LFxL9owor7Y0CJVtOXDLc%3D'],\n",
       "  'nir': ['https://sentinel2l2a01.blob.core.windows.net/sentinel2-l2/14/R/LP/2018/08/18/S2B_MSIL2A_20180818T170839_N0212_R112_T14RLP_20201011T034402.SAFE/GRANULE/L2A_T14RLP_A007574_20180818T172003/IMG_DATA/R10m/T14RLP_20180818T170839_B08_10m.tif?st=2023-11-15T00%3A04%3A08Z&se=2023-11-16T00%3A49%3A08Z&sp=rl&sv=2021-06-08&sr=c&skoid=c85c15d6-d1ae-42d4-af60-e2ca0f81359b&sktid=72f988bf-86f1-41af-91ab-2d7cd011db47&skt=2023-11-15T19%3A35%3A57Z&ske=2023-11-22T19%3A35%3A57Z&sks=b&skv=2021-06-08&sig=3m3jElRLso6//YheLb%2B21/LFxL9owor7Y0CJVtOXDLc%3D']},\n",
       " datetime.date(2018, 8, 8): {'red': ['https://sentinel2l2a01.blob.core.windows.net/sentinel2-l2/14/R/LP/2018/08/08/S2B_MSIL2A_20180808T170849_N0212_R112_T14RLP_20201010T230524.SAFE/GRANULE/L2A_T14RLP_A007431_20180808T172327/IMG_DATA/R10m/T14RLP_20180808T170849_B04_10m.tif?st=2023-11-15T00%3A04%3A08Z&se=2023-11-16T00%3A49%3A08Z&sp=rl&sv=2021-06-08&sr=c&skoid=c85c15d6-d1ae-42d4-af60-e2ca0f81359b&sktid=72f988bf-86f1-41af-91ab-2d7cd011db47&skt=2023-11-15T19%3A35%3A57Z&ske=2023-11-22T19%3A35%3A57Z&sks=b&skv=2021-06-08&sig=3m3jElRLso6//YheLb%2B21/LFxL9owor7Y0CJVtOXDLc%3D'],\n",
       "  'nir': ['https://sentinel2l2a01.blob.core.windows.net/sentinel2-l2/14/R/LP/2018/08/08/S2B_MSIL2A_20180808T170849_N0212_R112_T14RLP_20201010T230524.SAFE/GRANULE/L2A_T14RLP_A007431_20180808T172327/IMG_DATA/R10m/T14RLP_20180808T170849_B08_10m.tif?st=2023-11-15T00%3A04%3A08Z&se=2023-11-16T00%3A49%3A08Z&sp=rl&sv=2021-06-08&sr=c&skoid=c85c15d6-d1ae-42d4-af60-e2ca0f81359b&sktid=72f988bf-86f1-41af-91ab-2d7cd011db47&skt=2023-11-15T19%3A35%3A57Z&ske=2023-11-22T19%3A35%3A57Z&sks=b&skv=2021-06-08&sig=3m3jElRLso6//YheLb%2B21/LFxL9owor7Y0CJVtOXDLc%3D']},\n",
       " datetime.date(2018, 8, 3): {'red': ['https://sentinel2l2a01.blob.core.windows.net/sentinel2-l2/14/R/LP/2018/08/03/S2A_MSIL2A_20180803T170851_N0212_R112_T14RLP_20201010T203316.SAFE/GRANULE/L2A_T14RLP_A016268_20180803T172425/IMG_DATA/R10m/T14RLP_20180803T170851_B04_10m.tif?st=2023-11-15T00%3A04%3A08Z&se=2023-11-16T00%3A49%3A08Z&sp=rl&sv=2021-06-08&sr=c&skoid=c85c15d6-d1ae-42d4-af60-e2ca0f81359b&sktid=72f988bf-86f1-41af-91ab-2d7cd011db47&skt=2023-11-15T19%3A35%3A57Z&ske=2023-11-22T19%3A35%3A57Z&sks=b&skv=2021-06-08&sig=3m3jElRLso6//YheLb%2B21/LFxL9owor7Y0CJVtOXDLc%3D'],\n",
       "  'nir': ['https://sentinel2l2a01.blob.core.windows.net/sentinel2-l2/14/R/LP/2018/08/03/S2A_MSIL2A_20180803T170851_N0212_R112_T14RLP_20201010T203316.SAFE/GRANULE/L2A_T14RLP_A016268_20180803T172425/IMG_DATA/R10m/T14RLP_20180803T170851_B08_10m.tif?st=2023-11-15T00%3A04%3A08Z&se=2023-11-16T00%3A49%3A08Z&sp=rl&sv=2021-06-08&sr=c&skoid=c85c15d6-d1ae-42d4-af60-e2ca0f81359b&sktid=72f988bf-86f1-41af-91ab-2d7cd011db47&skt=2023-11-15T19%3A35%3A57Z&ske=2023-11-22T19%3A35%3A57Z&sks=b&skv=2021-06-08&sig=3m3jElRLso6//YheLb%2B21/LFxL9owor7Y0CJVtOXDLc%3D']},\n",
       " datetime.date(2018, 10, 27): {'red': ['https://sentinel2l2a01.blob.core.windows.net/sentinel2-l2/14/R/LP/2018/10/27/S2B_MSIL2A_20181027T171419_N0212_R112_T14RLP_20201030T230847.SAFE/GRANULE/L2A_T14RLP_A008575_20181027T172127/IMG_DATA/R10m/T14RLP_20181027T171419_B04_10m.tif?st=2023-11-15T00%3A04%3A08Z&se=2023-11-16T00%3A49%3A08Z&sp=rl&sv=2021-06-08&sr=c&skoid=c85c15d6-d1ae-42d4-af60-e2ca0f81359b&sktid=72f988bf-86f1-41af-91ab-2d7cd011db47&skt=2023-11-15T19%3A35%3A57Z&ske=2023-11-22T19%3A35%3A57Z&sks=b&skv=2021-06-08&sig=3m3jElRLso6//YheLb%2B21/LFxL9owor7Y0CJVtOXDLc%3D'],\n",
       "  'nir': ['https://sentinel2l2a01.blob.core.windows.net/sentinel2-l2/14/R/LP/2018/10/27/S2B_MSIL2A_20181027T171419_N0212_R112_T14RLP_20201030T230847.SAFE/GRANULE/L2A_T14RLP_A008575_20181027T172127/IMG_DATA/R10m/T14RLP_20181027T171419_B08_10m.tif?st=2023-11-15T00%3A04%3A08Z&se=2023-11-16T00%3A49%3A08Z&sp=rl&sv=2021-06-08&sr=c&skoid=c85c15d6-d1ae-42d4-af60-e2ca0f81359b&sktid=72f988bf-86f1-41af-91ab-2d7cd011db47&skt=2023-11-15T19%3A35%3A57Z&ske=2023-11-22T19%3A35%3A57Z&sks=b&skv=2021-06-08&sig=3m3jElRLso6//YheLb%2B21/LFxL9owor7Y0CJVtOXDLc%3D']},\n",
       " datetime.date(2018, 11, 26): {'red': ['https://sentinel2l2a01.blob.core.windows.net/sentinel2-l2/14/R/LP/2018/11/26/S2B_MSIL2A_20181126T171639_N0212_R112_T14RLP_20201008T220029.SAFE/GRANULE/L2A_T14RLP_A009004_20181126T172440/IMG_DATA/R10m/T14RLP_20181126T171639_B04_10m.tif?st=2023-11-15T00%3A04%3A08Z&se=2023-11-16T00%3A49%3A08Z&sp=rl&sv=2021-06-08&sr=c&skoid=c85c15d6-d1ae-42d4-af60-e2ca0f81359b&sktid=72f988bf-86f1-41af-91ab-2d7cd011db47&skt=2023-11-15T19%3A35%3A57Z&ske=2023-11-22T19%3A35%3A57Z&sks=b&skv=2021-06-08&sig=3m3jElRLso6//YheLb%2B21/LFxL9owor7Y0CJVtOXDLc%3D'],\n",
       "  'nir': ['https://sentinel2l2a01.blob.core.windows.net/sentinel2-l2/14/R/LP/2018/11/26/S2B_MSIL2A_20181126T171639_N0212_R112_T14RLP_20201008T220029.SAFE/GRANULE/L2A_T14RLP_A009004_20181126T172440/IMG_DATA/R10m/T14RLP_20181126T171639_B08_10m.tif?st=2023-11-15T00%3A04%3A08Z&se=2023-11-16T00%3A49%3A08Z&sp=rl&sv=2021-06-08&sr=c&skoid=c85c15d6-d1ae-42d4-af60-e2ca0f81359b&sktid=72f988bf-86f1-41af-91ab-2d7cd011db47&skt=2023-11-15T19%3A35%3A57Z&ske=2023-11-22T19%3A35%3A57Z&sks=b&skv=2021-06-08&sig=3m3jElRLso6//YheLb%2B21/LFxL9owor7Y0CJVtOXDLc%3D']},\n",
       " datetime.date(2018, 11, 16): {'red': ['https://sentinel2l2a01.blob.core.windows.net/sentinel2-l2/14/R/LP/2018/11/16/S2B_MSIL2A_20181116T171559_N0212_R112_T14RLP_20201008T191237.SAFE/GRANULE/L2A_T14RLP_A008861_20181116T172623/IMG_DATA/R10m/T14RLP_20181116T171559_B04_10m.tif?st=2023-11-15T00%3A04%3A08Z&se=2023-11-16T00%3A49%3A08Z&sp=rl&sv=2021-06-08&sr=c&skoid=c85c15d6-d1ae-42d4-af60-e2ca0f81359b&sktid=72f988bf-86f1-41af-91ab-2d7cd011db47&skt=2023-11-15T19%3A35%3A57Z&ske=2023-11-22T19%3A35%3A57Z&sks=b&skv=2021-06-08&sig=3m3jElRLso6//YheLb%2B21/LFxL9owor7Y0CJVtOXDLc%3D'],\n",
       "  'nir': ['https://sentinel2l2a01.blob.core.windows.net/sentinel2-l2/14/R/LP/2018/11/16/S2B_MSIL2A_20181116T171559_N0212_R112_T14RLP_20201008T191237.SAFE/GRANULE/L2A_T14RLP_A008861_20181116T172623/IMG_DATA/R10m/T14RLP_20181116T171559_B08_10m.tif?st=2023-11-15T00%3A04%3A08Z&se=2023-11-16T00%3A49%3A08Z&sp=rl&sv=2021-06-08&sr=c&skoid=c85c15d6-d1ae-42d4-af60-e2ca0f81359b&sktid=72f988bf-86f1-41af-91ab-2d7cd011db47&skt=2023-11-15T19%3A35%3A57Z&ske=2023-11-22T19%3A35%3A57Z&sks=b&skv=2021-06-08&sig=3m3jElRLso6//YheLb%2B21/LFxL9owor7Y0CJVtOXDLc%3D']},\n",
       " datetime.date(2018, 11, 6): {'red': ['https://sentinel2l2a01.blob.core.windows.net/sentinel2-l2/14/R/LP/2018/11/06/S2B_MSIL2A_20181106T171509_N0212_R112_T14RLP_20201008T162742.SAFE/GRANULE/L2A_T14RLP_A008718_20181106T172159/IMG_DATA/R10m/T14RLP_20181106T171509_B04_10m.tif?st=2023-11-15T00%3A04%3A08Z&se=2023-11-16T00%3A49%3A08Z&sp=rl&sv=2021-06-08&sr=c&skoid=c85c15d6-d1ae-42d4-af60-e2ca0f81359b&sktid=72f988bf-86f1-41af-91ab-2d7cd011db47&skt=2023-11-15T19%3A35%3A57Z&ske=2023-11-22T19%3A35%3A57Z&sks=b&skv=2021-06-08&sig=3m3jElRLso6//YheLb%2B21/LFxL9owor7Y0CJVtOXDLc%3D'],\n",
       "  'nir': ['https://sentinel2l2a01.blob.core.windows.net/sentinel2-l2/14/R/LP/2018/11/06/S2B_MSIL2A_20181106T171509_N0212_R112_T14RLP_20201008T162742.SAFE/GRANULE/L2A_T14RLP_A008718_20181106T172159/IMG_DATA/R10m/T14RLP_20181106T171509_B08_10m.tif?st=2023-11-15T00%3A04%3A08Z&se=2023-11-16T00%3A49%3A08Z&sp=rl&sv=2021-06-08&sr=c&skoid=c85c15d6-d1ae-42d4-af60-e2ca0f81359b&sktid=72f988bf-86f1-41af-91ab-2d7cd011db47&skt=2023-11-15T19%3A35%3A57Z&ske=2023-11-22T19%3A35%3A57Z&sks=b&skv=2021-06-08&sig=3m3jElRLso6//YheLb%2B21/LFxL9owor7Y0CJVtOXDLc%3D']},\n",
       " datetime.date(2018, 12, 26): {'red': ['https://sentinel2l2a01.blob.core.windows.net/sentinel2-l2/14/R/LP/2018/12/26/S2B_MSIL2A_20181226T171729_N0212_R112_T14RLP_20201008T131841.SAFE/GRANULE/L2A_T14RLP_A009433_20181226T171724/IMG_DATA/R10m/T14RLP_20181226T171729_B04_10m.tif?st=2023-11-15T00%3A04%3A08Z&se=2023-11-16T00%3A49%3A08Z&sp=rl&sv=2021-06-08&sr=c&skoid=c85c15d6-d1ae-42d4-af60-e2ca0f81359b&sktid=72f988bf-86f1-41af-91ab-2d7cd011db47&skt=2023-11-15T19%3A35%3A57Z&ske=2023-11-22T19%3A35%3A57Z&sks=b&skv=2021-06-08&sig=3m3jElRLso6//YheLb%2B21/LFxL9owor7Y0CJVtOXDLc%3D'],\n",
       "  'nir': ['https://sentinel2l2a01.blob.core.windows.net/sentinel2-l2/14/R/LP/2018/12/26/S2B_MSIL2A_20181226T171729_N0212_R112_T14RLP_20201008T131841.SAFE/GRANULE/L2A_T14RLP_A009433_20181226T171724/IMG_DATA/R10m/T14RLP_20181226T171729_B08_10m.tif?st=2023-11-15T00%3A04%3A08Z&se=2023-11-16T00%3A49%3A08Z&sp=rl&sv=2021-06-08&sr=c&skoid=c85c15d6-d1ae-42d4-af60-e2ca0f81359b&sktid=72f988bf-86f1-41af-91ab-2d7cd011db47&skt=2023-11-15T19%3A35%3A57Z&ske=2023-11-22T19%3A35%3A57Z&sks=b&skv=2021-06-08&sig=3m3jElRLso6//YheLb%2B21/LFxL9owor7Y0CJVtOXDLc%3D']},\n",
       " datetime.date(2018, 12, 21): {'red': ['https://sentinel2l2a01.blob.core.windows.net/sentinel2-l2/14/R/LP/2018/12/21/S2A_MSIL2A_20181221T171721_N0212_R112_T14RLP_20201008T115452.SAFE/GRANULE/L2A_T14RLP_A018270_20181221T172020/IMG_DATA/R10m/T14RLP_20181221T171721_B04_10m.tif?st=2023-11-15T00%3A04%3A08Z&se=2023-11-16T00%3A49%3A08Z&sp=rl&sv=2021-06-08&sr=c&skoid=c85c15d6-d1ae-42d4-af60-e2ca0f81359b&sktid=72f988bf-86f1-41af-91ab-2d7cd011db47&skt=2023-11-15T19%3A35%3A57Z&ske=2023-11-22T19%3A35%3A57Z&sks=b&skv=2021-06-08&sig=3m3jElRLso6//YheLb%2B21/LFxL9owor7Y0CJVtOXDLc%3D'],\n",
       "  'nir': ['https://sentinel2l2a01.blob.core.windows.net/sentinel2-l2/14/R/LP/2018/12/21/S2A_MSIL2A_20181221T171721_N0212_R112_T14RLP_20201008T115452.SAFE/GRANULE/L2A_T14RLP_A018270_20181221T172020/IMG_DATA/R10m/T14RLP_20181221T171721_B08_10m.tif?st=2023-11-15T00%3A04%3A08Z&se=2023-11-16T00%3A49%3A08Z&sp=rl&sv=2021-06-08&sr=c&skoid=c85c15d6-d1ae-42d4-af60-e2ca0f81359b&sktid=72f988bf-86f1-41af-91ab-2d7cd011db47&skt=2023-11-15T19%3A35%3A57Z&ske=2023-11-22T19%3A35%3A57Z&sks=b&skv=2021-06-08&sig=3m3jElRLso6//YheLb%2B21/LFxL9owor7Y0CJVtOXDLc%3D']},\n",
       " datetime.date(2018, 12, 1): {'red': ['https://sentinel2l2a01.blob.core.windows.net/sentinel2-l2/14/R/LP/2018/12/01/S2A_MSIL2A_20181201T171651_N0212_R112_T14RLP_20201008T063006.SAFE/GRANULE/L2A_T14RLP_A017984_20181201T171916/IMG_DATA/R10m/T14RLP_20181201T171651_B04_10m.tif?st=2023-11-15T00%3A04%3A08Z&se=2023-11-16T00%3A49%3A08Z&sp=rl&sv=2021-06-08&sr=c&skoid=c85c15d6-d1ae-42d4-af60-e2ca0f81359b&sktid=72f988bf-86f1-41af-91ab-2d7cd011db47&skt=2023-11-15T19%3A35%3A57Z&ske=2023-11-22T19%3A35%3A57Z&sks=b&skv=2021-06-08&sig=3m3jElRLso6//YheLb%2B21/LFxL9owor7Y0CJVtOXDLc%3D'],\n",
       "  'nir': ['https://sentinel2l2a01.blob.core.windows.net/sentinel2-l2/14/R/LP/2018/12/01/S2A_MSIL2A_20181201T171651_N0212_R112_T14RLP_20201008T063006.SAFE/GRANULE/L2A_T14RLP_A017984_20181201T171916/IMG_DATA/R10m/T14RLP_20181201T171651_B08_10m.tif?st=2023-11-15T00%3A04%3A08Z&se=2023-11-16T00%3A49%3A08Z&sp=rl&sv=2021-06-08&sr=c&skoid=c85c15d6-d1ae-42d4-af60-e2ca0f81359b&sktid=72f988bf-86f1-41af-91ab-2d7cd011db47&skt=2023-11-15T19%3A35%3A57Z&ske=2023-11-22T19%3A35%3A57Z&sks=b&skv=2021-06-08&sig=3m3jElRLso6//YheLb%2B21/LFxL9owor7Y0CJVtOXDLc%3D']},\n",
       " datetime.date(2019, 1, 20): {'red': ['https://sentinel2l2a01.blob.core.windows.net/sentinel2-l2/14/R/LP/2019/01/20/S2A_MSIL2A_20190120T171631_N0212_R112_T14RLP_20201008T030659.SAFE/GRANULE/L2A_T14RLP_A018699_20190120T171836/IMG_DATA/R10m/T14RLP_20190120T171631_B04_10m.tif?st=2023-11-15T00%3A04%3A08Z&se=2023-11-16T00%3A49%3A08Z&sp=rl&sv=2021-06-08&sr=c&skoid=c85c15d6-d1ae-42d4-af60-e2ca0f81359b&sktid=72f988bf-86f1-41af-91ab-2d7cd011db47&skt=2023-11-15T19%3A35%3A57Z&ske=2023-11-22T19%3A35%3A57Z&sks=b&skv=2021-06-08&sig=3m3jElRLso6//YheLb%2B21/LFxL9owor7Y0CJVtOXDLc%3D'],\n",
       "  'nir': ['https://sentinel2l2a01.blob.core.windows.net/sentinel2-l2/14/R/LP/2019/01/20/S2A_MSIL2A_20190120T171631_N0212_R112_T14RLP_20201008T030659.SAFE/GRANULE/L2A_T14RLP_A018699_20190120T171836/IMG_DATA/R10m/T14RLP_20190120T171631_B08_10m.tif?st=2023-11-15T00%3A04%3A08Z&se=2023-11-16T00%3A49%3A08Z&sp=rl&sv=2021-06-08&sr=c&skoid=c85c15d6-d1ae-42d4-af60-e2ca0f81359b&sktid=72f988bf-86f1-41af-91ab-2d7cd011db47&skt=2023-11-15T19%3A35%3A57Z&ske=2023-11-22T19%3A35%3A57Z&sks=b&skv=2021-06-08&sig=3m3jElRLso6//YheLb%2B21/LFxL9owor7Y0CJVtOXDLc%3D']},\n",
       " datetime.date(2019, 1, 5): {'red': ['https://sentinel2l2a01.blob.core.windows.net/sentinel2-l2/14/R/LP/2019/01/05/S2B_MSIL2A_20190105T171709_N0212_R112_T14RLP_20201007T230832.SAFE/GRANULE/L2A_T14RLP_A009576_20190105T172443/IMG_DATA/R10m/T14RLP_20190105T171709_B04_10m.tif?st=2023-11-15T00%3A04%3A08Z&se=2023-11-16T00%3A49%3A08Z&sp=rl&sv=2021-06-08&sr=c&skoid=c85c15d6-d1ae-42d4-af60-e2ca0f81359b&sktid=72f988bf-86f1-41af-91ab-2d7cd011db47&skt=2023-11-15T19%3A35%3A57Z&ske=2023-11-22T19%3A35%3A57Z&sks=b&skv=2021-06-08&sig=3m3jElRLso6//YheLb%2B21/LFxL9owor7Y0CJVtOXDLc%3D'],\n",
       "  'nir': ['https://sentinel2l2a01.blob.core.windows.net/sentinel2-l2/14/R/LP/2019/01/05/S2B_MSIL2A_20190105T171709_N0212_R112_T14RLP_20201007T230832.SAFE/GRANULE/L2A_T14RLP_A009576_20190105T172443/IMG_DATA/R10m/T14RLP_20190105T171709_B08_10m.tif?st=2023-11-15T00%3A04%3A08Z&se=2023-11-16T00%3A49%3A08Z&sp=rl&sv=2021-06-08&sr=c&skoid=c85c15d6-d1ae-42d4-af60-e2ca0f81359b&sktid=72f988bf-86f1-41af-91ab-2d7cd011db47&skt=2023-11-15T19%3A35%3A57Z&ske=2023-11-22T19%3A35%3A57Z&sks=b&skv=2021-06-08&sig=3m3jElRLso6//YheLb%2B21/LFxL9owor7Y0CJVtOXDLc%3D']},\n",
       " datetime.date(2019, 4, 25): {'red': ['https://sentinel2l2a01.blob.core.windows.net/sentinel2-l2/14/R/LP/2019/04/25/S2B_MSIL2A_20190425T170859_N0212_R112_T14RLP_20201105T183652.SAFE/GRANULE/L2A_T14RLP_A011149_20190425T172527/IMG_DATA/R10m/T14RLP_20190425T170859_B04_10m.tif?st=2023-11-15T00%3A04%3A08Z&se=2023-11-16T00%3A49%3A08Z&sp=rl&sv=2021-06-08&sr=c&skoid=c85c15d6-d1ae-42d4-af60-e2ca0f81359b&sktid=72f988bf-86f1-41af-91ab-2d7cd011db47&skt=2023-11-15T19%3A35%3A57Z&ske=2023-11-22T19%3A35%3A57Z&sks=b&skv=2021-06-08&sig=3m3jElRLso6//YheLb%2B21/LFxL9owor7Y0CJVtOXDLc%3D'],\n",
       "  'nir': ['https://sentinel2l2a01.blob.core.windows.net/sentinel2-l2/14/R/LP/2019/04/25/S2B_MSIL2A_20190425T170859_N0212_R112_T14RLP_20201105T183652.SAFE/GRANULE/L2A_T14RLP_A011149_20190425T172527/IMG_DATA/R10m/T14RLP_20190425T170859_B08_10m.tif?st=2023-11-15T00%3A04%3A08Z&se=2023-11-16T00%3A49%3A08Z&sp=rl&sv=2021-06-08&sr=c&skoid=c85c15d6-d1ae-42d4-af60-e2ca0f81359b&sktid=72f988bf-86f1-41af-91ab-2d7cd011db47&skt=2023-11-15T19%3A35%3A57Z&ske=2023-11-22T19%3A35%3A57Z&sks=b&skv=2021-06-08&sig=3m3jElRLso6//YheLb%2B21/LFxL9owor7Y0CJVtOXDLc%3D']},\n",
       " datetime.date(2019, 4, 20): {'red': ['https://sentinel2l2a01.blob.core.windows.net/sentinel2-l2/14/R/LP/2019/04/20/S2A_MSIL2A_20190420T170851_N0212_R112_T14RLP_20201105T122512.SAFE/GRANULE/L2A_T14RLP_A019986_20190420T171657/IMG_DATA/R10m/T14RLP_20190420T170851_B04_10m.tif?st=2023-11-15T00%3A04%3A08Z&se=2023-11-16T00%3A49%3A08Z&sp=rl&sv=2021-06-08&sr=c&skoid=c85c15d6-d1ae-42d4-af60-e2ca0f81359b&sktid=72f988bf-86f1-41af-91ab-2d7cd011db47&skt=2023-11-15T19%3A35%3A57Z&ske=2023-11-22T19%3A35%3A57Z&sks=b&skv=2021-06-08&sig=3m3jElRLso6//YheLb%2B21/LFxL9owor7Y0CJVtOXDLc%3D'],\n",
       "  'nir': ['https://sentinel2l2a01.blob.core.windows.net/sentinel2-l2/14/R/LP/2019/04/20/S2A_MSIL2A_20190420T170851_N0212_R112_T14RLP_20201105T122512.SAFE/GRANULE/L2A_T14RLP_A019986_20190420T171657/IMG_DATA/R10m/T14RLP_20190420T170851_B08_10m.tif?st=2023-11-15T00%3A04%3A08Z&se=2023-11-16T00%3A49%3A08Z&sp=rl&sv=2021-06-08&sr=c&skoid=c85c15d6-d1ae-42d4-af60-e2ca0f81359b&sktid=72f988bf-86f1-41af-91ab-2d7cd011db47&skt=2023-11-15T19%3A35%3A57Z&ske=2023-11-22T19%3A35%3A57Z&sks=b&skv=2021-06-08&sig=3m3jElRLso6//YheLb%2B21/LFxL9owor7Y0CJVtOXDLc%3D']},\n",
       " datetime.date(2019, 4, 10): {'red': ['https://sentinel2l2a01.blob.core.windows.net/sentinel2-l2/14/R/LP/2019/04/10/S2A_MSIL2A_20190410T170851_N0212_R112_T14RLP_20201007T002614.SAFE/GRANULE/L2A_T14RLP_A019843_20190410T171722/IMG_DATA/R10m/T14RLP_20190410T170851_B04_10m.tif?st=2023-11-15T00%3A04%3A08Z&se=2023-11-16T00%3A49%3A08Z&sp=rl&sv=2021-06-08&sr=c&skoid=c85c15d6-d1ae-42d4-af60-e2ca0f81359b&sktid=72f988bf-86f1-41af-91ab-2d7cd011db47&skt=2023-11-15T19%3A35%3A57Z&ske=2023-11-22T19%3A35%3A57Z&sks=b&skv=2021-06-08&sig=3m3jElRLso6//YheLb%2B21/LFxL9owor7Y0CJVtOXDLc%3D'],\n",
       "  'nir': ['https://sentinel2l2a01.blob.core.windows.net/sentinel2-l2/14/R/LP/2019/04/10/S2A_MSIL2A_20190410T170851_N0212_R112_T14RLP_20201007T002614.SAFE/GRANULE/L2A_T14RLP_A019843_20190410T171722/IMG_DATA/R10m/T14RLP_20190410T170851_B08_10m.tif?st=2023-11-15T00%3A04%3A08Z&se=2023-11-16T00%3A49%3A08Z&sp=rl&sv=2021-06-08&sr=c&skoid=c85c15d6-d1ae-42d4-af60-e2ca0f81359b&sktid=72f988bf-86f1-41af-91ab-2d7cd011db47&skt=2023-11-15T19%3A35%3A57Z&ske=2023-11-22T19%3A35%3A57Z&sks=b&skv=2021-06-08&sig=3m3jElRLso6//YheLb%2B21/LFxL9owor7Y0CJVtOXDLc%3D']},\n",
       " datetime.date(2019, 6, 29): {'red': ['https://sentinel2l2a01.blob.core.windows.net/sentinel2-l2/14/R/LP/2019/06/29/S2A_MSIL2A_20190629T170901_N0212_R112_T14RLP_20201006T075026.SAFE/GRANULE/L2A_T14RLP_A020987_20190629T171920/IMG_DATA/R10m/T14RLP_20190629T170901_B04_10m.tif?st=2023-11-15T00%3A04%3A08Z&se=2023-11-16T00%3A49%3A08Z&sp=rl&sv=2021-06-08&sr=c&skoid=c85c15d6-d1ae-42d4-af60-e2ca0f81359b&sktid=72f988bf-86f1-41af-91ab-2d7cd011db47&skt=2023-11-15T19%3A35%3A57Z&ske=2023-11-22T19%3A35%3A57Z&sks=b&skv=2021-06-08&sig=3m3jElRLso6//YheLb%2B21/LFxL9owor7Y0CJVtOXDLc%3D'],\n",
       "  'nir': ['https://sentinel2l2a01.blob.core.windows.net/sentinel2-l2/14/R/LP/2019/06/29/S2A_MSIL2A_20190629T170901_N0212_R112_T14RLP_20201006T075026.SAFE/GRANULE/L2A_T14RLP_A020987_20190629T171920/IMG_DATA/R10m/T14RLP_20190629T170901_B08_10m.tif?st=2023-11-15T00%3A04%3A08Z&se=2023-11-16T00%3A49%3A08Z&sp=rl&sv=2021-06-08&sr=c&skoid=c85c15d6-d1ae-42d4-af60-e2ca0f81359b&sktid=72f988bf-86f1-41af-91ab-2d7cd011db47&skt=2023-11-15T19%3A35%3A57Z&ske=2023-11-22T19%3A35%3A57Z&sks=b&skv=2021-06-08&sig=3m3jElRLso6//YheLb%2B21/LFxL9owor7Y0CJVtOXDLc%3D']},\n",
       " datetime.date(2019, 6, 14): {'red': ['https://sentinel2l2a01.blob.core.windows.net/sentinel2-l2/14/R/LP/2019/06/14/S2B_MSIL2A_20190614T170859_N0212_R112_T14RLP_20201006T021717.SAFE/GRANULE/L2A_T14RLP_A011864_20190614T172259/IMG_DATA/R10m/T14RLP_20190614T170859_B04_10m.tif?st=2023-11-15T00%3A04%3A08Z&se=2023-11-16T00%3A49%3A08Z&sp=rl&sv=2021-06-08&sr=c&skoid=c85c15d6-d1ae-42d4-af60-e2ca0f81359b&sktid=72f988bf-86f1-41af-91ab-2d7cd011db47&skt=2023-11-15T19%3A35%3A57Z&ske=2023-11-22T19%3A35%3A57Z&sks=b&skv=2021-06-08&sig=3m3jElRLso6//YheLb%2B21/LFxL9owor7Y0CJVtOXDLc%3D'],\n",
       "  'nir': ['https://sentinel2l2a01.blob.core.windows.net/sentinel2-l2/14/R/LP/2019/06/14/S2B_MSIL2A_20190614T170859_N0212_R112_T14RLP_20201006T021717.SAFE/GRANULE/L2A_T14RLP_A011864_20190614T172259/IMG_DATA/R10m/T14RLP_20190614T170859_B08_10m.tif?st=2023-11-15T00%3A04%3A08Z&se=2023-11-16T00%3A49%3A08Z&sp=rl&sv=2021-06-08&sr=c&skoid=c85c15d6-d1ae-42d4-af60-e2ca0f81359b&sktid=72f988bf-86f1-41af-91ab-2d7cd011db47&skt=2023-11-15T19%3A35%3A57Z&ske=2023-11-22T19%3A35%3A57Z&sks=b&skv=2021-06-08&sig=3m3jElRLso6//YheLb%2B21/LFxL9owor7Y0CJVtOXDLc%3D']},\n",
       " datetime.date(2019, 6, 9): {'red': ['https://sentinel2l2a01.blob.core.windows.net/sentinel2-l2/14/R/LP/2019/06/09/S2A_MSIL2A_20190609T170851_N0212_R112_T14RLP_20201006T000136.SAFE/GRANULE/L2A_T14RLP_A020701_20190609T172207/IMG_DATA/R10m/T14RLP_20190609T170851_B04_10m.tif?st=2023-11-15T00%3A04%3A08Z&se=2023-11-16T00%3A49%3A08Z&sp=rl&sv=2021-06-08&sr=c&skoid=c85c15d6-d1ae-42d4-af60-e2ca0f81359b&sktid=72f988bf-86f1-41af-91ab-2d7cd011db47&skt=2023-11-15T19%3A35%3A57Z&ske=2023-11-22T19%3A35%3A57Z&sks=b&skv=2021-06-08&sig=3m3jElRLso6//YheLb%2B21/LFxL9owor7Y0CJVtOXDLc%3D'],\n",
       "  'nir': ['https://sentinel2l2a01.blob.core.windows.net/sentinel2-l2/14/R/LP/2019/06/09/S2A_MSIL2A_20190609T170851_N0212_R112_T14RLP_20201006T000136.SAFE/GRANULE/L2A_T14RLP_A020701_20190609T172207/IMG_DATA/R10m/T14RLP_20190609T170851_B08_10m.tif?st=2023-11-15T00%3A04%3A08Z&se=2023-11-16T00%3A49%3A08Z&sp=rl&sv=2021-06-08&sr=c&skoid=c85c15d6-d1ae-42d4-af60-e2ca0f81359b&sktid=72f988bf-86f1-41af-91ab-2d7cd011db47&skt=2023-11-15T19%3A35%3A57Z&ske=2023-11-22T19%3A35%3A57Z&sks=b&skv=2021-06-08&sig=3m3jElRLso6//YheLb%2B21/LFxL9owor7Y0CJVtOXDLc%3D']},\n",
       " datetime.date(2019, 7, 29): {'red': ['https://sentinel2l2a01.blob.core.windows.net/sentinel2-l2/14/R/LP/2019/07/29/S2A_MSIL2A_20190729T170901_N0212_R112_T14RLP_20201106T050350.SAFE/GRANULE/L2A_T14RLP_A021416_20190729T172420/IMG_DATA/R10m/T14RLP_20190729T170901_B04_10m.tif?st=2023-11-15T00%3A04%3A08Z&se=2023-11-16T00%3A49%3A08Z&sp=rl&sv=2021-06-08&sr=c&skoid=c85c15d6-d1ae-42d4-af60-e2ca0f81359b&sktid=72f988bf-86f1-41af-91ab-2d7cd011db47&skt=2023-11-15T19%3A35%3A57Z&ske=2023-11-22T19%3A35%3A57Z&sks=b&skv=2021-06-08&sig=3m3jElRLso6//YheLb%2B21/LFxL9owor7Y0CJVtOXDLc%3D'],\n",
       "  'nir': ['https://sentinel2l2a01.blob.core.windows.net/sentinel2-l2/14/R/LP/2019/07/29/S2A_MSIL2A_20190729T170901_N0212_R112_T14RLP_20201106T050350.SAFE/GRANULE/L2A_T14RLP_A021416_20190729T172420/IMG_DATA/R10m/T14RLP_20190729T170901_B08_10m.tif?st=2023-11-15T00%3A04%3A08Z&se=2023-11-16T00%3A49%3A08Z&sp=rl&sv=2021-06-08&sr=c&skoid=c85c15d6-d1ae-42d4-af60-e2ca0f81359b&sktid=72f988bf-86f1-41af-91ab-2d7cd011db47&skt=2023-11-15T19%3A35%3A57Z&ske=2023-11-22T19%3A35%3A57Z&sks=b&skv=2021-06-08&sig=3m3jElRLso6//YheLb%2B21/LFxL9owor7Y0CJVtOXDLc%3D']},\n",
       " datetime.date(2019, 7, 19): {'red': ['https://sentinel2l2a01.blob.core.windows.net/sentinel2-l2/14/R/LP/2019/07/19/S2A_MSIL2A_20190719T170901_N0212_R112_T14RLP_20201005T162411.SAFE/GRANULE/L2A_T14RLP_A021273_20190719T171924/IMG_DATA/R10m/T14RLP_20190719T170901_B04_10m.tif?st=2023-11-15T00%3A04%3A08Z&se=2023-11-16T00%3A49%3A08Z&sp=rl&sv=2021-06-08&sr=c&skoid=c85c15d6-d1ae-42d4-af60-e2ca0f81359b&sktid=72f988bf-86f1-41af-91ab-2d7cd011db47&skt=2023-11-15T19%3A35%3A57Z&ske=2023-11-22T19%3A35%3A57Z&sks=b&skv=2021-06-08&sig=3m3jElRLso6//YheLb%2B21/LFxL9owor7Y0CJVtOXDLc%3D'],\n",
       "  'nir': ['https://sentinel2l2a01.blob.core.windows.net/sentinel2-l2/14/R/LP/2019/07/19/S2A_MSIL2A_20190719T170901_N0212_R112_T14RLP_20201005T162411.SAFE/GRANULE/L2A_T14RLP_A021273_20190719T171924/IMG_DATA/R10m/T14RLP_20190719T170901_B08_10m.tif?st=2023-11-15T00%3A04%3A08Z&se=2023-11-16T00%3A49%3A08Z&sp=rl&sv=2021-06-08&sr=c&skoid=c85c15d6-d1ae-42d4-af60-e2ca0f81359b&sktid=72f988bf-86f1-41af-91ab-2d7cd011db47&skt=2023-11-15T19%3A35%3A57Z&ske=2023-11-22T19%3A35%3A57Z&sks=b&skv=2021-06-08&sig=3m3jElRLso6//YheLb%2B21/LFxL9owor7Y0CJVtOXDLc%3D']},\n",
       " datetime.date(2019, 7, 9): {'red': ['https://sentinel2l2a01.blob.core.windows.net/sentinel2-l2/14/R/LP/2019/07/09/S2A_MSIL2A_20190709T170901_N0212_R112_T14RLP_20201005T113131.SAFE/GRANULE/L2A_T14RLP_A021130_20190709T171942/IMG_DATA/R10m/T14RLP_20190709T170901_B04_10m.tif?st=2023-11-15T00%3A04%3A08Z&se=2023-11-16T00%3A49%3A08Z&sp=rl&sv=2021-06-08&sr=c&skoid=c85c15d6-d1ae-42d4-af60-e2ca0f81359b&sktid=72f988bf-86f1-41af-91ab-2d7cd011db47&skt=2023-11-15T19%3A35%3A57Z&ske=2023-11-22T19%3A35%3A57Z&sks=b&skv=2021-06-08&sig=3m3jElRLso6//YheLb%2B21/LFxL9owor7Y0CJVtOXDLc%3D'],\n",
       "  'nir': ['https://sentinel2l2a01.blob.core.windows.net/sentinel2-l2/14/R/LP/2019/07/09/S2A_MSIL2A_20190709T170901_N0212_R112_T14RLP_20201005T113131.SAFE/GRANULE/L2A_T14RLP_A021130_20190709T171942/IMG_DATA/R10m/T14RLP_20190709T170901_B08_10m.tif?st=2023-11-15T00%3A04%3A08Z&se=2023-11-16T00%3A49%3A08Z&sp=rl&sv=2021-06-08&sr=c&skoid=c85c15d6-d1ae-42d4-af60-e2ca0f81359b&sktid=72f988bf-86f1-41af-91ab-2d7cd011db47&skt=2023-11-15T19%3A35%3A57Z&ske=2023-11-22T19%3A35%3A57Z&sks=b&skv=2021-06-08&sig=3m3jElRLso6//YheLb%2B21/LFxL9owor7Y0CJVtOXDLc%3D']},\n",
       " datetime.date(2019, 8, 18): {'red': ['https://sentinel2l2a01.blob.core.windows.net/sentinel2-l2/14/R/LP/2019/08/18/S2A_MSIL2A_20190818T170851_N0212_R112_T14RLP_20201005T015148.SAFE/GRANULE/L2A_T14RLP_A021702_20190818T172421/IMG_DATA/R10m/T14RLP_20190818T170851_B04_10m.tif?st=2023-11-15T00%3A04%3A08Z&se=2023-11-16T00%3A49%3A08Z&sp=rl&sv=2021-06-08&sr=c&skoid=c85c15d6-d1ae-42d4-af60-e2ca0f81359b&sktid=72f988bf-86f1-41af-91ab-2d7cd011db47&skt=2023-11-15T19%3A35%3A57Z&ske=2023-11-22T19%3A35%3A57Z&sks=b&skv=2021-06-08&sig=3m3jElRLso6//YheLb%2B21/LFxL9owor7Y0CJVtOXDLc%3D'],\n",
       "  'nir': ['https://sentinel2l2a01.blob.core.windows.net/sentinel2-l2/14/R/LP/2019/08/18/S2A_MSIL2A_20190818T170851_N0212_R112_T14RLP_20201005T015148.SAFE/GRANULE/L2A_T14RLP_A021702_20190818T172421/IMG_DATA/R10m/T14RLP_20190818T170851_B08_10m.tif?st=2023-11-15T00%3A04%3A08Z&se=2023-11-16T00%3A49%3A08Z&sp=rl&sv=2021-06-08&sr=c&skoid=c85c15d6-d1ae-42d4-af60-e2ca0f81359b&sktid=72f988bf-86f1-41af-91ab-2d7cd011db47&skt=2023-11-15T19%3A35%3A57Z&ske=2023-11-22T19%3A35%3A57Z&sks=b&skv=2021-06-08&sig=3m3jElRLso6//YheLb%2B21/LFxL9owor7Y0CJVtOXDLc%3D']},\n",
       " datetime.date(2019, 8, 13): {'red': ['https://sentinel2l2a01.blob.core.windows.net/sentinel2-l2/14/R/LP/2019/08/13/S2B_MSIL2A_20190813T170859_N0212_R112_T14RLP_20201005T000353.SAFE/GRANULE/L2A_T14RLP_A012722_20190813T172229/IMG_DATA/R10m/T14RLP_20190813T170859_B04_10m.tif?st=2023-11-15T00%3A04%3A08Z&se=2023-11-16T00%3A49%3A08Z&sp=rl&sv=2021-06-08&sr=c&skoid=c85c15d6-d1ae-42d4-af60-e2ca0f81359b&sktid=72f988bf-86f1-41af-91ab-2d7cd011db47&skt=2023-11-15T19%3A35%3A57Z&ske=2023-11-22T19%3A35%3A57Z&sks=b&skv=2021-06-08&sig=3m3jElRLso6//YheLb%2B21/LFxL9owor7Y0CJVtOXDLc%3D'],\n",
       "  'nir': ['https://sentinel2l2a01.blob.core.windows.net/sentinel2-l2/14/R/LP/2019/08/13/S2B_MSIL2A_20190813T170859_N0212_R112_T14RLP_20201005T000353.SAFE/GRANULE/L2A_T14RLP_A012722_20190813T172229/IMG_DATA/R10m/T14RLP_20190813T170859_B08_10m.tif?st=2023-11-15T00%3A04%3A08Z&se=2023-11-16T00%3A49%3A08Z&sp=rl&sv=2021-06-08&sr=c&skoid=c85c15d6-d1ae-42d4-af60-e2ca0f81359b&sktid=72f988bf-86f1-41af-91ab-2d7cd011db47&skt=2023-11-15T19%3A35%3A57Z&ske=2023-11-22T19%3A35%3A57Z&sks=b&skv=2021-06-08&sig=3m3jElRLso6//YheLb%2B21/LFxL9owor7Y0CJVtOXDLc%3D']},\n",
       " datetime.date(2019, 8, 8): {'red': ['https://sentinel2l2a01.blob.core.windows.net/sentinel2-l2/14/R/LP/2019/08/08/S2A_MSIL2A_20190808T170901_N0212_R112_T14RLP_20201004T215357.SAFE/GRANULE/L2A_T14RLP_A021559_20190808T172223/IMG_DATA/R10m/T14RLP_20190808T170901_B04_10m.tif?st=2023-11-15T00%3A04%3A08Z&se=2023-11-16T00%3A49%3A08Z&sp=rl&sv=2021-06-08&sr=c&skoid=c85c15d6-d1ae-42d4-af60-e2ca0f81359b&sktid=72f988bf-86f1-41af-91ab-2d7cd011db47&skt=2023-11-15T19%3A35%3A57Z&ske=2023-11-22T19%3A35%3A57Z&sks=b&skv=2021-06-08&sig=3m3jElRLso6//YheLb%2B21/LFxL9owor7Y0CJVtOXDLc%3D'],\n",
       "  'nir': ['https://sentinel2l2a01.blob.core.windows.net/sentinel2-l2/14/R/LP/2019/08/08/S2A_MSIL2A_20190808T170901_N0212_R112_T14RLP_20201004T215357.SAFE/GRANULE/L2A_T14RLP_A021559_20190808T172223/IMG_DATA/R10m/T14RLP_20190808T170901_B08_10m.tif?st=2023-11-15T00%3A04%3A08Z&se=2023-11-16T00%3A49%3A08Z&sp=rl&sv=2021-06-08&sr=c&skoid=c85c15d6-d1ae-42d4-af60-e2ca0f81359b&sktid=72f988bf-86f1-41af-91ab-2d7cd011db47&skt=2023-11-15T19%3A35%3A57Z&ske=2023-11-22T19%3A35%3A57Z&sks=b&skv=2021-06-08&sig=3m3jElRLso6//YheLb%2B21/LFxL9owor7Y0CJVtOXDLc%3D']},\n",
       " datetime.date(2019, 10, 27): {'red': ['https://sentinel2l2a01.blob.core.windows.net/sentinel2-l2/14/R/LP/2019/10/27/S2A_MSIL2A_20191027T171421_N0212_R112_T14RLP_20201004T064140.SAFE/GRANULE/L2A_T14RLP_A022703_20191027T171522/IMG_DATA/R10m/T14RLP_20191027T171421_B04_10m.tif?st=2023-11-15T00%3A04%3A08Z&se=2023-11-16T00%3A49%3A08Z&sp=rl&sv=2021-06-08&sr=c&skoid=c85c15d6-d1ae-42d4-af60-e2ca0f81359b&sktid=72f988bf-86f1-41af-91ab-2d7cd011db47&skt=2023-11-15T19%3A35%3A57Z&ske=2023-11-22T19%3A35%3A57Z&sks=b&skv=2021-06-08&sig=3m3jElRLso6//YheLb%2B21/LFxL9owor7Y0CJVtOXDLc%3D'],\n",
       "  'nir': ['https://sentinel2l2a01.blob.core.windows.net/sentinel2-l2/14/R/LP/2019/10/27/S2A_MSIL2A_20191027T171421_N0212_R112_T14RLP_20201004T064140.SAFE/GRANULE/L2A_T14RLP_A022703_20191027T171522/IMG_DATA/R10m/T14RLP_20191027T171421_B08_10m.tif?st=2023-11-15T00%3A04%3A08Z&se=2023-11-16T00%3A49%3A08Z&sp=rl&sv=2021-06-08&sr=c&skoid=c85c15d6-d1ae-42d4-af60-e2ca0f81359b&sktid=72f988bf-86f1-41af-91ab-2d7cd011db47&skt=2023-11-15T19%3A35%3A57Z&ske=2023-11-22T19%3A35%3A57Z&sks=b&skv=2021-06-08&sig=3m3jElRLso6//YheLb%2B21/LFxL9owor7Y0CJVtOXDLc%3D']},\n",
       " datetime.date(2019, 11, 16): {'red': ['https://sentinel2l2a01.blob.core.windows.net/sentinel2-l2/14/R/LP/2019/11/16/S2A_MSIL2A_20191116T171601_N0212_R112_T14RLP_20201003T170332.SAFE/GRANULE/L2A_T14RLP_A022989_20191116T171813/IMG_DATA/R10m/T14RLP_20191116T171601_B04_10m.tif?st=2023-11-15T00%3A04%3A08Z&se=2023-11-16T00%3A49%3A08Z&sp=rl&sv=2021-06-08&sr=c&skoid=c85c15d6-d1ae-42d4-af60-e2ca0f81359b&sktid=72f988bf-86f1-41af-91ab-2d7cd011db47&skt=2023-11-15T19%3A35%3A57Z&ske=2023-11-22T19%3A35%3A57Z&sks=b&skv=2021-06-08&sig=3m3jElRLso6//YheLb%2B21/LFxL9owor7Y0CJVtOXDLc%3D'],\n",
       "  'nir': ['https://sentinel2l2a01.blob.core.windows.net/sentinel2-l2/14/R/LP/2019/11/16/S2A_MSIL2A_20191116T171601_N0212_R112_T14RLP_20201003T170332.SAFE/GRANULE/L2A_T14RLP_A022989_20191116T171813/IMG_DATA/R10m/T14RLP_20191116T171601_B08_10m.tif?st=2023-11-15T00%3A04%3A08Z&se=2023-11-16T00%3A49%3A08Z&sp=rl&sv=2021-06-08&sr=c&skoid=c85c15d6-d1ae-42d4-af60-e2ca0f81359b&sktid=72f988bf-86f1-41af-91ab-2d7cd011db47&skt=2023-11-15T19%3A35%3A57Z&ske=2023-11-22T19%3A35%3A57Z&sks=b&skv=2021-06-08&sig=3m3jElRLso6//YheLb%2B21/LFxL9owor7Y0CJVtOXDLc%3D']},\n",
       " datetime.date(2019, 11, 1): {'red': ['https://sentinel2l2a01.blob.core.windows.net/sentinel2-l2/14/R/LP/2019/11/01/S2B_MSIL2A_20191101T171449_N0212_R112_T14RLP_20201003T120619.SAFE/GRANULE/L2A_T14RLP_A013866_20191101T171923/IMG_DATA/R10m/T14RLP_20191101T171449_B04_10m.tif?st=2023-11-15T00%3A04%3A08Z&se=2023-11-16T00%3A49%3A08Z&sp=rl&sv=2021-06-08&sr=c&skoid=c85c15d6-d1ae-42d4-af60-e2ca0f81359b&sktid=72f988bf-86f1-41af-91ab-2d7cd011db47&skt=2023-11-15T19%3A35%3A57Z&ske=2023-11-22T19%3A35%3A57Z&sks=b&skv=2021-06-08&sig=3m3jElRLso6//YheLb%2B21/LFxL9owor7Y0CJVtOXDLc%3D'],\n",
       "  'nir': ['https://sentinel2l2a01.blob.core.windows.net/sentinel2-l2/14/R/LP/2019/11/01/S2B_MSIL2A_20191101T171449_N0212_R112_T14RLP_20201003T120619.SAFE/GRANULE/L2A_T14RLP_A013866_20191101T171923/IMG_DATA/R10m/T14RLP_20191101T171449_B08_10m.tif?st=2023-11-15T00%3A04%3A08Z&se=2023-11-16T00%3A49%3A08Z&sp=rl&sv=2021-06-08&sr=c&skoid=c85c15d6-d1ae-42d4-af60-e2ca0f81359b&sktid=72f988bf-86f1-41af-91ab-2d7cd011db47&skt=2023-11-15T19%3A35%3A57Z&ske=2023-11-22T19%3A35%3A57Z&sks=b&skv=2021-06-08&sig=3m3jElRLso6//YheLb%2B21/LFxL9owor7Y0CJVtOXDLc%3D']},\n",
       " datetime.date(2020, 1, 5): {'red': ['https://sentinel2l2a01.blob.core.windows.net/sentinel2-l2/14/R/LP/2020/01/05/S2A_MSIL2A_20200105T171711_N0212_R112_T14RLP_20201002T231244.SAFE/GRANULE/L2A_T14RLP_A023704_20200105T171930/IMG_DATA/R10m/T14RLP_20200105T171711_B04_10m.tif?st=2023-11-15T00%3A04%3A08Z&se=2023-11-16T00%3A49%3A08Z&sp=rl&sv=2021-06-08&sr=c&skoid=c85c15d6-d1ae-42d4-af60-e2ca0f81359b&sktid=72f988bf-86f1-41af-91ab-2d7cd011db47&skt=2023-11-15T19%3A35%3A57Z&ske=2023-11-22T19%3A35%3A57Z&sks=b&skv=2021-06-08&sig=3m3jElRLso6//YheLb%2B21/LFxL9owor7Y0CJVtOXDLc%3D'],\n",
       "  'nir': ['https://sentinel2l2a01.blob.core.windows.net/sentinel2-l2/14/R/LP/2020/01/05/S2A_MSIL2A_20200105T171711_N0212_R112_T14RLP_20201002T231244.SAFE/GRANULE/L2A_T14RLP_A023704_20200105T171930/IMG_DATA/R10m/T14RLP_20200105T171711_B08_10m.tif?st=2023-11-15T00%3A04%3A08Z&se=2023-11-16T00%3A49%3A08Z&sp=rl&sv=2021-06-08&sr=c&skoid=c85c15d6-d1ae-42d4-af60-e2ca0f81359b&sktid=72f988bf-86f1-41af-91ab-2d7cd011db47&skt=2023-11-15T19%3A35%3A57Z&ske=2023-11-22T19%3A35%3A57Z&sks=b&skv=2021-06-08&sig=3m3jElRLso6//YheLb%2B21/LFxL9owor7Y0CJVtOXDLc%3D']},\n",
       " datetime.date(2020, 2, 29): {'red': ['https://sentinel2l2a01.blob.core.windows.net/sentinel2-l2/14/R/LP/2020/02/29/S2B_MSIL2A_20200229T171139_N0212_R112_T14RLP_20200929T080331.SAFE/GRANULE/L2A_T14RLP_A015582_20200229T172551/IMG_DATA/R10m/T14RLP_20200229T171139_B04_10m.tif?st=2023-11-15T00%3A04%3A08Z&se=2023-11-16T00%3A49%3A08Z&sp=rl&sv=2021-06-08&sr=c&skoid=c85c15d6-d1ae-42d4-af60-e2ca0f81359b&sktid=72f988bf-86f1-41af-91ab-2d7cd011db47&skt=2023-11-15T19%3A35%3A57Z&ske=2023-11-22T19%3A35%3A57Z&sks=b&skv=2021-06-08&sig=3m3jElRLso6//YheLb%2B21/LFxL9owor7Y0CJVtOXDLc%3D'],\n",
       "  'nir': ['https://sentinel2l2a01.blob.core.windows.net/sentinel2-l2/14/R/LP/2020/02/29/S2B_MSIL2A_20200229T171139_N0212_R112_T14RLP_20200929T080331.SAFE/GRANULE/L2A_T14RLP_A015582_20200229T172551/IMG_DATA/R10m/T14RLP_20200229T171139_B08_10m.tif?st=2023-11-15T00%3A04%3A08Z&se=2023-11-16T00%3A49%3A08Z&sp=rl&sv=2021-06-08&sr=c&skoid=c85c15d6-d1ae-42d4-af60-e2ca0f81359b&sktid=72f988bf-86f1-41af-91ab-2d7cd011db47&skt=2023-11-15T19%3A35%3A57Z&ske=2023-11-22T19%3A35%3A57Z&sks=b&skv=2021-06-08&sig=3m3jElRLso6//YheLb%2B21/LFxL9owor7Y0CJVtOXDLc%3D']},\n",
       " datetime.date(2020, 2, 24): {'red': ['https://sentinel2l2a01.blob.core.windows.net/sentinel2-l2/14/R/LP/2020/02/24/S2A_MSIL2A_20200224T171301_N0212_R112_T14RLP_20200928T031651.SAFE/GRANULE/L2A_T14RLP_A024419_20200224T172151/IMG_DATA/R10m/T14RLP_20200224T171301_B04_10m.tif?st=2023-11-15T00%3A04%3A08Z&se=2023-11-16T00%3A49%3A08Z&sp=rl&sv=2021-06-08&sr=c&skoid=c85c15d6-d1ae-42d4-af60-e2ca0f81359b&sktid=72f988bf-86f1-41af-91ab-2d7cd011db47&skt=2023-11-15T19%3A35%3A57Z&ske=2023-11-22T19%3A35%3A57Z&sks=b&skv=2021-06-08&sig=3m3jElRLso6//YheLb%2B21/LFxL9owor7Y0CJVtOXDLc%3D'],\n",
       "  'nir': ['https://sentinel2l2a01.blob.core.windows.net/sentinel2-l2/14/R/LP/2020/02/24/S2A_MSIL2A_20200224T171301_N0212_R112_T14RLP_20200928T031651.SAFE/GRANULE/L2A_T14RLP_A024419_20200224T172151/IMG_DATA/R10m/T14RLP_20200224T171301_B08_10m.tif?st=2023-11-15T00%3A04%3A08Z&se=2023-11-16T00%3A49%3A08Z&sp=rl&sv=2021-06-08&sr=c&skoid=c85c15d6-d1ae-42d4-af60-e2ca0f81359b&sktid=72f988bf-86f1-41af-91ab-2d7cd011db47&skt=2023-11-15T19%3A35%3A57Z&ske=2023-11-22T19%3A35%3A57Z&sks=b&skv=2021-06-08&sig=3m3jElRLso6//YheLb%2B21/LFxL9owor7Y0CJVtOXDLc%3D']},\n",
       " datetime.date(2020, 2, 9): {'red': ['https://sentinel2l2a01.blob.core.windows.net/sentinel2-l2/14/R/LP/2020/02/09/S2B_MSIL2A_20200209T171449_N0212_R112_T14RLP_20201001T132209.SAFE/GRANULE/L2A_T14RLP_A015296_20200209T172518/IMG_DATA/R10m/T14RLP_20200209T171449_B04_10m.tif?st=2023-11-15T00%3A04%3A08Z&se=2023-11-16T00%3A49%3A08Z&sp=rl&sv=2021-06-08&sr=c&skoid=c85c15d6-d1ae-42d4-af60-e2ca0f81359b&sktid=72f988bf-86f1-41af-91ab-2d7cd011db47&skt=2023-11-15T19%3A35%3A57Z&ske=2023-11-22T19%3A35%3A57Z&sks=b&skv=2021-06-08&sig=3m3jElRLso6//YheLb%2B21/LFxL9owor7Y0CJVtOXDLc%3D'],\n",
       "  'nir': ['https://sentinel2l2a01.blob.core.windows.net/sentinel2-l2/14/R/LP/2020/02/09/S2B_MSIL2A_20200209T171449_N0212_R112_T14RLP_20201001T132209.SAFE/GRANULE/L2A_T14RLP_A015296_20200209T172518/IMG_DATA/R10m/T14RLP_20200209T171449_B08_10m.tif?st=2023-11-15T00%3A04%3A08Z&se=2023-11-16T00%3A49%3A08Z&sp=rl&sv=2021-06-08&sr=c&skoid=c85c15d6-d1ae-42d4-af60-e2ca0f81359b&sktid=72f988bf-86f1-41af-91ab-2d7cd011db47&skt=2023-11-15T19%3A35%3A57Z&ske=2023-11-22T19%3A35%3A57Z&sks=b&skv=2021-06-08&sig=3m3jElRLso6//YheLb%2B21/LFxL9owor7Y0CJVtOXDLc%3D']},\n",
       " datetime.date(2020, 3, 25): {'red': ['https://sentinel2l2a01.blob.core.windows.net/sentinel2-l2/14/R/LP/2020/03/25/S2A_MSIL2A_20200325T170931_N0212_R112_T14RLP_20201019T112914.SAFE/GRANULE/L2A_T14RLP_A024848_20200325T171927/IMG_DATA/R10m/T14RLP_20200325T170931_B04_10m.tif?st=2023-11-15T00%3A04%3A08Z&se=2023-11-16T00%3A49%3A08Z&sp=rl&sv=2021-06-08&sr=c&skoid=c85c15d6-d1ae-42d4-af60-e2ca0f81359b&sktid=72f988bf-86f1-41af-91ab-2d7cd011db47&skt=2023-11-15T19%3A35%3A57Z&ske=2023-11-22T19%3A35%3A57Z&sks=b&skv=2021-06-08&sig=3m3jElRLso6//YheLb%2B21/LFxL9owor7Y0CJVtOXDLc%3D'],\n",
       "  'nir': ['https://sentinel2l2a01.blob.core.windows.net/sentinel2-l2/14/R/LP/2020/03/25/S2A_MSIL2A_20200325T170931_N0212_R112_T14RLP_20201019T112914.SAFE/GRANULE/L2A_T14RLP_A024848_20200325T171927/IMG_DATA/R10m/T14RLP_20200325T170931_B08_10m.tif?st=2023-11-15T00%3A04%3A08Z&se=2023-11-16T00%3A49%3A08Z&sp=rl&sv=2021-06-08&sr=c&skoid=c85c15d6-d1ae-42d4-af60-e2ca0f81359b&sktid=72f988bf-86f1-41af-91ab-2d7cd011db47&skt=2023-11-15T19%3A35%3A57Z&ske=2023-11-22T19%3A35%3A57Z&sks=b&skv=2021-06-08&sig=3m3jElRLso6//YheLb%2B21/LFxL9owor7Y0CJVtOXDLc%3D']},\n",
       " datetime.date(2020, 4, 29): {'red': ['https://sentinel2l2a01.blob.core.windows.net/sentinel2-l2/14/R/LP/2020/04/29/S2B_MSIL2A_20200429T170849_N0212_R112_T14RLP_20200922T154552.SAFE/GRANULE/L2A_T14RLP_A016440_20200429T171636/IMG_DATA/R10m/T14RLP_20200429T170849_B04_10m.tif?st=2023-11-15T00%3A04%3A08Z&se=2023-11-16T00%3A49%3A08Z&sp=rl&sv=2021-06-08&sr=c&skoid=c85c15d6-d1ae-42d4-af60-e2ca0f81359b&sktid=72f988bf-86f1-41af-91ab-2d7cd011db47&skt=2023-11-15T19%3A35%3A57Z&ske=2023-11-22T19%3A35%3A57Z&sks=b&skv=2021-06-08&sig=3m3jElRLso6//YheLb%2B21/LFxL9owor7Y0CJVtOXDLc%3D'],\n",
       "  'nir': ['https://sentinel2l2a01.blob.core.windows.net/sentinel2-l2/14/R/LP/2020/04/29/S2B_MSIL2A_20200429T170849_N0212_R112_T14RLP_20200922T154552.SAFE/GRANULE/L2A_T14RLP_A016440_20200429T171636/IMG_DATA/R10m/T14RLP_20200429T170849_B08_10m.tif?st=2023-11-15T00%3A04%3A08Z&se=2023-11-16T00%3A49%3A08Z&sp=rl&sv=2021-06-08&sr=c&skoid=c85c15d6-d1ae-42d4-af60-e2ca0f81359b&sktid=72f988bf-86f1-41af-91ab-2d7cd011db47&skt=2023-11-15T19%3A35%3A57Z&ske=2023-11-22T19%3A35%3A57Z&sks=b&skv=2021-06-08&sig=3m3jElRLso6//YheLb%2B21/LFxL9owor7Y0CJVtOXDLc%3D']},\n",
       " datetime.date(2020, 5, 19): {'red': ['https://sentinel2l2a01.blob.core.windows.net/sentinel2-l2/14/R/LP/2020/05/19/S2B_MSIL2A_20200519T170849_N0212_R112_T14RLP_20200910T064110.SAFE/GRANULE/L2A_T14RLP_A016726_20200519T171832/IMG_DATA/R10m/T14RLP_20200519T170849_B04_10m.tif?st=2023-11-15T00%3A04%3A08Z&se=2023-11-16T00%3A49%3A08Z&sp=rl&sv=2021-06-08&sr=c&skoid=c85c15d6-d1ae-42d4-af60-e2ca0f81359b&sktid=72f988bf-86f1-41af-91ab-2d7cd011db47&skt=2023-11-15T19%3A35%3A57Z&ske=2023-11-22T19%3A35%3A57Z&sks=b&skv=2021-06-08&sig=3m3jElRLso6//YheLb%2B21/LFxL9owor7Y0CJVtOXDLc%3D'],\n",
       "  'nir': ['https://sentinel2l2a01.blob.core.windows.net/sentinel2-l2/14/R/LP/2020/05/19/S2B_MSIL2A_20200519T170849_N0212_R112_T14RLP_20200910T064110.SAFE/GRANULE/L2A_T14RLP_A016726_20200519T171832/IMG_DATA/R10m/T14RLP_20200519T170849_B08_10m.tif?st=2023-11-15T00%3A04%3A08Z&se=2023-11-16T00%3A49%3A08Z&sp=rl&sv=2021-06-08&sr=c&skoid=c85c15d6-d1ae-42d4-af60-e2ca0f81359b&sktid=72f988bf-86f1-41af-91ab-2d7cd011db47&skt=2023-11-15T19%3A35%3A57Z&ske=2023-11-22T19%3A35%3A57Z&sks=b&skv=2021-06-08&sig=3m3jElRLso6//YheLb%2B21/LFxL9owor7Y0CJVtOXDLc%3D']},\n",
       " datetime.date(2020, 6, 18): {'red': ['https://sentinel2l2a01.blob.core.windows.net/sentinel2-l2/14/R/LP/2020/06/18/S2B_MSIL2A_20200618T170849_N0212_R112_T14RLP_20200823T061223.SAFE/GRANULE/L2A_T14RLP_A017155_20200618T171954/IMG_DATA/R10m/T14RLP_20200618T170849_B04_10m.tif?st=2023-11-15T00%3A04%3A08Z&se=2023-11-16T00%3A49%3A08Z&sp=rl&sv=2021-06-08&sr=c&skoid=c85c15d6-d1ae-42d4-af60-e2ca0f81359b&sktid=72f988bf-86f1-41af-91ab-2d7cd011db47&skt=2023-11-15T19%3A35%3A57Z&ske=2023-11-22T19%3A35%3A57Z&sks=b&skv=2021-06-08&sig=3m3jElRLso6//YheLb%2B21/LFxL9owor7Y0CJVtOXDLc%3D'],\n",
       "  'nir': ['https://sentinel2l2a01.blob.core.windows.net/sentinel2-l2/14/R/LP/2020/06/18/S2B_MSIL2A_20200618T170849_N0212_R112_T14RLP_20200823T061223.SAFE/GRANULE/L2A_T14RLP_A017155_20200618T171954/IMG_DATA/R10m/T14RLP_20200618T170849_B08_10m.tif?st=2023-11-15T00%3A04%3A08Z&se=2023-11-16T00%3A49%3A08Z&sp=rl&sv=2021-06-08&sr=c&skoid=c85c15d6-d1ae-42d4-af60-e2ca0f81359b&sktid=72f988bf-86f1-41af-91ab-2d7cd011db47&skt=2023-11-15T19%3A35%3A57Z&ske=2023-11-22T19%3A35%3A57Z&sks=b&skv=2021-06-08&sig=3m3jElRLso6//YheLb%2B21/LFxL9owor7Y0CJVtOXDLc%3D']},\n",
       " datetime.date(2020, 6, 13): {'red': ['https://sentinel2l2a01.blob.core.windows.net/sentinel2-l2/14/R/LP/2020/06/13/S2A_MSIL2A_20200613T170901_N0212_R112_T14RLP_20200827T053908.SAFE/GRANULE/L2A_T14RLP_A025992_20200613T172529/IMG_DATA/R10m/T14RLP_20200613T170901_B04_10m.tif?st=2023-11-15T00%3A04%3A08Z&se=2023-11-16T00%3A49%3A08Z&sp=rl&sv=2021-06-08&sr=c&skoid=c85c15d6-d1ae-42d4-af60-e2ca0f81359b&sktid=72f988bf-86f1-41af-91ab-2d7cd011db47&skt=2023-11-15T19%3A35%3A57Z&ske=2023-11-22T19%3A35%3A57Z&sks=b&skv=2021-06-08&sig=3m3jElRLso6//YheLb%2B21/LFxL9owor7Y0CJVtOXDLc%3D'],\n",
       "  'nir': ['https://sentinel2l2a01.blob.core.windows.net/sentinel2-l2/14/R/LP/2020/06/13/S2A_MSIL2A_20200613T170901_N0212_R112_T14RLP_20200827T053908.SAFE/GRANULE/L2A_T14RLP_A025992_20200613T172529/IMG_DATA/R10m/T14RLP_20200613T170901_B08_10m.tif?st=2023-11-15T00%3A04%3A08Z&se=2023-11-16T00%3A49%3A08Z&sp=rl&sv=2021-06-08&sr=c&skoid=c85c15d6-d1ae-42d4-af60-e2ca0f81359b&sktid=72f988bf-86f1-41af-91ab-2d7cd011db47&skt=2023-11-15T19%3A35%3A57Z&ske=2023-11-22T19%3A35%3A57Z&sks=b&skv=2021-06-08&sig=3m3jElRLso6//YheLb%2B21/LFxL9owor7Y0CJVtOXDLc%3D']},\n",
       " datetime.date(2020, 6, 8): {'red': ['https://sentinel2l2a01.blob.core.windows.net/sentinel2-l2/14/R/LP/2020/06/08/S2B_MSIL2A_20200608T170849_N0212_R112_T14RLP_20200826T161344.SAFE/GRANULE/L2A_T14RLP_A017012_20200608T172508/IMG_DATA/R10m/T14RLP_20200608T170849_B04_10m.tif?st=2023-11-15T00%3A04%3A08Z&se=2023-11-16T00%3A49%3A08Z&sp=rl&sv=2021-06-08&sr=c&skoid=c85c15d6-d1ae-42d4-af60-e2ca0f81359b&sktid=72f988bf-86f1-41af-91ab-2d7cd011db47&skt=2023-11-15T19%3A35%3A57Z&ske=2023-11-22T19%3A35%3A57Z&sks=b&skv=2021-06-08&sig=3m3jElRLso6//YheLb%2B21/LFxL9owor7Y0CJVtOXDLc%3D'],\n",
       "  'nir': ['https://sentinel2l2a01.blob.core.windows.net/sentinel2-l2/14/R/LP/2020/06/08/S2B_MSIL2A_20200608T170849_N0212_R112_T14RLP_20200826T161344.SAFE/GRANULE/L2A_T14RLP_A017012_20200608T172508/IMG_DATA/R10m/T14RLP_20200608T170849_B08_10m.tif?st=2023-11-15T00%3A04%3A08Z&se=2023-11-16T00%3A49%3A08Z&sp=rl&sv=2021-06-08&sr=c&skoid=c85c15d6-d1ae-42d4-af60-e2ca0f81359b&sktid=72f988bf-86f1-41af-91ab-2d7cd011db47&skt=2023-11-15T19%3A35%3A57Z&ske=2023-11-22T19%3A35%3A57Z&sks=b&skv=2021-06-08&sig=3m3jElRLso6//YheLb%2B21/LFxL9owor7Y0CJVtOXDLc%3D']},\n",
       " datetime.date(2020, 7, 13): {'red': ['https://sentinel2l2a01.blob.core.windows.net/sentinel2-l2/14/R/LP/2020/07/13/S2A_MSIL2A_20200713T170901_N0212_R112_T14RLP_20200913T010004.SAFE/GRANULE/L2A_T14RLP_A026421_20200713T171937/IMG_DATA/R10m/T14RLP_20200713T170901_B04_10m.tif?st=2023-11-15T00%3A04%3A08Z&se=2023-11-16T00%3A49%3A08Z&sp=rl&sv=2021-06-08&sr=c&skoid=c85c15d6-d1ae-42d4-af60-e2ca0f81359b&sktid=72f988bf-86f1-41af-91ab-2d7cd011db47&skt=2023-11-15T19%3A35%3A57Z&ske=2023-11-22T19%3A35%3A57Z&sks=b&skv=2021-06-08&sig=3m3jElRLso6//YheLb%2B21/LFxL9owor7Y0CJVtOXDLc%3D'],\n",
       "  'nir': ['https://sentinel2l2a01.blob.core.windows.net/sentinel2-l2/14/R/LP/2020/07/13/S2A_MSIL2A_20200713T170901_N0212_R112_T14RLP_20200913T010004.SAFE/GRANULE/L2A_T14RLP_A026421_20200713T171937/IMG_DATA/R10m/T14RLP_20200713T170901_B08_10m.tif?st=2023-11-15T00%3A04%3A08Z&se=2023-11-16T00%3A49%3A08Z&sp=rl&sv=2021-06-08&sr=c&skoid=c85c15d6-d1ae-42d4-af60-e2ca0f81359b&sktid=72f988bf-86f1-41af-91ab-2d7cd011db47&skt=2023-11-15T19%3A35%3A57Z&ske=2023-11-22T19%3A35%3A57Z&sks=b&skv=2021-06-08&sig=3m3jElRLso6//YheLb%2B21/LFxL9owor7Y0CJVtOXDLc%3D']},\n",
       " datetime.date(2020, 7, 3): {'red': ['https://sentinel2l2a01.blob.core.windows.net/sentinel2-l2/14/R/LP/2020/07/03/S2A_MSIL2A_20200703T170901_N0212_R112_T14RLP_20200825T013622.SAFE/GRANULE/L2A_T14RLP_A026278_20200703T171739/IMG_DATA/R10m/T14RLP_20200703T170901_B04_10m.tif?st=2023-11-15T00%3A04%3A08Z&se=2023-11-16T00%3A49%3A08Z&sp=rl&sv=2021-06-08&sr=c&skoid=c85c15d6-d1ae-42d4-af60-e2ca0f81359b&sktid=72f988bf-86f1-41af-91ab-2d7cd011db47&skt=2023-11-15T19%3A35%3A57Z&ske=2023-11-22T19%3A35%3A57Z&sks=b&skv=2021-06-08&sig=3m3jElRLso6//YheLb%2B21/LFxL9owor7Y0CJVtOXDLc%3D'],\n",
       "  'nir': ['https://sentinel2l2a01.blob.core.windows.net/sentinel2-l2/14/R/LP/2020/07/03/S2A_MSIL2A_20200703T170901_N0212_R112_T14RLP_20200825T013622.SAFE/GRANULE/L2A_T14RLP_A026278_20200703T171739/IMG_DATA/R10m/T14RLP_20200703T170901_B08_10m.tif?st=2023-11-15T00%3A04%3A08Z&se=2023-11-16T00%3A49%3A08Z&sp=rl&sv=2021-06-08&sr=c&skoid=c85c15d6-d1ae-42d4-af60-e2ca0f81359b&sktid=72f988bf-86f1-41af-91ab-2d7cd011db47&skt=2023-11-15T19%3A35%3A57Z&ske=2023-11-22T19%3A35%3A57Z&sks=b&skv=2021-06-08&sig=3m3jElRLso6//YheLb%2B21/LFxL9owor7Y0CJVtOXDLc%3D']},\n",
       " datetime.date(2020, 8, 22): {'red': ['https://sentinel2l2a01.blob.core.windows.net/sentinel2-l2/14/R/LP/2020/08/22/S2A_MSIL2A_20200822T170901_N0212_R112_T14RLP_20200825T130052.SAFE/GRANULE/L2A_T14RLP_A026993_20200822T172311/IMG_DATA/R10m/T14RLP_20200822T170901_B04_10m.tif?st=2023-11-15T00%3A04%3A08Z&se=2023-11-16T00%3A49%3A08Z&sp=rl&sv=2021-06-08&sr=c&skoid=c85c15d6-d1ae-42d4-af60-e2ca0f81359b&sktid=72f988bf-86f1-41af-91ab-2d7cd011db47&skt=2023-11-15T19%3A35%3A57Z&ske=2023-11-22T19%3A35%3A57Z&sks=b&skv=2021-06-08&sig=3m3jElRLso6//YheLb%2B21/LFxL9owor7Y0CJVtOXDLc%3D'],\n",
       "  'nir': ['https://sentinel2l2a01.blob.core.windows.net/sentinel2-l2/14/R/LP/2020/08/22/S2A_MSIL2A_20200822T170901_N0212_R112_T14RLP_20200825T130052.SAFE/GRANULE/L2A_T14RLP_A026993_20200822T172311/IMG_DATA/R10m/T14RLP_20200822T170901_B08_10m.tif?st=2023-11-15T00%3A04%3A08Z&se=2023-11-16T00%3A49%3A08Z&sp=rl&sv=2021-06-08&sr=c&skoid=c85c15d6-d1ae-42d4-af60-e2ca0f81359b&sktid=72f988bf-86f1-41af-91ab-2d7cd011db47&skt=2023-11-15T19%3A35%3A57Z&ske=2023-11-22T19%3A35%3A57Z&sks=b&skv=2021-06-08&sig=3m3jElRLso6//YheLb%2B21/LFxL9owor7Y0CJVtOXDLc%3D']},\n",
       " datetime.date(2020, 8, 12): {'red': ['https://sentinel2l2a01.blob.core.windows.net/sentinel2-l2/14/R/LP/2020/08/12/S2A_MSIL2A_20200812T170901_N0212_R112_T14RLP_20200814T203540.SAFE/GRANULE/L2A_T14RLP_A026850_20200812T171726/IMG_DATA/R10m/T14RLP_20200812T170901_B04_10m.tif?st=2023-11-15T00%3A04%3A08Z&se=2023-11-16T00%3A49%3A08Z&sp=rl&sv=2021-06-08&sr=c&skoid=c85c15d6-d1ae-42d4-af60-e2ca0f81359b&sktid=72f988bf-86f1-41af-91ab-2d7cd011db47&skt=2023-11-15T19%3A35%3A57Z&ske=2023-11-22T19%3A35%3A57Z&sks=b&skv=2021-06-08&sig=3m3jElRLso6//YheLb%2B21/LFxL9owor7Y0CJVtOXDLc%3D'],\n",
       "  'nir': ['https://sentinel2l2a01.blob.core.windows.net/sentinel2-l2/14/R/LP/2020/08/12/S2A_MSIL2A_20200812T170901_N0212_R112_T14RLP_20200814T203540.SAFE/GRANULE/L2A_T14RLP_A026850_20200812T171726/IMG_DATA/R10m/T14RLP_20200812T170901_B08_10m.tif?st=2023-11-15T00%3A04%3A08Z&se=2023-11-16T00%3A49%3A08Z&sp=rl&sv=2021-06-08&sr=c&skoid=c85c15d6-d1ae-42d4-af60-e2ca0f81359b&sktid=72f988bf-86f1-41af-91ab-2d7cd011db47&skt=2023-11-15T19%3A35%3A57Z&ske=2023-11-22T19%3A35%3A57Z&sks=b&skv=2021-06-08&sig=3m3jElRLso6//YheLb%2B21/LFxL9owor7Y0CJVtOXDLc%3D']},\n",
       " datetime.date(2020, 9, 26): {'red': ['https://sentinel2l2a01.blob.core.windows.net/sentinel2-l2/14/R/LP/2020/09/26/S2B_MSIL2A_20200926T170959_N0212_R112_T14RLP_20200927T201001.SAFE/GRANULE/L2A_T14RLP_A018585_20200926T172151/IMG_DATA/R10m/T14RLP_20200926T170959_B04_10m.tif?st=2023-11-15T00%3A04%3A08Z&se=2023-11-16T00%3A49%3A08Z&sp=rl&sv=2021-06-08&sr=c&skoid=c85c15d6-d1ae-42d4-af60-e2ca0f81359b&sktid=72f988bf-86f1-41af-91ab-2d7cd011db47&skt=2023-11-15T19%3A35%3A57Z&ske=2023-11-22T19%3A35%3A57Z&sks=b&skv=2021-06-08&sig=3m3jElRLso6//YheLb%2B21/LFxL9owor7Y0CJVtOXDLc%3D'],\n",
       "  'nir': ['https://sentinel2l2a01.blob.core.windows.net/sentinel2-l2/14/R/LP/2020/09/26/S2B_MSIL2A_20200926T170959_N0212_R112_T14RLP_20200927T201001.SAFE/GRANULE/L2A_T14RLP_A018585_20200926T172151/IMG_DATA/R10m/T14RLP_20200926T170959_B08_10m.tif?st=2023-11-15T00%3A04%3A08Z&se=2023-11-16T00%3A49%3A08Z&sp=rl&sv=2021-06-08&sr=c&skoid=c85c15d6-d1ae-42d4-af60-e2ca0f81359b&sktid=72f988bf-86f1-41af-91ab-2d7cd011db47&skt=2023-11-15T19%3A35%3A57Z&ske=2023-11-22T19%3A35%3A57Z&sks=b&skv=2021-06-08&sig=3m3jElRLso6//YheLb%2B21/LFxL9owor7Y0CJVtOXDLc%3D']},\n",
       " datetime.date(2020, 9, 21): {'red': ['https://sentinel2l2a01.blob.core.windows.net/sentinel2-l2/14/R/LP/2020/09/21/S2A_MSIL2A_20200921T171021_N0212_R112_T14RLP_20200924T100402.SAFE/GRANULE/L2A_T14RLP_A027422_20200921T172005/IMG_DATA/R10m/T14RLP_20200921T171021_B04_10m.tif?st=2023-11-15T00%3A04%3A08Z&se=2023-11-16T00%3A49%3A08Z&sp=rl&sv=2021-06-08&sr=c&skoid=c85c15d6-d1ae-42d4-af60-e2ca0f81359b&sktid=72f988bf-86f1-41af-91ab-2d7cd011db47&skt=2023-11-15T19%3A35%3A57Z&ske=2023-11-22T19%3A35%3A57Z&sks=b&skv=2021-06-08&sig=3m3jElRLso6//YheLb%2B21/LFxL9owor7Y0CJVtOXDLc%3D'],\n",
       "  'nir': ['https://sentinel2l2a01.blob.core.windows.net/sentinel2-l2/14/R/LP/2020/09/21/S2A_MSIL2A_20200921T171021_N0212_R112_T14RLP_20200924T100402.SAFE/GRANULE/L2A_T14RLP_A027422_20200921T172005/IMG_DATA/R10m/T14RLP_20200921T171021_B08_10m.tif?st=2023-11-15T00%3A04%3A08Z&se=2023-11-16T00%3A49%3A08Z&sp=rl&sv=2021-06-08&sr=c&skoid=c85c15d6-d1ae-42d4-af60-e2ca0f81359b&sktid=72f988bf-86f1-41af-91ab-2d7cd011db47&skt=2023-11-15T19%3A35%3A57Z&ske=2023-11-22T19%3A35%3A57Z&sks=b&skv=2021-06-08&sig=3m3jElRLso6//YheLb%2B21/LFxL9owor7Y0CJVtOXDLc%3D']},\n",
       " datetime.date(2020, 9, 1): {'red': ['https://sentinel2l2a01.blob.core.windows.net/sentinel2-l2/14/R/LP/2020/09/01/S2A_MSIL2A_20200901T170901_N0212_R112_T14RLP_20201026T171721.SAFE/GRANULE/L2A_T14RLP_A027136_20200901T171902/IMG_DATA/R10m/T14RLP_20200901T170901_B04_10m.tif?st=2023-11-15T00%3A04%3A08Z&se=2023-11-16T00%3A49%3A08Z&sp=rl&sv=2021-06-08&sr=c&skoid=c85c15d6-d1ae-42d4-af60-e2ca0f81359b&sktid=72f988bf-86f1-41af-91ab-2d7cd011db47&skt=2023-11-15T19%3A35%3A57Z&ske=2023-11-22T19%3A35%3A57Z&sks=b&skv=2021-06-08&sig=3m3jElRLso6//YheLb%2B21/LFxL9owor7Y0CJVtOXDLc%3D'],\n",
       "  'nir': ['https://sentinel2l2a01.blob.core.windows.net/sentinel2-l2/14/R/LP/2020/09/01/S2A_MSIL2A_20200901T170901_N0212_R112_T14RLP_20201026T171721.SAFE/GRANULE/L2A_T14RLP_A027136_20200901T171902/IMG_DATA/R10m/T14RLP_20200901T170901_B08_10m.tif?st=2023-11-15T00%3A04%3A08Z&se=2023-11-16T00%3A49%3A08Z&sp=rl&sv=2021-06-08&sr=c&skoid=c85c15d6-d1ae-42d4-af60-e2ca0f81359b&sktid=72f988bf-86f1-41af-91ab-2d7cd011db47&skt=2023-11-15T19%3A35%3A57Z&ske=2023-11-22T19%3A35%3A57Z&sks=b&skv=2021-06-08&sig=3m3jElRLso6//YheLb%2B21/LFxL9owor7Y0CJVtOXDLc%3D']},\n",
       " datetime.date(2020, 10, 31): {'red': ['https://sentinel2l2a01.blob.core.windows.net/sentinel2-l2/14/R/LP/2020/10/31/S2A_MSIL2A_20201031T171451_N0212_R112_T14RLP_20201102T052410.SAFE/GRANULE/L2A_T14RLP_A027994_20201031T171918/IMG_DATA/R10m/T14RLP_20201031T171451_B04_10m.tif?st=2023-11-15T00%3A04%3A08Z&se=2023-11-16T00%3A49%3A08Z&sp=rl&sv=2021-06-08&sr=c&skoid=c85c15d6-d1ae-42d4-af60-e2ca0f81359b&sktid=72f988bf-86f1-41af-91ab-2d7cd011db47&skt=2023-11-15T19%3A35%3A57Z&ske=2023-11-22T19%3A35%3A57Z&sks=b&skv=2021-06-08&sig=3m3jElRLso6//YheLb%2B21/LFxL9owor7Y0CJVtOXDLc%3D'],\n",
       "  'nir': ['https://sentinel2l2a01.blob.core.windows.net/sentinel2-l2/14/R/LP/2020/10/31/S2A_MSIL2A_20201031T171451_N0212_R112_T14RLP_20201102T052410.SAFE/GRANULE/L2A_T14RLP_A027994_20201031T171918/IMG_DATA/R10m/T14RLP_20201031T171451_B08_10m.tif?st=2023-11-15T00%3A04%3A08Z&se=2023-11-16T00%3A49%3A08Z&sp=rl&sv=2021-06-08&sr=c&skoid=c85c15d6-d1ae-42d4-af60-e2ca0f81359b&sktid=72f988bf-86f1-41af-91ab-2d7cd011db47&skt=2023-11-15T19%3A35%3A57Z&ske=2023-11-22T19%3A35%3A57Z&sks=b&skv=2021-06-08&sig=3m3jElRLso6//YheLb%2B21/LFxL9owor7Y0CJVtOXDLc%3D']},\n",
       " datetime.date(2020, 10, 26): {'red': ['https://sentinel2l2a01.blob.core.windows.net/sentinel2-l2/14/R/LP/2020/10/26/S2B_MSIL2A_20201026T171419_N0212_R112_T14RLP_20201031T002153.SAFE/GRANULE/L2A_T14RLP_A019014_20201026T172632/IMG_DATA/R10m/T14RLP_20201026T171419_B04_10m.tif?st=2023-11-15T00%3A04%3A08Z&se=2023-11-16T00%3A49%3A08Z&sp=rl&sv=2021-06-08&sr=c&skoid=c85c15d6-d1ae-42d4-af60-e2ca0f81359b&sktid=72f988bf-86f1-41af-91ab-2d7cd011db47&skt=2023-11-15T19%3A35%3A57Z&ske=2023-11-22T19%3A35%3A57Z&sks=b&skv=2021-06-08&sig=3m3jElRLso6//YheLb%2B21/LFxL9owor7Y0CJVtOXDLc%3D'],\n",
       "  'nir': ['https://sentinel2l2a01.blob.core.windows.net/sentinel2-l2/14/R/LP/2020/10/26/S2B_MSIL2A_20201026T171419_N0212_R112_T14RLP_20201031T002153.SAFE/GRANULE/L2A_T14RLP_A019014_20201026T172632/IMG_DATA/R10m/T14RLP_20201026T171419_B08_10m.tif?st=2023-11-15T00%3A04%3A08Z&se=2023-11-16T00%3A49%3A08Z&sp=rl&sv=2021-06-08&sr=c&skoid=c85c15d6-d1ae-42d4-af60-e2ca0f81359b&sktid=72f988bf-86f1-41af-91ab-2d7cd011db47&skt=2023-11-15T19%3A35%3A57Z&ske=2023-11-22T19%3A35%3A57Z&sks=b&skv=2021-06-08&sig=3m3jElRLso6//YheLb%2B21/LFxL9owor7Y0CJVtOXDLc%3D']},\n",
       " datetime.date(2020, 10, 11): {'red': ['https://sentinel2l2a01.blob.core.windows.net/sentinel2-l2/14/R/LP/2020/10/11/S2A_MSIL2A_20201011T171241_N0212_R112_T14RLP_20201013T205448.SAFE/GRANULE/L2A_T14RLP_A027708_20201011T171836/IMG_DATA/R10m/T14RLP_20201011T171241_B04_10m.tif?st=2023-11-15T00%3A04%3A08Z&se=2023-11-16T00%3A49%3A08Z&sp=rl&sv=2021-06-08&sr=c&skoid=c85c15d6-d1ae-42d4-af60-e2ca0f81359b&sktid=72f988bf-86f1-41af-91ab-2d7cd011db47&skt=2023-11-15T19%3A35%3A57Z&ske=2023-11-22T19%3A35%3A57Z&sks=b&skv=2021-06-08&sig=3m3jElRLso6//YheLb%2B21/LFxL9owor7Y0CJVtOXDLc%3D'],\n",
       "  'nir': ['https://sentinel2l2a01.blob.core.windows.net/sentinel2-l2/14/R/LP/2020/10/11/S2A_MSIL2A_20201011T171241_N0212_R112_T14RLP_20201013T205448.SAFE/GRANULE/L2A_T14RLP_A027708_20201011T171836/IMG_DATA/R10m/T14RLP_20201011T171241_B08_10m.tif?st=2023-11-15T00%3A04%3A08Z&se=2023-11-16T00%3A49%3A08Z&sp=rl&sv=2021-06-08&sr=c&skoid=c85c15d6-d1ae-42d4-af60-e2ca0f81359b&sktid=72f988bf-86f1-41af-91ab-2d7cd011db47&skt=2023-11-15T19%3A35%3A57Z&ske=2023-11-22T19%3A35%3A57Z&sks=b&skv=2021-06-08&sig=3m3jElRLso6//YheLb%2B21/LFxL9owor7Y0CJVtOXDLc%3D']},\n",
       " datetime.date(2020, 10, 6): {'red': ['https://sentinel2l2a01.blob.core.windows.net/sentinel2-l2/14/R/LP/2020/10/06/S2B_MSIL2A_20201006T171109_N0212_R112_T14RLP_20201010T060855.SAFE/GRANULE/L2A_T14RLP_A018728_20201006T172501/IMG_DATA/R10m/T14RLP_20201006T171109_B04_10m.tif?st=2023-11-15T00%3A04%3A08Z&se=2023-11-16T00%3A49%3A08Z&sp=rl&sv=2021-06-08&sr=c&skoid=c85c15d6-d1ae-42d4-af60-e2ca0f81359b&sktid=72f988bf-86f1-41af-91ab-2d7cd011db47&skt=2023-11-15T19%3A35%3A57Z&ske=2023-11-22T19%3A35%3A57Z&sks=b&skv=2021-06-08&sig=3m3jElRLso6//YheLb%2B21/LFxL9owor7Y0CJVtOXDLc%3D'],\n",
       "  'nir': ['https://sentinel2l2a01.blob.core.windows.net/sentinel2-l2/14/R/LP/2020/10/06/S2B_MSIL2A_20201006T171109_N0212_R112_T14RLP_20201010T060855.SAFE/GRANULE/L2A_T14RLP_A018728_20201006T172501/IMG_DATA/R10m/T14RLP_20201006T171109_B08_10m.tif?st=2023-11-15T00%3A04%3A08Z&se=2023-11-16T00%3A49%3A08Z&sp=rl&sv=2021-06-08&sr=c&skoid=c85c15d6-d1ae-42d4-af60-e2ca0f81359b&sktid=72f988bf-86f1-41af-91ab-2d7cd011db47&skt=2023-11-15T19%3A35%3A57Z&ske=2023-11-22T19%3A35%3A57Z&sks=b&skv=2021-06-08&sig=3m3jElRLso6//YheLb%2B21/LFxL9owor7Y0CJVtOXDLc%3D']},\n",
       " datetime.date(2020, 10, 1): {'red': ['https://sentinel2l2a01.blob.core.windows.net/sentinel2-l2/14/R/LP/2020/10/01/S2A_MSIL2A_20201001T171131_N0212_R112_T14RLP_20201004T072216.SAFE/GRANULE/L2A_T14RLP_A027565_20201001T171736/IMG_DATA/R10m/T14RLP_20201001T171131_B04_10m.tif?st=2023-11-15T00%3A04%3A08Z&se=2023-11-16T00%3A49%3A08Z&sp=rl&sv=2021-06-08&sr=c&skoid=c85c15d6-d1ae-42d4-af60-e2ca0f81359b&sktid=72f988bf-86f1-41af-91ab-2d7cd011db47&skt=2023-11-15T19%3A35%3A57Z&ske=2023-11-22T19%3A35%3A57Z&sks=b&skv=2021-06-08&sig=3m3jElRLso6//YheLb%2B21/LFxL9owor7Y0CJVtOXDLc%3D'],\n",
       "  'nir': ['https://sentinel2l2a01.blob.core.windows.net/sentinel2-l2/14/R/LP/2020/10/01/S2A_MSIL2A_20201001T171131_N0212_R112_T14RLP_20201004T072216.SAFE/GRANULE/L2A_T14RLP_A027565_20201001T171736/IMG_DATA/R10m/T14RLP_20201001T171131_B08_10m.tif?st=2023-11-15T00%3A04%3A08Z&se=2023-11-16T00%3A49%3A08Z&sp=rl&sv=2021-06-08&sr=c&skoid=c85c15d6-d1ae-42d4-af60-e2ca0f81359b&sktid=72f988bf-86f1-41af-91ab-2d7cd011db47&skt=2023-11-15T19%3A35%3A57Z&ske=2023-11-22T19%3A35%3A57Z&sks=b&skv=2021-06-08&sig=3m3jElRLso6//YheLb%2B21/LFxL9owor7Y0CJVtOXDLc%3D']},\n",
       " datetime.date(2020, 11, 25): {'red': ['https://sentinel2l2a01.blob.core.windows.net/sentinel2-l2/14/R/LP/2020/11/25/S2B_MSIL2A_20201125T171639_N0212_R112_T14RLP_20201126T091639.SAFE/GRANULE/L2A_T14RLP_A019443_20201125T171828/IMG_DATA/R10m/T14RLP_20201125T171639_B04_10m.tif?st=2023-11-15T00%3A04%3A08Z&se=2023-11-16T00%3A49%3A08Z&sp=rl&sv=2021-06-08&sr=c&skoid=c85c15d6-d1ae-42d4-af60-e2ca0f81359b&sktid=72f988bf-86f1-41af-91ab-2d7cd011db47&skt=2023-11-15T19%3A35%3A57Z&ske=2023-11-22T19%3A35%3A57Z&sks=b&skv=2021-06-08&sig=3m3jElRLso6//YheLb%2B21/LFxL9owor7Y0CJVtOXDLc%3D'],\n",
       "  'nir': ['https://sentinel2l2a01.blob.core.windows.net/sentinel2-l2/14/R/LP/2020/11/25/S2B_MSIL2A_20201125T171639_N0212_R112_T14RLP_20201126T091639.SAFE/GRANULE/L2A_T14RLP_A019443_20201125T171828/IMG_DATA/R10m/T14RLP_20201125T171639_B08_10m.tif?st=2023-11-15T00%3A04%3A08Z&se=2023-11-16T00%3A49%3A08Z&sp=rl&sv=2021-06-08&sr=c&skoid=c85c15d6-d1ae-42d4-af60-e2ca0f81359b&sktid=72f988bf-86f1-41af-91ab-2d7cd011db47&skt=2023-11-15T19%3A35%3A57Z&ske=2023-11-22T19%3A35%3A57Z&sks=b&skv=2021-06-08&sig=3m3jElRLso6//YheLb%2B21/LFxL9owor7Y0CJVtOXDLc%3D']},\n",
       " datetime.date(2020, 11, 20): {'red': ['https://sentinel2l2a01.blob.core.windows.net/sentinel2-l2/14/R/LP/2020/11/20/S2A_MSIL2A_20201120T171621_N0212_R112_T14RLP_20201122T025659.SAFE/GRANULE/L2A_T14RLP_A028280_20201120T172242/IMG_DATA/R10m/T14RLP_20201120T171621_B04_10m.tif?st=2023-11-15T00%3A04%3A08Z&se=2023-11-16T00%3A49%3A08Z&sp=rl&sv=2021-06-08&sr=c&skoid=c85c15d6-d1ae-42d4-af60-e2ca0f81359b&sktid=72f988bf-86f1-41af-91ab-2d7cd011db47&skt=2023-11-15T19%3A35%3A57Z&ske=2023-11-22T19%3A35%3A57Z&sks=b&skv=2021-06-08&sig=3m3jElRLso6//YheLb%2B21/LFxL9owor7Y0CJVtOXDLc%3D'],\n",
       "  'nir': ['https://sentinel2l2a01.blob.core.windows.net/sentinel2-l2/14/R/LP/2020/11/20/S2A_MSIL2A_20201120T171621_N0212_R112_T14RLP_20201122T025659.SAFE/GRANULE/L2A_T14RLP_A028280_20201120T172242/IMG_DATA/R10m/T14RLP_20201120T171621_B08_10m.tif?st=2023-11-15T00%3A04%3A08Z&se=2023-11-16T00%3A49%3A08Z&sp=rl&sv=2021-06-08&sr=c&skoid=c85c15d6-d1ae-42d4-af60-e2ca0f81359b&sktid=72f988bf-86f1-41af-91ab-2d7cd011db47&skt=2023-11-15T19%3A35%3A57Z&ske=2023-11-22T19%3A35%3A57Z&sks=b&skv=2021-06-08&sig=3m3jElRLso6//YheLb%2B21/LFxL9owor7Y0CJVtOXDLc%3D']},\n",
       " datetime.date(2020, 11, 10): {'red': ['https://sentinel2l2a01.blob.core.windows.net/sentinel2-l2/14/R/LP/2020/11/10/S2A_MSIL2A_20201110T171541_N0212_R112_T14RLP_20201111T143513.SAFE/GRANULE/L2A_T14RLP_A028137_20201110T172159/IMG_DATA/R10m/T14RLP_20201110T171541_B04_10m.tif?st=2023-11-15T00%3A04%3A08Z&se=2023-11-16T00%3A49%3A08Z&sp=rl&sv=2021-06-08&sr=c&skoid=c85c15d6-d1ae-42d4-af60-e2ca0f81359b&sktid=72f988bf-86f1-41af-91ab-2d7cd011db47&skt=2023-11-15T19%3A35%3A57Z&ske=2023-11-22T19%3A35%3A57Z&sks=b&skv=2021-06-08&sig=3m3jElRLso6//YheLb%2B21/LFxL9owor7Y0CJVtOXDLc%3D'],\n",
       "  'nir': ['https://sentinel2l2a01.blob.core.windows.net/sentinel2-l2/14/R/LP/2020/11/10/S2A_MSIL2A_20201110T171541_N0212_R112_T14RLP_20201111T143513.SAFE/GRANULE/L2A_T14RLP_A028137_20201110T172159/IMG_DATA/R10m/T14RLP_20201110T171541_B08_10m.tif?st=2023-11-15T00%3A04%3A08Z&se=2023-11-16T00%3A49%3A08Z&sp=rl&sv=2021-06-08&sr=c&skoid=c85c15d6-d1ae-42d4-af60-e2ca0f81359b&sktid=72f988bf-86f1-41af-91ab-2d7cd011db47&skt=2023-11-15T19%3A35%3A57Z&ske=2023-11-22T19%3A35%3A57Z&sks=b&skv=2021-06-08&sig=3m3jElRLso6//YheLb%2B21/LFxL9owor7Y0CJVtOXDLc%3D']},\n",
       " datetime.date(2020, 11, 5): {'red': ['https://sentinel2l2a01.blob.core.windows.net/sentinel2-l2/14/R/LP/2020/11/05/S2B_MSIL2A_20201105T171519_N0212_R112_T14RLP_20201106T225536.SAFE/GRANULE/L2A_T14RLP_A019157_20201105T171640/IMG_DATA/R10m/T14RLP_20201105T171519_B04_10m.tif?st=2023-11-15T00%3A04%3A08Z&se=2023-11-16T00%3A49%3A08Z&sp=rl&sv=2021-06-08&sr=c&skoid=c85c15d6-d1ae-42d4-af60-e2ca0f81359b&sktid=72f988bf-86f1-41af-91ab-2d7cd011db47&skt=2023-11-15T19%3A35%3A57Z&ske=2023-11-22T19%3A35%3A57Z&sks=b&skv=2021-06-08&sig=3m3jElRLso6//YheLb%2B21/LFxL9owor7Y0CJVtOXDLc%3D'],\n",
       "  'nir': ['https://sentinel2l2a01.blob.core.windows.net/sentinel2-l2/14/R/LP/2020/11/05/S2B_MSIL2A_20201105T171519_N0212_R112_T14RLP_20201106T225536.SAFE/GRANULE/L2A_T14RLP_A019157_20201105T171640/IMG_DATA/R10m/T14RLP_20201105T171519_B08_10m.tif?st=2023-11-15T00%3A04%3A08Z&se=2023-11-16T00%3A49%3A08Z&sp=rl&sv=2021-06-08&sr=c&skoid=c85c15d6-d1ae-42d4-af60-e2ca0f81359b&sktid=72f988bf-86f1-41af-91ab-2d7cd011db47&skt=2023-11-15T19%3A35%3A57Z&ske=2023-11-22T19%3A35%3A57Z&sks=b&skv=2021-06-08&sig=3m3jElRLso6//YheLb%2B21/LFxL9owor7Y0CJVtOXDLc%3D']},\n",
       " datetime.date(2020, 12, 30): {'red': ['https://sentinel2l2a01.blob.core.windows.net/sentinel2-l2/14/R/LP/2020/12/30/S2A_MSIL2A_20201230T171721_N0212_R112_T14RLP_20201231T054714.SAFE/GRANULE/L2A_T14RLP_A028852_20201230T172404/IMG_DATA/R10m/T14RLP_20201230T171721_B04_10m.tif?st=2023-11-15T00%3A04%3A08Z&se=2023-11-16T00%3A49%3A08Z&sp=rl&sv=2021-06-08&sr=c&skoid=c85c15d6-d1ae-42d4-af60-e2ca0f81359b&sktid=72f988bf-86f1-41af-91ab-2d7cd011db47&skt=2023-11-15T19%3A35%3A57Z&ske=2023-11-22T19%3A35%3A57Z&sks=b&skv=2021-06-08&sig=3m3jElRLso6//YheLb%2B21/LFxL9owor7Y0CJVtOXDLc%3D'],\n",
       "  'nir': ['https://sentinel2l2a01.blob.core.windows.net/sentinel2-l2/14/R/LP/2020/12/30/S2A_MSIL2A_20201230T171721_N0212_R112_T14RLP_20201231T054714.SAFE/GRANULE/L2A_T14RLP_A028852_20201230T172404/IMG_DATA/R10m/T14RLP_20201230T171721_B08_10m.tif?st=2023-11-15T00%3A04%3A08Z&se=2023-11-16T00%3A49%3A08Z&sp=rl&sv=2021-06-08&sr=c&skoid=c85c15d6-d1ae-42d4-af60-e2ca0f81359b&sktid=72f988bf-86f1-41af-91ab-2d7cd011db47&skt=2023-11-15T19%3A35%3A57Z&ske=2023-11-22T19%3A35%3A57Z&sks=b&skv=2021-06-08&sig=3m3jElRLso6//YheLb%2B21/LFxL9owor7Y0CJVtOXDLc%3D']},\n",
       " datetime.date(2020, 12, 20): {'red': ['https://sentinel2l2a01.blob.core.windows.net/sentinel2-l2/14/R/LP/2020/12/20/S2A_MSIL2A_20201220T171731_N0212_R112_T14RLP_20201221T003509.SAFE/GRANULE/L2A_T14RLP_A028709_20201220T172410/IMG_DATA/R10m/T14RLP_20201220T171731_B04_10m.tif?st=2023-11-15T00%3A04%3A08Z&se=2023-11-16T00%3A49%3A08Z&sp=rl&sv=2021-06-08&sr=c&skoid=c85c15d6-d1ae-42d4-af60-e2ca0f81359b&sktid=72f988bf-86f1-41af-91ab-2d7cd011db47&skt=2023-11-15T19%3A35%3A57Z&ske=2023-11-22T19%3A35%3A57Z&sks=b&skv=2021-06-08&sig=3m3jElRLso6//YheLb%2B21/LFxL9owor7Y0CJVtOXDLc%3D'],\n",
       "  'nir': ['https://sentinel2l2a01.blob.core.windows.net/sentinel2-l2/14/R/LP/2020/12/20/S2A_MSIL2A_20201220T171731_N0212_R112_T14RLP_20201221T003509.SAFE/GRANULE/L2A_T14RLP_A028709_20201220T172410/IMG_DATA/R10m/T14RLP_20201220T171731_B08_10m.tif?st=2023-11-15T00%3A04%3A08Z&se=2023-11-16T00%3A49%3A08Z&sp=rl&sv=2021-06-08&sr=c&skoid=c85c15d6-d1ae-42d4-af60-e2ca0f81359b&sktid=72f988bf-86f1-41af-91ab-2d7cd011db47&skt=2023-11-15T19%3A35%3A57Z&ske=2023-11-22T19%3A35%3A57Z&sks=b&skv=2021-06-08&sig=3m3jElRLso6//YheLb%2B21/LFxL9owor7Y0CJVtOXDLc%3D']},\n",
       " datetime.date(2020, 12, 15): {'red': ['https://sentinel2l2a01.blob.core.windows.net/sentinel2-l2/14/R/LP/2020/12/15/S2B_MSIL2A_20201215T171719_N0212_R112_T14RLP_20201220T100628.SAFE/GRANULE/L2A_T14RLP_A019729_20201215T171955/IMG_DATA/R10m/T14RLP_20201215T171719_B04_10m.tif?st=2023-11-15T00%3A04%3A08Z&se=2023-11-16T00%3A49%3A08Z&sp=rl&sv=2021-06-08&sr=c&skoid=c85c15d6-d1ae-42d4-af60-e2ca0f81359b&sktid=72f988bf-86f1-41af-91ab-2d7cd011db47&skt=2023-11-15T19%3A35%3A57Z&ske=2023-11-22T19%3A35%3A57Z&sks=b&skv=2021-06-08&sig=3m3jElRLso6//YheLb%2B21/LFxL9owor7Y0CJVtOXDLc%3D'],\n",
       "  'nir': ['https://sentinel2l2a01.blob.core.windows.net/sentinel2-l2/14/R/LP/2020/12/15/S2B_MSIL2A_20201215T171719_N0212_R112_T14RLP_20201220T100628.SAFE/GRANULE/L2A_T14RLP_A019729_20201215T171955/IMG_DATA/R10m/T14RLP_20201215T171719_B08_10m.tif?st=2023-11-15T00%3A04%3A08Z&se=2023-11-16T00%3A49%3A08Z&sp=rl&sv=2021-06-08&sr=c&skoid=c85c15d6-d1ae-42d4-af60-e2ca0f81359b&sktid=72f988bf-86f1-41af-91ab-2d7cd011db47&skt=2023-11-15T19%3A35%3A57Z&ske=2023-11-22T19%3A35%3A57Z&sks=b&skv=2021-06-08&sig=3m3jElRLso6//YheLb%2B21/LFxL9owor7Y0CJVtOXDLc%3D']},\n",
       " datetime.date(2021, 1, 4): {'red': ['https://sentinel2l2a01.blob.core.windows.net/sentinel2-l2/14/R/LP/2021/01/04/S2B_MSIL2A_20210104T171719_N0212_R112_T14RLP_20210121T141847.SAFE/GRANULE/L2A_T14RLP_A020015_20210104T171941/IMG_DATA/R10m/T14RLP_20210104T171719_B04_10m.tif?st=2023-11-15T00%3A04%3A08Z&se=2023-11-16T00%3A49%3A08Z&sp=rl&sv=2021-06-08&sr=c&skoid=c85c15d6-d1ae-42d4-af60-e2ca0f81359b&sktid=72f988bf-86f1-41af-91ab-2d7cd011db47&skt=2023-11-15T19%3A35%3A57Z&ske=2023-11-22T19%3A35%3A57Z&sks=b&skv=2021-06-08&sig=3m3jElRLso6//YheLb%2B21/LFxL9owor7Y0CJVtOXDLc%3D'],\n",
       "  'nir': ['https://sentinel2l2a01.blob.core.windows.net/sentinel2-l2/14/R/LP/2021/01/04/S2B_MSIL2A_20210104T171719_N0212_R112_T14RLP_20210121T141847.SAFE/GRANULE/L2A_T14RLP_A020015_20210104T171941/IMG_DATA/R10m/T14RLP_20210104T171719_B08_10m.tif?st=2023-11-15T00%3A04%3A08Z&se=2023-11-16T00%3A49%3A08Z&sp=rl&sv=2021-06-08&sr=c&skoid=c85c15d6-d1ae-42d4-af60-e2ca0f81359b&sktid=72f988bf-86f1-41af-91ab-2d7cd011db47&skt=2023-11-15T19%3A35%3A57Z&ske=2023-11-22T19%3A35%3A57Z&sks=b&skv=2021-06-08&sig=3m3jElRLso6//YheLb%2B21/LFxL9owor7Y0CJVtOXDLc%3D']},\n",
       " datetime.date(2021, 2, 3): {'red': ['https://sentinel2l2a01.blob.core.windows.net/sentinel2-l2/14/R/LP/2021/02/03/S2B_MSIL2A_20210203T171519_N0212_R112_T14RLP_20210204T094455.SAFE/GRANULE/L2A_T14RLP_A020444_20210203T172401/IMG_DATA/R10m/T14RLP_20210203T171519_B04_10m.tif?st=2023-11-15T00%3A04%3A08Z&se=2023-11-16T00%3A49%3A08Z&sp=rl&sv=2021-06-08&sr=c&skoid=c85c15d6-d1ae-42d4-af60-e2ca0f81359b&sktid=72f988bf-86f1-41af-91ab-2d7cd011db47&skt=2023-11-15T19%3A35%3A57Z&ske=2023-11-22T19%3A35%3A57Z&sks=b&skv=2021-06-08&sig=3m3jElRLso6//YheLb%2B21/LFxL9owor7Y0CJVtOXDLc%3D'],\n",
       "  'nir': ['https://sentinel2l2a01.blob.core.windows.net/sentinel2-l2/14/R/LP/2021/02/03/S2B_MSIL2A_20210203T171519_N0212_R112_T14RLP_20210204T094455.SAFE/GRANULE/L2A_T14RLP_A020444_20210203T172401/IMG_DATA/R10m/T14RLP_20210203T171519_B08_10m.tif?st=2023-11-15T00%3A04%3A08Z&se=2023-11-16T00%3A49%3A08Z&sp=rl&sv=2021-06-08&sr=c&skoid=c85c15d6-d1ae-42d4-af60-e2ca0f81359b&sktid=72f988bf-86f1-41af-91ab-2d7cd011db47&skt=2023-11-15T19%3A35%3A57Z&ske=2023-11-22T19%3A35%3A57Z&sks=b&skv=2021-06-08&sig=3m3jElRLso6//YheLb%2B21/LFxL9owor7Y0CJVtOXDLc%3D']},\n",
       " datetime.date(2021, 3, 30): {'red': ['https://sentinel2l2a01.blob.core.windows.net/sentinel2-l2/14/R/LP/2021/03/30/S2A_MSIL2A_20210330T170901_N0212_R112_T14RLP_20210331T063815.SAFE/GRANULE/L2A_T14RLP_A030139_20210330T171858/IMG_DATA/R10m/T14RLP_20210330T170901_B04_10m.tif?st=2023-11-15T00%3A04%3A08Z&se=2023-11-16T00%3A49%3A08Z&sp=rl&sv=2021-06-08&sr=c&skoid=c85c15d6-d1ae-42d4-af60-e2ca0f81359b&sktid=72f988bf-86f1-41af-91ab-2d7cd011db47&skt=2023-11-15T19%3A35%3A57Z&ske=2023-11-22T19%3A35%3A57Z&sks=b&skv=2021-06-08&sig=3m3jElRLso6//YheLb%2B21/LFxL9owor7Y0CJVtOXDLc%3D'],\n",
       "  'nir': ['https://sentinel2l2a01.blob.core.windows.net/sentinel2-l2/14/R/LP/2021/03/30/S2A_MSIL2A_20210330T170901_N0212_R112_T14RLP_20210331T063815.SAFE/GRANULE/L2A_T14RLP_A030139_20210330T171858/IMG_DATA/R10m/T14RLP_20210330T170901_B08_10m.tif?st=2023-11-15T00%3A04%3A08Z&se=2023-11-16T00%3A49%3A08Z&sp=rl&sv=2021-06-08&sr=c&skoid=c85c15d6-d1ae-42d4-af60-e2ca0f81359b&sktid=72f988bf-86f1-41af-91ab-2d7cd011db47&skt=2023-11-15T19%3A35%3A57Z&ske=2023-11-22T19%3A35%3A57Z&sks=b&skv=2021-06-08&sig=3m3jElRLso6//YheLb%2B21/LFxL9owor7Y0CJVtOXDLc%3D']},\n",
       " datetime.date(2021, 3, 25): {'red': ['https://sentinel2l2a01.blob.core.windows.net/sentinel2-l2/14/R/LP/2021/03/25/S2B_MSIL2A_20210325T170849_N0212_R112_T14RLP_20210326T085213.SAFE/GRANULE/L2A_T14RLP_A021159_20210325T172256/IMG_DATA/R10m/T14RLP_20210325T170849_B04_10m.tif?st=2023-11-15T00%3A04%3A08Z&se=2023-11-16T00%3A49%3A08Z&sp=rl&sv=2021-06-08&sr=c&skoid=c85c15d6-d1ae-42d4-af60-e2ca0f81359b&sktid=72f988bf-86f1-41af-91ab-2d7cd011db47&skt=2023-11-15T19%3A35%3A57Z&ske=2023-11-22T19%3A35%3A57Z&sks=b&skv=2021-06-08&sig=3m3jElRLso6//YheLb%2B21/LFxL9owor7Y0CJVtOXDLc%3D'],\n",
       "  'nir': ['https://sentinel2l2a01.blob.core.windows.net/sentinel2-l2/14/R/LP/2021/03/25/S2B_MSIL2A_20210325T170849_N0212_R112_T14RLP_20210326T085213.SAFE/GRANULE/L2A_T14RLP_A021159_20210325T172256/IMG_DATA/R10m/T14RLP_20210325T170849_B08_10m.tif?st=2023-11-15T00%3A04%3A08Z&se=2023-11-16T00%3A49%3A08Z&sp=rl&sv=2021-06-08&sr=c&skoid=c85c15d6-d1ae-42d4-af60-e2ca0f81359b&sktid=72f988bf-86f1-41af-91ab-2d7cd011db47&skt=2023-11-15T19%3A35%3A57Z&ske=2023-11-22T19%3A35%3A57Z&sks=b&skv=2021-06-08&sig=3m3jElRLso6//YheLb%2B21/LFxL9owor7Y0CJVtOXDLc%3D']},\n",
       " datetime.date(2021, 3, 20): {'red': ['https://sentinel2l2a01.blob.core.windows.net/sentinel2-l2/14/R/LP/2021/03/20/S2A_MSIL2A_20210320T171011_N0212_R112_T14RLP_20210321T162152.SAFE/GRANULE/L2A_T14RLP_A029996_20210320T171844/IMG_DATA/R10m/T14RLP_20210320T171011_B04_10m.tif?st=2023-11-15T00%3A04%3A08Z&se=2023-11-16T00%3A49%3A08Z&sp=rl&sv=2021-06-08&sr=c&skoid=c85c15d6-d1ae-42d4-af60-e2ca0f81359b&sktid=72f988bf-86f1-41af-91ab-2d7cd011db47&skt=2023-11-15T19%3A35%3A57Z&ske=2023-11-22T19%3A35%3A57Z&sks=b&skv=2021-06-08&sig=3m3jElRLso6//YheLb%2B21/LFxL9owor7Y0CJVtOXDLc%3D'],\n",
       "  'nir': ['https://sentinel2l2a01.blob.core.windows.net/sentinel2-l2/14/R/LP/2021/03/20/S2A_MSIL2A_20210320T171011_N0212_R112_T14RLP_20210321T162152.SAFE/GRANULE/L2A_T14RLP_A029996_20210320T171844/IMG_DATA/R10m/T14RLP_20210320T171011_B08_10m.tif?st=2023-11-15T00%3A04%3A08Z&se=2023-11-16T00%3A49%3A08Z&sp=rl&sv=2021-06-08&sr=c&skoid=c85c15d6-d1ae-42d4-af60-e2ca0f81359b&sktid=72f988bf-86f1-41af-91ab-2d7cd011db47&skt=2023-11-15T19%3A35%3A57Z&ske=2023-11-22T19%3A35%3A57Z&sks=b&skv=2021-06-08&sig=3m3jElRLso6//YheLb%2B21/LFxL9owor7Y0CJVtOXDLc%3D']},\n",
       " datetime.date(2021, 4, 24): {'red': ['https://sentinel2l2a01.blob.core.windows.net/sentinel2-l2/14/R/LP/2021/04/24/S2B_MSIL2A_20210424T170839_N0212_R112_T14RLP_20210425T224405.SAFE/GRANULE/L2A_T14RLP_A021588_20210424T171902/IMG_DATA/R10m/T14RLP_20210424T170839_B04_10m.tif?st=2023-11-15T00%3A04%3A08Z&se=2023-11-16T00%3A49%3A08Z&sp=rl&sv=2021-06-08&sr=c&skoid=c85c15d6-d1ae-42d4-af60-e2ca0f81359b&sktid=72f988bf-86f1-41af-91ab-2d7cd011db47&skt=2023-11-15T19%3A35%3A57Z&ske=2023-11-22T19%3A35%3A57Z&sks=b&skv=2021-06-08&sig=3m3jElRLso6//YheLb%2B21/LFxL9owor7Y0CJVtOXDLc%3D'],\n",
       "  'nir': ['https://sentinel2l2a01.blob.core.windows.net/sentinel2-l2/14/R/LP/2021/04/24/S2B_MSIL2A_20210424T170839_N0212_R112_T14RLP_20210425T224405.SAFE/GRANULE/L2A_T14RLP_A021588_20210424T171902/IMG_DATA/R10m/T14RLP_20210424T170839_B08_10m.tif?st=2023-11-15T00%3A04%3A08Z&se=2023-11-16T00%3A49%3A08Z&sp=rl&sv=2021-06-08&sr=c&skoid=c85c15d6-d1ae-42d4-af60-e2ca0f81359b&sktid=72f988bf-86f1-41af-91ab-2d7cd011db47&skt=2023-11-15T19%3A35%3A57Z&ske=2023-11-22T19%3A35%3A57Z&sks=b&skv=2021-06-08&sig=3m3jElRLso6//YheLb%2B21/LFxL9owor7Y0CJVtOXDLc%3D']},\n",
       " datetime.date(2021, 4, 9): {'red': ['https://sentinel2l2a01.blob.core.windows.net/sentinel2-l2/14/R/LP/2021/04/09/S2A_MSIL2A_20210409T170851_N0212_R112_T14RLP_20210411T044704.SAFE/GRANULE/L2A_T14RLP_A030282_20210409T171508/IMG_DATA/R10m/T14RLP_20210409T170851_B04_10m.tif?st=2023-11-15T00%3A04%3A08Z&se=2023-11-16T00%3A49%3A08Z&sp=rl&sv=2021-06-08&sr=c&skoid=c85c15d6-d1ae-42d4-af60-e2ca0f81359b&sktid=72f988bf-86f1-41af-91ab-2d7cd011db47&skt=2023-11-15T19%3A35%3A57Z&ske=2023-11-22T19%3A35%3A57Z&sks=b&skv=2021-06-08&sig=3m3jElRLso6//YheLb%2B21/LFxL9owor7Y0CJVtOXDLc%3D'],\n",
       "  'nir': ['https://sentinel2l2a01.blob.core.windows.net/sentinel2-l2/14/R/LP/2021/04/09/S2A_MSIL2A_20210409T170851_N0212_R112_T14RLP_20210411T044704.SAFE/GRANULE/L2A_T14RLP_A030282_20210409T171508/IMG_DATA/R10m/T14RLP_20210409T170851_B08_10m.tif?st=2023-11-15T00%3A04%3A08Z&se=2023-11-16T00%3A49%3A08Z&sp=rl&sv=2021-06-08&sr=c&skoid=c85c15d6-d1ae-42d4-af60-e2ca0f81359b&sktid=72f988bf-86f1-41af-91ab-2d7cd011db47&skt=2023-11-15T19%3A35%3A57Z&ske=2023-11-22T19%3A35%3A57Z&sks=b&skv=2021-06-08&sig=3m3jElRLso6//YheLb%2B21/LFxL9owor7Y0CJVtOXDLc%3D']},\n",
       " datetime.date(2021, 5, 9): {'red': ['https://sentinel2l2a01.blob.core.windows.net/sentinel2-l2/14/R/LP/2021/05/09/S2A_MSIL2A_20210509T170851_N0212_R112_T14RLP_20210510T125817.SAFE/GRANULE/L2A_T14RLP_A030711_20210509T171538/IMG_DATA/R10m/T14RLP_20210509T170851_B04_10m.tif?st=2023-11-15T00%3A04%3A08Z&se=2023-11-16T00%3A49%3A08Z&sp=rl&sv=2021-06-08&sr=c&skoid=c85c15d6-d1ae-42d4-af60-e2ca0f81359b&sktid=72f988bf-86f1-41af-91ab-2d7cd011db47&skt=2023-11-15T19%3A35%3A57Z&ske=2023-11-22T19%3A35%3A57Z&sks=b&skv=2021-06-08&sig=3m3jElRLso6//YheLb%2B21/LFxL9owor7Y0CJVtOXDLc%3D'],\n",
       "  'nir': ['https://sentinel2l2a01.blob.core.windows.net/sentinel2-l2/14/R/LP/2021/05/09/S2A_MSIL2A_20210509T170851_N0212_R112_T14RLP_20210510T125817.SAFE/GRANULE/L2A_T14RLP_A030711_20210509T171538/IMG_DATA/R10m/T14RLP_20210509T170851_B08_10m.tif?st=2023-11-15T00%3A04%3A08Z&se=2023-11-16T00%3A49%3A08Z&sp=rl&sv=2021-06-08&sr=c&skoid=c85c15d6-d1ae-42d4-af60-e2ca0f81359b&sktid=72f988bf-86f1-41af-91ab-2d7cd011db47&skt=2023-11-15T19%3A35%3A57Z&ske=2023-11-22T19%3A35%3A57Z&sks=b&skv=2021-06-08&sig=3m3jElRLso6//YheLb%2B21/LFxL9owor7Y0CJVtOXDLc%3D']},\n",
       " datetime.date(2021, 5, 4): {'red': ['https://sentinel2l2a01.blob.core.windows.net/sentinel2-l2/14/R/LP/2021/05/04/S2B_MSIL2A_20210504T170849_N0212_R112_T14RLP_20210505T060121.SAFE/GRANULE/L2A_T14RLP_A021731_20210504T171905/IMG_DATA/R10m/T14RLP_20210504T170849_B04_10m.tif?st=2023-11-15T00%3A04%3A08Z&se=2023-11-16T00%3A49%3A08Z&sp=rl&sv=2021-06-08&sr=c&skoid=c85c15d6-d1ae-42d4-af60-e2ca0f81359b&sktid=72f988bf-86f1-41af-91ab-2d7cd011db47&skt=2023-11-15T19%3A35%3A57Z&ske=2023-11-22T19%3A35%3A57Z&sks=b&skv=2021-06-08&sig=3m3jElRLso6//YheLb%2B21/LFxL9owor7Y0CJVtOXDLc%3D'],\n",
       "  'nir': ['https://sentinel2l2a01.blob.core.windows.net/sentinel2-l2/14/R/LP/2021/05/04/S2B_MSIL2A_20210504T170849_N0212_R112_T14RLP_20210505T060121.SAFE/GRANULE/L2A_T14RLP_A021731_20210504T171905/IMG_DATA/R10m/T14RLP_20210504T170849_B08_10m.tif?st=2023-11-15T00%3A04%3A08Z&se=2023-11-16T00%3A49%3A08Z&sp=rl&sv=2021-06-08&sr=c&skoid=c85c15d6-d1ae-42d4-af60-e2ca0f81359b&sktid=72f988bf-86f1-41af-91ab-2d7cd011db47&skt=2023-11-15T19%3A35%3A57Z&ske=2023-11-22T19%3A35%3A57Z&sks=b&skv=2021-06-08&sig=3m3jElRLso6//YheLb%2B21/LFxL9owor7Y0CJVtOXDLc%3D']},\n",
       " datetime.date(2021, 6, 18): {'red': ['https://sentinel2l2a01.blob.core.windows.net/sentinel2-l2/14/R/LP/2021/06/18/S2A_MSIL2A_20210618T170851_N0212_R112_T14RLP_20210619T041422.SAFE/GRANULE/L2A_T14RLP_A031283_20210618T172548/IMG_DATA/R10m/T14RLP_20210618T170851_B04_10m.tif?st=2023-11-15T00%3A04%3A08Z&se=2023-11-16T00%3A49%3A08Z&sp=rl&sv=2021-06-08&sr=c&skoid=c85c15d6-d1ae-42d4-af60-e2ca0f81359b&sktid=72f988bf-86f1-41af-91ab-2d7cd011db47&skt=2023-11-15T19%3A35%3A57Z&ske=2023-11-22T19%3A35%3A57Z&sks=b&skv=2021-06-08&sig=3m3jElRLso6//YheLb%2B21/LFxL9owor7Y0CJVtOXDLc%3D'],\n",
       "  'nir': ['https://sentinel2l2a01.blob.core.windows.net/sentinel2-l2/14/R/LP/2021/06/18/S2A_MSIL2A_20210618T170851_N0212_R112_T14RLP_20210619T041422.SAFE/GRANULE/L2A_T14RLP_A031283_20210618T172548/IMG_DATA/R10m/T14RLP_20210618T170851_B08_10m.tif?st=2023-11-15T00%3A04%3A08Z&se=2023-11-16T00%3A49%3A08Z&sp=rl&sv=2021-06-08&sr=c&skoid=c85c15d6-d1ae-42d4-af60-e2ca0f81359b&sktid=72f988bf-86f1-41af-91ab-2d7cd011db47&skt=2023-11-15T19%3A35%3A57Z&ske=2023-11-22T19%3A35%3A57Z&sks=b&skv=2021-06-08&sig=3m3jElRLso6//YheLb%2B21/LFxL9owor7Y0CJVtOXDLc%3D']},\n",
       " datetime.date(2021, 6, 13): {'red': ['https://sentinel2l2a01.blob.core.windows.net/sentinel2-l2/14/R/LP/2021/06/13/S2B_MSIL2A_20210613T170849_N0212_R112_T14RLP_20210615T054515.SAFE/GRANULE/L2A_T14RLP_A022303_20210613T171949/IMG_DATA/R10m/T14RLP_20210613T170849_B04_10m.tif?st=2023-11-15T00%3A04%3A08Z&se=2023-11-16T00%3A49%3A08Z&sp=rl&sv=2021-06-08&sr=c&skoid=c85c15d6-d1ae-42d4-af60-e2ca0f81359b&sktid=72f988bf-86f1-41af-91ab-2d7cd011db47&skt=2023-11-15T19%3A35%3A57Z&ske=2023-11-22T19%3A35%3A57Z&sks=b&skv=2021-06-08&sig=3m3jElRLso6//YheLb%2B21/LFxL9owor7Y0CJVtOXDLc%3D'],\n",
       "  'nir': ['https://sentinel2l2a01.blob.core.windows.net/sentinel2-l2/14/R/LP/2021/06/13/S2B_MSIL2A_20210613T170849_N0212_R112_T14RLP_20210615T054515.SAFE/GRANULE/L2A_T14RLP_A022303_20210613T171949/IMG_DATA/R10m/T14RLP_20210613T170849_B08_10m.tif?st=2023-11-15T00%3A04%3A08Z&se=2023-11-16T00%3A49%3A08Z&sp=rl&sv=2021-06-08&sr=c&skoid=c85c15d6-d1ae-42d4-af60-e2ca0f81359b&sktid=72f988bf-86f1-41af-91ab-2d7cd011db47&skt=2023-11-15T19%3A35%3A57Z&ske=2023-11-22T19%3A35%3A57Z&sks=b&skv=2021-06-08&sig=3m3jElRLso6//YheLb%2B21/LFxL9owor7Y0CJVtOXDLc%3D']},\n",
       " datetime.date(2021, 7, 23): {'red': ['https://sentinel2l2a01.blob.core.windows.net/sentinel2-l2/14/R/LP/2021/07/23/S2B_MSIL2A_20210723T170849_N0300_R112_T14RLP_20210724T064927.SAFE/GRANULE/L2A_T14RLP_A022875_20210723T171418/IMG_DATA/R10m/T14RLP_20210723T170849_B04_10m.tif?st=2023-11-15T00%3A04%3A08Z&se=2023-11-16T00%3A49%3A08Z&sp=rl&sv=2021-06-08&sr=c&skoid=c85c15d6-d1ae-42d4-af60-e2ca0f81359b&sktid=72f988bf-86f1-41af-91ab-2d7cd011db47&skt=2023-11-15T19%3A35%3A57Z&ske=2023-11-22T19%3A35%3A57Z&sks=b&skv=2021-06-08&sig=3m3jElRLso6//YheLb%2B21/LFxL9owor7Y0CJVtOXDLc%3D'],\n",
       "  'nir': ['https://sentinel2l2a01.blob.core.windows.net/sentinel2-l2/14/R/LP/2021/07/23/S2B_MSIL2A_20210723T170849_N0300_R112_T14RLP_20210724T064927.SAFE/GRANULE/L2A_T14RLP_A022875_20210723T171418/IMG_DATA/R10m/T14RLP_20210723T170849_B08_10m.tif?st=2023-11-15T00%3A04%3A08Z&se=2023-11-16T00%3A49%3A08Z&sp=rl&sv=2021-06-08&sr=c&skoid=c85c15d6-d1ae-42d4-af60-e2ca0f81359b&sktid=72f988bf-86f1-41af-91ab-2d7cd011db47&skt=2023-11-15T19%3A35%3A57Z&ske=2023-11-22T19%3A35%3A57Z&sks=b&skv=2021-06-08&sig=3m3jElRLso6//YheLb%2B21/LFxL9owor7Y0CJVtOXDLc%3D']},\n",
       " datetime.date(2021, 7, 18): {'red': ['https://sentinel2l2a01.blob.core.windows.net/sentinel2-l2/14/R/LP/2021/07/18/S2A_MSIL2A_20210718T170851_N0300_R112_T14RLP_20210719T041340.SAFE/GRANULE/L2A_T14RLP_A031712_20210718T171534/IMG_DATA/R10m/T14RLP_20210718T170851_B04_10m.tif?st=2023-11-15T00%3A04%3A08Z&se=2023-11-16T00%3A49%3A08Z&sp=rl&sv=2021-06-08&sr=c&skoid=c85c15d6-d1ae-42d4-af60-e2ca0f81359b&sktid=72f988bf-86f1-41af-91ab-2d7cd011db47&skt=2023-11-15T19%3A35%3A57Z&ske=2023-11-22T19%3A35%3A57Z&sks=b&skv=2021-06-08&sig=3m3jElRLso6//YheLb%2B21/LFxL9owor7Y0CJVtOXDLc%3D'],\n",
       "  'nir': ['https://sentinel2l2a01.blob.core.windows.net/sentinel2-l2/14/R/LP/2021/07/18/S2A_MSIL2A_20210718T170851_N0300_R112_T14RLP_20210719T041340.SAFE/GRANULE/L2A_T14RLP_A031712_20210718T171534/IMG_DATA/R10m/T14RLP_20210718T170851_B08_10m.tif?st=2023-11-15T00%3A04%3A08Z&se=2023-11-16T00%3A49%3A08Z&sp=rl&sv=2021-06-08&sr=c&skoid=c85c15d6-d1ae-42d4-af60-e2ca0f81359b&sktid=72f988bf-86f1-41af-91ab-2d7cd011db47&skt=2023-11-15T19%3A35%3A57Z&ske=2023-11-22T19%3A35%3A57Z&sks=b&skv=2021-06-08&sig=3m3jElRLso6//YheLb%2B21/LFxL9owor7Y0CJVtOXDLc%3D']},\n",
       " datetime.date(2021, 8, 22): {'red': ['https://sentinel2l2a01.blob.core.windows.net/sentinel2-l2/14/R/LP/2021/08/22/S2B_MSIL2A_20210822T170849_N0300_R112_T14RLP_20210823T050356.SAFE/GRANULE/L2A_T14RLP_A023304_20210822T171856/IMG_DATA/R10m/T14RLP_20210822T170849_B04_10m.tif?st=2023-11-15T00%3A04%3A08Z&se=2023-11-16T00%3A49%3A08Z&sp=rl&sv=2021-06-08&sr=c&skoid=c85c15d6-d1ae-42d4-af60-e2ca0f81359b&sktid=72f988bf-86f1-41af-91ab-2d7cd011db47&skt=2023-11-15T19%3A35%3A57Z&ske=2023-11-22T19%3A35%3A57Z&sks=b&skv=2021-06-08&sig=3m3jElRLso6//YheLb%2B21/LFxL9owor7Y0CJVtOXDLc%3D'],\n",
       "  'nir': ['https://sentinel2l2a01.blob.core.windows.net/sentinel2-l2/14/R/LP/2021/08/22/S2B_MSIL2A_20210822T170849_N0300_R112_T14RLP_20210823T050356.SAFE/GRANULE/L2A_T14RLP_A023304_20210822T171856/IMG_DATA/R10m/T14RLP_20210822T170849_B08_10m.tif?st=2023-11-15T00%3A04%3A08Z&se=2023-11-16T00%3A49%3A08Z&sp=rl&sv=2021-06-08&sr=c&skoid=c85c15d6-d1ae-42d4-af60-e2ca0f81359b&sktid=72f988bf-86f1-41af-91ab-2d7cd011db47&skt=2023-11-15T19%3A35%3A57Z&ske=2023-11-22T19%3A35%3A57Z&sks=b&skv=2021-06-08&sig=3m3jElRLso6//YheLb%2B21/LFxL9owor7Y0CJVtOXDLc%3D']},\n",
       " datetime.date(2021, 8, 12): {'red': ['https://sentinel2l2a01.blob.core.windows.net/sentinel2-l2/14/R/LP/2021/08/12/S2B_MSIL2A_20210812T170849_N0300_R112_T14RLP_20210813T031020.SAFE/GRANULE/L2A_T14RLP_A023161_20210812T171908/IMG_DATA/R10m/T14RLP_20210812T170849_B04_10m.tif?st=2023-11-15T00%3A04%3A08Z&se=2023-11-16T00%3A49%3A08Z&sp=rl&sv=2021-06-08&sr=c&skoid=c85c15d6-d1ae-42d4-af60-e2ca0f81359b&sktid=72f988bf-86f1-41af-91ab-2d7cd011db47&skt=2023-11-15T19%3A35%3A57Z&ske=2023-11-22T19%3A35%3A57Z&sks=b&skv=2021-06-08&sig=3m3jElRLso6//YheLb%2B21/LFxL9owor7Y0CJVtOXDLc%3D'],\n",
       "  'nir': ['https://sentinel2l2a01.blob.core.windows.net/sentinel2-l2/14/R/LP/2021/08/12/S2B_MSIL2A_20210812T170849_N0300_R112_T14RLP_20210813T031020.SAFE/GRANULE/L2A_T14RLP_A023161_20210812T171908/IMG_DATA/R10m/T14RLP_20210812T170849_B08_10m.tif?st=2023-11-15T00%3A04%3A08Z&se=2023-11-16T00%3A49%3A08Z&sp=rl&sv=2021-06-08&sr=c&skoid=c85c15d6-d1ae-42d4-af60-e2ca0f81359b&sktid=72f988bf-86f1-41af-91ab-2d7cd011db47&skt=2023-11-15T19%3A35%3A57Z&ske=2023-11-22T19%3A35%3A57Z&sks=b&skv=2021-06-08&sig=3m3jElRLso6//YheLb%2B21/LFxL9owor7Y0CJVtOXDLc%3D']},\n",
       " datetime.date(2021, 9, 21): {'red': ['https://sentinel2l2a01.blob.core.windows.net/sentinel2-l2/14/R/LP/2021/09/21/S2B_MSIL2A_20210921T170919_N0300_R112_T14RLP_20210922T091001.SAFE/GRANULE/L2A_T14RLP_A023733_20210921T172520/IMG_DATA/R10m/T14RLP_20210921T170919_B04_10m.tif?st=2023-11-15T00%3A04%3A08Z&se=2023-11-16T00%3A49%3A08Z&sp=rl&sv=2021-06-08&sr=c&skoid=c85c15d6-d1ae-42d4-af60-e2ca0f81359b&sktid=72f988bf-86f1-41af-91ab-2d7cd011db47&skt=2023-11-15T19%3A35%3A57Z&ske=2023-11-22T19%3A35%3A57Z&sks=b&skv=2021-06-08&sig=3m3jElRLso6//YheLb%2B21/LFxL9owor7Y0CJVtOXDLc%3D'],\n",
       "  'nir': ['https://sentinel2l2a01.blob.core.windows.net/sentinel2-l2/14/R/LP/2021/09/21/S2B_MSIL2A_20210921T170919_N0300_R112_T14RLP_20210922T091001.SAFE/GRANULE/L2A_T14RLP_A023733_20210921T172520/IMG_DATA/R10m/T14RLP_20210921T170919_B08_10m.tif?st=2023-11-15T00%3A04%3A08Z&se=2023-11-16T00%3A49%3A08Z&sp=rl&sv=2021-06-08&sr=c&skoid=c85c15d6-d1ae-42d4-af60-e2ca0f81359b&sktid=72f988bf-86f1-41af-91ab-2d7cd011db47&skt=2023-11-15T19%3A35%3A57Z&ske=2023-11-22T19%3A35%3A57Z&sks=b&skv=2021-06-08&sig=3m3jElRLso6//YheLb%2B21/LFxL9owor7Y0CJVtOXDLc%3D']},\n",
       " datetime.date(2021, 9, 1): {'red': ['https://sentinel2l2a01.blob.core.windows.net/sentinel2-l2/14/R/LP/2021/09/01/S2B_MSIL2A_20210901T170849_N0300_R112_T14RLP_20210902T024626.SAFE/GRANULE/L2A_T14RLP_A023447_20210901T171854/IMG_DATA/R10m/T14RLP_20210901T170849_B04_10m.tif?st=2023-11-15T00%3A04%3A08Z&se=2023-11-16T00%3A49%3A08Z&sp=rl&sv=2021-06-08&sr=c&skoid=c85c15d6-d1ae-42d4-af60-e2ca0f81359b&sktid=72f988bf-86f1-41af-91ab-2d7cd011db47&skt=2023-11-15T19%3A35%3A57Z&ske=2023-11-22T19%3A35%3A57Z&sks=b&skv=2021-06-08&sig=3m3jElRLso6//YheLb%2B21/LFxL9owor7Y0CJVtOXDLc%3D'],\n",
       "  'nir': ['https://sentinel2l2a01.blob.core.windows.net/sentinel2-l2/14/R/LP/2021/09/01/S2B_MSIL2A_20210901T170849_N0300_R112_T14RLP_20210902T024626.SAFE/GRANULE/L2A_T14RLP_A023447_20210901T171854/IMG_DATA/R10m/T14RLP_20210901T170849_B08_10m.tif?st=2023-11-15T00%3A04%3A08Z&se=2023-11-16T00%3A49%3A08Z&sp=rl&sv=2021-06-08&sr=c&skoid=c85c15d6-d1ae-42d4-af60-e2ca0f81359b&sktid=72f988bf-86f1-41af-91ab-2d7cd011db47&skt=2023-11-15T19%3A35%3A57Z&ske=2023-11-22T19%3A35%3A57Z&sks=b&skv=2021-06-08&sig=3m3jElRLso6//YheLb%2B21/LFxL9owor7Y0CJVtOXDLc%3D']},\n",
       " datetime.date(2021, 10, 6): {'red': ['https://sentinel2l2a01.blob.core.windows.net/sentinel2-l2/14/R/LP/2021/10/06/S2A_MSIL2A_20211006T171211_N0300_R112_T14RLP_20211007T052931.SAFE/GRANULE/L2A_T14RLP_A032856_20211006T172313/IMG_DATA/R10m/T14RLP_20211006T171211_B04_10m.tif?st=2023-11-15T00%3A04%3A08Z&se=2023-11-16T00%3A49%3A08Z&sp=rl&sv=2021-06-08&sr=c&skoid=c85c15d6-d1ae-42d4-af60-e2ca0f81359b&sktid=72f988bf-86f1-41af-91ab-2d7cd011db47&skt=2023-11-15T19%3A35%3A57Z&ske=2023-11-22T19%3A35%3A57Z&sks=b&skv=2021-06-08&sig=3m3jElRLso6//YheLb%2B21/LFxL9owor7Y0CJVtOXDLc%3D'],\n",
       "  'nir': ['https://sentinel2l2a01.blob.core.windows.net/sentinel2-l2/14/R/LP/2021/10/06/S2A_MSIL2A_20211006T171211_N0300_R112_T14RLP_20211007T052931.SAFE/GRANULE/L2A_T14RLP_A032856_20211006T172313/IMG_DATA/R10m/T14RLP_20211006T171211_B08_10m.tif?st=2023-11-15T00%3A04%3A08Z&se=2023-11-16T00%3A49%3A08Z&sp=rl&sv=2021-06-08&sr=c&skoid=c85c15d6-d1ae-42d4-af60-e2ca0f81359b&sktid=72f988bf-86f1-41af-91ab-2d7cd011db47&skt=2023-11-15T19%3A35%3A57Z&ske=2023-11-22T19%3A35%3A57Z&sks=b&skv=2021-06-08&sig=3m3jElRLso6//YheLb%2B21/LFxL9owor7Y0CJVtOXDLc%3D']},\n",
       " datetime.date(2021, 11, 20): {'red': ['https://sentinel2l2a01.blob.core.windows.net/sentinel2-l2/14/R/LP/2021/11/20/S2B_MSIL2A_20211120T171619_N0300_R112_T14RLP_20211121T051919.SAFE/GRANULE/L2A_T14RLP_A024591_20211120T172558/IMG_DATA/R10m/T14RLP_20211120T171619_B04_10m.tif?st=2023-11-15T00%3A04%3A08Z&se=2023-11-16T00%3A49%3A08Z&sp=rl&sv=2021-06-08&sr=c&skoid=c85c15d6-d1ae-42d4-af60-e2ca0f81359b&sktid=72f988bf-86f1-41af-91ab-2d7cd011db47&skt=2023-11-15T19%3A35%3A57Z&ske=2023-11-22T19%3A35%3A57Z&sks=b&skv=2021-06-08&sig=3m3jElRLso6//YheLb%2B21/LFxL9owor7Y0CJVtOXDLc%3D'],\n",
       "  'nir': ['https://sentinel2l2a01.blob.core.windows.net/sentinel2-l2/14/R/LP/2021/11/20/S2B_MSIL2A_20211120T171619_N0300_R112_T14RLP_20211121T051919.SAFE/GRANULE/L2A_T14RLP_A024591_20211120T172558/IMG_DATA/R10m/T14RLP_20211120T171619_B08_10m.tif?st=2023-11-15T00%3A04%3A08Z&se=2023-11-16T00%3A49%3A08Z&sp=rl&sv=2021-06-08&sr=c&skoid=c85c15d6-d1ae-42d4-af60-e2ca0f81359b&sktid=72f988bf-86f1-41af-91ab-2d7cd011db47&skt=2023-11-15T19%3A35%3A57Z&ske=2023-11-22T19%3A35%3A57Z&sks=b&skv=2021-06-08&sig=3m3jElRLso6//YheLb%2B21/LFxL9owor7Y0CJVtOXDLc%3D']},\n",
       " datetime.date(2021, 11, 15): {'red': ['https://sentinel2l2a01.blob.core.windows.net/sentinel2-l2/14/R/LP/2021/11/15/S2A_MSIL2A_20211115T171601_N0300_R112_T14RLP_20211116T032220.SAFE/GRANULE/L2A_T14RLP_A033428_20211115T172218/IMG_DATA/R10m/T14RLP_20211115T171601_B04_10m.tif?st=2023-11-15T00%3A04%3A08Z&se=2023-11-16T00%3A49%3A08Z&sp=rl&sv=2021-06-08&sr=c&skoid=c85c15d6-d1ae-42d4-af60-e2ca0f81359b&sktid=72f988bf-86f1-41af-91ab-2d7cd011db47&skt=2023-11-15T19%3A35%3A57Z&ske=2023-11-22T19%3A35%3A57Z&sks=b&skv=2021-06-08&sig=3m3jElRLso6//YheLb%2B21/LFxL9owor7Y0CJVtOXDLc%3D'],\n",
       "  'nir': ['https://sentinel2l2a01.blob.core.windows.net/sentinel2-l2/14/R/LP/2021/11/15/S2A_MSIL2A_20211115T171601_N0300_R112_T14RLP_20211116T032220.SAFE/GRANULE/L2A_T14RLP_A033428_20211115T172218/IMG_DATA/R10m/T14RLP_20211115T171601_B08_10m.tif?st=2023-11-15T00%3A04%3A08Z&se=2023-11-16T00%3A49%3A08Z&sp=rl&sv=2021-06-08&sr=c&skoid=c85c15d6-d1ae-42d4-af60-e2ca0f81359b&sktid=72f988bf-86f1-41af-91ab-2d7cd011db47&skt=2023-11-15T19%3A35%3A57Z&ske=2023-11-22T19%3A35%3A57Z&sks=b&skv=2021-06-08&sig=3m3jElRLso6//YheLb%2B21/LFxL9owor7Y0CJVtOXDLc%3D']},\n",
       " datetime.date(2021, 11, 10): {'red': ['https://sentinel2l2a01.blob.core.windows.net/sentinel2-l2/14/R/LP/2021/11/10/S2B_MSIL2A_20211110T171539_N0300_R112_T14RLP_20211111T044336.SAFE/GRANULE/L2A_T14RLP_A024448_20211110T172436/IMG_DATA/R10m/T14RLP_20211110T171539_B04_10m.tif?st=2023-11-15T00%3A04%3A08Z&se=2023-11-16T00%3A49%3A08Z&sp=rl&sv=2021-06-08&sr=c&skoid=c85c15d6-d1ae-42d4-af60-e2ca0f81359b&sktid=72f988bf-86f1-41af-91ab-2d7cd011db47&skt=2023-11-15T19%3A35%3A57Z&ske=2023-11-22T19%3A35%3A57Z&sks=b&skv=2021-06-08&sig=3m3jElRLso6//YheLb%2B21/LFxL9owor7Y0CJVtOXDLc%3D'],\n",
       "  'nir': ['https://sentinel2l2a01.blob.core.windows.net/sentinel2-l2/14/R/LP/2021/11/10/S2B_MSIL2A_20211110T171539_N0300_R112_T14RLP_20211111T044336.SAFE/GRANULE/L2A_T14RLP_A024448_20211110T172436/IMG_DATA/R10m/T14RLP_20211110T171539_B08_10m.tif?st=2023-11-15T00%3A04%3A08Z&se=2023-11-16T00%3A49%3A08Z&sp=rl&sv=2021-06-08&sr=c&skoid=c85c15d6-d1ae-42d4-af60-e2ca0f81359b&sktid=72f988bf-86f1-41af-91ab-2d7cd011db47&skt=2023-11-15T19%3A35%3A57Z&ske=2023-11-22T19%3A35%3A57Z&sks=b&skv=2021-06-08&sig=3m3jElRLso6//YheLb%2B21/LFxL9owor7Y0CJVtOXDLc%3D']},\n",
       " datetime.date(2021, 12, 30): {'red': ['https://sentinel2l2a01.blob.core.windows.net/sentinel2-l2/14/R/LP/2021/12/30/S2B_MSIL2A_20211230T171719_N0300_R112_T14RLP_20211231T200221.SAFE/GRANULE/L2A_T14RLP_A025163_20211230T171941/IMG_DATA/R10m/T14RLP_20211230T171719_B04_10m.tif?st=2023-11-15T00%3A04%3A08Z&se=2023-11-16T00%3A49%3A08Z&sp=rl&sv=2021-06-08&sr=c&skoid=c85c15d6-d1ae-42d4-af60-e2ca0f81359b&sktid=72f988bf-86f1-41af-91ab-2d7cd011db47&skt=2023-11-15T19%3A35%3A57Z&ske=2023-11-22T19%3A35%3A57Z&sks=b&skv=2021-06-08&sig=3m3jElRLso6//YheLb%2B21/LFxL9owor7Y0CJVtOXDLc%3D'],\n",
       "  'nir': ['https://sentinel2l2a01.blob.core.windows.net/sentinel2-l2/14/R/LP/2021/12/30/S2B_MSIL2A_20211230T171719_N0300_R112_T14RLP_20211231T200221.SAFE/GRANULE/L2A_T14RLP_A025163_20211230T171941/IMG_DATA/R10m/T14RLP_20211230T171719_B08_10m.tif?st=2023-11-15T00%3A04%3A08Z&se=2023-11-16T00%3A49%3A08Z&sp=rl&sv=2021-06-08&sr=c&skoid=c85c15d6-d1ae-42d4-af60-e2ca0f81359b&sktid=72f988bf-86f1-41af-91ab-2d7cd011db47&skt=2023-11-15T19%3A35%3A57Z&ske=2023-11-22T19%3A35%3A57Z&sks=b&skv=2021-06-08&sig=3m3jElRLso6//YheLb%2B21/LFxL9owor7Y0CJVtOXDLc%3D']},\n",
       " datetime.date(2021, 12, 25): {'red': ['https://sentinel2l2a01.blob.core.windows.net/sentinel2-l2/14/R/LP/2021/12/25/S2A_MSIL2A_20211225T171731_N0400_R112_T14RLP_20230130T143349.SAFE/GRANULE/L2A_T14RLP_A034000_20211225T172413/IMG_DATA/R10m/T14RLP_20211225T171731_B04_10m.tif?st=2023-11-15T00%3A04%3A08Z&se=2023-11-16T00%3A49%3A08Z&sp=rl&sv=2021-06-08&sr=c&skoid=c85c15d6-d1ae-42d4-af60-e2ca0f81359b&sktid=72f988bf-86f1-41af-91ab-2d7cd011db47&skt=2023-11-15T19%3A35%3A57Z&ske=2023-11-22T19%3A35%3A57Z&sks=b&skv=2021-06-08&sig=3m3jElRLso6//YheLb%2B21/LFxL9owor7Y0CJVtOXDLc%3D',\n",
       "   'https://sentinel2l2a01.blob.core.windows.net/sentinel2-l2/14/R/LP/2021/12/25/S2A_MSIL2A_20211225T171731_N0300_R112_T14RLP_20211226T031322.SAFE/GRANULE/L2A_T14RLP_A034000_20211225T172413/IMG_DATA/R10m/T14RLP_20211225T171731_B04_10m.tif?st=2023-11-15T00%3A04%3A08Z&se=2023-11-16T00%3A49%3A08Z&sp=rl&sv=2021-06-08&sr=c&skoid=c85c15d6-d1ae-42d4-af60-e2ca0f81359b&sktid=72f988bf-86f1-41af-91ab-2d7cd011db47&skt=2023-11-15T19%3A35%3A57Z&ske=2023-11-22T19%3A35%3A57Z&sks=b&skv=2021-06-08&sig=3m3jElRLso6//YheLb%2B21/LFxL9owor7Y0CJVtOXDLc%3D'],\n",
       "  'nir': ['https://sentinel2l2a01.blob.core.windows.net/sentinel2-l2/14/R/LP/2021/12/25/S2A_MSIL2A_20211225T171731_N0400_R112_T14RLP_20230130T143349.SAFE/GRANULE/L2A_T14RLP_A034000_20211225T172413/IMG_DATA/R10m/T14RLP_20211225T171731_B08_10m.tif?st=2023-11-15T00%3A04%3A08Z&se=2023-11-16T00%3A49%3A08Z&sp=rl&sv=2021-06-08&sr=c&skoid=c85c15d6-d1ae-42d4-af60-e2ca0f81359b&sktid=72f988bf-86f1-41af-91ab-2d7cd011db47&skt=2023-11-15T19%3A35%3A57Z&ske=2023-11-22T19%3A35%3A57Z&sks=b&skv=2021-06-08&sig=3m3jElRLso6//YheLb%2B21/LFxL9owor7Y0CJVtOXDLc%3D',\n",
       "   'https://sentinel2l2a01.blob.core.windows.net/sentinel2-l2/14/R/LP/2021/12/25/S2A_MSIL2A_20211225T171731_N0300_R112_T14RLP_20211226T031322.SAFE/GRANULE/L2A_T14RLP_A034000_20211225T172413/IMG_DATA/R10m/T14RLP_20211225T171731_B08_10m.tif?st=2023-11-15T00%3A04%3A08Z&se=2023-11-16T00%3A49%3A08Z&sp=rl&sv=2021-06-08&sr=c&skoid=c85c15d6-d1ae-42d4-af60-e2ca0f81359b&sktid=72f988bf-86f1-41af-91ab-2d7cd011db47&skt=2023-11-15T19%3A35%3A57Z&ske=2023-11-22T19%3A35%3A57Z&sks=b&skv=2021-06-08&sig=3m3jElRLso6//YheLb%2B21/LFxL9owor7Y0CJVtOXDLc%3D']},\n",
       " datetime.date(2021, 12, 20): {'red': ['https://sentinel2l2a01.blob.core.windows.net/sentinel2-l2/14/R/LP/2021/12/20/S2B_MSIL2A_20211220T171719_N0300_R112_T14RLP_20211221T170038.SAFE/GRANULE/L2A_T14RLP_A025020_20211220T171946/IMG_DATA/R10m/T14RLP_20211220T171719_B04_10m.tif?st=2023-11-15T00%3A04%3A08Z&se=2023-11-16T00%3A49%3A08Z&sp=rl&sv=2021-06-08&sr=c&skoid=c85c15d6-d1ae-42d4-af60-e2ca0f81359b&sktid=72f988bf-86f1-41af-91ab-2d7cd011db47&skt=2023-11-15T19%3A35%3A57Z&ske=2023-11-22T19%3A35%3A57Z&sks=b&skv=2021-06-08&sig=3m3jElRLso6//YheLb%2B21/LFxL9owor7Y0CJVtOXDLc%3D'],\n",
       "  'nir': ['https://sentinel2l2a01.blob.core.windows.net/sentinel2-l2/14/R/LP/2021/12/20/S2B_MSIL2A_20211220T171719_N0300_R112_T14RLP_20211221T170038.SAFE/GRANULE/L2A_T14RLP_A025020_20211220T171946/IMG_DATA/R10m/T14RLP_20211220T171719_B08_10m.tif?st=2023-11-15T00%3A04%3A08Z&se=2023-11-16T00%3A49%3A08Z&sp=rl&sv=2021-06-08&sr=c&skoid=c85c15d6-d1ae-42d4-af60-e2ca0f81359b&sktid=72f988bf-86f1-41af-91ab-2d7cd011db47&skt=2023-11-15T19%3A35%3A57Z&ske=2023-11-22T19%3A35%3A57Z&sks=b&skv=2021-06-08&sig=3m3jElRLso6//YheLb%2B21/LFxL9owor7Y0CJVtOXDLc%3D']},\n",
       " datetime.date(2022, 1, 19): {'red': ['https://sentinel2l2a01.blob.core.windows.net/sentinel2-l2/14/R/LP/2022/01/19/S2B_MSIL2A_20220119T171629_N0300_R112_T14RLP_20220120T071405.SAFE/GRANULE/L2A_T14RLP_A025449_20220119T172609/IMG_DATA/R10m/T14RLP_20220119T171629_B04_10m.tif?st=2023-11-15T00%3A04%3A08Z&se=2023-11-16T00%3A49%3A08Z&sp=rl&sv=2021-06-08&sr=c&skoid=c85c15d6-d1ae-42d4-af60-e2ca0f81359b&sktid=72f988bf-86f1-41af-91ab-2d7cd011db47&skt=2023-11-15T19%3A35%3A57Z&ske=2023-11-22T19%3A35%3A57Z&sks=b&skv=2021-06-08&sig=3m3jElRLso6//YheLb%2B21/LFxL9owor7Y0CJVtOXDLc%3D'],\n",
       "  'nir': ['https://sentinel2l2a01.blob.core.windows.net/sentinel2-l2/14/R/LP/2022/01/19/S2B_MSIL2A_20220119T171629_N0300_R112_T14RLP_20220120T071405.SAFE/GRANULE/L2A_T14RLP_A025449_20220119T172609/IMG_DATA/R10m/T14RLP_20220119T171629_B08_10m.tif?st=2023-11-15T00%3A04%3A08Z&se=2023-11-16T00%3A49%3A08Z&sp=rl&sv=2021-06-08&sr=c&skoid=c85c15d6-d1ae-42d4-af60-e2ca0f81359b&sktid=72f988bf-86f1-41af-91ab-2d7cd011db47&skt=2023-11-15T19%3A35%3A57Z&ske=2023-11-22T19%3A35%3A57Z&sks=b&skv=2021-06-08&sig=3m3jElRLso6//YheLb%2B21/LFxL9owor7Y0CJVtOXDLc%3D']},\n",
       " datetime.date(2022, 1, 14): {'red': ['https://sentinel2l2a01.blob.core.windows.net/sentinel2-l2/14/R/LP/2022/01/14/S2A_MSIL2A_20220114T171651_N0300_R112_T14RLP_20220115T040535.SAFE/GRANULE/L2A_T14RLP_A034286_20220114T172300/IMG_DATA/R10m/T14RLP_20220114T171651_B04_10m.tif?st=2023-11-15T00%3A04%3A08Z&se=2023-11-16T00%3A49%3A08Z&sp=rl&sv=2021-06-08&sr=c&skoid=c85c15d6-d1ae-42d4-af60-e2ca0f81359b&sktid=72f988bf-86f1-41af-91ab-2d7cd011db47&skt=2023-11-15T19%3A35%3A57Z&ske=2023-11-22T19%3A35%3A57Z&sks=b&skv=2021-06-08&sig=3m3jElRLso6//YheLb%2B21/LFxL9owor7Y0CJVtOXDLc%3D'],\n",
       "  'nir': ['https://sentinel2l2a01.blob.core.windows.net/sentinel2-l2/14/R/LP/2022/01/14/S2A_MSIL2A_20220114T171651_N0300_R112_T14RLP_20220115T040535.SAFE/GRANULE/L2A_T14RLP_A034286_20220114T172300/IMG_DATA/R10m/T14RLP_20220114T171651_B08_10m.tif?st=2023-11-15T00%3A04%3A08Z&se=2023-11-16T00%3A49%3A08Z&sp=rl&sv=2021-06-08&sr=c&skoid=c85c15d6-d1ae-42d4-af60-e2ca0f81359b&sktid=72f988bf-86f1-41af-91ab-2d7cd011db47&skt=2023-11-15T19%3A35%3A57Z&ske=2023-11-22T19%3A35%3A57Z&sks=b&skv=2021-06-08&sig=3m3jElRLso6//YheLb%2B21/LFxL9owor7Y0CJVtOXDLc%3D']},\n",
       " datetime.date(2022, 1, 9): {'red': ['https://sentinel2l2a01.blob.core.windows.net/sentinel2-l2/14/R/LP/2022/01/09/S2B_MSIL2A_20220109T171659_N0300_R112_T14RLP_20220110T214727.SAFE/GRANULE/L2A_T14RLP_A025306_20220109T171900/IMG_DATA/R10m/T14RLP_20220109T171659_B04_10m.tif?st=2023-11-15T00%3A04%3A08Z&se=2023-11-16T00%3A49%3A08Z&sp=rl&sv=2021-06-08&sr=c&skoid=c85c15d6-d1ae-42d4-af60-e2ca0f81359b&sktid=72f988bf-86f1-41af-91ab-2d7cd011db47&skt=2023-11-15T19%3A35%3A57Z&ske=2023-11-22T19%3A35%3A57Z&sks=b&skv=2021-06-08&sig=3m3jElRLso6//YheLb%2B21/LFxL9owor7Y0CJVtOXDLc%3D'],\n",
       "  'nir': ['https://sentinel2l2a01.blob.core.windows.net/sentinel2-l2/14/R/LP/2022/01/09/S2B_MSIL2A_20220109T171659_N0300_R112_T14RLP_20220110T214727.SAFE/GRANULE/L2A_T14RLP_A025306_20220109T171900/IMG_DATA/R10m/T14RLP_20220109T171659_B08_10m.tif?st=2023-11-15T00%3A04%3A08Z&se=2023-11-16T00%3A49%3A08Z&sp=rl&sv=2021-06-08&sr=c&skoid=c85c15d6-d1ae-42d4-af60-e2ca0f81359b&sktid=72f988bf-86f1-41af-91ab-2d7cd011db47&skt=2023-11-15T19%3A35%3A57Z&ske=2023-11-22T19%3A35%3A57Z&sks=b&skv=2021-06-08&sig=3m3jElRLso6//YheLb%2B21/LFxL9owor7Y0CJVtOXDLc%3D']},\n",
       " datetime.date(2022, 1, 4): {'red': ['https://sentinel2l2a01.blob.core.windows.net/sentinel2-l2/14/R/LP/2022/01/04/S2A_MSIL2A_20220104T171721_N0300_R112_T14RLP_20220105T020203.SAFE/GRANULE/L2A_T14RLP_A034143_20220104T172348/IMG_DATA/R10m/T14RLP_20220104T171721_B04_10m.tif?st=2023-11-15T00%3A04%3A08Z&se=2023-11-16T00%3A49%3A08Z&sp=rl&sv=2021-06-08&sr=c&skoid=c85c15d6-d1ae-42d4-af60-e2ca0f81359b&sktid=72f988bf-86f1-41af-91ab-2d7cd011db47&skt=2023-11-15T19%3A35%3A57Z&ske=2023-11-22T19%3A35%3A57Z&sks=b&skv=2021-06-08&sig=3m3jElRLso6//YheLb%2B21/LFxL9owor7Y0CJVtOXDLc%3D'],\n",
       "  'nir': ['https://sentinel2l2a01.blob.core.windows.net/sentinel2-l2/14/R/LP/2022/01/04/S2A_MSIL2A_20220104T171721_N0300_R112_T14RLP_20220105T020203.SAFE/GRANULE/L2A_T14RLP_A034143_20220104T172348/IMG_DATA/R10m/T14RLP_20220104T171721_B08_10m.tif?st=2023-11-15T00%3A04%3A08Z&se=2023-11-16T00%3A49%3A08Z&sp=rl&sv=2021-06-08&sr=c&skoid=c85c15d6-d1ae-42d4-af60-e2ca0f81359b&sktid=72f988bf-86f1-41af-91ab-2d7cd011db47&skt=2023-11-15T19%3A35%3A57Z&ske=2023-11-22T19%3A35%3A57Z&sks=b&skv=2021-06-08&sig=3m3jElRLso6//YheLb%2B21/LFxL9owor7Y0CJVtOXDLc%3D']},\n",
       " datetime.date(2022, 2, 28): {'red': ['https://sentinel2l2a01.blob.core.windows.net/sentinel2-l2/14/R/LP/2022/02/28/S2B_MSIL2A_20220228T171139_N0400_R112_T14RLP_20220303T112715.SAFE/GRANULE/L2A_T14RLP_A026021_20220228T171852/IMG_DATA/R10m/T14RLP_20220228T171139_B04_10m.tif?st=2023-11-15T00%3A04%3A08Z&se=2023-11-16T00%3A49%3A08Z&sp=rl&sv=2021-06-08&sr=c&skoid=c85c15d6-d1ae-42d4-af60-e2ca0f81359b&sktid=72f988bf-86f1-41af-91ab-2d7cd011db47&skt=2023-11-15T19%3A35%3A57Z&ske=2023-11-22T19%3A35%3A57Z&sks=b&skv=2021-06-08&sig=3m3jElRLso6//YheLb%2B21/LFxL9owor7Y0CJVtOXDLc%3D'],\n",
       "  'nir': ['https://sentinel2l2a01.blob.core.windows.net/sentinel2-l2/14/R/LP/2022/02/28/S2B_MSIL2A_20220228T171139_N0400_R112_T14RLP_20220303T112715.SAFE/GRANULE/L2A_T14RLP_A026021_20220228T171852/IMG_DATA/R10m/T14RLP_20220228T171139_B08_10m.tif?st=2023-11-15T00%3A04%3A08Z&se=2023-11-16T00%3A49%3A08Z&sp=rl&sv=2021-06-08&sr=c&skoid=c85c15d6-d1ae-42d4-af60-e2ca0f81359b&sktid=72f988bf-86f1-41af-91ab-2d7cd011db47&skt=2023-11-15T19%3A35%3A57Z&ske=2023-11-22T19%3A35%3A57Z&sks=b&skv=2021-06-08&sig=3m3jElRLso6//YheLb%2B21/LFxL9owor7Y0CJVtOXDLc%3D']},\n",
       " datetime.date(2022, 2, 18): {'red': ['https://sentinel2l2a01.blob.core.windows.net/sentinel2-l2/14/R/LP/2022/02/18/S2B_MSIL2A_20220218T171339_N0400_R112_T14RLP_20220225T022402.SAFE/GRANULE/L2A_T14RLP_A025878_20220218T171750/IMG_DATA/R10m/T14RLP_20220218T171339_B04_10m.tif?st=2023-11-15T00%3A04%3A08Z&se=2023-11-16T00%3A49%3A08Z&sp=rl&sv=2021-06-08&sr=c&skoid=c85c15d6-d1ae-42d4-af60-e2ca0f81359b&sktid=72f988bf-86f1-41af-91ab-2d7cd011db47&skt=2023-11-15T19%3A35%3A57Z&ske=2023-11-22T19%3A35%3A57Z&sks=b&skv=2021-06-08&sig=3m3jElRLso6//YheLb%2B21/LFxL9owor7Y0CJVtOXDLc%3D'],\n",
       "  'nir': ['https://sentinel2l2a01.blob.core.windows.net/sentinel2-l2/14/R/LP/2022/02/18/S2B_MSIL2A_20220218T171339_N0400_R112_T14RLP_20220225T022402.SAFE/GRANULE/L2A_T14RLP_A025878_20220218T171750/IMG_DATA/R10m/T14RLP_20220218T171339_B08_10m.tif?st=2023-11-15T00%3A04%3A08Z&se=2023-11-16T00%3A49%3A08Z&sp=rl&sv=2021-06-08&sr=c&skoid=c85c15d6-d1ae-42d4-af60-e2ca0f81359b&sktid=72f988bf-86f1-41af-91ab-2d7cd011db47&skt=2023-11-15T19%3A35%3A57Z&ske=2023-11-22T19%3A35%3A57Z&sks=b&skv=2021-06-08&sig=3m3jElRLso6//YheLb%2B21/LFxL9owor7Y0CJVtOXDLc%3D']},\n",
       " datetime.date(2022, 2, 8): {'red': ['https://sentinel2l2a01.blob.core.windows.net/sentinel2-l2/14/R/LP/2022/02/08/S2B_MSIL2A_20220208T171449_N0400_R112_T14RLP_20220220T150608.SAFE/GRANULE/L2A_T14RLP_A025735_20220208T171931/IMG_DATA/R10m/T14RLP_20220208T171449_B04_10m.tif?st=2023-11-15T00%3A04%3A08Z&se=2023-11-16T00%3A49%3A08Z&sp=rl&sv=2021-06-08&sr=c&skoid=c85c15d6-d1ae-42d4-af60-e2ca0f81359b&sktid=72f988bf-86f1-41af-91ab-2d7cd011db47&skt=2023-11-15T19%3A35%3A57Z&ske=2023-11-22T19%3A35%3A57Z&sks=b&skv=2021-06-08&sig=3m3jElRLso6//YheLb%2B21/LFxL9owor7Y0CJVtOXDLc%3D'],\n",
       "  'nir': ['https://sentinel2l2a01.blob.core.windows.net/sentinel2-l2/14/R/LP/2022/02/08/S2B_MSIL2A_20220208T171449_N0400_R112_T14RLP_20220220T150608.SAFE/GRANULE/L2A_T14RLP_A025735_20220208T171931/IMG_DATA/R10m/T14RLP_20220208T171449_B08_10m.tif?st=2023-11-15T00%3A04%3A08Z&se=2023-11-16T00%3A49%3A08Z&sp=rl&sv=2021-06-08&sr=c&skoid=c85c15d6-d1ae-42d4-af60-e2ca0f81359b&sktid=72f988bf-86f1-41af-91ab-2d7cd011db47&skt=2023-11-15T19%3A35%3A57Z&ske=2023-11-22T19%3A35%3A57Z&sks=b&skv=2021-06-08&sig=3m3jElRLso6//YheLb%2B21/LFxL9owor7Y0CJVtOXDLc%3D']},\n",
       " datetime.date(2022, 3, 30): {'red': ['https://sentinel2l2a01.blob.core.windows.net/sentinel2-l2/14/R/LP/2022/03/30/S2B_MSIL2A_20220330T170849_N0400_R112_T14RLP_20220331T062548.SAFE/GRANULE/L2A_T14RLP_A026450_20220330T172120/IMG_DATA/R10m/T14RLP_20220330T170849_B04_10m.tif?st=2023-11-15T00%3A04%3A08Z&se=2023-11-16T00%3A49%3A08Z&sp=rl&sv=2021-06-08&sr=c&skoid=c85c15d6-d1ae-42d4-af60-e2ca0f81359b&sktid=72f988bf-86f1-41af-91ab-2d7cd011db47&skt=2023-11-15T19%3A35%3A57Z&ske=2023-11-22T19%3A35%3A57Z&sks=b&skv=2021-06-08&sig=3m3jElRLso6//YheLb%2B21/LFxL9owor7Y0CJVtOXDLc%3D'],\n",
       "  'nir': ['https://sentinel2l2a01.blob.core.windows.net/sentinel2-l2/14/R/LP/2022/03/30/S2B_MSIL2A_20220330T170849_N0400_R112_T14RLP_20220331T062548.SAFE/GRANULE/L2A_T14RLP_A026450_20220330T172120/IMG_DATA/R10m/T14RLP_20220330T170849_B08_10m.tif?st=2023-11-15T00%3A04%3A08Z&se=2023-11-16T00%3A49%3A08Z&sp=rl&sv=2021-06-08&sr=c&skoid=c85c15d6-d1ae-42d4-af60-e2ca0f81359b&sktid=72f988bf-86f1-41af-91ab-2d7cd011db47&skt=2023-11-15T19%3A35%3A57Z&ske=2023-11-22T19%3A35%3A57Z&sks=b&skv=2021-06-08&sig=3m3jElRLso6//YheLb%2B21/LFxL9owor7Y0CJVtOXDLc%3D']},\n",
       " datetime.date(2022, 3, 20): {'red': ['https://sentinel2l2a01.blob.core.windows.net/sentinel2-l2/14/R/LP/2022/03/20/S2B_MSIL2A_20220320T170919_N0400_R112_T14RLP_20220321T063948.SAFE/GRANULE/L2A_T14RLP_A026307_20220320T172139/IMG_DATA/R10m/T14RLP_20220320T170919_B04_10m.tif?st=2023-11-15T00%3A04%3A08Z&se=2023-11-16T00%3A49%3A08Z&sp=rl&sv=2021-06-08&sr=c&skoid=c85c15d6-d1ae-42d4-af60-e2ca0f81359b&sktid=72f988bf-86f1-41af-91ab-2d7cd011db47&skt=2023-11-15T19%3A35%3A57Z&ske=2023-11-22T19%3A35%3A57Z&sks=b&skv=2021-06-08&sig=3m3jElRLso6//YheLb%2B21/LFxL9owor7Y0CJVtOXDLc%3D'],\n",
       "  'nir': ['https://sentinel2l2a01.blob.core.windows.net/sentinel2-l2/14/R/LP/2022/03/20/S2B_MSIL2A_20220320T170919_N0400_R112_T14RLP_20220321T063948.SAFE/GRANULE/L2A_T14RLP_A026307_20220320T172139/IMG_DATA/R10m/T14RLP_20220320T170919_B08_10m.tif?st=2023-11-15T00%3A04%3A08Z&se=2023-11-16T00%3A49%3A08Z&sp=rl&sv=2021-06-08&sr=c&skoid=c85c15d6-d1ae-42d4-af60-e2ca0f81359b&sktid=72f988bf-86f1-41af-91ab-2d7cd011db47&skt=2023-11-15T19%3A35%3A57Z&ske=2023-11-22T19%3A35%3A57Z&sks=b&skv=2021-06-08&sig=3m3jElRLso6//YheLb%2B21/LFxL9owor7Y0CJVtOXDLc%3D']},\n",
       " datetime.date(2022, 3, 15): {'red': ['https://sentinel2l2a01.blob.core.windows.net/sentinel2-l2/14/R/LP/2022/03/15/S2A_MSIL2A_20220315T171051_N0400_R112_T14RLP_20220316T090045.SAFE/GRANULE/L2A_T14RLP_A035144_20220315T171846/IMG_DATA/R10m/T14RLP_20220315T171051_B04_10m.tif?st=2023-11-15T00%3A04%3A08Z&se=2023-11-16T00%3A49%3A08Z&sp=rl&sv=2021-06-08&sr=c&skoid=c85c15d6-d1ae-42d4-af60-e2ca0f81359b&sktid=72f988bf-86f1-41af-91ab-2d7cd011db47&skt=2023-11-15T19%3A35%3A57Z&ske=2023-11-22T19%3A35%3A57Z&sks=b&skv=2021-06-08&sig=3m3jElRLso6//YheLb%2B21/LFxL9owor7Y0CJVtOXDLc%3D'],\n",
       "  'nir': ['https://sentinel2l2a01.blob.core.windows.net/sentinel2-l2/14/R/LP/2022/03/15/S2A_MSIL2A_20220315T171051_N0400_R112_T14RLP_20220316T090045.SAFE/GRANULE/L2A_T14RLP_A035144_20220315T171846/IMG_DATA/R10m/T14RLP_20220315T171051_B08_10m.tif?st=2023-11-15T00%3A04%3A08Z&se=2023-11-16T00%3A49%3A08Z&sp=rl&sv=2021-06-08&sr=c&skoid=c85c15d6-d1ae-42d4-af60-e2ca0f81359b&sktid=72f988bf-86f1-41af-91ab-2d7cd011db47&skt=2023-11-15T19%3A35%3A57Z&ske=2023-11-22T19%3A35%3A57Z&sks=b&skv=2021-06-08&sig=3m3jElRLso6//YheLb%2B21/LFxL9owor7Y0CJVtOXDLc%3D']},\n",
       " datetime.date(2022, 3, 10): {'red': ['https://sentinel2l2a01.blob.core.windows.net/sentinel2-l2/14/R/LP/2022/03/10/S2B_MSIL2A_20220310T171029_N0400_R112_T14RLP_20220311T180725.SAFE/GRANULE/L2A_T14RLP_A026164_20220310T171422/IMG_DATA/R10m/T14RLP_20220310T171029_B04_10m.tif?st=2023-11-15T00%3A04%3A08Z&se=2023-11-16T00%3A49%3A08Z&sp=rl&sv=2021-06-08&sr=c&skoid=c85c15d6-d1ae-42d4-af60-e2ca0f81359b&sktid=72f988bf-86f1-41af-91ab-2d7cd011db47&skt=2023-11-15T19%3A35%3A57Z&ske=2023-11-22T19%3A35%3A57Z&sks=b&skv=2021-06-08&sig=3m3jElRLso6//YheLb%2B21/LFxL9owor7Y0CJVtOXDLc%3D'],\n",
       "  'nir': ['https://sentinel2l2a01.blob.core.windows.net/sentinel2-l2/14/R/LP/2022/03/10/S2B_MSIL2A_20220310T171029_N0400_R112_T14RLP_20220311T180725.SAFE/GRANULE/L2A_T14RLP_A026164_20220310T171422/IMG_DATA/R10m/T14RLP_20220310T171029_B08_10m.tif?st=2023-11-15T00%3A04%3A08Z&se=2023-11-16T00%3A49%3A08Z&sp=rl&sv=2021-06-08&sr=c&skoid=c85c15d6-d1ae-42d4-af60-e2ca0f81359b&sktid=72f988bf-86f1-41af-91ab-2d7cd011db47&skt=2023-11-15T19%3A35%3A57Z&ske=2023-11-22T19%3A35%3A57Z&sks=b&skv=2021-06-08&sig=3m3jElRLso6//YheLb%2B21/LFxL9owor7Y0CJVtOXDLc%3D']},\n",
       " datetime.date(2022, 3, 5): {'red': ['https://sentinel2l2a01.blob.core.windows.net/sentinel2-l2/14/R/LP/2022/03/05/S2A_MSIL2A_20220305T171211_N0400_R112_T14RLP_20220306T075727.SAFE/GRANULE/L2A_T14RLP_A035001_20220305T172317/IMG_DATA/R10m/T14RLP_20220305T171211_B04_10m.tif?st=2023-11-15T00%3A04%3A08Z&se=2023-11-16T00%3A49%3A08Z&sp=rl&sv=2021-06-08&sr=c&skoid=c85c15d6-d1ae-42d4-af60-e2ca0f81359b&sktid=72f988bf-86f1-41af-91ab-2d7cd011db47&skt=2023-11-15T19%3A35%3A57Z&ske=2023-11-22T19%3A35%3A57Z&sks=b&skv=2021-06-08&sig=3m3jElRLso6//YheLb%2B21/LFxL9owor7Y0CJVtOXDLc%3D'],\n",
       "  'nir': ['https://sentinel2l2a01.blob.core.windows.net/sentinel2-l2/14/R/LP/2022/03/05/S2A_MSIL2A_20220305T171211_N0400_R112_T14RLP_20220306T075727.SAFE/GRANULE/L2A_T14RLP_A035001_20220305T172317/IMG_DATA/R10m/T14RLP_20220305T171211_B08_10m.tif?st=2023-11-15T00%3A04%3A08Z&se=2023-11-16T00%3A49%3A08Z&sp=rl&sv=2021-06-08&sr=c&skoid=c85c15d6-d1ae-42d4-af60-e2ca0f81359b&sktid=72f988bf-86f1-41af-91ab-2d7cd011db47&skt=2023-11-15T19%3A35%3A57Z&ske=2023-11-22T19%3A35%3A57Z&sks=b&skv=2021-06-08&sig=3m3jElRLso6//YheLb%2B21/LFxL9owor7Y0CJVtOXDLc%3D']},\n",
       " datetime.date(2022, 4, 24): {'red': ['https://sentinel2l2a01.blob.core.windows.net/sentinel2-l2/14/R/LP/2022/04/24/S2A_MSIL2A_20220424T170901_N0400_R112_T14RLP_20220425T161208.SAFE/GRANULE/L2A_T14RLP_A035716_20220424T172206/IMG_DATA/R10m/T14RLP_20220424T170901_B04_10m.tif?st=2023-11-15T00%3A04%3A08Z&se=2023-11-16T00%3A49%3A08Z&sp=rl&sv=2021-06-08&sr=c&skoid=c85c15d6-d1ae-42d4-af60-e2ca0f81359b&sktid=72f988bf-86f1-41af-91ab-2d7cd011db47&skt=2023-11-15T19%3A35%3A57Z&ske=2023-11-22T19%3A35%3A57Z&sks=b&skv=2021-06-08&sig=3m3jElRLso6//YheLb%2B21/LFxL9owor7Y0CJVtOXDLc%3D'],\n",
       "  'nir': ['https://sentinel2l2a01.blob.core.windows.net/sentinel2-l2/14/R/LP/2022/04/24/S2A_MSIL2A_20220424T170901_N0400_R112_T14RLP_20220425T161208.SAFE/GRANULE/L2A_T14RLP_A035716_20220424T172206/IMG_DATA/R10m/T14RLP_20220424T170901_B08_10m.tif?st=2023-11-15T00%3A04%3A08Z&se=2023-11-16T00%3A49%3A08Z&sp=rl&sv=2021-06-08&sr=c&skoid=c85c15d6-d1ae-42d4-af60-e2ca0f81359b&sktid=72f988bf-86f1-41af-91ab-2d7cd011db47&skt=2023-11-15T19%3A35%3A57Z&ske=2023-11-22T19%3A35%3A57Z&sks=b&skv=2021-06-08&sig=3m3jElRLso6//YheLb%2B21/LFxL9owor7Y0CJVtOXDLc%3D']},\n",
       " datetime.date(2022, 4, 9): {'red': ['https://sentinel2l2a01.blob.core.windows.net/sentinel2-l2/14/R/LP/2022/04/09/S2B_MSIL2A_20220409T170849_N0400_R112_T14RLP_20220410T154817.SAFE/GRANULE/L2A_T14RLP_A026593_20220409T171854/IMG_DATA/R10m/T14RLP_20220409T170849_B04_10m.tif?st=2023-11-15T00%3A04%3A08Z&se=2023-11-16T00%3A49%3A08Z&sp=rl&sv=2021-06-08&sr=c&skoid=c85c15d6-d1ae-42d4-af60-e2ca0f81359b&sktid=72f988bf-86f1-41af-91ab-2d7cd011db47&skt=2023-11-15T19%3A35%3A57Z&ske=2023-11-22T19%3A35%3A57Z&sks=b&skv=2021-06-08&sig=3m3jElRLso6//YheLb%2B21/LFxL9owor7Y0CJVtOXDLc%3D'],\n",
       "  'nir': ['https://sentinel2l2a01.blob.core.windows.net/sentinel2-l2/14/R/LP/2022/04/09/S2B_MSIL2A_20220409T170849_N0400_R112_T14RLP_20220410T154817.SAFE/GRANULE/L2A_T14RLP_A026593_20220409T171854/IMG_DATA/R10m/T14RLP_20220409T170849_B08_10m.tif?st=2023-11-15T00%3A04%3A08Z&se=2023-11-16T00%3A49%3A08Z&sp=rl&sv=2021-06-08&sr=c&skoid=c85c15d6-d1ae-42d4-af60-e2ca0f81359b&sktid=72f988bf-86f1-41af-91ab-2d7cd011db47&skt=2023-11-15T19%3A35%3A57Z&ske=2023-11-22T19%3A35%3A57Z&sks=b&skv=2021-06-08&sig=3m3jElRLso6//YheLb%2B21/LFxL9owor7Y0CJVtOXDLc%3D']},\n",
       " datetime.date(2022, 5, 29): {'red': ['https://sentinel2l2a01.blob.core.windows.net/sentinel2-l2/14/R/LP/2022/05/29/S2B_MSIL2A_20220529T170849_N0400_R112_T14RLP_20220530T071621.SAFE/GRANULE/L2A_T14RLP_A027308_20220529T171927/IMG_DATA/R10m/T14RLP_20220529T170849_B04_10m.tif?st=2023-11-15T00%3A04%3A08Z&se=2023-11-16T00%3A49%3A08Z&sp=rl&sv=2021-06-08&sr=c&skoid=c85c15d6-d1ae-42d4-af60-e2ca0f81359b&sktid=72f988bf-86f1-41af-91ab-2d7cd011db47&skt=2023-11-15T19%3A35%3A57Z&ske=2023-11-22T19%3A35%3A57Z&sks=b&skv=2021-06-08&sig=3m3jElRLso6//YheLb%2B21/LFxL9owor7Y0CJVtOXDLc%3D'],\n",
       "  'nir': ['https://sentinel2l2a01.blob.core.windows.net/sentinel2-l2/14/R/LP/2022/05/29/S2B_MSIL2A_20220529T170849_N0400_R112_T14RLP_20220530T071621.SAFE/GRANULE/L2A_T14RLP_A027308_20220529T171927/IMG_DATA/R10m/T14RLP_20220529T170849_B08_10m.tif?st=2023-11-15T00%3A04%3A08Z&se=2023-11-16T00%3A49%3A08Z&sp=rl&sv=2021-06-08&sr=c&skoid=c85c15d6-d1ae-42d4-af60-e2ca0f81359b&sktid=72f988bf-86f1-41af-91ab-2d7cd011db47&skt=2023-11-15T19%3A35%3A57Z&ske=2023-11-22T19%3A35%3A57Z&sks=b&skv=2021-06-08&sig=3m3jElRLso6//YheLb%2B21/LFxL9owor7Y0CJVtOXDLc%3D']},\n",
       " datetime.date(2022, 5, 14): {'red': ['https://sentinel2l2a01.blob.core.windows.net/sentinel2-l2/14/R/LP/2022/05/14/S2A_MSIL2A_20220514T170851_N0400_R112_T14RLP_20220516T230255.SAFE/GRANULE/L2A_T14RLP_A036002_20220514T171813/IMG_DATA/R10m/T14RLP_20220514T170851_B04_10m.tif?st=2023-11-15T00%3A04%3A08Z&se=2023-11-16T00%3A49%3A08Z&sp=rl&sv=2021-06-08&sr=c&skoid=c85c15d6-d1ae-42d4-af60-e2ca0f81359b&sktid=72f988bf-86f1-41af-91ab-2d7cd011db47&skt=2023-11-15T19%3A35%3A57Z&ske=2023-11-22T19%3A35%3A57Z&sks=b&skv=2021-06-08&sig=3m3jElRLso6//YheLb%2B21/LFxL9owor7Y0CJVtOXDLc%3D'],\n",
       "  'nir': ['https://sentinel2l2a01.blob.core.windows.net/sentinel2-l2/14/R/LP/2022/05/14/S2A_MSIL2A_20220514T170851_N0400_R112_T14RLP_20220516T230255.SAFE/GRANULE/L2A_T14RLP_A036002_20220514T171813/IMG_DATA/R10m/T14RLP_20220514T170851_B08_10m.tif?st=2023-11-15T00%3A04%3A08Z&se=2023-11-16T00%3A49%3A08Z&sp=rl&sv=2021-06-08&sr=c&skoid=c85c15d6-d1ae-42d4-af60-e2ca0f81359b&sktid=72f988bf-86f1-41af-91ab-2d7cd011db47&skt=2023-11-15T19%3A35%3A57Z&ske=2023-11-22T19%3A35%3A57Z&sks=b&skv=2021-06-08&sig=3m3jElRLso6//YheLb%2B21/LFxL9owor7Y0CJVtOXDLc%3D']},\n",
       " datetime.date(2022, 5, 9): {'red': ['https://sentinel2l2a01.blob.core.windows.net/sentinel2-l2/14/R/LP/2022/05/09/S2B_MSIL2A_20220509T170849_N0400_R112_T14RLP_20220510T175532.SAFE/GRANULE/L2A_T14RLP_A027022_20220509T171847/IMG_DATA/R10m/T14RLP_20220509T170849_B04_10m.tif?st=2023-11-15T00%3A04%3A08Z&se=2023-11-16T00%3A49%3A08Z&sp=rl&sv=2021-06-08&sr=c&skoid=c85c15d6-d1ae-42d4-af60-e2ca0f81359b&sktid=72f988bf-86f1-41af-91ab-2d7cd011db47&skt=2023-11-15T19%3A35%3A57Z&ske=2023-11-22T19%3A35%3A57Z&sks=b&skv=2021-06-08&sig=3m3jElRLso6//YheLb%2B21/LFxL9owor7Y0CJVtOXDLc%3D'],\n",
       "  'nir': ['https://sentinel2l2a01.blob.core.windows.net/sentinel2-l2/14/R/LP/2022/05/09/S2B_MSIL2A_20220509T170849_N0400_R112_T14RLP_20220510T175532.SAFE/GRANULE/L2A_T14RLP_A027022_20220509T171847/IMG_DATA/R10m/T14RLP_20220509T170849_B08_10m.tif?st=2023-11-15T00%3A04%3A08Z&se=2023-11-16T00%3A49%3A08Z&sp=rl&sv=2021-06-08&sr=c&skoid=c85c15d6-d1ae-42d4-af60-e2ca0f81359b&sktid=72f988bf-86f1-41af-91ab-2d7cd011db47&skt=2023-11-15T19%3A35%3A57Z&ske=2023-11-22T19%3A35%3A57Z&sks=b&skv=2021-06-08&sig=3m3jElRLso6//YheLb%2B21/LFxL9owor7Y0CJVtOXDLc%3D']},\n",
       " datetime.date(2022, 6, 23): {'red': ['https://sentinel2l2a01.blob.core.windows.net/sentinel2-l2/14/R/LP/2022/06/23/S2A_MSIL2A_20220623T170901_N0400_R112_T14RLP_20220624T090255.SAFE/GRANULE/L2A_T14RLP_A036574_20220623T172003/IMG_DATA/R10m/T14RLP_20220623T170901_B04_10m.tif?st=2023-11-15T00%3A04%3A08Z&se=2023-11-16T00%3A49%3A08Z&sp=rl&sv=2021-06-08&sr=c&skoid=c85c15d6-d1ae-42d4-af60-e2ca0f81359b&sktid=72f988bf-86f1-41af-91ab-2d7cd011db47&skt=2023-11-15T19%3A35%3A57Z&ske=2023-11-22T19%3A35%3A57Z&sks=b&skv=2021-06-08&sig=3m3jElRLso6//YheLb%2B21/LFxL9owor7Y0CJVtOXDLc%3D'],\n",
       "  'nir': ['https://sentinel2l2a01.blob.core.windows.net/sentinel2-l2/14/R/LP/2022/06/23/S2A_MSIL2A_20220623T170901_N0400_R112_T14RLP_20220624T090255.SAFE/GRANULE/L2A_T14RLP_A036574_20220623T172003/IMG_DATA/R10m/T14RLP_20220623T170901_B08_10m.tif?st=2023-11-15T00%3A04%3A08Z&se=2023-11-16T00%3A49%3A08Z&sp=rl&sv=2021-06-08&sr=c&skoid=c85c15d6-d1ae-42d4-af60-e2ca0f81359b&sktid=72f988bf-86f1-41af-91ab-2d7cd011db47&skt=2023-11-15T19%3A35%3A57Z&ske=2023-11-22T19%3A35%3A57Z&sks=b&skv=2021-06-08&sig=3m3jElRLso6//YheLb%2B21/LFxL9owor7Y0CJVtOXDLc%3D']},\n",
       " datetime.date(2022, 6, 8): {'red': ['https://sentinel2l2a01.blob.core.windows.net/sentinel2-l2/14/R/LP/2022/06/08/S2B_MSIL2A_20220608T170849_N0400_R112_T14RLP_20220609T080539.SAFE/GRANULE/L2A_T14RLP_A027451_20220608T171949/IMG_DATA/R10m/T14RLP_20220608T170849_B04_10m.tif?st=2023-11-15T00%3A04%3A08Z&se=2023-11-16T00%3A49%3A08Z&sp=rl&sv=2021-06-08&sr=c&skoid=c85c15d6-d1ae-42d4-af60-e2ca0f81359b&sktid=72f988bf-86f1-41af-91ab-2d7cd011db47&skt=2023-11-15T19%3A35%3A57Z&ske=2023-11-22T19%3A35%3A57Z&sks=b&skv=2021-06-08&sig=3m3jElRLso6//YheLb%2B21/LFxL9owor7Y0CJVtOXDLc%3D'],\n",
       "  'nir': ['https://sentinel2l2a01.blob.core.windows.net/sentinel2-l2/14/R/LP/2022/06/08/S2B_MSIL2A_20220608T170849_N0400_R112_T14RLP_20220609T080539.SAFE/GRANULE/L2A_T14RLP_A027451_20220608T171949/IMG_DATA/R10m/T14RLP_20220608T170849_B08_10m.tif?st=2023-11-15T00%3A04%3A08Z&se=2023-11-16T00%3A49%3A08Z&sp=rl&sv=2021-06-08&sr=c&skoid=c85c15d6-d1ae-42d4-af60-e2ca0f81359b&sktid=72f988bf-86f1-41af-91ab-2d7cd011db47&skt=2023-11-15T19%3A35%3A57Z&ske=2023-11-22T19%3A35%3A57Z&sks=b&skv=2021-06-08&sig=3m3jElRLso6//YheLb%2B21/LFxL9owor7Y0CJVtOXDLc%3D']},\n",
       " datetime.date(2022, 7, 8): {'red': ['https://sentinel2l2a01.blob.core.windows.net/sentinel2-l2/14/R/LP/2022/07/08/S2B_MSIL2A_20220708T170859_N0400_R112_T14RLP_20220709T060841.SAFE/GRANULE/L2A_T14RLP_A027880_20220708T171447/IMG_DATA/R10m/T14RLP_20220708T170859_B04_10m.tif?st=2023-11-15T00%3A04%3A08Z&se=2023-11-16T00%3A49%3A08Z&sp=rl&sv=2021-06-08&sr=c&skoid=c85c15d6-d1ae-42d4-af60-e2ca0f81359b&sktid=72f988bf-86f1-41af-91ab-2d7cd011db47&skt=2023-11-15T19%3A35%3A57Z&ske=2023-11-22T19%3A35%3A57Z&sks=b&skv=2021-06-08&sig=3m3jElRLso6//YheLb%2B21/LFxL9owor7Y0CJVtOXDLc%3D'],\n",
       "  'nir': ['https://sentinel2l2a01.blob.core.windows.net/sentinel2-l2/14/R/LP/2022/07/08/S2B_MSIL2A_20220708T170859_N0400_R112_T14RLP_20220709T060841.SAFE/GRANULE/L2A_T14RLP_A027880_20220708T171447/IMG_DATA/R10m/T14RLP_20220708T170859_B08_10m.tif?st=2023-11-15T00%3A04%3A08Z&se=2023-11-16T00%3A49%3A08Z&sp=rl&sv=2021-06-08&sr=c&skoid=c85c15d6-d1ae-42d4-af60-e2ca0f81359b&sktid=72f988bf-86f1-41af-91ab-2d7cd011db47&skt=2023-11-15T19%3A35%3A57Z&ske=2023-11-22T19%3A35%3A57Z&sks=b&skv=2021-06-08&sig=3m3jElRLso6//YheLb%2B21/LFxL9owor7Y0CJVtOXDLc%3D']},\n",
       " datetime.date(2022, 8, 7): {'red': ['https://sentinel2l2a01.blob.core.windows.net/sentinel2-l2/14/R/LP/2022/08/07/S2B_MSIL2A_20220807T170849_N0400_R112_T14RLP_20220809T100457.SAFE/GRANULE/L2A_T14RLP_A028309_20220807T172618/IMG_DATA/R10m/T14RLP_20220807T170849_B04_10m.tif?st=2023-11-15T00%3A04%3A08Z&se=2023-11-16T00%3A49%3A08Z&sp=rl&sv=2021-06-08&sr=c&skoid=c85c15d6-d1ae-42d4-af60-e2ca0f81359b&sktid=72f988bf-86f1-41af-91ab-2d7cd011db47&skt=2023-11-15T19%3A35%3A57Z&ske=2023-11-22T19%3A35%3A57Z&sks=b&skv=2021-06-08&sig=3m3jElRLso6//YheLb%2B21/LFxL9owor7Y0CJVtOXDLc%3D'],\n",
       "  'nir': ['https://sentinel2l2a01.blob.core.windows.net/sentinel2-l2/14/R/LP/2022/08/07/S2B_MSIL2A_20220807T170849_N0400_R112_T14RLP_20220809T100457.SAFE/GRANULE/L2A_T14RLP_A028309_20220807T172618/IMG_DATA/R10m/T14RLP_20220807T170849_B08_10m.tif?st=2023-11-15T00%3A04%3A08Z&se=2023-11-16T00%3A49%3A08Z&sp=rl&sv=2021-06-08&sr=c&skoid=c85c15d6-d1ae-42d4-af60-e2ca0f81359b&sktid=72f988bf-86f1-41af-91ab-2d7cd011db47&skt=2023-11-15T19%3A35%3A57Z&ske=2023-11-22T19%3A35%3A57Z&sks=b&skv=2021-06-08&sig=3m3jElRLso6//YheLb%2B21/LFxL9owor7Y0CJVtOXDLc%3D']},\n",
       " datetime.date(2022, 10, 26): {'red': ['https://sentinel2l2a01.blob.core.windows.net/sentinel2-l2/14/R/LP/2022/10/26/S2B_MSIL2A_20221026T171409_N0400_R112_T14RLP_20221027T062211.SAFE/GRANULE/L2A_T14RLP_A029453_20221026T172343/IMG_DATA/R10m/T14RLP_20221026T171409_B04_10m.tif?st=2023-11-15T00%3A04%3A08Z&se=2023-11-16T00%3A49%3A08Z&sp=rl&sv=2021-06-08&sr=c&skoid=c85c15d6-d1ae-42d4-af60-e2ca0f81359b&sktid=72f988bf-86f1-41af-91ab-2d7cd011db47&skt=2023-11-15T19%3A35%3A57Z&ske=2023-11-22T19%3A35%3A57Z&sks=b&skv=2021-06-08&sig=3m3jElRLso6//YheLb%2B21/LFxL9owor7Y0CJVtOXDLc%3D'],\n",
       "  'nir': ['https://sentinel2l2a01.blob.core.windows.net/sentinel2-l2/14/R/LP/2022/10/26/S2B_MSIL2A_20221026T171409_N0400_R112_T14RLP_20221027T062211.SAFE/GRANULE/L2A_T14RLP_A029453_20221026T172343/IMG_DATA/R10m/T14RLP_20221026T171409_B08_10m.tif?st=2023-11-15T00%3A04%3A08Z&se=2023-11-16T00%3A49%3A08Z&sp=rl&sv=2021-06-08&sr=c&skoid=c85c15d6-d1ae-42d4-af60-e2ca0f81359b&sktid=72f988bf-86f1-41af-91ab-2d7cd011db47&skt=2023-11-15T19%3A35%3A57Z&ske=2023-11-22T19%3A35%3A57Z&sks=b&skv=2021-06-08&sig=3m3jElRLso6//YheLb%2B21/LFxL9owor7Y0CJVtOXDLc%3D']},\n",
       " datetime.date(2022, 10, 21): {'red': ['https://sentinel2l2a01.blob.core.windows.net/sentinel2-l2/14/R/LP/2022/10/21/S2A_MSIL2A_20221021T171341_N0400_R112_T14RLP_20221022T180029.SAFE/GRANULE/L2A_T14RLP_A038290_20221021T172518/IMG_DATA/R10m/T14RLP_20221021T171341_B04_10m.tif?st=2023-11-15T00%3A04%3A08Z&se=2023-11-16T00%3A49%3A08Z&sp=rl&sv=2021-06-08&sr=c&skoid=c85c15d6-d1ae-42d4-af60-e2ca0f81359b&sktid=72f988bf-86f1-41af-91ab-2d7cd011db47&skt=2023-11-15T19%3A35%3A57Z&ske=2023-11-22T19%3A35%3A57Z&sks=b&skv=2021-06-08&sig=3m3jElRLso6//YheLb%2B21/LFxL9owor7Y0CJVtOXDLc%3D'],\n",
       "  'nir': ['https://sentinel2l2a01.blob.core.windows.net/sentinel2-l2/14/R/LP/2022/10/21/S2A_MSIL2A_20221021T171341_N0400_R112_T14RLP_20221022T180029.SAFE/GRANULE/L2A_T14RLP_A038290_20221021T172518/IMG_DATA/R10m/T14RLP_20221021T171341_B08_10m.tif?st=2023-11-15T00%3A04%3A08Z&se=2023-11-16T00%3A49%3A08Z&sp=rl&sv=2021-06-08&sr=c&skoid=c85c15d6-d1ae-42d4-af60-e2ca0f81359b&sktid=72f988bf-86f1-41af-91ab-2d7cd011db47&skt=2023-11-15T19%3A35%3A57Z&ske=2023-11-22T19%3A35%3A57Z&sks=b&skv=2021-06-08&sig=3m3jElRLso6//YheLb%2B21/LFxL9owor7Y0CJVtOXDLc%3D']},\n",
       " datetime.date(2022, 10, 1): {'red': ['https://sentinel2l2a01.blob.core.windows.net/sentinel2-l2/14/R/LP/2022/10/01/S2A_MSIL2A_20221001T171131_N0400_R112_T14RLP_20221002T104511.SAFE/GRANULE/L2A_T14RLP_A038004_20221001T171534/IMG_DATA/R10m/T14RLP_20221001T171131_B04_10m.tif?st=2023-11-15T00%3A04%3A08Z&se=2023-11-16T00%3A49%3A08Z&sp=rl&sv=2021-06-08&sr=c&skoid=c85c15d6-d1ae-42d4-af60-e2ca0f81359b&sktid=72f988bf-86f1-41af-91ab-2d7cd011db47&skt=2023-11-15T19%3A35%3A57Z&ske=2023-11-22T19%3A35%3A57Z&sks=b&skv=2021-06-08&sig=3m3jElRLso6//YheLb%2B21/LFxL9owor7Y0CJVtOXDLc%3D'],\n",
       "  'nir': ['https://sentinel2l2a01.blob.core.windows.net/sentinel2-l2/14/R/LP/2022/10/01/S2A_MSIL2A_20221001T171131_N0400_R112_T14RLP_20221002T104511.SAFE/GRANULE/L2A_T14RLP_A038004_20221001T171534/IMG_DATA/R10m/T14RLP_20221001T171131_B08_10m.tif?st=2023-11-15T00%3A04%3A08Z&se=2023-11-16T00%3A49%3A08Z&sp=rl&sv=2021-06-08&sr=c&skoid=c85c15d6-d1ae-42d4-af60-e2ca0f81359b&sktid=72f988bf-86f1-41af-91ab-2d7cd011db47&skt=2023-11-15T19%3A35%3A57Z&ske=2023-11-22T19%3A35%3A57Z&sks=b&skv=2021-06-08&sig=3m3jElRLso6//YheLb%2B21/LFxL9owor7Y0CJVtOXDLc%3D']},\n",
       " datetime.date(2022, 11, 15): {'red': ['https://sentinel2l2a01.blob.core.windows.net/sentinel2-l2/14/R/LP/2022/11/15/S2B_MSIL2A_20221115T171559_N0400_R112_T14RLP_20221116T124831.SAFE/GRANULE/L2A_T14RLP_A029739_20221115T172147/IMG_DATA/R10m/T14RLP_20221115T171559_B04_10m.tif?st=2023-11-15T00%3A04%3A08Z&se=2023-11-16T00%3A49%3A08Z&sp=rl&sv=2021-06-08&sr=c&skoid=c85c15d6-d1ae-42d4-af60-e2ca0f81359b&sktid=72f988bf-86f1-41af-91ab-2d7cd011db47&skt=2023-11-15T19%3A35%3A57Z&ske=2023-11-22T19%3A35%3A57Z&sks=b&skv=2021-06-08&sig=3m3jElRLso6//YheLb%2B21/LFxL9owor7Y0CJVtOXDLc%3D'],\n",
       "  'nir': ['https://sentinel2l2a01.blob.core.windows.net/sentinel2-l2/14/R/LP/2022/11/15/S2B_MSIL2A_20221115T171559_N0400_R112_T14RLP_20221116T124831.SAFE/GRANULE/L2A_T14RLP_A029739_20221115T172147/IMG_DATA/R10m/T14RLP_20221115T171559_B08_10m.tif?st=2023-11-15T00%3A04%3A08Z&se=2023-11-16T00%3A49%3A08Z&sp=rl&sv=2021-06-08&sr=c&skoid=c85c15d6-d1ae-42d4-af60-e2ca0f81359b&sktid=72f988bf-86f1-41af-91ab-2d7cd011db47&skt=2023-11-15T19%3A35%3A57Z&ske=2023-11-22T19%3A35%3A57Z&sks=b&skv=2021-06-08&sig=3m3jElRLso6//YheLb%2B21/LFxL9owor7Y0CJVtOXDLc%3D']},\n",
       " datetime.date(2022, 11, 5): {'red': ['https://sentinel2l2a01.blob.core.windows.net/sentinel2-l2/14/R/LP/2022/11/05/S2B_MSIL2A_20221105T171509_N0400_R112_T14RLP_20221106T163104.SAFE/GRANULE/L2A_T14RLP_A029596_20221105T171919/IMG_DATA/R10m/T14RLP_20221105T171509_B04_10m.tif?st=2023-11-15T00%3A04%3A08Z&se=2023-11-16T00%3A49%3A08Z&sp=rl&sv=2021-06-08&sr=c&skoid=c85c15d6-d1ae-42d4-af60-e2ca0f81359b&sktid=72f988bf-86f1-41af-91ab-2d7cd011db47&skt=2023-11-15T19%3A35%3A57Z&ske=2023-11-22T19%3A35%3A57Z&sks=b&skv=2021-06-08&sig=3m3jElRLso6//YheLb%2B21/LFxL9owor7Y0CJVtOXDLc%3D'],\n",
       "  'nir': ['https://sentinel2l2a01.blob.core.windows.net/sentinel2-l2/14/R/LP/2022/11/05/S2B_MSIL2A_20221105T171509_N0400_R112_T14RLP_20221106T163104.SAFE/GRANULE/L2A_T14RLP_A029596_20221105T171919/IMG_DATA/R10m/T14RLP_20221105T171509_B08_10m.tif?st=2023-11-15T00%3A04%3A08Z&se=2023-11-16T00%3A49%3A08Z&sp=rl&sv=2021-06-08&sr=c&skoid=c85c15d6-d1ae-42d4-af60-e2ca0f81359b&sktid=72f988bf-86f1-41af-91ab-2d7cd011db47&skt=2023-11-15T19%3A35%3A57Z&ske=2023-11-22T19%3A35%3A57Z&sks=b&skv=2021-06-08&sig=3m3jElRLso6//YheLb%2B21/LFxL9owor7Y0CJVtOXDLc%3D']},\n",
       " datetime.date(2022, 12, 25): {'red': ['https://sentinel2l2a01.blob.core.windows.net/sentinel2-l2/14/R/LP/2022/12/25/S2B_MSIL2A_20221225T171729_N0400_R112_T14RLP_20221226T130150.SAFE/GRANULE/L2A_T14RLP_A030311_20221225T172418/IMG_DATA/R10m/T14RLP_20221225T171729_B04_10m.tif?st=2023-11-15T00%3A04%3A08Z&se=2023-11-16T00%3A49%3A08Z&sp=rl&sv=2021-06-08&sr=c&skoid=c85c15d6-d1ae-42d4-af60-e2ca0f81359b&sktid=72f988bf-86f1-41af-91ab-2d7cd011db47&skt=2023-11-15T19%3A35%3A57Z&ske=2023-11-22T19%3A35%3A57Z&sks=b&skv=2021-06-08&sig=3m3jElRLso6//YheLb%2B21/LFxL9owor7Y0CJVtOXDLc%3D'],\n",
       "  'nir': ['https://sentinel2l2a01.blob.core.windows.net/sentinel2-l2/14/R/LP/2022/12/25/S2B_MSIL2A_20221225T171729_N0400_R112_T14RLP_20221226T130150.SAFE/GRANULE/L2A_T14RLP_A030311_20221225T172418/IMG_DATA/R10m/T14RLP_20221225T171729_B08_10m.tif?st=2023-11-15T00%3A04%3A08Z&se=2023-11-16T00%3A49%3A08Z&sp=rl&sv=2021-06-08&sr=c&skoid=c85c15d6-d1ae-42d4-af60-e2ca0f81359b&sktid=72f988bf-86f1-41af-91ab-2d7cd011db47&skt=2023-11-15T19%3A35%3A57Z&ske=2023-11-22T19%3A35%3A57Z&sks=b&skv=2021-06-08&sig=3m3jElRLso6//YheLb%2B21/LFxL9owor7Y0CJVtOXDLc%3D']},\n",
       " datetime.date(2022, 12, 20): {'red': ['https://sentinel2l2a01.blob.core.windows.net/sentinel2-l2/14/R/LP/2022/12/20/S2A_MSIL2A_20221220T171731_N0400_R112_T14RLP_20221221T111233.SAFE/GRANULE/L2A_T14RLP_A039148_20221220T172048/IMG_DATA/R10m/T14RLP_20221220T171731_B04_10m.tif?st=2023-11-15T00%3A04%3A08Z&se=2023-11-16T00%3A49%3A08Z&sp=rl&sv=2021-06-08&sr=c&skoid=c85c15d6-d1ae-42d4-af60-e2ca0f81359b&sktid=72f988bf-86f1-41af-91ab-2d7cd011db47&skt=2023-11-15T19%3A35%3A57Z&ske=2023-11-22T19%3A35%3A57Z&sks=b&skv=2021-06-08&sig=3m3jElRLso6//YheLb%2B21/LFxL9owor7Y0CJVtOXDLc%3D'],\n",
       "  'nir': ['https://sentinel2l2a01.blob.core.windows.net/sentinel2-l2/14/R/LP/2022/12/20/S2A_MSIL2A_20221220T171731_N0400_R112_T14RLP_20221221T111233.SAFE/GRANULE/L2A_T14RLP_A039148_20221220T172048/IMG_DATA/R10m/T14RLP_20221220T171731_B08_10m.tif?st=2023-11-15T00%3A04%3A08Z&se=2023-11-16T00%3A49%3A08Z&sp=rl&sv=2021-06-08&sr=c&skoid=c85c15d6-d1ae-42d4-af60-e2ca0f81359b&sktid=72f988bf-86f1-41af-91ab-2d7cd011db47&skt=2023-11-15T19%3A35%3A57Z&ske=2023-11-22T19%3A35%3A57Z&sks=b&skv=2021-06-08&sig=3m3jElRLso6//YheLb%2B21/LFxL9owor7Y0CJVtOXDLc%3D']},\n",
       " datetime.date(2022, 12, 15): {'red': ['https://sentinel2l2a01.blob.core.windows.net/sentinel2-l2/14/R/LP/2022/12/15/S2B_MSIL2A_20221215T171719_N0400_R112_T14RLP_20221216T102814.SAFE/GRANULE/L2A_T14RLP_A030168_20221215T172149/IMG_DATA/R10m/T14RLP_20221215T171719_B04_10m.tif?st=2023-11-15T00%3A04%3A08Z&se=2023-11-16T00%3A49%3A08Z&sp=rl&sv=2021-06-08&sr=c&skoid=c85c15d6-d1ae-42d4-af60-e2ca0f81359b&sktid=72f988bf-86f1-41af-91ab-2d7cd011db47&skt=2023-11-15T19%3A35%3A57Z&ske=2023-11-22T19%3A35%3A57Z&sks=b&skv=2021-06-08&sig=3m3jElRLso6//YheLb%2B21/LFxL9owor7Y0CJVtOXDLc%3D'],\n",
       "  'nir': ['https://sentinel2l2a01.blob.core.windows.net/sentinel2-l2/14/R/LP/2022/12/15/S2B_MSIL2A_20221215T171719_N0400_R112_T14RLP_20221216T102814.SAFE/GRANULE/L2A_T14RLP_A030168_20221215T172149/IMG_DATA/R10m/T14RLP_20221215T171719_B08_10m.tif?st=2023-11-15T00%3A04%3A08Z&se=2023-11-16T00%3A49%3A08Z&sp=rl&sv=2021-06-08&sr=c&skoid=c85c15d6-d1ae-42d4-af60-e2ca0f81359b&sktid=72f988bf-86f1-41af-91ab-2d7cd011db47&skt=2023-11-15T19%3A35%3A57Z&ske=2023-11-22T19%3A35%3A57Z&sks=b&skv=2021-06-08&sig=3m3jElRLso6//YheLb%2B21/LFxL9owor7Y0CJVtOXDLc%3D']},\n",
       " datetime.date(2023, 1, 14): {'red': ['https://sentinel2l2a01.blob.core.windows.net/sentinel2-l2/14/R/LP/2023/01/14/S2B_MSIL2A_20230114T171649_N0400_R112_T14RLP_20230115T050327.SAFE/GRANULE/L2A_T14RLP_A030597_20230114T172208/IMG_DATA/R10m/T14RLP_20230114T171649_B04_10m.tif?st=2023-11-15T00%3A04%3A08Z&se=2023-11-16T00%3A49%3A08Z&sp=rl&sv=2021-06-08&sr=c&skoid=c85c15d6-d1ae-42d4-af60-e2ca0f81359b&sktid=72f988bf-86f1-41af-91ab-2d7cd011db47&skt=2023-11-15T19%3A35%3A57Z&ske=2023-11-22T19%3A35%3A57Z&sks=b&skv=2021-06-08&sig=3m3jElRLso6//YheLb%2B21/LFxL9owor7Y0CJVtOXDLc%3D'],\n",
       "  'nir': ['https://sentinel2l2a01.blob.core.windows.net/sentinel2-l2/14/R/LP/2023/01/14/S2B_MSIL2A_20230114T171649_N0400_R112_T14RLP_20230115T050327.SAFE/GRANULE/L2A_T14RLP_A030597_20230114T172208/IMG_DATA/R10m/T14RLP_20230114T171649_B08_10m.tif?st=2023-11-15T00%3A04%3A08Z&se=2023-11-16T00%3A49%3A08Z&sp=rl&sv=2021-06-08&sr=c&skoid=c85c15d6-d1ae-42d4-af60-e2ca0f81359b&sktid=72f988bf-86f1-41af-91ab-2d7cd011db47&skt=2023-11-15T19%3A35%3A57Z&ske=2023-11-22T19%3A35%3A57Z&sks=b&skv=2021-06-08&sig=3m3jElRLso6//YheLb%2B21/LFxL9owor7Y0CJVtOXDLc%3D']},\n",
       " datetime.date(2023, 1, 4): {'red': ['https://sentinel2l2a01.blob.core.windows.net/sentinel2-l2/14/R/LP/2023/01/04/S2B_MSIL2A_20230104T171719_N0400_R112_T14RLP_20230105T044523.SAFE/GRANULE/L2A_T14RLP_A030454_20230104T172327/IMG_DATA/R10m/T14RLP_20230104T171719_B04_10m.tif?st=2023-11-15T00%3A04%3A08Z&se=2023-11-16T00%3A49%3A08Z&sp=rl&sv=2021-06-08&sr=c&skoid=c85c15d6-d1ae-42d4-af60-e2ca0f81359b&sktid=72f988bf-86f1-41af-91ab-2d7cd011db47&skt=2023-11-15T19%3A35%3A57Z&ske=2023-11-22T19%3A35%3A57Z&sks=b&skv=2021-06-08&sig=3m3jElRLso6//YheLb%2B21/LFxL9owor7Y0CJVtOXDLc%3D'],\n",
       "  'nir': ['https://sentinel2l2a01.blob.core.windows.net/sentinel2-l2/14/R/LP/2023/01/04/S2B_MSIL2A_20230104T171719_N0400_R112_T14RLP_20230105T044523.SAFE/GRANULE/L2A_T14RLP_A030454_20230104T172327/IMG_DATA/R10m/T14RLP_20230104T171719_B08_10m.tif?st=2023-11-15T00%3A04%3A08Z&se=2023-11-16T00%3A49%3A08Z&sp=rl&sv=2021-06-08&sr=c&skoid=c85c15d6-d1ae-42d4-af60-e2ca0f81359b&sktid=72f988bf-86f1-41af-91ab-2d7cd011db47&skt=2023-11-15T19%3A35%3A57Z&ske=2023-11-22T19%3A35%3A57Z&sks=b&skv=2021-06-08&sig=3m3jElRLso6//YheLb%2B21/LFxL9owor7Y0CJVtOXDLc%3D']},\n",
       " datetime.date(2023, 2, 3): {'red': ['https://sentinel2l2a01.blob.core.windows.net/sentinel2-l2/14/R/LP/2023/02/03/S2B_MSIL2A_20230203T171519_N0400_R112_T14RLP_20230204T160319.SAFE/GRANULE/L2A_T14RLP_A030883_20230203T172113/IMG_DATA/R10m/T14RLP_20230203T171519_B04_10m.tif?st=2023-11-15T00%3A04%3A08Z&se=2023-11-16T00%3A49%3A08Z&sp=rl&sv=2021-06-08&sr=c&skoid=c85c15d6-d1ae-42d4-af60-e2ca0f81359b&sktid=72f988bf-86f1-41af-91ab-2d7cd011db47&skt=2023-11-15T19%3A35%3A57Z&ske=2023-11-22T19%3A35%3A57Z&sks=b&skv=2021-06-08&sig=3m3jElRLso6//YheLb%2B21/LFxL9owor7Y0CJVtOXDLc%3D'],\n",
       "  'nir': ['https://sentinel2l2a01.blob.core.windows.net/sentinel2-l2/14/R/LP/2023/02/03/S2B_MSIL2A_20230203T171519_N0400_R112_T14RLP_20230204T160319.SAFE/GRANULE/L2A_T14RLP_A030883_20230203T172113/IMG_DATA/R10m/T14RLP_20230203T171519_B08_10m.tif?st=2023-11-15T00%3A04%3A08Z&se=2023-11-16T00%3A49%3A08Z&sp=rl&sv=2021-06-08&sr=c&skoid=c85c15d6-d1ae-42d4-af60-e2ca0f81359b&sktid=72f988bf-86f1-41af-91ab-2d7cd011db47&skt=2023-11-15T19%3A35%3A57Z&ske=2023-11-22T19%3A35%3A57Z&sks=b&skv=2021-06-08&sig=3m3jElRLso6//YheLb%2B21/LFxL9owor7Y0CJVtOXDLc%3D']},\n",
       " datetime.date(2023, 3, 25): {'red': ['https://sentinel2l2a01.blob.core.windows.net/sentinel2-l2/14/R/LP/2023/03/25/S2B_MSIL2A_20230325T170849_N0509_R112_T14RLP_20230326T004444.SAFE/GRANULE/L2A_T14RLP_A031598_20230325T171717/IMG_DATA/R10m/T14RLP_20230325T170849_B04_10m.tif?st=2023-11-15T00%3A04%3A08Z&se=2023-11-16T00%3A49%3A08Z&sp=rl&sv=2021-06-08&sr=c&skoid=c85c15d6-d1ae-42d4-af60-e2ca0f81359b&sktid=72f988bf-86f1-41af-91ab-2d7cd011db47&skt=2023-11-15T19%3A35%3A57Z&ske=2023-11-22T19%3A35%3A57Z&sks=b&skv=2021-06-08&sig=3m3jElRLso6//YheLb%2B21/LFxL9owor7Y0CJVtOXDLc%3D'],\n",
       "  'nir': ['https://sentinel2l2a01.blob.core.windows.net/sentinel2-l2/14/R/LP/2023/03/25/S2B_MSIL2A_20230325T170849_N0509_R112_T14RLP_20230326T004444.SAFE/GRANULE/L2A_T14RLP_A031598_20230325T171717/IMG_DATA/R10m/T14RLP_20230325T170849_B08_10m.tif?st=2023-11-15T00%3A04%3A08Z&se=2023-11-16T00%3A49%3A08Z&sp=rl&sv=2021-06-08&sr=c&skoid=c85c15d6-d1ae-42d4-af60-e2ca0f81359b&sktid=72f988bf-86f1-41af-91ab-2d7cd011db47&skt=2023-11-15T19%3A35%3A57Z&ske=2023-11-22T19%3A35%3A57Z&sks=b&skv=2021-06-08&sig=3m3jElRLso6//YheLb%2B21/LFxL9owor7Y0CJVtOXDLc%3D']},\n",
       " datetime.date(2023, 3, 5): {'red': ['https://sentinel2l2a01.blob.core.windows.net/sentinel2-l2/14/R/LP/2023/03/05/S2B_MSIL2A_20230305T171209_N0509_R112_T14RLP_20230306T011031.SAFE/GRANULE/L2A_T14RLP_A031312_20230305T171903/IMG_DATA/R10m/T14RLP_20230305T171209_B04_10m.tif?st=2023-11-15T00%3A04%3A08Z&se=2023-11-16T00%3A49%3A08Z&sp=rl&sv=2021-06-08&sr=c&skoid=c85c15d6-d1ae-42d4-af60-e2ca0f81359b&sktid=72f988bf-86f1-41af-91ab-2d7cd011db47&skt=2023-11-15T19%3A35%3A57Z&ske=2023-11-22T19%3A35%3A57Z&sks=b&skv=2021-06-08&sig=3m3jElRLso6//YheLb%2B21/LFxL9owor7Y0CJVtOXDLc%3D'],\n",
       "  'nir': ['https://sentinel2l2a01.blob.core.windows.net/sentinel2-l2/14/R/LP/2023/03/05/S2B_MSIL2A_20230305T171209_N0509_R112_T14RLP_20230306T011031.SAFE/GRANULE/L2A_T14RLP_A031312_20230305T171903/IMG_DATA/R10m/T14RLP_20230305T171209_B08_10m.tif?st=2023-11-15T00%3A04%3A08Z&se=2023-11-16T00%3A49%3A08Z&sp=rl&sv=2021-06-08&sr=c&skoid=c85c15d6-d1ae-42d4-af60-e2ca0f81359b&sktid=72f988bf-86f1-41af-91ab-2d7cd011db47&skt=2023-11-15T19%3A35%3A57Z&ske=2023-11-22T19%3A35%3A57Z&sks=b&skv=2021-06-08&sig=3m3jElRLso6//YheLb%2B21/LFxL9owor7Y0CJVtOXDLc%3D']},\n",
       " datetime.date(2023, 4, 29): {'red': ['https://sentinel2l2a01.blob.core.windows.net/sentinel2-l2/14/R/LP/2023/04/29/S2A_MSIL2A_20230429T170851_N0509_R112_T14RLP_20230430T012601.SAFE/GRANULE/L2A_T14RLP_A041007_20230429T172358/IMG_DATA/R10m/T14RLP_20230429T170851_B04_10m.tif?st=2023-11-15T00%3A04%3A08Z&se=2023-11-16T00%3A49%3A08Z&sp=rl&sv=2021-06-08&sr=c&skoid=c85c15d6-d1ae-42d4-af60-e2ca0f81359b&sktid=72f988bf-86f1-41af-91ab-2d7cd011db47&skt=2023-11-15T19%3A35%3A57Z&ske=2023-11-22T19%3A35%3A57Z&sks=b&skv=2021-06-08&sig=3m3jElRLso6//YheLb%2B21/LFxL9owor7Y0CJVtOXDLc%3D'],\n",
       "  'nir': ['https://sentinel2l2a01.blob.core.windows.net/sentinel2-l2/14/R/LP/2023/04/29/S2A_MSIL2A_20230429T170851_N0509_R112_T14RLP_20230430T012601.SAFE/GRANULE/L2A_T14RLP_A041007_20230429T172358/IMG_DATA/R10m/T14RLP_20230429T170851_B08_10m.tif?st=2023-11-15T00%3A04%3A08Z&se=2023-11-16T00%3A49%3A08Z&sp=rl&sv=2021-06-08&sr=c&skoid=c85c15d6-d1ae-42d4-af60-e2ca0f81359b&sktid=72f988bf-86f1-41af-91ab-2d7cd011db47&skt=2023-11-15T19%3A35%3A57Z&ske=2023-11-22T19%3A35%3A57Z&sks=b&skv=2021-06-08&sig=3m3jElRLso6//YheLb%2B21/LFxL9owor7Y0CJVtOXDLc%3D']},\n",
       " datetime.date(2023, 6, 28): {'red': ['https://sentinel2l2a01.blob.core.windows.net/sentinel2-l2/14/R/LP/2023/06/28/S2A_MSIL2A_20230628T170851_N0509_R112_T14RLP_20230629T071820.SAFE/GRANULE/L2A_T14RLP_A041865_20230628T172623/IMG_DATA/R10m/T14RLP_20230628T170851_B04_10m.tif?st=2023-11-15T00%3A04%3A08Z&se=2023-11-16T00%3A49%3A08Z&sp=rl&sv=2021-06-08&sr=c&skoid=c85c15d6-d1ae-42d4-af60-e2ca0f81359b&sktid=72f988bf-86f1-41af-91ab-2d7cd011db47&skt=2023-11-15T19%3A35%3A57Z&ske=2023-11-22T19%3A35%3A57Z&sks=b&skv=2021-06-08&sig=3m3jElRLso6//YheLb%2B21/LFxL9owor7Y0CJVtOXDLc%3D'],\n",
       "  'nir': ['https://sentinel2l2a01.blob.core.windows.net/sentinel2-l2/14/R/LP/2023/06/28/S2A_MSIL2A_20230628T170851_N0509_R112_T14RLP_20230629T071820.SAFE/GRANULE/L2A_T14RLP_A041865_20230628T172623/IMG_DATA/R10m/T14RLP_20230628T170851_B08_10m.tif?st=2023-11-15T00%3A04%3A08Z&se=2023-11-16T00%3A49%3A08Z&sp=rl&sv=2021-06-08&sr=c&skoid=c85c15d6-d1ae-42d4-af60-e2ca0f81359b&sktid=72f988bf-86f1-41af-91ab-2d7cd011db47&skt=2023-11-15T19%3A35%3A57Z&ske=2023-11-22T19%3A35%3A57Z&sks=b&skv=2021-06-08&sig=3m3jElRLso6//YheLb%2B21/LFxL9owor7Y0CJVtOXDLc%3D']},\n",
       " datetime.date(2023, 6, 23): {'red': ['https://sentinel2l2a01.blob.core.windows.net/sentinel2-l2/14/R/LP/2023/06/23/S2B_MSIL2A_20230623T170849_N0509_R112_T14RLP_20230624T005615.SAFE/GRANULE/L2A_T14RLP_A032885_20230623T172245/IMG_DATA/R10m/T14RLP_20230623T170849_B04_10m.tif?st=2023-11-15T00%3A04%3A08Z&se=2023-11-16T00%3A49%3A08Z&sp=rl&sv=2021-06-08&sr=c&skoid=c85c15d6-d1ae-42d4-af60-e2ca0f81359b&sktid=72f988bf-86f1-41af-91ab-2d7cd011db47&skt=2023-11-15T19%3A35%3A57Z&ske=2023-11-22T19%3A35%3A57Z&sks=b&skv=2021-06-08&sig=3m3jElRLso6//YheLb%2B21/LFxL9owor7Y0CJVtOXDLc%3D'],\n",
       "  'nir': ['https://sentinel2l2a01.blob.core.windows.net/sentinel2-l2/14/R/LP/2023/06/23/S2B_MSIL2A_20230623T170849_N0509_R112_T14RLP_20230624T005615.SAFE/GRANULE/L2A_T14RLP_A032885_20230623T172245/IMG_DATA/R10m/T14RLP_20230623T170849_B08_10m.tif?st=2023-11-15T00%3A04%3A08Z&se=2023-11-16T00%3A49%3A08Z&sp=rl&sv=2021-06-08&sr=c&skoid=c85c15d6-d1ae-42d4-af60-e2ca0f81359b&sktid=72f988bf-86f1-41af-91ab-2d7cd011db47&skt=2023-11-15T19%3A35%3A57Z&ske=2023-11-22T19%3A35%3A57Z&sks=b&skv=2021-06-08&sig=3m3jElRLso6//YheLb%2B21/LFxL9owor7Y0CJVtOXDLc%3D']},\n",
       " datetime.date(2023, 6, 18): {'red': ['https://sentinel2l2a01.blob.core.windows.net/sentinel2-l2/14/R/LP/2023/06/18/S2A_MSIL2A_20230618T170901_N0509_R112_T14RLP_20230619T012049.SAFE/GRANULE/L2A_T14RLP_A041722_20230618T172151/IMG_DATA/R10m/T14RLP_20230618T170901_B04_10m.tif?st=2023-11-15T00%3A04%3A08Z&se=2023-11-16T00%3A49%3A08Z&sp=rl&sv=2021-06-08&sr=c&skoid=c85c15d6-d1ae-42d4-af60-e2ca0f81359b&sktid=72f988bf-86f1-41af-91ab-2d7cd011db47&skt=2023-11-15T19%3A35%3A57Z&ske=2023-11-22T19%3A35%3A57Z&sks=b&skv=2021-06-08&sig=3m3jElRLso6//YheLb%2B21/LFxL9owor7Y0CJVtOXDLc%3D'],\n",
       "  'nir': ['https://sentinel2l2a01.blob.core.windows.net/sentinel2-l2/14/R/LP/2023/06/18/S2A_MSIL2A_20230618T170901_N0509_R112_T14RLP_20230619T012049.SAFE/GRANULE/L2A_T14RLP_A041722_20230618T172151/IMG_DATA/R10m/T14RLP_20230618T170901_B08_10m.tif?st=2023-11-15T00%3A04%3A08Z&se=2023-11-16T00%3A49%3A08Z&sp=rl&sv=2021-06-08&sr=c&skoid=c85c15d6-d1ae-42d4-af60-e2ca0f81359b&sktid=72f988bf-86f1-41af-91ab-2d7cd011db47&skt=2023-11-15T19%3A35%3A57Z&ske=2023-11-22T19%3A35%3A57Z&sks=b&skv=2021-06-08&sig=3m3jElRLso6//YheLb%2B21/LFxL9owor7Y0CJVtOXDLc%3D']},\n",
       " datetime.date(2023, 6, 13): {'red': ['https://sentinel2l2a01.blob.core.windows.net/sentinel2-l2/14/R/LP/2023/06/13/S2B_MSIL2A_20230613T170859_N0509_R112_T14RLP_20230614T004545.SAFE/GRANULE/L2A_T14RLP_A032742_20230613T172417/IMG_DATA/R10m/T14RLP_20230613T170859_B04_10m.tif?st=2023-11-15T00%3A04%3A08Z&se=2023-11-16T00%3A49%3A08Z&sp=rl&sv=2021-06-08&sr=c&skoid=c85c15d6-d1ae-42d4-af60-e2ca0f81359b&sktid=72f988bf-86f1-41af-91ab-2d7cd011db47&skt=2023-11-15T19%3A35%3A57Z&ske=2023-11-22T19%3A35%3A57Z&sks=b&skv=2021-06-08&sig=3m3jElRLso6//YheLb%2B21/LFxL9owor7Y0CJVtOXDLc%3D'],\n",
       "  'nir': ['https://sentinel2l2a01.blob.core.windows.net/sentinel2-l2/14/R/LP/2023/06/13/S2B_MSIL2A_20230613T170859_N0509_R112_T14RLP_20230614T004545.SAFE/GRANULE/L2A_T14RLP_A032742_20230613T172417/IMG_DATA/R10m/T14RLP_20230613T170859_B08_10m.tif?st=2023-11-15T00%3A04%3A08Z&se=2023-11-16T00%3A49%3A08Z&sp=rl&sv=2021-06-08&sr=c&skoid=c85c15d6-d1ae-42d4-af60-e2ca0f81359b&sktid=72f988bf-86f1-41af-91ab-2d7cd011db47&skt=2023-11-15T19%3A35%3A57Z&ske=2023-11-22T19%3A35%3A57Z&sks=b&skv=2021-06-08&sig=3m3jElRLso6//YheLb%2B21/LFxL9owor7Y0CJVtOXDLc%3D']},\n",
       " datetime.date(2023, 7, 18): {'red': ['https://sentinel2l2a01.blob.core.windows.net/sentinel2-l2/14/R/LP/2023/07/18/S2A_MSIL2A_20230718T170851_N0509_R112_T14RLP_20230719T031646.SAFE/GRANULE/L2A_T14RLP_A042151_20230718T171743/IMG_DATA/R10m/T14RLP_20230718T170851_B04_10m.tif?st=2023-11-15T00%3A04%3A08Z&se=2023-11-16T00%3A49%3A08Z&sp=rl&sv=2021-06-08&sr=c&skoid=c85c15d6-d1ae-42d4-af60-e2ca0f81359b&sktid=72f988bf-86f1-41af-91ab-2d7cd011db47&skt=2023-11-15T19%3A35%3A57Z&ske=2023-11-22T19%3A35%3A57Z&sks=b&skv=2021-06-08&sig=3m3jElRLso6//YheLb%2B21/LFxL9owor7Y0CJVtOXDLc%3D'],\n",
       "  'nir': ['https://sentinel2l2a01.blob.core.windows.net/sentinel2-l2/14/R/LP/2023/07/18/S2A_MSIL2A_20230718T170851_N0509_R112_T14RLP_20230719T031646.SAFE/GRANULE/L2A_T14RLP_A042151_20230718T171743/IMG_DATA/R10m/T14RLP_20230718T170851_B08_10m.tif?st=2023-11-15T00%3A04%3A08Z&se=2023-11-16T00%3A49%3A08Z&sp=rl&sv=2021-06-08&sr=c&skoid=c85c15d6-d1ae-42d4-af60-e2ca0f81359b&sktid=72f988bf-86f1-41af-91ab-2d7cd011db47&skt=2023-11-15T19%3A35%3A57Z&ske=2023-11-22T19%3A35%3A57Z&sks=b&skv=2021-06-08&sig=3m3jElRLso6//YheLb%2B21/LFxL9owor7Y0CJVtOXDLc%3D']},\n",
       " datetime.date(2023, 7, 13): {'red': ['https://sentinel2l2a01.blob.core.windows.net/sentinel2-l2/14/R/LP/2023/07/13/S2B_MSIL2A_20230713T170859_N0509_R112_T14RLP_20230721T095725.SAFE/GRANULE/L2A_T14RLP_A033171_20230713T172240/IMG_DATA/R10m/T14RLP_20230713T170859_B04_10m.tif?st=2023-11-15T00%3A04%3A08Z&se=2023-11-16T00%3A49%3A08Z&sp=rl&sv=2021-06-08&sr=c&skoid=c85c15d6-d1ae-42d4-af60-e2ca0f81359b&sktid=72f988bf-86f1-41af-91ab-2d7cd011db47&skt=2023-11-15T19%3A35%3A57Z&ske=2023-11-22T19%3A35%3A57Z&sks=b&skv=2021-06-08&sig=3m3jElRLso6//YheLb%2B21/LFxL9owor7Y0CJVtOXDLc%3D'],\n",
       "  'nir': ['https://sentinel2l2a01.blob.core.windows.net/sentinel2-l2/14/R/LP/2023/07/13/S2B_MSIL2A_20230713T170859_N0509_R112_T14RLP_20230721T095725.SAFE/GRANULE/L2A_T14RLP_A033171_20230713T172240/IMG_DATA/R10m/T14RLP_20230713T170859_B08_10m.tif?st=2023-11-15T00%3A04%3A08Z&se=2023-11-16T00%3A49%3A08Z&sp=rl&sv=2021-06-08&sr=c&skoid=c85c15d6-d1ae-42d4-af60-e2ca0f81359b&sktid=72f988bf-86f1-41af-91ab-2d7cd011db47&skt=2023-11-15T19%3A35%3A57Z&ske=2023-11-22T19%3A35%3A57Z&sks=b&skv=2021-06-08&sig=3m3jElRLso6//YheLb%2B21/LFxL9owor7Y0CJVtOXDLc%3D']},\n",
       " datetime.date(2023, 8, 17): {'red': ['https://sentinel2l2a01.blob.core.windows.net/sentinel2-l2/14/R/LP/2023/08/17/S2A_MSIL2A_20230817T170901_N0509_R112_T14RLP_20230818T022050.SAFE/GRANULE/L2A_T14RLP_A042580_20230817T171901/IMG_DATA/R10m/T14RLP_20230817T170901_B04_10m.tif?st=2023-11-15T00%3A04%3A08Z&se=2023-11-16T00%3A49%3A08Z&sp=rl&sv=2021-06-08&sr=c&skoid=c85c15d6-d1ae-42d4-af60-e2ca0f81359b&sktid=72f988bf-86f1-41af-91ab-2d7cd011db47&skt=2023-11-15T19%3A35%3A57Z&ske=2023-11-22T19%3A35%3A57Z&sks=b&skv=2021-06-08&sig=3m3jElRLso6//YheLb%2B21/LFxL9owor7Y0CJVtOXDLc%3D'],\n",
       "  'nir': ['https://sentinel2l2a01.blob.core.windows.net/sentinel2-l2/14/R/LP/2023/08/17/S2A_MSIL2A_20230817T170901_N0509_R112_T14RLP_20230818T022050.SAFE/GRANULE/L2A_T14RLP_A042580_20230817T171901/IMG_DATA/R10m/T14RLP_20230817T170901_B08_10m.tif?st=2023-11-15T00%3A04%3A08Z&se=2023-11-16T00%3A49%3A08Z&sp=rl&sv=2021-06-08&sr=c&skoid=c85c15d6-d1ae-42d4-af60-e2ca0f81359b&sktid=72f988bf-86f1-41af-91ab-2d7cd011db47&skt=2023-11-15T19%3A35%3A57Z&ske=2023-11-22T19%3A35%3A57Z&sks=b&skv=2021-06-08&sig=3m3jElRLso6//YheLb%2B21/LFxL9owor7Y0CJVtOXDLc%3D']},\n",
       " datetime.date(2023, 8, 12): {'red': ['https://sentinel2l2a01.blob.core.windows.net/sentinel2-l2/14/R/LP/2023/08/12/S2B_MSIL2A_20230812T170859_N0509_R112_T14RLP_20230813T011656.SAFE/GRANULE/L2A_T14RLP_A033600_20230812T171607/IMG_DATA/R10m/T14RLP_20230812T170859_B04_10m.tif?st=2023-11-15T00%3A04%3A08Z&se=2023-11-16T00%3A49%3A08Z&sp=rl&sv=2021-06-08&sr=c&skoid=c85c15d6-d1ae-42d4-af60-e2ca0f81359b&sktid=72f988bf-86f1-41af-91ab-2d7cd011db47&skt=2023-11-15T19%3A35%3A57Z&ske=2023-11-22T19%3A35%3A57Z&sks=b&skv=2021-06-08&sig=3m3jElRLso6//YheLb%2B21/LFxL9owor7Y0CJVtOXDLc%3D'],\n",
       "  'nir': ['https://sentinel2l2a01.blob.core.windows.net/sentinel2-l2/14/R/LP/2023/08/12/S2B_MSIL2A_20230812T170859_N0509_R112_T14RLP_20230813T011656.SAFE/GRANULE/L2A_T14RLP_A033600_20230812T171607/IMG_DATA/R10m/T14RLP_20230812T170859_B08_10m.tif?st=2023-11-15T00%3A04%3A08Z&se=2023-11-16T00%3A49%3A08Z&sp=rl&sv=2021-06-08&sr=c&skoid=c85c15d6-d1ae-42d4-af60-e2ca0f81359b&sktid=72f988bf-86f1-41af-91ab-2d7cd011db47&skt=2023-11-15T19%3A35%3A57Z&ske=2023-11-22T19%3A35%3A57Z&sks=b&skv=2021-06-08&sig=3m3jElRLso6//YheLb%2B21/LFxL9owor7Y0CJVtOXDLc%3D']},\n",
       " datetime.date(2023, 8, 7): {'red': ['https://sentinel2l2a01.blob.core.windows.net/sentinel2-l2/14/R/LP/2023/08/07/S2A_MSIL2A_20230807T170851_N0509_R112_T14RLP_20230808T012231.SAFE/GRANULE/L2A_T14RLP_A042437_20230807T172055/IMG_DATA/R10m/T14RLP_20230807T170851_B04_10m.tif?st=2023-11-15T00%3A04%3A08Z&se=2023-11-16T00%3A49%3A08Z&sp=rl&sv=2021-06-08&sr=c&skoid=c85c15d6-d1ae-42d4-af60-e2ca0f81359b&sktid=72f988bf-86f1-41af-91ab-2d7cd011db47&skt=2023-11-15T19%3A35%3A57Z&ske=2023-11-22T19%3A35%3A57Z&sks=b&skv=2021-06-08&sig=3m3jElRLso6//YheLb%2B21/LFxL9owor7Y0CJVtOXDLc%3D'],\n",
       "  'nir': ['https://sentinel2l2a01.blob.core.windows.net/sentinel2-l2/14/R/LP/2023/08/07/S2A_MSIL2A_20230807T170851_N0509_R112_T14RLP_20230808T012231.SAFE/GRANULE/L2A_T14RLP_A042437_20230807T172055/IMG_DATA/R10m/T14RLP_20230807T170851_B08_10m.tif?st=2023-11-15T00%3A04%3A08Z&se=2023-11-16T00%3A49%3A08Z&sp=rl&sv=2021-06-08&sr=c&skoid=c85c15d6-d1ae-42d4-af60-e2ca0f81359b&sktid=72f988bf-86f1-41af-91ab-2d7cd011db47&skt=2023-11-15T19%3A35%3A57Z&ske=2023-11-22T19%3A35%3A57Z&sks=b&skv=2021-06-08&sig=3m3jElRLso6//YheLb%2B21/LFxL9owor7Y0CJVtOXDLc%3D']},\n",
       " datetime.date(2023, 9, 26): {'red': ['https://sentinel2l2a01.blob.core.windows.net/sentinel2-l2/14/R/LP/2023/09/26/S2A_MSIL2A_20230926T171051_N0509_R112_T14RLP_20230927T011329.SAFE/GRANULE/L2A_T14RLP_A043152_20230926T172418/IMG_DATA/R10m/T14RLP_20230926T171051_B04_10m.tif?st=2023-11-15T00%3A04%3A08Z&se=2023-11-16T00%3A49%3A08Z&sp=rl&sv=2021-06-08&sr=c&skoid=c85c15d6-d1ae-42d4-af60-e2ca0f81359b&sktid=72f988bf-86f1-41af-91ab-2d7cd011db47&skt=2023-11-15T19%3A35%3A57Z&ske=2023-11-22T19%3A35%3A57Z&sks=b&skv=2021-06-08&sig=3m3jElRLso6//YheLb%2B21/LFxL9owor7Y0CJVtOXDLc%3D'],\n",
       "  'nir': ['https://sentinel2l2a01.blob.core.windows.net/sentinel2-l2/14/R/LP/2023/09/26/S2A_MSIL2A_20230926T171051_N0509_R112_T14RLP_20230927T011329.SAFE/GRANULE/L2A_T14RLP_A043152_20230926T172418/IMG_DATA/R10m/T14RLP_20230926T171051_B08_10m.tif?st=2023-11-15T00%3A04%3A08Z&se=2023-11-16T00%3A49%3A08Z&sp=rl&sv=2021-06-08&sr=c&skoid=c85c15d6-d1ae-42d4-af60-e2ca0f81359b&sktid=72f988bf-86f1-41af-91ab-2d7cd011db47&skt=2023-11-15T19%3A35%3A57Z&ske=2023-11-22T19%3A35%3A57Z&sks=b&skv=2021-06-08&sig=3m3jElRLso6//YheLb%2B21/LFxL9owor7Y0CJVtOXDLc%3D']},\n",
       " datetime.date(2023, 9, 21): {'red': ['https://sentinel2l2a01.blob.core.windows.net/sentinel2-l2/14/R/LP/2023/09/21/S2B_MSIL2A_20230921T170919_N0509_R112_T14RLP_20230922T013330.SAFE/GRANULE/L2A_T14RLP_A034172_20230921T172416/IMG_DATA/R10m/T14RLP_20230921T170919_B04_10m.tif?st=2023-11-15T00%3A04%3A08Z&se=2023-11-16T00%3A49%3A08Z&sp=rl&sv=2021-06-08&sr=c&skoid=c85c15d6-d1ae-42d4-af60-e2ca0f81359b&sktid=72f988bf-86f1-41af-91ab-2d7cd011db47&skt=2023-11-15T19%3A35%3A57Z&ske=2023-11-22T19%3A35%3A57Z&sks=b&skv=2021-06-08&sig=3m3jElRLso6//YheLb%2B21/LFxL9owor7Y0CJVtOXDLc%3D'],\n",
       "  'nir': ['https://sentinel2l2a01.blob.core.windows.net/sentinel2-l2/14/R/LP/2023/09/21/S2B_MSIL2A_20230921T170919_N0509_R112_T14RLP_20230922T013330.SAFE/GRANULE/L2A_T14RLP_A034172_20230921T172416/IMG_DATA/R10m/T14RLP_20230921T170919_B08_10m.tif?st=2023-11-15T00%3A04%3A08Z&se=2023-11-16T00%3A49%3A08Z&sp=rl&sv=2021-06-08&sr=c&skoid=c85c15d6-d1ae-42d4-af60-e2ca0f81359b&sktid=72f988bf-86f1-41af-91ab-2d7cd011db47&skt=2023-11-15T19%3A35%3A57Z&ske=2023-11-22T19%3A35%3A57Z&sks=b&skv=2021-06-08&sig=3m3jElRLso6//YheLb%2B21/LFxL9owor7Y0CJVtOXDLc%3D']},\n",
       " datetime.date(2023, 9, 11): {'red': ['https://sentinel2l2a01.blob.core.windows.net/sentinel2-l2/14/R/LP/2023/09/11/S2B_MSIL2A_20230911T170859_N0509_R112_T14RLP_20230912T010040.SAFE/GRANULE/L2A_T14RLP_A034029_20230911T172312/IMG_DATA/R10m/T14RLP_20230911T170859_B04_10m.tif?st=2023-11-15T00%3A04%3A08Z&se=2023-11-16T00%3A49%3A08Z&sp=rl&sv=2021-06-08&sr=c&skoid=c85c15d6-d1ae-42d4-af60-e2ca0f81359b&sktid=72f988bf-86f1-41af-91ab-2d7cd011db47&skt=2023-11-15T19%3A35%3A57Z&ske=2023-11-22T19%3A35%3A57Z&sks=b&skv=2021-06-08&sig=3m3jElRLso6//YheLb%2B21/LFxL9owor7Y0CJVtOXDLc%3D'],\n",
       "  'nir': ['https://sentinel2l2a01.blob.core.windows.net/sentinel2-l2/14/R/LP/2023/09/11/S2B_MSIL2A_20230911T170859_N0509_R112_T14RLP_20230912T010040.SAFE/GRANULE/L2A_T14RLP_A034029_20230911T172312/IMG_DATA/R10m/T14RLP_20230911T170859_B08_10m.tif?st=2023-11-15T00%3A04%3A08Z&se=2023-11-16T00%3A49%3A08Z&sp=rl&sv=2021-06-08&sr=c&skoid=c85c15d6-d1ae-42d4-af60-e2ca0f81359b&sktid=72f988bf-86f1-41af-91ab-2d7cd011db47&skt=2023-11-15T19%3A35%3A57Z&ske=2023-11-22T19%3A35%3A57Z&sks=b&skv=2021-06-08&sig=3m3jElRLso6//YheLb%2B21/LFxL9owor7Y0CJVtOXDLc%3D']},\n",
       " datetime.date(2023, 9, 6): {'red': ['https://sentinel2l2a01.blob.core.windows.net/sentinel2-l2/14/R/LP/2023/09/06/S2A_MSIL2A_20230906T170851_N0509_R112_T14RLP_20230907T020847.SAFE/GRANULE/L2A_T14RLP_A042866_20230906T171914/IMG_DATA/R10m/T14RLP_20230906T170851_B04_10m.tif?st=2023-11-15T00%3A04%3A08Z&se=2023-11-16T00%3A49%3A08Z&sp=rl&sv=2021-06-08&sr=c&skoid=c85c15d6-d1ae-42d4-af60-e2ca0f81359b&sktid=72f988bf-86f1-41af-91ab-2d7cd011db47&skt=2023-11-15T19%3A35%3A57Z&ske=2023-11-22T19%3A35%3A57Z&sks=b&skv=2021-06-08&sig=3m3jElRLso6//YheLb%2B21/LFxL9owor7Y0CJVtOXDLc%3D'],\n",
       "  'nir': ['https://sentinel2l2a01.blob.core.windows.net/sentinel2-l2/14/R/LP/2023/09/06/S2A_MSIL2A_20230906T170851_N0509_R112_T14RLP_20230907T020847.SAFE/GRANULE/L2A_T14RLP_A042866_20230906T171914/IMG_DATA/R10m/T14RLP_20230906T170851_B08_10m.tif?st=2023-11-15T00%3A04%3A08Z&se=2023-11-16T00%3A49%3A08Z&sp=rl&sv=2021-06-08&sr=c&skoid=c85c15d6-d1ae-42d4-af60-e2ca0f81359b&sktid=72f988bf-86f1-41af-91ab-2d7cd011db47&skt=2023-11-15T19%3A35%3A57Z&ske=2023-11-22T19%3A35%3A57Z&sks=b&skv=2021-06-08&sig=3m3jElRLso6//YheLb%2B21/LFxL9owor7Y0CJVtOXDLc%3D']},\n",
       " datetime.date(2023, 10, 21): {'red': ['https://sentinel2l2a01.blob.core.windows.net/sentinel2-l2/14/R/LP/2023/10/21/S2B_MSIL2A_20231021T171339_N0509_R112_T14RLP_20231021T213451.SAFE/GRANULE/L2A_T14RLP_A034601_20231021T172230/IMG_DATA/R10m/T14RLP_20231021T171339_B04_10m.tif?st=2023-11-15T00%3A04%3A08Z&se=2023-11-16T00%3A49%3A08Z&sp=rl&sv=2021-06-08&sr=c&skoid=c85c15d6-d1ae-42d4-af60-e2ca0f81359b&sktid=72f988bf-86f1-41af-91ab-2d7cd011db47&skt=2023-11-15T19%3A35%3A57Z&ske=2023-11-22T19%3A35%3A57Z&sks=b&skv=2021-06-08&sig=3m3jElRLso6//YheLb%2B21/LFxL9owor7Y0CJVtOXDLc%3D'],\n",
       "  'nir': ['https://sentinel2l2a01.blob.core.windows.net/sentinel2-l2/14/R/LP/2023/10/21/S2B_MSIL2A_20231021T171339_N0509_R112_T14RLP_20231021T213451.SAFE/GRANULE/L2A_T14RLP_A034601_20231021T172230/IMG_DATA/R10m/T14RLP_20231021T171339_B08_10m.tif?st=2023-11-15T00%3A04%3A08Z&se=2023-11-16T00%3A49%3A08Z&sp=rl&sv=2021-06-08&sr=c&skoid=c85c15d6-d1ae-42d4-af60-e2ca0f81359b&sktid=72f988bf-86f1-41af-91ab-2d7cd011db47&skt=2023-11-15T19%3A35%3A57Z&ske=2023-11-22T19%3A35%3A57Z&sks=b&skv=2021-06-08&sig=3m3jElRLso6//YheLb%2B21/LFxL9owor7Y0CJVtOXDLc%3D']}}"
      ]
     },
     "execution_count": 9,
     "metadata": {},
     "output_type": "execute_result"
    }
   ],
   "source": [
    "assets_hrefs"
   ]
  },
  {
   "cell_type": "code",
   "execution_count": 10,
   "id": "8a59436b-ce43-4a0b-8759-4c349a7e9356",
   "metadata": {
    "tags": []
   },
   "outputs": [
    {
     "name": "stdout",
     "output_type": "stream",
     "text": [
      "Created bounding box for raster cropping\n"
     ]
    }
   ],
   "source": [
    "# analyze available data according to raster properties\n",
    "df_len, missing_months = aup.df_date_links(assets_hrefs, start_date, end_date, band_name_list, freq)\n",
    "aup.available_data_check(df_len, missing_months) # test for missing months\n",
    "\n",
    "# creates raster and analyzes percentage of missing data points\n",
    "df_len, missing_months = aup.df_date_links(assets_hrefs, start_date, end_date, band_name_list, freq)\n",
    "pct_missing = round(missing_months/len(df_len),2)*100\n",
    "\n",
    "# if more than 50% of data is missing, raise error and print message\n",
    "if pct_missing >= 50:\n",
    "\n",
    "    raise AvailableData('Missing more than 50 percent of data points')\n",
    "\n",
    "# raster cropping with bounding box from earlier \n",
    "bounding_box = gpd.GeoDataFrame(geometry=poly).envelope\n",
    "gdf_bb = gpd.GeoDataFrame(gpd.GeoSeries(bounding_box), columns=['geometry'])\n",
    "print('Created bounding box for raster cropping')\n",
    "\n",
    "# create GeoDataFrame to test nan values in raster\n",
    "gdf_raster_test = gdf.to_crs(\"EPSG:6372\").buffer(1)\n",
    "gdf_raster_test = gdf_raster_test.to_crs(\"EPSG:4326\")\n",
    "gdf_raster_test = gpd.GeoDataFrame(geometry=gdf_raster_test).dissolve()"
   ]
  },
  {
   "cell_type": "code",
   "execution_count": 11,
   "id": "2a157838-7f56-4e8f-93b4-4b86f8fe9f23",
   "metadata": {
    "collapsed": true,
    "jupyter": {
     "outputs_hidden": true
    },
    "tags": []
   },
   "outputs": [
    {
     "name": "stdout",
     "output_type": "stream",
     "text": [
      "Starting raster creation for specified time\n"
     ]
    },
    {
     "name": "stderr",
     "output_type": "stream",
     "text": [
      "  4%|██▎                                                     | 4/95 [00:19<07:18,  4.82s/it]\n"
     ]
    },
    {
     "ename": "AvailableData",
     "evalue": "Multiple missing months together",
     "output_type": "error",
     "traceback": [
      "\u001b[0;31m---------------------------------------------------------------------------\u001b[0m",
      "\u001b[0;31mAvailableData\u001b[0m                             Traceback (most recent call last)",
      "Input \u001b[0;32mIn [11]\u001b[0m, in \u001b[0;36m<cell line: 4>\u001b[0;34m()\u001b[0m\n\u001b[1;32m      2\u001b[0m \u001b[38;5;28mprint\u001b[39m(\u001b[38;5;124m'\u001b[39m\u001b[38;5;124mStarting raster creation for specified time\u001b[39m\u001b[38;5;124m'\u001b[39m)\n\u001b[1;32m      3\u001b[0m \u001b[38;5;66;03m# download raster data by month\u001b[39;00m\n\u001b[0;32m----> 4\u001b[0m df_len \u001b[38;5;241m=\u001b[39m \u001b[43maup\u001b[49m\u001b[38;5;241;43m.\u001b[39;49m\u001b[43mcreate_raster_by_month\u001b[49m\u001b[43m(\u001b[49m\u001b[43mdf_len\u001b[49m\u001b[43m,\u001b[49m\u001b[43m \u001b[49m\u001b[43mindex_analysis\u001b[49m\u001b[43m,\u001b[49m\u001b[43m \u001b[49m\u001b[43mcity\u001b[49m\u001b[43m,\u001b[49m\u001b[43m \u001b[49m\u001b[43mtmp_dir\u001b[49m\u001b[43m,\u001b[49m\u001b[43mband_name_dict\u001b[49m\u001b[43m,\u001b[49m\u001b[43mdate_list\u001b[49m\u001b[43m,\u001b[49m\u001b[43m \u001b[49m\u001b[43mgdf_raster_test\u001b[49m\u001b[43m,\u001b[49m\u001b[43mgdf_bb\u001b[49m\u001b[43m,\u001b[49m\u001b[43m \u001b[49m\u001b[43marea_of_interest\u001b[49m\u001b[43m,\u001b[49m\u001b[43m \u001b[49m\u001b[43msatellite\u001b[49m\u001b[43m,\u001b[49m\u001b[43m \u001b[49m\u001b[43mquery\u001b[49m\u001b[38;5;241;43m=\u001b[39;49m\u001b[43mquery\u001b[49m\u001b[43m)\u001b[49m\n\u001b[1;32m      5\u001b[0m \u001b[38;5;28mprint\u001b[39m(\u001b[38;5;124m'\u001b[39m\u001b[38;5;124mFinished raster creation\u001b[39m\u001b[38;5;124m'\u001b[39m)\n",
      "File \u001b[0;32m~/Repos/observatorio-ciudades/accesibilidad-urbana/aup/raster.py:914\u001b[0m, in \u001b[0;36mcreate_raster_by_month\u001b[0;34m(df_len, index_analysis, city, tmp_dir, band_name_dict, date_list, gdf_raster_test, gdf_bb, aoi, sat, query, time_exc_limit)\u001b[0m\n\u001b[1;32m    912\u001b[0m         df_raster\u001b[38;5;241m.\u001b[39mloc[df_raster\u001b[38;5;241m.\u001b[39mindex\u001b[38;5;241m==\u001b[39mi,\u001b[38;5;124m'\u001b[39m\u001b[38;5;124mable_to_download\u001b[39m\u001b[38;5;124m'\u001b[39m]\u001b[38;5;241m=\u001b[39m\u001b[38;5;241m0\u001b[39m\n\u001b[1;32m    913\u001b[0m         df_raster\u001b[38;5;241m.\u001b[39mto_csv(df_file_dir, index\u001b[38;5;241m=\u001b[39m\u001b[38;5;28;01mFalse\u001b[39;00m)\n\u001b[0;32m--> 914\u001b[0m         \u001b[43mavailable_data_check\u001b[49m\u001b[43m(\u001b[49m\u001b[43mdf_raster\u001b[49m\u001b[43m,\u001b[49m\u001b[43m \u001b[49m\u001b[38;5;28;43mlen\u001b[39;49m\u001b[43m(\u001b[49m\u001b[43mdf_raster\u001b[49m\u001b[38;5;241;43m.\u001b[39;49m\u001b[43mloc\u001b[49m\u001b[43m[\u001b[49m\u001b[43mdf_raster\u001b[49m\u001b[38;5;241;43m.\u001b[39;49m\u001b[43mdata_id\u001b[49m\u001b[38;5;241;43m==\u001b[39;49m\u001b[38;5;241;43m0\u001b[39;49m\u001b[43m]\u001b[49m\u001b[43m)\u001b[49m\u001b[43m)\u001b[49m \u001b[38;5;66;03m# test for missing months\u001b[39;00m\n\u001b[1;32m    915\u001b[0m         \u001b[38;5;28;01mcontinue\u001b[39;00m\n\u001b[1;32m    917\u001b[0m df_len \u001b[38;5;241m=\u001b[39m pd\u001b[38;5;241m.\u001b[39mread_csv(df_file_dir, index_col\u001b[38;5;241m=\u001b[39m\u001b[38;5;28;01mFalse\u001b[39;00m)\n",
      "File \u001b[0;32m~/Repos/observatorio-ciudades/accesibilidad-urbana/aup/raster.py:54\u001b[0m, in \u001b[0;36mavailable_data_check\u001b[0;34m(df_len, missing_months, pct_limit, window_limit)\u001b[0m\n\u001b[1;32m     52\u001b[0m df_rol \u001b[38;5;241m=\u001b[39m df_len\u001b[38;5;241m.\u001b[39mrolling(window_limit)\u001b[38;5;241m.\u001b[39msum()\n\u001b[1;32m     53\u001b[0m \u001b[38;5;28;01mif\u001b[39;00m \u001b[38;5;28mlen\u001b[39m(df_rol\u001b[38;5;241m.\u001b[39mloc[df_rol\u001b[38;5;241m.\u001b[39mdata_id\u001b[38;5;241m==\u001b[39m\u001b[38;5;241m0\u001b[39m])\u001b[38;5;241m>\u001b[39m\u001b[38;5;241m0\u001b[39m:\n\u001b[0;32m---> 54\u001b[0m     \u001b[38;5;28;01mraise\u001b[39;00m AvailableData(\u001b[38;5;124m'\u001b[39m\u001b[38;5;124mMultiple missing months together\u001b[39m\u001b[38;5;124m'\u001b[39m)\n\u001b[1;32m     55\u001b[0m \u001b[38;5;28;01mdel\u001b[39;00m df_rol\n",
      "\u001b[0;31mAvailableData\u001b[0m: Multiple missing months together"
     ]
    }
   ],
   "source": [
    "# raster creation\n",
    "print('Starting raster creation for specified time')\n",
    "# download raster data by month\n",
    "df_len = aup.create_raster_by_month(df_len, index_analysis, city, tmp_dir,band_name_dict,date_list, gdf_raster_test,gdf_bb, area_of_interest, satellite, query=query)\n",
    "print('Finished raster creation')"
   ]
  },
  {
   "cell_type": "markdown",
   "id": "a7fab7e3-7c79-4fc8-beb2-dd8db9652ee2",
   "metadata": {
    "jp-MarkdownHeadingCollapsed": true,
    "tags": []
   },
   "source": [
    "### Debuging / reviewing: create_raster_by_month step by step"
   ]
  },
  {
   "cell_type": "code",
   "execution_count": 12,
   "id": "35768201-a22a-45a9-b0c4-f185db2a46ab",
   "metadata": {
    "tags": []
   },
   "outputs": [],
   "source": [
    "from datetime import datetime\n",
    "from dateutil.relativedelta import relativedelta\n",
    "\n",
    "aoi = area_of_interest.copy()\n",
    "sat = satellite"
   ]
  },
  {
   "cell_type": "code",
   "execution_count": 13,
   "id": "abcc4703-c318-4041-87de-e2d484feb669",
   "metadata": {
    "tags": []
   },
   "outputs": [
    {
     "name": "stdout",
     "output_type": "stream",
     "text": [
      "\n",
      " Starting raster analysis\n"
     ]
    }
   ],
   "source": [
    "df_len['able_to_download'] = np.nan\n",
    "band_name_list = list(band_name_dict.keys())[:-1]\n",
    "\n",
    "print('\\n Starting raster analysis')\n",
    "\n",
    "# check if file exists, for example in case of code crash\n",
    "df_file_dir = tmp_dir+index_analysis+f'_{city}_dataframe.csv'\n",
    "if os.path.exists(df_file_dir) == False: # Or folder, will return true or false\n",
    "    df_len.to_csv(df_file_dir, index=False)\n",
    "# create folder to store temporary raster files by iteration\n",
    "tmp_raster_dir = tmp_dir+'temporary_files/'\n",
    "if os.path.exists(tmp_raster_dir) == False: # Or folder, will return true or false\n",
    "    os.mkdir(tmp_raster_dir)"
   ]
  },
  {
   "cell_type": "code",
   "execution_count": 16,
   "id": "185b539d-c172-41ed-8aac-40a3c19291dd",
   "metadata": {},
   "outputs": [
    {
     "name": "stdout",
     "output_type": "stream",
     "text": [
      "\n",
      " Starting new analysis for 1/2016\n"
     ]
    }
   ],
   "source": [
    "i = 0\n",
    "\n",
    "df_raster = pd.read_csv(df_file_dir, index_col=False)\n",
    "\n",
    "# binary id - checks if month could be processed\n",
    "checker = 0\n",
    "\n",
    "# gather month and year from df to save raster\n",
    "month_ = df_raster.loc[df_raster.index==i].month.values[0]\n",
    "year_ = df_raster.loc[df_raster.index==i].year.values[0]\n",
    "\n",
    "\n",
    "print(f'\\n Starting new analysis for {month_}/{year_}')\n",
    "\n",
    "# gather links for raster images\n",
    "sample_date = datetime(year_, month_, 1)\n",
    "first_day = sample_date + relativedelta(day=1)\n",
    "last_day = sample_date + relativedelta(day=31)\n",
    "\n",
    "# creates time range for a specific month\n",
    "time_of_interest = [f\"{year_}-{month_:02d}-{first_day.day:02d}/{year_}\"+\n",
    "                    f\"-{month_:02d}-{last_day.day:02d}\"]\n",
    "# gather links for the date range\n",
    "items = aup.gather_items(time_of_interest, aoi, query=query, satellite=sat)\n",
    "\n",
    "# gather links from dates that are within date_list\n",
    "assets_hrefs = aup.link_dict(band_name_list, items, date_list)\n",
    "# create dataframe\n",
    "#df_links = pd.DataFrame.from_dict(assets_hrefs, \n",
    "#                                orient='Index').reset_index().rename(columns={'index':'date'})\n",
    "\n",
    "# dates according to cloud coverage\n",
    "date_order = [True if (d.month == month_) and (d.year == year_) else False for d in date_list]\n",
    "date_array = np.array(date_list)\n",
    "date_filter = np.array(date_order)\n",
    "dates_ordered = date_array[date_filter]"
   ]
  },
  {
   "cell_type": "code",
   "execution_count": 21,
   "id": "fddb41fb-bf8f-486c-acf6-f9c70c903eab",
   "metadata": {},
   "outputs": [
    {
     "ename": "RasterioIOError",
     "evalue": "'/vsicurl/https://sentinel2l2a01.blob.core.windows.net/sentinel2-l2/14/R/LP/2016/01/16/S2A_MSIL2A_20160116T171642_N0300_R112_T14RLP_20210527T183616.SAFE/GRANULE/L2A_T14RLP_A002969_20160116T172524/IMG_DATA/R10m/T14RLP_20160116T171642_B04_10m.tif?st=2023-11-15T00%3A04%3A08Z&se=2023-11-16T00%3A49%3A08Z&sp=rl&sv=2021-06-08&sr=c&skoid=c85c15d6-d1ae-42d4-af60-e2ca0f81359b&sktid=72f988bf-86f1-41af-91ab-2d7cd011db47&skt=2023-11-15T19%3A35%3A57Z&ske=2023-11-22T19%3A35%3A57Z&sks=b&skv=2021-06-08&sig=3m3jElRLso6/YheLb%2B21/LFxL9owor7Y0CJVtOXDLc%3D' not recognized as a supported file format.",
     "output_type": "error",
     "traceback": [
      "\u001b[0;31m---------------------------------------------------------------------------\u001b[0m",
      "\u001b[0;31mRasterioIOError\u001b[0m                           Traceback (most recent call last)",
      "Input \u001b[0;32mIn [21]\u001b[0m, in \u001b[0;36m<cell line: 5>\u001b[0;34m()\u001b[0m\n\u001b[1;32m      2\u001b[0m time_exc_limit \u001b[38;5;241m=\u001b[39m \u001b[38;5;241m900\u001b[39m\n\u001b[1;32m      4\u001b[0m bands_links \u001b[38;5;241m=\u001b[39m assets_hrefs[dates_ordered[data_link]]\n\u001b[0;32m----> 5\u001b[0m rasters_arrays \u001b[38;5;241m=\u001b[39m \u001b[43maup\u001b[49m\u001b[38;5;241;43m.\u001b[39;49m\u001b[43mfunc_timeout\u001b[49m\u001b[43m(\u001b[49m\u001b[43mtime_exc_limit\u001b[49m\u001b[43m,\u001b[49m\u001b[43m \u001b[49m\u001b[43maup\u001b[49m\u001b[38;5;241;43m.\u001b[39;49m\u001b[43mmosaic_process_v2\u001b[49m\u001b[43m,\u001b[49m\u001b[43margs\u001b[49m\u001b[38;5;241;43m=\u001b[39;49m\u001b[43m(\u001b[49m\u001b[43mbands_links\u001b[49m\u001b[43m,\u001b[49m\u001b[43m \u001b[49m\u001b[43mband_name_dict\u001b[49m\u001b[43m,\u001b[49m\u001b[43m \u001b[49m\u001b[43mgdf_bb\u001b[49m\u001b[43m,\u001b[49m\u001b[43m \u001b[49m\u001b[43mtmp_raster_dir\u001b[49m\u001b[43m)\u001b[49m\u001b[43m)\u001b[49m\n\u001b[1;32m      6\u001b[0m out_meta \u001b[38;5;241m=\u001b[39m rasters_arrays[\u001b[38;5;28mlist\u001b[39m(rasters_arrays\u001b[38;5;241m.\u001b[39mkeys())[\u001b[38;5;241m0\u001b[39m]][\u001b[38;5;241m2\u001b[39m]\n\u001b[1;32m      8\u001b[0m \u001b[38;5;66;03m# calculate raster index\u001b[39;00m\n",
      "File \u001b[0;32m~/anaconda3/envs/odc/lib/python3.10/site-packages/func_timeout/dafunc.py:108\u001b[0m, in \u001b[0;36mfunc_timeout\u001b[0;34m(timeout, func, args, kwargs)\u001b[0m\n\u001b[1;32m    105\u001b[0m     thread\u001b[38;5;241m.\u001b[39mjoin(\u001b[38;5;241m.5\u001b[39m)\n\u001b[1;32m    107\u001b[0m \u001b[38;5;28;01mif\u001b[39;00m exception:\n\u001b[0;32m--> 108\u001b[0m     \u001b[43mraise_exception\u001b[49m\u001b[43m(\u001b[49m\u001b[43mexception\u001b[49m\u001b[43m)\u001b[49m\n\u001b[1;32m    110\u001b[0m \u001b[38;5;28;01mif\u001b[39;00m ret:\n\u001b[1;32m    111\u001b[0m     \u001b[38;5;28;01mreturn\u001b[39;00m ret[\u001b[38;5;241m0\u001b[39m]\n",
      "File \u001b[0;32m~/anaconda3/envs/odc/lib/python3.10/site-packages/func_timeout/py3_raise.py:7\u001b[0m, in \u001b[0;36mraise_exception\u001b[0;34m(exception)\u001b[0m\n\u001b[1;32m      6\u001b[0m \u001b[38;5;28;01mdef\u001b[39;00m \u001b[38;5;21mraise_exception\u001b[39m(exception):\n\u001b[0;32m----> 7\u001b[0m     \u001b[38;5;28;01mraise\u001b[39;00m exception[\u001b[38;5;241m0\u001b[39m] \u001b[38;5;28;01mfrom\u001b[39;00m \u001b[38;5;28;01mNone\u001b[39;00m\n",
      "File \u001b[0;32m~/Repos/observatorio-ciudades/accesibilidad-urbana/aup/raster.py:684\u001b[0m, in \u001b[0;36mmosaic_process_v2\u001b[0;34m(raster_bands, band_name_dict, gdf_bb, tmp_dir)\u001b[0m\n\u001b[1;32m    681\u001b[0m \u001b[38;5;28;01mfor\u001b[39;00m b \u001b[38;5;129;01min\u001b[39;00m band_names_list:\n\u001b[1;32m    683\u001b[0m     log(\u001b[38;5;124mf\u001b[39m\u001b[38;5;124m'\u001b[39m\u001b[38;5;124mStarting mosaic for \u001b[39m\u001b[38;5;132;01m{\u001b[39;00mb\u001b[38;5;132;01m}\u001b[39;00m\u001b[38;5;124m'\u001b[39m)\n\u001b[0;32m--> 684\u001b[0m     raster_array[b]\u001b[38;5;241m=\u001b[39m [\u001b[43mmosaic_raster\u001b[49m\u001b[43m(\u001b[49m\u001b[43mraster_bands\u001b[49m\u001b[43m[\u001b[49m\u001b[43mb\u001b[49m\u001b[43m]\u001b[49m\u001b[43m,\u001b[49m\u001b[43m \u001b[49m\u001b[43mtmp_dir\u001b[49m\u001b[43m,\u001b[49m\u001b[43m \u001b[49m\n\u001b[1;32m    685\u001b[0m \u001b[43m                                   \u001b[49m\u001b[43mupscale\u001b[49m\u001b[38;5;241;43m=\u001b[39;49m\u001b[43mband_name_dict\u001b[49m\u001b[43m[\u001b[49m\u001b[43mb\u001b[49m\u001b[43m]\u001b[49m\u001b[43m[\u001b[49m\u001b[38;5;241;43m0\u001b[39;49m\u001b[43m]\u001b[49m\u001b[43m)\u001b[49m]\n\u001b[1;32m    686\u001b[0m     \u001b[38;5;66;03m# mosaic_raster creates a tuple which has to be unpacked\u001b[39;00m\n\u001b[1;32m    687\u001b[0m     raster_array[b] \u001b[38;5;241m=\u001b[39m [raster_array[b][\u001b[38;5;241m0\u001b[39m][\u001b[38;5;241m0\u001b[39m],\n\u001b[1;32m    688\u001b[0m               raster_array[b][\u001b[38;5;241m0\u001b[39m][\u001b[38;5;241m1\u001b[39m],\n\u001b[1;32m    689\u001b[0m               raster_array[b][\u001b[38;5;241m0\u001b[39m][\u001b[38;5;241m2\u001b[39m]]\n",
      "File \u001b[0;32m~/Repos/observatorio-ciudades/accesibilidad-urbana/aup/raster.py:484\u001b[0m, in \u001b[0;36mmosaic_raster\u001b[0;34m(raster_asset_list, tmp_dir, upscale)\u001b[0m\n\u001b[1;32m    481\u001b[0m src_files_to_mosaic \u001b[38;5;241m=\u001b[39m []\n\u001b[1;32m    483\u001b[0m \u001b[38;5;28;01mfor\u001b[39;00m assets \u001b[38;5;129;01min\u001b[39;00m raster_asset_list:\n\u001b[0;32m--> 484\u001b[0m     src \u001b[38;5;241m=\u001b[39m \u001b[43mrasterio\u001b[49m\u001b[38;5;241;43m.\u001b[39;49m\u001b[43mopen\u001b[49m\u001b[43m(\u001b[49m\u001b[43massets\u001b[49m\u001b[43m)\u001b[49m\n\u001b[1;32m    485\u001b[0m     src_files_to_mosaic\u001b[38;5;241m.\u001b[39mappend(src)\n\u001b[1;32m    487\u001b[0m mosaic, out_trans \u001b[38;5;241m=\u001b[39m merge(src_files_to_mosaic) \u001b[38;5;66;03m# mosaic raster\u001b[39;00m\n",
      "File \u001b[0;32m~/anaconda3/envs/odc/lib/python3.10/site-packages/rasterio/env.py:442\u001b[0m, in \u001b[0;36mensure_env_with_credentials.<locals>.wrapper\u001b[0;34m(*args, **kwds)\u001b[0m\n\u001b[1;32m    439\u001b[0m     session \u001b[38;5;241m=\u001b[39m DummySession()\n\u001b[1;32m    441\u001b[0m \u001b[38;5;28;01mwith\u001b[39;00m env_ctor(session\u001b[38;5;241m=\u001b[39msession):\n\u001b[0;32m--> 442\u001b[0m     \u001b[38;5;28;01mreturn\u001b[39;00m \u001b[43mf\u001b[49m\u001b[43m(\u001b[49m\u001b[38;5;241;43m*\u001b[39;49m\u001b[43margs\u001b[49m\u001b[43m,\u001b[49m\u001b[43m \u001b[49m\u001b[38;5;241;43m*\u001b[39;49m\u001b[38;5;241;43m*\u001b[39;49m\u001b[43mkwds\u001b[49m\u001b[43m)\u001b[49m\n",
      "File \u001b[0;32m~/anaconda3/envs/odc/lib/python3.10/site-packages/rasterio/__init__.py:277\u001b[0m, in \u001b[0;36mopen\u001b[0;34m(fp, mode, driver, width, height, count, crs, transform, dtype, nodata, sharing, **kwargs)\u001b[0m\n\u001b[1;32m    274\u001b[0m path \u001b[38;5;241m=\u001b[39m _parse_path(raw_dataset_path)\n\u001b[1;32m    276\u001b[0m \u001b[38;5;28;01mif\u001b[39;00m mode \u001b[38;5;241m==\u001b[39m \u001b[38;5;124m\"\u001b[39m\u001b[38;5;124mr\u001b[39m\u001b[38;5;124m\"\u001b[39m:\n\u001b[0;32m--> 277\u001b[0m     dataset \u001b[38;5;241m=\u001b[39m \u001b[43mDatasetReader\u001b[49m\u001b[43m(\u001b[49m\u001b[43mpath\u001b[49m\u001b[43m,\u001b[49m\u001b[43m \u001b[49m\u001b[43mdriver\u001b[49m\u001b[38;5;241;43m=\u001b[39;49m\u001b[43mdriver\u001b[49m\u001b[43m,\u001b[49m\u001b[43m \u001b[49m\u001b[43msharing\u001b[49m\u001b[38;5;241;43m=\u001b[39;49m\u001b[43msharing\u001b[49m\u001b[43m,\u001b[49m\u001b[43m \u001b[49m\u001b[38;5;241;43m*\u001b[39;49m\u001b[38;5;241;43m*\u001b[39;49m\u001b[43mkwargs\u001b[49m\u001b[43m)\u001b[49m\n\u001b[1;32m    278\u001b[0m \u001b[38;5;28;01melif\u001b[39;00m mode \u001b[38;5;241m==\u001b[39m \u001b[38;5;124m\"\u001b[39m\u001b[38;5;124mr+\u001b[39m\u001b[38;5;124m\"\u001b[39m:\n\u001b[1;32m    279\u001b[0m     dataset \u001b[38;5;241m=\u001b[39m get_writer_for_path(path, driver\u001b[38;5;241m=\u001b[39mdriver)(\n\u001b[1;32m    280\u001b[0m         path, mode, driver\u001b[38;5;241m=\u001b[39mdriver, sharing\u001b[38;5;241m=\u001b[39msharing, \u001b[38;5;241m*\u001b[39m\u001b[38;5;241m*\u001b[39mkwargs\n\u001b[1;32m    281\u001b[0m     )\n",
      "File \u001b[0;32mrasterio/_base.pyx:304\u001b[0m, in \u001b[0;36mrasterio._base.DatasetBase.__init__\u001b[0;34m()\u001b[0m\n",
      "\u001b[0;31mRasterioIOError\u001b[0m: '/vsicurl/https://sentinel2l2a01.blob.core.windows.net/sentinel2-l2/14/R/LP/2016/01/16/S2A_MSIL2A_20160116T171642_N0300_R112_T14RLP_20210527T183616.SAFE/GRANULE/L2A_T14RLP_A002969_20160116T172524/IMG_DATA/R10m/T14RLP_20160116T171642_B04_10m.tif?st=2023-11-15T00%3A04%3A08Z&se=2023-11-16T00%3A49%3A08Z&sp=rl&sv=2021-06-08&sr=c&skoid=c85c15d6-d1ae-42d4-af60-e2ca0f81359b&sktid=72f988bf-86f1-41af-91ab-2d7cd011db47&skt=2023-11-15T19%3A35%3A57Z&ske=2023-11-22T19%3A35%3A57Z&sks=b&skv=2021-06-08&sig=3m3jElRLso6/YheLb%2B21/LFxL9owor7Y0CJVtOXDLc%3D' not recognized as a supported file format."
     ]
    }
   ],
   "source": [
    "data_link = 0\n",
    "time_exc_limit = 900\n",
    "\n",
    "bands_links = assets_hrefs[dates_ordered[data_link]]\n",
    "rasters_arrays = aup.func_timeout(time_exc_limit, aup.mosaic_process_v2,args=(bands_links, band_name_dict, gdf_bb, tmp_raster_dir))\n",
    "out_meta = rasters_arrays[list(rasters_arrays.keys())[0]][2]\n",
    "\n",
    "# calculate raster index\n",
    "raster_idx = aup.calculate_raster_index(band_name_dict, rasters_arrays)"
   ]
  },
  {
   "cell_type": "code",
   "execution_count": null,
   "id": "3a88ef27-ed66-4bbf-94a5-ad95cb0e65ec",
   "metadata": {},
   "outputs": [],
   "source": [
    "iter_count = 1\n",
    "    \n",
    "    while iter_count <= 5:\n",
    "\n",
    "        # create skip date list used to analyze null values in raster\n",
    "        skip_date_list = []\n",
    "\n",
    "        #for data_link in range(len(df_links)):\n",
    "        for data_link in range(len(dates_ordered)):\n",
    "            print(f'Mosaic date {dates_ordered[data_link].day}'+\n",
    "                        f'/{dates_ordered[data_link].month}'+\n",
    "                        f'/{dates_ordered[data_link].year} - iteration:{iter_count}')\n",
    "\n",
    "            # check if date contains null values within study area\n",
    "            #if df_links.iloc[data_link]['date'] in skip_date_list:\n",
    "            if dates_ordered[data_link] in skip_date_list:\n",
    "                continue\n",
    "\n",
    "            try:\n",
    "                #links_band_1 = df_links.iloc[data_link][list(band_name_dict.keys())[0]]\n",
    "                #links_band_2 = df_links.iloc[data_link][list(band_name_dict.keys())[1]]\n",
    "                bands_links = aup.assets_hrefs[dates_ordered[data_link]]\n",
    "\n",
    "                rasters_arrays = aup.func_timeout(time_exc_limit, mosaic_process_v2,args=(bands_links, band_name_dict, gdf_bb, tmp_raster_dir))\n",
    "                out_meta = rasters_arrays[list(rasters_arrays.keys())[0]][2]\n",
    "\n",
    "                # calculate raster index\n",
    "                raster_idx = aup.calculate_raster_index(band_name_dict, rasters_arrays)\n",
    "                print(f'Calculated {index_analysis}')\n",
    "                del rasters_arrays\n",
    "\n",
    "                print(f'Starting interpolation')\n",
    "\n",
    "                raster_idx[raster_idx == 0 ] = np.nan # change zero values to nan\n",
    "                raster_idx = raster_idx.astype('float32') # change data type to float32 to avoid fillnodata error\n",
    "\n",
    "                print(f'Interpolating {np.isnan(raster_idx).sum()} nan values')\n",
    "                raster_fill = aup.fillnodata(raster_idx, mask=~np.isnan(raster_idx),max_search_distance=50, smoothing_iterations=0)\n",
    "                print(f'Finished interpolation to fill na - {np.isnan(raster_fill).sum()} nan')\n",
    "\n",
    "                with rasterio.open(f\"{tmp_raster_dir}{index_analysis}.tif\",'w', **out_meta) as dest:\n",
    "                        dest.write(raster_fill)\n",
    "\n",
    "                        dest.close()\n",
    "\n",
    "                print('Starting null test')\n",
    "\n",
    "                raster_file = rasterio.open(f\"{tmp_raster_dir}{index_analysis}.tif\")\n",
    "\n",
    "                gdf_raster_test = gdf_raster_test.to_crs(raster_file.crs)\n",
    "\n",
    "                try:\n",
    "                    # test for nan values within study area\n",
    "                    aup.raster_nan_test(gdf_raster_test,raster_file)\n",
    "\n",
    "                    print('Passed null test')\n",
    "\n",
    "                    # save raster to processing database\n",
    "                    with rasterio.open(f\"{tmp_dir}{city}_{index_analysis}_{month_}_{year_}.tif\",'w', **out_meta) as dest:\n",
    "                        dest.write(raster_fill)\n",
    "                        dest.close()\n",
    "                    print(f'Finished saving {index_analysis} raster')\n",
    "\n",
    "                    checker = 1\n",
    "                    iter_count = 6\n",
    "                    delete_files_from_folder(tmp_raster_dir)\n",
    "                    break\n",
    "                except:\n",
    "                    print('Failed null test')\n",
    "                    skip_date_list.append(assets_hrefs[list(assets_hrefs.keys())[data_link]])\n",
    "                    aup.delete_files_from_folder(tmp_raster_dir)\n",
    "\n",
    "            except:\n",
    "                print(f'Error in iteration {iter_count}')\n",
    "                aup.delete_files_from_folder(tmp_raster_dir)\n",
    "                continue\n",
    "        iter_count = iter_count + 1\n",
    "\n",
    "    if checker==0:\n",
    "        df_raster.loc[df_raster.index==i,'data_id']=0\n",
    "        df_raster.loc[df_raster.index==i,'able_to_download']=0\n",
    "        df_raster.to_csv(df_file_dir, index=False)\n",
    "        print(\"Falló\")\n",
    "        print(df_raster)\n",
    "        continue\n",
    "\n",
    "df_len = pd.read_csv(df_file_dir, index_col=False)"
   ]
  },
  {
   "cell_type": "code",
   "execution_count": null,
   "id": "92b7be7f-f6f8-4b8f-b11d-d2b83f271203",
   "metadata": {
    "tags": []
   },
   "outputs": [
    {
     "name": "stderr",
     "output_type": "stream",
     "text": [
      "  0%|        | 0/94 [00:00<?, ?it/s]"
     ]
    },
    {
     "name": "stdout",
     "output_type": "stream",
     "text": [
      "\n",
      " Starting new analysis for 1/2016\n"
     ]
    },
    {
     "name": "stderr",
     "output_type": "stream",
     "text": [
      "  1%| | 1/94 [00:01<01:47,  1.15s/it"
     ]
    },
    {
     "name": "stdout",
     "output_type": "stream",
     "text": [
      "Mosaic date 16/1/2016 - iteration:1\n",
      "Error in iteration 1\n",
      "Mosaic date 16/1/2016 - iteration:2\n",
      "Error in iteration 2\n",
      "Mosaic date 16/1/2016 - iteration:3\n",
      "Error in iteration 3\n",
      "Mosaic date 16/1/2016 - iteration:4\n",
      "Error in iteration 4\n",
      "Mosaic date 16/1/2016 - iteration:5\n",
      "Error in iteration 5\n",
      "Falló\n",
      "    year  month  data_id  able_to_download\n",
      "0   2016      1        0               0.0\n",
      "1   2016      2        1               NaN\n",
      "2   2016      3        0               NaN\n",
      "3   2016      4        0               NaN\n",
      "4   2016      5        1               NaN\n",
      "..   ...    ...      ...               ...\n",
      "89  2023      6        1               NaN\n",
      "90  2023      7        1               NaN\n",
      "91  2023      8        1               NaN\n",
      "92  2023      9        1               NaN\n",
      "93  2023     10        0               NaN\n",
      "\n",
      "[94 rows x 4 columns]\n",
      "\n",
      " Starting new analysis for 2/2016\n"
     ]
    },
    {
     "name": "stderr",
     "output_type": "stream",
     "text": [
      "  2%| | 2/94 [00:02<01:43,  1.13s/it"
     ]
    },
    {
     "name": "stdout",
     "output_type": "stream",
     "text": [
      "Mosaic date 15/2/2016 - iteration:1\n",
      "Error in iteration 1\n",
      "Mosaic date 15/2/2016 - iteration:2\n",
      "Error in iteration 2\n",
      "Mosaic date 15/2/2016 - iteration:3\n",
      "Error in iteration 3\n",
      "Mosaic date 15/2/2016 - iteration:4\n",
      "Error in iteration 4\n",
      "Mosaic date 15/2/2016 - iteration:5\n",
      "Error in iteration 5\n",
      "Falló\n",
      "    year  month  data_id  able_to_download\n",
      "0   2016      1        0               0.0\n",
      "1   2016      2        0               0.0\n",
      "2   2016      3        0               NaN\n",
      "3   2016      4        0               NaN\n",
      "4   2016      5        1               NaN\n",
      "..   ...    ...      ...               ...\n",
      "89  2023      6        1               NaN\n",
      "90  2023      7        1               NaN\n",
      "91  2023      8        1               NaN\n",
      "92  2023      9        1               NaN\n",
      "93  2023     10        0               NaN\n",
      "\n",
      "[94 rows x 4 columns]\n",
      "\n",
      " Starting new analysis for 5/2016\n"
     ]
    },
    {
     "name": "stderr",
     "output_type": "stream",
     "text": [
      "  5%| | 5/94 [00:03<01:00,  1.46it/s"
     ]
    },
    {
     "name": "stdout",
     "output_type": "stream",
     "text": [
      "Mosaic date 5/5/2016 - iteration:1\n",
      "Error in iteration 1\n",
      "Mosaic date 5/5/2016 - iteration:2\n",
      "Error in iteration 2\n",
      "Mosaic date 5/5/2016 - iteration:3\n",
      "Error in iteration 3\n",
      "Mosaic date 5/5/2016 - iteration:4\n",
      "Error in iteration 4\n",
      "Mosaic date 5/5/2016 - iteration:5\n",
      "Error in iteration 5\n",
      "Falló\n",
      "    year  month  data_id  able_to_download\n",
      "0   2016      1        0               0.0\n",
      "1   2016      2        0               0.0\n",
      "2   2016      3        0               NaN\n",
      "3   2016      4        0               NaN\n",
      "4   2016      5        0               0.0\n",
      "..   ...    ...      ...               ...\n",
      "89  2023      6        1               NaN\n",
      "90  2023      7        1               NaN\n",
      "91  2023      8        1               NaN\n",
      "92  2023      9        1               NaN\n",
      "93  2023     10        0               NaN\n",
      "\n",
      "[94 rows x 4 columns]\n",
      "\n",
      " Starting new analysis for 7/2016\n"
     ]
    },
    {
     "name": "stderr",
     "output_type": "stream",
     "text": [
      "  7%| | 7/94 [00:05<00:58,  1.48it/s"
     ]
    },
    {
     "name": "stdout",
     "output_type": "stream",
     "text": [
      "Mosaic date 24/7/2016 - iteration:1\n",
      "Error in iteration 1\n",
      "Mosaic date 24/7/2016 - iteration:2\n",
      "Error in iteration 2\n",
      "Mosaic date 24/7/2016 - iteration:3\n",
      "Error in iteration 3\n",
      "Mosaic date 24/7/2016 - iteration:4\n",
      "Error in iteration 4\n",
      "Mosaic date 24/7/2016 - iteration:5\n",
      "Error in iteration 5\n",
      "Falló\n",
      "    year  month  data_id  able_to_download\n",
      "0   2016      1        0               0.0\n",
      "1   2016      2        0               0.0\n",
      "2   2016      3        0               NaN\n",
      "3   2016      4        0               NaN\n",
      "4   2016      5        0               0.0\n",
      "..   ...    ...      ...               ...\n",
      "89  2023      6        1               NaN\n",
      "90  2023      7        1               NaN\n",
      "91  2023      8        1               NaN\n",
      "92  2023      9        1               NaN\n",
      "93  2023     10        0               NaN\n",
      "\n",
      "[94 rows x 4 columns]\n",
      "\n",
      " Starting new analysis for 10/2016\n"
     ]
    },
    {
     "name": "stderr",
     "output_type": "stream",
     "text": [
      " 11%| | 10/94 [00:06<00:47,  1.77it/"
     ]
    },
    {
     "name": "stdout",
     "output_type": "stream",
     "text": [
      "Mosaic date 12/10/2016 - iteration:1\n",
      "Error in iteration 1\n",
      "Mosaic date 12/10/2016 - iteration:2\n",
      "Error in iteration 2\n",
      "Mosaic date 12/10/2016 - iteration:3\n",
      "Error in iteration 3\n",
      "Mosaic date 12/10/2016 - iteration:4\n",
      "Error in iteration 4\n",
      "Mosaic date 12/10/2016 - iteration:5\n",
      "Error in iteration 5\n",
      "Falló\n",
      "    year  month  data_id  able_to_download\n",
      "0   2016      1        0               0.0\n",
      "1   2016      2        0               0.0\n",
      "2   2016      3        0               NaN\n",
      "3   2016      4        0               NaN\n",
      "4   2016      5        0               0.0\n",
      "..   ...    ...      ...               ...\n",
      "89  2023      6        1               NaN\n",
      "90  2023      7        1               NaN\n",
      "91  2023      8        1               NaN\n",
      "92  2023      9        1               NaN\n",
      "93  2023     10        0               NaN\n",
      "\n",
      "[94 rows x 4 columns]\n",
      "\n",
      " Starting new analysis for 11/2016\n"
     ]
    },
    {
     "name": "stderr",
     "output_type": "stream",
     "text": [
      " 12%| | 11/94 [00:09<01:27,  1.06s/i"
     ]
    },
    {
     "name": "stdout",
     "output_type": "stream",
     "text": [
      "Mosaic date 1/11/2016 - iteration:1\n",
      "Error in iteration 1\n",
      "Mosaic date 1/11/2016 - iteration:2\n",
      "Error in iteration 2\n",
      "Mosaic date 1/11/2016 - iteration:3\n",
      "Error in iteration 3\n",
      "Mosaic date 1/11/2016 - iteration:4\n",
      "Error in iteration 4\n",
      "Mosaic date 1/11/2016 - iteration:5\n",
      "Error in iteration 5\n",
      "Falló\n",
      "    year  month  data_id  able_to_download\n",
      "0   2016      1        0               0.0\n",
      "1   2016      2        0               0.0\n",
      "2   2016      3        0               NaN\n",
      "3   2016      4        0               NaN\n",
      "4   2016      5        0               0.0\n",
      "..   ...    ...      ...               ...\n",
      "89  2023      6        1               NaN\n",
      "90  2023      7        1               NaN\n",
      "91  2023      8        1               NaN\n",
      "92  2023      9        1               NaN\n",
      "93  2023     10        0               NaN\n",
      "\n",
      "[94 rows x 4 columns]\n",
      "\n",
      " Starting new analysis for 12/2016\n"
     ]
    },
    {
     "name": "stderr",
     "output_type": "stream",
     "text": [
      " 13%|▏| 12/94 [00:10<01:28,  1.08s/i"
     ]
    },
    {
     "name": "stdout",
     "output_type": "stream",
     "text": [
      "Mosaic date 21/12/2016 - iteration:1\n",
      "Error in iteration 1\n",
      "Mosaic date 1/12/2016 - iteration:1\n",
      "Error in iteration 1\n",
      "Mosaic date 11/12/2016 - iteration:1\n",
      "Error in iteration 1\n",
      "Mosaic date 21/12/2016 - iteration:2\n",
      "Error in iteration 2\n",
      "Mosaic date 1/12/2016 - iteration:2\n",
      "Error in iteration 2\n",
      "Mosaic date 11/12/2016 - iteration:2\n",
      "Error in iteration 2\n",
      "Mosaic date 21/12/2016 - iteration:3\n",
      "Error in iteration 3\n",
      "Mosaic date 1/12/2016 - iteration:3\n",
      "Error in iteration 3\n",
      "Mosaic date 11/12/2016 - iteration:3\n",
      "Error in iteration 3\n",
      "Mosaic date 21/12/2016 - iteration:4\n",
      "Error in iteration 4\n",
      "Mosaic date 1/12/2016 - iteration:4\n",
      "Error in iteration 4\n",
      "Mosaic date 11/12/2016 - iteration:4\n",
      "Error in iteration 4\n",
      "Mosaic date 21/12/2016 - iteration:5\n",
      "Error in iteration 5\n",
      "Mosaic date 1/12/2016 - iteration:5\n",
      "Error in iteration 5\n",
      "Mosaic date 11/12/2016 - iteration:5\n",
      "Error in iteration 5\n",
      "Falló\n",
      "    year  month  data_id  able_to_download\n",
      "0   2016      1        0               0.0\n",
      "1   2016      2        0               0.0\n",
      "2   2016      3        0               NaN\n",
      "3   2016      4        0               NaN\n",
      "4   2016      5        0               0.0\n",
      "..   ...    ...      ...               ...\n",
      "89  2023      6        1               NaN\n",
      "90  2023      7        1               NaN\n",
      "91  2023      8        1               NaN\n",
      "92  2023      9        1               NaN\n",
      "93  2023     10        0               NaN\n",
      "\n",
      "[94 rows x 4 columns]\n",
      "\n",
      " Starting new analysis for 1/2017\n"
     ]
    },
    {
     "name": "stderr",
     "output_type": "stream",
     "text": [
      " 14%|▏| 13/94 [00:11<01:18,  1.03it/"
     ]
    },
    {
     "name": "stdout",
     "output_type": "stream",
     "text": [
      "Mosaic date 30/1/2017 - iteration:1\n",
      "Error in iteration 1\n",
      "Mosaic date 30/1/2017 - iteration:2\n",
      "Error in iteration 2\n",
      "Mosaic date 30/1/2017 - iteration:3\n",
      "Error in iteration 3\n",
      "Mosaic date 30/1/2017 - iteration:4\n",
      "Error in iteration 4\n",
      "Mosaic date 30/1/2017 - iteration:5\n",
      "Error in iteration 5\n",
      "Falló\n",
      "    year  month  data_id  able_to_download\n",
      "0   2016      1        0               0.0\n",
      "1   2016      2        0               0.0\n",
      "2   2016      3        0               NaN\n",
      "3   2016      4        0               NaN\n",
      "4   2016      5        0               0.0\n",
      "..   ...    ...      ...               ...\n",
      "89  2023      6        1               NaN\n",
      "90  2023      7        1               NaN\n",
      "91  2023      8        1               NaN\n",
      "92  2023      9        1               NaN\n",
      "93  2023     10        0               NaN\n",
      "\n",
      "[94 rows x 4 columns]\n",
      "\n",
      " Starting new analysis for 3/2017\n"
     ]
    },
    {
     "name": "stderr",
     "output_type": "stream",
     "text": [
      " 16%|▏| 15/94 [00:12<01:04,  1.23it/"
     ]
    },
    {
     "name": "stdout",
     "output_type": "stream",
     "text": [
      "Mosaic date 1/3/2017 - iteration:1\n",
      "Error in iteration 1\n",
      "Mosaic date 21/3/2017 - iteration:1\n",
      "Error in iteration 1\n",
      "Mosaic date 1/3/2017 - iteration:2\n",
      "Error in iteration 2\n",
      "Mosaic date 21/3/2017 - iteration:2\n",
      "Error in iteration 2\n",
      "Mosaic date 1/3/2017 - iteration:3\n",
      "Error in iteration 3\n",
      "Mosaic date 21/3/2017 - iteration:3\n",
      "Error in iteration 3\n",
      "Mosaic date 1/3/2017 - iteration:4\n",
      "Error in iteration 4\n",
      "Mosaic date 21/3/2017 - iteration:4\n",
      "Error in iteration 4\n",
      "Mosaic date 1/3/2017 - iteration:5\n",
      "Error in iteration 5\n",
      "Mosaic date 21/3/2017 - iteration:5\n",
      "Error in iteration 5\n",
      "Falló\n",
      "    year  month  data_id  able_to_download\n",
      "0   2016      1        0               0.0\n",
      "1   2016      2        0               0.0\n",
      "2   2016      3        0               NaN\n",
      "3   2016      4        0               NaN\n",
      "4   2016      5        0               0.0\n",
      "..   ...    ...      ...               ...\n",
      "89  2023      6        1               NaN\n",
      "90  2023      7        1               NaN\n",
      "91  2023      8        1               NaN\n",
      "92  2023      9        1               NaN\n",
      "93  2023     10        0               NaN\n",
      "\n",
      "[94 rows x 4 columns]\n",
      "\n",
      " Starting new analysis for 4/2017\n"
     ]
    },
    {
     "name": "stderr",
     "output_type": "stream",
     "text": [
      " 17%|▏| 16/94 [00:13<01:03,  1.23it/"
     ]
    },
    {
     "name": "stdout",
     "output_type": "stream",
     "text": [
      "Mosaic date 30/4/2017 - iteration:1\n",
      "Error in iteration 1\n",
      "Mosaic date 30/4/2017 - iteration:2\n",
      "Error in iteration 2\n",
      "Mosaic date 30/4/2017 - iteration:3\n",
      "Error in iteration 3\n",
      "Mosaic date 30/4/2017 - iteration:4\n",
      "Error in iteration 4\n",
      "Mosaic date 30/4/2017 - iteration:5\n",
      "Error in iteration 5\n",
      "Falló\n",
      "    year  month  data_id  able_to_download\n",
      "0   2016      1        0               0.0\n",
      "1   2016      2        0               0.0\n",
      "2   2016      3        0               NaN\n",
      "3   2016      4        0               NaN\n",
      "4   2016      5        0               0.0\n",
      "..   ...    ...      ...               ...\n",
      "89  2023      6        1               NaN\n",
      "90  2023      7        1               NaN\n",
      "91  2023      8        1               NaN\n",
      "92  2023      9        1               NaN\n",
      "93  2023     10        0               NaN\n",
      "\n",
      "[94 rows x 4 columns]\n",
      "\n",
      " Starting new analysis for 6/2017\n"
     ]
    },
    {
     "name": "stderr",
     "output_type": "stream",
     "text": [
      " 19%|▏| 18/94 [00:14<00:48,  1.56it/"
     ]
    },
    {
     "name": "stdout",
     "output_type": "stream",
     "text": [
      "Mosaic date 29/6/2017 - iteration:1\n",
      "Error in iteration 1\n",
      "Mosaic date 29/6/2017 - iteration:2\n",
      "Error in iteration 2\n",
      "Mosaic date 29/6/2017 - iteration:3\n",
      "Error in iteration 3\n",
      "Mosaic date 29/6/2017 - iteration:4\n",
      "Error in iteration 4\n",
      "Mosaic date 29/6/2017 - iteration:5\n",
      "Error in iteration 5\n",
      "Falló\n",
      "    year  month  data_id  able_to_download\n",
      "0   2016      1        0               0.0\n",
      "1   2016      2        0               0.0\n",
      "2   2016      3        0               NaN\n",
      "3   2016      4        0               NaN\n",
      "4   2016      5        0               0.0\n",
      "..   ...    ...      ...               ...\n",
      "89  2023      6        1               NaN\n",
      "90  2023      7        1               NaN\n",
      "91  2023      8        1               NaN\n",
      "92  2023      9        1               NaN\n",
      "93  2023     10        0               NaN\n",
      "\n",
      "[94 rows x 4 columns]\n",
      "\n",
      " Starting new analysis for 9/2017\n"
     ]
    },
    {
     "name": "stderr",
     "output_type": "stream",
     "text": [
      " 22%|▏| 21/94 [00:15<00:40,  1.80it/"
     ]
    },
    {
     "name": "stdout",
     "output_type": "stream",
     "text": [
      "Mosaic date 12/9/2017 - iteration:1\n",
      "Error in iteration 1\n",
      "Mosaic date 12/9/2017 - iteration:2\n",
      "Error in iteration 2\n",
      "Mosaic date 12/9/2017 - iteration:3\n",
      "Error in iteration 3\n",
      "Mosaic date 12/9/2017 - iteration:4\n",
      "Error in iteration 4\n",
      "Mosaic date 12/9/2017 - iteration:5\n",
      "Error in iteration 5\n",
      "Falló\n",
      "    year  month  data_id  able_to_download\n",
      "0   2016      1        0               0.0\n",
      "1   2016      2        0               0.0\n",
      "2   2016      3        0               NaN\n",
      "3   2016      4        0               NaN\n",
      "4   2016      5        0               0.0\n",
      "..   ...    ...      ...               ...\n",
      "89  2023      6        1               NaN\n",
      "90  2023      7        1               NaN\n",
      "91  2023      8        1               NaN\n",
      "92  2023      9        1               NaN\n",
      "93  2023     10        0               NaN\n",
      "\n",
      "[94 rows x 4 columns]\n",
      "\n",
      " Starting new analysis for 10/2017\n"
     ]
    },
    {
     "name": "stderr",
     "output_type": "stream",
     "text": [
      " 23%|▏| 22/94 [00:16<00:49,  1.46it/"
     ]
    },
    {
     "name": "stdout",
     "output_type": "stream",
     "text": [
      "Mosaic date 27/10/2017 - iteration:1\n",
      "Error in iteration 1\n",
      "Mosaic date 7/10/2017 - iteration:1\n",
      "Error in iteration 1\n",
      "Mosaic date 27/10/2017 - iteration:2\n",
      "Error in iteration 2\n",
      "Mosaic date 7/10/2017 - iteration:2\n",
      "Error in iteration 2\n",
      "Mosaic date 27/10/2017 - iteration:3\n",
      "Error in iteration 3\n",
      "Mosaic date 7/10/2017 - iteration:3\n",
      "Error in iteration 3\n",
      "Mosaic date 27/10/2017 - iteration:4\n",
      "Error in iteration 4\n",
      "Mosaic date 7/10/2017 - iteration:4\n",
      "Error in iteration 4\n",
      "Mosaic date 27/10/2017 - iteration:5\n",
      "Error in iteration 5\n",
      "Mosaic date 7/10/2017 - iteration:5\n",
      "Error in iteration 5\n",
      "Falló\n",
      "    year  month  data_id  able_to_download\n",
      "0   2016      1        0               0.0\n",
      "1   2016      2        0               0.0\n",
      "2   2016      3        0               NaN\n",
      "3   2016      4        0               NaN\n",
      "4   2016      5        0               0.0\n",
      "..   ...    ...      ...               ...\n",
      "89  2023      6        1               NaN\n",
      "90  2023      7        1               NaN\n",
      "91  2023      8        1               NaN\n",
      "92  2023      9        1               NaN\n",
      "93  2023     10        0               NaN\n",
      "\n",
      "[94 rows x 4 columns]\n",
      "\n",
      " Starting new analysis for 1/2018\n"
     ]
    }
   ],
   "source": [
    "for i in tqdm(range(len(df_len)), position=0, leave=True):\n",
    "        \n",
    "    df_raster = pd.read_csv(df_file_dir, index_col=False)\n",
    "\n",
    "    # binary id - checks if month could be processed\n",
    "    checker = 0\n",
    "\n",
    "    if df_raster.iloc[i].data_id==0:\n",
    "        continue\n",
    "\n",
    "    # gather month and year from df to save raster\n",
    "    month_ = df_raster.loc[df_raster.index==i].month.values[0]\n",
    "    year_ = df_raster.loc[df_raster.index==i].year.values[0]\n",
    "\n",
    "    if f'{city}_{index_analysis}_{month_}_{year_}.tif' in os.listdir(tmp_dir):\n",
    "        continue\n",
    "\n",
    "    print(f'\\n Starting new analysis for {month_}/{year_}')\n",
    "\n",
    "    # gather links for raster images\n",
    "    sample_date = datetime(year_, month_, 1)\n",
    "    first_day = sample_date + relativedelta(day=1)\n",
    "    last_day = sample_date + relativedelta(day=31)\n",
    "\n",
    "    # creates time range for a specific month\n",
    "    time_of_interest = [f\"{year_}-{month_:02d}-{first_day.day:02d}/{year_}\"+\n",
    "                        f\"-{month_:02d}-{last_day.day:02d}\"]\n",
    "    # gather links for the date range\n",
    "    items = aup.gather_items(time_of_interest, aoi, query=query, satellite=sat)\n",
    "\n",
    "    # gather links from dates that are within date_list\n",
    "    assets_hrefs = aup.link_dict(band_name_list, items, date_list)\n",
    "    # create dataframe\n",
    "    #df_links = pd.DataFrame.from_dict(assets_hrefs, \n",
    "    #                                orient='Index').reset_index().rename(columns={'index':'date'})\n",
    "\n",
    "    # dates according to cloud coverage\n",
    "    date_order = [True if (d.month == month_) and (d.year == year_) else False for d in date_list]\n",
    "    date_array = np.array(date_list)\n",
    "    date_filter = np.array(date_order)\n",
    "    dates_ordered = date_array[date_filter]\n",
    "\n",
    "    # mosaic raster\n",
    "\n",
    "    iter_count = 1\n",
    "    \n",
    "    while iter_count <= 5:\n",
    "\n",
    "        # create skip date list used to analyze null values in raster\n",
    "        skip_date_list = []\n",
    "\n",
    "        #for data_link in range(len(df_links)):\n",
    "        for data_link in range(len(dates_ordered)):\n",
    "            print(f'Mosaic date {dates_ordered[data_link].day}'+\n",
    "                        f'/{dates_ordered[data_link].month}'+\n",
    "                        f'/{dates_ordered[data_link].year} - iteration:{iter_count}')\n",
    "\n",
    "            # check if date contains null values within study area\n",
    "            #if df_links.iloc[data_link]['date'] in skip_date_list:\n",
    "            if dates_ordered[data_link] in skip_date_list:\n",
    "                continue\n",
    "\n",
    "            try:\n",
    "                #links_band_1 = df_links.iloc[data_link][list(band_name_dict.keys())[0]]\n",
    "                #links_band_2 = df_links.iloc[data_link][list(band_name_dict.keys())[1]]\n",
    "                bands_links = aup.assets_hrefs[dates_ordered[data_link]]\n",
    "\n",
    "                rasters_arrays = aup.func_timeout(time_exc_limit, mosaic_process_v2,args=(bands_links, band_name_dict, gdf_bb, tmp_raster_dir))\n",
    "                out_meta = rasters_arrays[list(rasters_arrays.keys())[0]][2]\n",
    "\n",
    "                # calculate raster index\n",
    "                raster_idx = aup.calculate_raster_index(band_name_dict, rasters_arrays)\n",
    "                print(f'Calculated {index_analysis}')\n",
    "                del rasters_arrays\n",
    "\n",
    "                print(f'Starting interpolation')\n",
    "\n",
    "                raster_idx[raster_idx == 0 ] = np.nan # change zero values to nan\n",
    "                raster_idx = raster_idx.astype('float32') # change data type to float32 to avoid fillnodata error\n",
    "\n",
    "                print(f'Interpolating {np.isnan(raster_idx).sum()} nan values')\n",
    "                raster_fill = aup.fillnodata(raster_idx, mask=~np.isnan(raster_idx),max_search_distance=50, smoothing_iterations=0)\n",
    "                print(f'Finished interpolation to fill na - {np.isnan(raster_fill).sum()} nan')\n",
    "\n",
    "                with rasterio.open(f\"{tmp_raster_dir}{index_analysis}.tif\",'w', **out_meta) as dest:\n",
    "                        dest.write(raster_fill)\n",
    "\n",
    "                        dest.close()\n",
    "\n",
    "                print('Starting null test')\n",
    "\n",
    "                raster_file = rasterio.open(f\"{tmp_raster_dir}{index_analysis}.tif\")\n",
    "\n",
    "                gdf_raster_test = gdf_raster_test.to_crs(raster_file.crs)\n",
    "\n",
    "                try:\n",
    "                    # test for nan values within study area\n",
    "                    aup.raster_nan_test(gdf_raster_test,raster_file)\n",
    "\n",
    "                    print('Passed null test')\n",
    "\n",
    "                    # save raster to processing database\n",
    "                    with rasterio.open(f\"{tmp_dir}{city}_{index_analysis}_{month_}_{year_}.tif\",'w', **out_meta) as dest:\n",
    "                        dest.write(raster_fill)\n",
    "                        dest.close()\n",
    "                    print(f'Finished saving {index_analysis} raster')\n",
    "\n",
    "                    checker = 1\n",
    "                    iter_count = 6\n",
    "                    delete_files_from_folder(tmp_raster_dir)\n",
    "                    break\n",
    "                except:\n",
    "                    print('Failed null test')\n",
    "                    skip_date_list.append(assets_hrefs[list(assets_hrefs.keys())[data_link]])\n",
    "                    aup.delete_files_from_folder(tmp_raster_dir)\n",
    "\n",
    "            except:\n",
    "                print(f'Error in iteration {iter_count}')\n",
    "                aup.delete_files_from_folder(tmp_raster_dir)\n",
    "                continue\n",
    "        iter_count = iter_count + 1\n",
    "\n",
    "    if checker==0:\n",
    "        df_raster.loc[df_raster.index==i,'data_id']=0\n",
    "        df_raster.loc[df_raster.index==i,'able_to_download']=0\n",
    "        df_raster.to_csv(df_file_dir, index=False)\n",
    "        print(\"Falló\")\n",
    "        print(df_raster)\n",
    "        continue\n",
    "\n",
    "df_len = pd.read_csv(df_file_dir, index_col=False)\n",
    "print(\"Se guardó\")\n",
    "print(df_raster)"
   ]
  },
  {
   "cell_type": "code",
   "execution_count": 32,
   "id": "2fd45984-7036-49b8-8082-46cf7bcf3eae",
   "metadata": {
    "tags": []
   },
   "outputs": [],
   "source": [
    "df_len = pd.read_csv(df_file_dir, index_col=False)"
   ]
  },
  {
   "cell_type": "code",
   "execution_count": 33,
   "id": "d5221317-7d29-411d-9631-de9e9dac31d6",
   "metadata": {
    "tags": []
   },
   "outputs": [
    {
     "data": {
      "text/html": [
       "<div>\n",
       "<style scoped>\n",
       "    .dataframe tbody tr th:only-of-type {\n",
       "        vertical-align: middle;\n",
       "    }\n",
       "\n",
       "    .dataframe tbody tr th {\n",
       "        vertical-align: top;\n",
       "    }\n",
       "\n",
       "    .dataframe thead th {\n",
       "        text-align: right;\n",
       "    }\n",
       "</style>\n",
       "<table border=\"1\" class=\"dataframe\">\n",
       "  <thead>\n",
       "    <tr style=\"text-align: right;\">\n",
       "      <th></th>\n",
       "      <th>year</th>\n",
       "      <th>month</th>\n",
       "      <th>data_id</th>\n",
       "      <th>able_to_download</th>\n",
       "    </tr>\n",
       "  </thead>\n",
       "  <tbody>\n",
       "    <tr>\n",
       "      <th>0</th>\n",
       "      <td>2016</td>\n",
       "      <td>1</td>\n",
       "      <td>1</td>\n",
       "      <td>NaN</td>\n",
       "    </tr>\n",
       "    <tr>\n",
       "      <th>1</th>\n",
       "      <td>2016</td>\n",
       "      <td>2</td>\n",
       "      <td>1</td>\n",
       "      <td>NaN</td>\n",
       "    </tr>\n",
       "    <tr>\n",
       "      <th>2</th>\n",
       "      <td>2016</td>\n",
       "      <td>3</td>\n",
       "      <td>0</td>\n",
       "      <td>NaN</td>\n",
       "    </tr>\n",
       "    <tr>\n",
       "      <th>3</th>\n",
       "      <td>2016</td>\n",
       "      <td>4</td>\n",
       "      <td>0</td>\n",
       "      <td>NaN</td>\n",
       "    </tr>\n",
       "    <tr>\n",
       "      <th>4</th>\n",
       "      <td>2016</td>\n",
       "      <td>5</td>\n",
       "      <td>1</td>\n",
       "      <td>NaN</td>\n",
       "    </tr>\n",
       "    <tr>\n",
       "      <th>...</th>\n",
       "      <td>...</td>\n",
       "      <td>...</td>\n",
       "      <td>...</td>\n",
       "      <td>...</td>\n",
       "    </tr>\n",
       "    <tr>\n",
       "      <th>89</th>\n",
       "      <td>2023</td>\n",
       "      <td>6</td>\n",
       "      <td>1</td>\n",
       "      <td>NaN</td>\n",
       "    </tr>\n",
       "    <tr>\n",
       "      <th>90</th>\n",
       "      <td>2023</td>\n",
       "      <td>7</td>\n",
       "      <td>1</td>\n",
       "      <td>NaN</td>\n",
       "    </tr>\n",
       "    <tr>\n",
       "      <th>91</th>\n",
       "      <td>2023</td>\n",
       "      <td>8</td>\n",
       "      <td>1</td>\n",
       "      <td>NaN</td>\n",
       "    </tr>\n",
       "    <tr>\n",
       "      <th>92</th>\n",
       "      <td>2023</td>\n",
       "      <td>9</td>\n",
       "      <td>1</td>\n",
       "      <td>NaN</td>\n",
       "    </tr>\n",
       "    <tr>\n",
       "      <th>93</th>\n",
       "      <td>2023</td>\n",
       "      <td>10</td>\n",
       "      <td>0</td>\n",
       "      <td>NaN</td>\n",
       "    </tr>\n",
       "  </tbody>\n",
       "</table>\n",
       "<p>94 rows × 4 columns</p>\n",
       "</div>"
      ],
      "text/plain": [
       "    year  month  data_id  able_to_download\n",
       "0   2016      1        1               NaN\n",
       "1   2016      2        1               NaN\n",
       "2   2016      3        0               NaN\n",
       "3   2016      4        0               NaN\n",
       "4   2016      5        1               NaN\n",
       "..   ...    ...      ...               ...\n",
       "89  2023      6        1               NaN\n",
       "90  2023      7        1               NaN\n",
       "91  2023      8        1               NaN\n",
       "92  2023      9        1               NaN\n",
       "93  2023     10        0               NaN\n",
       "\n",
       "[94 rows x 4 columns]"
      ]
     },
     "execution_count": 33,
     "metadata": {},
     "output_type": "execute_result"
    }
   ],
   "source": [
    "df_len"
   ]
  },
  {
   "cell_type": "markdown",
   "id": "fb440121-bcd9-4029-a122-cdeba9944a66",
   "metadata": {
    "tags": []
   },
   "source": [
    "### Data download - Create hexgrid from area of interest"
   ]
  },
  {
   "cell_type": "code",
   "execution_count": 6,
   "id": "4a5a3bcf-9c89-49f7-a48c-d88cef155620",
   "metadata": {
    "tags": []
   },
   "outputs": [
    {
     "name": "stdout",
     "output_type": "stream",
     "text": [
      "(25757, 3)\n"
     ]
    },
    {
     "data": {
      "text/html": [
       "<div>\n",
       "<style scoped>\n",
       "    .dataframe tbody tr th:only-of-type {\n",
       "        vertical-align: middle;\n",
       "    }\n",
       "\n",
       "    .dataframe tbody tr th {\n",
       "        vertical-align: top;\n",
       "    }\n",
       "\n",
       "    .dataframe thead th {\n",
       "        text-align: right;\n",
       "    }\n",
       "</style>\n",
       "<table border=\"1\" class=\"dataframe\">\n",
       "  <thead>\n",
       "    <tr style=\"text-align: right;\">\n",
       "      <th></th>\n",
       "      <th>hex_id</th>\n",
       "      <th>geometry</th>\n",
       "      <th>res</th>\n",
       "    </tr>\n",
       "  </thead>\n",
       "  <tbody>\n",
       "    <tr>\n",
       "      <th>0</th>\n",
       "      <td>8c48a200dda6dff</td>\n",
       "      <td>POLYGON ((-100.27415 25.65394, -100.27405 25.6...</td>\n",
       "      <td>12</td>\n",
       "    </tr>\n",
       "    <tr>\n",
       "      <th>1</th>\n",
       "      <td>8c48a202ba155ff</td>\n",
       "      <td>POLYGON ((-100.29453 25.64058, -100.29443 25.6...</td>\n",
       "      <td>12</td>\n",
       "    </tr>\n",
       "  </tbody>\n",
       "</table>\n",
       "</div>"
      ],
      "text/plain": [
       "            hex_id                                           geometry  res\n",
       "0  8c48a200dda6dff  POLYGON ((-100.27415 25.65394, -100.27405 25.6...   12\n",
       "1  8c48a202ba155ff  POLYGON ((-100.29453 25.64058, -100.29443 25.6...   12"
      ]
     },
     "execution_count": 6,
     "metadata": {},
     "output_type": "execute_result"
    }
   ],
   "source": [
    "hex_gdf = gpd.GeoDataFrame(polygon)\n",
    "hex_gdf['res'] = res[0]\n",
    "\n",
    "if len(res)>1:\n",
    "#If there is more than one resolution\n",
    "    for r in range(res[0]+1,res[-1]+1): #Skips res 8 because, originally, res 8 is already in original hex_gdf\n",
    "        hex_tmp = aup.create_hexgrid(polygon, r)\n",
    "        hex_tmp.rename(columns={f'hex_id_{r}':'hex_id'}, inplace=True)\n",
    "        hex_tmp['res'] = r\n",
    "        hex_gdf = pd.concat([hex_gdf, hex_tmp],ignore_index = True, axis = 0)\n",
    "        del hex_tmp\n",
    "\n",
    "#If there is only one resolution\n",
    "else:\n",
    "    hex_gdf = aup.create_hexgrid(hex_gdf, res[0])\n",
    "    hex_gdf.rename(columns={f'hex_id_{res[0]}':'hex_id'}, inplace=True)\n",
    "    hex_gdf['res'] = res[0]\n",
    "    \n",
    "#Show\n",
    "print(hex_gdf.shape)\n",
    "hex_gdf.head(2)"
   ]
  },
  {
   "cell_type": "markdown",
   "id": "d6071f02-a480-4a00-9922-53bd9bfe2671",
   "metadata": {
    "tags": []
   },
   "source": [
    "## Data processing to hex and saving"
   ]
  },
  {
   "cell_type": "markdown",
   "id": "03eb3ea9-11dd-47b1-a81b-91429262d9a0",
   "metadata": {},
   "source": [
    "### Data processing - Raster to hex"
   ]
  },
  {
   "cell_type": "code",
   "execution_count": 7,
   "id": "80693e2d-90ec-48e5-95ea-f159c02dee4f",
   "metadata": {
    "tags": []
   },
   "outputs": [],
   "source": [
    "def raster_to_hex_save(hex_gdf_i, df_len, index_analysis, tmp_dir, city, r, save, i=0):\n",
    "    hex_raster_analysis, df_raster_analysis = aup.raster_to_hex_analysis(hex_gdf_i, df_len, index_analysis,\n",
    "                                                                tmp_dir, city, r)\n",
    "\n",
    "    if save:\n",
    "        hex_raster_analysis.to_file(tmp_dir+'local_save/'+f'{city}_{index_analysis}_HexRes{r}_v{i}.geojson')\n",
    "        df_raster_analysis.to_csv(tmp_dir+'local_save/'+f'{city}_{index_analysis}_HexRes{r}_v{i}.csv')"
   ]
  },
  {
   "cell_type": "code",
   "execution_count": 8,
   "id": "9ddd5ddc-b5a9-4602-be25-7ba6fecc272e",
   "metadata": {
    "tags": []
   },
   "outputs": [
    {
     "name": "stderr",
     "output_type": "stream",
     "text": [
      "  0%|                                                                                | 0/8 [00:00<?, ?it/s]\n",
      " 12%|█████████                                                               | 1/8 [00:53<06:14, 53.45s/it]\u001b[A\n",
      "\n",
      "  0%|                                                                               | 0/12 [00:53<?, ?it/s]\u001b[A\u001b[A\n",
      " 25%|██████████████████                                                      | 2/8 [01:47<05:22, 53.69s/it]\n",
      "  0%|                                                                               | 0/12 [00:53<?, ?it/s]\u001b[A\n",
      " 38%|███████████████████████████                                             | 3/8 [02:42<04:31, 54.25s/it]\n",
      "\n",
      "  0%|                                                                               | 0/12 [00:54<?, ?it/s]\u001b[A\u001b[A\n",
      " 50%|████████████████████████████████████                                    | 4/8 [03:35<03:36, 54.06s/it]\n",
      "  0%|                                                                               | 0/12 [00:53<?, ?it/s]\u001b[A\n",
      " 62%|█████████████████████████████████████████████                           | 5/8 [04:31<02:43, 54.45s/it]\n",
      "\n",
      "  0%|                                                                               | 0/12 [00:55<?, ?it/s]\u001b[A\u001b[A\n",
      " 75%|██████████████████████████████████████████████████████                  | 6/8 [05:26<01:49, 54.92s/it]\n",
      "  0%|                                                                               | 0/12 [00:55<?, ?it/s]\u001b[A\n",
      " 88%|███████████████████████████████████████████████████████████████         | 7/8 [06:23<00:55, 55.34s/it]\n",
      "\n",
      "  0%|                                                                               | 0/12 [00:56<?, ?it/s]\u001b[A\u001b[A\n",
      "100%|████████████████████████████████████████████████████████████████████████| 8/8 [07:16<00:00, 54.53s/it]\n",
      "  0%|                                                                               | 0/11 [00:53<?, ?it/s]\n"
     ]
    }
   ],
   "source": [
    "for r in list(hex_gdf.res.unique()):\n",
    "\n",
    "    processing_chunk = 150000\n",
    "\n",
    "    # filters hexagons at specified resolution\n",
    "    hex_gdf_res = hex_gdf.loc[hex_gdf.res==r].copy()\n",
    "    hex_gdf_res = hex_gdf_res.reset_index(drop=True)\n",
    "    \n",
    "    if len(hex_gdf_res)>processing_chunk:\n",
    "        c_processing = len(hex_gdf_res)/processing_chunk\n",
    "        \n",
    "        for i in range(int(c_processing)):\n",
    "            hex_gdf_i = hex_gdf_res.iloc[int(processing_chunk*i):int(processing_chunk*(1+i))].copy()\n",
    "            raster_to_hex_save(hex_gdf_i, df_len, index_analysis, tmp_dir, city, r, save, i)\n",
    "    else:\n",
    "        hex_gdf_i = hex_gdf_res.copy()\n",
    "        raster_to_hex_save(hex_gdf_i, df_len, index_analysis, tmp_dir, city, r, save)"
   ]
  },
  {
   "cell_type": "code",
   "execution_count": null,
   "id": "4229a2e8-8694-4b40-8bb2-aa46bc005162",
   "metadata": {},
   "outputs": [],
   "source": []
  }
 ],
 "metadata": {
  "kernelspec": {
   "display_name": "odc",
   "language": "python",
   "name": "odc"
  },
  "language_info": {
   "codemirror_mode": {
    "name": "ipython",
    "version": 3
   },
   "file_extension": ".py",
   "mimetype": "text/x-python",
   "name": "python",
   "nbconvert_exporter": "python",
   "pygments_lexer": "ipython3",
   "version": "3.10.4"
  }
 },
 "nbformat": 4,
 "nbformat_minor": 5
}
