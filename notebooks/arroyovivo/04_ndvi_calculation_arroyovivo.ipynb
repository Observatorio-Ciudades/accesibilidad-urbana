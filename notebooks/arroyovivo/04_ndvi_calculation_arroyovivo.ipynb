{
 "cells": [
  {
   "cell_type": "markdown",
   "id": "23d3cfc4-fc86-4003-828e-656a95c43a26",
   "metadata": {},
   "source": [
    "# NDWI Analysis - NL dams"
   ]
  },
  {
   "cell_type": "markdown",
   "id": "c7ffbd39-8dcf-4567-9182-54bd758e6cfa",
   "metadata": {},
   "source": [
    "This notebook takes in variables (Config notebook) in order to download an process raster images for a certain time period and perform certain analysis.\n",
    "Output includes the rasters (saved to local), date by date behaviour csv (saved to local), and hexgrid with mean data (saved to local).\n",
    "\n",
    "Data was saved to local because of an error in the \"if_exists:append\" parameter of aup.gdf_to_db_slow.\n",
    "\n",
    "The data can be saved to db using the notebook 01b_ndvi_todb.ipynb"
   ]
  },
  {
   "cell_type": "markdown",
   "id": "e1f6a4d3-556d-43bb-a972-db85c2bf5304",
   "metadata": {},
   "source": [
    "## Import libraries"
   ]
  },
  {
   "cell_type": "code",
   "execution_count": 1,
   "id": "8a6175a0-a75a-429f-b4e7-5409c8264973",
   "metadata": {},
   "outputs": [
    {
     "name": "stderr",
     "output_type": "stream",
     "text": [
      "/home/edgaregurrola/.local/lib/python3.10/site-packages/requests/__init__.py:109: RequestsDependencyWarning: urllib3 (1.26.9) or chardet (5.1.0)/charset_normalizer (2.0.12) doesn't match a supported version!\n",
      "  warnings.warn(\n",
      "/home/edgaregurrola/anaconda3/envs/odc/lib/python3.10/site-packages/geopandas/_compat.py:123: UserWarning: The Shapely GEOS version (3.10.3-CAPI-1.16.1) is incompatible with the GEOS version PyGEOS was compiled with (3.10.1-CAPI-1.16.0). Conversions between both will be slow.\n",
      "  warnings.warn(\n"
     ]
    },
    {
     "name": "stdout",
     "output_type": "stream",
     "text": [
      "2023-11-15 18:02:52 Configured OSMnx 1.1.2\n",
      "2023-11-15 18:02:52 HTTP response caching is on\n"
     ]
    }
   ],
   "source": [
    "from pystac_client import Client\n",
    "from pystac.extensions.eo import EOExtension as eo\n",
    "import planetary_computer as pc\n",
    "import geopandas as gpd\n",
    "import h3\n",
    "import pandas as pd\n",
    "\n",
    "import rasterio\n",
    "from rasterio import windows\n",
    "from rasterio import features\n",
    "from rasterio import warp\n",
    "import rasterio.mask\n",
    "from rasterio.enums import Resampling\n",
    "from rasterio.merge import merge\n",
    "\n",
    "import numpy as np\n",
    "from PIL import Image\n",
    "\n",
    "import matplotlib.pyplot as plt\n",
    "\n",
    "from shapely.geometry import Point\n",
    "\n",
    "from tqdm import tqdm\n",
    "\n",
    "import os\n",
    "import sys\n",
    "module_path = os.path.abspath(os.path.join('../../'))\n",
    "if module_path not in sys.path:\n",
    "    sys.path.append(module_path)\n",
    "    import aup"
   ]
  },
  {
   "cell_type": "markdown",
   "id": "18b0cdea-8ab4-4288-952e-ecc2b9408d26",
   "metadata": {},
   "source": [
    "## Config notebook"
   ]
  },
  {
   "cell_type": "code",
   "execution_count": 2,
   "id": "42aa13f4-4755-494d-a4b2-9c0ae4c82227",
   "metadata": {
    "tags": []
   },
   "outputs": [],
   "source": [
    "# Set raster spectral bands and analysis equation\n",
    "band_name_dict = {'red':[False], #If GSD(resolution) of band is different, set True.\n",
    "                  'nir':[False], #If GSD(resolution) of band is different, set True.\n",
    "                  'eq':[\"(nir-red)/(nir+red)\"]}\n",
    "\n",
    "# Set analysis name\n",
    "index_analysis = 'ndvi'\n",
    "\n",
    "# Set directory to save analysed rasters\n",
    "tmp_dir = f'../../data/processed/tmp_{index_analysis}/'\n",
    "\n",
    "# Set desired hex resolution\n",
    "res = [12]\n",
    "\n",
    "# Set frequency of search for rasters (MS = Month Start)\n",
    "freq = 'MS'\n",
    "\n",
    "# Set start and end date for search (Sentinel-2 2A has images since mids 2015)\n",
    "start_date = '2016-01-01'\n",
    "end_date = '2023-11-13'\n",
    "\n",
    "# Save?\n",
    "save = True # True\n",
    "\n",
    "# Del rasters after processing.\n",
    "del_data = False # True\n",
    "\n",
    "# input area of interest directory\n",
    "# gdf_dir = \"../../data/external/temporal_todocker/arroyo_vivo/cuenca_arroyo_32614.gpkg\"\n",
    "\n",
    "# city can be substituted by \"place\". (presa_laboca / presa_cerroprieto / presa_elcuchillo)\n",
    "city = 'arroyo_vivo'\n",
    "\n",
    "#Set filter if necessary. Defaults to \"{}\". Example: No images with cloud cover avobe 10%: {\"eo:cloud_cover\": {\"lt\": 10}}\n",
    "query = {\"eo:cloud_cover\": {\"lt\": 10}}\n",
    "\n",
    "# Set satellite. Defaults to \"sentinel-2-l2a\"\n",
    "satellite = 'sentinel-2-l2a'"
   ]
  },
  {
   "cell_type": "markdown",
   "id": "72ffe3d9-4d65-4eee-930f-f56e85521d27",
   "metadata": {},
   "source": [
    "## Download data"
   ]
  },
  {
   "cell_type": "markdown",
   "id": "f2bcc506-8647-468d-aaa3-8649a15704af",
   "metadata": {},
   "source": [
    "### Download data - area of interest"
   ]
  },
  {
   "cell_type": "code",
   "execution_count": 3,
   "id": "3d67b692-90e3-4368-ab78-b82d338a5fa8",
   "metadata": {
    "tags": []
   },
   "outputs": [
    {
     "data": {
      "text/plain": [
       "<AxesSubplot: >"
      ]
     },
     "execution_count": 3,
     "metadata": {},
     "output_type": "execute_result"
    },
    {
     "data": {
      "image/png": "[encoded data removed]",
      "text/plain": [
       "<Figure size 432x288 with 1 Axes>"
      ]
     },
     "metadata": {
      "needs_background": "light"
     },
     "output_type": "display_data"
    }
   ],
   "source": [
    "#Load data\n",
    "gdf_original = aup.gdf_from_db('arroyovivo_buffer200mts','projects_research')\n",
    "gdf_original.plot()"
   ]
  },
  {
   "cell_type": "markdown",
   "id": "dbb9b5f2-b02e-42b3-8ad2-2fe7f1a8a7c9",
   "metadata": {},
   "source": [
    "Area of interest treatment"
   ]
  },
  {
   "cell_type": "code",
   "execution_count": 6,
   "id": "bd90c4d3-0c55-4b21-887b-c71be996b219",
   "metadata": {
    "tags": []
   },
   "outputs": [
    {
     "name": "stdout",
     "output_type": "stream",
     "text": [
      "(1,)\n"
     ]
    },
    {
     "data": {
      "text/plain": [
       "0    POLYGON ((-100.37695 25.60526, -100.37708 25.6...\n",
       "Name: geometry, dtype: geometry"
      ]
     },
     "execution_count": 6,
     "metadata": {},
     "output_type": "execute_result"
    }
   ],
   "source": [
    "#Filter for relevant data\n",
    "columns_tokeep = ['geometry']\n",
    "gdf = gdf_original[columns_tokeep]\n",
    "\n",
    "#Create buffer for dam geometry\n",
    "polygon = gdf.to_crs(\"EPSG:6372\").buffer(500)\n",
    "polygon = polygon.to_crs(\"EPSG:4326\")\n",
    "polygon = gpd.GeoDataFrame(geometry=polygon).dissolve().geometry\n",
    "\n",
    "#Review result\n",
    "print(polygon.shape)\n",
    "polygon.head(2)"
   ]
  },
  {
   "cell_type": "markdown",
   "id": "c0678877-2a42-47ce-b884-da2f33c789f6",
   "metadata": {},
   "source": [
    "### Data download - Download and proccess rasters"
   ]
  },
  {
   "cell_type": "code",
   "execution_count": 9,
   "id": "821e4b68-439d-4e2a-b1f3-bc88bc8936f0",
   "metadata": {
    "tags": []
   },
   "outputs": [
    {
     "name": "stderr",
     "output_type": "stream",
     "text": [
      "  7%|████████                                                                                                      | 7/95 [1:25:08<16:00:34, 654.94s/it]ERROR 1: TIFFFillTile:Read error at row 3072, col 3072, tile 139; got 0 bytes, expected 371327\n",
      "ERROR 1: TIFFReadEncodedTile() failed.\n",
      "ERROR 1: IReadBlock failed at X offset 7, Y offset 6: TIFFReadEncodedTile() failed.\n",
      " 11%|███████████▍                                                                                                 | 10/95 [1:49:24<13:36:10, 576.12s/it]ERROR 1: TIFFFillTile:Read error at row 9728, col 9728, tile 86; got 0 bytes, expected 387495\n",
      "ERROR 1: TIFFReadEncodedTile() failed.\n",
      "ERROR 1: IReadBlock failed at X offset 20, Y offset 3: TIFFReadEncodedTile() failed.\n",
      " 19%|████████████████████▋                                                                                        | 18/95 [4:25:07<18:39:25, 872.28s/it]ERROR 1: TIFFFillTile:Read error at row 8192, col 8192, tile 171; got 0 bytes, expected 389875\n",
      "ERROR 1: TIFFReadEncodedTile() failed.\n",
      "ERROR 1: IReadBlock failed at X offset 17, Y offset 7: TIFFReadEncodedTile() failed.\n",
      " 28%|██████████████████████████████▉                                                                              | 27/95 [6:00:18<12:29:11, 661.06s/it]ERROR 1: TIFFFillTile:Read error at row 5120, col 5120, tile 143; got 0 bytes, expected 364086\n",
      "ERROR 1: TIFFReadEncodedTile() failed.\n",
      "ERROR 1: IReadBlock failed at X offset 11, Y offset 6: TIFFReadEncodedTile() failed.\n",
      " 29%|████████████████████████████████▏                                                                            | 28/95 [6:24:36<14:51:27, 798.32s/it]ERROR 1: TIFFFillTile:Read error at row 5632, col 5632, tile 166; got 0 bytes, expected 368526\n",
      "ERROR 1: TIFFReadEncodedTile() failed.\n",
      "ERROR 1: IReadBlock failed at X offset 12, Y offset 7: TIFFReadEncodedTile() failed.\n",
      " 32%|██████████████████████████████████▍                                                                          | 30/95 [7:38:21<16:33:05, 916.70s/it]\n"
     ]
    },
    {
     "ename": "APIError",
     "evalue": "HTTPSConnectionPool(host='planetarycomputer.microsoft.com', port=443): Max retries exceeded with url: /api/stac/v1 (Caused by ConnectTimeoutError(<urllib3.connection.HTTPSConnection object at 0x7fb96e252470>, 'Connection to planetarycomputer.microsoft.com timed out. (connect timeout=None)'))",
     "output_type": "error",
     "traceback": [
      "\u001b[0;31m---------------------------------------------------------------------------\u001b[0m",
      "\u001b[0;31mTimeoutError\u001b[0m                              Traceback (most recent call last)",
      "File \u001b[0;32m/usr/local/python/lib/python3.10/site-packages/urllib3/connection.py:174\u001b[0m, in \u001b[0;36mHTTPConnection._new_conn\u001b[0;34m(self)\u001b[0m\n\u001b[1;32m    173\u001b[0m \u001b[38;5;28;01mtry\u001b[39;00m:\n\u001b[0;32m--> 174\u001b[0m     conn \u001b[38;5;241m=\u001b[39m \u001b[43mconnection\u001b[49m\u001b[38;5;241;43m.\u001b[39;49m\u001b[43mcreate_connection\u001b[49m\u001b[43m(\u001b[49m\n\u001b[1;32m    175\u001b[0m \u001b[43m        \u001b[49m\u001b[43m(\u001b[49m\u001b[38;5;28;43mself\u001b[39;49m\u001b[38;5;241;43m.\u001b[39;49m\u001b[43m_dns_host\u001b[49m\u001b[43m,\u001b[49m\u001b[43m \u001b[49m\u001b[38;5;28;43mself\u001b[39;49m\u001b[38;5;241;43m.\u001b[39;49m\u001b[43mport\u001b[49m\u001b[43m)\u001b[49m\u001b[43m,\u001b[49m\u001b[43m \u001b[49m\u001b[38;5;28;43mself\u001b[39;49m\u001b[38;5;241;43m.\u001b[39;49m\u001b[43mtimeout\u001b[49m\u001b[43m,\u001b[49m\u001b[43m \u001b[49m\u001b[38;5;241;43m*\u001b[39;49m\u001b[38;5;241;43m*\u001b[39;49m\u001b[43mextra_kw\u001b[49m\n\u001b[1;32m    176\u001b[0m \u001b[43m    \u001b[49m\u001b[43m)\u001b[49m\n\u001b[1;32m    178\u001b[0m \u001b[38;5;28;01mexcept\u001b[39;00m SocketTimeout:\n",
      "File \u001b[0;32m/usr/local/python/lib/python3.10/site-packages/urllib3/util/connection.py:95\u001b[0m, in \u001b[0;36mcreate_connection\u001b[0;34m(address, timeout, source_address, socket_options)\u001b[0m\n\u001b[1;32m     94\u001b[0m \u001b[38;5;28;01mif\u001b[39;00m err \u001b[38;5;129;01mis\u001b[39;00m \u001b[38;5;129;01mnot\u001b[39;00m \u001b[38;5;28;01mNone\u001b[39;00m:\n\u001b[0;32m---> 95\u001b[0m     \u001b[38;5;28;01mraise\u001b[39;00m err\n\u001b[1;32m     97\u001b[0m \u001b[38;5;28;01mraise\u001b[39;00m socket\u001b[38;5;241m.\u001b[39merror(\u001b[38;5;124m\"\u001b[39m\u001b[38;5;124mgetaddrinfo returns an empty list\u001b[39m\u001b[38;5;124m\"\u001b[39m)\n",
      "File \u001b[0;32m/usr/local/python/lib/python3.10/site-packages/urllib3/util/connection.py:85\u001b[0m, in \u001b[0;36mcreate_connection\u001b[0;34m(address, timeout, source_address, socket_options)\u001b[0m\n\u001b[1;32m     84\u001b[0m     sock\u001b[38;5;241m.\u001b[39mbind(source_address)\n\u001b[0;32m---> 85\u001b[0m \u001b[43msock\u001b[49m\u001b[38;5;241;43m.\u001b[39;49m\u001b[43mconnect\u001b[49m\u001b[43m(\u001b[49m\u001b[43msa\u001b[49m\u001b[43m)\u001b[49m\n\u001b[1;32m     86\u001b[0m \u001b[38;5;28;01mreturn\u001b[39;00m sock\n",
      "\u001b[0;31mTimeoutError\u001b[0m: [Errno 110] Connection timed out",
      "\nDuring handling of the above exception, another exception occurred:\n",
      "\u001b[0;31mConnectTimeoutError\u001b[0m                       Traceback (most recent call last)",
      "File \u001b[0;32m/usr/local/python/lib/python3.10/site-packages/urllib3/connectionpool.py:703\u001b[0m, in \u001b[0;36mHTTPConnectionPool.urlopen\u001b[0;34m(self, method, url, body, headers, retries, redirect, assert_same_host, timeout, pool_timeout, release_conn, chunked, body_pos, **response_kw)\u001b[0m\n\u001b[1;32m    702\u001b[0m \u001b[38;5;66;03m# Make the request on the httplib connection object.\u001b[39;00m\n\u001b[0;32m--> 703\u001b[0m httplib_response \u001b[38;5;241m=\u001b[39m \u001b[38;5;28;43mself\u001b[39;49m\u001b[38;5;241;43m.\u001b[39;49m\u001b[43m_make_request\u001b[49m\u001b[43m(\u001b[49m\n\u001b[1;32m    704\u001b[0m \u001b[43m    \u001b[49m\u001b[43mconn\u001b[49m\u001b[43m,\u001b[49m\n\u001b[1;32m    705\u001b[0m \u001b[43m    \u001b[49m\u001b[43mmethod\u001b[49m\u001b[43m,\u001b[49m\n\u001b[1;32m    706\u001b[0m \u001b[43m    \u001b[49m\u001b[43murl\u001b[49m\u001b[43m,\u001b[49m\n\u001b[1;32m    707\u001b[0m \u001b[43m    \u001b[49m\u001b[43mtimeout\u001b[49m\u001b[38;5;241;43m=\u001b[39;49m\u001b[43mtimeout_obj\u001b[49m\u001b[43m,\u001b[49m\n\u001b[1;32m    708\u001b[0m \u001b[43m    \u001b[49m\u001b[43mbody\u001b[49m\u001b[38;5;241;43m=\u001b[39;49m\u001b[43mbody\u001b[49m\u001b[43m,\u001b[49m\n\u001b[1;32m    709\u001b[0m \u001b[43m    \u001b[49m\u001b[43mheaders\u001b[49m\u001b[38;5;241;43m=\u001b[39;49m\u001b[43mheaders\u001b[49m\u001b[43m,\u001b[49m\n\u001b[1;32m    710\u001b[0m \u001b[43m    \u001b[49m\u001b[43mchunked\u001b[49m\u001b[38;5;241;43m=\u001b[39;49m\u001b[43mchunked\u001b[49m\u001b[43m,\u001b[49m\n\u001b[1;32m    711\u001b[0m \u001b[43m\u001b[49m\u001b[43m)\u001b[49m\n\u001b[1;32m    713\u001b[0m \u001b[38;5;66;03m# If we're going to release the connection in ``finally:``, then\u001b[39;00m\n\u001b[1;32m    714\u001b[0m \u001b[38;5;66;03m# the response doesn't need to know about the connection. Otherwise\u001b[39;00m\n\u001b[1;32m    715\u001b[0m \u001b[38;5;66;03m# it will also try to release it and we'll have a double-release\u001b[39;00m\n\u001b[1;32m    716\u001b[0m \u001b[38;5;66;03m# mess.\u001b[39;00m\n",
      "File \u001b[0;32m/usr/local/python/lib/python3.10/site-packages/urllib3/connectionpool.py:386\u001b[0m, in \u001b[0;36mHTTPConnectionPool._make_request\u001b[0;34m(self, conn, method, url, timeout, chunked, **httplib_request_kw)\u001b[0m\n\u001b[1;32m    385\u001b[0m \u001b[38;5;28;01mtry\u001b[39;00m:\n\u001b[0;32m--> 386\u001b[0m     \u001b[38;5;28;43mself\u001b[39;49m\u001b[38;5;241;43m.\u001b[39;49m\u001b[43m_validate_conn\u001b[49m\u001b[43m(\u001b[49m\u001b[43mconn\u001b[49m\u001b[43m)\u001b[49m\n\u001b[1;32m    387\u001b[0m \u001b[38;5;28;01mexcept\u001b[39;00m (SocketTimeout, BaseSSLError) \u001b[38;5;28;01mas\u001b[39;00m e:\n\u001b[1;32m    388\u001b[0m     \u001b[38;5;66;03m# Py2 raises this as a BaseSSLError, Py3 raises it as socket timeout.\u001b[39;00m\n",
      "File \u001b[0;32m/usr/local/python/lib/python3.10/site-packages/urllib3/connectionpool.py:1042\u001b[0m, in \u001b[0;36mHTTPSConnectionPool._validate_conn\u001b[0;34m(self, conn)\u001b[0m\n\u001b[1;32m   1041\u001b[0m \u001b[38;5;28;01mif\u001b[39;00m \u001b[38;5;129;01mnot\u001b[39;00m \u001b[38;5;28mgetattr\u001b[39m(conn, \u001b[38;5;124m\"\u001b[39m\u001b[38;5;124msock\u001b[39m\u001b[38;5;124m\"\u001b[39m, \u001b[38;5;28;01mNone\u001b[39;00m):  \u001b[38;5;66;03m# AppEngine might not have  `.sock`\u001b[39;00m\n\u001b[0;32m-> 1042\u001b[0m     \u001b[43mconn\u001b[49m\u001b[38;5;241;43m.\u001b[39;49m\u001b[43mconnect\u001b[49m\u001b[43m(\u001b[49m\u001b[43m)\u001b[49m\n\u001b[1;32m   1044\u001b[0m \u001b[38;5;28;01mif\u001b[39;00m \u001b[38;5;129;01mnot\u001b[39;00m conn\u001b[38;5;241m.\u001b[39mis_verified:\n",
      "File \u001b[0;32m/usr/local/python/lib/python3.10/site-packages/urllib3/connection.py:363\u001b[0m, in \u001b[0;36mHTTPSConnection.connect\u001b[0;34m(self)\u001b[0m\n\u001b[1;32m    361\u001b[0m \u001b[38;5;28;01mdef\u001b[39;00m \u001b[38;5;21mconnect\u001b[39m(\u001b[38;5;28mself\u001b[39m):\n\u001b[1;32m    362\u001b[0m     \u001b[38;5;66;03m# Add certificate verification\u001b[39;00m\n\u001b[0;32m--> 363\u001b[0m     \u001b[38;5;28mself\u001b[39m\u001b[38;5;241m.\u001b[39msock \u001b[38;5;241m=\u001b[39m conn \u001b[38;5;241m=\u001b[39m \u001b[38;5;28;43mself\u001b[39;49m\u001b[38;5;241;43m.\u001b[39;49m\u001b[43m_new_conn\u001b[49m\u001b[43m(\u001b[49m\u001b[43m)\u001b[49m\n\u001b[1;32m    364\u001b[0m     hostname \u001b[38;5;241m=\u001b[39m \u001b[38;5;28mself\u001b[39m\u001b[38;5;241m.\u001b[39mhost\n",
      "File \u001b[0;32m/usr/local/python/lib/python3.10/site-packages/urllib3/connection.py:179\u001b[0m, in \u001b[0;36mHTTPConnection._new_conn\u001b[0;34m(self)\u001b[0m\n\u001b[1;32m    178\u001b[0m \u001b[38;5;28;01mexcept\u001b[39;00m SocketTimeout:\n\u001b[0;32m--> 179\u001b[0m     \u001b[38;5;28;01mraise\u001b[39;00m ConnectTimeoutError(\n\u001b[1;32m    180\u001b[0m         \u001b[38;5;28mself\u001b[39m,\n\u001b[1;32m    181\u001b[0m         \u001b[38;5;124m\"\u001b[39m\u001b[38;5;124mConnection to \u001b[39m\u001b[38;5;132;01m%s\u001b[39;00m\u001b[38;5;124m timed out. (connect timeout=\u001b[39m\u001b[38;5;132;01m%s\u001b[39;00m\u001b[38;5;124m)\u001b[39m\u001b[38;5;124m\"\u001b[39m\n\u001b[1;32m    182\u001b[0m         \u001b[38;5;241m%\u001b[39m (\u001b[38;5;28mself\u001b[39m\u001b[38;5;241m.\u001b[39mhost, \u001b[38;5;28mself\u001b[39m\u001b[38;5;241m.\u001b[39mtimeout),\n\u001b[1;32m    183\u001b[0m     )\n\u001b[1;32m    185\u001b[0m \u001b[38;5;28;01mexcept\u001b[39;00m SocketError \u001b[38;5;28;01mas\u001b[39;00m e:\n",
      "\u001b[0;31mConnectTimeoutError\u001b[0m: (<urllib3.connection.HTTPSConnection object at 0x7fb96e252470>, 'Connection to planetarycomputer.microsoft.com timed out. (connect timeout=None)')",
      "\nDuring handling of the above exception, another exception occurred:\n",
      "\u001b[0;31mMaxRetryError\u001b[0m                             Traceback (most recent call last)",
      "File \u001b[0;32m/usr/local/python/lib/python3.10/site-packages/requests/adapters.py:489\u001b[0m, in \u001b[0;36mHTTPAdapter.send\u001b[0;34m(self, request, stream, timeout, verify, cert, proxies)\u001b[0m\n\u001b[1;32m    488\u001b[0m \u001b[38;5;28;01mif\u001b[39;00m \u001b[38;5;129;01mnot\u001b[39;00m chunked:\n\u001b[0;32m--> 489\u001b[0m     resp \u001b[38;5;241m=\u001b[39m \u001b[43mconn\u001b[49m\u001b[38;5;241;43m.\u001b[39;49m\u001b[43murlopen\u001b[49m\u001b[43m(\u001b[49m\n\u001b[1;32m    490\u001b[0m \u001b[43m        \u001b[49m\u001b[43mmethod\u001b[49m\u001b[38;5;241;43m=\u001b[39;49m\u001b[43mrequest\u001b[49m\u001b[38;5;241;43m.\u001b[39;49m\u001b[43mmethod\u001b[49m\u001b[43m,\u001b[49m\n\u001b[1;32m    491\u001b[0m \u001b[43m        \u001b[49m\u001b[43murl\u001b[49m\u001b[38;5;241;43m=\u001b[39;49m\u001b[43murl\u001b[49m\u001b[43m,\u001b[49m\n\u001b[1;32m    492\u001b[0m \u001b[43m        \u001b[49m\u001b[43mbody\u001b[49m\u001b[38;5;241;43m=\u001b[39;49m\u001b[43mrequest\u001b[49m\u001b[38;5;241;43m.\u001b[39;49m\u001b[43mbody\u001b[49m\u001b[43m,\u001b[49m\n\u001b[1;32m    493\u001b[0m \u001b[43m        \u001b[49m\u001b[43mheaders\u001b[49m\u001b[38;5;241;43m=\u001b[39;49m\u001b[43mrequest\u001b[49m\u001b[38;5;241;43m.\u001b[39;49m\u001b[43mheaders\u001b[49m\u001b[43m,\u001b[49m\n\u001b[1;32m    494\u001b[0m \u001b[43m        \u001b[49m\u001b[43mredirect\u001b[49m\u001b[38;5;241;43m=\u001b[39;49m\u001b[38;5;28;43;01mFalse\u001b[39;49;00m\u001b[43m,\u001b[49m\n\u001b[1;32m    495\u001b[0m \u001b[43m        \u001b[49m\u001b[43massert_same_host\u001b[49m\u001b[38;5;241;43m=\u001b[39;49m\u001b[38;5;28;43;01mFalse\u001b[39;49;00m\u001b[43m,\u001b[49m\n\u001b[1;32m    496\u001b[0m \u001b[43m        \u001b[49m\u001b[43mpreload_content\u001b[49m\u001b[38;5;241;43m=\u001b[39;49m\u001b[38;5;28;43;01mFalse\u001b[39;49;00m\u001b[43m,\u001b[49m\n\u001b[1;32m    497\u001b[0m \u001b[43m        \u001b[49m\u001b[43mdecode_content\u001b[49m\u001b[38;5;241;43m=\u001b[39;49m\u001b[38;5;28;43;01mFalse\u001b[39;49;00m\u001b[43m,\u001b[49m\n\u001b[1;32m    498\u001b[0m \u001b[43m        \u001b[49m\u001b[43mretries\u001b[49m\u001b[38;5;241;43m=\u001b[39;49m\u001b[38;5;28;43mself\u001b[39;49m\u001b[38;5;241;43m.\u001b[39;49m\u001b[43mmax_retries\u001b[49m\u001b[43m,\u001b[49m\n\u001b[1;32m    499\u001b[0m \u001b[43m        \u001b[49m\u001b[43mtimeout\u001b[49m\u001b[38;5;241;43m=\u001b[39;49m\u001b[43mtimeout\u001b[49m\u001b[43m,\u001b[49m\n\u001b[1;32m    500\u001b[0m \u001b[43m    \u001b[49m\u001b[43m)\u001b[49m\n\u001b[1;32m    502\u001b[0m \u001b[38;5;66;03m# Send the request.\u001b[39;00m\n\u001b[1;32m    503\u001b[0m \u001b[38;5;28;01melse\u001b[39;00m:\n",
      "File \u001b[0;32m/usr/local/python/lib/python3.10/site-packages/urllib3/connectionpool.py:787\u001b[0m, in \u001b[0;36mHTTPConnectionPool.urlopen\u001b[0;34m(self, method, url, body, headers, retries, redirect, assert_same_host, timeout, pool_timeout, release_conn, chunked, body_pos, **response_kw)\u001b[0m\n\u001b[1;32m    785\u001b[0m     e \u001b[38;5;241m=\u001b[39m ProtocolError(\u001b[38;5;124m\"\u001b[39m\u001b[38;5;124mConnection aborted.\u001b[39m\u001b[38;5;124m\"\u001b[39m, e)\n\u001b[0;32m--> 787\u001b[0m retries \u001b[38;5;241m=\u001b[39m \u001b[43mretries\u001b[49m\u001b[38;5;241;43m.\u001b[39;49m\u001b[43mincrement\u001b[49m\u001b[43m(\u001b[49m\n\u001b[1;32m    788\u001b[0m \u001b[43m    \u001b[49m\u001b[43mmethod\u001b[49m\u001b[43m,\u001b[49m\u001b[43m \u001b[49m\u001b[43murl\u001b[49m\u001b[43m,\u001b[49m\u001b[43m \u001b[49m\u001b[43merror\u001b[49m\u001b[38;5;241;43m=\u001b[39;49m\u001b[43me\u001b[49m\u001b[43m,\u001b[49m\u001b[43m \u001b[49m\u001b[43m_pool\u001b[49m\u001b[38;5;241;43m=\u001b[39;49m\u001b[38;5;28;43mself\u001b[39;49m\u001b[43m,\u001b[49m\u001b[43m \u001b[49m\u001b[43m_stacktrace\u001b[49m\u001b[38;5;241;43m=\u001b[39;49m\u001b[43msys\u001b[49m\u001b[38;5;241;43m.\u001b[39;49m\u001b[43mexc_info\u001b[49m\u001b[43m(\u001b[49m\u001b[43m)\u001b[49m\u001b[43m[\u001b[49m\u001b[38;5;241;43m2\u001b[39;49m\u001b[43m]\u001b[49m\n\u001b[1;32m    789\u001b[0m \u001b[43m\u001b[49m\u001b[43m)\u001b[49m\n\u001b[1;32m    790\u001b[0m retries\u001b[38;5;241m.\u001b[39msleep()\n",
      "File \u001b[0;32m/usr/local/python/lib/python3.10/site-packages/urllib3/util/retry.py:592\u001b[0m, in \u001b[0;36mRetry.increment\u001b[0;34m(self, method, url, response, error, _pool, _stacktrace)\u001b[0m\n\u001b[1;32m    591\u001b[0m \u001b[38;5;28;01mif\u001b[39;00m new_retry\u001b[38;5;241m.\u001b[39mis_exhausted():\n\u001b[0;32m--> 592\u001b[0m     \u001b[38;5;28;01mraise\u001b[39;00m MaxRetryError(_pool, url, error \u001b[38;5;129;01mor\u001b[39;00m ResponseError(cause))\n\u001b[1;32m    594\u001b[0m log\u001b[38;5;241m.\u001b[39mdebug(\u001b[38;5;124m\"\u001b[39m\u001b[38;5;124mIncremented Retry for (url=\u001b[39m\u001b[38;5;124m'\u001b[39m\u001b[38;5;132;01m%s\u001b[39;00m\u001b[38;5;124m'\u001b[39m\u001b[38;5;124m): \u001b[39m\u001b[38;5;132;01m%r\u001b[39;00m\u001b[38;5;124m\"\u001b[39m, url, new_retry)\n",
      "\u001b[0;31mMaxRetryError\u001b[0m: HTTPSConnectionPool(host='planetarycomputer.microsoft.com', port=443): Max retries exceeded with url: /api/stac/v1 (Caused by ConnectTimeoutError(<urllib3.connection.HTTPSConnection object at 0x7fb96e252470>, 'Connection to planetarycomputer.microsoft.com timed out. (connect timeout=None)'))",
      "\nDuring handling of the above exception, another exception occurred:\n",
      "\u001b[0;31mConnectTimeout\u001b[0m                            Traceback (most recent call last)",
      "File \u001b[0;32m/usr/local/python/lib/python3.10/site-packages/pystac_client/stac_api_io.py:167\u001b[0m, in \u001b[0;36mStacApiIO.request\u001b[0;34m(self, href, method, headers, parameters)\u001b[0m\n\u001b[1;32m    166\u001b[0m     logger\u001b[38;5;241m.\u001b[39mdebug(msg)\n\u001b[0;32m--> 167\u001b[0m     resp \u001b[38;5;241m=\u001b[39m \u001b[38;5;28;43mself\u001b[39;49m\u001b[38;5;241;43m.\u001b[39;49m\u001b[43msession\u001b[49m\u001b[38;5;241;43m.\u001b[39;49m\u001b[43msend\u001b[49m\u001b[43m(\u001b[49m\u001b[43mprepped\u001b[49m\u001b[43m)\u001b[49m\n\u001b[1;32m    168\u001b[0m \u001b[38;5;28;01mexcept\u001b[39;00m \u001b[38;5;167;01mException\u001b[39;00m \u001b[38;5;28;01mas\u001b[39;00m err:\n",
      "File \u001b[0;32m/usr/local/python/lib/python3.10/site-packages/requests/sessions.py:701\u001b[0m, in \u001b[0;36mSession.send\u001b[0;34m(self, request, **kwargs)\u001b[0m\n\u001b[1;32m    700\u001b[0m \u001b[38;5;66;03m# Send the request\u001b[39;00m\n\u001b[0;32m--> 701\u001b[0m r \u001b[38;5;241m=\u001b[39m \u001b[43madapter\u001b[49m\u001b[38;5;241;43m.\u001b[39;49m\u001b[43msend\u001b[49m\u001b[43m(\u001b[49m\u001b[43mrequest\u001b[49m\u001b[43m,\u001b[49m\u001b[43m \u001b[49m\u001b[38;5;241;43m*\u001b[39;49m\u001b[38;5;241;43m*\u001b[39;49m\u001b[43mkwargs\u001b[49m\u001b[43m)\u001b[49m\n\u001b[1;32m    703\u001b[0m \u001b[38;5;66;03m# Total elapsed time of the request (approximately)\u001b[39;00m\n",
      "File \u001b[0;32m/usr/local/python/lib/python3.10/site-packages/requests/adapters.py:553\u001b[0m, in \u001b[0;36mHTTPAdapter.send\u001b[0;34m(self, request, stream, timeout, verify, cert, proxies)\u001b[0m\n\u001b[1;32m    552\u001b[0m     \u001b[38;5;28;01mif\u001b[39;00m \u001b[38;5;129;01mnot\u001b[39;00m \u001b[38;5;28misinstance\u001b[39m(e\u001b[38;5;241m.\u001b[39mreason, NewConnectionError):\n\u001b[0;32m--> 553\u001b[0m         \u001b[38;5;28;01mraise\u001b[39;00m ConnectTimeout(e, request\u001b[38;5;241m=\u001b[39mrequest)\n\u001b[1;32m    555\u001b[0m \u001b[38;5;28;01mif\u001b[39;00m \u001b[38;5;28misinstance\u001b[39m(e\u001b[38;5;241m.\u001b[39mreason, ResponseError):\n",
      "\u001b[0;31mConnectTimeout\u001b[0m: HTTPSConnectionPool(host='planetarycomputer.microsoft.com', port=443): Max retries exceeded with url: /api/stac/v1 (Caused by ConnectTimeoutError(<urllib3.connection.HTTPSConnection object at 0x7fb96e252470>, 'Connection to planetarycomputer.microsoft.com timed out. (connect timeout=None)'))",
      "\nDuring handling of the above exception, another exception occurred:\n",
      "\u001b[0;31mAPIError\u001b[0m                                  Traceback (most recent call last)",
      "Cell \u001b[0;32mIn[9], line 2\u001b[0m\n\u001b[1;32m      1\u001b[0m \u001b[38;5;66;03m#download_raster_from_pc(gdf, index_analysis, city, freq, start_date, end_date, tmp_dir, band_name_dict, query={}, satellite=\"sentinel-2-l2a\"):\u001b[39;00m\n\u001b[0;32m----> 2\u001b[0m df_len \u001b[38;5;241m=\u001b[39m \u001b[43maup\u001b[49m\u001b[38;5;241;43m.\u001b[39;49m\u001b[43mdownload_raster_from_pc\u001b[49m\u001b[43m(\u001b[49m\u001b[43mpolygon\u001b[49m\u001b[43m,\u001b[49m\u001b[43m \u001b[49m\u001b[43mindex_analysis\u001b[49m\u001b[43m,\u001b[49m\u001b[43m \u001b[49m\u001b[43mcity\u001b[49m\u001b[43m,\u001b[49m\u001b[43m \u001b[49m\u001b[43mfreq\u001b[49m\u001b[43m,\u001b[49m\u001b[43m \u001b[49m\u001b[43mstart_date\u001b[49m\u001b[43m,\u001b[49m\u001b[43m \u001b[49m\u001b[43mend_date\u001b[49m\u001b[43m,\u001b[49m\u001b[43m \u001b[49m\u001b[43mtmp_dir\u001b[49m\u001b[43m,\u001b[49m\u001b[43m \u001b[49m\u001b[43mband_name_dict\u001b[49m\u001b[43m,\u001b[49m\u001b[43m \u001b[49m\u001b[43mquery\u001b[49m\u001b[43m \u001b[49m\u001b[38;5;241;43m=\u001b[39;49m\u001b[43m \u001b[49m\u001b[43mquery\u001b[49m\u001b[43m,\u001b[49m\u001b[43m \u001b[49m\u001b[43msatellite\u001b[49m\u001b[43m \u001b[49m\u001b[38;5;241;43m=\u001b[39;49m\u001b[43m \u001b[49m\u001b[43msatellite\u001b[49m\u001b[43m)\u001b[49m\n",
      "File \u001b[0;32m~/accesibilidad-urbana/aup/raster.py:145\u001b[0m, in \u001b[0;36mdownload_raster_from_pc\u001b[0;34m(gdf, index_analysis, city, freq, start_date, end_date, tmp_dir, band_name_dict, query, satellite)\u001b[0m\n\u001b[1;32m    142\u001b[0m log(\u001b[38;5;124m'\u001b[39m\u001b[38;5;124mStarting raster creation for specified time\u001b[39m\u001b[38;5;124m'\u001b[39m)\n\u001b[1;32m    144\u001b[0m \u001b[38;5;66;03m# download raster data by month\u001b[39;00m\n\u001b[0;32m--> 145\u001b[0m df_len \u001b[38;5;241m=\u001b[39m \u001b[43mcreate_raster_by_month\u001b[49m\u001b[43m(\u001b[49m\n\u001b[1;32m    146\u001b[0m \u001b[43m    \u001b[49m\u001b[43mdf_len\u001b[49m\u001b[43m,\u001b[49m\u001b[43m \u001b[49m\u001b[43mindex_analysis\u001b[49m\u001b[43m,\u001b[49m\u001b[43m \u001b[49m\u001b[43mcity\u001b[49m\u001b[43m,\u001b[49m\u001b[43m \u001b[49m\u001b[43mtmp_dir\u001b[49m\u001b[43m,\u001b[49m\n\u001b[1;32m    147\u001b[0m \u001b[43m    \u001b[49m\u001b[43mband_name_dict\u001b[49m\u001b[43m,\u001b[49m\u001b[43mdate_list\u001b[49m\u001b[43m,\u001b[49m\u001b[43m \u001b[49m\u001b[43mgdf_raster_test\u001b[49m\u001b[43m,\u001b[49m\n\u001b[1;32m    148\u001b[0m \u001b[43m    \u001b[49m\u001b[43mgdf_bb\u001b[49m\u001b[43m,\u001b[49m\u001b[43m \u001b[49m\u001b[43marea_of_interest\u001b[49m\u001b[43m,\u001b[49m\u001b[43m \u001b[49m\u001b[43msatellite\u001b[49m\u001b[43m,\u001b[49m\u001b[43m \u001b[49m\u001b[43mquery\u001b[49m\u001b[38;5;241;43m=\u001b[39;49m\u001b[43mquery\u001b[49m\u001b[43m)\u001b[49m\n\u001b[1;32m    149\u001b[0m log(\u001b[38;5;124m'\u001b[39m\u001b[38;5;124mFinished raster creation\u001b[39m\u001b[38;5;124m'\u001b[39m)\n\u001b[1;32m    150\u001b[0m \u001b[38;5;66;03m# calculates percentage of missing months\u001b[39;00m\n",
      "File \u001b[0;32m~/accesibilidad-urbana/aup/raster.py:816\u001b[0m, in \u001b[0;36mcreate_raster_by_month\u001b[0;34m(df_len, index_analysis, city, tmp_dir, band_name_dict, date_list, gdf_raster_test, gdf_bb, aoi, sat, query, time_exc_limit)\u001b[0m\n\u001b[1;32m    812\u001b[0m skip_date_list \u001b[38;5;241m=\u001b[39m []\n\u001b[1;32m    814\u001b[0m \u001b[38;5;28;01mwhile\u001b[39;00m iter_count \u001b[38;5;241m<\u001b[39m\u001b[38;5;241m=\u001b[39m \u001b[38;5;241m5\u001b[39m:\n\u001b[1;32m    815\u001b[0m     \u001b[38;5;66;03m# gather links for the date range from planetary computer\u001b[39;00m\n\u001b[0;32m--> 816\u001b[0m     items \u001b[38;5;241m=\u001b[39m \u001b[43mgather_items\u001b[49m\u001b[43m(\u001b[49m\u001b[43mtime_of_interest\u001b[49m\u001b[43m,\u001b[49m\u001b[43m \u001b[49m\u001b[43maoi\u001b[49m\u001b[43m,\u001b[49m\u001b[43m \u001b[49m\u001b[43mquery\u001b[49m\u001b[38;5;241;43m=\u001b[39;49m\u001b[43mquery\u001b[49m\u001b[43m,\u001b[49m\u001b[43m \u001b[49m\u001b[43msatellite\u001b[49m\u001b[38;5;241;43m=\u001b[39;49m\u001b[43msat\u001b[49m\u001b[43m)\u001b[49m\n\u001b[1;32m    818\u001b[0m     \u001b[38;5;66;03m# gather links from dates that are within date_list\u001b[39;00m\n\u001b[1;32m    819\u001b[0m     assets_hrefs \u001b[38;5;241m=\u001b[39m link_dict(band_name_list, items, date_list)\n",
      "File \u001b[0;32m~/accesibilidad-urbana/aup/raster.py:218\u001b[0m, in \u001b[0;36mgather_items\u001b[0;34m(time_of_interest, area_of_interest, query, satellite)\u001b[0m\n\u001b[1;32m    206\u001b[0m \u001b[38;5;250m\u001b[39m\u001b[38;5;124;03m\"\"\" \u001b[39;00m\n\u001b[1;32m    207\u001b[0m \u001b[38;5;124;03mItems gathered in time and area of interest from planetary computer.\u001b[39;00m\n\u001b[1;32m    208\u001b[0m \n\u001b[0;32m   (...)\u001b[0m\n\u001b[1;32m    215\u001b[0m \u001b[38;5;124;03m    items (np.array): items intersecting time and area of interest\u001b[39;00m\n\u001b[1;32m    216\u001b[0m \u001b[38;5;124;03m\"\"\"\u001b[39;00m\n\u001b[1;32m    217\u001b[0m \u001b[38;5;66;03m# gather items from planetary computer by date and area of interest\u001b[39;00m\n\u001b[0;32m--> 218\u001b[0m catalog \u001b[38;5;241m=\u001b[39m \u001b[43mClient\u001b[49m\u001b[38;5;241;43m.\u001b[39;49m\u001b[43mopen\u001b[49m\u001b[43m(\u001b[49m\u001b[38;5;124;43m\"\u001b[39;49m\u001b[38;5;124;43mhttps://planetarycomputer.microsoft.com/api/stac/v1\u001b[39;49m\u001b[38;5;124;43m\"\u001b[39;49m\u001b[43m)\u001b[49m\n\u001b[1;32m    220\u001b[0m items \u001b[38;5;241m=\u001b[39m []\n\u001b[1;32m    221\u001b[0m \u001b[38;5;28;01mfor\u001b[39;00m t \u001b[38;5;129;01min\u001b[39;00m time_of_interest:\n",
      "File \u001b[0;32m/usr/local/python/lib/python3.10/site-packages/pystac_client/client.py:143\u001b[0m, in \u001b[0;36mClient.open\u001b[0;34m(cls, url, headers, parameters, ignore_conformance, modifier, request_modifier, stac_io)\u001b[0m\n\u001b[1;32m     80\u001b[0m \u001b[38;5;129m@classmethod\u001b[39m\n\u001b[1;32m     81\u001b[0m \u001b[38;5;28;01mdef\u001b[39;00m \u001b[38;5;21mopen\u001b[39m(\n\u001b[1;32m     82\u001b[0m     \u001b[38;5;28mcls\u001b[39m,\n\u001b[0;32m   (...)\u001b[0m\n\u001b[1;32m     89\u001b[0m     stac_io: Optional[StacApiIO] \u001b[38;5;241m=\u001b[39m \u001b[38;5;28;01mNone\u001b[39;00m,\n\u001b[1;32m     90\u001b[0m ) \u001b[38;5;241m-\u001b[39m\u001b[38;5;241m>\u001b[39m \u001b[38;5;124m\"\u001b[39m\u001b[38;5;124mClient\u001b[39m\u001b[38;5;124m\"\u001b[39m:\n\u001b[1;32m     91\u001b[0m \u001b[38;5;250m    \u001b[39m\u001b[38;5;124;03m\"\"\"Opens a STAC Catalog or API\u001b[39;00m\n\u001b[1;32m     92\u001b[0m \u001b[38;5;124;03m    This function will read the root catalog of a STAC Catalog or API\u001b[39;00m\n\u001b[1;32m     93\u001b[0m \n\u001b[0;32m   (...)\u001b[0m\n\u001b[1;32m    141\u001b[0m \u001b[38;5;124;03m        catalog : A :class:`Client` instance for this Catalog/API\u001b[39;00m\n\u001b[1;32m    142\u001b[0m \u001b[38;5;124;03m    \"\"\"\u001b[39;00m\n\u001b[0;32m--> 143\u001b[0m     client: Client \u001b[38;5;241m=\u001b[39m \u001b[38;5;28;43mcls\u001b[39;49m\u001b[38;5;241;43m.\u001b[39;49m\u001b[43mfrom_file\u001b[49m\u001b[43m(\u001b[49m\n\u001b[1;32m    144\u001b[0m \u001b[43m        \u001b[49m\u001b[43murl\u001b[49m\u001b[43m,\u001b[49m\n\u001b[1;32m    145\u001b[0m \u001b[43m        \u001b[49m\u001b[43mheaders\u001b[49m\u001b[38;5;241;43m=\u001b[39;49m\u001b[43mheaders\u001b[49m\u001b[43m,\u001b[49m\n\u001b[1;32m    146\u001b[0m \u001b[43m        \u001b[49m\u001b[43mparameters\u001b[49m\u001b[38;5;241;43m=\u001b[39;49m\u001b[43mparameters\u001b[49m\u001b[43m,\u001b[49m\n\u001b[1;32m    147\u001b[0m \u001b[43m        \u001b[49m\u001b[43mmodifier\u001b[49m\u001b[38;5;241;43m=\u001b[39;49m\u001b[43mmodifier\u001b[49m\u001b[43m,\u001b[49m\n\u001b[1;32m    148\u001b[0m \u001b[43m        \u001b[49m\u001b[43mrequest_modifier\u001b[49m\u001b[38;5;241;43m=\u001b[39;49m\u001b[43mrequest_modifier\u001b[49m\u001b[43m,\u001b[49m\n\u001b[1;32m    149\u001b[0m \u001b[43m        \u001b[49m\u001b[43mstac_io\u001b[49m\u001b[38;5;241;43m=\u001b[39;49m\u001b[43mstac_io\u001b[49m\u001b[43m,\u001b[49m\n\u001b[1;32m    150\u001b[0m \u001b[43m    \u001b[49m\u001b[43m)\u001b[49m\n\u001b[1;32m    151\u001b[0m     search_link \u001b[38;5;241m=\u001b[39m client\u001b[38;5;241m.\u001b[39mget_search_link()\n\u001b[1;32m    152\u001b[0m     \u001b[38;5;66;03m# if there is a search link, but no conformsTo advertised, ignore\u001b[39;00m\n\u001b[1;32m    153\u001b[0m     \u001b[38;5;66;03m# conformance entirely\u001b[39;00m\n\u001b[1;32m    154\u001b[0m     \u001b[38;5;66;03m# NOTE: this behavior to be deprecated as implementations become conformant\u001b[39;00m\n",
      "File \u001b[0;32m/usr/local/python/lib/python3.10/site-packages/pystac_client/client.py:197\u001b[0m, in \u001b[0;36mClient.from_file\u001b[0;34m(cls, href, stac_io, headers, parameters, modifier, request_modifier)\u001b[0m\n\u001b[1;32m    190\u001b[0m \u001b[38;5;28;01melse\u001b[39;00m:\n\u001b[1;32m    191\u001b[0m     stac_io\u001b[38;5;241m.\u001b[39mupdate(\n\u001b[1;32m    192\u001b[0m         headers\u001b[38;5;241m=\u001b[39mheaders,\n\u001b[1;32m    193\u001b[0m         parameters\u001b[38;5;241m=\u001b[39mparameters,\n\u001b[1;32m    194\u001b[0m         request_modifier\u001b[38;5;241m=\u001b[39mrequest_modifier,\n\u001b[1;32m    195\u001b[0m     )\n\u001b[0;32m--> 197\u001b[0m client: Client \u001b[38;5;241m=\u001b[39m \u001b[38;5;28;43msuper\u001b[39;49m\u001b[43m(\u001b[49m\u001b[43m)\u001b[49m\u001b[38;5;241;43m.\u001b[39;49m\u001b[43mfrom_file\u001b[49m\u001b[43m(\u001b[49m\u001b[43mhref\u001b[49m\u001b[43m,\u001b[49m\u001b[43m \u001b[49m\u001b[43mstac_io\u001b[49m\u001b[43m)\u001b[49m\n\u001b[1;32m    199\u001b[0m client\u001b[38;5;241m.\u001b[39m_stac_io\u001b[38;5;241m.\u001b[39m_conformance \u001b[38;5;241m=\u001b[39m client\u001b[38;5;241m.\u001b[39mextra_fields\u001b[38;5;241m.\u001b[39mget(  \u001b[38;5;66;03m# type: ignore\u001b[39;00m\n\u001b[1;32m    200\u001b[0m     \u001b[38;5;124m\"\u001b[39m\u001b[38;5;124mconformsTo\u001b[39m\u001b[38;5;124m\"\u001b[39m, []\n\u001b[1;32m    201\u001b[0m )\n\u001b[1;32m    202\u001b[0m client\u001b[38;5;241m.\u001b[39mmodifier \u001b[38;5;241m=\u001b[39m modifier\n",
      "File \u001b[0;32m/usr/local/python/lib/python3.10/site-packages/pystac/catalog.py:1127\u001b[0m, in \u001b[0;36mCatalog.from_file\u001b[0;34m(cls, href, stac_io)\u001b[0m\n\u001b[1;32m   1124\u001b[0m \u001b[38;5;28;01mif\u001b[39;00m stac_io \u001b[38;5;129;01mis\u001b[39;00m \u001b[38;5;28;01mNone\u001b[39;00m:\n\u001b[1;32m   1125\u001b[0m     stac_io \u001b[38;5;241m=\u001b[39m pystac\u001b[38;5;241m.\u001b[39mStacIO\u001b[38;5;241m.\u001b[39mdefault()\n\u001b[0;32m-> 1127\u001b[0m result \u001b[38;5;241m=\u001b[39m \u001b[38;5;28;43msuper\u001b[39;49m\u001b[43m(\u001b[49m\u001b[43m)\u001b[49m\u001b[38;5;241;43m.\u001b[39;49m\u001b[43mfrom_file\u001b[49m\u001b[43m(\u001b[49m\u001b[43mhref\u001b[49m\u001b[43m,\u001b[49m\u001b[43m \u001b[49m\u001b[43mstac_io\u001b[49m\u001b[43m)\u001b[49m\n\u001b[1;32m   1128\u001b[0m \u001b[38;5;28;01mif\u001b[39;00m \u001b[38;5;129;01mnot\u001b[39;00m \u001b[38;5;28misinstance\u001b[39m(result, Catalog):\n\u001b[1;32m   1129\u001b[0m     \u001b[38;5;28;01mraise\u001b[39;00m pystac\u001b[38;5;241m.\u001b[39mSTACTypeError(\u001b[38;5;124mf\u001b[39m\u001b[38;5;124m\"\u001b[39m\u001b[38;5;132;01m{\u001b[39;00mresult\u001b[38;5;132;01m}\u001b[39;00m\u001b[38;5;124m is not a \u001b[39m\u001b[38;5;132;01m{\u001b[39;00mCatalog\u001b[38;5;132;01m}\u001b[39;00m\u001b[38;5;124m.\u001b[39m\u001b[38;5;124m\"\u001b[39m)\n",
      "File \u001b[0;32m/usr/local/python/lib/python3.10/site-packages/pystac/stac_object.py:562\u001b[0m, in \u001b[0;36mSTACObject.from_file\u001b[0;34m(cls, href, stac_io)\u001b[0m\n\u001b[1;32m    559\u001b[0m \u001b[38;5;28;01mif\u001b[39;00m \u001b[38;5;129;01mnot\u001b[39;00m is_absolute_href(href):\n\u001b[1;32m    560\u001b[0m     href \u001b[38;5;241m=\u001b[39m make_absolute_href(href)\n\u001b[0;32m--> 562\u001b[0m d \u001b[38;5;241m=\u001b[39m \u001b[43mstac_io\u001b[49m\u001b[38;5;241;43m.\u001b[39;49m\u001b[43mread_json\u001b[49m\u001b[43m(\u001b[49m\u001b[43mhref\u001b[49m\u001b[43m)\u001b[49m\n\u001b[1;32m    563\u001b[0m o \u001b[38;5;241m=\u001b[39m \u001b[38;5;28mcls\u001b[39m\u001b[38;5;241m.\u001b[39mfrom_dict(d, href\u001b[38;5;241m=\u001b[39mhref, migrate\u001b[38;5;241m=\u001b[39m\u001b[38;5;28;01mTrue\u001b[39;00m, preserve_dict\u001b[38;5;241m=\u001b[39m\u001b[38;5;28;01mFalse\u001b[39;00m)\n\u001b[1;32m    565\u001b[0m \u001b[38;5;66;03m# Set the self HREF, if it's not already set to something else.\u001b[39;00m\n",
      "File \u001b[0;32m/usr/local/python/lib/python3.10/site-packages/pystac/stac_io.py:202\u001b[0m, in \u001b[0;36mStacIO.read_json\u001b[0;34m(self, source, *args, **kwargs)\u001b[0m\n\u001b[1;32m    185\u001b[0m \u001b[38;5;28;01mdef\u001b[39;00m \u001b[38;5;21mread_json\u001b[39m(\u001b[38;5;28mself\u001b[39m, source: HREF, \u001b[38;5;241m*\u001b[39margs: Any, \u001b[38;5;241m*\u001b[39m\u001b[38;5;241m*\u001b[39mkwargs: Any) \u001b[38;5;241m-\u001b[39m\u001b[38;5;241m>\u001b[39m Dict[\u001b[38;5;28mstr\u001b[39m, Any]:\n\u001b[1;32m    186\u001b[0m \u001b[38;5;250m    \u001b[39m\u001b[38;5;124;03m\"\"\"Read a dict from the given source.\u001b[39;00m\n\u001b[1;32m    187\u001b[0m \n\u001b[1;32m    188\u001b[0m \u001b[38;5;124;03m    See :func:`StacIO.read_text <pystac.StacIO.read_text>` for usage of\u001b[39;00m\n\u001b[0;32m   (...)\u001b[0m\n\u001b[1;32m    200\u001b[0m \u001b[38;5;124;03m        given source.\u001b[39;00m\n\u001b[1;32m    201\u001b[0m \u001b[38;5;124;03m    \"\"\"\u001b[39;00m\n\u001b[0;32m--> 202\u001b[0m     txt \u001b[38;5;241m=\u001b[39m \u001b[38;5;28;43mself\u001b[39;49m\u001b[38;5;241;43m.\u001b[39;49m\u001b[43mread_text\u001b[49m\u001b[43m(\u001b[49m\u001b[43msource\u001b[49m\u001b[43m,\u001b[49m\u001b[43m \u001b[49m\u001b[38;5;241;43m*\u001b[39;49m\u001b[43margs\u001b[49m\u001b[43m,\u001b[49m\u001b[43m \u001b[49m\u001b[38;5;241;43m*\u001b[39;49m\u001b[38;5;241;43m*\u001b[39;49m\u001b[43mkwargs\u001b[49m\u001b[43m)\u001b[49m\n\u001b[1;32m    203\u001b[0m     \u001b[38;5;28;01mreturn\u001b[39;00m \u001b[38;5;28mself\u001b[39m\u001b[38;5;241m.\u001b[39mjson_loads(txt)\n",
      "File \u001b[0;32m/usr/local/python/lib/python3.10/site-packages/pystac_client/stac_api_io.py:123\u001b[0m, in \u001b[0;36mStacApiIO.read_text\u001b[0;34m(self, source, *args, **kwargs)\u001b[0m\n\u001b[1;32m    121\u001b[0m href \u001b[38;5;241m=\u001b[39m \u001b[38;5;28mstr\u001b[39m(source)\n\u001b[1;32m    122\u001b[0m \u001b[38;5;28;01mif\u001b[39;00m _is_url(href):\n\u001b[0;32m--> 123\u001b[0m     \u001b[38;5;28;01mreturn\u001b[39;00m \u001b[38;5;28;43mself\u001b[39;49m\u001b[38;5;241;43m.\u001b[39;49m\u001b[43mrequest\u001b[49m\u001b[43m(\u001b[49m\u001b[43mhref\u001b[49m\u001b[43m,\u001b[49m\u001b[43m \u001b[49m\u001b[38;5;241;43m*\u001b[39;49m\u001b[43margs\u001b[49m\u001b[43m,\u001b[49m\u001b[43m \u001b[49m\u001b[38;5;241;43m*\u001b[39;49m\u001b[38;5;241;43m*\u001b[39;49m\u001b[43mkwargs\u001b[49m\u001b[43m)\u001b[49m\n\u001b[1;32m    124\u001b[0m \u001b[38;5;28;01melse\u001b[39;00m:\n\u001b[1;32m    125\u001b[0m     \u001b[38;5;28;01mwith\u001b[39;00m \u001b[38;5;28mopen\u001b[39m(href) \u001b[38;5;28;01mas\u001b[39;00m f:\n",
      "File \u001b[0;32m/usr/local/python/lib/python3.10/site-packages/pystac_client/stac_api_io.py:169\u001b[0m, in \u001b[0;36mStacApiIO.request\u001b[0;34m(self, href, method, headers, parameters)\u001b[0m\n\u001b[1;32m    167\u001b[0m     resp \u001b[38;5;241m=\u001b[39m \u001b[38;5;28mself\u001b[39m\u001b[38;5;241m.\u001b[39msession\u001b[38;5;241m.\u001b[39msend(prepped)\n\u001b[1;32m    168\u001b[0m \u001b[38;5;28;01mexcept\u001b[39;00m \u001b[38;5;167;01mException\u001b[39;00m \u001b[38;5;28;01mas\u001b[39;00m err:\n\u001b[0;32m--> 169\u001b[0m     \u001b[38;5;28;01mraise\u001b[39;00m APIError(\u001b[38;5;28mstr\u001b[39m(err))\n\u001b[1;32m    170\u001b[0m \u001b[38;5;28;01mif\u001b[39;00m resp\u001b[38;5;241m.\u001b[39mstatus_code \u001b[38;5;241m!=\u001b[39m \u001b[38;5;241m200\u001b[39m:\n\u001b[1;32m    171\u001b[0m     \u001b[38;5;28;01mraise\u001b[39;00m APIError\u001b[38;5;241m.\u001b[39mfrom_response(resp)\n",
      "\u001b[0;31mAPIError\u001b[0m: HTTPSConnectionPool(host='planetarycomputer.microsoft.com', port=443): Max retries exceeded with url: /api/stac/v1 (Caused by ConnectTimeoutError(<urllib3.connection.HTTPSConnection object at 0x7fb96e252470>, 'Connection to planetarycomputer.microsoft.com timed out. (connect timeout=None)'))"
     ]
    }
   ],
   "source": [
    "#download_raster_from_pc(gdf, index_analysis, city, freq, start_date, end_date, tmp_dir, band_name_dict, query={}, satellite=\"sentinel-2-l2a\"):\n",
    "df_len = aup.download_raster_from_pc(polygon, index_analysis, city, freq, start_date, end_date, tmp_dir, band_name_dict, query = query, satellite = satellite)"
   ]
  },
  {
   "cell_type": "markdown",
   "id": "3a80e0b8-eb53-4916-8178-5dcc07e8cbbb",
   "metadata": {
    "jp-MarkdownHeadingCollapsed": true,
    "tags": []
   },
   "source": [
    "### Debuging / reviewing: download_raster_from_pc step by step"
   ]
  },
  {
   "cell_type": "code",
   "execution_count": 5,
   "id": "a4bdb8bd-39b8-46c1-ba68-860b70e39ca3",
   "metadata": {
    "tags": []
   },
   "outputs": [],
   "source": [
    "#download_raster_from_pc(gdf, index_analysis, city, freq, start_date, end_date, tmp_dir, band_name_dict, query={}, satellite=\"sentinel-2-l2a\")\n",
    "gdf = polygon.copy()"
   ]
  },
  {
   "cell_type": "code",
   "execution_count": 6,
   "id": "7468c33e-5867-4d8d-b123-81b033e76c78",
   "metadata": {
    "tags": []
   },
   "outputs": [
    {
     "name": "stdout",
     "output_type": "stream",
     "text": [
      "Extracting bounding coordinates from hexagons\n",
      "Defining time of interest\n",
      "Gathering items for time and area of interest\n",
      "Fetched 158 items\n",
      "Created dictionary from items\n"
     ]
    }
   ],
   "source": [
    "# create area of interest coordinates from hexagons to download raster data    \n",
    "print('Extracting bounding coordinates from hexagons')\n",
    "# Create buffer around hexagons\n",
    "poly = gdf.to_crs(\"EPSG:6372\").buffer(500)\n",
    "poly = poly.to_crs(\"EPSG:4326\")\n",
    "poly = gpd.GeoDataFrame(geometry=poly).dissolve().geometry\n",
    "# Extracts coordinates from polygon as DataFrame\n",
    "coord_val = poly.bounds\n",
    "# Gets coordinates for bounding box\n",
    "n = coord_val.maxy.max()\n",
    "s = coord_val.miny.min()\n",
    "e = coord_val.maxx.max()\n",
    "w = coord_val.minx.min()\n",
    "# Sets the coordinates for the area of interest\n",
    "area_of_interest = {\n",
    "    \"type\": \"Polygon\",\n",
    "    \"coordinates\": [\n",
    "        [\n",
    "            [e, s],\n",
    "            [w, s],\n",
    "            [w, n],\n",
    "            [e, n],\n",
    "            [e, s],\n",
    "        ]\n",
    "    ],\n",
    "}\n",
    "\n",
    "# create time of interest\n",
    "print('Defining time of interest')\n",
    "time_of_interest = aup.create_time_of_interest(start_date, end_date, freq=freq)\n",
    "\n",
    "# gathers items for time and area of interest\n",
    "print('Gathering items for time and area of interest')\n",
    "items = aup.gather_items(time_of_interest, area_of_interest, query=query, satellite=satellite)\n",
    "print(f'Fetched {len(items)} items')\n",
    "\n",
    "date_list = aup.available_datasets(items, satellite)\n",
    "\n",
    "# create dictionary from links\n",
    "band_name_list = list(band_name_dict.keys())[:-1]\n",
    "assets_hrefs = aup.link_dict(band_name_list, items, date_list)\n",
    "print('Created dictionary from items')"
   ]
  },
  {
   "cell_type": "code",
   "execution_count": 8,
   "id": "52c4a374-f747-4276-8f8c-537775ef89ca",
   "metadata": {
    "tags": []
   },
   "outputs": [
    {
     "data": {
      "text/plain": [
       "{datetime.date(2016, 1, 16): {'green': ['https://sentinel2l2a01.blob.core.windows.net/sentinel2-l2/14/R/MP/2016/01/16/S2A_MSIL2A_20160116T171642_N0300_R112_T14RMP_20210527T183634.SAFE/GRANULE/L2A_T14RMP_A002969_20160116T172524/IMG_DATA/R10m/T14RMP_20160116T171642_B03_10m.tif?st=2023-10-19T20%3A07%3A51Z&se=2023-10-20T20%3A52%3A51Z&sp=rl&sv=2021-06-08&sr=c&skoid=c85c15d6-d1ae-42d4-af60-e2ca0f81359b&sktid=72f988bf-86f1-41af-91ab-2d7cd011db47&skt=2023-10-20T18%3A39%3A23Z&ske=2023-10-27T18%3A39%3A23Z&sks=b&skv=2021-06-08&sig=I14J535y06XeUfYNMJm7nq7mMRmfdHIC5teraisQ3UQ%3D'],\n",
       "  'nir': ['https://sentinel2l2a01.blob.core.windows.net/sentinel2-l2/14/R/MP/2016/01/16/S2A_MSIL2A_20160116T171642_N0300_R112_T14RMP_20210527T183634.SAFE/GRANULE/L2A_T14RMP_A002969_20160116T172524/IMG_DATA/R10m/T14RMP_20160116T171642_B08_10m.tif?st=2023-10-19T20%3A07%3A51Z&se=2023-10-20T20%3A52%3A51Z&sp=rl&sv=2021-06-08&sr=c&skoid=c85c15d6-d1ae-42d4-af60-e2ca0f81359b&sktid=72f988bf-86f1-41af-91ab-2d7cd011db47&skt=2023-10-20T18%3A39%3A23Z&ske=2023-10-27T18%3A39%3A23Z&sks=b&skv=2021-06-08&sig=I14J535y06XeUfYNMJm7nq7mMRmfdHIC5teraisQ3UQ%3D']},\n",
       " datetime.date(2016, 2, 15): {'green': ['https://sentinel2l2a01.blob.core.windows.net/sentinel2-l2/14/R/MP/2016/02/15/S2A_MSIL2A_20160215T171412_N0300_R112_T14RMP_20210528T065945.SAFE/GRANULE/L2A_T14RMP_A003398_20160215T172207/IMG_DATA/R10m/T14RMP_20160215T171412_B03_10m.tif?st=2023-10-19T20%3A07%3A51Z&se=2023-10-20T20%3A52%3A51Z&sp=rl&sv=2021-06-08&sr=c&skoid=c85c15d6-d1ae-42d4-af60-e2ca0f81359b&sktid=72f988bf-86f1-41af-91ab-2d7cd011db47&skt=2023-10-20T18%3A39%3A23Z&ske=2023-10-27T18%3A39%3A23Z&sks=b&skv=2021-06-08&sig=I14J535y06XeUfYNMJm7nq7mMRmfdHIC5teraisQ3UQ%3D'],\n",
       "  'nir': ['https://sentinel2l2a01.blob.core.windows.net/sentinel2-l2/14/R/MP/2016/02/15/S2A_MSIL2A_20160215T171412_N0300_R112_T14RMP_20210528T065945.SAFE/GRANULE/L2A_T14RMP_A003398_20160215T172207/IMG_DATA/R10m/T14RMP_20160215T171412_B08_10m.tif?st=2023-10-19T20%3A07%3A51Z&se=2023-10-20T20%3A52%3A51Z&sp=rl&sv=2021-06-08&sr=c&skoid=c85c15d6-d1ae-42d4-af60-e2ca0f81359b&sktid=72f988bf-86f1-41af-91ab-2d7cd011db47&skt=2023-10-20T18%3A39%3A23Z&ske=2023-10-27T18%3A39%3A23Z&sks=b&skv=2021-06-08&sig=I14J535y06XeUfYNMJm7nq7mMRmfdHIC5teraisQ3UQ%3D']},\n",
       " datetime.date(2016, 5, 5): {'green': ['https://sentinel2l2a01.blob.core.windows.net/sentinel2-l2/14/R/MP/2016/05/05/S2A_MSIL2A_20160505T171302_N0212_R112_T14RMP_20210211T085128.SAFE/GRANULE/L2A_T14RMP_A004542_20160505T172301/IMG_DATA/R10m/T14RMP_20160505T171302_B03_10m.tif?st=2023-10-19T20%3A07%3A51Z&se=2023-10-20T20%3A52%3A51Z&sp=rl&sv=2021-06-08&sr=c&skoid=c85c15d6-d1ae-42d4-af60-e2ca0f81359b&sktid=72f988bf-86f1-41af-91ab-2d7cd011db47&skt=2023-10-20T18%3A39%3A23Z&ske=2023-10-27T18%3A39%3A23Z&sks=b&skv=2021-06-08&sig=I14J535y06XeUfYNMJm7nq7mMRmfdHIC5teraisQ3UQ%3D'],\n",
       "  'nir': ['https://sentinel2l2a01.blob.core.windows.net/sentinel2-l2/14/R/MP/2016/05/05/S2A_MSIL2A_20160505T171302_N0212_R112_T14RMP_20210211T085128.SAFE/GRANULE/L2A_T14RMP_A004542_20160505T172301/IMG_DATA/R10m/T14RMP_20160505T171302_B08_10m.tif?st=2023-10-19T20%3A07%3A51Z&se=2023-10-20T20%3A52%3A51Z&sp=rl&sv=2021-06-08&sr=c&skoid=c85c15d6-d1ae-42d4-af60-e2ca0f81359b&sktid=72f988bf-86f1-41af-91ab-2d7cd011db47&skt=2023-10-20T18%3A39%3A23Z&ske=2023-10-27T18%3A39%3A23Z&sks=b&skv=2021-06-08&sig=I14J535y06XeUfYNMJm7nq7mMRmfdHIC5teraisQ3UQ%3D']},\n",
       " datetime.date(2016, 7, 24): {'green': ['https://sentinel2l2a01.blob.core.windows.net/sentinel2-l2/14/R/MP/2016/07/24/S2A_MSIL2A_20160724T171302_N0212_R112_T14RMP_20210212T073954.SAFE/GRANULE/L2A_T14RMP_A005686_20160724T172601/IMG_DATA/R10m/T14RMP_20160724T171302_B03_10m.tif?st=2023-10-19T20%3A07%3A51Z&se=2023-10-20T20%3A52%3A51Z&sp=rl&sv=2021-06-08&sr=c&skoid=c85c15d6-d1ae-42d4-af60-e2ca0f81359b&sktid=72f988bf-86f1-41af-91ab-2d7cd011db47&skt=2023-10-20T18%3A39%3A23Z&ske=2023-10-27T18%3A39%3A23Z&sks=b&skv=2021-06-08&sig=I14J535y06XeUfYNMJm7nq7mMRmfdHIC5teraisQ3UQ%3D'],\n",
       "  'nir': ['https://sentinel2l2a01.blob.core.windows.net/sentinel2-l2/14/R/MP/2016/07/24/S2A_MSIL2A_20160724T171302_N0212_R112_T14RMP_20210212T073954.SAFE/GRANULE/L2A_T14RMP_A005686_20160724T172601/IMG_DATA/R10m/T14RMP_20160724T171302_B08_10m.tif?st=2023-10-19T20%3A07%3A51Z&se=2023-10-20T20%3A52%3A51Z&sp=rl&sv=2021-06-08&sr=c&skoid=c85c15d6-d1ae-42d4-af60-e2ca0f81359b&sktid=72f988bf-86f1-41af-91ab-2d7cd011db47&skt=2023-10-20T18%3A39%3A23Z&ske=2023-10-27T18%3A39%3A23Z&sks=b&skv=2021-06-08&sig=I14J535y06XeUfYNMJm7nq7mMRmfdHIC5teraisQ3UQ%3D']},\n",
       " datetime.date(2016, 10, 12): {'green': ['https://sentinel2l2a01.blob.core.windows.net/sentinel2-l2/14/R/MP/2016/10/12/S2A_MSIL2A_20161012T171302_N0212_R112_T14RMP_20210213T095956.SAFE/GRANULE/L2A_T14RMP_A006830_20161012T172230/IMG_DATA/R10m/T14RMP_20161012T171302_B03_10m.tif?st=2023-10-19T20%3A07%3A51Z&se=2023-10-20T20%3A52%3A51Z&sp=rl&sv=2021-06-08&sr=c&skoid=c85c15d6-d1ae-42d4-af60-e2ca0f81359b&sktid=72f988bf-86f1-41af-91ab-2d7cd011db47&skt=2023-10-20T18%3A39%3A23Z&ske=2023-10-27T18%3A39%3A23Z&sks=b&skv=2021-06-08&sig=I14J535y06XeUfYNMJm7nq7mMRmfdHIC5teraisQ3UQ%3D'],\n",
       "  'nir': ['https://sentinel2l2a01.blob.core.windows.net/sentinel2-l2/14/R/MP/2016/10/12/S2A_MSIL2A_20161012T171302_N0212_R112_T14RMP_20210213T095956.SAFE/GRANULE/L2A_T14RMP_A006830_20161012T172230/IMG_DATA/R10m/T14RMP_20161012T171302_B08_10m.tif?st=2023-10-19T20%3A07%3A51Z&se=2023-10-20T20%3A52%3A51Z&sp=rl&sv=2021-06-08&sr=c&skoid=c85c15d6-d1ae-42d4-af60-e2ca0f81359b&sktid=72f988bf-86f1-41af-91ab-2d7cd011db47&skt=2023-10-20T18%3A39%3A23Z&ske=2023-10-27T18%3A39%3A23Z&sks=b&skv=2021-06-08&sig=I14J535y06XeUfYNMJm7nq7mMRmfdHIC5teraisQ3UQ%3D']},\n",
       " datetime.date(2016, 11, 1): {'green': ['https://sentinel2l2a01.blob.core.windows.net/sentinel2-l2/14/R/MP/2016/11/01/S2A_MSIL2A_20161101T171442_N0212_R112_T14RMP_20210213T162535.SAFE/GRANULE/L2A_T14RMP_A007116_20161101T171850/IMG_DATA/R10m/T14RMP_20161101T171442_B03_10m.tif?st=2023-10-19T20%3A07%3A51Z&se=2023-10-20T20%3A52%3A51Z&sp=rl&sv=2021-06-08&sr=c&skoid=c85c15d6-d1ae-42d4-af60-e2ca0f81359b&sktid=72f988bf-86f1-41af-91ab-2d7cd011db47&skt=2023-10-20T18%3A39%3A23Z&ske=2023-10-27T18%3A39%3A23Z&sks=b&skv=2021-06-08&sig=I14J535y06XeUfYNMJm7nq7mMRmfdHIC5teraisQ3UQ%3D'],\n",
       "  'nir': ['https://sentinel2l2a01.blob.core.windows.net/sentinel2-l2/14/R/MP/2016/11/01/S2A_MSIL2A_20161101T171442_N0212_R112_T14RMP_20210213T162535.SAFE/GRANULE/L2A_T14RMP_A007116_20161101T171850/IMG_DATA/R10m/T14RMP_20161101T171442_B08_10m.tif?st=2023-10-19T20%3A07%3A51Z&se=2023-10-20T20%3A52%3A51Z&sp=rl&sv=2021-06-08&sr=c&skoid=c85c15d6-d1ae-42d4-af60-e2ca0f81359b&sktid=72f988bf-86f1-41af-91ab-2d7cd011db47&skt=2023-10-20T18%3A39%3A23Z&ske=2023-10-27T18%3A39%3A23Z&sks=b&skv=2021-06-08&sig=I14J535y06XeUfYNMJm7nq7mMRmfdHIC5teraisQ3UQ%3D']},\n",
       " datetime.date(2017, 3, 21): {'green': ['https://sentinel2l2a01.blob.core.windows.net/sentinel2-l2/14/R/MP/2017/03/21/S2A_MSIL2A_20170321T171251_N0212_R112_T14RMP_20210209T002950.SAFE/GRANULE/L2A_T14RMP_A009118_20170321T172621/IMG_DATA/R10m/T14RMP_20170321T171251_B03_10m.tif?st=2023-10-19T20%3A07%3A51Z&se=2023-10-20T20%3A52%3A51Z&sp=rl&sv=2021-06-08&sr=c&skoid=c85c15d6-d1ae-42d4-af60-e2ca0f81359b&sktid=72f988bf-86f1-41af-91ab-2d7cd011db47&skt=2023-10-20T18%3A39%3A23Z&ske=2023-10-27T18%3A39%3A23Z&sks=b&skv=2021-06-08&sig=I14J535y06XeUfYNMJm7nq7mMRmfdHIC5teraisQ3UQ%3D'],\n",
       "  'nir': ['https://sentinel2l2a01.blob.core.windows.net/sentinel2-l2/14/R/MP/2017/03/21/S2A_MSIL2A_20170321T171251_N0212_R112_T14RMP_20210209T002950.SAFE/GRANULE/L2A_T14RMP_A009118_20170321T172621/IMG_DATA/R10m/T14RMP_20170321T171251_B08_10m.tif?st=2023-10-19T20%3A07%3A51Z&se=2023-10-20T20%3A52%3A51Z&sp=rl&sv=2021-06-08&sr=c&skoid=c85c15d6-d1ae-42d4-af60-e2ca0f81359b&sktid=72f988bf-86f1-41af-91ab-2d7cd011db47&skt=2023-10-20T18%3A39%3A23Z&ske=2023-10-27T18%3A39%3A23Z&sks=b&skv=2021-06-08&sig=I14J535y06XeUfYNMJm7nq7mMRmfdHIC5teraisQ3UQ%3D']},\n",
       " datetime.date(2017, 4, 30): {'green': ['https://sentinel2l2a01.blob.core.windows.net/sentinel2-l2/14/R/MP/2017/04/30/S2A_MSIL2A_20170430T171301_N0212_R112_T14RMP_20210209T120200.SAFE/GRANULE/L2A_T14RMP_A009690_20170430T172229/IMG_DATA/R10m/T14RMP_20170430T171301_B03_10m.tif?st=2023-10-19T20%3A07%3A51Z&se=2023-10-20T20%3A52%3A51Z&sp=rl&sv=2021-06-08&sr=c&skoid=c85c15d6-d1ae-42d4-af60-e2ca0f81359b&sktid=72f988bf-86f1-41af-91ab-2d7cd011db47&skt=2023-10-20T18%3A39%3A23Z&ske=2023-10-27T18%3A39%3A23Z&sks=b&skv=2021-06-08&sig=I14J535y06XeUfYNMJm7nq7mMRmfdHIC5teraisQ3UQ%3D'],\n",
       "  'nir': ['https://sentinel2l2a01.blob.core.windows.net/sentinel2-l2/14/R/MP/2017/04/30/S2A_MSIL2A_20170430T171301_N0212_R112_T14RMP_20210209T120200.SAFE/GRANULE/L2A_T14RMP_A009690_20170430T172229/IMG_DATA/R10m/T14RMP_20170430T171301_B08_10m.tif?st=2023-10-19T20%3A07%3A51Z&se=2023-10-20T20%3A52%3A51Z&sp=rl&sv=2021-06-08&sr=c&skoid=c85c15d6-d1ae-42d4-af60-e2ca0f81359b&sktid=72f988bf-86f1-41af-91ab-2d7cd011db47&skt=2023-10-20T18%3A39%3A23Z&ske=2023-10-27T18%3A39%3A23Z&sks=b&skv=2021-06-08&sig=I14J535y06XeUfYNMJm7nq7mMRmfdHIC5teraisQ3UQ%3D']},\n",
       " datetime.date(2017, 6, 29): {'green': ['https://sentinel2l2a01.blob.core.windows.net/sentinel2-l2/14/R/MP/2017/06/29/S2A_MSIL2A_20170629T171301_N0212_R112_T14RMP_20210210T023850.SAFE/GRANULE/L2A_T14RMP_A010548_20170629T172222/IMG_DATA/R10m/T14RMP_20170629T171301_B03_10m.tif?st=2023-10-19T20%3A07%3A51Z&se=2023-10-20T20%3A52%3A51Z&sp=rl&sv=2021-06-08&sr=c&skoid=c85c15d6-d1ae-42d4-af60-e2ca0f81359b&sktid=72f988bf-86f1-41af-91ab-2d7cd011db47&skt=2023-10-20T18%3A39%3A23Z&ske=2023-10-27T18%3A39%3A23Z&sks=b&skv=2021-06-08&sig=I14J535y06XeUfYNMJm7nq7mMRmfdHIC5teraisQ3UQ%3D'],\n",
       "  'nir': ['https://sentinel2l2a01.blob.core.windows.net/sentinel2-l2/14/R/MP/2017/06/29/S2A_MSIL2A_20170629T171301_N0212_R112_T14RMP_20210210T023850.SAFE/GRANULE/L2A_T14RMP_A010548_20170629T172222/IMG_DATA/R10m/T14RMP_20170629T171301_B08_10m.tif?st=2023-10-19T20%3A07%3A51Z&se=2023-10-20T20%3A52%3A51Z&sp=rl&sv=2021-06-08&sr=c&skoid=c85c15d6-d1ae-42d4-af60-e2ca0f81359b&sktid=72f988bf-86f1-41af-91ab-2d7cd011db47&skt=2023-10-20T18%3A39%3A23Z&ske=2023-10-27T18%3A39%3A23Z&sks=b&skv=2021-06-08&sig=I14J535y06XeUfYNMJm7nq7mMRmfdHIC5teraisQ3UQ%3D']},\n",
       " datetime.date(2017, 6, 9): {'green': ['https://sentinel2l2a01.blob.core.windows.net/sentinel2-l2/14/R/MP/2017/06/09/S2A_MSIL2A_20170609T171301_N0212_R112_T14RMP_20210209T214336.SAFE/GRANULE/L2A_T14RMP_A010262_20170609T172243/IMG_DATA/R10m/T14RMP_20170609T171301_B03_10m.tif?st=2023-10-19T20%3A07%3A51Z&se=2023-10-20T20%3A52%3A51Z&sp=rl&sv=2021-06-08&sr=c&skoid=c85c15d6-d1ae-42d4-af60-e2ca0f81359b&sktid=72f988bf-86f1-41af-91ab-2d7cd011db47&skt=2023-10-20T18%3A39%3A23Z&ske=2023-10-27T18%3A39%3A23Z&sks=b&skv=2021-06-08&sig=I14J535y06XeUfYNMJm7nq7mMRmfdHIC5teraisQ3UQ%3D'],\n",
       "  'nir': ['https://sentinel2l2a01.blob.core.windows.net/sentinel2-l2/14/R/MP/2017/06/09/S2A_MSIL2A_20170609T171301_N0212_R112_T14RMP_20210209T214336.SAFE/GRANULE/L2A_T14RMP_A010262_20170609T172243/IMG_DATA/R10m/T14RMP_20170609T171301_B08_10m.tif?st=2023-10-19T20%3A07%3A51Z&se=2023-10-20T20%3A52%3A51Z&sp=rl&sv=2021-06-08&sr=c&skoid=c85c15d6-d1ae-42d4-af60-e2ca0f81359b&sktid=72f988bf-86f1-41af-91ab-2d7cd011db47&skt=2023-10-20T18%3A39%3A23Z&ske=2023-10-27T18%3A39%3A23Z&sks=b&skv=2021-06-08&sig=I14J535y06XeUfYNMJm7nq7mMRmfdHIC5teraisQ3UQ%3D']},\n",
       " datetime.date(2017, 8, 23): {'green': ['https://sentinel2l2a01.blob.core.windows.net/sentinel2-l2/14/R/MP/2017/08/23/S2B_MSIL2A_20170823T170849_N0212_R112_T14RMP_20210201T081907.SAFE/GRANULE/L2A_T14RMP_A002426_20170823T172056/IMG_DATA/R10m/T14RMP_20170823T170849_B03_10m.tif?st=2023-10-19T20%3A07%3A51Z&se=2023-10-20T20%3A52%3A51Z&sp=rl&sv=2021-06-08&sr=c&skoid=c85c15d6-d1ae-42d4-af60-e2ca0f81359b&sktid=72f988bf-86f1-41af-91ab-2d7cd011db47&skt=2023-10-20T18%3A39%3A23Z&ske=2023-10-27T18%3A39%3A23Z&sks=b&skv=2021-06-08&sig=I14J535y06XeUfYNMJm7nq7mMRmfdHIC5teraisQ3UQ%3D'],\n",
       "  'nir': ['https://sentinel2l2a01.blob.core.windows.net/sentinel2-l2/14/R/MP/2017/08/23/S2B_MSIL2A_20170823T170849_N0212_R112_T14RMP_20210201T081907.SAFE/GRANULE/L2A_T14RMP_A002426_20170823T172056/IMG_DATA/R10m/T14RMP_20170823T170849_B08_10m.tif?st=2023-10-19T20%3A07%3A51Z&se=2023-10-20T20%3A52%3A51Z&sp=rl&sv=2021-06-08&sr=c&skoid=c85c15d6-d1ae-42d4-af60-e2ca0f81359b&sktid=72f988bf-86f1-41af-91ab-2d7cd011db47&skt=2023-10-20T18%3A39%3A23Z&ske=2023-10-27T18%3A39%3A23Z&sks=b&skv=2021-06-08&sig=I14J535y06XeUfYNMJm7nq7mMRmfdHIC5teraisQ3UQ%3D']},\n",
       " datetime.date(2017, 9, 12): {'green': ['https://sentinel2l2a01.blob.core.windows.net/sentinel2-l2/14/R/MP/2017/09/12/S2B_MSIL2A_20170912T170949_N0212_R112_T14RMP_20210202T013105.SAFE/GRANULE/L2A_T14RMP_A002712_20170912T172515/IMG_DATA/R10m/T14RMP_20170912T170949_B03_10m.tif?st=2023-10-19T20%3A07%3A51Z&se=2023-10-20T20%3A52%3A51Z&sp=rl&sv=2021-06-08&sr=c&skoid=c85c15d6-d1ae-42d4-af60-e2ca0f81359b&sktid=72f988bf-86f1-41af-91ab-2d7cd011db47&skt=2023-10-20T18%3A39%3A23Z&ske=2023-10-27T18%3A39%3A23Z&sks=b&skv=2021-06-08&sig=I14J535y06XeUfYNMJm7nq7mMRmfdHIC5teraisQ3UQ%3D'],\n",
       "  'nir': ['https://sentinel2l2a01.blob.core.windows.net/sentinel2-l2/14/R/MP/2017/09/12/S2B_MSIL2A_20170912T170949_N0212_R112_T14RMP_20210202T013105.SAFE/GRANULE/L2A_T14RMP_A002712_20170912T172515/IMG_DATA/R10m/T14RMP_20170912T170949_B08_10m.tif?st=2023-10-19T20%3A07%3A51Z&se=2023-10-20T20%3A52%3A51Z&sp=rl&sv=2021-06-08&sr=c&skoid=c85c15d6-d1ae-42d4-af60-e2ca0f81359b&sktid=72f988bf-86f1-41af-91ab-2d7cd011db47&skt=2023-10-20T18%3A39%3A23Z&ske=2023-10-27T18%3A39%3A23Z&sks=b&skv=2021-06-08&sig=I14J535y06XeUfYNMJm7nq7mMRmfdHIC5teraisQ3UQ%3D']},\n",
       " datetime.date(2017, 10, 22): {'green': ['https://sentinel2l2a01.blob.core.windows.net/sentinel2-l2/14/R/MP/2017/10/22/S2B_MSIL2A_20171022T171339_N0212_R112_T14RMP_20201015T013954.SAFE/GRANULE/L2A_T14RMP_A003284_20171022T171648/IMG_DATA/R10m/T14RMP_20171022T171339_B03_10m.tif?st=2023-10-19T20%3A07%3A51Z&se=2023-10-20T20%3A52%3A51Z&sp=rl&sv=2021-06-08&sr=c&skoid=c85c15d6-d1ae-42d4-af60-e2ca0f81359b&sktid=72f988bf-86f1-41af-91ab-2d7cd011db47&skt=2023-10-20T18%3A39%3A23Z&ske=2023-10-27T18%3A39%3A23Z&sks=b&skv=2021-06-08&sig=I14J535y06XeUfYNMJm7nq7mMRmfdHIC5teraisQ3UQ%3D'],\n",
       "  'nir': ['https://sentinel2l2a01.blob.core.windows.net/sentinel2-l2/14/R/MP/2017/10/22/S2B_MSIL2A_20171022T171339_N0212_R112_T14RMP_20201015T013954.SAFE/GRANULE/L2A_T14RMP_A003284_20171022T171648/IMG_DATA/R10m/T14RMP_20171022T171339_B08_10m.tif?st=2023-10-19T20%3A07%3A51Z&se=2023-10-20T20%3A52%3A51Z&sp=rl&sv=2021-06-08&sr=c&skoid=c85c15d6-d1ae-42d4-af60-e2ca0f81359b&sktid=72f988bf-86f1-41af-91ab-2d7cd011db47&skt=2023-10-20T18%3A39%3A23Z&ske=2023-10-27T18%3A39%3A23Z&sks=b&skv=2021-06-08&sig=I14J535y06XeUfYNMJm7nq7mMRmfdHIC5teraisQ3UQ%3D']},\n",
       " datetime.date(2017, 10, 7): {'green': ['https://sentinel2l2a01.blob.core.windows.net/sentinel2-l2/14/R/MP/2017/10/07/S2A_MSIL2A_20171007T171211_N0212_R112_T14RMP_20210202T151254.SAFE/GRANULE/L2A_T14RMP_A011978_20171007T172457/IMG_DATA/R10m/T14RMP_20171007T171211_B03_10m.tif?st=2023-10-19T20%3A07%3A51Z&se=2023-10-20T20%3A52%3A51Z&sp=rl&sv=2021-06-08&sr=c&skoid=c85c15d6-d1ae-42d4-af60-e2ca0f81359b&sktid=72f988bf-86f1-41af-91ab-2d7cd011db47&skt=2023-10-20T18%3A39%3A23Z&ske=2023-10-27T18%3A39%3A23Z&sks=b&skv=2021-06-08&sig=I14J535y06XeUfYNMJm7nq7mMRmfdHIC5teraisQ3UQ%3D'],\n",
       "  'nir': ['https://sentinel2l2a01.blob.core.windows.net/sentinel2-l2/14/R/MP/2017/10/07/S2A_MSIL2A_20171007T171211_N0212_R112_T14RMP_20210202T151254.SAFE/GRANULE/L2A_T14RMP_A011978_20171007T172457/IMG_DATA/R10m/T14RMP_20171007T171211_B08_10m.tif?st=2023-10-19T20%3A07%3A51Z&se=2023-10-20T20%3A52%3A51Z&sp=rl&sv=2021-06-08&sr=c&skoid=c85c15d6-d1ae-42d4-af60-e2ca0f81359b&sktid=72f988bf-86f1-41af-91ab-2d7cd011db47&skt=2023-10-20T18%3A39%3A23Z&ske=2023-10-27T18%3A39%3A23Z&sks=b&skv=2021-06-08&sig=I14J535y06XeUfYNMJm7nq7mMRmfdHIC5teraisQ3UQ%3D']},\n",
       " datetime.date(2018, 1, 15): {'green': ['https://sentinel2l2a01.blob.core.windows.net/sentinel2-l2/14/R/MP/2018/01/15/S2A_MSIL2A_20180115T171641_N0212_R112_T14RMP_20201014T055639.SAFE/GRANULE/L2A_T14RMP_A013408_20180115T171853/IMG_DATA/R10m/T14RMP_20180115T171641_B03_10m.tif?st=2023-10-19T20%3A07%3A51Z&se=2023-10-20T20%3A52%3A51Z&sp=rl&sv=2021-06-08&sr=c&skoid=c85c15d6-d1ae-42d4-af60-e2ca0f81359b&sktid=72f988bf-86f1-41af-91ab-2d7cd011db47&skt=2023-10-20T18%3A39%3A23Z&ske=2023-10-27T18%3A39%3A23Z&sks=b&skv=2021-06-08&sig=I14J535y06XeUfYNMJm7nq7mMRmfdHIC5teraisQ3UQ%3D'],\n",
       "  'nir': ['https://sentinel2l2a01.blob.core.windows.net/sentinel2-l2/14/R/MP/2018/01/15/S2A_MSIL2A_20180115T171641_N0212_R112_T14RMP_20201014T055639.SAFE/GRANULE/L2A_T14RMP_A013408_20180115T171853/IMG_DATA/R10m/T14RMP_20180115T171641_B08_10m.tif?st=2023-10-19T20%3A07%3A51Z&se=2023-10-20T20%3A52%3A51Z&sp=rl&sv=2021-06-08&sr=c&skoid=c85c15d6-d1ae-42d4-af60-e2ca0f81359b&sktid=72f988bf-86f1-41af-91ab-2d7cd011db47&skt=2023-10-20T18%3A39%3A23Z&ske=2023-10-27T18%3A39%3A23Z&sks=b&skv=2021-06-08&sig=I14J535y06XeUfYNMJm7nq7mMRmfdHIC5teraisQ3UQ%3D']},\n",
       " datetime.date(2018, 1, 10): {'green': ['https://sentinel2l2a01.blob.core.windows.net/sentinel2-l2/14/R/MP/2018/01/10/S2B_MSIL2A_20180110T171659_N0212_R112_T14RMP_20201014T044828.SAFE/GRANULE/L2A_T14RMP_A004428_20180110T171653/IMG_DATA/R10m/T14RMP_20180110T171659_B03_10m.tif?st=2023-10-19T20%3A07%3A51Z&se=2023-10-20T20%3A52%3A51Z&sp=rl&sv=2021-06-08&sr=c&skoid=c85c15d6-d1ae-42d4-af60-e2ca0f81359b&sktid=72f988bf-86f1-41af-91ab-2d7cd011db47&skt=2023-10-20T18%3A39%3A23Z&ske=2023-10-27T18%3A39%3A23Z&sks=b&skv=2021-06-08&sig=I14J535y06XeUfYNMJm7nq7mMRmfdHIC5teraisQ3UQ%3D'],\n",
       "  'nir': ['https://sentinel2l2a01.blob.core.windows.net/sentinel2-l2/14/R/MP/2018/01/10/S2B_MSIL2A_20180110T171659_N0212_R112_T14RMP_20201014T044828.SAFE/GRANULE/L2A_T14RMP_A004428_20180110T171653/IMG_DATA/R10m/T14RMP_20180110T171659_B08_10m.tif?st=2023-10-19T20%3A07%3A51Z&se=2023-10-20T20%3A52%3A51Z&sp=rl&sv=2021-06-08&sr=c&skoid=c85c15d6-d1ae-42d4-af60-e2ca0f81359b&sktid=72f988bf-86f1-41af-91ab-2d7cd011db47&skt=2023-10-20T18%3A39%3A23Z&ske=2023-10-27T18%3A39%3A23Z&sks=b&skv=2021-06-08&sig=I14J535y06XeUfYNMJm7nq7mMRmfdHIC5teraisQ3UQ%3D']},\n",
       " datetime.date(2018, 3, 31): {'green': ['https://sentinel2l2a01.blob.core.windows.net/sentinel2-l2/14/R/MP/2018/03/31/S2B_MSIL2A_20180331T170859_N0212_R112_T14RMP_20201013T172509.SAFE/GRANULE/L2A_T14RMP_A005572_20180331T171809/IMG_DATA/R10m/T14RMP_20180331T170859_B03_10m.tif?st=2023-10-19T20%3A07%3A51Z&se=2023-10-20T20%3A52%3A51Z&sp=rl&sv=2021-06-08&sr=c&skoid=c85c15d6-d1ae-42d4-af60-e2ca0f81359b&sktid=72f988bf-86f1-41af-91ab-2d7cd011db47&skt=2023-10-20T18%3A39%3A23Z&ske=2023-10-27T18%3A39%3A23Z&sks=b&skv=2021-06-08&sig=I14J535y06XeUfYNMJm7nq7mMRmfdHIC5teraisQ3UQ%3D'],\n",
       "  'nir': ['https://sentinel2l2a01.blob.core.windows.net/sentinel2-l2/14/R/MP/2018/03/31/S2B_MSIL2A_20180331T170859_N0212_R112_T14RMP_20201013T172509.SAFE/GRANULE/L2A_T14RMP_A005572_20180331T171809/IMG_DATA/R10m/T14RMP_20180331T170859_B08_10m.tif?st=2023-10-19T20%3A07%3A51Z&se=2023-10-20T20%3A52%3A51Z&sp=rl&sv=2021-06-08&sr=c&skoid=c85c15d6-d1ae-42d4-af60-e2ca0f81359b&sktid=72f988bf-86f1-41af-91ab-2d7cd011db47&skt=2023-10-20T18%3A39%3A23Z&ske=2023-10-27T18%3A39%3A23Z&sks=b&skv=2021-06-08&sig=I14J535y06XeUfYNMJm7nq7mMRmfdHIC5teraisQ3UQ%3D']},\n",
       " datetime.date(2018, 3, 16): {'green': ['https://sentinel2l2a01.blob.core.windows.net/sentinel2-l2/14/R/MP/2018/03/16/S2A_MSIL2A_20180316T171031_N0212_R112_T14RMP_20201013T094645.SAFE/GRANULE/L2A_T14RMP_A014266_20180316T171943/IMG_DATA/R10m/T14RMP_20180316T171031_B03_10m.tif?st=2023-10-19T20%3A07%3A51Z&se=2023-10-20T20%3A52%3A51Z&sp=rl&sv=2021-06-08&sr=c&skoid=c85c15d6-d1ae-42d4-af60-e2ca0f81359b&sktid=72f988bf-86f1-41af-91ab-2d7cd011db47&skt=2023-10-20T18%3A39%3A23Z&ske=2023-10-27T18%3A39%3A23Z&sks=b&skv=2021-06-08&sig=I14J535y06XeUfYNMJm7nq7mMRmfdHIC5teraisQ3UQ%3D'],\n",
       "  'nir': ['https://sentinel2l2a01.blob.core.windows.net/sentinel2-l2/14/R/MP/2018/03/16/S2A_MSIL2A_20180316T171031_N0212_R112_T14RMP_20201013T094645.SAFE/GRANULE/L2A_T14RMP_A014266_20180316T171943/IMG_DATA/R10m/T14RMP_20180316T171031_B08_10m.tif?st=2023-10-19T20%3A07%3A51Z&se=2023-10-20T20%3A52%3A51Z&sp=rl&sv=2021-06-08&sr=c&skoid=c85c15d6-d1ae-42d4-af60-e2ca0f81359b&sktid=72f988bf-86f1-41af-91ab-2d7cd011db47&skt=2023-10-20T18%3A39%3A23Z&ske=2023-10-27T18%3A39%3A23Z&sks=b&skv=2021-06-08&sig=I14J535y06XeUfYNMJm7nq7mMRmfdHIC5teraisQ3UQ%3D']},\n",
       " datetime.date(2018, 3, 1): {'green': ['https://sentinel2l2a01.blob.core.windows.net/sentinel2-l2/14/R/MP/2018/03/01/S2B_MSIL2A_20180301T171249_N0212_R112_T14RMP_20201013T051847.SAFE/GRANULE/L2A_T14RMP_A005143_20180301T172416/IMG_DATA/R10m/T14RMP_20180301T171249_B03_10m.tif?st=2023-10-19T20%3A07%3A51Z&se=2023-10-20T20%3A52%3A51Z&sp=rl&sv=2021-06-08&sr=c&skoid=c85c15d6-d1ae-42d4-af60-e2ca0f81359b&sktid=72f988bf-86f1-41af-91ab-2d7cd011db47&skt=2023-10-20T18%3A39%3A23Z&ske=2023-10-27T18%3A39%3A23Z&sks=b&skv=2021-06-08&sig=I14J535y06XeUfYNMJm7nq7mMRmfdHIC5teraisQ3UQ%3D'],\n",
       "  'nir': ['https://sentinel2l2a01.blob.core.windows.net/sentinel2-l2/14/R/MP/2018/03/01/S2B_MSIL2A_20180301T171249_N0212_R112_T14RMP_20201013T051847.SAFE/GRANULE/L2A_T14RMP_A005143_20180301T172416/IMG_DATA/R10m/T14RMP_20180301T171249_B08_10m.tif?st=2023-10-19T20%3A07%3A51Z&se=2023-10-20T20%3A52%3A51Z&sp=rl&sv=2021-06-08&sr=c&skoid=c85c15d6-d1ae-42d4-af60-e2ca0f81359b&sktid=72f988bf-86f1-41af-91ab-2d7cd011db47&skt=2023-10-20T18%3A39%3A23Z&ske=2023-10-27T18%3A39%3A23Z&sks=b&skv=2021-06-08&sig=I14J535y06XeUfYNMJm7nq7mMRmfdHIC5teraisQ3UQ%3D']},\n",
       " datetime.date(2018, 4, 15): {'green': ['https://sentinel2l2a01.blob.core.windows.net/sentinel2-l2/14/R/MP/2018/04/15/S2A_MSIL2A_20180415T170851_N0212_R112_T14RMP_20201012T223607.SAFE/GRANULE/L2A_T14RMP_A014695_20180415T172455/IMG_DATA/R10m/T14RMP_20180415T170851_B03_10m.tif?st=2023-10-19T20%3A07%3A51Z&se=2023-10-20T20%3A52%3A51Z&sp=rl&sv=2021-06-08&sr=c&skoid=c85c15d6-d1ae-42d4-af60-e2ca0f81359b&sktid=72f988bf-86f1-41af-91ab-2d7cd011db47&skt=2023-10-20T18%3A39%3A23Z&ske=2023-10-27T18%3A39%3A23Z&sks=b&skv=2021-06-08&sig=I14J535y06XeUfYNMJm7nq7mMRmfdHIC5teraisQ3UQ%3D'],\n",
       "  'nir': ['https://sentinel2l2a01.blob.core.windows.net/sentinel2-l2/14/R/MP/2018/04/15/S2A_MSIL2A_20180415T170851_N0212_R112_T14RMP_20201012T223607.SAFE/GRANULE/L2A_T14RMP_A014695_20180415T172455/IMG_DATA/R10m/T14RMP_20180415T170851_B08_10m.tif?st=2023-10-19T20%3A07%3A51Z&se=2023-10-20T20%3A52%3A51Z&sp=rl&sv=2021-06-08&sr=c&skoid=c85c15d6-d1ae-42d4-af60-e2ca0f81359b&sktid=72f988bf-86f1-41af-91ab-2d7cd011db47&skt=2023-10-20T18%3A39%3A23Z&ske=2023-10-27T18%3A39%3A23Z&sks=b&skv=2021-06-08&sig=I14J535y06XeUfYNMJm7nq7mMRmfdHIC5teraisQ3UQ%3D']},\n",
       " datetime.date(2018, 6, 29): {'green': ['https://sentinel2l2a01.blob.core.windows.net/sentinel2-l2/14/R/MP/2018/06/29/S2B_MSIL2A_20180629T170849_N0212_R112_T14RMP_20201012T035907.SAFE/GRANULE/L2A_T14RMP_A006859_20180629T172500/IMG_DATA/R10m/T14RMP_20180629T170849_B03_10m.tif?st=2023-10-19T20%3A07%3A51Z&se=2023-10-20T20%3A52%3A51Z&sp=rl&sv=2021-06-08&sr=c&skoid=c85c15d6-d1ae-42d4-af60-e2ca0f81359b&sktid=72f988bf-86f1-41af-91ab-2d7cd011db47&skt=2023-10-20T18%3A39%3A23Z&ske=2023-10-27T18%3A39%3A23Z&sks=b&skv=2021-06-08&sig=I14J535y06XeUfYNMJm7nq7mMRmfdHIC5teraisQ3UQ%3D'],\n",
       "  'nir': ['https://sentinel2l2a01.blob.core.windows.net/sentinel2-l2/14/R/MP/2018/06/29/S2B_MSIL2A_20180629T170849_N0212_R112_T14RMP_20201012T035907.SAFE/GRANULE/L2A_T14RMP_A006859_20180629T172500/IMG_DATA/R10m/T14RMP_20180629T170849_B08_10m.tif?st=2023-10-19T20%3A07%3A51Z&se=2023-10-20T20%3A52%3A51Z&sp=rl&sv=2021-06-08&sr=c&skoid=c85c15d6-d1ae-42d4-af60-e2ca0f81359b&sktid=72f988bf-86f1-41af-91ab-2d7cd011db47&skt=2023-10-20T18%3A39%3A23Z&ske=2023-10-27T18%3A39%3A23Z&sks=b&skv=2021-06-08&sig=I14J535y06XeUfYNMJm7nq7mMRmfdHIC5teraisQ3UQ%3D']},\n",
       " datetime.date(2018, 6, 24): {'green': ['https://sentinel2l2a01.blob.core.windows.net/sentinel2-l2/14/R/MP/2018/06/24/S2A_MSIL2A_20180624T170851_N0212_R112_T14RMP_20201012T015118.SAFE/GRANULE/L2A_T14RMP_A015696_20180624T171600/IMG_DATA/R10m/T14RMP_20180624T170851_B03_10m.tif?st=2023-10-19T20%3A07%3A51Z&se=2023-10-20T20%3A52%3A51Z&sp=rl&sv=2021-06-08&sr=c&skoid=c85c15d6-d1ae-42d4-af60-e2ca0f81359b&sktid=72f988bf-86f1-41af-91ab-2d7cd011db47&skt=2023-10-20T18%3A39%3A23Z&ske=2023-10-27T18%3A39%3A23Z&sks=b&skv=2021-06-08&sig=I14J535y06XeUfYNMJm7nq7mMRmfdHIC5teraisQ3UQ%3D'],\n",
       "  'nir': ['https://sentinel2l2a01.blob.core.windows.net/sentinel2-l2/14/R/MP/2018/06/24/S2A_MSIL2A_20180624T170851_N0212_R112_T14RMP_20201012T015118.SAFE/GRANULE/L2A_T14RMP_A015696_20180624T171600/IMG_DATA/R10m/T14RMP_20180624T170851_B08_10m.tif?st=2023-10-19T20%3A07%3A51Z&se=2023-10-20T20%3A52%3A51Z&sp=rl&sv=2021-06-08&sr=c&skoid=c85c15d6-d1ae-42d4-af60-e2ca0f81359b&sktid=72f988bf-86f1-41af-91ab-2d7cd011db47&skt=2023-10-20T18%3A39%3A23Z&ske=2023-10-27T18%3A39%3A23Z&sks=b&skv=2021-06-08&sig=I14J535y06XeUfYNMJm7nq7mMRmfdHIC5teraisQ3UQ%3D']},\n",
       " datetime.date(2018, 7, 29): {'green': ['https://sentinel2l2a01.blob.core.windows.net/sentinel2-l2/14/R/MP/2018/07/29/S2B_MSIL2A_20180729T170849_N0212_R112_T14RMP_20201011T213105.SAFE/GRANULE/L2A_T14RMP_A007288_20180729T172230/IMG_DATA/R10m/T14RMP_20180729T170849_B03_10m.tif?st=2023-10-19T20%3A07%3A51Z&se=2023-10-20T20%3A52%3A51Z&sp=rl&sv=2021-06-08&sr=c&skoid=c85c15d6-d1ae-42d4-af60-e2ca0f81359b&sktid=72f988bf-86f1-41af-91ab-2d7cd011db47&skt=2023-10-20T18%3A39%3A23Z&ske=2023-10-27T18%3A39%3A23Z&sks=b&skv=2021-06-08&sig=I14J535y06XeUfYNMJm7nq7mMRmfdHIC5teraisQ3UQ%3D'],\n",
       "  'nir': ['https://sentinel2l2a01.blob.core.windows.net/sentinel2-l2/14/R/MP/2018/07/29/S2B_MSIL2A_20180729T170849_N0212_R112_T14RMP_20201011T213105.SAFE/GRANULE/L2A_T14RMP_A007288_20180729T172230/IMG_DATA/R10m/T14RMP_20180729T170849_B08_10m.tif?st=2023-10-19T20%3A07%3A51Z&se=2023-10-20T20%3A52%3A51Z&sp=rl&sv=2021-06-08&sr=c&skoid=c85c15d6-d1ae-42d4-af60-e2ca0f81359b&sktid=72f988bf-86f1-41af-91ab-2d7cd011db47&skt=2023-10-20T18%3A39%3A23Z&ske=2023-10-27T18%3A39%3A23Z&sks=b&skv=2021-06-08&sig=I14J535y06XeUfYNMJm7nq7mMRmfdHIC5teraisQ3UQ%3D']},\n",
       " datetime.date(2018, 7, 24): {'green': ['https://sentinel2l2a01.blob.core.windows.net/sentinel2-l2/14/R/MP/2018/07/24/S2A_MSIL2A_20180724T170851_N0212_R112_T14RMP_20201011T192815.SAFE/GRANULE/L2A_T14RMP_A016125_20180724T172513/IMG_DATA/R10m/T14RMP_20180724T170851_B03_10m.tif?st=2023-10-19T20%3A07%3A51Z&se=2023-10-20T20%3A52%3A51Z&sp=rl&sv=2021-06-08&sr=c&skoid=c85c15d6-d1ae-42d4-af60-e2ca0f81359b&sktid=72f988bf-86f1-41af-91ab-2d7cd011db47&skt=2023-10-20T18%3A39%3A23Z&ske=2023-10-27T18%3A39%3A23Z&sks=b&skv=2021-06-08&sig=I14J535y06XeUfYNMJm7nq7mMRmfdHIC5teraisQ3UQ%3D'],\n",
       "  'nir': ['https://sentinel2l2a01.blob.core.windows.net/sentinel2-l2/14/R/MP/2018/07/24/S2A_MSIL2A_20180724T170851_N0212_R112_T14RMP_20201011T192815.SAFE/GRANULE/L2A_T14RMP_A016125_20180724T172513/IMG_DATA/R10m/T14RMP_20180724T170851_B08_10m.tif?st=2023-10-19T20%3A07%3A51Z&se=2023-10-20T20%3A52%3A51Z&sp=rl&sv=2021-06-08&sr=c&skoid=c85c15d6-d1ae-42d4-af60-e2ca0f81359b&sktid=72f988bf-86f1-41af-91ab-2d7cd011db47&skt=2023-10-20T18%3A39%3A23Z&ske=2023-10-27T18%3A39%3A23Z&sks=b&skv=2021-06-08&sig=I14J535y06XeUfYNMJm7nq7mMRmfdHIC5teraisQ3UQ%3D']},\n",
       " datetime.date(2018, 7, 19): {'green': ['https://sentinel2l2a01.blob.core.windows.net/sentinel2-l2/14/R/MP/2018/07/19/S2B_MSIL2A_20180719T170849_N0212_R112_T14RMP_20201011T174434.SAFE/GRANULE/L2A_T14RMP_A007145_20180719T172037/IMG_DATA/R10m/T14RMP_20180719T170849_B03_10m.tif?st=2023-10-19T20%3A07%3A51Z&se=2023-10-20T20%3A52%3A51Z&sp=rl&sv=2021-06-08&sr=c&skoid=c85c15d6-d1ae-42d4-af60-e2ca0f81359b&sktid=72f988bf-86f1-41af-91ab-2d7cd011db47&skt=2023-10-20T18%3A39%3A23Z&ske=2023-10-27T18%3A39%3A23Z&sks=b&skv=2021-06-08&sig=I14J535y06XeUfYNMJm7nq7mMRmfdHIC5teraisQ3UQ%3D'],\n",
       "  'nir': ['https://sentinel2l2a01.blob.core.windows.net/sentinel2-l2/14/R/MP/2018/07/19/S2B_MSIL2A_20180719T170849_N0212_R112_T14RMP_20201011T174434.SAFE/GRANULE/L2A_T14RMP_A007145_20180719T172037/IMG_DATA/R10m/T14RMP_20180719T170849_B08_10m.tif?st=2023-10-19T20%3A07%3A51Z&se=2023-10-20T20%3A52%3A51Z&sp=rl&sv=2021-06-08&sr=c&skoid=c85c15d6-d1ae-42d4-af60-e2ca0f81359b&sktid=72f988bf-86f1-41af-91ab-2d7cd011db47&skt=2023-10-20T18%3A39%3A23Z&ske=2023-10-27T18%3A39%3A23Z&sks=b&skv=2021-06-08&sig=I14J535y06XeUfYNMJm7nq7mMRmfdHIC5teraisQ3UQ%3D']},\n",
       " datetime.date(2018, 7, 14): {'green': ['https://sentinel2l2a01.blob.core.windows.net/sentinel2-l2/14/R/MP/2018/07/14/S2A_MSIL2A_20180714T170851_N0212_R112_T14RMP_20201011T154136.SAFE/GRANULE/L2A_T14RMP_A015982_20180714T172256/IMG_DATA/R10m/T14RMP_20180714T170851_B03_10m.tif?st=2023-10-19T20%3A07%3A51Z&se=2023-10-20T20%3A52%3A51Z&sp=rl&sv=2021-06-08&sr=c&skoid=c85c15d6-d1ae-42d4-af60-e2ca0f81359b&sktid=72f988bf-86f1-41af-91ab-2d7cd011db47&skt=2023-10-20T18%3A39%3A23Z&ske=2023-10-27T18%3A39%3A23Z&sks=b&skv=2021-06-08&sig=I14J535y06XeUfYNMJm7nq7mMRmfdHIC5teraisQ3UQ%3D'],\n",
       "  'nir': ['https://sentinel2l2a01.blob.core.windows.net/sentinel2-l2/14/R/MP/2018/07/14/S2A_MSIL2A_20180714T170851_N0212_R112_T14RMP_20201011T154136.SAFE/GRANULE/L2A_T14RMP_A015982_20180714T172256/IMG_DATA/R10m/T14RMP_20180714T170851_B08_10m.tif?st=2023-10-19T20%3A07%3A51Z&se=2023-10-20T20%3A52%3A51Z&sp=rl&sv=2021-06-08&sr=c&skoid=c85c15d6-d1ae-42d4-af60-e2ca0f81359b&sktid=72f988bf-86f1-41af-91ab-2d7cd011db47&skt=2023-10-20T18%3A39%3A23Z&ske=2023-10-27T18%3A39%3A23Z&sks=b&skv=2021-06-08&sig=I14J535y06XeUfYNMJm7nq7mMRmfdHIC5teraisQ3UQ%3D']},\n",
       " datetime.date(2018, 7, 4): {'green': ['https://sentinel2l2a01.blob.core.windows.net/sentinel2-l2/14/R/MP/2018/07/04/S2A_MSIL2A_20180704T171011_N0212_R112_T14RMP_20201011T115144.SAFE/GRANULE/L2A_T14RMP_A015839_20180704T172139/IMG_DATA/R10m/T14RMP_20180704T171011_B03_10m.tif?st=2023-10-19T20%3A07%3A51Z&se=2023-10-20T20%3A52%3A51Z&sp=rl&sv=2021-06-08&sr=c&skoid=c85c15d6-d1ae-42d4-af60-e2ca0f81359b&sktid=72f988bf-86f1-41af-91ab-2d7cd011db47&skt=2023-10-20T18%3A39%3A23Z&ske=2023-10-27T18%3A39%3A23Z&sks=b&skv=2021-06-08&sig=I14J535y06XeUfYNMJm7nq7mMRmfdHIC5teraisQ3UQ%3D'],\n",
       "  'nir': ['https://sentinel2l2a01.blob.core.windows.net/sentinel2-l2/14/R/MP/2018/07/04/S2A_MSIL2A_20180704T171011_N0212_R112_T14RMP_20201011T115144.SAFE/GRANULE/L2A_T14RMP_A015839_20180704T172139/IMG_DATA/R10m/T14RMP_20180704T171011_B08_10m.tif?st=2023-10-19T20%3A07%3A51Z&se=2023-10-20T20%3A52%3A51Z&sp=rl&sv=2021-06-08&sr=c&skoid=c85c15d6-d1ae-42d4-af60-e2ca0f81359b&sktid=72f988bf-86f1-41af-91ab-2d7cd011db47&skt=2023-10-20T18%3A39%3A23Z&ske=2023-10-27T18%3A39%3A23Z&sks=b&skv=2021-06-08&sig=I14J535y06XeUfYNMJm7nq7mMRmfdHIC5teraisQ3UQ%3D']},\n",
       " datetime.date(2018, 8, 28): {'green': ['https://sentinel2l2a01.blob.core.windows.net/sentinel2-l2/14/R/MP/2018/08/28/S2B_MSIL2A_20180828T171039_N0212_R112_T14RMP_20201103T093812.SAFE/GRANULE/L2A_T14RMP_A007717_20180828T172348/IMG_DATA/R10m/T14RMP_20180828T171039_B03_10m.tif?st=2023-10-19T20%3A07%3A51Z&se=2023-10-20T20%3A52%3A51Z&sp=rl&sv=2021-06-08&sr=c&skoid=c85c15d6-d1ae-42d4-af60-e2ca0f81359b&sktid=72f988bf-86f1-41af-91ab-2d7cd011db47&skt=2023-10-20T18%3A39%3A23Z&ske=2023-10-27T18%3A39%3A23Z&sks=b&skv=2021-06-08&sig=I14J535y06XeUfYNMJm7nq7mMRmfdHIC5teraisQ3UQ%3D'],\n",
       "  'nir': ['https://sentinel2l2a01.blob.core.windows.net/sentinel2-l2/14/R/MP/2018/08/28/S2B_MSIL2A_20180828T171039_N0212_R112_T14RMP_20201103T093812.SAFE/GRANULE/L2A_T14RMP_A007717_20180828T172348/IMG_DATA/R10m/T14RMP_20180828T171039_B08_10m.tif?st=2023-10-19T20%3A07%3A51Z&se=2023-10-20T20%3A52%3A51Z&sp=rl&sv=2021-06-08&sr=c&skoid=c85c15d6-d1ae-42d4-af60-e2ca0f81359b&sktid=72f988bf-86f1-41af-91ab-2d7cd011db47&skt=2023-10-20T18%3A39%3A23Z&ske=2023-10-27T18%3A39%3A23Z&sks=b&skv=2021-06-08&sig=I14J535y06XeUfYNMJm7nq7mMRmfdHIC5teraisQ3UQ%3D']},\n",
       " datetime.date(2018, 8, 23): {'green': ['https://sentinel2l2a01.blob.core.windows.net/sentinel2-l2/14/R/MP/2018/08/23/S2A_MSIL2A_20180823T170851_N0212_R112_T14RMP_20201011T055140.SAFE/GRANULE/L2A_T14RMP_A016554_20180823T172457/IMG_DATA/R10m/T14RMP_20180823T170851_B03_10m.tif?st=2023-10-19T20%3A07%3A51Z&se=2023-10-20T20%3A52%3A51Z&sp=rl&sv=2021-06-08&sr=c&skoid=c85c15d6-d1ae-42d4-af60-e2ca0f81359b&sktid=72f988bf-86f1-41af-91ab-2d7cd011db47&skt=2023-10-20T18%3A39%3A23Z&ske=2023-10-27T18%3A39%3A23Z&sks=b&skv=2021-06-08&sig=I14J535y06XeUfYNMJm7nq7mMRmfdHIC5teraisQ3UQ%3D'],\n",
       "  'nir': ['https://sentinel2l2a01.blob.core.windows.net/sentinel2-l2/14/R/MP/2018/08/23/S2A_MSIL2A_20180823T170851_N0212_R112_T14RMP_20201011T055140.SAFE/GRANULE/L2A_T14RMP_A016554_20180823T172457/IMG_DATA/R10m/T14RMP_20180823T170851_B08_10m.tif?st=2023-10-19T20%3A07%3A51Z&se=2023-10-20T20%3A52%3A51Z&sp=rl&sv=2021-06-08&sr=c&skoid=c85c15d6-d1ae-42d4-af60-e2ca0f81359b&sktid=72f988bf-86f1-41af-91ab-2d7cd011db47&skt=2023-10-20T18%3A39%3A23Z&ske=2023-10-27T18%3A39%3A23Z&sks=b&skv=2021-06-08&sig=I14J535y06XeUfYNMJm7nq7mMRmfdHIC5teraisQ3UQ%3D']},\n",
       " datetime.date(2018, 8, 18): {'green': ['https://sentinel2l2a01.blob.core.windows.net/sentinel2-l2/14/R/MP/2018/08/18/S2B_MSIL2A_20180818T170839_N0212_R112_T14RMP_20201011T034404.SAFE/GRANULE/L2A_T14RMP_A007574_20180818T172003/IMG_DATA/R10m/T14RMP_20180818T170839_B03_10m.tif?st=2023-10-19T20%3A07%3A51Z&se=2023-10-20T20%3A52%3A51Z&sp=rl&sv=2021-06-08&sr=c&skoid=c85c15d6-d1ae-42d4-af60-e2ca0f81359b&sktid=72f988bf-86f1-41af-91ab-2d7cd011db47&skt=2023-10-20T18%3A39%3A23Z&ske=2023-10-27T18%3A39%3A23Z&sks=b&skv=2021-06-08&sig=I14J535y06XeUfYNMJm7nq7mMRmfdHIC5teraisQ3UQ%3D'],\n",
       "  'nir': ['https://sentinel2l2a01.blob.core.windows.net/sentinel2-l2/14/R/MP/2018/08/18/S2B_MSIL2A_20180818T170839_N0212_R112_T14RMP_20201011T034404.SAFE/GRANULE/L2A_T14RMP_A007574_20180818T172003/IMG_DATA/R10m/T14RMP_20180818T170839_B08_10m.tif?st=2023-10-19T20%3A07%3A51Z&se=2023-10-20T20%3A52%3A51Z&sp=rl&sv=2021-06-08&sr=c&skoid=c85c15d6-d1ae-42d4-af60-e2ca0f81359b&sktid=72f988bf-86f1-41af-91ab-2d7cd011db47&skt=2023-10-20T18%3A39%3A23Z&ske=2023-10-27T18%3A39%3A23Z&sks=b&skv=2021-06-08&sig=I14J535y06XeUfYNMJm7nq7mMRmfdHIC5teraisQ3UQ%3D']},\n",
       " datetime.date(2018, 8, 8): {'green': ['https://sentinel2l2a01.blob.core.windows.net/sentinel2-l2/14/R/MP/2018/08/08/S2B_MSIL2A_20180808T170849_N0212_R112_T14RMP_20201010T230522.SAFE/GRANULE/L2A_T14RMP_A007431_20180808T172327/IMG_DATA/R10m/T14RMP_20180808T170849_B03_10m.tif?st=2023-10-19T20%3A07%3A51Z&se=2023-10-20T20%3A52%3A51Z&sp=rl&sv=2021-06-08&sr=c&skoid=c85c15d6-d1ae-42d4-af60-e2ca0f81359b&sktid=72f988bf-86f1-41af-91ab-2d7cd011db47&skt=2023-10-20T18%3A39%3A23Z&ske=2023-10-27T18%3A39%3A23Z&sks=b&skv=2021-06-08&sig=I14J535y06XeUfYNMJm7nq7mMRmfdHIC5teraisQ3UQ%3D'],\n",
       "  'nir': ['https://sentinel2l2a01.blob.core.windows.net/sentinel2-l2/14/R/MP/2018/08/08/S2B_MSIL2A_20180808T170849_N0212_R112_T14RMP_20201010T230522.SAFE/GRANULE/L2A_T14RMP_A007431_20180808T172327/IMG_DATA/R10m/T14RMP_20180808T170849_B08_10m.tif?st=2023-10-19T20%3A07%3A51Z&se=2023-10-20T20%3A52%3A51Z&sp=rl&sv=2021-06-08&sr=c&skoid=c85c15d6-d1ae-42d4-af60-e2ca0f81359b&sktid=72f988bf-86f1-41af-91ab-2d7cd011db47&skt=2023-10-20T18%3A39%3A23Z&ske=2023-10-27T18%3A39%3A23Z&sks=b&skv=2021-06-08&sig=I14J535y06XeUfYNMJm7nq7mMRmfdHIC5teraisQ3UQ%3D']},\n",
       " datetime.date(2018, 8, 3): {'green': ['https://sentinel2l2a01.blob.core.windows.net/sentinel2-l2/14/R/MP/2018/08/03/S2A_MSIL2A_20180803T170851_N0212_R112_T14RMP_20201010T203352.SAFE/GRANULE/L2A_T14RMP_A016268_20180803T172425/IMG_DATA/R10m/T14RMP_20180803T170851_B03_10m.tif?st=2023-10-19T20%3A07%3A51Z&se=2023-10-20T20%3A52%3A51Z&sp=rl&sv=2021-06-08&sr=c&skoid=c85c15d6-d1ae-42d4-af60-e2ca0f81359b&sktid=72f988bf-86f1-41af-91ab-2d7cd011db47&skt=2023-10-20T18%3A39%3A23Z&ske=2023-10-27T18%3A39%3A23Z&sks=b&skv=2021-06-08&sig=I14J535y06XeUfYNMJm7nq7mMRmfdHIC5teraisQ3UQ%3D'],\n",
       "  'nir': ['https://sentinel2l2a01.blob.core.windows.net/sentinel2-l2/14/R/MP/2018/08/03/S2A_MSIL2A_20180803T170851_N0212_R112_T14RMP_20201010T203352.SAFE/GRANULE/L2A_T14RMP_A016268_20180803T172425/IMG_DATA/R10m/T14RMP_20180803T170851_B08_10m.tif?st=2023-10-19T20%3A07%3A51Z&se=2023-10-20T20%3A52%3A51Z&sp=rl&sv=2021-06-08&sr=c&skoid=c85c15d6-d1ae-42d4-af60-e2ca0f81359b&sktid=72f988bf-86f1-41af-91ab-2d7cd011db47&skt=2023-10-20T18%3A39%3A23Z&ske=2023-10-27T18%3A39%3A23Z&sks=b&skv=2021-06-08&sig=I14J535y06XeUfYNMJm7nq7mMRmfdHIC5teraisQ3UQ%3D']},\n",
       " datetime.date(2018, 9, 2): {'green': ['https://sentinel2l2a01.blob.core.windows.net/sentinel2-l2/14/R/MP/2018/09/02/S2A_MSIL2A_20180902T170851_N0212_R112_T14RMP_20201011T073543.SAFE/GRANULE/L2A_T14RMP_A016697_20180902T171917/IMG_DATA/R10m/T14RMP_20180902T170851_B03_10m.tif?st=2023-10-19T20%3A07%3A51Z&se=2023-10-20T20%3A52%3A51Z&sp=rl&sv=2021-06-08&sr=c&skoid=c85c15d6-d1ae-42d4-af60-e2ca0f81359b&sktid=72f988bf-86f1-41af-91ab-2d7cd011db47&skt=2023-10-20T18%3A39%3A23Z&ske=2023-10-27T18%3A39%3A23Z&sks=b&skv=2021-06-08&sig=I14J535y06XeUfYNMJm7nq7mMRmfdHIC5teraisQ3UQ%3D'],\n",
       "  'nir': ['https://sentinel2l2a01.blob.core.windows.net/sentinel2-l2/14/R/MP/2018/09/02/S2A_MSIL2A_20180902T170851_N0212_R112_T14RMP_20201011T073543.SAFE/GRANULE/L2A_T14RMP_A016697_20180902T171917/IMG_DATA/R10m/T14RMP_20180902T170851_B08_10m.tif?st=2023-10-19T20%3A07%3A51Z&se=2023-10-20T20%3A52%3A51Z&sp=rl&sv=2021-06-08&sr=c&skoid=c85c15d6-d1ae-42d4-af60-e2ca0f81359b&sktid=72f988bf-86f1-41af-91ab-2d7cd011db47&skt=2023-10-20T18%3A39%3A23Z&ske=2023-10-27T18%3A39%3A23Z&sks=b&skv=2021-06-08&sig=I14J535y06XeUfYNMJm7nq7mMRmfdHIC5teraisQ3UQ%3D']},\n",
       " datetime.date(2018, 10, 27): {'green': ['https://sentinel2l2a01.blob.core.windows.net/sentinel2-l2/14/R/MP/2018/10/27/S2B_MSIL2A_20181027T171419_N0212_R112_T14RMP_20201009T155958.SAFE/GRANULE/L2A_T14RMP_A008575_20181027T172127/IMG_DATA/R10m/T14RMP_20181027T171419_B03_10m.tif?st=2023-10-19T20%3A07%3A51Z&se=2023-10-20T20%3A52%3A51Z&sp=rl&sv=2021-06-08&sr=c&skoid=c85c15d6-d1ae-42d4-af60-e2ca0f81359b&sktid=72f988bf-86f1-41af-91ab-2d7cd011db47&skt=2023-10-20T18%3A39%3A23Z&ske=2023-10-27T18%3A39%3A23Z&sks=b&skv=2021-06-08&sig=I14J535y06XeUfYNMJm7nq7mMRmfdHIC5teraisQ3UQ%3D'],\n",
       "  'nir': ['https://sentinel2l2a01.blob.core.windows.net/sentinel2-l2/14/R/MP/2018/10/27/S2B_MSIL2A_20181027T171419_N0212_R112_T14RMP_20201009T155958.SAFE/GRANULE/L2A_T14RMP_A008575_20181027T172127/IMG_DATA/R10m/T14RMP_20181027T171419_B08_10m.tif?st=2023-10-19T20%3A07%3A51Z&se=2023-10-20T20%3A52%3A51Z&sp=rl&sv=2021-06-08&sr=c&skoid=c85c15d6-d1ae-42d4-af60-e2ca0f81359b&sktid=72f988bf-86f1-41af-91ab-2d7cd011db47&skt=2023-10-20T18%3A39%3A23Z&ske=2023-10-27T18%3A39%3A23Z&sks=b&skv=2021-06-08&sig=I14J535y06XeUfYNMJm7nq7mMRmfdHIC5teraisQ3UQ%3D']},\n",
       " datetime.date(2018, 11, 26): {'green': ['https://sentinel2l2a01.blob.core.windows.net/sentinel2-l2/14/R/MP/2018/11/26/S2B_MSIL2A_20181126T171639_N0212_R112_T14RMP_20201008T220030.SAFE/GRANULE/L2A_T14RMP_A009004_20181126T172440/IMG_DATA/R10m/T14RMP_20181126T171639_B03_10m.tif?st=2023-10-19T20%3A07%3A51Z&se=2023-10-20T20%3A52%3A51Z&sp=rl&sv=2021-06-08&sr=c&skoid=c85c15d6-d1ae-42d4-af60-e2ca0f81359b&sktid=72f988bf-86f1-41af-91ab-2d7cd011db47&skt=2023-10-20T18%3A39%3A23Z&ske=2023-10-27T18%3A39%3A23Z&sks=b&skv=2021-06-08&sig=I14J535y06XeUfYNMJm7nq7mMRmfdHIC5teraisQ3UQ%3D'],\n",
       "  'nir': ['https://sentinel2l2a01.blob.core.windows.net/sentinel2-l2/14/R/MP/2018/11/26/S2B_MSIL2A_20181126T171639_N0212_R112_T14RMP_20201008T220030.SAFE/GRANULE/L2A_T14RMP_A009004_20181126T172440/IMG_DATA/R10m/T14RMP_20181126T171639_B08_10m.tif?st=2023-10-19T20%3A07%3A51Z&se=2023-10-20T20%3A52%3A51Z&sp=rl&sv=2021-06-08&sr=c&skoid=c85c15d6-d1ae-42d4-af60-e2ca0f81359b&sktid=72f988bf-86f1-41af-91ab-2d7cd011db47&skt=2023-10-20T18%3A39%3A23Z&ske=2023-10-27T18%3A39%3A23Z&sks=b&skv=2021-06-08&sig=I14J535y06XeUfYNMJm7nq7mMRmfdHIC5teraisQ3UQ%3D']},\n",
       " datetime.date(2018, 11, 16): {'green': ['https://sentinel2l2a01.blob.core.windows.net/sentinel2-l2/14/R/MP/2018/11/16/S2B_MSIL2A_20181116T171559_N0212_R112_T14RMP_20201008T191237.SAFE/GRANULE/L2A_T14RMP_A008861_20181116T172623/IMG_DATA/R10m/T14RMP_20181116T171559_B03_10m.tif?st=2023-10-19T20%3A07%3A51Z&se=2023-10-20T20%3A52%3A51Z&sp=rl&sv=2021-06-08&sr=c&skoid=c85c15d6-d1ae-42d4-af60-e2ca0f81359b&sktid=72f988bf-86f1-41af-91ab-2d7cd011db47&skt=2023-10-20T18%3A39%3A23Z&ske=2023-10-27T18%3A39%3A23Z&sks=b&skv=2021-06-08&sig=I14J535y06XeUfYNMJm7nq7mMRmfdHIC5teraisQ3UQ%3D'],\n",
       "  'nir': ['https://sentinel2l2a01.blob.core.windows.net/sentinel2-l2/14/R/MP/2018/11/16/S2B_MSIL2A_20181116T171559_N0212_R112_T14RMP_20201008T191237.SAFE/GRANULE/L2A_T14RMP_A008861_20181116T172623/IMG_DATA/R10m/T14RMP_20181116T171559_B08_10m.tif?st=2023-10-19T20%3A07%3A51Z&se=2023-10-20T20%3A52%3A51Z&sp=rl&sv=2021-06-08&sr=c&skoid=c85c15d6-d1ae-42d4-af60-e2ca0f81359b&sktid=72f988bf-86f1-41af-91ab-2d7cd011db47&skt=2023-10-20T18%3A39%3A23Z&ske=2023-10-27T18%3A39%3A23Z&sks=b&skv=2021-06-08&sig=I14J535y06XeUfYNMJm7nq7mMRmfdHIC5teraisQ3UQ%3D']},\n",
       " datetime.date(2018, 11, 6): {'green': ['https://sentinel2l2a01.blob.core.windows.net/sentinel2-l2/14/R/MP/2018/11/06/S2B_MSIL2A_20181106T171509_N0212_R112_T14RMP_20201008T162744.SAFE/GRANULE/L2A_T14RMP_A008718_20181106T172159/IMG_DATA/R10m/T14RMP_20181106T171509_B03_10m.tif?st=2023-10-19T20%3A07%3A51Z&se=2023-10-20T20%3A52%3A51Z&sp=rl&sv=2021-06-08&sr=c&skoid=c85c15d6-d1ae-42d4-af60-e2ca0f81359b&sktid=72f988bf-86f1-41af-91ab-2d7cd011db47&skt=2023-10-20T18%3A39%3A23Z&ske=2023-10-27T18%3A39%3A23Z&sks=b&skv=2021-06-08&sig=I14J535y06XeUfYNMJm7nq7mMRmfdHIC5teraisQ3UQ%3D'],\n",
       "  'nir': ['https://sentinel2l2a01.blob.core.windows.net/sentinel2-l2/14/R/MP/2018/11/06/S2B_MSIL2A_20181106T171509_N0212_R112_T14RMP_20201008T162744.SAFE/GRANULE/L2A_T14RMP_A008718_20181106T172159/IMG_DATA/R10m/T14RMP_20181106T171509_B08_10m.tif?st=2023-10-19T20%3A07%3A51Z&se=2023-10-20T20%3A52%3A51Z&sp=rl&sv=2021-06-08&sr=c&skoid=c85c15d6-d1ae-42d4-af60-e2ca0f81359b&sktid=72f988bf-86f1-41af-91ab-2d7cd011db47&skt=2023-10-20T18%3A39%3A23Z&ske=2023-10-27T18%3A39%3A23Z&sks=b&skv=2021-06-08&sig=I14J535y06XeUfYNMJm7nq7mMRmfdHIC5teraisQ3UQ%3D']},\n",
       " datetime.date(2018, 12, 21): {'green': ['https://sentinel2l2a01.blob.core.windows.net/sentinel2-l2/14/R/MP/2018/12/21/S2A_MSIL2A_20181221T171721_N0212_R112_T14RMP_20201008T115457.SAFE/GRANULE/L2A_T14RMP_A018270_20181221T172020/IMG_DATA/R10m/T14RMP_20181221T171721_B03_10m.tif?st=2023-10-19T20%3A07%3A51Z&se=2023-10-20T20%3A52%3A51Z&sp=rl&sv=2021-06-08&sr=c&skoid=c85c15d6-d1ae-42d4-af60-e2ca0f81359b&sktid=72f988bf-86f1-41af-91ab-2d7cd011db47&skt=2023-10-20T18%3A39%3A23Z&ske=2023-10-27T18%3A39%3A23Z&sks=b&skv=2021-06-08&sig=I14J535y06XeUfYNMJm7nq7mMRmfdHIC5teraisQ3UQ%3D'],\n",
       "  'nir': ['https://sentinel2l2a01.blob.core.windows.net/sentinel2-l2/14/R/MP/2018/12/21/S2A_MSIL2A_20181221T171721_N0212_R112_T14RMP_20201008T115457.SAFE/GRANULE/L2A_T14RMP_A018270_20181221T172020/IMG_DATA/R10m/T14RMP_20181221T171721_B08_10m.tif?st=2023-10-19T20%3A07%3A51Z&se=2023-10-20T20%3A52%3A51Z&sp=rl&sv=2021-06-08&sr=c&skoid=c85c15d6-d1ae-42d4-af60-e2ca0f81359b&sktid=72f988bf-86f1-41af-91ab-2d7cd011db47&skt=2023-10-20T18%3A39%3A23Z&ske=2023-10-27T18%3A39%3A23Z&sks=b&skv=2021-06-08&sig=I14J535y06XeUfYNMJm7nq7mMRmfdHIC5teraisQ3UQ%3D']},\n",
       " datetime.date(2018, 12, 1): {'green': ['https://sentinel2l2a01.blob.core.windows.net/sentinel2-l2/14/R/MP/2018/12/01/S2A_MSIL2A_20181201T171651_N0212_R112_T14RMP_20201008T063007.SAFE/GRANULE/L2A_T14RMP_A017984_20181201T171916/IMG_DATA/R10m/T14RMP_20181201T171651_B03_10m.tif?st=2023-10-19T20%3A07%3A51Z&se=2023-10-20T20%3A52%3A51Z&sp=rl&sv=2021-06-08&sr=c&skoid=c85c15d6-d1ae-42d4-af60-e2ca0f81359b&sktid=72f988bf-86f1-41af-91ab-2d7cd011db47&skt=2023-10-20T18%3A39%3A23Z&ske=2023-10-27T18%3A39%3A23Z&sks=b&skv=2021-06-08&sig=I14J535y06XeUfYNMJm7nq7mMRmfdHIC5teraisQ3UQ%3D'],\n",
       "  'nir': ['https://sentinel2l2a01.blob.core.windows.net/sentinel2-l2/14/R/MP/2018/12/01/S2A_MSIL2A_20181201T171651_N0212_R112_T14RMP_20201008T063007.SAFE/GRANULE/L2A_T14RMP_A017984_20181201T171916/IMG_DATA/R10m/T14RMP_20181201T171651_B08_10m.tif?st=2023-10-19T20%3A07%3A51Z&se=2023-10-20T20%3A52%3A51Z&sp=rl&sv=2021-06-08&sr=c&skoid=c85c15d6-d1ae-42d4-af60-e2ca0f81359b&sktid=72f988bf-86f1-41af-91ab-2d7cd011db47&skt=2023-10-20T18%3A39%3A23Z&ske=2023-10-27T18%3A39%3A23Z&sks=b&skv=2021-06-08&sig=I14J535y06XeUfYNMJm7nq7mMRmfdHIC5teraisQ3UQ%3D']},\n",
       " datetime.date(2019, 1, 20): {'green': ['https://sentinel2l2a01.blob.core.windows.net/sentinel2-l2/14/R/MP/2019/01/20/S2A_MSIL2A_20190120T171631_N0212_R112_T14RMP_20201008T030700.SAFE/GRANULE/L2A_T14RMP_A018699_20190120T171836/IMG_DATA/R10m/T14RMP_20190120T171631_B03_10m.tif?st=2023-10-19T20%3A07%3A51Z&se=2023-10-20T20%3A52%3A51Z&sp=rl&sv=2021-06-08&sr=c&skoid=c85c15d6-d1ae-42d4-af60-e2ca0f81359b&sktid=72f988bf-86f1-41af-91ab-2d7cd011db47&skt=2023-10-20T18%3A39%3A23Z&ske=2023-10-27T18%3A39%3A23Z&sks=b&skv=2021-06-08&sig=I14J535y06XeUfYNMJm7nq7mMRmfdHIC5teraisQ3UQ%3D'],\n",
       "  'nir': ['https://sentinel2l2a01.blob.core.windows.net/sentinel2-l2/14/R/MP/2019/01/20/S2A_MSIL2A_20190120T171631_N0212_R112_T14RMP_20201008T030700.SAFE/GRANULE/L2A_T14RMP_A018699_20190120T171836/IMG_DATA/R10m/T14RMP_20190120T171631_B08_10m.tif?st=2023-10-19T20%3A07%3A51Z&se=2023-10-20T20%3A52%3A51Z&sp=rl&sv=2021-06-08&sr=c&skoid=c85c15d6-d1ae-42d4-af60-e2ca0f81359b&sktid=72f988bf-86f1-41af-91ab-2d7cd011db47&skt=2023-10-20T18%3A39%3A23Z&ske=2023-10-27T18%3A39%3A23Z&sks=b&skv=2021-06-08&sig=I14J535y06XeUfYNMJm7nq7mMRmfdHIC5teraisQ3UQ%3D']},\n",
       " datetime.date(2019, 1, 5): {'green': ['https://sentinel2l2a01.blob.core.windows.net/sentinel2-l2/14/R/MP/2019/01/05/S2B_MSIL2A_20190105T171709_N0212_R112_T14RMP_20201007T230829.SAFE/GRANULE/L2A_T14RMP_A009576_20190105T172443/IMG_DATA/R10m/T14RMP_20190105T171709_B03_10m.tif?st=2023-10-19T20%3A07%3A51Z&se=2023-10-20T20%3A52%3A51Z&sp=rl&sv=2021-06-08&sr=c&skoid=c85c15d6-d1ae-42d4-af60-e2ca0f81359b&sktid=72f988bf-86f1-41af-91ab-2d7cd011db47&skt=2023-10-20T18%3A39%3A23Z&ske=2023-10-27T18%3A39%3A23Z&sks=b&skv=2021-06-08&sig=I14J535y06XeUfYNMJm7nq7mMRmfdHIC5teraisQ3UQ%3D'],\n",
       "  'nir': ['https://sentinel2l2a01.blob.core.windows.net/sentinel2-l2/14/R/MP/2019/01/05/S2B_MSIL2A_20190105T171709_N0212_R112_T14RMP_20201007T230829.SAFE/GRANULE/L2A_T14RMP_A009576_20190105T172443/IMG_DATA/R10m/T14RMP_20190105T171709_B08_10m.tif?st=2023-10-19T20%3A07%3A51Z&se=2023-10-20T20%3A52%3A51Z&sp=rl&sv=2021-06-08&sr=c&skoid=c85c15d6-d1ae-42d4-af60-e2ca0f81359b&sktid=72f988bf-86f1-41af-91ab-2d7cd011db47&skt=2023-10-20T18%3A39%3A23Z&ske=2023-10-27T18%3A39%3A23Z&sks=b&skv=2021-06-08&sig=I14J535y06XeUfYNMJm7nq7mMRmfdHIC5teraisQ3UQ%3D']},\n",
       " datetime.date(2019, 4, 25): {'green': ['https://sentinel2l2a01.blob.core.windows.net/sentinel2-l2/14/R/MP/2019/04/25/S2B_MSIL2A_20190425T170859_N0212_R112_T14RMP_20201105T183654.SAFE/GRANULE/L2A_T14RMP_A011149_20190425T172527/IMG_DATA/R10m/T14RMP_20190425T170859_B03_10m.tif?st=2023-10-19T20%3A07%3A51Z&se=2023-10-20T20%3A52%3A51Z&sp=rl&sv=2021-06-08&sr=c&skoid=c85c15d6-d1ae-42d4-af60-e2ca0f81359b&sktid=72f988bf-86f1-41af-91ab-2d7cd011db47&skt=2023-10-20T18%3A39%3A23Z&ske=2023-10-27T18%3A39%3A23Z&sks=b&skv=2021-06-08&sig=I14J535y06XeUfYNMJm7nq7mMRmfdHIC5teraisQ3UQ%3D'],\n",
       "  'nir': ['https://sentinel2l2a01.blob.core.windows.net/sentinel2-l2/14/R/MP/2019/04/25/S2B_MSIL2A_20190425T170859_N0212_R112_T14RMP_20201105T183654.SAFE/GRANULE/L2A_T14RMP_A011149_20190425T172527/IMG_DATA/R10m/T14RMP_20190425T170859_B08_10m.tif?st=2023-10-19T20%3A07%3A51Z&se=2023-10-20T20%3A52%3A51Z&sp=rl&sv=2021-06-08&sr=c&skoid=c85c15d6-d1ae-42d4-af60-e2ca0f81359b&sktid=72f988bf-86f1-41af-91ab-2d7cd011db47&skt=2023-10-20T18%3A39%3A23Z&ske=2023-10-27T18%3A39%3A23Z&sks=b&skv=2021-06-08&sig=I14J535y06XeUfYNMJm7nq7mMRmfdHIC5teraisQ3UQ%3D']},\n",
       " datetime.date(2019, 4, 20): {'green': ['https://sentinel2l2a01.blob.core.windows.net/sentinel2-l2/14/R/MP/2019/04/20/S2A_MSIL2A_20190420T170851_N0212_R112_T14RMP_20201105T122519.SAFE/GRANULE/L2A_T14RMP_A019986_20190420T171657/IMG_DATA/R10m/T14RMP_20190420T170851_B03_10m.tif?st=2023-10-19T20%3A07%3A51Z&se=2023-10-20T20%3A52%3A51Z&sp=rl&sv=2021-06-08&sr=c&skoid=c85c15d6-d1ae-42d4-af60-e2ca0f81359b&sktid=72f988bf-86f1-41af-91ab-2d7cd011db47&skt=2023-10-20T18%3A39%3A23Z&ske=2023-10-27T18%3A39%3A23Z&sks=b&skv=2021-06-08&sig=I14J535y06XeUfYNMJm7nq7mMRmfdHIC5teraisQ3UQ%3D'],\n",
       "  'nir': ['https://sentinel2l2a01.blob.core.windows.net/sentinel2-l2/14/R/MP/2019/04/20/S2A_MSIL2A_20190420T170851_N0212_R112_T14RMP_20201105T122519.SAFE/GRANULE/L2A_T14RMP_A019986_20190420T171657/IMG_DATA/R10m/T14RMP_20190420T170851_B08_10m.tif?st=2023-10-19T20%3A07%3A51Z&se=2023-10-20T20%3A52%3A51Z&sp=rl&sv=2021-06-08&sr=c&skoid=c85c15d6-d1ae-42d4-af60-e2ca0f81359b&sktid=72f988bf-86f1-41af-91ab-2d7cd011db47&skt=2023-10-20T18%3A39%3A23Z&ske=2023-10-27T18%3A39%3A23Z&sks=b&skv=2021-06-08&sig=I14J535y06XeUfYNMJm7nq7mMRmfdHIC5teraisQ3UQ%3D']},\n",
       " datetime.date(2019, 4, 10): {'green': ['https://sentinel2l2a01.blob.core.windows.net/sentinel2-l2/14/R/MP/2019/04/10/S2A_MSIL2A_20190410T170851_N0212_R112_T14RMP_20201007T002613.SAFE/GRANULE/L2A_T14RMP_A019843_20190410T171722/IMG_DATA/R10m/T14RMP_20190410T170851_B03_10m.tif?st=2023-10-19T20%3A07%3A51Z&se=2023-10-20T20%3A52%3A51Z&sp=rl&sv=2021-06-08&sr=c&skoid=c85c15d6-d1ae-42d4-af60-e2ca0f81359b&sktid=72f988bf-86f1-41af-91ab-2d7cd011db47&skt=2023-10-20T18%3A39%3A23Z&ske=2023-10-27T18%3A39%3A23Z&sks=b&skv=2021-06-08&sig=I14J535y06XeUfYNMJm7nq7mMRmfdHIC5teraisQ3UQ%3D'],\n",
       "  'nir': ['https://sentinel2l2a01.blob.core.windows.net/sentinel2-l2/14/R/MP/2019/04/10/S2A_MSIL2A_20190410T170851_N0212_R112_T14RMP_20201007T002613.SAFE/GRANULE/L2A_T14RMP_A019843_20190410T171722/IMG_DATA/R10m/T14RMP_20190410T170851_B08_10m.tif?st=2023-10-19T20%3A07%3A51Z&se=2023-10-20T20%3A52%3A51Z&sp=rl&sv=2021-06-08&sr=c&skoid=c85c15d6-d1ae-42d4-af60-e2ca0f81359b&sktid=72f988bf-86f1-41af-91ab-2d7cd011db47&skt=2023-10-20T18%3A39%3A23Z&ske=2023-10-27T18%3A39%3A23Z&sks=b&skv=2021-06-08&sig=I14J535y06XeUfYNMJm7nq7mMRmfdHIC5teraisQ3UQ%3D']},\n",
       " datetime.date(2019, 5, 20): {'green': ['https://sentinel2l2a01.blob.core.windows.net/sentinel2-l2/14/R/MP/2019/05/20/S2A_MSIL2A_20190520T170851_N0212_R112_T14RMP_20201006T163001.SAFE/GRANULE/L2A_T14RMP_A020415_20190520T172349/IMG_DATA/R10m/T14RMP_20190520T170851_B03_10m.tif?st=2023-10-19T20%3A07%3A51Z&se=2023-10-20T20%3A52%3A51Z&sp=rl&sv=2021-06-08&sr=c&skoid=c85c15d6-d1ae-42d4-af60-e2ca0f81359b&sktid=72f988bf-86f1-41af-91ab-2d7cd011db47&skt=2023-10-20T18%3A39%3A23Z&ske=2023-10-27T18%3A39%3A23Z&sks=b&skv=2021-06-08&sig=I14J535y06XeUfYNMJm7nq7mMRmfdHIC5teraisQ3UQ%3D'],\n",
       "  'nir': ['https://sentinel2l2a01.blob.core.windows.net/sentinel2-l2/14/R/MP/2019/05/20/S2A_MSIL2A_20190520T170851_N0212_R112_T14RMP_20201006T163001.SAFE/GRANULE/L2A_T14RMP_A020415_20190520T172349/IMG_DATA/R10m/T14RMP_20190520T170851_B08_10m.tif?st=2023-10-19T20%3A07%3A51Z&se=2023-10-20T20%3A52%3A51Z&sp=rl&sv=2021-06-08&sr=c&skoid=c85c15d6-d1ae-42d4-af60-e2ca0f81359b&sktid=72f988bf-86f1-41af-91ab-2d7cd011db47&skt=2023-10-20T18%3A39%3A23Z&ske=2023-10-27T18%3A39%3A23Z&sks=b&skv=2021-06-08&sig=I14J535y06XeUfYNMJm7nq7mMRmfdHIC5teraisQ3UQ%3D']},\n",
       " datetime.date(2019, 6, 29): {'green': ['https://sentinel2l2a01.blob.core.windows.net/sentinel2-l2/14/R/MP/2019/06/29/S2A_MSIL2A_20190629T170901_N0212_R112_T14RMP_20201006T075029.SAFE/GRANULE/L2A_T14RMP_A020987_20190629T171920/IMG_DATA/R10m/T14RMP_20190629T170901_B03_10m.tif?st=2023-10-19T20%3A07%3A51Z&se=2023-10-20T20%3A52%3A51Z&sp=rl&sv=2021-06-08&sr=c&skoid=c85c15d6-d1ae-42d4-af60-e2ca0f81359b&sktid=72f988bf-86f1-41af-91ab-2d7cd011db47&skt=2023-10-20T18%3A39%3A23Z&ske=2023-10-27T18%3A39%3A23Z&sks=b&skv=2021-06-08&sig=I14J535y06XeUfYNMJm7nq7mMRmfdHIC5teraisQ3UQ%3D'],\n",
       "  'nir': ['https://sentinel2l2a01.blob.core.windows.net/sentinel2-l2/14/R/MP/2019/06/29/S2A_MSIL2A_20190629T170901_N0212_R112_T14RMP_20201006T075029.SAFE/GRANULE/L2A_T14RMP_A020987_20190629T171920/IMG_DATA/R10m/T14RMP_20190629T170901_B08_10m.tif?st=2023-10-19T20%3A07%3A51Z&se=2023-10-20T20%3A52%3A51Z&sp=rl&sv=2021-06-08&sr=c&skoid=c85c15d6-d1ae-42d4-af60-e2ca0f81359b&sktid=72f988bf-86f1-41af-91ab-2d7cd011db47&skt=2023-10-20T18%3A39%3A23Z&ske=2023-10-27T18%3A39%3A23Z&sks=b&skv=2021-06-08&sig=I14J535y06XeUfYNMJm7nq7mMRmfdHIC5teraisQ3UQ%3D']},\n",
       " datetime.date(2019, 6, 9): {'green': ['https://sentinel2l2a01.blob.core.windows.net/sentinel2-l2/14/R/MP/2019/06/09/S2A_MSIL2A_20190609T170851_N0212_R112_T14RMP_20201006T000131.SAFE/GRANULE/L2A_T14RMP_A020701_20190609T172207/IMG_DATA/R10m/T14RMP_20190609T170851_B03_10m.tif?st=2023-10-19T20%3A07%3A51Z&se=2023-10-20T20%3A52%3A51Z&sp=rl&sv=2021-06-08&sr=c&skoid=c85c15d6-d1ae-42d4-af60-e2ca0f81359b&sktid=72f988bf-86f1-41af-91ab-2d7cd011db47&skt=2023-10-20T18%3A39%3A23Z&ske=2023-10-27T18%3A39%3A23Z&sks=b&skv=2021-06-08&sig=I14J535y06XeUfYNMJm7nq7mMRmfdHIC5teraisQ3UQ%3D'],\n",
       "  'nir': ['https://sentinel2l2a01.blob.core.windows.net/sentinel2-l2/14/R/MP/2019/06/09/S2A_MSIL2A_20190609T170851_N0212_R112_T14RMP_20201006T000131.SAFE/GRANULE/L2A_T14RMP_A020701_20190609T172207/IMG_DATA/R10m/T14RMP_20190609T170851_B08_10m.tif?st=2023-10-19T20%3A07%3A51Z&se=2023-10-20T20%3A52%3A51Z&sp=rl&sv=2021-06-08&sr=c&skoid=c85c15d6-d1ae-42d4-af60-e2ca0f81359b&sktid=72f988bf-86f1-41af-91ab-2d7cd011db47&skt=2023-10-20T18%3A39%3A23Z&ske=2023-10-27T18%3A39%3A23Z&sks=b&skv=2021-06-08&sig=I14J535y06XeUfYNMJm7nq7mMRmfdHIC5teraisQ3UQ%3D']},\n",
       " datetime.date(2019, 7, 29): {'green': ['https://sentinel2l2a01.blob.core.windows.net/sentinel2-l2/14/R/MP/2019/07/29/S2A_MSIL2A_20190729T170901_N0212_R112_T14RMP_20201106T050347.SAFE/GRANULE/L2A_T14RMP_A021416_20190729T172420/IMG_DATA/R10m/T14RMP_20190729T170901_B03_10m.tif?st=2023-10-19T20%3A07%3A51Z&se=2023-10-20T20%3A52%3A51Z&sp=rl&sv=2021-06-08&sr=c&skoid=c85c15d6-d1ae-42d4-af60-e2ca0f81359b&sktid=72f988bf-86f1-41af-91ab-2d7cd011db47&skt=2023-10-20T18%3A39%3A23Z&ske=2023-10-27T18%3A39%3A23Z&sks=b&skv=2021-06-08&sig=I14J535y06XeUfYNMJm7nq7mMRmfdHIC5teraisQ3UQ%3D'],\n",
       "  'nir': ['https://sentinel2l2a01.blob.core.windows.net/sentinel2-l2/14/R/MP/2019/07/29/S2A_MSIL2A_20190729T170901_N0212_R112_T14RMP_20201106T050347.SAFE/GRANULE/L2A_T14RMP_A021416_20190729T172420/IMG_DATA/R10m/T14RMP_20190729T170901_B08_10m.tif?st=2023-10-19T20%3A07%3A51Z&se=2023-10-20T20%3A52%3A51Z&sp=rl&sv=2021-06-08&sr=c&skoid=c85c15d6-d1ae-42d4-af60-e2ca0f81359b&sktid=72f988bf-86f1-41af-91ab-2d7cd011db47&skt=2023-10-20T18%3A39%3A23Z&ske=2023-10-27T18%3A39%3A23Z&sks=b&skv=2021-06-08&sig=I14J535y06XeUfYNMJm7nq7mMRmfdHIC5teraisQ3UQ%3D']},\n",
       " datetime.date(2019, 7, 19): {'green': ['https://sentinel2l2a01.blob.core.windows.net/sentinel2-l2/14/R/MP/2019/07/19/S2A_MSIL2A_20190719T170901_N0212_R112_T14RMP_20201005T162410.SAFE/GRANULE/L2A_T14RMP_A021273_20190719T171924/IMG_DATA/R10m/T14RMP_20190719T170901_B03_10m.tif?st=2023-10-19T20%3A07%3A51Z&se=2023-10-20T20%3A52%3A51Z&sp=rl&sv=2021-06-08&sr=c&skoid=c85c15d6-d1ae-42d4-af60-e2ca0f81359b&sktid=72f988bf-86f1-41af-91ab-2d7cd011db47&skt=2023-10-20T18%3A39%3A23Z&ske=2023-10-27T18%3A39%3A23Z&sks=b&skv=2021-06-08&sig=I14J535y06XeUfYNMJm7nq7mMRmfdHIC5teraisQ3UQ%3D'],\n",
       "  'nir': ['https://sentinel2l2a01.blob.core.windows.net/sentinel2-l2/14/R/MP/2019/07/19/S2A_MSIL2A_20190719T170901_N0212_R112_T14RMP_20201005T162410.SAFE/GRANULE/L2A_T14RMP_A021273_20190719T171924/IMG_DATA/R10m/T14RMP_20190719T170901_B08_10m.tif?st=2023-10-19T20%3A07%3A51Z&se=2023-10-20T20%3A52%3A51Z&sp=rl&sv=2021-06-08&sr=c&skoid=c85c15d6-d1ae-42d4-af60-e2ca0f81359b&sktid=72f988bf-86f1-41af-91ab-2d7cd011db47&skt=2023-10-20T18%3A39%3A23Z&ske=2023-10-27T18%3A39%3A23Z&sks=b&skv=2021-06-08&sig=I14J535y06XeUfYNMJm7nq7mMRmfdHIC5teraisQ3UQ%3D']},\n",
       " datetime.date(2019, 7, 9): {'green': ['https://sentinel2l2a01.blob.core.windows.net/sentinel2-l2/14/R/MP/2019/07/09/S2A_MSIL2A_20190709T170901_N0212_R112_T14RMP_20201005T113131.SAFE/GRANULE/L2A_T14RMP_A021130_20190709T171942/IMG_DATA/R10m/T14RMP_20190709T170901_B03_10m.tif?st=2023-10-19T20%3A07%3A51Z&se=2023-10-20T20%3A52%3A51Z&sp=rl&sv=2021-06-08&sr=c&skoid=c85c15d6-d1ae-42d4-af60-e2ca0f81359b&sktid=72f988bf-86f1-41af-91ab-2d7cd011db47&skt=2023-10-20T18%3A39%3A23Z&ske=2023-10-27T18%3A39%3A23Z&sks=b&skv=2021-06-08&sig=I14J535y06XeUfYNMJm7nq7mMRmfdHIC5teraisQ3UQ%3D'],\n",
       "  'nir': ['https://sentinel2l2a01.blob.core.windows.net/sentinel2-l2/14/R/MP/2019/07/09/S2A_MSIL2A_20190709T170901_N0212_R112_T14RMP_20201005T113131.SAFE/GRANULE/L2A_T14RMP_A021130_20190709T171942/IMG_DATA/R10m/T14RMP_20190709T170901_B08_10m.tif?st=2023-10-19T20%3A07%3A51Z&se=2023-10-20T20%3A52%3A51Z&sp=rl&sv=2021-06-08&sr=c&skoid=c85c15d6-d1ae-42d4-af60-e2ca0f81359b&sktid=72f988bf-86f1-41af-91ab-2d7cd011db47&skt=2023-10-20T18%3A39%3A23Z&ske=2023-10-27T18%3A39%3A23Z&sks=b&skv=2021-06-08&sig=I14J535y06XeUfYNMJm7nq7mMRmfdHIC5teraisQ3UQ%3D']},\n",
       " datetime.date(2019, 7, 4): {'green': ['https://sentinel2l2a01.blob.core.windows.net/sentinel2-l2/14/R/MP/2019/07/04/S2B_MSIL2A_20190704T170859_N0212_R112_T14RMP_20201005T092242.SAFE/GRANULE/L2A_T14RMP_A012150_20190704T171819/IMG_DATA/R10m/T14RMP_20190704T170859_B03_10m.tif?st=2023-10-19T20%3A07%3A51Z&se=2023-10-20T20%3A52%3A51Z&sp=rl&sv=2021-06-08&sr=c&skoid=c85c15d6-d1ae-42d4-af60-e2ca0f81359b&sktid=72f988bf-86f1-41af-91ab-2d7cd011db47&skt=2023-10-20T18%3A39%3A23Z&ske=2023-10-27T18%3A39%3A23Z&sks=b&skv=2021-06-08&sig=I14J535y06XeUfYNMJm7nq7mMRmfdHIC5teraisQ3UQ%3D'],\n",
       "  'nir': ['https://sentinel2l2a01.blob.core.windows.net/sentinel2-l2/14/R/MP/2019/07/04/S2B_MSIL2A_20190704T170859_N0212_R112_T14RMP_20201005T092242.SAFE/GRANULE/L2A_T14RMP_A012150_20190704T171819/IMG_DATA/R10m/T14RMP_20190704T170859_B08_10m.tif?st=2023-10-19T20%3A07%3A51Z&se=2023-10-20T20%3A52%3A51Z&sp=rl&sv=2021-06-08&sr=c&skoid=c85c15d6-d1ae-42d4-af60-e2ca0f81359b&sktid=72f988bf-86f1-41af-91ab-2d7cd011db47&skt=2023-10-20T18%3A39%3A23Z&ske=2023-10-27T18%3A39%3A23Z&sks=b&skv=2021-06-08&sig=I14J535y06XeUfYNMJm7nq7mMRmfdHIC5teraisQ3UQ%3D']},\n",
       " datetime.date(2019, 8, 23): {'green': ['https://sentinel2l2a01.blob.core.windows.net/sentinel2-l2/14/R/MP/2019/08/23/S2B_MSIL2A_20190823T170859_N0212_R112_T14RMP_20201005T040351.SAFE/GRANULE/L2A_T14RMP_A012865_20190823T172355/IMG_DATA/R10m/T14RMP_20190823T170859_B03_10m.tif?st=2023-10-19T20%3A07%3A51Z&se=2023-10-20T20%3A52%3A51Z&sp=rl&sv=2021-06-08&sr=c&skoid=c85c15d6-d1ae-42d4-af60-e2ca0f81359b&sktid=72f988bf-86f1-41af-91ab-2d7cd011db47&skt=2023-10-20T18%3A39%3A23Z&ske=2023-10-27T18%3A39%3A23Z&sks=b&skv=2021-06-08&sig=I14J535y06XeUfYNMJm7nq7mMRmfdHIC5teraisQ3UQ%3D'],\n",
       "  'nir': ['https://sentinel2l2a01.blob.core.windows.net/sentinel2-l2/14/R/MP/2019/08/23/S2B_MSIL2A_20190823T170859_N0212_R112_T14RMP_20201005T040351.SAFE/GRANULE/L2A_T14RMP_A012865_20190823T172355/IMG_DATA/R10m/T14RMP_20190823T170859_B08_10m.tif?st=2023-10-19T20%3A07%3A51Z&se=2023-10-20T20%3A52%3A51Z&sp=rl&sv=2021-06-08&sr=c&skoid=c85c15d6-d1ae-42d4-af60-e2ca0f81359b&sktid=72f988bf-86f1-41af-91ab-2d7cd011db47&skt=2023-10-20T18%3A39%3A23Z&ske=2023-10-27T18%3A39%3A23Z&sks=b&skv=2021-06-08&sig=I14J535y06XeUfYNMJm7nq7mMRmfdHIC5teraisQ3UQ%3D']},\n",
       " datetime.date(2019, 8, 18): {'green': ['https://sentinel2l2a01.blob.core.windows.net/sentinel2-l2/14/R/MP/2019/08/18/S2A_MSIL2A_20190818T170851_N0212_R112_T14RMP_20201005T015152.SAFE/GRANULE/L2A_T14RMP_A021702_20190818T172421/IMG_DATA/R10m/T14RMP_20190818T170851_B03_10m.tif?st=2023-10-19T20%3A07%3A51Z&se=2023-10-20T20%3A52%3A51Z&sp=rl&sv=2021-06-08&sr=c&skoid=c85c15d6-d1ae-42d4-af60-e2ca0f81359b&sktid=72f988bf-86f1-41af-91ab-2d7cd011db47&skt=2023-10-20T18%3A39%3A23Z&ske=2023-10-27T18%3A39%3A23Z&sks=b&skv=2021-06-08&sig=I14J535y06XeUfYNMJm7nq7mMRmfdHIC5teraisQ3UQ%3D'],\n",
       "  'nir': ['https://sentinel2l2a01.blob.core.windows.net/sentinel2-l2/14/R/MP/2019/08/18/S2A_MSIL2A_20190818T170851_N0212_R112_T14RMP_20201005T015152.SAFE/GRANULE/L2A_T14RMP_A021702_20190818T172421/IMG_DATA/R10m/T14RMP_20190818T170851_B08_10m.tif?st=2023-10-19T20%3A07%3A51Z&se=2023-10-20T20%3A52%3A51Z&sp=rl&sv=2021-06-08&sr=c&skoid=c85c15d6-d1ae-42d4-af60-e2ca0f81359b&sktid=72f988bf-86f1-41af-91ab-2d7cd011db47&skt=2023-10-20T18%3A39%3A23Z&ske=2023-10-27T18%3A39%3A23Z&sks=b&skv=2021-06-08&sig=I14J535y06XeUfYNMJm7nq7mMRmfdHIC5teraisQ3UQ%3D']},\n",
       " datetime.date(2019, 8, 8): {'green': ['https://sentinel2l2a01.blob.core.windows.net/sentinel2-l2/14/R/MP/2019/08/08/S2A_MSIL2A_20190808T170901_N0212_R112_T14RMP_20201004T215356.SAFE/GRANULE/L2A_T14RMP_A021559_20190808T172223/IMG_DATA/R10m/T14RMP_20190808T170901_B03_10m.tif?st=2023-10-19T20%3A07%3A51Z&se=2023-10-20T20%3A52%3A51Z&sp=rl&sv=2021-06-08&sr=c&skoid=c85c15d6-d1ae-42d4-af60-e2ca0f81359b&sktid=72f988bf-86f1-41af-91ab-2d7cd011db47&skt=2023-10-20T18%3A39%3A23Z&ske=2023-10-27T18%3A39%3A23Z&sks=b&skv=2021-06-08&sig=I14J535y06XeUfYNMJm7nq7mMRmfdHIC5teraisQ3UQ%3D'],\n",
       "  'nir': ['https://sentinel2l2a01.blob.core.windows.net/sentinel2-l2/14/R/MP/2019/08/08/S2A_MSIL2A_20190808T170901_N0212_R112_T14RMP_20201004T215356.SAFE/GRANULE/L2A_T14RMP_A021559_20190808T172223/IMG_DATA/R10m/T14RMP_20190808T170901_B08_10m.tif?st=2023-10-19T20%3A07%3A51Z&se=2023-10-20T20%3A52%3A51Z&sp=rl&sv=2021-06-08&sr=c&skoid=c85c15d6-d1ae-42d4-af60-e2ca0f81359b&sktid=72f988bf-86f1-41af-91ab-2d7cd011db47&skt=2023-10-20T18%3A39%3A23Z&ske=2023-10-27T18%3A39%3A23Z&sks=b&skv=2021-06-08&sig=I14J535y06XeUfYNMJm7nq7mMRmfdHIC5teraisQ3UQ%3D']},\n",
       " datetime.date(2019, 8, 3): {'green': ['https://sentinel2l2a01.blob.core.windows.net/sentinel2-l2/14/R/MP/2019/08/03/S2B_MSIL2A_20190803T170859_N0212_R112_T14RMP_20201004T200741.SAFE/GRANULE/L2A_T14RMP_A012579_20190803T172433/IMG_DATA/R10m/T14RMP_20190803T170859_B03_10m.tif?st=2023-10-19T20%3A07%3A51Z&se=2023-10-20T20%3A52%3A51Z&sp=rl&sv=2021-06-08&sr=c&skoid=c85c15d6-d1ae-42d4-af60-e2ca0f81359b&sktid=72f988bf-86f1-41af-91ab-2d7cd011db47&skt=2023-10-20T18%3A39%3A23Z&ske=2023-10-27T18%3A39%3A23Z&sks=b&skv=2021-06-08&sig=I14J535y06XeUfYNMJm7nq7mMRmfdHIC5teraisQ3UQ%3D'],\n",
       "  'nir': ['https://sentinel2l2a01.blob.core.windows.net/sentinel2-l2/14/R/MP/2019/08/03/S2B_MSIL2A_20190803T170859_N0212_R112_T14RMP_20201004T200741.SAFE/GRANULE/L2A_T14RMP_A012579_20190803T172433/IMG_DATA/R10m/T14RMP_20190803T170859_B08_10m.tif?st=2023-10-19T20%3A07%3A51Z&se=2023-10-20T20%3A52%3A51Z&sp=rl&sv=2021-06-08&sr=c&skoid=c85c15d6-d1ae-42d4-af60-e2ca0f81359b&sktid=72f988bf-86f1-41af-91ab-2d7cd011db47&skt=2023-10-20T18%3A39%3A23Z&ske=2023-10-27T18%3A39%3A23Z&sks=b&skv=2021-06-08&sig=I14J535y06XeUfYNMJm7nq7mMRmfdHIC5teraisQ3UQ%3D']},\n",
       " datetime.date(2019, 9, 27): {'green': ['https://sentinel2l2a01.blob.core.windows.net/sentinel2-l2/14/R/MP/2019/09/27/S2A_MSIL2A_20190927T171051_N0212_R112_T14RMP_20201004T174050.SAFE/GRANULE/L2A_T14RMP_A022274_20190927T172241/IMG_DATA/R10m/T14RMP_20190927T171051_B03_10m.tif?st=2023-10-19T20%3A07%3A51Z&se=2023-10-20T20%3A52%3A51Z&sp=rl&sv=2021-06-08&sr=c&skoid=c85c15d6-d1ae-42d4-af60-e2ca0f81359b&sktid=72f988bf-86f1-41af-91ab-2d7cd011db47&skt=2023-10-20T18%3A39%3A23Z&ske=2023-10-27T18%3A39%3A23Z&sks=b&skv=2021-06-08&sig=I14J535y06XeUfYNMJm7nq7mMRmfdHIC5teraisQ3UQ%3D'],\n",
       "  'nir': ['https://sentinel2l2a01.blob.core.windows.net/sentinel2-l2/14/R/MP/2019/09/27/S2A_MSIL2A_20190927T171051_N0212_R112_T14RMP_20201004T174050.SAFE/GRANULE/L2A_T14RMP_A022274_20190927T172241/IMG_DATA/R10m/T14RMP_20190927T171051_B08_10m.tif?st=2023-10-19T20%3A07%3A51Z&se=2023-10-20T20%3A52%3A51Z&sp=rl&sv=2021-06-08&sr=c&skoid=c85c15d6-d1ae-42d4-af60-e2ca0f81359b&sktid=72f988bf-86f1-41af-91ab-2d7cd011db47&skt=2023-10-20T18%3A39%3A23Z&ske=2023-10-27T18%3A39%3A23Z&sks=b&skv=2021-06-08&sig=I14J535y06XeUfYNMJm7nq7mMRmfdHIC5teraisQ3UQ%3D']},\n",
       " datetime.date(2019, 9, 17): {'green': ['https://sentinel2l2a01.blob.core.windows.net/sentinel2-l2/14/R/MP/2019/09/17/S2A_MSIL2A_20190917T170941_N0212_R112_T14RMP_20201004T140950.SAFE/GRANULE/L2A_T14RMP_A022131_20190917T172023/IMG_DATA/R10m/T14RMP_20190917T170941_B03_10m.tif?st=2023-10-19T20%3A07%3A51Z&se=2023-10-20T20%3A52%3A51Z&sp=rl&sv=2021-06-08&sr=c&skoid=c85c15d6-d1ae-42d4-af60-e2ca0f81359b&sktid=72f988bf-86f1-41af-91ab-2d7cd011db47&skt=2023-10-20T18%3A39%3A23Z&ske=2023-10-27T18%3A39%3A23Z&sks=b&skv=2021-06-08&sig=I14J535y06XeUfYNMJm7nq7mMRmfdHIC5teraisQ3UQ%3D'],\n",
       "  'nir': ['https://sentinel2l2a01.blob.core.windows.net/sentinel2-l2/14/R/MP/2019/09/17/S2A_MSIL2A_20190917T170941_N0212_R112_T14RMP_20201004T140950.SAFE/GRANULE/L2A_T14RMP_A022131_20190917T172023/IMG_DATA/R10m/T14RMP_20190917T170941_B08_10m.tif?st=2023-10-19T20%3A07%3A51Z&se=2023-10-20T20%3A52%3A51Z&sp=rl&sv=2021-06-08&sr=c&skoid=c85c15d6-d1ae-42d4-af60-e2ca0f81359b&sktid=72f988bf-86f1-41af-91ab-2d7cd011db47&skt=2023-10-20T18%3A39%3A23Z&ske=2023-10-27T18%3A39%3A23Z&sks=b&skv=2021-06-08&sig=I14J535y06XeUfYNMJm7nq7mMRmfdHIC5teraisQ3UQ%3D']},\n",
       " datetime.date(2019, 9, 7): {'green': ['https://sentinel2l2a01.blob.core.windows.net/sentinel2-l2/14/R/MP/2019/09/07/S2A_MSIL2A_20190907T170851_N0212_R112_T14RMP_20201004T102055.SAFE/GRANULE/L2A_T14RMP_A021988_20190907T171650/IMG_DATA/R10m/T14RMP_20190907T170851_B03_10m.tif?st=2023-10-19T20%3A07%3A51Z&se=2023-10-20T20%3A52%3A51Z&sp=rl&sv=2021-06-08&sr=c&skoid=c85c15d6-d1ae-42d4-af60-e2ca0f81359b&sktid=72f988bf-86f1-41af-91ab-2d7cd011db47&skt=2023-10-20T18%3A39%3A23Z&ske=2023-10-27T18%3A39%3A23Z&sks=b&skv=2021-06-08&sig=I14J535y06XeUfYNMJm7nq7mMRmfdHIC5teraisQ3UQ%3D'],\n",
       "  'nir': ['https://sentinel2l2a01.blob.core.windows.net/sentinel2-l2/14/R/MP/2019/09/07/S2A_MSIL2A_20190907T170851_N0212_R112_T14RMP_20201004T102055.SAFE/GRANULE/L2A_T14RMP_A021988_20190907T171650/IMG_DATA/R10m/T14RMP_20190907T170851_B08_10m.tif?st=2023-10-19T20%3A07%3A51Z&se=2023-10-20T20%3A52%3A51Z&sp=rl&sv=2021-06-08&sr=c&skoid=c85c15d6-d1ae-42d4-af60-e2ca0f81359b&sktid=72f988bf-86f1-41af-91ab-2d7cd011db47&skt=2023-10-20T18%3A39%3A23Z&ske=2023-10-27T18%3A39%3A23Z&sks=b&skv=2021-06-08&sig=I14J535y06XeUfYNMJm7nq7mMRmfdHIC5teraisQ3UQ%3D']},\n",
       " datetime.date(2019, 10, 27): {'green': ['https://sentinel2l2a01.blob.core.windows.net/sentinel2-l2/14/R/MP/2019/10/27/S2A_MSIL2A_20191027T171421_N0212_R112_T14RMP_20201004T064142.SAFE/GRANULE/L2A_T14RMP_A022703_20191027T171522/IMG_DATA/R10m/T14RMP_20191027T171421_B03_10m.tif?st=2023-10-19T20%3A07%3A51Z&se=2023-10-20T20%3A52%3A51Z&sp=rl&sv=2021-06-08&sr=c&skoid=c85c15d6-d1ae-42d4-af60-e2ca0f81359b&sktid=72f988bf-86f1-41af-91ab-2d7cd011db47&skt=2023-10-20T18%3A39%3A23Z&ske=2023-10-27T18%3A39%3A23Z&sks=b&skv=2021-06-08&sig=I14J535y06XeUfYNMJm7nq7mMRmfdHIC5teraisQ3UQ%3D'],\n",
       "  'nir': ['https://sentinel2l2a01.blob.core.windows.net/sentinel2-l2/14/R/MP/2019/10/27/S2A_MSIL2A_20191027T171421_N0212_R112_T14RMP_20201004T064142.SAFE/GRANULE/L2A_T14RMP_A022703_20191027T171522/IMG_DATA/R10m/T14RMP_20191027T171421_B08_10m.tif?st=2023-10-19T20%3A07%3A51Z&se=2023-10-20T20%3A52%3A51Z&sp=rl&sv=2021-06-08&sr=c&skoid=c85c15d6-d1ae-42d4-af60-e2ca0f81359b&sktid=72f988bf-86f1-41af-91ab-2d7cd011db47&skt=2023-10-20T18%3A39%3A23Z&ske=2023-10-27T18%3A39%3A23Z&sks=b&skv=2021-06-08&sig=I14J535y06XeUfYNMJm7nq7mMRmfdHIC5teraisQ3UQ%3D']},\n",
       " datetime.date(2019, 10, 17): {'green': ['https://sentinel2l2a01.blob.core.windows.net/sentinel2-l2/14/R/MP/2019/10/17/S2A_MSIL2A_20191017T171321_N0212_R112_T14RMP_20201004T031736.SAFE/GRANULE/L2A_T14RMP_A022560_20191017T171528/IMG_DATA/R10m/T14RMP_20191017T171321_B03_10m.tif?st=2023-10-19T20%3A07%3A51Z&se=2023-10-20T20%3A52%3A51Z&sp=rl&sv=2021-06-08&sr=c&skoid=c85c15d6-d1ae-42d4-af60-e2ca0f81359b&sktid=72f988bf-86f1-41af-91ab-2d7cd011db47&skt=2023-10-20T18%3A39%3A23Z&ske=2023-10-27T18%3A39%3A23Z&sks=b&skv=2021-06-08&sig=I14J535y06XeUfYNMJm7nq7mMRmfdHIC5teraisQ3UQ%3D'],\n",
       "  'nir': ['https://sentinel2l2a01.blob.core.windows.net/sentinel2-l2/14/R/MP/2019/10/17/S2A_MSIL2A_20191017T171321_N0212_R112_T14RMP_20201004T031736.SAFE/GRANULE/L2A_T14RMP_A022560_20191017T171528/IMG_DATA/R10m/T14RMP_20191017T171321_B08_10m.tif?st=2023-10-19T20%3A07%3A51Z&se=2023-10-20T20%3A52%3A51Z&sp=rl&sv=2021-06-08&sr=c&skoid=c85c15d6-d1ae-42d4-af60-e2ca0f81359b&sktid=72f988bf-86f1-41af-91ab-2d7cd011db47&skt=2023-10-20T18%3A39%3A23Z&ske=2023-10-27T18%3A39%3A23Z&sks=b&skv=2021-06-08&sig=I14J535y06XeUfYNMJm7nq7mMRmfdHIC5teraisQ3UQ%3D']},\n",
       " datetime.date(2019, 11, 16): {'green': ['https://sentinel2l2a01.blob.core.windows.net/sentinel2-l2/14/R/MP/2019/11/16/S2A_MSIL2A_20191116T171601_N0212_R112_T14RMP_20201003T170333.SAFE/GRANULE/L2A_T14RMP_A022989_20191116T171813/IMG_DATA/R10m/T14RMP_20191116T171601_B03_10m.tif?st=2023-10-19T20%3A07%3A51Z&se=2023-10-20T20%3A52%3A51Z&sp=rl&sv=2021-06-08&sr=c&skoid=c85c15d6-d1ae-42d4-af60-e2ca0f81359b&sktid=72f988bf-86f1-41af-91ab-2d7cd011db47&skt=2023-10-20T18%3A39%3A23Z&ske=2023-10-27T18%3A39%3A23Z&sks=b&skv=2021-06-08&sig=I14J535y06XeUfYNMJm7nq7mMRmfdHIC5teraisQ3UQ%3D'],\n",
       "  'nir': ['https://sentinel2l2a01.blob.core.windows.net/sentinel2-l2/14/R/MP/2019/11/16/S2A_MSIL2A_20191116T171601_N0212_R112_T14RMP_20201003T170333.SAFE/GRANULE/L2A_T14RMP_A022989_20191116T171813/IMG_DATA/R10m/T14RMP_20191116T171601_B08_10m.tif?st=2023-10-19T20%3A07%3A51Z&se=2023-10-20T20%3A52%3A51Z&sp=rl&sv=2021-06-08&sr=c&skoid=c85c15d6-d1ae-42d4-af60-e2ca0f81359b&sktid=72f988bf-86f1-41af-91ab-2d7cd011db47&skt=2023-10-20T18%3A39%3A23Z&ske=2023-10-27T18%3A39%3A23Z&sks=b&skv=2021-06-08&sig=I14J535y06XeUfYNMJm7nq7mMRmfdHIC5teraisQ3UQ%3D']},\n",
       " datetime.date(2019, 11, 1): {'green': ['https://sentinel2l2a01.blob.core.windows.net/sentinel2-l2/14/R/MP/2019/11/01/S2B_MSIL2A_20191101T171449_N0212_R112_T14RMP_20201003T120620.SAFE/GRANULE/L2A_T14RMP_A013866_20191101T171923/IMG_DATA/R10m/T14RMP_20191101T171449_B03_10m.tif?st=2023-10-19T20%3A07%3A51Z&se=2023-10-20T20%3A52%3A51Z&sp=rl&sv=2021-06-08&sr=c&skoid=c85c15d6-d1ae-42d4-af60-e2ca0f81359b&sktid=72f988bf-86f1-41af-91ab-2d7cd011db47&skt=2023-10-20T18%3A39%3A23Z&ske=2023-10-27T18%3A39%3A23Z&sks=b&skv=2021-06-08&sig=I14J535y06XeUfYNMJm7nq7mMRmfdHIC5teraisQ3UQ%3D'],\n",
       "  'nir': ['https://sentinel2l2a01.blob.core.windows.net/sentinel2-l2/14/R/MP/2019/11/01/S2B_MSIL2A_20191101T171449_N0212_R112_T14RMP_20201003T120620.SAFE/GRANULE/L2A_T14RMP_A013866_20191101T171923/IMG_DATA/R10m/T14RMP_20191101T171449_B08_10m.tif?st=2023-10-19T20%3A07%3A51Z&se=2023-10-20T20%3A52%3A51Z&sp=rl&sv=2021-06-08&sr=c&skoid=c85c15d6-d1ae-42d4-af60-e2ca0f81359b&sktid=72f988bf-86f1-41af-91ab-2d7cd011db47&skt=2023-10-20T18%3A39%3A23Z&ske=2023-10-27T18%3A39%3A23Z&sks=b&skv=2021-06-08&sig=I14J535y06XeUfYNMJm7nq7mMRmfdHIC5teraisQ3UQ%3D']},\n",
       " datetime.date(2020, 1, 5): {'green': ['https://sentinel2l2a01.blob.core.windows.net/sentinel2-l2/14/R/MP/2020/01/05/S2A_MSIL2A_20200105T171711_N0212_R112_T14RMP_20201002T231243.SAFE/GRANULE/L2A_T14RMP_A023704_20200105T171930/IMG_DATA/R10m/T14RMP_20200105T171711_B03_10m.tif?st=2023-10-19T20%3A07%3A51Z&se=2023-10-20T20%3A52%3A51Z&sp=rl&sv=2021-06-08&sr=c&skoid=c85c15d6-d1ae-42d4-af60-e2ca0f81359b&sktid=72f988bf-86f1-41af-91ab-2d7cd011db47&skt=2023-10-20T18%3A39%3A23Z&ske=2023-10-27T18%3A39%3A23Z&sks=b&skv=2021-06-08&sig=I14J535y06XeUfYNMJm7nq7mMRmfdHIC5teraisQ3UQ%3D'],\n",
       "  'nir': ['https://sentinel2l2a01.blob.core.windows.net/sentinel2-l2/14/R/MP/2020/01/05/S2A_MSIL2A_20200105T171711_N0212_R112_T14RMP_20201002T231243.SAFE/GRANULE/L2A_T14RMP_A023704_20200105T171930/IMG_DATA/R10m/T14RMP_20200105T171711_B08_10m.tif?st=2023-10-19T20%3A07%3A51Z&se=2023-10-20T20%3A52%3A51Z&sp=rl&sv=2021-06-08&sr=c&skoid=c85c15d6-d1ae-42d4-af60-e2ca0f81359b&sktid=72f988bf-86f1-41af-91ab-2d7cd011db47&skt=2023-10-20T18%3A39%3A23Z&ske=2023-10-27T18%3A39%3A23Z&sks=b&skv=2021-06-08&sig=I14J535y06XeUfYNMJm7nq7mMRmfdHIC5teraisQ3UQ%3D']},\n",
       " datetime.date(2020, 3, 25): {'green': ['https://sentinel2l2a01.blob.core.windows.net/sentinel2-l2/14/R/MP/2020/03/25/S2A_MSIL2A_20200325T170931_N0212_R112_T14RMP_20201019T112655.SAFE/GRANULE/L2A_T14RMP_A024848_20200325T171927/IMG_DATA/R10m/T14RMP_20200325T170931_B03_10m.tif?st=2023-10-19T20%3A07%3A51Z&se=2023-10-20T20%3A52%3A51Z&sp=rl&sv=2021-06-08&sr=c&skoid=c85c15d6-d1ae-42d4-af60-e2ca0f81359b&sktid=72f988bf-86f1-41af-91ab-2d7cd011db47&skt=2023-10-20T18%3A39%3A23Z&ske=2023-10-27T18%3A39%3A23Z&sks=b&skv=2021-06-08&sig=I14J535y06XeUfYNMJm7nq7mMRmfdHIC5teraisQ3UQ%3D'],\n",
       "  'nir': ['https://sentinel2l2a01.blob.core.windows.net/sentinel2-l2/14/R/MP/2020/03/25/S2A_MSIL2A_20200325T170931_N0212_R112_T14RMP_20201019T112655.SAFE/GRANULE/L2A_T14RMP_A024848_20200325T171927/IMG_DATA/R10m/T14RMP_20200325T170931_B08_10m.tif?st=2023-10-19T20%3A07%3A51Z&se=2023-10-20T20%3A52%3A51Z&sp=rl&sv=2021-06-08&sr=c&skoid=c85c15d6-d1ae-42d4-af60-e2ca0f81359b&sktid=72f988bf-86f1-41af-91ab-2d7cd011db47&skt=2023-10-20T18%3A39%3A23Z&ske=2023-10-27T18%3A39%3A23Z&sks=b&skv=2021-06-08&sig=I14J535y06XeUfYNMJm7nq7mMRmfdHIC5teraisQ3UQ%3D']},\n",
       " datetime.date(2020, 5, 19): {'green': ['https://sentinel2l2a01.blob.core.windows.net/sentinel2-l2/14/R/MP/2020/05/19/S2B_MSIL2A_20200519T170849_N0212_R112_T14RMP_20200910T064111.SAFE/GRANULE/L2A_T14RMP_A016726_20200519T171832/IMG_DATA/R10m/T14RMP_20200519T170849_B03_10m.tif?st=2023-10-19T20%3A07%3A51Z&se=2023-10-20T20%3A52%3A51Z&sp=rl&sv=2021-06-08&sr=c&skoid=c85c15d6-d1ae-42d4-af60-e2ca0f81359b&sktid=72f988bf-86f1-41af-91ab-2d7cd011db47&skt=2023-10-20T18%3A39%3A23Z&ske=2023-10-27T18%3A39%3A23Z&sks=b&skv=2021-06-08&sig=I14J535y06XeUfYNMJm7nq7mMRmfdHIC5teraisQ3UQ%3D'],\n",
       "  'nir': ['https://sentinel2l2a01.blob.core.windows.net/sentinel2-l2/14/R/MP/2020/05/19/S2B_MSIL2A_20200519T170849_N0212_R112_T14RMP_20200910T064111.SAFE/GRANULE/L2A_T14RMP_A016726_20200519T171832/IMG_DATA/R10m/T14RMP_20200519T170849_B08_10m.tif?st=2023-10-19T20%3A07%3A51Z&se=2023-10-20T20%3A52%3A51Z&sp=rl&sv=2021-06-08&sr=c&skoid=c85c15d6-d1ae-42d4-af60-e2ca0f81359b&sktid=72f988bf-86f1-41af-91ab-2d7cd011db47&skt=2023-10-20T18%3A39%3A23Z&ske=2023-10-27T18%3A39%3A23Z&sks=b&skv=2021-06-08&sig=I14J535y06XeUfYNMJm7nq7mMRmfdHIC5teraisQ3UQ%3D']},\n",
       " datetime.date(2020, 5, 4): {'green': ['https://sentinel2l2a01.blob.core.windows.net/sentinel2-l2/14/R/MP/2020/05/04/S2A_MSIL2A_20200504T170901_N0212_R112_T14RMP_20200920T112549.SAFE/GRANULE/L2A_T14RMP_A025420_20200504T171658/IMG_DATA/R10m/T14RMP_20200504T170901_B03_10m.tif?st=2023-10-19T20%3A07%3A51Z&se=2023-10-20T20%3A52%3A51Z&sp=rl&sv=2021-06-08&sr=c&skoid=c85c15d6-d1ae-42d4-af60-e2ca0f81359b&sktid=72f988bf-86f1-41af-91ab-2d7cd011db47&skt=2023-10-20T18%3A39%3A23Z&ske=2023-10-27T18%3A39%3A23Z&sks=b&skv=2021-06-08&sig=I14J535y06XeUfYNMJm7nq7mMRmfdHIC5teraisQ3UQ%3D'],\n",
       "  'nir': ['https://sentinel2l2a01.blob.core.windows.net/sentinel2-l2/14/R/MP/2020/05/04/S2A_MSIL2A_20200504T170901_N0212_R112_T14RMP_20200920T112549.SAFE/GRANULE/L2A_T14RMP_A025420_20200504T171658/IMG_DATA/R10m/T14RMP_20200504T170901_B08_10m.tif?st=2023-10-19T20%3A07%3A51Z&se=2023-10-20T20%3A52%3A51Z&sp=rl&sv=2021-06-08&sr=c&skoid=c85c15d6-d1ae-42d4-af60-e2ca0f81359b&sktid=72f988bf-86f1-41af-91ab-2d7cd011db47&skt=2023-10-20T18%3A39%3A23Z&ske=2023-10-27T18%3A39%3A23Z&sks=b&skv=2021-06-08&sig=I14J535y06XeUfYNMJm7nq7mMRmfdHIC5teraisQ3UQ%3D']},\n",
       " datetime.date(2020, 6, 8): {'green': ['https://sentinel2l2a01.blob.core.windows.net/sentinel2-l2/14/R/MP/2020/06/08/S2B_MSIL2A_20200608T170849_N0212_R112_T14RMP_20200918T184935.SAFE/GRANULE/L2A_T14RMP_A017012_20200608T172508/IMG_DATA/R10m/T14RMP_20200608T170849_B03_10m.tif?st=2023-10-19T20%3A07%3A51Z&se=2023-10-20T20%3A52%3A51Z&sp=rl&sv=2021-06-08&sr=c&skoid=c85c15d6-d1ae-42d4-af60-e2ca0f81359b&sktid=72f988bf-86f1-41af-91ab-2d7cd011db47&skt=2023-10-20T18%3A39%3A23Z&ske=2023-10-27T18%3A39%3A23Z&sks=b&skv=2021-06-08&sig=I14J535y06XeUfYNMJm7nq7mMRmfdHIC5teraisQ3UQ%3D'],\n",
       "  'nir': ['https://sentinel2l2a01.blob.core.windows.net/sentinel2-l2/14/R/MP/2020/06/08/S2B_MSIL2A_20200608T170849_N0212_R112_T14RMP_20200918T184935.SAFE/GRANULE/L2A_T14RMP_A017012_20200608T172508/IMG_DATA/R10m/T14RMP_20200608T170849_B08_10m.tif?st=2023-10-19T20%3A07%3A51Z&se=2023-10-20T20%3A52%3A51Z&sp=rl&sv=2021-06-08&sr=c&skoid=c85c15d6-d1ae-42d4-af60-e2ca0f81359b&sktid=72f988bf-86f1-41af-91ab-2d7cd011db47&skt=2023-10-20T18%3A39%3A23Z&ske=2023-10-27T18%3A39%3A23Z&sks=b&skv=2021-06-08&sig=I14J535y06XeUfYNMJm7nq7mMRmfdHIC5teraisQ3UQ%3D']},\n",
       " datetime.date(2020, 7, 13): {'green': ['https://sentinel2l2a01.blob.core.windows.net/sentinel2-l2/14/R/MP/2020/07/13/S2A_MSIL2A_20200713T170901_N0212_R112_T14RMP_20200913T010010.SAFE/GRANULE/L2A_T14RMP_A026421_20200713T171937/IMG_DATA/R10m/T14RMP_20200713T170901_B03_10m.tif?st=2023-10-19T20%3A07%3A51Z&se=2023-10-20T20%3A52%3A51Z&sp=rl&sv=2021-06-08&sr=c&skoid=c85c15d6-d1ae-42d4-af60-e2ca0f81359b&sktid=72f988bf-86f1-41af-91ab-2d7cd011db47&skt=2023-10-20T18%3A39%3A23Z&ske=2023-10-27T18%3A39%3A23Z&sks=b&skv=2021-06-08&sig=I14J535y06XeUfYNMJm7nq7mMRmfdHIC5teraisQ3UQ%3D'],\n",
       "  'nir': ['https://sentinel2l2a01.blob.core.windows.net/sentinel2-l2/14/R/MP/2020/07/13/S2A_MSIL2A_20200713T170901_N0212_R112_T14RMP_20200913T010010.SAFE/GRANULE/L2A_T14RMP_A026421_20200713T171937/IMG_DATA/R10m/T14RMP_20200713T170901_B08_10m.tif?st=2023-10-19T20%3A07%3A51Z&se=2023-10-20T20%3A52%3A51Z&sp=rl&sv=2021-06-08&sr=c&skoid=c85c15d6-d1ae-42d4-af60-e2ca0f81359b&sktid=72f988bf-86f1-41af-91ab-2d7cd011db47&skt=2023-10-20T18%3A39%3A23Z&ske=2023-10-27T18%3A39%3A23Z&sks=b&skv=2021-06-08&sig=I14J535y06XeUfYNMJm7nq7mMRmfdHIC5teraisQ3UQ%3D']},\n",
       " datetime.date(2020, 7, 8): {'green': ['https://sentinel2l2a01.blob.core.windows.net/sentinel2-l2/14/R/MP/2020/07/08/S2B_MSIL2A_20200708T170849_N0212_R112_T14RMP_20200918T184939.SAFE/GRANULE/L2A_T14RMP_A017441_20200708T172504/IMG_DATA/R10m/T14RMP_20200708T170849_B03_10m.tif?st=2023-10-19T20%3A07%3A51Z&se=2023-10-20T20%3A52%3A51Z&sp=rl&sv=2021-06-08&sr=c&skoid=c85c15d6-d1ae-42d4-af60-e2ca0f81359b&sktid=72f988bf-86f1-41af-91ab-2d7cd011db47&skt=2023-10-20T18%3A39%3A23Z&ske=2023-10-27T18%3A39%3A23Z&sks=b&skv=2021-06-08&sig=I14J535y06XeUfYNMJm7nq7mMRmfdHIC5teraisQ3UQ%3D'],\n",
       "  'nir': ['https://sentinel2l2a01.blob.core.windows.net/sentinel2-l2/14/R/MP/2020/07/08/S2B_MSIL2A_20200708T170849_N0212_R112_T14RMP_20200918T184939.SAFE/GRANULE/L2A_T14RMP_A017441_20200708T172504/IMG_DATA/R10m/T14RMP_20200708T170849_B08_10m.tif?st=2023-10-19T20%3A07%3A51Z&se=2023-10-20T20%3A52%3A51Z&sp=rl&sv=2021-06-08&sr=c&skoid=c85c15d6-d1ae-42d4-af60-e2ca0f81359b&sktid=72f988bf-86f1-41af-91ab-2d7cd011db47&skt=2023-10-20T18%3A39%3A23Z&ske=2023-10-27T18%3A39%3A23Z&sks=b&skv=2021-06-08&sig=I14J535y06XeUfYNMJm7nq7mMRmfdHIC5teraisQ3UQ%3D']},\n",
       " datetime.date(2020, 7, 3): {'green': ['https://sentinel2l2a01.blob.core.windows.net/sentinel2-l2/14/R/MP/2020/07/03/S2A_MSIL2A_20200703T170901_N0212_R112_T14RMP_20200825T013629.SAFE/GRANULE/L2A_T14RMP_A026278_20200703T171739/IMG_DATA/R10m/T14RMP_20200703T170901_B03_10m.tif?st=2023-10-19T20%3A07%3A51Z&se=2023-10-20T20%3A52%3A51Z&sp=rl&sv=2021-06-08&sr=c&skoid=c85c15d6-d1ae-42d4-af60-e2ca0f81359b&sktid=72f988bf-86f1-41af-91ab-2d7cd011db47&skt=2023-10-20T18%3A39%3A23Z&ske=2023-10-27T18%3A39%3A23Z&sks=b&skv=2021-06-08&sig=I14J535y06XeUfYNMJm7nq7mMRmfdHIC5teraisQ3UQ%3D'],\n",
       "  'nir': ['https://sentinel2l2a01.blob.core.windows.net/sentinel2-l2/14/R/MP/2020/07/03/S2A_MSIL2A_20200703T170901_N0212_R112_T14RMP_20200825T013629.SAFE/GRANULE/L2A_T14RMP_A026278_20200703T171739/IMG_DATA/R10m/T14RMP_20200703T170901_B08_10m.tif?st=2023-10-19T20%3A07%3A51Z&se=2023-10-20T20%3A52%3A51Z&sp=rl&sv=2021-06-08&sr=c&skoid=c85c15d6-d1ae-42d4-af60-e2ca0f81359b&sktid=72f988bf-86f1-41af-91ab-2d7cd011db47&skt=2023-10-20T18%3A39%3A23Z&ske=2023-10-27T18%3A39%3A23Z&sks=b&skv=2021-06-08&sig=I14J535y06XeUfYNMJm7nq7mMRmfdHIC5teraisQ3UQ%3D']},\n",
       " datetime.date(2020, 8, 27): {'green': ['https://sentinel2l2a01.blob.core.windows.net/sentinel2-l2/14/R/MP/2020/08/27/S2B_MSIL2A_20200827T170849_N0212_R112_T14RMP_20200907T082240.SAFE/GRANULE/L2A_T14RMP_A018156_20200827T171832/IMG_DATA/R10m/T14RMP_20200827T170849_B03_10m.tif?st=2023-10-19T20%3A07%3A51Z&se=2023-10-20T20%3A52%3A51Z&sp=rl&sv=2021-06-08&sr=c&skoid=c85c15d6-d1ae-42d4-af60-e2ca0f81359b&sktid=72f988bf-86f1-41af-91ab-2d7cd011db47&skt=2023-10-20T18%3A39%3A23Z&ske=2023-10-27T18%3A39%3A23Z&sks=b&skv=2021-06-08&sig=I14J535y06XeUfYNMJm7nq7mMRmfdHIC5teraisQ3UQ%3D'],\n",
       "  'nir': ['https://sentinel2l2a01.blob.core.windows.net/sentinel2-l2/14/R/MP/2020/08/27/S2B_MSIL2A_20200827T170849_N0212_R112_T14RMP_20200907T082240.SAFE/GRANULE/L2A_T14RMP_A018156_20200827T171832/IMG_DATA/R10m/T14RMP_20200827T170849_B08_10m.tif?st=2023-10-19T20%3A07%3A51Z&se=2023-10-20T20%3A52%3A51Z&sp=rl&sv=2021-06-08&sr=c&skoid=c85c15d6-d1ae-42d4-af60-e2ca0f81359b&sktid=72f988bf-86f1-41af-91ab-2d7cd011db47&skt=2023-10-20T18%3A39%3A23Z&ske=2023-10-27T18%3A39%3A23Z&sks=b&skv=2021-06-08&sig=I14J535y06XeUfYNMJm7nq7mMRmfdHIC5teraisQ3UQ%3D']},\n",
       " datetime.date(2020, 8, 22): {'green': ['https://sentinel2l2a01.blob.core.windows.net/sentinel2-l2/14/R/MP/2020/08/22/S2A_MSIL2A_20200822T170901_N0212_R112_T14RMP_20200918T184944.SAFE/GRANULE/L2A_T14RMP_A026993_20200822T172311/IMG_DATA/R10m/T14RMP_20200822T170901_B03_10m.tif?st=2023-10-19T20%3A07%3A51Z&se=2023-10-20T20%3A52%3A51Z&sp=rl&sv=2021-06-08&sr=c&skoid=c85c15d6-d1ae-42d4-af60-e2ca0f81359b&sktid=72f988bf-86f1-41af-91ab-2d7cd011db47&skt=2023-10-20T18%3A39%3A23Z&ske=2023-10-27T18%3A39%3A23Z&sks=b&skv=2021-06-08&sig=I14J535y06XeUfYNMJm7nq7mMRmfdHIC5teraisQ3UQ%3D'],\n",
       "  'nir': ['https://sentinel2l2a01.blob.core.windows.net/sentinel2-l2/14/R/MP/2020/08/22/S2A_MSIL2A_20200822T170901_N0212_R112_T14RMP_20200918T184944.SAFE/GRANULE/L2A_T14RMP_A026993_20200822T172311/IMG_DATA/R10m/T14RMP_20200822T170901_B08_10m.tif?st=2023-10-19T20%3A07%3A51Z&se=2023-10-20T20%3A52%3A51Z&sp=rl&sv=2021-06-08&sr=c&skoid=c85c15d6-d1ae-42d4-af60-e2ca0f81359b&sktid=72f988bf-86f1-41af-91ab-2d7cd011db47&skt=2023-10-20T18%3A39%3A23Z&ske=2023-10-27T18%3A39%3A23Z&sks=b&skv=2021-06-08&sig=I14J535y06XeUfYNMJm7nq7mMRmfdHIC5teraisQ3UQ%3D']},\n",
       " datetime.date(2020, 8, 17): {'green': ['https://sentinel2l2a01.blob.core.windows.net/sentinel2-l2/14/R/MP/2020/08/17/S2B_MSIL2A_20200817T170849_N0212_R112_T14RMP_20200918T184942.SAFE/GRANULE/L2A_T14RMP_A018013_20200817T172349/IMG_DATA/R10m/T14RMP_20200817T170849_B03_10m.tif?st=2023-10-19T20%3A07%3A51Z&se=2023-10-20T20%3A52%3A51Z&sp=rl&sv=2021-06-08&sr=c&skoid=c85c15d6-d1ae-42d4-af60-e2ca0f81359b&sktid=72f988bf-86f1-41af-91ab-2d7cd011db47&skt=2023-10-20T18%3A39%3A23Z&ske=2023-10-27T18%3A39%3A23Z&sks=b&skv=2021-06-08&sig=I14J535y06XeUfYNMJm7nq7mMRmfdHIC5teraisQ3UQ%3D'],\n",
       "  'nir': ['https://sentinel2l2a01.blob.core.windows.net/sentinel2-l2/14/R/MP/2020/08/17/S2B_MSIL2A_20200817T170849_N0212_R112_T14RMP_20200918T184942.SAFE/GRANULE/L2A_T14RMP_A018013_20200817T172349/IMG_DATA/R10m/T14RMP_20200817T170849_B08_10m.tif?st=2023-10-19T20%3A07%3A51Z&se=2023-10-20T20%3A52%3A51Z&sp=rl&sv=2021-06-08&sr=c&skoid=c85c15d6-d1ae-42d4-af60-e2ca0f81359b&sktid=72f988bf-86f1-41af-91ab-2d7cd011db47&skt=2023-10-20T18%3A39%3A23Z&ske=2023-10-27T18%3A39%3A23Z&sks=b&skv=2021-06-08&sig=I14J535y06XeUfYNMJm7nq7mMRmfdHIC5teraisQ3UQ%3D']},\n",
       " datetime.date(2020, 8, 12): {'green': ['https://sentinel2l2a01.blob.core.windows.net/sentinel2-l2/14/R/MP/2020/08/12/S2A_MSIL2A_20200812T170901_N0212_R112_T14RMP_20200918T184938.SAFE/GRANULE/L2A_T14RMP_A026850_20200812T171726/IMG_DATA/R10m/T14RMP_20200812T170901_B03_10m.tif?st=2023-10-19T20%3A07%3A51Z&se=2023-10-20T20%3A52%3A51Z&sp=rl&sv=2021-06-08&sr=c&skoid=c85c15d6-d1ae-42d4-af60-e2ca0f81359b&sktid=72f988bf-86f1-41af-91ab-2d7cd011db47&skt=2023-10-20T18%3A39%3A23Z&ske=2023-10-27T18%3A39%3A23Z&sks=b&skv=2021-06-08&sig=I14J535y06XeUfYNMJm7nq7mMRmfdHIC5teraisQ3UQ%3D'],\n",
       "  'nir': ['https://sentinel2l2a01.blob.core.windows.net/sentinel2-l2/14/R/MP/2020/08/12/S2A_MSIL2A_20200812T170901_N0212_R112_T14RMP_20200918T184938.SAFE/GRANULE/L2A_T14RMP_A026850_20200812T171726/IMG_DATA/R10m/T14RMP_20200812T170901_B08_10m.tif?st=2023-10-19T20%3A07%3A51Z&se=2023-10-20T20%3A52%3A51Z&sp=rl&sv=2021-06-08&sr=c&skoid=c85c15d6-d1ae-42d4-af60-e2ca0f81359b&sktid=72f988bf-86f1-41af-91ab-2d7cd011db47&skt=2023-10-20T18%3A39%3A23Z&ske=2023-10-27T18%3A39%3A23Z&sks=b&skv=2021-06-08&sig=I14J535y06XeUfYNMJm7nq7mMRmfdHIC5teraisQ3UQ%3D']},\n",
       " datetime.date(2020, 9, 26): {'green': ['https://sentinel2l2a01.blob.core.windows.net/sentinel2-l2/14/R/MP/2020/09/26/S2B_MSIL2A_20200926T170959_N0212_R112_T14RMP_20200927T201249.SAFE/GRANULE/L2A_T14RMP_A018585_20200926T172151/IMG_DATA/R10m/T14RMP_20200926T170959_B03_10m.tif?st=2023-10-19T20%3A07%3A51Z&se=2023-10-20T20%3A52%3A51Z&sp=rl&sv=2021-06-08&sr=c&skoid=c85c15d6-d1ae-42d4-af60-e2ca0f81359b&sktid=72f988bf-86f1-41af-91ab-2d7cd011db47&skt=2023-10-20T18%3A39%3A23Z&ske=2023-10-27T18%3A39%3A23Z&sks=b&skv=2021-06-08&sig=I14J535y06XeUfYNMJm7nq7mMRmfdHIC5teraisQ3UQ%3D'],\n",
       "  'nir': ['https://sentinel2l2a01.blob.core.windows.net/sentinel2-l2/14/R/MP/2020/09/26/S2B_MSIL2A_20200926T170959_N0212_R112_T14RMP_20200927T201249.SAFE/GRANULE/L2A_T14RMP_A018585_20200926T172151/IMG_DATA/R10m/T14RMP_20200926T170959_B08_10m.tif?st=2023-10-19T20%3A07%3A51Z&se=2023-10-20T20%3A52%3A51Z&sp=rl&sv=2021-06-08&sr=c&skoid=c85c15d6-d1ae-42d4-af60-e2ca0f81359b&sktid=72f988bf-86f1-41af-91ab-2d7cd011db47&skt=2023-10-20T18%3A39%3A23Z&ske=2023-10-27T18%3A39%3A23Z&sks=b&skv=2021-06-08&sig=I14J535y06XeUfYNMJm7nq7mMRmfdHIC5teraisQ3UQ%3D']},\n",
       " datetime.date(2020, 9, 1): {'green': ['https://sentinel2l2a01.blob.core.windows.net/sentinel2-l2/14/R/MP/2020/09/01/S2A_MSIL2A_20200901T170901_N0212_R112_T14RMP_20210513T165437.SAFE/GRANULE/L2A_T14RMP_A027136_20200901T171902/IMG_DATA/R10m/T14RMP_20200901T170901_B03_10m.tif?st=2023-10-19T20%3A07%3A51Z&se=2023-10-20T20%3A52%3A51Z&sp=rl&sv=2021-06-08&sr=c&skoid=c85c15d6-d1ae-42d4-af60-e2ca0f81359b&sktid=72f988bf-86f1-41af-91ab-2d7cd011db47&skt=2023-10-20T18%3A39%3A23Z&ske=2023-10-27T18%3A39%3A23Z&sks=b&skv=2021-06-08&sig=I14J535y06XeUfYNMJm7nq7mMRmfdHIC5teraisQ3UQ%3D'],\n",
       "  'nir': ['https://sentinel2l2a01.blob.core.windows.net/sentinel2-l2/14/R/MP/2020/09/01/S2A_MSIL2A_20200901T170901_N0212_R112_T14RMP_20210513T165437.SAFE/GRANULE/L2A_T14RMP_A027136_20200901T171902/IMG_DATA/R10m/T14RMP_20200901T170901_B08_10m.tif?st=2023-10-19T20%3A07%3A51Z&se=2023-10-20T20%3A52%3A51Z&sp=rl&sv=2021-06-08&sr=c&skoid=c85c15d6-d1ae-42d4-af60-e2ca0f81359b&sktid=72f988bf-86f1-41af-91ab-2d7cd011db47&skt=2023-10-20T18%3A39%3A23Z&ske=2023-10-27T18%3A39%3A23Z&sks=b&skv=2021-06-08&sig=I14J535y06XeUfYNMJm7nq7mMRmfdHIC5teraisQ3UQ%3D']},\n",
       " datetime.date(2020, 10, 31): {'green': ['https://sentinel2l2a01.blob.core.windows.net/sentinel2-l2/14/R/MP/2020/10/31/S2A_MSIL2A_20201031T171451_N0212_R112_T14RMP_20201102T052439.SAFE/GRANULE/L2A_T14RMP_A027994_20201031T171918/IMG_DATA/R10m/T14RMP_20201031T171451_B03_10m.tif?st=2023-10-19T20%3A07%3A51Z&se=2023-10-20T20%3A52%3A51Z&sp=rl&sv=2021-06-08&sr=c&skoid=c85c15d6-d1ae-42d4-af60-e2ca0f81359b&sktid=72f988bf-86f1-41af-91ab-2d7cd011db47&skt=2023-10-20T18%3A39%3A23Z&ske=2023-10-27T18%3A39%3A23Z&sks=b&skv=2021-06-08&sig=I14J535y06XeUfYNMJm7nq7mMRmfdHIC5teraisQ3UQ%3D'],\n",
       "  'nir': ['https://sentinel2l2a01.blob.core.windows.net/sentinel2-l2/14/R/MP/2020/10/31/S2A_MSIL2A_20201031T171451_N0212_R112_T14RMP_20201102T052439.SAFE/GRANULE/L2A_T14RMP_A027994_20201031T171918/IMG_DATA/R10m/T14RMP_20201031T171451_B08_10m.tif?st=2023-10-19T20%3A07%3A51Z&se=2023-10-20T20%3A52%3A51Z&sp=rl&sv=2021-06-08&sr=c&skoid=c85c15d6-d1ae-42d4-af60-e2ca0f81359b&sktid=72f988bf-86f1-41af-91ab-2d7cd011db47&skt=2023-10-20T18%3A39%3A23Z&ske=2023-10-27T18%3A39%3A23Z&sks=b&skv=2021-06-08&sig=I14J535y06XeUfYNMJm7nq7mMRmfdHIC5teraisQ3UQ%3D']},\n",
       " datetime.date(2020, 10, 6): {'green': ['https://sentinel2l2a01.blob.core.windows.net/sentinel2-l2/14/R/MP/2020/10/06/S2B_MSIL2A_20201006T171109_N0212_R112_T14RMP_20201010T061612.SAFE/GRANULE/L2A_T14RMP_A018728_20201006T172501/IMG_DATA/R10m/T14RMP_20201006T171109_B03_10m.tif?st=2023-10-19T20%3A07%3A51Z&se=2023-10-20T20%3A52%3A51Z&sp=rl&sv=2021-06-08&sr=c&skoid=c85c15d6-d1ae-42d4-af60-e2ca0f81359b&sktid=72f988bf-86f1-41af-91ab-2d7cd011db47&skt=2023-10-20T18%3A39%3A23Z&ske=2023-10-27T18%3A39%3A23Z&sks=b&skv=2021-06-08&sig=I14J535y06XeUfYNMJm7nq7mMRmfdHIC5teraisQ3UQ%3D'],\n",
       "  'nir': ['https://sentinel2l2a01.blob.core.windows.net/sentinel2-l2/14/R/MP/2020/10/06/S2B_MSIL2A_20201006T171109_N0212_R112_T14RMP_20201010T061612.SAFE/GRANULE/L2A_T14RMP_A018728_20201006T172501/IMG_DATA/R10m/T14RMP_20201006T171109_B08_10m.tif?st=2023-10-19T20%3A07%3A51Z&se=2023-10-20T20%3A52%3A51Z&sp=rl&sv=2021-06-08&sr=c&skoid=c85c15d6-d1ae-42d4-af60-e2ca0f81359b&sktid=72f988bf-86f1-41af-91ab-2d7cd011db47&skt=2023-10-20T18%3A39%3A23Z&ske=2023-10-27T18%3A39%3A23Z&sks=b&skv=2021-06-08&sig=I14J535y06XeUfYNMJm7nq7mMRmfdHIC5teraisQ3UQ%3D']},\n",
       " datetime.date(2020, 10, 1): {'green': ['https://sentinel2l2a01.blob.core.windows.net/sentinel2-l2/14/R/MP/2020/10/01/S2A_MSIL2A_20201001T171131_N0212_R112_T14RMP_20201004T072142.SAFE/GRANULE/L2A_T14RMP_A027565_20201001T171736/IMG_DATA/R10m/T14RMP_20201001T171131_B03_10m.tif?st=2023-10-19T20%3A07%3A51Z&se=2023-10-20T20%3A52%3A51Z&sp=rl&sv=2021-06-08&sr=c&skoid=c85c15d6-d1ae-42d4-af60-e2ca0f81359b&sktid=72f988bf-86f1-41af-91ab-2d7cd011db47&skt=2023-10-20T18%3A39%3A23Z&ske=2023-10-27T18%3A39%3A23Z&sks=b&skv=2021-06-08&sig=I14J535y06XeUfYNMJm7nq7mMRmfdHIC5teraisQ3UQ%3D'],\n",
       "  'nir': ['https://sentinel2l2a01.blob.core.windows.net/sentinel2-l2/14/R/MP/2020/10/01/S2A_MSIL2A_20201001T171131_N0212_R112_T14RMP_20201004T072142.SAFE/GRANULE/L2A_T14RMP_A027565_20201001T171736/IMG_DATA/R10m/T14RMP_20201001T171131_B08_10m.tif?st=2023-10-19T20%3A07%3A51Z&se=2023-10-20T20%3A52%3A51Z&sp=rl&sv=2021-06-08&sr=c&skoid=c85c15d6-d1ae-42d4-af60-e2ca0f81359b&sktid=72f988bf-86f1-41af-91ab-2d7cd011db47&skt=2023-10-20T18%3A39%3A23Z&ske=2023-10-27T18%3A39%3A23Z&sks=b&skv=2021-06-08&sig=I14J535y06XeUfYNMJm7nq7mMRmfdHIC5teraisQ3UQ%3D']},\n",
       " datetime.date(2020, 11, 20): {'green': ['https://sentinel2l2a01.blob.core.windows.net/sentinel2-l2/14/R/MP/2020/11/20/S2A_MSIL2A_20201120T171621_N0212_R112_T14RMP_20201122T021922.SAFE/GRANULE/L2A_T14RMP_A028280_20201120T172242/IMG_DATA/R10m/T14RMP_20201120T171621_B03_10m.tif?st=2023-10-19T20%3A07%3A51Z&se=2023-10-20T20%3A52%3A51Z&sp=rl&sv=2021-06-08&sr=c&skoid=c85c15d6-d1ae-42d4-af60-e2ca0f81359b&sktid=72f988bf-86f1-41af-91ab-2d7cd011db47&skt=2023-10-20T18%3A39%3A23Z&ske=2023-10-27T18%3A39%3A23Z&sks=b&skv=2021-06-08&sig=I14J535y06XeUfYNMJm7nq7mMRmfdHIC5teraisQ3UQ%3D'],\n",
       "  'nir': ['https://sentinel2l2a01.blob.core.windows.net/sentinel2-l2/14/R/MP/2020/11/20/S2A_MSIL2A_20201120T171621_N0212_R112_T14RMP_20201122T021922.SAFE/GRANULE/L2A_T14RMP_A028280_20201120T172242/IMG_DATA/R10m/T14RMP_20201120T171621_B08_10m.tif?st=2023-10-19T20%3A07%3A51Z&se=2023-10-20T20%3A52%3A51Z&sp=rl&sv=2021-06-08&sr=c&skoid=c85c15d6-d1ae-42d4-af60-e2ca0f81359b&sktid=72f988bf-86f1-41af-91ab-2d7cd011db47&skt=2023-10-20T18%3A39%3A23Z&ske=2023-10-27T18%3A39%3A23Z&sks=b&skv=2021-06-08&sig=I14J535y06XeUfYNMJm7nq7mMRmfdHIC5teraisQ3UQ%3D']},\n",
       " datetime.date(2020, 12, 30): {'green': ['https://sentinel2l2a01.blob.core.windows.net/sentinel2-l2/14/R/MP/2020/12/30/S2A_MSIL2A_20201230T171721_N0212_R112_T14RMP_20201231T054754.SAFE/GRANULE/L2A_T14RMP_A028852_20201230T172404/IMG_DATA/R10m/T14RMP_20201230T171721_B03_10m.tif?st=2023-10-19T20%3A07%3A51Z&se=2023-10-20T20%3A52%3A51Z&sp=rl&sv=2021-06-08&sr=c&skoid=c85c15d6-d1ae-42d4-af60-e2ca0f81359b&sktid=72f988bf-86f1-41af-91ab-2d7cd011db47&skt=2023-10-20T18%3A39%3A23Z&ske=2023-10-27T18%3A39%3A23Z&sks=b&skv=2021-06-08&sig=I14J535y06XeUfYNMJm7nq7mMRmfdHIC5teraisQ3UQ%3D'],\n",
       "  'nir': ['https://sentinel2l2a01.blob.core.windows.net/sentinel2-l2/14/R/MP/2020/12/30/S2A_MSIL2A_20201230T171721_N0212_R112_T14RMP_20201231T054754.SAFE/GRANULE/L2A_T14RMP_A028852_20201230T172404/IMG_DATA/R10m/T14RMP_20201230T171721_B08_10m.tif?st=2023-10-19T20%3A07%3A51Z&se=2023-10-20T20%3A52%3A51Z&sp=rl&sv=2021-06-08&sr=c&skoid=c85c15d6-d1ae-42d4-af60-e2ca0f81359b&sktid=72f988bf-86f1-41af-91ab-2d7cd011db47&skt=2023-10-20T18%3A39%3A23Z&ske=2023-10-27T18%3A39%3A23Z&sks=b&skv=2021-06-08&sig=I14J535y06XeUfYNMJm7nq7mMRmfdHIC5teraisQ3UQ%3D']},\n",
       " datetime.date(2020, 12, 20): {'green': ['https://sentinel2l2a01.blob.core.windows.net/sentinel2-l2/14/R/MP/2020/12/20/S2A_MSIL2A_20201220T171731_N0212_R112_T14RMP_20201221T003503.SAFE/GRANULE/L2A_T14RMP_A028709_20201220T172410/IMG_DATA/R10m/T14RMP_20201220T171731_B03_10m.tif?st=2023-10-19T20%3A07%3A51Z&se=2023-10-20T20%3A52%3A51Z&sp=rl&sv=2021-06-08&sr=c&skoid=c85c15d6-d1ae-42d4-af60-e2ca0f81359b&sktid=72f988bf-86f1-41af-91ab-2d7cd011db47&skt=2023-10-20T18%3A39%3A23Z&ske=2023-10-27T18%3A39%3A23Z&sks=b&skv=2021-06-08&sig=I14J535y06XeUfYNMJm7nq7mMRmfdHIC5teraisQ3UQ%3D'],\n",
       "  'nir': ['https://sentinel2l2a01.blob.core.windows.net/sentinel2-l2/14/R/MP/2020/12/20/S2A_MSIL2A_20201220T171731_N0212_R112_T14RMP_20201221T003503.SAFE/GRANULE/L2A_T14RMP_A028709_20201220T172410/IMG_DATA/R10m/T14RMP_20201220T171731_B08_10m.tif?st=2023-10-19T20%3A07%3A51Z&se=2023-10-20T20%3A52%3A51Z&sp=rl&sv=2021-06-08&sr=c&skoid=c85c15d6-d1ae-42d4-af60-e2ca0f81359b&sktid=72f988bf-86f1-41af-91ab-2d7cd011db47&skt=2023-10-20T18%3A39%3A23Z&ske=2023-10-27T18%3A39%3A23Z&sks=b&skv=2021-06-08&sig=I14J535y06XeUfYNMJm7nq7mMRmfdHIC5teraisQ3UQ%3D']},\n",
       " datetime.date(2020, 12, 15): {'green': ['https://sentinel2l2a01.blob.core.windows.net/sentinel2-l2/14/R/MP/2020/12/15/S2B_MSIL2A_20201215T171719_N0212_R112_T14RMP_20201216T041516.SAFE/GRANULE/L2A_T14RMP_A019729_20201215T171955/IMG_DATA/R10m/T14RMP_20201215T171719_B03_10m.tif?st=2023-10-19T20%3A07%3A51Z&se=2023-10-20T20%3A52%3A51Z&sp=rl&sv=2021-06-08&sr=c&skoid=c85c15d6-d1ae-42d4-af60-e2ca0f81359b&sktid=72f988bf-86f1-41af-91ab-2d7cd011db47&skt=2023-10-20T18%3A39%3A23Z&ske=2023-10-27T18%3A39%3A23Z&sks=b&skv=2021-06-08&sig=I14J535y06XeUfYNMJm7nq7mMRmfdHIC5teraisQ3UQ%3D'],\n",
       "  'nir': ['https://sentinel2l2a01.blob.core.windows.net/sentinel2-l2/14/R/MP/2020/12/15/S2B_MSIL2A_20201215T171719_N0212_R112_T14RMP_20201216T041516.SAFE/GRANULE/L2A_T14RMP_A019729_20201215T171955/IMG_DATA/R10m/T14RMP_20201215T171719_B08_10m.tif?st=2023-10-19T20%3A07%3A51Z&se=2023-10-20T20%3A52%3A51Z&sp=rl&sv=2021-06-08&sr=c&skoid=c85c15d6-d1ae-42d4-af60-e2ca0f81359b&sktid=72f988bf-86f1-41af-91ab-2d7cd011db47&skt=2023-10-20T18%3A39%3A23Z&ske=2023-10-27T18%3A39%3A23Z&sks=b&skv=2021-06-08&sig=I14J535y06XeUfYNMJm7nq7mMRmfdHIC5teraisQ3UQ%3D']},\n",
       " datetime.date(2021, 1, 4): {'green': ['https://sentinel2l2a01.blob.core.windows.net/sentinel2-l2/14/R/MP/2021/01/04/S2B_MSIL2A_20210104T171719_N0212_R112_T14RMP_20210105T151509.SAFE/GRANULE/L2A_T14RMP_A020015_20210104T171941/IMG_DATA/R10m/T14RMP_20210104T171719_B03_10m.tif?st=2023-10-19T20%3A07%3A51Z&se=2023-10-20T20%3A52%3A51Z&sp=rl&sv=2021-06-08&sr=c&skoid=c85c15d6-d1ae-42d4-af60-e2ca0f81359b&sktid=72f988bf-86f1-41af-91ab-2d7cd011db47&skt=2023-10-20T18%3A39%3A23Z&ske=2023-10-27T18%3A39%3A23Z&sks=b&skv=2021-06-08&sig=I14J535y06XeUfYNMJm7nq7mMRmfdHIC5teraisQ3UQ%3D'],\n",
       "  'nir': ['https://sentinel2l2a01.blob.core.windows.net/sentinel2-l2/14/R/MP/2021/01/04/S2B_MSIL2A_20210104T171719_N0212_R112_T14RMP_20210105T151509.SAFE/GRANULE/L2A_T14RMP_A020015_20210104T171941/IMG_DATA/R10m/T14RMP_20210104T171719_B08_10m.tif?st=2023-10-19T20%3A07%3A51Z&se=2023-10-20T20%3A52%3A51Z&sp=rl&sv=2021-06-08&sr=c&skoid=c85c15d6-d1ae-42d4-af60-e2ca0f81359b&sktid=72f988bf-86f1-41af-91ab-2d7cd011db47&skt=2023-10-20T18%3A39%3A23Z&ske=2023-10-27T18%3A39%3A23Z&sks=b&skv=2021-06-08&sig=I14J535y06XeUfYNMJm7nq7mMRmfdHIC5teraisQ3UQ%3D']},\n",
       " datetime.date(2021, 2, 3): {'green': ['https://sentinel2l2a01.blob.core.windows.net/sentinel2-l2/14/R/MP/2021/02/03/S2B_MSIL2A_20210203T171519_N0212_R112_T14RMP_20210208T140128.SAFE/GRANULE/L2A_T14RMP_A020444_20210203T172401/IMG_DATA/R10m/T14RMP_20210203T171519_B03_10m.tif?st=2023-10-19T20%3A07%3A51Z&se=2023-10-20T20%3A52%3A51Z&sp=rl&sv=2021-06-08&sr=c&skoid=c85c15d6-d1ae-42d4-af60-e2ca0f81359b&sktid=72f988bf-86f1-41af-91ab-2d7cd011db47&skt=2023-10-20T18%3A39%3A23Z&ske=2023-10-27T18%3A39%3A23Z&sks=b&skv=2021-06-08&sig=I14J535y06XeUfYNMJm7nq7mMRmfdHIC5teraisQ3UQ%3D'],\n",
       "  'nir': ['https://sentinel2l2a01.blob.core.windows.net/sentinel2-l2/14/R/MP/2021/02/03/S2B_MSIL2A_20210203T171519_N0212_R112_T14RMP_20210208T140128.SAFE/GRANULE/L2A_T14RMP_A020444_20210203T172401/IMG_DATA/R10m/T14RMP_20210203T171519_B08_10m.tif?st=2023-10-19T20%3A07%3A51Z&se=2023-10-20T20%3A52%3A51Z&sp=rl&sv=2021-06-08&sr=c&skoid=c85c15d6-d1ae-42d4-af60-e2ca0f81359b&sktid=72f988bf-86f1-41af-91ab-2d7cd011db47&skt=2023-10-20T18%3A39%3A23Z&ske=2023-10-27T18%3A39%3A23Z&sks=b&skv=2021-06-08&sig=I14J535y06XeUfYNMJm7nq7mMRmfdHIC5teraisQ3UQ%3D']},\n",
       " datetime.date(2021, 3, 30): {'green': ['https://sentinel2l2a01.blob.core.windows.net/sentinel2-l2/14/R/MP/2021/03/30/S2A_MSIL2A_20210330T170901_N0212_R112_T14RMP_20210331T065947.SAFE/GRANULE/L2A_T14RMP_A030139_20210330T171858/IMG_DATA/R10m/T14RMP_20210330T170901_B03_10m.tif?st=2023-10-19T20%3A07%3A51Z&se=2023-10-20T20%3A52%3A51Z&sp=rl&sv=2021-06-08&sr=c&skoid=c85c15d6-d1ae-42d4-af60-e2ca0f81359b&sktid=72f988bf-86f1-41af-91ab-2d7cd011db47&skt=2023-10-20T18%3A39%3A23Z&ske=2023-10-27T18%3A39%3A23Z&sks=b&skv=2021-06-08&sig=I14J535y06XeUfYNMJm7nq7mMRmfdHIC5teraisQ3UQ%3D'],\n",
       "  'nir': ['https://sentinel2l2a01.blob.core.windows.net/sentinel2-l2/14/R/MP/2021/03/30/S2A_MSIL2A_20210330T170901_N0212_R112_T14RMP_20210331T065947.SAFE/GRANULE/L2A_T14RMP_A030139_20210330T171858/IMG_DATA/R10m/T14RMP_20210330T170901_B08_10m.tif?st=2023-10-19T20%3A07%3A51Z&se=2023-10-20T20%3A52%3A51Z&sp=rl&sv=2021-06-08&sr=c&skoid=c85c15d6-d1ae-42d4-af60-e2ca0f81359b&sktid=72f988bf-86f1-41af-91ab-2d7cd011db47&skt=2023-10-20T18%3A39%3A23Z&ske=2023-10-27T18%3A39%3A23Z&sks=b&skv=2021-06-08&sig=I14J535y06XeUfYNMJm7nq7mMRmfdHIC5teraisQ3UQ%3D']},\n",
       " datetime.date(2021, 3, 20): {'green': ['https://sentinel2l2a01.blob.core.windows.net/sentinel2-l2/14/R/MP/2021/03/20/S2A_MSIL2A_20210320T171011_N0212_R112_T14RMP_20210321T161817.SAFE/GRANULE/L2A_T14RMP_A029996_20210320T171844/IMG_DATA/R10m/T14RMP_20210320T171011_B03_10m.tif?st=2023-10-19T20%3A07%3A51Z&se=2023-10-20T20%3A52%3A51Z&sp=rl&sv=2021-06-08&sr=c&skoid=c85c15d6-d1ae-42d4-af60-e2ca0f81359b&sktid=72f988bf-86f1-41af-91ab-2d7cd011db47&skt=2023-10-20T18%3A39%3A23Z&ske=2023-10-27T18%3A39%3A23Z&sks=b&skv=2021-06-08&sig=I14J535y06XeUfYNMJm7nq7mMRmfdHIC5teraisQ3UQ%3D'],\n",
       "  'nir': ['https://sentinel2l2a01.blob.core.windows.net/sentinel2-l2/14/R/MP/2021/03/20/S2A_MSIL2A_20210320T171011_N0212_R112_T14RMP_20210321T161817.SAFE/GRANULE/L2A_T14RMP_A029996_20210320T171844/IMG_DATA/R10m/T14RMP_20210320T171011_B08_10m.tif?st=2023-10-19T20%3A07%3A51Z&se=2023-10-20T20%3A52%3A51Z&sp=rl&sv=2021-06-08&sr=c&skoid=c85c15d6-d1ae-42d4-af60-e2ca0f81359b&sktid=72f988bf-86f1-41af-91ab-2d7cd011db47&skt=2023-10-20T18%3A39%3A23Z&ske=2023-10-27T18%3A39%3A23Z&sks=b&skv=2021-06-08&sig=I14J535y06XeUfYNMJm7nq7mMRmfdHIC5teraisQ3UQ%3D']},\n",
       " datetime.date(2021, 4, 29): {'green': ['https://sentinel2l2a01.blob.core.windows.net/sentinel2-l2/14/R/MP/2021/04/29/S2A_MSIL2A_20210429T170851_N0212_R112_T14RMP_20210430T132725.SAFE/GRANULE/L2A_T14RMP_A030568_20210429T171836/IMG_DATA/R10m/T14RMP_20210429T170851_B03_10m.tif?st=2023-10-19T20%3A07%3A51Z&se=2023-10-20T20%3A52%3A51Z&sp=rl&sv=2021-06-08&sr=c&skoid=c85c15d6-d1ae-42d4-af60-e2ca0f81359b&sktid=72f988bf-86f1-41af-91ab-2d7cd011db47&skt=2023-10-20T18%3A39%3A23Z&ske=2023-10-27T18%3A39%3A23Z&sks=b&skv=2021-06-08&sig=I14J535y06XeUfYNMJm7nq7mMRmfdHIC5teraisQ3UQ%3D'],\n",
       "  'nir': ['https://sentinel2l2a01.blob.core.windows.net/sentinel2-l2/14/R/MP/2021/04/29/S2A_MSIL2A_20210429T170851_N0212_R112_T14RMP_20210430T132725.SAFE/GRANULE/L2A_T14RMP_A030568_20210429T171836/IMG_DATA/R10m/T14RMP_20210429T170851_B08_10m.tif?st=2023-10-19T20%3A07%3A51Z&se=2023-10-20T20%3A52%3A51Z&sp=rl&sv=2021-06-08&sr=c&skoid=c85c15d6-d1ae-42d4-af60-e2ca0f81359b&sktid=72f988bf-86f1-41af-91ab-2d7cd011db47&skt=2023-10-20T18%3A39%3A23Z&ske=2023-10-27T18%3A39%3A23Z&sks=b&skv=2021-06-08&sig=I14J535y06XeUfYNMJm7nq7mMRmfdHIC5teraisQ3UQ%3D']},\n",
       " datetime.date(2021, 4, 24): {'green': ['https://sentinel2l2a01.blob.core.windows.net/sentinel2-l2/14/R/MP/2021/04/24/S2B_MSIL2A_20210424T170839_N0212_R112_T14RMP_20210425T232358.SAFE/GRANULE/L2A_T14RMP_A021588_20210424T171902/IMG_DATA/R10m/T14RMP_20210424T170839_B03_10m.tif?st=2023-10-19T20%3A07%3A51Z&se=2023-10-20T20%3A52%3A51Z&sp=rl&sv=2021-06-08&sr=c&skoid=c85c15d6-d1ae-42d4-af60-e2ca0f81359b&sktid=72f988bf-86f1-41af-91ab-2d7cd011db47&skt=2023-10-20T18%3A39%3A23Z&ske=2023-10-27T18%3A39%3A23Z&sks=b&skv=2021-06-08&sig=I14J535y06XeUfYNMJm7nq7mMRmfdHIC5teraisQ3UQ%3D'],\n",
       "  'nir': ['https://sentinel2l2a01.blob.core.windows.net/sentinel2-l2/14/R/MP/2021/04/24/S2B_MSIL2A_20210424T170839_N0212_R112_T14RMP_20210425T232358.SAFE/GRANULE/L2A_T14RMP_A021588_20210424T171902/IMG_DATA/R10m/T14RMP_20210424T170839_B08_10m.tif?st=2023-10-19T20%3A07%3A51Z&se=2023-10-20T20%3A52%3A51Z&sp=rl&sv=2021-06-08&sr=c&skoid=c85c15d6-d1ae-42d4-af60-e2ca0f81359b&sktid=72f988bf-86f1-41af-91ab-2d7cd011db47&skt=2023-10-20T18%3A39%3A23Z&ske=2023-10-27T18%3A39%3A23Z&sks=b&skv=2021-06-08&sig=I14J535y06XeUfYNMJm7nq7mMRmfdHIC5teraisQ3UQ%3D']},\n",
       " datetime.date(2021, 4, 9): {'green': ['https://sentinel2l2a01.blob.core.windows.net/sentinel2-l2/14/R/MP/2021/04/09/S2A_MSIL2A_20210409T170851_N0212_R112_T14RMP_20210411T041846.SAFE/GRANULE/L2A_T14RMP_A030282_20210409T171508/IMG_DATA/R10m/T14RMP_20210409T170851_B03_10m.tif?st=2023-10-19T20%3A07%3A51Z&se=2023-10-20T20%3A52%3A51Z&sp=rl&sv=2021-06-08&sr=c&skoid=c85c15d6-d1ae-42d4-af60-e2ca0f81359b&sktid=72f988bf-86f1-41af-91ab-2d7cd011db47&skt=2023-10-20T18%3A39%3A23Z&ske=2023-10-27T18%3A39%3A23Z&sks=b&skv=2021-06-08&sig=I14J535y06XeUfYNMJm7nq7mMRmfdHIC5teraisQ3UQ%3D'],\n",
       "  'nir': ['https://sentinel2l2a01.blob.core.windows.net/sentinel2-l2/14/R/MP/2021/04/09/S2A_MSIL2A_20210409T170851_N0212_R112_T14RMP_20210411T041846.SAFE/GRANULE/L2A_T14RMP_A030282_20210409T171508/IMG_DATA/R10m/T14RMP_20210409T170851_B08_10m.tif?st=2023-10-19T20%3A07%3A51Z&se=2023-10-20T20%3A52%3A51Z&sp=rl&sv=2021-06-08&sr=c&skoid=c85c15d6-d1ae-42d4-af60-e2ca0f81359b&sktid=72f988bf-86f1-41af-91ab-2d7cd011db47&skt=2023-10-20T18%3A39%3A23Z&ske=2023-10-27T18%3A39%3A23Z&sks=b&skv=2021-06-08&sig=I14J535y06XeUfYNMJm7nq7mMRmfdHIC5teraisQ3UQ%3D']},\n",
       " datetime.date(2021, 5, 9): {'green': ['https://sentinel2l2a01.blob.core.windows.net/sentinel2-l2/14/R/MP/2021/05/09/S2A_MSIL2A_20210509T170851_N0212_R112_T14RMP_20210510T120655.SAFE/GRANULE/L2A_T14RMP_A030711_20210509T171538/IMG_DATA/R10m/T14RMP_20210509T170851_B03_10m.tif?st=2023-10-19T20%3A07%3A51Z&se=2023-10-20T20%3A52%3A51Z&sp=rl&sv=2021-06-08&sr=c&skoid=c85c15d6-d1ae-42d4-af60-e2ca0f81359b&sktid=72f988bf-86f1-41af-91ab-2d7cd011db47&skt=2023-10-20T18%3A39%3A23Z&ske=2023-10-27T18%3A39%3A23Z&sks=b&skv=2021-06-08&sig=I14J535y06XeUfYNMJm7nq7mMRmfdHIC5teraisQ3UQ%3D'],\n",
       "  'nir': ['https://sentinel2l2a01.blob.core.windows.net/sentinel2-l2/14/R/MP/2021/05/09/S2A_MSIL2A_20210509T170851_N0212_R112_T14RMP_20210510T120655.SAFE/GRANULE/L2A_T14RMP_A030711_20210509T171538/IMG_DATA/R10m/T14RMP_20210509T170851_B08_10m.tif?st=2023-10-19T20%3A07%3A51Z&se=2023-10-20T20%3A52%3A51Z&sp=rl&sv=2021-06-08&sr=c&skoid=c85c15d6-d1ae-42d4-af60-e2ca0f81359b&sktid=72f988bf-86f1-41af-91ab-2d7cd011db47&skt=2023-10-20T18%3A39%3A23Z&ske=2023-10-27T18%3A39%3A23Z&sks=b&skv=2021-06-08&sig=I14J535y06XeUfYNMJm7nq7mMRmfdHIC5teraisQ3UQ%3D']},\n",
       " datetime.date(2021, 6, 8): {'green': ['https://sentinel2l2a01.blob.core.windows.net/sentinel2-l2/14/R/MP/2021/06/08/S2A_MSIL2A_20210608T170851_N0212_R112_T14RMP_20210610T180646.SAFE/GRANULE/L2A_T14RMP_A031140_20210608T171641/IMG_DATA/R10m/T14RMP_20210608T170851_B03_10m.tif?st=2023-10-19T20%3A07%3A51Z&se=2023-10-20T20%3A52%3A51Z&sp=rl&sv=2021-06-08&sr=c&skoid=c85c15d6-d1ae-42d4-af60-e2ca0f81359b&sktid=72f988bf-86f1-41af-91ab-2d7cd011db47&skt=2023-10-20T18%3A39%3A23Z&ske=2023-10-27T18%3A39%3A23Z&sks=b&skv=2021-06-08&sig=I14J535y06XeUfYNMJm7nq7mMRmfdHIC5teraisQ3UQ%3D'],\n",
       "  'nir': ['https://sentinel2l2a01.blob.core.windows.net/sentinel2-l2/14/R/MP/2021/06/08/S2A_MSIL2A_20210608T170851_N0212_R112_T14RMP_20210610T180646.SAFE/GRANULE/L2A_T14RMP_A031140_20210608T171641/IMG_DATA/R10m/T14RMP_20210608T170851_B08_10m.tif?st=2023-10-19T20%3A07%3A51Z&se=2023-10-20T20%3A52%3A51Z&sp=rl&sv=2021-06-08&sr=c&skoid=c85c15d6-d1ae-42d4-af60-e2ca0f81359b&sktid=72f988bf-86f1-41af-91ab-2d7cd011db47&skt=2023-10-20T18%3A39%3A23Z&ske=2023-10-27T18%3A39%3A23Z&sks=b&skv=2021-06-08&sig=I14J535y06XeUfYNMJm7nq7mMRmfdHIC5teraisQ3UQ%3D']},\n",
       " datetime.date(2021, 7, 23): {'green': ['https://sentinel2l2a01.blob.core.windows.net/sentinel2-l2/14/R/MP/2021/07/23/S2B_MSIL2A_20210723T170849_N0300_R112_T14RMP_20210724T045541.SAFE/GRANULE/L2A_T14RMP_A022875_20210723T171418/IMG_DATA/R10m/T14RMP_20210723T170849_B03_10m.tif?st=2023-10-19T20%3A07%3A51Z&se=2023-10-20T20%3A52%3A51Z&sp=rl&sv=2021-06-08&sr=c&skoid=c85c15d6-d1ae-42d4-af60-e2ca0f81359b&sktid=72f988bf-86f1-41af-91ab-2d7cd011db47&skt=2023-10-20T18%3A39%3A23Z&ske=2023-10-27T18%3A39%3A23Z&sks=b&skv=2021-06-08&sig=I14J535y06XeUfYNMJm7nq7mMRmfdHIC5teraisQ3UQ%3D'],\n",
       "  'nir': ['https://sentinel2l2a01.blob.core.windows.net/sentinel2-l2/14/R/MP/2021/07/23/S2B_MSIL2A_20210723T170849_N0300_R112_T14RMP_20210724T045541.SAFE/GRANULE/L2A_T14RMP_A022875_20210723T171418/IMG_DATA/R10m/T14RMP_20210723T170849_B08_10m.tif?st=2023-10-19T20%3A07%3A51Z&se=2023-10-20T20%3A52%3A51Z&sp=rl&sv=2021-06-08&sr=c&skoid=c85c15d6-d1ae-42d4-af60-e2ca0f81359b&sktid=72f988bf-86f1-41af-91ab-2d7cd011db47&skt=2023-10-20T18%3A39%3A23Z&ske=2023-10-27T18%3A39%3A23Z&sks=b&skv=2021-06-08&sig=I14J535y06XeUfYNMJm7nq7mMRmfdHIC5teraisQ3UQ%3D']},\n",
       " datetime.date(2021, 7, 3): {'green': ['https://sentinel2l2a01.blob.core.windows.net/sentinel2-l2/14/R/MP/2021/07/03/S2B_MSIL2A_20210703T170849_N0300_R112_T14RMP_20210704T115856.SAFE/GRANULE/L2A_T14RMP_A022589_20210703T171938/IMG_DATA/R10m/T14RMP_20210703T170849_B03_10m.tif?st=2023-10-19T20%3A07%3A51Z&se=2023-10-20T20%3A52%3A51Z&sp=rl&sv=2021-06-08&sr=c&skoid=c85c15d6-d1ae-42d4-af60-e2ca0f81359b&sktid=72f988bf-86f1-41af-91ab-2d7cd011db47&skt=2023-10-20T18%3A39%3A23Z&ske=2023-10-27T18%3A39%3A23Z&sks=b&skv=2021-06-08&sig=I14J535y06XeUfYNMJm7nq7mMRmfdHIC5teraisQ3UQ%3D'],\n",
       "  'nir': ['https://sentinel2l2a01.blob.core.windows.net/sentinel2-l2/14/R/MP/2021/07/03/S2B_MSIL2A_20210703T170849_N0300_R112_T14RMP_20210704T115856.SAFE/GRANULE/L2A_T14RMP_A022589_20210703T171938/IMG_DATA/R10m/T14RMP_20210703T170849_B08_10m.tif?st=2023-10-19T20%3A07%3A51Z&se=2023-10-20T20%3A52%3A51Z&sp=rl&sv=2021-06-08&sr=c&skoid=c85c15d6-d1ae-42d4-af60-e2ca0f81359b&sktid=72f988bf-86f1-41af-91ab-2d7cd011db47&skt=2023-10-20T18%3A39%3A23Z&ske=2023-10-27T18%3A39%3A23Z&sks=b&skv=2021-06-08&sig=I14J535y06XeUfYNMJm7nq7mMRmfdHIC5teraisQ3UQ%3D']},\n",
       " datetime.date(2021, 8, 22): {'green': ['https://sentinel2l2a01.blob.core.windows.net/sentinel2-l2/14/R/MP/2021/08/22/S2B_MSIL2A_20210822T170849_N0300_R112_T14RMP_20210823T063249.SAFE/GRANULE/L2A_T14RMP_A023304_20210822T171856/IMG_DATA/R10m/T14RMP_20210822T170849_B03_10m.tif?st=2023-10-19T20%3A07%3A51Z&se=2023-10-20T20%3A52%3A51Z&sp=rl&sv=2021-06-08&sr=c&skoid=c85c15d6-d1ae-42d4-af60-e2ca0f81359b&sktid=72f988bf-86f1-41af-91ab-2d7cd011db47&skt=2023-10-20T18%3A39%3A23Z&ske=2023-10-27T18%3A39%3A23Z&sks=b&skv=2021-06-08&sig=I14J535y06XeUfYNMJm7nq7mMRmfdHIC5teraisQ3UQ%3D'],\n",
       "  'nir': ['https://sentinel2l2a01.blob.core.windows.net/sentinel2-l2/14/R/MP/2021/08/22/S2B_MSIL2A_20210822T170849_N0300_R112_T14RMP_20210823T063249.SAFE/GRANULE/L2A_T14RMP_A023304_20210822T171856/IMG_DATA/R10m/T14RMP_20210822T170849_B08_10m.tif?st=2023-10-19T20%3A07%3A51Z&se=2023-10-20T20%3A52%3A51Z&sp=rl&sv=2021-06-08&sr=c&skoid=c85c15d6-d1ae-42d4-af60-e2ca0f81359b&sktid=72f988bf-86f1-41af-91ab-2d7cd011db47&skt=2023-10-20T18%3A39%3A23Z&ske=2023-10-27T18%3A39%3A23Z&sks=b&skv=2021-06-08&sig=I14J535y06XeUfYNMJm7nq7mMRmfdHIC5teraisQ3UQ%3D']},\n",
       " datetime.date(2021, 8, 12): {'green': ['https://sentinel2l2a01.blob.core.windows.net/sentinel2-l2/14/R/MP/2021/08/12/S2B_MSIL2A_20210812T170849_N0300_R112_T14RMP_20210813T040701.SAFE/GRANULE/L2A_T14RMP_A023161_20210812T171908/IMG_DATA/R10m/T14RMP_20210812T170849_B03_10m.tif?st=2023-10-19T20%3A07%3A51Z&se=2023-10-20T20%3A52%3A51Z&sp=rl&sv=2021-06-08&sr=c&skoid=c85c15d6-d1ae-42d4-af60-e2ca0f81359b&sktid=72f988bf-86f1-41af-91ab-2d7cd011db47&skt=2023-10-20T18%3A39%3A23Z&ske=2023-10-27T18%3A39%3A23Z&sks=b&skv=2021-06-08&sig=I14J535y06XeUfYNMJm7nq7mMRmfdHIC5teraisQ3UQ%3D'],\n",
       "  'nir': ['https://sentinel2l2a01.blob.core.windows.net/sentinel2-l2/14/R/MP/2021/08/12/S2B_MSIL2A_20210812T170849_N0300_R112_T14RMP_20210813T040701.SAFE/GRANULE/L2A_T14RMP_A023161_20210812T171908/IMG_DATA/R10m/T14RMP_20210812T170849_B08_10m.tif?st=2023-10-19T20%3A07%3A51Z&se=2023-10-20T20%3A52%3A51Z&sp=rl&sv=2021-06-08&sr=c&skoid=c85c15d6-d1ae-42d4-af60-e2ca0f81359b&sktid=72f988bf-86f1-41af-91ab-2d7cd011db47&skt=2023-10-20T18%3A39%3A23Z&ske=2023-10-27T18%3A39%3A23Z&sks=b&skv=2021-06-08&sig=I14J535y06XeUfYNMJm7nq7mMRmfdHIC5teraisQ3UQ%3D']},\n",
       " datetime.date(2021, 8, 7): {'green': ['https://sentinel2l2a01.blob.core.windows.net/sentinel2-l2/14/R/MP/2021/08/07/S2A_MSIL2A_20210807T170851_N0300_R112_T14RMP_20210808T065642.SAFE/GRANULE/L2A_T14RMP_A031998_20210807T171542/IMG_DATA/R10m/T14RMP_20210807T170851_B03_10m.tif?st=2023-10-19T20%3A07%3A51Z&se=2023-10-20T20%3A52%3A51Z&sp=rl&sv=2021-06-08&sr=c&skoid=c85c15d6-d1ae-42d4-af60-e2ca0f81359b&sktid=72f988bf-86f1-41af-91ab-2d7cd011db47&skt=2023-10-20T18%3A39%3A23Z&ske=2023-10-27T18%3A39%3A23Z&sks=b&skv=2021-06-08&sig=I14J535y06XeUfYNMJm7nq7mMRmfdHIC5teraisQ3UQ%3D'],\n",
       "  'nir': ['https://sentinel2l2a01.blob.core.windows.net/sentinel2-l2/14/R/MP/2021/08/07/S2A_MSIL2A_20210807T170851_N0300_R112_T14RMP_20210808T065642.SAFE/GRANULE/L2A_T14RMP_A031998_20210807T171542/IMG_DATA/R10m/T14RMP_20210807T170851_B08_10m.tif?st=2023-10-19T20%3A07%3A51Z&se=2023-10-20T20%3A52%3A51Z&sp=rl&sv=2021-06-08&sr=c&skoid=c85c15d6-d1ae-42d4-af60-e2ca0f81359b&sktid=72f988bf-86f1-41af-91ab-2d7cd011db47&skt=2023-10-20T18%3A39%3A23Z&ske=2023-10-27T18%3A39%3A23Z&sks=b&skv=2021-06-08&sig=I14J535y06XeUfYNMJm7nq7mMRmfdHIC5teraisQ3UQ%3D']},\n",
       " datetime.date(2021, 8, 2): {'green': ['https://sentinel2l2a01.blob.core.windows.net/sentinel2-l2/14/R/MP/2021/08/02/S2B_MSIL2A_20210802T170849_N0300_R112_T14RMP_20210803T093939.SAFE/GRANULE/L2A_T14RMP_A023018_20210802T171859/IMG_DATA/R10m/T14RMP_20210802T170849_B03_10m.tif?st=2023-10-19T20%3A07%3A51Z&se=2023-10-20T20%3A52%3A51Z&sp=rl&sv=2021-06-08&sr=c&skoid=c85c15d6-d1ae-42d4-af60-e2ca0f81359b&sktid=72f988bf-86f1-41af-91ab-2d7cd011db47&skt=2023-10-20T18%3A39%3A23Z&ske=2023-10-27T18%3A39%3A23Z&sks=b&skv=2021-06-08&sig=I14J535y06XeUfYNMJm7nq7mMRmfdHIC5teraisQ3UQ%3D'],\n",
       "  'nir': ['https://sentinel2l2a01.blob.core.windows.net/sentinel2-l2/14/R/MP/2021/08/02/S2B_MSIL2A_20210802T170849_N0300_R112_T14RMP_20210803T093939.SAFE/GRANULE/L2A_T14RMP_A023018_20210802T171859/IMG_DATA/R10m/T14RMP_20210802T170849_B08_10m.tif?st=2023-10-19T20%3A07%3A51Z&se=2023-10-20T20%3A52%3A51Z&sp=rl&sv=2021-06-08&sr=c&skoid=c85c15d6-d1ae-42d4-af60-e2ca0f81359b&sktid=72f988bf-86f1-41af-91ab-2d7cd011db47&skt=2023-10-20T18%3A39%3A23Z&ske=2023-10-27T18%3A39%3A23Z&sks=b&skv=2021-06-08&sig=I14J535y06XeUfYNMJm7nq7mMRmfdHIC5teraisQ3UQ%3D']},\n",
       " datetime.date(2021, 9, 21): {'green': ['https://sentinel2l2a01.blob.core.windows.net/sentinel2-l2/14/R/MP/2021/09/21/S2B_MSIL2A_20210921T170919_N0300_R112_T14RMP_20210922T085700.SAFE/GRANULE/L2A_T14RMP_A023733_20210921T172520/IMG_DATA/R10m/T14RMP_20210921T170919_B03_10m.tif?st=2023-10-19T20%3A07%3A51Z&se=2023-10-20T20%3A52%3A51Z&sp=rl&sv=2021-06-08&sr=c&skoid=c85c15d6-d1ae-42d4-af60-e2ca0f81359b&sktid=72f988bf-86f1-41af-91ab-2d7cd011db47&skt=2023-10-20T18%3A39%3A23Z&ske=2023-10-27T18%3A39%3A23Z&sks=b&skv=2021-06-08&sig=I14J535y06XeUfYNMJm7nq7mMRmfdHIC5teraisQ3UQ%3D'],\n",
       "  'nir': ['https://sentinel2l2a01.blob.core.windows.net/sentinel2-l2/14/R/MP/2021/09/21/S2B_MSIL2A_20210921T170919_N0300_R112_T14RMP_20210922T085700.SAFE/GRANULE/L2A_T14RMP_A023733_20210921T172520/IMG_DATA/R10m/T14RMP_20210921T170919_B08_10m.tif?st=2023-10-19T20%3A07%3A51Z&se=2023-10-20T20%3A52%3A51Z&sp=rl&sv=2021-06-08&sr=c&skoid=c85c15d6-d1ae-42d4-af60-e2ca0f81359b&sktid=72f988bf-86f1-41af-91ab-2d7cd011db47&skt=2023-10-20T18%3A39%3A23Z&ske=2023-10-27T18%3A39%3A23Z&sks=b&skv=2021-06-08&sig=I14J535y06XeUfYNMJm7nq7mMRmfdHIC5teraisQ3UQ%3D']},\n",
       " datetime.date(2021, 9, 1): {'green': ['https://sentinel2l2a01.blob.core.windows.net/sentinel2-l2/14/R/MP/2021/09/01/S2B_MSIL2A_20210901T170849_N0300_R112_T14RMP_20210902T040055.SAFE/GRANULE/L2A_T14RMP_A023447_20210901T171854/IMG_DATA/R10m/T14RMP_20210901T170849_B03_10m.tif?st=2023-10-19T20%3A07%3A51Z&se=2023-10-20T20%3A52%3A51Z&sp=rl&sv=2021-06-08&sr=c&skoid=c85c15d6-d1ae-42d4-af60-e2ca0f81359b&sktid=72f988bf-86f1-41af-91ab-2d7cd011db47&skt=2023-10-20T18%3A39%3A23Z&ske=2023-10-27T18%3A39%3A23Z&sks=b&skv=2021-06-08&sig=I14J535y06XeUfYNMJm7nq7mMRmfdHIC5teraisQ3UQ%3D'],\n",
       "  'nir': ['https://sentinel2l2a01.blob.core.windows.net/sentinel2-l2/14/R/MP/2021/09/01/S2B_MSIL2A_20210901T170849_N0300_R112_T14RMP_20210902T040055.SAFE/GRANULE/L2A_T14RMP_A023447_20210901T171854/IMG_DATA/R10m/T14RMP_20210901T170849_B08_10m.tif?st=2023-10-19T20%3A07%3A51Z&se=2023-10-20T20%3A52%3A51Z&sp=rl&sv=2021-06-08&sr=c&skoid=c85c15d6-d1ae-42d4-af60-e2ca0f81359b&sktid=72f988bf-86f1-41af-91ab-2d7cd011db47&skt=2023-10-20T18%3A39%3A23Z&ske=2023-10-27T18%3A39%3A23Z&sks=b&skv=2021-06-08&sig=I14J535y06XeUfYNMJm7nq7mMRmfdHIC5teraisQ3UQ%3D']},\n",
       " datetime.date(2021, 11, 30): {'green': ['https://sentinel2l2a01.blob.core.windows.net/sentinel2-l2/14/R/MP/2021/11/30/S2B_MSIL2A_20211130T171649_N0300_R112_T14RMP_20211201T061110.SAFE/GRANULE/L2A_T14RMP_A024734_20211130T171839/IMG_DATA/R10m/T14RMP_20211130T171649_B03_10m.tif?st=2023-10-19T20%3A07%3A51Z&se=2023-10-20T20%3A52%3A51Z&sp=rl&sv=2021-06-08&sr=c&skoid=c85c15d6-d1ae-42d4-af60-e2ca0f81359b&sktid=72f988bf-86f1-41af-91ab-2d7cd011db47&skt=2023-10-20T18%3A39%3A23Z&ske=2023-10-27T18%3A39%3A23Z&sks=b&skv=2021-06-08&sig=I14J535y06XeUfYNMJm7nq7mMRmfdHIC5teraisQ3UQ%3D'],\n",
       "  'nir': ['https://sentinel2l2a01.blob.core.windows.net/sentinel2-l2/14/R/MP/2021/11/30/S2B_MSIL2A_20211130T171649_N0300_R112_T14RMP_20211201T061110.SAFE/GRANULE/L2A_T14RMP_A024734_20211130T171839/IMG_DATA/R10m/T14RMP_20211130T171649_B08_10m.tif?st=2023-10-19T20%3A07%3A51Z&se=2023-10-20T20%3A52%3A51Z&sp=rl&sv=2021-06-08&sr=c&skoid=c85c15d6-d1ae-42d4-af60-e2ca0f81359b&sktid=72f988bf-86f1-41af-91ab-2d7cd011db47&skt=2023-10-20T18%3A39%3A23Z&ske=2023-10-27T18%3A39%3A23Z&sks=b&skv=2021-06-08&sig=I14J535y06XeUfYNMJm7nq7mMRmfdHIC5teraisQ3UQ%3D']},\n",
       " datetime.date(2021, 11, 15): {'green': ['https://sentinel2l2a01.blob.core.windows.net/sentinel2-l2/14/R/MP/2021/11/15/S2A_MSIL2A_20211115T171601_N0300_R112_T14RMP_20211116T023358.SAFE/GRANULE/L2A_T14RMP_A033428_20211115T172218/IMG_DATA/R10m/T14RMP_20211115T171601_B03_10m.tif?st=2023-10-19T20%3A07%3A51Z&se=2023-10-20T20%3A52%3A51Z&sp=rl&sv=2021-06-08&sr=c&skoid=c85c15d6-d1ae-42d4-af60-e2ca0f81359b&sktid=72f988bf-86f1-41af-91ab-2d7cd011db47&skt=2023-10-20T18%3A39%3A23Z&ske=2023-10-27T18%3A39%3A23Z&sks=b&skv=2021-06-08&sig=I14J535y06XeUfYNMJm7nq7mMRmfdHIC5teraisQ3UQ%3D'],\n",
       "  'nir': ['https://sentinel2l2a01.blob.core.windows.net/sentinel2-l2/14/R/MP/2021/11/15/S2A_MSIL2A_20211115T171601_N0300_R112_T14RMP_20211116T023358.SAFE/GRANULE/L2A_T14RMP_A033428_20211115T172218/IMG_DATA/R10m/T14RMP_20211115T171601_B08_10m.tif?st=2023-10-19T20%3A07%3A51Z&se=2023-10-20T20%3A52%3A51Z&sp=rl&sv=2021-06-08&sr=c&skoid=c85c15d6-d1ae-42d4-af60-e2ca0f81359b&sktid=72f988bf-86f1-41af-91ab-2d7cd011db47&skt=2023-10-20T18%3A39%3A23Z&ske=2023-10-27T18%3A39%3A23Z&sks=b&skv=2021-06-08&sig=I14J535y06XeUfYNMJm7nq7mMRmfdHIC5teraisQ3UQ%3D']},\n",
       " datetime.date(2021, 11, 10): {'green': ['https://sentinel2l2a01.blob.core.windows.net/sentinel2-l2/14/R/MP/2021/11/10/S2B_MSIL2A_20211110T171539_N0300_R112_T14RMP_20211111T032549.SAFE/GRANULE/L2A_T14RMP_A024448_20211110T172436/IMG_DATA/R10m/T14RMP_20211110T171539_B03_10m.tif?st=2023-10-19T20%3A07%3A51Z&se=2023-10-20T20%3A52%3A51Z&sp=rl&sv=2021-06-08&sr=c&skoid=c85c15d6-d1ae-42d4-af60-e2ca0f81359b&sktid=72f988bf-86f1-41af-91ab-2d7cd011db47&skt=2023-10-20T18%3A39%3A23Z&ske=2023-10-27T18%3A39%3A23Z&sks=b&skv=2021-06-08&sig=I14J535y06XeUfYNMJm7nq7mMRmfdHIC5teraisQ3UQ%3D'],\n",
       "  'nir': ['https://sentinel2l2a01.blob.core.windows.net/sentinel2-l2/14/R/MP/2021/11/10/S2B_MSIL2A_20211110T171539_N0300_R112_T14RMP_20211111T032549.SAFE/GRANULE/L2A_T14RMP_A024448_20211110T172436/IMG_DATA/R10m/T14RMP_20211110T171539_B08_10m.tif?st=2023-10-19T20%3A07%3A51Z&se=2023-10-20T20%3A52%3A51Z&sp=rl&sv=2021-06-08&sr=c&skoid=c85c15d6-d1ae-42d4-af60-e2ca0f81359b&sktid=72f988bf-86f1-41af-91ab-2d7cd011db47&skt=2023-10-20T18%3A39%3A23Z&ske=2023-10-27T18%3A39%3A23Z&sks=b&skv=2021-06-08&sig=I14J535y06XeUfYNMJm7nq7mMRmfdHIC5teraisQ3UQ%3D']},\n",
       " datetime.date(2021, 12, 30): {'green': ['https://sentinel2l2a01.blob.core.windows.net/sentinel2-l2/14/R/MP/2021/12/30/S2B_MSIL2A_20211230T171719_N0300_R112_T14RMP_20211231T195943.SAFE/GRANULE/L2A_T14RMP_A025163_20211230T171941/IMG_DATA/R10m/T14RMP_20211230T171719_B03_10m.tif?st=2023-10-19T20%3A07%3A51Z&se=2023-10-20T20%3A52%3A51Z&sp=rl&sv=2021-06-08&sr=c&skoid=c85c15d6-d1ae-42d4-af60-e2ca0f81359b&sktid=72f988bf-86f1-41af-91ab-2d7cd011db47&skt=2023-10-20T18%3A39%3A23Z&ske=2023-10-27T18%3A39%3A23Z&sks=b&skv=2021-06-08&sig=I14J535y06XeUfYNMJm7nq7mMRmfdHIC5teraisQ3UQ%3D'],\n",
       "  'nir': ['https://sentinel2l2a01.blob.core.windows.net/sentinel2-l2/14/R/MP/2021/12/30/S2B_MSIL2A_20211230T171719_N0300_R112_T14RMP_20211231T195943.SAFE/GRANULE/L2A_T14RMP_A025163_20211230T171941/IMG_DATA/R10m/T14RMP_20211230T171719_B08_10m.tif?st=2023-10-19T20%3A07%3A51Z&se=2023-10-20T20%3A52%3A51Z&sp=rl&sv=2021-06-08&sr=c&skoid=c85c15d6-d1ae-42d4-af60-e2ca0f81359b&sktid=72f988bf-86f1-41af-91ab-2d7cd011db47&skt=2023-10-20T18%3A39%3A23Z&ske=2023-10-27T18%3A39%3A23Z&sks=b&skv=2021-06-08&sig=I14J535y06XeUfYNMJm7nq7mMRmfdHIC5teraisQ3UQ%3D']},\n",
       " datetime.date(2021, 12, 25): {'green': ['https://sentinel2l2a01.blob.core.windows.net/sentinel2-l2/14/R/MP/2021/12/25/S2A_MSIL2A_20211225T171731_N0400_R112_T14RMP_20230130T144121.SAFE/GRANULE/L2A_T14RMP_A034000_20211225T172413/IMG_DATA/R10m/T14RMP_20211225T171731_B03_10m.tif?st=2023-10-19T20%3A07%3A51Z&se=2023-10-20T20%3A52%3A51Z&sp=rl&sv=2021-06-08&sr=c&skoid=c85c15d6-d1ae-42d4-af60-e2ca0f81359b&sktid=72f988bf-86f1-41af-91ab-2d7cd011db47&skt=2023-10-20T18%3A39%3A23Z&ske=2023-10-27T18%3A39%3A23Z&sks=b&skv=2021-06-08&sig=I14J535y06XeUfYNMJm7nq7mMRmfdHIC5teraisQ3UQ%3D',\n",
       "   'https://sentinel2l2a01.blob.core.windows.net/sentinel2-l2/14/R/MP/2021/12/25/S2A_MSIL2A_20211225T171731_N0300_R112_T14RMP_20211226T035028.SAFE/GRANULE/L2A_T14RMP_A034000_20211225T172413/IMG_DATA/R10m/T14RMP_20211225T171731_B03_10m.tif?st=2023-10-19T20%3A07%3A51Z&se=2023-10-20T20%3A52%3A51Z&sp=rl&sv=2021-06-08&sr=c&skoid=c85c15d6-d1ae-42d4-af60-e2ca0f81359b&sktid=72f988bf-86f1-41af-91ab-2d7cd011db47&skt=2023-10-20T18%3A39%3A23Z&ske=2023-10-27T18%3A39%3A23Z&sks=b&skv=2021-06-08&sig=I14J535y06XeUfYNMJm7nq7mMRmfdHIC5teraisQ3UQ%3D'],\n",
       "  'nir': ['https://sentinel2l2a01.blob.core.windows.net/sentinel2-l2/14/R/MP/2021/12/25/S2A_MSIL2A_20211225T171731_N0400_R112_T14RMP_20230130T144121.SAFE/GRANULE/L2A_T14RMP_A034000_20211225T172413/IMG_DATA/R10m/T14RMP_20211225T171731_B08_10m.tif?st=2023-10-19T20%3A07%3A51Z&se=2023-10-20T20%3A52%3A51Z&sp=rl&sv=2021-06-08&sr=c&skoid=c85c15d6-d1ae-42d4-af60-e2ca0f81359b&sktid=72f988bf-86f1-41af-91ab-2d7cd011db47&skt=2023-10-20T18%3A39%3A23Z&ske=2023-10-27T18%3A39%3A23Z&sks=b&skv=2021-06-08&sig=I14J535y06XeUfYNMJm7nq7mMRmfdHIC5teraisQ3UQ%3D',\n",
       "   'https://sentinel2l2a01.blob.core.windows.net/sentinel2-l2/14/R/MP/2021/12/25/S2A_MSIL2A_20211225T171731_N0300_R112_T14RMP_20211226T035028.SAFE/GRANULE/L2A_T14RMP_A034000_20211225T172413/IMG_DATA/R10m/T14RMP_20211225T171731_B08_10m.tif?st=2023-10-19T20%3A07%3A51Z&se=2023-10-20T20%3A52%3A51Z&sp=rl&sv=2021-06-08&sr=c&skoid=c85c15d6-d1ae-42d4-af60-e2ca0f81359b&sktid=72f988bf-86f1-41af-91ab-2d7cd011db47&skt=2023-10-20T18%3A39%3A23Z&ske=2023-10-27T18%3A39%3A23Z&sks=b&skv=2021-06-08&sig=I14J535y06XeUfYNMJm7nq7mMRmfdHIC5teraisQ3UQ%3D']},\n",
       " datetime.date(2021, 12, 15): {'green': ['https://sentinel2l2a01.blob.core.windows.net/sentinel2-l2/14/R/MP/2021/12/15/S2A_MSIL2A_20211215T171721_N0400_R112_T14RMP_20230131T081734.SAFE/GRANULE/L2A_T14RMP_A033857_20211215T172404/IMG_DATA/R10m/T14RMP_20211215T171721_B03_10m.tif?st=2023-10-19T20%3A07%3A51Z&se=2023-10-20T20%3A52%3A51Z&sp=rl&sv=2021-06-08&sr=c&skoid=c85c15d6-d1ae-42d4-af60-e2ca0f81359b&sktid=72f988bf-86f1-41af-91ab-2d7cd011db47&skt=2023-10-20T18%3A39%3A23Z&ske=2023-10-27T18%3A39%3A23Z&sks=b&skv=2021-06-08&sig=I14J535y06XeUfYNMJm7nq7mMRmfdHIC5teraisQ3UQ%3D',\n",
       "   'https://sentinel2l2a01.blob.core.windows.net/sentinel2-l2/14/R/MP/2021/12/15/S2A_MSIL2A_20211215T171721_N0300_R112_T14RMP_20211216T115244.SAFE/GRANULE/L2A_T14RMP_A033857_20211215T172404/IMG_DATA/R10m/T14RMP_20211215T171721_B03_10m.tif?st=2023-10-19T20%3A07%3A51Z&se=2023-10-20T20%3A52%3A51Z&sp=rl&sv=2021-06-08&sr=c&skoid=c85c15d6-d1ae-42d4-af60-e2ca0f81359b&sktid=72f988bf-86f1-41af-91ab-2d7cd011db47&skt=2023-10-20T18%3A39%3A23Z&ske=2023-10-27T18%3A39%3A23Z&sks=b&skv=2021-06-08&sig=I14J535y06XeUfYNMJm7nq7mMRmfdHIC5teraisQ3UQ%3D'],\n",
       "  'nir': ['https://sentinel2l2a01.blob.core.windows.net/sentinel2-l2/14/R/MP/2021/12/15/S2A_MSIL2A_20211215T171721_N0400_R112_T14RMP_20230131T081734.SAFE/GRANULE/L2A_T14RMP_A033857_20211215T172404/IMG_DATA/R10m/T14RMP_20211215T171721_B08_10m.tif?st=2023-10-19T20%3A07%3A51Z&se=2023-10-20T20%3A52%3A51Z&sp=rl&sv=2021-06-08&sr=c&skoid=c85c15d6-d1ae-42d4-af60-e2ca0f81359b&sktid=72f988bf-86f1-41af-91ab-2d7cd011db47&skt=2023-10-20T18%3A39%3A23Z&ske=2023-10-27T18%3A39%3A23Z&sks=b&skv=2021-06-08&sig=I14J535y06XeUfYNMJm7nq7mMRmfdHIC5teraisQ3UQ%3D',\n",
       "   'https://sentinel2l2a01.blob.core.windows.net/sentinel2-l2/14/R/MP/2021/12/15/S2A_MSIL2A_20211215T171721_N0300_R112_T14RMP_20211216T115244.SAFE/GRANULE/L2A_T14RMP_A033857_20211215T172404/IMG_DATA/R10m/T14RMP_20211215T171721_B08_10m.tif?st=2023-10-19T20%3A07%3A51Z&se=2023-10-20T20%3A52%3A51Z&sp=rl&sv=2021-06-08&sr=c&skoid=c85c15d6-d1ae-42d4-af60-e2ca0f81359b&sktid=72f988bf-86f1-41af-91ab-2d7cd011db47&skt=2023-10-20T18%3A39%3A23Z&ske=2023-10-27T18%3A39%3A23Z&sks=b&skv=2021-06-08&sig=I14J535y06XeUfYNMJm7nq7mMRmfdHIC5teraisQ3UQ%3D']},\n",
       " datetime.date(2022, 1, 19): {'green': ['https://sentinel2l2a01.blob.core.windows.net/sentinel2-l2/14/R/MP/2022/01/19/S2B_MSIL2A_20220119T171629_N0300_R112_T14RMP_20220120T095140.SAFE/GRANULE/L2A_T14RMP_A025449_20220119T172609/IMG_DATA/R10m/T14RMP_20220119T171629_B03_10m.tif?st=2023-10-19T20%3A07%3A51Z&se=2023-10-20T20%3A52%3A51Z&sp=rl&sv=2021-06-08&sr=c&skoid=c85c15d6-d1ae-42d4-af60-e2ca0f81359b&sktid=72f988bf-86f1-41af-91ab-2d7cd011db47&skt=2023-10-20T18%3A39%3A23Z&ske=2023-10-27T18%3A39%3A23Z&sks=b&skv=2021-06-08&sig=I14J535y06XeUfYNMJm7nq7mMRmfdHIC5teraisQ3UQ%3D'],\n",
       "  'nir': ['https://sentinel2l2a01.blob.core.windows.net/sentinel2-l2/14/R/MP/2022/01/19/S2B_MSIL2A_20220119T171629_N0300_R112_T14RMP_20220120T095140.SAFE/GRANULE/L2A_T14RMP_A025449_20220119T172609/IMG_DATA/R10m/T14RMP_20220119T171629_B08_10m.tif?st=2023-10-19T20%3A07%3A51Z&se=2023-10-20T20%3A52%3A51Z&sp=rl&sv=2021-06-08&sr=c&skoid=c85c15d6-d1ae-42d4-af60-e2ca0f81359b&sktid=72f988bf-86f1-41af-91ab-2d7cd011db47&skt=2023-10-20T18%3A39%3A23Z&ske=2023-10-27T18%3A39%3A23Z&sks=b&skv=2021-06-08&sig=I14J535y06XeUfYNMJm7nq7mMRmfdHIC5teraisQ3UQ%3D']},\n",
       " datetime.date(2022, 1, 14): {'green': ['https://sentinel2l2a01.blob.core.windows.net/sentinel2-l2/14/R/MP/2022/01/14/S2A_MSIL2A_20220114T171651_N0300_R112_T14RMP_20220115T041258.SAFE/GRANULE/L2A_T14RMP_A034286_20220114T172300/IMG_DATA/R10m/T14RMP_20220114T171651_B03_10m.tif?st=2023-10-19T20%3A07%3A51Z&se=2023-10-20T20%3A52%3A51Z&sp=rl&sv=2021-06-08&sr=c&skoid=c85c15d6-d1ae-42d4-af60-e2ca0f81359b&sktid=72f988bf-86f1-41af-91ab-2d7cd011db47&skt=2023-10-20T18%3A39%3A23Z&ske=2023-10-27T18%3A39%3A23Z&sks=b&skv=2021-06-08&sig=I14J535y06XeUfYNMJm7nq7mMRmfdHIC5teraisQ3UQ%3D'],\n",
       "  'nir': ['https://sentinel2l2a01.blob.core.windows.net/sentinel2-l2/14/R/MP/2022/01/14/S2A_MSIL2A_20220114T171651_N0300_R112_T14RMP_20220115T041258.SAFE/GRANULE/L2A_T14RMP_A034286_20220114T172300/IMG_DATA/R10m/T14RMP_20220114T171651_B08_10m.tif?st=2023-10-19T20%3A07%3A51Z&se=2023-10-20T20%3A52%3A51Z&sp=rl&sv=2021-06-08&sr=c&skoid=c85c15d6-d1ae-42d4-af60-e2ca0f81359b&sktid=72f988bf-86f1-41af-91ab-2d7cd011db47&skt=2023-10-20T18%3A39%3A23Z&ske=2023-10-27T18%3A39%3A23Z&sks=b&skv=2021-06-08&sig=I14J535y06XeUfYNMJm7nq7mMRmfdHIC5teraisQ3UQ%3D']},\n",
       " datetime.date(2022, 1, 4): {'green': ['https://sentinel2l2a01.blob.core.windows.net/sentinel2-l2/14/R/MP/2022/01/04/S2A_MSIL2A_20220104T171721_N0300_R112_T14RMP_20220105T005718.SAFE/GRANULE/L2A_T14RMP_A034143_20220104T172348/IMG_DATA/R10m/T14RMP_20220104T171721_B03_10m.tif?st=2023-10-19T20%3A07%3A51Z&se=2023-10-20T20%3A52%3A51Z&sp=rl&sv=2021-06-08&sr=c&skoid=c85c15d6-d1ae-42d4-af60-e2ca0f81359b&sktid=72f988bf-86f1-41af-91ab-2d7cd011db47&skt=2023-10-20T18%3A39%3A23Z&ske=2023-10-27T18%3A39%3A23Z&sks=b&skv=2021-06-08&sig=I14J535y06XeUfYNMJm7nq7mMRmfdHIC5teraisQ3UQ%3D'],\n",
       "  'nir': ['https://sentinel2l2a01.blob.core.windows.net/sentinel2-l2/14/R/MP/2022/01/04/S2A_MSIL2A_20220104T171721_N0300_R112_T14RMP_20220105T005718.SAFE/GRANULE/L2A_T14RMP_A034143_20220104T172348/IMG_DATA/R10m/T14RMP_20220104T171721_B08_10m.tif?st=2023-10-19T20%3A07%3A51Z&se=2023-10-20T20%3A52%3A51Z&sp=rl&sv=2021-06-08&sr=c&skoid=c85c15d6-d1ae-42d4-af60-e2ca0f81359b&sktid=72f988bf-86f1-41af-91ab-2d7cd011db47&skt=2023-10-20T18%3A39%3A23Z&ske=2023-10-27T18%3A39%3A23Z&sks=b&skv=2021-06-08&sig=I14J535y06XeUfYNMJm7nq7mMRmfdHIC5teraisQ3UQ%3D']},\n",
       " datetime.date(2022, 2, 18): {'green': ['https://sentinel2l2a01.blob.core.windows.net/sentinel2-l2/14/R/MP/2022/02/18/S2B_MSIL2A_20220218T171339_N0400_R112_T14RMP_20220225T022321.SAFE/GRANULE/L2A_T14RMP_A025878_20220218T171750/IMG_DATA/R10m/T14RMP_20220218T171339_B03_10m.tif?st=2023-10-19T20%3A07%3A51Z&se=2023-10-20T20%3A52%3A51Z&sp=rl&sv=2021-06-08&sr=c&skoid=c85c15d6-d1ae-42d4-af60-e2ca0f81359b&sktid=72f988bf-86f1-41af-91ab-2d7cd011db47&skt=2023-10-20T18%3A39%3A23Z&ske=2023-10-27T18%3A39%3A23Z&sks=b&skv=2021-06-08&sig=I14J535y06XeUfYNMJm7nq7mMRmfdHIC5teraisQ3UQ%3D'],\n",
       "  'nir': ['https://sentinel2l2a01.blob.core.windows.net/sentinel2-l2/14/R/MP/2022/02/18/S2B_MSIL2A_20220218T171339_N0400_R112_T14RMP_20220225T022321.SAFE/GRANULE/L2A_T14RMP_A025878_20220218T171750/IMG_DATA/R10m/T14RMP_20220218T171339_B08_10m.tif?st=2023-10-19T20%3A07%3A51Z&se=2023-10-20T20%3A52%3A51Z&sp=rl&sv=2021-06-08&sr=c&skoid=c85c15d6-d1ae-42d4-af60-e2ca0f81359b&sktid=72f988bf-86f1-41af-91ab-2d7cd011db47&skt=2023-10-20T18%3A39%3A23Z&ske=2023-10-27T18%3A39%3A23Z&sks=b&skv=2021-06-08&sig=I14J535y06XeUfYNMJm7nq7mMRmfdHIC5teraisQ3UQ%3D']},\n",
       " datetime.date(2022, 2, 8): {'green': ['https://sentinel2l2a01.blob.core.windows.net/sentinel2-l2/14/R/MP/2022/02/08/S2B_MSIL2A_20220208T171449_N0400_R112_T14RMP_20220220T150221.SAFE/GRANULE/L2A_T14RMP_A025735_20220208T171931/IMG_DATA/R10m/T14RMP_20220208T171449_B03_10m.tif?st=2023-10-19T20%3A07%3A51Z&se=2023-10-20T20%3A52%3A51Z&sp=rl&sv=2021-06-08&sr=c&skoid=c85c15d6-d1ae-42d4-af60-e2ca0f81359b&sktid=72f988bf-86f1-41af-91ab-2d7cd011db47&skt=2023-10-20T18%3A39%3A23Z&ske=2023-10-27T18%3A39%3A23Z&sks=b&skv=2021-06-08&sig=I14J535y06XeUfYNMJm7nq7mMRmfdHIC5teraisQ3UQ%3D'],\n",
       "  'nir': ['https://sentinel2l2a01.blob.core.windows.net/sentinel2-l2/14/R/MP/2022/02/08/S2B_MSIL2A_20220208T171449_N0400_R112_T14RMP_20220220T150221.SAFE/GRANULE/L2A_T14RMP_A025735_20220208T171931/IMG_DATA/R10m/T14RMP_20220208T171449_B08_10m.tif?st=2023-10-19T20%3A07%3A51Z&se=2023-10-20T20%3A52%3A51Z&sp=rl&sv=2021-06-08&sr=c&skoid=c85c15d6-d1ae-42d4-af60-e2ca0f81359b&sktid=72f988bf-86f1-41af-91ab-2d7cd011db47&skt=2023-10-20T18%3A39%3A23Z&ske=2023-10-27T18%3A39%3A23Z&sks=b&skv=2021-06-08&sig=I14J535y06XeUfYNMJm7nq7mMRmfdHIC5teraisQ3UQ%3D']},\n",
       " datetime.date(2022, 3, 30): {'green': ['https://sentinel2l2a01.blob.core.windows.net/sentinel2-l2/14/R/MP/2022/03/30/S2B_MSIL2A_20220330T170849_N0400_R112_T14RMP_20220331T043636.SAFE/GRANULE/L2A_T14RMP_A026450_20220330T172120/IMG_DATA/R10m/T14RMP_20220330T170849_B03_10m.tif?st=2023-10-19T20%3A07%3A51Z&se=2023-10-20T20%3A52%3A51Z&sp=rl&sv=2021-06-08&sr=c&skoid=c85c15d6-d1ae-42d4-af60-e2ca0f81359b&sktid=72f988bf-86f1-41af-91ab-2d7cd011db47&skt=2023-10-20T18%3A39%3A23Z&ske=2023-10-27T18%3A39%3A23Z&sks=b&skv=2021-06-08&sig=I14J535y06XeUfYNMJm7nq7mMRmfdHIC5teraisQ3UQ%3D'],\n",
       "  'nir': ['https://sentinel2l2a01.blob.core.windows.net/sentinel2-l2/14/R/MP/2022/03/30/S2B_MSIL2A_20220330T170849_N0400_R112_T14RMP_20220331T043636.SAFE/GRANULE/L2A_T14RMP_A026450_20220330T172120/IMG_DATA/R10m/T14RMP_20220330T170849_B08_10m.tif?st=2023-10-19T20%3A07%3A51Z&se=2023-10-20T20%3A52%3A51Z&sp=rl&sv=2021-06-08&sr=c&skoid=c85c15d6-d1ae-42d4-af60-e2ca0f81359b&sktid=72f988bf-86f1-41af-91ab-2d7cd011db47&skt=2023-10-20T18%3A39%3A23Z&ske=2023-10-27T18%3A39%3A23Z&sks=b&skv=2021-06-08&sig=I14J535y06XeUfYNMJm7nq7mMRmfdHIC5teraisQ3UQ%3D']},\n",
       " datetime.date(2022, 3, 25): {'green': ['https://sentinel2l2a01.blob.core.windows.net/sentinel2-l2/14/R/MP/2022/03/25/S2A_MSIL2A_20220325T170941_N0400_R112_T14RMP_20220326T070244.SAFE/GRANULE/L2A_T14RMP_A035287_20220325T172612/IMG_DATA/R10m/T14RMP_20220325T170941_B03_10m.tif?st=2023-10-19T20%3A07%3A51Z&se=2023-10-20T20%3A52%3A51Z&sp=rl&sv=2021-06-08&sr=c&skoid=c85c15d6-d1ae-42d4-af60-e2ca0f81359b&sktid=72f988bf-86f1-41af-91ab-2d7cd011db47&skt=2023-10-20T18%3A39%3A23Z&ske=2023-10-27T18%3A39%3A23Z&sks=b&skv=2021-06-08&sig=I14J535y06XeUfYNMJm7nq7mMRmfdHIC5teraisQ3UQ%3D'],\n",
       "  'nir': ['https://sentinel2l2a01.blob.core.windows.net/sentinel2-l2/14/R/MP/2022/03/25/S2A_MSIL2A_20220325T170941_N0400_R112_T14RMP_20220326T070244.SAFE/GRANULE/L2A_T14RMP_A035287_20220325T172612/IMG_DATA/R10m/T14RMP_20220325T170941_B08_10m.tif?st=2023-10-19T20%3A07%3A51Z&se=2023-10-20T20%3A52%3A51Z&sp=rl&sv=2021-06-08&sr=c&skoid=c85c15d6-d1ae-42d4-af60-e2ca0f81359b&sktid=72f988bf-86f1-41af-91ab-2d7cd011db47&skt=2023-10-20T18%3A39%3A23Z&ske=2023-10-27T18%3A39%3A23Z&sks=b&skv=2021-06-08&sig=I14J535y06XeUfYNMJm7nq7mMRmfdHIC5teraisQ3UQ%3D']},\n",
       " datetime.date(2022, 3, 20): {'green': ['https://sentinel2l2a01.blob.core.windows.net/sentinel2-l2/14/R/MP/2022/03/20/S2B_MSIL2A_20220320T170919_N0400_R112_T14RMP_20220321T045443.SAFE/GRANULE/L2A_T14RMP_A026307_20220320T172139/IMG_DATA/R10m/T14RMP_20220320T170919_B03_10m.tif?st=2023-10-19T20%3A07%3A51Z&se=2023-10-20T20%3A52%3A51Z&sp=rl&sv=2021-06-08&sr=c&skoid=c85c15d6-d1ae-42d4-af60-e2ca0f81359b&sktid=72f988bf-86f1-41af-91ab-2d7cd011db47&skt=2023-10-20T18%3A39%3A23Z&ske=2023-10-27T18%3A39%3A23Z&sks=b&skv=2021-06-08&sig=I14J535y06XeUfYNMJm7nq7mMRmfdHIC5teraisQ3UQ%3D'],\n",
       "  'nir': ['https://sentinel2l2a01.blob.core.windows.net/sentinel2-l2/14/R/MP/2022/03/20/S2B_MSIL2A_20220320T170919_N0400_R112_T14RMP_20220321T045443.SAFE/GRANULE/L2A_T14RMP_A026307_20220320T172139/IMG_DATA/R10m/T14RMP_20220320T170919_B08_10m.tif?st=2023-10-19T20%3A07%3A51Z&se=2023-10-20T20%3A52%3A51Z&sp=rl&sv=2021-06-08&sr=c&skoid=c85c15d6-d1ae-42d4-af60-e2ca0f81359b&sktid=72f988bf-86f1-41af-91ab-2d7cd011db47&skt=2023-10-20T18%3A39%3A23Z&ske=2023-10-27T18%3A39%3A23Z&sks=b&skv=2021-06-08&sig=I14J535y06XeUfYNMJm7nq7mMRmfdHIC5teraisQ3UQ%3D']},\n",
       " datetime.date(2022, 3, 15): {'green': ['https://sentinel2l2a01.blob.core.windows.net/sentinel2-l2/14/R/MP/2022/03/15/S2A_MSIL2A_20220315T171051_N0400_R112_T14RMP_20220316T074340.SAFE/GRANULE/L2A_T14RMP_A035144_20220315T171846/IMG_DATA/R10m/T14RMP_20220315T171051_B03_10m.tif?st=2023-10-19T20%3A07%3A51Z&se=2023-10-20T20%3A52%3A51Z&sp=rl&sv=2021-06-08&sr=c&skoid=c85c15d6-d1ae-42d4-af60-e2ca0f81359b&sktid=72f988bf-86f1-41af-91ab-2d7cd011db47&skt=2023-10-20T18%3A39%3A23Z&ske=2023-10-27T18%3A39%3A23Z&sks=b&skv=2021-06-08&sig=I14J535y06XeUfYNMJm7nq7mMRmfdHIC5teraisQ3UQ%3D'],\n",
       "  'nir': ['https://sentinel2l2a01.blob.core.windows.net/sentinel2-l2/14/R/MP/2022/03/15/S2A_MSIL2A_20220315T171051_N0400_R112_T14RMP_20220316T074340.SAFE/GRANULE/L2A_T14RMP_A035144_20220315T171846/IMG_DATA/R10m/T14RMP_20220315T171051_B08_10m.tif?st=2023-10-19T20%3A07%3A51Z&se=2023-10-20T20%3A52%3A51Z&sp=rl&sv=2021-06-08&sr=c&skoid=c85c15d6-d1ae-42d4-af60-e2ca0f81359b&sktid=72f988bf-86f1-41af-91ab-2d7cd011db47&skt=2023-10-20T18%3A39%3A23Z&ske=2023-10-27T18%3A39%3A23Z&sks=b&skv=2021-06-08&sig=I14J535y06XeUfYNMJm7nq7mMRmfdHIC5teraisQ3UQ%3D']},\n",
       " datetime.date(2022, 3, 5): {'green': ['https://sentinel2l2a01.blob.core.windows.net/sentinel2-l2/14/R/MP/2022/03/05/S2A_MSIL2A_20220305T171211_N0400_R112_T14RMP_20220306T090132.SAFE/GRANULE/L2A_T14RMP_A035001_20220305T172317/IMG_DATA/R10m/T14RMP_20220305T171211_B03_10m.tif?st=2023-10-19T20%3A07%3A51Z&se=2023-10-20T20%3A52%3A51Z&sp=rl&sv=2021-06-08&sr=c&skoid=c85c15d6-d1ae-42d4-af60-e2ca0f81359b&sktid=72f988bf-86f1-41af-91ab-2d7cd011db47&skt=2023-10-20T18%3A39%3A23Z&ske=2023-10-27T18%3A39%3A23Z&sks=b&skv=2021-06-08&sig=I14J535y06XeUfYNMJm7nq7mMRmfdHIC5teraisQ3UQ%3D'],\n",
       "  'nir': ['https://sentinel2l2a01.blob.core.windows.net/sentinel2-l2/14/R/MP/2022/03/05/S2A_MSIL2A_20220305T171211_N0400_R112_T14RMP_20220306T090132.SAFE/GRANULE/L2A_T14RMP_A035001_20220305T172317/IMG_DATA/R10m/T14RMP_20220305T171211_B08_10m.tif?st=2023-10-19T20%3A07%3A51Z&se=2023-10-20T20%3A52%3A51Z&sp=rl&sv=2021-06-08&sr=c&skoid=c85c15d6-d1ae-42d4-af60-e2ca0f81359b&sktid=72f988bf-86f1-41af-91ab-2d7cd011db47&skt=2023-10-20T18%3A39%3A23Z&ske=2023-10-27T18%3A39%3A23Z&sks=b&skv=2021-06-08&sig=I14J535y06XeUfYNMJm7nq7mMRmfdHIC5teraisQ3UQ%3D']},\n",
       " datetime.date(2022, 4, 9): {'green': ['https://sentinel2l2a01.blob.core.windows.net/sentinel2-l2/14/R/MP/2022/04/09/S2B_MSIL2A_20220409T170849_N0400_R112_T14RMP_20220410T135537.SAFE/GRANULE/L2A_T14RMP_A026593_20220409T171854/IMG_DATA/R10m/T14RMP_20220409T170849_B03_10m.tif?st=2023-10-19T20%3A07%3A51Z&se=2023-10-20T20%3A52%3A51Z&sp=rl&sv=2021-06-08&sr=c&skoid=c85c15d6-d1ae-42d4-af60-e2ca0f81359b&sktid=72f988bf-86f1-41af-91ab-2d7cd011db47&skt=2023-10-20T18%3A39%3A23Z&ske=2023-10-27T18%3A39%3A23Z&sks=b&skv=2021-06-08&sig=I14J535y06XeUfYNMJm7nq7mMRmfdHIC5teraisQ3UQ%3D'],\n",
       "  'nir': ['https://sentinel2l2a01.blob.core.windows.net/sentinel2-l2/14/R/MP/2022/04/09/S2B_MSIL2A_20220409T170849_N0400_R112_T14RMP_20220410T135537.SAFE/GRANULE/L2A_T14RMP_A026593_20220409T171854/IMG_DATA/R10m/T14RMP_20220409T170849_B08_10m.tif?st=2023-10-19T20%3A07%3A51Z&se=2023-10-20T20%3A52%3A51Z&sp=rl&sv=2021-06-08&sr=c&skoid=c85c15d6-d1ae-42d4-af60-e2ca0f81359b&sktid=72f988bf-86f1-41af-91ab-2d7cd011db47&skt=2023-10-20T18%3A39%3A23Z&ske=2023-10-27T18%3A39%3A23Z&sks=b&skv=2021-06-08&sig=I14J535y06XeUfYNMJm7nq7mMRmfdHIC5teraisQ3UQ%3D']},\n",
       " datetime.date(2022, 5, 19): {'green': ['https://sentinel2l2a01.blob.core.windows.net/sentinel2-l2/14/R/MP/2022/05/19/S2B_MSIL2A_20220519T170849_N0400_R112_T14RMP_20220521T095339.SAFE/GRANULE/L2A_T14RMP_A027165_20220519T172128/IMG_DATA/R10m/T14RMP_20220519T170849_B03_10m.tif?st=2023-10-19T20%3A07%3A51Z&se=2023-10-20T20%3A52%3A51Z&sp=rl&sv=2021-06-08&sr=c&skoid=c85c15d6-d1ae-42d4-af60-e2ca0f81359b&sktid=72f988bf-86f1-41af-91ab-2d7cd011db47&skt=2023-10-20T18%3A39%3A23Z&ske=2023-10-27T18%3A39%3A23Z&sks=b&skv=2021-06-08&sig=I14J535y06XeUfYNMJm7nq7mMRmfdHIC5teraisQ3UQ%3D'],\n",
       "  'nir': ['https://sentinel2l2a01.blob.core.windows.net/sentinel2-l2/14/R/MP/2022/05/19/S2B_MSIL2A_20220519T170849_N0400_R112_T14RMP_20220521T095339.SAFE/GRANULE/L2A_T14RMP_A027165_20220519T172128/IMG_DATA/R10m/T14RMP_20220519T170849_B08_10m.tif?st=2023-10-19T20%3A07%3A51Z&se=2023-10-20T20%3A52%3A51Z&sp=rl&sv=2021-06-08&sr=c&skoid=c85c15d6-d1ae-42d4-af60-e2ca0f81359b&sktid=72f988bf-86f1-41af-91ab-2d7cd011db47&skt=2023-10-20T18%3A39%3A23Z&ske=2023-10-27T18%3A39%3A23Z&sks=b&skv=2021-06-08&sig=I14J535y06XeUfYNMJm7nq7mMRmfdHIC5teraisQ3UQ%3D']},\n",
       " datetime.date(2022, 5, 14): {'green': ['https://sentinel2l2a01.blob.core.windows.net/sentinel2-l2/14/R/MP/2022/05/14/S2A_MSIL2A_20220514T170851_N0400_R112_T14RMP_20220516T235353.SAFE/GRANULE/L2A_T14RMP_A036002_20220514T171813/IMG_DATA/R10m/T14RMP_20220514T170851_B03_10m.tif?st=2023-10-19T20%3A07%3A51Z&se=2023-10-20T20%3A52%3A51Z&sp=rl&sv=2021-06-08&sr=c&skoid=c85c15d6-d1ae-42d4-af60-e2ca0f81359b&sktid=72f988bf-86f1-41af-91ab-2d7cd011db47&skt=2023-10-20T18%3A39%3A23Z&ske=2023-10-27T18%3A39%3A23Z&sks=b&skv=2021-06-08&sig=I14J535y06XeUfYNMJm7nq7mMRmfdHIC5teraisQ3UQ%3D'],\n",
       "  'nir': ['https://sentinel2l2a01.blob.core.windows.net/sentinel2-l2/14/R/MP/2022/05/14/S2A_MSIL2A_20220514T170851_N0400_R112_T14RMP_20220516T235353.SAFE/GRANULE/L2A_T14RMP_A036002_20220514T171813/IMG_DATA/R10m/T14RMP_20220514T170851_B08_10m.tif?st=2023-10-19T20%3A07%3A51Z&se=2023-10-20T20%3A52%3A51Z&sp=rl&sv=2021-06-08&sr=c&skoid=c85c15d6-d1ae-42d4-af60-e2ca0f81359b&sktid=72f988bf-86f1-41af-91ab-2d7cd011db47&skt=2023-10-20T18%3A39%3A23Z&ske=2023-10-27T18%3A39%3A23Z&sks=b&skv=2021-06-08&sig=I14J535y06XeUfYNMJm7nq7mMRmfdHIC5teraisQ3UQ%3D']},\n",
       " datetime.date(2022, 5, 9): {'green': ['https://sentinel2l2a01.blob.core.windows.net/sentinel2-l2/14/R/MP/2022/05/09/S2B_MSIL2A_20220509T170849_N0400_R112_T14RMP_20220510T190034.SAFE/GRANULE/L2A_T14RMP_A027022_20220509T171847/IMG_DATA/R10m/T14RMP_20220509T170849_B03_10m.tif?st=2023-10-19T20%3A07%3A51Z&se=2023-10-20T20%3A52%3A51Z&sp=rl&sv=2021-06-08&sr=c&skoid=c85c15d6-d1ae-42d4-af60-e2ca0f81359b&sktid=72f988bf-86f1-41af-91ab-2d7cd011db47&skt=2023-10-20T18%3A39%3A23Z&ske=2023-10-27T18%3A39%3A23Z&sks=b&skv=2021-06-08&sig=I14J535y06XeUfYNMJm7nq7mMRmfdHIC5teraisQ3UQ%3D'],\n",
       "  'nir': ['https://sentinel2l2a01.blob.core.windows.net/sentinel2-l2/14/R/MP/2022/05/09/S2B_MSIL2A_20220509T170849_N0400_R112_T14RMP_20220510T190034.SAFE/GRANULE/L2A_T14RMP_A027022_20220509T171847/IMG_DATA/R10m/T14RMP_20220509T170849_B08_10m.tif?st=2023-10-19T20%3A07%3A51Z&se=2023-10-20T20%3A52%3A51Z&sp=rl&sv=2021-06-08&sr=c&skoid=c85c15d6-d1ae-42d4-af60-e2ca0f81359b&sktid=72f988bf-86f1-41af-91ab-2d7cd011db47&skt=2023-10-20T18%3A39%3A23Z&ske=2023-10-27T18%3A39%3A23Z&sks=b&skv=2021-06-08&sig=I14J535y06XeUfYNMJm7nq7mMRmfdHIC5teraisQ3UQ%3D']},\n",
       " datetime.date(2022, 6, 23): {'green': ['https://sentinel2l2a01.blob.core.windows.net/sentinel2-l2/14/R/MP/2022/06/23/S2A_MSIL2A_20220623T170901_N0400_R112_T14RMP_20220624T070707.SAFE/GRANULE/L2A_T14RMP_A036574_20220623T172003/IMG_DATA/R10m/T14RMP_20220623T170901_B03_10m.tif?st=2023-10-19T20%3A07%3A51Z&se=2023-10-20T20%3A52%3A51Z&sp=rl&sv=2021-06-08&sr=c&skoid=c85c15d6-d1ae-42d4-af60-e2ca0f81359b&sktid=72f988bf-86f1-41af-91ab-2d7cd011db47&skt=2023-10-20T18%3A39%3A23Z&ske=2023-10-27T18%3A39%3A23Z&sks=b&skv=2021-06-08&sig=I14J535y06XeUfYNMJm7nq7mMRmfdHIC5teraisQ3UQ%3D'],\n",
       "  'nir': ['https://sentinel2l2a01.blob.core.windows.net/sentinel2-l2/14/R/MP/2022/06/23/S2A_MSIL2A_20220623T170901_N0400_R112_T14RMP_20220624T070707.SAFE/GRANULE/L2A_T14RMP_A036574_20220623T172003/IMG_DATA/R10m/T14RMP_20220623T170901_B08_10m.tif?st=2023-10-19T20%3A07%3A51Z&se=2023-10-20T20%3A52%3A51Z&sp=rl&sv=2021-06-08&sr=c&skoid=c85c15d6-d1ae-42d4-af60-e2ca0f81359b&sktid=72f988bf-86f1-41af-91ab-2d7cd011db47&skt=2023-10-20T18%3A39%3A23Z&ske=2023-10-27T18%3A39%3A23Z&sks=b&skv=2021-06-08&sig=I14J535y06XeUfYNMJm7nq7mMRmfdHIC5teraisQ3UQ%3D']},\n",
       " datetime.date(2022, 6, 8): {'green': ['https://sentinel2l2a01.blob.core.windows.net/sentinel2-l2/14/R/MP/2022/06/08/S2B_MSIL2A_20220608T170849_N0400_R112_T14RMP_20220609T082451.SAFE/GRANULE/L2A_T14RMP_A027451_20220608T171949/IMG_DATA/R10m/T14RMP_20220608T170849_B03_10m.tif?st=2023-10-19T20%3A07%3A51Z&se=2023-10-20T20%3A52%3A51Z&sp=rl&sv=2021-06-08&sr=c&skoid=c85c15d6-d1ae-42d4-af60-e2ca0f81359b&sktid=72f988bf-86f1-41af-91ab-2d7cd011db47&skt=2023-10-20T18%3A39%3A23Z&ske=2023-10-27T18%3A39%3A23Z&sks=b&skv=2021-06-08&sig=I14J535y06XeUfYNMJm7nq7mMRmfdHIC5teraisQ3UQ%3D'],\n",
       "  'nir': ['https://sentinel2l2a01.blob.core.windows.net/sentinel2-l2/14/R/MP/2022/06/08/S2B_MSIL2A_20220608T170849_N0400_R112_T14RMP_20220609T082451.SAFE/GRANULE/L2A_T14RMP_A027451_20220608T171949/IMG_DATA/R10m/T14RMP_20220608T170849_B08_10m.tif?st=2023-10-19T20%3A07%3A51Z&se=2023-10-20T20%3A52%3A51Z&sp=rl&sv=2021-06-08&sr=c&skoid=c85c15d6-d1ae-42d4-af60-e2ca0f81359b&sktid=72f988bf-86f1-41af-91ab-2d7cd011db47&skt=2023-10-20T18%3A39%3A23Z&ske=2023-10-27T18%3A39%3A23Z&sks=b&skv=2021-06-08&sig=I14J535y06XeUfYNMJm7nq7mMRmfdHIC5teraisQ3UQ%3D']},\n",
       " datetime.date(2022, 7, 23): {'green': ['https://sentinel2l2a01.blob.core.windows.net/sentinel2-l2/14/R/MP/2022/07/23/S2A_MSIL2A_20220723T170901_N0400_R112_T14RMP_20220725T180456.SAFE/GRANULE/L2A_T14RMP_A037003_20220723T172122/IMG_DATA/R10m/T14RMP_20220723T170901_B03_10m.tif?st=2023-10-19T20%3A07%3A51Z&se=2023-10-20T20%3A52%3A51Z&sp=rl&sv=2021-06-08&sr=c&skoid=c85c15d6-d1ae-42d4-af60-e2ca0f81359b&sktid=72f988bf-86f1-41af-91ab-2d7cd011db47&skt=2023-10-20T18%3A39%3A23Z&ske=2023-10-27T18%3A39%3A23Z&sks=b&skv=2021-06-08&sig=I14J535y06XeUfYNMJm7nq7mMRmfdHIC5teraisQ3UQ%3D'],\n",
       "  'nir': ['https://sentinel2l2a01.blob.core.windows.net/sentinel2-l2/14/R/MP/2022/07/23/S2A_MSIL2A_20220723T170901_N0400_R112_T14RMP_20220725T180456.SAFE/GRANULE/L2A_T14RMP_A037003_20220723T172122/IMG_DATA/R10m/T14RMP_20220723T170901_B08_10m.tif?st=2023-10-19T20%3A07%3A51Z&se=2023-10-20T20%3A52%3A51Z&sp=rl&sv=2021-06-08&sr=c&skoid=c85c15d6-d1ae-42d4-af60-e2ca0f81359b&sktid=72f988bf-86f1-41af-91ab-2d7cd011db47&skt=2023-10-20T18%3A39%3A23Z&ske=2023-10-27T18%3A39%3A23Z&sks=b&skv=2021-06-08&sig=I14J535y06XeUfYNMJm7nq7mMRmfdHIC5teraisQ3UQ%3D']},\n",
       " datetime.date(2022, 7, 8): {'green': ['https://sentinel2l2a01.blob.core.windows.net/sentinel2-l2/14/R/MP/2022/07/08/S2B_MSIL2A_20220708T170859_N0400_R112_T14RMP_20220709T080047.SAFE/GRANULE/L2A_T14RMP_A027880_20220708T171447/IMG_DATA/R10m/T14RMP_20220708T170859_B03_10m.tif?st=2023-10-19T20%3A07%3A51Z&se=2023-10-20T20%3A52%3A51Z&sp=rl&sv=2021-06-08&sr=c&skoid=c85c15d6-d1ae-42d4-af60-e2ca0f81359b&sktid=72f988bf-86f1-41af-91ab-2d7cd011db47&skt=2023-10-20T18%3A39%3A23Z&ske=2023-10-27T18%3A39%3A23Z&sks=b&skv=2021-06-08&sig=I14J535y06XeUfYNMJm7nq7mMRmfdHIC5teraisQ3UQ%3D'],\n",
       "  'nir': ['https://sentinel2l2a01.blob.core.windows.net/sentinel2-l2/14/R/MP/2022/07/08/S2B_MSIL2A_20220708T170859_N0400_R112_T14RMP_20220709T080047.SAFE/GRANULE/L2A_T14RMP_A027880_20220708T171447/IMG_DATA/R10m/T14RMP_20220708T170859_B08_10m.tif?st=2023-10-19T20%3A07%3A51Z&se=2023-10-20T20%3A52%3A51Z&sp=rl&sv=2021-06-08&sr=c&skoid=c85c15d6-d1ae-42d4-af60-e2ca0f81359b&sktid=72f988bf-86f1-41af-91ab-2d7cd011db47&skt=2023-10-20T18%3A39%3A23Z&ske=2023-10-27T18%3A39%3A23Z&sks=b&skv=2021-06-08&sig=I14J535y06XeUfYNMJm7nq7mMRmfdHIC5teraisQ3UQ%3D']},\n",
       " datetime.date(2022, 8, 27): {'green': ['https://sentinel2l2a01.blob.core.windows.net/sentinel2-l2/14/R/MP/2022/08/27/S2B_MSIL2A_20220827T170849_N0400_R112_T14RMP_20220829T071212.SAFE/GRANULE/L2A_T14RMP_A028595_20220827T172328/IMG_DATA/R10m/T14RMP_20220827T170849_B03_10m.tif?st=2023-10-19T20%3A07%3A51Z&se=2023-10-20T20%3A52%3A51Z&sp=rl&sv=2021-06-08&sr=c&skoid=c85c15d6-d1ae-42d4-af60-e2ca0f81359b&sktid=72f988bf-86f1-41af-91ab-2d7cd011db47&skt=2023-10-20T18%3A39%3A23Z&ske=2023-10-27T18%3A39%3A23Z&sks=b&skv=2021-06-08&sig=I14J535y06XeUfYNMJm7nq7mMRmfdHIC5teraisQ3UQ%3D'],\n",
       "  'nir': ['https://sentinel2l2a01.blob.core.windows.net/sentinel2-l2/14/R/MP/2022/08/27/S2B_MSIL2A_20220827T170849_N0400_R112_T14RMP_20220829T071212.SAFE/GRANULE/L2A_T14RMP_A028595_20220827T172328/IMG_DATA/R10m/T14RMP_20220827T170849_B08_10m.tif?st=2023-10-19T20%3A07%3A51Z&se=2023-10-20T20%3A52%3A51Z&sp=rl&sv=2021-06-08&sr=c&skoid=c85c15d6-d1ae-42d4-af60-e2ca0f81359b&sktid=72f988bf-86f1-41af-91ab-2d7cd011db47&skt=2023-10-20T18%3A39%3A23Z&ske=2023-10-27T18%3A39%3A23Z&sks=b&skv=2021-06-08&sig=I14J535y06XeUfYNMJm7nq7mMRmfdHIC5teraisQ3UQ%3D']},\n",
       " datetime.date(2022, 8, 7): {'green': ['https://sentinel2l2a01.blob.core.windows.net/sentinel2-l2/14/R/MP/2022/08/07/S2B_MSIL2A_20220807T170849_N0400_R112_T14RMP_20220809T093300.SAFE/GRANULE/L2A_T14RMP_A028309_20220807T172618/IMG_DATA/R10m/T14RMP_20220807T170849_B03_10m.tif?st=2023-10-19T20%3A07%3A51Z&se=2023-10-20T20%3A52%3A51Z&sp=rl&sv=2021-06-08&sr=c&skoid=c85c15d6-d1ae-42d4-af60-e2ca0f81359b&sktid=72f988bf-86f1-41af-91ab-2d7cd011db47&skt=2023-10-20T18%3A39%3A23Z&ske=2023-10-27T18%3A39%3A23Z&sks=b&skv=2021-06-08&sig=I14J535y06XeUfYNMJm7nq7mMRmfdHIC5teraisQ3UQ%3D'],\n",
       "  'nir': ['https://sentinel2l2a01.blob.core.windows.net/sentinel2-l2/14/R/MP/2022/08/07/S2B_MSIL2A_20220807T170849_N0400_R112_T14RMP_20220809T093300.SAFE/GRANULE/L2A_T14RMP_A028309_20220807T172618/IMG_DATA/R10m/T14RMP_20220807T170849_B08_10m.tif?st=2023-10-19T20%3A07%3A51Z&se=2023-10-20T20%3A52%3A51Z&sp=rl&sv=2021-06-08&sr=c&skoid=c85c15d6-d1ae-42d4-af60-e2ca0f81359b&sktid=72f988bf-86f1-41af-91ab-2d7cd011db47&skt=2023-10-20T18%3A39%3A23Z&ske=2023-10-27T18%3A39%3A23Z&sks=b&skv=2021-06-08&sig=I14J535y06XeUfYNMJm7nq7mMRmfdHIC5teraisQ3UQ%3D']},\n",
       " datetime.date(2022, 10, 26): {'green': ['https://sentinel2l2a01.blob.core.windows.net/sentinel2-l2/14/R/MP/2022/10/26/S2B_MSIL2A_20221026T171409_N0400_R112_T14RMP_20221027T062951.SAFE/GRANULE/L2A_T14RMP_A029453_20221026T172343/IMG_DATA/R10m/T14RMP_20221026T171409_B03_10m.tif?st=2023-10-19T20%3A07%3A51Z&se=2023-10-20T20%3A52%3A51Z&sp=rl&sv=2021-06-08&sr=c&skoid=c85c15d6-d1ae-42d4-af60-e2ca0f81359b&sktid=72f988bf-86f1-41af-91ab-2d7cd011db47&skt=2023-10-20T18%3A39%3A23Z&ske=2023-10-27T18%3A39%3A23Z&sks=b&skv=2021-06-08&sig=I14J535y06XeUfYNMJm7nq7mMRmfdHIC5teraisQ3UQ%3D'],\n",
       "  'nir': ['https://sentinel2l2a01.blob.core.windows.net/sentinel2-l2/14/R/MP/2022/10/26/S2B_MSIL2A_20221026T171409_N0400_R112_T14RMP_20221027T062951.SAFE/GRANULE/L2A_T14RMP_A029453_20221026T172343/IMG_DATA/R10m/T14RMP_20221026T171409_B08_10m.tif?st=2023-10-19T20%3A07%3A51Z&se=2023-10-20T20%3A52%3A51Z&sp=rl&sv=2021-06-08&sr=c&skoid=c85c15d6-d1ae-42d4-af60-e2ca0f81359b&sktid=72f988bf-86f1-41af-91ab-2d7cd011db47&skt=2023-10-20T18%3A39%3A23Z&ske=2023-10-27T18%3A39%3A23Z&sks=b&skv=2021-06-08&sig=I14J535y06XeUfYNMJm7nq7mMRmfdHIC5teraisQ3UQ%3D']},\n",
       " datetime.date(2022, 10, 21): {'green': ['https://sentinel2l2a01.blob.core.windows.net/sentinel2-l2/14/R/MP/2022/10/21/S2A_MSIL2A_20221021T171341_N0400_R112_T14RMP_20221022T192818.SAFE/GRANULE/L2A_T14RMP_A038290_20221021T172518/IMG_DATA/R10m/T14RMP_20221021T171341_B03_10m.tif?st=2023-10-19T20%3A07%3A51Z&se=2023-10-20T20%3A52%3A51Z&sp=rl&sv=2021-06-08&sr=c&skoid=c85c15d6-d1ae-42d4-af60-e2ca0f81359b&sktid=72f988bf-86f1-41af-91ab-2d7cd011db47&skt=2023-10-20T18%3A39%3A23Z&ske=2023-10-27T18%3A39%3A23Z&sks=b&skv=2021-06-08&sig=I14J535y06XeUfYNMJm7nq7mMRmfdHIC5teraisQ3UQ%3D'],\n",
       "  'nir': ['https://sentinel2l2a01.blob.core.windows.net/sentinel2-l2/14/R/MP/2022/10/21/S2A_MSIL2A_20221021T171341_N0400_R112_T14RMP_20221022T192818.SAFE/GRANULE/L2A_T14RMP_A038290_20221021T172518/IMG_DATA/R10m/T14RMP_20221021T171341_B08_10m.tif?st=2023-10-19T20%3A07%3A51Z&se=2023-10-20T20%3A52%3A51Z&sp=rl&sv=2021-06-08&sr=c&skoid=c85c15d6-d1ae-42d4-af60-e2ca0f81359b&sktid=72f988bf-86f1-41af-91ab-2d7cd011db47&skt=2023-10-20T18%3A39%3A23Z&ske=2023-10-27T18%3A39%3A23Z&sks=b&skv=2021-06-08&sig=I14J535y06XeUfYNMJm7nq7mMRmfdHIC5teraisQ3UQ%3D']},\n",
       " datetime.date(2022, 10, 1): {'green': ['https://sentinel2l2a01.blob.core.windows.net/sentinel2-l2/14/R/MP/2022/10/01/S2A_MSIL2A_20221001T171131_N0400_R112_T14RMP_20221002T115343.SAFE/GRANULE/L2A_T14RMP_A038004_20221001T171534/IMG_DATA/R10m/T14RMP_20221001T171131_B03_10m.tif?st=2023-10-19T20%3A07%3A51Z&se=2023-10-20T20%3A52%3A51Z&sp=rl&sv=2021-06-08&sr=c&skoid=c85c15d6-d1ae-42d4-af60-e2ca0f81359b&sktid=72f988bf-86f1-41af-91ab-2d7cd011db47&skt=2023-10-20T18%3A39%3A23Z&ske=2023-10-27T18%3A39%3A23Z&sks=b&skv=2021-06-08&sig=I14J535y06XeUfYNMJm7nq7mMRmfdHIC5teraisQ3UQ%3D'],\n",
       "  'nir': ['https://sentinel2l2a01.blob.core.windows.net/sentinel2-l2/14/R/MP/2022/10/01/S2A_MSIL2A_20221001T171131_N0400_R112_T14RMP_20221002T115343.SAFE/GRANULE/L2A_T14RMP_A038004_20221001T171534/IMG_DATA/R10m/T14RMP_20221001T171131_B08_10m.tif?st=2023-10-19T20%3A07%3A51Z&se=2023-10-20T20%3A52%3A51Z&sp=rl&sv=2021-06-08&sr=c&skoid=c85c15d6-d1ae-42d4-af60-e2ca0f81359b&sktid=72f988bf-86f1-41af-91ab-2d7cd011db47&skt=2023-10-20T18%3A39%3A23Z&ske=2023-10-27T18%3A39%3A23Z&sks=b&skv=2021-06-08&sig=I14J535y06XeUfYNMJm7nq7mMRmfdHIC5teraisQ3UQ%3D']},\n",
       " datetime.date(2022, 11, 5): {'green': ['https://sentinel2l2a01.blob.core.windows.net/sentinel2-l2/14/R/MP/2022/11/05/S2B_MSIL2A_20221105T171509_N0400_R112_T14RMP_20221106T155535.SAFE/GRANULE/L2A_T14RMP_A029596_20221105T171919/IMG_DATA/R10m/T14RMP_20221105T171509_B03_10m.tif?st=2023-10-19T20%3A07%3A51Z&se=2023-10-20T20%3A52%3A51Z&sp=rl&sv=2021-06-08&sr=c&skoid=c85c15d6-d1ae-42d4-af60-e2ca0f81359b&sktid=72f988bf-86f1-41af-91ab-2d7cd011db47&skt=2023-10-20T18%3A39%3A23Z&ske=2023-10-27T18%3A39%3A23Z&sks=b&skv=2021-06-08&sig=I14J535y06XeUfYNMJm7nq7mMRmfdHIC5teraisQ3UQ%3D'],\n",
       "  'nir': ['https://sentinel2l2a01.blob.core.windows.net/sentinel2-l2/14/R/MP/2022/11/05/S2B_MSIL2A_20221105T171509_N0400_R112_T14RMP_20221106T155535.SAFE/GRANULE/L2A_T14RMP_A029596_20221105T171919/IMG_DATA/R10m/T14RMP_20221105T171509_B08_10m.tif?st=2023-10-19T20%3A07%3A51Z&se=2023-10-20T20%3A52%3A51Z&sp=rl&sv=2021-06-08&sr=c&skoid=c85c15d6-d1ae-42d4-af60-e2ca0f81359b&sktid=72f988bf-86f1-41af-91ab-2d7cd011db47&skt=2023-10-20T18%3A39%3A23Z&ske=2023-10-27T18%3A39%3A23Z&sks=b&skv=2021-06-08&sig=I14J535y06XeUfYNMJm7nq7mMRmfdHIC5teraisQ3UQ%3D']},\n",
       " datetime.date(2022, 12, 25): {'green': ['https://sentinel2l2a01.blob.core.windows.net/sentinel2-l2/14/R/MP/2022/12/25/S2B_MSIL2A_20221225T171729_N0400_R112_T14RMP_20221226T125209.SAFE/GRANULE/L2A_T14RMP_A030311_20221225T172418/IMG_DATA/R10m/T14RMP_20221225T171729_B03_10m.tif?st=2023-10-19T20%3A07%3A51Z&se=2023-10-20T20%3A52%3A51Z&sp=rl&sv=2021-06-08&sr=c&skoid=c85c15d6-d1ae-42d4-af60-e2ca0f81359b&sktid=72f988bf-86f1-41af-91ab-2d7cd011db47&skt=2023-10-20T18%3A39%3A23Z&ske=2023-10-27T18%3A39%3A23Z&sks=b&skv=2021-06-08&sig=I14J535y06XeUfYNMJm7nq7mMRmfdHIC5teraisQ3UQ%3D'],\n",
       "  'nir': ['https://sentinel2l2a01.blob.core.windows.net/sentinel2-l2/14/R/MP/2022/12/25/S2B_MSIL2A_20221225T171729_N0400_R112_T14RMP_20221226T125209.SAFE/GRANULE/L2A_T14RMP_A030311_20221225T172418/IMG_DATA/R10m/T14RMP_20221225T171729_B08_10m.tif?st=2023-10-19T20%3A07%3A51Z&se=2023-10-20T20%3A52%3A51Z&sp=rl&sv=2021-06-08&sr=c&skoid=c85c15d6-d1ae-42d4-af60-e2ca0f81359b&sktid=72f988bf-86f1-41af-91ab-2d7cd011db47&skt=2023-10-20T18%3A39%3A23Z&ske=2023-10-27T18%3A39%3A23Z&sks=b&skv=2021-06-08&sig=I14J535y06XeUfYNMJm7nq7mMRmfdHIC5teraisQ3UQ%3D']},\n",
       " datetime.date(2022, 12, 15): {'green': ['https://sentinel2l2a01.blob.core.windows.net/sentinel2-l2/14/R/MP/2022/12/15/S2B_MSIL2A_20221215T171719_N0400_R112_T14RMP_20221216T095914.SAFE/GRANULE/L2A_T14RMP_A030168_20221215T172149/IMG_DATA/R10m/T14RMP_20221215T171719_B03_10m.tif?st=2023-10-19T20%3A07%3A51Z&se=2023-10-20T20%3A52%3A51Z&sp=rl&sv=2021-06-08&sr=c&skoid=c85c15d6-d1ae-42d4-af60-e2ca0f81359b&sktid=72f988bf-86f1-41af-91ab-2d7cd011db47&skt=2023-10-20T18%3A39%3A23Z&ske=2023-10-27T18%3A39%3A23Z&sks=b&skv=2021-06-08&sig=I14J535y06XeUfYNMJm7nq7mMRmfdHIC5teraisQ3UQ%3D'],\n",
       "  'nir': ['https://sentinel2l2a01.blob.core.windows.net/sentinel2-l2/14/R/MP/2022/12/15/S2B_MSIL2A_20221215T171719_N0400_R112_T14RMP_20221216T095914.SAFE/GRANULE/L2A_T14RMP_A030168_20221215T172149/IMG_DATA/R10m/T14RMP_20221215T171719_B08_10m.tif?st=2023-10-19T20%3A07%3A51Z&se=2023-10-20T20%3A52%3A51Z&sp=rl&sv=2021-06-08&sr=c&skoid=c85c15d6-d1ae-42d4-af60-e2ca0f81359b&sktid=72f988bf-86f1-41af-91ab-2d7cd011db47&skt=2023-10-20T18%3A39%3A23Z&ske=2023-10-27T18%3A39%3A23Z&sks=b&skv=2021-06-08&sig=I14J535y06XeUfYNMJm7nq7mMRmfdHIC5teraisQ3UQ%3D']},\n",
       " datetime.date(2023, 1, 14): {'green': ['https://sentinel2l2a01.blob.core.windows.net/sentinel2-l2/14/R/MP/2023/01/14/S2B_MSIL2A_20230114T171649_N0400_R112_T14RMP_20230115T063245.SAFE/GRANULE/L2A_T14RMP_A030597_20230114T172208/IMG_DATA/R10m/T14RMP_20230114T171649_B03_10m.tif?st=2023-10-19T20%3A07%3A51Z&se=2023-10-20T20%3A52%3A51Z&sp=rl&sv=2021-06-08&sr=c&skoid=c85c15d6-d1ae-42d4-af60-e2ca0f81359b&sktid=72f988bf-86f1-41af-91ab-2d7cd011db47&skt=2023-10-20T18%3A39%3A23Z&ske=2023-10-27T18%3A39%3A23Z&sks=b&skv=2021-06-08&sig=I14J535y06XeUfYNMJm7nq7mMRmfdHIC5teraisQ3UQ%3D'],\n",
       "  'nir': ['https://sentinel2l2a01.blob.core.windows.net/sentinel2-l2/14/R/MP/2023/01/14/S2B_MSIL2A_20230114T171649_N0400_R112_T14RMP_20230115T063245.SAFE/GRANULE/L2A_T14RMP_A030597_20230114T172208/IMG_DATA/R10m/T14RMP_20230114T171649_B08_10m.tif?st=2023-10-19T20%3A07%3A51Z&se=2023-10-20T20%3A52%3A51Z&sp=rl&sv=2021-06-08&sr=c&skoid=c85c15d6-d1ae-42d4-af60-e2ca0f81359b&sktid=72f988bf-86f1-41af-91ab-2d7cd011db47&skt=2023-10-20T18%3A39%3A23Z&ske=2023-10-27T18%3A39%3A23Z&sks=b&skv=2021-06-08&sig=I14J535y06XeUfYNMJm7nq7mMRmfdHIC5teraisQ3UQ%3D']},\n",
       " datetime.date(2023, 1, 4): {'green': ['https://sentinel2l2a01.blob.core.windows.net/sentinel2-l2/14/R/MP/2023/01/04/S2B_MSIL2A_20230104T171719_N0400_R112_T14RMP_20230105T052726.SAFE/GRANULE/L2A_T14RMP_A030454_20230104T172327/IMG_DATA/R10m/T14RMP_20230104T171719_B03_10m.tif?st=2023-10-19T20%3A07%3A51Z&se=2023-10-20T20%3A52%3A51Z&sp=rl&sv=2021-06-08&sr=c&skoid=c85c15d6-d1ae-42d4-af60-e2ca0f81359b&sktid=72f988bf-86f1-41af-91ab-2d7cd011db47&skt=2023-10-20T18%3A39%3A23Z&ske=2023-10-27T18%3A39%3A23Z&sks=b&skv=2021-06-08&sig=I14J535y06XeUfYNMJm7nq7mMRmfdHIC5teraisQ3UQ%3D'],\n",
       "  'nir': ['https://sentinel2l2a01.blob.core.windows.net/sentinel2-l2/14/R/MP/2023/01/04/S2B_MSIL2A_20230104T171719_N0400_R112_T14RMP_20230105T052726.SAFE/GRANULE/L2A_T14RMP_A030454_20230104T172327/IMG_DATA/R10m/T14RMP_20230104T171719_B08_10m.tif?st=2023-10-19T20%3A07%3A51Z&se=2023-10-20T20%3A52%3A51Z&sp=rl&sv=2021-06-08&sr=c&skoid=c85c15d6-d1ae-42d4-af60-e2ca0f81359b&sktid=72f988bf-86f1-41af-91ab-2d7cd011db47&skt=2023-10-20T18%3A39%3A23Z&ske=2023-10-27T18%3A39%3A23Z&sks=b&skv=2021-06-08&sig=I14J535y06XeUfYNMJm7nq7mMRmfdHIC5teraisQ3UQ%3D']},\n",
       " datetime.date(2023, 2, 3): {'green': ['https://sentinel2l2a01.blob.core.windows.net/sentinel2-l2/14/R/MP/2023/02/03/S2B_MSIL2A_20230203T171519_N0400_R112_T14RMP_20230208T074907.SAFE/GRANULE/L2A_T14RMP_A030883_20230203T172113/IMG_DATA/R10m/T14RMP_20230203T171519_B03_10m.tif?st=2023-10-19T20%3A07%3A51Z&se=2023-10-20T20%3A52%3A51Z&sp=rl&sv=2021-06-08&sr=c&skoid=c85c15d6-d1ae-42d4-af60-e2ca0f81359b&sktid=72f988bf-86f1-41af-91ab-2d7cd011db47&skt=2023-10-20T18%3A39%3A23Z&ske=2023-10-27T18%3A39%3A23Z&sks=b&skv=2021-06-08&sig=I14J535y06XeUfYNMJm7nq7mMRmfdHIC5teraisQ3UQ%3D'],\n",
       "  'nir': ['https://sentinel2l2a01.blob.core.windows.net/sentinel2-l2/14/R/MP/2023/02/03/S2B_MSIL2A_20230203T171519_N0400_R112_T14RMP_20230208T074907.SAFE/GRANULE/L2A_T14RMP_A030883_20230203T172113/IMG_DATA/R10m/T14RMP_20230203T171519_B08_10m.tif?st=2023-10-19T20%3A07%3A51Z&se=2023-10-20T20%3A52%3A51Z&sp=rl&sv=2021-06-08&sr=c&skoid=c85c15d6-d1ae-42d4-af60-e2ca0f81359b&sktid=72f988bf-86f1-41af-91ab-2d7cd011db47&skt=2023-10-20T18%3A39%3A23Z&ske=2023-10-27T18%3A39%3A23Z&sks=b&skv=2021-06-08&sig=I14J535y06XeUfYNMJm7nq7mMRmfdHIC5teraisQ3UQ%3D']},\n",
       " datetime.date(2023, 3, 5): {'green': ['https://sentinel2l2a01.blob.core.windows.net/sentinel2-l2/14/R/MP/2023/03/05/S2B_MSIL2A_20230305T171209_N0509_R112_T14RMP_20230306T013202.SAFE/GRANULE/L2A_T14RMP_A031312_20230305T171903/IMG_DATA/R10m/T14RMP_20230305T171209_B03_10m.tif?st=2023-10-19T20%3A07%3A51Z&se=2023-10-20T20%3A52%3A51Z&sp=rl&sv=2021-06-08&sr=c&skoid=c85c15d6-d1ae-42d4-af60-e2ca0f81359b&sktid=72f988bf-86f1-41af-91ab-2d7cd011db47&skt=2023-10-20T18%3A39%3A23Z&ske=2023-10-27T18%3A39%3A23Z&sks=b&skv=2021-06-08&sig=I14J535y06XeUfYNMJm7nq7mMRmfdHIC5teraisQ3UQ%3D'],\n",
       "  'nir': ['https://sentinel2l2a01.blob.core.windows.net/sentinel2-l2/14/R/MP/2023/03/05/S2B_MSIL2A_20230305T171209_N0509_R112_T14RMP_20230306T013202.SAFE/GRANULE/L2A_T14RMP_A031312_20230305T171903/IMG_DATA/R10m/T14RMP_20230305T171209_B08_10m.tif?st=2023-10-19T20%3A07%3A51Z&se=2023-10-20T20%3A52%3A51Z&sp=rl&sv=2021-06-08&sr=c&skoid=c85c15d6-d1ae-42d4-af60-e2ca0f81359b&sktid=72f988bf-86f1-41af-91ab-2d7cd011db47&skt=2023-10-20T18%3A39%3A23Z&ske=2023-10-27T18%3A39%3A23Z&sks=b&skv=2021-06-08&sig=I14J535y06XeUfYNMJm7nq7mMRmfdHIC5teraisQ3UQ%3D']},\n",
       " datetime.date(2023, 4, 29): {'green': ['https://sentinel2l2a01.blob.core.windows.net/sentinel2-l2/14/R/MP/2023/04/29/S2A_MSIL2A_20230429T170851_N0509_R112_T14RMP_20230430T014238.SAFE/GRANULE/L2A_T14RMP_A041007_20230429T172358/IMG_DATA/R10m/T14RMP_20230429T170851_B03_10m.tif?st=2023-10-19T20%3A07%3A51Z&se=2023-10-20T20%3A52%3A51Z&sp=rl&sv=2021-06-08&sr=c&skoid=c85c15d6-d1ae-42d4-af60-e2ca0f81359b&sktid=72f988bf-86f1-41af-91ab-2d7cd011db47&skt=2023-10-20T18%3A39%3A23Z&ske=2023-10-27T18%3A39%3A23Z&sks=b&skv=2021-06-08&sig=I14J535y06XeUfYNMJm7nq7mMRmfdHIC5teraisQ3UQ%3D'],\n",
       "  'nir': ['https://sentinel2l2a01.blob.core.windows.net/sentinel2-l2/14/R/MP/2023/04/29/S2A_MSIL2A_20230429T170851_N0509_R112_T14RMP_20230430T014238.SAFE/GRANULE/L2A_T14RMP_A041007_20230429T172358/IMG_DATA/R10m/T14RMP_20230429T170851_B08_10m.tif?st=2023-10-19T20%3A07%3A51Z&se=2023-10-20T20%3A52%3A51Z&sp=rl&sv=2021-06-08&sr=c&skoid=c85c15d6-d1ae-42d4-af60-e2ca0f81359b&sktid=72f988bf-86f1-41af-91ab-2d7cd011db47&skt=2023-10-20T18%3A39%3A23Z&ske=2023-10-27T18%3A39%3A23Z&sks=b&skv=2021-06-08&sig=I14J535y06XeUfYNMJm7nq7mMRmfdHIC5teraisQ3UQ%3D']},\n",
       " datetime.date(2023, 6, 28): {'green': ['https://sentinel2l2a01.blob.core.windows.net/sentinel2-l2/14/R/MP/2023/06/28/S2A_MSIL2A_20230628T170851_N0509_R112_T14RMP_20230629T071505.SAFE/GRANULE/L2A_T14RMP_A041865_20230628T172623/IMG_DATA/R10m/T14RMP_20230628T170851_B03_10m.tif?st=2023-10-19T20%3A07%3A51Z&se=2023-10-20T20%3A52%3A51Z&sp=rl&sv=2021-06-08&sr=c&skoid=c85c15d6-d1ae-42d4-af60-e2ca0f81359b&sktid=72f988bf-86f1-41af-91ab-2d7cd011db47&skt=2023-10-20T18%3A39%3A23Z&ske=2023-10-27T18%3A39%3A23Z&sks=b&skv=2021-06-08&sig=I14J535y06XeUfYNMJm7nq7mMRmfdHIC5teraisQ3UQ%3D'],\n",
       "  'nir': ['https://sentinel2l2a01.blob.core.windows.net/sentinel2-l2/14/R/MP/2023/06/28/S2A_MSIL2A_20230628T170851_N0509_R112_T14RMP_20230629T071505.SAFE/GRANULE/L2A_T14RMP_A041865_20230628T172623/IMG_DATA/R10m/T14RMP_20230628T170851_B08_10m.tif?st=2023-10-19T20%3A07%3A51Z&se=2023-10-20T20%3A52%3A51Z&sp=rl&sv=2021-06-08&sr=c&skoid=c85c15d6-d1ae-42d4-af60-e2ca0f81359b&sktid=72f988bf-86f1-41af-91ab-2d7cd011db47&skt=2023-10-20T18%3A39%3A23Z&ske=2023-10-27T18%3A39%3A23Z&sks=b&skv=2021-06-08&sig=I14J535y06XeUfYNMJm7nq7mMRmfdHIC5teraisQ3UQ%3D']},\n",
       " datetime.date(2023, 6, 23): {'green': ['https://sentinel2l2a01.blob.core.windows.net/sentinel2-l2/14/R/MP/2023/06/23/S2B_MSIL2A_20230623T170849_N0509_R112_T14RMP_20230624T003752.SAFE/GRANULE/L2A_T14RMP_A032885_20230623T172245/IMG_DATA/R10m/T14RMP_20230623T170849_B03_10m.tif?st=2023-10-19T20%3A07%3A51Z&se=2023-10-20T20%3A52%3A51Z&sp=rl&sv=2021-06-08&sr=c&skoid=c85c15d6-d1ae-42d4-af60-e2ca0f81359b&sktid=72f988bf-86f1-41af-91ab-2d7cd011db47&skt=2023-10-20T18%3A39%3A23Z&ske=2023-10-27T18%3A39%3A23Z&sks=b&skv=2021-06-08&sig=I14J535y06XeUfYNMJm7nq7mMRmfdHIC5teraisQ3UQ%3D'],\n",
       "  'nir': ['https://sentinel2l2a01.blob.core.windows.net/sentinel2-l2/14/R/MP/2023/06/23/S2B_MSIL2A_20230623T170849_N0509_R112_T14RMP_20230624T003752.SAFE/GRANULE/L2A_T14RMP_A032885_20230623T172245/IMG_DATA/R10m/T14RMP_20230623T170849_B08_10m.tif?st=2023-10-19T20%3A07%3A51Z&se=2023-10-20T20%3A52%3A51Z&sp=rl&sv=2021-06-08&sr=c&skoid=c85c15d6-d1ae-42d4-af60-e2ca0f81359b&sktid=72f988bf-86f1-41af-91ab-2d7cd011db47&skt=2023-10-20T18%3A39%3A23Z&ske=2023-10-27T18%3A39%3A23Z&sks=b&skv=2021-06-08&sig=I14J535y06XeUfYNMJm7nq7mMRmfdHIC5teraisQ3UQ%3D']},\n",
       " datetime.date(2023, 6, 18): {'green': ['https://sentinel2l2a01.blob.core.windows.net/sentinel2-l2/14/R/MP/2023/06/18/S2A_MSIL2A_20230618T170901_N0509_R112_T14RMP_20230619T012052.SAFE/GRANULE/L2A_T14RMP_A041722_20230618T172151/IMG_DATA/R10m/T14RMP_20230618T170901_B03_10m.tif?st=2023-10-19T20%3A07%3A51Z&se=2023-10-20T20%3A52%3A51Z&sp=rl&sv=2021-06-08&sr=c&skoid=c85c15d6-d1ae-42d4-af60-e2ca0f81359b&sktid=72f988bf-86f1-41af-91ab-2d7cd011db47&skt=2023-10-20T18%3A39%3A23Z&ske=2023-10-27T18%3A39%3A23Z&sks=b&skv=2021-06-08&sig=I14J535y06XeUfYNMJm7nq7mMRmfdHIC5teraisQ3UQ%3D'],\n",
       "  'nir': ['https://sentinel2l2a01.blob.core.windows.net/sentinel2-l2/14/R/MP/2023/06/18/S2A_MSIL2A_20230618T170901_N0509_R112_T14RMP_20230619T012052.SAFE/GRANULE/L2A_T14RMP_A041722_20230618T172151/IMG_DATA/R10m/T14RMP_20230618T170901_B08_10m.tif?st=2023-10-19T20%3A07%3A51Z&se=2023-10-20T20%3A52%3A51Z&sp=rl&sv=2021-06-08&sr=c&skoid=c85c15d6-d1ae-42d4-af60-e2ca0f81359b&sktid=72f988bf-86f1-41af-91ab-2d7cd011db47&skt=2023-10-20T18%3A39%3A23Z&ske=2023-10-27T18%3A39%3A23Z&sks=b&skv=2021-06-08&sig=I14J535y06XeUfYNMJm7nq7mMRmfdHIC5teraisQ3UQ%3D']},\n",
       " datetime.date(2023, 6, 13): {'green': ['https://sentinel2l2a01.blob.core.windows.net/sentinel2-l2/14/R/MP/2023/06/13/S2B_MSIL2A_20230613T170859_N0509_R112_T14RMP_20230613T233037.SAFE/GRANULE/L2A_T14RMP_A032742_20230613T172417/IMG_DATA/R10m/T14RMP_20230613T170859_B03_10m.tif?st=2023-10-19T20%3A07%3A51Z&se=2023-10-20T20%3A52%3A51Z&sp=rl&sv=2021-06-08&sr=c&skoid=c85c15d6-d1ae-42d4-af60-e2ca0f81359b&sktid=72f988bf-86f1-41af-91ab-2d7cd011db47&skt=2023-10-20T18%3A39%3A23Z&ske=2023-10-27T18%3A39%3A23Z&sks=b&skv=2021-06-08&sig=I14J535y06XeUfYNMJm7nq7mMRmfdHIC5teraisQ3UQ%3D'],\n",
       "  'nir': ['https://sentinel2l2a01.blob.core.windows.net/sentinel2-l2/14/R/MP/2023/06/13/S2B_MSIL2A_20230613T170859_N0509_R112_T14RMP_20230613T233037.SAFE/GRANULE/L2A_T14RMP_A032742_20230613T172417/IMG_DATA/R10m/T14RMP_20230613T170859_B08_10m.tif?st=2023-10-19T20%3A07%3A51Z&se=2023-10-20T20%3A52%3A51Z&sp=rl&sv=2021-06-08&sr=c&skoid=c85c15d6-d1ae-42d4-af60-e2ca0f81359b&sktid=72f988bf-86f1-41af-91ab-2d7cd011db47&skt=2023-10-20T18%3A39%3A23Z&ske=2023-10-27T18%3A39%3A23Z&sks=b&skv=2021-06-08&sig=I14J535y06XeUfYNMJm7nq7mMRmfdHIC5teraisQ3UQ%3D']},\n",
       " datetime.date(2023, 7, 23): {'green': ['https://sentinel2l2a01.blob.core.windows.net/sentinel2-l2/14/R/MP/2023/07/23/S2B_MSIL2A_20230723T170859_N0509_R112_T14RMP_20230723T234215.SAFE/GRANULE/L2A_T14RMP_A033314_20230723T172620/IMG_DATA/R10m/T14RMP_20230723T170859_B03_10m.tif?st=2023-10-19T20%3A07%3A51Z&se=2023-10-20T20%3A52%3A51Z&sp=rl&sv=2021-06-08&sr=c&skoid=c85c15d6-d1ae-42d4-af60-e2ca0f81359b&sktid=72f988bf-86f1-41af-91ab-2d7cd011db47&skt=2023-10-20T18%3A39%3A23Z&ske=2023-10-27T18%3A39%3A23Z&sks=b&skv=2021-06-08&sig=I14J535y06XeUfYNMJm7nq7mMRmfdHIC5teraisQ3UQ%3D'],\n",
       "  'nir': ['https://sentinel2l2a01.blob.core.windows.net/sentinel2-l2/14/R/MP/2023/07/23/S2B_MSIL2A_20230723T170859_N0509_R112_T14RMP_20230723T234215.SAFE/GRANULE/L2A_T14RMP_A033314_20230723T172620/IMG_DATA/R10m/T14RMP_20230723T170859_B08_10m.tif?st=2023-10-19T20%3A07%3A51Z&se=2023-10-20T20%3A52%3A51Z&sp=rl&sv=2021-06-08&sr=c&skoid=c85c15d6-d1ae-42d4-af60-e2ca0f81359b&sktid=72f988bf-86f1-41af-91ab-2d7cd011db47&skt=2023-10-20T18%3A39%3A23Z&ske=2023-10-27T18%3A39%3A23Z&sks=b&skv=2021-06-08&sig=I14J535y06XeUfYNMJm7nq7mMRmfdHIC5teraisQ3UQ%3D']},\n",
       " datetime.date(2023, 7, 18): {'green': ['https://sentinel2l2a01.blob.core.windows.net/sentinel2-l2/14/R/MP/2023/07/18/S2A_MSIL2A_20230718T170851_N0509_R112_T14RMP_20230719T031137.SAFE/GRANULE/L2A_T14RMP_A042151_20230718T171743/IMG_DATA/R10m/T14RMP_20230718T170851_B03_10m.tif?st=2023-10-19T20%3A07%3A51Z&se=2023-10-20T20%3A52%3A51Z&sp=rl&sv=2021-06-08&sr=c&skoid=c85c15d6-d1ae-42d4-af60-e2ca0f81359b&sktid=72f988bf-86f1-41af-91ab-2d7cd011db47&skt=2023-10-20T18%3A39%3A23Z&ske=2023-10-27T18%3A39%3A23Z&sks=b&skv=2021-06-08&sig=I14J535y06XeUfYNMJm7nq7mMRmfdHIC5teraisQ3UQ%3D'],\n",
       "  'nir': ['https://sentinel2l2a01.blob.core.windows.net/sentinel2-l2/14/R/MP/2023/07/18/S2A_MSIL2A_20230718T170851_N0509_R112_T14RMP_20230719T031137.SAFE/GRANULE/L2A_T14RMP_A042151_20230718T171743/IMG_DATA/R10m/T14RMP_20230718T170851_B08_10m.tif?st=2023-10-19T20%3A07%3A51Z&se=2023-10-20T20%3A52%3A51Z&sp=rl&sv=2021-06-08&sr=c&skoid=c85c15d6-d1ae-42d4-af60-e2ca0f81359b&sktid=72f988bf-86f1-41af-91ab-2d7cd011db47&skt=2023-10-20T18%3A39%3A23Z&ske=2023-10-27T18%3A39%3A23Z&sks=b&skv=2021-06-08&sig=I14J535y06XeUfYNMJm7nq7mMRmfdHIC5teraisQ3UQ%3D']},\n",
       " datetime.date(2023, 8, 17): {'green': ['https://sentinel2l2a01.blob.core.windows.net/sentinel2-l2/14/R/MP/2023/08/17/S2A_MSIL2A_20230817T170901_N0509_R112_T14RMP_20230818T023436.SAFE/GRANULE/L2A_T14RMP_A042580_20230817T171901/IMG_DATA/R10m/T14RMP_20230817T170901_B03_10m.tif?st=2023-10-19T20%3A07%3A51Z&se=2023-10-20T20%3A52%3A51Z&sp=rl&sv=2021-06-08&sr=c&skoid=c85c15d6-d1ae-42d4-af60-e2ca0f81359b&sktid=72f988bf-86f1-41af-91ab-2d7cd011db47&skt=2023-10-20T18%3A39%3A23Z&ske=2023-10-27T18%3A39%3A23Z&sks=b&skv=2021-06-08&sig=I14J535y06XeUfYNMJm7nq7mMRmfdHIC5teraisQ3UQ%3D'],\n",
       "  'nir': ['https://sentinel2l2a01.blob.core.windows.net/sentinel2-l2/14/R/MP/2023/08/17/S2A_MSIL2A_20230817T170901_N0509_R112_T14RMP_20230818T023436.SAFE/GRANULE/L2A_T14RMP_A042580_20230817T171901/IMG_DATA/R10m/T14RMP_20230817T170901_B08_10m.tif?st=2023-10-19T20%3A07%3A51Z&se=2023-10-20T20%3A52%3A51Z&sp=rl&sv=2021-06-08&sr=c&skoid=c85c15d6-d1ae-42d4-af60-e2ca0f81359b&sktid=72f988bf-86f1-41af-91ab-2d7cd011db47&skt=2023-10-20T18%3A39%3A23Z&ske=2023-10-27T18%3A39%3A23Z&sks=b&skv=2021-06-08&sig=I14J535y06XeUfYNMJm7nq7mMRmfdHIC5teraisQ3UQ%3D']},\n",
       " datetime.date(2023, 8, 12): {'green': ['https://sentinel2l2a01.blob.core.windows.net/sentinel2-l2/14/R/MP/2023/08/12/S2B_MSIL2A_20230812T170859_N0509_R112_T14RMP_20230813T011630.SAFE/GRANULE/L2A_T14RMP_A033600_20230812T171607/IMG_DATA/R10m/T14RMP_20230812T170859_B03_10m.tif?st=2023-10-19T20%3A07%3A51Z&se=2023-10-20T20%3A52%3A51Z&sp=rl&sv=2021-06-08&sr=c&skoid=c85c15d6-d1ae-42d4-af60-e2ca0f81359b&sktid=72f988bf-86f1-41af-91ab-2d7cd011db47&skt=2023-10-20T18%3A39%3A23Z&ske=2023-10-27T18%3A39%3A23Z&sks=b&skv=2021-06-08&sig=I14J535y06XeUfYNMJm7nq7mMRmfdHIC5teraisQ3UQ%3D'],\n",
       "  'nir': ['https://sentinel2l2a01.blob.core.windows.net/sentinel2-l2/14/R/MP/2023/08/12/S2B_MSIL2A_20230812T170859_N0509_R112_T14RMP_20230813T011630.SAFE/GRANULE/L2A_T14RMP_A033600_20230812T171607/IMG_DATA/R10m/T14RMP_20230812T170859_B08_10m.tif?st=2023-10-19T20%3A07%3A51Z&se=2023-10-20T20%3A52%3A51Z&sp=rl&sv=2021-06-08&sr=c&skoid=c85c15d6-d1ae-42d4-af60-e2ca0f81359b&sktid=72f988bf-86f1-41af-91ab-2d7cd011db47&skt=2023-10-20T18%3A39%3A23Z&ske=2023-10-27T18%3A39%3A23Z&sks=b&skv=2021-06-08&sig=I14J535y06XeUfYNMJm7nq7mMRmfdHIC5teraisQ3UQ%3D']},\n",
       " datetime.date(2023, 8, 7): {'green': ['https://sentinel2l2a01.blob.core.windows.net/sentinel2-l2/14/R/MP/2023/08/07/S2A_MSIL2A_20230807T170851_N0509_R112_T14RMP_20230808T012303.SAFE/GRANULE/L2A_T14RMP_A042437_20230807T172055/IMG_DATA/R10m/T14RMP_20230807T170851_B03_10m.tif?st=2023-10-19T20%3A07%3A51Z&se=2023-10-20T20%3A52%3A51Z&sp=rl&sv=2021-06-08&sr=c&skoid=c85c15d6-d1ae-42d4-af60-e2ca0f81359b&sktid=72f988bf-86f1-41af-91ab-2d7cd011db47&skt=2023-10-20T18%3A39%3A23Z&ske=2023-10-27T18%3A39%3A23Z&sks=b&skv=2021-06-08&sig=I14J535y06XeUfYNMJm7nq7mMRmfdHIC5teraisQ3UQ%3D'],\n",
       "  'nir': ['https://sentinel2l2a01.blob.core.windows.net/sentinel2-l2/14/R/MP/2023/08/07/S2A_MSIL2A_20230807T170851_N0509_R112_T14RMP_20230808T012303.SAFE/GRANULE/L2A_T14RMP_A042437_20230807T172055/IMG_DATA/R10m/T14RMP_20230807T170851_B08_10m.tif?st=2023-10-19T20%3A07%3A51Z&se=2023-10-20T20%3A52%3A51Z&sp=rl&sv=2021-06-08&sr=c&skoid=c85c15d6-d1ae-42d4-af60-e2ca0f81359b&sktid=72f988bf-86f1-41af-91ab-2d7cd011db47&skt=2023-10-20T18%3A39%3A23Z&ske=2023-10-27T18%3A39%3A23Z&sks=b&skv=2021-06-08&sig=I14J535y06XeUfYNMJm7nq7mMRmfdHIC5teraisQ3UQ%3D']},\n",
       " datetime.date(2023, 8, 2): {'green': ['https://sentinel2l2a01.blob.core.windows.net/sentinel2-l2/14/R/MP/2023/08/02/S2B_MSIL2A_20230802T170859_N0509_R112_T14RMP_20230802T231534.SAFE/GRANULE/L2A_T14RMP_A033457_20230802T172616/IMG_DATA/R10m/T14RMP_20230802T170859_B03_10m.tif?st=2023-10-19T20%3A07%3A51Z&se=2023-10-20T20%3A52%3A51Z&sp=rl&sv=2021-06-08&sr=c&skoid=c85c15d6-d1ae-42d4-af60-e2ca0f81359b&sktid=72f988bf-86f1-41af-91ab-2d7cd011db47&skt=2023-10-20T18%3A39%3A23Z&ske=2023-10-27T18%3A39%3A23Z&sks=b&skv=2021-06-08&sig=I14J535y06XeUfYNMJm7nq7mMRmfdHIC5teraisQ3UQ%3D'],\n",
       "  'nir': ['https://sentinel2l2a01.blob.core.windows.net/sentinel2-l2/14/R/MP/2023/08/02/S2B_MSIL2A_20230802T170859_N0509_R112_T14RMP_20230802T231534.SAFE/GRANULE/L2A_T14RMP_A033457_20230802T172616/IMG_DATA/R10m/T14RMP_20230802T170859_B08_10m.tif?st=2023-10-19T20%3A07%3A51Z&se=2023-10-20T20%3A52%3A51Z&sp=rl&sv=2021-06-08&sr=c&skoid=c85c15d6-d1ae-42d4-af60-e2ca0f81359b&sktid=72f988bf-86f1-41af-91ab-2d7cd011db47&skt=2023-10-20T18%3A39%3A23Z&ske=2023-10-27T18%3A39%3A23Z&sks=b&skv=2021-06-08&sig=I14J535y06XeUfYNMJm7nq7mMRmfdHIC5teraisQ3UQ%3D']},\n",
       " datetime.date(2023, 9, 26): {'green': ['https://sentinel2l2a01.blob.core.windows.net/sentinel2-l2/14/R/MP/2023/09/26/S2A_MSIL2A_20230926T171051_N0509_R112_T14RMP_20230927T011506.SAFE/GRANULE/L2A_T14RMP_A043152_20230926T172418/IMG_DATA/R10m/T14RMP_20230926T171051_B03_10m.tif?st=2023-10-19T20%3A07%3A51Z&se=2023-10-20T20%3A52%3A51Z&sp=rl&sv=2021-06-08&sr=c&skoid=c85c15d6-d1ae-42d4-af60-e2ca0f81359b&sktid=72f988bf-86f1-41af-91ab-2d7cd011db47&skt=2023-10-20T18%3A39%3A23Z&ske=2023-10-27T18%3A39%3A23Z&sks=b&skv=2021-06-08&sig=I14J535y06XeUfYNMJm7nq7mMRmfdHIC5teraisQ3UQ%3D'],\n",
       "  'nir': ['https://sentinel2l2a01.blob.core.windows.net/sentinel2-l2/14/R/MP/2023/09/26/S2A_MSIL2A_20230926T171051_N0509_R112_T14RMP_20230927T011506.SAFE/GRANULE/L2A_T14RMP_A043152_20230926T172418/IMG_DATA/R10m/T14RMP_20230926T171051_B08_10m.tif?st=2023-10-19T20%3A07%3A51Z&se=2023-10-20T20%3A52%3A51Z&sp=rl&sv=2021-06-08&sr=c&skoid=c85c15d6-d1ae-42d4-af60-e2ca0f81359b&sktid=72f988bf-86f1-41af-91ab-2d7cd011db47&skt=2023-10-20T18%3A39%3A23Z&ske=2023-10-27T18%3A39%3A23Z&sks=b&skv=2021-06-08&sig=I14J535y06XeUfYNMJm7nq7mMRmfdHIC5teraisQ3UQ%3D']},\n",
       " datetime.date(2023, 9, 11): {'green': ['https://sentinel2l2a01.blob.core.windows.net/sentinel2-l2/14/R/MP/2023/09/11/S2B_MSIL2A_20230911T170859_N0509_R112_T14RMP_20230912T005757.SAFE/GRANULE/L2A_T14RMP_A034029_20230911T172312/IMG_DATA/R10m/T14RMP_20230911T170859_B03_10m.tif?st=2023-10-19T20%3A07%3A51Z&se=2023-10-20T20%3A52%3A51Z&sp=rl&sv=2021-06-08&sr=c&skoid=c85c15d6-d1ae-42d4-af60-e2ca0f81359b&sktid=72f988bf-86f1-41af-91ab-2d7cd011db47&skt=2023-10-20T18%3A39%3A23Z&ske=2023-10-27T18%3A39%3A23Z&sks=b&skv=2021-06-08&sig=I14J535y06XeUfYNMJm7nq7mMRmfdHIC5teraisQ3UQ%3D'],\n",
       "  'nir': ['https://sentinel2l2a01.blob.core.windows.net/sentinel2-l2/14/R/MP/2023/09/11/S2B_MSIL2A_20230911T170859_N0509_R112_T14RMP_20230912T005757.SAFE/GRANULE/L2A_T14RMP_A034029_20230911T172312/IMG_DATA/R10m/T14RMP_20230911T170859_B08_10m.tif?st=2023-10-19T20%3A07%3A51Z&se=2023-10-20T20%3A52%3A51Z&sp=rl&sv=2021-06-08&sr=c&skoid=c85c15d6-d1ae-42d4-af60-e2ca0f81359b&sktid=72f988bf-86f1-41af-91ab-2d7cd011db47&skt=2023-10-20T18%3A39%3A23Z&ske=2023-10-27T18%3A39%3A23Z&sks=b&skv=2021-06-08&sig=I14J535y06XeUfYNMJm7nq7mMRmfdHIC5teraisQ3UQ%3D']},\n",
       " datetime.date(2023, 9, 6): {'green': ['https://sentinel2l2a01.blob.core.windows.net/sentinel2-l2/14/R/MP/2023/09/06/S2A_MSIL2A_20230906T170851_N0509_R112_T14RMP_20230907T031339.SAFE/GRANULE/L2A_T14RMP_A042866_20230906T171914/IMG_DATA/R10m/T14RMP_20230906T170851_B03_10m.tif?st=2023-10-19T20%3A07%3A51Z&se=2023-10-20T20%3A52%3A51Z&sp=rl&sv=2021-06-08&sr=c&skoid=c85c15d6-d1ae-42d4-af60-e2ca0f81359b&sktid=72f988bf-86f1-41af-91ab-2d7cd011db47&skt=2023-10-20T18%3A39%3A23Z&ske=2023-10-27T18%3A39%3A23Z&sks=b&skv=2021-06-08&sig=I14J535y06XeUfYNMJm7nq7mMRmfdHIC5teraisQ3UQ%3D'],\n",
       "  'nir': ['https://sentinel2l2a01.blob.core.windows.net/sentinel2-l2/14/R/MP/2023/09/06/S2A_MSIL2A_20230906T170851_N0509_R112_T14RMP_20230907T031339.SAFE/GRANULE/L2A_T14RMP_A042866_20230906T171914/IMG_DATA/R10m/T14RMP_20230906T170851_B08_10m.tif?st=2023-10-19T20%3A07%3A51Z&se=2023-10-20T20%3A52%3A51Z&sp=rl&sv=2021-06-08&sr=c&skoid=c85c15d6-d1ae-42d4-af60-e2ca0f81359b&sktid=72f988bf-86f1-41af-91ab-2d7cd011db47&skt=2023-10-20T18%3A39%3A23Z&ske=2023-10-27T18%3A39%3A23Z&sks=b&skv=2021-06-08&sig=I14J535y06XeUfYNMJm7nq7mMRmfdHIC5teraisQ3UQ%3D']},\n",
       " datetime.date(2023, 9, 1): {'green': ['https://sentinel2l2a01.blob.core.windows.net/sentinel2-l2/14/R/MP/2023/09/01/S2B_MSIL2A_20230901T170859_N0509_R112_T14RMP_20230902T004145.SAFE/GRANULE/L2A_T14RMP_A033886_20230901T172029/IMG_DATA/R10m/T14RMP_20230901T170859_B03_10m.tif?st=2023-10-19T20%3A07%3A51Z&se=2023-10-20T20%3A52%3A51Z&sp=rl&sv=2021-06-08&sr=c&skoid=c85c15d6-d1ae-42d4-af60-e2ca0f81359b&sktid=72f988bf-86f1-41af-91ab-2d7cd011db47&skt=2023-10-20T18%3A39%3A23Z&ske=2023-10-27T18%3A39%3A23Z&sks=b&skv=2021-06-08&sig=I14J535y06XeUfYNMJm7nq7mMRmfdHIC5teraisQ3UQ%3D'],\n",
       "  'nir': ['https://sentinel2l2a01.blob.core.windows.net/sentinel2-l2/14/R/MP/2023/09/01/S2B_MSIL2A_20230901T170859_N0509_R112_T14RMP_20230902T004145.SAFE/GRANULE/L2A_T14RMP_A033886_20230901T172029/IMG_DATA/R10m/T14RMP_20230901T170859_B08_10m.tif?st=2023-10-19T20%3A07%3A51Z&se=2023-10-20T20%3A52%3A51Z&sp=rl&sv=2021-06-08&sr=c&skoid=c85c15d6-d1ae-42d4-af60-e2ca0f81359b&sktid=72f988bf-86f1-41af-91ab-2d7cd011db47&skt=2023-10-20T18%3A39%3A23Z&ske=2023-10-27T18%3A39%3A23Z&sks=b&skv=2021-06-08&sig=I14J535y06XeUfYNMJm7nq7mMRmfdHIC5teraisQ3UQ%3D']}}"
      ]
     },
     "execution_count": 8,
     "metadata": {},
     "output_type": "execute_result"
    }
   ],
   "source": [
    "assets_hrefs"
   ]
  },
  {
   "cell_type": "code",
   "execution_count": 9,
   "id": "8a59436b-ce43-4a0b-8759-4c349a7e9356",
   "metadata": {
    "tags": []
   },
   "outputs": [
    {
     "name": "stdout",
     "output_type": "stream",
     "text": [
      "Created bounding box for raster cropping\n"
     ]
    }
   ],
   "source": [
    "# analyze available data according to raster properties\n",
    "df_len, missing_months = aup.df_date_links(assets_hrefs, start_date, end_date, band_name_list, freq)\n",
    "aup.available_data_check(df_len, missing_months) # test for missing months\n",
    "\n",
    "# creates raster and analyzes percentage of missing data points\n",
    "df_len, missing_months = aup.df_date_links(assets_hrefs, start_date, end_date, band_name_list, freq)\n",
    "pct_missing = round(missing_months/len(df_len),2)*100\n",
    "\n",
    "# if more than 50% of data is missing, raise error and print message\n",
    "if pct_missing >= 50:\n",
    "\n",
    "    raise AvailableData('Missing more than 50 percent of data points')\n",
    "\n",
    "# raster cropping with bounding box from earlier \n",
    "bounding_box = gpd.GeoDataFrame(geometry=poly).envelope\n",
    "gdf_bb = gpd.GeoDataFrame(gpd.GeoSeries(bounding_box), columns=['geometry'])\n",
    "print('Created bounding box for raster cropping')\n",
    "\n",
    "# create GeoDataFrame to test nan values in raster\n",
    "gdf_raster_test = gdf.to_crs(\"EPSG:6372\").buffer(1)\n",
    "gdf_raster_test = gdf_raster_test.to_crs(\"EPSG:4326\")\n",
    "gdf_raster_test = gpd.GeoDataFrame(geometry=gdf_raster_test).dissolve()"
   ]
  },
  {
   "cell_type": "code",
   "execution_count": null,
   "id": "2a157838-7f56-4e8f-93b4-4b86f8fe9f23",
   "metadata": {
    "tags": []
   },
   "outputs": [
    {
     "name": "stdout",
     "output_type": "stream",
     "text": [
      "Starting raster creation for specified time\n"
     ]
    },
    {
     "name": "stderr",
     "output_type": "stream",
     "text": [
      " 60%|██████████████████████████████████████████████████████████████████████████████████████████████████████▍                                                                     | 56/94 [00:00<00:00, 282.15it/s]"
     ]
    },
    {
     "name": "stdout",
     "output_type": "stream",
     "text": [
      "Mosaic date 1/9/2021 - iteration:1\n",
      "https://sentinel2l2a01.blob.core.windows.net/sentinel2-l2/14/R/MP/2021/09/01/S2B_MSIL2A_20210901T170849_N0300_R112_T14RMP_20210902T040055.SAFE/GRANULE/L2A_T14RMP_A023447_20210901T171854/IMG_DATA/R10m/T14RMP_20210901T170849_B03_10m.tif?st=2023-10-19T20%3A07%3A51Z&se=2023-10-20T20%3A52%3A51Z&sp=rl&sv=2021-06-08&sr=c&skoid=c85c15d6-d1ae-42d4-af60-e2ca0f81359b&sktid=72f988bf-86f1-41af-91ab-2d7cd011db47&skt=2023-10-20T18%3A39%3A23Z&ske=2023-10-27T18%3A39%3A23Z&sks=b&skv=2021-06-08&sig=I14J535y06XeUfYNMJm7nq7mMRmfdHIC5teraisQ3UQ%3D\n",
      "<open DatasetReader name='https://sentinel2l2a01.blob.core.windows.net/sentinel2-l2/14/R/MP/2021/09/01/S2B_MSIL2A_20210901T170849_N0300_R112_T14RMP_20210902T040055.SAFE/GRANULE/L2A_T14RMP_A023447_20210901T171854/IMG_DATA/R10m/T14RMP_20210901T170849_B03_10m.tif?st=2023-10-19T20%3A07%3A51Z&se=2023-10-20T20%3A52%3A51Z&sp=rl&sv=2021-06-08&sr=c&skoid=c85c15d6-d1ae-42d4-af60-e2ca0f81359b&sktid=72f988bf-86f1-41af-91ab-2d7cd011db47&skt=2023-10-20T18%3A39%3A23Z&ske=2023-10-27T18%3A39%3A23Z&sks=b&skv=2021-06-08&sig=I14J535y06XeUfYNMJm7nq7mMRmfdHIC5teraisQ3UQ%3D' mode='r'>\n"
     ]
    },
    {
     "name": "stderr",
     "output_type": "stream",
     "text": [
      " 60%|██████████████████████████████████████████████████████████████████████████████████████████████████████▍                                                                     | 56/94 [00:19<00:00, 282.15it/s]"
     ]
    }
   ],
   "source": [
    "# raster creation\n",
    "print('Starting raster creation for specified time')\n",
    "# download raster data by month\n",
    "df_len = aup.create_raster_by_month(df_len, index_analysis, city, tmp_dir,band_name_dict,date_list, gdf_raster_test,gdf_bb, area_of_interest, satellite, query=query)\n",
    "print('Finished raster creation')"
   ]
  },
  {
   "cell_type": "markdown",
   "id": "a7fab7e3-7c79-4fc8-beb2-dd8db9652ee2",
   "metadata": {
    "jp-MarkdownHeadingCollapsed": true,
    "tags": []
   },
   "source": [
    "### Debuging / reviewing: create_raster_by_month step by step"
   ]
  },
  {
   "cell_type": "code",
   "execution_count": 10,
   "id": "35768201-a22a-45a9-b0c4-f185db2a46ab",
   "metadata": {
    "tags": []
   },
   "outputs": [],
   "source": [
    "from datetime import datetime\n",
    "from dateutil.relativedelta import relativedelta\n",
    "\n",
    "aoi = area_of_interest.copy()\n",
    "sat = satellite"
   ]
  },
  {
   "cell_type": "code",
   "execution_count": 11,
   "id": "abcc4703-c318-4041-87de-e2d484feb669",
   "metadata": {
    "tags": []
   },
   "outputs": [
    {
     "name": "stdout",
     "output_type": "stream",
     "text": [
      "\n",
      " Starting raster analysis\n"
     ]
    }
   ],
   "source": [
    "df_len['able_to_download'] = np.nan\n",
    "band_name_list = list(band_name_dict.keys())[:-1]\n",
    "\n",
    "print('\\n Starting raster analysis')\n",
    "\n",
    "# check if file exists, for example in case of code crash\n",
    "df_file_dir = tmp_dir+index_analysis+f'_{city}_dataframe.csv'\n",
    "if os.path.exists(df_file_dir) == False: # Or folder, will return true or false\n",
    "    df_len.to_csv(df_file_dir, index=False)\n",
    "# create folder to store temporary raster files by iteration\n",
    "tmp_raster_dir = tmp_dir+'temporary_files/'\n",
    "if os.path.exists(tmp_raster_dir) == False: # Or folder, will return true or false\n",
    "    os.mkdir(tmp_raster_dir)"
   ]
  },
  {
   "cell_type": "code",
   "execution_count": null,
   "id": "92b7be7f-f6f8-4b8f-b11d-d2b83f271203",
   "metadata": {
    "tags": []
   },
   "outputs": [
    {
     "name": "stderr",
     "output_type": "stream",
     "text": [
      "  0%|        | 0/94 [00:00<?, ?it/s]"
     ]
    },
    {
     "name": "stdout",
     "output_type": "stream",
     "text": [
      "\n",
      " Starting new analysis for 1/2016\n"
     ]
    },
    {
     "name": "stderr",
     "output_type": "stream",
     "text": [
      "  1%| | 1/94 [00:01<01:47,  1.15s/it"
     ]
    },
    {
     "name": "stdout",
     "output_type": "stream",
     "text": [
      "Mosaic date 16/1/2016 - iteration:1\n",
      "Error in iteration 1\n",
      "Mosaic date 16/1/2016 - iteration:2\n",
      "Error in iteration 2\n",
      "Mosaic date 16/1/2016 - iteration:3\n",
      "Error in iteration 3\n",
      "Mosaic date 16/1/2016 - iteration:4\n",
      "Error in iteration 4\n",
      "Mosaic date 16/1/2016 - iteration:5\n",
      "Error in iteration 5\n",
      "Falló\n",
      "    year  month  data_id  able_to_download\n",
      "0   2016      1        0               0.0\n",
      "1   2016      2        1               NaN\n",
      "2   2016      3        0               NaN\n",
      "3   2016      4        0               NaN\n",
      "4   2016      5        1               NaN\n",
      "..   ...    ...      ...               ...\n",
      "89  2023      6        1               NaN\n",
      "90  2023      7        1               NaN\n",
      "91  2023      8        1               NaN\n",
      "92  2023      9        1               NaN\n",
      "93  2023     10        0               NaN\n",
      "\n",
      "[94 rows x 4 columns]\n",
      "\n",
      " Starting new analysis for 2/2016\n"
     ]
    },
    {
     "name": "stderr",
     "output_type": "stream",
     "text": [
      "  2%| | 2/94 [00:02<01:43,  1.13s/it"
     ]
    },
    {
     "name": "stdout",
     "output_type": "stream",
     "text": [
      "Mosaic date 15/2/2016 - iteration:1\n",
      "Error in iteration 1\n",
      "Mosaic date 15/2/2016 - iteration:2\n",
      "Error in iteration 2\n",
      "Mosaic date 15/2/2016 - iteration:3\n",
      "Error in iteration 3\n",
      "Mosaic date 15/2/2016 - iteration:4\n",
      "Error in iteration 4\n",
      "Mosaic date 15/2/2016 - iteration:5\n",
      "Error in iteration 5\n",
      "Falló\n",
      "    year  month  data_id  able_to_download\n",
      "0   2016      1        0               0.0\n",
      "1   2016      2        0               0.0\n",
      "2   2016      3        0               NaN\n",
      "3   2016      4        0               NaN\n",
      "4   2016      5        1               NaN\n",
      "..   ...    ...      ...               ...\n",
      "89  2023      6        1               NaN\n",
      "90  2023      7        1               NaN\n",
      "91  2023      8        1               NaN\n",
      "92  2023      9        1               NaN\n",
      "93  2023     10        0               NaN\n",
      "\n",
      "[94 rows x 4 columns]\n",
      "\n",
      " Starting new analysis for 5/2016\n"
     ]
    },
    {
     "name": "stderr",
     "output_type": "stream",
     "text": [
      "  5%| | 5/94 [00:03<01:00,  1.46it/s"
     ]
    },
    {
     "name": "stdout",
     "output_type": "stream",
     "text": [
      "Mosaic date 5/5/2016 - iteration:1\n",
      "Error in iteration 1\n",
      "Mosaic date 5/5/2016 - iteration:2\n",
      "Error in iteration 2\n",
      "Mosaic date 5/5/2016 - iteration:3\n",
      "Error in iteration 3\n",
      "Mosaic date 5/5/2016 - iteration:4\n",
      "Error in iteration 4\n",
      "Mosaic date 5/5/2016 - iteration:5\n",
      "Error in iteration 5\n",
      "Falló\n",
      "    year  month  data_id  able_to_download\n",
      "0   2016      1        0               0.0\n",
      "1   2016      2        0               0.0\n",
      "2   2016      3        0               NaN\n",
      "3   2016      4        0               NaN\n",
      "4   2016      5        0               0.0\n",
      "..   ...    ...      ...               ...\n",
      "89  2023      6        1               NaN\n",
      "90  2023      7        1               NaN\n",
      "91  2023      8        1               NaN\n",
      "92  2023      9        1               NaN\n",
      "93  2023     10        0               NaN\n",
      "\n",
      "[94 rows x 4 columns]\n",
      "\n",
      " Starting new analysis for 7/2016\n"
     ]
    },
    {
     "name": "stderr",
     "output_type": "stream",
     "text": [
      "  7%| | 7/94 [00:05<00:58,  1.48it/s"
     ]
    },
    {
     "name": "stdout",
     "output_type": "stream",
     "text": [
      "Mosaic date 24/7/2016 - iteration:1\n",
      "Error in iteration 1\n",
      "Mosaic date 24/7/2016 - iteration:2\n",
      "Error in iteration 2\n",
      "Mosaic date 24/7/2016 - iteration:3\n",
      "Error in iteration 3\n",
      "Mosaic date 24/7/2016 - iteration:4\n",
      "Error in iteration 4\n",
      "Mosaic date 24/7/2016 - iteration:5\n",
      "Error in iteration 5\n",
      "Falló\n",
      "    year  month  data_id  able_to_download\n",
      "0   2016      1        0               0.0\n",
      "1   2016      2        0               0.0\n",
      "2   2016      3        0               NaN\n",
      "3   2016      4        0               NaN\n",
      "4   2016      5        0               0.0\n",
      "..   ...    ...      ...               ...\n",
      "89  2023      6        1               NaN\n",
      "90  2023      7        1               NaN\n",
      "91  2023      8        1               NaN\n",
      "92  2023      9        1               NaN\n",
      "93  2023     10        0               NaN\n",
      "\n",
      "[94 rows x 4 columns]\n",
      "\n",
      " Starting new analysis for 10/2016\n"
     ]
    },
    {
     "name": "stderr",
     "output_type": "stream",
     "text": [
      " 11%| | 10/94 [00:06<00:47,  1.77it/"
     ]
    },
    {
     "name": "stdout",
     "output_type": "stream",
     "text": [
      "Mosaic date 12/10/2016 - iteration:1\n",
      "Error in iteration 1\n",
      "Mosaic date 12/10/2016 - iteration:2\n",
      "Error in iteration 2\n",
      "Mosaic date 12/10/2016 - iteration:3\n",
      "Error in iteration 3\n",
      "Mosaic date 12/10/2016 - iteration:4\n",
      "Error in iteration 4\n",
      "Mosaic date 12/10/2016 - iteration:5\n",
      "Error in iteration 5\n",
      "Falló\n",
      "    year  month  data_id  able_to_download\n",
      "0   2016      1        0               0.0\n",
      "1   2016      2        0               0.0\n",
      "2   2016      3        0               NaN\n",
      "3   2016      4        0               NaN\n",
      "4   2016      5        0               0.0\n",
      "..   ...    ...      ...               ...\n",
      "89  2023      6        1               NaN\n",
      "90  2023      7        1               NaN\n",
      "91  2023      8        1               NaN\n",
      "92  2023      9        1               NaN\n",
      "93  2023     10        0               NaN\n",
      "\n",
      "[94 rows x 4 columns]\n",
      "\n",
      " Starting new analysis for 11/2016\n"
     ]
    },
    {
     "name": "stderr",
     "output_type": "stream",
     "text": [
      " 12%| | 11/94 [00:09<01:27,  1.06s/i"
     ]
    },
    {
     "name": "stdout",
     "output_type": "stream",
     "text": [
      "Mosaic date 1/11/2016 - iteration:1\n",
      "Error in iteration 1\n",
      "Mosaic date 1/11/2016 - iteration:2\n",
      "Error in iteration 2\n",
      "Mosaic date 1/11/2016 - iteration:3\n",
      "Error in iteration 3\n",
      "Mosaic date 1/11/2016 - iteration:4\n",
      "Error in iteration 4\n",
      "Mosaic date 1/11/2016 - iteration:5\n",
      "Error in iteration 5\n",
      "Falló\n",
      "    year  month  data_id  able_to_download\n",
      "0   2016      1        0               0.0\n",
      "1   2016      2        0               0.0\n",
      "2   2016      3        0               NaN\n",
      "3   2016      4        0               NaN\n",
      "4   2016      5        0               0.0\n",
      "..   ...    ...      ...               ...\n",
      "89  2023      6        1               NaN\n",
      "90  2023      7        1               NaN\n",
      "91  2023      8        1               NaN\n",
      "92  2023      9        1               NaN\n",
      "93  2023     10        0               NaN\n",
      "\n",
      "[94 rows x 4 columns]\n",
      "\n",
      " Starting new analysis for 12/2016\n"
     ]
    },
    {
     "name": "stderr",
     "output_type": "stream",
     "text": [
      " 13%|▏| 12/94 [00:10<01:28,  1.08s/i"
     ]
    },
    {
     "name": "stdout",
     "output_type": "stream",
     "text": [
      "Mosaic date 21/12/2016 - iteration:1\n",
      "Error in iteration 1\n",
      "Mosaic date 1/12/2016 - iteration:1\n",
      "Error in iteration 1\n",
      "Mosaic date 11/12/2016 - iteration:1\n",
      "Error in iteration 1\n",
      "Mosaic date 21/12/2016 - iteration:2\n",
      "Error in iteration 2\n",
      "Mosaic date 1/12/2016 - iteration:2\n",
      "Error in iteration 2\n",
      "Mosaic date 11/12/2016 - iteration:2\n",
      "Error in iteration 2\n",
      "Mosaic date 21/12/2016 - iteration:3\n",
      "Error in iteration 3\n",
      "Mosaic date 1/12/2016 - iteration:3\n",
      "Error in iteration 3\n",
      "Mosaic date 11/12/2016 - iteration:3\n",
      "Error in iteration 3\n",
      "Mosaic date 21/12/2016 - iteration:4\n",
      "Error in iteration 4\n",
      "Mosaic date 1/12/2016 - iteration:4\n",
      "Error in iteration 4\n",
      "Mosaic date 11/12/2016 - iteration:4\n",
      "Error in iteration 4\n",
      "Mosaic date 21/12/2016 - iteration:5\n",
      "Error in iteration 5\n",
      "Mosaic date 1/12/2016 - iteration:5\n",
      "Error in iteration 5\n",
      "Mosaic date 11/12/2016 - iteration:5\n",
      "Error in iteration 5\n",
      "Falló\n",
      "    year  month  data_id  able_to_download\n",
      "0   2016      1        0               0.0\n",
      "1   2016      2        0               0.0\n",
      "2   2016      3        0               NaN\n",
      "3   2016      4        0               NaN\n",
      "4   2016      5        0               0.0\n",
      "..   ...    ...      ...               ...\n",
      "89  2023      6        1               NaN\n",
      "90  2023      7        1               NaN\n",
      "91  2023      8        1               NaN\n",
      "92  2023      9        1               NaN\n",
      "93  2023     10        0               NaN\n",
      "\n",
      "[94 rows x 4 columns]\n",
      "\n",
      " Starting new analysis for 1/2017\n"
     ]
    },
    {
     "name": "stderr",
     "output_type": "stream",
     "text": [
      " 14%|▏| 13/94 [00:11<01:18,  1.03it/"
     ]
    },
    {
     "name": "stdout",
     "output_type": "stream",
     "text": [
      "Mosaic date 30/1/2017 - iteration:1\n",
      "Error in iteration 1\n",
      "Mosaic date 30/1/2017 - iteration:2\n",
      "Error in iteration 2\n",
      "Mosaic date 30/1/2017 - iteration:3\n",
      "Error in iteration 3\n",
      "Mosaic date 30/1/2017 - iteration:4\n",
      "Error in iteration 4\n",
      "Mosaic date 30/1/2017 - iteration:5\n",
      "Error in iteration 5\n",
      "Falló\n",
      "    year  month  data_id  able_to_download\n",
      "0   2016      1        0               0.0\n",
      "1   2016      2        0               0.0\n",
      "2   2016      3        0               NaN\n",
      "3   2016      4        0               NaN\n",
      "4   2016      5        0               0.0\n",
      "..   ...    ...      ...               ...\n",
      "89  2023      6        1               NaN\n",
      "90  2023      7        1               NaN\n",
      "91  2023      8        1               NaN\n",
      "92  2023      9        1               NaN\n",
      "93  2023     10        0               NaN\n",
      "\n",
      "[94 rows x 4 columns]\n",
      "\n",
      " Starting new analysis for 3/2017\n"
     ]
    },
    {
     "name": "stderr",
     "output_type": "stream",
     "text": [
      " 16%|▏| 15/94 [00:12<01:04,  1.23it/"
     ]
    },
    {
     "name": "stdout",
     "output_type": "stream",
     "text": [
      "Mosaic date 1/3/2017 - iteration:1\n",
      "Error in iteration 1\n",
      "Mosaic date 21/3/2017 - iteration:1\n",
      "Error in iteration 1\n",
      "Mosaic date 1/3/2017 - iteration:2\n",
      "Error in iteration 2\n",
      "Mosaic date 21/3/2017 - iteration:2\n",
      "Error in iteration 2\n",
      "Mosaic date 1/3/2017 - iteration:3\n",
      "Error in iteration 3\n",
      "Mosaic date 21/3/2017 - iteration:3\n",
      "Error in iteration 3\n",
      "Mosaic date 1/3/2017 - iteration:4\n",
      "Error in iteration 4\n",
      "Mosaic date 21/3/2017 - iteration:4\n",
      "Error in iteration 4\n",
      "Mosaic date 1/3/2017 - iteration:5\n",
      "Error in iteration 5\n",
      "Mosaic date 21/3/2017 - iteration:5\n",
      "Error in iteration 5\n",
      "Falló\n",
      "    year  month  data_id  able_to_download\n",
      "0   2016      1        0               0.0\n",
      "1   2016      2        0               0.0\n",
      "2   2016      3        0               NaN\n",
      "3   2016      4        0               NaN\n",
      "4   2016      5        0               0.0\n",
      "..   ...    ...      ...               ...\n",
      "89  2023      6        1               NaN\n",
      "90  2023      7        1               NaN\n",
      "91  2023      8        1               NaN\n",
      "92  2023      9        1               NaN\n",
      "93  2023     10        0               NaN\n",
      "\n",
      "[94 rows x 4 columns]\n",
      "\n",
      " Starting new analysis for 4/2017\n"
     ]
    },
    {
     "name": "stderr",
     "output_type": "stream",
     "text": [
      " 17%|▏| 16/94 [00:13<01:03,  1.23it/"
     ]
    },
    {
     "name": "stdout",
     "output_type": "stream",
     "text": [
      "Mosaic date 30/4/2017 - iteration:1\n",
      "Error in iteration 1\n",
      "Mosaic date 30/4/2017 - iteration:2\n",
      "Error in iteration 2\n",
      "Mosaic date 30/4/2017 - iteration:3\n",
      "Error in iteration 3\n",
      "Mosaic date 30/4/2017 - iteration:4\n",
      "Error in iteration 4\n",
      "Mosaic date 30/4/2017 - iteration:5\n",
      "Error in iteration 5\n",
      "Falló\n",
      "    year  month  data_id  able_to_download\n",
      "0   2016      1        0               0.0\n",
      "1   2016      2        0               0.0\n",
      "2   2016      3        0               NaN\n",
      "3   2016      4        0               NaN\n",
      "4   2016      5        0               0.0\n",
      "..   ...    ...      ...               ...\n",
      "89  2023      6        1               NaN\n",
      "90  2023      7        1               NaN\n",
      "91  2023      8        1               NaN\n",
      "92  2023      9        1               NaN\n",
      "93  2023     10        0               NaN\n",
      "\n",
      "[94 rows x 4 columns]\n",
      "\n",
      " Starting new analysis for 6/2017\n"
     ]
    },
    {
     "name": "stderr",
     "output_type": "stream",
     "text": [
      " 19%|▏| 18/94 [00:14<00:48,  1.56it/"
     ]
    },
    {
     "name": "stdout",
     "output_type": "stream",
     "text": [
      "Mosaic date 29/6/2017 - iteration:1\n",
      "Error in iteration 1\n",
      "Mosaic date 29/6/2017 - iteration:2\n",
      "Error in iteration 2\n",
      "Mosaic date 29/6/2017 - iteration:3\n",
      "Error in iteration 3\n",
      "Mosaic date 29/6/2017 - iteration:4\n",
      "Error in iteration 4\n",
      "Mosaic date 29/6/2017 - iteration:5\n",
      "Error in iteration 5\n",
      "Falló\n",
      "    year  month  data_id  able_to_download\n",
      "0   2016      1        0               0.0\n",
      "1   2016      2        0               0.0\n",
      "2   2016      3        0               NaN\n",
      "3   2016      4        0               NaN\n",
      "4   2016      5        0               0.0\n",
      "..   ...    ...      ...               ...\n",
      "89  2023      6        1               NaN\n",
      "90  2023      7        1               NaN\n",
      "91  2023      8        1               NaN\n",
      "92  2023      9        1               NaN\n",
      "93  2023     10        0               NaN\n",
      "\n",
      "[94 rows x 4 columns]\n",
      "\n",
      " Starting new analysis for 9/2017\n"
     ]
    },
    {
     "name": "stderr",
     "output_type": "stream",
     "text": [
      " 22%|▏| 21/94 [00:15<00:40,  1.80it/"
     ]
    },
    {
     "name": "stdout",
     "output_type": "stream",
     "text": [
      "Mosaic date 12/9/2017 - iteration:1\n",
      "Error in iteration 1\n",
      "Mosaic date 12/9/2017 - iteration:2\n",
      "Error in iteration 2\n",
      "Mosaic date 12/9/2017 - iteration:3\n",
      "Error in iteration 3\n",
      "Mosaic date 12/9/2017 - iteration:4\n",
      "Error in iteration 4\n",
      "Mosaic date 12/9/2017 - iteration:5\n",
      "Error in iteration 5\n",
      "Falló\n",
      "    year  month  data_id  able_to_download\n",
      "0   2016      1        0               0.0\n",
      "1   2016      2        0               0.0\n",
      "2   2016      3        0               NaN\n",
      "3   2016      4        0               NaN\n",
      "4   2016      5        0               0.0\n",
      "..   ...    ...      ...               ...\n",
      "89  2023      6        1               NaN\n",
      "90  2023      7        1               NaN\n",
      "91  2023      8        1               NaN\n",
      "92  2023      9        1               NaN\n",
      "93  2023     10        0               NaN\n",
      "\n",
      "[94 rows x 4 columns]\n",
      "\n",
      " Starting new analysis for 10/2017\n"
     ]
    },
    {
     "name": "stderr",
     "output_type": "stream",
     "text": [
      " 23%|▏| 22/94 [00:16<00:49,  1.46it/"
     ]
    },
    {
     "name": "stdout",
     "output_type": "stream",
     "text": [
      "Mosaic date 27/10/2017 - iteration:1\n",
      "Error in iteration 1\n",
      "Mosaic date 7/10/2017 - iteration:1\n",
      "Error in iteration 1\n",
      "Mosaic date 27/10/2017 - iteration:2\n",
      "Error in iteration 2\n",
      "Mosaic date 7/10/2017 - iteration:2\n",
      "Error in iteration 2\n",
      "Mosaic date 27/10/2017 - iteration:3\n",
      "Error in iteration 3\n",
      "Mosaic date 7/10/2017 - iteration:3\n",
      "Error in iteration 3\n",
      "Mosaic date 27/10/2017 - iteration:4\n",
      "Error in iteration 4\n",
      "Mosaic date 7/10/2017 - iteration:4\n",
      "Error in iteration 4\n",
      "Mosaic date 27/10/2017 - iteration:5\n",
      "Error in iteration 5\n",
      "Mosaic date 7/10/2017 - iteration:5\n",
      "Error in iteration 5\n",
      "Falló\n",
      "    year  month  data_id  able_to_download\n",
      "0   2016      1        0               0.0\n",
      "1   2016      2        0               0.0\n",
      "2   2016      3        0               NaN\n",
      "3   2016      4        0               NaN\n",
      "4   2016      5        0               0.0\n",
      "..   ...    ...      ...               ...\n",
      "89  2023      6        1               NaN\n",
      "90  2023      7        1               NaN\n",
      "91  2023      8        1               NaN\n",
      "92  2023      9        1               NaN\n",
      "93  2023     10        0               NaN\n",
      "\n",
      "[94 rows x 4 columns]\n",
      "\n",
      " Starting new analysis for 1/2018\n"
     ]
    }
   ],
   "source": [
    "for i in tqdm(range(len(df_len)), position=0, leave=True):\n",
    "        \n",
    "    df_raster = pd.read_csv(df_file_dir, index_col=False)\n",
    "\n",
    "    # binary id - checks if month could be processed\n",
    "    checker = 0\n",
    "\n",
    "    if df_raster.iloc[i].data_id==0:\n",
    "        continue\n",
    "\n",
    "    # gather month and year from df to save raster\n",
    "    month_ = df_raster.loc[df_raster.index==i].month.values[0]\n",
    "    year_ = df_raster.loc[df_raster.index==i].year.values[0]\n",
    "\n",
    "    if f'{city}_{index_analysis}_{month_}_{year_}.tif' in os.listdir(tmp_dir):\n",
    "        continue\n",
    "\n",
    "    print(f'\\n Starting new analysis for {month_}/{year_}')\n",
    "\n",
    "    # gather links for raster images\n",
    "    sample_date = datetime(year_, month_, 1)\n",
    "    first_day = sample_date + relativedelta(day=1)\n",
    "    last_day = sample_date + relativedelta(day=31)\n",
    "\n",
    "    # creates time range for a specific month\n",
    "    time_of_interest = [f\"{year_}-{month_:02d}-{first_day.day:02d}/{year_}\"+\n",
    "                        f\"-{month_:02d}-{last_day.day:02d}\"]\n",
    "    # gather links for the date range\n",
    "    items = aup.gather_items(time_of_interest, aoi, query=query, satellite=sat)\n",
    "\n",
    "    # gather links from dates that are within date_list\n",
    "    assets_hrefs = aup.link_dict(band_name_list, items, date_list)\n",
    "    # create dataframe\n",
    "    #df_links = pd.DataFrame.from_dict(assets_hrefs, \n",
    "    #                                orient='Index').reset_index().rename(columns={'index':'date'})\n",
    "\n",
    "    # dates according to cloud coverage\n",
    "    date_order = [True if (d.month == month_) and (d.year == year_) else False for d in date_list]\n",
    "    date_array = np.array(date_list)\n",
    "    date_filter = np.array(date_order)\n",
    "    dates_ordered = date_array[date_filter]\n",
    "\n",
    "    # mosaic raster\n",
    "\n",
    "    iter_count = 1\n",
    "    \n",
    "    while iter_count <= 5:\n",
    "\n",
    "        # create skip date list used to analyze null values in raster\n",
    "        skip_date_list = []\n",
    "\n",
    "        #for data_link in range(len(df_links)):\n",
    "        for data_link in range(len(dates_ordered)):\n",
    "            print(f'Mosaic date {dates_ordered[data_link].day}'+\n",
    "                        f'/{dates_ordered[data_link].month}'+\n",
    "                        f'/{dates_ordered[data_link].year} - iteration:{iter_count}')\n",
    "\n",
    "            # check if date contains null values within study area\n",
    "            #if df_links.iloc[data_link]['date'] in skip_date_list:\n",
    "            if dates_ordered[data_link] in skip_date_list:\n",
    "                continue\n",
    "\n",
    "            try:\n",
    "                #links_band_1 = df_links.iloc[data_link][list(band_name_dict.keys())[0]]\n",
    "                #links_band_2 = df_links.iloc[data_link][list(band_name_dict.keys())[1]]\n",
    "                bands_links = aup.assets_hrefs[dates_ordered[data_link]]\n",
    "\n",
    "                rasters_arrays = aup.func_timeout(time_exc_limit, mosaic_process_v2,args=(bands_links, band_name_dict, gdf_bb, tmp_raster_dir))\n",
    "                out_meta = rasters_arrays[list(rasters_arrays.keys())[0]][2]\n",
    "\n",
    "                # calculate raster index\n",
    "                raster_idx = aup.calculate_raster_index(band_name_dict, rasters_arrays)\n",
    "                print(f'Calculated {index_analysis}')\n",
    "                del rasters_arrays\n",
    "\n",
    "                print(f'Starting interpolation')\n",
    "\n",
    "                raster_idx[raster_idx == 0 ] = np.nan # change zero values to nan\n",
    "                raster_idx = raster_idx.astype('float32') # change data type to float32 to avoid fillnodata error\n",
    "\n",
    "                print(f'Interpolating {np.isnan(raster_idx).sum()} nan values')\n",
    "                raster_fill = aup.fillnodata(raster_idx, mask=~np.isnan(raster_idx),max_search_distance=50, smoothing_iterations=0)\n",
    "                print(f'Finished interpolation to fill na - {np.isnan(raster_fill).sum()} nan')\n",
    "\n",
    "                with rasterio.open(f\"{tmp_raster_dir}{index_analysis}.tif\",'w', **out_meta) as dest:\n",
    "                        dest.write(raster_fill)\n",
    "\n",
    "                        dest.close()\n",
    "\n",
    "                print('Starting null test')\n",
    "\n",
    "                raster_file = rasterio.open(f\"{tmp_raster_dir}{index_analysis}.tif\")\n",
    "\n",
    "                gdf_raster_test = gdf_raster_test.to_crs(raster_file.crs)\n",
    "\n",
    "                try:\n",
    "                    # test for nan values within study area\n",
    "                    aup.raster_nan_test(gdf_raster_test,raster_file)\n",
    "\n",
    "                    print('Passed null test')\n",
    "\n",
    "                    # save raster to processing database\n",
    "                    with rasterio.open(f\"{tmp_dir}{city}_{index_analysis}_{month_}_{year_}.tif\",'w', **out_meta) as dest:\n",
    "                        dest.write(raster_fill)\n",
    "                        dest.close()\n",
    "                    print(f'Finished saving {index_analysis} raster')\n",
    "\n",
    "                    checker = 1\n",
    "                    iter_count = 6\n",
    "                    delete_files_from_folder(tmp_raster_dir)\n",
    "                    break\n",
    "                except:\n",
    "                    print('Failed null test')\n",
    "                    skip_date_list.append(assets_hrefs[list(assets_hrefs.keys())[data_link]])\n",
    "                    aup.delete_files_from_folder(tmp_raster_dir)\n",
    "\n",
    "            except:\n",
    "                print(f'Error in iteration {iter_count}')\n",
    "                aup.delete_files_from_folder(tmp_raster_dir)\n",
    "                continue\n",
    "        iter_count = iter_count + 1\n",
    "\n",
    "    if checker==0:\n",
    "        df_raster.loc[df_raster.index==i,'data_id']=0\n",
    "        df_raster.loc[df_raster.index==i,'able_to_download']=0\n",
    "        df_raster.to_csv(df_file_dir, index=False)\n",
    "        print(\"Falló\")\n",
    "        print(df_raster)\n",
    "        continue\n",
    "\n",
    "df_len = pd.read_csv(df_file_dir, index_col=False)\n",
    "print(\"Se guardó\")\n",
    "print(df_raster)"
   ]
  },
  {
   "cell_type": "code",
   "execution_count": 32,
   "id": "2fd45984-7036-49b8-8082-46cf7bcf3eae",
   "metadata": {
    "tags": []
   },
   "outputs": [],
   "source": [
    "df_len = pd.read_csv(df_file_dir, index_col=False)"
   ]
  },
  {
   "cell_type": "code",
   "execution_count": 33,
   "id": "d5221317-7d29-411d-9631-de9e9dac31d6",
   "metadata": {
    "tags": []
   },
   "outputs": [
    {
     "data": {
      "text/html": [
       "<div>\n",
       "<style scoped>\n",
       "    .dataframe tbody tr th:only-of-type {\n",
       "        vertical-align: middle;\n",
       "    }\n",
       "\n",
       "    .dataframe tbody tr th {\n",
       "        vertical-align: top;\n",
       "    }\n",
       "\n",
       "    .dataframe thead th {\n",
       "        text-align: right;\n",
       "    }\n",
       "</style>\n",
       "<table border=\"1\" class=\"dataframe\">\n",
       "  <thead>\n",
       "    <tr style=\"text-align: right;\">\n",
       "      <th></th>\n",
       "      <th>year</th>\n",
       "      <th>month</th>\n",
       "      <th>data_id</th>\n",
       "      <th>able_to_download</th>\n",
       "    </tr>\n",
       "  </thead>\n",
       "  <tbody>\n",
       "    <tr>\n",
       "      <th>0</th>\n",
       "      <td>2016</td>\n",
       "      <td>1</td>\n",
       "      <td>1</td>\n",
       "      <td>NaN</td>\n",
       "    </tr>\n",
       "    <tr>\n",
       "      <th>1</th>\n",
       "      <td>2016</td>\n",
       "      <td>2</td>\n",
       "      <td>1</td>\n",
       "      <td>NaN</td>\n",
       "    </tr>\n",
       "    <tr>\n",
       "      <th>2</th>\n",
       "      <td>2016</td>\n",
       "      <td>3</td>\n",
       "      <td>0</td>\n",
       "      <td>NaN</td>\n",
       "    </tr>\n",
       "    <tr>\n",
       "      <th>3</th>\n",
       "      <td>2016</td>\n",
       "      <td>4</td>\n",
       "      <td>0</td>\n",
       "      <td>NaN</td>\n",
       "    </tr>\n",
       "    <tr>\n",
       "      <th>4</th>\n",
       "      <td>2016</td>\n",
       "      <td>5</td>\n",
       "      <td>1</td>\n",
       "      <td>NaN</td>\n",
       "    </tr>\n",
       "    <tr>\n",
       "      <th>...</th>\n",
       "      <td>...</td>\n",
       "      <td>...</td>\n",
       "      <td>...</td>\n",
       "      <td>...</td>\n",
       "    </tr>\n",
       "    <tr>\n",
       "      <th>89</th>\n",
       "      <td>2023</td>\n",
       "      <td>6</td>\n",
       "      <td>1</td>\n",
       "      <td>NaN</td>\n",
       "    </tr>\n",
       "    <tr>\n",
       "      <th>90</th>\n",
       "      <td>2023</td>\n",
       "      <td>7</td>\n",
       "      <td>1</td>\n",
       "      <td>NaN</td>\n",
       "    </tr>\n",
       "    <tr>\n",
       "      <th>91</th>\n",
       "      <td>2023</td>\n",
       "      <td>8</td>\n",
       "      <td>1</td>\n",
       "      <td>NaN</td>\n",
       "    </tr>\n",
       "    <tr>\n",
       "      <th>92</th>\n",
       "      <td>2023</td>\n",
       "      <td>9</td>\n",
       "      <td>1</td>\n",
       "      <td>NaN</td>\n",
       "    </tr>\n",
       "    <tr>\n",
       "      <th>93</th>\n",
       "      <td>2023</td>\n",
       "      <td>10</td>\n",
       "      <td>0</td>\n",
       "      <td>NaN</td>\n",
       "    </tr>\n",
       "  </tbody>\n",
       "</table>\n",
       "<p>94 rows × 4 columns</p>\n",
       "</div>"
      ],
      "text/plain": [
       "    year  month  data_id  able_to_download\n",
       "0   2016      1        1               NaN\n",
       "1   2016      2        1               NaN\n",
       "2   2016      3        0               NaN\n",
       "3   2016      4        0               NaN\n",
       "4   2016      5        1               NaN\n",
       "..   ...    ...      ...               ...\n",
       "89  2023      6        1               NaN\n",
       "90  2023      7        1               NaN\n",
       "91  2023      8        1               NaN\n",
       "92  2023      9        1               NaN\n",
       "93  2023     10        0               NaN\n",
       "\n",
       "[94 rows x 4 columns]"
      ]
     },
     "execution_count": 33,
     "metadata": {},
     "output_type": "execute_result"
    }
   ],
   "source": [
    "df_len"
   ]
  },
  {
   "cell_type": "markdown",
   "id": "fb440121-bcd9-4029-a122-cdeba9944a66",
   "metadata": {
    "tags": []
   },
   "source": [
    "### Data download - Create hexgrid from area of interest"
   ]
  },
  {
   "cell_type": "code",
   "execution_count": null,
   "id": "4a5a3bcf-9c89-49f7-a48c-d88cef155620",
   "metadata": {
    "tags": []
   },
   "outputs": [],
   "source": [
    "hex_gdf = gpd.GeoDataFrame(polygon)\n",
    "hex_gdf['res'] = res[0]\n",
    "\n",
    "if len(res)>1:\n",
    "#If there is more than one resolution\n",
    "    for r in range(res[0]+1,res[-1]+1): #Skips res 8 because, originally, res 8 is already in original hex_gdf\n",
    "        hex_tmp = aup.create_hexgrid(polygon, r)\n",
    "        hex_tmp.rename(columns={f'hex_id_{r}':'hex_id'}, inplace=True)\n",
    "        hex_tmp['res'] = r\n",
    "        hex_gdf = pd.concat([hex_gdf, hex_tmp],ignore_index = True, axis = 0)\n",
    "        del hex_tmp\n",
    "\n",
    "#If there is only one resolution\n",
    "else:\n",
    "    hex_gdf = aup.create_hexgrid(hex_gdf, res[0])\n",
    "    hex_gdf.rename(columns={f'hex_id_{res[0]}':'hex_id'}, inplace=True)\n",
    "    hex_gdf['res'] = res[0]\n",
    "    \n",
    "#Show\n",
    "print(hex_gdf.shape)\n",
    "hex_gdf.head(2)"
   ]
  },
  {
   "cell_type": "markdown",
   "id": "d6071f02-a480-4a00-9922-53bd9bfe2671",
   "metadata": {
    "tags": []
   },
   "source": [
    "## Data processing to hex and saving"
   ]
  },
  {
   "cell_type": "markdown",
   "id": "03eb3ea9-11dd-47b1-a81b-91429262d9a0",
   "metadata": {},
   "source": [
    "### Data processing - Raster to hex"
   ]
  },
  {
   "cell_type": "code",
   "execution_count": null,
   "id": "80693e2d-90ec-48e5-95ea-f159c02dee4f",
   "metadata": {
    "tags": []
   },
   "outputs": [],
   "source": [
    "def raster_to_hex_save(hex_gdf_i, df_len, index_analysis, tmp_dir, city, r, save, i=0):\n",
    "    hex_raster_analysis, df_raster_analysis = aup.raster_to_hex_analysis(hex_gdf_i, df_len, index_analysis,\n",
    "                                                                tmp_dir, city, r)\n",
    "\n",
    "    if save:\n",
    "        hex_raster_analysis.to_file(tmp_dir+'local_save/'+f'{city}_{index_analysis}_HexRes{r}_v{i}.geojson')\n",
    "        df_raster_analysis.to_csv(tmp_dir+'local_save/'+f'{city}_{index_analysis}_HexRes{r}_v{i}.csv')"
   ]
  },
  {
   "cell_type": "code",
   "execution_count": null,
   "id": "9ddd5ddc-b5a9-4602-be25-7ba6fecc272e",
   "metadata": {
    "tags": []
   },
   "outputs": [],
   "source": [
    "for r in list(hex_gdf.res.unique()):\n",
    "\n",
    "    processing_chunk = 150000\n",
    "\n",
    "    # filters hexagons at specified resolution\n",
    "    hex_gdf_res = hex_gdf.loc[hex_gdf.res==r].copy()\n",
    "    hex_gdf_res = hex_gdf_res.reset_index(drop=True)\n",
    "    \n",
    "    if len(hex_gdf_res)>processing_chunk:\n",
    "        c_processing = len(hex_gdf_res)/processing_chunk\n",
    "        \n",
    "        for i in range(int(c_processing)):\n",
    "            hex_gdf_i = hex_gdf_res.iloc[int(processing_chunk*i):int(processing_chunk*(1+i))].copy()\n",
    "            raster_to_hex_save(hex_gdf_i, df_len, index_analysis, tmp_dir, city, r, save, i)\n",
    "    else:\n",
    "        hex_gdf_i = hex_gdf_res.copy()\n",
    "        raster_to_hex_save(hex_gdf_i, df_len, index_analysis, tmp_dir, city, r, save)"
   ]
  },
  {
   "cell_type": "code",
   "execution_count": null,
   "id": "4229a2e8-8694-4b40-8bb2-aa46bc005162",
   "metadata": {},
   "outputs": [],
   "source": []
  }
 ],
 "metadata": {
  "kernelspec": {
   "display_name": "odc",
   "language": "python",
   "name": "odc"
  },
  "language_info": {
   "codemirror_mode": {
    "name": "ipython",
    "version": 3
   },
   "file_extension": ".py",
   "mimetype": "text/x-python",
   "name": "python",
   "nbconvert_exporter": "python",
   "pygments_lexer": "ipython3",
   "version": "3.10.4"
  }
 },
 "nbformat": 4,
 "nbformat_minor": 5
}
