{
 "cells": [
  {
   "cell_type": "markdown",
   "id": "88c2ec85-c3d3-4d7e-bec4-23c9c2df6b33",
   "metadata": {},
   "source": [
    "## Import libraries"
   ]
  },
  {
   "cell_type": "code",
   "execution_count": 1,
   "id": "3d993b10-e815-442d-ac71-ef7afca98f98",
   "metadata": {
    "tags": []
   },
   "outputs": [
    {
     "name": "stderr",
     "output_type": "stream",
     "text": [
      "/home/jovyan/accesibilidad-urbana/aup/data.py:24: UserWarning: The `utils.config` function is deprecated and will be removed in a future release. Instead, use the `settings` module directly to configure a global setting's value. For example, `ox.settings.log_console=True`.\n",
      "  ox.config(\n"
     ]
    }
   ],
   "source": [
    "import os\n",
    "import sys\n",
    "\n",
    "import pandas as pd\n",
    "import geopandas as gpd\n",
    "import osmnx as ox\n",
    "import numpy as np\n",
    "\n",
    "import matplotlib.pyplot as plt\n",
    "import seaborn as sns\n",
    "\n",
    "import warnings\n",
    "warnings.simplefilter(action='ignore', category=FutureWarning)\n",
    "\n",
    "module_path = os.path.abspath(os.path.join('../../'))\n",
    "if module_path not in sys.path:\n",
    "    sys.path.append(module_path)\n",
    "    import aup"
   ]
  },
  {
   "cell_type": "markdown",
   "id": "0c9d61a0-02f4-4e82-a893-6b7311037d7b",
   "metadata": {
    "tags": []
   },
   "source": [
    "## 00 - Required data"
   ]
  },
  {
   "cell_type": "code",
   "execution_count": 7,
   "id": "f4489f14-5c76-4a85-8bcb-00473dc9c07b",
   "metadata": {
    "tags": []
   },
   "outputs": [],
   "source": [
    "# Location of area of interest (Required)\n",
    "aoi_dir = \"../../data/external/temporal_todocker/arroyo_vivo/poligono_proyectoarroyovivo_32614.gpkg\"\n",
    "\n",
    "# Name of points of interest (Required)\n",
    "pois_name = 'mercados'\n",
    "# Location of points of interest (Required)\n",
    "pois_dir = \"../../data/external/temporal_todocker/arroyo_vivo/mercados_pulgas_tianguis_cuenca_32614.gpkg\""
   ]
  },
  {
   "cell_type": "markdown",
   "id": "a27b044e-5750-4c94-a6fd-18412a3576d4",
   "metadata": {
    "tags": []
   },
   "source": [
    "## 01 - Find nodes proximity to pois in aoi"
   ]
  },
  {
   "cell_type": "code",
   "execution_count": 9,
   "id": "8a6eaa63-6856-436a-a4f9-2be49c7250dc",
   "metadata": {
    "tags": []
   },
   "outputs": [],
   "source": [
    "def find_nodes_proximity(aoi_dir,pois_dir,pois_name):\n",
    "\n",
    "    #-------------------------------------------------- Create OSMnx network\n",
    "\n",
    "    # Read area of interest (aoi)\n",
    "    aoi = gpd.read_file(aoi_dir)\n",
    "\n",
    "    # Create OSMnx network for area of interest\n",
    "    G, nodes, edges = aup.create_osmnx_network(aoi,how='from_bbox',network_type='all_private')\n",
    "\n",
    "    #-------------------------------------------------- Assign nearest node(osmid) to each point of interest\n",
    "\n",
    "    # Load pois\n",
    "    pois = gpd.read_file(pois_dir)\n",
    "    pois = pois.set_crs(\"EPSG:4326\")\n",
    "\n",
    "    # Filter pois\n",
    "    pois_aoi = gpd.sjoin(pois,aoi,how='inner')\n",
    "\n",
    "    # Format to calculate nearest\n",
    "    nodes_gdf = nodes.set_crs(\"EPSG:4326\")\n",
    "    edges_gdf = edges.set_crs(\"EPSG:4326\")\n",
    "    nodes_gdf = nodes_gdf.set_index('osmid')\n",
    "    edges_gdf = edges_gdf.set_index([\"u\", \"v\", \"key\"])\n",
    "\n",
    "    # Calculate nearest\n",
    "    nearest = aup.find_nearest(G, nodes_gdf, pois, return_distance= True)\n",
    "    print(\"Calculated distances from pois to nearest node.\")\n",
    "\n",
    "    #-------------------------------------------------- Calculate distance from each node to nearest poi\n",
    "    # Format\n",
    "    edges_gdf['length'].fillna(edges_gdf['length'].mean(),inplace=True)\n",
    "\n",
    "    # ELEMENTS NEEDED OUTSIDE THE LOOP\n",
    "    # df_temp: Each column will store a batch of procesed nodes.\n",
    "    df_temp = nodes_gdf.copy()\n",
    "\n",
    "    # ELEMENTS NEEDED OUTSIDE THE LOOP\n",
    "    # nodes_analysis is a nodes_gdf (index reseted) used in aup.calculate_distance_nearest_poi\n",
    "    nodes_analysis = nodes_gdf.reset_index().copy()\n",
    "\n",
    "    # ELEMENTS NEEDED OUTSIDE THE LOOP\n",
    "    #nodes_distance: Minimum time/distance found in all batches will be added from df_min (within if/elif/else) to nodes_distance \n",
    "    # (which keeps x,y and geometry data)\n",
    "    nodes_distance = nodes_gdf.copy()\n",
    "\n",
    "    s = pois_name\n",
    "\n",
    "    if len(nearest) % 250:\n",
    "        batch_size = len(nearest)/200\n",
    "        for k in range(int(batch_size)+1):\n",
    "            #---------------------------------------------------------------------------------------------------------------------------------------------\n",
    "            print(f\"Starting range k = {k+1} of {int(batch_size)+1} for source {s}.\")\n",
    "            #---------------------------------------------------------------------------------------------------------------------------------------------\n",
    "            source_process = nearest.iloc[int(200*k):int(200*(1+k))].copy()\n",
    "            nodes_distance_prep = aup.calculate_distance_nearest_poi(source_process, nodes_analysis, edges_gdf, s, 'osmid', wght='length')\n",
    "\n",
    "            #A middle gdf is created whose columns will be the name of the amenity and the batch number it belongs to\n",
    "            df_int = pd.DataFrame()\n",
    "            df_int['dist_'+str(k)+s] = nodes_distance_prep['dist_'+s]\n",
    "\n",
    "            #The middle gdf is merged into the previously created temporary gdf to store the data by node, each batch in a column.\n",
    "            df_temp = df_temp.merge(df_int, left_index=True, right_index=True)\n",
    "\n",
    "        # Once finished, drop the non-distance values from the temporary gdf\n",
    "        df_temp.drop(['x', 'y', 'street_count','geometry'], inplace = True, axis=1)\n",
    "\n",
    "        #We apply the min function to find the minimum value. This value is sent to a new df_min\n",
    "        df_min = pd.DataFrame()\n",
    "        df_min['dist_'+s] = df_temp.min(axis=1)\n",
    "\n",
    "        #We merge df_min which contains the shortest distance to the POI with nodes_distance which will store all final data\n",
    "        nodes_distance = nodes_distance.merge(df_min, left_index=True, right_index=True)\n",
    "\n",
    "        #Final data gets converted to time, assuming a walking speed of 4km/hr\n",
    "        nodes_time = nodes_distance.copy()\n",
    "        nodes_time['time'] = (nodes_time['dist_'+s]*60)/4000\n",
    "\n",
    "    else:\n",
    "        batch_size = len(nearest)/250\n",
    "        for k in range(int(batch_size)+1):\n",
    "            #---------------------------------------------------------------------------------------------------------------------------------------------\n",
    "            print(f\"Starting range k = {k+1} of {int(batch_size)+1} for source {s}.\")\n",
    "            #---------------------------------------------------------------------------------------------------------------------------------------------\n",
    "            source_process = nearest.iloc[int(250*k):int(250*(1+k))].copy()\n",
    "            nodes_distance_prep = aup.calculate_distance_nearest_poi(source_process, nodes_analysis, edges_gdf, s, 'osmid', wght='length')\n",
    "\n",
    "            #A middle gdf is created whose columns will be the name of the amenity and the batch number it belongs to\n",
    "            df_int = pd.DataFrame()\n",
    "            df_int['dist_'+str(k)+s] = nodes_distance_prep['dist_'+s]\n",
    "\n",
    "            #The middle gdf is merged into the previously created temporary gdf to store the data by node, each batch in a column.\n",
    "            df_temp = df_temp.merge(df_int, left_index=True, right_index=True)\n",
    "\n",
    "        # Once finished, drop the non-distance values from the temporary gdf\n",
    "        df_temp.drop(['x', 'y', 'street_count','geometry'], inplace = True, axis=1)\n",
    "\n",
    "        #We apply the min function to find the minimum value. This value is sent to a new df_min\n",
    "        df_min = pd.DataFrame()\n",
    "        df_min['dist_'+s] = df_temp.min(axis=1)\n",
    "\n",
    "        #We merge df_min which contains the shortest distance to the POI with nodes_distance which will store all final data\n",
    "        nodes_distance = nodes_distance.merge(df_min, left_index=True, right_index=True)\n",
    "\n",
    "        #Final data gets converted to time, assuming a walking speed of 4km/hr\n",
    "        nodes_time = nodes_distance.copy()\n",
    "        nodes_time['time'] = (nodes_time['dist_'+s]*60)/4000\n",
    "\n",
    "    #Format nodes_time\n",
    "    nodes_time['source'] = s\n",
    "    nodes_time.reset_index(inplace=True)\n",
    "    nodes_time = nodes_time.set_crs(\"EPSG:4326\")\n",
    "    nodes_time = nodes_time[['osmid','time','source','x','y','geometry']]\n",
    "\n",
    "    return nodes_time"
   ]
  },
  {
   "cell_type": "code",
   "execution_count": 8,
   "id": "fabeb71b-7dc2-4615-8730-a7cae58515d5",
   "metadata": {
    "tags": []
   },
   "outputs": [
    {
     "ename": "AttributeError",
     "evalue": "module 'aup' has no attribute 'create_osmnx_network'",
     "output_type": "error",
     "traceback": [
      "\u001b[0;31m---------------------------------------------------------------------------\u001b[0m",
      "\u001b[0;31mAttributeError\u001b[0m                            Traceback (most recent call last)",
      "Cell \u001b[0;32mIn[8], line 1\u001b[0m\n\u001b[0;32m----> 1\u001b[0m nodes_time \u001b[38;5;241m=\u001b[39m \u001b[43mfind_nodes_proximity\u001b[49m\u001b[43m(\u001b[49m\u001b[43maoi_dir\u001b[49m\u001b[43m,\u001b[49m\u001b[43mpois_dir\u001b[49m\u001b[43m,\u001b[49m\u001b[43mpois_name\u001b[49m\u001b[43m)\u001b[49m\n\u001b[1;32m      2\u001b[0m nodes_time\n",
      "Cell \u001b[0;32mIn[4], line 9\u001b[0m, in \u001b[0;36mfind_nodes_proximity\u001b[0;34m(aoi_dir, pois_dir, pois_name)\u001b[0m\n\u001b[1;32m      6\u001b[0m aoi \u001b[38;5;241m=\u001b[39m gpd\u001b[38;5;241m.\u001b[39mread_file(aoi_dir)\n\u001b[1;32m      8\u001b[0m \u001b[38;5;66;03m# Create OSMnx network for area of interest\u001b[39;00m\n\u001b[0;32m----> 9\u001b[0m G, nodes, edges \u001b[38;5;241m=\u001b[39m \u001b[43maup\u001b[49m\u001b[38;5;241;43m.\u001b[39;49m\u001b[43mcreate_osmnx_network\u001b[49m(aoi,how\u001b[38;5;241m=\u001b[39m\u001b[38;5;124m'\u001b[39m\u001b[38;5;124mfrom_bbox\u001b[39m\u001b[38;5;124m'\u001b[39m,network_type\u001b[38;5;241m=\u001b[39m\u001b[38;5;124m'\u001b[39m\u001b[38;5;124mall_private\u001b[39m\u001b[38;5;124m'\u001b[39m)\n\u001b[1;32m     11\u001b[0m \u001b[38;5;66;03m#-------------------------------------------------- Assign nearest node(osmid) to each point of interest\u001b[39;00m\n\u001b[1;32m     12\u001b[0m \n\u001b[1;32m     13\u001b[0m \u001b[38;5;66;03m# Load pois\u001b[39;00m\n\u001b[1;32m     14\u001b[0m pois \u001b[38;5;241m=\u001b[39m gpd\u001b[38;5;241m.\u001b[39mread_file(pois_dir)\n",
      "\u001b[0;31mAttributeError\u001b[0m: module 'aup' has no attribute 'create_osmnx_network'"
     ]
    }
   ],
   "source": [
    "nodes_time = find_nodes_proximity(aoi_dir,pois_dir,pois_name)\n",
    "nodes_time"
   ]
  },
  {
   "cell_type": "markdown",
   "id": "e4534575-ec4d-4600-8094-d3cc72f7d54a",
   "metadata": {},
   "source": [
    "## 01 - Transform nodes data"
   ]
  },
  {
   "cell_type": "code",
   "execution_count": 26,
   "id": "a547a89e-6838-4fa8-b082-e278a5cf12f2",
   "metadata": {
    "tags": []
   },
   "outputs": [
    {
     "name": "stderr",
     "output_type": "stream",
     "text": [
      "/tmp/ipykernel_24760/3882504483.py:4: SettingWithCopyWarning: \n",
      "A value is trying to be set on a copy of a slice from a DataFrame\n",
      "\n",
      "See the caveats in the documentation: https://pandas.pydata.org/pandas-docs/stable/user_guide/indexing.html#returning-a-view-versus-a-copy\n",
      "  nodes_analysis.rename(columns={'time':s},inplace=True)\n"
     ]
    },
    {
     "data": {
      "text/html": [
       "<div>\n",
       "<style scoped>\n",
       "    .dataframe tbody tr th:only-of-type {\n",
       "        vertical-align: middle;\n",
       "    }\n",
       "\n",
       "    .dataframe tbody tr th {\n",
       "        vertical-align: top;\n",
       "    }\n",
       "\n",
       "    .dataframe thead th {\n",
       "        text-align: right;\n",
       "    }\n",
       "</style>\n",
       "<table border=\"1\" class=\"dataframe\">\n",
       "  <thead>\n",
       "    <tr style=\"text-align: right;\">\n",
       "      <th></th>\n",
       "      <th>osmid</th>\n",
       "      <th>geometry</th>\n",
       "      <th>random_pois</th>\n",
       "    </tr>\n",
       "  </thead>\n",
       "  <tbody>\n",
       "    <tr>\n",
       "      <th>0</th>\n",
       "      <td>301189389</td>\n",
       "      <td>POINT (-102.34221 21.84854)</td>\n",
       "      <td>6.400245</td>\n",
       "    </tr>\n",
       "    <tr>\n",
       "      <th>1</th>\n",
       "      <td>301189406</td>\n",
       "      <td>POINT (-102.35022 21.85082)</td>\n",
       "      <td>17.556360</td>\n",
       "    </tr>\n",
       "  </tbody>\n",
       "</table>\n",
       "</div>"
      ],
      "text/plain": [
       "       osmid                     geometry  random_pois\n",
       "0  301189389  POINT (-102.34221 21.84854)     6.400245\n",
       "1  301189406  POINT (-102.35022 21.85082)    17.556360"
      ]
     },
     "execution_count": 26,
     "metadata": {},
     "output_type": "execute_result"
    }
   ],
   "source": [
    "s = nodes_time.source.unique()[0]\n",
    "\n",
    "nodes_analysis = nodes_time[['osmid','geometry','time']]\n",
    "nodes_analysis.rename(columns={'time':s},inplace=True)\n",
    "\n",
    "nodes_analysis.head(2)"
   ]
  },
  {
   "cell_type": "markdown",
   "id": "5dca9986-6860-4fe1-b66f-14d0b6a62490",
   "metadata": {},
   "source": [
    "## 02 - Group by hex"
   ]
  },
  {
   "cell_type": "code",
   "execution_count": 7,
   "id": "8ef30d4d-6e30-4a41-bbed-c316497328fb",
   "metadata": {
    "tags": []
   },
   "outputs": [
    {
     "name": "stdout",
     "output_type": "stream",
     "text": [
      "Filtered pop_gdf.\n",
      "Extracted pop_gdf centroids.\n",
      "Converted to centroids with 1043905 pop vs 1043905 pop in original gdf.\n",
      "Created hex_grid with 8 resolution\n",
      "Agregated socio data to hex with a total of 1043905.0 population for resolution 8.\n",
      "Calculated an average density of 39.75306755993063\n",
      "Created hex_grid with 9 resolution\n",
      "Agregated socio data to hex with a total of 1043905.0 population for resolution 9.\n",
      "Calculated an average density of 57.50817597082862\n",
      "Finished calculating population by hexgrid for res [8, 9].\n"
     ]
    }
   ],
   "source": [
    "aoi = gpd.read_file(aoi_dir)\n",
    "pop_dir = \"../../data/external/prox_latam/pop_gdf_ags.gpkg\"\n",
    "index_column = 'cvegeo'\n",
    "pop_columns = ['pobtot','p_0a2','p_3a5','p_60ymas']\n",
    "res_list = [8,9]\n",
    "\n",
    "hex_socio_gdf = aup.create_popdata_hexgrid(aoi,pop_dir,index_column,pop_columns,res_list)"
   ]
  },
  {
   "cell_type": "code",
   "execution_count": 11,
   "id": "ca0aee84-1ffc-4ba2-b2bb-510ac8f80cd5",
   "metadata": {
    "tags": []
   },
   "outputs": [
    {
     "data": {
      "text/html": [
       "<div>\n",
       "<style scoped>\n",
       "    .dataframe tbody tr th:only-of-type {\n",
       "        vertical-align: middle;\n",
       "    }\n",
       "\n",
       "    .dataframe tbody tr th {\n",
       "        vertical-align: top;\n",
       "    }\n",
       "\n",
       "    .dataframe thead th {\n",
       "        text-align: right;\n",
       "    }\n",
       "</style>\n",
       "<table border=\"1\" class=\"dataframe\">\n",
       "  <thead>\n",
       "    <tr style=\"text-align: right;\">\n",
       "      <th></th>\n",
       "      <th>hex_id</th>\n",
       "      <th>geometry</th>\n",
       "      <th>res</th>\n",
       "      <th>pobtot</th>\n",
       "      <th>p_0a2</th>\n",
       "      <th>p_3a5</th>\n",
       "      <th>p_60ymas</th>\n",
       "      <th>dens_pob_ha</th>\n",
       "    </tr>\n",
       "  </thead>\n",
       "  <tbody>\n",
       "    <tr>\n",
       "      <th>0</th>\n",
       "      <td>88498eacb1fffff</td>\n",
       "      <td>POLYGON ((-102.29640 21.84650, -102.29181 21.8...</td>\n",
       "      <td>8</td>\n",
       "      <td>12230.0</td>\n",
       "      <td>510.0</td>\n",
       "      <td>598.0</td>\n",
       "      <td>1608.0</td>\n",
       "      <td>141.581209</td>\n",
       "    </tr>\n",
       "    <tr>\n",
       "      <th>1</th>\n",
       "      <td>88498e34e1fffff</td>\n",
       "      <td>POLYGON ((-102.25996 21.97565, -102.25536 21.9...</td>\n",
       "      <td>8</td>\n",
       "      <td>103.0</td>\n",
       "      <td>3.0</td>\n",
       "      <td>14.0</td>\n",
       "      <td>4.0</td>\n",
       "      <td>1.192333</td>\n",
       "    </tr>\n",
       "  </tbody>\n",
       "</table>\n",
       "</div>"
      ],
      "text/plain": [
       "            hex_id                                           geometry  res  \\\n",
       "0  88498eacb1fffff  POLYGON ((-102.29640 21.84650, -102.29181 21.8...    8   \n",
       "1  88498e34e1fffff  POLYGON ((-102.25996 21.97565, -102.25536 21.9...    8   \n",
       "\n",
       "    pobtot  p_0a2  p_3a5  p_60ymas  dens_pob_ha  \n",
       "0  12230.0  510.0  598.0    1608.0   141.581209  \n",
       "1    103.0    3.0   14.0       4.0     1.192333  "
      ]
     },
     "execution_count": 11,
     "metadata": {},
     "output_type": "execute_result"
    }
   ],
   "source": [
    "hex_socio_gdf.head(2)"
   ]
  },
  {
   "cell_type": "code",
   "execution_count": 9,
   "id": "23483c00-fc8e-43fd-96c5-970f50df0faf",
   "metadata": {
    "tags": []
   },
   "outputs": [],
   "source": [
    "nodes_analysis_filter = nodes_analysis.copy()"
   ]
  },
  {
   "cell_type": "code",
   "execution_count": 12,
   "id": "2ccb3cff-d9f3-4266-8398-6cb203d49290",
   "metadata": {
    "tags": []
   },
   "outputs": [],
   "source": [
    "pop_output = True\n",
    "index_column = s"
   ]
  },
  {
   "cell_type": "code",
   "execution_count": 13,
   "id": "6433816a-31a8-4b37-b809-dfe8f5b4161e",
   "metadata": {
    "tags": []
   },
   "outputs": [
    {
     "name": "stderr",
     "output_type": "stream",
     "text": [
      "/tmp/ipykernel_24760/156202181.py:12: SettingWithCopyWarning: \n",
      "A value is trying to be set on a copy of a slice from a DataFrame\n",
      "\n",
      "See the caveats in the documentation: https://pandas.pydata.org/pandas-docs/stable/user_guide/indexing.html#returning-a-view-versus-a-copy\n",
      "  hex_pop.rename(columns={'hex_id':f'hex_id_{res}'},inplace=True)\n"
     ]
    },
    {
     "name": "stdout",
     "output_type": "stream",
     "text": [
      "Loaded pop hexgrid of resolution 8\n",
      "Grouped nodes data by hexagons res 8\n",
      "Saved grouped data by hexagons res 8\n",
      "Loaded pop hexgrid of resolution 9\n"
     ]
    },
    {
     "name": "stderr",
     "output_type": "stream",
     "text": [
      "/tmp/ipykernel_24760/156202181.py:12: SettingWithCopyWarning: \n",
      "A value is trying to be set on a copy of a slice from a DataFrame\n",
      "\n",
      "See the caveats in the documentation: https://pandas.pydata.org/pandas-docs/stable/user_guide/indexing.html#returning-a-view-versus-a-copy\n",
      "  hex_pop.rename(columns={'hex_id':f'hex_id_{res}'},inplace=True)\n"
     ]
    },
    {
     "name": "stdout",
     "output_type": "stream",
     "text": [
      "Grouped nodes data by hexagons res 9\n",
      "Saved grouped data by hexagons res 9\n"
     ]
    }
   ],
   "source": [
    "hex_idx = gpd.GeoDataFrame()\n",
    "\n",
    "for res in res_list:\n",
    "    \n",
    "    #/////////////////////////////////////////////////////////////////////////// HEXGRID DEPENDS ON POP DATA BEING CALCULATED OR NOT ///////////////////////////////////////////////////////////////////////////\n",
    "    # If pop_output is true, loads previously created hexgrid with pop data\n",
    "    if pop_output:\n",
    "        # Load hexgrid\n",
    "        hex_pop = hex_socio_gdf.loc[hex_socio_gdf['res'] == res]\n",
    "        \n",
    "        #Function group_by_hex_mean requires ID to include resolution\n",
    "        hex_pop.rename(columns={'hex_id':f'hex_id_{res}'},inplace=True)\n",
    "        \n",
    "        # Create hex_tmp\n",
    "        hex_pop = hex_pop.set_crs(\"EPSG:4326\")\n",
    "        hex_tmp = hex_pop[[f'hex_id_{res}','geometry']].copy()\n",
    "        #-------------------------------------------------------------------------------------------------------------------------------------------------\n",
    "        print(f\"Loaded pop hexgrid of resolution {res}\")\n",
    "        #-------------------------------------------------------------------------------------------------------------------------------------------------\n",
    "        \n",
    "    # If pop_output is false, creates hexgrid\n",
    "    else:\n",
    "        # Create hexgrid (which already has ID_res)\n",
    "        hexgrid = aup.create_hexgrid(aoi,res)\n",
    "        \n",
    "        # Create hex_tmp\n",
    "        hexgrid = hexgrid.set_crs(\"EPSG:4326\")\n",
    "        hex_tmp = hexgrid.copy()\n",
    "        #-------------------------------------------------------------------------------------------------------------------------------------------------\n",
    "        print(f\"Created hexgrid of resolution {res}\")\n",
    "        #-------------------------------------------------------------------------------------------------------------------------------------------------\n",
    "        \n",
    "    #/////////////////////////////////////////////////////////////////////////// HEXGRID DEPENDS ON POP DATA BEING CALCULATED OR NOT ///////////////////////////////////////////////////////////////////////////\n",
    "    \n",
    "    # group data by hex\n",
    "    hex_res_idx = aup.group_by_hex_mean(nodes_analysis_filter, hex_tmp, res, index_column)\n",
    "    hex_res_idx = hex_res_idx.loc[hex_res_idx[index_column]>0].copy()\n",
    "    \n",
    "    #-----------------------------------------------------------------------------------------------------------------------------------------------------\n",
    "    print(f\"Grouped nodes data by hexagons res {res}\")\n",
    "    #-----------------------------------------------------------------------------------------------------------------------------------------------------\n",
    "    \n",
    "    #////////////////////////////////////////////////////////////////////////////////// ADD POP DATA IF POP DATA IS CONSIDERED /////////////////////////////////////////////////////////////////////////////////\n",
    "    # Add pop data\n",
    "    if pop_output:\n",
    "        pop_list = [f'hex_id_{res}','pobtot','dens_pob_ha']\n",
    "        hex_res_pop = pd.merge(hex_res_idx, hex_pop[pop_list], on=f'hex_id_{res}')\n",
    "    else:\n",
    "        hex_res_pop = hex_res_idx.copy()\n",
    "    #////////////////////////////////////////////////////////////////////////////////// ADD POP DATA IF POP DATA IS CONSIDERED /////////////////////////////////////////////////////////////////////////////////    \n",
    "    \n",
    "    # After funtion group_by_hex_mean we can remove res from ID and set as a column\n",
    "    hex_res_pop.rename(columns={f'hex_id_{res}':'hex_id'},inplace=True)\n",
    "    hex_res_pop['res'] = res\n",
    "\n",
    "    hex_idx = hex_idx.append(hex_res_pop)\n",
    "        \n",
    "    #-----------------------------------------------------------------------------------------------------------------------------------------------------    \n",
    "    print(f\"Saved grouped data by hexagons res {res}\")\n",
    "    #-----------------------------------------------------------------------------------------------------------------------------------------------------\n",
    "    "
   ]
  },
  {
   "cell_type": "code",
   "execution_count": 18,
   "id": "7971f481-eb6f-4a0b-99d4-7cede2957c44",
   "metadata": {
    "tags": []
   },
   "outputs": [],
   "source": [
    "hex_idx.rename(columns={s:'max_time'},inplace=True)"
   ]
  },
  {
   "cell_type": "code",
   "execution_count": 21,
   "id": "47ac7cfc-21e5-4faf-a2ac-9ed426e3db8d",
   "metadata": {
    "tags": []
   },
   "outputs": [
    {
     "name": "stdout",
     "output_type": "stream",
     "text": [
      "(1765, 6)\n"
     ]
    },
    {
     "data": {
      "text/html": [
       "<div>\n",
       "<style scoped>\n",
       "    .dataframe tbody tr th:only-of-type {\n",
       "        vertical-align: middle;\n",
       "    }\n",
       "\n",
       "    .dataframe tbody tr th {\n",
       "        vertical-align: top;\n",
       "    }\n",
       "\n",
       "    .dataframe thead th {\n",
       "        text-align: right;\n",
       "    }\n",
       "</style>\n",
       "<table border=\"1\" class=\"dataframe\">\n",
       "  <thead>\n",
       "    <tr style=\"text-align: right;\">\n",
       "      <th></th>\n",
       "      <th>hex_id</th>\n",
       "      <th>geometry</th>\n",
       "      <th>max_time</th>\n",
       "      <th>pobtot</th>\n",
       "      <th>dens_pob_ha</th>\n",
       "      <th>res</th>\n",
       "    </tr>\n",
       "  </thead>\n",
       "  <tbody>\n",
       "    <tr>\n",
       "      <th>0</th>\n",
       "      <td>88498eacb1fffff</td>\n",
       "      <td>POLYGON ((-102.29640 21.84650, -102.29181 21.8...</td>\n",
       "      <td>5.246933</td>\n",
       "      <td>12230.0</td>\n",
       "      <td>141.581209</td>\n",
       "      <td>8</td>\n",
       "    </tr>\n",
       "    <tr>\n",
       "      <th>1</th>\n",
       "      <td>88498e34e1fffff</td>\n",
       "      <td>POLYGON ((-102.25996 21.97565, -102.25536 21.9...</td>\n",
       "      <td>26.711324</td>\n",
       "      <td>103.0</td>\n",
       "      <td>1.192333</td>\n",
       "      <td>8</td>\n",
       "    </tr>\n",
       "  </tbody>\n",
       "</table>\n",
       "</div>"
      ],
      "text/plain": [
       "            hex_id                                           geometry  \\\n",
       "0  88498eacb1fffff  POLYGON ((-102.29640 21.84650, -102.29181 21.8...   \n",
       "1  88498e34e1fffff  POLYGON ((-102.25996 21.97565, -102.25536 21.9...   \n",
       "\n",
       "    max_time   pobtot  dens_pob_ha  res  \n",
       "0   5.246933  12230.0   141.581209    8  \n",
       "1  26.711324    103.0     1.192333    8  "
      ]
     },
     "execution_count": 21,
     "metadata": {},
     "output_type": "execute_result"
    }
   ],
   "source": [
    "# Show\n",
    "print(hex_idx.shape)\n",
    "hex_idx.head(2)"
   ]
  },
  {
   "cell_type": "markdown",
   "id": "3fe168c9-9070-4fea-9fdb-67b790038bbc",
   "metadata": {},
   "source": [
    "## 03 - Save"
   ]
  },
  {
   "cell_type": "code",
   "execution_count": null,
   "id": "9bb8323c-c639-44cd-b4e2-ab49655cfef0",
   "metadata": {},
   "outputs": [],
   "source": [
    "'../../data/external/temporal_fromjupyter/proximity_function02.gpkg'\n",
    "hex_idx.to_file(proximityanalysis_save_dir, driver='GPKG')"
   ]
  }
 ],
 "metadata": {
  "kernelspec": {
   "display_name": "GDS-10.0",
   "language": "python",
   "name": "gds"
  },
  "language_info": {
   "codemirror_mode": {
    "name": "ipython",
    "version": 3
   },
   "file_extension": ".py",
   "mimetype": "text/x-python",
   "name": "python",
   "nbconvert_exporter": "python",
   "pygments_lexer": "ipython3",
   "version": "3.9.18"
  }
 },
 "nbformat": 4,
 "nbformat_minor": 5
}
