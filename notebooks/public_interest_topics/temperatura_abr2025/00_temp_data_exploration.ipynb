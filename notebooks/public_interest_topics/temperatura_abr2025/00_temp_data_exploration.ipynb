{
 "cells": [
  {
   "cell_type": "markdown",
   "id": "a0c64b56-ca88-44fc-ad6a-6132a544d759",
   "metadata": {},
   "source": [
    "# 00_temp_data_exploration"
   ]
  },
  {
   "cell_type": "markdown",
   "id": "3c2d20bc-26c8-4289-9a40-dbfdc18c10e7",
   "metadata": {},
   "source": [
    "This notebook __explores temperature data__ for Monterrey in order to find interesting facts and relations __for further analysis and dissemination.__"
   ]
  },
  {
   "cell_type": "markdown",
   "id": "0e1b9677-2d24-4779-ae5f-70858cd612d3",
   "metadata": {},
   "source": [
    "## Import libraries"
   ]
  },
  {
   "cell_type": "code",
   "execution_count": 1,
   "id": "fc93bb8d-a868-4e50-b600-4ac6d4b07e65",
   "metadata": {},
   "outputs": [
    {
     "name": "stdout",
     "output_type": "stream",
     "text": [
      "/home/jovyan/accesibilidad-urbana\n"
     ]
    }
   ],
   "source": [
    "from pathlib import Path\n",
    "\n",
    "current_path = Path().resolve()\n",
    "\n",
    "for parent in current_path.parents:\n",
    "    if parent.name == \"accesibilidad-urbana\":\n",
    "        project_root = parent\n",
    "        break\n",
    "\n",
    "print(project_root)"
   ]
  },
  {
   "cell_type": "code",
   "execution_count": 2,
   "id": "ccb4c090-0288-4817-bbbf-c44fce6e090d",
   "metadata": {},
   "outputs": [],
   "source": [
    "import os\n",
    "import sys\n",
    "\n",
    "import pandas as pd\n",
    "import geopandas as gpd\n",
    "import numpy as np\n",
    "\n",
    "import matplotlib.pyplot as plt\n",
    "from matplotlib import colors\n",
    "import seaborn as sns\n",
    "\n",
    "from pandas.api.types import CategoricalDtype\n",
    "\n",
    "import warnings\n",
    "warnings.simplefilter(action='ignore', category=FutureWarning)\n",
    "\n",
    "module_path = os.path.abspath(os.path.join(project_root))\n",
    "if module_path not in sys.path:\n",
    "    sys.path.append(module_path)\n",
    "    import aup"
   ]
  },
  {
   "cell_type": "markdown",
   "id": "8eb8adf6-1d40-4a1f-9adb-46b9652f527e",
   "metadata": {},
   "source": [
    "## Notebook config"
   ]
  },
  {
   "cell_type": "code",
   "execution_count": 3,
   "id": "fb135b39-abf9-4484-845f-29edba9c499f",
   "metadata": {},
   "outputs": [],
   "source": [
    "city = 'Monterrey'"
   ]
  },
  {
   "cell_type": "markdown",
   "id": "566c2b61-3e34-4ff2-8d63-22bafe96e5ef",
   "metadata": {},
   "source": [
    "## Load data"
   ]
  },
  {
   "cell_type": "code",
   "execution_count": 4,
   "id": "49a0b49e-2309-4205-9014-f0d78a1ccd99",
   "metadata": {},
   "outputs": [
    {
     "name": "stdout",
     "output_type": "stream",
     "text": [
      "(100615, 17)\n"
     ]
    },
    {
     "data": {
      "text/html": [
       "<div>\n",
       "<style scoped>\n",
       "    .dataframe tbody tr th:only-of-type {\n",
       "        vertical-align: middle;\n",
       "    }\n",
       "\n",
       "    .dataframe tbody tr th {\n",
       "        vertical-align: top;\n",
       "    }\n",
       "\n",
       "    .dataframe thead th {\n",
       "        text-align: right;\n",
       "    }\n",
       "</style>\n",
       "<table border=\"1\" class=\"dataframe\">\n",
       "  <thead>\n",
       "    <tr style=\"text-align: right;\">\n",
       "      <th></th>\n",
       "      <th>hex_id</th>\n",
       "      <th>geometry</th>\n",
       "      <th>res</th>\n",
       "      <th>temperature_mean</th>\n",
       "      <th>temperature_std</th>\n",
       "      <th>temperature_median</th>\n",
       "      <th>temperature_max</th>\n",
       "      <th>temperature_min</th>\n",
       "      <th>temperature_diff</th>\n",
       "      <th>temperature_tend</th>\n",
       "      <th>temperature_2018</th>\n",
       "      <th>temperature_2019</th>\n",
       "      <th>temperature_2020</th>\n",
       "      <th>temperature_2021</th>\n",
       "      <th>temperature_2022</th>\n",
       "      <th>temperature_2023</th>\n",
       "      <th>city</th>\n",
       "    </tr>\n",
       "  </thead>\n",
       "  <tbody>\n",
       "    <tr>\n",
       "      <th>0</th>\n",
       "      <td>8a48a20d499ffff</td>\n",
       "      <td>POLYGON ((-100.13218 25.75947, -100.13150 25.7...</td>\n",
       "      <td>10</td>\n",
       "      <td>33.047506</td>\n",
       "      <td>12.934438</td>\n",
       "      <td>35.318182</td>\n",
       "      <td>44.483586</td>\n",
       "      <td>11.486111</td>\n",
       "      <td>32.997475</td>\n",
       "      <td>0.084864</td>\n",
       "      <td>35.507576</td>\n",
       "      <td>21.957071</td>\n",
       "      <td>33.553030</td>\n",
       "      <td>34.407197</td>\n",
       "      <td>32.508418</td>\n",
       "      <td>37.021970</td>\n",
       "      <td>Monterrey</td>\n",
       "    </tr>\n",
       "    <tr>\n",
       "      <th>1</th>\n",
       "      <td>8a48a20c184ffff</td>\n",
       "      <td>POLYGON ((-100.22721 25.79703, -100.22653 25.7...</td>\n",
       "      <td>10</td>\n",
       "      <td>35.677604</td>\n",
       "      <td>9.367261</td>\n",
       "      <td>37.387500</td>\n",
       "      <td>46.754167</td>\n",
       "      <td>20.386111</td>\n",
       "      <td>26.368056</td>\n",
       "      <td>0.090249</td>\n",
       "      <td>36.171667</td>\n",
       "      <td>35.098611</td>\n",
       "      <td>34.829167</td>\n",
       "      <td>35.179861</td>\n",
       "      <td>33.333333</td>\n",
       "      <td>38.994167</td>\n",
       "      <td>Monterrey</td>\n",
       "    </tr>\n",
       "  </tbody>\n",
       "</table>\n",
       "</div>"
      ],
      "text/plain": [
       "            hex_id                                           geometry  res   \n",
       "0  8a48a20d499ffff  POLYGON ((-100.13218 25.75947, -100.13150 25.7...   10  \\\n",
       "1  8a48a20c184ffff  POLYGON ((-100.22721 25.79703, -100.22653 25.7...   10   \n",
       "\n",
       "   temperature_mean  temperature_std  temperature_median  temperature_max   \n",
       "0         33.047506        12.934438           35.318182        44.483586  \\\n",
       "1         35.677604         9.367261           37.387500        46.754167   \n",
       "\n",
       "   temperature_min  temperature_diff  temperature_tend  temperature_2018   \n",
       "0        11.486111         32.997475          0.084864         35.507576  \\\n",
       "1        20.386111         26.368056          0.090249         36.171667   \n",
       "\n",
       "   temperature_2019  temperature_2020  temperature_2021  temperature_2022   \n",
       "0         21.957071         33.553030         34.407197         32.508418  \\\n",
       "1         35.098611         34.829167         35.179861         33.333333   \n",
       "\n",
       "   temperature_2023       city  \n",
       "0         37.021970  Monterrey  \n",
       "1         38.994167  Monterrey  "
      ]
     },
     "execution_count": 4,
     "metadata": {},
     "output_type": "execute_result"
    }
   ],
   "source": [
    "temp_schema = 'raster_analysis'\n",
    "temp_table = 'temperature_analysis_hex'\n",
    "\n",
    "query = f\"SELECT * FROM {temp_schema}.{temp_table} WHERE \\\"city\\\" = '{city}\\' AND \\\"res\\\" = '10\\'\"\n",
    "temperature_gdf = aup.gdf_from_query(query, geometry_col='geometry')\n",
    "\n",
    "# Show\n",
    "print(temperature_gdf.shape)\n",
    "temperature_gdf.head(2)"
   ]
  },
  {
   "cell_type": "code",
   "execution_count": null,
   "id": "60d6723a-ce2b-4f25-b068-1fdbe240deb1",
   "metadata": {},
   "outputs": [],
   "source": []
  },
  {
   "cell_type": "code",
   "execution_count": null,
   "id": "52a9b1fe-e06b-42dc-bb61-7f441114f3f0",
   "metadata": {},
   "outputs": [],
   "source": []
  }
 ],
 "metadata": {
  "kernelspec": {
   "display_name": "GDS-10.0",
   "language": "python",
   "name": "gds"
  },
  "language_info": {
   "codemirror_mode": {
    "name": "ipython",
    "version": 3
   },
   "file_extension": ".py",
   "mimetype": "text/x-python",
   "name": "python",
   "nbconvert_exporter": "python",
   "pygments_lexer": "ipython3",
   "version": "3.9.18"
  }
 },
 "nbformat": 4,
 "nbformat_minor": 5
}
