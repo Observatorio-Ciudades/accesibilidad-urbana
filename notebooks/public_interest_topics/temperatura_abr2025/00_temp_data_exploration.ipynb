{
 "cells": [
  {
   "cell_type": "markdown",
   "id": "a0c64b56-ca88-44fc-ad6a-6132a544d759",
   "metadata": {},
   "source": [
    "# 00_temp_data_exploration"
   ]
  },
  {
   "cell_type": "markdown",
   "id": "3c2d20bc-26c8-4289-9a40-dbfdc18c10e7",
   "metadata": {},
   "source": [
    "This notebook __explores temperature data__ for Monterrey in order to find interesting facts and relations __for further analysis and dissemination.__"
   ]
  },
  {
   "cell_type": "markdown",
   "id": "0e1b9677-2d24-4779-ae5f-70858cd612d3",
   "metadata": {},
   "source": [
    "## Import libraries"
   ]
  },
  {
   "cell_type": "code",
   "execution_count": 1,
   "id": "fc93bb8d-a868-4e50-b600-4ac6d4b07e65",
   "metadata": {},
   "outputs": [
    {
     "name": "stdout",
     "output_type": "stream",
     "text": [
      "/home/observatorio/Documents/repos/accesibilidad-urbana\n"
     ]
    }
   ],
   "source": [
    "from pathlib import Path\n",
    "\n",
    "current_path = Path().resolve()\n",
    "\n",
    "for parent in current_path.parents:\n",
    "    if parent.name == \"accesibilidad-urbana\":\n",
    "        project_root = parent\n",
    "        break\n",
    "\n",
    "print(project_root)"
   ]
  },
  {
   "cell_type": "code",
   "execution_count": 2,
   "id": "ccb4c090-0288-4817-bbbf-c44fce6e090d",
   "metadata": {},
   "outputs": [],
   "source": [
    "import os\n",
    "import sys\n",
    "\n",
    "import pandas as pd\n",
    "import geopandas as gpd\n",
    "import numpy as np\n",
    "\n",
    "import matplotlib.pyplot as plt\n",
    "from matplotlib import colors\n",
    "import seaborn as sns\n",
    "\n",
    "# Correlation calc\n",
    "import scipy.stats as stats\n",
    "\n",
    "from pandas.api.types import CategoricalDtype\n",
    "\n",
    "import warnings\n",
    "warnings.simplefilter(action='ignore', category=FutureWarning)\n",
    "\n",
    "module_path = os.path.abspath(os.path.join(project_root))\n",
    "if module_path not in sys.path:\n",
    "    sys.path.append(module_path)\n",
    "    import aup\n",
    "else:\n",
    "    import aup"
   ]
  },
  {
   "cell_type": "markdown",
   "id": "8eb8adf6-1d40-4a1f-9adb-46b9652f527e",
   "metadata": {},
   "source": [
    "## Notebook config"
   ]
  },
  {
   "cell_type": "code",
   "execution_count": 3,
   "id": "fb135b39-abf9-4484-845f-29edba9c499f",
   "metadata": {},
   "outputs": [],
   "source": [
    "city = 'Guadalajara'\n",
    "res = 8"
   ]
  },
  {
   "cell_type": "markdown",
   "id": "566c2b61-3e34-4ff2-8d63-22bafe96e5ef",
   "metadata": {},
   "source": [
    "## Load data"
   ]
  },
  {
   "cell_type": "markdown",
   "id": "bc5c7182-dafc-4be3-add3-9c48abb47823",
   "metadata": {},
   "source": [
    "### __Load data__ - Temperature"
   ]
  },
  {
   "cell_type": "code",
   "execution_count": 4,
   "id": "49a0b49e-2309-4205-9014-f0d78a1ccd99",
   "metadata": {},
   "outputs": [
    {
     "name": "stdout",
     "output_type": "stream",
     "text": [
      "WARNING: Dropping 2 hexs res 8 because of inf values.\n",
      "(1511, 17)\n"
     ]
    },
    {
     "data": {
      "text/html": [
       "<div>\n",
       "<style scoped>\n",
       "    .dataframe tbody tr th:only-of-type {\n",
       "        vertical-align: middle;\n",
       "    }\n",
       "\n",
       "    .dataframe tbody tr th {\n",
       "        vertical-align: top;\n",
       "    }\n",
       "\n",
       "    .dataframe thead th {\n",
       "        text-align: right;\n",
       "    }\n",
       "</style>\n",
       "<table border=\"1\" class=\"dataframe\">\n",
       "  <thead>\n",
       "    <tr style=\"text-align: right;\">\n",
       "      <th></th>\n",
       "      <th>hex_id</th>\n",
       "      <th>geometry</th>\n",
       "      <th>res</th>\n",
       "      <th>temperature_mean</th>\n",
       "      <th>temperature_std</th>\n",
       "      <th>temperature_median</th>\n",
       "      <th>temperature_max</th>\n",
       "      <th>temperature_min</th>\n",
       "      <th>temperature_diff</th>\n",
       "      <th>temperature_tend</th>\n",
       "      <th>temperature_2018</th>\n",
       "      <th>temperature_2019</th>\n",
       "      <th>temperature_2020</th>\n",
       "      <th>temperature_2021</th>\n",
       "      <th>temperature_2022</th>\n",
       "      <th>temperature_2023</th>\n",
       "      <th>city</th>\n",
       "    </tr>\n",
       "  </thead>\n",
       "  <tbody>\n",
       "    <tr>\n",
       "      <th>0</th>\n",
       "      <td>88498c9421fffff</td>\n",
       "      <td>POLYGON ((-103.28663 20.69309, -103.28209 20.6...</td>\n",
       "      <td>8</td>\n",
       "      <td>38.438111</td>\n",
       "      <td>7.315052</td>\n",
       "      <td>38.626435</td>\n",
       "      <td>47.764274</td>\n",
       "      <td>27.717624</td>\n",
       "      <td>20.046651</td>\n",
       "      <td>0.031308</td>\n",
       "      <td>36.122693</td>\n",
       "      <td>39.136411</td>\n",
       "      <td>39.363307</td>\n",
       "      <td>36.741435</td>\n",
       "      <td>38.941005</td>\n",
       "      <td>39.23532</td>\n",
       "      <td>Guadalajara</td>\n",
       "    </tr>\n",
       "    <tr>\n",
       "      <th>1</th>\n",
       "      <td>8849aa2d65fffff</td>\n",
       "      <td>POLYGON ((-103.22891 20.50978, -103.22437 20.5...</td>\n",
       "      <td>8</td>\n",
       "      <td>38.191586</td>\n",
       "      <td>7.621555</td>\n",
       "      <td>37.486231</td>\n",
       "      <td>49.182830</td>\n",
       "      <td>27.666387</td>\n",
       "      <td>21.516443</td>\n",
       "      <td>0.045346</td>\n",
       "      <td>35.142070</td>\n",
       "      <td>39.482854</td>\n",
       "      <td>38.127185</td>\n",
       "      <td>37.602969</td>\n",
       "      <td>38.582998</td>\n",
       "      <td>39.50381</td>\n",
       "      <td>Guadalajara</td>\n",
       "    </tr>\n",
       "  </tbody>\n",
       "</table>\n",
       "</div>"
      ],
      "text/plain": [
       "            hex_id                                           geometry  res  \\\n",
       "0  88498c9421fffff  POLYGON ((-103.28663 20.69309, -103.28209 20.6...    8   \n",
       "1  8849aa2d65fffff  POLYGON ((-103.22891 20.50978, -103.22437 20.5...    8   \n",
       "\n",
       "   temperature_mean  temperature_std  temperature_median  temperature_max  \\\n",
       "0         38.438111         7.315052           38.626435        47.764274   \n",
       "1         38.191586         7.621555           37.486231        49.182830   \n",
       "\n",
       "   temperature_min  temperature_diff  temperature_tend  temperature_2018  \\\n",
       "0        27.717624         20.046651          0.031308         36.122693   \n",
       "1        27.666387         21.516443          0.045346         35.142070   \n",
       "\n",
       "   temperature_2019  temperature_2020  temperature_2021  temperature_2022  \\\n",
       "0         39.136411         39.363307         36.741435         38.941005   \n",
       "1         39.482854         38.127185         37.602969         38.582998   \n",
       "\n",
       "   temperature_2023         city  \n",
       "0          39.23532  Guadalajara  \n",
       "1          39.50381  Guadalajara  "
      ]
     },
     "execution_count": 4,
     "metadata": {},
     "output_type": "execute_result"
    }
   ],
   "source": [
    "temp_schema = 'raster_analysis'\n",
    "temp_table = 'temperature_analysis_hex'\n",
    "\n",
    "query = f\"SELECT * FROM {temp_schema}.{temp_table} WHERE \\\"city\\\" = '{city}\\' AND \\\"res\\\" = '{res}\\'\"\n",
    "temperature_gdf = aup.gdf_from_query(query, geometry_col='geometry')\n",
    "\n",
    "infs = temperature_gdf.loc[np.isinf(temperature_gdf['temperature_mean'])]\n",
    "if len(infs)>0:\n",
    "    print(f\"WARNING: Dropping {len(infs)} hexs res {res} because of inf values.\")\n",
    "    temperature_gdf = temperature_gdf.loc[~np.isinf(temperature_gdf['temperature_mean'])].copy()\n",
    "\n",
    "# Show\n",
    "print(temperature_gdf.shape)\n",
    "temperature_gdf.head(2)"
   ]
  },
  {
   "cell_type": "markdown",
   "id": "59d07306-7375-4396-9c65-3ab37f0d9edf",
   "metadata": {},
   "source": [
    "### __Load data__ - NDVI"
   ]
  },
  {
   "cell_type": "code",
   "execution_count": 5,
   "id": "e4de072b-0421-4432-83c5-39a991f9ae04",
   "metadata": {},
   "outputs": [
    {
     "name": "stdout",
     "output_type": "stream",
     "text": [
      "(1513, 17)\n"
     ]
    },
    {
     "data": {
      "text/html": [
       "<div>\n",
       "<style scoped>\n",
       "    .dataframe tbody tr th:only-of-type {\n",
       "        vertical-align: middle;\n",
       "    }\n",
       "\n",
       "    .dataframe tbody tr th {\n",
       "        vertical-align: top;\n",
       "    }\n",
       "\n",
       "    .dataframe thead th {\n",
       "        text-align: right;\n",
       "    }\n",
       "</style>\n",
       "<table border=\"1\" class=\"dataframe\">\n",
       "  <thead>\n",
       "    <tr style=\"text-align: right;\">\n",
       "      <th></th>\n",
       "      <th>hex_id</th>\n",
       "      <th>geometry</th>\n",
       "      <th>res</th>\n",
       "      <th>ndvi_mean</th>\n",
       "      <th>ndvi_std</th>\n",
       "      <th>ndvi_median</th>\n",
       "      <th>ndvi_max</th>\n",
       "      <th>ndvi_min</th>\n",
       "      <th>ndvi_diff</th>\n",
       "      <th>ndvi_tend</th>\n",
       "      <th>ndvi_2018</th>\n",
       "      <th>ndvi_2019</th>\n",
       "      <th>ndvi_2020</th>\n",
       "      <th>ndvi_2021</th>\n",
       "      <th>ndvi_2022</th>\n",
       "      <th>ndvi_2023</th>\n",
       "      <th>city</th>\n",
       "    </tr>\n",
       "  </thead>\n",
       "  <tbody>\n",
       "    <tr>\n",
       "      <th>0</th>\n",
       "      <td>88498c9421fffff</td>\n",
       "      <td>POLYGON ((-103.28663 20.69309, -103.28209 20.6...</td>\n",
       "      <td>8</td>\n",
       "      <td>0.116626</td>\n",
       "      <td>0.026236</td>\n",
       "      <td>0.126059</td>\n",
       "      <td>0.134537</td>\n",
       "      <td>0.103701</td>\n",
       "      <td>0.030836</td>\n",
       "      <td>-0.000953</td>\n",
       "      <td>0.135403</td>\n",
       "      <td>0.136256</td>\n",
       "      <td>0.136132</td>\n",
       "      <td>0.127048</td>\n",
       "      <td>0.084899</td>\n",
       "      <td>0.080018</td>\n",
       "      <td>Guadalajara</td>\n",
       "    </tr>\n",
       "    <tr>\n",
       "      <th>1</th>\n",
       "      <td>8849aa2197fffff</td>\n",
       "      <td>POLYGON ((-103.33207 20.42909, -103.32754 20.4...</td>\n",
       "      <td>8</td>\n",
       "      <td>0.301783</td>\n",
       "      <td>0.137969</td>\n",
       "      <td>0.258105</td>\n",
       "      <td>0.503622</td>\n",
       "      <td>0.161132</td>\n",
       "      <td>0.342490</td>\n",
       "      <td>-0.001276</td>\n",
       "      <td>0.330410</td>\n",
       "      <td>0.296243</td>\n",
       "      <td>0.358237</td>\n",
       "      <td>0.353359</td>\n",
       "      <td>0.254315</td>\n",
       "      <td>0.218131</td>\n",
       "      <td>Guadalajara</td>\n",
       "    </tr>\n",
       "  </tbody>\n",
       "</table>\n",
       "</div>"
      ],
      "text/plain": [
       "            hex_id                                           geometry  res  \\\n",
       "0  88498c9421fffff  POLYGON ((-103.28663 20.69309, -103.28209 20.6...    8   \n",
       "1  8849aa2197fffff  POLYGON ((-103.33207 20.42909, -103.32754 20.4...    8   \n",
       "\n",
       "   ndvi_mean  ndvi_std  ndvi_median  ndvi_max  ndvi_min  ndvi_diff  ndvi_tend  \\\n",
       "0   0.116626  0.026236     0.126059  0.134537  0.103701   0.030836  -0.000953   \n",
       "1   0.301783  0.137969     0.258105  0.503622  0.161132   0.342490  -0.001276   \n",
       "\n",
       "   ndvi_2018  ndvi_2019  ndvi_2020  ndvi_2021  ndvi_2022  ndvi_2023  \\\n",
       "0   0.135403   0.136256   0.136132   0.127048   0.084899   0.080018   \n",
       "1   0.330410   0.296243   0.358237   0.353359   0.254315   0.218131   \n",
       "\n",
       "          city  \n",
       "0  Guadalajara  \n",
       "1  Guadalajara  "
      ]
     },
     "execution_count": 5,
     "metadata": {},
     "output_type": "execute_result"
    }
   ],
   "source": [
    "ndvi_schema = 'raster_analysis'\n",
    "ndvi_table = 'ndvi_analysis_hex'\n",
    "\n",
    "query = f\"SELECT * FROM {ndvi_schema}.{ndvi_table} WHERE \\\"city\\\" = '{city}\\' AND \\\"res\\\" = '{res}\\'\"\n",
    "ndvi_gdf = aup.gdf_from_query(query, geometry_col='geometry')\n",
    "\n",
    "infs = ndvi_gdf.loc[np.isinf(ndvi_gdf['ndvi_mean'])]\n",
    "if len(infs)>0:\n",
    "    print(f\"WARNING: Dropping {len(infs)} hexs res {res} because of inf values.\")\n",
    "    ndvi_gdf = ndvi_gdf.loc[~np.isinf(ndvi_gdf['ndvi_mean'])].copy()\n",
    "\n",
    "# Show\n",
    "print(ndvi_gdf.shape)\n",
    "ndvi_gdf.head(2)"
   ]
  },
  {
   "cell_type": "markdown",
   "id": "e814278f-fd2f-412a-9708-7b2c87f5a63d",
   "metadata": {},
   "source": [
    "### __Load data__ - Buildings"
   ]
  },
  {
   "cell_type": "code",
   "execution_count": 20,
   "id": "f91397a7-7ff1-47a0-a328-ad9414cc06a0",
   "metadata": {},
   "outputs": [],
   "source": [
    "a=\"\"\"\n",
    "# First time (csv to gpkg)\n",
    "\n",
    "# Read csv\n",
    "buildings_df = pd.read_csv(str(project_root)+'/data/external/google_open_buildings/843_buildings.csv')\n",
    "# Convert to gdf\n",
    "from shapely.wkt import loads\n",
    "buildings_df[\"geometry\"] = buildings_df[\"geometry\"].apply(loads)\n",
    "buildings_gdf = gpd.GeoDataFrame(buildings_df, geometry=\"geometry\", crs=\"EPSG:4326\")\n",
    "\n",
    "# Save\n",
    "buildings_gdf.to_file(str(project_root)+\"/data/external/google_open_buildings/google_buildings_843.gpkg\")\n",
    "\"\"\""
   ]
  },
  {
   "cell_type": "code",
   "execution_count": 22,
   "id": "08edda92-2021-49bf-be42-a8fc2aa2b285",
   "metadata": {},
   "outputs": [
    {
     "name": "stdout",
     "output_type": "stream",
     "text": [
      "EPSG:4326\n",
      "(17536895, 6)\n"
     ]
    },
    {
     "data": {
      "text/html": [
       "<div>\n",
       "<style scoped>\n",
       "    .dataframe tbody tr th:only-of-type {\n",
       "        vertical-align: middle;\n",
       "    }\n",
       "\n",
       "    .dataframe tbody tr th {\n",
       "        vertical-align: top;\n",
       "    }\n",
       "\n",
       "    .dataframe thead th {\n",
       "        text-align: right;\n",
       "    }\n",
       "</style>\n",
       "<table border=\"1\" class=\"dataframe\">\n",
       "  <thead>\n",
       "    <tr style=\"text-align: right;\">\n",
       "      <th></th>\n",
       "      <th>latitude</th>\n",
       "      <th>longitude</th>\n",
       "      <th>area_in_meters</th>\n",
       "      <th>confidence</th>\n",
       "      <th>full_plus_code</th>\n",
       "      <th>geometry</th>\n",
       "    </tr>\n",
       "  </thead>\n",
       "  <tbody>\n",
       "    <tr>\n",
       "      <th>0</th>\n",
       "      <td>18.364032</td>\n",
       "      <td>-100.670645</td>\n",
       "      <td>60.4298</td>\n",
       "      <td>0.8018</td>\n",
       "      <td>75CX987H+JP97</td>\n",
       "      <td>MULTIPOLYGON (((-100.67059 18.36404, -100.6706...</td>\n",
       "    </tr>\n",
       "    <tr>\n",
       "      <th>1</th>\n",
       "      <td>20.446907</td>\n",
       "      <td>-103.526685</td>\n",
       "      <td>10.5973</td>\n",
       "      <td>0.7524</td>\n",
       "      <td>75GRCFWF+Q886</td>\n",
       "      <td>MULTIPOLYGON (((-103.52667 20.44689, -103.5266...</td>\n",
       "    </tr>\n",
       "  </tbody>\n",
       "</table>\n",
       "</div>"
      ],
      "text/plain": [
       "    latitude   longitude  area_in_meters  confidence full_plus_code  \\\n",
       "0  18.364032 -100.670645         60.4298      0.8018  75CX987H+JP97   \n",
       "1  20.446907 -103.526685         10.5973      0.7524  75GRCFWF+Q886   \n",
       "\n",
       "                                            geometry  \n",
       "0  MULTIPOLYGON (((-100.67059 18.36404, -100.6706...  \n",
       "1  MULTIPOLYGON (((-103.52667 20.44689, -103.5266...  "
      ]
     },
     "execution_count": 22,
     "metadata": {},
     "output_type": "execute_result"
    }
   ],
   "source": [
    "# Read previously created gdf\n",
    "buildings_gdf = gpd.read_file(str(project_root)+\"/data/external/google_open_buildings/google_buildings_843.gpkg\")           \n",
    "\n",
    "# Show\n",
    "print(buildings_gdf.crs)\n",
    "print(buildings_gdf.shape)\n",
    "buildings_gdf.head(2)"
   ]
  },
  {
   "cell_type": "markdown",
   "id": "5baed035-f00d-4de3-b1d3-b2f852372189",
   "metadata": {},
   "source": [
    "## __Analysis 1__ - Tendencia por año"
   ]
  },
  {
   "cell_type": "code",
   "execution_count": 7,
   "id": "cb9a5d3d-ec3b-4a90-8b3c-fd5a5f581f72",
   "metadata": {},
   "outputs": [
    {
     "data": {
      "text/html": [
       "<div>\n",
       "<style scoped>\n",
       "    .dataframe tbody tr th:only-of-type {\n",
       "        vertical-align: middle;\n",
       "    }\n",
       "\n",
       "    .dataframe tbody tr th {\n",
       "        vertical-align: top;\n",
       "    }\n",
       "\n",
       "    .dataframe thead th {\n",
       "        text-align: right;\n",
       "    }\n",
       "</style>\n",
       "<table border=\"1\" class=\"dataframe\">\n",
       "  <thead>\n",
       "    <tr style=\"text-align: right;\">\n",
       "      <th></th>\n",
       "      <th>2018</th>\n",
       "      <th>2019</th>\n",
       "      <th>2020</th>\n",
       "      <th>2021</th>\n",
       "      <th>2022</th>\n",
       "      <th>2023</th>\n",
       "    </tr>\n",
       "  </thead>\n",
       "  <tbody>\n",
       "    <tr>\n",
       "      <th>min</th>\n",
       "      <td>23.995591</td>\n",
       "      <td>25.158925</td>\n",
       "      <td>24.870480</td>\n",
       "      <td>24.176172</td>\n",
       "      <td>24.258142</td>\n",
       "      <td>24.379101</td>\n",
       "    </tr>\n",
       "    <tr>\n",
       "      <th>mean</th>\n",
       "      <td>34.824012</td>\n",
       "      <td>38.928309</td>\n",
       "      <td>37.669279</td>\n",
       "      <td>36.330798</td>\n",
       "      <td>36.911064</td>\n",
       "      <td>37.685120</td>\n",
       "    </tr>\n",
       "    <tr>\n",
       "      <th>median</th>\n",
       "      <td>35.187662</td>\n",
       "      <td>39.012140</td>\n",
       "      <td>38.085915</td>\n",
       "      <td>36.533524</td>\n",
       "      <td>37.351894</td>\n",
       "      <td>38.078815</td>\n",
       "    </tr>\n",
       "    <tr>\n",
       "      <th>std</th>\n",
       "      <td>2.459673</td>\n",
       "      <td>2.763451</td>\n",
       "      <td>2.488418</td>\n",
       "      <td>2.351231</td>\n",
       "      <td>2.341727</td>\n",
       "      <td>2.317008</td>\n",
       "    </tr>\n",
       "    <tr>\n",
       "      <th>max</th>\n",
       "      <td>40.459971</td>\n",
       "      <td>45.279847</td>\n",
       "      <td>43.937889</td>\n",
       "      <td>41.745694</td>\n",
       "      <td>42.634732</td>\n",
       "      <td>44.447267</td>\n",
       "    </tr>\n",
       "  </tbody>\n",
       "</table>\n",
       "</div>"
      ],
      "text/plain": [
       "             2018       2019       2020       2021       2022       2023\n",
       "min     23.995591  25.158925  24.870480  24.176172  24.258142  24.379101\n",
       "mean    34.824012  38.928309  37.669279  36.330798  36.911064  37.685120\n",
       "median  35.187662  39.012140  38.085915  36.533524  37.351894  38.078815\n",
       "std      2.459673   2.763451   2.488418   2.351231   2.341727   2.317008\n",
       "max     40.459971  45.279847  43.937889  41.745694  42.634732  44.447267"
      ]
     },
     "execution_count": 7,
     "metadata": {},
     "output_type": "execute_result"
    }
   ],
   "source": [
    "temp_data_years = ['temperature_2018', 'temperature_2019', 'temperature_2020', 'temperature_2021', 'temperature_2022', 'temperature_2023']\n",
    "\n",
    "temp_stats = temperature_gdf[temp_data_years].agg(['min', 'mean', 'median', 'std', 'max'])\n",
    "temp_stats.rename(columns={'temperature_2018':'2018',\n",
    "                           'temperature_2019':'2019',\n",
    "                           'temperature_2020':'2020',\n",
    "                           'temperature_2021':'2021',\n",
    "                           'temperature_2022':'2022',\n",
    "                           'temperature_2023':'2023'},inplace=True)\n",
    "temp_stats"
   ]
  },
  {
   "cell_type": "code",
   "execution_count": 8,
   "id": "ff4df91f-3d08-4070-bfd0-917571830850",
   "metadata": {},
   "outputs": [
    {
     "data": {
      "text/html": [
       "<div>\n",
       "<style scoped>\n",
       "    .dataframe tbody tr th:only-of-type {\n",
       "        vertical-align: middle;\n",
       "    }\n",
       "\n",
       "    .dataframe tbody tr th {\n",
       "        vertical-align: top;\n",
       "    }\n",
       "\n",
       "    .dataframe thead th {\n",
       "        text-align: right;\n",
       "    }\n",
       "</style>\n",
       "<table border=\"1\" class=\"dataframe\">\n",
       "  <thead>\n",
       "    <tr style=\"text-align: right;\">\n",
       "      <th></th>\n",
       "      <th>min</th>\n",
       "      <th>mean</th>\n",
       "      <th>median</th>\n",
       "      <th>max</th>\n",
       "    </tr>\n",
       "  </thead>\n",
       "  <tbody>\n",
       "    <tr>\n",
       "      <th>2018</th>\n",
       "      <td>23.995591</td>\n",
       "      <td>34.824012</td>\n",
       "      <td>35.187662</td>\n",
       "      <td>40.459971</td>\n",
       "    </tr>\n",
       "    <tr>\n",
       "      <th>2019</th>\n",
       "      <td>25.158925</td>\n",
       "      <td>38.928309</td>\n",
       "      <td>39.012140</td>\n",
       "      <td>45.279847</td>\n",
       "    </tr>\n",
       "    <tr>\n",
       "      <th>2020</th>\n",
       "      <td>24.870480</td>\n",
       "      <td>37.669279</td>\n",
       "      <td>38.085915</td>\n",
       "      <td>43.937889</td>\n",
       "    </tr>\n",
       "    <tr>\n",
       "      <th>2021</th>\n",
       "      <td>24.176172</td>\n",
       "      <td>36.330798</td>\n",
       "      <td>36.533524</td>\n",
       "      <td>41.745694</td>\n",
       "    </tr>\n",
       "    <tr>\n",
       "      <th>2022</th>\n",
       "      <td>24.258142</td>\n",
       "      <td>36.911064</td>\n",
       "      <td>37.351894</td>\n",
       "      <td>42.634732</td>\n",
       "    </tr>\n",
       "    <tr>\n",
       "      <th>2023</th>\n",
       "      <td>24.379101</td>\n",
       "      <td>37.685120</td>\n",
       "      <td>38.078815</td>\n",
       "      <td>44.447267</td>\n",
       "    </tr>\n",
       "  </tbody>\n",
       "</table>\n",
       "</div>"
      ],
      "text/plain": [
       "            min       mean     median        max\n",
       "2018  23.995591  34.824012  35.187662  40.459971\n",
       "2019  25.158925  38.928309  39.012140  45.279847\n",
       "2020  24.870480  37.669279  38.085915  43.937889\n",
       "2021  24.176172  36.330798  36.533524  41.745694\n",
       "2022  24.258142  36.911064  37.351894  42.634732\n",
       "2023  24.379101  37.685120  38.078815  44.447267"
      ]
     },
     "execution_count": 8,
     "metadata": {},
     "output_type": "execute_result"
    }
   ],
   "source": [
    "temp_stats_transposed = temp_stats.transpose()\n",
    "temp_stats_transposed.drop(columns=['std'],inplace=True)\n",
    "temp_stats_transposed"
   ]
  },
  {
   "cell_type": "code",
   "execution_count": 9,
   "id": "a4eab479-ba55-448d-aa3f-3bcffd38a827",
   "metadata": {},
   "outputs": [
    {
     "data": {
      "text/plain": [
       "<matplotlib.legend.Legend at 0x7be57e2f0710>"
      ]
     },
     "execution_count": 9,
     "metadata": {},
     "output_type": "execute_result"
    },
    {
     "data": {
      "image/png": "[encoded data removed]",
      "text/plain": [
       "<Figure size 750x500 with 1 Axes>"
      ]
     },
     "metadata": {},
     "output_type": "display_data"
    }
   ],
   "source": [
    "fig, ax = plt.subplots(figsize=(7.5,5))\n",
    "\n",
    "# ---------- PLOT ----------\n",
    "temp_stats_transposed.plot(style='-o', linewidth = 1.5,markersize=2.5,ax=ax)\n",
    "\n",
    "# ---------- FORMAT ----------\n",
    "# Format - Titles\n",
    "plt.title(f'Temperature behaviour in {city} 2018 - 2023')\n",
    "plt.xlabel('Year')\n",
    "plt.ylabel('Temperature (C°)')\n",
    "\n",
    "# Format - x ticks\n",
    "# Tag all 6 years\n",
    "plt.xticks(np.arange(0, 7))\n",
    "# Rotate ticks\n",
    "x = plt.gca().xaxis\n",
    "for item in x.get_ticklabels():\n",
    "    item.set_rotation(90)\n",
    "    item.set_size(7)\n",
    "\n",
    "# Format - y ticks\n",
    "y = plt.gca().yaxis\n",
    "for item in y.get_ticklabels():\n",
    "    item.set_size(7)\n",
    "\n",
    "# Format - Legend\n",
    "plt.legend(frameon=False,\n",
    "           loc=1, \n",
    "           fontsize = 7)"
   ]
  },
  {
   "cell_type": "markdown",
   "id": "076b794e-fa84-4e69-a77f-c744692e661d",
   "metadata": {},
   "source": [
    "### __Conclusion:__ Needs more data to establish posible tendency, but would be more interesting to see graph by month with overall tendency."
   ]
  },
  {
   "cell_type": "markdown",
   "id": "c5d16cde-c2a2-4e61-a1ed-317e0e9fa682",
   "metadata": {},
   "source": [
    "## __Analysis 2__ - Yearly data vs NDVI data"
   ]
  },
  {
   "cell_type": "code",
   "execution_count": 10,
   "id": "d26a3ee6-2c15-4cfb-92eb-aca032a40a8e",
   "metadata": {},
   "outputs": [
    {
     "data": {
      "text/html": [
       "<div>\n",
       "<style scoped>\n",
       "    .dataframe tbody tr th:only-of-type {\n",
       "        vertical-align: middle;\n",
       "    }\n",
       "\n",
       "    .dataframe tbody tr th {\n",
       "        vertical-align: top;\n",
       "    }\n",
       "\n",
       "    .dataframe thead th {\n",
       "        text-align: right;\n",
       "    }\n",
       "</style>\n",
       "<table border=\"1\" class=\"dataframe\">\n",
       "  <thead>\n",
       "    <tr style=\"text-align: right;\">\n",
       "      <th></th>\n",
       "      <th>2018</th>\n",
       "      <th>2019</th>\n",
       "      <th>2020</th>\n",
       "      <th>2021</th>\n",
       "      <th>2022</th>\n",
       "      <th>2023</th>\n",
       "    </tr>\n",
       "  </thead>\n",
       "  <tbody>\n",
       "    <tr>\n",
       "      <th>min</th>\n",
       "      <td>0.072505</td>\n",
       "      <td>0.071987</td>\n",
       "      <td>0.061923</td>\n",
       "      <td>0.059036</td>\n",
       "      <td>0.037442</td>\n",
       "      <td>0.038348</td>\n",
       "    </tr>\n",
       "    <tr>\n",
       "      <th>mean</th>\n",
       "      <td>0.341855</td>\n",
       "      <td>0.291170</td>\n",
       "      <td>0.319444</td>\n",
       "      <td>0.312137</td>\n",
       "      <td>0.209007</td>\n",
       "      <td>0.189164</td>\n",
       "    </tr>\n",
       "    <tr>\n",
       "      <th>median</th>\n",
       "      <td>0.353355</td>\n",
       "      <td>0.288632</td>\n",
       "      <td>0.328644</td>\n",
       "      <td>0.326255</td>\n",
       "      <td>0.218183</td>\n",
       "      <td>0.195943</td>\n",
       "    </tr>\n",
       "    <tr>\n",
       "      <th>std</th>\n",
       "      <td>0.123424</td>\n",
       "      <td>0.097828</td>\n",
       "      <td>0.112473</td>\n",
       "      <td>0.110608</td>\n",
       "      <td>0.073117</td>\n",
       "      <td>0.063418</td>\n",
       "    </tr>\n",
       "    <tr>\n",
       "      <th>max</th>\n",
       "      <td>0.684821</td>\n",
       "      <td>0.616974</td>\n",
       "      <td>0.657586</td>\n",
       "      <td>0.621267</td>\n",
       "      <td>0.432998</td>\n",
       "      <td>0.390246</td>\n",
       "    </tr>\n",
       "  </tbody>\n",
       "</table>\n",
       "</div>"
      ],
      "text/plain": [
       "            2018      2019      2020      2021      2022      2023\n",
       "min     0.072505  0.071987  0.061923  0.059036  0.037442  0.038348\n",
       "mean    0.341855  0.291170  0.319444  0.312137  0.209007  0.189164\n",
       "median  0.353355  0.288632  0.328644  0.326255  0.218183  0.195943\n",
       "std     0.123424  0.097828  0.112473  0.110608  0.073117  0.063418\n",
       "max     0.684821  0.616974  0.657586  0.621267  0.432998  0.390246"
      ]
     },
     "execution_count": 10,
     "metadata": {},
     "output_type": "execute_result"
    }
   ],
   "source": [
    "ndvi_data_years = ['ndvi_2018', 'ndvi_2019', 'ndvi_2020', 'ndvi_2021', 'ndvi_2022', 'ndvi_2023']\n",
    "ndvi_stats = ndvi_gdf[ndvi_data_years].agg(['min', 'mean', 'median', 'std', 'max'])\n",
    "ndvi_stats.rename(columns={'ndvi_2018':'2018',\n",
    "                           'ndvi_2019':'2019',\n",
    "                           'ndvi_2020':'2020',\n",
    "                           'ndvi_2021':'2021',\n",
    "                           'ndvi_2022':'2022',\n",
    "                           'ndvi_2023':'2023'},inplace=True)\n",
    "ndvi_stats"
   ]
  },
  {
   "cell_type": "code",
   "execution_count": 11,
   "id": "4eae39b6-c2b0-4245-8260-35c277bbdff6",
   "metadata": {},
   "outputs": [
    {
     "data": {
      "text/html": [
       "<div>\n",
       "<style scoped>\n",
       "    .dataframe tbody tr th:only-of-type {\n",
       "        vertical-align: middle;\n",
       "    }\n",
       "\n",
       "    .dataframe tbody tr th {\n",
       "        vertical-align: top;\n",
       "    }\n",
       "\n",
       "    .dataframe thead th {\n",
       "        text-align: right;\n",
       "    }\n",
       "</style>\n",
       "<table border=\"1\" class=\"dataframe\">\n",
       "  <thead>\n",
       "    <tr style=\"text-align: right;\">\n",
       "      <th></th>\n",
       "      <th>min</th>\n",
       "      <th>mean</th>\n",
       "      <th>median</th>\n",
       "      <th>max</th>\n",
       "    </tr>\n",
       "  </thead>\n",
       "  <tbody>\n",
       "    <tr>\n",
       "      <th>2018</th>\n",
       "      <td>0.072505</td>\n",
       "      <td>0.341855</td>\n",
       "      <td>0.353355</td>\n",
       "      <td>0.684821</td>\n",
       "    </tr>\n",
       "    <tr>\n",
       "      <th>2019</th>\n",
       "      <td>0.071987</td>\n",
       "      <td>0.291170</td>\n",
       "      <td>0.288632</td>\n",
       "      <td>0.616974</td>\n",
       "    </tr>\n",
       "    <tr>\n",
       "      <th>2020</th>\n",
       "      <td>0.061923</td>\n",
       "      <td>0.319444</td>\n",
       "      <td>0.328644</td>\n",
       "      <td>0.657586</td>\n",
       "    </tr>\n",
       "    <tr>\n",
       "      <th>2021</th>\n",
       "      <td>0.059036</td>\n",
       "      <td>0.312137</td>\n",
       "      <td>0.326255</td>\n",
       "      <td>0.621267</td>\n",
       "    </tr>\n",
       "    <tr>\n",
       "      <th>2022</th>\n",
       "      <td>0.037442</td>\n",
       "      <td>0.209007</td>\n",
       "      <td>0.218183</td>\n",
       "      <td>0.432998</td>\n",
       "    </tr>\n",
       "    <tr>\n",
       "      <th>2023</th>\n",
       "      <td>0.038348</td>\n",
       "      <td>0.189164</td>\n",
       "      <td>0.195943</td>\n",
       "      <td>0.390246</td>\n",
       "    </tr>\n",
       "  </tbody>\n",
       "</table>\n",
       "</div>"
      ],
      "text/plain": [
       "           min      mean    median       max\n",
       "2018  0.072505  0.341855  0.353355  0.684821\n",
       "2019  0.071987  0.291170  0.288632  0.616974\n",
       "2020  0.061923  0.319444  0.328644  0.657586\n",
       "2021  0.059036  0.312137  0.326255  0.621267\n",
       "2022  0.037442  0.209007  0.218183  0.432998\n",
       "2023  0.038348  0.189164  0.195943  0.390246"
      ]
     },
     "execution_count": 11,
     "metadata": {},
     "output_type": "execute_result"
    }
   ],
   "source": [
    "ndvi_stats_transposed = ndvi_stats.transpose()\n",
    "ndvi_stats_transposed.drop(columns=['std'],inplace=True)\n",
    "ndvi_stats_transposed"
   ]
  },
  {
   "cell_type": "code",
   "execution_count": 12,
   "id": "864c5261-2dd1-4967-9afe-77a0e5e55d24",
   "metadata": {},
   "outputs": [
    {
     "data": {
      "text/plain": [
       "<matplotlib.legend.Legend at 0x7be6ccd3a270>"
      ]
     },
     "execution_count": 12,
     "metadata": {},
     "output_type": "execute_result"
    },
    {
     "data": {
      "image/png": "[encoded data removed]",
      "text/plain": [
       "<Figure size 750x500 with 1 Axes>"
      ]
     },
     "metadata": {},
     "output_type": "display_data"
    }
   ],
   "source": [
    "fig, ax = plt.subplots(figsize=(7.5,5))\n",
    "\n",
    "# ---------- PLOT ----------\n",
    "ndvi_stats_transposed.plot(style='-o', linewidth = 1.5,markersize=2.5,ax=ax)\n",
    "\n",
    "# ---------- FORMAT ----------\n",
    "# Format - Titles\n",
    "plt.title(f'NDVI behaviour in {city} 2018 - 2023')\n",
    "plt.xlabel('Year')\n",
    "plt.ylabel('NDVI')\n",
    "\n",
    "# Format - x ticks\n",
    "# Tag all 6 years\n",
    "plt.xticks(np.arange(0, 7))\n",
    "# Rotate ticks\n",
    "x = plt.gca().xaxis\n",
    "for item in x.get_ticklabels():\n",
    "    item.set_rotation(90)\n",
    "    item.set_size(7)\n",
    "\n",
    "# Format - y ticks\n",
    "y = plt.gca().yaxis\n",
    "for item in y.get_ticklabels():\n",
    "    item.set_size(7)\n",
    "\n",
    "# Format - Legend\n",
    "plt.legend(frameon=False,\n",
    "           loc=1, \n",
    "           fontsize = 7)"
   ]
  },
  {
   "cell_type": "code",
   "execution_count": 13,
   "id": "99784948-a7ef-4935-8bf3-2b14657f8220",
   "metadata": {},
   "outputs": [
    {
     "name": "stdout",
     "output_type": "stream",
     "text": [
      "Mean temperature in Guadalajara: 37.06662650646621.\n",
      "Mean NDVI in Guadalajara: 0.27711274397000535.\n",
      "(1511, 5)\n"
     ]
    },
    {
     "data": {
      "text/html": [
       "<div>\n",
       "<style scoped>\n",
       "    .dataframe tbody tr th:only-of-type {\n",
       "        vertical-align: middle;\n",
       "    }\n",
       "\n",
       "    .dataframe tbody tr th {\n",
       "        vertical-align: top;\n",
       "    }\n",
       "\n",
       "    .dataframe thead th {\n",
       "        text-align: right;\n",
       "    }\n",
       "</style>\n",
       "<table border=\"1\" class=\"dataframe\">\n",
       "  <thead>\n",
       "    <tr style=\"text-align: right;\">\n",
       "      <th></th>\n",
       "      <th>hex_id</th>\n",
       "      <th>temperature_mean</th>\n",
       "      <th>ndvi_mean</th>\n",
       "      <th>temperature_diferential</th>\n",
       "      <th>ndvi_diferential</th>\n",
       "    </tr>\n",
       "  </thead>\n",
       "  <tbody>\n",
       "    <tr>\n",
       "      <th>0</th>\n",
       "      <td>88498c9421fffff</td>\n",
       "      <td>38.438111</td>\n",
       "      <td>0.116626</td>\n",
       "      <td>1.371485</td>\n",
       "      <td>-0.160487</td>\n",
       "    </tr>\n",
       "    <tr>\n",
       "      <th>1</th>\n",
       "      <td>8849aa2d65fffff</td>\n",
       "      <td>38.191586</td>\n",
       "      <td>0.243362</td>\n",
       "      <td>1.124960</td>\n",
       "      <td>-0.033751</td>\n",
       "    </tr>\n",
       "  </tbody>\n",
       "</table>\n",
       "</div>"
      ],
      "text/plain": [
       "            hex_id  temperature_mean  ndvi_mean  temperature_diferential  \\\n",
       "0  88498c9421fffff         38.438111   0.116626                 1.371485   \n",
       "1  8849aa2d65fffff         38.191586   0.243362                 1.124960   \n",
       "\n",
       "   ndvi_diferential  \n",
       "0         -0.160487  \n",
       "1         -0.033751  "
      ]
     },
     "execution_count": 13,
     "metadata": {},
     "output_type": "execute_result"
    }
   ],
   "source": [
    "# Merge temp and ndvi\n",
    "temperature_ndvi_gdf = pd.merge(temperature_gdf[['hex_id','temperature_mean']],ndvi_gdf[['hex_id','ndvi_mean']],on='hex_id')\n",
    "\n",
    "# Temperature - Calculate differential between mean in each hex and city mean\n",
    "mean_city_temperature = temperature_ndvi_gdf.temperature_mean.mean()\n",
    "print(f\"Mean temperature in {city}: {mean_city_temperature}.\")\n",
    "temperature_ndvi_gdf['temperature_diferential'] = temperature_ndvi_gdf['temperature_mean'] - mean_city_temperature\n",
    "\n",
    "# NDVI - Calculate differential between mean in each hex and city mean\n",
    "mean_city_ndvi = temperature_ndvi_gdf.ndvi_mean.mean()\n",
    "print(f\"Mean NDVI in {city}: {mean_city_ndvi}.\")\n",
    "temperature_ndvi_gdf['ndvi_diferential'] = temperature_ndvi_gdf['ndvi_mean'] - mean_city_ndvi\n",
    "\n",
    "# Show\n",
    "print(temperature_ndvi_gdf.shape)\n",
    "temperature_ndvi_gdf.head(2)"
   ]
  },
  {
   "cell_type": "code",
   "execution_count": 14,
   "id": "ff03ca11-1916-4e1f-a667-d7c2064c0315",
   "metadata": {},
   "outputs": [
    {
     "data": {
      "text/plain": [
       "Text(0, 0.5, \"NDVI diferential with city's mean\")"
      ]
     },
     "execution_count": 14,
     "metadata": {},
     "output_type": "execute_result"
    },
    {
     "data": {
      "image/png": "[encoded data removed]",
      "text/plain": [
       "<Figure size 640x480 with 1 Axes>"
      ]
     },
     "metadata": {},
     "output_type": "display_data"
    }
   ],
   "source": [
    "gdf = temperature_ndvi_gdf.copy()\n",
    "i = 'temperature_diferential'\n",
    "j = 'ndvi_diferential'\n",
    "\n",
    "fig,ax = plt.subplots()\n",
    "\n",
    "# Calculate corr\n",
    "corr, pval = stats.pearsonr(gdf[i],gdf[j])\n",
    "\n",
    "# Correlation categories\n",
    "abs_corr = abs(corr)\n",
    "if abs_corr > 0.80:\n",
    "    corr_cat = 'Very strong'\n",
    "    color='darkgreen'\n",
    "elif (abs_corr<0.80) and (abs_corr>0.60):\n",
    "    corr_cat = 'Strong'\n",
    "    color = 'yellowgreen'\n",
    "elif (abs_corr<0.60) and (abs_corr>0.40):\n",
    "    corr_cat = 'Moderate'\n",
    "    color = 'orange'\n",
    "else:\n",
    "    corr_cat = 'Weak/very weak'\n",
    "    color = 'red'\n",
    "\n",
    "# Plot scatter\n",
    "ax.scatter(gdf[i], gdf[j], s=5,zorder=0)\n",
    "\n",
    "# Linear regresion\n",
    "m, b = np.polyfit(gdf[i], gdf[j], 1)\n",
    "ax.plot(gdf[i], m*gdf[i] + b, color=\"red\", linestyle=\"--\", label=\"Trend line\",zorder=1)\n",
    "\n",
    "# Quadratic regresian\n",
    "coef = np.polyfit(gdf[i], gdf[j], 2) # a*x^2 + b*x + c coeficients\n",
    "p = np.poly1d(coef) #Helps create curve\n",
    "# X and Y values based on previous regresion\n",
    "x_fit = np.linspace(gdf[i].min(), gdf[i].max(), 100) # Rango de X\n",
    "y_fit = p(x_fit)\n",
    "# Plot\n",
    "ax.plot(x_fit, y_fit, color=\"black\", linestyle=\"--\", label=\"Quadratic trend\",zorder=2)\n",
    "\n",
    "# ---------- FORMAT ----------\n",
    "# Format - Main title\n",
    "plt.title(f\"\"\"\n",
    "Temperature and NDVI in {city}.\n",
    "{corr_cat} corr = {round(corr, 4)}\"\"\",fontsize=10,color=color)\n",
    "\n",
    "# Format - Axis titles\n",
    "plt.xlabel(\"Temperature diferential with city's mean (C°)\")\n",
    "plt.ylabel(\"NDVI diferential with city's mean\")"
   ]
  },
  {
   "cell_type": "markdown",
   "id": "d754bc21-28d0-4222-aec4-bf38c5c574a8",
   "metadata": {},
   "source": [
    "## __Analysis 3__ - Temperature vs built percentage"
   ]
  },
  {
   "cell_type": "code",
   "execution_count": null,
   "id": "b1b343e9-a7bb-497e-b55b-901f330e550e",
   "metadata": {},
   "outputs": [],
   "source": [
    "buildings_hex = temperature_gdf[['hex_id','geometry']].sjoin(buildings_gdf)\n",
    "\n",
    "buildings_hex"
   ]
  },
  {
   "cell_type": "code",
   "execution_count": null,
   "id": "e8dbcc94-0f51-4029-a346-62a028ca2e8f",
   "metadata": {},
   "outputs": [],
   "source": []
  }
 ],
 "metadata": {
  "kernelspec": {
   "display_name": "Python 3 (ipykernel)",
   "language": "python",
   "name": "python3"
  },
  "language_info": {
   "codemirror_mode": {
    "name": "ipython",
    "version": 3
   },
   "file_extension": ".py",
   "mimetype": "text/x-python",
   "name": "python",
   "nbconvert_exporter": "python",
   "pygments_lexer": "ipython3",
   "version": "3.12.3"
  }
 },
 "nbformat": 4,
 "nbformat_minor": 5
}
