{
 "cells": [
  {
   "cell_type": "markdown",
   "id": "c7bc18e4-bc12-46aa-ae4a-7998044cf2fe",
   "metadata": {},
   "source": [
    "# 00-variables_socioeconomic_level"
   ]
  },
  {
   "cell_type": "markdown",
   "id": "f6b35349-05f9-4a14-9bc5-2915a190ea3f",
   "metadata": {},
   "source": [
    "This notebook calculates the socioeconomic level (AMAI) for a given city in either hexres 8 or hexres 9."
   ]
  },
  {
   "cell_type": "markdown",
   "id": "a8bcce67-78c5-4c5d-965e-4f1e0d402b8d",
   "metadata": {},
   "source": [
    "## Import libraries"
   ]
  },
  {
   "cell_type": "code",
   "execution_count": 1,
   "id": "cba362d3-b891-47f4-a4ff-cb3c5ff77f42",
   "metadata": {},
   "outputs": [
    {
     "name": "stdout",
     "output_type": "stream",
     "text": [
      "/home/observatorio/Documents/repos/accesibilidad-urbana\n"
     ]
    }
   ],
   "source": [
    "from pathlib import Path\n",
    "\n",
    "current_path = Path().resolve()\n",
    "\n",
    "for parent in current_path.parents:\n",
    "    if parent.name == \"accesibilidad-urbana\":\n",
    "        project_root = parent\n",
    "        break\n",
    "\n",
    "print(project_root)"
   ]
  },
  {
   "cell_type": "code",
   "execution_count": 2,
   "id": "803377b0-ffb7-4a95-a78f-faa150cb13f2",
   "metadata": {},
   "outputs": [],
   "source": [
    "import os\n",
    "import sys\n",
    "\n",
    "import pandas as pd\n",
    "import geopandas as gpd\n",
    "import numpy as np\n",
    "\n",
    "import matplotlib.pyplot as plt\n",
    "from matplotlib import colors\n",
    "import seaborn as sns\n",
    "\n",
    "from sklearn.preprocessing import StandardScaler\n",
    "\n",
    "import warnings\n",
    "warnings.simplefilter(action='ignore', category=FutureWarning)\n",
    "\n",
    "module_path = os.path.abspath(os.path.join(project_root))\n",
    "if module_path not in sys.path:\n",
    "    sys.path.append(module_path)\n",
    "    import aup\n",
    "else:\n",
    "    import aup"
   ]
  },
  {
   "cell_type": "markdown",
   "id": "2eed2561-b262-4d32-8bd1-d769ad28fd1d",
   "metadata": {},
   "source": [
    "## Notebook config"
   ]
  },
  {
   "cell_type": "code",
   "execution_count": null,
   "id": "a4fdd2c5-fd9e-4700-a712-7b2b2506cc76",
   "metadata": {},
   "outputs": [],
   "source": [
    "city = 'Guadalajara'\n",
    "res = 9\n",
    "output_dir = str(project_root)+f\"/data/external/amai_gdl/amai_gdf_res{res}.gpkg\""
   ]
  },
  {
   "cell_type": "markdown",
   "id": "6af3ae6c-5bcd-40d9-b862-85d6330069d7",
   "metadata": {},
   "source": [
    "## Load data"
   ]
  },
  {
   "cell_type": "code",
   "execution_count": null,
   "id": "0f188781-2917-4eb8-98f3-374e32af1011",
   "metadata": {},
   "outputs": [],
   "source": [
    "censo_schema = 'sociodemografico'\n",
    "censo_table = 'censo_inegi_20_ageb_hex'\n",
    "\n",
    "query = f\"SELECT * FROM {censo_schema}.{censo_table} WHERE \\\"city\\\" = '{city}\\' AND \\\"res\\\" = '{res}\\'\"\n",
    "censo_gdf = aup.gdf_from_query(query, geometry_col='geometry')\n",
    "\n",
    "# Show\n",
    "print(censo_gdf.shape)\n",
    "censo_gdf.head(2)"
   ]
  },
  {
   "cell_type": "code",
   "execution_count": null,
   "id": "79f10a33-1bbe-4dea-8a5e-f65c92441f69",
   "metadata": {},
   "outputs": [],
   "source": [
    "def pca(df, columns):\n",
    "    \"\"\"Create Principal Component Analysis from DataFrame and return Eigenvalues and Eigenvectors\n",
    "\n",
    "    Args:\n",
    "        df {pandas.DataFrame} -- DataFrame containing numeric columns for PCA\n",
    "        columns {list} -- list with column names for PCA\n",
    "\n",
    "    Returns:\n",
    "        numpy.array, numpy.array -- array of Eigenvalues, array of Eigenvectors\n",
    "    \"\"\"\n",
    "\n",
    "    features = np.array(df[columns]).T\n",
    "    cov_matrix = np.cov(features)\n",
    "    values, vectors = np.linalg.eig(cov_matrix)\n",
    "\n",
    "    return values, vectors\n",
    "\n",
    "def amai_nse(df, group_column_name):\n",
    "    \"\"\"Calculate Socioeconomic Levels (NSE) according to AMAI\n",
    "\n",
    "    Args:\n",
    "        df {pandas.DataFrame} -- DataFrame containing sociodemographic data for analysis at AGEB level\n",
    "        df_nse {pandas.DataFrame} -- DataFrame with percentage of population by NSE and state\n",
    "        state_name {string}: state name\n",
    "\n",
    "    Returns:\n",
    "        pandas.DataFrame -- DataFrame containing NSE for the specified state\n",
    "    \"\"\"\n",
    "    #calculate indexes\n",
    "    df['Idx_PC'] = df['vph_pc'].values / df[['vph_pc','vph_refri','vph_lavad','vph_tv']].max(axis=1)\n",
    "    df['Idx_School'] = df['graproes'] / df['graproes'].max()\n",
    "    df['Idx_PosBas'] = df['p18ym_pb'] / df['p_18ymas']\n",
    "\n",
    "    #remove null in all columns\n",
    "    idx = (df.Idx_PC.isnull())&(df.Idx_School.isnull())&(df.Idx_PosBas.isnull())\n",
    "    df = df[~idx].copy()\n",
    "\n",
    "    #fill missing data\n",
    "    df['Idx_PC'].fillna((df[['Idx_PC','Idx_School','Idx_PosBas']].mean(axis=1)),inplace=True)\n",
    "    df['Idx_School'].fillna((df[['Idx_PC','Idx_School','Idx_PosBas']].mean(axis=1)),inplace=True)\n",
    "    df['Idx_PosBas'].fillna((df[['Idx_PC','Idx_School','Idx_PosBas']].mean(axis=1)),inplace=True)\n",
    "\n",
    "    #pca\n",
    "    values, vectors = pca(df, columns=['Idx_PC','Idx_School','Idx_PosBas'])\n",
    "\n",
    "    #calculate nse index\n",
    "    df['NSE_Idx'] = df.apply (\n",
    "        lambda row: (values[0]*vectors[0,0]*row.loc['Idx_PC']+\n",
    "                    values[0]*vectors[1,0]*row.loc['Idx_School']+\n",
    "                    values[0]*vectors[2,0]*row.loc['Idx_PosBas']), axis=1)\n",
    "\n",
    "    #standarize nse index values\n",
    "    df['NSE_Idx'] = StandardScaler().fit_transform(np.array(df['NSE_Idx']).reshape(-1, 1))\n",
    "\n",
    "    #sort by nse index\n",
    "    df.sort_values('NSE_Idx', inplace=True)\n",
    "\n",
    "    #calculate cumulative population and percentage\n",
    "    df = df.assign(sum=df.pobtot.cumsum())\n",
    "    df['pct_pob'] = df['sum'] / df['sum'].max()\n",
    "\n",
    "    #filter DataFrame\n",
    "    df = df[[group_column_name,'pobtot','Idx_PC','Idx_School',\n",
    "    'Idx_PosBas','NSE_Idx']].copy()\n",
    "\n",
    "    df.columns = df.columns.str.lower()\n",
    "\n",
    "    # df[[c for c in df if c not in ['geometry']] + ['geometry']]\n",
    "\n",
    "    return df"
   ]
  },
  {
   "cell_type": "code",
   "execution_count": null,
   "id": "10447c46-2945-4fbb-8fc4-ca9fe11f1520",
   "metadata": {},
   "outputs": [],
   "source": [
    "# Calculate nse_idx\n",
    "amai_df = amai_nse(censo_gdf, 'hex_id')\n",
    "# Merge dataframe with geometry\n",
    "amai_gdf = pd.merge(amai_df, censo_gdf[['hex_id','geometry']],on='hex_id')\n",
    "# Turn into geodataframe\n",
    "amai_gdf = gpd.GeoDataFrame(amai_gdf, geometry='geometry', crs='EPSG:4326')\n",
    "\n",
    "# Show\n",
    "print(amai_gdf.crs)\n",
    "print(amai_gdf.shape)\n",
    "amai_gdf.head(2)"
   ]
  },
  {
   "cell_type": "code",
   "execution_count": null,
   "id": "7c002a22-4fd1-4991-8e19-0586dd07de31",
   "metadata": {},
   "outputs": [],
   "source": [
    "# Save result\n",
    "amai_gdf.to_file(output_dir)"
   ]
  },
  {
   "cell_type": "code",
   "execution_count": null,
   "id": "598b3763-7b85-4a0f-b2d1-1481dd0481f8",
   "metadata": {},
   "outputs": [],
   "source": []
  }
 ],
 "metadata": {
  "kernelspec": {
   "display_name": "Python 3 (ipykernel)",
   "language": "python",
   "name": "python3"
  },
  "language_info": {
   "codemirror_mode": {
    "name": "ipython",
    "version": 3
   },
   "file_extension": ".py",
   "mimetype": "text/x-python",
   "name": "python",
   "nbconvert_exporter": "python",
   "pygments_lexer": "ipython3",
   "version": "3.12.3"
  }
 },
 "nbformat": 4,
 "nbformat_minor": 5
}
