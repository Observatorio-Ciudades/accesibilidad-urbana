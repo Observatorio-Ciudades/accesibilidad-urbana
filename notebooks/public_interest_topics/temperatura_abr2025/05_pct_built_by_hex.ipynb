{
 "cells": [
  {
   "cell_type": "markdown",
   "id": "cbedf69c-924c-42fc-aeda-54c7ae783ebc",
   "metadata": {},
   "source": [
    "# 05_pct_built_by_hex"
   ]
  },
  {
   "cell_type": "markdown",
   "id": "09f2712e-69cf-44ee-a203-72f31c343229",
   "metadata": {},
   "source": [
    "Easier methodology than pct_built_by_block, but has disadvantages. __Ultimately, notebooks 05a and 05b were developed.__\n",
    "* __Hexs on the urban area boundary__ may have plenty of __rural-non developed land__ that doesn't correspond to a urban core where buildings are located. Therefore, normally __the lowest pct_built by hex is found in the perimeter__ of the areas."
   ]
  },
  {
   "cell_type": "markdown",
   "id": "ec8650ad-bb5d-4f8f-b9da-6b299e0c0c33",
   "metadata": {},
   "source": [
    "## __Import libraries__"
   ]
  },
  {
   "cell_type": "code",
   "execution_count": 1,
   "id": "8daeaca1-9331-4fd7-871c-e95c3790ba53",
   "metadata": {},
   "outputs": [],
   "source": [
    "main_folder_path = '../../../'"
   ]
  },
  {
   "cell_type": "code",
   "execution_count": 2,
   "id": "39c60fe6-d85f-4262-8ae7-406638dde809",
   "metadata": {},
   "outputs": [],
   "source": [
    "import os\n",
    "import sys\n",
    "\n",
    "import pandas as pd\n",
    "import geopandas as gpd\n",
    "import numpy as np\n",
    "\n",
    "import matplotlib.pyplot as plt\n",
    "from matplotlib import colors\n",
    "import seaborn as sns\n",
    "\n",
    "# Transform google open buildings's geometry\n",
    "from shapely import wkt\n",
    "\n",
    "# Correlation calc\n",
    "import scipy.stats as stats\n",
    "\n",
    "import warnings\n",
    "warnings.simplefilter(action='ignore', category=FutureWarning)\n",
    "\n",
    "module_path = os.path.abspath(os.path.join(main_folder_path))\n",
    "if module_path not in sys.path:\n",
    "    sys.path.append(module_path)\n",
    "    import aup\n",
    "else:\n",
    "    import aup"
   ]
  },
  {
   "cell_type": "markdown",
   "id": "176e69e1-bd88-4dbc-830b-d2bec5c39cfd",
   "metadata": {},
   "source": [
    "## __Notebook config__"
   ]
  },
  {
   "cell_type": "code",
   "execution_count": 3,
   "id": "eda34667-e440-4788-8527-8c6d5272143e",
   "metadata": {},
   "outputs": [],
   "source": [
    "city = 'Merida'\n",
    "projected_crs = 'EPSG:32616' #Mérida\n",
    "res = 10\n",
    "# Directory where output files are saved\n",
    "save_output = True\n",
    "map_output_dir = str(main_folder_path) + f\"data/processed/temperature_2025_check/built_area/\""
   ]
  },
  {
   "cell_type": "markdown",
   "id": "b751def9-a93e-4c7b-b120-139f73585a79",
   "metadata": {},
   "source": [
    "## __Create area of interest__"
   ]
  },
  {
   "cell_type": "code",
   "execution_count": 4,
   "id": "a615a38d-8b57-4a29-ba70-63376826f918",
   "metadata": {},
   "outputs": [
    {
     "name": "stdout",
     "output_type": "stream",
     "text": [
      "EPSG:4326\n",
      "(25214, 6)\n"
     ]
    },
    {
     "data": {
      "text/html": [
       "<div>\n",
       "<style scoped>\n",
       "    .dataframe tbody tr th:only-of-type {\n",
       "        vertical-align: middle;\n",
       "    }\n",
       "\n",
       "    .dataframe tbody tr th {\n",
       "        vertical-align: top;\n",
       "    }\n",
       "\n",
       "    .dataframe thead th {\n",
       "        text-align: right;\n",
       "    }\n",
       "</style>\n",
       "<table border=\"1\" class=\"dataframe\">\n",
       "  <thead>\n",
       "    <tr style=\"text-align: right;\">\n",
       "      <th></th>\n",
       "      <th>hex_id_10</th>\n",
       "      <th>geometry</th>\n",
       "      <th>CVEGEO</th>\n",
       "      <th>NOMGEO</th>\n",
       "      <th>city</th>\n",
       "      <th>type</th>\n",
       "    </tr>\n",
       "  </thead>\n",
       "  <tbody>\n",
       "    <tr>\n",
       "      <th>0</th>\n",
       "      <td>8a4509872c07fff</td>\n",
       "      <td>POLYGON ((-89.46636 20.81582, -89.46572 20.816...</td>\n",
       "      <td>31002</td>\n",
       "      <td>Acanceh</td>\n",
       "      <td>Merida</td>\n",
       "      <td>urban</td>\n",
       "    </tr>\n",
       "    <tr>\n",
       "      <th>1</th>\n",
       "      <td>8a450980d827fff</td>\n",
       "      <td>POLYGON ((-89.45823 20.7999, -89.4576 20.80027...</td>\n",
       "      <td>31002</td>\n",
       "      <td>Acanceh</td>\n",
       "      <td>Merida</td>\n",
       "      <td>urban</td>\n",
       "    </tr>\n",
       "  </tbody>\n",
       "</table>\n",
       "</div>"
      ],
      "text/plain": [
       "         hex_id_10                                           geometry CVEGEO  \\\n",
       "0  8a4509872c07fff  POLYGON ((-89.46636 20.81582, -89.46572 20.816...  31002   \n",
       "1  8a450980d827fff  POLYGON ((-89.45823 20.7999, -89.4576 20.80027...  31002   \n",
       "\n",
       "    NOMGEO    city   type  \n",
       "0  Acanceh  Merida  urban  \n",
       "1  Acanceh  Merida  urban  "
      ]
     },
     "execution_count": 4,
     "metadata": {},
     "output_type": "execute_result"
    }
   ],
   "source": [
    "# Load city's hex\n",
    "hex_schema = 'hexgrid'\n",
    "hex_table = f'hexgrid_{res}_city_2020'\n",
    "hex_type = 'urban'\n",
    "\n",
    "hex_query = f\"SELECT * FROM {hex_schema}.{hex_table} WHERE \\\"city\\\" LIKE \\'{city}\\' AND \\\"type\\\" LIKE \\'{hex_type}\\'\"\n",
    "hex_gdf = aup.gdf_from_query(hex_query, geometry_col='geometry')\n",
    "\n",
    "# Show\n",
    "print(hex_gdf.crs)\n",
    "print(hex_gdf.shape)\n",
    "hex_gdf.head(2)"
   ]
  },
  {
   "cell_type": "markdown",
   "id": "c4a5688a-67d0-48cb-a2da-c45ad3c38af2",
   "metadata": {},
   "source": [
    "## __Load google buildings__"
   ]
  },
  {
   "cell_type": "code",
   "execution_count": 5,
   "id": "16566280-a051-4ba8-b456-68e0f751dc30",
   "metadata": {},
   "outputs": [
    {
     "name": "stdout",
     "output_type": "stream",
     "text": [
      "EPSG:4326\n",
      "(3244124, 6)\n"
     ]
    },
    {
     "data": {
      "text/html": [
       "<div>\n",
       "<style scoped>\n",
       "    .dataframe tbody tr th:only-of-type {\n",
       "        vertical-align: middle;\n",
       "    }\n",
       "\n",
       "    .dataframe tbody tr th {\n",
       "        vertical-align: top;\n",
       "    }\n",
       "\n",
       "    .dataframe thead th {\n",
       "        text-align: right;\n",
       "    }\n",
       "</style>\n",
       "<table border=\"1\" class=\"dataframe\">\n",
       "  <thead>\n",
       "    <tr style=\"text-align: right;\">\n",
       "      <th></th>\n",
       "      <th>latitude</th>\n",
       "      <th>longitude</th>\n",
       "      <th>area_in_meters</th>\n",
       "      <th>confidence</th>\n",
       "      <th>geometry</th>\n",
       "      <th>full_plus_code</th>\n",
       "    </tr>\n",
       "  </thead>\n",
       "  <tbody>\n",
       "    <tr>\n",
       "      <th>0</th>\n",
       "      <td>20.913590</td>\n",
       "      <td>-89.743828</td>\n",
       "      <td>71.6770</td>\n",
       "      <td>0.7033</td>\n",
       "      <td>POLYGON ((-89.74381 20.91354, -89.74378 20.913...</td>\n",
       "      <td>76GGW774+CFMG</td>\n",
       "    </tr>\n",
       "    <tr>\n",
       "      <th>1</th>\n",
       "      <td>21.150262</td>\n",
       "      <td>-88.165895</td>\n",
       "      <td>20.3107</td>\n",
       "      <td>0.6709</td>\n",
       "      <td>POLYGON ((-88.16587 21.15028, -88.1659 21.1502...</td>\n",
       "      <td>76HH5R2M+4J5F</td>\n",
       "    </tr>\n",
       "  </tbody>\n",
       "</table>\n",
       "</div>"
      ],
      "text/plain": [
       "    latitude  longitude  area_in_meters  confidence  \\\n",
       "0  20.913590 -89.743828         71.6770      0.7033   \n",
       "1  21.150262 -88.165895         20.3107      0.6709   \n",
       "\n",
       "                                            geometry full_plus_code  \n",
       "0  POLYGON ((-89.74381 20.91354, -89.74378 20.913...  76GGW774+CFMG  \n",
       "1  POLYGON ((-88.16587 21.15028, -88.1659 21.1502...  76HH5R2M+4J5F  "
      ]
     },
     "execution_count": 5,
     "metadata": {},
     "output_type": "execute_result"
    }
   ],
   "source": [
    "# Load csv\n",
    "buildings_df = pd.read_csv(main_folder_path+'data/external/google_open_buildings/8f5_buildings.csv')\n",
    "# Turn into GeoDataFrame\n",
    "buildings_df['geometry'] = buildings_df['geometry'].apply(wkt.loads)\n",
    "buildings_gdf = gpd.GeoDataFrame(buildings_df, geometry='geometry', crs='EPSG:4326')\n",
    "del buildings_df\n",
    "\n",
    "# Show\n",
    "print(buildings_gdf.crs)\n",
    "print(buildings_gdf.shape)\n",
    "buildings_gdf.head(2)"
   ]
  },
  {
   "cell_type": "markdown",
   "id": "5f2d12f8-196f-46b7-a1b3-fa2c53ce6953",
   "metadata": {},
   "source": [
    "## __Filter for google buildings within reach of blocks (located within area of interest)__"
   ]
  },
  {
   "cell_type": "code",
   "execution_count": 6,
   "id": "1c87bfa5-c07e-4962-b706-d0fad90eaa01",
   "metadata": {},
   "outputs": [
    {
     "name": "stdout",
     "output_type": "stream",
     "text": [
      "Changed hex_gdf crs to EPSG:32616.\n",
      "Changed buildings_gdf crs to EPSG:32616.\n",
      "EPSG:32616\n",
      "(25214, 9)\n"
     ]
    },
    {
     "data": {
      "text/html": [
       "<div>\n",
       "<style scoped>\n",
       "    .dataframe tbody tr th:only-of-type {\n",
       "        vertical-align: middle;\n",
       "    }\n",
       "\n",
       "    .dataframe tbody tr th {\n",
       "        vertical-align: top;\n",
       "    }\n",
       "\n",
       "    .dataframe thead th {\n",
       "        text-align: right;\n",
       "    }\n",
       "</style>\n",
       "<table border=\"1\" class=\"dataframe\">\n",
       "  <thead>\n",
       "    <tr style=\"text-align: right;\">\n",
       "      <th></th>\n",
       "      <th>hex_id_10</th>\n",
       "      <th>geometry</th>\n",
       "      <th>CVEGEO</th>\n",
       "      <th>NOMGEO</th>\n",
       "      <th>city</th>\n",
       "      <th>type</th>\n",
       "      <th>built_area</th>\n",
       "      <th>area</th>\n",
       "      <th>pct_built</th>\n",
       "    </tr>\n",
       "  </thead>\n",
       "  <tbody>\n",
       "    <tr>\n",
       "      <th>0</th>\n",
       "      <td>8a4509872c07fff</td>\n",
       "      <td>POLYGON ((243301.742 2303728.725, 243368.729 2...</td>\n",
       "      <td>31002</td>\n",
       "      <td>Acanceh</td>\n",
       "      <td>Merida</td>\n",
       "      <td>urban</td>\n",
       "      <td>18.83028</td>\n",
       "      <td>15671.952875</td>\n",
       "      <td>0.120153</td>\n",
       "    </tr>\n",
       "    <tr>\n",
       "      <th>1</th>\n",
       "      <td>8a450980d827fff</td>\n",
       "      <td>POLYGON ((244120.703 2301952.687, 244187.683 2...</td>\n",
       "      <td>31002</td>\n",
       "      <td>Acanceh</td>\n",
       "      <td>Merida</td>\n",
       "      <td>urban</td>\n",
       "      <td>0.00000</td>\n",
       "      <td>15668.722400</td>\n",
       "      <td>0.000000</td>\n",
       "    </tr>\n",
       "  </tbody>\n",
       "</table>\n",
       "</div>"
      ],
      "text/plain": [
       "         hex_id_10                                           geometry CVEGEO  \\\n",
       "0  8a4509872c07fff  POLYGON ((243301.742 2303728.725, 243368.729 2...  31002   \n",
       "1  8a450980d827fff  POLYGON ((244120.703 2301952.687, 244187.683 2...  31002   \n",
       "\n",
       "    NOMGEO    city   type  built_area          area  pct_built  \n",
       "0  Acanceh  Merida  urban    18.83028  15671.952875   0.120153  \n",
       "1  Acanceh  Merida  urban     0.00000  15668.722400   0.000000  "
      ]
     },
     "execution_count": 6,
     "metadata": {},
     "output_type": "execute_result"
    }
   ],
   "source": [
    "# Split buildings using the hexs\n",
    "if hex_gdf.crs != projected_crs:\n",
    "    hex_gdf.to_crs(projected_crs,inplace=True)\n",
    "    print(f\"Changed hex_gdf crs to {projected_crs}.\")    \n",
    "if buildings_gdf.crs != projected_crs:\n",
    "    buildings_gdf.to_crs(projected_crs,inplace=True)\n",
    "    print(f\"Changed buildings_gdf crs to {projected_crs}.\")\n",
    "\n",
    "# \"Cut\" buildings with hexs\n",
    "buildings_split = gpd.overlay(buildings_gdf, hex_gdf, how='intersection')\n",
    "\n",
    "# Dissolve geometries by hex\n",
    "buildings_diss = buildings_split.dissolve(f'hex_id_{res}')\n",
    "\n",
    "# Calculate cut-dissolved area of each building\n",
    "buildings_diss['built_area'] = buildings_diss.geometry.area\n",
    "\n",
    "# Sum built area by hex\n",
    "hex_building_areas = buildings_diss.groupby(f'hex_id_{res}')['built_area'].sum().reset_index()\n",
    "\n",
    "# Join with geom\n",
    "builtarea_gdf = hex_gdf.merge(hex_building_areas, on=f'hex_id_{res}', how='left')\n",
    "builtarea_gdf['built_area'] = builtarea_gdf['built_area'].fillna(0)\n",
    "\n",
    "# Calculate pct of hex covered by buildings\n",
    "builtarea_gdf['area'] = builtarea_gdf.geometry.area\n",
    "builtarea_gdf['pct_built'] = (abs(builtarea_gdf['built_area'])/abs(builtarea_gdf['area']))*100\n",
    "\n",
    "# Show\n",
    "print(builtarea_gdf.crs)\n",
    "print(builtarea_gdf.shape)\n",
    "builtarea_gdf.head(2)"
   ]
  },
  {
   "cell_type": "code",
   "execution_count": 7,
   "id": "65ed9dbf-4c22-4cb2-bc56-5fbd2d1e842f",
   "metadata": {},
   "outputs": [
    {
     "data": {
      "text/plain": [
       "Text(0.5, 1.0, 'Percentage of built area (Google Buildings) in Merida using hexs res 10.')"
      ]
     },
     "execution_count": 7,
     "metadata": {},
     "output_type": "execute_result"
    },
    {
     "data": {
      "image/png": "[encoded data removed]",
      "text/plain": [
       "<Figure size 1500x1000 with 1 Axes>"
      ]
     },
     "metadata": {},
     "output_type": "display_data"
    }
   ],
   "source": [
    "fig,ax=plt.subplots(figsize=(15,10))\n",
    "sns.boxplot(builtarea_gdf.pct_built,\n",
    "            color='lightcyan',\n",
    "            zorder=0,\n",
    "            ax=ax)\n",
    "ax.set_title(f'Percentage of built area (Google Buildings) in {city} using hexs res {res}.')"
   ]
  },
  {
   "cell_type": "code",
   "execution_count": 8,
   "id": "bf350401-4c5a-4c38-ac03-5744f4864d50",
   "metadata": {},
   "outputs": [],
   "source": [
    "if save_output:\n",
    "    builtarea_gdf.to_file(map_output_dir + f\"/{city}_builtarea_byhex_{res}.gpkg\")"
   ]
  },
  {
   "cell_type": "code",
   "execution_count": null,
   "id": "bb999814-0c19-423d-90d9-322b54ebc788",
   "metadata": {},
   "outputs": [],
   "source": []
  }
 ],
 "metadata": {
  "kernelspec": {
   "display_name": "Python 3 (ipykernel)",
   "language": "python",
   "name": "python3"
  },
  "language_info": {
   "codemirror_mode": {
    "name": "ipython",
    "version": 3
   },
   "file_extension": ".py",
   "mimetype": "text/x-python",
   "name": "python",
   "nbconvert_exporter": "python",
   "pygments_lexer": "ipython3",
   "version": "3.12.3"
  }
 },
 "nbformat": 4,
 "nbformat_minor": 5
}
