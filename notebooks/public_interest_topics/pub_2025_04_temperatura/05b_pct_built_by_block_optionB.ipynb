{
 "cells": [
  {
   "cell_type": "markdown",
   "id": "23b2bbac-80da-4339-8383-3784d6206d52",
   "metadata": {},
   "source": [
    "# 05b_pct_built_by_block option B\n",
    "### (Cuts blocks and buildings by hex and calculates pct_built directly)\n",
    "### [Does not create built_pct by block gdf]"
   ]
  },
  {
   "cell_type": "markdown",
   "id": "756551b5-dcc4-4967-923a-ffc739f29e0b",
   "metadata": {},
   "source": [
    "The objective is to find the areas of a city where blocks have a smaller and a greater built footprint in order to compare that data with the temperature data [Merida]\n",
    "\n",
    "* __Input:__ Hexs res 8 (Creates aoi), Google open buildings, blocks, hex specified res (Output)\n",
    "* __Output: Hhexs with mean pct built by block__"
   ]
  },
  {
   "cell_type": "markdown",
   "id": "a191293b-8821-41ef-86ff-672eaa7e4641",
   "metadata": {},
   "source": [
    "## __Import libraries__"
   ]
  },
  {
   "cell_type": "code",
   "execution_count": 1,
   "id": "ced1f9f7-86e4-4374-9482-30f8ba4e357b",
   "metadata": {},
   "outputs": [],
   "source": [
    "main_folder_path = '../../../'"
   ]
  },
  {
   "cell_type": "code",
   "execution_count": 2,
   "id": "554fc0ef-1f17-4125-8bea-93476d01dc3f",
   "metadata": {},
   "outputs": [],
   "source": [
    "import os\n",
    "import sys\n",
    "\n",
    "import pandas as pd\n",
    "import geopandas as gpd\n",
    "import numpy as np\n",
    "\n",
    "import matplotlib.pyplot as plt\n",
    "from matplotlib import colors\n",
    "import seaborn as sns\n",
    "\n",
    "# Transform google open buildings's geometry\n",
    "from shapely import wkt\n",
    "\n",
    "import warnings\n",
    "warnings.simplefilter(action='ignore', category=FutureWarning)\n",
    "\n",
    "module_path = os.path.abspath(os.path.join(main_folder_path))\n",
    "if module_path not in sys.path:\n",
    "    sys.path.append(module_path)\n",
    "    import aup\n",
    "else:\n",
    "    import aup"
   ]
  },
  {
   "cell_type": "markdown",
   "id": "7788a81f-238b-47aa-987d-973b6811c79a",
   "metadata": {},
   "source": [
    "## __Notebook config__"
   ]
  },
  {
   "cell_type": "code",
   "execution_count": 3,
   "id": "20b9eb6c-21cb-4692-be0a-458071817abb",
   "metadata": {},
   "outputs": [],
   "source": [
    "city = 'Merida'\n",
    "projected_crs = 'EPSG:32616' #Mérida\n",
    "output_res = 9\n",
    "# Directory where output files are saved\n",
    "save_output = False\n",
    "map_output_dir = str(main_folder_path) + f\"data/processed/temperature_2025_check/built_area/\""
   ]
  },
  {
   "cell_type": "markdown",
   "id": "e4511a50-03ad-419a-ae54-c5f7cda44188",
   "metadata": {},
   "source": [
    "## __Create area of interest__"
   ]
  },
  {
   "cell_type": "code",
   "execution_count": 4,
   "id": "55c7ef52-1986-443a-87e8-928f4c454f70",
   "metadata": {},
   "outputs": [
    {
     "name": "stdout",
     "output_type": "stream",
     "text": [
      "Changed hex_gdf crs to EPSG:32616.\n",
      "EPSG:32616\n",
      "(718, 6)\n"
     ]
    },
    {
     "data": {
      "text/html": [
       "<div>\n",
       "<style scoped>\n",
       "    .dataframe tbody tr th:only-of-type {\n",
       "        vertical-align: middle;\n",
       "    }\n",
       "\n",
       "    .dataframe tbody tr th {\n",
       "        vertical-align: top;\n",
       "    }\n",
       "\n",
       "    .dataframe thead th {\n",
       "        text-align: right;\n",
       "    }\n",
       "</style>\n",
       "<table border=\"1\" class=\"dataframe\">\n",
       "  <thead>\n",
       "    <tr style=\"text-align: right;\">\n",
       "      <th></th>\n",
       "      <th>hex_id_8</th>\n",
       "      <th>geometry</th>\n",
       "      <th>CVEGEO</th>\n",
       "      <th>NOMGEO</th>\n",
       "      <th>city</th>\n",
       "      <th>type</th>\n",
       "    </tr>\n",
       "  </thead>\n",
       "  <tbody>\n",
       "    <tr>\n",
       "      <th>0</th>\n",
       "      <td>8845098099fffff</td>\n",
       "      <td>POLYGON ((244697.664 2304088.133, 245166.509 2...</td>\n",
       "      <td>31002</td>\n",
       "      <td>Acanceh</td>\n",
       "      <td>Merida</td>\n",
       "      <td>urban</td>\n",
       "    </tr>\n",
       "    <tr>\n",
       "      <th>1</th>\n",
       "      <td>88450980d9fffff</td>\n",
       "      <td>POLYGON ((244178.748 2301597.213, 244647.595 2...</td>\n",
       "      <td>31002</td>\n",
       "      <td>Acanceh</td>\n",
       "      <td>Merida</td>\n",
       "      <td>urban</td>\n",
       "    </tr>\n",
       "  </tbody>\n",
       "</table>\n",
       "</div>"
      ],
      "text/plain": [
       "          hex_id_8                                           geometry CVEGEO  \\\n",
       "0  8845098099fffff  POLYGON ((244697.664 2304088.133, 245166.509 2...  31002   \n",
       "1  88450980d9fffff  POLYGON ((244178.748 2301597.213, 244647.595 2...  31002   \n",
       "\n",
       "    NOMGEO    city   type  \n",
       "0  Acanceh  Merida  urban  \n",
       "1  Acanceh  Merida  urban  "
      ]
     },
     "execution_count": 4,
     "metadata": {},
     "output_type": "execute_result"
    }
   ],
   "source": [
    "# Load city's hex res 8\n",
    "hex_schema = 'hexgrid'\n",
    "hex_table = 'hexgrid_8_city_2020'\n",
    "hex_type = 'urban'\n",
    "\n",
    "hex_query = f\"SELECT * FROM {hex_schema}.{hex_table} WHERE \\\"city\\\" LIKE \\'{city}\\' AND \\\"type\\\" LIKE \\'{hex_type}\\'\"\n",
    "hex_gdf = aup.gdf_from_query(hex_query, geometry_col='geometry')\n",
    "\n",
    "# Ensure projected_crs\n",
    "if hex_gdf.crs != projected_crs:\n",
    "    hex_gdf.to_crs(projected_crs,inplace=True)\n",
    "    print(f\"Changed hex_gdf crs to {projected_crs}.\")\n",
    "\n",
    "# Show\n",
    "print(hex_gdf.crs)\n",
    "print(hex_gdf.shape)\n",
    "hex_gdf.head(2)"
   ]
  },
  {
   "cell_type": "code",
   "execution_count": 5,
   "id": "29e97f60-70ee-420a-86a2-12fbc7285310",
   "metadata": {},
   "outputs": [
    {
     "name": "stdout",
     "output_type": "stream",
     "text": [
      "EPSG:32616\n",
      "(1, 6)\n"
     ]
    },
    {
     "data": {
      "text/plain": [
       "<Axes: >"
      ]
     },
     "execution_count": 5,
     "metadata": {},
     "output_type": "execute_result"
    },
    {
     "data": {
      "image/png": "[encoded data removed]",
      "text/plain": [
       "<Figure size 640x480 with 1 Axes>"
      ]
     },
     "metadata": {},
     "output_type": "display_data"
    }
   ],
   "source": [
    "aoi = hex_gdf.dissolve()\n",
    "\n",
    "# Show\n",
    "print(aoi.crs)\n",
    "print(aoi.shape)\n",
    "aoi.plot()"
   ]
  },
  {
   "cell_type": "markdown",
   "id": "df1bd0cc-d92d-4878-b0eb-02018058119d",
   "metadata": {},
   "source": [
    "## __Find all blocks within reach of area of interest__"
   ]
  },
  {
   "cell_type": "markdown",
   "id": "e9f424a3-342f-4052-9946-3267db6354c1",
   "metadata": {},
   "source": [
    "#### Load city's blocks"
   ]
  },
  {
   "cell_type": "code",
   "execution_count": 6,
   "id": "ecd672a8-f07a-4fe9-916d-11d7f38a68c4",
   "metadata": {},
   "outputs": [
    {
     "name": "stdout",
     "output_type": "stream",
     "text": [
      "Changed blocks_gdf crs to EPSG:32616.\n",
      "EPSG:32616\n",
      "(23145, 9)\n"
     ]
    },
    {
     "data": {
      "text/html": [
       "<div>\n",
       "<style scoped>\n",
       "    .dataframe tbody tr th:only-of-type {\n",
       "        vertical-align: middle;\n",
       "    }\n",
       "\n",
       "    .dataframe tbody tr th {\n",
       "        vertical-align: top;\n",
       "    }\n",
       "\n",
       "    .dataframe thead th {\n",
       "        text-align: right;\n",
       "    }\n",
       "</style>\n",
       "<table border=\"1\" class=\"dataframe\">\n",
       "  <thead>\n",
       "    <tr style=\"text-align: right;\">\n",
       "      <th></th>\n",
       "      <th>CVEGEO</th>\n",
       "      <th>CVE_ENT</th>\n",
       "      <th>CVE_MUN</th>\n",
       "      <th>CVE_LOC</th>\n",
       "      <th>CVE_AGEB</th>\n",
       "      <th>CVE_MZA</th>\n",
       "      <th>AMBITO</th>\n",
       "      <th>TIPOMZA</th>\n",
       "      <th>geometry</th>\n",
       "    </tr>\n",
       "  </thead>\n",
       "  <tbody>\n",
       "    <tr>\n",
       "      <th>0</th>\n",
       "      <td>3100200110053013</td>\n",
       "      <td>31</td>\n",
       "      <td>002</td>\n",
       "      <td>0011</td>\n",
       "      <td>0053</td>\n",
       "      <td>013</td>\n",
       "      <td>Rural</td>\n",
       "      <td>Típica</td>\n",
       "      <td>POLYGON ((246019.845 2311683.264, 246186.92 23...</td>\n",
       "    </tr>\n",
       "    <tr>\n",
       "      <th>1</th>\n",
       "      <td>3100200010087033</td>\n",
       "      <td>31</td>\n",
       "      <td>002</td>\n",
       "      <td>0001</td>\n",
       "      <td>0087</td>\n",
       "      <td>033</td>\n",
       "      <td>Urbana</td>\n",
       "      <td>Típica</td>\n",
       "      <td>POLYGON ((245896.657 2302982.457, 245775.311 2...</td>\n",
       "    </tr>\n",
       "  </tbody>\n",
       "</table>\n",
       "</div>"
      ],
      "text/plain": [
       "             CVEGEO CVE_ENT CVE_MUN CVE_LOC CVE_AGEB CVE_MZA  AMBITO TIPOMZA  \\\n",
       "0  3100200110053013      31     002    0011     0053     013   Rural  Típica   \n",
       "1  3100200010087033      31     002    0001     0087     033  Urbana  Típica   \n",
       "\n",
       "                                            geometry  \n",
       "0  POLYGON ((246019.845 2311683.264, 246186.92 23...  \n",
       "1  POLYGON ((245896.657 2302982.457, 245775.311 2...  "
      ]
     },
     "execution_count": 6,
     "metadata": {},
     "output_type": "execute_result"
    }
   ],
   "source": [
    "# Create a list from a list with all unique cvegeo_mun ('CVE_ENT'+'CVE_MUN') of current city\n",
    "cvegeo_mun_lst = list(hex_gdf.CVEGEO.unique())\n",
    "\n",
    "# Load city municipality's blocks\n",
    "blocks_schema = 'marco'\n",
    "blocks_table = 'mza_2020'\n",
    "\n",
    "blocks_gdf = gpd.GeoDataFrame()\n",
    "for cvegeo_mun in cvegeo_mun_lst:\n",
    "    \n",
    "    blocks_query = f\"SELECT * FROM {blocks_schema}.{blocks_table} WHERE \\\"CVEGEO\\\" LIKE \\'{cvegeo_mun}%\\'\"\n",
    "    mun_blocks_gdf = aup.gdf_from_query(blocks_query, geometry_col='geometry')\n",
    "    blocks_gdf = pd.concat([blocks_gdf,mun_blocks_gdf])\n",
    "\n",
    "# Ensure projected_crs\n",
    "if blocks_gdf.crs != projected_crs:\n",
    "    blocks_gdf.to_crs(projected_crs,inplace=True)\n",
    "    print(f\"Changed blocks_gdf crs to {projected_crs}.\")\n",
    "    \n",
    "# Show\n",
    "print(blocks_gdf.crs)\n",
    "print(blocks_gdf.shape)\n",
    "blocks_gdf.head(2)"
   ]
  },
  {
   "cell_type": "markdown",
   "id": "261088fc-95d2-45b4-b622-412844260a54",
   "metadata": {},
   "source": [
    "#### Blocks that touch area of interest"
   ]
  },
  {
   "cell_type": "code",
   "execution_count": 7,
   "id": "0b123114-9ccb-47ab-b743-04b7f2742e9d",
   "metadata": {},
   "outputs": [
    {
     "name": "stdout",
     "output_type": "stream",
     "text": [
      "EPSG:32616\n",
      "(21277, 9)\n"
     ]
    },
    {
     "data": {
      "text/html": [
       "<div>\n",
       "<style scoped>\n",
       "    .dataframe tbody tr th:only-of-type {\n",
       "        vertical-align: middle;\n",
       "    }\n",
       "\n",
       "    .dataframe tbody tr th {\n",
       "        vertical-align: top;\n",
       "    }\n",
       "\n",
       "    .dataframe thead th {\n",
       "        text-align: right;\n",
       "    }\n",
       "</style>\n",
       "<table border=\"1\" class=\"dataframe\">\n",
       "  <thead>\n",
       "    <tr style=\"text-align: right;\">\n",
       "      <th></th>\n",
       "      <th>CVEGEO</th>\n",
       "      <th>CVE_ENT</th>\n",
       "      <th>CVE_MUN</th>\n",
       "      <th>CVE_LOC</th>\n",
       "      <th>CVE_AGEB</th>\n",
       "      <th>CVE_MZA</th>\n",
       "      <th>AMBITO</th>\n",
       "      <th>TIPOMZA</th>\n",
       "      <th>geometry</th>\n",
       "    </tr>\n",
       "  </thead>\n",
       "  <tbody>\n",
       "    <tr>\n",
       "      <th>1</th>\n",
       "      <td>3100200010087033</td>\n",
       "      <td>31</td>\n",
       "      <td>002</td>\n",
       "      <td>0001</td>\n",
       "      <td>0087</td>\n",
       "      <td>033</td>\n",
       "      <td>Urbana</td>\n",
       "      <td>Típica</td>\n",
       "      <td>POLYGON ((245896.657 2302982.457, 245775.311 2...</td>\n",
       "    </tr>\n",
       "    <tr>\n",
       "      <th>2</th>\n",
       "      <td>3100200010091010</td>\n",
       "      <td>31</td>\n",
       "      <td>002</td>\n",
       "      <td>0001</td>\n",
       "      <td>0091</td>\n",
       "      <td>010</td>\n",
       "      <td>Urbana</td>\n",
       "      <td>Típica</td>\n",
       "      <td>POLYGON ((245377.191 2302852.46, 245367.472 23...</td>\n",
       "    </tr>\n",
       "  </tbody>\n",
       "</table>\n",
       "</div>"
      ],
      "text/plain": [
       "             CVEGEO CVE_ENT CVE_MUN CVE_LOC CVE_AGEB CVE_MZA  AMBITO TIPOMZA  \\\n",
       "1  3100200010087033      31     002    0001     0087     033  Urbana  Típica   \n",
       "2  3100200010091010      31     002    0001     0091     010  Urbana  Típica   \n",
       "\n",
       "                                            geometry  \n",
       "1  POLYGON ((245896.657 2302982.457, 245775.311 2...  \n",
       "2  POLYGON ((245377.191 2302852.46, 245367.472 23...  "
      ]
     },
     "execution_count": 7,
     "metadata": {},
     "output_type": "execute_result"
    }
   ],
   "source": [
    "# Keep blocks that touch the area of interest\n",
    "aoi_union = aoi.union_all()  # Create shapely object\n",
    "blocks_aoi_gdf = blocks_gdf[blocks_gdf.intersects(aoi_union)].copy()\n",
    "\n",
    "# Show\n",
    "print(blocks_aoi_gdf.crs)\n",
    "print(blocks_aoi_gdf.shape)\n",
    "blocks_aoi_gdf.head(2)"
   ]
  },
  {
   "cell_type": "markdown",
   "id": "3cc5dec7-fd63-462a-acdf-d57f5f6dcfd2",
   "metadata": {},
   "source": [
    "#### Show"
   ]
  },
  {
   "cell_type": "code",
   "execution_count": 8,
   "id": "1d70e91b-1980-4dd4-abf2-f9147a1936fb",
   "metadata": {},
   "outputs": [
    {
     "data": {
      "text/plain": [
       "<Axes: >"
      ]
     },
     "execution_count": 8,
     "metadata": {},
     "output_type": "execute_result"
    },
    {
     "data": {
      "image/png": "[encoded data removed]",
      "text/plain": [
       "<Figure size 640x480 with 1 Axes>"
      ]
     },
     "metadata": {},
     "output_type": "display_data"
    }
   ],
   "source": [
    "blocks_aoi_gdf.plot()"
   ]
  },
  {
   "cell_type": "markdown",
   "id": "cdf40b5a-3e66-4e9d-aef9-8f91dd976329",
   "metadata": {},
   "source": [
    "## __Load google buildings__"
   ]
  },
  {
   "cell_type": "code",
   "execution_count": 9,
   "id": "8af94fcd-d19a-4b34-bf05-88c1018ad0bb",
   "metadata": {},
   "outputs": [
    {
     "name": "stdout",
     "output_type": "stream",
     "text": [
      "Changed buildings_gdf crs to EPSG:32616.\n",
      "EPSG:32616\n",
      "(3244124, 6)\n"
     ]
    },
    {
     "data": {
      "text/html": [
       "<div>\n",
       "<style scoped>\n",
       "    .dataframe tbody tr th:only-of-type {\n",
       "        vertical-align: middle;\n",
       "    }\n",
       "\n",
       "    .dataframe tbody tr th {\n",
       "        vertical-align: top;\n",
       "    }\n",
       "\n",
       "    .dataframe thead th {\n",
       "        text-align: right;\n",
       "    }\n",
       "</style>\n",
       "<table border=\"1\" class=\"dataframe\">\n",
       "  <thead>\n",
       "    <tr style=\"text-align: right;\">\n",
       "      <th></th>\n",
       "      <th>latitude</th>\n",
       "      <th>longitude</th>\n",
       "      <th>area_in_meters</th>\n",
       "      <th>confidence</th>\n",
       "      <th>geometry</th>\n",
       "      <th>full_plus_code</th>\n",
       "    </tr>\n",
       "  </thead>\n",
       "  <tbody>\n",
       "    <tr>\n",
       "      <th>0</th>\n",
       "      <td>20.913590</td>\n",
       "      <td>-89.743828</td>\n",
       "      <td>71.6770</td>\n",
       "      <td>0.7033</td>\n",
       "      <td>POLYGON ((214593.622 2315019.451, 214596.802 2...</td>\n",
       "      <td>76GGW774+CFMG</td>\n",
       "    </tr>\n",
       "    <tr>\n",
       "      <th>1</th>\n",
       "      <td>21.150262</td>\n",
       "      <td>-88.165895</td>\n",
       "      <td>20.3107</td>\n",
       "      <td>0.6709</td>\n",
       "      <td>POLYGON ((378948.259 2339223.587, 378944.58 23...</td>\n",
       "      <td>76HH5R2M+4J5F</td>\n",
       "    </tr>\n",
       "  </tbody>\n",
       "</table>\n",
       "</div>"
      ],
      "text/plain": [
       "    latitude  longitude  area_in_meters  confidence  \\\n",
       "0  20.913590 -89.743828         71.6770      0.7033   \n",
       "1  21.150262 -88.165895         20.3107      0.6709   \n",
       "\n",
       "                                            geometry full_plus_code  \n",
       "0  POLYGON ((214593.622 2315019.451, 214596.802 2...  76GGW774+CFMG  \n",
       "1  POLYGON ((378948.259 2339223.587, 378944.58 23...  76HH5R2M+4J5F  "
      ]
     },
     "execution_count": 9,
     "metadata": {},
     "output_type": "execute_result"
    }
   ],
   "source": [
    "# Load csv\n",
    "buildings_df = pd.read_csv(main_folder_path+'data/external/google_open_buildings/8f5_buildings.csv')\n",
    "# Turn into GeoDataFrame\n",
    "buildings_df['geometry'] = buildings_df['geometry'].apply(wkt.loads)\n",
    "buildings_gdf = gpd.GeoDataFrame(buildings_df, geometry='geometry', crs='EPSG:4326')\n",
    "del buildings_df\n",
    "\n",
    "if buildings_gdf.crs != projected_crs:\n",
    "    buildings_gdf.to_crs(projected_crs,inplace=True)\n",
    "    print(f\"Changed buildings_gdf crs to {projected_crs}.\")\n",
    "\n",
    "# Show\n",
    "print(buildings_gdf.crs)\n",
    "print(buildings_gdf.shape)\n",
    "buildings_gdf.head(2)"
   ]
  },
  {
   "cell_type": "markdown",
   "id": "dfd28838-dd1b-47b7-85e5-046c5cc9f5fa",
   "metadata": {},
   "source": [
    "## __Filter for google buildings within reach of blocks__"
   ]
  },
  {
   "cell_type": "markdown",
   "id": "38ea9e87-770a-4540-977c-098d305385b7",
   "metadata": {},
   "source": [
    "### Filter"
   ]
  },
  {
   "cell_type": "code",
   "execution_count": 10,
   "id": "eb7a8e2a-e1cb-49d9-9bb4-79d318f0bed9",
   "metadata": {},
   "outputs": [
    {
     "name": "stdout",
     "output_type": "stream",
     "text": [
      "EPSG:32616\n",
      "(987761, 14)\n"
     ]
    },
    {
     "data": {
      "text/html": [
       "<div>\n",
       "<style scoped>\n",
       "    .dataframe tbody tr th:only-of-type {\n",
       "        vertical-align: middle;\n",
       "    }\n",
       "\n",
       "    .dataframe tbody tr th {\n",
       "        vertical-align: top;\n",
       "    }\n",
       "\n",
       "    .dataframe thead th {\n",
       "        text-align: right;\n",
       "    }\n",
       "</style>\n",
       "<table border=\"1\" class=\"dataframe\">\n",
       "  <thead>\n",
       "    <tr style=\"text-align: right;\">\n",
       "      <th></th>\n",
       "      <th>latitude</th>\n",
       "      <th>longitude</th>\n",
       "      <th>area_in_meters</th>\n",
       "      <th>confidence</th>\n",
       "      <th>geometry</th>\n",
       "      <th>full_plus_code</th>\n",
       "      <th>CVEGEO</th>\n",
       "      <th>CVE_ENT</th>\n",
       "      <th>CVE_MUN</th>\n",
       "      <th>CVE_LOC</th>\n",
       "      <th>CVE_AGEB</th>\n",
       "      <th>CVE_MZA</th>\n",
       "      <th>AMBITO</th>\n",
       "      <th>TIPOMZA</th>\n",
       "    </tr>\n",
       "  </thead>\n",
       "  <tbody>\n",
       "    <tr>\n",
       "      <th>7</th>\n",
       "      <td>21.023225</td>\n",
       "      <td>-89.879738</td>\n",
       "      <td>19.8499</td>\n",
       "      <td>0.8195</td>\n",
       "      <td>POLYGON ((200667.091 2327419.743, 200662.733 2...</td>\n",
       "      <td>76HG24FC+74JV</td>\n",
       "      <td>310380001008A022</td>\n",
       "      <td>31</td>\n",
       "      <td>038</td>\n",
       "      <td>0001</td>\n",
       "      <td>008A</td>\n",
       "      <td>022</td>\n",
       "      <td>Urbana</td>\n",
       "      <td>Típica</td>\n",
       "    </tr>\n",
       "    <tr>\n",
       "      <th>10</th>\n",
       "      <td>20.916671</td>\n",
       "      <td>-89.624195</td>\n",
       "      <td>13.1274</td>\n",
       "      <td>0.6835</td>\n",
       "      <td>POLYGON ((227049.324 2315155.737, 227049.241 2...</td>\n",
       "      <td>76GGW98G+M87X</td>\n",
       "      <td>3105000015121016</td>\n",
       "      <td>31</td>\n",
       "      <td>050</td>\n",
       "      <td>0001</td>\n",
       "      <td>5121</td>\n",
       "      <td>016</td>\n",
       "      <td>Urbana</td>\n",
       "      <td>Típica</td>\n",
       "    </tr>\n",
       "  </tbody>\n",
       "</table>\n",
       "</div>"
      ],
      "text/plain": [
       "     latitude  longitude  area_in_meters  confidence  \\\n",
       "7   21.023225 -89.879738         19.8499      0.8195   \n",
       "10  20.916671 -89.624195         13.1274      0.6835   \n",
       "\n",
       "                                             geometry full_plus_code  \\\n",
       "7   POLYGON ((200667.091 2327419.743, 200662.733 2...  76HG24FC+74JV   \n",
       "10  POLYGON ((227049.324 2315155.737, 227049.241 2...  76GGW98G+M87X   \n",
       "\n",
       "              CVEGEO CVE_ENT CVE_MUN CVE_LOC CVE_AGEB CVE_MZA  AMBITO TIPOMZA  \n",
       "7   310380001008A022      31     038    0001     008A     022  Urbana  Típica  \n",
       "10  3105000015121016      31     050    0001     5121     016  Urbana  Típica  "
      ]
     },
     "execution_count": 10,
     "metadata": {},
     "output_type": "execute_result"
    }
   ],
   "source": [
    "# Spatial join between buildings and blocks\n",
    "buildings_aoi_gdf = gpd.sjoin(buildings_gdf, blocks_aoi_gdf, how='inner', predicate='intersects')\n",
    "# Drop extra cols\n",
    "buildings_aoi_gdf = buildings_aoi_gdf.drop(columns=['index_right'])\n",
    "\n",
    "# Show\n",
    "print(buildings_aoi_gdf.crs)\n",
    "print(buildings_aoi_gdf.shape)\n",
    "buildings_aoi_gdf.head(2)"
   ]
  },
  {
   "cell_type": "markdown",
   "id": "9ab84419-ecd0-4756-b333-cc85a4260cf2",
   "metadata": {},
   "source": [
    "### Remove duplicated blocks (Which happens whenever a building touches two or more blocks)"
   ]
  },
  {
   "cell_type": "markdown",
   "id": "22e2fb96-d06f-4e1a-9850-f418b7f98771",
   "metadata": {
    "jp-MarkdownHeadingCollapsed": true
   },
   "source": [
    "#### __SHOW__ - Buildings that touch two or more blocks test"
   ]
  },
  {
   "cell_type": "code",
   "execution_count": 11,
   "id": "e3c4f0eb-ab78-4c13-a532-29d1534ad738",
   "metadata": {},
   "outputs": [
    {
     "data": {
      "text/html": [
       "<div>\n",
       "<style scoped>\n",
       "    .dataframe tbody tr th:only-of-type {\n",
       "        vertical-align: middle;\n",
       "    }\n",
       "\n",
       "    .dataframe tbody tr th {\n",
       "        vertical-align: top;\n",
       "    }\n",
       "\n",
       "    .dataframe thead th {\n",
       "        text-align: right;\n",
       "    }\n",
       "</style>\n",
       "<table border=\"1\" class=\"dataframe\">\n",
       "  <thead>\n",
       "    <tr style=\"text-align: right;\">\n",
       "      <th></th>\n",
       "      <th>latitude</th>\n",
       "      <th>longitude</th>\n",
       "      <th>area_in_meters</th>\n",
       "      <th>confidence</th>\n",
       "      <th>geometry</th>\n",
       "      <th>full_plus_code</th>\n",
       "      <th>CVEGEO</th>\n",
       "      <th>CVE_ENT</th>\n",
       "      <th>CVE_MUN</th>\n",
       "      <th>CVE_LOC</th>\n",
       "      <th>CVE_AGEB</th>\n",
       "      <th>CVE_MZA</th>\n",
       "      <th>AMBITO</th>\n",
       "      <th>TIPOMZA</th>\n",
       "    </tr>\n",
       "  </thead>\n",
       "  <tbody>\n",
       "    <tr>\n",
       "      <th>175</th>\n",
       "      <td>21.000608</td>\n",
       "      <td>-89.648010</td>\n",
       "      <td>228.2214</td>\n",
       "      <td>0.7898</td>\n",
       "      <td>POLYGON ((224733.648 2324497.688, 224719.13 23...</td>\n",
       "      <td>76HG2922+6QX8</td>\n",
       "      <td>3105000011913044</td>\n",
       "      <td>31</td>\n",
       "      <td>050</td>\n",
       "      <td>0001</td>\n",
       "      <td>1913</td>\n",
       "      <td>044</td>\n",
       "      <td>Urbana</td>\n",
       "      <td>Típica</td>\n",
       "    </tr>\n",
       "    <tr>\n",
       "      <th>2295</th>\n",
       "      <td>20.987470</td>\n",
       "      <td>-89.704474</td>\n",
       "      <td>58.6492</td>\n",
       "      <td>0.8392</td>\n",
       "      <td>POLYGON ((218831.001 2323138.15, 218825.264 23...</td>\n",
       "      <td>76GGX7PW+X6JX</td>\n",
       "      <td>310500001683A043</td>\n",
       "      <td>31</td>\n",
       "      <td>050</td>\n",
       "      <td>0001</td>\n",
       "      <td>683A</td>\n",
       "      <td>043</td>\n",
       "      <td>Urbana</td>\n",
       "      <td>Típica</td>\n",
       "    </tr>\n",
       "    <tr>\n",
       "      <th>6075</th>\n",
       "      <td>20.880707</td>\n",
       "      <td>-89.757533</td>\n",
       "      <td>36.7019</td>\n",
       "      <td>0.8416</td>\n",
       "      <td>POLYGON ((213106.788 2311406.593, 213103.554 2...</td>\n",
       "      <td>76GGV6JR+7XP9</td>\n",
       "      <td>3110100010189033</td>\n",
       "      <td>31</td>\n",
       "      <td>101</td>\n",
       "      <td>0001</td>\n",
       "      <td>0189</td>\n",
       "      <td>033</td>\n",
       "      <td>Urbana</td>\n",
       "      <td>Típica</td>\n",
       "    </tr>\n",
       "    <tr>\n",
       "      <th>8026</th>\n",
       "      <td>21.062817</td>\n",
       "      <td>-89.663447</td>\n",
       "      <td>288.1735</td>\n",
       "      <td>0.7881</td>\n",
       "      <td>POLYGON ((223241.834 2331403.793, 223239.641 2...</td>\n",
       "      <td>76HG387P+4JFP</td>\n",
       "      <td>3105000016914017</td>\n",
       "      <td>31</td>\n",
       "      <td>050</td>\n",
       "      <td>0001</td>\n",
       "      <td>6914</td>\n",
       "      <td>017</td>\n",
       "      <td>Urbana</td>\n",
       "      <td>Típica</td>\n",
       "    </tr>\n",
       "    <tr>\n",
       "      <th>11554</th>\n",
       "      <td>21.027194</td>\n",
       "      <td>-89.683598</td>\n",
       "      <td>107.3897</td>\n",
       "      <td>0.7670</td>\n",
       "      <td>POLYGON ((221078.141 2327504.353, 221070.496 2...</td>\n",
       "      <td>76HG28G8+VHCQ</td>\n",
       "      <td>3105000016793024</td>\n",
       "      <td>31</td>\n",
       "      <td>050</td>\n",
       "      <td>0001</td>\n",
       "      <td>6793</td>\n",
       "      <td>024</td>\n",
       "      <td>Urbana</td>\n",
       "      <td>Típica</td>\n",
       "    </tr>\n",
       "    <tr>\n",
       "      <th>...</th>\n",
       "      <td>...</td>\n",
       "      <td>...</td>\n",
       "      <td>...</td>\n",
       "      <td>...</td>\n",
       "      <td>...</td>\n",
       "      <td>...</td>\n",
       "      <td>...</td>\n",
       "      <td>...</td>\n",
       "      <td>...</td>\n",
       "      <td>...</td>\n",
       "      <td>...</td>\n",
       "      <td>...</td>\n",
       "      <td>...</td>\n",
       "      <td>...</td>\n",
       "    </tr>\n",
       "    <tr>\n",
       "      <th>3229510</th>\n",
       "      <td>21.028567</td>\n",
       "      <td>-89.688209</td>\n",
       "      <td>33.1412</td>\n",
       "      <td>0.6929</td>\n",
       "      <td>POLYGON ((220598.607 2327662.946, 220596.182 2...</td>\n",
       "      <td>76HG28H6+CPFM</td>\n",
       "      <td>3105000016793026</td>\n",
       "      <td>31</td>\n",
       "      <td>050</td>\n",
       "      <td>0001</td>\n",
       "      <td>6793</td>\n",
       "      <td>026</td>\n",
       "      <td>Urbana</td>\n",
       "      <td>Típica</td>\n",
       "    </tr>\n",
       "    <tr>\n",
       "      <th>3236179</th>\n",
       "      <td>21.059086</td>\n",
       "      <td>-89.610367</td>\n",
       "      <td>6.2986</td>\n",
       "      <td>0.7245</td>\n",
       "      <td>POLYGON ((228745.979 2330907.264, 228745.633 2...</td>\n",
       "      <td>76HG395Q+JVJF</td>\n",
       "      <td>3105000014960022</td>\n",
       "      <td>31</td>\n",
       "      <td>050</td>\n",
       "      <td>0001</td>\n",
       "      <td>4960</td>\n",
       "      <td>022</td>\n",
       "      <td>Urbana</td>\n",
       "      <td>Típica</td>\n",
       "    </tr>\n",
       "    <tr>\n",
       "      <th>3236271</th>\n",
       "      <td>21.045187</td>\n",
       "      <td>-89.662387</td>\n",
       "      <td>46.1652</td>\n",
       "      <td>0.8245</td>\n",
       "      <td>POLYGON ((223314.821 2329456.766, 223312.263 2...</td>\n",
       "      <td>76HG28WQ+32HG</td>\n",
       "      <td>3105000016098001</td>\n",
       "      <td>31</td>\n",
       "      <td>050</td>\n",
       "      <td>0001</td>\n",
       "      <td>6098</td>\n",
       "      <td>001</td>\n",
       "      <td>Urbana</td>\n",
       "      <td>Típica</td>\n",
       "    </tr>\n",
       "    <tr>\n",
       "      <th>3237889</th>\n",
       "      <td>20.981693</td>\n",
       "      <td>-89.706403</td>\n",
       "      <td>44.2843</td>\n",
       "      <td>0.7968</td>\n",
       "      <td>POLYGON ((218618.854 2322501.903, 218615.198 2...</td>\n",
       "      <td>76GGX7JV+MCHJ</td>\n",
       "      <td>3105000014462007</td>\n",
       "      <td>31</td>\n",
       "      <td>050</td>\n",
       "      <td>0001</td>\n",
       "      <td>4462</td>\n",
       "      <td>007</td>\n",
       "      <td>Urbana</td>\n",
       "      <td>Típica</td>\n",
       "    </tr>\n",
       "    <tr>\n",
       "      <th>3238768</th>\n",
       "      <td>21.092624</td>\n",
       "      <td>-89.581670</td>\n",
       "      <td>46.2678</td>\n",
       "      <td>0.7028</td>\n",
       "      <td>POLYGON ((231792.308 2334576.578, 231784.519 2...</td>\n",
       "      <td>76HG3CV9+28WW</td>\n",
       "      <td>3105000774388034</td>\n",
       "      <td>31</td>\n",
       "      <td>050</td>\n",
       "      <td>0077</td>\n",
       "      <td>4388</td>\n",
       "      <td>034</td>\n",
       "      <td>Urbana</td>\n",
       "      <td>Típica</td>\n",
       "    </tr>\n",
       "  </tbody>\n",
       "</table>\n",
       "<p>1725 rows × 14 columns</p>\n",
       "</div>"
      ],
      "text/plain": [
       "          latitude  longitude  area_in_meters  confidence  \\\n",
       "175      21.000608 -89.648010        228.2214      0.7898   \n",
       "2295     20.987470 -89.704474         58.6492      0.8392   \n",
       "6075     20.880707 -89.757533         36.7019      0.8416   \n",
       "8026     21.062817 -89.663447        288.1735      0.7881   \n",
       "11554    21.027194 -89.683598        107.3897      0.7670   \n",
       "...            ...        ...             ...         ...   \n",
       "3229510  21.028567 -89.688209         33.1412      0.6929   \n",
       "3236179  21.059086 -89.610367          6.2986      0.7245   \n",
       "3236271  21.045187 -89.662387         46.1652      0.8245   \n",
       "3237889  20.981693 -89.706403         44.2843      0.7968   \n",
       "3238768  21.092624 -89.581670         46.2678      0.7028   \n",
       "\n",
       "                                                  geometry full_plus_code  \\\n",
       "175      POLYGON ((224733.648 2324497.688, 224719.13 23...  76HG2922+6QX8   \n",
       "2295     POLYGON ((218831.001 2323138.15, 218825.264 23...  76GGX7PW+X6JX   \n",
       "6075     POLYGON ((213106.788 2311406.593, 213103.554 2...  76GGV6JR+7XP9   \n",
       "8026     POLYGON ((223241.834 2331403.793, 223239.641 2...  76HG387P+4JFP   \n",
       "11554    POLYGON ((221078.141 2327504.353, 221070.496 2...  76HG28G8+VHCQ   \n",
       "...                                                    ...            ...   \n",
       "3229510  POLYGON ((220598.607 2327662.946, 220596.182 2...  76HG28H6+CPFM   \n",
       "3236179  POLYGON ((228745.979 2330907.264, 228745.633 2...  76HG395Q+JVJF   \n",
       "3236271  POLYGON ((223314.821 2329456.766, 223312.263 2...  76HG28WQ+32HG   \n",
       "3237889  POLYGON ((218618.854 2322501.903, 218615.198 2...  76GGX7JV+MCHJ   \n",
       "3238768  POLYGON ((231792.308 2334576.578, 231784.519 2...  76HG3CV9+28WW   \n",
       "\n",
       "                   CVEGEO CVE_ENT CVE_MUN CVE_LOC CVE_AGEB CVE_MZA  AMBITO  \\\n",
       "175      3105000011913044      31     050    0001     1913     044  Urbana   \n",
       "2295     310500001683A043      31     050    0001     683A     043  Urbana   \n",
       "6075     3110100010189033      31     101    0001     0189     033  Urbana   \n",
       "8026     3105000016914017      31     050    0001     6914     017  Urbana   \n",
       "11554    3105000016793024      31     050    0001     6793     024  Urbana   \n",
       "...                   ...     ...     ...     ...      ...     ...     ...   \n",
       "3229510  3105000016793026      31     050    0001     6793     026  Urbana   \n",
       "3236179  3105000014960022      31     050    0001     4960     022  Urbana   \n",
       "3236271  3105000016098001      31     050    0001     6098     001  Urbana   \n",
       "3237889  3105000014462007      31     050    0001     4462     007  Urbana   \n",
       "3238768  3105000774388034      31     050    0077     4388     034  Urbana   \n",
       "\n",
       "        TIPOMZA  \n",
       "175      Típica  \n",
       "2295     Típica  \n",
       "6075     Típica  \n",
       "8026     Típica  \n",
       "11554    Típica  \n",
       "...         ...  \n",
       "3229510  Típica  \n",
       "3236179  Típica  \n",
       "3236271  Típica  \n",
       "3237889  Típica  \n",
       "3238768  Típica  \n",
       "\n",
       "[1725 rows x 14 columns]"
      ]
     },
     "execution_count": 11,
     "metadata": {},
     "output_type": "execute_result"
    }
   ],
   "source": [
    "buildings_aoi_gdf.loc[buildings_aoi_gdf.full_plus_code.duplicated()]"
   ]
  },
  {
   "cell_type": "code",
   "execution_count": 12,
   "id": "5ba06270-52a9-4df1-aa30-bc1a7c52c097",
   "metadata": {},
   "outputs": [
    {
     "data": {
      "text/html": [
       "<div>\n",
       "<style scoped>\n",
       "    .dataframe tbody tr th:only-of-type {\n",
       "        vertical-align: middle;\n",
       "    }\n",
       "\n",
       "    .dataframe tbody tr th {\n",
       "        vertical-align: top;\n",
       "    }\n",
       "\n",
       "    .dataframe thead th {\n",
       "        text-align: right;\n",
       "    }\n",
       "</style>\n",
       "<table border=\"1\" class=\"dataframe\">\n",
       "  <thead>\n",
       "    <tr style=\"text-align: right;\">\n",
       "      <th></th>\n",
       "      <th>latitude</th>\n",
       "      <th>longitude</th>\n",
       "      <th>area_in_meters</th>\n",
       "      <th>confidence</th>\n",
       "      <th>geometry</th>\n",
       "      <th>full_plus_code</th>\n",
       "      <th>CVEGEO</th>\n",
       "      <th>CVE_ENT</th>\n",
       "      <th>CVE_MUN</th>\n",
       "      <th>CVE_LOC</th>\n",
       "      <th>CVE_AGEB</th>\n",
       "      <th>CVE_MZA</th>\n",
       "      <th>AMBITO</th>\n",
       "      <th>TIPOMZA</th>\n",
       "    </tr>\n",
       "  </thead>\n",
       "  <tbody>\n",
       "    <tr>\n",
       "      <th>175</th>\n",
       "      <td>21.000608</td>\n",
       "      <td>-89.64801</td>\n",
       "      <td>228.2214</td>\n",
       "      <td>0.7898</td>\n",
       "      <td>POLYGON ((224733.648 2324497.688, 224719.13 23...</td>\n",
       "      <td>76HG2922+6QX8</td>\n",
       "      <td>3105000011913030</td>\n",
       "      <td>31</td>\n",
       "      <td>050</td>\n",
       "      <td>0001</td>\n",
       "      <td>1913</td>\n",
       "      <td>030</td>\n",
       "      <td>Urbana</td>\n",
       "      <td>Típica</td>\n",
       "    </tr>\n",
       "    <tr>\n",
       "      <th>175</th>\n",
       "      <td>21.000608</td>\n",
       "      <td>-89.64801</td>\n",
       "      <td>228.2214</td>\n",
       "      <td>0.7898</td>\n",
       "      <td>POLYGON ((224733.648 2324497.688, 224719.13 23...</td>\n",
       "      <td>76HG2922+6QX8</td>\n",
       "      <td>3105000011913044</td>\n",
       "      <td>31</td>\n",
       "      <td>050</td>\n",
       "      <td>0001</td>\n",
       "      <td>1913</td>\n",
       "      <td>044</td>\n",
       "      <td>Urbana</td>\n",
       "      <td>Típica</td>\n",
       "    </tr>\n",
       "  </tbody>\n",
       "</table>\n",
       "</div>"
      ],
      "text/plain": [
       "      latitude  longitude  area_in_meters  confidence  \\\n",
       "175  21.000608  -89.64801        228.2214      0.7898   \n",
       "175  21.000608  -89.64801        228.2214      0.7898   \n",
       "\n",
       "                                              geometry full_plus_code  \\\n",
       "175  POLYGON ((224733.648 2324497.688, 224719.13 23...  76HG2922+6QX8   \n",
       "175  POLYGON ((224733.648 2324497.688, 224719.13 23...  76HG2922+6QX8   \n",
       "\n",
       "               CVEGEO CVE_ENT CVE_MUN CVE_LOC CVE_AGEB CVE_MZA  AMBITO TIPOMZA  \n",
       "175  3105000011913030      31     050    0001     1913     030  Urbana  Típica  \n",
       "175  3105000011913044      31     050    0001     1913     044  Urbana  Típica  "
      ]
     },
     "execution_count": 12,
     "metadata": {},
     "output_type": "execute_result"
    }
   ],
   "source": [
    "buildings_test = buildings_aoi_gdf.loc[buildings_aoi_gdf.full_plus_code=='76HG2922+6QX8'].copy()\n",
    "buildings_test"
   ]
  },
  {
   "cell_type": "code",
   "execution_count": 13,
   "id": "26129ca5-0e7d-419b-be12-7f607a8bc312",
   "metadata": {},
   "outputs": [
    {
     "data": {
      "text/html": [
       "<div>\n",
       "<style scoped>\n",
       "    .dataframe tbody tr th:only-of-type {\n",
       "        vertical-align: middle;\n",
       "    }\n",
       "\n",
       "    .dataframe tbody tr th {\n",
       "        vertical-align: top;\n",
       "    }\n",
       "\n",
       "    .dataframe thead th {\n",
       "        text-align: right;\n",
       "    }\n",
       "</style>\n",
       "<table border=\"1\" class=\"dataframe\">\n",
       "  <thead>\n",
       "    <tr style=\"text-align: right;\">\n",
       "      <th></th>\n",
       "      <th>CVEGEO</th>\n",
       "      <th>CVE_ENT</th>\n",
       "      <th>CVE_MUN</th>\n",
       "      <th>CVE_LOC</th>\n",
       "      <th>CVE_AGEB</th>\n",
       "      <th>CVE_MZA</th>\n",
       "      <th>AMBITO</th>\n",
       "      <th>TIPOMZA</th>\n",
       "      <th>geometry</th>\n",
       "    </tr>\n",
       "  </thead>\n",
       "  <tbody>\n",
       "    <tr>\n",
       "      <th>12489</th>\n",
       "      <td>3105000011913044</td>\n",
       "      <td>31</td>\n",
       "      <td>050</td>\n",
       "      <td>0001</td>\n",
       "      <td>1913</td>\n",
       "      <td>044</td>\n",
       "      <td>Urbana</td>\n",
       "      <td>Típica</td>\n",
       "      <td>POLYGON ((224707.068 2324493.638, 224644.033 2...</td>\n",
       "    </tr>\n",
       "    <tr>\n",
       "      <th>12542</th>\n",
       "      <td>3105000011913030</td>\n",
       "      <td>31</td>\n",
       "      <td>050</td>\n",
       "      <td>0001</td>\n",
       "      <td>1913</td>\n",
       "      <td>030</td>\n",
       "      <td>Urbana</td>\n",
       "      <td>Típica</td>\n",
       "      <td>POLYGON ((224729.36 2324484.923, 224757.632 23...</td>\n",
       "    </tr>\n",
       "  </tbody>\n",
       "</table>\n",
       "</div>"
      ],
      "text/plain": [
       "                 CVEGEO CVE_ENT CVE_MUN CVE_LOC CVE_AGEB CVE_MZA  AMBITO  \\\n",
       "12489  3105000011913044      31     050    0001     1913     044  Urbana   \n",
       "12542  3105000011913030      31     050    0001     1913     030  Urbana   \n",
       "\n",
       "      TIPOMZA                                           geometry  \n",
       "12489  Típica  POLYGON ((224707.068 2324493.638, 224644.033 2...  \n",
       "12542  Típica  POLYGON ((224729.36 2324484.923, 224757.632 23...  "
      ]
     },
     "execution_count": 13,
     "metadata": {},
     "output_type": "execute_result"
    }
   ],
   "source": [
    "touched_blocks = ['3105000011913030','3105000011913044']\n",
    "blocks_test = blocks_aoi_gdf.loc[blocks_aoi_gdf.CVEGEO.isin(touched_blocks)].copy()\n",
    "blocks_test"
   ]
  },
  {
   "cell_type": "code",
   "execution_count": 14,
   "id": "bb3140b0-e164-4c94-a3a8-464ec08b6f5d",
   "metadata": {},
   "outputs": [
    {
     "data": {
      "text/plain": [
       "<Axes: >"
      ]
     },
     "execution_count": 14,
     "metadata": {},
     "output_type": "execute_result"
    },
    {
     "data": {
      "image/png": "[encoded data removed]",
      "text/plain": [
       "<Figure size 640x480 with 1 Axes>"
      ]
     },
     "metadata": {},
     "output_type": "display_data"
    }
   ],
   "source": [
    "fig,ax=plt.subplots()\n",
    "\n",
    "buildings_test.plot(ax=ax,\n",
    "                    facecolor=\"none\",\n",
    "                    edgecolor='red',\n",
    "                    zorder=1)\n",
    "blocks_test.plot(ax=ax,\n",
    "                 color='lightgrey',\n",
    "                 zorder=0)"
   ]
  },
  {
   "cell_type": "markdown",
   "id": "3b1188fb-bc27-4d6b-a469-a6adf2c6b6df",
   "metadata": {},
   "source": [
    "#### __REMOVE__"
   ]
  },
  {
   "cell_type": "code",
   "execution_count": 15,
   "id": "ddc4d766-2315-4312-a816-462d30cf9688",
   "metadata": {},
   "outputs": [
    {
     "name": "stdout",
     "output_type": "stream",
     "text": [
      "EPSG:32616\n",
      "(986036, 14)\n"
     ]
    },
    {
     "data": {
      "text/html": [
       "<div>\n",
       "<style scoped>\n",
       "    .dataframe tbody tr th:only-of-type {\n",
       "        vertical-align: middle;\n",
       "    }\n",
       "\n",
       "    .dataframe tbody tr th {\n",
       "        vertical-align: top;\n",
       "    }\n",
       "\n",
       "    .dataframe thead th {\n",
       "        text-align: right;\n",
       "    }\n",
       "</style>\n",
       "<table border=\"1\" class=\"dataframe\">\n",
       "  <thead>\n",
       "    <tr style=\"text-align: right;\">\n",
       "      <th></th>\n",
       "      <th>latitude</th>\n",
       "      <th>longitude</th>\n",
       "      <th>area_in_meters</th>\n",
       "      <th>confidence</th>\n",
       "      <th>geometry</th>\n",
       "      <th>full_plus_code</th>\n",
       "      <th>CVEGEO</th>\n",
       "      <th>CVE_ENT</th>\n",
       "      <th>CVE_MUN</th>\n",
       "      <th>CVE_LOC</th>\n",
       "      <th>CVE_AGEB</th>\n",
       "      <th>CVE_MZA</th>\n",
       "      <th>AMBITO</th>\n",
       "      <th>TIPOMZA</th>\n",
       "    </tr>\n",
       "  </thead>\n",
       "  <tbody>\n",
       "    <tr>\n",
       "      <th>7</th>\n",
       "      <td>21.023225</td>\n",
       "      <td>-89.879738</td>\n",
       "      <td>19.8499</td>\n",
       "      <td>0.8195</td>\n",
       "      <td>POLYGON ((200667.091 2327419.743, 200662.733 2...</td>\n",
       "      <td>76HG24FC+74JV</td>\n",
       "      <td>310380001008A022</td>\n",
       "      <td>31</td>\n",
       "      <td>038</td>\n",
       "      <td>0001</td>\n",
       "      <td>008A</td>\n",
       "      <td>022</td>\n",
       "      <td>Urbana</td>\n",
       "      <td>Típica</td>\n",
       "    </tr>\n",
       "    <tr>\n",
       "      <th>10</th>\n",
       "      <td>20.916671</td>\n",
       "      <td>-89.624195</td>\n",
       "      <td>13.1274</td>\n",
       "      <td>0.6835</td>\n",
       "      <td>POLYGON ((227049.324 2315155.737, 227049.241 2...</td>\n",
       "      <td>76GGW98G+M87X</td>\n",
       "      <td>3105000015121016</td>\n",
       "      <td>31</td>\n",
       "      <td>050</td>\n",
       "      <td>0001</td>\n",
       "      <td>5121</td>\n",
       "      <td>016</td>\n",
       "      <td>Urbana</td>\n",
       "      <td>Típica</td>\n",
       "    </tr>\n",
       "  </tbody>\n",
       "</table>\n",
       "</div>"
      ],
      "text/plain": [
       "     latitude  longitude  area_in_meters  confidence  \\\n",
       "7   21.023225 -89.879738         19.8499      0.8195   \n",
       "10  20.916671 -89.624195         13.1274      0.6835   \n",
       "\n",
       "                                             geometry full_plus_code  \\\n",
       "7   POLYGON ((200667.091 2327419.743, 200662.733 2...  76HG24FC+74JV   \n",
       "10  POLYGON ((227049.324 2315155.737, 227049.241 2...  76GGW98G+M87X   \n",
       "\n",
       "              CVEGEO CVE_ENT CVE_MUN CVE_LOC CVE_AGEB CVE_MZA  AMBITO TIPOMZA  \n",
       "7   310380001008A022      31     038    0001     008A     022  Urbana  Típica  \n",
       "10  3105000015121016      31     050    0001     5121     016  Urbana  Típica  "
      ]
     },
     "execution_count": 15,
     "metadata": {},
     "output_type": "execute_result"
    }
   ],
   "source": [
    "buildings_aoi_gdf_f = buildings_aoi_gdf.copy()\n",
    "buildings_aoi_gdf_f.drop_duplicates('full_plus_code',inplace=True)\n",
    "\n",
    "# Show\n",
    "print(buildings_aoi_gdf_f.crs)\n",
    "print(buildings_aoi_gdf_f.shape)\n",
    "buildings_aoi_gdf_f.head(2)"
   ]
  },
  {
   "cell_type": "markdown",
   "id": "b1d0a224-3b4c-4c1e-9fed-7d6de88e6adb",
   "metadata": {},
   "source": [
    "## __Calculate mean pctbuilt_block by hex__"
   ]
  },
  {
   "cell_type": "markdown",
   "id": "d2ac4369-129e-448b-9851-126a56001e74",
   "metadata": {},
   "source": [
    "#### Load hexs with required output res"
   ]
  },
  {
   "cell_type": "code",
   "execution_count": 16,
   "id": "3d7f3878-6ffb-4713-8382-a858b5eaec75",
   "metadata": {},
   "outputs": [
    {
     "name": "stdout",
     "output_type": "stream",
     "text": [
      "Changed hex_gdf crs to EPSG:32616.\n",
      "EPSG:32616\n",
      "(4043, 6)\n"
     ]
    },
    {
     "data": {
      "text/html": [
       "<div>\n",
       "<style scoped>\n",
       "    .dataframe tbody tr th:only-of-type {\n",
       "        vertical-align: middle;\n",
       "    }\n",
       "\n",
       "    .dataframe tbody tr th {\n",
       "        vertical-align: top;\n",
       "    }\n",
       "\n",
       "    .dataframe thead th {\n",
       "        text-align: right;\n",
       "    }\n",
       "</style>\n",
       "<table border=\"1\" class=\"dataframe\">\n",
       "  <thead>\n",
       "    <tr style=\"text-align: right;\">\n",
       "      <th></th>\n",
       "      <th>hex_id_9</th>\n",
       "      <th>geometry</th>\n",
       "      <th>CVEGEO</th>\n",
       "      <th>NOMGEO</th>\n",
       "      <th>city</th>\n",
       "      <th>type</th>\n",
       "    </tr>\n",
       "  </thead>\n",
       "  <tbody>\n",
       "    <tr>\n",
       "      <th>0</th>\n",
       "      <td>89450980dc3ffff</td>\n",
       "      <td>POLYGON ((245178.033 2301955.637, 245313.767 2...</td>\n",
       "      <td>31002</td>\n",
       "      <td>Acanceh</td>\n",
       "      <td>Merida</td>\n",
       "      <td>urban</td>\n",
       "    </tr>\n",
       "    <tr>\n",
       "      <th>1</th>\n",
       "      <td>89450980993ffff</td>\n",
       "      <td>POLYGON ((244697.664 2304088.133, 244833.41 23...</td>\n",
       "      <td>31002</td>\n",
       "      <td>Acanceh</td>\n",
       "      <td>Merida</td>\n",
       "      <td>urban</td>\n",
       "    </tr>\n",
       "  </tbody>\n",
       "</table>\n",
       "</div>"
      ],
      "text/plain": [
       "          hex_id_9                                           geometry CVEGEO  \\\n",
       "0  89450980dc3ffff  POLYGON ((245178.033 2301955.637, 245313.767 2...  31002   \n",
       "1  89450980993ffff  POLYGON ((244697.664 2304088.133, 244833.41 23...  31002   \n",
       "\n",
       "    NOMGEO    city   type  \n",
       "0  Acanceh  Merida  urban  \n",
       "1  Acanceh  Merida  urban  "
      ]
     },
     "execution_count": 16,
     "metadata": {},
     "output_type": "execute_result"
    }
   ],
   "source": [
    "hex_schema = 'hexgrid'\n",
    "hex_table = f'hexgrid_{output_res}_city_2020'\n",
    "hex_type = 'urban'\n",
    "\n",
    "hex_query = f\"SELECT * FROM {hex_schema}.{hex_table} WHERE \\\"city\\\" LIKE \\'{city}\\' AND \\\"type\\\" LIKE \\'{hex_type}\\'\"\n",
    "hex_gdf = aup.gdf_from_query(hex_query, geometry_col='geometry')\n",
    "\n",
    "# Ensure projected_crs\n",
    "if hex_gdf.crs != projected_crs:\n",
    "    hex_gdf.to_crs(projected_crs,inplace=True)\n",
    "    print(f\"Changed hex_gdf crs to {projected_crs}.\")\n",
    "\n",
    "# Show\n",
    "print(hex_gdf.crs)\n",
    "print(hex_gdf.shape)\n",
    "hex_gdf.head(2)"
   ]
  },
  {
   "cell_type": "markdown",
   "id": "14155385-6be4-475e-abf3-e2724b44ed46",
   "metadata": {},
   "source": [
    "#### Split blocks using hexs (Overlay) and find block area by hex"
   ]
  },
  {
   "cell_type": "code",
   "execution_count": 17,
   "id": "3956e3f3-7229-40e1-b815-20c42590665f",
   "metadata": {},
   "outputs": [
    {
     "name": "stdout",
     "output_type": "stream",
     "text": [
      "(4012, 1)\n"
     ]
    },
    {
     "data": {
      "text/html": [
       "<div>\n",
       "<style scoped>\n",
       "    .dataframe tbody tr th:only-of-type {\n",
       "        vertical-align: middle;\n",
       "    }\n",
       "\n",
       "    .dataframe tbody tr th {\n",
       "        vertical-align: top;\n",
       "    }\n",
       "\n",
       "    .dataframe thead th {\n",
       "        text-align: right;\n",
       "    }\n",
       "</style>\n",
       "<table border=\"1\" class=\"dataframe\">\n",
       "  <thead>\n",
       "    <tr style=\"text-align: right;\">\n",
       "      <th></th>\n",
       "      <th>area_mza_split</th>\n",
       "    </tr>\n",
       "    <tr>\n",
       "      <th>hex_id_9</th>\n",
       "      <th></th>\n",
       "    </tr>\n",
       "  </thead>\n",
       "  <tbody>\n",
       "    <tr>\n",
       "      <th>89450916487ffff</th>\n",
       "      <td>39929.370337</td>\n",
       "    </tr>\n",
       "    <tr>\n",
       "      <th>89450916493ffff</th>\n",
       "      <td>45127.852693</td>\n",
       "    </tr>\n",
       "  </tbody>\n",
       "</table>\n",
       "</div>"
      ],
      "text/plain": [
       "                 area_mza_split\n",
       "hex_id_9                       \n",
       "89450916487ffff    39929.370337\n",
       "89450916493ffff    45127.852693"
      ]
     },
     "execution_count": 17,
     "metadata": {},
     "output_type": "execute_result"
    }
   ],
   "source": [
    "# Rename CVEGEO before overlay\n",
    "if 'CVEGEO' in blocks_aoi_gdf.columns:\n",
    "    blocks_aoi_gdf.rename(columns={'CVEGEO':'cvegeo_mza'},inplace=True)\n",
    "\n",
    "# Overlay blocks with hexs\n",
    "# (This spatial intersection, creates split blocks with data from the original block and the hex it falls in)\n",
    "blocks_hexs_overlay = gpd.overlay(df1=blocks_aoi_gdf[['cvegeo_mza','geometry']], \n",
    "                                  df2=hex_gdf[[f'hex_id_{output_res}','geometry']], \n",
    "                                  how=\"intersection\")\n",
    "# Calculate split area of each block\n",
    "blocks_hexs_overlay['area_mza_split'] = blocks_hexs_overlay.geometry.area\n",
    "\n",
    "# Group data by hex\n",
    "blockarea_byhex = blocks_hexs_overlay.groupby(f'hex_id_{output_res}').agg({'area_mza_split':np.sum})\n",
    "\n",
    "# Show\n",
    "print(blockarea_byhex.shape)\n",
    "blockarea_byhex.head(2)"
   ]
  },
  {
   "cell_type": "markdown",
   "id": "6a98a9ca-ad94-41c5-b701-40a5f5494b0b",
   "metadata": {},
   "source": [
    "#### Split buildings using hexs (Overlay) and find built area by hex"
   ]
  },
  {
   "cell_type": "code",
   "execution_count": 18,
   "id": "3ed2e295-d445-44a1-b0c0-5358a3c9bae3",
   "metadata": {},
   "outputs": [
    {
     "name": "stdout",
     "output_type": "stream",
     "text": [
      "(3835, 1)\n"
     ]
    },
    {
     "data": {
      "text/html": [
       "<div>\n",
       "<style scoped>\n",
       "    .dataframe tbody tr th:only-of-type {\n",
       "        vertical-align: middle;\n",
       "    }\n",
       "\n",
       "    .dataframe tbody tr th {\n",
       "        vertical-align: top;\n",
       "    }\n",
       "\n",
       "    .dataframe thead th {\n",
       "        text-align: right;\n",
       "    }\n",
       "</style>\n",
       "<table border=\"1\" class=\"dataframe\">\n",
       "  <thead>\n",
       "    <tr style=\"text-align: right;\">\n",
       "      <th></th>\n",
       "      <th>area_built_split</th>\n",
       "    </tr>\n",
       "    <tr>\n",
       "      <th>hex_id_9</th>\n",
       "      <th></th>\n",
       "    </tr>\n",
       "  </thead>\n",
       "  <tbody>\n",
       "    <tr>\n",
       "      <th>89450916487ffff</th>\n",
       "      <td>1265.052939</td>\n",
       "    </tr>\n",
       "    <tr>\n",
       "      <th>89450916493ffff</th>\n",
       "      <td>1372.721480</td>\n",
       "    </tr>\n",
       "  </tbody>\n",
       "</table>\n",
       "</div>"
      ],
      "text/plain": [
       "                 area_built_split\n",
       "hex_id_9                         \n",
       "89450916487ffff       1265.052939\n",
       "89450916493ffff       1372.721480"
      ]
     },
     "execution_count": 18,
     "metadata": {},
     "output_type": "execute_result"
    }
   ],
   "source": [
    "# Overlay buildings with hexs\n",
    "# (This spatial intersection, creates split buildings with data from the original building and the hex it falls in)\n",
    "buildings_hexs_overlay = gpd.overlay(df1=buildings_aoi_gdf_f[['full_plus_code','geometry']],\n",
    "                                     df2=hex_gdf[[f'hex_id_{output_res}','geometry']],\n",
    "                                     how=\"intersection\")\n",
    "\n",
    "# Dissolve buildings by hex\n",
    "buildings_diss = buildings_hexs_overlay.dissolve(by=f'hex_id_{output_res}')\n",
    "buildings_diss.reset_index(inplace=True)\n",
    "# Calculate split built area of each building\n",
    "buildings_diss['area_built_split'] = buildings_diss.geometry.area\n",
    "\n",
    "# Group data by hex\n",
    "builtarea_byhex = buildings_diss.groupby(f'hex_id_{output_res}').agg({'area_built_split':np.sum})\n",
    "\n",
    "# Show\n",
    "print(builtarea_byhex.shape)\n",
    "builtarea_byhex.head(2)"
   ]
  },
  {
   "cell_type": "markdown",
   "id": "678ef24e-d918-4ee1-bd79-1710e2c67893",
   "metadata": {},
   "source": [
    "#### Merge block area by hex and built area by hex"
   ]
  },
  {
   "cell_type": "code",
   "execution_count": 19,
   "id": "8613c117-87c1-4cf4-89a3-20ceedfa1e60",
   "metadata": {},
   "outputs": [
    {
     "name": "stdout",
     "output_type": "stream",
     "text": [
      "(3833, 3)\n"
     ]
    },
    {
     "data": {
      "text/html": [
       "<div>\n",
       "<style scoped>\n",
       "    .dataframe tbody tr th:only-of-type {\n",
       "        vertical-align: middle;\n",
       "    }\n",
       "\n",
       "    .dataframe tbody tr th {\n",
       "        vertical-align: top;\n",
       "    }\n",
       "\n",
       "    .dataframe thead th {\n",
       "        text-align: right;\n",
       "    }\n",
       "</style>\n",
       "<table border=\"1\" class=\"dataframe\">\n",
       "  <thead>\n",
       "    <tr style=\"text-align: right;\">\n",
       "      <th></th>\n",
       "      <th>hex_id_9</th>\n",
       "      <th>area_mza_split</th>\n",
       "      <th>area_built_split</th>\n",
       "    </tr>\n",
       "  </thead>\n",
       "  <tbody>\n",
       "    <tr>\n",
       "      <th>0</th>\n",
       "      <td>89450916487ffff</td>\n",
       "      <td>39929.370337</td>\n",
       "      <td>1265.052939</td>\n",
       "    </tr>\n",
       "    <tr>\n",
       "      <th>1</th>\n",
       "      <td>89450916493ffff</td>\n",
       "      <td>45127.852693</td>\n",
       "      <td>1372.721480</td>\n",
       "    </tr>\n",
       "  </tbody>\n",
       "</table>\n",
       "</div>"
      ],
      "text/plain": [
       "          hex_id_9  area_mza_split  area_built_split\n",
       "0  89450916487ffff    39929.370337       1265.052939\n",
       "1  89450916493ffff    45127.852693       1372.721480"
      ]
     },
     "execution_count": 19,
     "metadata": {},
     "output_type": "execute_result"
    }
   ],
   "source": [
    "if f'hex_id_{output_res}' not in blockarea_byhex.columns:\n",
    "    blockarea_byhex.reset_index(inplace=True)\n",
    "if f'hex_id_{output_res}' not in builtarea_byhex.columns:\n",
    "    builtarea_byhex.reset_index(inplace=True)\n",
    "\n",
    "areas_byhex = pd.merge(blockarea_byhex,builtarea_byhex,on=f'hex_id_{output_res}')\n",
    "\n",
    "# Show\n",
    "print(areas_byhex.shape)\n",
    "areas_byhex.head(2)"
   ]
  },
  {
   "cell_type": "markdown",
   "id": "af589999-a4ce-445d-8ef7-69890dc90d07",
   "metadata": {},
   "source": [
    "#### Calculate built percentage relative to blocks area by hex"
   ]
  },
  {
   "cell_type": "code",
   "execution_count": 20,
   "id": "47bd647d-e804-4a1e-a3c4-cbd95b2d7f66",
   "metadata": {},
   "outputs": [
    {
     "name": "stdout",
     "output_type": "stream",
     "text": [
      "(3833, 4)\n"
     ]
    },
    {
     "data": {
      "text/html": [
       "<div>\n",
       "<style scoped>\n",
       "    .dataframe tbody tr th:only-of-type {\n",
       "        vertical-align: middle;\n",
       "    }\n",
       "\n",
       "    .dataframe tbody tr th {\n",
       "        vertical-align: top;\n",
       "    }\n",
       "\n",
       "    .dataframe thead th {\n",
       "        text-align: right;\n",
       "    }\n",
       "</style>\n",
       "<table border=\"1\" class=\"dataframe\">\n",
       "  <thead>\n",
       "    <tr style=\"text-align: right;\">\n",
       "      <th></th>\n",
       "      <th>hex_id_9</th>\n",
       "      <th>area_mza_split</th>\n",
       "      <th>area_built_split</th>\n",
       "      <th>built_pct</th>\n",
       "    </tr>\n",
       "  </thead>\n",
       "  <tbody>\n",
       "    <tr>\n",
       "      <th>0</th>\n",
       "      <td>89450916487ffff</td>\n",
       "      <td>39929.370337</td>\n",
       "      <td>1265.052939</td>\n",
       "      <td>3.168227</td>\n",
       "    </tr>\n",
       "    <tr>\n",
       "      <th>1</th>\n",
       "      <td>89450916493ffff</td>\n",
       "      <td>45127.852693</td>\n",
       "      <td>1372.721480</td>\n",
       "      <td>3.041850</td>\n",
       "    </tr>\n",
       "  </tbody>\n",
       "</table>\n",
       "</div>"
      ],
      "text/plain": [
       "          hex_id_9  area_mza_split  area_built_split  built_pct\n",
       "0  89450916487ffff    39929.370337       1265.052939   3.168227\n",
       "1  89450916493ffff    45127.852693       1372.721480   3.041850"
      ]
     },
     "execution_count": 20,
     "metadata": {},
     "output_type": "execute_result"
    }
   ],
   "source": [
    "areas_byhex['built_pct'] = (areas_byhex['area_built_split']/areas_byhex['area_mza_split'])*100\n",
    "\n",
    "# Show\n",
    "print(areas_byhex.shape)\n",
    "areas_byhex.head(2)"
   ]
  },
  {
   "cell_type": "code",
   "execution_count": 21,
   "id": "03697c0f-fde9-4139-99e6-ba2e4d2903e1",
   "metadata": {},
   "outputs": [
    {
     "data": {
      "text/plain": [
       "Text(0.5, 1.0, 'Percentage of built area (Google Buildings) in Merida by block.')"
      ]
     },
     "execution_count": 21,
     "metadata": {},
     "output_type": "execute_result"
    },
    {
     "data": {
      "image/png": "[encoded data removed]",
      "text/plain": [
       "<Figure size 1500x1000 with 1 Axes>"
      ]
     },
     "metadata": {},
     "output_type": "display_data"
    }
   ],
   "source": [
    "fig,ax=plt.subplots(figsize=(15,10))\n",
    "sns.boxplot(areas_byhex.built_pct,\n",
    "            color='lightcyan',\n",
    "            zorder=0,\n",
    "            ax=ax)\n",
    "ax.set_title(f'Percentage of built area (Google Buildings) in {city} by block.')"
   ]
  },
  {
   "cell_type": "markdown",
   "id": "35fd4033-37e2-4ad9-adb6-2a6145ce7ec8",
   "metadata": {},
   "source": [
    "#### Substitute all values above 100% with 100% built percentage"
   ]
  },
  {
   "cell_type": "code",
   "execution_count": 22,
   "id": "f9825efe-19b2-4529-ad0c-aa83dbda0b8c",
   "metadata": {},
   "outputs": [
    {
     "name": "stdout",
     "output_type": "stream",
     "text": [
      "100.0\n"
     ]
    },
    {
     "data": {
      "text/html": [
       "<div>\n",
       "<style scoped>\n",
       "    .dataframe tbody tr th:only-of-type {\n",
       "        vertical-align: middle;\n",
       "    }\n",
       "\n",
       "    .dataframe tbody tr th {\n",
       "        vertical-align: top;\n",
       "    }\n",
       "\n",
       "    .dataframe thead th {\n",
       "        text-align: right;\n",
       "    }\n",
       "</style>\n",
       "<table border=\"1\" class=\"dataframe\">\n",
       "  <thead>\n",
       "    <tr style=\"text-align: right;\">\n",
       "      <th></th>\n",
       "      <th>hex_id_9</th>\n",
       "      <th>area_mza_split</th>\n",
       "      <th>area_built_split</th>\n",
       "      <th>built_pct</th>\n",
       "    </tr>\n",
       "  </thead>\n",
       "  <tbody>\n",
       "    <tr>\n",
       "      <th>0</th>\n",
       "      <td>89450916487ffff</td>\n",
       "      <td>39929.370337</td>\n",
       "      <td>1265.052939</td>\n",
       "      <td>3.168227</td>\n",
       "    </tr>\n",
       "    <tr>\n",
       "      <th>1</th>\n",
       "      <td>89450916493ffff</td>\n",
       "      <td>45127.852693</td>\n",
       "      <td>1372.721480</td>\n",
       "      <td>3.041850</td>\n",
       "    </tr>\n",
       "  </tbody>\n",
       "</table>\n",
       "</div>"
      ],
      "text/plain": [
       "          hex_id_9  area_mza_split  area_built_split  built_pct\n",
       "0  89450916487ffff    39929.370337       1265.052939   3.168227\n",
       "1  89450916493ffff    45127.852693       1372.721480   3.041850"
      ]
     },
     "execution_count": 22,
     "metadata": {},
     "output_type": "execute_result"
    }
   ],
   "source": [
    "idx = areas_byhex.built_pct>=100\n",
    "areas_byhex.loc[idx,'built_pct'] = 100\n",
    "\n",
    "# Show\n",
    "print(float(areas_byhex.built_pct.max()))\n",
    "areas_byhex.head(2)"
   ]
  },
  {
   "cell_type": "markdown",
   "id": "4c4dfa5d-a11a-4203-963a-6598ef086382",
   "metadata": {},
   "source": [
    "#### Retrieve geometry"
   ]
  },
  {
   "cell_type": "code",
   "execution_count": 23,
   "id": "1293f73d-26e0-4996-98b4-f560f380c351",
   "metadata": {},
   "outputs": [
    {
     "name": "stdout",
     "output_type": "stream",
     "text": [
      "EPSG:32616\n",
      "(3833, 5)\n"
     ]
    },
    {
     "data": {
      "text/html": [
       "<div>\n",
       "<style scoped>\n",
       "    .dataframe tbody tr th:only-of-type {\n",
       "        vertical-align: middle;\n",
       "    }\n",
       "\n",
       "    .dataframe tbody tr th {\n",
       "        vertical-align: top;\n",
       "    }\n",
       "\n",
       "    .dataframe thead th {\n",
       "        text-align: right;\n",
       "    }\n",
       "</style>\n",
       "<table border=\"1\" class=\"dataframe\">\n",
       "  <thead>\n",
       "    <tr style=\"text-align: right;\">\n",
       "      <th></th>\n",
       "      <th>hex_id_9</th>\n",
       "      <th>area_mza_split</th>\n",
       "      <th>area_built_split</th>\n",
       "      <th>built_pct</th>\n",
       "      <th>geometry</th>\n",
       "    </tr>\n",
       "  </thead>\n",
       "  <tbody>\n",
       "    <tr>\n",
       "      <th>0</th>\n",
       "      <td>89450916487ffff</td>\n",
       "      <td>39929.370337</td>\n",
       "      <td>1265.052939</td>\n",
       "      <td>3.168227</td>\n",
       "      <td>POLYGON ((252809.048 2323786.132, 252944.758 2...</td>\n",
       "    </tr>\n",
       "    <tr>\n",
       "      <th>1</th>\n",
       "      <td>89450916493ffff</td>\n",
       "      <td>45127.852693</td>\n",
       "      <td>1372.721480</td>\n",
       "      <td>3.041850</td>\n",
       "      <td>POLYGON ((252993.642 2323193.613, 253129.348 2...</td>\n",
       "    </tr>\n",
       "  </tbody>\n",
       "</table>\n",
       "</div>"
      ],
      "text/plain": [
       "          hex_id_9  area_mza_split  area_built_split  built_pct  \\\n",
       "0  89450916487ffff    39929.370337       1265.052939   3.168227   \n",
       "1  89450916493ffff    45127.852693       1372.721480   3.041850   \n",
       "\n",
       "                                            geometry  \n",
       "0  POLYGON ((252809.048 2323786.132, 252944.758 2...  \n",
       "1  POLYGON ((252993.642 2323193.613, 253129.348 2...  "
      ]
     },
     "execution_count": 23,
     "metadata": {},
     "output_type": "execute_result"
    }
   ],
   "source": [
    "# Merge with hex_gdf\n",
    "hexs_built_df = pd.merge(areas_byhex,\n",
    "                         hex_gdf[[f'hex_id_{output_res}','geometry']],\n",
    "                         on=f'hex_id_{output_res}')\n",
    "# Turn into GeoDataFrame\n",
    "hexs_built_gdf = gpd.GeoDataFrame(hexs_built_df,\n",
    "                                  crs=projected_crs,\n",
    "                                  geometry='geometry')\n",
    "\n",
    "# Show\n",
    "print(hexs_built_gdf.crs)\n",
    "print(hexs_built_gdf.shape)\n",
    "hexs_built_gdf.head(2)"
   ]
  },
  {
   "cell_type": "markdown",
   "id": "7e5ebee2-22a3-4e08-bbf0-e18777d7acd3",
   "metadata": {},
   "source": [
    "#### Show"
   ]
  },
  {
   "cell_type": "code",
   "execution_count": 24,
   "id": "227d1501-d566-4403-8d3b-648950d7f3b4",
   "metadata": {},
   "outputs": [
    {
     "data": {
      "text/plain": [
       "<Axes: >"
      ]
     },
     "execution_count": 24,
     "metadata": {},
     "output_type": "execute_result"
    },
    {
     "data": {
      "image/png": "[encoded data removed]",
      "text/plain": [
       "<Figure size 640x480 with 1 Axes>"
      ]
     },
     "metadata": {},
     "output_type": "display_data"
    }
   ],
   "source": [
    "hexs_built_gdf.plot('built_pct')"
   ]
  },
  {
   "cell_type": "code",
   "execution_count": 25,
   "id": "2a795d31-a654-4db0-8893-54ffe646728c",
   "metadata": {},
   "outputs": [],
   "source": [
    "if save_output:\n",
    "    hexs_built_gdf.to_file(map_output_dir + f\"/builtpctblock_{city}_hex{output_res}.gpkg\")"
   ]
  },
  {
   "cell_type": "code",
   "execution_count": null,
   "id": "3be5cc25-2845-4daf-9332-539e6c68a18c",
   "metadata": {},
   "outputs": [],
   "source": []
  }
 ],
 "metadata": {
  "kernelspec": {
   "display_name": "GDS-10.0",
   "language": "python",
   "name": "gds"
  },
  "language_info": {
   "codemirror_mode": {
    "name": "ipython",
    "version": 3
   },
   "file_extension": ".py",
   "mimetype": "text/x-python",
   "name": "python",
   "nbconvert_exporter": "python",
   "pygments_lexer": "ipython3",
   "version": "3.9.18"
  }
 },
 "nbformat": 4,
 "nbformat_minor": 5
}
