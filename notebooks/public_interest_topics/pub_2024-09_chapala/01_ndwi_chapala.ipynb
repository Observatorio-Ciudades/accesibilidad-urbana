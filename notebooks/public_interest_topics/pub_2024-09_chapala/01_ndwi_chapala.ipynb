{
 "cells": [
  {
   "cell_type": "markdown",
   "id": "23d3cfc4-fc86-4003-828e-656a95c43a26",
   "metadata": {},
   "source": [
    "# NDWI Analysis - Lago de Chapala"
   ]
  },
  {
   "cell_type": "markdown",
   "id": "c7ffbd39-8dcf-4567-9182-54bd758e6cfa",
   "metadata": {},
   "source": [
    "This notebook goes step by step inside download_raster_from_pc() in order to be able to __download an image from a specific date__. (Because we verified a specific date using eo Browser)\n",
    "\n",
    "* Initially the verified date was __2024-09-18__. However, upon realizing it was not available, we decided to use date __2024-09-03__."
   ]
  },
  {
   "cell_type": "markdown",
   "id": "e1f6a4d3-556d-43bb-a972-db85c2bf5304",
   "metadata": {},
   "source": [
    "## Import libraries"
   ]
  },
  {
   "cell_type": "code",
   "execution_count": 8,
   "id": "63797fbd-b8d4-4a64-b71c-57748e4731ba",
   "metadata": {},
   "outputs": [],
   "source": [
    "accessibilidad_urbana = \"../../\""
   ]
  },
  {
   "cell_type": "code",
   "execution_count": 10,
   "id": "8a6175a0-a75a-429f-b4e7-5409c8264973",
   "metadata": {},
   "outputs": [
    {
     "name": "stderr",
     "output_type": "stream",
     "text": [
      "/home/jovyan/accesibilidad-urbana/aup/data.py:24: FutureWarning: The `utils.config` function is deprecated and will be removed in the v2.0.0 release. Instead, use the `settings` module directly to configure a global setting's value. For example, `ox.settings.log_console=True`. See the OSMnx v2 migration guide: https://github.com/gboeing/osmnx/issues/1123\n",
      "  ox.config(\n"
     ]
    }
   ],
   "source": [
    "from pystac_client import Client\n",
    "from pystac.extensions.eo import EOExtension as eo\n",
    "import planetary_computer as pc\n",
    "import geopandas as gpd\n",
    "import h3\n",
    "import pandas as pd\n",
    "\n",
    "import rasterio\n",
    "from rasterio import windows\n",
    "from rasterio import features\n",
    "from rasterio import warp\n",
    "import rasterio.mask\n",
    "from rasterio.enums import Resampling\n",
    "from rasterio.merge import merge\n",
    "\n",
    "import numpy as np\n",
    "from PIL import Image\n",
    "\n",
    "import matplotlib.pyplot as plt\n",
    "\n",
    "from shapely.geometry import Point\n",
    "\n",
    "from tqdm import tqdm\n",
    "\n",
    "import os\n",
    "import sys\n",
    "module_path = os.path.abspath(os.path.join(accessibilidad_urbana))\n",
    "if module_path not in sys.path:\n",
    "    sys.path.append(module_path)\n",
    "    import aup"
   ]
  },
  {
   "cell_type": "markdown",
   "id": "18b0cdea-8ab4-4288-952e-ecc2b9408d26",
   "metadata": {},
   "source": [
    "## Notebook config"
   ]
  },
  {
   "cell_type": "code",
   "execution_count": 77,
   "id": "42aa13f4-4755-494d-a4b2-9c0ae4c82227",
   "metadata": {
    "tags": []
   },
   "outputs": [],
   "source": [
    "# ------------------------------ SCRIPT CONFIGURATION - ANALYSIS ------------------------------\n",
    "# Set raster spectral bands and analysis equation\n",
    "band_name_dict = {'green':[False], #If GSD(resolution) of band is different, set True.\n",
    "                  'nir':[False], #If GSD(resolution) of band is different, set True.\n",
    "                  'eq':[\"(green-nir)/(green+nir)\"]}\n",
    "# Set analysis name\n",
    "index_analysis = 'ndwi'\n",
    "\n",
    "# Set directory to save analysed rasters\n",
    "tmp_dir = f'../../data/processed/tmp_{index_analysis}/'\n",
    "\n",
    "# Set desired hex resolution\n",
    "res = [8,10]\n",
    "\n",
    "# Set frequency of search for rasters (MS = Month Start)\n",
    "freq = 'MS'\n",
    "\n",
    "# Set start and end date for search (Sentinel-2 2A has images since mids 2015)\n",
    "start_date = '2024-09-16'\n",
    "end_date = '2024-09-19'\n",
    "\n",
    "# Set satellite. Defaults to \"sentinel-2-l2a\"\n",
    "satellite = 'sentinel-2-l2a'\n",
    "\n",
    "#Set filter if necessary. Defaults to \"{}\". \n",
    "# Example: No images with cloud cover avobe 10%: {\"eo:cloud_cover\": {\"lt\": 10}}\n",
    "#sat_query = {\"eo:cloud_cover\": {\"lt\": 10}}\n",
    "sat_query = {}\n",
    "\n",
    "# Del rasters after processing.\n",
    "del_data = False # True\n",
    "\n",
    "# ------------------------------ SCRIPT CONFIGURATION - AREA OF INTEREST ------------------------------\n",
    "city = 'Chapala'\n",
    "mun_gdf = gpd.read_file(accessibilidad_urbana + 'data/external/temporal_todocker/chapala/chapala_polygon.gpkg')\n",
    "projection_crs = \"EPSG:6372\"\n",
    "\n",
    "# ------------------------------ SCRIPT CONFIGURATION - SAVING ------------------------------\n",
    "raster_to_hex = True #------ Can set False if testing/visualizing downloaded/interpolated rasters. Set True if transfering data to hexs and saving. \n",
    "local_save = True #------ Set True if saving locally\n",
    "save = False #------ Set True if saving to database"
   ]
  },
  {
   "cell_type": "code",
   "execution_count": 22,
   "id": "0df93374-3d40-43ea-bf45-487f74113648",
   "metadata": {},
   "outputs": [
    {
     "name": "stdout",
     "output_type": "stream",
     "text": [
      "EPSG:4326\n"
     ]
    },
    {
     "data": {
      "text/plain": [
       "<Axes: >"
      ]
     },
     "execution_count": 22,
     "metadata": {},
     "output_type": "execute_result"
    },
    {
     "data": {
      "image/png": "[encoded data removed]",
      "text/plain": [
       "<Figure size 640x480 with 1 Axes>"
      ]
     },
     "metadata": {},
     "output_type": "display_data"
    }
   ],
   "source": [
    "# Show area of interest\n",
    "print(mun_gdf.crs)\n",
    "mun_gdf.plot()"
   ]
  },
  {
   "cell_type": "markdown",
   "id": "72ffe3d9-4d65-4eee-930f-f56e85521d27",
   "metadata": {},
   "source": [
    "## Main function - Create area of interest"
   ]
  },
  {
   "cell_type": "code",
   "execution_count": 23,
   "id": "bd90c4d3-0c55-4b21-887b-c71be996b219",
   "metadata": {
    "tags": []
   },
   "outputs": [
    {
     "name": "stdout",
     "output_type": "stream",
     "text": [
      "Created 1436 hexagon features\n",
      "(1436, 2)\n"
     ]
    },
    {
     "data": {
      "text/html": [
       "<div>\n",
       "<style scoped>\n",
       "    .dataframe tbody tr th:only-of-type {\n",
       "        vertical-align: middle;\n",
       "    }\n",
       "\n",
       "    .dataframe tbody tr th {\n",
       "        vertical-align: top;\n",
       "    }\n",
       "\n",
       "    .dataframe thead th {\n",
       "        text-align: right;\n",
       "    }\n",
       "</style>\n",
       "<table border=\"1\" class=\"dataframe\">\n",
       "  <thead>\n",
       "    <tr style=\"text-align: right;\">\n",
       "      <th></th>\n",
       "      <th>hex_id_8</th>\n",
       "      <th>geometry</th>\n",
       "    </tr>\n",
       "  </thead>\n",
       "  <tbody>\n",
       "    <tr>\n",
       "      <th>0</th>\n",
       "      <td>8849aa7a57fffff</td>\n",
       "      <td>POLYGON ((-102.77560 20.23826, -102.77107 20.2...</td>\n",
       "    </tr>\n",
       "    <tr>\n",
       "      <th>1</th>\n",
       "      <td>8849aa7251fffff</td>\n",
       "      <td>POLYGON ((-102.94168 20.15981, -102.93716 20.1...</td>\n",
       "    </tr>\n",
       "  </tbody>\n",
       "</table>\n",
       "</div>"
      ],
      "text/plain": [
       "          hex_id_8                                           geometry\n",
       "0  8849aa7a57fffff  POLYGON ((-102.77560 20.23826, -102.77107 20.2...\n",
       "1  8849aa7251fffff  POLYGON ((-102.94168 20.15981, -102.93716 20.1..."
      ]
     },
     "execution_count": 23,
     "metadata": {},
     "output_type": "execute_result"
    }
   ],
   "source": [
    "# ------------------------------ CREATION OF AREA OF INTEREST ------------------------------\n",
    "# Create city area of interest with biggest hexs\n",
    "big_res = min(res)\n",
    "\n",
    "poly = mun_gdf.to_crs(projection_crs).buffer(500).reset_index()\n",
    "poly = poly.rename(columns={0:'geometry'})\n",
    "poly = gpd.GeoDataFrame(poly, geometry='geometry')\n",
    "poly = poly.to_crs(\"EPSG:4326\")\n",
    "hex_city = aup.create_hexgrid(poly, big_res)\n",
    "\n",
    "print(f'Created {len(hex_city)} hexagon features')\n",
    "\n",
    "#Review result\n",
    "print(hex_city.shape)\n",
    "hex_city.head(2)"
   ]
  },
  {
   "cell_type": "markdown",
   "id": "c0678877-2a42-47ce-b884-da2f33c789f6",
   "metadata": {},
   "source": [
    "### Main function - Download and proccess rasters"
   ]
  },
  {
   "cell_type": "code",
   "execution_count": 24,
   "id": "821e4b68-439d-4e2a-b1f3-bc88bc8936f0",
   "metadata": {
    "tags": []
   },
   "outputs": [
    {
     "ename": "ValueError",
     "evalue": "Cannot set a DataFrame with multiple columns to the single column year",
     "output_type": "error",
     "traceback": [
      "\u001b[0;31m---------------------------------------------------------------------------\u001b[0m",
      "\u001b[0;31mValueError\u001b[0m                                Traceback (most recent call last)",
      "\u001b[0;32m/tmp/ipykernel_59203/2569104039.py\u001b[0m in \u001b[0;36m?\u001b[0;34m()\u001b[0m\n\u001b[0;32m----> 5\u001b[0;31m \u001b[0;31m#download_raster_from_pc(gdf, index_analysis, city, freq, start_date, end_date,\u001b[0m\u001b[0;34m\u001b[0m\u001b[0;34m\u001b[0m\u001b[0m\n\u001b[0m\u001b[1;32m      6\u001b[0m \u001b[0;31m#                        tmp_dir, band_name_dict, query={}, satellite=\"sentinel-2-l2a\",\u001b[0m\u001b[0;34m\u001b[0m\u001b[0;34m\u001b[0m\u001b[0m\n\u001b[1;32m      7\u001b[0m \u001b[0;31m#                        projection_crs=\"EPSG:6372\", compute_unavailable_dates=True):\u001b[0m\u001b[0;34m\u001b[0m\u001b[0;34m\u001b[0m\u001b[0m\n\u001b[1;32m      8\u001b[0m \u001b[0;34m\u001b[0m\u001b[0m\n",
      "\u001b[0;32m~/accesibilidad-urbana/aup/raster.py\u001b[0m in \u001b[0;36m?\u001b[0;34m(gdf, index_analysis, city, freq, start_date, end_date, tmp_dir, band_name_dict, query, satellite, projection_crs, compute_unavailable_dates)\u001b[0m\n\u001b[1;32m    109\u001b[0m     }\n\u001b[1;32m    110\u001b[0m \u001b[0;34m\u001b[0m\u001b[0m\n\u001b[1;32m    111\u001b[0m     \u001b[0;31m# Create time of interest (Creates a list for all to-be-analysed-months with structure [start_day/end_day,(...)])\u001b[0m\u001b[0;34m\u001b[0m\u001b[0;34m\u001b[0m\u001b[0m\n\u001b[1;32m    112\u001b[0m     \u001b[0mlog\u001b[0m\u001b[0;34m(\u001b[0m\u001b[0;34m'Defining time of interest'\u001b[0m\u001b[0;34m)\u001b[0m\u001b[0;34m\u001b[0m\u001b[0;34m\u001b[0m\u001b[0m\n\u001b[0;32m--> 113\u001b[0;31m     \u001b[0mtime_of_interest\u001b[0m \u001b[0;34m=\u001b[0m \u001b[0mcreate_time_of_interest\u001b[0m\u001b[0;34m(\u001b[0m\u001b[0mstart_date\u001b[0m\u001b[0;34m,\u001b[0m \u001b[0mend_date\u001b[0m\u001b[0;34m,\u001b[0m \u001b[0mfreq\u001b[0m\u001b[0;34m=\u001b[0m\u001b[0mfreq\u001b[0m\u001b[0;34m)\u001b[0m\u001b[0;34m\u001b[0m\u001b[0;34m\u001b[0m\u001b[0m\n\u001b[0m\u001b[1;32m    114\u001b[0m     \u001b[0;31m# Gather items for time and area of interest (Creates of list of available image items)\u001b[0m\u001b[0;34m\u001b[0m\u001b[0;34m\u001b[0m\u001b[0m\n\u001b[1;32m    115\u001b[0m     \u001b[0mlog\u001b[0m\u001b[0;34m(\u001b[0m\u001b[0;34m'Gathering items for time and area of interest'\u001b[0m\u001b[0;34m)\u001b[0m\u001b[0;34m\u001b[0m\u001b[0;34m\u001b[0m\u001b[0m\n\u001b[1;32m    116\u001b[0m     \u001b[0mitems\u001b[0m \u001b[0;34m=\u001b[0m \u001b[0mgather_items\u001b[0m\u001b[0;34m(\u001b[0m\u001b[0mtime_of_interest\u001b[0m\u001b[0;34m,\u001b[0m \u001b[0marea_of_interest\u001b[0m\u001b[0;34m,\u001b[0m \u001b[0mquery\u001b[0m\u001b[0;34m=\u001b[0m\u001b[0mquery\u001b[0m\u001b[0;34m,\u001b[0m \u001b[0msatellite\u001b[0m\u001b[0;34m=\u001b[0m\u001b[0msatellite\u001b[0m\u001b[0;34m)\u001b[0m\u001b[0;34m\u001b[0m\u001b[0;34m\u001b[0m\u001b[0m\n",
      "\u001b[0;32m~/accesibilidad-urbana/aup/raster.py\u001b[0m in \u001b[0;36m?\u001b[0;34m(start_date, end_date, freq)\u001b[0m\n\u001b[1;32m    187\u001b[0m                                 \u001b[0mend\u001b[0m \u001b[0;34m=\u001b[0m \u001b[0mend_date\u001b[0m\u001b[0;34m,\u001b[0m\u001b[0;34m\u001b[0m\u001b[0;34m\u001b[0m\u001b[0m\n\u001b[1;32m    188\u001b[0m                                 freq = freq)\n\u001b[1;32m    189\u001b[0m     \u001b[0;31m# extract month and year from date\u001b[0m\u001b[0;34m\u001b[0m\u001b[0;34m\u001b[0m\u001b[0m\n\u001b[1;32m    190\u001b[0m     \u001b[0mdf_tmp_dates\u001b[0m\u001b[0;34m[\u001b[0m\u001b[0;34m'month'\u001b[0m\u001b[0;34m]\u001b[0m \u001b[0;34m=\u001b[0m \u001b[0mdf_tmp_dates\u001b[0m\u001b[0;34m.\u001b[0m\u001b[0mapply\u001b[0m\u001b[0;34m(\u001b[0m\u001b[0;32mlambda\u001b[0m \u001b[0mrow\u001b[0m\u001b[0;34m:\u001b[0m \u001b[0mrow\u001b[0m\u001b[0;34m[\u001b[0m\u001b[0;34m'date'\u001b[0m\u001b[0;34m]\u001b[0m\u001b[0;34m.\u001b[0m\u001b[0mmonth\u001b[0m\u001b[0;34m,\u001b[0m \u001b[0maxis\u001b[0m\u001b[0;34m=\u001b[0m\u001b[0;36m1\u001b[0m\u001b[0;34m)\u001b[0m\u001b[0;34m\u001b[0m\u001b[0;34m\u001b[0m\u001b[0m\n\u001b[0;32m--> 191\u001b[0;31m     \u001b[0mdf_tmp_dates\u001b[0m\u001b[0;34m[\u001b[0m\u001b[0;34m'year'\u001b[0m\u001b[0;34m]\u001b[0m \u001b[0;34m=\u001b[0m \u001b[0mdf_tmp_dates\u001b[0m\u001b[0;34m.\u001b[0m\u001b[0mapply\u001b[0m\u001b[0;34m(\u001b[0m\u001b[0;32mlambda\u001b[0m \u001b[0mrow\u001b[0m\u001b[0;34m:\u001b[0m \u001b[0mrow\u001b[0m\u001b[0;34m[\u001b[0m\u001b[0;34m'date'\u001b[0m\u001b[0;34m]\u001b[0m\u001b[0;34m.\u001b[0m\u001b[0myear\u001b[0m\u001b[0;34m,\u001b[0m \u001b[0maxis\u001b[0m\u001b[0;34m=\u001b[0m\u001b[0;36m1\u001b[0m\u001b[0;34m)\u001b[0m\u001b[0;34m\u001b[0m\u001b[0;34m\u001b[0m\u001b[0m\n\u001b[0m\u001b[1;32m    192\u001b[0m \u001b[0;34m\u001b[0m\u001b[0m\n\u001b[1;32m    193\u001b[0m     \u001b[0mtime_of_interest\u001b[0m \u001b[0;34m=\u001b[0m \u001b[0;34m[\u001b[0m\u001b[0;34m]\u001b[0m\u001b[0;34m\u001b[0m\u001b[0;34m\u001b[0m\u001b[0m\n\u001b[1;32m    194\u001b[0m \u001b[0;34m\u001b[0m\u001b[0m\n",
      "\u001b[0;32m/opt/conda/envs/gds/lib/python3.9/site-packages/pandas/core/frame.py\u001b[0m in \u001b[0;36m?\u001b[0;34m(self, key, value)\u001b[0m\n\u001b[1;32m   3945\u001b[0m             \u001b[0mself\u001b[0m\u001b[0;34m.\u001b[0m\u001b[0m_setitem_frame\u001b[0m\u001b[0;34m(\u001b[0m\u001b[0mkey\u001b[0m\u001b[0;34m,\u001b[0m \u001b[0mvalue\u001b[0m\u001b[0;34m)\u001b[0m\u001b[0;34m\u001b[0m\u001b[0;34m\u001b[0m\u001b[0m\n\u001b[1;32m   3946\u001b[0m         \u001b[0;32melif\u001b[0m \u001b[0misinstance\u001b[0m\u001b[0;34m(\u001b[0m\u001b[0mkey\u001b[0m\u001b[0;34m,\u001b[0m \u001b[0;34m(\u001b[0m\u001b[0mSeries\u001b[0m\u001b[0;34m,\u001b[0m \u001b[0mnp\u001b[0m\u001b[0;34m.\u001b[0m\u001b[0mndarray\u001b[0m\u001b[0;34m,\u001b[0m \u001b[0mlist\u001b[0m\u001b[0;34m,\u001b[0m \u001b[0mIndex\u001b[0m\u001b[0;34m)\u001b[0m\u001b[0;34m)\u001b[0m\u001b[0;34m:\u001b[0m\u001b[0;34m\u001b[0m\u001b[0;34m\u001b[0m\u001b[0m\n\u001b[1;32m   3947\u001b[0m             \u001b[0mself\u001b[0m\u001b[0;34m.\u001b[0m\u001b[0m_setitem_array\u001b[0m\u001b[0;34m(\u001b[0m\u001b[0mkey\u001b[0m\u001b[0;34m,\u001b[0m \u001b[0mvalue\u001b[0m\u001b[0;34m)\u001b[0m\u001b[0;34m\u001b[0m\u001b[0;34m\u001b[0m\u001b[0m\n\u001b[1;32m   3948\u001b[0m         \u001b[0;32melif\u001b[0m \u001b[0misinstance\u001b[0m\u001b[0;34m(\u001b[0m\u001b[0mvalue\u001b[0m\u001b[0;34m,\u001b[0m \u001b[0mDataFrame\u001b[0m\u001b[0;34m)\u001b[0m\u001b[0;34m:\u001b[0m\u001b[0;34m\u001b[0m\u001b[0;34m\u001b[0m\u001b[0m\n\u001b[0;32m-> 3949\u001b[0;31m             \u001b[0mself\u001b[0m\u001b[0;34m.\u001b[0m\u001b[0m_set_item_frame_value\u001b[0m\u001b[0;34m(\u001b[0m\u001b[0mkey\u001b[0m\u001b[0;34m,\u001b[0m \u001b[0mvalue\u001b[0m\u001b[0;34m)\u001b[0m\u001b[0;34m\u001b[0m\u001b[0;34m\u001b[0m\u001b[0m\n\u001b[0m\u001b[1;32m   3950\u001b[0m         elif (\n\u001b[1;32m   3951\u001b[0m             \u001b[0mis_list_like\u001b[0m\u001b[0;34m(\u001b[0m\u001b[0mvalue\u001b[0m\u001b[0;34m)\u001b[0m\u001b[0;34m\u001b[0m\u001b[0;34m\u001b[0m\u001b[0m\n\u001b[1;32m   3952\u001b[0m             \u001b[0;32mand\u001b[0m \u001b[0;32mnot\u001b[0m \u001b[0mself\u001b[0m\u001b[0;34m.\u001b[0m\u001b[0mcolumns\u001b[0m\u001b[0;34m.\u001b[0m\u001b[0mis_unique\u001b[0m\u001b[0;34m\u001b[0m\u001b[0;34m\u001b[0m\u001b[0m\n",
      "\u001b[0;32m/opt/conda/envs/gds/lib/python3.9/site-packages/pandas/core/frame.py\u001b[0m in \u001b[0;36m?\u001b[0;34m(self, key, value)\u001b[0m\n\u001b[1;32m   4099\u001b[0m             \u001b[0mself\u001b[0m\u001b[0;34m.\u001b[0m\u001b[0m_set_item_mgr\u001b[0m\u001b[0;34m(\u001b[0m\u001b[0mkey\u001b[0m\u001b[0;34m,\u001b[0m \u001b[0marraylike\u001b[0m\u001b[0;34m)\u001b[0m\u001b[0;34m\u001b[0m\u001b[0;34m\u001b[0m\u001b[0m\n\u001b[1;32m   4100\u001b[0m             \u001b[0;32mreturn\u001b[0m\u001b[0;34m\u001b[0m\u001b[0;34m\u001b[0m\u001b[0m\n\u001b[1;32m   4101\u001b[0m \u001b[0;34m\u001b[0m\u001b[0m\n\u001b[1;32m   4102\u001b[0m         \u001b[0;32mif\u001b[0m \u001b[0mlen\u001b[0m\u001b[0;34m(\u001b[0m\u001b[0mvalue\u001b[0m\u001b[0;34m.\u001b[0m\u001b[0mcolumns\u001b[0m\u001b[0;34m)\u001b[0m \u001b[0;34m!=\u001b[0m \u001b[0;36m1\u001b[0m\u001b[0;34m:\u001b[0m\u001b[0;34m\u001b[0m\u001b[0;34m\u001b[0m\u001b[0m\n\u001b[0;32m-> 4103\u001b[0;31m             raise ValueError(\n\u001b[0m\u001b[1;32m   4104\u001b[0m                 \u001b[0;34m\"Cannot set a DataFrame with multiple columns to the single \"\u001b[0m\u001b[0;34m\u001b[0m\u001b[0;34m\u001b[0m\u001b[0m\n\u001b[1;32m   4105\u001b[0m                 \u001b[0;34mf\"column {key}\"\u001b[0m\u001b[0;34m\u001b[0m\u001b[0;34m\u001b[0m\u001b[0m\n\u001b[1;32m   4106\u001b[0m             )\n",
      "\u001b[0;31mValueError\u001b[0m: Cannot set a DataFrame with multiple columns to the single column year"
     ]
    }
   ],
   "source": [
    "#download_raster_from_pc(gdf, index_analysis, city, freq, start_date, end_date, \n",
    "#                        tmp_dir, band_name_dict, query={}, satellite=\"sentinel-2-l2a\",\n",
    "#                        projection_crs=\"EPSG:6372\", compute_unavailable_dates=True):\n",
    "\n",
    "df_len = aup.download_raster_from_pc(hex_city, index_analysis, city, freq, \n",
    "                                     start_date, end_date, tmp_dir, band_name_dict, \n",
    "                                     satellite=satellite, query={\"eo:cloud_cover\": {\"lt\": 20}}, projection_crs=projection_crs)"
   ]
  },
  {
   "cell_type": "markdown",
   "id": "3a80e0b8-eb53-4916-8178-5dcc07e8cbbb",
   "metadata": {
    "tags": []
   },
   "source": [
    "### Debuging / reviewing function download_raster_from_pc()"
   ]
  },
  {
   "cell_type": "code",
   "execution_count": 111,
   "id": "a4bdb8bd-39b8-46c1-ba68-860b70e39ca3",
   "metadata": {
    "tags": []
   },
   "outputs": [],
   "source": [
    "#download_raster_from_pc(gdf, index_analysis, city, freq, start_date, end_date, tmp_dir, band_name_dict, query={}, satellite=\"sentinel-2-l2a\",\n",
    "# projection_crs=\"EPSG:6372\", compute_unavailable_dates=True)\n",
    "gdf = hex_city.copy()\n",
    "query = sat_query\n",
    "compute_unavailable_dates = True"
   ]
  },
  {
   "cell_type": "code",
   "execution_count": 78,
   "id": "7468c33e-5867-4d8d-b123-81b033e76c78",
   "metadata": {
    "tags": []
   },
   "outputs": [
    {
     "name": "stdout",
     "output_type": "stream",
     "text": [
      "Extracting bounding coordinates from hexagons\n",
      "Defining time of interest\n"
     ]
    },
    {
     "ename": "ValueError",
     "evalue": "Cannot set a DataFrame with multiple columns to the single column year",
     "output_type": "error",
     "traceback": [
      "\u001b[0;31m---------------------------------------------------------------------------\u001b[0m",
      "\u001b[0;31mValueError\u001b[0m                                Traceback (most recent call last)",
      "\u001b[0;32m/tmp/ipykernel_59203/3738156278.py\u001b[0m in \u001b[0;36m?\u001b[0;34m()\u001b[0m\n\u001b[0;32m---> 30\u001b[0;31m \u001b[0;31m# create area of interest coordinates from hexagons to download raster data\u001b[0m\u001b[0;34m\u001b[0m\u001b[0;34m\u001b[0m\u001b[0m\n\u001b[0m\u001b[1;32m     31\u001b[0m \u001b[0mprint\u001b[0m\u001b[0;34m(\u001b[0m\u001b[0;34m'Extracting bounding coordinates from hexagons'\u001b[0m\u001b[0;34m)\u001b[0m\u001b[0;34m\u001b[0m\u001b[0;34m\u001b[0m\u001b[0m\n\u001b[1;32m     32\u001b[0m \u001b[0;31m# Create buffer around hexagons\u001b[0m\u001b[0;34m\u001b[0m\u001b[0;34m\u001b[0m\u001b[0m\n\u001b[1;32m     33\u001b[0m \u001b[0mpoly\u001b[0m \u001b[0;34m=\u001b[0m \u001b[0mgdf\u001b[0m\u001b[0;34m.\u001b[0m\u001b[0mto_crs\u001b[0m\u001b[0;34m(\u001b[0m\u001b[0mprojection_crs\u001b[0m\u001b[0;34m)\u001b[0m\u001b[0;34m.\u001b[0m\u001b[0mbuffer\u001b[0m\u001b[0;34m(\u001b[0m\u001b[0;36m500\u001b[0m\u001b[0;34m)\u001b[0m\u001b[0;34m\u001b[0m\u001b[0;34m\u001b[0m\u001b[0m\n",
      "\u001b[0;32m~/accesibilidad-urbana/aup/raster.py\u001b[0m in \u001b[0;36m?\u001b[0;34m(start_date, end_date, freq)\u001b[0m\n\u001b[1;32m    187\u001b[0m                                 \u001b[0mend\u001b[0m \u001b[0;34m=\u001b[0m \u001b[0mend_date\u001b[0m\u001b[0;34m,\u001b[0m\u001b[0;34m\u001b[0m\u001b[0;34m\u001b[0m\u001b[0m\n\u001b[1;32m    188\u001b[0m                                 freq = freq)\n\u001b[1;32m    189\u001b[0m     \u001b[0;31m# extract month and year from date\u001b[0m\u001b[0;34m\u001b[0m\u001b[0;34m\u001b[0m\u001b[0m\n\u001b[1;32m    190\u001b[0m     \u001b[0mdf_tmp_dates\u001b[0m\u001b[0;34m[\u001b[0m\u001b[0;34m'month'\u001b[0m\u001b[0;34m]\u001b[0m \u001b[0;34m=\u001b[0m \u001b[0mdf_tmp_dates\u001b[0m\u001b[0;34m.\u001b[0m\u001b[0mapply\u001b[0m\u001b[0;34m(\u001b[0m\u001b[0;32mlambda\u001b[0m \u001b[0mrow\u001b[0m\u001b[0;34m:\u001b[0m \u001b[0mrow\u001b[0m\u001b[0;34m[\u001b[0m\u001b[0;34m'date'\u001b[0m\u001b[0;34m]\u001b[0m\u001b[0;34m.\u001b[0m\u001b[0mmonth\u001b[0m\u001b[0;34m,\u001b[0m \u001b[0maxis\u001b[0m\u001b[0;34m=\u001b[0m\u001b[0;36m1\u001b[0m\u001b[0;34m)\u001b[0m\u001b[0;34m\u001b[0m\u001b[0;34m\u001b[0m\u001b[0m\n\u001b[0;32m--> 191\u001b[0;31m     \u001b[0mdf_tmp_dates\u001b[0m\u001b[0;34m[\u001b[0m\u001b[0;34m'year'\u001b[0m\u001b[0;34m]\u001b[0m \u001b[0;34m=\u001b[0m \u001b[0mdf_tmp_dates\u001b[0m\u001b[0;34m.\u001b[0m\u001b[0mapply\u001b[0m\u001b[0;34m(\u001b[0m\u001b[0;32mlambda\u001b[0m \u001b[0mrow\u001b[0m\u001b[0;34m:\u001b[0m \u001b[0mrow\u001b[0m\u001b[0;34m[\u001b[0m\u001b[0;34m'date'\u001b[0m\u001b[0;34m]\u001b[0m\u001b[0;34m.\u001b[0m\u001b[0myear\u001b[0m\u001b[0;34m,\u001b[0m \u001b[0maxis\u001b[0m\u001b[0;34m=\u001b[0m\u001b[0;36m1\u001b[0m\u001b[0;34m)\u001b[0m\u001b[0;34m\u001b[0m\u001b[0;34m\u001b[0m\u001b[0m\n\u001b[0m\u001b[1;32m    192\u001b[0m \u001b[0;34m\u001b[0m\u001b[0m\n\u001b[1;32m    193\u001b[0m     \u001b[0mtime_of_interest\u001b[0m \u001b[0;34m=\u001b[0m \u001b[0;34m[\u001b[0m\u001b[0;34m]\u001b[0m\u001b[0;34m\u001b[0m\u001b[0;34m\u001b[0m\u001b[0m\n\u001b[1;32m    194\u001b[0m \u001b[0;34m\u001b[0m\u001b[0m\n",
      "\u001b[0;32m/opt/conda/envs/gds/lib/python3.9/site-packages/pandas/core/frame.py\u001b[0m in \u001b[0;36m?\u001b[0;34m(self, key, value)\u001b[0m\n\u001b[1;32m   3945\u001b[0m             \u001b[0mself\u001b[0m\u001b[0;34m.\u001b[0m\u001b[0m_setitem_frame\u001b[0m\u001b[0;34m(\u001b[0m\u001b[0mkey\u001b[0m\u001b[0;34m,\u001b[0m \u001b[0mvalue\u001b[0m\u001b[0;34m)\u001b[0m\u001b[0;34m\u001b[0m\u001b[0;34m\u001b[0m\u001b[0m\n\u001b[1;32m   3946\u001b[0m         \u001b[0;32melif\u001b[0m \u001b[0misinstance\u001b[0m\u001b[0;34m(\u001b[0m\u001b[0mkey\u001b[0m\u001b[0;34m,\u001b[0m \u001b[0;34m(\u001b[0m\u001b[0mSeries\u001b[0m\u001b[0;34m,\u001b[0m \u001b[0mnp\u001b[0m\u001b[0;34m.\u001b[0m\u001b[0mndarray\u001b[0m\u001b[0;34m,\u001b[0m \u001b[0mlist\u001b[0m\u001b[0;34m,\u001b[0m \u001b[0mIndex\u001b[0m\u001b[0;34m)\u001b[0m\u001b[0;34m)\u001b[0m\u001b[0;34m:\u001b[0m\u001b[0;34m\u001b[0m\u001b[0;34m\u001b[0m\u001b[0m\n\u001b[1;32m   3947\u001b[0m             \u001b[0mself\u001b[0m\u001b[0;34m.\u001b[0m\u001b[0m_setitem_array\u001b[0m\u001b[0;34m(\u001b[0m\u001b[0mkey\u001b[0m\u001b[0;34m,\u001b[0m \u001b[0mvalue\u001b[0m\u001b[0;34m)\u001b[0m\u001b[0;34m\u001b[0m\u001b[0;34m\u001b[0m\u001b[0m\n\u001b[1;32m   3948\u001b[0m         \u001b[0;32melif\u001b[0m \u001b[0misinstance\u001b[0m\u001b[0;34m(\u001b[0m\u001b[0mvalue\u001b[0m\u001b[0;34m,\u001b[0m \u001b[0mDataFrame\u001b[0m\u001b[0;34m)\u001b[0m\u001b[0;34m:\u001b[0m\u001b[0;34m\u001b[0m\u001b[0;34m\u001b[0m\u001b[0m\n\u001b[0;32m-> 3949\u001b[0;31m             \u001b[0mself\u001b[0m\u001b[0;34m.\u001b[0m\u001b[0m_set_item_frame_value\u001b[0m\u001b[0;34m(\u001b[0m\u001b[0mkey\u001b[0m\u001b[0;34m,\u001b[0m \u001b[0mvalue\u001b[0m\u001b[0;34m)\u001b[0m\u001b[0;34m\u001b[0m\u001b[0;34m\u001b[0m\u001b[0m\n\u001b[0m\u001b[1;32m   3950\u001b[0m         elif (\n\u001b[1;32m   3951\u001b[0m             \u001b[0mis_list_like\u001b[0m\u001b[0;34m(\u001b[0m\u001b[0mvalue\u001b[0m\u001b[0;34m)\u001b[0m\u001b[0;34m\u001b[0m\u001b[0;34m\u001b[0m\u001b[0m\n\u001b[1;32m   3952\u001b[0m             \u001b[0;32mand\u001b[0m \u001b[0;32mnot\u001b[0m \u001b[0mself\u001b[0m\u001b[0;34m.\u001b[0m\u001b[0mcolumns\u001b[0m\u001b[0;34m.\u001b[0m\u001b[0mis_unique\u001b[0m\u001b[0;34m\u001b[0m\u001b[0;34m\u001b[0m\u001b[0m\n",
      "\u001b[0;32m/opt/conda/envs/gds/lib/python3.9/site-packages/pandas/core/frame.py\u001b[0m in \u001b[0;36m?\u001b[0;34m(self, key, value)\u001b[0m\n\u001b[1;32m   4099\u001b[0m             \u001b[0mself\u001b[0m\u001b[0;34m.\u001b[0m\u001b[0m_set_item_mgr\u001b[0m\u001b[0;34m(\u001b[0m\u001b[0mkey\u001b[0m\u001b[0;34m,\u001b[0m \u001b[0marraylike\u001b[0m\u001b[0;34m)\u001b[0m\u001b[0;34m\u001b[0m\u001b[0;34m\u001b[0m\u001b[0m\n\u001b[1;32m   4100\u001b[0m             \u001b[0;32mreturn\u001b[0m\u001b[0;34m\u001b[0m\u001b[0;34m\u001b[0m\u001b[0m\n\u001b[1;32m   4101\u001b[0m \u001b[0;34m\u001b[0m\u001b[0m\n\u001b[1;32m   4102\u001b[0m         \u001b[0;32mif\u001b[0m \u001b[0mlen\u001b[0m\u001b[0;34m(\u001b[0m\u001b[0mvalue\u001b[0m\u001b[0;34m.\u001b[0m\u001b[0mcolumns\u001b[0m\u001b[0;34m)\u001b[0m \u001b[0;34m!=\u001b[0m \u001b[0;36m1\u001b[0m\u001b[0;34m:\u001b[0m\u001b[0;34m\u001b[0m\u001b[0;34m\u001b[0m\u001b[0m\n\u001b[0;32m-> 4103\u001b[0;31m             raise ValueError(\n\u001b[0m\u001b[1;32m   4104\u001b[0m                 \u001b[0;34m\"Cannot set a DataFrame with multiple columns to the single \"\u001b[0m\u001b[0;34m\u001b[0m\u001b[0;34m\u001b[0m\u001b[0m\n\u001b[1;32m   4105\u001b[0m                 \u001b[0;34mf\"column {key}\"\u001b[0m\u001b[0;34m\u001b[0m\u001b[0;34m\u001b[0m\u001b[0m\n\u001b[1;32m   4106\u001b[0m             )\n",
      "\u001b[0;31mValueError\u001b[0m: Cannot set a DataFrame with multiple columns to the single column year"
     ]
    }
   ],
   "source": [
    "# create area of interest coordinates from hexagons to download raster data    \n",
    "print('Extracting bounding coordinates from hexagons')\n",
    "# Create buffer around hexagons\n",
    "poly = gdf.to_crs(projection_crs).buffer(500)\n",
    "poly = poly.to_crs(\"EPSG:4326\")\n",
    "poly = gpd.GeoDataFrame(geometry=poly).dissolve().geometry\n",
    "# Extracts coordinates from polygon as DataFrame\n",
    "coord_val = poly.bounds\n",
    "# Gets coordinates for bounding box\n",
    "n = coord_val.maxy.max()\n",
    "s = coord_val.miny.min()\n",
    "e = coord_val.maxx.max()\n",
    "w = coord_val.minx.min()\n",
    "# Sets the coordinates for the area of interest\n",
    "area_of_interest = {\n",
    "    \"type\": \"Polygon\",\n",
    "    \"coordinates\": [\n",
    "        [\n",
    "            [e, s],\n",
    "            [w, s],\n",
    "            [w, n],\n",
    "            [e, n],\n",
    "            [e, s],\n",
    "        ]\n",
    "    ],\n",
    "}\n",
    "\n",
    "# create time of interest\n",
    "print('Defining time of interest')\n",
    "time_of_interest = aup.create_time_of_interest(start_date, end_date, freq=freq)"
   ]
  },
  {
   "cell_type": "markdown",
   "id": "f0545448-7fa6-4941-a24d-1cfc942afbdd",
   "metadata": {
    "collapsed": true,
    "jp-MarkdownHeadingCollapsed": true,
    "jupyter": {
     "outputs_hidden": true
    },
    "tags": []
   },
   "source": [
    "#### Debugging / reviewing function create_time_of_interest() STARTS"
   ]
  },
  {
   "cell_type": "code",
   "execution_count": 72,
   "id": "c6e2be66-5c05-4b27-99f0-dd475bd8f519",
   "metadata": {},
   "outputs": [],
   "source": [
    "from datetime import datetime\n",
    "from dateutil.relativedelta import relativedelta"
   ]
  },
  {
   "cell_type": "code",
   "execution_count": 55,
   "id": "d76e5fb8-c7ea-4265-bafc-b2bfabd0f05c",
   "metadata": {},
   "outputs": [],
   "source": [
    "start_date = '2024-09-16'\n",
    "end_date = '2024-09-19'"
   ]
  },
  {
   "cell_type": "code",
   "execution_count": 56,
   "id": "185252b3-68be-4e79-aa10-c0b8bb5e4855",
   "metadata": {},
   "outputs": [
    {
     "data": {
      "text/html": [
       "<div>\n",
       "<style scoped>\n",
       "    .dataframe tbody tr th:only-of-type {\n",
       "        vertical-align: middle;\n",
       "    }\n",
       "\n",
       "    .dataframe tbody tr th {\n",
       "        vertical-align: top;\n",
       "    }\n",
       "\n",
       "    .dataframe thead th {\n",
       "        text-align: right;\n",
       "    }\n",
       "</style>\n",
       "<table border=\"1\" class=\"dataframe\">\n",
       "  <thead>\n",
       "    <tr style=\"text-align: right;\">\n",
       "      <th></th>\n",
       "      <th>date</th>\n",
       "    </tr>\n",
       "  </thead>\n",
       "  <tbody>\n",
       "  </tbody>\n",
       "</table>\n",
       "</div>"
      ],
      "text/plain": [
       "Empty DataFrame\n",
       "Columns: [date]\n",
       "Index: []"
      ]
     },
     "execution_count": 56,
     "metadata": {},
     "output_type": "execute_result"
    }
   ],
   "source": [
    "# def create_time_of_interest(start_date, end_date, freq='MS'):\n",
    "df_tmp_dates = pd.DataFrame() # temporary date dataframe\n",
    "df_tmp_dates['date'] = pd.date_range(start = start_date,   \n",
    "                                     end = end_date, \n",
    "                                     freq = freq)\n",
    "\n",
    "df_tmp_dates"
   ]
  },
  {
   "cell_type": "code",
   "execution_count": 66,
   "id": "4c9f55b1-6244-4171-be17-3b308be11438",
   "metadata": {},
   "outputs": [
    {
     "data": {
      "text/plain": [
       "DatetimeIndex(['2024-09-01'], dtype='datetime64[ns]', freq='MS')"
      ]
     },
     "execution_count": 66,
     "metadata": {},
     "output_type": "execute_result"
    }
   ],
   "source": [
    "start_date = '2024-09-01'\n",
    "end_date = '2024-09-19'\n",
    "freq = 'MS'\n",
    "\n",
    "pd.date_range(start = start_date, end = end_date, freq = freq)"
   ]
  },
  {
   "cell_type": "code",
   "execution_count": 67,
   "id": "a04125a3-c83e-448b-bc4c-9ce39fcc0614",
   "metadata": {},
   "outputs": [
    {
     "data": {
      "text/plain": [
       "DatetimeIndex([], dtype='datetime64[ns]', freq='MS')"
      ]
     },
     "execution_count": 67,
     "metadata": {},
     "output_type": "execute_result"
    }
   ],
   "source": [
    "start_date = '2024-09-02'\n",
    "end_date = '2024-09-19'\n",
    "freq = 'MS'\n",
    "\n",
    "pd.date_range(start = start_date, end = end_date, freq = freq)"
   ]
  },
  {
   "cell_type": "code",
   "execution_count": 68,
   "id": "15568e71-f7df-48b8-a3a4-76e32a08f75a",
   "metadata": {},
   "outputs": [
    {
     "data": {
      "text/plain": [
       "DatetimeIndex(['2024-09-02', '2024-09-03', '2024-09-04', '2024-09-05',\n",
       "               '2024-09-06', '2024-09-07', '2024-09-08', '2024-09-09',\n",
       "               '2024-09-10', '2024-09-11', '2024-09-12', '2024-09-13',\n",
       "               '2024-09-14', '2024-09-15', '2024-09-16', '2024-09-17',\n",
       "               '2024-09-18', '2024-09-19'],\n",
       "              dtype='datetime64[ns]', freq='D')"
      ]
     },
     "execution_count": 68,
     "metadata": {},
     "output_type": "execute_result"
    }
   ],
   "source": [
    "start_date = '2024-09-02'\n",
    "end_date = '2024-09-19'\n",
    "freq = 'D'\n",
    "\n",
    "pd.date_range(start = start_date, end = end_date, freq = freq)"
   ]
  },
  {
   "cell_type": "code",
   "execution_count": 74,
   "id": "7c9814f9-d21f-4763-a339-2e06bc2e738f",
   "metadata": {},
   "outputs": [
    {
     "data": {
      "text/plain": [
       "['2024-09-01/2024-09-30',\n",
       " '2024-09-01/2024-09-30',\n",
       " '2024-09-01/2024-09-30',\n",
       " '2024-09-01/2024-09-30']"
      ]
     },
     "execution_count": 74,
     "metadata": {},
     "output_type": "execute_result"
    }
   ],
   "source": [
    "#####\n",
    "start_date = '2024-09-16'\n",
    "end_date = '2024-09-19'\n",
    "freq = 'D'\n",
    "#####\n",
    "\n",
    "df_tmp_dates = pd.DataFrame() # temporary date dataframe\n",
    "df_tmp_dates['date'] = pd.date_range(start = start_date,   \n",
    "                            end = end_date, \n",
    "                            freq = freq)\n",
    "# extract month and year from date\n",
    "df_tmp_dates['month'] = df_tmp_dates.apply(lambda row: row['date'].month, axis=1)\n",
    "df_tmp_dates['year'] = df_tmp_dates.apply(lambda row: row['date'].year, axis=1)\n",
    "\n",
    "time_of_interest = []\n",
    "\n",
    "# create a time range by month\n",
    "for d in range(len(df_tmp_dates)):\n",
    "    \n",
    "    month = df_tmp_dates.loc[df_tmp_dates.index==d].month.values[0]\n",
    "    year = df_tmp_dates.loc[df_tmp_dates.index==d].year.values[0]\n",
    "\n",
    "    sample_date = datetime(year, month, 1)\n",
    "    first_day = sample_date + relativedelta(day=1) # first day of the month\n",
    "    last_day = sample_date + relativedelta(day=31) # last day of the month\n",
    "\n",
    "    # append time range to time of interest list with planetary computer format\n",
    "    time_of_interest.append(f\"{year}-{month:02d}-{first_day.day:02d}/{year}\"+\n",
    "                            f\"-{month:02d}-{last_day.day:02d}\")\n",
    "\n",
    "time_of_interest"
   ]
  },
  {
   "cell_type": "markdown",
   "id": "62777971-3448-4439-a3ca-5689b4405370",
   "metadata": {},
   "source": [
    "#### __Specifying time_of_interest directly may solve the problem.__"
   ]
  },
  {
   "cell_type": "markdown",
   "id": "14e95c30-d018-448b-bc9b-20b23bbf7812",
   "metadata": {},
   "source": [
    "#### Debugging / reviewing function create_time_of_interest() ENDS"
   ]
  },
  {
   "cell_type": "code",
   "execution_count": 125,
   "id": "580cd55e-2982-49c3-aec7-d8a9bfada40c",
   "metadata": {},
   "outputs": [
    {
     "name": "stdout",
     "output_type": "stream",
     "text": [
      "{}\n",
      "sentinel-2-l2a\n"
     ]
    }
   ],
   "source": [
    "# 2024-09-18 was not available, so using 2024-09-03.\n",
    "time_of_interest = ['2024-09-02/2024-09-04']\n",
    "print(query)\n",
    "print(satellite)"
   ]
  },
  {
   "cell_type": "code",
   "execution_count": 108,
   "id": "7c0cfb37-a21a-484c-bc14-2762fdd5bcba",
   "metadata": {},
   "outputs": [
    {
     "name": "stdout",
     "output_type": "stream",
     "text": [
      "Gathering items for time and area of interest\n",
      "Fetched 2 items\n",
      "Checking available tiles for area of interest\n",
      "Created dictionary from items\n"
     ]
    }
   ],
   "source": [
    "# gathers items for time and area of interest\n",
    "print('Gathering items for time and area of interest')\n",
    "items = aup.gather_items(time_of_interest, area_of_interest, query=query, satellite=satellite)\n",
    "print(f'Fetched {len(items)} items')\n",
    "\n",
    "print('Checking available tiles for area of interest')\n",
    "date_list = aup.available_datasets(items, satellite,min_cloud_value=100)\n",
    "\n",
    "# create dictionary from links\n",
    "band_name_list = list(band_name_dict.keys())[:-1]\n",
    "assets_hrefs = aup.link_dict(band_name_list, items, date_list)\n",
    "print('Created dictionary from items')"
   ]
  },
  {
   "cell_type": "code",
   "execution_count": 115,
   "id": "00e5cf6c-29a2-4ccd-8e85-255c389a20e1",
   "metadata": {},
   "outputs": [
    {
     "data": {
      "text/plain": [
       "{datetime.date(2024, 9, 3): {'green': ['https://sentinel2l2a01.blob.core.windows.net/sentinel2-l2/13/Q/GC/2024/09/03/S2A_MSIL2A_20240903T171901_N0511_R012_T13QGC_20240903T235646.SAFE/GRANULE/L2A_T13QGC_A048057_20240903T173422/IMG_DATA/R10m/T13QGC_20240903T171901_B03_10m.tif?st=2024-09-25T18%3A34%3A32Z&se=2024-09-26T19%3A19%3A32Z&sp=rl&sv=2024-05-04&sr=c&skoid=9c8ff44a-6a2c-4dfb-b298-1c9212f64d9a&sktid=72f988bf-86f1-41af-91ab-2d7cd011db47&skt=2024-09-26T17%3A36%3A29Z&ske=2024-10-03T17%3A36%3A29Z&sks=b&skv=2024-05-04&sig=sB/wN44%2B5QxyKib/xve1FQmyjwA5MUB8KKglPEMHRlk%3D',\n",
       "   'https://sentinel2l2a01.blob.core.windows.net/sentinel2-l2/13/Q/FC/2024/09/03/S2A_MSIL2A_20240903T171901_N0511_R012_T13QFC_20240903T235646.SAFE/GRANULE/L2A_T13QFC_A048057_20240903T173422/IMG_DATA/R10m/T13QFC_20240903T171901_B03_10m.tif?st=2024-09-25T18%3A34%3A32Z&se=2024-09-26T19%3A19%3A32Z&sp=rl&sv=2024-05-04&sr=c&skoid=9c8ff44a-6a2c-4dfb-b298-1c9212f64d9a&sktid=72f988bf-86f1-41af-91ab-2d7cd011db47&skt=2024-09-26T17%3A36%3A29Z&ske=2024-10-03T17%3A36%3A29Z&sks=b&skv=2024-05-04&sig=sB/wN44%2B5QxyKib/xve1FQmyjwA5MUB8KKglPEMHRlk%3D'],\n",
       "  'nir': ['https://sentinel2l2a01.blob.core.windows.net/sentinel2-l2/13/Q/GC/2024/09/03/S2A_MSIL2A_20240903T171901_N0511_R012_T13QGC_20240903T235646.SAFE/GRANULE/L2A_T13QGC_A048057_20240903T173422/IMG_DATA/R10m/T13QGC_20240903T171901_B08_10m.tif?st=2024-09-25T18%3A34%3A32Z&se=2024-09-26T19%3A19%3A32Z&sp=rl&sv=2024-05-04&sr=c&skoid=9c8ff44a-6a2c-4dfb-b298-1c9212f64d9a&sktid=72f988bf-86f1-41af-91ab-2d7cd011db47&skt=2024-09-26T17%3A36%3A29Z&ske=2024-10-03T17%3A36%3A29Z&sks=b&skv=2024-05-04&sig=sB/wN44%2B5QxyKib/xve1FQmyjwA5MUB8KKglPEMHRlk%3D',\n",
       "   'https://sentinel2l2a01.blob.core.windows.net/sentinel2-l2/13/Q/FC/2024/09/03/S2A_MSIL2A_20240903T171901_N0511_R012_T13QFC_20240903T235646.SAFE/GRANULE/L2A_T13QFC_A048057_20240903T173422/IMG_DATA/R10m/T13QFC_20240903T171901_B08_10m.tif?st=2024-09-25T18%3A34%3A32Z&se=2024-09-26T19%3A19%3A32Z&sp=rl&sv=2024-05-04&sr=c&skoid=9c8ff44a-6a2c-4dfb-b298-1c9212f64d9a&sktid=72f988bf-86f1-41af-91ab-2d7cd011db47&skt=2024-09-26T17%3A36%3A29Z&ske=2024-10-03T17%3A36%3A29Z&sks=b&skv=2024-05-04&sig=sB/wN44%2B5QxyKib/xve1FQmyjwA5MUB8KKglPEMHRlk%3D']}}"
      ]
     },
     "execution_count": 115,
     "metadata": {},
     "output_type": "execute_result"
    }
   ],
   "source": [
    "assets_hrefs"
   ]
  },
  {
   "cell_type": "code",
   "execution_count": 126,
   "id": "8a59436b-ce43-4a0b-8759-4c349a7e9356",
   "metadata": {
    "tags": []
   },
   "outputs": [],
   "source": [
    "##### MODIFYING start_date AND end_date IN ORDER TO AVOID pd.date_range() PROBLEM INSIDE df_date_links()\n",
    "start_date = '2024-09-01'\n",
    "end_date = '2024-09-19'\n",
    "##### MODIFYING start_date AND end_date IN ORDER TO AVOID pd.date_range() PROBLEM INSIDE df_date_links()\n",
    "\n",
    "# analyze available data according to raster properties (Creates df_len for the first time)\n",
    "df_len, missing_months = aup.df_date_links(assets_hrefs, start_date, end_date, band_name_list, freq)\n",
    "if compute_unavailable_dates:\n",
    "    aup.available_data_check(df_len, missing_months) # test for missing months"
   ]
  },
  {
   "cell_type": "code",
   "execution_count": 123,
   "id": "877d8e98-2626-434d-9a1d-2045e1f77850",
   "metadata": {},
   "outputs": [
    {
     "name": "stdout",
     "output_type": "stream",
     "text": [
      "Created bounding box for raster cropping\n"
     ]
    }
   ],
   "source": [
    "# Raster cropping with bounding box from earlier \n",
    "bounding_box = gpd.GeoDataFrame(geometry=poly).envelope\n",
    "gdf_bb = gpd.GeoDataFrame(gpd.GeoSeries(bounding_box), columns=['geometry'])\n",
    "print('Created bounding box for raster cropping')\n",
    "\n",
    "# Create GeoDataFrame to test nan values in raster\n",
    "gdf_raster_test = gdf.to_crs(\"EPSG:6372\").buffer(1)\n",
    "gdf_raster_test = gdf_raster_test.to_crs(\"EPSG:4326\")\n",
    "gdf_raster_test = gpd.GeoDataFrame(geometry=gdf_raster_test).dissolve()"
   ]
  },
  {
   "cell_type": "code",
   "execution_count": 124,
   "id": "2a157838-7f56-4e8f-93b4-4b86f8fe9f23",
   "metadata": {
    "tags": []
   },
   "outputs": [
    {
     "name": "stdout",
     "output_type": "stream",
     "text": [
      "Starting raster creation for specified time\n"
     ]
    },
    {
     "name": "stderr",
     "output_type": "stream",
     "text": [
      "100%|█████████████████████████████████████████████████████████████████████████████████████████████████████████████████████████████████████████████████████████████████| 1/1 [02:47<00:00, 167.18s/it]"
     ]
    },
    {
     "name": "stdout",
     "output_type": "stream",
     "text": [
      "Finished raster creation\n"
     ]
    },
    {
     "name": "stderr",
     "output_type": "stream",
     "text": [
      "\n"
     ]
    }
   ],
   "source": [
    "#def create_raster_by_month(df_len, index_analysis, city, tmp_dir, \n",
    "#                           band_name_dict, date_list, gdf_raster_test, gdf_bb, \n",
    "#                           aoi, sat, query={}, time_exc_limit=1500,\n",
    "#                           compute_unavailable_dates=True):\n",
    "\n",
    "# raster creation\n",
    "print('Starting raster creation for specified time')\n",
    "# download raster data by month\n",
    "df_len = aup.create_raster_by_month(df_len, index_analysis, city, tmp_dir,\n",
    "                                    band_name_dict, date_list, gdf_raster_test, gdf_bb, \n",
    "                                    area_of_interest, satellite, query=query)\n",
    "print('Finished raster creation')"
   ]
  },
  {
   "cell_type": "code",
   "execution_count": null,
   "id": "6b89f493-f86f-48a9-b634-0c08d4638aae",
   "metadata": {},
   "outputs": [],
   "source": []
  }
 ],
 "metadata": {
  "kernelspec": {
   "display_name": "GDS-10.0",
   "language": "python",
   "name": "gds"
  },
  "language_info": {
   "codemirror_mode": {
    "name": "ipython",
    "version": 3
   },
   "file_extension": ".py",
   "mimetype": "text/x-python",
   "name": "python",
   "nbconvert_exporter": "python",
   "pygments_lexer": "ipython3",
   "version": "3.9.18"
  }
 },
 "nbformat": 4,
 "nbformat_minor": 5
}
