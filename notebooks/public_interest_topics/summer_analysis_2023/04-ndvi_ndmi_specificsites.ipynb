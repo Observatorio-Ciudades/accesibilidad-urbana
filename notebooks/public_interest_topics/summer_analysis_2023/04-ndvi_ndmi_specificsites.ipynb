{
 "cells": [
  {
   "cell_type": "markdown",
   "id": "3b846477-15fa-407a-9b14-77ccf68f5d61",
   "metadata": {},
   "source": [
    "# Summer analysis 2023: Specific sites analysis (Public / private / natural greenspaces)"
   ]
  },
  {
   "cell_type": "markdown",
   "id": "459c789f-68a5-4379-b9ee-be8a304cada7",
   "metadata": {
    "tags": []
   },
   "source": [
    "This notebook relates greenn spaces (ndvi without locations with water, marshy surfaces, artificial structures, rocks adn clouds) and moisture (ndmi only for zones with little variation in moisture) in three specific sites within each city in order to find ndmi_diff variations (which may indicate irrigation)."
   ]
  },
  {
   "cell_type": "markdown",
   "id": "e421d9a5-ae39-418d-aa4c-84a342418e4d",
   "metadata": {},
   "source": [
    "## Import libraries"
   ]
  },
  {
   "cell_type": "code",
   "execution_count": 1,
   "id": "1ed9c3a2-6228-40b2-87c1-b0392b498a00",
   "metadata": {
    "tags": []
   },
   "outputs": [
    {
     "name": "stderr",
     "output_type": "stream",
     "text": [
      "/usr/local/python/lib/python3.10/site-packages/osmnx/utils.py:192: UserWarning: The `utils.config` function is deprecated and will be removed in a future release. Instead, use the `settings` module directly to configure a global setting's value. For example, `ox.settings.log_console=True`.\n",
      "  warnings.warn(\n"
     ]
    }
   ],
   "source": [
    "import os\n",
    "import sys\n",
    "\n",
    "import pandas as pd\n",
    "import geopandas as gpd\n",
    "import numpy as np\n",
    "\n",
    "import matplotlib.pyplot as plt\n",
    "import seaborn as sns\n",
    "\n",
    "from pandas.api.types import CategoricalDtype\n",
    "\n",
    "import warnings\n",
    "warnings.simplefilter(action='ignore', category=FutureWarning)\n",
    "\n",
    "module_path = os.path.abspath(os.path.join('../../../'))\n",
    "if module_path not in sys.path:\n",
    "    sys.path.append(module_path)\n",
    "    import aup"
   ]
  },
  {
   "cell_type": "code",
   "execution_count": 2,
   "id": "483fb0d9-7450-4666-96b0-37d772484b5e",
   "metadata": {
    "tags": []
   },
   "outputs": [],
   "source": [
    "city = 'Guadalajara'\n",
    "res = 10"
   ]
  },
  {
   "cell_type": "markdown",
   "id": "5a2a9251-2980-4886-86c0-87edb6b87bd1",
   "metadata": {},
   "source": [
    "## Data download"
   ]
  },
  {
   "cell_type": "markdown",
   "id": "45887a66-be10-45d0-8c60-d643b232fe6a",
   "metadata": {},
   "source": [
    "Data download - NDVI"
   ]
  },
  {
   "cell_type": "code",
   "execution_count": 3,
   "id": "28fef751-9093-4c37-ab3d-4d00f37caedb",
   "metadata": {
    "tags": []
   },
   "outputs": [
    {
     "name": "stdout",
     "output_type": "stream",
     "text": [
      "(58163, 11)\n"
     ]
    },
    {
     "data": {
      "text/html": [
       "<div>\n",
       "<style scoped>\n",
       "    .dataframe tbody tr th:only-of-type {\n",
       "        vertical-align: middle;\n",
       "    }\n",
       "\n",
       "    .dataframe tbody tr th {\n",
       "        vertical-align: top;\n",
       "    }\n",
       "\n",
       "    .dataframe thead th {\n",
       "        text-align: right;\n",
       "    }\n",
       "</style>\n",
       "<table border=\"1\" class=\"dataframe\">\n",
       "  <thead>\n",
       "    <tr style=\"text-align: right;\">\n",
       "      <th></th>\n",
       "      <th>hex_id</th>\n",
       "      <th>geometry</th>\n",
       "      <th>res</th>\n",
       "      <th>ndvi_mean</th>\n",
       "      <th>ndvi_std</th>\n",
       "      <th>ndvi_median</th>\n",
       "      <th>ndvi_max</th>\n",
       "      <th>ndvi_min</th>\n",
       "      <th>ndvi_diff</th>\n",
       "      <th>ndvi_tend</th>\n",
       "      <th>city</th>\n",
       "    </tr>\n",
       "  </thead>\n",
       "  <tbody>\n",
       "    <tr>\n",
       "      <th>0</th>\n",
       "      <td>8a49ab4b2717fff</td>\n",
       "      <td>POLYGON ((-103.38873 20.74741, -103.38808 20.7...</td>\n",
       "      <td>10</td>\n",
       "      <td>0.299616</td>\n",
       "      <td>0.106006</td>\n",
       "      <td>0.296429</td>\n",
       "      <td>0.427786</td>\n",
       "      <td>0.154227</td>\n",
       "      <td>0.273559</td>\n",
       "      <td>-0.002171</td>\n",
       "      <td>Guadalajara</td>\n",
       "    </tr>\n",
       "    <tr>\n",
       "      <th>1</th>\n",
       "      <td>8a49ab49428ffff</td>\n",
       "      <td>POLYGON ((-103.39450 20.77610, -103.39385 20.7...</td>\n",
       "      <td>10</td>\n",
       "      <td>0.421233</td>\n",
       "      <td>0.223276</td>\n",
       "      <td>0.364274</td>\n",
       "      <td>0.749547</td>\n",
       "      <td>0.158626</td>\n",
       "      <td>0.590921</td>\n",
       "      <td>-0.001820</td>\n",
       "      <td>Guadalajara</td>\n",
       "    </tr>\n",
       "  </tbody>\n",
       "</table>\n",
       "</div>"
      ],
      "text/plain": [
       "            hex_id                                           geometry  res  \\\n",
       "0  8a49ab4b2717fff  POLYGON ((-103.38873 20.74741, -103.38808 20.7...   10   \n",
       "1  8a49ab49428ffff  POLYGON ((-103.39450 20.77610, -103.39385 20.7...   10   \n",
       "\n",
       "   ndvi_mean  ndvi_std  ndvi_median  ndvi_max  ndvi_min  ndvi_diff  ndvi_tend  \\\n",
       "0   0.299616  0.106006     0.296429  0.427786  0.154227   0.273559  -0.002171   \n",
       "1   0.421233  0.223276     0.364274  0.749547  0.158626   0.590921  -0.001820   \n",
       "\n",
       "          city  \n",
       "0  Guadalajara  \n",
       "1  Guadalajara  "
      ]
     },
     "execution_count": 3,
     "metadata": {},
     "output_type": "execute_result"
    }
   ],
   "source": [
    "# Downloading NDVI res data\n",
    "ndvi_schema = 'raster_analysis'\n",
    "ndvi_table = 'ndvi_analysis_hex'\n",
    "\n",
    "query = f\"SELECT * FROM {ndvi_schema}.{ndvi_table} WHERE \\\"city\\\" LIKE \\'{city}\\' AND \\\"res\\\"={res}\"\n",
    "ndvi_res10 = aup.gdf_from_query(query, geometry_col='geometry')\n",
    "\n",
    "print(ndvi_res10.shape)\n",
    "ndvi_res10.head(2)"
   ]
  },
  {
   "cell_type": "markdown",
   "id": "c24f6651-c93d-4f25-aa08-d1b40f57710e",
   "metadata": {},
   "source": [
    "Data download - NDMI"
   ]
  },
  {
   "cell_type": "code",
   "execution_count": 4,
   "id": "983caa00-a32f-4892-863a-a24c51f3b3d4",
   "metadata": {
    "tags": []
   },
   "outputs": [
    {
     "name": "stdout",
     "output_type": "stream",
     "text": [
      "(58163, 11)\n"
     ]
    },
    {
     "data": {
      "text/html": [
       "<div>\n",
       "<style scoped>\n",
       "    .dataframe tbody tr th:only-of-type {\n",
       "        vertical-align: middle;\n",
       "    }\n",
       "\n",
       "    .dataframe tbody tr th {\n",
       "        vertical-align: top;\n",
       "    }\n",
       "\n",
       "    .dataframe thead th {\n",
       "        text-align: right;\n",
       "    }\n",
       "</style>\n",
       "<table border=\"1\" class=\"dataframe\">\n",
       "  <thead>\n",
       "    <tr style=\"text-align: right;\">\n",
       "      <th></th>\n",
       "      <th>hex_id</th>\n",
       "      <th>geometry</th>\n",
       "      <th>res</th>\n",
       "      <th>ndmi_mean</th>\n",
       "      <th>ndmi_std</th>\n",
       "      <th>ndmi_median</th>\n",
       "      <th>ndmi_max</th>\n",
       "      <th>ndmi_min</th>\n",
       "      <th>ndmi_diff</th>\n",
       "      <th>ndmi_tend</th>\n",
       "      <th>city</th>\n",
       "    </tr>\n",
       "  </thead>\n",
       "  <tbody>\n",
       "    <tr>\n",
       "      <th>0</th>\n",
       "      <td>8a498c94b91ffff</td>\n",
       "      <td>POLYGON ((-103.35105 20.75215, -103.35040 20.7...</td>\n",
       "      <td>10</td>\n",
       "      <td>0.039542</td>\n",
       "      <td>0.095161</td>\n",
       "      <td>0.021260</td>\n",
       "      <td>0.187946</td>\n",
       "      <td>-0.084026</td>\n",
       "      <td>0.271972</td>\n",
       "      <td>-0.000285</td>\n",
       "      <td>Guadalajara</td>\n",
       "    </tr>\n",
       "    <tr>\n",
       "      <th>1</th>\n",
       "      <td>8a49ab4b2687fff</td>\n",
       "      <td>POLYGON ((-103.38645 20.75213, -103.38580 20.7...</td>\n",
       "      <td>10</td>\n",
       "      <td>-0.027466</td>\n",
       "      <td>0.052524</td>\n",
       "      <td>-0.043436</td>\n",
       "      <td>0.084282</td>\n",
       "      <td>-0.066300</td>\n",
       "      <td>0.150582</td>\n",
       "      <td>0.000106</td>\n",
       "      <td>Guadalajara</td>\n",
       "    </tr>\n",
       "  </tbody>\n",
       "</table>\n",
       "</div>"
      ],
      "text/plain": [
       "            hex_id                                           geometry  res  \\\n",
       "0  8a498c94b91ffff  POLYGON ((-103.35105 20.75215, -103.35040 20.7...   10   \n",
       "1  8a49ab4b2687fff  POLYGON ((-103.38645 20.75213, -103.38580 20.7...   10   \n",
       "\n",
       "   ndmi_mean  ndmi_std  ndmi_median  ndmi_max  ndmi_min  ndmi_diff  ndmi_tend  \\\n",
       "0   0.039542  0.095161     0.021260  0.187946 -0.084026   0.271972  -0.000285   \n",
       "1  -0.027466  0.052524    -0.043436  0.084282 -0.066300   0.150582   0.000106   \n",
       "\n",
       "          city  \n",
       "0  Guadalajara  \n",
       "1  Guadalajara  "
      ]
     },
     "execution_count": 4,
     "metadata": {},
     "output_type": "execute_result"
    }
   ],
   "source": [
    "# Downloading NDMI res 10 data\n",
    "ndmi_schema = 'raster_analysis'\n",
    "ndmi_table = 'ndmi_analysis_hex'\n",
    "\n",
    "query = f\"SELECT * FROM {ndmi_schema}.{ndmi_table} WHERE \\\"city\\\" LIKE \\'{city}\\' AND \\\"res\\\"={res}\"\n",
    "ndmi_res10 = aup.gdf_from_query(query, geometry_col='geometry')\n",
    "\n",
    "print(ndmi_res10.shape)\n",
    "ndmi_res10.head(2)"
   ]
  },
  {
   "cell_type": "code",
   "execution_count": 6,
   "id": "5514973e-5488-462e-ba08-598d69dc0911",
   "metadata": {
    "tags": []
   },
   "outputs": [
    {
     "data": {
      "text/html": [
       "<div>\n",
       "<style scoped>\n",
       "    .dataframe tbody tr th:only-of-type {\n",
       "        vertical-align: middle;\n",
       "    }\n",
       "\n",
       "    .dataframe tbody tr th {\n",
       "        vertical-align: top;\n",
       "    }\n",
       "\n",
       "    .dataframe thead th {\n",
       "        text-align: right;\n",
       "    }\n",
       "</style>\n",
       "<table border=\"1\" class=\"dataframe\">\n",
       "  <thead>\n",
       "    <tr style=\"text-align: right;\">\n",
       "      <th></th>\n",
       "      <th>city</th>\n",
       "      <th>type</th>\n",
       "      <th>geometry</th>\n",
       "    </tr>\n",
       "  </thead>\n",
       "  <tbody>\n",
       "    <tr>\n",
       "      <th>0</th>\n",
       "      <td>Monterrey</td>\n",
       "      <td>private</td>\n",
       "      <td>POLYGON ((-100.35273 25.64910, -100.35280 25.6...</td>\n",
       "    </tr>\n",
       "    <tr>\n",
       "      <th>1</th>\n",
       "      <td>Monterrey</td>\n",
       "      <td>public</td>\n",
       "      <td>POLYGON ((-100.29794 25.67408, -100.29807 25.6...</td>\n",
       "    </tr>\n",
       "    <tr>\n",
       "      <th>2</th>\n",
       "      <td>Monterrey</td>\n",
       "      <td>natural</td>\n",
       "      <td>POLYGON ((-100.25053 25.65942, -100.24950 25.6...</td>\n",
       "    </tr>\n",
       "    <tr>\n",
       "      <th>3</th>\n",
       "      <td>Guadalajara</td>\n",
       "      <td>public</td>\n",
       "      <td>POLYGON ((-103.43897 20.66423, -103.43901 20.6...</td>\n",
       "    </tr>\n",
       "    <tr>\n",
       "      <th>4</th>\n",
       "      <td>Guadalajara</td>\n",
       "      <td>private</td>\n",
       "      <td>POLYGON ((-103.37298 20.70116, -103.37339 20.7...</td>\n",
       "    </tr>\n",
       "    <tr>\n",
       "      <th>5</th>\n",
       "      <td>Guadalajara</td>\n",
       "      <td>natural</td>\n",
       "      <td>POLYGON ((-103.28531 20.70466, -103.28478 20.7...</td>\n",
       "    </tr>\n",
       "  </tbody>\n",
       "</table>\n",
       "</div>"
      ],
      "text/plain": [
       "          city     type                                           geometry\n",
       "0    Monterrey  private  POLYGON ((-100.35273 25.64910, -100.35280 25.6...\n",
       "1    Monterrey   public  POLYGON ((-100.29794 25.67408, -100.29807 25.6...\n",
       "2    Monterrey  natural  POLYGON ((-100.25053 25.65942, -100.24950 25.6...\n",
       "3  Guadalajara   public  POLYGON ((-103.43897 20.66423, -103.43901 20.6...\n",
       "4  Guadalajara  private  POLYGON ((-103.37298 20.70116, -103.37339 20.7...\n",
       "5  Guadalajara  natural  POLYGON ((-103.28531 20.70466, -103.28478 20.7..."
      ]
     },
     "execution_count": 6,
     "metadata": {},
     "output_type": "execute_result"
    }
   ],
   "source": [
    "specificsites = gpd.read_file(\"../../../data/external/temporal_todocker/specificsites_ndvi_ndmi.gpkg\")\n",
    "specificsites.head(10)"
   ]
  },
  {
   "cell_type": "markdown",
   "id": "08a9f84f-3e5a-4bb8-8aed-2151d3e3fe83",
   "metadata": {},
   "source": [
    "## Data treatment"
   ]
  },
  {
   "cell_type": "markdown",
   "id": "0f772a7a-46b7-46ad-beb7-d3b636968ad8",
   "metadata": {},
   "source": [
    "### Data treatment - NDVI categories"
   ]
  },
  {
   "cell_type": "code",
   "execution_count": 7,
   "id": "e80dbd9d-653e-4845-8159-ae6b3c577def",
   "metadata": {
    "tags": []
   },
   "outputs": [
    {
     "name": "stdout",
     "output_type": "stream",
     "text": [
      "(58163, 12)\n"
     ]
    },
    {
     "data": {
      "text/html": [
       "<div>\n",
       "<style scoped>\n",
       "    .dataframe tbody tr th:only-of-type {\n",
       "        vertical-align: middle;\n",
       "    }\n",
       "\n",
       "    .dataframe tbody tr th {\n",
       "        vertical-align: top;\n",
       "    }\n",
       "\n",
       "    .dataframe thead th {\n",
       "        text-align: right;\n",
       "    }\n",
       "</style>\n",
       "<table border=\"1\" class=\"dataframe\">\n",
       "  <thead>\n",
       "    <tr style=\"text-align: right;\">\n",
       "      <th></th>\n",
       "      <th>hex_id</th>\n",
       "      <th>geometry</th>\n",
       "      <th>res</th>\n",
       "      <th>ndvi_mean</th>\n",
       "      <th>ndvi_std</th>\n",
       "      <th>ndvi_median</th>\n",
       "      <th>ndvi_max</th>\n",
       "      <th>ndvi_min</th>\n",
       "      <th>ndvi_diff</th>\n",
       "      <th>ndvi_tend</th>\n",
       "      <th>city</th>\n",
       "      <th>ndvi_median_rango</th>\n",
       "    </tr>\n",
       "  </thead>\n",
       "  <tbody>\n",
       "    <tr>\n",
       "      <th>0</th>\n",
       "      <td>8a49ab4b2717fff</td>\n",
       "      <td>POLYGON ((-103.38873 20.74741, -103.38808 20.7...</td>\n",
       "      <td>10</td>\n",
       "      <td>0.299616</td>\n",
       "      <td>0.106006</td>\n",
       "      <td>0.296429</td>\n",
       "      <td>0.427786</td>\n",
       "      <td>0.154227</td>\n",
       "      <td>0.273559</td>\n",
       "      <td>-0.002171</td>\n",
       "      <td>Guadalajara</td>\n",
       "      <td>Mínima densidad vegetal</td>\n",
       "    </tr>\n",
       "    <tr>\n",
       "      <th>1</th>\n",
       "      <td>8a49ab49428ffff</td>\n",
       "      <td>POLYGON ((-103.39450 20.77610, -103.39385 20.7...</td>\n",
       "      <td>10</td>\n",
       "      <td>0.421233</td>\n",
       "      <td>0.223276</td>\n",
       "      <td>0.364274</td>\n",
       "      <td>0.749547</td>\n",
       "      <td>0.158626</td>\n",
       "      <td>0.590921</td>\n",
       "      <td>-0.001820</td>\n",
       "      <td>Guadalajara</td>\n",
       "      <td>Mínima densidad vegetal</td>\n",
       "    </tr>\n",
       "  </tbody>\n",
       "</table>\n",
       "</div>"
      ],
      "text/plain": [
       "            hex_id                                           geometry  res  \\\n",
       "0  8a49ab4b2717fff  POLYGON ((-103.38873 20.74741, -103.38808 20.7...   10   \n",
       "1  8a49ab49428ffff  POLYGON ((-103.39450 20.77610, -103.39385 20.7...   10   \n",
       "\n",
       "   ndvi_mean  ndvi_std  ndvi_median  ndvi_max  ndvi_min  ndvi_diff  ndvi_tend  \\\n",
       "0   0.299616  0.106006     0.296429  0.427786  0.154227   0.273559  -0.002171   \n",
       "1   0.421233  0.223276     0.364274  0.749547  0.158626   0.590921  -0.001820   \n",
       "\n",
       "          city        ndvi_median_rango  \n",
       "0  Guadalajara  Mínima densidad vegetal  \n",
       "1  Guadalajara  Mínima densidad vegetal  "
      ]
     },
     "execution_count": 7,
     "metadata": {},
     "output_type": "execute_result"
    }
   ],
   "source": [
    "# NDVI res 10 processing\n",
    "# Creating vegetation categories\n",
    "ndvi_res10['ndvi_median_rango'] = np.nan\n",
    "ndvi_res10.loc[ndvi_res10.ndvi_median>=0.6 , 'ndvi_median_rango'] = 'Alta densidad vegetal'\n",
    "ndvi_res10.loc[(ndvi_res10.ndvi_median>=0.4 )&\n",
    "             (ndvi_res10.ndvi_median<0.6), 'ndvi_median_rango'] = 'Moderada densidad vegetal'\n",
    "ndvi_res10.loc[(ndvi_res10.ndvi_median>=0.2)&\n",
    "             (ndvi_res10.ndvi_median<0.4), 'ndvi_median_rango'] = 'Mínima densidad vegetal'\n",
    "ndvi_res10.loc[(ndvi_res10.ndvi_median>=0.1)&\n",
    "             (ndvi_res10.ndvi_median<0.2), 'ndvi_median_rango'] = 'Suelo'\n",
    "ndvi_res10.loc[(ndvi_res10.ndvi_median<0.1), 'ndvi_median_rango'] = 'Suelo artificial/Agua/Piedra'\n",
    "\n",
    "# Ordering data\n",
    "categories = ['Suelo artificial/Agua/Piedra', 'Suelo', 'Mínima densidad vegetal', 'Moderada densidad vegetal', 'Alta densidad vegetal']\n",
    "ndvi_res10['ndvi_median_rango'] = pd.Categorical(ndvi_res10['ndvi_median_rango'], categories=categories, ordered=True)\n",
    "\n",
    "# Reviewing process\n",
    "print(ndvi_res10.shape)\n",
    "ndvi_res10.head(2)"
   ]
  },
  {
   "cell_type": "markdown",
   "id": "35ddb763-bab3-44fe-828e-3e5334ea6e94",
   "metadata": {},
   "source": [
    "### Data treatment - NDVI filtering for places with vegetation"
   ]
  },
  {
   "cell_type": "code",
   "execution_count": 8,
   "id": "a9a5fa8d-950a-4658-8ed7-f814f49a8d6f",
   "metadata": {
    "tags": []
   },
   "outputs": [
    {
     "name": "stdout",
     "output_type": "stream",
     "text": [
      "(34361, 12)\n"
     ]
    },
    {
     "data": {
      "text/html": [
       "<div>\n",
       "<style scoped>\n",
       "    .dataframe tbody tr th:only-of-type {\n",
       "        vertical-align: middle;\n",
       "    }\n",
       "\n",
       "    .dataframe tbody tr th {\n",
       "        vertical-align: top;\n",
       "    }\n",
       "\n",
       "    .dataframe thead th {\n",
       "        text-align: right;\n",
       "    }\n",
       "</style>\n",
       "<table border=\"1\" class=\"dataframe\">\n",
       "  <thead>\n",
       "    <tr style=\"text-align: right;\">\n",
       "      <th></th>\n",
       "      <th>hex_id</th>\n",
       "      <th>geometry</th>\n",
       "      <th>res</th>\n",
       "      <th>ndvi_mean</th>\n",
       "      <th>ndvi_std</th>\n",
       "      <th>ndvi_median</th>\n",
       "      <th>ndvi_max</th>\n",
       "      <th>ndvi_min</th>\n",
       "      <th>ndvi_diff</th>\n",
       "      <th>ndvi_tend</th>\n",
       "      <th>city</th>\n",
       "      <th>ndvi_median_rango</th>\n",
       "    </tr>\n",
       "  </thead>\n",
       "  <tbody>\n",
       "    <tr>\n",
       "      <th>0</th>\n",
       "      <td>8a49ab4b2717fff</td>\n",
       "      <td>POLYGON ((-103.38873 20.74741, -103.38808 20.7...</td>\n",
       "      <td>10</td>\n",
       "      <td>0.299616</td>\n",
       "      <td>0.106006</td>\n",
       "      <td>0.296429</td>\n",
       "      <td>0.427786</td>\n",
       "      <td>0.154227</td>\n",
       "      <td>0.273559</td>\n",
       "      <td>-0.002171</td>\n",
       "      <td>Guadalajara</td>\n",
       "      <td>Mínima densidad vegetal</td>\n",
       "    </tr>\n",
       "    <tr>\n",
       "      <th>1</th>\n",
       "      <td>8a49ab49428ffff</td>\n",
       "      <td>POLYGON ((-103.39450 20.77610, -103.39385 20.7...</td>\n",
       "      <td>10</td>\n",
       "      <td>0.421233</td>\n",
       "      <td>0.223276</td>\n",
       "      <td>0.364274</td>\n",
       "      <td>0.749547</td>\n",
       "      <td>0.158626</td>\n",
       "      <td>0.590921</td>\n",
       "      <td>-0.001820</td>\n",
       "      <td>Guadalajara</td>\n",
       "      <td>Mínima densidad vegetal</td>\n",
       "    </tr>\n",
       "  </tbody>\n",
       "</table>\n",
       "</div>"
      ],
      "text/plain": [
       "            hex_id                                           geometry  res  \\\n",
       "0  8a49ab4b2717fff  POLYGON ((-103.38873 20.74741, -103.38808 20.7...   10   \n",
       "1  8a49ab49428ffff  POLYGON ((-103.39450 20.77610, -103.39385 20.7...   10   \n",
       "\n",
       "   ndvi_mean  ndvi_std  ndvi_median  ndvi_max  ndvi_min  ndvi_diff  ndvi_tend  \\\n",
       "0   0.299616  0.106006     0.296429  0.427786  0.154227   0.273559  -0.002171   \n",
       "1   0.421233  0.223276     0.364274  0.749547  0.158626   0.590921  -0.001820   \n",
       "\n",
       "          city        ndvi_median_rango  \n",
       "0  Guadalajara  Mínima densidad vegetal  \n",
       "1  Guadalajara  Mínima densidad vegetal  "
      ]
     },
     "execution_count": 8,
     "metadata": {},
     "output_type": "execute_result"
    }
   ],
   "source": [
    "#Keeping High-moderate-minimal vegetation density\n",
    "ndvi_withveg_res10 = ndvi_res10.loc[(ndvi_res10.ndvi_median_rango == 'Alta densidad vegetal') |\n",
    "                   (ndvi_res10.ndvi_median_rango == 'Moderada densidad vegetal')|\n",
    "                   (ndvi_res10.ndvi_median_rango == 'Mínima densidad vegetal')]\n",
    "\n",
    "#Reviewing process\n",
    "print(ndvi_withveg_res10.shape)\n",
    "ndvi_withveg_res10.head(2)"
   ]
  },
  {
   "cell_type": "markdown",
   "id": "fb249498-1727-4667-8a2a-18f28d74c618",
   "metadata": {
    "tags": []
   },
   "source": [
    "### Data treatment - NDMI categories"
   ]
  },
  {
   "cell_type": "code",
   "execution_count": 10,
   "id": "8dd68ce5-3cf4-4fae-bf4c-b5c2c3a0dae8",
   "metadata": {
    "tags": []
   },
   "outputs": [
    {
     "name": "stdout",
     "output_type": "stream",
     "text": [
      "(58163, 12)\n"
     ]
    },
    {
     "data": {
      "text/html": [
       "<div>\n",
       "<style scoped>\n",
       "    .dataframe tbody tr th:only-of-type {\n",
       "        vertical-align: middle;\n",
       "    }\n",
       "\n",
       "    .dataframe tbody tr th {\n",
       "        vertical-align: top;\n",
       "    }\n",
       "\n",
       "    .dataframe thead th {\n",
       "        text-align: right;\n",
       "    }\n",
       "</style>\n",
       "<table border=\"1\" class=\"dataframe\">\n",
       "  <thead>\n",
       "    <tr style=\"text-align: right;\">\n",
       "      <th></th>\n",
       "      <th>hex_id</th>\n",
       "      <th>geometry</th>\n",
       "      <th>res</th>\n",
       "      <th>ndmi_mean</th>\n",
       "      <th>ndmi_std</th>\n",
       "      <th>ndmi_median</th>\n",
       "      <th>ndmi_max</th>\n",
       "      <th>ndmi_min</th>\n",
       "      <th>ndmi_diff</th>\n",
       "      <th>ndmi_tend</th>\n",
       "      <th>city</th>\n",
       "      <th>ndmi_median_rango</th>\n",
       "    </tr>\n",
       "  </thead>\n",
       "  <tbody>\n",
       "    <tr>\n",
       "      <th>0</th>\n",
       "      <td>8a498c94b91ffff</td>\n",
       "      <td>POLYGON ((-103.35105 20.75215, -103.35040 20.7...</td>\n",
       "      <td>10</td>\n",
       "      <td>0.039542</td>\n",
       "      <td>0.095161</td>\n",
       "      <td>0.021260</td>\n",
       "      <td>0.187946</td>\n",
       "      <td>-0.084026</td>\n",
       "      <td>0.271972</td>\n",
       "      <td>-0.000285</td>\n",
       "      <td>Guadalajara</td>\n",
       "      <td>Cobertura promedio con alto estrés hídrico</td>\n",
       "    </tr>\n",
       "    <tr>\n",
       "      <th>1</th>\n",
       "      <td>8a49ab4b2687fff</td>\n",
       "      <td>POLYGON ((-103.38645 20.75213, -103.38580 20.7...</td>\n",
       "      <td>10</td>\n",
       "      <td>-0.027466</td>\n",
       "      <td>0.052524</td>\n",
       "      <td>-0.043436</td>\n",
       "      <td>0.084282</td>\n",
       "      <td>-0.066300</td>\n",
       "      <td>0.150582</td>\n",
       "      <td>0.000106</td>\n",
       "      <td>Guadalajara</td>\n",
       "      <td>Suelo o poca cobertura vegetal</td>\n",
       "    </tr>\n",
       "  </tbody>\n",
       "</table>\n",
       "</div>"
      ],
      "text/plain": [
       "            hex_id                                           geometry  res  \\\n",
       "0  8a498c94b91ffff  POLYGON ((-103.35105 20.75215, -103.35040 20.7...   10   \n",
       "1  8a49ab4b2687fff  POLYGON ((-103.38645 20.75213, -103.38580 20.7...   10   \n",
       "\n",
       "   ndmi_mean  ndmi_std  ndmi_median  ndmi_max  ndmi_min  ndmi_diff  ndmi_tend  \\\n",
       "0   0.039542  0.095161     0.021260  0.187946 -0.084026   0.271972  -0.000285   \n",
       "1  -0.027466  0.052524    -0.043436  0.084282 -0.066300   0.150582   0.000106   \n",
       "\n",
       "          city                           ndmi_median_rango  \n",
       "0  Guadalajara  Cobertura promedio con alto estrés hídrico  \n",
       "1  Guadalajara              Suelo o poca cobertura vegetal  "
      ]
     },
     "execution_count": 10,
     "metadata": {},
     "output_type": "execute_result"
    }
   ],
   "source": [
    "# NDVI res 10 processing\n",
    "# Creating vegetation categories\n",
    "ndmi_res10['ndmi_median_rango'] = np.nan\n",
    "ndmi_res10.loc[ndmi_res10.ndmi_median>=0.4 , 'ndmi_median_rango'] = 'Cobertura vegetal alta sin estrés hídrico'\n",
    "ndmi_res10.loc[(ndmi_res10.ndmi_median>=0.2)&\n",
    "             (ndmi_res10.ndmi_median<0.4), 'ndmi_median_rango'] = 'Cobertura promedio poco estrés hídrico'\n",
    "ndmi_res10.loc[(ndmi_res10.ndmi_median>=0)&\n",
    "             (ndmi_res10.ndmi_median<0.2), 'ndmi_median_rango'] = 'Cobertura promedio con alto estrés hídrico'\n",
    "ndmi_res10.loc[(ndmi_res10.ndmi_median<0), 'ndmi_median_rango'] = 'Suelo o poca cobertura vegetal'\n",
    "\n",
    "# Ordering data\n",
    "categories = ['Suelo o poca cobertura vegetal', 'Cobertura promedio con alto estrés hídrico', 'Cobertura promedio poco estrés hídrico', 'Cobertura vegetal alta sin estrés hídrico']\n",
    "ndmi_res10['ndmi_median_rango'] = pd.Categorical(ndmi_res10['ndmi_median_rango'], categories=categories, ordered=True)\n",
    "\n",
    "# Reviewing process\n",
    "print(ndmi_res10.shape)\n",
    "ndmi_res10.head(2)"
   ]
  },
  {
   "cell_type": "markdown",
   "id": "1345068c-4353-4597-9ef3-eaf52469255a",
   "metadata": {},
   "source": [
    "### Data treatment - NDVI filtering for places with vegetation"
   ]
  },
  {
   "cell_type": "code",
   "execution_count": 20,
   "id": "528b1ed2-1ed3-49bd-82ce-05a210ac0bfe",
   "metadata": {},
   "outputs": [
    {
     "name": "stdout",
     "output_type": "stream",
     "text": [
      "(14751, 12)\n"
     ]
    },
    {
     "data": {
      "text/html": [
       "<div>\n",
       "<style scoped>\n",
       "    .dataframe tbody tr th:only-of-type {\n",
       "        vertical-align: middle;\n",
       "    }\n",
       "\n",
       "    .dataframe tbody tr th {\n",
       "        vertical-align: top;\n",
       "    }\n",
       "\n",
       "    .dataframe thead th {\n",
       "        text-align: right;\n",
       "    }\n",
       "</style>\n",
       "<table border=\"1\" class=\"dataframe\">\n",
       "  <thead>\n",
       "    <tr style=\"text-align: right;\">\n",
       "      <th></th>\n",
       "      <th>hex_id</th>\n",
       "      <th>geometry</th>\n",
       "      <th>res</th>\n",
       "      <th>ndmi_mean</th>\n",
       "      <th>ndmi_std</th>\n",
       "      <th>ndmi_median</th>\n",
       "      <th>ndmi_max</th>\n",
       "      <th>ndmi_min</th>\n",
       "      <th>ndmi_diff</th>\n",
       "      <th>ndmi_tend</th>\n",
       "      <th>city</th>\n",
       "      <th>ndmi_median_rango</th>\n",
       "    </tr>\n",
       "  </thead>\n",
       "  <tbody>\n",
       "    <tr>\n",
       "      <th>0</th>\n",
       "      <td>8a498c94b91ffff</td>\n",
       "      <td>POLYGON ((-103.35105 20.75215, -103.35040 20.7...</td>\n",
       "      <td>10</td>\n",
       "      <td>0.039542</td>\n",
       "      <td>0.095161</td>\n",
       "      <td>0.021260</td>\n",
       "      <td>0.187946</td>\n",
       "      <td>-0.084026</td>\n",
       "      <td>0.271972</td>\n",
       "      <td>-0.000285</td>\n",
       "      <td>Guadalajara</td>\n",
       "      <td>Cobertura promedio con alto estrés hídrico</td>\n",
       "    </tr>\n",
       "    <tr>\n",
       "      <th>3</th>\n",
       "      <td>8a49ab4b2777fff</td>\n",
       "      <td>POLYGON ((-103.39229 20.74819, -103.39164 20.7...</td>\n",
       "      <td>10</td>\n",
       "      <td>0.020207</td>\n",
       "      <td>0.073712</td>\n",
       "      <td>0.020168</td>\n",
       "      <td>0.144345</td>\n",
       "      <td>-0.071775</td>\n",
       "      <td>0.216120</td>\n",
       "      <td>0.000447</td>\n",
       "      <td>Guadalajara</td>\n",
       "      <td>Cobertura promedio con alto estrés hídrico</td>\n",
       "    </tr>\n",
       "  </tbody>\n",
       "</table>\n",
       "</div>"
      ],
      "text/plain": [
       "            hex_id                                           geometry  res  \\\n",
       "0  8a498c94b91ffff  POLYGON ((-103.35105 20.75215, -103.35040 20.7...   10   \n",
       "3  8a49ab4b2777fff  POLYGON ((-103.39229 20.74819, -103.39164 20.7...   10   \n",
       "\n",
       "   ndmi_mean  ndmi_std  ndmi_median  ndmi_max  ndmi_min  ndmi_diff  ndmi_tend  \\\n",
       "0   0.039542  0.095161     0.021260  0.187946 -0.084026   0.271972  -0.000285   \n",
       "3   0.020207  0.073712     0.020168  0.144345 -0.071775   0.216120   0.000447   \n",
       "\n",
       "          city                           ndmi_median_rango  \n",
       "0  Guadalajara  Cobertura promedio con alto estrés hídrico  \n",
       "3  Guadalajara  Cobertura promedio con alto estrés hídrico  "
      ]
     },
     "execution_count": 20,
     "metadata": {},
     "output_type": "execute_result"
    }
   ],
   "source": [
    "#Keeping High-moderate-minimal vegetation density\n",
    "ndmi_withhum_res10 = ndmi_res10.loc[(ndmi_res10.ndmi_median_rango == 'Cobertura vegetal alta sin estrés hídrico') |\n",
    "                   (ndmi_res10.ndmi_median_rango == 'Cobertura promedio poco estrés hídrico') |\n",
    "                   (ndmi_res10.ndmi_median_rango == 'Cobertura promedio con alto estrés hídrico')]\n",
    "\n",
    "#Reviewing process\n",
    "print(ndmi_withhum_res10.shape)\n",
    "ndmi_withhum_res10.head(2)"
   ]
  },
  {
   "cell_type": "markdown",
   "id": "b585c452-bca2-4656-9379-cc9cea485867",
   "metadata": {},
   "source": [
    "### Data treatment - Merging filtered NDVI and filtered NDMI"
   ]
  },
  {
   "cell_type": "code",
   "execution_count": 21,
   "id": "6bcbe9f3-2562-4445-a230-8876901ce5f3",
   "metadata": {
    "tags": []
   },
   "outputs": [
    {
     "name": "stdout",
     "output_type": "stream",
     "text": [
      "(13800, 20)\n"
     ]
    },
    {
     "data": {
      "text/html": [
       "<div>\n",
       "<style scoped>\n",
       "    .dataframe tbody tr th:only-of-type {\n",
       "        vertical-align: middle;\n",
       "    }\n",
       "\n",
       "    .dataframe tbody tr th {\n",
       "        vertical-align: top;\n",
       "    }\n",
       "\n",
       "    .dataframe thead th {\n",
       "        text-align: right;\n",
       "    }\n",
       "</style>\n",
       "<table border=\"1\" class=\"dataframe\">\n",
       "  <thead>\n",
       "    <tr style=\"text-align: right;\">\n",
       "      <th></th>\n",
       "      <th>hex_id</th>\n",
       "      <th>geometry</th>\n",
       "      <th>res</th>\n",
       "      <th>ndvi_mean</th>\n",
       "      <th>ndvi_std</th>\n",
       "      <th>ndvi_median</th>\n",
       "      <th>ndvi_max</th>\n",
       "      <th>ndvi_min</th>\n",
       "      <th>ndvi_diff</th>\n",
       "      <th>ndvi_tend</th>\n",
       "      <th>city</th>\n",
       "      <th>ndvi_median_rango</th>\n",
       "      <th>ndmi_mean</th>\n",
       "      <th>ndmi_std</th>\n",
       "      <th>ndmi_median</th>\n",
       "      <th>ndmi_max</th>\n",
       "      <th>ndmi_min</th>\n",
       "      <th>ndmi_diff</th>\n",
       "      <th>ndmi_tend</th>\n",
       "      <th>ndmi_median_rango</th>\n",
       "    </tr>\n",
       "  </thead>\n",
       "  <tbody>\n",
       "    <tr>\n",
       "      <th>0</th>\n",
       "      <td>8a49ab4b2717fff</td>\n",
       "      <td>POLYGON ((-103.38873 20.74741, -103.38808 20.7...</td>\n",
       "      <td>10</td>\n",
       "      <td>0.299616</td>\n",
       "      <td>0.106006</td>\n",
       "      <td>0.296429</td>\n",
       "      <td>0.427786</td>\n",
       "      <td>0.154227</td>\n",
       "      <td>0.273559</td>\n",
       "      <td>-0.002171</td>\n",
       "      <td>Guadalajara</td>\n",
       "      <td>Mínima densidad vegetal</td>\n",
       "      <td>0.040085</td>\n",
       "      <td>0.073231</td>\n",
       "      <td>0.034313</td>\n",
       "      <td>0.161902</td>\n",
       "      <td>-0.058020</td>\n",
       "      <td>0.219922</td>\n",
       "      <td>0.000142</td>\n",
       "      <td>Cobertura promedio con alto estrés hídrico</td>\n",
       "    </tr>\n",
       "    <tr>\n",
       "      <th>1</th>\n",
       "      <td>8a49ab49431ffff</td>\n",
       "      <td>POLYGON ((-103.39679 20.77138, -103.39614 20.7...</td>\n",
       "      <td>10</td>\n",
       "      <td>0.434141</td>\n",
       "      <td>0.193285</td>\n",
       "      <td>0.411369</td>\n",
       "      <td>0.683627</td>\n",
       "      <td>0.185153</td>\n",
       "      <td>0.498473</td>\n",
       "      <td>-0.002586</td>\n",
       "      <td>Guadalajara</td>\n",
       "      <td>Moderada densidad vegetal</td>\n",
       "      <td>0.042163</td>\n",
       "      <td>0.123650</td>\n",
       "      <td>0.037815</td>\n",
       "      <td>0.231908</td>\n",
       "      <td>-0.121783</td>\n",
       "      <td>0.353691</td>\n",
       "      <td>0.000344</td>\n",
       "      <td>Cobertura promedio con alto estrés hídrico</td>\n",
       "    </tr>\n",
       "  </tbody>\n",
       "</table>\n",
       "</div>"
      ],
      "text/plain": [
       "            hex_id                                           geometry  res  \\\n",
       "0  8a49ab4b2717fff  POLYGON ((-103.38873 20.74741, -103.38808 20.7...   10   \n",
       "1  8a49ab49431ffff  POLYGON ((-103.39679 20.77138, -103.39614 20.7...   10   \n",
       "\n",
       "   ndvi_mean  ndvi_std  ndvi_median  ndvi_max  ndvi_min  ndvi_diff  ndvi_tend  \\\n",
       "0   0.299616  0.106006     0.296429  0.427786  0.154227   0.273559  -0.002171   \n",
       "1   0.434141  0.193285     0.411369  0.683627  0.185153   0.498473  -0.002586   \n",
       "\n",
       "          city          ndvi_median_rango  ndmi_mean  ndmi_std  ndmi_median  \\\n",
       "0  Guadalajara    Mínima densidad vegetal   0.040085  0.073231     0.034313   \n",
       "1  Guadalajara  Moderada densidad vegetal   0.042163  0.123650     0.037815   \n",
       "\n",
       "   ndmi_max  ndmi_min  ndmi_diff  ndmi_tend  \\\n",
       "0  0.161902 -0.058020   0.219922   0.000142   \n",
       "1  0.231908 -0.121783   0.353691   0.000344   \n",
       "\n",
       "                            ndmi_median_rango  \n",
       "0  Cobertura promedio con alto estrés hídrico  \n",
       "1  Cobertura promedio con alto estrés hídrico  "
      ]
     },
     "execution_count": 21,
     "metadata": {},
     "output_type": "execute_result"
    }
   ],
   "source": [
    "ndmi_res10_clean = ndmi_withhum_res10.drop(columns=['geometry','res','city'])\n",
    "ndvi_ndmi_res10 = ndvi_withveg_res10.merge(ndmi_res10_clean, left_on='hex_id', right_on='hex_id')\n",
    "\n",
    "#Reviewing process\n",
    "print(ndvi_ndmi_res10.shape)\n",
    "ndvi_ndmi_res10.head(2)"
   ]
  },
  {
   "cell_type": "markdown",
   "id": "a6996920-b8ae-4cda-995c-02bdbab38f12",
   "metadata": {},
   "source": [
    "## Data analysis - Boxplot"
   ]
  },
  {
   "cell_type": "markdown",
   "id": "c68a7b11-add0-4799-98d9-c686ddb458d6",
   "metadata": {
    "tags": []
   },
   "source": [
    "### Data analysis - Isolate ndmi data for specific green spaces"
   ]
  },
  {
   "cell_type": "code",
   "execution_count": 22,
   "id": "77b5592d-2653-4ac3-a087-981dc45d974d",
   "metadata": {
    "tags": []
   },
   "outputs": [
    {
     "data": {
      "text/html": [
       "<div>\n",
       "<style scoped>\n",
       "    .dataframe tbody tr th:only-of-type {\n",
       "        vertical-align: middle;\n",
       "    }\n",
       "\n",
       "    .dataframe tbody tr th {\n",
       "        vertical-align: top;\n",
       "    }\n",
       "\n",
       "    .dataframe thead th {\n",
       "        text-align: right;\n",
       "    }\n",
       "</style>\n",
       "<table border=\"1\" class=\"dataframe\">\n",
       "  <thead>\n",
       "    <tr style=\"text-align: right;\">\n",
       "      <th></th>\n",
       "      <th>city</th>\n",
       "      <th>type</th>\n",
       "      <th>geometry</th>\n",
       "    </tr>\n",
       "  </thead>\n",
       "  <tbody>\n",
       "    <tr>\n",
       "      <th>3</th>\n",
       "      <td>Guadalajara</td>\n",
       "      <td>public</td>\n",
       "      <td>POLYGON ((-103.43897 20.66423, -103.43901 20.6...</td>\n",
       "    </tr>\n",
       "    <tr>\n",
       "      <th>4</th>\n",
       "      <td>Guadalajara</td>\n",
       "      <td>private</td>\n",
       "      <td>POLYGON ((-103.37298 20.70116, -103.37339 20.7...</td>\n",
       "    </tr>\n",
       "    <tr>\n",
       "      <th>5</th>\n",
       "      <td>Guadalajara</td>\n",
       "      <td>natural</td>\n",
       "      <td>POLYGON ((-103.28531 20.70466, -103.28478 20.7...</td>\n",
       "    </tr>\n",
       "  </tbody>\n",
       "</table>\n",
       "</div>"
      ],
      "text/plain": [
       "          city     type                                           geometry\n",
       "3  Guadalajara   public  POLYGON ((-103.43897 20.66423, -103.43901 20.6...\n",
       "4  Guadalajara  private  POLYGON ((-103.37298 20.70116, -103.37339 20.7...\n",
       "5  Guadalajara  natural  POLYGON ((-103.28531 20.70466, -103.28478 20.7..."
      ]
     },
     "execution_count": 22,
     "metadata": {},
     "output_type": "execute_result"
    }
   ],
   "source": [
    "city_sites = specificsites.loc[specificsites.city == city]\n",
    "city_sites.head()                         "
   ]
  },
  {
   "cell_type": "code",
   "execution_count": 23,
   "id": "0e21ffc1-4f0c-4556-af4c-0649edc6762b",
   "metadata": {
    "tags": []
   },
   "outputs": [
    {
     "name": "stdout",
     "output_type": "stream",
     "text": [
      "(468, 22)\n"
     ]
    },
    {
     "data": {
      "text/html": [
       "<div>\n",
       "<style scoped>\n",
       "    .dataframe tbody tr th:only-of-type {\n",
       "        vertical-align: middle;\n",
       "    }\n",
       "\n",
       "    .dataframe tbody tr th {\n",
       "        vertical-align: top;\n",
       "    }\n",
       "\n",
       "    .dataframe thead th {\n",
       "        text-align: right;\n",
       "    }\n",
       "</style>\n",
       "<table border=\"1\" class=\"dataframe\">\n",
       "  <thead>\n",
       "    <tr style=\"text-align: right;\">\n",
       "      <th></th>\n",
       "      <th>hex_id</th>\n",
       "      <th>res</th>\n",
       "      <th>ndvi_mean</th>\n",
       "      <th>ndvi_std</th>\n",
       "      <th>ndvi_median</th>\n",
       "      <th>ndvi_max</th>\n",
       "      <th>ndvi_min</th>\n",
       "      <th>ndvi_diff</th>\n",
       "      <th>ndvi_tend</th>\n",
       "      <th>city_1</th>\n",
       "      <th>...</th>\n",
       "      <th>ndmi_std</th>\n",
       "      <th>ndmi_median</th>\n",
       "      <th>ndmi_max</th>\n",
       "      <th>ndmi_min</th>\n",
       "      <th>ndmi_diff</th>\n",
       "      <th>ndmi_tend</th>\n",
       "      <th>ndmi_median_rango</th>\n",
       "      <th>city_2</th>\n",
       "      <th>greenspace</th>\n",
       "      <th>geometry</th>\n",
       "    </tr>\n",
       "  </thead>\n",
       "  <tbody>\n",
       "    <tr>\n",
       "      <th>0</th>\n",
       "      <td>8a498c94ab17fff</td>\n",
       "      <td>10</td>\n",
       "      <td>0.272374</td>\n",
       "      <td>0.117072</td>\n",
       "      <td>0.275510</td>\n",
       "      <td>0.398676</td>\n",
       "      <td>0.120857</td>\n",
       "      <td>0.27782</td>\n",
       "      <td>-0.002810</td>\n",
       "      <td>Guadalajara</td>\n",
       "      <td>...</td>\n",
       "      <td>0.064484</td>\n",
       "      <td>0.006891</td>\n",
       "      <td>0.116384</td>\n",
       "      <td>-0.065655</td>\n",
       "      <td>0.182039</td>\n",
       "      <td>-0.000807</td>\n",
       "      <td>Cobertura promedio con alto estrés hídrico</td>\n",
       "      <td>Guadalajara</td>\n",
       "      <td>natural</td>\n",
       "      <td>POLYGON ((-103.33443 20.74587, -103.33442 20.7...</td>\n",
       "    </tr>\n",
       "    <tr>\n",
       "      <th>1</th>\n",
       "      <td>8a498c94ab1ffff</td>\n",
       "      <td>10</td>\n",
       "      <td>0.303857</td>\n",
       "      <td>0.133622</td>\n",
       "      <td>0.302367</td>\n",
       "      <td>0.466649</td>\n",
       "      <td>0.127199</td>\n",
       "      <td>0.33945</td>\n",
       "      <td>-0.002491</td>\n",
       "      <td>Guadalajara</td>\n",
       "      <td>...</td>\n",
       "      <td>0.072797</td>\n",
       "      <td>0.014754</td>\n",
       "      <td>0.135790</td>\n",
       "      <td>-0.075343</td>\n",
       "      <td>0.211132</td>\n",
       "      <td>-0.000699</td>\n",
       "      <td>Cobertura promedio con alto estrés hídrico</td>\n",
       "      <td>Guadalajara</td>\n",
       "      <td>natural</td>\n",
       "      <td>POLYGON ((-103.33523 20.74692, -103.33516 20.7...</td>\n",
       "    </tr>\n",
       "  </tbody>\n",
       "</table>\n",
       "<p>2 rows × 22 columns</p>\n",
       "</div>"
      ],
      "text/plain": [
       "            hex_id  res  ndvi_mean  ndvi_std  ndvi_median  ndvi_max  ndvi_min  \\\n",
       "0  8a498c94ab17fff   10   0.272374  0.117072     0.275510  0.398676  0.120857   \n",
       "1  8a498c94ab1ffff   10   0.303857  0.133622     0.302367  0.466649  0.127199   \n",
       "\n",
       "   ndvi_diff  ndvi_tend       city_1  ...  ndmi_std  ndmi_median  ndmi_max  \\\n",
       "0    0.27782  -0.002810  Guadalajara  ...  0.064484     0.006891  0.116384   \n",
       "1    0.33945  -0.002491  Guadalajara  ...  0.072797     0.014754  0.135790   \n",
       "\n",
       "   ndmi_min  ndmi_diff  ndmi_tend                           ndmi_median_rango  \\\n",
       "0 -0.065655   0.182039  -0.000807  Cobertura promedio con alto estrés hídrico   \n",
       "1 -0.075343   0.211132  -0.000699  Cobertura promedio con alto estrés hídrico   \n",
       "\n",
       "        city_2 greenspace                                           geometry  \n",
       "0  Guadalajara    natural  POLYGON ((-103.33443 20.74587, -103.33442 20.7...  \n",
       "1  Guadalajara    natural  POLYGON ((-103.33523 20.74692, -103.33516 20.7...  \n",
       "\n",
       "[2 rows x 22 columns]"
      ]
     },
     "execution_count": 23,
     "metadata": {},
     "output_type": "execute_result"
    }
   ],
   "source": [
    "ndmi_res10_citysites = ndvi_ndmi_res10.overlay(city_sites)\n",
    "\n",
    "ndmi_res10_citysites = ndmi_res10_citysites.rename(columns = {'type':'greenspace'})\n",
    "\n",
    "\n",
    "#Show dataframe\n",
    "print(ndmi_res10_citysites.shape)\n",
    "ndmi_res10_citysites.head(2)"
   ]
  },
  {
   "cell_type": "code",
   "execution_count": 24,
   "id": "307ec3fa-de01-440f-b299-3cc33ce7e11f",
   "metadata": {
    "tags": []
   },
   "outputs": [
    {
     "data": {
      "text/plain": [
       "<Axes: >"
      ]
     },
     "execution_count": 24,
     "metadata": {},
     "output_type": "execute_result"
    },
    {
     "data": {
      "image/png": "[encoded data removed]",
      "text/plain": [
       "<Figure size 640x480 with 1 Axes>"
      ]
     },
     "metadata": {},
     "output_type": "display_data"
    }
   ],
   "source": [
    "ndmi_res10_citysites.plot()"
   ]
  },
  {
   "cell_type": "code",
   "execution_count": 25,
   "id": "628bc55b-9dd5-46f7-b2a4-224582a0ee36",
   "metadata": {
    "tags": []
   },
   "outputs": [],
   "source": [
    "#Ordening data\n",
    "categories = ['private', 'public', 'natural']\n",
    "ndmi_res10_citysites['greenspace'] = pd.Categorical(ndmi_res10_citysites['greenspace'], categories=categories, ordered=True)\n",
    "ndmi_res10_citysites = ndmi_res10_citysites.sort_values('greenspace')"
   ]
  },
  {
   "cell_type": "code",
   "execution_count": 26,
   "id": "594c2911-74a1-45ec-927f-1cd1c5827c65",
   "metadata": {
    "tags": []
   },
   "outputs": [
    {
     "name": "stdout",
     "output_type": "stream",
     "text": [
      "     index  greenspace\n",
      "2  private          51\n",
      "1   public          63\n",
      "0  natural         354\n"
     ]
    },
    {
     "data": {
      "image/png": "[encoded data removed]",
      "text/plain": [
       "<Figure size 1000x1000 with 1 Axes>"
      ]
     },
     "metadata": {},
     "output_type": "display_data"
    }
   ],
   "source": [
    "#Plotting\n",
    "fig, ax = plt.subplots(figsize=(10,10))\n",
    "sns.boxplot(x=np.array(ndmi_res10_citysites.greenspace) , y=np.array(ndmi_res10_citysites.ndmi_diff), ax=ax)\n",
    "\n",
    "#Format\n",
    "plt.title('Relación entre tipo de área verde y ndmi_diff en {}.'.format(city))\n",
    "plt.xlabel('Tipo de área verde')\n",
    "plt.ylabel('ndmi_diff')\n",
    "\n",
    "# ------------------------------------------- Add number of hex by greenspace type -------------------------------------------\n",
    "\n",
    "#Calculate median of each greenspace type group to position number of observations\n",
    "maxs = ndmi_res10_citysites.groupby(['greenspace'])['ndmi_diff'].max()\n",
    "num_maxs = maxs.values\n",
    "#Drop NaNs\n",
    "num_maxs = num_maxs[~np.isnan(num_maxs)]\n",
    "\n",
    "# Calculate number of observations per group\n",
    "obs = ndmi_res10_citysites['greenspace'].value_counts()\n",
    "obs = obs.reset_index()\n",
    "obs = obs.sort_values('index')\n",
    "print(obs)\n",
    "#Drop Ceros by turning them to nans\n",
    "obs = obs['greenspace'].apply(lambda x: np.nan if x==0 else x)\n",
    "obs = obs[~np.isnan(obs)]\n",
    "\n",
    "num_obs = obs.values\n",
    "num_obs = [str(x) for x in num_obs.tolist()]\n",
    "num_obs = [\"n: \" + i for i in num_obs]\n",
    "\n",
    "# Add it to the plot\n",
    "pos = range(len(num_obs))\n",
    "for tick,label in zip(pos,ax.get_xticklabels()):\n",
    "    #ax.text(x,y,text)\n",
    "    ax.text(pos[tick],\n",
    "            num_maxs[tick] + 0.005,\n",
    "            num_obs[tick],\n",
    "            horizontalalignment='center',\n",
    "            size='x-small',\n",
    "            color='black')\n",
    "# ------------------------------------------- ------------------------------------------- -------------------------------------------\n",
    "\n",
    "#Para plotear figuras quitar # \n",
    "#plt.savefig(\"../../../output/figures/ndvi_ndmi_marg_bycity/{}/ndmidiff_greenspaces_boxplot_{}.svg\".format(city.lower(),city.lower()))"
   ]
  },
  {
   "cell_type": "markdown",
   "id": "f2eff101-cd0c-4f07-8dd9-d6dd3ecae04c",
   "metadata": {
    "tags": []
   },
   "source": [
    "## Data analysis - Maps - Work in progress"
   ]
  },
  {
   "cell_type": "code",
   "execution_count": null,
   "id": "cf6cd543-5702-4638-a80f-3de52dc4942e",
   "metadata": {
    "tags": []
   },
   "outputs": [],
   "source": [
    "#fig, ax = plt.subplots(1,1,figsize=(12,6))\n",
    "\n",
    "#ndvi_ndmi_res10.plot('ndmi_diff', 'viridis', ax=ax[0], legend=True)\n",
    "plt.figure(figsize=(10,5))\n",
    "city_sites.plot()\n",
    "ndvi_res10.plot('ndvi_median_rango', 'YlGn', legend=True)\n",
    "\n",
    "# ---------- Format ----------\n",
    "# Format - Titles\n",
    "plt.title('Índice de vegetación en {} (res {}).'.format(city,res))\n",
    "plt.xlabel('Date')\n",
    "plt.ylabel('Average ndvi')\n",
    "\n",
    "# Format - Legend\n",
    "plt.legend(frameon=False, \n",
    "           fontsize = 7)\n",
    "\n",
    "# Guardar gráficos\n",
    "#plt.savefig(\"../../../output/figures/ndvi_ndmi/ndmi_diff_{}.svg\".format(city.lower()))"
   ]
  },
  {
   "cell_type": "code",
   "execution_count": null,
   "id": "c9d7f528-4804-4fa5-8902-c105890c74e8",
   "metadata": {},
   "outputs": [],
   "source": []
  }
 ],
 "metadata": {
  "kernelspec": {
   "display_name": "Python 3 (ipykernel)",
   "language": "python",
   "name": "python3"
  },
  "language_info": {
   "codemirror_mode": {
    "name": "ipython",
    "version": 3
   },
   "file_extension": ".py",
   "mimetype": "text/x-python",
   "name": "python",
   "nbconvert_exporter": "python",
   "pygments_lexer": "ipython3",
   "version": "3.10.5"
  }
 },
 "nbformat": 4,
 "nbformat_minor": 5
}
