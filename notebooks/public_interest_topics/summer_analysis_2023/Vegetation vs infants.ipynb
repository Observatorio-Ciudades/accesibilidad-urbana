{
 "cells": [
  {
   "cell_type": "markdown",
   "id": "96917d4e-8453-4f72-964f-8e572b4db0c0",
   "metadata": {},
   "source": [
    "# Infancias vs vegetación"
   ]
  },
  {
   "cell_type": "markdown",
   "id": "1aa06c58-19af-4e0b-a699-da7ee567863e",
   "metadata": {},
   "source": [
    "Density of population of the ages 0-5 (early childhood) and vegetation"
   ]
  },
  {
   "cell_type": "code",
   "execution_count": 2,
   "id": "c4031a83-e4bd-420d-be2f-acd420174d9c",
   "metadata": {},
   "outputs": [
    {
     "name": "stderr",
     "output_type": "stream",
     "text": [
      "/opt/conda/lib/python3.9/site-packages/geopandas/_compat.py:111: UserWarning: The Shapely GEOS version (3.10.3-CAPI-1.16.1) is incompatible with the GEOS version PyGEOS was compiled with (3.9.1-CAPI-1.14.2). Conversions between both will be slow.\n",
      "  warnings.warn(\n"
     ]
    },
    {
     "name": "stdout",
     "output_type": "stream",
     "text": [
      "2023-05-18 19:34:46 Configured OSMnx 1.1.2\n",
      "2023-05-18 19:34:46 HTTP response caching is on\n"
     ]
    }
   ],
   "source": [
    "import os\n",
    "import sys\n",
    "\n",
    "import pandas as pd\n",
    "import geopandas as gpd\n",
    "import numpy as np\n",
    "\n",
    "import matplotlib.pyplot as plt\n",
    "import seaborn as sns\n",
    "\n",
    "from pandas.api.types import CategoricalDtype\n",
    "\n",
    "import warnings\n",
    "warnings.simplefilter(action='ignore', category=FutureWarning)\n",
    "\n",
    "module_path = os.path.abspath(os.path.join('../../../'))\n",
    "if module_path not in sys.path:\n",
    "    sys.path.append(module_path)\n",
    "    import aup"
   ]
  },
  {
   "cell_type": "markdown",
   "id": "ffd06877-fdc1-49f1-854a-134afe6800fc",
   "metadata": {},
   "source": [
    "## Download data"
   ]
  },
  {
   "cell_type": "markdown",
   "id": "3ccf06aa-40f3-4b4b-be54-a52a83321a29",
   "metadata": {},
   "source": [
    "### Municipality boundaries"
   ]
  },
  {
   "cell_type": "code",
   "execution_count": 3,
   "id": "5b180f2b-5bce-4649-a7ee-98e0d56117e0",
   "metadata": {},
   "outputs": [
    {
     "name": "stdout",
     "output_type": "stream",
     "text": [
      "(18, 6)\n"
     ]
    },
    {
     "data": {
      "text/html": [
       "<div>\n",
       "<style scoped>\n",
       "    .dataframe tbody tr th:only-of-type {\n",
       "        vertical-align: middle;\n",
       "    }\n",
       "\n",
       "    .dataframe tbody tr th {\n",
       "        vertical-align: top;\n",
       "    }\n",
       "\n",
       "    .dataframe thead th {\n",
       "        text-align: right;\n",
       "    }\n",
       "</style>\n",
       "<table border=\"1\" class=\"dataframe\">\n",
       "  <thead>\n",
       "    <tr style=\"text-align: right;\">\n",
       "      <th></th>\n",
       "      <th>CVEGEO</th>\n",
       "      <th>CVE_ENT</th>\n",
       "      <th>CVE_MUN</th>\n",
       "      <th>NOMGEO</th>\n",
       "      <th>geometry</th>\n",
       "      <th>city</th>\n",
       "    </tr>\n",
       "  </thead>\n",
       "  <tbody>\n",
       "    <tr>\n",
       "      <th>0</th>\n",
       "      <td>19001</td>\n",
       "      <td>19</td>\n",
       "      <td>001</td>\n",
       "      <td>Abasolo</td>\n",
       "      <td>POLYGON ((-100.39267 25.98715, -100.39224 25.9...</td>\n",
       "      <td>Monterrey</td>\n",
       "    </tr>\n",
       "    <tr>\n",
       "      <th>1</th>\n",
       "      <td>19006</td>\n",
       "      <td>19</td>\n",
       "      <td>006</td>\n",
       "      <td>Apodaca</td>\n",
       "      <td>POLYGON ((-100.24794 25.86462, -100.24672 25.8...</td>\n",
       "      <td>Monterrey</td>\n",
       "    </tr>\n",
       "  </tbody>\n",
       "</table>\n",
       "</div>"
      ],
      "text/plain": [
       "  CVEGEO CVE_ENT CVE_MUN   NOMGEO  \\\n",
       "0  19001      19     001  Abasolo   \n",
       "1  19006      19     006  Apodaca   \n",
       "\n",
       "                                            geometry       city  \n",
       "0  POLYGON ((-100.39267 25.98715, -100.39224 25.9...  Monterrey  \n",
       "1  POLYGON ((-100.24794 25.86462, -100.24672 25.8...  Monterrey  "
      ]
     },
     "execution_count": 3,
     "metadata": {},
     "output_type": "execute_result"
    }
   ],
   "source": [
    "mun_schema = 'metropolis'\n",
    "mun_folder = 'metro_gdf'\n",
    "\n",
    "city = 'Monterrey'\n",
    "\n",
    "query = f\"SELECT * FROM {mun_schema}.{mun_folder} WHERE \\\"city\\\" LIKE \\'{city}\\'\"\n",
    "mun_gdf = aup.gdf_from_query(query, geometry_col='geometry')\n",
    "\n",
    "print(mun_gdf.shape)\n",
    "mun_gdf.head(2)"
   ]
  },
  {
   "cell_type": "markdown",
   "id": "1f0be62d-af62-40b7-a114-ab5602ffecca",
   "metadata": {},
   "source": [
    "### NDVI Data"
   ]
  },
  {
   "cell_type": "code",
   "execution_count": 4,
   "id": "fe7e6dfd-a7a1-4130-9190-46e2ffd9c724",
   "metadata": {},
   "outputs": [
    {
     "name": "stdout",
     "output_type": "stream",
     "text": [
      "(1545, 11)\n"
     ]
    },
    {
     "data": {
      "text/html": [
       "<div>\n",
       "<style scoped>\n",
       "    .dataframe tbody tr th:only-of-type {\n",
       "        vertical-align: middle;\n",
       "    }\n",
       "\n",
       "    .dataframe tbody tr th {\n",
       "        vertical-align: top;\n",
       "    }\n",
       "\n",
       "    .dataframe thead th {\n",
       "        text-align: right;\n",
       "    }\n",
       "</style>\n",
       "<table border=\"1\" class=\"dataframe\">\n",
       "  <thead>\n",
       "    <tr style=\"text-align: right;\">\n",
       "      <th></th>\n",
       "      <th>hex_id</th>\n",
       "      <th>geometry</th>\n",
       "      <th>res</th>\n",
       "      <th>ndvi_mean</th>\n",
       "      <th>ndvi_std</th>\n",
       "      <th>ndvi_median</th>\n",
       "      <th>ndvi_max</th>\n",
       "      <th>ndvi_min</th>\n",
       "      <th>ndvi_diff</th>\n",
       "      <th>ndvi_tend</th>\n",
       "      <th>city</th>\n",
       "    </tr>\n",
       "  </thead>\n",
       "  <tbody>\n",
       "    <tr>\n",
       "      <th>0</th>\n",
       "      <td>8848a20723fffff</td>\n",
       "      <td>POLYGON ((-100.30902 25.68176, -100.30427 25.6...</td>\n",
       "      <td>8</td>\n",
       "      <td>0.051105</td>\n",
       "      <td>0.029174</td>\n",
       "      <td>0.052592</td>\n",
       "      <td>0.086906</td>\n",
       "      <td>-0.000158</td>\n",
       "      <td>0.087065</td>\n",
       "      <td>-0.000529</td>\n",
       "      <td>Monterrey</td>\n",
       "    </tr>\n",
       "    <tr>\n",
       "      <th>1</th>\n",
       "      <td>8848a2005bfffff</td>\n",
       "      <td>POLYGON ((-100.24868 25.61508, -100.25385 25.6...</td>\n",
       "      <td>8</td>\n",
       "      <td>0.437738</td>\n",
       "      <td>0.185475</td>\n",
       "      <td>0.460157</td>\n",
       "      <td>0.685148</td>\n",
       "      <td>0.082410</td>\n",
       "      <td>0.602738</td>\n",
       "      <td>-0.004488</td>\n",
       "      <td>Monterrey</td>\n",
       "    </tr>\n",
       "  </tbody>\n",
       "</table>\n",
       "</div>"
      ],
      "text/plain": [
       "            hex_id                                           geometry  res  \\\n",
       "0  8848a20723fffff  POLYGON ((-100.30902 25.68176, -100.30427 25.6...    8   \n",
       "1  8848a2005bfffff  POLYGON ((-100.24868 25.61508, -100.25385 25.6...    8   \n",
       "\n",
       "   ndvi_mean  ndvi_std  ndvi_median  ndvi_max  ndvi_min  ndvi_diff  ndvi_tend  \\\n",
       "0   0.051105  0.029174     0.052592  0.086906 -0.000158   0.087065  -0.000529   \n",
       "1   0.437738  0.185475     0.460157  0.685148  0.082410   0.602738  -0.004488   \n",
       "\n",
       "        city  \n",
       "0  Monterrey  \n",
       "1  Monterrey  "
      ]
     },
     "execution_count": 4,
     "metadata": {},
     "output_type": "execute_result"
    }
   ],
   "source": [
    "ndvi_schema = 'raster_analysis'\n",
    "ndvi_folder = 'ndvi_analysis_hex'\n",
    "\n",
    "res = 8\n",
    "\n",
    "query = f\"SELECT * FROM {ndvi_schema}.{ndvi_folder} WHERE \\\"city\\\" LIKE \\'{city}\\' AND \\\"res\\\"={res}\"\n",
    "ndvi_gdf = aup.gdf_from_query(query, geometry_col='geometry')\n",
    "\n",
    "print(ndvi_gdf.shape)\n",
    "ndvi_gdf.head(2)"
   ]
  },
  {
   "cell_type": "markdown",
   "id": "e19fa4fb-3254-42d7-a345-cac56f4c5f5c",
   "metadata": {},
   "source": [
    "### 2020 Census data "
   ]
  },
  {
   "cell_type": "code",
   "execution_count": 5,
   "id": "7f038904-fd35-4dab-bc19-efeb44975676",
   "metadata": {
    "tags": []
   },
   "outputs": [],
   "source": [
    "cvegeo_list = list(mun_gdf.loc[mun_gdf.city==city][\"CVEGEO\"].unique())"
   ]
  },
  {
   "cell_type": "code",
   "execution_count": 6,
   "id": "158429e2-f559-470d-b308-e9ed680c2623",
   "metadata": {},
   "outputs": [
    {
     "data": {
      "text/plain": [
       "['19001',\n",
       " '19006',\n",
       " '19009',\n",
       " '19010',\n",
       " '19012',\n",
       " '19018',\n",
       " '19019',\n",
       " '19021',\n",
       " '19025',\n",
       " '19026',\n",
       " '19031',\n",
       " '19039',\n",
       " '19041',\n",
       " '19045',\n",
       " '19046',\n",
       " '19047',\n",
       " '19048',\n",
       " '19049']"
      ]
     },
     "execution_count": 6,
     "metadata": {},
     "output_type": "execute_result"
    }
   ],
   "source": [
    "cvegeo_list"
   ]
  },
  {
   "cell_type": "code",
   "execution_count": 7,
   "id": "5746d859-6ab5-4c09-89bc-f9b9abeeec23",
   "metadata": {},
   "outputs": [
    {
     "name": "stdout",
     "output_type": "stream",
     "text": [
      "(1545, 225)\n"
     ]
    },
    {
     "data": {
      "text/html": [
       "<div>\n",
       "<style scoped>\n",
       "    .dataframe tbody tr th:only-of-type {\n",
       "        vertical-align: middle;\n",
       "    }\n",
       "\n",
       "    .dataframe tbody tr th {\n",
       "        vertical-align: top;\n",
       "    }\n",
       "\n",
       "    .dataframe thead th {\n",
       "        text-align: right;\n",
       "    }\n",
       "</style>\n",
       "<table border=\"1\" class=\"dataframe\">\n",
       "  <thead>\n",
       "    <tr style=\"text-align: right;\">\n",
       "      <th></th>\n",
       "      <th>geometry</th>\n",
       "      <th>hex_id_8</th>\n",
       "      <th>CVEGEO</th>\n",
       "      <th>pobtot</th>\n",
       "      <th>pobfem</th>\n",
       "      <th>pobmas</th>\n",
       "      <th>p_0a2</th>\n",
       "      <th>p_0a2_f</th>\n",
       "      <th>p_0a2_m</th>\n",
       "      <th>p_3ymas</th>\n",
       "      <th>...</th>\n",
       "      <th>vph_telef</th>\n",
       "      <th>vph_cel</th>\n",
       "      <th>vph_inter</th>\n",
       "      <th>vph_stvp</th>\n",
       "      <th>vph_spmvpi</th>\n",
       "      <th>vph_cvj</th>\n",
       "      <th>vph_sinrtv</th>\n",
       "      <th>vph_sintlc</th>\n",
       "      <th>vph_sincint</th>\n",
       "      <th>vph_sintic</th>\n",
       "    </tr>\n",
       "  </thead>\n",
       "  <tbody>\n",
       "    <tr>\n",
       "      <th>0</th>\n",
       "      <td>POLYGON ((-100.38026 25.93877, -100.38069 25.9...</td>\n",
       "      <td>8848a23881fffff</td>\n",
       "      <td>19001</td>\n",
       "      <td>255.11478</td>\n",
       "      <td>126.77050</td>\n",
       "      <td>123.34427</td>\n",
       "      <td>14.639343</td>\n",
       "      <td>6.540983</td>\n",
       "      <td>8.098361</td>\n",
       "      <td>235.47542</td>\n",
       "      <td>...</td>\n",
       "      <td>14.639343</td>\n",
       "      <td>61.672134</td>\n",
       "      <td>28.967210</td>\n",
       "      <td>34.262295</td>\n",
       "      <td>11.213116</td>\n",
       "      <td>9.032786</td>\n",
       "      <td>1.557377</td>\n",
       "      <td>4.360656</td>\n",
       "      <td>33.950817</td>\n",
       "      <td>0.934426</td>\n",
       "    </tr>\n",
       "    <tr>\n",
       "      <th>1</th>\n",
       "      <td>POLYGON ((-100.38588 25.94625, -100.38631 25.9...</td>\n",
       "      <td>8848a23883fffff</td>\n",
       "      <td>19001</td>\n",
       "      <td>487.42150</td>\n",
       "      <td>252.72832</td>\n",
       "      <td>234.69318</td>\n",
       "      <td>26.695550</td>\n",
       "      <td>11.456676</td>\n",
       "      <td>12.238875</td>\n",
       "      <td>460.44028</td>\n",
       "      <td>...</td>\n",
       "      <td>22.552692</td>\n",
       "      <td>123.489456</td>\n",
       "      <td>58.348946</td>\n",
       "      <td>63.208430</td>\n",
       "      <td>20.660423</td>\n",
       "      <td>17.222483</td>\n",
       "      <td>2.210773</td>\n",
       "      <td>7.018735</td>\n",
       "      <td>67.737690</td>\n",
       "      <td>0.983607</td>\n",
       "    </tr>\n",
       "  </tbody>\n",
       "</table>\n",
       "<p>2 rows × 225 columns</p>\n",
       "</div>"
      ],
      "text/plain": [
       "                                            geometry         hex_id_8 CVEGEO  \\\n",
       "0  POLYGON ((-100.38026 25.93877, -100.38069 25.9...  8848a23881fffff  19001   \n",
       "1  POLYGON ((-100.38588 25.94625, -100.38631 25.9...  8848a23883fffff  19001   \n",
       "\n",
       "      pobtot     pobfem     pobmas      p_0a2    p_0a2_f    p_0a2_m  \\\n",
       "0  255.11478  126.77050  123.34427  14.639343   6.540983   8.098361   \n",
       "1  487.42150  252.72832  234.69318  26.695550  11.456676  12.238875   \n",
       "\n",
       "     p_3ymas  ...  vph_telef     vph_cel  vph_inter   vph_stvp  vph_spmvpi  \\\n",
       "0  235.47542  ...  14.639343   61.672134  28.967210  34.262295   11.213116   \n",
       "1  460.44028  ...  22.552692  123.489456  58.348946  63.208430   20.660423   \n",
       "\n",
       "     vph_cvj  vph_sinrtv  vph_sintlc  vph_sincint  vph_sintic  \n",
       "0   9.032786    1.557377    4.360656    33.950817    0.934426  \n",
       "1  17.222483    2.210773    7.018735    67.737690    0.983607  \n",
       "\n",
       "[2 rows x 225 columns]"
      ]
     },
     "execution_count": 7,
     "metadata": {},
     "output_type": "execute_result"
    }
   ],
   "source": [
    "# donwload hexagons with pop data\n",
    "hex_pop = gpd.GeoDataFrame()\n",
    "hex_folder = 'hex_bins_pop_2020'\n",
    "hex_schema = 'censo'\n",
    "\n",
    "\n",
    "# Iterates over municipality codes for each metropolitan area or capital\n",
    "for cvegeo in cvegeo_list:\n",
    "    # Downloads municipality polygon according to code\n",
    "    query = f\"SELECT * FROM {hex_schema}.{hex_folder} WHERE \\\"CVEGEO\\\" LIKE \\'{cvegeo}%%\\'\"\n",
    "    hex_tmp = aup.gdf_from_query(query, geometry_col='geometry')\n",
    "    hex_pop = pd.concat([hex_pop, hex_tmp],\n",
    "    ignore_index = True, axis = 0)\n",
    "print(hex_pop.shape)\n",
    "hex_pop.head(2)"
   ]
  },
  {
   "cell_type": "markdown",
   "id": "d081b89b-c80d-41b7-b9c0-926b10d3af3b",
   "metadata": {},
   "source": [
    "## Data treatment"
   ]
  },
  {
   "cell_type": "markdown",
   "id": "b80558a6-910b-4aa5-93de-d50481b98b5a",
   "metadata": {},
   "source": [
    "### Early childhood and % Calculation"
   ]
  },
  {
   "cell_type": "code",
   "execution_count": 8,
   "id": "a8a8f5b5-b6f2-441d-8dd7-0426c08b10a2",
   "metadata": {},
   "outputs": [
    {
     "data": {
      "text/plain": [
       "<AxesSubplot:>"
      ]
     },
     "execution_count": 8,
     "metadata": {},
     "output_type": "execute_result"
    },
    {
     "data": {
      "image/png": "[encoded data removed]",
      "text/plain": [
       "<Figure size 432x288 with 2 Axes>"
      ]
     },
     "metadata": {
      "needs_background": "light"
     },
     "output_type": "display_data"
    }
   ],
   "source": [
    "hex_pop['p_infancia'] = hex_pop['p_0a2'] + hex_pop['p_3a5']\n",
    "hex_pop['pct_infancia'] = hex_pop['p_infancia'] / hex_pop['pobtot']\n",
    "\n",
    "hex_pop.plot('pct_infancia', legend=True)\n"
   ]
  },
  {
   "cell_type": "markdown",
   "id": "64a2327a-ce4f-435d-aa05-3b064fab88a9",
   "metadata": {},
   "source": [
    "### Range / Categories "
   ]
  },
  {
   "cell_type": "code",
   "execution_count": 9,
   "id": "c20bf35b-5cab-44ed-9fe0-677f090b619f",
   "metadata": {
    "tags": []
   },
   "outputs": [],
   "source": [
    "hex_pop['pct_inf_rango'] = np.nan\n",
    "hex_pop.loc[hex_pop.pct_infancia>=0.14 , 'pct_inf_rango'] = '+14%'\n",
    "hex_pop.loc[(hex_pop.pct_infancia>=0.12 )&\n",
    "             (hex_pop.pct_infancia<0.14), 'pct_inf_rango'] = '14% - 12%'\n",
    "hex_pop.loc[(hex_pop.pct_infancia>=0.10)&\n",
    "             (hex_pop.pct_infancia<0.12), 'pct_inf_rango'] = '12% - 10%'\n",
    "hex_pop.loc[(hex_pop.pct_infancia>=0.08)&\n",
    "             (hex_pop.pct_infancia<0.1), 'pct_inf_rango'] = '10% - 8%'\n",
    "hex_pop.loc[(hex_pop.pct_infancia>=0.06)&\n",
    "             (hex_pop.pct_infancia<0.08), 'pct_inf_rango'] = '8% - 6%'\n",
    "hex_pop.loc[(hex_pop.pct_infancia>=0.03)&\n",
    "             (hex_pop.pct_infancia<0.06), 'pct_inf_rango'] = '6% - 3%'\n",
    "hex_pop.loc[(hex_pop.pct_infancia<0.03), 'pct_inf_rango'] = '3% - 0%'\n",
    "\n",
    "#Definir orden y convertir pct_inf_rango en categoría ordenada\n",
    "categories = ['3% - 0%', '6% - 3%', '8% - 6%', '10% - 8%', '12% - 10%', '14% - 12%', '+14%']\n",
    "hex_pop['pct_inf_rango'] = pd.Categorical(hex_pop['pct_inf_rango'], categories=categories, ordered=True)"
   ]
  },
  {
   "cell_type": "code",
   "execution_count": 10,
   "id": "078681d1-1883-4e5f-88c5-d3629f5556c6",
   "metadata": {},
   "outputs": [],
   "source": [
    "ndvi_gdf['ndvi_median_rango'] = np.nan\n",
    "ndvi_gdf.loc[ndvi_gdf.ndvi_median>=0.6 , 'ndvi_median_rango'] = 'Alta densidad vegetal'\n",
    "ndvi_gdf.loc[(ndvi_gdf.ndvi_median>=0.4 )&\n",
    "             (ndvi_gdf.ndvi_median<0.6), 'ndvi_median_rango'] = 'Moderada densidad vegetal'\n",
    "ndvi_gdf.loc[(ndvi_gdf.ndvi_median>=0.2)&\n",
    "             (ndvi_gdf.ndvi_median<0.4), 'ndvi_median_rango'] = 'Mínima densidad vegetal'\n",
    "ndvi_gdf.loc[(ndvi_gdf.ndvi_median>=0.1)&\n",
    "             (ndvi_gdf.ndvi_median<0.2), 'ndvi_median_rango'] = 'Suelo'\n",
    "ndvi_gdf.loc[(ndvi_gdf.ndvi_median<0.1), 'ndvi_median_rango'] = 'Suelo artificial/Agua/Piedra'\n",
    "\n",
    "\n",
    "#Definir orden y convertir pct_inf_rango en categoría ordenada\n",
    "categories = ['Suelo artificial/Agua/Piedra', 'Suelo', 'Mínima densidad vegetal', 'Moderada densidad vegetal', 'Alta densidad vegetal']\n",
    "ndvi_gdf['ndvi_median_rango'] = pd.Categorical(ndvi_gdf['ndvi_median_rango'], categories=categories, ordered=True)\n"
   ]
  },
  {
   "cell_type": "markdown",
   "id": "4892336d-45e6-4d17-80a6-156d1edffab7",
   "metadata": {},
   "source": [
    "### Plot data visualization"
   ]
  },
  {
   "cell_type": "code",
   "execution_count": 3,
   "id": "f8ab6990-0ede-4f46-b9db-7244a711c3b7",
   "metadata": {},
   "outputs": [
    {
     "ename": "NameError",
     "evalue": "name 'hex_pop' is not defined",
     "output_type": "error",
     "traceback": [
      "\u001b[0;31m---------------------------------------------------------------------------\u001b[0m",
      "\u001b[0;31mNameError\u001b[0m                                 Traceback (most recent call last)",
      "\u001b[0;32m/tmp/ipykernel_1100/3842117430.py\u001b[0m in \u001b[0;36m<module>\u001b[0;34m\u001b[0m\n\u001b[1;32m      1\u001b[0m \u001b[0;31m# Plotear gráficos\u001b[0m\u001b[0;34m\u001b[0m\u001b[0;34m\u001b[0m\u001b[0m\n\u001b[1;32m      2\u001b[0m \u001b[0mfig\u001b[0m\u001b[0;34m,\u001b[0m \u001b[0max\u001b[0m \u001b[0;34m=\u001b[0m \u001b[0mplt\u001b[0m\u001b[0;34m.\u001b[0m\u001b[0msubplots\u001b[0m\u001b[0;34m(\u001b[0m\u001b[0;36m1\u001b[0m\u001b[0;34m,\u001b[0m \u001b[0;36m2\u001b[0m\u001b[0;34m,\u001b[0m \u001b[0mfigsize\u001b[0m\u001b[0;34m=\u001b[0m\u001b[0;34m(\u001b[0m\u001b[0;36m25\u001b[0m\u001b[0;34m,\u001b[0m \u001b[0;36m10\u001b[0m\u001b[0;34m)\u001b[0m\u001b[0;34m)\u001b[0m\u001b[0;34m\u001b[0m\u001b[0;34m\u001b[0m\u001b[0m\n\u001b[0;32m----> 3\u001b[0;31m \u001b[0mhex_pop\u001b[0m\u001b[0;34m.\u001b[0m\u001b[0mplot\u001b[0m\u001b[0;34m(\u001b[0m\u001b[0;34m'pct_inf_rango'\u001b[0m\u001b[0;34m,\u001b[0m \u001b[0;34m'BuPu'\u001b[0m\u001b[0;34m,\u001b[0m \u001b[0max\u001b[0m\u001b[0;34m=\u001b[0m\u001b[0max\u001b[0m\u001b[0;34m[\u001b[0m\u001b[0;36m0\u001b[0m\u001b[0;34m]\u001b[0m\u001b[0;34m,\u001b[0m \u001b[0mlegend\u001b[0m\u001b[0;34m=\u001b[0m\u001b[0;32mTrue\u001b[0m\u001b[0;34m)\u001b[0m\u001b[0;34m\u001b[0m\u001b[0;34m\u001b[0m\u001b[0m\n\u001b[0m\u001b[1;32m      4\u001b[0m \u001b[0mndvi_gdf\u001b[0m\u001b[0;34m.\u001b[0m\u001b[0mplot\u001b[0m\u001b[0;34m(\u001b[0m\u001b[0;34m'ndvi_median_rango'\u001b[0m\u001b[0;34m,\u001b[0m\u001b[0;34m'YlGn'\u001b[0m\u001b[0;34m,\u001b[0m \u001b[0max\u001b[0m\u001b[0;34m=\u001b[0m\u001b[0max\u001b[0m\u001b[0;34m[\u001b[0m\u001b[0;36m1\u001b[0m\u001b[0;34m]\u001b[0m\u001b[0;34m,\u001b[0m \u001b[0mlegend\u001b[0m\u001b[0;34m=\u001b[0m\u001b[0;32mTrue\u001b[0m\u001b[0;34m)\u001b[0m\u001b[0;34m\u001b[0m\u001b[0;34m\u001b[0m\u001b[0m\n\u001b[1;32m      5\u001b[0m \u001b[0;34m\u001b[0m\u001b[0m\n",
      "\u001b[0;31mNameError\u001b[0m: name 'hex_pop' is not defined"
     ]
    },
    {
     "data": {
      "image/png": "[encoded data removed]",
      "text/plain": [
       "<Figure size 1800x720 with 2 Axes>"
      ]
     },
     "metadata": {
      "needs_background": "light"
     },
     "output_type": "display_data"
    }
   ],
   "source": [
    "# Plotear gráficos\n",
    "fig, ax = plt.subplots(1, 2, figsize=(25, 10))\n",
    "hex_pop.plot('pct_inf_rango', 'BuPu', ax=ax[0], legend=True)\n",
    "ndvi_gdf.plot('ndvi_median_rango','YlGn', ax=ax[1], legend=True)\n",
    "\n",
    "ax[0].set_title('Porcentaje de población en edad de 0 - 5 años')\n",
    "ax[1].set_title('Índice de vegetación')\n",
    "\n",
    "# Guardar gráficos\n",
    "plt.savefig(\"../../../output/figures/ndvi_infancia/ndvi_mty_ca.jpg\")\n",
    "\n"
   ]
  }
 ],
 "metadata": {
  "kernelspec": {
   "display_name": "Python 3 (ipykernel)",
   "language": "python",
   "name": "python3"
  },
  "language_info": {
   "codemirror_mode": {
    "name": "ipython",
    "version": 3
   },
   "file_extension": ".py",
   "mimetype": "text/x-python",
   "name": "python",
   "nbconvert_exporter": "python",
   "pygments_lexer": "ipython3",
   "version": "3.9.7"
  }
 },
 "nbformat": 4,
 "nbformat_minor": 5
}
