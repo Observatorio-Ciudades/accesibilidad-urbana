{
 "cells": [
  {
   "cell_type": "markdown",
   "id": "96917d4e-8453-4f72-964f-8e572b4db0c0",
   "metadata": {},
   "source": [
    "# Infancias, vegetación y proximidad"
   ]
  },
  {
   "cell_type": "markdown",
   "id": "1aa06c58-19af-4e0b-a699-da7ee567863e",
   "metadata": {},
   "source": [
    "This notebook plots population of the ages 0-5 (early childhood), NDVI vegetation categories and proximity analysis for a city."
   ]
  },
  {
   "cell_type": "code",
   "execution_count": 1,
   "id": "c4031a83-e4bd-420d-be2f-acd420174d9c",
   "metadata": {
    "tags": []
   },
   "outputs": [
    {
     "name": "stderr",
     "output_type": "stream",
     "text": [
      "/usr/local/python/lib/python3.10/site-packages/osmnx/utils.py:192: UserWarning: The `utils.config` function is deprecated and will be removed in a future release. Instead, use the `settings` module directly to configure a global setting's value. For example, `ox.settings.log_console=True`.\n",
      "  warnings.warn(\n"
     ]
    }
   ],
   "source": [
    "import os\n",
    "import sys\n",
    "\n",
    "import pandas as pd\n",
    "import geopandas as gpd\n",
    "import numpy as np\n",
    "\n",
    "import matplotlib.pyplot as plt\n",
    "import seaborn as sns\n",
    "\n",
    "from pandas.api.types import CategoricalDtype\n",
    "\n",
    "import warnings\n",
    "warnings.simplefilter(action='ignore', category=FutureWarning)\n",
    "\n",
    "module_path = os.path.abspath(os.path.join('../../../'))\n",
    "if module_path not in sys.path:\n",
    "    sys.path.append(module_path)\n",
    "    import aup"
   ]
  },
  {
   "cell_type": "markdown",
   "id": "fd5512d4-9244-46ce-b380-a2a210ed48e5",
   "metadata": {},
   "source": [
    "## Config notebook"
   ]
  },
  {
   "cell_type": "code",
   "execution_count": 2,
   "id": "2bb35026-fe83-4b65-b80f-cbf1cf570ff7",
   "metadata": {
    "tags": []
   },
   "outputs": [],
   "source": [
    "# City of analysis\n",
    "city = 'Monterrey'\n",
    "\n",
    "# Resolution of analysis\n",
    "# (Resolutions 8,9,10,11 available for NDVI but pop0a5 only available in hex_bins_pop_2020, res=8)\n",
    "res = 8\n",
    "#! Name of proximity analysis table must be changed manually.\n",
    "\n",
    "# Save plots to output?\n",
    "save = True\n",
    "save_dir = \"../../../output/figures/ndvi_infancia/\""
   ]
  },
  {
   "cell_type": "markdown",
   "id": "ffd06877-fdc1-49f1-854a-134afe6800fc",
   "metadata": {},
   "source": [
    "## Download data"
   ]
  },
  {
   "cell_type": "markdown",
   "id": "388039bc-053a-4cf8-90d7-38fb526e1de8",
   "metadata": {},
   "source": [
    "### Download data - Proximity analysis"
   ]
  },
  {
   "cell_type": "code",
   "execution_count": 3,
   "id": "2981da21-8bfc-44af-b434-792edcccbb99",
   "metadata": {
    "tags": []
   },
   "outputs": [
    {
     "name": "stdout",
     "output_type": "stream",
     "text": [
      "(1545, 34)\n"
     ]
    },
    {
     "data": {
      "text/html": [
       "<div>\n",
       "<style scoped>\n",
       "    .dataframe tbody tr th:only-of-type {\n",
       "        vertical-align: middle;\n",
       "    }\n",
       "\n",
       "    .dataframe tbody tr th {\n",
       "        vertical-align: top;\n",
       "    }\n",
       "\n",
       "    .dataframe thead th {\n",
       "        text-align: right;\n",
       "    }\n",
       "</style>\n",
       "<table border=\"1\" class=\"dataframe\">\n",
       "  <thead>\n",
       "    <tr style=\"text-align: right;\">\n",
       "      <th></th>\n",
       "      <th>hex_id</th>\n",
       "      <th>res</th>\n",
       "      <th>geometry</th>\n",
       "      <th>max_escuelas</th>\n",
       "      <th>max_preescolar</th>\n",
       "      <th>max_primaria</th>\n",
       "      <th>max_secundaria</th>\n",
       "      <th>max_servicios comunitarios</th>\n",
       "      <th>max_salud</th>\n",
       "      <th>max_guarderías</th>\n",
       "      <th>...</th>\n",
       "      <th>pobmas</th>\n",
       "      <th>pob_0a2</th>\n",
       "      <th>pob_3a5</th>\n",
       "      <th>pob_0a5</th>\n",
       "      <th>pob_0a14</th>\n",
       "      <th>pob_15a24</th>\n",
       "      <th>pob_25a59</th>\n",
       "      <th>p_60ymas</th>\n",
       "      <th>dens_pobha</th>\n",
       "      <th>city</th>\n",
       "    </tr>\n",
       "  </thead>\n",
       "  <tbody>\n",
       "    <tr>\n",
       "      <th>0</th>\n",
       "      <td>8848a23881fffff</td>\n",
       "      <td>8</td>\n",
       "      <td>POLYGON ((-100.38026 25.93877, -100.38069 25.9...</td>\n",
       "      <td>24.460722</td>\n",
       "      <td>24.460722</td>\n",
       "      <td>21.807982</td>\n",
       "      <td>9.385404</td>\n",
       "      <td>44.928272</td>\n",
       "      <td>22.735261</td>\n",
       "      <td>44.928272</td>\n",
       "      <td>...</td>\n",
       "      <td>123.34427</td>\n",
       "      <td>14.639343</td>\n",
       "      <td>11.836064</td>\n",
       "      <td>26.475407</td>\n",
       "      <td>65.098359</td>\n",
       "      <td>43.606558</td>\n",
       "      <td>109.950839</td>\n",
       "      <td>31.459015</td>\n",
       "      <td>2.970079</td>\n",
       "      <td>Monterrey</td>\n",
       "    </tr>\n",
       "    <tr>\n",
       "      <th>1</th>\n",
       "      <td>8848a23883fffff</td>\n",
       "      <td>8</td>\n",
       "      <td>POLYGON ((-100.38588 25.94625, -100.38631 25.9...</td>\n",
       "      <td>14.182725</td>\n",
       "      <td>14.182725</td>\n",
       "      <td>12.408625</td>\n",
       "      <td>8.665118</td>\n",
       "      <td>60.525388</td>\n",
       "      <td>12.251763</td>\n",
       "      <td>60.525388</td>\n",
       "      <td>...</td>\n",
       "      <td>234.69318</td>\n",
       "      <td>26.695550</td>\n",
       "      <td>25.030443</td>\n",
       "      <td>51.725993</td>\n",
       "      <td>122.381728</td>\n",
       "      <td>78.758787</td>\n",
       "      <td>219.166333</td>\n",
       "      <td>65.829040</td>\n",
       "      <td>5.674415</td>\n",
       "      <td>Monterrey</td>\n",
       "    </tr>\n",
       "  </tbody>\n",
       "</table>\n",
       "<p>2 rows × 34 columns</p>\n",
       "</div>"
      ],
      "text/plain": [
       "            hex_id  res                                           geometry  \\\n",
       "0  8848a23881fffff    8  POLYGON ((-100.38026 25.93877, -100.38069 25.9...   \n",
       "1  8848a23883fffff    8  POLYGON ((-100.38588 25.94625, -100.38631 25.9...   \n",
       "\n",
       "   max_escuelas  max_preescolar  max_primaria  max_secundaria  \\\n",
       "0     24.460722       24.460722     21.807982        9.385404   \n",
       "1     14.182725       14.182725     12.408625        8.665118   \n",
       "\n",
       "   max_servicios comunitarios  max_salud  max_guarderías  ...     pobmas  \\\n",
       "0                   44.928272  22.735261       44.928272  ...  123.34427   \n",
       "1                   60.525388  12.251763       60.525388  ...  234.69318   \n",
       "\n",
       "     pob_0a2    pob_3a5    pob_0a5    pob_0a14  pob_15a24   pob_25a59  \\\n",
       "0  14.639343  11.836064  26.475407   65.098359  43.606558  109.950839   \n",
       "1  26.695550  25.030443  51.725993  122.381728  78.758787  219.166333   \n",
       "\n",
       "    p_60ymas  dens_pobha       city  \n",
       "0  31.459015    2.970079  Monterrey  \n",
       "1  65.829040    5.674415  Monterrey  \n",
       "\n",
       "[2 rows x 34 columns]"
      ]
     },
     "execution_count": 3,
     "metadata": {},
     "output_type": "execute_result"
    }
   ],
   "source": [
    "prox_schema = 'prox_analysis'\n",
    "prox_table = 'proximityanalysis_20_ageb_hex8'\n",
    "\n",
    "query = f\"SELECT * FROM {prox_schema}.{prox_table} WHERE \\\"city\\\" LIKE \\'{city}\\'\"\n",
    "prox_gdf = aup.gdf_from_query(query, geometry_col='geometry')\n",
    "\n",
    "# Show\n",
    "print(prox_gdf.shape)\n",
    "prox_gdf.head(2)"
   ]
  },
  {
   "cell_type": "markdown",
   "id": "1f0be62d-af62-40b7-a114-ab5602ffecca",
   "metadata": {},
   "source": [
    "### Download data - NDVI Data"
   ]
  },
  {
   "cell_type": "code",
   "execution_count": 4,
   "id": "fe7e6dfd-a7a1-4130-9190-46e2ffd9c724",
   "metadata": {
    "tags": []
   },
   "outputs": [
    {
     "name": "stdout",
     "output_type": "stream",
     "text": [
      "(1545, 11)\n"
     ]
    },
    {
     "data": {
      "text/html": [
       "<div>\n",
       "<style scoped>\n",
       "    .dataframe tbody tr th:only-of-type {\n",
       "        vertical-align: middle;\n",
       "    }\n",
       "\n",
       "    .dataframe tbody tr th {\n",
       "        vertical-align: top;\n",
       "    }\n",
       "\n",
       "    .dataframe thead th {\n",
       "        text-align: right;\n",
       "    }\n",
       "</style>\n",
       "<table border=\"1\" class=\"dataframe\">\n",
       "  <thead>\n",
       "    <tr style=\"text-align: right;\">\n",
       "      <th></th>\n",
       "      <th>hex_id</th>\n",
       "      <th>geometry</th>\n",
       "      <th>res</th>\n",
       "      <th>ndvi_mean</th>\n",
       "      <th>ndvi_std</th>\n",
       "      <th>ndvi_median</th>\n",
       "      <th>ndvi_max</th>\n",
       "      <th>ndvi_min</th>\n",
       "      <th>ndvi_diff</th>\n",
       "      <th>ndvi_tend</th>\n",
       "      <th>city</th>\n",
       "    </tr>\n",
       "  </thead>\n",
       "  <tbody>\n",
       "    <tr>\n",
       "      <th>0</th>\n",
       "      <td>8848a20021fffff</td>\n",
       "      <td>POLYGON ((-100.19993 25.62874, -100.19476 25.6...</td>\n",
       "      <td>8</td>\n",
       "      <td>0.315942</td>\n",
       "      <td>0.141914</td>\n",
       "      <td>0.322969</td>\n",
       "      <td>0.454254</td>\n",
       "      <td>0.059041</td>\n",
       "      <td>0.395213</td>\n",
       "      <td>-0.002236</td>\n",
       "      <td>Monterrey</td>\n",
       "    </tr>\n",
       "    <tr>\n",
       "      <th>1</th>\n",
       "      <td>8848a20023fffff</td>\n",
       "      <td>POLYGON ((-100.20595 25.64143, -100.20553 25.6...</td>\n",
       "      <td>8</td>\n",
       "      <td>0.266513</td>\n",
       "      <td>0.118887</td>\n",
       "      <td>0.271825</td>\n",
       "      <td>0.387413</td>\n",
       "      <td>0.048207</td>\n",
       "      <td>0.339206</td>\n",
       "      <td>-0.002337</td>\n",
       "      <td>Monterrey</td>\n",
       "    </tr>\n",
       "  </tbody>\n",
       "</table>\n",
       "</div>"
      ],
      "text/plain": [
       "            hex_id                                           geometry  res  \\\n",
       "0  8848a20021fffff  POLYGON ((-100.19993 25.62874, -100.19476 25.6...    8   \n",
       "1  8848a20023fffff  POLYGON ((-100.20595 25.64143, -100.20553 25.6...    8   \n",
       "\n",
       "   ndvi_mean  ndvi_std  ndvi_median  ndvi_max  ndvi_min  ndvi_diff  ndvi_tend  \\\n",
       "0   0.315942  0.141914     0.322969  0.454254  0.059041   0.395213  -0.002236   \n",
       "1   0.266513  0.118887     0.271825  0.387413  0.048207   0.339206  -0.002337   \n",
       "\n",
       "        city  \n",
       "0  Monterrey  \n",
       "1  Monterrey  "
      ]
     },
     "execution_count": 4,
     "metadata": {},
     "output_type": "execute_result"
    }
   ],
   "source": [
    "ndvi_schema = 'raster_analysis'\n",
    "ndvi_table = 'ndvi_analysis_hex'\n",
    "\n",
    "query = f\"SELECT * FROM {ndvi_schema}.{ndvi_table} WHERE \\\"city\\\" LIKE \\'{city}\\' AND \\\"res\\\"={res}\"\n",
    "ndvi_gdf = aup.gdf_from_query(query, geometry_col='geometry')\n",
    "\n",
    "# Show\n",
    "print(ndvi_gdf.shape)\n",
    "ndvi_gdf.head(2)"
   ]
  },
  {
   "cell_type": "markdown",
   "id": "e19fa4fb-3254-42d7-a345-cac56f4c5f5c",
   "metadata": {},
   "source": [
    "### Download data - 2020 Census data "
   ]
  },
  {
   "cell_type": "code",
   "execution_count": 5,
   "id": "5b180f2b-5bce-4649-a7ee-98e0d56117e0",
   "metadata": {
    "tags": []
   },
   "outputs": [
    {
     "name": "stdout",
     "output_type": "stream",
     "text": [
      "(18, 6)\n"
     ]
    },
    {
     "data": {
      "text/html": [
       "<div>\n",
       "<style scoped>\n",
       "    .dataframe tbody tr th:only-of-type {\n",
       "        vertical-align: middle;\n",
       "    }\n",
       "\n",
       "    .dataframe tbody tr th {\n",
       "        vertical-align: top;\n",
       "    }\n",
       "\n",
       "    .dataframe thead th {\n",
       "        text-align: right;\n",
       "    }\n",
       "</style>\n",
       "<table border=\"1\" class=\"dataframe\">\n",
       "  <thead>\n",
       "    <tr style=\"text-align: right;\">\n",
       "      <th></th>\n",
       "      <th>CVEGEO</th>\n",
       "      <th>CVE_ENT</th>\n",
       "      <th>CVE_MUN</th>\n",
       "      <th>NOMGEO</th>\n",
       "      <th>geometry</th>\n",
       "      <th>city</th>\n",
       "    </tr>\n",
       "  </thead>\n",
       "  <tbody>\n",
       "    <tr>\n",
       "      <th>0</th>\n",
       "      <td>19001</td>\n",
       "      <td>19</td>\n",
       "      <td>001</td>\n",
       "      <td>Abasolo</td>\n",
       "      <td>POLYGON ((-100.39267 25.98715, -100.39224 25.9...</td>\n",
       "      <td>Monterrey</td>\n",
       "    </tr>\n",
       "    <tr>\n",
       "      <th>1</th>\n",
       "      <td>19006</td>\n",
       "      <td>19</td>\n",
       "      <td>006</td>\n",
       "      <td>Apodaca</td>\n",
       "      <td>POLYGON ((-100.24794 25.86462, -100.24672 25.8...</td>\n",
       "      <td>Monterrey</td>\n",
       "    </tr>\n",
       "  </tbody>\n",
       "</table>\n",
       "</div>"
      ],
      "text/plain": [
       "  CVEGEO CVE_ENT CVE_MUN   NOMGEO  \\\n",
       "0  19001      19     001  Abasolo   \n",
       "1  19006      19     006  Apodaca   \n",
       "\n",
       "                                            geometry       city  \n",
       "0  POLYGON ((-100.39267 25.98715, -100.39224 25.9...  Monterrey  \n",
       "1  POLYGON ((-100.24794 25.86462, -100.24672 25.8...  Monterrey  "
      ]
     },
     "execution_count": 5,
     "metadata": {},
     "output_type": "execute_result"
    }
   ],
   "source": [
    "mun_schema = 'metropolis'\n",
    "mun_table = 'metro_gdf'\n",
    "\n",
    "query = f\"SELECT * FROM {mun_schema}.{mun_table} WHERE \\\"city\\\" LIKE \\'{city}\\'\"\n",
    "mun_gdf = aup.gdf_from_query(query, geometry_col='geometry')\n",
    "\n",
    "# Show\n",
    "print(mun_gdf.shape)\n",
    "mun_gdf.head(2)"
   ]
  },
  {
   "cell_type": "code",
   "execution_count": null,
   "id": "5746d859-6ab5-4c09-89bc-f9b9abeeec23",
   "metadata": {
    "tags": []
   },
   "outputs": [],
   "source": [
    "# Get cvegeos of city\n",
    "cvegeo_list = list(mun_gdf.loc[mun_gdf.city==city][\"CVEGEO\"].unique())\n",
    "\n",
    "# Donwload hexagons with pop data\n",
    "hex_pop = gpd.GeoDataFrame()\n",
    "hex_schema = 'censo'\n",
    "hex_table = 'hex_bins_pop_2020'\n",
    "\n",
    "# Iterate over municipality codes for each metropolitan area or capital\n",
    "for cvegeo in cvegeo_list:\n",
    "    # Downloads municipality polygon according to code\n",
    "    query = f\"SELECT * FROM {hex_schema}.{hex_table} WHERE \\\"CVEGEO\\\" LIKE \\'{cvegeo}%%\\'\"\n",
    "    hex_tmp = aup.gdf_from_query(query, geometry_col='geometry')\n",
    "    hex_pop = pd.concat([hex_pop, hex_tmp],\n",
    "    ignore_index = True, axis = 0)\n",
    "    \n",
    "# Show\n",
    "print(hex_pop.shape)\n",
    "hex_pop.head(2)"
   ]
  },
  {
   "cell_type": "markdown",
   "id": "d081b89b-c80d-41b7-b9c0-926b10d3af3b",
   "metadata": {},
   "source": [
    "## Data treatment"
   ]
  },
  {
   "cell_type": "markdown",
   "id": "b80558a6-910b-4aa5-93de-d50481b98b5a",
   "metadata": {},
   "source": [
    "### Data treatment - Early childhood % Calculation"
   ]
  },
  {
   "cell_type": "code",
   "execution_count": null,
   "id": "a8a8f5b5-b6f2-441d-8dd7-0426c08b10a2",
   "metadata": {
    "tags": []
   },
   "outputs": [],
   "source": [
    "# Calculate\n",
    "hex_pop['p_infancia'] = hex_pop['p_0a2'] + hex_pop['p_3a5']\n",
    "hex_pop['pct_infancia'] = hex_pop['p_infancia'] / hex_pop['pobtot']\n",
    "\n",
    "# Show\n",
    "hex_pop.plot('pct_infancia', legend=True)"
   ]
  },
  {
   "cell_type": "markdown",
   "id": "64a2327a-ce4f-435d-aa05-3b064fab88a9",
   "metadata": {},
   "source": [
    "### Data treatment - Childhood and NDVI Categories "
   ]
  },
  {
   "cell_type": "markdown",
   "id": "e69a4f5f-3ad3-4fe6-a1c0-6d05c014f37c",
   "metadata": {},
   "source": [
    "Early childhood categories"
   ]
  },
  {
   "cell_type": "code",
   "execution_count": null,
   "id": "c20bf35b-5cab-44ed-9fe0-677f090b619f",
   "metadata": {
    "tags": []
   },
   "outputs": [],
   "source": [
    "hex_pop['pct_inf_rango'] = np.nan\n",
    "hex_pop.loc[hex_pop.pct_infancia>=0.14 , 'pct_inf_rango'] = '+14%'\n",
    "hex_pop.loc[(hex_pop.pct_infancia>=0.12 )&\n",
    "             (hex_pop.pct_infancia<0.14), 'pct_inf_rango'] = '12% - 14%'\n",
    "hex_pop.loc[(hex_pop.pct_infancia>=0.10)&\n",
    "             (hex_pop.pct_infancia<0.12), 'pct_inf_rango'] = '10% - 12%'\n",
    "hex_pop.loc[(hex_pop.pct_infancia>=0.08)&\n",
    "             (hex_pop.pct_infancia<0.1), 'pct_inf_rango'] = '8% - 10%'\n",
    "hex_pop.loc[(hex_pop.pct_infancia>=0.06)&\n",
    "             (hex_pop.pct_infancia<0.08), 'pct_inf_rango'] = '6% - 8%'\n",
    "hex_pop.loc[(hex_pop.pct_infancia>=0.03)&\n",
    "             (hex_pop.pct_infancia<0.06), 'pct_inf_rango'] = '3% - 6%'\n",
    "hex_pop.loc[(hex_pop.pct_infancia<0.03), 'pct_inf_rango'] = '0% - 3%'\n",
    "\n",
    "#Definir orden y convertir pct_inf_rango en categoría ordenada\n",
    "categories = ['0% - 3%', '3% - 6%', '6% - 8%', '8% - 10%', '10% - 12%', '12% - 14%', '+14%']\n",
    "hex_pop['pct_inf_rango'] = pd.Categorical(hex_pop['pct_inf_rango'], categories=categories, ordered=True)"
   ]
  },
  {
   "cell_type": "markdown",
   "id": "9710c761-e3e1-4976-b652-85cfc0c9b011",
   "metadata": {},
   "source": [
    "NDVI categories"
   ]
  },
  {
   "cell_type": "code",
   "execution_count": null,
   "id": "078681d1-1883-4e5f-88c5-d3629f5556c6",
   "metadata": {
    "tags": []
   },
   "outputs": [],
   "source": [
    "ndvi_gdf['ndvi_median_rango'] = np.nan\n",
    "ndvi_gdf.loc[ndvi_gdf.ndvi_median>=0.6 , 'ndvi_median_rango'] = 'Alta densidad vegetal'\n",
    "ndvi_gdf.loc[(ndvi_gdf.ndvi_median>=0.4 )&\n",
    "             (ndvi_gdf.ndvi_median<0.6), 'ndvi_median_rango'] = 'Moderada densidad vegetal'\n",
    "ndvi_gdf.loc[(ndvi_gdf.ndvi_median>=0.2)&\n",
    "             (ndvi_gdf.ndvi_median<0.4), 'ndvi_median_rango'] = 'Mínima densidad vegetal'\n",
    "ndvi_gdf.loc[(ndvi_gdf.ndvi_median>=0.1)&\n",
    "             (ndvi_gdf.ndvi_median<0.2), 'ndvi_median_rango'] = 'Suelo'\n",
    "ndvi_gdf.loc[(ndvi_gdf.ndvi_median<0.1), 'ndvi_median_rango'] = 'Suelo artificial/Agua/Piedra'\n",
    "\n",
    "\n",
    "#Definir orden y convertir pct_inf_rango en categoría ordenada\n",
    "categories = ['Suelo artificial/Agua/Piedra', 'Suelo', 'Mínima densidad vegetal', 'Moderada densidad vegetal', 'Alta densidad vegetal']\n",
    "ndvi_gdf['ndvi_median_rango'] = pd.Categorical(ndvi_gdf['ndvi_median_rango'], categories=categories, ordered=True)"
   ]
  },
  {
   "cell_type": "markdown",
   "id": "9adc6412-4ac5-451a-8e2b-e1bab0f49b69",
   "metadata": {},
   "source": [
    "Proximity analysis categories"
   ]
  },
  {
   "cell_type": "code",
   "execution_count": null,
   "id": "7bc9ec57-b3a3-4628-ba7e-7e52c38666ec",
   "metadata": {
    "tags": []
   },
   "outputs": [],
   "source": [
    "prox_gdf['prox_cat'] = np.nan\n",
    "prox_gdf.loc[prox_gdf.max_idx_15_min>=60 , 'prox_cat'] = '>60'\n",
    "prox_gdf.loc[(prox_gdf.max_idx_15_min>=45 )&\n",
    "             (prox_gdf.max_idx_15_min<60), 'prox_cat'] = '45-60'\n",
    "prox_gdf.loc[(prox_gdf.max_idx_15_min>=30)&\n",
    "             (prox_gdf.max_idx_15_min<45), 'prox_cat'] = '30-45'\n",
    "prox_gdf.loc[(prox_gdf.max_idx_15_min>=15)&\n",
    "             (prox_gdf.max_idx_15_min<30), 'prox_cat'] = '15-30'\n",
    "prox_gdf.loc[(prox_gdf.max_idx_15_min<15), 'prox_cat'] = '<15'\n",
    "\n",
    "\n",
    "#Definir orden y convertir pct_inf_rango en categoría ordenada\n",
    "categories = ['<15', '15-30', '30-45', '45-60', '>60']\n",
    "prox_gdf['prox_cat'] = pd.Categorical(prox_gdf['prox_cat'], categories=categories, ordered=True)"
   ]
  },
  {
   "cell_type": "markdown",
   "id": "e2d165a9-d49d-4945-9fd5-8df4e26c8de4",
   "metadata": {},
   "source": [
    "### Data treatment - Filter analysis data"
   ]
  },
  {
   "cell_type": "code",
   "execution_count": null,
   "id": "9a59ea84-7080-4b6d-bc48-190c9390a8b2",
   "metadata": {
    "tags": []
   },
   "outputs": [],
   "source": [
    "# Filter for ranges of interest\n",
    "prox_interest_gdf = prox_gdf.loc[(prox_gdf['prox_cat'] == '<15') | \n",
    "                                 (prox_gdf['prox_cat'] == '15-30')]\n",
    "\n",
    "#Refinir orden y de las categorías disponibles para que no haya problemas en la simbología al plotear\n",
    "categories = ['15-30','<15']\n",
    "prox_interest_gdf['prox_cat'] = pd.Categorical(prox_interest_gdf['prox_cat'], categories=categories, ordered=True)\n",
    "\n",
    "# Dissolve data\n",
    "prox_interest_gdf.to_crs(\"EPSG:6372\",inplace=True)\n",
    "dissolved = prox_interest_gdf.dissolve('prox_cat')\n",
    "dissolved.reset_index(inplace=True)\n",
    "dissolved.to_crs(\"EPSG:4326\",inplace=True)"
   ]
  },
  {
   "cell_type": "markdown",
   "id": "4892336d-45e6-4d17-80a6-156d1edffab7",
   "metadata": {},
   "source": [
    "### Plot data visualization"
   ]
  },
  {
   "cell_type": "code",
   "execution_count": null,
   "id": "f8ab6990-0ede-4f46-b9db-7244a711c3b7",
   "metadata": {
    "tags": []
   },
   "outputs": [],
   "source": [
    "# Preparar colores\n",
    "colors = [\"black\",\"orange\"]\n",
    "\n",
    "# Plotear gráficos\n",
    "fig, ax = plt.subplots(1, 2, figsize=(10, 10))\n",
    "hex_pop.plot('pct_inf_rango', 'BuPu', ax=ax[0], legend=True,zorder=1)\n",
    "dissolved.plot('prox_cat',ax=ax[0],zorder=2,\n",
    "               edgecolor=colors,\n",
    "               facecolor=\"none\",\n",
    "               lw=1)\n",
    "\n",
    "ndvi_gdf.plot('ndvi_median_rango','YlGn', ax=ax[1], legend=True,zorder=1)\n",
    "dissolved.plot('prox_cat',ax=ax[1],zorder=2,\n",
    "               edgecolor=colors,\n",
    "               facecolor=\"none\",\n",
    "               lw=1)\n",
    "\n",
    "ax[0].set_title('Porcentaje de población en edad de 0 - 5 años')\n",
    "ax[1].set_title('Índice de vegetación')\n",
    "\n",
    "# Guardar gráficos\n",
    "if save:\n",
    "    plt.savefig(f\"../../../output/figures/ndvi_infancia/ndvi_infancia_prox_{city}.svg\")"
   ]
  },
  {
   "cell_type": "code",
   "execution_count": null,
   "id": "0c505bf5-d52b-413a-b399-5edb06693e61",
   "metadata": {},
   "outputs": [],
   "source": []
  }
 ],
 "metadata": {
  "kernelspec": {
   "display_name": "Python 3 (ipykernel)",
   "language": "python",
   "name": "python3"
  },
  "language_info": {
   "codemirror_mode": {
    "name": "ipython",
    "version": 3
   },
   "file_extension": ".py",
   "mimetype": "text/x-python",
   "name": "python",
   "nbconvert_exporter": "python",
   "pygments_lexer": "ipython3",
   "version": "3.10.5"
  }
 },
 "nbformat": 4,
 "nbformat_minor": 5
}
