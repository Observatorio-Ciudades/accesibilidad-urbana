{
 "cells": [
  {
   "cell_type": "markdown",
   "id": "7a10b0a8-5c95-41d2-9c2f-c926671d9ea2",
   "metadata": {
    "tags": []
   },
   "source": [
    "# Ndvi_ndmi-behaviour-bydate"
   ]
  },
  {
   "cell_type": "markdown",
   "id": "8458fa4f-ba2d-4a96-80d6-91513b68f429",
   "metadata": {},
   "source": [
    "Analyses NDVI or NDMI data by month throughout the years."
   ]
  },
  {
   "cell_type": "markdown",
   "id": "e1f2c421-ef7d-4771-8e5b-d67ded6ba8e0",
   "metadata": {},
   "source": [
    "#### Planeación\n",
    "\n",
    "-- Data treatment --\n",
    "- Create datetime data (pd.to_datetime(month + year))\n",
    "- Find season\n",
    "    * winter = enero, febrero, marzo\n",
    "    * sping = abril, mayo, junio\n",
    "    * summer = julio, agosto, septiembre\n",
    "    * fall = octubre, noviembre, diciembre\n",
    "\n",
    "------- Data analysis ------- Graph 1 sola línea por ciudad -------\n",
    "- Group by por date [with ndvi/ndmi mean]\n",
    "- Plot\n",
    "\n",
    "------- Data analysis ------- Graph Varias lineas, una por año -------\n",
    "- Create figure\n",
    "- For loop year by year:\n",
    "    - Isolate df from that specific year\n",
    "    - Group by month / Group by season [with ndvi/ndmi mean]\n",
    "    - Plot\n",
    "\n",
    "------- Data analysis ------- Mapas -------\n",
    "- Separar en 4 dfs por season\n",
    "- For loop:\n",
    "    - Group by hex, [ndvi/ndmi mean]\n",
    "    - Enlazar a geometría\n",
    "    - Mapear\n"
   ]
  },
  {
   "cell_type": "markdown",
   "id": "9dd65889-4847-4e46-b36f-0cf1826573fe",
   "metadata": {
    "tags": []
   },
   "source": [
    "DATA STRUCTURE\n",
    "1. hex_id\n",
    "2. res\n",
    "3. ndvi / ndmi\n",
    "4. month = 1,2,3,4....\n",
    "5. year = 2018, 2019, 2020, 2021, 2022"
   ]
  },
  {
   "cell_type": "markdown",
   "id": "aa17cf37-5805-4ba7-80af-34afacb56007",
   "metadata": {},
   "source": [
    "## Import libraries"
   ]
  },
  {
   "cell_type": "code",
   "execution_count": 1,
   "id": "e8916b06-4acb-48f5-99cf-dbbecb84ecdb",
   "metadata": {
    "tags": []
   },
   "outputs": [
    {
     "name": "stderr",
     "output_type": "stream",
     "text": [
      "/usr/local/python/lib/python3.10/site-packages/osmnx/utils.py:192: UserWarning: The `utils.config` function is deprecated and will be removed in a future release. Instead, use the `settings` module directly to configure a global setting's value. For example, `ox.settings.log_console=True`.\n",
      "  warnings.warn(\n"
     ]
    }
   ],
   "source": [
    "import os\n",
    "import sys\n",
    "\n",
    "import pandas as pd\n",
    "import geopandas as gpd\n",
    "import numpy as np\n",
    "\n",
    "import matplotlib.pyplot as plt\n",
    "from matplotlib import colors\n",
    "import seaborn as sns\n",
    "\n",
    "from pandas.api.types import CategoricalDtype\n",
    "\n",
    "import warnings\n",
    "warnings.simplefilter(action='ignore', category=FutureWarning)\n",
    "\n",
    "module_path = os.path.abspath(os.path.join('../../../'))\n",
    "if module_path not in sys.path:\n",
    "    sys.path.append(module_path)\n",
    "    import aup"
   ]
  },
  {
   "cell_type": "code",
   "execution_count": 2,
   "id": "e40829d1-d0bc-496f-9f71-9c07f63acf6f",
   "metadata": {
    "tags": []
   },
   "outputs": [],
   "source": [
    "# Libraries for LOWESS\n",
    "#pip install statsmodels --upgrade"
   ]
  },
  {
   "cell_type": "code",
   "execution_count": 3,
   "id": "0d83772c-2251-440d-87b4-eb1302ae17f8",
   "metadata": {
    "tags": []
   },
   "outputs": [],
   "source": [
    "# Libraries for LOWESS\n",
    "#pip install plotly"
   ]
  },
  {
   "cell_type": "code",
   "execution_count": 4,
   "id": "bd358f48-41e4-4a92-9ea1-440fdd8afcf8",
   "metadata": {
    "tags": []
   },
   "outputs": [],
   "source": [
    "# Libraries for LOWESS (Locally Weighted Scatterplot Smoothing) regression model\n",
    "# https://towardsdatascience.com/lowess-regression-in-python-how-to-discover-clear-patterns-in-your-data-f26e523d7a35\n",
    "# https://stackoverflow.com/questions/56283294/importerror-cannot-import-name-factorial\n",
    "import plotly.graph_objects as go # for data visualization\n",
    "import statsmodels.api as sm # to build a LOWESS model"
   ]
  },
  {
   "cell_type": "markdown",
   "id": "4295aff3-a9c2-4ee3-99a9-a43e21309dfb",
   "metadata": {},
   "source": [
    "## Config notebook"
   ]
  },
  {
   "cell_type": "code",
   "execution_count": 5,
   "id": "e4827719-2440-46db-b6c7-521ba90a5543",
   "metadata": {
    "tags": []
   },
   "outputs": [],
   "source": [
    "city = 'Guadalajara'\n",
    "analysis_type = 'ndvi' #Only 'ndvi' or 'ndmi' possible\n",
    "res = 10"
   ]
  },
  {
   "cell_type": "code",
   "execution_count": 6,
   "id": "392eac35-9484-48bf-a335-f554fe5b8723",
   "metadata": {},
   "outputs": [],
   "source": [
    "#Export to \"../../../data/external/__ a .csv containing hex_id, res, ndvi, month, year, city, date, month_str, season.\n",
    "csv_dataset = True\n",
    "\n",
    "#Plot continous behavour graph (one single line throughout 5 years)\n",
    "continous_behaviour = True\n",
    "\n",
    "#Plot yearly behavour graph (one line for each year, shows seasonal behaviour) + mean line\n",
    "yearly_behaviour = True\n",
    "\n",
    "#Plot yearly behavour graph (one line for each year, shows seasonal behaviour) + LOWESS smoothed line\n",
    "yearly_behaviour_smooth = True\n",
    "\n",
    "#Plot seasonal maps by values\n",
    "value_maps = True\n",
    "\n",
    "#Plot seasonal maps by categories\n",
    "categories_maps = True #NDVI only\n",
    "\n",
    "#Save all outputs (graphs and maps) in output > figures > ndvi_ndmi_marg_bycity > {city.lower()} (Must first create {city.lower()} folder)\n",
    "save_plots = True\n"
   ]
  },
  {
   "cell_type": "markdown",
   "id": "f353dd6b-97fa-4de4-8fee-e0384aaf09ee",
   "metadata": {},
   "source": [
    "## Data download"
   ]
  },
  {
   "cell_type": "markdown",
   "id": "9cc96ca5-fa86-485a-8a28-edf2b2d7ee43",
   "metadata": {},
   "source": [
    "### Data download - Municipality polygons"
   ]
  },
  {
   "cell_type": "code",
   "execution_count": 7,
   "id": "24b01302-1592-450e-bc24-328208307c0f",
   "metadata": {
    "tags": []
   },
   "outputs": [
    {
     "name": "stdout",
     "output_type": "stream",
     "text": [
      "(10, 6)\n"
     ]
    },
    {
     "data": {
      "text/html": [
       "<div>\n",
       "<style scoped>\n",
       "    .dataframe tbody tr th:only-of-type {\n",
       "        vertical-align: middle;\n",
       "    }\n",
       "\n",
       "    .dataframe tbody tr th {\n",
       "        vertical-align: top;\n",
       "    }\n",
       "\n",
       "    .dataframe thead th {\n",
       "        text-align: right;\n",
       "    }\n",
       "</style>\n",
       "<table border=\"1\" class=\"dataframe\">\n",
       "  <thead>\n",
       "    <tr style=\"text-align: right;\">\n",
       "      <th></th>\n",
       "      <th>CVEGEO</th>\n",
       "      <th>CVE_ENT</th>\n",
       "      <th>CVE_MUN</th>\n",
       "      <th>NOMGEO</th>\n",
       "      <th>geometry</th>\n",
       "      <th>city</th>\n",
       "    </tr>\n",
       "  </thead>\n",
       "  <tbody>\n",
       "    <tr>\n",
       "      <th>0</th>\n",
       "      <td>14002</td>\n",
       "      <td>14</td>\n",
       "      <td>002</td>\n",
       "      <td>Acatlán de Juárez</td>\n",
       "      <td>POLYGON ((-103.65448 20.50346, -103.65200 20.5...</td>\n",
       "      <td>Guadalajara</td>\n",
       "    </tr>\n",
       "    <tr>\n",
       "      <th>1</th>\n",
       "      <td>14039</td>\n",
       "      <td>14</td>\n",
       "      <td>039</td>\n",
       "      <td>Guadalajara</td>\n",
       "      <td>POLYGON ((-103.31164 20.75098, -103.31014 20.7...</td>\n",
       "      <td>Guadalajara</td>\n",
       "    </tr>\n",
       "  </tbody>\n",
       "</table>\n",
       "</div>"
      ],
      "text/plain": [
       "  CVEGEO CVE_ENT CVE_MUN             NOMGEO  \\\n",
       "0  14002      14     002  Acatlán de Juárez   \n",
       "1  14039      14     039        Guadalajara   \n",
       "\n",
       "                                            geometry         city  \n",
       "0  POLYGON ((-103.65448 20.50346, -103.65200 20.5...  Guadalajara  \n",
       "1  POLYGON ((-103.31164 20.75098, -103.31014 20.7...  Guadalajara  "
      ]
     },
     "execution_count": 7,
     "metadata": {},
     "output_type": "execute_result"
    }
   ],
   "source": [
    "mun_schema = 'metropolis'\n",
    "mun_table = 'metro_gdf'\n",
    "\n",
    "query = f\"SELECT * FROM {mun_schema}.{mun_table} WHERE \\\"city\\\" LIKE \\'{city}\\'\"\n",
    "mun_gdf = aup.gdf_from_query(query, geometry_col='geometry')\n",
    "\n",
    "print(mun_gdf.shape)\n",
    "mun_gdf.head(2)"
   ]
  },
  {
   "cell_type": "markdown",
   "id": "77882d4e-127a-480a-9966-0a7301177c43",
   "metadata": {},
   "source": [
    "### Data download - Hex grid"
   ]
  },
  {
   "cell_type": "code",
   "execution_count": 8,
   "id": "7dfc8a8d-165d-418b-917e-b87817c8a8ff",
   "metadata": {
    "tags": []
   },
   "outputs": [
    {
     "data": {
      "text/plain": [
       "['14002',\n",
       " '14039',\n",
       " '14044',\n",
       " '14051',\n",
       " '14070',\n",
       " '14097',\n",
       " '14098',\n",
       " '14101',\n",
       " '14120',\n",
       " '14124']"
      ]
     },
     "execution_count": 8,
     "metadata": {},
     "output_type": "execute_result"
    }
   ],
   "source": [
    "cvegeo_list = list(mun_gdf.loc[mun_gdf.city==city][\"CVEGEO\"].unique())\n",
    "cvegeo_list"
   ]
  },
  {
   "cell_type": "code",
   "execution_count": 9,
   "id": "2e24bbca-1736-4233-9c78-b2bd3273dbe2",
   "metadata": {
    "tags": []
   },
   "outputs": [
    {
     "name": "stderr",
     "output_type": "stream",
     "text": [
      "Exception during reset or similar\n",
      "Traceback (most recent call last):\n",
      "  File \"/usr/local/python/lib/python3.10/site-packages/sqlalchemy/pool/base.py\", line 991, in _finalize_fairy\n",
      "    fairy._reset(\n",
      "  File \"/usr/local/python/lib/python3.10/site-packages/sqlalchemy/pool/base.py\", line 1440, in _reset\n",
      "    pool._dialect.do_rollback(self)\n",
      "  File \"/usr/local/python/lib/python3.10/site-packages/sqlalchemy/engine/default.py\", line 657, in do_rollback\n",
      "    dbapi_connection.rollback()\n",
      "psycopg2.OperationalError: SSL SYSCALL error: EOF detected\n",
      "\n"
     ]
    },
    {
     "name": "stdout",
     "output_type": "stream",
     "text": [
      "(200237, 3)\n"
     ]
    },
    {
     "data": {
      "text/html": [
       "<div>\n",
       "<style scoped>\n",
       "    .dataframe tbody tr th:only-of-type {\n",
       "        vertical-align: middle;\n",
       "    }\n",
       "\n",
       "    .dataframe tbody tr th {\n",
       "        vertical-align: top;\n",
       "    }\n",
       "\n",
       "    .dataframe thead th {\n",
       "        text-align: right;\n",
       "    }\n",
       "</style>\n",
       "<table border=\"1\" class=\"dataframe\">\n",
       "  <thead>\n",
       "    <tr style=\"text-align: right;\">\n",
       "      <th></th>\n",
       "      <th>geometry</th>\n",
       "      <th>hex_id_10</th>\n",
       "      <th>CVEGEO</th>\n",
       "    </tr>\n",
       "  </thead>\n",
       "  <tbody>\n",
       "    <tr>\n",
       "      <th>0</th>\n",
       "      <td>POLYGON ((-103.58970 20.46142, -103.58905 20.4...</td>\n",
       "      <td>8a49ab534d87fff</td>\n",
       "      <td>14002</td>\n",
       "    </tr>\n",
       "    <tr>\n",
       "      <th>1</th>\n",
       "      <td>POLYGON ((-103.62132 20.40661, -103.62204 20.4...</td>\n",
       "      <td>8a49abc9cc2ffff</td>\n",
       "      <td>14002</td>\n",
       "    </tr>\n",
       "  </tbody>\n",
       "</table>\n",
       "</div>"
      ],
      "text/plain": [
       "                                            geometry        hex_id_10 CVEGEO\n",
       "0  POLYGON ((-103.58970 20.46142, -103.58905 20.4...  8a49ab534d87fff  14002\n",
       "1  POLYGON ((-103.62132 20.40661, -103.62204 20.4...  8a49abc9cc2ffff  14002"
      ]
     },
     "execution_count": 9,
     "metadata": {},
     "output_type": "execute_result"
    }
   ],
   "source": [
    "# donwload hexagons\n",
    "hex_grid = gpd.GeoDataFrame()\n",
    "hex_grid_schema = 'hexgrid'\n",
    "hex_grid_table = 'hexgrid_{}_city'.format(res)\n",
    "\n",
    "# Iterates over municipality codes for each metropolitan area or capital\n",
    "for cvegeo in cvegeo_list:\n",
    "    # Downloads municipality polygon according to code\n",
    "    query = f\"SELECT * FROM {hex_grid_schema}.{hex_grid_table} WHERE \\\"CVEGEO\\\" LIKE \\'{cvegeo}%%\\'\"\n",
    "    hex_tmp = aup.gdf_from_query(query, geometry_col='geometry')\n",
    "    hex_grid = pd.concat([hex_grid, hex_tmp],\n",
    "    ignore_index = True, axis = 0)\n",
    "print(hex_grid.shape)\n",
    "hex_grid.head(2)"
   ]
  },
  {
   "cell_type": "markdown",
   "id": "4c371118-1b57-4447-857f-61a897013235",
   "metadata": {},
   "source": [
    "### Data download - Raster Analysis Data"
   ]
  },
  {
   "cell_type": "code",
   "execution_count": 10,
   "id": "136ad094-757b-496f-8942-3e1ab65ede11",
   "metadata": {
    "tags": []
   },
   "outputs": [
    {
     "name": "stderr",
     "output_type": "stream",
     "text": [
      "Exception during reset or similar\n",
      "Traceback (most recent call last):\n",
      "  File \"/usr/local/python/lib/python3.10/site-packages/sqlalchemy/pool/base.py\", line 991, in _finalize_fairy\n",
      "    fairy._reset(\n",
      "  File \"/usr/local/python/lib/python3.10/site-packages/sqlalchemy/pool/base.py\", line 1440, in _reset\n",
      "    pool._dialect.do_rollback(self)\n",
      "  File \"/usr/local/python/lib/python3.10/site-packages/sqlalchemy/engine/default.py\", line 657, in do_rollback\n",
      "    dbapi_connection.rollback()\n",
      "psycopg2.OperationalError: SSL SYSCALL error: EOF detected\n",
      "\n"
     ]
    },
    {
     "name": "stdout",
     "output_type": "stream",
     "text": [
      "(3489780, 6)\n"
     ]
    },
    {
     "data": {
      "text/html": [
       "<div>\n",
       "<style scoped>\n",
       "    .dataframe tbody tr th:only-of-type {\n",
       "        vertical-align: middle;\n",
       "    }\n",
       "\n",
       "    .dataframe tbody tr th {\n",
       "        vertical-align: top;\n",
       "    }\n",
       "\n",
       "    .dataframe thead th {\n",
       "        text-align: right;\n",
       "    }\n",
       "</style>\n",
       "<table border=\"1\" class=\"dataframe\">\n",
       "  <thead>\n",
       "    <tr style=\"text-align: right;\">\n",
       "      <th></th>\n",
       "      <th>hex_id</th>\n",
       "      <th>res</th>\n",
       "      <th>ndvi</th>\n",
       "      <th>month</th>\n",
       "      <th>year</th>\n",
       "      <th>city</th>\n",
       "    </tr>\n",
       "  </thead>\n",
       "  <tbody>\n",
       "    <tr>\n",
       "      <th>0</th>\n",
       "      <td>8a49ab4b6d57fff</td>\n",
       "      <td>10</td>\n",
       "      <td>0.359838</td>\n",
       "      <td>1</td>\n",
       "      <td>2018</td>\n",
       "      <td>Guadalajara</td>\n",
       "    </tr>\n",
       "    <tr>\n",
       "      <th>1</th>\n",
       "      <td>8a49ab4b2717fff</td>\n",
       "      <td>10</td>\n",
       "      <td>0.291434</td>\n",
       "      <td>1</td>\n",
       "      <td>2018</td>\n",
       "      <td>Guadalajara</td>\n",
       "    </tr>\n",
       "  </tbody>\n",
       "</table>\n",
       "</div>"
      ],
      "text/plain": [
       "            hex_id  res      ndvi  month  year         city\n",
       "0  8a49ab4b6d57fff   10  0.359838      1  2018  Guadalajara\n",
       "1  8a49ab4b2717fff   10  0.291434      1  2018  Guadalajara"
      ]
     },
     "execution_count": 10,
     "metadata": {},
     "output_type": "execute_result"
    }
   ],
   "source": [
    "# Info to query\n",
    "raster_schema = 'raster_analysis'\n",
    "raster_folder = '{}_complete_dataset_hex'.format(analysis_type)\n",
    "\n",
    "# Query\n",
    "query = f\"SELECT * FROM {raster_schema}.{raster_folder} WHERE \\\"city\\\" LIKE \\'{city}\\' AND \\\"res\\\"={res}\"\n",
    "raster_dataset = aup.df_from_query(query)\n",
    "\n",
    "print(raster_dataset.shape)\n",
    "raster_dataset.head(2)"
   ]
  },
  {
   "cell_type": "markdown",
   "id": "1c1a1f4c-38fb-40e3-85fa-d14eee68d52a",
   "metadata": {
    "tags": []
   },
   "source": [
    "## Data treatment"
   ]
  },
  {
   "cell_type": "markdown",
   "id": "a9f7b3a7-3542-4797-b01c-434e3171b68a",
   "metadata": {},
   "source": [
    "Data treatment - Create datetime data"
   ]
  },
  {
   "cell_type": "code",
   "execution_count": 11,
   "id": "b6cd64c9-284e-4794-b97b-97ac2c494f23",
   "metadata": {
    "tags": []
   },
   "outputs": [
    {
     "name": "stdout",
     "output_type": "stream",
     "text": [
      "(3489780, 7)\n"
     ]
    },
    {
     "data": {
      "text/html": [
       "<div>\n",
       "<style scoped>\n",
       "    .dataframe tbody tr th:only-of-type {\n",
       "        vertical-align: middle;\n",
       "    }\n",
       "\n",
       "    .dataframe tbody tr th {\n",
       "        vertical-align: top;\n",
       "    }\n",
       "\n",
       "    .dataframe thead th {\n",
       "        text-align: right;\n",
       "    }\n",
       "</style>\n",
       "<table border=\"1\" class=\"dataframe\">\n",
       "  <thead>\n",
       "    <tr style=\"text-align: right;\">\n",
       "      <th></th>\n",
       "      <th>hex_id</th>\n",
       "      <th>res</th>\n",
       "      <th>ndvi</th>\n",
       "      <th>month</th>\n",
       "      <th>year</th>\n",
       "      <th>city</th>\n",
       "      <th>date</th>\n",
       "    </tr>\n",
       "  </thead>\n",
       "  <tbody>\n",
       "    <tr>\n",
       "      <th>0</th>\n",
       "      <td>8a49ab4b6d57fff</td>\n",
       "      <td>10</td>\n",
       "      <td>0.359838</td>\n",
       "      <td>1</td>\n",
       "      <td>2018</td>\n",
       "      <td>Guadalajara</td>\n",
       "      <td>2018-01</td>\n",
       "    </tr>\n",
       "    <tr>\n",
       "      <th>1</th>\n",
       "      <td>8a49ab4b2717fff</td>\n",
       "      <td>10</td>\n",
       "      <td>0.291434</td>\n",
       "      <td>1</td>\n",
       "      <td>2018</td>\n",
       "      <td>Guadalajara</td>\n",
       "      <td>2018-01</td>\n",
       "    </tr>\n",
       "  </tbody>\n",
       "</table>\n",
       "</div>"
      ],
      "text/plain": [
       "            hex_id  res      ndvi  month  year         city     date\n",
       "0  8a49ab4b6d57fff   10  0.359838      1  2018  Guadalajara  2018-01\n",
       "1  8a49ab4b2717fff   10  0.291434      1  2018  Guadalajara  2018-01"
      ]
     },
     "execution_count": 11,
     "metadata": {},
     "output_type": "execute_result"
    }
   ],
   "source": [
    "#Creates datetime data by adding month (string) + / + year (string)\n",
    "raster_dataset['date'] = pd.to_datetime(raster_dataset['month'].astype(str) + '/' + raster_dataset['year'].astype(str))\n",
    "\n",
    "#Strips the day, leaving month and year\n",
    "raster_dataset['date'] = raster_dataset['date'].apply(lambda x: x.strftime('%Y-%m'))\n",
    "\n",
    "#Show dataframe\n",
    "print(raster_dataset.shape)\n",
    "raster_dataset.head(2)"
   ]
  },
  {
   "cell_type": "markdown",
   "id": "f9bb9d90-a89a-4c80-8ee2-52ee14bd9c1a",
   "metadata": {
    "tags": []
   },
   "source": [
    "Data treatment - Name months"
   ]
  },
  {
   "cell_type": "code",
   "execution_count": 12,
   "id": "fc15bee2-3448-4277-ba2c-d0789acefcb1",
   "metadata": {
    "tags": []
   },
   "outputs": [
    {
     "name": "stdout",
     "output_type": "stream",
     "text": [
      "(3489780, 8)\n"
     ]
    },
    {
     "data": {
      "text/html": [
       "<div>\n",
       "<style scoped>\n",
       "    .dataframe tbody tr th:only-of-type {\n",
       "        vertical-align: middle;\n",
       "    }\n",
       "\n",
       "    .dataframe tbody tr th {\n",
       "        vertical-align: top;\n",
       "    }\n",
       "\n",
       "    .dataframe thead th {\n",
       "        text-align: right;\n",
       "    }\n",
       "</style>\n",
       "<table border=\"1\" class=\"dataframe\">\n",
       "  <thead>\n",
       "    <tr style=\"text-align: right;\">\n",
       "      <th></th>\n",
       "      <th>hex_id</th>\n",
       "      <th>res</th>\n",
       "      <th>ndvi</th>\n",
       "      <th>month</th>\n",
       "      <th>year</th>\n",
       "      <th>city</th>\n",
       "      <th>date</th>\n",
       "      <th>month_str</th>\n",
       "    </tr>\n",
       "  </thead>\n",
       "  <tbody>\n",
       "    <tr>\n",
       "      <th>0</th>\n",
       "      <td>8a49ab4b6d57fff</td>\n",
       "      <td>10</td>\n",
       "      <td>0.359838</td>\n",
       "      <td>1</td>\n",
       "      <td>2018</td>\n",
       "      <td>Guadalajara</td>\n",
       "      <td>2018-01</td>\n",
       "      <td>jan</td>\n",
       "    </tr>\n",
       "    <tr>\n",
       "      <th>1</th>\n",
       "      <td>8a49ab4b2717fff</td>\n",
       "      <td>10</td>\n",
       "      <td>0.291434</td>\n",
       "      <td>1</td>\n",
       "      <td>2018</td>\n",
       "      <td>Guadalajara</td>\n",
       "      <td>2018-01</td>\n",
       "      <td>jan</td>\n",
       "    </tr>\n",
       "  </tbody>\n",
       "</table>\n",
       "</div>"
      ],
      "text/plain": [
       "            hex_id  res      ndvi  month  year         city     date month_str\n",
       "0  8a49ab4b6d57fff   10  0.359838      1  2018  Guadalajara  2018-01       jan\n",
       "1  8a49ab4b2717fff   10  0.291434      1  2018  Guadalajara  2018-01       jan"
      ]
     },
     "execution_count": 12,
     "metadata": {},
     "output_type": "execute_result"
    }
   ],
   "source": [
    "def name_month(month):\n",
    "    if (month == 1):\n",
    "        return 'jan'\n",
    "    elif (month == 2):\n",
    "        return 'feb'\n",
    "    elif (month == 3):\n",
    "        return 'mar'\n",
    "    elif (month == 4):\n",
    "        return 'apr'\n",
    "    elif (month == 5):\n",
    "        return 'may'\n",
    "    elif (month == 6):\n",
    "        return 'jun'\n",
    "    elif (month == 7):\n",
    "        return 'jul'\n",
    "    elif (month == 8):\n",
    "        return 'aug'\n",
    "    elif (month == 9):\n",
    "        return 'sep'\n",
    "    elif (month == 10):\n",
    "        return 'oct'\n",
    "    elif (month == 11):\n",
    "        return 'nov'\n",
    "    elif (month == 12):\n",
    "        return 'dec'\n",
    "    else:\n",
    "          return \"N/A\"\n",
    "\n",
    "raster_dataset['month_str'] = raster_dataset['month'].apply(lambda x: name_month(x))\n",
    "    \n",
    "# Ordering months chronologically\n",
    "categories = ['jan', 'feb', 'mar', 'apr', 'may', 'jun', 'jul','aug', 'sep', 'oct', 'nov', 'dec']\n",
    "raster_dataset['month_str'] = pd.Categorical(raster_dataset['month_str'], categories=categories, ordered=True)\n",
    "\n",
    "#Show dataframe\n",
    "print(raster_dataset.shape)\n",
    "raster_dataset.head(2)"
   ]
  },
  {
   "cell_type": "markdown",
   "id": "6bbe1e5d-9d81-47db-98ba-8d16265df7b0",
   "metadata": {},
   "source": [
    "Data treatment - Create season data"
   ]
  },
  {
   "cell_type": "code",
   "execution_count": 13,
   "id": "206451da-6fbe-43de-9e06-79cc302a2838",
   "metadata": {
    "tags": []
   },
   "outputs": [
    {
     "name": "stdout",
     "output_type": "stream",
     "text": [
      "(3489780, 9)\n"
     ]
    },
    {
     "data": {
      "text/html": [
       "<div>\n",
       "<style scoped>\n",
       "    .dataframe tbody tr th:only-of-type {\n",
       "        vertical-align: middle;\n",
       "    }\n",
       "\n",
       "    .dataframe tbody tr th {\n",
       "        vertical-align: top;\n",
       "    }\n",
       "\n",
       "    .dataframe thead th {\n",
       "        text-align: right;\n",
       "    }\n",
       "</style>\n",
       "<table border=\"1\" class=\"dataframe\">\n",
       "  <thead>\n",
       "    <tr style=\"text-align: right;\">\n",
       "      <th></th>\n",
       "      <th>hex_id</th>\n",
       "      <th>res</th>\n",
       "      <th>ndvi</th>\n",
       "      <th>month</th>\n",
       "      <th>year</th>\n",
       "      <th>city</th>\n",
       "      <th>date</th>\n",
       "      <th>month_str</th>\n",
       "      <th>season</th>\n",
       "    </tr>\n",
       "  </thead>\n",
       "  <tbody>\n",
       "    <tr>\n",
       "      <th>0</th>\n",
       "      <td>8a49ab4b6d57fff</td>\n",
       "      <td>10</td>\n",
       "      <td>0.359838</td>\n",
       "      <td>1</td>\n",
       "      <td>2018</td>\n",
       "      <td>Guadalajara</td>\n",
       "      <td>2018-01</td>\n",
       "      <td>jan</td>\n",
       "      <td>winter</td>\n",
       "    </tr>\n",
       "    <tr>\n",
       "      <th>1</th>\n",
       "      <td>8a49ab4b2717fff</td>\n",
       "      <td>10</td>\n",
       "      <td>0.291434</td>\n",
       "      <td>1</td>\n",
       "      <td>2018</td>\n",
       "      <td>Guadalajara</td>\n",
       "      <td>2018-01</td>\n",
       "      <td>jan</td>\n",
       "      <td>winter</td>\n",
       "    </tr>\n",
       "  </tbody>\n",
       "</table>\n",
       "</div>"
      ],
      "text/plain": [
       "            hex_id  res      ndvi  month  year         city     date  \\\n",
       "0  8a49ab4b6d57fff   10  0.359838      1  2018  Guadalajara  2018-01   \n",
       "1  8a49ab4b2717fff   10  0.291434      1  2018  Guadalajara  2018-01   \n",
       "\n",
       "  month_str  season  \n",
       "0       jan  winter  \n",
       "1       jan  winter  "
      ]
     },
     "execution_count": 13,
     "metadata": {},
     "output_type": "execute_result"
    }
   ],
   "source": [
    "def find_season(month):\n",
    "    if (month == 1) or (month == 2) or (month == 3):\n",
    "        return \"winter\"\n",
    "    elif (month == 4) or (month == 5) or (month == 6):\n",
    "        return \"spring\"\n",
    "    elif (month == 7) or (month == 8) or (month == 9):\n",
    "        return \"summer\"\n",
    "    elif (month == 10) or (month == 11) or (month == 12):\n",
    "        return \"fall\"\n",
    "    else:\n",
    "          return \"N/A\"\n",
    "\n",
    "raster_dataset['season'] = raster_dataset['month'].apply(lambda x: find_season(x))\n",
    "\n",
    "# Ordering seasons chronologically\n",
    "categories = ['winter', 'spring', 'summer', 'fall']\n",
    "raster_dataset['season'] = pd.Categorical(raster_dataset['season'], categories=categories, ordered=True)\n",
    "\n",
    "#Show dataframe\n",
    "print(raster_dataset.shape)\n",
    "raster_dataset.head(2)"
   ]
  },
  {
   "cell_type": "markdown",
   "id": "06e6d20c-ad70-4b6c-9917-2901f35cb89a",
   "metadata": {},
   "source": [
    "Clean data dropping NaNs, if any"
   ]
  },
  {
   "cell_type": "code",
   "execution_count": 14,
   "id": "01a76ba3-34cc-4220-9d62-d9c3aa1d02b9",
   "metadata": {
    "tags": []
   },
   "outputs": [
    {
     "name": "stdout",
     "output_type": "stream",
     "text": [
      "(3489780, 9)\n"
     ]
    },
    {
     "data": {
      "text/html": [
       "<div>\n",
       "<style scoped>\n",
       "    .dataframe tbody tr th:only-of-type {\n",
       "        vertical-align: middle;\n",
       "    }\n",
       "\n",
       "    .dataframe tbody tr th {\n",
       "        vertical-align: top;\n",
       "    }\n",
       "\n",
       "    .dataframe thead th {\n",
       "        text-align: right;\n",
       "    }\n",
       "</style>\n",
       "<table border=\"1\" class=\"dataframe\">\n",
       "  <thead>\n",
       "    <tr style=\"text-align: right;\">\n",
       "      <th></th>\n",
       "      <th>hex_id</th>\n",
       "      <th>res</th>\n",
       "      <th>ndvi</th>\n",
       "      <th>month</th>\n",
       "      <th>year</th>\n",
       "      <th>city</th>\n",
       "      <th>date</th>\n",
       "      <th>month_str</th>\n",
       "      <th>season</th>\n",
       "    </tr>\n",
       "  </thead>\n",
       "  <tbody>\n",
       "    <tr>\n",
       "      <th>0</th>\n",
       "      <td>8a49ab4b6d57fff</td>\n",
       "      <td>10</td>\n",
       "      <td>0.359838</td>\n",
       "      <td>1</td>\n",
       "      <td>2018</td>\n",
       "      <td>Guadalajara</td>\n",
       "      <td>2018-01</td>\n",
       "      <td>jan</td>\n",
       "      <td>winter</td>\n",
       "    </tr>\n",
       "    <tr>\n",
       "      <th>1</th>\n",
       "      <td>8a49ab4b2717fff</td>\n",
       "      <td>10</td>\n",
       "      <td>0.291434</td>\n",
       "      <td>1</td>\n",
       "      <td>2018</td>\n",
       "      <td>Guadalajara</td>\n",
       "      <td>2018-01</td>\n",
       "      <td>jan</td>\n",
       "      <td>winter</td>\n",
       "    </tr>\n",
       "  </tbody>\n",
       "</table>\n",
       "</div>"
      ],
      "text/plain": [
       "            hex_id  res      ndvi  month  year         city     date  \\\n",
       "0  8a49ab4b6d57fff   10  0.359838      1  2018  Guadalajara  2018-01   \n",
       "1  8a49ab4b2717fff   10  0.291434      1  2018  Guadalajara  2018-01   \n",
       "\n",
       "  month_str  season  \n",
       "0       jan  winter  \n",
       "1       jan  winter  "
      ]
     },
     "execution_count": 14,
     "metadata": {},
     "output_type": "execute_result"
    }
   ],
   "source": [
    "raster_dataset = raster_dataset.dropna()\n",
    "\n",
    "#Show dataframe\n",
    "print(raster_dataset.shape)\n",
    "raster_dataset.head(2)"
   ]
  },
  {
   "cell_type": "markdown",
   "id": "15dd9150-4734-40c2-9248-eddd2c4bdf3d",
   "metadata": {},
   "source": [
    "### Celda para Mave"
   ]
  },
  {
   "cell_type": "code",
   "execution_count": null,
   "id": "9189c9de-96d2-455d-a2c0-ea4920ed39d1",
   "metadata": {
    "tags": []
   },
   "outputs": [
    {
     "name": "stdout",
     "output_type": "stream",
     "text": [
      "(3489780, 9)\n"
     ]
    }
   ],
   "source": [
    "if csv_dataset:\n",
    "    csv_raster_dataset = raster_dataset.copy()\n",
    "    \n",
    "    #Solo año 2022\n",
    "    #mave_raster_dataset = mave_raster_dataset.loc[mave_raster_dataset.year==2022]\n",
    "    \n",
    "    #Show dataframe\n",
    "    print(csv_raster_dataset.shape)\n",
    "    csv_raster_dataset.head(2)\n",
    "\n",
    "    #Download dataframe\n",
    "    csv_raster_dataset.to_csv(\"../../../data/external/complete{}_{}_res{}\".format(analysis_type,city.lower(),res))"
   ]
  },
  {
   "cell_type": "markdown",
   "id": "a70c0cfb-64d7-4894-b766-cf9656932d22",
   "metadata": {},
   "source": [
    "## Data analysis"
   ]
  },
  {
   "cell_type": "markdown",
   "id": "7811ecf1-ce76-4d0a-b21a-0f5e505246c4",
   "metadata": {
    "tags": []
   },
   "source": [
    "### Data analysis - Graph one continuous behaviour"
   ]
  },
  {
   "cell_type": "markdown",
   "id": "dead3080-9cae-4ce7-b175-cd11963e4fef",
   "metadata": {},
   "source": [
    "Group by date"
   ]
  },
  {
   "cell_type": "code",
   "execution_count": null,
   "id": "18378fd3-ca2e-42a0-92c8-277a4c99627d",
   "metadata": {
    "tags": []
   },
   "outputs": [],
   "source": [
    "mean_bydate = raster_dataset.groupby('date').agg({analysis_type:np.mean})\n",
    "mean_bydate.head(2)"
   ]
  },
  {
   "cell_type": "markdown",
   "id": "0116bd30-e857-4a52-b31b-8bb6511a8158",
   "metadata": {
    "tags": []
   },
   "source": [
    "Plot continuous behaviour"
   ]
  },
  {
   "cell_type": "code",
   "execution_count": null,
   "id": "774adc7e-7c2e-4a82-acf1-d085316258e6",
   "metadata": {
    "tags": []
   },
   "outputs": [],
   "source": [
    "if continous_behaviour:\n",
    "    # ---------- Plot ----------\n",
    "    plt.figure(figsize=(10,5))\n",
    "    plt.plot(mean_bydate, '-', color = 'darkgreen',linewidth = 1);\n",
    "\n",
    "    # ---------- Format ----------\n",
    "    # Format - Titles\n",
    "    plt.title('{} behaviour in {} 2018 - 2022'.format(analysis_type,city))\n",
    "    plt.xlabel('Date')\n",
    "    plt.ylabel('Average {}'.format(analysis_type))\n",
    "\n",
    "    # Format - x ticks\n",
    "    x = plt.gca().xaxis\n",
    "    for item in x.get_ticklabels():\n",
    "        item.set_rotation(90)\n",
    "        item.set_size(7)\n",
    "\n",
    "    # Format - y ticks\n",
    "    y = plt.gca().yaxis\n",
    "    for item in y.get_ticklabels():\n",
    "        item.set_size(7)\n",
    "\n",
    "    # ---------- Save Plot ----------\n",
    "    if save_plots:\n",
    "        plt.savefig(\"../../../output/figures/ndvi_ndmi_marg_bycity/{}/{}_{}_2018-2022.svg\".format(city.lower(),analysis_type,city.lower()))"
   ]
  },
  {
   "cell_type": "markdown",
   "id": "95b39671-3180-48f6-919f-3dbf9b096a78",
   "metadata": {
    "tags": []
   },
   "source": [
    "### Data analysis - Graph yearly behaviour"
   ]
  },
  {
   "cell_type": "code",
   "execution_count": null,
   "id": "69271168-7e38-4c91-ba15-0612b6bca93a",
   "metadata": {
    "tags": []
   },
   "outputs": [],
   "source": [
    "#Show dataframe\n",
    "print(raster_dataset.shape)\n",
    "raster_dataset.head(2)"
   ]
  },
  {
   "cell_type": "code",
   "execution_count": null,
   "id": "4bc47abd-c82a-423a-9af9-af429c71ea03",
   "metadata": {
    "tags": []
   },
   "outputs": [],
   "source": [
    "if yearly_behaviour:\n",
    "    # ---------- Plotting whole data by month (main line) ----------\n",
    "    # DATA\n",
    "    complete_bymonth = raster_dataset.groupby('month').agg({analysis_type:np.mean,'month':np.mean})\n",
    "\n",
    "    # ------- DATA AND CONFIDENCE INTERVAL PLOT -------\n",
    "    #Confidence interval data\n",
    "    x = complete_bymonth.month\n",
    "    y = complete_bymonth['{}'.format(analysis_type)]\n",
    "    ci = 1.96 * np.std(y)/np.sqrt(len(x))\n",
    "\n",
    "    #Plot\n",
    "    fig, ax = plt.subplots()\n",
    "    ax.plot(x,y, color = 'darkgreen')\n",
    "    ax.fill_between(x, (y-ci), (y+ci), color='darkgreen', alpha=.1)\n",
    "\n",
    "    # ---------- YEARLY DATA BY MONTH (dotted lines) ----------\n",
    "\n",
    "    # Find all data years\n",
    "    available_years = list(raster_dataset['year'].unique())\n",
    "\n",
    "    #Iterate over each year\n",
    "    for current_year in available_years:\n",
    "        #Isolating df\n",
    "        current_raster_dataset = raster_dataset.loc[(raster_dataset.year == current_year)]\n",
    "        #Grouping by month    \n",
    "        yearly_bymonth = current_raster_dataset.groupby('month').agg({analysis_type:np.mean})\n",
    "        #Plotting\n",
    "        plt.plot(yearly_bymonth, '--', linewidth = 0.5, label=current_year);\n",
    "\n",
    "\n",
    "    # ---------- FORMAT ----------\n",
    "    # Format - Titles\n",
    "    plt.title('{} behaviour in {} 2018 - 2022 by year'.format(analysis_type,city))\n",
    "    plt.xlabel('Month')\n",
    "    plt.ylabel('Average {}'.format(analysis_type))\n",
    "\n",
    "    # Format - x ticks\n",
    "    # Tag all 12 months\n",
    "    plt.xticks(np.arange(0, 13))\n",
    "    # Rotate ticks\n",
    "    x = plt.gca().xaxis\n",
    "    for item in x.get_ticklabels():\n",
    "        item.set_rotation(90)\n",
    "        item.set_size(7)\n",
    "\n",
    "    # Format - y ticks\n",
    "    y = plt.gca().yaxis\n",
    "    for item in y.get_ticklabels():\n",
    "        item.set_size(7)\n",
    "\n",
    "    # Format - Legend\n",
    "    plt.legend(frameon=False,\n",
    "               loc=1, \n",
    "               fontsize = 7)\n",
    "\n",
    "    # ---------- Save Plot ----------\n",
    "    if save_plots:\n",
    "        plt.savefig(\"../../../output/figures/ndvi_ndmi_marg_bycity/{}/{}_{}_by_year.svg\".format(city.lower(),analysis_type,city.lower()))"
   ]
  },
  {
   "cell_type": "code",
   "execution_count": null,
   "id": "766c9198-8cae-40c3-b044-cc11369d81ec",
   "metadata": {
    "tags": []
   },
   "outputs": [],
   "source": [
    "if yearly_behaviour_smooth:\n",
    "    # ---------- Plotting whole data by month (main line) ----------\n",
    "    # DATA\n",
    "    complete_bymonth = raster_dataset.groupby('month').agg({analysis_type:np.mean,'month':np.mean})\n",
    "\n",
    "    # ------- CONFIDENCE INTERVAL PLOT -------\n",
    "    #Confidence interval data\n",
    "    x = complete_bymonth.month\n",
    "    y = complete_bymonth['{}'.format(analysis_type)]\n",
    "    ci = 1.96 * np.std(y)/np.sqrt(len(x))\n",
    "\n",
    "    #Plot\n",
    "    fig, ax = plt.subplots()\n",
    "    #regular, mean plot\n",
    "    #ax.plot(x,y, color = 'darkgreen')\n",
    "    ax.fill_between(x, (y-ci), (y+ci), color='darkgreen', alpha=.1)\n",
    "\n",
    "    # ------- LOWESS PLOT -------\n",
    "    x = np.array(x)\n",
    "    y = np.array(y)\n",
    "\n",
    "    smoothed = sm.nonparametric.lowess(exog=x, endog=y, frac= 1/3)\n",
    "    plt.plot(smoothed[:, 0], smoothed[:, 1],color='darkgreen')\n",
    "\n",
    "    # ---------- YEARLY DATA BY MONTH (dotted lines) ----------\n",
    "\n",
    "    # Find all data years\n",
    "    available_years = list(raster_dataset['year'].unique())\n",
    "\n",
    "    #Iterate over each year\n",
    "    for current_year in available_years:\n",
    "        #Isolating df\n",
    "        current_raster_dataset = raster_dataset.loc[(raster_dataset.year == current_year)]\n",
    "        #Grouping by month    \n",
    "        yearly_bymonth = current_raster_dataset.groupby('month').agg({analysis_type:np.mean})\n",
    "        #Plotting\n",
    "        plt.plot(yearly_bymonth, '--', linewidth = 0.5, label=current_year);\n",
    "\n",
    "    # ---------- FORMAT ----------\n",
    "    # Format - Titles\n",
    "    plt.title('{} behaviour in {} 2018 - 2022 by year'.format(analysis_type,city))\n",
    "    plt.xlabel('Month')\n",
    "    plt.ylabel('Average {}'.format(analysis_type))\n",
    "\n",
    "    # Format - x ticks\n",
    "    # Tag all 12 months\n",
    "    plt.xticks(np.arange(0, 13))\n",
    "    # Rotate ticks\n",
    "    x = plt.gca().xaxis\n",
    "    for item in x.get_ticklabels():\n",
    "        item.set_rotation(90)\n",
    "        item.set_size(7)\n",
    "\n",
    "    # Format - y ticks\n",
    "    y = plt.gca().yaxis\n",
    "    for item in y.get_ticklabels():\n",
    "        item.set_size(7)\n",
    "\n",
    "    # Format - Legend\n",
    "    plt.legend(frameon=False,\n",
    "               loc=1, \n",
    "               fontsize = 7)\n",
    "\n",
    "    # ---------- Save Plot ----------\n",
    "    if save_plots:\n",
    "        plt.savefig(\"../../../output/figures/ndvi_ndmi_marg_bycity/{}/{}_{}_by_year_smoothed.svg\".format(city.lower(),analysis_type,city.lower()))"
   ]
  },
  {
   "cell_type": "markdown",
   "id": "4a8cabf6-08fd-49e5-ad6f-ff23e3ba5988",
   "metadata": {
    "jp-MarkdownHeadingCollapsed": true,
    "tags": []
   },
   "source": [
    "#### Old code, by season and no confidence interval"
   ]
  },
  {
   "cell_type": "markdown",
   "id": "d373fa7f-52ce-41da-bf9c-9d56851b3a08",
   "metadata": {
    "tags": []
   },
   "source": [
    "#CÓDIGO ANTERIOR: NO INCLUYE CONFIDENCE INTERVAL\n",
    "\n",
    "plt.figure()\n",
    "\n",
    "###### ---------- Plotting whole data by month (main line) ----------\n",
    "##### Line data\n",
    "complete_bymonth = raster_dataset.groupby('month_str').agg({analysis_type:np.mean})\n",
    "plt.plot(complete_bymonth, '-', color = 'darkgreen', linewidth = 1, label='All');\n",
    "\n",
    "##### ---------- Plotting yearly data by month (dotted lines) ----------\n",
    "\n",
    "##### Find all data years\n",
    "available_years = list(raster_dataset['year'].unique())\n",
    "\n",
    "#Iterate over each year\n",
    "for current_year in available_years:\n",
    "    #Isolating df\n",
    "    current_raster_dataset = raster_dataset.loc[(raster_dataset.year == current_year)]\n",
    "    #Grouping by month    \n",
    "    yearly_bymonth = current_raster_dataset.groupby('month_str').agg({analysis_type:np.mean})\n",
    "    #Plotting\n",
    "    plt.plot(yearly_bymonth, '--', linewidth = 0.5, label=current_year);\n",
    "\n",
    "\n",
    "##### ---------- Format ----------\n",
    "##### Format - Titles\n",
    "plt.title('{} behaviour in {} 2018 - 2022 by month'.format(analysis_type,city))\n",
    "plt.xlabel('Month')\n",
    "plt.ylabel('Average {}'.format(analysis_type))\n",
    "\n",
    "##### Format - x ticks\n",
    "##### Tag all 12 months\n",
    "plt.xticks(np.arange(0, 12))\n",
    "##### Rotate ticks\n",
    "x = plt.gca().xaxis\n",
    "for item in x.get_ticklabels():\n",
    "    item.set_rotation(90)\n",
    "    item.set_size(7)\n",
    "    \n",
    "##### Format - y ticks\n",
    "y = plt.gca().yaxis\n",
    "for item in y.get_ticklabels():\n",
    "    item.set_size(7)\n",
    "        \n",
    "##### Format - Legend\n",
    "plt.legend(frameon=False,\n",
    "           loc=1, \n",
    "           fontsize = 7)\n",
    "\n",
    "##### Save plot\n",
    "#plt.savefig(\"../../../output/figures/{}/{}_{}_each_year\".format(analysis,analysis,city.lower()))"
   ]
  },
  {
   "cell_type": "markdown",
   "id": "a9cea790-7c01-4017-8510-4f80c21edab5",
   "metadata": {
    "tags": []
   },
   "source": [
    "plt.figure()\n",
    "\n",
    "##### ---------- Plotting whole data by month (main line) ----------\n",
    "complete_byseason = raster_dataset.groupby('season').agg({analysis:np.mean})\n",
    "plt.plot(complete_byseason, '-', color = 'darkgreen', linewidth = 1, label='All');\n",
    "\n",
    "##### ---------- Plotting yearly data by month (dotted lines) ----------\n",
    "\n",
    "##### Find all data years\n",
    "available_years = list(raster_dataset['year'].unique())\n",
    "\n",
    "#Iterate over each year\n",
    "for current_year in available_years:\n",
    "    #Isolating df\n",
    "    current_raster_dataset = raster_dataset.loc[(raster_dataset.year == current_year)]\n",
    "    #Grouping by month    \n",
    "    yearly_byseason = current_raster_dataset.groupby('season').agg({analysis:np.mean})\n",
    "    #Plotting\n",
    "    plt.plot(yearly_byseason, '--', linewidth = 0.5, label=current_year);\n",
    "\n",
    "\n",
    "    \n",
    "##### ---------- Format ----------\n",
    "##### Format - Titles\n",
    "plt.title('{} behaviour in {} 2018 - 2022 by season'.format(analysis,city))\n",
    "plt.xlabel('Month')\n",
    "plt.ylabel('Average {}'.format(analysis))\n",
    "\n",
    "##### Format - x ticks\n",
    "##### Rotate ticks\n",
    "x = plt.gca().xaxis\n",
    "for item in x.get_ticklabels():\n",
    "    item.set_rotation(90)\n",
    "    item.set_size(7)\n",
    "    \n",
    "##### Format - y ticks\n",
    "y = plt.gca().yaxis\n",
    "for item in y.get_ticklabels():\n",
    "    item.set_size(7)\n",
    "        \n",
    "##### Format - Legend\n",
    "plt.legend(frameon=False,\n",
    "           loc=1, \n",
    "           fontsize = 7)\n",
    "\n",
    "# ---------- Save Plot ----------\n",
    "plt.savefig(\"../../../output/figures/{}/{}_{}_by_season\".format(analysis_type,analysis_type,city.lower()))"
   ]
  },
  {
   "cell_type": "markdown",
   "id": "6f23e150-ea68-4ea7-8f1e-6d65ee042a5e",
   "metadata": {},
   "source": [
    "### Data analysis - Maps"
   ]
  },
  {
   "cell_type": "markdown",
   "id": "fee3abec-b6a3-4d47-b882-419f3fbc3b28",
   "metadata": {},
   "source": [
    "Show dataframe and available unique hex_ids"
   ]
  },
  {
   "cell_type": "code",
   "execution_count": null,
   "id": "93f31afc-82db-446c-ae49-357dc3d403b6",
   "metadata": {
    "tags": []
   },
   "outputs": [],
   "source": [
    "#Show dataframe\n",
    "print(raster_dataset.shape)\n",
    "\n",
    "available_hexids = list(raster_dataset['hex_id'].unique())\n",
    "print(len(available_hexids))\n",
    "\n",
    "raster_dataset.head(2)"
   ]
  },
  {
   "cell_type": "code",
   "execution_count": null,
   "id": "0b85166a-1675-4a70-9971-b0a4da90e35d",
   "metadata": {
    "tags": []
   },
   "outputs": [],
   "source": [
    "if analysis_type == 'ndvi':\n",
    "    divnorm=colors.TwoSlopeNorm(vmin=-0.2, vcenter=0.2, vmax=0.6)\n",
    "    colorpalette = 'PiYG'\n",
    "else:\n",
    "    divnorm=colors.TwoSlopeNorm(vmin=-0.2, vcenter=0, vmax=0.2)\n",
    "    colorpalette = 'BrBG'"
   ]
  },
  {
   "cell_type": "markdown",
   "id": "38dcccf2-af86-46dc-b43b-5b43c2463dee",
   "metadata": {},
   "source": [
    "Create maps by season"
   ]
  },
  {
   "cell_type": "code",
   "execution_count": null,
   "id": "ae1c55b0-668d-4155-b068-9f804f225d40",
   "metadata": {
    "tags": []
   },
   "outputs": [],
   "source": [
    "if value_maps:\n",
    "    #Iterate over each season\n",
    "    seasons = ['winter', 'spring', 'summer', 'fall']\n",
    "\n",
    "    for current_season in seasons:\n",
    "        # ---------- Isolate seasonal data ----------\n",
    "        #Isolate df\n",
    "        current_raster_dataset = raster_dataset.loc[(raster_dataset.season == current_season)]\n",
    "\n",
    "        #Group by hex id    \n",
    "        current_analysis = current_raster_dataset.groupby('hex_id').agg({analysis_type:np.mean})\n",
    "        current_analysis = current_analysis.reset_index()\n",
    "\n",
    "        #Join with geometry\n",
    "        current_analysis_hex = pd.merge(current_analysis, hex_grid, left_on='hex_id', right_on='hex_id_{}'.format(res))\n",
    "\n",
    "        #GeoDataFrame Format\n",
    "        current_analysis_hex = gpd.GeoDataFrame(current_analysis_hex, geometry='geometry')\n",
    "        current_analysis_hex = current_analysis_hex.drop(columns = ['hex_id_{}'.format(res), 'CVEGEO'])\n",
    "        current_analysis_hex = current_analysis_hex.rename(columns = {'metropolis': 'city'})\n",
    "\n",
    "\n",
    "        # ---------- Plot seasonal data ----------\n",
    "        current_analysis_hex.plot('{}'.format(analysis_type), colorpalette, legend=True, norm=divnorm) #vmin= minvalue, vmax = maxvalue\n",
    "\n",
    "        # ---------- Format ----------\n",
    "        # Format - Titles\n",
    "        plt.title('{} behaviour in {} on {} (res{})'.format(analysis_type,city,current_season,res))\n",
    "\n",
    "        #Check\n",
    "        #average = np.mean(current_analysis_hex.ndmi)\n",
    "        #print(average)\n",
    "\n",
    "        # ---------- Save Plot ----------\n",
    "        if save_plots:\n",
    "            plt.savefig(\"../../../output/figures/ndvi_ndmi_marg_bycity/{}/{}values_{}_{}.svg\".format(city.lower(),analysis_type,city.lower(),current_season))"
   ]
  },
  {
   "cell_type": "code",
   "execution_count": null,
   "id": "55bd3fc0-6698-49f2-a42c-d9b56711d238",
   "metadata": {
    "tags": []
   },
   "outputs": [],
   "source": [
    "if categories_maps and (analysis_type == 'ndvi'):\n",
    "    #Iterate over each season\n",
    "    seasons = ['winter', 'spring', 'summer', 'fall']\n",
    "\n",
    "    for current_season in seasons:\n",
    "        # ---------- Isolate seasonal data ----------\n",
    "        #Isolate df\n",
    "        current_raster_dataset = raster_dataset.loc[(raster_dataset.season == current_season)]\n",
    "\n",
    "        #Group by hex id    \n",
    "        current_analysis = current_raster_dataset.groupby('hex_id').agg({analysis_type:np.mean})\n",
    "        current_analysis = current_analysis.reset_index()\n",
    "\n",
    "        #Join with geometry\n",
    "        current_analysis_hex = pd.merge(current_analysis, hex_grid, left_on='hex_id', right_on='hex_id_{}'.format(res))\n",
    "\n",
    "        #GeoDataFrame Format\n",
    "        current_analysis_hex = gpd.GeoDataFrame(current_analysis_hex, geometry='geometry')\n",
    "        current_analysis_hex = current_analysis_hex.drop(columns = ['hex_id_{}'.format(res), 'CVEGEO'])\n",
    "        current_analysis_hex = current_analysis_hex.rename(columns = {'metropolis': 'city'})\n",
    "\n",
    "        # ---------- Plot seasonal NDVI data ----------\n",
    "        # Creating vegetation categories\n",
    "        current_analysis_hex['nvdi_category'] = np.nan\n",
    "        current_analysis_hex.loc[current_analysis_hex.ndvi>=0.6 , 'ndvi_category'] = 'Alta densidad vegetal'\n",
    "        current_analysis_hex.loc[(current_analysis_hex.ndvi>=0.4 )&\n",
    "                     (current_analysis_hex.ndvi<0.6), 'ndvi_category'] = 'Moderada densidad vegetal'\n",
    "        current_analysis_hex.loc[(current_analysis_hex.ndvi>=0.2)&\n",
    "                     (current_analysis_hex.ndvi<0.4), 'ndvi_category'] = 'Mínima densidad vegetal'\n",
    "        current_analysis_hex.loc[(current_analysis_hex.ndvi>=0.1)&\n",
    "                     (current_analysis_hex.ndvi<0.2), 'ndvi_category'] = 'Suelo'\n",
    "        current_analysis_hex.loc[(current_analysis_hex.ndvi<0.1), 'ndvi_category'] = 'Suelo artificial/Agua/Piedra'\n",
    "\n",
    "        # Ordering data\n",
    "        categories = ['Suelo artificial/Agua/Piedra', 'Suelo', 'Mínima densidad vegetal', 'Moderada densidad vegetal', 'Alta densidad vegetal']\n",
    "        current_analysis_hex['ndvi_category'] = pd.Categorical(current_analysis_hex['ndvi_category'], categories=categories, ordered=True)\n",
    "\n",
    "        # Plot categories\n",
    "        current_analysis_hex.plot('ndvi_category', legend=True) #vmin= minvalue, vmax = maxvalue\n",
    "\n",
    "        # ---------- Format ----------\n",
    "        # Format - Titles\n",
    "        plt.title('{} behaviour in {} on {} (res{})'.format(analysis_type,city,current_season,res))\n",
    "\n",
    "        #Check\n",
    "        #average = np.mean(current_analysis_hex.ndmi)\n",
    "        #print(average)\n",
    "\n",
    "        # ---------- Save Plot ----------\n",
    "        if save_plots:\n",
    "            plt.savefig(\"../../../output/figures/ndvi_ndmi_marg_bycity/{}/{}categories_{}_{}.svg\".format(city.lower(),analysis_type,city.lower(),current_season))"
   ]
  },
  {
   "cell_type": "code",
   "execution_count": null,
   "id": "2fbffa0a-2bf8-40ac-8dbe-f67f771660c0",
   "metadata": {},
   "outputs": [],
   "source": []
  }
 ],
 "metadata": {
  "kernelspec": {
   "display_name": "Python 3 (ipykernel)",
   "language": "python",
   "name": "python3"
  },
  "language_info": {
   "codemirror_mode": {
    "name": "ipython",
    "version": 3
   },
   "file_extension": ".py",
   "mimetype": "text/x-python",
   "name": "python",
   "nbconvert_exporter": "python",
   "pygments_lexer": "ipython3",
   "version": "3.10.5"
  }
 },
 "nbformat": 4,
 "nbformat_minor": 5
}
