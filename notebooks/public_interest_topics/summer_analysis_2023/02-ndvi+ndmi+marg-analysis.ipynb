{
 "cells": [
  {
   "cell_type": "markdown",
   "id": "7a10b0a8-5c95-41d2-9c2f-c926671d9ea2",
   "metadata": {
    "tags": []
   },
   "source": [
    "# Summer analysis 2023: ndvi+ndmi+marginalization"
   ]
  },
  {
   "cell_type": "markdown",
   "id": "8458fa4f-ba2d-4a96-80d6-91513b68f429",
   "metadata": {},
   "source": [
    "This notebook finds zones that may recieve irrigation within urban spaces by relating (res 10) vegetation (ndvi without locations with water, marshy surfaces, artificial structures, rocks adn clouds) and moisture.\n",
    "Resulting zones which have vegetation and little variations in moisture compared to the rest of the urban area may recieve irrigation, be part of a natural waterway.\n",
    "\n",
    "Furthermore, the analysis includes a relation of analyzed data with marginalization. (res8)"
   ]
  },
  {
   "cell_type": "markdown",
   "id": "e1f2c421-ef7d-4771-8e5b-d67ded6ba8e0",
   "metadata": {},
   "source": [
    "#### First analysis: NDVI - NDMI - Marginalization correlation in boxplot (Res 8)\n",
    "\n",
    "1. Download NDVI and NDMI res 8\n",
    "2. Create vegetation categories for NDVI\n",
    "3. Filter NDVI for places with vegetation\n",
    "4. Merge NDVI and NDMI\n",
    "5. For those hex, download marginalization data\n",
    "6. Create marginalization categories\n",
    "7. Data analysis in boxplot\n",
    "\n",
    "#### Second analysis: NDVI - NDMI visual correlation (Res 10)\n",
    "\n",
    "1. Download NDVI and NDMI res 10\n",
    "2. Create vegetation categories for NDVI\n",
    "3. Filter NDVI for places with vegetation\n",
    "4. Merge NDVI and NDMI\n",
    "5. Data analysis in visual correlation (map)"
   ]
  },
  {
   "cell_type": "markdown",
   "id": "d05078ca-4e2f-4a0a-9f56-00a7c5088407",
   "metadata": {
    "tags": []
   },
   "source": [
    "## Notes: NDVI and NDMI content and availability"
   ]
  },
  {
   "cell_type": "markdown",
   "id": "9dd65889-4847-4e46-b36f-0cf1826573fe",
   "metadata": {
    "tags": []
   },
   "source": [
    "NDVI --> hex_id, res, ndvi_mean, ndvi_std, ndvi_median, ndvi_max, ndvi_min, ndvi_diff, ndvi_tend, city\n",
    "* res: 8,9,10,11\n",
    "* city: Aguascalientes, Cancun, Chihuahua, Chilpancingo, Coatzacoalcos, Colima, Cuernavaca, Culiacan, Durango, Ensenada, Guadalajara, Guanajuato, Juarez, La Paz, Leon, Matamoros, Mazatlan, Merida, Minatitlan, Monclova, Monterrey, Moroleon, Nogales, Nuevo Laredo, Oaxaca, Ocotlan, Pachuca, Parral, Piedad, Piedras Negras, Queretaro, Tijuana, Tuxtla, ZMVM.\n",
    "\n",
    "NDMI --> hex_id, res, ndmi_mean, ndmi_std, ndmi_median, ndmi_max, ndmi_min, ndmi_diff, ndmi_tend, city\n",
    "* res: 8,9,10,11\n",
    "* city: Chihuahua, Guadalajara, Leon, Merida, Monterrey, Puebla (¡Puebla not in NDVI!), Queretaro, Tijuana, Tuxtla, ZMVM."
   ]
  },
  {
   "cell_type": "markdown",
   "id": "aa17cf37-5805-4ba7-80af-34afacb56007",
   "metadata": {},
   "source": [
    "## Import libraries"
   ]
  },
  {
   "cell_type": "code",
   "execution_count": 1,
   "id": "e8916b06-4acb-48f5-99cf-dbbecb84ecdb",
   "metadata": {
    "tags": []
   },
   "outputs": [
    {
     "name": "stderr",
     "output_type": "stream",
     "text": [
      "/usr/local/python/lib/python3.10/site-packages/osmnx/utils.py:192: UserWarning: The `utils.config` function is deprecated and will be removed in a future release. Instead, use the `settings` module directly to configure a global setting's value. For example, `ox.settings.log_console=True`.\n",
      "  warnings.warn(\n"
     ]
    }
   ],
   "source": [
    "import os\n",
    "import sys\n",
    "\n",
    "import pandas as pd\n",
    "import geopandas as gpd\n",
    "import numpy as np\n",
    "\n",
    "import matplotlib.pyplot as plt\n",
    "import seaborn as sns\n",
    "\n",
    "from pandas.api.types import CategoricalDtype\n",
    "\n",
    "import warnings\n",
    "warnings.simplefilter(action='ignore', category=FutureWarning)\n",
    "\n",
    "module_path = os.path.abspath(os.path.join('../../../'))\n",
    "if module_path not in sys.path:\n",
    "    sys.path.append(module_path)\n",
    "    import aup"
   ]
  },
  {
   "cell_type": "code",
   "execution_count": 2,
   "id": "e4827719-2440-46db-b6c7-521ba90a5543",
   "metadata": {
    "tags": []
   },
   "outputs": [],
   "source": [
    "city = 'Guadalajara'"
   ]
  },
  {
   "cell_type": "code",
   "execution_count": 3,
   "id": "90fc2d13-8658-4a78-949e-2470362932a4",
   "metadata": {
    "tags": []
   },
   "outputs": [],
   "source": [
    "csv_dataset = False"
   ]
  },
  {
   "cell_type": "markdown",
   "id": "76ff87b7-3a17-4806-b4cf-2e0002f71a3c",
   "metadata": {
    "tags": []
   },
   "source": [
    "# First analysis: NDVI - NDMI - Marginalization correlation (Res 8)"
   ]
  },
  {
   "cell_type": "markdown",
   "id": "f353dd6b-97fa-4de4-8fee-e0384aaf09ee",
   "metadata": {},
   "source": [
    "## Data download"
   ]
  },
  {
   "cell_type": "markdown",
   "id": "4d86e5a5-671b-4d63-b6c8-8a2c55c0135c",
   "metadata": {
    "tags": []
   },
   "source": [
    "Data download - NDVI"
   ]
  },
  {
   "cell_type": "code",
   "execution_count": 4,
   "id": "ce94ea5a-8927-455d-8142-344e21ebadd0",
   "metadata": {
    "tags": []
   },
   "outputs": [
    {
     "name": "stdout",
     "output_type": "stream",
     "text": [
      "(1187, 11)\n"
     ]
    },
    {
     "data": {
      "text/html": [
       "<div>\n",
       "<style scoped>\n",
       "    .dataframe tbody tr th:only-of-type {\n",
       "        vertical-align: middle;\n",
       "    }\n",
       "\n",
       "    .dataframe tbody tr th {\n",
       "        vertical-align: top;\n",
       "    }\n",
       "\n",
       "    .dataframe thead th {\n",
       "        text-align: right;\n",
       "    }\n",
       "</style>\n",
       "<table border=\"1\" class=\"dataframe\">\n",
       "  <thead>\n",
       "    <tr style=\"text-align: right;\">\n",
       "      <th></th>\n",
       "      <th>hex_id</th>\n",
       "      <th>geometry</th>\n",
       "      <th>res</th>\n",
       "      <th>ndvi_mean</th>\n",
       "      <th>ndvi_std</th>\n",
       "      <th>ndvi_median</th>\n",
       "      <th>ndvi_max</th>\n",
       "      <th>ndvi_min</th>\n",
       "      <th>ndvi_diff</th>\n",
       "      <th>ndvi_tend</th>\n",
       "      <th>city</th>\n",
       "    </tr>\n",
       "  </thead>\n",
       "  <tbody>\n",
       "    <tr>\n",
       "      <th>0</th>\n",
       "      <td>88498c8649fffff</td>\n",
       "      <td>POLYGON ((-103.32357 20.76827, -103.32865 20.7...</td>\n",
       "      <td>8</td>\n",
       "      <td>0.244760</td>\n",
       "      <td>0.100867</td>\n",
       "      <td>0.247440</td>\n",
       "      <td>0.368982</td>\n",
       "      <td>0.115646</td>\n",
       "      <td>0.253336</td>\n",
       "      <td>-0.002247</td>\n",
       "      <td>Guadalajara</td>\n",
       "    </tr>\n",
       "    <tr>\n",
       "      <th>1</th>\n",
       "      <td>88498c864bfffff</td>\n",
       "      <td>POLYGON ((-103.32919 20.77561, -103.33427 20.7...</td>\n",
       "      <td>8</td>\n",
       "      <td>0.269992</td>\n",
       "      <td>0.122279</td>\n",
       "      <td>0.255744</td>\n",
       "      <td>0.431332</td>\n",
       "      <td>0.113069</td>\n",
       "      <td>0.318263</td>\n",
       "      <td>-0.001899</td>\n",
       "      <td>Guadalajara</td>\n",
       "    </tr>\n",
       "  </tbody>\n",
       "</table>\n",
       "</div>"
      ],
      "text/plain": [
       "            hex_id                                           geometry  res  \\\n",
       "0  88498c8649fffff  POLYGON ((-103.32357 20.76827, -103.32865 20.7...    8   \n",
       "1  88498c864bfffff  POLYGON ((-103.32919 20.77561, -103.33427 20.7...    8   \n",
       "\n",
       "   ndvi_mean  ndvi_std  ndvi_median  ndvi_max  ndvi_min  ndvi_diff  ndvi_tend  \\\n",
       "0   0.244760  0.100867     0.247440  0.368982  0.115646   0.253336  -0.002247   \n",
       "1   0.269992  0.122279     0.255744  0.431332  0.113069   0.318263  -0.001899   \n",
       "\n",
       "          city  \n",
       "0  Guadalajara  \n",
       "1  Guadalajara  "
      ]
     },
     "execution_count": 4,
     "metadata": {},
     "output_type": "execute_result"
    }
   ],
   "source": [
    "# Downloading NDVI res 8 data\n",
    "ndvi_schema = 'raster_analysis'\n",
    "ndvi_folder = 'ndvi_analysis_hex'\n",
    "\n",
    "res = 8\n",
    "\n",
    "query = f\"SELECT * FROM {ndvi_schema}.{ndvi_folder} WHERE \\\"city\\\" LIKE \\'{city}\\' AND \\\"res\\\"={res}\"\n",
    "ndvi_res8 = aup.gdf_from_query(query, geometry_col='geometry')\n",
    "\n",
    "print(ndvi_res8.shape)\n",
    "ndvi_res8.head(2)"
   ]
  },
  {
   "cell_type": "markdown",
   "id": "37283a3f-eb57-4da6-a50d-085979e0e770",
   "metadata": {},
   "source": [
    "Data download - NDMI"
   ]
  },
  {
   "cell_type": "code",
   "execution_count": 5,
   "id": "7e7f6344-21d0-49c8-976c-668ba03f188b",
   "metadata": {
    "tags": []
   },
   "outputs": [
    {
     "name": "stdout",
     "output_type": "stream",
     "text": [
      "(1187, 11)\n"
     ]
    },
    {
     "data": {
      "text/html": [
       "<div>\n",
       "<style scoped>\n",
       "    .dataframe tbody tr th:only-of-type {\n",
       "        vertical-align: middle;\n",
       "    }\n",
       "\n",
       "    .dataframe tbody tr th {\n",
       "        vertical-align: top;\n",
       "    }\n",
       "\n",
       "    .dataframe thead th {\n",
       "        text-align: right;\n",
       "    }\n",
       "</style>\n",
       "<table border=\"1\" class=\"dataframe\">\n",
       "  <thead>\n",
       "    <tr style=\"text-align: right;\">\n",
       "      <th></th>\n",
       "      <th>hex_id</th>\n",
       "      <th>geometry</th>\n",
       "      <th>res</th>\n",
       "      <th>ndmi_mean</th>\n",
       "      <th>ndmi_std</th>\n",
       "      <th>ndmi_median</th>\n",
       "      <th>ndmi_max</th>\n",
       "      <th>ndmi_min</th>\n",
       "      <th>ndmi_diff</th>\n",
       "      <th>ndmi_tend</th>\n",
       "      <th>city</th>\n",
       "    </tr>\n",
       "  </thead>\n",
       "  <tbody>\n",
       "    <tr>\n",
       "      <th>0</th>\n",
       "      <td>88498c8649fffff</td>\n",
       "      <td>POLYGON ((-103.32357 20.76827, -103.32865 20.7...</td>\n",
       "      <td>8</td>\n",
       "      <td>0.002498</td>\n",
       "      <td>0.061516</td>\n",
       "      <td>-0.002444</td>\n",
       "      <td>0.097146</td>\n",
       "      <td>-0.075964</td>\n",
       "      <td>0.173110</td>\n",
       "      <td>-0.000222</td>\n",
       "      <td>Guadalajara</td>\n",
       "    </tr>\n",
       "    <tr>\n",
       "      <th>1</th>\n",
       "      <td>88498c864bfffff</td>\n",
       "      <td>POLYGON ((-103.32919 20.77561, -103.33427 20.7...</td>\n",
       "      <td>8</td>\n",
       "      <td>0.014530</td>\n",
       "      <td>0.079156</td>\n",
       "      <td>0.005282</td>\n",
       "      <td>0.133249</td>\n",
       "      <td>-0.091163</td>\n",
       "      <td>0.224412</td>\n",
       "      <td>-0.000291</td>\n",
       "      <td>Guadalajara</td>\n",
       "    </tr>\n",
       "  </tbody>\n",
       "</table>\n",
       "</div>"
      ],
      "text/plain": [
       "            hex_id                                           geometry  res  \\\n",
       "0  88498c8649fffff  POLYGON ((-103.32357 20.76827, -103.32865 20.7...    8   \n",
       "1  88498c864bfffff  POLYGON ((-103.32919 20.77561, -103.33427 20.7...    8   \n",
       "\n",
       "   ndmi_mean  ndmi_std  ndmi_median  ndmi_max  ndmi_min  ndmi_diff  ndmi_tend  \\\n",
       "0   0.002498  0.061516    -0.002444  0.097146 -0.075964   0.173110  -0.000222   \n",
       "1   0.014530  0.079156     0.005282  0.133249 -0.091163   0.224412  -0.000291   \n",
       "\n",
       "          city  \n",
       "0  Guadalajara  \n",
       "1  Guadalajara  "
      ]
     },
     "execution_count": 5,
     "metadata": {},
     "output_type": "execute_result"
    }
   ],
   "source": [
    "# Downloading NDMI res 8 data\n",
    "ndmi_schema = 'raster_analysis'\n",
    "ndmi_folder = 'ndmi_analysis_hex'\n",
    "\n",
    "res = 8\n",
    "\n",
    "query = f\"SELECT * FROM {ndmi_schema}.{ndmi_folder} WHERE \\\"city\\\" LIKE \\'{city}\\' AND \\\"res\\\"={res}\"\n",
    "ndmi_res8 = aup.gdf_from_query(query, geometry_col='geometry')\n",
    "\n",
    "print(ndmi_res8.shape)\n",
    "ndmi_res8.head(2)"
   ]
  },
  {
   "cell_type": "markdown",
   "id": "1c1a1f4c-38fb-40e3-85fa-d14eee68d52a",
   "metadata": {},
   "source": [
    "## Data treatment"
   ]
  },
  {
   "cell_type": "markdown",
   "id": "c060ccf4-2e94-4016-b4a6-4e28c1658975",
   "metadata": {},
   "source": [
    "### Data treatment - NDVI + NDMI"
   ]
  },
  {
   "cell_type": "markdown",
   "id": "a9f7b3a7-3542-4797-b01c-434e3171b68a",
   "metadata": {},
   "source": [
    "Data treatment - Creating vegetation categories"
   ]
  },
  {
   "cell_type": "code",
   "execution_count": 6,
   "id": "1cf0d65d-3f58-4475-bd97-12a221de1e52",
   "metadata": {
    "tags": []
   },
   "outputs": [
    {
     "name": "stdout",
     "output_type": "stream",
     "text": [
      "(1187, 12)\n"
     ]
    },
    {
     "data": {
      "text/html": [
       "<div>\n",
       "<style scoped>\n",
       "    .dataframe tbody tr th:only-of-type {\n",
       "        vertical-align: middle;\n",
       "    }\n",
       "\n",
       "    .dataframe tbody tr th {\n",
       "        vertical-align: top;\n",
       "    }\n",
       "\n",
       "    .dataframe thead th {\n",
       "        text-align: right;\n",
       "    }\n",
       "</style>\n",
       "<table border=\"1\" class=\"dataframe\">\n",
       "  <thead>\n",
       "    <tr style=\"text-align: right;\">\n",
       "      <th></th>\n",
       "      <th>hex_id</th>\n",
       "      <th>geometry</th>\n",
       "      <th>res</th>\n",
       "      <th>ndvi_mean</th>\n",
       "      <th>ndvi_std</th>\n",
       "      <th>ndvi_median</th>\n",
       "      <th>ndvi_max</th>\n",
       "      <th>ndvi_min</th>\n",
       "      <th>ndvi_diff</th>\n",
       "      <th>ndvi_tend</th>\n",
       "      <th>city</th>\n",
       "      <th>ndvi_median_rango</th>\n",
       "    </tr>\n",
       "  </thead>\n",
       "  <tbody>\n",
       "    <tr>\n",
       "      <th>0</th>\n",
       "      <td>88498c8649fffff</td>\n",
       "      <td>POLYGON ((-103.32357 20.76827, -103.32865 20.7...</td>\n",
       "      <td>8</td>\n",
       "      <td>0.244760</td>\n",
       "      <td>0.100867</td>\n",
       "      <td>0.247440</td>\n",
       "      <td>0.368982</td>\n",
       "      <td>0.115646</td>\n",
       "      <td>0.253336</td>\n",
       "      <td>-0.002247</td>\n",
       "      <td>Guadalajara</td>\n",
       "      <td>Mínima densidad vegetal</td>\n",
       "    </tr>\n",
       "    <tr>\n",
       "      <th>1</th>\n",
       "      <td>88498c864bfffff</td>\n",
       "      <td>POLYGON ((-103.32919 20.77561, -103.33427 20.7...</td>\n",
       "      <td>8</td>\n",
       "      <td>0.269992</td>\n",
       "      <td>0.122279</td>\n",
       "      <td>0.255744</td>\n",
       "      <td>0.431332</td>\n",
       "      <td>0.113069</td>\n",
       "      <td>0.318263</td>\n",
       "      <td>-0.001899</td>\n",
       "      <td>Guadalajara</td>\n",
       "      <td>Mínima densidad vegetal</td>\n",
       "    </tr>\n",
       "  </tbody>\n",
       "</table>\n",
       "</div>"
      ],
      "text/plain": [
       "            hex_id                                           geometry  res  \\\n",
       "0  88498c8649fffff  POLYGON ((-103.32357 20.76827, -103.32865 20.7...    8   \n",
       "1  88498c864bfffff  POLYGON ((-103.32919 20.77561, -103.33427 20.7...    8   \n",
       "\n",
       "   ndvi_mean  ndvi_std  ndvi_median  ndvi_max  ndvi_min  ndvi_diff  ndvi_tend  \\\n",
       "0   0.244760  0.100867     0.247440  0.368982  0.115646   0.253336  -0.002247   \n",
       "1   0.269992  0.122279     0.255744  0.431332  0.113069   0.318263  -0.001899   \n",
       "\n",
       "          city        ndvi_median_rango  \n",
       "0  Guadalajara  Mínima densidad vegetal  \n",
       "1  Guadalajara  Mínima densidad vegetal  "
      ]
     },
     "execution_count": 6,
     "metadata": {},
     "output_type": "execute_result"
    }
   ],
   "source": [
    "# NDVI res 8 processing\n",
    "# Creating vegetation categories\n",
    "ndvi_res8['ndvi_median_rango'] = np.nan\n",
    "ndvi_res8.loc[ndvi_res8.ndvi_median>=0.6 , 'ndvi_median_rango'] = 'Alta densidad vegetal'\n",
    "ndvi_res8.loc[(ndvi_res8.ndvi_median>=0.4 )&\n",
    "             (ndvi_res8.ndvi_median<0.6), 'ndvi_median_rango'] = 'Moderada densidad vegetal'\n",
    "ndvi_res8.loc[(ndvi_res8.ndvi_median>=0.2)&\n",
    "             (ndvi_res8.ndvi_median<0.4), 'ndvi_median_rango'] = 'Mínima densidad vegetal'\n",
    "ndvi_res8.loc[(ndvi_res8.ndvi_median>=0.1)&\n",
    "             (ndvi_res8.ndvi_median<0.2), 'ndvi_median_rango'] = 'Suelo'\n",
    "ndvi_res8.loc[(ndvi_res8.ndvi_median<0.1), 'ndvi_median_rango'] = 'Suelo artificial/Agua/Piedra'\n",
    "\n",
    "# Ordering data\n",
    "categories = ['Suelo artificial/Agua/Piedra', 'Suelo', 'Mínima densidad vegetal', 'Moderada densidad vegetal', 'Alta densidad vegetal']\n",
    "ndvi_res8['ndvi_median_rango'] = pd.Categorical(ndvi_res8['ndvi_median_rango'], categories=categories, ordered=True)\n",
    "\n",
    "# Reviewing process\n",
    "print(ndvi_res8.shape)\n",
    "ndvi_res8.head(2)"
   ]
  },
  {
   "cell_type": "markdown",
   "id": "de863cb2-3271-426b-9782-63479e72cd36",
   "metadata": {
    "tags": []
   },
   "source": [
    "Data treatment - NDVI filtering for places with vegetation"
   ]
  },
  {
   "cell_type": "code",
   "execution_count": 7,
   "id": "198f498e-2e40-4a39-83c3-c3a56945a3b0",
   "metadata": {
    "tags": []
   },
   "outputs": [
    {
     "name": "stdout",
     "output_type": "stream",
     "text": [
      "(774, 12)\n"
     ]
    },
    {
     "data": {
      "text/html": [
       "<div>\n",
       "<style scoped>\n",
       "    .dataframe tbody tr th:only-of-type {\n",
       "        vertical-align: middle;\n",
       "    }\n",
       "\n",
       "    .dataframe tbody tr th {\n",
       "        vertical-align: top;\n",
       "    }\n",
       "\n",
       "    .dataframe thead th {\n",
       "        text-align: right;\n",
       "    }\n",
       "</style>\n",
       "<table border=\"1\" class=\"dataframe\">\n",
       "  <thead>\n",
       "    <tr style=\"text-align: right;\">\n",
       "      <th></th>\n",
       "      <th>hex_id</th>\n",
       "      <th>geometry</th>\n",
       "      <th>res</th>\n",
       "      <th>ndvi_mean</th>\n",
       "      <th>ndvi_std</th>\n",
       "      <th>ndvi_median</th>\n",
       "      <th>ndvi_max</th>\n",
       "      <th>ndvi_min</th>\n",
       "      <th>ndvi_diff</th>\n",
       "      <th>ndvi_tend</th>\n",
       "      <th>city</th>\n",
       "      <th>ndvi_median_rango</th>\n",
       "    </tr>\n",
       "  </thead>\n",
       "  <tbody>\n",
       "    <tr>\n",
       "      <th>0</th>\n",
       "      <td>88498c8649fffff</td>\n",
       "      <td>POLYGON ((-103.32357 20.76827, -103.32865 20.7...</td>\n",
       "      <td>8</td>\n",
       "      <td>0.244760</td>\n",
       "      <td>0.100867</td>\n",
       "      <td>0.247440</td>\n",
       "      <td>0.368982</td>\n",
       "      <td>0.115646</td>\n",
       "      <td>0.253336</td>\n",
       "      <td>-0.002247</td>\n",
       "      <td>Guadalajara</td>\n",
       "      <td>Mínima densidad vegetal</td>\n",
       "    </tr>\n",
       "    <tr>\n",
       "      <th>1</th>\n",
       "      <td>88498c864bfffff</td>\n",
       "      <td>POLYGON ((-103.32919 20.77561, -103.33427 20.7...</td>\n",
       "      <td>8</td>\n",
       "      <td>0.269992</td>\n",
       "      <td>0.122279</td>\n",
       "      <td>0.255744</td>\n",
       "      <td>0.431332</td>\n",
       "      <td>0.113069</td>\n",
       "      <td>0.318263</td>\n",
       "      <td>-0.001899</td>\n",
       "      <td>Guadalajara</td>\n",
       "      <td>Mínima densidad vegetal</td>\n",
       "    </tr>\n",
       "  </tbody>\n",
       "</table>\n",
       "</div>"
      ],
      "text/plain": [
       "            hex_id                                           geometry  res  \\\n",
       "0  88498c8649fffff  POLYGON ((-103.32357 20.76827, -103.32865 20.7...    8   \n",
       "1  88498c864bfffff  POLYGON ((-103.32919 20.77561, -103.33427 20.7...    8   \n",
       "\n",
       "   ndvi_mean  ndvi_std  ndvi_median  ndvi_max  ndvi_min  ndvi_diff  ndvi_tend  \\\n",
       "0   0.244760  0.100867     0.247440  0.368982  0.115646   0.253336  -0.002247   \n",
       "1   0.269992  0.122279     0.255744  0.431332  0.113069   0.318263  -0.001899   \n",
       "\n",
       "          city        ndvi_median_rango  \n",
       "0  Guadalajara  Mínima densidad vegetal  \n",
       "1  Guadalajara  Mínima densidad vegetal  "
      ]
     },
     "execution_count": 7,
     "metadata": {},
     "output_type": "execute_result"
    }
   ],
   "source": [
    "#Keeping High-moderate-minimal vegetation density\n",
    "ndvi_withveg_res8 = ndvi_res8.loc[(ndvi_res8.ndvi_median_rango == 'Alta densidad vegetal') |\n",
    "                   (ndvi_res8.ndvi_median_rango == 'Moderada densidad vegetal')|\n",
    "                   (ndvi_res8.ndvi_median_rango == 'Mínima densidad vegetal')]\n",
    "\n",
    "#Reviewing process\n",
    "print(ndvi_withveg_res8.shape)\n",
    "ndvi_withveg_res8.head(2)"
   ]
  },
  {
   "cell_type": "markdown",
   "id": "c99a16c5-b2a2-47f6-9339-dd563bcc94fd",
   "metadata": {
    "tags": []
   },
   "source": [
    "Data treatment - Merging NDVI and NDMI"
   ]
  },
  {
   "cell_type": "code",
   "execution_count": 8,
   "id": "e2f3d9a7-d5c8-4e02-a5c5-049de503da79",
   "metadata": {
    "tags": []
   },
   "outputs": [
    {
     "name": "stdout",
     "output_type": "stream",
     "text": [
      "(774, 19)\n"
     ]
    },
    {
     "data": {
      "text/html": [
       "<div>\n",
       "<style scoped>\n",
       "    .dataframe tbody tr th:only-of-type {\n",
       "        vertical-align: middle;\n",
       "    }\n",
       "\n",
       "    .dataframe tbody tr th {\n",
       "        vertical-align: top;\n",
       "    }\n",
       "\n",
       "    .dataframe thead th {\n",
       "        text-align: right;\n",
       "    }\n",
       "</style>\n",
       "<table border=\"1\" class=\"dataframe\">\n",
       "  <thead>\n",
       "    <tr style=\"text-align: right;\">\n",
       "      <th></th>\n",
       "      <th>hex_id</th>\n",
       "      <th>geometry</th>\n",
       "      <th>res</th>\n",
       "      <th>ndvi_mean</th>\n",
       "      <th>ndvi_std</th>\n",
       "      <th>ndvi_median</th>\n",
       "      <th>ndvi_max</th>\n",
       "      <th>ndvi_min</th>\n",
       "      <th>ndvi_diff</th>\n",
       "      <th>ndvi_tend</th>\n",
       "      <th>city</th>\n",
       "      <th>ndvi_median_rango</th>\n",
       "      <th>ndmi_mean</th>\n",
       "      <th>ndmi_std</th>\n",
       "      <th>ndmi_median</th>\n",
       "      <th>ndmi_max</th>\n",
       "      <th>ndmi_min</th>\n",
       "      <th>ndmi_diff</th>\n",
       "      <th>ndmi_tend</th>\n",
       "    </tr>\n",
       "  </thead>\n",
       "  <tbody>\n",
       "    <tr>\n",
       "      <th>0</th>\n",
       "      <td>88498c8649fffff</td>\n",
       "      <td>POLYGON ((-103.32357 20.76827, -103.32865 20.7...</td>\n",
       "      <td>8</td>\n",
       "      <td>0.244760</td>\n",
       "      <td>0.100867</td>\n",
       "      <td>0.247440</td>\n",
       "      <td>0.368982</td>\n",
       "      <td>0.115646</td>\n",
       "      <td>0.253336</td>\n",
       "      <td>-0.002247</td>\n",
       "      <td>Guadalajara</td>\n",
       "      <td>Mínima densidad vegetal</td>\n",
       "      <td>0.002498</td>\n",
       "      <td>0.061516</td>\n",
       "      <td>-0.002444</td>\n",
       "      <td>0.097146</td>\n",
       "      <td>-0.075964</td>\n",
       "      <td>0.173110</td>\n",
       "      <td>-0.000222</td>\n",
       "    </tr>\n",
       "    <tr>\n",
       "      <th>1</th>\n",
       "      <td>88498c864bfffff</td>\n",
       "      <td>POLYGON ((-103.32919 20.77561, -103.33427 20.7...</td>\n",
       "      <td>8</td>\n",
       "      <td>0.269992</td>\n",
       "      <td>0.122279</td>\n",
       "      <td>0.255744</td>\n",
       "      <td>0.431332</td>\n",
       "      <td>0.113069</td>\n",
       "      <td>0.318263</td>\n",
       "      <td>-0.001899</td>\n",
       "      <td>Guadalajara</td>\n",
       "      <td>Mínima densidad vegetal</td>\n",
       "      <td>0.014530</td>\n",
       "      <td>0.079156</td>\n",
       "      <td>0.005282</td>\n",
       "      <td>0.133249</td>\n",
       "      <td>-0.091163</td>\n",
       "      <td>0.224412</td>\n",
       "      <td>-0.000291</td>\n",
       "    </tr>\n",
       "  </tbody>\n",
       "</table>\n",
       "</div>"
      ],
      "text/plain": [
       "            hex_id                                           geometry  res  \\\n",
       "0  88498c8649fffff  POLYGON ((-103.32357 20.76827, -103.32865 20.7...    8   \n",
       "1  88498c864bfffff  POLYGON ((-103.32919 20.77561, -103.33427 20.7...    8   \n",
       "\n",
       "   ndvi_mean  ndvi_std  ndvi_median  ndvi_max  ndvi_min  ndvi_diff  ndvi_tend  \\\n",
       "0   0.244760  0.100867     0.247440  0.368982  0.115646   0.253336  -0.002247   \n",
       "1   0.269992  0.122279     0.255744  0.431332  0.113069   0.318263  -0.001899   \n",
       "\n",
       "          city        ndvi_median_rango  ndmi_mean  ndmi_std  ndmi_median  \\\n",
       "0  Guadalajara  Mínima densidad vegetal   0.002498  0.061516    -0.002444   \n",
       "1  Guadalajara  Mínima densidad vegetal   0.014530  0.079156     0.005282   \n",
       "\n",
       "   ndmi_max  ndmi_min  ndmi_diff  ndmi_tend  \n",
       "0  0.097146 -0.075964   0.173110  -0.000222  \n",
       "1  0.133249 -0.091163   0.224412  -0.000291  "
      ]
     },
     "execution_count": 8,
     "metadata": {},
     "output_type": "execute_result"
    }
   ],
   "source": [
    "ndmi_res8_clean = ndmi_res8.drop(columns=['geometry','res','city'])\n",
    "ndvi_ndmi_res8 = ndvi_withveg_res8.merge(ndmi_res8_clean, left_on='hex_id', right_on='hex_id')\n",
    "\n",
    "#Reviewing process\n",
    "print(ndvi_ndmi_res8.shape)\n",
    "ndvi_ndmi_res8.head(2)"
   ]
  },
  {
   "cell_type": "markdown",
   "id": "1dbb4523-a25a-4a2f-8b11-ebae997f3f3b",
   "metadata": {
    "tags": []
   },
   "source": [
    "### Data treatment - Download marginalization data from merged ndvi-ndmi geometries and merge"
   ]
  },
  {
   "cell_type": "markdown",
   "id": "30589401-9ff5-402e-a7cb-4f850ae30cd6",
   "metadata": {},
   "source": [
    "Marginalization data download"
   ]
  },
  {
   "cell_type": "code",
   "execution_count": 9,
   "id": "c5835d43-b9d9-40c5-8b57-9d7a1c1f07f8",
   "metadata": {
    "tags": []
   },
   "outputs": [
    {
     "name": "stdout",
     "output_type": "stream",
     "text": [
      "(750, 17)\n"
     ]
    },
    {
     "data": {
      "text/html": [
       "<div>\n",
       "<style scoped>\n",
       "    .dataframe tbody tr th:only-of-type {\n",
       "        vertical-align: middle;\n",
       "    }\n",
       "\n",
       "    .dataframe tbody tr th {\n",
       "        vertical-align: top;\n",
       "    }\n",
       "\n",
       "    .dataframe thead th {\n",
       "        text-align: right;\n",
       "    }\n",
       "</style>\n",
       "<table border=\"1\" class=\"dataframe\">\n",
       "  <thead>\n",
       "    <tr style=\"text-align: right;\">\n",
       "      <th></th>\n",
       "      <th>geometry</th>\n",
       "      <th>hex_id_8</th>\n",
       "      <th>CVEGEO</th>\n",
       "      <th>pobtot</th>\n",
       "      <th>p6a14nae</th>\n",
       "      <th>sbasc</th>\n",
       "      <th>psdss</th>\n",
       "      <th>ovsde</th>\n",
       "      <th>ovsee</th>\n",
       "      <th>ovsae</th>\n",
       "      <th>ovpt</th>\n",
       "      <th>ovsref</th>\n",
       "      <th>ovsint</th>\n",
       "      <th>ovscel</th>\n",
       "      <th>ovhac</th>\n",
       "      <th>im_2020</th>\n",
       "      <th>imn_2020</th>\n",
       "    </tr>\n",
       "  </thead>\n",
       "  <tbody>\n",
       "    <tr>\n",
       "      <th>0</th>\n",
       "      <td>POLYGON ((-103.61319 20.42802, -103.61772 20.4...</td>\n",
       "      <td>8849abc9ebfffff</td>\n",
       "      <td>14002</td>\n",
       "      <td>273.168550</td>\n",
       "      <td>0.474944</td>\n",
       "      <td>2.828432</td>\n",
       "      <td>1.787101</td>\n",
       "      <td>0.1098</td>\n",
       "      <td>0.008903</td>\n",
       "      <td>0.115735</td>\n",
       "      <td>0.029676</td>\n",
       "      <td>0.697379</td>\n",
       "      <td>4.282201</td>\n",
       "      <td>0.593514</td>\n",
       "      <td>2.756871</td>\n",
       "      <td>120.556725</td>\n",
       "      <td>0.941744</td>\n",
       "    </tr>\n",
       "    <tr>\n",
       "      <th>1</th>\n",
       "      <td>POLYGON ((-103.61374 20.43321, -103.61319 20.4...</td>\n",
       "      <td>8849abc9e3fffff</td>\n",
       "      <td>14002</td>\n",
       "      <td>89.333336</td>\n",
       "      <td>1.282051</td>\n",
       "      <td>7.092198</td>\n",
       "      <td>7.960199</td>\n",
       "      <td>0.0000</td>\n",
       "      <td>0.000000</td>\n",
       "      <td>0.621891</td>\n",
       "      <td>0.000000</td>\n",
       "      <td>1.492537</td>\n",
       "      <td>15.049751</td>\n",
       "      <td>0.373134</td>\n",
       "      <td>8.333333</td>\n",
       "      <td>122.339516</td>\n",
       "      <td>0.955670</td>\n",
       "    </tr>\n",
       "  </tbody>\n",
       "</table>\n",
       "</div>"
      ],
      "text/plain": [
       "                                            geometry         hex_id_8 CVEGEO  \\\n",
       "0  POLYGON ((-103.61319 20.42802, -103.61772 20.4...  8849abc9ebfffff  14002   \n",
       "1  POLYGON ((-103.61374 20.43321, -103.61319 20.4...  8849abc9e3fffff  14002   \n",
       "\n",
       "       pobtot  p6a14nae     sbasc     psdss   ovsde     ovsee     ovsae  \\\n",
       "0  273.168550  0.474944  2.828432  1.787101  0.1098  0.008903  0.115735   \n",
       "1   89.333336  1.282051  7.092198  7.960199  0.0000  0.000000  0.621891   \n",
       "\n",
       "       ovpt    ovsref     ovsint    ovscel     ovhac     im_2020  imn_2020  \n",
       "0  0.029676  0.697379   4.282201  0.593514  2.756871  120.556725  0.941744  \n",
       "1  0.000000  1.492537  15.049751  0.373134  8.333333  122.339516  0.955670  "
      ]
     },
     "execution_count": 9,
     "metadata": {},
     "output_type": "execute_result"
    }
   ],
   "source": [
    "# Finds hex_id codes where vegetation is present and there is ndmi data\n",
    "hex_ids = str(tuple(list(ndvi_ndmi_res8[\"hex_id\"].unique())))\n",
    "\n",
    "# Location of hexagons with marginalization data\n",
    "marg_schema = 'censo'\n",
    "marg_folder = 'hex_bins_marg_2020'\n",
    "\n",
    "query = f\"SELECT * FROM {marg_schema}.{marg_folder} WHERE \\\"hex_id_8\\\" IN {hex_ids}\"\n",
    "marg_res8 = aup.gdf_from_query(query, geometry_col='geometry')\n",
    "\n",
    "print(marg_res8.shape)\n",
    "marg_res8.head(2)"
   ]
  },
  {
   "cell_type": "markdown",
   "id": "091339e2-a2b0-44e7-978d-fbf67005599a",
   "metadata": {},
   "source": [
    "Marginalization data treatment"
   ]
  },
  {
   "cell_type": "code",
   "execution_count": 10,
   "id": "728a5f66-62d9-4f02-b9de-c964cdf94964",
   "metadata": {
    "tags": []
   },
   "outputs": [
    {
     "name": "stdout",
     "output_type": "stream",
     "text": [
      "(750, 18)\n"
     ]
    },
    {
     "data": {
      "text/html": [
       "<div>\n",
       "<style scoped>\n",
       "    .dataframe tbody tr th:only-of-type {\n",
       "        vertical-align: middle;\n",
       "    }\n",
       "\n",
       "    .dataframe tbody tr th {\n",
       "        vertical-align: top;\n",
       "    }\n",
       "\n",
       "    .dataframe thead th {\n",
       "        text-align: right;\n",
       "    }\n",
       "</style>\n",
       "<table border=\"1\" class=\"dataframe\">\n",
       "  <thead>\n",
       "    <tr style=\"text-align: right;\">\n",
       "      <th></th>\n",
       "      <th>geometry</th>\n",
       "      <th>hex_id_8</th>\n",
       "      <th>CVEGEO</th>\n",
       "      <th>pobtot</th>\n",
       "      <th>p6a14nae</th>\n",
       "      <th>sbasc</th>\n",
       "      <th>psdss</th>\n",
       "      <th>ovsde</th>\n",
       "      <th>ovsee</th>\n",
       "      <th>ovsae</th>\n",
       "      <th>ovpt</th>\n",
       "      <th>ovsref</th>\n",
       "      <th>ovsint</th>\n",
       "      <th>ovscel</th>\n",
       "      <th>ovhac</th>\n",
       "      <th>im_2020</th>\n",
       "      <th>imn_2020</th>\n",
       "      <th>Grado_Marg</th>\n",
       "    </tr>\n",
       "  </thead>\n",
       "  <tbody>\n",
       "    <tr>\n",
       "      <th>0</th>\n",
       "      <td>POLYGON ((-103.61319 20.42802, -103.61772 20.4...</td>\n",
       "      <td>8849abc9ebfffff</td>\n",
       "      <td>14002</td>\n",
       "      <td>273.168550</td>\n",
       "      <td>0.474944</td>\n",
       "      <td>2.828432</td>\n",
       "      <td>1.787101</td>\n",
       "      <td>0.1098</td>\n",
       "      <td>0.008903</td>\n",
       "      <td>0.115735</td>\n",
       "      <td>0.029676</td>\n",
       "      <td>0.697379</td>\n",
       "      <td>4.282201</td>\n",
       "      <td>0.593514</td>\n",
       "      <td>2.756871</td>\n",
       "      <td>120.556725</td>\n",
       "      <td>0.941744</td>\n",
       "      <td>Medio</td>\n",
       "    </tr>\n",
       "    <tr>\n",
       "      <th>1</th>\n",
       "      <td>POLYGON ((-103.61374 20.43321, -103.61319 20.4...</td>\n",
       "      <td>8849abc9e3fffff</td>\n",
       "      <td>14002</td>\n",
       "      <td>89.333336</td>\n",
       "      <td>1.282051</td>\n",
       "      <td>7.092198</td>\n",
       "      <td>7.960199</td>\n",
       "      <td>0.0000</td>\n",
       "      <td>0.000000</td>\n",
       "      <td>0.621891</td>\n",
       "      <td>0.000000</td>\n",
       "      <td>1.492537</td>\n",
       "      <td>15.049751</td>\n",
       "      <td>0.373134</td>\n",
       "      <td>8.333333</td>\n",
       "      <td>122.339516</td>\n",
       "      <td>0.955670</td>\n",
       "      <td>Bajo</td>\n",
       "    </tr>\n",
       "  </tbody>\n",
       "</table>\n",
       "</div>"
      ],
      "text/plain": [
       "                                            geometry         hex_id_8 CVEGEO  \\\n",
       "0  POLYGON ((-103.61319 20.42802, -103.61772 20.4...  8849abc9ebfffff  14002   \n",
       "1  POLYGON ((-103.61374 20.43321, -103.61319 20.4...  8849abc9e3fffff  14002   \n",
       "\n",
       "       pobtot  p6a14nae     sbasc     psdss   ovsde     ovsee     ovsae  \\\n",
       "0  273.168550  0.474944  2.828432  1.787101  0.1098  0.008903  0.115735   \n",
       "1   89.333336  1.282051  7.092198  7.960199  0.0000  0.000000  0.621891   \n",
       "\n",
       "       ovpt    ovsref     ovsint    ovscel     ovhac     im_2020  imn_2020  \\\n",
       "0  0.029676  0.697379   4.282201  0.593514  2.756871  120.556725  0.941744   \n",
       "1  0.000000  1.492537  15.049751  0.373134  8.333333  122.339516  0.955670   \n",
       "\n",
       "  Grado_Marg  \n",
       "0      Medio  \n",
       "1       Bajo  "
      ]
     },
     "execution_count": 10,
     "metadata": {},
     "output_type": "execute_result"
    }
   ],
   "source": [
    "#Creating marginalization categories\n",
    "marg_res8['Grado_Marg'] = np.nan\n",
    "marg_res8.loc[marg_res8.imn_2020>=0.966338 , 'Grado_Marg'] = 'Muy bajo'\n",
    "marg_res8.loc[(marg_res8.imn_2020>=0.946436 )&\n",
    "             (marg_res8.imn_2020<0.966338), 'Grado_Marg'] = 'Bajo'\n",
    "marg_res8.loc[(marg_res8.imn_2020>=0.926536)&\n",
    "             (marg_res8.imn_2020<0.946436), 'Grado_Marg'] = 'Medio'\n",
    "marg_res8.loc[(marg_res8.imn_2020>=0.8999)&\n",
    "             (marg_res8.imn_2020<0.926536), 'Grado_Marg'] = 'Alto'\n",
    "marg_res8.loc[(marg_res8.imn_2020<0.8999), 'Grado_Marg'] = 'Muy Alto'\n",
    "\n",
    "#Ordening data\n",
    "categories = ['Muy Alto', 'Alto', 'Medio', 'Bajo', 'Muy bajo']\n",
    "marg_res8['Grado_Marg'] = pd.Categorical(marg_res8['Grado_Marg'], categories=categories, ordered=True)\n",
    "\n",
    "#Reviewing process\n",
    "print(marg_res8.shape)\n",
    "marg_res8.head(2)"
   ]
  },
  {
   "cell_type": "markdown",
   "id": "33eab8ae-9500-452e-8682-cbfe373b16d2",
   "metadata": {},
   "source": [
    "Final merge"
   ]
  },
  {
   "cell_type": "code",
   "execution_count": 11,
   "id": "210e0d31-7598-44e0-acf5-8cde119e7e40",
   "metadata": {
    "tags": []
   },
   "outputs": [
    {
     "name": "stdout",
     "output_type": "stream",
     "text": [
      "(750, 21)\n"
     ]
    },
    {
     "data": {
      "text/html": [
       "<div>\n",
       "<style scoped>\n",
       "    .dataframe tbody tr th:only-of-type {\n",
       "        vertical-align: middle;\n",
       "    }\n",
       "\n",
       "    .dataframe tbody tr th {\n",
       "        vertical-align: top;\n",
       "    }\n",
       "\n",
       "    .dataframe thead th {\n",
       "        text-align: right;\n",
       "    }\n",
       "</style>\n",
       "<table border=\"1\" class=\"dataframe\">\n",
       "  <thead>\n",
       "    <tr style=\"text-align: right;\">\n",
       "      <th></th>\n",
       "      <th>hex_id</th>\n",
       "      <th>geometry</th>\n",
       "      <th>res</th>\n",
       "      <th>ndvi_mean</th>\n",
       "      <th>ndvi_std</th>\n",
       "      <th>ndvi_median</th>\n",
       "      <th>ndvi_max</th>\n",
       "      <th>ndvi_min</th>\n",
       "      <th>ndvi_diff</th>\n",
       "      <th>ndvi_tend</th>\n",
       "      <th>...</th>\n",
       "      <th>ndvi_median_rango</th>\n",
       "      <th>ndmi_mean</th>\n",
       "      <th>ndmi_std</th>\n",
       "      <th>ndmi_median</th>\n",
       "      <th>ndmi_max</th>\n",
       "      <th>ndmi_min</th>\n",
       "      <th>ndmi_diff</th>\n",
       "      <th>ndmi_tend</th>\n",
       "      <th>pobtot</th>\n",
       "      <th>Grado_Marg</th>\n",
       "    </tr>\n",
       "  </thead>\n",
       "  <tbody>\n",
       "    <tr>\n",
       "      <th>0</th>\n",
       "      <td>88498c8649fffff</td>\n",
       "      <td>POLYGON ((-103.32357 20.76827, -103.32865 20.7...</td>\n",
       "      <td>8</td>\n",
       "      <td>0.244760</td>\n",
       "      <td>0.100867</td>\n",
       "      <td>0.247440</td>\n",
       "      <td>0.368982</td>\n",
       "      <td>0.115646</td>\n",
       "      <td>0.253336</td>\n",
       "      <td>-0.002247</td>\n",
       "      <td>...</td>\n",
       "      <td>Mínima densidad vegetal</td>\n",
       "      <td>0.002498</td>\n",
       "      <td>0.061516</td>\n",
       "      <td>-0.002444</td>\n",
       "      <td>0.097146</td>\n",
       "      <td>-0.075964</td>\n",
       "      <td>0.173110</td>\n",
       "      <td>-0.000222</td>\n",
       "      <td>4877.1390</td>\n",
       "      <td>Alto</td>\n",
       "    </tr>\n",
       "    <tr>\n",
       "      <th>1</th>\n",
       "      <td>88498c864bfffff</td>\n",
       "      <td>POLYGON ((-103.32919 20.77561, -103.33427 20.7...</td>\n",
       "      <td>8</td>\n",
       "      <td>0.269992</td>\n",
       "      <td>0.122279</td>\n",
       "      <td>0.255744</td>\n",
       "      <td>0.431332</td>\n",
       "      <td>0.113069</td>\n",
       "      <td>0.318263</td>\n",
       "      <td>-0.001899</td>\n",
       "      <td>...</td>\n",
       "      <td>Mínima densidad vegetal</td>\n",
       "      <td>0.014530</td>\n",
       "      <td>0.079156</td>\n",
       "      <td>0.005282</td>\n",
       "      <td>0.133249</td>\n",
       "      <td>-0.091163</td>\n",
       "      <td>0.224412</td>\n",
       "      <td>-0.000291</td>\n",
       "      <td>877.6089</td>\n",
       "      <td>Alto</td>\n",
       "    </tr>\n",
       "  </tbody>\n",
       "</table>\n",
       "<p>2 rows × 21 columns</p>\n",
       "</div>"
      ],
      "text/plain": [
       "            hex_id                                           geometry  res  \\\n",
       "0  88498c8649fffff  POLYGON ((-103.32357 20.76827, -103.32865 20.7...    8   \n",
       "1  88498c864bfffff  POLYGON ((-103.32919 20.77561, -103.33427 20.7...    8   \n",
       "\n",
       "   ndvi_mean  ndvi_std  ndvi_median  ndvi_max  ndvi_min  ndvi_diff  ndvi_tend  \\\n",
       "0   0.244760  0.100867     0.247440  0.368982  0.115646   0.253336  -0.002247   \n",
       "1   0.269992  0.122279     0.255744  0.431332  0.113069   0.318263  -0.001899   \n",
       "\n",
       "   ...        ndvi_median_rango ndmi_mean  ndmi_std  ndmi_median  ndmi_max  \\\n",
       "0  ...  Mínima densidad vegetal  0.002498  0.061516    -0.002444  0.097146   \n",
       "1  ...  Mínima densidad vegetal  0.014530  0.079156     0.005282  0.133249   \n",
       "\n",
       "   ndmi_min  ndmi_diff  ndmi_tend     pobtot  Grado_Marg  \n",
       "0 -0.075964   0.173110  -0.000222  4877.1390        Alto  \n",
       "1 -0.091163   0.224412  -0.000291   877.6089        Alto  \n",
       "\n",
       "[2 rows x 21 columns]"
      ]
     },
     "execution_count": 11,
     "metadata": {},
     "output_type": "execute_result"
    }
   ],
   "source": [
    "columns_tokeep = ['hex_id_8','pobtot','Grado_Marg']\n",
    "marg_res8_clean = marg_res8[columns_tokeep]\n",
    "ndvi_ndmi_marg = ndvi_ndmi_res8.merge(marg_res8_clean, left_on='hex_id', right_on='hex_id_8')\n",
    "ndvi_ndmi_marg = ndvi_ndmi_marg.drop(columns=['hex_id_8'])\n",
    "\n",
    "#Reviewing process\n",
    "print(ndvi_ndmi_marg.shape)\n",
    "ndvi_ndmi_marg.head(2)"
   ]
  },
  {
   "cell_type": "markdown",
   "id": "229ac981-dc1a-4aa7-aa18-33aaa5c2992a",
   "metadata": {},
   "source": [
    "### Export ndvi+ndmi+marg csv"
   ]
  },
  {
   "cell_type": "markdown",
   "id": "12e06e32-2dd3-4729-a88d-59e1def48a0f",
   "metadata": {
    "tags": []
   },
   "source": [
    "## if csv_dataset:\n",
    "    csv_raster_dataset = ndvi_ndmi_marg.copy()\n",
    "    #Show dataframe\n",
    "    print(csv_raster_dataset.shape)\n",
    "    csv_raster_dataset.head(2)\n",
    "    #Download dataframe\n",
    "    csv_raster_dataset.to_csv(\"../../../data/external/ndvi_ndmi_marg_{}\".format(city.lower()))"
   ]
  },
  {
   "cell_type": "markdown",
   "id": "a70c0cfb-64d7-4894-b766-cf9656932d22",
   "metadata": {},
   "source": [
    "## Data analysis"
   ]
  },
  {
   "cell_type": "markdown",
   "id": "78228314-230b-40a8-8b96-659813b6131e",
   "metadata": {},
   "source": [
    "### Data analysis - Boxplot"
   ]
  },
  {
   "cell_type": "code",
   "execution_count": 13,
   "id": "26a0acf7-1396-4e9f-9cc9-037974f443d3",
   "metadata": {
    "tags": []
   },
   "outputs": [
    {
     "data": {
      "text/html": [
       "<div>\n",
       "<style scoped>\n",
       "    .dataframe tbody tr th:only-of-type {\n",
       "        vertical-align: middle;\n",
       "    }\n",
       "\n",
       "    .dataframe tbody tr th {\n",
       "        vertical-align: top;\n",
       "    }\n",
       "\n",
       "    .dataframe thead th {\n",
       "        text-align: right;\n",
       "    }\n",
       "</style>\n",
       "<table border=\"1\" class=\"dataframe\">\n",
       "  <thead>\n",
       "    <tr style=\"text-align: right;\">\n",
       "      <th></th>\n",
       "      <th>hex_id</th>\n",
       "      <th>geometry</th>\n",
       "      <th>res</th>\n",
       "      <th>ndvi_mean</th>\n",
       "      <th>ndvi_std</th>\n",
       "      <th>ndvi_median</th>\n",
       "      <th>ndvi_max</th>\n",
       "      <th>ndvi_min</th>\n",
       "      <th>ndvi_diff</th>\n",
       "      <th>ndvi_tend</th>\n",
       "      <th>...</th>\n",
       "      <th>ndvi_median_rango</th>\n",
       "      <th>ndmi_mean</th>\n",
       "      <th>ndmi_std</th>\n",
       "      <th>ndmi_median</th>\n",
       "      <th>ndmi_max</th>\n",
       "      <th>ndmi_min</th>\n",
       "      <th>ndmi_diff</th>\n",
       "      <th>ndmi_tend</th>\n",
       "      <th>pobtot</th>\n",
       "      <th>Grado_Marg</th>\n",
       "    </tr>\n",
       "  </thead>\n",
       "  <tbody>\n",
       "  </tbody>\n",
       "</table>\n",
       "<p>0 rows × 21 columns</p>\n",
       "</div>"
      ],
      "text/plain": [
       "Empty GeoDataFrame\n",
       "Columns: [hex_id, geometry, res, ndvi_mean, ndvi_std, ndvi_median, ndvi_max, ndvi_min, ndvi_diff, ndvi_tend, city, ndvi_median_rango, ndmi_mean, ndmi_std, ndmi_median, ndmi_max, ndmi_min, ndmi_diff, ndmi_tend, pobtot, Grado_Marg]\n",
       "Index: []\n",
       "\n",
       "[0 rows x 21 columns]"
      ]
     },
     "execution_count": 13,
     "metadata": {},
     "output_type": "execute_result"
    }
   ],
   "source": [
    "ndvi_ndmi_marg = ndvi_ndmi_marg.sort_values('Grado_Marg')\n",
    "ndvi_ndmi_marg.loc[ndvi_ndmi_marg.Grado_Marg.isna()]"
   ]
  },
  {
   "cell_type": "code",
   "execution_count": 14,
   "id": "e71ff703-d12a-410f-ba00-ddba9dd81a49",
   "metadata": {
    "tags": []
   },
   "outputs": [
    {
     "name": "stdout",
     "output_type": "stream",
     "text": [
      "      index  Grado_Marg\n",
      "4  Muy Alto          29\n",
      "2      Alto         155\n",
      "0     Medio         225\n",
      "3      Bajo         155\n",
      "1  Muy bajo         186\n"
     ]
    },
    {
     "data": {
      "image/png": "[encoded data removed]",
      "text/plain": [
       "<Figure size 1000x1000 with 1 Axes>"
      ]
     },
     "metadata": {},
     "output_type": "display_data"
    }
   ],
   "source": [
    "fig, ax = plt.subplots(figsize=(10,10))\n",
    "\n",
    "sns.boxplot(x=np.array(ndvi_ndmi_marg.Grado_Marg) , y=np.array(ndvi_ndmi_marg.ndmi_diff), ax=ax)\n",
    "\n",
    "plt.title('Relación entre grado de marginación y ndmi_diff en {}.'.format(city))\n",
    "plt.xlabel('Grado de marginación')\n",
    "plt.ylabel('ndmi_diff')\n",
    "\n",
    "# ------------------------------------------- Add number of hex per marginalization group -------------------------------------------\n",
    "\n",
    "#Calculate median of each Marginalization group to position number of observations\n",
    "maxs = ndvi_ndmi_marg.groupby(['Grado_Marg'])['ndmi_diff'].max()\n",
    "num_maxs = maxs.values\n",
    "#Drop NaNs\n",
    "num_maxs = num_maxs[~np.isnan(num_maxs)]\n",
    "\n",
    "# Calculate number of observations per group\n",
    "obs = ndvi_ndmi_marg['Grado_Marg'].value_counts()\n",
    "obs = obs.reset_index()\n",
    "obs = obs.sort_values('index')\n",
    "print(obs)\n",
    "#Drop Ceros by turning them to nans\n",
    "obs = obs['Grado_Marg'].apply(lambda x: np.nan if x==0 else x)\n",
    "obs = obs[~np.isnan(obs)]\n",
    "\n",
    "num_obs = obs.values\n",
    "num_obs = [str(x) for x in num_obs.tolist()]\n",
    "num_obs = [\"n: \" + i for i in num_obs]\n",
    "\n",
    "# Add it to the plot\n",
    "pos = range(len(num_obs))\n",
    "for tick,label in zip(pos,ax.get_xticklabels()):\n",
    "    #ax.text(x,y,text)\n",
    "    ax.text(pos[tick],\n",
    "            num_maxs[tick] + 0.005,\n",
    "            num_obs[tick],\n",
    "            horizontalalignment='center',\n",
    "            size='x-small',\n",
    "            color='black')\n",
    "# ------------------------------------------- ------------------------------------------- -------------------------------------------\n",
    "\n",
    "#Para plotear figuras quitar # \n",
    "plt.savefig(\"../../../output/figures/ndvi_ndmi_marg_bycity/{}/ndmidiff_marg_boxplot_{}.svg\".format(city.lower(),city.lower()))"
   ]
  },
  {
   "cell_type": "markdown",
   "id": "43a8fcbd-304b-4bbb-9bef-086725d6e279",
   "metadata": {
    "tags": []
   },
   "source": [
    "# Second analysis: NDVI - NDMI correlation (Res 10)"
   ]
  },
  {
   "cell_type": "markdown",
   "id": "373d609a-1a75-470a-9a86-5f793a363a32",
   "metadata": {},
   "source": [
    "## Data download"
   ]
  },
  {
   "cell_type": "markdown",
   "id": "86200ca7-d072-48d5-b5ec-3bf02238b1b7",
   "metadata": {},
   "source": [
    "Data download - NDVI"
   ]
  },
  {
   "cell_type": "code",
   "execution_count": 15,
   "id": "cd97cdba-2cda-4304-8f81-7e110d571c03",
   "metadata": {
    "tags": []
   },
   "outputs": [
    {
     "name": "stdout",
     "output_type": "stream",
     "text": [
      "(58163, 11)\n"
     ]
    },
    {
     "data": {
      "text/html": [
       "<div>\n",
       "<style scoped>\n",
       "    .dataframe tbody tr th:only-of-type {\n",
       "        vertical-align: middle;\n",
       "    }\n",
       "\n",
       "    .dataframe tbody tr th {\n",
       "        vertical-align: top;\n",
       "    }\n",
       "\n",
       "    .dataframe thead th {\n",
       "        text-align: right;\n",
       "    }\n",
       "</style>\n",
       "<table border=\"1\" class=\"dataframe\">\n",
       "  <thead>\n",
       "    <tr style=\"text-align: right;\">\n",
       "      <th></th>\n",
       "      <th>hex_id</th>\n",
       "      <th>geometry</th>\n",
       "      <th>res</th>\n",
       "      <th>ndvi_mean</th>\n",
       "      <th>ndvi_std</th>\n",
       "      <th>ndvi_median</th>\n",
       "      <th>ndvi_max</th>\n",
       "      <th>ndvi_min</th>\n",
       "      <th>ndvi_diff</th>\n",
       "      <th>ndvi_tend</th>\n",
       "      <th>city</th>\n",
       "    </tr>\n",
       "  </thead>\n",
       "  <tbody>\n",
       "    <tr>\n",
       "      <th>0</th>\n",
       "      <td>8a49ab4b2717fff</td>\n",
       "      <td>POLYGON ((-103.38873 20.74741, -103.38808 20.7...</td>\n",
       "      <td>10</td>\n",
       "      <td>0.299616</td>\n",
       "      <td>0.106006</td>\n",
       "      <td>0.296429</td>\n",
       "      <td>0.427786</td>\n",
       "      <td>0.154227</td>\n",
       "      <td>0.273559</td>\n",
       "      <td>-0.002171</td>\n",
       "      <td>Guadalajara</td>\n",
       "    </tr>\n",
       "    <tr>\n",
       "      <th>1</th>\n",
       "      <td>8a49ab4b266ffff</td>\n",
       "      <td>POLYGON ((-103.39412 20.75251, -103.39348 20.7...</td>\n",
       "      <td>10</td>\n",
       "      <td>0.149564</td>\n",
       "      <td>0.030770</td>\n",
       "      <td>0.158817</td>\n",
       "      <td>0.169151</td>\n",
       "      <td>0.107430</td>\n",
       "      <td>0.061721</td>\n",
       "      <td>-0.000915</td>\n",
       "      <td>Guadalajara</td>\n",
       "    </tr>\n",
       "  </tbody>\n",
       "</table>\n",
       "</div>"
      ],
      "text/plain": [
       "            hex_id                                           geometry  res  \\\n",
       "0  8a49ab4b2717fff  POLYGON ((-103.38873 20.74741, -103.38808 20.7...   10   \n",
       "1  8a49ab4b266ffff  POLYGON ((-103.39412 20.75251, -103.39348 20.7...   10   \n",
       "\n",
       "   ndvi_mean  ndvi_std  ndvi_median  ndvi_max  ndvi_min  ndvi_diff  ndvi_tend  \\\n",
       "0   0.299616  0.106006     0.296429  0.427786  0.154227   0.273559  -0.002171   \n",
       "1   0.149564  0.030770     0.158817  0.169151  0.107430   0.061721  -0.000915   \n",
       "\n",
       "          city  \n",
       "0  Guadalajara  \n",
       "1  Guadalajara  "
      ]
     },
     "execution_count": 15,
     "metadata": {},
     "output_type": "execute_result"
    }
   ],
   "source": [
    "# Downloading NDVI res 10 data\n",
    "ndvi_schema = 'raster_analysis'\n",
    "ndvi_folder = 'ndvi_analysis_hex'\n",
    "\n",
    "res = 10\n",
    "\n",
    "query = f\"SELECT * FROM {ndvi_schema}.{ndvi_folder} WHERE \\\"city\\\" LIKE \\'{city}\\' AND \\\"res\\\"={res}\"\n",
    "ndvi_res10 = aup.gdf_from_query(query, geometry_col='geometry')\n",
    "\n",
    "print(ndvi_res10.shape)\n",
    "ndvi_res10.head(2)"
   ]
  },
  {
   "cell_type": "markdown",
   "id": "1c9e6420-e597-45f7-bfbd-bc114954ebf6",
   "metadata": {},
   "source": [
    "Data download - NDMI"
   ]
  },
  {
   "cell_type": "code",
   "execution_count": 16,
   "id": "f379b32f-5b0e-41ae-bf7e-c91bdef4b424",
   "metadata": {
    "tags": []
   },
   "outputs": [
    {
     "name": "stdout",
     "output_type": "stream",
     "text": [
      "(58163, 11)\n"
     ]
    },
    {
     "data": {
      "text/html": [
       "<div>\n",
       "<style scoped>\n",
       "    .dataframe tbody tr th:only-of-type {\n",
       "        vertical-align: middle;\n",
       "    }\n",
       "\n",
       "    .dataframe tbody tr th {\n",
       "        vertical-align: top;\n",
       "    }\n",
       "\n",
       "    .dataframe thead th {\n",
       "        text-align: right;\n",
       "    }\n",
       "</style>\n",
       "<table border=\"1\" class=\"dataframe\">\n",
       "  <thead>\n",
       "    <tr style=\"text-align: right;\">\n",
       "      <th></th>\n",
       "      <th>hex_id</th>\n",
       "      <th>geometry</th>\n",
       "      <th>res</th>\n",
       "      <th>ndmi_mean</th>\n",
       "      <th>ndmi_std</th>\n",
       "      <th>ndmi_median</th>\n",
       "      <th>ndmi_max</th>\n",
       "      <th>ndmi_min</th>\n",
       "      <th>ndmi_diff</th>\n",
       "      <th>ndmi_tend</th>\n",
       "      <th>city</th>\n",
       "    </tr>\n",
       "  </thead>\n",
       "  <tbody>\n",
       "    <tr>\n",
       "      <th>0</th>\n",
       "      <td>8a498c865b9ffff</td>\n",
       "      <td>POLYGON ((-103.35097 20.78477, -103.35032 20.7...</td>\n",
       "      <td>10</td>\n",
       "      <td>0.064716</td>\n",
       "      <td>0.121298</td>\n",
       "      <td>0.053016</td>\n",
       "      <td>0.229568</td>\n",
       "      <td>-0.106614</td>\n",
       "      <td>0.336182</td>\n",
       "      <td>-0.000149</td>\n",
       "      <td>Guadalajara</td>\n",
       "    </tr>\n",
       "    <tr>\n",
       "      <th>1</th>\n",
       "      <td>8a49ab59a16ffff</td>\n",
       "      <td>POLYGON ((-103.42643 20.68305, -103.42579 20.6...</td>\n",
       "      <td>10</td>\n",
       "      <td>0.051527</td>\n",
       "      <td>0.051866</td>\n",
       "      <td>0.056517</td>\n",
       "      <td>0.137001</td>\n",
       "      <td>-0.026647</td>\n",
       "      <td>0.163648</td>\n",
       "      <td>-0.000598</td>\n",
       "      <td>Guadalajara</td>\n",
       "    </tr>\n",
       "  </tbody>\n",
       "</table>\n",
       "</div>"
      ],
      "text/plain": [
       "            hex_id                                           geometry  res  \\\n",
       "0  8a498c865b9ffff  POLYGON ((-103.35097 20.78477, -103.35032 20.7...   10   \n",
       "1  8a49ab59a16ffff  POLYGON ((-103.42643 20.68305, -103.42579 20.6...   10   \n",
       "\n",
       "   ndmi_mean  ndmi_std  ndmi_median  ndmi_max  ndmi_min  ndmi_diff  ndmi_tend  \\\n",
       "0   0.064716  0.121298     0.053016  0.229568 -0.106614   0.336182  -0.000149   \n",
       "1   0.051527  0.051866     0.056517  0.137001 -0.026647   0.163648  -0.000598   \n",
       "\n",
       "          city  \n",
       "0  Guadalajara  \n",
       "1  Guadalajara  "
      ]
     },
     "execution_count": 16,
     "metadata": {},
     "output_type": "execute_result"
    }
   ],
   "source": [
    "# Downloading NDMI res 10 data\n",
    "ndmi_schema = 'raster_analysis'\n",
    "ndmi_folder = 'ndmi_analysis_hex'\n",
    "\n",
    "res = 10\n",
    "\n",
    "query = f\"SELECT * FROM {ndmi_schema}.{ndmi_folder} WHERE \\\"city\\\" LIKE \\'{city}\\' AND \\\"res\\\"={res}\"\n",
    "ndmi_res10 = aup.gdf_from_query(query, geometry_col='geometry')\n",
    "\n",
    "print(ndmi_res10.shape)\n",
    "ndmi_res10.head(2)"
   ]
  },
  {
   "cell_type": "markdown",
   "id": "9e3d5569-e64d-440a-93d7-903d515865f7",
   "metadata": {},
   "source": [
    "## Data treatment"
   ]
  },
  {
   "cell_type": "markdown",
   "id": "6cc791f8-6bb8-4eeb-8ae3-2cc92e28f291",
   "metadata": {
    "tags": []
   },
   "source": [
    "Data treatment - Creating vegetation categories"
   ]
  },
  {
   "cell_type": "code",
   "execution_count": 17,
   "id": "1c8528eb-e3ac-49e8-830c-8e71cb905d7b",
   "metadata": {
    "tags": []
   },
   "outputs": [
    {
     "name": "stdout",
     "output_type": "stream",
     "text": [
      "(58163, 12)\n"
     ]
    },
    {
     "data": {
      "text/html": [
       "<div>\n",
       "<style scoped>\n",
       "    .dataframe tbody tr th:only-of-type {\n",
       "        vertical-align: middle;\n",
       "    }\n",
       "\n",
       "    .dataframe tbody tr th {\n",
       "        vertical-align: top;\n",
       "    }\n",
       "\n",
       "    .dataframe thead th {\n",
       "        text-align: right;\n",
       "    }\n",
       "</style>\n",
       "<table border=\"1\" class=\"dataframe\">\n",
       "  <thead>\n",
       "    <tr style=\"text-align: right;\">\n",
       "      <th></th>\n",
       "      <th>hex_id</th>\n",
       "      <th>geometry</th>\n",
       "      <th>res</th>\n",
       "      <th>ndvi_mean</th>\n",
       "      <th>ndvi_std</th>\n",
       "      <th>ndvi_median</th>\n",
       "      <th>ndvi_max</th>\n",
       "      <th>ndvi_min</th>\n",
       "      <th>ndvi_diff</th>\n",
       "      <th>ndvi_tend</th>\n",
       "      <th>city</th>\n",
       "      <th>ndvi_median_rango</th>\n",
       "    </tr>\n",
       "  </thead>\n",
       "  <tbody>\n",
       "    <tr>\n",
       "      <th>0</th>\n",
       "      <td>8a49ab4b2717fff</td>\n",
       "      <td>POLYGON ((-103.38873 20.74741, -103.38808 20.7...</td>\n",
       "      <td>10</td>\n",
       "      <td>0.299616</td>\n",
       "      <td>0.106006</td>\n",
       "      <td>0.296429</td>\n",
       "      <td>0.427786</td>\n",
       "      <td>0.154227</td>\n",
       "      <td>0.273559</td>\n",
       "      <td>-0.002171</td>\n",
       "      <td>Guadalajara</td>\n",
       "      <td>Mínima densidad vegetal</td>\n",
       "    </tr>\n",
       "    <tr>\n",
       "      <th>1</th>\n",
       "      <td>8a49ab4b266ffff</td>\n",
       "      <td>POLYGON ((-103.39412 20.75251, -103.39348 20.7...</td>\n",
       "      <td>10</td>\n",
       "      <td>0.149564</td>\n",
       "      <td>0.030770</td>\n",
       "      <td>0.158817</td>\n",
       "      <td>0.169151</td>\n",
       "      <td>0.107430</td>\n",
       "      <td>0.061721</td>\n",
       "      <td>-0.000915</td>\n",
       "      <td>Guadalajara</td>\n",
       "      <td>Suelo</td>\n",
       "    </tr>\n",
       "  </tbody>\n",
       "</table>\n",
       "</div>"
      ],
      "text/plain": [
       "            hex_id                                           geometry  res  \\\n",
       "0  8a49ab4b2717fff  POLYGON ((-103.38873 20.74741, -103.38808 20.7...   10   \n",
       "1  8a49ab4b266ffff  POLYGON ((-103.39412 20.75251, -103.39348 20.7...   10   \n",
       "\n",
       "   ndvi_mean  ndvi_std  ndvi_median  ndvi_max  ndvi_min  ndvi_diff  ndvi_tend  \\\n",
       "0   0.299616  0.106006     0.296429  0.427786  0.154227   0.273559  -0.002171   \n",
       "1   0.149564  0.030770     0.158817  0.169151  0.107430   0.061721  -0.000915   \n",
       "\n",
       "          city        ndvi_median_rango  \n",
       "0  Guadalajara  Mínima densidad vegetal  \n",
       "1  Guadalajara                    Suelo  "
      ]
     },
     "execution_count": 17,
     "metadata": {},
     "output_type": "execute_result"
    }
   ],
   "source": [
    "# NDVI res 10 processing\n",
    "# Creating vegetation categories\n",
    "ndvi_res10['ndvi_median_rango'] = np.nan\n",
    "ndvi_res10.loc[ndvi_res10.ndvi_median>=0.6 , 'ndvi_median_rango'] = 'Alta densidad vegetal'\n",
    "ndvi_res10.loc[(ndvi_res10.ndvi_median>=0.4 )&\n",
    "             (ndvi_res10.ndvi_median<0.6), 'ndvi_median_rango'] = 'Moderada densidad vegetal'\n",
    "ndvi_res10.loc[(ndvi_res10.ndvi_median>=0.2)&\n",
    "             (ndvi_res10.ndvi_median<0.4), 'ndvi_median_rango'] = 'Mínima densidad vegetal'\n",
    "ndvi_res10.loc[(ndvi_res10.ndvi_median>=0.1)&\n",
    "             (ndvi_res10.ndvi_median<0.2), 'ndvi_median_rango'] = 'Suelo'\n",
    "ndvi_res10.loc[(ndvi_res10.ndvi_median<0.1), 'ndvi_median_rango'] = 'Suelo artificial/Agua/Piedra'\n",
    "\n",
    "# Ordering data\n",
    "categories = ['Suelo artificial/Agua/Piedra', 'Suelo', 'Mínima densidad vegetal', 'Moderada densidad vegetal', 'Alta densidad vegetal']\n",
    "ndvi_res10['ndvi_median_rango'] = pd.Categorical(ndvi_res10['ndvi_median_rango'], categories=categories, ordered=True)\n",
    "\n",
    "# Reviewing process\n",
    "print(ndvi_res10.shape)\n",
    "ndvi_res10.head(2)"
   ]
  },
  {
   "cell_type": "markdown",
   "id": "489f92cb-ea30-45af-8153-b2901cc31306",
   "metadata": {},
   "source": [
    "Data treatment - NDVI filtering for places with vegetation"
   ]
  },
  {
   "cell_type": "code",
   "execution_count": 18,
   "id": "a124c611-cbf1-4fa8-b66f-c7ba3334175d",
   "metadata": {
    "tags": []
   },
   "outputs": [
    {
     "name": "stdout",
     "output_type": "stream",
     "text": [
      "(34361, 12)\n"
     ]
    },
    {
     "data": {
      "text/html": [
       "<div>\n",
       "<style scoped>\n",
       "    .dataframe tbody tr th:only-of-type {\n",
       "        vertical-align: middle;\n",
       "    }\n",
       "\n",
       "    .dataframe tbody tr th {\n",
       "        vertical-align: top;\n",
       "    }\n",
       "\n",
       "    .dataframe thead th {\n",
       "        text-align: right;\n",
       "    }\n",
       "</style>\n",
       "<table border=\"1\" class=\"dataframe\">\n",
       "  <thead>\n",
       "    <tr style=\"text-align: right;\">\n",
       "      <th></th>\n",
       "      <th>hex_id</th>\n",
       "      <th>geometry</th>\n",
       "      <th>res</th>\n",
       "      <th>ndvi_mean</th>\n",
       "      <th>ndvi_std</th>\n",
       "      <th>ndvi_median</th>\n",
       "      <th>ndvi_max</th>\n",
       "      <th>ndvi_min</th>\n",
       "      <th>ndvi_diff</th>\n",
       "      <th>ndvi_tend</th>\n",
       "      <th>city</th>\n",
       "      <th>ndvi_median_rango</th>\n",
       "    </tr>\n",
       "  </thead>\n",
       "  <tbody>\n",
       "    <tr>\n",
       "      <th>0</th>\n",
       "      <td>8a49ab4b2717fff</td>\n",
       "      <td>POLYGON ((-103.38873 20.74741, -103.38808 20.7...</td>\n",
       "      <td>10</td>\n",
       "      <td>0.299616</td>\n",
       "      <td>0.106006</td>\n",
       "      <td>0.296429</td>\n",
       "      <td>0.427786</td>\n",
       "      <td>0.154227</td>\n",
       "      <td>0.273559</td>\n",
       "      <td>-0.002171</td>\n",
       "      <td>Guadalajara</td>\n",
       "      <td>Mínima densidad vegetal</td>\n",
       "    </tr>\n",
       "    <tr>\n",
       "      <th>2</th>\n",
       "      <td>8a49ab4b265ffff</td>\n",
       "      <td>POLYGON ((-103.39218 20.75382, -103.39153 20.7...</td>\n",
       "      <td>10</td>\n",
       "      <td>0.240518</td>\n",
       "      <td>0.068065</td>\n",
       "      <td>0.256728</td>\n",
       "      <td>0.308129</td>\n",
       "      <td>0.146020</td>\n",
       "      <td>0.162110</td>\n",
       "      <td>-0.000966</td>\n",
       "      <td>Guadalajara</td>\n",
       "      <td>Mínima densidad vegetal</td>\n",
       "    </tr>\n",
       "  </tbody>\n",
       "</table>\n",
       "</div>"
      ],
      "text/plain": [
       "            hex_id                                           geometry  res  \\\n",
       "0  8a49ab4b2717fff  POLYGON ((-103.38873 20.74741, -103.38808 20.7...   10   \n",
       "2  8a49ab4b265ffff  POLYGON ((-103.39218 20.75382, -103.39153 20.7...   10   \n",
       "\n",
       "   ndvi_mean  ndvi_std  ndvi_median  ndvi_max  ndvi_min  ndvi_diff  ndvi_tend  \\\n",
       "0   0.299616  0.106006     0.296429  0.427786  0.154227   0.273559  -0.002171   \n",
       "2   0.240518  0.068065     0.256728  0.308129  0.146020   0.162110  -0.000966   \n",
       "\n",
       "          city        ndvi_median_rango  \n",
       "0  Guadalajara  Mínima densidad vegetal  \n",
       "2  Guadalajara  Mínima densidad vegetal  "
      ]
     },
     "execution_count": 18,
     "metadata": {},
     "output_type": "execute_result"
    }
   ],
   "source": [
    "#Keeping High-moderate-minimal vegetation density\n",
    "ndvi_withveg_res10 = ndvi_res10.loc[(ndvi_res10.ndvi_median_rango == 'Alta densidad vegetal') |\n",
    "                   (ndvi_res10.ndvi_median_rango == 'Moderada densidad vegetal')|\n",
    "                   (ndvi_res10.ndvi_median_rango == 'Mínima densidad vegetal')]\n",
    "\n",
    "#Reviewing process\n",
    "print(ndvi_withveg_res10.shape)\n",
    "ndvi_withveg_res10.head(2)"
   ]
  },
  {
   "cell_type": "markdown",
   "id": "c5c937ba-e18f-4644-8506-cfe86c5cc241",
   "metadata": {},
   "source": [
    "Data treatment - Merging NDVI and NDMI"
   ]
  },
  {
   "cell_type": "code",
   "execution_count": 19,
   "id": "c071022d-ffb3-4e8b-b37b-ccdc5b2d0a30",
   "metadata": {
    "tags": []
   },
   "outputs": [
    {
     "name": "stdout",
     "output_type": "stream",
     "text": [
      "(34361, 19)\n"
     ]
    },
    {
     "data": {
      "text/html": [
       "<div>\n",
       "<style scoped>\n",
       "    .dataframe tbody tr th:only-of-type {\n",
       "        vertical-align: middle;\n",
       "    }\n",
       "\n",
       "    .dataframe tbody tr th {\n",
       "        vertical-align: top;\n",
       "    }\n",
       "\n",
       "    .dataframe thead th {\n",
       "        text-align: right;\n",
       "    }\n",
       "</style>\n",
       "<table border=\"1\" class=\"dataframe\">\n",
       "  <thead>\n",
       "    <tr style=\"text-align: right;\">\n",
       "      <th></th>\n",
       "      <th>hex_id</th>\n",
       "      <th>geometry</th>\n",
       "      <th>res</th>\n",
       "      <th>ndvi_mean</th>\n",
       "      <th>ndvi_std</th>\n",
       "      <th>ndvi_median</th>\n",
       "      <th>ndvi_max</th>\n",
       "      <th>ndvi_min</th>\n",
       "      <th>ndvi_diff</th>\n",
       "      <th>ndvi_tend</th>\n",
       "      <th>city</th>\n",
       "      <th>ndvi_median_rango</th>\n",
       "      <th>ndmi_mean</th>\n",
       "      <th>ndmi_std</th>\n",
       "      <th>ndmi_median</th>\n",
       "      <th>ndmi_max</th>\n",
       "      <th>ndmi_min</th>\n",
       "      <th>ndmi_diff</th>\n",
       "      <th>ndmi_tend</th>\n",
       "    </tr>\n",
       "  </thead>\n",
       "  <tbody>\n",
       "    <tr>\n",
       "      <th>0</th>\n",
       "      <td>8a49ab4b2717fff</td>\n",
       "      <td>POLYGON ((-103.38873 20.74741, -103.38808 20.7...</td>\n",
       "      <td>10</td>\n",
       "      <td>0.299616</td>\n",
       "      <td>0.106006</td>\n",
       "      <td>0.296429</td>\n",
       "      <td>0.427786</td>\n",
       "      <td>0.154227</td>\n",
       "      <td>0.273559</td>\n",
       "      <td>-0.002171</td>\n",
       "      <td>Guadalajara</td>\n",
       "      <td>Mínima densidad vegetal</td>\n",
       "      <td>0.040085</td>\n",
       "      <td>0.073231</td>\n",
       "      <td>0.034313</td>\n",
       "      <td>0.161902</td>\n",
       "      <td>-0.05802</td>\n",
       "      <td>0.219922</td>\n",
       "      <td>0.000142</td>\n",
       "    </tr>\n",
       "    <tr>\n",
       "      <th>1</th>\n",
       "      <td>8a49ab4b265ffff</td>\n",
       "      <td>POLYGON ((-103.39218 20.75382, -103.39153 20.7...</td>\n",
       "      <td>10</td>\n",
       "      <td>0.240518</td>\n",
       "      <td>0.068065</td>\n",
       "      <td>0.256728</td>\n",
       "      <td>0.308129</td>\n",
       "      <td>0.146020</td>\n",
       "      <td>0.162110</td>\n",
       "      <td>-0.000966</td>\n",
       "      <td>Guadalajara</td>\n",
       "      <td>Mínima densidad vegetal</td>\n",
       "      <td>0.046106</td>\n",
       "      <td>0.043520</td>\n",
       "      <td>0.036958</td>\n",
       "      <td>0.123636</td>\n",
       "      <td>0.00750</td>\n",
       "      <td>0.116136</td>\n",
       "      <td>0.000058</td>\n",
       "    </tr>\n",
       "  </tbody>\n",
       "</table>\n",
       "</div>"
      ],
      "text/plain": [
       "            hex_id                                           geometry  res  \\\n",
       "0  8a49ab4b2717fff  POLYGON ((-103.38873 20.74741, -103.38808 20.7...   10   \n",
       "1  8a49ab4b265ffff  POLYGON ((-103.39218 20.75382, -103.39153 20.7...   10   \n",
       "\n",
       "   ndvi_mean  ndvi_std  ndvi_median  ndvi_max  ndvi_min  ndvi_diff  ndvi_tend  \\\n",
       "0   0.299616  0.106006     0.296429  0.427786  0.154227   0.273559  -0.002171   \n",
       "1   0.240518  0.068065     0.256728  0.308129  0.146020   0.162110  -0.000966   \n",
       "\n",
       "          city        ndvi_median_rango  ndmi_mean  ndmi_std  ndmi_median  \\\n",
       "0  Guadalajara  Mínima densidad vegetal   0.040085  0.073231     0.034313   \n",
       "1  Guadalajara  Mínima densidad vegetal   0.046106  0.043520     0.036958   \n",
       "\n",
       "   ndmi_max  ndmi_min  ndmi_diff  ndmi_tend  \n",
       "0  0.161902  -0.05802   0.219922   0.000142  \n",
       "1  0.123636   0.00750   0.116136   0.000058  "
      ]
     },
     "execution_count": 19,
     "metadata": {},
     "output_type": "execute_result"
    }
   ],
   "source": [
    "ndmi_res10_clean = ndmi_res10.drop(columns=['geometry','res','city'])\n",
    "ndvi_ndmi_res10 = ndvi_withveg_res10.merge(ndmi_res10_clean, left_on='hex_id', right_on='hex_id')\n",
    "\n",
    "#Reviewing process\n",
    "print(ndvi_ndmi_res10.shape)\n",
    "ndvi_ndmi_res10.head(2)"
   ]
  },
  {
   "cell_type": "markdown",
   "id": "1c727e94-d22a-40ed-b6a6-48a79a2bf5ff",
   "metadata": {},
   "source": [
    "## Data analysis - Visual correlation analysis"
   ]
  },
  {
   "cell_type": "code",
   "execution_count": 20,
   "id": "e7dd4791-0dbb-4b21-a629-c254496da8e7",
   "metadata": {
    "tags": []
   },
   "outputs": [
    {
     "data": {
      "image/png": "[encoded data removed]",
      "text/plain": [
       "<Figure size 1200x600 with 3 Axes>"
      ]
     },
     "metadata": {},
     "output_type": "display_data"
    }
   ],
   "source": [
    "fig, ax = plt.subplots(1,2,figsize=(12,6))\n",
    "\n",
    "ndvi_ndmi_res10.plot('ndmi_diff', 'viridis', ax=ax[0], legend=True)\n",
    "ndvi_res10.plot('ndvi_median_rango', 'YlGn', ax=ax[1], legend=True)\n",
    "\n",
    "ax[0].set_title('ndmi_diff en {} (res 10).'.format(city))\n",
    "ax[1].set_title('Índice de vegetación en {} (res {}).'.format(city,res))\n",
    "\n",
    "# Guardar gráficos\n",
    "plt.savefig(\"../../../output/figures/ndvi_ndmi_marg_bycity/{}/ndmidiff_{}.svg\".format(city.lower(),city.lower()))"
   ]
  },
  {
   "cell_type": "code",
   "execution_count": null,
   "id": "c6f8e8d6-4f89-4af8-a460-d1ef9f53bed4",
   "metadata": {},
   "outputs": [],
   "source": []
  }
 ],
 "metadata": {
  "kernelspec": {
   "display_name": "Python 3 (ipykernel)",
   "language": "python",
   "name": "python3"
  },
  "language_info": {
   "codemirror_mode": {
    "name": "ipython",
    "version": 3
   },
   "file_extension": ".py",
   "mimetype": "text/x-python",
   "name": "python",
   "nbconvert_exporter": "python",
   "pygments_lexer": "ipython3",
   "version": "3.10.5"
  }
 },
 "nbformat": 4,
 "nbformat_minor": 5
}
