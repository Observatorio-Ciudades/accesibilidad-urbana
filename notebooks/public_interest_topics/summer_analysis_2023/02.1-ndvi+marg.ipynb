{
 "cells": [
  {
   "cell_type": "markdown",
   "id": "7a10b0a8-5c95-41d2-9c2f-c926671d9ea2",
   "metadata": {
    "tags": []
   },
   "source": [
    "# Summer analysis 2023 ndvi+marg"
   ]
  },
  {
   "cell_type": "markdown",
   "id": "8458fa4f-ba2d-4a96-80d6-91513b68f429",
   "metadata": {},
   "source": [
    "This notebook joins categorized NDVI with categorized marginalization in order to export it to a csv."
   ]
  },
  {
   "cell_type": "markdown",
   "id": "e1f2c421-ef7d-4771-8e5b-d67ded6ba8e0",
   "metadata": {},
   "source": [
    "### NDVI res8 + marg res8 to csv\n",
    "\n",
    "1. Download NDVI res8\n",
    "2. Create vegetation categories for NDVI\n",
    "3. Download marginalization res8 (from hexs in NDVI)\n",
    "4. Create marginalization categories\n",
    "5. Merge databases\n",
    "6. Save to csv"
   ]
  },
  {
   "cell_type": "markdown",
   "id": "d05078ca-4e2f-4a0a-9f56-00a7c5088407",
   "metadata": {
    "tags": []
   },
   "source": [
    "## Notes:"
   ]
  },
  {
   "cell_type": "markdown",
   "id": "9dd65889-4847-4e46-b36f-0cf1826573fe",
   "metadata": {
    "tags": []
   },
   "source": [
    "NDVI --> hex_id, res, ndvi_mean, ndvi_std, ndvi_median, ndvi_max, ndvi_min, ndvi_diff, ndvi_tend, city\n",
    "* res: 8,9,10,11\n",
    "* city: Aguascalientes, Cancun, Chihuahua, Chilpancingo, Coatzacoalcos, Colima, Cuernavaca, Culiacan, Durango, Ensenada, Guadalajara, Guanajuato, Juarez, La Paz, Leon, Matamoros, Mazatlan, Merida, Minatitlan, Monclova, Monterrey, Moroleon, Nogales, Nuevo Laredo, Oaxaca, Ocotlan, Pachuca, Parral, Piedad, Piedras Negras, Queretaro, Tijuana, Tuxtla, ZMVM.\n",
    "\n",
    "NDMI --> hex_id, res, ndmi_mean, ndmi_std, ndmi_median, ndmi_max, ndmi_min, ndmi_diff, ndmi_tend, city\n",
    "* res: 8,9,10,11\n",
    "* city: Chihuahua, Guadalajara, Leon, Merida, Monterrey, Puebla (¡Puebla not in NDVI!), Queretaro, Tijuana, Tuxtla, ZMVM."
   ]
  },
  {
   "cell_type": "markdown",
   "id": "aa17cf37-5805-4ba7-80af-34afacb56007",
   "metadata": {},
   "source": [
    "## Import libraries"
   ]
  },
  {
   "cell_type": "code",
   "execution_count": 1,
   "id": "e8916b06-4acb-48f5-99cf-dbbecb84ecdb",
   "metadata": {
    "tags": []
   },
   "outputs": [
    {
     "name": "stderr",
     "output_type": "stream",
     "text": [
      "/usr/local/python/lib/python3.10/site-packages/osmnx/utils.py:192: UserWarning: The `utils.config` function is deprecated and will be removed in a future release. Instead, use the `settings` module directly to configure a global setting's value. For example, `ox.settings.log_console=True`.\n",
      "  warnings.warn(\n"
     ]
    }
   ],
   "source": [
    "import os\n",
    "import sys\n",
    "\n",
    "import pandas as pd\n",
    "import geopandas as gpd\n",
    "import numpy as np\n",
    "\n",
    "import matplotlib.pyplot as plt\n",
    "import seaborn as sns\n",
    "\n",
    "from pandas.api.types import CategoricalDtype\n",
    "\n",
    "import warnings\n",
    "warnings.simplefilter(action='ignore', category=FutureWarning)\n",
    "\n",
    "module_path = os.path.abspath(os.path.join('../../../'))\n",
    "if module_path not in sys.path:\n",
    "    sys.path.append(module_path)\n",
    "    import aup"
   ]
  },
  {
   "cell_type": "markdown",
   "id": "f3da6415-7cbf-49b7-bb53-38932ad63341",
   "metadata": {},
   "source": [
    "## Config notebook"
   ]
  },
  {
   "cell_type": "code",
   "execution_count": 2,
   "id": "e4827719-2440-46db-b6c7-521ba90a5543",
   "metadata": {
    "tags": []
   },
   "outputs": [],
   "source": [
    "city = 'Guadalajara'"
   ]
  },
  {
   "cell_type": "code",
   "execution_count": 3,
   "id": "90fc2d13-8658-4a78-949e-2470362932a4",
   "metadata": {
    "tags": []
   },
   "outputs": [],
   "source": [
    "#Export to \"../../../data/external/__\"\n",
    "csv_dataset = True"
   ]
  },
  {
   "cell_type": "markdown",
   "id": "76ff87b7-3a17-4806-b4cf-2e0002f71a3c",
   "metadata": {
    "tags": []
   },
   "source": [
    "# First analysis: NDVI - NDMI - Marginalization correlation (Res 8)"
   ]
  },
  {
   "cell_type": "markdown",
   "id": "f353dd6b-97fa-4de4-8fee-e0384aaf09ee",
   "metadata": {},
   "source": [
    "## Data download"
   ]
  },
  {
   "cell_type": "markdown",
   "id": "4d86e5a5-671b-4d63-b6c8-8a2c55c0135c",
   "metadata": {
    "tags": []
   },
   "source": [
    "Data download - NDVI"
   ]
  },
  {
   "cell_type": "code",
   "execution_count": 4,
   "id": "ce94ea5a-8927-455d-8142-344e21ebadd0",
   "metadata": {
    "tags": []
   },
   "outputs": [
    {
     "name": "stdout",
     "output_type": "stream",
     "text": [
      "(1187, 11)\n"
     ]
    },
    {
     "data": {
      "text/html": [
       "<div>\n",
       "<style scoped>\n",
       "    .dataframe tbody tr th:only-of-type {\n",
       "        vertical-align: middle;\n",
       "    }\n",
       "\n",
       "    .dataframe tbody tr th {\n",
       "        vertical-align: top;\n",
       "    }\n",
       "\n",
       "    .dataframe thead th {\n",
       "        text-align: right;\n",
       "    }\n",
       "</style>\n",
       "<table border=\"1\" class=\"dataframe\">\n",
       "  <thead>\n",
       "    <tr style=\"text-align: right;\">\n",
       "      <th></th>\n",
       "      <th>hex_id</th>\n",
       "      <th>geometry</th>\n",
       "      <th>res</th>\n",
       "      <th>ndvi_mean</th>\n",
       "      <th>ndvi_std</th>\n",
       "      <th>ndvi_median</th>\n",
       "      <th>ndvi_max</th>\n",
       "      <th>ndvi_min</th>\n",
       "      <th>ndvi_diff</th>\n",
       "      <th>ndvi_tend</th>\n",
       "      <th>city</th>\n",
       "    </tr>\n",
       "  </thead>\n",
       "  <tbody>\n",
       "    <tr>\n",
       "      <th>0</th>\n",
       "      <td>88498c8649fffff</td>\n",
       "      <td>POLYGON ((-103.32357 20.76827, -103.32865 20.7...</td>\n",
       "      <td>8</td>\n",
       "      <td>0.244760</td>\n",
       "      <td>0.100867</td>\n",
       "      <td>0.247440</td>\n",
       "      <td>0.368982</td>\n",
       "      <td>0.115646</td>\n",
       "      <td>0.253336</td>\n",
       "      <td>-0.002247</td>\n",
       "      <td>Guadalajara</td>\n",
       "    </tr>\n",
       "    <tr>\n",
       "      <th>1</th>\n",
       "      <td>88498c864bfffff</td>\n",
       "      <td>POLYGON ((-103.32919 20.77561, -103.33427 20.7...</td>\n",
       "      <td>8</td>\n",
       "      <td>0.269992</td>\n",
       "      <td>0.122279</td>\n",
       "      <td>0.255744</td>\n",
       "      <td>0.431332</td>\n",
       "      <td>0.113069</td>\n",
       "      <td>0.318263</td>\n",
       "      <td>-0.001899</td>\n",
       "      <td>Guadalajara</td>\n",
       "    </tr>\n",
       "  </tbody>\n",
       "</table>\n",
       "</div>"
      ],
      "text/plain": [
       "            hex_id                                           geometry  res  \\\n",
       "0  88498c8649fffff  POLYGON ((-103.32357 20.76827, -103.32865 20.7...    8   \n",
       "1  88498c864bfffff  POLYGON ((-103.32919 20.77561, -103.33427 20.7...    8   \n",
       "\n",
       "   ndvi_mean  ndvi_std  ndvi_median  ndvi_max  ndvi_min  ndvi_diff  ndvi_tend  \\\n",
       "0   0.244760  0.100867     0.247440  0.368982  0.115646   0.253336  -0.002247   \n",
       "1   0.269992  0.122279     0.255744  0.431332  0.113069   0.318263  -0.001899   \n",
       "\n",
       "          city  \n",
       "0  Guadalajara  \n",
       "1  Guadalajara  "
      ]
     },
     "execution_count": 4,
     "metadata": {},
     "output_type": "execute_result"
    }
   ],
   "source": [
    "# Downloading NDVI res 8 data\n",
    "ndvi_schema = 'raster_analysis'\n",
    "ndvi_folder = 'ndvi_analysis_hex'\n",
    "\n",
    "res = 8\n",
    "\n",
    "query = f\"SELECT * FROM {ndvi_schema}.{ndvi_folder} WHERE \\\"city\\\" LIKE \\'{city}\\' AND \\\"res\\\"={res}\"\n",
    "ndvi_res8 = aup.gdf_from_query(query, geometry_col='geometry')\n",
    "\n",
    "print(ndvi_res8.shape)\n",
    "ndvi_res8.head(2)"
   ]
  },
  {
   "cell_type": "markdown",
   "id": "1c1a1f4c-38fb-40e3-85fa-d14eee68d52a",
   "metadata": {},
   "source": [
    "## Data treatment"
   ]
  },
  {
   "cell_type": "markdown",
   "id": "a9f7b3a7-3542-4797-b01c-434e3171b68a",
   "metadata": {},
   "source": [
    "Data treatment - Creating vegetation categories"
   ]
  },
  {
   "cell_type": "code",
   "execution_count": 5,
   "id": "1cf0d65d-3f58-4475-bd97-12a221de1e52",
   "metadata": {
    "tags": []
   },
   "outputs": [
    {
     "name": "stdout",
     "output_type": "stream",
     "text": [
      "(1187, 12)\n"
     ]
    },
    {
     "data": {
      "text/html": [
       "<div>\n",
       "<style scoped>\n",
       "    .dataframe tbody tr th:only-of-type {\n",
       "        vertical-align: middle;\n",
       "    }\n",
       "\n",
       "    .dataframe tbody tr th {\n",
       "        vertical-align: top;\n",
       "    }\n",
       "\n",
       "    .dataframe thead th {\n",
       "        text-align: right;\n",
       "    }\n",
       "</style>\n",
       "<table border=\"1\" class=\"dataframe\">\n",
       "  <thead>\n",
       "    <tr style=\"text-align: right;\">\n",
       "      <th></th>\n",
       "      <th>hex_id</th>\n",
       "      <th>geometry</th>\n",
       "      <th>res</th>\n",
       "      <th>ndvi_mean</th>\n",
       "      <th>ndvi_std</th>\n",
       "      <th>ndvi_median</th>\n",
       "      <th>ndvi_max</th>\n",
       "      <th>ndvi_min</th>\n",
       "      <th>ndvi_diff</th>\n",
       "      <th>ndvi_tend</th>\n",
       "      <th>city</th>\n",
       "      <th>ndvi_median_rango</th>\n",
       "    </tr>\n",
       "  </thead>\n",
       "  <tbody>\n",
       "    <tr>\n",
       "      <th>0</th>\n",
       "      <td>88498c8649fffff</td>\n",
       "      <td>POLYGON ((-103.32357 20.76827, -103.32865 20.7...</td>\n",
       "      <td>8</td>\n",
       "      <td>0.244760</td>\n",
       "      <td>0.100867</td>\n",
       "      <td>0.247440</td>\n",
       "      <td>0.368982</td>\n",
       "      <td>0.115646</td>\n",
       "      <td>0.253336</td>\n",
       "      <td>-0.002247</td>\n",
       "      <td>Guadalajara</td>\n",
       "      <td>Mínima densidad vegetal</td>\n",
       "    </tr>\n",
       "    <tr>\n",
       "      <th>1</th>\n",
       "      <td>88498c864bfffff</td>\n",
       "      <td>POLYGON ((-103.32919 20.77561, -103.33427 20.7...</td>\n",
       "      <td>8</td>\n",
       "      <td>0.269992</td>\n",
       "      <td>0.122279</td>\n",
       "      <td>0.255744</td>\n",
       "      <td>0.431332</td>\n",
       "      <td>0.113069</td>\n",
       "      <td>0.318263</td>\n",
       "      <td>-0.001899</td>\n",
       "      <td>Guadalajara</td>\n",
       "      <td>Mínima densidad vegetal</td>\n",
       "    </tr>\n",
       "  </tbody>\n",
       "</table>\n",
       "</div>"
      ],
      "text/plain": [
       "            hex_id                                           geometry  res  \\\n",
       "0  88498c8649fffff  POLYGON ((-103.32357 20.76827, -103.32865 20.7...    8   \n",
       "1  88498c864bfffff  POLYGON ((-103.32919 20.77561, -103.33427 20.7...    8   \n",
       "\n",
       "   ndvi_mean  ndvi_std  ndvi_median  ndvi_max  ndvi_min  ndvi_diff  ndvi_tend  \\\n",
       "0   0.244760  0.100867     0.247440  0.368982  0.115646   0.253336  -0.002247   \n",
       "1   0.269992  0.122279     0.255744  0.431332  0.113069   0.318263  -0.001899   \n",
       "\n",
       "          city        ndvi_median_rango  \n",
       "0  Guadalajara  Mínima densidad vegetal  \n",
       "1  Guadalajara  Mínima densidad vegetal  "
      ]
     },
     "execution_count": 5,
     "metadata": {},
     "output_type": "execute_result"
    }
   ],
   "source": [
    "# NDVI res 8 processing\n",
    "# Creating vegetation categories\n",
    "ndvi_res8['ndvi_median_rango'] = np.nan\n",
    "ndvi_res8.loc[ndvi_res8.ndvi_median>=0.6 , 'ndvi_median_rango'] = 'Alta densidad vegetal'\n",
    "ndvi_res8.loc[(ndvi_res8.ndvi_median>=0.4 )&\n",
    "             (ndvi_res8.ndvi_median<0.6), 'ndvi_median_rango'] = 'Moderada densidad vegetal'\n",
    "ndvi_res8.loc[(ndvi_res8.ndvi_median>=0.2)&\n",
    "             (ndvi_res8.ndvi_median<0.4), 'ndvi_median_rango'] = 'Mínima densidad vegetal'\n",
    "ndvi_res8.loc[(ndvi_res8.ndvi_median>=0.1)&\n",
    "             (ndvi_res8.ndvi_median<0.2), 'ndvi_median_rango'] = 'Suelo'\n",
    "ndvi_res8.loc[(ndvi_res8.ndvi_median<0.1), 'ndvi_median_rango'] = 'Suelo artificial/Agua/Piedra'\n",
    "\n",
    "# Ordering data\n",
    "categories = ['Suelo artificial/Agua/Piedra', 'Suelo', 'Mínima densidad vegetal', 'Moderada densidad vegetal', 'Alta densidad vegetal']\n",
    "ndvi_res8['ndvi_median_rango'] = pd.Categorical(ndvi_res8['ndvi_median_rango'], categories=categories, ordered=True)\n",
    "\n",
    "# Reviewing process\n",
    "print(ndvi_res8.shape)\n",
    "ndvi_res8.head(2)"
   ]
  },
  {
   "cell_type": "markdown",
   "id": "1dbb4523-a25a-4a2f-8b11-ebae997f3f3b",
   "metadata": {
    "tags": []
   },
   "source": [
    "### Download marginalization data from ndvi geometries and merge"
   ]
  },
  {
   "cell_type": "markdown",
   "id": "30589401-9ff5-402e-a7cb-4f850ae30cd6",
   "metadata": {},
   "source": [
    "Marginalization data download"
   ]
  },
  {
   "cell_type": "code",
   "execution_count": 6,
   "id": "c5835d43-b9d9-40c5-8b57-9d7a1c1f07f8",
   "metadata": {
    "tags": []
   },
   "outputs": [
    {
     "name": "stdout",
     "output_type": "stream",
     "text": [
      "(1162, 17)\n"
     ]
    },
    {
     "data": {
      "text/html": [
       "<div>\n",
       "<style scoped>\n",
       "    .dataframe tbody tr th:only-of-type {\n",
       "        vertical-align: middle;\n",
       "    }\n",
       "\n",
       "    .dataframe tbody tr th {\n",
       "        vertical-align: top;\n",
       "    }\n",
       "\n",
       "    .dataframe thead th {\n",
       "        text-align: right;\n",
       "    }\n",
       "</style>\n",
       "<table border=\"1\" class=\"dataframe\">\n",
       "  <thead>\n",
       "    <tr style=\"text-align: right;\">\n",
       "      <th></th>\n",
       "      <th>geometry</th>\n",
       "      <th>hex_id_8</th>\n",
       "      <th>CVEGEO</th>\n",
       "      <th>pobtot</th>\n",
       "      <th>p6a14nae</th>\n",
       "      <th>sbasc</th>\n",
       "      <th>psdss</th>\n",
       "      <th>ovsde</th>\n",
       "      <th>ovsee</th>\n",
       "      <th>ovsae</th>\n",
       "      <th>ovpt</th>\n",
       "      <th>ovsref</th>\n",
       "      <th>ovsint</th>\n",
       "      <th>ovscel</th>\n",
       "      <th>ovhac</th>\n",
       "      <th>im_2020</th>\n",
       "      <th>imn_2020</th>\n",
       "    </tr>\n",
       "  </thead>\n",
       "  <tbody>\n",
       "    <tr>\n",
       "      <th>0</th>\n",
       "      <td>POLYGON ((-103.61319 20.42802, -103.61772 20.4...</td>\n",
       "      <td>8849abc9ebfffff</td>\n",
       "      <td>14002</td>\n",
       "      <td>273.168550</td>\n",
       "      <td>0.474944</td>\n",
       "      <td>2.828432</td>\n",
       "      <td>1.787101</td>\n",
       "      <td>0.1098</td>\n",
       "      <td>0.008903</td>\n",
       "      <td>0.115735</td>\n",
       "      <td>0.029676</td>\n",
       "      <td>0.697379</td>\n",
       "      <td>4.282201</td>\n",
       "      <td>0.593514</td>\n",
       "      <td>2.756871</td>\n",
       "      <td>120.556725</td>\n",
       "      <td>0.941744</td>\n",
       "    </tr>\n",
       "    <tr>\n",
       "      <th>1</th>\n",
       "      <td>POLYGON ((-103.61374 20.43321, -103.61319 20.4...</td>\n",
       "      <td>8849abc9e3fffff</td>\n",
       "      <td>14002</td>\n",
       "      <td>89.333336</td>\n",
       "      <td>1.282051</td>\n",
       "      <td>7.092198</td>\n",
       "      <td>7.960199</td>\n",
       "      <td>0.0000</td>\n",
       "      <td>0.000000</td>\n",
       "      <td>0.621891</td>\n",
       "      <td>0.000000</td>\n",
       "      <td>1.492537</td>\n",
       "      <td>15.049751</td>\n",
       "      <td>0.373134</td>\n",
       "      <td>8.333333</td>\n",
       "      <td>122.339516</td>\n",
       "      <td>0.955670</td>\n",
       "    </tr>\n",
       "  </tbody>\n",
       "</table>\n",
       "</div>"
      ],
      "text/plain": [
       "                                            geometry         hex_id_8 CVEGEO  \\\n",
       "0  POLYGON ((-103.61319 20.42802, -103.61772 20.4...  8849abc9ebfffff  14002   \n",
       "1  POLYGON ((-103.61374 20.43321, -103.61319 20.4...  8849abc9e3fffff  14002   \n",
       "\n",
       "       pobtot  p6a14nae     sbasc     psdss   ovsde     ovsee     ovsae  \\\n",
       "0  273.168550  0.474944  2.828432  1.787101  0.1098  0.008903  0.115735   \n",
       "1   89.333336  1.282051  7.092198  7.960199  0.0000  0.000000  0.621891   \n",
       "\n",
       "       ovpt    ovsref     ovsint    ovscel     ovhac     im_2020  imn_2020  \n",
       "0  0.029676  0.697379   4.282201  0.593514  2.756871  120.556725  0.941744  \n",
       "1  0.000000  1.492537  15.049751  0.373134  8.333333  122.339516  0.955670  "
      ]
     },
     "execution_count": 6,
     "metadata": {},
     "output_type": "execute_result"
    }
   ],
   "source": [
    "# Finds hex_id codes from ndvi data\n",
    "hex_ids = str(tuple(list(ndvi_res8[\"hex_id\"].unique())))\n",
    "\n",
    "# Location of hexagons with marginalization data\n",
    "marg_schema = 'censo'\n",
    "marg_folder = 'hex_bins_marg_2020'\n",
    "\n",
    "query = f\"SELECT * FROM {marg_schema}.{marg_folder} WHERE \\\"hex_id_8\\\" IN {hex_ids}\"\n",
    "marg_res8 = aup.gdf_from_query(query, geometry_col='geometry')\n",
    "\n",
    "print(marg_res8.shape)\n",
    "marg_res8.head(2)"
   ]
  },
  {
   "cell_type": "markdown",
   "id": "091339e2-a2b0-44e7-978d-fbf67005599a",
   "metadata": {},
   "source": [
    "Marginalization data treatment"
   ]
  },
  {
   "cell_type": "code",
   "execution_count": 7,
   "id": "728a5f66-62d9-4f02-b9de-c964cdf94964",
   "metadata": {
    "tags": []
   },
   "outputs": [
    {
     "name": "stdout",
     "output_type": "stream",
     "text": [
      "(1162, 18)\n"
     ]
    },
    {
     "data": {
      "text/html": [
       "<div>\n",
       "<style scoped>\n",
       "    .dataframe tbody tr th:only-of-type {\n",
       "        vertical-align: middle;\n",
       "    }\n",
       "\n",
       "    .dataframe tbody tr th {\n",
       "        vertical-align: top;\n",
       "    }\n",
       "\n",
       "    .dataframe thead th {\n",
       "        text-align: right;\n",
       "    }\n",
       "</style>\n",
       "<table border=\"1\" class=\"dataframe\">\n",
       "  <thead>\n",
       "    <tr style=\"text-align: right;\">\n",
       "      <th></th>\n",
       "      <th>geometry</th>\n",
       "      <th>hex_id_8</th>\n",
       "      <th>CVEGEO</th>\n",
       "      <th>pobtot</th>\n",
       "      <th>p6a14nae</th>\n",
       "      <th>sbasc</th>\n",
       "      <th>psdss</th>\n",
       "      <th>ovsde</th>\n",
       "      <th>ovsee</th>\n",
       "      <th>ovsae</th>\n",
       "      <th>ovpt</th>\n",
       "      <th>ovsref</th>\n",
       "      <th>ovsint</th>\n",
       "      <th>ovscel</th>\n",
       "      <th>ovhac</th>\n",
       "      <th>im_2020</th>\n",
       "      <th>imn_2020</th>\n",
       "      <th>Grado_Marg</th>\n",
       "    </tr>\n",
       "  </thead>\n",
       "  <tbody>\n",
       "    <tr>\n",
       "      <th>0</th>\n",
       "      <td>POLYGON ((-103.61319 20.42802, -103.61772 20.4...</td>\n",
       "      <td>8849abc9ebfffff</td>\n",
       "      <td>14002</td>\n",
       "      <td>273.168550</td>\n",
       "      <td>0.474944</td>\n",
       "      <td>2.828432</td>\n",
       "      <td>1.787101</td>\n",
       "      <td>0.1098</td>\n",
       "      <td>0.008903</td>\n",
       "      <td>0.115735</td>\n",
       "      <td>0.029676</td>\n",
       "      <td>0.697379</td>\n",
       "      <td>4.282201</td>\n",
       "      <td>0.593514</td>\n",
       "      <td>2.756871</td>\n",
       "      <td>120.556725</td>\n",
       "      <td>0.941744</td>\n",
       "      <td>Medio</td>\n",
       "    </tr>\n",
       "    <tr>\n",
       "      <th>1</th>\n",
       "      <td>POLYGON ((-103.61374 20.43321, -103.61319 20.4...</td>\n",
       "      <td>8849abc9e3fffff</td>\n",
       "      <td>14002</td>\n",
       "      <td>89.333336</td>\n",
       "      <td>1.282051</td>\n",
       "      <td>7.092198</td>\n",
       "      <td>7.960199</td>\n",
       "      <td>0.0000</td>\n",
       "      <td>0.000000</td>\n",
       "      <td>0.621891</td>\n",
       "      <td>0.000000</td>\n",
       "      <td>1.492537</td>\n",
       "      <td>15.049751</td>\n",
       "      <td>0.373134</td>\n",
       "      <td>8.333333</td>\n",
       "      <td>122.339516</td>\n",
       "      <td>0.955670</td>\n",
       "      <td>Bajo</td>\n",
       "    </tr>\n",
       "  </tbody>\n",
       "</table>\n",
       "</div>"
      ],
      "text/plain": [
       "                                            geometry         hex_id_8 CVEGEO  \\\n",
       "0  POLYGON ((-103.61319 20.42802, -103.61772 20.4...  8849abc9ebfffff  14002   \n",
       "1  POLYGON ((-103.61374 20.43321, -103.61319 20.4...  8849abc9e3fffff  14002   \n",
       "\n",
       "       pobtot  p6a14nae     sbasc     psdss   ovsde     ovsee     ovsae  \\\n",
       "0  273.168550  0.474944  2.828432  1.787101  0.1098  0.008903  0.115735   \n",
       "1   89.333336  1.282051  7.092198  7.960199  0.0000  0.000000  0.621891   \n",
       "\n",
       "       ovpt    ovsref     ovsint    ovscel     ovhac     im_2020  imn_2020  \\\n",
       "0  0.029676  0.697379   4.282201  0.593514  2.756871  120.556725  0.941744   \n",
       "1  0.000000  1.492537  15.049751  0.373134  8.333333  122.339516  0.955670   \n",
       "\n",
       "  Grado_Marg  \n",
       "0      Medio  \n",
       "1       Bajo  "
      ]
     },
     "execution_count": 7,
     "metadata": {},
     "output_type": "execute_result"
    }
   ],
   "source": [
    "#Creating marginalization categories\n",
    "marg_res8['Grado_Marg'] = np.nan\n",
    "marg_res8.loc[marg_res8.imn_2020>=0.966338 , 'Grado_Marg'] = 'Muy bajo'\n",
    "marg_res8.loc[(marg_res8.imn_2020>=0.946436 )&\n",
    "             (marg_res8.imn_2020<0.966338), 'Grado_Marg'] = 'Bajo'\n",
    "marg_res8.loc[(marg_res8.imn_2020>=0.926536)&\n",
    "             (marg_res8.imn_2020<0.946436), 'Grado_Marg'] = 'Medio'\n",
    "marg_res8.loc[(marg_res8.imn_2020>=0.8999)&\n",
    "             (marg_res8.imn_2020<0.926536), 'Grado_Marg'] = 'Alto'\n",
    "marg_res8.loc[(marg_res8.imn_2020<0.8999), 'Grado_Marg'] = 'Muy Alto'\n",
    "\n",
    "#Ordening data\n",
    "categories = ['Muy Alto', 'Alto', 'Medio', 'Bajo', 'Muy bajo']\n",
    "marg_res8['Grado_Marg'] = pd.Categorical(marg_res8['Grado_Marg'], categories=categories, ordered=True)\n",
    "\n",
    "#Reviewing process\n",
    "print(marg_res8.shape)\n",
    "marg_res8.head(2)"
   ]
  },
  {
   "cell_type": "markdown",
   "id": "33eab8ae-9500-452e-8682-cbfe373b16d2",
   "metadata": {},
   "source": [
    "NDVI + marg merge"
   ]
  },
  {
   "cell_type": "code",
   "execution_count": 8,
   "id": "210e0d31-7598-44e0-acf5-8cde119e7e40",
   "metadata": {
    "tags": []
   },
   "outputs": [
    {
     "name": "stdout",
     "output_type": "stream",
     "text": [
      "(1162, 16)\n"
     ]
    },
    {
     "data": {
      "text/html": [
       "<div>\n",
       "<style scoped>\n",
       "    .dataframe tbody tr th:only-of-type {\n",
       "        vertical-align: middle;\n",
       "    }\n",
       "\n",
       "    .dataframe tbody tr th {\n",
       "        vertical-align: top;\n",
       "    }\n",
       "\n",
       "    .dataframe thead th {\n",
       "        text-align: right;\n",
       "    }\n",
       "</style>\n",
       "<table border=\"1\" class=\"dataframe\">\n",
       "  <thead>\n",
       "    <tr style=\"text-align: right;\">\n",
       "      <th></th>\n",
       "      <th>hex_id</th>\n",
       "      <th>geometry</th>\n",
       "      <th>res</th>\n",
       "      <th>ndvi_mean</th>\n",
       "      <th>ndvi_std</th>\n",
       "      <th>ndvi_median</th>\n",
       "      <th>ndvi_max</th>\n",
       "      <th>ndvi_min</th>\n",
       "      <th>ndvi_diff</th>\n",
       "      <th>ndvi_tend</th>\n",
       "      <th>city</th>\n",
       "      <th>ndvi_median_rango</th>\n",
       "      <th>pobtot</th>\n",
       "      <th>im_2020</th>\n",
       "      <th>imn_2020</th>\n",
       "      <th>Grado_Marg</th>\n",
       "    </tr>\n",
       "  </thead>\n",
       "  <tbody>\n",
       "    <tr>\n",
       "      <th>0</th>\n",
       "      <td>88498c8649fffff</td>\n",
       "      <td>POLYGON ((-103.32357 20.76827, -103.32865 20.7...</td>\n",
       "      <td>8</td>\n",
       "      <td>0.244760</td>\n",
       "      <td>0.100867</td>\n",
       "      <td>0.247440</td>\n",
       "      <td>0.368982</td>\n",
       "      <td>0.115646</td>\n",
       "      <td>0.253336</td>\n",
       "      <td>-0.002247</td>\n",
       "      <td>Guadalajara</td>\n",
       "      <td>Mínima densidad vegetal</td>\n",
       "      <td>4877.1390</td>\n",
       "      <td>118.322241</td>\n",
       "      <td>0.924289</td>\n",
       "      <td>Alto</td>\n",
       "    </tr>\n",
       "    <tr>\n",
       "      <th>1</th>\n",
       "      <td>88498c864bfffff</td>\n",
       "      <td>POLYGON ((-103.32919 20.77561, -103.33427 20.7...</td>\n",
       "      <td>8</td>\n",
       "      <td>0.269992</td>\n",
       "      <td>0.122279</td>\n",
       "      <td>0.255744</td>\n",
       "      <td>0.431332</td>\n",
       "      <td>0.113069</td>\n",
       "      <td>0.318263</td>\n",
       "      <td>-0.001899</td>\n",
       "      <td>Guadalajara</td>\n",
       "      <td>Mínima densidad vegetal</td>\n",
       "      <td>877.6089</td>\n",
       "      <td>116.994720</td>\n",
       "      <td>0.913919</td>\n",
       "      <td>Alto</td>\n",
       "    </tr>\n",
       "  </tbody>\n",
       "</table>\n",
       "</div>"
      ],
      "text/plain": [
       "            hex_id                                           geometry  res  \\\n",
       "0  88498c8649fffff  POLYGON ((-103.32357 20.76827, -103.32865 20.7...    8   \n",
       "1  88498c864bfffff  POLYGON ((-103.32919 20.77561, -103.33427 20.7...    8   \n",
       "\n",
       "   ndvi_mean  ndvi_std  ndvi_median  ndvi_max  ndvi_min  ndvi_diff  ndvi_tend  \\\n",
       "0   0.244760  0.100867     0.247440  0.368982  0.115646   0.253336  -0.002247   \n",
       "1   0.269992  0.122279     0.255744  0.431332  0.113069   0.318263  -0.001899   \n",
       "\n",
       "          city        ndvi_median_rango     pobtot     im_2020  imn_2020  \\\n",
       "0  Guadalajara  Mínima densidad vegetal  4877.1390  118.322241  0.924289   \n",
       "1  Guadalajara  Mínima densidad vegetal   877.6089  116.994720  0.913919   \n",
       "\n",
       "  Grado_Marg  \n",
       "0       Alto  \n",
       "1       Alto  "
      ]
     },
     "execution_count": 8,
     "metadata": {},
     "output_type": "execute_result"
    }
   ],
   "source": [
    "columns_tokeep = ['hex_id_8','pobtot','im_2020','imn_2020','Grado_Marg']\n",
    "marg_res8_clean = marg_res8[columns_tokeep]\n",
    "ndvi_marg = ndvi_res8.merge(marg_res8_clean, left_on='hex_id', right_on='hex_id_8')\n",
    "ndvi_marg = ndvi_marg.drop(columns=['hex_id_8'])\n",
    "\n",
    "#Reviewing process\n",
    "print(ndvi_marg.shape)\n",
    "ndvi_marg.head(2)"
   ]
  },
  {
   "cell_type": "code",
   "execution_count": 9,
   "id": "81bd2fc4-4f5a-4d59-983f-fe849825613a",
   "metadata": {
    "tags": []
   },
   "outputs": [
    {
     "name": "stdout",
     "output_type": "stream",
     "text": [
      "(1162, 16)\n"
     ]
    }
   ],
   "source": [
    "#Export to csv\n",
    "if csv_dataset:\n",
    "    csv_raster_dataset = ndvi_marg.copy()\n",
    "    #Show dataframe\n",
    "    print(csv_raster_dataset.shape)\n",
    "    csv_raster_dataset.head(2)\n",
    "    #Download dataframe\n",
    "    csv_raster_dataset.to_csv(\"../../../data/external/ndvi_marg_{}\".format(city.lower()))"
   ]
  },
  {
   "cell_type": "code",
   "execution_count": 10,
   "id": "26a0acf7-1396-4e9f-9cc9-037974f443d3",
   "metadata": {
    "tags": []
   },
   "outputs": [
    {
     "ename": "NameError",
     "evalue": "name 'ndvi_ndmi_marg' is not defined",
     "output_type": "error",
     "traceback": [
      "\u001b[0;31m---------------------------------------------------------------------------\u001b[0m",
      "\u001b[0;31mNameError\u001b[0m                                 Traceback (most recent call last)",
      "Cell \u001b[0;32mIn[10], line 1\u001b[0m\n\u001b[0;32m----> 1\u001b[0m ndvi_ndmi_marg \u001b[38;5;241m=\u001b[39m \u001b[43mndvi_ndmi_marg\u001b[49m\u001b[38;5;241m.\u001b[39msort_values(\u001b[38;5;124m'\u001b[39m\u001b[38;5;124mGrado_Marg\u001b[39m\u001b[38;5;124m'\u001b[39m)\n\u001b[1;32m      2\u001b[0m ndvi_ndmi_marg\u001b[38;5;241m.\u001b[39mloc[ndvi_ndmi_marg\u001b[38;5;241m.\u001b[39mGrado_Marg\u001b[38;5;241m.\u001b[39misna()]\n",
      "\u001b[0;31mNameError\u001b[0m: name 'ndvi_ndmi_marg' is not defined"
     ]
    }
   ],
   "source": [
    "ndvi_ndmi_marg = ndvi_ndmi_marg.sort_values('Grado_Marg')\n",
    "ndvi_ndmi_marg.loc[ndvi_ndmi_marg.Grado_Marg.isna()]"
   ]
  },
  {
   "cell_type": "code",
   "execution_count": null,
   "id": "e71ff703-d12a-410f-ba00-ddba9dd81a49",
   "metadata": {
    "tags": []
   },
   "outputs": [],
   "source": [
    "fig, ax = plt.subplots(figsize=(10,10))\n",
    "\n",
    "sns.boxplot(x=np.array(ndvi_ndmi_marg.Grado_Marg) , y=np.array(ndvi_ndmi_marg.ndmi_diff), ax=ax)\n",
    "\n",
    "plt.title('Relación entre grado de marginación y ndmi_diff en {}.'.format(city))\n",
    "plt.xlabel('Grado de marginación')\n",
    "plt.ylabel('ndmi_diff')\n",
    "\n",
    "# ------------------------------------------- Add number of hex per marginalization group -------------------------------------------\n",
    "\n",
    "#Calculate median of each Marginalization group to position number of observations\n",
    "maxs = ndvi_ndmi_marg.groupby(['Grado_Marg'])['ndmi_diff'].max()\n",
    "num_maxs = maxs.values\n",
    "#Drop NaNs\n",
    "num_maxs = num_maxs[~np.isnan(num_maxs)]\n",
    "\n",
    "# Calculate number of observations per group\n",
    "obs = ndvi_ndmi_marg['Grado_Marg'].value_counts()\n",
    "obs = obs.reset_index()\n",
    "obs = obs.sort_values('index')\n",
    "print(obs)\n",
    "#Drop Ceros by turning them to nans\n",
    "obs = obs['Grado_Marg'].apply(lambda x: np.nan if x==0 else x)\n",
    "obs = obs[~np.isnan(obs)]\n",
    "\n",
    "num_obs = obs.values\n",
    "num_obs = [str(x) for x in num_obs.tolist()]\n",
    "num_obs = [\"n: \" + i for i in num_obs]\n",
    "\n",
    "# Add it to the plot\n",
    "pos = range(len(num_obs))\n",
    "for tick,label in zip(pos,ax.get_xticklabels()):\n",
    "    #ax.text(x,y,text)\n",
    "    ax.text(pos[tick],\n",
    "            num_maxs[tick] + 0.005,\n",
    "            num_obs[tick],\n",
    "            horizontalalignment='center',\n",
    "            size='x-small',\n",
    "            color='black')\n",
    "# ------------------------------------------- ------------------------------------------- -------------------------------------------\n",
    "\n",
    "#Para plotear figuras quitar # \n",
    "#plt.savefig(\"../../../output/figures/ndvi_ndmi_marg_bycity/{}/ndmidiff_marg_boxplot_{}.svg\".format(city.lower(),city.lower()))"
   ]
  },
  {
   "cell_type": "markdown",
   "id": "86200ca7-d072-48d5-b5ec-3bf02238b1b7",
   "metadata": {},
   "source": [
    "Data download - NDVI"
   ]
  },
  {
   "cell_type": "code",
   "execution_count": null,
   "id": "cd97cdba-2cda-4304-8f81-7e110d571c03",
   "metadata": {
    "tags": []
   },
   "outputs": [],
   "source": [
    "# Downloading NDVI res 10 data\n",
    "ndvi_schema = 'raster_analysis'\n",
    "ndvi_folder = 'ndvi_analysis_hex'\n",
    "\n",
    "res = 10\n",
    "\n",
    "query = f\"SELECT * FROM {ndvi_schema}.{ndvi_folder} WHERE \\\"city\\\" LIKE \\'{city}\\' AND \\\"res\\\"={res}\"\n",
    "ndvi_res10 = aup.gdf_from_query(query, geometry_col='geometry')\n",
    "\n",
    "print(ndvi_res10.shape)\n",
    "ndvi_res10.head(2)"
   ]
  },
  {
   "cell_type": "markdown",
   "id": "1c9e6420-e597-45f7-bfbd-bc114954ebf6",
   "metadata": {},
   "source": [
    "Data download - NDMI"
   ]
  },
  {
   "cell_type": "code",
   "execution_count": null,
   "id": "f379b32f-5b0e-41ae-bf7e-c91bdef4b424",
   "metadata": {
    "tags": []
   },
   "outputs": [],
   "source": [
    "# Downloading NDMI res 10 data\n",
    "ndmi_schema = 'raster_analysis'\n",
    "ndmi_folder = 'ndmi_analysis_hex'\n",
    "\n",
    "res = 10\n",
    "\n",
    "query = f\"SELECT * FROM {ndmi_schema}.{ndmi_folder} WHERE \\\"city\\\" LIKE \\'{city}\\' AND \\\"res\\\"={res}\"\n",
    "ndmi_res10 = aup.gdf_from_query(query, geometry_col='geometry')\n",
    "\n",
    "print(ndmi_res10.shape)\n",
    "ndmi_res10.head(2)"
   ]
  },
  {
   "cell_type": "markdown",
   "id": "6cc791f8-6bb8-4eeb-8ae3-2cc92e28f291",
   "metadata": {
    "tags": []
   },
   "source": [
    "Data treatment - Creating vegetation categories"
   ]
  },
  {
   "cell_type": "code",
   "execution_count": null,
   "id": "1c8528eb-e3ac-49e8-830c-8e71cb905d7b",
   "metadata": {
    "tags": []
   },
   "outputs": [],
   "source": [
    "# NDVI res 10 processing\n",
    "# Creating vegetation categories\n",
    "ndvi_res10['ndvi_median_rango'] = np.nan\n",
    "ndvi_res10.loc[ndvi_res10.ndvi_median>=0.6 , 'ndvi_median_rango'] = 'Alta densidad vegetal'\n",
    "ndvi_res10.loc[(ndvi_res10.ndvi_median>=0.4 )&\n",
    "             (ndvi_res10.ndvi_median<0.6), 'ndvi_median_rango'] = 'Moderada densidad vegetal'\n",
    "ndvi_res10.loc[(ndvi_res10.ndvi_median>=0.2)&\n",
    "             (ndvi_res10.ndvi_median<0.4), 'ndvi_median_rango'] = 'Mínima densidad vegetal'\n",
    "ndvi_res10.loc[(ndvi_res10.ndvi_median>=0.1)&\n",
    "             (ndvi_res10.ndvi_median<0.2), 'ndvi_median_rango'] = 'Suelo'\n",
    "ndvi_res10.loc[(ndvi_res10.ndvi_median<0.1), 'ndvi_median_rango'] = 'Suelo artificial/Agua/Piedra'\n",
    "\n",
    "# Ordering data\n",
    "categories = ['Suelo artificial/Agua/Piedra', 'Suelo', 'Mínima densidad vegetal', 'Moderada densidad vegetal', 'Alta densidad vegetal']\n",
    "ndvi_res10['ndvi_median_rango'] = pd.Categorical(ndvi_res10['ndvi_median_rango'], categories=categories, ordered=True)\n",
    "\n",
    "# Reviewing process\n",
    "print(ndvi_res10.shape)\n",
    "ndvi_res10.head(2)"
   ]
  },
  {
   "cell_type": "markdown",
   "id": "489f92cb-ea30-45af-8153-b2901cc31306",
   "metadata": {},
   "source": [
    "Data treatment - NDVI filtering for places with vegetation"
   ]
  },
  {
   "cell_type": "code",
   "execution_count": null,
   "id": "a124c611-cbf1-4fa8-b66f-c7ba3334175d",
   "metadata": {
    "tags": []
   },
   "outputs": [],
   "source": [
    "#Keeping High-moderate-minimal vegetation density\n",
    "ndvi_withveg_res10 = ndvi_res10.loc[(ndvi_res10.ndvi_median_rango == 'Alta densidad vegetal') |\n",
    "                   (ndvi_res10.ndvi_median_rango == 'Moderada densidad vegetal')|\n",
    "                   (ndvi_res10.ndvi_median_rango == 'Mínima densidad vegetal')]\n",
    "\n",
    "#Reviewing process\n",
    "print(ndvi_withveg_res10.shape)\n",
    "ndvi_withveg_res10.head(2)"
   ]
  },
  {
   "cell_type": "markdown",
   "id": "c5c937ba-e18f-4644-8506-cfe86c5cc241",
   "metadata": {},
   "source": [
    "Data treatment - Merging NDVI and NDMI"
   ]
  },
  {
   "cell_type": "code",
   "execution_count": null,
   "id": "c071022d-ffb3-4e8b-b37b-ccdc5b2d0a30",
   "metadata": {
    "tags": []
   },
   "outputs": [],
   "source": [
    "ndmi_res10_clean = ndmi_res10.drop(columns=['geometry','res','city'])\n",
    "ndvi_ndmi_res10 = ndvi_withveg_res10.merge(ndmi_res10_clean, left_on='hex_id', right_on='hex_id')\n",
    "\n",
    "#Reviewing process\n",
    "print(ndvi_ndmi_res10.shape)\n",
    "ndvi_ndmi_res10.head(2)"
   ]
  },
  {
   "cell_type": "code",
   "execution_count": null,
   "id": "e7dd4791-0dbb-4b21-a629-c254496da8e7",
   "metadata": {
    "tags": []
   },
   "outputs": [],
   "source": [
    "fig, ax = plt.subplots(1,2,figsize=(12,6))\n",
    "\n",
    "ndvi_ndmi_res10.plot('ndmi_diff', 'viridis', ax=ax[0], legend=True)\n",
    "ndvi_res10.plot('ndvi_median_rango', 'YlGn', ax=ax[1], legend=True)\n",
    "\n",
    "ax[0].set_title('ndmi_diff en {} (res 10).'.format(city))\n",
    "ax[1].set_title('Índice de vegetación en {} (res {}).'.format(city,res))\n",
    "\n",
    "# Guardar gráficos\n",
    "plt.savefig(\"../../../output/figures/ndvi_ndmi_marg_bycity/{}/ndmidiff_{}.svg\".format(city.lower(),city.lower()))"
   ]
  },
  {
   "cell_type": "code",
   "execution_count": null,
   "id": "c6f8e8d6-4f89-4af8-a460-d1ef9f53bed4",
   "metadata": {},
   "outputs": [],
   "source": []
  }
 ],
 "metadata": {
  "kernelspec": {
   "display_name": "Python 3 (ipykernel)",
   "language": "python",
   "name": "python3"
  },
  "language_info": {
   "codemirror_mode": {
    "name": "ipython",
    "version": 3
   },
   "file_extension": ".py",
   "mimetype": "text/x-python",
   "name": "python",
   "nbconvert_exporter": "python",
   "pygments_lexer": "ipython3",
   "version": "3.10.5"
  }
 },
 "nbformat": 4,
 "nbformat_minor": 5
}
