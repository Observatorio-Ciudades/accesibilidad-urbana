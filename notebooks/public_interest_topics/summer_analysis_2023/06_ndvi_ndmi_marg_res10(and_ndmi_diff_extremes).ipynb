{
 "cells": [
  {
   "cell_type": "markdown",
   "id": "7a10b0a8-5c95-41d2-9c2f-c926671d9ea2",
   "metadata": {
    "tags": []
   },
   "source": [
    "# Summer analysis 2023: ndvi+ndmi+marginalization res 10"
   ]
  },
  {
   "cell_type": "markdown",
   "id": "8458fa4f-ba2d-4a96-80d6-91513b68f429",
   "metadata": {},
   "source": [
    "This notebook joins ndvi (res10), ndmi (res10) and marginalization (res8 to res10 through centroids) and creates categories for NDVI and marg in order to create the following analysis:\n",
    "\n",
    "Analysis 1: Average min, mean, max data by marginalization group\n",
    "Min, mean and max ndvi and ndmi is calculated by marginalization group.\n",
    "\n",
    "Analisis 2: Zones that may recieve irrigation within urban spaces and its relation with marginalization\n",
    "Places without vegetation are discarted. (ndvi without locations with water, marshy surfaces, artificial structures, rocks adn clouds)\n",
    "10% max and 10% min ndmi_diff are located, ploted and exported to csv."
   ]
  },
  {
   "cell_type": "markdown",
   "id": "aa17cf37-5805-4ba7-80af-34afacb56007",
   "metadata": {},
   "source": [
    "## Import libraries"
   ]
  },
  {
   "cell_type": "code",
   "execution_count": 1,
   "id": "e8916b06-4acb-48f5-99cf-dbbecb84ecdb",
   "metadata": {
    "tags": []
   },
   "outputs": [
    {
     "name": "stderr",
     "output_type": "stream",
     "text": [
      "/usr/local/python/lib/python3.10/site-packages/osmnx/utils.py:192: UserWarning: The `utils.config` function is deprecated and will be removed in a future release. Instead, use the `settings` module directly to configure a global setting's value. For example, `ox.settings.log_console=True`.\n",
      "  warnings.warn(\n"
     ]
    }
   ],
   "source": [
    "import os\n",
    "import sys\n",
    "\n",
    "import pandas as pd\n",
    "import geopandas as gpd\n",
    "import numpy as np\n",
    "\n",
    "import matplotlib.pyplot as plt\n",
    "import seaborn as sns\n",
    "\n",
    "from pandas.api.types import CategoricalDtype\n",
    "\n",
    "import warnings\n",
    "warnings.simplefilter(action='ignore', category=FutureWarning)\n",
    "\n",
    "module_path = os.path.abspath(os.path.join('../../../'))\n",
    "if module_path not in sys.path:\n",
    "    sys.path.append(module_path)\n",
    "    import aup"
   ]
  },
  {
   "cell_type": "code",
   "execution_count": 3,
   "id": "e4827719-2440-46db-b6c7-521ba90a5543",
   "metadata": {
    "tags": []
   },
   "outputs": [],
   "source": [
    "city = 'Monterrey'"
   ]
  },
  {
   "cell_type": "code",
   "execution_count": 56,
   "id": "90fc2d13-8658-4a78-949e-2470362932a4",
   "metadata": {
    "tags": []
   },
   "outputs": [],
   "source": [
    "csv_dataset = True\n",
    "save_plots = False"
   ]
  },
  {
   "cell_type": "markdown",
   "id": "f353dd6b-97fa-4de4-8fee-e0384aaf09ee",
   "metadata": {},
   "source": [
    "## Data download"
   ]
  },
  {
   "cell_type": "markdown",
   "id": "4d86e5a5-671b-4d63-b6c8-8a2c55c0135c",
   "metadata": {
    "tags": []
   },
   "source": [
    "Data download - NDVI"
   ]
  },
  {
   "cell_type": "code",
   "execution_count": 5,
   "id": "ce94ea5a-8927-455d-8142-344e21ebadd0",
   "metadata": {
    "tags": []
   },
   "outputs": [
    {
     "name": "stdout",
     "output_type": "stream",
     "text": [
      "(75705, 11)\n"
     ]
    },
    {
     "data": {
      "text/html": [
       "<div>\n",
       "<style scoped>\n",
       "    .dataframe tbody tr th:only-of-type {\n",
       "        vertical-align: middle;\n",
       "    }\n",
       "\n",
       "    .dataframe tbody tr th {\n",
       "        vertical-align: top;\n",
       "    }\n",
       "\n",
       "    .dataframe thead th {\n",
       "        text-align: right;\n",
       "    }\n",
       "</style>\n",
       "<table border=\"1\" class=\"dataframe\">\n",
       "  <thead>\n",
       "    <tr style=\"text-align: right;\">\n",
       "      <th></th>\n",
       "      <th>hex_id</th>\n",
       "      <th>geometry</th>\n",
       "      <th>res</th>\n",
       "      <th>ndvi_mean</th>\n",
       "      <th>ndvi_std</th>\n",
       "      <th>ndvi_median</th>\n",
       "      <th>ndvi_max</th>\n",
       "      <th>ndvi_min</th>\n",
       "      <th>ndvi_diff</th>\n",
       "      <th>ndvi_tend</th>\n",
       "      <th>city</th>\n",
       "    </tr>\n",
       "  </thead>\n",
       "  <tbody>\n",
       "    <tr>\n",
       "      <th>0</th>\n",
       "      <td>8a48a20e121ffff</td>\n",
       "      <td>POLYGON ((-100.25434 25.75376, -100.25366 25.7...</td>\n",
       "      <td>10</td>\n",
       "      <td>0.097768</td>\n",
       "      <td>0.048954</td>\n",
       "      <td>0.093641</td>\n",
       "      <td>0.160109</td>\n",
       "      <td>0.021698</td>\n",
       "      <td>0.138411</td>\n",
       "      <td>-0.001268</td>\n",
       "      <td>Monterrey</td>\n",
       "    </tr>\n",
       "    <tr>\n",
       "      <th>1</th>\n",
       "      <td>8a48a20e596ffff</td>\n",
       "      <td>POLYGON ((-100.26159 25.71180, -100.26091 25.7...</td>\n",
       "      <td>10</td>\n",
       "      <td>0.054997</td>\n",
       "      <td>0.031887</td>\n",
       "      <td>0.054372</td>\n",
       "      <td>0.088824</td>\n",
       "      <td>-0.003849</td>\n",
       "      <td>0.092673</td>\n",
       "      <td>-0.000919</td>\n",
       "      <td>Monterrey</td>\n",
       "    </tr>\n",
       "  </tbody>\n",
       "</table>\n",
       "</div>"
      ],
      "text/plain": [
       "            hex_id                                           geometry  res  \\\n",
       "0  8a48a20e121ffff  POLYGON ((-100.25434 25.75376, -100.25366 25.7...   10   \n",
       "1  8a48a20e596ffff  POLYGON ((-100.26159 25.71180, -100.26091 25.7...   10   \n",
       "\n",
       "   ndvi_mean  ndvi_std  ndvi_median  ndvi_max  ndvi_min  ndvi_diff  ndvi_tend  \\\n",
       "0   0.097768  0.048954     0.093641  0.160109  0.021698   0.138411  -0.001268   \n",
       "1   0.054997  0.031887     0.054372  0.088824 -0.003849   0.092673  -0.000919   \n",
       "\n",
       "        city  \n",
       "0  Monterrey  \n",
       "1  Monterrey  "
      ]
     },
     "execution_count": 5,
     "metadata": {},
     "output_type": "execute_result"
    }
   ],
   "source": [
    "# Downloading NDVI res 10 data\n",
    "ndvi_schema = 'raster_analysis'\n",
    "ndvi_folder = 'ndvi_analysis_hex'\n",
    "\n",
    "res = 10\n",
    "\n",
    "query = f\"SELECT * FROM {ndvi_schema}.{ndvi_folder} WHERE \\\"city\\\" LIKE \\'{city}\\' AND \\\"res\\\"={res}\"\n",
    "ndvi_res10 = aup.gdf_from_query(query, geometry_col='geometry')\n",
    "\n",
    "print(ndvi_res10.shape)\n",
    "ndvi_res10.head(2)"
   ]
  },
  {
   "cell_type": "markdown",
   "id": "37283a3f-eb57-4da6-a50d-085979e0e770",
   "metadata": {},
   "source": [
    "Data download - NDMI"
   ]
  },
  {
   "cell_type": "code",
   "execution_count": 6,
   "id": "7e7f6344-21d0-49c8-976c-668ba03f188b",
   "metadata": {
    "tags": []
   },
   "outputs": [
    {
     "name": "stdout",
     "output_type": "stream",
     "text": [
      "(75705, 11)\n"
     ]
    },
    {
     "data": {
      "text/html": [
       "<div>\n",
       "<style scoped>\n",
       "    .dataframe tbody tr th:only-of-type {\n",
       "        vertical-align: middle;\n",
       "    }\n",
       "\n",
       "    .dataframe tbody tr th {\n",
       "        vertical-align: top;\n",
       "    }\n",
       "\n",
       "    .dataframe thead th {\n",
       "        text-align: right;\n",
       "    }\n",
       "</style>\n",
       "<table border=\"1\" class=\"dataframe\">\n",
       "  <thead>\n",
       "    <tr style=\"text-align: right;\">\n",
       "      <th></th>\n",
       "      <th>hex_id</th>\n",
       "      <th>geometry</th>\n",
       "      <th>res</th>\n",
       "      <th>ndmi_mean</th>\n",
       "      <th>ndmi_std</th>\n",
       "      <th>ndmi_median</th>\n",
       "      <th>ndmi_max</th>\n",
       "      <th>ndmi_min</th>\n",
       "      <th>ndmi_diff</th>\n",
       "      <th>ndmi_tend</th>\n",
       "      <th>city</th>\n",
       "    </tr>\n",
       "  </thead>\n",
       "  <tbody>\n",
       "    <tr>\n",
       "      <th>0</th>\n",
       "      <td>8a48a20e5857fff</td>\n",
       "      <td>POLYGON ((-100.25832 25.71538, -100.25764 25.7...</td>\n",
       "      <td>10</td>\n",
       "      <td>0.027308</td>\n",
       "      <td>0.078137</td>\n",
       "      <td>0.012566</td>\n",
       "      <td>0.176812</td>\n",
       "      <td>-0.013988</td>\n",
       "      <td>0.190801</td>\n",
       "      <td>-0.000372</td>\n",
       "      <td>Monterrey</td>\n",
       "    </tr>\n",
       "    <tr>\n",
       "      <th>1</th>\n",
       "      <td>8a48a20e136ffff</td>\n",
       "      <td>POLYGON ((-100.25983 25.75116, -100.25915 25.7...</td>\n",
       "      <td>10</td>\n",
       "      <td>-0.001140</td>\n",
       "      <td>0.080293</td>\n",
       "      <td>-0.019805</td>\n",
       "      <td>0.160764</td>\n",
       "      <td>-0.043485</td>\n",
       "      <td>0.204249</td>\n",
       "      <td>0.000001</td>\n",
       "      <td>Monterrey</td>\n",
       "    </tr>\n",
       "  </tbody>\n",
       "</table>\n",
       "</div>"
      ],
      "text/plain": [
       "            hex_id                                           geometry  res  \\\n",
       "0  8a48a20e5857fff  POLYGON ((-100.25832 25.71538, -100.25764 25.7...   10   \n",
       "1  8a48a20e136ffff  POLYGON ((-100.25983 25.75116, -100.25915 25.7...   10   \n",
       "\n",
       "   ndmi_mean  ndmi_std  ndmi_median  ndmi_max  ndmi_min  ndmi_diff  ndmi_tend  \\\n",
       "0   0.027308  0.078137     0.012566  0.176812 -0.013988   0.190801  -0.000372   \n",
       "1  -0.001140  0.080293    -0.019805  0.160764 -0.043485   0.204249   0.000001   \n",
       "\n",
       "        city  \n",
       "0  Monterrey  \n",
       "1  Monterrey  "
      ]
     },
     "execution_count": 6,
     "metadata": {},
     "output_type": "execute_result"
    }
   ],
   "source": [
    "# Downloading NDMI res 10 data\n",
    "ndmi_schema = 'raster_analysis'\n",
    "ndmi_folder = 'ndmi_analysis_hex'\n",
    "\n",
    "res = 10\n",
    "\n",
    "query = f\"SELECT * FROM {ndmi_schema}.{ndmi_folder} WHERE \\\"city\\\" LIKE \\'{city}\\' AND \\\"res\\\"={res}\"\n",
    "ndmi_res10 = aup.gdf_from_query(query, geometry_col='geometry')\n",
    "\n",
    "print(ndmi_res10.shape)\n",
    "ndmi_res10.head(2)"
   ]
  },
  {
   "cell_type": "markdown",
   "id": "53a75fa6-aed3-435c-ba69-690340cbd7cf",
   "metadata": {},
   "source": [
    "Data download - Municipalities (in order to download marginalization)"
   ]
  },
  {
   "cell_type": "code",
   "execution_count": 7,
   "id": "206c9694-d1a4-423b-937d-12b29ec0e2fc",
   "metadata": {
    "tags": []
   },
   "outputs": [
    {
     "name": "stdout",
     "output_type": "stream",
     "text": [
      "(18, 6)\n"
     ]
    },
    {
     "data": {
      "text/html": [
       "<div>\n",
       "<style scoped>\n",
       "    .dataframe tbody tr th:only-of-type {\n",
       "        vertical-align: middle;\n",
       "    }\n",
       "\n",
       "    .dataframe tbody tr th {\n",
       "        vertical-align: top;\n",
       "    }\n",
       "\n",
       "    .dataframe thead th {\n",
       "        text-align: right;\n",
       "    }\n",
       "</style>\n",
       "<table border=\"1\" class=\"dataframe\">\n",
       "  <thead>\n",
       "    <tr style=\"text-align: right;\">\n",
       "      <th></th>\n",
       "      <th>CVEGEO</th>\n",
       "      <th>CVE_ENT</th>\n",
       "      <th>CVE_MUN</th>\n",
       "      <th>NOMGEO</th>\n",
       "      <th>geometry</th>\n",
       "      <th>city</th>\n",
       "    </tr>\n",
       "  </thead>\n",
       "  <tbody>\n",
       "    <tr>\n",
       "      <th>0</th>\n",
       "      <td>19001</td>\n",
       "      <td>19</td>\n",
       "      <td>001</td>\n",
       "      <td>Abasolo</td>\n",
       "      <td>POLYGON ((-100.39267 25.98715, -100.39224 25.9...</td>\n",
       "      <td>Monterrey</td>\n",
       "    </tr>\n",
       "    <tr>\n",
       "      <th>1</th>\n",
       "      <td>19006</td>\n",
       "      <td>19</td>\n",
       "      <td>006</td>\n",
       "      <td>Apodaca</td>\n",
       "      <td>POLYGON ((-100.24794 25.86462, -100.24672 25.8...</td>\n",
       "      <td>Monterrey</td>\n",
       "    </tr>\n",
       "  </tbody>\n",
       "</table>\n",
       "</div>"
      ],
      "text/plain": [
       "  CVEGEO CVE_ENT CVE_MUN   NOMGEO  \\\n",
       "0  19001      19     001  Abasolo   \n",
       "1  19006      19     006  Apodaca   \n",
       "\n",
       "                                            geometry       city  \n",
       "0  POLYGON ((-100.39267 25.98715, -100.39224 25.9...  Monterrey  \n",
       "1  POLYGON ((-100.24794 25.86462, -100.24672 25.8...  Monterrey  "
      ]
     },
     "execution_count": 7,
     "metadata": {},
     "output_type": "execute_result"
    }
   ],
   "source": [
    "mun_schema = 'metropolis'\n",
    "mun_table = 'metro_gdf'\n",
    "\n",
    "query = f\"SELECT * FROM {mun_schema}.{mun_table} WHERE \\\"city\\\" LIKE \\'{city}\\'\"\n",
    "mun_gdf = aup.gdf_from_query(query, geometry_col='geometry')\n",
    "\n",
    "print(mun_gdf.shape)\n",
    "mun_gdf.head(2)"
   ]
  },
  {
   "cell_type": "markdown",
   "id": "2e0e1da9-7918-4d8d-92e9-11aa575488fe",
   "metadata": {},
   "source": [
    "Data download - Marginalization"
   ]
  },
  {
   "cell_type": "code",
   "execution_count": 8,
   "id": "1b548550-9028-4c1c-8e8a-16d6a155fd0d",
   "metadata": {
    "tags": []
   },
   "outputs": [
    {
     "data": {
      "text/plain": [
       "['19001',\n",
       " '19006',\n",
       " '19009',\n",
       " '19010',\n",
       " '19012',\n",
       " '19018',\n",
       " '19019',\n",
       " '19021',\n",
       " '19025',\n",
       " '19026',\n",
       " '19031',\n",
       " '19039',\n",
       " '19041',\n",
       " '19045',\n",
       " '19046',\n",
       " '19047',\n",
       " '19048',\n",
       " '19049']"
      ]
     },
     "execution_count": 8,
     "metadata": {},
     "output_type": "execute_result"
    }
   ],
   "source": [
    "cvegeo_list = list(mun_gdf.loc[mun_gdf.city==city][\"CVEGEO\"].unique())\n",
    "cvegeo_list"
   ]
  },
  {
   "cell_type": "code",
   "execution_count": 9,
   "id": "1e29e2fc-4a09-4a8f-be63-f23e116ec8cd",
   "metadata": {
    "tags": []
   },
   "outputs": [
    {
     "name": "stdout",
     "output_type": "stream",
     "text": [
      "(1463, 17)\n"
     ]
    },
    {
     "data": {
      "text/html": [
       "<div>\n",
       "<style scoped>\n",
       "    .dataframe tbody tr th:only-of-type {\n",
       "        vertical-align: middle;\n",
       "    }\n",
       "\n",
       "    .dataframe tbody tr th {\n",
       "        vertical-align: top;\n",
       "    }\n",
       "\n",
       "    .dataframe thead th {\n",
       "        text-align: right;\n",
       "    }\n",
       "</style>\n",
       "<table border=\"1\" class=\"dataframe\">\n",
       "  <thead>\n",
       "    <tr style=\"text-align: right;\">\n",
       "      <th></th>\n",
       "      <th>geometry</th>\n",
       "      <th>hex_id_8</th>\n",
       "      <th>CVEGEO</th>\n",
       "      <th>pobtot</th>\n",
       "      <th>p6a14nae</th>\n",
       "      <th>sbasc</th>\n",
       "      <th>psdss</th>\n",
       "      <th>ovsde</th>\n",
       "      <th>ovsee</th>\n",
       "      <th>ovsae</th>\n",
       "      <th>ovpt</th>\n",
       "      <th>ovsref</th>\n",
       "      <th>ovsint</th>\n",
       "      <th>ovscel</th>\n",
       "      <th>ovhac</th>\n",
       "      <th>im_2020</th>\n",
       "      <th>imn_2020</th>\n",
       "    </tr>\n",
       "  </thead>\n",
       "  <tbody>\n",
       "    <tr>\n",
       "      <th>0</th>\n",
       "      <td>POLYGON ((-100.38026 25.93877, -100.38069 25.9...</td>\n",
       "      <td>8848a23881fffff</td>\n",
       "      <td>19001</td>\n",
       "      <td>250.11478</td>\n",
       "      <td>1.507139</td>\n",
       "      <td>6.775771</td>\n",
       "      <td>0.155156</td>\n",
       "      <td>0.077578</td>\n",
       "      <td>0.077578</td>\n",
       "      <td>0.077578</td>\n",
       "      <td>0.0</td>\n",
       "      <td>0.659412</td>\n",
       "      <td>15.438009</td>\n",
       "      <td>1.512770</td>\n",
       "      <td>9.580874</td>\n",
       "      <td>123.461212</td>\n",
       "      <td>0.964433</td>\n",
       "    </tr>\n",
       "    <tr>\n",
       "      <th>1</th>\n",
       "      <td>POLYGON ((-100.38588 25.94625, -100.38631 25.9...</td>\n",
       "      <td>8848a23883fffff</td>\n",
       "      <td>19001</td>\n",
       "      <td>487.42150</td>\n",
       "      <td>3.485196</td>\n",
       "      <td>33.948074</td>\n",
       "      <td>3.441633</td>\n",
       "      <td>0.081661</td>\n",
       "      <td>0.081661</td>\n",
       "      <td>0.081661</td>\n",
       "      <td>0.0</td>\n",
       "      <td>1.016450</td>\n",
       "      <td>87.389890</td>\n",
       "      <td>8.739015</td>\n",
       "      <td>55.745712</td>\n",
       "      <td>123.066629</td>\n",
       "      <td>0.961350</td>\n",
       "    </tr>\n",
       "  </tbody>\n",
       "</table>\n",
       "</div>"
      ],
      "text/plain": [
       "                                            geometry         hex_id_8 CVEGEO  \\\n",
       "0  POLYGON ((-100.38026 25.93877, -100.38069 25.9...  8848a23881fffff  19001   \n",
       "1  POLYGON ((-100.38588 25.94625, -100.38631 25.9...  8848a23883fffff  19001   \n",
       "\n",
       "      pobtot  p6a14nae      sbasc     psdss     ovsde     ovsee     ovsae  \\\n",
       "0  250.11478  1.507139   6.775771  0.155156  0.077578  0.077578  0.077578   \n",
       "1  487.42150  3.485196  33.948074  3.441633  0.081661  0.081661  0.081661   \n",
       "\n",
       "   ovpt    ovsref     ovsint    ovscel      ovhac     im_2020  imn_2020  \n",
       "0   0.0  0.659412  15.438009  1.512770   9.580874  123.461212  0.964433  \n",
       "1   0.0  1.016450  87.389890  8.739015  55.745712  123.066629  0.961350  "
      ]
     },
     "execution_count": 9,
     "metadata": {},
     "output_type": "execute_result"
    }
   ],
   "source": [
    "# donwload hexagons with marg data\n",
    "hex_marg = gpd.GeoDataFrame()\n",
    "marg_table = 'hex_bins_marg_2020'\n",
    "marg_schema = 'censo'\n",
    "\n",
    "\n",
    "# Iterates over municipality codes for each metropolitan area or capital\n",
    "for cvegeo in cvegeo_list:\n",
    "    # Downloads municipality polygon according to code\n",
    "    query = f\"SELECT * FROM {marg_schema}.{marg_table} WHERE \\\"CVEGEO\\\" LIKE \\'{cvegeo}%%\\'\"\n",
    "    hex_tmp = aup.gdf_from_query(query, geometry_col='geometry')\n",
    "    hex_marg = pd.concat([hex_marg, hex_tmp],\n",
    "    ignore_index = True, axis = 0)\n",
    "print(hex_marg.shape)\n",
    "hex_marg.head(2)"
   ]
  },
  {
   "cell_type": "markdown",
   "id": "1c1a1f4c-38fb-40e3-85fa-d14eee68d52a",
   "metadata": {},
   "source": [
    "## Data treatment"
   ]
  },
  {
   "cell_type": "markdown",
   "id": "7f5a74ef-b6f8-4d97-94af-319f21a83c86",
   "metadata": {},
   "source": [
    "### Data treatment - Bring marginalization data (res8) to ndvi (res10)"
   ]
  },
  {
   "cell_type": "markdown",
   "id": "538a49cb-dd6b-461d-841a-a1c3e3ac5d70",
   "metadata": {},
   "source": [
    "Find ndvi centroids in order to intersect res10 info with a single res8 hex"
   ]
  },
  {
   "cell_type": "code",
   "execution_count": 10,
   "id": "8cd58db9-3c85-41bf-8d4d-a94bea4c3556",
   "metadata": {
    "tags": []
   },
   "outputs": [
    {
     "name": "stdout",
     "output_type": "stream",
     "text": [
      "(75705, 1)\n"
     ]
    },
    {
     "data": {
      "text/html": [
       "<div>\n",
       "<style scoped>\n",
       "    .dataframe tbody tr th:only-of-type {\n",
       "        vertical-align: middle;\n",
       "    }\n",
       "\n",
       "    .dataframe tbody tr th {\n",
       "        vertical-align: top;\n",
       "    }\n",
       "\n",
       "    .dataframe thead th {\n",
       "        text-align: right;\n",
       "    }\n",
       "</style>\n",
       "<table border=\"1\" class=\"dataframe\">\n",
       "  <thead>\n",
       "    <tr style=\"text-align: right;\">\n",
       "      <th></th>\n",
       "      <th>geometry</th>\n",
       "    </tr>\n",
       "  </thead>\n",
       "  <tbody>\n",
       "    <tr>\n",
       "      <th>0</th>\n",
       "      <td>POINT (-100.25440 25.75451)</td>\n",
       "    </tr>\n",
       "    <tr>\n",
       "      <th>1</th>\n",
       "      <td>POINT (-100.26165 25.71254)</td>\n",
       "    </tr>\n",
       "  </tbody>\n",
       "</table>\n",
       "</div>"
      ],
      "text/plain": [
       "                      geometry\n",
       "0  POINT (-100.25440 25.75451)\n",
       "1  POINT (-100.26165 25.71254)"
      ]
     },
     "execution_count": 10,
     "metadata": {},
     "output_type": "execute_result"
    }
   ],
   "source": [
    "#Find centroids\n",
    "ndvi_res10_calc = ndvi_res10.to_crs(\"EPSG:6372\")\n",
    "centroids = ndvi_res10_calc.centroid\n",
    "centroids = centroids.to_crs(\"EPSG:4326\")\n",
    "\n",
    "#Turn into gdf\n",
    "centroids_gdf = gpd.GeoDataFrame(centroids)\n",
    "centroids_gdf = centroids_gdf.rename(columns={0:'geometry'})\n",
    "\n",
    "#Review result\n",
    "print(centroids_gdf.shape)\n",
    "centroids_gdf.head(2)"
   ]
  },
  {
   "cell_type": "markdown",
   "id": "0f1818d5-5931-4b38-b37b-58af132d1bab",
   "metadata": {},
   "source": [
    "Intersect centroids with orginal ndvi data to keep hex_id data"
   ]
  },
  {
   "cell_type": "code",
   "execution_count": 11,
   "id": "63cf713a-8901-425d-af31-88c7be513bdc",
   "metadata": {
    "tags": []
   },
   "outputs": [
    {
     "name": "stdout",
     "output_type": "stream",
     "text": [
      "(75705, 2)\n"
     ]
    },
    {
     "data": {
      "text/html": [
       "<div>\n",
       "<style scoped>\n",
       "    .dataframe tbody tr th:only-of-type {\n",
       "        vertical-align: middle;\n",
       "    }\n",
       "\n",
       "    .dataframe tbody tr th {\n",
       "        vertical-align: top;\n",
       "    }\n",
       "\n",
       "    .dataframe thead th {\n",
       "        text-align: right;\n",
       "    }\n",
       "</style>\n",
       "<table border=\"1\" class=\"dataframe\">\n",
       "  <thead>\n",
       "    <tr style=\"text-align: right;\">\n",
       "      <th></th>\n",
       "      <th>hex_id</th>\n",
       "      <th>geometry</th>\n",
       "    </tr>\n",
       "  </thead>\n",
       "  <tbody>\n",
       "    <tr>\n",
       "      <th>0</th>\n",
       "      <td>8a48a20e121ffff</td>\n",
       "      <td>POINT (-100.25440 25.75451)</td>\n",
       "    </tr>\n",
       "    <tr>\n",
       "      <th>1</th>\n",
       "      <td>8a48a20e596ffff</td>\n",
       "      <td>POINT (-100.26165 25.71254)</td>\n",
       "    </tr>\n",
       "  </tbody>\n",
       "</table>\n",
       "</div>"
      ],
      "text/plain": [
       "            hex_id                     geometry\n",
       "0  8a48a20e121ffff  POINT (-100.25440 25.75451)\n",
       "1  8a48a20e596ffff  POINT (-100.26165 25.71254)"
      ]
     },
     "execution_count": 11,
     "metadata": {},
     "output_type": "execute_result"
    }
   ],
   "source": [
    "centroids_hexid = gpd.overlay(centroids_gdf,ndvi_res10,keep_geom_type=True)\n",
    "\n",
    "columns_tokeep = ['hex_id','geometry']\n",
    "centroids_hexid = centroids_hexid[columns_tokeep]\n",
    "\n",
    "#Review result\n",
    "print(centroids_hexid.shape)\n",
    "centroids_hexid.head(2)"
   ]
  },
  {
   "cell_type": "markdown",
   "id": "2cdfdd38-aede-4721-8255-c13720487f7f",
   "metadata": {},
   "source": [
    "Intersect centroids with marginalization data"
   ]
  },
  {
   "cell_type": "code",
   "execution_count": 13,
   "id": "bd57509d-ffa7-4995-b198-ad641f55ffa4",
   "metadata": {
    "tags": []
   },
   "outputs": [
    {
     "name": "stdout",
     "output_type": "stream",
     "text": [
      "(71687, 4)\n"
     ]
    },
    {
     "data": {
      "text/html": [
       "<div>\n",
       "<style scoped>\n",
       "    .dataframe tbody tr th:only-of-type {\n",
       "        vertical-align: middle;\n",
       "    }\n",
       "\n",
       "    .dataframe tbody tr th {\n",
       "        vertical-align: top;\n",
       "    }\n",
       "\n",
       "    .dataframe thead th {\n",
       "        text-align: right;\n",
       "    }\n",
       "</style>\n",
       "<table border=\"1\" class=\"dataframe\">\n",
       "  <thead>\n",
       "    <tr style=\"text-align: right;\">\n",
       "      <th></th>\n",
       "      <th>hex_id</th>\n",
       "      <th>pobtot</th>\n",
       "      <th>im_2020</th>\n",
       "      <th>imn_2020</th>\n",
       "    </tr>\n",
       "  </thead>\n",
       "  <tbody>\n",
       "    <tr>\n",
       "      <th>0</th>\n",
       "      <td>8a48a20e121ffff</td>\n",
       "      <td>13333.322</td>\n",
       "      <td>122.700612</td>\n",
       "      <td>0.958491</td>\n",
       "    </tr>\n",
       "    <tr>\n",
       "      <th>1</th>\n",
       "      <td>8a48a20e122ffff</td>\n",
       "      <td>13333.322</td>\n",
       "      <td>122.700612</td>\n",
       "      <td>0.958491</td>\n",
       "    </tr>\n",
       "  </tbody>\n",
       "</table>\n",
       "</div>"
      ],
      "text/plain": [
       "            hex_id     pobtot     im_2020  imn_2020\n",
       "0  8a48a20e121ffff  13333.322  122.700612  0.958491\n",
       "1  8a48a20e122ffff  13333.322  122.700612  0.958491"
      ]
     },
     "execution_count": 13,
     "metadata": {},
     "output_type": "execute_result"
    }
   ],
   "source": [
    "centroids_marg = gpd.overlay(centroids_hexid,hex_marg,keep_geom_type=True)\n",
    "\n",
    "columns_tokeep = ['hex_id','pobtot','im_2020','imn_2020']\n",
    "centroids_marg = centroids_marg[columns_tokeep]\n",
    "\n",
    "#Review result\n",
    "print(centroids_marg.shape)\n",
    "centroids_marg.head(2)"
   ]
  },
  {
   "cell_type": "markdown",
   "id": "6c19d565-f2df-4f90-b1c1-eab9b1067ddc",
   "metadata": {},
   "source": [
    "Merge centroids_marg back with res10 geometry"
   ]
  },
  {
   "cell_type": "code",
   "execution_count": 14,
   "id": "cee3b4d8-fe5f-434f-9153-69fdd9a63287",
   "metadata": {
    "tags": []
   },
   "outputs": [
    {
     "name": "stdout",
     "output_type": "stream",
     "text": [
      "(71687, 14)\n"
     ]
    },
    {
     "data": {
      "text/html": [
       "<div>\n",
       "<style scoped>\n",
       "    .dataframe tbody tr th:only-of-type {\n",
       "        vertical-align: middle;\n",
       "    }\n",
       "\n",
       "    .dataframe tbody tr th {\n",
       "        vertical-align: top;\n",
       "    }\n",
       "\n",
       "    .dataframe thead th {\n",
       "        text-align: right;\n",
       "    }\n",
       "</style>\n",
       "<table border=\"1\" class=\"dataframe\">\n",
       "  <thead>\n",
       "    <tr style=\"text-align: right;\">\n",
       "      <th></th>\n",
       "      <th>hex_id</th>\n",
       "      <th>geometry</th>\n",
       "      <th>res</th>\n",
       "      <th>ndvi_mean</th>\n",
       "      <th>ndvi_std</th>\n",
       "      <th>ndvi_median</th>\n",
       "      <th>ndvi_max</th>\n",
       "      <th>ndvi_min</th>\n",
       "      <th>ndvi_diff</th>\n",
       "      <th>ndvi_tend</th>\n",
       "      <th>city</th>\n",
       "      <th>pobtot</th>\n",
       "      <th>im_2020</th>\n",
       "      <th>imn_2020</th>\n",
       "    </tr>\n",
       "  </thead>\n",
       "  <tbody>\n",
       "    <tr>\n",
       "      <th>0</th>\n",
       "      <td>8a48a20e121ffff</td>\n",
       "      <td>POLYGON ((-100.25434 25.75376, -100.25366 25.7...</td>\n",
       "      <td>10</td>\n",
       "      <td>0.097768</td>\n",
       "      <td>0.048954</td>\n",
       "      <td>0.093641</td>\n",
       "      <td>0.160109</td>\n",
       "      <td>0.021698</td>\n",
       "      <td>0.138411</td>\n",
       "      <td>-0.001268</td>\n",
       "      <td>Monterrey</td>\n",
       "      <td>13333.322</td>\n",
       "      <td>122.700612</td>\n",
       "      <td>0.958491</td>\n",
       "    </tr>\n",
       "    <tr>\n",
       "      <th>1</th>\n",
       "      <td>8a48a20e596ffff</td>\n",
       "      <td>POLYGON ((-100.26159 25.71180, -100.26091 25.7...</td>\n",
       "      <td>10</td>\n",
       "      <td>0.054997</td>\n",
       "      <td>0.031887</td>\n",
       "      <td>0.054372</td>\n",
       "      <td>0.088824</td>\n",
       "      <td>-0.003849</td>\n",
       "      <td>0.092673</td>\n",
       "      <td>-0.000919</td>\n",
       "      <td>Monterrey</td>\n",
       "      <td>10180.852</td>\n",
       "      <td>123.090448</td>\n",
       "      <td>0.961536</td>\n",
       "    </tr>\n",
       "  </tbody>\n",
       "</table>\n",
       "</div>"
      ],
      "text/plain": [
       "            hex_id                                           geometry  res  \\\n",
       "0  8a48a20e121ffff  POLYGON ((-100.25434 25.75376, -100.25366 25.7...   10   \n",
       "1  8a48a20e596ffff  POLYGON ((-100.26159 25.71180, -100.26091 25.7...   10   \n",
       "\n",
       "   ndvi_mean  ndvi_std  ndvi_median  ndvi_max  ndvi_min  ndvi_diff  ndvi_tend  \\\n",
       "0   0.097768  0.048954     0.093641  0.160109  0.021698   0.138411  -0.001268   \n",
       "1   0.054997  0.031887     0.054372  0.088824 -0.003849   0.092673  -0.000919   \n",
       "\n",
       "        city     pobtot     im_2020  imn_2020  \n",
       "0  Monterrey  13333.322  122.700612  0.958491  \n",
       "1  Monterrey  10180.852  123.090448  0.961536  "
      ]
     },
     "execution_count": 14,
     "metadata": {},
     "output_type": "execute_result"
    }
   ],
   "source": [
    "ndvi_marg = pd.merge(ndvi_res10,centroids_marg, on='hex_id')\n",
    "\n",
    "#Review result\n",
    "print(ndvi_marg.shape)\n",
    "ndvi_marg.head(2)"
   ]
  },
  {
   "cell_type": "markdown",
   "id": "c060ccf4-2e94-4016-b4a6-4e28c1658975",
   "metadata": {},
   "source": [
    "### Data treatment - Merge NDVI_MARG with NDMI"
   ]
  },
  {
   "cell_type": "code",
   "execution_count": 15,
   "id": "4789d2c3-7937-4c25-937c-a12933d4b807",
   "metadata": {
    "tags": []
   },
   "outputs": [
    {
     "name": "stdout",
     "output_type": "stream",
     "text": [
      "(71687, 21)\n"
     ]
    },
    {
     "data": {
      "text/html": [
       "<div>\n",
       "<style scoped>\n",
       "    .dataframe tbody tr th:only-of-type {\n",
       "        vertical-align: middle;\n",
       "    }\n",
       "\n",
       "    .dataframe tbody tr th {\n",
       "        vertical-align: top;\n",
       "    }\n",
       "\n",
       "    .dataframe thead th {\n",
       "        text-align: right;\n",
       "    }\n",
       "</style>\n",
       "<table border=\"1\" class=\"dataframe\">\n",
       "  <thead>\n",
       "    <tr style=\"text-align: right;\">\n",
       "      <th></th>\n",
       "      <th>hex_id</th>\n",
       "      <th>geometry</th>\n",
       "      <th>res</th>\n",
       "      <th>ndvi_mean</th>\n",
       "      <th>ndvi_std</th>\n",
       "      <th>ndvi_median</th>\n",
       "      <th>ndvi_max</th>\n",
       "      <th>ndvi_min</th>\n",
       "      <th>ndvi_diff</th>\n",
       "      <th>ndvi_tend</th>\n",
       "      <th>...</th>\n",
       "      <th>pobtot</th>\n",
       "      <th>im_2020</th>\n",
       "      <th>imn_2020</th>\n",
       "      <th>ndmi_mean</th>\n",
       "      <th>ndmi_std</th>\n",
       "      <th>ndmi_median</th>\n",
       "      <th>ndmi_max</th>\n",
       "      <th>ndmi_min</th>\n",
       "      <th>ndmi_diff</th>\n",
       "      <th>ndmi_tend</th>\n",
       "    </tr>\n",
       "  </thead>\n",
       "  <tbody>\n",
       "    <tr>\n",
       "      <th>0</th>\n",
       "      <td>8a48a20e121ffff</td>\n",
       "      <td>POLYGON ((-100.25434 25.75376, -100.25366 25.7...</td>\n",
       "      <td>10</td>\n",
       "      <td>0.097768</td>\n",
       "      <td>0.048954</td>\n",
       "      <td>0.093641</td>\n",
       "      <td>0.160109</td>\n",
       "      <td>0.021698</td>\n",
       "      <td>0.138411</td>\n",
       "      <td>-0.001268</td>\n",
       "      <td>...</td>\n",
       "      <td>13333.322</td>\n",
       "      <td>122.700612</td>\n",
       "      <td>0.958491</td>\n",
       "      <td>0.023483</td>\n",
       "      <td>0.077874</td>\n",
       "      <td>0.009612</td>\n",
       "      <td>0.185504</td>\n",
       "      <td>-0.027486</td>\n",
       "      <td>0.212990</td>\n",
       "      <td>-0.000315</td>\n",
       "    </tr>\n",
       "    <tr>\n",
       "      <th>1</th>\n",
       "      <td>8a48a20e596ffff</td>\n",
       "      <td>POLYGON ((-100.26159 25.71180, -100.26091 25.7...</td>\n",
       "      <td>10</td>\n",
       "      <td>0.054997</td>\n",
       "      <td>0.031887</td>\n",
       "      <td>0.054372</td>\n",
       "      <td>0.088824</td>\n",
       "      <td>-0.003849</td>\n",
       "      <td>0.092673</td>\n",
       "      <td>-0.000919</td>\n",
       "      <td>...</td>\n",
       "      <td>10180.852</td>\n",
       "      <td>123.090448</td>\n",
       "      <td>0.961536</td>\n",
       "      <td>0.006685</td>\n",
       "      <td>0.082761</td>\n",
       "      <td>-0.009015</td>\n",
       "      <td>0.166920</td>\n",
       "      <td>-0.040795</td>\n",
       "      <td>0.207715</td>\n",
       "      <td>-0.000125</td>\n",
       "    </tr>\n",
       "  </tbody>\n",
       "</table>\n",
       "<p>2 rows × 21 columns</p>\n",
       "</div>"
      ],
      "text/plain": [
       "            hex_id                                           geometry  res  \\\n",
       "0  8a48a20e121ffff  POLYGON ((-100.25434 25.75376, -100.25366 25.7...   10   \n",
       "1  8a48a20e596ffff  POLYGON ((-100.26159 25.71180, -100.26091 25.7...   10   \n",
       "\n",
       "   ndvi_mean  ndvi_std  ndvi_median  ndvi_max  ndvi_min  ndvi_diff  ndvi_tend  \\\n",
       "0   0.097768  0.048954     0.093641  0.160109  0.021698   0.138411  -0.001268   \n",
       "1   0.054997  0.031887     0.054372  0.088824 -0.003849   0.092673  -0.000919   \n",
       "\n",
       "   ...     pobtot     im_2020  imn_2020  ndmi_mean  ndmi_std  ndmi_median  \\\n",
       "0  ...  13333.322  122.700612  0.958491   0.023483  0.077874     0.009612   \n",
       "1  ...  10180.852  123.090448  0.961536   0.006685  0.082761    -0.009015   \n",
       "\n",
       "   ndmi_max  ndmi_min  ndmi_diff  ndmi_tend  \n",
       "0  0.185504 -0.027486   0.212990  -0.000315  \n",
       "1  0.166920 -0.040795   0.207715  -0.000125  \n",
       "\n",
       "[2 rows x 21 columns]"
      ]
     },
     "execution_count": 15,
     "metadata": {},
     "output_type": "execute_result"
    }
   ],
   "source": [
    "ndmi_res10_clean = ndmi_res10.drop(columns=['geometry','res','city'])\n",
    "ndvi_ndmi_marg = ndvi_marg.merge(ndmi_res10_clean, left_on='hex_id', right_on='hex_id')\n",
    "\n",
    "#Reviewing process\n",
    "print(ndvi_ndmi_marg.shape)\n",
    "ndvi_ndmi_marg.head(2)"
   ]
  },
  {
   "cell_type": "markdown",
   "id": "05e13f7f-3cc7-4f2d-ae5c-56fd4eb220ed",
   "metadata": {},
   "source": [
    "### Data treatment - Create data categories"
   ]
  },
  {
   "cell_type": "markdown",
   "id": "a9f7b3a7-3542-4797-b01c-434e3171b68a",
   "metadata": {},
   "source": [
    "Data treatment - Creating vegetation categories"
   ]
  },
  {
   "cell_type": "code",
   "execution_count": 16,
   "id": "1cf0d65d-3f58-4475-bd97-12a221de1e52",
   "metadata": {
    "tags": []
   },
   "outputs": [
    {
     "name": "stdout",
     "output_type": "stream",
     "text": [
      "(71687, 22)\n"
     ]
    },
    {
     "data": {
      "text/html": [
       "<div>\n",
       "<style scoped>\n",
       "    .dataframe tbody tr th:only-of-type {\n",
       "        vertical-align: middle;\n",
       "    }\n",
       "\n",
       "    .dataframe tbody tr th {\n",
       "        vertical-align: top;\n",
       "    }\n",
       "\n",
       "    .dataframe thead th {\n",
       "        text-align: right;\n",
       "    }\n",
       "</style>\n",
       "<table border=\"1\" class=\"dataframe\">\n",
       "  <thead>\n",
       "    <tr style=\"text-align: right;\">\n",
       "      <th></th>\n",
       "      <th>hex_id</th>\n",
       "      <th>geometry</th>\n",
       "      <th>res</th>\n",
       "      <th>ndvi_mean</th>\n",
       "      <th>ndvi_std</th>\n",
       "      <th>ndvi_median</th>\n",
       "      <th>ndvi_max</th>\n",
       "      <th>ndvi_min</th>\n",
       "      <th>ndvi_diff</th>\n",
       "      <th>ndvi_tend</th>\n",
       "      <th>...</th>\n",
       "      <th>im_2020</th>\n",
       "      <th>imn_2020</th>\n",
       "      <th>ndmi_mean</th>\n",
       "      <th>ndmi_std</th>\n",
       "      <th>ndmi_median</th>\n",
       "      <th>ndmi_max</th>\n",
       "      <th>ndmi_min</th>\n",
       "      <th>ndmi_diff</th>\n",
       "      <th>ndmi_tend</th>\n",
       "      <th>ndvi_median_rango</th>\n",
       "    </tr>\n",
       "  </thead>\n",
       "  <tbody>\n",
       "    <tr>\n",
       "      <th>0</th>\n",
       "      <td>8a48a20e121ffff</td>\n",
       "      <td>POLYGON ((-100.25434 25.75376, -100.25366 25.7...</td>\n",
       "      <td>10</td>\n",
       "      <td>0.097768</td>\n",
       "      <td>0.048954</td>\n",
       "      <td>0.093641</td>\n",
       "      <td>0.160109</td>\n",
       "      <td>0.021698</td>\n",
       "      <td>0.138411</td>\n",
       "      <td>-0.001268</td>\n",
       "      <td>...</td>\n",
       "      <td>122.700612</td>\n",
       "      <td>0.958491</td>\n",
       "      <td>0.023483</td>\n",
       "      <td>0.077874</td>\n",
       "      <td>0.009612</td>\n",
       "      <td>0.185504</td>\n",
       "      <td>-0.027486</td>\n",
       "      <td>0.212990</td>\n",
       "      <td>-0.000315</td>\n",
       "      <td>Suelo artificial/Agua/Piedra</td>\n",
       "    </tr>\n",
       "    <tr>\n",
       "      <th>1</th>\n",
       "      <td>8a48a20e596ffff</td>\n",
       "      <td>POLYGON ((-100.26159 25.71180, -100.26091 25.7...</td>\n",
       "      <td>10</td>\n",
       "      <td>0.054997</td>\n",
       "      <td>0.031887</td>\n",
       "      <td>0.054372</td>\n",
       "      <td>0.088824</td>\n",
       "      <td>-0.003849</td>\n",
       "      <td>0.092673</td>\n",
       "      <td>-0.000919</td>\n",
       "      <td>...</td>\n",
       "      <td>123.090448</td>\n",
       "      <td>0.961536</td>\n",
       "      <td>0.006685</td>\n",
       "      <td>0.082761</td>\n",
       "      <td>-0.009015</td>\n",
       "      <td>0.166920</td>\n",
       "      <td>-0.040795</td>\n",
       "      <td>0.207715</td>\n",
       "      <td>-0.000125</td>\n",
       "      <td>Suelo artificial/Agua/Piedra</td>\n",
       "    </tr>\n",
       "  </tbody>\n",
       "</table>\n",
       "<p>2 rows × 22 columns</p>\n",
       "</div>"
      ],
      "text/plain": [
       "            hex_id                                           geometry  res  \\\n",
       "0  8a48a20e121ffff  POLYGON ((-100.25434 25.75376, -100.25366 25.7...   10   \n",
       "1  8a48a20e596ffff  POLYGON ((-100.26159 25.71180, -100.26091 25.7...   10   \n",
       "\n",
       "   ndvi_mean  ndvi_std  ndvi_median  ndvi_max  ndvi_min  ndvi_diff  ndvi_tend  \\\n",
       "0   0.097768  0.048954     0.093641  0.160109  0.021698   0.138411  -0.001268   \n",
       "1   0.054997  0.031887     0.054372  0.088824 -0.003849   0.092673  -0.000919   \n",
       "\n",
       "   ...     im_2020  imn_2020  ndmi_mean  ndmi_std  ndmi_median  ndmi_max  \\\n",
       "0  ...  122.700612  0.958491   0.023483  0.077874     0.009612  0.185504   \n",
       "1  ...  123.090448  0.961536   0.006685  0.082761    -0.009015  0.166920   \n",
       "\n",
       "   ndmi_min  ndmi_diff  ndmi_tend             ndvi_median_rango  \n",
       "0 -0.027486   0.212990  -0.000315  Suelo artificial/Agua/Piedra  \n",
       "1 -0.040795   0.207715  -0.000125  Suelo artificial/Agua/Piedra  \n",
       "\n",
       "[2 rows x 22 columns]"
      ]
     },
     "execution_count": 16,
     "metadata": {},
     "output_type": "execute_result"
    }
   ],
   "source": [
    "# Creating vegetation categories\n",
    "ndvi_ndmi_marg['ndvi_median_rango'] = np.nan\n",
    "ndvi_ndmi_marg.loc[ndvi_ndmi_marg.ndvi_median>=0.6 , 'ndvi_median_rango'] = 'Alta densidad vegetal'\n",
    "ndvi_ndmi_marg.loc[(ndvi_ndmi_marg.ndvi_median>=0.4 )&\n",
    "             (ndvi_ndmi_marg.ndvi_median<0.6), 'ndvi_median_rango'] = 'Moderada densidad vegetal'\n",
    "ndvi_ndmi_marg.loc[(ndvi_ndmi_marg.ndvi_median>=0.2)&\n",
    "             (ndvi_ndmi_marg.ndvi_median<0.4), 'ndvi_median_rango'] = 'Mínima densidad vegetal'\n",
    "ndvi_ndmi_marg.loc[(ndvi_ndmi_marg.ndvi_median>=0.1)&\n",
    "             (ndvi_ndmi_marg.ndvi_median<0.2), 'ndvi_median_rango'] = 'Suelo'\n",
    "ndvi_ndmi_marg.loc[(ndvi_ndmi_marg.ndvi_median<0.1), 'ndvi_median_rango'] = 'Suelo artificial/Agua/Piedra'\n",
    "\n",
    "# Ordering data\n",
    "categories = ['Suelo artificial/Agua/Piedra', 'Suelo', 'Mínima densidad vegetal', 'Moderada densidad vegetal', 'Alta densidad vegetal']\n",
    "ndvi_ndmi_marg['ndvi_median_rango'] = pd.Categorical(ndvi_ndmi_marg['ndvi_median_rango'], categories=categories, ordered=True)\n",
    "\n",
    "# Reviewing process\n",
    "print(ndvi_ndmi_marg.shape)\n",
    "ndvi_ndmi_marg.head(2)"
   ]
  },
  {
   "cell_type": "markdown",
   "id": "165c6571-da4c-4231-b818-2fbd1a9fc5b9",
   "metadata": {},
   "source": [
    "Data treatment - Creating marginalization categories"
   ]
  },
  {
   "cell_type": "code",
   "execution_count": 18,
   "id": "1470fac1-d6d8-4b28-96b0-fe38789474a9",
   "metadata": {
    "tags": []
   },
   "outputs": [
    {
     "name": "stdout",
     "output_type": "stream",
     "text": [
      "(71687, 23)\n"
     ]
    },
    {
     "data": {
      "text/html": [
       "<div>\n",
       "<style scoped>\n",
       "    .dataframe tbody tr th:only-of-type {\n",
       "        vertical-align: middle;\n",
       "    }\n",
       "\n",
       "    .dataframe tbody tr th {\n",
       "        vertical-align: top;\n",
       "    }\n",
       "\n",
       "    .dataframe thead th {\n",
       "        text-align: right;\n",
       "    }\n",
       "</style>\n",
       "<table border=\"1\" class=\"dataframe\">\n",
       "  <thead>\n",
       "    <tr style=\"text-align: right;\">\n",
       "      <th></th>\n",
       "      <th>hex_id</th>\n",
       "      <th>geometry</th>\n",
       "      <th>res</th>\n",
       "      <th>ndvi_mean</th>\n",
       "      <th>ndvi_std</th>\n",
       "      <th>ndvi_median</th>\n",
       "      <th>ndvi_max</th>\n",
       "      <th>ndvi_min</th>\n",
       "      <th>ndvi_diff</th>\n",
       "      <th>ndvi_tend</th>\n",
       "      <th>...</th>\n",
       "      <th>imn_2020</th>\n",
       "      <th>ndmi_mean</th>\n",
       "      <th>ndmi_std</th>\n",
       "      <th>ndmi_median</th>\n",
       "      <th>ndmi_max</th>\n",
       "      <th>ndmi_min</th>\n",
       "      <th>ndmi_diff</th>\n",
       "      <th>ndmi_tend</th>\n",
       "      <th>ndvi_median_rango</th>\n",
       "      <th>Grado_Marg</th>\n",
       "    </tr>\n",
       "  </thead>\n",
       "  <tbody>\n",
       "    <tr>\n",
       "      <th>0</th>\n",
       "      <td>8a48a20e121ffff</td>\n",
       "      <td>POLYGON ((-100.25434 25.75376, -100.25366 25.7...</td>\n",
       "      <td>10</td>\n",
       "      <td>0.097768</td>\n",
       "      <td>0.048954</td>\n",
       "      <td>0.093641</td>\n",
       "      <td>0.160109</td>\n",
       "      <td>0.021698</td>\n",
       "      <td>0.138411</td>\n",
       "      <td>-0.001268</td>\n",
       "      <td>...</td>\n",
       "      <td>0.958491</td>\n",
       "      <td>0.023483</td>\n",
       "      <td>0.077874</td>\n",
       "      <td>0.009612</td>\n",
       "      <td>0.185504</td>\n",
       "      <td>-0.027486</td>\n",
       "      <td>0.212990</td>\n",
       "      <td>-0.000315</td>\n",
       "      <td>Suelo artificial/Agua/Piedra</td>\n",
       "      <td>Bajo</td>\n",
       "    </tr>\n",
       "    <tr>\n",
       "      <th>1</th>\n",
       "      <td>8a48a20e596ffff</td>\n",
       "      <td>POLYGON ((-100.26159 25.71180, -100.26091 25.7...</td>\n",
       "      <td>10</td>\n",
       "      <td>0.054997</td>\n",
       "      <td>0.031887</td>\n",
       "      <td>0.054372</td>\n",
       "      <td>0.088824</td>\n",
       "      <td>-0.003849</td>\n",
       "      <td>0.092673</td>\n",
       "      <td>-0.000919</td>\n",
       "      <td>...</td>\n",
       "      <td>0.961536</td>\n",
       "      <td>0.006685</td>\n",
       "      <td>0.082761</td>\n",
       "      <td>-0.009015</td>\n",
       "      <td>0.166920</td>\n",
       "      <td>-0.040795</td>\n",
       "      <td>0.207715</td>\n",
       "      <td>-0.000125</td>\n",
       "      <td>Suelo artificial/Agua/Piedra</td>\n",
       "      <td>Bajo</td>\n",
       "    </tr>\n",
       "  </tbody>\n",
       "</table>\n",
       "<p>2 rows × 23 columns</p>\n",
       "</div>"
      ],
      "text/plain": [
       "            hex_id                                           geometry  res  \\\n",
       "0  8a48a20e121ffff  POLYGON ((-100.25434 25.75376, -100.25366 25.7...   10   \n",
       "1  8a48a20e596ffff  POLYGON ((-100.26159 25.71180, -100.26091 25.7...   10   \n",
       "\n",
       "   ndvi_mean  ndvi_std  ndvi_median  ndvi_max  ndvi_min  ndvi_diff  ndvi_tend  \\\n",
       "0   0.097768  0.048954     0.093641  0.160109  0.021698   0.138411  -0.001268   \n",
       "1   0.054997  0.031887     0.054372  0.088824 -0.003849   0.092673  -0.000919   \n",
       "\n",
       "   ...  imn_2020  ndmi_mean  ndmi_std  ndmi_median  ndmi_max  ndmi_min  \\\n",
       "0  ...  0.958491   0.023483  0.077874     0.009612  0.185504 -0.027486   \n",
       "1  ...  0.961536   0.006685  0.082761    -0.009015  0.166920 -0.040795   \n",
       "\n",
       "   ndmi_diff  ndmi_tend             ndvi_median_rango  Grado_Marg  \n",
       "0   0.212990  -0.000315  Suelo artificial/Agua/Piedra        Bajo  \n",
       "1   0.207715  -0.000125  Suelo artificial/Agua/Piedra        Bajo  \n",
       "\n",
       "[2 rows x 23 columns]"
      ]
     },
     "execution_count": 18,
     "metadata": {},
     "output_type": "execute_result"
    }
   ],
   "source": [
    "ndvi_ndmi_marg['Grado_Marg'] = np.nan\n",
    "ndvi_ndmi_marg.loc[ndvi_ndmi_marg.imn_2020>=0.966338 , 'Grado_Marg'] = 'Muy bajo'\n",
    "ndvi_ndmi_marg.loc[(ndvi_ndmi_marg.imn_2020>=0.946436 )&\n",
    "             (ndvi_ndmi_marg.imn_2020<0.966338), 'Grado_Marg'] = 'Bajo'\n",
    "ndvi_ndmi_marg.loc[(ndvi_ndmi_marg.imn_2020>=0.926536)&\n",
    "             (ndvi_ndmi_marg.imn_2020<0.946436), 'Grado_Marg'] = 'Medio'\n",
    "ndvi_ndmi_marg.loc[(ndvi_ndmi_marg.imn_2020>=0.8999)&\n",
    "             (ndvi_ndmi_marg.imn_2020<0.926536), 'Grado_Marg'] = 'Alto'\n",
    "ndvi_ndmi_marg.loc[(ndvi_ndmi_marg.imn_2020<0.8999), 'Grado_Marg'] = 'Muy Alto'\n",
    "\n",
    "categories = ['Muy Alto', 'Alto', 'Medio', 'Bajo', 'Muy bajo']\n",
    "ndvi_ndmi_marg['Grado_Marg'] = pd.Categorical(ndvi_ndmi_marg['Grado_Marg'], categories=categories, ordered=True)\n",
    "\n",
    "# Reviewing process\n",
    "print(ndvi_ndmi_marg.shape)\n",
    "ndvi_ndmi_marg.head(2)"
   ]
  },
  {
   "cell_type": "markdown",
   "id": "fbbe91bd-f05a-4b9f-9d6a-dcc831c70d85",
   "metadata": {},
   "source": [
    "## Data analysis 1 - Average min, mean, max data by marginalization group"
   ]
  },
  {
   "cell_type": "code",
   "execution_count": 20,
   "id": "110f4ecc-9139-43db-9ff6-66933b651148",
   "metadata": {
    "tags": []
   },
   "outputs": [
    {
     "data": {
      "text/html": [
       "<div>\n",
       "<style scoped>\n",
       "    .dataframe tbody tr th:only-of-type {\n",
       "        vertical-align: middle;\n",
       "    }\n",
       "\n",
       "    .dataframe tbody tr th {\n",
       "        vertical-align: top;\n",
       "    }\n",
       "\n",
       "    .dataframe thead th {\n",
       "        text-align: right;\n",
       "    }\n",
       "</style>\n",
       "<table border=\"1\" class=\"dataframe\">\n",
       "  <thead>\n",
       "    <tr style=\"text-align: right;\">\n",
       "      <th></th>\n",
       "      <th>ndvi_min</th>\n",
       "      <th>ndvi_mean</th>\n",
       "      <th>ndvi_max</th>\n",
       "      <th>ndmi_min</th>\n",
       "      <th>ndmi_mean</th>\n",
       "      <th>ndmi_max</th>\n",
       "    </tr>\n",
       "    <tr>\n",
       "      <th>Grado_Marg</th>\n",
       "      <th></th>\n",
       "      <th></th>\n",
       "      <th></th>\n",
       "      <th></th>\n",
       "      <th></th>\n",
       "      <th></th>\n",
       "    </tr>\n",
       "  </thead>\n",
       "  <tbody>\n",
       "    <tr>\n",
       "      <th>Muy Alto</th>\n",
       "      <td>0.039999</td>\n",
       "      <td>0.209018</td>\n",
       "      <td>0.376208</td>\n",
       "      <td>-0.108660</td>\n",
       "      <td>-0.009527</td>\n",
       "      <td>0.165715</td>\n",
       "    </tr>\n",
       "    <tr>\n",
       "      <th>Alto</th>\n",
       "      <td>0.037491</td>\n",
       "      <td>0.279495</td>\n",
       "      <td>0.470924</td>\n",
       "      <td>-0.104079</td>\n",
       "      <td>0.021025</td>\n",
       "      <td>0.211836</td>\n",
       "    </tr>\n",
       "    <tr>\n",
       "      <th>Medio</th>\n",
       "      <td>0.045605</td>\n",
       "      <td>0.228938</td>\n",
       "      <td>0.377378</td>\n",
       "      <td>-0.084530</td>\n",
       "      <td>0.014559</td>\n",
       "      <td>0.193175</td>\n",
       "    </tr>\n",
       "    <tr>\n",
       "      <th>Bajo</th>\n",
       "      <td>0.038042</td>\n",
       "      <td>0.207576</td>\n",
       "      <td>0.342798</td>\n",
       "      <td>-0.084312</td>\n",
       "      <td>0.010229</td>\n",
       "      <td>0.190418</td>\n",
       "    </tr>\n",
       "    <tr>\n",
       "      <th>Muy bajo</th>\n",
       "      <td>0.039758</td>\n",
       "      <td>0.212049</td>\n",
       "      <td>0.341964</td>\n",
       "      <td>-0.061363</td>\n",
       "      <td>0.028665</td>\n",
       "      <td>0.198022</td>\n",
       "    </tr>\n",
       "  </tbody>\n",
       "</table>\n",
       "</div>"
      ],
      "text/plain": [
       "            ndvi_min  ndvi_mean  ndvi_max  ndmi_min  ndmi_mean  ndmi_max\n",
       "Grado_Marg                                                              \n",
       "Muy Alto    0.039999   0.209018  0.376208 -0.108660  -0.009527  0.165715\n",
       "Alto        0.037491   0.279495  0.470924 -0.104079   0.021025  0.211836\n",
       "Medio       0.045605   0.228938  0.377378 -0.084530   0.014559  0.193175\n",
       "Bajo        0.038042   0.207576  0.342798 -0.084312   0.010229  0.190418\n",
       "Muy bajo    0.039758   0.212049  0.341964 -0.061363   0.028665  0.198022"
      ]
     },
     "execution_count": 20,
     "metadata": {},
     "output_type": "execute_result"
    }
   ],
   "source": [
    "marginalization_behaviour = ndvi_ndmi_marg.groupby('Grado_Marg').agg({'ndvi_min':np.mean,'ndvi_mean':np.mean,'ndvi_max':np.mean,\n",
    "                                                                      'ndmi_min':np.mean,'ndmi_mean':np.mean,'ndmi_max':np.mean})\n",
    "marginalization_behaviour"
   ]
  },
  {
   "cell_type": "code",
   "execution_count": 57,
   "id": "f778c199-12a3-4d66-8c0a-3cc357ed75a3",
   "metadata": {
    "tags": []
   },
   "outputs": [
    {
     "name": "stdout",
     "output_type": "stream",
     "text": [
      "(5, 6)\n"
     ]
    }
   ],
   "source": [
    "#Export to csv\n",
    "if csv_dataset:\n",
    "    csv_raster_dataset = marginalization_behaviour.copy()\n",
    "    #Show dataframe\n",
    "    print(csv_raster_dataset.shape)\n",
    "    csv_raster_dataset.head(2)\n",
    "    #Download dataframe\n",
    "    csv_raster_dataset.to_csv(\"../../../data/external/averagerasterdata_bymarg.csv\")"
   ]
  },
  {
   "cell_type": "markdown",
   "id": "6d3bf033-c234-444e-a12a-b86759eca574",
   "metadata": {},
   "source": [
    "## Data analysis 2 - Zones that may recieve irrigation within urban spaces and its relation with marginalization"
   ]
  },
  {
   "cell_type": "markdown",
   "id": "340ce43a-14fb-4acd-aba2-bd56f595b604",
   "metadata": {
    "tags": []
   },
   "source": [
    "NDVI filtering for places with vegetation"
   ]
  },
  {
   "cell_type": "code",
   "execution_count": 2,
   "id": "3ce18a5f-c985-42f6-ae5b-2520b0ff5496",
   "metadata": {
    "tags": []
   },
   "outputs": [
    {
     "ename": "NameError",
     "evalue": "name 'ndvi_ndmi_marg' is not defined",
     "output_type": "error",
     "traceback": [
      "\u001b[0;31m---------------------------------------------------------------------------\u001b[0m",
      "\u001b[0;31mNameError\u001b[0m                                 Traceback (most recent call last)",
      "Cell \u001b[0;32mIn[2], line 2\u001b[0m\n\u001b[1;32m      1\u001b[0m \u001b[38;5;66;03m#Keeping High-moderate-minimal vegetation density\u001b[39;00m\n\u001b[0;32m----> 2\u001b[0m data_withveg \u001b[38;5;241m=\u001b[39m \u001b[43mndvi_ndmi_marg\u001b[49m\u001b[38;5;241m.\u001b[39mloc[(ndvi_ndmi_marg\u001b[38;5;241m.\u001b[39mndvi_median_rango \u001b[38;5;241m==\u001b[39m \u001b[38;5;124m'\u001b[39m\u001b[38;5;124mAlta densidad vegetal\u001b[39m\u001b[38;5;124m'\u001b[39m) \u001b[38;5;241m|\u001b[39m\n\u001b[1;32m      3\u001b[0m                    (ndvi_ndmi_marg\u001b[38;5;241m.\u001b[39mndvi_median_rango \u001b[38;5;241m==\u001b[39m \u001b[38;5;124m'\u001b[39m\u001b[38;5;124mModerada densidad vegetal\u001b[39m\u001b[38;5;124m'\u001b[39m)\u001b[38;5;241m|\u001b[39m\n\u001b[1;32m      4\u001b[0m                    (ndvi_ndmi_marg\u001b[38;5;241m.\u001b[39mndvi_median_rango \u001b[38;5;241m==\u001b[39m \u001b[38;5;124m'\u001b[39m\u001b[38;5;124mMínima densidad vegetal\u001b[39m\u001b[38;5;124m'\u001b[39m)]\n\u001b[1;32m      6\u001b[0m \u001b[38;5;66;03m#Reviewing process\u001b[39;00m\n\u001b[1;32m      7\u001b[0m \u001b[38;5;28mprint\u001b[39m(data_withveg\u001b[38;5;241m.\u001b[39mshape)\n",
      "\u001b[0;31mNameError\u001b[0m: name 'ndvi_ndmi_marg' is not defined"
     ]
    }
   ],
   "source": [
    "#Keeping High-moderate-minimal vegetation density\n",
    "data_withveg = ndvi_ndmi_marg.loc[(ndvi_ndmi_marg.ndvi_median_rango == 'Alta densidad vegetal') |\n",
    "                   (ndvi_ndmi_marg.ndvi_median_rango == 'Moderada densidad vegetal')|\n",
    "                   (ndvi_ndmi_marg.ndvi_median_rango == 'Mínima densidad vegetal')]\n",
    "\n",
    "#Reviewing process\n",
    "print(data_withveg.shape)\n",
    "data_withveg.head(2)"
   ]
  },
  {
   "cell_type": "markdown",
   "id": "26596009-ce3b-46bd-83cb-9a40d71f7897",
   "metadata": {},
   "source": [
    "Visual correlation analyisis"
   ]
  },
  {
   "cell_type": "code",
   "execution_count": 3,
   "id": "1be34cab-51e9-4446-8530-35799e3105f3",
   "metadata": {
    "tags": []
   },
   "outputs": [
    {
     "ename": "NameError",
     "evalue": "name 'plt' is not defined",
     "output_type": "error",
     "traceback": [
      "\u001b[0;31m---------------------------------------------------------------------------\u001b[0m",
      "\u001b[0;31mNameError\u001b[0m                                 Traceback (most recent call last)",
      "Cell \u001b[0;32mIn[3], line 1\u001b[0m\n\u001b[0;32m----> 1\u001b[0m fig, ax \u001b[38;5;241m=\u001b[39m \u001b[43mplt\u001b[49m\u001b[38;5;241m.\u001b[39msubplots(\u001b[38;5;241m1\u001b[39m,\u001b[38;5;241m2\u001b[39m,figsize\u001b[38;5;241m=\u001b[39m(\u001b[38;5;241m12\u001b[39m,\u001b[38;5;241m6\u001b[39m))\n\u001b[1;32m      3\u001b[0m ndvi_ndmi_marg\u001b[38;5;241m.\u001b[39mplot(\u001b[38;5;124m'\u001b[39m\u001b[38;5;124mndvi_median_rango\u001b[39m\u001b[38;5;124m'\u001b[39m, \u001b[38;5;124m'\u001b[39m\u001b[38;5;124mYlGn\u001b[39m\u001b[38;5;124m'\u001b[39m, ax\u001b[38;5;241m=\u001b[39max[\u001b[38;5;241m0\u001b[39m], legend\u001b[38;5;241m=\u001b[39m\u001b[38;5;28;01mTrue\u001b[39;00m)\n\u001b[1;32m      4\u001b[0m data_withveg\u001b[38;5;241m.\u001b[39mplot(\u001b[38;5;124m'\u001b[39m\u001b[38;5;124mndmi_diff\u001b[39m\u001b[38;5;124m'\u001b[39m, \u001b[38;5;124m'\u001b[39m\u001b[38;5;124mviridis\u001b[39m\u001b[38;5;124m'\u001b[39m, ax\u001b[38;5;241m=\u001b[39max[\u001b[38;5;241m1\u001b[39m], legend\u001b[38;5;241m=\u001b[39m\u001b[38;5;28;01mTrue\u001b[39;00m)\n",
      "\u001b[0;31mNameError\u001b[0m: name 'plt' is not defined"
     ]
    }
   ],
   "source": [
    "fig, ax = plt.subplots(1,2,figsize=(12,6))\n",
    "\n",
    "ndvi_ndmi_marg.plot('ndvi_median_rango', 'YlGn', ax=ax[0], legend=True)\n",
    "data_withveg.plot('ndmi_diff', 'viridis', ax=ax[1], legend=True)\n",
    "\n",
    "ax[0].set_title('Índice de vegetación en {} (res {}).'.format(city,res))\n",
    "ax[1].set_title('ndmi_diff en {} (res 10).'.format(city))\n",
    "\n",
    "# ---------- Save Plot ----------\n",
    "if save_plots:\n",
    "    plt.savefig(\"../../../output/figures/ndvi_ndmi_marg_bycity/{}/ndmidiff_{}.svg\".format(city.lower(),city.lower()))"
   ]
  },
  {
   "cell_type": "code",
   "execution_count": null,
   "id": "8a0a7426-98b6-47a5-80c2-f64f86cae834",
   "metadata": {},
   "outputs": [],
   "source": []
  }
 ],
 "metadata": {
  "kernelspec": {
   "display_name": "Python 3 (ipykernel)",
   "language": "python",
   "name": "python3"
  },
  "language_info": {
   "codemirror_mode": {
    "name": "ipython",
    "version": 3
   },
   "file_extension": ".py",
   "mimetype": "text/x-python",
   "name": "python",
   "nbconvert_exporter": "python",
   "pygments_lexer": "ipython3",
   "version": "3.10.5"
  }
 },
 "nbformat": 4,
 "nbformat_minor": 5
}
