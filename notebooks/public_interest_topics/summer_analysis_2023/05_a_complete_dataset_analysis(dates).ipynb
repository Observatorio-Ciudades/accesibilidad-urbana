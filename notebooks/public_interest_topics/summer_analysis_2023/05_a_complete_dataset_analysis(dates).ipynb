{
 "cells": [
  {
   "cell_type": "markdown",
   "id": "7a10b0a8-5c95-41d2-9c2f-c926671d9ea2",
   "metadata": {
    "tags": []
   },
   "source": [
    "# Summer analysis 2023: Complete dataset analysis (dates)"
   ]
  },
  {
   "cell_type": "markdown",
   "id": "8458fa4f-ba2d-4a96-80d6-91513b68f429",
   "metadata": {},
   "source": [
    "This notebook analyses raster data {ndvi or ndmi} for a given city in a given resolution.\n",
    "Possible outputs include:\n",
    "* continous_behaviour: Continous (one single line throughout 5 years) behaviour graph\n",
    "* monthly_behaviour: Mnthly behaviour graph (one line for each year, x axis shows months) + main mean line + confidence interval\n",
    "* monthly_behaviour_smooth: Monthly behaviour graph (one line for each year, x axis shows months) + main LOWESS smoothed line + confidence interval\n",
    "* value_maps: Plot analysis data {ndvi or ndmi} on a {city} map by season considering {ndvi or ndmi} net values.\n",
    "    * winter = jan, feb, mar\n",
    "    * spring = apr, may, jun\n",
    "    * summer = jul, aug, sep\n",
    "    * fall = oct, nov, dec\n",
    "* categories_maps: Plot ndvi on a {city} map by season considering ndvi categories.\n",
    "    * winter = jan, feb, mar\n",
    "    * spring = apr, may, jun\n",
    "    * summer = jul, aug, sep\n",
    "    * fall = oct, nov, dec"
   ]
  },
  {
   "cell_type": "markdown",
   "id": "9dd65889-4847-4e46-b36f-0cf1826573fe",
   "metadata": {
    "tags": []
   },
   "source": [
    "Complete_{ndvi or ndmi}_data_hex structure:\n",
    "1. hex_id\n",
    "2. res\n",
    "3. {ndvi or ndmi}\n",
    "4. month = 1,2,3,4....\n",
    "5. year = 2018, 2019, 2020, 2021, 2022"
   ]
  },
  {
   "cell_type": "markdown",
   "id": "aa17cf37-5805-4ba7-80af-34afacb56007",
   "metadata": {},
   "source": [
    "## Import libraries"
   ]
  },
  {
   "cell_type": "code",
   "execution_count": 1,
   "id": "e8916b06-4acb-48f5-99cf-dbbecb84ecdb",
   "metadata": {
    "tags": []
   },
   "outputs": [
    {
     "name": "stderr",
     "output_type": "stream",
     "text": [
      "/usr/local/python/lib/python3.10/site-packages/osmnx/utils.py:192: UserWarning: The `utils.config` function is deprecated and will be removed in a future release. Instead, use the `settings` module directly to configure a global setting's value. For example, `ox.settings.log_console=True`.\n",
      "  warnings.warn(\n"
     ]
    }
   ],
   "source": [
    "import os\n",
    "import sys\n",
    "\n",
    "import pandas as pd\n",
    "import geopandas as gpd\n",
    "import numpy as np\n",
    "\n",
    "import matplotlib.pyplot as plt\n",
    "from matplotlib import colors\n",
    "import seaborn as sns\n",
    "\n",
    "from pandas.api.types import CategoricalDtype\n",
    "\n",
    "import warnings\n",
    "warnings.simplefilter(action='ignore', category=FutureWarning)\n",
    "\n",
    "module_path = os.path.abspath(os.path.join('../../../'))\n",
    "if module_path not in sys.path:\n",
    "    sys.path.append(module_path)\n",
    "    import aup"
   ]
  },
  {
   "cell_type": "code",
   "execution_count": 2,
   "id": "e40829d1-d0bc-496f-9f71-9c07f63acf6f",
   "metadata": {
    "tags": []
   },
   "outputs": [],
   "source": [
    "# Libraries for LOWESS\n",
    "#pip install statsmodels --upgrade\n",
    "\n",
    "# Libraries for LOWESS\n",
    "#pip install plotly\n",
    "\n",
    "# Libraries for LOWESS (Locally Weighted Scatterplot Smoothing) regression model\n",
    "# https://towardsdatascience.com/lowess-regression-in-python-how-to-discover-clear-patterns-in-your-data-f26e523d7a35\n",
    "# https://stackoverflow.com/questions/56283294/importerror-cannot-import-name-factorial\n",
    "import plotly.graph_objects as go # for data visualization\n",
    "import statsmodels.api as sm # to build a LOWESS model"
   ]
  },
  {
   "cell_type": "markdown",
   "id": "4295aff3-a9c2-4ee3-99a9-a43e21309dfb",
   "metadata": {},
   "source": [
    "## Config notebook"
   ]
  },
  {
   "cell_type": "code",
   "execution_count": 3,
   "id": "e4827719-2440-46db-b6c7-521ba90a5543",
   "metadata": {
    "tags": []
   },
   "outputs": [],
   "source": [
    "city = 'ZMVM'\n",
    "analysis_type = 'ndmi' #Only 'ndvi' or 'ndmi' possible\n",
    "res = 10"
   ]
  },
  {
   "cell_type": "code",
   "execution_count": 4,
   "id": "392eac35-9484-48bf-a335-f554fe5b8723",
   "metadata": {},
   "outputs": [],
   "source": [
    "#Export to output>figures>ndmi_ndmi_marg_bycity a .csv containing hex_id, res, ndvi, month, year, city, date, month_str, season?\n",
    "csv_dataset = False\n",
    "\n",
    "#Plot continous behaviour graph (one single line throughout 5 years)?\n",
    "continous_behaviour = True\n",
    "\n",
    "#Plot monthly behaviour graph (one line for each year, shows seasonal behaviour) + mean line?\n",
    "monthly_behaviour = True\n",
    "\n",
    "#Plot monthly behavour graph (one line for each year, shows seasonal behaviour) + LOWESS smoothed line?\n",
    "monthly_behaviour_smooth = True\n",
    "\n",
    "#Plot analysis data {ndvi or ndmi} on a {city} map by season?\n",
    "value_maps = True\n",
    "\n",
    "#Plot ndvi on a {city} map by season considering ndvi categories?\n",
    "categories_maps = True #NDVI only\n",
    "\n",
    "#Save all outputs (graphs and maps) in output > figures > ndvi_ndmi_marg_bycity > {city.lower()} (Must first create {city.lower()} folder)\n",
    "save_plots = True"
   ]
  },
  {
   "cell_type": "markdown",
   "id": "f353dd6b-97fa-4de4-8fee-e0384aaf09ee",
   "metadata": {
    "tags": []
   },
   "source": [
    "## Data download"
   ]
  },
  {
   "cell_type": "markdown",
   "id": "9cc96ca5-fa86-485a-8a28-edf2b2d7ee43",
   "metadata": {},
   "source": [
    "### Data download - Municipality polygons"
   ]
  },
  {
   "cell_type": "code",
   "execution_count": 5,
   "id": "24b01302-1592-450e-bc24-328208307c0f",
   "metadata": {
    "tags": []
   },
   "outputs": [
    {
     "name": "stdout",
     "output_type": "stream",
     "text": [
      "(75, 6)\n"
     ]
    },
    {
     "data": {
      "text/html": [
       "<div>\n",
       "<style scoped>\n",
       "    .dataframe tbody tr th:only-of-type {\n",
       "        vertical-align: middle;\n",
       "    }\n",
       "\n",
       "    .dataframe tbody tr th {\n",
       "        vertical-align: top;\n",
       "    }\n",
       "\n",
       "    .dataframe thead th {\n",
       "        text-align: right;\n",
       "    }\n",
       "</style>\n",
       "<table border=\"1\" class=\"dataframe\">\n",
       "  <thead>\n",
       "    <tr style=\"text-align: right;\">\n",
       "      <th></th>\n",
       "      <th>CVEGEO</th>\n",
       "      <th>CVE_ENT</th>\n",
       "      <th>CVE_MUN</th>\n",
       "      <th>NOMGEO</th>\n",
       "      <th>geometry</th>\n",
       "      <th>city</th>\n",
       "    </tr>\n",
       "  </thead>\n",
       "  <tbody>\n",
       "    <tr>\n",
       "      <th>0</th>\n",
       "      <td>09002</td>\n",
       "      <td>09</td>\n",
       "      <td>002</td>\n",
       "      <td>Azcapotzalco</td>\n",
       "      <td>POLYGON ((-99.18231 19.50748, -99.18229 19.507...</td>\n",
       "      <td>ZMVM</td>\n",
       "    </tr>\n",
       "    <tr>\n",
       "      <th>1</th>\n",
       "      <td>09003</td>\n",
       "      <td>09</td>\n",
       "      <td>003</td>\n",
       "      <td>Coyoacán</td>\n",
       "      <td>POLYGON ((-99.13427 19.35654, -99.13397 19.356...</td>\n",
       "      <td>ZMVM</td>\n",
       "    </tr>\n",
       "  </tbody>\n",
       "</table>\n",
       "</div>"
      ],
      "text/plain": [
       "  CVEGEO CVE_ENT CVE_MUN        NOMGEO  \\\n",
       "0  09002      09     002  Azcapotzalco   \n",
       "1  09003      09     003      Coyoacán   \n",
       "\n",
       "                                            geometry  city  \n",
       "0  POLYGON ((-99.18231 19.50748, -99.18229 19.507...  ZMVM  \n",
       "1  POLYGON ((-99.13427 19.35654, -99.13397 19.356...  ZMVM  "
      ]
     },
     "execution_count": 5,
     "metadata": {},
     "output_type": "execute_result"
    }
   ],
   "source": [
    "mun_schema = 'metropolis'\n",
    "mun_table = 'metro_gdf'\n",
    "\n",
    "query = f\"SELECT * FROM {mun_schema}.{mun_table} WHERE \\\"city\\\" LIKE \\'{city}\\'\"\n",
    "mun_gdf = aup.gdf_from_query(query, geometry_col='geometry')\n",
    "\n",
    "print(mun_gdf.shape)\n",
    "mun_gdf.head(2)"
   ]
  },
  {
   "cell_type": "markdown",
   "id": "77882d4e-127a-480a-9966-0a7301177c43",
   "metadata": {},
   "source": [
    "### Data download - Hex grid"
   ]
  },
  {
   "cell_type": "code",
   "execution_count": 6,
   "id": "7dfc8a8d-165d-418b-917e-b87817c8a8ff",
   "metadata": {
    "tags": []
   },
   "outputs": [
    {
     "data": {
      "text/plain": [
       "['09002',\n",
       " '09003',\n",
       " '09004',\n",
       " '09005',\n",
       " '09006',\n",
       " '09007',\n",
       " '09008',\n",
       " '09009',\n",
       " '09010',\n",
       " '09011',\n",
       " '09012',\n",
       " '09013',\n",
       " '09014',\n",
       " '09015',\n",
       " '09016',\n",
       " '09017',\n",
       " '13069',\n",
       " '15002',\n",
       " '15009',\n",
       " '15010',\n",
       " '15011',\n",
       " '15013',\n",
       " '15015',\n",
       " '15016',\n",
       " '15017',\n",
       " '15020',\n",
       " '15022',\n",
       " '15023',\n",
       " '15024',\n",
       " '15025',\n",
       " '15028',\n",
       " '15029',\n",
       " '15030',\n",
       " '15031',\n",
       " '15033',\n",
       " '15034',\n",
       " '15035',\n",
       " '15036',\n",
       " '15037',\n",
       " '15038',\n",
       " '15039',\n",
       " '15044',\n",
       " '15046',\n",
       " '15050',\n",
       " '15053',\n",
       " '15057',\n",
       " '15058',\n",
       " '15059',\n",
       " '15060',\n",
       " '15061',\n",
       " '15065',\n",
       " '15068',\n",
       " '15069',\n",
       " '15070',\n",
       " '15075',\n",
       " '15081',\n",
       " '15083',\n",
       " '15084',\n",
       " '15089',\n",
       " '15091',\n",
       " '15092',\n",
       " '15093',\n",
       " '15094',\n",
       " '15096',\n",
       " '15099',\n",
       " '15100',\n",
       " '15103',\n",
       " '15104',\n",
       " '15108',\n",
       " '15109',\n",
       " '15112',\n",
       " '15120',\n",
       " '15121',\n",
       " '15122',\n",
       " '15125']"
      ]
     },
     "execution_count": 6,
     "metadata": {},
     "output_type": "execute_result"
    }
   ],
   "source": [
    "if city = 'ZMVM':\n",
    "    cvegeo_list = ['09002','09003','09004','09005','09006','09007','09008','09009','09010','09011','09012','09013','09014','09015','09016','09017']\n",
    "else:\n",
    "    cvegeo_list = list(mun_gdf.loc[mun_gdf.city==city][\"CVEGEO\"].unique())\n",
    "cvegeo_list"
   ]
  },
  {
   "cell_type": "code",
   "execution_count": null,
   "id": "2e24bbca-1736-4233-9c78-b2bd3273dbe2",
   "metadata": {
    "tags": []
   },
   "outputs": [
    {
     "name": "stderr",
     "output_type": "stream",
     "text": [
      "Exception during reset or similar\n",
      "Traceback (most recent call last):\n",
      "  File \"/usr/local/python/lib/python3.10/site-packages/sqlalchemy/pool/base.py\", line 991, in _finalize_fairy\n",
      "    fairy._reset(\n",
      "  File \"/usr/local/python/lib/python3.10/site-packages/sqlalchemy/pool/base.py\", line 1440, in _reset\n",
      "    pool._dialect.do_rollback(self)\n",
      "  File \"/usr/local/python/lib/python3.10/site-packages/sqlalchemy/engine/default.py\", line 657, in do_rollback\n",
      "    dbapi_connection.rollback()\n",
      "psycopg2.OperationalError: server closed the connection unexpectedly\n",
      "\tThis probably means the server terminated abnormally\n",
      "\tbefore or while processing the request.\n",
      "\n",
      "Exception during reset or similar\n",
      "Traceback (most recent call last):\n",
      "  File \"/usr/local/python/lib/python3.10/site-packages/sqlalchemy/pool/base.py\", line 991, in _finalize_fairy\n",
      "    fairy._reset(\n",
      "  File \"/usr/local/python/lib/python3.10/site-packages/sqlalchemy/pool/base.py\", line 1440, in _reset\n",
      "    pool._dialect.do_rollback(self)\n",
      "  File \"/usr/local/python/lib/python3.10/site-packages/sqlalchemy/engine/default.py\", line 657, in do_rollback\n",
      "    dbapi_connection.rollback()\n",
      "psycopg2.OperationalError: server closed the connection unexpectedly\n",
      "\tThis probably means the server terminated abnormally\n",
      "\tbefore or while processing the request.\n",
      "\n",
      "Exception during reset or similar\n",
      "Traceback (most recent call last):\n",
      "  File \"/usr/local/python/lib/python3.10/site-packages/sqlalchemy/pool/base.py\", line 991, in _finalize_fairy\n",
      "    fairy._reset(\n",
      "  File \"/usr/local/python/lib/python3.10/site-packages/sqlalchemy/pool/base.py\", line 1440, in _reset\n",
      "    pool._dialect.do_rollback(self)\n",
      "  File \"/usr/local/python/lib/python3.10/site-packages/sqlalchemy/engine/default.py\", line 657, in do_rollback\n",
      "    dbapi_connection.rollback()\n",
      "psycopg2.OperationalError: server closed the connection unexpectedly\n",
      "\tThis probably means the server terminated abnormally\n",
      "\tbefore or while processing the request.\n",
      "\n"
     ]
    }
   ],
   "source": [
    "# donwload hexagons\n",
    "hex_grid = gpd.GeoDataFrame()\n",
    "hex_grid_schema = 'hexgrid'\n",
    "hex_grid_table = 'hexgrid_{}_city'.format(res)\n",
    "\n",
    "# Iterates over municipality codes for each metropolitan area or capital\n",
    "for cvegeo in cvegeo_list:\n",
    "    # Downloads municipality polygon according to code\n",
    "    query = f\"SELECT * FROM {hex_grid_schema}.{hex_grid_table} WHERE \\\"CVEGEO\\\" LIKE \\'{cvegeo}%%\\'\"\n",
    "    hex_tmp = aup.gdf_from_query(query, geometry_col='geometry')\n",
    "    hex_grid = pd.concat([hex_grid, hex_tmp],\n",
    "    ignore_index = True, axis = 0)\n",
    "print(hex_grid.shape)\n",
    "hex_grid.head(2)"
   ]
  },
  {
   "cell_type": "markdown",
   "id": "4c371118-1b57-4447-857f-61a897013235",
   "metadata": {},
   "source": [
    "### Data download - Raster Analysis Data"
   ]
  },
  {
   "cell_type": "code",
   "execution_count": null,
   "id": "44d8c3d1-f108-4601-b25f-f6b210388e6d",
   "metadata": {},
   "outputs": [],
   "source": [
    "# Finds hex_id codes from hex_grid\n",
    "hex_ids = str(tuple(list(hex_grid[\"hex_id_{}\".format(res)].unique())))\n",
    "\n",
    "# Info to query\n",
    "raster_schema = 'raster_analysis'\n",
    "raster_folder = '{}_complete_dataset_hex'.format(analysis_type)\n",
    "\n",
    "query = f\"SELECT * FROM {raster_schema}.{raster_folder} WHERE \\\"hex_id\\\" IN {hex_ids}\"\n",
    "raster_dataset = aup.df_from_query(query)\n",
    "\n",
    "print(raster_dataset.shape)\n",
    "raster_dataset.head(2)"
   ]
  },
  {
   "cell_type": "code",
   "execution_count": null,
   "id": "136ad094-757b-496f-8942-3e1ab65ede11",
   "metadata": {
    "tags": []
   },
   "outputs": [],
   "source": [
    "# Info to query\n",
    "#raster_schema = 'raster_analysis'\n",
    "#raster_folder = '{}_complete_dataset_hex'.format(analysis_type)\n",
    "\n",
    "# Query\n",
    "#query = f\"SELECT * FROM {raster_schema}.{raster_folder} WHERE \\\"city\\\" LIKE \\'{city}\\' AND \\\"res\\\"={res}\"\n",
    "#raster_dataset = aup.df_from_query(query)\n",
    "\n",
    "#print(raster_dataset.shape)\n",
    "#raster_dataset.head(2)"
   ]
  },
  {
   "cell_type": "markdown",
   "id": "1c1a1f4c-38fb-40e3-85fa-d14eee68d52a",
   "metadata": {
    "tags": []
   },
   "source": [
    "## Data treatment"
   ]
  },
  {
   "cell_type": "markdown",
   "id": "a9f7b3a7-3542-4797-b01c-434e3171b68a",
   "metadata": {},
   "source": [
    "Data treatment - Create datetime data"
   ]
  },
  {
   "cell_type": "code",
   "execution_count": null,
   "id": "b6cd64c9-284e-4794-b97b-97ac2c494f23",
   "metadata": {
    "tags": []
   },
   "outputs": [],
   "source": [
    "#Creates datetime data by adding month (string) + / + year (string)\n",
    "raster_dataset['date'] = pd.to_datetime(raster_dataset['month'].astype(str) + '/' + raster_dataset['year'].astype(str))\n",
    "\n",
    "#Strips the day, leaving month and year\n",
    "raster_dataset['date'] = raster_dataset['date'].apply(lambda x: x.strftime('%Y-%m'))\n",
    "\n",
    "#Show dataframe\n",
    "print(raster_dataset.shape)\n",
    "raster_dataset.head(2)"
   ]
  },
  {
   "cell_type": "markdown",
   "id": "f9bb9d90-a89a-4c80-8ee2-52ee14bd9c1a",
   "metadata": {
    "tags": []
   },
   "source": [
    "Data treatment - Name months"
   ]
  },
  {
   "cell_type": "code",
   "execution_count": null,
   "id": "fc15bee2-3448-4277-ba2c-d0789acefcb1",
   "metadata": {
    "tags": []
   },
   "outputs": [],
   "source": [
    "def name_month(month):\n",
    "    if (month == 1):\n",
    "        return 'jan'\n",
    "    elif (month == 2):\n",
    "        return 'feb'\n",
    "    elif (month == 3):\n",
    "        return 'mar'\n",
    "    elif (month == 4):\n",
    "        return 'apr'\n",
    "    elif (month == 5):\n",
    "        return 'may'\n",
    "    elif (month == 6):\n",
    "        return 'jun'\n",
    "    elif (month == 7):\n",
    "        return 'jul'\n",
    "    elif (month == 8):\n",
    "        return 'aug'\n",
    "    elif (month == 9):\n",
    "        return 'sep'\n",
    "    elif (month == 10):\n",
    "        return 'oct'\n",
    "    elif (month == 11):\n",
    "        return 'nov'\n",
    "    elif (month == 12):\n",
    "        return 'dec'\n",
    "    else:\n",
    "          return \"N/A\"\n",
    "\n",
    "raster_dataset['month_str'] = raster_dataset['month'].apply(lambda x: name_month(x))\n",
    "    \n",
    "# Ordering months chronologically\n",
    "categories = ['jan', 'feb', 'mar', 'apr', 'may', 'jun', 'jul','aug', 'sep', 'oct', 'nov', 'dec']\n",
    "raster_dataset['month_str'] = pd.Categorical(raster_dataset['month_str'], categories=categories, ordered=True)\n",
    "\n",
    "#Show dataframe\n",
    "print(raster_dataset.shape)\n",
    "raster_dataset.head(2)"
   ]
  },
  {
   "cell_type": "markdown",
   "id": "6bbe1e5d-9d81-47db-98ba-8d16265df7b0",
   "metadata": {},
   "source": [
    "Data treatment - Create season data"
   ]
  },
  {
   "cell_type": "code",
   "execution_count": null,
   "id": "206451da-6fbe-43de-9e06-79cc302a2838",
   "metadata": {
    "tags": []
   },
   "outputs": [],
   "source": [
    "def find_season(month):\n",
    "    if (month == 1) or (month == 2) or (month == 3):\n",
    "        return \"winter\"\n",
    "    elif (month == 4) or (month == 5) or (month == 6):\n",
    "        return \"spring\"\n",
    "    elif (month == 7) or (month == 8) or (month == 9):\n",
    "        return \"summer\"\n",
    "    elif (month == 10) or (month == 11) or (month == 12):\n",
    "        return \"fall\"\n",
    "    else:\n",
    "          return \"N/A\"\n",
    "\n",
    "raster_dataset['season'] = raster_dataset['month'].apply(lambda x: find_season(x))\n",
    "\n",
    "# Ordering seasons chronologically\n",
    "categories = ['winter', 'spring', 'summer', 'fall']\n",
    "raster_dataset['season'] = pd.Categorical(raster_dataset['season'], categories=categories, ordered=True)\n",
    "\n",
    "#Show dataframe\n",
    "print(raster_dataset.shape)\n",
    "raster_dataset.head(2)"
   ]
  },
  {
   "cell_type": "markdown",
   "id": "06e6d20c-ad70-4b6c-9917-2901f35cb89a",
   "metadata": {},
   "source": [
    "Clean data dropping NaNs, if any"
   ]
  },
  {
   "cell_type": "code",
   "execution_count": null,
   "id": "01a76ba3-34cc-4220-9d62-d9c3aa1d02b9",
   "metadata": {
    "tags": []
   },
   "outputs": [],
   "source": [
    "raster_dataset = raster_dataset.dropna()\n",
    "\n",
    "#Show dataframe\n",
    "print(raster_dataset.shape)\n",
    "raster_dataset.head(2)"
   ]
  },
  {
   "cell_type": "markdown",
   "id": "15dd9150-4734-40c2-9248-eddd2c4bdf3d",
   "metadata": {},
   "source": [
    "### Export complete dataset csv"
   ]
  },
  {
   "cell_type": "code",
   "execution_count": null,
   "id": "9189c9de-96d2-455d-a2c0-ea4920ed39d1",
   "metadata": {
    "tags": []
   },
   "outputs": [],
   "source": [
    "if csv_dataset:\n",
    "    csv_raster_dataset = raster_dataset.copy()\n",
    "    \n",
    "    #Solo año 2022\n",
    "    #mave_raster_dataset = mave_raster_dataset.loc[mave_raster_dataset.year==2022]\n",
    "    \n",
    "    #Show dataframe\n",
    "    print(csv_raster_dataset.shape)\n",
    "    csv_raster_dataset.head(2)\n",
    "\n",
    "    #Download dataframe\n",
    "    csv_raster_dataset.to_csv(\"../../../output/figures/ndvi_ndmi_marg_bycity/{}/complete{}_{}_withdates\".format(city.lower(),analysis_type,city.lower()))"
   ]
  },
  {
   "cell_type": "markdown",
   "id": "a70c0cfb-64d7-4894-b766-cf9656932d22",
   "metadata": {},
   "source": [
    "## Data analysis"
   ]
  },
  {
   "cell_type": "markdown",
   "id": "7811ecf1-ce76-4d0a-b21a-0f5e505246c4",
   "metadata": {
    "tags": []
   },
   "source": [
    "### Data analysis - Graph one continuous behaviour"
   ]
  },
  {
   "cell_type": "markdown",
   "id": "dead3080-9cae-4ce7-b175-cd11963e4fef",
   "metadata": {},
   "source": [
    "Group by date"
   ]
  },
  {
   "cell_type": "code",
   "execution_count": null,
   "id": "18378fd3-ca2e-42a0-92c8-277a4c99627d",
   "metadata": {
    "tags": []
   },
   "outputs": [],
   "source": [
    "mean_bydate = raster_dataset.groupby('date').agg({analysis_type:np.mean})\n",
    "mean_bydate.head(2)"
   ]
  },
  {
   "cell_type": "markdown",
   "id": "0116bd30-e857-4a52-b31b-8bb6511a8158",
   "metadata": {
    "tags": []
   },
   "source": [
    "Plot continuous behaviour"
   ]
  },
  {
   "cell_type": "code",
   "execution_count": null,
   "id": "774adc7e-7c2e-4a82-acf1-d085316258e6",
   "metadata": {
    "tags": []
   },
   "outputs": [],
   "source": [
    "if continous_behaviour:\n",
    "    # ---------- Plot ----------\n",
    "    plt.figure(figsize=(10,5))\n",
    "    plt.plot(mean_bydate, '-', color = 'darkgreen',linewidth = 1);\n",
    "\n",
    "    # ---------- Format ----------\n",
    "    # Format - Titles\n",
    "    plt.title('{} behaviour in {} 2018 - 2022'.format(analysis_type,city))\n",
    "    plt.xlabel('Date')\n",
    "    plt.ylabel('Average {}'.format(analysis_type))\n",
    "\n",
    "    # Format - x ticks\n",
    "    x = plt.gca().xaxis\n",
    "    for item in x.get_ticklabels():\n",
    "        item.set_rotation(90)\n",
    "        item.set_size(7)\n",
    "\n",
    "    # Format - y ticks\n",
    "    y = plt.gca().yaxis\n",
    "    for item in y.get_ticklabels():\n",
    "        item.set_size(7)\n",
    "\n",
    "    # ---------- Save Plot ----------\n",
    "    if save_plots:\n",
    "        plt.savefig(\"../../../output/figures/ndvi_ndmi_marg_bycity/{}/{}/{}_continuous_2018-2022_{}.svg\".format(city.lower(),analysis_type,analysis_type,city.lower()))"
   ]
  },
  {
   "cell_type": "markdown",
   "id": "95b39671-3180-48f6-919f-3dbf9b096a78",
   "metadata": {
    "tags": []
   },
   "source": [
    "### Data analysis - Graph monthly behaviour"
   ]
  },
  {
   "cell_type": "code",
   "execution_count": null,
   "id": "69271168-7e38-4c91-ba15-0612b6bca93a",
   "metadata": {
    "tags": []
   },
   "outputs": [],
   "source": [
    "#Show dataframe\n",
    "print(raster_dataset.shape)\n",
    "raster_dataset.head(2)"
   ]
  },
  {
   "cell_type": "code",
   "execution_count": null,
   "id": "4bc47abd-c82a-423a-9af9-af429c71ea03",
   "metadata": {
    "tags": []
   },
   "outputs": [],
   "source": [
    "if monthly_behaviour:\n",
    "    # ---------- Plotting whole data by month (main line) ----------\n",
    "    # DATA\n",
    "    complete_bymonth = raster_dataset.groupby('month').agg({analysis_type:np.mean,'month':np.mean})\n",
    "\n",
    "    # ------- DATA AND CONFIDENCE INTERVAL PLOT -------\n",
    "    #Confidence interval data\n",
    "    x = complete_bymonth.month\n",
    "    y = complete_bymonth['{}'.format(analysis_type)]\n",
    "    ci = 1.96 * np.std(y)/np.sqrt(len(x))\n",
    "\n",
    "    #Plot\n",
    "    fig, ax = plt.subplots()\n",
    "    ax.plot(x,y, color = 'darkgreen')\n",
    "    ax.fill_between(x, (y-ci), (y+ci), color='darkgreen', alpha=.1)\n",
    "\n",
    "    # ---------- MONTHLY DATA (dotted lines) ----------\n",
    "\n",
    "    # Find all data years\n",
    "    available_years = list(raster_dataset['year'].unique())\n",
    "\n",
    "    #Iterate over each year\n",
    "    for current_year in available_years:\n",
    "        #Isolating df\n",
    "        current_raster_dataset = raster_dataset.loc[(raster_dataset.year == current_year)]\n",
    "        #Grouping by month    \n",
    "        data_bymonth = current_raster_dataset.groupby('month').agg({analysis_type:np.mean})\n",
    "        #Plotting\n",
    "        plt.plot(data_bymonth, '--', linewidth = 0.5, label=current_year);\n",
    "\n",
    "\n",
    "    # ---------- FORMAT ----------\n",
    "    # Format - Titles\n",
    "    plt.title('{} behaviour in {} 2018 - 2022 by year'.format(analysis_type,city))\n",
    "    plt.xlabel('Month')\n",
    "    plt.ylabel('Average {}'.format(analysis_type))\n",
    "\n",
    "    # Format - x ticks\n",
    "    # Tag all 12 months\n",
    "    plt.xticks(np.arange(0, 13))\n",
    "    # Rotate ticks\n",
    "    x = plt.gca().xaxis\n",
    "    for item in x.get_ticklabels():\n",
    "        item.set_rotation(90)\n",
    "        item.set_size(7)\n",
    "\n",
    "    # Format - y ticks\n",
    "    y = plt.gca().yaxis\n",
    "    for item in y.get_ticklabels():\n",
    "        item.set_size(7)\n",
    "\n",
    "    # Format - Legend\n",
    "    plt.legend(frameon=False,\n",
    "               loc=1, \n",
    "               fontsize = 7)\n",
    "\n",
    "    # ---------- Save Plot ----------\n",
    "    if save_plots:\n",
    "        plt.savefig(\"../../../output/figures/ndvi_ndmi_marg_bycity/{}/{}/{}_monthly_{}.svg\".format(city.lower(),analysis_type,analysis_type,city.lower()))"
   ]
  },
  {
   "cell_type": "code",
   "execution_count": null,
   "id": "766c9198-8cae-40c3-b044-cc11369d81ec",
   "metadata": {
    "tags": []
   },
   "outputs": [],
   "source": [
    "if monthly_behaviour_smooth:\n",
    "    # ---------- Plotting whole data by month (main line) ----------\n",
    "    # DATA\n",
    "    complete_bymonth = raster_dataset.groupby('month').agg({analysis_type:np.mean,'month':np.mean})\n",
    "\n",
    "    # ------- CONFIDENCE INTERVAL PLOT -------\n",
    "    #Confidence interval data\n",
    "    x = complete_bymonth.month\n",
    "    y = complete_bymonth['{}'.format(analysis_type)]\n",
    "    ci = 1.96 * np.std(y)/np.sqrt(len(x))\n",
    "\n",
    "    #Plot\n",
    "    fig, ax = plt.subplots()\n",
    "    #regular, mean plot\n",
    "    #ax.plot(x,y, color = 'darkgreen')\n",
    "    ax.fill_between(x, (y-ci), (y+ci), color='darkgreen', alpha=.1)\n",
    "\n",
    "    # ------- LOWESS PLOT -------\n",
    "    x = np.array(x)\n",
    "    y = np.array(y)\n",
    "\n",
    "    smoothed = sm.nonparametric.lowess(exog=x, endog=y, frac= 3/8) #fracc is the fraction of the data used when estimating each y-value. Default is 0.1\n",
    "    plt.plot(smoothed[:, 0], smoothed[:, 1],color='darkgreen')\n",
    "\n",
    "    # ---------- MONTHLY DATA (dotted lines) ----------\n",
    "\n",
    "    # Find all data years\n",
    "    available_years = list(raster_dataset['year'].unique())\n",
    "\n",
    "    #Iterate over each year\n",
    "    for current_year in available_years:\n",
    "        #Isolating df\n",
    "        current_raster_dataset = raster_dataset.loc[(raster_dataset.year == current_year)]\n",
    "        #Grouping by month    \n",
    "        data_bymonth = current_raster_dataset.groupby('month').agg({analysis_type:np.mean})\n",
    "        #Plotting\n",
    "        plt.plot(data_bymonth, '--', linewidth = 0.5, label=current_year);\n",
    "\n",
    "    # ---------- FORMAT ----------\n",
    "    # Format - Titles\n",
    "    plt.title('{} behaviour in {} 2018 - 2022 by year'.format(analysis_type,city))\n",
    "    plt.xlabel('Month')\n",
    "    plt.ylabel('Average {}'.format(analysis_type))\n",
    "\n",
    "    # Format - x ticks\n",
    "    # Tag all 12 months\n",
    "    plt.xticks(np.arange(0, 13))\n",
    "    # Rotate ticks\n",
    "    x = plt.gca().xaxis\n",
    "    for item in x.get_ticklabels():\n",
    "        item.set_rotation(90)\n",
    "        item.set_size(7)\n",
    "\n",
    "    # Format - y ticks\n",
    "    y = plt.gca().yaxis\n",
    "    for item in y.get_ticklabels():\n",
    "        item.set_size(7)\n",
    "\n",
    "    # Format - Legend\n",
    "    plt.legend(frameon=False,\n",
    "               loc=1, \n",
    "               fontsize = 7)\n",
    "\n",
    "    # ---------- Save Plot ----------\n",
    "    if save_plots:\n",
    "        plt.savefig(\"../../../output/figures/ndvi_ndmi_marg_bycity/{}/{}/{}_monthly_smoothed_{}.svg\".format(city.lower(),analysis_type,analysis_type,city.lower()))"
   ]
  },
  {
   "cell_type": "markdown",
   "id": "6f23e150-ea68-4ea7-8f1e-6d65ee042a5e",
   "metadata": {},
   "source": [
    "### Data analysis - Maps"
   ]
  },
  {
   "cell_type": "markdown",
   "id": "fee3abec-b6a3-4d47-b882-419f3fbc3b28",
   "metadata": {},
   "source": [
    "Show dataframe and available unique hex_ids"
   ]
  },
  {
   "cell_type": "code",
   "execution_count": null,
   "id": "93f31afc-82db-446c-ae49-357dc3d403b6",
   "metadata": {
    "tags": []
   },
   "outputs": [],
   "source": [
    "#Show dataframe\n",
    "print(raster_dataset.shape)\n",
    "\n",
    "available_hexids = list(raster_dataset['hex_id'].unique())\n",
    "print(len(available_hexids))\n",
    "\n",
    "raster_dataset.head(2)"
   ]
  },
  {
   "cell_type": "code",
   "execution_count": null,
   "id": "0b85166a-1675-4a70-9971-b0a4da90e35d",
   "metadata": {
    "tags": []
   },
   "outputs": [],
   "source": [
    "if analysis_type == 'ndvi':\n",
    "    divnorm=colors.TwoSlopeNorm(vmin=-0.2, vcenter=0.2, vmax=0.6)\n",
    "    colorpalette = 'PiYG'\n",
    "else:\n",
    "    divnorm=colors.TwoSlopeNorm(vmin=-0.2, vcenter=0, vmax=0.2)\n",
    "    colorpalette = 'BrBG'"
   ]
  },
  {
   "cell_type": "markdown",
   "id": "38dcccf2-af86-46dc-b43b-5b43c2463dee",
   "metadata": {},
   "source": [
    "Create maps by season considering net analyis values"
   ]
  },
  {
   "cell_type": "code",
   "execution_count": null,
   "id": "ae1c55b0-668d-4155-b068-9f804f225d40",
   "metadata": {
    "tags": []
   },
   "outputs": [],
   "source": [
    "if value_maps:\n",
    "    #Iterate over each season\n",
    "    seasons = ['winter', 'spring', 'summer', 'fall']\n",
    "\n",
    "    for current_season in seasons:\n",
    "        # ---------- Isolate seasonal data ----------\n",
    "        #Isolate df\n",
    "        current_raster_dataset = raster_dataset.loc[(raster_dataset.season == current_season)]\n",
    "\n",
    "        #Group by hex id    \n",
    "        current_analysis = current_raster_dataset.groupby('hex_id').agg({analysis_type:np.mean})\n",
    "        current_analysis = current_analysis.reset_index()\n",
    "\n",
    "        #Join with geometry\n",
    "        current_analysis_hex = pd.merge(current_analysis, hex_grid, left_on='hex_id', right_on='hex_id_{}'.format(res))\n",
    "\n",
    "        #GeoDataFrame Format\n",
    "        current_analysis_hex = gpd.GeoDataFrame(current_analysis_hex, geometry='geometry')\n",
    "        current_analysis_hex = current_analysis_hex.drop(columns = ['hex_id_{}'.format(res), 'CVEGEO'])\n",
    "        current_analysis_hex = current_analysis_hex.rename(columns = {'metropolis': 'city'})\n",
    "\n",
    "\n",
    "        # ---------- Plot seasonal data ----------\n",
    "        current_analysis_hex.plot('{}'.format(analysis_type), colorpalette, legend=True, norm=divnorm) #vmin= minvalue, vmax = maxvalue\n",
    "\n",
    "        # ---------- Format ----------\n",
    "        # Format - Titles\n",
    "        plt.title('{} behaviour in {} on {} (res{})'.format(analysis_type,city,current_season,res))\n",
    "\n",
    "        #Check\n",
    "        #average = np.mean(current_analysis_hex.ndmi)\n",
    "        #print(average)\n",
    "\n",
    "        # ---------- Save Plot ----------\n",
    "        if save_plots:\n",
    "            plt.savefig(\"../../../output/figures/ndvi_ndmi_marg_bycity/{}/{}/{}values_{}_{}.svg\".format(city.lower(),analysis_type,analysis_type,current_season,city.lower()))"
   ]
  },
  {
   "cell_type": "markdown",
   "id": "4ec20be4-2e79-4cad-a0b6-67d5ec0501c3",
   "metadata": {
    "tags": []
   },
   "source": [
    "If analysis_type = ndvi, Create maps by season considering categorized ndvi"
   ]
  },
  {
   "cell_type": "code",
   "execution_count": null,
   "id": "f0f822fd-ea7a-46b3-b9bf-dc8aca9dcf59",
   "metadata": {
    "tags": []
   },
   "outputs": [],
   "source": [
    "if categories_maps and (analysis_type == 'ndvi'):\n",
    "    #Iterate over each season\n",
    "    seasons = ['winter', 'spring', 'summer', 'fall']\n",
    "\n",
    "    for current_season in seasons:\n",
    "        # ---------- Isolate seasonal data ----------\n",
    "        #Isolate df\n",
    "        current_raster_dataset = raster_dataset.loc[(raster_dataset.season == current_season)]\n",
    "\n",
    "        #Group by hex id    \n",
    "        current_analysis = current_raster_dataset.groupby('hex_id').agg({analysis_type:np.mean})\n",
    "        current_analysis = current_analysis.reset_index()\n",
    "\n",
    "        #Join with geometry\n",
    "        current_analysis_hex = pd.merge(current_analysis, hex_grid, left_on='hex_id', right_on='hex_id_{}'.format(res))\n",
    "\n",
    "        #GeoDataFrame Format\n",
    "        current_analysis_hex = gpd.GeoDataFrame(current_analysis_hex, geometry='geometry')\n",
    "        current_analysis_hex = current_analysis_hex.drop(columns = ['hex_id_{}'.format(res), 'CVEGEO'])\n",
    "        current_analysis_hex = current_analysis_hex.rename(columns = {'metropolis': 'city'})\n",
    "\n",
    "        # ---------- Plot seasonal NDVI data ----------\n",
    "        # Creating vegetation categories\n",
    "        current_analysis_hex['nvdi_category'] = np.nan\n",
    "        current_analysis_hex.loc[current_analysis_hex.ndvi>=0.7 , 'ndvi_category'] = '> 0.7'\n",
    "        current_analysis_hex.loc[(current_analysis_hex.ndvi>=0.6 )&\n",
    "                     (current_analysis_hex.ndvi<0.7), 'ndvi_category'] = '0.6 - 0.7'      \n",
    "        current_analysis_hex.loc[(current_analysis_hex.ndvi>=0.4)&\n",
    "                     (current_analysis_hex.ndvi<0.6), 'ndvi_category'] = '0.4 - 0.6'              \n",
    "        current_analysis_hex.loc[(current_analysis_hex.ndvi>=0.2)&\n",
    "                     (current_analysis_hex.ndvi<0.4), 'ndvi_category'] = '0.2 - 0.4'        \n",
    "        current_analysis_hex.loc[(current_analysis_hex.ndvi>=0.1)&\n",
    "                     (current_analysis_hex.ndvi<0.2), 'ndvi_category'] = '0.1 - 0.2'\n",
    "        current_analysis_hex.loc[(current_analysis_hex.ndvi>=0)&\n",
    "                     (current_analysis_hex.ndvi<0.1), 'ndvi_category'] = '0.0 - 0.1'\n",
    "        current_analysis_hex.loc[(current_analysis_hex.ndvi<0), 'ndvi_category'] = '< 0.0'\n",
    "\n",
    "        # Ordering data\n",
    "        categories = ['< 0.0', '0.0 - 0.1', '0.1 - 0.2', '0.2 - 0.4', '0.4 - 0.6', '0.6 - 0.7', '> 0.7']\n",
    "        current_analysis_hex['ndvi_category'] = pd.Categorical(current_analysis_hex['ndvi_category'], categories=categories, ordered=True)\n",
    "\n",
    "        # Plot categories\n",
    "        current_analysis_hex.plot('ndvi_category',colorpalette, legend=True,\n",
    "                                 legend_kwds={'fontsize':5,'loc':'lower right'})\n",
    "\n",
    "        # ---------- Format ----------\n",
    "        # Format - Titles\n",
    "        plt.title('{} behaviour in {} on {} (res{})'.format(analysis_type,city,current_season,res))\n",
    "\n",
    "        # ---------- Save Plot ----------\n",
    "        if save_plots:\n",
    "            plt.savefig(\"../../../output/figures/ndvi_ndmi_marg_bycity/{}/{}/{}categories_{}_{}.svg\".format(city.lower(),analysis_type,analysis_type,current_season,city.lower()))"
   ]
  },
  {
   "cell_type": "code",
   "execution_count": null,
   "id": "2fbffa0a-2bf8-40ac-8dbe-f67f771660c0",
   "metadata": {},
   "outputs": [],
   "source": []
  }
 ],
 "metadata": {
  "kernelspec": {
   "display_name": "Python 3 (ipykernel)",
   "language": "python",
   "name": "python3"
  },
  "language_info": {
   "codemirror_mode": {
    "name": "ipython",
    "version": 3
   },
   "file_extension": ".py",
   "mimetype": "text/x-python",
   "name": "python",
   "nbconvert_exporter": "python",
   "pygments_lexer": "ipython3",
   "version": "3.10.5"
  }
 },
 "nbformat": 4,
 "nbformat_minor": 5
}
