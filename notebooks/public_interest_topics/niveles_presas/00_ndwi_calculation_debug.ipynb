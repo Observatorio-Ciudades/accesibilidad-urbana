{
 "cells": [
  {
   "cell_type": "markdown",
   "id": "23d3cfc4-fc86-4003-828e-656a95c43a26",
   "metadata": {},
   "source": [
    "# NDWI Analysis - NL dams"
   ]
  },
  {
   "cell_type": "markdown",
   "id": "c7ffbd39-8dcf-4567-9182-54bd758e6cfa",
   "metadata": {},
   "source": [
    "( Description )"
   ]
  },
  {
   "cell_type": "markdown",
   "id": "e1f6a4d3-556d-43bb-a972-db85c2bf5304",
   "metadata": {},
   "source": [
    "## Import libraries"
   ]
  },
  {
   "cell_type": "code",
   "execution_count": 1,
   "id": "bc03a5eb-24dc-453c-916d-de35c47bbcb8",
   "metadata": {
    "tags": []
   },
   "outputs": [
    {
     "name": "stdout",
     "output_type": "stream",
     "text": [
      "Requirement already satisfied: pymannkendall in /usr/local/python/lib/python3.10/site-packages (1.4.3)\n",
      "Requirement already satisfied: numpy in /usr/local/python/lib/python3.10/site-packages (from pymannkendall) (1.24.2)\n",
      "Requirement already satisfied: scipy in /usr/local/python/lib/python3.10/site-packages (from pymannkendall) (1.10.1)\n",
      "\u001b[33mWARNING: Running pip as the 'root' user can result in broken permissions and conflicting behaviour with the system package manager. It is recommended to use a virtual environment instead: https://pip.pypa.io/warnings/venv\u001b[0m\u001b[33m\n",
      "\u001b[0m\n",
      "\u001b[1m[\u001b[0m\u001b[34;49mnotice\u001b[0m\u001b[1;39;49m]\u001b[0m\u001b[39;49m A new release of pip is available: \u001b[0m\u001b[31;49m23.0.1\u001b[0m\u001b[39;49m -> \u001b[0m\u001b[32;49m23.2.1\u001b[0m\n",
      "\u001b[1m[\u001b[0m\u001b[34;49mnotice\u001b[0m\u001b[1;39;49m]\u001b[0m\u001b[39;49m To update, run: \u001b[0m\u001b[32;49mpip3.10 install --upgrade pip\u001b[0m\n",
      "Note: you may need to restart the kernel to use updated packages.\n"
     ]
    }
   ],
   "source": [
    "pip install pymannkendall"
   ]
  },
  {
   "cell_type": "code",
   "execution_count": 2,
   "id": "dd994660-28b2-4c81-bf9a-522b3ab534bf",
   "metadata": {
    "tags": []
   },
   "outputs": [
    {
     "name": "stdout",
     "output_type": "stream",
     "text": [
      "Requirement already satisfied: pandarallel in /usr/local/python/lib/python3.10/site-packages (1.6.5)\n",
      "Requirement already satisfied: dill>=0.3.1 in /usr/local/python/lib/python3.10/site-packages (from pandarallel) (0.3.7)\n",
      "Requirement already satisfied: pandas>=1 in /usr/local/python/lib/python3.10/site-packages (from pandarallel) (1.5.3)\n",
      "Requirement already satisfied: psutil in /usr/local/python/lib/python3.10/site-packages (from pandarallel) (5.9.4)\n",
      "Requirement already satisfied: numpy>=1.21.0 in /usr/local/python/lib/python3.10/site-packages (from pandas>=1->pandarallel) (1.24.2)\n",
      "Requirement already satisfied: pytz>=2020.1 in /usr/local/python/lib/python3.10/site-packages (from pandas>=1->pandarallel) (2023.2)\n",
      "Requirement already satisfied: python-dateutil>=2.8.1 in /usr/local/python/lib/python3.10/site-packages (from pandas>=1->pandarallel) (2.8.2)\n",
      "Requirement already satisfied: six>=1.5 in /usr/local/python/lib/python3.10/site-packages (from python-dateutil>=2.8.1->pandas>=1->pandarallel) (1.16.0)\n",
      "\u001b[33mWARNING: Running pip as the 'root' user can result in broken permissions and conflicting behaviour with the system package manager. It is recommended to use a virtual environment instead: https://pip.pypa.io/warnings/venv\u001b[0m\u001b[33m\n",
      "\u001b[0m\n",
      "\u001b[1m[\u001b[0m\u001b[34;49mnotice\u001b[0m\u001b[1;39;49m]\u001b[0m\u001b[39;49m A new release of pip is available: \u001b[0m\u001b[31;49m23.0.1\u001b[0m\u001b[39;49m -> \u001b[0m\u001b[32;49m23.2.1\u001b[0m\n",
      "\u001b[1m[\u001b[0m\u001b[34;49mnotice\u001b[0m\u001b[1;39;49m]\u001b[0m\u001b[39;49m To update, run: \u001b[0m\u001b[32;49mpip3.10 install --upgrade pip\u001b[0m\n",
      "Note: you may need to restart the kernel to use updated packages.\n"
     ]
    }
   ],
   "source": [
    "pip install pandarallel"
   ]
  },
  {
   "cell_type": "code",
   "execution_count": 1,
   "id": "8a6175a0-a75a-429f-b4e7-5409c8264973",
   "metadata": {},
   "outputs": [
    {
     "name": "stderr",
     "output_type": "stream",
     "text": [
      "/usr/local/python/lib/python3.10/site-packages/osmnx/utils.py:192: UserWarning: The `utils.config` function is deprecated and will be removed in a future release. Instead, use the `settings` module directly to configure a global setting's value. For example, `ox.settings.log_console=True`.\n",
      "  warnings.warn(\n"
     ]
    }
   ],
   "source": [
    "from pystac_client import Client\n",
    "from pystac.extensions.eo import EOExtension as eo\n",
    "import planetary_computer as pc\n",
    "import geopandas as gpd\n",
    "import h3\n",
    "import pandas as pd\n",
    "\n",
    "import rasterio\n",
    "from rasterio import windows\n",
    "from rasterio import features\n",
    "from rasterio import warp\n",
    "import rasterio.mask\n",
    "from rasterio.enums import Resampling\n",
    "from rasterio.merge import merge\n",
    "\n",
    "import numpy as np\n",
    "from PIL import Image\n",
    "\n",
    "import matplotlib.pyplot as plt\n",
    "\n",
    "from shapely.geometry import Point\n",
    "\n",
    "from tqdm import tqdm\n",
    "\n",
    "import os\n",
    "import sys\n",
    "module_path = os.path.abspath(os.path.join('../../../'))\n",
    "if module_path not in sys.path:\n",
    "    sys.path.append(module_path)\n",
    "    import aup"
   ]
  },
  {
   "cell_type": "markdown",
   "id": "18b0cdea-8ab4-4288-952e-ecc2b9408d26",
   "metadata": {},
   "source": [
    "## Config notebook"
   ]
  },
  {
   "cell_type": "code",
   "execution_count": 2,
   "id": "42aa13f4-4755-494d-a4b2-9c0ae4c82227",
   "metadata": {
    "tags": []
   },
   "outputs": [],
   "source": [
    "# Set raster spectral bands and analysis equation\n",
    "band_name_dict = {'green':[False], #If GSD(resolution) of band is different, set True.\n",
    "                  'nir':[False], #If GSD(resolution) of band is different, set True.\n",
    "                  'eq':[\"(green-nir)/(green+nir)\"]}\n",
    "\n",
    "# Set analysis name\n",
    "index_analysis = 'ndwi'\n",
    "\n",
    "# Set directory to save analysed rasters\n",
    "tmp_dir = f'../../../data/processed/tmp_{index_analysis}/'\n",
    "\n",
    "# Set desired hex resolution\n",
    "res = [12]\n",
    "\n",
    "# Set frequency of search for rasters (MS = Month Start)\n",
    "freq = 'MS'\n",
    "\n",
    "# Set start and end date for search (Sentinel-2 2A has images since mids 2015)\n",
    "start_date = '2016-01-01'\n",
    "end_date = '2016-12-31'\n",
    "\n",
    "# Save?\n",
    "save = True # True\n",
    "\n",
    "# Del rasters after processing.\n",
    "del_data = False # True\n",
    "\n",
    "# city can be substituted by \"place\". (presa_laboca / presa_cerroprieto / presa_elcuchillo)\n",
    "city = 'presa_salinillas'\n",
    "\n",
    "#Set filter if necessary. Defaults to \"{}\". Example: No images with cloud cover avobe 10%: {\"eo:cloud_cover\": {\"lt\": 10}}\n",
    "query = {\"eo:cloud_cover\": {\"lt\": 10}}\n",
    "\n",
    "# Set satellite. Defaults to \"sentinel-2-l2a\"\n",
    "satellite = 'sentinel-2-l2a'"
   ]
  },
  {
   "cell_type": "markdown",
   "id": "72ffe3d9-4d65-4eee-930f-f56e85521d27",
   "metadata": {},
   "source": [
    "## Download data"
   ]
  },
  {
   "cell_type": "markdown",
   "id": "f2bcc506-8647-468d-aaa3-8649a15704af",
   "metadata": {},
   "source": [
    "### Download data - area of interest"
   ]
  },
  {
   "cell_type": "code",
   "execution_count": 3,
   "id": "3d67b692-90e3-4368-ab78-b82d338a5fa8",
   "metadata": {
    "tags": []
   },
   "outputs": [
    {
     "data": {
      "text/plain": [
       "<Axes: >"
      ]
     },
     "execution_count": 3,
     "metadata": {},
     "output_type": "execute_result"
    },
    {
     "data": {
      "image/png": "[encoded data removed]",
      "text/plain": [
       "<Figure size 640x480 with 1 Axes>"
      ]
     },
     "metadata": {},
     "output_type": "display_data"
    }
   ],
   "source": [
    "#Load data\n",
    "presa_original = gpd.read_file(\"../../../data/external/temporal_todocker/{}.gpkg\".format(city))\n",
    "presa_original.plot()"
   ]
  },
  {
   "cell_type": "markdown",
   "id": "dbb9b5f2-b02e-42b3-8ad2-2fe7f1a8a7c9",
   "metadata": {},
   "source": [
    "Area of interest treatment"
   ]
  },
  {
   "cell_type": "code",
   "execution_count": 4,
   "id": "bd90c4d3-0c55-4b21-887b-c71be996b219",
   "metadata": {
    "tags": []
   },
   "outputs": [
    {
     "name": "stdout",
     "output_type": "stream",
     "text": [
      "(1,)\n"
     ]
    },
    {
     "data": {
      "text/plain": [
       "0    POLYGON ((-100.39270 27.45322, -100.39224 27.4...\n",
       "Name: geometry, dtype: geometry"
      ]
     },
     "execution_count": 4,
     "metadata": {},
     "output_type": "execute_result"
    }
   ],
   "source": [
    "#Filter for relevant data\n",
    "columns_tokeep = ['Name','geometry']\n",
    "presa = presa_original[columns_tokeep]\n",
    "\n",
    "#Create buffer for dam geometry\n",
    "polygon = presa.to_crs(\"EPSG:6372\").buffer(500)\n",
    "polygon = polygon.to_crs(\"EPSG:4326\")\n",
    "polygon = gpd.GeoDataFrame(geometry=polygon).dissolve().geometry\n",
    "\n",
    "#Review result\n",
    "print(polygon.shape)\n",
    "polygon.head(2)"
   ]
  },
  {
   "cell_type": "markdown",
   "id": "c0678877-2a42-47ce-b884-da2f33c789f6",
   "metadata": {},
   "source": [
    "### Data download - Download and proccess rasters"
   ]
  },
  {
   "cell_type": "code",
   "execution_count": 5,
   "id": "821e4b68-439d-4e2a-b1f3-bc88bc8936f0",
   "metadata": {
    "tags": []
   },
   "outputs": [],
   "source": [
    "#download_raster_from_pc(gdf, index_analysis, city, freq, start_date, end_date, tmp_dir, band_name_dict, query={}, satellite=\"sentinel-2-l2a\"):\n",
    "#df_len = aup.download_raster_from_pc(polygon, index_analysis, city, freq, start_date, end_date, tmp_dir, band_name_dict, query = query, satellite = satellite)"
   ]
  },
  {
   "cell_type": "markdown",
   "id": "01d07c83-893b-407b-b919-c0370aed870d",
   "metadata": {
    "tags": []
   },
   "source": [
    "## Debug paso por paso"
   ]
  },
  {
   "cell_type": "code",
   "execution_count": 6,
   "id": "135879da-ae20-4872-b479-6ad7fda6129b",
   "metadata": {
    "tags": []
   },
   "outputs": [],
   "source": [
    "#download_raster_from_pc(gdf, index_analysis, city, freq, start_date, end_date, tmp_dir, band_name_dict, query={}, satellite=\"sentinel-2-l2a\"):\n",
    "gdf = polygon.copy()"
   ]
  },
  {
   "cell_type": "code",
   "execution_count": 8,
   "id": "aaff257d-2b64-46ab-8432-753c8935b46b",
   "metadata": {
    "tags": []
   },
   "outputs": [
    {
     "name": "stdout",
     "output_type": "stream",
     "text": [
      "1\n"
     ]
    }
   ],
   "source": [
    "poly = gdf.to_crs(\"EPSG:6372\").buffer(500)\n",
    "poly = poly.to_crs(\"EPSG:4326\")\n",
    "poly = gpd.GeoDataFrame(geometry=poly).dissolve().geometry\n",
    "\n",
    "# Extracts coordinates from polygon as DataFrame\n",
    "coord_val = poly.bounds\n",
    "# Gets coordinates for bounding box\n",
    "n = coord_val.maxy.max()\n",
    "s = coord_val.miny.min()\n",
    "e = coord_val.maxx.max()\n",
    "w = coord_val.minx.min()\n",
    "\n",
    "# Sets the coordinates for the area of interest\n",
    "area_of_interest = {\n",
    "    \"type\": \"Polygon\",\n",
    "    \"coordinates\": [\n",
    "        [\n",
    "            [e, s],\n",
    "            [w, s],\n",
    "            [w, n],\n",
    "            [e, n],\n",
    "            [e, s],\n",
    "        ]\n",
    "    ],\n",
    "}\n",
    "\n",
    "# create time of interest\n",
    "time_of_interest = aup.create_time_of_interest(start_date, end_date, freq=freq)\n",
    "\n",
    "# gathers items for time and area of interest\n",
    "items = aup.gather_items(time_of_interest, area_of_interest, query=query, satellite=satellite)\n",
    "\n",
    "date_list = aup.available_datasets(items, satellite)\n",
    "\n",
    "# create dictionary from links\n",
    "band_name_list = list(band_name_dict.keys())[:-1]\n",
    "assets_hrefs = aup.link_dict(band_name_list, items, date_list)\n",
    "\n",
    "# analyze available data according to raster properties\n",
    "df_len, missing_months = aup.df_date_links(assets_hrefs, start_date, end_date, \n",
    "                                       band_name_list, freq)\n",
    "aup.available_data_check(df_len, missing_months) # test for missing months\n",
    "\n",
    "print(missing_months)"
   ]
  },
  {
   "cell_type": "code",
   "execution_count": 9,
   "id": "988b1bbe-7873-477b-ae27-7f07ed400903",
   "metadata": {
    "tags": []
   },
   "outputs": [
    {
     "data": {
      "text/plain": [
       "8.0"
      ]
     },
     "execution_count": 9,
     "metadata": {},
     "output_type": "execute_result"
    }
   ],
   "source": [
    "# creates raster and analyzes percentage of missing data points\n",
    "df_len, missing_months = aup.df_date_links(assets_hrefs, start_date, end_date, \n",
    "                                       band_name_list, freq)\n",
    "pct_missing = round(missing_months/len(df_len),2)*100\n",
    "pct_missing"
   ]
  },
  {
   "cell_type": "code",
   "execution_count": 10,
   "id": "0c543bc4-740c-4b3b-a61b-f61fe6cb41fa",
   "metadata": {
    "tags": []
   },
   "outputs": [
    {
     "data": {
      "text/html": [
       "<div>\n",
       "<style scoped>\n",
       "    .dataframe tbody tr th:only-of-type {\n",
       "        vertical-align: middle;\n",
       "    }\n",
       "\n",
       "    .dataframe tbody tr th {\n",
       "        vertical-align: top;\n",
       "    }\n",
       "\n",
       "    .dataframe thead th {\n",
       "        text-align: right;\n",
       "    }\n",
       "</style>\n",
       "<table border=\"1\" class=\"dataframe\">\n",
       "  <thead>\n",
       "    <tr style=\"text-align: right;\">\n",
       "      <th></th>\n",
       "      <th>year</th>\n",
       "      <th>month</th>\n",
       "      <th>data_id</th>\n",
       "    </tr>\n",
       "  </thead>\n",
       "  <tbody>\n",
       "    <tr>\n",
       "      <th>0</th>\n",
       "      <td>2016</td>\n",
       "      <td>1</td>\n",
       "      <td>1</td>\n",
       "    </tr>\n",
       "    <tr>\n",
       "      <th>1</th>\n",
       "      <td>2016</td>\n",
       "      <td>2</td>\n",
       "      <td>1</td>\n",
       "    </tr>\n",
       "    <tr>\n",
       "      <th>2</th>\n",
       "      <td>2016</td>\n",
       "      <td>3</td>\n",
       "      <td>0</td>\n",
       "    </tr>\n",
       "    <tr>\n",
       "      <th>3</th>\n",
       "      <td>2016</td>\n",
       "      <td>4</td>\n",
       "      <td>1</td>\n",
       "    </tr>\n",
       "    <tr>\n",
       "      <th>4</th>\n",
       "      <td>2016</td>\n",
       "      <td>5</td>\n",
       "      <td>1</td>\n",
       "    </tr>\n",
       "    <tr>\n",
       "      <th>5</th>\n",
       "      <td>2016</td>\n",
       "      <td>6</td>\n",
       "      <td>1</td>\n",
       "    </tr>\n",
       "    <tr>\n",
       "      <th>6</th>\n",
       "      <td>2016</td>\n",
       "      <td>7</td>\n",
       "      <td>1</td>\n",
       "    </tr>\n",
       "    <tr>\n",
       "      <th>7</th>\n",
       "      <td>2016</td>\n",
       "      <td>8</td>\n",
       "      <td>1</td>\n",
       "    </tr>\n",
       "    <tr>\n",
       "      <th>8</th>\n",
       "      <td>2016</td>\n",
       "      <td>9</td>\n",
       "      <td>1</td>\n",
       "    </tr>\n",
       "    <tr>\n",
       "      <th>9</th>\n",
       "      <td>2016</td>\n",
       "      <td>10</td>\n",
       "      <td>1</td>\n",
       "    </tr>\n",
       "  </tbody>\n",
       "</table>\n",
       "</div>"
      ],
      "text/plain": [
       "   year  month  data_id\n",
       "0  2016      1        1\n",
       "1  2016      2        1\n",
       "2  2016      3        0\n",
       "3  2016      4        1\n",
       "4  2016      5        1\n",
       "5  2016      6        1\n",
       "6  2016      7        1\n",
       "7  2016      8        1\n",
       "8  2016      9        1\n",
       "9  2016     10        1"
      ]
     },
     "execution_count": 10,
     "metadata": {},
     "output_type": "execute_result"
    }
   ],
   "source": [
    "df_len.head(10)"
   ]
  },
  {
   "cell_type": "code",
   "execution_count": 11,
   "id": "6a7456ed-aa95-4e18-9171-d630e20d48a0",
   "metadata": {
    "tags": []
   },
   "outputs": [],
   "source": [
    "# raster cropping with bounding box from earlier\n",
    "bounding_box = gpd.GeoDataFrame(geometry=poly).envelope\n",
    "gdf_bb = gpd.GeoDataFrame(gpd.GeoSeries(bounding_box), columns=['geometry'])\n",
    "\n",
    "# create GeoDataFrame to test nan values in raster\n",
    "gdf_raster_test = gdf.to_crs(\"EPSG:6372\").buffer(1)\n",
    "gdf_raster_test = gdf_raster_test.to_crs(\"EPSG:4326\")\n",
    "gdf_raster_test = gpd.GeoDataFrame(geometry=gdf_raster_test).dissolve()"
   ]
  },
  {
   "cell_type": "code",
   "execution_count": 12,
   "id": "21ccb49d-edf1-440e-9d34-073ace01f902",
   "metadata": {
    "tags": []
   },
   "outputs": [
    {
     "name": "stderr",
     "output_type": "stream",
     "text": [
      " 33%|█████████████████████████████████████████████████████████▎                                                                                                                  | 4/12 [31:59<1:02:04, 465.53s/it]ERROR 1: TIFFFillTile:Read error at row 3584, col 3584, tile 206; got 0 bytes, expected 350887\n",
      "ERROR 1: TIFFReadEncodedTile() failed.\n",
      "ERROR 1: IReadBlock failed at X offset 8, Y offset 9: TIFFReadEncodedTile() failed.\n",
      " 58%|███████████████████████████████████████████████████████████████████████████████████████████████████▏                                                                      | 7/12 [1:16:20<1:03:23, 760.62s/it]ERROR 1: TIFFFillTile:Read error at row 2560, col 2560, tile 314; got 0 bytes, expected 370305\n",
      "ERROR 1: TIFFReadEncodedTile() failed.\n",
      "ERROR 1: IReadBlock failed at X offset 6, Y offset 14: TIFFReadEncodedTile() failed.\n",
      " 83%|██████████████████████████████████████████████████████████████████████████████████████████████████████████████████████████████████████████████▌                            | 10/12 [2:01:53<29:14, 877.34s/it]ERROR 1: TIFFFillTile:Read error at row 8192, col 8192, tile 237; got 0 bytes, expected 366652\n",
      "ERROR 1: TIFFReadEncodedTile() failed.\n",
      "ERROR 1: IReadBlock failed at X offset 17, Y offset 10: TIFFReadEncodedTile() failed.\n",
      "100%|███████████████████████████████████████████████████████████████████████████████████████████████████████████████████████████████████████████████████████████████████████████| 12/12 [2:30:37<00:00, 753.10s/it]\n"
     ]
    }
   ],
   "source": [
    "# download raster data by month\n",
    "df_len = aup.create_raster_by_month(\n",
    "    df_len, index_analysis, city, tmp_dir,\n",
    "    band_name_dict,date_list, gdf_raster_test,\n",
    "    gdf_bb, area_of_interest, satellite, query=query)"
   ]
  },
  {
   "cell_type": "code",
   "execution_count": 14,
   "id": "1aad574a-137d-4705-bb29-f3338a61b235",
   "metadata": {
    "tags": []
   },
   "outputs": [
    {
     "data": {
      "text/html": [
       "<div>\n",
       "<style scoped>\n",
       "    .dataframe tbody tr th:only-of-type {\n",
       "        vertical-align: middle;\n",
       "    }\n",
       "\n",
       "    .dataframe tbody tr th {\n",
       "        vertical-align: top;\n",
       "    }\n",
       "\n",
       "    .dataframe thead th {\n",
       "        text-align: right;\n",
       "    }\n",
       "</style>\n",
       "<table border=\"1\" class=\"dataframe\">\n",
       "  <thead>\n",
       "    <tr style=\"text-align: right;\">\n",
       "      <th></th>\n",
       "      <th>Unnamed: 0</th>\n",
       "      <th>year</th>\n",
       "      <th>month</th>\n",
       "      <th>data_id</th>\n",
       "      <th>able_to_download</th>\n",
       "    </tr>\n",
       "  </thead>\n",
       "  <tbody>\n",
       "    <tr>\n",
       "      <th>0</th>\n",
       "      <td>0</td>\n",
       "      <td>2016</td>\n",
       "      <td>1</td>\n",
       "      <td>0</td>\n",
       "      <td>0.0</td>\n",
       "    </tr>\n",
       "    <tr>\n",
       "      <th>1</th>\n",
       "      <td>1</td>\n",
       "      <td>2016</td>\n",
       "      <td>2</td>\n",
       "      <td>1</td>\n",
       "      <td>NaN</td>\n",
       "    </tr>\n",
       "    <tr>\n",
       "      <th>2</th>\n",
       "      <td>2</td>\n",
       "      <td>2016</td>\n",
       "      <td>3</td>\n",
       "      <td>0</td>\n",
       "      <td>NaN</td>\n",
       "    </tr>\n",
       "    <tr>\n",
       "      <th>3</th>\n",
       "      <td>3</td>\n",
       "      <td>2016</td>\n",
       "      <td>4</td>\n",
       "      <td>1</td>\n",
       "      <td>NaN</td>\n",
       "    </tr>\n",
       "    <tr>\n",
       "      <th>4</th>\n",
       "      <td>4</td>\n",
       "      <td>2016</td>\n",
       "      <td>5</td>\n",
       "      <td>0</td>\n",
       "      <td>0.0</td>\n",
       "    </tr>\n",
       "    <tr>\n",
       "      <th>5</th>\n",
       "      <td>5</td>\n",
       "      <td>2016</td>\n",
       "      <td>6</td>\n",
       "      <td>1</td>\n",
       "      <td>NaN</td>\n",
       "    </tr>\n",
       "    <tr>\n",
       "      <th>6</th>\n",
       "      <td>6</td>\n",
       "      <td>2016</td>\n",
       "      <td>7</td>\n",
       "      <td>1</td>\n",
       "      <td>NaN</td>\n",
       "    </tr>\n",
       "    <tr>\n",
       "      <th>7</th>\n",
       "      <td>7</td>\n",
       "      <td>2016</td>\n",
       "      <td>8</td>\n",
       "      <td>0</td>\n",
       "      <td>0.0</td>\n",
       "    </tr>\n",
       "    <tr>\n",
       "      <th>8</th>\n",
       "      <td>8</td>\n",
       "      <td>2016</td>\n",
       "      <td>9</td>\n",
       "      <td>1</td>\n",
       "      <td>NaN</td>\n",
       "    </tr>\n",
       "    <tr>\n",
       "      <th>9</th>\n",
       "      <td>9</td>\n",
       "      <td>2016</td>\n",
       "      <td>10</td>\n",
       "      <td>1</td>\n",
       "      <td>NaN</td>\n",
       "    </tr>\n",
       "    <tr>\n",
       "      <th>10</th>\n",
       "      <td>10</td>\n",
       "      <td>2016</td>\n",
       "      <td>11</td>\n",
       "      <td>0</td>\n",
       "      <td>0.0</td>\n",
       "    </tr>\n",
       "    <tr>\n",
       "      <th>11</th>\n",
       "      <td>11</td>\n",
       "      <td>2016</td>\n",
       "      <td>12</td>\n",
       "      <td>1</td>\n",
       "      <td>NaN</td>\n",
       "    </tr>\n",
       "    <tr>\n",
       "      <th>12</th>\n",
       "      <td>12</td>\n",
       "      <td>2017</td>\n",
       "      <td>1</td>\n",
       "      <td>0</td>\n",
       "      <td>NaN</td>\n",
       "    </tr>\n",
       "  </tbody>\n",
       "</table>\n",
       "</div>"
      ],
      "text/plain": [
       "    Unnamed: 0  year  month  data_id  able_to_download\n",
       "0            0  2016      1        0               0.0\n",
       "1            1  2016      2        1               NaN\n",
       "2            2  2016      3        0               NaN\n",
       "3            3  2016      4        1               NaN\n",
       "4            4  2016      5        0               0.0\n",
       "5            5  2016      6        1               NaN\n",
       "6            6  2016      7        1               NaN\n",
       "7            7  2016      8        0               0.0\n",
       "8            8  2016      9        1               NaN\n",
       "9            9  2016     10        1               NaN\n",
       "10          10  2016     11        0               0.0\n",
       "11          11  2016     12        1               NaN\n",
       "12          12  2017      1        0               NaN"
      ]
     },
     "execution_count": 14,
     "metadata": {},
     "output_type": "execute_result"
    }
   ],
   "source": [
    "df_len.head(13)"
   ]
  },
  {
   "cell_type": "markdown",
   "id": "4861612e-641c-4f74-a1f8-0af70cd77f44",
   "metadata": {},
   "source": [
    "### Inicia debug de Create raster by month"
   ]
  },
  {
   "cell_type": "code",
   "execution_count": 12,
   "id": "248b3753-a691-4cf3-9a04-aa8b83d98c15",
   "metadata": {
    "tags": []
   },
   "outputs": [],
   "source": [
    "df_len['able_to_download'] = np.nan\n",
    "band_name_list = list(band_name_dict.keys())[:-1]"
   ]
  },
  {
   "cell_type": "code",
   "execution_count": 14,
   "id": "82e5c74a-459b-4b99-a122-2db1854c606f",
   "metadata": {
    "tags": []
   },
   "outputs": [],
   "source": [
    "# check if file exists, for example in case of code crash\n",
    "df_file_dir = tmp_dir+index_analysis+f'_{city}_dataframe.csv'\n",
    "if os.path.exists(df_file_dir) == False: # Or folder, will return true or false\n",
    "    df_len.to_csv(df_file_dir)\n",
    "# create folder to store temporary raster files by iteration\n",
    "tmp_raster_dir = tmp_dir+'temporary_files/'\n",
    "if os.path.exists(tmp_raster_dir) == False: # Or folder, will return true or false\n",
    "    os.mkdir(tmp_raster_dir)"
   ]
  },
  {
   "cell_type": "code",
   "execution_count": 37,
   "id": "fec6a131-a9a5-4a3c-999f-b7fa1d8ea3f4",
   "metadata": {
    "tags": []
   },
   "outputs": [],
   "source": [
    "from tqdm import tqdm\n",
    "import rasterio\n",
    "from rasterio import windows\n",
    "from rasterio import features\n",
    "from rasterio import warp\n",
    "import rasterio.mask\n",
    "from rasterio.enums import Resampling\n",
    "from rasterio.merge import merge\n",
    "from rasterio.fill import fillnodata\n",
    "from pystac.extensions.eo import EOExtension as eo\n",
    "from datetime import datetime\n",
    "from dateutil.relativedelta import relativedelta\n",
    "import planetary_computer as pc\n",
    "from scipy import stats as st\n",
    "from rasterio.merge import merge\n",
    "import pandas as pd\n",
    "import numpy as np\n",
    "from func_timeout import func_timeout\n",
    "import pymannkendall as mk\n",
    "import scipy.ndimage as ndimage\n",
    "from pystac_client import Client\n",
    "from multiprocessing import Pool"
   ]
  },
  {
   "cell_type": "code",
   "execution_count": 41,
   "id": "ea7327e7-267b-4ea7-86a0-97649cc964e5",
   "metadata": {
    "tags": []
   },
   "outputs": [
    {
     "name": "stdout",
     "output_type": "stream",
     "text": [
      "\n",
      " Starting new analysis for 1/2016\n",
      "Mosaic date 16/1/2016 - iteration:1\n",
      "Error in iteration 1\n",
      "0\n",
      "Mosaic date 16/1/2016 - iteration:2\n",
      "Error in iteration 2\n",
      "0\n",
      "Mosaic date 16/1/2016 - iteration:3\n",
      "Error in iteration 3\n",
      "0\n",
      "Mosaic date 16/1/2016 - iteration:4\n",
      "Error in iteration 4\n",
      "0\n",
      "Mosaic date 16/1/2016 - iteration:5\n",
      "Error in iteration 5\n",
      "0\n"
     ]
    },
    {
     "ename": "SyntaxError",
     "evalue": "'return' outside function (3634007360.py, line 142)",
     "output_type": "error",
     "traceback": [
      "\u001b[0;36m  Cell \u001b[0;32mIn[41], line 142\u001b[0;36m\u001b[0m\n\u001b[0;31m    return df_len\u001b[0m\n\u001b[0m    ^\u001b[0m\n\u001b[0;31mSyntaxError\u001b[0m\u001b[0;31m:\u001b[0m 'return' outside function\n"
     ]
    }
   ],
   "source": [
    "aoi = area_of_interest\n",
    "sat = satellite\n",
    "time_exc_limit=1500\n",
    "\n",
    "trial_list = [0]\n",
    "\n",
    "#for i in tqdm(range(len(df_len)), position=0, leave=True):\n",
    "for i in trial_list:\n",
    "    \n",
    "    df_raster = pd.read_csv(df_file_dir, index_col=False)\n",
    "\n",
    "    # binary id - checks if month could be processed\n",
    "    checker = 0\n",
    "    \n",
    "    #--------------------------------------------------------------------SÍ SE PASA A LA SIGUIENTE FECHA SI EL DATA_ID==0\n",
    "    if df_raster.iloc[i].data_id==0:\n",
    "        continue\n",
    "       \n",
    "    # gather month and year from df to save ndmi\n",
    "    month_ = df_raster.loc[df_raster.index==i].month.values[0]\n",
    "    year_ = df_raster.loc[df_raster.index==i].year.values[0]\n",
    "\n",
    "    if f'{city}_{index_analysis}_{month_}_{year_}.tif' in os.listdir(tmp_dir):\n",
    "        continue\n",
    "\n",
    "    print(f'\\n Starting new analysis for {month_}/{year_}')\n",
    "    \n",
    "    # gather links for raster images\n",
    "    sample_date = datetime(year_, month_, 1)\n",
    "    first_day = sample_date + relativedelta(day=1)\n",
    "    last_day = sample_date + relativedelta(day=31)\n",
    "\n",
    "    # creates time range for a specific month\n",
    "    time_of_interest = [f\"{year_}-{month_:02d}-{first_day.day:02d}/{year_}\"+\n",
    "                        f\"-{month_:02d}-{last_day.day:02d}\"]\n",
    "    # gather links for the date range\n",
    "    items = aup.gather_items(time_of_interest, aoi, query=query, satellite=sat)\n",
    "\n",
    "    # gather links from dates that are within date_list\n",
    "    assets_hrefs = aup.link_dict(band_name_list, items, date_list)\n",
    "    # create dataframe\n",
    "    #df_links = pd.DataFrame.from_dict(assets_hrefs, \n",
    "    #                                orient='Index').reset_index().rename(columns={'index':'date'})\n",
    "\n",
    "    # dates according to cloud coverage\n",
    "    date_order = [True if (d.month == month_) and (d.year == year_) else False for d in date_list]\n",
    "    date_array = np.array(date_list)\n",
    "    date_filter = np.array(date_order)\n",
    "    dates_ordered = date_array[date_filter]\n",
    "\n",
    "    # mosaic raster\n",
    "\n",
    "    iter_count = 1\n",
    "\n",
    "    while iter_count <= 5:\n",
    "\n",
    "        # create skip date list used to analyze null values in raster\n",
    "        skip_date_list = []\n",
    "\n",
    "        #for data_link in range(len(df_links)):\n",
    "        for data_link in range(len(dates_ordered)):\n",
    "            print(f'Mosaic date {dates_ordered[data_link].day}'+\n",
    "                        f'/{dates_ordered[data_link].month}'+\n",
    "                        f'/{dates_ordered[data_link].year} - iteration:{iter_count}')\n",
    "\n",
    "            # check if date contains null values within study area\n",
    "            #if df_links.iloc[data_link]['date'] in skip_date_list:\n",
    "            if dates_ordered[data_link] in skip_date_list:\n",
    "                continue\n",
    "\n",
    "            try:\n",
    "                #links_band_1 = df_links.iloc[data_link][list(band_name_dict.keys())[0]]\n",
    "                #links_band_2 = df_links.iloc[data_link][list(band_name_dict.keys())[1]]\n",
    "                bands_links = assets_hrefs[dates_ordered[data_link]]\n",
    "\n",
    "                rasters_arrays = func_timeout(time_exc_limit, aup.mosaic_process_v2,\n",
    "                                                                            args=(bands_links,\n",
    "                                                                                  band_name_dict, gdf_bb, tmp_raster_dir))\n",
    "                out_meta = rasters_arrays[list(rasters_arrays.keys())[0]][2]\n",
    "\n",
    "                # calculate raster index\n",
    "                raster_idx = aup.calculate_raster_index(band_name_dict, rasters_arrays)\n",
    "                log(f'Calculated {index_analysis}')\n",
    "                del rasters_arrays\n",
    "\n",
    "                print(f'Starting interpolation')\n",
    "\n",
    "                raster_idx[raster_idx == 0 ] = np.nan # change zero values to nan\n",
    "                raster_idx = raster_idx.astype('float32') # change data type to float32 to avoid fillnodata error\n",
    "\n",
    "                print(f'Interpolating {np.isnan(raster_idx).sum()} nan values')\n",
    "                raster_fill = fillnodata(raster_idx, mask=~np.isnan(raster_idx),\n",
    "                                    max_search_distance=50, smoothing_iterations=0)\n",
    "                print(f'Finished interpolation to fill na - {np.isnan(raster_fill).sum()} nan')\n",
    "\n",
    "                with rasterio.open(f\"{tmp_raster_dir}{index_analysis}.tif\",'w', **out_meta) as dest:\n",
    "                        dest.write(raster_fill)\n",
    "\n",
    "                        dest.close()\n",
    "\n",
    "                print('Starting null test')\n",
    "\n",
    "                raster_file = rasterio.open(f\"{tmp_raster_dir}{index_analysis}.tif\")\n",
    "\n",
    "                gdf_raster_test = gdf_raster_test.to_crs(raster_file.crs)\n",
    "\n",
    "                try:\n",
    "                    # test for nan values within study area\n",
    "                    raster_nan_test(gdf_raster_test,raster_file)\n",
    "\n",
    "                    print('Passed null test')\n",
    "\n",
    "                    # save raster to processing database\n",
    "                    with rasterio.open(f\"{tmp_dir}{city}_{index_analysis}_{month_}_{year_}.tif\",'w', **out_meta) as dest:\n",
    "                        dest.write(raster_fill)\n",
    "\n",
    "                        dest.close()\n",
    "                    print(f'Finished saving {index_analysis} raster')\n",
    "\n",
    "                    checker = 1\n",
    "                    iter_count = 6\n",
    "                    aup.delete_files_from_folder(tmp_raster_dir)\n",
    "                    break\n",
    "                except:\n",
    "                    print('Failed null test')\n",
    "                    skip_date_list.append(assets_hrefs[list(assets_hrefs.keys())[data_link]])\n",
    "                    aup.delete_files_from_folder(tmp_raster_dir)\n",
    "\n",
    "            except:\n",
    "                print(f'Error in iteration {iter_count}')\n",
    "                aup.delete_files_from_folder(tmp_raster_dir)\n",
    "                print(checker)\n",
    "                continue\n",
    "        iter_count = iter_count + 1\n",
    "\n",
    "    if checker==0:\n",
    "        df_raster.loc[df_raster.index==i,'data_id']=0\n",
    "        df_raster.loc[df_raster.index==i,'able_to_download']=0\n",
    "        df_raster.to_csv(df_file_dir, index=False)\n",
    "        continue\n",
    "\n",
    "return df_len"
   ]
  },
  {
   "cell_type": "code",
   "execution_count": 42,
   "id": "d2bd15a4-cfa4-4b1c-a72c-c59e416a2cd8",
   "metadata": {
    "tags": []
   },
   "outputs": [
    {
     "data": {
      "text/html": [
       "<div>\n",
       "<style scoped>\n",
       "    .dataframe tbody tr th:only-of-type {\n",
       "        vertical-align: middle;\n",
       "    }\n",
       "\n",
       "    .dataframe tbody tr th {\n",
       "        vertical-align: top;\n",
       "    }\n",
       "\n",
       "    .dataframe thead th {\n",
       "        text-align: right;\n",
       "    }\n",
       "</style>\n",
       "<table border=\"1\" class=\"dataframe\">\n",
       "  <thead>\n",
       "    <tr style=\"text-align: right;\">\n",
       "      <th></th>\n",
       "      <th>Unnamed: 0</th>\n",
       "      <th>year</th>\n",
       "      <th>month</th>\n",
       "      <th>data_id</th>\n",
       "      <th>able_to_download</th>\n",
       "    </tr>\n",
       "  </thead>\n",
       "  <tbody>\n",
       "    <tr>\n",
       "      <th>0</th>\n",
       "      <td>0</td>\n",
       "      <td>2016</td>\n",
       "      <td>1</td>\n",
       "      <td>0</td>\n",
       "      <td>0.0</td>\n",
       "    </tr>\n",
       "    <tr>\n",
       "      <th>1</th>\n",
       "      <td>1</td>\n",
       "      <td>2016</td>\n",
       "      <td>2</td>\n",
       "      <td>1</td>\n",
       "      <td>NaN</td>\n",
       "    </tr>\n",
       "    <tr>\n",
       "      <th>2</th>\n",
       "      <td>2</td>\n",
       "      <td>2016</td>\n",
       "      <td>3</td>\n",
       "      <td>0</td>\n",
       "      <td>NaN</td>\n",
       "    </tr>\n",
       "    <tr>\n",
       "      <th>3</th>\n",
       "      <td>3</td>\n",
       "      <td>2016</td>\n",
       "      <td>4</td>\n",
       "      <td>1</td>\n",
       "      <td>NaN</td>\n",
       "    </tr>\n",
       "    <tr>\n",
       "      <th>4</th>\n",
       "      <td>4</td>\n",
       "      <td>2016</td>\n",
       "      <td>5</td>\n",
       "      <td>1</td>\n",
       "      <td>NaN</td>\n",
       "    </tr>\n",
       "    <tr>\n",
       "      <th>...</th>\n",
       "      <td>...</td>\n",
       "      <td>...</td>\n",
       "      <td>...</td>\n",
       "      <td>...</td>\n",
       "      <td>...</td>\n",
       "    </tr>\n",
       "    <tr>\n",
       "      <th>87</th>\n",
       "      <td>87</td>\n",
       "      <td>2023</td>\n",
       "      <td>4</td>\n",
       "      <td>1</td>\n",
       "      <td>NaN</td>\n",
       "    </tr>\n",
       "    <tr>\n",
       "      <th>88</th>\n",
       "      <td>88</td>\n",
       "      <td>2023</td>\n",
       "      <td>5</td>\n",
       "      <td>1</td>\n",
       "      <td>NaN</td>\n",
       "    </tr>\n",
       "    <tr>\n",
       "      <th>89</th>\n",
       "      <td>89</td>\n",
       "      <td>2023</td>\n",
       "      <td>6</td>\n",
       "      <td>1</td>\n",
       "      <td>NaN</td>\n",
       "    </tr>\n",
       "    <tr>\n",
       "      <th>90</th>\n",
       "      <td>90</td>\n",
       "      <td>2023</td>\n",
       "      <td>7</td>\n",
       "      <td>1</td>\n",
       "      <td>NaN</td>\n",
       "    </tr>\n",
       "    <tr>\n",
       "      <th>91</th>\n",
       "      <td>91</td>\n",
       "      <td>2023</td>\n",
       "      <td>8</td>\n",
       "      <td>1</td>\n",
       "      <td>NaN</td>\n",
       "    </tr>\n",
       "  </tbody>\n",
       "</table>\n",
       "<p>92 rows × 5 columns</p>\n",
       "</div>"
      ],
      "text/plain": [
       "    Unnamed: 0  year  month  data_id  able_to_download\n",
       "0            0  2016      1        0               0.0\n",
       "1            1  2016      2        1               NaN\n",
       "2            2  2016      3        0               NaN\n",
       "3            3  2016      4        1               NaN\n",
       "4            4  2016      5        1               NaN\n",
       "..         ...   ...    ...      ...               ...\n",
       "87          87  2023      4        1               NaN\n",
       "88          88  2023      5        1               NaN\n",
       "89          89  2023      6        1               NaN\n",
       "90          90  2023      7        1               NaN\n",
       "91          91  2023      8        1               NaN\n",
       "\n",
       "[92 rows x 5 columns]"
      ]
     },
     "execution_count": 42,
     "metadata": {},
     "output_type": "execute_result"
    }
   ],
   "source": [
    "df_raster"
   ]
  },
  {
   "cell_type": "markdown",
   "id": "7996ce47-43bc-4ccb-b857-110efc4cfe0d",
   "metadata": {},
   "source": [
    "### Termina debug de Create raster by month"
   ]
  },
  {
   "cell_type": "code",
   "execution_count": null,
   "id": "d432d61f-e39e-4fb5-a41b-d385f085e388",
   "metadata": {
    "tags": []
   },
   "outputs": [],
   "source": [
    "missing_months = len(df_len.loc[df_len.data_id==0])\n",
    "missing_months"
   ]
  },
  {
   "cell_type": "code",
   "execution_count": null,
   "id": "18004419-05c5-422b-a9be-d8c779e9f77e",
   "metadata": {
    "tags": []
   },
   "outputs": [],
   "source": [
    "df_len"
   ]
  },
  {
   "cell_type": "code",
   "execution_count": null,
   "id": "d7d290a0-3346-4727-8300-72ffa9bb3e66",
   "metadata": {
    "tags": []
   },
   "outputs": [],
   "source": [
    "#DEBUG STRATEGY ACCORDING TO ERROR IN aup.raster_interpolation: \n",
    "#Allow interpolation in not-found rasters.\n",
    "#------------------------------------PRESA EL CUCHILLO\n",
    "#df_len.loc[4,'data_id'] = 0 #05/2016\n",
    "#df_len.loc[10,'data_id'] = 0 #11/2016\n",
    "#df_len.loc[17,'data_id'] = 0 #6/2017\n",
    "#df_len.loc[24,'data_id'] = 0 #1/2018\n",
    "#df_len.loc[29,'data_id'] = 0 #6/2018\n",
    "#df_len.loc[39,'data_id'] = 0 #4/2019\n",
    "#df_len.loc[48,'data_id'] = 0 #1/2020\n",
    "#df_len.loc[81,'data_id'] = 0 #10/2022\n",
    "#------------------------------------PRESA LA BOCA\n",
    "#df_len.loc[87,'data_id'] = 0 #4/2023"
   ]
  },
  {
   "cell_type": "code",
   "execution_count": 16,
   "id": "c9a656b9-caa5-4f85-b14b-5a7dc1725297",
   "metadata": {
    "tags": []
   },
   "outputs": [],
   "source": [
    "df_len = aup.raster_interpolation(df_len, city, tmp_dir, index_analysis)"
   ]
  },
  {
   "cell_type": "code",
   "execution_count": 17,
   "id": "feec70f5-a072-46d4-8932-51521316f559",
   "metadata": {
    "tags": []
   },
   "outputs": [
    {
     "data": {
      "text/plain": [
       "0"
      ]
     },
     "execution_count": 17,
     "metadata": {},
     "output_type": "execute_result"
    }
   ],
   "source": [
    "missing_months = len(df_len.loc[df_len.data_id==0])\n",
    "missing_months"
   ]
  },
  {
   "cell_type": "markdown",
   "id": "021439b8-3608-44b9-aeaf-6b7b800b61b8",
   "metadata": {},
   "source": [
    "## End of debug"
   ]
  },
  {
   "cell_type": "markdown",
   "id": "fb440121-bcd9-4029-a122-cdeba9944a66",
   "metadata": {
    "tags": []
   },
   "source": [
    "### Data download - Create hexgrid from area of interest"
   ]
  },
  {
   "cell_type": "code",
   "execution_count": 6,
   "id": "4a5a3bcf-9c89-49f7-a48c-d88cef155620",
   "metadata": {
    "tags": []
   },
   "outputs": [
    {
     "name": "stdout",
     "output_type": "stream",
     "text": [
      "(132098, 3)\n"
     ]
    },
    {
     "data": {
      "text/html": [
       "<div>\n",
       "<style scoped>\n",
       "    .dataframe tbody tr th:only-of-type {\n",
       "        vertical-align: middle;\n",
       "    }\n",
       "\n",
       "    .dataframe tbody tr th {\n",
       "        vertical-align: top;\n",
       "    }\n",
       "\n",
       "    .dataframe thead th {\n",
       "        text-align: right;\n",
       "    }\n",
       "</style>\n",
       "<table border=\"1\" class=\"dataframe\">\n",
       "  <thead>\n",
       "    <tr style=\"text-align: right;\">\n",
       "      <th></th>\n",
       "      <th>hex_id</th>\n",
       "      <th>geometry</th>\n",
       "      <th>res</th>\n",
       "    </tr>\n",
       "  </thead>\n",
       "  <tbody>\n",
       "    <tr>\n",
       "      <th>0</th>\n",
       "      <td>8c48b5149d749ff</td>\n",
       "      <td>POLYGON ((-99.41748 24.90971, -99.41738 24.909...</td>\n",
       "      <td>12</td>\n",
       "    </tr>\n",
       "    <tr>\n",
       "      <th>1</th>\n",
       "      <td>8c48b5a9648c3ff</td>\n",
       "      <td>POLYGON ((-99.40471 24.94664, -99.40461 24.946...</td>\n",
       "      <td>12</td>\n",
       "    </tr>\n",
       "  </tbody>\n",
       "</table>\n",
       "</div>"
      ],
      "text/plain": [
       "            hex_id                                           geometry  res\n",
       "0  8c48b5149d749ff  POLYGON ((-99.41748 24.90971, -99.41738 24.909...   12\n",
       "1  8c48b5a9648c3ff  POLYGON ((-99.40471 24.94664, -99.40461 24.946...   12"
      ]
     },
     "execution_count": 6,
     "metadata": {},
     "output_type": "execute_result"
    }
   ],
   "source": [
    "hex_gdf = gpd.GeoDataFrame(polygon)\n",
    "hex_gdf['res'] = res[0]\n",
    "\n",
    "if len(res)>1:\n",
    "#If there is more than one resolution\n",
    "    for r in range(res[0]+1,res[-1]+1): #Skips res 8 because, originally, res 8 is already in original hex_gdf\n",
    "        hex_tmp = aup.create_hexgrid(polygon, r)\n",
    "        hex_tmp.rename(columns={f'hex_id_{r}':'hex_id'}, inplace=True)\n",
    "        hex_tmp['res'] = r\n",
    "        hex_gdf = pd.concat([hex_gdf, hex_tmp],ignore_index = True, axis = 0)\n",
    "        del hex_tmp\n",
    "\n",
    "#If there is only one resolution\n",
    "else:\n",
    "    hex_gdf = aup.create_hexgrid(hex_gdf, res[0])\n",
    "    hex_gdf.rename(columns={f'hex_id_{res[0]}':'hex_id'}, inplace=True)\n",
    "    hex_gdf['res'] = res[0]\n",
    "    \n",
    "#Show\n",
    "print(hex_gdf.shape)\n",
    "hex_gdf.head(2)"
   ]
  },
  {
   "cell_type": "markdown",
   "id": "d6071f02-a480-4a00-9922-53bd9bfe2671",
   "metadata": {
    "tags": []
   },
   "source": [
    "## Data processing"
   ]
  },
  {
   "cell_type": "markdown",
   "id": "03eb3ea9-11dd-47b1-a81b-91429262d9a0",
   "metadata": {},
   "source": [
    "### Data processing - Raster to hex"
   ]
  },
  {
   "cell_type": "code",
   "execution_count": 7,
   "id": "80693e2d-90ec-48e5-95ea-f159c02dee4f",
   "metadata": {
    "tags": []
   },
   "outputs": [],
   "source": [
    "def raster_to_hex_save(hex_gdf_i, df_len, index_analysis, tmp_dir, city, r, save, i=0):\n",
    "    hex_raster_analysis, df_raster_analysis = aup.raster_to_hex_analysis(hex_gdf_i, df_len, index_analysis,\n",
    "                                                                tmp_dir, city, r)\n",
    "\n",
    "    if save:\n",
    "        hex_raster_analysis.to_file(tmp_dir+'local_save/'+f'{city}_{index_analysis}_HexRes{r}_v{i}.geojson')\n",
    "        df_raster_analysis.to_csv(tmp_dir+'local_save/'+f'{city}_{index_analysis}_HexRes{r}_v{i}.csv')"
   ]
  },
  {
   "cell_type": "code",
   "execution_count": 35,
   "id": "9ddd5ddc-b5a9-4602-be25-7ba6fecc272e",
   "metadata": {
    "tags": []
   },
   "outputs": [
    {
     "name": "stderr",
     "output_type": "stream",
     "text": [
      "  0%|                                                                                                                                                                    | 0/8 [00:00<?, ?it/s]\n",
      " 12%|███████████████████▏                                                                                                                                     | 1/8 [11:31<1:20:38, 691.24s/it]\u001b[A\n",
      "\n",
      "  0%|                                                                                                                                                                   | 0/12 [11:31<?, ?it/s]\u001b[A\u001b[A\n",
      " 25%|██████████████████████████████████████▎                                                                                                                  | 2/8 [23:11<1:09:37, 696.28s/it]\n",
      "  0%|                                                                                                                                                                   | 0/12 [11:39<?, ?it/s]/12 [00:00<?, ?it/s]\u001b[A\n",
      " 38%|██████████████████████████████████████████████████████████▏                                                                                                | 3/8 [35:29<59:37, 715.50s/it]\n",
      "\n",
      "  0%|                                                                                                                                                                                       | 0/12 [12:18<?, ?it/s]\u001b[A\u001b[A\n",
      " 50%|█████████████████████████████████████████████████████████████████████████████▌                                                                             | 4/8 [46:41<46:33, 698.36s/it]\n",
      "  0%|                                                                                                                                                                                       | 0/12 [11:12<?, ?it/s]\u001b[A\n",
      " 62%|███████████████████████████████████████████████████████████████████████████████████████████████▋                                                         | 5/8 [1:10:54<48:31, 970.41s/it]\n",
      "\n",
      "  0%|                                                                                                                                                                                       | 0/12 [24:13<?, ?it/s]\u001b[A\u001b[A\n",
      " 75%|██████████████████████████████████████████████████████████████████████████████████████████████████████████████████▊                                      | 6/8 [1:27:47<32:50, 985.10s/it]\n",
      "  0%|                                                                                                                                                                                       | 0/12 [16:53<?, ?it/s]\u001b[A\n",
      " 88%|█████████████████████████████████████████████████████████████████████████████████████████████████████████████████████████████████████▉                   | 7/8 [1:39:03<14:43, 883.76s/it]\n",
      "\n",
      "  0%|                                                                                                                                                                                       | 0/12 [11:15<?, ?it/s]\u001b[A\u001b[A\n",
      "100%|█████████████████████████████████████████████████████████████████████████████████████████████████████████████████████████████████████████████████████████| 8/8 [1:45:39<00:00, 792.42s/it]\n",
      "  0%|                                                                                                                                                                                        | 0/8 [06:36<?, ?it/s]\n"
     ]
    }
   ],
   "source": [
    "for r in list(hex_gdf.res.unique()):\n",
    "\n",
    "    processing_chunk = 150000\n",
    "\n",
    "    # filters hexagons at specified resolution\n",
    "    hex_gdf_res = hex_gdf.loc[hex_gdf.res==r].copy()\n",
    "    hex_gdf_res = hex_gdf_res.reset_index(drop=True)\n",
    "    \n",
    "    if len(hex_gdf_res)>processing_chunk:\n",
    "        c_processing = len(hex_gdf_res)/processing_chunk\n",
    "        \n",
    "        for i in range(int(c_processing)):\n",
    "            hex_gdf_i = hex_gdf_res.iloc[int(processing_chunk*i):int(processing_chunk*(1+i))].copy()\n",
    "            raster_to_hex_save(hex_gdf_i, df_len, index_analysis, tmp_dir, city, r, save, i)\n",
    "    else:\n",
    "        hex_gdf_i = hex_gdf_res.copy()\n",
    "        raster_to_hex_save(hex_gdf_i, df_len, index_analysis, tmp_dir, city, r, save)"
   ]
  },
  {
   "cell_type": "code",
   "execution_count": null,
   "id": "2e720b43-1cd3-4482-a594-84f20d765163",
   "metadata": {},
   "outputs": [],
   "source": []
  },
  {
   "cell_type": "markdown",
   "id": "3c8bac41-ee3a-4cca-b13b-a8cd5bb26c7c",
   "metadata": {},
   "source": [
    "## Data save"
   ]
  },
  {
   "cell_type": "code",
   "execution_count": null,
   "id": "4f0a2201-f281-4465-9d52-6e225938d9cc",
   "metadata": {
    "tags": []
   },
   "outputs": [],
   "source": [
    "# local save\n",
    "if save:\n",
    "    hex_raster_analysis.to_file(tmp_dir+'local_save/'+f'{city}_{index_analysis}_HexRes{r}_.geojson')\n",
    "    df_raster_analysis.to_csv(tmp_dir+'local_save/'+f'{city}_{index_analysis}_HexRes{r}_.csv')"
   ]
  },
  {
   "cell_type": "code",
   "execution_count": null,
   "id": "4229a2e8-8694-4b40-8bb2-aa46bc005162",
   "metadata": {},
   "outputs": [],
   "source": []
  }
 ],
 "metadata": {
  "kernelspec": {
   "display_name": "Python 3 (ipykernel)",
   "language": "python",
   "name": "python3"
  },
  "language_info": {
   "codemirror_mode": {
    "name": "ipython",
    "version": 3
   },
   "file_extension": ".py",
   "mimetype": "text/x-python",
   "name": "python",
   "nbconvert_exporter": "python",
   "pygments_lexer": "ipython3",
   "version": "3.10.5"
  }
 },
 "nbformat": 4,
 "nbformat_minor": 5
}
