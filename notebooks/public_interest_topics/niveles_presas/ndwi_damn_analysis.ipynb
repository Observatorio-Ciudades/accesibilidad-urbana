{
 "cells": [
  {
   "cell_type": "markdown",
   "id": "23d3cfc4-fc86-4003-828e-656a95c43a26",
   "metadata": {},
   "source": [
    "# NDWI Analysis - NL dams"
   ]
  },
  {
   "cell_type": "markdown",
   "id": "c7ffbd39-8dcf-4567-9182-54bd758e6cfa",
   "metadata": {},
   "source": [
    "( Description )"
   ]
  },
  {
   "cell_type": "markdown",
   "id": "e1f6a4d3-556d-43bb-a972-db85c2bf5304",
   "metadata": {},
   "source": [
    "## Import libraries"
   ]
  },
  {
   "cell_type": "code",
   "execution_count": 1,
   "id": "bc03a5eb-24dc-453c-916d-de35c47bbcb8",
   "metadata": {
    "tags": []
   },
   "outputs": [
    {
     "name": "stdout",
     "output_type": "stream",
     "text": [
      "Requirement already satisfied: pymannkendall in /usr/local/python/lib/python3.10/site-packages (1.4.3)\n",
      "Requirement already satisfied: numpy in /usr/local/python/lib/python3.10/site-packages (from pymannkendall) (1.24.2)\n",
      "Requirement already satisfied: scipy in /usr/local/python/lib/python3.10/site-packages (from pymannkendall) (1.10.1)\n",
      "\u001b[33mWARNING: Running pip as the 'root' user can result in broken permissions and conflicting behaviour with the system package manager. It is recommended to use a virtual environment instead: https://pip.pypa.io/warnings/venv\u001b[0m\u001b[33m\n",
      "\u001b[0m\n",
      "\u001b[1m[\u001b[0m\u001b[34;49mnotice\u001b[0m\u001b[1;39;49m]\u001b[0m\u001b[39;49m A new release of pip is available: \u001b[0m\u001b[31;49m23.0.1\u001b[0m\u001b[39;49m -> \u001b[0m\u001b[32;49m23.2.1\u001b[0m\n",
      "\u001b[1m[\u001b[0m\u001b[34;49mnotice\u001b[0m\u001b[1;39;49m]\u001b[0m\u001b[39;49m To update, run: \u001b[0m\u001b[32;49mpip3.10 install --upgrade pip\u001b[0m\n",
      "Note: you may need to restart the kernel to use updated packages.\n"
     ]
    }
   ],
   "source": [
    "pip install pymannkendall"
   ]
  },
  {
   "cell_type": "code",
   "execution_count": 2,
   "id": "dd994660-28b2-4c81-bf9a-522b3ab534bf",
   "metadata": {
    "tags": []
   },
   "outputs": [
    {
     "name": "stdout",
     "output_type": "stream",
     "text": [
      "Requirement already satisfied: pandarallel in /usr/local/python/lib/python3.10/site-packages (1.6.5)\n",
      "Requirement already satisfied: dill>=0.3.1 in /usr/local/python/lib/python3.10/site-packages (from pandarallel) (0.3.7)\n",
      "Requirement already satisfied: pandas>=1 in /usr/local/python/lib/python3.10/site-packages (from pandarallel) (1.5.3)\n",
      "Requirement already satisfied: psutil in /usr/local/python/lib/python3.10/site-packages (from pandarallel) (5.9.4)\n",
      "Requirement already satisfied: python-dateutil>=2.8.1 in /usr/local/python/lib/python3.10/site-packages (from pandas>=1->pandarallel) (2.8.2)\n",
      "Requirement already satisfied: numpy>=1.21.0 in /usr/local/python/lib/python3.10/site-packages (from pandas>=1->pandarallel) (1.24.2)\n",
      "Requirement already satisfied: pytz>=2020.1 in /usr/local/python/lib/python3.10/site-packages (from pandas>=1->pandarallel) (2023.2)\n",
      "Requirement already satisfied: six>=1.5 in /usr/local/python/lib/python3.10/site-packages (from python-dateutil>=2.8.1->pandas>=1->pandarallel) (1.16.0)\n",
      "\u001b[33mWARNING: Running pip as the 'root' user can result in broken permissions and conflicting behaviour with the system package manager. It is recommended to use a virtual environment instead: https://pip.pypa.io/warnings/venv\u001b[0m\u001b[33m\n",
      "\u001b[0m\n",
      "\u001b[1m[\u001b[0m\u001b[34;49mnotice\u001b[0m\u001b[1;39;49m]\u001b[0m\u001b[39;49m A new release of pip is available: \u001b[0m\u001b[31;49m23.0.1\u001b[0m\u001b[39;49m -> \u001b[0m\u001b[32;49m23.2.1\u001b[0m\n",
      "\u001b[1m[\u001b[0m\u001b[34;49mnotice\u001b[0m\u001b[1;39;49m]\u001b[0m\u001b[39;49m To update, run: \u001b[0m\u001b[32;49mpip3.10 install --upgrade pip\u001b[0m\n",
      "Note: you may need to restart the kernel to use updated packages.\n"
     ]
    }
   ],
   "source": [
    "pip install pandarallel"
   ]
  },
  {
   "cell_type": "code",
   "execution_count": 3,
   "id": "8a6175a0-a75a-429f-b4e7-5409c8264973",
   "metadata": {},
   "outputs": [
    {
     "name": "stderr",
     "output_type": "stream",
     "text": [
      "/usr/local/python/lib/python3.10/site-packages/osmnx/utils.py:192: UserWarning: The `utils.config` function is deprecated and will be removed in a future release. Instead, use the `settings` module directly to configure a global setting's value. For example, `ox.settings.log_console=True`.\n",
      "  warnings.warn(\n"
     ]
    }
   ],
   "source": [
    "from pystac_client import Client\n",
    "from pystac.extensions.eo import EOExtension as eo\n",
    "import planetary_computer as pc\n",
    "import geopandas as gpd\n",
    "import h3\n",
    "import pandas as pd\n",
    "\n",
    "import rasterio\n",
    "from rasterio import windows\n",
    "from rasterio import features\n",
    "from rasterio import warp\n",
    "import rasterio.mask\n",
    "from rasterio.enums import Resampling\n",
    "from rasterio.merge import merge\n",
    "\n",
    "import numpy as np\n",
    "from PIL import Image\n",
    "\n",
    "import matplotlib.pyplot as plt\n",
    "\n",
    "from shapely.geometry import Point\n",
    "\n",
    "from tqdm import tqdm\n",
    "\n",
    "import os\n",
    "import sys\n",
    "module_path = os.path.abspath(os.path.join('../../../'))\n",
    "if module_path not in sys.path:\n",
    "    sys.path.append(module_path)\n",
    "    import aup\n",
    "    \n",
    "    \n",
    "module_path = os.path.abspath(os.path.join('../../../'))\n",
    "if module_path not in sys.path:\n",
    "    sys.path.append(module_path)\n",
    "    import aup"
   ]
  },
  {
   "cell_type": "markdown",
   "id": "18b0cdea-8ab4-4288-952e-ecc2b9408d26",
   "metadata": {},
   "source": [
    "## Config notebook"
   ]
  },
  {
   "cell_type": "code",
   "execution_count": 4,
   "id": "42aa13f4-4755-494d-a4b2-9c0ae4c82227",
   "metadata": {
    "tags": []
   },
   "outputs": [],
   "source": [
    "# Set raster spectral bands and analysis equation\n",
    "band_name_dict = {'green':[False], #If GSD(resolution) of band is different, set True.\n",
    "                  'nir':[False], #If GSD(resolution) of band is different, set True.\n",
    "                  'eq':[\"(green-nir)/(green+nir)\"]}\n",
    "\n",
    "# Set analysis name\n",
    "index_analysis = 'ndwi'\n",
    "\n",
    "# Set directory to save analysed rasters\n",
    "tmp_dir = f'../../../data/processed/tmp_{index_analysis}/'\n",
    "\n",
    "# Set desired hex resolution\n",
    "res = [12]\n",
    "\n",
    "# Set frequency of search for rasters (MS = Month Start)\n",
    "freq = 'MS'\n",
    "\n",
    "# Set start and end date for search (Sentinel-2 2A has images since mids 2015)\n",
    "start_date = '2016-01-01'\n",
    "end_date = '2022-12-31'\n",
    "\n",
    "# Save?\n",
    "save = True # True\n",
    "\n",
    "# Del rasters after processing.\n",
    "del_data = False # True\n",
    "\n",
    "# city can be substituted by \"place\". (presa_laboca)\n",
    "city = 'presa_laboca'\n",
    "\n",
    "#Set filter if necessary. Defaults to \"{}\". Example: No images with cloud cover avobe 10%: {\"eo:cloud_cover\": {\"lt\": 10}}\n",
    "query = {\"eo:cloud_cover\": {\"lt\": 10}}\n",
    "\n",
    "# Set satellite. Defaults to \"sentinel-2-l2a\"\n",
    "satellite = 'sentinel-2-l2a'"
   ]
  },
  {
   "cell_type": "markdown",
   "id": "72ffe3d9-4d65-4eee-930f-f56e85521d27",
   "metadata": {},
   "source": [
    "## Download data"
   ]
  },
  {
   "cell_type": "markdown",
   "id": "f2bcc506-8647-468d-aaa3-8649a15704af",
   "metadata": {},
   "source": [
    "### Download data - area of interest"
   ]
  },
  {
   "cell_type": "code",
   "execution_count": 5,
   "id": "3d67b692-90e3-4368-ab78-b82d338a5fa8",
   "metadata": {
    "tags": []
   },
   "outputs": [],
   "source": [
    "#Load data\n",
    "presa_original = gpd.read_file(\"../../../data/external/temporal_todocker/presa_laboca.gpkg\")"
   ]
  },
  {
   "cell_type": "markdown",
   "id": "dbb9b5f2-b02e-42b3-8ad2-2fe7f1a8a7c9",
   "metadata": {},
   "source": [
    "Area of interest treatment"
   ]
  },
  {
   "cell_type": "code",
   "execution_count": 6,
   "id": "bd90c4d3-0c55-4b21-887b-c71be996b219",
   "metadata": {
    "tags": []
   },
   "outputs": [
    {
     "name": "stdout",
     "output_type": "stream",
     "text": [
      "(1,)\n"
     ]
    },
    {
     "data": {
      "text/plain": [
       "0    POLYGON ((-100.15925 25.44864, -100.15948 25.4...\n",
       "Name: geometry, dtype: geometry"
      ]
     },
     "execution_count": 6,
     "metadata": {},
     "output_type": "execute_result"
    }
   ],
   "source": [
    "#Filter for relevant data\n",
    "columns_tokeep = ['Name','geometry']\n",
    "presa = presa_original[columns_tokeep]\n",
    "\n",
    "#Create buffer for dam geometry\n",
    "poly = presa.to_crs(\"EPSG:6372\").buffer(500)\n",
    "poly = poly.to_crs(\"EPSG:4326\")\n",
    "poly = gpd.GeoDataFrame(geometry=poly).dissolve().geometry\n",
    "\n",
    "#Review result\n",
    "print(poly.shape)\n",
    "poly.head(2)"
   ]
  },
  {
   "cell_type": "markdown",
   "id": "c0678877-2a42-47ce-b884-da2f33c789f6",
   "metadata": {},
   "source": [
    "### Data download - Download and proccess rasters"
   ]
  },
  {
   "cell_type": "code",
   "execution_count": 7,
   "id": "821e4b68-439d-4e2a-b1f3-bc88bc8936f0",
   "metadata": {
    "tags": []
   },
   "outputs": [
    {
     "name": "stderr",
     "output_type": "stream",
     "text": [
      "100%|█████████████████████████████████████████████████████████████████████████████████████████████████████████| 84/84 [00:00<00:00, 408.08it/s]\n"
     ]
    },
    {
     "name": "stdout",
     "output_type": "stream",
     "text": [
      "Unexpected exception formatting exception. Falling back to standard exception\n"
     ]
    },
    {
     "name": "stderr",
     "output_type": "stream",
     "text": [
      "Traceback (most recent call last):\n",
      "  File \"rasterio/_base.pyx\", line 308, in rasterio._base.DatasetBase.__init__\n",
      "  File \"rasterio/_base.pyx\", line 219, in rasterio._base.open_dataset\n",
      "  File \"rasterio/_err.pyx\", line 221, in rasterio._err.exc_wrap_pointer\n",
      "rasterio._err.CPLE_OpenFailedError: ../../../data/processed/tmp_ndwi/presa_laboca_ndwi_5_2016.tif: No such file or directory\n",
      "\n",
      "During handling of the above exception, another exception occurred:\n",
      "\n",
      "Traceback (most recent call last):\n",
      "  File \"/usr/local/python/lib/python3.10/site-packages/IPython/core/interactiveshell.py\", line 3460, in run_code\n",
      "    exec(code_obj, self.user_global_ns, self.user_ns)\n",
      "  File \"/tmp/ipykernel_9597/1346787370.py\", line 2, in <module>\n",
      "    df_len = aup.download_raster_from_pc(poly, index_analysis, city, freq, start_date, end_date, tmp_dir, band_name_dict, query = query, satellite = satellite)\n",
      "  File \"/root/accesibilidad-urbana/aup/raster.py\", line 156, in download_raster_from_pc\n",
      "    df_len = raster_interpolation(df_len, city, tmp_dir, index_analysis)\n",
      "  File \"/root/accesibilidad-urbana/aup/raster.py\", line 1037, in raster_interpolation\n",
      "    raster_file = rasterio.open(f\"{tmp_dir}{city}_{index_analysis}_{month_}_{year_}.tif\")\n",
      "  File \"/usr/local/python/lib/python3.10/site-packages/rasterio/env.py\", line 451, in wrapper\n",
      "    return f(*args, **kwds)\n",
      "  File \"/usr/local/python/lib/python3.10/site-packages/rasterio/__init__.py\", line 304, in open\n",
      "    dataset = DatasetReader(path, driver=driver, sharing=sharing, **kwargs)\n",
      "  File \"rasterio/_base.pyx\", line 310, in rasterio._base.DatasetBase.__init__\n",
      "rasterio.errors.RasterioIOError: ../../../data/processed/tmp_ndwi/presa_laboca_ndwi_5_2016.tif: No such file or directory\n",
      "\n",
      "During handling of the above exception, another exception occurred:\n",
      "\n",
      "Traceback (most recent call last):\n",
      "  File \"/usr/local/python/lib/python3.10/site-packages/IPython/core/interactiveshell.py\", line 2057, in showtraceback\n",
      "    stb = self.InteractiveTB.structured_traceback(\n",
      "  File \"/usr/local/python/lib/python3.10/site-packages/IPython/core/ultratb.py\", line 1288, in structured_traceback\n",
      "    return FormattedTB.structured_traceback(\n",
      "  File \"/usr/local/python/lib/python3.10/site-packages/IPython/core/ultratb.py\", line 1177, in structured_traceback\n",
      "    return VerboseTB.structured_traceback(\n",
      "  File \"/usr/local/python/lib/python3.10/site-packages/IPython/core/ultratb.py\", line 1049, in structured_traceback\n",
      "    formatted_exceptions += self.format_exception_as_a_whole(etype, evalue, etb, lines_of_context,\n",
      "  File \"/usr/local/python/lib/python3.10/site-packages/IPython/core/ultratb.py\", line 935, in format_exception_as_a_whole\n",
      "    self.get_records(etb, number_of_lines_of_context, tb_offset) if etb else []\n",
      "  File \"/usr/local/python/lib/python3.10/site-packages/IPython/core/ultratb.py\", line 1003, in get_records\n",
      "    lines, first = inspect.getsourcelines(etb.tb_frame)\n",
      "  File \"/usr/local/python/lib/python3.10/inspect.py\", line 1129, in getsourcelines\n",
      "    lines, lnum = findsource(object)\n",
      "  File \"/usr/local/python/lib/python3.10/inspect.py\", line 958, in findsource\n",
      "    raise OSError('could not get source code')\n",
      "OSError: could not get source code\n"
     ]
    }
   ],
   "source": [
    "#download_raster_from_pc(gdf, index_analysis, city, freq, start_date, end_date, tmp_dir, band_name_dict, query={}, satellite=\"sentinel-2-l2a\"):\n",
    "df_len = aup.download_raster_from_pc(poly, index_analysis, city, freq, start_date, end_date, tmp_dir, band_name_dict, query = query, satellite = satellite)"
   ]
  },
  {
   "cell_type": "markdown",
   "id": "fb440121-bcd9-4029-a122-cdeba9944a66",
   "metadata": {
    "tags": []
   },
   "source": [
    "### Data download - Create hexgrid from area of interest"
   ]
  },
  {
   "cell_type": "markdown",
   "id": "19393958-27d5-4a42-9879-a8cbbfe9ac47",
   "metadata": {},
   "source": [
    "hex_gdf = poly.copy()\n",
    "hex_gdf['res'] = res[0]\n",
    "\n",
    "if len(res)>1:\n",
    "#If there is more than one resolution\n",
    "    for r in range(res[0]+1,res[-1]+1): #Skips res 8 because, originally, res 8 is already in original hex_gdf\n",
    "        hex_tmp = aup.create_hexgrid(poly, r)\n",
    "        hex_tmp.rename(columns={f'hex_id_{r}':'hex_id'}, inplace=True)\n",
    "        hex_tmp['res'] = r\n",
    "        hex_gdf = pd.concat([hex_gdf, hex_tmp],ignore_index = True, axis = 0)\n",
    "        del hex_tmp\n",
    "\n",
    "#If there is only one resolution\n",
    "else:\n",
    "    hex_gdf = aup.create_hexgrid(hex_gdf, res[0])\n",
    "    hex_gdf.rename(columns={f'hex_id_{res[0]}':'hex_id'}, inplace=True)\n",
    "    hex_gdf['res'] = res[0]"
   ]
  },
  {
   "cell_type": "markdown",
   "id": "d6071f02-a480-4a00-9922-53bd9bfe2671",
   "metadata": {
    "tags": []
   },
   "source": [
    "## Data processing"
   ]
  },
  {
   "cell_type": "markdown",
   "id": "03eb3ea9-11dd-47b1-a81b-91429262d9a0",
   "metadata": {},
   "source": [
    "### Data processing - Raster to hex"
   ]
  },
  {
   "cell_type": "markdown",
   "id": "61f94302-335d-4ae7-bb25-c13724fd3a06",
   "metadata": {},
   "source": [
    "#For each resolution, divides by chunks if neccesary and analyses with raster_to_save_hex\n",
    "for r in list(hex_gdf.res.unique()):\n",
    "\n",
    "    processing_chunk = 100000\n",
    "\n",
    "    # filters hexagons at specified resolution\n",
    "    hex_gdf_res = hex_gdf.loc[hex_gdf.res==r].copy()\n",
    "    hex_gdf_res = hex_gdf_res.reset_index(drop=True)\n",
    "\n",
    "    if len(hex_gdf_res)>processing_chunk:\n",
    "        aup.log(f'hex_gdf_res len: {len(hex_gdf_res)} is bigger than processing chunk: {processing_chunk}')\n",
    "        c_processing = len(hex_gdf_res)/processing_chunk\n",
    "        aup.log(f'There are {round(c_processing)} processes')\n",
    "        for i in range(int(c_processing)):\n",
    "            aup.log(f'Processing from {i*processing_chunk} to {(i+1)*processing_chunk}')\n",
    "            hex_gdf_i = hex_gdf_res.iloc[int(processing_chunk*i):int(processing_chunk*(1+i))].copy()\n",
    "            raster_to_hex_save(hex_gdf_i, df_len, index_analysis, tmp_dir, city, r, save, i)\n",
    "\n",
    "    else:\n",
    "        aup.log('hex_gdf len smaller than processing chunk')\n",
    "        hex_gdf_i = hex_gdf_res.copy()\n",
    "        raster_to_hex_save(hex_gdf_i, df_len, index_analysis, tmp_dir, city, r, save)"
   ]
  },
  {
   "cell_type": "markdown",
   "id": "3c8bac41-ee3a-4cca-b13b-a8cd5bb26c7c",
   "metadata": {},
   "source": [
    "## Data save"
   ]
  },
  {
   "cell_type": "markdown",
   "id": "daaf20a1-0c54-4d9e-81ba-1693994e1e04",
   "metadata": {},
   "source": [
    "# local save\n",
    "hex_raster_analysis, df_raster_analysis = aup.raster_to_hex_analysis(hex_gdf_i, df_len, index_analysis,\n",
    "                                                                tmp_dir, city, r)\n",
    "\n",
    "#if save:\n",
    "#    hex_raster_analysis.to_file(tmp_dir+'local_save/'+f'{city}_{index_analysis}_HexRes{r}_v{i}.geojson')\n",
    "#    df_raster_analysis.to_csv(tmp_dir+'local_save/'+f'{city}_{index_analysis}_HexRes{r}_v{i}.csv')"
   ]
  }
 ],
 "metadata": {
  "kernelspec": {
   "display_name": "Python 3 (ipykernel)",
   "language": "python",
   "name": "python3"
  },
  "language_info": {
   "codemirror_mode": {
    "name": "ipython",
    "version": 3
   },
   "file_extension": ".py",
   "mimetype": "text/x-python",
   "name": "python",
   "nbconvert_exporter": "python",
   "pygments_lexer": "ipython3",
   "version": "3.10.5"
  }
 },
 "nbformat": 4,
 "nbformat_minor": 5
}
