{
 "cells": [
  {
   "cell_type": "markdown",
   "id": "23d3cfc4-fc86-4003-828e-656a95c43a26",
   "metadata": {},
   "source": [
    "# NDWI Analysis - NL dams"
   ]
  },
  {
   "cell_type": "markdown",
   "id": "c7ffbd39-8dcf-4567-9182-54bd758e6cfa",
   "metadata": {},
   "source": [
    "( Description )"
   ]
  },
  {
   "cell_type": "markdown",
   "id": "e1f6a4d3-556d-43bb-a972-db85c2bf5304",
   "metadata": {},
   "source": [
    "## Import libraries"
   ]
  },
  {
   "cell_type": "code",
   "execution_count": 1,
   "id": "bc03a5eb-24dc-453c-916d-de35c47bbcb8",
   "metadata": {
    "tags": []
   },
   "outputs": [
    {
     "name": "stdout",
     "output_type": "stream",
     "text": [
      "Requirement already satisfied: pymannkendall in /usr/local/python/lib/python3.10/site-packages (1.4.3)\n",
      "Requirement already satisfied: numpy in /usr/local/python/lib/python3.10/site-packages (from pymannkendall) (1.24.2)\n",
      "Requirement already satisfied: scipy in /usr/local/python/lib/python3.10/site-packages (from pymannkendall) (1.10.1)\n",
      "\u001b[33mWARNING: Running pip as the 'root' user can result in broken permissions and conflicting behaviour with the system package manager. It is recommended to use a virtual environment instead: https://pip.pypa.io/warnings/venv\u001b[0m\u001b[33m\n",
      "\u001b[0m\n",
      "\u001b[1m[\u001b[0m\u001b[34;49mnotice\u001b[0m\u001b[1;39;49m]\u001b[0m\u001b[39;49m A new release of pip is available: \u001b[0m\u001b[31;49m23.0.1\u001b[0m\u001b[39;49m -> \u001b[0m\u001b[32;49m23.2.1\u001b[0m\n",
      "\u001b[1m[\u001b[0m\u001b[34;49mnotice\u001b[0m\u001b[1;39;49m]\u001b[0m\u001b[39;49m To update, run: \u001b[0m\u001b[32;49mpip3.10 install --upgrade pip\u001b[0m\n",
      "Note: you may need to restart the kernel to use updated packages.\n"
     ]
    }
   ],
   "source": [
    "pip install pymannkendall"
   ]
  },
  {
   "cell_type": "code",
   "execution_count": 2,
   "id": "dd994660-28b2-4c81-bf9a-522b3ab534bf",
   "metadata": {
    "tags": []
   },
   "outputs": [
    {
     "name": "stdout",
     "output_type": "stream",
     "text": [
      "Requirement already satisfied: pandarallel in /usr/local/python/lib/python3.10/site-packages (1.6.5)\n",
      "Requirement already satisfied: dill>=0.3.1 in /usr/local/python/lib/python3.10/site-packages (from pandarallel) (0.3.7)\n",
      "Requirement already satisfied: pandas>=1 in /usr/local/python/lib/python3.10/site-packages (from pandarallel) (1.5.3)\n",
      "Requirement already satisfied: psutil in /usr/local/python/lib/python3.10/site-packages (from pandarallel) (5.9.4)\n",
      "Requirement already satisfied: python-dateutil>=2.8.1 in /usr/local/python/lib/python3.10/site-packages (from pandas>=1->pandarallel) (2.8.2)\n",
      "Requirement already satisfied: numpy>=1.21.0 in /usr/local/python/lib/python3.10/site-packages (from pandas>=1->pandarallel) (1.24.2)\n",
      "Requirement already satisfied: pytz>=2020.1 in /usr/local/python/lib/python3.10/site-packages (from pandas>=1->pandarallel) (2023.2)\n",
      "Requirement already satisfied: six>=1.5 in /usr/local/python/lib/python3.10/site-packages (from python-dateutil>=2.8.1->pandas>=1->pandarallel) (1.16.0)\n",
      "\u001b[33mWARNING: Running pip as the 'root' user can result in broken permissions and conflicting behaviour with the system package manager. It is recommended to use a virtual environment instead: https://pip.pypa.io/warnings/venv\u001b[0m\u001b[33m\n",
      "\u001b[0m\n",
      "\u001b[1m[\u001b[0m\u001b[34;49mnotice\u001b[0m\u001b[1;39;49m]\u001b[0m\u001b[39;49m A new release of pip is available: \u001b[0m\u001b[31;49m23.0.1\u001b[0m\u001b[39;49m -> \u001b[0m\u001b[32;49m23.2.1\u001b[0m\n",
      "\u001b[1m[\u001b[0m\u001b[34;49mnotice\u001b[0m\u001b[1;39;49m]\u001b[0m\u001b[39;49m To update, run: \u001b[0m\u001b[32;49mpip3.10 install --upgrade pip\u001b[0m\n",
      "Note: you may need to restart the kernel to use updated packages.\n"
     ]
    }
   ],
   "source": [
    "pip install pandarallel"
   ]
  },
  {
   "cell_type": "code",
   "execution_count": 1,
   "id": "8a6175a0-a75a-429f-b4e7-5409c8264973",
   "metadata": {},
   "outputs": [
    {
     "name": "stderr",
     "output_type": "stream",
     "text": [
      "/usr/local/python/lib/python3.10/site-packages/osmnx/utils.py:192: UserWarning: The `utils.config` function is deprecated and will be removed in a future release. Instead, use the `settings` module directly to configure a global setting's value. For example, `ox.settings.log_console=True`.\n",
      "  warnings.warn(\n"
     ]
    }
   ],
   "source": [
    "from pystac_client import Client\n",
    "from pystac.extensions.eo import EOExtension as eo\n",
    "import planetary_computer as pc\n",
    "import geopandas as gpd\n",
    "import h3\n",
    "import pandas as pd\n",
    "\n",
    "import rasterio\n",
    "from rasterio import windows\n",
    "from rasterio import features\n",
    "from rasterio import warp\n",
    "import rasterio.mask\n",
    "from rasterio.enums import Resampling\n",
    "from rasterio.merge import merge\n",
    "\n",
    "import numpy as np\n",
    "from PIL import Image\n",
    "\n",
    "import matplotlib.pyplot as plt\n",
    "\n",
    "from shapely.geometry import Point\n",
    "\n",
    "from tqdm import tqdm\n",
    "\n",
    "import os\n",
    "import sys\n",
    "module_path = os.path.abspath(os.path.join('../../../'))\n",
    "if module_path not in sys.path:\n",
    "    sys.path.append(module_path)\n",
    "    import aup\n",
    "    \n",
    "    \n",
    "module_path = os.path.abspath(os.path.join('../../../'))\n",
    "if module_path not in sys.path:\n",
    "    sys.path.append(module_path)\n",
    "    import aup"
   ]
  },
  {
   "cell_type": "markdown",
   "id": "18b0cdea-8ab4-4288-952e-ecc2b9408d26",
   "metadata": {},
   "source": [
    "## Config notebook"
   ]
  },
  {
   "cell_type": "code",
   "execution_count": 2,
   "id": "42aa13f4-4755-494d-a4b2-9c0ae4c82227",
   "metadata": {
    "tags": []
   },
   "outputs": [],
   "source": [
    "# Set raster spectral bands and analysis equation\n",
    "band_name_dict = {'green':[False], #If GSD(resolution) of band is different, set True.\n",
    "                  'nir':[False], #If GSD(resolution) of band is different, set True.\n",
    "                  'eq':[\"(green-nir)/(green+nir)\"]}\n",
    "\n",
    "# Set analysis name\n",
    "index_analysis = 'ndwi'\n",
    "\n",
    "# Set directory to save analysed rasters\n",
    "tmp_dir = f'../../../data/processed/tmp_{index_analysis}/'\n",
    "\n",
    "# Set desired hex resolution\n",
    "res = [12]\n",
    "\n",
    "# Set frequency of search for rasters (MS = Month Start)\n",
    "freq = 'MS'\n",
    "\n",
    "# Set start and end date for search (Sentinel-2 2A has images since mids 2015)\n",
    "start_date = '2016-01-01'\n",
    "end_date = '2022-12-31'\n",
    "\n",
    "# Save?\n",
    "save = True # True\n",
    "\n",
    "# Del rasters after processing.\n",
    "del_data = False # True\n",
    "\n",
    "# city can be substituted by \"place\". (presa_laboca)\n",
    "city = 'presa_laboca'\n",
    "\n",
    "#Set filter if necessary. Defaults to \"{}\". Example: No images with cloud cover avobe 10%: {\"eo:cloud_cover\": {\"lt\": 10}}\n",
    "query = {\"eo:cloud_cover\": {\"lt\": 10}}\n",
    "\n",
    "# Set satellite. Defaults to \"sentinel-2-l2a\"\n",
    "satellite = 'sentinel-2-l2a'"
   ]
  },
  {
   "cell_type": "markdown",
   "id": "72ffe3d9-4d65-4eee-930f-f56e85521d27",
   "metadata": {},
   "source": [
    "## Download data"
   ]
  },
  {
   "cell_type": "markdown",
   "id": "f2bcc506-8647-468d-aaa3-8649a15704af",
   "metadata": {},
   "source": [
    "### Download data - area of interest"
   ]
  },
  {
   "cell_type": "code",
   "execution_count": 3,
   "id": "3d67b692-90e3-4368-ab78-b82d338a5fa8",
   "metadata": {
    "tags": []
   },
   "outputs": [],
   "source": [
    "#Load data\n",
    "presa_original = gpd.read_file(\"../../../data/external/temporal_todocker/presa_laboca.gpkg\")"
   ]
  },
  {
   "cell_type": "markdown",
   "id": "dbb9b5f2-b02e-42b3-8ad2-2fe7f1a8a7c9",
   "metadata": {},
   "source": [
    "Area of interest treatment"
   ]
  },
  {
   "cell_type": "code",
   "execution_count": 4,
   "id": "bd90c4d3-0c55-4b21-887b-c71be996b219",
   "metadata": {
    "tags": []
   },
   "outputs": [
    {
     "name": "stdout",
     "output_type": "stream",
     "text": [
      "(1,)\n"
     ]
    },
    {
     "data": {
      "text/plain": [
       "0    POLYGON ((-100.15925 25.44864, -100.15948 25.4...\n",
       "Name: geometry, dtype: geometry"
      ]
     },
     "execution_count": 4,
     "metadata": {},
     "output_type": "execute_result"
    }
   ],
   "source": [
    "#Filter for relevant data\n",
    "columns_tokeep = ['Name','geometry']\n",
    "presa = presa_original[columns_tokeep]\n",
    "\n",
    "#Create buffer for dam geometry\n",
    "polygon = presa.to_crs(\"EPSG:6372\").buffer(500)\n",
    "polygon = polygon.to_crs(\"EPSG:4326\")\n",
    "polygon = gpd.GeoDataFrame(geometry=polygon).dissolve().geometry\n",
    "\n",
    "#Review result\n",
    "print(polygon.shape)\n",
    "polygon.head(2)"
   ]
  },
  {
   "cell_type": "markdown",
   "id": "c0678877-2a42-47ce-b884-da2f33c789f6",
   "metadata": {},
   "source": [
    "### Data download - Download and proccess rasters"
   ]
  },
  {
   "cell_type": "code",
   "execution_count": 6,
   "id": "821e4b68-439d-4e2a-b1f3-bc88bc8936f0",
   "metadata": {
    "tags": []
   },
   "outputs": [
    {
     "name": "stderr",
     "output_type": "stream",
     "text": [
      " 13%|████████████████▎                                                                                                            | 11/84 [43:44<4:50:18, 238.61s/it]ERROR 1: TIFFFillTile:Read error at row 9728, col 9728, tile 86; got 0 bytes, expected 363035\n",
      "ERROR 1: TIFFReadEncodedTile() failed.\n",
      "ERROR 1: IReadBlock failed at X offset 20, Y offset 3: TIFFReadEncodedTile() failed.\n",
      " 43%|████████████████████████████████████████████████████▋                                                                      | 36/84 [1:18:31<1:48:31, 135.65s/it]ERROR 1: TIFFFillTile:Read error at row 0, col 0, tile 221; got 0 bytes, expected 356072\n",
      "ERROR 1: TIFFReadEncodedTile() failed.\n",
      "ERROR 1: IReadBlock failed at X offset 1, Y offset 10: TIFFReadEncodedTile() failed.\n",
      " 63%|█████████████████████████████████████████████████████████████████████████████▌                                             | 53/84 [2:02:59<1:23:31, 161.65s/it]ERROR 1: TIFFFillTile:Read error at row 6656, col 6656, tile 256; got 0 bytes, expected 402885\n",
      "ERROR 1: TIFFReadEncodedTile() failed.\n",
      "ERROR 1: IReadBlock failed at X offset 14, Y offset 11: TIFFReadEncodedTile() failed.\n",
      " 70%|██████████████████████████████████████████████████████████████████████████████████████▍                                    | 59/84 [2:57:17<2:13:19, 319.98s/it]ERROR 1: TIFFFillTile:Read error at row 9216, col 9216, tile 195; got 0 bytes, expected 392387\n",
      "ERROR 1: TIFFReadEncodedTile() failed.\n",
      "ERROR 1: IReadBlock failed at X offset 19, Y offset 8: TIFFReadEncodedTile() failed.\n",
      "ERROR 1: TIFFFillTile:Read error at row 4294967295, col 4294967295, tile 0; got 0 bytes, expected 384257\n",
      "ERROR 1: TIFFReadEncodedTile() failed.\n",
      "ERROR 1: IReadBlock failed at X offset 0, Y offset 0: TIFFReadEncodedTile() failed.\n",
      "ERROR 1: TIFFFillTile:Read error at row 4294967295, col 4294967295, tile 0; got 0 bytes, expected 384257\n",
      "ERROR 1: TIFFReadEncodedTile() failed.\n",
      "ERROR 1: IReadBlock failed at X offset 0, Y offset 0: TIFFReadEncodedTile() failed.\n",
      "ERROR 1: TIFFFillTile:Read error at row 4294967295, col 4294967295, tile 0; got 0 bytes, expected 384257\n",
      "ERROR 1: TIFFReadEncodedTile() failed.\n",
      "ERROR 1: IReadBlock failed at X offset 0, Y offset 0: TIFFReadEncodedTile() failed.\n",
      "ERROR 1: TIFFFillTile:Read error at row 4294967295, col 4294967295, tile 0; got 0 bytes, expected 384257\n",
      "ERROR 1: TIFFReadEncodedTile() failed.\n",
      "ERROR 1: IReadBlock failed at X offset 0, Y offset 0: TIFFReadEncodedTile() failed.\n",
      " 81%|███████████████████████████████████████████████████████████████████████████████████████████████████▌                       | 68/84 [3:32:58<1:16:46, 287.88s/it]ERROR 1: TIFFFillTile:Read error at row 9216, col 9216, tile 283; got 0 bytes, expected 341063\n",
      "ERROR 1: TIFFReadEncodedTile() failed.\n",
      "ERROR 1: IReadBlock failed at X offset 19, Y offset 12: TIFFReadEncodedTile() failed.\n",
      " 89%|███████████████████████████████████████████████████████████████████████████████████████████████████████████████▌             | 75/84 [4:19:41<55:09, 367.67s/it]ERROR 1: TIFFFillTile:Read error at row 0, col 0, tile 221; got 0 bytes, expected 329424\n",
      "ERROR 1: TIFFReadEncodedTile() failed.\n",
      "ERROR 1: IReadBlock failed at X offset 1, Y offset 10: TIFFReadEncodedTile() failed.\n",
      "100%|█████████████████████████████████████████████████████████████████████████████████████████████████████████████████████████████| 84/84 [4:31:07<00:00, 193.67s/it]\n"
     ]
    }
   ],
   "source": [
    "#download_raster_from_pc(gdf, index_analysis, city, freq, start_date, end_date, tmp_dir, band_name_dict, query={}, satellite=\"sentinel-2-l2a\"):\n",
    "df_len = aup.download_raster_from_pc(polygon, index_analysis, city, freq, start_date, end_date, tmp_dir, band_name_dict, query = query, satellite = satellite)"
   ]
  },
  {
   "cell_type": "markdown",
   "id": "01d07c83-893b-407b-b919-c0370aed870d",
   "metadata": {},
   "source": [
    "## Debug paso por paso"
   ]
  },
  {
   "cell_type": "markdown",
   "id": "96fa2800-3831-4cfe-b5c6-bfdabf25f3e8",
   "metadata": {
    "tags": []
   },
   "source": [
    "#download_raster_from_pc(gdf, index_analysis, city, freq, start_date, end_date, tmp_dir, band_name_dict, query={}, satellite=\"sentinel-2-l2a\"):\n",
    "gdf = poly.copy()"
   ]
  },
  {
   "cell_type": "markdown",
   "id": "12bf8624-3640-4046-b59e-94ad24608dc1",
   "metadata": {
    "tags": []
   },
   "source": [
    "poly = gdf.to_crs(\"EPSG:6372\").buffer(500)\n",
    "poly = poly.to_crs(\"EPSG:4326\")\n",
    "poly = gpd.GeoDataFrame(geometry=poly).dissolve().geometry\n",
    "\n",
    "# Extracts coordinates from polygon as DataFrame\n",
    "coord_val = poly.bounds\n",
    "# Gets coordinates for bounding box\n",
    "n = coord_val.maxy.max()\n",
    "s = coord_val.miny.min()\n",
    "e = coord_val.maxx.max()\n",
    "w = coord_val.minx.min()\n",
    "\n",
    "# Sets the coordinates for the area of interest\n",
    "area_of_interest = {\n",
    "    \"type\": \"Polygon\",\n",
    "    \"coordinates\": [\n",
    "        [\n",
    "            [e, s],\n",
    "            [w, s],\n",
    "            [w, n],\n",
    "            [e, n],\n",
    "            [e, s],\n",
    "        ]\n",
    "    ],\n",
    "}\n",
    "\n",
    "# create time of interest\n",
    "time_of_interest = aup.create_time_of_interest(start_date, end_date, freq=freq)\n",
    "\n",
    "# gathers items for time and area of interest\n",
    "items = aup.gather_items(time_of_interest, area_of_interest, query=query, satellite=satellite)\n",
    "\n",
    "date_list = aup.available_datasets(items, satellite)"
   ]
  },
  {
   "cell_type": "markdown",
   "id": "9b994e05-cc47-4c90-966e-4c070d3f282f",
   "metadata": {
    "tags": []
   },
   "source": [
    "# create dictionary from links\n",
    "band_name_list = list(band_name_dict.keys())[:-1]\n",
    "assets_hrefs = aup.link_dict(band_name_list, items, date_list)\n",
    "\n",
    "# analyze available data according to raster properties\n",
    "df_len, missing_months = aup.df_date_links(assets_hrefs, start_date, end_date, \n",
    "                                       band_name_list, freq)\n",
    "aup.available_data_check(df_len, missing_months) # test for missing months\n",
    "missing_months"
   ]
  },
  {
   "cell_type": "markdown",
   "id": "99038556-e44f-4e90-8db1-bfb29795c151",
   "metadata": {
    "tags": []
   },
   "source": [
    "# creates raster and analyzes percentage of missing data points\n",
    "df_len, missing_months = aup.df_date_links(assets_hrefs, start_date, end_date, \n",
    "                                       band_name_list, freq)\n",
    "pct_missing = round(missing_months/len(df_len),2)*100\n",
    "pct_missing"
   ]
  },
  {
   "cell_type": "markdown",
   "id": "6a756bdb-ff86-4716-a6d5-16e9bb974a78",
   "metadata": {
    "tags": []
   },
   "source": [
    "# raster cropping with bounding box from earlier \n",
    "bounding_box = gpd.GeoDataFrame(geometry=poly).envelope\n",
    "gdf_bb = gpd.GeoDataFrame(gpd.GeoSeries(bounding_box), columns=['geometry'])\n",
    "\n",
    "# create GeoDataFrame to test nan values in raster\n",
    "gdf_raster_test = gdf.to_crs(\"EPSG:6372\").buffer(1)\n",
    "gdf_raster_test = gdf_raster_test.to_crs(\"EPSG:4326\")\n",
    "gdf_raster_test = gpd.GeoDataFrame(geometry=gdf_raster_test).dissolve()"
   ]
  },
  {
   "cell_type": "markdown",
   "id": "bce8e146-7786-4d60-84f0-d88a980da851",
   "metadata": {
    "tags": []
   },
   "source": [
    "# download raster data by month\n",
    "df_len = aup.create_raster_by_month(\n",
    "    df_len, index_analysis, city, tmp_dir,\n",
    "    band_name_dict,date_list, gdf_raster_test,\n",
    "    gdf_bb, area_of_interest, satellite, query=query)"
   ]
  },
  {
   "cell_type": "markdown",
   "id": "b2977186-83b5-42f6-a021-f73eede59ff3",
   "metadata": {
    "tags": []
   },
   "source": [
    "missing_months = len(df_len.loc[df_len.data_id==0])\n",
    "missing_months"
   ]
  },
  {
   "cell_type": "markdown",
   "id": "b8c74f12-6b3f-4de2-a131-a8d08d9db218",
   "metadata": {
    "tags": []
   },
   "source": [
    "df_len.head(50)"
   ]
  },
  {
   "cell_type": "markdown",
   "id": "81224297-3391-4043-a118-4f3410b26c47",
   "metadata": {
    "tags": []
   },
   "source": [
    "df_len.loc[4,'data_id'] = 0\n",
    "df_len.loc[15,'data_id'] = 0\n",
    "df_len.loc[21,'data_id'] = 0\n",
    "df_len.loc[45,'data_id'] = 0\n",
    "df_len.loc[81,'data_id'] = 0\n",
    "df_len"
   ]
  },
  {
   "cell_type": "markdown",
   "id": "e37ac662-035c-459f-a74b-68256c2d50ba",
   "metadata": {
    "tags": []
   },
   "source": [
    "df_len = aup.raster_interpolation(df_len, city, tmp_dir, index_analysis)"
   ]
  },
  {
   "cell_type": "markdown",
   "id": "62d55e07-7a86-4390-bb1f-269bb1a30bcb",
   "metadata": {
    "tags": []
   },
   "source": [
    "missing_months = len(df_len.loc[df_len.data_id==0])\n",
    "missing_months"
   ]
  },
  {
   "cell_type": "markdown",
   "id": "021439b8-3608-44b9-aeaf-6b7b800b61b8",
   "metadata": {},
   "source": [
    "## End of debug"
   ]
  },
  {
   "cell_type": "markdown",
   "id": "fb440121-bcd9-4029-a122-cdeba9944a66",
   "metadata": {
    "tags": []
   },
   "source": [
    "### Data download - Create hexgrid from area of interest"
   ]
  },
  {
   "cell_type": "code",
   "execution_count": 16,
   "id": "4a5a3bcf-9c89-49f7-a48c-d88cef155620",
   "metadata": {
    "tags": []
   },
   "outputs": [],
   "source": [
    "hex_gdf = gpd.GeoDataFrame(polygon)\n",
    "hex_gdf['res'] = res[0]\n",
    "\n",
    "if len(res)>1:\n",
    "#If there is more than one resolution\n",
    "    for r in range(res[0]+1,res[-1]+1): #Skips res 8 because, originally, res 8 is already in original hex_gdf\n",
    "        hex_tmp = aup.create_hexgrid(polygon, r)\n",
    "        hex_tmp.rename(columns={f'hex_id_{r}':'hex_id'}, inplace=True)\n",
    "        hex_tmp['res'] = r\n",
    "        hex_gdf = pd.concat([hex_gdf, hex_tmp],ignore_index = True, axis = 0)\n",
    "        del hex_tmp\n",
    "\n",
    "#If there is only one resolution\n",
    "else:\n",
    "    hex_gdf = aup.create_hexgrid(hex_gdf, res[0])\n",
    "    hex_gdf.rename(columns={f'hex_id_{res[0]}':'hex_id'}, inplace=True)\n",
    "    hex_gdf['res'] = res[0]"
   ]
  },
  {
   "cell_type": "code",
   "execution_count": 17,
   "id": "5074149d-4f62-4684-9aef-7066dea3786f",
   "metadata": {
    "tags": []
   },
   "outputs": [
    {
     "name": "stdout",
     "output_type": "stream",
     "text": [
      "(36345, 3)\n"
     ]
    },
    {
     "data": {
      "text/html": [
       "<div>\n",
       "<style scoped>\n",
       "    .dataframe tbody tr th:only-of-type {\n",
       "        vertical-align: middle;\n",
       "    }\n",
       "\n",
       "    .dataframe tbody tr th {\n",
       "        vertical-align: top;\n",
       "    }\n",
       "\n",
       "    .dataframe thead th {\n",
       "        text-align: right;\n",
       "    }\n",
       "</style>\n",
       "<table border=\"1\" class=\"dataframe\">\n",
       "  <thead>\n",
       "    <tr style=\"text-align: right;\">\n",
       "      <th></th>\n",
       "      <th>hex_id</th>\n",
       "      <th>geometry</th>\n",
       "      <th>res</th>\n",
       "    </tr>\n",
       "  </thead>\n",
       "  <tbody>\n",
       "    <tr>\n",
       "      <th>0</th>\n",
       "      <td>8c48a2116541dff</td>\n",
       "      <td>POLYGON ((-100.14410 25.44557, -100.14400 25.4...</td>\n",
       "      <td>12</td>\n",
       "    </tr>\n",
       "    <tr>\n",
       "      <th>1</th>\n",
       "      <td>8c48a2c496835ff</td>\n",
       "      <td>POLYGON ((-100.14527 25.43236, -100.14517 25.4...</td>\n",
       "      <td>12</td>\n",
       "    </tr>\n",
       "  </tbody>\n",
       "</table>\n",
       "</div>"
      ],
      "text/plain": [
       "            hex_id                                           geometry  res\n",
       "0  8c48a2116541dff  POLYGON ((-100.14410 25.44557, -100.14400 25.4...   12\n",
       "1  8c48a2c496835ff  POLYGON ((-100.14527 25.43236, -100.14517 25.4...   12"
      ]
     },
     "execution_count": 17,
     "metadata": {},
     "output_type": "execute_result"
    }
   ],
   "source": [
    "print(hex_gdf.shape)\n",
    "hex_gdf.head(2)"
   ]
  },
  {
   "cell_type": "markdown",
   "id": "d6071f02-a480-4a00-9922-53bd9bfe2671",
   "metadata": {
    "tags": []
   },
   "source": [
    "## Data processing"
   ]
  },
  {
   "cell_type": "markdown",
   "id": "03eb3ea9-11dd-47b1-a81b-91429262d9a0",
   "metadata": {},
   "source": [
    "### Data processing - Raster to hex"
   ]
  },
  {
   "cell_type": "markdown",
   "id": "6e7a5945-6928-49df-bae0-68c8175fbe00",
   "metadata": {
    "tags": []
   },
   "source": [
    "#df_len.loc[11,'data_id'] = 0"
   ]
  },
  {
   "cell_type": "code",
   "execution_count": 20,
   "id": "9ddd5ddc-b5a9-4602-be25-7ba6fecc272e",
   "metadata": {
    "tags": []
   },
   "outputs": [
    {
     "name": "stderr",
     "output_type": "stream",
     "text": [
      "  0%|                                                                   | 0/7 [00:00<?, ?it/s]\n",
      " 14%|████████▎                                                 | 1/7 [02:31<15:09, 151.60s/it]\u001b[A\n",
      "\n",
      "  0%|                                                                  | 0/12 [02:31<?, ?it/s]                                                                                    | 0/12 [00:00<?, ?it/s]\u001b[A\u001b[A\n",
      " 29%|████████████████▌                                         | 2/7 [05:19<13:27, 161.43s/it]\n",
      "  0%|                                                                                                                                                                             | 0/12 [02:48<?, ?it/s]\u001b[A\n",
      " 29%|████████████████▌                                         | 2/7 [07:38<19:06, 229.26s/it]\n"
     ]
    },
    {
     "ename": "RasterioIOError",
     "evalue": "../../../data/processed/tmp_ndwi/presa_laboca_ndwi_4_2018.tif: No such file or directory",
     "output_type": "error",
     "traceback": [
      "\u001b[0;31m---------------------------------------------------------------------------\u001b[0m",
      "\u001b[0;31mRemoteTraceback\u001b[0m                           Traceback (most recent call last)",
      "\u001b[0;31mRemoteTraceback\u001b[0m: \n\"\"\"\nTraceback (most recent call last):\n  File \"rasterio/_base.pyx\", line 308, in rasterio._base.DatasetBase.__init__\n  File \"rasterio/_base.pyx\", line 219, in rasterio._base.open_dataset\n  File \"rasterio/_err.pyx\", line 221, in rasterio._err.exc_wrap_pointer\nrasterio._err.CPLE_OpenFailedError: ../../../data/processed/tmp_ndwi/presa_laboca_ndwi_4_2018.tif: No such file or directory\n\nDuring handling of the above exception, another exception occurred:\n\nTraceback (most recent call last):\n  File \"/usr/local/python/lib/python3.10/multiprocessing/pool.py\", line 125, in worker\n    result = (True, func(*args, **kwds))\n  File \"/usr/local/python/lib/python3.10/multiprocessing/pool.py\", line 51, in starmapstar\n    return list(itertools.starmap(args[0], args[1]))\n  File \"/root/accesibilidad-urbana/aup/raster.py\", line 1130, in mask_by_hexagon\n    raster_file = rasterio.open(f\"{tmp_dir}{city}_{index_analysis}_{month}_{year}.tif\")\n  File \"/usr/local/python/lib/python3.10/site-packages/rasterio/env.py\", line 451, in wrapper\n    return f(*args, **kwds)\n  File \"/usr/local/python/lib/python3.10/site-packages/rasterio/__init__.py\", line 304, in open\n    dataset = DatasetReader(path, driver=driver, sharing=sharing, **kwargs)\n  File \"rasterio/_base.pyx\", line 310, in rasterio._base.DatasetBase.__init__\nrasterio.errors.RasterioIOError: ../../../data/processed/tmp_ndwi/presa_laboca_ndwi_4_2018.tif: No such file or directory\n\"\"\"",
      "\nThe above exception was the direct cause of the following exception:\n",
      "\u001b[0;31mRasterioIOError\u001b[0m                           Traceback (most recent call last)",
      "Cell \u001b[0;32mIn[20], line 2\u001b[0m\n\u001b[1;32m      1\u001b[0m hex_gdf_i \u001b[38;5;241m=\u001b[39m hex_gdf_res\u001b[38;5;241m.\u001b[39mcopy()\n\u001b[0;32m----> 2\u001b[0m hex_raster_analysis, df_raster_analysis \u001b[38;5;241m=\u001b[39m \u001b[43maup\u001b[49m\u001b[38;5;241;43m.\u001b[39;49m\u001b[43mraster_to_hex_analysis\u001b[49m\u001b[43m(\u001b[49m\u001b[43mhex_gdf_i\u001b[49m\u001b[43m,\u001b[49m\u001b[43m \u001b[49m\u001b[43mdf_len\u001b[49m\u001b[43m,\u001b[49m\u001b[43m \u001b[49m\u001b[43mindex_analysis\u001b[49m\u001b[43m,\u001b[49m\u001b[43mtmp_dir\u001b[49m\u001b[43m,\u001b[49m\u001b[43m \u001b[49m\u001b[43mcity\u001b[49m\u001b[43m,\u001b[49m\u001b[43m \u001b[49m\u001b[43mr\u001b[49m\u001b[43m)\u001b[49m\n",
      "File \u001b[0;32m~/accesibilidad-urbana/aup/raster.py:1268\u001b[0m, in \u001b[0;36mraster_to_hex_analysis\u001b[0;34m(hex_gdf, df_len, index_analysis, tmp_dir, city, res)\u001b[0m\n\u001b[1;32m   1266\u001b[0m log(\u001b[38;5;124m'\u001b[39m\u001b[38;5;124mStarting raster to hexagons\u001b[39m\u001b[38;5;124m'\u001b[39m)\n\u001b[1;32m   1267\u001b[0m hex_gdf \u001b[38;5;241m=\u001b[39m hex_gdf\u001b[38;5;241m.\u001b[39mcopy()\n\u001b[0;32m-> 1268\u001b[0m hex_raster \u001b[38;5;241m=\u001b[39m \u001b[43mraster_to_hex_multi\u001b[49m\u001b[43m(\u001b[49m\u001b[43mhex_gdf\u001b[49m\u001b[43m,\u001b[49m\u001b[43m \u001b[49m\u001b[43mdf_len\u001b[49m\u001b[43m,\u001b[49m\u001b[43m \u001b[49m\u001b[43mindex_analysis\u001b[49m\u001b[43m,\u001b[49m\u001b[43m \u001b[49m\u001b[43mcity\u001b[49m\u001b[43m,\u001b[49m\u001b[43m \u001b[49m\u001b[43mtmp_dir\u001b[49m\u001b[43m)\u001b[49m\n\u001b[1;32m   1269\u001b[0m log(\u001b[38;5;124m'\u001b[39m\u001b[38;5;124mAssigned raster data to hexagons\u001b[39m\u001b[38;5;124m'\u001b[39m)\n\u001b[1;32m   1271\u001b[0m \u001b[38;5;66;03m# summary statistics\u001b[39;00m\n",
      "File \u001b[0;32m~/accesibilidad-urbana/aup/raster.py:1178\u001b[0m, in \u001b[0;36mraster_to_hex_multi\u001b[0;34m(hex_gdf, df_len, index_analysis, city, raster_dir)\u001b[0m\n\u001b[1;32m   1176\u001b[0m pbar \u001b[38;5;241m=\u001b[39m tqdm(total\u001b[38;5;241m=\u001b[39m\u001b[38;5;28mlen\u001b[39m(input_list))\n\u001b[1;32m   1177\u001b[0m pool \u001b[38;5;241m=\u001b[39m Pool()\n\u001b[0;32m-> 1178\u001b[0m hex_res \u001b[38;5;241m=\u001b[39m pd\u001b[38;5;241m.\u001b[39mconcat(\u001b[43mpool\u001b[49m\u001b[38;5;241;43m.\u001b[39;49m\u001b[43mstarmap\u001b[49m\u001b[43m(\u001b[49m\u001b[43mmask_by_hexagon\u001b[49m\u001b[43m,\u001b[49m\u001b[43minput_list\u001b[49m\u001b[43m)\u001b[49m)\n\u001b[1;32m   1179\u001b[0m pool\u001b[38;5;241m.\u001b[39mclose()\n\u001b[1;32m   1180\u001b[0m hex_raster \u001b[38;5;241m=\u001b[39m pd\u001b[38;5;241m.\u001b[39mconcat([hex_raster, hex_res], \n\u001b[1;32m   1181\u001b[0m     ignore_index \u001b[38;5;241m=\u001b[39m \u001b[38;5;28;01mTrue\u001b[39;00m, axis \u001b[38;5;241m=\u001b[39m \u001b[38;5;241m0\u001b[39m)\n",
      "File \u001b[0;32m/usr/local/python/lib/python3.10/multiprocessing/pool.py:372\u001b[0m, in \u001b[0;36mPool.starmap\u001b[0;34m(self, func, iterable, chunksize)\u001b[0m\n\u001b[1;32m    366\u001b[0m \u001b[38;5;28;01mdef\u001b[39;00m \u001b[38;5;21mstarmap\u001b[39m(\u001b[38;5;28mself\u001b[39m, func, iterable, chunksize\u001b[38;5;241m=\u001b[39m\u001b[38;5;28;01mNone\u001b[39;00m):\n\u001b[1;32m    367\u001b[0m \u001b[38;5;250m    \u001b[39m\u001b[38;5;124;03m'''\u001b[39;00m\n\u001b[1;32m    368\u001b[0m \u001b[38;5;124;03m    Like `map()` method but the elements of the `iterable` are expected to\u001b[39;00m\n\u001b[1;32m    369\u001b[0m \u001b[38;5;124;03m    be iterables as well and will be unpacked as arguments. Hence\u001b[39;00m\n\u001b[1;32m    370\u001b[0m \u001b[38;5;124;03m    `func` and (a, b) becomes func(a, b).\u001b[39;00m\n\u001b[1;32m    371\u001b[0m \u001b[38;5;124;03m    '''\u001b[39;00m\n\u001b[0;32m--> 372\u001b[0m     \u001b[38;5;28;01mreturn\u001b[39;00m \u001b[38;5;28;43mself\u001b[39;49m\u001b[38;5;241;43m.\u001b[39;49m\u001b[43m_map_async\u001b[49m\u001b[43m(\u001b[49m\u001b[43mfunc\u001b[49m\u001b[43m,\u001b[49m\u001b[43m \u001b[49m\u001b[43miterable\u001b[49m\u001b[43m,\u001b[49m\u001b[43m \u001b[49m\u001b[43mstarmapstar\u001b[49m\u001b[43m,\u001b[49m\u001b[43m \u001b[49m\u001b[43mchunksize\u001b[49m\u001b[43m)\u001b[49m\u001b[38;5;241;43m.\u001b[39;49m\u001b[43mget\u001b[49m\u001b[43m(\u001b[49m\u001b[43m)\u001b[49m\n",
      "File \u001b[0;32m/usr/local/python/lib/python3.10/multiprocessing/pool.py:771\u001b[0m, in \u001b[0;36mApplyResult.get\u001b[0;34m(self, timeout)\u001b[0m\n\u001b[1;32m    769\u001b[0m     \u001b[38;5;28;01mreturn\u001b[39;00m \u001b[38;5;28mself\u001b[39m\u001b[38;5;241m.\u001b[39m_value\n\u001b[1;32m    770\u001b[0m \u001b[38;5;28;01melse\u001b[39;00m:\n\u001b[0;32m--> 771\u001b[0m     \u001b[38;5;28;01mraise\u001b[39;00m \u001b[38;5;28mself\u001b[39m\u001b[38;5;241m.\u001b[39m_value\n",
      "\u001b[0;31mRasterioIOError\u001b[0m: ../../../data/processed/tmp_ndwi/presa_laboca_ndwi_4_2018.tif: No such file or directory"
     ]
    }
   ],
   "source": [
    "hex_gdf_i = hex_gdf_res.copy()\n",
    "r = res[0]\n",
    "hex_raster_analysis, df_raster_analysis = aup.raster_to_hex_analysis(hex_gdf_i, df_len, index_analysis,tmp_dir, city, r)"
   ]
  },
  {
   "cell_type": "markdown",
   "id": "3c8bac41-ee3a-4cca-b13b-a8cd5bb26c7c",
   "metadata": {},
   "source": [
    "## Data save"
   ]
  },
  {
   "cell_type": "code",
   "execution_count": null,
   "id": "4f0a2201-f281-4465-9d52-6e225938d9cc",
   "metadata": {},
   "outputs": [],
   "source": [
    "# local save\n",
    "if save:\n",
    "    hex_raster_analysis.to_file(tmp_dir+'local_save/'+f'{city}_{index_analysis}_HexRes{r}_v{i}.geojson')\n",
    "    df_raster_analysis.to_csv(tmp_dir+'local_save/'+f'{city}_{index_analysis}_HexRes{r}_v{i}.csv')"
   ]
  }
 ],
 "metadata": {
  "kernelspec": {
   "display_name": "Python 3 (ipykernel)",
   "language": "python",
   "name": "python3"
  },
  "language_info": {
   "codemirror_mode": {
    "name": "ipython",
    "version": 3
   },
   "file_extension": ".py",
   "mimetype": "text/x-python",
   "name": "python",
   "nbconvert_exporter": "python",
   "pygments_lexer": "ipython3",
   "version": "3.10.5"
  }
 },
 "nbformat": 4,
 "nbformat_minor": 5
}
