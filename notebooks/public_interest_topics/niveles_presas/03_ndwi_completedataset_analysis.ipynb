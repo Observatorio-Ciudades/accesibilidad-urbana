{
 "cells": [
  {
   "cell_type": "markdown",
   "id": "c67094ac-6ee2-44c9-8448-96955afd9ddb",
   "metadata": {},
   "source": [
    "## Import libraries"
   ]
  },
  {
   "cell_type": "code",
   "execution_count": 2,
   "id": "b6e0be4f-6535-423e-b89a-c262c161f65b",
   "metadata": {
    "tags": []
   },
   "outputs": [
    {
     "name": "stderr",
     "output_type": "stream",
     "text": [
      "/usr/local/python/lib/python3.10/site-packages/osmnx/utils.py:192: UserWarning: The `utils.config` function is deprecated and will be removed in a future release. Instead, use the `settings` module directly to configure a global setting's value. For example, `ox.settings.log_console=True`.\n",
      "  warnings.warn(\n"
     ]
    }
   ],
   "source": [
    "import os\n",
    "import sys\n",
    "\n",
    "import pandas as pd\n",
    "import geopandas as gpd\n",
    "import numpy as np\n",
    "\n",
    "import matplotlib.pyplot as plt\n",
    "from matplotlib import colors\n",
    "import seaborn as sns\n",
    "\n",
    "from pandas.api.types import CategoricalDtype\n",
    "\n",
    "import warnings\n",
    "warnings.simplefilter(action='ignore', category=FutureWarning)\n",
    "\n",
    "module_path = os.path.abspath(os.path.join('../../../'))\n",
    "if module_path not in sys.path:\n",
    "    sys.path.append(module_path)\n",
    "    import aup"
   ]
  },
  {
   "cell_type": "markdown",
   "id": "938542cf-3cd8-41ec-87f8-51b7a2f5368e",
   "metadata": {},
   "source": [
    "## Notebook config"
   ]
  },
  {
   "cell_type": "code",
   "execution_count": 3,
   "id": "f8036d98-5f5d-4cb4-9869-c594d9db66ee",
   "metadata": {
    "tags": []
   },
   "outputs": [],
   "source": [
    "# Desired damn name ('presa_laboca', 'presa_cerroprieto', 'presa_elcuchillo')\n",
    "city = 'presa_laboca'\n",
    "\n",
    "# Analysed hex resolution\n",
    "r = 12\n",
    "\n",
    "# Analysis name\n",
    "index_analysis = 'ndwi'\n",
    "\n",
    "# Analysed raster data from local directory:\n",
    "tmp_dir = f'../../../data/processed/tmp_{index_analysis}/'"
   ]
  },
  {
   "cell_type": "markdown",
   "id": "23a03fb9-be69-4db5-b77f-4f224819873d",
   "metadata": {},
   "source": [
    "## Data download"
   ]
  },
  {
   "cell_type": "markdown",
   "id": "67a35942-8844-4a0b-a9ac-be927afa6427",
   "metadata": {},
   "source": [
    "### Data download - Raster Analysis Data"
   ]
  },
  {
   "cell_type": "markdown",
   "id": "5a0ebb94-17bb-47c7-afd8-409de65bcfd7",
   "metadata": {},
   "source": [
    "Analized data"
   ]
  },
  {
   "cell_type": "code",
   "execution_count": 4,
   "id": "60414b23-565c-4f8e-8289-1d3a3aeba14f",
   "metadata": {
    "tags": []
   },
   "outputs": [
    {
     "name": "stdout",
     "output_type": "stream",
     "text": [
      "(36345, 11)\n"
     ]
    },
    {
     "data": {
      "text/html": [
       "<div>\n",
       "<style scoped>\n",
       "    .dataframe tbody tr th:only-of-type {\n",
       "        vertical-align: middle;\n",
       "    }\n",
       "\n",
       "    .dataframe tbody tr th {\n",
       "        vertical-align: top;\n",
       "    }\n",
       "\n",
       "    .dataframe thead th {\n",
       "        text-align: right;\n",
       "    }\n",
       "</style>\n",
       "<table border=\"1\" class=\"dataframe\">\n",
       "  <thead>\n",
       "    <tr style=\"text-align: right;\">\n",
       "      <th></th>\n",
       "      <th>hex_id</th>\n",
       "      <th>res</th>\n",
       "      <th>ndwi_mean</th>\n",
       "      <th>ndwi_std</th>\n",
       "      <th>ndwi_median</th>\n",
       "      <th>ndwi_max</th>\n",
       "      <th>ndwi_min</th>\n",
       "      <th>ndwi_diff</th>\n",
       "      <th>ndwi_tend</th>\n",
       "      <th>city</th>\n",
       "      <th>geometry</th>\n",
       "    </tr>\n",
       "  </thead>\n",
       "  <tbody>\n",
       "    <tr>\n",
       "      <th>0</th>\n",
       "      <td>8c48a2c48393bff</td>\n",
       "      <td>12</td>\n",
       "      <td>0.535006</td>\n",
       "      <td>0.35910</td>\n",
       "      <td>0.573144</td>\n",
       "      <td>0.988064</td>\n",
       "      <td>0.147519</td>\n",
       "      <td>0.840545</td>\n",
       "      <td>-0.006303</td>\n",
       "      <td>presa_laboca</td>\n",
       "      <td>POLYGON ((-100.13353 25.41407, -100.13343 25.4...</td>\n",
       "    </tr>\n",
       "    <tr>\n",
       "      <th>1</th>\n",
       "      <td>8c48a2c484f31ff</td>\n",
       "      <td>12</td>\n",
       "      <td>-0.536730</td>\n",
       "      <td>0.12981</td>\n",
       "      <td>-0.571273</td>\n",
       "      <td>-0.418482</td>\n",
       "      <td>-0.662224</td>\n",
       "      <td>0.243741</td>\n",
       "      <td>0.002016</td>\n",
       "      <td>presa_laboca</td>\n",
       "      <td>POLYGON ((-100.12104 25.41152, -100.12094 25.4...</td>\n",
       "    </tr>\n",
       "  </tbody>\n",
       "</table>\n",
       "</div>"
      ],
      "text/plain": [
       "            hex_id  res  ndwi_mean  ndwi_std  ndwi_median  ndwi_max  ndwi_min  \\\n",
       "0  8c48a2c48393bff   12   0.535006   0.35910     0.573144  0.988064  0.147519   \n",
       "1  8c48a2c484f31ff   12  -0.536730   0.12981    -0.571273 -0.418482 -0.662224   \n",
       "\n",
       "   ndwi_diff  ndwi_tend          city  \\\n",
       "0   0.840545  -0.006303  presa_laboca   \n",
       "1   0.243741   0.002016  presa_laboca   \n",
       "\n",
       "                                            geometry  \n",
       "0  POLYGON ((-100.13353 25.41407, -100.13343 25.4...  \n",
       "1  POLYGON ((-100.12104 25.41152, -100.12094 25.4...  "
      ]
     },
     "execution_count": 4,
     "metadata": {},
     "output_type": "execute_result"
    }
   ],
   "source": [
    "#Load data\n",
    "analysed_raster =gpd.read_file(tmp_dir+'local_save/'+f'{city}_{index_analysis}_HexRes{r}_.geojson')\n",
    "\n",
    "#Show\n",
    "print(analysed_raster.shape)\n",
    "analysed_raster.head(2)"
   ]
  },
  {
   "cell_type": "markdown",
   "id": "bd1f31fd-e742-4c7b-ab2e-fecdd85768d1",
   "metadata": {},
   "source": [
    "Complete dataset"
   ]
  },
  {
   "cell_type": "code",
   "execution_count": 5,
   "id": "ce78e71c-2edf-4295-b016-a43dc61495a2",
   "metadata": {
    "tags": []
   },
   "outputs": [
    {
     "name": "stdout",
     "output_type": "stream",
     "text": [
      "(3052980, 7)\n"
     ]
    },
    {
     "data": {
      "text/html": [
       "<div>\n",
       "<style scoped>\n",
       "    .dataframe tbody tr th:only-of-type {\n",
       "        vertical-align: middle;\n",
       "    }\n",
       "\n",
       "    .dataframe tbody tr th {\n",
       "        vertical-align: top;\n",
       "    }\n",
       "\n",
       "    .dataframe thead th {\n",
       "        text-align: right;\n",
       "    }\n",
       "</style>\n",
       "<table border=\"1\" class=\"dataframe\">\n",
       "  <thead>\n",
       "    <tr style=\"text-align: right;\">\n",
       "      <th></th>\n",
       "      <th>Unnamed: 0</th>\n",
       "      <th>hex_id</th>\n",
       "      <th>res</th>\n",
       "      <th>ndwi</th>\n",
       "      <th>month</th>\n",
       "      <th>year</th>\n",
       "      <th>city</th>\n",
       "    </tr>\n",
       "  </thead>\n",
       "  <tbody>\n",
       "    <tr>\n",
       "      <th>0</th>\n",
       "      <td>0</td>\n",
       "      <td>8c48a2c48393bff</td>\n",
       "      <td>12</td>\n",
       "      <td>0.636882</td>\n",
       "      <td>1</td>\n",
       "      <td>2016</td>\n",
       "      <td>presa_laboca</td>\n",
       "    </tr>\n",
       "    <tr>\n",
       "      <th>1</th>\n",
       "      <td>1</td>\n",
       "      <td>8c48a2c484f31ff</td>\n",
       "      <td>12</td>\n",
       "      <td>-0.614095</td>\n",
       "      <td>1</td>\n",
       "      <td>2016</td>\n",
       "      <td>presa_laboca</td>\n",
       "    </tr>\n",
       "  </tbody>\n",
       "</table>\n",
       "</div>"
      ],
      "text/plain": [
       "   Unnamed: 0           hex_id  res      ndwi  month  year          city\n",
       "0           0  8c48a2c48393bff   12  0.636882      1  2016  presa_laboca\n",
       "1           1  8c48a2c484f31ff   12 -0.614095      1  2016  presa_laboca"
      ]
     },
     "execution_count": 5,
     "metadata": {},
     "output_type": "execute_result"
    }
   ],
   "source": [
    "#Load data\n",
    "raster_dataset = pd.read_csv(tmp_dir+'local_save/'+f'{city}_{index_analysis}_HexRes{r}_.csv')\n",
    "\n",
    "#Show\n",
    "print(raster_dataset.shape)\n",
    "raster_dataset.head(2)"
   ]
  },
  {
   "cell_type": "code",
   "execution_count": 6,
   "id": "8fab85b9-3336-44ec-bcfa-47b1badb0059",
   "metadata": {
    "tags": []
   },
   "outputs": [
    {
     "data": {
      "text/html": [
       "<div>\n",
       "<style scoped>\n",
       "    .dataframe tbody tr th:only-of-type {\n",
       "        vertical-align: middle;\n",
       "    }\n",
       "\n",
       "    .dataframe tbody tr th {\n",
       "        vertical-align: top;\n",
       "    }\n",
       "\n",
       "    .dataframe thead th {\n",
       "        text-align: right;\n",
       "    }\n",
       "</style>\n",
       "<table border=\"1\" class=\"dataframe\">\n",
       "  <thead>\n",
       "    <tr style=\"text-align: right;\">\n",
       "      <th></th>\n",
       "      <th>hex_id</th>\n",
       "      <th>res</th>\n",
       "      <th>ndwi</th>\n",
       "      <th>month</th>\n",
       "      <th>year</th>\n",
       "      <th>city</th>\n",
       "    </tr>\n",
       "  </thead>\n",
       "  <tbody>\n",
       "    <tr>\n",
       "      <th>0</th>\n",
       "      <td>8c48a2c48393bff</td>\n",
       "      <td>12</td>\n",
       "      <td>0.636882</td>\n",
       "      <td>1</td>\n",
       "      <td>2016</td>\n",
       "      <td>presa_laboca</td>\n",
       "    </tr>\n",
       "    <tr>\n",
       "      <th>1</th>\n",
       "      <td>8c48a2c484f31ff</td>\n",
       "      <td>12</td>\n",
       "      <td>-0.614095</td>\n",
       "      <td>1</td>\n",
       "      <td>2016</td>\n",
       "      <td>presa_laboca</td>\n",
       "    </tr>\n",
       "  </tbody>\n",
       "</table>\n",
       "</div>"
      ],
      "text/plain": [
       "            hex_id  res      ndwi  month  year          city\n",
       "0  8c48a2c48393bff   12  0.636882      1  2016  presa_laboca\n",
       "1  8c48a2c484f31ff   12 -0.614095      1  2016  presa_laboca"
      ]
     },
     "execution_count": 6,
     "metadata": {},
     "output_type": "execute_result"
    }
   ],
   "source": [
    "raster_dataset = raster_dataset.drop(columns=['Unnamed: 0'])\n",
    "raster_dataset.head(2)"
   ]
  },
  {
   "cell_type": "markdown",
   "id": "08509c97-e141-4eda-a72b-23b67277553d",
   "metadata": {},
   "source": [
    "## Data treatment"
   ]
  },
  {
   "cell_type": "markdown",
   "id": "f7c233be-42b9-4e03-a214-ae0d6c4848d8",
   "metadata": {},
   "source": [
    "Data treatment - Create datetime data"
   ]
  },
  {
   "cell_type": "code",
   "execution_count": 7,
   "id": "8c46411d-b0d2-40df-a950-1ee693152f80",
   "metadata": {
    "tags": []
   },
   "outputs": [
    {
     "name": "stdout",
     "output_type": "stream",
     "text": [
      "(3052980, 7)\n"
     ]
    },
    {
     "data": {
      "text/html": [
       "<div>\n",
       "<style scoped>\n",
       "    .dataframe tbody tr th:only-of-type {\n",
       "        vertical-align: middle;\n",
       "    }\n",
       "\n",
       "    .dataframe tbody tr th {\n",
       "        vertical-align: top;\n",
       "    }\n",
       "\n",
       "    .dataframe thead th {\n",
       "        text-align: right;\n",
       "    }\n",
       "</style>\n",
       "<table border=\"1\" class=\"dataframe\">\n",
       "  <thead>\n",
       "    <tr style=\"text-align: right;\">\n",
       "      <th></th>\n",
       "      <th>hex_id</th>\n",
       "      <th>res</th>\n",
       "      <th>ndwi</th>\n",
       "      <th>month</th>\n",
       "      <th>year</th>\n",
       "      <th>city</th>\n",
       "      <th>date</th>\n",
       "    </tr>\n",
       "  </thead>\n",
       "  <tbody>\n",
       "    <tr>\n",
       "      <th>0</th>\n",
       "      <td>8c48a2c48393bff</td>\n",
       "      <td>12</td>\n",
       "      <td>0.636882</td>\n",
       "      <td>1</td>\n",
       "      <td>2016</td>\n",
       "      <td>presa_laboca</td>\n",
       "      <td>2016-01</td>\n",
       "    </tr>\n",
       "    <tr>\n",
       "      <th>1</th>\n",
       "      <td>8c48a2c484f31ff</td>\n",
       "      <td>12</td>\n",
       "      <td>-0.614095</td>\n",
       "      <td>1</td>\n",
       "      <td>2016</td>\n",
       "      <td>presa_laboca</td>\n",
       "      <td>2016-01</td>\n",
       "    </tr>\n",
       "  </tbody>\n",
       "</table>\n",
       "</div>"
      ],
      "text/plain": [
       "            hex_id  res      ndwi  month  year          city     date\n",
       "0  8c48a2c48393bff   12  0.636882      1  2016  presa_laboca  2016-01\n",
       "1  8c48a2c484f31ff   12 -0.614095      1  2016  presa_laboca  2016-01"
      ]
     },
     "execution_count": 7,
     "metadata": {},
     "output_type": "execute_result"
    }
   ],
   "source": [
    "#Creates datetime data by adding month (string) + / + year (string)\n",
    "raster_dataset['date'] = pd.to_datetime(raster_dataset['month'].astype(str) + '/' + raster_dataset['year'].astype(str))\n",
    "\n",
    "#Strips the day, leaving month and year\n",
    "raster_dataset['date'] = raster_dataset['date'].apply(lambda x: x.strftime('%Y-%m'))\n",
    "\n",
    "#Show\n",
    "print(raster_dataset.shape)\n",
    "raster_dataset.head(2)"
   ]
  },
  {
   "cell_type": "markdown",
   "id": "715d0551-fca3-45d2-9772-7065477268ac",
   "metadata": {},
   "source": [
    "Data treatment - Create raster categories"
   ]
  },
  {
   "cell_type": "code",
   "execution_count": 8,
   "id": "388ad92e-b363-4437-83ad-5dc550a109cd",
   "metadata": {
    "tags": []
   },
   "outputs": [
    {
     "name": "stdout",
     "output_type": "stream",
     "text": [
      "(3052980, 8)\n"
     ]
    },
    {
     "data": {
      "text/html": [
       "<div>\n",
       "<style scoped>\n",
       "    .dataframe tbody tr th:only-of-type {\n",
       "        vertical-align: middle;\n",
       "    }\n",
       "\n",
       "    .dataframe tbody tr th {\n",
       "        vertical-align: top;\n",
       "    }\n",
       "\n",
       "    .dataframe thead th {\n",
       "        text-align: right;\n",
       "    }\n",
       "</style>\n",
       "<table border=\"1\" class=\"dataframe\">\n",
       "  <thead>\n",
       "    <tr style=\"text-align: right;\">\n",
       "      <th></th>\n",
       "      <th>hex_id</th>\n",
       "      <th>res</th>\n",
       "      <th>ndwi</th>\n",
       "      <th>month</th>\n",
       "      <th>year</th>\n",
       "      <th>city</th>\n",
       "      <th>date</th>\n",
       "      <th>ndwi_category</th>\n",
       "    </tr>\n",
       "  </thead>\n",
       "  <tbody>\n",
       "    <tr>\n",
       "      <th>0</th>\n",
       "      <td>8c48a2c48393bff</td>\n",
       "      <td>12</td>\n",
       "      <td>0.636882</td>\n",
       "      <td>1</td>\n",
       "      <td>2016</td>\n",
       "      <td>presa_laboca</td>\n",
       "      <td>2016-01</td>\n",
       "      <td>Water surface</td>\n",
       "    </tr>\n",
       "    <tr>\n",
       "      <th>1</th>\n",
       "      <td>8c48a2c484f31ff</td>\n",
       "      <td>12</td>\n",
       "      <td>-0.614095</td>\n",
       "      <td>1</td>\n",
       "      <td>2016</td>\n",
       "      <td>presa_laboca</td>\n",
       "      <td>2016-01</td>\n",
       "      <td>Drought, non-aqueous surfaces</td>\n",
       "    </tr>\n",
       "  </tbody>\n",
       "</table>\n",
       "</div>"
      ],
      "text/plain": [
       "            hex_id  res      ndwi  month  year          city     date  \\\n",
       "0  8c48a2c48393bff   12  0.636882      1  2016  presa_laboca  2016-01   \n",
       "1  8c48a2c484f31ff   12 -0.614095      1  2016  presa_laboca  2016-01   \n",
       "\n",
       "                   ndwi_category  \n",
       "0                  Water surface  \n",
       "1  Drought, non-aqueous surfaces  "
      ]
     },
     "execution_count": 8,
     "metadata": {},
     "output_type": "execute_result"
    }
   ],
   "source": [
    "# Creating vegetation categories\n",
    "raster_dataset['ndwi_category'] = np.nan\n",
    "\n",
    "raster_dataset.loc[raster_dataset.ndwi>=0.2 , 'ndwi_category'] = 'Water surface'        \n",
    "raster_dataset.loc[(raster_dataset.ndwi>=0.0)&\n",
    "             (raster_dataset.ndwi<0.2), 'ndwi_category'] = 'Flooding, humidity'\n",
    "raster_dataset.loc[(raster_dataset.ndwi>=-0.3)&\n",
    "             (raster_dataset.ndwi<0.0), 'ndwi_category'] = 'Moderate drought, non-aqueous surfaces'\n",
    "raster_dataset.loc[(raster_dataset.ndwi<-0.3), 'ndwi_category'] = 'Drought, non-aqueous surfaces'\n",
    "\n",
    "# Ordering data\n",
    "categories = ['Drought, non-aqueous surfaces', 'Moderate drought, non-aqueous surfaces', 'Flooding, humidity', 'Water surface']\n",
    "raster_dataset['ndwi_category'] = pd.Categorical(raster_dataset['ndwi_category'], categories=categories, ordered=True)\n",
    "\n",
    "#Show\n",
    "print(raster_dataset.shape)\n",
    "raster_dataset.head(2)"
   ]
  },
  {
   "cell_type": "markdown",
   "id": "8aa2be93-b6b6-4705-aef2-37086defac5b",
   "metadata": {},
   "source": [
    "## Data analysis"
   ]
  },
  {
   "cell_type": "markdown",
   "id": "6547b079-c1d4-4847-8750-0036c555ca7d",
   "metadata": {},
   "source": [
    "### Data analysis - Historical behaviour"
   ]
  },
  {
   "cell_type": "markdown",
   "id": "7ed5dfe2-780c-45e1-bec2-487524c7b46b",
   "metadata": {},
   "source": [
    "Calculate basics for analysis"
   ]
  },
  {
   "cell_type": "code",
   "execution_count": 40,
   "id": "4e987a3a-af6f-4613-9e1d-c141850de850",
   "metadata": {
    "tags": []
   },
   "outputs": [
    {
     "name": "stdout",
     "output_type": "stream",
     "text": [
      "84\n"
     ]
    }
   ],
   "source": [
    "#Calculate average hex area according to resolution and location (Not currently in use)\n",
    "#gdf = analysed_raster.to_crs(\"EPSG:6372\")\n",
    "#gdf['area'] = gdf.area\n",
    "#average_hexarea = gdf.area.mean()\n",
    "#print(average_hexarea)\n",
    "\n",
    "#Calculate average hex area according to resolution and location\n",
    "available_dates = len(raster_dataset.date.unique())\n",
    "print(available_dates)"
   ]
  },
  {
   "cell_type": "markdown",
   "id": "65b51b02-8a79-48db-a2f9-a8e759d84898",
   "metadata": {
    "tags": []
   },
   "source": [
    "Calculate historical area behaviour"
   ]
  },
  {
   "cell_type": "code",
   "execution_count": 38,
   "id": "56591859-c075-4d72-b712-791393892add",
   "metadata": {
    "tags": []
   },
   "outputs": [
    {
     "name": "stdout",
     "output_type": "stream",
     "text": [
      "(336, 5)\n"
     ]
    },
    {
     "data": {
      "text/html": [
       "<div>\n",
       "<style scoped>\n",
       "    .dataframe tbody tr th:only-of-type {\n",
       "        vertical-align: middle;\n",
       "    }\n",
       "\n",
       "    .dataframe tbody tr th {\n",
       "        vertical-align: top;\n",
       "    }\n",
       "\n",
       "    .dataframe thead th {\n",
       "        text-align: right;\n",
       "    }\n",
       "</style>\n",
       "<table border=\"1\" class=\"dataframe\">\n",
       "  <thead>\n",
       "    <tr style=\"text-align: right;\">\n",
       "      <th></th>\n",
       "      <th>date</th>\n",
       "      <th>ndwi_category</th>\n",
       "      <th>hexcount</th>\n",
       "      <th>percentage</th>\n",
       "      <th>city</th>\n",
       "    </tr>\n",
       "  </thead>\n",
       "  <tbody>\n",
       "    <tr>\n",
       "      <th>0</th>\n",
       "      <td>2016-01</td>\n",
       "      <td>Drought, non-aqueous surfaces</td>\n",
       "      <td>22175</td>\n",
       "      <td>61.012519</td>\n",
       "      <td>presa_laboca</td>\n",
       "    </tr>\n",
       "    <tr>\n",
       "      <th>1</th>\n",
       "      <td>2016-01</td>\n",
       "      <td>Moderate drought, non-aqueous surfaces</td>\n",
       "      <td>3153</td>\n",
       "      <td>8.675196</td>\n",
       "      <td>presa_laboca</td>\n",
       "    </tr>\n",
       "    <tr>\n",
       "      <th>2</th>\n",
       "      <td>2016-01</td>\n",
       "      <td>Flooding, humidity</td>\n",
       "      <td>354</td>\n",
       "      <td>0.973999</td>\n",
       "      <td>presa_laboca</td>\n",
       "    </tr>\n",
       "    <tr>\n",
       "      <th>3</th>\n",
       "      <td>2016-01</td>\n",
       "      <td>Water surface</td>\n",
       "      <td>10663</td>\n",
       "      <td>29.338286</td>\n",
       "      <td>presa_laboca</td>\n",
       "    </tr>\n",
       "    <tr>\n",
       "      <th>4</th>\n",
       "      <td>2016-02</td>\n",
       "      <td>Drought, non-aqueous surfaces</td>\n",
       "      <td>20831</td>\n",
       "      <td>57.314624</td>\n",
       "      <td>presa_laboca</td>\n",
       "    </tr>\n",
       "    <tr>\n",
       "      <th>...</th>\n",
       "      <td>...</td>\n",
       "      <td>...</td>\n",
       "      <td>...</td>\n",
       "      <td>...</td>\n",
       "      <td>...</td>\n",
       "    </tr>\n",
       "    <tr>\n",
       "      <th>331</th>\n",
       "      <td>2022-11</td>\n",
       "      <td>Water surface</td>\n",
       "      <td>232</td>\n",
       "      <td>0.638327</td>\n",
       "      <td>presa_laboca</td>\n",
       "    </tr>\n",
       "    <tr>\n",
       "      <th>332</th>\n",
       "      <td>2022-12</td>\n",
       "      <td>Drought, non-aqueous surfaces</td>\n",
       "      <td>17127</td>\n",
       "      <td>47.123401</td>\n",
       "      <td>presa_laboca</td>\n",
       "    </tr>\n",
       "    <tr>\n",
       "      <th>333</th>\n",
       "      <td>2022-12</td>\n",
       "      <td>Moderate drought, non-aqueous surfaces</td>\n",
       "      <td>9209</td>\n",
       "      <td>25.337736</td>\n",
       "      <td>presa_laboca</td>\n",
       "    </tr>\n",
       "    <tr>\n",
       "      <th>334</th>\n",
       "      <td>2022-12</td>\n",
       "      <td>Flooding, humidity</td>\n",
       "      <td>9883</td>\n",
       "      <td>27.192186</td>\n",
       "      <td>presa_laboca</td>\n",
       "    </tr>\n",
       "    <tr>\n",
       "      <th>335</th>\n",
       "      <td>2022-12</td>\n",
       "      <td>Water surface</td>\n",
       "      <td>126</td>\n",
       "      <td>0.346678</td>\n",
       "      <td>presa_laboca</td>\n",
       "    </tr>\n",
       "  </tbody>\n",
       "</table>\n",
       "<p>336 rows × 5 columns</p>\n",
       "</div>"
      ],
      "text/plain": [
       "        date                           ndwi_category hexcount percentage  \\\n",
       "0    2016-01           Drought, non-aqueous surfaces    22175  61.012519   \n",
       "1    2016-01  Moderate drought, non-aqueous surfaces     3153   8.675196   \n",
       "2    2016-01                      Flooding, humidity      354   0.973999   \n",
       "3    2016-01                           Water surface    10663  29.338286   \n",
       "4    2016-02           Drought, non-aqueous surfaces    20831  57.314624   \n",
       "..       ...                                     ...      ...        ...   \n",
       "331  2022-11                           Water surface      232   0.638327   \n",
       "332  2022-12           Drought, non-aqueous surfaces    17127  47.123401   \n",
       "333  2022-12  Moderate drought, non-aqueous surfaces     9209  25.337736   \n",
       "334  2022-12                      Flooding, humidity     9883  27.192186   \n",
       "335  2022-12                           Water surface      126   0.346678   \n",
       "\n",
       "             city  \n",
       "0    presa_laboca  \n",
       "1    presa_laboca  \n",
       "2    presa_laboca  \n",
       "3    presa_laboca  \n",
       "4    presa_laboca  \n",
       "..            ...  \n",
       "331  presa_laboca  \n",
       "332  presa_laboca  \n",
       "333  presa_laboca  \n",
       "334  presa_laboca  \n",
       "335  presa_laboca  \n",
       "\n",
       "[336 rows x 5 columns]"
      ]
     },
     "execution_count": 38,
     "metadata": {},
     "output_type": "execute_result"
    }
   ],
   "source": [
    "#Create DataFrame\n",
    "cols = ['date', 'ndwi_category', 'hexcount','percentage']\n",
    "historical_behaviour = pd.DataFrame(columns=cols, index=range(available_dates*4)) # rows = available dates * available categories\n",
    "historical_behaviour['city'] = city\n",
    "\n",
    "#Loop for each date\n",
    "count = 0\n",
    "\n",
    "for date in raster_dataset.date.unique():\n",
    "    complete_bydate = raster_dataset.loc[(raster_dataset.date == date)]\n",
    "    date_count = complete_bydate.shape[0]\n",
    "    \n",
    "    #Loop for each raster category\n",
    "    for cat in categories:\n",
    "        complete_bydate_cat = complete_bydate.loc[(complete_bydate.ndwi_category == cat)]\n",
    "        cat_count = complete_bydate_cat.shape[0]\n",
    "        \n",
    "        #Register data in DataFrame\n",
    "        historical_behaviour.loc[count].date = date\n",
    "        historical_behaviour.loc[count].ndwi_category = cat\n",
    "        historical_behaviour.loc[count].hexcount = cat_count\n",
    "        historical_behaviour.loc[count].percentage = (cat_count/date_count)*100     \n",
    "        \n",
    "        #Next row in DataFrame\n",
    "        count = count + 1\n",
    "        \n",
    "#Show\n",
    "print(historical_behaviour.shape)\n",
    "historical_behaviour"
   ]
  },
  {
   "cell_type": "code",
   "execution_count": null,
   "id": "af448248-8874-41b3-9f5d-3aafabb7261f",
   "metadata": {},
   "outputs": [],
   "source": []
  }
 ],
 "metadata": {
  "kernelspec": {
   "display_name": "Python 3 (ipykernel)",
   "language": "python",
   "name": "python3"
  },
  "language_info": {
   "codemirror_mode": {
    "name": "ipython",
    "version": 3
   },
   "file_extension": ".py",
   "mimetype": "text/x-python",
   "name": "python",
   "nbconvert_exporter": "python",
   "pygments_lexer": "ipython3",
   "version": "3.10.5"
  }
 },
 "nbformat": 4,
 "nbformat_minor": 5
}
