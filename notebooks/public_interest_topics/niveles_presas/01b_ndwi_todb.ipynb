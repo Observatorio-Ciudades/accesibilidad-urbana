{
 "cells": [
  {
   "cell_type": "code",
   "execution_count": 1,
   "id": "a0729860-8346-407e-adeb-ae6c6479198a",
   "metadata": {
    "tags": []
   },
   "outputs": [
    {
     "name": "stderr",
     "output_type": "stream",
     "text": [
      "/usr/local/python/lib/python3.10/site-packages/osmnx/utils.py:192: UserWarning: The `utils.config` function is deprecated and will be removed in a future release. Instead, use the `settings` module directly to configure a global setting's value. For example, `ox.settings.log_console=True`.\n",
      "  warnings.warn(\n"
     ]
    }
   ],
   "source": [
    "import os\n",
    "import sys\n",
    "\n",
    "import pandas as pd\n",
    "import geopandas as gpd\n",
    "import numpy as np\n",
    "\n",
    "import matplotlib.pyplot as plt\n",
    "from matplotlib import colors\n",
    "import seaborn as sns\n",
    "\n",
    "from pandas.api.types import CategoricalDtype\n",
    "\n",
    "import warnings\n",
    "warnings.simplefilter(action='ignore', category=FutureWarning)\n",
    "\n",
    "module_path = os.path.abspath(os.path.join('../../../'))\n",
    "if module_path not in sys.path:\n",
    "    sys.path.append(module_path)\n",
    "    import aup"
   ]
  },
  {
   "cell_type": "code",
   "execution_count": 2,
   "id": "0e1a6b1e-ac93-4efb-964b-474746923293",
   "metadata": {
    "tags": []
   },
   "outputs": [],
   "source": [
    "# Analysis name\n",
    "index_analysis = 'ndwi'\n",
    "\n",
    "# Analysed raster data from local directory:\n",
    "tmp_dir = f'../../../data/processed/tmp_{index_analysis}/'"
   ]
  },
  {
   "cell_type": "code",
   "execution_count": 3,
   "id": "a79b175e-c75b-4e6d-a4a6-4f6df515d204",
   "metadata": {
    "tags": []
   },
   "outputs": [
    {
     "name": "stdout",
     "output_type": "stream",
     "text": [
      "(36345, 11)\n"
     ]
    },
    {
     "data": {
      "text/html": [
       "<div>\n",
       "<style scoped>\n",
       "    .dataframe tbody tr th:only-of-type {\n",
       "        vertical-align: middle;\n",
       "    }\n",
       "\n",
       "    .dataframe tbody tr th {\n",
       "        vertical-align: top;\n",
       "    }\n",
       "\n",
       "    .dataframe thead th {\n",
       "        text-align: right;\n",
       "    }\n",
       "</style>\n",
       "<table border=\"1\" class=\"dataframe\">\n",
       "  <thead>\n",
       "    <tr style=\"text-align: right;\">\n",
       "      <th></th>\n",
       "      <th>hex_id</th>\n",
       "      <th>res</th>\n",
       "      <th>ndwi_mean</th>\n",
       "      <th>ndwi_std</th>\n",
       "      <th>ndwi_median</th>\n",
       "      <th>ndwi_max</th>\n",
       "      <th>ndwi_min</th>\n",
       "      <th>ndwi_diff</th>\n",
       "      <th>ndwi_tend</th>\n",
       "      <th>city</th>\n",
       "      <th>geometry</th>\n",
       "    </tr>\n",
       "  </thead>\n",
       "  <tbody>\n",
       "    <tr>\n",
       "      <th>0</th>\n",
       "      <td>8c48a2c4841d7ff</td>\n",
       "      <td>12</td>\n",
       "      <td>-0.643779</td>\n",
       "      <td>0.138022</td>\n",
       "      <td>-0.692456</td>\n",
       "      <td>-0.555807</td>\n",
       "      <td>-0.739539</td>\n",
       "      <td>0.183731</td>\n",
       "      <td>0.002027</td>\n",
       "      <td>presa_laboca</td>\n",
       "      <td>POLYGON ((-100.12212 25.40985, -100.12203 25.4...</td>\n",
       "    </tr>\n",
       "    <tr>\n",
       "      <th>1</th>\n",
       "      <td>8c48a2c4bae0dff</td>\n",
       "      <td>12</td>\n",
       "      <td>-0.595470</td>\n",
       "      <td>0.129333</td>\n",
       "      <td>-0.635417</td>\n",
       "      <td>-0.476425</td>\n",
       "      <td>-0.675642</td>\n",
       "      <td>0.199217</td>\n",
       "      <td>0.001727</td>\n",
       "      <td>presa_laboca</td>\n",
       "      <td>POLYGON ((-100.13914 25.43324, -100.13904 25.4...</td>\n",
       "    </tr>\n",
       "  </tbody>\n",
       "</table>\n",
       "</div>"
      ],
      "text/plain": [
       "            hex_id  res  ndwi_mean  ndwi_std  ndwi_median  ndwi_max  ndwi_min  \\\n",
       "0  8c48a2c4841d7ff   12  -0.643779  0.138022    -0.692456 -0.555807 -0.739539   \n",
       "1  8c48a2c4bae0dff   12  -0.595470  0.129333    -0.635417 -0.476425 -0.675642   \n",
       "\n",
       "   ndwi_diff  ndwi_tend          city  \\\n",
       "0   0.183731   0.002027  presa_laboca   \n",
       "1   0.199217   0.001727  presa_laboca   \n",
       "\n",
       "                                            geometry  \n",
       "0  POLYGON ((-100.12212 25.40985, -100.12203 25.4...  \n",
       "1  POLYGON ((-100.13914 25.43324, -100.13904 25.4...  "
      ]
     },
     "execution_count": 3,
     "metadata": {},
     "output_type": "execute_result"
    }
   ],
   "source": [
    "#Load data\n",
    "city = 'presa_laboca'\n",
    "r = 12\n",
    "analysed_laboca =gpd.read_file(tmp_dir+'local_save/'+f'{city}_{index_analysis}_HexRes{r}_v0.geojson')\n",
    "\n",
    "#Show\n",
    "print(analysed_laboca.shape)\n",
    "analysed_laboca.head(2)"
   ]
  },
  {
   "cell_type": "code",
   "execution_count": 4,
   "id": "a73f294b-7cf5-44ea-af29-402c1b2e1cb0",
   "metadata": {
    "tags": []
   },
   "outputs": [
    {
     "name": "stdout",
     "output_type": "stream",
     "text": [
      "(132098, 11)\n"
     ]
    },
    {
     "data": {
      "text/html": [
       "<div>\n",
       "<style scoped>\n",
       "    .dataframe tbody tr th:only-of-type {\n",
       "        vertical-align: middle;\n",
       "    }\n",
       "\n",
       "    .dataframe tbody tr th {\n",
       "        vertical-align: top;\n",
       "    }\n",
       "\n",
       "    .dataframe thead th {\n",
       "        text-align: right;\n",
       "    }\n",
       "</style>\n",
       "<table border=\"1\" class=\"dataframe\">\n",
       "  <thead>\n",
       "    <tr style=\"text-align: right;\">\n",
       "      <th></th>\n",
       "      <th>hex_id</th>\n",
       "      <th>res</th>\n",
       "      <th>ndwi_mean</th>\n",
       "      <th>ndwi_std</th>\n",
       "      <th>ndwi_median</th>\n",
       "      <th>ndwi_max</th>\n",
       "      <th>ndwi_min</th>\n",
       "      <th>ndwi_diff</th>\n",
       "      <th>ndwi_tend</th>\n",
       "      <th>city</th>\n",
       "      <th>geometry</th>\n",
       "    </tr>\n",
       "  </thead>\n",
       "  <tbody>\n",
       "    <tr>\n",
       "      <th>0</th>\n",
       "      <td>8c48b5149d749ff</td>\n",
       "      <td>12</td>\n",
       "      <td>0.201456</td>\n",
       "      <td>0.413585</td>\n",
       "      <td>0.249939</td>\n",
       "      <td>0.448300</td>\n",
       "      <td>-0.075389</td>\n",
       "      <td>0.523689</td>\n",
       "      <td>-0.011324</td>\n",
       "      <td>presa_cerroprieto</td>\n",
       "      <td>POLYGON ((-99.41748 24.90971, -99.41738 24.909...</td>\n",
       "    </tr>\n",
       "    <tr>\n",
       "      <th>1</th>\n",
       "      <td>8c48b5a9648c3ff</td>\n",
       "      <td>12</td>\n",
       "      <td>-0.325997</td>\n",
       "      <td>0.081570</td>\n",
       "      <td>-0.323608</td>\n",
       "      <td>-0.243952</td>\n",
       "      <td>-0.412521</td>\n",
       "      <td>0.168570</td>\n",
       "      <td>0.002045</td>\n",
       "      <td>presa_cerroprieto</td>\n",
       "      <td>POLYGON ((-99.40471 24.94664, -99.40461 24.946...</td>\n",
       "    </tr>\n",
       "  </tbody>\n",
       "</table>\n",
       "</div>"
      ],
      "text/plain": [
       "            hex_id  res  ndwi_mean  ndwi_std  ndwi_median  ndwi_max  ndwi_min  \\\n",
       "0  8c48b5149d749ff   12   0.201456  0.413585     0.249939  0.448300 -0.075389   \n",
       "1  8c48b5a9648c3ff   12  -0.325997  0.081570    -0.323608 -0.243952 -0.412521   \n",
       "\n",
       "   ndwi_diff  ndwi_tend               city  \\\n",
       "0   0.523689  -0.011324  presa_cerroprieto   \n",
       "1   0.168570   0.002045  presa_cerroprieto   \n",
       "\n",
       "                                            geometry  \n",
       "0  POLYGON ((-99.41748 24.90971, -99.41738 24.909...  \n",
       "1  POLYGON ((-99.40471 24.94664, -99.40461 24.946...  "
      ]
     },
     "execution_count": 4,
     "metadata": {},
     "output_type": "execute_result"
    }
   ],
   "source": [
    "#Load data\n",
    "city = 'presa_cerroprieto'\n",
    "r = 12\n",
    "analysed_cerroprieto =gpd.read_file(tmp_dir+'local_save/'+f'{city}_{index_analysis}_HexRes{r}_v0.geojson')\n",
    "\n",
    "#Show\n",
    "print(analysed_cerroprieto.shape)\n",
    "analysed_cerroprieto.head(2)"
   ]
  },
  {
   "cell_type": "code",
   "execution_count": 5,
   "id": "a05d8a50-9258-494f-ba32-241ea9b7b792",
   "metadata": {
    "tags": []
   },
   "outputs": [
    {
     "name": "stdout",
     "output_type": "stream",
     "text": [
      "(83351, 11)\n"
     ]
    },
    {
     "data": {
      "text/html": [
       "<div>\n",
       "<style scoped>\n",
       "    .dataframe tbody tr th:only-of-type {\n",
       "        vertical-align: middle;\n",
       "    }\n",
       "\n",
       "    .dataframe tbody tr th {\n",
       "        vertical-align: top;\n",
       "    }\n",
       "\n",
       "    .dataframe thead th {\n",
       "        text-align: right;\n",
       "    }\n",
       "</style>\n",
       "<table border=\"1\" class=\"dataframe\">\n",
       "  <thead>\n",
       "    <tr style=\"text-align: right;\">\n",
       "      <th></th>\n",
       "      <th>hex_id</th>\n",
       "      <th>res</th>\n",
       "      <th>ndwi_mean</th>\n",
       "      <th>ndwi_std</th>\n",
       "      <th>ndwi_median</th>\n",
       "      <th>ndwi_max</th>\n",
       "      <th>ndwi_min</th>\n",
       "      <th>ndwi_diff</th>\n",
       "      <th>ndwi_tend</th>\n",
       "      <th>city</th>\n",
       "      <th>geometry</th>\n",
       "    </tr>\n",
       "  </thead>\n",
       "  <tbody>\n",
       "    <tr>\n",
       "      <th>0</th>\n",
       "      <td>8b48b1950283fff</td>\n",
       "      <td>11</td>\n",
       "      <td>0.468178</td>\n",
       "      <td>0.247639</td>\n",
       "      <td>0.501229</td>\n",
       "      <td>0.739304</td>\n",
       "      <td>0.224188</td>\n",
       "      <td>0.515116</td>\n",
       "      <td>-0.005630</td>\n",
       "      <td>presa_elcuchillo</td>\n",
       "      <td>POLYGON ((-99.35052 25.63096, -99.35033 25.631...</td>\n",
       "    </tr>\n",
       "    <tr>\n",
       "      <th>1</th>\n",
       "      <td>8b48b1820942fff</td>\n",
       "      <td>11</td>\n",
       "      <td>-0.354820</td>\n",
       "      <td>0.082494</td>\n",
       "      <td>-0.372884</td>\n",
       "      <td>-0.292095</td>\n",
       "      <td>-0.436436</td>\n",
       "      <td>0.144341</td>\n",
       "      <td>0.001809</td>\n",
       "      <td>presa_elcuchillo</td>\n",
       "      <td>POLYGON ((-99.28664 25.61654, -99.28645 25.616...</td>\n",
       "    </tr>\n",
       "  </tbody>\n",
       "</table>\n",
       "</div>"
      ],
      "text/plain": [
       "            hex_id  res  ndwi_mean  ndwi_std  ndwi_median  ndwi_max  ndwi_min  \\\n",
       "0  8b48b1950283fff   11   0.468178  0.247639     0.501229  0.739304  0.224188   \n",
       "1  8b48b1820942fff   11  -0.354820  0.082494    -0.372884 -0.292095 -0.436436   \n",
       "\n",
       "   ndwi_diff  ndwi_tend              city  \\\n",
       "0   0.515116  -0.005630  presa_elcuchillo   \n",
       "1   0.144341   0.001809  presa_elcuchillo   \n",
       "\n",
       "                                            geometry  \n",
       "0  POLYGON ((-99.35052 25.63096, -99.35033 25.631...  \n",
       "1  POLYGON ((-99.28664 25.61654, -99.28645 25.616...  "
      ]
     },
     "execution_count": 5,
     "metadata": {},
     "output_type": "execute_result"
    }
   ],
   "source": [
    "#Load data\n",
    "city = 'presa_elcuchillo'\n",
    "r = 11\n",
    "analysed_elcuchillo =gpd.read_file(tmp_dir+'local_save/'+f'{city}_{index_analysis}_HexRes{r}_v0.geojson')\n",
    "\n",
    "#Show\n",
    "print(analysed_elcuchillo.shape)\n",
    "analysed_elcuchillo.head(2)"
   ]
  },
  {
   "cell_type": "code",
   "execution_count": 6,
   "id": "9e54d557-89ee-45bf-b398-9b2d49f91102",
   "metadata": {
    "tags": []
   },
   "outputs": [
    {
     "name": "stdout",
     "output_type": "stream",
     "text": [
      "(251794, 11)\n"
     ]
    },
    {
     "data": {
      "text/html": [
       "<div>\n",
       "<style scoped>\n",
       "    .dataframe tbody tr th:only-of-type {\n",
       "        vertical-align: middle;\n",
       "    }\n",
       "\n",
       "    .dataframe tbody tr th {\n",
       "        vertical-align: top;\n",
       "    }\n",
       "\n",
       "    .dataframe thead th {\n",
       "        text-align: right;\n",
       "    }\n",
       "</style>\n",
       "<table border=\"1\" class=\"dataframe\">\n",
       "  <thead>\n",
       "    <tr style=\"text-align: right;\">\n",
       "      <th></th>\n",
       "      <th>hex_id</th>\n",
       "      <th>res</th>\n",
       "      <th>ndwi_mean</th>\n",
       "      <th>ndwi_std</th>\n",
       "      <th>ndwi_median</th>\n",
       "      <th>ndwi_max</th>\n",
       "      <th>ndwi_min</th>\n",
       "      <th>ndwi_diff</th>\n",
       "      <th>ndwi_tend</th>\n",
       "      <th>city</th>\n",
       "      <th>geometry</th>\n",
       "    </tr>\n",
       "  </thead>\n",
       "  <tbody>\n",
       "    <tr>\n",
       "      <th>0</th>\n",
       "      <td>8c48a2c4841d7ff</td>\n",
       "      <td>12</td>\n",
       "      <td>-0.643779</td>\n",
       "      <td>0.138022</td>\n",
       "      <td>-0.692456</td>\n",
       "      <td>-0.555807</td>\n",
       "      <td>-0.739539</td>\n",
       "      <td>0.183731</td>\n",
       "      <td>0.002027</td>\n",
       "      <td>presa_laboca</td>\n",
       "      <td>POLYGON ((-100.12212 25.40985, -100.12203 25.4...</td>\n",
       "    </tr>\n",
       "    <tr>\n",
       "      <th>1</th>\n",
       "      <td>8c48a2c4bae0dff</td>\n",
       "      <td>12</td>\n",
       "      <td>-0.595470</td>\n",
       "      <td>0.129333</td>\n",
       "      <td>-0.635417</td>\n",
       "      <td>-0.476425</td>\n",
       "      <td>-0.675642</td>\n",
       "      <td>0.199217</td>\n",
       "      <td>0.001727</td>\n",
       "      <td>presa_laboca</td>\n",
       "      <td>POLYGON ((-100.13914 25.43324, -100.13904 25.4...</td>\n",
       "    </tr>\n",
       "  </tbody>\n",
       "</table>\n",
       "</div>"
      ],
      "text/plain": [
       "            hex_id  res  ndwi_mean  ndwi_std  ndwi_median  ndwi_max  ndwi_min  \\\n",
       "0  8c48a2c4841d7ff   12  -0.643779  0.138022    -0.692456 -0.555807 -0.739539   \n",
       "1  8c48a2c4bae0dff   12  -0.595470  0.129333    -0.635417 -0.476425 -0.675642   \n",
       "\n",
       "   ndwi_diff  ndwi_tend          city  \\\n",
       "0   0.183731   0.002027  presa_laboca   \n",
       "1   0.199217   0.001727  presa_laboca   \n",
       "\n",
       "                                            geometry  \n",
       "0  POLYGON ((-100.12212 25.40985, -100.12203 25.4...  \n",
       "1  POLYGON ((-100.13914 25.43324, -100.13904 25.4...  "
      ]
     },
     "execution_count": 6,
     "metadata": {},
     "output_type": "execute_result"
    }
   ],
   "source": [
    "#Gdfs to concatenate\n",
    "analysed_gdfs = [analysed_laboca,analysed_cerroprieto,analysed_elcuchillo]\n",
    "\n",
    "#Concatenate\n",
    "analysed_dams = pd.concat(analysed_gdfs)\n",
    "\n",
    "#Show\n",
    "print(analysed_dams.shape)\n",
    "analysed_dams.head(2)"
   ]
  },
  {
   "cell_type": "code",
   "execution_count": 7,
   "id": "d32b91c2-3776-4811-96b1-dfd32682446d",
   "metadata": {
    "tags": []
   },
   "outputs": [],
   "source": [
    "aup.gdf_to_db_slow(analysed_dams, f'{index_analysis}_analysis_hex','raster_analysis', if_exists='replace')"
   ]
  },
  {
   "cell_type": "code",
   "execution_count": 3,
   "id": "b386aa3c-b63b-4e5c-9732-7aaf01a470b3",
   "metadata": {
    "tags": []
   },
   "outputs": [
    {
     "name": "stdout",
     "output_type": "stream",
     "text": [
      "(3052980, 6)\n"
     ]
    },
    {
     "data": {
      "text/html": [
       "<div>\n",
       "<style scoped>\n",
       "    .dataframe tbody tr th:only-of-type {\n",
       "        vertical-align: middle;\n",
       "    }\n",
       "\n",
       "    .dataframe tbody tr th {\n",
       "        vertical-align: top;\n",
       "    }\n",
       "\n",
       "    .dataframe thead th {\n",
       "        text-align: right;\n",
       "    }\n",
       "</style>\n",
       "<table border=\"1\" class=\"dataframe\">\n",
       "  <thead>\n",
       "    <tr style=\"text-align: right;\">\n",
       "      <th></th>\n",
       "      <th>hex_id</th>\n",
       "      <th>res</th>\n",
       "      <th>ndwi</th>\n",
       "      <th>month</th>\n",
       "      <th>year</th>\n",
       "      <th>city</th>\n",
       "    </tr>\n",
       "  </thead>\n",
       "  <tbody>\n",
       "    <tr>\n",
       "      <th>0</th>\n",
       "      <td>8c48a2c48393bff</td>\n",
       "      <td>12</td>\n",
       "      <td>0.636882</td>\n",
       "      <td>1</td>\n",
       "      <td>2016</td>\n",
       "      <td>presa_laboca</td>\n",
       "    </tr>\n",
       "    <tr>\n",
       "      <th>1</th>\n",
       "      <td>8c48a2c484f31ff</td>\n",
       "      <td>12</td>\n",
       "      <td>-0.614095</td>\n",
       "      <td>1</td>\n",
       "      <td>2016</td>\n",
       "      <td>presa_laboca</td>\n",
       "    </tr>\n",
       "  </tbody>\n",
       "</table>\n",
       "</div>"
      ],
      "text/plain": [
       "            hex_id  res      ndwi  month  year          city\n",
       "0  8c48a2c48393bff   12  0.636882      1  2016  presa_laboca\n",
       "1  8c48a2c484f31ff   12 -0.614095      1  2016  presa_laboca"
      ]
     },
     "execution_count": 3,
     "metadata": {},
     "output_type": "execute_result"
    }
   ],
   "source": [
    "#Load data\n",
    "city = 'presa_laboca'\n",
    "r = 12\n",
    "complete_laboca = pd.read_csv(tmp_dir+'local_save/'+f'{city}_{index_analysis}_HexRes{r}_.csv')\n",
    "\n",
    "complete_laboca = complete_laboca.drop(columns=['Unnamed: 0'])\n",
    "\n",
    "#Show\n",
    "print(complete_laboca.shape)\n",
    "complete_laboca.head(2)"
   ]
  },
  {
   "cell_type": "code",
   "execution_count": 4,
   "id": "d2a73900-4a2b-44d9-bc15-2a574cbd3f26",
   "metadata": {
    "tags": []
   },
   "outputs": [
    {
     "name": "stdout",
     "output_type": "stream",
     "text": [
      "(11096232, 6)\n"
     ]
    },
    {
     "data": {
      "text/html": [
       "<div>\n",
       "<style scoped>\n",
       "    .dataframe tbody tr th:only-of-type {\n",
       "        vertical-align: middle;\n",
       "    }\n",
       "\n",
       "    .dataframe tbody tr th {\n",
       "        vertical-align: top;\n",
       "    }\n",
       "\n",
       "    .dataframe thead th {\n",
       "        text-align: right;\n",
       "    }\n",
       "</style>\n",
       "<table border=\"1\" class=\"dataframe\">\n",
       "  <thead>\n",
       "    <tr style=\"text-align: right;\">\n",
       "      <th></th>\n",
       "      <th>hex_id</th>\n",
       "      <th>res</th>\n",
       "      <th>ndwi</th>\n",
       "      <th>month</th>\n",
       "      <th>year</th>\n",
       "      <th>city</th>\n",
       "    </tr>\n",
       "  </thead>\n",
       "  <tbody>\n",
       "    <tr>\n",
       "      <th>0</th>\n",
       "      <td>8c48b5a969101ff</td>\n",
       "      <td>12</td>\n",
       "      <td>0.881836</td>\n",
       "      <td>1</td>\n",
       "      <td>2016</td>\n",
       "      <td>presa_cerroprieto</td>\n",
       "    </tr>\n",
       "    <tr>\n",
       "      <th>1</th>\n",
       "      <td>8c48b5ab67601ff</td>\n",
       "      <td>12</td>\n",
       "      <td>0.845337</td>\n",
       "      <td>1</td>\n",
       "      <td>2016</td>\n",
       "      <td>presa_cerroprieto</td>\n",
       "    </tr>\n",
       "  </tbody>\n",
       "</table>\n",
       "</div>"
      ],
      "text/plain": [
       "            hex_id  res      ndwi  month  year               city\n",
       "0  8c48b5a969101ff   12  0.881836      1  2016  presa_cerroprieto\n",
       "1  8c48b5ab67601ff   12  0.845337      1  2016  presa_cerroprieto"
      ]
     },
     "execution_count": 4,
     "metadata": {},
     "output_type": "execute_result"
    }
   ],
   "source": [
    "#Load data\n",
    "city = 'presa_cerroprieto'\n",
    "r = 12\n",
    "complete_cerroprieto = pd.read_csv(tmp_dir+'local_save/'+f'{city}_{index_analysis}_HexRes{r}_.csv')\n",
    "\n",
    "complete_cerroprieto = complete_cerroprieto.drop(columns=['Unnamed: 0'])\n",
    "\n",
    "#Show\n",
    "print(complete_cerroprieto.shape)\n",
    "complete_cerroprieto.head(2)"
   ]
  },
  {
   "cell_type": "code",
   "execution_count": 5,
   "id": "32a1c2b6-b6fd-4859-97e5-648a9152cb11",
   "metadata": {
    "tags": []
   },
   "outputs": [
    {
     "name": "stdout",
     "output_type": "stream",
     "text": [
      "(7001484, 6)\n"
     ]
    },
    {
     "data": {
      "text/html": [
       "<div>\n",
       "<style scoped>\n",
       "    .dataframe tbody tr th:only-of-type {\n",
       "        vertical-align: middle;\n",
       "    }\n",
       "\n",
       "    .dataframe tbody tr th {\n",
       "        vertical-align: top;\n",
       "    }\n",
       "\n",
       "    .dataframe thead th {\n",
       "        text-align: right;\n",
       "    }\n",
       "</style>\n",
       "<table border=\"1\" class=\"dataframe\">\n",
       "  <thead>\n",
       "    <tr style=\"text-align: right;\">\n",
       "      <th></th>\n",
       "      <th>hex_id</th>\n",
       "      <th>res</th>\n",
       "      <th>ndwi</th>\n",
       "      <th>month</th>\n",
       "      <th>year</th>\n",
       "      <th>city</th>\n",
       "    </tr>\n",
       "  </thead>\n",
       "  <tbody>\n",
       "    <tr>\n",
       "      <th>0</th>\n",
       "      <td>8b48b182a249fff</td>\n",
       "      <td>11</td>\n",
       "      <td>0.567896</td>\n",
       "      <td>1</td>\n",
       "      <td>2016</td>\n",
       "      <td>presa_elcuchillo</td>\n",
       "    </tr>\n",
       "    <tr>\n",
       "      <th>1</th>\n",
       "      <td>8b48b1952a01fff</td>\n",
       "      <td>11</td>\n",
       "      <td>0.643025</td>\n",
       "      <td>1</td>\n",
       "      <td>2016</td>\n",
       "      <td>presa_elcuchillo</td>\n",
       "    </tr>\n",
       "  </tbody>\n",
       "</table>\n",
       "</div>"
      ],
      "text/plain": [
       "            hex_id  res      ndwi  month  year              city\n",
       "0  8b48b182a249fff   11  0.567896      1  2016  presa_elcuchillo\n",
       "1  8b48b1952a01fff   11  0.643025      1  2016  presa_elcuchillo"
      ]
     },
     "execution_count": 5,
     "metadata": {},
     "output_type": "execute_result"
    }
   ],
   "source": [
    "#Load data\n",
    "city = 'presa_elcuchillo'\n",
    "r = 11\n",
    "complete_elcuchillo = pd.read_csv(tmp_dir+'local_save/'+f'{city}_{index_analysis}_HexRes{r}_v0.csv')\n",
    "\n",
    "complete_elcuchillo = complete_elcuchillo.drop(columns=['Unnamed: 0'])\n",
    "\n",
    "#Show\n",
    "print(complete_elcuchillo.shape)\n",
    "complete_elcuchillo.head(2)"
   ]
  },
  {
   "cell_type": "code",
   "execution_count": 6,
   "id": "43b87cbd-1fdd-40bf-a547-cedf5fb9457a",
   "metadata": {
    "tags": []
   },
   "outputs": [
    {
     "name": "stdout",
     "output_type": "stream",
     "text": [
      "(21150696, 6)\n"
     ]
    },
    {
     "data": {
      "text/html": [
       "<div>\n",
       "<style scoped>\n",
       "    .dataframe tbody tr th:only-of-type {\n",
       "        vertical-align: middle;\n",
       "    }\n",
       "\n",
       "    .dataframe tbody tr th {\n",
       "        vertical-align: top;\n",
       "    }\n",
       "\n",
       "    .dataframe thead th {\n",
       "        text-align: right;\n",
       "    }\n",
       "</style>\n",
       "<table border=\"1\" class=\"dataframe\">\n",
       "  <thead>\n",
       "    <tr style=\"text-align: right;\">\n",
       "      <th></th>\n",
       "      <th>hex_id</th>\n",
       "      <th>res</th>\n",
       "      <th>ndwi</th>\n",
       "      <th>month</th>\n",
       "      <th>year</th>\n",
       "      <th>city</th>\n",
       "    </tr>\n",
       "  </thead>\n",
       "  <tbody>\n",
       "    <tr>\n",
       "      <th>0</th>\n",
       "      <td>8c48a2c48393bff</td>\n",
       "      <td>12</td>\n",
       "      <td>0.636882</td>\n",
       "      <td>1</td>\n",
       "      <td>2016</td>\n",
       "      <td>presa_laboca</td>\n",
       "    </tr>\n",
       "    <tr>\n",
       "      <th>1</th>\n",
       "      <td>8c48a2c484f31ff</td>\n",
       "      <td>12</td>\n",
       "      <td>-0.614095</td>\n",
       "      <td>1</td>\n",
       "      <td>2016</td>\n",
       "      <td>presa_laboca</td>\n",
       "    </tr>\n",
       "  </tbody>\n",
       "</table>\n",
       "</div>"
      ],
      "text/plain": [
       "            hex_id  res      ndwi  month  year          city\n",
       "0  8c48a2c48393bff   12  0.636882      1  2016  presa_laboca\n",
       "1  8c48a2c484f31ff   12 -0.614095      1  2016  presa_laboca"
      ]
     },
     "execution_count": 6,
     "metadata": {},
     "output_type": "execute_result"
    }
   ],
   "source": [
    "#Gdfs to concatenate\n",
    "complete_gdfs = [complete_laboca,complete_cerroprieto,complete_elcuchillo]\n",
    "\n",
    "#Concatenate\n",
    "complete_dams = pd.concat(complete_gdfs)\n",
    "\n",
    "#Show\n",
    "print(complete_dams.shape)\n",
    "complete_dams.head(2)"
   ]
  },
  {
   "cell_type": "code",
   "execution_count": 9,
   "id": "94a82eac-c60c-4e48-a27c-057694238bb5",
   "metadata": {
    "tags": []
   },
   "outputs": [],
   "source": [
    "aup.df_to_db_slow(complete_cerroprieto, f'{index_analysis}_complete_dataset_hex','raster_analysis', if_exists='append')"
   ]
  },
  {
   "cell_type": "code",
   "execution_count": null,
   "id": "7389f5af-f9ac-49f4-8c4a-c53b22aa4848",
   "metadata": {},
   "outputs": [],
   "source": []
  }
 ],
 "metadata": {
  "kernelspec": {
   "display_name": "Python 3 (ipykernel)",
   "language": "python",
   "name": "python3"
  },
  "language_info": {
   "codemirror_mode": {
    "name": "ipython",
    "version": 3
   },
   "file_extension": ".py",
   "mimetype": "text/x-python",
   "name": "python",
   "nbconvert_exporter": "python",
   "pygments_lexer": "ipython3",
   "version": "3.10.5"
  }
 },
 "nbformat": 4,
 "nbformat_minor": 5
}
