{
 "cells": [
  {
   "cell_type": "markdown",
   "id": "c67094ac-6ee2-44c9-8448-96955afd9ddb",
   "metadata": {},
   "source": [
    "## Import libraries"
   ]
  },
  {
   "cell_type": "code",
   "execution_count": 1,
   "id": "b6e0be4f-6535-423e-b89a-c262c161f65b",
   "metadata": {
    "tags": []
   },
   "outputs": [
    {
     "name": "stderr",
     "output_type": "stream",
     "text": [
      "/usr/local/python/lib/python3.10/site-packages/osmnx/utils.py:192: UserWarning: The `utils.config` function is deprecated and will be removed in a future release. Instead, use the `settings` module directly to configure a global setting's value. For example, `ox.settings.log_console=True`.\n",
      "  warnings.warn(\n"
     ]
    }
   ],
   "source": [
    "import os\n",
    "import sys\n",
    "\n",
    "import pandas as pd\n",
    "import geopandas as gpd\n",
    "import numpy as np\n",
    "\n",
    "import matplotlib.pyplot as plt\n",
    "from matplotlib import colors\n",
    "import seaborn as sns\n",
    "\n",
    "from pandas.api.types import CategoricalDtype\n",
    "\n",
    "import warnings\n",
    "warnings.simplefilter(action='ignore', category=FutureWarning)\n",
    "\n",
    "module_path = os.path.abspath(os.path.join('../../../'))\n",
    "if module_path not in sys.path:\n",
    "    sys.path.append(module_path)\n",
    "    import aup"
   ]
  },
  {
   "cell_type": "markdown",
   "id": "938542cf-3cd8-41ec-87f8-51b7a2f5368e",
   "metadata": {},
   "source": [
    "## Notebook config"
   ]
  },
  {
   "cell_type": "code",
   "execution_count": 2,
   "id": "f8036d98-5f5d-4cb4-9869-c594d9db66ee",
   "metadata": {
    "tags": []
   },
   "outputs": [],
   "source": [
    "#Cities are dam names ('presa_laboca', 'presa_cerroprieto', 'presa_elcuchillo')\n",
    "city_list = ['presa_laboca','presa_cerroprieto','presa_elcuchillo']\n",
    "\n",
    "# Analysis name\n",
    "index_analysis = 'ndwi'\n",
    "\n",
    "# Analysed raster data from local directory:\n",
    "tmp_dir = f'../../../data/processed/tmp_{index_analysis}/'"
   ]
  },
  {
   "cell_type": "markdown",
   "id": "23a03fb9-be69-4db5-b77f-4f224819873d",
   "metadata": {},
   "source": [
    "## Data download"
   ]
  },
  {
   "cell_type": "markdown",
   "id": "e6a8beab-c8b8-41bf-93b4-5e7a50148f1e",
   "metadata": {},
   "source": [
    "### Data download - Dams"
   ]
  },
  {
   "cell_type": "markdown",
   "id": "6b767017-9b69-4407-b788-cb177eb13b2a",
   "metadata": {},
   "source": [
    "Dams polygon (Drawn using Google Earth)"
   ]
  },
  {
   "cell_type": "code",
   "execution_count": 3,
   "id": "65574a11-787f-459f-8c98-82ccdfe9e038",
   "metadata": {
    "tags": []
   },
   "outputs": [
    {
     "data": {
      "text/plain": [
       "<Axes: >"
      ]
     },
     "execution_count": 3,
     "metadata": {},
     "output_type": "execute_result"
    },
    {
     "data": {
      "image/png": "[encoded data removed]",
      "text/plain": [
       "<Figure size 640x480 with 1 Axes>"
      ]
     },
     "metadata": {},
     "output_type": "display_data"
    }
   ],
   "source": [
    "laboca = gpd.read_file(\"../../../data/external/temporal_todocker/presa_laboca.gpkg\")\n",
    "cerroprieto = gpd.read_file(\"../../../data/external/temporal_todocker/presa_cerroprieto.gpkg\")\n",
    "elcuchillo = gpd.read_file(\"../../../data/external/temporal_todocker/presa_elcuchillo.gpkg\")\n",
    "\n",
    "# Create areas of interest\n",
    "gdfs = [laboca,cerroprieto,elcuchillo]\n",
    "poly = pd.concat(gdfs)\n",
    "\n",
    "poly.reset_index(inplace=True)\n",
    "columns_tokeep = ['Name','geometry']\n",
    "poly = poly[columns_tokeep]\n",
    "\n",
    "poly.plot()"
   ]
  },
  {
   "cell_type": "markdown",
   "id": "67a35942-8844-4a0b-a9ac-be927afa6427",
   "metadata": {},
   "source": [
    "### Data download - Raster Analysis Data"
   ]
  },
  {
   "cell_type": "markdown",
   "id": "5a0ebb94-17bb-47c7-afd8-409de65bcfd7",
   "metadata": {},
   "source": [
    "Download data"
   ]
  },
  {
   "cell_type": "code",
   "execution_count": 4,
   "id": "454d45d9-3108-4afd-9a82-cd129a84608e",
   "metadata": {
    "tags": []
   },
   "outputs": [],
   "source": [
    "#IF THERE EVER ARE MORE ANALYSED CITIES IN NDWI DATABASE\n",
    "\n",
    "# Info to query\n",
    "#raster_schema = 'raster_analysis'\n",
    "#raster_folder = '{}_analysis_hex'.format(index_analysis)\n",
    "\n",
    "#raster_dataset = gpd.GeoDataFrame()\n",
    "\n",
    "#for city in city_list:\n",
    "#    query = f\"SELECT * FROM {raster_schema}.{raster_folder} WHERE \\\"city\\\" LIKE \\'{city}%%\\'\"\n",
    "#    temp_dataset = aup.df_from_query(query)\n",
    "#    raster_dataset = pd.concat([raster_dataset, temp_dataset],ignore_index = True, axis = 0)\n",
    "\n",
    "#print(raster_dataset.shape)\n",
    "#raster_dataset.head(2)"
   ]
  },
  {
   "cell_type": "code",
   "execution_count": 5,
   "id": "72d3bd2e-2733-4c60-9d2a-83fd6fcd2976",
   "metadata": {
    "tags": []
   },
   "outputs": [
    {
     "name": "stdout",
     "output_type": "stream",
     "text": [
      "(251794, 11)\n"
     ]
    },
    {
     "data": {
      "text/html": [
       "<div>\n",
       "<style scoped>\n",
       "    .dataframe tbody tr th:only-of-type {\n",
       "        vertical-align: middle;\n",
       "    }\n",
       "\n",
       "    .dataframe tbody tr th {\n",
       "        vertical-align: top;\n",
       "    }\n",
       "\n",
       "    .dataframe thead th {\n",
       "        text-align: right;\n",
       "    }\n",
       "</style>\n",
       "<table border=\"1\" class=\"dataframe\">\n",
       "  <thead>\n",
       "    <tr style=\"text-align: right;\">\n",
       "      <th></th>\n",
       "      <th>hex_id</th>\n",
       "      <th>res</th>\n",
       "      <th>ndwi_mean</th>\n",
       "      <th>ndwi_std</th>\n",
       "      <th>ndwi_median</th>\n",
       "      <th>ndwi_max</th>\n",
       "      <th>ndwi_min</th>\n",
       "      <th>ndwi_diff</th>\n",
       "      <th>ndwi_tend</th>\n",
       "      <th>city</th>\n",
       "      <th>geometry</th>\n",
       "    </tr>\n",
       "  </thead>\n",
       "  <tbody>\n",
       "    <tr>\n",
       "      <th>0</th>\n",
       "      <td>8c48a2c48393bff</td>\n",
       "      <td>12</td>\n",
       "      <td>0.535006</td>\n",
       "      <td>0.35910</td>\n",
       "      <td>0.573144</td>\n",
       "      <td>0.988064</td>\n",
       "      <td>0.147519</td>\n",
       "      <td>0.840545</td>\n",
       "      <td>-0.006303</td>\n",
       "      <td>presa_laboca</td>\n",
       "      <td>POLYGON ((-100.13353 25.41407, -100.13343 25.4...</td>\n",
       "    </tr>\n",
       "    <tr>\n",
       "      <th>1</th>\n",
       "      <td>8c48a2c484f31ff</td>\n",
       "      <td>12</td>\n",
       "      <td>-0.536730</td>\n",
       "      <td>0.12981</td>\n",
       "      <td>-0.571273</td>\n",
       "      <td>-0.418482</td>\n",
       "      <td>-0.662224</td>\n",
       "      <td>0.243741</td>\n",
       "      <td>0.002016</td>\n",
       "      <td>presa_laboca</td>\n",
       "      <td>POLYGON ((-100.12104 25.41152, -100.12094 25.4...</td>\n",
       "    </tr>\n",
       "  </tbody>\n",
       "</table>\n",
       "</div>"
      ],
      "text/plain": [
       "            hex_id  res  ndwi_mean  ndwi_std  ndwi_median  ndwi_max  ndwi_min  \\\n",
       "0  8c48a2c48393bff   12   0.535006   0.35910     0.573144  0.988064  0.147519   \n",
       "1  8c48a2c484f31ff   12  -0.536730   0.12981    -0.571273 -0.418482 -0.662224   \n",
       "\n",
       "   ndwi_diff  ndwi_tend          city  \\\n",
       "0   0.840545  -0.006303  presa_laboca   \n",
       "1   0.243741   0.002016  presa_laboca   \n",
       "\n",
       "                                            geometry  \n",
       "0  POLYGON ((-100.13353 25.41407, -100.13343 25.4...  \n",
       "1  POLYGON ((-100.12104 25.41152, -100.12094 25.4...  "
      ]
     },
     "execution_count": 5,
     "metadata": {},
     "output_type": "execute_result"
    }
   ],
   "source": [
    "# Info to query\n",
    "raster_schema = 'raster_analysis'\n",
    "raster_folder = '{}_analysis_hex'.format(index_analysis)\n",
    "\n",
    "query = f\"SELECT * FROM {raster_schema}.{raster_folder}\"\n",
    "ndwi_hex = aup.gdf_from_query(query,geometry_col='geometry')\n",
    "\n",
    "print(ndwi_hex.shape)\n",
    "ndwi_hex.head(2)"
   ]
  },
  {
   "cell_type": "markdown",
   "id": "0281a1f8-4e94-4535-9b7d-43961ff0fd3b",
   "metadata": {},
   "source": [
    "### Data download - Clip Raster Analysis Data"
   ]
  },
  {
   "cell_type": "markdown",
   "id": "140effb9-9a0c-4a0c-aa7c-94f894655767",
   "metadata": {
    "tags": []
   },
   "source": [
    "Using centroids, locate hex within cities (dams)"
   ]
  },
  {
   "cell_type": "code",
   "execution_count": 6,
   "id": "28ef8fc6-176a-4371-8a8e-febbfcc9c416",
   "metadata": {
    "tags": []
   },
   "outputs": [
    {
     "data": {
      "text/plain": [
       "<Axes: >"
      ]
     },
     "execution_count": 6,
     "metadata": {},
     "output_type": "execute_result"
    },
    {
     "data": {
      "image/png": "[encoded data removed]",
      "text/plain": [
       "<Figure size 640x480 with 1 Axes>"
      ]
     },
     "metadata": {},
     "output_type": "display_data"
    }
   ],
   "source": [
    "# Find hex centroids\n",
    "gdf = ndwi_hex.to_crs(\"EPSG:6372\")\n",
    "centroids = gdf.centroid\n",
    "centroids = centroids.to_crs(\"EPSG:4326\")\n",
    "\n",
    "# Turn them into gdf\n",
    "centroids_gdf = gpd.GeoDataFrame(centroids)\n",
    "centroids_gdf = centroids_gdf.rename(columns={0:'geometry'})\n",
    "\n",
    "# Intersect centroids with original analysed_raster to keep hex_id in centroids\n",
    "centroids_hexid = gpd.overlay(centroids_gdf,ndwi_hex,keep_geom_type=True)\n",
    "columns_tokeep = ['hex_id','geometry']\n",
    "centroids_hexid = centroids_hexid[columns_tokeep]\n",
    "\n",
    "# Intersect spatially centroids with dam\n",
    "centroids_hexid_dam = gpd.overlay(centroids_hexid,poly,keep_geom_type=True)\n",
    "\n",
    "# Select hexagons from centroids's hex_id\n",
    "centroids_hexid_dam_f = centroids_hexid_dam['hex_id']\n",
    "ndwi_hex_dams = pd.merge(centroids_hexid_dam_f,ndwi_hex, on='hex_id')\n",
    "ndwi_hex_dams = ndwi_hex_dams.set_geometry('geometry')\n",
    "\n",
    "ndwi_hex_dams.plot()"
   ]
  },
  {
   "cell_type": "code",
   "execution_count": 7,
   "id": "5bdfda23-c7e2-4d83-aa57-18634df314a5",
   "metadata": {
    "tags": []
   },
   "outputs": [
    {
     "data": {
      "text/html": [
       "<div>\n",
       "<style scoped>\n",
       "    .dataframe tbody tr th:only-of-type {\n",
       "        vertical-align: middle;\n",
       "    }\n",
       "\n",
       "    .dataframe tbody tr th {\n",
       "        vertical-align: top;\n",
       "    }\n",
       "\n",
       "    .dataframe thead th {\n",
       "        text-align: right;\n",
       "    }\n",
       "</style>\n",
       "<table border=\"1\" class=\"dataframe\">\n",
       "  <thead>\n",
       "    <tr style=\"text-align: right;\">\n",
       "      <th></th>\n",
       "      <th>hex_id</th>\n",
       "      <th>res</th>\n",
       "      <th>ndwi_mean</th>\n",
       "      <th>ndwi_std</th>\n",
       "      <th>ndwi_median</th>\n",
       "      <th>ndwi_max</th>\n",
       "      <th>ndwi_min</th>\n",
       "      <th>ndwi_diff</th>\n",
       "      <th>ndwi_tend</th>\n",
       "      <th>city</th>\n",
       "      <th>geometry</th>\n",
       "    </tr>\n",
       "  </thead>\n",
       "  <tbody>\n",
       "    <tr>\n",
       "      <th>0</th>\n",
       "      <td>8c48a2c48393bff</td>\n",
       "      <td>12</td>\n",
       "      <td>0.535006</td>\n",
       "      <td>0.359100</td>\n",
       "      <td>0.573144</td>\n",
       "      <td>0.988064</td>\n",
       "      <td>0.147519</td>\n",
       "      <td>0.840545</td>\n",
       "      <td>-0.006303</td>\n",
       "      <td>presa_laboca</td>\n",
       "      <td>POLYGON ((-100.13353 25.41407, -100.13343 25.4...</td>\n",
       "    </tr>\n",
       "    <tr>\n",
       "      <th>1</th>\n",
       "      <td>8c48a2116c565ff</td>\n",
       "      <td>12</td>\n",
       "      <td>0.512730</td>\n",
       "      <td>0.362251</td>\n",
       "      <td>0.607558</td>\n",
       "      <td>0.905374</td>\n",
       "      <td>0.139843</td>\n",
       "      <td>0.765531</td>\n",
       "      <td>-0.006103</td>\n",
       "      <td>presa_laboca</td>\n",
       "      <td>POLYGON ((-100.14562 25.44051, -100.14552 25.4...</td>\n",
       "    </tr>\n",
       "  </tbody>\n",
       "</table>\n",
       "</div>"
      ],
      "text/plain": [
       "            hex_id  res  ndwi_mean  ndwi_std  ndwi_median  ndwi_max  ndwi_min  \\\n",
       "0  8c48a2c48393bff   12   0.535006  0.359100     0.573144  0.988064  0.147519   \n",
       "1  8c48a2116c565ff   12   0.512730  0.362251     0.607558  0.905374  0.139843   \n",
       "\n",
       "   ndwi_diff  ndwi_tend          city  \\\n",
       "0   0.840545  -0.006303  presa_laboca   \n",
       "1   0.765531  -0.006103  presa_laboca   \n",
       "\n",
       "                                            geometry  \n",
       "0  POLYGON ((-100.13353 25.41407, -100.13343 25.4...  \n",
       "1  POLYGON ((-100.14562 25.44051, -100.14552 25.4...  "
      ]
     },
     "execution_count": 7,
     "metadata": {},
     "output_type": "execute_result"
    }
   ],
   "source": [
    "ndwi_hex_dams.head(2)"
   ]
  },
  {
   "cell_type": "markdown",
   "id": "559db9c9-5ca8-498f-9929-48f2274854eb",
   "metadata": {},
   "source": [
    "## Data download - Complete dataset"
   ]
  },
  {
   "cell_type": "markdown",
   "id": "fc259a04-63e5-489a-b7ac-f7b7df81015f",
   "metadata": {},
   "source": [
    "Opción A: Descargar de la DB filtrando por hex_id (+2000 segs y lo detuve)"
   ]
  },
  {
   "cell_type": "code",
   "execution_count": 8,
   "id": "5e50d2b2-56c4-436b-bd86-f3f9fad574dc",
   "metadata": {
    "tags": []
   },
   "outputs": [],
   "source": [
    "# Finds hex_id codes from hex_grid\n",
    "#hex_ids = str(tuple(list(ndwi_hex_dams[\"hex_id\"].unique())))\n",
    "\n",
    "# Info to query\n",
    "#raster_schema = 'raster_analysis'\n",
    "#raster_folder = '{}_complete_dataset_hex'.format(index_analysis)\n",
    "\n",
    "#query = f\"SELECT * FROM {raster_schema}.{raster_folder} WHERE \\\"hex_id\\\" IN {hex_ids}\"\n",
    "#raster_dataset = aup.df_from_query(query)\n",
    "\n",
    "#print(raster_dataset.shape)\n",
    "#raster_dataset.head(2)"
   ]
  },
  {
   "cell_type": "markdown",
   "id": "0d2e9c81-a7a9-44ba-a157-00dac462210c",
   "metadata": {},
   "source": [
    "Opción B: Descargar de la DB sin filtrar y después filtrar por hex_id (+800 segs, luego crash)"
   ]
  },
  {
   "cell_type": "code",
   "execution_count": 9,
   "id": "d902c2ac-7d97-459f-810a-b7e86b05d45e",
   "metadata": {
    "tags": []
   },
   "outputs": [],
   "source": [
    "#OPCIÓN B: DESCARGAR DE LA DB Y DESPUÉS FILTRAR POR hex_id (+800 segs, luego crasheó)\n",
    "\n",
    "#Download data\n",
    "#raster_schema = 'raster_analysis'\n",
    "#raster_folder = '{}_complete_dataset_hex'.format(index_analysis)\n",
    "\n",
    "#query = f\"SELECT * FROM {raster_schema}.{raster_folder}\"\n",
    "#raster_dataset = aup.df_from_query(query)\n",
    "\n",
    "#Filter, hex_ids within dams only\n",
    "#hex_idlist = list(ndwi_hex_dams[\"hex_id\"].unique())\n",
    "#raster_dataset['within_dam'] = raster_dataset['hex_id'].apply(lambda x: 1 if x in hex_idlist else 0)\n",
    "#dam_complete_dataset = raster_dataset.loc[raster_dataset['within_dam'] == 1]\n",
    "\n",
    "#Show\n",
    "#print(raster_dataset.shape)\n",
    "#raster_dataset.head(2)"
   ]
  },
  {
   "cell_type": "code",
   "execution_count": 10,
   "id": "9ee8a6aa-6400-4b48-9d9d-841d9b7a3d18",
   "metadata": {
    "tags": []
   },
   "outputs": [],
   "source": [
    "#Filter, hex_ids within dams only (+29000 segs, luego me rendí)\n",
    "#hex_idlist = list(ndwi_hex_dams[\"hex_id\"].unique())\n",
    "#complete_dataset['within_dam'] = complete_dataset['hex_id'].apply(lambda x: 1 if x in hex_idlist else 0)\n",
    "#raster_dataset = complete_dataset.loc[raster_dataset['within_dam'] == 1]"
   ]
  },
  {
   "cell_type": "markdown",
   "id": "b45ba7c2-0cdd-43f0-b01c-ba1d8b76a883",
   "metadata": {},
   "source": [
    "OPCIÓN C - Parte 1: Cargar desde visual studio code y unir (Aprox. 50 segs)"
   ]
  },
  {
   "cell_type": "code",
   "execution_count": 11,
   "id": "a9020ebc-60b2-4d2f-a728-7b144e369646",
   "metadata": {
    "tags": []
   },
   "outputs": [
    {
     "name": "stdout",
     "output_type": "stream",
     "text": [
      "(3052980, 7)\n",
      "(11096232, 7)\n",
      "(7001484, 7)\n",
      "(21150696, 7)\n"
     ]
    },
    {
     "data": {
      "text/html": [
       "<div>\n",
       "<style scoped>\n",
       "    .dataframe tbody tr th:only-of-type {\n",
       "        vertical-align: middle;\n",
       "    }\n",
       "\n",
       "    .dataframe tbody tr th {\n",
       "        vertical-align: top;\n",
       "    }\n",
       "\n",
       "    .dataframe thead th {\n",
       "        text-align: right;\n",
       "    }\n",
       "</style>\n",
       "<table border=\"1\" class=\"dataframe\">\n",
       "  <thead>\n",
       "    <tr style=\"text-align: right;\">\n",
       "      <th></th>\n",
       "      <th>hex_id</th>\n",
       "      <th>res</th>\n",
       "      <th>ndwi</th>\n",
       "      <th>month</th>\n",
       "      <th>year</th>\n",
       "      <th>city</th>\n",
       "    </tr>\n",
       "  </thead>\n",
       "  <tbody>\n",
       "    <tr>\n",
       "      <th>0</th>\n",
       "      <td>8c48a2c48393bff</td>\n",
       "      <td>12</td>\n",
       "      <td>0.636882</td>\n",
       "      <td>1</td>\n",
       "      <td>2016</td>\n",
       "      <td>presa_laboca</td>\n",
       "    </tr>\n",
       "    <tr>\n",
       "      <th>1</th>\n",
       "      <td>8c48a2c484f31ff</td>\n",
       "      <td>12</td>\n",
       "      <td>-0.614095</td>\n",
       "      <td>1</td>\n",
       "      <td>2016</td>\n",
       "      <td>presa_laboca</td>\n",
       "    </tr>\n",
       "  </tbody>\n",
       "</table>\n",
       "</div>"
      ],
      "text/plain": [
       "            hex_id  res      ndwi  month  year          city\n",
       "0  8c48a2c48393bff   12  0.636882      1  2016  presa_laboca\n",
       "1  8c48a2c484f31ff   12 -0.614095      1  2016  presa_laboca"
      ]
     },
     "execution_count": 11,
     "metadata": {},
     "output_type": "execute_result"
    }
   ],
   "source": [
    "#Load data\n",
    "city = 'presa_laboca'\n",
    "r = 12\n",
    "laboca_complete_dataset = pd.read_csv(tmp_dir+'local_save/'+f'{city}_{index_analysis}_HexRes{r}_.csv')\n",
    "\n",
    "city = 'presa_cerroprieto'\n",
    "r = 12\n",
    "cerroprieto_complete_dataset = pd.read_csv(tmp_dir+'local_save/'+f'{city}_{index_analysis}_HexRes{r}_.csv')\n",
    "\n",
    "city = 'presa_elcuchillo'\n",
    "r = 11\n",
    "elcuchillo_complete_dataset = pd.read_csv(tmp_dir+'local_save/'+f'{city}_{index_analysis}_HexRes{r}_v0.csv')\n",
    "\n",
    "#Show\n",
    "print(laboca_complete_dataset.shape)\n",
    "print(cerroprieto_complete_dataset.shape)\n",
    "print(elcuchillo_complete_dataset.shape)\n",
    "\n",
    "#------------------------------------------------------------------------------------------------------------\n",
    "\n",
    "#Gdfs to concatenate\n",
    "complete_gdfs = [laboca_complete_dataset,cerroprieto_complete_dataset,elcuchillo_complete_dataset]\n",
    "\n",
    "#Concatenate\n",
    "complete_dataset = pd.concat(complete_gdfs)\n",
    "\n",
    "#Show\n",
    "print(complete_dataset.shape)\n",
    "\n",
    "#------------------------------------------------------------------------------------------------------------\n",
    "\n",
    "complete_dataset = complete_dataset.drop(columns=['Unnamed: 0'])\n",
    "complete_dataset.head(2)"
   ]
  },
  {
   "cell_type": "markdown",
   "id": "800d06f8-e18c-4e32-9d56-555e28748c13",
   "metadata": {},
   "source": [
    "OPCIÓN C - PARTE 2: Filtrar con un inner merge (Conserva los hexs que están tanto en ndwi_hex_dams como en complete_dataset_dams)."
   ]
  },
  {
   "cell_type": "code",
   "execution_count": 12,
   "id": "7c6b8c36-d87d-4c79-88c0-59f3d3111efd",
   "metadata": {
    "tags": []
   },
   "outputs": [
    {
     "name": "stdout",
     "output_type": "stream",
     "text": [
      "(13742148, 7)\n"
     ]
    },
    {
     "data": {
      "text/html": [
       "<div>\n",
       "<style scoped>\n",
       "    .dataframe tbody tr th:only-of-type {\n",
       "        vertical-align: middle;\n",
       "    }\n",
       "\n",
       "    .dataframe tbody tr th {\n",
       "        vertical-align: top;\n",
       "    }\n",
       "\n",
       "    .dataframe thead th {\n",
       "        text-align: right;\n",
       "    }\n",
       "</style>\n",
       "<table border=\"1\" class=\"dataframe\">\n",
       "  <thead>\n",
       "    <tr style=\"text-align: right;\">\n",
       "      <th></th>\n",
       "      <th>hex_id</th>\n",
       "      <th>res</th>\n",
       "      <th>city</th>\n",
       "      <th>geometry</th>\n",
       "      <th>ndwi</th>\n",
       "      <th>month</th>\n",
       "      <th>year</th>\n",
       "    </tr>\n",
       "  </thead>\n",
       "  <tbody>\n",
       "    <tr>\n",
       "      <th>0</th>\n",
       "      <td>8c48a2c48393bff</td>\n",
       "      <td>12</td>\n",
       "      <td>presa_laboca</td>\n",
       "      <td>POLYGON ((-100.13353 25.41407, -100.13343 25.4...</td>\n",
       "      <td>0.636882</td>\n",
       "      <td>1</td>\n",
       "      <td>2016</td>\n",
       "    </tr>\n",
       "    <tr>\n",
       "      <th>1</th>\n",
       "      <td>8c48a2c48393bff</td>\n",
       "      <td>12</td>\n",
       "      <td>presa_laboca</td>\n",
       "      <td>POLYGON ((-100.13353 25.41407, -100.13343 25.4...</td>\n",
       "      <td>0.994141</td>\n",
       "      <td>2</td>\n",
       "      <td>2016</td>\n",
       "    </tr>\n",
       "  </tbody>\n",
       "</table>\n",
       "</div>"
      ],
      "text/plain": [
       "            hex_id  res          city  \\\n",
       "0  8c48a2c48393bff   12  presa_laboca   \n",
       "1  8c48a2c48393bff   12  presa_laboca   \n",
       "\n",
       "                                            geometry      ndwi  month  year  \n",
       "0  POLYGON ((-100.13353 25.41407, -100.13343 25.4...  0.636882      1  2016  \n",
       "1  POLYGON ((-100.13353 25.41407, -100.13343 25.4...  0.994141      2  2016  "
      ]
     },
     "execution_count": 12,
     "metadata": {},
     "output_type": "execute_result"
    }
   ],
   "source": [
    "gdf1 = ndwi_hex_dams.copy()[['hex_id','res','city','geometry']]\n",
    "df2 = complete_dataset.copy()[['hex_id','ndwi','month', 'year']]\n",
    "\n",
    "complete_dataset_dams = pd.merge(gdf1, df2, how='inner', on='hex_id')\n",
    "\n",
    "#Show\n",
    "print(complete_dataset_dams.shape)\n",
    "complete_dataset_dams.head(2)"
   ]
  },
  {
   "cell_type": "markdown",
   "id": "08509c97-e141-4eda-a72b-23b67277553d",
   "metadata": {},
   "source": [
    "## Data treatment"
   ]
  },
  {
   "cell_type": "markdown",
   "id": "f7c233be-42b9-4e03-a214-ae0d6c4848d8",
   "metadata": {},
   "source": [
    "Data treatment - Create datetime data"
   ]
  },
  {
   "cell_type": "code",
   "execution_count": 13,
   "id": "8c46411d-b0d2-40df-a950-1ee693152f80",
   "metadata": {
    "tags": []
   },
   "outputs": [
    {
     "name": "stdout",
     "output_type": "stream",
     "text": [
      "(13742148, 8)\n"
     ]
    },
    {
     "data": {
      "text/html": [
       "<div>\n",
       "<style scoped>\n",
       "    .dataframe tbody tr th:only-of-type {\n",
       "        vertical-align: middle;\n",
       "    }\n",
       "\n",
       "    .dataframe tbody tr th {\n",
       "        vertical-align: top;\n",
       "    }\n",
       "\n",
       "    .dataframe thead th {\n",
       "        text-align: right;\n",
       "    }\n",
       "</style>\n",
       "<table border=\"1\" class=\"dataframe\">\n",
       "  <thead>\n",
       "    <tr style=\"text-align: right;\">\n",
       "      <th></th>\n",
       "      <th>hex_id</th>\n",
       "      <th>res</th>\n",
       "      <th>city</th>\n",
       "      <th>geometry</th>\n",
       "      <th>ndwi</th>\n",
       "      <th>month</th>\n",
       "      <th>year</th>\n",
       "      <th>date</th>\n",
       "    </tr>\n",
       "  </thead>\n",
       "  <tbody>\n",
       "    <tr>\n",
       "      <th>0</th>\n",
       "      <td>8c48a2c48393bff</td>\n",
       "      <td>12</td>\n",
       "      <td>presa_laboca</td>\n",
       "      <td>POLYGON ((-100.13353 25.41407, -100.13343 25.4...</td>\n",
       "      <td>0.636882</td>\n",
       "      <td>1</td>\n",
       "      <td>2016</td>\n",
       "      <td>2016-01</td>\n",
       "    </tr>\n",
       "    <tr>\n",
       "      <th>1</th>\n",
       "      <td>8c48a2c48393bff</td>\n",
       "      <td>12</td>\n",
       "      <td>presa_laboca</td>\n",
       "      <td>POLYGON ((-100.13353 25.41407, -100.13343 25.4...</td>\n",
       "      <td>0.994141</td>\n",
       "      <td>2</td>\n",
       "      <td>2016</td>\n",
       "      <td>2016-02</td>\n",
       "    </tr>\n",
       "  </tbody>\n",
       "</table>\n",
       "</div>"
      ],
      "text/plain": [
       "            hex_id  res          city  \\\n",
       "0  8c48a2c48393bff   12  presa_laboca   \n",
       "1  8c48a2c48393bff   12  presa_laboca   \n",
       "\n",
       "                                            geometry      ndwi  month  year  \\\n",
       "0  POLYGON ((-100.13353 25.41407, -100.13343 25.4...  0.636882      1  2016   \n",
       "1  POLYGON ((-100.13353 25.41407, -100.13343 25.4...  0.994141      2  2016   \n",
       "\n",
       "      date  \n",
       "0  2016-01  \n",
       "1  2016-02  "
      ]
     },
     "execution_count": 13,
     "metadata": {},
     "output_type": "execute_result"
    }
   ],
   "source": [
    "#Creates datetime data by adding month (string) + / + year (string)\n",
    "complete_dataset_dams['date'] = pd.to_datetime(complete_dataset_dams['month'].astype(str) + '/' + complete_dataset_dams['year'].astype(str))\n",
    "\n",
    "#Strips the day, leaving month and year\n",
    "complete_dataset_dams['date'] = complete_dataset_dams['date'].apply(lambda x: x.strftime('%Y-%m'))\n",
    "\n",
    "#Show\n",
    "print(complete_dataset_dams.shape)\n",
    "complete_dataset_dams.head(2)"
   ]
  },
  {
   "cell_type": "markdown",
   "id": "715d0551-fca3-45d2-9772-7065477268ac",
   "metadata": {},
   "source": [
    "Data treatment - Create raster categories"
   ]
  },
  {
   "cell_type": "code",
   "execution_count": 14,
   "id": "388ad92e-b363-4437-83ad-5dc550a109cd",
   "metadata": {
    "tags": []
   },
   "outputs": [
    {
     "name": "stdout",
     "output_type": "stream",
     "text": [
      "(13742148, 9)\n"
     ]
    },
    {
     "data": {
      "text/html": [
       "<div>\n",
       "<style scoped>\n",
       "    .dataframe tbody tr th:only-of-type {\n",
       "        vertical-align: middle;\n",
       "    }\n",
       "\n",
       "    .dataframe tbody tr th {\n",
       "        vertical-align: top;\n",
       "    }\n",
       "\n",
       "    .dataframe thead th {\n",
       "        text-align: right;\n",
       "    }\n",
       "</style>\n",
       "<table border=\"1\" class=\"dataframe\">\n",
       "  <thead>\n",
       "    <tr style=\"text-align: right;\">\n",
       "      <th></th>\n",
       "      <th>hex_id</th>\n",
       "      <th>res</th>\n",
       "      <th>city</th>\n",
       "      <th>geometry</th>\n",
       "      <th>ndwi</th>\n",
       "      <th>month</th>\n",
       "      <th>year</th>\n",
       "      <th>date</th>\n",
       "      <th>ndwi_category</th>\n",
       "    </tr>\n",
       "  </thead>\n",
       "  <tbody>\n",
       "    <tr>\n",
       "      <th>0</th>\n",
       "      <td>8c48a2c48393bff</td>\n",
       "      <td>12</td>\n",
       "      <td>presa_laboca</td>\n",
       "      <td>POLYGON ((-100.13353 25.41407, -100.13343 25.4...</td>\n",
       "      <td>0.636882</td>\n",
       "      <td>1</td>\n",
       "      <td>2016</td>\n",
       "      <td>2016-01</td>\n",
       "      <td>Water surface</td>\n",
       "    </tr>\n",
       "    <tr>\n",
       "      <th>1</th>\n",
       "      <td>8c48a2c48393bff</td>\n",
       "      <td>12</td>\n",
       "      <td>presa_laboca</td>\n",
       "      <td>POLYGON ((-100.13353 25.41407, -100.13343 25.4...</td>\n",
       "      <td>0.994141</td>\n",
       "      <td>2</td>\n",
       "      <td>2016</td>\n",
       "      <td>2016-02</td>\n",
       "      <td>Water surface</td>\n",
       "    </tr>\n",
       "  </tbody>\n",
       "</table>\n",
       "</div>"
      ],
      "text/plain": [
       "            hex_id  res          city  \\\n",
       "0  8c48a2c48393bff   12  presa_laboca   \n",
       "1  8c48a2c48393bff   12  presa_laboca   \n",
       "\n",
       "                                            geometry      ndwi  month  year  \\\n",
       "0  POLYGON ((-100.13353 25.41407, -100.13343 25.4...  0.636882      1  2016   \n",
       "1  POLYGON ((-100.13353 25.41407, -100.13343 25.4...  0.994141      2  2016   \n",
       "\n",
       "      date  ndwi_category  \n",
       "0  2016-01  Water surface  \n",
       "1  2016-02  Water surface  "
      ]
     },
     "execution_count": 14,
     "metadata": {},
     "output_type": "execute_result"
    }
   ],
   "source": [
    "# Creating vegetation categories\n",
    "complete_dataset_dams['ndwi_category'] = np.nan\n",
    "\n",
    "complete_dataset_dams.loc[complete_dataset_dams.ndwi>=0.2 , 'ndwi_category'] = 'Water surface'        \n",
    "complete_dataset_dams.loc[(complete_dataset_dams.ndwi>=0.0)&\n",
    "             (complete_dataset_dams.ndwi<0.2), 'ndwi_category'] = 'Flooding, humidity'\n",
    "complete_dataset_dams.loc[(complete_dataset_dams.ndwi>=-0.3)&\n",
    "             (complete_dataset_dams.ndwi<0.0), 'ndwi_category'] = 'Moderate drought, non-aqueous surfaces'\n",
    "complete_dataset_dams.loc[(complete_dataset_dams.ndwi<-0.3), 'ndwi_category'] = 'Drought, non-aqueous surfaces'\n",
    "\n",
    "# Ordering data\n",
    "categories = ['Drought, non-aqueous surfaces', 'Moderate drought, non-aqueous surfaces', 'Flooding, humidity', 'Water surface']\n",
    "complete_dataset_dams['ndwi_category'] = pd.Categorical(complete_dataset_dams['ndwi_category'], categories=categories, ordered=True)\n",
    "\n",
    "#Show\n",
    "print(complete_dataset_dams.shape)\n",
    "complete_dataset_dams.head(2)"
   ]
  },
  {
   "cell_type": "markdown",
   "id": "8aa2be93-b6b6-4705-aef2-37086defac5b",
   "metadata": {},
   "source": [
    "## Data analysis"
   ]
  },
  {
   "cell_type": "markdown",
   "id": "6409fdbf-3042-448d-bfe1-10531d61e9af",
   "metadata": {},
   "source": [
    "### Data analysis - Seasonal (by month) behaviour"
   ]
  },
  {
   "cell_type": "code",
   "execution_count": 27,
   "id": "cf75f339-0ca2-4368-abc0-21b3d8745dca",
   "metadata": {
    "tags": []
   },
   "outputs": [
    {
     "data": {
      "text/plain": [
       "<matplotlib.legend.Legend at 0x7fb0c5f280a0>"
      ]
     },
     "execution_count": 27,
     "metadata": {},
     "output_type": "execute_result"
    },
    {
     "data": {
      "image/png": "[encoded data removed]",
      "text/plain": [
       "<Figure size 750x500 with 1 Axes>"
      ]
     },
     "metadata": {},
     "output_type": "display_data"
    }
   ],
   "source": [
    "columns_tokeep = ['date','month','percentage']\n",
    "\n",
    "# ---------- Plotting whole data by month (main line) ----------\n",
    "# DATA\n",
    "complete_bymonth = complete_dataset_dams.groupby('month').agg({'month':np.mean,'ndwi':np.mean})\n",
    "\n",
    "# ------- DATA AND CONFIDENCE INTERVAL PLOT -------\n",
    "#Confidence interval data\n",
    "x = complete_bymonth.month\n",
    "y = complete_bymonth.ndwi\n",
    "ci = 1.96 * np.std(y)/np.sqrt(len(x))\n",
    "\n",
    "#Plot\n",
    "fig, ax = plt.subplots(figsize=(7.5,5))\n",
    "ax.plot(x,y, color = 'darkgreen')\n",
    "ax.fill_between(x, (y-ci), (y+ci), color='darkgreen', alpha=.1)\n",
    "\n",
    "# ---------- MONTHLY DATA (dotted lines) ----------\n",
    "\n",
    "# Find all data years\n",
    "available_years = list(complete_dataset_dams['year'].unique())\n",
    "\n",
    "#Iterate over each year\n",
    "for current_year in available_years:\n",
    "    #Isolating df\n",
    "    year_dataset_dams = complete_dataset_dams.loc[(complete_dataset_dams.year == current_year)]\n",
    "    #Grouping by month    \n",
    "    data_bymonth = year_dataset_dams.groupby('month').agg({'ndwi':np.mean})\n",
    "    #Plotting\n",
    "    plt.plot(data_bymonth, '--', linewidth = 0.5, label=current_year);\n",
    "    \n",
    "# ---------- FORMAT ----------\n",
    "# Format - Titles\n",
    "plt.title('ndwi behaviour in dams 2016 - 2022 by year')\n",
    "plt.xlabel('Month')\n",
    "plt.ylabel('Average ndwi')\n",
    "\n",
    "# Format - x ticks\n",
    "# Tag all 12 months\n",
    "plt.xticks(np.arange(0, 13))\n",
    "# Rotate ticks\n",
    "x = plt.gca().xaxis\n",
    "for item in x.get_ticklabels():\n",
    "    item.set_rotation(90)\n",
    "    item.set_size(7)\n",
    "\n",
    "# Format - y ticks\n",
    "y = plt.gca().yaxis\n",
    "for item in y.get_ticklabels():\n",
    "    item.set_size(7)\n",
    "\n",
    "# Format - Legend\n",
    "plt.legend(frameon=False,\n",
    "           loc=1, \n",
    "           fontsize = 7)"
   ]
  },
  {
   "cell_type": "markdown",
   "id": "6547b079-c1d4-4847-8750-0036c555ca7d",
   "metadata": {},
   "source": [
    "### Data analysis - Historical behaviour"
   ]
  },
  {
   "cell_type": "markdown",
   "id": "7ed5dfe2-780c-45e1-bec2-487524c7b46b",
   "metadata": {},
   "source": [
    "Calculate basics for analysis"
   ]
  },
  {
   "cell_type": "code",
   "execution_count": 15,
   "id": "4e987a3a-af6f-4613-9e1d-c141850de850",
   "metadata": {
    "tags": []
   },
   "outputs": [
    {
     "name": "stdout",
     "output_type": "stream",
     "text": [
      "84\n"
     ]
    }
   ],
   "source": [
    "#Calculate average hex area according to resolution and location (Not currently in use)\n",
    "#gdf = ndwi_hex_dams.to_crs(\"EPSG:6372\")\n",
    "#gdf['area'] = gdf.area\n",
    "#average_hexarea = gdf.area.mean()\n",
    "#print(average_hexarea)\n",
    "\n",
    "#Calculate average hex area according to resolution and location\n",
    "available_dates = len(complete_dataset_dams.date.unique())\n",
    "print(available_dates)"
   ]
  },
  {
   "cell_type": "markdown",
   "id": "65b51b02-8a79-48db-a2f9-a8e759d84898",
   "metadata": {
    "tags": []
   },
   "source": [
    "Calculate historical behaviour"
   ]
  },
  {
   "cell_type": "code",
   "execution_count": 16,
   "id": "79723bf0-865f-4b1f-806b-751550e4e1c1",
   "metadata": {
    "tags": []
   },
   "outputs": [
    {
     "name": "stdout",
     "output_type": "stream",
     "text": [
      "(1008, 6)\n"
     ]
    },
    {
     "data": {
      "text/html": [
       "<div>\n",
       "<style scoped>\n",
       "    .dataframe tbody tr th:only-of-type {\n",
       "        vertical-align: middle;\n",
       "    }\n",
       "\n",
       "    .dataframe tbody tr th {\n",
       "        vertical-align: top;\n",
       "    }\n",
       "\n",
       "    .dataframe thead th {\n",
       "        text-align: right;\n",
       "    }\n",
       "</style>\n",
       "<table border=\"1\" class=\"dataframe\">\n",
       "  <thead>\n",
       "    <tr style=\"text-align: right;\">\n",
       "      <th></th>\n",
       "      <th>date</th>\n",
       "      <th>ndwi_category</th>\n",
       "      <th>hexcount</th>\n",
       "      <th>percentage</th>\n",
       "      <th>city</th>\n",
       "      <th>month</th>\n",
       "    </tr>\n",
       "  </thead>\n",
       "  <tbody>\n",
       "    <tr>\n",
       "      <th>0</th>\n",
       "      <td>2016-01</td>\n",
       "      <td>Drought, non-aqueous surfaces</td>\n",
       "      <td>520</td>\n",
       "      <td>4.337671</td>\n",
       "      <td>presa_laboca</td>\n",
       "      <td>1</td>\n",
       "    </tr>\n",
       "    <tr>\n",
       "      <th>1</th>\n",
       "      <td>2016-01</td>\n",
       "      <td>Moderate drought, non-aqueous surfaces</td>\n",
       "      <td>489</td>\n",
       "      <td>4.079079</td>\n",
       "      <td>presa_laboca</td>\n",
       "      <td>1</td>\n",
       "    </tr>\n",
       "    <tr>\n",
       "      <th>2</th>\n",
       "      <td>2016-01</td>\n",
       "      <td>Flooding, humidity</td>\n",
       "      <td>334</td>\n",
       "      <td>2.786119</td>\n",
       "      <td>presa_laboca</td>\n",
       "      <td>1</td>\n",
       "    </tr>\n",
       "    <tr>\n",
       "      <th>3</th>\n",
       "      <td>2016-01</td>\n",
       "      <td>Water surface</td>\n",
       "      <td>10645</td>\n",
       "      <td>88.79713</td>\n",
       "      <td>presa_laboca</td>\n",
       "      <td>1</td>\n",
       "    </tr>\n",
       "    <tr>\n",
       "      <th>4</th>\n",
       "      <td>2016-02</td>\n",
       "      <td>Drought, non-aqueous surfaces</td>\n",
       "      <td>410</td>\n",
       "      <td>3.420087</td>\n",
       "      <td>presa_laboca</td>\n",
       "      <td>2</td>\n",
       "    </tr>\n",
       "    <tr>\n",
       "      <th>...</th>\n",
       "      <td>...</td>\n",
       "      <td>...</td>\n",
       "      <td>...</td>\n",
       "      <td>...</td>\n",
       "      <td>...</td>\n",
       "      <td>...</td>\n",
       "    </tr>\n",
       "    <tr>\n",
       "      <th>331</th>\n",
       "      <td>2022-11</td>\n",
       "      <td>Water surface</td>\n",
       "      <td>31182</td>\n",
       "      <td>46.262722</td>\n",
       "      <td>presa_elcuchillo</td>\n",
       "      <td>11</td>\n",
       "    </tr>\n",
       "    <tr>\n",
       "      <th>332</th>\n",
       "      <td>2022-12</td>\n",
       "      <td>Drought, non-aqueous surfaces</td>\n",
       "      <td>9866</td>\n",
       "      <td>14.637548</td>\n",
       "      <td>presa_elcuchillo</td>\n",
       "      <td>12</td>\n",
       "    </tr>\n",
       "    <tr>\n",
       "      <th>333</th>\n",
       "      <td>2022-12</td>\n",
       "      <td>Moderate drought, non-aqueous surfaces</td>\n",
       "      <td>26119</td>\n",
       "      <td>38.751076</td>\n",
       "      <td>presa_elcuchillo</td>\n",
       "      <td>12</td>\n",
       "    </tr>\n",
       "    <tr>\n",
       "      <th>334</th>\n",
       "      <td>2022-12</td>\n",
       "      <td>Flooding, humidity</td>\n",
       "      <td>2633</td>\n",
       "      <td>3.906412</td>\n",
       "      <td>presa_elcuchillo</td>\n",
       "      <td>12</td>\n",
       "    </tr>\n",
       "    <tr>\n",
       "      <th>335</th>\n",
       "      <td>2022-12</td>\n",
       "      <td>Water surface</td>\n",
       "      <td>28784</td>\n",
       "      <td>42.704964</td>\n",
       "      <td>presa_elcuchillo</td>\n",
       "      <td>12</td>\n",
       "    </tr>\n",
       "  </tbody>\n",
       "</table>\n",
       "<p>1008 rows × 6 columns</p>\n",
       "</div>"
      ],
      "text/plain": [
       "        date                           ndwi_category hexcount percentage  \\\n",
       "0    2016-01           Drought, non-aqueous surfaces      520   4.337671   \n",
       "1    2016-01  Moderate drought, non-aqueous surfaces      489   4.079079   \n",
       "2    2016-01                      Flooding, humidity      334   2.786119   \n",
       "3    2016-01                           Water surface    10645   88.79713   \n",
       "4    2016-02           Drought, non-aqueous surfaces      410   3.420087   \n",
       "..       ...                                     ...      ...        ...   \n",
       "331  2022-11                           Water surface    31182  46.262722   \n",
       "332  2022-12           Drought, non-aqueous surfaces     9866  14.637548   \n",
       "333  2022-12  Moderate drought, non-aqueous surfaces    26119  38.751076   \n",
       "334  2022-12                      Flooding, humidity     2633   3.906412   \n",
       "335  2022-12                           Water surface    28784  42.704964   \n",
       "\n",
       "                 city  month  \n",
       "0        presa_laboca      1  \n",
       "1        presa_laboca      1  \n",
       "2        presa_laboca      1  \n",
       "3        presa_laboca      1  \n",
       "4        presa_laboca      2  \n",
       "..                ...    ...  \n",
       "331  presa_elcuchillo     11  \n",
       "332  presa_elcuchillo     12  \n",
       "333  presa_elcuchillo     12  \n",
       "334  presa_elcuchillo     12  \n",
       "335  presa_elcuchillo     12  \n",
       "\n",
       "[1008 rows x 6 columns]"
      ]
     },
     "execution_count": 16,
     "metadata": {},
     "output_type": "execute_result"
    }
   ],
   "source": [
    "historical_behaviour = pd.DataFrame()\n",
    "\n",
    "for city in complete_dataset_dams.city.unique():\n",
    "    \n",
    "    #Create empty temporary dataFrame\n",
    "    cols = ['date', 'ndwi_category', 'hexcount','percentage']\n",
    "    historical_temp = pd.DataFrame(columns=cols, index=range(available_dates*4)) # rows = available dates * available categories\n",
    "    historical_temp['city'] = city \n",
    "\n",
    "    #Loop for each date\n",
    "    count = 0\n",
    "    \n",
    "    #PRIMERA SUBDIVISIÓN: DATASET DE LA CIUDAD.\n",
    "    complete_bycity = complete_dataset_dams.loc[(complete_dataset_dams.city == city)]\n",
    "\n",
    "    for date in complete_bycity.date.unique():\n",
    "        #SEGUNDA SUBDIVISIÓN: DATASET DE LA CIUDAD Y LA FECHA.\n",
    "        complete_bydate = complete_bycity.loc[(complete_bycity.date == date)]\n",
    "        total_citydate_hex = complete_bydate.shape[0]\n",
    "\n",
    "        #Loop for each raster category\n",
    "        for cat in categories:\n",
    "            #TERCERA SUBDIVISIÓN: DATASET DE LA CIUDAD, LA FECHA Y LA CATEGORÍA.\n",
    "            complete_bydate_cat = complete_bydate.loc[(complete_bydate.ndwi_category == cat)]\n",
    "            hexcount = complete_bydate_cat.shape[0]\n",
    "\n",
    "            #Register data in DataFrame\n",
    "            historical_temp.loc[count].date = date\n",
    "            historical_temp.loc[count].ndwi_category = cat\n",
    "            historical_temp.loc[count].hexcount = hexcount\n",
    "            historical_temp.loc[count].percentage = (hexcount/total_citydate_hex)*100     \n",
    "\n",
    "            #Next row in DataFrame\n",
    "            count = count + 1\n",
    "    \n",
    "    #When all dates of city are over, concat and re-start count and data for following city\n",
    "    historical_behaviour = pd.concat([historical_behaviour,historical_temp])\n",
    "\n",
    "#Save month data\n",
    "historical_behaviour['month'] = historical_behaviour['date'].apply(lambda x: pd.Timestamp(x).month)\n",
    "\n",
    "#Show\n",
    "print(historical_behaviour.shape)\n",
    "historical_behaviour"
   ]
  },
  {
   "cell_type": "code",
   "execution_count": 25,
   "id": "aa3825ab-0310-4d97-afff-4c772e79ba88",
   "metadata": {
    "tags": []
   },
   "outputs": [
    {
     "data": {
      "image/png": "[encoded data removed]",
      "text/plain": [
       "<Figure size 1000x500 with 1 Axes>"
      ]
     },
     "metadata": {},
     "output_type": "display_data"
    },
    {
     "data": {
      "image/png": "[encoded data removed]",
      "text/plain": [
       "<Figure size 1000x500 with 1 Axes>"
      ]
     },
     "metadata": {},
     "output_type": "display_data"
    },
    {
     "data": {
      "image/png": "[encoded data removed]",
      "text/plain": [
       "<Figure size 1000x500 with 1 Axes>"
      ]
     },
     "metadata": {},
     "output_type": "display_data"
    }
   ],
   "source": [
    "#Iterate over each city\n",
    "for city in historical_behaviour.city.unique():\n",
    "    \n",
    "    #--------------- Isolate data for dam and clean data ---------------\n",
    "    historicalbehaviour_dam = historical_behaviour.loc[(historical_behaviour.city == city)]\n",
    "    \n",
    "    #--------------- Create series of data ---------------\n",
    "    columns_tokeep = ['date','percentage']\n",
    "    \n",
    "    water = historicalbehaviour_dam.loc[(historicalbehaviour_dam.ndwi_category == 'Water surface')]\n",
    "    water = water.reset_index()\n",
    "    water = water[columns_tokeep]\n",
    "\n",
    "    flood = historicalbehaviour_dam.loc[(historicalbehaviour_dam.ndwi_category == 'Flooding, humidity')]\n",
    "    flood = flood.reset_index()\n",
    "    flood = flood[columns_tokeep]\n",
    "\n",
    "    moderate = historicalbehaviour_dam.loc[(historicalbehaviour_dam.ndwi_category == 'Moderate drought, non-aqueous surfaces')]\n",
    "    moderate = moderate.reset_index()\n",
    "    moderate = moderate[columns_tokeep]\n",
    "\n",
    "    drought = historicalbehaviour_dam.loc[(historicalbehaviour_dam.ndwi_category == 'Drought, non-aqueous surfaces')]\n",
    "    drought = drought.reset_index()\n",
    "    drought = drought[columns_tokeep]\n",
    "    \n",
    "    #--------------- Plot data ---------------\n",
    "    x = water['date']\n",
    "    y4 = water['percentage']\n",
    "    y3 = flood['percentage']\n",
    "    y2 = moderate['percentage']\n",
    "    y1 = drought['percentage']\n",
    "\n",
    "    plt.figure(figsize=(10,5))\n",
    "    plt.bar(x, y1, color='darkgoldenrod')\n",
    "    plt.bar(x, y2, bottom=y1, color='palegoldenrod')\n",
    "    plt.bar(x, y3, bottom=y1+y2, color='lightblue')\n",
    "    plt.bar(x, y4, bottom=y1+y2+y3, color='lightseagreen')\n",
    "\n",
    "    \n",
    "    # ---------- Format ----------\n",
    "    # Format - Titles\n",
    "    plt.title('Historic behaviour in {} 2016 - 2022'.format(city))\n",
    "    plt.xlabel('Date')\n",
    "    plt.ylabel('Average {}'.format(index_analysis))\n",
    "    \n",
    "    # Format - x ticks\n",
    "    # Rotate ticks\n",
    "    x = plt.gca().xaxis\n",
    "    for item in x.get_ticklabels():\n",
    "        item.set_rotation(90)\n",
    "        item.set_size(5)"
   ]
  },
  {
   "cell_type": "code",
   "execution_count": 26,
   "id": "60210477-8d8a-48f6-a2cc-bdd0fe6bef4e",
   "metadata": {
    "tags": []
   },
   "outputs": [
    {
     "data": {
      "image/png": "[encoded data removed]",
      "text/plain": [
       "<Figure size 1000x500 with 1 Axes>"
      ]
     },
     "metadata": {},
     "output_type": "display_data"
    }
   ],
   "source": [
    "#--------------- Copy data of all dams ---------------\n",
    "historicalbehaviour_dam = historical_behaviour.copy()\n",
    "\n",
    "#--------------- Create series of data ---------------\n",
    "columns_tokeep = ['date','percentage']\n",
    "\n",
    "water = historicalbehaviour_dam.loc[(historicalbehaviour_dam.ndwi_category == 'Water surface')]\n",
    "water = water.reset_index()\n",
    "water = water[columns_tokeep]\n",
    "\n",
    "flood = historicalbehaviour_dam.loc[(historicalbehaviour_dam.ndwi_category == 'Flooding, humidity')]\n",
    "flood = flood.reset_index()\n",
    "flood = flood[columns_tokeep]\n",
    "\n",
    "moderate = historicalbehaviour_dam.loc[(historicalbehaviour_dam.ndwi_category == 'Moderate drought, non-aqueous surfaces')]\n",
    "moderate = moderate.reset_index()\n",
    "moderate = moderate[columns_tokeep]\n",
    "\n",
    "drought = historicalbehaviour_dam.loc[(historicalbehaviour_dam.ndwi_category == 'Drought, non-aqueous surfaces')]\n",
    "drought = drought.reset_index()\n",
    "drought = drought[columns_tokeep]\n",
    "\n",
    "#--------------- Plot data ---------------\n",
    "x = water['date']\n",
    "y4 = water['percentage']\n",
    "y3 = flood['percentage']\n",
    "y2 = moderate['percentage']\n",
    "y1 = drought['percentage']\n",
    "\n",
    "plt.figure(figsize=(10,5))\n",
    "plt.bar(x, y1, color='darkgoldenrod')\n",
    "plt.bar(x, y2, bottom=y1, color='palegoldenrod')\n",
    "plt.bar(x, y3, bottom=y1+y2, color='lightblue')\n",
    "plt.bar(x, y4, bottom=y1+y2+y3, color='lightseagreen')\n",
    "\n",
    "\n",
    "# ---------- Format ----------\n",
    "# Format - Titles\n",
    "plt.title('Historic behaviour in NL dams 2016 - 2022')\n",
    "plt.xlabel('Date')\n",
    "plt.ylabel('Average {}'.format(index_analysis))\n",
    "\n",
    "# Format - x ticks\n",
    "# Rotate ticks\n",
    "x = plt.gca().xaxis\n",
    "for item in x.get_ticklabels():\n",
    "    item.set_rotation(90)\n",
    "    item.set_size(5)"
   ]
  },
  {
   "cell_type": "code",
   "execution_count": 16,
   "id": "8c09e4c9-2e40-4f11-a265-990e49b5b0e6",
   "metadata": {
    "tags": []
   },
   "outputs": [],
   "source": [
    "#¿TRANSPOSICIÓN PARA MAPAS?\n",
    "\n",
    "#raster_dataset = complete_dataset.drop_duplicates(subset='hex_id', keep=\"last\")[['hex_id','res','city']].copy()\n",
    "\n",
    "#for date in list(complete_dataset.date.unique()):\n",
    "#    date_dataset = complete_dataset.loc[complete_dataset.date == date,['hex_id','ndwi']]\n",
    "#    date_dataset = date_dataset.rename(columns={'ndwi':date})\n",
    "#    raster_dataset = raster_dataset.merge(date_dataset, on='hex_id')\n",
    "    \n",
    "#print(raster_dataset.shape)\n",
    "#raster_dataset.head(2)\n",
    "\n",
    "#city = 'presas'\n",
    "#r = 'n'\n",
    "#raster_dataset.to_csv(tmp_dir+'local_save/'+f'{city}_{index_analysis}_HexRes{r}_.csv')"
   ]
  },
  {
   "cell_type": "code",
   "execution_count": null,
   "id": "3df2ea9d-a5c2-48da-a48c-247d15e5258d",
   "metadata": {},
   "outputs": [],
   "source": []
  }
 ],
 "metadata": {
  "kernelspec": {
   "display_name": "Python 3 (ipykernel)",
   "language": "python",
   "name": "python3"
  },
  "language_info": {
   "codemirror_mode": {
    "name": "ipython",
    "version": 3
   },
   "file_extension": ".py",
   "mimetype": "text/x-python",
   "name": "python",
   "nbconvert_exporter": "python",
   "pygments_lexer": "ipython3",
   "version": "3.10.5"
  }
 },
 "nbformat": 4,
 "nbformat_minor": 5
}
