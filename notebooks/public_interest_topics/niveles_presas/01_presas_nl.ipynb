{
 "cells": [
  {
   "cell_type": "markdown",
   "id": "7a10b0a8-5c95-41d2-9c2f-c926671d9ea2",
   "metadata": {
    "tags": []
   },
   "source": [
    "# Presas en Nuevo León"
   ]
  },
  {
   "cell_type": "markdown",
   "id": "8458fa4f-ba2d-4a96-80d6-91513b68f429",
   "metadata": {},
   "source": [
    "(EDIT DESCRIPTION)\n",
    "\n",
    "This notebook joins ndvi (res10), ndmi (res10) and marginalization (res8 to res10 through centroids) and creates categories for NDVI and marg in order to create the following analysis:\n",
    "\n",
    "Analysis 1: (CSV) Average ndvi and ndmi min, median, mean, max data by marginalization group.\n",
    "\n",
    "Analysis 2: (MAP, BOXPLOT) Zones that may recieve irrigation within urban spaces and its relation with marginalization. Places without vegetation are discarted.(ndvi without locations with water, marshy surfaces, artificial structures, rocks adn clouds).\n",
    "\n",
    "Analysis 3: (CSV) From analisis 2, ndmi_diff (humidity variation/conservation) extremes (10%max, 10%min) are located, ploted and exported to csv."
   ]
  },
  {
   "cell_type": "markdown",
   "id": "aa17cf37-5805-4ba7-80af-34afacb56007",
   "metadata": {},
   "source": [
    "## Import libraries"
   ]
  },
  {
   "cell_type": "code",
   "execution_count": 1,
   "id": "e8916b06-4acb-48f5-99cf-dbbecb84ecdb",
   "metadata": {
    "tags": []
   },
   "outputs": [
    {
     "name": "stderr",
     "output_type": "stream",
     "text": [
      "/usr/local/python/lib/python3.10/site-packages/osmnx/utils.py:192: UserWarning: The `utils.config` function is deprecated and will be removed in a future release. Instead, use the `settings` module directly to configure a global setting's value. For example, `ox.settings.log_console=True`.\n",
      "  warnings.warn(\n"
     ]
    }
   ],
   "source": [
    "import os\n",
    "import sys\n",
    "\n",
    "import pandas as pd\n",
    "import geopandas as gpd\n",
    "import numpy as np\n",
    "\n",
    "import matplotlib.pyplot as plt\n",
    "import seaborn as sns\n",
    "from datetime import datetime\n",
    "\n",
    "from pandas.api.types import CategoricalDtype\n",
    "\n",
    "import warnings\n",
    "warnings.simplefilter(action='ignore', category=FutureWarning)\n",
    "\n",
    "module_path = os.path.abspath(os.path.join('../../../'))\n",
    "if module_path not in sys.path:\n",
    "    sys.path.append(module_path)\n",
    "    import aup"
   ]
  },
  {
   "cell_type": "markdown",
   "id": "97d3a79c-07e6-4d37-95d6-3a6cad47f2a5",
   "metadata": {},
   "source": [
    "## Config notebook"
   ]
  },
  {
   "cell_type": "code",
   "execution_count": 2,
   "id": "90fc2d13-8658-4a78-949e-2470362932a4",
   "metadata": {
    "tags": []
   },
   "outputs": [],
   "source": [
    "#Save csvs to output>____?\n",
    "csv_dataset = False \n",
    "\n",
    "#Save figures to output>____?\n",
    "save_plots = False"
   ]
  },
  {
   "cell_type": "markdown",
   "id": "f353dd6b-97fa-4de4-8fee-e0384aaf09ee",
   "metadata": {},
   "source": [
    "## Data download"
   ]
  },
  {
   "cell_type": "markdown",
   "id": "4d86e5a5-671b-4d63-b6c8-8a2c55c0135c",
   "metadata": {
    "tags": []
   },
   "source": [
    "Data download"
   ]
  },
  {
   "cell_type": "code",
   "execution_count": 4,
   "id": "ce94ea5a-8927-455d-8142-344e21ebadd0",
   "metadata": {
    "tags": []
   },
   "outputs": [],
   "source": [
    "nuevoleon_originalsubset = gpd.read_file(\"../../../data/external/temporal_todocker/NuevoLeonSubset_original.csv\")"
   ]
  },
  {
   "cell_type": "markdown",
   "id": "1c1a1f4c-38fb-40e3-85fa-d14eee68d52a",
   "metadata": {},
   "source": [
    "## Data treatment"
   ]
  },
  {
   "cell_type": "markdown",
   "id": "e33508b6-3661-40b5-8e4f-766ece95599b",
   "metadata": {},
   "source": [
    "### Data treatment - Filter for usefull data"
   ]
  },
  {
   "cell_type": "code",
   "execution_count": 5,
   "id": "26de1eee-8e2d-4db5-91b2-328862d41001",
   "metadata": {
    "tags": []
   },
   "outputs": [
    {
     "name": "stdout",
     "output_type": "stream",
     "text": [
      "(18152, 14)\n"
     ]
    },
    {
     "data": {
      "text/html": [
       "<div>\n",
       "<style scoped>\n",
       "    .dataframe tbody tr th:only-of-type {\n",
       "        vertical-align: middle;\n",
       "    }\n",
       "\n",
       "    .dataframe tbody tr th {\n",
       "        vertical-align: top;\n",
       "    }\n",
       "\n",
       "    .dataframe thead th {\n",
       "        text-align: right;\n",
       "    }\n",
       "</style>\n",
       "<table border=\"1\" class=\"dataframe\">\n",
       "  <thead>\n",
       "    <tr style=\"text-align: right;\">\n",
       "      <th></th>\n",
       "      <th>fechamonitoreo</th>\n",
       "      <th>clavesih</th>\n",
       "      <th>uso</th>\n",
       "      <th>elevcorona</th>\n",
       "      <th>bordolibre</th>\n",
       "      <th>nameelev</th>\n",
       "      <th>namealmac</th>\n",
       "      <th>namoelev</th>\n",
       "      <th>namoalmac</th>\n",
       "      <th>elevacionactual</th>\n",
       "      <th>almacenaactual</th>\n",
       "      <th>llenano</th>\n",
       "      <th>latitud</th>\n",
       "      <th>longitud</th>\n",
       "    </tr>\n",
       "  </thead>\n",
       "  <tbody>\n",
       "    <tr>\n",
       "      <th>0</th>\n",
       "      <td>11/02/2021</td>\n",
       "      <td>PSANL</td>\n",
       "      <td>RI</td>\n",
       "      <td>0</td>\n",
       "      <td>0</td>\n",
       "      <td>232</td>\n",
       "      <td>19.01099968</td>\n",
       "      <td>232</td>\n",
       "      <td>19.01099968</td>\n",
       "      <td>229.57</td>\n",
       "      <td>8.574</td>\n",
       "      <td>0.451002059</td>\n",
       "      <td>27.429167</td>\n",
       "      <td>-100.372222</td>\n",
       "    </tr>\n",
       "    <tr>\n",
       "      <th>1</th>\n",
       "      <td>11/02/2021</td>\n",
       "      <td>LBCNL</td>\n",
       "      <td>AP</td>\n",
       "      <td>450.04</td>\n",
       "      <td>0.839988</td>\n",
       "      <td>449.2000122</td>\n",
       "      <td>42.657</td>\n",
       "      <td>448.54</td>\n",
       "      <td>39.49</td>\n",
       "      <td>446.57</td>\n",
       "      <td>30.741</td>\n",
       "      <td>0.778450241</td>\n",
       "      <td>25.428056</td>\n",
       "      <td>-100.128056</td>\n",
       "    </tr>\n",
       "  </tbody>\n",
       "</table>\n",
       "</div>"
      ],
      "text/plain": [
       "  fechamonitoreo clavesih uso elevcorona bordolibre     nameelev    namealmac  \\\n",
       "0     11/02/2021    PSANL  RI          0          0          232  19.01099968   \n",
       "1     11/02/2021    LBCNL  AP     450.04   0.839988  449.2000122       42.657   \n",
       "\n",
       "  namoelev    namoalmac elevacionactual almacenaactual      llenano  \\\n",
       "0      232  19.01099968          229.57          8.574  0.451002059   \n",
       "1   448.54        39.49          446.57         30.741  0.778450241   \n",
       "\n",
       "     latitud     longitud  \n",
       "0  27.429167  -100.372222  \n",
       "1  25.428056  -100.128056  "
      ]
     },
     "execution_count": 5,
     "metadata": {},
     "output_type": "execute_result"
    }
   ],
   "source": [
    "columns_tokeep = ['fechamonitoreo','clavesih','uso','elevcorona','bordolibre','nameelev','namealmac','namoelev','namoalmac','elevacionactual','almacenaactual','llenano','latitud','longitud']\n",
    "nuevoleon_treatment = nuevoleon_originalsubset[columns_tokeep]\n",
    "\n",
    "#Review result\n",
    "print(nuevoleon_treatment.shape)\n",
    "nuevoleon_treatment.head(2)"
   ]
  },
  {
   "cell_type": "markdown",
   "id": "48e18db8-be7f-40fb-9a4b-3feb0fb0e3fc",
   "metadata": {},
   "source": [
    "### Data treatment - Set names for reservoirs"
   ]
  },
  {
   "cell_type": "code",
   "execution_count": 7,
   "id": "39fe069b-5fd9-44ec-9797-dfed4ad8ad9a",
   "metadata": {
    "tags": []
   },
   "outputs": [
    {
     "data": {
      "text/plain": [
       "array(['PSANL', 'LBCNL', 'CCHNL', 'CPRNL', 'CCHNL          ',\n",
       "       'CPRNL          ', 'LBCNL          ', 'PSANL          '],\n",
       "      dtype=object)"
      ]
     },
     "execution_count": 7,
     "metadata": {},
     "output_type": "execute_result"
    }
   ],
   "source": [
    "nuevoleon_treatment['clavesih'].unique()"
   ]
  },
  {
   "cell_type": "code",
   "execution_count": 8,
   "id": "cc5166b3-7a1e-4da6-b2cc-4a09adaa24fc",
   "metadata": {
    "tags": []
   },
   "outputs": [
    {
     "name": "stderr",
     "output_type": "stream",
     "text": [
      "/tmp/ipykernel_418/2502031973.py:13: SettingWithCopyWarning: \n",
      "A value is trying to be set on a copy of a slice from a DataFrame.\n",
      "Try using .loc[row_indexer,col_indexer] = value instead\n",
      "\n",
      "See the caveats in the documentation: https://pandas.pydata.org/pandas-docs/stable/user_guide/indexing.html#returning-a-view-versus-a-copy\n",
      "  nuevoleon_treatment['name'] = nuevoleon_treatment['clavesih'].apply(lambda x: name_fromclave(x))\n"
     ]
    },
    {
     "data": {
      "text/plain": [
       "array(['Salinillas', 'La Boca', 'El Cuchillo', 'Cerro Prieto'],\n",
       "      dtype=object)"
      ]
     },
     "execution_count": 8,
     "metadata": {},
     "output_type": "execute_result"
    }
   ],
   "source": [
    "def name_fromclave(clavesih):\n",
    "    if (clavesih == 'PSANL' or clavesih == 'PSANL          '):\n",
    "        return 'Salinillas'\n",
    "    elif (clavesih == 'LBCNL' or clavesih == 'LBCNL          '):\n",
    "        return 'La Boca'\n",
    "    elif (clavesih == 'CPRNL' or clavesih == 'CPRNL          '):\n",
    "        return 'Cerro Prieto'\n",
    "    elif (clavesih == 'CCHNL' or clavesih == 'CCHNL          '):\n",
    "        return 'El Cuchillo'\n",
    "    else:\n",
    "          return \"N/A\"\n",
    "\n",
    "nuevoleon_treatment['name'] = nuevoleon_treatment['clavesih'].apply(lambda x: name_fromclave(x))\n",
    "\n",
    "#Review result\n",
    "nuevoleon_treatment['name'].unique()"
   ]
  },
  {
   "cell_type": "markdown",
   "id": "c79945fa-4197-4c06-ba80-b5dfa9aa9b9f",
   "metadata": {},
   "source": [
    "### Data treatment - Set datetime format"
   ]
  },
  {
   "cell_type": "code",
   "execution_count": 9,
   "id": "7307a512-a8cd-485b-85a4-e11ed370b78b",
   "metadata": {
    "tags": []
   },
   "outputs": [
    {
     "name": "stdout",
     "output_type": "stream",
     "text": [
      "(18152, 16)\n"
     ]
    },
    {
     "name": "stderr",
     "output_type": "stream",
     "text": [
      "/tmp/ipykernel_418/1888229558.py:2: SettingWithCopyWarning: \n",
      "A value is trying to be set on a copy of a slice from a DataFrame.\n",
      "Try using .loc[row_indexer,col_indexer] = value instead\n",
      "\n",
      "See the caveats in the documentation: https://pandas.pydata.org/pandas-docs/stable/user_guide/indexing.html#returning-a-view-versus-a-copy\n",
      "  nuevoleon_treatment['date'] = pd.to_datetime(nuevoleon_treatment['fechamonitoreo'],dayfirst=True)\n"
     ]
    },
    {
     "data": {
      "text/html": [
       "<div>\n",
       "<style scoped>\n",
       "    .dataframe tbody tr th:only-of-type {\n",
       "        vertical-align: middle;\n",
       "    }\n",
       "\n",
       "    .dataframe tbody tr th {\n",
       "        vertical-align: top;\n",
       "    }\n",
       "\n",
       "    .dataframe thead th {\n",
       "        text-align: right;\n",
       "    }\n",
       "</style>\n",
       "<table border=\"1\" class=\"dataframe\">\n",
       "  <thead>\n",
       "    <tr style=\"text-align: right;\">\n",
       "      <th></th>\n",
       "      <th>fechamonitoreo</th>\n",
       "      <th>clavesih</th>\n",
       "      <th>uso</th>\n",
       "      <th>elevcorona</th>\n",
       "      <th>bordolibre</th>\n",
       "      <th>nameelev</th>\n",
       "      <th>namealmac</th>\n",
       "      <th>namoelev</th>\n",
       "      <th>namoalmac</th>\n",
       "      <th>elevacionactual</th>\n",
       "      <th>almacenaactual</th>\n",
       "      <th>llenano</th>\n",
       "      <th>latitud</th>\n",
       "      <th>longitud</th>\n",
       "      <th>name</th>\n",
       "      <th>date</th>\n",
       "    </tr>\n",
       "  </thead>\n",
       "  <tbody>\n",
       "    <tr>\n",
       "      <th>0</th>\n",
       "      <td>11/02/2021</td>\n",
       "      <td>PSANL</td>\n",
       "      <td>RI</td>\n",
       "      <td>0</td>\n",
       "      <td>0</td>\n",
       "      <td>232</td>\n",
       "      <td>19.01099968</td>\n",
       "      <td>232</td>\n",
       "      <td>19.01099968</td>\n",
       "      <td>229.57</td>\n",
       "      <td>8.574</td>\n",
       "      <td>0.451002059</td>\n",
       "      <td>27.429167</td>\n",
       "      <td>-100.372222</td>\n",
       "      <td>Salinillas</td>\n",
       "      <td>2021-02-11</td>\n",
       "    </tr>\n",
       "    <tr>\n",
       "      <th>1</th>\n",
       "      <td>11/02/2021</td>\n",
       "      <td>LBCNL</td>\n",
       "      <td>AP</td>\n",
       "      <td>450.04</td>\n",
       "      <td>0.839988</td>\n",
       "      <td>449.2000122</td>\n",
       "      <td>42.657</td>\n",
       "      <td>448.54</td>\n",
       "      <td>39.49</td>\n",
       "      <td>446.57</td>\n",
       "      <td>30.741</td>\n",
       "      <td>0.778450241</td>\n",
       "      <td>25.428056</td>\n",
       "      <td>-100.128056</td>\n",
       "      <td>La Boca</td>\n",
       "      <td>2021-02-11</td>\n",
       "    </tr>\n",
       "  </tbody>\n",
       "</table>\n",
       "</div>"
      ],
      "text/plain": [
       "  fechamonitoreo clavesih uso elevcorona bordolibre     nameelev    namealmac  \\\n",
       "0     11/02/2021    PSANL  RI          0          0          232  19.01099968   \n",
       "1     11/02/2021    LBCNL  AP     450.04   0.839988  449.2000122       42.657   \n",
       "\n",
       "  namoelev    namoalmac elevacionactual almacenaactual      llenano  \\\n",
       "0      232  19.01099968          229.57          8.574  0.451002059   \n",
       "1   448.54        39.49          446.57         30.741  0.778450241   \n",
       "\n",
       "     latitud     longitud        name       date  \n",
       "0  27.429167  -100.372222  Salinillas 2021-02-11  \n",
       "1  25.428056  -100.128056     La Boca 2021-02-11  "
      ]
     },
     "execution_count": 9,
     "metadata": {},
     "output_type": "execute_result"
    }
   ],
   "source": [
    "#Creates datetime data\n",
    "nuevoleon_treatment['date'] = pd.to_datetime(nuevoleon_treatment['fechamonitoreo'],dayfirst=True)\n",
    "\n",
    "#Review result\n",
    "print(nuevoleon_treatment.shape)\n",
    "nuevoleon_treatment.head(2)"
   ]
  },
  {
   "cell_type": "code",
   "execution_count": 10,
   "id": "307a212b-cf2b-4fdb-b3f0-113421ac9295",
   "metadata": {
    "tags": []
   },
   "outputs": [
    {
     "name": "stdout",
     "output_type": "stream",
     "text": [
      "(18152, 18)\n"
     ]
    },
    {
     "name": "stderr",
     "output_type": "stream",
     "text": [
      "/tmp/ipykernel_418/810907199.py:2: SettingWithCopyWarning: \n",
      "A value is trying to be set on a copy of a slice from a DataFrame.\n",
      "Try using .loc[row_indexer,col_indexer] = value instead\n",
      "\n",
      "See the caveats in the documentation: https://pandas.pydata.org/pandas-docs/stable/user_guide/indexing.html#returning-a-view-versus-a-copy\n",
      "  nuevoleon_treatment['month'] = nuevoleon_treatment['date'].apply(lambda x: x.strftime('%m')).astype('int64')\n",
      "/tmp/ipykernel_418/810907199.py:3: SettingWithCopyWarning: \n",
      "A value is trying to be set on a copy of a slice from a DataFrame.\n",
      "Try using .loc[row_indexer,col_indexer] = value instead\n",
      "\n",
      "See the caveats in the documentation: https://pandas.pydata.org/pandas-docs/stable/user_guide/indexing.html#returning-a-view-versus-a-copy\n",
      "  nuevoleon_treatment['year'] = nuevoleon_treatment['date'].apply(lambda x: x.strftime('%y')).astype('int64')\n"
     ]
    },
    {
     "data": {
      "text/html": [
       "<div>\n",
       "<style scoped>\n",
       "    .dataframe tbody tr th:only-of-type {\n",
       "        vertical-align: middle;\n",
       "    }\n",
       "\n",
       "    .dataframe tbody tr th {\n",
       "        vertical-align: top;\n",
       "    }\n",
       "\n",
       "    .dataframe thead th {\n",
       "        text-align: right;\n",
       "    }\n",
       "</style>\n",
       "<table border=\"1\" class=\"dataframe\">\n",
       "  <thead>\n",
       "    <tr style=\"text-align: right;\">\n",
       "      <th></th>\n",
       "      <th>fechamonitoreo</th>\n",
       "      <th>clavesih</th>\n",
       "      <th>uso</th>\n",
       "      <th>elevcorona</th>\n",
       "      <th>bordolibre</th>\n",
       "      <th>nameelev</th>\n",
       "      <th>namealmac</th>\n",
       "      <th>namoelev</th>\n",
       "      <th>namoalmac</th>\n",
       "      <th>elevacionactual</th>\n",
       "      <th>almacenaactual</th>\n",
       "      <th>llenano</th>\n",
       "      <th>latitud</th>\n",
       "      <th>longitud</th>\n",
       "      <th>name</th>\n",
       "      <th>date</th>\n",
       "      <th>month</th>\n",
       "      <th>year</th>\n",
       "    </tr>\n",
       "  </thead>\n",
       "  <tbody>\n",
       "    <tr>\n",
       "      <th>0</th>\n",
       "      <td>11/02/2021</td>\n",
       "      <td>PSANL</td>\n",
       "      <td>RI</td>\n",
       "      <td>0</td>\n",
       "      <td>0</td>\n",
       "      <td>232</td>\n",
       "      <td>19.01099968</td>\n",
       "      <td>232</td>\n",
       "      <td>19.01099968</td>\n",
       "      <td>229.57</td>\n",
       "      <td>8.574</td>\n",
       "      <td>0.451002059</td>\n",
       "      <td>27.429167</td>\n",
       "      <td>-100.372222</td>\n",
       "      <td>Salinillas</td>\n",
       "      <td>2021-02-11</td>\n",
       "      <td>2</td>\n",
       "      <td>21</td>\n",
       "    </tr>\n",
       "    <tr>\n",
       "      <th>1</th>\n",
       "      <td>11/02/2021</td>\n",
       "      <td>LBCNL</td>\n",
       "      <td>AP</td>\n",
       "      <td>450.04</td>\n",
       "      <td>0.839988</td>\n",
       "      <td>449.2000122</td>\n",
       "      <td>42.657</td>\n",
       "      <td>448.54</td>\n",
       "      <td>39.49</td>\n",
       "      <td>446.57</td>\n",
       "      <td>30.741</td>\n",
       "      <td>0.778450241</td>\n",
       "      <td>25.428056</td>\n",
       "      <td>-100.128056</td>\n",
       "      <td>La Boca</td>\n",
       "      <td>2021-02-11</td>\n",
       "      <td>2</td>\n",
       "      <td>21</td>\n",
       "    </tr>\n",
       "  </tbody>\n",
       "</table>\n",
       "</div>"
      ],
      "text/plain": [
       "  fechamonitoreo clavesih uso elevcorona bordolibre     nameelev    namealmac  \\\n",
       "0     11/02/2021    PSANL  RI          0          0          232  19.01099968   \n",
       "1     11/02/2021    LBCNL  AP     450.04   0.839988  449.2000122       42.657   \n",
       "\n",
       "  namoelev    namoalmac elevacionactual almacenaactual      llenano  \\\n",
       "0      232  19.01099968          229.57          8.574  0.451002059   \n",
       "1   448.54        39.49          446.57         30.741  0.778450241   \n",
       "\n",
       "     latitud     longitud        name       date  month  year  \n",
       "0  27.429167  -100.372222  Salinillas 2021-02-11      2    21  \n",
       "1  25.428056  -100.128056     La Boca 2021-02-11      2    21  "
      ]
     },
     "execution_count": 10,
     "metadata": {},
     "output_type": "execute_result"
    }
   ],
   "source": [
    "#Creates datetime data\n",
    "nuevoleon_treatment['month'] = nuevoleon_treatment['date'].apply(lambda x: x.strftime('%m')).astype('int64')\n",
    "nuevoleon_treatment['year'] = nuevoleon_treatment['date'].apply(lambda x: x.strftime('%y')).astype('int64')\n",
    "\n",
    "#Review result\n",
    "print(nuevoleon_treatment.shape)\n",
    "nuevoleon_treatment.head(2)"
   ]
  },
  {
   "cell_type": "markdown",
   "id": "082772aa-393b-4379-85bb-15ba69a03679",
   "metadata": {},
   "source": [
    "### Data treatment - Cleaning"
   ]
  },
  {
   "cell_type": "code",
   "execution_count": 160,
   "id": "147063b0-28f6-40bb-8bf9-db4b52f18b8a",
   "metadata": {
    "tags": []
   },
   "outputs": [
    {
     "name": "stdout",
     "output_type": "stream",
     "text": [
      "(18152, 15)\n"
     ]
    },
    {
     "data": {
      "text/html": [
       "<div>\n",
       "<style scoped>\n",
       "    .dataframe tbody tr th:only-of-type {\n",
       "        vertical-align: middle;\n",
       "    }\n",
       "\n",
       "    .dataframe tbody tr th {\n",
       "        vertical-align: top;\n",
       "    }\n",
       "\n",
       "    .dataframe thead th {\n",
       "        text-align: right;\n",
       "    }\n",
       "</style>\n",
       "<table border=\"1\" class=\"dataframe\">\n",
       "  <thead>\n",
       "    <tr style=\"text-align: right;\">\n",
       "      <th></th>\n",
       "      <th>date</th>\n",
       "      <th>month</th>\n",
       "      <th>name</th>\n",
       "      <th>uso</th>\n",
       "      <th>elevcorona</th>\n",
       "      <th>bordolibre</th>\n",
       "      <th>nameelev</th>\n",
       "      <th>namealmac</th>\n",
       "      <th>namoelev</th>\n",
       "      <th>namoalmac</th>\n",
       "      <th>elevacionactual</th>\n",
       "      <th>almacenaactual</th>\n",
       "      <th>llenano</th>\n",
       "      <th>latitud</th>\n",
       "      <th>longitud</th>\n",
       "    </tr>\n",
       "  </thead>\n",
       "  <tbody>\n",
       "    <tr>\n",
       "      <th>0</th>\n",
       "      <td>2021-02-11</td>\n",
       "      <td>2</td>\n",
       "      <td>Salinillas</td>\n",
       "      <td>RI</td>\n",
       "      <td>0</td>\n",
       "      <td>0</td>\n",
       "      <td>232</td>\n",
       "      <td>19.01099968</td>\n",
       "      <td>232</td>\n",
       "      <td>19.01099968</td>\n",
       "      <td>229.57</td>\n",
       "      <td>8.574</td>\n",
       "      <td>0.451002059</td>\n",
       "      <td>27.429167</td>\n",
       "      <td>-100.372222</td>\n",
       "    </tr>\n",
       "    <tr>\n",
       "      <th>1</th>\n",
       "      <td>2021-02-11</td>\n",
       "      <td>2</td>\n",
       "      <td>La Boca</td>\n",
       "      <td>AP</td>\n",
       "      <td>450.04</td>\n",
       "      <td>0.839988</td>\n",
       "      <td>449.2000122</td>\n",
       "      <td>42.657</td>\n",
       "      <td>448.54</td>\n",
       "      <td>39.49</td>\n",
       "      <td>446.57</td>\n",
       "      <td>30.741</td>\n",
       "      <td>0.778450241</td>\n",
       "      <td>25.428056</td>\n",
       "      <td>-100.128056</td>\n",
       "    </tr>\n",
       "  </tbody>\n",
       "</table>\n",
       "</div>"
      ],
      "text/plain": [
       "        date  month        name uso elevcorona bordolibre     nameelev  \\\n",
       "0 2021-02-11      2  Salinillas  RI          0          0          232   \n",
       "1 2021-02-11      2     La Boca  AP     450.04   0.839988  449.2000122   \n",
       "\n",
       "     namealmac namoelev    namoalmac elevacionactual almacenaactual  \\\n",
       "0  19.01099968      232  19.01099968          229.57          8.574   \n",
       "1       42.657   448.54        39.49          446.57         30.741   \n",
       "\n",
       "       llenano    latitud     longitud  \n",
       "0  0.451002059  27.429167  -100.372222  \n",
       "1  0.778450241  25.428056  -100.128056  "
      ]
     },
     "execution_count": 160,
     "metadata": {},
     "output_type": "execute_result"
    }
   ],
   "source": [
    "columns_tokeep = ['date','month','name','uso','elevcorona','bordolibre','nameelev','namealmac','namoelev','namoalmac','elevacionactual','almacenaactual','llenano','latitud','longitud']\n",
    "presas_nuevoleon = nuevoleon_treatment[columns_tokeep]\n",
    "\n",
    "#Review result\n",
    "print(presas_nuevoleon.shape)\n",
    "presas_nuevoleon.head(2)"
   ]
  },
  {
   "cell_type": "markdown",
   "id": "656e7063-fdef-481b-b0f5-44fde2041617",
   "metadata": {},
   "source": [
    "### Data treatment - Explore data from La Boca (High namoalmac variation)"
   ]
  },
  {
   "cell_type": "code",
   "execution_count": 173,
   "id": "2c275ac1-1559-48e9-96c5-04fa2111a9c7",
   "metadata": {
    "tags": []
   },
   "outputs": [
    {
     "data": {
      "text/plain": [
       "array(['39.49', '35.003', '35.83', '39.02', '35', '37.05', '36.65',\n",
       "       '37.63', '38.1', '38.34', '37.78', '39.06', '38.29', '36.38',\n",
       "       '37.49', '35.76', '37.37', '36.47', '37.21', '35.14', '37.83',\n",
       "       '38.2', '37.06', '35.31', '36.51', '38.75', '38.49', '38.89',\n",
       "       '38.63', '35.58', '35.45', '36.34', '39.2', '38.43', '35.42',\n",
       "       '37.92', '37.97', '35.28', '38.06', '36.24', '35.55', '38.56',\n",
       "       '39.16', '37.51', '36.16', '36.6', '36.91', '39.35', '36.1',\n",
       "       '39.39', '37.23', '38.42', '37.64', '38.88', '35.69', '35.96',\n",
       "       '39.34', '36.79', '35.09', '37.35', '35.89', '38.77', '36.78',\n",
       "       '36.02'], dtype=object)"
      ]
     },
     "execution_count": 173,
     "metadata": {},
     "output_type": "execute_result"
    }
   ],
   "source": [
    "presa = 'La Boca'\n",
    "\n",
    "presa_gdf = presas_nuevoleon.loc[presas_nuevoleon.name==presa]\n",
    "presa_gdf.namoalmac.unique()"
   ]
  },
  {
   "cell_type": "code",
   "execution_count": 174,
   "id": "5ebe6126-da0a-4a97-b745-ec4221fb9e08",
   "metadata": {
    "tags": []
   },
   "outputs": [
    {
     "data": {
      "image/png": "[encoded data removed]",
      "text/plain": [
       "<Figure size 1500x750 with 1 Axes>"
      ]
     },
     "metadata": {},
     "output_type": "display_data"
    }
   ],
   "source": [
    "plt.figure(figsize=(15,7.5))\n",
    "plt.scatter(presa_gdf['month'],presa_gdf['namoalmac'], color = 'darkgreen',linewidth = 1);\n",
    "\n",
    "# ---------- Format ----------\n",
    "# Format - Titles\n",
    "plt.title('{} NAMO almac behaviour'.format(presa))\n",
    "plt.xlabel('Date')\n",
    "plt.ylabel('NAMO almac')\n",
    "\n",
    "# Format - x ticks\n",
    "x = plt.gca().xaxis\n",
    "for item in x.get_ticklabels():\n",
    "    item.set_rotation(90)\n",
    "    item.set_size(10)\n",
    "\n",
    "# Format - y ticks\n",
    "y = plt.gca().yaxis\n",
    "for item in y.get_ticklabels():\n",
    "    item.set_size(7)"
   ]
  },
  {
   "cell_type": "markdown",
   "id": "d097a261-76bb-4476-8e76-7a05bfb767da",
   "metadata": {},
   "source": [
    "## Export"
   ]
  },
  {
   "cell_type": "markdown",
   "id": "c17a3aec-7b5c-4335-ab19-03bc2c89c04f",
   "metadata": {},
   "source": [
    "Export to csv"
   ]
  },
  {
   "cell_type": "code",
   "execution_count": 32,
   "id": "58b13b81-f119-4149-a43e-c6433ea5acc0",
   "metadata": {
    "tags": []
   },
   "outputs": [],
   "source": [
    "#Export to csv\n",
    "#if csv_dataset:\n",
    "#    csv_raster_dataset = ndmi_diff_extremes_c.copy()\n",
    "#    #Show dataframe\n",
    "#    print(csv_raster_dataset.shape)\n",
    "#    csv_raster_dataset.head(2)\n",
    "#    #Download dataframe\n",
    "#    csv_raster_dataset.to_csv(\"../../../output//figures/ndvi_ndmi_marg_bycity/{}/ndmi_diff/ndmi_diffextremes_marg_{}.csv\".format(city.lower(),city.lower()))"
   ]
  },
  {
   "cell_type": "code",
   "execution_count": null,
   "id": "781f5ef3-e129-4466-9a44-b22faad74425",
   "metadata": {},
   "outputs": [],
   "source": []
  }
 ],
 "metadata": {
  "kernelspec": {
   "display_name": "Python 3 (ipykernel)",
   "language": "python",
   "name": "python3"
  },
  "language_info": {
   "codemirror_mode": {
    "name": "ipython",
    "version": 3
   },
   "file_extension": ".py",
   "mimetype": "text/x-python",
   "name": "python",
   "nbconvert_exporter": "python",
   "pygments_lexer": "ipython3",
   "version": "3.10.5"
  }
 },
 "nbformat": 4,
 "nbformat_minor": 5
}
