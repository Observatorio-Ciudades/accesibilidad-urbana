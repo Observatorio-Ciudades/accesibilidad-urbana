{
 "cells": [
  {
   "cell_type": "markdown",
   "id": "df2133a1-d417-44e9-a952-72f7074cc44e",
   "metadata": {},
   "source": [
    "# Nearshoring"
   ]
  },
  {
   "cell_type": "markdown",
   "id": "e0436a08-a932-4b03-8409-78ec9d750d12",
   "metadata": {},
   "source": [
    "Análisis pertinente al decreto de Nearshoring propuesta por la [Secretaría de Economía](https://www.gob.mx/shcp/prensa/comunicado-no-68-gobierno-de-mexico-fortalece-inversiones-por-nearshoring-en-todo-el-pais?idiom=es) en México. Para esto, se filtraron los datos de las unidades económicas pertinentes, utilizando el DENUE 2022 y se agruparon los datos por hexágonos de H3 con resolución 5. Posteriormente, los datos se normalizaron utilizando todas las unidades económicas."
   ]
  },
  {
   "cell_type": "markdown",
   "id": "a4c8a281-c95e-49e1-b0cf-a64890cde7ab",
   "metadata": {},
   "source": [
    "## Import libraries"
   ]
  },
  {
   "cell_type": "code",
   "execution_count": 1,
   "id": "37d29a61-1757-4512-bfe3-9a262e44083c",
   "metadata": {},
   "outputs": [
    {
     "name": "stderr",
     "output_type": "stream",
     "text": [
      "/home/edgaregurrola/anaconda3/envs/odc/lib/python3.10/site-packages/geopandas/_compat.py:153: UserWarning: The Shapely GEOS version (3.10.3-CAPI-1.16.1) is incompatible with the GEOS version PyGEOS was compiled with (3.10.1-CAPI-1.16.0). Conversions between both will be slow.\n",
      "  set_use_pygeos()\n",
      "/tmp/ipykernel_119144/81123683.py:6: DeprecationWarning: GeoPandas is set to use PyGEOS over Shapely. PyGEOS support is deprecatedand will be removed in GeoPandas 1.0, released in the Q1 of 2024. Please migrate to Shapely 2.0 (https://geopandas.org/en/stable/docs/user_guide/pygeos_to_shapely.html).\n",
      "  import geopandas as gpd\n"
     ]
    },
    {
     "name": "stdout",
     "output_type": "stream",
     "text": [
      "2024-01-12 16:54:38 Configured OSMnx 1.1.2\n",
      "2024-01-12 16:54:38 HTTP response caching is on\n"
     ]
    }
   ],
   "source": [
    "import os\n",
    "import sys\n",
    "\n",
    "import pandas as pd\n",
    "import numpy as np\n",
    "import geopandas as gpd\n",
    "import folium\n",
    "\n",
    "import matplotlib.pyplot as plt\n",
    "import seaborn as sns\n",
    "\n",
    "module_path = os.path.abspath(os.path.join('../../'))\n",
    "if module_path not in sys.path:\n",
    "    sys.path.append(module_path)\n",
    "    import aup"
   ]
  },
  {
   "cell_type": "markdown",
   "id": "db9451b1-1c62-4d59-a27b-cddc81041d46",
   "metadata": {},
   "source": [
    "## Download data"
   ]
  },
  {
   "cell_type": "markdown",
   "id": "3abc6bbc-70f5-44d8-b139-1889bd09f3b7",
   "metadata": {},
   "source": [
    "### DENUE Industry"
   ]
  },
  {
   "cell_type": "code",
   "execution_count": 2,
   "id": "859dd8ff-5eae-4ecf-9b45-46804b6afc85",
   "metadata": {},
   "outputs": [
    {
     "data": {
      "text/plain": [
       "'SELECT * FROM denue.denue_2020 WHERE \"codigo_act\" LIKE \\'31%%\\'or \"codigo_act\" LIKE \\'32%%\\'or \"codigo_act\" LIKE \\'33%%\\' or \"codigo_act\" LIKE \\'51211%%\\''"
      ]
     },
     "execution_count": 2,
     "metadata": {},
     "output_type": "execute_result"
    }
   ],
   "source": [
    "year = '20'\n",
    "table = 'denue_2020'\n",
    "query = f\"SELECT * FROM denue.{table} WHERE \\\"codigo_act\\\" LIKE \\'31%%\\'or \\\"codigo_act\\\" LIKE \\'32%%\\'or \\\"codigo_act\\\" LIKE \\'33%%\\' or \\\"codigo_act\\\" LIKE \\'51211%%\\'\"\n",
    "query"
   ]
  },
  {
   "cell_type": "code",
   "execution_count": 3,
   "id": "a3606cd4-b73e-4331-ad0c-9ce3f9a88859",
   "metadata": {},
   "outputs": [
    {
     "name": "stdout",
     "output_type": "stream",
     "text": [
      "(604612, 42)\n"
     ]
    },
    {
     "data": {
      "text/html": [
       "<div>\n",
       "<style scoped>\n",
       "    .dataframe tbody tr th:only-of-type {\n",
       "        vertical-align: middle;\n",
       "    }\n",
       "\n",
       "    .dataframe tbody tr th {\n",
       "        vertical-align: top;\n",
       "    }\n",
       "\n",
       "    .dataframe thead th {\n",
       "        text-align: right;\n",
       "    }\n",
       "</style>\n",
       "<table border=\"1\" class=\"dataframe\">\n",
       "  <thead>\n",
       "    <tr style=\"text-align: right;\">\n",
       "      <th></th>\n",
       "      <th>id</th>\n",
       "      <th>nom_estab</th>\n",
       "      <th>raz_social</th>\n",
       "      <th>codigo_act</th>\n",
       "      <th>nombre_act</th>\n",
       "      <th>per_ocu</th>\n",
       "      <th>tipo_vial</th>\n",
       "      <th>nom_vial</th>\n",
       "      <th>tipo_v_e_1</th>\n",
       "      <th>nom_v_e_1</th>\n",
       "      <th>...</th>\n",
       "      <th>ageb</th>\n",
       "      <th>manzana</th>\n",
       "      <th>telefono</th>\n",
       "      <th>correoelec</th>\n",
       "      <th>www</th>\n",
       "      <th>tipo_uni_eco</th>\n",
       "      <th>latitud</th>\n",
       "      <th>longitud</th>\n",
       "      <th>fecha_alta</th>\n",
       "      <th>geometry</th>\n",
       "    </tr>\n",
       "  </thead>\n",
       "  <tbody>\n",
       "    <tr>\n",
       "      <th>0</th>\n",
       "      <td>32374.0</td>\n",
       "      <td>4 HERMANOS</td>\n",
       "      <td>None</td>\n",
       "      <td>311812</td>\n",
       "      <td>Panificación tradicional</td>\n",
       "      <td>31 a 50 personas</td>\n",
       "      <td>CALLE</td>\n",
       "      <td>LIMA</td>\n",
       "      <td>CALLE</td>\n",
       "      <td>NARANJO</td>\n",
       "      <td>...</td>\n",
       "      <td>2047</td>\n",
       "      <td>32.0</td>\n",
       "      <td>4499169000.0</td>\n",
       "      <td>AGELICADELHER@HOTMAIL.COM</td>\n",
       "      <td>None</td>\n",
       "      <td>Fijo</td>\n",
       "      <td>21.872900</td>\n",
       "      <td>-102.30863</td>\n",
       "      <td>2014-12</td>\n",
       "      <td>POINT (-102.30863 21.87290)</td>\n",
       "    </tr>\n",
       "    <tr>\n",
       "      <th>1</th>\n",
       "      <td>17544.0</td>\n",
       "      <td>ADRIVER</td>\n",
       "      <td>ADRIVER SA DE CV</td>\n",
       "      <td>314120</td>\n",
       "      <td>Confección de cortinas, blancos y similares</td>\n",
       "      <td>6 a 10 personas</td>\n",
       "      <td>CALLE</td>\n",
       "      <td>RINCON DE ROMOS</td>\n",
       "      <td>CALLE</td>\n",
       "      <td>SAN FRANCISCO DE LOS ROMO</td>\n",
       "      <td>...</td>\n",
       "      <td>2278</td>\n",
       "      <td>28.0</td>\n",
       "      <td>4499140600.0</td>\n",
       "      <td>FACTURAS_ADRIVER@HOTMAIL.COM</td>\n",
       "      <td>None</td>\n",
       "      <td>Fijo</td>\n",
       "      <td>21.909044</td>\n",
       "      <td>-102.30418</td>\n",
       "      <td>2010-07</td>\n",
       "      <td>POINT (-102.30418 21.90904)</td>\n",
       "    </tr>\n",
       "  </tbody>\n",
       "</table>\n",
       "<p>2 rows × 42 columns</p>\n",
       "</div>"
      ],
      "text/plain": [
       "        id   nom_estab        raz_social codigo_act  \\\n",
       "0  32374.0  4 HERMANOS              None     311812   \n",
       "1  17544.0     ADRIVER  ADRIVER SA DE CV     314120   \n",
       "\n",
       "                                    nombre_act           per_ocu tipo_vial  \\\n",
       "0                     Panificación tradicional  31 a 50 personas     CALLE   \n",
       "1  Confección de cortinas, blancos y similares   6 a 10 personas     CALLE   \n",
       "\n",
       "          nom_vial tipo_v_e_1                  nom_v_e_1  ...  ageb manzana  \\\n",
       "0             LIMA      CALLE                    NARANJO  ...  2047    32.0   \n",
       "1  RINCON DE ROMOS      CALLE  SAN FRANCISCO DE LOS ROMO  ...  2278    28.0   \n",
       "\n",
       "       telefono                    correoelec   www tipo_uni_eco    latitud  \\\n",
       "0  4499169000.0     AGELICADELHER@HOTMAIL.COM  None         Fijo  21.872900   \n",
       "1  4499140600.0  FACTURAS_ADRIVER@HOTMAIL.COM  None         Fijo  21.909044   \n",
       "\n",
       "    longitud  fecha_alta                     geometry  \n",
       "0 -102.30863     2014-12  POINT (-102.30863 21.87290)  \n",
       "1 -102.30418     2010-07  POINT (-102.30418 21.90904)  \n",
       "\n",
       "[2 rows x 42 columns]"
      ]
     },
     "execution_count": 3,
     "metadata": {},
     "output_type": "execute_result"
    }
   ],
   "source": [
    "denue_all = aup.gdf_from_query(query)\n",
    "print(denue_all.shape)\n",
    "denue_all.head(2)"
   ]
  },
  {
   "cell_type": "code",
   "execution_count": 4,
   "id": "5e61a8dc-955b-4855-addf-915d0addc5bd",
   "metadata": {},
   "outputs": [
    {
     "data": {
      "text/plain": [
       "array(['31 a 50 personas', '6 a 10 personas', '251 y más personas',\n",
       "       '11 a 30 personas', '0 a 5 personas', '51 a 100 personas',\n",
       "       '101 a 250 personas'], dtype=object)"
      ]
     },
     "execution_count": 4,
     "metadata": {},
     "output_type": "execute_result"
    }
   ],
   "source": [
    "denue_all.per_ocu.unique()"
   ]
  },
  {
   "cell_type": "code",
   "execution_count": 5,
   "id": "bede2105-6874-45ee-bafe-5b46cc9d70e0",
   "metadata": {},
   "outputs": [],
   "source": [
    "def number_of_jobs(per_ocu):\n",
    "    jobs_dict = {'0 a 5 personas':3,\n",
    "                '6 a 10 personas':8,\n",
    "                '11 a 30 personas':20,\n",
    "                '31 a 50 personas':40,\n",
    "                '51 a 100 personas':75,\n",
    "                '101 a 250 personas':175,\n",
    "                '251 y más personas':325,\n",
    "                '0 A 5 PERSONAS': 3,\n",
    "                '6 A 10 PERSONAS':8,\n",
    "                '11 A 30 PERSONAS':20,\n",
    "                '31 A 50 PERSONAS':40,\n",
    "                '51 A 100 PERSONAS':75,\n",
    "                '101 A 250 PERSONAS':175,\n",
    "                '251 Y MAS PERSONAS':325,\n",
    "                'NO ESPECIFICADO':0,\n",
    "                '251 y mÃ¡s personas':325}\n",
    "    per_ocu_num = jobs_dict[per_ocu]\n",
    "    return per_ocu_num"
   ]
  },
  {
   "cell_type": "code",
   "execution_count": 6,
   "id": "384aa737-6413-4461-94d2-89dfd9766f19",
   "metadata": {},
   "outputs": [],
   "source": [
    "denue_all['per_ocu_num_tot'] = denue_all.per_ocu.apply(lambda per_ocu: number_of_jobs(per_ocu))"
   ]
  },
  {
   "cell_type": "code",
   "execution_count": 7,
   "id": "693a8210-f368-4711-81f3-d24864a1d186",
   "metadata": {},
   "outputs": [],
   "source": [
    "# denue_all = denue_all.drop(columns='index_right')"
   ]
  },
  {
   "cell_type": "markdown",
   "id": "b18164f2-2b32-4a5d-9df9-0ba2cd8d7b3f",
   "metadata": {},
   "source": [
    "### Industrias nearshoring"
   ]
  },
  {
   "cell_type": "code",
   "execution_count": 8,
   "id": "d2e344c6-c79d-4039-9682-0e6f2b8a31ff",
   "metadata": {},
   "outputs": [
    {
     "data": {
      "text/plain": [
       "'SELECT * FROM denue.denue_2020 WHERE \"codigo_act\" LIKE \\'3363%%\\'or \"codigo_act\" LIKE \\'3254%%\\'\\nor \"codigo_act\" LIKE \\'3359%%\\' or \"codigo_act\" LIKE \\'3344%%\\' or \"codigo_act\" LIKE \\'3253%%\\' or \"codigo_act\" LIKE \\'3391%%\\' or\\n\"codigo_act\" LIKE \\'3253%%\\' or \"codigo_act\" LIKE \\'33641%%\\' or  \"codigo_act\" LIKE \\'3345%%\\'  or  \"codigo_act\" LIKE \\'51211%%\\' '"
      ]
     },
     "execution_count": 8,
     "metadata": {},
     "output_type": "execute_result"
    }
   ],
   "source": [
    "query = f\"\"\"SELECT * FROM denue.{table} WHERE \\\"codigo_act\\\" LIKE \\'3363%%\\'or \\\"codigo_act\\\" LIKE \\'3254%%\\'\n",
    "or \\\"codigo_act\\\" LIKE \\'3359%%\\' or \\\"codigo_act\\\" LIKE \\'3344%%\\' or \\\"codigo_act\\\" LIKE \\'3253%%\\' or \\\"codigo_act\\\" LIKE \\'3391%%\\' or\n",
    "\\\"codigo_act\\\" LIKE \\'3253%%\\' or \\\"codigo_act\\\" LIKE \\'33641%%\\' or  \\\"codigo_act\\\" LIKE \\'3345%%\\'  or  \\\"codigo_act\\\" LIKE \\'51211%%\\' \"\"\"\n",
    "query"
   ]
  },
  {
   "cell_type": "code",
   "execution_count": 9,
   "id": "cff72f63-abc0-4655-b8a5-a7cf34fec0f7",
   "metadata": {},
   "outputs": [
    {
     "name": "stdout",
     "output_type": "stream",
     "text": [
      "(7135, 42)\n"
     ]
    },
    {
     "data": {
      "text/html": [
       "<div>\n",
       "<style scoped>\n",
       "    .dataframe tbody tr th:only-of-type {\n",
       "        vertical-align: middle;\n",
       "    }\n",
       "\n",
       "    .dataframe tbody tr th {\n",
       "        vertical-align: top;\n",
       "    }\n",
       "\n",
       "    .dataframe thead th {\n",
       "        text-align: right;\n",
       "    }\n",
       "</style>\n",
       "<table border=\"1\" class=\"dataframe\">\n",
       "  <thead>\n",
       "    <tr style=\"text-align: right;\">\n",
       "      <th></th>\n",
       "      <th>id</th>\n",
       "      <th>nom_estab</th>\n",
       "      <th>raz_social</th>\n",
       "      <th>codigo_act</th>\n",
       "      <th>nombre_act</th>\n",
       "      <th>per_ocu</th>\n",
       "      <th>tipo_vial</th>\n",
       "      <th>nom_vial</th>\n",
       "      <th>tipo_v_e_1</th>\n",
       "      <th>nom_v_e_1</th>\n",
       "      <th>...</th>\n",
       "      <th>ageb</th>\n",
       "      <th>manzana</th>\n",
       "      <th>telefono</th>\n",
       "      <th>correoelec</th>\n",
       "      <th>www</th>\n",
       "      <th>tipo_uni_eco</th>\n",
       "      <th>latitud</th>\n",
       "      <th>longitud</th>\n",
       "      <th>fecha_alta</th>\n",
       "      <th>geometry</th>\n",
       "    </tr>\n",
       "  </thead>\n",
       "  <tbody>\n",
       "    <tr>\n",
       "      <th>0</th>\n",
       "      <td>36214.0</td>\n",
       "      <td>FORMULAS MAGISTRALES</td>\n",
       "      <td>FORMULAS MAGISTRALES SA DE CV</td>\n",
       "      <td>325412</td>\n",
       "      <td>Fabricación de preparaciones farmacéuticas</td>\n",
       "      <td>6 a 10 personas</td>\n",
       "      <td>CALLE</td>\n",
       "      <td>RAMON LOPEZ VELARDE</td>\n",
       "      <td>CALLE</td>\n",
       "      <td>PEDRO PARGA</td>\n",
       "      <td>...</td>\n",
       "      <td>0638</td>\n",
       "      <td>11.0</td>\n",
       "      <td>nan</td>\n",
       "      <td>None</td>\n",
       "      <td>None</td>\n",
       "      <td>Fijo</td>\n",
       "      <td>21.884022</td>\n",
       "      <td>-102.293540</td>\n",
       "      <td>2014-12</td>\n",
       "      <td>POINT (-102.29354 21.88402)</td>\n",
       "    </tr>\n",
       "    <tr>\n",
       "      <th>1</th>\n",
       "      <td>8622267.0</td>\n",
       "      <td>MAQUILA DE AEROSOLES</td>\n",
       "      <td>SUPER AEROSOL G2 SA DE CV</td>\n",
       "      <td>325320</td>\n",
       "      <td>Fabricación de pesticidas y otros agroquímicos...</td>\n",
       "      <td>6 a 10 personas</td>\n",
       "      <td>AVENIDA</td>\n",
       "      <td>MUEBLEROS</td>\n",
       "      <td>AVENIDA</td>\n",
       "      <td>CARPINTEROS NORTE</td>\n",
       "      <td>...</td>\n",
       "      <td>0016</td>\n",
       "      <td>7.0</td>\n",
       "      <td>4494411300.0</td>\n",
       "      <td>AGSG2@HOTMAIL.COM</td>\n",
       "      <td>WWW.G2AGS.COM</td>\n",
       "      <td>Fijo</td>\n",
       "      <td>21.989230</td>\n",
       "      <td>-102.339180</td>\n",
       "      <td>2019-11</td>\n",
       "      <td>POINT (-102.33918 21.98923)</td>\n",
       "    </tr>\n",
       "    <tr>\n",
       "      <th>2</th>\n",
       "      <td>6710499.0</td>\n",
       "      <td>BEYONZ MEXICANA</td>\n",
       "      <td>BEYONZ MEXICANA S.A. DE C.V.</td>\n",
       "      <td>336370</td>\n",
       "      <td>Fabricación de piezas metálicas troqueladas pa...</td>\n",
       "      <td>101 a 250 personas</td>\n",
       "      <td>CIRCUITO</td>\n",
       "      <td>CEREZO SUR</td>\n",
       "      <td>CALLE</td>\n",
       "      <td>HUIZACHE</td>\n",
       "      <td>...</td>\n",
       "      <td>009A</td>\n",
       "      <td>16.0</td>\n",
       "      <td>nan</td>\n",
       "      <td>PATRICIA.OROZCO@BEYONZ.COM.MX</td>\n",
       "      <td>None</td>\n",
       "      <td>Fijo</td>\n",
       "      <td>22.038738</td>\n",
       "      <td>-102.284515</td>\n",
       "      <td>2016-01</td>\n",
       "      <td>POINT (-102.28452 22.03874)</td>\n",
       "    </tr>\n",
       "    <tr>\n",
       "      <th>3</th>\n",
       "      <td>6281005.0</td>\n",
       "      <td>CALSONIC KANSEI MEXICANA SA DE CV</td>\n",
       "      <td>CALSONIC KANSEI MEXICANA SA DE CV</td>\n",
       "      <td>336390</td>\n",
       "      <td>Fabricación de otras partes para vehículos aut...</td>\n",
       "      <td>251 y más personas</td>\n",
       "      <td>CIRCUITO</td>\n",
       "      <td>AGUASCALIENTES ORIENTE</td>\n",
       "      <td>CIRCUITO</td>\n",
       "      <td>AGUASCALIENTES NORTE</td>\n",
       "      <td>...</td>\n",
       "      <td>0035</td>\n",
       "      <td>4.0</td>\n",
       "      <td>nan</td>\n",
       "      <td>None</td>\n",
       "      <td>None</td>\n",
       "      <td>Fijo</td>\n",
       "      <td>21.965467</td>\n",
       "      <td>-102.278160</td>\n",
       "      <td>2010-07</td>\n",
       "      <td>POINT (-102.27816 21.96547)</td>\n",
       "    </tr>\n",
       "  </tbody>\n",
       "</table>\n",
       "<p>4 rows × 42 columns</p>\n",
       "</div>"
      ],
      "text/plain": [
       "          id                          nom_estab  \\\n",
       "0    36214.0               FORMULAS MAGISTRALES   \n",
       "1  8622267.0               MAQUILA DE AEROSOLES   \n",
       "2  6710499.0                    BEYONZ MEXICANA   \n",
       "3  6281005.0  CALSONIC KANSEI MEXICANA SA DE CV   \n",
       "\n",
       "                          raz_social codigo_act  \\\n",
       "0      FORMULAS MAGISTRALES SA DE CV     325412   \n",
       "1          SUPER AEROSOL G2 SA DE CV     325320   \n",
       "2       BEYONZ MEXICANA S.A. DE C.V.     336370   \n",
       "3  CALSONIC KANSEI MEXICANA SA DE CV     336390   \n",
       "\n",
       "                                          nombre_act             per_ocu  \\\n",
       "0         Fabricación de preparaciones farmacéuticas     6 a 10 personas   \n",
       "1  Fabricación de pesticidas y otros agroquímicos...     6 a 10 personas   \n",
       "2  Fabricación de piezas metálicas troqueladas pa...  101 a 250 personas   \n",
       "3  Fabricación de otras partes para vehículos aut...  251 y más personas   \n",
       "\n",
       "  tipo_vial                 nom_vial tipo_v_e_1              nom_v_e_1  ...  \\\n",
       "0     CALLE      RAMON LOPEZ VELARDE      CALLE            PEDRO PARGA  ...   \n",
       "1   AVENIDA                MUEBLEROS    AVENIDA      CARPINTEROS NORTE  ...   \n",
       "2  CIRCUITO               CEREZO SUR      CALLE               HUIZACHE  ...   \n",
       "3  CIRCUITO  AGUASCALIENTES ORIENTE    CIRCUITO  AGUASCALIENTES NORTE   ...   \n",
       "\n",
       "   ageb manzana      telefono                     correoelec            www  \\\n",
       "0  0638    11.0           nan                           None           None   \n",
       "1  0016     7.0  4494411300.0              AGSG2@HOTMAIL.COM  WWW.G2AGS.COM   \n",
       "2  009A    16.0           nan  PATRICIA.OROZCO@BEYONZ.COM.MX           None   \n",
       "3  0035     4.0           nan                           None           None   \n",
       "\n",
       "  tipo_uni_eco    latitud    longitud  fecha_alta                     geometry  \n",
       "0         Fijo  21.884022 -102.293540     2014-12  POINT (-102.29354 21.88402)  \n",
       "1         Fijo  21.989230 -102.339180     2019-11  POINT (-102.33918 21.98923)  \n",
       "2         Fijo  22.038738 -102.284515     2016-01  POINT (-102.28452 22.03874)  \n",
       "3         Fijo  21.965467 -102.278160     2010-07  POINT (-102.27816 21.96547)  \n",
       "\n",
       "[4 rows x 42 columns]"
      ]
     },
     "execution_count": 9,
     "metadata": {},
     "output_type": "execute_result"
    }
   ],
   "source": [
    "denue_near = aup.gdf_from_query(query)\n",
    "print(denue_near.shape)\n",
    "denue_near.head(4)"
   ]
  },
  {
   "cell_type": "code",
   "execution_count": 10,
   "id": "a775d39d-a4bd-4221-8ebc-6834244b6446",
   "metadata": {},
   "outputs": [],
   "source": [
    "denue_near['per_ocu_num_near'] = denue_near.per_ocu.apply(lambda per_ocu: number_of_jobs(per_ocu))"
   ]
  },
  {
   "cell_type": "code",
   "execution_count": 11,
   "id": "e28709eb-e706-47de-b5a4-90527e5e1365",
   "metadata": {},
   "outputs": [],
   "source": [
    "# denue_near = denue_near.drop(columns='index_right')"
   ]
  },
  {
   "cell_type": "markdown",
   "id": "91c57596-4a33-4a24-a68b-377a6482612e",
   "metadata": {},
   "source": [
    "### Hexágonos"
   ]
  },
  {
   "cell_type": "code",
   "execution_count": 12,
   "id": "89228c59-ef5c-4203-9902-91d4d64c5be8",
   "metadata": {},
   "outputs": [],
   "source": [
    "mun_gdf = aup.gdf_from_db(\"mpos_2020\",\"marco\")"
   ]
  },
  {
   "cell_type": "code",
   "execution_count": 13,
   "id": "6b282b6a-a0ab-44ce-aa62-b406eba2f0d7",
   "metadata": {},
   "outputs": [],
   "source": [
    "gdf = mun_gdf.to_crs(\"EPSG:6372\")\n",
    "gdf = gdf.buffer(1).reset_index().rename(columns={0: \"geometry\"})\n",
    "gdf = gdf.set_geometry(\"geometry\")\n",
    "gdf = gdf.to_crs(\"EPSG:4326\")\n",
    "# poly_wkt = gdf.dissolve().geometry.to_wkt()[0]"
   ]
  },
  {
   "cell_type": "code",
   "execution_count": 41,
   "id": "e1ad53d3-3c8f-4d41-92db-5900b051a068",
   "metadata": {},
   "outputs": [],
   "source": [
    "res = 8\n",
    "hex_gdf = aup.create_hexgrid(gdf, res)"
   ]
  },
  {
   "cell_type": "code",
   "execution_count": 42,
   "id": "ddee2d58-5133-4619-bbd8-fc43af796186",
   "metadata": {},
   "outputs": [
    {
     "name": "stdout",
     "output_type": "stream",
     "text": [
      "(2306941, 2)\n"
     ]
    },
    {
     "data": {
      "text/html": [
       "<div>\n",
       "<style scoped>\n",
       "    .dataframe tbody tr th:only-of-type {\n",
       "        vertical-align: middle;\n",
       "    }\n",
       "\n",
       "    .dataframe tbody tr th {\n",
       "        vertical-align: top;\n",
       "    }\n",
       "\n",
       "    .dataframe thead th {\n",
       "        text-align: right;\n",
       "    }\n",
       "</style>\n",
       "<table border=\"1\" class=\"dataframe\">\n",
       "  <thead>\n",
       "    <tr style=\"text-align: right;\">\n",
       "      <th></th>\n",
       "      <th>hex_id_8</th>\n",
       "      <th>geometry</th>\n",
       "    </tr>\n",
       "  </thead>\n",
       "  <tbody>\n",
       "    <tr>\n",
       "      <th>0</th>\n",
       "      <td>88498eae9dfffff</td>\n",
       "      <td>POLYGON ((-102.34288 21.77158, -102.33829 21.7...</td>\n",
       "    </tr>\n",
       "    <tr>\n",
       "      <th>1</th>\n",
       "      <td>88498ea417fffff</td>\n",
       "      <td>POLYGON ((-102.44072 21.72357, -102.43613 21.7...</td>\n",
       "    </tr>\n",
       "    <tr>\n",
       "      <th>2</th>\n",
       "      <td>88498e3583fffff</td>\n",
       "      <td>POLYGON ((-102.21858 22.00286, -102.21398 22.0...</td>\n",
       "    </tr>\n",
       "    <tr>\n",
       "      <th>3</th>\n",
       "      <td>88498eae63fffff</td>\n",
       "      <td>POLYGON ((-102.27323 21.70686, -102.26865 21.7...</td>\n",
       "    </tr>\n",
       "  </tbody>\n",
       "</table>\n",
       "</div>"
      ],
      "text/plain": [
       "          hex_id_8                                           geometry\n",
       "0  88498eae9dfffff  POLYGON ((-102.34288 21.77158, -102.33829 21.7...\n",
       "1  88498ea417fffff  POLYGON ((-102.44072 21.72357, -102.43613 21.7...\n",
       "2  88498e3583fffff  POLYGON ((-102.21858 22.00286, -102.21398 22.0...\n",
       "3  88498eae63fffff  POLYGON ((-102.27323 21.70686, -102.26865 21.7..."
      ]
     },
     "execution_count": 42,
     "metadata": {},
     "output_type": "execute_result"
    }
   ],
   "source": [
    "# hex_gdf = aup.gdf_from_db(\"hexgrid_5\", \"hexgrid\")\n",
    "print(hex_gdf.shape)\n",
    "hex_gdf.head(4)"
   ]
  },
  {
   "cell_type": "code",
   "execution_count": 43,
   "id": "f9ab2eb9-41c5-44c0-bac3-88772782fb26",
   "metadata": {},
   "outputs": [
    {
     "data": {
      "text/plain": [
       "0          8.638910\n",
       "1          8.642035\n",
       "2          8.637253\n",
       "3          8.635205\n",
       "4          8.641151\n",
       "             ...   \n",
       "2307378    8.666267\n",
       "2307379    8.672332\n",
       "2307380    8.672588\n",
       "2307381    8.674100\n",
       "2307382    8.667800\n",
       "Length: 2306941, dtype: float64"
      ]
     },
     "execution_count": 43,
     "metadata": {},
     "output_type": "execute_result"
    }
   ],
   "source": [
    "hex_gdf.to_crs(\"EPSG:6372\").area/100000"
   ]
  },
  {
   "cell_type": "markdown",
   "id": "5a7e4536-4522-42fd-bf7c-4f49713c453a",
   "metadata": {},
   "source": [
    "## Spatial intersection"
   ]
  },
  {
   "cell_type": "code",
   "execution_count": 44,
   "id": "cb2da230-3ff7-49c6-ac70-4527d37db736",
   "metadata": {},
   "outputs": [
    {
     "name": "stderr",
     "output_type": "stream",
     "text": [
      "/tmp/ipykernel_119144/112529287.py:2: FutureWarning: ['geometry'] did not aggregate successfully. If any error is raised this will raise in a future version of pandas. Drop these columns/ops to avoid this warning.\n",
      "  denue_hex = denue_in_hex.groupby([f'hex_id_{res}']).agg(['count','sum'])\n"
     ]
    }
   ],
   "source": [
    "denue_in_hex = gpd.sjoin(denue_near, hex_gdf)\n",
    "denue_hex = denue_in_hex.groupby([f'hex_id_{res}']).agg(['count','sum'])"
   ]
  },
  {
   "cell_type": "code",
   "execution_count": 45,
   "id": "0bf3c52b-bdc4-4c06-9672-024eb0ae820d",
   "metadata": {},
   "outputs": [],
   "source": [
    "denue_hex.columns = ['_'.join(col) for col in denue_hex.columns]\n",
    "per_ocu_cols = [col for col in denue_hex.columns if 'per_ocu_num' in col]\n",
    "denue_hex = denue_hex[per_ocu_cols]\n",
    "denue_hex = denue_hex.reset_index()\n",
    "hex_denue_gdf = hex_gdf.merge(denue_hex, on=f'hex_id_{res}')"
   ]
  },
  {
   "cell_type": "code",
   "execution_count": 46,
   "id": "42e06e05-80fe-40e0-83d9-ad76e1289322",
   "metadata": {},
   "outputs": [
    {
     "data": {
      "text/html": [
       "<div>\n",
       "<style scoped>\n",
       "    .dataframe tbody tr th:only-of-type {\n",
       "        vertical-align: middle;\n",
       "    }\n",
       "\n",
       "    .dataframe tbody tr th {\n",
       "        vertical-align: top;\n",
       "    }\n",
       "\n",
       "    .dataframe thead th {\n",
       "        text-align: right;\n",
       "    }\n",
       "</style>\n",
       "<table border=\"1\" class=\"dataframe\">\n",
       "  <thead>\n",
       "    <tr style=\"text-align: right;\">\n",
       "      <th></th>\n",
       "      <th>hex_id_8</th>\n",
       "      <th>geometry</th>\n",
       "      <th>per_ocu_num_near_count</th>\n",
       "      <th>per_ocu_num_near_sum</th>\n",
       "    </tr>\n",
       "  </thead>\n",
       "  <tbody>\n",
       "    <tr>\n",
       "      <th>0</th>\n",
       "      <td>88498e361bfffff</td>\n",
       "      <td>POLYGON ((-102.30091 21.89334, -102.29631 21.8...</td>\n",
       "      <td>2</td>\n",
       "      <td>16</td>\n",
       "    </tr>\n",
       "    <tr>\n",
       "      <th>1</th>\n",
       "      <td>88498e3655fffff</td>\n",
       "      <td>POLYGON ((-102.28412 21.87119, -102.27953 21.8...</td>\n",
       "      <td>1</td>\n",
       "      <td>3</td>\n",
       "    </tr>\n",
       "    <tr>\n",
       "      <th>2</th>\n",
       "      <td>88498e36ebfffff</td>\n",
       "      <td>POLYGON ((-102.29832 21.91719, -102.29372 21.9...</td>\n",
       "      <td>1</td>\n",
       "      <td>20</td>\n",
       "    </tr>\n",
       "    <tr>\n",
       "      <th>3</th>\n",
       "      <td>88498e3603fffff</td>\n",
       "      <td>POLYGON ((-102.27594 21.88765, -102.27135 21.8...</td>\n",
       "      <td>2</td>\n",
       "      <td>6</td>\n",
       "    </tr>\n",
       "    <tr>\n",
       "      <th>4</th>\n",
       "      <td>88498ead91fffff</td>\n",
       "      <td>POLYGON ((-102.25208 21.84251, -102.24749 21.8...</td>\n",
       "      <td>1</td>\n",
       "      <td>8</td>\n",
       "    </tr>\n",
       "    <tr>\n",
       "      <th>...</th>\n",
       "      <td>...</td>\n",
       "      <td>...</td>\n",
       "      <td>...</td>\n",
       "      <td>...</td>\n",
       "    </tr>\n",
       "    <tr>\n",
       "      <th>3868</th>\n",
       "      <td>8849886117fffff</td>\n",
       "      <td>POLYGON ((-102.57667 22.75969, -102.57205 22.7...</td>\n",
       "      <td>1</td>\n",
       "      <td>3</td>\n",
       "    </tr>\n",
       "    <tr>\n",
       "      <th>3869</th>\n",
       "      <td>884988613bfffff</td>\n",
       "      <td>POLYGON ((-102.56691 22.76054, -102.56229 22.7...</td>\n",
       "      <td>1</td>\n",
       "      <td>3</td>\n",
       "    </tr>\n",
       "    <tr>\n",
       "      <th>3870</th>\n",
       "      <td>88498861ebfffff</td>\n",
       "      <td>POLYGON ((-102.58798 22.77447, -102.58336 22.7...</td>\n",
       "      <td>1</td>\n",
       "      <td>3</td>\n",
       "    </tr>\n",
       "    <tr>\n",
       "      <th>3871</th>\n",
       "      <td>8849886131fffff</td>\n",
       "      <td>POLYGON ((-102.55715 22.76139, -102.55253 22.7...</td>\n",
       "      <td>1</td>\n",
       "      <td>8</td>\n",
       "    </tr>\n",
       "    <tr>\n",
       "      <th>3872</th>\n",
       "      <td>88498861e9fffff</td>\n",
       "      <td>POLYGON ((-102.58233 22.76708, -102.57770 22.7...</td>\n",
       "      <td>4</td>\n",
       "      <td>17</td>\n",
       "    </tr>\n",
       "  </tbody>\n",
       "</table>\n",
       "<p>3873 rows × 4 columns</p>\n",
       "</div>"
      ],
      "text/plain": [
       "             hex_id_8                                           geometry  \\\n",
       "0     88498e361bfffff  POLYGON ((-102.30091 21.89334, -102.29631 21.8...   \n",
       "1     88498e3655fffff  POLYGON ((-102.28412 21.87119, -102.27953 21.8...   \n",
       "2     88498e36ebfffff  POLYGON ((-102.29832 21.91719, -102.29372 21.9...   \n",
       "3     88498e3603fffff  POLYGON ((-102.27594 21.88765, -102.27135 21.8...   \n",
       "4     88498ead91fffff  POLYGON ((-102.25208 21.84251, -102.24749 21.8...   \n",
       "...               ...                                                ...   \n",
       "3868  8849886117fffff  POLYGON ((-102.57667 22.75969, -102.57205 22.7...   \n",
       "3869  884988613bfffff  POLYGON ((-102.56691 22.76054, -102.56229 22.7...   \n",
       "3870  88498861ebfffff  POLYGON ((-102.58798 22.77447, -102.58336 22.7...   \n",
       "3871  8849886131fffff  POLYGON ((-102.55715 22.76139, -102.55253 22.7...   \n",
       "3872  88498861e9fffff  POLYGON ((-102.58233 22.76708, -102.57770 22.7...   \n",
       "\n",
       "      per_ocu_num_near_count  per_ocu_num_near_sum  \n",
       "0                          2                    16  \n",
       "1                          1                     3  \n",
       "2                          1                    20  \n",
       "3                          2                     6  \n",
       "4                          1                     8  \n",
       "...                      ...                   ...  \n",
       "3868                       1                     3  \n",
       "3869                       1                     3  \n",
       "3870                       1                     3  \n",
       "3871                       1                     8  \n",
       "3872                       4                    17  \n",
       "\n",
       "[3873 rows x 4 columns]"
      ]
     },
     "execution_count": 46,
     "metadata": {},
     "output_type": "execute_result"
    }
   ],
   "source": [
    "hex_denue_gdf"
   ]
  },
  {
   "cell_type": "code",
   "execution_count": 47,
   "id": "7bc9daf0-8816-48ff-9cfd-cb4d4b5f9002",
   "metadata": {},
   "outputs": [
    {
     "name": "stderr",
     "output_type": "stream",
     "text": [
      "/tmp/ipykernel_119144/3376210587.py:2: FutureWarning: ['geometry'] did not aggregate successfully. If any error is raised this will raise in a future version of pandas. Drop these columns/ops to avoid this warning.\n",
      "  denue_hex = denue_in_hex.groupby([f'hex_id_{res}']).agg(['count','sum'])\n"
     ]
    }
   ],
   "source": [
    "denue_in_hex = gpd.sjoin(denue_all, hex_gdf)\n",
    "denue_hex = denue_in_hex.groupby([f'hex_id_{res}']).agg(['count','sum'])\n",
    "denue_hex.columns = ['_'.join(col) for col in denue_hex.columns]\n",
    "per_ocu_cols = [col for col in denue_hex.columns if 'per_ocu_num' in col]\n",
    "denue_hex = denue_hex[per_ocu_cols]\n",
    "denue_hex = denue_hex.reset_index()\n",
    "hex_denue_gdf = hex_denue_gdf.merge(denue_hex, on=f'hex_id_{res}')"
   ]
  },
  {
   "cell_type": "code",
   "execution_count": 48,
   "id": "2fb17e37-ba77-4f64-ac9a-650d51b95e06",
   "metadata": {},
   "outputs": [
    {
     "data": {
      "text/html": [
       "<div>\n",
       "<style scoped>\n",
       "    .dataframe tbody tr th:only-of-type {\n",
       "        vertical-align: middle;\n",
       "    }\n",
       "\n",
       "    .dataframe tbody tr th {\n",
       "        vertical-align: top;\n",
       "    }\n",
       "\n",
       "    .dataframe thead th {\n",
       "        text-align: right;\n",
       "    }\n",
       "</style>\n",
       "<table border=\"1\" class=\"dataframe\">\n",
       "  <thead>\n",
       "    <tr style=\"text-align: right;\">\n",
       "      <th></th>\n",
       "      <th>hex_id_8</th>\n",
       "      <th>geometry</th>\n",
       "      <th>per_ocu_num_near_count</th>\n",
       "      <th>per_ocu_num_near_sum</th>\n",
       "      <th>per_ocu_num_tot_count</th>\n",
       "      <th>per_ocu_num_tot_sum</th>\n",
       "    </tr>\n",
       "  </thead>\n",
       "  <tbody>\n",
       "    <tr>\n",
       "      <th>0</th>\n",
       "      <td>88498e361bfffff</td>\n",
       "      <td>POLYGON ((-102.30091 21.89334, -102.29631 21.8...</td>\n",
       "      <td>2</td>\n",
       "      <td>16</td>\n",
       "      <td>73</td>\n",
       "      <td>603</td>\n",
       "    </tr>\n",
       "    <tr>\n",
       "      <th>1</th>\n",
       "      <td>88498e3655fffff</td>\n",
       "      <td>POLYGON ((-102.28412 21.87119, -102.27953 21.8...</td>\n",
       "      <td>1</td>\n",
       "      <td>3</td>\n",
       "      <td>69</td>\n",
       "      <td>463</td>\n",
       "    </tr>\n",
       "  </tbody>\n",
       "</table>\n",
       "</div>"
      ],
      "text/plain": [
       "          hex_id_8                                           geometry  \\\n",
       "0  88498e361bfffff  POLYGON ((-102.30091 21.89334, -102.29631 21.8...   \n",
       "1  88498e3655fffff  POLYGON ((-102.28412 21.87119, -102.27953 21.8...   \n",
       "\n",
       "   per_ocu_num_near_count  per_ocu_num_near_sum  per_ocu_num_tot_count  \\\n",
       "0                       2                    16                     73   \n",
       "1                       1                     3                     69   \n",
       "\n",
       "   per_ocu_num_tot_sum  \n",
       "0                  603  \n",
       "1                  463  "
      ]
     },
     "execution_count": 48,
     "metadata": {},
     "output_type": "execute_result"
    }
   ],
   "source": [
    "hex_denue_gdf.head(2)"
   ]
  },
  {
   "cell_type": "markdown",
   "id": "a83579fe-de09-4c3f-8eaa-fd63a9e65e06",
   "metadata": {},
   "source": [
    "### Spatial analysis"
   ]
  },
  {
   "cell_type": "code",
   "execution_count": 49,
   "id": "6e23708b-f7b3-4303-82fe-9f6816846a33",
   "metadata": {},
   "outputs": [
    {
     "name": "stdout",
     "output_type": "stream",
     "text": [
      "(3873, 8)\n"
     ]
    },
    {
     "data": {
      "text/html": [
       "<div>\n",
       "<style scoped>\n",
       "    .dataframe tbody tr th:only-of-type {\n",
       "        vertical-align: middle;\n",
       "    }\n",
       "\n",
       "    .dataframe tbody tr th {\n",
       "        vertical-align: top;\n",
       "    }\n",
       "\n",
       "    .dataframe thead th {\n",
       "        text-align: right;\n",
       "    }\n",
       "</style>\n",
       "<table border=\"1\" class=\"dataframe\">\n",
       "  <thead>\n",
       "    <tr style=\"text-align: right;\">\n",
       "      <th></th>\n",
       "      <th>hex_id_8</th>\n",
       "      <th>geometry</th>\n",
       "      <th>nearshoring_industry</th>\n",
       "      <th>per_ocu_num_near_sum</th>\n",
       "      <th>denue</th>\n",
       "      <th>per_ocu_num_tot_sum</th>\n",
       "      <th>nearshoring_industry_pct</th>\n",
       "      <th>nearshoring_workforce_pct</th>\n",
       "    </tr>\n",
       "  </thead>\n",
       "  <tbody>\n",
       "    <tr>\n",
       "      <th>0</th>\n",
       "      <td>88498e361bfffff</td>\n",
       "      <td>POLYGON ((-102.30091 21.89334, -102.29631 21.8...</td>\n",
       "      <td>2</td>\n",
       "      <td>16</td>\n",
       "      <td>73</td>\n",
       "      <td>603</td>\n",
       "      <td>0.027397</td>\n",
       "      <td>0.026534</td>\n",
       "    </tr>\n",
       "    <tr>\n",
       "      <th>1</th>\n",
       "      <td>88498e3655fffff</td>\n",
       "      <td>POLYGON ((-102.28412 21.87119, -102.27953 21.8...</td>\n",
       "      <td>1</td>\n",
       "      <td>3</td>\n",
       "      <td>69</td>\n",
       "      <td>463</td>\n",
       "      <td>0.014493</td>\n",
       "      <td>0.006479</td>\n",
       "    </tr>\n",
       "    <tr>\n",
       "      <th>2</th>\n",
       "      <td>88498e36ebfffff</td>\n",
       "      <td>POLYGON ((-102.29832 21.91719, -102.29372 21.9...</td>\n",
       "      <td>1</td>\n",
       "      <td>20</td>\n",
       "      <td>6</td>\n",
       "      <td>35</td>\n",
       "      <td>0.166667</td>\n",
       "      <td>0.571429</td>\n",
       "    </tr>\n",
       "    <tr>\n",
       "      <th>3</th>\n",
       "      <td>88498e3603fffff</td>\n",
       "      <td>POLYGON ((-102.27594 21.88765, -102.27135 21.8...</td>\n",
       "      <td>2</td>\n",
       "      <td>6</td>\n",
       "      <td>35</td>\n",
       "      <td>282</td>\n",
       "      <td>0.057143</td>\n",
       "      <td>0.021277</td>\n",
       "    </tr>\n",
       "  </tbody>\n",
       "</table>\n",
       "</div>"
      ],
      "text/plain": [
       "          hex_id_8                                           geometry  \\\n",
       "0  88498e361bfffff  POLYGON ((-102.30091 21.89334, -102.29631 21.8...   \n",
       "1  88498e3655fffff  POLYGON ((-102.28412 21.87119, -102.27953 21.8...   \n",
       "2  88498e36ebfffff  POLYGON ((-102.29832 21.91719, -102.29372 21.9...   \n",
       "3  88498e3603fffff  POLYGON ((-102.27594 21.88765, -102.27135 21.8...   \n",
       "\n",
       "   nearshoring_industry  per_ocu_num_near_sum  denue  per_ocu_num_tot_sum  \\\n",
       "0                     2                    16     73                  603   \n",
       "1                     1                     3     69                  463   \n",
       "2                     1                    20      6                   35   \n",
       "3                     2                     6     35                  282   \n",
       "\n",
       "   nearshoring_industry_pct  nearshoring_workforce_pct  \n",
       "0                  0.027397                   0.026534  \n",
       "1                  0.014493                   0.006479  \n",
       "2                  0.166667                   0.571429  \n",
       "3                  0.057143                   0.021277  "
      ]
     },
     "execution_count": 49,
     "metadata": {},
     "output_type": "execute_result"
    }
   ],
   "source": [
    "hex_denue_gdf = hex_denue_gdf.rename(columns={'per_ocu_num_near_count':'nearshoring_industry',\n",
    "                             'per_ocu_num_tot_count':'denue'})\n",
    "hex_denue_gdf['nearshoring_industry_pct'] = hex_denue_gdf['nearshoring_industry'] / hex_denue_gdf['denue']\n",
    "hex_denue_gdf['nearshoring_workforce_pct'] = hex_denue_gdf['per_ocu_num_near_sum'] / hex_denue_gdf['per_ocu_num_tot_sum']\n",
    "print(hex_denue_gdf.shape)\n",
    "hex_denue_gdf.head(4)"
   ]
  },
  {
   "cell_type": "code",
   "execution_count": 50,
   "id": "96761b97-b342-4b71-8265-1c921f3dbb47",
   "metadata": {},
   "outputs": [
    {
     "data": {
      "text/plain": [
       "<AxesSubplot: >"
      ]
     },
     "execution_count": 50,
     "metadata": {},
     "output_type": "execute_result"
    },
    {
     "data": {
      "image/png": "[encoded data removed]",
      "text/plain": [
       "<Figure size 640x480 with 1 Axes>"
      ]
     },
     "metadata": {},
     "output_type": "display_data"
    }
   ],
   "source": [
    "hex_denue_gdf.plot('nearshoring_industry')"
   ]
  },
  {
   "cell_type": "code",
   "execution_count": 26,
   "id": "c5fd2544-7c5e-4dea-a1aa-b026c43d5a29",
   "metadata": {
    "jupyter": {
     "source_hidden": true
    },
    "scrolled": true,
    "tags": []
   },
   "outputs": [
    {
     "ename": "KeyError",
     "evalue": "\"None of ['hex_id_7'] are in the columns\"",
     "output_type": "error",
     "traceback": [
      "\u001b[0;31m---------------------------------------------------------------------------\u001b[0m",
      "\u001b[0;31mKeyError\u001b[0m                                  Traceback (most recent call last)",
      "\u001b[0;32m/tmp/ipykernel_119766/1018898156.py\u001b[0m in \u001b[0;36m?\u001b[0;34m()\u001b[0m\n\u001b[1;32m      1\u001b[0m \u001b[0mm\u001b[0m \u001b[0;34m=\u001b[0m \u001b[0mfolium\u001b[0m\u001b[0;34m.\u001b[0m\u001b[0mMap\u001b[0m\u001b[0;34m(\u001b[0m\u001b[0mtiles\u001b[0m\u001b[0;34m=\u001b[0m\u001b[0;34m\"cartodbpositron\"\u001b[0m\u001b[0;34m)\u001b[0m\u001b[0;34m\u001b[0m\u001b[0;34m\u001b[0m\u001b[0m\n\u001b[1;32m      2\u001b[0m \u001b[0;34m\u001b[0m\u001b[0m\n\u001b[1;32m      3\u001b[0m \u001b[0;31m# folium.GeoJson(, name=\"DENUE Nearshoring\").add_to(m)\u001b[0m\u001b[0;34m\u001b[0m\u001b[0;34m\u001b[0m\u001b[0m\n\u001b[1;32m      4\u001b[0m \u001b[0;34m\u001b[0m\u001b[0m\n\u001b[0;32m----> 5\u001b[0;31m folium.Choropleth(\n\u001b[0m\u001b[1;32m      6\u001b[0m     \u001b[0mgeo_data\u001b[0m\u001b[0;34m=\u001b[0m\u001b[0mhex_denue_gdf\u001b[0m\u001b[0;34m,\u001b[0m\u001b[0;34m\u001b[0m\u001b[0;34m\u001b[0m\u001b[0m\n\u001b[1;32m      7\u001b[0m     \u001b[0mname\u001b[0m\u001b[0;34m=\u001b[0m\u001b[0;34m\"choropleth\"\u001b[0m\u001b[0;34m,\u001b[0m\u001b[0;34m\u001b[0m\u001b[0;34m\u001b[0m\u001b[0m\n\u001b[1;32m      8\u001b[0m     \u001b[0mdata\u001b[0m\u001b[0;34m=\u001b[0m\u001b[0mhex_denue_gdf\u001b[0m\u001b[0;34m,\u001b[0m\u001b[0;34m\u001b[0m\u001b[0;34m\u001b[0m\u001b[0m\n",
      "\u001b[0;32m~/anaconda3/envs/odc/lib/python3.10/site-packages/folium/features.py\u001b[0m in \u001b[0;36m?\u001b[0;34m(self, geo_data, data, columns, key_on, bins, fill_color, nan_fill_color, fill_opacity, nan_fill_opacity, line_color, line_weight, line_opacity, name, legend_name, overlay, control, show, topojson, smooth_factor, highlight, **kwargs)\u001b[0m\n\u001b[1;32m   1196\u001b[0m \u001b[0;34m\u001b[0m\u001b[0m\n\u001b[1;32m   1197\u001b[0m         \u001b[0;31m# Create color_data dict\u001b[0m\u001b[0;34m\u001b[0m\u001b[0;34m\u001b[0m\u001b[0m\n\u001b[1;32m   1198\u001b[0m         \u001b[0;32mif\u001b[0m \u001b[0mhasattr\u001b[0m\u001b[0;34m(\u001b[0m\u001b[0mdata\u001b[0m\u001b[0;34m,\u001b[0m \u001b[0;34m'set_index'\u001b[0m\u001b[0;34m)\u001b[0m\u001b[0;34m:\u001b[0m\u001b[0;34m\u001b[0m\u001b[0;34m\u001b[0m\u001b[0m\n\u001b[1;32m   1199\u001b[0m             \u001b[0;31m# This is a pd.DataFrame\u001b[0m\u001b[0;34m\u001b[0m\u001b[0;34m\u001b[0m\u001b[0m\n\u001b[0;32m-> 1200\u001b[0;31m             \u001b[0mcolor_data\u001b[0m \u001b[0;34m=\u001b[0m \u001b[0mdata\u001b[0m\u001b[0;34m.\u001b[0m\u001b[0mset_index\u001b[0m\u001b[0;34m(\u001b[0m\u001b[0mcolumns\u001b[0m\u001b[0;34m[\u001b[0m\u001b[0;36m0\u001b[0m\u001b[0;34m]\u001b[0m\u001b[0;34m)\u001b[0m\u001b[0;34m[\u001b[0m\u001b[0mcolumns\u001b[0m\u001b[0;34m[\u001b[0m\u001b[0;36m1\u001b[0m\u001b[0;34m]\u001b[0m\u001b[0;34m]\u001b[0m\u001b[0;34m.\u001b[0m\u001b[0mto_dict\u001b[0m\u001b[0;34m(\u001b[0m\u001b[0;34m)\u001b[0m\u001b[0;34m\u001b[0m\u001b[0;34m\u001b[0m\u001b[0m\n\u001b[0m\u001b[1;32m   1201\u001b[0m         \u001b[0;32melif\u001b[0m \u001b[0mhasattr\u001b[0m\u001b[0;34m(\u001b[0m\u001b[0mdata\u001b[0m\u001b[0;34m,\u001b[0m \u001b[0;34m'to_dict'\u001b[0m\u001b[0;34m)\u001b[0m\u001b[0;34m:\u001b[0m\u001b[0;34m\u001b[0m\u001b[0;34m\u001b[0m\u001b[0m\n\u001b[1;32m   1202\u001b[0m             \u001b[0;31m# This is a pd.Series\u001b[0m\u001b[0;34m\u001b[0m\u001b[0;34m\u001b[0m\u001b[0m\n\u001b[1;32m   1203\u001b[0m             \u001b[0mcolor_data\u001b[0m \u001b[0;34m=\u001b[0m \u001b[0mdata\u001b[0m\u001b[0;34m.\u001b[0m\u001b[0mto_dict\u001b[0m\u001b[0;34m(\u001b[0m\u001b[0;34m)\u001b[0m\u001b[0;34m\u001b[0m\u001b[0;34m\u001b[0m\u001b[0m\n",
      "\u001b[0;32m~/anaconda3/envs/odc/lib/python3.10/site-packages/pandas/util/_decorators.py\u001b[0m in \u001b[0;36m?\u001b[0;34m(*args, **kwargs)\u001b[0m\n\u001b[1;32m    327\u001b[0m                     \u001b[0mmsg\u001b[0m\u001b[0;34m.\u001b[0m\u001b[0mformat\u001b[0m\u001b[0;34m(\u001b[0m\u001b[0marguments\u001b[0m\u001b[0;34m=\u001b[0m\u001b[0m_format_argument_list\u001b[0m\u001b[0;34m(\u001b[0m\u001b[0mallow_args\u001b[0m\u001b[0;34m)\u001b[0m\u001b[0;34m)\u001b[0m\u001b[0;34m,\u001b[0m\u001b[0;34m\u001b[0m\u001b[0;34m\u001b[0m\u001b[0m\n\u001b[1;32m    328\u001b[0m                     \u001b[0mFutureWarning\u001b[0m\u001b[0;34m,\u001b[0m\u001b[0;34m\u001b[0m\u001b[0;34m\u001b[0m\u001b[0m\n\u001b[1;32m    329\u001b[0m                     \u001b[0mstacklevel\u001b[0m\u001b[0;34m=\u001b[0m\u001b[0mfind_stack_level\u001b[0m\u001b[0;34m(\u001b[0m\u001b[0;34m)\u001b[0m\u001b[0;34m,\u001b[0m\u001b[0;34m\u001b[0m\u001b[0;34m\u001b[0m\u001b[0m\n\u001b[1;32m    330\u001b[0m                 )\n\u001b[0;32m--> 331\u001b[0;31m             \u001b[0;32mreturn\u001b[0m \u001b[0mfunc\u001b[0m\u001b[0;34m(\u001b[0m\u001b[0;34m*\u001b[0m\u001b[0margs\u001b[0m\u001b[0;34m,\u001b[0m \u001b[0;34m**\u001b[0m\u001b[0mkwargs\u001b[0m\u001b[0;34m)\u001b[0m\u001b[0;34m\u001b[0m\u001b[0;34m\u001b[0m\u001b[0m\n\u001b[0m",
      "\u001b[0;32m~/anaconda3/envs/odc/lib/python3.10/site-packages/pandas/core/frame.py\u001b[0m in \u001b[0;36m?\u001b[0;34m(self, keys, drop, append, inplace, verify_integrity)\u001b[0m\n\u001b[1;32m   6005\u001b[0m                     \u001b[0;32mif\u001b[0m \u001b[0;32mnot\u001b[0m \u001b[0mfound\u001b[0m\u001b[0;34m:\u001b[0m\u001b[0;34m\u001b[0m\u001b[0;34m\u001b[0m\u001b[0m\n\u001b[1;32m   6006\u001b[0m                         \u001b[0mmissing\u001b[0m\u001b[0;34m.\u001b[0m\u001b[0mappend\u001b[0m\u001b[0;34m(\u001b[0m\u001b[0mcol\u001b[0m\u001b[0;34m)\u001b[0m\u001b[0;34m\u001b[0m\u001b[0;34m\u001b[0m\u001b[0m\n\u001b[1;32m   6007\u001b[0m \u001b[0;34m\u001b[0m\u001b[0m\n\u001b[1;32m   6008\u001b[0m         \u001b[0;32mif\u001b[0m \u001b[0mmissing\u001b[0m\u001b[0;34m:\u001b[0m\u001b[0;34m\u001b[0m\u001b[0;34m\u001b[0m\u001b[0m\n\u001b[0;32m-> 6009\u001b[0;31m             \u001b[0;32mraise\u001b[0m \u001b[0mKeyError\u001b[0m\u001b[0;34m(\u001b[0m\u001b[0;34mf\"None of {missing} are in the columns\"\u001b[0m\u001b[0;34m)\u001b[0m\u001b[0;34m\u001b[0m\u001b[0;34m\u001b[0m\u001b[0m\n\u001b[0m\u001b[1;32m   6010\u001b[0m \u001b[0;34m\u001b[0m\u001b[0m\n\u001b[1;32m   6011\u001b[0m         \u001b[0;32mif\u001b[0m \u001b[0minplace\u001b[0m\u001b[0;34m:\u001b[0m\u001b[0;34m\u001b[0m\u001b[0;34m\u001b[0m\u001b[0m\n\u001b[1;32m   6012\u001b[0m             \u001b[0mframe\u001b[0m \u001b[0;34m=\u001b[0m \u001b[0mself\u001b[0m\u001b[0;34m\u001b[0m\u001b[0;34m\u001b[0m\u001b[0m\n",
      "\u001b[0;31mKeyError\u001b[0m: \"None of ['hex_id_7'] are in the columns\""
     ]
    }
   ],
   "source": [
    "m = folium.Map(tiles=\"cartodbpositron\")\n",
    "\n",
    "# folium.GeoJson(, name=\"DENUE Nearshoring\").add_to(m)\n",
    "\n",
    "folium.Choropleth(\n",
    "    geo_data=hex_denue_gdf,\n",
    "    name=\"choropleth\",\n",
    "    data=hex_denue_gdf,\n",
    "    columns=[\"hex_id_7\",\"nearshoring_industry\"],\n",
    "    key_on=\"hex_id_7\",\n",
    "    fill_color=\"YlGn\",\n",
    "    fill_opacity=0.7,\n",
    "    line_opacity=0.2,\n",
    "    legend_name=\"Nearshoring industries\",\n",
    ").add_to(m)\n",
    "\n",
    "folium.LayerControl().add_to(m)\n",
    "\n",
    "display(m)"
   ]
  },
  {
   "cell_type": "markdown",
   "id": "9eef384c-81ff-4667-aeb0-be8ee029eda0",
   "metadata": {},
   "source": [
    "## Save data"
   ]
  },
  {
   "cell_type": "code",
   "execution_count": 51,
   "id": "018521dd-3e15-4ef6-abc6-bb415c6aac79",
   "metadata": {},
   "outputs": [],
   "source": [
    "hex_denue_gdf = hex_denue_gdf.rename(columns={f'hex_id_{res}':'hex_id'})\n",
    "hex_denue_gdf['res'] = res"
   ]
  },
  {
   "cell_type": "code",
   "execution_count": 52,
   "id": "f65918f0-16f0-46b2-9bfc-a3125d0c902e",
   "metadata": {},
   "outputs": [
    {
     "data": {
      "text/html": [
       "<div>\n",
       "<style scoped>\n",
       "    .dataframe tbody tr th:only-of-type {\n",
       "        vertical-align: middle;\n",
       "    }\n",
       "\n",
       "    .dataframe tbody tr th {\n",
       "        vertical-align: top;\n",
       "    }\n",
       "\n",
       "    .dataframe thead th {\n",
       "        text-align: right;\n",
       "    }\n",
       "</style>\n",
       "<table border=\"1\" class=\"dataframe\">\n",
       "  <thead>\n",
       "    <tr style=\"text-align: right;\">\n",
       "      <th></th>\n",
       "      <th>hex_id</th>\n",
       "      <th>geometry</th>\n",
       "      <th>nearshoring_industry</th>\n",
       "      <th>per_ocu_num_near_sum</th>\n",
       "      <th>denue</th>\n",
       "      <th>per_ocu_num_tot_sum</th>\n",
       "      <th>nearshoring_industry_pct</th>\n",
       "      <th>nearshoring_workforce_pct</th>\n",
       "      <th>res</th>\n",
       "    </tr>\n",
       "  </thead>\n",
       "  <tbody>\n",
       "    <tr>\n",
       "      <th>0</th>\n",
       "      <td>88498e361bfffff</td>\n",
       "      <td>POLYGON ((-102.30091 21.89334, -102.29631 21.8...</td>\n",
       "      <td>2</td>\n",
       "      <td>16</td>\n",
       "      <td>73</td>\n",
       "      <td>603</td>\n",
       "      <td>0.027397</td>\n",
       "      <td>0.026534</td>\n",
       "      <td>8</td>\n",
       "    </tr>\n",
       "    <tr>\n",
       "      <th>1</th>\n",
       "      <td>88498e3655fffff</td>\n",
       "      <td>POLYGON ((-102.28412 21.87119, -102.27953 21.8...</td>\n",
       "      <td>1</td>\n",
       "      <td>3</td>\n",
       "      <td>69</td>\n",
       "      <td>463</td>\n",
       "      <td>0.014493</td>\n",
       "      <td>0.006479</td>\n",
       "      <td>8</td>\n",
       "    </tr>\n",
       "  </tbody>\n",
       "</table>\n",
       "</div>"
      ],
      "text/plain": [
       "            hex_id                                           geometry  \\\n",
       "0  88498e361bfffff  POLYGON ((-102.30091 21.89334, -102.29631 21.8...   \n",
       "1  88498e3655fffff  POLYGON ((-102.28412 21.87119, -102.27953 21.8...   \n",
       "\n",
       "   nearshoring_industry  per_ocu_num_near_sum  denue  per_ocu_num_tot_sum  \\\n",
       "0                     2                    16     73                  603   \n",
       "1                     1                     3     69                  463   \n",
       "\n",
       "   nearshoring_industry_pct  nearshoring_workforce_pct  res  \n",
       "0                  0.027397                   0.026534    8  \n",
       "1                  0.014493                   0.006479    8  "
      ]
     },
     "execution_count": 52,
     "metadata": {},
     "output_type": "execute_result"
    }
   ],
   "source": [
    "hex_denue_gdf.head(2)"
   ]
  },
  {
   "cell_type": "code",
   "execution_count": 53,
   "id": "47f1159b-70ca-4e86-ba6d-1042469b092c",
   "metadata": {},
   "outputs": [],
   "source": [
    "aup.gdf_to_db_slow(hex_denue_gdf, f'nearshoring_denue_{year}_hex', 'public_interest', if_exists='append')"
   ]
  },
  {
   "cell_type": "code",
   "execution_count": null,
   "id": "33350a3a-7ed9-41aa-b592-a19e7a5ab19d",
   "metadata": {},
   "outputs": [],
   "source": []
  },
  {
   "cell_type": "code",
   "execution_count": null,
   "id": "586064ff-456f-44be-a41c-779ffddd550b",
   "metadata": {},
   "outputs": [],
   "source": [
    "hex_denue_gdf.to_file(f'../../data/processed/nearshoring_res{res}.geojson')"
   ]
  },
  {
   "cell_type": "code",
   "execution_count": null,
   "id": "6d0879a0-2036-4ae1-960e-bc578f697f20",
   "metadata": {},
   "outputs": [],
   "source": [
    "from IPython.display import display\n",
    "m = folium.Map(location=(45.5236, -122.6750))\n"
   ]
  },
  {
   "cell_type": "code",
   "execution_count": null,
   "id": "b3398712-bd06-4345-aeb6-9097018de538",
   "metadata": {},
   "outputs": [],
   "source": []
  }
 ],
 "metadata": {
  "kernelspec": {
   "display_name": "Python 3 (ipykernel)",
   "language": "python",
   "name": "python3"
  },
  "language_info": {
   "codemirror_mode": {
    "name": "ipython",
    "version": 3
   },
   "file_extension": ".py",
   "mimetype": "text/x-python",
   "name": "python",
   "nbconvert_exporter": "python",
   "pygments_lexer": "ipython3",
   "version": "3.10.4"
  }
 },
 "nbformat": 4,
 "nbformat_minor": 5
}
