{
 "cells": [
  {
   "cell_type": "markdown",
   "id": "9c256394-ad1d-44d7-9ba4-614f8a6a7e85",
   "metadata": {},
   "source": [
    "# Distance to public transport analysis"
   ]
  },
  {
   "cell_type": "code",
   "execution_count": 1,
   "id": "af0c2ad8-41f4-48d4-9263-c36aaf8d8290",
   "metadata": {},
   "outputs": [
    {
     "name": "stderr",
     "output_type": "stream",
     "text": [
      "/home/edgaregurrola/Repos/observatorio-ciudades/accesibilidad-urbana/aup/data.py:24: UserWarning: The `utils.config` function is deprecated and will be removed in a future release. Instead, use the `settings` module directly to configure a global setting's value. For example, `ox.settings.log_console=True`.\n",
      "  ox.config(\n"
     ]
    }
   ],
   "source": [
    "import os\n",
    "import sys\n",
    "\n",
    "import pandas as pd\n",
    "import numpy as np\n",
    "import geopandas as gpd\n",
    "import folium\n",
    "\n",
    "import matplotlib.pyplot as plt\n",
    "import seaborn as sns\n",
    "\n",
    "module_path = os.path.abspath(os.path.join('../../../'))\n",
    "if module_path not in sys.path:\n",
    "    sys.path.append(module_path)\n",
    "    import aup"
   ]
  },
  {
   "cell_type": "markdown",
   "id": "0be13269-ae44-4976-98bf-5c9caf448ac2",
   "metadata": {
    "jp-MarkdownHeadingCollapsed": true
   },
   "source": [
    "## Test split function"
   ]
  },
  {
   "cell_type": "code",
   "execution_count": 2,
   "id": "16d38364-e2a6-43ed-a8fa-a5e921d34337",
   "metadata": {},
   "outputs": [
    {
     "name": "stdout",
     "output_type": "stream",
     "text": [
      "(185, 10)\n"
     ]
    },
    {
     "data": {
      "text/html": [
       "<div>\n",
       "<style scoped>\n",
       "    .dataframe tbody tr th:only-of-type {\n",
       "        vertical-align: middle;\n",
       "    }\n",
       "\n",
       "    .dataframe tbody tr th {\n",
       "        vertical-align: top;\n",
       "    }\n",
       "\n",
       "    .dataframe thead th {\n",
       "        text-align: right;\n",
       "    }\n",
       "</style>\n",
       "<table border=\"1\" class=\"dataframe\">\n",
       "  <thead>\n",
       "    <tr style=\"text-align: right;\">\n",
       "      <th></th>\n",
       "      <th>fid</th>\n",
       "      <th>Name</th>\n",
       "      <th>altitudeMo</th>\n",
       "      <th>tessellate</th>\n",
       "      <th>extrude</th>\n",
       "      <th>visibility</th>\n",
       "      <th>sistema</th>\n",
       "      <th>nombre</th>\n",
       "      <th>layer</th>\n",
       "      <th>geometry</th>\n",
       "    </tr>\n",
       "  </thead>\n",
       "  <tbody>\n",
       "    <tr>\n",
       "      <th>0</th>\n",
       "      <td>1</td>\n",
       "      <td>RUTA 340 PALMIRAS - CLINICA 17</td>\n",
       "      <td>clampToGround</td>\n",
       "      <td>1.0</td>\n",
       "      <td>0.0</td>\n",
       "      <td>-1.0</td>\n",
       "      <td>Ruta</td>\n",
       "      <td>None</td>\n",
       "      <td>zmm_tp_rutaspimus</td>\n",
       "      <td>MULTILINESTRING Z ((-100.42520 25.84269 0.0000...</td>\n",
       "    </tr>\n",
       "    <tr>\n",
       "      <th>1</th>\n",
       "      <td>2</td>\n",
       "      <td>RUTA 070 SECTOR 2 VIVIENDA POPULAR</td>\n",
       "      <td>clampToGround</td>\n",
       "      <td>1.0</td>\n",
       "      <td>0.0</td>\n",
       "      <td>-1.0</td>\n",
       "      <td>Ruta</td>\n",
       "      <td>None</td>\n",
       "      <td>zmm_tp_rutaspimus</td>\n",
       "      <td>MULTILINESTRING Z ((-100.23444 25.66089 0.0000...</td>\n",
       "    </tr>\n",
       "    <tr>\n",
       "      <th>2</th>\n",
       "      <td>3</td>\n",
       "      <td>RUTA 111 SECTOR 2 COLINAS DEL AEROPUERTO - CEN...</td>\n",
       "      <td>clampToGround</td>\n",
       "      <td>1.0</td>\n",
       "      <td>0.0</td>\n",
       "      <td>-1.0</td>\n",
       "      <td>Ruta</td>\n",
       "      <td>None</td>\n",
       "      <td>zmm_tp_rutaspimus</td>\n",
       "      <td>MULTILINESTRING Z ((-100.10483 25.82346 0.0000...</td>\n",
       "    </tr>\n",
       "  </tbody>\n",
       "</table>\n",
       "</div>"
      ],
      "text/plain": [
       "   fid                                               Name     altitudeMo  \\\n",
       "0    1                     RUTA 340 PALMIRAS - CLINICA 17  clampToGround   \n",
       "1    2                 RUTA 070 SECTOR 2 VIVIENDA POPULAR  clampToGround   \n",
       "2    3  RUTA 111 SECTOR 2 COLINAS DEL AEROPUERTO - CEN...  clampToGround   \n",
       "\n",
       "   tessellate  extrude  visibility sistema nombre              layer  \\\n",
       "0         1.0      0.0        -1.0    Ruta   None  zmm_tp_rutaspimus   \n",
       "1         1.0      0.0        -1.0    Ruta   None  zmm_tp_rutaspimus   \n",
       "2         1.0      0.0        -1.0    Ruta   None  zmm_tp_rutaspimus   \n",
       "\n",
       "                                            geometry  \n",
       "0  MULTILINESTRING Z ((-100.42520 25.84269 0.0000...  \n",
       "1  MULTILINESTRING Z ((-100.23444 25.66089 0.0000...  \n",
       "2  MULTILINESTRING Z ((-100.10483 25.82346 0.0000...  "
      ]
     },
     "execution_count": 2,
     "metadata": {},
     "output_type": "execute_result"
    }
   ],
   "source": [
    "gdf_line = gpd.read_file('../../../data/external/transporte/zmm_tp_rutas.gpkg')\n",
    "print(gdf_line.shape)\n",
    "gdf_line.head(3)"
   ]
  },
  {
   "cell_type": "code",
   "execution_count": 3,
   "id": "980d0b27-7b35-4cc5-9a44-61162a2a5dad",
   "metadata": {
    "scrolled": true
   },
   "outputs": [
    {
     "name": "stderr",
     "output_type": "stream",
     "text": [
      "/tmp/ipykernel_58317/2252090428.py:1: FutureWarning: Currently, index_parts defaults to True, but in the future, it will default to False to be consistent with Pandas. Use `index_parts=True` to keep the current behavior and True/False to silence the warning.\n",
      "  gdf_line = gdf_line.explode()\n"
     ]
    },
    {
     "data": {
      "text/html": [
       "<div>\n",
       "<style scoped>\n",
       "    .dataframe tbody tr th:only-of-type {\n",
       "        vertical-align: middle;\n",
       "    }\n",
       "\n",
       "    .dataframe tbody tr th {\n",
       "        vertical-align: top;\n",
       "    }\n",
       "\n",
       "    .dataframe thead th {\n",
       "        text-align: right;\n",
       "    }\n",
       "</style>\n",
       "<table border=\"1\" class=\"dataframe\">\n",
       "  <thead>\n",
       "    <tr style=\"text-align: right;\">\n",
       "      <th></th>\n",
       "      <th></th>\n",
       "      <th>fid</th>\n",
       "      <th>Name</th>\n",
       "      <th>altitudeMo</th>\n",
       "      <th>tessellate</th>\n",
       "      <th>extrude</th>\n",
       "      <th>visibility</th>\n",
       "      <th>sistema</th>\n",
       "      <th>nombre</th>\n",
       "      <th>layer</th>\n",
       "      <th>geometry</th>\n",
       "    </tr>\n",
       "  </thead>\n",
       "  <tbody>\n",
       "    <tr>\n",
       "      <th>0</th>\n",
       "      <th>0</th>\n",
       "      <td>1</td>\n",
       "      <td>RUTA 340 PALMIRAS - CLINICA 17</td>\n",
       "      <td>clampToGround</td>\n",
       "      <td>1.0</td>\n",
       "      <td>0.0</td>\n",
       "      <td>-1.0</td>\n",
       "      <td>Ruta</td>\n",
       "      <td>None</td>\n",
       "      <td>zmm_tp_rutaspimus</td>\n",
       "      <td>LINESTRING Z (-100.42520 25.84269 0.00000, -10...</td>\n",
       "    </tr>\n",
       "    <tr>\n",
       "      <th>1</th>\n",
       "      <th>0</th>\n",
       "      <td>2</td>\n",
       "      <td>RUTA 070 SECTOR 2 VIVIENDA POPULAR</td>\n",
       "      <td>clampToGround</td>\n",
       "      <td>1.0</td>\n",
       "      <td>0.0</td>\n",
       "      <td>-1.0</td>\n",
       "      <td>Ruta</td>\n",
       "      <td>None</td>\n",
       "      <td>zmm_tp_rutaspimus</td>\n",
       "      <td>LINESTRING Z (-100.23444 25.66089 0.00000, -10...</td>\n",
       "    </tr>\n",
       "    <tr>\n",
       "      <th>2</th>\n",
       "      <th>0</th>\n",
       "      <td>3</td>\n",
       "      <td>RUTA 111 SECTOR 2 COLINAS DEL AEROPUERTO - CEN...</td>\n",
       "      <td>clampToGround</td>\n",
       "      <td>1.0</td>\n",
       "      <td>0.0</td>\n",
       "      <td>-1.0</td>\n",
       "      <td>Ruta</td>\n",
       "      <td>None</td>\n",
       "      <td>zmm_tp_rutaspimus</td>\n",
       "      <td>LINESTRING Z (-100.10483 25.82346 0.00000, -10...</td>\n",
       "    </tr>\n",
       "    <tr>\n",
       "      <th>3</th>\n",
       "      <th>0</th>\n",
       "      <td>4</td>\n",
       "      <td>RUTA 318 NEXXUS - PILARES POR CARR. A LAREDO</td>\n",
       "      <td>clampToGround</td>\n",
       "      <td>1.0</td>\n",
       "      <td>0.0</td>\n",
       "      <td>-1.0</td>\n",
       "      <td>Ruta</td>\n",
       "      <td>None</td>\n",
       "      <td>zmm_tp_rutaspimus</td>\n",
       "      <td>LINESTRING Z (-100.24192 25.91912 0.00000, -10...</td>\n",
       "    </tr>\n",
       "    <tr>\n",
       "      <th>4</th>\n",
       "      <th>0</th>\n",
       "      <td>5</td>\n",
       "      <td>RUTA 208 SECTOR 1 ESCOBEDO - SAN RAFAEL</td>\n",
       "      <td>clampToGround</td>\n",
       "      <td>1.0</td>\n",
       "      <td>0.0</td>\n",
       "      <td>-1.0</td>\n",
       "      <td>Ruta</td>\n",
       "      <td>None</td>\n",
       "      <td>zmm_tp_rutaspimus</td>\n",
       "      <td>LINESTRING Z (-100.37225 25.77040 0.00000, -10...</td>\n",
       "    </tr>\n",
       "    <tr>\n",
       "      <th>...</th>\n",
       "      <th>...</th>\n",
       "      <td>...</td>\n",
       "      <td>...</td>\n",
       "      <td>...</td>\n",
       "      <td>...</td>\n",
       "      <td>...</td>\n",
       "      <td>...</td>\n",
       "      <td>...</td>\n",
       "      <td>...</td>\n",
       "      <td>...</td>\n",
       "      <td>...</td>\n",
       "    </tr>\n",
       "    <tr>\n",
       "      <th>180</th>\n",
       "      <th>0</th>\n",
       "      <td>28</td>\n",
       "      <td>None</td>\n",
       "      <td>None</td>\n",
       "      <td>NaN</td>\n",
       "      <td>NaN</td>\n",
       "      <td>NaN</td>\n",
       "      <td>Transmetro</td>\n",
       "      <td>Hospital Metropolitano - Diego Díaz de Berlanga</td>\n",
       "      <td>zmm_tp_transmetro</td>\n",
       "      <td>LINESTRING Z (-100.28091 25.72036 0.00000, -10...</td>\n",
       "    </tr>\n",
       "    <tr>\n",
       "      <th>181</th>\n",
       "      <th>0</th>\n",
       "      <td>29</td>\n",
       "      <td>None</td>\n",
       "      <td>None</td>\n",
       "      <td>NaN</td>\n",
       "      <td>NaN</td>\n",
       "      <td>NaN</td>\n",
       "      <td>Transmetro</td>\n",
       "      <td>Hospital Metropolitano - Los Pinos</td>\n",
       "      <td>zmm_tp_transmetro</td>\n",
       "      <td>LINESTRING Z (-100.27756 25.71104 0.00000, -10...</td>\n",
       "    </tr>\n",
       "    <tr>\n",
       "      <th>182</th>\n",
       "      <th>0</th>\n",
       "      <td>30</td>\n",
       "      <td>None</td>\n",
       "      <td>None</td>\n",
       "      <td>NaN</td>\n",
       "      <td>NaN</td>\n",
       "      <td>NaN</td>\n",
       "      <td>Transmetro</td>\n",
       "      <td>Hospital Metropolitano - Casa Blanca</td>\n",
       "      <td>zmm_tp_transmetro</td>\n",
       "      <td>LINESTRING Z (-100.27755 25.71103 0.00000, -10...</td>\n",
       "    </tr>\n",
       "    <tr>\n",
       "      <th>183</th>\n",
       "      <th>0</th>\n",
       "      <td>31</td>\n",
       "      <td>None</td>\n",
       "      <td>None</td>\n",
       "      <td>NaN</td>\n",
       "      <td>NaN</td>\n",
       "      <td>NaN</td>\n",
       "      <td>Transmetro</td>\n",
       "      <td>Mitras - Villas de San Francisco</td>\n",
       "      <td>zmm_tp_transmetro</td>\n",
       "      <td>LINESTRING Z (-100.34412 25.69184 0.00000, -10...</td>\n",
       "    </tr>\n",
       "    <tr>\n",
       "      <th>184</th>\n",
       "      <th>0</th>\n",
       "      <td>32</td>\n",
       "      <td>None</td>\n",
       "      <td>None</td>\n",
       "      <td>NaN</td>\n",
       "      <td>NaN</td>\n",
       "      <td>NaN</td>\n",
       "      <td>Transmetro</td>\n",
       "      <td>Félix U. Gómez - Monte Cristal</td>\n",
       "      <td>zmm_tp_transmetro</td>\n",
       "      <td>LINESTRING Z (-100.29715 25.68211 0.00000, -10...</td>\n",
       "    </tr>\n",
       "  </tbody>\n",
       "</table>\n",
       "<p>188 rows × 10 columns</p>\n",
       "</div>"
      ],
      "text/plain": [
       "       fid                                               Name     altitudeMo  \\\n",
       "0   0    1                     RUTA 340 PALMIRAS - CLINICA 17  clampToGround   \n",
       "1   0    2                 RUTA 070 SECTOR 2 VIVIENDA POPULAR  clampToGround   \n",
       "2   0    3  RUTA 111 SECTOR 2 COLINAS DEL AEROPUERTO - CEN...  clampToGround   \n",
       "3   0    4       RUTA 318 NEXXUS - PILARES POR CARR. A LAREDO  clampToGround   \n",
       "4   0    5            RUTA 208 SECTOR 1 ESCOBEDO - SAN RAFAEL  clampToGround   \n",
       "...    ...                                                ...            ...   \n",
       "180 0   28                                               None           None   \n",
       "181 0   29                                               None           None   \n",
       "182 0   30                                               None           None   \n",
       "183 0   31                                               None           None   \n",
       "184 0   32                                               None           None   \n",
       "\n",
       "       tessellate  extrude  visibility     sistema  \\\n",
       "0   0         1.0      0.0        -1.0        Ruta   \n",
       "1   0         1.0      0.0        -1.0        Ruta   \n",
       "2   0         1.0      0.0        -1.0        Ruta   \n",
       "3   0         1.0      0.0        -1.0        Ruta   \n",
       "4   0         1.0      0.0        -1.0        Ruta   \n",
       "...           ...      ...         ...         ...   \n",
       "180 0         NaN      NaN         NaN  Transmetro   \n",
       "181 0         NaN      NaN         NaN  Transmetro   \n",
       "182 0         NaN      NaN         NaN  Transmetro   \n",
       "183 0         NaN      NaN         NaN  Transmetro   \n",
       "184 0         NaN      NaN         NaN  Transmetro   \n",
       "\n",
       "                                                nombre              layer  \\\n",
       "0   0                                             None  zmm_tp_rutaspimus   \n",
       "1   0                                             None  zmm_tp_rutaspimus   \n",
       "2   0                                             None  zmm_tp_rutaspimus   \n",
       "3   0                                             None  zmm_tp_rutaspimus   \n",
       "4   0                                             None  zmm_tp_rutaspimus   \n",
       "...                                                ...                ...   \n",
       "180 0  Hospital Metropolitano - Diego Díaz de Berlanga  zmm_tp_transmetro   \n",
       "181 0               Hospital Metropolitano - Los Pinos  zmm_tp_transmetro   \n",
       "182 0             Hospital Metropolitano - Casa Blanca  zmm_tp_transmetro   \n",
       "183 0                 Mitras - Villas de San Francisco  zmm_tp_transmetro   \n",
       "184 0                   Félix U. Gómez - Monte Cristal  zmm_tp_transmetro   \n",
       "\n",
       "                                                geometry  \n",
       "0   0  LINESTRING Z (-100.42520 25.84269 0.00000, -10...  \n",
       "1   0  LINESTRING Z (-100.23444 25.66089 0.00000, -10...  \n",
       "2   0  LINESTRING Z (-100.10483 25.82346 0.00000, -10...  \n",
       "3   0  LINESTRING Z (-100.24192 25.91912 0.00000, -10...  \n",
       "4   0  LINESTRING Z (-100.37225 25.77040 0.00000, -10...  \n",
       "...                                                  ...  \n",
       "180 0  LINESTRING Z (-100.28091 25.72036 0.00000, -10...  \n",
       "181 0  LINESTRING Z (-100.27756 25.71104 0.00000, -10...  \n",
       "182 0  LINESTRING Z (-100.27755 25.71103 0.00000, -10...  \n",
       "183 0  LINESTRING Z (-100.34412 25.69184 0.00000, -10...  \n",
       "184 0  LINESTRING Z (-100.29715 25.68211 0.00000, -10...  \n",
       "\n",
       "[188 rows x 10 columns]"
      ]
     },
     "execution_count": 3,
     "metadata": {},
     "output_type": "execute_result"
    }
   ],
   "source": [
    "gdf_line = gdf_line.explode()\n",
    "gdf_line"
   ]
  },
  {
   "cell_type": "code",
   "execution_count": 4,
   "id": "79ba5b3c-cac8-49f4-a84d-3bdb0b4b2697",
   "metadata": {},
   "outputs": [
    {
     "ename": "NameError",
     "evalue": "name 'shapely' is not defined",
     "output_type": "error",
     "traceback": [
      "\u001b[0;31m---------------------------------------------------------------------------\u001b[0m",
      "\u001b[0;31mNameError\u001b[0m                                 Traceback (most recent call last)",
      "Cell \u001b[0;32mIn[4], line 1\u001b[0m\n\u001b[0;32m----> 1\u001b[0m gdf_line[\u001b[38;5;124m'\u001b[39m\u001b[38;5;124mgeometry\u001b[39m\u001b[38;5;124m'\u001b[39m] \u001b[38;5;241m=\u001b[39m \u001b[43mshapely\u001b[49m\u001b[38;5;241m.\u001b[39mforce_2d(gdf_line[\u001b[38;5;124m'\u001b[39m\u001b[38;5;124mgeometry\u001b[39m\u001b[38;5;124m'\u001b[39m])\n",
      "\u001b[0;31mNameError\u001b[0m: name 'shapely' is not defined"
     ]
    }
   ],
   "source": [
    "gdf_line['geometry'] = shapely.force_2d(gdf_line['geometry'])"
   ]
  },
  {
   "cell_type": "code",
   "execution_count": null,
   "id": "91b5396b-8ffc-429a-b925-49b1e657c62f",
   "metadata": {},
   "outputs": [],
   "source": [
    "gdf_line = gdf_line.to_crs(\"EPSG:6372\")"
   ]
  },
  {
   "cell_type": "code",
   "execution_count": null,
   "id": "5f1df945-557e-4264-847b-0bcd14c1f2f2",
   "metadata": {},
   "outputs": [],
   "source": [
    "gdf_line.head(2)"
   ]
  },
  {
   "cell_type": "code",
   "execution_count": null,
   "id": "32c0fce0-76c3-42de-9f08-5648526fd012",
   "metadata": {},
   "outputs": [],
   "source": [
    "gdf_line = gdf_line.reset_index(drop=True)"
   ]
  },
  {
   "cell_type": "code",
   "execution_count": null,
   "id": "e37ff4b2-9765-42bc-93d8-a5369bdb0883",
   "metadata": {},
   "outputs": [],
   "source": [
    "import shapely"
   ]
  },
  {
   "cell_type": "code",
   "execution_count": null,
   "id": "f3815713-00ae-4871-b02e-ce72091500c1",
   "metadata": {},
   "outputs": [],
   "source": [
    "shapely.segmentize(gdf_line.geometry, max_segment_length=100)"
   ]
  },
  {
   "cell_type": "code",
   "execution_count": null,
   "id": "55ec4269-f913-4421-917d-7df71b65d6bf",
   "metadata": {},
   "outputs": [],
   "source": [
    "distances = np.arange(0, \n",
    "                      gdf_line.iloc[0].geometry.length, 400)"
   ]
  },
  {
   "cell_type": "code",
   "execution_count": null,
   "id": "15806835-934c-4a90-bc4e-4673cab69057",
   "metadata": {},
   "outputs": [],
   "source": [
    "distances"
   ]
  },
  {
   "cell_type": "code",
   "execution_count": null,
   "id": "683df336-8374-489b-ac0e-317c7fa12deb",
   "metadata": {},
   "outputs": [],
   "source": [
    "gdf_line.iloc[0].geometry.coords"
   ]
  },
  {
   "cell_type": "code",
   "execution_count": null,
   "id": "59179c49-8a9e-46fa-b2f5-76eb65d2cd71",
   "metadata": {},
   "outputs": [],
   "source": [
    "from shapely import MultiPoint\n",
    "MultiPoint([gdf_line.iloc[0].geometry.interpolate(distance) for distance in distances] + [gdf_line.iloc[0].geometry.boundary[1]])"
   ]
  },
  {
   "cell_type": "code",
   "execution_count": null,
   "id": "93aee06e-9163-4b87-9335-5f2cb722bea9",
   "metadata": {},
   "outputs": [],
   "source": [
    "gdf_line.iloc[0].geometry.xy[1][1]"
   ]
  },
  {
   "cell_type": "code",
   "execution_count": null,
   "id": "8ded8c4d-6d46-4f82-9007-ae99b9bf01f5",
   "metadata": {},
   "outputs": [],
   "source": [
    "gdf_line.iloc[0].geometry.boundary.explode()"
   ]
  },
  {
   "cell_type": "code",
   "execution_count": null,
   "id": "a98449b3-dc8f-48de-afe9-966cf8166bd0",
   "metadata": {},
   "outputs": [],
   "source": [
    " MultiPoint([line.interpolate(distance) for distance in distances] + [line.boundary[1]])"
   ]
  },
  {
   "cell_type": "markdown",
   "id": "ed2ea903-fa5a-4e05-a17f-dc619c1ec0e6",
   "metadata": {},
   "source": [
    "## Distance to public transport"
   ]
  },
  {
   "cell_type": "markdown",
   "id": "078e9f3c-41ea-41d1-a8e4-7760ed12127d",
   "metadata": {},
   "source": [
    "### Municipality data"
   ]
  },
  {
   "cell_type": "code",
   "execution_count": 4,
   "id": "83769868-6a0b-49c6-82c7-7e2d8ed1aa2c",
   "metadata": {},
   "outputs": [],
   "source": [
    "cities = ['Guadalajara', 'Monterrey', 'CDMX']"
   ]
  },
  {
   "cell_type": "code",
   "execution_count": 9,
   "id": "c9384ff1-90d7-44ed-9a66-454721ca6b69",
   "metadata": {
    "scrolled": true
   },
   "outputs": [],
   "source": [
    "schema = 'hexgrid'\n",
    "table = 'hexgrid_8_city_2020'\n",
    "query = f\"SELECT * FROM {schema}.{table} WHERE \\\"city\\\" = \\'{cities[2]}\\'\"\n",
    "hex_polygon = aup.gdf_from_query(query)"
   ]
  },
  {
   "cell_type": "markdown",
   "id": "ebf3ce5c-d70b-4d90-9429-17f8687ab33f",
   "metadata": {},
   "source": [
    "### Network data"
   ]
  },
  {
   "cell_type": "code",
   "execution_count": 10,
   "id": "4229223a-7791-4d4c-bcf9-51ef744df1d0",
   "metadata": {},
   "outputs": [],
   "source": [
    "G,nodes,edges = aup.graph_from_hippo(hex_polygon, schema='osmnx', edges_folder='edges_speed', nodes_folder='nodes')"
   ]
  },
  {
   "cell_type": "code",
   "execution_count": 11,
   "id": "e02b0053-f257-4e13-ac63-7cf74ce43f9a",
   "metadata": {},
   "outputs": [
    {
     "data": {
      "text/plain": [
       "<AxesSubplot: >"
      ]
     },
     "execution_count": 11,
     "metadata": {},
     "output_type": "execute_result"
    },
    {
     "data": {
      "image/png": "[encoded data removed]",
      "text/plain": [
       "<Figure size 640x480 with 1 Axes>"
      ]
     },
     "metadata": {},
     "output_type": "display_data"
    }
   ],
   "source": [
    "edges.plot()"
   ]
  },
  {
   "cell_type": "markdown",
   "id": "937f09c6-79df-4ed1-a3dd-e6ccd69e7ef4",
   "metadata": {},
   "source": [
    "### Public transport stops"
   ]
  },
  {
   "cell_type": "code",
   "execution_count": 12,
   "id": "da9d23b4-54eb-48fc-bef9-2b5be4df3aa4",
   "metadata": {},
   "outputs": [
    {
     "name": "stdout",
     "output_type": "stream",
     "text": [
      "(8957, 17)\n"
     ]
    },
    {
     "data": {
      "text/html": [
       "<div>\n",
       "<style scoped>\n",
       "    .dataframe tbody tr th:only-of-type {\n",
       "        vertical-align: middle;\n",
       "    }\n",
       "\n",
       "    .dataframe tbody tr th {\n",
       "        vertical-align: top;\n",
       "    }\n",
       "\n",
       "    .dataframe thead th {\n",
       "        text-align: right;\n",
       "    }\n",
       "</style>\n",
       "<table border=\"1\" class=\"dataframe\">\n",
       "  <thead>\n",
       "    <tr style=\"text-align: right;\">\n",
       "      <th></th>\n",
       "      <th>fid</th>\n",
       "      <th>SISTEMA</th>\n",
       "      <th>CORREDOR</th>\n",
       "      <th>NOMEN_CORR</th>\n",
       "      <th>ORIG_DEST</th>\n",
       "      <th>NOMEN_OD</th>\n",
       "      <th>RUTA</th>\n",
       "      <th>UBICACION</th>\n",
       "      <th>NOMENCL</th>\n",
       "      <th>stop_id</th>\n",
       "      <th>stop_name</th>\n",
       "      <th>stop_lat</th>\n",
       "      <th>stop_lon</th>\n",
       "      <th>zone_id</th>\n",
       "      <th>wheelchair_boarding</th>\n",
       "      <th>layer</th>\n",
       "      <th>geometry</th>\n",
       "    </tr>\n",
       "  </thead>\n",
       "  <tbody>\n",
       "    <tr>\n",
       "      <th>0</th>\n",
       "      <td>1</td>\n",
       "      <td>CORREDORES CONCESIONADOS</td>\n",
       "      <td>CONGESA</td>\n",
       "      <td>20.0</td>\n",
       "      <td>Juanacatlan - Metro la Raza linea 3</td>\n",
       "      <td>None</td>\n",
       "      <td>Circuito Interior - Metro Chapultepec</td>\n",
       "      <td>None</td>\n",
       "      <td>None</td>\n",
       "      <td>None</td>\n",
       "      <td>None</td>\n",
       "      <td>NaN</td>\n",
       "      <td>NaN</td>\n",
       "      <td>None</td>\n",
       "      <td>NaN</td>\n",
       "      <td>CConcesionado_Paradas</td>\n",
       "      <td>POINT Z (-99.17733 19.41943 2231.63000)</td>\n",
       "    </tr>\n",
       "    <tr>\n",
       "      <th>1</th>\n",
       "      <td>2</td>\n",
       "      <td>CORREDORES CONCESIONADOS</td>\n",
       "      <td>CONGESA</td>\n",
       "      <td>20.0</td>\n",
       "      <td>Juanacatlan - Metro la Raza linea 3</td>\n",
       "      <td>None</td>\n",
       "      <td>Circuito Interior - Río Duero</td>\n",
       "      <td>None</td>\n",
       "      <td>None</td>\n",
       "      <td>None</td>\n",
       "      <td>None</td>\n",
       "      <td>NaN</td>\n",
       "      <td>NaN</td>\n",
       "      <td>None</td>\n",
       "      <td>NaN</td>\n",
       "      <td>CConcesionado_Paradas</td>\n",
       "      <td>POINT Z (-99.17429 19.42838 2225.55000)</td>\n",
       "    </tr>\n",
       "  </tbody>\n",
       "</table>\n",
       "</div>"
      ],
      "text/plain": [
       "   fid                   SISTEMA CORREDOR  NOMEN_CORR  \\\n",
       "0    1  CORREDORES CONCESIONADOS  CONGESA        20.0   \n",
       "1    2  CORREDORES CONCESIONADOS  CONGESA        20.0   \n",
       "\n",
       "                             ORIG_DEST NOMEN_OD  \\\n",
       "0  Juanacatlan - Metro la Raza linea 3     None   \n",
       "1  Juanacatlan - Metro la Raza linea 3     None   \n",
       "\n",
       "                                    RUTA UBICACION NOMENCL stop_id stop_name  \\\n",
       "0  Circuito Interior - Metro Chapultepec      None    None    None      None   \n",
       "1          Circuito Interior - Río Duero      None    None    None      None   \n",
       "\n",
       "   stop_lat  stop_lon zone_id  wheelchair_boarding                  layer  \\\n",
       "0       NaN       NaN    None                  NaN  CConcesionado_Paradas   \n",
       "1       NaN       NaN    None                  NaN  CConcesionado_Paradas   \n",
       "\n",
       "                                  geometry  \n",
       "0  POINT Z (-99.17733 19.41943 2231.63000)  \n",
       "1  POINT Z (-99.17429 19.42838 2225.55000)  "
      ]
     },
     "execution_count": 12,
     "metadata": {},
     "output_type": "execute_result"
    }
   ],
   "source": [
    "paradas_gdf = gpd.read_file('../../../data/external/transporte/cdmx_tp_paradas.gpkg')\n",
    "print(paradas_gdf.shape)\n",
    "paradas_gdf.head(2)"
   ]
  },
  {
   "cell_type": "markdown",
   "id": "d852055f-3f94-471b-a3f4-54fc930be41d",
   "metadata": {},
   "source": [
    "## Time analysis"
   ]
  },
  {
   "cell_type": "code",
   "execution_count": 13,
   "id": "56540162-6388-458e-9b18-8219eef45d3b",
   "metadata": {
    "scrolled": true
   },
   "outputs": [
    {
     "name": "stdout",
     "output_type": "stream",
     "text": [
      "Found and assigned nearest node osmid to each tp.\n",
      "Starting time analysis for tp.\n",
      "Starting range k = 1 of 45 for tp.\n",
      "Starting range k = 2 of 45 for tp.\n",
      "Starting range k = 3 of 45 for tp.\n",
      "Starting range k = 4 of 45 for tp.\n",
      "Starting range k = 5 of 45 for tp.\n",
      "Starting range k = 6 of 45 for tp.\n",
      "Starting range k = 7 of 45 for tp.\n",
      "Starting range k = 8 of 45 for tp.\n",
      "Starting range k = 9 of 45 for tp.\n",
      "Starting range k = 10 of 45 for tp.\n",
      "Starting range k = 11 of 45 for tp.\n",
      "Starting range k = 12 of 45 for tp.\n",
      "Starting range k = 13 of 45 for tp.\n",
      "Starting range k = 14 of 45 for tp.\n",
      "Starting range k = 15 of 45 for tp.\n",
      "Starting range k = 16 of 45 for tp.\n",
      "Starting range k = 17 of 45 for tp.\n",
      "Starting range k = 18 of 45 for tp.\n",
      "Starting range k = 19 of 45 for tp.\n",
      "Starting range k = 20 of 45 for tp.\n",
      "Starting range k = 21 of 45 for tp.\n",
      "Starting range k = 22 of 45 for tp.\n",
      "Starting range k = 23 of 45 for tp.\n",
      "Starting range k = 24 of 45 for tp.\n",
      "Starting range k = 25 of 45 for tp.\n",
      "Starting range k = 26 of 45 for tp.\n",
      "Starting range k = 27 of 45 for tp.\n",
      "Starting range k = 28 of 45 for tp.\n",
      "Starting range k = 29 of 45 for tp.\n",
      "Starting range k = 30 of 45 for tp.\n",
      "Starting range k = 31 of 45 for tp.\n",
      "Starting range k = 32 of 45 for tp.\n",
      "Starting range k = 33 of 45 for tp.\n",
      "Starting range k = 34 of 45 for tp.\n",
      "Starting range k = 35 of 45 for tp.\n",
      "Starting range k = 36 of 45 for tp.\n",
      "Starting range k = 37 of 45 for tp.\n",
      "Starting range k = 38 of 45 for tp.\n",
      "Starting range k = 39 of 45 for tp.\n",
      "Starting range k = 40 of 45 for tp.\n",
      "Starting range k = 41 of 45 for tp.\n",
      "Starting range k = 42 of 45 for tp.\n",
      "Starting range k = 43 of 45 for tp.\n",
      "Starting range k = 44 of 45 for tp.\n",
      "Starting range k = 45 of 45 for tp.\n",
      "Finished time analysis for tp.\n"
     ]
    }
   ],
   "source": [
    "nodes_tp = aup.pois_time(G, nodes, edges, paradas_gdf, 'tp', 'time_min', count_pois=(True, 15))"
   ]
  },
  {
   "cell_type": "code",
   "execution_count": 14,
   "id": "ab3492a2-2340-4274-a3a0-4252bc390891",
   "metadata": {},
   "outputs": [],
   "source": [
    "nodes_tp.to_file('../../../data/external/transporte/nodes_tp_cdmx.geojson')"
   ]
  },
  {
   "cell_type": "markdown",
   "id": "659672f2-da7a-4b57-8b9f-316c54e08de3",
   "metadata": {},
   "source": [
    "## Proximity to public transport analysis by hexagon"
   ]
  },
  {
   "cell_type": "code",
   "execution_count": 54,
   "id": "04d39461-dbee-4e4b-bc80-ab5f9292fcd1",
   "metadata": {},
   "outputs": [],
   "source": [
    "df_all = pd.DataFrame()"
   ]
  },
  {
   "cell_type": "markdown",
   "id": "af018f67-7590-471a-9c1b-ba89222f0396",
   "metadata": {},
   "source": [
    "### Read and download data"
   ]
  },
  {
   "cell_type": "markdown",
   "id": "b42c387a-6186-45c7-941b-3630ca5835aa",
   "metadata": {},
   "source": [
    "Transport nodes"
   ]
  },
  {
   "cell_type": "code",
   "execution_count": 88,
   "id": "80c97b09-cb14-4fd6-bde4-393d02c931cc",
   "metadata": {},
   "outputs": [
    {
     "data": {
      "text/plain": [
       "'CDMX'"
      ]
     },
     "execution_count": 88,
     "metadata": {},
     "output_type": "execute_result"
    }
   ],
   "source": [
    "city = cities[2]\n",
    "city"
   ]
  },
  {
   "cell_type": "code",
   "execution_count": 89,
   "id": "442a73d4-36e0-41ab-a9ee-9e42003f8999",
   "metadata": {},
   "outputs": [
    {
     "name": "stdout",
     "output_type": "stream",
     "text": [
      "(190824, 6)\n"
     ]
    },
    {
     "data": {
      "text/html": [
       "<div>\n",
       "<style scoped>\n",
       "    .dataframe tbody tr th:only-of-type {\n",
       "        vertical-align: middle;\n",
       "    }\n",
       "\n",
       "    .dataframe tbody tr th {\n",
       "        vertical-align: top;\n",
       "    }\n",
       "\n",
       "    .dataframe thead th {\n",
       "        text-align: right;\n",
       "    }\n",
       "</style>\n",
       "<table border=\"1\" class=\"dataframe\">\n",
       "  <thead>\n",
       "    <tr style=\"text-align: right;\">\n",
       "      <th></th>\n",
       "      <th>osmid</th>\n",
       "      <th>time_tp</th>\n",
       "      <th>tp_15min</th>\n",
       "      <th>x</th>\n",
       "      <th>y</th>\n",
       "      <th>geometry</th>\n",
       "    </tr>\n",
       "  </thead>\n",
       "  <tbody>\n",
       "    <tr>\n",
       "      <th>0</th>\n",
       "      <td>30339493</td>\n",
       "      <td>0.337815</td>\n",
       "      <td>58.0</td>\n",
       "      <td>-99.134103</td>\n",
       "      <td>19.418057</td>\n",
       "      <td>POINT (-99.13410 19.41806)</td>\n",
       "    </tr>\n",
       "    <tr>\n",
       "      <th>1</th>\n",
       "      <td>30339495</td>\n",
       "      <td>2.442885</td>\n",
       "      <td>65.0</td>\n",
       "      <td>-99.135329</td>\n",
       "      <td>19.410274</td>\n",
       "      <td>POINT (-99.13533 19.41027)</td>\n",
       "    </tr>\n",
       "  </tbody>\n",
       "</table>\n",
       "</div>"
      ],
      "text/plain": [
       "      osmid   time_tp  tp_15min          x          y  \\\n",
       "0  30339493  0.337815      58.0 -99.134103  19.418057   \n",
       "1  30339495  2.442885      65.0 -99.135329  19.410274   \n",
       "\n",
       "                     geometry  \n",
       "0  POINT (-99.13410 19.41806)  \n",
       "1  POINT (-99.13533 19.41027)  "
      ]
     },
     "execution_count": 89,
     "metadata": {},
     "output_type": "execute_result"
    }
   ],
   "source": [
    "nodes_tp = gpd.read_file('../../../data/external/transporte/nodes_tp_cdmx.geojson')\n",
    "print(nodes_tp.shape)\n",
    "nodes_tp.head(2)"
   ]
  },
  {
   "cell_type": "markdown",
   "id": "dcfe3421-040e-490d-bce0-082ee35aa66d",
   "metadata": {},
   "source": [
    "Hexagons"
   ]
  },
  {
   "cell_type": "code",
   "execution_count": 90,
   "id": "16f9ffcf-8303-43aa-a196-2efe24422419",
   "metadata": {},
   "outputs": [
    {
     "name": "stdout",
     "output_type": "stream",
     "text": [
      "(1767, 6)\n"
     ]
    },
    {
     "data": {
      "text/html": [
       "<div>\n",
       "<style scoped>\n",
       "    .dataframe tbody tr th:only-of-type {\n",
       "        vertical-align: middle;\n",
       "    }\n",
       "\n",
       "    .dataframe tbody tr th {\n",
       "        vertical-align: top;\n",
       "    }\n",
       "\n",
       "    .dataframe thead th {\n",
       "        text-align: right;\n",
       "    }\n",
       "</style>\n",
       "<table border=\"1\" class=\"dataframe\">\n",
       "  <thead>\n",
       "    <tr style=\"text-align: right;\">\n",
       "      <th></th>\n",
       "      <th>hex_id_8</th>\n",
       "      <th>geometry</th>\n",
       "      <th>CVEGEO</th>\n",
       "      <th>NOMGEO</th>\n",
       "      <th>city</th>\n",
       "      <th>type</th>\n",
       "    </tr>\n",
       "  </thead>\n",
       "  <tbody>\n",
       "    <tr>\n",
       "      <th>0</th>\n",
       "      <td>884995b889fffff</td>\n",
       "      <td>POLYGON ((-99.18300 19.49493, -99.17848 19.497...</td>\n",
       "      <td>09002</td>\n",
       "      <td>Azcapotzalco</td>\n",
       "      <td>CDMX</td>\n",
       "      <td>urban</td>\n",
       "    </tr>\n",
       "    <tr>\n",
       "      <th>1</th>\n",
       "      <td>884995b8d1fffff</td>\n",
       "      <td>POLYGON ((-99.20183 19.49350, -99.19730 19.496...</td>\n",
       "      <td>09002</td>\n",
       "      <td>Azcapotzalco</td>\n",
       "      <td>CDMX</td>\n",
       "      <td>urban</td>\n",
       "    </tr>\n",
       "  </tbody>\n",
       "</table>\n",
       "</div>"
      ],
      "text/plain": [
       "          hex_id_8                                           geometry CVEGEO  \\\n",
       "0  884995b889fffff  POLYGON ((-99.18300 19.49493, -99.17848 19.497...  09002   \n",
       "1  884995b8d1fffff  POLYGON ((-99.20183 19.49350, -99.19730 19.496...  09002   \n",
       "\n",
       "         NOMGEO  city   type  \n",
       "0  Azcapotzalco  CDMX  urban  \n",
       "1  Azcapotzalco  CDMX  urban  "
      ]
     },
     "execution_count": 90,
     "metadata": {},
     "output_type": "execute_result"
    }
   ],
   "source": [
    "schema = 'hexgrid'\n",
    "table = 'hexgrid_8_city_2020'\n",
    "query = f\"SELECT * FROM {schema}.{table} WHERE \\\"city\\\" = \\'{city}\\'\"\n",
    "hex_mun = aup.gdf_from_query(query)\n",
    "print(hex_mun.shape)\n",
    "hex_mun.head(2)"
   ]
  },
  {
   "cell_type": "markdown",
   "id": "f6c5c7e1-c061-4689-9064-df70aef8ddd3",
   "metadata": {},
   "source": [
    "Censo"
   ]
  },
  {
   "cell_type": "code",
   "execution_count": 91,
   "id": "65021f28-1532-4adf-8417-a7a7f15be5b2",
   "metadata": {},
   "outputs": [],
   "source": [
    "gdf = hex_mun.to_crs(\"EPSG:6372\")\n",
    "gdf = gdf.buffer(1).reset_index().rename(columns={0: \"geometry\"})\n",
    "gdf = gdf.set_geometry(\"geometry\")\n",
    "gdf = gdf.to_crs(\"EPSG:4326\")\n",
    "poly_wkt = gdf.dissolve().geometry.to_wkt()[0]"
   ]
  },
  {
   "cell_type": "code",
   "execution_count": 92,
   "id": "07ba24f6-0032-4586-9a08-c3ff1f8c0ed1",
   "metadata": {},
   "outputs": [
    {
     "name": "stdout",
     "output_type": "stream",
     "text": [
      "(66559, 225)\n"
     ]
    },
    {
     "data": {
      "text/html": [
       "<div>\n",
       "<style scoped>\n",
       "    .dataframe tbody tr th:only-of-type {\n",
       "        vertical-align: middle;\n",
       "    }\n",
       "\n",
       "    .dataframe tbody tr th {\n",
       "        vertical-align: top;\n",
       "    }\n",
       "\n",
       "    .dataframe thead th {\n",
       "        text-align: right;\n",
       "    }\n",
       "</style>\n",
       "<table border=\"1\" class=\"dataframe\">\n",
       "  <thead>\n",
       "    <tr style=\"text-align: right;\">\n",
       "      <th></th>\n",
       "      <th>cvegeo</th>\n",
       "      <th>geometry</th>\n",
       "      <th>pobtot</th>\n",
       "      <th>pobfem</th>\n",
       "      <th>pobmas</th>\n",
       "      <th>p_0a2</th>\n",
       "      <th>p_0a2_f</th>\n",
       "      <th>p_0a2_m</th>\n",
       "      <th>p_3ymas</th>\n",
       "      <th>p_3ymas_f</th>\n",
       "      <th>...</th>\n",
       "      <th>vph_cel</th>\n",
       "      <th>vph_inter</th>\n",
       "      <th>vph_stvp</th>\n",
       "      <th>vph_spmvpi</th>\n",
       "      <th>vph_cvj</th>\n",
       "      <th>vph_sinrtv</th>\n",
       "      <th>vph_sinltc</th>\n",
       "      <th>vph_sincint</th>\n",
       "      <th>vph_sintic</th>\n",
       "      <th>metropolis</th>\n",
       "    </tr>\n",
       "  </thead>\n",
       "  <tbody>\n",
       "    <tr>\n",
       "      <th>0</th>\n",
       "      <td>0900500010309001</td>\n",
       "      <td>POINT (-99.14573 19.52433)</td>\n",
       "      <td>3</td>\n",
       "      <td>None</td>\n",
       "      <td>None</td>\n",
       "      <td>None</td>\n",
       "      <td>None</td>\n",
       "      <td>None</td>\n",
       "      <td>None</td>\n",
       "      <td>None</td>\n",
       "      <td>...</td>\n",
       "      <td>None</td>\n",
       "      <td>None</td>\n",
       "      <td>None</td>\n",
       "      <td>None</td>\n",
       "      <td>None</td>\n",
       "      <td>None</td>\n",
       "      <td>None</td>\n",
       "      <td>None</td>\n",
       "      <td>None</td>\n",
       "      <td>ZMVM</td>\n",
       "    </tr>\n",
       "    <tr>\n",
       "      <th>1</th>\n",
       "      <td>0900200011042049</td>\n",
       "      <td>POINT (-99.20754 19.47537)</td>\n",
       "      <td>9</td>\n",
       "      <td>5</td>\n",
       "      <td>4</td>\n",
       "      <td>None</td>\n",
       "      <td>None</td>\n",
       "      <td>None</td>\n",
       "      <td>7</td>\n",
       "      <td>4</td>\n",
       "      <td>...</td>\n",
       "      <td>None</td>\n",
       "      <td>None</td>\n",
       "      <td>None</td>\n",
       "      <td>0</td>\n",
       "      <td>0</td>\n",
       "      <td>0</td>\n",
       "      <td>None</td>\n",
       "      <td>None</td>\n",
       "      <td>0</td>\n",
       "      <td>ZMVM</td>\n",
       "    </tr>\n",
       "    <tr>\n",
       "      <th>2</th>\n",
       "      <td>0900500010826005</td>\n",
       "      <td>POINT (-99.09148 19.50420)</td>\n",
       "      <td>17</td>\n",
       "      <td>10</td>\n",
       "      <td>7</td>\n",
       "      <td>None</td>\n",
       "      <td>None</td>\n",
       "      <td>0</td>\n",
       "      <td>16</td>\n",
       "      <td>9</td>\n",
       "      <td>...</td>\n",
       "      <td>6</td>\n",
       "      <td>3</td>\n",
       "      <td>3</td>\n",
       "      <td>3</td>\n",
       "      <td>0</td>\n",
       "      <td>0</td>\n",
       "      <td>None</td>\n",
       "      <td>None</td>\n",
       "      <td>0</td>\n",
       "      <td>ZMVM</td>\n",
       "    </tr>\n",
       "    <tr>\n",
       "      <th>3</th>\n",
       "      <td>0900200011042048</td>\n",
       "      <td>POINT (-99.20757 19.47528)</td>\n",
       "      <td>11</td>\n",
       "      <td>6</td>\n",
       "      <td>5</td>\n",
       "      <td>None</td>\n",
       "      <td>0</td>\n",
       "      <td>None</td>\n",
       "      <td>10</td>\n",
       "      <td>6</td>\n",
       "      <td>...</td>\n",
       "      <td>3</td>\n",
       "      <td>None</td>\n",
       "      <td>0</td>\n",
       "      <td>0</td>\n",
       "      <td>None</td>\n",
       "      <td>0</td>\n",
       "      <td>0</td>\n",
       "      <td>None</td>\n",
       "      <td>0</td>\n",
       "      <td>ZMVM</td>\n",
       "    </tr>\n",
       "  </tbody>\n",
       "</table>\n",
       "<p>4 rows × 225 columns</p>\n",
       "</div>"
      ],
      "text/plain": [
       "             cvegeo                    geometry  pobtot pobfem pobmas p_0a2  \\\n",
       "0  0900500010309001  POINT (-99.14573 19.52433)       3   None   None  None   \n",
       "1  0900200011042049  POINT (-99.20754 19.47537)       9      5      4  None   \n",
       "2  0900500010826005  POINT (-99.09148 19.50420)      17     10      7  None   \n",
       "3  0900200011042048  POINT (-99.20757 19.47528)      11      6      5  None   \n",
       "\n",
       "  p_0a2_f p_0a2_m p_3ymas p_3ymas_f  ... vph_cel vph_inter vph_stvp  \\\n",
       "0    None    None    None      None  ...    None      None     None   \n",
       "1    None    None       7         4  ...    None      None     None   \n",
       "2    None       0      16         9  ...       6         3        3   \n",
       "3       0    None      10         6  ...       3      None        0   \n",
       "\n",
       "  vph_spmvpi vph_cvj vph_sinrtv vph_sinltc vph_sincint vph_sintic metropolis  \n",
       "0       None    None       None       None        None       None       ZMVM  \n",
       "1          0       0          0       None        None          0       ZMVM  \n",
       "2          3       0          0       None        None          0       ZMVM  \n",
       "3          0    None          0          0        None          0       ZMVM  \n",
       "\n",
       "[4 rows x 225 columns]"
      ]
     },
     "execution_count": 92,
     "metadata": {},
     "output_type": "execute_result"
    }
   ],
   "source": [
    "schema = 'censo'\n",
    "table = 'censo_mza_centroid_2020'\n",
    "query = f\"SELECT * FROM {schema}.{table} WHERE ST_Intersects(geometry, 'SRID=4326;{poly_wkt}')\"\n",
    "censo_cnt = aup.gdf_from_query(query, geometry_col=\"geometry\")\n",
    "print(censo_cnt.shape)\n",
    "censo_cnt.head(4)"
   ]
  },
  {
   "cell_type": "code",
   "execution_count": 93,
   "id": "7cb98fd2-bcd7-4975-9f5d-49ef7b242a77",
   "metadata": {},
   "outputs": [],
   "source": [
    "censo_cnt = censo_cnt[['pobtot','vivtot','geometry']]\n",
    "censo_hex = censo_cnt.overlay(hex_mun, how='intersection')\n",
    "censo_hex = censo_hex.groupby('hex_id_8').sum(numeric_only=True)\n",
    "censo_hex = censo_hex.reset_index()\n",
    "hex_pob = hex_mun.merge(censo_hex, on='hex_id_8', how='left')"
   ]
  },
  {
   "cell_type": "code",
   "execution_count": 94,
   "id": "5b03f430-1329-459f-adc1-dc7cb46704bb",
   "metadata": {},
   "outputs": [
    {
     "data": {
      "text/html": [
       "<div>\n",
       "<style scoped>\n",
       "    .dataframe tbody tr th:only-of-type {\n",
       "        vertical-align: middle;\n",
       "    }\n",
       "\n",
       "    .dataframe tbody tr th {\n",
       "        vertical-align: top;\n",
       "    }\n",
       "\n",
       "    .dataframe thead th {\n",
       "        text-align: right;\n",
       "    }\n",
       "</style>\n",
       "<table border=\"1\" class=\"dataframe\">\n",
       "  <thead>\n",
       "    <tr style=\"text-align: right;\">\n",
       "      <th></th>\n",
       "      <th>hex_id_8</th>\n",
       "      <th>geometry</th>\n",
       "      <th>CVEGEO</th>\n",
       "      <th>NOMGEO</th>\n",
       "      <th>city</th>\n",
       "      <th>type</th>\n",
       "      <th>pobtot</th>\n",
       "      <th>vivtot</th>\n",
       "    </tr>\n",
       "  </thead>\n",
       "  <tbody>\n",
       "    <tr>\n",
       "      <th>0</th>\n",
       "      <td>884995b889fffff</td>\n",
       "      <td>POLYGON ((-99.18300 19.49493, -99.17848 19.497...</td>\n",
       "      <td>09002</td>\n",
       "      <td>Azcapotzalco</td>\n",
       "      <td>CDMX</td>\n",
       "      <td>urban</td>\n",
       "      <td>9150.0</td>\n",
       "      <td>3004.0</td>\n",
       "    </tr>\n",
       "    <tr>\n",
       "      <th>1</th>\n",
       "      <td>884995b8d1fffff</td>\n",
       "      <td>POLYGON ((-99.20183 19.49350, -99.19730 19.496...</td>\n",
       "      <td>09002</td>\n",
       "      <td>Azcapotzalco</td>\n",
       "      <td>CDMX</td>\n",
       "      <td>urban</td>\n",
       "      <td>12761.0</td>\n",
       "      <td>4018.0</td>\n",
       "    </tr>\n",
       "  </tbody>\n",
       "</table>\n",
       "</div>"
      ],
      "text/plain": [
       "          hex_id_8                                           geometry CVEGEO  \\\n",
       "0  884995b889fffff  POLYGON ((-99.18300 19.49493, -99.17848 19.497...  09002   \n",
       "1  884995b8d1fffff  POLYGON ((-99.20183 19.49350, -99.19730 19.496...  09002   \n",
       "\n",
       "         NOMGEO  city   type   pobtot  vivtot  \n",
       "0  Azcapotzalco  CDMX  urban   9150.0  3004.0  \n",
       "1  Azcapotzalco  CDMX  urban  12761.0  4018.0  "
      ]
     },
     "execution_count": 94,
     "metadata": {},
     "output_type": "execute_result"
    }
   ],
   "source": [
    "hex_pob.head(2)"
   ]
  },
  {
   "cell_type": "markdown",
   "id": "596c64be-55bc-45da-9021-0ad5fa5c570a",
   "metadata": {},
   "source": [
    "Nearshoring"
   ]
  },
  {
   "cell_type": "code",
   "execution_count": 95,
   "id": "279e960e-5cfd-443d-87c1-59f9dce57e88",
   "metadata": {},
   "outputs": [
    {
     "name": "stdout",
     "output_type": "stream",
     "text": [
      "(395, 9)\n"
     ]
    },
    {
     "data": {
      "text/html": [
       "<div>\n",
       "<style scoped>\n",
       "    .dataframe tbody tr th:only-of-type {\n",
       "        vertical-align: middle;\n",
       "    }\n",
       "\n",
       "    .dataframe tbody tr th {\n",
       "        vertical-align: top;\n",
       "    }\n",
       "\n",
       "    .dataframe thead th {\n",
       "        text-align: right;\n",
       "    }\n",
       "</style>\n",
       "<table border=\"1\" class=\"dataframe\">\n",
       "  <thead>\n",
       "    <tr style=\"text-align: right;\">\n",
       "      <th></th>\n",
       "      <th>hex_id</th>\n",
       "      <th>geometry</th>\n",
       "      <th>nearshoring_industry</th>\n",
       "      <th>per_ocu_num_near_sum</th>\n",
       "      <th>denue</th>\n",
       "      <th>per_ocu_num_tot_sum</th>\n",
       "      <th>nearshoring_industry_pct</th>\n",
       "      <th>nearshoring_workforce_pct</th>\n",
       "      <th>res</th>\n",
       "    </tr>\n",
       "  </thead>\n",
       "  <tbody>\n",
       "    <tr>\n",
       "      <th>0</th>\n",
       "      <td>884995b8c1fffff</td>\n",
       "      <td>POLYGON ((-99.18192 19.47948, -99.17740 19.482...</td>\n",
       "      <td>5</td>\n",
       "      <td>161</td>\n",
       "      <td>55</td>\n",
       "      <td>879</td>\n",
       "      <td>0.090909</td>\n",
       "      <td>0.183163</td>\n",
       "      <td>8</td>\n",
       "    </tr>\n",
       "    <tr>\n",
       "      <th>1</th>\n",
       "      <td>884995baa1fffff</td>\n",
       "      <td>POLYGON ((-99.18500 19.45596, -99.18047 19.458...</td>\n",
       "      <td>4</td>\n",
       "      <td>34</td>\n",
       "      <td>77</td>\n",
       "      <td>529</td>\n",
       "      <td>0.051948</td>\n",
       "      <td>0.064272</td>\n",
       "      <td>8</td>\n",
       "    </tr>\n",
       "  </tbody>\n",
       "</table>\n",
       "</div>"
      ],
      "text/plain": [
       "            hex_id                                           geometry  \\\n",
       "0  884995b8c1fffff  POLYGON ((-99.18192 19.47948, -99.17740 19.482...   \n",
       "1  884995baa1fffff  POLYGON ((-99.18500 19.45596, -99.18047 19.458...   \n",
       "\n",
       "   nearshoring_industry  per_ocu_num_near_sum  denue  per_ocu_num_tot_sum  \\\n",
       "0                     5                   161     55                  879   \n",
       "1                     4                    34     77                  529   \n",
       "\n",
       "   nearshoring_industry_pct  nearshoring_workforce_pct  res  \n",
       "0                  0.090909                   0.183163    8  \n",
       "1                  0.051948                   0.064272    8  "
      ]
     },
     "execution_count": 95,
     "metadata": {},
     "output_type": "execute_result"
    }
   ],
   "source": [
    "schema = 'public_interest'\n",
    "table = 'nearshoring_denue_23_hex'\n",
    "hex_idx = list(hex_mun.hex_id_8.unique())\n",
    "query = f\"SELECT * FROM {schema}.{table} WHERE \\\"hex_id\\\" IN {str(tuple(hex_idx))}\"\n",
    "hex_near = aup.gdf_from_query(query)\n",
    "print(hex_near.shape)\n",
    "hex_near.head(2)"
   ]
  },
  {
   "cell_type": "markdown",
   "id": "34ff0a40-8c74-47bc-95e7-4b42f8fea822",
   "metadata": {},
   "source": [
    "## Time to hexagons"
   ]
  },
  {
   "cell_type": "code",
   "execution_count": 96,
   "id": "7310f3e5-95d3-446f-a12d-ec0682efbb8c",
   "metadata": {},
   "outputs": [
    {
     "name": "stdout",
     "output_type": "stream",
     "text": [
      "(1767, 10)\n"
     ]
    },
    {
     "name": "stderr",
     "output_type": "stream",
     "text": [
      "/home/edgaregurrola/Repos/observatorio-ciudades/accesibilidad-urbana/aup/analysis.py:148: FutureWarning: The default value of numeric_only in DataFrameGroupBy.mean is deprecated. In a future version, numeric_only will default to False. Either specify numeric_only or select only columns which should be valid for the function.\n",
      "  nodes_hex = nodes_in_hex.groupby([f'hex_id_{resolution}']).mean()\n"
     ]
    },
    {
     "data": {
      "text/html": [
       "<div>\n",
       "<style scoped>\n",
       "    .dataframe tbody tr th:only-of-type {\n",
       "        vertical-align: middle;\n",
       "    }\n",
       "\n",
       "    .dataframe tbody tr th {\n",
       "        vertical-align: top;\n",
       "    }\n",
       "\n",
       "    .dataframe thead th {\n",
       "        text-align: right;\n",
       "    }\n",
       "</style>\n",
       "<table border=\"1\" class=\"dataframe\">\n",
       "  <thead>\n",
       "    <tr style=\"text-align: right;\">\n",
       "      <th></th>\n",
       "      <th>hex_id_8</th>\n",
       "      <th>geometry</th>\n",
       "      <th>CVEGEO</th>\n",
       "      <th>NOMGEO</th>\n",
       "      <th>city</th>\n",
       "      <th>type</th>\n",
       "      <th>time_tp</th>\n",
       "      <th>tp_15min</th>\n",
       "      <th>x</th>\n",
       "      <th>y</th>\n",
       "    </tr>\n",
       "  </thead>\n",
       "  <tbody>\n",
       "    <tr>\n",
       "      <th>0</th>\n",
       "      <td>884995b889fffff</td>\n",
       "      <td>POLYGON ((-99.18300 19.49493, -99.17848 19.497...</td>\n",
       "      <td>09002</td>\n",
       "      <td>Azcapotzalco</td>\n",
       "      <td>CDMX</td>\n",
       "      <td>urban</td>\n",
       "      <td>3.023295</td>\n",
       "      <td>12.942308</td>\n",
       "      <td>-99.183890</td>\n",
       "      <td>19.501312</td>\n",
       "    </tr>\n",
       "    <tr>\n",
       "      <th>1</th>\n",
       "      <td>884995b8d1fffff</td>\n",
       "      <td>POLYGON ((-99.20183 19.49350, -99.19730 19.496...</td>\n",
       "      <td>09002</td>\n",
       "      <td>Azcapotzalco</td>\n",
       "      <td>CDMX</td>\n",
       "      <td>urban</td>\n",
       "      <td>4.288229</td>\n",
       "      <td>10.733813</td>\n",
       "      <td>-99.202498</td>\n",
       "      <td>19.498341</td>\n",
       "    </tr>\n",
       "  </tbody>\n",
       "</table>\n",
       "</div>"
      ],
      "text/plain": [
       "          hex_id_8                                           geometry CVEGEO  \\\n",
       "0  884995b889fffff  POLYGON ((-99.18300 19.49493, -99.17848 19.497...  09002   \n",
       "1  884995b8d1fffff  POLYGON ((-99.20183 19.49350, -99.19730 19.496...  09002   \n",
       "\n",
       "         NOMGEO  city   type   time_tp   tp_15min          x          y  \n",
       "0  Azcapotzalco  CDMX  urban  3.023295  12.942308 -99.183890  19.501312  \n",
       "1  Azcapotzalco  CDMX  urban  4.288229  10.733813 -99.202498  19.498341  "
      ]
     },
     "execution_count": 96,
     "metadata": {},
     "output_type": "execute_result"
    }
   ],
   "source": [
    "hex_time = aup.group_by_hex_mean(nodes_tp, hex_mun, 8, 'time_tp')\n",
    "print(hex_time.shape)\n",
    "hex_time.head(2)"
   ]
  },
  {
   "cell_type": "code",
   "execution_count": 97,
   "id": "bf6d32ba-2d9a-4921-bfb0-748937c2aabd",
   "metadata": {},
   "outputs": [
    {
     "data": {
      "text/plain": [
       "<AxesSubplot: >"
      ]
     },
     "execution_count": 97,
     "metadata": {},
     "output_type": "execute_result"
    },
    {
     "data": {
      "image/png": "[encoded data removed]",
      "text/plain": [
       "<Figure size 640x480 with 1 Axes>"
      ]
     },
     "metadata": {},
     "output_type": "display_data"
    }
   ],
   "source": [
    "hex_time.plot('time_tp')"
   ]
  },
  {
   "cell_type": "code",
   "execution_count": 98,
   "id": "a53a946a-d583-43f0-b7c0-72c296339461",
   "metadata": {},
   "outputs": [
    {
     "data": {
      "text/plain": [
       "<AxesSubplot: >"
      ]
     },
     "execution_count": 98,
     "metadata": {},
     "output_type": "execute_result"
    },
    {
     "data": {
      "image/png": "[encoded data removed]",
      "text/plain": [
       "<Figure size 640x480 with 1 Axes>"
      ]
     },
     "metadata": {},
     "output_type": "display_data"
    }
   ],
   "source": [
    "hex_time.plot('tp_15min')"
   ]
  },
  {
   "cell_type": "code",
   "execution_count": 99,
   "id": "58e74c8c-43a5-4ac7-aa76-f0403a26f8d2",
   "metadata": {},
   "outputs": [],
   "source": [
    "hex_time.rename(columns={'hex_id_8':'hex_id'}, inplace=True)"
   ]
  },
  {
   "cell_type": "markdown",
   "id": "3e1cfa90-811d-47ce-b197-f71d0cf7184f",
   "metadata": {},
   "source": [
    "## Merge data"
   ]
  },
  {
   "cell_type": "code",
   "execution_count": 100,
   "id": "5fbc1c63-9270-4dfe-9eec-a320c8ed5a64",
   "metadata": {},
   "outputs": [
    {
     "name": "stdout",
     "output_type": "stream",
     "text": [
      "(1767, 17)\n"
     ]
    },
    {
     "data": {
      "text/html": [
       "<div>\n",
       "<style scoped>\n",
       "    .dataframe tbody tr th:only-of-type {\n",
       "        vertical-align: middle;\n",
       "    }\n",
       "\n",
       "    .dataframe tbody tr th {\n",
       "        vertical-align: top;\n",
       "    }\n",
       "\n",
       "    .dataframe thead th {\n",
       "        text-align: right;\n",
       "    }\n",
       "</style>\n",
       "<table border=\"1\" class=\"dataframe\">\n",
       "  <thead>\n",
       "    <tr style=\"text-align: right;\">\n",
       "      <th></th>\n",
       "      <th>hex_id</th>\n",
       "      <th>geometry_x</th>\n",
       "      <th>CVEGEO</th>\n",
       "      <th>NOMGEO</th>\n",
       "      <th>city</th>\n",
       "      <th>type</th>\n",
       "      <th>time_tp</th>\n",
       "      <th>tp_15min</th>\n",
       "      <th>x</th>\n",
       "      <th>y</th>\n",
       "      <th>geometry_y</th>\n",
       "      <th>nearshoring_industry</th>\n",
       "      <th>per_ocu_num_near_sum</th>\n",
       "      <th>denue</th>\n",
       "      <th>per_ocu_num_tot_sum</th>\n",
       "      <th>nearshoring_industry_pct</th>\n",
       "      <th>nearshoring_workforce_pct</th>\n",
       "    </tr>\n",
       "  </thead>\n",
       "  <tbody>\n",
       "    <tr>\n",
       "      <th>0</th>\n",
       "      <td>884995b889fffff</td>\n",
       "      <td>POLYGON ((-99.18300 19.49493, -99.17848 19.497...</td>\n",
       "      <td>09002</td>\n",
       "      <td>Azcapotzalco</td>\n",
       "      <td>CDMX</td>\n",
       "      <td>urban</td>\n",
       "      <td>3.023295</td>\n",
       "      <td>12.942308</td>\n",
       "      <td>-99.183890</td>\n",
       "      <td>19.501312</td>\n",
       "      <td>POLYGON ((-99.18300 19.49493, -99.17848 19.497...</td>\n",
       "      <td>1.0</td>\n",
       "      <td>20.0</td>\n",
       "      <td>27.0</td>\n",
       "      <td>120.0</td>\n",
       "      <td>0.037037</td>\n",
       "      <td>0.166667</td>\n",
       "    </tr>\n",
       "    <tr>\n",
       "      <th>1</th>\n",
       "      <td>884995b8d1fffff</td>\n",
       "      <td>POLYGON ((-99.20183 19.49350, -99.19730 19.496...</td>\n",
       "      <td>09002</td>\n",
       "      <td>Azcapotzalco</td>\n",
       "      <td>CDMX</td>\n",
       "      <td>urban</td>\n",
       "      <td>4.288229</td>\n",
       "      <td>10.733813</td>\n",
       "      <td>-99.202498</td>\n",
       "      <td>19.498341</td>\n",
       "      <td>POLYGON ((-99.20183 19.49350, -99.19730 19.496...</td>\n",
       "      <td>1.0</td>\n",
       "      <td>3.0</td>\n",
       "      <td>40.0</td>\n",
       "      <td>230.0</td>\n",
       "      <td>0.025000</td>\n",
       "      <td>0.013043</td>\n",
       "    </tr>\n",
       "  </tbody>\n",
       "</table>\n",
       "</div>"
      ],
      "text/plain": [
       "            hex_id                                         geometry_x CVEGEO  \\\n",
       "0  884995b889fffff  POLYGON ((-99.18300 19.49493, -99.17848 19.497...  09002   \n",
       "1  884995b8d1fffff  POLYGON ((-99.20183 19.49350, -99.19730 19.496...  09002   \n",
       "\n",
       "         NOMGEO  city   type   time_tp   tp_15min          x          y  \\\n",
       "0  Azcapotzalco  CDMX  urban  3.023295  12.942308 -99.183890  19.501312   \n",
       "1  Azcapotzalco  CDMX  urban  4.288229  10.733813 -99.202498  19.498341   \n",
       "\n",
       "                                          geometry_y  nearshoring_industry  \\\n",
       "0  POLYGON ((-99.18300 19.49493, -99.17848 19.497...                   1.0   \n",
       "1  POLYGON ((-99.20183 19.49350, -99.19730 19.496...                   1.0   \n",
       "\n",
       "   per_ocu_num_near_sum  denue  per_ocu_num_tot_sum  nearshoring_industry_pct  \\\n",
       "0                  20.0   27.0                120.0                  0.037037   \n",
       "1                   3.0   40.0                230.0                  0.025000   \n",
       "\n",
       "   nearshoring_workforce_pct  \n",
       "0                   0.166667  \n",
       "1                   0.013043  "
      ]
     },
     "execution_count": 100,
     "metadata": {},
     "output_type": "execute_result"
    }
   ],
   "source": [
    "hex_near_prox = hex_time.merge(hex_near.drop(columns=['res']), on='hex_id', how='outer')\n",
    "print(hex_near_prox.shape)\n",
    "hex_near_prox.head(2)"
   ]
  },
  {
   "cell_type": "code",
   "execution_count": 101,
   "id": "544fdc83-c2e9-4297-9d20-1eb7423312c6",
   "metadata": {},
   "outputs": [
    {
     "data": {
      "text/html": [
       "<div>\n",
       "<style scoped>\n",
       "    .dataframe tbody tr th:only-of-type {\n",
       "        vertical-align: middle;\n",
       "    }\n",
       "\n",
       "    .dataframe tbody tr th {\n",
       "        vertical-align: top;\n",
       "    }\n",
       "\n",
       "    .dataframe thead th {\n",
       "        text-align: right;\n",
       "    }\n",
       "</style>\n",
       "<table border=\"1\" class=\"dataframe\">\n",
       "  <thead>\n",
       "    <tr style=\"text-align: right;\">\n",
       "      <th></th>\n",
       "      <th>hex_id</th>\n",
       "      <th>geometry</th>\n",
       "      <th>CVEGEO</th>\n",
       "      <th>NOMGEO</th>\n",
       "      <th>city</th>\n",
       "      <th>type</th>\n",
       "      <th>time_tp</th>\n",
       "      <th>tp_15min</th>\n",
       "      <th>x</th>\n",
       "      <th>y</th>\n",
       "      <th>nearshoring_industry</th>\n",
       "      <th>per_ocu_num_near_sum</th>\n",
       "      <th>denue</th>\n",
       "      <th>per_ocu_num_tot_sum</th>\n",
       "      <th>nearshoring_industry_pct</th>\n",
       "      <th>nearshoring_workforce_pct</th>\n",
       "    </tr>\n",
       "  </thead>\n",
       "  <tbody>\n",
       "    <tr>\n",
       "      <th>1763</th>\n",
       "      <td>884995b959fffff</td>\n",
       "      <td>POLYGON ((-99.10343 19.43883, -99.09891 19.441...</td>\n",
       "      <td>09017</td>\n",
       "      <td>Venustiano Carranza</td>\n",
       "      <td>CDMX</td>\n",
       "      <td>urban</td>\n",
       "      <td>3.467785</td>\n",
       "      <td>29.215094</td>\n",
       "      <td>-99.103915</td>\n",
       "      <td>19.443452</td>\n",
       "      <td>3.0</td>\n",
       "      <td>9.0</td>\n",
       "      <td>66.0</td>\n",
       "      <td>302.0</td>\n",
       "      <td>0.045455</td>\n",
       "      <td>0.029801</td>\n",
       "    </tr>\n",
       "    <tr>\n",
       "      <th>1764</th>\n",
       "      <td>884995b94dfffff</td>\n",
       "      <td>POLYGON ((-99.07415 19.42551, -99.06963 19.428...</td>\n",
       "      <td>09017</td>\n",
       "      <td>Venustiano Carranza</td>\n",
       "      <td>CDMX</td>\n",
       "      <td>urban</td>\n",
       "      <td>10.830875</td>\n",
       "      <td>7.650000</td>\n",
       "      <td>-99.073052</td>\n",
       "      <td>19.428639</td>\n",
       "      <td>NaN</td>\n",
       "      <td>NaN</td>\n",
       "      <td>NaN</td>\n",
       "      <td>NaN</td>\n",
       "      <td>NaN</td>\n",
       "      <td>NaN</td>\n",
       "    </tr>\n",
       "    <tr>\n",
       "      <th>1765</th>\n",
       "      <td>884995bb33fffff</td>\n",
       "      <td>POLYGON ((-99.10760 19.43076, -99.10307 19.433...</td>\n",
       "      <td>09017</td>\n",
       "      <td>Venustiano Carranza</td>\n",
       "      <td>CDMX</td>\n",
       "      <td>urban</td>\n",
       "      <td>3.963585</td>\n",
       "      <td>20.573585</td>\n",
       "      <td>-99.108385</td>\n",
       "      <td>19.436000</td>\n",
       "      <td>NaN</td>\n",
       "      <td>NaN</td>\n",
       "      <td>NaN</td>\n",
       "      <td>NaN</td>\n",
       "      <td>NaN</td>\n",
       "      <td>NaN</td>\n",
       "    </tr>\n",
       "    <tr>\n",
       "      <th>1766</th>\n",
       "      <td>884995bb3dfffff</td>\n",
       "      <td>POLYGON ((-99.09712 19.41602, -99.09260 19.418...</td>\n",
       "      <td>09017</td>\n",
       "      <td>Venustiano Carranza</td>\n",
       "      <td>CDMX</td>\n",
       "      <td>urban</td>\n",
       "      <td>4.191746</td>\n",
       "      <td>29.042601</td>\n",
       "      <td>-99.098275</td>\n",
       "      <td>19.420503</td>\n",
       "      <td>4.0</td>\n",
       "      <td>89.0</td>\n",
       "      <td>52.0</td>\n",
       "      <td>1068.0</td>\n",
       "      <td>0.076923</td>\n",
       "      <td>0.083333</td>\n",
       "    </tr>\n",
       "  </tbody>\n",
       "</table>\n",
       "</div>"
      ],
      "text/plain": [
       "               hex_id                                           geometry  \\\n",
       "1763  884995b959fffff  POLYGON ((-99.10343 19.43883, -99.09891 19.441...   \n",
       "1764  884995b94dfffff  POLYGON ((-99.07415 19.42551, -99.06963 19.428...   \n",
       "1765  884995bb33fffff  POLYGON ((-99.10760 19.43076, -99.10307 19.433...   \n",
       "1766  884995bb3dfffff  POLYGON ((-99.09712 19.41602, -99.09260 19.418...   \n",
       "\n",
       "     CVEGEO               NOMGEO  city   type    time_tp   tp_15min  \\\n",
       "1763  09017  Venustiano Carranza  CDMX  urban   3.467785  29.215094   \n",
       "1764  09017  Venustiano Carranza  CDMX  urban  10.830875   7.650000   \n",
       "1765  09017  Venustiano Carranza  CDMX  urban   3.963585  20.573585   \n",
       "1766  09017  Venustiano Carranza  CDMX  urban   4.191746  29.042601   \n",
       "\n",
       "              x          y  nearshoring_industry  per_ocu_num_near_sum  denue  \\\n",
       "1763 -99.103915  19.443452                   3.0                   9.0   66.0   \n",
       "1764 -99.073052  19.428639                   NaN                   NaN    NaN   \n",
       "1765 -99.108385  19.436000                   NaN                   NaN    NaN   \n",
       "1766 -99.098275  19.420503                   4.0                  89.0   52.0   \n",
       "\n",
       "      per_ocu_num_tot_sum  nearshoring_industry_pct  nearshoring_workforce_pct  \n",
       "1763                302.0                  0.045455                   0.029801  \n",
       "1764                  NaN                       NaN                        NaN  \n",
       "1765                  NaN                       NaN                        NaN  \n",
       "1766               1068.0                  0.076923                   0.083333  "
      ]
     },
     "execution_count": 101,
     "metadata": {},
     "output_type": "execute_result"
    }
   ],
   "source": [
    "hex_near_prox.loc[hex_near_prox.geometry_x.isnull(),'geometry_x'] = hex_near_prox['geometry_y']\n",
    "hex_near_prox = hex_near_prox.rename(columns={'geometry_x':'geometry'})\n",
    "hex_near_prox = hex_near_prox.drop(columns=['geometry_y'])\n",
    "hex_near_prox.tail(4)"
   ]
  },
  {
   "cell_type": "code",
   "execution_count": 102,
   "id": "67fdc897-b6ee-4075-aa19-f7184134bbd2",
   "metadata": {
    "scrolled": true
   },
   "outputs": [
    {
     "name": "stdout",
     "output_type": "stream",
     "text": [
      "(1767, 19)\n"
     ]
    },
    {
     "data": {
      "text/html": [
       "<div>\n",
       "<style scoped>\n",
       "    .dataframe tbody tr th:only-of-type {\n",
       "        vertical-align: middle;\n",
       "    }\n",
       "\n",
       "    .dataframe tbody tr th {\n",
       "        vertical-align: top;\n",
       "    }\n",
       "\n",
       "    .dataframe thead th {\n",
       "        text-align: right;\n",
       "    }\n",
       "</style>\n",
       "<table border=\"1\" class=\"dataframe\">\n",
       "  <thead>\n",
       "    <tr style=\"text-align: right;\">\n",
       "      <th></th>\n",
       "      <th>hex_id</th>\n",
       "      <th>geometry</th>\n",
       "      <th>CVEGEO</th>\n",
       "      <th>NOMGEO</th>\n",
       "      <th>city</th>\n",
       "      <th>type</th>\n",
       "      <th>time_tp</th>\n",
       "      <th>tp_15min</th>\n",
       "      <th>x</th>\n",
       "      <th>y</th>\n",
       "      <th>nearshoring_industry</th>\n",
       "      <th>per_ocu_num_near_sum</th>\n",
       "      <th>denue</th>\n",
       "      <th>per_ocu_num_tot_sum</th>\n",
       "      <th>nearshoring_industry_pct</th>\n",
       "      <th>nearshoring_workforce_pct</th>\n",
       "      <th>hex_id_8</th>\n",
       "      <th>pobtot</th>\n",
       "      <th>vivtot</th>\n",
       "    </tr>\n",
       "  </thead>\n",
       "  <tbody>\n",
       "    <tr>\n",
       "      <th>0</th>\n",
       "      <td>884995b889fffff</td>\n",
       "      <td>POLYGON ((-99.18300 19.49493, -99.17848 19.497...</td>\n",
       "      <td>09002</td>\n",
       "      <td>Azcapotzalco</td>\n",
       "      <td>CDMX</td>\n",
       "      <td>urban</td>\n",
       "      <td>3.023295</td>\n",
       "      <td>12.942308</td>\n",
       "      <td>-99.183890</td>\n",
       "      <td>19.501312</td>\n",
       "      <td>1.0</td>\n",
       "      <td>20.0</td>\n",
       "      <td>27.0</td>\n",
       "      <td>120.0</td>\n",
       "      <td>0.037037</td>\n",
       "      <td>0.166667</td>\n",
       "      <td>884995b889fffff</td>\n",
       "      <td>9150.0</td>\n",
       "      <td>3004.0</td>\n",
       "    </tr>\n",
       "    <tr>\n",
       "      <th>1</th>\n",
       "      <td>884995b8d1fffff</td>\n",
       "      <td>POLYGON ((-99.20183 19.49350, -99.19730 19.496...</td>\n",
       "      <td>09002</td>\n",
       "      <td>Azcapotzalco</td>\n",
       "      <td>CDMX</td>\n",
       "      <td>urban</td>\n",
       "      <td>4.288229</td>\n",
       "      <td>10.733813</td>\n",
       "      <td>-99.202498</td>\n",
       "      <td>19.498341</td>\n",
       "      <td>1.0</td>\n",
       "      <td>3.0</td>\n",
       "      <td>40.0</td>\n",
       "      <td>230.0</td>\n",
       "      <td>0.025000</td>\n",
       "      <td>0.013043</td>\n",
       "      <td>884995b8d1fffff</td>\n",
       "      <td>12761.0</td>\n",
       "      <td>4018.0</td>\n",
       "    </tr>\n",
       "  </tbody>\n",
       "</table>\n",
       "</div>"
      ],
      "text/plain": [
       "            hex_id                                           geometry CVEGEO  \\\n",
       "0  884995b889fffff  POLYGON ((-99.18300 19.49493, -99.17848 19.497...  09002   \n",
       "1  884995b8d1fffff  POLYGON ((-99.20183 19.49350, -99.19730 19.496...  09002   \n",
       "\n",
       "         NOMGEO  city   type   time_tp   tp_15min          x          y  \\\n",
       "0  Azcapotzalco  CDMX  urban  3.023295  12.942308 -99.183890  19.501312   \n",
       "1  Azcapotzalco  CDMX  urban  4.288229  10.733813 -99.202498  19.498341   \n",
       "\n",
       "   nearshoring_industry  per_ocu_num_near_sum  denue  per_ocu_num_tot_sum  \\\n",
       "0                   1.0                  20.0   27.0                120.0   \n",
       "1                   1.0                   3.0   40.0                230.0   \n",
       "\n",
       "   nearshoring_industry_pct  nearshoring_workforce_pct         hex_id_8  \\\n",
       "0                  0.037037                   0.166667  884995b889fffff   \n",
       "1                  0.025000                   0.013043  884995b8d1fffff   \n",
       "\n",
       "    pobtot  vivtot  \n",
       "0   9150.0  3004.0  \n",
       "1  12761.0  4018.0  "
      ]
     },
     "execution_count": 102,
     "metadata": {},
     "output_type": "execute_result"
    }
   ],
   "source": [
    "hex_near_prox = hex_near_prox.merge(hex_pob.drop(columns=['geometry','CVEGEO','NOMGEO','city','type']),\n",
    "                                    left_on='hex_id',right_on='hex_id_8', how='outer')\n",
    "print(hex_near_prox.shape)\n",
    "hex_near_prox.head(2)"
   ]
  },
  {
   "cell_type": "markdown",
   "id": "a0a4c568-91f4-4dfe-ba18-ebb2af8b59b7",
   "metadata": {},
   "source": [
    "## Fill time gaps"
   ]
  },
  {
   "cell_type": "markdown",
   "id": "4ac94d5c-5c13-4334-a569-8c8b9b42f444",
   "metadata": {},
   "source": [
    "Fill time gaps through IDW interpolation"
   ]
  },
  {
   "cell_type": "code",
   "execution_count": 103,
   "id": "2feeba62-df37-45cc-9568-ecef1ee566dc",
   "metadata": {},
   "outputs": [
    {
     "data": {
      "text/plain": [
       "array(['CDMX'], dtype=object)"
      ]
     },
     "execution_count": 103,
     "metadata": {},
     "output_type": "execute_result"
    }
   ],
   "source": [
    "hex_near_prox.city.unique()"
   ]
  },
  {
   "cell_type": "code",
   "execution_count": 104,
   "id": "034eb426-b43d-4d03-a0f1-57656b902e27",
   "metadata": {},
   "outputs": [
    {
     "data": {
      "text/plain": [
       "0"
      ]
     },
     "execution_count": 104,
     "metadata": {},
     "output_type": "execute_result"
    }
   ],
   "source": [
    "hex_near_prox.city.isnull().sum()"
   ]
  },
  {
   "cell_type": "markdown",
   "id": "74a3f1aa-025b-40d8-b9c5-11d840a92e34",
   "metadata": {},
   "source": [
    "Check for missing data"
   ]
  },
  {
   "cell_type": "code",
   "execution_count": 105,
   "id": "0bd2a4e2-15c8-4e1e-a6d5-97d3c848180d",
   "metadata": {},
   "outputs": [
    {
     "data": {
      "text/plain": [
       "0"
      ]
     },
     "execution_count": 105,
     "metadata": {},
     "output_type": "execute_result"
    }
   ],
   "source": [
    "len(hex_near_prox.loc[(hex_near_prox.nearshoring_industry>=1)&\n",
    "(hex_near_prox.time_tp==0)])"
   ]
  },
  {
   "cell_type": "code",
   "execution_count": 106,
   "id": "117ec10c-b9e2-44bf-a216-d77cc0285f50",
   "metadata": {},
   "outputs": [
    {
     "data": {
      "text/html": [
       "<div>\n",
       "<style scoped>\n",
       "    .dataframe tbody tr th:only-of-type {\n",
       "        vertical-align: middle;\n",
       "    }\n",
       "\n",
       "    .dataframe tbody tr th {\n",
       "        vertical-align: top;\n",
       "    }\n",
       "\n",
       "    .dataframe thead th {\n",
       "        text-align: right;\n",
       "    }\n",
       "</style>\n",
       "<table border=\"1\" class=\"dataframe\">\n",
       "  <thead>\n",
       "    <tr style=\"text-align: right;\">\n",
       "      <th></th>\n",
       "      <th>hex_id</th>\n",
       "      <th>geometry</th>\n",
       "      <th>CVEGEO</th>\n",
       "      <th>NOMGEO</th>\n",
       "      <th>city</th>\n",
       "      <th>type</th>\n",
       "      <th>time_tp</th>\n",
       "      <th>tp_15min</th>\n",
       "      <th>x</th>\n",
       "      <th>y</th>\n",
       "      <th>nearshoring_industry</th>\n",
       "      <th>per_ocu_num_near_sum</th>\n",
       "      <th>denue</th>\n",
       "      <th>per_ocu_num_tot_sum</th>\n",
       "      <th>nearshoring_industry_pct</th>\n",
       "      <th>nearshoring_workforce_pct</th>\n",
       "      <th>hex_id_8</th>\n",
       "      <th>pobtot</th>\n",
       "      <th>vivtot</th>\n",
       "    </tr>\n",
       "  </thead>\n",
       "  <tbody>\n",
       "  </tbody>\n",
       "</table>\n",
       "</div>"
      ],
      "text/plain": [
       "Empty DataFrame\n",
       "Columns: [hex_id, geometry, CVEGEO, NOMGEO, city, type, time_tp, tp_15min, x, y, nearshoring_industry, per_ocu_num_near_sum, denue, per_ocu_num_tot_sum, nearshoring_industry_pct, nearshoring_workforce_pct, hex_id_8, pobtot, vivtot]\n",
       "Index: []"
      ]
     },
     "execution_count": 106,
     "metadata": {},
     "output_type": "execute_result"
    }
   ],
   "source": [
    "hex_near_prox.loc[(hex_near_prox.nearshoring_industry>=1)&\n",
    "(hex_near_prox.time_tp==0)]"
   ]
  },
  {
   "cell_type": "code",
   "execution_count": 107,
   "id": "41b269b1-f817-49cd-9e67-46f21b59d9fb",
   "metadata": {},
   "outputs": [
    {
     "data": {
      "text/plain": [
       "1.4134656812301134"
      ]
     },
     "execution_count": 107,
     "metadata": {},
     "output_type": "execute_result"
    }
   ],
   "source": [
    "hex_near_prox.loc[(hex_near_prox.nearshoring_industry>=1),'time_tp'].min()"
   ]
  },
  {
   "cell_type": "markdown",
   "id": "a79c24a5-e76e-40b0-a6be-a4c3f5b8ab35",
   "metadata": {},
   "source": [
    "## Time analysis"
   ]
  },
  {
   "cell_type": "markdown",
   "id": "13de8cf2-e1f6-44be-8488-ea3cbaf3ce49",
   "metadata": {},
   "source": [
    "Weighted average"
   ]
  },
  {
   "cell_type": "code",
   "execution_count": 40,
   "id": "9ff19eef-03f6-4b0e-9a81-19a4dafeb825",
   "metadata": {},
   "outputs": [],
   "source": [
    "def weighted_average(df, weight_column, value_column):\n",
    "\t\"\"\"\n",
    "\tWeighted average function that takes a DataFrame, weight column name and value column name as inputs\n",
    "\tArguments:\n",
    "\t\tdf (pandas.DataFrame): DataFrame containing the data to be averaged\n",
    "\t\tweight_column (str): Column name with weight data\n",
    "\t\tvalue_column (str): Column name with value data\n",
    "\tReturns:\n",
    "\t\tweighted_average (float): Weighted average of the value column\n",
    "\t\"\"\"\n",
    "\tweighted_average = (df[weight_column] * df[value_column]).sum() / df[weight_column].sum()\n",
    "\treturn weighted_average"
   ]
  },
  {
   "cell_type": "markdown",
   "id": "f869cdb2-de10-4b35-ad7d-f39fcd029742",
   "metadata": {},
   "source": [
    "Nearshoring industry"
   ]
  },
  {
   "cell_type": "code",
   "execution_count": 108,
   "id": "dfe2352c-b00c-4f9a-a479-cd7fdfa5de3b",
   "metadata": {},
   "outputs": [],
   "source": [
    "category_cols = ['time_tp','tp_15min']\n",
    "df_res = pd.DataFrame()\n",
    "row_n = 0\n",
    "\n",
    "for city in hex_near_prox.city.unique():\n",
    "    for column_analysis in category_cols:\n",
    "        \n",
    "        res = weighted_average(hex_near_prox.loc[(hex_near_prox.city==city)],'per_ocu_num_near_sum',column_analysis)\n",
    "        df_res.loc[row_n,'near_'+column_analysis] = res\n",
    "    df_res.loc[row_n,'city'] = city\n",
    "    row_n += 1"
   ]
  },
  {
   "cell_type": "markdown",
   "id": "cb5c70e6-7667-409f-9996-259fc8385676",
   "metadata": {},
   "source": [
    "Population distance"
   ]
  },
  {
   "cell_type": "code",
   "execution_count": 109,
   "id": "9cf1e77f-45ad-4a85-87a1-1d6b36abdc17",
   "metadata": {},
   "outputs": [],
   "source": [
    "for city in hex_near_prox.city.unique():\n",
    "    for column_analysis in category_cols:\n",
    "        \n",
    "        res = weighted_average(hex_near_prox.loc[(hex_near_prox.city==city)],'pobtot',column_analysis)\n",
    "        df_res.loc[df_res.city==city,'pob_'+column_analysis] = res\n",
    "    df_res.loc[df_res.city==city,'city'] = city\n",
    "    row_n += 1"
   ]
  },
  {
   "cell_type": "code",
   "execution_count": 110,
   "id": "a55c2562-2e39-4fb1-a5cd-406f680eee46",
   "metadata": {},
   "outputs": [
    {
     "data": {
      "text/html": [
       "<div>\n",
       "<style scoped>\n",
       "    .dataframe tbody tr th:only-of-type {\n",
       "        vertical-align: middle;\n",
       "    }\n",
       "\n",
       "    .dataframe tbody tr th {\n",
       "        vertical-align: top;\n",
       "    }\n",
       "\n",
       "    .dataframe thead th {\n",
       "        text-align: right;\n",
       "    }\n",
       "</style>\n",
       "<table border=\"1\" class=\"dataframe\">\n",
       "  <thead>\n",
       "    <tr style=\"text-align: right;\">\n",
       "      <th></th>\n",
       "      <th>near_time_tp</th>\n",
       "      <th>near_tp_15min</th>\n",
       "      <th>city</th>\n",
       "      <th>pob_time_tp</th>\n",
       "      <th>pob_tp_15min</th>\n",
       "    </tr>\n",
       "  </thead>\n",
       "  <tbody>\n",
       "    <tr>\n",
       "      <th>0</th>\n",
       "      <td>5.139431</td>\n",
       "      <td>25.841158</td>\n",
       "      <td>CDMX</td>\n",
       "      <td>7.08104</td>\n",
       "      <td>18.09029</td>\n",
       "    </tr>\n",
       "  </tbody>\n",
       "</table>\n",
       "</div>"
      ],
      "text/plain": [
       "   near_time_tp  near_tp_15min  city  pob_time_tp  pob_tp_15min\n",
       "0      5.139431      25.841158  CDMX      7.08104      18.09029"
      ]
     },
     "execution_count": 110,
     "metadata": {},
     "output_type": "execute_result"
    }
   ],
   "source": [
    "df_res"
   ]
  },
  {
   "cell_type": "markdown",
   "id": "81743d50-557c-421a-bc76-28534a3ff27c",
   "metadata": {},
   "source": [
    "## New urbanizations"
   ]
  },
  {
   "cell_type": "code",
   "execution_count": 111,
   "id": "1126c3b1-43b0-44f8-a3c5-f1c07d5c89c6",
   "metadata": {},
   "outputs": [],
   "source": [
    "growth_gdf = gpd.read_file('../../../data/processed/nearshoring/urban_growth.geojson')"
   ]
  },
  {
   "cell_type": "code",
   "execution_count": 112,
   "id": "062eda4e-4907-4ad0-8d30-619b03d0ecec",
   "metadata": {},
   "outputs": [
    {
     "name": "stdout",
     "output_type": "stream",
     "text": [
      "(10235, 11)\n"
     ]
    },
    {
     "data": {
      "text/html": [
       "<div>\n",
       "<style scoped>\n",
       "    .dataframe tbody tr th:only-of-type {\n",
       "        vertical-align: middle;\n",
       "    }\n",
       "\n",
       "    .dataframe tbody tr th {\n",
       "        vertical-align: top;\n",
       "    }\n",
       "\n",
       "    .dataframe thead th {\n",
       "        text-align: right;\n",
       "    }\n",
       "</style>\n",
       "<table border=\"1\" class=\"dataframe\">\n",
       "  <thead>\n",
       "    <tr style=\"text-align: right;\">\n",
       "      <th></th>\n",
       "      <th>hex_id_8</th>\n",
       "      <th>CVEGEO</th>\n",
       "      <th>NOMGEO</th>\n",
       "      <th>city</th>\n",
       "      <th>type</th>\n",
       "      <th>20_pobtot</th>\n",
       "      <th>20_vivtot</th>\n",
       "      <th>10_pobtot</th>\n",
       "      <th>10_vivtot</th>\n",
       "      <th>nueva_urbanizacion</th>\n",
       "      <th>geometry</th>\n",
       "    </tr>\n",
       "  </thead>\n",
       "  <tbody>\n",
       "    <tr>\n",
       "      <th>0</th>\n",
       "      <td>884995b889fffff</td>\n",
       "      <td>09002</td>\n",
       "      <td>Azcapotzalco</td>\n",
       "      <td>CDMX</td>\n",
       "      <td>urban</td>\n",
       "      <td>9150.0</td>\n",
       "      <td>3004.0</td>\n",
       "      <td>11473.0</td>\n",
       "      <td>3515.0</td>\n",
       "      <td>0</td>\n",
       "      <td>POLYGON ((-99.18300 19.49493, -99.17848 19.497...</td>\n",
       "    </tr>\n",
       "    <tr>\n",
       "      <th>1</th>\n",
       "      <td>884995b8d1fffff</td>\n",
       "      <td>09002</td>\n",
       "      <td>Azcapotzalco</td>\n",
       "      <td>CDMX</td>\n",
       "      <td>urban</td>\n",
       "      <td>12761.0</td>\n",
       "      <td>4018.0</td>\n",
       "      <td>12034.0</td>\n",
       "      <td>3661.0</td>\n",
       "      <td>0</td>\n",
       "      <td>POLYGON ((-99.20183 19.49350, -99.19730 19.496...</td>\n",
       "    </tr>\n",
       "  </tbody>\n",
       "</table>\n",
       "</div>"
      ],
      "text/plain": [
       "          hex_id_8 CVEGEO        NOMGEO  city   type  20_pobtot  20_vivtot  \\\n",
       "0  884995b889fffff  09002  Azcapotzalco  CDMX  urban     9150.0     3004.0   \n",
       "1  884995b8d1fffff  09002  Azcapotzalco  CDMX  urban    12761.0     4018.0   \n",
       "\n",
       "   10_pobtot  10_vivtot  nueva_urbanizacion  \\\n",
       "0    11473.0     3515.0                   0   \n",
       "1    12034.0     3661.0                   0   \n",
       "\n",
       "                                            geometry  \n",
       "0  POLYGON ((-99.18300 19.49493, -99.17848 19.497...  \n",
       "1  POLYGON ((-99.20183 19.49350, -99.19730 19.496...  "
      ]
     },
     "execution_count": 112,
     "metadata": {},
     "output_type": "execute_result"
    }
   ],
   "source": [
    "print(growth_gdf.shape)\n",
    "growth_gdf.head(2)"
   ]
  },
  {
   "cell_type": "code",
   "execution_count": 113,
   "id": "bdc9346c-756b-4fb8-a9d3-0019da0f2b60",
   "metadata": {},
   "outputs": [
    {
     "name": "stdout",
     "output_type": "stream",
     "text": [
      "(1240, 11)\n"
     ]
    },
    {
     "data": {
      "text/html": [
       "<div>\n",
       "<style scoped>\n",
       "    .dataframe tbody tr th:only-of-type {\n",
       "        vertical-align: middle;\n",
       "    }\n",
       "\n",
       "    .dataframe tbody tr th {\n",
       "        vertical-align: top;\n",
       "    }\n",
       "\n",
       "    .dataframe thead th {\n",
       "        text-align: right;\n",
       "    }\n",
       "</style>\n",
       "<table border=\"1\" class=\"dataframe\">\n",
       "  <thead>\n",
       "    <tr style=\"text-align: right;\">\n",
       "      <th></th>\n",
       "      <th>hex_id_8</th>\n",
       "      <th>CVEGEO</th>\n",
       "      <th>NOMGEO</th>\n",
       "      <th>city</th>\n",
       "      <th>type</th>\n",
       "      <th>20_pobtot</th>\n",
       "      <th>20_vivtot</th>\n",
       "      <th>10_pobtot</th>\n",
       "      <th>10_vivtot</th>\n",
       "      <th>nueva_urbanizacion</th>\n",
       "      <th>geometry</th>\n",
       "    </tr>\n",
       "  </thead>\n",
       "  <tbody>\n",
       "    <tr>\n",
       "      <th>126</th>\n",
       "      <td>884995b04bfffff</td>\n",
       "      <td>09004</td>\n",
       "      <td>Cuajimalpa de Morelos</td>\n",
       "      <td>CDMX</td>\n",
       "      <td>rural</td>\n",
       "      <td>395.0</td>\n",
       "      <td>106.0</td>\n",
       "      <td>0.0</td>\n",
       "      <td>0.0</td>\n",
       "      <td>1</td>\n",
       "      <td>POLYGON ((-99.31540 19.36063, -99.31088 19.363...</td>\n",
       "    </tr>\n",
       "    <tr>\n",
       "      <th>467</th>\n",
       "      <td>88499582e9fffff</td>\n",
       "      <td>09009</td>\n",
       "      <td>Milpa Alta</td>\n",
       "      <td>CDMX</td>\n",
       "      <td>urban</td>\n",
       "      <td>43.0</td>\n",
       "      <td>26.0</td>\n",
       "      <td>0.0</td>\n",
       "      <td>0.0</td>\n",
       "      <td>1</td>\n",
       "      <td>POLYGON ((-99.07476 19.16175, -99.07025 19.164...</td>\n",
       "    </tr>\n",
       "  </tbody>\n",
       "</table>\n",
       "</div>"
      ],
      "text/plain": [
       "            hex_id_8 CVEGEO                 NOMGEO  city   type  20_pobtot  \\\n",
       "126  884995b04bfffff  09004  Cuajimalpa de Morelos  CDMX  rural      395.0   \n",
       "467  88499582e9fffff  09009             Milpa Alta  CDMX  urban       43.0   \n",
       "\n",
       "     20_vivtot  10_pobtot  10_vivtot  nueva_urbanizacion  \\\n",
       "126      106.0        0.0        0.0                   1   \n",
       "467       26.0        0.0        0.0                   1   \n",
       "\n",
       "                                              geometry  \n",
       "126  POLYGON ((-99.31540 19.36063, -99.31088 19.363...  \n",
       "467  POLYGON ((-99.07476 19.16175, -99.07025 19.164...  "
      ]
     },
     "execution_count": 113,
     "metadata": {},
     "output_type": "execute_result"
    }
   ],
   "source": [
    "new_growth_gdf = growth_gdf.loc[growth_gdf.nueva_urbanizacion==1].copy()\n",
    "print(new_growth_gdf.shape)\n",
    "new_growth_gdf.head(2)"
   ]
  },
  {
   "cell_type": "code",
   "execution_count": 114,
   "id": "6d716558-f575-4cca-8f93-8631a9684640",
   "metadata": {},
   "outputs": [],
   "source": [
    "new_growth_gdf = new_growth_gdf.merge(hex_time, left_on='hex_id_8',\n",
    "                    right_on='hex_id', how='left')\n",
    "new_growth_gdf = new_growth_gdf.rename(columns={'city_x':'city'})\n",
    "new_growth_gdf = new_growth_gdf.drop(columns=['city_y'])"
   ]
  },
  {
   "cell_type": "code",
   "execution_count": 115,
   "id": "46e52957-1746-4860-a778-4538f8b673e2",
   "metadata": {},
   "outputs": [],
   "source": [
    "for city in new_growth_gdf.city.unique():\n",
    "    for column_analysis in category_cols:\n",
    "        res = new_growth_gdf.loc[new_growth_gdf.city==city,column_analysis].mean()\n",
    "        df_res.loc[df_res.city==city,'new_'+column_analysis] = res"
   ]
  },
  {
   "cell_type": "code",
   "execution_count": 116,
   "id": "5e1b0b90-41f3-4d79-b6d9-2248386c3483",
   "metadata": {},
   "outputs": [
    {
     "data": {
      "text/html": [
       "<div>\n",
       "<style scoped>\n",
       "    .dataframe tbody tr th:only-of-type {\n",
       "        vertical-align: middle;\n",
       "    }\n",
       "\n",
       "    .dataframe tbody tr th {\n",
       "        vertical-align: top;\n",
       "    }\n",
       "\n",
       "    .dataframe thead th {\n",
       "        text-align: right;\n",
       "    }\n",
       "</style>\n",
       "<table border=\"1\" class=\"dataframe\">\n",
       "  <thead>\n",
       "    <tr style=\"text-align: right;\">\n",
       "      <th></th>\n",
       "      <th>near_time_tp</th>\n",
       "      <th>near_tp_15min</th>\n",
       "      <th>city</th>\n",
       "      <th>pob_time_tp</th>\n",
       "      <th>pob_tp_15min</th>\n",
       "      <th>new_time_tp</th>\n",
       "      <th>new_tp_15min</th>\n",
       "    </tr>\n",
       "  </thead>\n",
       "  <tbody>\n",
       "    <tr>\n",
       "      <th>0</th>\n",
       "      <td>5.139431</td>\n",
       "      <td>25.841158</td>\n",
       "      <td>CDMX</td>\n",
       "      <td>7.08104</td>\n",
       "      <td>18.09029</td>\n",
       "      <td>37.414537</td>\n",
       "      <td>1.496558</td>\n",
       "    </tr>\n",
       "  </tbody>\n",
       "</table>\n",
       "</div>"
      ],
      "text/plain": [
       "   near_time_tp  near_tp_15min  city  pob_time_tp  pob_tp_15min  new_time_tp  \\\n",
       "0      5.139431      25.841158  CDMX      7.08104      18.09029    37.414537   \n",
       "\n",
       "   new_tp_15min  \n",
       "0      1.496558  "
      ]
     },
     "execution_count": 116,
     "metadata": {},
     "output_type": "execute_result"
    }
   ],
   "source": [
    "df_res"
   ]
  },
  {
   "cell_type": "markdown",
   "id": "10678f04-daba-4005-8f40-1958d738aac1",
   "metadata": {},
   "source": [
    "## Save data"
   ]
  },
  {
   "cell_type": "code",
   "execution_count": 117,
   "id": "5d2d37db-35e9-456c-babd-4e48538d309f",
   "metadata": {},
   "outputs": [
    {
     "data": {
      "text/html": [
       "<div>\n",
       "<style scoped>\n",
       "    .dataframe tbody tr th:only-of-type {\n",
       "        vertical-align: middle;\n",
       "    }\n",
       "\n",
       "    .dataframe tbody tr th {\n",
       "        vertical-align: top;\n",
       "    }\n",
       "\n",
       "    .dataframe thead th {\n",
       "        text-align: right;\n",
       "    }\n",
       "</style>\n",
       "<table border=\"1\" class=\"dataframe\">\n",
       "  <thead>\n",
       "    <tr style=\"text-align: right;\">\n",
       "      <th></th>\n",
       "      <th>near_time_tp</th>\n",
       "      <th>near_tp_15min</th>\n",
       "      <th>city</th>\n",
       "      <th>pob_time_tp</th>\n",
       "      <th>pob_tp_15min</th>\n",
       "      <th>new_time_tp</th>\n",
       "      <th>new_tp_15min</th>\n",
       "    </tr>\n",
       "  </thead>\n",
       "  <tbody>\n",
       "    <tr>\n",
       "      <th>0</th>\n",
       "      <td>6.481509</td>\n",
       "      <td>18.453205</td>\n",
       "      <td>Guadalajara</td>\n",
       "      <td>6.632248</td>\n",
       "      <td>24.116992</td>\n",
       "      <td>24.060762</td>\n",
       "      <td>3.192735</td>\n",
       "    </tr>\n",
       "    <tr>\n",
       "      <th>0</th>\n",
       "      <td>10.827294</td>\n",
       "      <td>31.421201</td>\n",
       "      <td>Monterrey</td>\n",
       "      <td>6.765498</td>\n",
       "      <td>32.419290</td>\n",
       "      <td>18.947885</td>\n",
       "      <td>5.710876</td>\n",
       "    </tr>\n",
       "    <tr>\n",
       "      <th>0</th>\n",
       "      <td>5.139431</td>\n",
       "      <td>25.841158</td>\n",
       "      <td>CDMX</td>\n",
       "      <td>7.081040</td>\n",
       "      <td>18.090290</td>\n",
       "      <td>37.414537</td>\n",
       "      <td>1.496558</td>\n",
       "    </tr>\n",
       "  </tbody>\n",
       "</table>\n",
       "</div>"
      ],
      "text/plain": [
       "   near_time_tp  near_tp_15min         city  pob_time_tp  pob_tp_15min  \\\n",
       "0      6.481509      18.453205  Guadalajara     6.632248     24.116992   \n",
       "0     10.827294      31.421201    Monterrey     6.765498     32.419290   \n",
       "0      5.139431      25.841158         CDMX     7.081040     18.090290   \n",
       "\n",
       "   new_time_tp  new_tp_15min  \n",
       "0    24.060762      3.192735  \n",
       "0    18.947885      5.710876  \n",
       "0    37.414537      1.496558  "
      ]
     },
     "execution_count": 117,
     "metadata": {},
     "output_type": "execute_result"
    }
   ],
   "source": [
    "df_all = pd.concat([df_all, df_res])\n",
    "df_all"
   ]
  },
  {
   "cell_type": "code",
   "execution_count": 118,
   "id": "c20f3e2f-b948-48fa-a904-1ac92f9215d0",
   "metadata": {},
   "outputs": [],
   "source": [
    "df_all.to_csv('../../../data/processed/nearshoring/proximity_tp_comparison.csv')"
   ]
  },
  {
   "cell_type": "code",
   "execution_count": null,
   "id": "57a664ba-bae6-400b-8c34-aa919b1cc91b",
   "metadata": {},
   "outputs": [],
   "source": []
  }
 ],
 "metadata": {
  "kernelspec": {
   "display_name": "odc",
   "language": "python",
   "name": "odc"
  },
  "language_info": {
   "codemirror_mode": {
    "name": "ipython",
    "version": 3
   },
   "file_extension": ".py",
   "mimetype": "text/x-python",
   "name": "python",
   "nbconvert_exporter": "python",
   "pygments_lexer": "ipython3",
   "version": "3.10.4"
  }
 },
 "nbformat": 4,
 "nbformat_minor": 5
}
