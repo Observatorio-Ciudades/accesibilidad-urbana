{
 "cells": [
  {
   "cell_type": "markdown",
   "id": "9c256394-ad1d-44d7-9ba4-614f8a6a7e85",
   "metadata": {},
   "source": [
    "# Distance to public transport analysis"
   ]
  },
  {
   "cell_type": "code",
   "execution_count": 1,
   "id": "af0c2ad8-41f4-48d4-9263-c36aaf8d8290",
   "metadata": {},
   "outputs": [
    {
     "name": "stderr",
     "output_type": "stream",
     "text": [
      "/home/edgaregurrola/Repos/observatorio-ciudades/accesibilidad-urbana/aup/data.py:24: UserWarning: The `utils.config` function is deprecated and will be removed in a future release. Instead, use the `settings` module directly to configure a global setting's value. For example, `ox.settings.log_console=True`.\n",
      "  ox.config(\n"
     ]
    }
   ],
   "source": [
    "import os\n",
    "import sys\n",
    "\n",
    "import pandas as pd\n",
    "import numpy as np\n",
    "import geopandas as gpd\n",
    "import folium\n",
    "\n",
    "import matplotlib.pyplot as plt\n",
    "import seaborn as sns\n",
    "\n",
    "module_path = os.path.abspath(os.path.join('../../../'))\n",
    "if module_path not in sys.path:\n",
    "    sys.path.append(module_path)\n",
    "    import aup"
   ]
  },
  {
   "cell_type": "markdown",
   "id": "0be13269-ae44-4976-98bf-5c9caf448ac2",
   "metadata": {
    "jp-MarkdownHeadingCollapsed": true
   },
   "source": [
    "## Test split function"
   ]
  },
  {
   "cell_type": "code",
   "execution_count": 2,
   "id": "16d38364-e2a6-43ed-a8fa-a5e921d34337",
   "metadata": {},
   "outputs": [
    {
     "name": "stdout",
     "output_type": "stream",
     "text": [
      "(185, 10)\n"
     ]
    },
    {
     "data": {
      "text/html": [
       "<div>\n",
       "<style scoped>\n",
       "    .dataframe tbody tr th:only-of-type {\n",
       "        vertical-align: middle;\n",
       "    }\n",
       "\n",
       "    .dataframe tbody tr th {\n",
       "        vertical-align: top;\n",
       "    }\n",
       "\n",
       "    .dataframe thead th {\n",
       "        text-align: right;\n",
       "    }\n",
       "</style>\n",
       "<table border=\"1\" class=\"dataframe\">\n",
       "  <thead>\n",
       "    <tr style=\"text-align: right;\">\n",
       "      <th></th>\n",
       "      <th>fid</th>\n",
       "      <th>Name</th>\n",
       "      <th>altitudeMo</th>\n",
       "      <th>tessellate</th>\n",
       "      <th>extrude</th>\n",
       "      <th>visibility</th>\n",
       "      <th>sistema</th>\n",
       "      <th>nombre</th>\n",
       "      <th>layer</th>\n",
       "      <th>geometry</th>\n",
       "    </tr>\n",
       "  </thead>\n",
       "  <tbody>\n",
       "    <tr>\n",
       "      <th>0</th>\n",
       "      <td>1</td>\n",
       "      <td>RUTA 340 PALMIRAS - CLINICA 17</td>\n",
       "      <td>clampToGround</td>\n",
       "      <td>1.0</td>\n",
       "      <td>0.0</td>\n",
       "      <td>-1.0</td>\n",
       "      <td>Ruta</td>\n",
       "      <td>None</td>\n",
       "      <td>zmm_tp_rutaspimus</td>\n",
       "      <td>MULTILINESTRING Z ((-100.42520 25.84269 0.0000...</td>\n",
       "    </tr>\n",
       "    <tr>\n",
       "      <th>1</th>\n",
       "      <td>2</td>\n",
       "      <td>RUTA 070 SECTOR 2 VIVIENDA POPULAR</td>\n",
       "      <td>clampToGround</td>\n",
       "      <td>1.0</td>\n",
       "      <td>0.0</td>\n",
       "      <td>-1.0</td>\n",
       "      <td>Ruta</td>\n",
       "      <td>None</td>\n",
       "      <td>zmm_tp_rutaspimus</td>\n",
       "      <td>MULTILINESTRING Z ((-100.23444 25.66089 0.0000...</td>\n",
       "    </tr>\n",
       "    <tr>\n",
       "      <th>2</th>\n",
       "      <td>3</td>\n",
       "      <td>RUTA 111 SECTOR 2 COLINAS DEL AEROPUERTO - CEN...</td>\n",
       "      <td>clampToGround</td>\n",
       "      <td>1.0</td>\n",
       "      <td>0.0</td>\n",
       "      <td>-1.0</td>\n",
       "      <td>Ruta</td>\n",
       "      <td>None</td>\n",
       "      <td>zmm_tp_rutaspimus</td>\n",
       "      <td>MULTILINESTRING Z ((-100.10483 25.82346 0.0000...</td>\n",
       "    </tr>\n",
       "  </tbody>\n",
       "</table>\n",
       "</div>"
      ],
      "text/plain": [
       "   fid                                               Name     altitudeMo  \\\n",
       "0    1                     RUTA 340 PALMIRAS - CLINICA 17  clampToGround   \n",
       "1    2                 RUTA 070 SECTOR 2 VIVIENDA POPULAR  clampToGround   \n",
       "2    3  RUTA 111 SECTOR 2 COLINAS DEL AEROPUERTO - CEN...  clampToGround   \n",
       "\n",
       "   tessellate  extrude  visibility sistema nombre              layer  \\\n",
       "0         1.0      0.0        -1.0    Ruta   None  zmm_tp_rutaspimus   \n",
       "1         1.0      0.0        -1.0    Ruta   None  zmm_tp_rutaspimus   \n",
       "2         1.0      0.0        -1.0    Ruta   None  zmm_tp_rutaspimus   \n",
       "\n",
       "                                            geometry  \n",
       "0  MULTILINESTRING Z ((-100.42520 25.84269 0.0000...  \n",
       "1  MULTILINESTRING Z ((-100.23444 25.66089 0.0000...  \n",
       "2  MULTILINESTRING Z ((-100.10483 25.82346 0.0000...  "
      ]
     },
     "execution_count": 2,
     "metadata": {},
     "output_type": "execute_result"
    }
   ],
   "source": [
    "gdf_line = gpd.read_file('../../../data/external/transporte/zmm_tp_rutas.gpkg')\n",
    "print(gdf_line.shape)\n",
    "gdf_line.head(3)"
   ]
  },
  {
   "cell_type": "code",
   "execution_count": 3,
   "id": "980d0b27-7b35-4cc5-9a44-61162a2a5dad",
   "metadata": {
    "scrolled": true
   },
   "outputs": [
    {
     "name": "stderr",
     "output_type": "stream",
     "text": [
      "/tmp/ipykernel_58317/2252090428.py:1: FutureWarning: Currently, index_parts defaults to True, but in the future, it will default to False to be consistent with Pandas. Use `index_parts=True` to keep the current behavior and True/False to silence the warning.\n",
      "  gdf_line = gdf_line.explode()\n"
     ]
    },
    {
     "data": {
      "text/html": [
       "<div>\n",
       "<style scoped>\n",
       "    .dataframe tbody tr th:only-of-type {\n",
       "        vertical-align: middle;\n",
       "    }\n",
       "\n",
       "    .dataframe tbody tr th {\n",
       "        vertical-align: top;\n",
       "    }\n",
       "\n",
       "    .dataframe thead th {\n",
       "        text-align: right;\n",
       "    }\n",
       "</style>\n",
       "<table border=\"1\" class=\"dataframe\">\n",
       "  <thead>\n",
       "    <tr style=\"text-align: right;\">\n",
       "      <th></th>\n",
       "      <th></th>\n",
       "      <th>fid</th>\n",
       "      <th>Name</th>\n",
       "      <th>altitudeMo</th>\n",
       "      <th>tessellate</th>\n",
       "      <th>extrude</th>\n",
       "      <th>visibility</th>\n",
       "      <th>sistema</th>\n",
       "      <th>nombre</th>\n",
       "      <th>layer</th>\n",
       "      <th>geometry</th>\n",
       "    </tr>\n",
       "  </thead>\n",
       "  <tbody>\n",
       "    <tr>\n",
       "      <th>0</th>\n",
       "      <th>0</th>\n",
       "      <td>1</td>\n",
       "      <td>RUTA 340 PALMIRAS - CLINICA 17</td>\n",
       "      <td>clampToGround</td>\n",
       "      <td>1.0</td>\n",
       "      <td>0.0</td>\n",
       "      <td>-1.0</td>\n",
       "      <td>Ruta</td>\n",
       "      <td>None</td>\n",
       "      <td>zmm_tp_rutaspimus</td>\n",
       "      <td>LINESTRING Z (-100.42520 25.84269 0.00000, -10...</td>\n",
       "    </tr>\n",
       "    <tr>\n",
       "      <th>1</th>\n",
       "      <th>0</th>\n",
       "      <td>2</td>\n",
       "      <td>RUTA 070 SECTOR 2 VIVIENDA POPULAR</td>\n",
       "      <td>clampToGround</td>\n",
       "      <td>1.0</td>\n",
       "      <td>0.0</td>\n",
       "      <td>-1.0</td>\n",
       "      <td>Ruta</td>\n",
       "      <td>None</td>\n",
       "      <td>zmm_tp_rutaspimus</td>\n",
       "      <td>LINESTRING Z (-100.23444 25.66089 0.00000, -10...</td>\n",
       "    </tr>\n",
       "    <tr>\n",
       "      <th>2</th>\n",
       "      <th>0</th>\n",
       "      <td>3</td>\n",
       "      <td>RUTA 111 SECTOR 2 COLINAS DEL AEROPUERTO - CEN...</td>\n",
       "      <td>clampToGround</td>\n",
       "      <td>1.0</td>\n",
       "      <td>0.0</td>\n",
       "      <td>-1.0</td>\n",
       "      <td>Ruta</td>\n",
       "      <td>None</td>\n",
       "      <td>zmm_tp_rutaspimus</td>\n",
       "      <td>LINESTRING Z (-100.10483 25.82346 0.00000, -10...</td>\n",
       "    </tr>\n",
       "    <tr>\n",
       "      <th>3</th>\n",
       "      <th>0</th>\n",
       "      <td>4</td>\n",
       "      <td>RUTA 318 NEXXUS - PILARES POR CARR. A LAREDO</td>\n",
       "      <td>clampToGround</td>\n",
       "      <td>1.0</td>\n",
       "      <td>0.0</td>\n",
       "      <td>-1.0</td>\n",
       "      <td>Ruta</td>\n",
       "      <td>None</td>\n",
       "      <td>zmm_tp_rutaspimus</td>\n",
       "      <td>LINESTRING Z (-100.24192 25.91912 0.00000, -10...</td>\n",
       "    </tr>\n",
       "    <tr>\n",
       "      <th>4</th>\n",
       "      <th>0</th>\n",
       "      <td>5</td>\n",
       "      <td>RUTA 208 SECTOR 1 ESCOBEDO - SAN RAFAEL</td>\n",
       "      <td>clampToGround</td>\n",
       "      <td>1.0</td>\n",
       "      <td>0.0</td>\n",
       "      <td>-1.0</td>\n",
       "      <td>Ruta</td>\n",
       "      <td>None</td>\n",
       "      <td>zmm_tp_rutaspimus</td>\n",
       "      <td>LINESTRING Z (-100.37225 25.77040 0.00000, -10...</td>\n",
       "    </tr>\n",
       "    <tr>\n",
       "      <th>...</th>\n",
       "      <th>...</th>\n",
       "      <td>...</td>\n",
       "      <td>...</td>\n",
       "      <td>...</td>\n",
       "      <td>...</td>\n",
       "      <td>...</td>\n",
       "      <td>...</td>\n",
       "      <td>...</td>\n",
       "      <td>...</td>\n",
       "      <td>...</td>\n",
       "      <td>...</td>\n",
       "    </tr>\n",
       "    <tr>\n",
       "      <th>180</th>\n",
       "      <th>0</th>\n",
       "      <td>28</td>\n",
       "      <td>None</td>\n",
       "      <td>None</td>\n",
       "      <td>NaN</td>\n",
       "      <td>NaN</td>\n",
       "      <td>NaN</td>\n",
       "      <td>Transmetro</td>\n",
       "      <td>Hospital Metropolitano - Diego Díaz de Berlanga</td>\n",
       "      <td>zmm_tp_transmetro</td>\n",
       "      <td>LINESTRING Z (-100.28091 25.72036 0.00000, -10...</td>\n",
       "    </tr>\n",
       "    <tr>\n",
       "      <th>181</th>\n",
       "      <th>0</th>\n",
       "      <td>29</td>\n",
       "      <td>None</td>\n",
       "      <td>None</td>\n",
       "      <td>NaN</td>\n",
       "      <td>NaN</td>\n",
       "      <td>NaN</td>\n",
       "      <td>Transmetro</td>\n",
       "      <td>Hospital Metropolitano - Los Pinos</td>\n",
       "      <td>zmm_tp_transmetro</td>\n",
       "      <td>LINESTRING Z (-100.27756 25.71104 0.00000, -10...</td>\n",
       "    </tr>\n",
       "    <tr>\n",
       "      <th>182</th>\n",
       "      <th>0</th>\n",
       "      <td>30</td>\n",
       "      <td>None</td>\n",
       "      <td>None</td>\n",
       "      <td>NaN</td>\n",
       "      <td>NaN</td>\n",
       "      <td>NaN</td>\n",
       "      <td>Transmetro</td>\n",
       "      <td>Hospital Metropolitano - Casa Blanca</td>\n",
       "      <td>zmm_tp_transmetro</td>\n",
       "      <td>LINESTRING Z (-100.27755 25.71103 0.00000, -10...</td>\n",
       "    </tr>\n",
       "    <tr>\n",
       "      <th>183</th>\n",
       "      <th>0</th>\n",
       "      <td>31</td>\n",
       "      <td>None</td>\n",
       "      <td>None</td>\n",
       "      <td>NaN</td>\n",
       "      <td>NaN</td>\n",
       "      <td>NaN</td>\n",
       "      <td>Transmetro</td>\n",
       "      <td>Mitras - Villas de San Francisco</td>\n",
       "      <td>zmm_tp_transmetro</td>\n",
       "      <td>LINESTRING Z (-100.34412 25.69184 0.00000, -10...</td>\n",
       "    </tr>\n",
       "    <tr>\n",
       "      <th>184</th>\n",
       "      <th>0</th>\n",
       "      <td>32</td>\n",
       "      <td>None</td>\n",
       "      <td>None</td>\n",
       "      <td>NaN</td>\n",
       "      <td>NaN</td>\n",
       "      <td>NaN</td>\n",
       "      <td>Transmetro</td>\n",
       "      <td>Félix U. Gómez - Monte Cristal</td>\n",
       "      <td>zmm_tp_transmetro</td>\n",
       "      <td>LINESTRING Z (-100.29715 25.68211 0.00000, -10...</td>\n",
       "    </tr>\n",
       "  </tbody>\n",
       "</table>\n",
       "<p>188 rows × 10 columns</p>\n",
       "</div>"
      ],
      "text/plain": [
       "       fid                                               Name     altitudeMo  \\\n",
       "0   0    1                     RUTA 340 PALMIRAS - CLINICA 17  clampToGround   \n",
       "1   0    2                 RUTA 070 SECTOR 2 VIVIENDA POPULAR  clampToGround   \n",
       "2   0    3  RUTA 111 SECTOR 2 COLINAS DEL AEROPUERTO - CEN...  clampToGround   \n",
       "3   0    4       RUTA 318 NEXXUS - PILARES POR CARR. A LAREDO  clampToGround   \n",
       "4   0    5            RUTA 208 SECTOR 1 ESCOBEDO - SAN RAFAEL  clampToGround   \n",
       "...    ...                                                ...            ...   \n",
       "180 0   28                                               None           None   \n",
       "181 0   29                                               None           None   \n",
       "182 0   30                                               None           None   \n",
       "183 0   31                                               None           None   \n",
       "184 0   32                                               None           None   \n",
       "\n",
       "       tessellate  extrude  visibility     sistema  \\\n",
       "0   0         1.0      0.0        -1.0        Ruta   \n",
       "1   0         1.0      0.0        -1.0        Ruta   \n",
       "2   0         1.0      0.0        -1.0        Ruta   \n",
       "3   0         1.0      0.0        -1.0        Ruta   \n",
       "4   0         1.0      0.0        -1.0        Ruta   \n",
       "...           ...      ...         ...         ...   \n",
       "180 0         NaN      NaN         NaN  Transmetro   \n",
       "181 0         NaN      NaN         NaN  Transmetro   \n",
       "182 0         NaN      NaN         NaN  Transmetro   \n",
       "183 0         NaN      NaN         NaN  Transmetro   \n",
       "184 0         NaN      NaN         NaN  Transmetro   \n",
       "\n",
       "                                                nombre              layer  \\\n",
       "0   0                                             None  zmm_tp_rutaspimus   \n",
       "1   0                                             None  zmm_tp_rutaspimus   \n",
       "2   0                                             None  zmm_tp_rutaspimus   \n",
       "3   0                                             None  zmm_tp_rutaspimus   \n",
       "4   0                                             None  zmm_tp_rutaspimus   \n",
       "...                                                ...                ...   \n",
       "180 0  Hospital Metropolitano - Diego Díaz de Berlanga  zmm_tp_transmetro   \n",
       "181 0               Hospital Metropolitano - Los Pinos  zmm_tp_transmetro   \n",
       "182 0             Hospital Metropolitano - Casa Blanca  zmm_tp_transmetro   \n",
       "183 0                 Mitras - Villas de San Francisco  zmm_tp_transmetro   \n",
       "184 0                   Félix U. Gómez - Monte Cristal  zmm_tp_transmetro   \n",
       "\n",
       "                                                geometry  \n",
       "0   0  LINESTRING Z (-100.42520 25.84269 0.00000, -10...  \n",
       "1   0  LINESTRING Z (-100.23444 25.66089 0.00000, -10...  \n",
       "2   0  LINESTRING Z (-100.10483 25.82346 0.00000, -10...  \n",
       "3   0  LINESTRING Z (-100.24192 25.91912 0.00000, -10...  \n",
       "4   0  LINESTRING Z (-100.37225 25.77040 0.00000, -10...  \n",
       "...                                                  ...  \n",
       "180 0  LINESTRING Z (-100.28091 25.72036 0.00000, -10...  \n",
       "181 0  LINESTRING Z (-100.27756 25.71104 0.00000, -10...  \n",
       "182 0  LINESTRING Z (-100.27755 25.71103 0.00000, -10...  \n",
       "183 0  LINESTRING Z (-100.34412 25.69184 0.00000, -10...  \n",
       "184 0  LINESTRING Z (-100.29715 25.68211 0.00000, -10...  \n",
       "\n",
       "[188 rows x 10 columns]"
      ]
     },
     "execution_count": 3,
     "metadata": {},
     "output_type": "execute_result"
    }
   ],
   "source": [
    "gdf_line = gdf_line.explode()\n",
    "gdf_line"
   ]
  },
  {
   "cell_type": "code",
   "execution_count": 4,
   "id": "79ba5b3c-cac8-49f4-a84d-3bdb0b4b2697",
   "metadata": {},
   "outputs": [
    {
     "ename": "NameError",
     "evalue": "name 'shapely' is not defined",
     "output_type": "error",
     "traceback": [
      "\u001b[0;31m---------------------------------------------------------------------------\u001b[0m",
      "\u001b[0;31mNameError\u001b[0m                                 Traceback (most recent call last)",
      "Cell \u001b[0;32mIn[4], line 1\u001b[0m\n\u001b[0;32m----> 1\u001b[0m gdf_line[\u001b[38;5;124m'\u001b[39m\u001b[38;5;124mgeometry\u001b[39m\u001b[38;5;124m'\u001b[39m] \u001b[38;5;241m=\u001b[39m \u001b[43mshapely\u001b[49m\u001b[38;5;241m.\u001b[39mforce_2d(gdf_line[\u001b[38;5;124m'\u001b[39m\u001b[38;5;124mgeometry\u001b[39m\u001b[38;5;124m'\u001b[39m])\n",
      "\u001b[0;31mNameError\u001b[0m: name 'shapely' is not defined"
     ]
    }
   ],
   "source": [
    "gdf_line['geometry'] = shapely.force_2d(gdf_line['geometry'])"
   ]
  },
  {
   "cell_type": "code",
   "execution_count": null,
   "id": "91b5396b-8ffc-429a-b925-49b1e657c62f",
   "metadata": {},
   "outputs": [],
   "source": [
    "gdf_line = gdf_line.to_crs(\"EPSG:6372\")"
   ]
  },
  {
   "cell_type": "code",
   "execution_count": null,
   "id": "5f1df945-557e-4264-847b-0bcd14c1f2f2",
   "metadata": {},
   "outputs": [],
   "source": [
    "gdf_line.head(2)"
   ]
  },
  {
   "cell_type": "code",
   "execution_count": null,
   "id": "32c0fce0-76c3-42de-9f08-5648526fd012",
   "metadata": {},
   "outputs": [],
   "source": [
    "gdf_line = gdf_line.reset_index(drop=True)"
   ]
  },
  {
   "cell_type": "code",
   "execution_count": null,
   "id": "e37ff4b2-9765-42bc-93d8-a5369bdb0883",
   "metadata": {},
   "outputs": [],
   "source": [
    "import shapely"
   ]
  },
  {
   "cell_type": "code",
   "execution_count": null,
   "id": "f3815713-00ae-4871-b02e-ce72091500c1",
   "metadata": {},
   "outputs": [],
   "source": [
    "shapely.segmentize(gdf_line.geometry, max_segment_length=100)"
   ]
  },
  {
   "cell_type": "code",
   "execution_count": null,
   "id": "55ec4269-f913-4421-917d-7df71b65d6bf",
   "metadata": {},
   "outputs": [],
   "source": [
    "distances = np.arange(0, \n",
    "                      gdf_line.iloc[0].geometry.length, 400)"
   ]
  },
  {
   "cell_type": "code",
   "execution_count": null,
   "id": "15806835-934c-4a90-bc4e-4673cab69057",
   "metadata": {},
   "outputs": [],
   "source": [
    "distances"
   ]
  },
  {
   "cell_type": "code",
   "execution_count": null,
   "id": "683df336-8374-489b-ac0e-317c7fa12deb",
   "metadata": {},
   "outputs": [],
   "source": [
    "gdf_line.iloc[0].geometry.coords"
   ]
  },
  {
   "cell_type": "code",
   "execution_count": null,
   "id": "59179c49-8a9e-46fa-b2f5-76eb65d2cd71",
   "metadata": {},
   "outputs": [],
   "source": [
    "from shapely import MultiPoint\n",
    "MultiPoint([gdf_line.iloc[0].geometry.interpolate(distance) for distance in distances] + [gdf_line.iloc[0].geometry.boundary[1]])"
   ]
  },
  {
   "cell_type": "code",
   "execution_count": null,
   "id": "93aee06e-9163-4b87-9335-5f2cb722bea9",
   "metadata": {},
   "outputs": [],
   "source": [
    "gdf_line.iloc[0].geometry.xy[1][1]"
   ]
  },
  {
   "cell_type": "code",
   "execution_count": null,
   "id": "8ded8c4d-6d46-4f82-9007-ae99b9bf01f5",
   "metadata": {},
   "outputs": [],
   "source": [
    "gdf_line.iloc[0].geometry.boundary.explode()"
   ]
  },
  {
   "cell_type": "code",
   "execution_count": null,
   "id": "a98449b3-dc8f-48de-afe9-966cf8166bd0",
   "metadata": {},
   "outputs": [],
   "source": [
    " MultiPoint([line.interpolate(distance) for distance in distances] + [line.boundary[1]])"
   ]
  },
  {
   "cell_type": "markdown",
   "id": "ed2ea903-fa5a-4e05-a17f-dc619c1ec0e6",
   "metadata": {},
   "source": [
    "## Distance to public transport"
   ]
  },
  {
   "cell_type": "markdown",
   "id": "078e9f3c-41ea-41d1-a8e4-7760ed12127d",
   "metadata": {},
   "source": [
    "### Municipality data"
   ]
  },
  {
   "cell_type": "code",
   "execution_count": 2,
   "id": "83769868-6a0b-49c6-82c7-7e2d8ed1aa2c",
   "metadata": {},
   "outputs": [],
   "source": [
    "cities = ['Guadalajara', 'Monterrey', 'CDMX']"
   ]
  },
  {
   "cell_type": "code",
   "execution_count": 3,
   "id": "c9384ff1-90d7-44ed-9a66-454721ca6b69",
   "metadata": {
    "scrolled": true
   },
   "outputs": [],
   "source": [
    "schema = 'hexgrid'\n",
    "table = 'hexgrid_8_city_2020'\n",
    "query = f\"SELECT * FROM {schema}.{table} WHERE \\\"city\\\" = \\'{cities[0]}\\'\"\n",
    "hex_polygon = aup.gdf_from_query(query)"
   ]
  },
  {
   "cell_type": "markdown",
   "id": "ebf3ce5c-d70b-4d90-9429-17f8687ab33f",
   "metadata": {},
   "source": [
    "### Network data"
   ]
  },
  {
   "cell_type": "code",
   "execution_count": 4,
   "id": "4229223a-7791-4d4c-bcf9-51ef744df1d0",
   "metadata": {},
   "outputs": [],
   "source": [
    "G,nodes,edges = aup.graph_from_hippo(hex_polygon, schema='osmnx', edges_folder='edges_speed', nodes_folder='nodes')"
   ]
  },
  {
   "cell_type": "code",
   "execution_count": 5,
   "id": "e02b0053-f257-4e13-ac63-7cf74ce43f9a",
   "metadata": {},
   "outputs": [
    {
     "data": {
      "text/plain": [
       "<AxesSubplot: >"
      ]
     },
     "execution_count": 5,
     "metadata": {},
     "output_type": "execute_result"
    },
    {
     "data": {
      "image/png": "[encoded data removed]",
      "text/plain": [
       "<Figure size 640x480 with 1 Axes>"
      ]
     },
     "metadata": {},
     "output_type": "display_data"
    }
   ],
   "source": [
    "edges.plot()"
   ]
  },
  {
   "cell_type": "markdown",
   "id": "937f09c6-79df-4ed1-a3dd-e6ccd69e7ef4",
   "metadata": {},
   "source": [
    "### Public transport stops"
   ]
  },
  {
   "cell_type": "code",
   "execution_count": 6,
   "id": "da9d23b4-54eb-48fc-bef9-2b5be4df3aa4",
   "metadata": {},
   "outputs": [
    {
     "name": "stdout",
     "output_type": "stream",
     "text": [
      "(9203, 4)\n"
     ]
    },
    {
     "data": {
      "text/html": [
       "<div>\n",
       "<style scoped>\n",
       "    .dataframe tbody tr th:only-of-type {\n",
       "        vertical-align: middle;\n",
       "    }\n",
       "\n",
       "    .dataframe tbody tr th {\n",
       "        vertical-align: top;\n",
       "    }\n",
       "\n",
       "    .dataframe thead th {\n",
       "        text-align: right;\n",
       "    }\n",
       "</style>\n",
       "<table border=\"1\" class=\"dataframe\">\n",
       "  <thead>\n",
       "    <tr style=\"text-align: right;\">\n",
       "      <th></th>\n",
       "      <th>stop_id</th>\n",
       "      <th>stop_name</th>\n",
       "      <th>route_ids</th>\n",
       "      <th>geometry</th>\n",
       "    </tr>\n",
       "  </thead>\n",
       "  <tbody>\n",
       "    <tr>\n",
       "      <th>0</th>\n",
       "      <td>mxa_T06_03_STP_09</td>\n",
       "      <td>Calle Pablo Valdez</td>\n",
       "      <td>T06-03</td>\n",
       "      <td>POINT (-103.27734 20.67448)</td>\n",
       "    </tr>\n",
       "    <tr>\n",
       "      <th>1</th>\n",
       "      <td>mxa_T06_03_STP_16</td>\n",
       "      <td>Calle Esteban Alatorre</td>\n",
       "      <td>T06-03</td>\n",
       "      <td>POINT (-103.29438 20.67253)</td>\n",
       "    </tr>\n",
       "  </tbody>\n",
       "</table>\n",
       "</div>"
      ],
      "text/plain": [
       "             stop_id               stop_name route_ids  \\\n",
       "0  mxa_T06_03_STP_09      Calle Pablo Valdez    T06-03   \n",
       "1  mxa_T06_03_STP_16  Calle Esteban Alatorre    T06-03   \n",
       "\n",
       "                      geometry  \n",
       "0  POINT (-103.27734 20.67448)  \n",
       "1  POINT (-103.29438 20.67253)  "
      ]
     },
     "execution_count": 6,
     "metadata": {},
     "output_type": "execute_result"
    }
   ],
   "source": [
    "paradas_gdf = gpd.read_file('../../../data/external/transporte/amg_tp_paradas.gpkg')\n",
    "print(paradas_gdf.shape)\n",
    "paradas_gdf.head(2)"
   ]
  },
  {
   "cell_type": "markdown",
   "id": "d852055f-3f94-471b-a3f4-54fc930be41d",
   "metadata": {},
   "source": [
    "## Time analysis"
   ]
  },
  {
   "cell_type": "code",
   "execution_count": 8,
   "id": "56540162-6388-458e-9b18-8219eef45d3b",
   "metadata": {},
   "outputs": [
    {
     "name": "stdout",
     "output_type": "stream",
     "text": [
      "Found and assigned nearest node osmid to each tp.\n",
      "Starting time analysis for tp.\n",
      "Starting range k = 1 of 47 for tp.\n",
      "Starting range k = 2 of 47 for tp.\n",
      "Starting range k = 3 of 47 for tp.\n",
      "Starting range k = 4 of 47 for tp.\n",
      "Starting range k = 5 of 47 for tp.\n",
      "Starting range k = 6 of 47 for tp.\n",
      "Starting range k = 7 of 47 for tp.\n",
      "Starting range k = 8 of 47 for tp.\n",
      "Starting range k = 9 of 47 for tp.\n",
      "Starting range k = 10 of 47 for tp.\n",
      "Starting range k = 11 of 47 for tp.\n",
      "Starting range k = 12 of 47 for tp.\n",
      "Starting range k = 13 of 47 for tp.\n",
      "Starting range k = 14 of 47 for tp.\n",
      "Starting range k = 15 of 47 for tp.\n",
      "Starting range k = 16 of 47 for tp.\n",
      "Starting range k = 17 of 47 for tp.\n",
      "Starting range k = 18 of 47 for tp.\n",
      "Starting range k = 19 of 47 for tp.\n",
      "Starting range k = 20 of 47 for tp.\n",
      "Starting range k = 21 of 47 for tp.\n",
      "Starting range k = 22 of 47 for tp.\n",
      "Starting range k = 23 of 47 for tp.\n",
      "Starting range k = 24 of 47 for tp.\n",
      "Starting range k = 25 of 47 for tp.\n",
      "Starting range k = 26 of 47 for tp.\n",
      "Starting range k = 27 of 47 for tp.\n",
      "Starting range k = 28 of 47 for tp.\n",
      "Starting range k = 29 of 47 for tp.\n",
      "Starting range k = 30 of 47 for tp.\n",
      "Starting range k = 31 of 47 for tp.\n",
      "Starting range k = 32 of 47 for tp.\n",
      "Starting range k = 33 of 47 for tp.\n",
      "Starting range k = 34 of 47 for tp.\n",
      "Starting range k = 35 of 47 for tp.\n",
      "Starting range k = 36 of 47 for tp.\n",
      "Starting range k = 37 of 47 for tp.\n",
      "Starting range k = 38 of 47 for tp.\n",
      "Starting range k = 39 of 47 for tp.\n",
      "Starting range k = 40 of 47 for tp.\n",
      "Starting range k = 41 of 47 for tp.\n",
      "Starting range k = 42 of 47 for tp.\n",
      "Starting range k = 43 of 47 for tp.\n",
      "Starting range k = 44 of 47 for tp.\n",
      "Starting range k = 45 of 47 for tp.\n",
      "Starting range k = 46 of 47 for tp.\n",
      "Starting range k = 47 of 47 for tp.\n",
      "Finished time analysis for tp.\n"
     ]
    }
   ],
   "source": [
    "nodes_tp = aup.pois_time(G, nodes, edges, paradas_gdf, 'tp', 'time_min', count_pois=(True, 15))"
   ]
  },
  {
   "cell_type": "code",
   "execution_count": 10,
   "id": "ab3492a2-2340-4274-a3a0-4252bc390891",
   "metadata": {},
   "outputs": [],
   "source": [
    "nodes_tp.to_file('../../../data/external/transporte/nodes_tp_amg.geojson')"
   ]
  },
  {
   "cell_type": "code",
   "execution_count": null,
   "id": "442a73d4-36e0-41ab-a9ee-9e42003f8999",
   "metadata": {},
   "outputs": [],
   "source": []
  }
 ],
 "metadata": {
  "kernelspec": {
   "display_name": "odc",
   "language": "python",
   "name": "odc"
  },
  "language_info": {
   "codemirror_mode": {
    "name": "ipython",
    "version": 3
   },
   "file_extension": ".py",
   "mimetype": "text/x-python",
   "name": "python",
   "nbconvert_exporter": "python",
   "pygments_lexer": "ipython3",
   "version": "3.10.4"
  }
 },
 "nbformat": 4,
 "nbformat_minor": 5
}
