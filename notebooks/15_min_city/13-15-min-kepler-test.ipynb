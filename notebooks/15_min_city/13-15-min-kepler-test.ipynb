{
 "cells": [
  {
   "cell_type": "markdown",
   "id": "ebab0537-b7f8-4f1c-936b-6b92de977eaf",
   "metadata": {},
   "source": [
    "# Test Kepler"
   ]
  },
  {
   "cell_type": "markdown",
   "id": "7b3d912f-fc4f-49d2-9c98-7034aa552f6b",
   "metadata": {},
   "source": [
    "Notebook that test Kepler construction for 15 minute cities visualizations"
   ]
  },
  {
   "cell_type": "markdown",
   "id": "23f9fbfc-b830-49cb-96c3-c856c2e2c04d",
   "metadata": {},
   "source": [
    "## Import modules"
   ]
  },
  {
   "cell_type": "code",
   "execution_count": 1,
   "id": "a8b23a85-4e44-4a73-a113-44fbdf9369ad",
   "metadata": {},
   "outputs": [
    {
     "name": "stderr",
     "output_type": "stream",
     "text": [
      "/home/vscode/anaconda3/envs/odc/lib/python3.10/site-packages/osmnx/utils.py:192: UserWarning: The `utils.config` function is deprecated and will be removed in a future release. Instead, use the `settings` module directly to configure a global setting's value. For example, `ox.settings.log_console=True`.\n",
      "  warnings.warn(\n"
     ]
    }
   ],
   "source": [
    "import io\n",
    "import os\n",
    "import sys\n",
    "\n",
    "import boto3\n",
    "import geopandas as gpd\n",
    "import pandas as pd\n",
    "from keplergl import KeplerGl\n",
    "\n",
    "module_path = os.path.abspath(os.path.join(\"../../\"))\n",
    "if module_path not in sys.path:\n",
    "    sys.path.append(module_path)\n",
    "    import aup"
   ]
  },
  {
   "cell_type": "markdown",
   "id": "8f74e558-be48-436e-99a3-e9bb9235e53e",
   "metadata": {},
   "source": [
    "## Download hexagons with time data"
   ]
  },
  {
   "cell_type": "code",
   "execution_count": 2,
   "id": "b50c59f0-d2ed-45b8-82c6-cfccee041d25",
   "metadata": {
    "scrolled": true
   },
   "outputs": [
    {
     "name": "stdout",
     "output_type": "stream",
     "text": [
      "(308, 30)\n"
     ]
    },
    {
     "data": {
      "text/html": [
       "<div>\n",
       "<style scoped>\n",
       "    .dataframe tbody tr th:only-of-type {\n",
       "        vertical-align: middle;\n",
       "    }\n",
       "\n",
       "    .dataframe tbody tr th {\n",
       "        vertical-align: top;\n",
       "    }\n",
       "\n",
       "    .dataframe thead th {\n",
       "        text-align: right;\n",
       "    }\n",
       "</style>\n",
       "<table border=\"1\" class=\"dataframe\">\n",
       "  <thead>\n",
       "    <tr style=\"text-align: right;\">\n",
       "      <th></th>\n",
       "      <th>hex_id_8</th>\n",
       "      <th>geometry</th>\n",
       "      <th>max_escuelas</th>\n",
       "      <th>max_preescolar</th>\n",
       "      <th>max_primaria</th>\n",
       "      <th>max_secundaria</th>\n",
       "      <th>max_servicios comunitarios</th>\n",
       "      <th>max_salud</th>\n",
       "      <th>max_guarderías</th>\n",
       "      <th>max_asistencia social</th>\n",
       "      <th>...</th>\n",
       "      <th>max_idx_15_min</th>\n",
       "      <th>pobtot</th>\n",
       "      <th>pobfem</th>\n",
       "      <th>pobmas</th>\n",
       "      <th>pob_0a14</th>\n",
       "      <th>pob_15a24</th>\n",
       "      <th>pob_25a59</th>\n",
       "      <th>p_60ymas</th>\n",
       "      <th>dens_pobha</th>\n",
       "      <th>city</th>\n",
       "    </tr>\n",
       "  </thead>\n",
       "  <tbody>\n",
       "    <tr>\n",
       "      <th>0</th>\n",
       "      <td>88498e36dbfffff</td>\n",
       "      <td>POLYGON ((-102.34777 21.92336, -102.34267 21.9...</td>\n",
       "      <td>16.192306</td>\n",
       "      <td>13.586498</td>\n",
       "      <td>15.057619</td>\n",
       "      <td>11.969535</td>\n",
       "      <td>62.167866</td>\n",
       "      <td>53.640209</td>\n",
       "      <td>50.912589</td>\n",
       "      <td>62.167866</td>\n",
       "      <td>...</td>\n",
       "      <td>71.010665</td>\n",
       "      <td>264.7125</td>\n",
       "      <td>131.68126</td>\n",
       "      <td>133.03125</td>\n",
       "      <td>75.937500</td>\n",
       "      <td>50.962500</td>\n",
       "      <td>117.731249</td>\n",
       "      <td>20.081251</td>\n",
       "      <td>3.063433</td>\n",
       "      <td>Aguascalientes</td>\n",
       "    </tr>\n",
       "    <tr>\n",
       "      <th>1</th>\n",
       "      <td>88498e36d5fffff</td>\n",
       "      <td>POLYGON ((-102.32839 21.92505, -102.32329 21.9...</td>\n",
       "      <td>41.764955</td>\n",
       "      <td>22.511213</td>\n",
       "      <td>23.594408</td>\n",
       "      <td>41.764955</td>\n",
       "      <td>49.597804</td>\n",
       "      <td>49.597804</td>\n",
       "      <td>23.166648</td>\n",
       "      <td>33.483284</td>\n",
       "      <td>...</td>\n",
       "      <td>50.273973</td>\n",
       "      <td>1040.9625</td>\n",
       "      <td>542.34850</td>\n",
       "      <td>498.61400</td>\n",
       "      <td>142.968993</td>\n",
       "      <td>171.018986</td>\n",
       "      <td>497.508140</td>\n",
       "      <td>228.414930</td>\n",
       "      <td>12.047757</td>\n",
       "      <td>Aguascalientes</td>\n",
       "    </tr>\n",
       "  </tbody>\n",
       "</table>\n",
       "<p>2 rows × 30 columns</p>\n",
       "</div>"
      ],
      "text/plain": [
       "          hex_id_8                                           geometry  \\\n",
       "0  88498e36dbfffff  POLYGON ((-102.34777 21.92336, -102.34267 21.9...   \n",
       "1  88498e36d5fffff  POLYGON ((-102.32839 21.92505, -102.32329 21.9...   \n",
       "\n",
       "   max_escuelas  max_preescolar  max_primaria  max_secundaria  \\\n",
       "0     16.192306       13.586498     15.057619       11.969535   \n",
       "1     41.764955       22.511213     23.594408       41.764955   \n",
       "\n",
       "   max_servicios comunitarios  max_salud  max_guarderías  \\\n",
       "0                   62.167866  53.640209       50.912589   \n",
       "1                   49.597804  49.597804       23.166648   \n",
       "\n",
       "   max_asistencia social  ...  max_idx_15_min     pobtot     pobfem  \\\n",
       "0              62.167866  ...       71.010665   264.7125  131.68126   \n",
       "1              33.483284  ...       50.273973  1040.9625  542.34850   \n",
       "\n",
       "      pobmas    pob_0a14   pob_15a24   pob_25a59    p_60ymas  dens_pobha  \\\n",
       "0  133.03125   75.937500   50.962500  117.731249   20.081251    3.063433   \n",
       "1  498.61400  142.968993  171.018986  497.508140  228.414930   12.047757   \n",
       "\n",
       "             city  \n",
       "0  Aguascalientes  \n",
       "1  Aguascalientes  \n",
       "\n",
       "[2 rows x 30 columns]"
      ]
     },
     "execution_count": 2,
     "metadata": {},
     "output_type": "execute_result"
    }
   ],
   "source": [
    "# Creates query to download hex bins\n",
    "\n",
    "city = 'Aguascalientes'\n",
    "\n",
    "schema_hex = 'prox_analysis'\n",
    "table_hex = 'hex8_15_min'\n",
    "\n",
    "query = f\"SELECT * FROM {schema_hex}.{table_hex} WHERE \\\"city\\\" LIKE '{city}'\"\n",
    "hex_gdf = aup.gdf_from_query(query, geometry_col=\"geometry\")\n",
    "\n",
    "print(hex_gdf.shape)\n",
    "hex_gdf.head(2)"
   ]
  },
  {
   "cell_type": "code",
   "execution_count": 3,
   "id": "23240369",
   "metadata": {},
   "outputs": [],
   "source": [
    "hex_gdf['max_idx_15_min'] = hex_gdf[['max_escuelas','max_servicios comunitarios',\n",
    "                                   'max_comercio','max_entretenimiento']].max(axis=1)"
   ]
  },
  {
   "cell_type": "code",
   "execution_count": 4,
   "id": "a19d8fa9-2b95-4af4-a13b-cace1da0a1cb",
   "metadata": {},
   "outputs": [
    {
     "data": {
      "text/plain": [
       "<AxesSubplot:>"
      ]
     },
     "execution_count": 4,
     "metadata": {},
     "output_type": "execute_result"
    },
    {
     "data": {
      "image/png": "[encoded data removed]",
      "text/plain": [
       "<Figure size 432x288 with 1 Axes>"
      ]
     },
     "metadata": {
      "needs_background": "light"
     },
     "output_type": "display_data"
    }
   ],
   "source": [
    "hex_gdf.plot('max_idx_15_min')"
   ]
  },
  {
   "cell_type": "markdown",
   "id": "8c5676d4-7e98-4351-a4a8-a2aa3cf52095",
   "metadata": {},
   "source": [
    "## Create Kepler"
   ]
  },
  {
   "cell_type": "markdown",
   "id": "90fd28be",
   "metadata": {},
   "source": [
    "### Data treatment"
   ]
  },
  {
   "cell_type": "code",
   "execution_count": 5,
   "id": "18fd0a8e",
   "metadata": {},
   "outputs": [],
   "source": [
    "columns_kepler = ['max_idx_15_min', 'max_escuelas', 'max_servicios comunitarios',\n",
    "                      'max_comercio', 'max_entretenimiento','pobtot',\n",
    "                  'dens_pobha','pobfem','pobmas','pob_0a14',\n",
    "                      'pob_15a24', 'pob_25a59','p_60ymas']\n",
    "for c in columns_kepler:\n",
    "    if c == 'dens_pobha':\n",
    "        hex_gdf[c] = hex_gdf[c].round(2)\n",
    "        hex_gdf[c] = hex_gdf[c].astype(str) + ' (pob/ha)'\n",
    "    else:\n",
    "        hex_gdf[c] = hex_gdf[c].round().astype(int)\n",
    "        \n",
    "        if c != 'max_idx_15_min':\n",
    "            \n",
    "            if 'max' in c:\n",
    "                hex_gdf[c] = hex_gdf[c].astype(str) + ' min'\n",
    "            else:\n",
    "                hex_gdf[c] = hex_gdf[c].astype(str)"
   ]
  },
  {
   "cell_type": "code",
   "execution_count": 6,
   "id": "35b969dc",
   "metadata": {},
   "outputs": [],
   "source": [
    "rename_columns = {'max_escuelas':'Tiempo a escuelas',\n",
    "                  'max_servicios comunitarios':'Tiempo a servicios comunitarios',\n",
    "                  'max_comercio':'Tiempo a comercio',\n",
    "                  'max_entretenimiento':'Tiempo a entretenimiento',\n",
    "                  'pobtot':'Población total',\n",
    "                  'dens_pobha':'Densidad de población',\n",
    "                  'pobfem':'Población femenina',\n",
    "                  'pobmas':'Población masculina',\n",
    "                  'pob_0a14':'Población de 0 a 14 años',\n",
    "                  'pob_15a24':'Población de 15 a 24 años',\n",
    "                  'pob_25a59':'Población de 25 a 59 años',\n",
    "                'p_60ymas':'Población de 60 años y más'}"
   ]
  },
  {
   "cell_type": "markdown",
   "id": "3cc3918c",
   "metadata": {},
   "source": [
    "### Missing amenity"
   ]
  },
  {
   "cell_type": "code",
   "execution_count": 7,
   "id": "8017570f",
   "metadata": {},
   "outputs": [],
   "source": [
    "lista_amenidades = ['max_preescolar','max_primaria',\n",
    "                    'max_secundaria','max_salud','max_guarderías',\n",
    "                    'max_asistencia social','max_alimentos','max_personal',\n",
    "                    'max_farmacias','max_hogar','max_complementarios','max_social',\n",
    "                    'max_actividad física', 'max_cultural']\n",
    "\n",
    "missing_column_name = 'Equipamiento/servicio prioritario'\n",
    "\n",
    "hex_gdf[missing_column_name] = 'No aplica'\n",
    "\n",
    "idx = hex_gdf['max_idx_15_min']>15\n",
    "hex_gdf.loc[idx,missing_column_name] = hex_gdf[lista_amenidades].idxmax(axis=1)"
   ]
  },
  {
   "cell_type": "code",
   "execution_count": 8,
   "id": "33e27af8",
   "metadata": {},
   "outputs": [],
   "source": [
    "def missing_amenity(amenity_code):\n",
    "    dict_names = {'max_preescolar':'Preescolar',\n",
    "                 'max_primaria':'Primaria',\n",
    "                 'max_secundaria':'Secundaria',\n",
    "                  'max_guarderías':'Guardería',\n",
    "                 'max_salud':'Salud - primer contacto',\n",
    "                 'max_asistencia social':'Centro de asistencia social',\n",
    "                 'max_alimentos':'Comercio de productos alimenticios',\n",
    "                 'max_personal':'Comercio para el cuidado personal',\n",
    "                 'max_farmacias':'Farmacia',\n",
    "                 'max_hogar':'Comercio de artículos para el hogar',\n",
    "                 'max_complementario':'Comercio barrial complementario',\n",
    "                 'max_social':'Espacios de esparcimiento social',\n",
    "                 'max_actividad física':'Espacios para la actividad física',\n",
    "                 'max_cultural':'Espacios de esparcimiento cultural',\n",
    "                 'No aplica':'No aplica'}\n",
    "    return dict_names[amenity_code]"
   ]
  },
  {
   "cell_type": "markdown",
   "id": "74e19d35",
   "metadata": {},
   "source": [
    "### Create configuration"
   ]
  },
  {
   "cell_type": "code",
   "execution_count": 9,
   "id": "96bc34e6",
   "metadata": {},
   "outputs": [],
   "source": [
    "column = 'max_idx_15_min'\n",
    "\n",
    "config,config_idx = aup.hex_config()\n",
    "\n",
    "_name = 'Tiempo máximo a todos los servicios'\n",
    "#_name = 'max_idx_15_min_2'\n",
    "\n",
    "hex_gdf[_name] = hex_gdf[column].astype(str) + ' min'\n",
    "\n",
    "bins = [0, 15, 30, 45, 60, hex_gdf[column].max()]\n",
    "labels = ['0-15', '15-30', '30-45', '45-60', '60>']\n",
    "hex_gdf[f'bins_{column}'] = pd.cut(\n",
    "    hex_gdf[column], bins=bins, labels=labels, include_lowest=True)\n",
    "\n",
    "config[\"config\"][\"visState\"][\"layers\"][0][\"visualChannels\"][\"colorField\"][\n",
    "    \"name\"\n",
    "] = f'bins_{column}'\n",
    "\n",
    "config[\"config\"][\"visState\"][\"interactionConfig\"][\"tooltip\"][\"fieldsToShow\"][\n",
    "    \"Análisis de hexágono\"] = [_name, 'Tiempo a escuelas',\n",
    "                  'Tiempo a servicios comunitarios','Tiempo a comercio',\n",
    "                  'Tiempo a entretenimiento','           ',\n",
    "                               'Población total','Densidad de población',\n",
    "                               'Población femenina','Población masculina',\n",
    "                               'Población de 0 a 14 años',\n",
    "                               'Población de 15 a 24 años',\n",
    "                               'Población de 25 a 59 años',\n",
    "                               'Población de 60 años y más','            ',\n",
    "                              missing_column_name]\n",
    "\n",
    "#config[\"config\"][\"visState\"][\"interactionConfig\"][\"tooltip\"][\"fieldsToShow\"][\n",
    "#    \"datos\"]= [_name, 'max_escuelas', 'pobtot']"
   ]
  },
  {
   "cell_type": "code",
   "execution_count": 10,
   "id": "c5d867b7",
   "metadata": {},
   "outputs": [],
   "source": [
    "hex_kepler = hex_gdf[[_name, 'max_escuelas', 'max_servicios comunitarios',\n",
    "                      'max_comercio', 'max_entretenimiento','pobtot',\n",
    "                      'dens_pobha','pobfem','pobmas','pob_0a14',\n",
    "                      'pob_15a24', 'pob_25a59','p_60ymas',missing_column_name,\n",
    "                      'geometry',f'bins_{column}']] # .copy().to_json()"
   ]
  },
  {
   "cell_type": "code",
   "execution_count": 11,
   "id": "ffd23ae0",
   "metadata": {
    "scrolled": true
   },
   "outputs": [
    {
     "name": "stderr",
     "output_type": "stream",
     "text": [
      "/tmp/ipykernel_47785/1188379886.py:2: SettingWithCopyWarning: \n",
      "A value is trying to be set on a copy of a slice from a DataFrame\n",
      "\n",
      "See the caveats in the documentation: https://pandas.pydata.org/pandas-docs/stable/user_guide/indexing.html#returning-a-view-versus-a-copy\n",
      "  hex_kepler.rename(columns={c : rename_columns[c]}, inplace=True)\n",
      "/tmp/ipykernel_47785/1188379886.py:2: SettingWithCopyWarning: \n",
      "A value is trying to be set on a copy of a slice from a DataFrame\n",
      "\n",
      "See the caveats in the documentation: https://pandas.pydata.org/pandas-docs/stable/user_guide/indexing.html#returning-a-view-versus-a-copy\n",
      "  hex_kepler.rename(columns={c : rename_columns[c]}, inplace=True)\n",
      "/tmp/ipykernel_47785/1188379886.py:2: SettingWithCopyWarning: \n",
      "A value is trying to be set on a copy of a slice from a DataFrame\n",
      "\n",
      "See the caveats in the documentation: https://pandas.pydata.org/pandas-docs/stable/user_guide/indexing.html#returning-a-view-versus-a-copy\n",
      "  hex_kepler.rename(columns={c : rename_columns[c]}, inplace=True)\n",
      "/tmp/ipykernel_47785/1188379886.py:2: SettingWithCopyWarning: \n",
      "A value is trying to be set on a copy of a slice from a DataFrame\n",
      "\n",
      "See the caveats in the documentation: https://pandas.pydata.org/pandas-docs/stable/user_guide/indexing.html#returning-a-view-versus-a-copy\n",
      "  hex_kepler.rename(columns={c : rename_columns[c]}, inplace=True)\n",
      "/tmp/ipykernel_47785/1188379886.py:2: SettingWithCopyWarning: \n",
      "A value is trying to be set on a copy of a slice from a DataFrame\n",
      "\n",
      "See the caveats in the documentation: https://pandas.pydata.org/pandas-docs/stable/user_guide/indexing.html#returning-a-view-versus-a-copy\n",
      "  hex_kepler.rename(columns={c : rename_columns[c]}, inplace=True)\n",
      "/tmp/ipykernel_47785/1188379886.py:2: SettingWithCopyWarning: \n",
      "A value is trying to be set on a copy of a slice from a DataFrame\n",
      "\n",
      "See the caveats in the documentation: https://pandas.pydata.org/pandas-docs/stable/user_guide/indexing.html#returning-a-view-versus-a-copy\n",
      "  hex_kepler.rename(columns={c : rename_columns[c]}, inplace=True)\n",
      "/tmp/ipykernel_47785/1188379886.py:2: SettingWithCopyWarning: \n",
      "A value is trying to be set on a copy of a slice from a DataFrame\n",
      "\n",
      "See the caveats in the documentation: https://pandas.pydata.org/pandas-docs/stable/user_guide/indexing.html#returning-a-view-versus-a-copy\n",
      "  hex_kepler.rename(columns={c : rename_columns[c]}, inplace=True)\n",
      "/tmp/ipykernel_47785/1188379886.py:2: SettingWithCopyWarning: \n",
      "A value is trying to be set on a copy of a slice from a DataFrame\n",
      "\n",
      "See the caveats in the documentation: https://pandas.pydata.org/pandas-docs/stable/user_guide/indexing.html#returning-a-view-versus-a-copy\n",
      "  hex_kepler.rename(columns={c : rename_columns[c]}, inplace=True)\n",
      "/tmp/ipykernel_47785/1188379886.py:2: SettingWithCopyWarning: \n",
      "A value is trying to be set on a copy of a slice from a DataFrame\n",
      "\n",
      "See the caveats in the documentation: https://pandas.pydata.org/pandas-docs/stable/user_guide/indexing.html#returning-a-view-versus-a-copy\n",
      "  hex_kepler.rename(columns={c : rename_columns[c]}, inplace=True)\n",
      "/tmp/ipykernel_47785/1188379886.py:2: SettingWithCopyWarning: \n",
      "A value is trying to be set on a copy of a slice from a DataFrame\n",
      "\n",
      "See the caveats in the documentation: https://pandas.pydata.org/pandas-docs/stable/user_guide/indexing.html#returning-a-view-versus-a-copy\n",
      "  hex_kepler.rename(columns={c : rename_columns[c]}, inplace=True)\n",
      "/tmp/ipykernel_47785/1188379886.py:2: SettingWithCopyWarning: \n",
      "A value is trying to be set on a copy of a slice from a DataFrame\n",
      "\n",
      "See the caveats in the documentation: https://pandas.pydata.org/pandas-docs/stable/user_guide/indexing.html#returning-a-view-versus-a-copy\n",
      "  hex_kepler.rename(columns={c : rename_columns[c]}, inplace=True)\n",
      "/tmp/ipykernel_47785/1188379886.py:2: SettingWithCopyWarning: \n",
      "A value is trying to be set on a copy of a slice from a DataFrame\n",
      "\n",
      "See the caveats in the documentation: https://pandas.pydata.org/pandas-docs/stable/user_guide/indexing.html#returning-a-view-versus-a-copy\n",
      "  hex_kepler.rename(columns={c : rename_columns[c]}, inplace=True)\n"
     ]
    }
   ],
   "source": [
    "for c in rename_columns.keys():\n",
    "    hex_kepler.rename(columns={c : rename_columns[c]}, inplace=True)"
   ]
  },
  {
   "cell_type": "code",
   "execution_count": 12,
   "id": "a201d0ad",
   "metadata": {},
   "outputs": [
    {
     "name": "stderr",
     "output_type": "stream",
     "text": [
      "/home/vscode/anaconda3/envs/odc/lib/python3.10/site-packages/geopandas/geodataframe.py:1443: SettingWithCopyWarning: \n",
      "A value is trying to be set on a copy of a slice from a DataFrame.\n",
      "Try using .loc[row_indexer,col_indexer] = value instead\n",
      "\n",
      "See the caveats in the documentation: https://pandas.pydata.org/pandas-docs/stable/user_guide/indexing.html#returning-a-view-versus-a-copy\n",
      "  super().__setitem__(key, value)\n"
     ]
    }
   ],
   "source": [
    "hex_kepler[missing_column_name] = hex_kepler[missing_column_name].apply(missing_amenity)"
   ]
  },
  {
   "cell_type": "code",
   "execution_count": 13,
   "id": "8e079325",
   "metadata": {},
   "outputs": [
    {
     "name": "stderr",
     "output_type": "stream",
     "text": [
      "/home/vscode/anaconda3/envs/odc/lib/python3.10/site-packages/geopandas/geodataframe.py:1443: SettingWithCopyWarning: \n",
      "A value is trying to be set on a copy of a slice from a DataFrame.\n",
      "Try using .loc[row_indexer,col_indexer] = value instead\n",
      "\n",
      "See the caveats in the documentation: https://pandas.pydata.org/pandas-docs/stable/user_guide/indexing.html#returning-a-view-versus-a-copy\n",
      "  super().__setitem__(key, value)\n",
      "/home/vscode/anaconda3/envs/odc/lib/python3.10/site-packages/geopandas/geodataframe.py:1443: SettingWithCopyWarning: \n",
      "A value is trying to be set on a copy of a slice from a DataFrame.\n",
      "Try using .loc[row_indexer,col_indexer] = value instead\n",
      "\n",
      "See the caveats in the documentation: https://pandas.pydata.org/pandas-docs/stable/user_guide/indexing.html#returning-a-view-versus-a-copy\n",
      "  super().__setitem__(key, value)\n"
     ]
    }
   ],
   "source": [
    "hex_kepler['           '] = '         '\n",
    "hex_kepler['            '] = '          '"
   ]
  },
  {
   "cell_type": "code",
   "execution_count": 14,
   "id": "17dc8b0b",
   "metadata": {},
   "outputs": [
    {
     "data": {
      "text/html": [
       "<div>\n",
       "<style scoped>\n",
       "    .dataframe tbody tr th:only-of-type {\n",
       "        vertical-align: middle;\n",
       "    }\n",
       "\n",
       "    .dataframe tbody tr th {\n",
       "        vertical-align: top;\n",
       "    }\n",
       "\n",
       "    .dataframe thead th {\n",
       "        text-align: right;\n",
       "    }\n",
       "</style>\n",
       "<table border=\"1\" class=\"dataframe\">\n",
       "  <thead>\n",
       "    <tr style=\"text-align: right;\">\n",
       "      <th></th>\n",
       "      <th>Tiempo máximo a todos los servicios</th>\n",
       "      <th>Tiempo a escuelas</th>\n",
       "      <th>Tiempo a servicios comunitarios</th>\n",
       "      <th>Tiempo a comercio</th>\n",
       "      <th>Tiempo a entretenimiento</th>\n",
       "      <th>Población total</th>\n",
       "      <th>Densidad de población</th>\n",
       "      <th>Población femenina</th>\n",
       "      <th>Población masculina</th>\n",
       "      <th>Población de 0 a 14 años</th>\n",
       "      <th>Población de 15 a 24 años</th>\n",
       "      <th>Población de 25 a 59 años</th>\n",
       "      <th>Población de 60 años y más</th>\n",
       "      <th>Equipamiento/servicios prioritario</th>\n",
       "      <th>geometry</th>\n",
       "      <th>bins_max_idx_15_min</th>\n",
       "      <th></th>\n",
       "      <th></th>\n",
       "    </tr>\n",
       "  </thead>\n",
       "  <tbody>\n",
       "    <tr>\n",
       "      <th>0</th>\n",
       "      <td>71 min</td>\n",
       "      <td>16 min</td>\n",
       "      <td>62 min</td>\n",
       "      <td>21 min</td>\n",
       "      <td>71 min</td>\n",
       "      <td>265</td>\n",
       "      <td>3.06 (pob/ha)</td>\n",
       "      <td>132</td>\n",
       "      <td>133</td>\n",
       "      <td>76</td>\n",
       "      <td>51</td>\n",
       "      <td>118</td>\n",
       "      <td>20</td>\n",
       "      <td>Espacios de esparcimiento cultural</td>\n",
       "      <td>POLYGON ((-102.34777 21.92336, -102.34267 21.9...</td>\n",
       "      <td>60&gt;</td>\n",
       "      <td></td>\n",
       "      <td></td>\n",
       "    </tr>\n",
       "    <tr>\n",
       "      <th>1</th>\n",
       "      <td>50 min</td>\n",
       "      <td>42 min</td>\n",
       "      <td>50 min</td>\n",
       "      <td>22 min</td>\n",
       "      <td>49 min</td>\n",
       "      <td>1041</td>\n",
       "      <td>12.05 (pob/ha)</td>\n",
       "      <td>542</td>\n",
       "      <td>499</td>\n",
       "      <td>143</td>\n",
       "      <td>171</td>\n",
       "      <td>498</td>\n",
       "      <td>228</td>\n",
       "      <td>Salud - primer contacto</td>\n",
       "      <td>POLYGON ((-102.32839 21.92505, -102.32329 21.9...</td>\n",
       "      <td>45-60</td>\n",
       "      <td></td>\n",
       "      <td></td>\n",
       "    </tr>\n",
       "    <tr>\n",
       "      <th>2</th>\n",
       "      <td>18 min</td>\n",
       "      <td>11 min</td>\n",
       "      <td>10 min</td>\n",
       "      <td>7 min</td>\n",
       "      <td>18 min</td>\n",
       "      <td>4794</td>\n",
       "      <td>55.49 (pob/ha)</td>\n",
       "      <td>2522</td>\n",
       "      <td>2272</td>\n",
       "      <td>718</td>\n",
       "      <td>723</td>\n",
       "      <td>2205</td>\n",
       "      <td>1146</td>\n",
       "      <td>Espacios de esparcimiento cultural</td>\n",
       "      <td>POLYGON ((-102.30350 21.86950, -102.30859 21.8...</td>\n",
       "      <td>15-30</td>\n",
       "      <td></td>\n",
       "      <td></td>\n",
       "    </tr>\n",
       "    <tr>\n",
       "      <th>3</th>\n",
       "      <td>39 min</td>\n",
       "      <td>26 min</td>\n",
       "      <td>15 min</td>\n",
       "      <td>9 min</td>\n",
       "      <td>39 min</td>\n",
       "      <td>7976</td>\n",
       "      <td>92.33 (pob/ha)</td>\n",
       "      <td>4130</td>\n",
       "      <td>3846</td>\n",
       "      <td>1672</td>\n",
       "      <td>1722</td>\n",
       "      <td>4047</td>\n",
       "      <td>528</td>\n",
       "      <td>Espacios de esparcimiento cultural</td>\n",
       "      <td>POLYGON ((-102.28403 21.92106, -102.27894 21.9...</td>\n",
       "      <td>30-45</td>\n",
       "      <td></td>\n",
       "      <td></td>\n",
       "    </tr>\n",
       "  </tbody>\n",
       "</table>\n",
       "</div>"
      ],
      "text/plain": [
       "  Tiempo máximo a todos los servicios Tiempo a escuelas  \\\n",
       "0                              71 min            16 min   \n",
       "1                              50 min            42 min   \n",
       "2                              18 min            11 min   \n",
       "3                              39 min            26 min   \n",
       "\n",
       "  Tiempo a servicios comunitarios Tiempo a comercio Tiempo a entretenimiento  \\\n",
       "0                          62 min            21 min                   71 min   \n",
       "1                          50 min            22 min                   49 min   \n",
       "2                          10 min             7 min                   18 min   \n",
       "3                          15 min             9 min                   39 min   \n",
       "\n",
       "  Población total Densidad de población Población femenina  \\\n",
       "0             265         3.06 (pob/ha)                132   \n",
       "1            1041        12.05 (pob/ha)                542   \n",
       "2            4794        55.49 (pob/ha)               2522   \n",
       "3            7976        92.33 (pob/ha)               4130   \n",
       "\n",
       "  Población masculina Población de 0 a 14 años Población de 15 a 24 años  \\\n",
       "0                 133                       76                        51   \n",
       "1                 499                      143                       171   \n",
       "2                2272                      718                       723   \n",
       "3                3846                     1672                      1722   \n",
       "\n",
       "  Población de 25 a 59 años Población de 60 años y más  \\\n",
       "0                       118                         20   \n",
       "1                       498                        228   \n",
       "2                      2205                       1146   \n",
       "3                      4047                        528   \n",
       "\n",
       "   Equipamiento/servicios prioritario  \\\n",
       "0  Espacios de esparcimiento cultural   \n",
       "1             Salud - primer contacto   \n",
       "2  Espacios de esparcimiento cultural   \n",
       "3  Espacios de esparcimiento cultural   \n",
       "\n",
       "                                            geometry bins_max_idx_15_min  \\\n",
       "0  POLYGON ((-102.34777 21.92336, -102.34267 21.9...                 60>   \n",
       "1  POLYGON ((-102.32839 21.92505, -102.32329 21.9...               45-60   \n",
       "2  POLYGON ((-102.30350 21.86950, -102.30859 21.8...               15-30   \n",
       "3  POLYGON ((-102.28403 21.92106, -102.27894 21.9...               30-45   \n",
       "\n",
       "                            \n",
       "0                           \n",
       "1                           \n",
       "2                           \n",
       "3                           "
      ]
     },
     "execution_count": 14,
     "metadata": {},
     "output_type": "execute_result"
    }
   ],
   "source": [
    "hex_kepler.head(4)"
   ]
  },
  {
   "cell_type": "code",
   "execution_count": 15,
   "id": "66aa7fdc-ad73-4553-bcad-9cf3754ffd6e",
   "metadata": {
    "jupyter": {
     "outputs_hidden": true
    },
    "tags": []
   },
   "outputs": [
    {
     "name": "stdout",
     "output_type": "stream",
     "text": [
      "User Guide: https://docs.kepler.gl/docs/keplergl-jupyter\n",
      "Map saved to temp.html!\n"
     ]
    },
    {
     "name": "stderr",
     "output_type": "stream",
     "text": [
      "/tmp/ipykernel_47785/2573396239.py:2: UserWarning: Geometry is in a geographic CRS. Results from 'centroid' are likely incorrect. Use 'GeoSeries.to_crs()' to re-project geometries to a projected CRS before this operation.\n",
      "\n",
      "  longitude = hex_gdf.dissolve().geometry.centroid.x\n",
      "/tmp/ipykernel_47785/2573396239.py:3: UserWarning: Geometry is in a geographic CRS. Results from 'centroid' are likely incorrect. Use 'GeoSeries.to_crs()' to re-project geometries to a projected CRS before this operation.\n",
      "\n",
      "  latitude = hex_gdf.dissolve().geometry.centroid.y\n"
     ]
    }
   ],
   "source": [
    "# hex_gdf[\"d\"] = 0\n",
    "longitude = hex_gdf.dissolve().geometry.centroid.x\n",
    "latitude = hex_gdf.dissolve().geometry.centroid.y\n",
    "config[\"config\"][\"mapState\"][\"latitude\"] = latitude[0]\n",
    "config[\"config\"][\"mapState\"][\"longitude\"] = longitude[0]\n",
    "# session = boto3.Session(profile_name=\"observatorio\")\n",
    "# dev_s3_client = session.client(\"s3\")\n",
    "# map_city = KeplerGl(height=800, data={\"Análisis de ciudad\": hex_kepler}, config=config_idx)\n",
    "map_city = KeplerGl(height=800)\n",
    "map_city.config = config\n",
    "map_city.add_data(hex_kepler, name='Análisis de hexágono')\n",
    "map_city.save_to_html(file_name=\"temp.html\", read_only=False)"
   ]
  },
  {
   "cell_type": "code",
   "execution_count": null,
   "id": "45741744",
   "metadata": {},
   "outputs": [],
   "source": []
  }
 ],
 "metadata": {
  "kernelspec": {
   "display_name": "Python 3 (ipykernel)",
   "language": "python",
   "name": "python3"
  },
  "language_info": {
   "codemirror_mode": {
    "name": "ipython",
    "version": 3
   },
   "file_extension": ".py",
   "mimetype": "text/x-python",
   "name": "python",
   "nbconvert_exporter": "python",
   "pygments_lexer": "ipython3",
   "version": "3.10.4"
  }
 },
 "nbformat": 4,
 "nbformat_minor": 5
}
