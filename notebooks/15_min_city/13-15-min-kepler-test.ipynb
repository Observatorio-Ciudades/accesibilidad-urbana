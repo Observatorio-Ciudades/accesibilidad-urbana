{
 "cells": [
  {
   "cell_type": "markdown",
   "id": "ebab0537-b7f8-4f1c-936b-6b92de977eaf",
   "metadata": {},
   "source": [
    "# Test Kepler"
   ]
  },
  {
   "cell_type": "markdown",
   "id": "7b3d912f-fc4f-49d2-9c98-7034aa552f6b",
   "metadata": {},
   "source": [
    "Notebook that test Kepler construction for 15 minute cities visualizations"
   ]
  },
  {
   "cell_type": "markdown",
   "id": "23f9fbfc-b830-49cb-96c3-c856c2e2c04d",
   "metadata": {},
   "source": [
    "## Import modules"
   ]
  },
  {
   "cell_type": "code",
   "execution_count": 1,
   "id": "a8b23a85-4e44-4a73-a113-44fbdf9369ad",
   "metadata": {},
   "outputs": [
    {
     "name": "stderr",
     "output_type": "stream",
     "text": [
      "/home/edgaregurrola/Repos/observatorio-ciudades/accesibilidad-urbana/aup/data.py:24: FutureWarning: The `utils.config` function is deprecated and will be removed in the v2.0.0 release. Instead, use the `settings` module directly to configure a global setting's value. For example, `ox.settings.log_console=True`. See the OSMnx v2 migration guide: https://github.com/gboeing/osmnx/issues/1123\n",
      "  ox.config(\n"
     ]
    }
   ],
   "source": [
    "import io\n",
    "import os\n",
    "import sys\n",
    "\n",
    "import boto3\n",
    "import geopandas as gpd\n",
    "import pandas as pd\n",
    "from keplergl import KeplerGl\n",
    "\n",
    "module_path = os.path.abspath(os.path.join(\"../../\"))\n",
    "if module_path not in sys.path:\n",
    "    sys.path.append(module_path)\n",
    "    import aup"
   ]
  },
  {
   "cell_type": "markdown",
   "id": "8f74e558-be48-436e-99a3-e9bb9235e53e",
   "metadata": {},
   "source": [
    "## Download hexagons with time data"
   ]
  },
  {
   "cell_type": "code",
   "execution_count": 20,
   "id": "b50c59f0-d2ed-45b8-82c6-cfccee041d25",
   "metadata": {
    "scrolled": true
   },
   "outputs": [
    {
     "name": "stdout",
     "output_type": "stream",
     "text": [
      "(202, 30)\n"
     ]
    },
    {
     "data": {
      "text/html": [
       "<div>\n",
       "<style scoped>\n",
       "    .dataframe tbody tr th:only-of-type {\n",
       "        vertical-align: middle;\n",
       "    }\n",
       "\n",
       "    .dataframe tbody tr th {\n",
       "        vertical-align: top;\n",
       "    }\n",
       "\n",
       "    .dataframe thead th {\n",
       "        text-align: right;\n",
       "    }\n",
       "</style>\n",
       "<table border=\"1\" class=\"dataframe\">\n",
       "  <thead>\n",
       "    <tr style=\"text-align: right;\">\n",
       "      <th></th>\n",
       "      <th>hex_id_8</th>\n",
       "      <th>geometry</th>\n",
       "      <th>max_escuelas</th>\n",
       "      <th>max_preescolar</th>\n",
       "      <th>max_primaria</th>\n",
       "      <th>max_secundaria</th>\n",
       "      <th>max_servicios comunitarios</th>\n",
       "      <th>max_salud</th>\n",
       "      <th>max_guarderías</th>\n",
       "      <th>max_asistencia social</th>\n",
       "      <th>...</th>\n",
       "      <th>max_idx_15_min</th>\n",
       "      <th>pobtot</th>\n",
       "      <th>pobfem</th>\n",
       "      <th>pobmas</th>\n",
       "      <th>pob_0a14</th>\n",
       "      <th>pob_15a24</th>\n",
       "      <th>pob_25a59</th>\n",
       "      <th>p_60ymas</th>\n",
       "      <th>dens_pobha</th>\n",
       "      <th>city</th>\n",
       "    </tr>\n",
       "  </thead>\n",
       "  <tbody>\n",
       "    <tr>\n",
       "      <th>0</th>\n",
       "      <td>8848146a4bfffff</td>\n",
       "      <td>POLYGON ((-104.59028 24.08382, -104.59553 24.0...</td>\n",
       "      <td>25.086188</td>\n",
       "      <td>17.712641</td>\n",
       "      <td>17.689923</td>\n",
       "      <td>25.086188</td>\n",
       "      <td>35.733797</td>\n",
       "      <td>35.733797</td>\n",
       "      <td>23.278674</td>\n",
       "      <td>32.533556</td>\n",
       "      <td>...</td>\n",
       "      <td>84.421535</td>\n",
       "      <td>277.5786</td>\n",
       "      <td>18.55975</td>\n",
       "      <td>259.01886</td>\n",
       "      <td>0.245283</td>\n",
       "      <td>43.98742</td>\n",
       "      <td>225.251561</td>\n",
       "      <td>7.930819</td>\n",
       "      <td>3.177351</td>\n",
       "      <td>Durango</td>\n",
       "    </tr>\n",
       "    <tr>\n",
       "      <th>1</th>\n",
       "      <td>8848147a95fffff</td>\n",
       "      <td>POLYGON ((-104.65039 23.99868, -104.64575 24.0...</td>\n",
       "      <td>13.562505</td>\n",
       "      <td>5.702732</td>\n",
       "      <td>7.232213</td>\n",
       "      <td>13.562505</td>\n",
       "      <td>22.475627</td>\n",
       "      <td>22.475627</td>\n",
       "      <td>6.592848</td>\n",
       "      <td>8.606327</td>\n",
       "      <td>...</td>\n",
       "      <td>22.475627</td>\n",
       "      <td>7832.8945</td>\n",
       "      <td>4117.07280</td>\n",
       "      <td>3715.82060</td>\n",
       "      <td>1555.242970</td>\n",
       "      <td>1321.00220</td>\n",
       "      <td>3805.691260</td>\n",
       "      <td>1148.876200</td>\n",
       "      <td>89.653129</td>\n",
       "      <td>Durango</td>\n",
       "    </tr>\n",
       "  </tbody>\n",
       "</table>\n",
       "<p>2 rows × 30 columns</p>\n",
       "</div>"
      ],
      "text/plain": [
       "          hex_id_8                                           geometry  \\\n",
       "0  8848146a4bfffff  POLYGON ((-104.59028 24.08382, -104.59553 24.0...   \n",
       "1  8848147a95fffff  POLYGON ((-104.65039 23.99868, -104.64575 24.0...   \n",
       "\n",
       "   max_escuelas  max_preescolar  max_primaria  max_secundaria  \\\n",
       "0     25.086188       17.712641     17.689923       25.086188   \n",
       "1     13.562505        5.702732      7.232213       13.562505   \n",
       "\n",
       "   max_servicios comunitarios  max_salud  max_guarderías  \\\n",
       "0                   35.733797  35.733797       23.278674   \n",
       "1                   22.475627  22.475627        6.592848   \n",
       "\n",
       "   max_asistencia social  ...  max_idx_15_min     pobtot      pobfem  \\\n",
       "0              32.533556  ...       84.421535   277.5786    18.55975   \n",
       "1               8.606327  ...       22.475627  7832.8945  4117.07280   \n",
       "\n",
       "       pobmas     pob_0a14   pob_15a24    pob_25a59     p_60ymas  dens_pobha  \\\n",
       "0   259.01886     0.245283    43.98742   225.251561     7.930819    3.177351   \n",
       "1  3715.82060  1555.242970  1321.00220  3805.691260  1148.876200   89.653129   \n",
       "\n",
       "      city  \n",
       "0  Durango  \n",
       "1  Durango  \n",
       "\n",
       "[2 rows x 30 columns]"
      ]
     },
     "execution_count": 20,
     "metadata": {},
     "output_type": "execute_result"
    }
   ],
   "source": [
    "# Creates query to download hex bins\n",
    "\n",
    "city = 'Durango'\n",
    "\n",
    "schema_hex = 'prox_analysis'\n",
    "table_hex = 'time_15_min_analysis_hexres8'\n",
    "\n",
    "query = f\"SELECT * FROM {schema_hex}.{table_hex} WHERE \\\"city\\\" = '{city}'\"\n",
    "hex_gdf = aup.gdf_from_query(query, geometry_col=\"geometry\")\n",
    "\n",
    "print(hex_gdf.shape)\n",
    "hex_gdf.head(2)"
   ]
  },
  {
   "cell_type": "code",
   "execution_count": 21,
   "id": "23240369",
   "metadata": {},
   "outputs": [],
   "source": [
    "hex_gdf['max_idx_15_min'] = hex_gdf[['max_escuelas','max_servicios comunitarios',\n",
    "                                   'max_comercio','max_entretenimiento']].max(axis=1)"
   ]
  },
  {
   "cell_type": "code",
   "execution_count": 22,
   "id": "a19d8fa9-2b95-4af4-a13b-cace1da0a1cb",
   "metadata": {},
   "outputs": [
    {
     "data": {
      "text/plain": [
       "<Axes: >"
      ]
     },
     "execution_count": 22,
     "metadata": {},
     "output_type": "execute_result"
    },
    {
     "data": {
      "image/png": "[encoded data removed]",
      "text/plain": [
       "<Figure size 640x480 with 1 Axes>"
      ]
     },
     "metadata": {},
     "output_type": "display_data"
    }
   ],
   "source": [
    "hex_gdf.plot('max_idx_15_min')"
   ]
  },
  {
   "cell_type": "markdown",
   "id": "8c5676d4-7e98-4351-a4a8-a2aa3cf52095",
   "metadata": {},
   "source": [
    "## Create Kepler"
   ]
  },
  {
   "cell_type": "markdown",
   "id": "90fd28be",
   "metadata": {},
   "source": [
    "### Data treatment"
   ]
  },
  {
   "cell_type": "code",
   "execution_count": 23,
   "id": "18fd0a8e",
   "metadata": {},
   "outputs": [],
   "source": [
    "columns_kepler = ['max_idx_15_min', 'max_escuelas', 'max_servicios comunitarios',\n",
    "                      'max_comercio', 'max_entretenimiento','pobtot',\n",
    "                  'dens_pobha','pobfem','pobmas','pob_0a14',\n",
    "                      'pob_15a24', 'pob_25a59','p_60ymas']\n",
    "for c in columns_kepler:\n",
    "    if c == 'dens_pobha':\n",
    "        hex_gdf[c] = hex_gdf[c].round(2)\n",
    "        hex_gdf[c] = hex_gdf[c].astype(str) + ' (pob/ha)'\n",
    "    else:\n",
    "        hex_gdf[c] = hex_gdf[c].round().astype(int)\n",
    "        \n",
    "        if c != 'max_idx_15_min':\n",
    "            \n",
    "            if 'max' in c:\n",
    "                hex_gdf[c] = hex_gdf[c].astype(str) + ' min'\n",
    "            else:\n",
    "                hex_gdf[c] = hex_gdf[c].astype(str)"
   ]
  },
  {
   "cell_type": "code",
   "execution_count": 24,
   "id": "35b969dc",
   "metadata": {},
   "outputs": [],
   "source": [
    "rename_columns = {'max_escuelas':'Tiempo a escuelas',\n",
    "                  'max_servicios comunitarios':'Tiempo a servicios comunitarios',\n",
    "                  'max_comercio':'Tiempo a comercio',\n",
    "                  'max_entretenimiento':'Tiempo a entretenimiento',\n",
    "                  'pobtot':'Población total',\n",
    "                  'dens_pobha':'Densidad de población',\n",
    "                  'pobfem':'Población femenina',\n",
    "                  'pobmas':'Población masculina',\n",
    "                  'pob_0a14':'Población de 0 a 14 años',\n",
    "                  'pob_15a24':'Población de 15 a 24 años',\n",
    "                  'pob_25a59':'Población de 25 a 59 años',\n",
    "                'p_60ymas':'Población de 60 años y más'}"
   ]
  },
  {
   "cell_type": "markdown",
   "id": "3cc3918c",
   "metadata": {},
   "source": [
    "### Missing amenity"
   ]
  },
  {
   "cell_type": "code",
   "execution_count": 25,
   "id": "8017570f",
   "metadata": {},
   "outputs": [],
   "source": [
    "lista_amenidades = ['max_preescolar','max_primaria',\n",
    "                    'max_secundaria','max_salud','max_guarderías',\n",
    "                    'max_asistencia social','max_alimentos','max_personal',\n",
    "                    'max_farmacias','max_hogar','max_complementarios','max_social',\n",
    "                    'max_actividad física', 'max_cultural']\n",
    "\n",
    "missing_column_name = 'Equipamiento/servicio prioritario'\n",
    "\n",
    "hex_gdf[missing_column_name] = 'No aplica'\n",
    "\n",
    "idx = hex_gdf['max_idx_15_min']>15\n",
    "hex_gdf.loc[idx,missing_column_name] = hex_gdf[lista_amenidades].idxmax(axis=1)"
   ]
  },
  {
   "cell_type": "code",
   "execution_count": 26,
   "id": "33e27af8",
   "metadata": {},
   "outputs": [],
   "source": [
    "def missing_amenity(amenity_code):\n",
    "    dict_names = {'max_preescolar':'Preescolar',\n",
    "                 'max_primaria':'Primaria',\n",
    "                 'max_secundaria':'Secundaria',\n",
    "                  'max_guarderías':'Guardería',\n",
    "                 'max_salud':'Salud - primer contacto',\n",
    "                 'max_asistencia social':'Centro de asistencia social',\n",
    "                 'max_alimentos':'Comercio de productos alimenticios',\n",
    "                 'max_personal':'Comercio para el cuidado personal',\n",
    "                 'max_farmacias':'Farmacia',\n",
    "                 'max_hogar':'Comercio de artículos para el hogar',\n",
    "                 'max_complementario':'Comercio barrial complementario',\n",
    "                 'max_social':'Espacios de esparcimiento social',\n",
    "                 'max_actividad física':'Espacios para la actividad física',\n",
    "                 'max_cultural':'Espacios de esparcimiento cultural',\n",
    "                 'No aplica':'No aplica'}\n",
    "    return dict_names[amenity_code]"
   ]
  },
  {
   "cell_type": "markdown",
   "id": "74e19d35",
   "metadata": {},
   "source": [
    "### Create configuration"
   ]
  },
  {
   "cell_type": "code",
   "execution_count": 27,
   "id": "96bc34e6",
   "metadata": {},
   "outputs": [],
   "source": [
    "column = 'max_idx_15_min'\n",
    "\n",
    "config,config_idx = aup.kepler_config()\n",
    "\n",
    "_name = 'Tiempo máximo a todos los servicios'\n",
    "#_name = 'max_idx_15_min_2'\n",
    "\n",
    "hex_gdf[_name] = hex_gdf[column].astype(str) + ' min'\n",
    "\n",
    "bins = [0, 15, 30, 45, 60, hex_gdf[column].max()]\n",
    "labels = ['0-15', '15-30', '30-45', '45-60', '60>']\n",
    "hex_gdf[f'bins_{column}'] = pd.cut(\n",
    "    hex_gdf[column], bins=bins, labels=labels, include_lowest=True)\n",
    "\n",
    "config_idx[\"config\"][\"visState\"][\"layers\"][0][\"visualChannels\"][\"colorField\"][\n",
    "    \"name\"\n",
    "] = f'bins_{column}'\n",
    "\n",
    "config_idx[\"config\"][\"visState\"][\"interactionConfig\"][\"tooltip\"][\"fieldsToShow\"][\n",
    "    \"Análisis de hexágono\"] = [_name, 'Tiempo a escuelas',\n",
    "                  'Tiempo a servicios comunitarios','Tiempo a comercio',\n",
    "                  'Tiempo a entretenimiento','           ',\n",
    "                               'Población total','Densidad de población',\n",
    "                               'Población femenina','Población masculina',\n",
    "                               'Población de 0 a 14 años',\n",
    "                               'Población de 15 a 24 años',\n",
    "                               'Población de 25 a 59 años',\n",
    "                               'Población de 60 años y más','            ',\n",
    "                              missing_column_name]\n",
    "\n",
    "#config[\"config\"][\"visState\"][\"interactionConfig\"][\"tooltip\"][\"fieldsToShow\"][\n",
    "#    \"datos\"]= [_name, 'max_escuelas', 'pobtot']"
   ]
  },
  {
   "cell_type": "code",
   "execution_count": 28,
   "id": "4f7b6098-8062-4c64-98d3-1f056a96b063",
   "metadata": {},
   "outputs": [
    {
     "data": {
      "text/plain": [
       "['#2C51BE', '#7A0DA6', '#CF1750', '#FD7900', '#FAE300']"
      ]
     },
     "execution_count": 28,
     "metadata": {},
     "output_type": "execute_result"
    }
   ],
   "source": [
    "config_idx['config']['visState']['layers'][0]['config']['visConfig']['colorRange']['colors']"
   ]
  },
  {
   "cell_type": "code",
   "execution_count": 29,
   "id": "5c9e3f30-71ea-41d4-9f2c-39965e079bc1",
   "metadata": {},
   "outputs": [],
   "source": [
    "config_idx['config']['visState']['layers'][0]['config']['visConfig']['colorRange']['colors'] = ['#FCD998','#F9A56A','#EC5F8F','#8B3569','#242258']"
   ]
  },
  {
   "cell_type": "code",
   "execution_count": 30,
   "id": "696686a9-ef41-4d0f-80d9-4f45976b6bad",
   "metadata": {},
   "outputs": [
    {
     "data": {
      "text/plain": [
       "0.35"
      ]
     },
     "execution_count": 30,
     "metadata": {},
     "output_type": "execute_result"
    }
   ],
   "source": [
    "config_idx['config']['visState']['layers'][0]['config']['visConfig']['opacity']"
   ]
  },
  {
   "cell_type": "code",
   "execution_count": 31,
   "id": "09464ecb-4512-4acb-8e34-35b48436cba1",
   "metadata": {},
   "outputs": [],
   "source": [
    "config_idx['config']['visState']['layers'][0]['config']['visConfig']['opacity'] = 0.35"
   ]
  },
  {
   "cell_type": "code",
   "execution_count": 32,
   "id": "c5d867b7",
   "metadata": {},
   "outputs": [],
   "source": [
    "hex_kepler = hex_gdf[[_name, 'max_escuelas', 'max_servicios comunitarios',\n",
    "                      'max_comercio', 'max_entretenimiento','pobtot',\n",
    "                      'dens_pobha','pobfem','pobmas','pob_0a14',\n",
    "                      'pob_15a24', 'pob_25a59','p_60ymas',missing_column_name,\n",
    "                      'geometry',f'bins_{column}']] # .copy().to_json()"
   ]
  },
  {
   "cell_type": "code",
   "execution_count": 33,
   "id": "ffd23ae0",
   "metadata": {
    "scrolled": true
   },
   "outputs": [
    {
     "name": "stderr",
     "output_type": "stream",
     "text": [
      "/tmp/ipykernel_35022/1188379886.py:2: SettingWithCopyWarning: \n",
      "A value is trying to be set on a copy of a slice from a DataFrame\n",
      "\n",
      "See the caveats in the documentation: https://pandas.pydata.org/pandas-docs/stable/user_guide/indexing.html#returning-a-view-versus-a-copy\n",
      "  hex_kepler.rename(columns={c : rename_columns[c]}, inplace=True)\n"
     ]
    }
   ],
   "source": [
    "for c in rename_columns.keys():\n",
    "    hex_kepler.rename(columns={c : rename_columns[c]}, inplace=True)"
   ]
  },
  {
   "cell_type": "code",
   "execution_count": 34,
   "id": "a201d0ad",
   "metadata": {},
   "outputs": [
    {
     "name": "stderr",
     "output_type": "stream",
     "text": [
      "/home/edgaregurrola/.local/lib/python3.12/site-packages/geopandas/geodataframe.py:1819: SettingWithCopyWarning: \n",
      "A value is trying to be set on a copy of a slice from a DataFrame.\n",
      "Try using .loc[row_indexer,col_indexer] = value instead\n",
      "\n",
      "See the caveats in the documentation: https://pandas.pydata.org/pandas-docs/stable/user_guide/indexing.html#returning-a-view-versus-a-copy\n",
      "  super().__setitem__(key, value)\n"
     ]
    }
   ],
   "source": [
    "hex_kepler[missing_column_name] = hex_kepler[missing_column_name].apply(missing_amenity)"
   ]
  },
  {
   "cell_type": "code",
   "execution_count": 35,
   "id": "8e079325",
   "metadata": {},
   "outputs": [
    {
     "name": "stderr",
     "output_type": "stream",
     "text": [
      "/home/edgaregurrola/.local/lib/python3.12/site-packages/geopandas/geodataframe.py:1819: SettingWithCopyWarning: \n",
      "A value is trying to be set on a copy of a slice from a DataFrame.\n",
      "Try using .loc[row_indexer,col_indexer] = value instead\n",
      "\n",
      "See the caveats in the documentation: https://pandas.pydata.org/pandas-docs/stable/user_guide/indexing.html#returning-a-view-versus-a-copy\n",
      "  super().__setitem__(key, value)\n",
      "/home/edgaregurrola/.local/lib/python3.12/site-packages/geopandas/geodataframe.py:1819: SettingWithCopyWarning: \n",
      "A value is trying to be set on a copy of a slice from a DataFrame.\n",
      "Try using .loc[row_indexer,col_indexer] = value instead\n",
      "\n",
      "See the caveats in the documentation: https://pandas.pydata.org/pandas-docs/stable/user_guide/indexing.html#returning-a-view-versus-a-copy\n",
      "  super().__setitem__(key, value)\n"
     ]
    }
   ],
   "source": [
    "hex_kepler['           '] = '         '\n",
    "hex_kepler['            '] = '          '"
   ]
  },
  {
   "cell_type": "code",
   "execution_count": 36,
   "id": "17dc8b0b",
   "metadata": {},
   "outputs": [
    {
     "data": {
      "text/html": [
       "<div>\n",
       "<style scoped>\n",
       "    .dataframe tbody tr th:only-of-type {\n",
       "        vertical-align: middle;\n",
       "    }\n",
       "\n",
       "    .dataframe tbody tr th {\n",
       "        vertical-align: top;\n",
       "    }\n",
       "\n",
       "    .dataframe thead th {\n",
       "        text-align: right;\n",
       "    }\n",
       "</style>\n",
       "<table border=\"1\" class=\"dataframe\">\n",
       "  <thead>\n",
       "    <tr style=\"text-align: right;\">\n",
       "      <th></th>\n",
       "      <th>Tiempo máximo a todos los servicios</th>\n",
       "      <th>Tiempo a escuelas</th>\n",
       "      <th>Tiempo a servicios comunitarios</th>\n",
       "      <th>Tiempo a comercio</th>\n",
       "      <th>Tiempo a entretenimiento</th>\n",
       "      <th>Población total</th>\n",
       "      <th>Densidad de población</th>\n",
       "      <th>Población femenina</th>\n",
       "      <th>Población masculina</th>\n",
       "      <th>Población de 0 a 14 años</th>\n",
       "      <th>Población de 15 a 24 años</th>\n",
       "      <th>Población de 25 a 59 años</th>\n",
       "      <th>Población de 60 años y más</th>\n",
       "      <th>Equipamiento/servicio prioritario</th>\n",
       "      <th>geometry</th>\n",
       "      <th>bins_max_idx_15_min</th>\n",
       "      <th></th>\n",
       "      <th></th>\n",
       "    </tr>\n",
       "  </thead>\n",
       "  <tbody>\n",
       "    <tr>\n",
       "      <th>0</th>\n",
       "      <td>84 min</td>\n",
       "      <td>25 min</td>\n",
       "      <td>36 min</td>\n",
       "      <td>20 min</td>\n",
       "      <td>84 min</td>\n",
       "      <td>278</td>\n",
       "      <td>3.18 (pob/ha)</td>\n",
       "      <td>19</td>\n",
       "      <td>259</td>\n",
       "      <td>0</td>\n",
       "      <td>44</td>\n",
       "      <td>225</td>\n",
       "      <td>8</td>\n",
       "      <td>Espacios de esparcimiento cultural</td>\n",
       "      <td>POLYGON ((-104.59028 24.08382, -104.59553 24.0...</td>\n",
       "      <td>60&gt;</td>\n",
       "      <td></td>\n",
       "      <td></td>\n",
       "    </tr>\n",
       "    <tr>\n",
       "      <th>1</th>\n",
       "      <td>22 min</td>\n",
       "      <td>14 min</td>\n",
       "      <td>22 min</td>\n",
       "      <td>5 min</td>\n",
       "      <td>7 min</td>\n",
       "      <td>7833</td>\n",
       "      <td>89.65 (pob/ha)</td>\n",
       "      <td>4117</td>\n",
       "      <td>3716</td>\n",
       "      <td>1555</td>\n",
       "      <td>1321</td>\n",
       "      <td>3806</td>\n",
       "      <td>1149</td>\n",
       "      <td>Salud - primer contacto</td>\n",
       "      <td>POLYGON ((-104.65039 23.99868, -104.64575 24.0...</td>\n",
       "      <td>15-30</td>\n",
       "      <td></td>\n",
       "      <td></td>\n",
       "    </tr>\n",
       "    <tr>\n",
       "      <th>2</th>\n",
       "      <td>98 min</td>\n",
       "      <td>69 min</td>\n",
       "      <td>70 min</td>\n",
       "      <td>50 min</td>\n",
       "      <td>98 min</td>\n",
       "      <td>412</td>\n",
       "      <td>4.72 (pob/ha)</td>\n",
       "      <td>190</td>\n",
       "      <td>222</td>\n",
       "      <td>147</td>\n",
       "      <td>64</td>\n",
       "      <td>157</td>\n",
       "      <td>45</td>\n",
       "      <td>Espacios de esparcimiento cultural</td>\n",
       "      <td>POLYGON ((-104.57896 24.02945, -104.57432 24.0...</td>\n",
       "      <td>60&gt;</td>\n",
       "      <td></td>\n",
       "      <td></td>\n",
       "    </tr>\n",
       "    <tr>\n",
       "      <th>3</th>\n",
       "      <td>56 min</td>\n",
       "      <td>12 min</td>\n",
       "      <td>22 min</td>\n",
       "      <td>7 min</td>\n",
       "      <td>56 min</td>\n",
       "      <td>5009</td>\n",
       "      <td>57.33 (pob/ha)</td>\n",
       "      <td>2515</td>\n",
       "      <td>2494</td>\n",
       "      <td>1584</td>\n",
       "      <td>983</td>\n",
       "      <td>2085</td>\n",
       "      <td>345</td>\n",
       "      <td>Espacios de esparcimiento cultural</td>\n",
       "      <td>POLYGON ((-104.68409 23.98744, -104.67945 23.9...</td>\n",
       "      <td>45-60</td>\n",
       "      <td></td>\n",
       "      <td></td>\n",
       "    </tr>\n",
       "  </tbody>\n",
       "</table>\n",
       "</div>"
      ],
      "text/plain": [
       "  Tiempo máximo a todos los servicios Tiempo a escuelas  \\\n",
       "0                              84 min            25 min   \n",
       "1                              22 min            14 min   \n",
       "2                              98 min            69 min   \n",
       "3                              56 min            12 min   \n",
       "\n",
       "  Tiempo a servicios comunitarios Tiempo a comercio Tiempo a entretenimiento  \\\n",
       "0                          36 min            20 min                   84 min   \n",
       "1                          22 min             5 min                    7 min   \n",
       "2                          70 min            50 min                   98 min   \n",
       "3                          22 min             7 min                   56 min   \n",
       "\n",
       "  Población total Densidad de población Población femenina  \\\n",
       "0             278         3.18 (pob/ha)                 19   \n",
       "1            7833        89.65 (pob/ha)               4117   \n",
       "2             412         4.72 (pob/ha)                190   \n",
       "3            5009        57.33 (pob/ha)               2515   \n",
       "\n",
       "  Población masculina Población de 0 a 14 años Población de 15 a 24 años  \\\n",
       "0                 259                        0                        44   \n",
       "1                3716                     1555                      1321   \n",
       "2                 222                      147                        64   \n",
       "3                2494                     1584                       983   \n",
       "\n",
       "  Población de 25 a 59 años Población de 60 años y más  \\\n",
       "0                       225                          8   \n",
       "1                      3806                       1149   \n",
       "2                       157                         45   \n",
       "3                      2085                        345   \n",
       "\n",
       "    Equipamiento/servicio prioritario  \\\n",
       "0  Espacios de esparcimiento cultural   \n",
       "1             Salud - primer contacto   \n",
       "2  Espacios de esparcimiento cultural   \n",
       "3  Espacios de esparcimiento cultural   \n",
       "\n",
       "                                            geometry bins_max_idx_15_min  \\\n",
       "0  POLYGON ((-104.59028 24.08382, -104.59553 24.0...                 60>   \n",
       "1  POLYGON ((-104.65039 23.99868, -104.64575 24.0...               15-30   \n",
       "2  POLYGON ((-104.57896 24.02945, -104.57432 24.0...                 60>   \n",
       "3  POLYGON ((-104.68409 23.98744, -104.67945 23.9...               45-60   \n",
       "\n",
       "                            \n",
       "0                           \n",
       "1                           \n",
       "2                           \n",
       "3                           "
      ]
     },
     "execution_count": 36,
     "metadata": {},
     "output_type": "execute_result"
    }
   ],
   "source": [
    "hex_kepler.head(4)"
   ]
  },
  {
   "cell_type": "code",
   "execution_count": 37,
   "id": "66aa7fdc-ad73-4553-bcad-9cf3754ffd6e",
   "metadata": {
    "tags": []
   },
   "outputs": [
    {
     "name": "stdout",
     "output_type": "stream",
     "text": [
      "User Guide: https://docs.kepler.gl/docs/keplergl-jupyter\n",
      "Map saved to durango.html!\n"
     ]
    },
    {
     "name": "stderr",
     "output_type": "stream",
     "text": [
      "/tmp/ipykernel_35022/481004030.py:2: UserWarning: Geometry is in a geographic CRS. Results from 'centroid' are likely incorrect. Use 'GeoSeries.to_crs()' to re-project geometries to a projected CRS before this operation.\n",
      "\n",
      "  longitude = hex_gdf.dissolve().geometry.centroid.x\n",
      "/tmp/ipykernel_35022/481004030.py:3: UserWarning: Geometry is in a geographic CRS. Results from 'centroid' are likely incorrect. Use 'GeoSeries.to_crs()' to re-project geometries to a projected CRS before this operation.\n",
      "\n",
      "  latitude = hex_gdf.dissolve().geometry.centroid.y\n"
     ]
    }
   ],
   "source": [
    "# hex_gdf[\"d\"] = 0\n",
    "longitude = hex_gdf.dissolve().geometry.centroid.x\n",
    "latitude = hex_gdf.dissolve().geometry.centroid.y\n",
    "config_idx[\"config\"][\"mapState\"][\"latitude\"] = latitude[0]\n",
    "config_idx[\"config\"][\"mapState\"][\"longitude\"] = longitude[0]\n",
    "# session = boto3.Session(profile_name=\"observatorio\")\n",
    "# dev_s3_client = session.client(\"s3\")\n",
    "# map_city = KeplerGl(height=800, data={\"Análisis de ciudad\": hex_kepler}, config=config_idx)\n",
    "map_city = KeplerGl(height=800)\n",
    "map_city.config = config_idx\n",
    "map_city.add_data(hex_kepler, name='Análisis de hexágono')\n",
    "map_city.save_to_html(file_name=f\"{city.lower()}.html\", read_only=True)"
   ]
  },
  {
   "cell_type": "code",
   "execution_count": null,
   "id": "45741744",
   "metadata": {},
   "outputs": [],
   "source": []
  },
  {
   "cell_type": "code",
   "execution_count": null,
   "id": "b77e17ca-6cf4-4e26-838d-8202a66a8cb6",
   "metadata": {},
   "outputs": [],
   "source": []
  }
 ],
 "metadata": {
  "kernelspec": {
   "display_name": "Python 3 (ipykernel)",
   "language": "python",
   "name": "python3"
  },
  "language_info": {
   "codemirror_mode": {
    "name": "ipython",
    "version": 3
   },
   "file_extension": ".py",
   "mimetype": "text/x-python",
   "name": "python",
   "nbconvert_exporter": "python",
   "pygments_lexer": "ipython3",
   "version": "3.12.6"
  }
 },
 "nbformat": 4,
 "nbformat_minor": 5
}
