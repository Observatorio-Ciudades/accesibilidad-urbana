{
 "cells": [
  {
   "cell_type": "markdown",
   "id": "dc23a696-0764-4c64-8998-c622c0191120",
   "metadata": {},
   "source": [
    "# General data analysis"
   ]
  },
  {
   "cell_type": "markdown",
   "id": "50434650-5463-4776-9d3d-78be9f733d02",
   "metadata": {},
   "source": [
    "Data analysis at city level based on the results for the 15 minute city methodology. This will include\n",
    "* Average time within each city\n",
    "* Main missing amenity\n",
    "* Population percentage by time range\n",
    "* Average time to each amenity\n",
    "* Marginalization vs time"
   ]
  },
  {
   "cell_type": "markdown",
   "id": "5e94bc0f-26da-4517-8b12-4bf846c97b7d",
   "metadata": {},
   "source": [
    "## Import libraries"
   ]
  },
  {
   "cell_type": "code",
   "execution_count": 65,
   "id": "bbe680e5-64d7-46f0-ad63-b3dea2aef012",
   "metadata": {},
   "outputs": [],
   "source": [
    "import os\n",
    "import sys\n",
    "\n",
    "import pandas as pd\n",
    "import geopandas as gpd\n",
    "import numpy as np\n",
    "\n",
    "from pandas.api.types import CategoricalDtype\n",
    "\n",
    "import matplotlib.pyplot as plt\n",
    "import seaborn as sns\n",
    "\n",
    "import warnings\n",
    "warnings.simplefilter(action='ignore', category=FutureWarning)\n",
    "\n",
    "module_path = os.path.abspath(os.path.join('../../'))\n",
    "if module_path not in sys.path:\n",
    "    sys.path.append(module_path)\n",
    "    import aup"
   ]
  },
  {
   "cell_type": "markdown",
   "id": "1c5f8053-b08d-4da4-8065-492589db3c3f",
   "metadata": {},
   "source": [
    "## Donwload data"
   ]
  },
  {
   "cell_type": "markdown",
   "id": "eb6d6bbd-e132-477b-9d1b-afb9f9ccde62",
   "metadata": {},
   "source": [
    "Donwload hexagon and time data from specified cities"
   ]
  },
  {
   "cell_type": "code",
   "execution_count": 49,
   "id": "9fd1013c-3d82-4322-9627-0c56980f70d4",
   "metadata": {},
   "outputs": [],
   "source": [
    "cities = ['ZMVM','Guadalajara',\n",
    "         'Monterrey','Cancun','Tijuana',\n",
    "         'Leon','Morelia','Aguascalientes',\n",
    "         'Merida','Pachuca','Toluca','Queretaro']"
   ]
  },
  {
   "cell_type": "code",
   "execution_count": 50,
   "id": "0789bd69-6c1b-43cf-8796-3a39e17d0925",
   "metadata": {},
   "outputs": [],
   "source": [
    "cities = str(tuple(cities))\n",
    "schema = 'prox_analysis'\n",
    "table = 'time_15_min_analysis_hexres8'\n",
    "cve_column = 'city'\n",
    "query = f'SELECT * FROM {schema}.{table} WHERE \"{cve_column}\" IN {cities}'"
   ]
  },
  {
   "cell_type": "code",
   "execution_count": 51,
   "id": "67322bca-85cb-4c56-9dc4-61339c1ec5d7",
   "metadata": {},
   "outputs": [
    {
     "name": "stdout",
     "output_type": "stream",
     "text": [
      "(11787, 30)\n"
     ]
    },
    {
     "data": {
      "text/html": [
       "<div>\n",
       "<style scoped>\n",
       "    .dataframe tbody tr th:only-of-type {\n",
       "        vertical-align: middle;\n",
       "    }\n",
       "\n",
       "    .dataframe tbody tr th {\n",
       "        vertical-align: top;\n",
       "    }\n",
       "\n",
       "    .dataframe thead th {\n",
       "        text-align: right;\n",
       "    }\n",
       "</style>\n",
       "<table border=\"1\" class=\"dataframe\">\n",
       "  <thead>\n",
       "    <tr style=\"text-align: right;\">\n",
       "      <th></th>\n",
       "      <th>hex_id_8</th>\n",
       "      <th>geometry</th>\n",
       "      <th>max_escuelas</th>\n",
       "      <th>max_preescolar</th>\n",
       "      <th>max_primaria</th>\n",
       "      <th>max_secundaria</th>\n",
       "      <th>max_servicios comunitarios</th>\n",
       "      <th>max_salud</th>\n",
       "      <th>max_guarderías</th>\n",
       "      <th>max_asistencia social</th>\n",
       "      <th>...</th>\n",
       "      <th>max_idx_15_min</th>\n",
       "      <th>pobtot</th>\n",
       "      <th>pobfem</th>\n",
       "      <th>pobmas</th>\n",
       "      <th>pob_0a14</th>\n",
       "      <th>pob_15a24</th>\n",
       "      <th>pob_25a59</th>\n",
       "      <th>p_60ymas</th>\n",
       "      <th>dens_pobha</th>\n",
       "      <th>city</th>\n",
       "    </tr>\n",
       "  </thead>\n",
       "  <tbody>\n",
       "    <tr>\n",
       "      <th>0</th>\n",
       "      <td>88498e36dbfffff</td>\n",
       "      <td>POLYGON ((-102.34777 21.92336, -102.34267 21.9...</td>\n",
       "      <td>15.057619</td>\n",
       "      <td>13.586498</td>\n",
       "      <td>15.057619</td>\n",
       "      <td>11.969535</td>\n",
       "      <td>62.167866</td>\n",
       "      <td>53.640209</td>\n",
       "      <td>50.912589</td>\n",
       "      <td>62.167866</td>\n",
       "      <td>...</td>\n",
       "      <td>71.010665</td>\n",
       "      <td>264.7125</td>\n",
       "      <td>131.68126</td>\n",
       "      <td>133.03125</td>\n",
       "      <td>75.937500</td>\n",
       "      <td>50.962500</td>\n",
       "      <td>117.731249</td>\n",
       "      <td>20.081251</td>\n",
       "      <td>3.063433</td>\n",
       "      <td>Aguascalientes</td>\n",
       "    </tr>\n",
       "    <tr>\n",
       "      <th>1</th>\n",
       "      <td>88498e36d5fffff</td>\n",
       "      <td>POLYGON ((-102.32839 21.92505, -102.32329 21.9...</td>\n",
       "      <td>41.764955</td>\n",
       "      <td>22.511213</td>\n",
       "      <td>23.594408</td>\n",
       "      <td>41.764955</td>\n",
       "      <td>49.597804</td>\n",
       "      <td>49.597804</td>\n",
       "      <td>23.166648</td>\n",
       "      <td>33.483284</td>\n",
       "      <td>...</td>\n",
       "      <td>49.597804</td>\n",
       "      <td>1040.9625</td>\n",
       "      <td>542.34850</td>\n",
       "      <td>498.61400</td>\n",
       "      <td>142.968993</td>\n",
       "      <td>171.018986</td>\n",
       "      <td>497.508140</td>\n",
       "      <td>228.414930</td>\n",
       "      <td>12.047757</td>\n",
       "      <td>Aguascalientes</td>\n",
       "    </tr>\n",
       "  </tbody>\n",
       "</table>\n",
       "<p>2 rows × 30 columns</p>\n",
       "</div>"
      ],
      "text/plain": [
       "          hex_id_8                                           geometry  \\\n",
       "0  88498e36dbfffff  POLYGON ((-102.34777 21.92336, -102.34267 21.9...   \n",
       "1  88498e36d5fffff  POLYGON ((-102.32839 21.92505, -102.32329 21.9...   \n",
       "\n",
       "   max_escuelas  max_preescolar  max_primaria  max_secundaria  \\\n",
       "0     15.057619       13.586498     15.057619       11.969535   \n",
       "1     41.764955       22.511213     23.594408       41.764955   \n",
       "\n",
       "   max_servicios comunitarios  max_salud  max_guarderías  \\\n",
       "0                   62.167866  53.640209       50.912589   \n",
       "1                   49.597804  49.597804       23.166648   \n",
       "\n",
       "   max_asistencia social  ...  max_idx_15_min     pobtot     pobfem  \\\n",
       "0              62.167866  ...       71.010665   264.7125  131.68126   \n",
       "1              33.483284  ...       49.597804  1040.9625  542.34850   \n",
       "\n",
       "      pobmas    pob_0a14   pob_15a24   pob_25a59    p_60ymas  dens_pobha  \\\n",
       "0  133.03125   75.937500   50.962500  117.731249   20.081251    3.063433   \n",
       "1  498.61400  142.968993  171.018986  497.508140  228.414930   12.047757   \n",
       "\n",
       "             city  \n",
       "0  Aguascalientes  \n",
       "1  Aguascalientes  \n",
       "\n",
       "[2 rows x 30 columns]"
      ]
     },
     "execution_count": 51,
     "metadata": {},
     "output_type": "execute_result"
    }
   ],
   "source": [
    "gdf = aup.gdf_from_query(query, geometry_col='geometry')\n",
    "print(gdf.shape)\n",
    "gdf.head(2)"
   ]
  },
  {
   "cell_type": "markdown",
   "id": "3f2154ee-cb4e-4b6e-8fc8-e3e4c5dacd6e",
   "metadata": {},
   "source": [
    "## Data analysis"
   ]
  },
  {
   "cell_type": "markdown",
   "id": "965a44eb-926f-4ecc-bb3d-aa61290446e6",
   "metadata": {},
   "source": [
    "### Time by city"
   ]
  },
  {
   "cell_type": "code",
   "execution_count": 52,
   "id": "0f9e32a6-5135-473b-bf6a-a2c33e2c1e08",
   "metadata": {},
   "outputs": [
    {
     "data": {
      "text/html": [
       "<div>\n",
       "<style scoped>\n",
       "    .dataframe tbody tr th:only-of-type {\n",
       "        vertical-align: middle;\n",
       "    }\n",
       "\n",
       "    .dataframe tbody tr th {\n",
       "        vertical-align: top;\n",
       "    }\n",
       "\n",
       "    .dataframe thead th {\n",
       "        text-align: right;\n",
       "    }\n",
       "</style>\n",
       "<table border=\"1\" class=\"dataframe\">\n",
       "  <thead>\n",
       "    <tr style=\"text-align: right;\">\n",
       "      <th></th>\n",
       "      <th>wgt_max_idx_15_min</th>\n",
       "    </tr>\n",
       "    <tr>\n",
       "      <th>city</th>\n",
       "      <th></th>\n",
       "    </tr>\n",
       "  </thead>\n",
       "  <tbody>\n",
       "    <tr>\n",
       "      <th>Aguascalientes</th>\n",
       "      <td>65.877561</td>\n",
       "    </tr>\n",
       "    <tr>\n",
       "      <th>Cancun</th>\n",
       "      <td>54.194363</td>\n",
       "    </tr>\n",
       "    <tr>\n",
       "      <th>Guadalajara</th>\n",
       "      <td>66.390274</td>\n",
       "    </tr>\n",
       "    <tr>\n",
       "      <th>Leon</th>\n",
       "      <td>55.227166</td>\n",
       "    </tr>\n",
       "    <tr>\n",
       "      <th>Merida</th>\n",
       "      <td>67.633569</td>\n",
       "    </tr>\n",
       "    <tr>\n",
       "      <th>Monterrey</th>\n",
       "      <td>59.527438</td>\n",
       "    </tr>\n",
       "    <tr>\n",
       "      <th>Morelia</th>\n",
       "      <td>66.309843</td>\n",
       "    </tr>\n",
       "    <tr>\n",
       "      <th>Pachuca</th>\n",
       "      <td>71.822048</td>\n",
       "    </tr>\n",
       "    <tr>\n",
       "      <th>Queretaro</th>\n",
       "      <td>84.979096</td>\n",
       "    </tr>\n",
       "    <tr>\n",
       "      <th>Tijuana</th>\n",
       "      <td>75.607208</td>\n",
       "    </tr>\n",
       "    <tr>\n",
       "      <th>Toluca</th>\n",
       "      <td>70.581680</td>\n",
       "    </tr>\n",
       "    <tr>\n",
       "      <th>ZMVM</th>\n",
       "      <td>45.764976</td>\n",
       "    </tr>\n",
       "  </tbody>\n",
       "</table>\n",
       "</div>"
      ],
      "text/plain": [
       "                wgt_max_idx_15_min\n",
       "city                              \n",
       "Aguascalientes           65.877561\n",
       "Cancun                   54.194363\n",
       "Guadalajara              66.390274\n",
       "Leon                     55.227166\n",
       "Merida                   67.633569\n",
       "Monterrey                59.527438\n",
       "Morelia                  66.309843\n",
       "Pachuca                  71.822048\n",
       "Queretaro                84.979096\n",
       "Tijuana                  75.607208\n",
       "Toluca                   70.581680\n",
       "ZMVM                     45.764976"
      ]
     },
     "execution_count": 52,
     "metadata": {},
     "output_type": "execute_result"
    }
   ],
   "source": [
    "gdf['wgt_max_idx_15_min'] =(gdf['max_idx_15_min'] * gdf['pobtot'])/gdf.groupby('city')['pobtot'].transform('sum')\n",
    "gdf[['city','wgt_max_idx_15_min']].groupby('city').sum()"
   ]
  },
  {
   "cell_type": "code",
   "execution_count": 53,
   "id": "96cc9a4c-a39b-4ae8-9494-7e3d30938211",
   "metadata": {},
   "outputs": [
    {
     "data": {
      "text/html": [
       "<div>\n",
       "<style scoped>\n",
       "    .dataframe tbody tr th:only-of-type {\n",
       "        vertical-align: middle;\n",
       "    }\n",
       "\n",
       "    .dataframe tbody tr th {\n",
       "        vertical-align: top;\n",
       "    }\n",
       "\n",
       "    .dataframe thead th {\n",
       "        text-align: right;\n",
       "    }\n",
       "</style>\n",
       "<table border=\"1\" class=\"dataframe\">\n",
       "  <thead>\n",
       "    <tr style=\"text-align: right;\">\n",
       "      <th></th>\n",
       "      <th>max_idx_15_min</th>\n",
       "    </tr>\n",
       "    <tr>\n",
       "      <th>city</th>\n",
       "      <th></th>\n",
       "    </tr>\n",
       "  </thead>\n",
       "  <tbody>\n",
       "    <tr>\n",
       "      <th>Aguascalientes</th>\n",
       "      <td>92.188233</td>\n",
       "    </tr>\n",
       "    <tr>\n",
       "      <th>Cancun</th>\n",
       "      <td>89.989521</td>\n",
       "    </tr>\n",
       "    <tr>\n",
       "      <th>Guadalajara</th>\n",
       "      <td>101.027956</td>\n",
       "    </tr>\n",
       "    <tr>\n",
       "      <th>Leon</th>\n",
       "      <td>83.591583</td>\n",
       "    </tr>\n",
       "    <tr>\n",
       "      <th>Merida</th>\n",
       "      <td>97.604972</td>\n",
       "    </tr>\n",
       "    <tr>\n",
       "      <th>Monterrey</th>\n",
       "      <td>82.695496</td>\n",
       "    </tr>\n",
       "    <tr>\n",
       "      <th>Morelia</th>\n",
       "      <td>102.357382</td>\n",
       "    </tr>\n",
       "    <tr>\n",
       "      <th>Pachuca</th>\n",
       "      <td>108.585525</td>\n",
       "    </tr>\n",
       "    <tr>\n",
       "      <th>Queretaro</th>\n",
       "      <td>130.847397</td>\n",
       "    </tr>\n",
       "    <tr>\n",
       "      <th>Tijuana</th>\n",
       "      <td>84.130016</td>\n",
       "    </tr>\n",
       "    <tr>\n",
       "      <th>Toluca</th>\n",
       "      <td>101.528257</td>\n",
       "    </tr>\n",
       "    <tr>\n",
       "      <th>ZMVM</th>\n",
       "      <td>76.056452</td>\n",
       "    </tr>\n",
       "  </tbody>\n",
       "</table>\n",
       "</div>"
      ],
      "text/plain": [
       "                max_idx_15_min\n",
       "city                          \n",
       "Aguascalientes       92.188233\n",
       "Cancun               89.989521\n",
       "Guadalajara         101.027956\n",
       "Leon                 83.591583\n",
       "Merida               97.604972\n",
       "Monterrey            82.695496\n",
       "Morelia             102.357382\n",
       "Pachuca             108.585525\n",
       "Queretaro           130.847397\n",
       "Tijuana              84.130016\n",
       "Toluca              101.528257\n",
       "ZMVM                 76.056452"
      ]
     },
     "execution_count": 53,
     "metadata": {},
     "output_type": "execute_result"
    }
   ],
   "source": [
    "gdf[['city','max_idx_15_min']].groupby('city').mean()"
   ]
  },
  {
   "cell_type": "markdown",
   "id": "22df6b21-039b-4abc-9187-64455bd93994",
   "metadata": {},
   "source": [
    "### Main missing ammenity"
   ]
  },
  {
   "cell_type": "code",
   "execution_count": 54,
   "id": "e3e1adc6-4209-4b77-9f43-6f8d938ae4f3",
   "metadata": {},
   "outputs": [],
   "source": [
    "lista_amenidades = ['max_preescolar','max_primaria',\n",
    "                    'max_secundaria','max_salud','max_guarderías',\n",
    "                    'max_asistencia social','max_alimentos','max_personal',\n",
    "                    'max_farmacias','max_hogar','max_complementarios','max_social',\n",
    "                    'max_actividad física', 'max_cultural']\n",
    "\n",
    "missing_column_name = 'Equipamiento/servicio prioritario'\n",
    "\n",
    "gdf[missing_column_name] = 'No aplica'\n",
    "idx = gdf['max_idx_15_min']>15\n",
    "gdf.loc[idx,missing_column_name] = gdf[lista_amenidades].idxmax(axis=1)"
   ]
  },
  {
   "cell_type": "code",
   "execution_count": 55,
   "id": "4f53733e-b767-4cb9-9f14-31f2802cc619",
   "metadata": {},
   "outputs": [
    {
     "data": {
      "text/html": [
       "<div>\n",
       "<style scoped>\n",
       "    .dataframe tbody tr th:only-of-type {\n",
       "        vertical-align: middle;\n",
       "    }\n",
       "\n",
       "    .dataframe tbody tr th {\n",
       "        vertical-align: top;\n",
       "    }\n",
       "\n",
       "    .dataframe thead th {\n",
       "        text-align: right;\n",
       "    }\n",
       "</style>\n",
       "<table border=\"1\" class=\"dataframe\">\n",
       "  <thead>\n",
       "    <tr style=\"text-align: right;\">\n",
       "      <th></th>\n",
       "      <th>city</th>\n",
       "      <th>contador</th>\n",
       "      <th>Equipamiento/servicio prioritario</th>\n",
       "      <th>pct_max</th>\n",
       "    </tr>\n",
       "  </thead>\n",
       "  <tbody>\n",
       "    <tr>\n",
       "      <th>0</th>\n",
       "      <td>Aguascalientes</td>\n",
       "      <td>494</td>\n",
       "      <td>max_cultural</td>\n",
       "      <td>0.041911</td>\n",
       "    </tr>\n",
       "    <tr>\n",
       "      <th>1</th>\n",
       "      <td>Cancun</td>\n",
       "      <td>189</td>\n",
       "      <td>max_cultural</td>\n",
       "      <td>0.016035</td>\n",
       "    </tr>\n",
       "    <tr>\n",
       "      <th>2</th>\n",
       "      <td>Guadalajara</td>\n",
       "      <td>924</td>\n",
       "      <td>max_cultural</td>\n",
       "      <td>0.078391</td>\n",
       "    </tr>\n",
       "    <tr>\n",
       "      <th>3</th>\n",
       "      <td>Leon</td>\n",
       "      <td>365</td>\n",
       "      <td>max_cultural</td>\n",
       "      <td>0.030966</td>\n",
       "    </tr>\n",
       "    <tr>\n",
       "      <th>4</th>\n",
       "      <td>Merida</td>\n",
       "      <td>369</td>\n",
       "      <td>max_cultural</td>\n",
       "      <td>0.031306</td>\n",
       "    </tr>\n",
       "    <tr>\n",
       "      <th>5</th>\n",
       "      <td>Monterrey</td>\n",
       "      <td>902</td>\n",
       "      <td>max_cultural</td>\n",
       "      <td>0.076525</td>\n",
       "    </tr>\n",
       "    <tr>\n",
       "      <th>6</th>\n",
       "      <td>Morelia</td>\n",
       "      <td>215</td>\n",
       "      <td>max_cultural</td>\n",
       "      <td>0.018240</td>\n",
       "    </tr>\n",
       "    <tr>\n",
       "      <th>7</th>\n",
       "      <td>Pachuca</td>\n",
       "      <td>217</td>\n",
       "      <td>max_cultural</td>\n",
       "      <td>0.018410</td>\n",
       "    </tr>\n",
       "    <tr>\n",
       "      <th>8</th>\n",
       "      <td>Queretaro</td>\n",
       "      <td>332</td>\n",
       "      <td>max_cultural</td>\n",
       "      <td>0.028167</td>\n",
       "    </tr>\n",
       "    <tr>\n",
       "      <th>9</th>\n",
       "      <td>Tijuana</td>\n",
       "      <td>870</td>\n",
       "      <td>max_cultural</td>\n",
       "      <td>0.073810</td>\n",
       "    </tr>\n",
       "    <tr>\n",
       "      <th>10</th>\n",
       "      <td>Toluca</td>\n",
       "      <td>719</td>\n",
       "      <td>max_cultural</td>\n",
       "      <td>0.060999</td>\n",
       "    </tr>\n",
       "    <tr>\n",
       "      <th>11</th>\n",
       "      <td>ZMVM</td>\n",
       "      <td>2659</td>\n",
       "      <td>max_cultural</td>\n",
       "      <td>0.225588</td>\n",
       "    </tr>\n",
       "  </tbody>\n",
       "</table>\n",
       "</div>"
      ],
      "text/plain": [
       "              city  contador Equipamiento/servicio prioritario   pct_max\n",
       "0   Aguascalientes       494                      max_cultural  0.041911\n",
       "1           Cancun       189                      max_cultural  0.016035\n",
       "2      Guadalajara       924                      max_cultural  0.078391\n",
       "3             Leon       365                      max_cultural  0.030966\n",
       "4           Merida       369                      max_cultural  0.031306\n",
       "5        Monterrey       902                      max_cultural  0.076525\n",
       "6          Morelia       215                      max_cultural  0.018240\n",
       "7          Pachuca       217                      max_cultural  0.018410\n",
       "8        Queretaro       332                      max_cultural  0.028167\n",
       "9          Tijuana       870                      max_cultural  0.073810\n",
       "10          Toluca       719                      max_cultural  0.060999\n",
       "11            ZMVM      2659                      max_cultural  0.225588"
      ]
     },
     "execution_count": 55,
     "metadata": {},
     "output_type": "execute_result"
    }
   ],
   "source": [
    "gdf_equipamiento = gdf[['city',missing_column_name]].groupby('city').value_counts().reset_index().rename(columns={0:'contador'})\n",
    "gdf_equipamiento = gdf_equipamiento.groupby('city').max().reset_index().drop(columns=[missing_column_name]).merge(gdf_equipamiento, on=['city','contador'])\n",
    "gdf_equipamiento['pct_max'] = gdf_equipamiento['contador'] / len(gdf)\n",
    "gdf_equipamiento"
   ]
  },
  {
   "cell_type": "markdown",
   "id": "058b4c06-b546-44fe-8972-6c500f3035c4",
   "metadata": {},
   "source": [
    "### Population by time range"
   ]
  },
  {
   "cell_type": "code",
   "execution_count": 77,
   "id": "511fdc38-f709-44c9-a76c-6c0151835c93",
   "metadata": {},
   "outputs": [],
   "source": [
    "def index_time_group(time_column):\n",
    "    if time_column <= 15:\n",
    "        time_group = '0-15min'\n",
    "    elif time_column <= 30:\n",
    "        time_group = '15-30min'\n",
    "    elif time_column <= 45:\n",
    "        time_group = '30-45min'\n",
    "    elif time_column <= 60:\n",
    "        time_group = '45-60min'\n",
    "    else:\n",
    "        time_group = '> 60min'\n",
    "    return time_group"
   ]
  },
  {
   "cell_type": "code",
   "execution_count": 78,
   "id": "ae478daf-aeaa-4e20-b9ed-8e3377dd0438",
   "metadata": {},
   "outputs": [],
   "source": [
    "gdf['time_group'] = gdf.max_idx_15_min.apply(index_time_group)"
   ]
  },
  {
   "cell_type": "code",
   "execution_count": 79,
   "id": "d273d841-cf4a-4723-93df-0a0b81f0f4d9",
   "metadata": {},
   "outputs": [],
   "source": [
    "gdf_group = gdf.groupby(['city','time_group']).sum()\n",
    "gdf_group = gdf_group['pobtot'].copy()\n",
    "gdf_group = gdf_group.reset_index()\n",
    "gdf_group['pct_pobtot'] = 100 * gdf_group['pobtot'] / gdf_group.groupby('city')['pobtot'].transform('sum')"
   ]
  },
  {
   "cell_type": "code",
   "execution_count": 80,
   "id": "6909368a-7459-4ebd-8e20-4dd342673190",
   "metadata": {},
   "outputs": [
    {
     "data": {
      "text/html": [
       "<div>\n",
       "<style scoped>\n",
       "    .dataframe tbody tr th:only-of-type {\n",
       "        vertical-align: middle;\n",
       "    }\n",
       "\n",
       "    .dataframe tbody tr th {\n",
       "        vertical-align: top;\n",
       "    }\n",
       "\n",
       "    .dataframe thead th {\n",
       "        text-align: right;\n",
       "    }\n",
       "</style>\n",
       "<table border=\"1\" class=\"dataframe\">\n",
       "  <thead>\n",
       "    <tr style=\"text-align: right;\">\n",
       "      <th></th>\n",
       "      <th>city</th>\n",
       "      <th>time_group</th>\n",
       "      <th>pobtot</th>\n",
       "      <th>pct_pobtot</th>\n",
       "    </tr>\n",
       "  </thead>\n",
       "  <tbody>\n",
       "    <tr>\n",
       "      <th>0</th>\n",
       "      <td>Aguascalientes</td>\n",
       "      <td>0-15min</td>\n",
       "      <td>115366.130400</td>\n",
       "      <td>5.535238</td>\n",
       "    </tr>\n",
       "    <tr>\n",
       "      <th>1</th>\n",
       "      <td>Aguascalientes</td>\n",
       "      <td>15-30min</td>\n",
       "      <td>348757.629800</td>\n",
       "      <td>16.733305</td>\n",
       "    </tr>\n",
       "    <tr>\n",
       "      <th>2</th>\n",
       "      <td>Aguascalientes</td>\n",
       "      <td>30-45min</td>\n",
       "      <td>376762.852740</td>\n",
       "      <td>18.076988</td>\n",
       "    </tr>\n",
       "    <tr>\n",
       "      <th>3</th>\n",
       "      <td>Aguascalientes</td>\n",
       "      <td>45-60min</td>\n",
       "      <td>329284.650234</td>\n",
       "      <td>15.798996</td>\n",
       "    </tr>\n",
       "  </tbody>\n",
       "</table>\n",
       "</div>"
      ],
      "text/plain": [
       "             city time_group         pobtot  pct_pobtot\n",
       "0  Aguascalientes    0-15min  115366.130400    5.535238\n",
       "1  Aguascalientes   15-30min  348757.629800   16.733305\n",
       "2  Aguascalientes   30-45min  376762.852740   18.076988\n",
       "3  Aguascalientes   45-60min  329284.650234   15.798996"
      ]
     },
     "execution_count": 80,
     "metadata": {},
     "output_type": "execute_result"
    }
   ],
   "source": [
    "gdf_group.head(4)"
   ]
  },
  {
   "cell_type": "code",
   "execution_count": 81,
   "id": "7a218923-1032-4ada-ba0b-52b020c8bda4",
   "metadata": {},
   "outputs": [],
   "source": [
    "#categorical data\n",
    "cat_list = ['0-15min','15-30min','30-45min', \n",
    "            '45-60min','> 60min']\n",
    "\n",
    "cat_size_order = CategoricalDtype(\n",
    "    cat_list, \n",
    "    ordered=True)\n",
    "\n",
    "gdf_group['time_group'] = gdf_group['time_group'].astype(cat_size_order)\n",
    "gdf_group = gdf_group.sort_values('time_group')"
   ]
  },
  {
   "cell_type": "code",
   "execution_count": 82,
   "id": "9bb94604-f77e-4323-a0fc-b198343164bf",
   "metadata": {},
   "outputs": [
    {
     "data": {
      "text/plain": [
       "<AxesSubplot:xlabel='time_group', ylabel='pct_pobtot'>"
      ]
     },
     "execution_count": 82,
     "metadata": {},
     "output_type": "execute_result"
    },
    {
     "data": {
      "image/png": "[encoded data removed]",
      "text/plain": [
       "<Figure size 432x288 with 1 Axes>"
      ]
     },
     "metadata": {
      "needs_background": "light"
     },
     "output_type": "display_data"
    }
   ],
   "source": [
    "sns.pointplot(data=gdf_group, x=\"time_group\", y=\"pct_pobtot\", hue='city')\n"
   ]
  },
  {
   "cell_type": "markdown",
   "id": "7e66e57e-2c4e-4b67-8ace-b260e6bf0bf9",
   "metadata": {},
   "source": [
    "### Average time to each ammenity"
   ]
  },
  {
   "cell_type": "code",
   "execution_count": null,
   "id": "bdde0e6f-e453-42b7-bdd0-8e9fd5f130eb",
   "metadata": {},
   "outputs": [],
   "source": []
  }
 ],
 "metadata": {
  "kernelspec": {
   "display_name": "Python 3 (ipykernel)",
   "language": "python",
   "name": "python3"
  },
  "language_info": {
   "codemirror_mode": {
    "name": "ipython",
    "version": 3
   },
   "file_extension": ".py",
   "mimetype": "text/x-python",
   "name": "python",
   "nbconvert_exporter": "python",
   "pygments_lexer": "ipython3",
   "version": "3.10.4"
  }
 },
 "nbformat": 4,
 "nbformat_minor": 5
}
