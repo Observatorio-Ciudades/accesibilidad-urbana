{
 "cells": [
  {
   "cell_type": "markdown",
   "id": "b60aaac8",
   "metadata": {},
   "source": [
    "# Ciudades de 15 minutos - resolución 9"
   ]
  },
  {
   "cell_type": "markdown",
   "id": "39ae7cf7-c7f7-4aac-af04-8f6b3e5e0503",
   "metadata": {},
   "source": [
    "Notebook para la prueba de la metodología de ciudades de 15 minutos. El acercamiento del Observatorio de Ciudades se basa en agrupar las amenidades en 4 ejes:\n",
    "* Educación\n",
    "* Servicios comunitarios\n",
    "* Comercio\n",
    "* Entretenimiento\n",
    "\n",
    "Cada uno de estos ejes se subdivide en amenidades específicas:\n",
    "\n",
    "* Educación\n",
    "    * Preescolar\n",
    "    * Primaria\n",
    "    * Secundaria\n",
    "* Servicios comunitarios:\n",
    "    * Centro de salud - lo traducimos como primer contacto a salud (que incluye farmacias con médicos)\n",
    "    * Gobierno - oficinas de gobierno\n",
    "    * Asistencia social - DIF\n",
    "    * Cuidados - Guarderías\n",
    "* Comercio:\n",
    "    * Alimentos - sitios para la adquisición de alimentos\n",
    "    * Comercio personal - peluquerías y venta de ropa\n",
    "    * Farmacias\n",
    "    * Hogar - Ferretería y tlapalería y artículos de limpieza\n",
    "    * Complementario - sitios de comercio complementario como venta de ropa, calzado, muebles, lavandería, pintura y revistas\n",
    "* Entretenimiento\n",
    "    * Actividad física - espacios de recreación al aire libre como parques, canchas, unidades deportivas o parques naturales\n",
    "    * Social - sitios de esparcimiento social como restaurantes, bares y cafés\n",
    "    * Cultural - espacios de recreación cultural como museos o cines\n",
    "\n",
    "Para calcular si un hexágono cumple o no con lo neceasrio para ser ciudad de 15 minutos se toma el tiempo máximo a una de las amenidades y esa se registra en el hexágono, si ese tiempo es menor a 15, se considera que cumple, de lo contrario no."
   ]
  },
  {
   "cell_type": "code",
   "execution_count": 1,
   "id": "41393dfd",
   "metadata": {
    "tags": []
   },
   "outputs": [
    {
     "name": "stderr",
     "output_type": "stream",
     "text": [
      "/usr/local/python/lib/python3.10/site-packages/osmnx/utils.py:192: UserWarning: The `utils.config` function is deprecated and will be removed in a future release. Instead, use the `settings` module directly to configure a global setting's value. For example, `ox.settings.log_console=True`.\n",
      "  warnings.warn(\n"
     ]
    }
   ],
   "source": [
    "import os\n",
    "import sys\n",
    "\n",
    "import pandas as pd\n",
    "import geopandas as gpd\n",
    "import osmnx as ox\n",
    "import numpy as np\n",
    "\n",
    "import matplotlib.pyplot as plt\n",
    "import seaborn as sns\n",
    "\n",
    "import warnings\n",
    "warnings.simplefilter(action='ignore', category=FutureWarning)\n",
    "\n",
    "module_path = os.path.abspath(os.path.join('../../'))\n",
    "if module_path not in sys.path:\n",
    "    sys.path.append(module_path)\n",
    "    import aup"
   ]
  },
  {
   "cell_type": "markdown",
   "id": "f4c778e6-e826-4470-8370-59cb3d8e9d9e",
   "metadata": {},
   "source": [
    "## Proximidad - Notebook config"
   ]
  },
  {
   "cell_type": "code",
   "execution_count": 6,
   "id": "130a389b-9052-43c5-a3b4-a562ab36bf92",
   "metadata": {
    "tags": []
   },
   "outputs": [],
   "source": [
    "city = 'Ensenada'\n",
    "\n",
    "#Some gdfs and dfs are deleted when no longer in use\n",
    "save_disk_space = False\n",
    "\n",
    "# CHOOSE BETWEEN:\n",
    "# a) Saves to external then loads from db table, concatenates and replaces in db\n",
    "save_toexternal_concatenatedb = True\n",
    "\n",
    "# b) Appends directly to db\n",
    "save_todb_appending = True"
   ]
  },
  {
   "cell_type": "code",
   "execution_count": 4,
   "id": "048916a8-3e11-4fd3-af28-4a711f5b555e",
   "metadata": {
    "tags": []
   },
   "outputs": [],
   "source": [
    "# If ZMVM, creates poly_wkt of cdmx only\n",
    "if city == 'ZMVM':\n",
    "    # Loads CDMX hexgrid\n",
    "    hexgrid_9_cdmx = gpd.read_file(\"../../data/external/temporal_todocker/hexgrid_9_cdmx_selectionbycentroid.gpkg\")\n",
    "    # Finds hex_id codes from hex_grid (Downloads pop hex according to hex_id)\n",
    "    hex_ids = str(tuple(list(hexgrid_9_cdmx[\"hex_id_9\"].unique())))\n",
    "    # Creates poly_wkt (Downloads nodes according to dissolved area)\n",
    "    gdf = hexgrid_9_cdmx.to_crs(\"EPSG:6372\")\n",
    "    gdf = gdf.buffer(1).reset_index().rename(columns={0: \"geometry\"})\n",
    "    gdf = gdf.set_geometry(\"geometry\")\n",
    "    gdf = gdf.to_crs(\"EPSG:4326\")\n",
    "    poly_wkt = gdf.dissolve().geometry.to_wkt()[0]"
   ]
  },
  {
   "cell_type": "markdown",
   "id": "0c440491",
   "metadata": {},
   "source": [
    "## Download data from database"
   ]
  },
  {
   "cell_type": "markdown",
   "id": "43737ae9-ec02-4143-8a80-3b6c99795397",
   "metadata": {
    "tags": []
   },
   "source": [
    "### Download hexagons with pop data (Based on city)"
   ]
  },
  {
   "cell_type": "code",
   "execution_count": 7,
   "id": "404c531e-b7fb-4861-8bc4-6e85b8be02df",
   "metadata": {
    "tags": []
   },
   "outputs": [
    {
     "name": "stdout",
     "output_type": "stream",
     "text": [
      "(1032, 226)\n"
     ]
    },
    {
     "data": {
      "text/plain": [
       "<Axes: >"
      ]
     },
     "execution_count": 7,
     "metadata": {},
     "output_type": "execute_result"
    },
    {
     "data": {
      "image/png": "[encoded data removed]",
      "text/plain": [
       "<Figure size 640x480 with 1 Axes>"
      ]
     },
     "metadata": {},
     "output_type": "display_data"
    }
   ],
   "source": [
    "# Select source (res9)\n",
    "hex_pop = gpd.GeoDataFrame()\n",
    "hex_schema = 'censo'\n",
    "hex_folder = 'hex_censo_mza_2020_res9'\n",
    "\n",
    "if city == 'ZMVM':\n",
    "    # Downloads hexagons corresponding to CDMX only\n",
    "    query = f\"SELECT * FROM {hex_schema}.{hex_folder} WHERE \\\"hex_id_9\\\" IN {hex_ids}\"\n",
    "else:\n",
    "    # Downloads hexagons within 'city'\n",
    "    query = f\"SELECT * FROM {hex_schema}.{hex_folder} WHERE \\\"metropolis\\\" LIKE \\'{city}\\'\"\n",
    "    \n",
    "hex_pop = aup.gdf_from_query(query, geometry_col='geometry')\n",
    "\n",
    "print(hex_pop.shape)\n",
    "hex_pop.head(2)\n",
    "hex_pop.plot()"
   ]
  },
  {
   "cell_type": "markdown",
   "id": "b10c4c92-ddc2-4df3-8569-fea31ea16bdc",
   "metadata": {
    "tags": []
   },
   "source": [
    "### Donwload nodes (Based on city)"
   ]
  },
  {
   "cell_type": "code",
   "execution_count": 8,
   "id": "72492c7b",
   "metadata": {
    "tags": []
   },
   "outputs": [
    {
     "name": "stderr",
     "output_type": "stream",
     "text": [
      "Exception during reset or similar\n",
      "Traceback (most recent call last):\n",
      "  File \"/usr/local/python/lib/python3.10/site-packages/sqlalchemy/pool/base.py\", line 991, in _finalize_fairy\n",
      "    fairy._reset(\n",
      "  File \"/usr/local/python/lib/python3.10/site-packages/sqlalchemy/pool/base.py\", line 1440, in _reset\n",
      "    pool._dialect.do_rollback(self)\n",
      "  File \"/usr/local/python/lib/python3.10/site-packages/sqlalchemy/engine/default.py\", line 657, in do_rollback\n",
      "    dbapi_connection.rollback()\n",
      "psycopg2.OperationalError: SSL SYSCALL error: EOF detected\n",
      "\n",
      "Exception during reset or similar\n",
      "Traceback (most recent call last):\n",
      "  File \"/usr/local/python/lib/python3.10/site-packages/sqlalchemy/pool/base.py\", line 991, in _finalize_fairy\n",
      "    fairy._reset(\n",
      "  File \"/usr/local/python/lib/python3.10/site-packages/sqlalchemy/pool/base.py\", line 1440, in _reset\n",
      "    pool._dialect.do_rollback(self)\n",
      "  File \"/usr/local/python/lib/python3.10/site-packages/sqlalchemy/engine/default.py\", line 657, in do_rollback\n",
      "    dbapi_connection.rollback()\n",
      "psycopg2.OperationalError: SSL SYSCALL error: EOF detected\n",
      "\n"
     ]
    },
    {
     "name": "stdout",
     "output_type": "stream",
     "text": [
      "(1065960, 7)\n"
     ]
    },
    {
     "data": {
      "text/html": [
       "<div>\n",
       "<style scoped>\n",
       "    .dataframe tbody tr th:only-of-type {\n",
       "        vertical-align: middle;\n",
       "    }\n",
       "\n",
       "    .dataframe tbody tr th {\n",
       "        vertical-align: top;\n",
       "    }\n",
       "\n",
       "    .dataframe thead th {\n",
       "        text-align: right;\n",
       "    }\n",
       "</style>\n",
       "<table border=\"1\" class=\"dataframe\">\n",
       "  <thead>\n",
       "    <tr style=\"text-align: right;\">\n",
       "      <th></th>\n",
       "      <th>osmid</th>\n",
       "      <th>x</th>\n",
       "      <th>y</th>\n",
       "      <th>geometry</th>\n",
       "      <th>time</th>\n",
       "      <th>amenity</th>\n",
       "      <th>metropolis</th>\n",
       "    </tr>\n",
       "  </thead>\n",
       "  <tbody>\n",
       "    <tr>\n",
       "      <th>0</th>\n",
       "      <td>5700613043</td>\n",
       "      <td>-116.576125</td>\n",
       "      <td>31.860368</td>\n",
       "      <td>POINT (-116.57612 31.86037)</td>\n",
       "      <td>68.513457</td>\n",
       "      <td>denue_museos</td>\n",
       "      <td>Ensenada</td>\n",
       "    </tr>\n",
       "    <tr>\n",
       "      <th>1</th>\n",
       "      <td>5759591470</td>\n",
       "      <td>-116.572642</td>\n",
       "      <td>31.719765</td>\n",
       "      <td>POINT (-116.57264 31.71977)</td>\n",
       "      <td>126.839678</td>\n",
       "      <td>denue_museos</td>\n",
       "      <td>Ensenada</td>\n",
       "    </tr>\n",
       "  </tbody>\n",
       "</table>\n",
       "</div>"
      ],
      "text/plain": [
       "        osmid           x          y                     geometry        time  \\\n",
       "0  5700613043 -116.576125  31.860368  POINT (-116.57612 31.86037)   68.513457   \n",
       "1  5759591470 -116.572642  31.719765  POINT (-116.57264 31.71977)  126.839678   \n",
       "\n",
       "        amenity metropolis  \n",
       "0  denue_museos   Ensenada  \n",
       "1  denue_museos   Ensenada  "
      ]
     },
     "execution_count": 8,
     "metadata": {},
     "output_type": "execute_result"
    }
   ],
   "source": [
    "# ORIGINAL, HOW IT SHOULD BE\n",
    "#Folder names from database\n",
    "nodes_schema = 'prox_analysis'\n",
    "nodes_table = 'nodes_proximity_2020'\n",
    "\n",
    "if city == 'ZMVM':\n",
    "    query = f\"SELECT * FROM {nodes_schema}.{nodes_table} WHERE ST_Intersects(geometry, 'SRID=4326;{poly_wkt}')\"\n",
    "else:\n",
    "    query = f\"SELECT * FROM {nodes_schema}.{nodes_table} WHERE \\\"metropolis\\\" LIKE \\'{city}\\'\"\n",
    "\n",
    "nodes = aup.gdf_from_query(query, geometry_col='geometry')\n",
    "\n",
    "print(nodes.shape)\n",
    "nodes.head(2)"
   ]
  },
  {
   "cell_type": "code",
   "execution_count": 9,
   "id": "0e6ea73f-b345-4d55-8d32-82de509688fe",
   "metadata": {},
   "outputs": [],
   "source": [
    "# Attempt to Load CDMX nodes directly from VScode, made it faster.\n",
    "#if city == 'ZMVM' and save_toexternal and :\n",
    "    #gdf.to_file('dataframe.gpkg', driver='GPKG', layer='name')\n",
    "#    nodes.to_file(\"../../data/external/temporal_fromjupyter/cdmx_nodes.gpkg\", driver='GPKG', layer='name')"
   ]
  },
  {
   "cell_type": "code",
   "execution_count": 10,
   "id": "55344fc2-1eb8-4d32-ba05-15f02b88bdd1",
   "metadata": {
    "tags": []
   },
   "outputs": [],
   "source": [
    "# Attempt to Load CDMX nodes directly from VScode, made it faster.\n",
    "#if city == 'ZMVM':\n",
    "#    nodes = gpd.read_file(\"../../data/external/temporal_fromjupyter/cdmx_nodes.gpkg\")"
   ]
  },
  {
   "cell_type": "markdown",
   "id": "d6780dd4-4036-4003-abd6-ea758bef70ce",
   "metadata": {
    "tags": []
   },
   "source": [
    "### Download hexagons res9 (Based on city)"
   ]
  },
  {
   "cell_type": "code",
   "execution_count": 11,
   "id": "d4774933-0a57-46bc-bf44-081679cbb22e",
   "metadata": {
    "tags": []
   },
   "outputs": [],
   "source": [
    "#res = 9\n",
    "#folder = 'hexgrid'\n",
    "#table = f'hexgrid_{res}_city'\n",
    "\n",
    "#if city == 'ZMVM':\n",
    "#    hex_res_9 = hexgrid_9_cdmx.copy()\n",
    "#else:\n",
    "#    query = f\"SELECT * FROM {folder}.{table} WHERE \\\"metropolis\\\" LIKE \\'{city}\\'\"\n",
    "#    hex_res_9 = aup.gdf_from_query(query, geometry_col='geometry')\n",
    "#    hex_res_9 = hex_res_9[[f'hex_id_{res}','geometry','metropolis']]\n",
    "\n",
    "#print(hex_res_9.shape)\n",
    "#hex_res_9.head(2)"
   ]
  },
  {
   "cell_type": "markdown",
   "id": "754f3277",
   "metadata": {
    "tags": []
   },
   "source": [
    "## Data treatment"
   ]
  },
  {
   "cell_type": "markdown",
   "id": "415f575a",
   "metadata": {},
   "source": [
    "### Remove duplicate nodes"
   ]
  },
  {
   "cell_type": "markdown",
   "id": "cc70d04b-19da-45d0-a944-63bf092e881c",
   "metadata": {},
   "source": [
    "Creates nodes keeping osmid, geometry and metropolis (without duplicates) to store times to each amenity source by node in following loop."
   ]
  },
  {
   "cell_type": "code",
   "execution_count": 12,
   "id": "32d072e2",
   "metadata": {
    "tags": []
   },
   "outputs": [
    {
     "name": "stdout",
     "output_type": "stream",
     "text": [
      "(25176, 3)\n"
     ]
    },
    {
     "data": {
      "text/html": [
       "<div>\n",
       "<style scoped>\n",
       "    .dataframe tbody tr th:only-of-type {\n",
       "        vertical-align: middle;\n",
       "    }\n",
       "\n",
       "    .dataframe tbody tr th {\n",
       "        vertical-align: top;\n",
       "    }\n",
       "\n",
       "    .dataframe thead th {\n",
       "        text-align: right;\n",
       "    }\n",
       "</style>\n",
       "<table border=\"1\" class=\"dataframe\">\n",
       "  <thead>\n",
       "    <tr style=\"text-align: right;\">\n",
       "      <th></th>\n",
       "      <th>osmid</th>\n",
       "      <th>geometry</th>\n",
       "      <th>metropolis</th>\n",
       "    </tr>\n",
       "  </thead>\n",
       "  <tbody>\n",
       "    <tr>\n",
       "      <th>285184</th>\n",
       "      <td>303085823</td>\n",
       "      <td>POINT (-115.53474 30.72561)</td>\n",
       "      <td>Ensenada</td>\n",
       "    </tr>\n",
       "    <tr>\n",
       "      <th>285470</th>\n",
       "      <td>361153482</td>\n",
       "      <td>POINT (-115.46385 31.04412)</td>\n",
       "      <td>Ensenada</td>\n",
       "    </tr>\n",
       "  </tbody>\n",
       "</table>\n",
       "</div>"
      ],
      "text/plain": [
       "            osmid                     geometry metropolis\n",
       "285184  303085823  POINT (-115.53474 30.72561)   Ensenada\n",
       "285470  361153482  POINT (-115.46385 31.04412)   Ensenada"
      ]
     },
     "execution_count": 12,
     "metadata": {},
     "output_type": "execute_result"
    }
   ],
   "source": [
    "nodes_geom = nodes.drop_duplicates(subset='osmid', keep=\"last\")[['osmid','geometry','metropolis']].copy()\n",
    "\n",
    "print(nodes_geom.shape)\n",
    "nodes_geom.head(2)"
   ]
  },
  {
   "cell_type": "markdown",
   "id": "53ea8831",
   "metadata": {},
   "source": [
    "### Reorganize previous times in rows to times from each node"
   ]
  },
  {
   "cell_type": "markdown",
   "id": "bd4e983f-b3bc-4352-8b7f-6f7216156617",
   "metadata": {},
   "source": [
    "Organize data by nodes by changing (time to source amenities) from rows (1 column with source amenity name + 1 column with time data) to columns (1 column with time data named after its source amenity)"
   ]
  },
  {
   "cell_type": "code",
   "execution_count": 13,
   "id": "e37629e4",
   "metadata": {
    "tags": []
   },
   "outputs": [
    {
     "name": "stdout",
     "output_type": "stream",
     "text": [
      "(24658, 46)\n"
     ]
    },
    {
     "data": {
      "text/html": [
       "<div>\n",
       "<style scoped>\n",
       "    .dataframe tbody tr th:only-of-type {\n",
       "        vertical-align: middle;\n",
       "    }\n",
       "\n",
       "    .dataframe tbody tr th {\n",
       "        vertical-align: top;\n",
       "    }\n",
       "\n",
       "    .dataframe thead th {\n",
       "        text-align: right;\n",
       "    }\n",
       "</style>\n",
       "<table border=\"1\" class=\"dataframe\">\n",
       "  <thead>\n",
       "    <tr style=\"text-align: right;\">\n",
       "      <th></th>\n",
       "      <th>osmid</th>\n",
       "      <th>geometry</th>\n",
       "      <th>metropolis</th>\n",
       "      <th>denue_museos</th>\n",
       "      <th>denue_cines</th>\n",
       "      <th>denue_centro_cultural</th>\n",
       "      <th>denue_parque_natural</th>\n",
       "      <th>denue_papelerias</th>\n",
       "      <th>denue_libros</th>\n",
       "      <th>denue_revistas_periodicos</th>\n",
       "      <th>...</th>\n",
       "      <th>denue_carnicerias</th>\n",
       "      <th>denue_farmacias</th>\n",
       "      <th>denue_ropa</th>\n",
       "      <th>denue_calzado</th>\n",
       "      <th>denue_muebles</th>\n",
       "      <th>denue_lavanderia</th>\n",
       "      <th>denue_cafe</th>\n",
       "      <th>denue_restaurante_insitu</th>\n",
       "      <th>denue_restaurante_llevar</th>\n",
       "      <th>denue_bares</th>\n",
       "    </tr>\n",
       "  </thead>\n",
       "  <tbody>\n",
       "    <tr>\n",
       "      <th>0</th>\n",
       "      <td>5712532595</td>\n",
       "      <td>POINT (-116.57268 31.86806)</td>\n",
       "      <td>Ensenada</td>\n",
       "      <td>89.473168</td>\n",
       "      <td>98.529567</td>\n",
       "      <td>63.242490</td>\n",
       "      <td>NaN</td>\n",
       "      <td>20.676278</td>\n",
       "      <td>65.179892</td>\n",
       "      <td>32.950616</td>\n",
       "      <td>...</td>\n",
       "      <td>29.856545</td>\n",
       "      <td>25.836370</td>\n",
       "      <td>29.609919</td>\n",
       "      <td>27.120141</td>\n",
       "      <td>25.386790</td>\n",
       "      <td>25.903304</td>\n",
       "      <td>13.383069</td>\n",
       "      <td>23.640004</td>\n",
       "      <td>25.386790</td>\n",
       "      <td>25.688759</td>\n",
       "    </tr>\n",
       "    <tr>\n",
       "      <th>1</th>\n",
       "      <td>5712545541</td>\n",
       "      <td>POINT (-116.57174 31.86683)</td>\n",
       "      <td>Ensenada</td>\n",
       "      <td>89.381142</td>\n",
       "      <td>98.437541</td>\n",
       "      <td>63.150464</td>\n",
       "      <td>NaN</td>\n",
       "      <td>20.584252</td>\n",
       "      <td>65.087866</td>\n",
       "      <td>32.858590</td>\n",
       "      <td>...</td>\n",
       "      <td>31.113219</td>\n",
       "      <td>25.744344</td>\n",
       "      <td>29.517893</td>\n",
       "      <td>27.028115</td>\n",
       "      <td>26.643464</td>\n",
       "      <td>25.811278</td>\n",
       "      <td>13.291043</td>\n",
       "      <td>24.445386</td>\n",
       "      <td>25.811278</td>\n",
       "      <td>26.945433</td>\n",
       "    </tr>\n",
       "  </tbody>\n",
       "</table>\n",
       "<p>2 rows × 46 columns</p>\n",
       "</div>"
      ],
      "text/plain": [
       "        osmid                     geometry metropolis  denue_museos  \\\n",
       "0  5712532595  POINT (-116.57268 31.86806)   Ensenada     89.473168   \n",
       "1  5712545541  POINT (-116.57174 31.86683)   Ensenada     89.381142   \n",
       "\n",
       "   denue_cines  denue_centro_cultural  denue_parque_natural  denue_papelerias  \\\n",
       "0    98.529567              63.242490                   NaN         20.676278   \n",
       "1    98.437541              63.150464                   NaN         20.584252   \n",
       "\n",
       "   denue_libros  denue_revistas_periodicos  ...  denue_carnicerias  \\\n",
       "0     65.179892                  32.950616  ...          29.856545   \n",
       "1     65.087866                  32.858590  ...          31.113219   \n",
       "\n",
       "   denue_farmacias  denue_ropa  denue_calzado  denue_muebles  \\\n",
       "0        25.836370   29.609919      27.120141      25.386790   \n",
       "1        25.744344   29.517893      27.028115      26.643464   \n",
       "\n",
       "   denue_lavanderia  denue_cafe  denue_restaurante_insitu  \\\n",
       "0         25.903304   13.383069                 23.640004   \n",
       "1         25.811278   13.291043                 24.445386   \n",
       "\n",
       "   denue_restaurante_llevar  denue_bares  \n",
       "0                 25.386790    25.688759  \n",
       "1                 25.811278    26.945433  \n",
       "\n",
       "[2 rows x 46 columns]"
      ]
     },
     "execution_count": 13,
     "metadata": {},
     "output_type": "execute_result"
    }
   ],
   "source": [
    "nodes_analysis = nodes_geom.copy()\n",
    "\n",
    "for source_amenity in list(nodes.amenity.unique()):\n",
    "    nodes_tmp = nodes.loc[nodes.amenity == source_amenity,['osmid','time']]\n",
    "    nodes_tmp = nodes_tmp.rename(columns={'time':source_amenity})\n",
    "    # Search for amenities that aren't present in the city (with all values marked as 0) and change them to NaN\n",
    "    if nodes_tmp[source_amenity].mean() == 0:\n",
    "        nodes_tmp[source_amenity] = np.nan\n",
    "    nodes_analysis = nodes_analysis.merge(nodes_tmp, on='osmid')\n",
    "    \n",
    "if save_disk_space:\n",
    "    del nodes_geom\n",
    "    del nodes_tmp\n",
    "\n",
    "print(nodes_analysis.shape)\n",
    "nodes_analysis.head(2)"
   ]
  },
  {
   "cell_type": "markdown",
   "id": "ab6a4ec4",
   "metadata": {},
   "source": [
    "## Proximity analysis"
   ]
  },
  {
   "cell_type": "markdown",
   "id": "bd52161f",
   "metadata": {},
   "source": [
    "### Parameters definitions"
   ]
  },
  {
   "cell_type": "code",
   "execution_count": 14,
   "id": "cd0341a7",
   "metadata": {
    "tags": []
   },
   "outputs": [],
   "source": [
    "#{Eje (e):\n",
    "#         {Amenidad (a):\n",
    "#                       {Source (s))}}}\n",
    "\n",
    "idx_15_min = {'Escuelas':{'Preescolar':['denue_preescolar'],\n",
    "                         'Primaria':['denue_primaria'],\n",
    "                         'Secundaria':['denue_secundaria']},\n",
    "             'Servicios comunitarios':{'Salud':['clues_primer_nivel'],\n",
    "                                       'Guarderías':['denue_guarderias'],\n",
    "                                       'Asistencia social':['denue_dif']},\n",
    "              'Comercio':{'Alimentos':['denue_supermercado','denue_abarrotes',\n",
    "                                       'denue_carnicerias','sip_mercado'],\n",
    "                          'Personal':['denue_peluqueria'],\n",
    "                          'Farmacias':['denue_farmacias'],\n",
    "                          'Hogar':['denue_ferreteria_tlapaleria','denue_art_limpieza'],\n",
    "                          'Complementarios':['denue_ropa','denue_calzado','denue_muebles',\n",
    "                                             'denue_lavanderia','denue_revistas_periodicos',\n",
    "                                             'denue_pintura']},\n",
    "              'Entretenimiento':{'Social':['denue_restaurante_insitu','denue_restaurante_llevar',\n",
    "                                           'denue_bares','denue_cafe'],\n",
    "                                'Actividad física':['sip_cancha','sip_unidad_deportiva',\n",
    "                                                    'sip_espacio_publico','denue_parque_natural'],\n",
    "                                'Cultural':['denue_cines','denue_museos']} \n",
    "             }\n",
    "\n",
    "#If weight of amenity is less than number of sources, the algorith chooses the minimum time to source. Else (if equall or greater), chooses max time.\n",
    "wegiht_idx = {'Escuelas':{'Preescolar':1,\n",
    "                        'Primaria':1,\n",
    "                        'Secundaria':1},\n",
    "            'Servicios comunitarios':{'Salud':1,\n",
    "                                    'Guarderías':1,\n",
    "                                    'Asistencia social':1},\n",
    "            'Comercio':{'Alimentos':1,\n",
    "                        'Personal':1,\n",
    "                        'Farmacias':1,\n",
    "                        'Hogar':1,\n",
    "                        'Complementarios':1},\n",
    "            'Entretenimiento':{'Social':4,\n",
    "                                'Actividad física':1,\n",
    "                                'Cultural':1}\n",
    "            }"
   ]
  },
  {
   "cell_type": "markdown",
   "id": "b1483cef-6607-4033-be7e-a8ae8a531bf5",
   "metadata": {},
   "source": [
    "### Fill missing columns (In case there is a source amenity not available in a city)"
   ]
  },
  {
   "cell_type": "code",
   "execution_count": 15,
   "id": "a66d5dac-1dd8-4726-8a99-7cb794c267af",
   "metadata": {
    "tags": []
   },
   "outputs": [
    {
     "name": "stdout",
     "output_type": "stream",
     "text": [
      "There are 0 non present source amenities in Ensenada\n"
     ]
    },
    {
     "data": {
      "text/plain": [
       "[]"
      ]
     },
     "execution_count": 15,
     "metadata": {},
     "output_type": "execute_result"
    }
   ],
   "source": [
    "sources = []\n",
    "\n",
    "# Gather all possible sources\n",
    "for eje in idx_15_min.keys():\n",
    "    for amenity in idx_15_min[eje].values():\n",
    "        for source in amenity:\n",
    "            sources.append(source)\n",
    "\n",
    "# If source not in currently analized city, fill column with np.nan\n",
    "column_list = list(nodes_analysis.columns)\n",
    "\n",
    "missing_sourceamenities = []\n",
    "\n",
    "for s in sources:\n",
    "        if s not in column_list:\n",
    "            nodes_analysis[s] = np.nan\n",
    "            missing_sourceamenities.append(a)\n",
    "\n",
    "print(\"There are {} non present source amenities in {}\".format(len(missing_sourceamenities),city))\n",
    "missing_sourceamenities"
   ]
  },
  {
   "cell_type": "markdown",
   "id": "30566833-04dc-439a-8edb-536d0020484e",
   "metadata": {},
   "source": [
    "## Proximity analysis - Max time calculation"
   ]
  },
  {
   "cell_type": "code",
   "execution_count": 16,
   "id": "62d070a3-8e70-415c-b28a-a918a4fbfef9",
   "metadata": {
    "tags": []
   },
   "outputs": [],
   "source": [
    "# time by ammenity\n",
    "\n",
    "column_max_all = [] # list with all max index column names\n",
    "column_max_ejes = [] # list with ejes index column names\n",
    "\n",
    "#Goes through each eje in dictionary:\n",
    "for e in idx_15_min.keys():\n",
    "    \n",
    "    #Appends to 3 lists currently examined eje\n",
    "    column_max_all.append('max_'+ e.lower())\n",
    "    column_max_ejes.append('max_'+ e.lower())\n",
    "    column_max_amenities = [] # list with amenities in current eje\n",
    "    \n",
    "    #Goes through each amenity of current eje:\n",
    "    for a in idx_15_min[e].keys():\n",
    "        \n",
    "        #Appends to 2 lists currently examined amenity:\n",
    "        column_max_all.append('max_'+ a.lower())\n",
    "        column_max_amenities.append('max_'+ a.lower())\n",
    "\n",
    "        #Calculates time to currently examined amenity:\n",
    "        #If weight is less than number of sources of amenity, choose minimum time to sources.\n",
    "        if wegiht_idx[e][a] < len(idx_15_min[e][a]): \n",
    "            nodes_analysis['max_'+ a.lower()] = nodes_analysis[idx_15_min[e][a]].min(axis=1)\n",
    "        #Else, choose maximum time to sources.\n",
    "        else:\n",
    "            nodes_analysis['max_'+ a.lower()] = nodes_analysis[idx_15_min[e][a]].max(axis=1)\n",
    "    \n",
    "    #Calculates time to currently examined eje (max time of its amenities):\n",
    "    nodes_analysis['max_'+ e.lower()] = nodes_analysis[column_max_amenities].max(axis=1) \n",
    "\n",
    "index_column = 'max_time' # column name for maximum time data\n",
    "\n",
    "#Add to column_max_all list the attribute 'max_time'\n",
    "column_max_all.append(index_column)\n",
    "\n",
    "#Assigns \"max_time\" the max time for all ejes\n",
    "nodes_analysis[index_column] = nodes_analysis[column_max_ejes].max(axis=1) "
   ]
  },
  {
   "cell_type": "code",
   "execution_count": 17,
   "id": "13b7e3df-6462-4166-a55b-1397d5826fc3",
   "metadata": {
    "tags": []
   },
   "outputs": [
    {
     "data": {
      "text/html": [
       "<div>\n",
       "<style scoped>\n",
       "    .dataframe tbody tr th:only-of-type {\n",
       "        vertical-align: middle;\n",
       "    }\n",
       "\n",
       "    .dataframe tbody tr th {\n",
       "        vertical-align: top;\n",
       "    }\n",
       "\n",
       "    .dataframe thead th {\n",
       "        text-align: right;\n",
       "    }\n",
       "</style>\n",
       "<table border=\"1\" class=\"dataframe\">\n",
       "  <thead>\n",
       "    <tr style=\"text-align: right;\">\n",
       "      <th></th>\n",
       "      <th>osmid</th>\n",
       "      <th>geometry</th>\n",
       "      <th>metropolis</th>\n",
       "      <th>denue_museos</th>\n",
       "      <th>denue_cines</th>\n",
       "      <th>denue_centro_cultural</th>\n",
       "      <th>denue_parque_natural</th>\n",
       "      <th>denue_papelerias</th>\n",
       "      <th>denue_libros</th>\n",
       "      <th>denue_revistas_periodicos</th>\n",
       "      <th>...</th>\n",
       "      <th>max_personal</th>\n",
       "      <th>max_farmacias</th>\n",
       "      <th>max_hogar</th>\n",
       "      <th>max_complementarios</th>\n",
       "      <th>max_comercio</th>\n",
       "      <th>max_social</th>\n",
       "      <th>max_actividad física</th>\n",
       "      <th>max_cultural</th>\n",
       "      <th>max_entretenimiento</th>\n",
       "      <th>max_time</th>\n",
       "    </tr>\n",
       "  </thead>\n",
       "  <tbody>\n",
       "    <tr>\n",
       "      <th>0</th>\n",
       "      <td>5712532595</td>\n",
       "      <td>POINT (-116.57268 31.86806)</td>\n",
       "      <td>Ensenada</td>\n",
       "      <td>89.473168</td>\n",
       "      <td>98.529567</td>\n",
       "      <td>63.242490</td>\n",
       "      <td>NaN</td>\n",
       "      <td>20.676278</td>\n",
       "      <td>65.179892</td>\n",
       "      <td>32.950616</td>\n",
       "      <td>...</td>\n",
       "      <td>3.607696</td>\n",
       "      <td>25.836370</td>\n",
       "      <td>20.676278</td>\n",
       "      <td>25.386790</td>\n",
       "      <td>25.836370</td>\n",
       "      <td>25.688759</td>\n",
       "      <td>24.795522</td>\n",
       "      <td>89.473168</td>\n",
       "      <td>89.473168</td>\n",
       "      <td>89.473168</td>\n",
       "    </tr>\n",
       "    <tr>\n",
       "      <th>1</th>\n",
       "      <td>5712545541</td>\n",
       "      <td>POINT (-116.57174 31.86683)</td>\n",
       "      <td>Ensenada</td>\n",
       "      <td>89.381142</td>\n",
       "      <td>98.437541</td>\n",
       "      <td>63.150464</td>\n",
       "      <td>NaN</td>\n",
       "      <td>20.584252</td>\n",
       "      <td>65.087866</td>\n",
       "      <td>32.858590</td>\n",
       "      <td>...</td>\n",
       "      <td>3.515670</td>\n",
       "      <td>25.744344</td>\n",
       "      <td>20.584252</td>\n",
       "      <td>25.811278</td>\n",
       "      <td>25.811278</td>\n",
       "      <td>26.945433</td>\n",
       "      <td>26.052196</td>\n",
       "      <td>89.381142</td>\n",
       "      <td>89.381142</td>\n",
       "      <td>89.381142</td>\n",
       "    </tr>\n",
       "  </tbody>\n",
       "</table>\n",
       "<p>2 rows × 65 columns</p>\n",
       "</div>"
      ],
      "text/plain": [
       "        osmid                     geometry metropolis  denue_museos  \\\n",
       "0  5712532595  POINT (-116.57268 31.86806)   Ensenada     89.473168   \n",
       "1  5712545541  POINT (-116.57174 31.86683)   Ensenada     89.381142   \n",
       "\n",
       "   denue_cines  denue_centro_cultural  denue_parque_natural  denue_papelerias  \\\n",
       "0    98.529567              63.242490                   NaN         20.676278   \n",
       "1    98.437541              63.150464                   NaN         20.584252   \n",
       "\n",
       "   denue_libros  denue_revistas_periodicos  ...  max_personal  max_farmacias  \\\n",
       "0     65.179892                  32.950616  ...      3.607696      25.836370   \n",
       "1     65.087866                  32.858590  ...      3.515670      25.744344   \n",
       "\n",
       "   max_hogar  max_complementarios  max_comercio  max_social  \\\n",
       "0  20.676278            25.386790     25.836370   25.688759   \n",
       "1  20.584252            25.811278     25.811278   26.945433   \n",
       "\n",
       "   max_actividad física  max_cultural  max_entretenimiento   max_time  \n",
       "0             24.795522     89.473168            89.473168  89.473168  \n",
       "1             26.052196     89.381142            89.381142  89.381142  \n",
       "\n",
       "[2 rows x 65 columns]"
      ]
     },
     "execution_count": 17,
     "metadata": {},
     "output_type": "execute_result"
    }
   ],
   "source": [
    "nodes_analysis.head(2)"
   ]
  },
  {
   "cell_type": "code",
   "execution_count": 18,
   "id": "8c4087ba-847d-49cd-8826-e6ac0eab7564",
   "metadata": {
    "tags": []
   },
   "outputs": [
    {
     "data": {
      "text/html": [
       "<div>\n",
       "<style scoped>\n",
       "    .dataframe tbody tr th:only-of-type {\n",
       "        vertical-align: middle;\n",
       "    }\n",
       "\n",
       "    .dataframe tbody tr th {\n",
       "        vertical-align: top;\n",
       "    }\n",
       "\n",
       "    .dataframe thead th {\n",
       "        text-align: right;\n",
       "    }\n",
       "</style>\n",
       "<table border=\"1\" class=\"dataframe\">\n",
       "  <thead>\n",
       "    <tr style=\"text-align: right;\">\n",
       "      <th></th>\n",
       "      <th>max_escuelas</th>\n",
       "      <th>max_preescolar</th>\n",
       "      <th>max_primaria</th>\n",
       "      <th>max_secundaria</th>\n",
       "      <th>max_servicios comunitarios</th>\n",
       "      <th>max_salud</th>\n",
       "      <th>max_guarderías</th>\n",
       "      <th>max_asistencia social</th>\n",
       "      <th>max_comercio</th>\n",
       "      <th>max_alimentos</th>\n",
       "      <th>...</th>\n",
       "      <th>max_farmacias</th>\n",
       "      <th>max_hogar</th>\n",
       "      <th>max_complementarios</th>\n",
       "      <th>max_entretenimiento</th>\n",
       "      <th>max_social</th>\n",
       "      <th>max_actividad física</th>\n",
       "      <th>max_cultural</th>\n",
       "      <th>max_time</th>\n",
       "      <th>osmid</th>\n",
       "      <th>geometry</th>\n",
       "    </tr>\n",
       "  </thead>\n",
       "  <tbody>\n",
       "    <tr>\n",
       "      <th>0</th>\n",
       "      <td>20.775571</td>\n",
       "      <td>8.476638</td>\n",
       "      <td>13.383069</td>\n",
       "      <td>20.775571</td>\n",
       "      <td>40.327029</td>\n",
       "      <td>29.396623</td>\n",
       "      <td>37.699815</td>\n",
       "      <td>40.327029</td>\n",
       "      <td>25.836370</td>\n",
       "      <td>5.268918</td>\n",
       "      <td>...</td>\n",
       "      <td>25.836370</td>\n",
       "      <td>20.676278</td>\n",
       "      <td>25.386790</td>\n",
       "      <td>89.473168</td>\n",
       "      <td>25.688759</td>\n",
       "      <td>24.795522</td>\n",
       "      <td>89.473168</td>\n",
       "      <td>89.473168</td>\n",
       "      <td>5712532595</td>\n",
       "      <td>POINT (-116.57268 31.86806)</td>\n",
       "    </tr>\n",
       "    <tr>\n",
       "      <th>1</th>\n",
       "      <td>20.683544</td>\n",
       "      <td>9.733312</td>\n",
       "      <td>13.291043</td>\n",
       "      <td>20.683544</td>\n",
       "      <td>40.235003</td>\n",
       "      <td>29.304597</td>\n",
       "      <td>37.607789</td>\n",
       "      <td>40.235003</td>\n",
       "      <td>25.811278</td>\n",
       "      <td>3.026723</td>\n",
       "      <td>...</td>\n",
       "      <td>25.744344</td>\n",
       "      <td>20.584252</td>\n",
       "      <td>25.811278</td>\n",
       "      <td>89.381142</td>\n",
       "      <td>26.945433</td>\n",
       "      <td>26.052196</td>\n",
       "      <td>89.381142</td>\n",
       "      <td>89.381142</td>\n",
       "      <td>5712545541</td>\n",
       "      <td>POINT (-116.57174 31.86683)</td>\n",
       "    </tr>\n",
       "  </tbody>\n",
       "</table>\n",
       "<p>2 rows × 21 columns</p>\n",
       "</div>"
      ],
      "text/plain": [
       "   max_escuelas  max_preescolar  max_primaria  max_secundaria  \\\n",
       "0     20.775571        8.476638     13.383069       20.775571   \n",
       "1     20.683544        9.733312     13.291043       20.683544   \n",
       "\n",
       "   max_servicios comunitarios  max_salud  max_guarderías  \\\n",
       "0                   40.327029  29.396623       37.699815   \n",
       "1                   40.235003  29.304597       37.607789   \n",
       "\n",
       "   max_asistencia social  max_comercio  max_alimentos  ...  max_farmacias  \\\n",
       "0              40.327029     25.836370       5.268918  ...      25.836370   \n",
       "1              40.235003     25.811278       3.026723  ...      25.744344   \n",
       "\n",
       "   max_hogar  max_complementarios  max_entretenimiento  max_social  \\\n",
       "0  20.676278            25.386790            89.473168   25.688759   \n",
       "1  20.584252            25.811278            89.381142   26.945433   \n",
       "\n",
       "   max_actividad física  max_cultural   max_time       osmid  \\\n",
       "0             24.795522     89.473168  89.473168  5712532595   \n",
       "1             26.052196     89.381142  89.381142  5712545541   \n",
       "\n",
       "                      geometry  \n",
       "0  POINT (-116.57268 31.86806)  \n",
       "1  POINT (-116.57174 31.86683)  \n",
       "\n",
       "[2 rows x 21 columns]"
      ]
     },
     "execution_count": 18,
     "metadata": {},
     "output_type": "execute_result"
    }
   ],
   "source": [
    "#Add to column_max_all list the attributes 'osmid' and 'geometry' to filter nodes_analysis with the column_max_all list.\n",
    "column_max_all.append('osmid')\n",
    "column_max_all.append('geometry')\n",
    "nodes_analysis_filter = nodes_analysis[column_max_all].copy()\n",
    "\n",
    "if save_disk_space:\n",
    "    del nodes_analysis\n",
    "\n",
    "nodes_analysis_filter.head(2)"
   ]
  },
  {
   "cell_type": "markdown",
   "id": "380ab501-da1a-46a3-b322-6f582ae0196f",
   "metadata": {
    "tags": []
   },
   "source": [
    "### Group times by hexagons"
   ]
  },
  {
   "cell_type": "code",
   "execution_count": 19,
   "id": "1ce3470b-9587-454d-8cc1-d1a2586ea5d7",
   "metadata": {
    "tags": []
   },
   "outputs": [
    {
     "data": {
      "text/html": [
       "<div>\n",
       "<style scoped>\n",
       "    .dataframe tbody tr th:only-of-type {\n",
       "        vertical-align: middle;\n",
       "    }\n",
       "\n",
       "    .dataframe tbody tr th {\n",
       "        vertical-align: top;\n",
       "    }\n",
       "\n",
       "    .dataframe thead th {\n",
       "        text-align: right;\n",
       "    }\n",
       "</style>\n",
       "<table border=\"1\" class=\"dataframe\">\n",
       "  <thead>\n",
       "    <tr style=\"text-align: right;\">\n",
       "      <th></th>\n",
       "      <th>hex_id_9</th>\n",
       "      <th>geometry</th>\n",
       "      <th>max_escuelas</th>\n",
       "      <th>max_preescolar</th>\n",
       "      <th>max_primaria</th>\n",
       "      <th>max_secundaria</th>\n",
       "      <th>max_servicios comunitarios</th>\n",
       "      <th>max_salud</th>\n",
       "      <th>max_guarderías</th>\n",
       "      <th>max_asistencia social</th>\n",
       "      <th>...</th>\n",
       "      <th>max_alimentos</th>\n",
       "      <th>max_personal</th>\n",
       "      <th>max_farmacias</th>\n",
       "      <th>max_hogar</th>\n",
       "      <th>max_complementarios</th>\n",
       "      <th>max_entretenimiento</th>\n",
       "      <th>max_social</th>\n",
       "      <th>max_actividad física</th>\n",
       "      <th>max_cultural</th>\n",
       "      <th>max_time</th>\n",
       "    </tr>\n",
       "  </thead>\n",
       "  <tbody>\n",
       "    <tr>\n",
       "      <th>0</th>\n",
       "      <td>89484a48c2fffff</td>\n",
       "      <td>POLYGON ((-116.61020 31.88506, -116.60907 31.8...</td>\n",
       "      <td>16.061993</td>\n",
       "      <td>8.099098</td>\n",
       "      <td>5.636351</td>\n",
       "      <td>16.061993</td>\n",
       "      <td>9.150146</td>\n",
       "      <td>8.728205</td>\n",
       "      <td>4.856189</td>\n",
       "      <td>7.119233</td>\n",
       "      <td>...</td>\n",
       "      <td>1.742231</td>\n",
       "      <td>3.159685</td>\n",
       "      <td>2.613895</td>\n",
       "      <td>10.049313</td>\n",
       "      <td>2.115332</td>\n",
       "      <td>49.806385</td>\n",
       "      <td>39.028606</td>\n",
       "      <td>8.873917</td>\n",
       "      <td>49.806385</td>\n",
       "      <td>49.806385</td>\n",
       "    </tr>\n",
       "    <tr>\n",
       "      <th>1</th>\n",
       "      <td>89484a4a097ffff</td>\n",
       "      <td>POLYGON ((-116.58586 31.78291, -116.58473 31.7...</td>\n",
       "      <td>13.218007</td>\n",
       "      <td>12.409561</td>\n",
       "      <td>9.750929</td>\n",
       "      <td>10.886813</td>\n",
       "      <td>25.497337</td>\n",
       "      <td>11.259966</td>\n",
       "      <td>9.063725</td>\n",
       "      <td>25.497337</td>\n",
       "      <td>...</td>\n",
       "      <td>8.393254</td>\n",
       "      <td>5.423916</td>\n",
       "      <td>9.932699</td>\n",
       "      <td>7.706554</td>\n",
       "      <td>6.968641</td>\n",
       "      <td>17.088784</td>\n",
       "      <td>17.088784</td>\n",
       "      <td>5.858889</td>\n",
       "      <td>14.022923</td>\n",
       "      <td>25.731962</td>\n",
       "    </tr>\n",
       "  </tbody>\n",
       "</table>\n",
       "<p>2 rows × 21 columns</p>\n",
       "</div>"
      ],
      "text/plain": [
       "          hex_id_9                                           geometry  \\\n",
       "0  89484a48c2fffff  POLYGON ((-116.61020 31.88506, -116.60907 31.8...   \n",
       "1  89484a4a097ffff  POLYGON ((-116.58586 31.78291, -116.58473 31.7...   \n",
       "\n",
       "   max_escuelas  max_preescolar  max_primaria  max_secundaria  \\\n",
       "0     16.061993        8.099098      5.636351       16.061993   \n",
       "1     13.218007       12.409561      9.750929       10.886813   \n",
       "\n",
       "   max_servicios comunitarios  max_salud  max_guarderías  \\\n",
       "0                    9.150146   8.728205        4.856189   \n",
       "1                   25.497337  11.259966        9.063725   \n",
       "\n",
       "   max_asistencia social  ...  max_alimentos  max_personal  max_farmacias  \\\n",
       "0               7.119233  ...       1.742231      3.159685       2.613895   \n",
       "1              25.497337  ...       8.393254      5.423916       9.932699   \n",
       "\n",
       "   max_hogar  max_complementarios  max_entretenimiento  max_social  \\\n",
       "0  10.049313             2.115332            49.806385   39.028606   \n",
       "1   7.706554             6.968641            17.088784   17.088784   \n",
       "\n",
       "   max_actividad física  max_cultural   max_time  \n",
       "0              8.873917     49.806385  49.806385  \n",
       "1              5.858889     14.022923  25.731962  \n",
       "\n",
       "[2 rows x 21 columns]"
      ]
     },
     "execution_count": 19,
     "metadata": {},
     "output_type": "execute_result"
    }
   ],
   "source": [
    "# group data by hex\n",
    "res = 9\n",
    "hex_tmp = hex_pop[['hex_id_9','geometry']]\n",
    "hex_res_9_idx = aup.group_by_hex_mean(nodes_analysis_filter, hex_tmp, res, index_column)\n",
    "hex_res_9_idx = hex_res_9_idx.loc[hex_res_9_idx[index_column]>0].copy()\n",
    "\n",
    "if save_disk_space:\n",
    "    del hex_tmp\n",
    "\n",
    "# Review result\n",
    "hex_res_9_idx.head(2)"
   ]
  },
  {
   "cell_type": "code",
   "execution_count": 20,
   "id": "7b924319-c115-43a8-8350-e880d19e14ba",
   "metadata": {
    "tags": []
   },
   "outputs": [
    {
     "data": {
      "text/plain": [
       "<Axes: >"
      ]
     },
     "execution_count": 20,
     "metadata": {},
     "output_type": "execute_result"
    },
    {
     "data": {
      "image/png": "[encoded data removed]",
      "text/plain": [
       "<Figure size 640x480 with 1 Axes>"
      ]
     },
     "metadata": {},
     "output_type": "display_data"
    }
   ],
   "source": [
    "if save_disk_space:\n",
    "    del nodes_analysis_filter\n",
    "\n",
    "hex_res_9_idx.plot('max_time',cmap = 'viridis_r')"
   ]
  },
  {
   "cell_type": "markdown",
   "id": "6bf4113e-f8ca-44be-b0fc-cd32a2b8143c",
   "metadata": {
    "tags": []
   },
   "source": [
    "### Re-calculate max times by hexagon"
   ]
  },
  {
   "cell_type": "code",
   "execution_count": 21,
   "id": "c905be14-a6c6-41f3-bbcd-c518a31bb14a",
   "metadata": {
    "tags": []
   },
   "outputs": [
    {
     "data": {
      "text/html": [
       "<div>\n",
       "<style scoped>\n",
       "    .dataframe tbody tr th:only-of-type {\n",
       "        vertical-align: middle;\n",
       "    }\n",
       "\n",
       "    .dataframe tbody tr th {\n",
       "        vertical-align: top;\n",
       "    }\n",
       "\n",
       "    .dataframe thead th {\n",
       "        text-align: right;\n",
       "    }\n",
       "</style>\n",
       "<table border=\"1\" class=\"dataframe\">\n",
       "  <thead>\n",
       "    <tr style=\"text-align: right;\">\n",
       "      <th></th>\n",
       "      <th>hex_id_9</th>\n",
       "      <th>geometry</th>\n",
       "      <th>max_escuelas</th>\n",
       "      <th>max_preescolar</th>\n",
       "      <th>max_primaria</th>\n",
       "      <th>max_secundaria</th>\n",
       "      <th>max_servicios comunitarios</th>\n",
       "      <th>max_salud</th>\n",
       "      <th>max_guarderías</th>\n",
       "      <th>max_asistencia social</th>\n",
       "      <th>...</th>\n",
       "      <th>max_alimentos</th>\n",
       "      <th>max_personal</th>\n",
       "      <th>max_farmacias</th>\n",
       "      <th>max_hogar</th>\n",
       "      <th>max_complementarios</th>\n",
       "      <th>max_entretenimiento</th>\n",
       "      <th>max_social</th>\n",
       "      <th>max_actividad física</th>\n",
       "      <th>max_cultural</th>\n",
       "      <th>max_time</th>\n",
       "    </tr>\n",
       "  </thead>\n",
       "  <tbody>\n",
       "    <tr>\n",
       "      <th>0</th>\n",
       "      <td>89484a48c2fffff</td>\n",
       "      <td>POLYGON ((-116.61020 31.88506, -116.60907 31.8...</td>\n",
       "      <td>16.061993</td>\n",
       "      <td>8.099098</td>\n",
       "      <td>5.636351</td>\n",
       "      <td>16.061993</td>\n",
       "      <td>8.728205</td>\n",
       "      <td>8.728205</td>\n",
       "      <td>4.856189</td>\n",
       "      <td>7.119233</td>\n",
       "      <td>...</td>\n",
       "      <td>1.742231</td>\n",
       "      <td>3.159685</td>\n",
       "      <td>2.613895</td>\n",
       "      <td>10.049313</td>\n",
       "      <td>2.115332</td>\n",
       "      <td>49.806385</td>\n",
       "      <td>39.028606</td>\n",
       "      <td>8.873917</td>\n",
       "      <td>49.806385</td>\n",
       "      <td>49.806385</td>\n",
       "    </tr>\n",
       "    <tr>\n",
       "      <th>1</th>\n",
       "      <td>89484a4a097ffff</td>\n",
       "      <td>POLYGON ((-116.58586 31.78291, -116.58473 31.7...</td>\n",
       "      <td>12.409561</td>\n",
       "      <td>12.409561</td>\n",
       "      <td>9.750929</td>\n",
       "      <td>10.886813</td>\n",
       "      <td>25.497337</td>\n",
       "      <td>11.259966</td>\n",
       "      <td>9.063725</td>\n",
       "      <td>25.497337</td>\n",
       "      <td>...</td>\n",
       "      <td>8.393254</td>\n",
       "      <td>5.423916</td>\n",
       "      <td>9.932699</td>\n",
       "      <td>7.706554</td>\n",
       "      <td>6.968641</td>\n",
       "      <td>17.088784</td>\n",
       "      <td>17.088784</td>\n",
       "      <td>5.858889</td>\n",
       "      <td>14.022923</td>\n",
       "      <td>25.497337</td>\n",
       "    </tr>\n",
       "  </tbody>\n",
       "</table>\n",
       "<p>2 rows × 21 columns</p>\n",
       "</div>"
      ],
      "text/plain": [
       "          hex_id_9                                           geometry  \\\n",
       "0  89484a48c2fffff  POLYGON ((-116.61020 31.88506, -116.60907 31.8...   \n",
       "1  89484a4a097ffff  POLYGON ((-116.58586 31.78291, -116.58473 31.7...   \n",
       "\n",
       "   max_escuelas  max_preescolar  max_primaria  max_secundaria  \\\n",
       "0     16.061993        8.099098      5.636351       16.061993   \n",
       "1     12.409561       12.409561      9.750929       10.886813   \n",
       "\n",
       "   max_servicios comunitarios  max_salud  max_guarderías  \\\n",
       "0                    8.728205   8.728205        4.856189   \n",
       "1                   25.497337  11.259966        9.063725   \n",
       "\n",
       "   max_asistencia social  ...  max_alimentos  max_personal  max_farmacias  \\\n",
       "0               7.119233  ...       1.742231      3.159685       2.613895   \n",
       "1              25.497337  ...       8.393254      5.423916       9.932699   \n",
       "\n",
       "   max_hogar  max_complementarios  max_entretenimiento  max_social  \\\n",
       "0  10.049313             2.115332            49.806385   39.028606   \n",
       "1   7.706554             6.968641            17.088784   17.088784   \n",
       "\n",
       "   max_actividad física  max_cultural   max_time  \n",
       "0              8.873917     49.806385  49.806385  \n",
       "1              5.858889     14.022923  25.497337  \n",
       "\n",
       "[2 rows x 21 columns]"
      ]
     },
     "execution_count": 21,
     "metadata": {},
     "output_type": "execute_result"
    }
   ],
   "source": [
    "# recalculates max time to each eje from max times to calculated amenities and max_time from max eje\n",
    "\n",
    "column_max_ejes = [] # list with ejes index column names\n",
    "\n",
    "#Goes (again) through each eje in dictionary:\n",
    "for e in idx_15_min.keys():\n",
    "    \n",
    "    column_max_ejes.append('max_'+ e.lower())\n",
    "    column_max_amenities = [] # list with amenities in current eje\n",
    "    \n",
    "    #Goes (again) through each amenity of current eje:    \n",
    "    for a in idx_15_min[e].keys():\n",
    "        \n",
    "        column_max_amenities.append('max_'+ a.lower())\n",
    "        \n",
    "    #Re-calculates time to currently examined eje (max time of its amenities):        \n",
    "    hex_res_9_idx['max_'+ e.lower()] = hex_res_9_idx[column_max_amenities].max(axis=1)\n",
    "\n",
    "hex_res_9_idx[index_column] = hex_res_9_idx[column_max_ejes].max(axis=1)\n",
    "\n",
    "#Add to column_max_all list the attribute 'max_time'\n",
    "column_max_ejes.append(index_column)\n",
    "\n",
    "#Review results:\n",
    "hex_res_9_idx.head(2)"
   ]
  },
  {
   "cell_type": "markdown",
   "id": "411b8d7e-3e13-4bd0-b3c1-b9e8ce2b6b64",
   "metadata": {},
   "source": [
    "## Proximity analysis - Index, median and mean calculation"
   ]
  },
  {
   "cell_type": "code",
   "execution_count": 22,
   "id": "a44c4921-2615-414a-9c0a-c82cc00714f2",
   "metadata": {
    "tags": []
   },
   "outputs": [
    {
     "data": {
      "text/plain": [
       "0.1464814753435666"
      ]
     },
     "execution_count": 22,
     "metadata": {},
     "output_type": "execute_result"
    }
   ],
   "source": [
    "k = aup.sigmoidal_function_constant(15, 30)\n",
    "k"
   ]
  },
  {
   "cell_type": "code",
   "execution_count": 23,
   "id": "15808dba-f081-43a7-b6e4-f20bd2f55721",
   "metadata": {
    "tags": []
   },
   "outputs": [
    {
     "data": {
      "text/plain": [
       "1.960588498224304e-62"
      ]
     },
     "execution_count": 23,
     "metadata": {},
     "output_type": "execute_result"
    }
   ],
   "source": [
    "aup.sigmoidal_function(0.1464814753435666, 1000, 30)"
   ]
  },
  {
   "cell_type": "code",
   "execution_count": 24,
   "id": "d4544872-d838-428d-8865-ebad68091eb7",
   "metadata": {
    "tags": []
   },
   "outputs": [],
   "source": [
    "def apply_sigmoidal(x):\n",
    "    if x == -1:\n",
    "        return -1\n",
    "    elif x > 1000:\n",
    "        return 0\n",
    "    else:\n",
    "        val = aup.sigmoidal_function(0.1464814753435666, x, 30)\n",
    "        return val"
   ]
  },
  {
   "cell_type": "code",
   "execution_count": 25,
   "id": "1e262f09-1f48-4c04-816c-3a20d073c253",
   "metadata": {
    "tags": []
   },
   "outputs": [],
   "source": [
    "amenities_col = ['max_preescolar','max_primaria','max_secundaria',\n",
    "               'max_salud','max_guarderías','max_asistencia social',\n",
    "               'max_alimentos','max_personal','max_farmacias','max_hogar',\n",
    "               'max_complementarios','max_social','max_actividad física',\n",
    "               'max_cultural']\n",
    "for ac in amenities_col:\n",
    "    idx_col = ac.replace('max','idx')\n",
    "    hex_res_9_idx[idx_col] = hex_res_9_idx[ac].apply(apply_sigmoidal)"
   ]
  },
  {
   "cell_type": "code",
   "execution_count": 26,
   "id": "1ed64836-e186-4809-bfc4-9b707c279575",
   "metadata": {
    "tags": []
   },
   "outputs": [
    {
     "data": {
      "text/plain": [
       "['idx_preescolar',\n",
       " 'idx_primaria',\n",
       " 'idx_secundaria',\n",
       " 'idx_salud',\n",
       " 'idx_guarderías',\n",
       " 'idx_asistencia social',\n",
       " 'idx_alimentos',\n",
       " 'idx_personal',\n",
       " 'idx_farmacias',\n",
       " 'idx_hogar',\n",
       " 'idx_complementarios',\n",
       " 'idx_social',\n",
       " 'idx_actividad física',\n",
       " 'idx_cultural']"
      ]
     },
     "execution_count": 26,
     "metadata": {},
     "output_type": "execute_result"
    }
   ],
   "source": [
    "idx_colname = []\n",
    "\n",
    "for ac in amenities_col:\n",
    "    idx_col = ac.replace('max','idx')\n",
    "    idx_colname.append(idx_col)\n",
    "\n",
    "idx_colname"
   ]
  },
  {
   "cell_type": "code",
   "execution_count": 27,
   "id": "e4b731c3-3c28-43eb-9eaa-e56063d6edaa",
   "metadata": {
    "tags": []
   },
   "outputs": [],
   "source": [
    "hex_res_9_idx['mean_time'] = hex_res_9_idx[amenities_col].mean(axis=1)\n",
    "hex_res_9_idx['median_time'] = hex_res_9_idx[amenities_col].median(axis=1)\n",
    "hex_res_9_idx['idx_sum'] = hex_res_9_idx[idx_colname].sum(axis=1)"
   ]
  },
  {
   "cell_type": "markdown",
   "id": "c93dd4c7-fd4e-4697-b40c-642ca031e656",
   "metadata": {},
   "source": [
    "## Aditional data and formating"
   ]
  },
  {
   "cell_type": "markdown",
   "id": "eb3aa984-d7ef-4c4a-9566-54effc176bac",
   "metadata": {},
   "source": [
    "### Add pop data"
   ]
  },
  {
   "cell_type": "code",
   "execution_count": 28,
   "id": "fcf28ae0-1493-468a-bccf-2da6e90bd100",
   "metadata": {
    "tags": []
   },
   "outputs": [],
   "source": [
    "# calculate population density\n",
    "hex_pop = hex_pop.to_crs(\"EPSG:6372\")\n",
    "hex_pop['dens_pobha'] = hex_pop['pobtot'] / (hex_pop.area/10000)\n",
    "hex_pop = hex_pop.to_crs(\"EPSG:4326\")"
   ]
  },
  {
   "cell_type": "code",
   "execution_count": 29,
   "id": "d8395684-c2b6-41c6-9ac2-dd33c493636a",
   "metadata": {
    "tags": []
   },
   "outputs": [],
   "source": [
    "pop_list = ['hex_id_9','pobtot','dens_pobha']\n",
    "hex_res_9_idx = pd.merge(hex_res_9_idx, hex_pop[pop_list], on='hex_id_9')\n",
    "\n",
    "if save_disk_space:\n",
    "    del hex_pop"
   ]
  },
  {
   "cell_type": "markdown",
   "id": "7f34a131-d087-4f3a-8c09-3116c89548a1",
   "metadata": {},
   "source": [
    "### Add city data"
   ]
  },
  {
   "cell_type": "code",
   "execution_count": 30,
   "id": "d931c76f-7862-40a7-8704-43e5a3ea7e94",
   "metadata": {
    "tags": []
   },
   "outputs": [],
   "source": [
    "hex_res_9_idx['city'] = city"
   ]
  },
  {
   "cell_type": "markdown",
   "id": "75c5a203-ddaf-4ed7-a5f4-21a223f3fe1d",
   "metadata": {},
   "source": [
    "### Final format"
   ]
  },
  {
   "cell_type": "code",
   "execution_count": 31,
   "id": "02d13f8b-c2b5-485a-87ab-55f2d839d617",
   "metadata": {
    "tags": []
   },
   "outputs": [
    {
     "name": "stdout",
     "output_type": "stream",
     "text": [
      "(1019, 41)\n"
     ]
    },
    {
     "data": {
      "text/html": [
       "<div>\n",
       "<style scoped>\n",
       "    .dataframe tbody tr th:only-of-type {\n",
       "        vertical-align: middle;\n",
       "    }\n",
       "\n",
       "    .dataframe tbody tr th {\n",
       "        vertical-align: top;\n",
       "    }\n",
       "\n",
       "    .dataframe thead th {\n",
       "        text-align: right;\n",
       "    }\n",
       "</style>\n",
       "<table border=\"1\" class=\"dataframe\">\n",
       "  <thead>\n",
       "    <tr style=\"text-align: right;\">\n",
       "      <th></th>\n",
       "      <th>hex_id_9</th>\n",
       "      <th>geometry</th>\n",
       "      <th>max_escuelas</th>\n",
       "      <th>max_preescolar</th>\n",
       "      <th>max_primaria</th>\n",
       "      <th>max_secundaria</th>\n",
       "      <th>max_servicios comunitarios</th>\n",
       "      <th>max_salud</th>\n",
       "      <th>max_guarderías</th>\n",
       "      <th>max_asistencia social</th>\n",
       "      <th>...</th>\n",
       "      <th>idx_social</th>\n",
       "      <th>idx_actividad física</th>\n",
       "      <th>idx_cultural</th>\n",
       "      <th>mean_time</th>\n",
       "      <th>median_time</th>\n",
       "      <th>max_time</th>\n",
       "      <th>idx_sum</th>\n",
       "      <th>pobtot</th>\n",
       "      <th>dens_pobha</th>\n",
       "      <th>city</th>\n",
       "    </tr>\n",
       "  </thead>\n",
       "  <tbody>\n",
       "    <tr>\n",
       "      <th>0</th>\n",
       "      <td>89484a48c2fffff</td>\n",
       "      <td>POLYGON ((-116.61020 31.88506, -116.60907 31.8...</td>\n",
       "      <td>16.061993</td>\n",
       "      <td>8.099098</td>\n",
       "      <td>5.636351</td>\n",
       "      <td>16.061993</td>\n",
       "      <td>8.728205</td>\n",
       "      <td>8.728205</td>\n",
       "      <td>4.856189</td>\n",
       "      <td>7.119233</td>\n",
       "      <td>...</td>\n",
       "      <td>0.210399</td>\n",
       "      <td>0.956669</td>\n",
       "      <td>0.052091</td>\n",
       "      <td>11.992174</td>\n",
       "      <td>7.609166</td>\n",
       "      <td>49.806385</td>\n",
       "      <td>11.816844</td>\n",
       "      <td>731.0</td>\n",
       "      <td>59.879410</td>\n",
       "      <td>Ensenada</td>\n",
       "    </tr>\n",
       "    <tr>\n",
       "      <th>1</th>\n",
       "      <td>89484a4a097ffff</td>\n",
       "      <td>POLYGON ((-116.58586 31.78291, -116.58473 31.7...</td>\n",
       "      <td>12.409561</td>\n",
       "      <td>12.409561</td>\n",
       "      <td>9.750929</td>\n",
       "      <td>10.886813</td>\n",
       "      <td>25.497337</td>\n",
       "      <td>11.259966</td>\n",
       "      <td>9.063725</td>\n",
       "      <td>25.497337</td>\n",
       "      <td>...</td>\n",
       "      <td>0.868898</td>\n",
       "      <td>0.971701</td>\n",
       "      <td>0.912164</td>\n",
       "      <td>11.018856</td>\n",
       "      <td>9.841814</td>\n",
       "      <td>25.497337</td>\n",
       "      <td>12.942847</td>\n",
       "      <td>1186.0</td>\n",
       "      <td>97.125423</td>\n",
       "      <td>Ensenada</td>\n",
       "    </tr>\n",
       "  </tbody>\n",
       "</table>\n",
       "<p>2 rows × 41 columns</p>\n",
       "</div>"
      ],
      "text/plain": [
       "          hex_id_9                                           geometry  \\\n",
       "0  89484a48c2fffff  POLYGON ((-116.61020 31.88506, -116.60907 31.8...   \n",
       "1  89484a4a097ffff  POLYGON ((-116.58586 31.78291, -116.58473 31.7...   \n",
       "\n",
       "   max_escuelas  max_preescolar  max_primaria  max_secundaria  \\\n",
       "0     16.061993        8.099098      5.636351       16.061993   \n",
       "1     12.409561       12.409561      9.750929       10.886813   \n",
       "\n",
       "   max_servicios comunitarios  max_salud  max_guarderías  \\\n",
       "0                    8.728205   8.728205        4.856189   \n",
       "1                   25.497337  11.259966        9.063725   \n",
       "\n",
       "   max_asistencia social  ...  idx_social  idx_actividad física  idx_cultural  \\\n",
       "0               7.119233  ...    0.210399              0.956669      0.052091   \n",
       "1              25.497337  ...    0.868898              0.971701      0.912164   \n",
       "\n",
       "   mean_time  median_time   max_time    idx_sum  pobtot  dens_pobha      city  \n",
       "0  11.992174     7.609166  49.806385  11.816844   731.0   59.879410  Ensenada  \n",
       "1  11.018856     9.841814  25.497337  12.942847  1186.0   97.125423  Ensenada  \n",
       "\n",
       "[2 rows x 41 columns]"
      ]
     },
     "execution_count": 31,
     "metadata": {},
     "output_type": "execute_result"
    }
   ],
   "source": [
    "final_column_ordered_list = ['hex_id_9', 'geometry', \n",
    "                             'max_escuelas', 'max_preescolar', 'max_primaria', 'max_secundaria',\n",
    "                             'max_servicios comunitarios', 'max_salud', 'max_guarderías', 'max_asistencia social',\n",
    "                             'max_comercio', 'max_alimentos', 'max_personal', 'max_farmacias', 'max_hogar', 'max_complementarios',\n",
    "                             'max_entretenimiento', 'max_social', 'max_actividad física', 'max_cultural', \n",
    "                             'idx_preescolar', 'idx_primaria', 'idx_secundaria',\n",
    "                             'idx_salud', 'idx_guarderías', 'idx_asistencia social',\n",
    "                             'idx_alimentos', 'idx_personal', 'idx_farmacias', 'idx_hogar', 'idx_complementarios',\n",
    "                             'idx_social', 'idx_actividad física', 'idx_cultural',\n",
    "                             'mean_time', 'median_time', 'max_time', 'idx_sum',\n",
    "                             'pobtot', 'dens_pobha','city']\n",
    "\n",
    "hex_res_9_idx_city = hex_res_9_idx[final_column_ordered_list]\n",
    "\n",
    "if save_disk_space:\n",
    "    del hex_res_9_idx\n",
    "\n",
    "print(hex_res_9_idx_city.shape)\n",
    "hex_res_9_idx_city.head(2)"
   ]
  },
  {
   "cell_type": "markdown",
   "id": "5027b6a4-9dc4-4f8f-8b09-0c9fbdb2da9e",
   "metadata": {},
   "source": [
    "## Option A: Save to external then concatenate and load to db"
   ]
  },
  {
   "cell_type": "code",
   "execution_count": 49,
   "id": "1c26287f-c397-4bc9-95b0-d00fa9dcbcf1",
   "metadata": {},
   "outputs": [],
   "source": [
    "if save_toexternal_concatenatedb:\n",
    "    #gdf.to_file('dataframe.gpkg', driver='GPKG', layer='name')\n",
    "    hex_res_9_idx_city.to_file(\"../../data/external/temporal_fromjupyter/proximityanalysis_hexres9_{}.gpkg\".format(city.lower(),), driver='GPKG', layer='name')"
   ]
  },
  {
   "cell_type": "code",
   "execution_count": 43,
   "id": "c2f6a9d7-1b6b-4edf-9e4e-3ca2a7821c0d",
   "metadata": {
    "tags": []
   },
   "outputs": [
    {
     "name": "stdout",
     "output_type": "stream",
     "text": [
      "(37354, 41)\n",
      "          hex_id_9  max_escuelas  max_preescolar  max_primaria  \\\n",
      "0  8929a4d46b3ffff     14.379072       14.379072      8.117601   \n",
      "1  8929a4c2c9bffff     11.272438       11.272438      9.703400   \n",
      "\n",
      "   max_secundaria  max_servicios comunitarios  max_salud  max_guarderías  \\\n",
      "0       11.802678                    7.468288   6.660333        7.468288   \n",
      "1       10.331604                   75.658170  12.006877       42.503726   \n",
      "\n",
      "   max_asistencia social  max_comercio  ...  idx_actividad física  \\\n",
      "0               2.857376      6.799221  ...              0.974629   \n",
      "1              75.658170      8.341396  ...              0.917411   \n",
      "\n",
      "   idx_cultural  mean_time  median_time  max_time    idx_sum  pobtot  \\\n",
      "0      0.018532  11.876293     6.729777  57.09943  12.087160   412.0   \n",
      "1      0.000362  24.307346    10.802021  84.08856   9.716978  1590.0   \n",
      "\n",
      "   dens_pobha     city                                           geometry  \n",
      "0   33.860130  Tijuana  POLYGON ((-117.04871 32.40195, -117.04758 32.4...  \n",
      "1  130.615575  Tijuana  POLYGON ((-116.96665 32.45729, -116.96551 32.4...  \n",
      "\n",
      "[2 rows x 41 columns]\n"
     ]
    }
   ],
   "source": [
    "if save_toexternal_concatenatedb:\n",
    "    #Folder names from database\n",
    "    prox_schema = 'prox_analysis'\n",
    "    prox_table = 'proximityanalysis_hexres9'\n",
    "\n",
    "    query = f\"SELECT * FROM {prox_schema}.{prox_table}\"\n",
    "    prox_all = aup.gdf_from_query(query, geometry_col='geometry')\n",
    "\n",
    "    print(prox_all.shape)\n",
    "    print(prox_all.head(2))"
   ]
  },
  {
   "cell_type": "code",
   "execution_count": null,
   "id": "541510b6-f7bc-4f05-9ecb-d6da6f988ae6",
   "metadata": {},
   "outputs": [],
   "source": [
    "prox_all.crs"
   ]
  },
  {
   "cell_type": "code",
   "execution_count": 46,
   "id": "649b6c57-408b-4c0c-955f-02117505e3f5",
   "metadata": {
    "tags": []
   },
   "outputs": [
    {
     "name": "stdout",
     "output_type": "stream",
     "text": [
      "['Tijuana' 'Queretaro' 'Puebla' 'Morelia' 'Merida' 'Leon' 'Hermosillo'\n",
      " 'Chihuahua' 'Aguascalientes' 'Monterrey' 'Guadalajara']\n"
     ]
    }
   ],
   "source": [
    "if save_toexternal_concatenatedb:\n",
    "    print(prox_all.city.unique())"
   ]
  },
  {
   "cell_type": "code",
   "execution_count": 47,
   "id": "b20355e1-8bea-4afe-943d-59f2a021024c",
   "metadata": {
    "tags": []
   },
   "outputs": [
    {
     "name": "stdout",
     "output_type": "stream",
     "text": [
      "(2224, 41)\n",
      "          hex_id_9                                           geometry  \\\n",
      "0  89485b8ae17ffff  POLYGON ((-114.91640 32.50332, -114.91522 32.5...   \n",
      "1  89485bb74a3ffff  POLYGON ((-115.50414 32.61680, -115.50298 32.6...   \n",
      "\n",
      "   max_escuelas  max_preescolar  max_primaria  max_secundaria  \\\n",
      "0     19.990450       17.025120      19.99045       17.291507   \n",
      "1     10.462801       10.462801       3.24132        3.997551   \n",
      "\n",
      "   max_servicios comunitarios  max_salud  max_guarderías  \\\n",
      "0                  525.004189  18.646071       13.686300   \n",
      "1                   30.209022   8.637959       17.977018   \n",
      "\n",
      "   max_asistencia social  ...  idx_social  idx_actividad física  idx_cultural  \\\n",
      "0             525.004189  ...    0.551544              0.895415  5.179268e-30   \n",
      "1              30.209022  ...    0.929267              0.948681  9.498491e-01   \n",
      "\n",
      "   mean_time  median_time    max_time    idx_sum  pobtot  dens_pobha      city  \n",
      "0  85.869146    16.183017  525.004189  10.405728   179.0   14.540793  Mexicali  \n",
      "1   9.854537    10.002161   30.209022  12.854422   527.0   42.941665  Mexicali  \n",
      "\n",
      "[2 rows x 41 columns]\n"
     ]
    }
   ],
   "source": [
    "if save_toexternal_concatenatedb:\n",
    "    prox_city = hex_res_9_idx_city.copy()\n",
    "    \n",
    "    if save_disk_space:\n",
    "        del hex_res_9_idx_city\n",
    "\n",
    "    print(prox_city.shape)\n",
    "    print(prox_city.head(2))"
   ]
  },
  {
   "cell_type": "code",
   "execution_count": 48,
   "id": "1baf3d66-048c-45f7-813e-ec6ee0291ad5",
   "metadata": {
    "tags": []
   },
   "outputs": [
    {
     "data": {
      "text/plain": [
       "<Geographic 2D CRS: EPSG:4326>\n",
       "Name: WGS 84\n",
       "Axis Info [ellipsoidal]:\n",
       "- Lat[north]: Geodetic latitude (degree)\n",
       "- Lon[east]: Geodetic longitude (degree)\n",
       "Area of Use:\n",
       "- name: World.\n",
       "- bounds: (-180.0, -90.0, 180.0, 90.0)\n",
       "Datum: World Geodetic System 1984 ensemble\n",
       "- Ellipsoid: WGS 84\n",
       "- Prime Meridian: Greenwich"
      ]
     },
     "execution_count": 48,
     "metadata": {},
     "output_type": "execute_result"
    }
   ],
   "source": [
    "prox_city.crs"
   ]
  },
  {
   "cell_type": "code",
   "execution_count": 33,
   "id": "5d76fc0f-c184-4f76-b8c6-d508cea9088d",
   "metadata": {
    "tags": []
   },
   "outputs": [],
   "source": [
    "if save_toexternal_concatenatedb:\n",
    "    dfs = [prox_city,prox_all]\n",
    "    prox = pd.concat(dfs)\n",
    "    \n",
    "    if save_disk_space:\n",
    "        del prox_city\n",
    "        del prox_all\n",
    "\n",
    "    print(prox.shape)\n",
    "    print(prox.head(2))"
   ]
  },
  {
   "cell_type": "code",
   "execution_count": 34,
   "id": "bf7bdd44-e9d6-4d78-bc93-4d1fb0600ece",
   "metadata": {
    "tags": []
   },
   "outputs": [],
   "source": [
    "if save_toexternal_concatenatedb:\n",
    "    print(prox.city.unique())"
   ]
  },
  {
   "cell_type": "code",
   "execution_count": 35,
   "id": "d8d6ae1d-e3f1-4824-9d7f-dc6226580c73",
   "metadata": {
    "tags": []
   },
   "outputs": [],
   "source": [
    "if save_toexternal_concatenatedb:\n",
    "    aup.gdf_to_db_slow(prox,\"proximityanalysis_hexres9_prueba\", 'prox_analysis', if_exists='replace')"
   ]
  },
  {
   "cell_type": "markdown",
   "id": "dd96465c-5c95-44cd-9c28-706752121bff",
   "metadata": {},
   "source": [
    "## Option B: Append directly to db"
   ]
  },
  {
   "cell_type": "code",
   "execution_count": 36,
   "id": "9853f063-a58c-4a82-8fad-549061dd5985",
   "metadata": {},
   "outputs": [
    {
     "ename": "ObjectNotExecutableError",
     "evalue": "Not an executable object: \"SELECT Find_SRID('prox_analysis', 'proximityanalysis_hexres9_prueba', 'geometry');\"",
     "output_type": "error",
     "traceback": [
      "\u001b[0;31m---------------------------------------------------------------------------\u001b[0m",
      "\u001b[0;31mAttributeError\u001b[0m                            Traceback (most recent call last)",
      "File \u001b[0;32m/usr/local/python/lib/python3.10/site-packages/sqlalchemy/engine/base.py:1410\u001b[0m, in \u001b[0;36mConnection.execute\u001b[0;34m(self, statement, parameters, execution_options)\u001b[0m\n\u001b[1;32m   1409\u001b[0m \u001b[38;5;28;01mtry\u001b[39;00m:\n\u001b[0;32m-> 1410\u001b[0m     meth \u001b[38;5;241m=\u001b[39m \u001b[43mstatement\u001b[49m\u001b[38;5;241;43m.\u001b[39;49m\u001b[43m_execute_on_connection\u001b[49m\n\u001b[1;32m   1411\u001b[0m \u001b[38;5;28;01mexcept\u001b[39;00m \u001b[38;5;167;01mAttributeError\u001b[39;00m \u001b[38;5;28;01mas\u001b[39;00m err:\n",
      "\u001b[0;31mAttributeError\u001b[0m: 'str' object has no attribute '_execute_on_connection'",
      "\nThe above exception was the direct cause of the following exception:\n",
      "\u001b[0;31mObjectNotExecutableError\u001b[0m                  Traceback (most recent call last)",
      "Cell \u001b[0;32mIn[36], line 2\u001b[0m\n\u001b[1;32m      1\u001b[0m \u001b[38;5;28;01mif\u001b[39;00m save_todb_appending:\n\u001b[0;32m----> 2\u001b[0m     \u001b[43maup\u001b[49m\u001b[38;5;241;43m.\u001b[39;49m\u001b[43mgdf_to_db_slow\u001b[49m\u001b[43m(\u001b[49m\u001b[43mhex_res_9_idx_reordered\u001b[49m\u001b[43m,\u001b[49m\u001b[38;5;124;43m\"\u001b[39;49m\u001b[38;5;124;43mproximityanalysis_hexres9_prueba\u001b[39;49m\u001b[38;5;124;43m\"\u001b[39;49m\u001b[43m,\u001b[49m\u001b[43m \u001b[49m\u001b[38;5;124;43m'\u001b[39;49m\u001b[38;5;124;43mprox_analysis\u001b[39;49m\u001b[38;5;124;43m'\u001b[39;49m\u001b[43m,\u001b[49m\u001b[43m \u001b[49m\u001b[43mif_exists\u001b[49m\u001b[38;5;241;43m=\u001b[39;49m\u001b[38;5;124;43m'\u001b[39;49m\u001b[38;5;124;43mappend\u001b[39;49m\u001b[38;5;124;43m'\u001b[39;49m\u001b[43m)\u001b[49m\n",
      "File \u001b[0;32m~/accesibilidad-urbana/aup/data.py:230\u001b[0m, in \u001b[0;36mgdf_to_db_slow\u001b[0;34m(gdf, name, schema, if_exists)\u001b[0m\n\u001b[1;32m    228\u001b[0m engine \u001b[38;5;241m=\u001b[39m utils\u001b[38;5;241m.\u001b[39mdb_engine()\n\u001b[1;32m    229\u001b[0m utils\u001b[38;5;241m.\u001b[39mlog(\u001b[38;5;124mf\u001b[39m\u001b[38;5;124m\"\u001b[39m\u001b[38;5;124mUploading table \u001b[39m\u001b[38;5;132;01m{\u001b[39;00mname\u001b[38;5;132;01m}\u001b[39;00m\u001b[38;5;124m to database\u001b[39m\u001b[38;5;124m\"\u001b[39m)\n\u001b[0;32m--> 230\u001b[0m \u001b[43mgdf\u001b[49m\u001b[38;5;241;43m.\u001b[39;49m\u001b[43mto_postgis\u001b[49m\u001b[43m(\u001b[49m\n\u001b[1;32m    231\u001b[0m \u001b[43m    \u001b[49m\u001b[43mname\u001b[49m\u001b[38;5;241;43m=\u001b[39;49m\u001b[43mname\u001b[49m\u001b[38;5;241;43m.\u001b[39;49m\u001b[43mlower\u001b[49m\u001b[43m(\u001b[49m\u001b[43m)\u001b[49m\u001b[43m,\u001b[49m\n\u001b[1;32m    232\u001b[0m \u001b[43m    \u001b[49m\u001b[43mcon\u001b[49m\u001b[38;5;241;43m=\u001b[39;49m\u001b[43mengine\u001b[49m\u001b[38;5;241;43m.\u001b[39;49m\u001b[43mconnect\u001b[49m\u001b[43m(\u001b[49m\u001b[43m)\u001b[49m\u001b[43m,\u001b[49m\n\u001b[1;32m    233\u001b[0m \u001b[43m    \u001b[49m\u001b[43mif_exists\u001b[49m\u001b[38;5;241;43m=\u001b[39;49m\u001b[43mif_exists\u001b[49m\u001b[43m,\u001b[49m\n\u001b[1;32m    234\u001b[0m \u001b[43m    \u001b[49m\u001b[43mindex\u001b[49m\u001b[38;5;241;43m=\u001b[39;49m\u001b[38;5;28;43;01mFalse\u001b[39;49;00m\u001b[43m,\u001b[49m\n\u001b[1;32m    235\u001b[0m \u001b[43m    \u001b[49m\u001b[43mschema\u001b[49m\u001b[38;5;241;43m=\u001b[39;49m\u001b[43mschema\u001b[49m\u001b[38;5;241;43m.\u001b[39;49m\u001b[43mlower\u001b[49m\u001b[43m(\u001b[49m\u001b[43m)\u001b[49m\u001b[43m,\u001b[49m\n\u001b[1;32m    236\u001b[0m \u001b[43m\u001b[49m\u001b[43m)\u001b[49m\n\u001b[1;32m    237\u001b[0m utils\u001b[38;5;241m.\u001b[39mlog(\u001b[38;5;124mf\u001b[39m\u001b[38;5;124m\"\u001b[39m\u001b[38;5;124mTable \u001b[39m\u001b[38;5;132;01m{\u001b[39;00mname\u001b[38;5;132;01m}\u001b[39;00m\u001b[38;5;124m in DB\u001b[39m\u001b[38;5;124m\"\u001b[39m)\n\u001b[1;32m    239\u001b[0m engine\u001b[38;5;241m.\u001b[39mdispose()\n",
      "File \u001b[0;32m/usr/local/python/lib/python3.10/site-packages/geopandas/geodataframe.py:1931\u001b[0m, in \u001b[0;36mGeoDataFrame.to_postgis\u001b[0;34m(self, name, con, schema, if_exists, index, index_label, chunksize, dtype)\u001b[0m\n\u001b[1;32m   1871\u001b[0m \u001b[38;5;28;01mdef\u001b[39;00m \u001b[38;5;21mto_postgis\u001b[39m(\n\u001b[1;32m   1872\u001b[0m     \u001b[38;5;28mself\u001b[39m,\n\u001b[1;32m   1873\u001b[0m     name,\n\u001b[0;32m   (...)\u001b[0m\n\u001b[1;32m   1880\u001b[0m     dtype\u001b[38;5;241m=\u001b[39m\u001b[38;5;28;01mNone\u001b[39;00m,\n\u001b[1;32m   1881\u001b[0m ):\n\u001b[1;32m   1882\u001b[0m \u001b[38;5;250m    \u001b[39m\u001b[38;5;124;03m\"\"\"\u001b[39;00m\n\u001b[1;32m   1883\u001b[0m \u001b[38;5;124;03m    Upload GeoDataFrame into PostGIS database.\u001b[39;00m\n\u001b[1;32m   1884\u001b[0m \n\u001b[0;32m   (...)\u001b[0m\n\u001b[1;32m   1929\u001b[0m \n\u001b[1;32m   1930\u001b[0m \u001b[38;5;124;03m    \"\"\"\u001b[39;00m\n\u001b[0;32m-> 1931\u001b[0m     \u001b[43mgeopandas\u001b[49m\u001b[38;5;241;43m.\u001b[39;49m\u001b[43mio\u001b[49m\u001b[38;5;241;43m.\u001b[39;49m\u001b[43msql\u001b[49m\u001b[38;5;241;43m.\u001b[39;49m\u001b[43m_write_postgis\u001b[49m\u001b[43m(\u001b[49m\n\u001b[1;32m   1932\u001b[0m \u001b[43m        \u001b[49m\u001b[38;5;28;43mself\u001b[39;49m\u001b[43m,\u001b[49m\u001b[43m \u001b[49m\u001b[43mname\u001b[49m\u001b[43m,\u001b[49m\u001b[43m \u001b[49m\u001b[43mcon\u001b[49m\u001b[43m,\u001b[49m\u001b[43m \u001b[49m\u001b[43mschema\u001b[49m\u001b[43m,\u001b[49m\u001b[43m \u001b[49m\u001b[43mif_exists\u001b[49m\u001b[43m,\u001b[49m\u001b[43m \u001b[49m\u001b[43mindex\u001b[49m\u001b[43m,\u001b[49m\u001b[43m \u001b[49m\u001b[43mindex_label\u001b[49m\u001b[43m,\u001b[49m\u001b[43m \u001b[49m\u001b[43mchunksize\u001b[49m\u001b[43m,\u001b[49m\u001b[43m \u001b[49m\u001b[43mdtype\u001b[49m\n\u001b[1;32m   1933\u001b[0m \u001b[43m    \u001b[49m\u001b[43m)\u001b[49m\n",
      "File \u001b[0;32m/usr/local/python/lib/python3.10/site-packages/geopandas/io/sql.py:428\u001b[0m, in \u001b[0;36m_write_postgis\u001b[0;34m(gdf, name, con, schema, if_exists, index, index_label, chunksize, dtype)\u001b[0m\n\u001b[1;32m    425\u001b[0m \u001b[38;5;28;01mwith\u001b[39;00m _get_conn(con) \u001b[38;5;28;01mas\u001b[39;00m connection:\n\u001b[1;32m    426\u001b[0m     \u001b[38;5;66;03m# Only check SRID if table exists\u001b[39;00m\n\u001b[1;32m    427\u001b[0m     \u001b[38;5;28;01mif\u001b[39;00m connection\u001b[38;5;241m.\u001b[39mdialect\u001b[38;5;241m.\u001b[39mhas_table(connection, name, schema):\n\u001b[0;32m--> 428\u001b[0m         target_srid \u001b[38;5;241m=\u001b[39m \u001b[43mconnection\u001b[49m\u001b[38;5;241;43m.\u001b[39;49m\u001b[43mexecute\u001b[49m\u001b[43m(\u001b[49m\n\u001b[1;32m    429\u001b[0m \u001b[43m            \u001b[49m\u001b[38;5;124;43m\"\u001b[39;49m\u001b[38;5;124;43mSELECT Find_SRID(\u001b[39;49m\u001b[38;5;124;43m'\u001b[39;49m\u001b[38;5;132;43;01m{schema}\u001b[39;49;00m\u001b[38;5;124;43m'\u001b[39;49m\u001b[38;5;124;43m, \u001b[39;49m\u001b[38;5;124;43m'\u001b[39;49m\u001b[38;5;132;43;01m{table}\u001b[39;49;00m\u001b[38;5;124;43m'\u001b[39;49m\u001b[38;5;124;43m, \u001b[39;49m\u001b[38;5;124;43m'\u001b[39;49m\u001b[38;5;132;43;01m{geom_col}\u001b[39;49;00m\u001b[38;5;124;43m'\u001b[39;49m\u001b[38;5;124;43m);\u001b[39;49m\u001b[38;5;124;43m\"\u001b[39;49m\u001b[38;5;241;43m.\u001b[39;49m\u001b[43mformat\u001b[49m\u001b[43m(\u001b[49m\n\u001b[1;32m    430\u001b[0m \u001b[43m                \u001b[49m\u001b[43mschema\u001b[49m\u001b[38;5;241;43m=\u001b[39;49m\u001b[43mschema_name\u001b[49m\u001b[43m,\u001b[49m\u001b[43m \u001b[49m\u001b[43mtable\u001b[49m\u001b[38;5;241;43m=\u001b[39;49m\u001b[43mname\u001b[49m\u001b[43m,\u001b[49m\u001b[43m \u001b[49m\u001b[43mgeom_col\u001b[49m\u001b[38;5;241;43m=\u001b[39;49m\u001b[43mgeom_name\u001b[49m\n\u001b[1;32m    431\u001b[0m \u001b[43m            \u001b[49m\u001b[43m)\u001b[49m\n\u001b[1;32m    432\u001b[0m \u001b[43m        \u001b[49m\u001b[43m)\u001b[49m\u001b[38;5;241m.\u001b[39mfetchone()[\u001b[38;5;241m0\u001b[39m]\n\u001b[1;32m    434\u001b[0m         \u001b[38;5;28;01mif\u001b[39;00m target_srid \u001b[38;5;241m!=\u001b[39m srid:\n\u001b[1;32m    435\u001b[0m             msg \u001b[38;5;241m=\u001b[39m (\n\u001b[1;32m    436\u001b[0m                 \u001b[38;5;124m\"\u001b[39m\u001b[38;5;124mThe CRS of the target table (EPSG:\u001b[39m\u001b[38;5;132;01m{epsg_t}\u001b[39;00m\u001b[38;5;124m) differs from the \u001b[39m\u001b[38;5;124m\"\u001b[39m\n\u001b[1;32m    437\u001b[0m                 \u001b[38;5;124m\"\u001b[39m\u001b[38;5;124mCRS of current GeoDataFrame (EPSG:\u001b[39m\u001b[38;5;132;01m{epsg_src}\u001b[39;00m\u001b[38;5;124m).\u001b[39m\u001b[38;5;124m\"\u001b[39m\u001b[38;5;241m.\u001b[39mformat(\n\u001b[1;32m    438\u001b[0m                     epsg_t\u001b[38;5;241m=\u001b[39mtarget_srid, epsg_src\u001b[38;5;241m=\u001b[39msrid\n\u001b[1;32m    439\u001b[0m                 )\n\u001b[1;32m    440\u001b[0m             )\n",
      "File \u001b[0;32m/usr/local/python/lib/python3.10/site-packages/sqlalchemy/engine/base.py:1412\u001b[0m, in \u001b[0;36mConnection.execute\u001b[0;34m(self, statement, parameters, execution_options)\u001b[0m\n\u001b[1;32m   1410\u001b[0m     meth \u001b[38;5;241m=\u001b[39m statement\u001b[38;5;241m.\u001b[39m_execute_on_connection\n\u001b[1;32m   1411\u001b[0m \u001b[38;5;28;01mexcept\u001b[39;00m \u001b[38;5;167;01mAttributeError\u001b[39;00m \u001b[38;5;28;01mas\u001b[39;00m err:\n\u001b[0;32m-> 1412\u001b[0m     \u001b[38;5;28;01mraise\u001b[39;00m exc\u001b[38;5;241m.\u001b[39mObjectNotExecutableError(statement) \u001b[38;5;28;01mfrom\u001b[39;00m \u001b[38;5;21;01merr\u001b[39;00m\n\u001b[1;32m   1413\u001b[0m \u001b[38;5;28;01melse\u001b[39;00m:\n\u001b[1;32m   1414\u001b[0m     \u001b[38;5;28;01mreturn\u001b[39;00m meth(\n\u001b[1;32m   1415\u001b[0m         \u001b[38;5;28mself\u001b[39m,\n\u001b[1;32m   1416\u001b[0m         distilled_parameters,\n\u001b[1;32m   1417\u001b[0m         execution_options \u001b[38;5;129;01mor\u001b[39;00m NO_OPTIONS,\n\u001b[1;32m   1418\u001b[0m     )\n",
      "\u001b[0;31mObjectNotExecutableError\u001b[0m: Not an executable object: \"SELECT Find_SRID('prox_analysis', 'proximityanalysis_hexres9_prueba', 'geometry');\""
     ]
    }
   ],
   "source": [
    "if save_todb_appending:\n",
    "    aup.gdf_to_db_slow(hex_res_9_idx_city,\"proximityanalysis_hexres9\", 'prox_analysis', if_exists='append')"
   ]
  }
 ],
 "metadata": {
  "kernelspec": {
   "display_name": "Python 3 (ipykernel)",
   "language": "python",
   "name": "python3"
  },
  "language_info": {
   "codemirror_mode": {
    "name": "ipython",
    "version": 3
   },
   "file_extension": ".py",
   "mimetype": "text/x-python",
   "name": "python",
   "nbconvert_exporter": "python",
   "pygments_lexer": "ipython3",
   "version": "3.10.5"
  }
 },
 "nbformat": 4,
 "nbformat_minor": 5
}
