{
 "cells": [
  {
   "cell_type": "code",
   "execution_count": 1,
   "id": "7448cddc-4192-4422-b0a5-141fa45f785e",
   "metadata": {
    "tags": []
   },
   "outputs": [
    {
     "name": "stderr",
     "output_type": "stream",
     "text": [
      "/usr/local/python/lib/python3.10/site-packages/osmnx/utils.py:192: UserWarning: The `utils.config` function is deprecated and will be removed in a future release. Instead, use the `settings` module directly to configure a global setting's value. For example, `ox.settings.log_console=True`.\n",
      "  warnings.warn(\n"
     ]
    }
   ],
   "source": [
    "import os\n",
    "import sys\n",
    "\n",
    "import pandas as pd\n",
    "import geopandas as gpd\n",
    "import osmnx as ox\n",
    "import numpy as np\n",
    "\n",
    "import matplotlib.pyplot as plt\n",
    "import seaborn as sns\n",
    "\n",
    "import warnings\n",
    "warnings.simplefilter(action='ignore', category=FutureWarning)\n",
    "\n",
    "module_path = os.path.abspath(os.path.join('../../'))\n",
    "if module_path not in sys.path:\n",
    "    sys.path.append(module_path)\n",
    "    import aup"
   ]
  },
  {
   "cell_type": "code",
   "execution_count": 2,
   "id": "087aad42-4cdf-4b16-90c0-e3fa36b388c8",
   "metadata": {},
   "outputs": [],
   "source": [
    "#Folder names from database\n",
    "#prox_schema = 'prox_analysis'\n",
    "#prox_table = 'proximityanalysis_hexres9'\n",
    "\n",
    "#query = f\"SELECT * FROM {prox_schema}.{prox_table}\"\n",
    "#prox_all = aup.gdf_from_query(query, geometry_col='geometry')\n",
    "\n",
    "#print(prox_all.shape)\n",
    "#prox_all.head(2)"
   ]
  },
  {
   "cell_type": "code",
   "execution_count": 3,
   "id": "6f01c8ab-0b63-4825-96e2-7b067b312ae9",
   "metadata": {
    "tags": []
   },
   "outputs": [
    {
     "name": "stdout",
     "output_type": "stream",
     "text": [
      "(34061, 41)\n"
     ]
    },
    {
     "data": {
      "text/html": [
       "<div>\n",
       "<style scoped>\n",
       "    .dataframe tbody tr th:only-of-type {\n",
       "        vertical-align: middle;\n",
       "    }\n",
       "\n",
       "    .dataframe tbody tr th {\n",
       "        vertical-align: top;\n",
       "    }\n",
       "\n",
       "    .dataframe thead th {\n",
       "        text-align: right;\n",
       "    }\n",
       "</style>\n",
       "<table border=\"1\" class=\"dataframe\">\n",
       "  <thead>\n",
       "    <tr style=\"text-align: right;\">\n",
       "      <th></th>\n",
       "      <th>hex_id_9</th>\n",
       "      <th>max_escuelas</th>\n",
       "      <th>max_preescolar</th>\n",
       "      <th>max_primaria</th>\n",
       "      <th>max_secundaria</th>\n",
       "      <th>max_servicios comunitarios</th>\n",
       "      <th>max_salud</th>\n",
       "      <th>max_guarderías</th>\n",
       "      <th>max_asistencia social</th>\n",
       "      <th>max_comercio</th>\n",
       "      <th>...</th>\n",
       "      <th>idx_actividad física</th>\n",
       "      <th>idx_cultural</th>\n",
       "      <th>mean_time</th>\n",
       "      <th>median_time</th>\n",
       "      <th>max_time</th>\n",
       "      <th>idx_sum</th>\n",
       "      <th>pobtot</th>\n",
       "      <th>dens_pobha</th>\n",
       "      <th>city</th>\n",
       "      <th>geometry</th>\n",
       "    </tr>\n",
       "  </thead>\n",
       "  <tbody>\n",
       "    <tr>\n",
       "      <th>0</th>\n",
       "      <td>894983c8437ffff</td>\n",
       "      <td>10.757196</td>\n",
       "      <td>3.441271</td>\n",
       "      <td>6.797807</td>\n",
       "      <td>10.757196</td>\n",
       "      <td>26.833539</td>\n",
       "      <td>7.335892</td>\n",
       "      <td>26.833539</td>\n",
       "      <td>3.541853</td>\n",
       "      <td>3.854492</td>\n",
       "      <td>...</td>\n",
       "      <td>0.965104</td>\n",
       "      <td>0.000096</td>\n",
       "      <td>16.069588</td>\n",
       "      <td>5.326150</td>\n",
       "      <td>93.121809</td>\n",
       "      <td>11.362648</td>\n",
       "      <td>203.0</td>\n",
       "      <td>16.658073</td>\n",
       "      <td>Queretaro</td>\n",
       "      <td>POLYGON ((-100.37819 20.65126, -100.37694 20.6...</td>\n",
       "    </tr>\n",
       "    <tr>\n",
       "      <th>1</th>\n",
       "      <td>894983dabbbffff</td>\n",
       "      <td>4.471463</td>\n",
       "      <td>4.366538</td>\n",
       "      <td>4.471463</td>\n",
       "      <td>3.989334</td>\n",
       "      <td>23.797342</td>\n",
       "      <td>15.376236</td>\n",
       "      <td>21.971074</td>\n",
       "      <td>23.797342</td>\n",
       "      <td>12.393523</td>\n",
       "      <td>...</td>\n",
       "      <td>0.965672</td>\n",
       "      <td>0.042202</td>\n",
       "      <td>14.265496</td>\n",
       "      <td>6.472168</td>\n",
       "      <td>51.314385</td>\n",
       "      <td>11.310431</td>\n",
       "      <td>969.0</td>\n",
       "      <td>79.499588</td>\n",
       "      <td>Queretaro</td>\n",
       "      <td>POLYGON ((-100.45733 20.51881, -100.45609 20.5...</td>\n",
       "    </tr>\n",
       "  </tbody>\n",
       "</table>\n",
       "<p>2 rows × 41 columns</p>\n",
       "</div>"
      ],
      "text/plain": [
       "          hex_id_9  max_escuelas  max_preescolar  max_primaria  \\\n",
       "0  894983c8437ffff     10.757196        3.441271      6.797807   \n",
       "1  894983dabbbffff      4.471463        4.366538      4.471463   \n",
       "\n",
       "   max_secundaria  max_servicios comunitarios  max_salud  max_guarderías  \\\n",
       "0       10.757196                   26.833539   7.335892       26.833539   \n",
       "1        3.989334                   23.797342  15.376236       21.971074   \n",
       "\n",
       "   max_asistencia social  max_comercio  ...  idx_actividad física  \\\n",
       "0               3.541853      3.854492  ...              0.965104   \n",
       "1              23.797342     12.393523  ...              0.965672   \n",
       "\n",
       "   idx_cultural  mean_time  median_time   max_time    idx_sum  pobtot  \\\n",
       "0      0.000096  16.069588     5.326150  93.121809  11.362648   203.0   \n",
       "1      0.042202  14.265496     6.472168  51.314385  11.310431   969.0   \n",
       "\n",
       "   dens_pobha       city                                           geometry  \n",
       "0   16.658073  Queretaro  POLYGON ((-100.37819 20.65126, -100.37694 20.6...  \n",
       "1   79.499588  Queretaro  POLYGON ((-100.45733 20.51881, -100.45609 20.5...  \n",
       "\n",
       "[2 rows x 41 columns]"
      ]
     },
     "execution_count": 3,
     "metadata": {},
     "output_type": "execute_result"
    }
   ],
   "source": [
    "prox_all = gpd.read_file(\"../../data/external/temporal_fromjupyter/proximityanalysis_hexres9.gpkg\")\n",
    "\n",
    "print(prox_all.shape)\n",
    "prox_all.head(2)"
   ]
  },
  {
   "cell_type": "code",
   "execution_count": 4,
   "id": "532a1a73-f3c3-4475-9f69-6f74655d501e",
   "metadata": {
    "tags": []
   },
   "outputs": [
    {
     "data": {
      "text/plain": [
       "array(['Queretaro', 'Puebla', 'Morelia', 'Merida', 'Leon', 'Hermosillo',\n",
       "       'Chihuahua', 'Aguascalientes', 'Monterrey', 'Guadalajara'],\n",
       "      dtype=object)"
      ]
     },
     "execution_count": 4,
     "metadata": {},
     "output_type": "execute_result"
    }
   ],
   "source": [
    "prox_all.city.unique()"
   ]
  },
  {
   "cell_type": "code",
   "execution_count": 5,
   "id": "fd82bcfe-32ab-4733-a8f3-5f3b93b0933e",
   "metadata": {
    "tags": []
   },
   "outputs": [
    {
     "name": "stdout",
     "output_type": "stream",
     "text": [
      "(3293, 41)\n"
     ]
    },
    {
     "data": {
      "text/html": [
       "<div>\n",
       "<style scoped>\n",
       "    .dataframe tbody tr th:only-of-type {\n",
       "        vertical-align: middle;\n",
       "    }\n",
       "\n",
       "    .dataframe tbody tr th {\n",
       "        vertical-align: top;\n",
       "    }\n",
       "\n",
       "    .dataframe thead th {\n",
       "        text-align: right;\n",
       "    }\n",
       "</style>\n",
       "<table border=\"1\" class=\"dataframe\">\n",
       "  <thead>\n",
       "    <tr style=\"text-align: right;\">\n",
       "      <th></th>\n",
       "      <th>hex_id_9</th>\n",
       "      <th>max_escuelas</th>\n",
       "      <th>max_preescolar</th>\n",
       "      <th>max_primaria</th>\n",
       "      <th>max_secundaria</th>\n",
       "      <th>max_servicios comunitarios</th>\n",
       "      <th>max_salud</th>\n",
       "      <th>max_guarderías</th>\n",
       "      <th>max_asistencia social</th>\n",
       "      <th>max_comercio</th>\n",
       "      <th>...</th>\n",
       "      <th>idx_actividad física</th>\n",
       "      <th>idx_cultural</th>\n",
       "      <th>mean_time</th>\n",
       "      <th>median_time</th>\n",
       "      <th>max_time</th>\n",
       "      <th>idx_sum</th>\n",
       "      <th>pobtot</th>\n",
       "      <th>dens_pobha</th>\n",
       "      <th>city</th>\n",
       "      <th>geometry</th>\n",
       "    </tr>\n",
       "  </thead>\n",
       "  <tbody>\n",
       "    <tr>\n",
       "      <th>0</th>\n",
       "      <td>8929a4d46b3ffff</td>\n",
       "      <td>14.379072</td>\n",
       "      <td>14.379072</td>\n",
       "      <td>8.117601</td>\n",
       "      <td>11.802678</td>\n",
       "      <td>7.468288</td>\n",
       "      <td>6.660333</td>\n",
       "      <td>7.468288</td>\n",
       "      <td>2.857376</td>\n",
       "      <td>6.799221</td>\n",
       "      <td>...</td>\n",
       "      <td>0.974629</td>\n",
       "      <td>0.018532</td>\n",
       "      <td>11.876293</td>\n",
       "      <td>6.729777</td>\n",
       "      <td>57.09943</td>\n",
       "      <td>12.087160</td>\n",
       "      <td>412.0</td>\n",
       "      <td>33.860130</td>\n",
       "      <td>Tijuana</td>\n",
       "      <td>POLYGON ((-117.04871 32.40195, -117.04758 32.4...</td>\n",
       "    </tr>\n",
       "    <tr>\n",
       "      <th>1</th>\n",
       "      <td>8929a4c2c9bffff</td>\n",
       "      <td>11.272438</td>\n",
       "      <td>11.272438</td>\n",
       "      <td>9.703400</td>\n",
       "      <td>10.331604</td>\n",
       "      <td>75.658170</td>\n",
       "      <td>12.006877</td>\n",
       "      <td>42.503726</td>\n",
       "      <td>75.658170</td>\n",
       "      <td>8.341396</td>\n",
       "      <td>...</td>\n",
       "      <td>0.917411</td>\n",
       "      <td>0.000362</td>\n",
       "      <td>24.307346</td>\n",
       "      <td>10.802021</td>\n",
       "      <td>84.08856</td>\n",
       "      <td>9.716978</td>\n",
       "      <td>1590.0</td>\n",
       "      <td>130.615575</td>\n",
       "      <td>Tijuana</td>\n",
       "      <td>POLYGON ((-116.96665 32.45729, -116.96551 32.4...</td>\n",
       "    </tr>\n",
       "  </tbody>\n",
       "</table>\n",
       "<p>2 rows × 41 columns</p>\n",
       "</div>"
      ],
      "text/plain": [
       "          hex_id_9  max_escuelas  max_preescolar  max_primaria  \\\n",
       "0  8929a4d46b3ffff     14.379072       14.379072      8.117601   \n",
       "1  8929a4c2c9bffff     11.272438       11.272438      9.703400   \n",
       "\n",
       "   max_secundaria  max_servicios comunitarios  max_salud  max_guarderías  \\\n",
       "0       11.802678                    7.468288   6.660333        7.468288   \n",
       "1       10.331604                   75.658170  12.006877       42.503726   \n",
       "\n",
       "   max_asistencia social  max_comercio  ...  idx_actividad física  \\\n",
       "0               2.857376      6.799221  ...              0.974629   \n",
       "1              75.658170      8.341396  ...              0.917411   \n",
       "\n",
       "   idx_cultural  mean_time  median_time  max_time    idx_sum  pobtot  \\\n",
       "0      0.018532  11.876293     6.729777  57.09943  12.087160   412.0   \n",
       "1      0.000362  24.307346    10.802021  84.08856   9.716978  1590.0   \n",
       "\n",
       "   dens_pobha     city                                           geometry  \n",
       "0   33.860130  Tijuana  POLYGON ((-117.04871 32.40195, -117.04758 32.4...  \n",
       "1  130.615575  Tijuana  POLYGON ((-116.96665 32.45729, -116.96551 32.4...  \n",
       "\n",
       "[2 rows x 41 columns]"
      ]
     },
     "execution_count": 5,
     "metadata": {},
     "output_type": "execute_result"
    }
   ],
   "source": [
    "city = 'Tijuana'\n",
    "\n",
    "prox_city = gpd.read_file(\"../../data/external/temporal_fromjupyter/proximityanalysis_hexres9_{}.gpkg\".format(city.lower(),))\n",
    "\n",
    "print(prox_city.shape)\n",
    "prox_city.head(2)"
   ]
  },
  {
   "cell_type": "code",
   "execution_count": 6,
   "id": "b1da5f6a-7016-43de-a2fc-1693ea03d176",
   "metadata": {
    "tags": []
   },
   "outputs": [
    {
     "name": "stdout",
     "output_type": "stream",
     "text": [
      "(37354, 41)\n"
     ]
    },
    {
     "data": {
      "text/html": [
       "<div>\n",
       "<style scoped>\n",
       "    .dataframe tbody tr th:only-of-type {\n",
       "        vertical-align: middle;\n",
       "    }\n",
       "\n",
       "    .dataframe tbody tr th {\n",
       "        vertical-align: top;\n",
       "    }\n",
       "\n",
       "    .dataframe thead th {\n",
       "        text-align: right;\n",
       "    }\n",
       "</style>\n",
       "<table border=\"1\" class=\"dataframe\">\n",
       "  <thead>\n",
       "    <tr style=\"text-align: right;\">\n",
       "      <th></th>\n",
       "      <th>hex_id_9</th>\n",
       "      <th>max_escuelas</th>\n",
       "      <th>max_preescolar</th>\n",
       "      <th>max_primaria</th>\n",
       "      <th>max_secundaria</th>\n",
       "      <th>max_servicios comunitarios</th>\n",
       "      <th>max_salud</th>\n",
       "      <th>max_guarderías</th>\n",
       "      <th>max_asistencia social</th>\n",
       "      <th>max_comercio</th>\n",
       "      <th>...</th>\n",
       "      <th>idx_actividad física</th>\n",
       "      <th>idx_cultural</th>\n",
       "      <th>mean_time</th>\n",
       "      <th>median_time</th>\n",
       "      <th>max_time</th>\n",
       "      <th>idx_sum</th>\n",
       "      <th>pobtot</th>\n",
       "      <th>dens_pobha</th>\n",
       "      <th>city</th>\n",
       "      <th>geometry</th>\n",
       "    </tr>\n",
       "  </thead>\n",
       "  <tbody>\n",
       "    <tr>\n",
       "      <th>0</th>\n",
       "      <td>8929a4d46b3ffff</td>\n",
       "      <td>14.379072</td>\n",
       "      <td>14.379072</td>\n",
       "      <td>8.117601</td>\n",
       "      <td>11.802678</td>\n",
       "      <td>7.468288</td>\n",
       "      <td>6.660333</td>\n",
       "      <td>7.468288</td>\n",
       "      <td>2.857376</td>\n",
       "      <td>6.799221</td>\n",
       "      <td>...</td>\n",
       "      <td>0.974629</td>\n",
       "      <td>0.018532</td>\n",
       "      <td>11.876293</td>\n",
       "      <td>6.729777</td>\n",
       "      <td>57.09943</td>\n",
       "      <td>12.087160</td>\n",
       "      <td>412.0</td>\n",
       "      <td>33.860130</td>\n",
       "      <td>Tijuana</td>\n",
       "      <td>POLYGON ((-117.04871 32.40195, -117.04758 32.4...</td>\n",
       "    </tr>\n",
       "    <tr>\n",
       "      <th>1</th>\n",
       "      <td>8929a4c2c9bffff</td>\n",
       "      <td>11.272438</td>\n",
       "      <td>11.272438</td>\n",
       "      <td>9.703400</td>\n",
       "      <td>10.331604</td>\n",
       "      <td>75.658170</td>\n",
       "      <td>12.006877</td>\n",
       "      <td>42.503726</td>\n",
       "      <td>75.658170</td>\n",
       "      <td>8.341396</td>\n",
       "      <td>...</td>\n",
       "      <td>0.917411</td>\n",
       "      <td>0.000362</td>\n",
       "      <td>24.307346</td>\n",
       "      <td>10.802021</td>\n",
       "      <td>84.08856</td>\n",
       "      <td>9.716978</td>\n",
       "      <td>1590.0</td>\n",
       "      <td>130.615575</td>\n",
       "      <td>Tijuana</td>\n",
       "      <td>POLYGON ((-116.96665 32.45729, -116.96551 32.4...</td>\n",
       "    </tr>\n",
       "  </tbody>\n",
       "</table>\n",
       "<p>2 rows × 41 columns</p>\n",
       "</div>"
      ],
      "text/plain": [
       "          hex_id_9  max_escuelas  max_preescolar  max_primaria  \\\n",
       "0  8929a4d46b3ffff     14.379072       14.379072      8.117601   \n",
       "1  8929a4c2c9bffff     11.272438       11.272438      9.703400   \n",
       "\n",
       "   max_secundaria  max_servicios comunitarios  max_salud  max_guarderías  \\\n",
       "0       11.802678                    7.468288   6.660333        7.468288   \n",
       "1       10.331604                   75.658170  12.006877       42.503726   \n",
       "\n",
       "   max_asistencia social  max_comercio  ...  idx_actividad física  \\\n",
       "0               2.857376      6.799221  ...              0.974629   \n",
       "1              75.658170      8.341396  ...              0.917411   \n",
       "\n",
       "   idx_cultural  mean_time  median_time  max_time    idx_sum  pobtot  \\\n",
       "0      0.018532  11.876293     6.729777  57.09943  12.087160   412.0   \n",
       "1      0.000362  24.307346    10.802021  84.08856   9.716978  1590.0   \n",
       "\n",
       "   dens_pobha     city                                           geometry  \n",
       "0   33.860130  Tijuana  POLYGON ((-117.04871 32.40195, -117.04758 32.4...  \n",
       "1  130.615575  Tijuana  POLYGON ((-116.96665 32.45729, -116.96551 32.4...  \n",
       "\n",
       "[2 rows x 41 columns]"
      ]
     },
     "execution_count": 6,
     "metadata": {},
     "output_type": "execute_result"
    }
   ],
   "source": [
    "dfs = [prox_city,prox_all]\n",
    "prox = pd.concat(dfs)\n",
    "\n",
    "print(prox.shape)\n",
    "prox.head(2)"
   ]
  },
  {
   "cell_type": "code",
   "execution_count": 7,
   "id": "deb7232d-5dc8-455c-9e60-f92627d5049a",
   "metadata": {
    "tags": []
   },
   "outputs": [
    {
     "data": {
      "text/plain": [
       "array(['Tijuana', 'Queretaro', 'Puebla', 'Morelia', 'Merida', 'Leon',\n",
       "       'Hermosillo', 'Chihuahua', 'Aguascalientes', 'Monterrey',\n",
       "       'Guadalajara'], dtype=object)"
      ]
     },
     "execution_count": 7,
     "metadata": {},
     "output_type": "execute_result"
    }
   ],
   "source": [
    "prox.city.unique()"
   ]
  },
  {
   "cell_type": "code",
   "execution_count": 8,
   "id": "8d4e1d93-3eb8-451d-9c52-ae54f4ab97d0",
   "metadata": {
    "tags": []
   },
   "outputs": [],
   "source": [
    "prox.to_file(\"../../data/external/temporal_fromjupyter/proximityanalysis_hexres9.gpkg\", driver='GPKG', layer='name')"
   ]
  },
  {
   "cell_type": "code",
   "execution_count": 14,
   "id": "fdb1c1db-02b3-4ce8-bb9c-d09de1aae3b2",
   "metadata": {
    "tags": []
   },
   "outputs": [],
   "source": [
    "aup.gdf_to_db_slow(prox,\"proximityanalysis_hexres9\", 'prox_analysis', if_exists='replace')"
   ]
  },
  {
   "cell_type": "code",
   "execution_count": null,
   "id": "631bb904-42ac-4980-b4c8-8c7c7204f781",
   "metadata": {},
   "outputs": [],
   "source": []
  }
 ],
 "metadata": {
  "kernelspec": {
   "display_name": "Python 3 (ipykernel)",
   "language": "python",
   "name": "python3"
  },
  "language_info": {
   "codemirror_mode": {
    "name": "ipython",
    "version": 3
   },
   "file_extension": ".py",
   "mimetype": "text/x-python",
   "name": "python",
   "nbconvert_exporter": "python",
   "pygments_lexer": "ipython3",
   "version": "3.10.5"
  }
 },
 "nbformat": 4,
 "nbformat_minor": 5
}
