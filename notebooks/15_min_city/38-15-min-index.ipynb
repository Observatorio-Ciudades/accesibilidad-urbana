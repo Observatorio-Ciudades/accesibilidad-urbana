{
 "cells": [
  {
   "cell_type": "markdown",
   "id": "b60aaac8",
   "metadata": {},
   "source": [
    "# Ciudades de 15 minutos - resolución 9"
   ]
  },
  {
   "cell_type": "markdown",
   "id": "39ae7cf7-c7f7-4aac-af04-8f6b3e5e0503",
   "metadata": {},
   "source": [
    "Notebook para la prueba de la metodología de ciudades de 15 minutos. El acercamiento del Observatorio de Ciudades se basa en agrupar las amenidades en 4 ejes:\n",
    "* Educación\n",
    "* Servicios comunitarios\n",
    "* Comercio\n",
    "* Entretenimiento\n",
    "\n",
    "Cada uno de estos ejes se subdivide en amenidades específicas:\n",
    "\n",
    "* Educación\n",
    "    * Preescolar\n",
    "    * Primaria\n",
    "    * Secundaria\n",
    "* Servicios comunitarios:\n",
    "    * Centro de salud - lo traducimos como primer contacto a salud (que incluye farmacias con médicos)\n",
    "    * Gobierno - oficinas de gobierno\n",
    "    * Asistencia social - DIF\n",
    "    * Cuidados - Guarderías\n",
    "* Comercio:\n",
    "    * Alimentos - sitios para la adquisición de alimentos\n",
    "    * Comercio personal - peluquerías y venta de ropa\n",
    "    * Farmacias\n",
    "    * Hogar - Ferretería y tlapalería y artículos de limpieza\n",
    "    * Complementario - sitios de comercio complementario como venta de ropa, calzado, muebles, lavandería, pintura y revistas\n",
    "* Entretenimiento\n",
    "    * Actividad física - espacios de recreación al aire libre como parques, canchas, unidades deportivas o parques naturales\n",
    "    * Social - sitios de esparcimiento social como restaurantes, bares y cafés\n",
    "    * Cultural - espacios de recreación cultural como museos o cines\n",
    "\n",
    "Para calcular si un hexágono cumple o no con lo neceasrio para ser ciudad de 15 minutos se toma el tiempo máximo a una de las amenidades y esa se registra en el hexágono, si ese tiempo es menor a 15, se considera que cumple, de lo contrario no."
   ]
  },
  {
   "cell_type": "code",
   "execution_count": 1,
   "id": "41393dfd",
   "metadata": {
    "tags": []
   },
   "outputs": [
    {
     "name": "stderr",
     "output_type": "stream",
     "text": [
      "/usr/local/python/lib/python3.10/site-packages/osmnx/utils.py:192: UserWarning: The `utils.config` function is deprecated and will be removed in a future release. Instead, use the `settings` module directly to configure a global setting's value. For example, `ox.settings.log_console=True`.\n",
      "  warnings.warn(\n",
      "/root/accesibilidad-urbana/aup/analysis.py:587: SyntaxWarning: 'float' object is not callable; perhaps you missed a comma?\n",
      "  weights = 1.0 (dist + 1e-12)**power\n"
     ]
    }
   ],
   "source": [
    "import os\n",
    "import sys\n",
    "\n",
    "import pandas as pd\n",
    "import geopandas as gpd\n",
    "import osmnx as ox\n",
    "import numpy as np\n",
    "\n",
    "import matplotlib.pyplot as plt\n",
    "import seaborn as sns\n",
    "\n",
    "import warnings\n",
    "warnings.simplefilter(action='ignore', category=FutureWarning)\n",
    "\n",
    "module_path = os.path.abspath(os.path.join('../../'))\n",
    "if module_path not in sys.path:\n",
    "    sys.path.append(module_path)\n",
    "    import aup"
   ]
  },
  {
   "cell_type": "markdown",
   "id": "f4c778e6-e826-4470-8370-59cb3d8e9d9e",
   "metadata": {},
   "source": [
    "## Notebook config"
   ]
  },
  {
   "cell_type": "code",
   "execution_count": 50,
   "id": "130a389b-9052-43c5-a3b4-a562ab36bf92",
   "metadata": {
    "tags": []
   },
   "outputs": [],
   "source": [
    "city = 'Aguascalientes'\n",
    "save_todb = True"
   ]
  },
  {
   "cell_type": "markdown",
   "id": "0c440491",
   "metadata": {},
   "source": [
    "## Download data from database"
   ]
  },
  {
   "cell_type": "markdown",
   "id": "9e8b6b6b-2bdb-4421-ad85-e82f193a53eb",
   "metadata": {
    "tags": []
   },
   "source": [
    "### Download municipality boundaries (Based on city)"
   ]
  },
  {
   "cell_type": "code",
   "execution_count": 3,
   "id": "d22b5c42-2241-4458-b6f6-b80c0631722a",
   "metadata": {
    "tags": []
   },
   "outputs": [
    {
     "name": "stdout",
     "output_type": "stream",
     "text": [
      "(3, 6)\n"
     ]
    },
    {
     "data": {
      "text/html": [
       "<div>\n",
       "<style scoped>\n",
       "    .dataframe tbody tr th:only-of-type {\n",
       "        vertical-align: middle;\n",
       "    }\n",
       "\n",
       "    .dataframe tbody tr th {\n",
       "        vertical-align: top;\n",
       "    }\n",
       "\n",
       "    .dataframe thead th {\n",
       "        text-align: right;\n",
       "    }\n",
       "</style>\n",
       "<table border=\"1\" class=\"dataframe\">\n",
       "  <thead>\n",
       "    <tr style=\"text-align: right;\">\n",
       "      <th></th>\n",
       "      <th>CVEGEO</th>\n",
       "      <th>CVE_ENT</th>\n",
       "      <th>CVE_MUN</th>\n",
       "      <th>NOMGEO</th>\n",
       "      <th>geometry</th>\n",
       "      <th>city</th>\n",
       "    </tr>\n",
       "  </thead>\n",
       "  <tbody>\n",
       "    <tr>\n",
       "      <th>0</th>\n",
       "      <td>01001</td>\n",
       "      <td>01</td>\n",
       "      <td>001</td>\n",
       "      <td>Aguascalientes</td>\n",
       "      <td>POLYGON ((-102.10641 22.06035, -102.10368 22.0...</td>\n",
       "      <td>Aguascalientes</td>\n",
       "    </tr>\n",
       "    <tr>\n",
       "      <th>1</th>\n",
       "      <td>01005</td>\n",
       "      <td>01</td>\n",
       "      <td>005</td>\n",
       "      <td>Jesús María</td>\n",
       "      <td>POLYGON ((-102.33568 22.05067, -102.33348 22.0...</td>\n",
       "      <td>Aguascalientes</td>\n",
       "    </tr>\n",
       "    <tr>\n",
       "      <th>2</th>\n",
       "      <td>01011</td>\n",
       "      <td>01</td>\n",
       "      <td>011</td>\n",
       "      <td>San Francisco de los Romo</td>\n",
       "      <td>POLYGON ((-102.15272 22.08962, -102.15100 22.0...</td>\n",
       "      <td>Aguascalientes</td>\n",
       "    </tr>\n",
       "  </tbody>\n",
       "</table>\n",
       "</div>"
      ],
      "text/plain": [
       "  CVEGEO CVE_ENT CVE_MUN                     NOMGEO  \\\n",
       "0  01001      01     001             Aguascalientes   \n",
       "1  01005      01     005                Jesús María   \n",
       "2  01011      01     011  San Francisco de los Romo   \n",
       "\n",
       "                                            geometry            city  \n",
       "0  POLYGON ((-102.10641 22.06035, -102.10368 22.0...  Aguascalientes  \n",
       "1  POLYGON ((-102.33568 22.05067, -102.33348 22.0...  Aguascalientes  \n",
       "2  POLYGON ((-102.15272 22.08962, -102.15100 22.0...  Aguascalientes  "
      ]
     },
     "execution_count": 3,
     "metadata": {},
     "output_type": "execute_result"
    }
   ],
   "source": [
    "mun_schema = 'metropolis'\n",
    "mun_folder = 'metro_gdf' #CAMBIO DE metro_list a metro_gdf en la base de datos\n",
    "\n",
    "query = f\"SELECT * FROM {mun_schema}.{mun_folder} WHERE \\\"city\\\" LIKE \\'{city}\\'\"\n",
    "mun_gdf = aup.gdf_from_query(query, geometry_col='geometry')\n",
    "\n",
    "print(mun_gdf.shape)\n",
    "mun_gdf.head()"
   ]
  },
  {
   "cell_type": "markdown",
   "id": "43737ae9-ec02-4143-8a80-3b6c99795397",
   "metadata": {
    "tags": []
   },
   "source": [
    "### Download hexagons with pop data (Based on city)"
   ]
  },
  {
   "cell_type": "code",
   "execution_count": 4,
   "id": "404c531e-b7fb-4861-8bc4-6e85b8be02df",
   "metadata": {
    "tags": []
   },
   "outputs": [
    {
     "name": "stdout",
     "output_type": "stream",
     "text": [
      "(1471, 226)\n"
     ]
    },
    {
     "data": {
      "text/plain": [
       "<Axes: >"
      ]
     },
     "execution_count": 4,
     "metadata": {},
     "output_type": "execute_result"
    },
    {
     "data": {
      "image/png": "[encoded data removed]",
      "text/plain": [
       "<Figure size 640x480 with 1 Axes>"
      ]
     },
     "metadata": {},
     "output_type": "display_data"
    }
   ],
   "source": [
    "# Select source (res9)\n",
    "hex_pop = gpd.GeoDataFrame()\n",
    "hex_schema = 'censo'\n",
    "hex_folder = 'hex_censo_mza_2020_res9'\n",
    "\n",
    "# Downloads hexagons within 'city'\n",
    "query = f\"SELECT * FROM {hex_schema}.{hex_folder} WHERE \\\"metropolis\\\" LIKE \\'{city}\\'\"\n",
    "hex_pop = aup.gdf_from_query(query, geometry_col='geometry')\n",
    "\n",
    "print(hex_pop.shape)\n",
    "hex_pop.head(2)\n",
    "hex_pop.plot()"
   ]
  },
  {
   "cell_type": "markdown",
   "id": "b10c4c92-ddc2-4df3-8569-fea31ea16bdc",
   "metadata": {
    "tags": []
   },
   "source": [
    "### Donwload nodes (Based on city)"
   ]
  },
  {
   "cell_type": "code",
   "execution_count": 6,
   "id": "72492c7b",
   "metadata": {
    "tags": []
   },
   "outputs": [
    {
     "name": "stdout",
     "output_type": "stream",
     "text": [
      "(2208953, 7)\n"
     ]
    },
    {
     "data": {
      "text/html": [
       "<div>\n",
       "<style scoped>\n",
       "    .dataframe tbody tr th:only-of-type {\n",
       "        vertical-align: middle;\n",
       "    }\n",
       "\n",
       "    .dataframe tbody tr th {\n",
       "        vertical-align: top;\n",
       "    }\n",
       "\n",
       "    .dataframe thead th {\n",
       "        text-align: right;\n",
       "    }\n",
       "</style>\n",
       "<table border=\"1\" class=\"dataframe\">\n",
       "  <thead>\n",
       "    <tr style=\"text-align: right;\">\n",
       "      <th></th>\n",
       "      <th>osmid</th>\n",
       "      <th>x</th>\n",
       "      <th>y</th>\n",
       "      <th>geometry</th>\n",
       "      <th>time</th>\n",
       "      <th>amenity</th>\n",
       "      <th>metropolis</th>\n",
       "    </tr>\n",
       "  </thead>\n",
       "  <tbody>\n",
       "    <tr>\n",
       "      <th>0</th>\n",
       "      <td>272921360</td>\n",
       "      <td>-102.295073</td>\n",
       "      <td>21.872876</td>\n",
       "      <td>POINT (-102.29507 21.87288)</td>\n",
       "      <td>16.066320</td>\n",
       "      <td>sip_teatro</td>\n",
       "      <td>Aguascalientes</td>\n",
       "    </tr>\n",
       "    <tr>\n",
       "      <th>1</th>\n",
       "      <td>842077577</td>\n",
       "      <td>-102.315634</td>\n",
       "      <td>21.899477</td>\n",
       "      <td>POINT (-102.31563 21.89948)</td>\n",
       "      <td>48.326539</td>\n",
       "      <td>sip_teatro</td>\n",
       "      <td>Aguascalientes</td>\n",
       "    </tr>\n",
       "  </tbody>\n",
       "</table>\n",
       "</div>"
      ],
      "text/plain": [
       "       osmid           x          y                     geometry       time  \\\n",
       "0  272921360 -102.295073  21.872876  POINT (-102.29507 21.87288)  16.066320   \n",
       "1  842077577 -102.315634  21.899477  POINT (-102.31563 21.89948)  48.326539   \n",
       "\n",
       "      amenity      metropolis  \n",
       "0  sip_teatro  Aguascalientes  \n",
       "1  sip_teatro  Aguascalientes  "
      ]
     },
     "execution_count": 6,
     "metadata": {},
     "output_type": "execute_result"
    }
   ],
   "source": [
    "#Folder names from database\n",
    "nodes_schema = 'prox_analysis'\n",
    "nodes_table = 'nodes_proximity_2020'\n",
    "\n",
    "query = f\"SELECT * FROM {nodes_schema}.{nodes_table} WHERE \\\"metropolis\\\" LIKE \\'{city}\\'\"\n",
    "nodes = aup.gdf_from_query(query, geometry_col='geometry')\n",
    "\n",
    "print(nodes.shape)\n",
    "nodes.head(2)"
   ]
  },
  {
   "cell_type": "markdown",
   "id": "d6780dd4-4036-4003-abd6-ea758bef70ce",
   "metadata": {
    "tags": []
   },
   "source": [
    "### Download hexagons res9 (Based on city)"
   ]
  },
  {
   "cell_type": "code",
   "execution_count": 7,
   "id": "d4774933-0a57-46bc-bf44-081679cbb22e",
   "metadata": {
    "tags": []
   },
   "outputs": [
    {
     "name": "stdout",
     "output_type": "stream",
     "text": [
      "(14612, 3)\n"
     ]
    },
    {
     "data": {
      "text/html": [
       "<div>\n",
       "<style scoped>\n",
       "    .dataframe tbody tr th:only-of-type {\n",
       "        vertical-align: middle;\n",
       "    }\n",
       "\n",
       "    .dataframe tbody tr th {\n",
       "        vertical-align: top;\n",
       "    }\n",
       "\n",
       "    .dataframe thead th {\n",
       "        text-align: right;\n",
       "    }\n",
       "</style>\n",
       "<table border=\"1\" class=\"dataframe\">\n",
       "  <thead>\n",
       "    <tr style=\"text-align: right;\">\n",
       "      <th></th>\n",
       "      <th>hex_id_9</th>\n",
       "      <th>geometry</th>\n",
       "      <th>metropolis</th>\n",
       "    </tr>\n",
       "  </thead>\n",
       "  <tbody>\n",
       "    <tr>\n",
       "      <th>0</th>\n",
       "      <td>89498e208b3ffff</td>\n",
       "      <td>POLYGON ((-102.12486 22.05970, -102.12572 22.0...</td>\n",
       "      <td>Aguascalientes</td>\n",
       "    </tr>\n",
       "    <tr>\n",
       "      <th>1</th>\n",
       "      <td>894988d3657ffff</td>\n",
       "      <td>POLYGON ((-102.50504 21.73960, -102.50628 21.7...</td>\n",
       "      <td>Aguascalientes</td>\n",
       "    </tr>\n",
       "  </tbody>\n",
       "</table>\n",
       "</div>"
      ],
      "text/plain": [
       "          hex_id_9                                           geometry  \\\n",
       "0  89498e208b3ffff  POLYGON ((-102.12486 22.05970, -102.12572 22.0...   \n",
       "1  894988d3657ffff  POLYGON ((-102.50504 21.73960, -102.50628 21.7...   \n",
       "\n",
       "       metropolis  \n",
       "0  Aguascalientes  \n",
       "1  Aguascalientes  "
      ]
     },
     "execution_count": 7,
     "metadata": {},
     "output_type": "execute_result"
    }
   ],
   "source": [
    "res = 9\n",
    "folder = 'hexgrid'\n",
    "table = f'hexgrid_{res}_city'\n",
    "\n",
    "query = f\"SELECT * FROM {folder}.{table} WHERE \\\"metropolis\\\" LIKE \\'{city}\\'\"\n",
    "hex_res_9 = aup.gdf_from_query(query, geometry_col='geometry')\n",
    "hex_res_9 = hex_res_9[[f'hex_id_{res}','geometry','metropolis']]\n",
    "print(hex_res_9.shape)\n",
    "hex_res_9.head(2)"
   ]
  },
  {
   "cell_type": "markdown",
   "id": "754f3277",
   "metadata": {
    "tags": []
   },
   "source": [
    "## Data treatment"
   ]
  },
  {
   "cell_type": "markdown",
   "id": "415f575a",
   "metadata": {},
   "source": [
    "### Remove duplicate nodes"
   ]
  },
  {
   "cell_type": "markdown",
   "id": "cc70d04b-19da-45d0-a944-63bf092e881c",
   "metadata": {},
   "source": [
    "Creates nodes keeping osmid, geometry and metropolis (without duplicates) to store times to each amenity source by node in following loop."
   ]
  },
  {
   "cell_type": "code",
   "execution_count": 12,
   "id": "32d072e2",
   "metadata": {
    "tags": []
   },
   "outputs": [
    {
     "name": "stdout",
     "output_type": "stream",
     "text": [
      "(51371, 3)\n"
     ]
    },
    {
     "data": {
      "text/html": [
       "<div>\n",
       "<style scoped>\n",
       "    .dataframe tbody tr th:only-of-type {\n",
       "        vertical-align: middle;\n",
       "    }\n",
       "\n",
       "    .dataframe tbody tr th {\n",
       "        vertical-align: top;\n",
       "    }\n",
       "\n",
       "    .dataframe thead th {\n",
       "        text-align: right;\n",
       "    }\n",
       "</style>\n",
       "<table border=\"1\" class=\"dataframe\">\n",
       "  <thead>\n",
       "    <tr style=\"text-align: right;\">\n",
       "      <th></th>\n",
       "      <th>osmid</th>\n",
       "      <th>geometry</th>\n",
       "      <th>metropolis</th>\n",
       "    </tr>\n",
       "  </thead>\n",
       "  <tbody>\n",
       "    <tr>\n",
       "      <th>2157582</th>\n",
       "      <td>394824991</td>\n",
       "      <td>POINT (-102.31825 21.87750)</td>\n",
       "      <td>Aguascalientes</td>\n",
       "    </tr>\n",
       "    <tr>\n",
       "      <th>2157583</th>\n",
       "      <td>272921360</td>\n",
       "      <td>POINT (-102.29507 21.87288)</td>\n",
       "      <td>Aguascalientes</td>\n",
       "    </tr>\n",
       "  </tbody>\n",
       "</table>\n",
       "</div>"
      ],
      "text/plain": [
       "             osmid                     geometry      metropolis\n",
       "2157582  394824991  POINT (-102.31825 21.87750)  Aguascalientes\n",
       "2157583  272921360  POINT (-102.29507 21.87288)  Aguascalientes"
      ]
     },
     "execution_count": 12,
     "metadata": {},
     "output_type": "execute_result"
    }
   ],
   "source": [
    "nodes_geom = nodes.drop_duplicates(subset='osmid', keep=\"last\")[['osmid','geometry','metropolis']].copy()\n",
    "print(nodes_geom.shape)\n",
    "nodes_geom.head(2)"
   ]
  },
  {
   "cell_type": "markdown",
   "id": "53ea8831",
   "metadata": {},
   "source": [
    "### Reorganize previous times in rows to times from each node"
   ]
  },
  {
   "cell_type": "markdown",
   "id": "bd4e983f-b3bc-4352-8b7f-6f7216156617",
   "metadata": {},
   "source": [
    "Organize data by nodes by changing (time to source amenities) from rows (1 column with source amenity name + 1 column with time data) to columns (1 column with time data named after its source amenity)"
   ]
  },
  {
   "cell_type": "code",
   "execution_count": 13,
   "id": "e37629e4",
   "metadata": {
    "tags": []
   },
   "outputs": [
    {
     "name": "stdout",
     "output_type": "stream",
     "text": [
      "(51371, 46)\n"
     ]
    },
    {
     "data": {
      "text/html": [
       "<div>\n",
       "<style scoped>\n",
       "    .dataframe tbody tr th:only-of-type {\n",
       "        vertical-align: middle;\n",
       "    }\n",
       "\n",
       "    .dataframe tbody tr th {\n",
       "        vertical-align: top;\n",
       "    }\n",
       "\n",
       "    .dataframe thead th {\n",
       "        text-align: right;\n",
       "    }\n",
       "</style>\n",
       "<table border=\"1\" class=\"dataframe\">\n",
       "  <thead>\n",
       "    <tr style=\"text-align: right;\">\n",
       "      <th></th>\n",
       "      <th>osmid</th>\n",
       "      <th>geometry</th>\n",
       "      <th>metropolis</th>\n",
       "      <th>sip_teatro</th>\n",
       "      <th>sip_cancha</th>\n",
       "      <th>sip_unidad_deportiva</th>\n",
       "      <th>sip_espacio_publico</th>\n",
       "      <th>sip_mercado</th>\n",
       "      <th>clues_primer_nivel</th>\n",
       "      <th>clues_segundo_nivel</th>\n",
       "      <th>...</th>\n",
       "      <th>denue_centro_cultural</th>\n",
       "      <th>denue_parque_natural</th>\n",
       "      <th>denue_papelerias</th>\n",
       "      <th>denue_libros</th>\n",
       "      <th>denue_revistas_periodicos</th>\n",
       "      <th>denue_ferreteria_tlapaleria</th>\n",
       "      <th>denue_art_limpieza</th>\n",
       "      <th>denue_pintura</th>\n",
       "      <th>denue_peluqueria</th>\n",
       "      <th>sip_centro_admin</th>\n",
       "    </tr>\n",
       "  </thead>\n",
       "  <tbody>\n",
       "    <tr>\n",
       "      <th>0</th>\n",
       "      <td>394824991</td>\n",
       "      <td>POINT (-102.31825 21.87750)</td>\n",
       "      <td>Aguascalientes</td>\n",
       "      <td>29.783945</td>\n",
       "      <td>143.205457</td>\n",
       "      <td>32.352073</td>\n",
       "      <td>5.534144</td>\n",
       "      <td>35.574825</td>\n",
       "      <td>3.431346</td>\n",
       "      <td>26.376678</td>\n",
       "      <td>...</td>\n",
       "      <td>27.328624</td>\n",
       "      <td>NaN</td>\n",
       "      <td>1.79448</td>\n",
       "      <td>28.767447</td>\n",
       "      <td>17.600331</td>\n",
       "      <td>0.833295</td>\n",
       "      <td>5.284869</td>\n",
       "      <td>0.833295</td>\n",
       "      <td>0.833295</td>\n",
       "      <td>41.037008</td>\n",
       "    </tr>\n",
       "    <tr>\n",
       "      <th>1</th>\n",
       "      <td>272921360</td>\n",
       "      <td>POINT (-102.29507 21.87288)</td>\n",
       "      <td>Aguascalientes</td>\n",
       "      <td>16.066320</td>\n",
       "      <td>156.885198</td>\n",
       "      <td>28.443050</td>\n",
       "      <td>5.692959</td>\n",
       "      <td>22.145997</td>\n",
       "      <td>6.486561</td>\n",
       "      <td>6.486561</td>\n",
       "      <td>...</td>\n",
       "      <td>8.894186</td>\n",
       "      <td>NaN</td>\n",
       "      <td>3.02033</td>\n",
       "      <td>3.312247</td>\n",
       "      <td>10.861234</td>\n",
       "      <td>4.743875</td>\n",
       "      <td>8.534015</td>\n",
       "      <td>8.714079</td>\n",
       "      <td>4.097719</td>\n",
       "      <td>12.607833</td>\n",
       "    </tr>\n",
       "  </tbody>\n",
       "</table>\n",
       "<p>2 rows × 46 columns</p>\n",
       "</div>"
      ],
      "text/plain": [
       "       osmid                     geometry      metropolis  sip_teatro  \\\n",
       "0  394824991  POINT (-102.31825 21.87750)  Aguascalientes   29.783945   \n",
       "1  272921360  POINT (-102.29507 21.87288)  Aguascalientes   16.066320   \n",
       "\n",
       "   sip_cancha  sip_unidad_deportiva  sip_espacio_publico  sip_mercado  \\\n",
       "0  143.205457             32.352073             5.534144    35.574825   \n",
       "1  156.885198             28.443050             5.692959    22.145997   \n",
       "\n",
       "   clues_primer_nivel  clues_segundo_nivel  ...  denue_centro_cultural  \\\n",
       "0            3.431346            26.376678  ...              27.328624   \n",
       "1            6.486561             6.486561  ...               8.894186   \n",
       "\n",
       "   denue_parque_natural  denue_papelerias  denue_libros  \\\n",
       "0                   NaN           1.79448     28.767447   \n",
       "1                   NaN           3.02033      3.312247   \n",
       "\n",
       "   denue_revistas_periodicos  denue_ferreteria_tlapaleria  denue_art_limpieza  \\\n",
       "0                  17.600331                     0.833295            5.284869   \n",
       "1                  10.861234                     4.743875            8.534015   \n",
       "\n",
       "   denue_pintura  denue_peluqueria  sip_centro_admin  \n",
       "0       0.833295          0.833295         41.037008  \n",
       "1       8.714079          4.097719         12.607833  \n",
       "\n",
       "[2 rows x 46 columns]"
      ]
     },
     "execution_count": 13,
     "metadata": {},
     "output_type": "execute_result"
    }
   ],
   "source": [
    "nodes_analysis = nodes_geom.copy()\n",
    "\n",
    "for source_amenity in list(nodes.amenity.unique()):\n",
    "    nodes_tmp = nodes.loc[nodes.amenity == source_amenity,['osmid','time']]\n",
    "    nodes_tmp = nodes_tmp.rename(columns={'time':source_amenity})\n",
    "    # Search for amenities that aren't present in the city (with all values marked as 0) and change them to NaN\n",
    "    if nodes_tmp[source_amenity].mean() == 0:\n",
    "        nodes_tmp[source_amenity] = np.nan\n",
    "    nodes_analysis = nodes_analysis.merge(nodes_tmp, on='osmid')\n",
    "    \n",
    "print(nodes_analysis.shape)\n",
    "nodes_analysis.head(2)"
   ]
  },
  {
   "cell_type": "markdown",
   "id": "ab6a4ec4",
   "metadata": {},
   "source": [
    "## Proximity analysis"
   ]
  },
  {
   "cell_type": "markdown",
   "id": "bd52161f",
   "metadata": {},
   "source": [
    "### Parameters definitions"
   ]
  },
  {
   "cell_type": "code",
   "execution_count": 15,
   "id": "cd0341a7",
   "metadata": {
    "tags": []
   },
   "outputs": [],
   "source": [
    "#{Eje (e):\n",
    "#         {Amenidad (a):\n",
    "#                       {Source (s))}}}\n",
    "\n",
    "idx_15_min = {'Escuelas':{'Preescolar':['denue_preescolar'],\n",
    "                         'Primaria':['denue_primaria'],\n",
    "                         'Secundaria':['denue_secundaria']},\n",
    "             'Servicios comunitarios':{'Salud':['clues_primer_nivel'],\n",
    "                                       'Guarderías':['denue_guarderias'],\n",
    "                                       'Asistencia social':['denue_dif']},\n",
    "              'Comercio':{'Alimentos':['denue_supermercado','denue_abarrotes',\n",
    "                                       'denue_carnicerias','sip_mercado'],\n",
    "                          'Personal':['denue_peluqueria'],\n",
    "                          'Farmacias':['denue_farmacias'],\n",
    "                          'Hogar':['denue_ferreteria_tlapaleria','denue_art_limpieza'],\n",
    "                          'Complementarios':['denue_ropa','denue_calzado','denue_muebles',\n",
    "                                             'denue_lavanderia','denue_revistas_periodicos',\n",
    "                                             'denue_pintura']},\n",
    "              'Entretenimiento':{'Social':['denue_restaurante_insitu','denue_restaurante_llevar',\n",
    "                                           'denue_bares','denue_cafe'],\n",
    "                                'Actividad física':['sip_cancha','sip_unidad_deportiva',\n",
    "                                                    'sip_espacio_publico','denue_parque_natural'],\n",
    "                                'Cultural':['denue_cines','denue_museos']} \n",
    "             }\n",
    "\n",
    "#If weight of amenity is less than number of sources, the algorith chooses the minimum time to source. Else (if equall or greater), chooses max time.\n",
    "wegiht_idx = {'Escuelas':{'Preescolar':1,\n",
    "                        'Primaria':1,\n",
    "                        'Secundaria':1},\n",
    "            'Servicios comunitarios':{'Salud':1,\n",
    "                                    'Guarderías':1,\n",
    "                                    'Asistencia social':1},\n",
    "            'Comercio':{'Alimentos':1,\n",
    "                        'Personal':1,\n",
    "                        'Farmacias':1,\n",
    "                        'Hogar':1,\n",
    "                        'Complementarios':1},\n",
    "            'Entretenimiento':{'Social':4,\n",
    "                                'Actividad física':1,\n",
    "                                'Cultural':1}\n",
    "            }"
   ]
  },
  {
   "cell_type": "markdown",
   "id": "b1483cef-6607-4033-be7e-a8ae8a531bf5",
   "metadata": {},
   "source": [
    "### Fill missing columns (In case there is a source amenity not available in a city)"
   ]
  },
  {
   "cell_type": "code",
   "execution_count": 22,
   "id": "a66d5dac-1dd8-4726-8a99-7cb794c267af",
   "metadata": {
    "tags": []
   },
   "outputs": [
    {
     "name": "stdout",
     "output_type": "stream",
     "text": [
      "There are 0 non present source amenities in Aguascalientes\n"
     ]
    },
    {
     "data": {
      "text/plain": [
       "[]"
      ]
     },
     "execution_count": 22,
     "metadata": {},
     "output_type": "execute_result"
    }
   ],
   "source": [
    "sources = []\n",
    "\n",
    "# Gather all possible sources\n",
    "for eje in idx_15_min.keys():\n",
    "    for amenity in idx_15_min[eje].values():\n",
    "        for source in amenity:\n",
    "            sources.append(source)\n",
    "\n",
    "# If source not in currently analized city, fill column with np.nan\n",
    "column_list = list(nodes_analysis.columns)\n",
    "\n",
    "missing_sourceamenities = []\n",
    "\n",
    "for s in sources:\n",
    "        if s not in column_list:\n",
    "            nodes_analysis[s] = np.nan\n",
    "            missing_sourceamenities.append(a)\n",
    "\n",
    "print(\"There are {} non present source amenities in {}\".format(len(missing_sourceamenities),city))\n",
    "missing_sourceamenities"
   ]
  },
  {
   "cell_type": "markdown",
   "id": "30566833-04dc-439a-8edb-536d0020484e",
   "metadata": {},
   "source": [
    "## Proximity analysis - Max time calculation"
   ]
  },
  {
   "cell_type": "code",
   "execution_count": 27,
   "id": "62d070a3-8e70-415c-b28a-a918a4fbfef9",
   "metadata": {
    "tags": []
   },
   "outputs": [],
   "source": [
    "# time by ammenity\n",
    "\n",
    "column_max_all = [] # list with all max index column names\n",
    "column_max_ejes = [] # list with ejes index column names\n",
    "\n",
    "#Goes through each eje in dictionary:\n",
    "for e in idx_15_min.keys():\n",
    "    \n",
    "    #Appends to 3 lists currently examined eje\n",
    "    column_max_all.append('max_'+ e.lower())\n",
    "    column_max_ejes.append('max_'+ e.lower())\n",
    "    column_max_amenities = [] # list with amenities in current eje\n",
    "    \n",
    "    #Goes through each amenity of current eje:\n",
    "    for a in idx_15_min[e].keys():\n",
    "        \n",
    "        #Appends to 2 lists currently examined amenity:\n",
    "        column_max_all.append('max_'+ a.lower())\n",
    "        column_max_amenities.append('max_'+ a.lower())\n",
    "\n",
    "        #Calculates time to currently examined amenity:\n",
    "        #If weight is less than number of sources of amenity, choose minimum time to sources.\n",
    "        if wegiht_idx[e][a] < len(idx_15_min[e][a]): \n",
    "            nodes_analysis['max_'+ a.lower()] = nodes_analysis[idx_15_min[e][a]].min(axis=1)\n",
    "        #Else, choose maximum time to sources.\n",
    "        else:\n",
    "            nodes_analysis['max_'+ a.lower()] = nodes_analysis[idx_15_min[e][a]].max(axis=1)\n",
    "    \n",
    "    #Calculates time to currently examined eje (max time of its amenities):\n",
    "    nodes_analysis['max_'+ e.lower()] = nodes_analysis[column_max_amenities].max(axis=1) \n",
    "\n",
    "index_column = 'max_time' # column name for maximum time data\n",
    "\n",
    "#Add to column_max_all list the attribute 'max_time'\n",
    "column_max_all.append(index_column)\n",
    "\n",
    "#Assigns \"max_time\" the max time for all ejes\n",
    "nodes_analysis[index_column] = nodes_analysis[column_max_ejes].max(axis=1) "
   ]
  },
  {
   "cell_type": "code",
   "execution_count": 28,
   "id": "13b7e3df-6462-4166-a55b-1397d5826fc3",
   "metadata": {
    "tags": []
   },
   "outputs": [
    {
     "data": {
      "text/html": [
       "<div>\n",
       "<style scoped>\n",
       "    .dataframe tbody tr th:only-of-type {\n",
       "        vertical-align: middle;\n",
       "    }\n",
       "\n",
       "    .dataframe tbody tr th {\n",
       "        vertical-align: top;\n",
       "    }\n",
       "\n",
       "    .dataframe thead th {\n",
       "        text-align: right;\n",
       "    }\n",
       "</style>\n",
       "<table border=\"1\" class=\"dataframe\">\n",
       "  <thead>\n",
       "    <tr style=\"text-align: right;\">\n",
       "      <th></th>\n",
       "      <th>osmid</th>\n",
       "      <th>geometry</th>\n",
       "      <th>metropolis</th>\n",
       "      <th>sip_teatro</th>\n",
       "      <th>sip_cancha</th>\n",
       "      <th>sip_unidad_deportiva</th>\n",
       "      <th>sip_espacio_publico</th>\n",
       "      <th>sip_mercado</th>\n",
       "      <th>clues_primer_nivel</th>\n",
       "      <th>clues_segundo_nivel</th>\n",
       "      <th>...</th>\n",
       "      <th>max_personal</th>\n",
       "      <th>max_farmacias</th>\n",
       "      <th>max_hogar</th>\n",
       "      <th>max_complementarios</th>\n",
       "      <th>max_comercio</th>\n",
       "      <th>max_social</th>\n",
       "      <th>max_actividad física</th>\n",
       "      <th>max_cultural</th>\n",
       "      <th>max_entretenimiento</th>\n",
       "      <th>max_time</th>\n",
       "    </tr>\n",
       "  </thead>\n",
       "  <tbody>\n",
       "    <tr>\n",
       "      <th>0</th>\n",
       "      <td>394824991</td>\n",
       "      <td>POINT (-102.31825 21.87750)</td>\n",
       "      <td>Aguascalientes</td>\n",
       "      <td>29.783945</td>\n",
       "      <td>143.205457</td>\n",
       "      <td>32.352073</td>\n",
       "      <td>5.534144</td>\n",
       "      <td>35.574825</td>\n",
       "      <td>3.431346</td>\n",
       "      <td>26.376678</td>\n",
       "      <td>...</td>\n",
       "      <td>0.833295</td>\n",
       "      <td>3.444300</td>\n",
       "      <td>0.833295</td>\n",
       "      <td>0.833295</td>\n",
       "      <td>3.444300</td>\n",
       "      <td>5.284869</td>\n",
       "      <td>5.534144</td>\n",
       "      <td>20.196549</td>\n",
       "      <td>20.196549</td>\n",
       "      <td>28.525796</td>\n",
       "    </tr>\n",
       "    <tr>\n",
       "      <th>1</th>\n",
       "      <td>272921360</td>\n",
       "      <td>POINT (-102.29507 21.87288)</td>\n",
       "      <td>Aguascalientes</td>\n",
       "      <td>16.066320</td>\n",
       "      <td>156.885198</td>\n",
       "      <td>28.443050</td>\n",
       "      <td>5.692959</td>\n",
       "      <td>22.145997</td>\n",
       "      <td>6.486561</td>\n",
       "      <td>6.486561</td>\n",
       "      <td>...</td>\n",
       "      <td>4.097719</td>\n",
       "      <td>5.174683</td>\n",
       "      <td>4.743875</td>\n",
       "      <td>0.000000</td>\n",
       "      <td>5.174683</td>\n",
       "      <td>5.254730</td>\n",
       "      <td>5.692959</td>\n",
       "      <td>7.589368</td>\n",
       "      <td>7.589368</td>\n",
       "      <td>11.812107</td>\n",
       "    </tr>\n",
       "  </tbody>\n",
       "</table>\n",
       "<p>2 rows × 65 columns</p>\n",
       "</div>"
      ],
      "text/plain": [
       "       osmid                     geometry      metropolis  sip_teatro  \\\n",
       "0  394824991  POINT (-102.31825 21.87750)  Aguascalientes   29.783945   \n",
       "1  272921360  POINT (-102.29507 21.87288)  Aguascalientes   16.066320   \n",
       "\n",
       "   sip_cancha  sip_unidad_deportiva  sip_espacio_publico  sip_mercado  \\\n",
       "0  143.205457             32.352073             5.534144    35.574825   \n",
       "1  156.885198             28.443050             5.692959    22.145997   \n",
       "\n",
       "   clues_primer_nivel  clues_segundo_nivel  ...  max_personal  max_farmacias  \\\n",
       "0            3.431346            26.376678  ...      0.833295       3.444300   \n",
       "1            6.486561             6.486561  ...      4.097719       5.174683   \n",
       "\n",
       "   max_hogar  max_complementarios  max_comercio  max_social  \\\n",
       "0   0.833295             0.833295      3.444300    5.284869   \n",
       "1   4.743875             0.000000      5.174683    5.254730   \n",
       "\n",
       "   max_actividad física  max_cultural  max_entretenimiento   max_time  \n",
       "0              5.534144     20.196549            20.196549  28.525796  \n",
       "1              5.692959      7.589368             7.589368  11.812107  \n",
       "\n",
       "[2 rows x 65 columns]"
      ]
     },
     "execution_count": 28,
     "metadata": {},
     "output_type": "execute_result"
    }
   ],
   "source": [
    "nodes_analysis.head(2)"
   ]
  },
  {
   "cell_type": "code",
   "execution_count": 29,
   "id": "8c4087ba-847d-49cd-8826-e6ac0eab7564",
   "metadata": {
    "tags": []
   },
   "outputs": [
    {
     "data": {
      "text/html": [
       "<div>\n",
       "<style scoped>\n",
       "    .dataframe tbody tr th:only-of-type {\n",
       "        vertical-align: middle;\n",
       "    }\n",
       "\n",
       "    .dataframe tbody tr th {\n",
       "        vertical-align: top;\n",
       "    }\n",
       "\n",
       "    .dataframe thead th {\n",
       "        text-align: right;\n",
       "    }\n",
       "</style>\n",
       "<table border=\"1\" class=\"dataframe\">\n",
       "  <thead>\n",
       "    <tr style=\"text-align: right;\">\n",
       "      <th></th>\n",
       "      <th>max_escuelas</th>\n",
       "      <th>max_preescolar</th>\n",
       "      <th>max_primaria</th>\n",
       "      <th>max_secundaria</th>\n",
       "      <th>max_servicios comunitarios</th>\n",
       "      <th>max_salud</th>\n",
       "      <th>max_guarderías</th>\n",
       "      <th>max_asistencia social</th>\n",
       "      <th>max_comercio</th>\n",
       "      <th>max_alimentos</th>\n",
       "      <th>...</th>\n",
       "      <th>max_farmacias</th>\n",
       "      <th>max_hogar</th>\n",
       "      <th>max_complementarios</th>\n",
       "      <th>max_entretenimiento</th>\n",
       "      <th>max_social</th>\n",
       "      <th>max_actividad física</th>\n",
       "      <th>max_cultural</th>\n",
       "      <th>max_time</th>\n",
       "      <th>osmid</th>\n",
       "      <th>geometry</th>\n",
       "    </tr>\n",
       "  </thead>\n",
       "  <tbody>\n",
       "    <tr>\n",
       "      <th>0</th>\n",
       "      <td>20.542774</td>\n",
       "      <td>5.550622</td>\n",
       "      <td>6.278781</td>\n",
       "      <td>20.542774</td>\n",
       "      <td>28.525796</td>\n",
       "      <td>3.431346</td>\n",
       "      <td>10.677836</td>\n",
       "      <td>28.525796</td>\n",
       "      <td>3.444300</td>\n",
       "      <td>0.000000</td>\n",
       "      <td>...</td>\n",
       "      <td>3.444300</td>\n",
       "      <td>0.833295</td>\n",
       "      <td>0.833295</td>\n",
       "      <td>20.196549</td>\n",
       "      <td>5.284869</td>\n",
       "      <td>5.534144</td>\n",
       "      <td>20.196549</td>\n",
       "      <td>28.525796</td>\n",
       "      <td>394824991</td>\n",
       "      <td>POINT (-102.31825 21.87750)</td>\n",
       "    </tr>\n",
       "    <tr>\n",
       "      <th>1</th>\n",
       "      <td>11.812107</td>\n",
       "      <td>10.770629</td>\n",
       "      <td>5.615674</td>\n",
       "      <td>11.812107</td>\n",
       "      <td>6.486561</td>\n",
       "      <td>6.486561</td>\n",
       "      <td>5.095610</td>\n",
       "      <td>6.486561</td>\n",
       "      <td>5.174683</td>\n",
       "      <td>1.673421</td>\n",
       "      <td>...</td>\n",
       "      <td>5.174683</td>\n",
       "      <td>4.743875</td>\n",
       "      <td>0.000000</td>\n",
       "      <td>7.589368</td>\n",
       "      <td>5.254730</td>\n",
       "      <td>5.692959</td>\n",
       "      <td>7.589368</td>\n",
       "      <td>11.812107</td>\n",
       "      <td>272921360</td>\n",
       "      <td>POINT (-102.29507 21.87288)</td>\n",
       "    </tr>\n",
       "  </tbody>\n",
       "</table>\n",
       "<p>2 rows × 21 columns</p>\n",
       "</div>"
      ],
      "text/plain": [
       "   max_escuelas  max_preescolar  max_primaria  max_secundaria  \\\n",
       "0     20.542774        5.550622      6.278781       20.542774   \n",
       "1     11.812107       10.770629      5.615674       11.812107   \n",
       "\n",
       "   max_servicios comunitarios  max_salud  max_guarderías  \\\n",
       "0                   28.525796   3.431346       10.677836   \n",
       "1                    6.486561   6.486561        5.095610   \n",
       "\n",
       "   max_asistencia social  max_comercio  max_alimentos  ...  max_farmacias  \\\n",
       "0              28.525796      3.444300       0.000000  ...       3.444300   \n",
       "1               6.486561      5.174683       1.673421  ...       5.174683   \n",
       "\n",
       "   max_hogar  max_complementarios  max_entretenimiento  max_social  \\\n",
       "0   0.833295             0.833295            20.196549    5.284869   \n",
       "1   4.743875             0.000000             7.589368    5.254730   \n",
       "\n",
       "   max_actividad física  max_cultural   max_time      osmid  \\\n",
       "0              5.534144     20.196549  28.525796  394824991   \n",
       "1              5.692959      7.589368  11.812107  272921360   \n",
       "\n",
       "                      geometry  \n",
       "0  POINT (-102.31825 21.87750)  \n",
       "1  POINT (-102.29507 21.87288)  \n",
       "\n",
       "[2 rows x 21 columns]"
      ]
     },
     "execution_count": 29,
     "metadata": {},
     "output_type": "execute_result"
    }
   ],
   "source": [
    "#Add to column_max_all list the attributes 'osmid' and 'geometry' to filter nodes_analysis with the column_max_all list.\n",
    "column_max_all.append('osmid')\n",
    "column_max_all.append('geometry')\n",
    "nodes_analysis_filter = nodes_analysis[column_max_all].copy()\n",
    "nodes_analysis_filter.head(2)"
   ]
  },
  {
   "cell_type": "markdown",
   "id": "380ab501-da1a-46a3-b322-6f582ae0196f",
   "metadata": {
    "tags": []
   },
   "source": [
    "### Group times by hexagons"
   ]
  },
  {
   "cell_type": "code",
   "execution_count": 30,
   "id": "1ce3470b-9587-454d-8cc1-d1a2586ea5d7",
   "metadata": {
    "tags": []
   },
   "outputs": [
    {
     "data": {
      "text/html": [
       "<div>\n",
       "<style scoped>\n",
       "    .dataframe tbody tr th:only-of-type {\n",
       "        vertical-align: middle;\n",
       "    }\n",
       "\n",
       "    .dataframe tbody tr th {\n",
       "        vertical-align: top;\n",
       "    }\n",
       "\n",
       "    .dataframe thead th {\n",
       "        text-align: right;\n",
       "    }\n",
       "</style>\n",
       "<table border=\"1\" class=\"dataframe\">\n",
       "  <thead>\n",
       "    <tr style=\"text-align: right;\">\n",
       "      <th></th>\n",
       "      <th>hex_id_9</th>\n",
       "      <th>geometry</th>\n",
       "      <th>max_escuelas</th>\n",
       "      <th>max_preescolar</th>\n",
       "      <th>max_primaria</th>\n",
       "      <th>max_secundaria</th>\n",
       "      <th>max_servicios comunitarios</th>\n",
       "      <th>max_salud</th>\n",
       "      <th>max_guarderías</th>\n",
       "      <th>max_asistencia social</th>\n",
       "      <th>...</th>\n",
       "      <th>max_alimentos</th>\n",
       "      <th>max_personal</th>\n",
       "      <th>max_farmacias</th>\n",
       "      <th>max_hogar</th>\n",
       "      <th>max_complementarios</th>\n",
       "      <th>max_entretenimiento</th>\n",
       "      <th>max_social</th>\n",
       "      <th>max_actividad física</th>\n",
       "      <th>max_cultural</th>\n",
       "      <th>max_time</th>\n",
       "    </tr>\n",
       "  </thead>\n",
       "  <tbody>\n",
       "    <tr>\n",
       "      <th>0</th>\n",
       "      <td>89498e3415bffff</td>\n",
       "      <td>POLYGON ((-102.24951 21.95406, -102.24827 21.9...</td>\n",
       "      <td>44.295673</td>\n",
       "      <td>44.295673</td>\n",
       "      <td>44.164955</td>\n",
       "      <td>39.909090</td>\n",
       "      <td>70.033101</td>\n",
       "      <td>38.343919</td>\n",
       "      <td>52.648734</td>\n",
       "      <td>70.033101</td>\n",
       "      <td>...</td>\n",
       "      <td>34.949738</td>\n",
       "      <td>36.425593</td>\n",
       "      <td>39.482763</td>\n",
       "      <td>34.317323</td>\n",
       "      <td>42.827485</td>\n",
       "      <td>125.899925</td>\n",
       "      <td>90.689794</td>\n",
       "      <td>3.112153</td>\n",
       "      <td>125.899925</td>\n",
       "      <td>125.899925</td>\n",
       "    </tr>\n",
       "    <tr>\n",
       "      <th>1</th>\n",
       "      <td>89498eacaa3ffff</td>\n",
       "      <td>POLYGON ((-102.28485 21.83514, -102.28361 21.8...</td>\n",
       "      <td>30.169718</td>\n",
       "      <td>23.001062</td>\n",
       "      <td>27.591513</td>\n",
       "      <td>30.169718</td>\n",
       "      <td>31.683427</td>\n",
       "      <td>31.683427</td>\n",
       "      <td>29.980341</td>\n",
       "      <td>3.093656</td>\n",
       "      <td>...</td>\n",
       "      <td>11.685526</td>\n",
       "      <td>22.109336</td>\n",
       "      <td>19.732087</td>\n",
       "      <td>3.126740</td>\n",
       "      <td>6.970926</td>\n",
       "      <td>39.486692</td>\n",
       "      <td>23.823489</td>\n",
       "      <td>5.002919</td>\n",
       "      <td>39.486692</td>\n",
       "      <td>39.486692</td>\n",
       "    </tr>\n",
       "  </tbody>\n",
       "</table>\n",
       "<p>2 rows × 21 columns</p>\n",
       "</div>"
      ],
      "text/plain": [
       "          hex_id_9                                           geometry  \\\n",
       "0  89498e3415bffff  POLYGON ((-102.24951 21.95406, -102.24827 21.9...   \n",
       "1  89498eacaa3ffff  POLYGON ((-102.28485 21.83514, -102.28361 21.8...   \n",
       "\n",
       "   max_escuelas  max_preescolar  max_primaria  max_secundaria  \\\n",
       "0     44.295673       44.295673     44.164955       39.909090   \n",
       "1     30.169718       23.001062     27.591513       30.169718   \n",
       "\n",
       "   max_servicios comunitarios  max_salud  max_guarderías  \\\n",
       "0                   70.033101  38.343919       52.648734   \n",
       "1                   31.683427  31.683427       29.980341   \n",
       "\n",
       "   max_asistencia social  ...  max_alimentos  max_personal  max_farmacias  \\\n",
       "0              70.033101  ...      34.949738     36.425593      39.482763   \n",
       "1               3.093656  ...      11.685526     22.109336      19.732087   \n",
       "\n",
       "   max_hogar  max_complementarios  max_entretenimiento  max_social  \\\n",
       "0  34.317323            42.827485           125.899925   90.689794   \n",
       "1   3.126740             6.970926            39.486692   23.823489   \n",
       "\n",
       "   max_actividad física  max_cultural    max_time  \n",
       "0              3.112153    125.899925  125.899925  \n",
       "1              5.002919     39.486692   39.486692  \n",
       "\n",
       "[2 rows x 21 columns]"
      ]
     },
     "execution_count": 30,
     "metadata": {},
     "output_type": "execute_result"
    }
   ],
   "source": [
    "# group data by hex\n",
    "res = 9\n",
    "hex_tmp = hex_pop[['hex_id_9','geometry']]\n",
    "hex_res_9_idx = aup.group_by_hex_mean(nodes_analysis_filter, hex_tmp, res, index_column)\n",
    "hex_res_9_idx = hex_res_9_idx.loc[hex_res_9_idx[index_column]>0].copy()\n",
    "\n",
    "# Review result\n",
    "hex_res_9_idx.head(2)"
   ]
  },
  {
   "cell_type": "code",
   "execution_count": 31,
   "id": "7b924319-c115-43a8-8350-e880d19e14ba",
   "metadata": {
    "tags": []
   },
   "outputs": [
    {
     "data": {
      "text/plain": [
       "<Axes: >"
      ]
     },
     "execution_count": 31,
     "metadata": {},
     "output_type": "execute_result"
    },
    {
     "data": {
      "image/png": "[encoded data removed]",
      "text/plain": [
       "<Figure size 640x480 with 1 Axes>"
      ]
     },
     "metadata": {},
     "output_type": "display_data"
    }
   ],
   "source": [
    "hex_res_9_idx.plot('max_time',cmap = 'viridis_r')"
   ]
  },
  {
   "cell_type": "markdown",
   "id": "6bf4113e-f8ca-44be-b0fc-cd32a2b8143c",
   "metadata": {
    "tags": []
   },
   "source": [
    "### Re-calculate max times by hexagon"
   ]
  },
  {
   "cell_type": "code",
   "execution_count": 34,
   "id": "c905be14-a6c6-41f3-bbcd-c518a31bb14a",
   "metadata": {
    "tags": []
   },
   "outputs": [
    {
     "data": {
      "text/html": [
       "<div>\n",
       "<style scoped>\n",
       "    .dataframe tbody tr th:only-of-type {\n",
       "        vertical-align: middle;\n",
       "    }\n",
       "\n",
       "    .dataframe tbody tr th {\n",
       "        vertical-align: top;\n",
       "    }\n",
       "\n",
       "    .dataframe thead th {\n",
       "        text-align: right;\n",
       "    }\n",
       "</style>\n",
       "<table border=\"1\" class=\"dataframe\">\n",
       "  <thead>\n",
       "    <tr style=\"text-align: right;\">\n",
       "      <th></th>\n",
       "      <th>hex_id_9</th>\n",
       "      <th>geometry</th>\n",
       "      <th>max_escuelas</th>\n",
       "      <th>max_preescolar</th>\n",
       "      <th>max_primaria</th>\n",
       "      <th>max_secundaria</th>\n",
       "      <th>max_servicios comunitarios</th>\n",
       "      <th>max_salud</th>\n",
       "      <th>max_guarderías</th>\n",
       "      <th>max_asistencia social</th>\n",
       "      <th>...</th>\n",
       "      <th>max_alimentos</th>\n",
       "      <th>max_personal</th>\n",
       "      <th>max_farmacias</th>\n",
       "      <th>max_hogar</th>\n",
       "      <th>max_complementarios</th>\n",
       "      <th>max_entretenimiento</th>\n",
       "      <th>max_social</th>\n",
       "      <th>max_actividad física</th>\n",
       "      <th>max_cultural</th>\n",
       "      <th>max_time</th>\n",
       "    </tr>\n",
       "  </thead>\n",
       "  <tbody>\n",
       "    <tr>\n",
       "      <th>0</th>\n",
       "      <td>89498e3415bffff</td>\n",
       "      <td>POLYGON ((-102.24951 21.95406, -102.24827 21.9...</td>\n",
       "      <td>44.295673</td>\n",
       "      <td>44.295673</td>\n",
       "      <td>44.164955</td>\n",
       "      <td>39.909090</td>\n",
       "      <td>70.033101</td>\n",
       "      <td>38.343919</td>\n",
       "      <td>52.648734</td>\n",
       "      <td>70.033101</td>\n",
       "      <td>...</td>\n",
       "      <td>34.949738</td>\n",
       "      <td>36.425593</td>\n",
       "      <td>39.482763</td>\n",
       "      <td>34.317323</td>\n",
       "      <td>42.827485</td>\n",
       "      <td>125.899925</td>\n",
       "      <td>90.689794</td>\n",
       "      <td>3.112153</td>\n",
       "      <td>125.899925</td>\n",
       "      <td>125.899925</td>\n",
       "    </tr>\n",
       "    <tr>\n",
       "      <th>1</th>\n",
       "      <td>89498eacaa3ffff</td>\n",
       "      <td>POLYGON ((-102.28485 21.83514, -102.28361 21.8...</td>\n",
       "      <td>30.169718</td>\n",
       "      <td>23.001062</td>\n",
       "      <td>27.591513</td>\n",
       "      <td>30.169718</td>\n",
       "      <td>31.683427</td>\n",
       "      <td>31.683427</td>\n",
       "      <td>29.980341</td>\n",
       "      <td>3.093656</td>\n",
       "      <td>...</td>\n",
       "      <td>11.685526</td>\n",
       "      <td>22.109336</td>\n",
       "      <td>19.732087</td>\n",
       "      <td>3.126740</td>\n",
       "      <td>6.970926</td>\n",
       "      <td>39.486692</td>\n",
       "      <td>23.823489</td>\n",
       "      <td>5.002919</td>\n",
       "      <td>39.486692</td>\n",
       "      <td>39.486692</td>\n",
       "    </tr>\n",
       "  </tbody>\n",
       "</table>\n",
       "<p>2 rows × 21 columns</p>\n",
       "</div>"
      ],
      "text/plain": [
       "          hex_id_9                                           geometry  \\\n",
       "0  89498e3415bffff  POLYGON ((-102.24951 21.95406, -102.24827 21.9...   \n",
       "1  89498eacaa3ffff  POLYGON ((-102.28485 21.83514, -102.28361 21.8...   \n",
       "\n",
       "   max_escuelas  max_preescolar  max_primaria  max_secundaria  \\\n",
       "0     44.295673       44.295673     44.164955       39.909090   \n",
       "1     30.169718       23.001062     27.591513       30.169718   \n",
       "\n",
       "   max_servicios comunitarios  max_salud  max_guarderías  \\\n",
       "0                   70.033101  38.343919       52.648734   \n",
       "1                   31.683427  31.683427       29.980341   \n",
       "\n",
       "   max_asistencia social  ...  max_alimentos  max_personal  max_farmacias  \\\n",
       "0              70.033101  ...      34.949738     36.425593      39.482763   \n",
       "1               3.093656  ...      11.685526     22.109336      19.732087   \n",
       "\n",
       "   max_hogar  max_complementarios  max_entretenimiento  max_social  \\\n",
       "0  34.317323            42.827485           125.899925   90.689794   \n",
       "1   3.126740             6.970926            39.486692   23.823489   \n",
       "\n",
       "   max_actividad física  max_cultural    max_time  \n",
       "0              3.112153    125.899925  125.899925  \n",
       "1              5.002919     39.486692   39.486692  \n",
       "\n",
       "[2 rows x 21 columns]"
      ]
     },
     "execution_count": 34,
     "metadata": {},
     "output_type": "execute_result"
    }
   ],
   "source": [
    "# recalculates max time to each eje from max times to calculated amenities and max_time from max eje\n",
    "\n",
    "column_max_ejes = [] # list with ejes index column names\n",
    "\n",
    "#Goes (again) through each eje in dictionary:\n",
    "for e in idx_15_min.keys():\n",
    "    \n",
    "    column_max_ejes.append('max_'+ e.lower())\n",
    "    column_max_amenities = [] # list with amenities in current eje\n",
    "    \n",
    "    #Goes (again) through each amenity of current eje:    \n",
    "    for a in idx_15_min[e].keys():\n",
    "        \n",
    "        column_max_amenities.append('max_'+ a.lower())\n",
    "        \n",
    "    #Re-calculates time to currently examined eje (max time of its amenities):        \n",
    "    hex_res_9_idx['max_'+ e.lower()] = hex_res_9_idx[column_max_amenities].max(axis=1)\n",
    "\n",
    "hex_res_9_idx[index_column] = hex_res_9_idx[column_max_ejes].max(axis=1)\n",
    "\n",
    "#Add to column_max_all list the attribute 'max_time'\n",
    "column_max_ejes.append(index_column)\n",
    "\n",
    "#Review results:\n",
    "hex_res_9_idx.head(2)"
   ]
  },
  {
   "cell_type": "markdown",
   "id": "411b8d7e-3e13-4bd0-b3c1-b9e8ce2b6b64",
   "metadata": {},
   "source": [
    "## Proximity analysis - Index, median and mean calculation"
   ]
  },
  {
   "cell_type": "code",
   "execution_count": 35,
   "id": "a44c4921-2615-414a-9c0a-c82cc00714f2",
   "metadata": {
    "tags": []
   },
   "outputs": [
    {
     "data": {
      "text/plain": [
       "0.1464814753435666"
      ]
     },
     "execution_count": 35,
     "metadata": {},
     "output_type": "execute_result"
    }
   ],
   "source": [
    "k = aup.sigmoidal_function_constant(15, 30)\n",
    "k"
   ]
  },
  {
   "cell_type": "code",
   "execution_count": 36,
   "id": "15808dba-f081-43a7-b6e4-f20bd2f55721",
   "metadata": {
    "tags": []
   },
   "outputs": [
    {
     "data": {
      "text/plain": [
       "1.960588498224304e-62"
      ]
     },
     "execution_count": 36,
     "metadata": {},
     "output_type": "execute_result"
    }
   ],
   "source": [
    "aup.sigmoidal_function(0.1464814753435666, 1000, 30)"
   ]
  },
  {
   "cell_type": "code",
   "execution_count": 37,
   "id": "d4544872-d838-428d-8865-ebad68091eb7",
   "metadata": {
    "tags": []
   },
   "outputs": [],
   "source": [
    "def apply_sigmoidal(x):\n",
    "    if x == -1:\n",
    "        return -1\n",
    "    elif x > 1000:\n",
    "        return 0\n",
    "    else:\n",
    "        val = aup.sigmoidal_function(0.1464814753435666, x, 30)\n",
    "        return val"
   ]
  },
  {
   "cell_type": "code",
   "execution_count": 41,
   "id": "1e262f09-1f48-4c04-816c-3a20d073c253",
   "metadata": {
    "tags": []
   },
   "outputs": [],
   "source": [
    "amenities_col = ['max_preescolar','max_primaria','max_secundaria',\n",
    "               'max_salud','max_guarderías','max_asistencia social',\n",
    "               'max_alimentos','max_personal','max_farmacias','max_hogar',\n",
    "               'max_complementarios','max_social','max_actividad física',\n",
    "               'max_cultural']\n",
    "for ac in amenities_col:\n",
    "    idx_col = ac.replace('max','idx')\n",
    "    hex_res_9_idx[idx_col] = hex_res_9_idx[ac].apply(apply_sigmoidal)"
   ]
  },
  {
   "cell_type": "code",
   "execution_count": 43,
   "id": "1ed64836-e186-4809-bfc4-9b707c279575",
   "metadata": {
    "tags": []
   },
   "outputs": [
    {
     "data": {
      "text/plain": [
       "['idx_preescolar',\n",
       " 'idx_primaria',\n",
       " 'idx_secundaria',\n",
       " 'idx_salud',\n",
       " 'idx_guarderías',\n",
       " 'idx_asistencia social',\n",
       " 'idx_alimentos',\n",
       " 'idx_personal',\n",
       " 'idx_farmacias',\n",
       " 'idx_hogar',\n",
       " 'idx_complementarios',\n",
       " 'idx_social',\n",
       " 'idx_actividad física',\n",
       " 'idx_cultural']"
      ]
     },
     "execution_count": 43,
     "metadata": {},
     "output_type": "execute_result"
    }
   ],
   "source": [
    "idx_colname = []\n",
    "\n",
    "for ac in amenities_col:\n",
    "    idx_col = ac.replace('max','idx')\n",
    "    idx_colname.append(idx_col)\n",
    "\n",
    "idx_colname"
   ]
  },
  {
   "cell_type": "code",
   "execution_count": 44,
   "id": "e4b731c3-3c28-43eb-9eaa-e56063d6edaa",
   "metadata": {
    "tags": []
   },
   "outputs": [],
   "source": [
    "hex_res_9_idx['mean_time'] = hex_res_9_idx[amenities_col].mean(axis=1)\n",
    "hex_res_9_idx['median_time'] = hex_res_9_idx[amenities_col].median(axis=1)\n",
    "hex_res_9_idx['idx_sum'] = hex_res_9_idx[idx_colname].sum(axis=1)"
   ]
  },
  {
   "cell_type": "markdown",
   "id": "eb3aa984-d7ef-4c4a-9566-54effc176bac",
   "metadata": {},
   "source": [
    "## Add pop data"
   ]
  },
  {
   "cell_type": "code",
   "execution_count": 45,
   "id": "fcf28ae0-1493-468a-bccf-2da6e90bd100",
   "metadata": {
    "tags": []
   },
   "outputs": [],
   "source": [
    "# calculate population density\n",
    "hex_pop = hex_pop.to_crs(\"EPSG:6372\")\n",
    "hex_pop['dens_pobha'] = hex_pop['pobtot'] / (hex_pop.area/10000)\n",
    "hex_pop = hex_pop.to_crs(\"EPSG:4326\")"
   ]
  },
  {
   "cell_type": "code",
   "execution_count": 46,
   "id": "d8395684-c2b6-41c6-9ac2-dd33c493636a",
   "metadata": {
    "tags": []
   },
   "outputs": [],
   "source": [
    "pop_list = ['hex_id_9','pobtot','dens_pobha']\n",
    "hex_res_9_idx = pd.merge(hex_res_9_idx, hex_pop[pop_list], on='hex_id_9')"
   ]
  },
  {
   "cell_type": "code",
   "execution_count": 49,
   "id": "02d13f8b-c2b5-485a-87ab-55f2d839d617",
   "metadata": {
    "tags": []
   },
   "outputs": [
    {
     "data": {
      "text/html": [
       "<div>\n",
       "<style scoped>\n",
       "    .dataframe tbody tr th:only-of-type {\n",
       "        vertical-align: middle;\n",
       "    }\n",
       "\n",
       "    .dataframe tbody tr th {\n",
       "        vertical-align: top;\n",
       "    }\n",
       "\n",
       "    .dataframe thead th {\n",
       "        text-align: right;\n",
       "    }\n",
       "</style>\n",
       "<table border=\"1\" class=\"dataframe\">\n",
       "  <thead>\n",
       "    <tr style=\"text-align: right;\">\n",
       "      <th></th>\n",
       "      <th>hex_id_9</th>\n",
       "      <th>geometry</th>\n",
       "      <th>max_escuelas</th>\n",
       "      <th>max_preescolar</th>\n",
       "      <th>max_primaria</th>\n",
       "      <th>max_secundaria</th>\n",
       "      <th>max_servicios comunitarios</th>\n",
       "      <th>max_salud</th>\n",
       "      <th>max_guarderías</th>\n",
       "      <th>max_asistencia social</th>\n",
       "      <th>...</th>\n",
       "      <th>idx_complementarios</th>\n",
       "      <th>idx_social</th>\n",
       "      <th>idx_actividad física</th>\n",
       "      <th>idx_cultural</th>\n",
       "      <th>mean_time</th>\n",
       "      <th>median_time</th>\n",
       "      <th>max_time</th>\n",
       "      <th>idx_sum</th>\n",
       "      <th>pobtot</th>\n",
       "      <th>dens_pobha</th>\n",
       "    </tr>\n",
       "  </thead>\n",
       "  <tbody>\n",
       "    <tr>\n",
       "      <th>0</th>\n",
       "      <td>89498e3415bffff</td>\n",
       "      <td>POLYGON ((-102.24951 21.95406, -102.24827 21.9...</td>\n",
       "      <td>44.295673</td>\n",
       "      <td>44.295673</td>\n",
       "      <td>44.164955</td>\n",
       "      <td>39.909090</td>\n",
       "      <td>70.033101</td>\n",
       "      <td>38.343919</td>\n",
       "      <td>52.648734</td>\n",
       "      <td>70.033101</td>\n",
       "      <td>...</td>\n",
       "      <td>0.132505</td>\n",
       "      <td>0.000138</td>\n",
       "      <td>0.980896</td>\n",
       "      <td>7.929043e-07</td>\n",
       "      <td>49.792875</td>\n",
       "      <td>41.368288</td>\n",
       "      <td>125.899925</td>\n",
       "      <td>2.943354</td>\n",
       "      <td>1279.0</td>\n",
       "      <td>103.649357</td>\n",
       "    </tr>\n",
       "    <tr>\n",
       "      <th>1</th>\n",
       "      <td>89498eacaa3ffff</td>\n",
       "      <td>POLYGON ((-102.28485 21.83514, -102.28361 21.8...</td>\n",
       "      <td>30.169718</td>\n",
       "      <td>23.001062</td>\n",
       "      <td>27.591513</td>\n",
       "      <td>30.169718</td>\n",
       "      <td>31.683427</td>\n",
       "      <td>31.683427</td>\n",
       "      <td>29.980341</td>\n",
       "      <td>3.093656</td>\n",
       "      <td>...</td>\n",
       "      <td>0.966861</td>\n",
       "      <td>0.711924</td>\n",
       "      <td>0.974952</td>\n",
       "      <td>1.994677e-01</td>\n",
       "      <td>19.818388</td>\n",
       "      <td>22.555199</td>\n",
       "      <td>39.486692</td>\n",
       "      <td>10.086212</td>\n",
       "      <td>0.0</td>\n",
       "      <td>0.000000</td>\n",
       "    </tr>\n",
       "  </tbody>\n",
       "</table>\n",
       "<p>2 rows × 40 columns</p>\n",
       "</div>"
      ],
      "text/plain": [
       "          hex_id_9                                           geometry  \\\n",
       "0  89498e3415bffff  POLYGON ((-102.24951 21.95406, -102.24827 21.9...   \n",
       "1  89498eacaa3ffff  POLYGON ((-102.28485 21.83514, -102.28361 21.8...   \n",
       "\n",
       "   max_escuelas  max_preescolar  max_primaria  max_secundaria  \\\n",
       "0     44.295673       44.295673     44.164955       39.909090   \n",
       "1     30.169718       23.001062     27.591513       30.169718   \n",
       "\n",
       "   max_servicios comunitarios  max_salud  max_guarderías  \\\n",
       "0                   70.033101  38.343919       52.648734   \n",
       "1                   31.683427  31.683427       29.980341   \n",
       "\n",
       "   max_asistencia social  ...  idx_complementarios  idx_social  \\\n",
       "0              70.033101  ...             0.132505    0.000138   \n",
       "1               3.093656  ...             0.966861    0.711924   \n",
       "\n",
       "   idx_actividad física  idx_cultural  mean_time  median_time    max_time  \\\n",
       "0              0.980896  7.929043e-07  49.792875    41.368288  125.899925   \n",
       "1              0.974952  1.994677e-01  19.818388    22.555199   39.486692   \n",
       "\n",
       "     idx_sum  pobtot  dens_pobha  \n",
       "0   2.943354  1279.0  103.649357  \n",
       "1  10.086212     0.0    0.000000  \n",
       "\n",
       "[2 rows x 40 columns]"
      ]
     },
     "execution_count": 49,
     "metadata": {},
     "output_type": "execute_result"
    }
   ],
   "source": [
    "final_column_ordered_list = ['hex_id_9', 'geometry', \n",
    "                             'max_escuelas', 'max_preescolar', 'max_primaria', 'max_secundaria',\n",
    "                             'max_servicios comunitarios', 'max_salud', 'max_guarderías', 'max_asistencia social',\n",
    "                             'max_comercio', 'max_alimentos', 'max_personal', 'max_farmacias', 'max_hogar', 'max_complementarios',\n",
    "                             'max_entretenimiento', 'max_social', 'max_actividad física', 'max_cultural', \n",
    "                             'idx_preescolar', 'idx_primaria', 'idx_secundaria',\n",
    "                             'idx_salud', 'idx_guarderías', 'idx_asistencia social',\n",
    "                             'idx_alimentos', 'idx_personal', 'idx_farmacias', 'idx_hogar', 'idx_complementarios',\n",
    "                             'idx_social', 'idx_actividad física', 'idx_cultural',\n",
    "                             'mean_time', 'median_time', 'max_time', 'idx_sum',\n",
    "                             'pobtot', 'dens_pobha']\n",
    "\n",
    "hex_res_9_idx_reordered = hex_res_9_idx[final_column_ordered_list]\n",
    "hex_res_9_idx_reordered.head(2)"
   ]
  },
  {
   "cell_type": "markdown",
   "id": "5027b6a4-9dc4-4f8f-8b09-0c9fbdb2da9e",
   "metadata": {},
   "source": [
    "## Save to Database"
   ]
  },
  {
   "cell_type": "code",
   "execution_count": 51,
   "id": "d8d6ae1d-e3f1-4824-9d7f-dc6226580c73",
   "metadata": {
    "tags": []
   },
   "outputs": [],
   "source": [
    "if save_todb:\n",
    "    aup.gdf_to_db_slow(hex_res_9_idx_reordered,\"proximityanalysis_hexres9\", 'prox_analysis', if_exists='append')"
   ]
  }
 ],
 "metadata": {
  "kernelspec": {
   "display_name": "Python 3 (ipykernel)",
   "language": "python",
   "name": "python3"
  },
  "language_info": {
   "codemirror_mode": {
    "name": "ipython",
    "version": 3
   },
   "file_extension": ".py",
   "mimetype": "text/x-python",
   "name": "python",
   "nbconvert_exporter": "python",
   "pygments_lexer": "ipython3",
   "version": "3.10.5"
  }
 },
 "nbformat": 4,
 "nbformat_minor": 5
}
