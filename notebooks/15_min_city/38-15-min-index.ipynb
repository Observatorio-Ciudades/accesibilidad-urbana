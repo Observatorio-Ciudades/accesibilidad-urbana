{
 "cells": [
  {
   "cell_type": "markdown",
   "id": "b60aaac8",
   "metadata": {},
   "source": [
    "# Ciudades de 15 minutos - resolución 9"
   ]
  },
  {
   "cell_type": "markdown",
   "id": "39ae7cf7-c7f7-4aac-af04-8f6b3e5e0503",
   "metadata": {},
   "source": [
    "Notebook para la prueba de la metodología de ciudades de 15 minutos. El acercamiento del Observatorio de Ciudades se basa en agrupar las amenidades en 4 ejes:\n",
    "* Educación\n",
    "* Servicios comunitarios\n",
    "* Comercio\n",
    "* Entretenimiento\n",
    "\n",
    "Cada uno de estos ejes se subdivide en amenidades específicas:\n",
    "\n",
    "* Educación\n",
    "    * Preescolar\n",
    "    * Primaria\n",
    "    * Secundaria\n",
    "* Servicios comunitarios:\n",
    "    * Centro de salud - lo traducimos como primer contacto a salud (que incluye farmacias con médicos)\n",
    "    * Gobierno - oficinas de gobierno\n",
    "    * Asistencia social - DIF\n",
    "    * Cuidados - Guarderías\n",
    "* Comercio:\n",
    "    * Alimentos - sitios para la adquisición de alimentos\n",
    "    * Comercio personal - peluquerías y venta de ropa\n",
    "    * Farmacias\n",
    "    * Hogar - Ferretería y tlapalería y artículos de limpieza\n",
    "    * Complementario - sitios de comercio complementario como venta de ropa, calzado, muebles, lavandería, pintura y revistas\n",
    "* Entretenimiento\n",
    "    * Actividad física - espacios de recreación al aire libre como parques, canchas, unidades deportivas o parques naturales\n",
    "    * Social - sitios de esparcimiento social como restaurantes, bares y cafés\n",
    "    * Cultural - espacios de recreación cultural como museos o cines\n",
    "\n",
    "Para calcular si un hexágono cumple o no con lo neceasrio para ser ciudad de 15 minutos se toma el tiempo máximo a una de las amenidades y esa se registra en el hexágono, si ese tiempo es menor a 15, se considera que cumple, de lo contrario no."
   ]
  },
  {
   "cell_type": "code",
   "execution_count": 1,
   "id": "41393dfd",
   "metadata": {
    "tags": []
   },
   "outputs": [
    {
     "name": "stderr",
     "output_type": "stream",
     "text": [
      "/usr/local/python/lib/python3.10/site-packages/osmnx/utils.py:192: UserWarning: The `utils.config` function is deprecated and will be removed in a future release. Instead, use the `settings` module directly to configure a global setting's value. For example, `ox.settings.log_console=True`.\n",
      "  warnings.warn(\n"
     ]
    }
   ],
   "source": [
    "import os\n",
    "import sys\n",
    "\n",
    "import pandas as pd\n",
    "import geopandas as gpd\n",
    "import osmnx as ox\n",
    "import numpy as np\n",
    "\n",
    "import matplotlib.pyplot as plt\n",
    "import seaborn as sns\n",
    "\n",
    "import warnings\n",
    "warnings.simplefilter(action='ignore', category=FutureWarning)\n",
    "\n",
    "module_path = os.path.abspath(os.path.join('../../'))\n",
    "if module_path not in sys.path:\n",
    "    sys.path.append(module_path)\n",
    "    import aup"
   ]
  },
  {
   "cell_type": "markdown",
   "id": "f4c778e6-e826-4470-8370-59cb3d8e9d9e",
   "metadata": {},
   "source": [
    "## Notebook config"
   ]
  },
  {
   "cell_type": "code",
   "execution_count": 2,
   "id": "130a389b-9052-43c5-a3b4-a562ab36bf92",
   "metadata": {
    "tags": []
   },
   "outputs": [],
   "source": [
    "city = 'Puebla'\n",
    "save_toexternal = True\n",
    "save_todb = True"
   ]
  },
  {
   "cell_type": "code",
   "execution_count": 3,
   "id": "048916a8-3e11-4fd3-af28-4a711f5b555e",
   "metadata": {
    "tags": []
   },
   "outputs": [],
   "source": [
    "if city == 'ZMVM':\n",
    "    # Loads CDMX hexgrid\n",
    "    hexgrid_9_cdmx = gpd.read_file(\"../../data/external/temporal_todocker/hexgrid_9_cdmx_selectionbycentroid.gpkg\")\n",
    "    # Finds hex_id codes from hex_grid (Downloads pop hex according to hex_id)\n",
    "    hex_ids = str(tuple(list(hexgrid_9_cdmx[\"hex_id_9\"].unique())))\n",
    "    # Creates poly_wkt (Downloads nodes according to dissolved area)\n",
    "    gdf = hexgrid_9_cdmx.to_crs(\"EPSG:6372\")\n",
    "    gdf = gdf.buffer(1).reset_index().rename(columns={0: \"geometry\"})\n",
    "    gdf = gdf.set_geometry(\"geometry\")\n",
    "    gdf = gdf.to_crs(\"EPSG:4326\")\n",
    "    poly_wkt = gdf.dissolve().geometry.to_wkt()[0]"
   ]
  },
  {
   "cell_type": "markdown",
   "id": "0c440491",
   "metadata": {},
   "source": [
    "## Download data from database"
   ]
  },
  {
   "cell_type": "markdown",
   "id": "43737ae9-ec02-4143-8a80-3b6c99795397",
   "metadata": {
    "tags": []
   },
   "source": [
    "### Download hexagons with pop data (Based on city)"
   ]
  },
  {
   "cell_type": "code",
   "execution_count": null,
   "id": "404c531e-b7fb-4861-8bc4-6e85b8be02df",
   "metadata": {
    "tags": []
   },
   "outputs": [],
   "source": [
    "# Select source (res9)\n",
    "hex_pop = gpd.GeoDataFrame()\n",
    "hex_schema = 'censo'\n",
    "hex_folder = 'hex_censo_mza_2020_res9'\n",
    "\n",
    "if city == 'ZMVM':\n",
    "    # Downloads hexagons corresponding to CDMX only\n",
    "    query = f\"SELECT * FROM {hex_schema}.{hex_folder} WHERE \\\"hex_id_9\\\" IN {hex_ids}\"\n",
    "else:\n",
    "    # Downloads hexagons within 'city'\n",
    "    query = f\"SELECT * FROM {hex_schema}.{hex_folder} WHERE \\\"metropolis\\\" LIKE \\'{city}\\'\"\n",
    "    \n",
    "hex_pop = aup.gdf_from_query(query, geometry_col='geometry')\n",
    "\n",
    "print(hex_pop.shape)\n",
    "hex_pop.head(2)\n",
    "hex_pop.plot()"
   ]
  },
  {
   "cell_type": "markdown",
   "id": "b10c4c92-ddc2-4df3-8569-fea31ea16bdc",
   "metadata": {
    "tags": []
   },
   "source": [
    "### Donwload nodes (Based on city)"
   ]
  },
  {
   "cell_type": "code",
   "execution_count": null,
   "id": "72492c7b",
   "metadata": {
    "tags": []
   },
   "outputs": [],
   "source": [
    "#Folder names from database\n",
    "nodes_schema = 'prox_analysis'\n",
    "nodes_table = 'nodes_proximity_2020'\n",
    "\n",
    "if city == 'ZMVM':\n",
    "    query = f\"SELECT * FROM {nodes_schema}.{nodes_table} WHERE ST_Intersects(geometry, 'SRID=4326;{poly_wkt}')\"\n",
    "else:\n",
    "    query = f\"SELECT * FROM {nodes_schema}.{nodes_table} WHERE \\\"metropolis\\\" LIKE \\'{city}\\'\"\n",
    "\n",
    "nodes = aup.gdf_from_query(query, geometry_col='geometry')\n",
    "\n",
    "print(nodes.shape)\n",
    "nodes.head(2)"
   ]
  },
  {
   "cell_type": "markdown",
   "id": "d6780dd4-4036-4003-abd6-ea758bef70ce",
   "metadata": {
    "tags": []
   },
   "source": [
    "### Download hexagons res9 (Based on city)"
   ]
  },
  {
   "cell_type": "code",
   "execution_count": null,
   "id": "d4774933-0a57-46bc-bf44-081679cbb22e",
   "metadata": {
    "tags": []
   },
   "outputs": [],
   "source": [
    "res = 9\n",
    "folder = 'hexgrid'\n",
    "table = f'hexgrid_{res}_city'\n",
    "\n",
    "if city == 'ZMVM':\n",
    "    hex_res_9 = hexgrid_9_cdmx.copy()\n",
    "else:\n",
    "    query = f\"SELECT * FROM {folder}.{table} WHERE \\\"metropolis\\\" LIKE \\'{city}\\'\"\n",
    "    hex_res_9 = aup.gdf_from_query(query, geometry_col='geometry')\n",
    "    hex_res_9 = hex_res_9[[f'hex_id_{res}','geometry','metropolis']]\n",
    "\n",
    "print(hex_res_9.shape)\n",
    "hex_res_9.head(2)"
   ]
  },
  {
   "cell_type": "markdown",
   "id": "754f3277",
   "metadata": {
    "tags": []
   },
   "source": [
    "## Data treatment"
   ]
  },
  {
   "cell_type": "markdown",
   "id": "415f575a",
   "metadata": {},
   "source": [
    "### Remove duplicate nodes"
   ]
  },
  {
   "cell_type": "markdown",
   "id": "cc70d04b-19da-45d0-a944-63bf092e881c",
   "metadata": {},
   "source": [
    "Creates nodes keeping osmid, geometry and metropolis (without duplicates) to store times to each amenity source by node in following loop."
   ]
  },
  {
   "cell_type": "code",
   "execution_count": null,
   "id": "32d072e2",
   "metadata": {
    "tags": []
   },
   "outputs": [],
   "source": [
    "nodes_geom = nodes.drop_duplicates(subset='osmid', keep=\"last\")[['osmid','geometry','metropolis']].copy()\n",
    "print(nodes_geom.shape)\n",
    "nodes_geom.head(2)"
   ]
  },
  {
   "cell_type": "markdown",
   "id": "53ea8831",
   "metadata": {},
   "source": [
    "### Reorganize previous times in rows to times from each node"
   ]
  },
  {
   "cell_type": "markdown",
   "id": "bd4e983f-b3bc-4352-8b7f-6f7216156617",
   "metadata": {},
   "source": [
    "Organize data by nodes by changing (time to source amenities) from rows (1 column with source amenity name + 1 column with time data) to columns (1 column with time data named after its source amenity)"
   ]
  },
  {
   "cell_type": "code",
   "execution_count": null,
   "id": "e37629e4",
   "metadata": {
    "tags": []
   },
   "outputs": [],
   "source": [
    "nodes_analysis = nodes_geom.copy()\n",
    "\n",
    "for source_amenity in list(nodes.amenity.unique()):\n",
    "    nodes_tmp = nodes.loc[nodes.amenity == source_amenity,['osmid','time']]\n",
    "    nodes_tmp = nodes_tmp.rename(columns={'time':source_amenity})\n",
    "    # Search for amenities that aren't present in the city (with all values marked as 0) and change them to NaN\n",
    "    if nodes_tmp[source_amenity].mean() == 0:\n",
    "        nodes_tmp[source_amenity] = np.nan\n",
    "    nodes_analysis = nodes_analysis.merge(nodes_tmp, on='osmid')\n",
    "    \n",
    "print(nodes_analysis.shape)\n",
    "nodes_analysis.head(2)"
   ]
  },
  {
   "cell_type": "markdown",
   "id": "ab6a4ec4",
   "metadata": {},
   "source": [
    "## Proximity analysis"
   ]
  },
  {
   "cell_type": "markdown",
   "id": "bd52161f",
   "metadata": {},
   "source": [
    "### Parameters definitions"
   ]
  },
  {
   "cell_type": "code",
   "execution_count": null,
   "id": "cd0341a7",
   "metadata": {
    "tags": []
   },
   "outputs": [],
   "source": [
    "#{Eje (e):\n",
    "#         {Amenidad (a):\n",
    "#                       {Source (s))}}}\n",
    "\n",
    "idx_15_min = {'Escuelas':{'Preescolar':['denue_preescolar'],\n",
    "                         'Primaria':['denue_primaria'],\n",
    "                         'Secundaria':['denue_secundaria']},\n",
    "             'Servicios comunitarios':{'Salud':['clues_primer_nivel'],\n",
    "                                       'Guarderías':['denue_guarderias'],\n",
    "                                       'Asistencia social':['denue_dif']},\n",
    "              'Comercio':{'Alimentos':['denue_supermercado','denue_abarrotes',\n",
    "                                       'denue_carnicerias','sip_mercado'],\n",
    "                          'Personal':['denue_peluqueria'],\n",
    "                          'Farmacias':['denue_farmacias'],\n",
    "                          'Hogar':['denue_ferreteria_tlapaleria','denue_art_limpieza'],\n",
    "                          'Complementarios':['denue_ropa','denue_calzado','denue_muebles',\n",
    "                                             'denue_lavanderia','denue_revistas_periodicos',\n",
    "                                             'denue_pintura']},\n",
    "              'Entretenimiento':{'Social':['denue_restaurante_insitu','denue_restaurante_llevar',\n",
    "                                           'denue_bares','denue_cafe'],\n",
    "                                'Actividad física':['sip_cancha','sip_unidad_deportiva',\n",
    "                                                    'sip_espacio_publico','denue_parque_natural'],\n",
    "                                'Cultural':['denue_cines','denue_museos']} \n",
    "             }\n",
    "\n",
    "#If weight of amenity is less than number of sources, the algorith chooses the minimum time to source. Else (if equall or greater), chooses max time.\n",
    "wegiht_idx = {'Escuelas':{'Preescolar':1,\n",
    "                        'Primaria':1,\n",
    "                        'Secundaria':1},\n",
    "            'Servicios comunitarios':{'Salud':1,\n",
    "                                    'Guarderías':1,\n",
    "                                    'Asistencia social':1},\n",
    "            'Comercio':{'Alimentos':1,\n",
    "                        'Personal':1,\n",
    "                        'Farmacias':1,\n",
    "                        'Hogar':1,\n",
    "                        'Complementarios':1},\n",
    "            'Entretenimiento':{'Social':4,\n",
    "                                'Actividad física':1,\n",
    "                                'Cultural':1}\n",
    "            }"
   ]
  },
  {
   "cell_type": "markdown",
   "id": "b1483cef-6607-4033-be7e-a8ae8a531bf5",
   "metadata": {},
   "source": [
    "### Fill missing columns (In case there is a source amenity not available in a city)"
   ]
  },
  {
   "cell_type": "code",
   "execution_count": null,
   "id": "a66d5dac-1dd8-4726-8a99-7cb794c267af",
   "metadata": {
    "tags": []
   },
   "outputs": [],
   "source": [
    "sources = []\n",
    "\n",
    "# Gather all possible sources\n",
    "for eje in idx_15_min.keys():\n",
    "    for amenity in idx_15_min[eje].values():\n",
    "        for source in amenity:\n",
    "            sources.append(source)\n",
    "\n",
    "# If source not in currently analized city, fill column with np.nan\n",
    "column_list = list(nodes_analysis.columns)\n",
    "\n",
    "missing_sourceamenities = []\n",
    "\n",
    "for s in sources:\n",
    "        if s not in column_list:\n",
    "            nodes_analysis[s] = np.nan\n",
    "            missing_sourceamenities.append(a)\n",
    "\n",
    "print(\"There are {} non present source amenities in {}\".format(len(missing_sourceamenities),city))\n",
    "missing_sourceamenities"
   ]
  },
  {
   "cell_type": "markdown",
   "id": "30566833-04dc-439a-8edb-536d0020484e",
   "metadata": {},
   "source": [
    "## Proximity analysis - Max time calculation"
   ]
  },
  {
   "cell_type": "code",
   "execution_count": null,
   "id": "62d070a3-8e70-415c-b28a-a918a4fbfef9",
   "metadata": {
    "tags": []
   },
   "outputs": [],
   "source": [
    "# time by ammenity\n",
    "\n",
    "column_max_all = [] # list with all max index column names\n",
    "column_max_ejes = [] # list with ejes index column names\n",
    "\n",
    "#Goes through each eje in dictionary:\n",
    "for e in idx_15_min.keys():\n",
    "    \n",
    "    #Appends to 3 lists currently examined eje\n",
    "    column_max_all.append('max_'+ e.lower())\n",
    "    column_max_ejes.append('max_'+ e.lower())\n",
    "    column_max_amenities = [] # list with amenities in current eje\n",
    "    \n",
    "    #Goes through each amenity of current eje:\n",
    "    for a in idx_15_min[e].keys():\n",
    "        \n",
    "        #Appends to 2 lists currently examined amenity:\n",
    "        column_max_all.append('max_'+ a.lower())\n",
    "        column_max_amenities.append('max_'+ a.lower())\n",
    "\n",
    "        #Calculates time to currently examined amenity:\n",
    "        #If weight is less than number of sources of amenity, choose minimum time to sources.\n",
    "        if wegiht_idx[e][a] < len(idx_15_min[e][a]): \n",
    "            nodes_analysis['max_'+ a.lower()] = nodes_analysis[idx_15_min[e][a]].min(axis=1)\n",
    "        #Else, choose maximum time to sources.\n",
    "        else:\n",
    "            nodes_analysis['max_'+ a.lower()] = nodes_analysis[idx_15_min[e][a]].max(axis=1)\n",
    "    \n",
    "    #Calculates time to currently examined eje (max time of its amenities):\n",
    "    nodes_analysis['max_'+ e.lower()] = nodes_analysis[column_max_amenities].max(axis=1) \n",
    "\n",
    "index_column = 'max_time' # column name for maximum time data\n",
    "\n",
    "#Add to column_max_all list the attribute 'max_time'\n",
    "column_max_all.append(index_column)\n",
    "\n",
    "#Assigns \"max_time\" the max time for all ejes\n",
    "nodes_analysis[index_column] = nodes_analysis[column_max_ejes].max(axis=1) "
   ]
  },
  {
   "cell_type": "code",
   "execution_count": null,
   "id": "13b7e3df-6462-4166-a55b-1397d5826fc3",
   "metadata": {
    "tags": []
   },
   "outputs": [],
   "source": [
    "nodes_analysis.head(2)"
   ]
  },
  {
   "cell_type": "code",
   "execution_count": null,
   "id": "8c4087ba-847d-49cd-8826-e6ac0eab7564",
   "metadata": {
    "tags": []
   },
   "outputs": [],
   "source": [
    "#Add to column_max_all list the attributes 'osmid' and 'geometry' to filter nodes_analysis with the column_max_all list.\n",
    "column_max_all.append('osmid')\n",
    "column_max_all.append('geometry')\n",
    "nodes_analysis_filter = nodes_analysis[column_max_all].copy()\n",
    "nodes_analysis_filter.head(2)"
   ]
  },
  {
   "cell_type": "markdown",
   "id": "380ab501-da1a-46a3-b322-6f582ae0196f",
   "metadata": {
    "tags": []
   },
   "source": [
    "### Group times by hexagons"
   ]
  },
  {
   "cell_type": "code",
   "execution_count": null,
   "id": "1ce3470b-9587-454d-8cc1-d1a2586ea5d7",
   "metadata": {
    "tags": []
   },
   "outputs": [],
   "source": [
    "# group data by hex\n",
    "res = 9\n",
    "hex_tmp = hex_pop[['hex_id_9','geometry']]\n",
    "hex_res_9_idx = aup.group_by_hex_mean(nodes_analysis_filter, hex_tmp, res, index_column)\n",
    "hex_res_9_idx = hex_res_9_idx.loc[hex_res_9_idx[index_column]>0].copy()\n",
    "\n",
    "# Review result\n",
    "hex_res_9_idx.head(2)"
   ]
  },
  {
   "cell_type": "code",
   "execution_count": null,
   "id": "7b924319-c115-43a8-8350-e880d19e14ba",
   "metadata": {
    "tags": []
   },
   "outputs": [],
   "source": [
    "hex_res_9_idx.plot('max_time',cmap = 'viridis_r')"
   ]
  },
  {
   "cell_type": "markdown",
   "id": "6bf4113e-f8ca-44be-b0fc-cd32a2b8143c",
   "metadata": {
    "tags": []
   },
   "source": [
    "### Re-calculate max times by hexagon"
   ]
  },
  {
   "cell_type": "code",
   "execution_count": null,
   "id": "c905be14-a6c6-41f3-bbcd-c518a31bb14a",
   "metadata": {
    "tags": []
   },
   "outputs": [],
   "source": [
    "# recalculates max time to each eje from max times to calculated amenities and max_time from max eje\n",
    "\n",
    "column_max_ejes = [] # list with ejes index column names\n",
    "\n",
    "#Goes (again) through each eje in dictionary:\n",
    "for e in idx_15_min.keys():\n",
    "    \n",
    "    column_max_ejes.append('max_'+ e.lower())\n",
    "    column_max_amenities = [] # list with amenities in current eje\n",
    "    \n",
    "    #Goes (again) through each amenity of current eje:    \n",
    "    for a in idx_15_min[e].keys():\n",
    "        \n",
    "        column_max_amenities.append('max_'+ a.lower())\n",
    "        \n",
    "    #Re-calculates time to currently examined eje (max time of its amenities):        \n",
    "    hex_res_9_idx['max_'+ e.lower()] = hex_res_9_idx[column_max_amenities].max(axis=1)\n",
    "\n",
    "hex_res_9_idx[index_column] = hex_res_9_idx[column_max_ejes].max(axis=1)\n",
    "\n",
    "#Add to column_max_all list the attribute 'max_time'\n",
    "column_max_ejes.append(index_column)\n",
    "\n",
    "#Review results:\n",
    "hex_res_9_idx.head(2)"
   ]
  },
  {
   "cell_type": "markdown",
   "id": "411b8d7e-3e13-4bd0-b3c1-b9e8ce2b6b64",
   "metadata": {},
   "source": [
    "## Proximity analysis - Index, median and mean calculation"
   ]
  },
  {
   "cell_type": "code",
   "execution_count": null,
   "id": "a44c4921-2615-414a-9c0a-c82cc00714f2",
   "metadata": {
    "tags": []
   },
   "outputs": [],
   "source": [
    "k = aup.sigmoidal_function_constant(15, 30)\n",
    "k"
   ]
  },
  {
   "cell_type": "code",
   "execution_count": null,
   "id": "15808dba-f081-43a7-b6e4-f20bd2f55721",
   "metadata": {
    "tags": []
   },
   "outputs": [],
   "source": [
    "aup.sigmoidal_function(0.1464814753435666, 1000, 30)"
   ]
  },
  {
   "cell_type": "code",
   "execution_count": null,
   "id": "d4544872-d838-428d-8865-ebad68091eb7",
   "metadata": {
    "tags": []
   },
   "outputs": [],
   "source": [
    "def apply_sigmoidal(x):\n",
    "    if x == -1:\n",
    "        return -1\n",
    "    elif x > 1000:\n",
    "        return 0\n",
    "    else:\n",
    "        val = aup.sigmoidal_function(0.1464814753435666, x, 30)\n",
    "        return val"
   ]
  },
  {
   "cell_type": "code",
   "execution_count": null,
   "id": "1e262f09-1f48-4c04-816c-3a20d073c253",
   "metadata": {
    "tags": []
   },
   "outputs": [],
   "source": [
    "amenities_col = ['max_preescolar','max_primaria','max_secundaria',\n",
    "               'max_salud','max_guarderías','max_asistencia social',\n",
    "               'max_alimentos','max_personal','max_farmacias','max_hogar',\n",
    "               'max_complementarios','max_social','max_actividad física',\n",
    "               'max_cultural']\n",
    "for ac in amenities_col:\n",
    "    idx_col = ac.replace('max','idx')\n",
    "    hex_res_9_idx[idx_col] = hex_res_9_idx[ac].apply(apply_sigmoidal)"
   ]
  },
  {
   "cell_type": "code",
   "execution_count": null,
   "id": "1ed64836-e186-4809-bfc4-9b707c279575",
   "metadata": {
    "tags": []
   },
   "outputs": [],
   "source": [
    "idx_colname = []\n",
    "\n",
    "for ac in amenities_col:\n",
    "    idx_col = ac.replace('max','idx')\n",
    "    idx_colname.append(idx_col)\n",
    "\n",
    "idx_colname"
   ]
  },
  {
   "cell_type": "code",
   "execution_count": null,
   "id": "e4b731c3-3c28-43eb-9eaa-e56063d6edaa",
   "metadata": {
    "tags": []
   },
   "outputs": [],
   "source": [
    "hex_res_9_idx['mean_time'] = hex_res_9_idx[amenities_col].mean(axis=1)\n",
    "hex_res_9_idx['median_time'] = hex_res_9_idx[amenities_col].median(axis=1)\n",
    "hex_res_9_idx['idx_sum'] = hex_res_9_idx[idx_colname].sum(axis=1)"
   ]
  },
  {
   "cell_type": "markdown",
   "id": "c93dd4c7-fd4e-4697-b40c-642ca031e656",
   "metadata": {},
   "source": [
    "## Aditional data and formating"
   ]
  },
  {
   "cell_type": "markdown",
   "id": "eb3aa984-d7ef-4c4a-9566-54effc176bac",
   "metadata": {},
   "source": [
    "### Add pop data"
   ]
  },
  {
   "cell_type": "code",
   "execution_count": null,
   "id": "fcf28ae0-1493-468a-bccf-2da6e90bd100",
   "metadata": {
    "tags": []
   },
   "outputs": [],
   "source": [
    "# calculate population density\n",
    "hex_pop = hex_pop.to_crs(\"EPSG:6372\")\n",
    "hex_pop['dens_pobha'] = hex_pop['pobtot'] / (hex_pop.area/10000)\n",
    "hex_pop = hex_pop.to_crs(\"EPSG:4326\")"
   ]
  },
  {
   "cell_type": "code",
   "execution_count": null,
   "id": "d8395684-c2b6-41c6-9ac2-dd33c493636a",
   "metadata": {
    "tags": []
   },
   "outputs": [],
   "source": [
    "pop_list = ['hex_id_9','pobtot','dens_pobha']\n",
    "hex_res_9_idx = pd.merge(hex_res_9_idx, hex_pop[pop_list], on='hex_id_9')"
   ]
  },
  {
   "cell_type": "markdown",
   "id": "7f34a131-d087-4f3a-8c09-3116c89548a1",
   "metadata": {},
   "source": [
    "### Add city data"
   ]
  },
  {
   "cell_type": "code",
   "execution_count": null,
   "id": "d931c76f-7862-40a7-8704-43e5a3ea7e94",
   "metadata": {
    "tags": []
   },
   "outputs": [],
   "source": [
    "hex_res_9_idx['city'] = city"
   ]
  },
  {
   "cell_type": "markdown",
   "id": "75c5a203-ddaf-4ed7-a5f4-21a223f3fe1d",
   "metadata": {},
   "source": [
    "## Format"
   ]
  },
  {
   "cell_type": "code",
   "execution_count": null,
   "id": "02d13f8b-c2b5-485a-87ab-55f2d839d617",
   "metadata": {
    "tags": []
   },
   "outputs": [],
   "source": [
    "final_column_ordered_list = ['hex_id_9', 'geometry', \n",
    "                             'max_escuelas', 'max_preescolar', 'max_primaria', 'max_secundaria',\n",
    "                             'max_servicios comunitarios', 'max_salud', 'max_guarderías', 'max_asistencia social',\n",
    "                             'max_comercio', 'max_alimentos', 'max_personal', 'max_farmacias', 'max_hogar', 'max_complementarios',\n",
    "                             'max_entretenimiento', 'max_social', 'max_actividad física', 'max_cultural', \n",
    "                             'idx_preescolar', 'idx_primaria', 'idx_secundaria',\n",
    "                             'idx_salud', 'idx_guarderías', 'idx_asistencia social',\n",
    "                             'idx_alimentos', 'idx_personal', 'idx_farmacias', 'idx_hogar', 'idx_complementarios',\n",
    "                             'idx_social', 'idx_actividad física', 'idx_cultural',\n",
    "                             'mean_time', 'median_time', 'max_time', 'idx_sum',\n",
    "                             'pobtot', 'dens_pobha','city']\n",
    "\n",
    "hex_res_9_idx_reordered = hex_res_9_idx[final_column_ordered_list]\n",
    "\n",
    "print(hex_res_9_idx_reordered.shape)\n",
    "hex_res_9_idx_reordered.head(2)"
   ]
  },
  {
   "cell_type": "markdown",
   "id": "5027b6a4-9dc4-4f8f-8b09-0c9fbdb2da9e",
   "metadata": {},
   "source": [
    "## Save to temporal"
   ]
  },
  {
   "cell_type": "code",
   "execution_count": null,
   "id": "1c26287f-c397-4bc9-95b0-d00fa9dcbcf1",
   "metadata": {},
   "outputs": [],
   "source": [
    "if save_toexternal:\n",
    "    #gdf.to_file('dataframe.gpkg', driver='GPKG', layer='name')\n",
    "    hex_res_9_idx_reordered.to_file(\"../../data/external/temporal_fromjupyter/proximityanalysis_hexres9_{}.gpkg\".format(city.lower(),)), driver='GPKG', layer='name')"
   ]
  },
  {
   "cell_type": "code",
   "execution_count": null,
   "id": "c2f6a9d7-1b6b-4edf-9e4e-3ca2a7821c0d",
   "metadata": {
    "tags": []
   },
   "outputs": [],
   "source": [
    "#Folder names from database\n",
    "prox_schema = 'prox_analysis'\n",
    "prox_table = 'proximityanalysis_hexres9'\n",
    "\n",
    "query = f\"SELECT * FROM {prox_schema}.{prox_table}\"\n",
    "prox_all = aup.gdf_from_query(query, geometry_col='geometry')\n",
    "\n",
    "print(prox_all.shape)\n",
    "prox_all.head(2)"
   ]
  },
  {
   "cell_type": "code",
   "execution_count": null,
   "id": "649b6c57-408b-4c0c-955f-02117505e3f5",
   "metadata": {
    "tags": []
   },
   "outputs": [],
   "source": [
    "prox_all.city.unique()"
   ]
  },
  {
   "cell_type": "code",
   "execution_count": null,
   "id": "b20355e1-8bea-4afe-943d-59f2a021024c",
   "metadata": {
    "tags": []
   },
   "outputs": [],
   "source": [
    "prox_city = gpd.read_file(\"../../data/external/temporal_fromjupyter/proximityanalysis_hexres9_{}.gpkg\".format(city.lower(),))\n",
    "\n",
    "print(prox_city.shape)\n",
    "prox_city.head(2)"
   ]
  },
  {
   "cell_type": "code",
   "execution_count": null,
   "id": "5d76fc0f-c184-4f76-b8c6-d508cea9088d",
   "metadata": {
    "tags": []
   },
   "outputs": [],
   "source": [
    "dfs = [prox_city,prox_all]\n",
    "prox = pd.concat(dfs)\n",
    "\n",
    "print(prox.shape)\n",
    "prox.head(2)"
   ]
  },
  {
   "cell_type": "code",
   "execution_count": null,
   "id": "bf7bdd44-e9d6-4d78-bc93-4d1fb0600ece",
   "metadata": {
    "tags": []
   },
   "outputs": [],
   "source": [
    "prox.city.unique()"
   ]
  },
  {
   "cell_type": "markdown",
   "id": "dd96465c-5c95-44cd-9c28-706752121bff",
   "metadata": {},
   "source": [
    "## Save to db"
   ]
  },
  {
   "cell_type": "code",
   "execution_count": null,
   "id": "d8d6ae1d-e3f1-4824-9d7f-dc6226580c73",
   "metadata": {
    "tags": []
   },
   "outputs": [],
   "source": [
    "if save_todb:\n",
    "    aup.gdf_to_db_slow(prox,\"proximityanalysis_hexres9\", 'prox_analysis', if_exists='replace')"
   ]
  },
  {
   "cell_type": "code",
   "execution_count": null,
   "id": "9853f063-a58c-4a82-8fad-549061dd5985",
   "metadata": {},
   "outputs": [],
   "source": []
  }
 ],
 "metadata": {
  "kernelspec": {
   "display_name": "Python 3 (ipykernel)",
   "language": "python",
   "name": "python3"
  },
  "language_info": {
   "codemirror_mode": {
    "name": "ipython",
    "version": 3
   },
   "file_extension": ".py",
   "mimetype": "text/x-python",
   "name": "python",
   "nbconvert_exporter": "python",
   "pygments_lexer": "ipython3",
   "version": "3.10.5"
  }
 },
 "nbformat": 4,
 "nbformat_minor": 5
}
