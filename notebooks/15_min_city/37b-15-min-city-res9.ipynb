{
 "cells": [
  {
   "cell_type": "markdown",
   "id": "b60aaac8",
   "metadata": {},
   "source": [
    "# Ciudades de 15 minutos - resolución 9"
   ]
  },
  {
   "cell_type": "markdown",
   "id": "39ae7cf7-c7f7-4aac-af04-8f6b3e5e0503",
   "metadata": {},
   "source": [
    "Notebook para la prueba de la metodología de ciudades de 15 minutos. El acercamiento del Observatorio de Ciudades se basa en agrupar las amenidades en 4 ejes:\n",
    "* Educación\n",
    "* Servicios comunitarios\n",
    "* Comercio\n",
    "* Entretenimiento\n",
    "\n",
    "Cada uno de estos ejes se subdivide en actividades específicas:\n",
    "\n",
    "* Educación\n",
    "    * Preescolar\n",
    "    * Primaria\n",
    "    * Secundaria\n",
    "* Servicios comunitarios:\n",
    "    * Centro de salud - lo traducimos como primer contacto a salud (que incluye farmacias con médicos)\n",
    "    * Gobierno - oficinas de gobierno\n",
    "    * Asistencia social - DIF\n",
    "    * Cuidados - Guarderías\n",
    "* Comercio:\n",
    "    * Alimentos - sitios para la adquisición de alimentos\n",
    "    * Comercio personal - peluquerías y venta de ropa\n",
    "    * Farmacias\n",
    "    * Hogar - Ferretería y tlapalería y artículos de limpieza\n",
    "    * Complementario - sitios de comercio complementario como venta de ropa, calzado, muebles, lavandería, pintura y revistas\n",
    "* Entretenimiento\n",
    "    * Actividad física - espacios de recreación al aire libre como parques, canchas, unidades deportivas o parques naturales\n",
    "    * Social - sitios de esparcimiento social como restaurantes, bares y cafés\n",
    "    * Cultural - espacios de recreación cultural como museos o cines\n",
    "\n",
    "Para calcular si un hexágono cumple o no con lo neceasrio para ser ciudad de 15 minutos se toma el tiempo máximo a una de las amenidades y esa se registra en el hexágono, si ese tiempo es menor a 15, se considera que cumple, de lo contrario no."
   ]
  },
  {
   "cell_type": "code",
   "execution_count": 1,
   "id": "41393dfd",
   "metadata": {
    "tags": []
   },
   "outputs": [
    {
     "name": "stderr",
     "output_type": "stream",
     "text": [
      "/usr/local/python/lib/python3.10/site-packages/osmnx/utils.py:192: UserWarning: The `utils.config` function is deprecated and will be removed in a future release. Instead, use the `settings` module directly to configure a global setting's value. For example, `ox.settings.log_console=True`.\n",
      "  warnings.warn(\n"
     ]
    }
   ],
   "source": [
    "import os\n",
    "import sys\n",
    "\n",
    "import pandas as pd\n",
    "import geopandas as gpd\n",
    "import osmnx as ox\n",
    "import numpy as np\n",
    "\n",
    "import matplotlib.pyplot as plt\n",
    "import seaborn as sns\n",
    "\n",
    "import warnings\n",
    "warnings.simplefilter(action='ignore', category=FutureWarning)\n",
    "\n",
    "module_path = os.path.abspath(os.path.join('../../'))\n",
    "if module_path not in sys.path:\n",
    "    sys.path.append(module_path)\n",
    "    import aup"
   ]
  },
  {
   "cell_type": "markdown",
   "id": "f4c778e6-e826-4470-8370-59cb3d8e9d9e",
   "metadata": {},
   "source": [
    "## Notebook config"
   ]
  },
  {
   "cell_type": "code",
   "execution_count": 28,
   "id": "130a389b-9052-43c5-a3b4-a562ab36bf92",
   "metadata": {
    "tags": []
   },
   "outputs": [],
   "source": [
    "city = 'Tuxtla'\n",
    "save_todb = True"
   ]
  },
  {
   "cell_type": "markdown",
   "id": "0c440491",
   "metadata": {},
   "source": [
    "## Download data from database"
   ]
  },
  {
   "cell_type": "markdown",
   "id": "9e8b6b6b-2bdb-4421-ad85-e82f193a53eb",
   "metadata": {
    "tags": []
   },
   "source": [
    "### Municipality boundaries"
   ]
  },
  {
   "cell_type": "code",
   "execution_count": 27,
   "id": "d22b5c42-2241-4458-b6f6-b80c0631722a",
   "metadata": {
    "tags": []
   },
   "outputs": [
    {
     "name": "stdout",
     "output_type": "stream",
     "text": [
      "(5, 6)\n"
     ]
    },
    {
     "data": {
      "text/html": [
       "<div>\n",
       "<style scoped>\n",
       "    .dataframe tbody tr th:only-of-type {\n",
       "        vertical-align: middle;\n",
       "    }\n",
       "\n",
       "    .dataframe tbody tr th {\n",
       "        vertical-align: top;\n",
       "    }\n",
       "\n",
       "    .dataframe thead th {\n",
       "        text-align: right;\n",
       "    }\n",
       "</style>\n",
       "<table border=\"1\" class=\"dataframe\">\n",
       "  <thead>\n",
       "    <tr style=\"text-align: right;\">\n",
       "      <th></th>\n",
       "      <th>CVEGEO</th>\n",
       "      <th>CVE_ENT</th>\n",
       "      <th>CVE_MUN</th>\n",
       "      <th>NOMGEO</th>\n",
       "      <th>geometry</th>\n",
       "      <th>city</th>\n",
       "    </tr>\n",
       "  </thead>\n",
       "  <tbody>\n",
       "    <tr>\n",
       "      <th>0</th>\n",
       "      <td>07012</td>\n",
       "      <td>07</td>\n",
       "      <td>012</td>\n",
       "      <td>Berriozábal</td>\n",
       "      <td>POLYGON ((-93.35648 17.02684, -93.35152 17.026...</td>\n",
       "      <td>Tuxtla</td>\n",
       "    </tr>\n",
       "    <tr>\n",
       "      <th>1</th>\n",
       "      <td>07027</td>\n",
       "      <td>07</td>\n",
       "      <td>027</td>\n",
       "      <td>Chiapa de Corzo</td>\n",
       "      <td>POLYGON ((-92.97831 16.90241, -92.97714 16.901...</td>\n",
       "      <td>Tuxtla</td>\n",
       "    </tr>\n",
       "    <tr>\n",
       "      <th>2</th>\n",
       "      <td>07079</td>\n",
       "      <td>07</td>\n",
       "      <td>079</td>\n",
       "      <td>San Fernando</td>\n",
       "      <td>POLYGON ((-93.20751 17.03128, -93.20668 17.030...</td>\n",
       "      <td>Tuxtla</td>\n",
       "    </tr>\n",
       "    <tr>\n",
       "      <th>3</th>\n",
       "      <td>07086</td>\n",
       "      <td>07</td>\n",
       "      <td>086</td>\n",
       "      <td>Suchiapa</td>\n",
       "      <td>POLYGON ((-93.06683 16.67654, -93.06542 16.674...</td>\n",
       "      <td>Tuxtla</td>\n",
       "    </tr>\n",
       "    <tr>\n",
       "      <th>4</th>\n",
       "      <td>07101</td>\n",
       "      <td>07</td>\n",
       "      <td>101</td>\n",
       "      <td>Tuxtla Gutiérrez</td>\n",
       "      <td>POLYGON ((-93.09118 16.83999, -93.09045 16.836...</td>\n",
       "      <td>Tuxtla</td>\n",
       "    </tr>\n",
       "  </tbody>\n",
       "</table>\n",
       "</div>"
      ],
      "text/plain": [
       "  CVEGEO CVE_ENT CVE_MUN            NOMGEO  \\\n",
       "0  07012      07     012       Berriozábal   \n",
       "1  07027      07     027   Chiapa de Corzo   \n",
       "2  07079      07     079      San Fernando   \n",
       "3  07086      07     086          Suchiapa   \n",
       "4  07101      07     101  Tuxtla Gutiérrez   \n",
       "\n",
       "                                            geometry    city  \n",
       "0  POLYGON ((-93.35648 17.02684, -93.35152 17.026...  Tuxtla  \n",
       "1  POLYGON ((-92.97831 16.90241, -92.97714 16.901...  Tuxtla  \n",
       "2  POLYGON ((-93.20751 17.03128, -93.20668 17.030...  Tuxtla  \n",
       "3  POLYGON ((-93.06683 16.67654, -93.06542 16.674...  Tuxtla  \n",
       "4  POLYGON ((-93.09118 16.83999, -93.09045 16.836...  Tuxtla  "
      ]
     },
     "execution_count": 27,
     "metadata": {},
     "output_type": "execute_result"
    }
   ],
   "source": [
    "mun_schema = 'metropolis'\n",
    "mun_folder = 'metro_gdf' #CAMBIO DE metro_list a metro_gdf en la base de datos\n",
    "\n",
    "query = f\"SELECT * FROM {mun_schema}.{mun_folder} WHERE \\\"city\\\" LIKE \\'{city}\\'\"\n",
    "mun_gdf = aup.gdf_from_query(query, geometry_col='geometry')\n",
    "\n",
    "print(mun_gdf.shape)\n",
    "mun_gdf.head()"
   ]
  },
  {
   "cell_type": "markdown",
   "id": "43737ae9-ec02-4143-8a80-3b6c99795397",
   "metadata": {
    "tags": []
   },
   "source": [
    "### Download hexagons considering population"
   ]
  },
  {
   "cell_type": "markdown",
   "id": "515397c9-3f2e-44d7-a36f-b1e690671313",
   "metadata": {},
   "source": [
    "Download hexagons with pop data"
   ]
  },
  {
   "cell_type": "code",
   "execution_count": 3,
   "id": "404c531e-b7fb-4861-8bc4-6e85b8be02df",
   "metadata": {
    "tags": []
   },
   "outputs": [
    {
     "name": "stdout",
     "output_type": "stream",
     "text": [
      "(1367, 226)\n"
     ]
    },
    {
     "data": {
      "text/plain": [
       "<Axes: >"
      ]
     },
     "execution_count": 3,
     "metadata": {},
     "output_type": "execute_result"
    },
    {
     "data": {
      "image/png": "[encoded data removed]",
      "text/plain": [
       "<Figure size 640x480 with 1 Axes>"
      ]
     },
     "metadata": {},
     "output_type": "display_data"
    }
   ],
   "source": [
    "# Select source (res9)\n",
    "hex_pop = gpd.GeoDataFrame()\n",
    "hex_schema = 'censo'\n",
    "hex_folder = 'hex_censo_mza_2020_res9'\n",
    "\n",
    "# Downloads hexagons within 'city'\n",
    "query = f\"SELECT * FROM {hex_schema}.{hex_folder} WHERE \\\"metropolis\\\" LIKE \\'{city}\\'\"\n",
    "hex_pop = aup.gdf_from_query(query, geometry_col='geometry')\n",
    "\n",
    "print(hex_pop.shape)\n",
    "hex_pop.head(2)\n",
    "hex_pop.plot()"
   ]
  },
  {
   "cell_type": "markdown",
   "id": "b10c4c92-ddc2-4df3-8569-fea31ea16bdc",
   "metadata": {
    "tags": []
   },
   "source": [
    "### Donwload nodes"
   ]
  },
  {
   "cell_type": "markdown",
   "id": "e6a103e5-2238-481b-934f-a0bf3b563aa4",
   "metadata": {},
   "source": [
    "Download nodes based on metropolis name."
   ]
  },
  {
   "cell_type": "code",
   "execution_count": 4,
   "id": "72492c7b",
   "metadata": {
    "tags": []
   },
   "outputs": [
    {
     "name": "stderr",
     "output_type": "stream",
     "text": [
      "Exception during reset or similar\n",
      "Traceback (most recent call last):\n",
      "  File \"/usr/local/python/lib/python3.10/site-packages/sqlalchemy/pool/base.py\", line 991, in _finalize_fairy\n",
      "    fairy._reset(\n",
      "  File \"/usr/local/python/lib/python3.10/site-packages/sqlalchemy/pool/base.py\", line 1440, in _reset\n",
      "    pool._dialect.do_rollback(self)\n",
      "  File \"/usr/local/python/lib/python3.10/site-packages/sqlalchemy/engine/default.py\", line 657, in do_rollback\n",
      "    dbapi_connection.rollback()\n",
      "psycopg2.OperationalError: SSL SYSCALL error: EOF detected\n",
      "\n"
     ]
    },
    {
     "name": "stdout",
     "output_type": "stream",
     "text": [
      "(1561805, 7)\n"
     ]
    },
    {
     "data": {
      "text/html": [
       "<div>\n",
       "<style scoped>\n",
       "    .dataframe tbody tr th:only-of-type {\n",
       "        vertical-align: middle;\n",
       "    }\n",
       "\n",
       "    .dataframe tbody tr th {\n",
       "        vertical-align: top;\n",
       "    }\n",
       "\n",
       "    .dataframe thead th {\n",
       "        text-align: right;\n",
       "    }\n",
       "</style>\n",
       "<table border=\"1\" class=\"dataframe\">\n",
       "  <thead>\n",
       "    <tr style=\"text-align: right;\">\n",
       "      <th></th>\n",
       "      <th>osmid</th>\n",
       "      <th>x</th>\n",
       "      <th>y</th>\n",
       "      <th>geometry</th>\n",
       "      <th>time</th>\n",
       "      <th>amenity</th>\n",
       "      <th>metropolis</th>\n",
       "    </tr>\n",
       "  </thead>\n",
       "  <tbody>\n",
       "    <tr>\n",
       "      <th>0</th>\n",
       "      <td>320247763</td>\n",
       "      <td>-93.117875</td>\n",
       "      <td>16.735117</td>\n",
       "      <td>POINT (-93.11787 16.73512)</td>\n",
       "      <td>5.591923</td>\n",
       "      <td>sip_cancha</td>\n",
       "      <td>Tuxtla</td>\n",
       "    </tr>\n",
       "    <tr>\n",
       "      <th>1</th>\n",
       "      <td>287409831</td>\n",
       "      <td>-93.282851</td>\n",
       "      <td>16.768713</td>\n",
       "      <td>POINT (-93.28285 16.76871)</td>\n",
       "      <td>67.788943</td>\n",
       "      <td>sip_cancha</td>\n",
       "      <td>Tuxtla</td>\n",
       "    </tr>\n",
       "  </tbody>\n",
       "</table>\n",
       "</div>"
      ],
      "text/plain": [
       "       osmid          x          y                    geometry       time  \\\n",
       "0  320247763 -93.117875  16.735117  POINT (-93.11787 16.73512)   5.591923   \n",
       "1  287409831 -93.282851  16.768713  POINT (-93.28285 16.76871)  67.788943   \n",
       "\n",
       "      amenity metropolis  \n",
       "0  sip_cancha     Tuxtla  \n",
       "1  sip_cancha     Tuxtla  "
      ]
     },
     "execution_count": 4,
     "metadata": {},
     "output_type": "execute_result"
    }
   ],
   "source": [
    "#Folder names from database\n",
    "nodes_schema = 'prox_analysis'\n",
    "nodes_table = 'nodes_proximity_2020'\n",
    "\n",
    "query = f\"SELECT * FROM {nodes_schema}.{nodes_table} WHERE \\\"metropolis\\\" LIKE \\'{city}\\'\"\n",
    "nodes = aup.gdf_from_query(query, geometry_col='geometry')\n",
    "\n",
    "print(nodes.shape)\n",
    "nodes.head(2)"
   ]
  },
  {
   "cell_type": "markdown",
   "id": "d6780dd4-4036-4003-abd6-ea758bef70ce",
   "metadata": {
    "tags": []
   },
   "source": [
    "### Download hexagons res8 and res9"
   ]
  },
  {
   "cell_type": "code",
   "execution_count": 5,
   "id": "13003f3d-4919-43fc-80b9-0253889c4476",
   "metadata": {
    "tags": []
   },
   "outputs": [
    {
     "name": "stdout",
     "output_type": "stream",
     "text": [
      "(2700, 3)\n"
     ]
    },
    {
     "data": {
      "text/html": [
       "<div>\n",
       "<style scoped>\n",
       "    .dataframe tbody tr th:only-of-type {\n",
       "        vertical-align: middle;\n",
       "    }\n",
       "\n",
       "    .dataframe tbody tr th {\n",
       "        vertical-align: top;\n",
       "    }\n",
       "\n",
       "    .dataframe thead th {\n",
       "        text-align: right;\n",
       "    }\n",
       "</style>\n",
       "<table border=\"1\" class=\"dataframe\">\n",
       "  <thead>\n",
       "    <tr style=\"text-align: right;\">\n",
       "      <th></th>\n",
       "      <th>hex_id_8</th>\n",
       "      <th>geometry</th>\n",
       "      <th>metropolis</th>\n",
       "    </tr>\n",
       "  </thead>\n",
       "  <tbody>\n",
       "    <tr>\n",
       "      <th>0</th>\n",
       "      <td>886d23ca8bfffff</td>\n",
       "      <td>POLYGON ((-93.38514 16.88833, -93.38502 16.883...</td>\n",
       "      <td>Tuxtla</td>\n",
       "    </tr>\n",
       "    <tr>\n",
       "      <th>1</th>\n",
       "      <td>886d23cf49fffff</td>\n",
       "      <td>POLYGON ((-93.34441 16.86303, -93.34452 16.868...</td>\n",
       "      <td>Tuxtla</td>\n",
       "    </tr>\n",
       "  </tbody>\n",
       "</table>\n",
       "</div>"
      ],
      "text/plain": [
       "          hex_id_8                                           geometry  \\\n",
       "0  886d23ca8bfffff  POLYGON ((-93.38514 16.88833, -93.38502 16.883...   \n",
       "1  886d23cf49fffff  POLYGON ((-93.34441 16.86303, -93.34452 16.868...   \n",
       "\n",
       "  metropolis  \n",
       "0     Tuxtla  \n",
       "1     Tuxtla  "
      ]
     },
     "execution_count": 5,
     "metadata": {},
     "output_type": "execute_result"
    }
   ],
   "source": [
    "res = 8\n",
    "folder = 'hexgrid'\n",
    "table = f'hexgrid_{res}_city'\n",
    "\n",
    "query = f\"SELECT * FROM {folder}.{table} WHERE \\\"metropolis\\\" LIKE \\'{city}\\'\"\n",
    "hex_res_8 = aup.gdf_from_query(query, geometry_col='geometry')\n",
    "hex_res_8 = hex_res_8[[f'hex_id_{res}','geometry','metropolis']]\n",
    "print(hex_res_8.shape)\n",
    "hex_res_8.head(2)"
   ]
  },
  {
   "cell_type": "code",
   "execution_count": 6,
   "id": "d4774933-0a57-46bc-bf44-081679cbb22e",
   "metadata": {
    "tags": []
   },
   "outputs": [
    {
     "name": "stdout",
     "output_type": "stream",
     "text": [
      "(18868, 3)\n"
     ]
    },
    {
     "data": {
      "text/html": [
       "<div>\n",
       "<style scoped>\n",
       "    .dataframe tbody tr th:only-of-type {\n",
       "        vertical-align: middle;\n",
       "    }\n",
       "\n",
       "    .dataframe tbody tr th {\n",
       "        vertical-align: top;\n",
       "    }\n",
       "\n",
       "    .dataframe thead th {\n",
       "        text-align: right;\n",
       "    }\n",
       "</style>\n",
       "<table border=\"1\" class=\"dataframe\">\n",
       "  <thead>\n",
       "    <tr style=\"text-align: right;\">\n",
       "      <th></th>\n",
       "      <th>hex_id_9</th>\n",
       "      <th>geometry</th>\n",
       "      <th>metropolis</th>\n",
       "    </tr>\n",
       "  </thead>\n",
       "  <tbody>\n",
       "    <tr>\n",
       "      <th>0</th>\n",
       "      <td>896d23caa27ffff</td>\n",
       "      <td>POLYGON ((-93.40632 16.86782, -93.40565 16.866...</td>\n",
       "      <td>Tuxtla</td>\n",
       "    </tr>\n",
       "    <tr>\n",
       "      <th>1</th>\n",
       "      <td>896d23caaa3ffff</td>\n",
       "      <td>POLYGON ((-93.40340 16.87908, -93.40464 16.877...</td>\n",
       "      <td>Tuxtla</td>\n",
       "    </tr>\n",
       "  </tbody>\n",
       "</table>\n",
       "</div>"
      ],
      "text/plain": [
       "          hex_id_9                                           geometry  \\\n",
       "0  896d23caa27ffff  POLYGON ((-93.40632 16.86782, -93.40565 16.866...   \n",
       "1  896d23caaa3ffff  POLYGON ((-93.40340 16.87908, -93.40464 16.877...   \n",
       "\n",
       "  metropolis  \n",
       "0     Tuxtla  \n",
       "1     Tuxtla  "
      ]
     },
     "execution_count": 6,
     "metadata": {},
     "output_type": "execute_result"
    }
   ],
   "source": [
    "res = 9\n",
    "folder = 'hexgrid'\n",
    "table = f'hexgrid_{res}_city'\n",
    "\n",
    "query = f\"SELECT * FROM {folder}.{table} WHERE \\\"metropolis\\\" LIKE \\'{city}\\'\"\n",
    "hex_res_9 = aup.gdf_from_query(query, geometry_col='geometry')\n",
    "hex_res_9 = hex_res_9[[f'hex_id_{res}','geometry','metropolis']]\n",
    "print(hex_res_9.shape)\n",
    "hex_res_9.head(2)"
   ]
  },
  {
   "cell_type": "markdown",
   "id": "754f3277",
   "metadata": {
    "tags": []
   },
   "source": [
    "## Data treatment"
   ]
  },
  {
   "cell_type": "markdown",
   "id": "415f575a",
   "metadata": {},
   "source": [
    "### Remove duplicate nodes"
   ]
  },
  {
   "cell_type": "markdown",
   "id": "cc70d04b-19da-45d0-a944-63bf092e881c",
   "metadata": {},
   "source": [
    "Creates nodes with geometry and without duplicates to store times in following loop."
   ]
  },
  {
   "cell_type": "code",
   "execution_count": 9,
   "id": "32d072e2",
   "metadata": {
    "tags": []
   },
   "outputs": [
    {
     "name": "stdout",
     "output_type": "stream",
     "text": [
      "(36941, 3)\n"
     ]
    },
    {
     "data": {
      "text/html": [
       "<div>\n",
       "<style scoped>\n",
       "    .dataframe tbody tr th:only-of-type {\n",
       "        vertical-align: middle;\n",
       "    }\n",
       "\n",
       "    .dataframe tbody tr th {\n",
       "        vertical-align: top;\n",
       "    }\n",
       "\n",
       "    .dataframe thead th {\n",
       "        text-align: right;\n",
       "    }\n",
       "</style>\n",
       "<table border=\"1\" class=\"dataframe\">\n",
       "  <thead>\n",
       "    <tr style=\"text-align: right;\">\n",
       "      <th></th>\n",
       "      <th>osmid</th>\n",
       "      <th>geometry</th>\n",
       "      <th>metropolis</th>\n",
       "    </tr>\n",
       "  </thead>\n",
       "  <tbody>\n",
       "    <tr>\n",
       "      <th>145521</th>\n",
       "      <td>280081381</td>\n",
       "      <td>POINT (-93.41519 16.87585)</td>\n",
       "      <td>Tuxtla</td>\n",
       "    </tr>\n",
       "    <tr>\n",
       "      <th>156299</th>\n",
       "      <td>3526953667</td>\n",
       "      <td>POINT (-93.20250 16.49486)</td>\n",
       "      <td>Tuxtla</td>\n",
       "    </tr>\n",
       "  </tbody>\n",
       "</table>\n",
       "</div>"
      ],
      "text/plain": [
       "             osmid                    geometry metropolis\n",
       "145521   280081381  POINT (-93.41519 16.87585)     Tuxtla\n",
       "156299  3526953667  POINT (-93.20250 16.49486)     Tuxtla"
      ]
     },
     "execution_count": 9,
     "metadata": {},
     "output_type": "execute_result"
    }
   ],
   "source": [
    "nodes_analysis = nodes.drop_duplicates(subset='osmid', keep=\"last\")[['osmid','geometry','metropolis']].copy()\n",
    "print(nodes_analysis.shape)\n",
    "nodes_analysis.head(2)"
   ]
  },
  {
   "cell_type": "markdown",
   "id": "53ea8831",
   "metadata": {},
   "source": [
    "### Rows to columns"
   ]
  },
  {
   "cell_type": "markdown",
   "id": "bd4e983f-b3bc-4352-8b7f-6f7216156617",
   "metadata": {},
   "source": [
    "Organize data by nodes by changing (time to ammenites) from rows (1 column with amenity name + 1 column with time data) to columns (1 column with time data named after its amenity)"
   ]
  },
  {
   "cell_type": "code",
   "execution_count": 10,
   "id": "e37629e4",
   "metadata": {
    "tags": []
   },
   "outputs": [
    {
     "name": "stdout",
     "output_type": "stream",
     "text": [
      "(36275, 46)\n"
     ]
    },
    {
     "data": {
      "text/html": [
       "<div>\n",
       "<style scoped>\n",
       "    .dataframe tbody tr th:only-of-type {\n",
       "        vertical-align: middle;\n",
       "    }\n",
       "\n",
       "    .dataframe tbody tr th {\n",
       "        vertical-align: top;\n",
       "    }\n",
       "\n",
       "    .dataframe thead th {\n",
       "        text-align: right;\n",
       "    }\n",
       "</style>\n",
       "<table border=\"1\" class=\"dataframe\">\n",
       "  <thead>\n",
       "    <tr style=\"text-align: right;\">\n",
       "      <th></th>\n",
       "      <th>osmid</th>\n",
       "      <th>geometry</th>\n",
       "      <th>metropolis</th>\n",
       "      <th>sip_cancha</th>\n",
       "      <th>sip_unidad_deportiva</th>\n",
       "      <th>sip_espacio_publico</th>\n",
       "      <th>sip_mercado</th>\n",
       "      <th>sip_teatro</th>\n",
       "      <th>clues_primer_nivel</th>\n",
       "      <th>clues_segundo_nivel</th>\n",
       "      <th>...</th>\n",
       "      <th>denue_centro_cultural</th>\n",
       "      <th>denue_parque_natural</th>\n",
       "      <th>denue_papelerias</th>\n",
       "      <th>denue_libros</th>\n",
       "      <th>denue_revistas_periodicos</th>\n",
       "      <th>denue_ferreteria_tlapaleria</th>\n",
       "      <th>denue_art_limpieza</th>\n",
       "      <th>denue_pintura</th>\n",
       "      <th>denue_peluqueria</th>\n",
       "      <th>sip_centro_admin</th>\n",
       "    </tr>\n",
       "  </thead>\n",
       "  <tbody>\n",
       "    <tr>\n",
       "      <th>0</th>\n",
       "      <td>287409831</td>\n",
       "      <td>POINT (-93.28285 16.76871)</td>\n",
       "      <td>Tuxtla</td>\n",
       "      <td>67.788943</td>\n",
       "      <td>NaN</td>\n",
       "      <td>70.357975</td>\n",
       "      <td>69.145039</td>\n",
       "      <td>NaN</td>\n",
       "      <td>68.827742</td>\n",
       "      <td>70.603851</td>\n",
       "      <td>...</td>\n",
       "      <td>66.961602</td>\n",
       "      <td>NaN</td>\n",
       "      <td>47.006678</td>\n",
       "      <td>243.003155</td>\n",
       "      <td>257.081292</td>\n",
       "      <td>51.177865</td>\n",
       "      <td>70.391566</td>\n",
       "      <td>68.669596</td>\n",
       "      <td>51.177865</td>\n",
       "      <td>72.058070</td>\n",
       "    </tr>\n",
       "    <tr>\n",
       "      <th>1</th>\n",
       "      <td>325137459</td>\n",
       "      <td>POINT (-92.98533 16.60503)</td>\n",
       "      <td>Tuxtla</td>\n",
       "      <td>178.080303</td>\n",
       "      <td>NaN</td>\n",
       "      <td>24.922743</td>\n",
       "      <td>298.534441</td>\n",
       "      <td>NaN</td>\n",
       "      <td>62.643512</td>\n",
       "      <td>298.534441</td>\n",
       "      <td>...</td>\n",
       "      <td>293.201370</td>\n",
       "      <td>NaN</td>\n",
       "      <td>277.048981</td>\n",
       "      <td>376.348749</td>\n",
       "      <td>372.874935</td>\n",
       "      <td>267.251824</td>\n",
       "      <td>280.125845</td>\n",
       "      <td>294.927013</td>\n",
       "      <td>271.789753</td>\n",
       "      <td>24.922743</td>\n",
       "    </tr>\n",
       "  </tbody>\n",
       "</table>\n",
       "<p>2 rows × 46 columns</p>\n",
       "</div>"
      ],
      "text/plain": [
       "       osmid                    geometry metropolis  sip_cancha  \\\n",
       "0  287409831  POINT (-93.28285 16.76871)     Tuxtla   67.788943   \n",
       "1  325137459  POINT (-92.98533 16.60503)     Tuxtla  178.080303   \n",
       "\n",
       "   sip_unidad_deportiva  sip_espacio_publico  sip_mercado  sip_teatro  \\\n",
       "0                   NaN            70.357975    69.145039         NaN   \n",
       "1                   NaN            24.922743   298.534441         NaN   \n",
       "\n",
       "   clues_primer_nivel  clues_segundo_nivel  ...  denue_centro_cultural  \\\n",
       "0           68.827742            70.603851  ...              66.961602   \n",
       "1           62.643512           298.534441  ...             293.201370   \n",
       "\n",
       "   denue_parque_natural  denue_papelerias  denue_libros  \\\n",
       "0                   NaN         47.006678    243.003155   \n",
       "1                   NaN        277.048981    376.348749   \n",
       "\n",
       "   denue_revistas_periodicos  denue_ferreteria_tlapaleria  denue_art_limpieza  \\\n",
       "0                 257.081292                    51.177865           70.391566   \n",
       "1                 372.874935                   267.251824          280.125845   \n",
       "\n",
       "   denue_pintura  denue_peluqueria  sip_centro_admin  \n",
       "0      68.669596         51.177865         72.058070  \n",
       "1     294.927013        271.789753         24.922743  \n",
       "\n",
       "[2 rows x 46 columns]"
      ]
     },
     "execution_count": 10,
     "metadata": {},
     "output_type": "execute_result"
    }
   ],
   "source": [
    "for amenidad in list(nodes.amenity.unique()):\n",
    "    nodes_tmp = nodes.loc[nodes.amenity == amenidad,['osmid','time']]\n",
    "    nodes_tmp = nodes_tmp.rename(columns={'time':amenidad})\n",
    "    # Search for amenities that aren't present in the city (with all values marked as 0) and change them to NaN\n",
    "    if nodes_tmp[amenidad].mean() == 0:\n",
    "        nodes_tmp[amenidad] = np.nan\n",
    "    nodes_analysis = nodes_analysis.merge(nodes_tmp, on='osmid')\n",
    "    \n",
    "print(nodes_analysis.shape)\n",
    "nodes_analysis.head(2)"
   ]
  },
  {
   "cell_type": "markdown",
   "id": "ab6a4ec4",
   "metadata": {},
   "source": [
    "## 15 minute city analysis"
   ]
  },
  {
   "cell_type": "markdown",
   "id": "bd52161f",
   "metadata": {},
   "source": [
    "### Parameters definitions"
   ]
  },
  {
   "cell_type": "code",
   "execution_count": 12,
   "id": "cd0341a7",
   "metadata": {
    "tags": []
   },
   "outputs": [],
   "source": [
    "#{Eje (e):\n",
    "#         {Tipología/tipo (t):\n",
    "#                       {Amenidad(a))}}}\n",
    "\n",
    "idx_15_min = {'Escuelas':{'Preescolar':['denue_preescolar'],\n",
    "                         'Primaria':['denue_primaria'],\n",
    "                         'Secundaria':['denue_secundaria']},\n",
    "             'Servicios comunitarios':{'Salud':['clues_primer_nivel'],\n",
    "                                      'Guarderías':['denue_guarderias'],\n",
    "                                      'Asistencia social':['denue_dif']},\n",
    "              'Comercio':{'Alimentos':['denue_supermercado','denue_abarrotes',\n",
    "                                    'denue_carnicerias','sip_mercado'],\n",
    "                         'Personal':['denue_peluqueria'],\n",
    "                          'Farmacias':['denue_farmacias'],\n",
    "                         'Hogar':['denue_ferreteria_tlapaleria','denue_art_limpieza'],\n",
    "                         'Complementarios':['denue_ropa','denue_calzado','denue_muebles',\n",
    "                                           'denue_lavanderia','denue_revistas_periodicos',\n",
    "                                           'denue_pintura']},\n",
    "              'Entretenimiento':{'Social':['denue_restaurante_insitu','denue_restaurante_llevar',\n",
    "                                          'denue_bares','denue_cafe'],\n",
    "                                'Actividad física':['sip_cancha','sip_unidad_deportiva',\n",
    "                                                   'sip_espacio_publico','denue_parque_natural'],\n",
    "                                'Cultural':['denue_cines','denue_museos']} \n",
    "             }\n",
    "\n",
    "\n",
    "#If weight is less than number of amenities, the algorith chooses the minimum time to amenity. Else (if equall or greater), chooses max time.\n",
    "wegiht_idx = {'Escuelas':{'Preescolar':1,\n",
    "                        'Primaria':1,\n",
    "                        'Secundaria':1},\n",
    "            'Servicios comunitarios':{'Salud':1,\n",
    "                                    'Guarderías':1,\n",
    "                                    'Asistencia social':1},\n",
    "            'Comercio':{'Alimentos':1,\n",
    "                        'Personal':1,\n",
    "                        'Farmacias':1,\n",
    "                        'Hogar':1,\n",
    "                        'Complementarios':1},\n",
    "            'Entretenimiento':{'Social':4,\n",
    "                                'Actividad física':1,\n",
    "                                'Cultural':1}\n",
    "            }"
   ]
  },
  {
   "cell_type": "code",
   "execution_count": 13,
   "id": "a66d5dac-1dd8-4726-8a99-7cb794c267af",
   "metadata": {
    "tags": []
   },
   "outputs": [
    {
     "data": {
      "text/plain": [
       "\"('denue_preescolar', 'denue_primaria', 'denue_secundaria', 'clues_primer_nivel', 'denue_guarderias', 'denue_dif', 'denue_supermercado', 'denue_abarrotes', 'denue_carnicerias', 'sip_mercado', 'denue_peluqueria', 'denue_farmacias', 'denue_ferreteria_tlapaleria', 'denue_art_limpieza', 'denue_ropa', 'denue_calzado', 'denue_muebles', 'denue_lavanderia', 'denue_revistas_periodicos', 'denue_pintura', 'denue_restaurante_insitu', 'denue_restaurante_llevar', 'denue_bares', 'denue_cafe', 'sip_cancha', 'sip_unidad_deportiva', 'sip_espacio_publico', 'denue_parque_natural', 'denue_cines', 'denue_museos')\""
      ]
     },
     "execution_count": 13,
     "metadata": {},
     "output_type": "execute_result"
    }
   ],
   "source": [
    "amenities = []\n",
    "\n",
    "# gather amenities for analysis\n",
    "for eje in idx_15_min.keys():\n",
    "    for tipo in idx_15_min[eje].values():\n",
    "        for amenity in tipo:\n",
    "            amenities.append(amenity)\n",
    "\n",
    "amenities =  str(tuple(amenities))\n",
    "amenities"
   ]
  },
  {
   "cell_type": "markdown",
   "id": "30566833-04dc-439a-8edb-536d0020484e",
   "metadata": {},
   "source": [
    "## Max time calculation"
   ]
  },
  {
   "cell_type": "code",
   "execution_count": 14,
   "id": "1a04a005-8be4-4c47-8ff6-798eedf23730",
   "metadata": {
    "tags": []
   },
   "outputs": [
    {
     "data": {
      "text/html": [
       "<div>\n",
       "<style scoped>\n",
       "    .dataframe tbody tr th:only-of-type {\n",
       "        vertical-align: middle;\n",
       "    }\n",
       "\n",
       "    .dataframe tbody tr th {\n",
       "        vertical-align: top;\n",
       "    }\n",
       "\n",
       "    .dataframe thead th {\n",
       "        text-align: right;\n",
       "    }\n",
       "</style>\n",
       "<table border=\"1\" class=\"dataframe\">\n",
       "  <thead>\n",
       "    <tr style=\"text-align: right;\">\n",
       "      <th></th>\n",
       "      <th>osmid</th>\n",
       "      <th>geometry</th>\n",
       "      <th>metropolis</th>\n",
       "      <th>sip_cancha</th>\n",
       "      <th>sip_unidad_deportiva</th>\n",
       "      <th>sip_espacio_publico</th>\n",
       "      <th>sip_mercado</th>\n",
       "      <th>sip_teatro</th>\n",
       "      <th>clues_primer_nivel</th>\n",
       "      <th>clues_segundo_nivel</th>\n",
       "      <th>...</th>\n",
       "      <th>denue_centro_cultural</th>\n",
       "      <th>denue_parque_natural</th>\n",
       "      <th>denue_papelerias</th>\n",
       "      <th>denue_libros</th>\n",
       "      <th>denue_revistas_periodicos</th>\n",
       "      <th>denue_ferreteria_tlapaleria</th>\n",
       "      <th>denue_art_limpieza</th>\n",
       "      <th>denue_pintura</th>\n",
       "      <th>denue_peluqueria</th>\n",
       "      <th>sip_centro_admin</th>\n",
       "    </tr>\n",
       "  </thead>\n",
       "  <tbody>\n",
       "    <tr>\n",
       "      <th>0</th>\n",
       "      <td>287409831</td>\n",
       "      <td>POINT (-93.28285 16.76871)</td>\n",
       "      <td>Tuxtla</td>\n",
       "      <td>67.788943</td>\n",
       "      <td>NaN</td>\n",
       "      <td>70.357975</td>\n",
       "      <td>69.145039</td>\n",
       "      <td>NaN</td>\n",
       "      <td>68.827742</td>\n",
       "      <td>70.603851</td>\n",
       "      <td>...</td>\n",
       "      <td>66.961602</td>\n",
       "      <td>NaN</td>\n",
       "      <td>47.006678</td>\n",
       "      <td>243.003155</td>\n",
       "      <td>257.081292</td>\n",
       "      <td>51.177865</td>\n",
       "      <td>70.391566</td>\n",
       "      <td>68.669596</td>\n",
       "      <td>51.177865</td>\n",
       "      <td>72.058070</td>\n",
       "    </tr>\n",
       "    <tr>\n",
       "      <th>1</th>\n",
       "      <td>325137459</td>\n",
       "      <td>POINT (-92.98533 16.60503)</td>\n",
       "      <td>Tuxtla</td>\n",
       "      <td>178.080303</td>\n",
       "      <td>NaN</td>\n",
       "      <td>24.922743</td>\n",
       "      <td>298.534441</td>\n",
       "      <td>NaN</td>\n",
       "      <td>62.643512</td>\n",
       "      <td>298.534441</td>\n",
       "      <td>...</td>\n",
       "      <td>293.201370</td>\n",
       "      <td>NaN</td>\n",
       "      <td>277.048981</td>\n",
       "      <td>376.348749</td>\n",
       "      <td>372.874935</td>\n",
       "      <td>267.251824</td>\n",
       "      <td>280.125845</td>\n",
       "      <td>294.927013</td>\n",
       "      <td>271.789753</td>\n",
       "      <td>24.922743</td>\n",
       "    </tr>\n",
       "  </tbody>\n",
       "</table>\n",
       "<p>2 rows × 46 columns</p>\n",
       "</div>"
      ],
      "text/plain": [
       "       osmid                    geometry metropolis  sip_cancha  \\\n",
       "0  287409831  POINT (-93.28285 16.76871)     Tuxtla   67.788943   \n",
       "1  325137459  POINT (-92.98533 16.60503)     Tuxtla  178.080303   \n",
       "\n",
       "   sip_unidad_deportiva  sip_espacio_publico  sip_mercado  sip_teatro  \\\n",
       "0                   NaN            70.357975    69.145039         NaN   \n",
       "1                   NaN            24.922743   298.534441         NaN   \n",
       "\n",
       "   clues_primer_nivel  clues_segundo_nivel  ...  denue_centro_cultural  \\\n",
       "0           68.827742            70.603851  ...              66.961602   \n",
       "1           62.643512           298.534441  ...             293.201370   \n",
       "\n",
       "   denue_parque_natural  denue_papelerias  denue_libros  \\\n",
       "0                   NaN         47.006678    243.003155   \n",
       "1                   NaN        277.048981    376.348749   \n",
       "\n",
       "   denue_revistas_periodicos  denue_ferreteria_tlapaleria  denue_art_limpieza  \\\n",
       "0                 257.081292                    51.177865           70.391566   \n",
       "1                 372.874935                   267.251824          280.125845   \n",
       "\n",
       "   denue_pintura  denue_peluqueria  sip_centro_admin  \n",
       "0      68.669596         51.177865         72.058070  \n",
       "1     294.927013        271.789753         24.922743  \n",
       "\n",
       "[2 rows x 46 columns]"
      ]
     },
     "execution_count": 14,
     "metadata": {},
     "output_type": "execute_result"
    }
   ],
   "source": [
    "nodes_analysis.head(2) #Para tenerlo cerca y revisarlo"
   ]
  },
  {
   "cell_type": "code",
   "execution_count": 15,
   "id": "62d070a3-8e70-415c-b28a-a918a4fbfef9",
   "metadata": {
    "tags": []
   },
   "outputs": [],
   "source": [
    "# time by ammenity\n",
    "\n",
    "column_max_ejes = [] # list with ejes index column names\n",
    "column_max_all = [] # list with all max index column names\n",
    "\n",
    "\n",
    "#Goes through dictionary:\n",
    "for e in idx_15_min.keys():\n",
    "    \n",
    "    #Appends to 3 lists currently examined eje\n",
    "    column_max_ejes.append('max_'+ e.lower())\n",
    "    column_max_all.append('max_'+ e.lower())\n",
    "    column_max_types = [] # list with tipologías/tipos in current eje\n",
    "    \n",
    "    for t in idx_15_min[e].keys():\n",
    "        \n",
    "        #Appends to 2 lists currently examined tipología/tipo\n",
    "        column_max_types.append('max_'+ t.lower())\n",
    "        column_max_all.append('max_'+ t.lower())\n",
    "\n",
    "        #Calculates time from currently examined amenities in tipología/tipo:\n",
    "        if wegiht_idx[e][t] < len(idx_15_min[e][t]): #If weight is less than number of amenities, choose minimum time to amenity. Else, choose max time.\n",
    "            nodes_analysis['max_'+ t.lower()] = nodes_analysis[idx_15_min[e][t]].min(axis=1)\n",
    "        else:\n",
    "            nodes_analysis['max_'+ t.lower()] = nodes_analysis[idx_15_min[e][t]].max(axis=1)\n",
    "    \n",
    "    #Asignar max_eje el tiempo máximo de todas los tipos de amenities\n",
    "    nodes_analysis['max_'+ e.lower()] = nodes_analysis[column_max_types].max(axis=1) \n",
    "\n",
    "index_column = 'max_idx_15_min' # column name for 15 minute index data\n",
    "\n",
    "#Add to column_max_all list the attribute 'max_idx_15_min'\n",
    "column_max_all.append(index_column)\n",
    "\n",
    "#Asignar a max_idx_15_min el maximo tiempo de todos los ejes\n",
    "nodes_analysis[index_column] = nodes_analysis[column_max_ejes].max(axis=1) "
   ]
  },
  {
   "cell_type": "code",
   "execution_count": 16,
   "id": "13b7e3df-6462-4166-a55b-1397d5826fc3",
   "metadata": {
    "tags": []
   },
   "outputs": [
    {
     "data": {
      "text/html": [
       "<div>\n",
       "<style scoped>\n",
       "    .dataframe tbody tr th:only-of-type {\n",
       "        vertical-align: middle;\n",
       "    }\n",
       "\n",
       "    .dataframe tbody tr th {\n",
       "        vertical-align: top;\n",
       "    }\n",
       "\n",
       "    .dataframe thead th {\n",
       "        text-align: right;\n",
       "    }\n",
       "</style>\n",
       "<table border=\"1\" class=\"dataframe\">\n",
       "  <thead>\n",
       "    <tr style=\"text-align: right;\">\n",
       "      <th></th>\n",
       "      <th>osmid</th>\n",
       "      <th>geometry</th>\n",
       "      <th>metropolis</th>\n",
       "      <th>sip_cancha</th>\n",
       "      <th>sip_unidad_deportiva</th>\n",
       "      <th>sip_espacio_publico</th>\n",
       "      <th>sip_mercado</th>\n",
       "      <th>sip_teatro</th>\n",
       "      <th>clues_primer_nivel</th>\n",
       "      <th>clues_segundo_nivel</th>\n",
       "      <th>...</th>\n",
       "      <th>max_personal</th>\n",
       "      <th>max_farmacias</th>\n",
       "      <th>max_hogar</th>\n",
       "      <th>max_complementarios</th>\n",
       "      <th>max_comercio</th>\n",
       "      <th>max_social</th>\n",
       "      <th>max_actividad física</th>\n",
       "      <th>max_cultural</th>\n",
       "      <th>max_entretenimiento</th>\n",
       "      <th>max_idx_15_min</th>\n",
       "    </tr>\n",
       "  </thead>\n",
       "  <tbody>\n",
       "    <tr>\n",
       "      <th>0</th>\n",
       "      <td>287409831</td>\n",
       "      <td>POINT (-93.28285 16.76871)</td>\n",
       "      <td>Tuxtla</td>\n",
       "      <td>67.788943</td>\n",
       "      <td>NaN</td>\n",
       "      <td>70.357975</td>\n",
       "      <td>69.145039</td>\n",
       "      <td>NaN</td>\n",
       "      <td>68.827742</td>\n",
       "      <td>70.603851</td>\n",
       "      <td>...</td>\n",
       "      <td>51.177865</td>\n",
       "      <td>55.366849</td>\n",
       "      <td>51.177865</td>\n",
       "      <td>54.242097</td>\n",
       "      <td>55.366849</td>\n",
       "      <td>47.006678</td>\n",
       "      <td>67.788943</td>\n",
       "      <td>261.482562</td>\n",
       "      <td>261.482562</td>\n",
       "      <td>261.482562</td>\n",
       "    </tr>\n",
       "    <tr>\n",
       "      <th>1</th>\n",
       "      <td>325137459</td>\n",
       "      <td>POINT (-92.98533 16.60503)</td>\n",
       "      <td>Tuxtla</td>\n",
       "      <td>178.080303</td>\n",
       "      <td>NaN</td>\n",
       "      <td>24.922743</td>\n",
       "      <td>298.534441</td>\n",
       "      <td>NaN</td>\n",
       "      <td>62.643512</td>\n",
       "      <td>298.534441</td>\n",
       "      <td>...</td>\n",
       "      <td>271.789753</td>\n",
       "      <td>288.317745</td>\n",
       "      <td>267.251824</td>\n",
       "      <td>273.161760</td>\n",
       "      <td>288.317745</td>\n",
       "      <td>288.635370</td>\n",
       "      <td>24.922743</td>\n",
       "      <td>339.409487</td>\n",
       "      <td>339.409487</td>\n",
       "      <td>339.409487</td>\n",
       "    </tr>\n",
       "  </tbody>\n",
       "</table>\n",
       "<p>2 rows × 65 columns</p>\n",
       "</div>"
      ],
      "text/plain": [
       "       osmid                    geometry metropolis  sip_cancha  \\\n",
       "0  287409831  POINT (-93.28285 16.76871)     Tuxtla   67.788943   \n",
       "1  325137459  POINT (-92.98533 16.60503)     Tuxtla  178.080303   \n",
       "\n",
       "   sip_unidad_deportiva  sip_espacio_publico  sip_mercado  sip_teatro  \\\n",
       "0                   NaN            70.357975    69.145039         NaN   \n",
       "1                   NaN            24.922743   298.534441         NaN   \n",
       "\n",
       "   clues_primer_nivel  clues_segundo_nivel  ...  max_personal  max_farmacias  \\\n",
       "0           68.827742            70.603851  ...     51.177865      55.366849   \n",
       "1           62.643512           298.534441  ...    271.789753     288.317745   \n",
       "\n",
       "    max_hogar  max_complementarios  max_comercio  max_social  \\\n",
       "0   51.177865            54.242097     55.366849   47.006678   \n",
       "1  267.251824           273.161760    288.317745  288.635370   \n",
       "\n",
       "   max_actividad física  max_cultural  max_entretenimiento  max_idx_15_min  \n",
       "0             67.788943    261.482562           261.482562      261.482562  \n",
       "1             24.922743    339.409487           339.409487      339.409487  \n",
       "\n",
       "[2 rows x 65 columns]"
      ]
     },
     "execution_count": 16,
     "metadata": {},
     "output_type": "execute_result"
    }
   ],
   "source": [
    "nodes_analysis.head(2)"
   ]
  },
  {
   "cell_type": "code",
   "execution_count": 17,
   "id": "8c4087ba-847d-49cd-8826-e6ac0eab7564",
   "metadata": {
    "tags": []
   },
   "outputs": [
    {
     "data": {
      "text/html": [
       "<div>\n",
       "<style scoped>\n",
       "    .dataframe tbody tr th:only-of-type {\n",
       "        vertical-align: middle;\n",
       "    }\n",
       "\n",
       "    .dataframe tbody tr th {\n",
       "        vertical-align: top;\n",
       "    }\n",
       "\n",
       "    .dataframe thead th {\n",
       "        text-align: right;\n",
       "    }\n",
       "</style>\n",
       "<table border=\"1\" class=\"dataframe\">\n",
       "  <thead>\n",
       "    <tr style=\"text-align: right;\">\n",
       "      <th></th>\n",
       "      <th>max_escuelas</th>\n",
       "      <th>max_preescolar</th>\n",
       "      <th>max_primaria</th>\n",
       "      <th>max_secundaria</th>\n",
       "      <th>max_servicios comunitarios</th>\n",
       "      <th>max_salud</th>\n",
       "      <th>max_guarderías</th>\n",
       "      <th>max_asistencia social</th>\n",
       "      <th>max_comercio</th>\n",
       "      <th>max_alimentos</th>\n",
       "      <th>...</th>\n",
       "      <th>max_farmacias</th>\n",
       "      <th>max_hogar</th>\n",
       "      <th>max_complementarios</th>\n",
       "      <th>max_entretenimiento</th>\n",
       "      <th>max_social</th>\n",
       "      <th>max_actividad física</th>\n",
       "      <th>max_cultural</th>\n",
       "      <th>max_idx_15_min</th>\n",
       "      <th>osmid</th>\n",
       "      <th>geometry</th>\n",
       "    </tr>\n",
       "  </thead>\n",
       "  <tbody>\n",
       "    <tr>\n",
       "      <th>0</th>\n",
       "      <td>60.299774</td>\n",
       "      <td>53.282257</td>\n",
       "      <td>56.814611</td>\n",
       "      <td>60.299774</td>\n",
       "      <td>69.145039</td>\n",
       "      <td>68.827742</td>\n",
       "      <td>58.890007</td>\n",
       "      <td>69.145039</td>\n",
       "      <td>55.366849</td>\n",
       "      <td>44.656545</td>\n",
       "      <td>...</td>\n",
       "      <td>55.366849</td>\n",
       "      <td>51.177865</td>\n",
       "      <td>54.242097</td>\n",
       "      <td>261.482562</td>\n",
       "      <td>47.006678</td>\n",
       "      <td>67.788943</td>\n",
       "      <td>261.482562</td>\n",
       "      <td>261.482562</td>\n",
       "      <td>287409831</td>\n",
       "      <td>POINT (-93.28285 16.76871)</td>\n",
       "    </tr>\n",
       "    <tr>\n",
       "      <th>1</th>\n",
       "      <td>288.635370</td>\n",
       "      <td>280.540963</td>\n",
       "      <td>285.772262</td>\n",
       "      <td>288.635370</td>\n",
       "      <td>300.064907</td>\n",
       "      <td>62.643512</td>\n",
       "      <td>295.936184</td>\n",
       "      <td>300.064907</td>\n",
       "      <td>288.317745</td>\n",
       "      <td>267.251824</td>\n",
       "      <td>...</td>\n",
       "      <td>288.317745</td>\n",
       "      <td>267.251824</td>\n",
       "      <td>273.161760</td>\n",
       "      <td>339.409487</td>\n",
       "      <td>288.635370</td>\n",
       "      <td>24.922743</td>\n",
       "      <td>339.409487</td>\n",
       "      <td>339.409487</td>\n",
       "      <td>325137459</td>\n",
       "      <td>POINT (-92.98533 16.60503)</td>\n",
       "    </tr>\n",
       "    <tr>\n",
       "      <th>2</th>\n",
       "      <td>288.240780</td>\n",
       "      <td>280.146373</td>\n",
       "      <td>285.377672</td>\n",
       "      <td>288.240780</td>\n",
       "      <td>299.670317</td>\n",
       "      <td>62.248922</td>\n",
       "      <td>295.541594</td>\n",
       "      <td>299.670317</td>\n",
       "      <td>287.923155</td>\n",
       "      <td>266.857234</td>\n",
       "      <td>...</td>\n",
       "      <td>287.923155</td>\n",
       "      <td>266.857234</td>\n",
       "      <td>272.767170</td>\n",
       "      <td>339.014897</td>\n",
       "      <td>288.240780</td>\n",
       "      <td>24.528153</td>\n",
       "      <td>339.014897</td>\n",
       "      <td>339.014897</td>\n",
       "      <td>325137460</td>\n",
       "      <td>POINT (-92.98551 16.60519)</td>\n",
       "    </tr>\n",
       "    <tr>\n",
       "      <th>3</th>\n",
       "      <td>287.563365</td>\n",
       "      <td>279.468958</td>\n",
       "      <td>284.700257</td>\n",
       "      <td>287.563365</td>\n",
       "      <td>298.992902</td>\n",
       "      <td>61.571507</td>\n",
       "      <td>294.864179</td>\n",
       "      <td>298.992902</td>\n",
       "      <td>287.245740</td>\n",
       "      <td>266.179819</td>\n",
       "      <td>...</td>\n",
       "      <td>287.245740</td>\n",
       "      <td>266.179819</td>\n",
       "      <td>272.089755</td>\n",
       "      <td>338.337482</td>\n",
       "      <td>287.563365</td>\n",
       "      <td>23.850738</td>\n",
       "      <td>338.337482</td>\n",
       "      <td>338.337482</td>\n",
       "      <td>325137461</td>\n",
       "      <td>POINT (-92.98590 16.60537)</td>\n",
       "    </tr>\n",
       "  </tbody>\n",
       "</table>\n",
       "<p>4 rows × 21 columns</p>\n",
       "</div>"
      ],
      "text/plain": [
       "   max_escuelas  max_preescolar  max_primaria  max_secundaria  \\\n",
       "0     60.299774       53.282257     56.814611       60.299774   \n",
       "1    288.635370      280.540963    285.772262      288.635370   \n",
       "2    288.240780      280.146373    285.377672      288.240780   \n",
       "3    287.563365      279.468958    284.700257      287.563365   \n",
       "\n",
       "   max_servicios comunitarios  max_salud  max_guarderías  \\\n",
       "0                   69.145039  68.827742       58.890007   \n",
       "1                  300.064907  62.643512      295.936184   \n",
       "2                  299.670317  62.248922      295.541594   \n",
       "3                  298.992902  61.571507      294.864179   \n",
       "\n",
       "   max_asistencia social  max_comercio  max_alimentos  ...  max_farmacias  \\\n",
       "0              69.145039     55.366849      44.656545  ...      55.366849   \n",
       "1             300.064907    288.317745     267.251824  ...     288.317745   \n",
       "2             299.670317    287.923155     266.857234  ...     287.923155   \n",
       "3             298.992902    287.245740     266.179819  ...     287.245740   \n",
       "\n",
       "    max_hogar  max_complementarios  max_entretenimiento  max_social  \\\n",
       "0   51.177865            54.242097           261.482562   47.006678   \n",
       "1  267.251824           273.161760           339.409487  288.635370   \n",
       "2  266.857234           272.767170           339.014897  288.240780   \n",
       "3  266.179819           272.089755           338.337482  287.563365   \n",
       "\n",
       "   max_actividad física  max_cultural  max_idx_15_min      osmid  \\\n",
       "0             67.788943    261.482562      261.482562  287409831   \n",
       "1             24.922743    339.409487      339.409487  325137459   \n",
       "2             24.528153    339.014897      339.014897  325137460   \n",
       "3             23.850738    338.337482      338.337482  325137461   \n",
       "\n",
       "                     geometry  \n",
       "0  POINT (-93.28285 16.76871)  \n",
       "1  POINT (-92.98533 16.60503)  \n",
       "2  POINT (-92.98551 16.60519)  \n",
       "3  POINT (-92.98590 16.60537)  \n",
       "\n",
       "[4 rows x 21 columns]"
      ]
     },
     "execution_count": 17,
     "metadata": {},
     "output_type": "execute_result"
    }
   ],
   "source": [
    "#Add to column_max_all list the attributes 'osmid' and 'geometry' to filter nodes_analysis with the column_max_all list.\n",
    "column_max_all.append('osmid')\n",
    "column_max_all.append('geometry')\n",
    "nodes_analysis_filter = nodes_analysis[column_max_all].copy()\n",
    "nodes_analysis_filter.head(4)"
   ]
  },
  {
   "cell_type": "markdown",
   "id": "380ab501-da1a-46a3-b322-6f582ae0196f",
   "metadata": {
    "tags": []
   },
   "source": [
    "## Group times by hexagons"
   ]
  },
  {
   "cell_type": "code",
   "execution_count": 20,
   "id": "1ce3470b-9587-454d-8cc1-d1a2586ea5d7",
   "metadata": {
    "tags": []
   },
   "outputs": [
    {
     "data": {
      "text/html": [
       "<div>\n",
       "<style scoped>\n",
       "    .dataframe tbody tr th:only-of-type {\n",
       "        vertical-align: middle;\n",
       "    }\n",
       "\n",
       "    .dataframe tbody tr th {\n",
       "        vertical-align: top;\n",
       "    }\n",
       "\n",
       "    .dataframe thead th {\n",
       "        text-align: right;\n",
       "    }\n",
       "</style>\n",
       "<table border=\"1\" class=\"dataframe\">\n",
       "  <thead>\n",
       "    <tr style=\"text-align: right;\">\n",
       "      <th></th>\n",
       "      <th>hex_id_9</th>\n",
       "      <th>geometry</th>\n",
       "      <th>max_escuelas</th>\n",
       "      <th>max_preescolar</th>\n",
       "      <th>max_primaria</th>\n",
       "      <th>max_secundaria</th>\n",
       "      <th>max_servicios comunitarios</th>\n",
       "      <th>max_salud</th>\n",
       "      <th>max_guarderías</th>\n",
       "      <th>max_asistencia social</th>\n",
       "      <th>...</th>\n",
       "      <th>max_alimentos</th>\n",
       "      <th>max_personal</th>\n",
       "      <th>max_farmacias</th>\n",
       "      <th>max_hogar</th>\n",
       "      <th>max_complementarios</th>\n",
       "      <th>max_entretenimiento</th>\n",
       "      <th>max_social</th>\n",
       "      <th>max_actividad física</th>\n",
       "      <th>max_cultural</th>\n",
       "      <th>max_idx_15_min</th>\n",
       "    </tr>\n",
       "  </thead>\n",
       "  <tbody>\n",
       "    <tr>\n",
       "      <th>0</th>\n",
       "      <td>896d231a357ffff</td>\n",
       "      <td>POLYGON ((-93.17697 16.71641, -93.17573 16.717...</td>\n",
       "      <td>37.146151</td>\n",
       "      <td>11.108051</td>\n",
       "      <td>27.144151</td>\n",
       "      <td>37.146151</td>\n",
       "      <td>69.231307</td>\n",
       "      <td>64.878943</td>\n",
       "      <td>69.231307</td>\n",
       "      <td>39.639074</td>\n",
       "      <td>...</td>\n",
       "      <td>7.114693</td>\n",
       "      <td>23.456540</td>\n",
       "      <td>21.446897</td>\n",
       "      <td>15.165851</td>\n",
       "      <td>21.968129</td>\n",
       "      <td>102.553431</td>\n",
       "      <td>16.612789</td>\n",
       "      <td>29.819731</td>\n",
       "      <td>102.553431</td>\n",
       "      <td>102.553431</td>\n",
       "    </tr>\n",
       "    <tr>\n",
       "      <th>1</th>\n",
       "      <td>896d23c4b73ffff</td>\n",
       "      <td>POLYGON ((-93.14499 16.76534, -93.14375 16.766...</td>\n",
       "      <td>35.024185</td>\n",
       "      <td>14.641448</td>\n",
       "      <td>16.276428</td>\n",
       "      <td>35.024185</td>\n",
       "      <td>18.235185</td>\n",
       "      <td>16.742294</td>\n",
       "      <td>18.134972</td>\n",
       "      <td>18.129974</td>\n",
       "      <td>...</td>\n",
       "      <td>5.022610</td>\n",
       "      <td>9.000345</td>\n",
       "      <td>22.280780</td>\n",
       "      <td>14.989355</td>\n",
       "      <td>10.249885</td>\n",
       "      <td>20.969521</td>\n",
       "      <td>20.854691</td>\n",
       "      <td>4.428659</td>\n",
       "      <td>20.179557</td>\n",
       "      <td>35.024185</td>\n",
       "    </tr>\n",
       "  </tbody>\n",
       "</table>\n",
       "<p>2 rows × 21 columns</p>\n",
       "</div>"
      ],
      "text/plain": [
       "          hex_id_9                                           geometry  \\\n",
       "0  896d231a357ffff  POLYGON ((-93.17697 16.71641, -93.17573 16.717...   \n",
       "1  896d23c4b73ffff  POLYGON ((-93.14499 16.76534, -93.14375 16.766...   \n",
       "\n",
       "   max_escuelas  max_preescolar  max_primaria  max_secundaria  \\\n",
       "0     37.146151       11.108051     27.144151       37.146151   \n",
       "1     35.024185       14.641448     16.276428       35.024185   \n",
       "\n",
       "   max_servicios comunitarios  max_salud  max_guarderías  \\\n",
       "0                   69.231307  64.878943       69.231307   \n",
       "1                   18.235185  16.742294       18.134972   \n",
       "\n",
       "   max_asistencia social  ...  max_alimentos  max_personal  max_farmacias  \\\n",
       "0              39.639074  ...       7.114693     23.456540      21.446897   \n",
       "1              18.129974  ...       5.022610      9.000345      22.280780   \n",
       "\n",
       "   max_hogar  max_complementarios  max_entretenimiento  max_social  \\\n",
       "0  15.165851            21.968129           102.553431   16.612789   \n",
       "1  14.989355            10.249885            20.969521   20.854691   \n",
       "\n",
       "   max_actividad física  max_cultural  max_idx_15_min  \n",
       "0             29.819731    102.553431      102.553431  \n",
       "1              4.428659     20.179557       35.024185  \n",
       "\n",
       "[2 rows x 21 columns]"
      ]
     },
     "execution_count": 20,
     "metadata": {},
     "output_type": "execute_result"
    }
   ],
   "source": [
    "# group data by hex\n",
    "res = 9\n",
    "hex_tmp = hex_pop[['hex_id_9','geometry']]\n",
    "hex_res_9_idx = aup.group_by_hex_mean(nodes_analysis_filter, hex_tmp, res, index_column)\n",
    "hex_res_9_idx = hex_res_9_idx.loc[hex_res_9_idx[index_column]>0].copy()\n",
    "\n",
    "# Review result\n",
    "hex_res_9_idx.head(2)"
   ]
  },
  {
   "cell_type": "code",
   "execution_count": 24,
   "id": "7b924319-c115-43a8-8350-e880d19e14ba",
   "metadata": {
    "tags": []
   },
   "outputs": [
    {
     "data": {
      "text/plain": [
       "<Axes: >"
      ]
     },
     "execution_count": 24,
     "metadata": {},
     "output_type": "execute_result"
    },
    {
     "data": {
      "image/png": "[encoded data removed]",
      "text/plain": [
       "<Figure size 640x480 with 1 Axes>"
      ]
     },
     "metadata": {},
     "output_type": "display_data"
    }
   ],
   "source": [
    "hex_res_9_idx.plot('max_idx_15_min',cmap = 'viridis_r')"
   ]
  },
  {
   "cell_type": "markdown",
   "id": "6bf4113e-f8ca-44be-b0fc-cd32a2b8143c",
   "metadata": {
    "tags": []
   },
   "source": [
    "### Calculate max times by hexagon"
   ]
  },
  {
   "cell_type": "code",
   "execution_count": 26,
   "id": "c905be14-a6c6-41f3-bbcd-c518a31bb14a",
   "metadata": {
    "tags": []
   },
   "outputs": [
    {
     "data": {
      "text/html": [
       "<div>\n",
       "<style scoped>\n",
       "    .dataframe tbody tr th:only-of-type {\n",
       "        vertical-align: middle;\n",
       "    }\n",
       "\n",
       "    .dataframe tbody tr th {\n",
       "        vertical-align: top;\n",
       "    }\n",
       "\n",
       "    .dataframe thead th {\n",
       "        text-align: right;\n",
       "    }\n",
       "</style>\n",
       "<table border=\"1\" class=\"dataframe\">\n",
       "  <thead>\n",
       "    <tr style=\"text-align: right;\">\n",
       "      <th></th>\n",
       "      <th>max_escuelas</th>\n",
       "      <th>max_servicios comunitarios</th>\n",
       "      <th>max_comercio</th>\n",
       "      <th>max_entretenimiento</th>\n",
       "      <th>max_idx_15_min</th>\n",
       "    </tr>\n",
       "  </thead>\n",
       "  <tbody>\n",
       "    <tr>\n",
       "      <th>0</th>\n",
       "      <td>37.146151</td>\n",
       "      <td>69.231307</td>\n",
       "      <td>23.45654</td>\n",
       "      <td>102.553431</td>\n",
       "      <td>102.553431</td>\n",
       "    </tr>\n",
       "    <tr>\n",
       "      <th>1</th>\n",
       "      <td>35.024185</td>\n",
       "      <td>18.134972</td>\n",
       "      <td>22.28078</td>\n",
       "      <td>20.854691</td>\n",
       "      <td>35.024185</td>\n",
       "    </tr>\n",
       "  </tbody>\n",
       "</table>\n",
       "</div>"
      ],
      "text/plain": [
       "   max_escuelas  max_servicios comunitarios  max_comercio  \\\n",
       "0     37.146151                   69.231307      23.45654   \n",
       "1     35.024185                   18.134972      22.28078   \n",
       "\n",
       "   max_entretenimiento  max_idx_15_min  \n",
       "0           102.553431      102.553431  \n",
       "1            20.854691       35.024185  "
      ]
     },
     "execution_count": 26,
     "metadata": {},
     "output_type": "execute_result"
    }
   ],
   "source": [
    "# recalculates max time to each eje from max times to calculated amenities and max_idx_15_min from max eje\n",
    "\n",
    "column_max_ejes = [] # list with ejes index column names\n",
    "\n",
    "for e in idx_15_min.keys():\n",
    "    \n",
    "    column_max_ejes.append('max_'+ e.lower())\n",
    "    column_max_types = [] # list with tipologías/tipos in current eje\n",
    "    \n",
    "    for t in idx_15_min[e].keys():\n",
    "        \n",
    "        column_max_types.append('max_'+ t.lower())\n",
    "        \n",
    "    hex_res_9_idx['max_'+ e.lower()] = hex_res_9_idx[column_max_types].max(axis=1)\n",
    "\n",
    "hex_res_9_idx[index_column] = hex_res_9_idx[column_max_ejes].max(axis=1)\n",
    "\n",
    "#Add to column_max_all list the attribute 'max_idx_15_min'\n",
    "column_max_ejes.append(index_column)\n",
    "\n",
    "#Review results:\n",
    "hex_res_9_idx[column_max_ejes].head(2)"
   ]
  },
  {
   "cell_type": "markdown",
   "id": "5027b6a4-9dc4-4f8f-8b09-0c9fbdb2da9e",
   "metadata": {},
   "source": [
    "## Save to Database before adding population data"
   ]
  },
  {
   "cell_type": "code",
   "execution_count": 29,
   "id": "d8d6ae1d-e3f1-4824-9d7f-dc6226580c73",
   "metadata": {
    "tags": []
   },
   "outputs": [],
   "source": [
    "if save_todb:\n",
    "    aup.gdf_to_db_slow(hex_res_9_idx,\"15minanalysis_hexres9_{}\".format(city), 'prox_analysis', if_exists='replace')"
   ]
  },
  {
   "cell_type": "code",
   "execution_count": null,
   "id": "6e33e9e5-d5b0-46a6-aee9-8ba555bc04f2",
   "metadata": {},
   "outputs": [],
   "source": []
  }
 ],
 "metadata": {
  "kernelspec": {
   "display_name": "Python 3 (ipykernel)",
   "language": "python",
   "name": "python3"
  },
  "language_info": {
   "codemirror_mode": {
    "name": "ipython",
    "version": 3
   },
   "file_extension": ".py",
   "mimetype": "text/x-python",
   "name": "python",
   "nbconvert_exporter": "python",
   "pygments_lexer": "ipython3",
   "version": "3.10.5"
  }
 },
 "nbformat": 4,
 "nbformat_minor": 5
}
