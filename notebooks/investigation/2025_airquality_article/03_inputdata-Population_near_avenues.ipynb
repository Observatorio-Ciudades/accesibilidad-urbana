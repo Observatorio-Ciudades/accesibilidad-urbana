{
 "cells": [
  {
   "cell_type": "markdown",
   "id": "f55952fa-445c-476d-9924-d48513e77067",
   "metadata": {},
   "source": [
    "# 00 - Input data - Population near avenues"
   ]
  },
  {
   "cell_type": "markdown",
   "id": "3f01c5ea-8068-4f6f-916a-47446157feb0",
   "metadata": {},
   "source": [
    "## __Import libraries__"
   ]
  },
  {
   "cell_type": "code",
   "execution_count": null,
   "id": "65ceb325-4302-45dd-9c9b-ccd795ae9164",
   "metadata": {},
   "outputs": [],
   "source": [
    "first_folder_path = '../../../'"
   ]
  },
  {
   "cell_type": "code",
   "execution_count": null,
   "id": "d664b9e7-4cc6-441a-8e05-312ed13b5d62",
   "metadata": {},
   "outputs": [],
   "source": [
    "import os\n",
    "import sys\n",
    "\n",
    "import pandas as pd\n",
    "import geopandas as gpd\n",
    "import osmnx as ox\n",
    "import numpy as np\n",
    "\n",
    "import matplotlib.pyplot as plt\n",
    "import seaborn as sns\n",
    "\n",
    "import warnings\n",
    "warnings.simplefilter(action='ignore', category=FutureWarning)\n",
    "\n",
    "module_path = os.path.abspath(os.path.join(first_folder_path))\n",
    "if module_path not in sys.path:\n",
    "    sys.path.append(module_path)\n",
    "    import aup"
   ]
  },
  {
   "cell_type": "markdown",
   "id": "9ddc0ef6-13d2-4eca-9ab6-0eead047f6b6",
   "metadata": {},
   "source": [
    "## __Notebook config__"
   ]
  },
  {
   "cell_type": "code",
   "execution_count": null,
   "id": "91907eb6-c562-4827-bc41-268d848968ef",
   "metadata": {},
   "outputs": [],
   "source": [
    "# Projected CRS to be used\n",
    "projected_crs = \"EPSG:6372\"\n",
    "# Project directory\n",
    "project_dir = first_folder_path + \"data/processed/2025_airquality_article/\""
   ]
  },
  {
   "cell_type": "code",
   "execution_count": null,
   "id": "438f5b1c-110e-4597-8e32-84f7a893a388",
   "metadata": {},
   "outputs": [],
   "source": [
    "city_dict = {'Aguascalientes':'ags',\n",
    "             'Irapuato':'irp',\n",
    "             'Morelia':'mrl',\n",
    "             'Queretaro':'qto',\n",
    "             'SLP':'slp'\n",
    "            }\n",
    "\n",
    "city_list = list(city_dict.keys())\n",
    "city = list(city_dict.keys())[0]\n",
    "city_abrv = list(city_dict.values())[0]"
   ]
  },
  {
   "cell_type": "markdown",
   "id": "012b78a0-1bef-452e-9f33-168c946e925f",
   "metadata": {},
   "source": [
    "## __Load data__"
   ]
  },
  {
   "cell_type": "code",
   "execution_count": 21,
   "id": "c2d4ad4a-99da-4ca3-82f0-83dc5c51d2b4",
   "metadata": {},
   "outputs": [
    {
     "name": "stdout",
     "output_type": "stream",
     "text": [
      "EPSG:4326\n",
      "(13, 6)\n"
     ]
    },
    {
     "data": {
      "text/html": [
       "<div>\n",
       "<style scoped>\n",
       "    .dataframe tbody tr th:only-of-type {\n",
       "        vertical-align: middle;\n",
       "    }\n",
       "\n",
       "    .dataframe tbody tr th {\n",
       "        vertical-align: top;\n",
       "    }\n",
       "\n",
       "    .dataframe thead th {\n",
       "        text-align: right;\n",
       "    }\n",
       "</style>\n",
       "<table border=\"1\" class=\"dataframe\">\n",
       "  <thead>\n",
       "    <tr style=\"text-align: right;\">\n",
       "      <th></th>\n",
       "      <th>CVEGEO</th>\n",
       "      <th>CVE_ENT</th>\n",
       "      <th>CVE_MUN</th>\n",
       "      <th>NOMGEO</th>\n",
       "      <th>geometry</th>\n",
       "      <th>city</th>\n",
       "    </tr>\n",
       "  </thead>\n",
       "  <tbody>\n",
       "    <tr>\n",
       "      <th>0</th>\n",
       "      <td>01001</td>\n",
       "      <td>01</td>\n",
       "      <td>001</td>\n",
       "      <td>Aguascalientes</td>\n",
       "      <td>POLYGON ((-102.10641 22.06035, -102.10368 22.0...</td>\n",
       "      <td>Aguascalientes</td>\n",
       "    </tr>\n",
       "  </tbody>\n",
       "</table>\n",
       "</div>"
      ],
      "text/plain": [
       "  CVEGEO CVE_ENT CVE_MUN          NOMGEO   \n",
       "0  01001      01     001  Aguascalientes  \\\n",
       "\n",
       "                                            geometry            city  \n",
       "0  POLYGON ((-102.10641 22.06035, -102.10368 22.0...  Aguascalientes  "
      ]
     },
     "execution_count": 21,
     "metadata": {},
     "output_type": "execute_result"
    }
   ],
   "source": [
    "metro_schema = 'metropolis'\n",
    "metro_table = 'metro_gdf_2020'\n",
    "\n",
    "if len(city_list) >= 2:\n",
    "            city_tpl = str(tuple(city_list))\n",
    "else:\n",
    "    city_list.append(city_list[0])\n",
    "    city_tpl = str(tuple(city_list))\n",
    "\n",
    "metro_query = f\"SELECT * FROM {metro_schema}.{metro_table} WHERE \\\"city\\\" IN {city_tpl}\"\n",
    "metro_gdf = aup.gdf_from_query(metro_query, geometry_col='geometry')\n",
    "metro_gdf = metro_gdf.set_crs(\"EPSG:4326\")\n",
    "\n",
    "# Show\n",
    "print(metro_gdf.crs)\n",
    "print(metro_gdf.shape)\n",
    "metro_gdf.head(1)"
   ]
  },
  {
   "cell_type": "code",
   "execution_count": 22,
   "id": "252c144c-50a8-4430-9e9c-029ca90a8d87",
   "metadata": {},
   "outputs": [
    {
     "data": {
      "text/html": [
       "<div>\n",
       "<style scoped>\n",
       "    .dataframe tbody tr th:only-of-type {\n",
       "        vertical-align: middle;\n",
       "    }\n",
       "\n",
       "    .dataframe tbody tr th {\n",
       "        vertical-align: top;\n",
       "    }\n",
       "\n",
       "    .dataframe thead th {\n",
       "        text-align: right;\n",
       "    }\n",
       "</style>\n",
       "<table border=\"1\" class=\"dataframe\">\n",
       "  <thead>\n",
       "    <tr style=\"text-align: right;\">\n",
       "      <th></th>\n",
       "      <th>CVEGEO</th>\n",
       "      <th>CVE_ENT</th>\n",
       "      <th>CVE_MUN</th>\n",
       "      <th>NOMGEO</th>\n",
       "      <th>geometry</th>\n",
       "      <th>city</th>\n",
       "    </tr>\n",
       "  </thead>\n",
       "  <tbody>\n",
       "    <tr>\n",
       "      <th>0</th>\n",
       "      <td>01001</td>\n",
       "      <td>01</td>\n",
       "      <td>001</td>\n",
       "      <td>Aguascalientes</td>\n",
       "      <td>POLYGON ((-102.10641 22.06035, -102.10368 22.0...</td>\n",
       "      <td>Aguascalientes</td>\n",
       "    </tr>\n",
       "    <tr>\n",
       "      <th>1</th>\n",
       "      <td>01005</td>\n",
       "      <td>01</td>\n",
       "      <td>005</td>\n",
       "      <td>Jesús María</td>\n",
       "      <td>POLYGON ((-102.33568 22.05067, -102.33348 22.0...</td>\n",
       "      <td>Aguascalientes</td>\n",
       "    </tr>\n",
       "    <tr>\n",
       "      <th>2</th>\n",
       "      <td>01011</td>\n",
       "      <td>01</td>\n",
       "      <td>011</td>\n",
       "      <td>San Francisco de los Romo</td>\n",
       "      <td>POLYGON ((-102.15272 22.08962, -102.15100 22.0...</td>\n",
       "      <td>Aguascalientes</td>\n",
       "    </tr>\n",
       "  </tbody>\n",
       "</table>\n",
       "</div>"
      ],
      "text/plain": [
       "  CVEGEO CVE_ENT CVE_MUN                     NOMGEO   \n",
       "0  01001      01     001             Aguascalientes  \\\n",
       "1  01005      01     005                Jesús María   \n",
       "2  01011      01     011  San Francisco de los Romo   \n",
       "\n",
       "                                            geometry            city  \n",
       "0  POLYGON ((-102.10641 22.06035, -102.10368 22.0...  Aguascalientes  \n",
       "1  POLYGON ((-102.33568 22.05067, -102.33348 22.0...  Aguascalientes  \n",
       "2  POLYGON ((-102.15272 22.08962, -102.15100 22.0...  Aguascalientes  "
      ]
     },
     "execution_count": 22,
     "metadata": {},
     "output_type": "execute_result"
    }
   ],
   "source": [
    "city_gdf = metro_gdf.loc[metro_gdf.city==city].copy()\n",
    "city_gdf"
   ]
  },
  {
   "cell_type": "code",
   "execution_count": 24,
   "id": "b881e912-f6c1-4ef7-892c-9f4dd95ee71d",
   "metadata": {},
   "outputs": [
    {
     "data": {
      "text/plain": [
       "\"('01001', '01005', '01011')\""
      ]
     },
     "execution_count": 24,
     "metadata": {},
     "output_type": "execute_result"
    }
   ],
   "source": [
    "cvegeo_mun_lst = list(city_gdf.CVEGEO.unique())\n",
    "\n",
    "if len(cvegeo_mun_lst) >= 2:\n",
    "    cvegeo_mun_tpl = str(tuple(cvegeo_mun_lst))\n",
    "else:\n",
    "    cvegeo_mun_lst.append(cvegeo_mun_lst[0])\n",
    "    cvegeo_mun_tpl = str(tuple(cvegeo_mun_lst))\n",
    "\n",
    "cvegeo_mun_tpl"
   ]
  },
  {
   "cell_type": "code",
   "execution_count": null,
   "id": "d032d354-0360-46ba-bcfd-905aba2fa8e8",
   "metadata": {},
   "outputs": [],
   "source": [
    "censo_schema = 'raster_analysis'\n",
    "censo_folder = 'ndvi_analysis_hex'\n",
    "\n",
    "block_query = f\"SELECT * FROM sociodemografico.censo_inegi_20_mza WHERE \\\"cvegeo_mun\\\" IN {cvegeo_mun_tpl}\"\n",
    "pop_block_gdf = aup.gdf_from_query(block_query, geometry_col='geometry')\n",
    "\n",
    "if pop_block_gdf.crs != projected_crs:\n",
    "    pop_block_gdf = pop_block_gdf.to_crs(projected_crs)\n",
    "\n",
    "# Show\n",
    "print(pop_block_gdf.crs)\n",
    "print(pop_block_gdf.shape)\n",
    "pop_block_gdf.head(2)"
   ]
  },
  {
   "cell_type": "code",
   "execution_count": null,
   "id": "f8082b58-899a-410b-b9d0-de6a7112b8a9",
   "metadata": {},
   "outputs": [],
   "source": [
    "pop_block_gdf"
   ]
  },
  {
   "cell_type": "code",
   "execution_count": 15,
   "id": "d078dd87-b49e-4970-b927-363bcd8f2c91",
   "metadata": {},
   "outputs": [
    {
     "name": "stdout",
     "output_type": "stream",
     "text": [
      "EPSG:6372\n",
      "(1, 16)\n"
     ]
    },
    {
     "data": {
      "text/html": [
       "<div>\n",
       "<style scoped>\n",
       "    .dataframe tbody tr th:only-of-type {\n",
       "        vertical-align: middle;\n",
       "    }\n",
       "\n",
       "    .dataframe tbody tr th {\n",
       "        vertical-align: top;\n",
       "    }\n",
       "\n",
       "    .dataframe thead th {\n",
       "        text-align: right;\n",
       "    }\n",
       "</style>\n",
       "<table border=\"1\" class=\"dataframe\">\n",
       "  <thead>\n",
       "    <tr style=\"text-align: right;\">\n",
       "      <th></th>\n",
       "      <th>Node_Count</th>\n",
       "      <th>Label</th>\n",
       "      <th>Id</th>\n",
       "      <th>Layer</th>\n",
       "      <th>Integratio</th>\n",
       "      <th>Integrati1</th>\n",
       "      <th>Node_Coun1</th>\n",
       "      <th>Choice_R3</th>\n",
       "      <th>Connectivi</th>\n",
       "      <th>Choice</th>\n",
       "      <th>Choice_R4</th>\n",
       "      <th>Weight</th>\n",
       "      <th>Integrati2</th>\n",
       "      <th>BUFF_DIST</th>\n",
       "      <th>ORIG_FID</th>\n",
       "      <th>geometry</th>\n",
       "    </tr>\n",
       "  </thead>\n",
       "  <tbody>\n",
       "    <tr>\n",
       "      <th>0</th>\n",
       "      <td>5412.0</td>\n",
       "      <td>None</td>\n",
       "      <td>32000.0</td>\n",
       "      <td>Aguascalientes</td>\n",
       "      <td>5.049431</td>\n",
       "      <td>4.089458</td>\n",
       "      <td>8141.0</td>\n",
       "      <td>352693.0</td>\n",
       "      <td>205.0</td>\n",
       "      <td>21136806.0</td>\n",
       "      <td>2043269.0</td>\n",
       "      <td>0.0</td>\n",
       "      <td>6.184775</td>\n",
       "      <td>500.0</td>\n",
       "      <td>0</td>\n",
       "      <td>MULTIPOLYGON (((2472010.354 1078181.747, 24720...</td>\n",
       "    </tr>\n",
       "  </tbody>\n",
       "</table>\n",
       "</div>"
      ],
      "text/plain": [
       "   Node_Count Label       Id           Layer  Integratio  Integrati1   \n",
       "0      5412.0  None  32000.0  Aguascalientes    5.049431    4.089458  \\\n",
       "\n",
       "   Node_Coun1  Choice_R3  Connectivi      Choice  Choice_R4  Weight   \n",
       "0      8141.0   352693.0       205.0  21136806.0  2043269.0     0.0  \\\n",
       "\n",
       "   Integrati2  BUFF_DIST  ORIG_FID   \n",
       "0    6.184775      500.0         0  \\\n",
       "\n",
       "                                            geometry  \n",
       "0  MULTIPOLYGON (((2472010.354 1078181.747, 24720...  "
      ]
     },
     "execution_count": 15,
     "metadata": {},
     "output_type": "execute_result"
    }
   ],
   "source": [
    "city_buffer_gdf = gpd.read_file(project_dir+f\"bufferdiss_{city_abrv}_6372.gpkg\")\n",
    "\n",
    "# Show\n",
    "print(city_buffer_gdf.crs)\n",
    "print(city_buffer_gdf.shape)\n",
    "city_buffer_gdf.head(1)"
   ]
  },
  {
   "cell_type": "code",
   "execution_count": 16,
   "id": "4cf9357d-db21-4bd8-8493-2da940bb9b92",
   "metadata": {},
   "outputs": [
    {
     "data": {
      "text/plain": [
       "<Axes: >"
      ]
     },
     "execution_count": 16,
     "metadata": {},
     "output_type": "execute_result"
    },
    {
     "data": {
      "image/png": "[encoded data removed]",
      "text/plain": [
       "<Figure size 640x480 with 1 Axes>"
      ]
     },
     "metadata": {},
     "output_type": "display_data"
    }
   ],
   "source": [
    "city_buffer_gdf.plot()"
   ]
  },
  {
   "cell_type": "code",
   "execution_count": null,
   "id": "e740bd5a-1488-4332-8a5b-c07ab93aa3d0",
   "metadata": {},
   "outputs": [],
   "source": [
    "metro_gdf = "
   ]
  },
  {
   "cell_type": "code",
   "execution_count": null,
   "id": "660371bc-c5be-4802-b215-651bea42cd58",
   "metadata": {},
   "outputs": [],
   "source": []
  }
 ],
 "metadata": {
  "kernelspec": {
   "display_name": "GDS-10.0",
   "language": "python",
   "name": "gds"
  },
  "language_info": {
   "codemirror_mode": {
    "name": "ipython",
    "version": 3
   },
   "file_extension": ".py",
   "mimetype": "text/x-python",
   "name": "python",
   "nbconvert_exporter": "python",
   "pygments_lexer": "ipython3",
   "version": "3.9.18"
  }
 },
 "nbformat": 4,
 "nbformat_minor": 5
}
