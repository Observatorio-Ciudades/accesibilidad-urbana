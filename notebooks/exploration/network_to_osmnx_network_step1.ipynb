{
 "cells": [
  {
   "cell_type": "markdown",
   "id": "e9911e1b-357d-47a7-8f6c-b2b61ef42644",
   "metadata": {},
   "source": [
    "## Import libraries"
   ]
  },
  {
   "cell_type": "code",
   "execution_count": 4,
   "id": "808c5e3d-d3ef-44dc-8a80-7b799decec7a",
   "metadata": {},
   "outputs": [],
   "source": [
    "accesibilidad_urbana = '../../'"
   ]
  },
  {
   "cell_type": "code",
   "execution_count": 62,
   "id": "21044e86-71f0-4777-8d15-9a7a87890b3a",
   "metadata": {},
   "outputs": [],
   "source": [
    "import geopandas as gpd\n",
    "import pandas as pd\n",
    "import numpy as np\n",
    "\n",
    "from shapely.ops import nearest_points\n",
    "from shapely.geometry import Point,LineString\n",
    "from shapely.geometry import GeometryCollection\n",
    "\n",
    "from shapely.ops import split\n",
    "import time\n",
    "\n",
    "import matplotlib.pyplot as plt\n",
    "\n",
    "import warnings\n",
    "warnings.simplefilter(action='ignore', category=FutureWarning)\n",
    "\n",
    "import os\n",
    "import sys\n",
    "module_path = os.path.abspath(os.path.join(accesibilidad_urbana))\n",
    "if module_path not in sys.path:\n",
    "    sys.path.append(module_path)\n",
    "    import aup"
   ]
  },
  {
   "cell_type": "code",
   "execution_count": 52,
   "id": "19febedb-41da-4f55-bc9a-9130a36ff1cc",
   "metadata": {},
   "outputs": [],
   "source": [
    "# Projection to be used whenever necessary\n",
    "projected_crs = 'EPSG:32719'"
   ]
  },
  {
   "cell_type": "markdown",
   "id": "15ee194a-9098-49f2-a258-14ef46aa9f76",
   "metadata": {},
   "source": [
    "## Strategy 1 - Find nearest point from one gdf to point of another gdf keeping IDs"
   ]
  },
  {
   "cell_type": "markdown",
   "id": "ecf11c48-651b-482b-933f-0185ca2f1990",
   "metadata": {},
   "source": [
    "### Create data"
   ]
  },
  {
   "cell_type": "code",
   "execution_count": 53,
   "id": "1018fec8-4093-4957-8f82-8b4e1d9ebb67",
   "metadata": {},
   "outputs": [
    {
     "data": {
      "text/html": [
       "<div>\n",
       "<style scoped>\n",
       "    .dataframe tbody tr th:only-of-type {\n",
       "        vertical-align: middle;\n",
       "    }\n",
       "\n",
       "    .dataframe tbody tr th {\n",
       "        vertical-align: top;\n",
       "    }\n",
       "\n",
       "    .dataframe thead th {\n",
       "        text-align: right;\n",
       "    }\n",
       "</style>\n",
       "<table border=\"1\" class=\"dataframe\">\n",
       "  <thead>\n",
       "    <tr style=\"text-align: right;\">\n",
       "      <th></th>\n",
       "      <th>point_id</th>\n",
       "      <th>geometry</th>\n",
       "    </tr>\n",
       "  </thead>\n",
       "  <tbody>\n",
       "    <tr>\n",
       "      <th>0</th>\n",
       "      <td>Juárez</td>\n",
       "      <td>POINT (21.000 2.400)</td>\n",
       "    </tr>\n",
       "    <tr>\n",
       "      <th>1</th>\n",
       "      <td>Allende</td>\n",
       "      <td>POINT (31.000 2.400)</td>\n",
       "    </tr>\n",
       "    <tr>\n",
       "      <th>2</th>\n",
       "      <td>Aldama</td>\n",
       "      <td>POINT (41.000 2.400)</td>\n",
       "    </tr>\n",
       "    <tr>\n",
       "      <th>3</th>\n",
       "      <td>Carranza</td>\n",
       "      <td>POINT (51.000 2.400)</td>\n",
       "    </tr>\n",
       "  </tbody>\n",
       "</table>\n",
       "</div>"
      ],
      "text/plain": [
       "   point_id              geometry\n",
       "0    Juárez  POINT (21.000 2.400)\n",
       "1   Allende  POINT (31.000 2.400)\n",
       "2    Aldama  POINT (41.000 2.400)\n",
       "3  Carranza  POINT (51.000 2.400)"
      ]
     },
     "execution_count": 53,
     "metadata": {},
     "output_type": "execute_result"
    }
   ],
   "source": [
    "d = {'point_id': ['Juárez', 'Allende','Aldama','Carranza'], \n",
    "     'geometry': [Point(21, 2.4), Point(31, 2.4), Point(41, 2.4), Point(51, 2.4)]}\n",
    "local_network = gpd.GeoDataFrame(d, crs=projected_crs)\n",
    "local_network"
   ]
  },
  {
   "cell_type": "code",
   "execution_count": 54,
   "id": "9e319d6b-730b-4c23-a401-e86f761155d2",
   "metadata": {},
   "outputs": [
    {
     "data": {
      "text/html": [
       "<div>\n",
       "<style scoped>\n",
       "    .dataframe tbody tr th:only-of-type {\n",
       "        vertical-align: middle;\n",
       "    }\n",
       "\n",
       "    .dataframe tbody tr th {\n",
       "        vertical-align: top;\n",
       "    }\n",
       "\n",
       "    .dataframe thead th {\n",
       "        text-align: right;\n",
       "    }\n",
       "</style>\n",
       "<table border=\"1\" class=\"dataframe\">\n",
       "  <thead>\n",
       "    <tr style=\"text-align: right;\">\n",
       "      <th></th>\n",
       "      <th>street_id</th>\n",
       "      <th>geometry</th>\n",
       "    </tr>\n",
       "  </thead>\n",
       "  <tbody>\n",
       "    <tr>\n",
       "      <th>0</th>\n",
       "      <td>osmid1</td>\n",
       "      <td>POINT (25.000 0.000)</td>\n",
       "    </tr>\n",
       "    <tr>\n",
       "      <th>1</th>\n",
       "      <td>osmid1</td>\n",
       "      <td>POINT (35.000 0.000)</td>\n",
       "    </tr>\n",
       "    <tr>\n",
       "      <th>2</th>\n",
       "      <td>osmid1</td>\n",
       "      <td>POINT (45.000 0.000)</td>\n",
       "    </tr>\n",
       "    <tr>\n",
       "      <th>3</th>\n",
       "      <td>osmid1</td>\n",
       "      <td>POINT (55.000 0.000)</td>\n",
       "    </tr>\n",
       "    <tr>\n",
       "      <th>4</th>\n",
       "      <td>osmid1</td>\n",
       "      <td>POINT (65.000 0.000)</td>\n",
       "    </tr>\n",
       "    <tr>\n",
       "      <th>5</th>\n",
       "      <td>osmid2</td>\n",
       "      <td>POINT (35.000 -5.000)</td>\n",
       "    </tr>\n",
       "    <tr>\n",
       "      <th>6</th>\n",
       "      <td>osmid2</td>\n",
       "      <td>POINT (35.000 0.000)</td>\n",
       "    </tr>\n",
       "    <tr>\n",
       "      <th>7</th>\n",
       "      <td>osmid2</td>\n",
       "      <td>POINT (35.000 5.000)</td>\n",
       "    </tr>\n",
       "    <tr>\n",
       "      <th>8</th>\n",
       "      <td>osmid2</td>\n",
       "      <td>POINT (35.000 10.000)</td>\n",
       "    </tr>\n",
       "    <tr>\n",
       "      <th>9</th>\n",
       "      <td>osmid2</td>\n",
       "      <td>POINT (35.000 15.000)</td>\n",
       "    </tr>\n",
       "  </tbody>\n",
       "</table>\n",
       "</div>"
      ],
      "text/plain": [
       "  street_id               geometry\n",
       "0    osmid1   POINT (25.000 0.000)\n",
       "1    osmid1   POINT (35.000 0.000)\n",
       "2    osmid1   POINT (45.000 0.000)\n",
       "3    osmid1   POINT (55.000 0.000)\n",
       "4    osmid1   POINT (65.000 0.000)\n",
       "5    osmid2  POINT (35.000 -5.000)\n",
       "6    osmid2   POINT (35.000 0.000)\n",
       "7    osmid2   POINT (35.000 5.000)\n",
       "8    osmid2  POINT (35.000 10.000)\n",
       "9    osmid2  POINT (35.000 15.000)"
      ]
     },
     "execution_count": 54,
     "metadata": {},
     "output_type": "execute_result"
    }
   ],
   "source": [
    "d = {'street_id': ['osmid1', 'osmid1','osmid1','osmid1','osmid1',\n",
    "                  'osmid2', 'osmid2','osmid2','osmid2','osmid2'], \n",
    "     'geometry': [Point(25,0),Point(35,0),Point(45,0),Point(55,0),Point(65,0),\n",
    "                 Point(35,-5),Point(35,0),Point(35,5),Point(35,10),Point(35,15)]}\n",
    "osmnx_network = gpd.GeoDataFrame(d, crs=projected_crs)\n",
    "osmnx_network"
   ]
  },
  {
   "cell_type": "code",
   "execution_count": 55,
   "id": "ebad83dc-12e9-4db3-8a36-97a43bdf4f92",
   "metadata": {},
   "outputs": [
    {
     "data": {
      "text/plain": [
       "<Axes: >"
      ]
     },
     "execution_count": 55,
     "metadata": {},
     "output_type": "execute_result"
    },
    {
     "data": {
      "image/png": "[encoded data removed]",
      "text/plain": [
       "<Figure size 1000x1000 with 1 Axes>"
      ]
     },
     "metadata": {},
     "output_type": "display_data"
    }
   ],
   "source": [
    "fig,ax = plt.subplots(figsize=(10,10))\n",
    "local_network.plot(ax=ax,color='red')\n",
    "osmnx_network.plot('street_id',ax=ax)"
   ]
  },
  {
   "cell_type": "code",
   "execution_count": 56,
   "id": "2f7b040a-ce1c-41fd-b797-115841518538",
   "metadata": {},
   "outputs": [
    {
     "name": "stdout",
     "output_type": "stream",
     "text": [
      "4\n",
      "10\n",
      "4\n",
      "9\n"
     ]
    }
   ],
   "source": [
    "# Eliminar duplicados geométricos en ambos gdfs\n",
    "print(len(local_network))\n",
    "print(len(osmnx_network))\n",
    "calles_gdf = local_network.drop_duplicates(subset='geometry')\n",
    "target_gdf = osmnx_network.drop_duplicates(subset='geometry')\n",
    "print(len(calles_gdf))\n",
    "print(len(target_gdf))"
   ]
  },
  {
   "cell_type": "markdown",
   "id": "5a2101ee-e776-41ea-97ad-047ec30bcb5a",
   "metadata": {},
   "source": [
    "### Find nearest"
   ]
  },
  {
   "cell_type": "code",
   "execution_count": 57,
   "id": "e21e281e-3fa2-4da1-aac7-cdf78e2bc875",
   "metadata": {},
   "outputs": [
    {
     "data": {
      "text/html": [
       "<div>\n",
       "<style scoped>\n",
       "    .dataframe tbody tr th:only-of-type {\n",
       "        vertical-align: middle;\n",
       "    }\n",
       "\n",
       "    .dataframe tbody tr th {\n",
       "        vertical-align: top;\n",
       "    }\n",
       "\n",
       "    .dataframe thead th {\n",
       "        text-align: right;\n",
       "    }\n",
       "</style>\n",
       "<table border=\"1\" class=\"dataframe\">\n",
       "  <thead>\n",
       "    <tr style=\"text-align: right;\">\n",
       "      <th></th>\n",
       "      <th>point_id</th>\n",
       "      <th>geometry</th>\n",
       "      <th>nearest_st</th>\n",
       "      <th>nearest_geom</th>\n",
       "      <th>distance_to_nearest</th>\n",
       "    </tr>\n",
       "  </thead>\n",
       "  <tbody>\n",
       "    <tr>\n",
       "      <th>0</th>\n",
       "      <td>Juárez</td>\n",
       "      <td>POINT (21.000 2.400)</td>\n",
       "      <td>osmid1</td>\n",
       "      <td>POINT (25.000 0.000)</td>\n",
       "      <td>4.664762</td>\n",
       "    </tr>\n",
       "    <tr>\n",
       "      <th>1</th>\n",
       "      <td>Allende</td>\n",
       "      <td>POINT (31.000 2.400)</td>\n",
       "      <td>osmid1</td>\n",
       "      <td>POINT (35.000 0.000)</td>\n",
       "      <td>4.664762</td>\n",
       "    </tr>\n",
       "    <tr>\n",
       "      <th>2</th>\n",
       "      <td>Aldama</td>\n",
       "      <td>POINT (41.000 2.400)</td>\n",
       "      <td>osmid1</td>\n",
       "      <td>POINT (45.000 0.000)</td>\n",
       "      <td>4.664762</td>\n",
       "    </tr>\n",
       "    <tr>\n",
       "      <th>3</th>\n",
       "      <td>Carranza</td>\n",
       "      <td>POINT (51.000 2.400)</td>\n",
       "      <td>osmid1</td>\n",
       "      <td>POINT (55.000 0.000)</td>\n",
       "      <td>4.664762</td>\n",
       "    </tr>\n",
       "  </tbody>\n",
       "</table>\n",
       "</div>"
      ],
      "text/plain": [
       "   point_id              geometry nearest_st          nearest_geom   \n",
       "0    Juárez  POINT (21.000 2.400)     osmid1  POINT (25.000 0.000)  \\\n",
       "1   Allende  POINT (31.000 2.400)     osmid1  POINT (35.000 0.000)   \n",
       "2    Aldama  POINT (41.000 2.400)     osmid1  POINT (45.000 0.000)   \n",
       "3  Carranza  POINT (51.000 2.400)     osmid1  POINT (55.000 0.000)   \n",
       "\n",
       "   distance_to_nearest  \n",
       "0             4.664762  \n",
       "1             4.664762  \n",
       "2             4.664762  \n",
       "3             4.664762  "
      ]
     },
     "execution_count": 57,
     "metadata": {},
     "output_type": "execute_result"
    }
   ],
   "source": [
    "# Función para encontrar el punto más cercano de target_gdf para un punto dado\n",
    "def nearest(row, other_gdf, geom_col='geometry', src_geom_col='geometry'):\n",
    "    # Encuentra el punto más cercano a 'row' en 'other_gdf'\n",
    "    nearest_geom = nearest_points(row[geom_col], other_gdf.unary_union)[1]\n",
    "    # Encuentra la fila completa en 'other_gdf' que tiene esa geometría\n",
    "    nearest_row = other_gdf.loc[other_gdf[geom_col] == nearest_geom]\n",
    "    return nearest_row.iloc[0]\n",
    "\n",
    "# Aplicar la función para encontrar el punto más cercano para cada punto en calles_gdf\n",
    "nearest_nodes =calles_gdf.apply(nearest, other_gdf=target_gdf, axis=1)\n",
    "calles_nearest = calles_gdf.copy()\n",
    "calles_nearest['nearest_st'] = nearest_nodes['street_id']\n",
    "calles_nearest['nearest_geom'] = nearest_nodes['geometry']\n",
    "\n",
    "# Calcular la distancia al punto más cercano\n",
    "calles_nearest['distance_to_nearest'] = calles_nearest.distance(calles_nearest['nearest_geom'])\n",
    "\n",
    "calles_nearest"
   ]
  },
  {
   "cell_type": "markdown",
   "id": "a9bb7600-5b4a-48b3-9272-3256b36ebb7d",
   "metadata": {},
   "source": [
    "## Strategy 2 - Most similar geometry to another line (Hausdorff, Frechet)"
   ]
  },
  {
   "cell_type": "markdown",
   "id": "af366d90-77a1-4f54-bbf3-5c46f0bff755",
   "metadata": {},
   "source": [
    "### __Strategy 2__ - Simple test"
   ]
  },
  {
   "cell_type": "code",
   "execution_count": 150,
   "id": "03d09b8e-4760-4980-b57f-1f9cbf837ef5",
   "metadata": {},
   "outputs": [
    {
     "data": {
      "text/html": [
       "<div>\n",
       "<style scoped>\n",
       "    .dataframe tbody tr th:only-of-type {\n",
       "        vertical-align: middle;\n",
       "    }\n",
       "\n",
       "    .dataframe tbody tr th {\n",
       "        vertical-align: top;\n",
       "    }\n",
       "\n",
       "    .dataframe thead th {\n",
       "        text-align: right;\n",
       "    }\n",
       "</style>\n",
       "<table border=\"1\" class=\"dataframe\">\n",
       "  <thead>\n",
       "    <tr style=\"text-align: right;\">\n",
       "      <th></th>\n",
       "      <th>street_id</th>\n",
       "      <th>geometry</th>\n",
       "    </tr>\n",
       "  </thead>\n",
       "  <tbody>\n",
       "    <tr>\n",
       "      <th>0</th>\n",
       "      <td>Juárez</td>\n",
       "      <td>LINESTRING (21.000 2.400, 51.000 2.400)</td>\n",
       "    </tr>\n",
       "    <tr>\n",
       "      <th>1</th>\n",
       "      <td>Aldama</td>\n",
       "      <td>LINESTRING (30.000 -5.000, 30.000 15.000)</td>\n",
       "    </tr>\n",
       "  </tbody>\n",
       "</table>\n",
       "</div>"
      ],
      "text/plain": [
       "  street_id                                   geometry\n",
       "0    Juárez    LINESTRING (21.000 2.400, 51.000 2.400)\n",
       "1    Aldama  LINESTRING (30.000 -5.000, 30.000 15.000)"
      ]
     },
     "execution_count": 150,
     "metadata": {},
     "output_type": "execute_result"
    }
   ],
   "source": [
    "d = {'street_id': ['Juárez','Aldama'], \n",
    "     'geometry': [LineString([(21, 2.4),(51, 2.4)]),LineString([(30, -5),(30, 15)])]}\n",
    "local_network = gpd.GeoDataFrame(d, crs=projected_crs)\n",
    "local_network"
   ]
  },
  {
   "cell_type": "code",
   "execution_count": 167,
   "id": "11550d13-7f7c-41ab-b007-ac82317bea05",
   "metadata": {},
   "outputs": [
    {
     "data": {
      "text/html": [
       "<div>\n",
       "<style scoped>\n",
       "    .dataframe tbody tr th:only-of-type {\n",
       "        vertical-align: middle;\n",
       "    }\n",
       "\n",
       "    .dataframe tbody tr th {\n",
       "        vertical-align: top;\n",
       "    }\n",
       "\n",
       "    .dataframe thead th {\n",
       "        text-align: right;\n",
       "    }\n",
       "</style>\n",
       "<table border=\"1\" class=\"dataframe\">\n",
       "  <thead>\n",
       "    <tr style=\"text-align: right;\">\n",
       "      <th></th>\n",
       "      <th>osmid_id</th>\n",
       "      <th>geometry</th>\n",
       "    </tr>\n",
       "  </thead>\n",
       "  <tbody>\n",
       "    <tr>\n",
       "      <th>0</th>\n",
       "      <td>osmid3</td>\n",
       "      <td>LINESTRING (20.000 2.750, 50.000 2.750)</td>\n",
       "    </tr>\n",
       "    <tr>\n",
       "      <th>1</th>\n",
       "      <td>osmid2</td>\n",
       "      <td>LINESTRING (20.000 0.000, 50.000 0.000)</td>\n",
       "    </tr>\n",
       "    <tr>\n",
       "      <th>2</th>\n",
       "      <td>osmid1</td>\n",
       "      <td>LINESTRING (35.000 -5.000, 35.000 15.000)</td>\n",
       "    </tr>\n",
       "  </tbody>\n",
       "</table>\n",
       "</div>"
      ],
      "text/plain": [
       "  osmid_id                                   geometry\n",
       "0   osmid3    LINESTRING (20.000 2.750, 50.000 2.750)\n",
       "1   osmid2    LINESTRING (20.000 0.000, 50.000 0.000)\n",
       "2   osmid1  LINESTRING (35.000 -5.000, 35.000 15.000)"
      ]
     },
     "execution_count": 167,
     "metadata": {},
     "output_type": "execute_result"
    }
   ],
   "source": [
    "d = {'osmid_id': ['osmid3','osmid2','osmid1'], \n",
    "     'geometry': [LineString([(20, 2.75),(50, 2.75)]),LineString([(20, 0),(50, 0)]),LineString([(35, -5),(35, 15)])]}\n",
    "osmnx_network = gpd.GeoDataFrame(d, crs=projected_crs)\n",
    "osmnx_network"
   ]
  },
  {
   "cell_type": "code",
   "execution_count": 180,
   "id": "8ef6750c-6d4a-4c80-9698-53c95bb131c0",
   "metadata": {},
   "outputs": [
    {
     "data": {
      "text/plain": [
       "<Axes: >"
      ]
     },
     "execution_count": 180,
     "metadata": {},
     "output_type": "execute_result"
    },
    {
     "data": {
      "image/png": "[encoded data removed]",
      "text/plain": [
       "<Figure size 1000x1000 with 1 Axes>"
      ]
     },
     "metadata": {},
     "output_type": "display_data"
    }
   ],
   "source": [
    "fig,ax = plt.subplots(figsize=(10,10))\n",
    "local_network.plot(ax=ax,color='red')\n",
    "osmnx_network.plot('osmid_id',ax=ax,legend=True)"
   ]
  },
  {
   "cell_type": "code",
   "execution_count": 177,
   "id": "43db5b06-27bf-4db7-81aa-4ff288c300f3",
   "metadata": {},
   "outputs": [
    {
     "name": "stdout",
     "output_type": "stream",
     "text": [
      "Juárez\n",
      "1.0594810050208545\n",
      "osmid3\n",
      "Juárez\n",
      "2.6\n",
      "Juárez\n",
      "16.0\n",
      "Winner:osmid3\n",
      "----Next street-----\n",
      "Aldama\n",
      "20.0\n",
      "osmid3\n",
      "Aldama\n",
      "20.0\n",
      "Aldama\n",
      "5.0\n",
      "osmid1\n",
      "Winner:osmid1\n",
      "----Next street-----\n"
     ]
    },
    {
     "data": {
      "text/html": [
       "<div>\n",
       "<style scoped>\n",
       "    .dataframe tbody tr th:only-of-type {\n",
       "        vertical-align: middle;\n",
       "    }\n",
       "\n",
       "    .dataframe tbody tr th {\n",
       "        vertical-align: top;\n",
       "    }\n",
       "\n",
       "    .dataframe thead th {\n",
       "        text-align: right;\n",
       "    }\n",
       "</style>\n",
       "<table border=\"1\" class=\"dataframe\">\n",
       "  <thead>\n",
       "    <tr style=\"text-align: right;\">\n",
       "      <th></th>\n",
       "      <th>street_id</th>\n",
       "      <th>geometry</th>\n",
       "      <th>nearest_line</th>\n",
       "    </tr>\n",
       "  </thead>\n",
       "  <tbody>\n",
       "    <tr>\n",
       "      <th>0</th>\n",
       "      <td>Juárez</td>\n",
       "      <td>LINESTRING (21.000 2.400, 51.000 2.400)</td>\n",
       "      <td>osmid3</td>\n",
       "    </tr>\n",
       "    <tr>\n",
       "      <th>1</th>\n",
       "      <td>Aldama</td>\n",
       "      <td>LINESTRING (30.000 -5.000, 30.000 15.000)</td>\n",
       "      <td>osmid1</td>\n",
       "    </tr>\n",
       "  </tbody>\n",
       "</table>\n",
       "</div>"
      ],
      "text/plain": [
       "  street_id                                   geometry nearest_line\n",
       "0    Juárez    LINESTRING (21.000 2.400, 51.000 2.400)       osmid3\n",
       "1    Aldama  LINESTRING (30.000 -5.000, 30.000 15.000)       osmid1"
      ]
     },
     "execution_count": 177,
     "metadata": {},
     "output_type": "execute_result"
    }
   ],
   "source": [
    "original_network = local_network.copy()\n",
    "target_network = osmnx_network.copy()\n",
    "\n",
    "from shapely import hausdorff_distance, frechet_distance\n",
    "\n",
    "# Crear una función para encontrar la línea más cercana en términos de Hausdorff\n",
    "def nearest_line(row, other_gdf):\n",
    "    min_distance = float('inf')\n",
    "    nearest_line = None\n",
    "    \n",
    "    for _, target_row in other_gdf.iterrows():\n",
    "        print(row['street_id'])\n",
    "        distance = row['geometry'].hausdorff_distance(target_row['geometry'])\n",
    "        print(distance)\n",
    "\n",
    "        # If currently measured distance is less than registered min_distance, register\n",
    "        if distance < min_distance:\n",
    "            min_distance = distance\n",
    "            nearest_line = target_row['osmid_id']\n",
    "            print(nearest_line)\n",
    "    \n",
    "    print(f'Winner:{nearest_line}')\n",
    "    print('----Next street-----')\n",
    "    \n",
    "    return nearest_line\n",
    "\n",
    "# Aplicar la función para encontrar la línea más cercana para cada línea en original_network\n",
    "original_network['nearest_line'] = original_network.apply(nearest_line, other_gdf=target_network, axis=1)\n",
    "original_network"
   ]
  },
  {
   "cell_type": "markdown",
   "id": "de36e3fb-bf20-463d-b0f0-b2c4467f5fb9",
   "metadata": {},
   "source": [
    "### __Strategy 2__ - Real test"
   ]
  },
  {
   "cell_type": "code",
   "execution_count": 219,
   "id": "5cf79f75-4342-4d4a-ae0e-49e670edb225",
   "metadata": {},
   "outputs": [
    {
     "data": {
      "text/plain": [
       "'../../data/external/specific-network_transfer/'"
      ]
     },
     "execution_count": 219,
     "metadata": {},
     "output_type": "execute_result"
    }
   ],
   "source": [
    "gral_dir = accesibilidad_urbana+\"data/external/specific-network_transfer/\"\n",
    "gral_dir"
   ]
  },
  {
   "cell_type": "code",
   "execution_count": 220,
   "id": "94fde623-1638-4559-9e1b-da9203a76ae5",
   "metadata": {},
   "outputs": [
    {
     "name": "stdout",
     "output_type": "stream",
     "text": [
      "(338, 3)\n"
     ]
    },
    {
     "data": {
      "text/html": [
       "<div>\n",
       "<style scoped>\n",
       "    .dataframe tbody tr th:only-of-type {\n",
       "        vertical-align: middle;\n",
       "    }\n",
       "\n",
       "    .dataframe tbody tr th {\n",
       "        vertical-align: top;\n",
       "    }\n",
       "\n",
       "    .dataframe thead th {\n",
       "        text-align: right;\n",
       "    }\n",
       "</style>\n",
       "<table border=\"1\" class=\"dataframe\">\n",
       "  <thead>\n",
       "    <tr style=\"text-align: right;\">\n",
       "      <th></th>\n",
       "      <th>street_id</th>\n",
       "      <th>pje_ep</th>\n",
       "      <th>geometry</th>\n",
       "    </tr>\n",
       "  </thead>\n",
       "  <tbody>\n",
       "    <tr>\n",
       "      <th>0</th>\n",
       "      <td>150.0</td>\n",
       "      <td>0.261844</td>\n",
       "      <td>MULTILINESTRING ((336866.602 6296306.973, 3369...</td>\n",
       "    </tr>\n",
       "    <tr>\n",
       "      <th>1</th>\n",
       "      <td>152.0</td>\n",
       "      <td>0.130970</td>\n",
       "      <td>MULTILINESTRING ((336776.728 6296302.353, 3367...</td>\n",
       "    </tr>\n",
       "  </tbody>\n",
       "</table>\n",
       "</div>"
      ],
      "text/plain": [
       "   street_id    pje_ep                                           geometry\n",
       "0      150.0  0.261844  MULTILINESTRING ((336866.602 6296306.973, 3369...\n",
       "1      152.0  0.130970  MULTILINESTRING ((336776.728 6296302.353, 3367..."
      ]
     },
     "execution_count": 220,
     "metadata": {},
     "output_type": "execute_result"
    }
   ],
   "source": [
    "# 1.0 --------------- LOAD DATA\n",
    "# ------------------- Load local network\n",
    "# Load data\n",
    "local_network = gpd.read_file(gral_dir+\"test_area_local_streets_32719.gpkg\")\n",
    "# Set CRS\n",
    "if local_network.crs != projected_crs:\n",
    "    try:\n",
    "        local_network = local_network.set_crs(projected_crs)\n",
    "    except:\n",
    "        local_network = local_network.to_crs(projected_crs)\n",
    "\n",
    "# Filter data\n",
    "local_network = local_network[['IDcllbf','pje_ep','geometry']]\n",
    "local_network.rename(columns={'IDcllbf':'street_id'},inplace=True)\n",
    "\n",
    "# Show\n",
    "print(local_network.shape)\n",
    "local_network.head(2)"
   ]
  },
  {
   "cell_type": "code",
   "execution_count": 221,
   "id": "62005381-74b7-4ca0-8e79-805fd8d4fbfe",
   "metadata": {},
   "outputs": [
    {
     "name": "stdout",
     "output_type": "stream",
     "text": [
      "(672, 18)\n"
     ]
    },
    {
     "data": {
      "text/html": [
       "<div>\n",
       "<style scoped>\n",
       "    .dataframe tbody tr th:only-of-type {\n",
       "        vertical-align: middle;\n",
       "    }\n",
       "\n",
       "    .dataframe tbody tr th {\n",
       "        vertical-align: top;\n",
       "    }\n",
       "\n",
       "    .dataframe thead th {\n",
       "        text-align: right;\n",
       "    }\n",
       "</style>\n",
       "<table border=\"1\" class=\"dataframe\">\n",
       "  <thead>\n",
       "    <tr style=\"text-align: right;\">\n",
       "      <th></th>\n",
       "      <th>u</th>\n",
       "      <th>v</th>\n",
       "      <th>key</th>\n",
       "      <th>osmid</th>\n",
       "      <th>oneway</th>\n",
       "      <th>lanes</th>\n",
       "      <th>name</th>\n",
       "      <th>highway</th>\n",
       "      <th>maxspeed</th>\n",
       "      <th>length</th>\n",
       "      <th>bridge</th>\n",
       "      <th>ref</th>\n",
       "      <th>junction</th>\n",
       "      <th>tunnel</th>\n",
       "      <th>access</th>\n",
       "      <th>width</th>\n",
       "      <th>service</th>\n",
       "      <th>geometry</th>\n",
       "    </tr>\n",
       "  </thead>\n",
       "  <tbody>\n",
       "    <tr>\n",
       "      <th>0</th>\n",
       "      <td>443198326</td>\n",
       "      <td>443198676</td>\n",
       "      <td>0</td>\n",
       "      <td>484811205</td>\n",
       "      <td>False</td>\n",
       "      <td>2</td>\n",
       "      <td>Isla Grande de Tierra del Fuego</td>\n",
       "      <td>tertiary</td>\n",
       "      <td>None</td>\n",
       "      <td>146.940</td>\n",
       "      <td>None</td>\n",
       "      <td>None</td>\n",
       "      <td>None</td>\n",
       "      <td>None</td>\n",
       "      <td>None</td>\n",
       "      <td>None</td>\n",
       "      <td>None</td>\n",
       "      <td>MULTILINESTRING ((336402.936 6296515.282, 3364...</td>\n",
       "    </tr>\n",
       "    <tr>\n",
       "      <th>1</th>\n",
       "      <td>443198341</td>\n",
       "      <td>9102377120</td>\n",
       "      <td>0</td>\n",
       "      <td>213285792</td>\n",
       "      <td>True</td>\n",
       "      <td>2</td>\n",
       "      <td>Avenida La Laguna Sur</td>\n",
       "      <td>secondary</td>\n",
       "      <td>None</td>\n",
       "      <td>101.142</td>\n",
       "      <td>None</td>\n",
       "      <td>None</td>\n",
       "      <td>None</td>\n",
       "      <td>None</td>\n",
       "      <td>None</td>\n",
       "      <td>None</td>\n",
       "      <td>None</td>\n",
       "      <td>MULTILINESTRING ((336398.321 6296484.718, 3364...</td>\n",
       "    </tr>\n",
       "  </tbody>\n",
       "</table>\n",
       "</div>"
      ],
      "text/plain": [
       "           u           v  key      osmid  oneway lanes   \n",
       "0  443198326   443198676    0  484811205   False     2  \\\n",
       "1  443198341  9102377120    0  213285792    True     2   \n",
       "\n",
       "                              name    highway maxspeed   length bridge   ref   \n",
       "0  Isla Grande de Tierra del Fuego   tertiary     None  146.940   None  None  \\\n",
       "1            Avenida La Laguna Sur  secondary     None  101.142   None  None   \n",
       "\n",
       "  junction tunnel access width service   \n",
       "0     None   None   None  None    None  \\\n",
       "1     None   None   None  None    None   \n",
       "\n",
       "                                            geometry  \n",
       "0  MULTILINESTRING ((336402.936 6296515.282, 3364...  \n",
       "1  MULTILINESTRING ((336398.321 6296484.718, 3364...  "
      ]
     },
     "execution_count": 221,
     "metadata": {},
     "output_type": "execute_result"
    }
   ],
   "source": [
    "# 1.0 --------------- LOAD DATA\n",
    "# ------------------- Load OSMnx network\n",
    "# Load data\n",
    "osmnx_network = gpd.read_file(gral_dir+\"test_area_osmnx_edges_32719.gpkg\")\n",
    "# Set CRS\n",
    "if osmnx_network.crs != projected_crs:\n",
    "    try:\n",
    "        osmnx_network = osmnx_network.set_crs(projected_crs)\n",
    "    except:\n",
    "        osmnx_network = osmnx_network.to_crs(projected_crs)\n",
    "\n",
    "# Show\n",
    "print(osmnx_network.shape)\n",
    "osmnx_network.head(2)"
   ]
  },
  {
   "cell_type": "markdown",
   "id": "e4de6cf2-9866-44f0-a583-4566223bb79e",
   "metadata": {},
   "source": [
    "### Approach 1: Function applied to local_network"
   ]
  },
  {
   "cell_type": "code",
   "execution_count": 254,
   "id": "2879dec8-6acc-4faf-815d-6b3a0c6d2303",
   "metadata": {},
   "outputs": [
    {
     "name": "stdout",
     "output_type": "stream",
     "text": [
      "(338, 5)\n"
     ]
    },
    {
     "data": {
      "text/html": [
       "<div>\n",
       "<style scoped>\n",
       "    .dataframe tbody tr th:only-of-type {\n",
       "        vertical-align: middle;\n",
       "    }\n",
       "\n",
       "    .dataframe tbody tr th {\n",
       "        vertical-align: top;\n",
       "    }\n",
       "\n",
       "    .dataframe thead th {\n",
       "        text-align: right;\n",
       "    }\n",
       "</style>\n",
       "<table border=\"1\" class=\"dataframe\">\n",
       "  <thead>\n",
       "    <tr style=\"text-align: right;\">\n",
       "      <th></th>\n",
       "      <th>street_id</th>\n",
       "      <th>pje_ep</th>\n",
       "      <th>geometry</th>\n",
       "      <th>nearest_line</th>\n",
       "      <th>min_distance</th>\n",
       "    </tr>\n",
       "  </thead>\n",
       "  <tbody>\n",
       "    <tr>\n",
       "      <th>0</th>\n",
       "      <td>150.0</td>\n",
       "      <td>0.261844</td>\n",
       "      <td>MULTILINESTRING ((336866.602 6296306.973, 3369...</td>\n",
       "      <td>443960579443960768</td>\n",
       "      <td>3.154251</td>\n",
       "    </tr>\n",
       "  </tbody>\n",
       "</table>\n",
       "</div>"
      ],
      "text/plain": [
       "   street_id    pje_ep                                           geometry   \n",
       "0      150.0  0.261844  MULTILINESTRING ((336866.602 6296306.973, 3369...  \\\n",
       "\n",
       "         nearest_line  min_distance  \n",
       "0  443960579443960768      3.154251  "
      ]
     },
     "execution_count": 254,
     "metadata": {},
     "output_type": "execute_result"
    }
   ],
   "source": [
    "# Create unique ID for each OSMnx edge using u and v\n",
    "target_network = osmnx_network.copy()\n",
    "target_network['u'] = target_network['u'].astype('str')\n",
    "target_network['v'] = target_network['v'] .astype('str')\n",
    "target_network['osmnx_id']= target_network['u']+ target_network['v']\n",
    "\n",
    "# Copy local network\n",
    "original_network = local_network.copy()\n",
    "\n",
    "# Find nearest line to each line using Hausdorff distance\n",
    "def nearest_line(row, other_gdf):\n",
    "    # For each row(line), set min_distance found to infinite\n",
    "    min_distance = float('inf')\n",
    "    nearest_line = None\n",
    "\n",
    "    # For each row(line) in the target_gdf (OSMnx network), iterate and find distance to current line\n",
    "    for _, target_row in other_gdf.iterrows():\n",
    "        distance = row['geometry'].hausdorff_distance(target_row['geometry'])\n",
    "\n",
    "        # If currently measured distance is less than registered min_distance, rewrite min_distance and nearest_line\n",
    "        if distance < min_distance:\n",
    "            min_distance = distance\n",
    "            nearest_line = target_row['osmnx_id']\n",
    "            #print(f\"Found closer line for idx {row['street_id']} at distance {distance}. Close line: {nearest_line}\")\n",
    "\n",
    "    # Finally, register result\n",
    "    row['nearest_line'] = nearest_line\n",
    "    row['min_distance'] = min_distance\n",
    "    \n",
    "    return row\n",
    "\n",
    "# Apply nearest_line() function to find closest line to each line in original network\n",
    "#original_network['nearest_line'], original_network['min_distance'] = original_network.apply(nearest_line, other_gdf=target_network, axis=1)\n",
    "original_network = original_network.apply(nearest_line, other_gdf=target_network, axis=1)\n",
    "\n",
    "# Show\n",
    "print(original_network.shape)\n",
    "original_network.head(1)"
   ]
  },
  {
   "cell_type": "code",
   "execution_count": 265,
   "id": "b254f216-f1ff-408e-b903-84f098d0570e",
   "metadata": {},
   "outputs": [
    {
     "name": "stdout",
     "output_type": "stream",
     "text": [
      "Uniquely assigned OSMnx lines to original lines gdf: 301.\n",
      "(301, 5)\n"
     ]
    },
    {
     "data": {
      "text/html": [
       "<div>\n",
       "<style scoped>\n",
       "    .dataframe tbody tr th:only-of-type {\n",
       "        vertical-align: middle;\n",
       "    }\n",
       "\n",
       "    .dataframe tbody tr th {\n",
       "        vertical-align: top;\n",
       "    }\n",
       "\n",
       "    .dataframe thead th {\n",
       "        text-align: right;\n",
       "    }\n",
       "</style>\n",
       "<table border=\"1\" class=\"dataframe\">\n",
       "  <thead>\n",
       "    <tr style=\"text-align: right;\">\n",
       "      <th></th>\n",
       "      <th>street_id</th>\n",
       "      <th>pje_ep</th>\n",
       "      <th>geometry</th>\n",
       "      <th>nearest_line</th>\n",
       "      <th>min_distance</th>\n",
       "    </tr>\n",
       "  </thead>\n",
       "  <tbody>\n",
       "    <tr>\n",
       "      <th>0</th>\n",
       "      <td>150.0</td>\n",
       "      <td>0.261844</td>\n",
       "      <td>MULTILINESTRING ((336866.602 6296306.973, 3369...</td>\n",
       "      <td>443960579443960768</td>\n",
       "      <td>3.154251</td>\n",
       "    </tr>\n",
       "  </tbody>\n",
       "</table>\n",
       "</div>"
      ],
      "text/plain": [
       "   street_id    pje_ep                                           geometry   \n",
       "0      150.0  0.261844  MULTILINESTRING ((336866.602 6296306.973, 3369...  \\\n",
       "\n",
       "         nearest_line  min_distance  \n",
       "0  443960579443960768      3.154251  "
      ]
     },
     "execution_count": 265,
     "metadata": {},
     "output_type": "execute_result"
    }
   ],
   "source": [
    "# Find duplicated nearest lines (Occurs when two or more original network lines get assigned to the same OSMnx network line)\n",
    "duplicated_nearest_lines = original_network.loc[original_network.duplicated(subset='nearest_line', keep=False)]\n",
    "# For each duplicated nearest line, keep the row with the lowest 'min_distance' (The most similar according to hausdorff_distance result)\n",
    "idx_min = duplicated_nearest_lines.groupby('nearest_line')['min_distance'].idxmin()\n",
    "# Filter selected rows\n",
    "filtered_duplicates = duplicated_nearest_lines.loc[idx_min]\n",
    "\n",
    "# Remove those duplicated lines from the resulting network\n",
    "filtered_network = original_network.copy()\n",
    "filtered_network = filtered_network.drop_duplicates(subset='nearest_line',keep=False)\n",
    "# Append filtered duplicates\n",
    "filtered_network = pd.concat([filtered_network,filtered_duplicates])\n",
    "\n",
    "# Show\n",
    "print(f\"Uniquely assigned OSMnx lines to original lines gdf: {len(resulting_network.nearest_line.unique())}.\")\n",
    "print(filtered_network.shape)\n",
    "filtered_network.head(1)"
   ]
  },
  {
   "cell_type": "code",
   "execution_count": 266,
   "id": "30cb5438-4481-4bea-a848-ea1d5853b7be",
   "metadata": {},
   "outputs": [],
   "source": [
    "# CHECK RESULT IN QGIS\n",
    "duplicated_nearest_lines.to_file(gral_dir + \"duplicated_nearest_lines.gpkg\", driver='GPKG')\n",
    "filtered_network.to_file(gral_dir + \"filtered_network.gpkg\", driver='GPKG')"
   ]
  },
  {
   "cell_type": "code",
   "execution_count": 267,
   "id": "6978544f-2992-4a91-9ccb-2fc64cf5f6d0",
   "metadata": {},
   "outputs": [
    {
     "name": "stdout",
     "output_type": "stream",
     "text": [
      "(301, 21)\n"
     ]
    },
    {
     "data": {
      "text/html": [
       "<div>\n",
       "<style scoped>\n",
       "    .dataframe tbody tr th:only-of-type {\n",
       "        vertical-align: middle;\n",
       "    }\n",
       "\n",
       "    .dataframe tbody tr th {\n",
       "        vertical-align: top;\n",
       "    }\n",
       "\n",
       "    .dataframe thead th {\n",
       "        text-align: right;\n",
       "    }\n",
       "</style>\n",
       "<table border=\"1\" class=\"dataframe\">\n",
       "  <thead>\n",
       "    <tr style=\"text-align: right;\">\n",
       "      <th></th>\n",
       "      <th>u</th>\n",
       "      <th>v</th>\n",
       "      <th>key</th>\n",
       "      <th>osmid</th>\n",
       "      <th>oneway</th>\n",
       "      <th>lanes</th>\n",
       "      <th>name</th>\n",
       "      <th>highway</th>\n",
       "      <th>maxspeed</th>\n",
       "      <th>length</th>\n",
       "      <th>...</th>\n",
       "      <th>ref</th>\n",
       "      <th>junction</th>\n",
       "      <th>tunnel</th>\n",
       "      <th>access</th>\n",
       "      <th>width</th>\n",
       "      <th>service</th>\n",
       "      <th>geometry</th>\n",
       "      <th>osmnx_id</th>\n",
       "      <th>street_id</th>\n",
       "      <th>pje_ep</th>\n",
       "    </tr>\n",
       "  </thead>\n",
       "  <tbody>\n",
       "    <tr>\n",
       "      <th>0</th>\n",
       "      <td>443198326</td>\n",
       "      <td>443198676</td>\n",
       "      <td>0</td>\n",
       "      <td>484811205</td>\n",
       "      <td>False</td>\n",
       "      <td>2</td>\n",
       "      <td>Isla Grande de Tierra del Fuego</td>\n",
       "      <td>tertiary</td>\n",
       "      <td>None</td>\n",
       "      <td>146.94</td>\n",
       "      <td>...</td>\n",
       "      <td>None</td>\n",
       "      <td>None</td>\n",
       "      <td>None</td>\n",
       "      <td>None</td>\n",
       "      <td>None</td>\n",
       "      <td>None</td>\n",
       "      <td>MULTILINESTRING ((336402.936 6296515.282, 3364...</td>\n",
       "      <td>443198326443198676</td>\n",
       "      <td>19412.0</td>\n",
       "      <td>0.873692</td>\n",
       "    </tr>\n",
       "  </tbody>\n",
       "</table>\n",
       "<p>1 rows × 21 columns</p>\n",
       "</div>"
      ],
      "text/plain": [
       "           u          v  key      osmid  oneway lanes   \n",
       "0  443198326  443198676    0  484811205   False     2  \\\n",
       "\n",
       "                              name   highway maxspeed  length  ...   ref   \n",
       "0  Isla Grande de Tierra del Fuego  tertiary     None  146.94  ...  None  \\\n",
       "\n",
       "  junction tunnel access width service   \n",
       "0     None   None   None  None    None  \\\n",
       "\n",
       "                                            geometry            osmnx_id   \n",
       "0  MULTILINESTRING ((336402.936 6296515.282, 3364...  443198326443198676  \\\n",
       "\n",
       "  street_id    pje_ep  \n",
       "0   19412.0  0.873692  \n",
       "\n",
       "[1 rows x 21 columns]"
      ]
     },
     "execution_count": 267,
     "metadata": {},
     "output_type": "execute_result"
    }
   ],
   "source": [
    "# Merge street_id and columns of interest back to osmnx network\n",
    "resulting_network = pd.merge(target_network,filtered_network[['street_id','pje_ep','nearest_line']],\n",
    "                             left_on='osmnx_id',right_on='nearest_line')\n",
    "resulting_network.drop(columns=['nearest_line'],inplace=True)\n",
    "\n",
    "# Show\n",
    "print(resulting_network.shape)\n",
    "resulting_network.head(1)"
   ]
  },
  {
   "cell_type": "code",
   "execution_count": 268,
   "id": "e862625d-2418-43c1-bfb1-84ac79698d1f",
   "metadata": {},
   "outputs": [],
   "source": [
    "resulting_network.to_file(gral_dir + \"resulting_network_filtered.gpkg\", driver='GPKG')"
   ]
  },
  {
   "cell_type": "code",
   "execution_count": null,
   "id": "9cc05d9f-f53b-41fa-89b9-b377a439192c",
   "metadata": {},
   "outputs": [],
   "source": [
    "# Problema de duplicados en la original network:\n",
    "# Ocurre cuando una línea de la red original tiene como correspondiente dos (o más) líneas más pequeñas de OSMnx.\n",
    "# Hausdorff, en lugar de asignarle una de las dos (o más) líneas, asigna la paralela más cercana. Esa paralela, aparte tendrá su línea original correspondiente.\n",
    "# Posible solución: Antes de asignar la línea a la row, guardar en un gdf la línea original, la distancia Hausdorff y el osmnx_id que se está guardando.\n",
    "# Para las siguientes líneas, si una línea se quiere asignar a un osmnx_id que ya está guardado, buscar la línea original que se había guardado y comparar las distancias Hausdorff.\n",
    "# Mantener la conección para la distancia Hausdorff que sea menor y guardar en una lista la línea original cuya asignación fue errónea.\n",
    "# La función deberá regresar esa lista y se deberá repetir el proceso retirando de la red de OSMnx las líneas ya asignadas.\n",
    "\n",
    "# Problema de "
   ]
  },
  {
   "cell_type": "markdown",
   "id": "54d50642-9027-4005-a298-e2bcc9e5d522",
   "metadata": {},
   "source": [
    "### Approach 2: Function applied to osmnx_network."
   ]
  },
  {
   "cell_type": "code",
   "execution_count": null,
   "id": "cd47c27e-c296-4b95-bc04-95f827ab5fe9",
   "metadata": {},
   "outputs": [],
   "source": []
  }
 ],
 "metadata": {
  "kernelspec": {
   "display_name": "GDS-10.0",
   "language": "python",
   "name": "gds"
  },
  "language_info": {
   "codemirror_mode": {
    "name": "ipython",
    "version": 3
   },
   "file_extension": ".py",
   "mimetype": "text/x-python",
   "name": "python",
   "nbconvert_exporter": "python",
   "pygments_lexer": "ipython3",
   "version": "3.9.18"
  }
 },
 "nbformat": 4,
 "nbformat_minor": 5
}
