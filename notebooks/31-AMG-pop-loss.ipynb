{
 "cells": [
  {
   "cell_type": "markdown",
   "metadata": {},
   "source": [
    "# AMG - Population change analysis"
   ]
  },
  {
   "cell_type": "code",
   "execution_count": 1,
   "metadata": {},
   "outputs": [
    {
     "name": "stderr",
     "output_type": "stream",
     "text": [
      "/home/edgaregurrola/anaconda3/envs/odc/lib/python3.10/site-packages/osmnx/utils.py:192: UserWarning: The `utils.config` function is deprecated and will be removed in a future release. Instead, use the `settings` module directly to configure a global setting's value. For example, `ox.settings.log_console=True`.\n",
      "  warnings.warn(\n"
     ]
    }
   ],
   "source": [
    "import os\n",
    "import sys\n",
    "\n",
    "import pandas as pd\n",
    "import geopandas as gpd\n",
    "import numpy as np\n",
    "from scipy import stats\n",
    "\n",
    "import warnings\n",
    "warnings.simplefilter(action='ignore', category=FutureWarning)\n",
    "\n",
    "import matplotlib.pyplot as plt\n",
    "import seaborn as sns\n",
    "\n",
    "module_path = os.path.abspath(os.path.join('..'))\n",
    "if module_path not in sys.path:\n",
    "    sys.path.append(module_path)\n",
    "    import aup"
   ]
  },
  {
   "cell_type": "markdown",
   "metadata": {},
   "source": [
    "## Gather data"
   ]
  },
  {
   "cell_type": "markdown",
   "metadata": {},
   "source": [
    "### Population change data and time to masive public transport stop"
   ]
  },
  {
   "cell_type": "code",
   "execution_count": 2,
   "metadata": {},
   "outputs": [],
   "source": [
    "c = 'Guadalajara'\n",
    "res = 8"
   ]
  },
  {
   "cell_type": "code",
   "execution_count": 3,
   "metadata": {},
   "outputs": [],
   "source": [
    "grl_dir = '/home/edgaregurrola/SIG/ObsCds/Proyectos/Vivienda_Deshabitada/'\n",
    "hex_pop = gpd.read_file(grl_dir+'Info_Sociodemografica/Analisis/Block_Census/Guadalajara_Census_10_20_BlockAnalysis_res8.geojson', driver='GeoJSON')\n",
    "hex_tp = gpd.read_file(grl_dir+'/Medio_Urbano/Transporte_Publico/hex_t_masivo_GDL_V2.geojson', driver='GeoJSON')"
   ]
  },
  {
   "cell_type": "code",
   "execution_count": 4,
   "metadata": {},
   "outputs": [
    {
     "name": "stdout",
     "output_type": "stream",
     "text": [
      "(1160, 430)\n"
     ]
    },
    {
     "data": {
      "text/html": [
       "<div>\n",
       "<style scoped>\n",
       "    .dataframe tbody tr th:only-of-type {\n",
       "        vertical-align: middle;\n",
       "    }\n",
       "\n",
       "    .dataframe tbody tr th {\n",
       "        vertical-align: top;\n",
       "    }\n",
       "\n",
       "    .dataframe thead th {\n",
       "        text-align: right;\n",
       "    }\n",
       "</style>\n",
       "<table border=\"1\" class=\"dataframe\">\n",
       "  <thead>\n",
       "    <tr style=\"text-align: right;\">\n",
       "      <th></th>\n",
       "      <th>hex_id_8</th>\n",
       "      <th>pobtot</th>\n",
       "      <th>pobfem</th>\n",
       "      <th>pobmas</th>\n",
       "      <th>p_0a2</th>\n",
       "      <th>p_0a2_f</th>\n",
       "      <th>p_0a2_m</th>\n",
       "      <th>p_3ymas</th>\n",
       "      <th>p_3ymas_f</th>\n",
       "      <th>p_3ymas_m</th>\n",
       "      <th>...</th>\n",
       "      <th>Z_RTViv_10_20</th>\n",
       "      <th>R_VivHab_20</th>\n",
       "      <th>R_VivDes_20</th>\n",
       "      <th>Z_RVivHab_20</th>\n",
       "      <th>R_VivHab_10</th>\n",
       "      <th>Z_RVivHab_10</th>\n",
       "      <th>Chng_RVivHab_10</th>\n",
       "      <th>R_TVivDes_10_20</th>\n",
       "      <th>DensPob_10_20</th>\n",
       "      <th>geometry</th>\n",
       "    </tr>\n",
       "  </thead>\n",
       "  <tbody>\n",
       "    <tr>\n",
       "      <th>0</th>\n",
       "      <td>8849aa2d99fffff</td>\n",
       "      <td>848.0</td>\n",
       "      <td>427.0</td>\n",
       "      <td>421.0</td>\n",
       "      <td>46.0</td>\n",
       "      <td>16.0</td>\n",
       "      <td>24.0</td>\n",
       "      <td>794.0</td>\n",
       "      <td>403.0</td>\n",
       "      <td>391.0</td>\n",
       "      <td>...</td>\n",
       "      <td>None</td>\n",
       "      <td>0.716981</td>\n",
       "      <td>0.160377</td>\n",
       "      <td>-0.281484</td>\n",
       "      <td>0.0</td>\n",
       "      <td>None</td>\n",
       "      <td>0.716981</td>\n",
       "      <td>None</td>\n",
       "      <td>-2.276028</td>\n",
       "      <td>POLYGON ((-103.32340 20.57940, -103.31887 20.5...</td>\n",
       "    </tr>\n",
       "    <tr>\n",
       "      <th>1</th>\n",
       "      <td>88498c95cbfffff</td>\n",
       "      <td>7259.0</td>\n",
       "      <td>3697.0</td>\n",
       "      <td>3557.0</td>\n",
       "      <td>310.0</td>\n",
       "      <td>149.0</td>\n",
       "      <td>128.0</td>\n",
       "      <td>6899.0</td>\n",
       "      <td>3510.0</td>\n",
       "      <td>3389.0</td>\n",
       "      <td>...</td>\n",
       "      <td>None</td>\n",
       "      <td>0.839589</td>\n",
       "      <td>0.083110</td>\n",
       "      <td>0.391420</td>\n",
       "      <td>0.0</td>\n",
       "      <td>None</td>\n",
       "      <td>0.839589</td>\n",
       "      <td>None</td>\n",
       "      <td>-4.227884</td>\n",
       "      <td>POLYGON ((-103.29386 20.71601, -103.28932 20.7...</td>\n",
       "    </tr>\n",
       "  </tbody>\n",
       "</table>\n",
       "<p>2 rows × 430 columns</p>\n",
       "</div>"
      ],
      "text/plain": [
       "          hex_id_8  pobtot  pobfem  pobmas  p_0a2  p_0a2_f  p_0a2_m  p_3ymas  \\\n",
       "0  8849aa2d99fffff   848.0   427.0   421.0   46.0     16.0     24.0    794.0   \n",
       "1  88498c95cbfffff  7259.0  3697.0  3557.0  310.0    149.0    128.0   6899.0   \n",
       "\n",
       "   p_3ymas_f  p_3ymas_m  ...  Z_RTViv_10_20  R_VivHab_20  R_VivDes_20  \\\n",
       "0      403.0      391.0  ...           None     0.716981     0.160377   \n",
       "1     3510.0     3389.0  ...           None     0.839589     0.083110   \n",
       "\n",
       "   Z_RVivHab_20  R_VivHab_10  Z_RVivHab_10  Chng_RVivHab_10  R_TVivDes_10_20  \\\n",
       "0     -0.281484          0.0          None         0.716981             None   \n",
       "1      0.391420          0.0          None         0.839589             None   \n",
       "\n",
       "   DensPob_10_20                                           geometry  \n",
       "0      -2.276028  POLYGON ((-103.32340 20.57940, -103.31887 20.5...  \n",
       "1      -4.227884  POLYGON ((-103.29386 20.71601, -103.28932 20.7...  \n",
       "\n",
       "[2 rows x 430 columns]"
      ]
     },
     "execution_count": 4,
     "metadata": {},
     "output_type": "execute_result"
    }
   ],
   "source": [
    "print(hex_pop.shape)\n",
    "hex_pop.head(2)"
   ]
  },
  {
   "cell_type": "code",
   "execution_count": 5,
   "metadata": {},
   "outputs": [
    {
     "name": "stdout",
     "output_type": "stream",
     "text": [
      "(4095, 4)\n"
     ]
    },
    {
     "data": {
      "text/html": [
       "<div>\n",
       "<style scoped>\n",
       "    .dataframe tbody tr th:only-of-type {\n",
       "        vertical-align: middle;\n",
       "    }\n",
       "\n",
       "    .dataframe tbody tr th {\n",
       "        vertical-align: top;\n",
       "    }\n",
       "\n",
       "    .dataframe thead th {\n",
       "        text-align: right;\n",
       "    }\n",
       "</style>\n",
       "<table border=\"1\" class=\"dataframe\">\n",
       "  <thead>\n",
       "    <tr style=\"text-align: right;\">\n",
       "      <th></th>\n",
       "      <th>hex_id_8</th>\n",
       "      <th>CVEGEO</th>\n",
       "      <th>time_transporte_masivo_V2</th>\n",
       "      <th>geometry</th>\n",
       "    </tr>\n",
       "  </thead>\n",
       "  <tbody>\n",
       "    <tr>\n",
       "      <th>0</th>\n",
       "      <td>8849abc91bfffff</td>\n",
       "      <td>14002</td>\n",
       "      <td>0.000000</td>\n",
       "      <td>POLYGON ((-103.60989 20.39686, -103.61044 20.4...</td>\n",
       "    </tr>\n",
       "    <tr>\n",
       "      <th>1</th>\n",
       "      <td>8849abc953fffff</td>\n",
       "      <td>14002</td>\n",
       "      <td>617.958757</td>\n",
       "      <td>POLYGON ((-103.61277 20.37822, -103.60824 20.3...</td>\n",
       "    </tr>\n",
       "  </tbody>\n",
       "</table>\n",
       "</div>"
      ],
      "text/plain": [
       "          hex_id_8 CVEGEO  time_transporte_masivo_V2  \\\n",
       "0  8849abc91bfffff  14002                   0.000000   \n",
       "1  8849abc953fffff  14002                 617.958757   \n",
       "\n",
       "                                            geometry  \n",
       "0  POLYGON ((-103.60989 20.39686, -103.61044 20.4...  \n",
       "1  POLYGON ((-103.61277 20.37822, -103.60824 20.3...  "
      ]
     },
     "execution_count": 5,
     "metadata": {},
     "output_type": "execute_result"
    }
   ],
   "source": [
    "print(hex_tp.shape)\n",
    "hex_tp.head(2)"
   ]
  },
  {
   "cell_type": "code",
   "execution_count": 6,
   "metadata": {},
   "outputs": [],
   "source": [
    "idx = hex_tp.time_transporte_masivo_V2>0\n",
    "hex_tp = hex_tp[idx].copy()"
   ]
  },
  {
   "cell_type": "code",
   "execution_count": 7,
   "metadata": {},
   "outputs": [],
   "source": [
    "hex_pop = hex_pop[['hex_id_8','T_Pob_10_20','T_Viv_10_20','R_VivDes_20']].copy()"
   ]
  },
  {
   "cell_type": "code",
   "execution_count": 8,
   "metadata": {},
   "outputs": [
    {
     "data": {
      "text/plain": [
       "<AxesSubplot:>"
      ]
     },
     "execution_count": 8,
     "metadata": {},
     "output_type": "execute_result"
    },
    {
     "data": {
      "image/png": "[encoded data removed]",
      "text/plain": [
       "<Figure size 432x288 with 1 Axes>"
      ]
     },
     "metadata": {
      "needs_background": "light"
     },
     "output_type": "display_data"
    }
   ],
   "source": [
    "hex_merge = hex_tp.merge(hex_pop, on='hex_id_8')\n",
    "hex_merge.plot('T_Pob_10_20')"
   ]
  },
  {
   "cell_type": "markdown",
   "metadata": {},
   "source": [
    "## Filter data"
   ]
  },
  {
   "cell_type": "markdown",
   "metadata": {},
   "source": [
    "### Less than 30 min vs More than 30 min"
   ]
  },
  {
   "cell_type": "code",
   "execution_count": 9,
   "metadata": {},
   "outputs": [],
   "source": [
    "sample = 50\n",
    "gdf_near_tp = hex_merge[hex_merge.time_transporte_masivo_V2<=30].sample(n=sample)\n",
    "gdf_far_tp = hex_merge[hex_merge.time_transporte_masivo_V2>30].sample(n=sample)"
   ]
  },
  {
   "cell_type": "markdown",
   "metadata": {},
   "source": [
    "## Analyzing means"
   ]
  },
  {
   "cell_type": "code",
   "execution_count": 10,
   "metadata": {},
   "outputs": [
    {
     "name": "stdout",
     "output_type": "stream",
     "text": [
      "Promedio de cambio de población por distancia a transporte público masivo\n",
      "Menos de 30 minutos: -628.16 personas\n",
      "Más de 30 minutos: 835.18 personas\n"
     ]
    }
   ],
   "source": [
    "print(\"Promedio de cambio de población por distancia a transporte público masivo\")\n",
    "print(f\"Menos de 30 minutos: {gdf_near_tp.T_Pob_10_20.mean()} personas\")\n",
    "print(f\"Más de 30 minutos: {gdf_far_tp.T_Pob_10_20.mean()} personas\")"
   ]
  },
  {
   "cell_type": "markdown",
   "metadata": {},
   "source": [
    "## Boxplot"
   ]
  },
  {
   "cell_type": "code",
   "execution_count": 11,
   "metadata": {},
   "outputs": [],
   "source": [
    "box_plot_tp_analysis = gdf_near_tp.copy()\n",
    "box_plot_tp_analysis['distance_tp'] = 'Menos de 30 minutos'\n",
    "box_plot_tp_analysis = box_plot_tp_analysis.append(gdf_far_tp)\n",
    "idx = box_plot_tp_analysis['distance_tp'].isna()\n",
    "box_plot_tp_analysis.loc[idx, 'distance_tp'] = 'Más de 30 minutos'"
   ]
  },
  {
   "cell_type": "code",
   "execution_count": 12,
   "metadata": {},
   "outputs": [
    {
     "data": {
      "text/plain": [
       "Text(0, 0.5, 'Cambio en la población (2010 vs 2020)')"
      ]
     },
     "execution_count": 12,
     "metadata": {},
     "output_type": "execute_result"
    },
    {
     "data": {
      "image/png": "[encoded data removed]",
      "text/plain": [
       "<Figure size 720x720 with 1 Axes>"
      ]
     },
     "metadata": {
      "needs_background": "light"
     },
     "output_type": "display_data"
    }
   ],
   "source": [
    "gdf_nearfig, ax = plt.subplots(figsize=(10,10))\n",
    "\n",
    "x = np.array(box_plot_tp_analysis.distance_tp)\n",
    "y = np.array(box_plot_tp_analysis.T_Pob_10_20)\n",
    "\n",
    "sns.boxplot(x=x , y=y, ax=ax)\n",
    "\n",
    "plt.xlabel('Distancia a transporte público masivo')\n",
    "plt.ylabel('Cambio en la población (2010 vs 2020)')"
   ]
  },
  {
   "cell_type": "markdown",
   "metadata": {},
   "source": [
    "## t-test"
   ]
  },
  {
   "cell_type": "code",
   "execution_count": 13,
   "metadata": {},
   "outputs": [
    {
     "data": {
      "text/plain": [
       "Ttest_indResult(statistic=-5.500723047822409, pvalue=3.0178205804045603e-07)"
      ]
     },
     "execution_count": 13,
     "metadata": {},
     "output_type": "execute_result"
    }
   ],
   "source": [
    "stats.ttest_ind(gdf_near_tp.T_Pob_10_20, gdf_far_tp.T_Pob_10_20)"
   ]
  },
  {
   "cell_type": "markdown",
   "metadata": {},
   "source": [
    "## Inner periférico - near vs far to public transport"
   ]
  },
  {
   "cell_type": "code",
   "execution_count": 14,
   "metadata": {},
   "outputs": [
    {
     "name": "stdout",
     "output_type": "stream",
     "text": [
      "(1160, 4)\n"
     ]
    },
    {
     "data": {
      "text/html": [
       "<div>\n",
       "<style scoped>\n",
       "    .dataframe tbody tr th:only-of-type {\n",
       "        vertical-align: middle;\n",
       "    }\n",
       "\n",
       "    .dataframe tbody tr th {\n",
       "        vertical-align: top;\n",
       "    }\n",
       "\n",
       "    .dataframe thead th {\n",
       "        text-align: right;\n",
       "    }\n",
       "</style>\n",
       "<table border=\"1\" class=\"dataframe\">\n",
       "  <thead>\n",
       "    <tr style=\"text-align: right;\">\n",
       "      <th></th>\n",
       "      <th>fid</th>\n",
       "      <th>hex_id_8</th>\n",
       "      <th>Periferico</th>\n",
       "      <th>geometry</th>\n",
       "    </tr>\n",
       "  </thead>\n",
       "  <tbody>\n",
       "    <tr>\n",
       "      <th>0</th>\n",
       "      <td>1</td>\n",
       "      <td>8849aa2d99fffff</td>\n",
       "      <td>1</td>\n",
       "      <td>POLYGON ((-103.32340 20.57940, -103.31887 20.5...</td>\n",
       "    </tr>\n",
       "    <tr>\n",
       "      <th>1</th>\n",
       "      <td>2</td>\n",
       "      <td>88498c95cbfffff</td>\n",
       "      <td>0</td>\n",
       "      <td>POLYGON ((-103.29386 20.71601, -103.28932 20.7...</td>\n",
       "    </tr>\n",
       "  </tbody>\n",
       "</table>\n",
       "</div>"
      ],
      "text/plain": [
       "   fid         hex_id_8  Periferico  \\\n",
       "0    1  8849aa2d99fffff           1   \n",
       "1    2  88498c95cbfffff           0   \n",
       "\n",
       "                                            geometry  \n",
       "0  POLYGON ((-103.32340 20.57940, -103.31887 20.5...  \n",
       "1  POLYGON ((-103.29386 20.71601, -103.28932 20.7...  "
      ]
     },
     "execution_count": 14,
     "metadata": {},
     "output_type": "execute_result"
    }
   ],
   "source": [
    "hex_peri = gpd.read_file(grl_dir+'/Medio_Urbano/Vias_Transporte/AMG_HexRes8_Periferico_GCS_OC22_v1.geojson', driver='GeoJSON')\n",
    "print(hex_peri.shape)\n",
    "hex_peri.head(2)"
   ]
  },
  {
   "cell_type": "code",
   "execution_count": 15,
   "metadata": {},
   "outputs": [
    {
     "data": {
      "text/plain": [
       "<AxesSubplot:>"
      ]
     },
     "execution_count": 15,
     "metadata": {},
     "output_type": "execute_result"
    },
    {
     "data": {
      "image/png": "[encoded data removed]",
      "text/plain": [
       "<Figure size 432x288 with 1 Axes>"
      ]
     },
     "metadata": {
      "needs_background": "light"
     },
     "output_type": "display_data"
    }
   ],
   "source": [
    "hex_merge_peri = hex_merge.merge(hex_peri[['hex_id_8','Periferico']], on='hex_id_8')\n",
    "hex_merge_peri.plot('T_Pob_10_20')"
   ]
  },
  {
   "cell_type": "code",
   "execution_count": 16,
   "metadata": {},
   "outputs": [],
   "source": [
    "sample = 50\n",
    "gdf_near_tp = hex_merge_peri[(hex_merge_peri.time_transporte_masivo_V2<=30)&\n",
    "                       (hex_merge_peri.Periferico==1)].sample(n=sample)\n",
    "gdf_far_tp = hex_merge_peri[(hex_merge_peri.time_transporte_masivo_V2>30)&\n",
    "                       (hex_merge_peri.Periferico==1)].sample(n=sample)"
   ]
  },
  {
   "cell_type": "code",
   "execution_count": 17,
   "metadata": {},
   "outputs": [
    {
     "name": "stdout",
     "output_type": "stream",
     "text": [
      "Promedio de cambio de población por distancia a transporte público masivo\n",
      "Menos de 30 minutos: -593.88 personas\n",
      "Más de 30 minutos: 74.16 personas\n"
     ]
    }
   ],
   "source": [
    "print(\"Promedio de cambio de población por distancia a transporte público masivo\")\n",
    "print(f\"Menos de 30 minutos: {gdf_near_tp.T_Pob_10_20.mean()} personas\")\n",
    "print(f\"Más de 30 minutos: {gdf_far_tp.T_Pob_10_20.mean()} personas\")"
   ]
  },
  {
   "cell_type": "code",
   "execution_count": 18,
   "metadata": {},
   "outputs": [],
   "source": [
    "box_plot_tp_analysis = gdf_near_tp.copy()\n",
    "box_plot_tp_analysis['distance_tp'] = 'Menos de 30 minutos'\n",
    "box_plot_tp_analysis = box_plot_tp_analysis.append(gdf_far_tp)\n",
    "idx = box_plot_tp_analysis['distance_tp'].isna()\n",
    "box_plot_tp_analysis.loc[idx, 'distance_tp'] = 'Más de 30 minutos'"
   ]
  },
  {
   "cell_type": "code",
   "execution_count": 19,
   "metadata": {},
   "outputs": [
    {
     "data": {
      "text/plain": [
       "Text(0, 0.5, 'Cambio en la población (2010 vs 2020)')"
      ]
     },
     "execution_count": 19,
     "metadata": {},
     "output_type": "execute_result"
    },
    {
     "data": {
      "image/png": "[encoded data removed]",
      "text/plain": [
       "<Figure size 720x720 with 1 Axes>"
      ]
     },
     "metadata": {
      "needs_background": "light"
     },
     "output_type": "display_data"
    }
   ],
   "source": [
    "gdf_nearfig, ax = plt.subplots(figsize=(10,10))\n",
    "\n",
    "x = np.array(box_plot_tp_analysis.distance_tp)\n",
    "y = np.array(box_plot_tp_analysis.T_Pob_10_20)\n",
    "\n",
    "sns.boxplot(x=x , y=y, ax=ax)\n",
    "\n",
    "plt.xlabel('Distancia a transporte público masivo')\n",
    "plt.ylabel('Cambio en la población (2010 vs 2020)')"
   ]
  },
  {
   "cell_type": "code",
   "execution_count": 20,
   "metadata": {},
   "outputs": [
    {
     "data": {
      "text/plain": [
       "Ttest_indResult(statistic=-3.797354066545206, pvalue=0.00025362783903554604)"
      ]
     },
     "execution_count": 20,
     "metadata": {},
     "output_type": "execute_result"
    }
   ],
   "source": [
    "stats.ttest_ind(gdf_near_tp.T_Pob_10_20, gdf_far_tp.T_Pob_10_20)"
   ]
  },
  {
   "cell_type": "code",
   "execution_count": 21,
   "metadata": {},
   "outputs": [],
   "source": [
    "dict_tmp = {}\n",
    "\n",
    "for i in range(100):\n",
    "    sample = 50\n",
    "    gdf_near_tp = hex_merge_peri[(hex_merge_peri.time_transporte_masivo_V2<=30)&\n",
    "                           (hex_merge_peri.Periferico==1)].sample(n=sample)\n",
    "    gdf_far_tp = hex_merge_peri[(hex_merge_peri.time_transporte_masivo_V2>30)&\n",
    "                           (hex_merge_peri.Periferico==1)].sample(n=sample)\n",
    "    \n",
    "    _, pvalue = stats.ttest_ind(gdf_near_tp.T_Pob_10_20, gdf_far_tp.T_Pob_10_20)\n",
    "    \n",
    "    dict_tmp[i] = {'mean_near':gdf_near_tp.T_Pob_10_20.mean(),\n",
    "                  'mean_far':gdf_far_tp.T_Pob_10_20.mean(),\n",
    "                  'pvalue':pvalue}"
   ]
  },
  {
   "cell_type": "code",
   "execution_count": 22,
   "metadata": {},
   "outputs": [
    {
     "name": "stdout",
     "output_type": "stream",
     "text": [
      "(100, 3)\n"
     ]
    },
    {
     "data": {
      "text/html": [
       "<div>\n",
       "<style scoped>\n",
       "    .dataframe tbody tr th:only-of-type {\n",
       "        vertical-align: middle;\n",
       "    }\n",
       "\n",
       "    .dataframe tbody tr th {\n",
       "        vertical-align: top;\n",
       "    }\n",
       "\n",
       "    .dataframe thead th {\n",
       "        text-align: right;\n",
       "    }\n",
       "</style>\n",
       "<table border=\"1\" class=\"dataframe\">\n",
       "  <thead>\n",
       "    <tr style=\"text-align: right;\">\n",
       "      <th></th>\n",
       "      <th>mean_near</th>\n",
       "      <th>mean_far</th>\n",
       "      <th>pvalue</th>\n",
       "    </tr>\n",
       "  </thead>\n",
       "  <tbody>\n",
       "    <tr>\n",
       "      <th>0</th>\n",
       "      <td>-394.82</td>\n",
       "      <td>51.46</td>\n",
       "      <td>0.025905</td>\n",
       "    </tr>\n",
       "    <tr>\n",
       "      <th>1</th>\n",
       "      <td>-712.00</td>\n",
       "      <td>-185.84</td>\n",
       "      <td>0.002146</td>\n",
       "    </tr>\n",
       "  </tbody>\n",
       "</table>\n",
       "</div>"
      ],
      "text/plain": [
       "   mean_near  mean_far    pvalue\n",
       "0    -394.82     51.46  0.025905\n",
       "1    -712.00   -185.84  0.002146"
      ]
     },
     "execution_count": 22,
     "metadata": {},
     "output_type": "execute_result"
    }
   ],
   "source": [
    "df_ttest = pd.DataFrame.from_dict(dict_tmp).transpose()\n",
    "print(df_ttest.shape)\n",
    "df_ttest.head(2)"
   ]
  },
  {
   "cell_type": "code",
   "execution_count": 23,
   "metadata": {},
   "outputs": [
    {
     "data": {
      "text/html": [
       "<div>\n",
       "<style scoped>\n",
       "    .dataframe tbody tr th:only-of-type {\n",
       "        vertical-align: middle;\n",
       "    }\n",
       "\n",
       "    .dataframe tbody tr th {\n",
       "        vertical-align: top;\n",
       "    }\n",
       "\n",
       "    .dataframe thead th {\n",
       "        text-align: right;\n",
       "    }\n",
       "</style>\n",
       "<table border=\"1\" class=\"dataframe\">\n",
       "  <thead>\n",
       "    <tr style=\"text-align: right;\">\n",
       "      <th></th>\n",
       "      <th>mean_near</th>\n",
       "      <th>mean_far</th>\n",
       "      <th>pvalue</th>\n",
       "    </tr>\n",
       "  </thead>\n",
       "  <tbody>\n",
       "    <tr>\n",
       "      <th>0</th>\n",
       "      <td>-394.82</td>\n",
       "      <td>51.46</td>\n",
       "      <td>0.025905</td>\n",
       "    </tr>\n",
       "    <tr>\n",
       "      <th>33</th>\n",
       "      <td>-467.92</td>\n",
       "      <td>-117.38</td>\n",
       "      <td>0.066798</td>\n",
       "    </tr>\n",
       "    <tr>\n",
       "      <th>43</th>\n",
       "      <td>-438.92</td>\n",
       "      <td>-139.98</td>\n",
       "      <td>0.120324</td>\n",
       "    </tr>\n",
       "    <tr>\n",
       "      <th>45</th>\n",
       "      <td>-467.56</td>\n",
       "      <td>-137.12</td>\n",
       "      <td>0.064989</td>\n",
       "    </tr>\n",
       "    <tr>\n",
       "      <th>74</th>\n",
       "      <td>-508.42</td>\n",
       "      <td>-234.96</td>\n",
       "      <td>0.145132</td>\n",
       "    </tr>\n",
       "  </tbody>\n",
       "</table>\n",
       "</div>"
      ],
      "text/plain": [
       "    mean_near  mean_far    pvalue\n",
       "0     -394.82     51.46  0.025905\n",
       "33    -467.92   -117.38  0.066798\n",
       "43    -438.92   -139.98  0.120324\n",
       "45    -467.56   -137.12  0.064989\n",
       "74    -508.42   -234.96  0.145132"
      ]
     },
     "execution_count": 23,
     "metadata": {},
     "output_type": "execute_result"
    }
   ],
   "source": [
    "idx = df_ttest.pvalue > 0.025\n",
    "df_ttest[idx]"
   ]
  },
  {
   "cell_type": "code",
   "execution_count": 24,
   "metadata": {},
   "outputs": [
    {
     "data": {
      "text/html": [
       "<div>\n",
       "<style scoped>\n",
       "    .dataframe tbody tr th:only-of-type {\n",
       "        vertical-align: middle;\n",
       "    }\n",
       "\n",
       "    .dataframe tbody tr th {\n",
       "        vertical-align: top;\n",
       "    }\n",
       "\n",
       "    .dataframe thead th {\n",
       "        text-align: right;\n",
       "    }\n",
       "</style>\n",
       "<table border=\"1\" class=\"dataframe\">\n",
       "  <thead>\n",
       "    <tr style=\"text-align: right;\">\n",
       "      <th></th>\n",
       "      <th>mean_near</th>\n",
       "      <th>mean_far</th>\n",
       "      <th>pvalue</th>\n",
       "    </tr>\n",
       "  </thead>\n",
       "  <tbody>\n",
       "  </tbody>\n",
       "</table>\n",
       "</div>"
      ],
      "text/plain": [
       "Empty DataFrame\n",
       "Columns: [mean_near, mean_far, pvalue]\n",
       "Index: []"
      ]
     },
     "execution_count": 24,
     "metadata": {},
     "output_type": "execute_result"
    }
   ],
   "source": [
    "idx = df_ttest.mean_near > df_ttest.mean_far\n",
    "df_ttest[idx]"
   ]
  },
  {
   "cell_type": "code",
   "execution_count": null,
   "metadata": {},
   "outputs": [],
   "source": []
  }
 ],
 "metadata": {
  "kernelspec": {
   "display_name": "Python 3 (ipykernel)",
   "language": "python",
   "name": "python3"
  },
  "language_info": {
   "codemirror_mode": {
    "name": "ipython",
    "version": 3
   },
   "file_extension": ".py",
   "mimetype": "text/x-python",
   "name": "python",
   "nbconvert_exporter": "python",
   "pygments_lexer": "ipython3",
   "version": "3.10.4"
  }
 },
 "nbformat": 4,
 "nbformat_minor": 4
}
