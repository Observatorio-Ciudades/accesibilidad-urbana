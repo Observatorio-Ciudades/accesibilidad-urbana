{
 "cells": [
  {
   "cell_type": "markdown",
   "id": "6eaee58d-ba54-4d82-b4e8-8863dcf7e0d4",
   "metadata": {},
   "source": [
    "# __Commonly used querries__"
   ]
  },
  {
   "cell_type": "markdown",
   "id": "5bb0d6aa-355c-496a-89ca-a9e93a1641d8",
   "metadata": {},
   "source": [
    "This notebook contains:\n",
    "* __Querring everything filtering using one column ['=']__\n",
    "* __Querring everything filtering using two or more columns ['=']__\n",
    "* __Querring specific data from specific hexs ('IN' tupple) and setting index__\n",
    "* __Querring by filtering similar data ['LIKE'], for example for data starting with something [{data}%]. Data ending with something would be [%{data}] AND using WKT Geometry.__"
   ]
  },
  {
   "cell_type": "markdown",
   "id": "fb95295a-c085-44a6-8c1e-2aa523502b04",
   "metadata": {},
   "source": [
    "## __Import libraries__"
   ]
  },
  {
   "cell_type": "code",
   "execution_count": 1,
   "id": "396c6827-d2df-41b1-b532-bc5a427bed08",
   "metadata": {},
   "outputs": [
    {
     "name": "stdout",
     "output_type": "stream",
     "text": [
      "/home/jovyan/accesibilidad-urbana\n"
     ]
    }
   ],
   "source": [
    "from pathlib import Path\n",
    "\n",
    "current_path = Path().resolve()\n",
    "\n",
    "for parent in current_path.parents:\n",
    "    if parent.name == \"accesibilidad-urbana\":\n",
    "        project_root = parent\n",
    "        break\n",
    "\n",
    "print(project_root)"
   ]
  },
  {
   "cell_type": "code",
   "execution_count": 2,
   "id": "5e5e0f6c-d53c-4364-b7c4-ce8b7e016fe4",
   "metadata": {},
   "outputs": [
    {
     "name": "stdout",
     "output_type": "stream",
     "text": [
      "Path found.\n"
     ]
    }
   ],
   "source": [
    "import os\n",
    "import sys\n",
    "\n",
    "import pandas as pd\n",
    "import geopandas as gpd\n",
    "import numpy as np\n",
    "\n",
    "import matplotlib.pyplot as plt\n",
    "from matplotlib import colors\n",
    "import seaborn as sns\n",
    "\n",
    "from pandas.api.types import CategoricalDtype\n",
    "\n",
    "import warnings\n",
    "warnings.simplefilter(action='ignore', category=FutureWarning)\n",
    "\n",
    "module_path = os.path.abspath(os.path.join(project_root))\n",
    "if module_path not in sys.path:\n",
    "    print(f\"Path found.\")\n",
    "    sys.path.append(module_path)\n",
    "    import aup\n",
    "else:\n",
    "    print(f\"Path NOT found.\")\n",
    "    import aup"
   ]
  },
  {
   "cell_type": "markdown",
   "id": "01acb427-ec6e-4214-a571-8e254cc726a8",
   "metadata": {},
   "source": [
    "## __Notebook config__"
   ]
  },
  {
   "cell_type": "code",
   "execution_count": 3,
   "id": "411de6bf-1c82-457a-944e-dda1fe7c2de0",
   "metadata": {},
   "outputs": [],
   "source": [
    "res = 8\n",
    "city = 'Aguascalientes'"
   ]
  },
  {
   "cell_type": "markdown",
   "id": "20f1ce90-d5b0-45aa-be3b-cf5887e87a85",
   "metadata": {},
   "source": [
    "## __Load data__"
   ]
  },
  {
   "cell_type": "markdown",
   "id": "cfdb21e8-59a2-4328-8c5e-7b34eaf6967d",
   "metadata": {},
   "source": [
    "### __Load data__ - Everything filtering using one column __['=']__"
   ]
  },
  {
   "cell_type": "markdown",
   "id": "ba3865f1-671f-46bd-85bf-fb230aaa8c11",
   "metadata": {},
   "source": [
    "#### __Example:__ Select the hexgrid for Aguascalientes."
   ]
  },
  {
   "cell_type": "code",
   "execution_count": 13,
   "id": "b7584eeb-9451-4f46-8e43-89eb38e574f0",
   "metadata": {},
   "outputs": [
    {
     "name": "stdout",
     "output_type": "stream",
     "text": [
      "epsg:4326\n",
      "(2088, 6)\n"
     ]
    },
    {
     "data": {
      "text/html": [
       "<div>\n",
       "<style scoped>\n",
       "    .dataframe tbody tr th:only-of-type {\n",
       "        vertical-align: middle;\n",
       "    }\n",
       "\n",
       "    .dataframe tbody tr th {\n",
       "        vertical-align: top;\n",
       "    }\n",
       "\n",
       "    .dataframe thead th {\n",
       "        text-align: right;\n",
       "    }\n",
       "</style>\n",
       "<table border=\"1\" class=\"dataframe\">\n",
       "  <thead>\n",
       "    <tr style=\"text-align: right;\">\n",
       "      <th></th>\n",
       "      <th>hex_id_8</th>\n",
       "      <th>geometry</th>\n",
       "      <th>CVEGEO</th>\n",
       "      <th>NOMGEO</th>\n",
       "      <th>city</th>\n",
       "      <th>type</th>\n",
       "    </tr>\n",
       "  </thead>\n",
       "  <tbody>\n",
       "    <tr>\n",
       "      <th>0</th>\n",
       "      <td>88498e3289fffff</td>\n",
       "      <td>POLYGON ((-102.16756 21.82626, -102.16297 21.8...</td>\n",
       "      <td>01001</td>\n",
       "      <td>Aguascalientes</td>\n",
       "      <td>Aguascalientes</td>\n",
       "      <td>rural</td>\n",
       "    </tr>\n",
       "    <tr>\n",
       "      <th>1</th>\n",
       "      <td>88498eaf5bfffff</td>\n",
       "      <td>POLYGON ((-102.25389 21.70855, -102.24930 21.7...</td>\n",
       "      <td>01001</td>\n",
       "      <td>Aguascalientes</td>\n",
       "      <td>Aguascalientes</td>\n",
       "      <td>rural</td>\n",
       "    </tr>\n",
       "  </tbody>\n",
       "</table>\n",
       "</div>"
      ],
      "text/plain": [
       "          hex_id_8                                           geometry CVEGEO   \n",
       "0  88498e3289fffff  POLYGON ((-102.16756 21.82626, -102.16297 21.8...  01001  \\\n",
       "1  88498eaf5bfffff  POLYGON ((-102.25389 21.70855, -102.24930 21.7...  01001   \n",
       "\n",
       "           NOMGEO            city   type  \n",
       "0  Aguascalientes  Aguascalientes  rural  \n",
       "1  Aguascalientes  Aguascalientes  rural  "
      ]
     },
     "execution_count": 13,
     "metadata": {},
     "output_type": "execute_result"
    }
   ],
   "source": [
    "hex_schema = 'hexgrid'\n",
    "hex_table = f'hexgrid_{res}_city_2020'\n",
    "query = f\"SELECT * FROM {hex_schema}.{hex_table} WHERE \\\"city\\\" = '{city}\\'\"\n",
    "hex_gdf = aup.gdf_from_query(query, geometry_col='geometry')\n",
    "\n",
    "# Show\n",
    "print(hex_gdf.crs)\n",
    "print(hex_gdf.shape)\n",
    "hex_gdf.head(2)"
   ]
  },
  {
   "cell_type": "markdown",
   "id": "36b86f89-a72d-4c50-b6dc-42d25ee0121b",
   "metadata": {},
   "source": [
    "### __Load data__ - Everything filtering using two or more columns __['=']__"
   ]
  },
  {
   "cell_type": "markdown",
   "id": "409daed5-c698-44c5-aeb4-8f8cf762e9b2",
   "metadata": {},
   "source": [
    "#### __Example:__ Select NDVI res 8 hexs for Aguascalientes."
   ]
  },
  {
   "cell_type": "code",
   "execution_count": 8,
   "id": "ea26ffb6-06fd-456f-acc6-c24beda5f145",
   "metadata": {},
   "outputs": [
    {
     "name": "stdout",
     "output_type": "stream",
     "text": [
      "epsg:4326\n",
      "(497, 17)\n"
     ]
    },
    {
     "data": {
      "text/html": [
       "<div>\n",
       "<style scoped>\n",
       "    .dataframe tbody tr th:only-of-type {\n",
       "        vertical-align: middle;\n",
       "    }\n",
       "\n",
       "    .dataframe tbody tr th {\n",
       "        vertical-align: top;\n",
       "    }\n",
       "\n",
       "    .dataframe thead th {\n",
       "        text-align: right;\n",
       "    }\n",
       "</style>\n",
       "<table border=\"1\" class=\"dataframe\">\n",
       "  <thead>\n",
       "    <tr style=\"text-align: right;\">\n",
       "      <th></th>\n",
       "      <th>hex_id</th>\n",
       "      <th>geometry</th>\n",
       "      <th>res</th>\n",
       "      <th>ndvi_mean</th>\n",
       "      <th>ndvi_std</th>\n",
       "      <th>ndvi_median</th>\n",
       "      <th>ndvi_max</th>\n",
       "      <th>ndvi_min</th>\n",
       "      <th>ndvi_diff</th>\n",
       "      <th>ndvi_tend</th>\n",
       "      <th>ndvi_2018</th>\n",
       "      <th>ndvi_2019</th>\n",
       "      <th>ndvi_2020</th>\n",
       "      <th>ndvi_2021</th>\n",
       "      <th>ndvi_2022</th>\n",
       "      <th>ndvi_2023</th>\n",
       "      <th>city</th>\n",
       "    </tr>\n",
       "  </thead>\n",
       "  <tbody>\n",
       "    <tr>\n",
       "      <th>0</th>\n",
       "      <td>884988c925fffff</td>\n",
       "      <td>POLYGON ((-102.28685 22.05204, -102.28225 22.0...</td>\n",
       "      <td>8</td>\n",
       "      <td>0.353244</td>\n",
       "      <td>0.141792</td>\n",
       "      <td>0.324724</td>\n",
       "      <td>0.564735</td>\n",
       "      <td>0.214358</td>\n",
       "      <td>0.350377</td>\n",
       "      <td>-0.003216</td>\n",
       "      <td>0.443614</td>\n",
       "      <td>0.396490</td>\n",
       "      <td>0.399436</td>\n",
       "      <td>0.399499</td>\n",
       "      <td>0.254128</td>\n",
       "      <td>0.226298</td>\n",
       "      <td>Aguascalientes</td>\n",
       "    </tr>\n",
       "    <tr>\n",
       "      <th>1</th>\n",
       "      <td>884988c965fffff</td>\n",
       "      <td>POLYGON ((-102.28945 22.02819, -102.28485 22.0...</td>\n",
       "      <td>8</td>\n",
       "      <td>0.248166</td>\n",
       "      <td>0.116135</td>\n",
       "      <td>0.219866</td>\n",
       "      <td>0.426775</td>\n",
       "      <td>0.141360</td>\n",
       "      <td>0.285415</td>\n",
       "      <td>-0.001990</td>\n",
       "      <td>0.314617</td>\n",
       "      <td>0.263361</td>\n",
       "      <td>0.290980</td>\n",
       "      <td>0.289999</td>\n",
       "      <td>0.175155</td>\n",
       "      <td>0.154886</td>\n",
       "      <td>Aguascalientes</td>\n",
       "    </tr>\n",
       "  </tbody>\n",
       "</table>\n",
       "</div>"
      ],
      "text/plain": [
       "            hex_id                                           geometry  res   \n",
       "0  884988c925fffff  POLYGON ((-102.28685 22.05204, -102.28225 22.0...    8  \\\n",
       "1  884988c965fffff  POLYGON ((-102.28945 22.02819, -102.28485 22.0...    8   \n",
       "\n",
       "   ndvi_mean  ndvi_std  ndvi_median  ndvi_max  ndvi_min  ndvi_diff  ndvi_tend   \n",
       "0   0.353244  0.141792     0.324724  0.564735  0.214358   0.350377  -0.003216  \\\n",
       "1   0.248166  0.116135     0.219866  0.426775  0.141360   0.285415  -0.001990   \n",
       "\n",
       "   ndvi_2018  ndvi_2019  ndvi_2020  ndvi_2021  ndvi_2022  ndvi_2023   \n",
       "0   0.443614   0.396490   0.399436   0.399499   0.254128   0.226298  \\\n",
       "1   0.314617   0.263361   0.290980   0.289999   0.175155   0.154886   \n",
       "\n",
       "             city  \n",
       "0  Aguascalientes  \n",
       "1  Aguascalientes  "
      ]
     },
     "execution_count": 8,
     "metadata": {},
     "output_type": "execute_result"
    }
   ],
   "source": [
    "ndvi_schema = 'raster_analysis'\n",
    "ndvi_table = 'ndvi_analysis_hex'\n",
    "\n",
    "query = f\"SELECT * FROM {ndvi_schema}.{ndvi_folder} WHERE \\\"city\\\" = \\'{city}\\' AND \\\"res\\\"={res}\"\n",
    "ndvi_gdf = aup.gdf_from_query(query, geometry_col='geometry')\n",
    "\n",
    "# Show\n",
    "print(ndvi_gdf.crs)\n",
    "print(ndvi_gdf.shape)\n",
    "ndvi_gdf.head(2)"
   ]
  },
  {
   "cell_type": "markdown",
   "id": "dd6d78c3-c077-4284-a747-b4a976a2ec70",
   "metadata": {},
   "source": [
    "### __Load data__ - __Specific data__ from specific hexs __('IN' tupple)__ and __setting index__"
   ]
  },
  {
   "cell_type": "markdown",
   "id": "9fa9558a-28e4-42a8-af25-4705b41594ac",
   "metadata": {},
   "source": [
    "#### __Example:__ Load specific columns for the previously loaded hexs in Aguascalientes."
   ]
  },
  {
   "cell_type": "code",
   "execution_count": 12,
   "id": "3b605bfd-16be-4dfe-ada4-92f7a3cfc9ac",
   "metadata": {},
   "outputs": [
    {
     "name": "stdout",
     "output_type": "stream",
     "text": [
      "epsg:4326\n",
      "(296, 3)\n"
     ]
    },
    {
     "data": {
      "text/html": [
       "<div>\n",
       "<style scoped>\n",
       "    .dataframe tbody tr th:only-of-type {\n",
       "        vertical-align: middle;\n",
       "    }\n",
       "\n",
       "    .dataframe tbody tr th {\n",
       "        vertical-align: top;\n",
       "    }\n",
       "\n",
       "    .dataframe thead th {\n",
       "        text-align: right;\n",
       "    }\n",
       "</style>\n",
       "<table border=\"1\" class=\"dataframe\">\n",
       "  <thead>\n",
       "    <tr style=\"text-align: right;\">\n",
       "      <th></th>\n",
       "      <th>vivtot</th>\n",
       "      <th>tvivparhab</th>\n",
       "      <th>geometry</th>\n",
       "    </tr>\n",
       "    <tr>\n",
       "      <th>hex_id</th>\n",
       "      <th></th>\n",
       "      <th></th>\n",
       "      <th></th>\n",
       "    </tr>\n",
       "  </thead>\n",
       "  <tbody>\n",
       "    <tr>\n",
       "      <th>88498e3639fffff</th>\n",
       "      <td>2303.4253</td>\n",
       "      <td>2046.1935</td>\n",
       "      <td>POLYGON ((-102.27184 21.89588, -102.26725 21.8...</td>\n",
       "    </tr>\n",
       "    <tr>\n",
       "      <th>88498e3657fffff</th>\n",
       "      <td>2167.7020</td>\n",
       "      <td>1704.0713</td>\n",
       "      <td>POLYGON ((-102.28972 21.87858, -102.28512 21.8...</td>\n",
       "    </tr>\n",
       "  </tbody>\n",
       "</table>\n",
       "</div>"
      ],
      "text/plain": [
       "                    vivtot  tvivparhab   \n",
       "hex_id                                   \n",
       "88498e3639fffff  2303.4253   2046.1935  \\\n",
       "88498e3657fffff  2167.7020   1704.0713   \n",
       "\n",
       "                                                          geometry  \n",
       "hex_id                                                              \n",
       "88498e3639fffff  POLYGON ((-102.27184 21.89588, -102.26725 21.8...  \n",
       "88498e3657fffff  POLYGON ((-102.28972 21.87858, -102.28512 21.8...  "
      ]
     },
     "execution_count": 12,
     "metadata": {},
     "output_type": "execute_result"
    }
   ],
   "source": [
    "hex_ids_tuple = tuple(hex_gdf.hex_id_8.unique())\n",
    "\n",
    "censo_folder = 'sociodemografico' \n",
    "censo_table = 'censo_inegi_20_ageb_hex'\n",
    "\n",
    "query = f\"SELECT hex_id, vivtot, tvivparhab, geometry FROM {censo_folder}.{censo_table} WHERE hex_id IN {str(hex_ids_tuple)}\"\n",
    "hex_censo = aup.gdf_from_query(query, geometry_col=\"geometry\", index_col=\"hex_id\")\n",
    "\n",
    "# Show\n",
    "print(hex_censo.crs)\n",
    "print(hex_censo.shape)\n",
    "hex_censo.head(2)"
   ]
  },
  {
   "cell_type": "markdown",
   "id": "750de2d5-78b2-4092-a114-bfa0d82e8612",
   "metadata": {},
   "source": [
    "### __Load data__ - Filtering similar data __['LIKE']__, for example for __data starting with something [{data}%]__. Data ending with something would be [%{data}] AND using __WKT Geometry__."
   ]
  },
  {
   "cell_type": "markdown",
   "id": "24c988ee-35de-4e98-a2ea-d473858432d3",
   "metadata": {},
   "source": [
    "#### __Example:__ Load DENUE's industry for the previously loaded hex area in Aguascalientes."
   ]
  },
  {
   "cell_type": "code",
   "execution_count": 19,
   "id": "a9c4637b-92c6-4b9e-a9bd-675413fe0569",
   "metadata": {},
   "outputs": [
    {
     "name": "stdout",
     "output_type": "stream",
     "text": [
      "['311612', '314912', '312112', '311520', '311813', '311910', '311812', '311830', '312149', '312113', '315229', '316999', '314120', '313210', '316211', '314991', '315192', '315223', '311922', '311611', '311423', '311820', '311513', '311110', '313310', '313230', '311613', '314911', '315224', '316991', '315225', '311340', '313220', '316219', '312111', '315999', '311213', '311930', '311411', '311421', '311614', '311999', '316214', '311993', '312142', '311350', '311511', '315110', '313240', '315991', '311230', '313112', '311940', '316212', '315222', '315210', '311214', '311422', '315221', '312120', '311212', '314992', '313113', '327320', '322210', '321999', '326110', '321910', '323119', '327121', '327991', '327420', '325610', '321992', '322299', '325510', '326193', '325211', '325412', '323111', '326120', '325620', '321920', '326150', '326212', '325993', '326194', '327211', '326140', '326192', '322230', '327219', '326191', '326198', '325310', '326130', '322220', '327330', '327215', '326199', '326290', '326220', '327999', '322132', '327111', '323120', '327391', '321993', '324120', '327310', '327399', '321210', '327410', '327123', '325999', '327112', '325320', '337210', '335312', '332999', '332710', '337110', '334110', '336360', '337120', '332110', '336370', '332320', '339920', '333412', '332310', '339999', '339913', '332420', '336210', '337920', '333999', '339914', '339930', '336330', '336350', '336320', '336510', '333244', '339912', '332810', '333111', '339111', '332610', '336310', '333991', '331510', '333993', '333319', '335930', '333920', '339991', '332211', '331220', '336340', '334410', '331420', '331520', '332410', '339950', '333245', '333910', '332430', '333510', '336390', '333411', '333249', '339994', '335920', '339113', '331310', '336999', '332212', '339112', '333112', '333130', '332910', '339940', '333243', '339993', '333610', '336110', '331111', '331210', '335120', '332720', '334310', '334220', '334519', '335999', '335220', '332510', '336991', '336992', '334290']\n",
      "epsg:4326\n",
      "(5054, 43)\n"
     ]
    },
    {
     "data": {
      "text/html": [
       "<div>\n",
       "<style scoped>\n",
       "    .dataframe tbody tr th:only-of-type {\n",
       "        vertical-align: middle;\n",
       "    }\n",
       "\n",
       "    .dataframe tbody tr th {\n",
       "        vertical-align: top;\n",
       "    }\n",
       "\n",
       "    .dataframe thead th {\n",
       "        text-align: right;\n",
       "    }\n",
       "</style>\n",
       "<table border=\"1\" class=\"dataframe\">\n",
       "  <thead>\n",
       "    <tr style=\"text-align: right;\">\n",
       "      <th></th>\n",
       "      <th>id</th>\n",
       "      <th>clee</th>\n",
       "      <th>nom_estab</th>\n",
       "      <th>raz_social</th>\n",
       "      <th>codigo_act</th>\n",
       "      <th>nombre_act</th>\n",
       "      <th>per_ocu</th>\n",
       "      <th>tipo_vial</th>\n",
       "      <th>nom_vial</th>\n",
       "      <th>tipo_v_e_1</th>\n",
       "      <th>...</th>\n",
       "      <th>ageb</th>\n",
       "      <th>manzana</th>\n",
       "      <th>telefono</th>\n",
       "      <th>correoelec</th>\n",
       "      <th>www</th>\n",
       "      <th>tipounieco</th>\n",
       "      <th>latitud</th>\n",
       "      <th>longitud</th>\n",
       "      <th>fecha_alta</th>\n",
       "      <th>geometry</th>\n",
       "    </tr>\n",
       "  </thead>\n",
       "  <tbody>\n",
       "    <tr>\n",
       "      <th>0</th>\n",
       "      <td>8499866.0</td>\n",
       "      <td>01005311612000063000000000U2</td>\n",
       "      <td>EMPACADORA DE CARNES ALSA</td>\n",
       "      <td>CARNES ALSA SA DE CV</td>\n",
       "      <td>311612</td>\n",
       "      <td>Corte y empacado de carne de ganado, aves y ot...</td>\n",
       "      <td>11 a 30 personas</td>\n",
       "      <td>CARRETERA</td>\n",
       "      <td>LOCALIDAD 800</td>\n",
       "      <td>None</td>\n",
       "      <td>...</td>\n",
       "      <td>0035</td>\n",
       "      <td>800.0</td>\n",
       "      <td>4499731704</td>\n",
       "      <td>CARNESALSA@OUTLOOK.COM</td>\n",
       "      <td>None</td>\n",
       "      <td>Fijo</td>\n",
       "      <td>21.954420</td>\n",
       "      <td>-102.29128</td>\n",
       "      <td>2019-11</td>\n",
       "      <td>POINT (-102.29128 21.95442)</td>\n",
       "    </tr>\n",
       "    <tr>\n",
       "      <th>1</th>\n",
       "      <td>7461549.0</td>\n",
       "      <td>01005313320000012000000000U7</td>\n",
       "      <td>LONAS SUAREZ</td>\n",
       "      <td>None</td>\n",
       "      <td>314912</td>\n",
       "      <td>Confección de productos de textiles recubierto...</td>\n",
       "      <td>6 a 10 personas</td>\n",
       "      <td>PROLONGACION</td>\n",
       "      <td>INDEPENDENCIA</td>\n",
       "      <td>CALLE</td>\n",
       "      <td>...</td>\n",
       "      <td>0035</td>\n",
       "      <td>9.0</td>\n",
       "      <td>4494609689</td>\n",
       "      <td>LONAS_SUAREZ@HOTMAIL.COM</td>\n",
       "      <td>None</td>\n",
       "      <td>Fijo</td>\n",
       "      <td>21.955645</td>\n",
       "      <td>-102.29568</td>\n",
       "      <td>2019-11</td>\n",
       "      <td>POINT (-102.29568 21.95564)</td>\n",
       "    </tr>\n",
       "  </tbody>\n",
       "</table>\n",
       "<p>2 rows × 43 columns</p>\n",
       "</div>"
      ],
      "text/plain": [
       "          id                          clee                  nom_estab   \n",
       "0  8499866.0  01005311612000063000000000U2  EMPACADORA DE CARNES ALSA  \\\n",
       "1  7461549.0  01005313320000012000000000U7               LONAS SUAREZ   \n",
       "\n",
       "             raz_social codigo_act   \n",
       "0  CARNES ALSA SA DE CV     311612  \\\n",
       "1                  None     314912   \n",
       "\n",
       "                                          nombre_act           per_ocu   \n",
       "0  Corte y empacado de carne de ganado, aves y ot...  11 a 30 personas  \\\n",
       "1  Confección de productos de textiles recubierto...   6 a 10 personas   \n",
       "\n",
       "      tipo_vial       nom_vial tipo_v_e_1  ...  ageb manzana    telefono   \n",
       "0     CARRETERA  LOCALIDAD 800       None  ...  0035   800.0  4499731704  \\\n",
       "1  PROLONGACION  INDEPENDENCIA      CALLE  ...  0035     9.0  4494609689   \n",
       "\n",
       "                 correoelec   www  tipounieco    latitud   longitud   \n",
       "0    CARNESALSA@OUTLOOK.COM  None        Fijo  21.954420 -102.29128  \\\n",
       "1  LONAS_SUAREZ@HOTMAIL.COM  None        Fijo  21.955645 -102.29568   \n",
       "\n",
       "  fecha_alta                     geometry  \n",
       "0    2019-11  POINT (-102.29128 21.95442)  \n",
       "1    2019-11  POINT (-102.29568 21.95564)  \n",
       "\n",
       "[2 rows x 43 columns]"
      ]
     },
     "execution_count": 19,
     "metadata": {},
     "output_type": "execute_result"
    }
   ],
   "source": [
    "# Download industrias (Codes starting with 31, 32 and 33) from DENUE for Aguascalientes's municipalities.\n",
    "\n",
    "# Aguascalientes municipalities dissolved (From previously loaded hex_gdf)\n",
    "poly_wkt = hex_gdf.dissolve().geometry.to_wkt()[0]\n",
    "# Industries starting code\n",
    "industries_codes = tuple([31,32,33])\n",
    "\n",
    "# Iterate over each code looking for codes starting with the previous tupple, and where the points intersect with the municipalities\n",
    "industries_gdf = gpd.GeoDataFrame()\n",
    "denue_schema = 'denue'\n",
    "denue_table = 'denue_23_point'\n",
    "for industry_code in industries_codes:\n",
    "    query = f\"SELECT * FROM {denue_schema}.{denue_table} WHERE ST_Intersects(geometry, \\'SRID=4326;{poly_wkt}\\') AND \\\"codigo_act\\\" LIKE \\'{industry_code}%\\'\"\n",
    "    industries_tmp = aup.gdf_from_query(query, geometry_col='geometry')\n",
    "    industries_gdf = pd.concat([industries_gdf, industries_tmp],ignore_index = True, axis = 0)\n",
    "\n",
    "# Show\n",
    "print(list(industries_gdf.codigo_act.unique()))\n",
    "print(industries_gdf.crs)\n",
    "print(industries_gdf.shape)\n",
    "industries_gdf.head(2)"
   ]
  },
  {
   "cell_type": "code",
   "execution_count": null,
   "id": "d2ac833a-6b2b-4f4b-8b20-52407ead5fc6",
   "metadata": {},
   "outputs": [],
   "source": []
  }
 ],
 "metadata": {
  "kernelspec": {
   "display_name": "GDS-10.0",
   "language": "python",
   "name": "gds"
  },
  "language_info": {
   "codemirror_mode": {
    "name": "ipython",
    "version": 3
   },
   "file_extension": ".py",
   "mimetype": "text/x-python",
   "name": "python",
   "nbconvert_exporter": "python",
   "pygments_lexer": "ipython3",
   "version": "3.9.18"
  }
 },
 "nbformat": 4,
 "nbformat_minor": 5
}
