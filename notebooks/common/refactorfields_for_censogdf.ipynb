{
 "cells": [
  {
   "cell_type": "markdown",
   "id": "2a699341-e520-440f-bef4-bd070b00365f",
   "metadata": {},
   "source": [
    "# Refactor fields for a censo_gdf"
   ]
  },
  {
   "cell_type": "markdown",
   "id": "2d385325-bfba-4066-bdf9-83ff10e2f0f4",
   "metadata": {},
   "source": [
    "This notebook takes as input a gdf containing censo data and transforms dtypes for columns with data to float type."
   ]
  },
  {
   "cell_type": "markdown",
   "id": "88a496dd-3449-4d74-bbc8-d799116e7c07",
   "metadata": {},
   "source": [
    "## Import libraries"
   ]
  },
  {
   "cell_type": "code",
   "execution_count": 2,
   "id": "da353e84-d472-413b-8b66-26acb47cea39",
   "metadata": {
    "tags": []
   },
   "outputs": [
    {
     "name": "stderr",
     "output_type": "stream",
     "text": [
      "/usr/local/python/lib/python3.10/site-packages/osmnx/utils.py:192: UserWarning: The `utils.config` function is deprecated and will be removed in a future release. Instead, use the `settings` module directly to configure a global setting's value. For example, `ox.settings.log_console=True`.\n",
      "  warnings.warn(\n"
     ]
    }
   ],
   "source": [
    "import os\n",
    "import sys\n",
    "\n",
    "import pandas as pd\n",
    "import geopandas as gpd\n",
    "import numpy as np\n",
    "\n",
    "import matplotlib.pyplot as plt\n",
    "from matplotlib import colors\n",
    "import seaborn as sns\n",
    "\n",
    "from pandas.api.types import CategoricalDtype\n",
    "\n",
    "import warnings\n",
    "warnings.simplefilter(action='ignore', category=FutureWarning)\n",
    "\n",
    "module_path = os.path.abspath(os.path.join('../../'))\n",
    "if module_path not in sys.path:\n",
    "    sys.path.append(module_path)\n",
    "    import aup"
   ]
  },
  {
   "cell_type": "code",
   "execution_count": 21,
   "id": "4cd1e7cb-a14a-4b96-9e5e-c43b11d508c3",
   "metadata": {
    "tags": []
   },
   "outputs": [],
   "source": [
    "input_dir = '../../data/external/temporal_todocker/arroyo_vivo/censo_mza_2020_cuenca.gpkg'\n",
    "output_dir = '../../data/external/temporal_fromjupyter/arroyo_vivo/censo_mza_2020_cuenca_refactored.gpkg'"
   ]
  },
  {
   "cell_type": "markdown",
   "id": "51204867-f08c-4a05-934c-ab0b93ecdca1",
   "metadata": {},
   "source": [
    "### Load base data"
   ]
  },
  {
   "cell_type": "code",
   "execution_count": 18,
   "id": "10db718d-ec8f-448b-8675-b82877704bbe",
   "metadata": {
    "tags": []
   },
   "outputs": [
    {
     "name": "stdout",
     "output_type": "stream",
     "text": [
      "(1188, 239)\n"
     ]
    },
    {
     "data": {
      "text/html": [
       "<div>\n",
       "<style scoped>\n",
       "    .dataframe tbody tr th:only-of-type {\n",
       "        vertical-align: middle;\n",
       "    }\n",
       "\n",
       "    .dataframe tbody tr th {\n",
       "        vertical-align: top;\n",
       "    }\n",
       "\n",
       "    .dataframe thead th {\n",
       "        text-align: right;\n",
       "    }\n",
       "</style>\n",
       "<table border=\"1\" class=\"dataframe\">\n",
       "  <thead>\n",
       "    <tr style=\"text-align: right;\">\n",
       "      <th></th>\n",
       "      <th>CVEGEO</th>\n",
       "      <th>CVE_ENT</th>\n",
       "      <th>CVE_MUN</th>\n",
       "      <th>CVE_LOC</th>\n",
       "      <th>CVE_AGEB</th>\n",
       "      <th>CVE_MZA</th>\n",
       "      <th>AMBITO</th>\n",
       "      <th>TIPOMZA</th>\n",
       "      <th>ENTIDAD</th>\n",
       "      <th>NOM_ENT</th>\n",
       "      <th>...</th>\n",
       "      <th>VPH_CEL</th>\n",
       "      <th>VPH_INTER</th>\n",
       "      <th>VPH_STVP</th>\n",
       "      <th>VPH_SPMVPI</th>\n",
       "      <th>VPH_CVJ</th>\n",
       "      <th>VPH_SINRTV</th>\n",
       "      <th>VPH_SINLTC</th>\n",
       "      <th>VPH_SINCINT</th>\n",
       "      <th>VPH_SINTIC</th>\n",
       "      <th>geometry</th>\n",
       "    </tr>\n",
       "  </thead>\n",
       "  <tbody>\n",
       "    <tr>\n",
       "      <th>0</th>\n",
       "      <td>1903900013659019</td>\n",
       "      <td>19</td>\n",
       "      <td>039</td>\n",
       "      <td>0001</td>\n",
       "      <td>3659</td>\n",
       "      <td>019</td>\n",
       "      <td>Urbana</td>\n",
       "      <td>Típica</td>\n",
       "      <td>19</td>\n",
       "      <td>Nuevo León</td>\n",
       "      <td>...</td>\n",
       "      <td>NaN</td>\n",
       "      <td>NaN</td>\n",
       "      <td>NaN</td>\n",
       "      <td>NaN</td>\n",
       "      <td>NaN</td>\n",
       "      <td>NaN</td>\n",
       "      <td>NaN</td>\n",
       "      <td>NaN</td>\n",
       "      <td>NaN</td>\n",
       "      <td>POLYGON ((368847.538 2836039.654, 368856.076 2...</td>\n",
       "    </tr>\n",
       "  </tbody>\n",
       "</table>\n",
       "<p>1 rows × 239 columns</p>\n",
       "</div>"
      ],
      "text/plain": [
       "             CVEGEO CVE_ENT CVE_MUN CVE_LOC CVE_AGEB CVE_MZA  AMBITO TIPOMZA  \\\n",
       "0  1903900013659019      19     039    0001     3659     019  Urbana  Típica   \n",
       "\n",
       "   ENTIDAD     NOM_ENT  ...  VPH_CEL VPH_INTER  VPH_STVP VPH_SPMVPI VPH_CVJ  \\\n",
       "0       19  Nuevo León  ...      NaN       NaN       NaN        NaN     NaN   \n",
       "\n",
       "   VPH_SINRTV  VPH_SINLTC VPH_SINCINT VPH_SINTIC  \\\n",
       "0         NaN         NaN         NaN        NaN   \n",
       "\n",
       "                                            geometry  \n",
       "0  POLYGON ((368847.538 2836039.654, 368856.076 2...  \n",
       "\n",
       "[1 rows x 239 columns]"
      ]
     },
     "execution_count": 18,
     "metadata": {},
     "output_type": "execute_result"
    }
   ],
   "source": [
    "censo_gdf = gpd.read_file(input_dir)\n",
    "\n",
    "# Show\n",
    "print(censo_gdf.shape)\n",
    "censo_gdf.head(1)"
   ]
  },
  {
   "cell_type": "markdown",
   "id": "769f58ef-ea9b-48fc-bb6c-25107f1516ea",
   "metadata": {},
   "source": [
    "### Transform data"
   ]
  },
  {
   "cell_type": "code",
   "execution_count": 19,
   "id": "cbad1452-7796-404f-842c-df766f1e1e1f",
   "metadata": {
    "tags": []
   },
   "outputs": [
    {
     "data": {
      "text/plain": [
       "CVEGEO           object\n",
       "CVE_ENT          object\n",
       "CVE_MUN          object\n",
       "CVE_LOC          object\n",
       "CVE_AGEB         object\n",
       "                 ...   \n",
       "VPH_SINRTV       object\n",
       "VPH_SINLTC       object\n",
       "VPH_SINCINT      object\n",
       "VPH_SINTIC       object\n",
       "geometry       geometry\n",
       "Length: 239, dtype: object"
      ]
     },
     "execution_count": 19,
     "metadata": {},
     "output_type": "execute_result"
    }
   ],
   "source": [
    "censo_gdf.dtypes"
   ]
  },
  {
   "cell_type": "code",
   "execution_count": 20,
   "id": "f1ee3de2-ba97-49f0-bf67-bae717564066",
   "metadata": {
    "tags": []
   },
   "outputs": [
    {
     "data": {
      "text/plain": [
       "CVEGEO           object\n",
       "CVE_ENT          object\n",
       "CVE_MUN          object\n",
       "CVE_LOC          object\n",
       "CVE_AGEB         object\n",
       "                 ...   \n",
       "VPH_SINRTV      float64\n",
       "VPH_SINLTC      float64\n",
       "VPH_SINCINT     float64\n",
       "VPH_SINTIC      float64\n",
       "geometry       geometry\n",
       "Length: 239, dtype: object"
      ]
     },
     "execution_count": 20,
     "metadata": {},
     "output_type": "execute_result"
    }
   ],
   "source": [
    "# All columns\n",
    "columns_list = list(censo_gdf.columns)\n",
    "# Columns which we are not interested in changing\n",
    "loc_str_cols = ['CVEGEO','CVE_ENT','CVE_MUN','CVE_LOC','CVE_AGEB','CVE_MZA',\n",
    "                'AMBITO','TIPOMZA','ENTIDAD','NOM_ENT','MUN','NOM_MUN','LOC','NOM_LOC','AGEB','MZA','geometry']\n",
    "\n",
    "for col in columns_list:\n",
    "    # Skip loc_str_cols\n",
    "    if col in loc_str_cols:\n",
    "        continue\n",
    "    # Transform to numeric column\n",
    "    censo_gdf[col] = censo_gdf[col].astype(float)\n",
    "    \n",
    "# Show\n",
    "censo_gdf.dtypes"
   ]
  },
  {
   "cell_type": "markdown",
   "id": "48cfc673-8ea0-43ea-bde3-07214827c2fc",
   "metadata": {},
   "source": [
    "### Save data"
   ]
  },
  {
   "cell_type": "code",
   "execution_count": 22,
   "id": "e0a5fcec-6e0c-40b9-937d-ab99ce368cb9",
   "metadata": {
    "tags": []
   },
   "outputs": [],
   "source": [
    "censo_gdf.to_file(output_dir)"
   ]
  },
  {
   "cell_type": "code",
   "execution_count": null,
   "id": "2f4dbc8b-c4dd-4d56-bff8-8d63a4f406e7",
   "metadata": {},
   "outputs": [],
   "source": []
  }
 ],
 "metadata": {
  "kernelspec": {
   "display_name": "Python 3 (ipykernel)",
   "language": "python",
   "name": "python3"
  },
  "language_info": {
   "codemirror_mode": {
    "name": "ipython",
    "version": 3
   },
   "file_extension": ".py",
   "mimetype": "text/x-python",
   "name": "python",
   "nbconvert_exporter": "python",
   "pygments_lexer": "ipython3",
   "version": "3.10.5"
  }
 },
 "nbformat": 4,
 "nbformat_minor": 5
}
