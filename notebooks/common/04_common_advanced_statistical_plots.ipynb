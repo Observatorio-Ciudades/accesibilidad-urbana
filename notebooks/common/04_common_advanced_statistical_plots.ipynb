{
 "cells": [
  {
   "cell_type": "markdown",
   "id": "6bf3b562-9737-4b39-8a88-6b639bc378c9",
   "metadata": {},
   "source": [
    "### __Content to add:__\n",
    "\n",
    "#### __Add to 02_common_map_plots:__\n",
    "* Hotspots and coldspots: 15_min_city/08-SDS-Spatial-Autocorrelation\n",
    "\n",
    "#### __Create 03_common_advanced_statistical_plots:__\n",
    "* Moran Scatterplot: 15_min_city/08-SDS-Spatial-Autocorrelation\n",
    "* Local Statistics + Scatterplot quadrant + Statistical significance + Moran Cluster map: 15_min_city/08-SDS-Spatial-Autocorrelation\n",
    "* Silhouette samples, KMeans clusters: : 15_min_city/09-SDS-Geosilluete\n",
    "* Inequality and segregation: 15_min_city/10-SDS-Inequality_Segregation\n",
    "\n",
    "#### __Folders scanned for plots:__\n",
    "* 15_min_city"
   ]
  },
  {
   "cell_type": "code",
   "execution_count": null,
   "id": "f40209aa-aa23-44e3-a448-da7dfac486d4",
   "metadata": {},
   "outputs": [],
   "source": []
  }
 ],
 "metadata": {
  "kernelspec": {
   "display_name": "GDS-10.0",
   "language": "python",
   "name": "gds"
  },
  "language_info": {
   "codemirror_mode": {
    "name": "ipython",
    "version": 3
   },
   "file_extension": ".py",
   "mimetype": "text/x-python",
   "name": "python",
   "nbconvert_exporter": "python",
   "pygments_lexer": "ipython3",
   "version": "3.9.18"
  }
 },
 "nbformat": 4,
 "nbformat_minor": 5
}
