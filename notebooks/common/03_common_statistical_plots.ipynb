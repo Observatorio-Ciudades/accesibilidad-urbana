{
 "cells": [
  {
   "cell_type": "markdown",
   "id": "acf96bac-0882-4ba1-b948-ef630bf3d0b6",
   "metadata": {},
   "source": [
    "### __This notebook will contain: Commonly used statistical plots__\n",
    "#### BASIC:\n",
    "* Scatterplot with label points: 15_min_city/14-Intersecciones-article-data-analysis\n",
    "* Regplot (data with linear fit): 15_min_city/14-Intersecciones-article-data-analysis\n",
    "* Spiderplot: 15_min_city/14-Intersecciones-article-data-analysis\n",
    "* Hotspots and coldspots: 15_min_city/08-SDS-Spatial-Autocorrelation\n",
    "#### ADVANCED:\n",
    "* Moran Scatterplot: 15_min_city/08-SDS-Spatial-Autocorrelation\n",
    "* Local Statistics + Scatterplot quadrant + Statistical significance + Moran Cluster map: 15_min_city/08-SDS-Spatial-Autocorrelation\n",
    "* Silhouette samples, KMeans clusters: : 15_min_city/09-SDS-Geosilluete\n",
    "* Inequality and segregation: 15_min_city/10-SDS-Inequality_Segregation\n",
    "\n",
    "### __Folders scanned for statistical plots:__\n",
    "* 15_min_city"
   ]
  },
  {
   "cell_type": "code",
   "execution_count": null,
   "id": "64c98931-bbd0-4e12-9951-0c839bdded95",
   "metadata": {},
   "outputs": [],
   "source": []
  }
 ],
 "metadata": {
  "kernelspec": {
   "display_name": "GDS-10.0",
   "language": "python",
   "name": "gds"
  },
  "language_info": {
   "codemirror_mode": {
    "name": "ipython",
    "version": 3
   },
   "file_extension": ".py",
   "mimetype": "text/x-python",
   "name": "python",
   "nbconvert_exporter": "python",
   "pygments_lexer": "ipython3",
   "version": "3.9.18"
  }
 },
 "nbformat": 4,
 "nbformat_minor": 5
}
