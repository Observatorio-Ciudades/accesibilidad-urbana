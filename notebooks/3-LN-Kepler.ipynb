{
 "cells": [
  {
   "cell_type": "code",
   "execution_count": 1,
   "metadata": {},
   "outputs": [],
   "source": [
    "import src\n",
    "from keplergl import KeplerGl\n",
    "import geopandas as gpd"
   ]
  },
  {
   "cell_type": "code",
   "execution_count": 2,
   "metadata": {},
   "outputs": [],
   "source": [
    "cities = ['Aguascalientes','Cuernavaca','Guadalajara','Laguna','Merida',\n",
    "          'Mexicali','Mexico','Monterrey','Puebla','Querétaro','Saltillo',\n",
    "         'SLP','Toluca']"
   ]
  },
  {
   "cell_type": "code",
   "execution_count": 5,
   "metadata": {},
   "outputs": [
    {
     "name": "stdout",
     "output_type": "stream",
     "text": [
      "User Guide: https://docs.kepler.gl/docs/keplergl-jupyter\n",
      "Aguascalientes\n",
      "Cuernavaca\n",
      "Guadalajara\n",
      "Laguna\n",
      "Merida\n",
      "Mexicali\n",
      "Mexico\n",
      "Monterrey\n",
      "Puebla\n",
      "Querétaro\n",
      "Saltillo\n",
      "SLP\n",
      "Toluca\n"
     ]
    },
    {
     "data": {
      "application/vnd.jupyter.widget-view+json": {
       "model_id": "165c50034abb40e690fcc1cb34818632",
       "version_major": 2,
       "version_minor": 0
      },
      "text/plain": [
       "KeplerGl(config={'version': 'v1', 'config': {'visState': {'filters': [], 'layers': [{'id': 'y6ctjbf', 'type': …"
      ]
     },
     "metadata": {},
     "output_type": "display_data"
    }
   ],
   "source": [
    "map_1 = KeplerGl(height=800, config=config)\n",
    "m_m = 83.3\n",
    "for city in cities:\n",
    "    gdf = gpd.read_file(f'../data/processed/{city}_hex_bins.geojson')\n",
    "    gdf['dist_promedio'] = (gdf['dist_farmacias']+gdf['dist_hospitales']+gdf['dist_farmacias'])/3\n",
    "    gdf['min_farmacias'] = gdf['dist_farmacias']/m_m\n",
    "    gdf['min_supermercados'] = gdf['dist_supermercados']/m_m\n",
    "    gdf['min_hospitales'] = gdf['dist_hospitales']/m_m\n",
    "    gdf['tiempo_promedio'] = (gdf['min_hospitales']+gdf['min_supermercados']+gdf['min_farmacias'])/3\n",
    "    map_1.add_data(gdf[gdf['dist_promedio']>0], city)\n",
    "    print(city)\n",
    "map_1"
   ]
  },
  {
   "cell_type": "code",
   "execution_count": 7,
   "metadata": {},
   "outputs": [],
   "source": [
    "for i in range(13):\n",
    "    map_1.config['config']['visState']['layers'][i]['config']['visConfig']['opacity']=0.1"
   ]
  },
  {
   "cell_type": "code",
   "execution_count": 8,
   "metadata": {},
   "outputs": [],
   "source": [
    "# Save map_1 config to a file\n",
    "with open(f'config_kepler_plot.py', 'w') as f:\n",
    "   f.write('config = {}'.format(map_1.config))"
   ]
  },
  {
   "cell_type": "code",
   "execution_count": 9,
   "metadata": {},
   "outputs": [],
   "source": [
    "# load the config\n",
    "%run config_kepler_plot.py"
   ]
  },
  {
   "cell_type": "code",
   "execution_count": 10,
   "metadata": {},
   "outputs": [
    {
     "name": "stdout",
     "output_type": "stream",
     "text": [
      "Map saved to ../output/html/Mexico_accesibilidad.html!\n"
     ]
    }
   ],
   "source": [
    "map_1.save_to_html(file_name=f'../output/html/Mexico_accesibilidad.html', config=config,read_only=False)"
   ]
  },
  {
   "cell_type": "code",
   "execution_count": 6,
   "metadata": {},
   "outputs": [
    {
     "data": {
      "text/plain": [
       "{'id': 'owtynpq',\n",
       " 'type': 'geojson',\n",
       " 'config': {'dataId': 'Toluca',\n",
       "  'label': 'Toluca',\n",
       "  'color': [34, 63, 154],\n",
       "  'columns': {'geojson': 'geometry'},\n",
       "  'isVisible': True,\n",
       "  'visConfig': {'opacity': 0.1,\n",
       "   'strokeOpacity': 0.8,\n",
       "   'thickness': 0.5,\n",
       "   'strokeColor': [218, 112, 191],\n",
       "   'colorRange': {'name': 'UberPool',\n",
       "    'type': 'diverging',\n",
       "    'category': 'Uber',\n",
       "    'colors': ['#FAE300',\n",
       "     '#FAC200',\n",
       "     '#FD7900',\n",
       "     '#E31A1A',\n",
       "     '#CF1750',\n",
       "     '#AE0E7F',\n",
       "     '#7A0DA6',\n",
       "     '#482BBD',\n",
       "     '#2C51BE',\n",
       "     '#223F9A'],\n",
       "    'reversed': True},\n",
       "   'strokeColorRange': {'name': 'UberPool',\n",
       "    'type': 'diverging',\n",
       "    'category': 'Uber',\n",
       "    'colors': ['#FAE300',\n",
       "     '#FAC200',\n",
       "     '#FD7900',\n",
       "     '#E31A1A',\n",
       "     '#CF1750',\n",
       "     '#AE0E7F',\n",
       "     '#7A0DA6',\n",
       "     '#482BBD',\n",
       "     '#2C51BE',\n",
       "     '#223F9A'],\n",
       "    'reversed': True},\n",
       "   'radius': 10,\n",
       "   'sizeRange': [0, 10],\n",
       "   'radiusRange': [0, 50],\n",
       "   'heightRange': [0, 500],\n",
       "   'elevationScale': 5,\n",
       "   'stroked': True,\n",
       "   'filled': True,\n",
       "   'enable3d': False,\n",
       "   'wireframe': False},\n",
       "  'hidden': False,\n",
       "  'textLabel': [{'field': None,\n",
       "    'color': [255, 255, 255],\n",
       "    'size': 18,\n",
       "    'offset': [0, 0],\n",
       "    'anchor': 'start',\n",
       "    'alignment': 'center'}]},\n",
       " 'visualChannels': {'colorField': {'name': 'dist_promedio', 'type': 'real'},\n",
       "  'colorScale': 'quantile',\n",
       "  'sizeField': None,\n",
       "  'sizeScale': 'linear',\n",
       "  'strokeColorField': {'name': 'dist_promedio', 'type': 'real'},\n",
       "  'strokeColorScale': 'quantile',\n",
       "  'heightField': None,\n",
       "  'heightScale': 'linear',\n",
       "  'radiusField': None,\n",
       "  'radiusScale': 'linear'}}"
      ]
     },
     "execution_count": 6,
     "metadata": {},
     "output_type": "execute_result"
    }
   ],
   "source": [
    "config['config']['visState']['layers'][12]"
   ]
  },
  {
   "cell_type": "code",
   "execution_count": null,
   "metadata": {},
   "outputs": [],
   "source": []
  }
 ],
 "metadata": {
  "kernelspec": {
   "display_name": "Python 3.7.3 64-bit",
   "language": "python",
   "name": "python37364bit20459f39a129413097d2ee6e6afc5fe7"
  },
  "language_info": {
   "codemirror_mode": {
    "name": "ipython",
    "version": 3
   },
   "file_extension": ".py",
   "mimetype": "text/x-python",
   "name": "python",
   "nbconvert_exporter": "python",
   "pygments_lexer": "ipython3",
   "version": "3.7.3"
  }
 },
 "nbformat": 4,
 "nbformat_minor": 4
}
