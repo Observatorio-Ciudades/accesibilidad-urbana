{
 "cells": [
  {
   "cell_type": "code",
   "execution_count": 1,
   "id": "13ca45e8-6356-42ae-a9db-b1e368e6ebc9",
   "metadata": {
    "tags": []
   },
   "outputs": [
    {
     "name": "stderr",
     "output_type": "stream",
     "text": [
      "/usr/local/python/lib/python3.10/site-packages/osmnx/utils.py:192: UserWarning: The `utils.config` function is deprecated and will be removed in a future release. Instead, use the `settings` module directly to configure a global setting's value. For example, `ox.settings.log_console=True`.\n",
      "  warnings.warn(\n"
     ]
    }
   ],
   "source": [
    "import os\n",
    "import sys\n",
    "\n",
    "import pandas as pd\n",
    "import geopandas as gpd\n",
    "import osmnx as ox\n",
    "import numpy as np\n",
    "\n",
    "import matplotlib.pyplot as plt\n",
    "import seaborn as sns\n",
    "\n",
    "import warnings\n",
    "warnings.simplefilter(action='ignore', category=FutureWarning)\n",
    "\n",
    "module_path = os.path.abspath(os.path.join('../../'))\n",
    "if module_path not in sys.path:\n",
    "    sys.path.append(module_path)\n",
    "    import aup"
   ]
  },
  {
   "cell_type": "markdown",
   "id": "606221a2-f558-4e03-bd12-7012dd2d9b9e",
   "metadata": {},
   "source": [
    "## Inputs"
   ]
  },
  {
   "cell_type": "markdown",
   "id": "690f08ce-4a3a-4dbe-9bfa-da0ea4b6a1e2",
   "metadata": {},
   "source": [
    "### Input - City, ¿add pop data? and resolution of output"
   ]
  },
  {
   "cell_type": "code",
   "execution_count": 2,
   "id": "3e22d68b-a441-4f92-845b-99d549e4a5f0",
   "metadata": {
    "tags": []
   },
   "outputs": [],
   "source": [
    "city = 'Guadalajara'\n",
    "# Create hexgrid with population data?\n",
    "pop_output = True\n",
    "# Resolutions of hexgrid output\n",
    "# if pop_output = True, res can only be set to 8 or 9.\n",
    "res_list = [8,9] }\n"
   ]
  },
  {
   "cell_type": "markdown",
   "id": "f3eb4bf9-410d-4928-8c3d-1c422770bb60",
   "metadata": {},
   "source": [
    "### Input - mun_gdf / Area of interest (aoi)"
   ]
  },
  {
   "cell_type": "code",
   "execution_count": 3,
   "id": "cf0f4b81-44ee-4e33-8abd-bdadd108fa11",
   "metadata": {
    "tags": []
   },
   "outputs": [],
   "source": [
    "# Creates empty GeoDataFrame to store specified municipality polygons\n",
    "mun_gdf = gpd.GeoDataFrame()\n",
    "\n",
    "# Iterates over municipality codes for each metropolitan area or capital\n",
    "# Downloads municipality polygon according to code\n",
    "query = f\"SELECT * FROM metropolis.metro_gdf WHERE \\\"city\\\" LIKE \\'{city}\\'\"\n",
    "mun_gdf = aup.gdf_from_query(query, geometry_col='geometry')\n",
    " \n",
    "#Define projections\n",
    "mun_gdf = mun_gdf.set_crs(\"EPSG:4326\")"
   ]
  },
  {
   "cell_type": "code",
   "execution_count": 17,
   "id": "8bada095-4c0c-467a-be96-f45ae89b3d10",
   "metadata": {
    "tags": []
   },
   "outputs": [
    {
     "data": {
      "text/plain": [
       "<Axes: >"
      ]
     },
     "execution_count": 17,
     "metadata": {},
     "output_type": "execute_result"
    },
    {
     "data": {
      "image/png": "[encoded data removed]",
      "text/plain": [
       "<Figure size 640x480 with 1 Axes>"
      ]
     },
     "metadata": {},
     "output_type": "display_data"
    }
   ],
   "source": [
    "aoi = mun_gdf.dissolve()\n",
    "\n",
    "# Show\n",
    "aoi.plot()"
   ]
  },
  {
   "cell_type": "markdown",
   "id": "78a6af6f-b715-40e7-8e40-c467f8050f41",
   "metadata": {},
   "source": [
    "### Input - Points of interest (pois)"
   ]
  },
  {
   "cell_type": "code",
   "execution_count": 7,
   "id": "a196daef-85df-4441-bd60-5eb894e65a66",
   "metadata": {
    "tags": []
   },
   "outputs": [
    {
     "name": "stdout",
     "output_type": "stream",
     "text": [
      "(9345, 2)\n"
     ]
    },
    {
     "data": {
      "text/html": [
       "<div>\n",
       "<style scoped>\n",
       "    .dataframe tbody tr th:only-of-type {\n",
       "        vertical-align: middle;\n",
       "    }\n",
       "\n",
       "    .dataframe tbody tr th {\n",
       "        vertical-align: top;\n",
       "    }\n",
       "\n",
       "    .dataframe thead th {\n",
       "        text-align: right;\n",
       "    }\n",
       "</style>\n",
       "<table border=\"1\" class=\"dataframe\">\n",
       "  <thead>\n",
       "    <tr style=\"text-align: right;\">\n",
       "      <th></th>\n",
       "      <th>code</th>\n",
       "      <th>geometry</th>\n",
       "    </tr>\n",
       "  </thead>\n",
       "  <tbody>\n",
       "    <tr>\n",
       "      <th>0</th>\n",
       "      <td>1</td>\n",
       "      <td>POINT (-103.27734 20.67448)</td>\n",
       "    </tr>\n",
       "    <tr>\n",
       "      <th>1</th>\n",
       "      <td>1</td>\n",
       "      <td>POINT (-103.29438 20.67253)</td>\n",
       "    </tr>\n",
       "  </tbody>\n",
       "</table>\n",
       "</div>"
      ],
      "text/plain": [
       "   code                     geometry\n",
       "0     1  POINT (-103.27734 20.67448)\n",
       "1     1  POINT (-103.29438 20.67253)"
      ]
     },
     "execution_count": 7,
     "metadata": {},
     "output_type": "execute_result"
    }
   ],
   "source": [
    "paradas_dir = \"../../data/external/temporal_todocker/amg_tp_paradas.gpkg\"\n",
    "estaciones_dir = \"../../data/external/temporal_todocker/amg_tpmasivo_estaciones.gpkg\"\n",
    "\n",
    "# Read points of interest (pois)\n",
    "paradas = gpd.read_file(paradas_dir)\n",
    "estaciones = gpd.read_file(estaciones_dir)\n",
    "\n",
    "# Set code for proximity analysis\n",
    "paradas['code']  = 1\n",
    "estaciones['code'] = 2\n",
    "\n",
    "# Merge pois data\n",
    "paradas = paradas[['code','geometry']]\n",
    "estaciones = estaciones[['code','geometry']]\n",
    "pois = pd.concat([paradas, estaciones])\n",
    "pois = pois.set_crs(\"EPSG:4326\")\n",
    "\n",
    "# Show\n",
    "print(pois.shape)\n",
    "pois.head(2)"
   ]
  },
  {
   "cell_type": "markdown",
   "id": "22761bbf-8c19-4882-a188-793610bca41f",
   "metadata": {},
   "source": [
    "### Input - Parameters and source_weight dictionaries"
   ]
  },
  {
   "cell_type": "code",
   "execution_count": 23,
   "id": "5073ef6b-16d6-4f72-8d04-280b7d119e15",
   "metadata": {
    "tags": []
   },
   "outputs": [],
   "source": [
    "#--------------- PREPARE DATA ---------- SET PARAMETER AND WEIGHT\n",
    "    #This step sets the ejes, amenidades, sources and codes for further analysis\n",
    "            #{Eje (e):\n",
    "            #            {Amenity (a):\n",
    "            #                          {Sources (s):\n",
    "            #                                           [Codes (c)]\n",
    "            #                           }\n",
    "            #             }\n",
    "            #}\n",
    "parameters = {'Transporte':{'Regular':{'paradas_tp':[1]},\n",
    "                            'Masivo':{'estaciones_tpmasivo':[2]}\n",
    "                           }\n",
    "             }\n",
    "\n",
    "source_weight = {'Transporte':{'Regular':'min',\n",
    "                               'Masivo':'min'}\n",
    "                }\n"
   ]
  },
  {
   "cell_type": "markdown",
   "id": "637dffc7-56f9-425c-a457-c8fdf7f95d40",
   "metadata": {},
   "source": [
    "## Step 1: Create Network"
   ]
  },
  {
   "cell_type": "code",
   "execution_count": 5,
   "id": "a9c63b1d-a06a-4a16-8bd0-b39d4c550882",
   "metadata": {
    "tags": []
   },
   "outputs": [],
   "source": [
    "#Downloads street network from base\n",
    "G, nodes, edges = aup.graph_from_hippo(mun_gdf, 'osmnx')"
   ]
  },
  {
   "cell_type": "markdown",
   "id": "e2652f8a-89f6-4999-a018-cfec15ad863a",
   "metadata": {},
   "source": [
    "## Step 2: Calculate distance from each poi to nearest node (osmid)"
   ]
  },
  {
   "cell_type": "code",
   "execution_count": 21,
   "id": "a003131e-51f8-4080-b8b5-36043db50710",
   "metadata": {
    "tags": []
   },
   "outputs": [
    {
     "name": "stdout",
     "output_type": "stream",
     "text": [
      "Calculated distances from pois to nearest node.\n"
     ]
    }
   ],
   "source": [
    "# Filter pois for aoi\n",
    "pois_aoi = gpd.sjoin(pois,aoi,how='inner')\n",
    "pois = pois_aoi[['code','geometry']]\n",
    "\n",
    "# Format to calculate nearest\n",
    "nodes_gdf = nodes.set_crs(\"EPSG:4326\")\n",
    "edges_gdf = edges.set_crs(\"EPSG:4326\")\n",
    "\n",
    "# Calculate nearest\n",
    "nearest = aup.find_nearest(G, nodes_gdf, pois, return_distance= True)\n",
    "\n",
    "#---------------------------------------------------------------------------------------------------------------------------------------------------------\n",
    "print(\"Calculated distances from pois to nearest node.\")\n",
    "#---------------------------------------------------------------------------------------------------------------------------------------------------------"
   ]
  },
  {
   "cell_type": "markdown",
   "id": "46561020-5442-4571-aa73-2fe77be9f523",
   "metadata": {},
   "source": [
    "## Step 3: Calculate distance to nearest source amenity for each node"
   ]
  },
  {
   "cell_type": "code",
   "execution_count": 24,
   "id": "202b8630-bbaf-44f3-b85b-f353ffd86544",
   "metadata": {
    "tags": []
   },
   "outputs": [
    {
     "name": "stdout",
     "output_type": "stream",
     "text": [
      "Loaded a total of 9203 points of interest of the source paradas_tp for analisis.\n",
      "Starting range k = 0 of 46 for source paradas_tp.\n",
      "Starting range k = 1 of 46 for source paradas_tp.\n",
      "Starting range k = 2 of 46 for source paradas_tp.\n",
      "Starting range k = 3 of 46 for source paradas_tp.\n",
      "Starting range k = 4 of 46 for source paradas_tp.\n",
      "Starting range k = 5 of 46 for source paradas_tp.\n",
      "Starting range k = 6 of 46 for source paradas_tp.\n",
      "Starting range k = 7 of 46 for source paradas_tp.\n",
      "Starting range k = 8 of 46 for source paradas_tp.\n",
      "Starting range k = 9 of 46 for source paradas_tp.\n",
      "Starting range k = 10 of 46 for source paradas_tp.\n",
      "Starting range k = 11 of 46 for source paradas_tp.\n",
      "Starting range k = 12 of 46 for source paradas_tp.\n",
      "Starting range k = 13 of 46 for source paradas_tp.\n",
      "Starting range k = 14 of 46 for source paradas_tp.\n",
      "Starting range k = 15 of 46 for source paradas_tp.\n",
      "Starting range k = 16 of 46 for source paradas_tp.\n",
      "Starting range k = 17 of 46 for source paradas_tp.\n",
      "Starting range k = 18 of 46 for source paradas_tp.\n",
      "Starting range k = 19 of 46 for source paradas_tp.\n",
      "Starting range k = 20 of 46 for source paradas_tp.\n",
      "Starting range k = 21 of 46 for source paradas_tp.\n",
      "Starting range k = 22 of 46 for source paradas_tp.\n",
      "Starting range k = 23 of 46 for source paradas_tp.\n",
      "Starting range k = 24 of 46 for source paradas_tp.\n",
      "Starting range k = 25 of 46 for source paradas_tp.\n",
      "Starting range k = 26 of 46 for source paradas_tp.\n",
      "Starting range k = 27 of 46 for source paradas_tp.\n",
      "Starting range k = 28 of 46 for source paradas_tp.\n",
      "Starting range k = 29 of 46 for source paradas_tp.\n",
      "Starting range k = 30 of 46 for source paradas_tp.\n",
      "Starting range k = 31 of 46 for source paradas_tp.\n",
      "Starting range k = 32 of 46 for source paradas_tp.\n",
      "Starting range k = 33 of 46 for source paradas_tp.\n",
      "Starting range k = 34 of 46 for source paradas_tp.\n",
      "Starting range k = 35 of 46 for source paradas_tp.\n",
      "Starting range k = 36 of 46 for source paradas_tp.\n",
      "Starting range k = 37 of 46 for source paradas_tp.\n",
      "Starting range k = 38 of 46 for source paradas_tp.\n",
      "Starting range k = 39 of 46 for source paradas_tp.\n",
      "Starting range k = 40 of 46 for source paradas_tp.\n",
      "Starting range k = 41 of 46 for source paradas_tp.\n",
      "Starting range k = 42 of 46 for source paradas_tp.\n",
      "Starting range k = 43 of 46 for source paradas_tp.\n",
      "Starting range k = 44 of 46 for source paradas_tp.\n",
      "Starting range k = 45 of 46 for source paradas_tp.\n",
      "Starting range k = 46 of 46 for source paradas_tp.\n",
      "Calculated time from nodes to pois for a total of 195488 nodes for source paradas_tp.\n",
      "Applying final formating to calculated nodes.\n",
      "Added time for source paradas_tp to nodes_sources.\n",
      "Loaded a total of 142 points of interest of the source estaciones_tpmasivo for analisis.\n",
      "Starting range k = 0 of 0 for source estaciones_tpmasivo.\n",
      "Calculated time from nodes to pois for a total of 195488 nodes for source estaciones_tpmasivo.\n",
      "Applying final formating to calculated nodes.\n",
      "Added time for source estaciones_tpmasivo to nodes_sources.\n"
     ]
    }
   ],
   "source": [
    "# Create sources - code dicc out of main parameters dicc\n",
    "sources = {}\n",
    "for eje in parameters.keys():\n",
    "    for amenity in parameters[eje]:\n",
    "        for source in parameters[eje][amenity]:\n",
    "            sources[source] = parameters[eje][amenity][source]\n",
    "\n",
    "# Format\n",
    "pois_distance_node = nearest.copy()\n",
    "edges_gdf['length'].fillna(edges_gdf['length'].mean(),inplace=True)\n",
    "\n",
    "# ELEMENTS NEEDED OUTSIDE THE LOOP - nodes_analysis is a nodes_gdf out of loop used in aup.calculate_distance_nearest_poi in each loop\n",
    "nodes_analysis = nodes_gdf.reset_index().copy()\n",
    "# ELEMENTS NEEDED OUTSIDE THE LOOP - nodes_sources is a nodes_gdf out of loop used to accumulate a final gdf with the minimal distance from each node to each source\n",
    "nodes_sources = gpd.GeoDataFrame()\n",
    "# ELEMENTS NEEDED OUTSIDE THE LOOP - Count\n",
    "i = 0\n",
    "\n",
    "# Loop that calculates distance from each node to each source (source by source)\n",
    "for s in sources:\n",
    "    \n",
    "    # Locate pois data for current source\n",
    "    source_gdf = gpd.GeoDataFrame()\n",
    "    for cod in sources[s]:\n",
    "        source_tmp = pois_distance_node[pois_distance_node['code']==cod]\n",
    "        source_gdf = pd.concat([source_gdf,source_tmp])\n",
    "    #-----------------------------------------------------------------------------------------------------------------------------------------------------\n",
    "    print(f\"Loaded a total of {len(source_gdf)} points of interest of the source {s} for analisis.\")\n",
    "    #-----------------------------------------------------------------------------------------------------------------------------------------------------\n",
    "    \n",
    "    # Data for current amenity loop - df_temp: Each column will be a batch of procesed nodes.\n",
    "    df_temp = nodes_gdf.copy()\n",
    "    # Data for current amenity loop - nodes_distance: Minimum time/distance found in all batches will be added from df_min (within if/elif/else) to nodes_distance and finally to nodes_sources (outside loop)\n",
    "    nodes_distance = nodes_gdf.copy()\n",
    "    \n",
    "    # In case there are no amenities of a certain type in the city\n",
    "    if len(source_gdf) == 0:\n",
    "        nodes_time = nodes_distance.copy()\n",
    "        nodes_time['time'] = 0\n",
    "        #-------------------------------------------------------------------------------------------------------------------------------------------------\n",
    "        print(f\"0 points of interest of the source {s} found, time is NaN.\")\n",
    "        #-------------------------------------------------------------------------------------------------------------------------------------------------       \n",
    "    \n",
    "    # Elif, divide in batches processing (200 if the total number of pois is an exact multiple of 250, 250 otherwise)\n",
    "    elif len(source_gdf) % 250:\n",
    "        batch_size = len(source_gdf)/200\n",
    "        for k in range(int(batch_size)+1):\n",
    "            #---------------------------------------------------------------------------------------------------------------------------------------------\n",
    "            print(f\"Starting range k = {k} of {int(batch_size)} for source {s}.\")\n",
    "            #---------------------------------------------------------------------------------------------------------------------------------------------\n",
    "            source_process = source_gdf.iloc[int(200*k):int(200*(1+k))].copy()\n",
    "            nodes_distance_prep = aup.calculate_distance_nearest_poi(source_process, nodes_analysis, edges_gdf, s, 'osmid', wght='length')\n",
    "            \n",
    "            #A middle gdf is created whose columns will be the name of the amenity and the batch number it belongs to\n",
    "            df_int = pd.DataFrame()\n",
    "            df_int['dist_'+str(k)+s] = nodes_distance_prep['dist_'+s]\n",
    "            \n",
    "            #The middle gdf is merged into the previously created temporary gdf to store the data by node, each batch in a column.\n",
    "            df_temp = df_temp.merge(df_int, left_index=True, right_index=True)\n",
    "            \n",
    "        # Once finished, drop the non-distance values from the temporary gdf\n",
    "        df_temp.drop(['x', 'y', 'street_count','geometry'], inplace = True, axis=1)\n",
    "        \n",
    "        #We apply the min function to find the minimum value. This value is sent to a new df_min\n",
    "        df_min = pd.DataFrame()\n",
    "        df_min['dist_'+s] = df_temp.min(axis=1)\n",
    "        \n",
    "        #We merge df_min which contains the shortest distance to the POI with nodes_distance which will store all final data\n",
    "        nodes_distance = nodes_distance.merge(df_min, left_index=True, right_index=True)\n",
    "        \n",
    "        #Final data gets converted to time, assuming a walking speed of 4km/hr\n",
    "        nodes_time = nodes_distance.copy()\n",
    "        nodes_time['time'] = (nodes_time['dist_'+s]*60)/4000\n",
    "        \n",
    "        #-------------------------------------------------------------------------------------------------------------------------------------------------\n",
    "        print(f\"Calculated time from nodes to pois for a total of {len(nodes_distance)} nodes for source {s}.\")\n",
    "        #------------------------------------------------------------------------------------------------------------------------------------------------- \n",
    "\n",
    "    # Else, divide in batches processing (200 if the total number of pois is an exact multiple of 250, 250 otherwise)   \n",
    "    else:\n",
    "        batch_size = len(source_gdf)/250\n",
    "        for k in range(int(batch_size)+1):\n",
    "            #---------------------------------------------------------------------------------------------------------------------------------------------\n",
    "            print(f\"Starting range k = {k} of {int(batch_size)} for source {s}.\")\n",
    "            #---------------------------------------------------------------------------------------------------------------------------------------------\n",
    "            source_process = source_gdf.iloc[int(250*k):int(250*(1+k))].copy()\n",
    "            nodes_distance_prep = aup.calculate_distance_nearest_poi(source_process, nodes_analysis, edges_gdf, s, 'osmid', wght='length')\n",
    "            \n",
    "            #A middle gdf is created whose columns will be the name of the amenity and the batch number it belongs to\n",
    "            df_int = pd.DataFrame()\n",
    "            df_int['dist_'+str(k)+s] = nodes_distance_prep['dist_'+s]\n",
    "            \n",
    "            #The middle gdf is merged into the previously created temporary gdf to store the data by node, each batch in a column.\n",
    "            df_temp = df_temp.merge(df_int, left_index=True, right_index=True)\n",
    "            \n",
    "        # Once finished, drop the non-distance values from the temporary gdf\n",
    "        df_temp.drop(['x', 'y', 'street_count','geometry'], inplace = True, axis=1)\n",
    "        \n",
    "        #We apply the min function to find the minimum value. This value is sent to a new df_min\n",
    "        df_min = pd.DataFrame()\n",
    "        df_min['dist_'+s] = df_temp.min(axis=1)\n",
    "        \n",
    "        #We merge df_min which contains the shortest distance to the POI with nodes_distance which will store all final data\n",
    "        nodes_distance = nodes_distance.merge(df_min, left_index=True, right_index=True)\n",
    "        \n",
    "        #Final data gets converted to time, assuming a walking speed of 4km/hr\n",
    "        nodes_time = nodes_distance.copy()\n",
    "        nodes_time['time'] = (nodes_time['dist_'+s]*60)/4000\n",
    "    \n",
    "        #-------------------------------------------------------------------------------------------------------------------------------------------------\n",
    "        print(f\"Calculated time from nodes to pois for a total of {len(nodes_distance)} nodes for source {s}.\")\n",
    "        #-------------------------------------------------------------------------------------------------------------------------------------------------    \n",
    "    \n",
    "    #-----------------------------------------------------------------------------------------------------------------------------------------------------\n",
    "    print(\"Applying final formating to calculated nodes.\")\n",
    "    #----------------------------------------------------------------------------------------------------------------------------------------------------- \n",
    "    \n",
    "    #Format nodes_distance\n",
    "    nodes_time['source'] = s\n",
    "    nodes_time['city'] = city\n",
    "    nodes_time.reset_index(inplace=True)\n",
    "    nodes_time = nodes_time.set_crs(\"EPSG:4326\")\n",
    "    nodes_time = nodes_time[['osmid','time','source','city','x','y','geometry']]\n",
    "    \n",
    "    #If it is the first round nodes_sources is created equal to nodes_distance (all nodes, one source)\n",
    "    #If it is the second or more, the new nodes_distance is merged.\n",
    "    #This way we obtain the final gdf of interest that will contain the minimum disstance to each type of amenity by column.\n",
    "    if i == 0:\n",
    "        nodes_sources = nodes_time.copy()\n",
    "    else:\n",
    "        nodes_sources = pd.concat([nodes_sources,nodes_time])\n",
    "        \n",
    "    #-----------------------------------------------------------------------------------------------------------------------------------------------------\n",
    "    print(f\"Added time for source {s} to nodes_sources.\")\n",
    "    #-----------------------------------------------------------------------------------------------------------------------------------------------------\n",
    "    \n",
    "    i += 1"
   ]
  },
  {
   "cell_type": "markdown",
   "id": "3e95920c-84ae-4f6d-8a71-c758a830d20d",
   "metadata": {},
   "source": [
    "## Step 4 - Analize distance data by nodes to proximity in hexagons"
   ]
  },
  {
   "cell_type": "markdown",
   "id": "e25c0487-703f-405e-9075-d7c673ef583d",
   "metadata": {},
   "source": [
    "### Step 4 - Transform nodes data"
   ]
  },
  {
   "cell_type": "code",
   "execution_count": 26,
   "id": "fa215367-23ea-49cb-a32d-ae61700c6759",
   "metadata": {
    "tags": []
   },
   "outputs": [
    {
     "name": "stdout",
     "output_type": "stream",
     "text": [
      "Transformed nodes data.\n"
     ]
    }
   ],
   "source": [
    "nodes = nodes_sources.copy()\n",
    "\n",
    "#--------------- PREPARE DATA\n",
    "#--------------- PREPARE DATA ---------- DELETE DUPLICATES AND CLEAN NODES\n",
    "#This step keeps osmid, geometry and metropolis (without duplicates, keeping only one point for each node) to store times to each amenity source by node in following loop.\n",
    "nodes_geom = nodes.drop_duplicates(subset='osmid', keep=\"last\")[['osmid','geometry','city']].copy()\n",
    "\n",
    "#--------------- PREPARE DATA ---------- REORGANIZE NODES DATA\n",
    "#This step organizes data by nodes by changing (time to source amenities) from rows (1 column with source amenity name + 1 column with time data) \n",
    "#to columns (1 column with time data named after its source amenity)\n",
    "nodes_analysis = nodes_geom.copy()\n",
    "\n",
    "for source_amenity in list(nodes.source.unique()):\n",
    "    nodes_tmp = nodes.loc[nodes.source == source_amenity,['osmid','time']]\n",
    "    nodes_tmp = nodes_tmp.rename(columns={'time':source_amenity})\n",
    "    # Search for amenities that aren't present in the city (with all values marked as 0) and change them to NaN\n",
    "    if nodes_tmp[source_amenity].mean() == 0:\n",
    "        nodes_tmp[source_amenity] = np.nan\n",
    "    nodes_analysis = nodes_analysis.merge(nodes_tmp, on='osmid')\n",
    "    \n",
    "#---------------------------------------------------------------------------------------------------------------------------------------------------------\n",
    "print(\"Transformed nodes data.\")\n",
    "#---------------------------------------------------------------------------------------------------------------------------------------------------------"
   ]
  },
  {
   "cell_type": "markdown",
   "id": "57b82c6a-7b39-4928-8e44-446af1a20ce6",
   "metadata": {},
   "source": [
    "### Step 4 - Create definitions (previously idx_15min) dicc"
   ]
  },
  {
   "cell_type": "code",
   "execution_count": 27,
   "id": "7751ac3e-cd61-4d6c-b6f1-26838343d52c",
   "metadata": {
    "tags": []
   },
   "outputs": [],
   "source": [
    "# Create definitions dicc out of main parameters dicc:\n",
    "definitions = {}\n",
    "for eje in parameters.keys():\n",
    "    # Temporary dicc stores amenity:[source_list] for each eje\n",
    "    tmp_dicc = {}\n",
    "    \n",
    "    for amenity in parameters[eje]:\n",
    "        items_lst = []\n",
    "        items = list(parameters[eje][amenity].items())\n",
    "        \n",
    "        for item in items:\n",
    "            items_lst.append(item[0])\n",
    "            \n",
    "        tmp_dicc[amenity] = items_lst\n",
    "     \n",
    "    # Each eje gets assigned its own tmp_dicc\n",
    "    definitions[eje] = tmp_dicc"
   ]
  },
  {
   "cell_type": "markdown",
   "id": "17ecaf27-ee8d-49cd-bee9-aaa691af94f0",
   "metadata": {},
   "source": [
    "### Step 4 - Fill for missing amenities"
   ]
  },
  {
   "cell_type": "code",
   "execution_count": 28,
   "id": "e7d2b742-65ea-4495-8ae6-08f4778ee5c1",
   "metadata": {
    "tags": []
   },
   "outputs": [
    {
     "name": "stdout",
     "output_type": "stream",
     "text": [
      "Finished missing source amenities analysis. 0 not present source amenities were added as np.nan columns\n"
     ]
    }
   ],
   "source": [
    "#--------------- PREPARE DATA ---------- FILL MISSING COLUMNS (In case there is a source amenity not available in a city)\n",
    "all_sources = []\n",
    "\n",
    "# Gather all possible sources\n",
    "for eje in definitions.keys():\n",
    "    for amenity in definitions[eje].values():\n",
    "        for source in amenity:\n",
    "            all_sources.append(source)\n",
    "            \n",
    "# If source not in currently analized city, fill column with np.nan\n",
    "column_list = list(nodes_analysis.columns)\n",
    "missing_sourceamenities = []\n",
    "\n",
    "for s in all_sources:\n",
    "        if s not in column_list:\n",
    "            nodes_analysis[s] = np.nan\n",
    "            #---------------------------------------------------------------------------------------------------------------------------------------------\n",
    "            print(f\"{s} source amenity is not present in {city}.\")\n",
    "            #---------------------------------------------------------------------------------------------------------------------------------------------\n",
    "            missing_sourceamenities.append(s)\n",
    "            \n",
    "#---------------------------------------------------------------------------------------------------------------------------------------------------------\n",
    "print(f\"Finished missing source amenities analysis. {len(missing_sourceamenities)} not present source amenities were added as np.nan columns\")\n",
    "#---------------------------------------------------------------------------------------------------------------------------------------------------------"
   ]
  },
  {
   "cell_type": "markdown",
   "id": "e52df11a-14e9-489c-95ab-f9706891d058",
   "metadata": {},
   "source": [
    "### Step 4 - Amenities analysis"
   ]
  },
  {
   "cell_type": "code",
   "execution_count": 30,
   "id": "9c89a418-d508-4607-91db-14adefdecf85",
   "metadata": {
    "tags": []
   },
   "outputs": [
    {
     "name": "stdout",
     "output_type": "stream",
     "text": [
      "Starting proximity to amenities analysis by node.\n",
      "Calculated proximity to amenities data by node.\n"
     ]
    }
   ],
   "source": [
    "#---------------------------------------------------------------------------------------------------------------------------------------------------------\n",
    "print(\"Starting proximity to amenities analysis by node.\")\n",
    "#---------------------------------------------------------------------------------------------------------------------------------------------------------\n",
    "\n",
    "#--------------- PROCESS DATA \n",
    "#--------------- PROCESS DATA ---------- Max time calculation\n",
    "#This step calculates times by amenity\n",
    "\n",
    "column_max_all = [] # list with all max index column names\n",
    "column_max_ejes = [] # list with ejes index column names\n",
    "\n",
    "#Goes through each eje in dictionary:\n",
    "for e in definitions.keys():\n",
    "\n",
    "    #Appends to 3 lists currently examined eje\n",
    "    column_max_all.append('max_'+ e.lower())\n",
    "    column_max_ejes.append('max_'+ e.lower())\n",
    "    column_max_amenities = [] # list with amenities in current eje\n",
    "\n",
    "    #Goes through each amenity of current eje:\n",
    "    for a in definitions[e].keys():\n",
    "\n",
    "        #Appends to 2 lists currently examined amenity:\n",
    "        column_max_all.append('max_'+ a.lower())\n",
    "        column_max_amenities.append('max_'+ a.lower())\n",
    "\n",
    "        #Calculates time to currently examined amenity:\n",
    "        #If weight is less than number of sources of amenity, choose minimum time to sources.\n",
    "        if source_weight[e][a] == 'min': \n",
    "            nodes_analysis['max_'+ a.lower()] = nodes_analysis[definitions[e][a]].min(axis=1)\n",
    "        #Else, choose maximum time to sources.\n",
    "        else:\n",
    "            nodes_analysis['max_'+ a.lower()] = nodes_analysis[definitions[e][a]].max(axis=1)\n",
    "\n",
    "    #Calculates time to currently examined eje (max time of its amenities):\n",
    "    nodes_analysis['max_'+ e.lower()] = nodes_analysis[column_max_amenities].max(axis=1) \n",
    "\n",
    "index_column = 'max_time' # column name for maximum time data\n",
    "\n",
    "#Add to column_max_all list the attribute 'max_time'\n",
    "column_max_all.append(index_column)\n",
    "\n",
    "#Assigns \"max_time\" the max time for all ejes\n",
    "nodes_analysis[index_column] = nodes_analysis[column_max_ejes].max(axis=1)     \n",
    "\n",
    "#Add to column_max_all list the attributes 'osmid' and 'geometry' to filter nodes_analysis with the column_max_all list.\n",
    "column_max_all.append('osmid')\n",
    "column_max_all.append('geometry')\n",
    "nodes_analysis_filter = nodes_analysis[column_max_all].copy()\n",
    "    \n",
    "#---------------------------------------------------------------------------------------------------------------------------------------------------------\n",
    "print(\"Calculated proximity to amenities data by node.\")\n",
    "#---------------------------------------------------------------------------------------------------------------------------------------------------------"
   ]
  },
  {
   "cell_type": "markdown",
   "id": "95252959-8eed-4451-a61c-9030311018f8",
   "metadata": {},
   "source": [
    "### Step 4 - Group by hex (mean data)"
   ]
  },
  {
   "cell_type": "code",
   "execution_count": 35,
   "id": "6a7fff16-ce83-4e97-88c7-8da80fc04d30",
   "metadata": {
    "tags": []
   },
   "outputs": [],
   "source": [
    "res = 9\n",
    "schema = 'censo'\n",
    "table = f'hex_censo_mza_2020_res{res}'\n",
    "\n",
    "# Iterates over municipality codes for each metropolitan area or capital\n",
    "# Downloads municipality polygon according to code\n",
    "query = f\"SELECT * FROM {schema}.{table} WHERE \\\"metropolis\\\" LIKE \\'{city}\\'\"\n",
    "hex_socio_gdf = aup.gdf_from_query(query, geometry_col='geometry')\n",
    " \n",
    "# Format before analysis\n",
    "hex_pop = hex_socio_gdf.set_crs(\"EPSG:4326\")\n",
    "hex_tmp = hex_pop[[f'hex_id_{res}','geometry']].copy()"
   ]
  },
  {
   "cell_type": "code",
   "execution_count": 36,
   "id": "d5117048-f49b-423e-8c94-75a2f26bba90",
   "metadata": {
    "tags": []
   },
   "outputs": [
    {
     "name": "stdout",
     "output_type": "stream",
     "text": [
      "Grouped nodes data by hexagons res 9\n",
      "Saved grouped data by hexagons res 9\n"
     ]
    }
   ],
   "source": [
    "hex_idx = gpd.GeoDataFrame()\n",
    "\n",
    "# group data by hex\n",
    "hex_res_idx = aup.group_by_hex_mean(nodes_analysis_filter, hex_tmp, res, index_column)\n",
    "hex_res_idx = hex_res_idx.loc[hex_res_idx[index_column]>0].copy()\n",
    "\n",
    "#-----------------------------------------------------------------------------------------------------------------------------------------------------\n",
    "print(f\"Grouped nodes data by hexagons res {res}\")\n",
    "#-----------------------------------------------------------------------------------------------------------------------------------------------------\n",
    "\n",
    "# Add pop data\n",
    "pop_list = [f'hex_id_{res}','pobtot','dens_pob_ha']\n",
    "hex_res_pop = pd.merge(hex_res_idx, hex_pop[pop_list], on=f'hex_id_{res}')\n",
    "\n",
    "# After funtion group_by_hex_mean we can remove res from ID and set as a column\n",
    "hex_res_pop.rename(columns={f'hex_id_{res}':'hex_id'},inplace=True)\n",
    "hex_res_pop['res'] = res\n",
    "\n",
    "hex_idx = hex_idx.append(hex_res_pop)\n",
    "        \n",
    "#-----------------------------------------------------------------------------------------------------------------------------------------------------    \n",
    "print(f\"Saved grouped data by hexagons res {res}\")\n",
    "#-----------------------------------------------------------------------------------------------------------------------------------------------------"
   ]
  },
  {
   "cell_type": "markdown",
   "id": "8b7bfae8-87e4-484e-99b2-f3e73dae07e3",
   "metadata": {},
   "source": [
    "### Step 4 - Recalculate ejes max times by hexagon"
   ]
  },
  {
   "cell_type": "code",
   "execution_count": 37,
   "id": "2f032e78-a011-4f3c-9937-6f1de89098f2",
   "metadata": {
    "tags": []
   },
   "outputs": [
    {
     "name": "stdout",
     "output_type": "stream",
     "text": [
      "Finished recalculating times in hexagons\n"
     ]
    }
   ],
   "source": [
    "#--------------- PROCESS DATA ---------- RE-CALCULATE MAX TIMES BY HEXAGON (ALL)\n",
    "# This step recalculates max time to each eje from max times to calculated amenities and max_time from max eje\n",
    "column_max_ejes = [] # list with ejes index column names\n",
    "\n",
    "#Goes (again) through each eje in dictionary:\n",
    "for e in definitions.keys():\n",
    "\n",
    "    column_max_ejes.append('max_'+ e.lower())\n",
    "    column_max_amenities = [] # list with amenities in current eje\n",
    "\n",
    "    #Goes (again) through each amenity of current eje:    \n",
    "    for a in definitions[e].keys():\n",
    "\n",
    "        column_max_amenities.append('max_'+ a.lower())\n",
    "\n",
    "    #Re-calculates time to currently examined eje (max time of its amenities):        \n",
    "    hex_idx['max_'+ e.lower()] = hex_idx[column_max_amenities].max(axis=1)\n",
    "\n",
    "#-----------------------------------------------------------------------------------------------------------------------------------------------------\n",
    "print('Finished recalculating times in hexagons')\n",
    "#-----------------------------------------------------------------------------------------------------------------------------------------------------   "
   ]
  },
  {
   "cell_type": "markdown",
   "id": "dc14e1a9-3b58-45a0-a6a9-5d74875764e0",
   "metadata": {},
   "source": [
    "### Step 4 - Calculate index and add aditional data"
   ]
  },
  {
   "cell_type": "code",
   "execution_count": 38,
   "id": "b9ab2967-63fd-4658-939e-c48e4f4733c3",
   "metadata": {
    "tags": []
   },
   "outputs": [
    {
     "name": "stdout",
     "output_type": "stream",
     "text": [
      "Finished calculating index, mean and median time\n"
     ]
    }
   ],
   "source": [
    "#--------------- PROCESS DATA ---------- INDEX, MEDIAN AND MEAN CALCULATION (ALL)\n",
    "\n",
    "#Define function\n",
    "def apply_sigmoidal(x):\n",
    "    if x == -1:\n",
    "        return -1\n",
    "    elif x > 1000:\n",
    "        return 0\n",
    "    else:\n",
    "        val = aup.sigmoidal_function(0.1464814753435666, x, 30)\n",
    "        return val\n",
    "\n",
    "#Apply function to amenities columns without ejes ---------------------------------------------///// En lugar de pasarle la lista de amenidades, se crea la lista de amenidades desde column_max_all\n",
    "max_amenities_cols = [i for i in column_max_all if i not in column_max_ejes]\n",
    "max_amenities_cols.remove('max_time')\n",
    "max_amenities_cols.remove('osmid')\n",
    "max_amenities_cols.remove('geometry')\n",
    "\n",
    "idx_amenities_cols = [] # list with idx amenity column names\n",
    "for ac in max_amenities_cols:\n",
    "    idx_col = ac.replace('max','idx')\n",
    "    hex_idx[idx_col] = hex_idx[ac].apply(apply_sigmoidal)\n",
    "    idx_amenities_cols.append(idx_col)\n",
    "\n",
    "# Add final data\n",
    "hex_idx[index_column] = hex_idx[column_max_ejes].max(axis=1)\n",
    "hex_idx['mean_time'] = hex_idx[max_amenities_cols].mean(axis=1)\n",
    "hex_idx['median_time'] = hex_idx[max_amenities_cols].median(axis=1)\n",
    "hex_idx['idx_sum'] = hex_idx[idx_amenities_cols].sum(axis=1)\n",
    "hex_idx['city'] = city\n",
    "#-----------------------------------------------------------------------------------------------------------------------------------------------------    \n",
    "print('Finished calculating index, mean and median time')\n",
    "#-----------------------------------------------------------------------------------------------------------------------------------------------------"
   ]
  },
  {
   "cell_type": "markdown",
   "id": "8e89dd7a-409e-449f-bdd8-8c0a391cda81",
   "metadata": {},
   "source": [
    "### Step 4 - Final format"
   ]
  },
  {
   "cell_type": "code",
   "execution_count": 40,
   "id": "6b5ee632-3877-426d-a0d8-84b7425b5a30",
   "metadata": {
    "tags": []
   },
   "outputs": [
    {
     "name": "stdout",
     "output_type": "stream",
     "text": [
      "Finished final format\n"
     ]
    }
   ],
   "source": [
    "#--------------- FINAL FORMAT ----------\n",
    "#--------------- FINAL FORMAT ---------- REORDER COLUMNS\n",
    "\n",
    "# First elements of ordered list - ID and geometry\n",
    "first_elements = ['hex_id','res','geometry']\n",
    "\n",
    "# Second elements of ordered list - max_ejes and max_amenities removing max_time, osmid and geometry.\n",
    "column_max_ejes_amenities = column_max_all.copy()\n",
    "column_max_ejes_amenities.remove('max_time')\n",
    "column_max_ejes_amenities.remove('osmid')\n",
    "column_max_ejes_amenities.remove('geometry')\n",
    "\n",
    "# Third elements of ordered list are listed in idx_amenities_cols\n",
    "\n",
    "# Fourth elements of ordered list - Mean, median, max and idx\n",
    "fourth_elements = ['mean_time', 'median_time', 'max_time', 'idx_sum']\n",
    "\n",
    "# Fifth elements - If pop is calculated - Pop data\n",
    "fifth_elements = ['pobtot', 'dens_pob_ha']\n",
    "\n",
    "# Last element - City data\n",
    "last_element = ['city']\n",
    "\n",
    "final_column_ordered_list = first_elements + column_max_ejes_amenities + idx_amenities_cols + fourth_elements + fifth_elements + last_element\n",
    "    \n",
    "hex_idx_city = hex_idx[final_column_ordered_list]\n",
    "    \n",
    "#---------------------------------------------------------------------------------------------------------------------------------------------------------\n",
    "print('Finished final format')\n",
    "#---------------------------------------------------------------------------------------------------------------------------------------------------------"
   ]
  },
  {
   "cell_type": "code",
   "execution_count": 41,
   "id": "00aeecd2-d15e-4fbb-8b94-ca55ce58995c",
   "metadata": {
    "tags": []
   },
   "outputs": [
    {
     "data": {
      "text/html": [
       "<div>\n",
       "<style scoped>\n",
       "    .dataframe tbody tr th:only-of-type {\n",
       "        vertical-align: middle;\n",
       "    }\n",
       "\n",
       "    .dataframe tbody tr th {\n",
       "        vertical-align: top;\n",
       "    }\n",
       "\n",
       "    .dataframe thead th {\n",
       "        text-align: right;\n",
       "    }\n",
       "</style>\n",
       "<table border=\"1\" class=\"dataframe\">\n",
       "  <thead>\n",
       "    <tr style=\"text-align: right;\">\n",
       "      <th></th>\n",
       "      <th>hex_id</th>\n",
       "      <th>res</th>\n",
       "      <th>geometry</th>\n",
       "      <th>max_transporte</th>\n",
       "      <th>max_regular</th>\n",
       "      <th>max_masivo</th>\n",
       "      <th>idx_regular</th>\n",
       "      <th>idx_masivo</th>\n",
       "      <th>mean_time</th>\n",
       "      <th>median_time</th>\n",
       "      <th>max_time</th>\n",
       "      <th>idx_sum</th>\n",
       "      <th>pobtot</th>\n",
       "      <th>dens_pob_ha</th>\n",
       "      <th>city</th>\n",
       "    </tr>\n",
       "  </thead>\n",
       "  <tbody>\n",
       "    <tr>\n",
       "      <th>0</th>\n",
       "      <td>8949aa252bbffff</td>\n",
       "      <td>9</td>\n",
       "      <td>POLYGON ((-103.40480 20.46253, -103.40358 20.4...</td>\n",
       "      <td>236.042667</td>\n",
       "      <td>7.051289</td>\n",
       "      <td>236.042667</td>\n",
       "      <td>0.966481</td>\n",
       "      <td>7.804945e-14</td>\n",
       "      <td>121.546978</td>\n",
       "      <td>121.546978</td>\n",
       "      <td>236.042667</td>\n",
       "      <td>0.966481</td>\n",
       "      <td>895.0</td>\n",
       "      <td>72.377587</td>\n",
       "      <td>Guadalajara</td>\n",
       "    </tr>\n",
       "    <tr>\n",
       "      <th>1</th>\n",
       "      <td>8949ab5943bffff</td>\n",
       "      <td>9</td>\n",
       "      <td>POLYGON ((-103.40982 20.60369, -103.40860 20.6...</td>\n",
       "      <td>10.557333</td>\n",
       "      <td>8.468927</td>\n",
       "      <td>10.557333</td>\n",
       "      <td>0.959062</td>\n",
       "      <td>9.452147e-01</td>\n",
       "      <td>9.513130</td>\n",
       "      <td>9.513130</td>\n",
       "      <td>10.557333</td>\n",
       "      <td>1.904277</td>\n",
       "      <td>19.0</td>\n",
       "      <td>1.536037</td>\n",
       "      <td>Guadalajara</td>\n",
       "    </tr>\n",
       "  </tbody>\n",
       "</table>\n",
       "</div>"
      ],
      "text/plain": [
       "            hex_id  res                                           geometry  \\\n",
       "0  8949aa252bbffff    9  POLYGON ((-103.40480 20.46253, -103.40358 20.4...   \n",
       "1  8949ab5943bffff    9  POLYGON ((-103.40982 20.60369, -103.40860 20.6...   \n",
       "\n",
       "   max_transporte  max_regular  max_masivo  idx_regular    idx_masivo  \\\n",
       "0      236.042667     7.051289  236.042667     0.966481  7.804945e-14   \n",
       "1       10.557333     8.468927   10.557333     0.959062  9.452147e-01   \n",
       "\n",
       "    mean_time  median_time    max_time   idx_sum  pobtot  dens_pob_ha  \\\n",
       "0  121.546978   121.546978  236.042667  0.966481   895.0    72.377587   \n",
       "1    9.513130     9.513130   10.557333  1.904277    19.0     1.536037   \n",
       "\n",
       "          city  \n",
       "0  Guadalajara  \n",
       "1  Guadalajara  "
      ]
     },
     "execution_count": 41,
     "metadata": {},
     "output_type": "execute_result"
    }
   ],
   "source": [
    "hex_idx_city.head(2)"
   ]
  },
  {
   "cell_type": "markdown",
   "id": "e9d7d610-b0ad-468a-8dd1-12bff7c029f3",
   "metadata": {},
   "source": [
    "## Local save"
   ]
  },
  {
   "cell_type": "code",
   "execution_count": 42,
   "id": "23ae12ea-bc1a-40e9-abec-4e32c79945e9",
   "metadata": {
    "tags": []
   },
   "outputs": [],
   "source": [
    "save_dir = f'../../data/external/temporal_fromjupyter/proximityanalysis_publictransport_{city}.gpkg'\n",
    "hex_idx_city.to_file(save_dir, driver='GPKG')"
   ]
  },
  {
   "cell_type": "code",
   "execution_count": null,
   "id": "b126b2ce-24e6-42fc-bdd9-9673deb16275",
   "metadata": {},
   "outputs": [],
   "source": []
  }
 ],
 "metadata": {
  "kernelspec": {
   "display_name": "Python 3 (ipykernel)",
   "language": "python",
   "name": "python3"
  },
  "language_info": {
   "codemirror_mode": {
    "name": "ipython",
    "version": 3
   },
   "file_extension": ".py",
   "mimetype": "text/x-python",
   "name": "python",
   "nbconvert_exporter": "python",
   "pygments_lexer": "ipython3",
   "version": "3.10.5"
  }
 },
 "nbformat": 4,
 "nbformat_minor": 5
}
