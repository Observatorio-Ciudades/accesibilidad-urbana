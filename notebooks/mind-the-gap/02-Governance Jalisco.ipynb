{
 "cells": [
  {
   "cell_type": "markdown",
   "id": "1dfe23a8-934b-4bf6-920f-ea58c887abcb",
   "metadata": {
    "tags": []
   },
   "source": [
    "## Importing data"
   ]
  },
  {
   "cell_type": "code",
   "execution_count": 1,
   "id": "958a346b-a190-4cbd-ae31-01dcf3b6e6ba",
   "metadata": {
    "tags": []
   },
   "outputs": [
    {
     "name": "stdout",
     "output_type": "stream",
     "text": [
      "2022-12-08 22:46:35 Configured OSMnx 1.1.1\n",
      "2022-12-08 22:46:35 HTTP response caching is on\n"
     ]
    }
   ],
   "source": [
    "import os\n",
    "import sys\n",
    "\n",
    "import pandas as pd\n",
    "import geopandas as gpd\n",
    "import numpy as np\n",
    "\n",
    "import matplotlib.pyplot as plt\n",
    "import seaborn as sns\n",
    "\n",
    "import warnings\n",
    "warnings.simplefilter(action='ignore', category=FutureWarning)\n",
    "\n",
    "module_path = os.path.abspath(os.path.join('../../'))\n",
    "if module_path not in sys.path:\n",
    "    sys.path.append(module_path)\n",
    "    import aup"
   ]
  },
  {
   "cell_type": "code",
   "execution_count": 2,
   "id": "a85bb1c7-da34-4a2b-8899-b42de4f6a93d",
   "metadata": {
    "tags": []
   },
   "outputs": [],
   "source": [
    "#Importing jalisco elections participation data\n",
    "gdf = gpd.read_file(\"../../data/external/gobernance/jalisco/secciones_jalisco2021.gpkg\")"
   ]
  },
  {
   "cell_type": "code",
   "execution_count": 3,
   "id": "0c15d6b3-6c0e-4753-8b59-fcfbd1c07d48",
   "metadata": {},
   "outputs": [
    {
     "data": {
      "text/html": [
       "<div>\n",
       "<style scoped>\n",
       "    .dataframe tbody tr th:only-of-type {\n",
       "        vertical-align: middle;\n",
       "    }\n",
       "\n",
       "    .dataframe tbody tr th {\n",
       "        vertical-align: top;\n",
       "    }\n",
       "\n",
       "    .dataframe thead th {\n",
       "        text-align: right;\n",
       "    }\n",
       "</style>\n",
       "<table border=\"1\" class=\"dataframe\">\n",
       "  <thead>\n",
       "    <tr style=\"text-align: right;\">\n",
       "      <th></th>\n",
       "      <th>ID</th>\n",
       "      <th>ENTIDAD</th>\n",
       "      <th>DISTRITO</th>\n",
       "      <th>MUNICIPIO</th>\n",
       "      <th>SECCION</th>\n",
       "      <th>TIPO</th>\n",
       "      <th>CONTROL</th>\n",
       "      <th>Geometry1_</th>\n",
       "      <th>ayun_votos</th>\n",
       "      <th>dip_votos</th>\n",
       "      <th>listanominal</th>\n",
       "      <th>parti_ayun</th>\n",
       "      <th>parti_dip</th>\n",
       "      <th>geometry</th>\n",
       "    </tr>\n",
       "  </thead>\n",
       "  <tbody>\n",
       "    <tr>\n",
       "      <th>0</th>\n",
       "      <td>1</td>\n",
       "      <td>14</td>\n",
       "      <td>2</td>\n",
       "      <td>75</td>\n",
       "      <td>2085</td>\n",
       "      <td>4</td>\n",
       "      <td>1</td>\n",
       "      <td>1=X&lt;R</td>\n",
       "      <td>181</td>\n",
       "      <td>181</td>\n",
       "      <td>505.0</td>\n",
       "      <td>0.358416</td>\n",
       "      <td>0.358416</td>\n",
       "      <td>MULTIPOLYGON (((-102.48286 21.32737, -102.4884...</td>\n",
       "    </tr>\n",
       "    <tr>\n",
       "      <th>1</th>\n",
       "      <td>2</td>\n",
       "      <td>14</td>\n",
       "      <td>2</td>\n",
       "      <td>75</td>\n",
       "      <td>2087</td>\n",
       "      <td>4</td>\n",
       "      <td>2</td>\n",
       "      <td>1=X&lt;R</td>\n",
       "      <td>377</td>\n",
       "      <td>377</td>\n",
       "      <td>771.0</td>\n",
       "      <td>0.488975</td>\n",
       "      <td>0.488975</td>\n",
       "      <td>MULTIPOLYGON (((-102.35864 21.41105, -102.3580...</td>\n",
       "    </tr>\n",
       "    <tr>\n",
       "      <th>2</th>\n",
       "      <td>3</td>\n",
       "      <td>14</td>\n",
       "      <td>2</td>\n",
       "      <td>75</td>\n",
       "      <td>2086</td>\n",
       "      <td>4</td>\n",
       "      <td>3</td>\n",
       "      <td>1=X&lt;R</td>\n",
       "      <td>269</td>\n",
       "      <td>270</td>\n",
       "      <td>747.0</td>\n",
       "      <td>0.360107</td>\n",
       "      <td>0.361446</td>\n",
       "      <td>MULTIPOLYGON (((-102.42158 21.36718, -102.4180...</td>\n",
       "    </tr>\n",
       "    <tr>\n",
       "      <th>3</th>\n",
       "      <td>4</td>\n",
       "      <td>14</td>\n",
       "      <td>2</td>\n",
       "      <td>75</td>\n",
       "      <td>2067</td>\n",
       "      <td>3</td>\n",
       "      <td>4</td>\n",
       "      <td>1=X&lt;Rq</td>\n",
       "      <td>3497</td>\n",
       "      <td>3509</td>\n",
       "      <td>6288.0</td>\n",
       "      <td>0.556139</td>\n",
       "      <td>0.558047</td>\n",
       "      <td>MULTIPOLYGON (((-102.34739 21.24847, -102.3454...</td>\n",
       "    </tr>\n",
       "    <tr>\n",
       "      <th>4</th>\n",
       "      <td>5</td>\n",
       "      <td>14</td>\n",
       "      <td>2</td>\n",
       "      <td>75</td>\n",
       "      <td>2088</td>\n",
       "      <td>4</td>\n",
       "      <td>5</td>\n",
       "      <td>1=X&lt;R</td>\n",
       "      <td>222</td>\n",
       "      <td>221</td>\n",
       "      <td>710.0</td>\n",
       "      <td>0.312676</td>\n",
       "      <td>0.311268</td>\n",
       "      <td>MULTIPOLYGON (((-102.31325 21.39300, -102.3124...</td>\n",
       "    </tr>\n",
       "    <tr>\n",
       "      <th>...</th>\n",
       "      <td>...</td>\n",
       "      <td>...</td>\n",
       "      <td>...</td>\n",
       "      <td>...</td>\n",
       "      <td>...</td>\n",
       "      <td>...</td>\n",
       "      <td>...</td>\n",
       "      <td>...</td>\n",
       "      <td>...</td>\n",
       "      <td>...</td>\n",
       "      <td>...</td>\n",
       "      <td>...</td>\n",
       "      <td>...</td>\n",
       "      <td>...</td>\n",
       "    </tr>\n",
       "    <tr>\n",
       "      <th>3565</th>\n",
       "      <td>3618</td>\n",
       "      <td>14</td>\n",
       "      <td>1</td>\n",
       "      <td>84</td>\n",
       "      <td>2202</td>\n",
       "      <td>3</td>\n",
       "      <td>2320</td>\n",
       "      <td>1=X&lt;Kf</td>\n",
       "      <td>495</td>\n",
       "      <td>495</td>\n",
       "      <td>899.0</td>\n",
       "      <td>0.550612</td>\n",
       "      <td>0.550612</td>\n",
       "      <td>MULTIPOLYGON (((-103.72006 20.58449, -103.7179...</td>\n",
       "    </tr>\n",
       "    <tr>\n",
       "      <th>3566</th>\n",
       "      <td>3619</td>\n",
       "      <td>14</td>\n",
       "      <td>1</td>\n",
       "      <td>84</td>\n",
       "      <td>2206</td>\n",
       "      <td>3</td>\n",
       "      <td>2324</td>\n",
       "      <td>1=X&lt;Kf</td>\n",
       "      <td>1047</td>\n",
       "      <td>1048</td>\n",
       "      <td>1685.0</td>\n",
       "      <td>0.621365</td>\n",
       "      <td>0.621958</td>\n",
       "      <td>MULTIPOLYGON (((-103.78016 20.61688, -103.7788...</td>\n",
       "    </tr>\n",
       "    <tr>\n",
       "      <th>3567</th>\n",
       "      <td>3620</td>\n",
       "      <td>14</td>\n",
       "      <td>1</td>\n",
       "      <td>84</td>\n",
       "      <td>2204</td>\n",
       "      <td>4</td>\n",
       "      <td>2326</td>\n",
       "      <td>1=X&lt;Kf</td>\n",
       "      <td>809</td>\n",
       "      <td>809</td>\n",
       "      <td>1291.0</td>\n",
       "      <td>0.626646</td>\n",
       "      <td>0.626646</td>\n",
       "      <td>MULTIPOLYGON (((-103.70869 20.58377, -103.7089...</td>\n",
       "    </tr>\n",
       "    <tr>\n",
       "      <th>3568</th>\n",
       "      <td>3621</td>\n",
       "      <td>14</td>\n",
       "      <td>11</td>\n",
       "      <td>41</td>\n",
       "      <td>1380</td>\n",
       "      <td>2</td>\n",
       "      <td>1271</td>\n",
       "      <td>1=X&lt;rgp</td>\n",
       "      <td>1418</td>\n",
       "      <td>1416</td>\n",
       "      <td>2832.0</td>\n",
       "      <td>0.500706</td>\n",
       "      <td>0.500000</td>\n",
       "      <td>MULTIPOLYGON (((-103.27986 20.67923, -103.2788...</td>\n",
       "    </tr>\n",
       "    <tr>\n",
       "      <th>3569</th>\n",
       "      <td>3622</td>\n",
       "      <td>14</td>\n",
       "      <td>3</td>\n",
       "      <td>118</td>\n",
       "      <td>2869</td>\n",
       "      <td>3</td>\n",
       "      <td>3524</td>\n",
       "      <td>1=X&lt;Qp</td>\n",
       "      <td>1014</td>\n",
       "      <td>1014</td>\n",
       "      <td>1847.0</td>\n",
       "      <td>0.548998</td>\n",
       "      <td>0.548998</td>\n",
       "      <td>MULTIPOLYGON (((-102.88029 21.18075, -102.8801...</td>\n",
       "    </tr>\n",
       "  </tbody>\n",
       "</table>\n",
       "<p>3570 rows × 14 columns</p>\n",
       "</div>"
      ],
      "text/plain": [
       "        ID  ENTIDAD  DISTRITO  MUNICIPIO  SECCION  TIPO  CONTROL Geometry1_  \\\n",
       "0        1       14         2         75     2085     4        1      1=X<R   \n",
       "1        2       14         2         75     2087     4        2      1=X<R   \n",
       "2        3       14         2         75     2086     4        3      1=X<R   \n",
       "3        4       14         2         75     2067     3        4     1=X<Rq   \n",
       "4        5       14         2         75     2088     4        5      1=X<R   \n",
       "...    ...      ...       ...        ...      ...   ...      ...        ...   \n",
       "3565  3618       14         1         84     2202     3     2320     1=X<Kf   \n",
       "3566  3619       14         1         84     2206     3     2324     1=X<Kf   \n",
       "3567  3620       14         1         84     2204     4     2326     1=X<Kf   \n",
       "3568  3621       14        11         41     1380     2     1271    1=X<rgp   \n",
       "3569  3622       14         3        118     2869     3     3524     1=X<Qp   \n",
       "\n",
       "     ayun_votos dip_votos  listanominal  parti_ayun  parti_dip  \\\n",
       "0           181       181         505.0    0.358416   0.358416   \n",
       "1           377       377         771.0    0.488975   0.488975   \n",
       "2           269       270         747.0    0.360107   0.361446   \n",
       "3          3497      3509        6288.0    0.556139   0.558047   \n",
       "4           222       221         710.0    0.312676   0.311268   \n",
       "...         ...       ...           ...         ...        ...   \n",
       "3565        495       495         899.0    0.550612   0.550612   \n",
       "3566       1047      1048        1685.0    0.621365   0.621958   \n",
       "3567        809       809        1291.0    0.626646   0.626646   \n",
       "3568       1418      1416        2832.0    0.500706   0.500000   \n",
       "3569       1014      1014        1847.0    0.548998   0.548998   \n",
       "\n",
       "                                               geometry  \n",
       "0     MULTIPOLYGON (((-102.48286 21.32737, -102.4884...  \n",
       "1     MULTIPOLYGON (((-102.35864 21.41105, -102.3580...  \n",
       "2     MULTIPOLYGON (((-102.42158 21.36718, -102.4180...  \n",
       "3     MULTIPOLYGON (((-102.34739 21.24847, -102.3454...  \n",
       "4     MULTIPOLYGON (((-102.31325 21.39300, -102.3124...  \n",
       "...                                                 ...  \n",
       "3565  MULTIPOLYGON (((-103.72006 20.58449, -103.7179...  \n",
       "3566  MULTIPOLYGON (((-103.78016 20.61688, -103.7788...  \n",
       "3567  MULTIPOLYGON (((-103.70869 20.58377, -103.7089...  \n",
       "3568  MULTIPOLYGON (((-103.27986 20.67923, -103.2788...  \n",
       "3569  MULTIPOLYGON (((-102.88029 21.18075, -102.8801...  \n",
       "\n",
       "[3570 rows x 14 columns]"
      ]
     },
     "execution_count": 3,
     "metadata": {},
     "output_type": "execute_result"
    }
   ],
   "source": [
    "gdf"
   ]
  },
  {
   "cell_type": "markdown",
   "id": "4f2be770-d54e-49eb-9f77-dcee0c54b369",
   "metadata": {
    "tags": []
   },
   "source": [
    "## Data treatment"
   ]
  },
  {
   "cell_type": "markdown",
   "id": "ed25d32c-4b83-4d30-b45d-eddf219b558a",
   "metadata": {
    "tags": []
   },
   "source": [
    "### Creating parti_max"
   ]
  },
  {
   "cell_type": "code",
   "execution_count": 4,
   "id": "a4516462-4396-41ea-ac5c-39884a632161",
   "metadata": {},
   "outputs": [
    {
     "data": {
      "text/html": [
       "<div>\n",
       "<style scoped>\n",
       "    .dataframe tbody tr th:only-of-type {\n",
       "        vertical-align: middle;\n",
       "    }\n",
       "\n",
       "    .dataframe tbody tr th {\n",
       "        vertical-align: top;\n",
       "    }\n",
       "\n",
       "    .dataframe thead th {\n",
       "        text-align: right;\n",
       "    }\n",
       "</style>\n",
       "<table border=\"1\" class=\"dataframe\">\n",
       "  <thead>\n",
       "    <tr style=\"text-align: right;\">\n",
       "      <th></th>\n",
       "      <th>parti_ayun</th>\n",
       "      <th>parti_dip</th>\n",
       "    </tr>\n",
       "  </thead>\n",
       "  <tbody>\n",
       "    <tr>\n",
       "      <th>0</th>\n",
       "      <td>0.358416</td>\n",
       "      <td>0.358416</td>\n",
       "    </tr>\n",
       "    <tr>\n",
       "      <th>1</th>\n",
       "      <td>0.488975</td>\n",
       "      <td>0.488975</td>\n",
       "    </tr>\n",
       "    <tr>\n",
       "      <th>2</th>\n",
       "      <td>0.360107</td>\n",
       "      <td>0.361446</td>\n",
       "    </tr>\n",
       "    <tr>\n",
       "      <th>3</th>\n",
       "      <td>0.556139</td>\n",
       "      <td>0.558047</td>\n",
       "    </tr>\n",
       "    <tr>\n",
       "      <th>4</th>\n",
       "      <td>0.312676</td>\n",
       "      <td>0.311268</td>\n",
       "    </tr>\n",
       "    <tr>\n",
       "      <th>...</th>\n",
       "      <td>...</td>\n",
       "      <td>...</td>\n",
       "    </tr>\n",
       "    <tr>\n",
       "      <th>3565</th>\n",
       "      <td>0.550612</td>\n",
       "      <td>0.550612</td>\n",
       "    </tr>\n",
       "    <tr>\n",
       "      <th>3566</th>\n",
       "      <td>0.621365</td>\n",
       "      <td>0.621958</td>\n",
       "    </tr>\n",
       "    <tr>\n",
       "      <th>3567</th>\n",
       "      <td>0.626646</td>\n",
       "      <td>0.626646</td>\n",
       "    </tr>\n",
       "    <tr>\n",
       "      <th>3568</th>\n",
       "      <td>0.500706</td>\n",
       "      <td>0.500000</td>\n",
       "    </tr>\n",
       "    <tr>\n",
       "      <th>3569</th>\n",
       "      <td>0.548998</td>\n",
       "      <td>0.548998</td>\n",
       "    </tr>\n",
       "  </tbody>\n",
       "</table>\n",
       "<p>3570 rows × 2 columns</p>\n",
       "</div>"
      ],
      "text/plain": [
       "      parti_ayun  parti_dip\n",
       "0       0.358416   0.358416\n",
       "1       0.488975   0.488975\n",
       "2       0.360107   0.361446\n",
       "3       0.556139   0.558047\n",
       "4       0.312676   0.311268\n",
       "...          ...        ...\n",
       "3565    0.550612   0.550612\n",
       "3566    0.621365   0.621958\n",
       "3567    0.626646   0.626646\n",
       "3568    0.500706   0.500000\n",
       "3569    0.548998   0.548998\n",
       "\n",
       "[3570 rows x 2 columns]"
      ]
     },
     "execution_count": 4,
     "metadata": {},
     "output_type": "execute_result"
    }
   ],
   "source": [
    "#There is data for two types of elections. Ayuntamientos (ayun) and diputados(dip)\n",
    "gdf[[\"parti_ayun\",\"parti_dip\"]]"
   ]
  },
  {
   "cell_type": "code",
   "execution_count": 5,
   "id": "8ef96571-88c7-491d-84be-55685781d6d8",
   "metadata": {},
   "outputs": [],
   "source": [
    "#Finding the highest participation percentaje. axis=1 indicates to find the max per row, not column.\n",
    "gdf[\"parti_max\"] = gdf[[\"parti_ayun\",\"parti_dip\"]].max(axis=1)"
   ]
  },
  {
   "cell_type": "markdown",
   "id": "b4136972-1bf8-49fd-a58c-898798387757",
   "metadata": {
    "tags": []
   },
   "source": [
    "### Removing higher than 1 values"
   ]
  },
  {
   "cell_type": "code",
   "execution_count": 6,
   "id": "24c1afca-c96b-4ca3-a2a7-63c16e6f8213",
   "metadata": {},
   "outputs": [
    {
     "data": {
      "text/html": [
       "<div>\n",
       "<style scoped>\n",
       "    .dataframe tbody tr th:only-of-type {\n",
       "        vertical-align: middle;\n",
       "    }\n",
       "\n",
       "    .dataframe tbody tr th {\n",
       "        vertical-align: top;\n",
       "    }\n",
       "\n",
       "    .dataframe thead th {\n",
       "        text-align: right;\n",
       "    }\n",
       "</style>\n",
       "<table border=\"1\" class=\"dataframe\">\n",
       "  <thead>\n",
       "    <tr style=\"text-align: right;\">\n",
       "      <th></th>\n",
       "      <th>ID</th>\n",
       "      <th>ENTIDAD</th>\n",
       "      <th>DISTRITO</th>\n",
       "      <th>MUNICIPIO</th>\n",
       "      <th>SECCION</th>\n",
       "      <th>TIPO</th>\n",
       "      <th>CONTROL</th>\n",
       "      <th>Geometry1_</th>\n",
       "      <th>ayun_votos</th>\n",
       "      <th>dip_votos</th>\n",
       "      <th>listanominal</th>\n",
       "      <th>parti_ayun</th>\n",
       "      <th>parti_dip</th>\n",
       "      <th>geometry</th>\n",
       "      <th>parti_max</th>\n",
       "    </tr>\n",
       "  </thead>\n",
       "  <tbody>\n",
       "    <tr>\n",
       "      <th>1355</th>\n",
       "      <td>1378</td>\n",
       "      <td>14</td>\n",
       "      <td>6</td>\n",
       "      <td>120</td>\n",
       "      <td>3031</td>\n",
       "      <td>2</td>\n",
       "      <td>1469</td>\n",
       "      <td>1=X&lt;KeZ</td>\n",
       "      <td>910</td>\n",
       "      <td>233213</td>\n",
       "      <td>2450.0</td>\n",
       "      <td>0.371429</td>\n",
       "      <td>95.188980</td>\n",
       "      <td>MULTIPOLYGON (((-103.42565 20.73332, -103.4256...</td>\n",
       "      <td>95.188980</td>\n",
       "    </tr>\n",
       "    <tr>\n",
       "      <th>2175</th>\n",
       "      <td>2203</td>\n",
       "      <td>14</td>\n",
       "      <td>15</td>\n",
       "      <td>65</td>\n",
       "      <td>1859</td>\n",
       "      <td>2</td>\n",
       "      <td>2570</td>\n",
       "      <td>1=X&lt;v7V</td>\n",
       "      <td>727</td>\n",
       "      <td>1537</td>\n",
       "      <td>1441.0</td>\n",
       "      <td>0.504511</td>\n",
       "      <td>1.066620</td>\n",
       "      <td>MULTIPOLYGON (((-102.76757 20.35604, -102.7671...</td>\n",
       "      <td>1.066620</td>\n",
       "    </tr>\n",
       "    <tr>\n",
       "      <th>2180</th>\n",
       "      <td>2208</td>\n",
       "      <td>14</td>\n",
       "      <td>15</td>\n",
       "      <td>65</td>\n",
       "      <td>1863</td>\n",
       "      <td>2</td>\n",
       "      <td>2575</td>\n",
       "      <td>1=X&lt;v5</td>\n",
       "      <td>347</td>\n",
       "      <td>684</td>\n",
       "      <td>636.0</td>\n",
       "      <td>0.545597</td>\n",
       "      <td>1.075472</td>\n",
       "      <td>MULTIPOLYGON (((-102.77334 20.35211, -102.7728...</td>\n",
       "      <td>1.075472</td>\n",
       "    </tr>\n",
       "    <tr>\n",
       "      <th>2302</th>\n",
       "      <td>2330</td>\n",
       "      <td>14</td>\n",
       "      <td>19</td>\n",
       "      <td>104</td>\n",
       "      <td>2741</td>\n",
       "      <td>4</td>\n",
       "      <td>2732</td>\n",
       "      <td>1=X&lt;Pp</td>\n",
       "      <td>234</td>\n",
       "      <td>346</td>\n",
       "      <td>300.0</td>\n",
       "      <td>0.780000</td>\n",
       "      <td>1.153333</td>\n",
       "      <td>MULTIPOLYGON (((-103.48624 19.35941, -103.4869...</td>\n",
       "      <td>1.153333</td>\n",
       "    </tr>\n",
       "    <tr>\n",
       "      <th>2409</th>\n",
       "      <td>2437</td>\n",
       "      <td>14</td>\n",
       "      <td>15</td>\n",
       "      <td>34</td>\n",
       "      <td>492</td>\n",
       "      <td>4</td>\n",
       "      <td>2944</td>\n",
       "      <td>1=X&lt;p</td>\n",
       "      <td>74</td>\n",
       "      <td>207</td>\n",
       "      <td>161.0</td>\n",
       "      <td>0.459627</td>\n",
       "      <td>1.285714</td>\n",
       "      <td>MULTIPOLYGON (((-102.23435 20.48814, -102.2330...</td>\n",
       "      <td>1.285714</td>\n",
       "    </tr>\n",
       "    <tr>\n",
       "      <th>2463</th>\n",
       "      <td>2491</td>\n",
       "      <td>14</td>\n",
       "      <td>5</td>\n",
       "      <td>69</td>\n",
       "      <td>1944</td>\n",
       "      <td>2</td>\n",
       "      <td>3032</td>\n",
       "      <td>1=X&lt;Hs</td>\n",
       "      <td>865</td>\n",
       "      <td>3342</td>\n",
       "      <td>1895.0</td>\n",
       "      <td>0.456464</td>\n",
       "      <td>1.763588</td>\n",
       "      <td>MULTIPOLYGON (((-105.22272 20.65296, -105.2220...</td>\n",
       "      <td>1.763588</td>\n",
       "    </tr>\n",
       "    <tr>\n",
       "      <th>2597</th>\n",
       "      <td>2625</td>\n",
       "      <td>14</td>\n",
       "      <td>2</td>\n",
       "      <td>55</td>\n",
       "      <td>1741</td>\n",
       "      <td>4</td>\n",
       "      <td>3221</td>\n",
       "      <td>1=X&lt;e</td>\n",
       "      <td>507</td>\n",
       "      <td>833</td>\n",
       "      <td>803.0</td>\n",
       "      <td>0.631382</td>\n",
       "      <td>1.037360</td>\n",
       "      <td>MULTIPOLYGON (((-101.84758 21.76201, -101.8453...</td>\n",
       "      <td>1.037360</td>\n",
       "    </tr>\n",
       "    <tr>\n",
       "      <th>3324</th>\n",
       "      <td>3374</td>\n",
       "      <td>14</td>\n",
       "      <td>1</td>\n",
       "      <td>5</td>\n",
       "      <td>44</td>\n",
       "      <td>4</td>\n",
       "      <td>2314</td>\n",
       "      <td>1=X&lt;K-</td>\n",
       "      <td>316</td>\n",
       "      <td>570</td>\n",
       "      <td>524.0</td>\n",
       "      <td>0.603053</td>\n",
       "      <td>1.087786</td>\n",
       "      <td>MULTIPOLYGON (((-103.74685 20.90430, -103.7468...</td>\n",
       "      <td>1.087786</td>\n",
       "    </tr>\n",
       "    <tr>\n",
       "      <th>3385</th>\n",
       "      <td>3438</td>\n",
       "      <td>14</td>\n",
       "      <td>1</td>\n",
       "      <td>95</td>\n",
       "      <td>2409</td>\n",
       "      <td>4</td>\n",
       "      <td>2815</td>\n",
       "      <td>1=X&lt;I</td>\n",
       "      <td>353</td>\n",
       "      <td>151</td>\n",
       "      <td>242.0</td>\n",
       "      <td>1.458678</td>\n",
       "      <td>0.623967</td>\n",
       "      <td>MULTIPOLYGON (((-103.96915 21.25660, -103.9683...</td>\n",
       "      <td>1.458678</td>\n",
       "    </tr>\n",
       "  </tbody>\n",
       "</table>\n",
       "</div>"
      ],
      "text/plain": [
       "        ID  ENTIDAD  DISTRITO  MUNICIPIO  SECCION  TIPO  CONTROL Geometry1_  \\\n",
       "1355  1378       14         6        120     3031     2     1469    1=X<KeZ   \n",
       "2175  2203       14        15         65     1859     2     2570    1=X<v7V   \n",
       "2180  2208       14        15         65     1863     2     2575     1=X<v5   \n",
       "2302  2330       14        19        104     2741     4     2732     1=X<Pp   \n",
       "2409  2437       14        15         34      492     4     2944      1=X<p   \n",
       "2463  2491       14         5         69     1944     2     3032     1=X<Hs   \n",
       "2597  2625       14         2         55     1741     4     3221      1=X<e   \n",
       "3324  3374       14         1          5       44     4     2314     1=X<K-   \n",
       "3385  3438       14         1         95     2409     4     2815      1=X<I   \n",
       "\n",
       "     ayun_votos dip_votos  listanominal  parti_ayun  parti_dip  \\\n",
       "1355        910    233213        2450.0    0.371429  95.188980   \n",
       "2175        727      1537        1441.0    0.504511   1.066620   \n",
       "2180        347       684         636.0    0.545597   1.075472   \n",
       "2302        234       346         300.0    0.780000   1.153333   \n",
       "2409         74       207         161.0    0.459627   1.285714   \n",
       "2463        865      3342        1895.0    0.456464   1.763588   \n",
       "2597        507       833         803.0    0.631382   1.037360   \n",
       "3324        316       570         524.0    0.603053   1.087786   \n",
       "3385        353       151         242.0    1.458678   0.623967   \n",
       "\n",
       "                                               geometry  parti_max  \n",
       "1355  MULTIPOLYGON (((-103.42565 20.73332, -103.4256...  95.188980  \n",
       "2175  MULTIPOLYGON (((-102.76757 20.35604, -102.7671...   1.066620  \n",
       "2180  MULTIPOLYGON (((-102.77334 20.35211, -102.7728...   1.075472  \n",
       "2302  MULTIPOLYGON (((-103.48624 19.35941, -103.4869...   1.153333  \n",
       "2409  MULTIPOLYGON (((-102.23435 20.48814, -102.2330...   1.285714  \n",
       "2463  MULTIPOLYGON (((-105.22272 20.65296, -105.2220...   1.763588  \n",
       "2597  MULTIPOLYGON (((-101.84758 21.76201, -101.8453...   1.037360  \n",
       "3324  MULTIPOLYGON (((-103.74685 20.90430, -103.7468...   1.087786  \n",
       "3385  MULTIPOLYGON (((-103.96915 21.25660, -103.9683...   1.458678  "
      ]
     },
     "execution_count": 6,
     "metadata": {},
     "output_type": "execute_result"
    }
   ],
   "source": [
    "#idx gets all higher than 1 values\n",
    "idx = gdf[\"parti_max\"] > 1\n",
    "gdf.loc[idx]"
   ]
  },
  {
   "cell_type": "code",
   "execution_count": 7,
   "id": "93827def-7aac-4713-b64b-e491f2fd34af",
   "metadata": {},
   "outputs": [
    {
     "data": {
      "text/html": [
       "<div>\n",
       "<style scoped>\n",
       "    .dataframe tbody tr th:only-of-type {\n",
       "        vertical-align: middle;\n",
       "    }\n",
       "\n",
       "    .dataframe tbody tr th {\n",
       "        vertical-align: top;\n",
       "    }\n",
       "\n",
       "    .dataframe thead th {\n",
       "        text-align: right;\n",
       "    }\n",
       "</style>\n",
       "<table border=\"1\" class=\"dataframe\">\n",
       "  <thead>\n",
       "    <tr style=\"text-align: right;\">\n",
       "      <th></th>\n",
       "      <th>ID</th>\n",
       "      <th>ENTIDAD</th>\n",
       "      <th>DISTRITO</th>\n",
       "      <th>MUNICIPIO</th>\n",
       "      <th>SECCION</th>\n",
       "      <th>TIPO</th>\n",
       "      <th>CONTROL</th>\n",
       "      <th>Geometry1_</th>\n",
       "      <th>ayun_votos</th>\n",
       "      <th>dip_votos</th>\n",
       "      <th>listanominal</th>\n",
       "      <th>parti_ayun</th>\n",
       "      <th>parti_dip</th>\n",
       "      <th>geometry</th>\n",
       "      <th>parti_max</th>\n",
       "    </tr>\n",
       "  </thead>\n",
       "  <tbody>\n",
       "  </tbody>\n",
       "</table>\n",
       "</div>"
      ],
      "text/plain": [
       "Empty GeoDataFrame\n",
       "Columns: [ID, ENTIDAD, DISTRITO, MUNICIPIO, SECCION, TIPO, CONTROL, Geometry1_, ayun_votos, dip_votos, listanominal, parti_ayun, parti_dip, geometry, parti_max]\n",
       "Index: []"
      ]
     },
     "execution_count": 7,
     "metadata": {},
     "output_type": "execute_result"
    }
   ],
   "source": [
    "#Changing all values>1 to 1\n",
    "gdf.loc[idx,\"parti_max\"] = 1\n",
    "idx = gdf[\"parti_max\"] > 1\n",
    "gdf.loc[idx]"
   ]
  },
  {
   "cell_type": "markdown",
   "id": "1df2da35-2206-4184-b68a-152ff1c1b170",
   "metadata": {
    "tags": []
   },
   "source": [
    "### Upload data to database"
   ]
  },
  {
   "cell_type": "code",
   "execution_count": 8,
   "id": "e5897d0b-d6b4-4ba0-b131-58f0d8dba249",
   "metadata": {},
   "outputs": [],
   "source": [
    "aup.gdf_to_db_slow(gdf,\"participacion_jalisco\", 'governance', if_exists='replace')"
   ]
  },
  {
   "cell_type": "markdown",
   "id": "0366b593-2cd0-47f8-b4a7-837098063936",
   "metadata": {
    "jp-MarkdownHeadingCollapsed": true,
    "tags": []
   },
   "source": [
    "## Linking Data -to-> nodes -to-> hex"
   ]
  },
  {
   "cell_type": "markdown",
   "id": "f0a96411-442a-4953-bfcf-b24194c19728",
   "metadata": {
    "tags": []
   },
   "source": [
    "### Downloading previous data from database and downloading nodes and edges"
   ]
  },
  {
   "cell_type": "code",
   "execution_count": 10,
   "id": "db80015a-4afa-4793-872a-94f168c154f8",
   "metadata": {},
   "outputs": [
    {
     "data": {
      "text/html": [
       "<div>\n",
       "<style scoped>\n",
       "    .dataframe tbody tr th:only-of-type {\n",
       "        vertical-align: middle;\n",
       "    }\n",
       "\n",
       "    .dataframe tbody tr th {\n",
       "        vertical-align: top;\n",
       "    }\n",
       "\n",
       "    .dataframe thead th {\n",
       "        text-align: right;\n",
       "    }\n",
       "</style>\n",
       "<table border=\"1\" class=\"dataframe\">\n",
       "  <thead>\n",
       "    <tr style=\"text-align: right;\">\n",
       "      <th></th>\n",
       "      <th>ID</th>\n",
       "      <th>ENTIDAD</th>\n",
       "      <th>DISTRITO</th>\n",
       "      <th>MUNICIPIO</th>\n",
       "      <th>SECCION</th>\n",
       "      <th>TIPO</th>\n",
       "      <th>CONTROL</th>\n",
       "      <th>Geometry1_</th>\n",
       "      <th>ayun_votos</th>\n",
       "      <th>dip_votos</th>\n",
       "      <th>listanominal</th>\n",
       "      <th>parti_ayun</th>\n",
       "      <th>parti_dip</th>\n",
       "      <th>geometry</th>\n",
       "      <th>parti_max</th>\n",
       "    </tr>\n",
       "  </thead>\n",
       "  <tbody>\n",
       "    <tr>\n",
       "      <th>0</th>\n",
       "      <td>1</td>\n",
       "      <td>14</td>\n",
       "      <td>2</td>\n",
       "      <td>75</td>\n",
       "      <td>2085</td>\n",
       "      <td>4</td>\n",
       "      <td>1</td>\n",
       "      <td>1=X&lt;R</td>\n",
       "      <td>181</td>\n",
       "      <td>181</td>\n",
       "      <td>505.0</td>\n",
       "      <td>0.358416</td>\n",
       "      <td>0.358416</td>\n",
       "      <td>MULTIPOLYGON (((-102.48286 21.32737, -102.4884...</td>\n",
       "      <td>0.358416</td>\n",
       "    </tr>\n",
       "  </tbody>\n",
       "</table>\n",
       "</div>"
      ],
      "text/plain": [
       "   ID  ENTIDAD  DISTRITO  MUNICIPIO  SECCION  TIPO  CONTROL Geometry1_  \\\n",
       "0   1       14         2         75     2085     4        1      1=X<R   \n",
       "\n",
       "  ayun_votos dip_votos  listanominal  parti_ayun  parti_dip  \\\n",
       "0        181       181         505.0    0.358416   0.358416   \n",
       "\n",
       "                                            geometry  parti_max  \n",
       "0  MULTIPOLYGON (((-102.48286 21.32737, -102.4884...   0.358416  "
      ]
     },
     "execution_count": 10,
     "metadata": {},
     "output_type": "execute_result"
    }
   ],
   "source": [
    "#Previous data\n",
    "jlsdata = aup.gdf_from_db(\"participacion_jalisco\", 'governance')\n",
    "jlsdata.head(1)"
   ]
  },
  {
   "cell_type": "code",
   "execution_count": 11,
   "id": "fd44009a-6be2-4140-b66e-a5654af65543",
   "metadata": {},
   "outputs": [
    {
     "name": "stdout",
     "output_type": "stream",
     "text": [
      "2022-12-08 23:00:41 Created graph from node/edge GeoDataFrames\n"
     ]
    }
   ],
   "source": [
    "#Download nodes and edges [Función en aup>Data]\n",
    "#gdf_from_db(name[#de donde busca nodes y edges], schema[#ubicación de edges y nodes]):\n",
    "G,nodes,edges = aup.graph_from_hippo(jlsdata, 'osmnx')"
   ]
  },
  {
   "cell_type": "code",
   "execution_count": 12,
   "id": "95614d50-0eb2-4225-99f6-890dcc4bf0a8",
   "metadata": {},
   "outputs": [
    {
     "data": {
      "text/html": [
       "<div>\n",
       "<style scoped>\n",
       "    .dataframe tbody tr th:only-of-type {\n",
       "        vertical-align: middle;\n",
       "    }\n",
       "\n",
       "    .dataframe tbody tr th {\n",
       "        vertical-align: top;\n",
       "    }\n",
       "\n",
       "    .dataframe thead th {\n",
       "        text-align: right;\n",
       "    }\n",
       "</style>\n",
       "<table border=\"1\" class=\"dataframe\">\n",
       "  <thead>\n",
       "    <tr style=\"text-align: right;\">\n",
       "      <th></th>\n",
       "      <th>x</th>\n",
       "      <th>y</th>\n",
       "      <th>street_count</th>\n",
       "      <th>geometry</th>\n",
       "    </tr>\n",
       "    <tr>\n",
       "      <th>osmid</th>\n",
       "      <th></th>\n",
       "      <th></th>\n",
       "      <th></th>\n",
       "      <th></th>\n",
       "    </tr>\n",
       "  </thead>\n",
       "  <tbody>\n",
       "    <tr>\n",
       "      <th>28751344</th>\n",
       "      <td>-103.306309</td>\n",
       "      <td>20.711533</td>\n",
       "      <td>3</td>\n",
       "      <td>POINT (-103.30631 20.71153)</td>\n",
       "    </tr>\n",
       "  </tbody>\n",
       "</table>\n",
       "</div>"
      ],
      "text/plain": [
       "                   x          y  street_count                     geometry\n",
       "osmid                                                                     \n",
       "28751344 -103.306309  20.711533             3  POINT (-103.30631 20.71153)"
      ]
     },
     "execution_count": 12,
     "metadata": {},
     "output_type": "execute_result"
    }
   ],
   "source": [
    "nodes.head(1)"
   ]
  },
  {
   "cell_type": "code",
   "execution_count": 13,
   "id": "52e69388-7251-44a9-83c7-ceff0a8696df",
   "metadata": {},
   "outputs": [
    {
     "data": {
      "text/html": [
       "<div>\n",
       "<style scoped>\n",
       "    .dataframe tbody tr th:only-of-type {\n",
       "        vertical-align: middle;\n",
       "    }\n",
       "\n",
       "    .dataframe tbody tr th {\n",
       "        vertical-align: top;\n",
       "    }\n",
       "\n",
       "    .dataframe thead th {\n",
       "        text-align: right;\n",
       "    }\n",
       "</style>\n",
       "<table border=\"1\" class=\"dataframe\">\n",
       "  <thead>\n",
       "    <tr style=\"text-align: right;\">\n",
       "      <th></th>\n",
       "      <th></th>\n",
       "      <th></th>\n",
       "      <th>osmid</th>\n",
       "      <th>oneway</th>\n",
       "      <th>lanes</th>\n",
       "      <th>name</th>\n",
       "      <th>highway</th>\n",
       "      <th>maxspeed</th>\n",
       "      <th>length</th>\n",
       "      <th>geometry</th>\n",
       "      <th>bridge</th>\n",
       "      <th>ref</th>\n",
       "      <th>junction</th>\n",
       "      <th>tunnel</th>\n",
       "      <th>access</th>\n",
       "      <th>width</th>\n",
       "      <th>service</th>\n",
       "    </tr>\n",
       "    <tr>\n",
       "      <th>u</th>\n",
       "      <th>v</th>\n",
       "      <th>key</th>\n",
       "      <th></th>\n",
       "      <th></th>\n",
       "      <th></th>\n",
       "      <th></th>\n",
       "      <th></th>\n",
       "      <th></th>\n",
       "      <th></th>\n",
       "      <th></th>\n",
       "      <th></th>\n",
       "      <th></th>\n",
       "      <th></th>\n",
       "      <th></th>\n",
       "      <th></th>\n",
       "      <th></th>\n",
       "      <th></th>\n",
       "    </tr>\n",
       "  </thead>\n",
       "  <tbody>\n",
       "    <tr>\n",
       "      <th>1392690697</th>\n",
       "      <th>6496356196</th>\n",
       "      <th>0</th>\n",
       "      <td>692081806</td>\n",
       "      <td>False</td>\n",
       "      <td>None</td>\n",
       "      <td>None</td>\n",
       "      <td>path</td>\n",
       "      <td>None</td>\n",
       "      <td>153.187</td>\n",
       "      <td>LINESTRING (-103.49719 19.16426, -103.49709 19...</td>\n",
       "      <td>None</td>\n",
       "      <td>None</td>\n",
       "      <td>None</td>\n",
       "      <td>None</td>\n",
       "      <td>None</td>\n",
       "      <td>None</td>\n",
       "      <td>None</td>\n",
       "    </tr>\n",
       "  </tbody>\n",
       "</table>\n",
       "</div>"
      ],
      "text/plain": [
       "                               osmid  oneway lanes  name highway maxspeed  \\\n",
       "u          v          key                                                   \n",
       "1392690697 6496356196 0    692081806   False  None  None    path     None   \n",
       "\n",
       "                            length  \\\n",
       "u          v          key            \n",
       "1392690697 6496356196 0    153.187   \n",
       "\n",
       "                                                                    geometry  \\\n",
       "u          v          key                                                      \n",
       "1392690697 6496356196 0    LINESTRING (-103.49719 19.16426, -103.49709 19...   \n",
       "\n",
       "                          bridge   ref junction tunnel access width service  \n",
       "u          v          key                                                    \n",
       "1392690697 6496356196 0     None  None     None   None   None  None    None  "
      ]
     },
     "execution_count": 13,
     "metadata": {},
     "output_type": "execute_result"
    }
   ],
   "source": [
    "edges.head(1)"
   ]
  },
  {
   "cell_type": "markdown",
   "id": "bb538b41-13c9-436f-84e2-3742c984bebf",
   "metadata": {
    "tags": []
   },
   "source": [
    "### Participation to nodes"
   ]
  },
  {
   "cell_type": "code",
   "execution_count": 22,
   "id": "29c6c6e2-cd13-42ca-9901-0845f429a659",
   "metadata": {},
   "outputs": [],
   "source": [
    "#Function in aup>analysis\n",
    "#socio_polygon_to_points(nodes,gdf_socio[#info que queremos de data],column_start=0 [#4 porque ahí comienza la info que queremos],\n",
    "#column_end=-1,cve_column=\"CVEGEO\" [#Normalmente es CVEGEO, pero aquí son las secciones],avg_column=None[#datos]):\n",
    "jls_nodes = aup.socio_polygon_to_points(nodes,jlsdata[[\"SECCION\",\"geometry\",\"parti_max\"]],column_start=2,column_end=-1,cve_column=\"SECCION\",avg_column=[\"parti_max\"])"
   ]
  },
  {
   "cell_type": "code",
   "execution_count": 23,
   "id": "d3f11d21-86c4-4005-b3f2-772fc6103463",
   "metadata": {},
   "outputs": [
    {
     "data": {
      "text/html": [
       "<div>\n",
       "<style scoped>\n",
       "    .dataframe tbody tr th:only-of-type {\n",
       "        vertical-align: middle;\n",
       "    }\n",
       "\n",
       "    .dataframe tbody tr th {\n",
       "        vertical-align: top;\n",
       "    }\n",
       "\n",
       "    .dataframe thead th {\n",
       "        text-align: right;\n",
       "    }\n",
       "</style>\n",
       "<table border=\"1\" class=\"dataframe\">\n",
       "  <thead>\n",
       "    <tr style=\"text-align: right;\">\n",
       "      <th></th>\n",
       "      <th>x</th>\n",
       "      <th>y</th>\n",
       "      <th>street_count</th>\n",
       "      <th>geometry</th>\n",
       "      <th>SECCION</th>\n",
       "      <th>parti_max</th>\n",
       "    </tr>\n",
       "    <tr>\n",
       "      <th>osmid</th>\n",
       "      <th></th>\n",
       "      <th></th>\n",
       "      <th></th>\n",
       "      <th></th>\n",
       "      <th></th>\n",
       "      <th></th>\n",
       "    </tr>\n",
       "  </thead>\n",
       "  <tbody>\n",
       "    <tr>\n",
       "      <th>28751344</th>\n",
       "      <td>-103.306309</td>\n",
       "      <td>20.711533</td>\n",
       "      <td>3</td>\n",
       "      <td>POINT (-103.30631 20.71153)</td>\n",
       "      <td>1241</td>\n",
       "      <td>0.435</td>\n",
       "    </tr>\n",
       "    <tr>\n",
       "      <th>28757777</th>\n",
       "      <td>-103.306806</td>\n",
       "      <td>20.710093</td>\n",
       "      <td>4</td>\n",
       "      <td>POINT (-103.30681 20.71009)</td>\n",
       "      <td>1241</td>\n",
       "      <td>0.435</td>\n",
       "    </tr>\n",
       "  </tbody>\n",
       "</table>\n",
       "</div>"
      ],
      "text/plain": [
       "                   x          y  street_count                     geometry  \\\n",
       "osmid                                                                        \n",
       "28751344 -103.306309  20.711533             3  POINT (-103.30631 20.71153)   \n",
       "28757777 -103.306806  20.710093             4  POINT (-103.30681 20.71009)   \n",
       "\n",
       "          SECCION  parti_max  \n",
       "osmid                         \n",
       "28751344     1241      0.435  \n",
       "28757777     1241      0.435  "
      ]
     },
     "execution_count": 23,
     "metadata": {},
     "output_type": "execute_result"
    }
   ],
   "source": [
    "jls_nodes.head(2)"
   ]
  },
  {
   "cell_type": "code",
   "execution_count": 24,
   "id": "bde4a5b7-913e-4b69-88f6-2951646b0aab",
   "metadata": {},
   "outputs": [
    {
     "data": {
      "text/plain": [
       "<AxesSubplot:>"
      ]
     },
     "execution_count": 24,
     "metadata": {},
     "output_type": "execute_result"
    },
    {
     "data": {
      "image/png": "[encoded data removed]",
      "text/plain": [
       "<Figure size 432x288 with 1 Axes>"
      ]
     },
     "metadata": {
      "needs_background": "light"
     },
     "output_type": "display_data"
    }
   ],
   "source": [
    "jls_nodes.plot(\"parti_max\")"
   ]
  },
  {
   "cell_type": "code",
   "execution_count": 25,
   "id": "6f5ba737-55f0-455b-b22e-fdf506e5c48a",
   "metadata": {},
   "outputs": [],
   "source": [
    "#Add weight=1 to all items to specify (later) that they all matter the same\n",
    "jls_nodes[\"weight\"] = 1"
   ]
  },
  {
   "cell_type": "markdown",
   "id": "b75904d8-952d-4802-9477-c94c146eaca6",
   "metadata": {
    "tags": []
   },
   "source": [
    "### Linking participation data to Guadalajara hex"
   ]
  },
  {
   "cell_type": "code",
   "execution_count": 26,
   "id": "ac33b919-d759-4e95-9900-f534ffa6f698",
   "metadata": {},
   "outputs": [],
   "source": [
    "#Downloading Guadalajara hex from database\n",
    "hex8_gdl = gpd.read_file(\"../../data/external/gobernance/jalisco/hex8_gdl.gpkg\")  "
   ]
  },
  {
   "cell_type": "code",
   "execution_count": 28,
   "id": "a87c6442-621e-40e4-a0b0-5ea43c08a4a3",
   "metadata": {},
   "outputs": [
    {
     "data": {
      "text/plain": [
       "<AxesSubplot:>"
      ]
     },
     "execution_count": 28,
     "metadata": {},
     "output_type": "execute_result"
    },
    {
     "data": {
      "image/png": "[encoded data removed]",
      "text/plain": [
       "<Figure size 432x288 with 1 Axes>"
      ]
     },
     "metadata": {
      "needs_background": "light"
     },
     "output_type": "display_data"
    }
   ],
   "source": [
    "hex8_gdl.plot()"
   ]
  },
  {
   "cell_type": "code",
   "execution_count": 29,
   "id": "7924e69e-1f4e-4116-b7ce-3ffa3efc51a5",
   "metadata": {},
   "outputs": [
    {
     "data": {
      "text/html": [
       "<div>\n",
       "<style scoped>\n",
       "    .dataframe tbody tr th:only-of-type {\n",
       "        vertical-align: middle;\n",
       "    }\n",
       "\n",
       "    .dataframe tbody tr th {\n",
       "        vertical-align: top;\n",
       "    }\n",
       "\n",
       "    .dataframe thead th {\n",
       "        text-align: right;\n",
       "    }\n",
       "</style>\n",
       "<table border=\"1\" class=\"dataframe\">\n",
       "  <thead>\n",
       "    <tr style=\"text-align: right;\">\n",
       "      <th></th>\n",
       "      <th>x</th>\n",
       "      <th>y</th>\n",
       "      <th>street_count</th>\n",
       "      <th>parti_max</th>\n",
       "      <th>weight</th>\n",
       "      <th>hex_id_8</th>\n",
       "    </tr>\n",
       "  </thead>\n",
       "  <tbody>\n",
       "    <tr>\n",
       "      <th>0</th>\n",
       "      <td>-16942.429688</td>\n",
       "      <td>3396.84082</td>\n",
       "      <td>495.0</td>\n",
       "      <td>0.478206</td>\n",
       "      <td>164.0</td>\n",
       "      <td>88498c9431fffff</td>\n",
       "    </tr>\n",
       "  </tbody>\n",
       "</table>\n",
       "</div>"
      ],
      "text/plain": [
       "              x           y  street_count  parti_max  weight         hex_id_8\n",
       "0 -16942.429688  3396.84082         495.0   0.478206   164.0  88498c9431fffff"
      ]
     },
     "execution_count": 29,
     "metadata": {},
     "output_type": "execute_result"
    }
   ],
   "source": [
    "#Linking participation data to hex.\n",
    "#Function in aup>analysys\n",
    "#socio_points_to_polygon(gdf_polygon,gdf_socio,cve_column[#La que tenga el ID del polígono],string_columns,\n",
    "#wgt_dict=None[#Diccionario con dato:peso],avg_column=None[#datos]):\n",
    "hex8_partigdl = aup.socio_points_to_polygon(hex8_gdl,jls_nodes,cve_column=\"hex_id_8\",string_columns=[\"SECCION\"],wgt_dict={\"parti_max\":\"weight\"},avg_column=[\"parti_max\"])\n",
    "hex8_partigdl.head(1)"
   ]
  },
  {
   "cell_type": "code",
   "execution_count": 31,
   "id": "7111b2f3-e0f6-4ece-9629-40155c3a932a",
   "metadata": {},
   "outputs": [
    {
     "data": {
      "text/html": [
       "<div>\n",
       "<style scoped>\n",
       "    .dataframe tbody tr th:only-of-type {\n",
       "        vertical-align: middle;\n",
       "    }\n",
       "\n",
       "    .dataframe tbody tr th {\n",
       "        vertical-align: top;\n",
       "    }\n",
       "\n",
       "    .dataframe thead th {\n",
       "        text-align: right;\n",
       "    }\n",
       "</style>\n",
       "<table border=\"1\" class=\"dataframe\">\n",
       "  <thead>\n",
       "    <tr style=\"text-align: right;\">\n",
       "      <th></th>\n",
       "      <th>hex_id_8</th>\n",
       "      <th>parti_max</th>\n",
       "    </tr>\n",
       "  </thead>\n",
       "  <tbody>\n",
       "    <tr>\n",
       "      <th>0</th>\n",
       "      <td>88498c9431fffff</td>\n",
       "      <td>0.478206</td>\n",
       "    </tr>\n",
       "  </tbody>\n",
       "</table>\n",
       "</div>"
      ],
      "text/plain": [
       "          hex_id_8  parti_max\n",
       "0  88498c9431fffff   0.478206"
      ]
     },
     "execution_count": 31,
     "metadata": {},
     "output_type": "execute_result"
    }
   ],
   "source": [
    "#keeping just id and parti_max\n",
    "hex8_partigdl = hex8_partigdl[[\"hex_id_8\",\"parti_max\"]].copy()\n",
    "hex8_partigdl.head(1)"
   ]
  },
  {
   "cell_type": "markdown",
   "id": "baf4b03f-ead0-47a5-930a-1bd5bb6d62b8",
   "metadata": {
    "tags": []
   },
   "source": [
    "### Adding city and geometry"
   ]
  },
  {
   "cell_type": "code",
   "execution_count": 32,
   "id": "d6fb03a3-6fc6-4c3a-bc47-a3be31dc3812",
   "metadata": {},
   "outputs": [
    {
     "data": {
      "text/html": [
       "<div>\n",
       "<style scoped>\n",
       "    .dataframe tbody tr th:only-of-type {\n",
       "        vertical-align: middle;\n",
       "    }\n",
       "\n",
       "    .dataframe tbody tr th {\n",
       "        vertical-align: top;\n",
       "    }\n",
       "\n",
       "    .dataframe thead th {\n",
       "        text-align: right;\n",
       "    }\n",
       "</style>\n",
       "<table border=\"1\" class=\"dataframe\">\n",
       "  <thead>\n",
       "    <tr style=\"text-align: right;\">\n",
       "      <th></th>\n",
       "      <th>hex_id_8</th>\n",
       "      <th>max_escuelas</th>\n",
       "      <th>max_preescolar</th>\n",
       "      <th>max_primaria</th>\n",
       "      <th>max_secundaria</th>\n",
       "      <th>max_servicios comunitarios</th>\n",
       "      <th>max_salud</th>\n",
       "      <th>max_guarderías</th>\n",
       "      <th>max_asistencia social</th>\n",
       "      <th>max_comercio</th>\n",
       "      <th>...</th>\n",
       "      <th>pobtot</th>\n",
       "      <th>pobfem</th>\n",
       "      <th>pobmas</th>\n",
       "      <th>pob_0a14</th>\n",
       "      <th>pob_15a24</th>\n",
       "      <th>pob_25a59</th>\n",
       "      <th>p_60ymas</th>\n",
       "      <th>dens_pobha</th>\n",
       "      <th>city</th>\n",
       "      <th>geometry</th>\n",
       "    </tr>\n",
       "  </thead>\n",
       "  <tbody>\n",
       "    <tr>\n",
       "      <th>0</th>\n",
       "      <td>8849abc9ebfffff</td>\n",
       "      <td>24.964994</td>\n",
       "      <td>24.705283</td>\n",
       "      <td>23.051588</td>\n",
       "      <td>20.315681</td>\n",
       "      <td>51.98701</td>\n",
       "      <td>40.473661</td>\n",
       "      <td>51.182696</td>\n",
       "      <td>22.870778</td>\n",
       "      <td>25.074755</td>\n",
       "      <td>...</td>\n",
       "      <td>273.16855</td>\n",
       "      <td>135.64044</td>\n",
       "      <td>137.52809</td>\n",
       "      <td>75.146068</td>\n",
       "      <td>48.988765</td>\n",
       "      <td>117.932583</td>\n",
       "      <td>31.101124</td>\n",
       "      <td>3.153691</td>\n",
       "      <td>Guadalajara</td>\n",
       "      <td>POLYGON ((-103.61319 20.42802, -103.61772 20.4...</td>\n",
       "    </tr>\n",
       "  </tbody>\n",
       "</table>\n",
       "<p>1 rows × 30 columns</p>\n",
       "</div>"
      ],
      "text/plain": [
       "          hex_id_8  max_escuelas  max_preescolar  max_primaria  \\\n",
       "0  8849abc9ebfffff     24.964994       24.705283     23.051588   \n",
       "\n",
       "   max_secundaria  max_servicios comunitarios  max_salud  max_guarderías  \\\n",
       "0       20.315681                    51.98701  40.473661       51.182696   \n",
       "\n",
       "   max_asistencia social  max_comercio  ...     pobtot     pobfem     pobmas  \\\n",
       "0              22.870778     25.074755  ...  273.16855  135.64044  137.52809   \n",
       "\n",
       "    pob_0a14  pob_15a24   pob_25a59   p_60ymas  dens_pobha         city  \\\n",
       "0  75.146068  48.988765  117.932583  31.101124    3.153691  Guadalajara   \n",
       "\n",
       "                                            geometry  \n",
       "0  POLYGON ((-103.61319 20.42802, -103.61772 20.4...  \n",
       "\n",
       "[1 rows x 30 columns]"
      ]
     },
     "execution_count": 32,
     "metadata": {},
     "output_type": "execute_result"
    }
   ],
   "source": [
    "#Original hex8 data\n",
    "hex8_gdl.head(1)"
   ]
  },
  {
   "cell_type": "code",
   "execution_count": 34,
   "id": "9a2716b5-6ef6-4c62-a579-b6f0a96ae553",
   "metadata": {},
   "outputs": [
    {
     "data": {
      "text/html": [
       "<div>\n",
       "<style scoped>\n",
       "    .dataframe tbody tr th:only-of-type {\n",
       "        vertical-align: middle;\n",
       "    }\n",
       "\n",
       "    .dataframe tbody tr th {\n",
       "        vertical-align: top;\n",
       "    }\n",
       "\n",
       "    .dataframe thead th {\n",
       "        text-align: right;\n",
       "    }\n",
       "</style>\n",
       "<table border=\"1\" class=\"dataframe\">\n",
       "  <thead>\n",
       "    <tr style=\"text-align: right;\">\n",
       "      <th></th>\n",
       "      <th>hex_id_8</th>\n",
       "      <th>city</th>\n",
       "      <th>geometry</th>\n",
       "    </tr>\n",
       "  </thead>\n",
       "  <tbody>\n",
       "    <tr>\n",
       "      <th>0</th>\n",
       "      <td>8849abc9ebfffff</td>\n",
       "      <td>Guadalajara</td>\n",
       "      <td>POLYGON ((-103.61319 20.42802, -103.61772 20.4...</td>\n",
       "    </tr>\n",
       "  </tbody>\n",
       "</table>\n",
       "</div>"
      ],
      "text/plain": [
       "          hex_id_8         city  \\\n",
       "0  8849abc9ebfffff  Guadalajara   \n",
       "\n",
       "                                            geometry  \n",
       "0  POLYGON ((-103.61319 20.42802, -103.61772 20.4...  "
      ]
     },
     "execution_count": 34,
     "metadata": {},
     "output_type": "execute_result"
    }
   ],
   "source": [
    "#Keeping just the id, city and geometry\n",
    "hex8_gdl = hex8_gdl[[\"hex_id_8\",\"city\",\"geometry\"]].copy()\n",
    "hex8_gdl.head(1)"
   ]
  },
  {
   "cell_type": "code",
   "execution_count": 36,
   "id": "53ce38b0-0686-4613-8205-01731434014f",
   "metadata": {},
   "outputs": [
    {
     "data": {
      "text/html": [
       "<div>\n",
       "<style scoped>\n",
       "    .dataframe tbody tr th:only-of-type {\n",
       "        vertical-align: middle;\n",
       "    }\n",
       "\n",
       "    .dataframe tbody tr th {\n",
       "        vertical-align: top;\n",
       "    }\n",
       "\n",
       "    .dataframe thead th {\n",
       "        text-align: right;\n",
       "    }\n",
       "</style>\n",
       "<table border=\"1\" class=\"dataframe\">\n",
       "  <thead>\n",
       "    <tr style=\"text-align: right;\">\n",
       "      <th></th>\n",
       "      <th>hex_id_8</th>\n",
       "      <th>city</th>\n",
       "      <th>geometry</th>\n",
       "      <th>parti_max</th>\n",
       "    </tr>\n",
       "  </thead>\n",
       "  <tbody>\n",
       "    <tr>\n",
       "      <th>0</th>\n",
       "      <td>8849abc9ebfffff</td>\n",
       "      <td>Guadalajara</td>\n",
       "      <td>POLYGON ((-103.61319 20.42802, -103.61772 20.4...</td>\n",
       "      <td>0.5147</td>\n",
       "    </tr>\n",
       "  </tbody>\n",
       "</table>\n",
       "</div>"
      ],
      "text/plain": [
       "          hex_id_8         city  \\\n",
       "0  8849abc9ebfffff  Guadalajara   \n",
       "\n",
       "                                            geometry  parti_max  \n",
       "0  POLYGON ((-103.61319 20.42802, -103.61772 20.4...     0.5147  "
      ]
     },
     "execution_count": 36,
     "metadata": {},
     "output_type": "execute_result"
    }
   ],
   "source": [
    "#Merging\n",
    "hex8_partigdl = hex8_gdl.merge(hex8_partigdl, on= \"hex_id_8\")\n",
    "hex8_partigdl.head(1)"
   ]
  },
  {
   "cell_type": "code",
   "execution_count": 37,
   "id": "67cab7e7-2551-41e0-b0b9-55cda17d096c",
   "metadata": {},
   "outputs": [
    {
     "data": {
      "text/plain": [
       "<AxesSubplot:>"
      ]
     },
     "execution_count": 37,
     "metadata": {},
     "output_type": "execute_result"
    },
    {
     "data": {
      "image/png": "[encoded data removed]",
      "text/plain": [
       "<Figure size 432x288 with 1 Axes>"
      ]
     },
     "metadata": {
      "needs_background": "light"
     },
     "output_type": "display_data"
    }
   ],
   "source": [
    "hex8_partigdl.plot(\"parti_max\")"
   ]
  },
  {
   "cell_type": "markdown",
   "id": "26e7711e-5d04-4649-a5bd-837489497963",
   "metadata": {},
   "source": [
    "## Upload to database"
   ]
  },
  {
   "cell_type": "code",
   "execution_count": 38,
   "id": "72fe3992-3640-494b-9724-2a2b95143610",
   "metadata": {},
   "outputs": [],
   "source": [
    "aup.gdf_to_db_slow(hex8_partigdl,\"participacion_gdl_hexres8\", 'governance', if_exists='replace')"
   ]
  },
  {
   "cell_type": "code",
   "execution_count": null,
   "id": "b46111d7-2a1a-4603-9ed9-c24de016c404",
   "metadata": {},
   "outputs": [],
   "source": []
  }
 ],
 "metadata": {
  "kernelspec": {
   "display_name": "Python 3 (ipykernel)",
   "language": "python",
   "name": "python3"
  },
  "language_info": {
   "codemirror_mode": {
    "name": "ipython",
    "version": 3
   },
   "file_extension": ".py",
   "mimetype": "text/x-python",
   "name": "python",
   "nbconvert_exporter": "python",
   "pygments_lexer": "ipython3",
   "version": "3.9.7"
  }
 },
 "nbformat": 4,
 "nbformat_minor": 5
}
