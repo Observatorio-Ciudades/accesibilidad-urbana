{
 "cells": [
  {
   "cell_type": "markdown",
   "id": "f6bb4778-c4ae-4a26-b8aa-63795171a45c",
   "metadata": {},
   "source": [
    "# Función Clasificadora Espacios Públicos"
   ]
  },
  {
   "cell_type": "code",
   "execution_count": 1,
   "id": "b66a564b-30a6-4fae-b47a-6d49243920dc",
   "metadata": {},
   "outputs": [],
   "source": [
    "import warnings\n",
    "warnings.filterwarnings('ignore')\n",
    "import matplotlib.pyplot as plt\n",
    "import os \n",
    "import sys\n",
    "module_path = os.path.abspath(os.path.join('../../'))\n",
    "if module_path not in sys.path:\n",
    "    sys.path.append(module_path)\n",
    "    import aup\n",
    "import pandas as pd\n",
    "import numpy as np\n",
    "import seaborn as sns\n",
    "from sklearn.model_selection import train_test_split\n",
    "from sklearn.metrics import accuracy_score, confusion_matrix\n",
    "from sklearn.ensemble import RandomForestClassifier\n",
    "\n",
    "def esppublico(pubesp):\n",
    "    schema = 'espacios_publicos'\n",
    "    table = pubesp\n",
    "    gdf_espacio = aup.gdf_from_db(table,schema)\n",
    "    gdf_espacio = gdf_espacio.set_crs(\"EPSG:4326\", allow_override=True)\n",
    "    return gdf_espacio\n",
    "\n",
    "def hexciudad(table, ciudad):\n",
    "    hex_schema = \"raster_analysis\"\n",
    "    hex_table = table\n",
    "    c = ciudad\n",
    "    n = '11'\n",
    "    query = f'SELECT hex_id, geometry, city FROM {hex_schema}.{hex_table} WHERE \\\"city\\\" LIKE \\'{c}\\' AND \\\"res\\\" = {n}'\n",
    "    hex_gdf = aup.gdf_from_query(query, geometry_col='geometry')\n",
    "    hex_gdf = hex_gdf.set_crs(\"EPSG:4326\", allow_override=True)\n",
    "    return hex_gdf\n",
    "\n",
    "def dummyvariables(pubesp, table, ciudad):\n",
    "    gdf_esp = esppublico(pubesp)\n",
    "    hex_ciudad = hexciudad(table, ciudad)\n",
    "    gdf_sindex = gdf_esp.sindex\n",
    "    intersects_public_spaces = hex_ciudad['geometry'].apply(lambda geom: any(gdf_sindex.query(geom)))\n",
    "    hex_ciudad['EspPublico'] = intersects_public_spaces.astype(int)\n",
    "    return hex_ciudad\n",
    "\n",
    "def interseccion():\n",
    "    \n",
    "    return inter\n",
    "\n",
    "def clfEspPub()"
   ]
  }
 ],
 "metadata": {
  "kernelspec": {
   "display_name": "Python 3 (ipykernel)",
   "language": "python",
   "name": "python3"
  },
  "language_info": {
   "codemirror_mode": {
    "name": "ipython",
    "version": 3
   },
   "file_extension": ".py",
   "mimetype": "text/x-python",
   "name": "python",
   "nbconvert_exporter": "python",
   "pygments_lexer": "ipython3",
   "version": "3.10.10"
  }
 },
 "nbformat": 4,
 "nbformat_minor": 5
}
