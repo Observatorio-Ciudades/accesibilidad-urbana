{
 "cells": [
  {
   "cell_type": "code",
   "execution_count": 1,
   "id": "417918f8-3cb2-443d-972f-c3d5679337f7",
   "metadata": {},
   "outputs": [
    {
     "name": "stderr",
     "output_type": "stream",
     "text": [
      "2023-11-23 15:37:16.011072: I tensorflow/tsl/cuda/cudart_stub.cc:28] Could not find cuda drivers on your machine, GPU will not be used.\n",
      "2023-11-23 15:37:19.101254: E tensorflow/compiler/xla/stream_executor/cuda/cuda_dnn.cc:9342] Unable to register cuDNN factory: Attempting to register factory for plugin cuDNN when one has already been registered\n",
      "2023-11-23 15:37:19.101323: E tensorflow/compiler/xla/stream_executor/cuda/cuda_fft.cc:609] Unable to register cuFFT factory: Attempting to register factory for plugin cuFFT when one has already been registered\n",
      "2023-11-23 15:37:19.110989: E tensorflow/compiler/xla/stream_executor/cuda/cuda_blas.cc:1518] Unable to register cuBLAS factory: Attempting to register factory for plugin cuBLAS when one has already been registered\n",
      "2023-11-23 15:37:19.969312: I tensorflow/tsl/cuda/cudart_stub.cc:28] Could not find cuda drivers on your machine, GPU will not be used.\n",
      "2023-11-23 15:37:19.976035: I tensorflow/core/platform/cpu_feature_guard.cc:182] This TensorFlow binary is optimized to use available CPU instructions in performance-critical operations.\n",
      "To enable the following instructions: FMA, in other operations, rebuild TensorFlow with the appropriate compiler flags.\n",
      "2023-11-23 15:37:26.640144: W tensorflow/compiler/tf2tensorrt/utils/py_utils.cc:38] TF-TRT Warning: Could not find TensorRT\n"
     ]
    }
   ],
   "source": [
    "import warnings\n",
    "warnings.filterwarnings('ignore')\n",
    "import geopandas as gpd\n",
    "from geopandas.tools import overlay\n",
    "import matplotlib.pyplot as plt\n",
    "import os \n",
    "import sys\n",
    "module_path = os.path.abspath(os.path.join('../../../'))\n",
    "if module_path not in sys.path:\n",
    "    sys.path.append(module_path)\n",
    "    import aup\n",
    "import pandas as pd\n",
    "import numpy as np\n",
    "import seaborn as sns\n",
    "from sklearn.model_selection import train_test_split\n",
    "from sklearn.metrics import accuracy_score, confusion_matrix\n",
    "from sklearn.linear_model import LogisticRegression\n",
    "from sklearn.preprocessing import StandardScaler\n",
    "from sklearn.naive_bayes import GaussianNB\n",
    "from sklearn.ensemble import RandomForestClassifier\n",
    "from sklearn.ensemble import AdaBoostClassifier\n",
    "from sklearn.model_selection import GridSearchCV, RandomizedSearchCV \n",
    "import xgboost as xgb\n",
    "import random\n",
    "from sklearn.model_selection import StratifiedKFold\n",
    "from sklearn.metrics import classification_report, mean_squared_error\n",
    "import tensorflow as tf\n",
    "from keras.models import Sequential\n",
    "from keras.layers import Dense\n",
    "from tensorflow.keras.utils import to_categorical"
   ]
  },
  {
   "cell_type": "markdown",
   "id": "1f4b673d-a0ff-4041-b2b2-b9ec546375b5",
   "metadata": {},
   "source": [
    "## Espacios Públicos Gdl"
   ]
  },
  {
   "cell_type": "code",
   "execution_count": 3,
   "id": "4ea17f49-98ad-4d79-8c43-7fd0a0739bdd",
   "metadata": {},
   "outputs": [
    {
     "data": {
      "text/html": [
       "<div>\n",
       "<style scoped>\n",
       "    .dataframe tbody tr th:only-of-type {\n",
       "        vertical-align: middle;\n",
       "    }\n",
       "\n",
       "    .dataframe tbody tr th {\n",
       "        vertical-align: top;\n",
       "    }\n",
       "\n",
       "    .dataframe thead th {\n",
       "        text-align: right;\n",
       "    }\n",
       "</style>\n",
       "<table border=\"1\" class=\"dataframe\">\n",
       "  <thead>\n",
       "    <tr style=\"text-align: right;\">\n",
       "      <th></th>\n",
       "      <th>Fuente</th>\n",
       "      <th>Tipo</th>\n",
       "      <th>Uso</th>\n",
       "      <th>geometry</th>\n",
       "    </tr>\n",
       "  </thead>\n",
       "  <tbody>\n",
       "    <tr>\n",
       "      <th>0</th>\n",
       "      <td>OpenStreetMap, [Online]. Disponible: http://ww...</td>\n",
       "      <td>Parque</td>\n",
       "      <td>Uso recreativo</td>\n",
       "      <td>POLYGON ((672507.028 2272132.201, 672520.126 2...</td>\n",
       "    </tr>\n",
       "    <tr>\n",
       "      <th>1</th>\n",
       "      <td>OpenStreetMap, [Online]. Disponible: http://ww...</td>\n",
       "      <td>Parque</td>\n",
       "      <td>Uso recreativo</td>\n",
       "      <td>POLYGON ((672520.126 2272170.353, 672507.028 2...</td>\n",
       "    </tr>\n",
       "    <tr>\n",
       "      <th>2</th>\n",
       "      <td>OpenStreetMap, [Online]. Disponible: http://ww...</td>\n",
       "      <td>Parque</td>\n",
       "      <td>Uso recreativo</td>\n",
       "      <td>POLYGON ((672494.325 2272095.205, 672480.366 2...</td>\n",
       "    </tr>\n",
       "    <tr>\n",
       "      <th>3</th>\n",
       "      <td>OpenStreetMap, [Online]. Disponible: http://ww...</td>\n",
       "      <td>Parque</td>\n",
       "      <td>Uso recreativo</td>\n",
       "      <td>POLYGON ((672480.366 2272060.731, 672494.325 2...</td>\n",
       "    </tr>\n",
       "    <tr>\n",
       "      <th>4</th>\n",
       "      <td>OpenStreetMap, [Online]. Disponible: http://ww...</td>\n",
       "      <td>Parque</td>\n",
       "      <td>Uso recreativo</td>\n",
       "      <td>POLYGON ((672468.717 2272020.613, 672456.895 2...</td>\n",
       "    </tr>\n",
       "  </tbody>\n",
       "</table>\n",
       "</div>"
      ],
      "text/plain": [
       "                                              Fuente    Tipo             Uso  \\\n",
       "0  OpenStreetMap, [Online]. Disponible: http://ww...  Parque  Uso recreativo   \n",
       "1  OpenStreetMap, [Online]. Disponible: http://ww...  Parque  Uso recreativo   \n",
       "2  OpenStreetMap, [Online]. Disponible: http://ww...  Parque  Uso recreativo   \n",
       "3  OpenStreetMap, [Online]. Disponible: http://ww...  Parque  Uso recreativo   \n",
       "4  OpenStreetMap, [Online]. Disponible: http://ww...  Parque  Uso recreativo   \n",
       "\n",
       "                                            geometry  \n",
       "0  POLYGON ((672507.028 2272132.201, 672520.126 2...  \n",
       "1  POLYGON ((672520.126 2272170.353, 672507.028 2...  \n",
       "2  POLYGON ((672494.325 2272095.205, 672480.366 2...  \n",
       "3  POLYGON ((672480.366 2272060.731, 672494.325 2...  \n",
       "4  POLYGON ((672468.717 2272020.613, 672456.895 2...  "
      ]
     },
     "execution_count": 3,
     "metadata": {},
     "output_type": "execute_result"
    }
   ],
   "source": [
    "schema = 'espacios_publicos'\n",
    "table = 'ep_amg'\n",
    "gdf = aup.gdf_from_db(table,schema)\n",
    "gdf.head()"
   ]
  },
  {
   "cell_type": "markdown",
   "id": "3f1d29aa-cc80-4491-b20c-b5189761a002",
   "metadata": {},
   "source": [
    "## Hexágonos Gdl"
   ]
  },
  {
   "cell_type": "code",
   "execution_count": 4,
   "id": "3edf4d80-639e-4a4a-826a-cadff6494b0c",
   "metadata": {},
   "outputs": [
    {
     "data": {
      "text/html": [
       "<div>\n",
       "<style scoped>\n",
       "    .dataframe tbody tr th:only-of-type {\n",
       "        vertical-align: middle;\n",
       "    }\n",
       "\n",
       "    .dataframe tbody tr th {\n",
       "        vertical-align: top;\n",
       "    }\n",
       "\n",
       "    .dataframe thead th {\n",
       "        text-align: right;\n",
       "    }\n",
       "</style>\n",
       "<table border=\"1\" class=\"dataframe\">\n",
       "  <thead>\n",
       "    <tr style=\"text-align: right;\">\n",
       "      <th></th>\n",
       "      <th>hex_id</th>\n",
       "      <th>geometry</th>\n",
       "      <th>city</th>\n",
       "    </tr>\n",
       "  </thead>\n",
       "  <tbody>\n",
       "    <tr>\n",
       "      <th>0</th>\n",
       "      <td>8b49ab4b42d4fff</td>\n",
       "      <td>POLYGON ((-103.42329 20.71934, -103.42311 20.7...</td>\n",
       "      <td>Guadalajara</td>\n",
       "    </tr>\n",
       "    <tr>\n",
       "      <th>1</th>\n",
       "      <td>8b49ab4b42f5fff</td>\n",
       "      <td>POLYGON ((-103.42428 20.71844, -103.42411 20.7...</td>\n",
       "      <td>Guadalajara</td>\n",
       "    </tr>\n",
       "    <tr>\n",
       "      <th>2</th>\n",
       "      <td>8b49ab4b4306fff</td>\n",
       "      <td>POLYGON ((-103.42486 20.71260, -103.42469 20.7...</td>\n",
       "      <td>Guadalajara</td>\n",
       "    </tr>\n",
       "    <tr>\n",
       "      <th>3</th>\n",
       "      <td>8b49ab4b4255fff</td>\n",
       "      <td>POLYGON ((-103.42703 20.71818, -103.42686 20.7...</td>\n",
       "      <td>Guadalajara</td>\n",
       "    </tr>\n",
       "    <tr>\n",
       "      <th>4</th>\n",
       "      <td>8b49ab4b42d6fff</td>\n",
       "      <td>POLYGON ((-103.42281 20.71955, -103.42264 20.7...</td>\n",
       "      <td>Guadalajara</td>\n",
       "    </tr>\n",
       "  </tbody>\n",
       "</table>\n",
       "</div>"
      ],
      "text/plain": [
       "            hex_id                                           geometry  \\\n",
       "0  8b49ab4b42d4fff  POLYGON ((-103.42329 20.71934, -103.42311 20.7...   \n",
       "1  8b49ab4b42f5fff  POLYGON ((-103.42428 20.71844, -103.42411 20.7...   \n",
       "2  8b49ab4b4306fff  POLYGON ((-103.42486 20.71260, -103.42469 20.7...   \n",
       "3  8b49ab4b4255fff  POLYGON ((-103.42703 20.71818, -103.42686 20.7...   \n",
       "4  8b49ab4b42d6fff  POLYGON ((-103.42281 20.71955, -103.42264 20.7...   \n",
       "\n",
       "          city  \n",
       "0  Guadalajara  \n",
       "1  Guadalajara  \n",
       "2  Guadalajara  \n",
       "3  Guadalajara  \n",
       "4  Guadalajara  "
      ]
     },
     "execution_count": 4,
     "metadata": {},
     "output_type": "execute_result"
    }
   ],
   "source": [
    "hex_schema = \"raster_analysis\"\n",
    "hex_table = \"ndvi_analysis_hex\"\n",
    "c = 'Guadalajara'\n",
    "n = '11'\n",
    "query = f'SELECT hex_id, geometry, city FROM {hex_schema}.{hex_table} WHERE \\\"city\\\" LIKE \\'{c}\\' AND \\\"res\\\" = {n}'\n",
    "hex_gdl = aup.gdf_from_query(query, geometry_col='geometry')\n",
    "#query = 'fSelect geometry, hex_id, city from raster_analysis.ndvi_analysis where city = guadalajara and res = 11'\n",
    "hex_gdl.head(5)"
   ]
  },
  {
   "cell_type": "code",
   "execution_count": 4,
   "id": "63934812-6283-4ccb-8d38-9b89f7ce6c4a",
   "metadata": {
    "tags": []
   },
   "outputs": [
    {
     "data": {
      "text/plain": [
       "(407141, 3)"
      ]
     },
     "execution_count": 4,
     "metadata": {},
     "output_type": "execute_result"
    }
   ],
   "source": [
    "hex_gdl.shape"
   ]
  },
  {
   "cell_type": "code",
   "execution_count": 5,
   "id": "f224a99a-4221-4fb2-a4da-dac85a0fbcf4",
   "metadata": {},
   "outputs": [
    {
     "name": "stdout",
     "output_type": "stream",
     "text": [
      "CRS of gdf: epsg:4326\n",
      "CRS of hex_gdl: epsg:4326\n"
     ]
    }
   ],
   "source": [
    "gdf = gdf.to_crs(hex_gdl.crs)\n",
    "print(\"CRS of gdf:\", gdf.crs)\n",
    "print(\"CRS of hex_gdl:\", hex_gdl.crs)"
   ]
  },
  {
   "cell_type": "markdown",
   "id": "afd8cb98-6659-4eb1-88a2-2b4e9cf5907b",
   "metadata": {},
   "source": [
    "## Dummy Variables\n",
    "1 = Hexágonos que cuentan con espacios públicos\n",
    "\n",
    "0 = Hexágonos que no cuentan con espacios públicos"
   ]
  },
  {
   "cell_type": "code",
   "execution_count": 6,
   "id": "32c47c29-6d21-44c1-9c77-6e2d9c5592ac",
   "metadata": {
    "tags": []
   },
   "outputs": [
    {
     "data": {
      "text/html": [
       "<div>\n",
       "<style scoped>\n",
       "    .dataframe tbody tr th:only-of-type {\n",
       "        vertical-align: middle;\n",
       "    }\n",
       "\n",
       "    .dataframe tbody tr th {\n",
       "        vertical-align: top;\n",
       "    }\n",
       "\n",
       "    .dataframe thead th {\n",
       "        text-align: right;\n",
       "    }\n",
       "</style>\n",
       "<table border=\"1\" class=\"dataframe\">\n",
       "  <thead>\n",
       "    <tr style=\"text-align: right;\">\n",
       "      <th></th>\n",
       "      <th>hex_id</th>\n",
       "      <th>geometry</th>\n",
       "      <th>city</th>\n",
       "      <th>EspPublico</th>\n",
       "    </tr>\n",
       "  </thead>\n",
       "  <tbody>\n",
       "    <tr>\n",
       "      <th>0</th>\n",
       "      <td>8b49ab4b42d4fff</td>\n",
       "      <td>POLYGON ((-103.42329 20.71934, -103.42311 20.7...</td>\n",
       "      <td>Guadalajara</td>\n",
       "      <td>0</td>\n",
       "    </tr>\n",
       "    <tr>\n",
       "      <th>1</th>\n",
       "      <td>8b49ab4b42f5fff</td>\n",
       "      <td>POLYGON ((-103.42428 20.71844, -103.42411 20.7...</td>\n",
       "      <td>Guadalajara</td>\n",
       "      <td>0</td>\n",
       "    </tr>\n",
       "    <tr>\n",
       "      <th>2</th>\n",
       "      <td>8b49ab4b4306fff</td>\n",
       "      <td>POLYGON ((-103.42486 20.71260, -103.42469 20.7...</td>\n",
       "      <td>Guadalajara</td>\n",
       "      <td>0</td>\n",
       "    </tr>\n",
       "    <tr>\n",
       "      <th>3</th>\n",
       "      <td>8b49ab4b4255fff</td>\n",
       "      <td>POLYGON ((-103.42703 20.71818, -103.42686 20.7...</td>\n",
       "      <td>Guadalajara</td>\n",
       "      <td>1</td>\n",
       "    </tr>\n",
       "    <tr>\n",
       "      <th>4</th>\n",
       "      <td>8b49ab4b42d6fff</td>\n",
       "      <td>POLYGON ((-103.42281 20.71955, -103.42264 20.7...</td>\n",
       "      <td>Guadalajara</td>\n",
       "      <td>0</td>\n",
       "    </tr>\n",
       "  </tbody>\n",
       "</table>\n",
       "</div>"
      ],
      "text/plain": [
       "            hex_id                                           geometry  \\\n",
       "0  8b49ab4b42d4fff  POLYGON ((-103.42329 20.71934, -103.42311 20.7...   \n",
       "1  8b49ab4b42f5fff  POLYGON ((-103.42428 20.71844, -103.42411 20.7...   \n",
       "2  8b49ab4b4306fff  POLYGON ((-103.42486 20.71260, -103.42469 20.7...   \n",
       "3  8b49ab4b4255fff  POLYGON ((-103.42703 20.71818, -103.42686 20.7...   \n",
       "4  8b49ab4b42d6fff  POLYGON ((-103.42281 20.71955, -103.42264 20.7...   \n",
       "\n",
       "          city  EspPublico  \n",
       "0  Guadalajara           0  \n",
       "1  Guadalajara           0  \n",
       "2  Guadalajara           0  \n",
       "3  Guadalajara           1  \n",
       "4  Guadalajara           0  "
      ]
     },
     "execution_count": 6,
     "metadata": {},
     "output_type": "execute_result"
    }
   ],
   "source": [
    "gdf_sindex = gdf.sindex\n",
    "\n",
    "# Create a Series of boolean values indicating which hexagons intersect with public spaces\n",
    "intersects_public_spaces = hex_gdl['geometry'].apply(lambda geom: any(gdf_sindex.query(geom)))\n",
    "\n",
    "hex_gdl['EspPublico'] = intersects_public_spaces.astype(int)\n",
    "hex_gdl.head()"
   ]
  },
  {
   "cell_type": "code",
   "execution_count": 7,
   "id": "dd321d0a-c595-4e27-a283-06d861a55628",
   "metadata": {
    "tags": []
   },
   "outputs": [
    {
     "name": "stdout",
     "output_type": "stream",
     "text": [
      "Números de hexagonos sin Espacios Públicos: 300548 \n",
      "Número de Hexágonos con Espacios Públicos: 106593\n",
      "Número total de Hexágonos: 407141\n"
     ]
    }
   ],
   "source": [
    "contador_ceros = np.sum(hex_gdl['EspPublico'] == 0)\n",
    "contador_uno = np.sum(hex_gdl['EspPublico'])\n",
    "print(f'Números de hexagonos sin Espacios Públicos: {contador_ceros} \\nNúmero de Hexágonos con Espacios Públicos: {contador_uno}\\nNúmero total de Hexágonos: {contador_ceros+contador_uno}')"
   ]
  },
  {
   "cell_type": "markdown",
   "id": "53a96ca3-36a6-4482-a8c5-155bec50f725",
   "metadata": {},
   "source": [
    "Casi el 75% de los hexágonos no cuenta con Espacio Público, los métodos de clasificación van a estar muy sesgados por la discrepancia. Entonces tenemos que hacer que sean 50% ambos pero para esto vamos a hacer un submuestreo random con 200,000 y 200,000 de cada tipo de hexágono pero eso se hará después de juntar todo con el otro GeoDataFrame, que sean 200,000 y 200,000 es porque tenemos un total de 400,000 hexágonos entonces para que nuestro problema no pierda objetividad."
   ]
  },
  {
   "cell_type": "markdown",
   "id": "0117d09f-c51f-491e-9a59-a7eb00ed8b3d",
   "metadata": {},
   "source": [
    "## Hexágonos con info de humedad, vegetación y temperatura"
   ]
  },
  {
   "cell_type": "markdown",
   "id": "9a940298-cc09-4a6a-b89d-7f5b956f109a",
   "metadata": {},
   "source": [
    "select {tempe}.hex_id, {tempe}.geometry, {tempe}.city, {tempe}.res,\n",
    "\n",
    "temp_diff_mean,\n",
    "\n",
    "ndvi_mean, ndvi_std, ndvi_median, ndvi_max, ndvi_min, ndvi_diff, ndvi_tend,\n",
    "\n",
    "ndmi_mean, ndmi_median, ndmi_diff\n",
    "\n",
    "from raster_analysis.temperature_analysis_hex tempe\n",
    "\n",
    "inner join raster_analysis.ndmi_analysis_hex ndmi\n",
    "\n",
    "on tempe.hex_id = ndmi.hex_id \n",
    "\n",
    "inner join raster_analysis.ndvi_analysis_hex ndvi\n",
    "\n",
    "on tempe.hex_id = ndvi.hex_id \n",
    "\n",
    "where tempe.city  = 'Guadalajara' and tempe.res = 11"
   ]
  },
  {
   "cell_type": "code",
   "execution_count": 7,
   "id": "b490fe14-42f0-4cc5-ac0e-2050823bb05b",
   "metadata": {},
   "outputs": [
    {
     "data": {
      "text/html": [
       "<div>\n",
       "<style scoped>\n",
       "    .dataframe tbody tr th:only-of-type {\n",
       "        vertical-align: middle;\n",
       "    }\n",
       "\n",
       "    .dataframe tbody tr th {\n",
       "        vertical-align: top;\n",
       "    }\n",
       "\n",
       "    .dataframe thead th {\n",
       "        text-align: right;\n",
       "    }\n",
       "</style>\n",
       "<table border=\"1\" class=\"dataframe\">\n",
       "  <thead>\n",
       "    <tr style=\"text-align: right;\">\n",
       "      <th></th>\n",
       "      <th>hex_id</th>\n",
       "      <th>geometry</th>\n",
       "      <th>city</th>\n",
       "      <th>res</th>\n",
       "      <th>temp_diff_mean</th>\n",
       "      <th>ndvi_mean</th>\n",
       "      <th>ndvi_std</th>\n",
       "      <th>ndvi_median</th>\n",
       "      <th>ndvi_max</th>\n",
       "      <th>ndvi_min</th>\n",
       "      <th>ndvi_diff</th>\n",
       "      <th>ndvi_tend</th>\n",
       "      <th>ndmi_mean</th>\n",
       "      <th>ndmi_median</th>\n",
       "      <th>ndmi_diff</th>\n",
       "    </tr>\n",
       "  </thead>\n",
       "  <tbody>\n",
       "    <tr>\n",
       "      <th>0</th>\n",
       "      <td>8b49ab4b4215fff</td>\n",
       "      <td>POLYGON ((-103.42405 20.71621, -103.42388 20.7...</td>\n",
       "      <td>Guadalajara</td>\n",
       "      <td>11</td>\n",
       "      <td>-1.284982</td>\n",
       "      <td>0.229957</td>\n",
       "      <td>0.058042</td>\n",
       "      <td>0.231979</td>\n",
       "      <td>0.294319</td>\n",
       "      <td>0.163942</td>\n",
       "      <td>0.130377</td>\n",
       "      <td>-0.001144</td>\n",
       "      <td>0.039065</td>\n",
       "      <td>0.029549</td>\n",
       "      <td>0.105781</td>\n",
       "    </tr>\n",
       "    <tr>\n",
       "      <th>1</th>\n",
       "      <td>8b49ab4b4310fff</td>\n",
       "      <td>POLYGON ((-103.42392 20.71301, -103.42374 20.7...</td>\n",
       "      <td>Guadalajara</td>\n",
       "      <td>11</td>\n",
       "      <td>-1.196180</td>\n",
       "      <td>0.296041</td>\n",
       "      <td>0.076291</td>\n",
       "      <td>0.293903</td>\n",
       "      <td>0.376505</td>\n",
       "      <td>0.188078</td>\n",
       "      <td>0.188427</td>\n",
       "      <td>-0.000377</td>\n",
       "      <td>0.079500</td>\n",
       "      <td>0.078283</td>\n",
       "      <td>0.128900</td>\n",
       "    </tr>\n",
       "    <tr>\n",
       "      <th>2</th>\n",
       "      <td>8b49ab4b4328fff</td>\n",
       "      <td>POLYGON ((-103.42666 20.71275, -103.42649 20.7...</td>\n",
       "      <td>Guadalajara</td>\n",
       "      <td>11</td>\n",
       "      <td>1.299913</td>\n",
       "      <td>0.302151</td>\n",
       "      <td>0.084466</td>\n",
       "      <td>0.309483</td>\n",
       "      <td>0.418897</td>\n",
       "      <td>0.194372</td>\n",
       "      <td>0.224525</td>\n",
       "      <td>0.000391</td>\n",
       "      <td>0.070217</td>\n",
       "      <td>0.069816</td>\n",
       "      <td>0.173083</td>\n",
       "    </tr>\n",
       "    <tr>\n",
       "      <th>3</th>\n",
       "      <td>8b49ab4b4281fff</td>\n",
       "      <td>POLYGON ((-103.42206 20.71801, -103.42188 20.7...</td>\n",
       "      <td>Guadalajara</td>\n",
       "      <td>11</td>\n",
       "      <td>-2.427430</td>\n",
       "      <td>0.295734</td>\n",
       "      <td>0.078296</td>\n",
       "      <td>0.310649</td>\n",
       "      <td>0.369395</td>\n",
       "      <td>0.211920</td>\n",
       "      <td>0.157475</td>\n",
       "      <td>-0.001825</td>\n",
       "      <td>0.064008</td>\n",
       "      <td>0.058234</td>\n",
       "      <td>0.109634</td>\n",
       "    </tr>\n",
       "    <tr>\n",
       "      <th>4</th>\n",
       "      <td>8b49ab483152fff</td>\n",
       "      <td>POLYGON ((-103.45547 20.80687, -103.45529 20.8...</td>\n",
       "      <td>Guadalajara</td>\n",
       "      <td>11</td>\n",
       "      <td>1.200695</td>\n",
       "      <td>0.293088</td>\n",
       "      <td>0.103742</td>\n",
       "      <td>0.278395</td>\n",
       "      <td>0.456237</td>\n",
       "      <td>0.157849</td>\n",
       "      <td>0.298388</td>\n",
       "      <td>-0.001574</td>\n",
       "      <td>0.009286</td>\n",
       "      <td>0.000620</td>\n",
       "      <td>0.227768</td>\n",
       "    </tr>\n",
       "    <tr>\n",
       "      <th>5</th>\n",
       "      <td>8b49ab4aa743fff</td>\n",
       "      <td>POLYGON ((-103.49977 20.79504, -103.49960 20.7...</td>\n",
       "      <td>Guadalajara</td>\n",
       "      <td>11</td>\n",
       "      <td>0.136053</td>\n",
       "      <td>0.108293</td>\n",
       "      <td>0.035416</td>\n",
       "      <td>0.111677</td>\n",
       "      <td>0.149571</td>\n",
       "      <td>0.079000</td>\n",
       "      <td>0.070571</td>\n",
       "      <td>-0.001220</td>\n",
       "      <td>-0.062980</td>\n",
       "      <td>-0.065607</td>\n",
       "      <td>0.088602</td>\n",
       "    </tr>\n",
       "    <tr>\n",
       "      <th>6</th>\n",
       "      <td>8b49ab4aa702fff</td>\n",
       "      <td>POLYGON ((-103.49636 20.79280, -103.49619 20.7...</td>\n",
       "      <td>Guadalajara</td>\n",
       "      <td>11</td>\n",
       "      <td>-1.300984</td>\n",
       "      <td>0.268614</td>\n",
       "      <td>0.068963</td>\n",
       "      <td>0.271376</td>\n",
       "      <td>0.366145</td>\n",
       "      <td>0.154954</td>\n",
       "      <td>0.211191</td>\n",
       "      <td>-0.000958</td>\n",
       "      <td>-0.002400</td>\n",
       "      <td>-0.009385</td>\n",
       "      <td>0.137231</td>\n",
       "    </tr>\n",
       "    <tr>\n",
       "      <th>7</th>\n",
       "      <td>8b49ab4aa708fff</td>\n",
       "      <td>POLYGON ((-103.49764 20.79364, -103.49747 20.7...</td>\n",
       "      <td>Guadalajara</td>\n",
       "      <td>11</td>\n",
       "      <td>-1.062029</td>\n",
       "      <td>0.111060</td>\n",
       "      <td>0.034786</td>\n",
       "      <td>0.106208</td>\n",
       "      <td>0.158824</td>\n",
       "      <td>0.068589</td>\n",
       "      <td>0.090235</td>\n",
       "      <td>-0.000523</td>\n",
       "      <td>-0.069432</td>\n",
       "      <td>-0.076476</td>\n",
       "      <td>0.109003</td>\n",
       "    </tr>\n",
       "    <tr>\n",
       "      <th>8</th>\n",
       "      <td>8b49ab59109afff</td>\n",
       "      <td>POLYGON ((-103.42206 20.64025, -103.42189 20.6...</td>\n",
       "      <td>Guadalajara</td>\n",
       "      <td>11</td>\n",
       "      <td>1.985591</td>\n",
       "      <td>0.086011</td>\n",
       "      <td>0.016368</td>\n",
       "      <td>0.088430</td>\n",
       "      <td>0.100746</td>\n",
       "      <td>0.065017</td>\n",
       "      <td>0.035729</td>\n",
       "      <td>-0.000244</td>\n",
       "      <td>-0.028572</td>\n",
       "      <td>-0.042300</td>\n",
       "      <td>0.135275</td>\n",
       "    </tr>\n",
       "    <tr>\n",
       "      <th>9</th>\n",
       "      <td>8b49ab591166fff</td>\n",
       "      <td>POLYGON ((-103.42989 20.63452, -103.42971 20.6...</td>\n",
       "      <td>Guadalajara</td>\n",
       "      <td>11</td>\n",
       "      <td>0.367998</td>\n",
       "      <td>0.248244</td>\n",
       "      <td>0.084488</td>\n",
       "      <td>0.251623</td>\n",
       "      <td>0.330699</td>\n",
       "      <td>0.133052</td>\n",
       "      <td>0.197647</td>\n",
       "      <td>-0.001248</td>\n",
       "      <td>0.013061</td>\n",
       "      <td>0.012448</td>\n",
       "      <td>0.128582</td>\n",
       "    </tr>\n",
       "  </tbody>\n",
       "</table>\n",
       "</div>"
      ],
      "text/plain": [
       "            hex_id                                           geometry  \\\n",
       "0  8b49ab4b4215fff  POLYGON ((-103.42405 20.71621, -103.42388 20.7...   \n",
       "1  8b49ab4b4310fff  POLYGON ((-103.42392 20.71301, -103.42374 20.7...   \n",
       "2  8b49ab4b4328fff  POLYGON ((-103.42666 20.71275, -103.42649 20.7...   \n",
       "3  8b49ab4b4281fff  POLYGON ((-103.42206 20.71801, -103.42188 20.7...   \n",
       "4  8b49ab483152fff  POLYGON ((-103.45547 20.80687, -103.45529 20.8...   \n",
       "5  8b49ab4aa743fff  POLYGON ((-103.49977 20.79504, -103.49960 20.7...   \n",
       "6  8b49ab4aa702fff  POLYGON ((-103.49636 20.79280, -103.49619 20.7...   \n",
       "7  8b49ab4aa708fff  POLYGON ((-103.49764 20.79364, -103.49747 20.7...   \n",
       "8  8b49ab59109afff  POLYGON ((-103.42206 20.64025, -103.42189 20.6...   \n",
       "9  8b49ab591166fff  POLYGON ((-103.42989 20.63452, -103.42971 20.6...   \n",
       "\n",
       "          city  res  temp_diff_mean  ndvi_mean  ndvi_std  ndvi_median  \\\n",
       "0  Guadalajara   11       -1.284982   0.229957  0.058042     0.231979   \n",
       "1  Guadalajara   11       -1.196180   0.296041  0.076291     0.293903   \n",
       "2  Guadalajara   11        1.299913   0.302151  0.084466     0.309483   \n",
       "3  Guadalajara   11       -2.427430   0.295734  0.078296     0.310649   \n",
       "4  Guadalajara   11        1.200695   0.293088  0.103742     0.278395   \n",
       "5  Guadalajara   11        0.136053   0.108293  0.035416     0.111677   \n",
       "6  Guadalajara   11       -1.300984   0.268614  0.068963     0.271376   \n",
       "7  Guadalajara   11       -1.062029   0.111060  0.034786     0.106208   \n",
       "8  Guadalajara   11        1.985591   0.086011  0.016368     0.088430   \n",
       "9  Guadalajara   11        0.367998   0.248244  0.084488     0.251623   \n",
       "\n",
       "   ndvi_max  ndvi_min  ndvi_diff  ndvi_tend  ndmi_mean  ndmi_median  ndmi_diff  \n",
       "0  0.294319  0.163942   0.130377  -0.001144   0.039065     0.029549   0.105781  \n",
       "1  0.376505  0.188078   0.188427  -0.000377   0.079500     0.078283   0.128900  \n",
       "2  0.418897  0.194372   0.224525   0.000391   0.070217     0.069816   0.173083  \n",
       "3  0.369395  0.211920   0.157475  -0.001825   0.064008     0.058234   0.109634  \n",
       "4  0.456237  0.157849   0.298388  -0.001574   0.009286     0.000620   0.227768  \n",
       "5  0.149571  0.079000   0.070571  -0.001220  -0.062980    -0.065607   0.088602  \n",
       "6  0.366145  0.154954   0.211191  -0.000958  -0.002400    -0.009385   0.137231  \n",
       "7  0.158824  0.068589   0.090235  -0.000523  -0.069432    -0.076476   0.109003  \n",
       "8  0.100746  0.065017   0.035729  -0.000244  -0.028572    -0.042300   0.135275  \n",
       "9  0.330699  0.133052   0.197647  -0.001248   0.013061     0.012448   0.128582  "
      ]
     },
     "execution_count": 7,
     "metadata": {},
     "output_type": "execute_result"
    }
   ],
   "source": [
    "hex_schema = \"raster_analysis\"\n",
    "hex_table = \"temperature_analysis_hex\"\n",
    "hex_tabl = \"ndvi_analysis_hex\"\n",
    "hex_tablee = \"ndmi_analysis_hex\"\n",
    "tempe = \"tempe\"\n",
    "ndmi = \"ndmi\"\n",
    "ndvi = \"ndvi\"\n",
    "hex_id = \"hex_id\"\n",
    "c = 'Guadalajara'\n",
    "n = '11'\n",
    "query = f'SELECT {tempe}.hex_id, {tempe}.geometry, {tempe}.city, {tempe}.res, temp_diff_mean,ndvi_mean, ndvi_std, ndvi_median, ndvi_max, ndvi_min, ndvi_diff, ndvi_tend,ndmi_mean, ndmi_median, ndmi_diff FROM {hex_schema}.{hex_table} {tempe} INNER JOIN {hex_schema}.{hex_tablee} {ndmi} ON {tempe}.{hex_id} = {ndmi}.{hex_id} INNER JOIN {hex_schema}.{hex_tabl} {ndvi} ON {tempe}.{hex_id} = {ndvi}.{hex_id} WHERE {tempe}.\\\"city\\\" = \\'{c}\\' AND {tempe}.\\\"res\\\" = {n}'\n",
    "intt_gdl = aup.gdf_from_query(query, geometry_col='geometry')\n",
    "intt_gdl.head(10)"
   ]
  },
  {
   "cell_type": "markdown",
   "id": "3573a856-d6a8-47c5-9511-c3ead1f22f77",
   "metadata": {},
   "source": [
    "## Intersección"
   ]
  },
  {
   "cell_type": "code",
   "execution_count": 8,
   "id": "b3ccd6fc-d015-4ca2-b82c-9b465ce77552",
   "metadata": {},
   "outputs": [],
   "source": [
    "intt_gdl = intt_gdl.set_crs(\"EPSG:4326\")\n",
    "hex_gdl = hex_gdl.set_crs(\"EPSG:4326\")"
   ]
  },
  {
   "cell_type": "code",
   "execution_count": 9,
   "id": "7bea388f-410c-4e31-8fa0-c9934b1da302",
   "metadata": {
    "tags": []
   },
   "outputs": [
    {
     "data": {
      "text/html": [
       "<div>\n",
       "<style scoped>\n",
       "    .dataframe tbody tr th:only-of-type {\n",
       "        vertical-align: middle;\n",
       "    }\n",
       "\n",
       "    .dataframe tbody tr th {\n",
       "        vertical-align: top;\n",
       "    }\n",
       "\n",
       "    .dataframe thead th {\n",
       "        text-align: right;\n",
       "    }\n",
       "</style>\n",
       "<table border=\"1\" class=\"dataframe\">\n",
       "  <thead>\n",
       "    <tr style=\"text-align: right;\">\n",
       "      <th></th>\n",
       "      <th>hex_id</th>\n",
       "      <th>geometry</th>\n",
       "      <th>city</th>\n",
       "      <th>EspPublico</th>\n",
       "      <th>temp_diff_mean</th>\n",
       "      <th>ndvi_mean</th>\n",
       "      <th>ndvi_std</th>\n",
       "      <th>ndvi_median</th>\n",
       "      <th>ndvi_max</th>\n",
       "      <th>ndvi_min</th>\n",
       "      <th>ndvi_diff</th>\n",
       "      <th>ndvi_tend</th>\n",
       "      <th>ndmi_mean</th>\n",
       "      <th>ndmi_median</th>\n",
       "      <th>ndmi_diff</th>\n",
       "    </tr>\n",
       "  </thead>\n",
       "  <tbody>\n",
       "    <tr>\n",
       "      <th>0</th>\n",
       "      <td>8b49ab4b42d4fff</td>\n",
       "      <td>POLYGON ((-103.42329 20.71934, -103.42311 20.7...</td>\n",
       "      <td>Guadalajara</td>\n",
       "      <td>0</td>\n",
       "      <td>0.632205</td>\n",
       "      <td>0.300222</td>\n",
       "      <td>0.145621</td>\n",
       "      <td>0.273654</td>\n",
       "      <td>0.52469</td>\n",
       "      <td>0.134969</td>\n",
       "      <td>0.389721</td>\n",
       "      <td>-0.001431</td>\n",
       "      <td>-0.037278</td>\n",
       "      <td>-0.043751</td>\n",
       "      <td>0.300493</td>\n",
       "    </tr>\n",
       "    <tr>\n",
       "      <th>67</th>\n",
       "      <td>8b49ab4b42d5fff</td>\n",
       "      <td>POLYGON ((-103.42371 20.71962, -103.42354 20.7...</td>\n",
       "      <td>Guadalajara</td>\n",
       "      <td>0</td>\n",
       "      <td>0.632205</td>\n",
       "      <td>0.300222</td>\n",
       "      <td>0.145621</td>\n",
       "      <td>0.273654</td>\n",
       "      <td>0.52469</td>\n",
       "      <td>0.134969</td>\n",
       "      <td>0.389721</td>\n",
       "      <td>-0.001431</td>\n",
       "      <td>-0.037278</td>\n",
       "      <td>-0.043751</td>\n",
       "      <td>0.300493</td>\n",
       "    </tr>\n",
       "    <tr>\n",
       "      <th>98</th>\n",
       "      <td>8b49ab4b42f0fff</td>\n",
       "      <td>POLYGON ((-103.42381 20.71865, -103.42364 20.7...</td>\n",
       "      <td>Guadalajara</td>\n",
       "      <td>0</td>\n",
       "      <td>0.632205</td>\n",
       "      <td>0.300222</td>\n",
       "      <td>0.145621</td>\n",
       "      <td>0.273654</td>\n",
       "      <td>0.52469</td>\n",
       "      <td>0.134969</td>\n",
       "      <td>0.389721</td>\n",
       "      <td>-0.001431</td>\n",
       "      <td>-0.037278</td>\n",
       "      <td>-0.043751</td>\n",
       "      <td>0.300493</td>\n",
       "    </tr>\n",
       "    <tr>\n",
       "      <th>152</th>\n",
       "      <td>8b49ab4b42f1fff</td>\n",
       "      <td>POLYGON ((-103.42424 20.71893, -103.42406 20.7...</td>\n",
       "      <td>Guadalajara</td>\n",
       "      <td>0</td>\n",
       "      <td>0.632205</td>\n",
       "      <td>0.300222</td>\n",
       "      <td>0.145621</td>\n",
       "      <td>0.273654</td>\n",
       "      <td>0.52469</td>\n",
       "      <td>0.134969</td>\n",
       "      <td>0.389721</td>\n",
       "      <td>-0.001431</td>\n",
       "      <td>-0.037278</td>\n",
       "      <td>-0.043751</td>\n",
       "      <td>0.300493</td>\n",
       "    </tr>\n",
       "    <tr>\n",
       "      <th>229</th>\n",
       "      <td>8b49ab4b42f2fff</td>\n",
       "      <td>POLYGON ((-103.42334 20.71885, -103.42316 20.7...</td>\n",
       "      <td>Guadalajara</td>\n",
       "      <td>1</td>\n",
       "      <td>0.632205</td>\n",
       "      <td>0.300222</td>\n",
       "      <td>0.145621</td>\n",
       "      <td>0.273654</td>\n",
       "      <td>0.52469</td>\n",
       "      <td>0.134969</td>\n",
       "      <td>0.389721</td>\n",
       "      <td>-0.001431</td>\n",
       "      <td>-0.037278</td>\n",
       "      <td>-0.043751</td>\n",
       "      <td>0.300493</td>\n",
       "    </tr>\n",
       "  </tbody>\n",
       "</table>\n",
       "</div>"
      ],
      "text/plain": [
       "              hex_id                                           geometry  \\\n",
       "0    8b49ab4b42d4fff  POLYGON ((-103.42329 20.71934, -103.42311 20.7...   \n",
       "67   8b49ab4b42d5fff  POLYGON ((-103.42371 20.71962, -103.42354 20.7...   \n",
       "98   8b49ab4b42f0fff  POLYGON ((-103.42381 20.71865, -103.42364 20.7...   \n",
       "152  8b49ab4b42f1fff  POLYGON ((-103.42424 20.71893, -103.42406 20.7...   \n",
       "229  8b49ab4b42f2fff  POLYGON ((-103.42334 20.71885, -103.42316 20.7...   \n",
       "\n",
       "            city  EspPublico  temp_diff_mean  ndvi_mean  ndvi_std  \\\n",
       "0    Guadalajara           0        0.632205   0.300222  0.145621   \n",
       "67   Guadalajara           0        0.632205   0.300222  0.145621   \n",
       "98   Guadalajara           0        0.632205   0.300222  0.145621   \n",
       "152  Guadalajara           0        0.632205   0.300222  0.145621   \n",
       "229  Guadalajara           1        0.632205   0.300222  0.145621   \n",
       "\n",
       "     ndvi_median  ndvi_max  ndvi_min  ndvi_diff  ndvi_tend  ndmi_mean  \\\n",
       "0       0.273654   0.52469  0.134969   0.389721  -0.001431  -0.037278   \n",
       "67      0.273654   0.52469  0.134969   0.389721  -0.001431  -0.037278   \n",
       "98      0.273654   0.52469  0.134969   0.389721  -0.001431  -0.037278   \n",
       "152     0.273654   0.52469  0.134969   0.389721  -0.001431  -0.037278   \n",
       "229     0.273654   0.52469  0.134969   0.389721  -0.001431  -0.037278   \n",
       "\n",
       "     ndmi_median  ndmi_diff  \n",
       "0      -0.043751   0.300493  \n",
       "67     -0.043751   0.300493  \n",
       "98     -0.043751   0.300493  \n",
       "152    -0.043751   0.300493  \n",
       "229    -0.043751   0.300493  "
      ]
     },
     "execution_count": 9,
     "metadata": {},
     "output_type": "execute_result"
    }
   ],
   "source": [
    "inter = gpd.sjoin(hex_gdl, intt_gdl, op='intersects')\n",
    "inter.drop(columns=['index_right','city_right','res','hex_id_right'], inplace=True)\n",
    "inter.rename(columns={\"hex_id_left\": \"hex_id\",\"city_left\": \"city\"}, inplace=True)\n",
    "inter.head()"
   ]
  },
  {
   "cell_type": "code",
   "execution_count": 11,
   "id": "b437914a-28ea-4e5e-9c70-ca37134fe7a6",
   "metadata": {},
   "outputs": [
    {
     "data": {
      "text/plain": [
       "hex_id            0\n",
       "geometry          0\n",
       "city              0\n",
       "EspPublico        0\n",
       "temp_diff_mean    0\n",
       "ndvi_mean         0\n",
       "ndvi_std          0\n",
       "ndvi_median       0\n",
       "ndvi_max          0\n",
       "ndvi_min          0\n",
       "ndvi_diff         0\n",
       "ndvi_tend         0\n",
       "ndmi_mean         0\n",
       "ndmi_median       0\n",
       "ndmi_diff         0\n",
       "dtype: int64"
      ]
     },
     "execution_count": 11,
     "metadata": {},
     "output_type": "execute_result"
    }
   ],
   "source": [
    "pd.isna(inter).sum()"
   ]
  },
  {
   "cell_type": "code",
   "execution_count": 11,
   "id": "105017ac-eec4-4511-b569-990650feb270",
   "metadata": {
    "tags": []
   },
   "outputs": [
    {
     "name": "stdout",
     "output_type": "stream",
     "text": [
      "Números de hexagonos sin Espacios Públicos: 2038369 \n",
      "Número de Hexágonos con Espacios Públicos: 736626\n",
      "Número total de Hexágonos: 2774995\n"
     ]
    }
   ],
   "source": [
    "cont_ceros = np.sum(inter['EspPublico'] == 0)\n",
    "cont_uno = np.sum(inter['EspPublico'])\n",
    "print(f'Números de hexagonos sin Espacios Públicos: {cont_ceros} \\nNúmero de Hexágonos con Espacios Públicos: {cont_uno}\\nNúmero total de Hexágonos: {cont_ceros+cont_uno}')"
   ]
  },
  {
   "cell_type": "code",
   "execution_count": 11,
   "id": "027e511f-a871-41f5-954c-c1401f067e57",
   "metadata": {
    "tags": []
   },
   "outputs": [
    {
     "data": {
      "text/plain": [
       "array([0, 1])"
      ]
     },
     "execution_count": 11,
     "metadata": {},
     "output_type": "execute_result"
    }
   ],
   "source": [
    "inter['EspPublico'].unique()"
   ]
  },
  {
   "cell_type": "markdown",
   "id": "1c2d6c8e-f21e-482e-b007-821bbea5576b",
   "metadata": {},
   "source": [
    "## Submuestreo 203,570 Hexágonos Esp Púb x 203,570 Hexágonos No Esp Púb"
   ]
  },
  {
   "cell_type": "code",
   "execution_count": 10,
   "id": "03d572a2-0228-4b2c-95c3-c9726fce688d",
   "metadata": {
    "tags": []
   },
   "outputs": [
    {
     "data": {
      "text/html": [
       "<div>\n",
       "<style scoped>\n",
       "    .dataframe tbody tr th:only-of-type {\n",
       "        vertical-align: middle;\n",
       "    }\n",
       "\n",
       "    .dataframe tbody tr th {\n",
       "        vertical-align: top;\n",
       "    }\n",
       "\n",
       "    .dataframe thead th {\n",
       "        text-align: right;\n",
       "    }\n",
       "</style>\n",
       "<table border=\"1\" class=\"dataframe\">\n",
       "  <thead>\n",
       "    <tr style=\"text-align: right;\">\n",
       "      <th></th>\n",
       "      <th>hex_id</th>\n",
       "      <th>geometry</th>\n",
       "      <th>city</th>\n",
       "      <th>EspPublico</th>\n",
       "      <th>temp_diff_mean</th>\n",
       "      <th>ndvi_mean</th>\n",
       "      <th>ndvi_std</th>\n",
       "      <th>ndvi_median</th>\n",
       "      <th>ndvi_max</th>\n",
       "      <th>ndvi_min</th>\n",
       "      <th>ndvi_diff</th>\n",
       "      <th>ndvi_tend</th>\n",
       "      <th>ndmi_mean</th>\n",
       "      <th>ndmi_median</th>\n",
       "      <th>ndmi_diff</th>\n",
       "    </tr>\n",
       "  </thead>\n",
       "  <tbody>\n",
       "    <tr>\n",
       "      <th>0</th>\n",
       "      <td>8b498c969ac2fff</td>\n",
       "      <td>POLYGON ((-103.40727 20.69791, -103.40709 20.6...</td>\n",
       "      <td>Guadalajara</td>\n",
       "      <td>1</td>\n",
       "      <td>-4.680741</td>\n",
       "      <td>0.351805</td>\n",
       "      <td>0.086069</td>\n",
       "      <td>0.388356</td>\n",
       "      <td>0.405866</td>\n",
       "      <td>0.232950</td>\n",
       "      <td>0.172916</td>\n",
       "      <td>-0.001771</td>\n",
       "      <td>0.100145</td>\n",
       "      <td>0.100841</td>\n",
       "      <td>0.095161</td>\n",
       "    </tr>\n",
       "    <tr>\n",
       "      <th>1</th>\n",
       "      <td>8b498c969980fff</td>\n",
       "      <td>POLYGON ((-103.39948 20.68500, -103.39930 20.6...</td>\n",
       "      <td>Guadalajara</td>\n",
       "      <td>1</td>\n",
       "      <td>-2.297974</td>\n",
       "      <td>0.476577</td>\n",
       "      <td>0.144080</td>\n",
       "      <td>0.494073</td>\n",
       "      <td>0.601926</td>\n",
       "      <td>0.262655</td>\n",
       "      <td>0.339271</td>\n",
       "      <td>-0.003367</td>\n",
       "      <td>0.138781</td>\n",
       "      <td>0.145978</td>\n",
       "      <td>0.152411</td>\n",
       "    </tr>\n",
       "    <tr>\n",
       "      <th>2</th>\n",
       "      <td>8b49ab58080dfff</td>\n",
       "      <td>POLYGON ((-103.47813 20.60978, -103.47796 20.6...</td>\n",
       "      <td>Guadalajara</td>\n",
       "      <td>1</td>\n",
       "      <td>-4.132899</td>\n",
       "      <td>0.225540</td>\n",
       "      <td>0.041108</td>\n",
       "      <td>0.240771</td>\n",
       "      <td>0.253750</td>\n",
       "      <td>0.179032</td>\n",
       "      <td>0.074718</td>\n",
       "      <td>-0.001045</td>\n",
       "      <td>0.039719</td>\n",
       "      <td>0.037340</td>\n",
       "      <td>0.124856</td>\n",
       "    </tr>\n",
       "    <tr>\n",
       "      <th>3</th>\n",
       "      <td>8b49aa2d4414fff</td>\n",
       "      <td>POLYGON ((-103.25120 20.50428, -103.25102 20.5...</td>\n",
       "      <td>Guadalajara</td>\n",
       "      <td>1</td>\n",
       "      <td>3.093605</td>\n",
       "      <td>0.187592</td>\n",
       "      <td>0.054550</td>\n",
       "      <td>0.175761</td>\n",
       "      <td>0.267587</td>\n",
       "      <td>0.126372</td>\n",
       "      <td>0.141215</td>\n",
       "      <td>-0.000676</td>\n",
       "      <td>-0.029519</td>\n",
       "      <td>-0.042822</td>\n",
       "      <td>0.206578</td>\n",
       "    </tr>\n",
       "    <tr>\n",
       "      <th>4</th>\n",
       "      <td>8b49ab58204cfff</td>\n",
       "      <td>POLYGON ((-103.45348 20.62983, -103.45330 20.6...</td>\n",
       "      <td>Guadalajara</td>\n",
       "      <td>1</td>\n",
       "      <td>0.261285</td>\n",
       "      <td>0.089025</td>\n",
       "      <td>0.019776</td>\n",
       "      <td>0.092832</td>\n",
       "      <td>0.106894</td>\n",
       "      <td>0.058720</td>\n",
       "      <td>0.048173</td>\n",
       "      <td>-0.000625</td>\n",
       "      <td>-0.045215</td>\n",
       "      <td>-0.066731</td>\n",
       "      <td>0.154710</td>\n",
       "    </tr>\n",
       "  </tbody>\n",
       "</table>\n",
       "</div>"
      ],
      "text/plain": [
       "            hex_id                                           geometry  \\\n",
       "0  8b498c969ac2fff  POLYGON ((-103.40727 20.69791, -103.40709 20.6...   \n",
       "1  8b498c969980fff  POLYGON ((-103.39948 20.68500, -103.39930 20.6...   \n",
       "2  8b49ab58080dfff  POLYGON ((-103.47813 20.60978, -103.47796 20.6...   \n",
       "3  8b49aa2d4414fff  POLYGON ((-103.25120 20.50428, -103.25102 20.5...   \n",
       "4  8b49ab58204cfff  POLYGON ((-103.45348 20.62983, -103.45330 20.6...   \n",
       "\n",
       "          city  EspPublico  temp_diff_mean  ndvi_mean  ndvi_std  ndvi_median  \\\n",
       "0  Guadalajara           1       -4.680741   0.351805  0.086069     0.388356   \n",
       "1  Guadalajara           1       -2.297974   0.476577  0.144080     0.494073   \n",
       "2  Guadalajara           1       -4.132899   0.225540  0.041108     0.240771   \n",
       "3  Guadalajara           1        3.093605   0.187592  0.054550     0.175761   \n",
       "4  Guadalajara           1        0.261285   0.089025  0.019776     0.092832   \n",
       "\n",
       "   ndvi_max  ndvi_min  ndvi_diff  ndvi_tend  ndmi_mean  ndmi_median  ndmi_diff  \n",
       "0  0.405866  0.232950   0.172916  -0.001771   0.100145     0.100841   0.095161  \n",
       "1  0.601926  0.262655   0.339271  -0.003367   0.138781     0.145978   0.152411  \n",
       "2  0.253750  0.179032   0.074718  -0.001045   0.039719     0.037340   0.124856  \n",
       "3  0.267587  0.126372   0.141215  -0.000676  -0.029519    -0.042822   0.206578  \n",
       "4  0.106894  0.058720   0.048173  -0.000625  -0.045215    -0.066731   0.154710  "
      ]
     },
     "execution_count": 10,
     "metadata": {},
     "output_type": "execute_result"
    }
   ],
   "source": [
    "num_samples = 203570\n",
    "\n",
    "# Randomly sample 203,570 hexagons with public spaces\n",
    "sample_with_public_spaces = inter[inter['EspPublico'] == 1].sample(n=num_samples, random_state=42)\n",
    "\n",
    "# Randomly sample 203,570 hexagons without public spaces\n",
    "sample_without_public_spaces = inter[inter['EspPublico'] == 0].sample(n=num_samples, random_state=42)\n",
    "\n",
    "# Concatenate the two samples to get the final subsample\n",
    "inter = pd.concat([sample_with_public_spaces, sample_without_public_spaces])\n",
    "inter.reset_index(drop = True, inplace = True)\n",
    "inter.head()"
   ]
  },
  {
   "cell_type": "code",
   "execution_count": 11,
   "id": "9c9f3b61-242e-4748-a368-a0e40d7f8f85",
   "metadata": {
    "tags": []
   },
   "outputs": [
    {
     "name": "stdout",
     "output_type": "stream",
     "text": [
      "Números de hexagonos sin Espacios Públicos: 203570 \n",
      "Número de Hexágonos con Espacios Públicos: 203570\n",
      "Número total de Hexágonos: 407140\n"
     ]
    }
   ],
   "source": [
    "contador_ceros = np.sum(inter['EspPublico'] == 0)\n",
    "contador_uno = np.sum(inter['EspPublico'])\n",
    "print(f'Números de hexagonos sin Espacios Públicos: {contador_ceros} \\nNúmero de Hexágonos con Espacios Públicos: {contador_uno}\\nNúmero total de Hexágonos: {contador_ceros+contador_uno}')"
   ]
  },
  {
   "cell_type": "code",
   "execution_count": 12,
   "id": "2c94f01e-ffce-44f3-b64e-424d3d4684c3",
   "metadata": {
    "tags": []
   },
   "outputs": [
    {
     "data": {
      "text/plain": [
       "(407140, 15)"
      ]
     },
     "execution_count": 12,
     "metadata": {},
     "output_type": "execute_result"
    }
   ],
   "source": [
    "inter.shape"
   ]
  },
  {
   "cell_type": "markdown",
   "id": "224ae004-cdfa-4cee-b65e-2388946d536c",
   "metadata": {},
   "source": [
    "Ya está balanceada la base de datos y con un submuestreo random. Entonces ya podemos juntarlo con el otro GeoDataFrame"
   ]
  },
  {
   "cell_type": "markdown",
   "id": "c4bf0248-be09-4748-b48e-350cb0e0c6e4",
   "metadata": {},
   "source": [
    "Verificamos duplicados"
   ]
  },
  {
   "cell_type": "markdown",
   "id": "57a87f61-d184-4ab1-92f2-3a6b8994257c",
   "metadata": {},
   "source": [
    "## Métodos de Clasificación"
   ]
  },
  {
   "cell_type": "code",
   "execution_count": 12,
   "id": "351a23ed-b377-4ee2-b6be-56a9a5159552",
   "metadata": {
    "tags": []
   },
   "outputs": [],
   "source": [
    "x = inter[['temp_diff_mean','ndvi_mean','ndvi_std','ndvi_median','ndvi_max','ndvi_min','ndvi_diff','ndvi_tend','ndmi_mean','ndmi_median','ndmi_diff']]\n",
    "y = inter['EspPublico']"
   ]
  },
  {
   "cell_type": "code",
   "execution_count": 15,
   "id": "3d9d5893-418b-44e4-8bee-4f3558ee3d87",
   "metadata": {
    "tags": []
   },
   "outputs": [
    {
     "data": {
      "text/plain": [
       "array([1, 0])"
      ]
     },
     "execution_count": 15,
     "metadata": {},
     "output_type": "execute_result"
    }
   ],
   "source": [
    "y.unique()"
   ]
  },
  {
   "cell_type": "markdown",
   "id": "6454b527-33cc-4827-89f9-469184df4fe3",
   "metadata": {},
   "source": [
    "### Regresión Logística"
   ]
  },
  {
   "cell_type": "code",
   "execution_count": 13,
   "id": "7c6a11af-ffaf-46c4-a039-32994400200a",
   "metadata": {
    "tags": []
   },
   "outputs": [],
   "source": [
    "x_train, x_test, y_train, y_test = train_test_split(x,y, test_size = 0.2, random_state = 42)\n",
    "scaler = StandardScaler()\n",
    "x_train_scale = scaler.fit_transform(x_train)\n",
    "x_test_scale = scaler.fit_transform(x_test)"
   ]
  },
  {
   "cell_type": "code",
   "execution_count": 21,
   "id": "e9218021-7b99-4551-8374-e3aefb6bff50",
   "metadata": {
    "tags": []
   },
   "outputs": [
    {
     "data": {
      "image/png": "[encoded data removed]",
      "text/plain": [
       "<Figure size 1000x700 with 2 Axes>"
      ]
     },
     "metadata": {},
     "output_type": "display_data"
    }
   ],
   "source": [
    "clf = LogisticRegression()\n",
    "clf.fit(x_train_scale, y_train)\n",
    "y_pred = clf.predict(x_test_scale)\n",
    "cm = confusion_matrix(y_test,y_pred)\n",
    "class_labels = ['Espacio Público', 'No Espacio Público']\n",
    "plt.figure(figsize = (10,7))\n",
    "sns.heatmap(cm, annot = True, fmt = \"g\", cmap=\"Blues\", xticklabels=class_labels, yticklabels=class_labels)\n",
    "plt.xlabel('Predicted', fontsize = 12, fontweight  = 'bold')\n",
    "plt.ylabel('Actual', fontsize = 12, fontweight  = 'bold')\n",
    "plt.title('Matriz de Confusión', fontsize = 15, fontweight = 'bold')\n",
    "plt.show()"
   ]
  },
  {
   "cell_type": "code",
   "execution_count": 22,
   "id": "e99c86fa-f71b-4cad-bc67-f018a3054e83",
   "metadata": {
    "tags": []
   },
   "outputs": [
    {
     "name": "stdout",
     "output_type": "stream",
     "text": [
      "Accuracy: 0.65195\n"
     ]
    }
   ],
   "source": [
    "accuracy = accuracy_score(y_test, y_pred)\n",
    "print(f'Accuracy: {accuracy}')"
   ]
  },
  {
   "cell_type": "markdown",
   "id": "5bf67297-8ea3-4160-ab9b-eff740792440",
   "metadata": {},
   "source": [
    "### Naive Bayes"
   ]
  },
  {
   "cell_type": "code",
   "execution_count": 23,
   "id": "50cf3b62-719b-418d-b7b2-6b26cd25f05c",
   "metadata": {
    "tags": []
   },
   "outputs": [
    {
     "data": {
      "text/html": [
       "<style>#sk-container-id-1 {color: black;background-color: white;}#sk-container-id-1 pre{padding: 0;}#sk-container-id-1 div.sk-toggleable {background-color: white;}#sk-container-id-1 label.sk-toggleable__label {cursor: pointer;display: block;width: 100%;margin-bottom: 0;padding: 0.3em;box-sizing: border-box;text-align: center;}#sk-container-id-1 label.sk-toggleable__label-arrow:before {content: \"▸\";float: left;margin-right: 0.25em;color: #696969;}#sk-container-id-1 label.sk-toggleable__label-arrow:hover:before {color: black;}#sk-container-id-1 div.sk-estimator:hover label.sk-toggleable__label-arrow:before {color: black;}#sk-container-id-1 div.sk-toggleable__content {max-height: 0;max-width: 0;overflow: hidden;text-align: left;background-color: #f0f8ff;}#sk-container-id-1 div.sk-toggleable__content pre {margin: 0.2em;color: black;border-radius: 0.25em;background-color: #f0f8ff;}#sk-container-id-1 input.sk-toggleable__control:checked~div.sk-toggleable__content {max-height: 200px;max-width: 100%;overflow: auto;}#sk-container-id-1 input.sk-toggleable__control:checked~label.sk-toggleable__label-arrow:before {content: \"▾\";}#sk-container-id-1 div.sk-estimator input.sk-toggleable__control:checked~label.sk-toggleable__label {background-color: #d4ebff;}#sk-container-id-1 div.sk-label input.sk-toggleable__control:checked~label.sk-toggleable__label {background-color: #d4ebff;}#sk-container-id-1 input.sk-hidden--visually {border: 0;clip: rect(1px 1px 1px 1px);clip: rect(1px, 1px, 1px, 1px);height: 1px;margin: -1px;overflow: hidden;padding: 0;position: absolute;width: 1px;}#sk-container-id-1 div.sk-estimator {font-family: monospace;background-color: #f0f8ff;border: 1px dotted black;border-radius: 0.25em;box-sizing: border-box;margin-bottom: 0.5em;}#sk-container-id-1 div.sk-estimator:hover {background-color: #d4ebff;}#sk-container-id-1 div.sk-parallel-item::after {content: \"\";width: 100%;border-bottom: 1px solid gray;flex-grow: 1;}#sk-container-id-1 div.sk-label:hover label.sk-toggleable__label {background-color: #d4ebff;}#sk-container-id-1 div.sk-serial::before {content: \"\";position: absolute;border-left: 1px solid gray;box-sizing: border-box;top: 0;bottom: 0;left: 50%;z-index: 0;}#sk-container-id-1 div.sk-serial {display: flex;flex-direction: column;align-items: center;background-color: white;padding-right: 0.2em;padding-left: 0.2em;position: relative;}#sk-container-id-1 div.sk-item {position: relative;z-index: 1;}#sk-container-id-1 div.sk-parallel {display: flex;align-items: stretch;justify-content: center;background-color: white;position: relative;}#sk-container-id-1 div.sk-item::before, #sk-container-id-1 div.sk-parallel-item::before {content: \"\";position: absolute;border-left: 1px solid gray;box-sizing: border-box;top: 0;bottom: 0;left: 50%;z-index: -1;}#sk-container-id-1 div.sk-parallel-item {display: flex;flex-direction: column;z-index: 1;position: relative;background-color: white;}#sk-container-id-1 div.sk-parallel-item:first-child::after {align-self: flex-end;width: 50%;}#sk-container-id-1 div.sk-parallel-item:last-child::after {align-self: flex-start;width: 50%;}#sk-container-id-1 div.sk-parallel-item:only-child::after {width: 0;}#sk-container-id-1 div.sk-dashed-wrapped {border: 1px dashed gray;margin: 0 0.4em 0.5em 0.4em;box-sizing: border-box;padding-bottom: 0.4em;background-color: white;}#sk-container-id-1 div.sk-label label {font-family: monospace;font-weight: bold;display: inline-block;line-height: 1.2em;}#sk-container-id-1 div.sk-label-container {text-align: center;}#sk-container-id-1 div.sk-container {/* jupyter's `normalize.less` sets `[hidden] { display: none; }` but bootstrap.min.css set `[hidden] { display: none !important; }` so we also need the `!important` here to be able to override the default hidden behavior on the sphinx rendered scikit-learn.org. See: https://github.com/scikit-learn/scikit-learn/issues/21755 */display: inline-block !important;position: relative;}#sk-container-id-1 div.sk-text-repr-fallback {display: none;}</style><div id=\"sk-container-id-1\" class=\"sk-top-container\"><div class=\"sk-text-repr-fallback\"><pre>GaussianNB()</pre><b>In a Jupyter environment, please rerun this cell to show the HTML representation or trust the notebook. <br />On GitHub, the HTML representation is unable to render, please try loading this page with nbviewer.org.</b></div><div class=\"sk-container\" hidden><div class=\"sk-item\"><div class=\"sk-estimator sk-toggleable\"><input class=\"sk-toggleable__control sk-hidden--visually\" id=\"sk-estimator-id-1\" type=\"checkbox\" checked><label for=\"sk-estimator-id-1\" class=\"sk-toggleable__label sk-toggleable__label-arrow\">GaussianNB</label><div class=\"sk-toggleable__content\"><pre>GaussianNB()</pre></div></div></div></div></div>"
      ],
      "text/plain": [
       "GaussianNB()"
      ]
     },
     "execution_count": 23,
     "metadata": {},
     "output_type": "execute_result"
    }
   ],
   "source": [
    "nb = GaussianNB()\n",
    "nb.fit(x_train, y_train)"
   ]
  },
  {
   "cell_type": "code",
   "execution_count": 24,
   "id": "d16bc4e8-1cc1-42c9-946d-00d6c4bafe15",
   "metadata": {
    "tags": []
   },
   "outputs": [
    {
     "data": {
      "image/png": "[encoded data removed]",
      "text/plain": [
       "<Figure size 1000x700 with 2 Axes>"
      ]
     },
     "metadata": {},
     "output_type": "display_data"
    }
   ],
   "source": [
    "y_prend = nb.predict(x_test)\n",
    "cm = confusion_matrix(y_test, y_prend)\n",
    "class_labels = ['Espacio Público', 'No Espacio Público']\n",
    "plt.figure(figsize = (10,7))\n",
    "sns.heatmap(cm, annot = True, fmt = \"g\", cmap=\"Reds\", xticklabels=class_labels, yticklabels=class_labels)\n",
    "plt.xlabel('Predicted', fontsize = 12, fontweight  = 'bold')\n",
    "plt.ylabel('Actual', fontsize = 12, fontweight  = 'bold')\n",
    "plt.title('Matriz de Confusión', fontsize = 15, fontweight = 'bold')\n",
    "plt.show()"
   ]
  },
  {
   "cell_type": "code",
   "execution_count": 25,
   "id": "a62b3e24-1911-4044-8c55-a900a9c00791",
   "metadata": {
    "tags": []
   },
   "outputs": [
    {
     "name": "stdout",
     "output_type": "stream",
     "text": [
      "Accuracy: 0.624975\n"
     ]
    }
   ],
   "source": [
    "accuracy = accuracy_score(y_test, y_prend)\n",
    "print(f'Accuracy: {accuracy}')"
   ]
  },
  {
   "cell_type": "markdown",
   "id": "e03aa28d-74f5-44f4-a72a-1cca772fd9a3",
   "metadata": {},
   "source": [
    "## Random Forest Classifier (RFC)"
   ]
  },
  {
   "cell_type": "code",
   "execution_count": 15,
   "id": "ee0bd417-fa49-4c8f-a558-ad96ca55d240",
   "metadata": {
    "tags": []
   },
   "outputs": [],
   "source": [
    "rf = RandomForestClassifier(n_estimators=120, random_state=42)  \n",
    "rf.fit(x_train, y_train)\n",
    "\n",
    "# Realizar predicciones en el conjunto de prueba\n",
    "y_predd = rf.predict(x_test)"
   ]
  },
  {
   "cell_type": "code",
   "execution_count": 16,
   "id": "6c3882cc-aeec-4ee4-acd2-4fb4a8e7974e",
   "metadata": {
    "tags": []
   },
   "outputs": [
    {
     "data": {
      "image/png": "[encoded data removed]",
      "text/plain": [
       "<Figure size 1000x700 with 2 Axes>"
      ]
     },
     "metadata": {},
     "output_type": "display_data"
    }
   ],
   "source": [
    "cm = confusion_matrix(y_test, y_predd)\n",
    "class_labels = ['Espacio Verde Público', 'No Espacio Verde Público']\n",
    "plt.figure(figsize = (10,7))\n",
    "sns.heatmap(cm, annot = True, fmt = \"g\", cmap=\"Greens\", xticklabels=class_labels, yticklabels=class_labels)\n",
    "plt.xlabel('Predicted', fontsize = 12, fontweight  = 'bold')\n",
    "plt.ylabel('Actual', fontsize = 12, fontweight  = 'bold')\n",
    "plt.title('Matriz de Confusión', fontsize = 15, fontweight = 'bold')\n",
    "plt.show()"
   ]
  },
  {
   "cell_type": "code",
   "execution_count": 17,
   "id": "7cc41317-b016-4a2d-98b3-2e7447deae4b",
   "metadata": {
    "tags": []
   },
   "outputs": [
    {
     "name": "stdout",
     "output_type": "stream",
     "text": [
      "Accuracy: 0.8224812103944589\n"
     ]
    }
   ],
   "source": [
    "accuracy = accuracy_score(y_test, y_predd)\n",
    "print(f'Accuracy: {accuracy}')"
   ]
  },
  {
   "cell_type": "markdown",
   "id": "5f1b2368-9074-4903-8f22-6a0ba8133592",
   "metadata": {},
   "source": [
    "### Optimización Hiperparámetros para obtener la mejor combinación"
   ]
  },
  {
   "cell_type": "markdown",
   "id": "3ad06bdc-d960-45df-bff6-207989287370",
   "metadata": {},
   "source": [
    "#### GridSearch"
   ]
  },
  {
   "cell_type": "code",
   "execution_count": 18,
   "id": "728a0098-3e08-451e-8eb9-45234f9f9c0a",
   "metadata": {
    "tags": []
   },
   "outputs": [],
   "source": [
    "param_grid = { \n",
    "    'n_estimators': [25, 50, 100, 125, 150], \n",
    "    'max_features': ['sqrt', 'log2', None], \n",
    "    'max_depth': [3, 6, 9], \n",
    "    'max_leaf_nodes': [3, 6, 9], \n",
    "}  "
   ]
  },
  {
   "cell_type": "markdown",
   "id": "4da1b962-ead0-473c-99b3-0addc6517655",
   "metadata": {},
   "source": [
    "Como tiene mucho costo computacional el hacer una búsqueda exhaustiva y tenemos muchos datos. Voy a hacer un subsample nada más para sacar los mejores híper parámetros y ya después aplicarlos al completo."
   ]
  },
  {
   "cell_type": "code",
   "execution_count": 24,
   "id": "b7d61a6a-2c81-41d7-8338-f245db5c1bad",
   "metadata": {
    "tags": []
   },
   "outputs": [
    {
     "name": "stdout",
     "output_type": "stream",
     "text": [
      "RandomForestClassifier(max_depth=6, max_features=None, max_leaf_nodes=9)\n"
     ]
    }
   ],
   "source": [
    "sample_size = 10000  \n",
    "x_train_sample = x_train[:sample_size]\n",
    "y_train_sample = y_train[:sample_size]\n",
    "grid_search = GridSearchCV(RandomForestClassifier(), \n",
    "                           param_grid=param_grid) \n",
    "grid_search.fit(x_train_sample, y_train_sample) \n",
    "print(grid_search.best_estimator_) "
   ]
  },
  {
   "cell_type": "code",
   "execution_count": 25,
   "id": "2e607d24-5fe6-439b-9282-06cf0eff90df",
   "metadata": {},
   "outputs": [],
   "source": [
    "rf_grid = RandomForestClassifier(max_depth=6, \n",
    "                                    max_features=None, \n",
    "                                    max_leaf_nodes=9,\n",
    "                                    n_estimators=120, \n",
    "                                    random_state=42)  \n",
    "rf_grid.fit(x_train, y_train)\n",
    "\n",
    "# Realizar predicciones en el conjunto de prueba\n",
    "y_pred_grid = rf_grid.predict(x_test)"
   ]
  },
  {
   "cell_type": "code",
   "execution_count": 26,
   "id": "3c028898-d1c1-4b5b-bca9-3fda7b510dd9",
   "metadata": {
    "tags": []
   },
   "outputs": [
    {
     "data": {
      "image/png": "[encoded data removed]",
      "text/plain": [
       "<Figure size 1000x700 with 2 Axes>"
      ]
     },
     "metadata": {},
     "output_type": "display_data"
    }
   ],
   "source": [
    "cm = confusion_matrix(y_test, y_pred_grid)\n",
    "class_labels = ['Espacio Verde Público', 'No Espacio Verde Público']\n",
    "plt.figure(figsize = (10,7))\n",
    "sns.heatmap(cm, annot = True, fmt = \"g\", cmap=\"Oranges\", xticklabels=class_labels, yticklabels=class_labels)\n",
    "plt.xlabel('Predicted', fontsize = 12, fontweight  = 'bold')\n",
    "plt.ylabel('Actual', fontsize = 12, fontweight  = 'bold')\n",
    "plt.title('Matriz de Confusión', fontsize = 15, fontweight = 'bold')\n",
    "plt.show()"
   ]
  },
  {
   "cell_type": "code",
   "execution_count": 27,
   "id": "1874788e-9d97-4854-bbc1-42356475aa64",
   "metadata": {
    "tags": []
   },
   "outputs": [
    {
     "name": "stdout",
     "output_type": "stream",
     "text": [
      "Accuracy: 0.6420518740482389\n"
     ]
    }
   ],
   "source": [
    "accuracy = accuracy_score(y_test, y_pred_grid)\n",
    "print(f'Accuracy: {accuracy}')"
   ]
  },
  {
   "cell_type": "markdown",
   "id": "abc8deba-f823-4ad9-8ea5-d84cde72166e",
   "metadata": {},
   "source": [
    "Vemos que esos parámetros empeoran terriblemente el accuracy"
   ]
  },
  {
   "cell_type": "markdown",
   "id": "6370f5d1-1815-4fad-8c48-8ffcb7328479",
   "metadata": {},
   "source": [
    "#### Randomized Search"
   ]
  },
  {
   "cell_type": "code",
   "execution_count": 28,
   "id": "8ba2fa64-e798-4e24-b79d-3d32f2a44807",
   "metadata": {
    "tags": []
   },
   "outputs": [
    {
     "name": "stdout",
     "output_type": "stream",
     "text": [
      "RandomForestClassifier(max_depth=3, max_features=None, max_leaf_nodes=6)\n"
     ]
    }
   ],
   "source": [
    "random_search = RandomizedSearchCV(RandomForestClassifier(), \n",
    "                                   param_grid, n_iter=10, n_jobs=-1) \n",
    "random_search.fit(x_train, y_train) \n",
    "print(random_search.best_estimator_) "
   ]
  },
  {
   "cell_type": "code",
   "execution_count": 29,
   "id": "44013e23-17a1-4271-b986-7b98adaad080",
   "metadata": {
    "tags": []
   },
   "outputs": [],
   "source": [
    "rf_random = RandomForestClassifier(max_depth=3, \n",
    "                                    max_features=None, \n",
    "                                    max_leaf_nodes=6,\n",
    "                                    n_estimators=120, \n",
    "                                    random_state=42)  \n",
    "rf_random.fit(x_train, y_train)\n",
    "\n",
    "# Realizar predicciones en el conjunto de prueba\n",
    "y_pred_random = rf_random.predict(x_test)"
   ]
  },
  {
   "cell_type": "code",
   "execution_count": 30,
   "id": "13ce5a91-cd12-48fa-a8a3-8facae423cf6",
   "metadata": {
    "tags": []
   },
   "outputs": [
    {
     "data": {
      "image/png": "[encoded data removed]",
      "text/plain": [
       "<Figure size 1000x700 with 2 Axes>"
      ]
     },
     "metadata": {},
     "output_type": "display_data"
    }
   ],
   "source": [
    "cm = confusion_matrix(y_test, y_pred_random)\n",
    "class_labels = ['Espacio Verde Público', 'No Espacio Verde Público']\n",
    "plt.figure(figsize = (10,7))\n",
    "sns.heatmap(cm, annot = True, fmt = \"g\", cmap=\"Oranges\", xticklabels=class_labels, yticklabels=class_labels)\n",
    "plt.xlabel('Predicted', fontsize = 12, fontweight  = 'bold')\n",
    "plt.ylabel('Actual', fontsize = 12, fontweight  = 'bold')\n",
    "plt.title('Matriz de Confusión', fontsize = 15, fontweight = 'bold')\n",
    "plt.show()"
   ]
  },
  {
   "cell_type": "code",
   "execution_count": 31,
   "id": "41fef542-b292-4ef5-a805-aeb2da920d9e",
   "metadata": {
    "tags": []
   },
   "outputs": [
    {
     "name": "stdout",
     "output_type": "stream",
     "text": [
      "Accuracy: 0.63914132730756\n"
     ]
    }
   ],
   "source": [
    "accuracy = accuracy_score(y_test, y_pred_random)\n",
    "print(f'Accuracy: {accuracy}')"
   ]
  },
  {
   "cell_type": "markdown",
   "id": "ebdf9326-0686-4fff-8d3f-08639626c4a3",
   "metadata": {},
   "source": [
    "#### Ensemble Methods"
   ]
  },
  {
   "cell_type": "code",
   "execution_count": null,
   "id": "188850c1-786a-4733-940c-d57561dbb776",
   "metadata": {},
   "outputs": [],
   "source": [
    "from sklearn.ensemble import AdaBoostClassifier\n",
    "\n",
    "# Example: Using AdaBoost as an ensemble method\n",
    "ada_boost_model = AdaBoostClassifier(base_estimator=RandomForestClassifier(), n_estimators=50)\n",
    "ada_boost_model.fit(x_train, y_train)"
   ]
  },
  {
   "cell_type": "code",
   "execution_count": null,
   "id": "cb1997bc-1090-4014-8b05-e7c9c05461a9",
   "metadata": {},
   "outputs": [],
   "source": [
    "y_pred_ada = ada_boost_model.predict(x_test)\n",
    "cm = confusion_matrix(y_test, y_pred_ada)\n",
    "class_labels = ['Espacio Verde Público', 'No Espacio Verde Público']\n",
    "plt.figure(figsize = (10,7))\n",
    "sns.heatmap(cm, annot = True, fmt = \"g\", cmap=\"Oranges\", xticklabels=class_labels, yticklabels=class_labels)\n",
    "plt.xlabel('Predicted', fontsize = 12, fontweight  = 'bold')\n",
    "plt.ylabel('Actual', fontsize = 12, fontweight  = 'bold')\n",
    "plt.title('Matriz de Confusión', fontsize = 15, fontweight = 'bold')\n",
    "plt.show()"
   ]
  },
  {
   "cell_type": "code",
   "execution_count": null,
   "id": "d9f4910d-b538-4a4e-81ca-dd512b77bc82",
   "metadata": {},
   "outputs": [],
   "source": [
    "accuracy = accuracy_score(y_test, y_pred_ada)\n",
    "print(f'Accuracy: {accuracy}')"
   ]
  },
  {
   "cell_type": "markdown",
   "id": "1459a521-2e8c-42e6-8381-95fcea1c51ad",
   "metadata": {},
   "source": [
    "## XGBoost"
   ]
  },
  {
   "cell_type": "code",
   "execution_count": 18,
   "id": "0e6f34cd-ca9d-4585-bef2-fc1bf8a6db0b",
   "metadata": {
    "tags": []
   },
   "outputs": [],
   "source": [
    "xgb_classifier = xgb.XGBClassifier(n_estimators=100, random_state=42)\n",
    "\n",
    "# Ajustar el modelo a los datos de entrenamiento\n",
    "xgb_classifier.fit(x_train, y_train)\n",
    "\n",
    "# Realizar predicciones en el conjunto de prueba\n",
    "y_predict = xgb_classifier.predict(x_test)"
   ]
  },
  {
   "cell_type": "code",
   "execution_count": 19,
   "id": "f47f111d-4d19-415d-85ba-e6361c4cfaf8",
   "metadata": {
    "tags": []
   },
   "outputs": [
    {
     "data": {
      "image/png": "[encoded data removed]",
      "text/plain": [
       "<Figure size 1000x700 with 2 Axes>"
      ]
     },
     "metadata": {},
     "output_type": "display_data"
    }
   ],
   "source": [
    "cm = confusion_matrix(y_test, y_predict)\n",
    "class_labels = ['Espacio Verde Público', 'No Espacio Verde Público']\n",
    "plt.figure(figsize = (10,7))\n",
    "sns.heatmap(cm, annot = True, fmt = \"g\", cmap=\"Purples\", xticklabels=class_labels, yticklabels=class_labels)\n",
    "plt.xlabel('Predicted', fontsize = 12, fontweight  = 'bold')\n",
    "plt.ylabel('Actual', fontsize = 12, fontweight  = 'bold')\n",
    "plt.title('Matriz de Confusión', fontsize = 15, fontweight = 'bold')\n",
    "plt.show()"
   ]
  },
  {
   "cell_type": "code",
   "execution_count": 20,
   "id": "b6f59e2f-e70b-4cfc-b825-339486c25a86",
   "metadata": {
    "tags": []
   },
   "outputs": [
    {
     "name": "stdout",
     "output_type": "stream",
     "text": [
      "Accuracy: 0.698875\n"
     ]
    }
   ],
   "source": [
    "accuracy = accuracy_score(y_test, y_predict)\n",
    "print(f'Accuracy: {accuracy}')"
   ]
  },
  {
   "cell_type": "markdown",
   "id": "eb11aa72-2056-453c-81d5-b922166fdb79",
   "metadata": {},
   "source": [
    "Podemos observar que al tener menos datos la clasificación con Naive Bayes, XGBoost y Regresión logística salió peor que con toda la información. Sin embargo, el random forest classifier es el que mejor, ha predecido con un 82% de precisión."
   ]
  },
  {
   "cell_type": "markdown",
   "id": "6bba6df0-e0ed-43ab-918f-59737142ff73",
   "metadata": {},
   "source": [
    "## Clasificación del modelo Perceptrón"
   ]
  },
  {
   "cell_type": "code",
   "execution_count": null,
   "id": "1c4c6877-ad36-4150-a034-467fff686d6f",
   "metadata": {},
   "outputs": [
    {
     "name": "stdout",
     "output_type": "stream",
     "text": [
      "Epoch 1/30\n",
      "40000/40000 [==============================] - 309s 8ms/step - loss: 0.6103 - accuracy: 0.6567\n",
      "Epoch 2/30\n",
      "40000/40000 [==============================] - 308s 8ms/step - loss: 0.5985 - accuracy: 0.6696\n",
      "Epoch 3/30\n",
      "40000/40000 [==============================] - 301s 8ms/step - loss: 0.5944 - accuracy: 0.6736\n",
      "Epoch 4/30\n",
      "40000/40000 [==============================] - 320s 8ms/step - loss: 0.5917 - accuracy: 0.6760\n",
      "Epoch 5/30\n",
      "40000/40000 [==============================] - 368s 9ms/step - loss: 0.5901 - accuracy: 0.6781\n",
      "Epoch 6/30\n",
      "40000/40000 [==============================] - 247s 6ms/step - loss: 0.5884 - accuracy: 0.6794\n",
      "Epoch 7/30\n",
      "40000/40000 [==============================] - 294s 7ms/step - loss: 0.5871 - accuracy: 0.6809\n",
      "Epoch 8/30\n",
      "40000/40000 [==============================] - 258s 6ms/step - loss: 0.5856 - accuracy: 0.6819\n",
      "Epoch 9/30\n",
      "40000/40000 [==============================] - 250s 6ms/step - loss: 0.5849 - accuracy: 0.6826\n",
      "Epoch 10/30\n",
      "40000/40000 [==============================] - 264s 7ms/step - loss: 0.5840 - accuracy: 0.6835\n",
      "Epoch 11/30\n",
      "40000/40000 [==============================] - 314s 8ms/step - loss: 0.5832 - accuracy: 0.6841\n",
      "Epoch 12/30\n",
      "40000/40000 [==============================] - 253s 6ms/step - loss: 0.5824 - accuracy: 0.6849\n",
      "Epoch 13/30\n",
      "40000/40000 [==============================] - 315s 8ms/step - loss: 0.5816 - accuracy: 0.6853\n",
      "Epoch 14/30\n",
      "40000/40000 [==============================] - 311s 8ms/step - loss: 0.5809 - accuracy: 0.6864\n",
      "Epoch 15/30\n",
      "40000/40000 [==============================] - 301s 8ms/step - loss: 0.5802 - accuracy: 0.6865\n",
      "Epoch 16/30\n",
      "40000/40000 [==============================] - 305s 8ms/step - loss: 0.5798 - accuracy: 0.6867\n",
      "Epoch 17/30\n",
      "40000/40000 [==============================] - 418s 10ms/step - loss: 0.5792 - accuracy: 0.6875\n",
      "Epoch 18/30\n",
      "40000/40000 [==============================] - 419s 10ms/step - loss: 0.5786 - accuracy: 0.6880\n",
      "Epoch 19/30\n",
      "40000/40000 [==============================] - 319s 8ms/step - loss: 0.5779 - accuracy: 0.6887\n",
      "Epoch 20/30\n",
      "40000/40000 [==============================] - 331s 8ms/step - loss: 0.5776 - accuracy: 0.6890\n",
      "Epoch 21/30\n",
      "40000/40000 [==============================] - 300s 8ms/step - loss: 0.5774 - accuracy: 0.6893\n",
      "Epoch 22/30\n",
      "40000/40000 [==============================] - 276s 7ms/step - loss: 0.5767 - accuracy: 0.6900\n",
      "Epoch 23/30\n",
      "35632/40000 [=========================>....] - ETA: 28s - loss: 0.5763 - accuracy: 0.6898"
     ]
    }
   ],
   "source": [
    "n_clases = len(y.unique())\n",
    "n_features = len(x.columns)\n",
    "\n",
    "x = x.values\n",
    "output_y = y.values\n",
    "\n",
    "# Define MLP model\n",
    "clf = Sequential()\n",
    "clf.add(Dense(180, input_dim=n_features, activation='relu'))\n",
    "clf.add(Dense(180, activation='relu'))\n",
    "clf.add(Dense(1, activation='sigmoid')) \n",
    "\n",
    "# Compile model\n",
    "clf.compile(loss='binary_crossentropy', optimizer='adam', metrics=['accuracy'])\n",
    "\n",
    "# Fit model\n",
    "clf.fit(x, output_y, epochs=30, batch_size=10)\n",
    "\n",
    "\n",
    "# Evaluate model with crossvalidation\n",
    "kf = StratifiedKFold(n_splits=5, shuffle = True)\n",
    "\n",
    "cv_y_test = []\n",
    "cv_y_pred = []\n",
    "\n",
    "for train_index, test_index in kf.split(x, y):\n",
    "\n",
    "    x_train = x[train_index, :]\n",
    "    y_train = y[train_index]\n",
    "\n",
    "    x_test = x[test_index, :]\n",
    "    y_test = y[test_index]\n",
    "\n",
    "    # Training phase\n",
    "    clf_cv = Sequential()\n",
    "    clf_cv.add(Dense(180, input_dim=n_features, activation='relu'))\n",
    "    clf_cv.add(Dense(180, activation='relu'))\n",
    "    clf_cv.add(Dense(1, activation='sigmoid'))\n",
    "    clf_cv.compile(loss='binary_crossentropy', optimizer='adam', metrics=['accuracy'])\n",
    "    clf_cv.fit(x_train, y_train, validation_data= (x_test, y_test), epochs=30, batch_size=10)\n",
    "\n",
    "    # Test phase\n",
    "    x_test = x[test_index, :]\n",
    "    y_test = y[test_index]\n",
    "    y_pred = [0 if valor < 0.5 else 1 for valor in clf_cv.predict(x_test)]\n",
    "    \n",
    "    cv_y_test.append(y_test)\n",
    "    cv_y_pred.append(y_pred)\n",
    "\n",
    "# Results\n",
    "print(classification_report(np.concatenate(cv_y_test), np.concatenate(cv_y_pred)))"
   ]
  }
 ],
 "metadata": {
  "kernelspec": {
   "display_name": "Python 3 (ipykernel)",
   "language": "python",
   "name": "python3"
  },
  "language_info": {
   "codemirror_mode": {
    "name": "ipython",
    "version": 3
   },
   "file_extension": ".py",
   "mimetype": "text/x-python",
   "name": "python",
   "nbconvert_exporter": "python",
   "pygments_lexer": "ipython3",
   "version": "3.10.10"
  }
 },
 "nbformat": 4,
 "nbformat_minor": 5
}
