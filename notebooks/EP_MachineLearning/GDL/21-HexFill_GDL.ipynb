{
 "cells": [
  {
   "cell_type": "markdown",
   "metadata": {},
   "source": [
    "# Hex fill Notebook"
   ]
  },
  {
   "cell_type": "markdown",
   "metadata": {},
   "source": [
    "Notebook with algorithm to fill missing hexagons created in lower resolutions where there are no nodes"
   ]
  },
  {
   "cell_type": "markdown",
   "metadata": {},
   "source": [
    "## Import modules"
   ]
  },
  {
   "cell_type": "code",
   "execution_count": 2,
   "metadata": {},
   "outputs": [
    {
     "name": "stderr",
     "output_type": "stream",
     "text": [
      "/tmp/ipykernel_33857/1956489818.py:1: UserWarning: Shapely 2.0 is installed, but because PyGEOS is also installed, GeoPandas will still use PyGEOS by default for now. To force to use and test Shapely 2.0, you have to set the environment variable USE_PYGEOS=0. You can do this before starting the Python process, or in your code before importing geopandas:\n",
      "\n",
      "import os\n",
      "os.environ['USE_PYGEOS'] = '0'\n",
      "import geopandas\n",
      "\n",
      "In a future release, GeoPandas will switch to using Shapely by default. If you are using PyGEOS directly (calling PyGEOS functions on geometries from GeoPandas), this will then stop working and you are encouraged to migrate from PyGEOS to Shapely 2.0 (https://shapely.readthedocs.io/en/latest/migration_pygeos.html).\n",
      "  import geopandas as gpd\n",
      "/opt/conda/lib/python3.10/site-packages/osmnx/utils.py:192: UserWarning: The `utils.config` function is deprecated and will be removed in a future release. Instead, use the `settings` module directly to configure a global setting's value. For example, `ox.settings.log_console=True`.\n",
      "  warnings.warn(\n"
     ]
    }
   ],
   "source": [
    "import geopandas as gpd\n",
    "from geopandas.tools import overlay\n",
    "import matplotlib.pyplot as plt\n",
    "import os \n",
    "import sys\n",
    "module_path = os.path.abspath(os.path.join('../../'))\n",
    "if module_path not in sys.path:\n",
    "    sys.path.append(module_path)\n",
    "    import aup\n",
    "\n",
    "import leafmap\n",
    "import math\n",
    "import shapely\n",
    "import h3\n",
    "import pandas as pd\n",
    "import numpy as np"
   ]
  },
  {
   "cell_type": "markdown",
   "metadata": {},
   "source": [
    "## Donwload municipality polygons"
   ]
  },
  {
   "cell_type": "code",
   "execution_count": 3,
   "metadata": {},
   "outputs": [],
   "source": [
    "df = pd.read_json(\"../../scripts/Metropolis_CVE.json\")\n",
    "mpos_folder = 'mpos_2020'\n",
    "hex_folder = 'hex_bins_index_2020'\n",
    "mun_gdf = gpd.GeoDataFrame()\n",
    "ageb_gdf = gpd.GeoDataFrame()\n",
    "hex_gdf = gpd.GeoDataFrame()"
   ]
  },
  {
   "cell_type": "code",
   "execution_count": 5,
   "metadata": {},
   "outputs": [],
   "source": [
    "#Download agebs, hexgrid and municipality figures\n",
    "for c in df.columns.unique():\n",
    "    if c == 'Guadalajara':\n",
    "        mun_gdf = gpd.GeoDataFrame()\n",
    "        hex_gdf = gpd.GeoDataFrame()\n",
    "        ageb_gdf = gpd.GeoDataFrame()\n",
    "        for i in range(len(df.loc[\"mpos\", c])):\n",
    "            # Extracts specific municipality code\n",
    "            m = df.loc[\"mpos\", c][i]\n",
    "            hex_schema = \"hexgrid\"\n",
    "            hex_table = \"hexgrid_10_city\"\n",
    "            # Downloads municipality polygon according to code\n",
    "            query = f\"SELECT * FROM marco.{mpos_folder} WHERE \\\"CVEGEO\\\" LIKE \\'{m}\\'\"\n",
    "            mun_gdf = mun_gdf.append(aup.gdf_from_query(query, geometry_col='geometry'))\n",
    "            query = f\"SELECT * FROM {hex_schema}.{hex_table} WHERE \\\"CVEGEO\\\" LIKE \\'{m}\\'\"\n",
    "            hex_gdf = hex_gdf.append(aup.gdf_from_query(query, geometry_col='geometry'))\n",
    "            query = f\"SELECT * FROM marco.ageb_2020 WHERE \\\"cve_geo_ageb\\\" LIKE \\'{m}%%\\'\"\n",
    "            ageb_gdf = ageb_gdf.append(aup.gdf_from_query(query, geometry_col='geometry'))"
   ]
  },
  {
   "cell_type": "code",
   "execution_count": 6,
   "metadata": {
    "tags": []
   },
   "outputs": [
    {
     "data": {
      "text/html": [
       "<div>\n",
       "<style scoped>\n",
       "    .dataframe tbody tr th:only-of-type {\n",
       "        vertical-align: middle;\n",
       "    }\n",
       "\n",
       "    .dataframe tbody tr th {\n",
       "        vertical-align: top;\n",
       "    }\n",
       "\n",
       "    .dataframe thead th {\n",
       "        text-align: right;\n",
       "    }\n",
       "</style>\n",
       "<table border=\"1\" class=\"dataframe\">\n",
       "  <thead>\n",
       "    <tr style=\"text-align: right;\">\n",
       "      <th></th>\n",
       "      <th>hex_id_10</th>\n",
       "      <th>geometry</th>\n",
       "      <th>res</th>\n",
       "      <th>ndmi_mean</th>\n",
       "      <th>ndmi_std</th>\n",
       "      <th>ndmi_median</th>\n",
       "      <th>ndmi_max</th>\n",
       "      <th>ndmi_min</th>\n",
       "      <th>ndmi_diff</th>\n",
       "      <th>ndmi_tend</th>\n",
       "      <th>city</th>\n",
       "    </tr>\n",
       "  </thead>\n",
       "  <tbody>\n",
       "    <tr>\n",
       "      <th>0</th>\n",
       "      <td>8b49ab4b261efff</td>\n",
       "      <td>POLYGON ((-103.38872 20.75207, -103.38855 20.7...</td>\n",
       "      <td>11</td>\n",
       "      <td>-0.024430</td>\n",
       "      <td>0.088269</td>\n",
       "      <td>-0.045940</td>\n",
       "      <td>0.125081</td>\n",
       "      <td>-0.108787</td>\n",
       "      <td>0.233868</td>\n",
       "      <td>0.000099</td>\n",
       "      <td>Guadalajara</td>\n",
       "    </tr>\n",
       "    <tr>\n",
       "      <th>1</th>\n",
       "      <td>8b49ab4b2694fff</td>\n",
       "      <td>POLYGON ((-103.38507 20.75226, -103.38490 20.7...</td>\n",
       "      <td>11</td>\n",
       "      <td>-0.001659</td>\n",
       "      <td>0.048773</td>\n",
       "      <td>-0.011628</td>\n",
       "      <td>0.100045</td>\n",
       "      <td>-0.044546</td>\n",
       "      <td>0.144592</td>\n",
       "      <td>-0.000135</td>\n",
       "      <td>Guadalajara</td>\n",
       "    </tr>\n",
       "    <tr>\n",
       "      <th>2</th>\n",
       "      <td>8b49ab4b26eafff</td>\n",
       "      <td>POLYGON ((-103.39028 20.75465, -103.39011 20.7...</td>\n",
       "      <td>11</td>\n",
       "      <td>0.004639</td>\n",
       "      <td>0.078975</td>\n",
       "      <td>-0.003485</td>\n",
       "      <td>0.129107</td>\n",
       "      <td>-0.105572</td>\n",
       "      <td>0.234678</td>\n",
       "      <td>0.000270</td>\n",
       "      <td>Guadalajara</td>\n",
       "    </tr>\n",
       "    <tr>\n",
       "      <th>3</th>\n",
       "      <td>8b49ab4b271dfff</td>\n",
       "      <td>POLYGON ((-103.38996 20.74874, -103.38979 20.7...</td>\n",
       "      <td>11</td>\n",
       "      <td>0.099768</td>\n",
       "      <td>0.052265</td>\n",
       "      <td>0.098254</td>\n",
       "      <td>0.175194</td>\n",
       "      <td>0.033170</td>\n",
       "      <td>0.142024</td>\n",
       "      <td>-0.000491</td>\n",
       "      <td>Guadalajara</td>\n",
       "    </tr>\n",
       "    <tr>\n",
       "      <th>4</th>\n",
       "      <td>8b49ab4b2613fff</td>\n",
       "      <td>POLYGON ((-103.38830 20.75179, -103.38812 20.7...</td>\n",
       "      <td>11</td>\n",
       "      <td>-0.028204</td>\n",
       "      <td>0.106004</td>\n",
       "      <td>-0.051343</td>\n",
       "      <td>0.154841</td>\n",
       "      <td>-0.123025</td>\n",
       "      <td>0.277866</td>\n",
       "      <td>0.000392</td>\n",
       "      <td>Guadalajara</td>\n",
       "    </tr>\n",
       "    <tr>\n",
       "      <th>5</th>\n",
       "      <td>8b49ab4b27a6fff</td>\n",
       "      <td>POLYGON ((-103.38688 20.74775, -103.38671 20.7...</td>\n",
       "      <td>11</td>\n",
       "      <td>-0.014251</td>\n",
       "      <td>0.055812</td>\n",
       "      <td>-0.033390</td>\n",
       "      <td>0.107957</td>\n",
       "      <td>-0.055972</td>\n",
       "      <td>0.163930</td>\n",
       "      <td>0.000133</td>\n",
       "      <td>Guadalajara</td>\n",
       "    </tr>\n",
       "    <tr>\n",
       "      <th>6</th>\n",
       "      <td>8b49ab4b2793fff</td>\n",
       "      <td>POLYGON ((-103.38532 20.74982, -103.38514 20.7...</td>\n",
       "      <td>11</td>\n",
       "      <td>0.005626</td>\n",
       "      <td>0.044411</td>\n",
       "      <td>-0.002412</td>\n",
       "      <td>0.097986</td>\n",
       "      <td>-0.027236</td>\n",
       "      <td>0.125222</td>\n",
       "      <td>0.000014</td>\n",
       "      <td>Guadalajara</td>\n",
       "    </tr>\n",
       "    <tr>\n",
       "      <th>7</th>\n",
       "      <td>8b49ab4b265bfff</td>\n",
       "      <td>POLYGON ((-103.39208 20.75480, -103.39191 20.7...</td>\n",
       "      <td>11</td>\n",
       "      <td>0.143926</td>\n",
       "      <td>0.055587</td>\n",
       "      <td>0.130723</td>\n",
       "      <td>0.241717</td>\n",
       "      <td>0.074088</td>\n",
       "      <td>0.167628</td>\n",
       "      <td>0.000376</td>\n",
       "      <td>Guadalajara</td>\n",
       "    </tr>\n",
       "    <tr>\n",
       "      <th>8</th>\n",
       "      <td>8b49ab4b2789fff</td>\n",
       "      <td>POLYGON ((-103.38797 20.75053, -103.38779 20.7...</td>\n",
       "      <td>11</td>\n",
       "      <td>-0.000564</td>\n",
       "      <td>0.107075</td>\n",
       "      <td>-0.037318</td>\n",
       "      <td>0.162610</td>\n",
       "      <td>-0.089739</td>\n",
       "      <td>0.252348</td>\n",
       "      <td>-0.001059</td>\n",
       "      <td>Guadalajara</td>\n",
       "    </tr>\n",
       "    <tr>\n",
       "      <th>9</th>\n",
       "      <td>8b49ab4b2664fff</td>\n",
       "      <td>POLYGON ((-103.39332 20.75147, -103.39315 20.7...</td>\n",
       "      <td>11</td>\n",
       "      <td>-0.034403</td>\n",
       "      <td>0.052683</td>\n",
       "      <td>-0.047964</td>\n",
       "      <td>0.072917</td>\n",
       "      <td>-0.068646</td>\n",
       "      <td>0.141563</td>\n",
       "      <td>-0.000046</td>\n",
       "      <td>Guadalajara</td>\n",
       "    </tr>\n",
       "  </tbody>\n",
       "</table>\n",
       "</div>"
      ],
      "text/plain": [
       "         hex_id_10                                           geometry  res  \\\n",
       "0  8b49ab4b261efff  POLYGON ((-103.38872 20.75207, -103.38855 20.7...   11   \n",
       "1  8b49ab4b2694fff  POLYGON ((-103.38507 20.75226, -103.38490 20.7...   11   \n",
       "2  8b49ab4b26eafff  POLYGON ((-103.39028 20.75465, -103.39011 20.7...   11   \n",
       "3  8b49ab4b271dfff  POLYGON ((-103.38996 20.74874, -103.38979 20.7...   11   \n",
       "4  8b49ab4b2613fff  POLYGON ((-103.38830 20.75179, -103.38812 20.7...   11   \n",
       "5  8b49ab4b27a6fff  POLYGON ((-103.38688 20.74775, -103.38671 20.7...   11   \n",
       "6  8b49ab4b2793fff  POLYGON ((-103.38532 20.74982, -103.38514 20.7...   11   \n",
       "7  8b49ab4b265bfff  POLYGON ((-103.39208 20.75480, -103.39191 20.7...   11   \n",
       "8  8b49ab4b2789fff  POLYGON ((-103.38797 20.75053, -103.38779 20.7...   11   \n",
       "9  8b49ab4b2664fff  POLYGON ((-103.39332 20.75147, -103.39315 20.7...   11   \n",
       "\n",
       "   ndmi_mean  ndmi_std  ndmi_median  ndmi_max  ndmi_min  ndmi_diff  ndmi_tend  \\\n",
       "0  -0.024430  0.088269    -0.045940  0.125081 -0.108787   0.233868   0.000099   \n",
       "1  -0.001659  0.048773    -0.011628  0.100045 -0.044546   0.144592  -0.000135   \n",
       "2   0.004639  0.078975    -0.003485  0.129107 -0.105572   0.234678   0.000270   \n",
       "3   0.099768  0.052265     0.098254  0.175194  0.033170   0.142024  -0.000491   \n",
       "4  -0.028204  0.106004    -0.051343  0.154841 -0.123025   0.277866   0.000392   \n",
       "5  -0.014251  0.055812    -0.033390  0.107957 -0.055972   0.163930   0.000133   \n",
       "6   0.005626  0.044411    -0.002412  0.097986 -0.027236   0.125222   0.000014   \n",
       "7   0.143926  0.055587     0.130723  0.241717  0.074088   0.167628   0.000376   \n",
       "8  -0.000564  0.107075    -0.037318  0.162610 -0.089739   0.252348  -0.001059   \n",
       "9  -0.034403  0.052683    -0.047964  0.072917 -0.068646   0.141563  -0.000046   \n",
       "\n",
       "          city  \n",
       "0  Guadalajara  \n",
       "1  Guadalajara  \n",
       "2  Guadalajara  \n",
       "3  Guadalajara  \n",
       "4  Guadalajara  \n",
       "5  Guadalajara  \n",
       "6  Guadalajara  \n",
       "7  Guadalajara  \n",
       "8  Guadalajara  \n",
       "9  Guadalajara  "
      ]
     },
     "execution_count": 6,
     "metadata": {},
     "output_type": "execute_result"
    }
   ],
   "source": [
    "hex_schema = \"raster_analysis\"\n",
    "hex_table = \"ndmi_analysis_hex\"\n",
    "c = 'Guadalajara'\n",
    "n = '11'\n",
    "query = f'SELECT * FROM {hex_schema}.{hex_table} WHERE \\\"city\\\" LIKE \\'{c}\\' AND \\\"res\\\" = {n}'\n",
    "ndmi_gdl = aup.gdf_from_query(query, geometry_col='geometry')\n",
    "ndmi_gdl.columns = ndmi_gdl.columns.str.replace('hex_id', 'hex_id_10')\n",
    "ndmi_gdl.head(10)"
   ]
  },
  {
   "cell_type": "code",
   "execution_count": 7,
   "metadata": {},
   "outputs": [],
   "source": [
    "#Define projections\n",
    "mun_gdf = mun_gdf.set_crs(\"EPSG:4326\")\n",
    "ageb_gdf = ageb_gdf.set_crs(\"EPSG:4326\")\n",
    "hex_gdf = hex_gdf.set_crs(\"EPSG:4326\")\n",
    "ndmi_gdl = ndmi_gdl.set_crs(\"EPSG:4326\")"
   ]
  },
  {
   "cell_type": "markdown",
   "metadata": {},
   "source": [
    "## Donwload nodes and edges"
   ]
  },
  {
   "cell_type": "code",
   "execution_count": 8,
   "metadata": {},
   "outputs": [],
   "source": [
    "#Creates wkt for query\n",
    "gdf_tmp = mun_gdf.copy()\n",
    "gdf_tmp = gdf_tmp.to_crs(\"EPSG:6372\")\n",
    "gdf_tmp = gdf_tmp.buffer(1).reset_index().rename(columns={0:'geometry'})\n",
    "gdf_tmp = gdf_tmp.set_geometry('geometry')\n",
    "gdf_tmp = gdf_tmp.to_crs(\"EPSG:4326\")\n",
    "poly_wkt = gdf_tmp.dissolve().geometry.to_wkt()[0]\n",
    "aup.log(\"Created wkt based on dissolved polygon\")"
   ]
  },
  {
   "cell_type": "code",
   "execution_count": 9,
   "metadata": {},
   "outputs": [],
   "source": [
    "#Download nodes with distance to denue data\n",
    "query = f\"SELECT * FROM osmnx.edges WHERE ST_Intersects(geometry, \\'SRID=4326;{poly_wkt}\\')\"\n",
    "edges = aup.gdf_from_query(query, geometry_col='geometry')\n",
    "aup.log(f\"Downloaded {len(edges)} edges from database for {c}\")\n",
    "edges = edges.to_crs(\"EPSG:4326\")\n",
    "query = f\"SELECT * FROM osmnx.nodes WHERE ST_Intersects(geometry, \\'SRID=4326;{poly_wkt}\\')\"\n",
    "nodes = aup.gdf_from_query(query, geometry_col='geometry')\n",
    "aup.log(f\"Downloaded {len(edges)} edges from database for {c}\")\n",
    "nodes = nodes.to_crs(\"EPSG:4326\")\n"
   ]
  },
  {
   "cell_type": "markdown",
   "metadata": {},
   "source": [
    "## Hexagon analysis"
   ]
  },
  {
   "cell_type": "code",
   "execution_count": 10,
   "metadata": {},
   "outputs": [
    {
     "ename": "KeyError",
     "evalue": "\"None of [Index(['CVEGEO'], dtype='object')] are in the [columns]\"",
     "output_type": "error",
     "traceback": [
      "\u001b[0;31m---------------------------------------------------------------------------\u001b[0m",
      "\u001b[0;31mKeyError\u001b[0m                                  Traceback (most recent call last)",
      "Cell \u001b[0;32mIn[10], line 6\u001b[0m\n\u001b[1;32m      4\u001b[0m hex_gdf \u001b[38;5;241m=\u001b[39m hex_gdf\u001b[38;5;241m.\u001b[39mset_index(\u001b[38;5;124m'\u001b[39m\u001b[38;5;124mhex_id_10\u001b[39m\u001b[38;5;124m'\u001b[39m)\n\u001b[1;32m      5\u001b[0m \u001b[38;5;66;03m#simplify and keep only relevant columns\u001b[39;00m\n\u001b[0;32m----> 6\u001b[0m pip_idx \u001b[38;5;241m=\u001b[39m \u001b[43mpip\u001b[49m\u001b[43m[\u001b[49m\u001b[43m[\u001b[49m\u001b[38;5;124;43m'\u001b[39;49m\u001b[38;5;124;43mCVEGEO\u001b[39;49m\u001b[38;5;124;43m'\u001b[39;49m\u001b[43m]\u001b[49m\u001b[43m]\u001b[49m\n\u001b[1;32m      7\u001b[0m hex_geom \u001b[38;5;241m=\u001b[39m hex_gdf[[\u001b[38;5;124m'\u001b[39m\u001b[38;5;124mgeometry\u001b[39m\u001b[38;5;124m'\u001b[39m]]\n\u001b[1;32m      8\u001b[0m \u001b[38;5;66;03m#Merge with indicator. Right only means that the hexagon does NOT have any node (first filter)\u001b[39;00m\n",
      "File \u001b[0;32m/opt/conda/lib/python3.10/site-packages/geopandas/geodataframe.py:1415\u001b[0m, in \u001b[0;36mGeoDataFrame.__getitem__\u001b[0;34m(self, key)\u001b[0m\n\u001b[1;32m   1409\u001b[0m \u001b[38;5;28;01mdef\u001b[39;00m \u001b[38;5;21m__getitem__\u001b[39m(\u001b[38;5;28mself\u001b[39m, key):\n\u001b[1;32m   1410\u001b[0m \u001b[38;5;250m    \u001b[39m\u001b[38;5;124;03m\"\"\"\u001b[39;00m\n\u001b[1;32m   1411\u001b[0m \u001b[38;5;124;03m    If the result is a column containing only 'geometry', return a\u001b[39;00m\n\u001b[1;32m   1412\u001b[0m \u001b[38;5;124;03m    GeoSeries. If it's a DataFrame with any columns of GeometryDtype,\u001b[39;00m\n\u001b[1;32m   1413\u001b[0m \u001b[38;5;124;03m    return a GeoDataFrame.\u001b[39;00m\n\u001b[1;32m   1414\u001b[0m \u001b[38;5;124;03m    \"\"\"\u001b[39;00m\n\u001b[0;32m-> 1415\u001b[0m     result \u001b[38;5;241m=\u001b[39m \u001b[38;5;28;43msuper\u001b[39;49m\u001b[43m(\u001b[49m\u001b[43m)\u001b[49m\u001b[38;5;241;43m.\u001b[39;49m\u001b[38;5;21;43m__getitem__\u001b[39;49m\u001b[43m(\u001b[49m\u001b[43mkey\u001b[49m\u001b[43m)\u001b[49m\n\u001b[1;32m   1416\u001b[0m     geo_col \u001b[38;5;241m=\u001b[39m \u001b[38;5;28mself\u001b[39m\u001b[38;5;241m.\u001b[39m_geometry_column_name\n\u001b[1;32m   1417\u001b[0m     \u001b[38;5;28;01mif\u001b[39;00m \u001b[38;5;28misinstance\u001b[39m(result, Series) \u001b[38;5;129;01mand\u001b[39;00m \u001b[38;5;28misinstance\u001b[39m(result\u001b[38;5;241m.\u001b[39mdtype, GeometryDtype):\n",
      "File \u001b[0;32m/opt/conda/lib/python3.10/site-packages/pandas/core/frame.py:3813\u001b[0m, in \u001b[0;36mDataFrame.__getitem__\u001b[0;34m(self, key)\u001b[0m\n\u001b[1;32m   3811\u001b[0m     \u001b[38;5;28;01mif\u001b[39;00m is_iterator(key):\n\u001b[1;32m   3812\u001b[0m         key \u001b[38;5;241m=\u001b[39m \u001b[38;5;28mlist\u001b[39m(key)\n\u001b[0;32m-> 3813\u001b[0m     indexer \u001b[38;5;241m=\u001b[39m \u001b[38;5;28;43mself\u001b[39;49m\u001b[38;5;241;43m.\u001b[39;49m\u001b[43mcolumns\u001b[49m\u001b[38;5;241;43m.\u001b[39;49m\u001b[43m_get_indexer_strict\u001b[49m\u001b[43m(\u001b[49m\u001b[43mkey\u001b[49m\u001b[43m,\u001b[49m\u001b[43m \u001b[49m\u001b[38;5;124;43m\"\u001b[39;49m\u001b[38;5;124;43mcolumns\u001b[39;49m\u001b[38;5;124;43m\"\u001b[39;49m\u001b[43m)\u001b[49m[\u001b[38;5;241m1\u001b[39m]\n\u001b[1;32m   3815\u001b[0m \u001b[38;5;66;03m# take() does not accept boolean indexers\u001b[39;00m\n\u001b[1;32m   3816\u001b[0m \u001b[38;5;28;01mif\u001b[39;00m \u001b[38;5;28mgetattr\u001b[39m(indexer, \u001b[38;5;124m\"\u001b[39m\u001b[38;5;124mdtype\u001b[39m\u001b[38;5;124m\"\u001b[39m, \u001b[38;5;28;01mNone\u001b[39;00m) \u001b[38;5;241m==\u001b[39m \u001b[38;5;28mbool\u001b[39m:\n",
      "File \u001b[0;32m/opt/conda/lib/python3.10/site-packages/pandas/core/indexes/base.py:6070\u001b[0m, in \u001b[0;36mIndex._get_indexer_strict\u001b[0;34m(self, key, axis_name)\u001b[0m\n\u001b[1;32m   6067\u001b[0m \u001b[38;5;28;01melse\u001b[39;00m:\n\u001b[1;32m   6068\u001b[0m     keyarr, indexer, new_indexer \u001b[38;5;241m=\u001b[39m \u001b[38;5;28mself\u001b[39m\u001b[38;5;241m.\u001b[39m_reindex_non_unique(keyarr)\n\u001b[0;32m-> 6070\u001b[0m \u001b[38;5;28;43mself\u001b[39;49m\u001b[38;5;241;43m.\u001b[39;49m\u001b[43m_raise_if_missing\u001b[49m\u001b[43m(\u001b[49m\u001b[43mkeyarr\u001b[49m\u001b[43m,\u001b[49m\u001b[43m \u001b[49m\u001b[43mindexer\u001b[49m\u001b[43m,\u001b[49m\u001b[43m \u001b[49m\u001b[43maxis_name\u001b[49m\u001b[43m)\u001b[49m\n\u001b[1;32m   6072\u001b[0m keyarr \u001b[38;5;241m=\u001b[39m \u001b[38;5;28mself\u001b[39m\u001b[38;5;241m.\u001b[39mtake(indexer)\n\u001b[1;32m   6073\u001b[0m \u001b[38;5;28;01mif\u001b[39;00m \u001b[38;5;28misinstance\u001b[39m(key, Index):\n\u001b[1;32m   6074\u001b[0m     \u001b[38;5;66;03m# GH 42790 - Preserve name from an Index\u001b[39;00m\n",
      "File \u001b[0;32m/opt/conda/lib/python3.10/site-packages/pandas/core/indexes/base.py:6130\u001b[0m, in \u001b[0;36mIndex._raise_if_missing\u001b[0;34m(self, key, indexer, axis_name)\u001b[0m\n\u001b[1;32m   6128\u001b[0m     \u001b[38;5;28;01mif\u001b[39;00m use_interval_msg:\n\u001b[1;32m   6129\u001b[0m         key \u001b[38;5;241m=\u001b[39m \u001b[38;5;28mlist\u001b[39m(key)\n\u001b[0;32m-> 6130\u001b[0m     \u001b[38;5;28;01mraise\u001b[39;00m \u001b[38;5;167;01mKeyError\u001b[39;00m(\u001b[38;5;124mf\u001b[39m\u001b[38;5;124m\"\u001b[39m\u001b[38;5;124mNone of [\u001b[39m\u001b[38;5;132;01m{\u001b[39;00mkey\u001b[38;5;132;01m}\u001b[39;00m\u001b[38;5;124m] are in the [\u001b[39m\u001b[38;5;132;01m{\u001b[39;00maxis_name\u001b[38;5;132;01m}\u001b[39;00m\u001b[38;5;124m]\u001b[39m\u001b[38;5;124m\"\u001b[39m)\n\u001b[1;32m   6132\u001b[0m not_found \u001b[38;5;241m=\u001b[39m \u001b[38;5;28mlist\u001b[39m(ensure_index(key)[missing_mask\u001b[38;5;241m.\u001b[39mnonzero()[\u001b[38;5;241m0\u001b[39m]]\u001b[38;5;241m.\u001b[39munique())\n\u001b[1;32m   6133\u001b[0m \u001b[38;5;28;01mraise\u001b[39;00m \u001b[38;5;167;01mKeyError\u001b[39;00m(\u001b[38;5;124mf\u001b[39m\u001b[38;5;124m\"\u001b[39m\u001b[38;5;132;01m{\u001b[39;00mnot_found\u001b[38;5;132;01m}\u001b[39;00m\u001b[38;5;124m not in index\u001b[39m\u001b[38;5;124m\"\u001b[39m)\n",
      "\u001b[0;31mKeyError\u001b[0m: \"None of [Index(['CVEGEO'], dtype='object')] are in the [columns]\""
     ]
    }
   ],
   "source": [
    "#PIP (Point in Polygon). Overlays nodes with hexes to find hexes that have nodes in them and those that do not\n",
    "pip = gpd.overlay(ndmi_gdl, nodes, how='intersection', keep_geom_type=False)\n",
    "pip = pip.set_index('hex_id_10')\n",
    "hex_gdf = hex_gdf.set_index('hex_id_10')\n",
    "#simplify and keep only relevant columns\n",
    "pip_idx = pip[['CVEGEO']]\n",
    "hex_geom = hex_gdf[['geometry']]\n",
    "#Merge with indicator. Right only means that the hexagon does NOT have any node (first filter)\n",
    "hex_node = pip_idx.merge(hex_geom, left_index=True, right_index=True, how='outer', indicator=True)\n",
    "R2 = hex_node[hex_node['_merge']=='right_only']\n",
    "#(simplify) and plot\n",
    "R3 = gpd.GeoDataFrame(R2, geometry = 'geometry')\n",
    "R3 = R3[['geometry']]\n",
    "R3.reset_index(inplace = True)\n",
    "#R3.plot()\n"
   ]
  },
  {
   "cell_type": "code",
   "execution_count": null,
   "metadata": {},
   "outputs": [],
   "source": [
    "#LIP (Line in Polygon). Overlays edges with hexes already filtered by nodes\n",
    "#  to find hexes that have edges in them and those that do not. In this case\n",
    "#We want to keep those that do have roads.\n",
    "lip = gpd.overlay(R3, edges, how='intersection', keep_geom_type=False)\n",
    "lip = lip.set_index('hex_id_10')\n",
    "R3 = R3.set_index('hex_id_10')\n",
    "lip_idx = lip[['osmid']]\n",
    "R3_geom = R3[['geometry']]\n",
    "#Merge with indicator. Both means that the hex has a road.\n",
    "hex_edge = lip_idx.merge(R3_geom, left_index=True, right_index=True, how='outer', indicator=True)\n",
    "hex_edge\n",
    "R4 = hex_edge[hex_edge['_merge']=='both']\n",
    "#Simplify and Plot\n",
    "R5 = gpd.GeoDataFrame(R4, geometry = 'geometry')\n",
    "R5 = R5[['geometry']]\n",
    "R5.reset_index(inplace = True)\n"
   ]
  },
  {
   "cell_type": "code",
   "execution_count": null,
   "metadata": {},
   "outputs": [],
   "source": [
    "#AIP (AGEB in Polygon). Overlays agebs with hexes already filtered by nodes and edges\n",
    "#  to find hexes that have agebs in them and those that do not. In this case\n",
    "#We want to keep those that are within an ageb.\n",
    "aip = gpd.overlay(R5, ageb_gdf, how='intersection', keep_geom_type=False)\n",
    "aip = aip.set_index('hex_id_10')\n",
    "R5 = R5.set_index('hex_id_10')\n",
    "aip_idx = aip[['cve_ageb']]\n",
    "R5_geom = R5[['geometry']]\n",
    "#Merge with indicator. Both means that the hex has intersects with an ageb.\n",
    "hex_ageb = aip_idx.merge(R5_geom, left_index=True, right_index=True, how='outer', indicator=True)\n",
    "R6 = hex_ageb[hex_ageb['_merge']=='both']\n",
    "#Simplify and Plot\n",
    "missing_hex = gpd.GeoDataFrame(R6, geometry = 'geometry')\n",
    "missing_hex = missing_hex[['geometry']]\n",
    "missing_hex.reset_index(inplace = True)\n"
   ]
  },
  {
   "cell_type": "code",
   "execution_count": null,
   "metadata": {},
   "outputs": [],
   "source": [
    "missing_hex.plot()"
   ]
  },
  {
   "cell_type": "code",
   "execution_count": null,
   "metadata": {},
   "outputs": [],
   "source": [
    "missing_hex = missing_hex.drop_duplicates(subset=['hex_id_10'])"
   ]
  },
  {
   "cell_type": "code",
   "execution_count": null,
   "metadata": {},
   "outputs": [],
   "source": [
    "missing_hex"
   ]
  },
  {
   "cell_type": "markdown",
   "metadata": {},
   "source": [
    "## Fill missing hexagons"
   ]
  },
  {
   "cell_type": "code",
   "execution_count": null,
   "metadata": {},
   "outputs": [],
   "source": [
    "## Start part 2, fill missing hexes with average value of neighbours\n",
    "missing_hex[['v']] = np.nan\n",
    "missing_hex\n"
   ]
  },
  {
   "cell_type": "code",
   "execution_count": null,
   "metadata": {},
   "outputs": [],
   "source": [
    "########This should be replaced with the hexes with distance information\n",
    "######## 'v' = distance\n",
    "## Optional, I am missing the real values\n",
    "hexval = hex_node[hex_node['_merge']=='both']\n",
    "hexval = gpd.GeoDataFrame(hexval, geometry = 'geometry')\n",
    "hexval.reset_index(inplace=True)\n",
    "rand = pd.DataFrame(np.random.randint(1,100,size=(195461, 1)), columns=list('v'))\n",
    "hexval= hexval.merge(rand, left_index=True, right_index=True)\n",
    "hexval.reset_index(inplace=True)\n",
    "hexval = hexval.drop_duplicates(subset=['hex_id_10'])\n",
    "hexval = hexval[['hex_id_10', 'geometry', 'v']]"
   ]
  },
  {
   "cell_type": "code",
   "execution_count": null,
   "metadata": {},
   "outputs": [],
   "source": [
    "urb_hex = gpd.GeoDataFrame()"
   ]
  },
  {
   "cell_type": "code",
   "execution_count": null,
   "metadata": {},
   "outputs": [],
   "source": [
    "missing_hex.reset_index(inplace = True)\n",
    "hexval.reset_index(inplace = True)\n",
    "urb_hex = hexval.append(missing_hex)\n",
    "urb_hex = urb_hex.set_index('hex_id_10')\n",
    "missing_hex = missing_hex.set_index('hex_id_10')\n",
    "hexval = hexval.set_index('hex_id_10')\n",
    "urb_hex"
   ]
  },
  {
   "cell_type": "code",
   "execution_count": null,
   "metadata": {},
   "outputs": [],
   "source": [
    "## Start looping\n",
    "count = 0\n",
    "iter = 1\n",
    "urb_hex['v'+ str(count)] = urb_hex['v'].copy()\n",
    "while urb_hex['v'+str(count)].isna().sum() > 0:\n",
    "    if count< 5:\n",
    "        missing = urb_hex[urb_hex['v'+str(count)].isna()]\n",
    "        urb_hex['v'+ str(iter)] = urb_hex['v'+str(count)].copy()\n",
    "        for idx,row in missing.iterrows():\n",
    "            ###Cell 1\n",
    "            near = pd.DataFrame(h3.k_ring(idx,1))\n",
    "            near['hex_id_10'] = h3.k_ring(idx,1)\n",
    "            near['a'] = np.nan\n",
    "            near= near.set_index('hex_id_10')\n",
    "            ###Cell 2\n",
    "            neighbors = near.merge(urb_hex, left_index=True, right_index=True, how='left')\n",
    "            #Cell 3\n",
    "            average = neighbors['v'+str(count)].mean()\n",
    "            urb_hex.at[idx, 'v'+str(iter)] = average\n",
    "        count = count + 1\n",
    "        iter = iter + 1\n",
    "    if count>= 10:\n",
    "        urb_hex['v'+str(count)] = 1\n",
    "fill_hex = urb_hex[['geometry']]\n",
    "fill_hex['v'] = urb_hex['v'+ str(count)].copy()"
   ]
  },
  {
   "cell_type": "code",
   "execution_count": null,
   "metadata": {},
   "outputs": [],
   "source": [
    "urb_hex['v'+str(count)].isna().sum()"
   ]
  },
  {
   "cell_type": "code",
   "execution_count": null,
   "metadata": {
    "tags": []
   },
   "outputs": [],
   "source": [
    "fill_hex.reset_index(inplace = True)\n",
    "fill_hex"
   ]
  }
 ],
 "metadata": {
  "interpreter": {
   "hash": "d4d1e4263499bec80672ea0156c357c1ee493ec2b1c70f0acce89fc37c4a6abe"
  },
  "kernelspec": {
   "display_name": "Python 3 (ipykernel)",
   "language": "python",
   "name": "python3"
  },
  "language_info": {
   "codemirror_mode": {
    "name": "ipython",
    "version": 3
   },
   "file_extension": ".py",
   "mimetype": "text/x-python",
   "name": "python",
   "nbconvert_exporter": "python",
   "pygments_lexer": "ipython3",
   "version": "3.10.10"
  }
 },
 "nbformat": 4,
 "nbformat_minor": 4
}
