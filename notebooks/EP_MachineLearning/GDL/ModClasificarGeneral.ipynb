{
 "cells": [
  {
   "cell_type": "code",
   "execution_count": 3,
   "id": "417918f8-3cb2-443d-972f-c3d5679337f7",
   "metadata": {},
   "outputs": [],
   "source": [
    "import warnings\n",
    "warnings.filterwarnings('ignore')\n",
    "import geopandas as gpd\n",
    "from geopandas.tools import overlay\n",
    "import matplotlib.pyplot as plt\n",
    "import os \n",
    "import sys\n",
    "module_path = os.path.abspath(os.path.join('../../../'))\n",
    "if module_path not in sys.path:\n",
    "    sys.path.append(module_path)\n",
    "    import aup\n",
    "import pandas as pd\n",
    "import numpy as np\n",
    "import seaborn as sns\n",
    "from sklearn.model_selection import train_test_split\n",
    "from sklearn.metrics import accuracy_score, confusion_matrix\n",
    "from sklearn.linear_model import LogisticRegression\n",
    "from sklearn.preprocessing import StandardScaler\n",
    "from sklearn.naive_bayes import GaussianNB\n",
    "from sklearn.ensemble import RandomForestClassifier\n",
    "import xgboost as xgb\n",
    "import random\n",
    "from sklearn.model_selection import StratifiedKFold\n",
    "from sklearn.metrics import classification_report, mean_squared_error\n",
    "import tensorflow as tf\n",
    "from keras.models import Sequential\n",
    "from keras.layers import Dense\n",
    "from tensorflow.keras.utils import to_categorical"
   ]
  },
  {
   "cell_type": "markdown",
   "id": "1f4b673d-a0ff-4041-b2b2-b9ec546375b5",
   "metadata": {},
   "source": [
    "## Espacios Públicos Gdl"
   ]
  },
  {
   "cell_type": "code",
   "execution_count": 4,
   "id": "4ea17f49-98ad-4d79-8c43-7fd0a0739bdd",
   "metadata": {},
   "outputs": [
    {
     "data": {
      "text/html": [
       "<div>\n",
       "<style scoped>\n",
       "    .dataframe tbody tr th:only-of-type {\n",
       "        vertical-align: middle;\n",
       "    }\n",
       "\n",
       "    .dataframe tbody tr th {\n",
       "        vertical-align: top;\n",
       "    }\n",
       "\n",
       "    .dataframe thead th {\n",
       "        text-align: right;\n",
       "    }\n",
       "</style>\n",
       "<table border=\"1\" class=\"dataframe\">\n",
       "  <thead>\n",
       "    <tr style=\"text-align: right;\">\n",
       "      <th></th>\n",
       "      <th>Fuente</th>\n",
       "      <th>Tipo</th>\n",
       "      <th>Uso</th>\n",
       "      <th>geometry</th>\n",
       "    </tr>\n",
       "  </thead>\n",
       "  <tbody>\n",
       "    <tr>\n",
       "      <th>0</th>\n",
       "      <td>OpenStreetMap, [Online]. Disponible: http://ww...</td>\n",
       "      <td>Parque</td>\n",
       "      <td>Uso recreativo</td>\n",
       "      <td>POLYGON ((672507.028 2272132.201, 672520.126 2...</td>\n",
       "    </tr>\n",
       "    <tr>\n",
       "      <th>1</th>\n",
       "      <td>OpenStreetMap, [Online]. Disponible: http://ww...</td>\n",
       "      <td>Parque</td>\n",
       "      <td>Uso recreativo</td>\n",
       "      <td>POLYGON ((672520.126 2272170.353, 672507.028 2...</td>\n",
       "    </tr>\n",
       "    <tr>\n",
       "      <th>2</th>\n",
       "      <td>OpenStreetMap, [Online]. Disponible: http://ww...</td>\n",
       "      <td>Parque</td>\n",
       "      <td>Uso recreativo</td>\n",
       "      <td>POLYGON ((672494.325 2272095.205, 672480.366 2...</td>\n",
       "    </tr>\n",
       "    <tr>\n",
       "      <th>3</th>\n",
       "      <td>OpenStreetMap, [Online]. Disponible: http://ww...</td>\n",
       "      <td>Parque</td>\n",
       "      <td>Uso recreativo</td>\n",
       "      <td>POLYGON ((672480.366 2272060.731, 672494.325 2...</td>\n",
       "    </tr>\n",
       "    <tr>\n",
       "      <th>4</th>\n",
       "      <td>OpenStreetMap, [Online]. Disponible: http://ww...</td>\n",
       "      <td>Parque</td>\n",
       "      <td>Uso recreativo</td>\n",
       "      <td>POLYGON ((672468.717 2272020.613, 672456.895 2...</td>\n",
       "    </tr>\n",
       "  </tbody>\n",
       "</table>\n",
       "</div>"
      ],
      "text/plain": [
       "                                              Fuente    Tipo             Uso  \\\n",
       "0  OpenStreetMap, [Online]. Disponible: http://ww...  Parque  Uso recreativo   \n",
       "1  OpenStreetMap, [Online]. Disponible: http://ww...  Parque  Uso recreativo   \n",
       "2  OpenStreetMap, [Online]. Disponible: http://ww...  Parque  Uso recreativo   \n",
       "3  OpenStreetMap, [Online]. Disponible: http://ww...  Parque  Uso recreativo   \n",
       "4  OpenStreetMap, [Online]. Disponible: http://ww...  Parque  Uso recreativo   \n",
       "\n",
       "                                            geometry  \n",
       "0  POLYGON ((672507.028 2272132.201, 672520.126 2...  \n",
       "1  POLYGON ((672520.126 2272170.353, 672507.028 2...  \n",
       "2  POLYGON ((672494.325 2272095.205, 672480.366 2...  \n",
       "3  POLYGON ((672480.366 2272060.731, 672494.325 2...  \n",
       "4  POLYGON ((672468.717 2272020.613, 672456.895 2...  "
      ]
     },
     "execution_count": 4,
     "metadata": {},
     "output_type": "execute_result"
    }
   ],
   "source": [
    "schema = 'espacios_publicos'\n",
    "table = 'ep_amg'\n",
    "gdf = aup.gdf_from_db(table,schema)\n",
    "gdf.head()"
   ]
  },
  {
   "cell_type": "markdown",
   "id": "3f1d29aa-cc80-4491-b20c-b5189761a002",
   "metadata": {},
   "source": [
    "## Hexágonos Gdl"
   ]
  },
  {
   "cell_type": "code",
   "execution_count": 5,
   "id": "3edf4d80-639e-4a4a-826a-cadff6494b0c",
   "metadata": {},
   "outputs": [
    {
     "data": {
      "text/html": [
       "<div>\n",
       "<style scoped>\n",
       "    .dataframe tbody tr th:only-of-type {\n",
       "        vertical-align: middle;\n",
       "    }\n",
       "\n",
       "    .dataframe tbody tr th {\n",
       "        vertical-align: top;\n",
       "    }\n",
       "\n",
       "    .dataframe thead th {\n",
       "        text-align: right;\n",
       "    }\n",
       "</style>\n",
       "<table border=\"1\" class=\"dataframe\">\n",
       "  <thead>\n",
       "    <tr style=\"text-align: right;\">\n",
       "      <th></th>\n",
       "      <th>hex_id</th>\n",
       "      <th>geometry</th>\n",
       "      <th>city</th>\n",
       "    </tr>\n",
       "  </thead>\n",
       "  <tbody>\n",
       "    <tr>\n",
       "      <th>0</th>\n",
       "      <td>8b49ab4b42d4fff</td>\n",
       "      <td>POLYGON ((-103.42329 20.71934, -103.42311 20.7...</td>\n",
       "      <td>Guadalajara</td>\n",
       "    </tr>\n",
       "    <tr>\n",
       "      <th>1</th>\n",
       "      <td>8b49ab4b42f5fff</td>\n",
       "      <td>POLYGON ((-103.42428 20.71844, -103.42411 20.7...</td>\n",
       "      <td>Guadalajara</td>\n",
       "    </tr>\n",
       "    <tr>\n",
       "      <th>2</th>\n",
       "      <td>8b49ab4b4306fff</td>\n",
       "      <td>POLYGON ((-103.42486 20.71260, -103.42469 20.7...</td>\n",
       "      <td>Guadalajara</td>\n",
       "    </tr>\n",
       "    <tr>\n",
       "      <th>3</th>\n",
       "      <td>8b49ab4b4255fff</td>\n",
       "      <td>POLYGON ((-103.42703 20.71818, -103.42686 20.7...</td>\n",
       "      <td>Guadalajara</td>\n",
       "    </tr>\n",
       "    <tr>\n",
       "      <th>4</th>\n",
       "      <td>8b49ab4b42d6fff</td>\n",
       "      <td>POLYGON ((-103.42281 20.71955, -103.42264 20.7...</td>\n",
       "      <td>Guadalajara</td>\n",
       "    </tr>\n",
       "  </tbody>\n",
       "</table>\n",
       "</div>"
      ],
      "text/plain": [
       "            hex_id                                           geometry  \\\n",
       "0  8b49ab4b42d4fff  POLYGON ((-103.42329 20.71934, -103.42311 20.7...   \n",
       "1  8b49ab4b42f5fff  POLYGON ((-103.42428 20.71844, -103.42411 20.7...   \n",
       "2  8b49ab4b4306fff  POLYGON ((-103.42486 20.71260, -103.42469 20.7...   \n",
       "3  8b49ab4b4255fff  POLYGON ((-103.42703 20.71818, -103.42686 20.7...   \n",
       "4  8b49ab4b42d6fff  POLYGON ((-103.42281 20.71955, -103.42264 20.7...   \n",
       "\n",
       "          city  \n",
       "0  Guadalajara  \n",
       "1  Guadalajara  \n",
       "2  Guadalajara  \n",
       "3  Guadalajara  \n",
       "4  Guadalajara  "
      ]
     },
     "execution_count": 5,
     "metadata": {},
     "output_type": "execute_result"
    }
   ],
   "source": [
    "hex_schema = \"raster_analysis\"\n",
    "hex_table = \"ndvi_analysis_hex\"\n",
    "c = 'Guadalajara'\n",
    "n = '11'\n",
    "query = f'SELECT hex_id, geometry, city FROM {hex_schema}.{hex_table} WHERE \\\"city\\\" LIKE \\'{c}\\' AND \\\"res\\\" = {n}'\n",
    "hex_gdl = aup.gdf_from_query(query, geometry_col='geometry')\n",
    "#query = 'fSelect geometry, hex_id, city from raster_analysis.ndvi_analysis where city = guadalajara and res = 11'\n",
    "hex_gdl.head(5)"
   ]
  },
  {
   "cell_type": "code",
   "execution_count": 4,
   "id": "63934812-6283-4ccb-8d38-9b89f7ce6c4a",
   "metadata": {
    "tags": []
   },
   "outputs": [
    {
     "data": {
      "text/plain": [
       "(407141, 3)"
      ]
     },
     "execution_count": 4,
     "metadata": {},
     "output_type": "execute_result"
    }
   ],
   "source": [
    "hex_gdl.shape"
   ]
  },
  {
   "cell_type": "code",
   "execution_count": 6,
   "id": "f224a99a-4221-4fb2-a4da-dac85a0fbcf4",
   "metadata": {},
   "outputs": [
    {
     "name": "stdout",
     "output_type": "stream",
     "text": [
      "CRS of gdf: epsg:4326\n",
      "CRS of hex_gdl: epsg:4326\n"
     ]
    }
   ],
   "source": [
    "gdf = gdf.to_crs(hex_gdl.crs)\n",
    "print(\"CRS of gdf:\", gdf.crs)\n",
    "print(\"CRS of hex_gdl:\", hex_gdl.crs)"
   ]
  },
  {
   "cell_type": "markdown",
   "id": "afd8cb98-6659-4eb1-88a2-2b4e9cf5907b",
   "metadata": {},
   "source": [
    "## Dummy Variables\n",
    "1 = Hexágonos que cuentan con espacios públicos\n",
    "\n",
    "0 = Hexágonos que no cuentan con espacios públicos"
   ]
  },
  {
   "cell_type": "code",
   "execution_count": 7,
   "id": "32c47c29-6d21-44c1-9c77-6e2d9c5592ac",
   "metadata": {
    "tags": []
   },
   "outputs": [
    {
     "data": {
      "text/html": [
       "<div>\n",
       "<style scoped>\n",
       "    .dataframe tbody tr th:only-of-type {\n",
       "        vertical-align: middle;\n",
       "    }\n",
       "\n",
       "    .dataframe tbody tr th {\n",
       "        vertical-align: top;\n",
       "    }\n",
       "\n",
       "    .dataframe thead th {\n",
       "        text-align: right;\n",
       "    }\n",
       "</style>\n",
       "<table border=\"1\" class=\"dataframe\">\n",
       "  <thead>\n",
       "    <tr style=\"text-align: right;\">\n",
       "      <th></th>\n",
       "      <th>hex_id</th>\n",
       "      <th>geometry</th>\n",
       "      <th>city</th>\n",
       "      <th>EspPublico</th>\n",
       "    </tr>\n",
       "  </thead>\n",
       "  <tbody>\n",
       "    <tr>\n",
       "      <th>0</th>\n",
       "      <td>8b49ab4b42d4fff</td>\n",
       "      <td>POLYGON ((-103.42329 20.71934, -103.42311 20.7...</td>\n",
       "      <td>Guadalajara</td>\n",
       "      <td>0</td>\n",
       "    </tr>\n",
       "    <tr>\n",
       "      <th>1</th>\n",
       "      <td>8b49ab4b42f5fff</td>\n",
       "      <td>POLYGON ((-103.42428 20.71844, -103.42411 20.7...</td>\n",
       "      <td>Guadalajara</td>\n",
       "      <td>0</td>\n",
       "    </tr>\n",
       "    <tr>\n",
       "      <th>2</th>\n",
       "      <td>8b49ab4b4306fff</td>\n",
       "      <td>POLYGON ((-103.42486 20.71260, -103.42469 20.7...</td>\n",
       "      <td>Guadalajara</td>\n",
       "      <td>0</td>\n",
       "    </tr>\n",
       "    <tr>\n",
       "      <th>3</th>\n",
       "      <td>8b49ab4b4255fff</td>\n",
       "      <td>POLYGON ((-103.42703 20.71818, -103.42686 20.7...</td>\n",
       "      <td>Guadalajara</td>\n",
       "      <td>1</td>\n",
       "    </tr>\n",
       "    <tr>\n",
       "      <th>4</th>\n",
       "      <td>8b49ab4b42d6fff</td>\n",
       "      <td>POLYGON ((-103.42281 20.71955, -103.42264 20.7...</td>\n",
       "      <td>Guadalajara</td>\n",
       "      <td>0</td>\n",
       "    </tr>\n",
       "  </tbody>\n",
       "</table>\n",
       "</div>"
      ],
      "text/plain": [
       "            hex_id                                           geometry  \\\n",
       "0  8b49ab4b42d4fff  POLYGON ((-103.42329 20.71934, -103.42311 20.7...   \n",
       "1  8b49ab4b42f5fff  POLYGON ((-103.42428 20.71844, -103.42411 20.7...   \n",
       "2  8b49ab4b4306fff  POLYGON ((-103.42486 20.71260, -103.42469 20.7...   \n",
       "3  8b49ab4b4255fff  POLYGON ((-103.42703 20.71818, -103.42686 20.7...   \n",
       "4  8b49ab4b42d6fff  POLYGON ((-103.42281 20.71955, -103.42264 20.7...   \n",
       "\n",
       "          city  EspPublico  \n",
       "0  Guadalajara           0  \n",
       "1  Guadalajara           0  \n",
       "2  Guadalajara           0  \n",
       "3  Guadalajara           1  \n",
       "4  Guadalajara           0  "
      ]
     },
     "execution_count": 7,
     "metadata": {},
     "output_type": "execute_result"
    }
   ],
   "source": [
    "gdf_sindex = gdf.sindex\n",
    "\n",
    "# Create a Series of boolean values indicating which hexagons intersect with public spaces\n",
    "intersects_public_spaces = hex_gdl['geometry'].apply(lambda geom: any(gdf_sindex.query(geom)))\n",
    "\n",
    "hex_gdl['EspPublico'] = intersects_public_spaces.astype(int)\n",
    "hex_gdl.head()"
   ]
  },
  {
   "cell_type": "code",
   "execution_count": 6,
   "id": "dd321d0a-c595-4e27-a283-06d861a55628",
   "metadata": {
    "tags": []
   },
   "outputs": [
    {
     "name": "stdout",
     "output_type": "stream",
     "text": [
      "Números de hexagonos sin Espacios Públicos: 300548 \n",
      "Número de Hexágonos con Espacios Públicos: 106593\n",
      "Número total de Hexágonos: 407141\n"
     ]
    }
   ],
   "source": [
    "contador_ceros = np.sum(hex_gdl['EspPublico'] == 0)\n",
    "contador_uno = np.sum(hex_gdl['EspPublico'])\n",
    "print(f'Números de hexagonos sin Espacios Públicos: {contador_ceros} \\nNúmero de Hexágonos con Espacios Públicos: {contador_uno}\\nNúmero total de Hexágonos: {contador_ceros+contador_uno}')"
   ]
  },
  {
   "cell_type": "markdown",
   "id": "53a96ca3-36a6-4482-a8c5-155bec50f725",
   "metadata": {},
   "source": [
    "Casi el 75% de los hexágonos no cuenta con Espacio Público, los métodos de clasificación van a estar muy sesgados por la discrepancia. Entonces tenemos que hacer que sean 50% ambos pero para esto vamos a hacer un submuestreo random con 200,000 y 200,000 de cada tipo de hexágono pero eso se hará después de juntar todo con el otro GeoDataFrame, que sean 200,000 y 200,000 es porque tenemos un total de 400,000 hexágonos entonces para que nuestro problema no pierda objetividad."
   ]
  },
  {
   "cell_type": "markdown",
   "id": "0117d09f-c51f-491e-9a59-a7eb00ed8b3d",
   "metadata": {},
   "source": [
    "## Hexágonos con info de humedad, vegetación y temperatura"
   ]
  },
  {
   "cell_type": "markdown",
   "id": "9a940298-cc09-4a6a-b89d-7f5b956f109a",
   "metadata": {},
   "source": [
    "select {tempe}.hex_id, {tempe}.geometry, {tempe}.city, {tempe}.res,\n",
    "\n",
    "temp_diff_mean,\n",
    "\n",
    "ndvi_mean, ndvi_std, ndvi_median, ndvi_max, ndvi_min, ndvi_diff, ndvi_tend,\n",
    "\n",
    "ndmi_mean, ndmi_median, ndmi_diff\n",
    "\n",
    "from raster_analysis.temperature_analysis_hex tempe\n",
    "\n",
    "inner join raster_analysis.ndmi_analysis_hex ndmi\n",
    "\n",
    "on tempe.hex_id = ndmi.hex_id \n",
    "\n",
    "inner join raster_analysis.ndvi_analysis_hex ndvi\n",
    "\n",
    "on tempe.hex_id = ndvi.hex_id \n",
    "\n",
    "where tempe.city  = 'Guadalajara' and tempe.res = 11"
   ]
  },
  {
   "cell_type": "code",
   "execution_count": 8,
   "id": "b490fe14-42f0-4cc5-ac0e-2050823bb05b",
   "metadata": {},
   "outputs": [
    {
     "data": {
      "text/html": [
       "<div>\n",
       "<style scoped>\n",
       "    .dataframe tbody tr th:only-of-type {\n",
       "        vertical-align: middle;\n",
       "    }\n",
       "\n",
       "    .dataframe tbody tr th {\n",
       "        vertical-align: top;\n",
       "    }\n",
       "\n",
       "    .dataframe thead th {\n",
       "        text-align: right;\n",
       "    }\n",
       "</style>\n",
       "<table border=\"1\" class=\"dataframe\">\n",
       "  <thead>\n",
       "    <tr style=\"text-align: right;\">\n",
       "      <th></th>\n",
       "      <th>hex_id</th>\n",
       "      <th>geometry</th>\n",
       "      <th>city</th>\n",
       "      <th>res</th>\n",
       "      <th>temp_diff_mean</th>\n",
       "      <th>ndvi_mean</th>\n",
       "      <th>ndvi_std</th>\n",
       "      <th>ndvi_median</th>\n",
       "      <th>ndvi_max</th>\n",
       "      <th>ndvi_min</th>\n",
       "      <th>ndvi_diff</th>\n",
       "      <th>ndvi_tend</th>\n",
       "      <th>ndmi_mean</th>\n",
       "      <th>ndmi_median</th>\n",
       "      <th>ndmi_diff</th>\n",
       "    </tr>\n",
       "  </thead>\n",
       "  <tbody>\n",
       "    <tr>\n",
       "      <th>0</th>\n",
       "      <td>8b49ab4b4252fff</td>\n",
       "      <td>POLYGON ((-103.42608 20.71859, -103.42591 20.7...</td>\n",
       "      <td>Guadalajara</td>\n",
       "      <td>11</td>\n",
       "      <td>0.280122</td>\n",
       "      <td>0.179791</td>\n",
       "      <td>0.066850</td>\n",
       "      <td>0.169024</td>\n",
       "      <td>0.274995</td>\n",
       "      <td>0.096016</td>\n",
       "      <td>0.178980</td>\n",
       "      <td>-0.000834</td>\n",
       "      <td>-0.002369</td>\n",
       "      <td>-0.010108</td>\n",
       "      <td>0.192091</td>\n",
       "    </tr>\n",
       "    <tr>\n",
       "      <th>1</th>\n",
       "      <td>8b49ab4b4352fff</td>\n",
       "      <td>POLYGON ((-103.42642 20.71518, -103.42625 20.7...</td>\n",
       "      <td>Guadalajara</td>\n",
       "      <td>11</td>\n",
       "      <td>1.001997</td>\n",
       "      <td>0.251013</td>\n",
       "      <td>0.066054</td>\n",
       "      <td>0.247660</td>\n",
       "      <td>0.363757</td>\n",
       "      <td>0.169640</td>\n",
       "      <td>0.194117</td>\n",
       "      <td>0.000504</td>\n",
       "      <td>0.045462</td>\n",
       "      <td>0.042870</td>\n",
       "      <td>0.136833</td>\n",
       "    </tr>\n",
       "    <tr>\n",
       "      <th>2</th>\n",
       "      <td>8b49ab4b5c93fff</td>\n",
       "      <td>POLYGON ((-103.42983 20.71742, -103.42966 20.7...</td>\n",
       "      <td>Guadalajara</td>\n",
       "      <td>11</td>\n",
       "      <td>-0.073338</td>\n",
       "      <td>0.433094</td>\n",
       "      <td>0.167217</td>\n",
       "      <td>0.395738</td>\n",
       "      <td>0.700481</td>\n",
       "      <td>0.225127</td>\n",
       "      <td>0.475354</td>\n",
       "      <td>-0.001176</td>\n",
       "      <td>0.082031</td>\n",
       "      <td>0.062196</td>\n",
       "      <td>0.297254</td>\n",
       "    </tr>\n",
       "    <tr>\n",
       "      <th>3</th>\n",
       "      <td>8b49ab4b4364fff</td>\n",
       "      <td>POLYGON ((-103.42889 20.71318, -103.42872 20.7...</td>\n",
       "      <td>Guadalajara</td>\n",
       "      <td>11</td>\n",
       "      <td>-0.496962</td>\n",
       "      <td>0.483932</td>\n",
       "      <td>0.102783</td>\n",
       "      <td>0.516193</td>\n",
       "      <td>0.560024</td>\n",
       "      <td>0.355706</td>\n",
       "      <td>0.204318</td>\n",
       "      <td>-0.000635</td>\n",
       "      <td>0.170704</td>\n",
       "      <td>0.170154</td>\n",
       "      <td>0.102290</td>\n",
       "    </tr>\n",
       "    <tr>\n",
       "      <th>4</th>\n",
       "      <td>8b49ab4b4244fff</td>\n",
       "      <td>POLYGON ((-103.42798 20.71776, -103.42781 20.7...</td>\n",
       "      <td>Guadalajara</td>\n",
       "      <td>11</td>\n",
       "      <td>-1.213368</td>\n",
       "      <td>0.516648</td>\n",
       "      <td>0.127617</td>\n",
       "      <td>0.526840</td>\n",
       "      <td>0.621555</td>\n",
       "      <td>0.346370</td>\n",
       "      <td>0.275185</td>\n",
       "      <td>-0.001570</td>\n",
       "      <td>0.176541</td>\n",
       "      <td>0.175209</td>\n",
       "      <td>0.160745</td>\n",
       "    </tr>\n",
       "    <tr>\n",
       "      <th>5</th>\n",
       "      <td>8b49ab4b4259fff</td>\n",
       "      <td>POLYGON ((-103.42779 20.71971, -103.42761 20.7...</td>\n",
       "      <td>Guadalajara</td>\n",
       "      <td>11</td>\n",
       "      <td>0.939236</td>\n",
       "      <td>0.357693</td>\n",
       "      <td>0.200747</td>\n",
       "      <td>0.289348</td>\n",
       "      <td>0.703857</td>\n",
       "      <td>0.158179</td>\n",
       "      <td>0.545678</td>\n",
       "      <td>-0.001155</td>\n",
       "      <td>0.002265</td>\n",
       "      <td>-0.055339</td>\n",
       "      <td>0.404973</td>\n",
       "    </tr>\n",
       "    <tr>\n",
       "      <th>6</th>\n",
       "      <td>8b49ab483075fff</td>\n",
       "      <td>POLYGON ((-103.45665 20.80869, -103.45647 20.8...</td>\n",
       "      <td>Guadalajara</td>\n",
       "      <td>11</td>\n",
       "      <td>-0.282639</td>\n",
       "      <td>0.296540</td>\n",
       "      <td>0.058069</td>\n",
       "      <td>0.311797</td>\n",
       "      <td>0.343975</td>\n",
       "      <td>0.191514</td>\n",
       "      <td>0.152461</td>\n",
       "      <td>-0.001677</td>\n",
       "      <td>0.122609</td>\n",
       "      <td>0.123036</td>\n",
       "      <td>0.099242</td>\n",
       "    </tr>\n",
       "    <tr>\n",
       "      <th>7</th>\n",
       "      <td>8b49ab483005fff</td>\n",
       "      <td>POLYGON ((-103.45447 20.80777, -103.45429 20.8...</td>\n",
       "      <td>Guadalajara</td>\n",
       "      <td>11</td>\n",
       "      <td>1.844519</td>\n",
       "      <td>0.120235</td>\n",
       "      <td>0.026140</td>\n",
       "      <td>0.122106</td>\n",
       "      <td>0.147014</td>\n",
       "      <td>0.097501</td>\n",
       "      <td>0.049513</td>\n",
       "      <td>-0.000783</td>\n",
       "      <td>-0.048292</td>\n",
       "      <td>-0.054991</td>\n",
       "      <td>0.093217</td>\n",
       "    </tr>\n",
       "    <tr>\n",
       "      <th>8</th>\n",
       "      <td>8b49ab4830d1fff</td>\n",
       "      <td>POLYGON ((-103.45271 20.81180, -103.45253 20.8...</td>\n",
       "      <td>Guadalajara</td>\n",
       "      <td>11</td>\n",
       "      <td>-0.056597</td>\n",
       "      <td>0.440252</td>\n",
       "      <td>0.260666</td>\n",
       "      <td>0.418498</td>\n",
       "      <td>0.781023</td>\n",
       "      <td>0.128774</td>\n",
       "      <td>0.652249</td>\n",
       "      <td>-0.000837</td>\n",
       "      <td>0.112624</td>\n",
       "      <td>0.077349</td>\n",
       "      <td>0.444625</td>\n",
       "    </tr>\n",
       "    <tr>\n",
       "      <th>9</th>\n",
       "      <td>8b49ab483146fff</td>\n",
       "      <td>POLYGON ((-103.45689 20.80625, -103.45671 20.8...</td>\n",
       "      <td>Guadalajara</td>\n",
       "      <td>11</td>\n",
       "      <td>1.584549</td>\n",
       "      <td>0.166404</td>\n",
       "      <td>0.049898</td>\n",
       "      <td>0.164920</td>\n",
       "      <td>0.210638</td>\n",
       "      <td>0.120280</td>\n",
       "      <td>0.090359</td>\n",
       "      <td>-0.002157</td>\n",
       "      <td>-0.028310</td>\n",
       "      <td>-0.040936</td>\n",
       "      <td>0.115084</td>\n",
       "    </tr>\n",
       "  </tbody>\n",
       "</table>\n",
       "</div>"
      ],
      "text/plain": [
       "            hex_id                                           geometry  \\\n",
       "0  8b49ab4b4252fff  POLYGON ((-103.42608 20.71859, -103.42591 20.7...   \n",
       "1  8b49ab4b4352fff  POLYGON ((-103.42642 20.71518, -103.42625 20.7...   \n",
       "2  8b49ab4b5c93fff  POLYGON ((-103.42983 20.71742, -103.42966 20.7...   \n",
       "3  8b49ab4b4364fff  POLYGON ((-103.42889 20.71318, -103.42872 20.7...   \n",
       "4  8b49ab4b4244fff  POLYGON ((-103.42798 20.71776, -103.42781 20.7...   \n",
       "5  8b49ab4b4259fff  POLYGON ((-103.42779 20.71971, -103.42761 20.7...   \n",
       "6  8b49ab483075fff  POLYGON ((-103.45665 20.80869, -103.45647 20.8...   \n",
       "7  8b49ab483005fff  POLYGON ((-103.45447 20.80777, -103.45429 20.8...   \n",
       "8  8b49ab4830d1fff  POLYGON ((-103.45271 20.81180, -103.45253 20.8...   \n",
       "9  8b49ab483146fff  POLYGON ((-103.45689 20.80625, -103.45671 20.8...   \n",
       "\n",
       "          city  res  temp_diff_mean  ndvi_mean  ndvi_std  ndvi_median  \\\n",
       "0  Guadalajara   11        0.280122   0.179791  0.066850     0.169024   \n",
       "1  Guadalajara   11        1.001997   0.251013  0.066054     0.247660   \n",
       "2  Guadalajara   11       -0.073338   0.433094  0.167217     0.395738   \n",
       "3  Guadalajara   11       -0.496962   0.483932  0.102783     0.516193   \n",
       "4  Guadalajara   11       -1.213368   0.516648  0.127617     0.526840   \n",
       "5  Guadalajara   11        0.939236   0.357693  0.200747     0.289348   \n",
       "6  Guadalajara   11       -0.282639   0.296540  0.058069     0.311797   \n",
       "7  Guadalajara   11        1.844519   0.120235  0.026140     0.122106   \n",
       "8  Guadalajara   11       -0.056597   0.440252  0.260666     0.418498   \n",
       "9  Guadalajara   11        1.584549   0.166404  0.049898     0.164920   \n",
       "\n",
       "   ndvi_max  ndvi_min  ndvi_diff  ndvi_tend  ndmi_mean  ndmi_median  ndmi_diff  \n",
       "0  0.274995  0.096016   0.178980  -0.000834  -0.002369    -0.010108   0.192091  \n",
       "1  0.363757  0.169640   0.194117   0.000504   0.045462     0.042870   0.136833  \n",
       "2  0.700481  0.225127   0.475354  -0.001176   0.082031     0.062196   0.297254  \n",
       "3  0.560024  0.355706   0.204318  -0.000635   0.170704     0.170154   0.102290  \n",
       "4  0.621555  0.346370   0.275185  -0.001570   0.176541     0.175209   0.160745  \n",
       "5  0.703857  0.158179   0.545678  -0.001155   0.002265    -0.055339   0.404973  \n",
       "6  0.343975  0.191514   0.152461  -0.001677   0.122609     0.123036   0.099242  \n",
       "7  0.147014  0.097501   0.049513  -0.000783  -0.048292    -0.054991   0.093217  \n",
       "8  0.781023  0.128774   0.652249  -0.000837   0.112624     0.077349   0.444625  \n",
       "9  0.210638  0.120280   0.090359  -0.002157  -0.028310    -0.040936   0.115084  "
      ]
     },
     "execution_count": 8,
     "metadata": {},
     "output_type": "execute_result"
    }
   ],
   "source": [
    "hex_schema = \"raster_analysis\"\n",
    "hex_table = \"temperature_analysis_hex\"\n",
    "hex_tabl = \"ndvi_analysis_hex\"\n",
    "hex_tablee = \"ndmi_analysis_hex\"\n",
    "tempe = \"tempe\"\n",
    "ndmi = \"ndmi\"\n",
    "ndvi = \"ndvi\"\n",
    "hex_id = \"hex_id\"\n",
    "c = 'Guadalajara'\n",
    "n = '11'\n",
    "query = f'SELECT {tempe}.hex_id, {tempe}.geometry, {tempe}.city, {tempe}.res, temp_diff_mean,ndvi_mean, ndvi_std, ndvi_median, ndvi_max, ndvi_min, ndvi_diff, ndvi_tend,ndmi_mean, ndmi_median, ndmi_diff FROM {hex_schema}.{hex_table} {tempe} INNER JOIN {hex_schema}.{hex_tablee} {ndmi} ON {tempe}.{hex_id} = {ndmi}.{hex_id} INNER JOIN {hex_schema}.{hex_tabl} {ndvi} ON {tempe}.{hex_id} = {ndvi}.{hex_id} WHERE {tempe}.\\\"city\\\" = \\'{c}\\' AND {tempe}.\\\"res\\\" = {n}'\n",
    "intt_gdl = aup.gdf_from_query(query, geometry_col='geometry')\n",
    "intt_gdl.head(10)"
   ]
  },
  {
   "cell_type": "markdown",
   "id": "3573a856-d6a8-47c5-9511-c3ead1f22f77",
   "metadata": {},
   "source": [
    "## Intersección"
   ]
  },
  {
   "cell_type": "code",
   "execution_count": 9,
   "id": "b3ccd6fc-d015-4ca2-b82c-9b465ce77552",
   "metadata": {},
   "outputs": [],
   "source": [
    "intt_gdl = intt_gdl.set_crs(\"EPSG:4326\")\n",
    "hex_gdl = hex_gdl.set_crs(\"EPSG:4326\")"
   ]
  },
  {
   "cell_type": "code",
   "execution_count": 10,
   "id": "7bea388f-410c-4e31-8fa0-c9934b1da302",
   "metadata": {
    "tags": []
   },
   "outputs": [
    {
     "data": {
      "text/html": [
       "<div>\n",
       "<style scoped>\n",
       "    .dataframe tbody tr th:only-of-type {\n",
       "        vertical-align: middle;\n",
       "    }\n",
       "\n",
       "    .dataframe tbody tr th {\n",
       "        vertical-align: top;\n",
       "    }\n",
       "\n",
       "    .dataframe thead th {\n",
       "        text-align: right;\n",
       "    }\n",
       "</style>\n",
       "<table border=\"1\" class=\"dataframe\">\n",
       "  <thead>\n",
       "    <tr style=\"text-align: right;\">\n",
       "      <th></th>\n",
       "      <th>hex_id</th>\n",
       "      <th>geometry</th>\n",
       "      <th>city</th>\n",
       "      <th>EspPublico</th>\n",
       "      <th>temp_diff_mean</th>\n",
       "      <th>ndvi_mean</th>\n",
       "      <th>ndvi_std</th>\n",
       "      <th>ndvi_median</th>\n",
       "      <th>ndvi_max</th>\n",
       "      <th>ndvi_min</th>\n",
       "      <th>ndvi_diff</th>\n",
       "      <th>ndvi_tend</th>\n",
       "      <th>ndmi_mean</th>\n",
       "      <th>ndmi_median</th>\n",
       "      <th>ndmi_diff</th>\n",
       "    </tr>\n",
       "  </thead>\n",
       "  <tbody>\n",
       "    <tr>\n",
       "      <th>0</th>\n",
       "      <td>8b49ab4b42d4fff</td>\n",
       "      <td>POLYGON ((-103.42329 20.71934, -103.42311 20.7...</td>\n",
       "      <td>Guadalajara</td>\n",
       "      <td>0</td>\n",
       "      <td>0.632205</td>\n",
       "      <td>0.300222</td>\n",
       "      <td>0.145621</td>\n",
       "      <td>0.273654</td>\n",
       "      <td>0.52469</td>\n",
       "      <td>0.134969</td>\n",
       "      <td>0.389721</td>\n",
       "      <td>-0.001431</td>\n",
       "      <td>-0.037278</td>\n",
       "      <td>-0.043751</td>\n",
       "      <td>0.300493</td>\n",
       "    </tr>\n",
       "    <tr>\n",
       "      <th>67</th>\n",
       "      <td>8b49ab4b42d5fff</td>\n",
       "      <td>POLYGON ((-103.42371 20.71962, -103.42354 20.7...</td>\n",
       "      <td>Guadalajara</td>\n",
       "      <td>0</td>\n",
       "      <td>0.632205</td>\n",
       "      <td>0.300222</td>\n",
       "      <td>0.145621</td>\n",
       "      <td>0.273654</td>\n",
       "      <td>0.52469</td>\n",
       "      <td>0.134969</td>\n",
       "      <td>0.389721</td>\n",
       "      <td>-0.001431</td>\n",
       "      <td>-0.037278</td>\n",
       "      <td>-0.043751</td>\n",
       "      <td>0.300493</td>\n",
       "    </tr>\n",
       "    <tr>\n",
       "      <th>98</th>\n",
       "      <td>8b49ab4b42f0fff</td>\n",
       "      <td>POLYGON ((-103.42381 20.71865, -103.42364 20.7...</td>\n",
       "      <td>Guadalajara</td>\n",
       "      <td>0</td>\n",
       "      <td>0.632205</td>\n",
       "      <td>0.300222</td>\n",
       "      <td>0.145621</td>\n",
       "      <td>0.273654</td>\n",
       "      <td>0.52469</td>\n",
       "      <td>0.134969</td>\n",
       "      <td>0.389721</td>\n",
       "      <td>-0.001431</td>\n",
       "      <td>-0.037278</td>\n",
       "      <td>-0.043751</td>\n",
       "      <td>0.300493</td>\n",
       "    </tr>\n",
       "    <tr>\n",
       "      <th>152</th>\n",
       "      <td>8b49ab4b42f1fff</td>\n",
       "      <td>POLYGON ((-103.42424 20.71893, -103.42406 20.7...</td>\n",
       "      <td>Guadalajara</td>\n",
       "      <td>0</td>\n",
       "      <td>0.632205</td>\n",
       "      <td>0.300222</td>\n",
       "      <td>0.145621</td>\n",
       "      <td>0.273654</td>\n",
       "      <td>0.52469</td>\n",
       "      <td>0.134969</td>\n",
       "      <td>0.389721</td>\n",
       "      <td>-0.001431</td>\n",
       "      <td>-0.037278</td>\n",
       "      <td>-0.043751</td>\n",
       "      <td>0.300493</td>\n",
       "    </tr>\n",
       "    <tr>\n",
       "      <th>229</th>\n",
       "      <td>8b49ab4b42f2fff</td>\n",
       "      <td>POLYGON ((-103.42334 20.71885, -103.42316 20.7...</td>\n",
       "      <td>Guadalajara</td>\n",
       "      <td>1</td>\n",
       "      <td>0.632205</td>\n",
       "      <td>0.300222</td>\n",
       "      <td>0.145621</td>\n",
       "      <td>0.273654</td>\n",
       "      <td>0.52469</td>\n",
       "      <td>0.134969</td>\n",
       "      <td>0.389721</td>\n",
       "      <td>-0.001431</td>\n",
       "      <td>-0.037278</td>\n",
       "      <td>-0.043751</td>\n",
       "      <td>0.300493</td>\n",
       "    </tr>\n",
       "  </tbody>\n",
       "</table>\n",
       "</div>"
      ],
      "text/plain": [
       "              hex_id                                           geometry  \\\n",
       "0    8b49ab4b42d4fff  POLYGON ((-103.42329 20.71934, -103.42311 20.7...   \n",
       "67   8b49ab4b42d5fff  POLYGON ((-103.42371 20.71962, -103.42354 20.7...   \n",
       "98   8b49ab4b42f0fff  POLYGON ((-103.42381 20.71865, -103.42364 20.7...   \n",
       "152  8b49ab4b42f1fff  POLYGON ((-103.42424 20.71893, -103.42406 20.7...   \n",
       "229  8b49ab4b42f2fff  POLYGON ((-103.42334 20.71885, -103.42316 20.7...   \n",
       "\n",
       "            city  EspPublico  temp_diff_mean  ndvi_mean  ndvi_std  \\\n",
       "0    Guadalajara           0        0.632205   0.300222  0.145621   \n",
       "67   Guadalajara           0        0.632205   0.300222  0.145621   \n",
       "98   Guadalajara           0        0.632205   0.300222  0.145621   \n",
       "152  Guadalajara           0        0.632205   0.300222  0.145621   \n",
       "229  Guadalajara           1        0.632205   0.300222  0.145621   \n",
       "\n",
       "     ndvi_median  ndvi_max  ndvi_min  ndvi_diff  ndvi_tend  ndmi_mean  \\\n",
       "0       0.273654   0.52469  0.134969   0.389721  -0.001431  -0.037278   \n",
       "67      0.273654   0.52469  0.134969   0.389721  -0.001431  -0.037278   \n",
       "98      0.273654   0.52469  0.134969   0.389721  -0.001431  -0.037278   \n",
       "152     0.273654   0.52469  0.134969   0.389721  -0.001431  -0.037278   \n",
       "229     0.273654   0.52469  0.134969   0.389721  -0.001431  -0.037278   \n",
       "\n",
       "     ndmi_median  ndmi_diff  \n",
       "0      -0.043751   0.300493  \n",
       "67     -0.043751   0.300493  \n",
       "98     -0.043751   0.300493  \n",
       "152    -0.043751   0.300493  \n",
       "229    -0.043751   0.300493  "
      ]
     },
     "execution_count": 10,
     "metadata": {},
     "output_type": "execute_result"
    }
   ],
   "source": [
    "inter = gpd.sjoin(hex_gdl, intt_gdl, op='intersects')\n",
    "inter.drop(columns=['index_right','city_right','res','hex_id_right'], inplace=True)\n",
    "inter.rename(columns={\"hex_id_left\": \"hex_id\",\"city_left\": \"city\"}, inplace=True)\n",
    "inter.head()"
   ]
  },
  {
   "cell_type": "code",
   "execution_count": 11,
   "id": "b437914a-28ea-4e5e-9c70-ca37134fe7a6",
   "metadata": {},
   "outputs": [
    {
     "data": {
      "text/plain": [
       "hex_id            0\n",
       "geometry          0\n",
       "city              0\n",
       "EspPublico        0\n",
       "temp_diff_mean    0\n",
       "ndvi_mean         0\n",
       "ndvi_std          0\n",
       "ndvi_median       0\n",
       "ndvi_max          0\n",
       "ndvi_min          0\n",
       "ndvi_diff         0\n",
       "ndvi_tend         0\n",
       "ndmi_mean         0\n",
       "ndmi_median       0\n",
       "ndmi_diff         0\n",
       "dtype: int64"
      ]
     },
     "execution_count": 11,
     "metadata": {},
     "output_type": "execute_result"
    }
   ],
   "source": [
    "pd.isna(inter).sum()"
   ]
  },
  {
   "cell_type": "code",
   "execution_count": 11,
   "id": "105017ac-eec4-4511-b569-990650feb270",
   "metadata": {
    "tags": []
   },
   "outputs": [
    {
     "name": "stdout",
     "output_type": "stream",
     "text": [
      "Números de hexagonos sin Espacios Públicos: 2038369 \n",
      "Número de Hexágonos con Espacios Públicos: 736626\n",
      "Número total de Hexágonos: 2774995\n"
     ]
    }
   ],
   "source": [
    "cont_ceros = np.sum(inter['EspPublico'] == 0)\n",
    "cont_uno = np.sum(inter['EspPublico'])\n",
    "print(f'Números de hexagonos sin Espacios Públicos: {cont_ceros} \\nNúmero de Hexágonos con Espacios Públicos: {cont_uno}\\nNúmero total de Hexágonos: {cont_ceros+cont_uno}')"
   ]
  },
  {
   "cell_type": "code",
   "execution_count": 11,
   "id": "027e511f-a871-41f5-954c-c1401f067e57",
   "metadata": {
    "tags": []
   },
   "outputs": [
    {
     "data": {
      "text/plain": [
       "array([0, 1])"
      ]
     },
     "execution_count": 11,
     "metadata": {},
     "output_type": "execute_result"
    }
   ],
   "source": [
    "inter['EspPublico'].unique()"
   ]
  },
  {
   "cell_type": "markdown",
   "id": "1c2d6c8e-f21e-482e-b007-821bbea5576b",
   "metadata": {},
   "source": [
    "## Submuestreo 200,000 Hexágonos Esp Púb x 200,000 Hexágonos No Esp Púb"
   ]
  },
  {
   "cell_type": "code",
   "execution_count": 12,
   "id": "03d572a2-0228-4b2c-95c3-c9726fce688d",
   "metadata": {
    "tags": []
   },
   "outputs": [
    {
     "data": {
      "text/html": [
       "<div>\n",
       "<style scoped>\n",
       "    .dataframe tbody tr th:only-of-type {\n",
       "        vertical-align: middle;\n",
       "    }\n",
       "\n",
       "    .dataframe tbody tr th {\n",
       "        vertical-align: top;\n",
       "    }\n",
       "\n",
       "    .dataframe thead th {\n",
       "        text-align: right;\n",
       "    }\n",
       "</style>\n",
       "<table border=\"1\" class=\"dataframe\">\n",
       "  <thead>\n",
       "    <tr style=\"text-align: right;\">\n",
       "      <th></th>\n",
       "      <th>hex_id</th>\n",
       "      <th>geometry</th>\n",
       "      <th>city</th>\n",
       "      <th>EspPublico</th>\n",
       "      <th>temp_diff_mean</th>\n",
       "      <th>ndvi_mean</th>\n",
       "      <th>ndvi_std</th>\n",
       "      <th>ndvi_median</th>\n",
       "      <th>ndvi_max</th>\n",
       "      <th>ndvi_min</th>\n",
       "      <th>ndvi_diff</th>\n",
       "      <th>ndvi_tend</th>\n",
       "      <th>ndmi_mean</th>\n",
       "      <th>ndmi_median</th>\n",
       "      <th>ndmi_diff</th>\n",
       "    </tr>\n",
       "  </thead>\n",
       "  <tbody>\n",
       "    <tr>\n",
       "      <th>0</th>\n",
       "      <td>8b498c969ac2fff</td>\n",
       "      <td>POLYGON ((-103.40727 20.69791, -103.40709 20.6...</td>\n",
       "      <td>Guadalajara</td>\n",
       "      <td>1</td>\n",
       "      <td>-4.680741</td>\n",
       "      <td>0.351805</td>\n",
       "      <td>0.086069</td>\n",
       "      <td>0.388356</td>\n",
       "      <td>0.405866</td>\n",
       "      <td>0.232950</td>\n",
       "      <td>0.172916</td>\n",
       "      <td>-0.001771</td>\n",
       "      <td>0.100145</td>\n",
       "      <td>0.100841</td>\n",
       "      <td>0.095161</td>\n",
       "    </tr>\n",
       "    <tr>\n",
       "      <th>1</th>\n",
       "      <td>8b498c969980fff</td>\n",
       "      <td>POLYGON ((-103.39948 20.68500, -103.39930 20.6...</td>\n",
       "      <td>Guadalajara</td>\n",
       "      <td>1</td>\n",
       "      <td>-2.297974</td>\n",
       "      <td>0.476577</td>\n",
       "      <td>0.144080</td>\n",
       "      <td>0.494073</td>\n",
       "      <td>0.601926</td>\n",
       "      <td>0.262655</td>\n",
       "      <td>0.339271</td>\n",
       "      <td>-0.003367</td>\n",
       "      <td>0.138781</td>\n",
       "      <td>0.145978</td>\n",
       "      <td>0.152411</td>\n",
       "    </tr>\n",
       "    <tr>\n",
       "      <th>2</th>\n",
       "      <td>8b49ab58080dfff</td>\n",
       "      <td>POLYGON ((-103.47813 20.60978, -103.47796 20.6...</td>\n",
       "      <td>Guadalajara</td>\n",
       "      <td>1</td>\n",
       "      <td>-4.132899</td>\n",
       "      <td>0.225540</td>\n",
       "      <td>0.041108</td>\n",
       "      <td>0.240771</td>\n",
       "      <td>0.253750</td>\n",
       "      <td>0.179032</td>\n",
       "      <td>0.074718</td>\n",
       "      <td>-0.001045</td>\n",
       "      <td>0.039719</td>\n",
       "      <td>0.037340</td>\n",
       "      <td>0.124856</td>\n",
       "    </tr>\n",
       "    <tr>\n",
       "      <th>3</th>\n",
       "      <td>8b49aa2d4414fff</td>\n",
       "      <td>POLYGON ((-103.25120 20.50428, -103.25102 20.5...</td>\n",
       "      <td>Guadalajara</td>\n",
       "      <td>1</td>\n",
       "      <td>3.093605</td>\n",
       "      <td>0.187592</td>\n",
       "      <td>0.054550</td>\n",
       "      <td>0.175761</td>\n",
       "      <td>0.267587</td>\n",
       "      <td>0.126372</td>\n",
       "      <td>0.141215</td>\n",
       "      <td>-0.000676</td>\n",
       "      <td>-0.029519</td>\n",
       "      <td>-0.042822</td>\n",
       "      <td>0.206578</td>\n",
       "    </tr>\n",
       "    <tr>\n",
       "      <th>4</th>\n",
       "      <td>8b49ab58204cfff</td>\n",
       "      <td>POLYGON ((-103.45348 20.62983, -103.45330 20.6...</td>\n",
       "      <td>Guadalajara</td>\n",
       "      <td>1</td>\n",
       "      <td>0.261285</td>\n",
       "      <td>0.089025</td>\n",
       "      <td>0.019776</td>\n",
       "      <td>0.092832</td>\n",
       "      <td>0.106894</td>\n",
       "      <td>0.058720</td>\n",
       "      <td>0.048173</td>\n",
       "      <td>-0.000625</td>\n",
       "      <td>-0.045215</td>\n",
       "      <td>-0.066731</td>\n",
       "      <td>0.154710</td>\n",
       "    </tr>\n",
       "  </tbody>\n",
       "</table>\n",
       "</div>"
      ],
      "text/plain": [
       "            hex_id                                           geometry  \\\n",
       "0  8b498c969ac2fff  POLYGON ((-103.40727 20.69791, -103.40709 20.6...   \n",
       "1  8b498c969980fff  POLYGON ((-103.39948 20.68500, -103.39930 20.6...   \n",
       "2  8b49ab58080dfff  POLYGON ((-103.47813 20.60978, -103.47796 20.6...   \n",
       "3  8b49aa2d4414fff  POLYGON ((-103.25120 20.50428, -103.25102 20.5...   \n",
       "4  8b49ab58204cfff  POLYGON ((-103.45348 20.62983, -103.45330 20.6...   \n",
       "\n",
       "          city  EspPublico  temp_diff_mean  ndvi_mean  ndvi_std  ndvi_median  \\\n",
       "0  Guadalajara           1       -4.680741   0.351805  0.086069     0.388356   \n",
       "1  Guadalajara           1       -2.297974   0.476577  0.144080     0.494073   \n",
       "2  Guadalajara           1       -4.132899   0.225540  0.041108     0.240771   \n",
       "3  Guadalajara           1        3.093605   0.187592  0.054550     0.175761   \n",
       "4  Guadalajara           1        0.261285   0.089025  0.019776     0.092832   \n",
       "\n",
       "   ndvi_max  ndvi_min  ndvi_diff  ndvi_tend  ndmi_mean  ndmi_median  ndmi_diff  \n",
       "0  0.405866  0.232950   0.172916  -0.001771   0.100145     0.100841   0.095161  \n",
       "1  0.601926  0.262655   0.339271  -0.003367   0.138781     0.145978   0.152411  \n",
       "2  0.253750  0.179032   0.074718  -0.001045   0.039719     0.037340   0.124856  \n",
       "3  0.267587  0.126372   0.141215  -0.000676  -0.029519    -0.042822   0.206578  \n",
       "4  0.106894  0.058720   0.048173  -0.000625  -0.045215    -0.066731   0.154710  "
      ]
     },
     "execution_count": 12,
     "metadata": {},
     "output_type": "execute_result"
    }
   ],
   "source": [
    "num_samples = 200000\n",
    "\n",
    "# Randomly sample 100,000 hexagons with public spaces\n",
    "sample_with_public_spaces = inter[inter['EspPublico'] == 1].sample(n=num_samples, random_state=42)\n",
    "\n",
    "# Randomly sample 100,000 hexagons without public spaces\n",
    "sample_without_public_spaces = inter[inter['EspPublico'] == 0].sample(n=num_samples, random_state=42)\n",
    "\n",
    "# Concatenate the two samples to get the final subsample\n",
    "inter = pd.concat([sample_with_public_spaces, sample_without_public_spaces])\n",
    "inter.reset_index(drop = True, inplace = True)\n",
    "inter.head()"
   ]
  },
  {
   "cell_type": "code",
   "execution_count": 13,
   "id": "9c9f3b61-242e-4748-a368-a0e40d7f8f85",
   "metadata": {
    "tags": []
   },
   "outputs": [
    {
     "name": "stdout",
     "output_type": "stream",
     "text": [
      "Números de hexagonos sin Espacios Públicos: 200000 \n",
      "Número de Hexágonos con Espacios Públicos: 200000\n",
      "Número total de Hexágonos: 400000\n"
     ]
    }
   ],
   "source": [
    "contador_ceros = np.sum(inter['EspPublico'] == 0)\n",
    "contador_uno = np.sum(inter['EspPublico'])\n",
    "print(f'Números de hexagonos sin Espacios Públicos: {contador_ceros} \\nNúmero de Hexágonos con Espacios Públicos: {contador_uno}\\nNúmero total de Hexágonos: {contador_ceros+contador_uno}')"
   ]
  },
  {
   "cell_type": "code",
   "execution_count": 13,
   "id": "2c94f01e-ffce-44f3-b64e-424d3d4684c3",
   "metadata": {
    "tags": []
   },
   "outputs": [
    {
     "data": {
      "text/plain": [
       "(400000, 15)"
      ]
     },
     "execution_count": 13,
     "metadata": {},
     "output_type": "execute_result"
    }
   ],
   "source": [
    "inter.shape"
   ]
  },
  {
   "cell_type": "markdown",
   "id": "224ae004-cdfa-4cee-b65e-2388946d536c",
   "metadata": {},
   "source": [
    "Ya está balanceada la base de datos y con un submuestreo random. Entonces ya podemos juntarlo con el otro GeoDataFrame"
   ]
  },
  {
   "cell_type": "markdown",
   "id": "c4bf0248-be09-4748-b48e-350cb0e0c6e4",
   "metadata": {},
   "source": [
    "Verificamos duplicados"
   ]
  },
  {
   "cell_type": "markdown",
   "id": "57a87f61-d184-4ab1-92f2-3a6b8994257c",
   "metadata": {},
   "source": [
    "## Métodos de Clasificación"
   ]
  },
  {
   "cell_type": "code",
   "execution_count": 14,
   "id": "351a23ed-b377-4ee2-b6be-56a9a5159552",
   "metadata": {
    "tags": []
   },
   "outputs": [],
   "source": [
    "x = inter[['temp_diff_mean','ndvi_mean','ndvi_std','ndvi_median','ndvi_max','ndvi_min','ndvi_diff','ndvi_tend','ndmi_mean','ndmi_median','ndmi_diff']]\n",
    "y = inter['EspPublico']"
   ]
  },
  {
   "cell_type": "code",
   "execution_count": 15,
   "id": "3d9d5893-418b-44e4-8bee-4f3558ee3d87",
   "metadata": {
    "tags": []
   },
   "outputs": [
    {
     "data": {
      "text/plain": [
       "array([1, 0])"
      ]
     },
     "execution_count": 15,
     "metadata": {},
     "output_type": "execute_result"
    }
   ],
   "source": [
    "y.unique()"
   ]
  },
  {
   "cell_type": "markdown",
   "id": "6454b527-33cc-4827-89f9-469184df4fe3",
   "metadata": {},
   "source": [
    "### Regresión Logística"
   ]
  },
  {
   "cell_type": "code",
   "execution_count": 20,
   "id": "7c6a11af-ffaf-46c4-a039-32994400200a",
   "metadata": {
    "tags": []
   },
   "outputs": [],
   "source": [
    "x_train, x_test, y_train, y_test = train_test_split(x,y, test_size = 0.2, random_state = 42)\n",
    "scaler = StandardScaler()\n",
    "x_train_scale = scaler.fit_transform(x_train)\n",
    "x_test_scale = scaler.fit_transform(x_test)"
   ]
  },
  {
   "cell_type": "code",
   "execution_count": 21,
   "id": "e9218021-7b99-4551-8374-e3aefb6bff50",
   "metadata": {
    "tags": []
   },
   "outputs": [
    {
     "data": {
      "image/png": "[encoded data removed]",
      "text/plain": [
       "<Figure size 1000x700 with 2 Axes>"
      ]
     },
     "metadata": {},
     "output_type": "display_data"
    }
   ],
   "source": [
    "clf = LogisticRegression()\n",
    "clf.fit(x_train_scale, y_train)\n",
    "y_pred = clf.predict(x_test_scale)\n",
    "cm = confusion_matrix(y_test,y_pred)\n",
    "class_labels = ['Espacio Público', 'No Espacio Público']\n",
    "plt.figure(figsize = (10,7))\n",
    "sns.heatmap(cm, annot = True, fmt = \"g\", cmap=\"Blues\", xticklabels=class_labels, yticklabels=class_labels)\n",
    "plt.xlabel('Predicted', fontsize = 12, fontweight  = 'bold')\n",
    "plt.ylabel('Actual', fontsize = 12, fontweight  = 'bold')\n",
    "plt.title('Matriz de Confusión', fontsize = 15, fontweight = 'bold')\n",
    "plt.show()"
   ]
  },
  {
   "cell_type": "code",
   "execution_count": 22,
   "id": "e99c86fa-f71b-4cad-bc67-f018a3054e83",
   "metadata": {
    "tags": []
   },
   "outputs": [
    {
     "name": "stdout",
     "output_type": "stream",
     "text": [
      "Accuracy: 0.65195\n"
     ]
    }
   ],
   "source": [
    "accuracy = accuracy_score(y_test, y_pred)\n",
    "print(f'Accuracy: {accuracy}')"
   ]
  },
  {
   "cell_type": "markdown",
   "id": "5bf67297-8ea3-4160-ab9b-eff740792440",
   "metadata": {},
   "source": [
    "### Naive Bayes"
   ]
  },
  {
   "cell_type": "code",
   "execution_count": 23,
   "id": "50cf3b62-719b-418d-b7b2-6b26cd25f05c",
   "metadata": {
    "tags": []
   },
   "outputs": [
    {
     "data": {
      "text/html": [
       "<style>#sk-container-id-1 {color: black;background-color: white;}#sk-container-id-1 pre{padding: 0;}#sk-container-id-1 div.sk-toggleable {background-color: white;}#sk-container-id-1 label.sk-toggleable__label {cursor: pointer;display: block;width: 100%;margin-bottom: 0;padding: 0.3em;box-sizing: border-box;text-align: center;}#sk-container-id-1 label.sk-toggleable__label-arrow:before {content: \"▸\";float: left;margin-right: 0.25em;color: #696969;}#sk-container-id-1 label.sk-toggleable__label-arrow:hover:before {color: black;}#sk-container-id-1 div.sk-estimator:hover label.sk-toggleable__label-arrow:before {color: black;}#sk-container-id-1 div.sk-toggleable__content {max-height: 0;max-width: 0;overflow: hidden;text-align: left;background-color: #f0f8ff;}#sk-container-id-1 div.sk-toggleable__content pre {margin: 0.2em;color: black;border-radius: 0.25em;background-color: #f0f8ff;}#sk-container-id-1 input.sk-toggleable__control:checked~div.sk-toggleable__content {max-height: 200px;max-width: 100%;overflow: auto;}#sk-container-id-1 input.sk-toggleable__control:checked~label.sk-toggleable__label-arrow:before {content: \"▾\";}#sk-container-id-1 div.sk-estimator input.sk-toggleable__control:checked~label.sk-toggleable__label {background-color: #d4ebff;}#sk-container-id-1 div.sk-label input.sk-toggleable__control:checked~label.sk-toggleable__label {background-color: #d4ebff;}#sk-container-id-1 input.sk-hidden--visually {border: 0;clip: rect(1px 1px 1px 1px);clip: rect(1px, 1px, 1px, 1px);height: 1px;margin: -1px;overflow: hidden;padding: 0;position: absolute;width: 1px;}#sk-container-id-1 div.sk-estimator {font-family: monospace;background-color: #f0f8ff;border: 1px dotted black;border-radius: 0.25em;box-sizing: border-box;margin-bottom: 0.5em;}#sk-container-id-1 div.sk-estimator:hover {background-color: #d4ebff;}#sk-container-id-1 div.sk-parallel-item::after {content: \"\";width: 100%;border-bottom: 1px solid gray;flex-grow: 1;}#sk-container-id-1 div.sk-label:hover label.sk-toggleable__label {background-color: #d4ebff;}#sk-container-id-1 div.sk-serial::before {content: \"\";position: absolute;border-left: 1px solid gray;box-sizing: border-box;top: 0;bottom: 0;left: 50%;z-index: 0;}#sk-container-id-1 div.sk-serial {display: flex;flex-direction: column;align-items: center;background-color: white;padding-right: 0.2em;padding-left: 0.2em;position: relative;}#sk-container-id-1 div.sk-item {position: relative;z-index: 1;}#sk-container-id-1 div.sk-parallel {display: flex;align-items: stretch;justify-content: center;background-color: white;position: relative;}#sk-container-id-1 div.sk-item::before, #sk-container-id-1 div.sk-parallel-item::before {content: \"\";position: absolute;border-left: 1px solid gray;box-sizing: border-box;top: 0;bottom: 0;left: 50%;z-index: -1;}#sk-container-id-1 div.sk-parallel-item {display: flex;flex-direction: column;z-index: 1;position: relative;background-color: white;}#sk-container-id-1 div.sk-parallel-item:first-child::after {align-self: flex-end;width: 50%;}#sk-container-id-1 div.sk-parallel-item:last-child::after {align-self: flex-start;width: 50%;}#sk-container-id-1 div.sk-parallel-item:only-child::after {width: 0;}#sk-container-id-1 div.sk-dashed-wrapped {border: 1px dashed gray;margin: 0 0.4em 0.5em 0.4em;box-sizing: border-box;padding-bottom: 0.4em;background-color: white;}#sk-container-id-1 div.sk-label label {font-family: monospace;font-weight: bold;display: inline-block;line-height: 1.2em;}#sk-container-id-1 div.sk-label-container {text-align: center;}#sk-container-id-1 div.sk-container {/* jupyter's `normalize.less` sets `[hidden] { display: none; }` but bootstrap.min.css set `[hidden] { display: none !important; }` so we also need the `!important` here to be able to override the default hidden behavior on the sphinx rendered scikit-learn.org. See: https://github.com/scikit-learn/scikit-learn/issues/21755 */display: inline-block !important;position: relative;}#sk-container-id-1 div.sk-text-repr-fallback {display: none;}</style><div id=\"sk-container-id-1\" class=\"sk-top-container\"><div class=\"sk-text-repr-fallback\"><pre>GaussianNB()</pre><b>In a Jupyter environment, please rerun this cell to show the HTML representation or trust the notebook. <br />On GitHub, the HTML representation is unable to render, please try loading this page with nbviewer.org.</b></div><div class=\"sk-container\" hidden><div class=\"sk-item\"><div class=\"sk-estimator sk-toggleable\"><input class=\"sk-toggleable__control sk-hidden--visually\" id=\"sk-estimator-id-1\" type=\"checkbox\" checked><label for=\"sk-estimator-id-1\" class=\"sk-toggleable__label sk-toggleable__label-arrow\">GaussianNB</label><div class=\"sk-toggleable__content\"><pre>GaussianNB()</pre></div></div></div></div></div>"
      ],
      "text/plain": [
       "GaussianNB()"
      ]
     },
     "execution_count": 23,
     "metadata": {},
     "output_type": "execute_result"
    }
   ],
   "source": [
    "nb = GaussianNB()\n",
    "nb.fit(x_train, y_train)"
   ]
  },
  {
   "cell_type": "code",
   "execution_count": 24,
   "id": "d16bc4e8-1cc1-42c9-946d-00d6c4bafe15",
   "metadata": {
    "tags": []
   },
   "outputs": [
    {
     "data": {
      "image/png": "[encoded data removed]",
      "text/plain": [
       "<Figure size 1000x700 with 2 Axes>"
      ]
     },
     "metadata": {},
     "output_type": "display_data"
    }
   ],
   "source": [
    "y_prend = nb.predict(x_test)\n",
    "cm = confusion_matrix(y_test, y_prend)\n",
    "class_labels = ['Espacio Público', 'No Espacio Público']\n",
    "plt.figure(figsize = (10,7))\n",
    "sns.heatmap(cm, annot = True, fmt = \"g\", cmap=\"Reds\", xticklabels=class_labels, yticklabels=class_labels)\n",
    "plt.xlabel('Predicted', fontsize = 12, fontweight  = 'bold')\n",
    "plt.ylabel('Actual', fontsize = 12, fontweight  = 'bold')\n",
    "plt.title('Matriz de Confusión', fontsize = 15, fontweight = 'bold')\n",
    "plt.show()"
   ]
  },
  {
   "cell_type": "code",
   "execution_count": 25,
   "id": "a62b3e24-1911-4044-8c55-a900a9c00791",
   "metadata": {
    "tags": []
   },
   "outputs": [
    {
     "name": "stdout",
     "output_type": "stream",
     "text": [
      "Accuracy: 0.624975\n"
     ]
    }
   ],
   "source": [
    "accuracy = accuracy_score(y_test, y_prend)\n",
    "print(f'Accuracy: {accuracy}')"
   ]
  },
  {
   "cell_type": "markdown",
   "id": "e03aa28d-74f5-44f4-a72a-1cca772fd9a3",
   "metadata": {},
   "source": [
    "## Random Forest Classifier (RFC)"
   ]
  },
  {
   "cell_type": "code",
   "execution_count": 17,
   "id": "ee0bd417-fa49-4c8f-a558-ad96ca55d240",
   "metadata": {
    "tags": []
   },
   "outputs": [],
   "source": [
    "rf = RandomForestClassifier(n_estimators=120, random_state=42)  \n",
    "rf.fit(x_train, y_train)\n",
    "\n",
    "# Realizar predicciones en el conjunto de prueba\n",
    "y_predd = rf.predict(x_test)"
   ]
  },
  {
   "cell_type": "code",
   "execution_count": 18,
   "id": "6c3882cc-aeec-4ee4-acd2-4fb4a8e7974e",
   "metadata": {
    "tags": []
   },
   "outputs": [
    {
     "data": {
      "image/png": "[encoded data removed]",
      "text/plain": [
       "<Figure size 1000x700 with 2 Axes>"
      ]
     },
     "metadata": {},
     "output_type": "display_data"
    }
   ],
   "source": [
    "cm = confusion_matrix(y_test, y_predd)\n",
    "class_labels = ['Espacio Verde Público', 'No Espacio Verde Público']\n",
    "plt.figure(figsize = (10,7))\n",
    "sns.heatmap(cm, annot = True, fmt = \"g\", cmap=\"Greens\", xticklabels=class_labels, yticklabels=class_labels)\n",
    "plt.xlabel('Predicted', fontsize = 12, fontweight  = 'bold')\n",
    "plt.ylabel('Actual', fontsize = 12, fontweight  = 'bold')\n",
    "plt.title('Matriz de Confusión', fontsize = 15, fontweight = 'bold')\n",
    "plt.show()"
   ]
  },
  {
   "cell_type": "code",
   "execution_count": 19,
   "id": "7cc41317-b016-4a2d-98b3-2e7447deae4b",
   "metadata": {
    "tags": []
   },
   "outputs": [
    {
     "name": "stdout",
     "output_type": "stream",
     "text": [
      "Accuracy: 0.8198875\n"
     ]
    }
   ],
   "source": [
    "accuracy = accuracy_score(y_test, y_predd)\n",
    "print(f'Accuracy: {accuracy}')"
   ]
  },
  {
   "cell_type": "markdown",
   "id": "1459a521-2e8c-42e6-8381-95fcea1c51ad",
   "metadata": {},
   "source": [
    "## XGBoost"
   ]
  },
  {
   "cell_type": "code",
   "execution_count": 18,
   "id": "0e6f34cd-ca9d-4585-bef2-fc1bf8a6db0b",
   "metadata": {
    "tags": []
   },
   "outputs": [],
   "source": [
    "xgb_classifier = xgb.XGBClassifier(n_estimators=100, random_state=42)\n",
    "\n",
    "# Ajustar el modelo a los datos de entrenamiento\n",
    "xgb_classifier.fit(x_train, y_train)\n",
    "\n",
    "# Realizar predicciones en el conjunto de prueba\n",
    "y_predict = xgb_classifier.predict(x_test)"
   ]
  },
  {
   "cell_type": "code",
   "execution_count": 19,
   "id": "f47f111d-4d19-415d-85ba-e6361c4cfaf8",
   "metadata": {
    "tags": []
   },
   "outputs": [
    {
     "data": {
      "image/png": "[encoded data removed]",
      "text/plain": [
       "<Figure size 1000x700 with 2 Axes>"
      ]
     },
     "metadata": {},
     "output_type": "display_data"
    }
   ],
   "source": [
    "cm = confusion_matrix(y_test, y_predict)\n",
    "class_labels = ['Espacio Verde Público', 'No Espacio Verde Público']\n",
    "plt.figure(figsize = (10,7))\n",
    "sns.heatmap(cm, annot = True, fmt = \"g\", cmap=\"Purples\", xticklabels=class_labels, yticklabels=class_labels)\n",
    "plt.xlabel('Predicted', fontsize = 12, fontweight  = 'bold')\n",
    "plt.ylabel('Actual', fontsize = 12, fontweight  = 'bold')\n",
    "plt.title('Matriz de Confusión', fontsize = 15, fontweight = 'bold')\n",
    "plt.show()"
   ]
  },
  {
   "cell_type": "code",
   "execution_count": 20,
   "id": "b6f59e2f-e70b-4cfc-b825-339486c25a86",
   "metadata": {
    "tags": []
   },
   "outputs": [
    {
     "name": "stdout",
     "output_type": "stream",
     "text": [
      "Accuracy: 0.698875\n"
     ]
    }
   ],
   "source": [
    "accuracy = accuracy_score(y_test, y_predict)\n",
    "print(f'Accuracy: {accuracy}')"
   ]
  },
  {
   "cell_type": "markdown",
   "id": "3672a3c4-aa88-4dc1-b659-b37de8c00272",
   "metadata": {},
   "source": [
    "## Modelo de Clasificación Perceptrón Multicapa"
   ]
  },
  {
   "cell_type": "code",
   "execution_count": 16,
   "id": "8efd4a30-0059-4b67-8fb4-9e9b176a32c3",
   "metadata": {
    "tags": []
   },
   "outputs": [
    {
     "name": "stdout",
     "output_type": "stream",
     "text": [
      "Epoch 1/300\n",
      "80000/80000 [==============================] - 605s 8ms/step - loss: 0.6104 - accuracy: 0.6574\n",
      "Epoch 2/300\n",
      "80000/80000 [==============================] - 543s 7ms/step - loss: 0.5991 - accuracy: 0.6691\n",
      "Epoch 3/300\n",
      "41556/80000 [==============>...............] - ETA: 4:51 - loss: 0.5957 - accuracy: 0.6736"
     ]
    },
    {
     "ename": "KeyboardInterrupt",
     "evalue": "",
     "output_type": "error",
     "traceback": [
      "\u001b[0;31m---------------------------------------------------------------------------\u001b[0m",
      "\u001b[0;31mKeyboardInterrupt\u001b[0m                         Traceback (most recent call last)",
      "Cell \u001b[0;32mIn[16], line 17\u001b[0m\n\u001b[1;32m     14\u001b[0m clf\u001b[38;5;241m.\u001b[39mcompile(loss\u001b[38;5;241m=\u001b[39m\u001b[38;5;124m'\u001b[39m\u001b[38;5;124mbinary_crossentropy\u001b[39m\u001b[38;5;124m'\u001b[39m, optimizer\u001b[38;5;241m=\u001b[39m\u001b[38;5;124m'\u001b[39m\u001b[38;5;124madam\u001b[39m\u001b[38;5;124m'\u001b[39m, metrics\u001b[38;5;241m=\u001b[39m[\u001b[38;5;124m'\u001b[39m\u001b[38;5;124maccuracy\u001b[39m\u001b[38;5;124m'\u001b[39m])\n\u001b[1;32m     16\u001b[0m \u001b[38;5;66;03m# Fit model\u001b[39;00m\n\u001b[0;32m---> 17\u001b[0m \u001b[43mclf\u001b[49m\u001b[38;5;241;43m.\u001b[39;49m\u001b[43mfit\u001b[49m\u001b[43m(\u001b[49m\u001b[43mx\u001b[49m\u001b[43m,\u001b[49m\u001b[43m \u001b[49m\u001b[43moutput_y\u001b[49m\u001b[43m,\u001b[49m\u001b[43m \u001b[49m\u001b[43mepochs\u001b[49m\u001b[38;5;241;43m=\u001b[39;49m\u001b[38;5;241;43m300\u001b[39;49m\u001b[43m,\u001b[49m\u001b[43m \u001b[49m\u001b[43mbatch_size\u001b[49m\u001b[38;5;241;43m=\u001b[39;49m\u001b[38;5;241;43m5\u001b[39;49m\u001b[43m)\u001b[49m\n\u001b[1;32m     19\u001b[0m \u001b[38;5;66;03m# Predict class of a new observation\u001b[39;00m\n\u001b[1;32m     20\u001b[0m \u001b[38;5;66;03m#prob = clf.predict( [[1.,2.,3.,4.]] )\u001b[39;00m\n\u001b[1;32m     21\u001b[0m \u001b[38;5;66;03m#print(\"Probablities\", prob)\u001b[39;00m\n\u001b[1;32m     22\u001b[0m \u001b[38;5;66;03m#print(\"Predicted class\", np.argmax(prob, axis=-1)) # For 2-class problems, use (prob > 0.5).astype(\"int32\")\u001b[39;00m\n\u001b[1;32m     23\u001b[0m \n\u001b[1;32m     24\u001b[0m \u001b[38;5;66;03m# Evaluate model with crossvalidation\u001b[39;00m\n\u001b[1;32m     25\u001b[0m kf \u001b[38;5;241m=\u001b[39m StratifiedKFold(n_splits\u001b[38;5;241m=\u001b[39m\u001b[38;5;241m5\u001b[39m, shuffle \u001b[38;5;241m=\u001b[39m \u001b[38;5;28;01mTrue\u001b[39;00m)\n",
      "File \u001b[0;32m/opt/conda/lib/python3.10/site-packages/keras/src/utils/traceback_utils.py:65\u001b[0m, in \u001b[0;36mfilter_traceback.<locals>.error_handler\u001b[0;34m(*args, **kwargs)\u001b[0m\n\u001b[1;32m     63\u001b[0m filtered_tb \u001b[38;5;241m=\u001b[39m \u001b[38;5;28;01mNone\u001b[39;00m\n\u001b[1;32m     64\u001b[0m \u001b[38;5;28;01mtry\u001b[39;00m:\n\u001b[0;32m---> 65\u001b[0m     \u001b[38;5;28;01mreturn\u001b[39;00m \u001b[43mfn\u001b[49m\u001b[43m(\u001b[49m\u001b[38;5;241;43m*\u001b[39;49m\u001b[43margs\u001b[49m\u001b[43m,\u001b[49m\u001b[43m \u001b[49m\u001b[38;5;241;43m*\u001b[39;49m\u001b[38;5;241;43m*\u001b[39;49m\u001b[43mkwargs\u001b[49m\u001b[43m)\u001b[49m\n\u001b[1;32m     66\u001b[0m \u001b[38;5;28;01mexcept\u001b[39;00m \u001b[38;5;167;01mException\u001b[39;00m \u001b[38;5;28;01mas\u001b[39;00m e:\n\u001b[1;32m     67\u001b[0m     filtered_tb \u001b[38;5;241m=\u001b[39m _process_traceback_frames(e\u001b[38;5;241m.\u001b[39m__traceback__)\n",
      "File \u001b[0;32m/opt/conda/lib/python3.10/site-packages/keras/src/engine/training.py:1774\u001b[0m, in \u001b[0;36mModel.fit\u001b[0;34m(self, x, y, batch_size, epochs, verbose, callbacks, validation_split, validation_data, shuffle, class_weight, sample_weight, initial_epoch, steps_per_epoch, validation_steps, validation_batch_size, validation_freq, max_queue_size, workers, use_multiprocessing)\u001b[0m\n\u001b[1;32m   1772\u001b[0m callbacks\u001b[38;5;241m.\u001b[39mon_epoch_begin(epoch)\n\u001b[1;32m   1773\u001b[0m \u001b[38;5;28;01mwith\u001b[39;00m data_handler\u001b[38;5;241m.\u001b[39mcatch_stop_iteration():\n\u001b[0;32m-> 1774\u001b[0m     \u001b[38;5;28;01mfor\u001b[39;00m step \u001b[38;5;129;01min\u001b[39;00m data_handler\u001b[38;5;241m.\u001b[39msteps():\n\u001b[1;32m   1775\u001b[0m         \u001b[38;5;28;01mwith\u001b[39;00m tf\u001b[38;5;241m.\u001b[39mprofiler\u001b[38;5;241m.\u001b[39mexperimental\u001b[38;5;241m.\u001b[39mTrace(\n\u001b[1;32m   1776\u001b[0m             \u001b[38;5;124m\"\u001b[39m\u001b[38;5;124mtrain\u001b[39m\u001b[38;5;124m\"\u001b[39m,\n\u001b[1;32m   1777\u001b[0m             epoch_num\u001b[38;5;241m=\u001b[39mepoch,\n\u001b[0;32m   (...)\u001b[0m\n\u001b[1;32m   1780\u001b[0m             _r\u001b[38;5;241m=\u001b[39m\u001b[38;5;241m1\u001b[39m,\n\u001b[1;32m   1781\u001b[0m         ):\n\u001b[1;32m   1782\u001b[0m             callbacks\u001b[38;5;241m.\u001b[39mon_train_batch_begin(step)\n",
      "File \u001b[0;32m/opt/conda/lib/python3.10/site-packages/keras/src/engine/data_adapter.py:1409\u001b[0m, in \u001b[0;36mDataHandler.steps\u001b[0;34m(self)\u001b[0m\n\u001b[1;32m   1404\u001b[0m \u001b[38;5;66;03m# `self._inferred_steps` can be changed by `catch_stop_iteration`.\u001b[39;00m\n\u001b[1;32m   1405\u001b[0m \u001b[38;5;28;01mwhile\u001b[39;00m (\n\u001b[1;32m   1406\u001b[0m     \u001b[38;5;28mself\u001b[39m\u001b[38;5;241m.\u001b[39m_inferred_steps \u001b[38;5;129;01mis\u001b[39;00m \u001b[38;5;28;01mNone\u001b[39;00m\n\u001b[1;32m   1407\u001b[0m     \u001b[38;5;129;01mor\u001b[39;00m \u001b[38;5;28mself\u001b[39m\u001b[38;5;241m.\u001b[39m_current_step \u001b[38;5;241m<\u001b[39m \u001b[38;5;28mself\u001b[39m\u001b[38;5;241m.\u001b[39m_inferred_steps\n\u001b[1;32m   1408\u001b[0m ):\n\u001b[0;32m-> 1409\u001b[0m     \u001b[38;5;28;01mif\u001b[39;00m \u001b[38;5;28mself\u001b[39m\u001b[38;5;241m.\u001b[39m_insufficient_data:  \u001b[38;5;66;03m# Set by `catch_stop_iteration`.\u001b[39;00m\n\u001b[1;32m   1410\u001b[0m         \u001b[38;5;28;01mbreak\u001b[39;00m\n\u001b[1;32m   1411\u001b[0m     original_spe \u001b[38;5;241m=\u001b[39m \u001b[38;5;28mself\u001b[39m\u001b[38;5;241m.\u001b[39m_steps_per_execution\u001b[38;5;241m.\u001b[39mnumpy()\u001b[38;5;241m.\u001b[39mitem()\n",
      "\u001b[0;31mKeyboardInterrupt\u001b[0m: "
     ]
    }
   ],
   "source": [
    "n_clases = len(y.unique())\n",
    "n_features = len(x.columns)\n",
    "\n",
    "x = x.values\n",
    "output_y = y.values\n",
    "\n",
    "# Define MLP model\n",
    "clf = Sequential()\n",
    "clf.add(Dense(180, input_dim=n_features, activation='relu'))\n",
    "clf.add(Dense(180, activation='relu'))\n",
    "clf.add(Dense(1, activation='sigmoid')) # for 2-class problems, use clf.add(Dense(1, activation='sigmoid'))\n",
    "\n",
    "# Compile model\n",
    "clf.compile(loss='binary_crossentropy', optimizer='adam', metrics=['accuracy'])\n",
    "\n",
    "# Fit model\n",
    "clf.fit(x, output_y, epochs=300, batch_size=5)\n",
    "\n",
    "# Predict class of a new observation\n",
    "#prob = clf.predict( [[1.,2.,3.,4.]] )\n",
    "#print(\"Probablities\", prob)\n",
    "#print(\"Predicted class\", np.argmax(prob, axis=-1)) # For 2-class problems, use (prob > 0.5).astype(\"int32\")\n",
    "\n",
    "# Evaluate model with crossvalidation\n",
    "kf = StratifiedKFold(n_splits=5, shuffle = True)\n",
    "\n",
    "cv_y_test = []\n",
    "cv_y_pred = []\n",
    "\n",
    "for train_index, test_index in kf.split(x, y):\n",
    "\n",
    "    x_train = x[train_index, :]\n",
    "    y_train = y[train_index]\n",
    "\n",
    "    x_test = x[test_index, :]\n",
    "    y_test = y[test_index]\n",
    "\n",
    "    # Training phase\n",
    "    clf_cv = Sequential()\n",
    "    clf_cv.add(Dense(180, input_dim=n_features, activation='relu'))\n",
    "    clf_cv.add(Dense(180, activation='relu'))\n",
    "    clf_cv.add(Dense(1, activation='sigmoid'))\n",
    "    clf_cv.compile(loss='categorical_crossentropy', optimizer='adam', metrics=['accuracy'])\n",
    "    clf_cv.fit(x_train, y_train, validation_data= (x_test, y_test), epochs=300, batch_size=5)\n",
    "\n",
    "    # Test phase\n",
    "    x_test = x[test_index, :]\n",
    "    y_test = y[test_index]\n",
    "    y_pred = np.argmax(clf_cv.predict(x_test), axis=-1)\n",
    "\n",
    "    cv_y_test.append(y_test)\n",
    "    cv_y_pred.append(y_pred)\n",
    "\n",
    "# Results\n",
    "print(classification_report(np.concatenate(cv_y_test), np.concatenate(cv_y_pred)))"
   ]
  },
  {
   "cell_type": "markdown",
   "id": "eb11aa72-2056-453c-81d5-b922166fdb79",
   "metadata": {},
   "source": [
    "Podemos observar que al tener menos datos la clasificación con Naive Bayes, XGBoost y Regresión logística salió peor que con toda la información. Sin embargo, el random forest classifier es el que mejor, ha predecido con un 82% de precisión."
   ]
  }
 ],
 "metadata": {
  "kernelspec": {
   "display_name": "Python 3 (ipykernel)",
   "language": "python",
   "name": "python3"
  },
  "language_info": {
   "codemirror_mode": {
    "name": "ipython",
    "version": 3
   },
   "file_extension": ".py",
   "mimetype": "text/x-python",
   "name": "python",
   "nbconvert_exporter": "python",
   "pygments_lexer": "ipython3",
   "version": "3.10.10"
  }
 },
 "nbformat": 4,
 "nbformat_minor": 5
}
