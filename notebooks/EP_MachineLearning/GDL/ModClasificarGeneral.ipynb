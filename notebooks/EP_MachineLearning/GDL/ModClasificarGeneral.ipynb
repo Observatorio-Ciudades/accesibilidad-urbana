{
 "cells": [
  {
   "cell_type": "code",
   "execution_count": 35,
   "id": "417918f8-3cb2-443d-972f-c3d5679337f7",
   "metadata": {},
   "outputs": [],
   "source": [
    "import warnings\n",
    "warnings.filterwarnings('ignore')\n",
    "import geopandas as gpd\n",
    "from geopandas.tools import overlay\n",
    "import matplotlib.pyplot as plt\n",
    "import os \n",
    "import sys\n",
    "module_path = os.path.abspath(os.path.join('../../'))\n",
    "if module_path not in sys.path:\n",
    "    sys.path.append(module_path)\n",
    "    import aup\n",
    "import pandas as pd\n",
    "import numpy as np\n",
    "import seaborn as sns\n",
    "from sklearn.model_selection import train_test_split\n",
    "from sklearn.metrics import accuracy_score, confusion_matrix\n",
    "from sklearn.linear_model import LogisticRegression\n",
    "from sklearn.preprocessing import StandardScaler\n",
    "from sklearn.naive_bayes import GaussianNB\n",
    "from sklearn.ensemble import RandomForestClassifier\n",
    "import xgboost as xgb\n",
    "import random"
   ]
  },
  {
   "cell_type": "markdown",
   "id": "1f4b673d-a0ff-4041-b2b2-b9ec546375b5",
   "metadata": {},
   "source": [
    "## Espacios Públicos Gdl"
   ]
  },
  {
   "cell_type": "code",
   "execution_count": 2,
   "id": "4ea17f49-98ad-4d79-8c43-7fd0a0739bdd",
   "metadata": {},
   "outputs": [
    {
     "data": {
      "text/html": [
       "<div>\n",
       "<style scoped>\n",
       "    .dataframe tbody tr th:only-of-type {\n",
       "        vertical-align: middle;\n",
       "    }\n",
       "\n",
       "    .dataframe tbody tr th {\n",
       "        vertical-align: top;\n",
       "    }\n",
       "\n",
       "    .dataframe thead th {\n",
       "        text-align: right;\n",
       "    }\n",
       "</style>\n",
       "<table border=\"1\" class=\"dataframe\">\n",
       "  <thead>\n",
       "    <tr style=\"text-align: right;\">\n",
       "      <th></th>\n",
       "      <th>Fuente</th>\n",
       "      <th>Tipo</th>\n",
       "      <th>Uso</th>\n",
       "      <th>geometry</th>\n",
       "    </tr>\n",
       "  </thead>\n",
       "  <tbody>\n",
       "    <tr>\n",
       "      <th>0</th>\n",
       "      <td>OpenStreetMap, [Online]. Disponible: http://ww...</td>\n",
       "      <td>Parque</td>\n",
       "      <td>Uso recreativo</td>\n",
       "      <td>POLYGON ((672507.028 2272132.201, 672520.126 2...</td>\n",
       "    </tr>\n",
       "    <tr>\n",
       "      <th>1</th>\n",
       "      <td>OpenStreetMap, [Online]. Disponible: http://ww...</td>\n",
       "      <td>Parque</td>\n",
       "      <td>Uso recreativo</td>\n",
       "      <td>POLYGON ((672520.126 2272170.353, 672507.028 2...</td>\n",
       "    </tr>\n",
       "    <tr>\n",
       "      <th>2</th>\n",
       "      <td>OpenStreetMap, [Online]. Disponible: http://ww...</td>\n",
       "      <td>Parque</td>\n",
       "      <td>Uso recreativo</td>\n",
       "      <td>POLYGON ((672494.325 2272095.205, 672480.366 2...</td>\n",
       "    </tr>\n",
       "    <tr>\n",
       "      <th>3</th>\n",
       "      <td>OpenStreetMap, [Online]. Disponible: http://ww...</td>\n",
       "      <td>Parque</td>\n",
       "      <td>Uso recreativo</td>\n",
       "      <td>POLYGON ((672480.366 2272060.731, 672494.325 2...</td>\n",
       "    </tr>\n",
       "    <tr>\n",
       "      <th>4</th>\n",
       "      <td>OpenStreetMap, [Online]. Disponible: http://ww...</td>\n",
       "      <td>Parque</td>\n",
       "      <td>Uso recreativo</td>\n",
       "      <td>POLYGON ((672468.717 2272020.613, 672456.895 2...</td>\n",
       "    </tr>\n",
       "  </tbody>\n",
       "</table>\n",
       "</div>"
      ],
      "text/plain": [
       "                                              Fuente    Tipo             Uso  \\\n",
       "0  OpenStreetMap, [Online]. Disponible: http://ww...  Parque  Uso recreativo   \n",
       "1  OpenStreetMap, [Online]. Disponible: http://ww...  Parque  Uso recreativo   \n",
       "2  OpenStreetMap, [Online]. Disponible: http://ww...  Parque  Uso recreativo   \n",
       "3  OpenStreetMap, [Online]. Disponible: http://ww...  Parque  Uso recreativo   \n",
       "4  OpenStreetMap, [Online]. Disponible: http://ww...  Parque  Uso recreativo   \n",
       "\n",
       "                                            geometry  \n",
       "0  POLYGON ((672507.028 2272132.201, 672520.126 2...  \n",
       "1  POLYGON ((672520.126 2272170.353, 672507.028 2...  \n",
       "2  POLYGON ((672494.325 2272095.205, 672480.366 2...  \n",
       "3  POLYGON ((672480.366 2272060.731, 672494.325 2...  \n",
       "4  POLYGON ((672468.717 2272020.613, 672456.895 2...  "
      ]
     },
     "execution_count": 2,
     "metadata": {},
     "output_type": "execute_result"
    }
   ],
   "source": [
    "schema = 'espacios_publicos'\n",
    "table = 'ep_amg'\n",
    "gdf = aup.gdf_from_db(table,schema)\n",
    "gdf.head()"
   ]
  },
  {
   "cell_type": "markdown",
   "id": "3f1d29aa-cc80-4491-b20c-b5189761a002",
   "metadata": {},
   "source": [
    "## Hexágonos Gdl"
   ]
  },
  {
   "cell_type": "code",
   "execution_count": 3,
   "id": "3edf4d80-639e-4a4a-826a-cadff6494b0c",
   "metadata": {},
   "outputs": [
    {
     "data": {
      "text/html": [
       "<div>\n",
       "<style scoped>\n",
       "    .dataframe tbody tr th:only-of-type {\n",
       "        vertical-align: middle;\n",
       "    }\n",
       "\n",
       "    .dataframe tbody tr th {\n",
       "        vertical-align: top;\n",
       "    }\n",
       "\n",
       "    .dataframe thead th {\n",
       "        text-align: right;\n",
       "    }\n",
       "</style>\n",
       "<table border=\"1\" class=\"dataframe\">\n",
       "  <thead>\n",
       "    <tr style=\"text-align: right;\">\n",
       "      <th></th>\n",
       "      <th>hex_id</th>\n",
       "      <th>geometry</th>\n",
       "      <th>city</th>\n",
       "    </tr>\n",
       "  </thead>\n",
       "  <tbody>\n",
       "    <tr>\n",
       "      <th>0</th>\n",
       "      <td>8b49ab4b42d4fff</td>\n",
       "      <td>POLYGON ((-103.42329 20.71934, -103.42311 20.7...</td>\n",
       "      <td>Guadalajara</td>\n",
       "    </tr>\n",
       "    <tr>\n",
       "      <th>1</th>\n",
       "      <td>8b49ab4b42f5fff</td>\n",
       "      <td>POLYGON ((-103.42428 20.71844, -103.42411 20.7...</td>\n",
       "      <td>Guadalajara</td>\n",
       "    </tr>\n",
       "    <tr>\n",
       "      <th>2</th>\n",
       "      <td>8b49ab4b4306fff</td>\n",
       "      <td>POLYGON ((-103.42486 20.71260, -103.42469 20.7...</td>\n",
       "      <td>Guadalajara</td>\n",
       "    </tr>\n",
       "    <tr>\n",
       "      <th>3</th>\n",
       "      <td>8b49ab4b4255fff</td>\n",
       "      <td>POLYGON ((-103.42703 20.71818, -103.42686 20.7...</td>\n",
       "      <td>Guadalajara</td>\n",
       "    </tr>\n",
       "    <tr>\n",
       "      <th>4</th>\n",
       "      <td>8b49ab4b42d6fff</td>\n",
       "      <td>POLYGON ((-103.42281 20.71955, -103.42264 20.7...</td>\n",
       "      <td>Guadalajara</td>\n",
       "    </tr>\n",
       "  </tbody>\n",
       "</table>\n",
       "</div>"
      ],
      "text/plain": [
       "            hex_id                                           geometry  \\\n",
       "0  8b49ab4b42d4fff  POLYGON ((-103.42329 20.71934, -103.42311 20.7...   \n",
       "1  8b49ab4b42f5fff  POLYGON ((-103.42428 20.71844, -103.42411 20.7...   \n",
       "2  8b49ab4b4306fff  POLYGON ((-103.42486 20.71260, -103.42469 20.7...   \n",
       "3  8b49ab4b4255fff  POLYGON ((-103.42703 20.71818, -103.42686 20.7...   \n",
       "4  8b49ab4b42d6fff  POLYGON ((-103.42281 20.71955, -103.42264 20.7...   \n",
       "\n",
       "          city  \n",
       "0  Guadalajara  \n",
       "1  Guadalajara  \n",
       "2  Guadalajara  \n",
       "3  Guadalajara  \n",
       "4  Guadalajara  "
      ]
     },
     "execution_count": 3,
     "metadata": {},
     "output_type": "execute_result"
    }
   ],
   "source": [
    "hex_schema = \"raster_analysis\"\n",
    "hex_table = \"ndvi_analysis_hex\"\n",
    "c = 'Guadalajara'\n",
    "n = '11'\n",
    "query = f'SELECT hex_id, geometry, city FROM {hex_schema}.{hex_table} WHERE \\\"city\\\" LIKE \\'{c}\\' AND \\\"res\\\" = {n}'\n",
    "hex_gdl = aup.gdf_from_query(query, geometry_col='geometry')\n",
    "#query = 'fSelect geometry, hex_id, city from raster_analysis.ndvi_analysis where city = guadalajara and res = 11'\n",
    "hex_gdl.head(5)"
   ]
  },
  {
   "cell_type": "code",
   "execution_count": 4,
   "id": "63934812-6283-4ccb-8d38-9b89f7ce6c4a",
   "metadata": {
    "tags": []
   },
   "outputs": [
    {
     "data": {
      "text/plain": [
       "(407141, 3)"
      ]
     },
     "execution_count": 4,
     "metadata": {},
     "output_type": "execute_result"
    }
   ],
   "source": [
    "hex_gdl.shape"
   ]
  },
  {
   "cell_type": "code",
   "execution_count": 5,
   "id": "f224a99a-4221-4fb2-a4da-dac85a0fbcf4",
   "metadata": {},
   "outputs": [
    {
     "name": "stdout",
     "output_type": "stream",
     "text": [
      "CRS of gdf: epsg:4326\n",
      "CRS of hex_gdl: epsg:4326\n"
     ]
    }
   ],
   "source": [
    "gdf = gdf.to_crs(hex_gdl.crs)\n",
    "print(\"CRS of gdf:\", gdf.crs)\n",
    "print(\"CRS of hex_gdl:\", hex_gdl.crs)"
   ]
  },
  {
   "cell_type": "markdown",
   "id": "afd8cb98-6659-4eb1-88a2-2b4e9cf5907b",
   "metadata": {},
   "source": [
    "## Dummy Variables\n",
    "1 = Hexágonos que cuentan con espacios públicos\n",
    "\n",
    "0 = Hexágonos que no cuentan con espacios públicos"
   ]
  },
  {
   "cell_type": "code",
   "execution_count": 6,
   "id": "32c47c29-6d21-44c1-9c77-6e2d9c5592ac",
   "metadata": {
    "tags": []
   },
   "outputs": [
    {
     "data": {
      "text/html": [
       "<div>\n",
       "<style scoped>\n",
       "    .dataframe tbody tr th:only-of-type {\n",
       "        vertical-align: middle;\n",
       "    }\n",
       "\n",
       "    .dataframe tbody tr th {\n",
       "        vertical-align: top;\n",
       "    }\n",
       "\n",
       "    .dataframe thead th {\n",
       "        text-align: right;\n",
       "    }\n",
       "</style>\n",
       "<table border=\"1\" class=\"dataframe\">\n",
       "  <thead>\n",
       "    <tr style=\"text-align: right;\">\n",
       "      <th></th>\n",
       "      <th>hex_id</th>\n",
       "      <th>geometry</th>\n",
       "      <th>city</th>\n",
       "      <th>EspPublico</th>\n",
       "    </tr>\n",
       "  </thead>\n",
       "  <tbody>\n",
       "    <tr>\n",
       "      <th>0</th>\n",
       "      <td>8b49ab4b42d4fff</td>\n",
       "      <td>POLYGON ((-103.42329 20.71934, -103.42311 20.7...</td>\n",
       "      <td>Guadalajara</td>\n",
       "      <td>0</td>\n",
       "    </tr>\n",
       "    <tr>\n",
       "      <th>1</th>\n",
       "      <td>8b49ab4b42f5fff</td>\n",
       "      <td>POLYGON ((-103.42428 20.71844, -103.42411 20.7...</td>\n",
       "      <td>Guadalajara</td>\n",
       "      <td>0</td>\n",
       "    </tr>\n",
       "    <tr>\n",
       "      <th>2</th>\n",
       "      <td>8b49ab4b4306fff</td>\n",
       "      <td>POLYGON ((-103.42486 20.71260, -103.42469 20.7...</td>\n",
       "      <td>Guadalajara</td>\n",
       "      <td>0</td>\n",
       "    </tr>\n",
       "    <tr>\n",
       "      <th>3</th>\n",
       "      <td>8b49ab4b4255fff</td>\n",
       "      <td>POLYGON ((-103.42703 20.71818, -103.42686 20.7...</td>\n",
       "      <td>Guadalajara</td>\n",
       "      <td>1</td>\n",
       "    </tr>\n",
       "    <tr>\n",
       "      <th>4</th>\n",
       "      <td>8b49ab4b42d6fff</td>\n",
       "      <td>POLYGON ((-103.42281 20.71955, -103.42264 20.7...</td>\n",
       "      <td>Guadalajara</td>\n",
       "      <td>0</td>\n",
       "    </tr>\n",
       "  </tbody>\n",
       "</table>\n",
       "</div>"
      ],
      "text/plain": [
       "            hex_id                                           geometry  \\\n",
       "0  8b49ab4b42d4fff  POLYGON ((-103.42329 20.71934, -103.42311 20.7...   \n",
       "1  8b49ab4b42f5fff  POLYGON ((-103.42428 20.71844, -103.42411 20.7...   \n",
       "2  8b49ab4b4306fff  POLYGON ((-103.42486 20.71260, -103.42469 20.7...   \n",
       "3  8b49ab4b4255fff  POLYGON ((-103.42703 20.71818, -103.42686 20.7...   \n",
       "4  8b49ab4b42d6fff  POLYGON ((-103.42281 20.71955, -103.42264 20.7...   \n",
       "\n",
       "          city  EspPublico  \n",
       "0  Guadalajara           0  \n",
       "1  Guadalajara           0  \n",
       "2  Guadalajara           0  \n",
       "3  Guadalajara           1  \n",
       "4  Guadalajara           0  "
      ]
     },
     "execution_count": 6,
     "metadata": {},
     "output_type": "execute_result"
    }
   ],
   "source": [
    "gdf_sindex = gdf.sindex\n",
    "\n",
    "# Create a Series of boolean values indicating which hexagons intersect with public spaces\n",
    "intersects_public_spaces = hex_gdl['geometry'].apply(lambda geom: any(gdf_sindex.query(geom)))\n",
    "\n",
    "hex_gdl['EspPublico'] = intersects_public_spaces.astype(int)\n",
    "hex_gdl.head()"
   ]
  },
  {
   "cell_type": "code",
   "execution_count": 7,
   "id": "dd321d0a-c595-4e27-a283-06d861a55628",
   "metadata": {
    "tags": []
   },
   "outputs": [
    {
     "name": "stdout",
     "output_type": "stream",
     "text": [
      "Números de hexagonos sin Espacios Públicos: 300548 \n",
      "Número de Hexágonos con Espacios Públicos: 106593\n",
      "Número total de Hexágonos: 407141\n"
     ]
    }
   ],
   "source": [
    "contador_ceros = np.sum(hex_gdl['EspPublico'] == 0)\n",
    "contador_uno = np.sum(hex_gdl['EspPublico'])\n",
    "print(f'Números de hexagonos sin Espacios Públicos: {contador_ceros} \\nNúmero de Hexágonos con Espacios Públicos: {contador_uno}\\nNúmero total de Hexágonos: {contador_ceros+contador_uno}')"
   ]
  },
  {
   "cell_type": "markdown",
   "id": "53a96ca3-36a6-4482-a8c5-155bec50f725",
   "metadata": {},
   "source": [
    "Casi el 75% de los hexágonos no cuenta con Espacio Público, los métodos de clasificación van a estar muy sesgados por la discrepancia. Entonces tenemos que hacer que sean 50% ambos pero para esto vamos a hacer un submuestreo random con 100,000 y 100,000 de cada tipo de hexágono pero eso se hará después de juntar todo."
   ]
  },
  {
   "cell_type": "markdown",
   "id": "0117d09f-c51f-491e-9a59-a7eb00ed8b3d",
   "metadata": {},
   "source": [
    "## Hexágonos con info de humedad, vegetación y temperatura"
   ]
  },
  {
   "cell_type": "markdown",
   "id": "9a940298-cc09-4a6a-b89d-7f5b956f109a",
   "metadata": {},
   "source": [
    "select {tempe}.hex_id, {tempe}.geometry, {tempe}.city, {tempe}.res,\n",
    "\n",
    "temp_diff_mean,\n",
    "\n",
    "ndvi_mean, ndvi_std, ndvi_median, ndvi_max, ndvi_min, ndvi_diff, ndvi_tend,\n",
    "\n",
    "ndmi_mean, ndmi_median, ndmi_diff\n",
    "\n",
    "from raster_analysis.temperature_analysis_hex tempe\n",
    "\n",
    "inner join raster_analysis.ndmi_analysis_hex ndmi\n",
    "\n",
    "on tempe.hex_id = ndmi.hex_id \n",
    "\n",
    "inner join raster_analysis.ndvi_analysis_hex ndvi\n",
    "\n",
    "on tempe.hex_id = ndvi.hex_id \n",
    "\n",
    "where tempe.city  = 'Guadalajara' and tempe.res = 11"
   ]
  },
  {
   "cell_type": "code",
   "execution_count": 8,
   "id": "b490fe14-42f0-4cc5-ac0e-2050823bb05b",
   "metadata": {},
   "outputs": [
    {
     "data": {
      "text/html": [
       "<div>\n",
       "<style scoped>\n",
       "    .dataframe tbody tr th:only-of-type {\n",
       "        vertical-align: middle;\n",
       "    }\n",
       "\n",
       "    .dataframe tbody tr th {\n",
       "        vertical-align: top;\n",
       "    }\n",
       "\n",
       "    .dataframe thead th {\n",
       "        text-align: right;\n",
       "    }\n",
       "</style>\n",
       "<table border=\"1\" class=\"dataframe\">\n",
       "  <thead>\n",
       "    <tr style=\"text-align: right;\">\n",
       "      <th></th>\n",
       "      <th>hex_id</th>\n",
       "      <th>geometry</th>\n",
       "      <th>city</th>\n",
       "      <th>res</th>\n",
       "      <th>temp_diff_mean</th>\n",
       "      <th>ndvi_mean</th>\n",
       "      <th>ndvi_std</th>\n",
       "      <th>ndvi_median</th>\n",
       "      <th>ndvi_max</th>\n",
       "      <th>ndvi_min</th>\n",
       "      <th>ndvi_diff</th>\n",
       "      <th>ndvi_tend</th>\n",
       "      <th>ndmi_mean</th>\n",
       "      <th>ndmi_median</th>\n",
       "      <th>ndmi_diff</th>\n",
       "    </tr>\n",
       "  </thead>\n",
       "  <tbody>\n",
       "    <tr>\n",
       "      <th>0</th>\n",
       "      <td>8b49ab4b42e2fff</td>\n",
       "      <td>POLYGON ((-103.42471 20.71872, -103.42454 20.7...</td>\n",
       "      <td>Guadalajara</td>\n",
       "      <td>11</td>\n",
       "      <td>0.974132</td>\n",
       "      <td>0.114289</td>\n",
       "      <td>0.049750</td>\n",
       "      <td>0.099478</td>\n",
       "      <td>0.194668</td>\n",
       "      <td>0.065362</td>\n",
       "      <td>0.129307</td>\n",
       "      <td>-0.000938</td>\n",
       "      <td>-0.035880</td>\n",
       "      <td>-0.050857</td>\n",
       "      <td>0.202784</td>\n",
       "    </tr>\n",
       "    <tr>\n",
       "      <th>1</th>\n",
       "      <td>8b49ab4b42cefff</td>\n",
       "      <td>POLYGON ((-103.42499 20.72046, -103.42482 20.7...</td>\n",
       "      <td>Guadalajara</td>\n",
       "      <td>11</td>\n",
       "      <td>-0.379456</td>\n",
       "      <td>0.224639</td>\n",
       "      <td>0.081781</td>\n",
       "      <td>0.216309</td>\n",
       "      <td>0.322233</td>\n",
       "      <td>0.129293</td>\n",
       "      <td>0.192940</td>\n",
       "      <td>-0.001084</td>\n",
       "      <td>0.009989</td>\n",
       "      <td>0.005061</td>\n",
       "      <td>0.193035</td>\n",
       "    </tr>\n",
       "    <tr>\n",
       "      <th>2</th>\n",
       "      <td>8b49ab4b43aefff</td>\n",
       "      <td>POLYGON ((-103.42292 20.71391, -103.42274 20.7...</td>\n",
       "      <td>Guadalajara</td>\n",
       "      <td>11</td>\n",
       "      <td>-2.462921</td>\n",
       "      <td>0.351869</td>\n",
       "      <td>0.089766</td>\n",
       "      <td>0.372834</td>\n",
       "      <td>0.431929</td>\n",
       "      <td>0.227313</td>\n",
       "      <td>0.204616</td>\n",
       "      <td>-0.001806</td>\n",
       "      <td>0.089015</td>\n",
       "      <td>0.083834</td>\n",
       "      <td>0.117537</td>\n",
       "    </tr>\n",
       "    <tr>\n",
       "      <th>3</th>\n",
       "      <td>8b49ab483075fff</td>\n",
       "      <td>POLYGON ((-103.45665 20.80869, -103.45647 20.8...</td>\n",
       "      <td>Guadalajara</td>\n",
       "      <td>11</td>\n",
       "      <td>-0.282639</td>\n",
       "      <td>0.296540</td>\n",
       "      <td>0.058069</td>\n",
       "      <td>0.311797</td>\n",
       "      <td>0.343975</td>\n",
       "      <td>0.191514</td>\n",
       "      <td>0.152461</td>\n",
       "      <td>-0.001677</td>\n",
       "      <td>0.122609</td>\n",
       "      <td>0.123036</td>\n",
       "      <td>0.099242</td>\n",
       "    </tr>\n",
       "    <tr>\n",
       "      <th>4</th>\n",
       "      <td>8b49ab4830d1fff</td>\n",
       "      <td>POLYGON ((-103.45271 20.81180, -103.45253 20.8...</td>\n",
       "      <td>Guadalajara</td>\n",
       "      <td>11</td>\n",
       "      <td>-0.056597</td>\n",
       "      <td>0.440252</td>\n",
       "      <td>0.260666</td>\n",
       "      <td>0.418498</td>\n",
       "      <td>0.781023</td>\n",
       "      <td>0.128774</td>\n",
       "      <td>0.652249</td>\n",
       "      <td>-0.000837</td>\n",
       "      <td>0.112624</td>\n",
       "      <td>0.077349</td>\n",
       "      <td>0.444625</td>\n",
       "    </tr>\n",
       "    <tr>\n",
       "      <th>5</th>\n",
       "      <td>8b49ab4aa672fff</td>\n",
       "      <td>POLYGON ((-103.49821 20.79712, -103.49803 20.7...</td>\n",
       "      <td>Guadalajara</td>\n",
       "      <td>11</td>\n",
       "      <td>-0.543837</td>\n",
       "      <td>0.070821</td>\n",
       "      <td>0.022515</td>\n",
       "      <td>0.072187</td>\n",
       "      <td>0.098399</td>\n",
       "      <td>0.045383</td>\n",
       "      <td>0.053017</td>\n",
       "      <td>-0.000515</td>\n",
       "      <td>-0.090500</td>\n",
       "      <td>-0.096391</td>\n",
       "      <td>0.086884</td>\n",
       "    </tr>\n",
       "    <tr>\n",
       "      <th>6</th>\n",
       "      <td>8b49ab4aa685fff</td>\n",
       "      <td>POLYGON ((-103.49365 20.79724, -103.49348 20.7...</td>\n",
       "      <td>Guadalajara</td>\n",
       "      <td>11</td>\n",
       "      <td>-0.814641</td>\n",
       "      <td>0.280972</td>\n",
       "      <td>0.085220</td>\n",
       "      <td>0.282793</td>\n",
       "      <td>0.406992</td>\n",
       "      <td>0.169184</td>\n",
       "      <td>0.237808</td>\n",
       "      <td>-0.001173</td>\n",
       "      <td>-0.016035</td>\n",
       "      <td>-0.027959</td>\n",
       "      <td>0.129138</td>\n",
       "    </tr>\n",
       "    <tr>\n",
       "      <th>7</th>\n",
       "      <td>8b49ab4aa770fff</td>\n",
       "      <td>POLYGON ((-103.49902 20.79351, -103.49884 20.7...</td>\n",
       "      <td>Guadalajara</td>\n",
       "      <td>11</td>\n",
       "      <td>-0.946701</td>\n",
       "      <td>0.300995</td>\n",
       "      <td>0.081917</td>\n",
       "      <td>0.286113</td>\n",
       "      <td>0.402929</td>\n",
       "      <td>0.185886</td>\n",
       "      <td>0.217043</td>\n",
       "      <td>-0.001576</td>\n",
       "      <td>0.014601</td>\n",
       "      <td>0.007157</td>\n",
       "      <td>0.144817</td>\n",
       "    </tr>\n",
       "    <tr>\n",
       "      <th>8</th>\n",
       "      <td>8b49ab4aa661fff</td>\n",
       "      <td>POLYGON ((-103.50048 20.79706, -103.50031 20.7...</td>\n",
       "      <td>Guadalajara</td>\n",
       "      <td>11</td>\n",
       "      <td>-0.433420</td>\n",
       "      <td>0.093078</td>\n",
       "      <td>0.029451</td>\n",
       "      <td>0.090250</td>\n",
       "      <td>0.131413</td>\n",
       "      <td>0.057736</td>\n",
       "      <td>0.073677</td>\n",
       "      <td>-0.000434</td>\n",
       "      <td>-0.075139</td>\n",
       "      <td>-0.077203</td>\n",
       "      <td>0.101216</td>\n",
       "    </tr>\n",
       "    <tr>\n",
       "      <th>9</th>\n",
       "      <td>8b49ab4aa68bfff</td>\n",
       "      <td>POLYGON ((-103.49394 20.79898, -103.49376 20.7...</td>\n",
       "      <td>Guadalajara</td>\n",
       "      <td>11</td>\n",
       "      <td>-0.737586</td>\n",
       "      <td>0.361530</td>\n",
       "      <td>0.088077</td>\n",
       "      <td>0.361740</td>\n",
       "      <td>0.457906</td>\n",
       "      <td>0.240281</td>\n",
       "      <td>0.217625</td>\n",
       "      <td>-0.001556</td>\n",
       "      <td>0.040646</td>\n",
       "      <td>0.034558</td>\n",
       "      <td>0.147207</td>\n",
       "    </tr>\n",
       "  </tbody>\n",
       "</table>\n",
       "</div>"
      ],
      "text/plain": [
       "            hex_id                                           geometry  \\\n",
       "0  8b49ab4b42e2fff  POLYGON ((-103.42471 20.71872, -103.42454 20.7...   \n",
       "1  8b49ab4b42cefff  POLYGON ((-103.42499 20.72046, -103.42482 20.7...   \n",
       "2  8b49ab4b43aefff  POLYGON ((-103.42292 20.71391, -103.42274 20.7...   \n",
       "3  8b49ab483075fff  POLYGON ((-103.45665 20.80869, -103.45647 20.8...   \n",
       "4  8b49ab4830d1fff  POLYGON ((-103.45271 20.81180, -103.45253 20.8...   \n",
       "5  8b49ab4aa672fff  POLYGON ((-103.49821 20.79712, -103.49803 20.7...   \n",
       "6  8b49ab4aa685fff  POLYGON ((-103.49365 20.79724, -103.49348 20.7...   \n",
       "7  8b49ab4aa770fff  POLYGON ((-103.49902 20.79351, -103.49884 20.7...   \n",
       "8  8b49ab4aa661fff  POLYGON ((-103.50048 20.79706, -103.50031 20.7...   \n",
       "9  8b49ab4aa68bfff  POLYGON ((-103.49394 20.79898, -103.49376 20.7...   \n",
       "\n",
       "          city  res  temp_diff_mean  ndvi_mean  ndvi_std  ndvi_median  \\\n",
       "0  Guadalajara   11        0.974132   0.114289  0.049750     0.099478   \n",
       "1  Guadalajara   11       -0.379456   0.224639  0.081781     0.216309   \n",
       "2  Guadalajara   11       -2.462921   0.351869  0.089766     0.372834   \n",
       "3  Guadalajara   11       -0.282639   0.296540  0.058069     0.311797   \n",
       "4  Guadalajara   11       -0.056597   0.440252  0.260666     0.418498   \n",
       "5  Guadalajara   11       -0.543837   0.070821  0.022515     0.072187   \n",
       "6  Guadalajara   11       -0.814641   0.280972  0.085220     0.282793   \n",
       "7  Guadalajara   11       -0.946701   0.300995  0.081917     0.286113   \n",
       "8  Guadalajara   11       -0.433420   0.093078  0.029451     0.090250   \n",
       "9  Guadalajara   11       -0.737586   0.361530  0.088077     0.361740   \n",
       "\n",
       "   ndvi_max  ndvi_min  ndvi_diff  ndvi_tend  ndmi_mean  ndmi_median  ndmi_diff  \n",
       "0  0.194668  0.065362   0.129307  -0.000938  -0.035880    -0.050857   0.202784  \n",
       "1  0.322233  0.129293   0.192940  -0.001084   0.009989     0.005061   0.193035  \n",
       "2  0.431929  0.227313   0.204616  -0.001806   0.089015     0.083834   0.117537  \n",
       "3  0.343975  0.191514   0.152461  -0.001677   0.122609     0.123036   0.099242  \n",
       "4  0.781023  0.128774   0.652249  -0.000837   0.112624     0.077349   0.444625  \n",
       "5  0.098399  0.045383   0.053017  -0.000515  -0.090500    -0.096391   0.086884  \n",
       "6  0.406992  0.169184   0.237808  -0.001173  -0.016035    -0.027959   0.129138  \n",
       "7  0.402929  0.185886   0.217043  -0.001576   0.014601     0.007157   0.144817  \n",
       "8  0.131413  0.057736   0.073677  -0.000434  -0.075139    -0.077203   0.101216  \n",
       "9  0.457906  0.240281   0.217625  -0.001556   0.040646     0.034558   0.147207  "
      ]
     },
     "execution_count": 8,
     "metadata": {},
     "output_type": "execute_result"
    }
   ],
   "source": [
    "hex_schema = \"raster_analysis\"\n",
    "hex_table = \"temperature_analysis_hex\"\n",
    "hex_tabl = \"ndvi_analysis_hex\"\n",
    "hex_tablee = \"ndmi_analysis_hex\"\n",
    "tempe = \"tempe\"\n",
    "ndmi = \"ndmi\"\n",
    "ndvi = \"ndvi\"\n",
    "hex_id = \"hex_id\"\n",
    "c = 'Guadalajara'\n",
    "n = '11'\n",
    "query = f'SELECT {tempe}.hex_id, {tempe}.geometry, {tempe}.city, {tempe}.res, temp_diff_mean,ndvi_mean, ndvi_std, ndvi_median, ndvi_max, ndvi_min, ndvi_diff, ndvi_tend,ndmi_mean, ndmi_median, ndmi_diff FROM {hex_schema}.{hex_table} {tempe} INNER JOIN {hex_schema}.{hex_tablee} {ndmi} ON {tempe}.{hex_id} = {ndmi}.{hex_id} INNER JOIN {hex_schema}.{hex_tabl} {ndvi} ON {tempe}.{hex_id} = {ndvi}.{hex_id} WHERE {tempe}.\\\"city\\\" = \\'{c}\\' AND {tempe}.\\\"res\\\" = {n}'\n",
    "intt_gdl = aup.gdf_from_query(query, geometry_col='geometry')\n",
    "intt_gdl.head(10)"
   ]
  },
  {
   "cell_type": "markdown",
   "id": "3573a856-d6a8-47c5-9511-c3ead1f22f77",
   "metadata": {},
   "source": [
    "## Intersección"
   ]
  },
  {
   "cell_type": "code",
   "execution_count": 9,
   "id": "b3ccd6fc-d015-4ca2-b82c-9b465ce77552",
   "metadata": {},
   "outputs": [],
   "source": [
    "intt_gdl = intt_gdl.set_crs(\"EPSG:4326\")\n",
    "hex_gdl = hex_gdl.set_crs(\"EPSG:4326\")"
   ]
  },
  {
   "cell_type": "code",
   "execution_count": null,
   "id": "7bea388f-410c-4e31-8fa0-c9934b1da302",
   "metadata": {
    "tags": []
   },
   "outputs": [],
   "source": [
    "inter = gpd.sjoin(hex_gdl, intt_gdl, op='intersects')\n",
    "inter.drop(columns=['index_right','city_right','res','hex_id_right'], inplace=True)\n",
    "inter.rename(columns={\"hex_id_left\": \"hex_id\",\"city_left\": \"city\"}, inplace=True)\n",
    "inter.head()"
   ]
  },
  {
   "cell_type": "code",
   "execution_count": 11,
   "id": "b437914a-28ea-4e5e-9c70-ca37134fe7a6",
   "metadata": {},
   "outputs": [
    {
     "data": {
      "text/plain": [
       "hex_id            0\n",
       "geometry          0\n",
       "city              0\n",
       "EspPublico        0\n",
       "temp_diff_mean    0\n",
       "ndvi_mean         0\n",
       "ndvi_std          0\n",
       "ndvi_median       0\n",
       "ndvi_max          0\n",
       "ndvi_min          0\n",
       "ndvi_diff         0\n",
       "ndvi_tend         0\n",
       "ndmi_mean         0\n",
       "ndmi_median       0\n",
       "ndmi_diff         0\n",
       "dtype: int64"
      ]
     },
     "execution_count": 11,
     "metadata": {},
     "output_type": "execute_result"
    }
   ],
   "source": [
    "pd.isna(inter).sum()"
   ]
  },
  {
   "cell_type": "code",
   "execution_count": 12,
   "id": "105017ac-eec4-4511-b569-990650feb270",
   "metadata": {
    "tags": []
   },
   "outputs": [
    {
     "name": "stdout",
     "output_type": "stream",
     "text": [
      "Números de hexagonos sin Espacios Públicos: 2038369 \n",
      "Número de Hexágonos con Espacios Públicos: 736626\n",
      "Número total de Hexágonos: 2774995\n"
     ]
    }
   ],
   "source": [
    "cont_ceros = np.sum(inter['EspPublico'] == 0)\n",
    "cont_uno = np.sum(inter['EspPublico'])\n",
    "print(f'Números de hexagonos sin Espacios Públicos: {cont_ceros} \\nNúmero de Hexágonos con Espacios Públicos: {cont_uno}\\nNúmero total de Hexágonos: {cont_ceros+cont_uno}')"
   ]
  },
  {
   "cell_type": "code",
   "execution_count": 13,
   "id": "027e511f-a871-41f5-954c-c1401f067e57",
   "metadata": {
    "tags": []
   },
   "outputs": [
    {
     "data": {
      "text/plain": [
       "array([0, 1])"
      ]
     },
     "execution_count": 13,
     "metadata": {},
     "output_type": "execute_result"
    }
   ],
   "source": [
    "inter['EspPublico'].unique()"
   ]
  },
  {
   "cell_type": "markdown",
   "id": "1c2d6c8e-f21e-482e-b007-821bbea5576b",
   "metadata": {},
   "source": [
    "## Submuestreo 100,000 Hexágonos Esp Púb x 100,000 Hexágonos No Esp Púb"
   ]
  },
  {
   "cell_type": "code",
   "execution_count": 41,
   "id": "03d572a2-0228-4b2c-95c3-c9726fce688d",
   "metadata": {
    "tags": []
   },
   "outputs": [
    {
     "ename": "ValueError",
     "evalue": "Cannot take a larger sample than population when 'replace=False'",
     "output_type": "error",
     "traceback": [
      "\u001b[0;31m---------------------------------------------------------------------------\u001b[0m",
      "\u001b[0;31mValueError\u001b[0m                                Traceback (most recent call last)",
      "Cell \u001b[0;32mIn[41], line 4\u001b[0m\n\u001b[1;32m      1\u001b[0m num_samples \u001b[38;5;241m=\u001b[39m \u001b[38;5;241m150000\u001b[39m\n\u001b[1;32m      3\u001b[0m \u001b[38;5;66;03m# Randomly sample 100,000 hexagons with public spaces\u001b[39;00m\n\u001b[0;32m----> 4\u001b[0m sample_with_public_spaces \u001b[38;5;241m=\u001b[39m \u001b[43minter\u001b[49m\u001b[43m[\u001b[49m\u001b[43minter\u001b[49m\u001b[43m[\u001b[49m\u001b[38;5;124;43m'\u001b[39;49m\u001b[38;5;124;43mEspPublico\u001b[39;49m\u001b[38;5;124;43m'\u001b[39;49m\u001b[43m]\u001b[49m\u001b[43m \u001b[49m\u001b[38;5;241;43m==\u001b[39;49m\u001b[43m \u001b[49m\u001b[38;5;241;43m1\u001b[39;49m\u001b[43m]\u001b[49m\u001b[38;5;241;43m.\u001b[39;49m\u001b[43msample\u001b[49m\u001b[43m(\u001b[49m\u001b[43mn\u001b[49m\u001b[38;5;241;43m=\u001b[39;49m\u001b[43mnum_samples\u001b[49m\u001b[43m,\u001b[49m\u001b[43m \u001b[49m\u001b[43mrandom_state\u001b[49m\u001b[38;5;241;43m=\u001b[39;49m\u001b[38;5;241;43m42\u001b[39;49m\u001b[43m)\u001b[49m\n\u001b[1;32m      6\u001b[0m \u001b[38;5;66;03m# Randomly sample 100,000 hexagons without public spaces\u001b[39;00m\n\u001b[1;32m      7\u001b[0m sample_without_public_spaces \u001b[38;5;241m=\u001b[39m inter[inter[\u001b[38;5;124m'\u001b[39m\u001b[38;5;124mEspPublico\u001b[39m\u001b[38;5;124m'\u001b[39m] \u001b[38;5;241m==\u001b[39m \u001b[38;5;241m0\u001b[39m]\u001b[38;5;241m.\u001b[39msample(n\u001b[38;5;241m=\u001b[39mnum_samples, random_state\u001b[38;5;241m=\u001b[39m\u001b[38;5;241m42\u001b[39m)\n",
      "File \u001b[0;32m/opt/conda/lib/python3.10/site-packages/pandas/core/generic.py:5773\u001b[0m, in \u001b[0;36mNDFrame.sample\u001b[0;34m(self, n, frac, replace, weights, random_state, axis, ignore_index)\u001b[0m\n\u001b[1;32m   5770\u001b[0m \u001b[38;5;28;01mif\u001b[39;00m weights \u001b[38;5;129;01mis\u001b[39;00m \u001b[38;5;129;01mnot\u001b[39;00m \u001b[38;5;28;01mNone\u001b[39;00m:\n\u001b[1;32m   5771\u001b[0m     weights \u001b[38;5;241m=\u001b[39m sample\u001b[38;5;241m.\u001b[39mpreprocess_weights(\u001b[38;5;28mself\u001b[39m, weights, axis)\n\u001b[0;32m-> 5773\u001b[0m sampled_indices \u001b[38;5;241m=\u001b[39m \u001b[43msample\u001b[49m\u001b[38;5;241;43m.\u001b[39;49m\u001b[43msample\u001b[49m\u001b[43m(\u001b[49m\u001b[43mobj_len\u001b[49m\u001b[43m,\u001b[49m\u001b[43m \u001b[49m\u001b[43msize\u001b[49m\u001b[43m,\u001b[49m\u001b[43m \u001b[49m\u001b[43mreplace\u001b[49m\u001b[43m,\u001b[49m\u001b[43m \u001b[49m\u001b[43mweights\u001b[49m\u001b[43m,\u001b[49m\u001b[43m \u001b[49m\u001b[43mrs\u001b[49m\u001b[43m)\u001b[49m\n\u001b[1;32m   5774\u001b[0m result \u001b[38;5;241m=\u001b[39m \u001b[38;5;28mself\u001b[39m\u001b[38;5;241m.\u001b[39mtake(sampled_indices, axis\u001b[38;5;241m=\u001b[39maxis)\n\u001b[1;32m   5776\u001b[0m \u001b[38;5;28;01mif\u001b[39;00m ignore_index:\n",
      "File \u001b[0;32m/opt/conda/lib/python3.10/site-packages/pandas/core/sample.py:150\u001b[0m, in \u001b[0;36msample\u001b[0;34m(obj_len, size, replace, weights, random_state)\u001b[0m\n\u001b[1;32m    147\u001b[0m     \u001b[38;5;28;01melse\u001b[39;00m:\n\u001b[1;32m    148\u001b[0m         \u001b[38;5;28;01mraise\u001b[39;00m \u001b[38;5;167;01mValueError\u001b[39;00m(\u001b[38;5;124m\"\u001b[39m\u001b[38;5;124mInvalid weights: weights sum to zero\u001b[39m\u001b[38;5;124m\"\u001b[39m)\n\u001b[0;32m--> 150\u001b[0m \u001b[38;5;28;01mreturn\u001b[39;00m \u001b[43mrandom_state\u001b[49m\u001b[38;5;241;43m.\u001b[39;49m\u001b[43mchoice\u001b[49m\u001b[43m(\u001b[49m\u001b[43mobj_len\u001b[49m\u001b[43m,\u001b[49m\u001b[43m \u001b[49m\u001b[43msize\u001b[49m\u001b[38;5;241;43m=\u001b[39;49m\u001b[43msize\u001b[49m\u001b[43m,\u001b[49m\u001b[43m \u001b[49m\u001b[43mreplace\u001b[49m\u001b[38;5;241;43m=\u001b[39;49m\u001b[43mreplace\u001b[49m\u001b[43m,\u001b[49m\u001b[43m \u001b[49m\u001b[43mp\u001b[49m\u001b[38;5;241;43m=\u001b[39;49m\u001b[43mweights\u001b[49m\u001b[43m)\u001b[49m\u001b[38;5;241m.\u001b[39mastype(\n\u001b[1;32m    151\u001b[0m     np\u001b[38;5;241m.\u001b[39mintp, copy\u001b[38;5;241m=\u001b[39m\u001b[38;5;28;01mFalse\u001b[39;00m\n\u001b[1;32m    152\u001b[0m )\n",
      "File \u001b[0;32mmtrand.pyx:965\u001b[0m, in \u001b[0;36mnumpy.random.mtrand.RandomState.choice\u001b[0;34m()\u001b[0m\n",
      "\u001b[0;31mValueError\u001b[0m: Cannot take a larger sample than population when 'replace=False'"
     ]
    }
   ],
   "source": [
    "num_samples = 150000\n",
    "\n",
    "# Randomly sample 100,000 hexagons with public spaces\n",
    "sample_with_public_spaces = inter[inter['EspPublico'] == 1].sample(n=num_samples, random_state=42)\n",
    "\n",
    "# Randomly sample 100,000 hexagons without public spaces\n",
    "sample_without_public_spaces = inter[inter['EspPublico'] == 0].sample(n=num_samples, random_state=42)\n",
    "\n",
    "# Concatenate the two samples to get the final subsample\n",
    "inter = pd.concat([sample_with_public_spaces, sample_without_public_spaces])\n",
    "inter.reset_index(drop = True, inplace = True)\n",
    "inter.head()"
   ]
  },
  {
   "cell_type": "code",
   "execution_count": 15,
   "id": "9c9f3b61-242e-4748-a368-a0e40d7f8f85",
   "metadata": {
    "tags": []
   },
   "outputs": [
    {
     "name": "stdout",
     "output_type": "stream",
     "text": [
      "Números de hexagonos sin Espacios Públicos: 100000 \n",
      "Número de Hexágonos con Espacios Públicos: 100000\n",
      "Número total de Hexágonos: 200000\n"
     ]
    }
   ],
   "source": [
    "contador_ceros = np.sum(inter['EspPublico'] == 0)\n",
    "contador_uno = np.sum(inter['EspPublico'])\n",
    "print(f'Números de hexagonos sin Espacios Públicos: {contador_ceros} \\nNúmero de Hexágonos con Espacios Públicos: {contador_uno}\\nNúmero total de Hexágonos: {contador_ceros+contador_uno}')"
   ]
  },
  {
   "cell_type": "code",
   "execution_count": 16,
   "id": "2c94f01e-ffce-44f3-b64e-424d3d4684c3",
   "metadata": {
    "tags": []
   },
   "outputs": [
    {
     "data": {
      "text/plain": [
       "(200000, 15)"
      ]
     },
     "execution_count": 16,
     "metadata": {},
     "output_type": "execute_result"
    }
   ],
   "source": [
    "inter.shape"
   ]
  },
  {
   "cell_type": "markdown",
   "id": "224ae004-cdfa-4cee-b65e-2388946d536c",
   "metadata": {},
   "source": [
    "Ya está balanceada la base de datos y con un submuestreo random. Entonces ya podemos juntarlo con el otro GeoDataFrame"
   ]
  },
  {
   "cell_type": "markdown",
   "id": "c4bf0248-be09-4748-b48e-350cb0e0c6e4",
   "metadata": {},
   "source": [
    "Verificamos duplicados"
   ]
  },
  {
   "cell_type": "markdown",
   "id": "57a87f61-d184-4ab1-92f2-3a6b8994257c",
   "metadata": {},
   "source": [
    "## Métodos de Clasificación"
   ]
  },
  {
   "cell_type": "code",
   "execution_count": 19,
   "id": "351a23ed-b377-4ee2-b6be-56a9a5159552",
   "metadata": {
    "tags": []
   },
   "outputs": [],
   "source": [
    "x = inter[['temp_diff_mean','ndvi_mean','ndvi_std','ndvi_median','ndvi_max','ndvi_min','ndvi_diff','ndvi_tend','ndmi_mean','ndmi_median','ndmi_diff']]\n",
    "y = inter['EspPublico']"
   ]
  },
  {
   "cell_type": "code",
   "execution_count": 20,
   "id": "3d9d5893-418b-44e4-8bee-4f3558ee3d87",
   "metadata": {
    "tags": []
   },
   "outputs": [
    {
     "data": {
      "text/plain": [
       "array([1, 1, 1, ..., 0, 0, 0])"
      ]
     },
     "execution_count": 20,
     "metadata": {},
     "output_type": "execute_result"
    }
   ],
   "source": [
    "y.values"
   ]
  },
  {
   "cell_type": "markdown",
   "id": "6454b527-33cc-4827-89f9-469184df4fe3",
   "metadata": {},
   "source": [
    "### Regresión Logística"
   ]
  },
  {
   "cell_type": "code",
   "execution_count": 21,
   "id": "7c6a11af-ffaf-46c4-a039-32994400200a",
   "metadata": {
    "tags": []
   },
   "outputs": [],
   "source": [
    "x_train, x_test, y_train, y_test = train_test_split(x,y, test_size = 0.2, random_state = 42)\n",
    "scaler = StandardScaler()\n",
    "x_train_scale = scaler.fit_transform(x_train)\n",
    "x_test_scale = scaler.fit_transform(x_test)"
   ]
  },
  {
   "cell_type": "code",
   "execution_count": 22,
   "id": "e9218021-7b99-4551-8374-e3aefb6bff50",
   "metadata": {
    "tags": []
   },
   "outputs": [
    {
     "data": {
      "image/png": "[encoded data removed]",
      "text/plain": [
       "<Figure size 1000x700 with 2 Axes>"
      ]
     },
     "metadata": {},
     "output_type": "display_data"
    }
   ],
   "source": [
    "clf = LogisticRegression()\n",
    "clf.fit(x_train_scale, y_train)\n",
    "y_pred = clf.predict(x_test_scale)\n",
    "cm = confusion_matrix(y_test,y_pred)\n",
    "class_labels = ['Espacio Público', 'No Espacio Público']\n",
    "plt.figure(figsize = (10,7))\n",
    "sns.heatmap(cm, annot = True, fmt = \"g\", cmap=\"Blues\", xticklabels=class_labels, yticklabels=class_labels)\n",
    "plt.xlabel('Predicted', fontsize = 12, fontweight  = 'bold')\n",
    "plt.ylabel('Actual', fontsize = 12, fontweight  = 'bold')\n",
    "plt.title('Matriz de Confusión', fontsize = 15, fontweight = 'bold')\n",
    "plt.show()"
   ]
  },
  {
   "cell_type": "code",
   "execution_count": 23,
   "id": "e99c86fa-f71b-4cad-bc67-f018a3054e83",
   "metadata": {
    "tags": []
   },
   "outputs": [
    {
     "name": "stdout",
     "output_type": "stream",
     "text": [
      "Accuracy: 0.65435\n"
     ]
    }
   ],
   "source": [
    "accuracy = accuracy_score(y_test, y_pred)\n",
    "print(f'Accuracy: {accuracy}')"
   ]
  },
  {
   "cell_type": "markdown",
   "id": "5bf67297-8ea3-4160-ab9b-eff740792440",
   "metadata": {},
   "source": [
    "### Naive Bayes"
   ]
  },
  {
   "cell_type": "code",
   "execution_count": 24,
   "id": "50cf3b62-719b-418d-b7b2-6b26cd25f05c",
   "metadata": {
    "tags": []
   },
   "outputs": [
    {
     "data": {
      "text/html": [
       "<style>#sk-container-id-1 {color: black;background-color: white;}#sk-container-id-1 pre{padding: 0;}#sk-container-id-1 div.sk-toggleable {background-color: white;}#sk-container-id-1 label.sk-toggleable__label {cursor: pointer;display: block;width: 100%;margin-bottom: 0;padding: 0.3em;box-sizing: border-box;text-align: center;}#sk-container-id-1 label.sk-toggleable__label-arrow:before {content: \"▸\";float: left;margin-right: 0.25em;color: #696969;}#sk-container-id-1 label.sk-toggleable__label-arrow:hover:before {color: black;}#sk-container-id-1 div.sk-estimator:hover label.sk-toggleable__label-arrow:before {color: black;}#sk-container-id-1 div.sk-toggleable__content {max-height: 0;max-width: 0;overflow: hidden;text-align: left;background-color: #f0f8ff;}#sk-container-id-1 div.sk-toggleable__content pre {margin: 0.2em;color: black;border-radius: 0.25em;background-color: #f0f8ff;}#sk-container-id-1 input.sk-toggleable__control:checked~div.sk-toggleable__content {max-height: 200px;max-width: 100%;overflow: auto;}#sk-container-id-1 input.sk-toggleable__control:checked~label.sk-toggleable__label-arrow:before {content: \"▾\";}#sk-container-id-1 div.sk-estimator input.sk-toggleable__control:checked~label.sk-toggleable__label {background-color: #d4ebff;}#sk-container-id-1 div.sk-label input.sk-toggleable__control:checked~label.sk-toggleable__label {background-color: #d4ebff;}#sk-container-id-1 input.sk-hidden--visually {border: 0;clip: rect(1px 1px 1px 1px);clip: rect(1px, 1px, 1px, 1px);height: 1px;margin: -1px;overflow: hidden;padding: 0;position: absolute;width: 1px;}#sk-container-id-1 div.sk-estimator {font-family: monospace;background-color: #f0f8ff;border: 1px dotted black;border-radius: 0.25em;box-sizing: border-box;margin-bottom: 0.5em;}#sk-container-id-1 div.sk-estimator:hover {background-color: #d4ebff;}#sk-container-id-1 div.sk-parallel-item::after {content: \"\";width: 100%;border-bottom: 1px solid gray;flex-grow: 1;}#sk-container-id-1 div.sk-label:hover label.sk-toggleable__label {background-color: #d4ebff;}#sk-container-id-1 div.sk-serial::before {content: \"\";position: absolute;border-left: 1px solid gray;box-sizing: border-box;top: 0;bottom: 0;left: 50%;z-index: 0;}#sk-container-id-1 div.sk-serial {display: flex;flex-direction: column;align-items: center;background-color: white;padding-right: 0.2em;padding-left: 0.2em;position: relative;}#sk-container-id-1 div.sk-item {position: relative;z-index: 1;}#sk-container-id-1 div.sk-parallel {display: flex;align-items: stretch;justify-content: center;background-color: white;position: relative;}#sk-container-id-1 div.sk-item::before, #sk-container-id-1 div.sk-parallel-item::before {content: \"\";position: absolute;border-left: 1px solid gray;box-sizing: border-box;top: 0;bottom: 0;left: 50%;z-index: -1;}#sk-container-id-1 div.sk-parallel-item {display: flex;flex-direction: column;z-index: 1;position: relative;background-color: white;}#sk-container-id-1 div.sk-parallel-item:first-child::after {align-self: flex-end;width: 50%;}#sk-container-id-1 div.sk-parallel-item:last-child::after {align-self: flex-start;width: 50%;}#sk-container-id-1 div.sk-parallel-item:only-child::after {width: 0;}#sk-container-id-1 div.sk-dashed-wrapped {border: 1px dashed gray;margin: 0 0.4em 0.5em 0.4em;box-sizing: border-box;padding-bottom: 0.4em;background-color: white;}#sk-container-id-1 div.sk-label label {font-family: monospace;font-weight: bold;display: inline-block;line-height: 1.2em;}#sk-container-id-1 div.sk-label-container {text-align: center;}#sk-container-id-1 div.sk-container {/* jupyter's `normalize.less` sets `[hidden] { display: none; }` but bootstrap.min.css set `[hidden] { display: none !important; }` so we also need the `!important` here to be able to override the default hidden behavior on the sphinx rendered scikit-learn.org. See: https://github.com/scikit-learn/scikit-learn/issues/21755 */display: inline-block !important;position: relative;}#sk-container-id-1 div.sk-text-repr-fallback {display: none;}</style><div id=\"sk-container-id-1\" class=\"sk-top-container\"><div class=\"sk-text-repr-fallback\"><pre>GaussianNB()</pre><b>In a Jupyter environment, please rerun this cell to show the HTML representation or trust the notebook. <br />On GitHub, the HTML representation is unable to render, please try loading this page with nbviewer.org.</b></div><div class=\"sk-container\" hidden><div class=\"sk-item\"><div class=\"sk-estimator sk-toggleable\"><input class=\"sk-toggleable__control sk-hidden--visually\" id=\"sk-estimator-id-1\" type=\"checkbox\" checked><label for=\"sk-estimator-id-1\" class=\"sk-toggleable__label sk-toggleable__label-arrow\">GaussianNB</label><div class=\"sk-toggleable__content\"><pre>GaussianNB()</pre></div></div></div></div></div>"
      ],
      "text/plain": [
       "GaussianNB()"
      ]
     },
     "execution_count": 24,
     "metadata": {},
     "output_type": "execute_result"
    }
   ],
   "source": [
    "nb = GaussianNB()\n",
    "nb.fit(x_train, y_train)"
   ]
  },
  {
   "cell_type": "code",
   "execution_count": 25,
   "id": "d16bc4e8-1cc1-42c9-946d-00d6c4bafe15",
   "metadata": {
    "tags": []
   },
   "outputs": [
    {
     "data": {
      "image/png": "[encoded data removed]",
      "text/plain": [
       "<Figure size 1000x700 with 2 Axes>"
      ]
     },
     "metadata": {},
     "output_type": "display_data"
    }
   ],
   "source": [
    "y_prend = nb.predict(x_test)\n",
    "cm = confusion_matrix(y_test, y_prend)\n",
    "class_labels = ['Espacio Público', 'No Espacio Público']\n",
    "plt.figure(figsize = (10,7))\n",
    "sns.heatmap(cm, annot = True, fmt = \"g\", cmap=\"Reds\", xticklabels=class_labels, yticklabels=class_labels)\n",
    "plt.xlabel('Predicted', fontsize = 12, fontweight  = 'bold')\n",
    "plt.ylabel('Actual', fontsize = 12, fontweight  = 'bold')\n",
    "plt.title('Matriz de Confusión', fontsize = 15, fontweight = 'bold')\n",
    "plt.show()"
   ]
  },
  {
   "cell_type": "code",
   "execution_count": 26,
   "id": "a62b3e24-1911-4044-8c55-a900a9c00791",
   "metadata": {
    "tags": []
   },
   "outputs": [
    {
     "name": "stdout",
     "output_type": "stream",
     "text": [
      "Accuracy: 0.628175\n"
     ]
    }
   ],
   "source": [
    "accuracy = accuracy_score(y_test, y_prend)\n",
    "print(f'Accuracy: {accuracy}')"
   ]
  },
  {
   "cell_type": "markdown",
   "id": "e03aa28d-74f5-44f4-a72a-1cca772fd9a3",
   "metadata": {},
   "source": [
    "## Random Forest Classifier (RFC)"
   ]
  },
  {
   "cell_type": "code",
   "execution_count": 31,
   "id": "ee0bd417-fa49-4c8f-a558-ad96ca55d240",
   "metadata": {
    "tags": []
   },
   "outputs": [],
   "source": [
    "rf = RandomForestClassifier(n_estimators=120, random_state=42)  \n",
    "rf.fit(x_train, y_train)\n",
    "\n",
    "# Realizar predicciones en el conjunto de prueba\n",
    "y_predd = rf.predict(x_test)"
   ]
  },
  {
   "cell_type": "code",
   "execution_count": 32,
   "id": "6c3882cc-aeec-4ee4-acd2-4fb4a8e7974e",
   "metadata": {
    "tags": []
   },
   "outputs": [
    {
     "data": {
      "image/png": "[encoded data removed]",
      "text/plain": [
       "<Figure size 1000x700 with 2 Axes>"
      ]
     },
     "metadata": {},
     "output_type": "display_data"
    }
   ],
   "source": [
    "cm = confusion_matrix(y_test, y_predd)\n",
    "class_labels = ['Espacio Verde Público', 'No Espacio Verde Público']\n",
    "plt.figure(figsize = (10,7))\n",
    "sns.heatmap(cm, annot = True, fmt = \"g\", cmap=\"Greens\", xticklabels=class_labels, yticklabels=class_labels)\n",
    "plt.xlabel('Predicted', fontsize = 12, fontweight  = 'bold')\n",
    "plt.ylabel('Actual', fontsize = 12, fontweight  = 'bold')\n",
    "plt.title('Matriz de Confusión', fontsize = 15, fontweight = 'bold')\n",
    "plt.show()"
   ]
  },
  {
   "cell_type": "code",
   "execution_count": 33,
   "id": "7cc41317-b016-4a2d-98b3-2e7447deae4b",
   "metadata": {
    "tags": []
   },
   "outputs": [
    {
     "name": "stdout",
     "output_type": "stream",
     "text": [
      "Accuracy: 0.766975\n"
     ]
    }
   ],
   "source": [
    "accuracy = accuracy_score(y_test, y_predd)\n",
    "print(f'Accuracy: {accuracy}')"
   ]
  },
  {
   "cell_type": "markdown",
   "id": "1459a521-2e8c-42e6-8381-95fcea1c51ad",
   "metadata": {},
   "source": [
    "## XGBoost"
   ]
  },
  {
   "cell_type": "code",
   "execution_count": 37,
   "id": "0e6f34cd-ca9d-4585-bef2-fc1bf8a6db0b",
   "metadata": {
    "tags": []
   },
   "outputs": [],
   "source": [
    "xgb_classifier = xgb.XGBClassifier(n_estimators=100, random_state=42)\n",
    "\n",
    "# Ajustar el modelo a los datos de entrenamiento\n",
    "xgb_classifier.fit(x_train, y_train)\n",
    "\n",
    "# Realizar predicciones en el conjunto de prueba\n",
    "y_predict = xgb_classifier.predict(x_test)"
   ]
  },
  {
   "cell_type": "code",
   "execution_count": 39,
   "id": "f47f111d-4d19-415d-85ba-e6361c4cfaf8",
   "metadata": {
    "tags": []
   },
   "outputs": [
    {
     "data": {
      "image/png": "[encoded data removed]",
      "text/plain": [
       "<Figure size 1000x700 with 2 Axes>"
      ]
     },
     "metadata": {},
     "output_type": "display_data"
    }
   ],
   "source": [
    "cm = confusion_matrix(y_test, y_predict)\n",
    "class_labels = ['Espacio Verde Público', 'No Espacio Verde Público']\n",
    "plt.figure(figsize = (10,7))\n",
    "sns.heatmap(cm, annot = True, fmt = \"g\", cmap=\"Purples\", xticklabels=class_labels, yticklabels=class_labels)\n",
    "plt.xlabel('Predicted', fontsize = 12, fontweight  = 'bold')\n",
    "plt.ylabel('Actual', fontsize = 12, fontweight  = 'bold')\n",
    "plt.title('Matriz de Confusión', fontsize = 15, fontweight = 'bold')\n",
    "plt.show()"
   ]
  },
  {
   "cell_type": "code",
   "execution_count": 40,
   "id": "b6f59e2f-e70b-4cfc-b825-339486c25a86",
   "metadata": {
    "tags": []
   },
   "outputs": [
    {
     "name": "stdout",
     "output_type": "stream",
     "text": [
      "Accuracy: 0.6965\n"
     ]
    }
   ],
   "source": [
    "accuracy = accuracy_score(y_test, y_predict)\n",
    "print(f'Accuracy: {accuracy}')"
   ]
  },
  {
   "cell_type": "markdown",
   "id": "eb11aa72-2056-453c-81d5-b922166fdb79",
   "metadata": {},
   "source": [
    "Podemos observar que al tener menos datos la clasificación con Naive Bayes y Regresión logística salió peor que con toda la información. Sin embargo, el random forest classifier es el que mejor ha predecido con un 77%"
   ]
  }
 ],
 "metadata": {
  "kernelspec": {
   "display_name": "Python 3 (ipykernel)",
   "language": "python",
   "name": "python3"
  },
  "language_info": {
   "codemirror_mode": {
    "name": "ipython",
    "version": 3
   },
   "file_extension": ".py",
   "mimetype": "text/x-python",
   "name": "python",
   "nbconvert_exporter": "python",
   "pygments_lexer": "ipython3",
   "version": "3.10.10"
  }
 },
 "nbformat": 4,
 "nbformat_minor": 5
}
