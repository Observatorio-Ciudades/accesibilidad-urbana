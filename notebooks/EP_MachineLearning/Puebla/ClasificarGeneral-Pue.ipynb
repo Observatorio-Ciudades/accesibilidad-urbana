{
 "cells": [
  {
   "cell_type": "code",
   "execution_count": 1,
   "id": "417918f8-3cb2-443d-972f-c3d5679337f7",
   "metadata": {},
   "outputs": [],
   "source": [
    "import warnings\n",
    "warnings.filterwarnings('ignore')\n",
    "import geopandas as gpd\n",
    "from geopandas.tools import overlay\n",
    "import matplotlib.pyplot as plt\n",
    "import os \n",
    "import sys\n",
    "module_path = os.path.abspath(os.path.join('../../../'))\n",
    "if module_path not in sys.path:\n",
    "    sys.path.append(module_path)\n",
    "    import aup\n",
    "import pandas as pd\n",
    "import numpy as np\n",
    "import seaborn as sns\n",
    "from sklearn.model_selection import train_test_split\n",
    "from sklearn.metrics import accuracy_score, confusion_matrix\n",
    "from sklearn.linear_model import LogisticRegression\n",
    "from sklearn.preprocessing import StandardScaler\n",
    "from sklearn.naive_bayes import GaussianNB\n",
    "from sklearn.ensemble import RandomForestClassifier\n",
    "from sklearn.ensemble import AdaBoostClassifier\n",
    "from sklearn.model_selection import GridSearchCV, RandomizedSearchCV \n",
    "import xgboost as xgb\n",
    "import random\n",
    "from sklearn.model_selection import StratifiedKFold\n",
    "from sklearn.metrics import classification_report, mean_squared_error\n",
    "#import tensorflow as tf\n",
    "#from keras.models import Sequential\n",
    "#from keras.layers import Dense\n",
    "#from tensorflow.keras.utils import to_categorical"
   ]
  },
  {
   "cell_type": "markdown",
   "id": "1f4b673d-a0ff-4041-b2b2-b9ec546375b5",
   "metadata": {},
   "source": [
    "## Espacios Públicos Puebla"
   ]
  },
  {
   "cell_type": "code",
   "execution_count": 2,
   "id": "4ea17f49-98ad-4d79-8c43-7fd0a0739bdd",
   "metadata": {},
   "outputs": [
    {
     "data": {
      "text/html": [
       "<div>\n",
       "<style scoped>\n",
       "    .dataframe tbody tr th:only-of-type {\n",
       "        vertical-align: middle;\n",
       "    }\n",
       "\n",
       "    .dataframe tbody tr th {\n",
       "        vertical-align: top;\n",
       "    }\n",
       "\n",
       "    .dataframe thead th {\n",
       "        text-align: right;\n",
       "    }\n",
       "</style>\n",
       "<table border=\"1\" class=\"dataframe\">\n",
       "  <thead>\n",
       "    <tr style=\"text-align: right;\">\n",
       "      <th></th>\n",
       "      <th>NUMERO CONSECUTIVO</th>\n",
       "      <th>NOMBRE</th>\n",
       "      <th>TIPO</th>\n",
       "      <th>UBICACION</th>\n",
       "      <th>COLONIA</th>\n",
       "      <th>SUPERFICIE (EN METROS CUADRADOS)</th>\n",
       "      <th>LATITUD</th>\n",
       "      <th>LONGITUD</th>\n",
       "      <th>geometry</th>\n",
       "    </tr>\n",
       "  </thead>\n",
       "  <tbody>\n",
       "    <tr>\n",
       "      <th>0</th>\n",
       "      <td>1</td>\n",
       "      <td>3 DE MAYO</td>\n",
       "      <td>PARQUE</td>\n",
       "      <td>CALLE PRIMERO DE MAYO ENTRE 16 DE SEPTIEMBRE Y...</td>\n",
       "      <td>3 DE MAYO</td>\n",
       "      <td>1.20</td>\n",
       "      <td>19.08563</td>\n",
       "      <td>-98.16091</td>\n",
       "      <td>POINT (-98.16091 19.08563)</td>\n",
       "    </tr>\n",
       "    <tr>\n",
       "      <th>1</th>\n",
       "      <td>2</td>\n",
       "      <td>5 DE FEBRERO ORIENTE 1</td>\n",
       "      <td>JARDÍN VECINAL</td>\n",
       "      <td>ENTRE RETORNO A Y RETORNO B</td>\n",
       "      <td>INFONAVIT BOSQUES 5 DE FEBRERO</td>\n",
       "      <td>139.00</td>\n",
       "      <td>19.08349</td>\n",
       "      <td>-98.20219</td>\n",
       "      <td>POINT (-98.20219 19.08349)</td>\n",
       "    </tr>\n",
       "    <tr>\n",
       "      <th>2</th>\n",
       "      <td>3</td>\n",
       "      <td>5 DE FEBRERO ORIENTE 2</td>\n",
       "      <td>JARDÍN VECINAL</td>\n",
       "      <td>ENTRE RETORNO B Y REOTORNO C</td>\n",
       "      <td>INFONAVIT BOSQUES 5 DE FEBRERO</td>\n",
       "      <td>157.00</td>\n",
       "      <td>19.08336</td>\n",
       "      <td>-98.20180</td>\n",
       "      <td>POINT (-98.20180 19.08336)</td>\n",
       "    </tr>\n",
       "    <tr>\n",
       "      <th>3</th>\n",
       "      <td>4</td>\n",
       "      <td>5 DE FEBRERO ORIENTE 3</td>\n",
       "      <td>JARDÍN VECINAL</td>\n",
       "      <td>ENTRE RETORNO C Y CALLE 27 NORTE</td>\n",
       "      <td>INFONAVIT BOSQUES 5 DE FEBRERO</td>\n",
       "      <td>76.20</td>\n",
       "      <td>19.08323</td>\n",
       "      <td>-98.20134</td>\n",
       "      <td>POINT (-98.20134 19.08323)</td>\n",
       "    </tr>\n",
       "    <tr>\n",
       "      <th>4</th>\n",
       "      <td>5</td>\n",
       "      <td>5 DE FEBRERO ORIENTE 4</td>\n",
       "      <td>JARDÍN VECINAL</td>\n",
       "      <td>5 DE FEBRERO ORIENTE Y RETORNO A</td>\n",
       "      <td>INFONAVIT BOSQUES 5 DE FEBRERO</td>\n",
       "      <td>103.00</td>\n",
       "      <td>19.08364</td>\n",
       "      <td>-98.20259</td>\n",
       "      <td>POINT (-98.20259 19.08364)</td>\n",
       "    </tr>\n",
       "  </tbody>\n",
       "</table>\n",
       "</div>"
      ],
      "text/plain": [
       "   NUMERO CONSECUTIVO                  NOMBRE            TIPO  \\\n",
       "0                   1               3 DE MAYO          PARQUE   \n",
       "1                   2  5 DE FEBRERO ORIENTE 1  JARDÍN VECINAL   \n",
       "2                   3  5 DE FEBRERO ORIENTE 2  JARDÍN VECINAL   \n",
       "3                   4  5 DE FEBRERO ORIENTE 3  JARDÍN VECINAL   \n",
       "4                   5  5 DE FEBRERO ORIENTE 4  JARDÍN VECINAL   \n",
       "\n",
       "                                           UBICACION  \\\n",
       "0  CALLE PRIMERO DE MAYO ENTRE 16 DE SEPTIEMBRE Y...   \n",
       "1                        ENTRE RETORNO A Y RETORNO B   \n",
       "2                       ENTRE RETORNO B Y REOTORNO C   \n",
       "3                   ENTRE RETORNO C Y CALLE 27 NORTE   \n",
       "4                   5 DE FEBRERO ORIENTE Y RETORNO A   \n",
       "\n",
       "                          COLONIA SUPERFICIE (EN METROS CUADRADOS)   LATITUD  \\\n",
       "0                       3 DE MAYO                             1.20  19.08563   \n",
       "1  INFONAVIT BOSQUES 5 DE FEBRERO                           139.00  19.08349   \n",
       "2  INFONAVIT BOSQUES 5 DE FEBRERO                           157.00  19.08336   \n",
       "3  INFONAVIT BOSQUES 5 DE FEBRERO                            76.20  19.08323   \n",
       "4  INFONAVIT BOSQUES 5 DE FEBRERO                           103.00  19.08364   \n",
       "\n",
       "   LONGITUD                    geometry  \n",
       "0 -98.16091  POINT (-98.16091 19.08563)  \n",
       "1 -98.20219  POINT (-98.20219 19.08349)  \n",
       "2 -98.20180  POINT (-98.20180 19.08336)  \n",
       "3 -98.20134  POINT (-98.20134 19.08323)  \n",
       "4 -98.20259  POINT (-98.20259 19.08364)  "
      ]
     },
     "execution_count": 2,
     "metadata": {},
     "output_type": "execute_result"
    }
   ],
   "source": [
    "schema = 'espacios_publicos'\n",
    "table = 'ep_puebla'\n",
    "gdf = aup.gdf_from_db(table,schema)\n",
    "gdf.head()"
   ]
  },
  {
   "cell_type": "code",
   "execution_count": 11,
   "id": "d5dd23ff-5ebb-4874-acb1-d214f7453e37",
   "metadata": {
    "tags": []
   },
   "outputs": [
    {
     "data": {
      "text/plain": [
       "(509, 9)"
      ]
     },
     "execution_count": 11,
     "metadata": {},
     "output_type": "execute_result"
    }
   ],
   "source": [
    "gdf.shape"
   ]
  },
  {
   "cell_type": "markdown",
   "id": "3f1d29aa-cc80-4491-b20c-b5189761a002",
   "metadata": {},
   "source": [
    "## Hexágonos Puebla"
   ]
  },
  {
   "cell_type": "code",
   "execution_count": 3,
   "id": "3edf4d80-639e-4a4a-826a-cadff6494b0c",
   "metadata": {},
   "outputs": [
    {
     "data": {
      "text/html": [
       "<div>\n",
       "<style scoped>\n",
       "    .dataframe tbody tr th:only-of-type {\n",
       "        vertical-align: middle;\n",
       "    }\n",
       "\n",
       "    .dataframe tbody tr th {\n",
       "        vertical-align: top;\n",
       "    }\n",
       "\n",
       "    .dataframe thead th {\n",
       "        text-align: right;\n",
       "    }\n",
       "</style>\n",
       "<table border=\"1\" class=\"dataframe\">\n",
       "  <thead>\n",
       "    <tr style=\"text-align: right;\">\n",
       "      <th></th>\n",
       "      <th>hex_id</th>\n",
       "      <th>geometry</th>\n",
       "      <th>city</th>\n",
       "    </tr>\n",
       "  </thead>\n",
       "  <tbody>\n",
       "    <tr>\n",
       "      <th>0</th>\n",
       "      <td>8b4995c164adfff</td>\n",
       "      <td>POLYGON ((-98.46955 19.22028, -98.46938 19.220...</td>\n",
       "      <td>Puebla</td>\n",
       "    </tr>\n",
       "    <tr>\n",
       "      <th>1</th>\n",
       "      <td>8b4995c16414fff</td>\n",
       "      <td>POLYGON ((-98.46975 19.21884, -98.46957 19.219...</td>\n",
       "      <td>Puebla</td>\n",
       "    </tr>\n",
       "    <tr>\n",
       "      <th>2</th>\n",
       "      <td>8b4995c16528fff</td>\n",
       "      <td>POLYGON ((-98.47282 19.21578, -98.47264 19.216...</td>\n",
       "      <td>Puebla</td>\n",
       "    </tr>\n",
       "    <tr>\n",
       "      <th>3</th>\n",
       "      <td>8b4995c1649bfff</td>\n",
       "      <td>POLYGON ((-98.46709 19.22219, -98.46691 19.222...</td>\n",
       "      <td>Puebla</td>\n",
       "    </tr>\n",
       "    <tr>\n",
       "      <th>4</th>\n",
       "      <td>8b4995c16581fff</td>\n",
       "      <td>POLYGON ((-98.46861 19.21750, -98.46843 19.217...</td>\n",
       "      <td>Puebla</td>\n",
       "    </tr>\n",
       "  </tbody>\n",
       "</table>\n",
       "</div>"
      ],
      "text/plain": [
       "            hex_id                                           geometry    city\n",
       "0  8b4995c164adfff  POLYGON ((-98.46955 19.22028, -98.46938 19.220...  Puebla\n",
       "1  8b4995c16414fff  POLYGON ((-98.46975 19.21884, -98.46957 19.219...  Puebla\n",
       "2  8b4995c16528fff  POLYGON ((-98.47282 19.21578, -98.47264 19.216...  Puebla\n",
       "3  8b4995c1649bfff  POLYGON ((-98.46709 19.22219, -98.46691 19.222...  Puebla\n",
       "4  8b4995c16581fff  POLYGON ((-98.46861 19.21750, -98.46843 19.217...  Puebla"
      ]
     },
     "execution_count": 3,
     "metadata": {},
     "output_type": "execute_result"
    }
   ],
   "source": [
    "hex_schema = \"raster_analysis\"\n",
    "hex_table = \"ndmi_analysis_hex\"\n",
    "c = 'Puebla'\n",
    "n = '11'\n",
    "query = f'SELECT hex_id, geometry, city FROM {hex_schema}.{hex_table} WHERE \\\"city\\\" LIKE \\'{c}\\' AND \\\"res\\\" = {n}'\n",
    "hex_gdl = aup.gdf_from_query(query, geometry_col='geometry')\n",
    "#query = 'fSelect geometry, hex_id, city from raster_analysis.ndvi_analysis where city = guadalajara and res = 11'\n",
    "hex_gdl.head(5)"
   ]
  },
  {
   "cell_type": "code",
   "execution_count": 4,
   "id": "63934812-6283-4ccb-8d38-9b89f7ce6c4a",
   "metadata": {
    "tags": []
   },
   "outputs": [
    {
     "data": {
      "text/plain": [
       "(400000, 3)"
      ]
     },
     "execution_count": 4,
     "metadata": {},
     "output_type": "execute_result"
    }
   ],
   "source": [
    "hex_gdl.shape"
   ]
  },
  {
   "cell_type": "code",
   "execution_count": 6,
   "id": "f224a99a-4221-4fb2-a4da-dac85a0fbcf4",
   "metadata": {},
   "outputs": [
    {
     "name": "stdout",
     "output_type": "stream",
     "text": [
      "CRS of gdf: EPSG:4326\n",
      "CRS of hex_gdl: EPSG:4326\n"
     ]
    }
   ],
   "source": [
    "gdf = gdf.set_crs(\"EPSG:4326\")\n",
    "hex_gdl = hex_gdl.set_crs(\"EPSG:4326\")\n",
    "print(\"CRS of gdf:\", gdf.crs)\n",
    "print(\"CRS of hex_gdl:\", hex_gdl.crs)"
   ]
  },
  {
   "cell_type": "markdown",
   "id": "afd8cb98-6659-4eb1-88a2-2b4e9cf5907b",
   "metadata": {},
   "source": [
    "## Dummy Variables\n",
    "1 = Hexágonos que cuentan con espacios públicos\n",
    "\n",
    "0 = Hexágonos que no cuentan con espacios públicos"
   ]
  },
  {
   "cell_type": "code",
   "execution_count": 10,
   "id": "32c47c29-6d21-44c1-9c77-6e2d9c5592ac",
   "metadata": {
    "tags": []
   },
   "outputs": [
    {
     "data": {
      "text/html": [
       "<div>\n",
       "<style scoped>\n",
       "    .dataframe tbody tr th:only-of-type {\n",
       "        vertical-align: middle;\n",
       "    }\n",
       "\n",
       "    .dataframe tbody tr th {\n",
       "        vertical-align: top;\n",
       "    }\n",
       "\n",
       "    .dataframe thead th {\n",
       "        text-align: right;\n",
       "    }\n",
       "</style>\n",
       "<table border=\"1\" class=\"dataframe\">\n",
       "  <thead>\n",
       "    <tr style=\"text-align: right;\">\n",
       "      <th></th>\n",
       "      <th>hex_id</th>\n",
       "      <th>geometry</th>\n",
       "      <th>city</th>\n",
       "      <th>EspPublico</th>\n",
       "    </tr>\n",
       "  </thead>\n",
       "  <tbody>\n",
       "    <tr>\n",
       "      <th>0</th>\n",
       "      <td>8b4995c164adfff</td>\n",
       "      <td>POLYGON ((-98.46955 19.22028, -98.46938 19.220...</td>\n",
       "      <td>Puebla</td>\n",
       "      <td>0</td>\n",
       "    </tr>\n",
       "    <tr>\n",
       "      <th>1</th>\n",
       "      <td>8b4995c16414fff</td>\n",
       "      <td>POLYGON ((-98.46975 19.21884, -98.46957 19.219...</td>\n",
       "      <td>Puebla</td>\n",
       "      <td>0</td>\n",
       "    </tr>\n",
       "    <tr>\n",
       "      <th>2</th>\n",
       "      <td>8b4995c16528fff</td>\n",
       "      <td>POLYGON ((-98.47282 19.21578, -98.47264 19.216...</td>\n",
       "      <td>Puebla</td>\n",
       "      <td>0</td>\n",
       "    </tr>\n",
       "    <tr>\n",
       "      <th>3</th>\n",
       "      <td>8b4995c1649bfff</td>\n",
       "      <td>POLYGON ((-98.46709 19.22219, -98.46691 19.222...</td>\n",
       "      <td>Puebla</td>\n",
       "      <td>0</td>\n",
       "    </tr>\n",
       "    <tr>\n",
       "      <th>4</th>\n",
       "      <td>8b4995c16581fff</td>\n",
       "      <td>POLYGON ((-98.46861 19.21750, -98.46843 19.217...</td>\n",
       "      <td>Puebla</td>\n",
       "      <td>0</td>\n",
       "    </tr>\n",
       "  </tbody>\n",
       "</table>\n",
       "</div>"
      ],
      "text/plain": [
       "            hex_id                                           geometry    city  \\\n",
       "0  8b4995c164adfff  POLYGON ((-98.46955 19.22028, -98.46938 19.220...  Puebla   \n",
       "1  8b4995c16414fff  POLYGON ((-98.46975 19.21884, -98.46957 19.219...  Puebla   \n",
       "2  8b4995c16528fff  POLYGON ((-98.47282 19.21578, -98.47264 19.216...  Puebla   \n",
       "3  8b4995c1649bfff  POLYGON ((-98.46709 19.22219, -98.46691 19.222...  Puebla   \n",
       "4  8b4995c16581fff  POLYGON ((-98.46861 19.21750, -98.46843 19.217...  Puebla   \n",
       "\n",
       "   EspPublico  \n",
       "0           0  \n",
       "1           0  \n",
       "2           0  \n",
       "3           0  \n",
       "4           0  "
      ]
     },
     "execution_count": 10,
     "metadata": {},
     "output_type": "execute_result"
    }
   ],
   "source": [
    "gdf_sindex = gdf.sindex\n",
    "\n",
    "# Create a Series of boolean values indicating which hexagons intersect with public spaces\n",
    "intersects_public_spaces = hex_gdl['geometry'].apply(lambda geom: any(gdf_sindex.query(geom)))\n",
    "\n",
    "hex_gdl['EspPublico'] = intersects_public_spaces.astype(int)\n",
    "hex_gdl.head()"
   ]
  },
  {
   "cell_type": "code",
   "execution_count": 8,
   "id": "dd321d0a-c595-4e27-a283-06d861a55628",
   "metadata": {
    "tags": []
   },
   "outputs": [
    {
     "name": "stdout",
     "output_type": "stream",
     "text": [
      "Números de hexagonos sin Espacios Públicos: 399316 \n",
      "Número de Hexágonos con Espacios Públicos: 684\n",
      "Número total de Hexágonos: 400000\n"
     ]
    }
   ],
   "source": [
    "contador_ceros = np.sum(hex_gdl['EspPublico'] == 0)\n",
    "contador_uno = np.sum(hex_gdl['EspPublico'])\n",
    "print(f'Números de hexagonos sin Espacios Públicos: {contador_ceros} \\nNúmero de Hexágonos con Espacios Públicos: {contador_uno}\\nNúmero total de Hexágonos: {contador_ceros+contador_uno}')"
   ]
  },
  {
   "cell_type": "markdown",
   "id": "53a96ca3-36a6-4482-a8c5-155bec50f725",
   "metadata": {},
   "source": [
    "Casi el 85% de los hexágonos no cuenta con Espacio Público, los métodos de clasificación van a estar muy sesgados por la discrepancia. Entonces tenemos que hacer que sean 50% ambos pero para esto vamos a hacer un submuestreo random con 50,000 y 50,000 de cada tipo de hexágono pero eso se hará después de juntar todo con el otro GeoDataFrame. Esto es porque nada más tenemos 100,000 hexágonos comparados al de Guadalajara que tenía 400,000."
   ]
  },
  {
   "cell_type": "markdown",
   "id": "0117d09f-c51f-491e-9a59-a7eb00ed8b3d",
   "metadata": {},
   "source": [
    "## Hexágonos con info de humedad, vegetación y temperatura"
   ]
  },
  {
   "cell_type": "markdown",
   "id": "9a940298-cc09-4a6a-b89d-7f5b956f109a",
   "metadata": {},
   "source": [
    "select {ndmi}.hex_id, {ndmi}.geometry, {ndmi}.city, {ndmi}.res,\n",
    "\n",
    "ndvi_mean, ndvi_std, ndvi_median, ndvi_max, ndvi_min, ndvi_diff, ndvi_tend,\n",
    "\n",
    "ndmi_mean, ndmi_median, ndmi_diff\n",
    "\n",
    "from raster_analysis.ndmi_analysis_hex ndmi\n",
    "\n",
    "inner join raster_analysis.ndvi_analysis_hex ndvi\n",
    "\n",
    "on ndmi.hex_id = ndvi.hex_id \n",
    "\n",
    "where ndmi.city  = 'Queretaro' and ndmi.res = 11"
   ]
  },
  {
   "cell_type": "code",
   "execution_count": 9,
   "id": "b490fe14-42f0-4cc5-ac0e-2050823bb05b",
   "metadata": {},
   "outputs": [
    {
     "data": {
      "text/html": [
       "<div>\n",
       "<style scoped>\n",
       "    .dataframe tbody tr th:only-of-type {\n",
       "        vertical-align: middle;\n",
       "    }\n",
       "\n",
       "    .dataframe tbody tr th {\n",
       "        vertical-align: top;\n",
       "    }\n",
       "\n",
       "    .dataframe thead th {\n",
       "        text-align: right;\n",
       "    }\n",
       "</style>\n",
       "<table border=\"1\" class=\"dataframe\">\n",
       "  <thead>\n",
       "    <tr style=\"text-align: right;\">\n",
       "      <th></th>\n",
       "      <th>hex_id</th>\n",
       "      <th>geometry</th>\n",
       "      <th>city</th>\n",
       "      <th>res</th>\n",
       "      <th>ndvi_mean</th>\n",
       "      <th>ndvi_std</th>\n",
       "      <th>ndvi_median</th>\n",
       "      <th>ndvi_max</th>\n",
       "      <th>ndvi_min</th>\n",
       "      <th>ndvi_diff</th>\n",
       "      <th>ndvi_tend</th>\n",
       "      <th>ndmi_mean</th>\n",
       "      <th>ndmi_median</th>\n",
       "      <th>ndmi_diff</th>\n",
       "    </tr>\n",
       "  </thead>\n",
       "  <tbody>\n",
       "    <tr>\n",
       "      <th>0</th>\n",
       "      <td>8b4983d1ba46fff</td>\n",
       "      <td>POLYGON ((-100.53017 20.51871, -100.52999 20.5...</td>\n",
       "      <td>Queretaro</td>\n",
       "      <td>11</td>\n",
       "      <td>0.241042</td>\n",
       "      <td>0.122650</td>\n",
       "      <td>0.201550</td>\n",
       "      <td>0.438644</td>\n",
       "      <td>0.145948</td>\n",
       "      <td>0.292696</td>\n",
       "      <td>-0.001347</td>\n",
       "      <td>-0.121908</td>\n",
       "      <td>-0.161379</td>\n",
       "      <td>0.345450</td>\n",
       "    </tr>\n",
       "    <tr>\n",
       "      <th>1</th>\n",
       "      <td>8b4983d19099fff</td>\n",
       "      <td>POLYGON ((-100.53786 20.51092, -100.53768 20.5...</td>\n",
       "      <td>Queretaro</td>\n",
       "      <td>11</td>\n",
       "      <td>0.254851</td>\n",
       "      <td>0.102009</td>\n",
       "      <td>0.232826</td>\n",
       "      <td>0.392993</td>\n",
       "      <td>0.163497</td>\n",
       "      <td>0.229496</td>\n",
       "      <td>-0.001809</td>\n",
       "      <td>-0.040620</td>\n",
       "      <td>-0.070103</td>\n",
       "      <td>0.251981</td>\n",
       "    </tr>\n",
       "    <tr>\n",
       "      <th>2</th>\n",
       "      <td>8b4983d2b458fff</td>\n",
       "      <td>POLYGON ((-100.60660 20.45927, -100.60642 20.4...</td>\n",
       "      <td>Queretaro</td>\n",
       "      <td>11</td>\n",
       "      <td>0.313791</td>\n",
       "      <td>0.150822</td>\n",
       "      <td>0.255961</td>\n",
       "      <td>0.572973</td>\n",
       "      <td>0.167546</td>\n",
       "      <td>0.405426</td>\n",
       "      <td>-0.002164</td>\n",
       "      <td>-0.017576</td>\n",
       "      <td>-0.072553</td>\n",
       "      <td>0.390034</td>\n",
       "    </tr>\n",
       "    <tr>\n",
       "      <th>3</th>\n",
       "      <td>8b4983d2b403fff</td>\n",
       "      <td>POLYGON ((-100.60422 20.45659, -100.60405 20.4...</td>\n",
       "      <td>Queretaro</td>\n",
       "      <td>11</td>\n",
       "      <td>0.281765</td>\n",
       "      <td>0.173203</td>\n",
       "      <td>0.196383</td>\n",
       "      <td>0.609550</td>\n",
       "      <td>0.122954</td>\n",
       "      <td>0.486597</td>\n",
       "      <td>-0.000501</td>\n",
       "      <td>-0.052168</td>\n",
       "      <td>-0.096644</td>\n",
       "      <td>0.430602</td>\n",
       "    </tr>\n",
       "    <tr>\n",
       "      <th>4</th>\n",
       "      <td>8b4983d2b599fff</td>\n",
       "      <td>POLYGON ((-100.60120 20.45556, -100.60102 20.4...</td>\n",
       "      <td>Queretaro</td>\n",
       "      <td>11</td>\n",
       "      <td>0.324605</td>\n",
       "      <td>0.184907</td>\n",
       "      <td>0.250505</td>\n",
       "      <td>0.673712</td>\n",
       "      <td>0.161954</td>\n",
       "      <td>0.511758</td>\n",
       "      <td>-0.001679</td>\n",
       "      <td>-0.054337</td>\n",
       "      <td>-0.104475</td>\n",
       "      <td>0.545667</td>\n",
       "    </tr>\n",
       "    <tr>\n",
       "      <th>5</th>\n",
       "      <td>8b4983d2b4a2fff</td>\n",
       "      <td>POLYGON ((-100.60108 20.45653, -100.60091 20.4...</td>\n",
       "      <td>Queretaro</td>\n",
       "      <td>11</td>\n",
       "      <td>0.360760</td>\n",
       "      <td>0.146593</td>\n",
       "      <td>0.335531</td>\n",
       "      <td>0.605897</td>\n",
       "      <td>0.173569</td>\n",
       "      <td>0.432329</td>\n",
       "      <td>-0.000475</td>\n",
       "      <td>-0.012363</td>\n",
       "      <td>-0.035256</td>\n",
       "      <td>0.411367</td>\n",
       "    </tr>\n",
       "    <tr>\n",
       "      <th>6</th>\n",
       "      <td>8b4983d2b45dfff</td>\n",
       "      <td>POLYGON ((-100.60707 20.45907, -100.60689 20.4...</td>\n",
       "      <td>Queretaro</td>\n",
       "      <td>11</td>\n",
       "      <td>0.311230</td>\n",
       "      <td>0.171977</td>\n",
       "      <td>0.239997</td>\n",
       "      <td>0.609299</td>\n",
       "      <td>0.145596</td>\n",
       "      <td>0.463703</td>\n",
       "      <td>-0.001349</td>\n",
       "      <td>-0.035402</td>\n",
       "      <td>-0.077655</td>\n",
       "      <td>0.391934</td>\n",
       "    </tr>\n",
       "    <tr>\n",
       "      <th>7</th>\n",
       "      <td>8b4983d2b59dfff</td>\n",
       "      <td>POLYGON ((-100.60126 20.45508, -100.60108 20.4...</td>\n",
       "      <td>Queretaro</td>\n",
       "      <td>11</td>\n",
       "      <td>0.310523</td>\n",
       "      <td>0.195602</td>\n",
       "      <td>0.224173</td>\n",
       "      <td>0.669565</td>\n",
       "      <td>0.124714</td>\n",
       "      <td>0.544851</td>\n",
       "      <td>-0.001795</td>\n",
       "      <td>-0.062393</td>\n",
       "      <td>-0.111208</td>\n",
       "      <td>0.552181</td>\n",
       "    </tr>\n",
       "    <tr>\n",
       "      <th>8</th>\n",
       "      <td>8b4983d2b440fff</td>\n",
       "      <td>POLYGON ((-100.60719 20.45811, -100.60701 20.4...</td>\n",
       "      <td>Queretaro</td>\n",
       "      <td>11</td>\n",
       "      <td>0.230548</td>\n",
       "      <td>0.122678</td>\n",
       "      <td>0.189899</td>\n",
       "      <td>0.440805</td>\n",
       "      <td>0.107198</td>\n",
       "      <td>0.333607</td>\n",
       "      <td>-0.000907</td>\n",
       "      <td>-0.034039</td>\n",
       "      <td>-0.077330</td>\n",
       "      <td>0.335211</td>\n",
       "    </tr>\n",
       "    <tr>\n",
       "      <th>9</th>\n",
       "      <td>8b4983d2b495fff</td>\n",
       "      <td>POLYGON ((-100.60008 20.45740, -100.59990 20.4...</td>\n",
       "      <td>Queretaro</td>\n",
       "      <td>11</td>\n",
       "      <td>0.379716</td>\n",
       "      <td>0.183916</td>\n",
       "      <td>0.386669</td>\n",
       "      <td>0.713963</td>\n",
       "      <td>0.162529</td>\n",
       "      <td>0.551434</td>\n",
       "      <td>-0.005563</td>\n",
       "      <td>-0.010611</td>\n",
       "      <td>-0.037118</td>\n",
       "      <td>0.446434</td>\n",
       "    </tr>\n",
       "  </tbody>\n",
       "</table>\n",
       "</div>"
      ],
      "text/plain": [
       "            hex_id                                           geometry  \\\n",
       "0  8b4983d1ba46fff  POLYGON ((-100.53017 20.51871, -100.52999 20.5...   \n",
       "1  8b4983d19099fff  POLYGON ((-100.53786 20.51092, -100.53768 20.5...   \n",
       "2  8b4983d2b458fff  POLYGON ((-100.60660 20.45927, -100.60642 20.4...   \n",
       "3  8b4983d2b403fff  POLYGON ((-100.60422 20.45659, -100.60405 20.4...   \n",
       "4  8b4983d2b599fff  POLYGON ((-100.60120 20.45556, -100.60102 20.4...   \n",
       "5  8b4983d2b4a2fff  POLYGON ((-100.60108 20.45653, -100.60091 20.4...   \n",
       "6  8b4983d2b45dfff  POLYGON ((-100.60707 20.45907, -100.60689 20.4...   \n",
       "7  8b4983d2b59dfff  POLYGON ((-100.60126 20.45508, -100.60108 20.4...   \n",
       "8  8b4983d2b440fff  POLYGON ((-100.60719 20.45811, -100.60701 20.4...   \n",
       "9  8b4983d2b495fff  POLYGON ((-100.60008 20.45740, -100.59990 20.4...   \n",
       "\n",
       "        city  res  ndvi_mean  ndvi_std  ndvi_median  ndvi_max  ndvi_min  \\\n",
       "0  Queretaro   11   0.241042  0.122650     0.201550  0.438644  0.145948   \n",
       "1  Queretaro   11   0.254851  0.102009     0.232826  0.392993  0.163497   \n",
       "2  Queretaro   11   0.313791  0.150822     0.255961  0.572973  0.167546   \n",
       "3  Queretaro   11   0.281765  0.173203     0.196383  0.609550  0.122954   \n",
       "4  Queretaro   11   0.324605  0.184907     0.250505  0.673712  0.161954   \n",
       "5  Queretaro   11   0.360760  0.146593     0.335531  0.605897  0.173569   \n",
       "6  Queretaro   11   0.311230  0.171977     0.239997  0.609299  0.145596   \n",
       "7  Queretaro   11   0.310523  0.195602     0.224173  0.669565  0.124714   \n",
       "8  Queretaro   11   0.230548  0.122678     0.189899  0.440805  0.107198   \n",
       "9  Queretaro   11   0.379716  0.183916     0.386669  0.713963  0.162529   \n",
       "\n",
       "   ndvi_diff  ndvi_tend  ndmi_mean  ndmi_median  ndmi_diff  \n",
       "0   0.292696  -0.001347  -0.121908    -0.161379   0.345450  \n",
       "1   0.229496  -0.001809  -0.040620    -0.070103   0.251981  \n",
       "2   0.405426  -0.002164  -0.017576    -0.072553   0.390034  \n",
       "3   0.486597  -0.000501  -0.052168    -0.096644   0.430602  \n",
       "4   0.511758  -0.001679  -0.054337    -0.104475   0.545667  \n",
       "5   0.432329  -0.000475  -0.012363    -0.035256   0.411367  \n",
       "6   0.463703  -0.001349  -0.035402    -0.077655   0.391934  \n",
       "7   0.544851  -0.001795  -0.062393    -0.111208   0.552181  \n",
       "8   0.333607  -0.000907  -0.034039    -0.077330   0.335211  \n",
       "9   0.551434  -0.005563  -0.010611    -0.037118   0.446434  "
      ]
     },
     "execution_count": 9,
     "metadata": {},
     "output_type": "execute_result"
    }
   ],
   "source": [
    "hex_schema = \"raster_analysis\"\n",
    "hex_tablee = \"ndvi_analysis_hex\"\n",
    "hex_table = \"ndmi_analysis_hex\"\n",
    "ndmi = \"ndmi\"\n",
    "ndvi = \"ndvi\"\n",
    "hex_id = \"hex_id\"\n",
    "c = 'Queretaro'\n",
    "n = '11'\n",
    "query = f'SELECT {ndmi}.hex_id, {ndmi}.geometry, {ndmi}.city, {ndmi}.res, ndvi_mean, ndvi_std, ndvi_median, ndvi_max, ndvi_min, ndvi_diff, ndvi_tend,ndmi_mean, ndmi_median, ndmi_diff FROM {hex_schema}.{hex_table} {ndmi} INNER JOIN {hex_schema}.{hex_tablee} {ndvi} ON {ndmi}.{hex_id} = {ndvi}.{hex_id} WHERE {ndmi}.\\\"city\\\" = \\'{c}\\' AND {ndmi}.\\\"res\\\" = {n}'\n",
    "intt_gdl = aup.gdf_from_query(query, geometry_col='geometry')\n",
    "intt_gdl.head(10)"
   ]
  },
  {
   "cell_type": "code",
   "execution_count": 12,
   "id": "e1ab3fb4-ad32-4d03-8972-528ff505a9be",
   "metadata": {
    "tags": []
   },
   "outputs": [
    {
     "data": {
      "text/plain": [
       "(99919, 14)"
      ]
     },
     "execution_count": 12,
     "metadata": {},
     "output_type": "execute_result"
    }
   ],
   "source": [
    "intt_gdl.shape"
   ]
  },
  {
   "cell_type": "markdown",
   "id": "3573a856-d6a8-47c5-9511-c3ead1f22f77",
   "metadata": {},
   "source": [
    "## Intersección"
   ]
  },
  {
   "cell_type": "code",
   "execution_count": 11,
   "id": "b3ccd6fc-d015-4ca2-b82c-9b465ce77552",
   "metadata": {},
   "outputs": [],
   "source": [
    "intt_gdl = intt_gdl.set_crs(\"EPSG:4326\")\n",
    "hex_gdl = hex_gdl.set_crs(\"EPSG:4326\")"
   ]
  },
  {
   "cell_type": "code",
   "execution_count": 13,
   "id": "7bea388f-410c-4e31-8fa0-c9934b1da302",
   "metadata": {
    "tags": []
   },
   "outputs": [
    {
     "data": {
      "text/html": [
       "<div>\n",
       "<style scoped>\n",
       "    .dataframe tbody tr th:only-of-type {\n",
       "        vertical-align: middle;\n",
       "    }\n",
       "\n",
       "    .dataframe tbody tr th {\n",
       "        vertical-align: top;\n",
       "    }\n",
       "\n",
       "    .dataframe thead th {\n",
       "        text-align: right;\n",
       "    }\n",
       "</style>\n",
       "<table border=\"1\" class=\"dataframe\">\n",
       "  <thead>\n",
       "    <tr style=\"text-align: right;\">\n",
       "      <th></th>\n",
       "      <th>hex_id</th>\n",
       "      <th>geometry</th>\n",
       "      <th>city</th>\n",
       "      <th>EspPublico</th>\n",
       "      <th>ndvi_mean</th>\n",
       "      <th>ndvi_std</th>\n",
       "      <th>ndvi_median</th>\n",
       "      <th>ndvi_max</th>\n",
       "      <th>ndvi_min</th>\n",
       "      <th>ndvi_diff</th>\n",
       "      <th>ndvi_tend</th>\n",
       "      <th>ndmi_mean</th>\n",
       "      <th>ndmi_median</th>\n",
       "      <th>ndmi_diff</th>\n",
       "    </tr>\n",
       "  </thead>\n",
       "  <tbody>\n",
       "    <tr>\n",
       "      <th>0</th>\n",
       "      <td>8b4983d2b253fff</td>\n",
       "      <td>POLYGON ((-100.62070 20.46531, -100.62053 20.4...</td>\n",
       "      <td>Queretaro</td>\n",
       "      <td>0</td>\n",
       "      <td>0.449207</td>\n",
       "      <td>0.110664</td>\n",
       "      <td>0.446942</td>\n",
       "      <td>0.618048</td>\n",
       "      <td>0.321921</td>\n",
       "      <td>0.296127</td>\n",
       "      <td>-0.001214</td>\n",
       "      <td>0.078849</td>\n",
       "      <td>0.043693</td>\n",
       "      <td>0.284751</td>\n",
       "    </tr>\n",
       "    <tr>\n",
       "      <th>16</th>\n",
       "      <td>8b4983d2b255fff</td>\n",
       "      <td>POLYGON ((-100.62123 20.46463, -100.62106 20.4...</td>\n",
       "      <td>Queretaro</td>\n",
       "      <td>0</td>\n",
       "      <td>0.449207</td>\n",
       "      <td>0.110664</td>\n",
       "      <td>0.446942</td>\n",
       "      <td>0.618048</td>\n",
       "      <td>0.321921</td>\n",
       "      <td>0.296127</td>\n",
       "      <td>-0.001214</td>\n",
       "      <td>0.078849</td>\n",
       "      <td>0.043693</td>\n",
       "      <td>0.284751</td>\n",
       "    </tr>\n",
       "    <tr>\n",
       "      <th>575</th>\n",
       "      <td>8b4983d2b256fff</td>\n",
       "      <td>POLYGON ((-100.62035 20.46454, -100.62017 20.4...</td>\n",
       "      <td>Queretaro</td>\n",
       "      <td>0</td>\n",
       "      <td>0.449207</td>\n",
       "      <td>0.110664</td>\n",
       "      <td>0.446942</td>\n",
       "      <td>0.618048</td>\n",
       "      <td>0.321921</td>\n",
       "      <td>0.296127</td>\n",
       "      <td>-0.001214</td>\n",
       "      <td>0.078849</td>\n",
       "      <td>0.043693</td>\n",
       "      <td>0.284751</td>\n",
       "    </tr>\n",
       "    <tr>\n",
       "      <th>587</th>\n",
       "      <td>8b4983d2b252fff</td>\n",
       "      <td>POLYGON ((-100.62029 20.46502, -100.62011 20.4...</td>\n",
       "      <td>Queretaro</td>\n",
       "      <td>0</td>\n",
       "      <td>0.449207</td>\n",
       "      <td>0.110664</td>\n",
       "      <td>0.446942</td>\n",
       "      <td>0.618048</td>\n",
       "      <td>0.321921</td>\n",
       "      <td>0.296127</td>\n",
       "      <td>-0.001214</td>\n",
       "      <td>0.078849</td>\n",
       "      <td>0.043693</td>\n",
       "      <td>0.284751</td>\n",
       "    </tr>\n",
       "    <tr>\n",
       "      <th>704</th>\n",
       "      <td>8b4983d2b251fff</td>\n",
       "      <td>POLYGON ((-100.62118 20.46511, -100.62100 20.4...</td>\n",
       "      <td>Queretaro</td>\n",
       "      <td>0</td>\n",
       "      <td>0.449207</td>\n",
       "      <td>0.110664</td>\n",
       "      <td>0.446942</td>\n",
       "      <td>0.618048</td>\n",
       "      <td>0.321921</td>\n",
       "      <td>0.296127</td>\n",
       "      <td>-0.001214</td>\n",
       "      <td>0.078849</td>\n",
       "      <td>0.043693</td>\n",
       "      <td>0.284751</td>\n",
       "    </tr>\n",
       "  </tbody>\n",
       "</table>\n",
       "</div>"
      ],
      "text/plain": [
       "              hex_id                                           geometry  \\\n",
       "0    8b4983d2b253fff  POLYGON ((-100.62070 20.46531, -100.62053 20.4...   \n",
       "16   8b4983d2b255fff  POLYGON ((-100.62123 20.46463, -100.62106 20.4...   \n",
       "575  8b4983d2b256fff  POLYGON ((-100.62035 20.46454, -100.62017 20.4...   \n",
       "587  8b4983d2b252fff  POLYGON ((-100.62029 20.46502, -100.62011 20.4...   \n",
       "704  8b4983d2b251fff  POLYGON ((-100.62118 20.46511, -100.62100 20.4...   \n",
       "\n",
       "          city  EspPublico  ndvi_mean  ndvi_std  ndvi_median  ndvi_max  \\\n",
       "0    Queretaro           0   0.449207  0.110664     0.446942  0.618048   \n",
       "16   Queretaro           0   0.449207  0.110664     0.446942  0.618048   \n",
       "575  Queretaro           0   0.449207  0.110664     0.446942  0.618048   \n",
       "587  Queretaro           0   0.449207  0.110664     0.446942  0.618048   \n",
       "704  Queretaro           0   0.449207  0.110664     0.446942  0.618048   \n",
       "\n",
       "     ndvi_min  ndvi_diff  ndvi_tend  ndmi_mean  ndmi_median  ndmi_diff  \n",
       "0    0.321921   0.296127  -0.001214   0.078849     0.043693   0.284751  \n",
       "16   0.321921   0.296127  -0.001214   0.078849     0.043693   0.284751  \n",
       "575  0.321921   0.296127  -0.001214   0.078849     0.043693   0.284751  \n",
       "587  0.321921   0.296127  -0.001214   0.078849     0.043693   0.284751  \n",
       "704  0.321921   0.296127  -0.001214   0.078849     0.043693   0.284751  "
      ]
     },
     "execution_count": 13,
     "metadata": {},
     "output_type": "execute_result"
    }
   ],
   "source": [
    "inter = gpd.sjoin(hex_gdl, intt_gdl, op='intersects')\n",
    "inter.drop(columns=['index_right','city_right','res','hex_id_right'], inplace=True)\n",
    "inter.rename(columns={\"hex_id_left\": \"hex_id\",\"city_left\": \"city\"}, inplace=True)\n",
    "inter.head()"
   ]
  },
  {
   "cell_type": "code",
   "execution_count": 14,
   "id": "b437914a-28ea-4e5e-9c70-ca37134fe7a6",
   "metadata": {},
   "outputs": [
    {
     "data": {
      "text/plain": [
       "hex_id         0\n",
       "geometry       0\n",
       "city           0\n",
       "EspPublico     0\n",
       "ndvi_mean      0\n",
       "ndvi_std       0\n",
       "ndvi_median    0\n",
       "ndvi_max       0\n",
       "ndvi_min       0\n",
       "ndvi_diff      0\n",
       "ndvi_tend      0\n",
       "ndmi_mean      0\n",
       "ndmi_median    0\n",
       "ndmi_diff      0\n",
       "dtype: int64"
      ]
     },
     "execution_count": 14,
     "metadata": {},
     "output_type": "execute_result"
    }
   ],
   "source": [
    "pd.isna(inter).sum()"
   ]
  },
  {
   "cell_type": "code",
   "execution_count": 15,
   "id": "105017ac-eec4-4511-b569-990650feb270",
   "metadata": {
    "tags": []
   },
   "outputs": [
    {
     "name": "stdout",
     "output_type": "stream",
     "text": [
      "Números de hexagonos sin Espacios Públicos: 576963 \n",
      "Número de Hexágonos con Espacios Públicos: 100432\n",
      "Número total de Hexágonos: 677395\n"
     ]
    }
   ],
   "source": [
    "cont_ceros = np.sum(inter['EspPublico'] == 0)\n",
    "cont_uno = np.sum(inter['EspPublico'])\n",
    "print(f'Números de hexagonos sin Espacios Públicos: {cont_ceros} \\nNúmero de Hexágonos con Espacios Públicos: {cont_uno}\\nNúmero total de Hexágonos: {cont_ceros+cont_uno}')"
   ]
  },
  {
   "cell_type": "code",
   "execution_count": 11,
   "id": "027e511f-a871-41f5-954c-c1401f067e57",
   "metadata": {
    "tags": []
   },
   "outputs": [
    {
     "data": {
      "text/plain": [
       "array([0, 1])"
      ]
     },
     "execution_count": 11,
     "metadata": {},
     "output_type": "execute_result"
    }
   ],
   "source": [
    "inter['EspPublico'].unique()"
   ]
  },
  {
   "cell_type": "markdown",
   "id": "1c2d6c8e-f21e-482e-b007-821bbea5576b",
   "metadata": {},
   "source": [
    "## Submuestreo 50,000 Hexágonos Esp Púb x 50,000 Hexágonos No Esp Púb"
   ]
  },
  {
   "cell_type": "code",
   "execution_count": 16,
   "id": "03d572a2-0228-4b2c-95c3-c9726fce688d",
   "metadata": {
    "tags": []
   },
   "outputs": [
    {
     "data": {
      "text/html": [
       "<div>\n",
       "<style scoped>\n",
       "    .dataframe tbody tr th:only-of-type {\n",
       "        vertical-align: middle;\n",
       "    }\n",
       "\n",
       "    .dataframe tbody tr th {\n",
       "        vertical-align: top;\n",
       "    }\n",
       "\n",
       "    .dataframe thead th {\n",
       "        text-align: right;\n",
       "    }\n",
       "</style>\n",
       "<table border=\"1\" class=\"dataframe\">\n",
       "  <thead>\n",
       "    <tr style=\"text-align: right;\">\n",
       "      <th></th>\n",
       "      <th>hex_id</th>\n",
       "      <th>geometry</th>\n",
       "      <th>city</th>\n",
       "      <th>EspPublico</th>\n",
       "      <th>ndvi_mean</th>\n",
       "      <th>ndvi_std</th>\n",
       "      <th>ndvi_median</th>\n",
       "      <th>ndvi_max</th>\n",
       "      <th>ndvi_min</th>\n",
       "      <th>ndvi_diff</th>\n",
       "      <th>ndvi_tend</th>\n",
       "      <th>ndmi_mean</th>\n",
       "      <th>ndmi_median</th>\n",
       "      <th>ndmi_diff</th>\n",
       "    </tr>\n",
       "  </thead>\n",
       "  <tbody>\n",
       "    <tr>\n",
       "      <th>0</th>\n",
       "      <td>8b4983cb3ac8fff</td>\n",
       "      <td>POLYGON ((-100.33654 20.64610, -100.33636 20.6...</td>\n",
       "      <td>Queretaro</td>\n",
       "      <td>1</td>\n",
       "      <td>0.199148</td>\n",
       "      <td>0.107830</td>\n",
       "      <td>0.160131</td>\n",
       "      <td>0.358885</td>\n",
       "      <td>0.106031</td>\n",
       "      <td>0.252853</td>\n",
       "      <td>-0.002560</td>\n",
       "      <td>-0.060502</td>\n",
       "      <td>-0.082133</td>\n",
       "      <td>0.208231</td>\n",
       "    </tr>\n",
       "    <tr>\n",
       "      <th>1</th>\n",
       "      <td>8b4983c8598efff</td>\n",
       "      <td>POLYGON ((-100.39211 20.65144, -100.39193 20.6...</td>\n",
       "      <td>Queretaro</td>\n",
       "      <td>1</td>\n",
       "      <td>0.098431</td>\n",
       "      <td>0.027789</td>\n",
       "      <td>0.102530</td>\n",
       "      <td>0.131297</td>\n",
       "      <td>0.043856</td>\n",
       "      <td>0.087441</td>\n",
       "      <td>-0.000413</td>\n",
       "      <td>-0.050383</td>\n",
       "      <td>-0.055179</td>\n",
       "      <td>0.123648</td>\n",
       "    </tr>\n",
       "    <tr>\n",
       "      <th>2</th>\n",
       "      <td>8b4983c13a2afff</td>\n",
       "      <td>POLYGON ((-100.47062 20.63116, -100.47045 20.6...</td>\n",
       "      <td>Queretaro</td>\n",
       "      <td>1</td>\n",
       "      <td>0.102380</td>\n",
       "      <td>0.021075</td>\n",
       "      <td>0.102720</td>\n",
       "      <td>0.128340</td>\n",
       "      <td>0.076991</td>\n",
       "      <td>0.051349</td>\n",
       "      <td>-0.000695</td>\n",
       "      <td>-0.042088</td>\n",
       "      <td>-0.044818</td>\n",
       "      <td>0.102369</td>\n",
       "    </tr>\n",
       "    <tr>\n",
       "      <th>3</th>\n",
       "      <td>8b4983c9b669fff</td>\n",
       "      <td>POLYGON ((-100.33586 20.76148, -100.33568 20.7...</td>\n",
       "      <td>Queretaro</td>\n",
       "      <td>1</td>\n",
       "      <td>0.178076</td>\n",
       "      <td>0.067961</td>\n",
       "      <td>0.157923</td>\n",
       "      <td>0.287452</td>\n",
       "      <td>0.111996</td>\n",
       "      <td>0.175456</td>\n",
       "      <td>-0.001337</td>\n",
       "      <td>-0.056498</td>\n",
       "      <td>-0.077775</td>\n",
       "      <td>0.179416</td>\n",
       "    </tr>\n",
       "    <tr>\n",
       "      <th>4</th>\n",
       "      <td>8b4983d9915cfff</td>\n",
       "      <td>POLYGON ((-100.38168 20.57507, -100.38150 20.5...</td>\n",
       "      <td>Queretaro</td>\n",
       "      <td>1</td>\n",
       "      <td>0.047897</td>\n",
       "      <td>0.016164</td>\n",
       "      <td>0.052659</td>\n",
       "      <td>0.065911</td>\n",
       "      <td>0.024631</td>\n",
       "      <td>0.041280</td>\n",
       "      <td>-0.000392</td>\n",
       "      <td>-0.082532</td>\n",
       "      <td>-0.087410</td>\n",
       "      <td>0.066060</td>\n",
       "    </tr>\n",
       "  </tbody>\n",
       "</table>\n",
       "</div>"
      ],
      "text/plain": [
       "            hex_id                                           geometry  \\\n",
       "0  8b4983cb3ac8fff  POLYGON ((-100.33654 20.64610, -100.33636 20.6...   \n",
       "1  8b4983c8598efff  POLYGON ((-100.39211 20.65144, -100.39193 20.6...   \n",
       "2  8b4983c13a2afff  POLYGON ((-100.47062 20.63116, -100.47045 20.6...   \n",
       "3  8b4983c9b669fff  POLYGON ((-100.33586 20.76148, -100.33568 20.7...   \n",
       "4  8b4983d9915cfff  POLYGON ((-100.38168 20.57507, -100.38150 20.5...   \n",
       "\n",
       "        city  EspPublico  ndvi_mean  ndvi_std  ndvi_median  ndvi_max  \\\n",
       "0  Queretaro           1   0.199148  0.107830     0.160131  0.358885   \n",
       "1  Queretaro           1   0.098431  0.027789     0.102530  0.131297   \n",
       "2  Queretaro           1   0.102380  0.021075     0.102720  0.128340   \n",
       "3  Queretaro           1   0.178076  0.067961     0.157923  0.287452   \n",
       "4  Queretaro           1   0.047897  0.016164     0.052659  0.065911   \n",
       "\n",
       "   ndvi_min  ndvi_diff  ndvi_tend  ndmi_mean  ndmi_median  ndmi_diff  \n",
       "0  0.106031   0.252853  -0.002560  -0.060502    -0.082133   0.208231  \n",
       "1  0.043856   0.087441  -0.000413  -0.050383    -0.055179   0.123648  \n",
       "2  0.076991   0.051349  -0.000695  -0.042088    -0.044818   0.102369  \n",
       "3  0.111996   0.175456  -0.001337  -0.056498    -0.077775   0.179416  \n",
       "4  0.024631   0.041280  -0.000392  -0.082532    -0.087410   0.066060  "
      ]
     },
     "execution_count": 16,
     "metadata": {},
     "output_type": "execute_result"
    }
   ],
   "source": [
    "num_samples = 50000\n",
    "\n",
    "# Randomly sample 203,570 hexagons with public spaces\n",
    "sample_with_public_spaces = inter[inter['EspPublico'] == 1].sample(n=num_samples, random_state=42)\n",
    "\n",
    "# Randomly sample 203,570 hexagons without public spaces\n",
    "sample_without_public_spaces = inter[inter['EspPublico'] == 0].sample(n=num_samples, random_state=42)\n",
    "\n",
    "# Concatenate the two samples to get the final subsample\n",
    "inter = pd.concat([sample_with_public_spaces, sample_without_public_spaces])\n",
    "inter.reset_index(drop = True, inplace = True)\n",
    "inter.head()"
   ]
  },
  {
   "cell_type": "code",
   "execution_count": 17,
   "id": "9c9f3b61-242e-4748-a368-a0e40d7f8f85",
   "metadata": {
    "tags": []
   },
   "outputs": [
    {
     "name": "stdout",
     "output_type": "stream",
     "text": [
      "Números de hexagonos sin Espacios Públicos: 50000 \n",
      "Número de Hexágonos con Espacios Públicos: 50000\n",
      "Número total de Hexágonos: 100000\n"
     ]
    }
   ],
   "source": [
    "contador_ceros = np.sum(inter['EspPublico'] == 0)\n",
    "contador_uno = np.sum(inter['EspPublico'])\n",
    "print(f'Números de hexagonos sin Espacios Públicos: {contador_ceros} \\nNúmero de Hexágonos con Espacios Públicos: {contador_uno}\\nNúmero total de Hexágonos: {contador_ceros+contador_uno}')"
   ]
  },
  {
   "cell_type": "code",
   "execution_count": 18,
   "id": "2c94f01e-ffce-44f3-b64e-424d3d4684c3",
   "metadata": {
    "tags": []
   },
   "outputs": [
    {
     "data": {
      "text/plain": [
       "(100000, 14)"
      ]
     },
     "execution_count": 18,
     "metadata": {},
     "output_type": "execute_result"
    }
   ],
   "source": [
    "inter.shape"
   ]
  },
  {
   "cell_type": "markdown",
   "id": "224ae004-cdfa-4cee-b65e-2388946d536c",
   "metadata": {},
   "source": [
    "Ya está balanceada la base de datos y con un submuestreo random. Entonces ya podemos juntarlo con el otro GeoDataFrame"
   ]
  },
  {
   "cell_type": "markdown",
   "id": "c4bf0248-be09-4748-b48e-350cb0e0c6e4",
   "metadata": {},
   "source": [
    "Verificamos duplicados"
   ]
  },
  {
   "cell_type": "markdown",
   "id": "57a87f61-d184-4ab1-92f2-3a6b8994257c",
   "metadata": {},
   "source": [
    "## Métodos de Clasificación"
   ]
  },
  {
   "cell_type": "code",
   "execution_count": 20,
   "id": "351a23ed-b377-4ee2-b6be-56a9a5159552",
   "metadata": {
    "tags": []
   },
   "outputs": [],
   "source": [
    "x = inter[['ndvi_mean','ndvi_std','ndvi_median','ndvi_max','ndvi_min','ndvi_diff','ndvi_tend','ndmi_mean','ndmi_median','ndmi_diff']]\n",
    "y = inter['EspPublico']"
   ]
  },
  {
   "cell_type": "code",
   "execution_count": 21,
   "id": "3d9d5893-418b-44e4-8bee-4f3558ee3d87",
   "metadata": {
    "tags": []
   },
   "outputs": [
    {
     "data": {
      "text/plain": [
       "array([1, 0])"
      ]
     },
     "execution_count": 21,
     "metadata": {},
     "output_type": "execute_result"
    }
   ],
   "source": [
    "y.unique()"
   ]
  },
  {
   "cell_type": "markdown",
   "id": "6454b527-33cc-4827-89f9-469184df4fe3",
   "metadata": {},
   "source": [
    "### Regresión Logística"
   ]
  },
  {
   "cell_type": "code",
   "execution_count": 22,
   "id": "7c6a11af-ffaf-46c4-a039-32994400200a",
   "metadata": {
    "tags": []
   },
   "outputs": [],
   "source": [
    "x_train, x_test, y_train, y_test = train_test_split(x,y, test_size = 0.2, random_state = 42)\n",
    "scaler = StandardScaler()\n",
    "x_train_scale = scaler.fit_transform(x_train)\n",
    "x_test_scale = scaler.fit_transform(x_test)"
   ]
  },
  {
   "cell_type": "code",
   "execution_count": 23,
   "id": "e9218021-7b99-4551-8374-e3aefb6bff50",
   "metadata": {
    "tags": []
   },
   "outputs": [
    {
     "data": {
      "image/png": "[encoded data removed]",
      "text/plain": [
       "<Figure size 1000x700 with 2 Axes>"
      ]
     },
     "metadata": {},
     "output_type": "display_data"
    }
   ],
   "source": [
    "clf = LogisticRegression()\n",
    "clf.fit(x_train_scale, y_train)\n",
    "y_pred = clf.predict(x_test_scale)\n",
    "cm = confusion_matrix(y_test,y_pred)\n",
    "class_labels = ['Espacio Público', 'No Espacio Público']\n",
    "plt.figure(figsize = (10,7))\n",
    "sns.heatmap(cm, annot = True, fmt = \"g\", cmap=\"Blues\", xticklabels=class_labels, yticklabels=class_labels)\n",
    "plt.xlabel('Predicted', fontsize = 12, fontweight  = 'bold')\n",
    "plt.ylabel('Actual', fontsize = 12, fontweight  = 'bold')\n",
    "plt.title('Matriz de Confusión', fontsize = 15, fontweight = 'bold')\n",
    "plt.show()"
   ]
  },
  {
   "cell_type": "code",
   "execution_count": 24,
   "id": "e99c86fa-f71b-4cad-bc67-f018a3054e83",
   "metadata": {
    "tags": []
   },
   "outputs": [
    {
     "name": "stdout",
     "output_type": "stream",
     "text": [
      "Accuracy: 0.7487\n"
     ]
    }
   ],
   "source": [
    "accuracy = accuracy_score(y_test, y_pred)\n",
    "print(f'Accuracy: {accuracy}')"
   ]
  },
  {
   "cell_type": "markdown",
   "id": "5bf67297-8ea3-4160-ab9b-eff740792440",
   "metadata": {},
   "source": [
    "### Naive Bayes"
   ]
  },
  {
   "cell_type": "code",
   "execution_count": 25,
   "id": "50cf3b62-719b-418d-b7b2-6b26cd25f05c",
   "metadata": {
    "tags": []
   },
   "outputs": [
    {
     "data": {
      "text/html": [
       "<style>#sk-container-id-1 {color: black;background-color: white;}#sk-container-id-1 pre{padding: 0;}#sk-container-id-1 div.sk-toggleable {background-color: white;}#sk-container-id-1 label.sk-toggleable__label {cursor: pointer;display: block;width: 100%;margin-bottom: 0;padding: 0.3em;box-sizing: border-box;text-align: center;}#sk-container-id-1 label.sk-toggleable__label-arrow:before {content: \"▸\";float: left;margin-right: 0.25em;color: #696969;}#sk-container-id-1 label.sk-toggleable__label-arrow:hover:before {color: black;}#sk-container-id-1 div.sk-estimator:hover label.sk-toggleable__label-arrow:before {color: black;}#sk-container-id-1 div.sk-toggleable__content {max-height: 0;max-width: 0;overflow: hidden;text-align: left;background-color: #f0f8ff;}#sk-container-id-1 div.sk-toggleable__content pre {margin: 0.2em;color: black;border-radius: 0.25em;background-color: #f0f8ff;}#sk-container-id-1 input.sk-toggleable__control:checked~div.sk-toggleable__content {max-height: 200px;max-width: 100%;overflow: auto;}#sk-container-id-1 input.sk-toggleable__control:checked~label.sk-toggleable__label-arrow:before {content: \"▾\";}#sk-container-id-1 div.sk-estimator input.sk-toggleable__control:checked~label.sk-toggleable__label {background-color: #d4ebff;}#sk-container-id-1 div.sk-label input.sk-toggleable__control:checked~label.sk-toggleable__label {background-color: #d4ebff;}#sk-container-id-1 input.sk-hidden--visually {border: 0;clip: rect(1px 1px 1px 1px);clip: rect(1px, 1px, 1px, 1px);height: 1px;margin: -1px;overflow: hidden;padding: 0;position: absolute;width: 1px;}#sk-container-id-1 div.sk-estimator {font-family: monospace;background-color: #f0f8ff;border: 1px dotted black;border-radius: 0.25em;box-sizing: border-box;margin-bottom: 0.5em;}#sk-container-id-1 div.sk-estimator:hover {background-color: #d4ebff;}#sk-container-id-1 div.sk-parallel-item::after {content: \"\";width: 100%;border-bottom: 1px solid gray;flex-grow: 1;}#sk-container-id-1 div.sk-label:hover label.sk-toggleable__label {background-color: #d4ebff;}#sk-container-id-1 div.sk-serial::before {content: \"\";position: absolute;border-left: 1px solid gray;box-sizing: border-box;top: 0;bottom: 0;left: 50%;z-index: 0;}#sk-container-id-1 div.sk-serial {display: flex;flex-direction: column;align-items: center;background-color: white;padding-right: 0.2em;padding-left: 0.2em;position: relative;}#sk-container-id-1 div.sk-item {position: relative;z-index: 1;}#sk-container-id-1 div.sk-parallel {display: flex;align-items: stretch;justify-content: center;background-color: white;position: relative;}#sk-container-id-1 div.sk-item::before, #sk-container-id-1 div.sk-parallel-item::before {content: \"\";position: absolute;border-left: 1px solid gray;box-sizing: border-box;top: 0;bottom: 0;left: 50%;z-index: -1;}#sk-container-id-1 div.sk-parallel-item {display: flex;flex-direction: column;z-index: 1;position: relative;background-color: white;}#sk-container-id-1 div.sk-parallel-item:first-child::after {align-self: flex-end;width: 50%;}#sk-container-id-1 div.sk-parallel-item:last-child::after {align-self: flex-start;width: 50%;}#sk-container-id-1 div.sk-parallel-item:only-child::after {width: 0;}#sk-container-id-1 div.sk-dashed-wrapped {border: 1px dashed gray;margin: 0 0.4em 0.5em 0.4em;box-sizing: border-box;padding-bottom: 0.4em;background-color: white;}#sk-container-id-1 div.sk-label label {font-family: monospace;font-weight: bold;display: inline-block;line-height: 1.2em;}#sk-container-id-1 div.sk-label-container {text-align: center;}#sk-container-id-1 div.sk-container {/* jupyter's `normalize.less` sets `[hidden] { display: none; }` but bootstrap.min.css set `[hidden] { display: none !important; }` so we also need the `!important` here to be able to override the default hidden behavior on the sphinx rendered scikit-learn.org. See: https://github.com/scikit-learn/scikit-learn/issues/21755 */display: inline-block !important;position: relative;}#sk-container-id-1 div.sk-text-repr-fallback {display: none;}</style><div id=\"sk-container-id-1\" class=\"sk-top-container\"><div class=\"sk-text-repr-fallback\"><pre>GaussianNB()</pre><b>In a Jupyter environment, please rerun this cell to show the HTML representation or trust the notebook. <br />On GitHub, the HTML representation is unable to render, please try loading this page with nbviewer.org.</b></div><div class=\"sk-container\" hidden><div class=\"sk-item\"><div class=\"sk-estimator sk-toggleable\"><input class=\"sk-toggleable__control sk-hidden--visually\" id=\"sk-estimator-id-1\" type=\"checkbox\" checked><label for=\"sk-estimator-id-1\" class=\"sk-toggleable__label sk-toggleable__label-arrow\">GaussianNB</label><div class=\"sk-toggleable__content\"><pre>GaussianNB()</pre></div></div></div></div></div>"
      ],
      "text/plain": [
       "GaussianNB()"
      ]
     },
     "execution_count": 25,
     "metadata": {},
     "output_type": "execute_result"
    }
   ],
   "source": [
    "nb = GaussianNB()\n",
    "nb.fit(x_train, y_train)"
   ]
  },
  {
   "cell_type": "code",
   "execution_count": 26,
   "id": "d16bc4e8-1cc1-42c9-946d-00d6c4bafe15",
   "metadata": {
    "tags": []
   },
   "outputs": [
    {
     "data": {
      "image/png": "[encoded data removed]",
      "text/plain": [
       "<Figure size 1000x700 with 2 Axes>"
      ]
     },
     "metadata": {},
     "output_type": "display_data"
    }
   ],
   "source": [
    "y_prend = nb.predict(x_test)\n",
    "cm = confusion_matrix(y_test, y_prend)\n",
    "class_labels = ['Espacio Público', 'No Espacio Público']\n",
    "plt.figure(figsize = (10,7))\n",
    "sns.heatmap(cm, annot = True, fmt = \"g\", cmap=\"Reds\", xticklabels=class_labels, yticklabels=class_labels)\n",
    "plt.xlabel('Predicted', fontsize = 12, fontweight  = 'bold')\n",
    "plt.ylabel('Actual', fontsize = 12, fontweight  = 'bold')\n",
    "plt.title('Matriz de Confusión', fontsize = 15, fontweight = 'bold')\n",
    "plt.show()"
   ]
  },
  {
   "cell_type": "code",
   "execution_count": 27,
   "id": "a62b3e24-1911-4044-8c55-a900a9c00791",
   "metadata": {
    "tags": []
   },
   "outputs": [
    {
     "name": "stdout",
     "output_type": "stream",
     "text": [
      "Accuracy: 0.7125\n"
     ]
    }
   ],
   "source": [
    "accuracy = accuracy_score(y_test, y_prend)\n",
    "print(f'Accuracy: {accuracy}')"
   ]
  },
  {
   "cell_type": "markdown",
   "id": "e03aa28d-74f5-44f4-a72a-1cca772fd9a3",
   "metadata": {},
   "source": [
    "## Random Forest Classifier (RFC)"
   ]
  },
  {
   "cell_type": "code",
   "execution_count": 34,
   "id": "ee0bd417-fa49-4c8f-a558-ad96ca55d240",
   "metadata": {
    "tags": []
   },
   "outputs": [],
   "source": [
    "rf = RandomForestClassifier(n_estimators=120, random_state=42)  \n",
    "rf.fit(x_train, y_train)\n",
    "\n",
    "# Realizar predicciones en el conjunto de prueba\n",
    "y_predd = rf.predict(x_test)"
   ]
  },
  {
   "cell_type": "code",
   "execution_count": 35,
   "id": "6c3882cc-aeec-4ee4-acd2-4fb4a8e7974e",
   "metadata": {
    "tags": []
   },
   "outputs": [
    {
     "data": {
      "image/png": "[encoded data removed]",
      "text/plain": [
       "<Figure size 1000x700 with 2 Axes>"
      ]
     },
     "metadata": {},
     "output_type": "display_data"
    }
   ],
   "source": [
    "cm = confusion_matrix(y_test, y_predd)\n",
    "class_labels = ['Espacio Verde Público', 'No Espacio Verde Público']\n",
    "plt.figure(figsize = (10,7))\n",
    "sns.heatmap(cm, annot = True, fmt = \"g\", cmap=\"Greens\", xticklabels=class_labels, yticklabels=class_labels)\n",
    "plt.xlabel('Predicted', fontsize = 12, fontweight  = 'bold')\n",
    "plt.ylabel('Actual', fontsize = 12, fontweight  = 'bold')\n",
    "plt.title('Matriz de Confusión', fontsize = 15, fontweight = 'bold')\n",
    "plt.show()"
   ]
  },
  {
   "cell_type": "code",
   "execution_count": 36,
   "id": "7cc41317-b016-4a2d-98b3-2e7447deae4b",
   "metadata": {
    "tags": []
   },
   "outputs": [
    {
     "name": "stdout",
     "output_type": "stream",
     "text": [
      "Accuracy: 0.89975\n"
     ]
    }
   ],
   "source": [
    "accuracy = accuracy_score(y_test, y_predd)\n",
    "print(f'Accuracy: {accuracy}')"
   ]
  },
  {
   "cell_type": "markdown",
   "id": "5f1b2368-9074-4903-8f22-6a0ba8133592",
   "metadata": {},
   "source": [
    "### Optimización Hiperparámetros para obtener la mejor combinación"
   ]
  },
  {
   "cell_type": "markdown",
   "id": "3ad06bdc-d960-45df-bff6-207989287370",
   "metadata": {},
   "source": [
    "#### GridSearch"
   ]
  },
  {
   "cell_type": "code",
   "execution_count": 18,
   "id": "728a0098-3e08-451e-8eb9-45234f9f9c0a",
   "metadata": {
    "tags": []
   },
   "outputs": [],
   "source": [
    "param_grid = { \n",
    "    'n_estimators': [25, 50, 100, 125, 150], \n",
    "    'max_features': ['sqrt', 'log2', None], \n",
    "    'max_depth': [3, 6, 9], \n",
    "    'max_leaf_nodes': [3, 6, 9], \n",
    "}  "
   ]
  },
  {
   "cell_type": "markdown",
   "id": "4da1b962-ead0-473c-99b3-0addc6517655",
   "metadata": {},
   "source": [
    "Como tiene mucho costo computacional el hacer una búsqueda exhaustiva y tenemos muchos datos. Voy a hacer un subsample nada más para sacar los mejores híper parámetros y ya después aplicarlos al completo."
   ]
  },
  {
   "cell_type": "code",
   "execution_count": 24,
   "id": "b7d61a6a-2c81-41d7-8338-f245db5c1bad",
   "metadata": {
    "tags": []
   },
   "outputs": [
    {
     "name": "stdout",
     "output_type": "stream",
     "text": [
      "RandomForestClassifier(max_depth=6, max_features=None, max_leaf_nodes=9)\n"
     ]
    }
   ],
   "source": [
    "sample_size = 10000  \n",
    "x_train_sample = x_train[:sample_size]\n",
    "y_train_sample = y_train[:sample_size]\n",
    "grid_search = GridSearchCV(RandomForestClassifier(), \n",
    "                           param_grid=param_grid) \n",
    "grid_search.fit(x_train_sample, y_train_sample) \n",
    "print(grid_search.best_estimator_) "
   ]
  },
  {
   "cell_type": "code",
   "execution_count": 25,
   "id": "2e607d24-5fe6-439b-9282-06cf0eff90df",
   "metadata": {},
   "outputs": [],
   "source": [
    "rf_grid = RandomForestClassifier(max_depth=6, \n",
    "                                    max_features=None, \n",
    "                                    max_leaf_nodes=9,\n",
    "                                    n_estimators=120, \n",
    "                                    random_state=42)  \n",
    "rf_grid.fit(x_train, y_train)\n",
    "\n",
    "# Realizar predicciones en el conjunto de prueba\n",
    "y_pred_grid = rf_grid.predict(x_test)"
   ]
  },
  {
   "cell_type": "code",
   "execution_count": 26,
   "id": "3c028898-d1c1-4b5b-bca9-3fda7b510dd9",
   "metadata": {
    "tags": []
   },
   "outputs": [
    {
     "data": {
      "image/png": "[encoded data removed]",
      "text/plain": [
       "<Figure size 1000x700 with 2 Axes>"
      ]
     },
     "metadata": {},
     "output_type": "display_data"
    }
   ],
   "source": [
    "cm = confusion_matrix(y_test, y_pred_grid)\n",
    "class_labels = ['Espacio Verde Público', 'No Espacio Verde Público']\n",
    "plt.figure(figsize = (10,7))\n",
    "sns.heatmap(cm, annot = True, fmt = \"g\", cmap=\"Oranges\", xticklabels=class_labels, yticklabels=class_labels)\n",
    "plt.xlabel('Predicted', fontsize = 12, fontweight  = 'bold')\n",
    "plt.ylabel('Actual', fontsize = 12, fontweight  = 'bold')\n",
    "plt.title('Matriz de Confusión', fontsize = 15, fontweight = 'bold')\n",
    "plt.show()"
   ]
  },
  {
   "cell_type": "code",
   "execution_count": 27,
   "id": "1874788e-9d97-4854-bbc1-42356475aa64",
   "metadata": {
    "tags": []
   },
   "outputs": [
    {
     "name": "stdout",
     "output_type": "stream",
     "text": [
      "Accuracy: 0.6420518740482389\n"
     ]
    }
   ],
   "source": [
    "accuracy = accuracy_score(y_test, y_pred_grid)\n",
    "print(f'Accuracy: {accuracy}')"
   ]
  },
  {
   "cell_type": "markdown",
   "id": "abc8deba-f823-4ad9-8ea5-d84cde72166e",
   "metadata": {},
   "source": [
    "Vemos que esos parámetros empeoran terriblemente el accuracy"
   ]
  },
  {
   "cell_type": "markdown",
   "id": "6370f5d1-1815-4fad-8c48-8ffcb7328479",
   "metadata": {},
   "source": [
    "#### Randomized Search"
   ]
  },
  {
   "cell_type": "code",
   "execution_count": 28,
   "id": "8ba2fa64-e798-4e24-b79d-3d32f2a44807",
   "metadata": {
    "tags": []
   },
   "outputs": [
    {
     "name": "stdout",
     "output_type": "stream",
     "text": [
      "RandomForestClassifier(max_depth=3, max_features=None, max_leaf_nodes=6)\n"
     ]
    }
   ],
   "source": [
    "random_search = RandomizedSearchCV(RandomForestClassifier(), \n",
    "                                   param_grid, n_iter=10, n_jobs=-1) \n",
    "random_search.fit(x_train, y_train) \n",
    "print(random_search.best_estimator_) "
   ]
  },
  {
   "cell_type": "code",
   "execution_count": 29,
   "id": "44013e23-17a1-4271-b986-7b98adaad080",
   "metadata": {
    "tags": []
   },
   "outputs": [],
   "source": [
    "rf_random = RandomForestClassifier(max_depth=3, \n",
    "                                    max_features=None, \n",
    "                                    max_leaf_nodes=6,\n",
    "                                    n_estimators=120, \n",
    "                                    random_state=42)  \n",
    "rf_random.fit(x_train, y_train)\n",
    "\n",
    "# Realizar predicciones en el conjunto de prueba\n",
    "y_pred_random = rf_random.predict(x_test)"
   ]
  },
  {
   "cell_type": "code",
   "execution_count": 30,
   "id": "13ce5a91-cd12-48fa-a8a3-8facae423cf6",
   "metadata": {
    "tags": []
   },
   "outputs": [
    {
     "data": {
      "image/png": "[encoded data removed]",
      "text/plain": [
       "<Figure size 1000x700 with 2 Axes>"
      ]
     },
     "metadata": {},
     "output_type": "display_data"
    }
   ],
   "source": [
    "cm = confusion_matrix(y_test, y_pred_random)\n",
    "class_labels = ['Espacio Verde Público', 'No Espacio Verde Público']\n",
    "plt.figure(figsize = (10,7))\n",
    "sns.heatmap(cm, annot = True, fmt = \"g\", cmap=\"Oranges\", xticklabels=class_labels, yticklabels=class_labels)\n",
    "plt.xlabel('Predicted', fontsize = 12, fontweight  = 'bold')\n",
    "plt.ylabel('Actual', fontsize = 12, fontweight  = 'bold')\n",
    "plt.title('Matriz de Confusión', fontsize = 15, fontweight = 'bold')\n",
    "plt.show()"
   ]
  },
  {
   "cell_type": "code",
   "execution_count": 31,
   "id": "41fef542-b292-4ef5-a805-aeb2da920d9e",
   "metadata": {
    "tags": []
   },
   "outputs": [
    {
     "name": "stdout",
     "output_type": "stream",
     "text": [
      "Accuracy: 0.63914132730756\n"
     ]
    }
   ],
   "source": [
    "accuracy = accuracy_score(y_test, y_pred_random)\n",
    "print(f'Accuracy: {accuracy}')"
   ]
  },
  {
   "cell_type": "markdown",
   "id": "ebdf9326-0686-4fff-8d3f-08639626c4a3",
   "metadata": {},
   "source": [
    "#### Ensemble Methods"
   ]
  },
  {
   "cell_type": "code",
   "execution_count": null,
   "id": "188850c1-786a-4733-940c-d57561dbb776",
   "metadata": {},
   "outputs": [],
   "source": [
    "from sklearn.ensemble import AdaBoostClassifier\n",
    "\n",
    "# Example: Using AdaBoost as an ensemble method\n",
    "ada_boost_model = AdaBoostClassifier(base_estimator=RandomForestClassifier(), n_estimators=50)\n",
    "ada_boost_model.fit(x_train, y_train)"
   ]
  },
  {
   "cell_type": "code",
   "execution_count": null,
   "id": "cb1997bc-1090-4014-8b05-e7c9c05461a9",
   "metadata": {},
   "outputs": [],
   "source": [
    "y_pred_ada = ada_boost_model.predict(x_test)\n",
    "cm = confusion_matrix(y_test, y_pred_ada)\n",
    "class_labels = ['Espacio Verde Público', 'No Espacio Verde Público']\n",
    "plt.figure(figsize = (10,7))\n",
    "sns.heatmap(cm, annot = True, fmt = \"g\", cmap=\"Oranges\", xticklabels=class_labels, yticklabels=class_labels)\n",
    "plt.xlabel('Predicted', fontsize = 12, fontweight  = 'bold')\n",
    "plt.ylabel('Actual', fontsize = 12, fontweight  = 'bold')\n",
    "plt.title('Matriz de Confusión', fontsize = 15, fontweight = 'bold')\n",
    "plt.show()"
   ]
  },
  {
   "cell_type": "code",
   "execution_count": null,
   "id": "d9f4910d-b538-4a4e-81ca-dd512b77bc82",
   "metadata": {},
   "outputs": [],
   "source": [
    "accuracy = accuracy_score(y_test, y_pred_ada)\n",
    "print(f'Accuracy: {accuracy}')"
   ]
  },
  {
   "cell_type": "markdown",
   "id": "1459a521-2e8c-42e6-8381-95fcea1c51ad",
   "metadata": {},
   "source": [
    "## XGBoost"
   ]
  },
  {
   "cell_type": "code",
   "execution_count": 37,
   "id": "0e6f34cd-ca9d-4585-bef2-fc1bf8a6db0b",
   "metadata": {
    "tags": []
   },
   "outputs": [],
   "source": [
    "xgb_classifier = xgb.XGBClassifier(n_estimators=100, random_state=42)\n",
    "\n",
    "# Ajustar el modelo a los datos de entrenamiento\n",
    "xgb_classifier.fit(x_train, y_train)\n",
    "\n",
    "# Realizar predicciones en el conjunto de prueba\n",
    "y_predict = xgb_classifier.predict(x_test)"
   ]
  },
  {
   "cell_type": "code",
   "execution_count": 38,
   "id": "f47f111d-4d19-415d-85ba-e6361c4cfaf8",
   "metadata": {
    "tags": []
   },
   "outputs": [
    {
     "data": {
      "image/png": "[encoded data removed]",
      "text/plain": [
       "<Figure size 1000x700 with 2 Axes>"
      ]
     },
     "metadata": {},
     "output_type": "display_data"
    }
   ],
   "source": [
    "cm = confusion_matrix(y_test, y_predict)\n",
    "class_labels = ['Espacio Verde Público', 'No Espacio Verde Público']\n",
    "plt.figure(figsize = (10,7))\n",
    "sns.heatmap(cm, annot = True, fmt = \"g\", cmap=\"Purples\", xticklabels=class_labels, yticklabels=class_labels)\n",
    "plt.xlabel('Predicted', fontsize = 12, fontweight  = 'bold')\n",
    "plt.ylabel('Actual', fontsize = 12, fontweight  = 'bold')\n",
    "plt.title('Matriz de Confusión', fontsize = 15, fontweight = 'bold')\n",
    "plt.show()"
   ]
  },
  {
   "cell_type": "code",
   "execution_count": 39,
   "id": "b6f59e2f-e70b-4cfc-b825-339486c25a86",
   "metadata": {
    "tags": []
   },
   "outputs": [
    {
     "name": "stdout",
     "output_type": "stream",
     "text": [
      "Accuracy: 0.813\n"
     ]
    }
   ],
   "source": [
    "accuracy = accuracy_score(y_test, y_predict)\n",
    "print(f'Accuracy: {accuracy}')"
   ]
  },
  {
   "cell_type": "markdown",
   "id": "eb11aa72-2056-453c-81d5-b922166fdb79",
   "metadata": {},
   "source": [
    "Podemos observar que al tener menos datos la clasificación con Naive Bayes, XGBoost y Regresión logística salió peor que con toda la información. Sin embargo, el random forest classifier es el que mejor, ha predecido con un 90% de precisión."
   ]
  },
  {
   "cell_type": "markdown",
   "id": "6bba6df0-e0ed-43ab-918f-59737142ff73",
   "metadata": {},
   "source": [
    "## Clasificación del modelo Perceptrón"
   ]
  },
  {
   "cell_type": "code",
   "execution_count": null,
   "id": "1c4c6877-ad36-4150-a034-467fff686d6f",
   "metadata": {},
   "outputs": [
    {
     "name": "stdout",
     "output_type": "stream",
     "text": [
      "Epoch 1/30\n",
      "40000/40000 [==============================] - 309s 8ms/step - loss: 0.6103 - accuracy: 0.6567\n",
      "Epoch 2/30\n",
      "40000/40000 [==============================] - 308s 8ms/step - loss: 0.5985 - accuracy: 0.6696\n",
      "Epoch 3/30\n",
      "40000/40000 [==============================] - 301s 8ms/step - loss: 0.5944 - accuracy: 0.6736\n",
      "Epoch 4/30\n",
      "40000/40000 [==============================] - 320s 8ms/step - loss: 0.5917 - accuracy: 0.6760\n",
      "Epoch 5/30\n",
      "40000/40000 [==============================] - 368s 9ms/step - loss: 0.5901 - accuracy: 0.6781\n",
      "Epoch 6/30\n",
      "40000/40000 [==============================] - 247s 6ms/step - loss: 0.5884 - accuracy: 0.6794\n",
      "Epoch 7/30\n",
      "40000/40000 [==============================] - 294s 7ms/step - loss: 0.5871 - accuracy: 0.6809\n",
      "Epoch 8/30\n",
      "40000/40000 [==============================] - 258s 6ms/step - loss: 0.5856 - accuracy: 0.6819\n",
      "Epoch 9/30\n",
      "40000/40000 [==============================] - 250s 6ms/step - loss: 0.5849 - accuracy: 0.6826\n",
      "Epoch 10/30\n",
      "40000/40000 [==============================] - 264s 7ms/step - loss: 0.5840 - accuracy: 0.6835\n",
      "Epoch 11/30\n",
      "40000/40000 [==============================] - 314s 8ms/step - loss: 0.5832 - accuracy: 0.6841\n",
      "Epoch 12/30\n",
      "40000/40000 [==============================] - 253s 6ms/step - loss: 0.5824 - accuracy: 0.6849\n",
      "Epoch 13/30\n",
      "40000/40000 [==============================] - 315s 8ms/step - loss: 0.5816 - accuracy: 0.6853\n",
      "Epoch 14/30\n",
      "40000/40000 [==============================] - 311s 8ms/step - loss: 0.5809 - accuracy: 0.6864\n",
      "Epoch 15/30\n",
      "40000/40000 [==============================] - 301s 8ms/step - loss: 0.5802 - accuracy: 0.6865\n",
      "Epoch 16/30\n",
      "40000/40000 [==============================] - 305s 8ms/step - loss: 0.5798 - accuracy: 0.6867\n",
      "Epoch 17/30\n",
      "40000/40000 [==============================] - 418s 10ms/step - loss: 0.5792 - accuracy: 0.6875\n",
      "Epoch 18/30\n",
      "40000/40000 [==============================] - 419s 10ms/step - loss: 0.5786 - accuracy: 0.6880\n",
      "Epoch 19/30\n",
      "40000/40000 [==============================] - 319s 8ms/step - loss: 0.5779 - accuracy: 0.6887\n",
      "Epoch 20/30\n",
      "40000/40000 [==============================] - 331s 8ms/step - loss: 0.5776 - accuracy: 0.6890\n",
      "Epoch 21/30\n",
      "40000/40000 [==============================] - 300s 8ms/step - loss: 0.5774 - accuracy: 0.6893\n",
      "Epoch 22/30\n",
      "40000/40000 [==============================] - 276s 7ms/step - loss: 0.5767 - accuracy: 0.6900\n",
      "Epoch 23/30\n",
      "35632/40000 [=========================>....] - ETA: 28s - loss: 0.5763 - accuracy: 0.6898"
     ]
    }
   ],
   "source": [
    "n_clases = len(y.unique())\n",
    "n_features = len(x.columns)\n",
    "\n",
    "x = x.values\n",
    "output_y = y.values\n",
    "\n",
    "# Define MLP model\n",
    "clf = Sequential()\n",
    "clf.add(Dense(180, input_dim=n_features, activation='relu'))\n",
    "clf.add(Dense(180, activation='relu'))\n",
    "clf.add(Dense(1, activation='sigmoid')) \n",
    "\n",
    "# Compile model\n",
    "clf.compile(loss='binary_crossentropy', optimizer='adam', metrics=['accuracy'])\n",
    "\n",
    "# Fit model\n",
    "clf.fit(x, output_y, epochs=30, batch_size=10)\n",
    "\n",
    "\n",
    "# Evaluate model with crossvalidation\n",
    "kf = StratifiedKFold(n_splits=5, shuffle = True)\n",
    "\n",
    "cv_y_test = []\n",
    "cv_y_pred = []\n",
    "\n",
    "for train_index, test_index in kf.split(x, y):\n",
    "\n",
    "    x_train = x[train_index, :]\n",
    "    y_train = y[train_index]\n",
    "\n",
    "    x_test = x[test_index, :]\n",
    "    y_test = y[test_index]\n",
    "\n",
    "    # Training phase\n",
    "    clf_cv = Sequential()\n",
    "    clf_cv.add(Dense(180, input_dim=n_features, activation='relu'))\n",
    "    clf_cv.add(Dense(180, activation='relu'))\n",
    "    clf_cv.add(Dense(1, activation='sigmoid'))\n",
    "    clf_cv.compile(loss='binary_crossentropy', optimizer='adam', metrics=['accuracy'])\n",
    "    clf_cv.fit(x_train, y_train, validation_data= (x_test, y_test), epochs=30, batch_size=10)\n",
    "\n",
    "    # Test phase\n",
    "    x_test = x[test_index, :]\n",
    "    y_test = y[test_index]\n",
    "    y_pred = [0 if valor < 0.5 else 1 for valor in clf_cv.predict(x_test)]\n",
    "    \n",
    "    cv_y_test.append(y_test)\n",
    "    cv_y_pred.append(y_pred)\n",
    "\n",
    "# Results\n",
    "print(classification_report(np.concatenate(cv_y_test), np.concatenate(cv_y_pred)))"
   ]
  }
 ],
 "metadata": {
  "kernelspec": {
   "display_name": "Python 3 (ipykernel)",
   "language": "python",
   "name": "python3"
  },
  "language_info": {
   "codemirror_mode": {
    "name": "ipython",
    "version": 3
   },
   "file_extension": ".py",
   "mimetype": "text/x-python",
   "name": "python",
   "nbconvert_exporter": "python",
   "pygments_lexer": "ipython3",
   "version": "3.10.10"
  }
 },
 "nbformat": 4,
 "nbformat_minor": 5
}
