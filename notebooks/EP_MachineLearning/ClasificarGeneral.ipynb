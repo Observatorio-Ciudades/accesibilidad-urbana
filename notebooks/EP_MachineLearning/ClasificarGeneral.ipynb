{
 "cells": [
  {
   "cell_type": "code",
   "execution_count": 1,
   "id": "417918f8-3cb2-443d-972f-c3d5679337f7",
   "metadata": {},
   "outputs": [],
   "source": [
    "import warnings\n",
    "warnings.filterwarnings('ignore')\n",
    "import geopandas as gpd\n",
    "from geopandas.tools import overlay\n",
    "import matplotlib.pyplot as plt\n",
    "import os \n",
    "import sys\n",
    "module_path = os.path.abspath(os.path.join('../../'))\n",
    "if module_path not in sys.path:\n",
    "    sys.path.append(module_path)\n",
    "    import aup\n",
    "import pandas as pd\n",
    "import numpy as np\n",
    "import seaborn as sns\n",
    "from sklearn.model_selection import train_test_split\n",
    "from sklearn.metrics import accuracy_score, confusion_matrix\n",
    "from sklearn.linear_model import LogisticRegression\n",
    "from sklearn.preprocessing import StandardScaler\n",
    "from sklearn.naive_bayes import GaussianNB\n",
    "from imblearn.over_sampling import SMOTE"
   ]
  },
  {
   "cell_type": "markdown",
   "id": "1f4b673d-a0ff-4041-b2b2-b9ec546375b5",
   "metadata": {},
   "source": [
    "## Espacios Públicos Gdl"
   ]
  },
  {
   "cell_type": "code",
   "execution_count": 2,
   "id": "4ea17f49-98ad-4d79-8c43-7fd0a0739bdd",
   "metadata": {},
   "outputs": [
    {
     "data": {
      "text/html": [
       "<div>\n",
       "<style scoped>\n",
       "    .dataframe tbody tr th:only-of-type {\n",
       "        vertical-align: middle;\n",
       "    }\n",
       "\n",
       "    .dataframe tbody tr th {\n",
       "        vertical-align: top;\n",
       "    }\n",
       "\n",
       "    .dataframe thead th {\n",
       "        text-align: right;\n",
       "    }\n",
       "</style>\n",
       "<table border=\"1\" class=\"dataframe\">\n",
       "  <thead>\n",
       "    <tr style=\"text-align: right;\">\n",
       "      <th></th>\n",
       "      <th>Fuente</th>\n",
       "      <th>Tipo</th>\n",
       "      <th>Uso</th>\n",
       "      <th>geometry</th>\n",
       "    </tr>\n",
       "  </thead>\n",
       "  <tbody>\n",
       "    <tr>\n",
       "      <th>0</th>\n",
       "      <td>OpenStreetMap, [Online]. Disponible: http://ww...</td>\n",
       "      <td>Parque</td>\n",
       "      <td>Uso recreativo</td>\n",
       "      <td>POLYGON ((672507.028 2272132.201, 672520.126 2...</td>\n",
       "    </tr>\n",
       "    <tr>\n",
       "      <th>1</th>\n",
       "      <td>OpenStreetMap, [Online]. Disponible: http://ww...</td>\n",
       "      <td>Parque</td>\n",
       "      <td>Uso recreativo</td>\n",
       "      <td>POLYGON ((672520.126 2272170.353, 672507.028 2...</td>\n",
       "    </tr>\n",
       "    <tr>\n",
       "      <th>2</th>\n",
       "      <td>OpenStreetMap, [Online]. Disponible: http://ww...</td>\n",
       "      <td>Parque</td>\n",
       "      <td>Uso recreativo</td>\n",
       "      <td>POLYGON ((672494.325 2272095.205, 672480.366 2...</td>\n",
       "    </tr>\n",
       "    <tr>\n",
       "      <th>3</th>\n",
       "      <td>OpenStreetMap, [Online]. Disponible: http://ww...</td>\n",
       "      <td>Parque</td>\n",
       "      <td>Uso recreativo</td>\n",
       "      <td>POLYGON ((672480.366 2272060.731, 672494.325 2...</td>\n",
       "    </tr>\n",
       "    <tr>\n",
       "      <th>4</th>\n",
       "      <td>OpenStreetMap, [Online]. Disponible: http://ww...</td>\n",
       "      <td>Parque</td>\n",
       "      <td>Uso recreativo</td>\n",
       "      <td>POLYGON ((672468.717 2272020.613, 672456.895 2...</td>\n",
       "    </tr>\n",
       "  </tbody>\n",
       "</table>\n",
       "</div>"
      ],
      "text/plain": [
       "                                              Fuente    Tipo             Uso  \\\n",
       "0  OpenStreetMap, [Online]. Disponible: http://ww...  Parque  Uso recreativo   \n",
       "1  OpenStreetMap, [Online]. Disponible: http://ww...  Parque  Uso recreativo   \n",
       "2  OpenStreetMap, [Online]. Disponible: http://ww...  Parque  Uso recreativo   \n",
       "3  OpenStreetMap, [Online]. Disponible: http://ww...  Parque  Uso recreativo   \n",
       "4  OpenStreetMap, [Online]. Disponible: http://ww...  Parque  Uso recreativo   \n",
       "\n",
       "                                            geometry  \n",
       "0  POLYGON ((672507.028 2272132.201, 672520.126 2...  \n",
       "1  POLYGON ((672520.126 2272170.353, 672507.028 2...  \n",
       "2  POLYGON ((672494.325 2272095.205, 672480.366 2...  \n",
       "3  POLYGON ((672480.366 2272060.731, 672494.325 2...  \n",
       "4  POLYGON ((672468.717 2272020.613, 672456.895 2...  "
      ]
     },
     "execution_count": 2,
     "metadata": {},
     "output_type": "execute_result"
    }
   ],
   "source": [
    "schema = 'espacios_publicos'\n",
    "table = 'ep_amg'\n",
    "gdf = aup.gdf_from_db(table,schema)\n",
    "gdf.head()"
   ]
  },
  {
   "cell_type": "markdown",
   "id": "3f1d29aa-cc80-4491-b20c-b5189761a002",
   "metadata": {},
   "source": [
    "## Hexágonos Gdl"
   ]
  },
  {
   "cell_type": "code",
   "execution_count": 3,
   "id": "3edf4d80-639e-4a4a-826a-cadff6494b0c",
   "metadata": {},
   "outputs": [
    {
     "data": {
      "text/html": [
       "<div>\n",
       "<style scoped>\n",
       "    .dataframe tbody tr th:only-of-type {\n",
       "        vertical-align: middle;\n",
       "    }\n",
       "\n",
       "    .dataframe tbody tr th {\n",
       "        vertical-align: top;\n",
       "    }\n",
       "\n",
       "    .dataframe thead th {\n",
       "        text-align: right;\n",
       "    }\n",
       "</style>\n",
       "<table border=\"1\" class=\"dataframe\">\n",
       "  <thead>\n",
       "    <tr style=\"text-align: right;\">\n",
       "      <th></th>\n",
       "      <th>geometry</th>\n",
       "      <th>hex_id_8</th>\n",
       "      <th>CVEGEO</th>\n",
       "      <th>metropolis</th>\n",
       "    </tr>\n",
       "  </thead>\n",
       "  <tbody>\n",
       "    <tr>\n",
       "      <th>0</th>\n",
       "      <td>POLYGON ((-103.60989 20.39686, -103.61044 20.4...</td>\n",
       "      <td>8849abc91bfffff</td>\n",
       "      <td>14002</td>\n",
       "      <td>Guadalajara</td>\n",
       "    </tr>\n",
       "    <tr>\n",
       "      <th>1</th>\n",
       "      <td>POLYGON ((-103.61277 20.37822, -103.60824 20.3...</td>\n",
       "      <td>8849abc953fffff</td>\n",
       "      <td>14002</td>\n",
       "      <td>Guadalajara</td>\n",
       "    </tr>\n",
       "    <tr>\n",
       "      <th>2</th>\n",
       "      <td>POLYGON ((-103.58960 20.38835, -103.58905 20.3...</td>\n",
       "      <td>8849abc901fffff</td>\n",
       "      <td>14002</td>\n",
       "      <td>Guadalajara</td>\n",
       "    </tr>\n",
       "    <tr>\n",
       "      <th>3</th>\n",
       "      <td>POLYGON ((-103.66739 20.43582, -103.66683 20.4...</td>\n",
       "      <td>8849abc8adfffff</td>\n",
       "      <td>14002</td>\n",
       "      <td>Guadalajara</td>\n",
       "    </tr>\n",
       "    <tr>\n",
       "      <th>4</th>\n",
       "      <td>POLYGON ((-103.66904 20.45140, -103.66452 20.4...</td>\n",
       "      <td>8849ab5249fffff</td>\n",
       "      <td>14002</td>\n",
       "      <td>Guadalajara</td>\n",
       "    </tr>\n",
       "  </tbody>\n",
       "</table>\n",
       "</div>"
      ],
      "text/plain": [
       "                                            geometry         hex_id_8 CVEGEO  \\\n",
       "0  POLYGON ((-103.60989 20.39686, -103.61044 20.4...  8849abc91bfffff  14002   \n",
       "1  POLYGON ((-103.61277 20.37822, -103.60824 20.3...  8849abc953fffff  14002   \n",
       "2  POLYGON ((-103.58960 20.38835, -103.58905 20.3...  8849abc901fffff  14002   \n",
       "3  POLYGON ((-103.66739 20.43582, -103.66683 20.4...  8849abc8adfffff  14002   \n",
       "4  POLYGON ((-103.66904 20.45140, -103.66452 20.4...  8849ab5249fffff  14002   \n",
       "\n",
       "    metropolis  \n",
       "0  Guadalajara  \n",
       "1  Guadalajara  \n",
       "2  Guadalajara  \n",
       "3  Guadalajara  \n",
       "4  Guadalajara  "
      ]
     },
     "execution_count": 3,
     "metadata": {},
     "output_type": "execute_result"
    }
   ],
   "source": [
    "hex_schema = \"hexgrid\"\n",
    "hex_table = \"hexgrid_8_city\"\n",
    "c = 'Guadalajara'\n",
    "query = f'SELECT * FROM {hex_schema}.{hex_table} WHERE \\\"metropolis\\\" LIKE \\'{c}\\''\n",
    "hex_gdl = aup.gdf_from_query(query, geometry_col='geometry')\n",
    "hex_gdl.head(5)"
   ]
  },
  {
   "cell_type": "code",
   "execution_count": 4,
   "id": "f224a99a-4221-4fb2-a4da-dac85a0fbcf4",
   "metadata": {},
   "outputs": [
    {
     "name": "stdout",
     "output_type": "stream",
     "text": [
      "CRS of gdf: epsg:4326\n",
      "CRS of hex_gdl: epsg:4326\n"
     ]
    }
   ],
   "source": [
    "gdf = gdf.to_crs(hex_gdl.crs)\n",
    "print(\"CRS of gdf:\", gdf.crs)\n",
    "print(\"CRS of hex_gdl:\", hex_gdl.crs)"
   ]
  },
  {
   "cell_type": "markdown",
   "id": "afd8cb98-6659-4eb1-88a2-2b4e9cf5907b",
   "metadata": {},
   "source": [
    "## Dummy Variables\n",
    "1 = Hexágonos que cuentan con espacios públicos\n",
    "\n",
    "0 = Hexágonos que no cuentan con espacios públicos"
   ]
  },
  {
   "cell_type": "code",
   "execution_count": 5,
   "id": "d8e6e8a0-31b4-4dfb-9591-2367eb169dcd",
   "metadata": {},
   "outputs": [
    {
     "data": {
      "text/html": [
       "<div>\n",
       "<style scoped>\n",
       "    .dataframe tbody tr th:only-of-type {\n",
       "        vertical-align: middle;\n",
       "    }\n",
       "\n",
       "    .dataframe tbody tr th {\n",
       "        vertical-align: top;\n",
       "    }\n",
       "\n",
       "    .dataframe thead th {\n",
       "        text-align: right;\n",
       "    }\n",
       "</style>\n",
       "<table border=\"1\" class=\"dataframe\">\n",
       "  <thead>\n",
       "    <tr style=\"text-align: right;\">\n",
       "      <th></th>\n",
       "      <th>geometry</th>\n",
       "      <th>hex_id_8</th>\n",
       "      <th>CVEGEO</th>\n",
       "      <th>metropolis</th>\n",
       "      <th>EspPublico</th>\n",
       "    </tr>\n",
       "  </thead>\n",
       "  <tbody>\n",
       "    <tr>\n",
       "      <th>0</th>\n",
       "      <td>POLYGON ((-103.60989 20.39686, -103.61044 20.4...</td>\n",
       "      <td>8849abc91bfffff</td>\n",
       "      <td>14002</td>\n",
       "      <td>Guadalajara</td>\n",
       "      <td>0</td>\n",
       "    </tr>\n",
       "    <tr>\n",
       "      <th>1</th>\n",
       "      <td>POLYGON ((-103.61277 20.37822, -103.60824 20.3...</td>\n",
       "      <td>8849abc953fffff</td>\n",
       "      <td>14002</td>\n",
       "      <td>Guadalajara</td>\n",
       "      <td>0</td>\n",
       "    </tr>\n",
       "    <tr>\n",
       "      <th>2</th>\n",
       "      <td>POLYGON ((-103.58960 20.38835, -103.58905 20.3...</td>\n",
       "      <td>8849abc901fffff</td>\n",
       "      <td>14002</td>\n",
       "      <td>Guadalajara</td>\n",
       "      <td>0</td>\n",
       "    </tr>\n",
       "    <tr>\n",
       "      <th>3</th>\n",
       "      <td>POLYGON ((-103.66739 20.43582, -103.66683 20.4...</td>\n",
       "      <td>8849abc8adfffff</td>\n",
       "      <td>14002</td>\n",
       "      <td>Guadalajara</td>\n",
       "      <td>0</td>\n",
       "    </tr>\n",
       "    <tr>\n",
       "      <th>4</th>\n",
       "      <td>POLYGON ((-103.66904 20.45140, -103.66452 20.4...</td>\n",
       "      <td>8849ab5249fffff</td>\n",
       "      <td>14002</td>\n",
       "      <td>Guadalajara</td>\n",
       "      <td>0</td>\n",
       "    </tr>\n",
       "  </tbody>\n",
       "</table>\n",
       "</div>"
      ],
      "text/plain": [
       "                                            geometry         hex_id_8 CVEGEO  \\\n",
       "0  POLYGON ((-103.60989 20.39686, -103.61044 20.4...  8849abc91bfffff  14002   \n",
       "1  POLYGON ((-103.61277 20.37822, -103.60824 20.3...  8849abc953fffff  14002   \n",
       "2  POLYGON ((-103.58960 20.38835, -103.58905 20.3...  8849abc901fffff  14002   \n",
       "3  POLYGON ((-103.66739 20.43582, -103.66683 20.4...  8849abc8adfffff  14002   \n",
       "4  POLYGON ((-103.66904 20.45140, -103.66452 20.4...  8849ab5249fffff  14002   \n",
       "\n",
       "    metropolis  EspPublico  \n",
       "0  Guadalajara           0  \n",
       "1  Guadalajara           0  \n",
       "2  Guadalajara           0  \n",
       "3  Guadalajara           0  \n",
       "4  Guadalajara           0  "
      ]
     },
     "execution_count": 5,
     "metadata": {},
     "output_type": "execute_result"
    }
   ],
   "source": [
    "def mapear_tipo(valor):\n",
    "    tipos_1 = gpd.sjoin(hex_gdl, gdf, op='intersects')\n",
    "    col = tipos_1['geometry']\n",
    "    if valor in col:\n",
    "        return 1\n",
    "    else:\n",
    "        return 0  # Puedes cambiar esto si deseas manejar otros valores\n",
    "\n",
    "# Aplicar la función para crear la nueva columna\n",
    "hex_gdl['EspPublico'] = hex_gdl['geometry'].apply(mapear_tipo)\n",
    "hex_gdl.head()"
   ]
  },
  {
   "cell_type": "code",
   "execution_count": 6,
   "id": "63934812-6283-4ccb-8d38-9b89f7ce6c4a",
   "metadata": {
    "tags": []
   },
   "outputs": [
    {
     "data": {
      "text/plain": [
       "(4095, 5)"
      ]
     },
     "execution_count": 6,
     "metadata": {},
     "output_type": "execute_result"
    }
   ],
   "source": [
    "hex_gdl.shape"
   ]
  },
  {
   "cell_type": "code",
   "execution_count": 7,
   "id": "dd321d0a-c595-4e27-a283-06d861a55628",
   "metadata": {
    "tags": []
   },
   "outputs": [
    {
     "name": "stdout",
     "output_type": "stream",
     "text": [
      "Números de hexagonos sin Espacios Públicos: 3250 \n",
      "Número de Hexágonos con Espacios Públicos: 845\n"
     ]
    }
   ],
   "source": [
    "contador_ceros = np.sum(hex_gdl['EspPublico'] == 0)\n",
    "contador_uno = np.sum(hex_gdl['EspPublico'])\n",
    "print(f'Números de hexagonos sin Espacios Públicos: {contador_ceros} \\nNúmero de Hexágonos con Espacios Públicos: {contador_uno}')"
   ]
  },
  {
   "cell_type": "markdown",
   "id": "53a96ca3-36a6-4482-a8c5-155bec50f725",
   "metadata": {},
   "source": [
    "Casi el 80% de los hexágonos no cuenta con Espacio Público, los métodos de clasificación van a estar muy sesgados por la discrepancia. Entonces tenemos que hacer que sean 50% ambos. Si hacemos un submuestreo y lo ponemos con el área que menos variables tiene, vamos a perder 60% de los datos y eso está aún peor. Entonces sobremuestrearé pero tampoco puedo sumarle 2,400 datos al área que le hace falta porque ahora estaría generando hexágonos sintéticos que no existen. Entonces lo que haré será quitarle 30% al que tiene 80% y ese 30% se lo agregaré al de 20%. De esta forma ambos tendrán 50%. Esto se hará después de juntar con el otro dataset."
   ]
  },
  {
   "cell_type": "markdown",
   "id": "0117d09f-c51f-491e-9a59-a7eb00ed8b3d",
   "metadata": {},
   "source": [
    "## Hexágonos con info de humedad, vegetación y temperatura"
   ]
  },
  {
   "cell_type": "markdown",
   "id": "9a940298-cc09-4a6a-b89d-7f5b956f109a",
   "metadata": {},
   "source": [
    "select {tempe}.hex_id, {tempe}.geometry, {tempe}.city, {tempe}.res,\n",
    "\n",
    "temp_diff_mean,\n",
    "\n",
    "ndvi_mean, ndvi_std, ndvi_median, ndvi_max, ndvi_min, ndvi_diff, ndvi_tend,\n",
    "\n",
    "ndmi_mean, ndmi_median, ndmi_diff\n",
    "\n",
    "from raster_analysis.temperature_analysis_hex tempe\n",
    "\n",
    "inner join raster_analysis.ndmi_analysis_hex ndmi\n",
    "\n",
    "on tempe.hex_id = ndmi.hex_id \n",
    "\n",
    "inner join raster_analysis.ndvi_analysis_hex ndvi\n",
    "\n",
    "on tempe.hex_id = ndvi.hex_id \n",
    "\n",
    "where tempe.city  = 'Guadalajara' and tempe.res = 11"
   ]
  },
  {
   "cell_type": "code",
   "execution_count": 8,
   "id": "b490fe14-42f0-4cc5-ac0e-2050823bb05b",
   "metadata": {},
   "outputs": [
    {
     "data": {
      "text/html": [
       "<div>\n",
       "<style scoped>\n",
       "    .dataframe tbody tr th:only-of-type {\n",
       "        vertical-align: middle;\n",
       "    }\n",
       "\n",
       "    .dataframe tbody tr th {\n",
       "        vertical-align: top;\n",
       "    }\n",
       "\n",
       "    .dataframe thead th {\n",
       "        text-align: right;\n",
       "    }\n",
       "</style>\n",
       "<table border=\"1\" class=\"dataframe\">\n",
       "  <thead>\n",
       "    <tr style=\"text-align: right;\">\n",
       "      <th></th>\n",
       "      <th>hex_id</th>\n",
       "      <th>geometry</th>\n",
       "      <th>city</th>\n",
       "      <th>res</th>\n",
       "      <th>temp_diff_mean</th>\n",
       "      <th>ndvi_mean</th>\n",
       "      <th>ndvi_std</th>\n",
       "      <th>ndvi_median</th>\n",
       "      <th>ndvi_max</th>\n",
       "      <th>ndvi_min</th>\n",
       "      <th>ndvi_diff</th>\n",
       "      <th>ndvi_tend</th>\n",
       "      <th>ndmi_mean</th>\n",
       "      <th>ndmi_median</th>\n",
       "      <th>ndmi_diff</th>\n",
       "    </tr>\n",
       "  </thead>\n",
       "  <tbody>\n",
       "    <tr>\n",
       "      <th>0</th>\n",
       "      <td>8b49ab4b4385fff</td>\n",
       "      <td>POLYGON ((-103.42244 20.71412, -103.42227 20.7...</td>\n",
       "      <td>Guadalajara</td>\n",
       "      <td>11</td>\n",
       "      <td>-2.591753</td>\n",
       "      <td>0.285744</td>\n",
       "      <td>0.064639</td>\n",
       "      <td>0.313281</td>\n",
       "      <td>0.337199</td>\n",
       "      <td>0.195493</td>\n",
       "      <td>0.141706</td>\n",
       "      <td>-0.001637</td>\n",
       "      <td>0.064559</td>\n",
       "      <td>0.059237</td>\n",
       "      <td>0.098502</td>\n",
       "    </tr>\n",
       "    <tr>\n",
       "      <th>1</th>\n",
       "      <td>8b49ab4b4352fff</td>\n",
       "      <td>POLYGON ((-103.42642 20.71518, -103.42625 20.7...</td>\n",
       "      <td>Guadalajara</td>\n",
       "      <td>11</td>\n",
       "      <td>1.001997</td>\n",
       "      <td>0.251013</td>\n",
       "      <td>0.066054</td>\n",
       "      <td>0.247660</td>\n",
       "      <td>0.363757</td>\n",
       "      <td>0.169640</td>\n",
       "      <td>0.194117</td>\n",
       "      <td>0.000504</td>\n",
       "      <td>0.045462</td>\n",
       "      <td>0.042870</td>\n",
       "      <td>0.136833</td>\n",
       "    </tr>\n",
       "    <tr>\n",
       "      <th>2</th>\n",
       "      <td>8b49ab4b5c93fff</td>\n",
       "      <td>POLYGON ((-103.42983 20.71742, -103.42966 20.7...</td>\n",
       "      <td>Guadalajara</td>\n",
       "      <td>11</td>\n",
       "      <td>-0.073338</td>\n",
       "      <td>0.433094</td>\n",
       "      <td>0.167217</td>\n",
       "      <td>0.395738</td>\n",
       "      <td>0.700481</td>\n",
       "      <td>0.225127</td>\n",
       "      <td>0.475354</td>\n",
       "      <td>-0.001176</td>\n",
       "      <td>0.082031</td>\n",
       "      <td>0.062196</td>\n",
       "      <td>0.297254</td>\n",
       "    </tr>\n",
       "    <tr>\n",
       "      <th>3</th>\n",
       "      <td>8b49ab4b4364fff</td>\n",
       "      <td>POLYGON ((-103.42889 20.71318, -103.42872 20.7...</td>\n",
       "      <td>Guadalajara</td>\n",
       "      <td>11</td>\n",
       "      <td>-0.496962</td>\n",
       "      <td>0.483932</td>\n",
       "      <td>0.102783</td>\n",
       "      <td>0.516193</td>\n",
       "      <td>0.560024</td>\n",
       "      <td>0.355706</td>\n",
       "      <td>0.204318</td>\n",
       "      <td>-0.000635</td>\n",
       "      <td>0.170704</td>\n",
       "      <td>0.170154</td>\n",
       "      <td>0.102290</td>\n",
       "    </tr>\n",
       "    <tr>\n",
       "      <th>4</th>\n",
       "      <td>8b49ab4b4244fff</td>\n",
       "      <td>POLYGON ((-103.42798 20.71776, -103.42781 20.7...</td>\n",
       "      <td>Guadalajara</td>\n",
       "      <td>11</td>\n",
       "      <td>-1.213368</td>\n",
       "      <td>0.516648</td>\n",
       "      <td>0.127617</td>\n",
       "      <td>0.526840</td>\n",
       "      <td>0.621555</td>\n",
       "      <td>0.346370</td>\n",
       "      <td>0.275185</td>\n",
       "      <td>-0.001570</td>\n",
       "      <td>0.176541</td>\n",
       "      <td>0.175209</td>\n",
       "      <td>0.160745</td>\n",
       "    </tr>\n",
       "    <tr>\n",
       "      <th>5</th>\n",
       "      <td>8b49ab4aa672fff</td>\n",
       "      <td>POLYGON ((-103.49821 20.79712, -103.49803 20.7...</td>\n",
       "      <td>Guadalajara</td>\n",
       "      <td>11</td>\n",
       "      <td>-0.543837</td>\n",
       "      <td>0.070821</td>\n",
       "      <td>0.022515</td>\n",
       "      <td>0.072187</td>\n",
       "      <td>0.098399</td>\n",
       "      <td>0.045383</td>\n",
       "      <td>0.053017</td>\n",
       "      <td>-0.000515</td>\n",
       "      <td>-0.090500</td>\n",
       "      <td>-0.096391</td>\n",
       "      <td>0.086884</td>\n",
       "    </tr>\n",
       "    <tr>\n",
       "      <th>6</th>\n",
       "      <td>8b49ab591025fff</td>\n",
       "      <td>POLYGON ((-103.42747 20.63604, -103.42729 20.6...</td>\n",
       "      <td>Guadalajara</td>\n",
       "      <td>11</td>\n",
       "      <td>2.871528</td>\n",
       "      <td>0.102646</td>\n",
       "      <td>0.027116</td>\n",
       "      <td>0.111599</td>\n",
       "      <td>0.128599</td>\n",
       "      <td>0.083657</td>\n",
       "      <td>0.044942</td>\n",
       "      <td>-0.000825</td>\n",
       "      <td>-0.045260</td>\n",
       "      <td>-0.062422</td>\n",
       "      <td>0.164418</td>\n",
       "    </tr>\n",
       "    <tr>\n",
       "      <th>7</th>\n",
       "      <td>8b49ab591113fff</td>\n",
       "      <td>POLYGON ((-103.42534 20.63464, -103.42516 20.6...</td>\n",
       "      <td>Guadalajara</td>\n",
       "      <td>11</td>\n",
       "      <td>2.853993</td>\n",
       "      <td>0.063420</td>\n",
       "      <td>0.021638</td>\n",
       "      <td>0.070439</td>\n",
       "      <td>0.086512</td>\n",
       "      <td>0.031465</td>\n",
       "      <td>0.055048</td>\n",
       "      <td>-0.000508</td>\n",
       "      <td>-0.057703</td>\n",
       "      <td>-0.068111</td>\n",
       "      <td>0.141857</td>\n",
       "    </tr>\n",
       "    <tr>\n",
       "      <th>8</th>\n",
       "      <td>8b49ab591046fff</td>\n",
       "      <td>POLYGON ((-103.42898 20.63911, -103.42880 20.6...</td>\n",
       "      <td>Guadalajara</td>\n",
       "      <td>11</td>\n",
       "      <td>2.303820</td>\n",
       "      <td>0.166774</td>\n",
       "      <td>0.049534</td>\n",
       "      <td>0.189609</td>\n",
       "      <td>0.201580</td>\n",
       "      <td>0.102965</td>\n",
       "      <td>0.098614</td>\n",
       "      <td>-0.001791</td>\n",
       "      <td>-0.039841</td>\n",
       "      <td>-0.054019</td>\n",
       "      <td>0.143024</td>\n",
       "    </tr>\n",
       "    <tr>\n",
       "      <th>9</th>\n",
       "      <td>8b49ab590a2dfff</td>\n",
       "      <td>POLYGON ((-103.41703 20.62243, -103.41685 20.6...</td>\n",
       "      <td>Guadalajara</td>\n",
       "      <td>11</td>\n",
       "      <td>1.878299</td>\n",
       "      <td>0.071429</td>\n",
       "      <td>0.016019</td>\n",
       "      <td>0.073151</td>\n",
       "      <td>0.089076</td>\n",
       "      <td>0.053791</td>\n",
       "      <td>0.035285</td>\n",
       "      <td>-0.000443</td>\n",
       "      <td>-0.011300</td>\n",
       "      <td>-0.030330</td>\n",
       "      <td>0.131154</td>\n",
       "    </tr>\n",
       "  </tbody>\n",
       "</table>\n",
       "</div>"
      ],
      "text/plain": [
       "            hex_id                                           geometry  \\\n",
       "0  8b49ab4b4385fff  POLYGON ((-103.42244 20.71412, -103.42227 20.7...   \n",
       "1  8b49ab4b4352fff  POLYGON ((-103.42642 20.71518, -103.42625 20.7...   \n",
       "2  8b49ab4b5c93fff  POLYGON ((-103.42983 20.71742, -103.42966 20.7...   \n",
       "3  8b49ab4b4364fff  POLYGON ((-103.42889 20.71318, -103.42872 20.7...   \n",
       "4  8b49ab4b4244fff  POLYGON ((-103.42798 20.71776, -103.42781 20.7...   \n",
       "5  8b49ab4aa672fff  POLYGON ((-103.49821 20.79712, -103.49803 20.7...   \n",
       "6  8b49ab591025fff  POLYGON ((-103.42747 20.63604, -103.42729 20.6...   \n",
       "7  8b49ab591113fff  POLYGON ((-103.42534 20.63464, -103.42516 20.6...   \n",
       "8  8b49ab591046fff  POLYGON ((-103.42898 20.63911, -103.42880 20.6...   \n",
       "9  8b49ab590a2dfff  POLYGON ((-103.41703 20.62243, -103.41685 20.6...   \n",
       "\n",
       "          city  res  temp_diff_mean  ndvi_mean  ndvi_std  ndvi_median  \\\n",
       "0  Guadalajara   11       -2.591753   0.285744  0.064639     0.313281   \n",
       "1  Guadalajara   11        1.001997   0.251013  0.066054     0.247660   \n",
       "2  Guadalajara   11       -0.073338   0.433094  0.167217     0.395738   \n",
       "3  Guadalajara   11       -0.496962   0.483932  0.102783     0.516193   \n",
       "4  Guadalajara   11       -1.213368   0.516648  0.127617     0.526840   \n",
       "5  Guadalajara   11       -0.543837   0.070821  0.022515     0.072187   \n",
       "6  Guadalajara   11        2.871528   0.102646  0.027116     0.111599   \n",
       "7  Guadalajara   11        2.853993   0.063420  0.021638     0.070439   \n",
       "8  Guadalajara   11        2.303820   0.166774  0.049534     0.189609   \n",
       "9  Guadalajara   11        1.878299   0.071429  0.016019     0.073151   \n",
       "\n",
       "   ndvi_max  ndvi_min  ndvi_diff  ndvi_tend  ndmi_mean  ndmi_median  ndmi_diff  \n",
       "0  0.337199  0.195493   0.141706  -0.001637   0.064559     0.059237   0.098502  \n",
       "1  0.363757  0.169640   0.194117   0.000504   0.045462     0.042870   0.136833  \n",
       "2  0.700481  0.225127   0.475354  -0.001176   0.082031     0.062196   0.297254  \n",
       "3  0.560024  0.355706   0.204318  -0.000635   0.170704     0.170154   0.102290  \n",
       "4  0.621555  0.346370   0.275185  -0.001570   0.176541     0.175209   0.160745  \n",
       "5  0.098399  0.045383   0.053017  -0.000515  -0.090500    -0.096391   0.086884  \n",
       "6  0.128599  0.083657   0.044942  -0.000825  -0.045260    -0.062422   0.164418  \n",
       "7  0.086512  0.031465   0.055048  -0.000508  -0.057703    -0.068111   0.141857  \n",
       "8  0.201580  0.102965   0.098614  -0.001791  -0.039841    -0.054019   0.143024  \n",
       "9  0.089076  0.053791   0.035285  -0.000443  -0.011300    -0.030330   0.131154  "
      ]
     },
     "execution_count": 8,
     "metadata": {},
     "output_type": "execute_result"
    }
   ],
   "source": [
    "hex_schema = \"raster_analysis\"\n",
    "hex_table = \"temperature_analysis_hex\"\n",
    "hex_tabl = \"ndvi_analysis_hex\"\n",
    "hex_tablee = \"ndmi_analysis_hex\"\n",
    "tempe = \"tempe\"\n",
    "ndmi = \"ndmi\"\n",
    "ndvi = \"ndvi\"\n",
    "hex_id = \"hex_id\"\n",
    "c = 'Guadalajara'\n",
    "n = '11'\n",
    "query = f'SELECT {tempe}.hex_id, {tempe}.geometry, {tempe}.city, {tempe}.res, temp_diff_mean,ndvi_mean, ndvi_std, ndvi_median, ndvi_max, ndvi_min, ndvi_diff, ndvi_tend,ndmi_mean, ndmi_median, ndmi_diff FROM {hex_schema}.{hex_table} {tempe} INNER JOIN {hex_schema}.{hex_tablee} {ndmi} ON {tempe}.{hex_id} = {ndmi}.{hex_id} INNER JOIN {hex_schema}.{hex_tabl} {ndvi} ON {tempe}.{hex_id} = {ndvi}.{hex_id} WHERE {tempe}.\\\"city\\\" = \\'{c}\\' AND {tempe}.\\\"res\\\" = {n}'\n",
    "intt_gdl = aup.gdf_from_query(query, geometry_col='geometry')\n",
    "intt_gdl.head(10)"
   ]
  },
  {
   "cell_type": "markdown",
   "id": "3573a856-d6a8-47c5-9511-c3ead1f22f77",
   "metadata": {},
   "source": [
    "## Intersección"
   ]
  },
  {
   "cell_type": "code",
   "execution_count": 9,
   "id": "b3ccd6fc-d015-4ca2-b82c-9b465ce77552",
   "metadata": {},
   "outputs": [],
   "source": [
    "intt_gdl = intt_gdl.set_crs(\"EPSG:4326\")\n",
    "hex_gdl = hex_gdl.set_crs(\"EPSG:4326\")"
   ]
  },
  {
   "cell_type": "code",
   "execution_count": 10,
   "id": "b4f2db33-f2fc-4cce-8794-95ad1b1e33c8",
   "metadata": {},
   "outputs": [
    {
     "data": {
      "text/html": [
       "<div>\n",
       "<style scoped>\n",
       "    .dataframe tbody tr th:only-of-type {\n",
       "        vertical-align: middle;\n",
       "    }\n",
       "\n",
       "    .dataframe tbody tr th {\n",
       "        vertical-align: top;\n",
       "    }\n",
       "\n",
       "    .dataframe thead th {\n",
       "        text-align: right;\n",
       "    }\n",
       "</style>\n",
       "<table border=\"1\" class=\"dataframe\">\n",
       "  <thead>\n",
       "    <tr style=\"text-align: right;\">\n",
       "      <th></th>\n",
       "      <th>hex_id</th>\n",
       "      <th>geometry</th>\n",
       "      <th>temp_diff_mean</th>\n",
       "      <th>ndvi_mean</th>\n",
       "      <th>ndvi_std</th>\n",
       "      <th>ndvi_median</th>\n",
       "      <th>ndvi_max</th>\n",
       "      <th>ndvi_min</th>\n",
       "      <th>ndvi_diff</th>\n",
       "      <th>ndvi_tend</th>\n",
       "      <th>ndmi_mean</th>\n",
       "      <th>ndmi_median</th>\n",
       "      <th>ndmi_diff</th>\n",
       "      <th>hex_id_8</th>\n",
       "      <th>CVEGEO</th>\n",
       "      <th>metropolis</th>\n",
       "      <th>EspPublico</th>\n",
       "    </tr>\n",
       "  </thead>\n",
       "  <tbody>\n",
       "    <tr>\n",
       "      <th>0</th>\n",
       "      <td>8b49ab4b4385fff</td>\n",
       "      <td>POLYGON ((-103.42244 20.71412, -103.42227 20.7...</td>\n",
       "      <td>-2.591753</td>\n",
       "      <td>0.285744</td>\n",
       "      <td>0.064639</td>\n",
       "      <td>0.313281</td>\n",
       "      <td>0.337199</td>\n",
       "      <td>0.195493</td>\n",
       "      <td>0.141706</td>\n",
       "      <td>-0.001637</td>\n",
       "      <td>0.064559</td>\n",
       "      <td>0.059237</td>\n",
       "      <td>0.098502</td>\n",
       "      <td>8849ab4b43fffff</td>\n",
       "      <td>14120</td>\n",
       "      <td>Guadalajara</td>\n",
       "      <td>1</td>\n",
       "    </tr>\n",
       "    <tr>\n",
       "      <th>1</th>\n",
       "      <td>8b49ab4b4352fff</td>\n",
       "      <td>POLYGON ((-103.42642 20.71518, -103.42625 20.7...</td>\n",
       "      <td>1.001997</td>\n",
       "      <td>0.251013</td>\n",
       "      <td>0.066054</td>\n",
       "      <td>0.247660</td>\n",
       "      <td>0.363757</td>\n",
       "      <td>0.169640</td>\n",
       "      <td>0.194117</td>\n",
       "      <td>0.000504</td>\n",
       "      <td>0.045462</td>\n",
       "      <td>0.042870</td>\n",
       "      <td>0.136833</td>\n",
       "      <td>8849ab4b43fffff</td>\n",
       "      <td>14120</td>\n",
       "      <td>Guadalajara</td>\n",
       "      <td>1</td>\n",
       "    </tr>\n",
       "    <tr>\n",
       "      <th>2</th>\n",
       "      <td>8b49ab4b5c93fff</td>\n",
       "      <td>POLYGON ((-103.42983 20.71742, -103.42966 20.7...</td>\n",
       "      <td>-0.073338</td>\n",
       "      <td>0.433094</td>\n",
       "      <td>0.167217</td>\n",
       "      <td>0.395738</td>\n",
       "      <td>0.700481</td>\n",
       "      <td>0.225127</td>\n",
       "      <td>0.475354</td>\n",
       "      <td>-0.001176</td>\n",
       "      <td>0.082031</td>\n",
       "      <td>0.062196</td>\n",
       "      <td>0.297254</td>\n",
       "      <td>8849ab4b43fffff</td>\n",
       "      <td>14120</td>\n",
       "      <td>Guadalajara</td>\n",
       "      <td>1</td>\n",
       "    </tr>\n",
       "    <tr>\n",
       "      <th>3</th>\n",
       "      <td>8b49ab4b4364fff</td>\n",
       "      <td>POLYGON ((-103.42889 20.71318, -103.42872 20.7...</td>\n",
       "      <td>-0.496962</td>\n",
       "      <td>0.483932</td>\n",
       "      <td>0.102783</td>\n",
       "      <td>0.516193</td>\n",
       "      <td>0.560024</td>\n",
       "      <td>0.355706</td>\n",
       "      <td>0.204318</td>\n",
       "      <td>-0.000635</td>\n",
       "      <td>0.170704</td>\n",
       "      <td>0.170154</td>\n",
       "      <td>0.102290</td>\n",
       "      <td>8849ab4b43fffff</td>\n",
       "      <td>14120</td>\n",
       "      <td>Guadalajara</td>\n",
       "      <td>1</td>\n",
       "    </tr>\n",
       "    <tr>\n",
       "      <th>4</th>\n",
       "      <td>8b49ab4b4244fff</td>\n",
       "      <td>POLYGON ((-103.42798 20.71776, -103.42781 20.7...</td>\n",
       "      <td>-1.213368</td>\n",
       "      <td>0.516648</td>\n",
       "      <td>0.127617</td>\n",
       "      <td>0.526840</td>\n",
       "      <td>0.621555</td>\n",
       "      <td>0.346370</td>\n",
       "      <td>0.275185</td>\n",
       "      <td>-0.001570</td>\n",
       "      <td>0.176541</td>\n",
       "      <td>0.175209</td>\n",
       "      <td>0.160745</td>\n",
       "      <td>8849ab4b43fffff</td>\n",
       "      <td>14120</td>\n",
       "      <td>Guadalajara</td>\n",
       "      <td>1</td>\n",
       "    </tr>\n",
       "  </tbody>\n",
       "</table>\n",
       "</div>"
      ],
      "text/plain": [
       "            hex_id                                           geometry  \\\n",
       "0  8b49ab4b4385fff  POLYGON ((-103.42244 20.71412, -103.42227 20.7...   \n",
       "1  8b49ab4b4352fff  POLYGON ((-103.42642 20.71518, -103.42625 20.7...   \n",
       "2  8b49ab4b5c93fff  POLYGON ((-103.42983 20.71742, -103.42966 20.7...   \n",
       "3  8b49ab4b4364fff  POLYGON ((-103.42889 20.71318, -103.42872 20.7...   \n",
       "4  8b49ab4b4244fff  POLYGON ((-103.42798 20.71776, -103.42781 20.7...   \n",
       "\n",
       "   temp_diff_mean  ndvi_mean  ndvi_std  ndvi_median  ndvi_max  ndvi_min  \\\n",
       "0       -2.591753   0.285744  0.064639     0.313281  0.337199  0.195493   \n",
       "1        1.001997   0.251013  0.066054     0.247660  0.363757  0.169640   \n",
       "2       -0.073338   0.433094  0.167217     0.395738  0.700481  0.225127   \n",
       "3       -0.496962   0.483932  0.102783     0.516193  0.560024  0.355706   \n",
       "4       -1.213368   0.516648  0.127617     0.526840  0.621555  0.346370   \n",
       "\n",
       "   ndvi_diff  ndvi_tend  ndmi_mean  ndmi_median  ndmi_diff         hex_id_8  \\\n",
       "0   0.141706  -0.001637   0.064559     0.059237   0.098502  8849ab4b43fffff   \n",
       "1   0.194117   0.000504   0.045462     0.042870   0.136833  8849ab4b43fffff   \n",
       "2   0.475354  -0.001176   0.082031     0.062196   0.297254  8849ab4b43fffff   \n",
       "3   0.204318  -0.000635   0.170704     0.170154   0.102290  8849ab4b43fffff   \n",
       "4   0.275185  -0.001570   0.176541     0.175209   0.160745  8849ab4b43fffff   \n",
       "\n",
       "  CVEGEO   metropolis  EspPublico  \n",
       "0  14120  Guadalajara           1  \n",
       "1  14120  Guadalajara           1  \n",
       "2  14120  Guadalajara           1  \n",
       "3  14120  Guadalajara           1  \n",
       "4  14120  Guadalajara           1  "
      ]
     },
     "execution_count": 10,
     "metadata": {},
     "output_type": "execute_result"
    }
   ],
   "source": [
    "inter = gpd.sjoin(intt_gdl, hex_gdl, op='intersects')\n",
    "inter.drop(columns=['index_right','city','res'], inplace=True)\n",
    "inter.head()"
   ]
  },
  {
   "cell_type": "code",
   "execution_count": 11,
   "id": "1036456e-fe51-421d-b556-57b91e0dc326",
   "metadata": {},
   "outputs": [
    {
     "data": {
      "text/plain": [
       "(455422, 17)"
      ]
     },
     "execution_count": 11,
     "metadata": {},
     "output_type": "execute_result"
    }
   ],
   "source": [
    "inter.shape"
   ]
  },
  {
   "cell_type": "code",
   "execution_count": 12,
   "id": "b437914a-28ea-4e5e-9c70-ca37134fe7a6",
   "metadata": {},
   "outputs": [
    {
     "data": {
      "text/plain": [
       "hex_id            0\n",
       "geometry          0\n",
       "temp_diff_mean    0\n",
       "ndvi_mean         0\n",
       "ndvi_std          0\n",
       "ndvi_median       0\n",
       "ndvi_max          0\n",
       "ndvi_min          0\n",
       "ndvi_diff         0\n",
       "ndvi_tend         0\n",
       "ndmi_mean         0\n",
       "ndmi_median       0\n",
       "ndmi_diff         0\n",
       "hex_id_8          0\n",
       "CVEGEO            0\n",
       "metropolis        0\n",
       "EspPublico        0\n",
       "dtype: int64"
      ]
     },
     "execution_count": 12,
     "metadata": {},
     "output_type": "execute_result"
    }
   ],
   "source": [
    "pd.isna(inter).sum()"
   ]
  },
  {
   "cell_type": "code",
   "execution_count": 15,
   "id": "105017ac-eec4-4511-b569-990650feb270",
   "metadata": {
    "tags": []
   },
   "outputs": [
    {
     "name": "stdout",
     "output_type": "stream",
     "text": [
      "Números de hexagonos sin Espacios Públicos: 141332 \n",
      "Número de Hexágonos con Espacios Públicos: 314090\n"
     ]
    }
   ],
   "source": [
    "cont_ceros = np.sum(inter['EspPublico'] == 0)\n",
    "cont_uno = np.sum(inter['EspPublico'])\n",
    "print(f'Números de hexagonos sin Espacios Públicos: {cont_ceros} \\nNúmero de Hexágonos con Espacios Públicos: {cont_uno}')"
   ]
  },
  {
   "cell_type": "markdown",
   "id": "ab865468-07e4-45e4-921e-da8092695ec5",
   "metadata": {},
   "source": [
    "Ahora los hexágonos con espacios públicos tienen el 70% de los datos haremos un oversampling para tenerlos 50% ambos."
   ]
  },
  {
   "cell_type": "markdown",
   "id": "56d253b7-c50b-4705-baa7-cb8a27463c50",
   "metadata": {},
   "source": [
    "## Sobremuestreo"
   ]
  },
  {
   "cell_type": "code",
   "execution_count": 32,
   "id": "05f74e0d-491f-49c7-a7a6-30b703c420d7",
   "metadata": {
    "tags": []
   },
   "outputs": [],
   "source": [
    "x = inter[['temp_diff_mean','ndvi_mean','ndvi_std','ndvi_median','ndvi_max','ndvi_min','ndvi_diff','ndvi_tend','ndmi_mean','ndmi_median','ndmi_diff']]\n",
    "y = inter['EspPublico']"
   ]
  },
  {
   "cell_type": "markdown",
   "id": "7c35789d-d5ed-45f1-8330-3c3aa6274f04",
   "metadata": {},
   "source": [
    "Se utilizará el método SMOTE para submuestrear porque este nos permite mantener la misma cantidad de datos que tenemos y así poder hacer un balanced ratio lo cual nos va a ayudar a reducir el riesgo de hacer un overfitting el cual genera que nuestros modelos de clasificación se sesguen y pierda valor el resultado porque no nos servirá para el mundo real de los datos, solo para este caso en específico."
   ]
  },
  {
   "cell_type": "code",
   "execution_count": 28,
   "id": "e78d1c8a-2f7d-4e11-a6fe-7e903eb84f43",
   "metadata": {
    "tags": []
   },
   "outputs": [],
   "source": [
    "smote = SMOTE(sampling_strategy='auto', random_state=42)\n",
    "\n",
    "# Resample the data to balance the classes\n",
    "x_r, y_r = smote.fit_resample(x, y)"
   ]
  },
  {
   "cell_type": "markdown",
   "id": "57a87f61-d184-4ab1-92f2-3a6b8994257c",
   "metadata": {},
   "source": [
    "## Métodos de Clasificación"
   ]
  },
  {
   "cell_type": "markdown",
   "id": "6454b527-33cc-4827-89f9-469184df4fe3",
   "metadata": {},
   "source": [
    "### Regresión Logística"
   ]
  },
  {
   "cell_type": "code",
   "execution_count": 29,
   "id": "7c6a11af-ffaf-46c4-a039-32994400200a",
   "metadata": {
    "tags": []
   },
   "outputs": [],
   "source": [
    "x_train, x_test, y_train, y_test = train_test_split(x_r,y_r, test_size = 0.2, random_state = 42)\n",
    "scaler = StandardScaler()\n",
    "x_train_scale = scaler.fit_transform(x_train)\n",
    "x_test_scale = scaler.fit_transform(x_test)"
   ]
  },
  {
   "cell_type": "code",
   "execution_count": 30,
   "id": "e9218021-7b99-4551-8374-e3aefb6bff50",
   "metadata": {
    "tags": []
   },
   "outputs": [
    {
     "data": {
      "image/png": "[encoded data removed]",
      "text/plain": [
       "<Figure size 1000x700 with 2 Axes>"
      ]
     },
     "metadata": {},
     "output_type": "display_data"
    }
   ],
   "source": [
    "clf = LogisticRegression()\n",
    "clf.fit(x_train_scale, y_train)\n",
    "y_pred = clf.predict(x_test_scale)\n",
    "cm = confusion_matrix(y_test,y_pred)\n",
    "class_labels = ['Espacio Público', 'No Espacio Público']\n",
    "plt.figure(figsize = (10,7))\n",
    "sns.heatmap(cm, annot = True, fmt = \"g\", cmap=\"Blues\", xticklabels=class_labels, yticklabels=class_labels)\n",
    "plt.xlabel('Predicted', fontsize = 12, fontweight  = 'bold')\n",
    "plt.ylabel('Actual', fontsize = 12, fontweight  = 'bold')\n",
    "plt.title('Matriz de Confusión', fontsize = 15, fontweight = 'bold')\n",
    "plt.show()"
   ]
  },
  {
   "cell_type": "code",
   "execution_count": 31,
   "id": "e99c86fa-f71b-4cad-bc67-f018a3054e83",
   "metadata": {
    "tags": []
   },
   "outputs": [
    {
     "name": "stdout",
     "output_type": "stream",
     "text": [
      "Accuracy: 0.7419370244197523\n"
     ]
    }
   ],
   "source": [
    "accuracy = accuracy_score(y_test, y_pred)\n",
    "print(f'Accuracy: {accuracy}')"
   ]
  },
  {
   "cell_type": "markdown",
   "id": "5bf67297-8ea3-4160-ab9b-eff740792440",
   "metadata": {},
   "source": [
    "### Naive Bayes"
   ]
  },
  {
   "cell_type": "code",
   "execution_count": 23,
   "id": "50cf3b62-719b-418d-b7b2-6b26cd25f05c",
   "metadata": {
    "tags": []
   },
   "outputs": [
    {
     "data": {
      "text/html": [
       "<style>#sk-container-id-1 {color: black;background-color: white;}#sk-container-id-1 pre{padding: 0;}#sk-container-id-1 div.sk-toggleable {background-color: white;}#sk-container-id-1 label.sk-toggleable__label {cursor: pointer;display: block;width: 100%;margin-bottom: 0;padding: 0.3em;box-sizing: border-box;text-align: center;}#sk-container-id-1 label.sk-toggleable__label-arrow:before {content: \"▸\";float: left;margin-right: 0.25em;color: #696969;}#sk-container-id-1 label.sk-toggleable__label-arrow:hover:before {color: black;}#sk-container-id-1 div.sk-estimator:hover label.sk-toggleable__label-arrow:before {color: black;}#sk-container-id-1 div.sk-toggleable__content {max-height: 0;max-width: 0;overflow: hidden;text-align: left;background-color: #f0f8ff;}#sk-container-id-1 div.sk-toggleable__content pre {margin: 0.2em;color: black;border-radius: 0.25em;background-color: #f0f8ff;}#sk-container-id-1 input.sk-toggleable__control:checked~div.sk-toggleable__content {max-height: 200px;max-width: 100%;overflow: auto;}#sk-container-id-1 input.sk-toggleable__control:checked~label.sk-toggleable__label-arrow:before {content: \"▾\";}#sk-container-id-1 div.sk-estimator input.sk-toggleable__control:checked~label.sk-toggleable__label {background-color: #d4ebff;}#sk-container-id-1 div.sk-label input.sk-toggleable__control:checked~label.sk-toggleable__label {background-color: #d4ebff;}#sk-container-id-1 input.sk-hidden--visually {border: 0;clip: rect(1px 1px 1px 1px);clip: rect(1px, 1px, 1px, 1px);height: 1px;margin: -1px;overflow: hidden;padding: 0;position: absolute;width: 1px;}#sk-container-id-1 div.sk-estimator {font-family: monospace;background-color: #f0f8ff;border: 1px dotted black;border-radius: 0.25em;box-sizing: border-box;margin-bottom: 0.5em;}#sk-container-id-1 div.sk-estimator:hover {background-color: #d4ebff;}#sk-container-id-1 div.sk-parallel-item::after {content: \"\";width: 100%;border-bottom: 1px solid gray;flex-grow: 1;}#sk-container-id-1 div.sk-label:hover label.sk-toggleable__label {background-color: #d4ebff;}#sk-container-id-1 div.sk-serial::before {content: \"\";position: absolute;border-left: 1px solid gray;box-sizing: border-box;top: 0;bottom: 0;left: 50%;z-index: 0;}#sk-container-id-1 div.sk-serial {display: flex;flex-direction: column;align-items: center;background-color: white;padding-right: 0.2em;padding-left: 0.2em;position: relative;}#sk-container-id-1 div.sk-item {position: relative;z-index: 1;}#sk-container-id-1 div.sk-parallel {display: flex;align-items: stretch;justify-content: center;background-color: white;position: relative;}#sk-container-id-1 div.sk-item::before, #sk-container-id-1 div.sk-parallel-item::before {content: \"\";position: absolute;border-left: 1px solid gray;box-sizing: border-box;top: 0;bottom: 0;left: 50%;z-index: -1;}#sk-container-id-1 div.sk-parallel-item {display: flex;flex-direction: column;z-index: 1;position: relative;background-color: white;}#sk-container-id-1 div.sk-parallel-item:first-child::after {align-self: flex-end;width: 50%;}#sk-container-id-1 div.sk-parallel-item:last-child::after {align-self: flex-start;width: 50%;}#sk-container-id-1 div.sk-parallel-item:only-child::after {width: 0;}#sk-container-id-1 div.sk-dashed-wrapped {border: 1px dashed gray;margin: 0 0.4em 0.5em 0.4em;box-sizing: border-box;padding-bottom: 0.4em;background-color: white;}#sk-container-id-1 div.sk-label label {font-family: monospace;font-weight: bold;display: inline-block;line-height: 1.2em;}#sk-container-id-1 div.sk-label-container {text-align: center;}#sk-container-id-1 div.sk-container {/* jupyter's `normalize.less` sets `[hidden] { display: none; }` but bootstrap.min.css set `[hidden] { display: none !important; }` so we also need the `!important` here to be able to override the default hidden behavior on the sphinx rendered scikit-learn.org. See: https://github.com/scikit-learn/scikit-learn/issues/21755 */display: inline-block !important;position: relative;}#sk-container-id-1 div.sk-text-repr-fallback {display: none;}</style><div id=\"sk-container-id-1\" class=\"sk-top-container\"><div class=\"sk-text-repr-fallback\"><pre>GaussianNB()</pre><b>In a Jupyter environment, please rerun this cell to show the HTML representation or trust the notebook. <br />On GitHub, the HTML representation is unable to render, please try loading this page with nbviewer.org.</b></div><div class=\"sk-container\" hidden><div class=\"sk-item\"><div class=\"sk-estimator sk-toggleable\"><input class=\"sk-toggleable__control sk-hidden--visually\" id=\"sk-estimator-id-1\" type=\"checkbox\" checked><label for=\"sk-estimator-id-1\" class=\"sk-toggleable__label sk-toggleable__label-arrow\">GaussianNB</label><div class=\"sk-toggleable__content\"><pre>GaussianNB()</pre></div></div></div></div></div>"
      ],
      "text/plain": [
       "GaussianNB()"
      ]
     },
     "execution_count": 23,
     "metadata": {},
     "output_type": "execute_result"
    }
   ],
   "source": [
    "nb = GaussianNB()\n",
    "nb.fit(x_train, y_train)"
   ]
  },
  {
   "cell_type": "code",
   "execution_count": 24,
   "id": "d16bc4e8-1cc1-42c9-946d-00d6c4bafe15",
   "metadata": {
    "tags": []
   },
   "outputs": [
    {
     "data": {
      "image/png": "[encoded data removed]",
      "text/plain": [
       "<Figure size 1000x700 with 2 Axes>"
      ]
     },
     "metadata": {},
     "output_type": "display_data"
    }
   ],
   "source": [
    "y_prend = nb.predict(x_test)\n",
    "cm = confusion_matrix(y_test, y_prend)\n",
    "class_labels = ['Espacio Público', 'No Espacio Público']\n",
    "plt.figure(figsize = (10,7))\n",
    "sns.heatmap(cm, annot = True, fmt = \"g\", cmap=\"Reds\", xticklabels=class_labels, yticklabels=class_labels)\n",
    "plt.xlabel('Predicted', fontsize = 12, fontweight  = 'bold')\n",
    "plt.ylabel('Actual', fontsize = 12, fontweight  = 'bold')\n",
    "plt.title('Matriz de Confusión', fontsize = 15, fontweight = 'bold')\n",
    "plt.show()"
   ]
  },
  {
   "cell_type": "code",
   "execution_count": 25,
   "id": "a62b3e24-1911-4044-8c55-a900a9c00791",
   "metadata": {
    "tags": []
   },
   "outputs": [
    {
     "name": "stdout",
     "output_type": "stream",
     "text": [
      "Accuracy: 0.7087777388646567\n"
     ]
    }
   ],
   "source": [
    "accuracy = accuracy_score(y_test, y_prend)\n",
    "print(f'Accuracy: {accuracy}')"
   ]
  },
  {
   "cell_type": "markdown",
   "id": "eb11aa72-2056-453c-81d5-b922166fdb79",
   "metadata": {},
   "source": [
    "Podemos observar que tenemos en ambos arriba de 70% de accuracy. El de regresión logística tiene un 75% de accuracy que es algo ya muy aceptable para problemas del mundo real."
   ]
  },
  {
   "cell_type": "markdown",
   "id": "c3cc81bc-c0b4-42f8-b659-d952a9f9bd76",
   "metadata": {},
   "source": [
    "## Matriz de correlación"
   ]
  },
  {
   "cell_type": "markdown",
   "id": "92d89bea-5b28-4336-baa0-a9fb714bcac2",
   "metadata": {},
   "source": [
    "Haremos una matriz de correlación para verificar las variables que estamos utilizando para clasificar, para ver si encontramos algo que pueda mejorar el accuracy de la clasificación. Lo primero que haremos es ver si hay variables dependientes con la que buscamos clasificar para así poder quitarlas en los modelos de clasificación."
   ]
  },
  {
   "cell_type": "code",
   "execution_count": 26,
   "id": "2b91b1c3-33a3-4dc9-babc-a124d21ba855",
   "metadata": {
    "tags": []
   },
   "outputs": [
    {
     "name": "stderr",
     "output_type": "stream",
     "text": [
      "findfont: Font family 'Arial' not found.\n",
      "findfont: Font family 'Arial' not found.\n",
      "findfont: Font family 'Arial' not found.\n",
      "findfont: Font family 'Arial' not found.\n",
      "findfont: Font family 'Arial' not found.\n",
      "findfont: Font family 'Arial' not found.\n"
     ]
    },
    {
     "data": {
      "image/png": "[encoded data removed]",
      "text/plain": [
       "<Figure size 2400x1200 with 2 Axes>"
      ]
     },
     "metadata": {},
     "output_type": "display_data"
    }
   ],
   "source": [
    "correlacion = inter.corr()\n",
    "\n",
    "figsize=(24, 12)\n",
    "        \n",
    "fig = plt.figure(figsize = figsize)\n",
    "\n",
    "# Título\n",
    "plt.suptitle(\n",
    "    \"Matriz de Correlación GeoDataFrame\",\n",
    "    color='black',\n",
    "    fontsize=18,\n",
    "    #loc='center',\n",
    "    fontweight='bold',\n",
    "    style='normal',\n",
    "    family='Arial',\n",
    "    x = 0.5,\n",
    "    y=0.92)\n",
    "\n",
    "# Subtítulo de gráfico\n",
    "\n",
    "nota = '''Nota: Hay multicolinealidad en algunas variables'''\n",
    "\n",
    "n = ''\n",
    "#fig.text(0.5, 0.87, nota, ha='center', fontsize=12, style ='italic', family='Arial')\n",
    "\n",
    "# creating mask\n",
    "mask = np.triu(np.ones_like(correlacion))\n",
    "\n",
    "sns.heatmap(correlacion.corr(), annot = True, mask=mask,\n",
    "            cmap = 'viridis');\n",
    "\n",
    "#plt.savefig('matriz_correlacion_Husky_10_Ed_C.png')\n",
    "\n",
    "plt.show()"
   ]
  },
  {
   "cell_type": "markdown",
   "id": "018d4e82-f500-4e0c-93c9-54f2449c7a3b",
   "metadata": {},
   "source": [
    "Observamos que todas las variables son independientes con respecto a la variable 'EspPublico' que es la que se busca clasificar. Por lo tanto, no podemos quitar ninguna variable en los modelos de clasificación. Ahora intentaremos el PCA."
   ]
  },
  {
   "cell_type": "markdown",
   "id": "79dd0f9f-6bbc-4499-8b7f-5f175221883c",
   "metadata": {},
   "source": [
    "## PCA"
   ]
  },
  {
   "cell_type": "markdown",
   "id": "518592cb-7453-47ee-8a4b-3351a7d96395",
   "metadata": {},
   "source": [
    "Se implementa el PCA para reducir dimensionalidad, es decir, usar solo las columnas que nos pueden decir el 70% de clasificación "
   ]
  }
 ],
 "metadata": {
  "kernelspec": {
   "display_name": "Python 3 (ipykernel)",
   "language": "python",
   "name": "python3"
  },
  "language_info": {
   "codemirror_mode": {
    "name": "ipython",
    "version": 3
   },
   "file_extension": ".py",
   "mimetype": "text/x-python",
   "name": "python",
   "nbconvert_exporter": "python",
   "pygments_lexer": "ipython3",
   "version": "3.10.10"
  }
 },
 "nbformat": 4,
 "nbformat_minor": 5
}
