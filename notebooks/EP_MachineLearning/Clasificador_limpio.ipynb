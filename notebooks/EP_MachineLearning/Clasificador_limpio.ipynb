{
 "cells": [
  {
   "cell_type": "code",
   "execution_count": 1,
   "id": "bef6b770-c818-4ead-ac20-ea54dd33c695",
   "metadata": {
    "tags": []
   },
   "outputs": [],
   "source": [
    "import warnings\n",
    "warnings.filterwarnings('ignore')\n",
    "import geopandas as gpd\n",
    "from geopandas.tools import overlay\n",
    "import matplotlib.pyplot as plt\n",
    "import os \n",
    "import sys\n",
    "module_path = os.path.abspath(os.path.join('../../'))\n",
    "if module_path not in sys.path:\n",
    "    sys.path.append(module_path)\n",
    "    import aup\n",
    "import pandas as pd\n",
    "import numpy as np\n",
    "import seaborn as sns\n",
    "from sklearn.model_selection import train_test_split\n",
    "from sklearn.metrics import accuracy_score, confusion_matrix\n",
    "from sklearn.linear_model import LogisticRegression\n",
    "from sklearn.preprocessing import StandardScaler\n",
    "from sklearn.naive_bayes import GaussianNB\n",
    "from sklearn.ensemble import RandomForestClassifier\n",
    "from sklearn.ensemble import AdaBoostClassifier\n",
    "from sklearn.model_selection import GridSearchCV, RandomizedSearchCV \n",
    "import xgboost as xgb\n",
    "import random\n",
    "from sklearn.model_selection import StratifiedKFold\n",
    "from sklearn.metrics import classification_report, mean_squared_error\n",
    "#import tensorflow as tf\n",
    "#from keras.models import Sequential\n",
    "#from keras.layers import Dense\n",
    "#from tensorflow.keras.utils import to_categorical"
   ]
  },
  {
   "cell_type": "markdown",
   "id": "6a5d586c-a722-4294-aa2a-c5b3bc1bd166",
   "metadata": {},
   "source": [
    "## Espacios Públicos GDL"
   ]
  },
  {
   "cell_type": "code",
   "execution_count": 21,
   "id": "7b88570c-a2d2-4f0a-8f20-9737d5478326",
   "metadata": {
    "tags": []
   },
   "outputs": [
    {
     "name": "stdout",
     "output_type": "stream",
     "text": [
      "(8499, 4)\n"
     ]
    },
    {
     "data": {
      "text/html": [
       "<div>\n",
       "<style scoped>\n",
       "    .dataframe tbody tr th:only-of-type {\n",
       "        vertical-align: middle;\n",
       "    }\n",
       "\n",
       "    .dataframe tbody tr th {\n",
       "        vertical-align: top;\n",
       "    }\n",
       "\n",
       "    .dataframe thead th {\n",
       "        text-align: right;\n",
       "    }\n",
       "</style>\n",
       "<table border=\"1\" class=\"dataframe\">\n",
       "  <thead>\n",
       "    <tr style=\"text-align: right;\">\n",
       "      <th></th>\n",
       "      <th>Fuente</th>\n",
       "      <th>Tipo</th>\n",
       "      <th>Uso</th>\n",
       "      <th>geometry</th>\n",
       "    </tr>\n",
       "  </thead>\n",
       "  <tbody>\n",
       "    <tr>\n",
       "      <th>0</th>\n",
       "      <td>OpenStreetMap, [Online]. Disponible: http://ww...</td>\n",
       "      <td>Parque</td>\n",
       "      <td>Uso recreativo</td>\n",
       "      <td>POLYGON ((672507.028 2272132.201, 672520.126 2...</td>\n",
       "    </tr>\n",
       "    <tr>\n",
       "      <th>1</th>\n",
       "      <td>OpenStreetMap, [Online]. Disponible: http://ww...</td>\n",
       "      <td>Parque</td>\n",
       "      <td>Uso recreativo</td>\n",
       "      <td>POLYGON ((672520.126 2272170.353, 672507.028 2...</td>\n",
       "    </tr>\n",
       "  </tbody>\n",
       "</table>\n",
       "</div>"
      ],
      "text/plain": [
       "                                              Fuente    Tipo             Uso  \\\n",
       "0  OpenStreetMap, [Online]. Disponible: http://ww...  Parque  Uso recreativo   \n",
       "1  OpenStreetMap, [Online]. Disponible: http://ww...  Parque  Uso recreativo   \n",
       "\n",
       "                                            geometry  \n",
       "0  POLYGON ((672507.028 2272132.201, 672520.126 2...  \n",
       "1  POLYGON ((672520.126 2272170.353, 672507.028 2...  "
      ]
     },
     "execution_count": 21,
     "metadata": {},
     "output_type": "execute_result"
    }
   ],
   "source": [
    "schema = 'espacios_publicos'\n",
    "table = 'ep_amg'\n",
    "gdf_gdl = aup.gdf_from_db(table,schema)\n",
    "print(gdf_gdl.shape)\n",
    "gdf_gdl.head(2)"
   ]
  },
  {
   "cell_type": "code",
   "execution_count": 23,
   "id": "0e43c132-52ad-44d4-83ba-00b5c68a48db",
   "metadata": {},
   "outputs": [
    {
     "data": {
      "text/plain": [
       "array(['Parque', 'Espacio verde vecinal', 'Área natural',\n",
       "       'Unidad deportiva', 'Plaza', 'Área natural protegida'],\n",
       "      dtype=object)"
      ]
     },
     "execution_count": 23,
     "metadata": {},
     "output_type": "execute_result"
    }
   ],
   "source": [
    "gdf_gdl.Tipo.unique()"
   ]
  },
  {
   "cell_type": "code",
   "execution_count": 22,
   "id": "83a98a12-29c7-4f77-96df-4a601c18b85c",
   "metadata": {},
   "outputs": [
    {
     "name": "stdout",
     "output_type": "stream",
     "text": [
      "(4100, 4)\n"
     ]
    }
   ],
   "source": [
    "gdf_gdl = gdf_gdl.loc[(gdf_gdl.Tipo!='Glorieta')&(gdf_gdl.Tipo!='Camellón')].copy()\n",
    "print(gdf_gdl.shape)"
   ]
  },
  {
   "cell_type": "markdown",
   "id": "26bfcc14-3e4a-4914-aaa9-64ad81ef330e",
   "metadata": {},
   "source": [
    "## Espacios Públicos QRO"
   ]
  },
  {
   "cell_type": "code",
   "execution_count": 24,
   "id": "df4e414b-92c1-413a-b2d7-783c1bef4769",
   "metadata": {
    "tags": []
   },
   "outputs": [
    {
     "name": "stdout",
     "output_type": "stream",
     "text": [
      "(4814, 9)\n"
     ]
    },
    {
     "data": {
      "text/html": [
       "<div>\n",
       "<style scoped>\n",
       "    .dataframe tbody tr th:only-of-type {\n",
       "        vertical-align: middle;\n",
       "    }\n",
       "\n",
       "    .dataframe tbody tr th {\n",
       "        vertical-align: top;\n",
       "    }\n",
       "\n",
       "    .dataframe thead th {\n",
       "        text-align: right;\n",
       "    }\n",
       "</style>\n",
       "<table border=\"1\" class=\"dataframe\">\n",
       "  <thead>\n",
       "    <tr style=\"text-align: right;\">\n",
       "      <th></th>\n",
       "      <th>geografico</th>\n",
       "      <th>nombre</th>\n",
       "      <th>tipo</th>\n",
       "      <th>cveserv</th>\n",
       "      <th>cvegeo</th>\n",
       "      <th>geometria</th>\n",
       "      <th>fechaact</th>\n",
       "      <th>condicion</th>\n",
       "      <th>geometry</th>\n",
       "    </tr>\n",
       "  </thead>\n",
       "  <tbody>\n",
       "    <tr>\n",
       "      <th>0</th>\n",
       "      <td>Bordo</td>\n",
       "      <td>Ninguno</td>\n",
       "      <td>No Aplica</td>\n",
       "      <td>036</td>\n",
       "      <td>220010001</td>\n",
       "      <td>Area</td>\n",
       "      <td>12/2007</td>\n",
       "      <td>No Aplica</td>\n",
       "      <td>POLYGON ((-100.14119 20.18851, -100.14112 20.1...</td>\n",
       "    </tr>\n",
       "    <tr>\n",
       "      <th>1</th>\n",
       "      <td>Bordo</td>\n",
       "      <td>Ninguno</td>\n",
       "      <td>No Aplica</td>\n",
       "      <td>037</td>\n",
       "      <td>220010001</td>\n",
       "      <td>Area</td>\n",
       "      <td>12/2007</td>\n",
       "      <td>No Aplica</td>\n",
       "      <td>POLYGON ((-100.13606 20.18186, -100.13603 20.1...</td>\n",
       "    </tr>\n",
       "  </tbody>\n",
       "</table>\n",
       "</div>"
      ],
      "text/plain": [
       "  geografico   nombre       tipo cveserv     cvegeo geometria fechaact  \\\n",
       "0      Bordo  Ninguno  No Aplica     036  220010001      Area  12/2007   \n",
       "1      Bordo  Ninguno  No Aplica     037  220010001      Area  12/2007   \n",
       "\n",
       "   condicion                                           geometry  \n",
       "0  No Aplica  POLYGON ((-100.14119 20.18851, -100.14112 20.1...  \n",
       "1  No Aplica  POLYGON ((-100.13606 20.18186, -100.13603 20.1...  "
      ]
     },
     "execution_count": 24,
     "metadata": {},
     "output_type": "execute_result"
    }
   ],
   "source": [
    "schema = 'espacios_publicos'\n",
    "table = 'ep_qro'\n",
    "gdf_qro = aup.gdf_from_db(table,schema)\n",
    "print(gdf_qro.shape)\n",
    "gdf_qro.head(2)"
   ]
  },
  {
   "cell_type": "code",
   "execution_count": 25,
   "id": "79ac2f93-48b6-4efc-9c7c-ad15bd8dbe90",
   "metadata": {},
   "outputs": [
    {
     "data": {
      "text/plain": [
       "array(['No Aplica', 'Intermitente', 'CamellÃ\\xa0n', 'Lienzo Charro',\n",
       "       'Otro', 'Glorieta', 'Urbana', 'CamellÃ³n', 'Perenne',\n",
       "       'Zona Industrial', 'Tanque Elevado', 'Granja o Establo',\n",
       "       'Tiradero', 'Caja de Agua', 'Diverso', 'Monumento u Obelisco',\n",
       "       'Planta de Tratamiento de Agua'], dtype=object)"
      ]
     },
     "execution_count": 25,
     "metadata": {},
     "output_type": "execute_result"
    }
   ],
   "source": [
    "gdf_qro.tipo.unique()"
   ]
  },
  {
   "cell_type": "markdown",
   "id": "89affc99-a210-4986-842a-152927ced7b7",
   "metadata": {},
   "source": [
    "Eliminar Querétaro"
   ]
  },
  {
   "cell_type": "markdown",
   "id": "144e61b7-39b5-41a6-bb2d-6531536032f0",
   "metadata": {},
   "source": [
    "## Espacios Públicos CDMX"
   ]
  },
  {
   "cell_type": "code",
   "execution_count": 26,
   "id": "a836a631-c955-46bb-ae66-358ca29ae429",
   "metadata": {
    "tags": []
   },
   "outputs": [
    {
     "name": "stdout",
     "output_type": "stream",
     "text": [
      "(11609, 13)\n"
     ]
    },
    {
     "data": {
      "text/html": [
       "<div>\n",
       "<style scoped>\n",
       "    .dataframe tbody tr th:only-of-type {\n",
       "        vertical-align: middle;\n",
       "    }\n",
       "\n",
       "    .dataframe tbody tr th {\n",
       "        vertical-align: top;\n",
       "    }\n",
       "\n",
       "    .dataframe thead th {\n",
       "        text-align: right;\n",
       "    }\n",
       "</style>\n",
       "<table border=\"1\" class=\"dataframe\">\n",
       "  <thead>\n",
       "    <tr style=\"text-align: right;\">\n",
       "      <th></th>\n",
       "      <th>id</th>\n",
       "      <th>geo_point_2d</th>\n",
       "      <th>geo_shape</th>\n",
       "      <th>subcat_sed</th>\n",
       "      <th>subcve_sed</th>\n",
       "      <th>gid</th>\n",
       "      <th>cve_delg</th>\n",
       "      <th>delegacion</th>\n",
       "      <th>categoria</th>\n",
       "      <th>superficie</th>\n",
       "      <th>perimetro</th>\n",
       "      <th>cve_sedema</th>\n",
       "      <th>geometry</th>\n",
       "    </tr>\n",
       "  </thead>\n",
       "  <tbody>\n",
       "    <tr>\n",
       "      <th>0</th>\n",
       "      <td>0</td>\n",
       "      <td>19.4877568178,-99.2060645931</td>\n",
       "      <td>{'type': 'MultiPolygon', 'coordinates': [[[[-9...</td>\n",
       "      <td>Panteones</td>\n",
       "      <td>604</td>\n",
       "      <td>268</td>\n",
       "      <td>2</td>\n",
       "      <td>Azcapotzalco</td>\n",
       "      <td>Equipamientos urbanos con vegetación</td>\n",
       "      <td>6660.027554</td>\n",
       "      <td>329.264738</td>\n",
       "      <td>600</td>\n",
       "      <td>POLYGON ((-99.20639 19.48819, -99.20556 19.487...</td>\n",
       "    </tr>\n",
       "    <tr>\n",
       "      <th>1</th>\n",
       "      <td>1</td>\n",
       "      <td>19.3887689803,-99.116393168</td>\n",
       "      <td>{'type': 'MultiPolygon', 'coordinates': [[[[-9...</td>\n",
       "      <td>Deportivos</td>\n",
       "      <td>601</td>\n",
       "      <td>87</td>\n",
       "      <td>8</td>\n",
       "      <td>Iztacalco</td>\n",
       "      <td>Equipamientos urbanos con vegetación</td>\n",
       "      <td>2917.257837</td>\n",
       "      <td>272.2436142</td>\n",
       "      <td>600</td>\n",
       "      <td>POLYGON ((-99.11679 19.38904, -99.11637 19.388...</td>\n",
       "    </tr>\n",
       "  </tbody>\n",
       "</table>\n",
       "</div>"
      ],
      "text/plain": [
       "  id                  geo_point_2d  \\\n",
       "0  0  19.4877568178,-99.2060645931   \n",
       "1  1   19.3887689803,-99.116393168   \n",
       "\n",
       "                                           geo_shape  subcat_sed subcve_sed  \\\n",
       "0  {'type': 'MultiPolygon', 'coordinates': [[[[-9...   Panteones        604   \n",
       "1  {'type': 'MultiPolygon', 'coordinates': [[[[-9...  Deportivos        601   \n",
       "\n",
       "   gid cve_delg    delegacion                             categoria  \\\n",
       "0  268        2  Azcapotzalco  Equipamientos urbanos con vegetación   \n",
       "1   87        8     Iztacalco  Equipamientos urbanos con vegetación   \n",
       "\n",
       "    superficie    perimetro cve_sedema  \\\n",
       "0  6660.027554   329.264738        600   \n",
       "1  2917.257837  272.2436142        600   \n",
       "\n",
       "                                            geometry  \n",
       "0  POLYGON ((-99.20639 19.48819, -99.20556 19.487...  \n",
       "1  POLYGON ((-99.11679 19.38904, -99.11637 19.388...  "
      ]
     },
     "execution_count": 26,
     "metadata": {},
     "output_type": "execute_result"
    }
   ],
   "source": [
    "schema = 'espacios_publicos'\n",
    "table = 'ep_cdmx'\n",
    "gdf_cdmx = aup.gdf_from_db(table,schema)\n",
    "print(gdf_cdmx.shape)\n",
    "gdf_cdmx.head(2)"
   ]
  },
  {
   "cell_type": "code",
   "execution_count": 27,
   "id": "81fea502-c841-4982-87df-5cb543a11588",
   "metadata": {
    "tags": []
   },
   "outputs": [
    {
     "data": {
      "text/plain": [
       "array(['Equipamientos urbanos con vegetación',\n",
       "       'Áreas verdes complementarias o ligadas a la red vial',\n",
       "       'Plazas y jardines', 'Parques, arboledas y alamedas',\n",
       "       'Áreas verdes urbanas fragmentadas',\n",
       "       'Áreas verdes con estructura urbana',\n",
       "       'Áreas con categoría de protección',\n",
       "       'Áreas con vegetación reminisciente',\n",
       "       'Áreas con características de protección'], dtype=object)"
      ]
     },
     "execution_count": 27,
     "metadata": {},
     "output_type": "execute_result"
    }
   ],
   "source": [
    "gdf_cdmx.categoria.unique()"
   ]
  },
  {
   "cell_type": "code",
   "execution_count": 28,
   "id": "b95b6580-75d1-462a-a2d1-60453f202e80",
   "metadata": {},
   "outputs": [
    {
     "data": {
      "text/plain": [
       "array(['Panteones', 'Deportivos', 'Camellones centrales y laterales',\n",
       "       'Unidades habitacionales', 'Instituciones académicas públicas',\n",
       "       'Plazas', 'Asistencia Social con vegetación CDMX', 'Parques',\n",
       "       'Veg. Arbórea, arbustiva y herbácea de glorietas', 'Vialidades',\n",
       "       'Instituciones académicas privadas', 'Arboledas',\n",
       "       'Instituciones de salud pub/priv', 'Jardines públicos', 'Canales',\n",
       "       'Jardineras públicas y privadas', 'Azoteas verdes', 'Bordos',\n",
       "       'Terrenos baldíos', 'AVA', 'Depresiones orográficas', 'ANP',\n",
       "       'Alamedas', 'Promontorios', 'Colinas', 'Cerros',\n",
       "       'Zona de recarga de manto acuíferos'], dtype=object)"
      ]
     },
     "execution_count": 28,
     "metadata": {},
     "output_type": "execute_result"
    }
   ],
   "source": [
    "gdf_cdmx.subcat_sed.unique()"
   ]
  },
  {
   "cell_type": "code",
   "execution_count": 29,
   "id": "4935d650-6df6-42e7-8490-b8183af5e714",
   "metadata": {},
   "outputs": [
    {
     "data": {
      "text/plain": [
       "<Axes: >"
      ]
     },
     "execution_count": 29,
     "metadata": {},
     "output_type": "execute_result"
    },
    {
     "data": {
      "image/png": "[encoded data removed]",
      "text/plain": [
       "<Figure size 640x480 with 1 Axes>"
      ]
     },
     "metadata": {},
     "output_type": "display_data"
    }
   ],
   "source": [
    "gdf_cdmx.plot('categoria')"
   ]
  },
  {
   "cell_type": "code",
   "execution_count": null,
   "id": "b81bdefe-769c-48d7-832c-a2caabf96be0",
   "metadata": {},
   "outputs": [],
   "source": []
  },
  {
   "cell_type": "markdown",
   "id": "2af8bf44-be26-43ac-972f-063f6bf11c9e",
   "metadata": {},
   "source": [
    "## Juntamos en un dataset"
   ]
  },
  {
   "cell_type": "code",
   "execution_count": 8,
   "id": "ffa003bc-73dc-4fe4-b78e-4856fc930e10",
   "metadata": {
    "tags": []
   },
   "outputs": [
    {
     "name": "stdout",
     "output_type": "stream",
     "text": [
      "CRS of gdf_gdl: EPSG:4326\n",
      "CRS of gdf_qro: EPSG:4326\n",
      "CRS of gdf_cdmx: EPSG:4326\n"
     ]
    }
   ],
   "source": [
    "gdf_gdl = gdf_gdl.set_crs(\"EPSG:4326\", allow_override=True)\n",
    "gdf_qro = gdf_qro.set_crs(\"EPSG:4326\", allow_override=True)\n",
    "gdf_cdmx = gdf_cdmx.set_crs(\"EPSG:4326\", allow_override=True)\n",
    "print(\"CRS of gdf_gdl:\", gdf_gdl.crs)\n",
    "print(\"CRS of gdf_qro:\", gdf_qro.crs)\n",
    "print(\"CRS of gdf_cdmx:\", gdf_cdmx.crs)"
   ]
  },
  {
   "cell_type": "code",
   "execution_count": 9,
   "id": "2002dc6c-2339-47d9-8034-efd4df6bf8b7",
   "metadata": {
    "tags": []
   },
   "outputs": [
    {
     "data": {
      "text/plain": [
       "0    POLYGON ((672507.028 2272132.2013, 672520.1256...\n",
       "1    POLYGON ((672520.1256 2272170.353, 672507.028 ...\n",
       "2    POLYGON ((672494.3253 2272095.2051, 672480.366...\n",
       "3    POLYGON ((672480.3663 2272060.7314, 672494.325...\n",
       "4    POLYGON ((672468.7172 2272020.6127, 672456.895...\n",
       "Name: geometry, dtype: geometry"
      ]
     },
     "execution_count": 9,
     "metadata": {},
     "output_type": "execute_result"
    }
   ],
   "source": [
    "geodataframes = [gdf_gdl, gdf_qro, gdf_cdmx]\n",
    "gdf = pd.concat(geodataframes)\n",
    "gdf = gdf['geometry']\n",
    "gdf.head()"
   ]
  },
  {
   "cell_type": "code",
   "execution_count": 10,
   "id": "3cf12680-630f-47bb-90b4-ca745cfbb0ac",
   "metadata": {
    "tags": []
   },
   "outputs": [
    {
     "data": {
      "text/plain": [
       "(24922,)"
      ]
     },
     "execution_count": 10,
     "metadata": {},
     "output_type": "execute_result"
    }
   ],
   "source": [
    "gdf.shape"
   ]
  },
  {
   "cell_type": "markdown",
   "id": "a7a59b82-1e7b-4c31-9338-472a670f9e18",
   "metadata": {},
   "source": [
    "## Filter public space data"
   ]
  },
  {
   "cell_type": "code",
   "execution_count": 18,
   "id": "18f19d04-ae3c-4206-8696-17b46a78d123",
   "metadata": {},
   "outputs": [
    {
     "data": {
      "text/plain": [
       "(4100, 4)"
      ]
     },
     "execution_count": 18,
     "metadata": {},
     "output_type": "execute_result"
    }
   ],
   "source": []
  },
  {
   "cell_type": "markdown",
   "id": "18b2c229-a7a2-42c0-b6e2-129a883521fc",
   "metadata": {},
   "source": [
    "## Hexágonos 3 ciudades"
   ]
  },
  {
   "cell_type": "code",
   "execution_count": 11,
   "id": "d899749c-a8ef-4e8d-ae39-d086a93e99f6",
   "metadata": {
    "tags": []
   },
   "outputs": [
    {
     "data": {
      "text/html": [
       "<div>\n",
       "<style scoped>\n",
       "    .dataframe tbody tr th:only-of-type {\n",
       "        vertical-align: middle;\n",
       "    }\n",
       "\n",
       "    .dataframe tbody tr th {\n",
       "        vertical-align: top;\n",
       "    }\n",
       "\n",
       "    .dataframe thead th {\n",
       "        text-align: right;\n",
       "    }\n",
       "</style>\n",
       "<table border=\"1\" class=\"dataframe\">\n",
       "  <thead>\n",
       "    <tr style=\"text-align: right;\">\n",
       "      <th></th>\n",
       "      <th>hex_id</th>\n",
       "      <th>geometry</th>\n",
       "      <th>city</th>\n",
       "    </tr>\n",
       "  </thead>\n",
       "  <tbody>\n",
       "    <tr>\n",
       "      <th>0</th>\n",
       "      <td>8b4995b80cf0fff</td>\n",
       "      <td>POLYGON ((-99.13594 19.45127, -99.13576 19.451...</td>\n",
       "      <td>CDMX</td>\n",
       "    </tr>\n",
       "    <tr>\n",
       "      <th>1</th>\n",
       "      <td>8b4995b84825fff</td>\n",
       "      <td>POLYGON ((-99.15068 19.42339, -99.15050 19.423...</td>\n",
       "      <td>CDMX</td>\n",
       "    </tr>\n",
       "    <tr>\n",
       "      <th>2</th>\n",
       "      <td>8b4995b84915fff</td>\n",
       "      <td>POLYGON ((-99.14918 19.42128, -99.14901 19.421...</td>\n",
       "      <td>CDMX</td>\n",
       "    </tr>\n",
       "    <tr>\n",
       "      <th>3</th>\n",
       "      <td>8b4995b84959fff</td>\n",
       "      <td>POLYGON ((-99.15271 19.42482, -99.15253 19.425...</td>\n",
       "      <td>CDMX</td>\n",
       "    </tr>\n",
       "    <tr>\n",
       "      <th>4</th>\n",
       "      <td>8b4995b8488bfff</td>\n",
       "      <td>POLYGON ((-99.14702 19.42762, -99.14685 19.427...</td>\n",
       "      <td>CDMX</td>\n",
       "    </tr>\n",
       "  </tbody>\n",
       "</table>\n",
       "</div>"
      ],
      "text/plain": [
       "            hex_id                                           geometry  city\n",
       "0  8b4995b80cf0fff  POLYGON ((-99.13594 19.45127, -99.13576 19.451...  CDMX\n",
       "1  8b4995b84825fff  POLYGON ((-99.15068 19.42339, -99.15050 19.423...  CDMX\n",
       "2  8b4995b84915fff  POLYGON ((-99.14918 19.42128, -99.14901 19.421...  CDMX\n",
       "3  8b4995b84959fff  POLYGON ((-99.15271 19.42482, -99.15253 19.425...  CDMX\n",
       "4  8b4995b8488bfff  POLYGON ((-99.14702 19.42762, -99.14685 19.427...  CDMX"
      ]
     },
     "execution_count": 11,
     "metadata": {},
     "output_type": "execute_result"
    }
   ],
   "source": [
    "hex_schema = \"raster_analysis\"\n",
    "hex_table = \"ndvi_analysis_hex\"\n",
    "hex_table_tempt = \"temperature_analysis_hex\"\n",
    "hex_schema_pob = \"hexgrid\"\n",
    "hex_table_pob = \"hexgrid_9_city_2020\"\n",
    "c1 = 'Guadalajara'\n",
    "c2 ='CDMX'\n",
    "#c3 = 'Querétaro'\n",
    "n = '11'\n",
    "query = f\"\"\"\n",
    "SELECT h1.hex_id, h1.geometry, h1.city \n",
    "FROM {hex_schema}.{hex_table} h1\n",
    "JOIN {hex_schema}.{hex_table_tempt} h2\n",
    "ON h1.hex_id = h2.hex_id\n",
    "WHERE h1.city IN ('{c1}', '{c2}') AND h1.res = {n}\n",
    "\"\"\"\n",
    "hex_gdl = aup.gdf_from_query(query, geometry_col='geometry')\n",
    "#query = 'fSelect geometry, hex_id, city from raster_analysis.ndvi_analysis where city = guadalajara and res = 11'\n",
    "hex_gdl.head(5)"
   ]
  },
  {
   "cell_type": "code",
   "execution_count": 12,
   "id": "3f5f9a06-f55a-45d1-b6c5-7c416063f679",
   "metadata": {
    "tags": []
   },
   "outputs": [
    {
     "data": {
      "text/plain": [
       "(807653, 3)"
      ]
     },
     "execution_count": 12,
     "metadata": {},
     "output_type": "execute_result"
    }
   ],
   "source": [
    "hex_gdl.shape"
   ]
  },
  {
   "cell_type": "code",
   "execution_count": 13,
   "id": "5ef47c4e-217c-449d-b2f0-49eca659ef3d",
   "metadata": {
    "tags": []
   },
   "outputs": [
    {
     "data": {
      "text/plain": [
       "array(['CDMX', 'Guadalajara'], dtype=object)"
      ]
     },
     "execution_count": 13,
     "metadata": {},
     "output_type": "execute_result"
    }
   ],
   "source": [
    "hex_gdl['city'].unique()"
   ]
  },
  {
   "cell_type": "code",
   "execution_count": 14,
   "id": "000fa599-c8e2-4c9a-92b8-b5ec9c6048fc",
   "metadata": {
    "tags": []
   },
   "outputs": [
    {
     "name": "stdout",
     "output_type": "stream",
     "text": [
      "Número de hexágonos Gdl: 445881 \n",
      "Número de hexágonos Cdmx: 361772\n"
     ]
    }
   ],
   "source": [
    "contador_gdll = np.sum(hex_gdl['city'] == 'Guadalajara')\n",
    "contador_cdmxx = np.sum(hex_gdl['city'] == 'CDMX')\n",
    "#contador_qroo = np.sum(hex_gdl['city'] == 'Queretaro')\n",
    "print(f'Número de hexágonos Gdl: {contador_gdll} \\nNúmero de hexágonos Cdmx: {contador_cdmxx}')"
   ]
  },
  {
   "cell_type": "code",
   "execution_count": 15,
   "id": "8e72a749-e7dc-49d9-a869-c649f1a0464d",
   "metadata": {
    "tags": []
   },
   "outputs": [
    {
     "name": "stdout",
     "output_type": "stream",
     "text": [
      "CRS of gdf_gdl: EPSG:4326\n"
     ]
    }
   ],
   "source": [
    "hex_gdl = hex_gdl.set_crs(\"EPSG:4326\", allow_override=True)\n",
    "print(\"CRS of gdf_gdl:\", gdf_gdl.crs)"
   ]
  },
  {
   "cell_type": "code",
   "execution_count": 16,
   "id": "9b3362ab-8474-49c8-af21-ddc46e78c8ab",
   "metadata": {
    "tags": []
   },
   "outputs": [
    {
     "name": "stdout",
     "output_type": "stream",
     "text": [
      "Número de hexágonos Gdl: 445881 \n",
      "Número de hexágonos Cdmx: 361772\n"
     ]
    }
   ],
   "source": [
    "contador_gdl = np.sum(hex_gdl['city'] == 'Guadalajara')\n",
    "contador_cdmx = np.sum(hex_gdl['city'] == 'CDMX')\n",
    "#contador_qro = np.sum(hex_gdf['city'] == 'Queretaro')\n",
    "print(f'Número de hexágonos Gdl: {contador_gdl} \\nNúmero de hexágonos Cdmx: {contador_cdmx}')"
   ]
  },
  {
   "cell_type": "markdown",
   "id": "c347acec-fbbf-4415-b544-d5b949c8b166",
   "metadata": {},
   "source": [
    "## Dummy Variables\n",
    "1 = Hexágonos que cuentan con espacios públicos\n",
    "\n",
    "0 = Hexágonos que no cuentan con espacios públicos"
   ]
  },
  {
   "cell_type": "code",
   "execution_count": 17,
   "id": "8f5585a3-b644-4d37-989e-5ef4f2223ab8",
   "metadata": {
    "tags": []
   },
   "outputs": [
    {
     "data": {
      "text/html": [
       "<div>\n",
       "<style scoped>\n",
       "    .dataframe tbody tr th:only-of-type {\n",
       "        vertical-align: middle;\n",
       "    }\n",
       "\n",
       "    .dataframe tbody tr th {\n",
       "        vertical-align: top;\n",
       "    }\n",
       "\n",
       "    .dataframe thead th {\n",
       "        text-align: right;\n",
       "    }\n",
       "</style>\n",
       "<table border=\"1\" class=\"dataframe\">\n",
       "  <thead>\n",
       "    <tr style=\"text-align: right;\">\n",
       "      <th></th>\n",
       "      <th>hex_id</th>\n",
       "      <th>geometry</th>\n",
       "      <th>city</th>\n",
       "      <th>EspPublico</th>\n",
       "    </tr>\n",
       "  </thead>\n",
       "  <tbody>\n",
       "    <tr>\n",
       "      <th>0</th>\n",
       "      <td>8b4995b80cf0fff</td>\n",
       "      <td>POLYGON ((-99.13594 19.45127, -99.13576 19.451...</td>\n",
       "      <td>CDMX</td>\n",
       "      <td>0</td>\n",
       "    </tr>\n",
       "    <tr>\n",
       "      <th>1</th>\n",
       "      <td>8b4995b84825fff</td>\n",
       "      <td>POLYGON ((-99.15068 19.42339, -99.15050 19.423...</td>\n",
       "      <td>CDMX</td>\n",
       "      <td>0</td>\n",
       "    </tr>\n",
       "    <tr>\n",
       "      <th>2</th>\n",
       "      <td>8b4995b84915fff</td>\n",
       "      <td>POLYGON ((-99.14918 19.42128, -99.14901 19.421...</td>\n",
       "      <td>CDMX</td>\n",
       "      <td>1</td>\n",
       "    </tr>\n",
       "    <tr>\n",
       "      <th>3</th>\n",
       "      <td>8b4995b84959fff</td>\n",
       "      <td>POLYGON ((-99.15271 19.42482, -99.15253 19.425...</td>\n",
       "      <td>CDMX</td>\n",
       "      <td>0</td>\n",
       "    </tr>\n",
       "    <tr>\n",
       "      <th>4</th>\n",
       "      <td>8b4995b8488bfff</td>\n",
       "      <td>POLYGON ((-99.14702 19.42762, -99.14685 19.427...</td>\n",
       "      <td>CDMX</td>\n",
       "      <td>0</td>\n",
       "    </tr>\n",
       "  </tbody>\n",
       "</table>\n",
       "</div>"
      ],
      "text/plain": [
       "            hex_id                                           geometry  city  \\\n",
       "0  8b4995b80cf0fff  POLYGON ((-99.13594 19.45127, -99.13576 19.451...  CDMX   \n",
       "1  8b4995b84825fff  POLYGON ((-99.15068 19.42339, -99.15050 19.423...  CDMX   \n",
       "2  8b4995b84915fff  POLYGON ((-99.14918 19.42128, -99.14901 19.421...  CDMX   \n",
       "3  8b4995b84959fff  POLYGON ((-99.15271 19.42482, -99.15253 19.425...  CDMX   \n",
       "4  8b4995b8488bfff  POLYGON ((-99.14702 19.42762, -99.14685 19.427...  CDMX   \n",
       "\n",
       "   EspPublico  \n",
       "0           0  \n",
       "1           0  \n",
       "2           1  \n",
       "3           0  \n",
       "4           0  "
      ]
     },
     "execution_count": 17,
     "metadata": {},
     "output_type": "execute_result"
    }
   ],
   "source": [
    "gdf_sindex = gdf.sindex\n",
    "\n",
    "# Create a Series of boolean values indicating which hexagons intersect with public spaces\n",
    "intersects_public_spaces = hex_gdl['geometry'].apply(lambda geom: any(gdf_sindex.query(geom)))\n",
    "\n",
    "hex_gdl['EspPublico'] = intersects_public_spaces.astype(int)\n",
    "hex_gdl.head()"
   ]
  },
  {
   "cell_type": "code",
   "execution_count": 18,
   "id": "ea63f68e-8d36-43f8-92cd-6a01c15e00b8",
   "metadata": {
    "tags": []
   },
   "outputs": [
    {
     "name": "stdout",
     "output_type": "stream",
     "text": [
      "Números de hexagonos sin Espacios Públicos: 708008 \n",
      "Número de Hexágonos con Espacios Públicos: 99645\n",
      "Número total de Hexágonos: 807653\n"
     ]
    }
   ],
   "source": [
    "contador_ceros = np.sum(hex_gdl['EspPublico'] == 0)\n",
    "contador_uno = np.sum(hex_gdl['EspPublico'])\n",
    "print(f'Números de hexagonos sin Espacios Públicos: {contador_ceros} \\nNúmero de Hexágonos con Espacios Públicos: {contador_uno}\\nNúmero total de Hexágonos: {contador_ceros+contador_uno}')"
   ]
  },
  {
   "cell_type": "markdown",
   "id": "c3b45893-f0bb-40ae-8ebd-be922b141c4b",
   "metadata": {},
   "source": [
    "## Hexágonos con info de humedad, vegetación y temperatura"
   ]
  },
  {
   "cell_type": "markdown",
   "id": "c0329ea8-64c4-4590-9eb5-cda13ef58fec",
   "metadata": {},
   "source": [
    "select {ndmi}.hex_id, {ndmi}.geometry, {ndmi}.city, {ndmi}.res,\n",
    "\n",
    "ndvi_mean, ndvi_std, ndvi_median, ndvi_max, ndvi_min, ndvi_diff, ndvi_tend,\n",
    "\n",
    "ndmi_mean, ndmi_median, ndmi_diff\n",
    "\n",
    "from raster_analysis.ndmi_analysis_hex ndmi\n",
    "\n",
    "inner join raster_analysis.ndvi_analysis_hex ndvi\n",
    "\n",
    "on ndmi.hex_id = ndvi.hex_id \n",
    "\n",
    "where ndmi.city  in ('Queretaro','Guadalajara','ZMVM') and ndmi.res = 11"
   ]
  },
  {
   "cell_type": "code",
   "execution_count": 19,
   "id": "786d14ca-d800-4cca-b125-306719aa8135",
   "metadata": {},
   "outputs": [
    {
     "data": {
      "text/plain": [
       "'import psycopg2\\n\\n#Conectar a la base de datos\\nconn = psycopg2.connect(\\n    host = \"hippocampus.cswst4rid7eb.us-east-2.rds.amazonaws.com\",\\n    database = \"postgres\",\\n    user= \"odc_writer\",\\n    password = \"writejacobs1918\"\\n)\\n\\ncur = conn.cursor()\\n\\n#Ejecutar la consulta para obtener los nombres de las columnas\\ncur.execute(\"\"\"\\n    SELECT column_name \\n    FROM information_schema.columns \\n    WHERE table_schema = \\'raster_analysis\\' \\n    AND table_name = \\'temperature_analysis_hex\\';\\n\"\"\")\\n\\n#Obtener los resultados\\ncolumns = cur.fetchall()\\n\\n#Imprimir los nombres de las columnas\\nfor column in columns:\\n    print(column[0])\\n\\ncur.close()\\nconn.close()'"
      ]
     },
     "execution_count": 19,
     "metadata": {},
     "output_type": "execute_result"
    }
   ],
   "source": [
    "'''import psycopg2\n",
    "\n",
    "#Conectar a la base de datos\n",
    "conn = psycopg2.connect(\n",
    "    host = \"hippocampus.cswst4rid7eb.us-east-2.rds.amazonaws.com\",\n",
    "    database = \"postgres\",\n",
    "    user= \"odc_writer\",\n",
    "    password = \"writejacobs1918\"\n",
    ")\n",
    "\n",
    "cur = conn.cursor()\n",
    "\n",
    "#Ejecutar la consulta para obtener los nombres de las columnas\n",
    "cur.execute(\"\"\"\n",
    "    SELECT column_name \n",
    "    FROM information_schema.columns \n",
    "    WHERE table_schema = 'raster_analysis' \n",
    "    AND table_name = 'temperature_analysis_hex';\n",
    "\"\"\")\n",
    "\n",
    "#Obtener los resultados\n",
    "columns = cur.fetchall()\n",
    "\n",
    "#Imprimir los nombres de las columnas\n",
    "for column in columns:\n",
    "    print(column[0])\n",
    "\n",
    "cur.close()\n",
    "conn.close()'''"
   ]
  },
  {
   "cell_type": "code",
   "execution_count": 20,
   "id": "ae3a6a29-265a-4f1e-876d-63297f9bbbfa",
   "metadata": {},
   "outputs": [
    {
     "data": {
      "text/plain": [
       "'import psycopg2\\n\\n#Conectar a la base de datos\\nconn = psycopg2.connect(\\n    host = \"hippocampus.cswst4rid7eb.us-east-2.rds.amazonaws.com\",\\n    database = \"postgres\",\\n    user= \"odc_writer\",\\n    password = \"writejacobs1918\"\\n)\\n\\ncur = conn.cursor()\\n\\n#Ejecutar la consulta para obtener los nombres de las columnas\\ncur.execute(\"\"\"\\n    SELECT column_name \\n    FROM information_schema.columns \\n    WHERE table_schema = \\'raster_analysis\\' \\n    AND table_name = \\'ndvi_analysis_hex\\';\\n\"\"\")\\n\\n#Obtener los resultados\\ncolumns = cur.fetchall()\\n\\n#Imprimir los nombres de las columnas\\nfor column in columns:\\n    print(column[0])\\n\\ncur.close()\\nconn.close()'"
      ]
     },
     "execution_count": 20,
     "metadata": {},
     "output_type": "execute_result"
    }
   ],
   "source": [
    "'''import psycopg2\n",
    "\n",
    "#Conectar a la base de datos\n",
    "conn = psycopg2.connect(\n",
    "    host = \"hippocampus.cswst4rid7eb.us-east-2.rds.amazonaws.com\",\n",
    "    database = \"postgres\",\n",
    "    user= \"odc_writer\",\n",
    "    password = \"writejacobs1918\"\n",
    ")\n",
    "\n",
    "cur = conn.cursor()\n",
    "\n",
    "#Ejecutar la consulta para obtener los nombres de las columnas\n",
    "cur.execute(\"\"\"\n",
    "    SELECT column_name \n",
    "    FROM information_schema.columns \n",
    "    WHERE table_schema = 'raster_analysis' \n",
    "    AND table_name = 'ndvi_analysis_hex';\n",
    "\"\"\")\n",
    "\n",
    "#Obtener los resultados\n",
    "columns = cur.fetchall()\n",
    "\n",
    "#Imprimir los nombres de las columnas\n",
    "for column in columns:\n",
    "    print(column[0])\n",
    "\n",
    "cur.close()\n",
    "conn.close()'''"
   ]
  },
  {
   "cell_type": "code",
   "execution_count": 21,
   "id": "dd0b3324-d64e-4d8e-b6f1-35aa7e0f91e1",
   "metadata": {},
   "outputs": [
    {
     "name": "stdout",
     "output_type": "stream",
     "text": [
      "11\n"
     ]
    }
   ],
   "source": [
    "import psycopg2\n",
    "\n",
    "#Conectar a la base de datos\n",
    "conn = psycopg2.connect(\n",
    "    host = \"hippocampus.cswst4rid7eb.us-east-2.rds.amazonaws.com\",\n",
    "    database = \"postgres\",\n",
    "    user= \"odc_writer\",\n",
    "    password = \"writejacobs1918\"\n",
    ")\n",
    "\n",
    "cur = conn.cursor()\n",
    "\n",
    "#Ejecutar la consulta para obtener los nombres de las columnas\n",
    "cur.execute(\"\"\"\n",
    "    SELECT DISTINCT res\n",
    "    FROM raster_analysis.temperature_analysis_hex\n",
    "    WHERE city = 'Guadalajara'\n",
    "\"\"\")\n",
    "\n",
    "#Obtener los resultados\n",
    "columns = cur.fetchall()\n",
    "\n",
    "#Imprimir los nombres de las columnas\n",
    "for column in columns:\n",
    "    print(column[0])\n",
    "\n",
    "cur.close()\n",
    "conn.close()"
   ]
  },
  {
   "cell_type": "code",
   "execution_count": 22,
   "id": "df8d2024-3d90-467c-8185-21a7ca5e7001",
   "metadata": {
    "tags": []
   },
   "outputs": [
    {
     "data": {
      "text/html": [
       "<div>\n",
       "<style scoped>\n",
       "    .dataframe tbody tr th:only-of-type {\n",
       "        vertical-align: middle;\n",
       "    }\n",
       "\n",
       "    .dataframe tbody tr th {\n",
       "        vertical-align: top;\n",
       "    }\n",
       "\n",
       "    .dataframe thead th {\n",
       "        text-align: right;\n",
       "    }\n",
       "</style>\n",
       "<table border=\"1\" class=\"dataframe\">\n",
       "  <thead>\n",
       "    <tr style=\"text-align: right;\">\n",
       "      <th></th>\n",
       "      <th>hex_id</th>\n",
       "      <th>city</th>\n",
       "      <th>geometry</th>\n",
       "      <th>temp_res</th>\n",
       "      <th>ndmi_geometry</th>\n",
       "      <th>ndmi_city</th>\n",
       "      <th>ndmi_res</th>\n",
       "      <th>ndvi_geometry</th>\n",
       "      <th>ndvi_city</th>\n",
       "      <th>ndvi_res</th>\n",
       "      <th>...</th>\n",
       "      <th>ndvi_std</th>\n",
       "      <th>ndvi_median</th>\n",
       "      <th>ndvi_max</th>\n",
       "      <th>ndvi_min</th>\n",
       "      <th>ndvi_diff</th>\n",
       "      <th>ndvi_tend</th>\n",
       "      <th>ndmi_mean</th>\n",
       "      <th>ndmi_median</th>\n",
       "      <th>ndmi_diff</th>\n",
       "      <th>temp_diff_mean</th>\n",
       "    </tr>\n",
       "  </thead>\n",
       "  <tbody>\n",
       "    <tr>\n",
       "      <th>0</th>\n",
       "      <td>8b4995b8ec2afff</td>\n",
       "      <td>CDMX</td>\n",
       "      <td>POLYGON ((-99.15481 19.48660, -99.15464 19.486...</td>\n",
       "      <td>11</td>\n",
       "      <td>0103000020E61000000100000007000000015DB775E8C9...</td>\n",
       "      <td>CDMX</td>\n",
       "      <td>11</td>\n",
       "      <td>0103000020E61000000100000007000000015DB775E8C9...</td>\n",
       "      <td>CDMX</td>\n",
       "      <td>11</td>\n",
       "      <td>...</td>\n",
       "      <td>0.011216</td>\n",
       "      <td>0.041535</td>\n",
       "      <td>0.056212</td>\n",
       "      <td>0.027292</td>\n",
       "      <td>0.028920</td>\n",
       "      <td>-0.000275</td>\n",
       "      <td>-0.044624</td>\n",
       "      <td>-0.047098</td>\n",
       "      <td>0.041608</td>\n",
       "      <td>2.292706</td>\n",
       "    </tr>\n",
       "    <tr>\n",
       "      <th>1</th>\n",
       "      <td>8b499584e521fff</td>\n",
       "      <td>CDMX</td>\n",
       "      <td>POLYGON ((-99.17278 19.32573, -99.17260 19.325...</td>\n",
       "      <td>11</td>\n",
       "      <td>0103000020E6100000010000000700000089CC52CF0ECB...</td>\n",
       "      <td>CDMX</td>\n",
       "      <td>11</td>\n",
       "      <td>0103000020E6100000010000000700000089CC52CF0ECB...</td>\n",
       "      <td>CDMX</td>\n",
       "      <td>11</td>\n",
       "      <td>...</td>\n",
       "      <td>0.026481</td>\n",
       "      <td>0.085590</td>\n",
       "      <td>0.103649</td>\n",
       "      <td>0.074508</td>\n",
       "      <td>0.029141</td>\n",
       "      <td>-0.001131</td>\n",
       "      <td>-0.042399</td>\n",
       "      <td>-0.045157</td>\n",
       "      <td>0.052605</td>\n",
       "      <td>-0.195719</td>\n",
       "    </tr>\n",
       "    <tr>\n",
       "      <th>2</th>\n",
       "      <td>8b4995b8e70efff</td>\n",
       "      <td>CDMX</td>\n",
       "      <td>POLYGON ((-99.15580 19.49936, -99.15563 19.499...</td>\n",
       "      <td>11</td>\n",
       "      <td>0103000020E610000001000000070000002DA908ABF8C9...</td>\n",
       "      <td>CDMX</td>\n",
       "      <td>11</td>\n",
       "      <td>0103000020E610000001000000070000002DA908ABF8C9...</td>\n",
       "      <td>CDMX</td>\n",
       "      <td>11</td>\n",
       "      <td>...</td>\n",
       "      <td>0.049540</td>\n",
       "      <td>0.171305</td>\n",
       "      <td>0.179916</td>\n",
       "      <td>0.111704</td>\n",
       "      <td>0.068211</td>\n",
       "      <td>-0.001869</td>\n",
       "      <td>-0.020586</td>\n",
       "      <td>-0.025474</td>\n",
       "      <td>0.030136</td>\n",
       "      <td>3.780892</td>\n",
       "    </tr>\n",
       "    <tr>\n",
       "      <th>3</th>\n",
       "      <td>8b4995b8e76dfff</td>\n",
       "      <td>CDMX</td>\n",
       "      <td>POLYGON ((-99.16012 19.50030, -99.15994 19.500...</td>\n",
       "      <td>11</td>\n",
       "      <td>0103000020E61000000100000007000000FA9A06563FCA...</td>\n",
       "      <td>CDMX</td>\n",
       "      <td>11</td>\n",
       "      <td>0103000020E61000000100000007000000FA9A06563FCA...</td>\n",
       "      <td>CDMX</td>\n",
       "      <td>11</td>\n",
       "      <td>...</td>\n",
       "      <td>0.031309</td>\n",
       "      <td>0.106251</td>\n",
       "      <td>0.145233</td>\n",
       "      <td>0.081774</td>\n",
       "      <td>0.063459</td>\n",
       "      <td>-0.001065</td>\n",
       "      <td>-0.045281</td>\n",
       "      <td>-0.045453</td>\n",
       "      <td>0.025058</td>\n",
       "      <td>3.992745</td>\n",
       "    </tr>\n",
       "    <tr>\n",
       "      <th>4</th>\n",
       "      <td>8b4995b8cda6fff</td>\n",
       "      <td>CDMX</td>\n",
       "      <td>POLYGON ((-99.17427 19.47356, -99.17409 19.473...</td>\n",
       "      <td>11</td>\n",
       "      <td>0103000020E6100000010000000700000067D38F2A27CB...</td>\n",
       "      <td>CDMX</td>\n",
       "      <td>11</td>\n",
       "      <td>0103000020E6100000010000000700000067D38F2A27CB...</td>\n",
       "      <td>CDMX</td>\n",
       "      <td>11</td>\n",
       "      <td>...</td>\n",
       "      <td>0.014784</td>\n",
       "      <td>0.071751</td>\n",
       "      <td>0.078055</td>\n",
       "      <td>0.057114</td>\n",
       "      <td>0.020941</td>\n",
       "      <td>-0.000562</td>\n",
       "      <td>-0.027944</td>\n",
       "      <td>-0.027051</td>\n",
       "      <td>0.023048</td>\n",
       "      <td>-0.514585</td>\n",
       "    </tr>\n",
       "    <tr>\n",
       "      <th>5</th>\n",
       "      <td>8b4995b8132bfff</td>\n",
       "      <td>CDMX</td>\n",
       "      <td>POLYGON ((-99.16923 19.47474, -99.16906 19.474...</td>\n",
       "      <td>11</td>\n",
       "      <td>0103000020E61000000100000007000000F623BCB3D4CA...</td>\n",
       "      <td>CDMX</td>\n",
       "      <td>11</td>\n",
       "      <td>0103000020E61000000100000007000000F623BCB3D4CA...</td>\n",
       "      <td>CDMX</td>\n",
       "      <td>11</td>\n",
       "      <td>...</td>\n",
       "      <td>0.010429</td>\n",
       "      <td>0.011768</td>\n",
       "      <td>0.025641</td>\n",
       "      <td>-0.002762</td>\n",
       "      <td>0.028404</td>\n",
       "      <td>-0.000255</td>\n",
       "      <td>-0.038303</td>\n",
       "      <td>-0.037485</td>\n",
       "      <td>0.019384</td>\n",
       "      <td>3.091607</td>\n",
       "    </tr>\n",
       "    <tr>\n",
       "      <th>6</th>\n",
       "      <td>8b4995b81348fff</td>\n",
       "      <td>CDMX</td>\n",
       "      <td>POLYGON ((-99.17154 19.47741, -99.17137 19.477...</td>\n",
       "      <td>11</td>\n",
       "      <td>0103000020E61000000100000007000000A231E590FACA...</td>\n",
       "      <td>CDMX</td>\n",
       "      <td>11</td>\n",
       "      <td>0103000020E61000000100000007000000A231E590FACA...</td>\n",
       "      <td>CDMX</td>\n",
       "      <td>11</td>\n",
       "      <td>...</td>\n",
       "      <td>0.026881</td>\n",
       "      <td>0.006398</td>\n",
       "      <td>0.032253</td>\n",
       "      <td>0.003382</td>\n",
       "      <td>0.028871</td>\n",
       "      <td>-0.001012</td>\n",
       "      <td>-0.122721</td>\n",
       "      <td>-0.122510</td>\n",
       "      <td>0.036209</td>\n",
       "      <td>1.330539</td>\n",
       "    </tr>\n",
       "    <tr>\n",
       "      <th>7</th>\n",
       "      <td>8b4995b33a06fff</td>\n",
       "      <td>CDMX</td>\n",
       "      <td>POLYGON ((-99.27237 19.36075, -99.27219 19.360...</td>\n",
       "      <td>11</td>\n",
       "      <td>0103000020E610000001000000070000003F4EE5786ED1...</td>\n",
       "      <td>CDMX</td>\n",
       "      <td>11</td>\n",
       "      <td>0103000020E610000001000000070000003F4EE5786ED1...</td>\n",
       "      <td>CDMX</td>\n",
       "      <td>11</td>\n",
       "      <td>...</td>\n",
       "      <td>0.033145</td>\n",
       "      <td>0.099599</td>\n",
       "      <td>0.135074</td>\n",
       "      <td>0.063386</td>\n",
       "      <td>0.071688</td>\n",
       "      <td>-0.001213</td>\n",
       "      <td>-0.009511</td>\n",
       "      <td>-0.009518</td>\n",
       "      <td>0.037448</td>\n",
       "      <td>0.030985</td>\n",
       "    </tr>\n",
       "    <tr>\n",
       "      <th>8</th>\n",
       "      <td>8b4995b10258fff</td>\n",
       "      <td>CDMX</td>\n",
       "      <td>POLYGON ((-99.24484 19.40531, -99.24466 19.405...</td>\n",
       "      <td>11</td>\n",
       "      <td>0103000020E610000001000000070000009A135A64ABCF...</td>\n",
       "      <td>CDMX</td>\n",
       "      <td>11</td>\n",
       "      <td>0103000020E610000001000000070000009A135A64ABCF...</td>\n",
       "      <td>CDMX</td>\n",
       "      <td>11</td>\n",
       "      <td>...</td>\n",
       "      <td>0.071299</td>\n",
       "      <td>0.301554</td>\n",
       "      <td>0.309987</td>\n",
       "      <td>0.248099</td>\n",
       "      <td>0.061887</td>\n",
       "      <td>-0.002809</td>\n",
       "      <td>0.016877</td>\n",
       "      <td>0.020764</td>\n",
       "      <td>0.060806</td>\n",
       "      <td>-3.920603</td>\n",
       "    </tr>\n",
       "    <tr>\n",
       "      <th>9</th>\n",
       "      <td>8b4995b15446fff</td>\n",
       "      <td>CDMX</td>\n",
       "      <td>POLYGON ((-99.25334 19.38771, -99.25316 19.387...</td>\n",
       "      <td>11</td>\n",
       "      <td>0103000020E61000000100000007000000B2DB22B136D0...</td>\n",
       "      <td>CDMX</td>\n",
       "      <td>11</td>\n",
       "      <td>0103000020E61000000100000007000000B2DB22B136D0...</td>\n",
       "      <td>CDMX</td>\n",
       "      <td>11</td>\n",
       "      <td>...</td>\n",
       "      <td>0.033538</td>\n",
       "      <td>0.103379</td>\n",
       "      <td>0.125628</td>\n",
       "      <td>0.074213</td>\n",
       "      <td>0.051415</td>\n",
       "      <td>-0.001147</td>\n",
       "      <td>-0.008728</td>\n",
       "      <td>-0.007039</td>\n",
       "      <td>0.031211</td>\n",
       "      <td>-3.354773</td>\n",
       "    </tr>\n",
       "  </tbody>\n",
       "</table>\n",
       "<p>10 rows × 21 columns</p>\n",
       "</div>"
      ],
      "text/plain": [
       "            hex_id  city                                           geometry  \\\n",
       "0  8b4995b8ec2afff  CDMX  POLYGON ((-99.15481 19.48660, -99.15464 19.486...   \n",
       "1  8b499584e521fff  CDMX  POLYGON ((-99.17278 19.32573, -99.17260 19.325...   \n",
       "2  8b4995b8e70efff  CDMX  POLYGON ((-99.15580 19.49936, -99.15563 19.499...   \n",
       "3  8b4995b8e76dfff  CDMX  POLYGON ((-99.16012 19.50030, -99.15994 19.500...   \n",
       "4  8b4995b8cda6fff  CDMX  POLYGON ((-99.17427 19.47356, -99.17409 19.473...   \n",
       "5  8b4995b8132bfff  CDMX  POLYGON ((-99.16923 19.47474, -99.16906 19.474...   \n",
       "6  8b4995b81348fff  CDMX  POLYGON ((-99.17154 19.47741, -99.17137 19.477...   \n",
       "7  8b4995b33a06fff  CDMX  POLYGON ((-99.27237 19.36075, -99.27219 19.360...   \n",
       "8  8b4995b10258fff  CDMX  POLYGON ((-99.24484 19.40531, -99.24466 19.405...   \n",
       "9  8b4995b15446fff  CDMX  POLYGON ((-99.25334 19.38771, -99.25316 19.387...   \n",
       "\n",
       "   temp_res                                      ndmi_geometry ndmi_city  \\\n",
       "0        11  0103000020E61000000100000007000000015DB775E8C9...      CDMX   \n",
       "1        11  0103000020E6100000010000000700000089CC52CF0ECB...      CDMX   \n",
       "2        11  0103000020E610000001000000070000002DA908ABF8C9...      CDMX   \n",
       "3        11  0103000020E61000000100000007000000FA9A06563FCA...      CDMX   \n",
       "4        11  0103000020E6100000010000000700000067D38F2A27CB...      CDMX   \n",
       "5        11  0103000020E61000000100000007000000F623BCB3D4CA...      CDMX   \n",
       "6        11  0103000020E61000000100000007000000A231E590FACA...      CDMX   \n",
       "7        11  0103000020E610000001000000070000003F4EE5786ED1...      CDMX   \n",
       "8        11  0103000020E610000001000000070000009A135A64ABCF...      CDMX   \n",
       "9        11  0103000020E61000000100000007000000B2DB22B136D0...      CDMX   \n",
       "\n",
       "   ndmi_res                                      ndvi_geometry ndvi_city  \\\n",
       "0        11  0103000020E61000000100000007000000015DB775E8C9...      CDMX   \n",
       "1        11  0103000020E6100000010000000700000089CC52CF0ECB...      CDMX   \n",
       "2        11  0103000020E610000001000000070000002DA908ABF8C9...      CDMX   \n",
       "3        11  0103000020E61000000100000007000000FA9A06563FCA...      CDMX   \n",
       "4        11  0103000020E6100000010000000700000067D38F2A27CB...      CDMX   \n",
       "5        11  0103000020E61000000100000007000000F623BCB3D4CA...      CDMX   \n",
       "6        11  0103000020E61000000100000007000000A231E590FACA...      CDMX   \n",
       "7        11  0103000020E610000001000000070000003F4EE5786ED1...      CDMX   \n",
       "8        11  0103000020E610000001000000070000009A135A64ABCF...      CDMX   \n",
       "9        11  0103000020E61000000100000007000000B2DB22B136D0...      CDMX   \n",
       "\n",
       "   ndvi_res  ...  ndvi_std  ndvi_median  ndvi_max  ndvi_min  ndvi_diff  \\\n",
       "0        11  ...  0.011216     0.041535  0.056212  0.027292   0.028920   \n",
       "1        11  ...  0.026481     0.085590  0.103649  0.074508   0.029141   \n",
       "2        11  ...  0.049540     0.171305  0.179916  0.111704   0.068211   \n",
       "3        11  ...  0.031309     0.106251  0.145233  0.081774   0.063459   \n",
       "4        11  ...  0.014784     0.071751  0.078055  0.057114   0.020941   \n",
       "5        11  ...  0.010429     0.011768  0.025641 -0.002762   0.028404   \n",
       "6        11  ...  0.026881     0.006398  0.032253  0.003382   0.028871   \n",
       "7        11  ...  0.033145     0.099599  0.135074  0.063386   0.071688   \n",
       "8        11  ...  0.071299     0.301554  0.309987  0.248099   0.061887   \n",
       "9        11  ...  0.033538     0.103379  0.125628  0.074213   0.051415   \n",
       "\n",
       "   ndvi_tend  ndmi_mean  ndmi_median  ndmi_diff  temp_diff_mean  \n",
       "0  -0.000275  -0.044624    -0.047098   0.041608        2.292706  \n",
       "1  -0.001131  -0.042399    -0.045157   0.052605       -0.195719  \n",
       "2  -0.001869  -0.020586    -0.025474   0.030136        3.780892  \n",
       "3  -0.001065  -0.045281    -0.045453   0.025058        3.992745  \n",
       "4  -0.000562  -0.027944    -0.027051   0.023048       -0.514585  \n",
       "5  -0.000255  -0.038303    -0.037485   0.019384        3.091607  \n",
       "6  -0.001012  -0.122721    -0.122510   0.036209        1.330539  \n",
       "7  -0.001213  -0.009511    -0.009518   0.037448        0.030985  \n",
       "8  -0.002809   0.016877     0.020764   0.060806       -3.920603  \n",
       "9  -0.001147  -0.008728    -0.007039   0.031211       -3.354773  \n",
       "\n",
       "[10 rows x 21 columns]"
      ]
     },
     "execution_count": 22,
     "metadata": {},
     "output_type": "execute_result"
    }
   ],
   "source": [
    "hex_schema = \"raster_analysis\"\n",
    "hex_schema_pob = \"hexgrid\"\n",
    "hex_tablee = \"ndvi_analysis_hex\"\n",
    "hex_table = \"ndmi_analysis_hex\"\n",
    "hex_table_pob = \"hexgrid_9_city_2020\"\n",
    "hex_table_tempt = \"temperature_analysis_hex\"\n",
    "ndmi = \"ndmi\"\n",
    "ndvi = \"ndvi\"\n",
    "temp = \"temp\"\n",
    "poblation = \"POBTOT\"\n",
    "hex_id = \"hex_id\"\n",
    "c1 = 'Guadalajara'\n",
    "c2 ='CDMX'\n",
    "#c3 = 'Queretaro'\n",
    "n = '11'\n",
    "\n",
    "query = f'''\n",
    "SELECT \n",
    "    temp.hex_id, \n",
    "    temp.city, \n",
    "    temp.geometry AS geometry,  \n",
    "    temp.res AS temp_res,\n",
    "    ndmi.geometry AS ndmi_geometry, \n",
    "    ndmi.city AS ndmi_city, \n",
    "    ndmi.res AS ndmi_res, \n",
    "    ndvi.geometry AS ndvi_geometry, \n",
    "    ndvi.city AS ndvi_city, \n",
    "    ndvi.res AS ndvi_res, \n",
    "    ndvi.ndvi_mean, \n",
    "    ndvi.ndvi_std, \n",
    "    ndvi.ndvi_median, \n",
    "    ndvi.ndvi_max, \n",
    "    ndvi.ndvi_min, \n",
    "    ndvi.ndvi_diff, \n",
    "    ndvi.ndvi_tend,\n",
    "    ndmi.ndmi_mean, \n",
    "    ndmi.ndmi_median, \n",
    "    ndmi.ndmi_diff, \n",
    "    temp.temp_diff_mean\n",
    "FROM \n",
    "    {hex_schema}.{hex_table_tempt} temp  \n",
    "INNER JOIN \n",
    "    {hex_schema}.{hex_table} ndmi \n",
    "    ON temp.hex_id = ndmi.hex_id\n",
    "INNER JOIN \n",
    "    {hex_schema}.{hex_tablee} ndvi \n",
    "    ON ndmi.hex_id = ndvi.hex_id\n",
    "WHERE \n",
    "    temp.city IN ('{c1}', '{c2}') \n",
    "    AND temp.res = {n}\n",
    "'''\n",
    "\n",
    "intt_gdl = aup.gdf_from_query(query, geometry_col='geometry')\n",
    "intt_gdl.head(10)"
   ]
  },
  {
   "cell_type": "code",
   "execution_count": 23,
   "id": "84143985-bd5c-4c93-a38b-4b7f62f52df6",
   "metadata": {
    "tags": []
   },
   "outputs": [
    {
     "data": {
      "text/plain": [
       "(807653, 21)"
      ]
     },
     "execution_count": 23,
     "metadata": {},
     "output_type": "execute_result"
    }
   ],
   "source": [
    "intt_gdl.shape"
   ]
  },
  {
   "cell_type": "code",
   "execution_count": 24,
   "id": "e0ff9c5b-babb-4b93-9690-ba5e6c8f7d7d",
   "metadata": {
    "tags": []
   },
   "outputs": [
    {
     "data": {
      "text/plain": [
       "array(['CDMX', 'Guadalajara'], dtype=object)"
      ]
     },
     "execution_count": 24,
     "metadata": {},
     "output_type": "execute_result"
    }
   ],
   "source": [
    "intt_gdl['city'].unique()"
   ]
  },
  {
   "cell_type": "code",
   "execution_count": 25,
   "id": "06a6ca40-8e7c-4448-9b4b-79865367609b",
   "metadata": {},
   "outputs": [
    {
     "name": "stdout",
     "output_type": "stream",
     "text": [
      "Número de hexágonos Gdl: 445881 \n",
      "Número de hexágonos Cdmx: 361772\n"
     ]
    }
   ],
   "source": [
    "intt_gdll = np.sum(intt_gdl['city'] == 'Guadalajara')\n",
    "intt_cdmxx = np.sum(intt_gdl['city'] == 'CDMX')\n",
    "#intt_qroo = np.sum(intt_gdl['city'] == 'Queretaro')\n",
    "print(f'Número de hexágonos Gdl: {intt_gdll} \\nNúmero de hexágonos Cdmx: {intt_cdmxx}')"
   ]
  },
  {
   "cell_type": "markdown",
   "id": "5d14c446-c89e-49c6-816b-93459ff272ec",
   "metadata": {},
   "source": [
    "## Intersección"
   ]
  },
  {
   "cell_type": "code",
   "execution_count": 26,
   "id": "f01fdfe4-a3b7-40fc-8db9-208882f82618",
   "metadata": {
    "tags": []
   },
   "outputs": [],
   "source": [
    "intt_gdl = intt_gdl.set_crs(\"EPSG:4326\")\n",
    "hex_gdl = hex_gdl.set_crs(\"EPSG:4326\")"
   ]
  },
  {
   "cell_type": "code",
   "execution_count": 27,
   "id": "4749966e-d61b-4297-b690-527a0ac62781",
   "metadata": {
    "tags": []
   },
   "outputs": [],
   "source": [
    "inter = gpd.sjoin(hex_gdl, intt_gdl, op='intersects')"
   ]
  },
  {
   "cell_type": "code",
   "execution_count": 28,
   "id": "7ef06de8-8747-4341-b9fc-cdce908452d2",
   "metadata": {
    "tags": []
   },
   "outputs": [
    {
     "data": {
      "text/html": [
       "<div>\n",
       "<style scoped>\n",
       "    .dataframe tbody tr th:only-of-type {\n",
       "        vertical-align: middle;\n",
       "    }\n",
       "\n",
       "    .dataframe tbody tr th {\n",
       "        vertical-align: top;\n",
       "    }\n",
       "\n",
       "    .dataframe thead th {\n",
       "        text-align: right;\n",
       "    }\n",
       "</style>\n",
       "<table border=\"1\" class=\"dataframe\">\n",
       "  <thead>\n",
       "    <tr style=\"text-align: right;\">\n",
       "      <th></th>\n",
       "      <th>hex_id</th>\n",
       "      <th>geometry</th>\n",
       "      <th>city</th>\n",
       "      <th>EspPublico</th>\n",
       "      <th>temp_res</th>\n",
       "      <th>ndmi_geometry</th>\n",
       "      <th>ndmi_city</th>\n",
       "      <th>ndmi_res</th>\n",
       "      <th>ndvi_geometry</th>\n",
       "      <th>ndvi_city</th>\n",
       "      <th>...</th>\n",
       "      <th>ndvi_std</th>\n",
       "      <th>ndvi_median</th>\n",
       "      <th>ndvi_max</th>\n",
       "      <th>ndvi_min</th>\n",
       "      <th>ndvi_diff</th>\n",
       "      <th>ndvi_tend</th>\n",
       "      <th>ndmi_mean</th>\n",
       "      <th>ndmi_median</th>\n",
       "      <th>ndmi_diff</th>\n",
       "      <th>temp_diff_mean</th>\n",
       "    </tr>\n",
       "  </thead>\n",
       "  <tbody>\n",
       "    <tr>\n",
       "      <th>0</th>\n",
       "      <td>8b4995b80cf0fff</td>\n",
       "      <td>POLYGON ((-99.13594 19.45127, -99.13576 19.451...</td>\n",
       "      <td>CDMX</td>\n",
       "      <td>0</td>\n",
       "      <td>11</td>\n",
       "      <td>0103000020E610000001000000070000001CFB8442B4C8...</td>\n",
       "      <td>CDMX</td>\n",
       "      <td>11</td>\n",
       "      <td>0103000020E610000001000000070000001CFB8442B4C8...</td>\n",
       "      <td>CDMX</td>\n",
       "      <td>...</td>\n",
       "      <td>0.064012</td>\n",
       "      <td>0.266364</td>\n",
       "      <td>0.296017</td>\n",
       "      <td>0.210563</td>\n",
       "      <td>0.085454</td>\n",
       "      <td>-0.002134</td>\n",
       "      <td>0.003337</td>\n",
       "      <td>0.002625</td>\n",
       "      <td>0.039176</td>\n",
       "      <td>1.283257</td>\n",
       "    </tr>\n",
       "    <tr>\n",
       "      <th>35464</th>\n",
       "      <td>8b4995b80cf6fff</td>\n",
       "      <td>POLYGON ((-99.13553 19.45098, -99.13536 19.451...</td>\n",
       "      <td>CDMX</td>\n",
       "      <td>0</td>\n",
       "      <td>11</td>\n",
       "      <td>0103000020E610000001000000070000001CFB8442B4C8...</td>\n",
       "      <td>CDMX</td>\n",
       "      <td>11</td>\n",
       "      <td>0103000020E610000001000000070000001CFB8442B4C8...</td>\n",
       "      <td>CDMX</td>\n",
       "      <td>...</td>\n",
       "      <td>0.064012</td>\n",
       "      <td>0.266364</td>\n",
       "      <td>0.296017</td>\n",
       "      <td>0.210563</td>\n",
       "      <td>0.085454</td>\n",
       "      <td>-0.002134</td>\n",
       "      <td>0.003337</td>\n",
       "      <td>0.002625</td>\n",
       "      <td>0.039176</td>\n",
       "      <td>1.283257</td>\n",
       "    </tr>\n",
       "    <tr>\n",
       "      <th>119753</th>\n",
       "      <td>8b4995b80cf5fff</td>\n",
       "      <td>POLYGON ((-99.13641 19.45107, -99.13623 19.451...</td>\n",
       "      <td>CDMX</td>\n",
       "      <td>0</td>\n",
       "      <td>11</td>\n",
       "      <td>0103000020E610000001000000070000001CFB8442B4C8...</td>\n",
       "      <td>CDMX</td>\n",
       "      <td>11</td>\n",
       "      <td>0103000020E610000001000000070000001CFB8442B4C8...</td>\n",
       "      <td>CDMX</td>\n",
       "      <td>...</td>\n",
       "      <td>0.064012</td>\n",
       "      <td>0.266364</td>\n",
       "      <td>0.296017</td>\n",
       "      <td>0.210563</td>\n",
       "      <td>0.085454</td>\n",
       "      <td>-0.002134</td>\n",
       "      <td>0.003337</td>\n",
       "      <td>0.002625</td>\n",
       "      <td>0.039176</td>\n",
       "      <td>1.283257</td>\n",
       "    </tr>\n",
       "    <tr>\n",
       "      <th>133143</th>\n",
       "      <td>8b4995b80c1bfff</td>\n",
       "      <td>POLYGON ((-99.13647 19.45059, -99.13629 19.450...</td>\n",
       "      <td>CDMX</td>\n",
       "      <td>0</td>\n",
       "      <td>11</td>\n",
       "      <td>0103000020E610000001000000070000001CFB8442B4C8...</td>\n",
       "      <td>CDMX</td>\n",
       "      <td>11</td>\n",
       "      <td>0103000020E610000001000000070000001CFB8442B4C8...</td>\n",
       "      <td>CDMX</td>\n",
       "      <td>...</td>\n",
       "      <td>0.064012</td>\n",
       "      <td>0.266364</td>\n",
       "      <td>0.296017</td>\n",
       "      <td>0.210563</td>\n",
       "      <td>0.085454</td>\n",
       "      <td>-0.002134</td>\n",
       "      <td>0.003337</td>\n",
       "      <td>0.002625</td>\n",
       "      <td>0.039176</td>\n",
       "      <td>1.283257</td>\n",
       "    </tr>\n",
       "    <tr>\n",
       "      <th>279166</th>\n",
       "      <td>8b4995b80c1afff</td>\n",
       "      <td>POLYGON ((-99.13607 19.45031, -99.13589 19.450...</td>\n",
       "      <td>CDMX</td>\n",
       "      <td>0</td>\n",
       "      <td>11</td>\n",
       "      <td>0103000020E610000001000000070000001CFB8442B4C8...</td>\n",
       "      <td>CDMX</td>\n",
       "      <td>11</td>\n",
       "      <td>0103000020E610000001000000070000001CFB8442B4C8...</td>\n",
       "      <td>CDMX</td>\n",
       "      <td>...</td>\n",
       "      <td>0.064012</td>\n",
       "      <td>0.266364</td>\n",
       "      <td>0.296017</td>\n",
       "      <td>0.210563</td>\n",
       "      <td>0.085454</td>\n",
       "      <td>-0.002134</td>\n",
       "      <td>0.003337</td>\n",
       "      <td>0.002625</td>\n",
       "      <td>0.039176</td>\n",
       "      <td>1.283257</td>\n",
       "    </tr>\n",
       "  </tbody>\n",
       "</table>\n",
       "<p>5 rows × 22 columns</p>\n",
       "</div>"
      ],
      "text/plain": [
       "                 hex_id                                           geometry  \\\n",
       "0       8b4995b80cf0fff  POLYGON ((-99.13594 19.45127, -99.13576 19.451...   \n",
       "35464   8b4995b80cf6fff  POLYGON ((-99.13553 19.45098, -99.13536 19.451...   \n",
       "119753  8b4995b80cf5fff  POLYGON ((-99.13641 19.45107, -99.13623 19.451...   \n",
       "133143  8b4995b80c1bfff  POLYGON ((-99.13647 19.45059, -99.13629 19.450...   \n",
       "279166  8b4995b80c1afff  POLYGON ((-99.13607 19.45031, -99.13589 19.450...   \n",
       "\n",
       "        city  EspPublico  temp_res  \\\n",
       "0       CDMX           0        11   \n",
       "35464   CDMX           0        11   \n",
       "119753  CDMX           0        11   \n",
       "133143  CDMX           0        11   \n",
       "279166  CDMX           0        11   \n",
       "\n",
       "                                            ndmi_geometry ndmi_city  ndmi_res  \\\n",
       "0       0103000020E610000001000000070000001CFB8442B4C8...      CDMX        11   \n",
       "35464   0103000020E610000001000000070000001CFB8442B4C8...      CDMX        11   \n",
       "119753  0103000020E610000001000000070000001CFB8442B4C8...      CDMX        11   \n",
       "133143  0103000020E610000001000000070000001CFB8442B4C8...      CDMX        11   \n",
       "279166  0103000020E610000001000000070000001CFB8442B4C8...      CDMX        11   \n",
       "\n",
       "                                            ndvi_geometry ndvi_city  ...  \\\n",
       "0       0103000020E610000001000000070000001CFB8442B4C8...      CDMX  ...   \n",
       "35464   0103000020E610000001000000070000001CFB8442B4C8...      CDMX  ...   \n",
       "119753  0103000020E610000001000000070000001CFB8442B4C8...      CDMX  ...   \n",
       "133143  0103000020E610000001000000070000001CFB8442B4C8...      CDMX  ...   \n",
       "279166  0103000020E610000001000000070000001CFB8442B4C8...      CDMX  ...   \n",
       "\n",
       "        ndvi_std  ndvi_median  ndvi_max  ndvi_min  ndvi_diff  ndvi_tend  \\\n",
       "0       0.064012     0.266364  0.296017  0.210563   0.085454  -0.002134   \n",
       "35464   0.064012     0.266364  0.296017  0.210563   0.085454  -0.002134   \n",
       "119753  0.064012     0.266364  0.296017  0.210563   0.085454  -0.002134   \n",
       "133143  0.064012     0.266364  0.296017  0.210563   0.085454  -0.002134   \n",
       "279166  0.064012     0.266364  0.296017  0.210563   0.085454  -0.002134   \n",
       "\n",
       "        ndmi_mean  ndmi_median  ndmi_diff  temp_diff_mean  \n",
       "0        0.003337     0.002625   0.039176        1.283257  \n",
       "35464    0.003337     0.002625   0.039176        1.283257  \n",
       "119753   0.003337     0.002625   0.039176        1.283257  \n",
       "133143   0.003337     0.002625   0.039176        1.283257  \n",
       "279166   0.003337     0.002625   0.039176        1.283257  \n",
       "\n",
       "[5 rows x 22 columns]"
      ]
     },
     "execution_count": 28,
     "metadata": {},
     "output_type": "execute_result"
    }
   ],
   "source": [
    "inter.drop(columns=['index_right','city_right','hex_id_right'], inplace=True)\n",
    "inter.rename(columns={\"hex_id_left\": \"hex_id\",\"city_left\": \"city\"}, inplace=True)\n",
    "inter.head()"
   ]
  },
  {
   "cell_type": "code",
   "execution_count": 29,
   "id": "65355d57-336d-49d7-b5f0-dad155a40673",
   "metadata": {},
   "outputs": [],
   "source": [
    "inter['temp_diff_mean'] = inter['temp_diff_mean'].fillna(0)"
   ]
  },
  {
   "cell_type": "code",
   "execution_count": 30,
   "id": "23956dfc-f9bd-448b-8dfb-5d4b05052269",
   "metadata": {
    "tags": []
   },
   "outputs": [
    {
     "name": "stdout",
     "output_type": "stream",
     "text": [
      "Número de hexágonos Gdl: 4144415 \n",
      "Número de hexágonos Cdmx: 2519284\n"
     ]
    }
   ],
   "source": [
    "contador_gdl = np.sum(inter['city'] == 'Guadalajara')\n",
    "contador_cdmx = np.sum(inter['city'] == 'CDMX')\n",
    "#contador_qro = np.sum(inter['city'] == 'Queretaro')\n",
    "print(f'Número de hexágonos Gdl: {contador_gdl} \\nNúmero de hexágonos Cdmx: {contador_cdmx}')"
   ]
  },
  {
   "cell_type": "code",
   "execution_count": 31,
   "id": "366befe9-d367-4701-bb27-b7a1fe2dd080",
   "metadata": {
    "tags": []
   },
   "outputs": [
    {
     "name": "stdout",
     "output_type": "stream",
     "text": [
      "Números de hexagonos sin Espacios Públicos: 5967752 \n",
      "Número de Hexágonos con Espacios Públicos: 695947\n",
      "Número total de Hexágonos: 6663699\n"
     ]
    }
   ],
   "source": [
    "cont_ceros = np.sum(inter['EspPublico'] == 0)\n",
    "cont_uno = np.sum(inter['EspPublico'])\n",
    "print(f'Números de hexagonos sin Espacios Públicos: {cont_ceros} \\nNúmero de Hexágonos con Espacios Públicos: {cont_uno}\\nNúmero total de Hexágonos: {cont_ceros+cont_uno}')"
   ]
  },
  {
   "cell_type": "markdown",
   "id": "0ee5e622-9b87-4a8f-a742-30403943d162",
   "metadata": {},
   "source": [
    "## Submuestreo 162,410 Hexágonos Esp Púb x 162,410 Hexágonos No Esp Púb"
   ]
  },
  {
   "cell_type": "code",
   "execution_count": 32,
   "id": "95142540-0cbb-45ee-b51d-681806f5e787",
   "metadata": {
    "tags": []
   },
   "outputs": [
    {
     "data": {
      "text/html": [
       "<div>\n",
       "<style scoped>\n",
       "    .dataframe tbody tr th:only-of-type {\n",
       "        vertical-align: middle;\n",
       "    }\n",
       "\n",
       "    .dataframe tbody tr th {\n",
       "        vertical-align: top;\n",
       "    }\n",
       "\n",
       "    .dataframe thead th {\n",
       "        text-align: right;\n",
       "    }\n",
       "</style>\n",
       "<table border=\"1\" class=\"dataframe\">\n",
       "  <thead>\n",
       "    <tr style=\"text-align: right;\">\n",
       "      <th></th>\n",
       "      <th>hex_id</th>\n",
       "      <th>geometry</th>\n",
       "      <th>city</th>\n",
       "      <th>EspPublico</th>\n",
       "      <th>temp_res</th>\n",
       "      <th>ndmi_geometry</th>\n",
       "      <th>ndmi_city</th>\n",
       "      <th>ndmi_res</th>\n",
       "      <th>ndvi_geometry</th>\n",
       "      <th>ndvi_city</th>\n",
       "      <th>...</th>\n",
       "      <th>ndvi_std</th>\n",
       "      <th>ndvi_median</th>\n",
       "      <th>ndvi_max</th>\n",
       "      <th>ndvi_min</th>\n",
       "      <th>ndvi_diff</th>\n",
       "      <th>ndvi_tend</th>\n",
       "      <th>ndmi_mean</th>\n",
       "      <th>ndmi_median</th>\n",
       "      <th>ndmi_diff</th>\n",
       "      <th>temp_diff_mean</th>\n",
       "    </tr>\n",
       "  </thead>\n",
       "  <tbody>\n",
       "    <tr>\n",
       "      <th>0</th>\n",
       "      <td>8b49958ccc66fff</td>\n",
       "      <td>POLYGON ((-99.04079 19.37941, -99.04061 19.379...</td>\n",
       "      <td>CDMX</td>\n",
       "      <td>1</td>\n",
       "      <td>11</td>\n",
       "      <td>0103000020E61000000100000007000000310FD74A9DC2...</td>\n",
       "      <td>CDMX</td>\n",
       "      <td>11</td>\n",
       "      <td>0103000020E61000000100000007000000310FD74A9DC2...</td>\n",
       "      <td>CDMX</td>\n",
       "      <td>...</td>\n",
       "      <td>0.022995</td>\n",
       "      <td>0.095119</td>\n",
       "      <td>0.110920</td>\n",
       "      <td>0.070986</td>\n",
       "      <td>0.039933</td>\n",
       "      <td>-0.000832</td>\n",
       "      <td>-0.039190</td>\n",
       "      <td>-0.045260</td>\n",
       "      <td>0.105456</td>\n",
       "      <td>5.374735</td>\n",
       "    </tr>\n",
       "    <tr>\n",
       "      <th>1</th>\n",
       "      <td>8b4995b8c8b0fff</td>\n",
       "      <td>POLYGON ((-99.18230 19.47660, -99.18212 19.476...</td>\n",
       "      <td>CDMX</td>\n",
       "      <td>1</td>\n",
       "      <td>11</td>\n",
       "      <td>0103000020E61000000100000007000000B060AB67B1CB...</td>\n",
       "      <td>CDMX</td>\n",
       "      <td>11</td>\n",
       "      <td>0103000020E61000000100000007000000B060AB67B1CB...</td>\n",
       "      <td>CDMX</td>\n",
       "      <td>...</td>\n",
       "      <td>0.044516</td>\n",
       "      <td>0.185593</td>\n",
       "      <td>0.202190</td>\n",
       "      <td>0.142571</td>\n",
       "      <td>0.059618</td>\n",
       "      <td>-0.001587</td>\n",
       "      <td>-0.031197</td>\n",
       "      <td>-0.029058</td>\n",
       "      <td>0.023261</td>\n",
       "      <td>1.119385</td>\n",
       "    </tr>\n",
       "    <tr>\n",
       "      <th>2</th>\n",
       "      <td>8b49958e3b75fff</td>\n",
       "      <td>POLYGON ((-99.04173 19.32187, -99.04155 19.322...</td>\n",
       "      <td>CDMX</td>\n",
       "      <td>1</td>\n",
       "      <td>11</td>\n",
       "      <td>0103000020E61000000100000007000000184B3962B3C2...</td>\n",
       "      <td>CDMX</td>\n",
       "      <td>11</td>\n",
       "      <td>0103000020E61000000100000007000000184B3962B3C2...</td>\n",
       "      <td>CDMX</td>\n",
       "      <td>...</td>\n",
       "      <td>0.032811</td>\n",
       "      <td>0.132783</td>\n",
       "      <td>0.148701</td>\n",
       "      <td>0.096085</td>\n",
       "      <td>0.052616</td>\n",
       "      <td>-0.001115</td>\n",
       "      <td>-0.033329</td>\n",
       "      <td>-0.034870</td>\n",
       "      <td>0.034183</td>\n",
       "      <td>1.608911</td>\n",
       "    </tr>\n",
       "    <tr>\n",
       "      <th>3</th>\n",
       "      <td>8b499585c754fff</td>\n",
       "      <td>POLYGON ((-99.13575 19.33108, -99.13557 19.331...</td>\n",
       "      <td>CDMX</td>\n",
       "      <td>1</td>\n",
       "      <td>11</td>\n",
       "      <td>0103000020E6100000010000000700000018329E23B1C8...</td>\n",
       "      <td>CDMX</td>\n",
       "      <td>11</td>\n",
       "      <td>0103000020E6100000010000000700000018329E23B1C8...</td>\n",
       "      <td>CDMX</td>\n",
       "      <td>...</td>\n",
       "      <td>0.068892</td>\n",
       "      <td>0.282132</td>\n",
       "      <td>0.330201</td>\n",
       "      <td>0.218837</td>\n",
       "      <td>0.111364</td>\n",
       "      <td>-0.002560</td>\n",
       "      <td>0.028023</td>\n",
       "      <td>0.023073</td>\n",
       "      <td>0.046979</td>\n",
       "      <td>-0.989339</td>\n",
       "    </tr>\n",
       "    <tr>\n",
       "      <th>4</th>\n",
       "      <td>8b4995b15cd0fff</td>\n",
       "      <td>POLYGON ((-99.25328 19.38138, -99.25310 19.381...</td>\n",
       "      <td>CDMX</td>\n",
       "      <td>1</td>\n",
       "      <td>11</td>\n",
       "      <td>0103000020E61000000100000007000000EF6C9C5B3DD0...</td>\n",
       "      <td>CDMX</td>\n",
       "      <td>11</td>\n",
       "      <td>0103000020E61000000100000007000000EF6C9C5B3DD0...</td>\n",
       "      <td>CDMX</td>\n",
       "      <td>...</td>\n",
       "      <td>0.065158</td>\n",
       "      <td>0.175834</td>\n",
       "      <td>0.261605</td>\n",
       "      <td>0.119403</td>\n",
       "      <td>0.142202</td>\n",
       "      <td>-0.001668</td>\n",
       "      <td>-0.013008</td>\n",
       "      <td>-0.010599</td>\n",
       "      <td>0.101310</td>\n",
       "      <td>0.554899</td>\n",
       "    </tr>\n",
       "  </tbody>\n",
       "</table>\n",
       "<p>5 rows × 22 columns</p>\n",
       "</div>"
      ],
      "text/plain": [
       "            hex_id                                           geometry  city  \\\n",
       "0  8b49958ccc66fff  POLYGON ((-99.04079 19.37941, -99.04061 19.379...  CDMX   \n",
       "1  8b4995b8c8b0fff  POLYGON ((-99.18230 19.47660, -99.18212 19.476...  CDMX   \n",
       "2  8b49958e3b75fff  POLYGON ((-99.04173 19.32187, -99.04155 19.322...  CDMX   \n",
       "3  8b499585c754fff  POLYGON ((-99.13575 19.33108, -99.13557 19.331...  CDMX   \n",
       "4  8b4995b15cd0fff  POLYGON ((-99.25328 19.38138, -99.25310 19.381...  CDMX   \n",
       "\n",
       "   EspPublico  temp_res                                      ndmi_geometry  \\\n",
       "0           1        11  0103000020E61000000100000007000000310FD74A9DC2...   \n",
       "1           1        11  0103000020E61000000100000007000000B060AB67B1CB...   \n",
       "2           1        11  0103000020E61000000100000007000000184B3962B3C2...   \n",
       "3           1        11  0103000020E6100000010000000700000018329E23B1C8...   \n",
       "4           1        11  0103000020E61000000100000007000000EF6C9C5B3DD0...   \n",
       "\n",
       "  ndmi_city  ndmi_res                                      ndvi_geometry  \\\n",
       "0      CDMX        11  0103000020E61000000100000007000000310FD74A9DC2...   \n",
       "1      CDMX        11  0103000020E61000000100000007000000B060AB67B1CB...   \n",
       "2      CDMX        11  0103000020E61000000100000007000000184B3962B3C2...   \n",
       "3      CDMX        11  0103000020E6100000010000000700000018329E23B1C8...   \n",
       "4      CDMX        11  0103000020E61000000100000007000000EF6C9C5B3DD0...   \n",
       "\n",
       "  ndvi_city  ...  ndvi_std  ndvi_median  ndvi_max  ndvi_min  ndvi_diff  \\\n",
       "0      CDMX  ...  0.022995     0.095119  0.110920  0.070986   0.039933   \n",
       "1      CDMX  ...  0.044516     0.185593  0.202190  0.142571   0.059618   \n",
       "2      CDMX  ...  0.032811     0.132783  0.148701  0.096085   0.052616   \n",
       "3      CDMX  ...  0.068892     0.282132  0.330201  0.218837   0.111364   \n",
       "4      CDMX  ...  0.065158     0.175834  0.261605  0.119403   0.142202   \n",
       "\n",
       "   ndvi_tend  ndmi_mean  ndmi_median  ndmi_diff  temp_diff_mean  \n",
       "0  -0.000832  -0.039190    -0.045260   0.105456        5.374735  \n",
       "1  -0.001587  -0.031197    -0.029058   0.023261        1.119385  \n",
       "2  -0.001115  -0.033329    -0.034870   0.034183        1.608911  \n",
       "3  -0.002560   0.028023     0.023073   0.046979       -0.989339  \n",
       "4  -0.001668  -0.013008    -0.010599   0.101310        0.554899  \n",
       "\n",
       "[5 rows x 22 columns]"
      ]
     },
     "execution_count": 32,
     "metadata": {},
     "output_type": "execute_result"
    }
   ],
   "source": [
    "num_samples = len(inter[inter['EspPublico'] == 1])\n",
    "\n",
    "# Randomly sample 203,570 hexagons with public spaces\n",
    "sample_with_public_spaces = inter[inter['EspPublico'] == 1].sample(n=num_samples, random_state=42)\n",
    "\n",
    "# Randomly sample 203,570 hexagons without public spaces\n",
    "sample_without_public_spaces = inter[inter['EspPublico'] == 0].sample(n=num_samples, random_state=42)\n",
    "\n",
    "# Concatenate the two samples to get the final subsample\n",
    "inter = pd.concat([sample_with_public_spaces, sample_without_public_spaces])\n",
    "inter.reset_index(drop = True, inplace = True)\n",
    "inter.head()"
   ]
  },
  {
   "cell_type": "code",
   "execution_count": 33,
   "id": "2289551e-366c-4fb7-8157-c67f3556d8b2",
   "metadata": {
    "tags": []
   },
   "outputs": [
    {
     "name": "stdout",
     "output_type": "stream",
     "text": [
      "Números de hexagonos sin Espacios Públicos: 695947 \n",
      "Número de Hexágonos con Espacios Públicos: 695947\n",
      "Número total de Hexágonos: 1391894\n"
     ]
    }
   ],
   "source": [
    "contador_ceros = np.sum(inter['EspPublico'] == 0)\n",
    "contador_uno = np.sum(inter['EspPublico'])\n",
    "print(f'Números de hexagonos sin Espacios Públicos: {contador_ceros} \\nNúmero de Hexágonos con Espacios Públicos: {contador_uno}\\nNúmero total de Hexágonos: {contador_ceros+contador_uno}')"
   ]
  },
  {
   "cell_type": "code",
   "execution_count": 34,
   "id": "0a87d9be-06c5-4e9f-bc3a-90b234df03ae",
   "metadata": {
    "tags": []
   },
   "outputs": [
    {
     "data": {
      "text/plain": [
       "(1391894, 22)"
      ]
     },
     "execution_count": 34,
     "metadata": {},
     "output_type": "execute_result"
    }
   ],
   "source": [
    "inter.shape"
   ]
  },
  {
   "cell_type": "code",
   "execution_count": 35,
   "id": "c76bfe14-0e31-4435-8b82-22cd41ee4723",
   "metadata": {},
   "outputs": [
    {
     "data": {
      "text/plain": [
       "'import psycopg2\\n\\n# Conectar a la base de datos\\nconn = psycopg2.connect(\\n    host = \"hippocampus.cswst4rid7eb.us-east-2.rds.amazonaws.com\",\\n    database = \"postgres\",\\n    user= \"odc_writer\",\\n    password = \"writejacobs1918\"\\n)\\n\\ncur = conn.cursor()\\n\\n# Ejecutar la consulta para obtener el esquema de la tabla\\ntable_name = \\'hex_censo_mza_2020_res9\\'\\ncur.execute(f\"\"\"\\n    SELECT table_schema\\n    FROM information_schema.tables\\n    WHERE table_name = \\'{table_name}\\';\\n\"\"\")\\n\\n# Obtener los resultados\\nschema = cur.fetchone()\\nprint(f\"El esquema de la tabla {table_name} es: {schema[0]}\")\\n\\ncur.close()\\nconn.close()'"
      ]
     },
     "execution_count": 35,
     "metadata": {},
     "output_type": "execute_result"
    }
   ],
   "source": [
    "'''import psycopg2\n",
    "\n",
    "# Conectar a la base de datos\n",
    "conn = psycopg2.connect(\n",
    "    host = \"hippocampus.cswst4rid7eb.us-east-2.rds.amazonaws.com\",\n",
    "    database = \"postgres\",\n",
    "    user= \"odc_writer\",\n",
    "    password = \"writejacobs1918\"\n",
    ")\n",
    "\n",
    "cur = conn.cursor()\n",
    "\n",
    "# Ejecutar la consulta para obtener el esquema de la tabla\n",
    "table_name = 'hex_censo_mza_2020_res9'\n",
    "cur.execute(f\"\"\"\n",
    "    SELECT table_schema\n",
    "    FROM information_schema.tables\n",
    "    WHERE table_name = '{table_name}';\n",
    "\"\"\")\n",
    "\n",
    "# Obtener los resultados\n",
    "schema = cur.fetchone()\n",
    "print(f\"El esquema de la tabla {table_name} es: {schema[0]}\")\n",
    "\n",
    "cur.close()\n",
    "conn.close()'''"
   ]
  },
  {
   "cell_type": "code",
   "execution_count": 36,
   "id": "3a341adb-233d-4331-aa91-23c29a832e64",
   "metadata": {},
   "outputs": [
    {
     "data": {
      "text/html": [
       "<div>\n",
       "<style scoped>\n",
       "    .dataframe tbody tr th:only-of-type {\n",
       "        vertical-align: middle;\n",
       "    }\n",
       "\n",
       "    .dataframe tbody tr th {\n",
       "        vertical-align: top;\n",
       "    }\n",
       "\n",
       "    .dataframe thead th {\n",
       "        text-align: right;\n",
       "    }\n",
       "</style>\n",
       "<table border=\"1\" class=\"dataframe\">\n",
       "  <thead>\n",
       "    <tr style=\"text-align: right;\">\n",
       "      <th></th>\n",
       "      <th>hex_id_9</th>\n",
       "      <th>geometry</th>\n",
       "      <th>CVEGEO</th>\n",
       "      <th>NOMGEO</th>\n",
       "      <th>city</th>\n",
       "      <th>type</th>\n",
       "    </tr>\n",
       "  </thead>\n",
       "  <tbody>\n",
       "    <tr>\n",
       "      <th>0</th>\n",
       "      <td>89498c96e0bffff</td>\n",
       "      <td>POLYGON ((-103.35267 20.66765, -103.35145 20.6...</td>\n",
       "      <td>14039</td>\n",
       "      <td>Guadalajara</td>\n",
       "      <td>Guadalajara</td>\n",
       "      <td>urban</td>\n",
       "    </tr>\n",
       "    <tr>\n",
       "      <th>1</th>\n",
       "      <td>89498c960a3ffff</td>\n",
       "      <td>POLYGON ((-103.34713 20.62771, -103.34591 20.6...</td>\n",
       "      <td>14039</td>\n",
       "      <td>Guadalajara</td>\n",
       "      <td>Guadalajara</td>\n",
       "      <td>urban</td>\n",
       "    </tr>\n",
       "    <tr>\n",
       "      <th>2</th>\n",
       "      <td>89498c97333ffff</td>\n",
       "      <td>POLYGON ((-103.27379 20.66284, -103.27257 20.6...</td>\n",
       "      <td>14039</td>\n",
       "      <td>Guadalajara</td>\n",
       "      <td>Guadalajara</td>\n",
       "      <td>urban</td>\n",
       "    </tr>\n",
       "    <tr>\n",
       "      <th>3</th>\n",
       "      <td>89498c96063ffff</td>\n",
       "      <td>POLYGON ((-103.33352 20.63689, -103.33230 20.6...</td>\n",
       "      <td>14039</td>\n",
       "      <td>Guadalajara</td>\n",
       "      <td>Guadalajara</td>\n",
       "      <td>urban</td>\n",
       "    </tr>\n",
       "    <tr>\n",
       "      <th>4</th>\n",
       "      <td>89498c95cb3ffff</td>\n",
       "      <td>POLYGON ((-103.29386 20.71601, -103.29264 20.7...</td>\n",
       "      <td>14039</td>\n",
       "      <td>Guadalajara</td>\n",
       "      <td>Guadalajara</td>\n",
       "      <td>urban</td>\n",
       "    </tr>\n",
       "  </tbody>\n",
       "</table>\n",
       "</div>"
      ],
      "text/plain": [
       "          hex_id_9                                           geometry CVEGEO  \\\n",
       "0  89498c96e0bffff  POLYGON ((-103.35267 20.66765, -103.35145 20.6...  14039   \n",
       "1  89498c960a3ffff  POLYGON ((-103.34713 20.62771, -103.34591 20.6...  14039   \n",
       "2  89498c97333ffff  POLYGON ((-103.27379 20.66284, -103.27257 20.6...  14039   \n",
       "3  89498c96063ffff  POLYGON ((-103.33352 20.63689, -103.33230 20.6...  14039   \n",
       "4  89498c95cb3ffff  POLYGON ((-103.29386 20.71601, -103.29264 20.7...  14039   \n",
       "\n",
       "        NOMGEO         city   type  \n",
       "0  Guadalajara  Guadalajara  urban  \n",
       "1  Guadalajara  Guadalajara  urban  \n",
       "2  Guadalajara  Guadalajara  urban  \n",
       "3  Guadalajara  Guadalajara  urban  \n",
       "4  Guadalajara  Guadalajara  urban  "
      ]
     },
     "execution_count": 36,
     "metadata": {},
     "output_type": "execute_result"
    }
   ],
   "source": [
    "hex_schema_mza = \"censo\"\n",
    "hex_schema_pob = \"hexgrid\"\n",
    "hex_table_pob = \"hexgrid_9_city_2020\"\n",
    "hex_table_mza = \"hex_censo_mza_2020_res9\"\n",
    "c1 = 'Guadalajara'\n",
    "c2 = 'CDMX'\n",
    "n = \"9\"\n",
    "t = \"urban\"\n",
    "\n",
    "#Consulta para la tabla de población (solo tipo urbano y ciudades seleccionadas):\n",
    "query_pob = f\"\"\"\n",
    "SELECT * \n",
    "FROM {hex_schema_pob}.{hex_table_pob} \n",
    "WHERE city IN ('{c1}', '{c2}') \n",
    "AND type = '{t}'\n",
    "\"\"\"\n",
    "\n",
    "hex_gdl_pob = aup.gdf_from_query(query_pob, geometry_col='geometry')\n",
    "hex_gdl_pob.head(5)"
   ]
  },
  {
   "cell_type": "code",
   "execution_count": 37,
   "id": "b9fae2dc-cffb-41b4-af29-06e3ba7e87f9",
   "metadata": {},
   "outputs": [
    {
     "data": {
      "text/plain": [
       "'import psycopg2\\n\\nconn = psycopg2.connect(\\n    host=\"hippocampus.cswst4rid7eb.us-east-2.rds.amazonaws.com\",\\n    database=\"postgres\",\\n    user=\"odc_writer\",\\n    password=\"writejacobs1918\"\\n)\\n\\ncur = conn.cursor()\\n\\ntable_name = \\'hex_censo_mza_2020_res9\\'\\n\\ncur.execute(f\"\"\"\\n    SELECT column_name\\n    FROM information_schema.columns\\n    WHERE table_name = \\'{table_name}\\';\\n\"\"\")\\n\\ncolumns = cur.fetchall()\\nfor column in columns:\\n    print(column[0])\\n\\n# Cerrar cursor y conexión\\ncur.close()\\nconn.close()'"
      ]
     },
     "execution_count": 37,
     "metadata": {},
     "output_type": "execute_result"
    }
   ],
   "source": [
    "'''import psycopg2\n",
    "\n",
    "conn = psycopg2.connect(\n",
    "    host=\"hippocampus.cswst4rid7eb.us-east-2.rds.amazonaws.com\",\n",
    "    database=\"postgres\",\n",
    "    user=\"odc_writer\",\n",
    "    password=\"writejacobs1918\"\n",
    ")\n",
    "\n",
    "cur = conn.cursor()\n",
    "\n",
    "table_name = 'hex_censo_mza_2020_res9'\n",
    "\n",
    "cur.execute(f\"\"\"\n",
    "    SELECT column_name\n",
    "    FROM information_schema.columns\n",
    "    WHERE table_name = '{table_name}';\n",
    "\"\"\")\n",
    "\n",
    "columns = cur.fetchall()\n",
    "for column in columns:\n",
    "    print(column[0])\n",
    "\n",
    "# Cerrar cursor y conexión\n",
    "cur.close()\n",
    "conn.close()'''\n",
    "\n"
   ]
  },
  {
   "cell_type": "code",
   "execution_count": 38,
   "id": "9f99d712-d8ec-48f8-9a12-a6d6e36db1bf",
   "metadata": {},
   "outputs": [],
   "source": [
    "#Consulta para la tabla de manzanas (solo ciudades seleccionadas):\n",
    "query_mza = f\"\"\"\n",
    "SELECT hex_id_9, pobtot, geometry\n",
    "FROM {hex_schema_mza}.{hex_table_mza} \n",
    "\"\"\"\n",
    "\n",
    "hex_gdl_mza = aup.gdf_from_query(query_mza, geometry_col='geometry')"
   ]
  },
  {
   "cell_type": "code",
   "execution_count": 39,
   "id": "3982aa00-14b6-418f-8796-26d938c7b0ff",
   "metadata": {},
   "outputs": [
    {
     "name": "stdout",
     "output_type": "stream",
     "text": [
      "(13629, 6)\n",
      "(119059, 3)\n"
     ]
    }
   ],
   "source": [
    "pob = hex_gdl_pob.shape\n",
    "mza = hex_gdl_mza.shape\n",
    "\n",
    "print(pob)\n",
    "print(mza)"
   ]
  },
  {
   "cell_type": "code",
   "execution_count": 40,
   "id": "a6fd9473-ede6-4bbb-8c5e-c8bc5c1209e6",
   "metadata": {},
   "outputs": [
    {
     "data": {
      "text/plain": [
       "array(['Guadalajara', 'CDMX'], dtype=object)"
      ]
     },
     "execution_count": 40,
     "metadata": {},
     "output_type": "execute_result"
    }
   ],
   "source": [
    "hex_gdl_pob['city'].unique()"
   ]
  },
  {
   "cell_type": "code",
   "execution_count": 41,
   "id": "7943741e-d609-4d5d-94b8-e547e183b121",
   "metadata": {},
   "outputs": [
    {
     "data": {
      "text/html": [
       "<div>\n",
       "<style scoped>\n",
       "    .dataframe tbody tr th:only-of-type {\n",
       "        vertical-align: middle;\n",
       "    }\n",
       "\n",
       "    .dataframe tbody tr th {\n",
       "        vertical-align: top;\n",
       "    }\n",
       "\n",
       "    .dataframe thead th {\n",
       "        text-align: right;\n",
       "    }\n",
       "</style>\n",
       "<table border=\"1\" class=\"dataframe\">\n",
       "  <thead>\n",
       "    <tr style=\"text-align: right;\">\n",
       "      <th></th>\n",
       "      <th>hex_id_9</th>\n",
       "      <th>city</th>\n",
       "      <th>type</th>\n",
       "      <th>pobtot</th>\n",
       "      <th>geometry</th>\n",
       "    </tr>\n",
       "  </thead>\n",
       "  <tbody>\n",
       "    <tr>\n",
       "      <th>0</th>\n",
       "      <td>894995b1507ffff</td>\n",
       "      <td>CDMX</td>\n",
       "      <td>urban</td>\n",
       "      <td>1159.0</td>\n",
       "      <td>POLYGON ((-99.26246 19.38575, -99.26122 19.387...</td>\n",
       "    </tr>\n",
       "    <tr>\n",
       "      <th>1</th>\n",
       "      <td>894995b2277ffff</td>\n",
       "      <td>CDMX</td>\n",
       "      <td>urban</td>\n",
       "      <td>736.0</td>\n",
       "      <td>POLYGON ((-99.30773 19.34790, -99.30650 19.349...</td>\n",
       "    </tr>\n",
       "    <tr>\n",
       "      <th>2</th>\n",
       "      <td>89499584547ffff</td>\n",
       "      <td>CDMX</td>\n",
       "      <td>urban</td>\n",
       "      <td>1265.0</td>\n",
       "      <td>POLYGON ((-99.17964 19.28341, -99.17841 19.284...</td>\n",
       "    </tr>\n",
       "    <tr>\n",
       "      <th>3</th>\n",
       "      <td>8949958cc9bffff</td>\n",
       "      <td>CDMX</td>\n",
       "      <td>urban</td>\n",
       "      <td>1717.0</td>\n",
       "      <td>POLYGON ((-99.04364 19.37460, -99.04240 19.376...</td>\n",
       "    </tr>\n",
       "    <tr>\n",
       "      <th>4</th>\n",
       "      <td>89499585e13ffff</td>\n",
       "      <td>CDMX</td>\n",
       "      <td>urban</td>\n",
       "      <td>3163.0</td>\n",
       "      <td>POLYGON ((-99.11471 19.32935, -99.11347 19.330...</td>\n",
       "    </tr>\n",
       "  </tbody>\n",
       "</table>\n",
       "</div>"
      ],
      "text/plain": [
       "          hex_id_9  city   type  pobtot  \\\n",
       "0  894995b1507ffff  CDMX  urban  1159.0   \n",
       "1  894995b2277ffff  CDMX  urban   736.0   \n",
       "2  89499584547ffff  CDMX  urban  1265.0   \n",
       "3  8949958cc9bffff  CDMX  urban  1717.0   \n",
       "4  89499585e13ffff  CDMX  urban  3163.0   \n",
       "\n",
       "                                            geometry  \n",
       "0  POLYGON ((-99.26246 19.38575, -99.26122 19.387...  \n",
       "1  POLYGON ((-99.30773 19.34790, -99.30650 19.349...  \n",
       "2  POLYGON ((-99.17964 19.28341, -99.17841 19.284...  \n",
       "3  POLYGON ((-99.04364 19.37460, -99.04240 19.376...  \n",
       "4  POLYGON ((-99.11471 19.32935, -99.11347 19.330...  "
      ]
     },
     "execution_count": 41,
     "metadata": {},
     "output_type": "execute_result"
    }
   ],
   "source": [
    "hex_schema_mza = \"censo\"\n",
    "hex_schema_pob = \"hexgrid\"\n",
    "hex_table_pob = \"hexgrid_9_city_2020\"\n",
    "hex_table_mza = \"hex_censo_mza_2020_res9\"\n",
    "c1 = 'Guadalajara'\n",
    "c2 = 'CDMX'\n",
    "t = \"urban\"\n",
    "\n",
    "\n",
    "query_join = f\"\"\"\n",
    "SELECT pob.hex_id_9, pob.city, pob.type, mza.pobtot, mza.geometry\n",
    "FROM {hex_schema_pob}.{hex_table_pob} pob\n",
    "INNER JOIN {hex_schema_mza}.{hex_table_mza} mza\n",
    "ON pob.hex_id_9 = mza.hex_id_9\n",
    "WHERE pob.city IN ('{c1}', '{c2}') \n",
    "AND pob.type = '{t}'\n",
    "\"\"\"\n",
    "\n",
    "hex_gdl_join = aup.gdf_from_query(query_join, geometry_col='geometry')\n",
    "\n",
    "hex_gdl_join.head(5)\n"
   ]
  },
  {
   "cell_type": "code",
   "execution_count": 42,
   "id": "f4acf6eb-ea82-41e7-9764-653346eda24e",
   "metadata": {},
   "outputs": [
    {
     "name": "stdout",
     "output_type": "stream",
     "text": [
      "Número de hexágonos Gdl: 5650 \n",
      "Número de hexágonos Cdmx: 6165\n"
     ]
    }
   ],
   "source": [
    "contador_gdl_join = np.sum(hex_gdl_join['city'] == 'Guadalajara')\n",
    "contador_cdmxx_join = np.sum(hex_gdl_join['city'] == 'CDMX')\n",
    "print(f'Número de hexágonos Gdl: {contador_gdl_join} \\nNúmero de hexágonos Cdmx: {contador_cdmxx_join}')"
   ]
  },
  {
   "cell_type": "code",
   "execution_count": 43,
   "id": "01199043-d0ad-4637-9919-ace19da5c121",
   "metadata": {},
   "outputs": [
    {
     "name": "stdout",
     "output_type": "stream",
     "text": [
      "CRS of gdf_gdl: EPSG:4326\n"
     ]
    }
   ],
   "source": [
    "hex_gdl_join = hex_gdl_join.set_crs(\"EPSG:4326\", allow_override=True)\n",
    "print(\"CRS of gdf_gdl:\", gdf_gdl.crs)"
   ]
  },
  {
   "cell_type": "markdown",
   "id": "cfac3567-94ff-4ba3-804c-25bc75b03dac",
   "metadata": {},
   "source": [
    "## Dummy Variables\n",
    "1 = Hexágonos que cuentan con espacios públicos\n",
    "\n",
    "0 = Hexágonos que no cuentan con espacios públicos"
   ]
  },
  {
   "cell_type": "code",
   "execution_count": 44,
   "id": "6b627108-80a6-490e-8f5e-bfb23313bd94",
   "metadata": {},
   "outputs": [
    {
     "data": {
      "text/html": [
       "<div>\n",
       "<style scoped>\n",
       "    .dataframe tbody tr th:only-of-type {\n",
       "        vertical-align: middle;\n",
       "    }\n",
       "\n",
       "    .dataframe tbody tr th {\n",
       "        vertical-align: top;\n",
       "    }\n",
       "\n",
       "    .dataframe thead th {\n",
       "        text-align: right;\n",
       "    }\n",
       "</style>\n",
       "<table border=\"1\" class=\"dataframe\">\n",
       "  <thead>\n",
       "    <tr style=\"text-align: right;\">\n",
       "      <th></th>\n",
       "      <th>hex_id_9</th>\n",
       "      <th>city</th>\n",
       "      <th>type</th>\n",
       "      <th>pobtot</th>\n",
       "      <th>geometry</th>\n",
       "      <th>EspPublico</th>\n",
       "    </tr>\n",
       "  </thead>\n",
       "  <tbody>\n",
       "    <tr>\n",
       "      <th>0</th>\n",
       "      <td>894995b1507ffff</td>\n",
       "      <td>CDMX</td>\n",
       "      <td>urban</td>\n",
       "      <td>1159.0</td>\n",
       "      <td>POLYGON ((-99.26246 19.38575, -99.26122 19.387...</td>\n",
       "      <td>1</td>\n",
       "    </tr>\n",
       "    <tr>\n",
       "      <th>1</th>\n",
       "      <td>894995b2277ffff</td>\n",
       "      <td>CDMX</td>\n",
       "      <td>urban</td>\n",
       "      <td>736.0</td>\n",
       "      <td>POLYGON ((-99.30773 19.34790, -99.30650 19.349...</td>\n",
       "      <td>0</td>\n",
       "    </tr>\n",
       "    <tr>\n",
       "      <th>2</th>\n",
       "      <td>89499584547ffff</td>\n",
       "      <td>CDMX</td>\n",
       "      <td>urban</td>\n",
       "      <td>1265.0</td>\n",
       "      <td>POLYGON ((-99.17964 19.28341, -99.17841 19.284...</td>\n",
       "      <td>1</td>\n",
       "    </tr>\n",
       "    <tr>\n",
       "      <th>3</th>\n",
       "      <td>8949958cc9bffff</td>\n",
       "      <td>CDMX</td>\n",
       "      <td>urban</td>\n",
       "      <td>1717.0</td>\n",
       "      <td>POLYGON ((-99.04364 19.37460, -99.04240 19.376...</td>\n",
       "      <td>1</td>\n",
       "    </tr>\n",
       "    <tr>\n",
       "      <th>4</th>\n",
       "      <td>89499585e13ffff</td>\n",
       "      <td>CDMX</td>\n",
       "      <td>urban</td>\n",
       "      <td>3163.0</td>\n",
       "      <td>POLYGON ((-99.11471 19.32935, -99.11347 19.330...</td>\n",
       "      <td>1</td>\n",
       "    </tr>\n",
       "  </tbody>\n",
       "</table>\n",
       "</div>"
      ],
      "text/plain": [
       "          hex_id_9  city   type  pobtot  \\\n",
       "0  894995b1507ffff  CDMX  urban  1159.0   \n",
       "1  894995b2277ffff  CDMX  urban   736.0   \n",
       "2  89499584547ffff  CDMX  urban  1265.0   \n",
       "3  8949958cc9bffff  CDMX  urban  1717.0   \n",
       "4  89499585e13ffff  CDMX  urban  3163.0   \n",
       "\n",
       "                                            geometry  EspPublico  \n",
       "0  POLYGON ((-99.26246 19.38575, -99.26122 19.387...           1  \n",
       "1  POLYGON ((-99.30773 19.34790, -99.30650 19.349...           0  \n",
       "2  POLYGON ((-99.17964 19.28341, -99.17841 19.284...           1  \n",
       "3  POLYGON ((-99.04364 19.37460, -99.04240 19.376...           1  \n",
       "4  POLYGON ((-99.11471 19.32935, -99.11347 19.330...           1  "
      ]
     },
     "execution_count": 44,
     "metadata": {},
     "output_type": "execute_result"
    }
   ],
   "source": [
    "gdf_sindex = gdf.sindex\n",
    "\n",
    "# Create a Series of boolean values indicating which hexagons intersect with public spaces\n",
    "intersects_public_spaces = hex_gdl_join['geometry'].apply(lambda geom: any(gdf_sindex.query(geom)))\n",
    "\n",
    "hex_gdl_join['EspPublico'] = intersects_public_spaces.astype(int)\n",
    "hex_gdl_join.head()"
   ]
  },
  {
   "cell_type": "code",
   "execution_count": 45,
   "id": "f7c5192a-b58c-4a4b-ba68-9c65e939e0ef",
   "metadata": {},
   "outputs": [
    {
     "name": "stdout",
     "output_type": "stream",
     "text": [
      "Números de hexagonos sin Espacios Públicos: 7364 \n",
      "Número de Hexágonos con Espacios Públicos: 4451\n",
      "Número total de Hexágonos: 11815\n"
     ]
    }
   ],
   "source": [
    "contador_ceros_join = np.sum(hex_gdl_join['EspPublico'] == 0)\n",
    "contador_uno_join = np.sum(hex_gdl_join['EspPublico'])\n",
    "print(f'Números de hexagonos sin Espacios Públicos: {contador_ceros_join} \\nNúmero de Hexágonos con Espacios Públicos: {contador_uno_join}\\nNúmero total de Hexágonos: {contador_ceros_join + contador_uno_join}')"
   ]
  },
  {
   "cell_type": "markdown",
   "id": "4d99a66a-6ed1-40fe-92fc-38418448849a",
   "metadata": {},
   "source": [
    "## Intersección espacial"
   ]
  },
  {
   "cell_type": "code",
   "execution_count": 46,
   "id": "bbf44f7c-8a5e-44bf-b02b-18de136c5b0c",
   "metadata": {},
   "outputs": [
    {
     "data": {
      "text/plain": [
       "hex_id_9      0\n",
       "city          0\n",
       "type          0\n",
       "pobtot        0\n",
       "geometry      0\n",
       "EspPublico    0\n",
       "dtype: int64"
      ]
     },
     "execution_count": 46,
     "metadata": {},
     "output_type": "execute_result"
    }
   ],
   "source": [
    "pd.isna(hex_gdl_join).sum()"
   ]
  },
  {
   "cell_type": "code",
   "execution_count": 47,
   "id": "d052bfc2-8d5e-407e-859b-988a40718f65",
   "metadata": {},
   "outputs": [],
   "source": [
    "hex_gdl_pob = hex_gdl_pob.set_crs(\"EPSG:4326\")\n",
    "hex_gdl_mza = hex_gdl_mza.set_crs(\"EPSG:4326\")"
   ]
  },
  {
   "cell_type": "code",
   "execution_count": 48,
   "id": "f3655795-ba92-4c40-95e6-122475891e28",
   "metadata": {},
   "outputs": [
    {
     "name": "stdout",
     "output_type": "stream",
     "text": [
      "         hex_id_9_left                                           geometry  \\\n",
      "0      89498c96e0bffff  POLYGON ((-103.35267 20.66765, -103.35145 20.6...   \n",
      "82     89498c96ecfffff  POLYGON ((-103.35003 20.66229, -103.34881 20.6...   \n",
      "333    89498c96e47ffff  POLYGON ((-103.34935 20.66910, -103.34813 20.6...   \n",
      "389    89498c96e1bffff  POLYGON ((-103.35301 20.66425, -103.35179 20.6...   \n",
      "721    89498c96e57ffff  POLYGON ((-103.34969 20.66569, -103.34847 20.6...   \n",
      "...                ...                                                ...   \n",
      "13594  894995b96d3ffff  POLYGON ((-99.05118 19.43500, -99.04994 19.436...   \n",
      "13534  894995b96cfffff  POLYGON ((-99.05030 19.44172, -99.04906 19.443...   \n",
      "13550  894995b9657ffff  POLYGON ((-99.04985 19.44507, -99.04861 19.446...   \n",
      "13570  894995b96cbffff  POLYGON ((-99.04746 19.43971, -99.04622 19.441...   \n",
      "13570  894995b96cbffff  POLYGON ((-99.04746 19.43971, -99.04622 19.441...   \n",
      "\n",
      "      CVEGEO               NOMGEO         city   type  index_right  \\\n",
      "0      14039          Guadalajara  Guadalajara  urban        93772   \n",
      "82     14039          Guadalajara  Guadalajara  urban        93772   \n",
      "333    14039          Guadalajara  Guadalajara  urban        93772   \n",
      "389    14039          Guadalajara  Guadalajara  urban        93772   \n",
      "721    14039          Guadalajara  Guadalajara  urban        93772   \n",
      "...      ...                  ...          ...    ...          ...   \n",
      "13594  09017  Venustiano Carranza         CDMX  urban        65759   \n",
      "13534  09017  Venustiano Carranza         CDMX  urban        78005   \n",
      "13550  09017  Venustiano Carranza         CDMX  urban        78005   \n",
      "13570  09017  Venustiano Carranza         CDMX  urban        78005   \n",
      "13570  09017  Venustiano Carranza         CDMX  urban        72579   \n",
      "\n",
      "        hex_id_9_right  pobtot  \n",
      "0      89498c96e57ffff   975.0  \n",
      "82     89498c96e57ffff   975.0  \n",
      "333    89498c96e57ffff   975.0  \n",
      "389    89498c96e57ffff   975.0  \n",
      "721    89498c96e57ffff   975.0  \n",
      "...                ...     ...  \n",
      "13594  894995b96dbffff  1236.0  \n",
      "13534  894995b9653ffff   149.0  \n",
      "13550  894995b9653ffff   149.0  \n",
      "13570  894995b9653ffff   149.0  \n",
      "13570  8949958cb37ffff  1954.0  \n",
      "\n",
      "[80632 rows x 9 columns]\n"
     ]
    }
   ],
   "source": [
    "inter_join = gpd.sjoin(hex_gdl_pob, hex_gdl_mza, op='intersects')\n",
    "print(inter_join)"
   ]
  },
  {
   "cell_type": "code",
   "execution_count": 49,
   "id": "e34f0f5e-5e5b-42a8-b013-a87d98d855f0",
   "metadata": {},
   "outputs": [
    {
     "data": {
      "text/html": [
       "<div>\n",
       "<style scoped>\n",
       "    .dataframe tbody tr th:only-of-type {\n",
       "        vertical-align: middle;\n",
       "    }\n",
       "\n",
       "    .dataframe tbody tr th {\n",
       "        vertical-align: top;\n",
       "    }\n",
       "\n",
       "    .dataframe thead th {\n",
       "        text-align: right;\n",
       "    }\n",
       "</style>\n",
       "<table border=\"1\" class=\"dataframe\">\n",
       "  <thead>\n",
       "    <tr style=\"text-align: right;\">\n",
       "      <th></th>\n",
       "      <th>hex_id_9</th>\n",
       "      <th>geometry</th>\n",
       "      <th>CVEGEO</th>\n",
       "      <th>NOMGEO</th>\n",
       "      <th>city</th>\n",
       "      <th>type</th>\n",
       "      <th>pobtot</th>\n",
       "    </tr>\n",
       "  </thead>\n",
       "  <tbody>\n",
       "    <tr>\n",
       "      <th>0</th>\n",
       "      <td>89498c96e0bffff</td>\n",
       "      <td>POLYGON ((-103.35267 20.66765, -103.35145 20.6...</td>\n",
       "      <td>14039</td>\n",
       "      <td>Guadalajara</td>\n",
       "      <td>Guadalajara</td>\n",
       "      <td>urban</td>\n",
       "      <td>975.0</td>\n",
       "    </tr>\n",
       "    <tr>\n",
       "      <th>82</th>\n",
       "      <td>89498c96ecfffff</td>\n",
       "      <td>POLYGON ((-103.35003 20.66229, -103.34881 20.6...</td>\n",
       "      <td>14039</td>\n",
       "      <td>Guadalajara</td>\n",
       "      <td>Guadalajara</td>\n",
       "      <td>urban</td>\n",
       "      <td>975.0</td>\n",
       "    </tr>\n",
       "    <tr>\n",
       "      <th>333</th>\n",
       "      <td>89498c96e47ffff</td>\n",
       "      <td>POLYGON ((-103.34935 20.66910, -103.34813 20.6...</td>\n",
       "      <td>14039</td>\n",
       "      <td>Guadalajara</td>\n",
       "      <td>Guadalajara</td>\n",
       "      <td>urban</td>\n",
       "      <td>975.0</td>\n",
       "    </tr>\n",
       "    <tr>\n",
       "      <th>389</th>\n",
       "      <td>89498c96e1bffff</td>\n",
       "      <td>POLYGON ((-103.35301 20.66425, -103.35179 20.6...</td>\n",
       "      <td>14039</td>\n",
       "      <td>Guadalajara</td>\n",
       "      <td>Guadalajara</td>\n",
       "      <td>urban</td>\n",
       "      <td>975.0</td>\n",
       "    </tr>\n",
       "    <tr>\n",
       "      <th>721</th>\n",
       "      <td>89498c96e57ffff</td>\n",
       "      <td>POLYGON ((-103.34969 20.66569, -103.34847 20.6...</td>\n",
       "      <td>14039</td>\n",
       "      <td>Guadalajara</td>\n",
       "      <td>Guadalajara</td>\n",
       "      <td>urban</td>\n",
       "      <td>975.0</td>\n",
       "    </tr>\n",
       "  </tbody>\n",
       "</table>\n",
       "</div>"
      ],
      "text/plain": [
       "            hex_id_9                                           geometry  \\\n",
       "0    89498c96e0bffff  POLYGON ((-103.35267 20.66765, -103.35145 20.6...   \n",
       "82   89498c96ecfffff  POLYGON ((-103.35003 20.66229, -103.34881 20.6...   \n",
       "333  89498c96e47ffff  POLYGON ((-103.34935 20.66910, -103.34813 20.6...   \n",
       "389  89498c96e1bffff  POLYGON ((-103.35301 20.66425, -103.35179 20.6...   \n",
       "721  89498c96e57ffff  POLYGON ((-103.34969 20.66569, -103.34847 20.6...   \n",
       "\n",
       "    CVEGEO       NOMGEO         city   type  pobtot  \n",
       "0    14039  Guadalajara  Guadalajara  urban   975.0  \n",
       "82   14039  Guadalajara  Guadalajara  urban   975.0  \n",
       "333  14039  Guadalajara  Guadalajara  urban   975.0  \n",
       "389  14039  Guadalajara  Guadalajara  urban   975.0  \n",
       "721  14039  Guadalajara  Guadalajara  urban   975.0  "
      ]
     },
     "execution_count": 49,
     "metadata": {},
     "output_type": "execute_result"
    }
   ],
   "source": [
    "inter_join.drop(columns=['index_right', 'hex_id_9_right'], inplace=True)\n",
    "inter_join.rename(columns={\"hex_id_9_left\": \"hex_id_9\"}, inplace=True)\n",
    "inter_join.head()"
   ]
  },
  {
   "cell_type": "code",
   "execution_count": 50,
   "id": "0220b225-3aa6-4955-9136-4ff3dae72709",
   "metadata": {},
   "outputs": [
    {
     "data": {
      "text/plain": [
       "hex_id_9    0\n",
       "geometry    0\n",
       "CVEGEO      0\n",
       "NOMGEO      0\n",
       "city        0\n",
       "type        0\n",
       "pobtot      0\n",
       "dtype: int64"
      ]
     },
     "execution_count": 50,
     "metadata": {},
     "output_type": "execute_result"
    }
   ],
   "source": [
    "pd.isna(inter_join).sum()"
   ]
  },
  {
   "cell_type": "code",
   "execution_count": 51,
   "id": "1c33031b-104a-4e0a-9e3d-74d9155b44b2",
   "metadata": {},
   "outputs": [
    {
     "data": {
      "text/html": [
       "<div>\n",
       "<style scoped>\n",
       "    .dataframe tbody tr th:only-of-type {\n",
       "        vertical-align: middle;\n",
       "    }\n",
       "\n",
       "    .dataframe tbody tr th {\n",
       "        vertical-align: top;\n",
       "    }\n",
       "\n",
       "    .dataframe thead th {\n",
       "        text-align: right;\n",
       "    }\n",
       "</style>\n",
       "<table border=\"1\" class=\"dataframe\">\n",
       "  <thead>\n",
       "    <tr style=\"text-align: right;\">\n",
       "      <th></th>\n",
       "      <th>hex_id_9</th>\n",
       "      <th>geometry</th>\n",
       "      <th>CVEGEO</th>\n",
       "      <th>NOMGEO</th>\n",
       "      <th>city</th>\n",
       "      <th>type</th>\n",
       "      <th>pobtot</th>\n",
       "      <th>EspPublico</th>\n",
       "    </tr>\n",
       "  </thead>\n",
       "  <tbody>\n",
       "    <tr>\n",
       "      <th>0</th>\n",
       "      <td>89498c96e0bffff</td>\n",
       "      <td>POLYGON ((-103.35267 20.66765, -103.35145 20.6...</td>\n",
       "      <td>14039</td>\n",
       "      <td>Guadalajara</td>\n",
       "      <td>Guadalajara</td>\n",
       "      <td>urban</td>\n",
       "      <td>975.0</td>\n",
       "      <td>0</td>\n",
       "    </tr>\n",
       "    <tr>\n",
       "      <th>82</th>\n",
       "      <td>89498c96ecfffff</td>\n",
       "      <td>POLYGON ((-103.35003 20.66229, -103.34881 20.6...</td>\n",
       "      <td>14039</td>\n",
       "      <td>Guadalajara</td>\n",
       "      <td>Guadalajara</td>\n",
       "      <td>urban</td>\n",
       "      <td>975.0</td>\n",
       "      <td>0</td>\n",
       "    </tr>\n",
       "    <tr>\n",
       "      <th>333</th>\n",
       "      <td>89498c96e47ffff</td>\n",
       "      <td>POLYGON ((-103.34935 20.66910, -103.34813 20.6...</td>\n",
       "      <td>14039</td>\n",
       "      <td>Guadalajara</td>\n",
       "      <td>Guadalajara</td>\n",
       "      <td>urban</td>\n",
       "      <td>975.0</td>\n",
       "      <td>0</td>\n",
       "    </tr>\n",
       "    <tr>\n",
       "      <th>389</th>\n",
       "      <td>89498c96e1bffff</td>\n",
       "      <td>POLYGON ((-103.35301 20.66425, -103.35179 20.6...</td>\n",
       "      <td>14039</td>\n",
       "      <td>Guadalajara</td>\n",
       "      <td>Guadalajara</td>\n",
       "      <td>urban</td>\n",
       "      <td>975.0</td>\n",
       "      <td>0</td>\n",
       "    </tr>\n",
       "    <tr>\n",
       "      <th>721</th>\n",
       "      <td>89498c96e57ffff</td>\n",
       "      <td>POLYGON ((-103.34969 20.66569, -103.34847 20.6...</td>\n",
       "      <td>14039</td>\n",
       "      <td>Guadalajara</td>\n",
       "      <td>Guadalajara</td>\n",
       "      <td>urban</td>\n",
       "      <td>975.0</td>\n",
       "      <td>0</td>\n",
       "    </tr>\n",
       "  </tbody>\n",
       "</table>\n",
       "</div>"
      ],
      "text/plain": [
       "            hex_id_9                                           geometry  \\\n",
       "0    89498c96e0bffff  POLYGON ((-103.35267 20.66765, -103.35145 20.6...   \n",
       "82   89498c96ecfffff  POLYGON ((-103.35003 20.66229, -103.34881 20.6...   \n",
       "333  89498c96e47ffff  POLYGON ((-103.34935 20.66910, -103.34813 20.6...   \n",
       "389  89498c96e1bffff  POLYGON ((-103.35301 20.66425, -103.35179 20.6...   \n",
       "721  89498c96e57ffff  POLYGON ((-103.34969 20.66569, -103.34847 20.6...   \n",
       "\n",
       "    CVEGEO       NOMGEO         city   type  pobtot  EspPublico  \n",
       "0    14039  Guadalajara  Guadalajara  urban   975.0           0  \n",
       "82   14039  Guadalajara  Guadalajara  urban   975.0           0  \n",
       "333  14039  Guadalajara  Guadalajara  urban   975.0           0  \n",
       "389  14039  Guadalajara  Guadalajara  urban   975.0           0  \n",
       "721  14039  Guadalajara  Guadalajara  urban   975.0           0  "
      ]
     },
     "execution_count": 51,
     "metadata": {},
     "output_type": "execute_result"
    }
   ],
   "source": [
    "gdf_sindex = gdf.sindex\n",
    "\n",
    "# Create a Series of boolean values indicating which hexagons intersect with public spaces\n",
    "intersects_public_spaces = inter_join['geometry'].apply(lambda geom: any(gdf_sindex.query(geom)))\n",
    "\n",
    "inter_join['EspPublico'] = intersects_public_spaces.astype(int)\n",
    "inter_join.head()"
   ]
  },
  {
   "cell_type": "code",
   "execution_count": 52,
   "id": "0989f57a-de98-432c-b026-483cc49ada7e",
   "metadata": {},
   "outputs": [
    {
     "name": "stdout",
     "output_type": "stream",
     "text": [
      "Números de hexagonos sin Espacios Públicos: 49764 \n",
      "Número de Hexágonos con Espacios Públicos: 30868\n",
      "Número total de Hexágonos: 80632\n"
     ]
    }
   ],
   "source": [
    "cont_ceros_join = np.sum(inter_join['EspPublico'] == 0)\n",
    "cont_uno_join = np.sum(inter_join['EspPublico'])\n",
    "print(f'Números de hexagonos sin Espacios Públicos: {cont_ceros_join} \\nNúmero de Hexágonos con Espacios Públicos: {cont_uno_join}\\nNúmero total de Hexágonos: {cont_ceros_join + cont_uno_join}')"
   ]
  },
  {
   "cell_type": "markdown",
   "id": "a7c01231-bea4-45df-9976-e876b4a4eebf",
   "metadata": {},
   "source": [
    "## Submuestreo población"
   ]
  },
  {
   "cell_type": "code",
   "execution_count": 53,
   "id": "7c2f7dfa-c16c-4ce8-b82b-a9904e18dffe",
   "metadata": {},
   "outputs": [
    {
     "data": {
      "text/html": [
       "<div>\n",
       "<style scoped>\n",
       "    .dataframe tbody tr th:only-of-type {\n",
       "        vertical-align: middle;\n",
       "    }\n",
       "\n",
       "    .dataframe tbody tr th {\n",
       "        vertical-align: top;\n",
       "    }\n",
       "\n",
       "    .dataframe thead th {\n",
       "        text-align: right;\n",
       "    }\n",
       "</style>\n",
       "<table border=\"1\" class=\"dataframe\">\n",
       "  <thead>\n",
       "    <tr style=\"text-align: right;\">\n",
       "      <th></th>\n",
       "      <th>hex_id_9</th>\n",
       "      <th>geometry</th>\n",
       "      <th>CVEGEO</th>\n",
       "      <th>NOMGEO</th>\n",
       "      <th>city</th>\n",
       "      <th>type</th>\n",
       "      <th>pobtot</th>\n",
       "      <th>EspPublico</th>\n",
       "    </tr>\n",
       "  </thead>\n",
       "  <tbody>\n",
       "    <tr>\n",
       "      <th>0</th>\n",
       "      <td>8949958518bffff</td>\n",
       "      <td>POLYGON ((-99.11824 19.30248, -99.11700 19.304...</td>\n",
       "      <td>09003</td>\n",
       "      <td>Coyoacán</td>\n",
       "      <td>CDMX</td>\n",
       "      <td>urban</td>\n",
       "      <td>1007.0</td>\n",
       "      <td>1</td>\n",
       "    </tr>\n",
       "    <tr>\n",
       "      <th>1</th>\n",
       "      <td>89499585b53ffff</td>\n",
       "      <td>POLYGON ((-99.12210 19.36758, -99.12086 19.369...</td>\n",
       "      <td>09007</td>\n",
       "      <td>Iztapalapa</td>\n",
       "      <td>CDMX</td>\n",
       "      <td>urban</td>\n",
       "      <td>2065.0</td>\n",
       "      <td>1</td>\n",
       "    </tr>\n",
       "    <tr>\n",
       "      <th>2</th>\n",
       "      <td>89499585287ffff</td>\n",
       "      <td>POLYGON ((-99.08155 19.29861, -99.08031 19.300...</td>\n",
       "      <td>09007</td>\n",
       "      <td>Iztapalapa</td>\n",
       "      <td>CDMX</td>\n",
       "      <td>urban</td>\n",
       "      <td>1755.0</td>\n",
       "      <td>1</td>\n",
       "    </tr>\n",
       "    <tr>\n",
       "      <th>3</th>\n",
       "      <td>8949958eb2fffff</td>\n",
       "      <td>POLYGON ((-99.07006 19.38592, -99.06882 19.387...</td>\n",
       "      <td>09006</td>\n",
       "      <td>Iztacalco</td>\n",
       "      <td>CDMX</td>\n",
       "      <td>urban</td>\n",
       "      <td>3394.0</td>\n",
       "      <td>1</td>\n",
       "    </tr>\n",
       "    <tr>\n",
       "      <th>4</th>\n",
       "      <td>8949958455bffff</td>\n",
       "      <td>POLYGON ((-99.17397 19.27941, -99.17273 19.280...</td>\n",
       "      <td>09012</td>\n",
       "      <td>Tlalpan</td>\n",
       "      <td>CDMX</td>\n",
       "      <td>urban</td>\n",
       "      <td>1429.0</td>\n",
       "      <td>1</td>\n",
       "    </tr>\n",
       "  </tbody>\n",
       "</table>\n",
       "</div>"
      ],
      "text/plain": [
       "          hex_id_9                                           geometry CVEGEO  \\\n",
       "0  8949958518bffff  POLYGON ((-99.11824 19.30248, -99.11700 19.304...  09003   \n",
       "1  89499585b53ffff  POLYGON ((-99.12210 19.36758, -99.12086 19.369...  09007   \n",
       "2  89499585287ffff  POLYGON ((-99.08155 19.29861, -99.08031 19.300...  09007   \n",
       "3  8949958eb2fffff  POLYGON ((-99.07006 19.38592, -99.06882 19.387...  09006   \n",
       "4  8949958455bffff  POLYGON ((-99.17397 19.27941, -99.17273 19.280...  09012   \n",
       "\n",
       "       NOMGEO  city   type  pobtot  EspPublico  \n",
       "0    Coyoacán  CDMX  urban  1007.0           1  \n",
       "1  Iztapalapa  CDMX  urban  2065.0           1  \n",
       "2  Iztapalapa  CDMX  urban  1755.0           1  \n",
       "3   Iztacalco  CDMX  urban  3394.0           1  \n",
       "4     Tlalpan  CDMX  urban  1429.0           1  "
      ]
     },
     "execution_count": 53,
     "metadata": {},
     "output_type": "execute_result"
    }
   ],
   "source": [
    "num_samples_join = len(inter_join[inter_join['EspPublico'] == 1])\n",
    "\n",
    "# Randomly sample 80632 hexagons with public spaces\n",
    "sample_with_public_spaces_join = inter_join[inter_join['EspPublico'] == 1].sample(n=num_samples_join, random_state=42)\n",
    "\n",
    "# Randomly sample 80632 hexagons without public spaces\n",
    "sample_without_public_spaces_join = inter_join[inter_join['EspPublico'] == 0].sample(n=num_samples_join, random_state=42)\n",
    "\n",
    "# Concatenate the two samples to get the final subsample\n",
    "inter_join = pd.concat([sample_with_public_spaces_join, sample_without_public_spaces_join])\n",
    "inter_join.reset_index(drop = True, inplace = True)\n",
    "inter_join.head()"
   ]
  },
  {
   "cell_type": "code",
   "execution_count": 54,
   "id": "a0975d74-75ff-4515-84ae-4e477b4ec6cf",
   "metadata": {},
   "outputs": [
    {
     "name": "stdout",
     "output_type": "stream",
     "text": [
      "Números de hexagonos sin Espacios Públicos: 30868 \n",
      "Número de Hexágonos con Espacios Públicos: 30868\n",
      "Número total de Hexágonos: 61736\n"
     ]
    }
   ],
   "source": [
    "contador_ceros_join = np.sum(inter_join['EspPublico'] == 0)\n",
    "contador_uno_join = np.sum(inter_join['EspPublico'])\n",
    "print(f'Números de hexagonos sin Espacios Públicos: {contador_ceros_join} \\nNúmero de Hexágonos con Espacios Públicos: {contador_uno_join}\\nNúmero total de Hexágonos: {contador_ceros_join + contador_uno_join}')"
   ]
  },
  {
   "cell_type": "code",
   "execution_count": 55,
   "id": "28d4905b-d6c2-4320-a0c7-1d5aa4a6fa53",
   "metadata": {},
   "outputs": [
    {
     "data": {
      "text/plain": [
       "(61736, 8)"
      ]
     },
     "execution_count": 55,
     "metadata": {},
     "output_type": "execute_result"
    }
   ],
   "source": [
    "inter_join.shape"
   ]
  },
  {
   "cell_type": "markdown",
   "id": "d52d85c4-5d98-48a8-b120-d02d2dd77c7a",
   "metadata": {},
   "source": [
    "## Intersección espacial con población, vegetación, humedad y temperatura."
   ]
  },
  {
   "cell_type": "code",
   "execution_count": 56,
   "id": "9544a5e4-0068-419d-9374-5378a11c8b8e",
   "metadata": {},
   "outputs": [
    {
     "data": {
      "text/html": [
       "<div>\n",
       "<style scoped>\n",
       "    .dataframe tbody tr th:only-of-type {\n",
       "        vertical-align: middle;\n",
       "    }\n",
       "\n",
       "    .dataframe tbody tr th {\n",
       "        vertical-align: top;\n",
       "    }\n",
       "\n",
       "    .dataframe thead th {\n",
       "        text-align: right;\n",
       "    }\n",
       "</style>\n",
       "<table border=\"1\" class=\"dataframe\">\n",
       "  <thead>\n",
       "    <tr style=\"text-align: right;\">\n",
       "      <th></th>\n",
       "      <th>hex_id</th>\n",
       "      <th>geometry</th>\n",
       "      <th>city</th>\n",
       "      <th>EspPublico</th>\n",
       "      <th>temp_res</th>\n",
       "      <th>ndmi_geometry</th>\n",
       "      <th>ndmi_city</th>\n",
       "      <th>ndmi_res</th>\n",
       "      <th>ndvi_geometry</th>\n",
       "      <th>ndvi_city</th>\n",
       "      <th>...</th>\n",
       "      <th>ndvi_std</th>\n",
       "      <th>ndvi_median</th>\n",
       "      <th>ndvi_max</th>\n",
       "      <th>ndvi_min</th>\n",
       "      <th>ndvi_diff</th>\n",
       "      <th>ndvi_tend</th>\n",
       "      <th>ndmi_mean</th>\n",
       "      <th>ndmi_median</th>\n",
       "      <th>ndmi_diff</th>\n",
       "      <th>temp_diff_mean</th>\n",
       "    </tr>\n",
       "  </thead>\n",
       "  <tbody>\n",
       "    <tr>\n",
       "      <th>0</th>\n",
       "      <td>8b49ab4a2761fff</td>\n",
       "      <td>POLYGON ((-103.46140 20.74234, -103.46122 20.7...</td>\n",
       "      <td>Guadalajara</td>\n",
       "      <td>0</td>\n",
       "      <td>11</td>\n",
       "      <td>0103000020E6100000010000000700000011F73E9087DD...</td>\n",
       "      <td>Guadalajara</td>\n",
       "      <td>11</td>\n",
       "      <td>0103000020E6100000010000000700000011F73E9087DD...</td>\n",
       "      <td>Guadalajara</td>\n",
       "      <td>...</td>\n",
       "      <td>0.196324</td>\n",
       "      <td>0.313934</td>\n",
       "      <td>0.686440</td>\n",
       "      <td>0.143196</td>\n",
       "      <td>0.543244</td>\n",
       "      <td>-0.000868</td>\n",
       "      <td>-0.004237</td>\n",
       "      <td>-0.057025</td>\n",
       "      <td>0.474585</td>\n",
       "      <td>1.637735</td>\n",
       "    </tr>\n",
       "    <tr>\n",
       "      <th>1</th>\n",
       "      <td>8b49ab4960c4fff</td>\n",
       "      <td>POLYGON ((-103.36781 20.77978, -103.36763 20.7...</td>\n",
       "      <td>Guadalajara</td>\n",
       "      <td>0</td>\n",
       "      <td>11</td>\n",
       "      <td>0103000020E61000000100000007000000270C082091D7...</td>\n",
       "      <td>Guadalajara</td>\n",
       "      <td>11</td>\n",
       "      <td>0103000020E61000000100000007000000270C082091D7...</td>\n",
       "      <td>Guadalajara</td>\n",
       "      <td>...</td>\n",
       "      <td>0.126909</td>\n",
       "      <td>0.720346</td>\n",
       "      <td>0.744929</td>\n",
       "      <td>0.596078</td>\n",
       "      <td>0.148851</td>\n",
       "      <td>-0.004267</td>\n",
       "      <td>0.162811</td>\n",
       "      <td>0.159931</td>\n",
       "      <td>0.082315</td>\n",
       "      <td>-4.371524</td>\n",
       "    </tr>\n",
       "    <tr>\n",
       "      <th>2</th>\n",
       "      <td>8b498c9446d1fff</td>\n",
       "      <td>POLYGON ((-103.30738 20.67617, -103.30720 20.6...</td>\n",
       "      <td>Guadalajara</td>\n",
       "      <td>0</td>\n",
       "      <td>11</td>\n",
       "      <td>0103000020E610000001000000070000006B0ABD47A4D3...</td>\n",
       "      <td>Guadalajara</td>\n",
       "      <td>11</td>\n",
       "      <td>0103000020E610000001000000070000006B0ABD47A4D3...</td>\n",
       "      <td>Guadalajara</td>\n",
       "      <td>...</td>\n",
       "      <td>0.035641</td>\n",
       "      <td>0.186702</td>\n",
       "      <td>0.204319</td>\n",
       "      <td>0.151394</td>\n",
       "      <td>0.052925</td>\n",
       "      <td>-0.001061</td>\n",
       "      <td>-0.050604</td>\n",
       "      <td>-0.048989</td>\n",
       "      <td>0.035194</td>\n",
       "      <td>1.532847</td>\n",
       "    </tr>\n",
       "    <tr>\n",
       "      <th>3</th>\n",
       "      <td>8b49aa2c3789fff</td>\n",
       "      <td>POLYGON ((-103.31883 20.55254, -103.31866 20.5...</td>\n",
       "      <td>Guadalajara</td>\n",
       "      <td>0</td>\n",
       "      <td>11</td>\n",
       "      <td>0103000020E6100000010000000700000098FC2A8C6FD4...</td>\n",
       "      <td>Guadalajara</td>\n",
       "      <td>11</td>\n",
       "      <td>0103000020E6100000010000000700000098FC2A8C6FD4...</td>\n",
       "      <td>Guadalajara</td>\n",
       "      <td>...</td>\n",
       "      <td>0.075117</td>\n",
       "      <td>0.219712</td>\n",
       "      <td>0.307175</td>\n",
       "      <td>0.145248</td>\n",
       "      <td>0.161927</td>\n",
       "      <td>-0.002050</td>\n",
       "      <td>-0.019775</td>\n",
       "      <td>-0.026326</td>\n",
       "      <td>0.092838</td>\n",
       "      <td>-1.708328</td>\n",
       "    </tr>\n",
       "    <tr>\n",
       "      <th>4</th>\n",
       "      <td>8b49aa24e934fff</td>\n",
       "      <td>POLYGON ((-103.51139 20.47468, -103.51122 20.4...</td>\n",
       "      <td>Guadalajara</td>\n",
       "      <td>0</td>\n",
       "      <td>11</td>\n",
       "      <td>0103000020E61000000100000007000000D38D23D3B9E0...</td>\n",
       "      <td>Guadalajara</td>\n",
       "      <td>11</td>\n",
       "      <td>0103000020E61000000100000007000000D38D23D3B9E0...</td>\n",
       "      <td>Guadalajara</td>\n",
       "      <td>...</td>\n",
       "      <td>0.020924</td>\n",
       "      <td>0.123073</td>\n",
       "      <td>0.153738</td>\n",
       "      <td>0.093353</td>\n",
       "      <td>0.060386</td>\n",
       "      <td>-0.000192</td>\n",
       "      <td>-0.043428</td>\n",
       "      <td>-0.044029</td>\n",
       "      <td>0.094701</td>\n",
       "      <td>-inf</td>\n",
       "    </tr>\n",
       "  </tbody>\n",
       "</table>\n",
       "<p>5 rows × 22 columns</p>\n",
       "</div>"
      ],
      "text/plain": [
       "            hex_id                                           geometry  \\\n",
       "0  8b49ab4a2761fff  POLYGON ((-103.46140 20.74234, -103.46122 20.7...   \n",
       "1  8b49ab4960c4fff  POLYGON ((-103.36781 20.77978, -103.36763 20.7...   \n",
       "2  8b498c9446d1fff  POLYGON ((-103.30738 20.67617, -103.30720 20.6...   \n",
       "3  8b49aa2c3789fff  POLYGON ((-103.31883 20.55254, -103.31866 20.5...   \n",
       "4  8b49aa24e934fff  POLYGON ((-103.51139 20.47468, -103.51122 20.4...   \n",
       "\n",
       "          city  EspPublico  temp_res  \\\n",
       "0  Guadalajara           0        11   \n",
       "1  Guadalajara           0        11   \n",
       "2  Guadalajara           0        11   \n",
       "3  Guadalajara           0        11   \n",
       "4  Guadalajara           0        11   \n",
       "\n",
       "                                       ndmi_geometry    ndmi_city  ndmi_res  \\\n",
       "0  0103000020E6100000010000000700000011F73E9087DD...  Guadalajara        11   \n",
       "1  0103000020E61000000100000007000000270C082091D7...  Guadalajara        11   \n",
       "2  0103000020E610000001000000070000006B0ABD47A4D3...  Guadalajara        11   \n",
       "3  0103000020E6100000010000000700000098FC2A8C6FD4...  Guadalajara        11   \n",
       "4  0103000020E61000000100000007000000D38D23D3B9E0...  Guadalajara        11   \n",
       "\n",
       "                                       ndvi_geometry    ndvi_city  ...  \\\n",
       "0  0103000020E6100000010000000700000011F73E9087DD...  Guadalajara  ...   \n",
       "1  0103000020E61000000100000007000000270C082091D7...  Guadalajara  ...   \n",
       "2  0103000020E610000001000000070000006B0ABD47A4D3...  Guadalajara  ...   \n",
       "3  0103000020E6100000010000000700000098FC2A8C6FD4...  Guadalajara  ...   \n",
       "4  0103000020E61000000100000007000000D38D23D3B9E0...  Guadalajara  ...   \n",
       "\n",
       "   ndvi_std  ndvi_median  ndvi_max  ndvi_min  ndvi_diff  ndvi_tend  ndmi_mean  \\\n",
       "0  0.196324     0.313934  0.686440  0.143196   0.543244  -0.000868  -0.004237   \n",
       "1  0.126909     0.720346  0.744929  0.596078   0.148851  -0.004267   0.162811   \n",
       "2  0.035641     0.186702  0.204319  0.151394   0.052925  -0.001061  -0.050604   \n",
       "3  0.075117     0.219712  0.307175  0.145248   0.161927  -0.002050  -0.019775   \n",
       "4  0.020924     0.123073  0.153738  0.093353   0.060386  -0.000192  -0.043428   \n",
       "\n",
       "   ndmi_median  ndmi_diff  temp_diff_mean  \n",
       "0    -0.057025   0.474585        1.637735  \n",
       "1     0.159931   0.082315       -4.371524  \n",
       "2    -0.048989   0.035194        1.532847  \n",
       "3    -0.026326   0.092838       -1.708328  \n",
       "4    -0.044029   0.094701            -inf  \n",
       "\n",
       "[5 rows x 22 columns]"
      ]
     },
     "execution_count": 56,
     "metadata": {},
     "output_type": "execute_result"
    }
   ],
   "source": [
    "gdl_samples_inter = 222941\n",
    "cdmx_samples_inter = 180886\n",
    "\n",
    "\n",
    "# Randomly sample 200,000 hexagons of Guadalajra\n",
    "sample_with_Guadalajara = inter[inter['city'] == 'Guadalajara'].sample(n=gdl_samples_inter, random_state=42)\n",
    "\n",
    "# Randomly sample 150,000 hexagons of Cdmx\n",
    "sample_with_Cdmx = inter[inter['city'] == 'CDMX'].sample(n=cdmx_samples_inter, random_state=42)\n",
    "\n",
    "# Concatenate the two samples to get the final subsample\n",
    "inter = pd.concat([sample_with_Guadalajara, sample_with_Cdmx])\n",
    "inter.reset_index(drop = True, inplace = True)\n",
    "inter.head()"
   ]
  },
  {
   "cell_type": "code",
   "execution_count": 57,
   "id": "b6caa29c-cb1f-439f-9756-e64205c48215",
   "metadata": {},
   "outputs": [
    {
     "name": "stdout",
     "output_type": "stream",
     "text": [
      "Número de hexágonos Gdl: 222941 \n",
      "Número de hexágonos Cdmx: 180886\n"
     ]
    }
   ],
   "source": [
    "contador_gdl = np.sum(inter['city'] == 'Guadalajara')\n",
    "contador_cdmx = np.sum(inter['city'] == 'CDMX')\n",
    "print(f'Número de hexágonos Gdl: {contador_gdl} \\nNúmero de hexágonos Cdmx: {contador_cdmx}')"
   ]
  },
  {
   "cell_type": "code",
   "execution_count": 58,
   "id": "4cc16fef-11e4-41c1-8a34-ceb79f603cdf",
   "metadata": {},
   "outputs": [],
   "source": [
    "inter = inter.set_crs(\"EPSG:4326\")\n",
    "inter_join = inter_join.set_crs(\"EPSG:4326\")"
   ]
  },
  {
   "cell_type": "code",
   "execution_count": 59,
   "id": "1305100a-3acf-4a04-ac4f-05ce07327a18",
   "metadata": {},
   "outputs": [],
   "source": [
    "# Simplificar las geometrías\n",
    "inter['geometry'] = inter['geometry'].simplify(tolerance=0.01)\n",
    "inter_join['geometry'] = inter_join['geometry'].simplify(tolerance=0.01)\n",
    "\n",
    "# Realizar la intersección con geometrías simplificadas\n",
    "simplified_intersection = gpd.overlay(inter, inter_join, how='intersection')\n"
   ]
  },
  {
   "cell_type": "code",
   "execution_count": 60,
   "id": "8f8703a9-d661-44b6-806f-7fa6882e21ab",
   "metadata": {},
   "outputs": [
    {
     "data": {
      "text/html": [
       "<div>\n",
       "<style scoped>\n",
       "    .dataframe tbody tr th:only-of-type {\n",
       "        vertical-align: middle;\n",
       "    }\n",
       "\n",
       "    .dataframe tbody tr th {\n",
       "        vertical-align: top;\n",
       "    }\n",
       "\n",
       "    .dataframe thead th {\n",
       "        text-align: right;\n",
       "    }\n",
       "</style>\n",
       "<table border=\"1\" class=\"dataframe\">\n",
       "  <thead>\n",
       "    <tr style=\"text-align: right;\">\n",
       "      <th></th>\n",
       "      <th>hex_id</th>\n",
       "      <th>city_1</th>\n",
       "      <th>EspPublico_1</th>\n",
       "      <th>temp_res</th>\n",
       "      <th>ndmi_geometry</th>\n",
       "      <th>ndmi_city</th>\n",
       "      <th>ndmi_res</th>\n",
       "      <th>ndvi_geometry</th>\n",
       "      <th>ndvi_city</th>\n",
       "      <th>ndvi_res</th>\n",
       "      <th>...</th>\n",
       "      <th>ndmi_diff</th>\n",
       "      <th>temp_diff_mean</th>\n",
       "      <th>hex_id_9</th>\n",
       "      <th>CVEGEO</th>\n",
       "      <th>NOMGEO</th>\n",
       "      <th>city_2</th>\n",
       "      <th>type</th>\n",
       "      <th>pobtot</th>\n",
       "      <th>EspPublico_2</th>\n",
       "      <th>geometry</th>\n",
       "    </tr>\n",
       "  </thead>\n",
       "  <tbody>\n",
       "    <tr>\n",
       "      <th>0</th>\n",
       "      <td>8b498c90b54cfff</td>\n",
       "      <td>Guadalajara</td>\n",
       "      <td>0</td>\n",
       "      <td>11</td>\n",
       "      <td>0103000020E610000001000000070000005CF2BC1488CC...</td>\n",
       "      <td>Guadalajara</td>\n",
       "      <td>11</td>\n",
       "      <td>0103000020E610000001000000070000005CF2BC1488CC...</td>\n",
       "      <td>Guadalajara</td>\n",
       "      <td>11</td>\n",
       "      <td>...</td>\n",
       "      <td>0.423406</td>\n",
       "      <td>-3.518013</td>\n",
       "      <td>89498c90b57ffff</td>\n",
       "      <td>14101</td>\n",
       "      <td>Tonalá</td>\n",
       "      <td>Guadalajara</td>\n",
       "      <td>urban</td>\n",
       "      <td>222.0</td>\n",
       "      <td>0</td>\n",
       "      <td>POLYGON ((-103.19611 20.66741, -103.19581 20.6...</td>\n",
       "    </tr>\n",
       "    <tr>\n",
       "      <th>1</th>\n",
       "      <td>8b498c90b55dfff</td>\n",
       "      <td>Guadalajara</td>\n",
       "      <td>0</td>\n",
       "      <td>11</td>\n",
       "      <td>0103000020E610000001000000070000007CCD575979CC...</td>\n",
       "      <td>Guadalajara</td>\n",
       "      <td>11</td>\n",
       "      <td>0103000020E610000001000000070000007CCD575979CC...</td>\n",
       "      <td>Guadalajara</td>\n",
       "      <td>11</td>\n",
       "      <td>...</td>\n",
       "      <td>0.392792</td>\n",
       "      <td>-4.151091</td>\n",
       "      <td>89498c90b57ffff</td>\n",
       "      <td>14101</td>\n",
       "      <td>Tonalá</td>\n",
       "      <td>Guadalajara</td>\n",
       "      <td>urban</td>\n",
       "      <td>222.0</td>\n",
       "      <td>0</td>\n",
       "      <td>POLYGON ((-103.19516 20.66782, -103.19486 20.6...</td>\n",
       "    </tr>\n",
       "    <tr>\n",
       "      <th>2</th>\n",
       "      <td>8b498c90b548fff</td>\n",
       "      <td>Guadalajara</td>\n",
       "      <td>0</td>\n",
       "      <td>11</td>\n",
       "      <td>0103000020E610000001000000070000000660CA4687CC...</td>\n",
       "      <td>Guadalajara</td>\n",
       "      <td>11</td>\n",
       "      <td>0103000020E610000001000000070000000660CA4687CC...</td>\n",
       "      <td>Guadalajara</td>\n",
       "      <td>11</td>\n",
       "      <td>...</td>\n",
       "      <td>0.440299</td>\n",
       "      <td>-3.715834</td>\n",
       "      <td>89498c90b57ffff</td>\n",
       "      <td>14101</td>\n",
       "      <td>Tonalá</td>\n",
       "      <td>Guadalajara</td>\n",
       "      <td>urban</td>\n",
       "      <td>222.0</td>\n",
       "      <td>0</td>\n",
       "      <td>POLYGON ((-103.19606 20.66790, -103.19576 20.6...</td>\n",
       "    </tr>\n",
       "    <tr>\n",
       "      <th>3</th>\n",
       "      <td>8b498c90b54cfff</td>\n",
       "      <td>Guadalajara</td>\n",
       "      <td>0</td>\n",
       "      <td>11</td>\n",
       "      <td>0103000020E610000001000000070000005CF2BC1488CC...</td>\n",
       "      <td>Guadalajara</td>\n",
       "      <td>11</td>\n",
       "      <td>0103000020E610000001000000070000005CF2BC1488CC...</td>\n",
       "      <td>Guadalajara</td>\n",
       "      <td>11</td>\n",
       "      <td>...</td>\n",
       "      <td>0.423406</td>\n",
       "      <td>-3.518013</td>\n",
       "      <td>89498c90b57ffff</td>\n",
       "      <td>14101</td>\n",
       "      <td>Tonalá</td>\n",
       "      <td>Guadalajara</td>\n",
       "      <td>urban</td>\n",
       "      <td>503.0</td>\n",
       "      <td>0</td>\n",
       "      <td>POLYGON ((-103.19611 20.66741, -103.19581 20.6...</td>\n",
       "    </tr>\n",
       "    <tr>\n",
       "      <th>4</th>\n",
       "      <td>8b498c90b55dfff</td>\n",
       "      <td>Guadalajara</td>\n",
       "      <td>0</td>\n",
       "      <td>11</td>\n",
       "      <td>0103000020E610000001000000070000007CCD575979CC...</td>\n",
       "      <td>Guadalajara</td>\n",
       "      <td>11</td>\n",
       "      <td>0103000020E610000001000000070000007CCD575979CC...</td>\n",
       "      <td>Guadalajara</td>\n",
       "      <td>11</td>\n",
       "      <td>...</td>\n",
       "      <td>0.392792</td>\n",
       "      <td>-4.151091</td>\n",
       "      <td>89498c90b57ffff</td>\n",
       "      <td>14101</td>\n",
       "      <td>Tonalá</td>\n",
       "      <td>Guadalajara</td>\n",
       "      <td>urban</td>\n",
       "      <td>503.0</td>\n",
       "      <td>0</td>\n",
       "      <td>POLYGON ((-103.19516 20.66782, -103.19486 20.6...</td>\n",
       "    </tr>\n",
       "  </tbody>\n",
       "</table>\n",
       "<p>5 rows × 29 columns</p>\n",
       "</div>"
      ],
      "text/plain": [
       "            hex_id       city_1  EspPublico_1  temp_res  \\\n",
       "0  8b498c90b54cfff  Guadalajara             0        11   \n",
       "1  8b498c90b55dfff  Guadalajara             0        11   \n",
       "2  8b498c90b548fff  Guadalajara             0        11   \n",
       "3  8b498c90b54cfff  Guadalajara             0        11   \n",
       "4  8b498c90b55dfff  Guadalajara             0        11   \n",
       "\n",
       "                                       ndmi_geometry    ndmi_city  ndmi_res  \\\n",
       "0  0103000020E610000001000000070000005CF2BC1488CC...  Guadalajara        11   \n",
       "1  0103000020E610000001000000070000007CCD575979CC...  Guadalajara        11   \n",
       "2  0103000020E610000001000000070000000660CA4687CC...  Guadalajara        11   \n",
       "3  0103000020E610000001000000070000005CF2BC1488CC...  Guadalajara        11   \n",
       "4  0103000020E610000001000000070000007CCD575979CC...  Guadalajara        11   \n",
       "\n",
       "                                       ndvi_geometry    ndvi_city  ndvi_res  \\\n",
       "0  0103000020E610000001000000070000005CF2BC1488CC...  Guadalajara        11   \n",
       "1  0103000020E610000001000000070000007CCD575979CC...  Guadalajara        11   \n",
       "2  0103000020E610000001000000070000000660CA4687CC...  Guadalajara        11   \n",
       "3  0103000020E610000001000000070000005CF2BC1488CC...  Guadalajara        11   \n",
       "4  0103000020E610000001000000070000007CCD575979CC...  Guadalajara        11   \n",
       "\n",
       "   ...  ndmi_diff  temp_diff_mean         hex_id_9  CVEGEO  NOMGEO  \\\n",
       "0  ...   0.423406       -3.518013  89498c90b57ffff   14101  Tonalá   \n",
       "1  ...   0.392792       -4.151091  89498c90b57ffff   14101  Tonalá   \n",
       "2  ...   0.440299       -3.715834  89498c90b57ffff   14101  Tonalá   \n",
       "3  ...   0.423406       -3.518013  89498c90b57ffff   14101  Tonalá   \n",
       "4  ...   0.392792       -4.151091  89498c90b57ffff   14101  Tonalá   \n",
       "\n",
       "        city_2   type  pobtot  EspPublico_2  \\\n",
       "0  Guadalajara  urban   222.0             0   \n",
       "1  Guadalajara  urban   222.0             0   \n",
       "2  Guadalajara  urban   222.0             0   \n",
       "3  Guadalajara  urban   503.0             0   \n",
       "4  Guadalajara  urban   503.0             0   \n",
       "\n",
       "                                            geometry  \n",
       "0  POLYGON ((-103.19611 20.66741, -103.19581 20.6...  \n",
       "1  POLYGON ((-103.19516 20.66782, -103.19486 20.6...  \n",
       "2  POLYGON ((-103.19606 20.66790, -103.19576 20.6...  \n",
       "3  POLYGON ((-103.19611 20.66741, -103.19581 20.6...  \n",
       "4  POLYGON ((-103.19516 20.66782, -103.19486 20.6...  \n",
       "\n",
       "[5 rows x 29 columns]"
      ]
     },
     "execution_count": 60,
     "metadata": {},
     "output_type": "execute_result"
    }
   ],
   "source": [
    "simplified_intersection.head()"
   ]
  },
  {
   "cell_type": "code",
   "execution_count": 61,
   "id": "4a63289f-8444-44f5-8e72-9ae1a0fcb721",
   "metadata": {},
   "outputs": [
    {
     "data": {
      "text/html": [
       "<div>\n",
       "<style scoped>\n",
       "    .dataframe tbody tr th:only-of-type {\n",
       "        vertical-align: middle;\n",
       "    }\n",
       "\n",
       "    .dataframe tbody tr th {\n",
       "        vertical-align: top;\n",
       "    }\n",
       "\n",
       "    .dataframe thead th {\n",
       "        text-align: right;\n",
       "    }\n",
       "</style>\n",
       "<table border=\"1\" class=\"dataframe\">\n",
       "  <thead>\n",
       "    <tr style=\"text-align: right;\">\n",
       "      <th></th>\n",
       "      <th>hex_id</th>\n",
       "      <th>temp_res</th>\n",
       "      <th>ndmi_geometry</th>\n",
       "      <th>ndmi_city</th>\n",
       "      <th>ndmi_res</th>\n",
       "      <th>ndvi_geometry</th>\n",
       "      <th>ndvi_city</th>\n",
       "      <th>ndvi_res</th>\n",
       "      <th>ndvi_mean</th>\n",
       "      <th>ndvi_std</th>\n",
       "      <th>...</th>\n",
       "      <th>ndmi_diff</th>\n",
       "      <th>temp_diff_mean</th>\n",
       "      <th>hex_id_9</th>\n",
       "      <th>CVEGEO</th>\n",
       "      <th>NOMGEO</th>\n",
       "      <th>city</th>\n",
       "      <th>type</th>\n",
       "      <th>pobtot</th>\n",
       "      <th>EspPublico</th>\n",
       "      <th>geometry</th>\n",
       "    </tr>\n",
       "  </thead>\n",
       "  <tbody>\n",
       "    <tr>\n",
       "      <th>0</th>\n",
       "      <td>8b498c90b54cfff</td>\n",
       "      <td>11</td>\n",
       "      <td>0103000020E610000001000000070000005CF2BC1488CC...</td>\n",
       "      <td>Guadalajara</td>\n",
       "      <td>11</td>\n",
       "      <td>0103000020E610000001000000070000005CF2BC1488CC...</td>\n",
       "      <td>Guadalajara</td>\n",
       "      <td>11</td>\n",
       "      <td>0.414017</td>\n",
       "      <td>0.217957</td>\n",
       "      <td>...</td>\n",
       "      <td>0.423406</td>\n",
       "      <td>-3.518013</td>\n",
       "      <td>89498c90b57ffff</td>\n",
       "      <td>14101</td>\n",
       "      <td>Tonalá</td>\n",
       "      <td>Guadalajara</td>\n",
       "      <td>urban</td>\n",
       "      <td>222.0</td>\n",
       "      <td>0</td>\n",
       "      <td>POLYGON ((-103.19611 20.66741, -103.19581 20.6...</td>\n",
       "    </tr>\n",
       "    <tr>\n",
       "      <th>1</th>\n",
       "      <td>8b498c90b55dfff</td>\n",
       "      <td>11</td>\n",
       "      <td>0103000020E610000001000000070000007CCD575979CC...</td>\n",
       "      <td>Guadalajara</td>\n",
       "      <td>11</td>\n",
       "      <td>0103000020E610000001000000070000007CCD575979CC...</td>\n",
       "      <td>Guadalajara</td>\n",
       "      <td>11</td>\n",
       "      <td>0.426913</td>\n",
       "      <td>0.217324</td>\n",
       "      <td>...</td>\n",
       "      <td>0.392792</td>\n",
       "      <td>-4.151091</td>\n",
       "      <td>89498c90b57ffff</td>\n",
       "      <td>14101</td>\n",
       "      <td>Tonalá</td>\n",
       "      <td>Guadalajara</td>\n",
       "      <td>urban</td>\n",
       "      <td>222.0</td>\n",
       "      <td>0</td>\n",
       "      <td>POLYGON ((-103.19516 20.66782, -103.19486 20.6...</td>\n",
       "    </tr>\n",
       "    <tr>\n",
       "      <th>2</th>\n",
       "      <td>8b498c90b548fff</td>\n",
       "      <td>11</td>\n",
       "      <td>0103000020E610000001000000070000000660CA4687CC...</td>\n",
       "      <td>Guadalajara</td>\n",
       "      <td>11</td>\n",
       "      <td>0103000020E610000001000000070000000660CA4687CC...</td>\n",
       "      <td>Guadalajara</td>\n",
       "      <td>11</td>\n",
       "      <td>0.402150</td>\n",
       "      <td>0.215642</td>\n",
       "      <td>...</td>\n",
       "      <td>0.440299</td>\n",
       "      <td>-3.715834</td>\n",
       "      <td>89498c90b57ffff</td>\n",
       "      <td>14101</td>\n",
       "      <td>Tonalá</td>\n",
       "      <td>Guadalajara</td>\n",
       "      <td>urban</td>\n",
       "      <td>222.0</td>\n",
       "      <td>0</td>\n",
       "      <td>POLYGON ((-103.19606 20.66790, -103.19576 20.6...</td>\n",
       "    </tr>\n",
       "    <tr>\n",
       "      <th>3</th>\n",
       "      <td>8b498c90b54cfff</td>\n",
       "      <td>11</td>\n",
       "      <td>0103000020E610000001000000070000005CF2BC1488CC...</td>\n",
       "      <td>Guadalajara</td>\n",
       "      <td>11</td>\n",
       "      <td>0103000020E610000001000000070000005CF2BC1488CC...</td>\n",
       "      <td>Guadalajara</td>\n",
       "      <td>11</td>\n",
       "      <td>0.414017</td>\n",
       "      <td>0.217957</td>\n",
       "      <td>...</td>\n",
       "      <td>0.423406</td>\n",
       "      <td>-3.518013</td>\n",
       "      <td>89498c90b57ffff</td>\n",
       "      <td>14101</td>\n",
       "      <td>Tonalá</td>\n",
       "      <td>Guadalajara</td>\n",
       "      <td>urban</td>\n",
       "      <td>503.0</td>\n",
       "      <td>0</td>\n",
       "      <td>POLYGON ((-103.19611 20.66741, -103.19581 20.6...</td>\n",
       "    </tr>\n",
       "    <tr>\n",
       "      <th>4</th>\n",
       "      <td>8b498c90b55dfff</td>\n",
       "      <td>11</td>\n",
       "      <td>0103000020E610000001000000070000007CCD575979CC...</td>\n",
       "      <td>Guadalajara</td>\n",
       "      <td>11</td>\n",
       "      <td>0103000020E610000001000000070000007CCD575979CC...</td>\n",
       "      <td>Guadalajara</td>\n",
       "      <td>11</td>\n",
       "      <td>0.426913</td>\n",
       "      <td>0.217324</td>\n",
       "      <td>...</td>\n",
       "      <td>0.392792</td>\n",
       "      <td>-4.151091</td>\n",
       "      <td>89498c90b57ffff</td>\n",
       "      <td>14101</td>\n",
       "      <td>Tonalá</td>\n",
       "      <td>Guadalajara</td>\n",
       "      <td>urban</td>\n",
       "      <td>503.0</td>\n",
       "      <td>0</td>\n",
       "      <td>POLYGON ((-103.19516 20.66782, -103.19486 20.6...</td>\n",
       "    </tr>\n",
       "  </tbody>\n",
       "</table>\n",
       "<p>5 rows × 27 columns</p>\n",
       "</div>"
      ],
      "text/plain": [
       "            hex_id  temp_res  \\\n",
       "0  8b498c90b54cfff        11   \n",
       "1  8b498c90b55dfff        11   \n",
       "2  8b498c90b548fff        11   \n",
       "3  8b498c90b54cfff        11   \n",
       "4  8b498c90b55dfff        11   \n",
       "\n",
       "                                       ndmi_geometry    ndmi_city  ndmi_res  \\\n",
       "0  0103000020E610000001000000070000005CF2BC1488CC...  Guadalajara        11   \n",
       "1  0103000020E610000001000000070000007CCD575979CC...  Guadalajara        11   \n",
       "2  0103000020E610000001000000070000000660CA4687CC...  Guadalajara        11   \n",
       "3  0103000020E610000001000000070000005CF2BC1488CC...  Guadalajara        11   \n",
       "4  0103000020E610000001000000070000007CCD575979CC...  Guadalajara        11   \n",
       "\n",
       "                                       ndvi_geometry    ndvi_city  ndvi_res  \\\n",
       "0  0103000020E610000001000000070000005CF2BC1488CC...  Guadalajara        11   \n",
       "1  0103000020E610000001000000070000007CCD575979CC...  Guadalajara        11   \n",
       "2  0103000020E610000001000000070000000660CA4687CC...  Guadalajara        11   \n",
       "3  0103000020E610000001000000070000005CF2BC1488CC...  Guadalajara        11   \n",
       "4  0103000020E610000001000000070000007CCD575979CC...  Guadalajara        11   \n",
       "\n",
       "   ndvi_mean  ndvi_std  ...  ndmi_diff  temp_diff_mean         hex_id_9  \\\n",
       "0   0.414017  0.217957  ...   0.423406       -3.518013  89498c90b57ffff   \n",
       "1   0.426913  0.217324  ...   0.392792       -4.151091  89498c90b57ffff   \n",
       "2   0.402150  0.215642  ...   0.440299       -3.715834  89498c90b57ffff   \n",
       "3   0.414017  0.217957  ...   0.423406       -3.518013  89498c90b57ffff   \n",
       "4   0.426913  0.217324  ...   0.392792       -4.151091  89498c90b57ffff   \n",
       "\n",
       "   CVEGEO  NOMGEO         city   type  pobtot  EspPublico  \\\n",
       "0   14101  Tonalá  Guadalajara  urban   222.0           0   \n",
       "1   14101  Tonalá  Guadalajara  urban   222.0           0   \n",
       "2   14101  Tonalá  Guadalajara  urban   222.0           0   \n",
       "3   14101  Tonalá  Guadalajara  urban   503.0           0   \n",
       "4   14101  Tonalá  Guadalajara  urban   503.0           0   \n",
       "\n",
       "                                            geometry  \n",
       "0  POLYGON ((-103.19611 20.66741, -103.19581 20.6...  \n",
       "1  POLYGON ((-103.19516 20.66782, -103.19486 20.6...  \n",
       "2  POLYGON ((-103.19606 20.66790, -103.19576 20.6...  \n",
       "3  POLYGON ((-103.19611 20.66741, -103.19581 20.6...  \n",
       "4  POLYGON ((-103.19516 20.66782, -103.19486 20.6...  \n",
       "\n",
       "[5 rows x 27 columns]"
      ]
     },
     "execution_count": 61,
     "metadata": {},
     "output_type": "execute_result"
    }
   ],
   "source": [
    "simplified_intersection.drop(columns=[\"city_1\", \"EspPublico_1\"], inplace=True)\n",
    "simplified_intersection.rename(columns={\"city_2\": \"city\", \"EspPublico_2\": \"EspPublico\"}, inplace=True)\n",
    "simplified_intersection.head()"
   ]
  },
  {
   "cell_type": "code",
   "execution_count": 62,
   "id": "0922ad94-a43d-4935-8f0a-26aff9d10acb",
   "metadata": {},
   "outputs": [],
   "source": [
    "from sklearn.decomposition import PCA\n",
    "from sklearn.preprocessing import StandardScaler\n",
    "import matplotlib.pyplot as plt\n",
    "\n",
    "features = ['pobtot', 'ndvi_mean', 'ndvi_std', 'ndvi_median', 'ndvi_max', 'ndvi_min', 'ndvi_diff', \n",
    "            'ndvi_tend', 'ndmi_mean', 'ndmi_median', 'ndmi_diff', 'temp_diff_mean']\n",
    "\n",
    "df_features = simplified_intersection[features]\n",
    "df_features.replace([np.inf, -np.inf], np.nan, inplace=True)\n",
    "df_features.fillna(df_features.mean(), inplace=True)\n",
    "\n",
    "scaler = StandardScaler()\n",
    "scaled_features = scaler.fit_transform(df_features)\n",
    "\n",
    "pca = PCA(n_components= 4)  #Cambia n_components si necesitas más o menos dimensiones\n",
    "pca_components = pca.fit_transform(scaled_features)\n",
    "\n",
    "pca_df = pd.DataFrame(data=pca_components, columns=['PCA1', 'PCA2', \"PCA3\", \"PCA4\"])\n",
    "\n",
    "simplified_intersection = simplified_intersection.reset_index(drop=True)\n",
    "simplified_intersection['PCA1'] = pca_df['PCA1']\n",
    "simplified_intersection['PCA2'] = pca_df['PCA2']\n",
    "simplified_intersection[\"PCA3\"] = pca_df[\"PCA3\"]\n",
    "simplified_intersection[\"PCA4\"] = pca_df[\"PCA4\"]\n",
    "\n"
   ]
  },
  {
   "cell_type": "code",
   "execution_count": 63,
   "id": "db1bb1f7-6040-49b2-bb54-3a701e6a2e20",
   "metadata": {},
   "outputs": [],
   "source": [
    "# Aplicar PCA con todos los componentes\n",
    "pca = PCA(n_components=len(features))\n",
    "pca.fit(scaled_features)\n",
    "\n",
    "# Varianza explicada por cada componente\n",
    "explained_variance_ratio = pca.explained_variance_ratio_\n",
    "\n",
    "# Varianza acumulada\n",
    "cumulative_variance = np.cumsum(explained_variance_ratio)"
   ]
  },
  {
   "cell_type": "code",
   "execution_count": 64,
   "id": "d3c0bc38-4696-40f2-80ce-faeda30f35c7",
   "metadata": {},
   "outputs": [
    {
     "name": "stdout",
     "output_type": "stream",
     "text": [
      "Componente 1: Varianza acumulada = 0.6393\n",
      "Componente 2: Varianza acumulada = 0.8133\n",
      "Componente 3: Varianza acumulada = 0.8883\n",
      "Componente 4: Varianza acumulada = 0.9406\n",
      "Componente 5: Varianza acumulada = 0.9760\n",
      "Componente 6: Varianza acumulada = 0.9899\n",
      "Componente 7: Varianza acumulada = 0.9970\n",
      "Componente 8: Varianza acumulada = 0.9984\n",
      "Componente 9: Varianza acumulada = 0.9993\n",
      "Componente 10: Varianza acumulada = 0.9999\n",
      "Componente 11: Varianza acumulada = 1.0000\n",
      "Componente 12: Varianza acumulada = 1.0000\n"
     ]
    }
   ],
   "source": [
    "#Varianza explicada por cada componente:\n",
    "explained_variance_ratio = pca.explained_variance_ratio_\n",
    "\n",
    "#Varianza acumulada:\n",
    "cumulative_variance = np.cumsum(explained_variance_ratio)\n",
    "\n",
    "for i, var in enumerate(cumulative_variance):\n",
    "    print(f\"Componente {i+1}: Varianza acumulada = {var:.4f}\")"
   ]
  },
  {
   "cell_type": "code",
   "execution_count": 65,
   "id": "d2f2f89b-754d-4a01-a20a-5ff8f6b9a69e",
   "metadata": {},
   "outputs": [
    {
     "data": {
      "text/html": [
       "<div>\n",
       "<style scoped>\n",
       "    .dataframe tbody tr th:only-of-type {\n",
       "        vertical-align: middle;\n",
       "    }\n",
       "\n",
       "    .dataframe tbody tr th {\n",
       "        vertical-align: top;\n",
       "    }\n",
       "\n",
       "    .dataframe thead th {\n",
       "        text-align: right;\n",
       "    }\n",
       "</style>\n",
       "<table border=\"1\" class=\"dataframe\">\n",
       "  <thead>\n",
       "    <tr style=\"text-align: right;\">\n",
       "      <th></th>\n",
       "      <th>hex_id</th>\n",
       "      <th>temp_res</th>\n",
       "      <th>ndmi_geometry</th>\n",
       "      <th>ndmi_city</th>\n",
       "      <th>ndmi_res</th>\n",
       "      <th>ndvi_geometry</th>\n",
       "      <th>ndvi_city</th>\n",
       "      <th>ndvi_res</th>\n",
       "      <th>ndvi_mean</th>\n",
       "      <th>ndvi_std</th>\n",
       "      <th>...</th>\n",
       "      <th>NOMGEO</th>\n",
       "      <th>city</th>\n",
       "      <th>type</th>\n",
       "      <th>pobtot</th>\n",
       "      <th>EspPublico</th>\n",
       "      <th>geometry</th>\n",
       "      <th>PCA1</th>\n",
       "      <th>PCA2</th>\n",
       "      <th>PCA3</th>\n",
       "      <th>PCA4</th>\n",
       "    </tr>\n",
       "  </thead>\n",
       "  <tbody>\n",
       "    <tr>\n",
       "      <th>0</th>\n",
       "      <td>8b498c90b54cfff</td>\n",
       "      <td>11</td>\n",
       "      <td>0103000020E610000001000000070000005CF2BC1488CC...</td>\n",
       "      <td>Guadalajara</td>\n",
       "      <td>11</td>\n",
       "      <td>0103000020E610000001000000070000005CF2BC1488CC...</td>\n",
       "      <td>Guadalajara</td>\n",
       "      <td>11</td>\n",
       "      <td>0.414017</td>\n",
       "      <td>0.217957</td>\n",
       "      <td>...</td>\n",
       "      <td>Tonalá</td>\n",
       "      <td>Guadalajara</td>\n",
       "      <td>urban</td>\n",
       "      <td>222.0</td>\n",
       "      <td>0</td>\n",
       "      <td>POLYGON ((-103.19611 20.66741, -103.19581 20.6...</td>\n",
       "      <td>5.865123</td>\n",
       "      <td>4.764874</td>\n",
       "      <td>0.166862</td>\n",
       "      <td>1.217243</td>\n",
       "    </tr>\n",
       "    <tr>\n",
       "      <th>1</th>\n",
       "      <td>8b498c90b55dfff</td>\n",
       "      <td>11</td>\n",
       "      <td>0103000020E610000001000000070000007CCD575979CC...</td>\n",
       "      <td>Guadalajara</td>\n",
       "      <td>11</td>\n",
       "      <td>0103000020E610000001000000070000007CCD575979CC...</td>\n",
       "      <td>Guadalajara</td>\n",
       "      <td>11</td>\n",
       "      <td>0.426913</td>\n",
       "      <td>0.217324</td>\n",
       "      <td>...</td>\n",
       "      <td>Tonalá</td>\n",
       "      <td>Guadalajara</td>\n",
       "      <td>urban</td>\n",
       "      <td>222.0</td>\n",
       "      <td>0</td>\n",
       "      <td>POLYGON ((-103.19516 20.66782, -103.19486 20.6...</td>\n",
       "      <td>5.743460</td>\n",
       "      <td>4.965595</td>\n",
       "      <td>0.112257</td>\n",
       "      <td>1.771860</td>\n",
       "    </tr>\n",
       "    <tr>\n",
       "      <th>2</th>\n",
       "      <td>8b498c90b548fff</td>\n",
       "      <td>11</td>\n",
       "      <td>0103000020E610000001000000070000000660CA4687CC...</td>\n",
       "      <td>Guadalajara</td>\n",
       "      <td>11</td>\n",
       "      <td>0103000020E610000001000000070000000660CA4687CC...</td>\n",
       "      <td>Guadalajara</td>\n",
       "      <td>11</td>\n",
       "      <td>0.402150</td>\n",
       "      <td>0.215642</td>\n",
       "      <td>...</td>\n",
       "      <td>Tonalá</td>\n",
       "      <td>Guadalajara</td>\n",
       "      <td>urban</td>\n",
       "      <td>222.0</td>\n",
       "      <td>0</td>\n",
       "      <td>POLYGON ((-103.19606 20.66790, -103.19576 20.6...</td>\n",
       "      <td>5.638006</td>\n",
       "      <td>5.102393</td>\n",
       "      <td>0.157688</td>\n",
       "      <td>1.410981</td>\n",
       "    </tr>\n",
       "    <tr>\n",
       "      <th>3</th>\n",
       "      <td>8b498c90b54cfff</td>\n",
       "      <td>11</td>\n",
       "      <td>0103000020E610000001000000070000005CF2BC1488CC...</td>\n",
       "      <td>Guadalajara</td>\n",
       "      <td>11</td>\n",
       "      <td>0103000020E610000001000000070000005CF2BC1488CC...</td>\n",
       "      <td>Guadalajara</td>\n",
       "      <td>11</td>\n",
       "      <td>0.414017</td>\n",
       "      <td>0.217957</td>\n",
       "      <td>...</td>\n",
       "      <td>Tonalá</td>\n",
       "      <td>Guadalajara</td>\n",
       "      <td>urban</td>\n",
       "      <td>503.0</td>\n",
       "      <td>0</td>\n",
       "      <td>POLYGON ((-103.19611 20.66741, -103.19581 20.6...</td>\n",
       "      <td>5.836077</td>\n",
       "      <td>4.719787</td>\n",
       "      <td>0.424034</td>\n",
       "      <td>1.272489</td>\n",
       "    </tr>\n",
       "    <tr>\n",
       "      <th>4</th>\n",
       "      <td>8b498c90b55dfff</td>\n",
       "      <td>11</td>\n",
       "      <td>0103000020E610000001000000070000007CCD575979CC...</td>\n",
       "      <td>Guadalajara</td>\n",
       "      <td>11</td>\n",
       "      <td>0103000020E610000001000000070000007CCD575979CC...</td>\n",
       "      <td>Guadalajara</td>\n",
       "      <td>11</td>\n",
       "      <td>0.426913</td>\n",
       "      <td>0.217324</td>\n",
       "      <td>...</td>\n",
       "      <td>Tonalá</td>\n",
       "      <td>Guadalajara</td>\n",
       "      <td>urban</td>\n",
       "      <td>503.0</td>\n",
       "      <td>0</td>\n",
       "      <td>POLYGON ((-103.19516 20.66782, -103.19486 20.6...</td>\n",
       "      <td>5.714413</td>\n",
       "      <td>4.920508</td>\n",
       "      <td>0.369429</td>\n",
       "      <td>1.827106</td>\n",
       "    </tr>\n",
       "  </tbody>\n",
       "</table>\n",
       "<p>5 rows × 31 columns</p>\n",
       "</div>"
      ],
      "text/plain": [
       "            hex_id  temp_res  \\\n",
       "0  8b498c90b54cfff        11   \n",
       "1  8b498c90b55dfff        11   \n",
       "2  8b498c90b548fff        11   \n",
       "3  8b498c90b54cfff        11   \n",
       "4  8b498c90b55dfff        11   \n",
       "\n",
       "                                       ndmi_geometry    ndmi_city  ndmi_res  \\\n",
       "0  0103000020E610000001000000070000005CF2BC1488CC...  Guadalajara        11   \n",
       "1  0103000020E610000001000000070000007CCD575979CC...  Guadalajara        11   \n",
       "2  0103000020E610000001000000070000000660CA4687CC...  Guadalajara        11   \n",
       "3  0103000020E610000001000000070000005CF2BC1488CC...  Guadalajara        11   \n",
       "4  0103000020E610000001000000070000007CCD575979CC...  Guadalajara        11   \n",
       "\n",
       "                                       ndvi_geometry    ndvi_city  ndvi_res  \\\n",
       "0  0103000020E610000001000000070000005CF2BC1488CC...  Guadalajara        11   \n",
       "1  0103000020E610000001000000070000007CCD575979CC...  Guadalajara        11   \n",
       "2  0103000020E610000001000000070000000660CA4687CC...  Guadalajara        11   \n",
       "3  0103000020E610000001000000070000005CF2BC1488CC...  Guadalajara        11   \n",
       "4  0103000020E610000001000000070000007CCD575979CC...  Guadalajara        11   \n",
       "\n",
       "   ndvi_mean  ndvi_std  ...  NOMGEO         city   type  pobtot  EspPublico  \\\n",
       "0   0.414017  0.217957  ...  Tonalá  Guadalajara  urban   222.0           0   \n",
       "1   0.426913  0.217324  ...  Tonalá  Guadalajara  urban   222.0           0   \n",
       "2   0.402150  0.215642  ...  Tonalá  Guadalajara  urban   222.0           0   \n",
       "3   0.414017  0.217957  ...  Tonalá  Guadalajara  urban   503.0           0   \n",
       "4   0.426913  0.217324  ...  Tonalá  Guadalajara  urban   503.0           0   \n",
       "\n",
       "                                            geometry      PCA1      PCA2  \\\n",
       "0  POLYGON ((-103.19611 20.66741, -103.19581 20.6...  5.865123  4.764874   \n",
       "1  POLYGON ((-103.19516 20.66782, -103.19486 20.6...  5.743460  4.965595   \n",
       "2  POLYGON ((-103.19606 20.66790, -103.19576 20.6...  5.638006  5.102393   \n",
       "3  POLYGON ((-103.19611 20.66741, -103.19581 20.6...  5.836077  4.719787   \n",
       "4  POLYGON ((-103.19516 20.66782, -103.19486 20.6...  5.714413  4.920508   \n",
       "\n",
       "       PCA3      PCA4  \n",
       "0  0.166862  1.217243  \n",
       "1  0.112257  1.771860  \n",
       "2  0.157688  1.410981  \n",
       "3  0.424034  1.272489  \n",
       "4  0.369429  1.827106  \n",
       "\n",
       "[5 rows x 31 columns]"
      ]
     },
     "execution_count": 65,
     "metadata": {},
     "output_type": "execute_result"
    }
   ],
   "source": [
    "gdf_sindex = gdf.sindex\n",
    "\n",
    "# Create a Series of boolean values indicating which hexagons intersect with public spaces\n",
    "intersects_public_spaces = simplified_intersection['geometry'].apply(lambda geom: any(gdf_sindex.query(geom)))\n",
    "\n",
    "simplified_intersection['EspPublico'] = intersects_public_spaces.astype(int)\n",
    "simplified_intersection.head()"
   ]
  },
  {
   "cell_type": "code",
   "execution_count": 66,
   "id": "1a4bf335-0f56-4344-b4a9-463134cd33f6",
   "metadata": {},
   "outputs": [
    {
     "name": "stdout",
     "output_type": "stream",
     "text": [
      "Números de hexagonos sin Espacios Públicos: 256176 \n",
      "Número de Hexágonos con Espacios Públicos: 189746\n",
      "Número total de Hexágonos: 445922\n"
     ]
    }
   ],
   "source": [
    "cont_ceros_join = np.sum(simplified_intersection['EspPublico'] == 0)\n",
    "cont_uno_join = np.sum(simplified_intersection['EspPublico'])\n",
    "print(f'Números de hexagonos sin Espacios Públicos: {cont_ceros_join} \\nNúmero de Hexágonos con Espacios Públicos: {cont_uno_join}\\nNúmero total de Hexágonos: {cont_ceros_join + cont_uno_join}')"
   ]
  },
  {
   "cell_type": "markdown",
   "id": "24e5e463-d778-432a-8cd8-8044c31b0907",
   "metadata": {},
   "source": [
    "### Submuestreo de todas las variables"
   ]
  },
  {
   "cell_type": "code",
   "execution_count": 67,
   "id": "631b1bf3-16d7-4c25-a055-c33b4ac7dc08",
   "metadata": {},
   "outputs": [
    {
     "data": {
      "text/html": [
       "<div>\n",
       "<style scoped>\n",
       "    .dataframe tbody tr th:only-of-type {\n",
       "        vertical-align: middle;\n",
       "    }\n",
       "\n",
       "    .dataframe tbody tr th {\n",
       "        vertical-align: top;\n",
       "    }\n",
       "\n",
       "    .dataframe thead th {\n",
       "        text-align: right;\n",
       "    }\n",
       "</style>\n",
       "<table border=\"1\" class=\"dataframe\">\n",
       "  <thead>\n",
       "    <tr style=\"text-align: right;\">\n",
       "      <th></th>\n",
       "      <th>hex_id</th>\n",
       "      <th>temp_res</th>\n",
       "      <th>ndmi_geometry</th>\n",
       "      <th>ndmi_city</th>\n",
       "      <th>ndmi_res</th>\n",
       "      <th>ndvi_geometry</th>\n",
       "      <th>ndvi_city</th>\n",
       "      <th>ndvi_res</th>\n",
       "      <th>ndvi_mean</th>\n",
       "      <th>ndvi_std</th>\n",
       "      <th>...</th>\n",
       "      <th>NOMGEO</th>\n",
       "      <th>city</th>\n",
       "      <th>type</th>\n",
       "      <th>pobtot</th>\n",
       "      <th>EspPublico</th>\n",
       "      <th>geometry</th>\n",
       "      <th>PCA1</th>\n",
       "      <th>PCA2</th>\n",
       "      <th>PCA3</th>\n",
       "      <th>PCA4</th>\n",
       "    </tr>\n",
       "  </thead>\n",
       "  <tbody>\n",
       "    <tr>\n",
       "      <th>0</th>\n",
       "      <td>8b4995b9db2bfff</td>\n",
       "      <td>11</td>\n",
       "      <td>0103000020E61000000100000007000000529E5F8D75C9...</td>\n",
       "      <td>CDMX</td>\n",
       "      <td>11</td>\n",
       "      <td>0103000020E61000000100000007000000529E5F8D75C9...</td>\n",
       "      <td>CDMX</td>\n",
       "      <td>11</td>\n",
       "      <td>0.071472</td>\n",
       "      <td>0.014560</td>\n",
       "      <td>...</td>\n",
       "      <td>Gustavo A. Madero</td>\n",
       "      <td>CDMX</td>\n",
       "      <td>urban</td>\n",
       "      <td>0.0</td>\n",
       "      <td>1</td>\n",
       "      <td>POLYGON ((-99.14756 19.50019, -99.14727 19.500...</td>\n",
       "      <td>-2.805139</td>\n",
       "      <td>0.198628</td>\n",
       "      <td>-1.317004</td>\n",
       "      <td>-1.211094</td>\n",
       "    </tr>\n",
       "    <tr>\n",
       "      <th>1</th>\n",
       "      <td>8b4995b3364efff</td>\n",
       "      <td>11</td>\n",
       "      <td>0103000020E61000000100000007000000A523332CCBD0...</td>\n",
       "      <td>CDMX</td>\n",
       "      <td>11</td>\n",
       "      <td>0103000020E61000000100000007000000A523332CCBD0...</td>\n",
       "      <td>CDMX</td>\n",
       "      <td>11</td>\n",
       "      <td>0.219618</td>\n",
       "      <td>0.068384</td>\n",
       "      <td>...</td>\n",
       "      <td>Álvaro Obregón</td>\n",
       "      <td>CDMX</td>\n",
       "      <td>urban</td>\n",
       "      <td>166.0</td>\n",
       "      <td>1</td>\n",
       "      <td>POLYGON ((-99.26263 19.37311, -99.26234 19.373...</td>\n",
       "      <td>1.565889</td>\n",
       "      <td>-1.897381</td>\n",
       "      <td>-1.161963</td>\n",
       "      <td>-0.527244</td>\n",
       "    </tr>\n",
       "    <tr>\n",
       "      <th>2</th>\n",
       "      <td>8b499584418dfff</td>\n",
       "      <td>11</td>\n",
       "      <td>0103000020E61000000100000007000000574B222E8FCA...</td>\n",
       "      <td>CDMX</td>\n",
       "      <td>11</td>\n",
       "      <td>0103000020E61000000100000007000000574B222E8FCA...</td>\n",
       "      <td>CDMX</td>\n",
       "      <td>11</td>\n",
       "      <td>0.115772</td>\n",
       "      <td>0.029161</td>\n",
       "      <td>...</td>\n",
       "      <td>Tlalpan</td>\n",
       "      <td>CDMX</td>\n",
       "      <td>urban</td>\n",
       "      <td>4062.0</td>\n",
       "      <td>1</td>\n",
       "      <td>POLYGON ((-99.16533 19.26756, -99.16580 19.267...</td>\n",
       "      <td>-2.414953</td>\n",
       "      <td>-0.538802</td>\n",
       "      <td>2.447309</td>\n",
       "      <td>-0.144075</td>\n",
       "    </tr>\n",
       "    <tr>\n",
       "      <th>3</th>\n",
       "      <td>8b499585678bfff</td>\n",
       "      <td>11</td>\n",
       "      <td>0103000020E61000000100000007000000A4A784E69CC4...</td>\n",
       "      <td>CDMX</td>\n",
       "      <td>11</td>\n",
       "      <td>0103000020E61000000100000007000000A4A784E69CC4...</td>\n",
       "      <td>CDMX</td>\n",
       "      <td>11</td>\n",
       "      <td>0.176869</td>\n",
       "      <td>0.058786</td>\n",
       "      <td>...</td>\n",
       "      <td>Iztapalapa</td>\n",
       "      <td>CDMX</td>\n",
       "      <td>urban</td>\n",
       "      <td>2707.0</td>\n",
       "      <td>1</td>\n",
       "      <td>POLYGON ((-99.07242 19.29059, -99.07224 19.290...</td>\n",
       "      <td>-0.586495</td>\n",
       "      <td>-0.193333</td>\n",
       "      <td>1.295171</td>\n",
       "      <td>0.195995</td>\n",
       "    </tr>\n",
       "    <tr>\n",
       "      <th>4</th>\n",
       "      <td>8b499586e748fff</td>\n",
       "      <td>11</td>\n",
       "      <td>0103000020E61000000100000007000000F21D75C86ACD...</td>\n",
       "      <td>CDMX</td>\n",
       "      <td>11</td>\n",
       "      <td>0103000020E61000000100000007000000F21D75C86ACD...</td>\n",
       "      <td>CDMX</td>\n",
       "      <td>11</td>\n",
       "      <td>0.160239</td>\n",
       "      <td>0.037208</td>\n",
       "      <td>...</td>\n",
       "      <td>Tlalpan</td>\n",
       "      <td>CDMX</td>\n",
       "      <td>urban</td>\n",
       "      <td>1660.0</td>\n",
       "      <td>1</td>\n",
       "      <td>POLYGON ((-99.20993 19.28099, -99.20964 19.280...</td>\n",
       "      <td>-1.093063</td>\n",
       "      <td>-0.583988</td>\n",
       "      <td>0.090998</td>\n",
       "      <td>0.320513</td>\n",
       "    </tr>\n",
       "  </tbody>\n",
       "</table>\n",
       "<p>5 rows × 31 columns</p>\n",
       "</div>"
      ],
      "text/plain": [
       "            hex_id  temp_res  \\\n",
       "0  8b4995b9db2bfff        11   \n",
       "1  8b4995b3364efff        11   \n",
       "2  8b499584418dfff        11   \n",
       "3  8b499585678bfff        11   \n",
       "4  8b499586e748fff        11   \n",
       "\n",
       "                                       ndmi_geometry ndmi_city  ndmi_res  \\\n",
       "0  0103000020E61000000100000007000000529E5F8D75C9...      CDMX        11   \n",
       "1  0103000020E61000000100000007000000A523332CCBD0...      CDMX        11   \n",
       "2  0103000020E61000000100000007000000574B222E8FCA...      CDMX        11   \n",
       "3  0103000020E61000000100000007000000A4A784E69CC4...      CDMX        11   \n",
       "4  0103000020E61000000100000007000000F21D75C86ACD...      CDMX        11   \n",
       "\n",
       "                                       ndvi_geometry ndvi_city  ndvi_res  \\\n",
       "0  0103000020E61000000100000007000000529E5F8D75C9...      CDMX        11   \n",
       "1  0103000020E61000000100000007000000A523332CCBD0...      CDMX        11   \n",
       "2  0103000020E61000000100000007000000574B222E8FCA...      CDMX        11   \n",
       "3  0103000020E61000000100000007000000A4A784E69CC4...      CDMX        11   \n",
       "4  0103000020E61000000100000007000000F21D75C86ACD...      CDMX        11   \n",
       "\n",
       "   ndvi_mean  ndvi_std  ...             NOMGEO  city   type  pobtot  \\\n",
       "0   0.071472  0.014560  ...  Gustavo A. Madero  CDMX  urban     0.0   \n",
       "1   0.219618  0.068384  ...     Álvaro Obregón  CDMX  urban   166.0   \n",
       "2   0.115772  0.029161  ...            Tlalpan  CDMX  urban  4062.0   \n",
       "3   0.176869  0.058786  ...         Iztapalapa  CDMX  urban  2707.0   \n",
       "4   0.160239  0.037208  ...            Tlalpan  CDMX  urban  1660.0   \n",
       "\n",
       "   EspPublico                                           geometry      PCA1  \\\n",
       "0           1  POLYGON ((-99.14756 19.50019, -99.14727 19.500... -2.805139   \n",
       "1           1  POLYGON ((-99.26263 19.37311, -99.26234 19.373...  1.565889   \n",
       "2           1  POLYGON ((-99.16533 19.26756, -99.16580 19.267... -2.414953   \n",
       "3           1  POLYGON ((-99.07242 19.29059, -99.07224 19.290... -0.586495   \n",
       "4           1  POLYGON ((-99.20993 19.28099, -99.20964 19.280... -1.093063   \n",
       "\n",
       "       PCA2      PCA3      PCA4  \n",
       "0  0.198628 -1.317004 -1.211094  \n",
       "1 -1.897381 -1.161963 -0.527244  \n",
       "2 -0.538802  2.447309 -0.144075  \n",
       "3 -0.193333  1.295171  0.195995  \n",
       "4 -0.583988  0.090998  0.320513  \n",
       "\n",
       "[5 rows x 31 columns]"
      ]
     },
     "execution_count": 67,
     "metadata": {},
     "output_type": "execute_result"
    }
   ],
   "source": [
    "num_samples_join = len(simplified_intersection[simplified_intersection['EspPublico'] == 1])\n",
    "\n",
    "# Randomly sample 80632 hexagons with public spaces\n",
    "sample_with_public_spaces_join = simplified_intersection[simplified_intersection['EspPublico'] == 1].sample(n=num_samples_join, random_state=42)\n",
    "\n",
    "# Randomly sample 80632 hexagons without public spaces\n",
    "sample_without_public_spaces_join = simplified_intersection[simplified_intersection['EspPublico'] == 0].sample(n=num_samples_join, random_state=42)\n",
    "\n",
    "# Concatenate the two samples to get the final subsample\n",
    "simplified_intersection = pd.concat([sample_with_public_spaces_join, sample_without_public_spaces_join])\n",
    "simplified_intersection.reset_index(drop = True, inplace = True)\n",
    "simplified_intersection.head()"
   ]
  },
  {
   "cell_type": "code",
   "execution_count": 68,
   "id": "fc8f3c6c-b103-4675-8861-633f0c9163c3",
   "metadata": {},
   "outputs": [
    {
     "name": "stdout",
     "output_type": "stream",
     "text": [
      "Números de hexagonos sin Espacios Públicos: 189746 \n",
      "Número de Hexágonos con Espacios Públicos: 189746\n",
      "Número total de Hexágonos: 379492\n"
     ]
    }
   ],
   "source": [
    "contador_ceros_join = np.sum(simplified_intersection['EspPublico'] == 0)\n",
    "contador_uno_join = np.sum(simplified_intersection['EspPublico'])\n",
    "print(f'Números de hexagonos sin Espacios Públicos: {contador_ceros_join} \\nNúmero de Hexágonos con Espacios Públicos: {contador_uno_join}\\nNúmero total de Hexágonos: {contador_ceros_join + contador_uno_join}')"
   ]
  },
  {
   "cell_type": "markdown",
   "id": "334d857c-3009-4a92-9a1c-a8074abd2a98",
   "metadata": {},
   "source": [
    "### Clasificadores para temperatura, humedad, población, vegetación..."
   ]
  },
  {
   "cell_type": "code",
   "execution_count": 69,
   "id": "2d6f5ac1-365a-4d40-94a8-9ab4a91a053f",
   "metadata": {},
   "outputs": [],
   "source": [
    "xxx = simplified_intersection[[\"PCA1\", \"PCA2\", \"PCA3\", \"PCA4\"]]\n",
    "yyy = simplified_intersection['EspPublico']"
   ]
  },
  {
   "cell_type": "code",
   "execution_count": 70,
   "id": "5acb290d-c58a-4aed-be84-692664186032",
   "metadata": {},
   "outputs": [
    {
     "data": {
      "text/plain": [
       "array([1, 0])"
      ]
     },
     "execution_count": 70,
     "metadata": {},
     "output_type": "execute_result"
    }
   ],
   "source": [
    "yyy.unique()"
   ]
  },
  {
   "cell_type": "markdown",
   "id": "2ef0de45-f966-4289-b413-ad94c2e04cc2",
   "metadata": {},
   "source": [
    "### Logistic Regression"
   ]
  },
  {
   "cell_type": "code",
   "execution_count": 71,
   "id": "1c3f4d1f-07d8-47c3-b174-0ad955b15f4f",
   "metadata": {},
   "outputs": [],
   "source": [
    "x_train, x_test, y_train, y_test = train_test_split(xxx, yyy, test_size=0.3, random_state = 42)\n",
    "\n",
    "# Reemplazar valores infinitos por NaN\n",
    "x_train.replace([np.inf, -np.inf], np.nan, inplace=True)\n",
    "x_test.replace([np.inf, -np.inf], np.nan, inplace=True)\n",
    "\n",
    "#Combinar x y y para eliminar filas con NaN de forma coherente\n",
    "train_data = x_train.copy()\n",
    "train_data['target'] = y_train  \n",
    "\n",
    "#Eliminar filas con NaN en el conjunto de entrenamiento\n",
    "train_data.dropna(inplace=True)\n",
    "\n",
    "x_train_clean = train_data.drop(columns=['target'])\n",
    "y_train_clean = train_data['target']\n",
    "\n",
    "test_data = x_test.copy()\n",
    "test_data['target'] = y_test\n",
    "test_data.dropna(inplace=True)\n",
    "\n",
    "x_test_clean = test_data.drop(columns=['target'])\n",
    "y_test_clean = test_data['target']\n",
    "\n",
    "#Escalar los datos:\n",
    "scaler = StandardScaler()\n",
    "x_train_scale = scaler.fit_transform(x_train_clean)\n",
    "x_test_scale = scaler.transform(x_test_clean)"
   ]
  },
  {
   "cell_type": "code",
   "execution_count": 129,
   "id": "849bd296-94a5-4bd6-b5ea-4963650b38c0",
   "metadata": {},
   "outputs": [
    {
     "data": {
      "image/png": "[encoded data removed]",
      "text/plain": [
       "<Figure size 1000x700 with 2 Axes>"
      ]
     },
     "metadata": {},
     "output_type": "display_data"
    }
   ],
   "source": [
    "clf = LogisticRegression(max_iter=10000, C=1, penalty='l2', solver='sag', warm_start=True)\n",
    "clf.fit(x_train_scale, y_train_clean)\n",
    "\n",
    "y_pred = clf.predict(x_test_scale)\n",
    "\n",
    "#Generar matriz de confusión:\n",
    "cm2 = confusion_matrix(y_test_clean, y_pred)\n",
    "class_labels = ['Espacio Público', 'No Espacio Público']\n",
    "\n",
    "plt.figure(figsize=(10, 7))\n",
    "sns.heatmap(cm2, annot=True, fmt=\"g\", cmap=\"Blues\", xticklabels=class_labels, yticklabels=class_labels)\n",
    "plt.xlabel('Predicted', fontsize=12, fontweight='bold')\n",
    "plt.ylabel('Actual', fontsize=12, fontweight='bold')\n",
    "plt.title('Matriz de Confusión', fontsize=15, fontweight='bold')\n",
    "plt.show()"
   ]
  },
  {
   "cell_type": "code",
   "execution_count": 130,
   "id": "fb14b260-8e8a-4a19-801e-2ef15eb97492",
   "metadata": {},
   "outputs": [
    {
     "name": "stdout",
     "output_type": "stream",
     "text": [
      "Accuracy: 0.7005393155786663\n"
     ]
    }
   ],
   "source": [
    "accuracy = accuracy_score(y_test_clean, y_pred)\n",
    "print(f'Accuracy: {accuracy}')"
   ]
  },
  {
   "cell_type": "code",
   "execution_count": 131,
   "id": "2642ca5c-731a-4643-859e-e91fdd44e182",
   "metadata": {},
   "outputs": [
    {
     "name": "stdout",
     "output_type": "stream",
     "text": [
      "              precision    recall  f1-score   support\n",
      "\n",
      "           0       0.71      0.69      0.70     57049\n",
      "           1       0.69      0.71      0.70     56799\n",
      "\n",
      "    accuracy                           0.70    113848\n",
      "   macro avg       0.70      0.70      0.70    113848\n",
      "weighted avg       0.70      0.70      0.70    113848\n",
      "\n"
     ]
    }
   ],
   "source": [
    "print(classification_report(y_test_clean, y_pred))"
   ]
  },
  {
   "cell_type": "code",
   "execution_count": 75,
   "id": "a48d9049-f8b0-4a72-a6d2-e3773a1f8525",
   "metadata": {},
   "outputs": [
    {
     "data": {
      "text/plain": [
       "'from sklearn.model_selection import RandomizedSearchCV\\nfrom sklearn.linear_model import LogisticRegression\\nimport numpy as np\\n\\n# Inicializar el modelo\\nlog_reg = LogisticRegression(max_iter=1000)\\n\\n# Definir el grid de hiperparámetros a ajustar\\nparam_dist = {\\n    \\'C\\': np.logspace(-2, 2, 10),  # Distribución logarítmica de C\\n    \\'penalty\\': [\\'l2\\'],  # Usar solo penalización l2\\n    \\'solver\\': [\\'liblinear\\']\\n}\\n\\n# Usar RandomizedSearchCV en lugar de GridSearchCV\\nrandom_search = RandomizedSearchCV(estimator=log_reg, param_distributions=param_dist, \\n                                   n_iter=10, cv=5, scoring=\\'f1\\', verbose=1, n_jobs=-1)\\n\\n# Ajustar el modelo\\nrandom_search.fit(x_train_scale, y_train_clean)\\n\\n# Usar el mejor modelo encontrado\\nbest_model = random_search.best_estimator_\\n\\n# Imprimir el mejor modelo encontrado\\nprint(\"Mejores hiperparámetros encontrados:\", random_search.best_params_)'"
      ]
     },
     "execution_count": 75,
     "metadata": {},
     "output_type": "execute_result"
    }
   ],
   "source": [
    "'''from sklearn.model_selection import RandomizedSearchCV\n",
    "from sklearn.linear_model import LogisticRegression\n",
    "import numpy as np\n",
    "\n",
    "log_reg = LogisticRegression(max_iter=1000)\n",
    "\n",
    "# Definir el grid de hiperparámetros a ajustar\n",
    "param_dist = {\n",
    "    'C': np.logspace(-2, 2, 10),  # Distribución logarítmica de C\n",
    "    'penalty': ['l2'],  # Usar solo penalización l2\n",
    "    'solver': ['liblinear']\n",
    "}\n",
    "\n",
    "#Usar RandomizedSearchCV:\n",
    "random_search = RandomizedSearchCV(estimator=log_reg, param_distributions=param_dist, \n",
    "                                   n_iter=10, cv=5, scoring='f1', verbose=1, n_jobs=-1)\n",
    "\n",
    "random_search.fit(x_train_scale, y_train_clean)\n",
    "\n",
    "#Usar el mejor modelo encontrado:\n",
    "best_model = random_search.best_estimator_\n",
    "\n",
    "print(\"Mejores hiperparámetros encontrados:\", random_search.best_params_)'''\n"
   ]
  },
  {
   "cell_type": "markdown",
   "id": "e19d8818-fa89-4ed4-8927-8ea8fb020771",
   "metadata": {},
   "source": [
    "### Naive Bayes"
   ]
  },
  {
   "cell_type": "code",
   "execution_count": 76,
   "id": "24e040d6-4ce7-40fc-bbf1-76331bee0c96",
   "metadata": {},
   "outputs": [
    {
     "data": {
      "text/html": [
       "<style>#sk-container-id-1 {color: black;}#sk-container-id-1 pre{padding: 0;}#sk-container-id-1 div.sk-toggleable {background-color: white;}#sk-container-id-1 label.sk-toggleable__label {cursor: pointer;display: block;width: 100%;margin-bottom: 0;padding: 0.3em;box-sizing: border-box;text-align: center;}#sk-container-id-1 label.sk-toggleable__label-arrow:before {content: \"▸\";float: left;margin-right: 0.25em;color: #696969;}#sk-container-id-1 label.sk-toggleable__label-arrow:hover:before {color: black;}#sk-container-id-1 div.sk-estimator:hover label.sk-toggleable__label-arrow:before {color: black;}#sk-container-id-1 div.sk-toggleable__content {max-height: 0;max-width: 0;overflow: hidden;text-align: left;background-color: #f0f8ff;}#sk-container-id-1 div.sk-toggleable__content pre {margin: 0.2em;color: black;border-radius: 0.25em;background-color: #f0f8ff;}#sk-container-id-1 input.sk-toggleable__control:checked~div.sk-toggleable__content {max-height: 200px;max-width: 100%;overflow: auto;}#sk-container-id-1 input.sk-toggleable__control:checked~label.sk-toggleable__label-arrow:before {content: \"▾\";}#sk-container-id-1 div.sk-estimator input.sk-toggleable__control:checked~label.sk-toggleable__label {background-color: #d4ebff;}#sk-container-id-1 div.sk-label input.sk-toggleable__control:checked~label.sk-toggleable__label {background-color: #d4ebff;}#sk-container-id-1 input.sk-hidden--visually {border: 0;clip: rect(1px 1px 1px 1px);clip: rect(1px, 1px, 1px, 1px);height: 1px;margin: -1px;overflow: hidden;padding: 0;position: absolute;width: 1px;}#sk-container-id-1 div.sk-estimator {font-family: monospace;background-color: #f0f8ff;border: 1px dotted black;border-radius: 0.25em;box-sizing: border-box;margin-bottom: 0.5em;}#sk-container-id-1 div.sk-estimator:hover {background-color: #d4ebff;}#sk-container-id-1 div.sk-parallel-item::after {content: \"\";width: 100%;border-bottom: 1px solid gray;flex-grow: 1;}#sk-container-id-1 div.sk-label:hover label.sk-toggleable__label {background-color: #d4ebff;}#sk-container-id-1 div.sk-serial::before {content: \"\";position: absolute;border-left: 1px solid gray;box-sizing: border-box;top: 0;bottom: 0;left: 50%;z-index: 0;}#sk-container-id-1 div.sk-serial {display: flex;flex-direction: column;align-items: center;background-color: white;padding-right: 0.2em;padding-left: 0.2em;position: relative;}#sk-container-id-1 div.sk-item {position: relative;z-index: 1;}#sk-container-id-1 div.sk-parallel {display: flex;align-items: stretch;justify-content: center;background-color: white;position: relative;}#sk-container-id-1 div.sk-item::before, #sk-container-id-1 div.sk-parallel-item::before {content: \"\";position: absolute;border-left: 1px solid gray;box-sizing: border-box;top: 0;bottom: 0;left: 50%;z-index: -1;}#sk-container-id-1 div.sk-parallel-item {display: flex;flex-direction: column;z-index: 1;position: relative;background-color: white;}#sk-container-id-1 div.sk-parallel-item:first-child::after {align-self: flex-end;width: 50%;}#sk-container-id-1 div.sk-parallel-item:last-child::after {align-self: flex-start;width: 50%;}#sk-container-id-1 div.sk-parallel-item:only-child::after {width: 0;}#sk-container-id-1 div.sk-dashed-wrapped {border: 1px dashed gray;margin: 0 0.4em 0.5em 0.4em;box-sizing: border-box;padding-bottom: 0.4em;background-color: white;}#sk-container-id-1 div.sk-label label {font-family: monospace;font-weight: bold;display: inline-block;line-height: 1.2em;}#sk-container-id-1 div.sk-label-container {text-align: center;}#sk-container-id-1 div.sk-container {/* jupyter's `normalize.less` sets `[hidden] { display: none; }` but bootstrap.min.css set `[hidden] { display: none !important; }` so we also need the `!important` here to be able to override the default hidden behavior on the sphinx rendered scikit-learn.org. See: https://github.com/scikit-learn/scikit-learn/issues/21755 */display: inline-block !important;position: relative;}#sk-container-id-1 div.sk-text-repr-fallback {display: none;}</style><div id=\"sk-container-id-1\" class=\"sk-top-container\"><div class=\"sk-text-repr-fallback\"><pre>GaussianNB()</pre><b>In a Jupyter environment, please rerun this cell to show the HTML representation or trust the notebook. <br />On GitHub, the HTML representation is unable to render, please try loading this page with nbviewer.org.</b></div><div class=\"sk-container\" hidden><div class=\"sk-item\"><div class=\"sk-estimator sk-toggleable\"><input class=\"sk-toggleable__control sk-hidden--visually\" id=\"sk-estimator-id-1\" type=\"checkbox\" checked><label for=\"sk-estimator-id-1\" class=\"sk-toggleable__label sk-toggleable__label-arrow\">GaussianNB</label><div class=\"sk-toggleable__content\"><pre>GaussianNB()</pre></div></div></div></div></div>"
      ],
      "text/plain": [
       "GaussianNB()"
      ]
     },
     "execution_count": 76,
     "metadata": {},
     "output_type": "execute_result"
    }
   ],
   "source": [
    "nb3 = GaussianNB()\n",
    "nb3.fit(x_train_scale, y_train_clean)"
   ]
  },
  {
   "cell_type": "code",
   "execution_count": 77,
   "id": "b77eb29d-d4f4-4ede-b587-52c406f3281c",
   "metadata": {},
   "outputs": [
    {
     "data": {
      "image/png": "[encoded data removed]",
      "text/plain": [
       "<Figure size 1000x700 with 2 Axes>"
      ]
     },
     "metadata": {},
     "output_type": "display_data"
    }
   ],
   "source": [
    "y_prend = nb3.predict(x_test_clean)\n",
    "cm2 = confusion_matrix(y_test_clean, y_prend)\n",
    "class_labels = ['Espacio Público', 'No Espacio Público']\n",
    "plt.figure(figsize = (10,7))\n",
    "sns.heatmap(cm2, annot = True, fmt = \"g\", cmap=\"Reds\", xticklabels=class_labels, yticklabels=class_labels)\n",
    "plt.xlabel('Predicted', fontsize = 12, fontweight  = 'bold')\n",
    "plt.ylabel('Actual', fontsize = 12, fontweight  = 'bold')\n",
    "plt.title('Matriz de Confusión', fontsize = 15, fontweight = 'bold')\n",
    "plt.show()"
   ]
  },
  {
   "cell_type": "code",
   "execution_count": 78,
   "id": "26e0c678-4dab-4078-8f22-e45690ace1db",
   "metadata": {},
   "outputs": [
    {
     "name": "stdout",
     "output_type": "stream",
     "text": [
      "Accuracy: 0.6873726372004778\n"
     ]
    }
   ],
   "source": [
    "accuracy = accuracy_score(y_test_clean, y_prend)\n",
    "print(f'Accuracy: {accuracy}')"
   ]
  },
  {
   "cell_type": "code",
   "execution_count": 79,
   "id": "2a71767b-eb8b-4989-b6bd-d8fa03e2dd3a",
   "metadata": {},
   "outputs": [
    {
     "name": "stdout",
     "output_type": "stream",
     "text": [
      "              precision    recall  f1-score   support\n",
      "\n",
      "           0       0.75      0.56      0.64     57049\n",
      "           1       0.65      0.81      0.72     56799\n",
      "\n",
      "    accuracy                           0.69    113848\n",
      "   macro avg       0.70      0.69      0.68    113848\n",
      "weighted avg       0.70      0.69      0.68    113848\n",
      "\n"
     ]
    }
   ],
   "source": [
    "print(classification_report(y_test_clean, y_prend))"
   ]
  },
  {
   "cell_type": "markdown",
   "id": "89a1aad7-bf1d-496b-a176-582194f6eb4e",
   "metadata": {},
   "source": [
    "### Random Forest Classifier"
   ]
  },
  {
   "cell_type": "code",
   "execution_count": 80,
   "id": "e13793db-8f7a-4f4f-bbd2-2e5c8bf01fc2",
   "metadata": {},
   "outputs": [],
   "source": [
    "rf3 = RandomForestClassifier(n_estimators = 100, random_state = 123)  \n",
    "rf3.fit(x_train_scale, y_train_clean)\n",
    "\n",
    "# Realizar predicciones en el conjunto de prueba\n",
    "y_predd = rf3.predict(x_test_clean)"
   ]
  },
  {
   "cell_type": "code",
   "execution_count": 81,
   "id": "8e6c1637-e5f2-4c8f-99c3-b3523a2445f9",
   "metadata": {},
   "outputs": [
    {
     "data": {
      "image/png": "[encoded data removed]",
      "text/plain": [
       "<Figure size 1000x700 with 2 Axes>"
      ]
     },
     "metadata": {},
     "output_type": "display_data"
    }
   ],
   "source": [
    "cm2 = confusion_matrix(y_test_clean, y_predd)\n",
    "class_labels = ['Espacio Verde Público', 'No Espacio Verde Público']\n",
    "plt.figure(figsize = (10,7))\n",
    "sns.heatmap(cm2, annot = True, fmt = \"g\", cmap=\"Greens\", xticklabels=class_labels, yticklabels=class_labels)\n",
    "plt.xlabel('Predicted', fontsize = 12, fontweight  = 'bold')\n",
    "plt.ylabel('Actual', fontsize = 12, fontweight  = 'bold')\n",
    "plt.title('Matriz de Confusión', fontsize = 15, fontweight = 'bold')\n",
    "plt.show()"
   ]
  },
  {
   "cell_type": "code",
   "execution_count": 82,
   "id": "f7a17113-9a4f-44ff-a5b1-1a1819617e18",
   "metadata": {},
   "outputs": [
    {
     "name": "stdout",
     "output_type": "stream",
     "text": [
      "Accuracy: 0.6306215304616681\n"
     ]
    }
   ],
   "source": [
    "accuracy = accuracy_score(y_test_clean, y_predd)\n",
    "print(f'Accuracy: {accuracy}')"
   ]
  },
  {
   "cell_type": "code",
   "execution_count": 83,
   "id": "8add7703-7300-46f6-9bb7-2dbe05c086ec",
   "metadata": {},
   "outputs": [
    {
     "name": "stdout",
     "output_type": "stream",
     "text": [
      "              precision    recall  f1-score   support\n",
      "\n",
      "           0       0.62      0.67      0.65     57049\n",
      "           1       0.64      0.59      0.61     56799\n",
      "\n",
      "    accuracy                           0.63    113848\n",
      "   macro avg       0.63      0.63      0.63    113848\n",
      "weighted avg       0.63      0.63      0.63    113848\n",
      "\n"
     ]
    }
   ],
   "source": [
    "print(classification_report(y_test_clean, y_predd))"
   ]
  },
  {
   "cell_type": "markdown",
   "id": "391be7d1-8278-479b-a519-3e529b128cbb",
   "metadata": {},
   "source": [
    "### Ada Boost Clasifier"
   ]
  },
  {
   "cell_type": "code",
   "execution_count": 84,
   "id": "4a28e7fa-3720-4989-a436-f1104838a04a",
   "metadata": {},
   "outputs": [
    {
     "data": {
      "text/html": [
       "<style>#sk-container-id-2 {color: black;}#sk-container-id-2 pre{padding: 0;}#sk-container-id-2 div.sk-toggleable {background-color: white;}#sk-container-id-2 label.sk-toggleable__label {cursor: pointer;display: block;width: 100%;margin-bottom: 0;padding: 0.3em;box-sizing: border-box;text-align: center;}#sk-container-id-2 label.sk-toggleable__label-arrow:before {content: \"▸\";float: left;margin-right: 0.25em;color: #696969;}#sk-container-id-2 label.sk-toggleable__label-arrow:hover:before {color: black;}#sk-container-id-2 div.sk-estimator:hover label.sk-toggleable__label-arrow:before {color: black;}#sk-container-id-2 div.sk-toggleable__content {max-height: 0;max-width: 0;overflow: hidden;text-align: left;background-color: #f0f8ff;}#sk-container-id-2 div.sk-toggleable__content pre {margin: 0.2em;color: black;border-radius: 0.25em;background-color: #f0f8ff;}#sk-container-id-2 input.sk-toggleable__control:checked~div.sk-toggleable__content {max-height: 200px;max-width: 100%;overflow: auto;}#sk-container-id-2 input.sk-toggleable__control:checked~label.sk-toggleable__label-arrow:before {content: \"▾\";}#sk-container-id-2 div.sk-estimator input.sk-toggleable__control:checked~label.sk-toggleable__label {background-color: #d4ebff;}#sk-container-id-2 div.sk-label input.sk-toggleable__control:checked~label.sk-toggleable__label {background-color: #d4ebff;}#sk-container-id-2 input.sk-hidden--visually {border: 0;clip: rect(1px 1px 1px 1px);clip: rect(1px, 1px, 1px, 1px);height: 1px;margin: -1px;overflow: hidden;padding: 0;position: absolute;width: 1px;}#sk-container-id-2 div.sk-estimator {font-family: monospace;background-color: #f0f8ff;border: 1px dotted black;border-radius: 0.25em;box-sizing: border-box;margin-bottom: 0.5em;}#sk-container-id-2 div.sk-estimator:hover {background-color: #d4ebff;}#sk-container-id-2 div.sk-parallel-item::after {content: \"\";width: 100%;border-bottom: 1px solid gray;flex-grow: 1;}#sk-container-id-2 div.sk-label:hover label.sk-toggleable__label {background-color: #d4ebff;}#sk-container-id-2 div.sk-serial::before {content: \"\";position: absolute;border-left: 1px solid gray;box-sizing: border-box;top: 0;bottom: 0;left: 50%;z-index: 0;}#sk-container-id-2 div.sk-serial {display: flex;flex-direction: column;align-items: center;background-color: white;padding-right: 0.2em;padding-left: 0.2em;position: relative;}#sk-container-id-2 div.sk-item {position: relative;z-index: 1;}#sk-container-id-2 div.sk-parallel {display: flex;align-items: stretch;justify-content: center;background-color: white;position: relative;}#sk-container-id-2 div.sk-item::before, #sk-container-id-2 div.sk-parallel-item::before {content: \"\";position: absolute;border-left: 1px solid gray;box-sizing: border-box;top: 0;bottom: 0;left: 50%;z-index: -1;}#sk-container-id-2 div.sk-parallel-item {display: flex;flex-direction: column;z-index: 1;position: relative;background-color: white;}#sk-container-id-2 div.sk-parallel-item:first-child::after {align-self: flex-end;width: 50%;}#sk-container-id-2 div.sk-parallel-item:last-child::after {align-self: flex-start;width: 50%;}#sk-container-id-2 div.sk-parallel-item:only-child::after {width: 0;}#sk-container-id-2 div.sk-dashed-wrapped {border: 1px dashed gray;margin: 0 0.4em 0.5em 0.4em;box-sizing: border-box;padding-bottom: 0.4em;background-color: white;}#sk-container-id-2 div.sk-label label {font-family: monospace;font-weight: bold;display: inline-block;line-height: 1.2em;}#sk-container-id-2 div.sk-label-container {text-align: center;}#sk-container-id-2 div.sk-container {/* jupyter's `normalize.less` sets `[hidden] { display: none; }` but bootstrap.min.css set `[hidden] { display: none !important; }` so we also need the `!important` here to be able to override the default hidden behavior on the sphinx rendered scikit-learn.org. See: https://github.com/scikit-learn/scikit-learn/issues/21755 */display: inline-block !important;position: relative;}#sk-container-id-2 div.sk-text-repr-fallback {display: none;}</style><div id=\"sk-container-id-2\" class=\"sk-top-container\"><div class=\"sk-text-repr-fallback\"><pre>AdaBoostClassifier(n_estimators=100)</pre><b>In a Jupyter environment, please rerun this cell to show the HTML representation or trust the notebook. <br />On GitHub, the HTML representation is unable to render, please try loading this page with nbviewer.org.</b></div><div class=\"sk-container\" hidden><div class=\"sk-item\"><div class=\"sk-estimator sk-toggleable\"><input class=\"sk-toggleable__control sk-hidden--visually\" id=\"sk-estimator-id-2\" type=\"checkbox\" checked><label for=\"sk-estimator-id-2\" class=\"sk-toggleable__label sk-toggleable__label-arrow\">AdaBoostClassifier</label><div class=\"sk-toggleable__content\"><pre>AdaBoostClassifier(n_estimators=100)</pre></div></div></div></div></div>"
      ],
      "text/plain": [
       "AdaBoostClassifier(n_estimators=100)"
      ]
     },
     "execution_count": 84,
     "metadata": {},
     "output_type": "execute_result"
    }
   ],
   "source": [
    "model2 = AdaBoostClassifier(n_estimators = 100)\n",
    "model2.fit(x_train_scale, y_train_clean)"
   ]
  },
  {
   "cell_type": "code",
   "execution_count": 85,
   "id": "ef779a31-d297-49d7-bc45-666e79401fd2",
   "metadata": {},
   "outputs": [
    {
     "data": {
      "text/plain": [
       "array([0, 0, 0, ..., 1, 0, 0])"
      ]
     },
     "execution_count": 85,
     "metadata": {},
     "output_type": "execute_result"
    }
   ],
   "source": [
    "predictions2 = model2.predict(x_test_clean)\n",
    "predictions2"
   ]
  },
  {
   "cell_type": "code",
   "execution_count": 86,
   "id": "afd12681-85b4-4f0b-a6d9-a50541bc5495",
   "metadata": {},
   "outputs": [
    {
     "data": {
      "image/png": "[encoded data removed]",
      "text/plain": [
       "<Figure size 1000x700 with 2 Axes>"
      ]
     },
     "metadata": {},
     "output_type": "display_data"
    }
   ],
   "source": [
    "cm2 = confusion_matrix(y_test_clean, predictions2)\n",
    "class_labels = ['Espacio Verde Público', 'No Espacio Verde Público']\n",
    "plt.figure(figsize = (10,7))\n",
    "sns.heatmap(cm2, annot = True, fmt = \"g\", cmap=\"viridis\", xticklabels=class_labels, yticklabels=class_labels)\n",
    "plt.xlabel('Predicted', fontsize = 12, fontweight  = 'bold')\n",
    "plt.ylabel('Actual', fontsize = 12, fontweight  = 'bold')\n",
    "plt.title('Matriz de Confusión', fontsize = 15, fontweight = 'bold')\n",
    "plt.show()"
   ]
  },
  {
   "cell_type": "code",
   "execution_count": 87,
   "id": "37a96639-d250-4364-9f4e-aba88d5db470",
   "metadata": {},
   "outputs": [
    {
     "name": "stdout",
     "output_type": "stream",
     "text": [
      "              precision    recall  f1-score   support\n",
      "\n",
      "           0       0.61      0.75      0.67     57049\n",
      "           1       0.67      0.51      0.58     56799\n",
      "\n",
      "    accuracy                           0.63    113848\n",
      "   macro avg       0.64      0.63      0.63    113848\n",
      "weighted avg       0.64      0.63      0.63    113848\n",
      "\n"
     ]
    }
   ],
   "source": [
    "print(classification_report(y_test_clean, predictions2))"
   ]
  },
  {
   "cell_type": "markdown",
   "id": "57172718-89a8-4d88-80b2-664d3ac2295c",
   "metadata": {},
   "source": [
    "### XGB Classifier"
   ]
  },
  {
   "cell_type": "code",
   "execution_count": 88,
   "id": "843f1684-783d-48f1-b6a5-b43bfd7e1f5d",
   "metadata": {},
   "outputs": [
    {
     "data": {
      "text/html": [
       "<style>#sk-container-id-3 {color: black;}#sk-container-id-3 pre{padding: 0;}#sk-container-id-3 div.sk-toggleable {background-color: white;}#sk-container-id-3 label.sk-toggleable__label {cursor: pointer;display: block;width: 100%;margin-bottom: 0;padding: 0.3em;box-sizing: border-box;text-align: center;}#sk-container-id-3 label.sk-toggleable__label-arrow:before {content: \"▸\";float: left;margin-right: 0.25em;color: #696969;}#sk-container-id-3 label.sk-toggleable__label-arrow:hover:before {color: black;}#sk-container-id-3 div.sk-estimator:hover label.sk-toggleable__label-arrow:before {color: black;}#sk-container-id-3 div.sk-toggleable__content {max-height: 0;max-width: 0;overflow: hidden;text-align: left;background-color: #f0f8ff;}#sk-container-id-3 div.sk-toggleable__content pre {margin: 0.2em;color: black;border-radius: 0.25em;background-color: #f0f8ff;}#sk-container-id-3 input.sk-toggleable__control:checked~div.sk-toggleable__content {max-height: 200px;max-width: 100%;overflow: auto;}#sk-container-id-3 input.sk-toggleable__control:checked~label.sk-toggleable__label-arrow:before {content: \"▾\";}#sk-container-id-3 div.sk-estimator input.sk-toggleable__control:checked~label.sk-toggleable__label {background-color: #d4ebff;}#sk-container-id-3 div.sk-label input.sk-toggleable__control:checked~label.sk-toggleable__label {background-color: #d4ebff;}#sk-container-id-3 input.sk-hidden--visually {border: 0;clip: rect(1px 1px 1px 1px);clip: rect(1px, 1px, 1px, 1px);height: 1px;margin: -1px;overflow: hidden;padding: 0;position: absolute;width: 1px;}#sk-container-id-3 div.sk-estimator {font-family: monospace;background-color: #f0f8ff;border: 1px dotted black;border-radius: 0.25em;box-sizing: border-box;margin-bottom: 0.5em;}#sk-container-id-3 div.sk-estimator:hover {background-color: #d4ebff;}#sk-container-id-3 div.sk-parallel-item::after {content: \"\";width: 100%;border-bottom: 1px solid gray;flex-grow: 1;}#sk-container-id-3 div.sk-label:hover label.sk-toggleable__label {background-color: #d4ebff;}#sk-container-id-3 div.sk-serial::before {content: \"\";position: absolute;border-left: 1px solid gray;box-sizing: border-box;top: 0;bottom: 0;left: 50%;z-index: 0;}#sk-container-id-3 div.sk-serial {display: flex;flex-direction: column;align-items: center;background-color: white;padding-right: 0.2em;padding-left: 0.2em;position: relative;}#sk-container-id-3 div.sk-item {position: relative;z-index: 1;}#sk-container-id-3 div.sk-parallel {display: flex;align-items: stretch;justify-content: center;background-color: white;position: relative;}#sk-container-id-3 div.sk-item::before, #sk-container-id-3 div.sk-parallel-item::before {content: \"\";position: absolute;border-left: 1px solid gray;box-sizing: border-box;top: 0;bottom: 0;left: 50%;z-index: -1;}#sk-container-id-3 div.sk-parallel-item {display: flex;flex-direction: column;z-index: 1;position: relative;background-color: white;}#sk-container-id-3 div.sk-parallel-item:first-child::after {align-self: flex-end;width: 50%;}#sk-container-id-3 div.sk-parallel-item:last-child::after {align-self: flex-start;width: 50%;}#sk-container-id-3 div.sk-parallel-item:only-child::after {width: 0;}#sk-container-id-3 div.sk-dashed-wrapped {border: 1px dashed gray;margin: 0 0.4em 0.5em 0.4em;box-sizing: border-box;padding-bottom: 0.4em;background-color: white;}#sk-container-id-3 div.sk-label label {font-family: monospace;font-weight: bold;display: inline-block;line-height: 1.2em;}#sk-container-id-3 div.sk-label-container {text-align: center;}#sk-container-id-3 div.sk-container {/* jupyter's `normalize.less` sets `[hidden] { display: none; }` but bootstrap.min.css set `[hidden] { display: none !important; }` so we also need the `!important` here to be able to override the default hidden behavior on the sphinx rendered scikit-learn.org. See: https://github.com/scikit-learn/scikit-learn/issues/21755 */display: inline-block !important;position: relative;}#sk-container-id-3 div.sk-text-repr-fallback {display: none;}</style><div id=\"sk-container-id-3\" class=\"sk-top-container\"><div class=\"sk-text-repr-fallback\"><pre>XGBClassifier(base_score=None, booster=None, callbacks=None,\n",
       "              colsample_bylevel=None, colsample_bynode=None,\n",
       "              colsample_bytree=None, device=None, early_stopping_rounds=None,\n",
       "              enable_categorical=False, eval_metric=None, feature_types=None,\n",
       "              gamma=None, grow_policy=None, importance_type=None,\n",
       "              interaction_constraints=None, learning_rate=None, max_bin=None,\n",
       "              max_cat_threshold=None, max_cat_to_onehot=None,\n",
       "              max_delta_step=None, max_depth=None, max_leaves=None,\n",
       "              min_child_weight=None, missing=nan, monotone_constraints=None,\n",
       "              multi_strategy=None, n_estimators=None, n_jobs=None,\n",
       "              num_parallel_tree=None, random_state=None, ...)</pre><b>In a Jupyter environment, please rerun this cell to show the HTML representation or trust the notebook. <br />On GitHub, the HTML representation is unable to render, please try loading this page with nbviewer.org.</b></div><div class=\"sk-container\" hidden><div class=\"sk-item\"><div class=\"sk-estimator sk-toggleable\"><input class=\"sk-toggleable__control sk-hidden--visually\" id=\"sk-estimator-id-3\" type=\"checkbox\" checked><label for=\"sk-estimator-id-3\" class=\"sk-toggleable__label sk-toggleable__label-arrow\">XGBClassifier</label><div class=\"sk-toggleable__content\"><pre>XGBClassifier(base_score=None, booster=None, callbacks=None,\n",
       "              colsample_bylevel=None, colsample_bynode=None,\n",
       "              colsample_bytree=None, device=None, early_stopping_rounds=None,\n",
       "              enable_categorical=False, eval_metric=None, feature_types=None,\n",
       "              gamma=None, grow_policy=None, importance_type=None,\n",
       "              interaction_constraints=None, learning_rate=None, max_bin=None,\n",
       "              max_cat_threshold=None, max_cat_to_onehot=None,\n",
       "              max_delta_step=None, max_depth=None, max_leaves=None,\n",
       "              min_child_weight=None, missing=nan, monotone_constraints=None,\n",
       "              multi_strategy=None, n_estimators=None, n_jobs=None,\n",
       "              num_parallel_tree=None, random_state=None, ...)</pre></div></div></div></div></div>"
      ],
      "text/plain": [
       "XGBClassifier(base_score=None, booster=None, callbacks=None,\n",
       "              colsample_bylevel=None, colsample_bynode=None,\n",
       "              colsample_bytree=None, device=None, early_stopping_rounds=None,\n",
       "              enable_categorical=False, eval_metric=None, feature_types=None,\n",
       "              gamma=None, grow_policy=None, importance_type=None,\n",
       "              interaction_constraints=None, learning_rate=None, max_bin=None,\n",
       "              max_cat_threshold=None, max_cat_to_onehot=None,\n",
       "              max_delta_step=None, max_depth=None, max_leaves=None,\n",
       "              min_child_weight=None, missing=nan, monotone_constraints=None,\n",
       "              multi_strategy=None, n_estimators=None, n_jobs=None,\n",
       "              num_parallel_tree=None, random_state=None, ...)"
      ]
     },
     "execution_count": 88,
     "metadata": {},
     "output_type": "execute_result"
    }
   ],
   "source": [
    "model22 = xgb.XGBClassifier()\n",
    "model22.fit(x_train_scale, y_train_clean)"
   ]
  },
  {
   "cell_type": "code",
   "execution_count": 89,
   "id": "d1f134c3-9d3a-4f16-882e-58d11430c34c",
   "metadata": {},
   "outputs": [
    {
     "data": {
      "text/plain": [
       "array([0, 1, 1, ..., 1, 1, 1])"
      ]
     },
     "execution_count": 89,
     "metadata": {},
     "output_type": "execute_result"
    }
   ],
   "source": [
    "predictions22 = model22.predict(x_test_clean)\n",
    "predictions22"
   ]
  },
  {
   "cell_type": "code",
   "execution_count": 90,
   "id": "f6cf79aa-888d-435c-9a0f-11fe541d574c",
   "metadata": {},
   "outputs": [
    {
     "data": {
      "image/png": "[encoded data removed]",
      "text/plain": [
       "<Figure size 1000x700 with 2 Axes>"
      ]
     },
     "metadata": {},
     "output_type": "display_data"
    }
   ],
   "source": [
    "cm2 = confusion_matrix(y_test_clean, predictions22)\n",
    "class_labels = ['Espacio Verde Público', 'No Espacio Verde Público']\n",
    "plt.figure(figsize = (10,7))\n",
    "sns.heatmap(cm2, annot = True, fmt = \"g\", cmap=\"rainbow\", xticklabels=class_labels, yticklabels=class_labels)\n",
    "plt.xlabel('Predicted', fontsize = 12, fontweight  = 'bold')\n",
    "plt.ylabel('Actual', fontsize = 12, fontweight  = 'bold')\n",
    "plt.title('Matriz de Confusión', fontsize = 15, fontweight = 'bold')\n",
    "plt.show()"
   ]
  },
  {
   "cell_type": "code",
   "execution_count": 91,
   "id": "77aa3453-8f7b-489d-af48-c08ea19666ff",
   "metadata": {},
   "outputs": [
    {
     "name": "stdout",
     "output_type": "stream",
     "text": [
      "              precision    recall  f1-score   support\n",
      "\n",
      "           0       0.68      0.51      0.58     57049\n",
      "           1       0.61      0.76      0.68     56799\n",
      "\n",
      "    accuracy                           0.64    113848\n",
      "   macro avg       0.65      0.64      0.63    113848\n",
      "weighted avg       0.65      0.64      0.63    113848\n",
      "\n"
     ]
    }
   ],
   "source": [
    "print(classification_report(y_test_clean, predictions22))"
   ]
  },
  {
   "cell_type": "code",
   "execution_count": 92,
   "id": "38b143ad-be2f-44ea-a6ca-826eefd6cd7e",
   "metadata": {},
   "outputs": [
    {
     "name": "stdout",
     "output_type": "stream",
     "text": [
      "Accuracy: 0.6361903590752582\n"
     ]
    }
   ],
   "source": [
    "accuracy = accuracy_score(y_test_clean, predictions22)\n",
    "print(f'Accuracy: {accuracy}')"
   ]
  },
  {
   "cell_type": "markdown",
   "id": "8e9c0f5f-240a-4f34-97ad-886a950c0c53",
   "metadata": {},
   "source": [
    "### Decision Tree Classfier"
   ]
  },
  {
   "cell_type": "code",
   "execution_count": 93,
   "id": "58a54f3f-defe-4c98-a5ad-fb11e1bf9fa3",
   "metadata": {},
   "outputs": [],
   "source": [
    "from sklearn.tree import DecisionTreeClassifier"
   ]
  },
  {
   "cell_type": "code",
   "execution_count": 94,
   "id": "80b9d882-b75d-4a95-bd58-3bdd51082ec3",
   "metadata": {},
   "outputs": [
    {
     "data": {
      "text/html": [
       "<style>#sk-container-id-4 {color: black;}#sk-container-id-4 pre{padding: 0;}#sk-container-id-4 div.sk-toggleable {background-color: white;}#sk-container-id-4 label.sk-toggleable__label {cursor: pointer;display: block;width: 100%;margin-bottom: 0;padding: 0.3em;box-sizing: border-box;text-align: center;}#sk-container-id-4 label.sk-toggleable__label-arrow:before {content: \"▸\";float: left;margin-right: 0.25em;color: #696969;}#sk-container-id-4 label.sk-toggleable__label-arrow:hover:before {color: black;}#sk-container-id-4 div.sk-estimator:hover label.sk-toggleable__label-arrow:before {color: black;}#sk-container-id-4 div.sk-toggleable__content {max-height: 0;max-width: 0;overflow: hidden;text-align: left;background-color: #f0f8ff;}#sk-container-id-4 div.sk-toggleable__content pre {margin: 0.2em;color: black;border-radius: 0.25em;background-color: #f0f8ff;}#sk-container-id-4 input.sk-toggleable__control:checked~div.sk-toggleable__content {max-height: 200px;max-width: 100%;overflow: auto;}#sk-container-id-4 input.sk-toggleable__control:checked~label.sk-toggleable__label-arrow:before {content: \"▾\";}#sk-container-id-4 div.sk-estimator input.sk-toggleable__control:checked~label.sk-toggleable__label {background-color: #d4ebff;}#sk-container-id-4 div.sk-label input.sk-toggleable__control:checked~label.sk-toggleable__label {background-color: #d4ebff;}#sk-container-id-4 input.sk-hidden--visually {border: 0;clip: rect(1px 1px 1px 1px);clip: rect(1px, 1px, 1px, 1px);height: 1px;margin: -1px;overflow: hidden;padding: 0;position: absolute;width: 1px;}#sk-container-id-4 div.sk-estimator {font-family: monospace;background-color: #f0f8ff;border: 1px dotted black;border-radius: 0.25em;box-sizing: border-box;margin-bottom: 0.5em;}#sk-container-id-4 div.sk-estimator:hover {background-color: #d4ebff;}#sk-container-id-4 div.sk-parallel-item::after {content: \"\";width: 100%;border-bottom: 1px solid gray;flex-grow: 1;}#sk-container-id-4 div.sk-label:hover label.sk-toggleable__label {background-color: #d4ebff;}#sk-container-id-4 div.sk-serial::before {content: \"\";position: absolute;border-left: 1px solid gray;box-sizing: border-box;top: 0;bottom: 0;left: 50%;z-index: 0;}#sk-container-id-4 div.sk-serial {display: flex;flex-direction: column;align-items: center;background-color: white;padding-right: 0.2em;padding-left: 0.2em;position: relative;}#sk-container-id-4 div.sk-item {position: relative;z-index: 1;}#sk-container-id-4 div.sk-parallel {display: flex;align-items: stretch;justify-content: center;background-color: white;position: relative;}#sk-container-id-4 div.sk-item::before, #sk-container-id-4 div.sk-parallel-item::before {content: \"\";position: absolute;border-left: 1px solid gray;box-sizing: border-box;top: 0;bottom: 0;left: 50%;z-index: -1;}#sk-container-id-4 div.sk-parallel-item {display: flex;flex-direction: column;z-index: 1;position: relative;background-color: white;}#sk-container-id-4 div.sk-parallel-item:first-child::after {align-self: flex-end;width: 50%;}#sk-container-id-4 div.sk-parallel-item:last-child::after {align-self: flex-start;width: 50%;}#sk-container-id-4 div.sk-parallel-item:only-child::after {width: 0;}#sk-container-id-4 div.sk-dashed-wrapped {border: 1px dashed gray;margin: 0 0.4em 0.5em 0.4em;box-sizing: border-box;padding-bottom: 0.4em;background-color: white;}#sk-container-id-4 div.sk-label label {font-family: monospace;font-weight: bold;display: inline-block;line-height: 1.2em;}#sk-container-id-4 div.sk-label-container {text-align: center;}#sk-container-id-4 div.sk-container {/* jupyter's `normalize.less` sets `[hidden] { display: none; }` but bootstrap.min.css set `[hidden] { display: none !important; }` so we also need the `!important` here to be able to override the default hidden behavior on the sphinx rendered scikit-learn.org. See: https://github.com/scikit-learn/scikit-learn/issues/21755 */display: inline-block !important;position: relative;}#sk-container-id-4 div.sk-text-repr-fallback {display: none;}</style><div id=\"sk-container-id-4\" class=\"sk-top-container\"><div class=\"sk-text-repr-fallback\"><pre>DecisionTreeClassifier()</pre><b>In a Jupyter environment, please rerun this cell to show the HTML representation or trust the notebook. <br />On GitHub, the HTML representation is unable to render, please try loading this page with nbviewer.org.</b></div><div class=\"sk-container\" hidden><div class=\"sk-item\"><div class=\"sk-estimator sk-toggleable\"><input class=\"sk-toggleable__control sk-hidden--visually\" id=\"sk-estimator-id-4\" type=\"checkbox\" checked><label for=\"sk-estimator-id-4\" class=\"sk-toggleable__label sk-toggleable__label-arrow\">DecisionTreeClassifier</label><div class=\"sk-toggleable__content\"><pre>DecisionTreeClassifier()</pre></div></div></div></div></div>"
      ],
      "text/plain": [
       "DecisionTreeClassifier()"
      ]
     },
     "execution_count": 94,
     "metadata": {},
     "output_type": "execute_result"
    }
   ],
   "source": [
    "model32 = DecisionTreeClassifier()\n",
    "model32.fit(x_train_scale, y_train_clean)"
   ]
  },
  {
   "cell_type": "code",
   "execution_count": 95,
   "id": "0263a123-0e50-4eeb-ba4a-2aec1b27415d",
   "metadata": {},
   "outputs": [
    {
     "data": {
      "text/plain": [
       "array([0, 1, 0, ..., 0, 0, 0])"
      ]
     },
     "execution_count": 95,
     "metadata": {},
     "output_type": "execute_result"
    }
   ],
   "source": [
    "predictions32 = model32.predict(x_test_clean)\n",
    "predictions32"
   ]
  },
  {
   "cell_type": "code",
   "execution_count": 96,
   "id": "ca0fc32b-d0eb-4f0c-9771-da379a3768c1",
   "metadata": {},
   "outputs": [
    {
     "data": {
      "image/png": "[encoded data removed]",
      "text/plain": [
       "<Figure size 1000x700 with 2 Axes>"
      ]
     },
     "metadata": {},
     "output_type": "display_data"
    }
   ],
   "source": [
    "cm2 = confusion_matrix(y_test_clean, predictions32)\n",
    "class_labels = ['Espacio Verde Público', 'No Espacio Verde Público']\n",
    "plt.figure(figsize = (10,7))\n",
    "sns.heatmap(cm2, annot = True, fmt = \"g\", cmap=\"jet\", xticklabels=class_labels, yticklabels=class_labels)\n",
    "plt.xlabel('Predicted', fontsize = 12, fontweight  = 'bold')\n",
    "plt.ylabel('Actual', fontsize = 12, fontweight  = 'bold')\n",
    "plt.title('Matriz de Confusión', fontsize = 15, fontweight = 'bold')\n",
    "plt.show()"
   ]
  },
  {
   "cell_type": "code",
   "execution_count": 97,
   "id": "029e596d-3831-43ca-bc3c-2daf5f91126d",
   "metadata": {},
   "outputs": [
    {
     "name": "stdout",
     "output_type": "stream",
     "text": [
      "              precision    recall  f1-score   support\n",
      "\n",
      "           0       0.57      0.67      0.62     57049\n",
      "           1       0.60      0.49      0.54     56799\n",
      "\n",
      "    accuracy                           0.58    113848\n",
      "   macro avg       0.58      0.58      0.58    113848\n",
      "weighted avg       0.58      0.58      0.58    113848\n",
      "\n"
     ]
    }
   ],
   "source": [
    "print(classification_report(y_test_clean, predictions32))"
   ]
  },
  {
   "cell_type": "code",
   "execution_count": 98,
   "id": "0dda1561-2741-47d7-a872-f08e97835987",
   "metadata": {},
   "outputs": [
    {
     "name": "stdout",
     "output_type": "stream",
     "text": [
      "Accuracy: 0.579105473965287\n"
     ]
    }
   ],
   "source": [
    "accuracy = accuracy_score(y_test_clean, predictions32)\n",
    "print(f'Accuracy: {accuracy}')"
   ]
  },
  {
   "cell_type": "code",
   "execution_count": 99,
   "id": "c54db493-7029-491d-8095-57cd60ee61ff",
   "metadata": {},
   "outputs": [],
   "source": [
    "from sklearn.linear_model import SGDClassifier"
   ]
  },
  {
   "cell_type": "code",
   "execution_count": 100,
   "id": "98e21b48-eb47-45c5-a51d-c0def046c883",
   "metadata": {},
   "outputs": [
    {
     "data": {
      "text/html": [
       "<style>#sk-container-id-5 {color: black;}#sk-container-id-5 pre{padding: 0;}#sk-container-id-5 div.sk-toggleable {background-color: white;}#sk-container-id-5 label.sk-toggleable__label {cursor: pointer;display: block;width: 100%;margin-bottom: 0;padding: 0.3em;box-sizing: border-box;text-align: center;}#sk-container-id-5 label.sk-toggleable__label-arrow:before {content: \"▸\";float: left;margin-right: 0.25em;color: #696969;}#sk-container-id-5 label.sk-toggleable__label-arrow:hover:before {color: black;}#sk-container-id-5 div.sk-estimator:hover label.sk-toggleable__label-arrow:before {color: black;}#sk-container-id-5 div.sk-toggleable__content {max-height: 0;max-width: 0;overflow: hidden;text-align: left;background-color: #f0f8ff;}#sk-container-id-5 div.sk-toggleable__content pre {margin: 0.2em;color: black;border-radius: 0.25em;background-color: #f0f8ff;}#sk-container-id-5 input.sk-toggleable__control:checked~div.sk-toggleable__content {max-height: 200px;max-width: 100%;overflow: auto;}#sk-container-id-5 input.sk-toggleable__control:checked~label.sk-toggleable__label-arrow:before {content: \"▾\";}#sk-container-id-5 div.sk-estimator input.sk-toggleable__control:checked~label.sk-toggleable__label {background-color: #d4ebff;}#sk-container-id-5 div.sk-label input.sk-toggleable__control:checked~label.sk-toggleable__label {background-color: #d4ebff;}#sk-container-id-5 input.sk-hidden--visually {border: 0;clip: rect(1px 1px 1px 1px);clip: rect(1px, 1px, 1px, 1px);height: 1px;margin: -1px;overflow: hidden;padding: 0;position: absolute;width: 1px;}#sk-container-id-5 div.sk-estimator {font-family: monospace;background-color: #f0f8ff;border: 1px dotted black;border-radius: 0.25em;box-sizing: border-box;margin-bottom: 0.5em;}#sk-container-id-5 div.sk-estimator:hover {background-color: #d4ebff;}#sk-container-id-5 div.sk-parallel-item::after {content: \"\";width: 100%;border-bottom: 1px solid gray;flex-grow: 1;}#sk-container-id-5 div.sk-label:hover label.sk-toggleable__label {background-color: #d4ebff;}#sk-container-id-5 div.sk-serial::before {content: \"\";position: absolute;border-left: 1px solid gray;box-sizing: border-box;top: 0;bottom: 0;left: 50%;z-index: 0;}#sk-container-id-5 div.sk-serial {display: flex;flex-direction: column;align-items: center;background-color: white;padding-right: 0.2em;padding-left: 0.2em;position: relative;}#sk-container-id-5 div.sk-item {position: relative;z-index: 1;}#sk-container-id-5 div.sk-parallel {display: flex;align-items: stretch;justify-content: center;background-color: white;position: relative;}#sk-container-id-5 div.sk-item::before, #sk-container-id-5 div.sk-parallel-item::before {content: \"\";position: absolute;border-left: 1px solid gray;box-sizing: border-box;top: 0;bottom: 0;left: 50%;z-index: -1;}#sk-container-id-5 div.sk-parallel-item {display: flex;flex-direction: column;z-index: 1;position: relative;background-color: white;}#sk-container-id-5 div.sk-parallel-item:first-child::after {align-self: flex-end;width: 50%;}#sk-container-id-5 div.sk-parallel-item:last-child::after {align-self: flex-start;width: 50%;}#sk-container-id-5 div.sk-parallel-item:only-child::after {width: 0;}#sk-container-id-5 div.sk-dashed-wrapped {border: 1px dashed gray;margin: 0 0.4em 0.5em 0.4em;box-sizing: border-box;padding-bottom: 0.4em;background-color: white;}#sk-container-id-5 div.sk-label label {font-family: monospace;font-weight: bold;display: inline-block;line-height: 1.2em;}#sk-container-id-5 div.sk-label-container {text-align: center;}#sk-container-id-5 div.sk-container {/* jupyter's `normalize.less` sets `[hidden] { display: none; }` but bootstrap.min.css set `[hidden] { display: none !important; }` so we also need the `!important` here to be able to override the default hidden behavior on the sphinx rendered scikit-learn.org. See: https://github.com/scikit-learn/scikit-learn/issues/21755 */display: inline-block !important;position: relative;}#sk-container-id-5 div.sk-text-repr-fallback {display: none;}</style><div id=\"sk-container-id-5\" class=\"sk-top-container\"><div class=\"sk-text-repr-fallback\"><pre>SGDClassifier()</pre><b>In a Jupyter environment, please rerun this cell to show the HTML representation or trust the notebook. <br />On GitHub, the HTML representation is unable to render, please try loading this page with nbviewer.org.</b></div><div class=\"sk-container\" hidden><div class=\"sk-item\"><div class=\"sk-estimator sk-toggleable\"><input class=\"sk-toggleable__control sk-hidden--visually\" id=\"sk-estimator-id-5\" type=\"checkbox\" checked><label for=\"sk-estimator-id-5\" class=\"sk-toggleable__label sk-toggleable__label-arrow\">SGDClassifier</label><div class=\"sk-toggleable__content\"><pre>SGDClassifier()</pre></div></div></div></div></div>"
      ],
      "text/plain": [
       "SGDClassifier()"
      ]
     },
     "execution_count": 100,
     "metadata": {},
     "output_type": "execute_result"
    }
   ],
   "source": [
    "modell32 = SGDClassifier()\n",
    "modell32.fit(x_train_scale, y_train_clean)"
   ]
  },
  {
   "cell_type": "code",
   "execution_count": 101,
   "id": "814572db-3a16-45dc-9906-5771199f49f2",
   "metadata": {},
   "outputs": [
    {
     "data": {
      "text/plain": [
       "array([0, 1, 0, ..., 1, 0, 0])"
      ]
     },
     "execution_count": 101,
     "metadata": {},
     "output_type": "execute_result"
    }
   ],
   "source": [
    "predictions32 = modell32.predict(x_test_clean)\n",
    "predictions32"
   ]
  },
  {
   "cell_type": "code",
   "execution_count": 103,
   "id": "58207da1-ce05-4c92-8c0d-e41e60bbb71f",
   "metadata": {},
   "outputs": [
    {
     "data": {
      "image/png": "[encoded data removed]",
      "text/plain": [
       "<Figure size 1000x700 with 2 Axes>"
      ]
     },
     "metadata": {},
     "output_type": "display_data"
    }
   ],
   "source": [
    "cm2 = confusion_matrix(y_test_clean, predictions32)\n",
    "class_labels = ['Espacio Verde Público', 'No Espacio Verde Público']\n",
    "plt.figure(figsize = (10,7))\n",
    "sns.heatmap(cm2, annot = True, fmt = \"g\", cmap=\"magma\", xticklabels=class_labels, yticklabels=class_labels)\n",
    "plt.xlabel('Predicted', fontsize = 12, fontweight  = 'bold')\n",
    "plt.ylabel('Actual', fontsize = 12, fontweight  = 'bold')\n",
    "plt.title('Matriz de Confusión', fontsize = 15, fontweight = 'bold')\n",
    "plt.show()"
   ]
  },
  {
   "cell_type": "code",
   "execution_count": 104,
   "id": "f7271c74-f4e6-483c-a559-08ac103564c3",
   "metadata": {},
   "outputs": [
    {
     "name": "stdout",
     "output_type": "stream",
     "text": [
      "              precision    recall  f1-score   support\n",
      "\n",
      "           0       0.70      0.67      0.68     57049\n",
      "           1       0.68      0.71      0.69     56799\n",
      "\n",
      "    accuracy                           0.69    113848\n",
      "   macro avg       0.69      0.69      0.69    113848\n",
      "weighted avg       0.69      0.69      0.69    113848\n",
      "\n"
     ]
    }
   ],
   "source": [
    "print(classification_report(y_test_clean, predictions32))"
   ]
  },
  {
   "cell_type": "code",
   "execution_count": 105,
   "id": "8717ad6c-ad53-46d7-b5de-062cd6680218",
   "metadata": {},
   "outputs": [
    {
     "name": "stdout",
     "output_type": "stream",
     "text": [
      "Accuracy: 0.6896651675918769\n"
     ]
    }
   ],
   "source": [
    "accuracy = accuracy_score(y_test_clean, predictions32)\n",
    "print(f'Accuracy: {accuracy}')"
   ]
  }
 ],
 "metadata": {
  "kernelspec": {
   "display_name": "Python 3 (ipykernel)",
   "language": "python",
   "name": "python3"
  },
  "language_info": {
   "codemirror_mode": {
    "name": "ipython",
    "version": 3
   },
   "file_extension": ".py",
   "mimetype": "text/x-python",
   "name": "python",
   "nbconvert_exporter": "python",
   "pygments_lexer": "ipython3",
   "version": "3.12.7"
  }
 },
 "nbformat": 4,
 "nbformat_minor": 5
}
