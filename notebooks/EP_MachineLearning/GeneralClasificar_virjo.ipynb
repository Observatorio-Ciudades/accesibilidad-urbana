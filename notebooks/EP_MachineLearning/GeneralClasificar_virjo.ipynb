{
 "cells": [
  {
   "cell_type": "code",
   "execution_count": 1,
   "id": "bef6b770-c818-4ead-ac20-ea54dd33c695",
   "metadata": {
    "tags": []
   },
   "outputs": [],
   "source": [
    "import warnings\n",
    "warnings.filterwarnings('ignore')\n",
    "import geopandas as gpd\n",
    "from geopandas.tools import overlay\n",
    "import matplotlib.pyplot as plt\n",
    "import os \n",
    "import sys\n",
    "module_path = os.path.abspath(os.path.join('../../'))\n",
    "if module_path not in sys.path:\n",
    "    sys.path.append(module_path)\n",
    "    import aup\n",
    "import pandas as pd\n",
    "import numpy as np\n",
    "import seaborn as sns\n",
    "from sklearn.model_selection import train_test_split\n",
    "from sklearn.metrics import accuracy_score, confusion_matrix\n",
    "from sklearn.linear_model import LogisticRegression\n",
    "from sklearn.preprocessing import StandardScaler\n",
    "from sklearn.naive_bayes import GaussianNB\n",
    "from sklearn.ensemble import RandomForestClassifier\n",
    "from sklearn.ensemble import AdaBoostClassifier\n",
    "from sklearn.model_selection import GridSearchCV, RandomizedSearchCV \n",
    "import xgboost as xgb\n",
    "import random\n",
    "from sklearn.model_selection import StratifiedKFold\n",
    "from sklearn.metrics import classification_report, mean_squared_error\n",
    "#import tensorflow as tf\n",
    "#from keras.models import Sequential\n",
    "#from keras.layers import Dense\n",
    "#from tensorflow.keras.utils import to_categorical"
   ]
  },
  {
   "cell_type": "markdown",
   "id": "6a5d586c-a722-4294-aa2a-c5b3bc1bd166",
   "metadata": {},
   "source": [
    "## Espacios Públicos GDL"
   ]
  },
  {
   "cell_type": "code",
   "execution_count": 2,
   "id": "7b88570c-a2d2-4f0a-8f20-9737d5478326",
   "metadata": {
    "tags": []
   },
   "outputs": [],
   "source": [
    "schema = 'espacios_publicos'\n",
    "table = 'ep_amg'\n",
    "gdf_gdl = aup.gdf_from_db(table,schema)"
   ]
  },
  {
   "cell_type": "code",
   "execution_count": 3,
   "id": "daadce42-f298-494a-bd91-be6ff09ac1a6",
   "metadata": {
    "tags": []
   },
   "outputs": [
    {
     "data": {
      "text/plain": [
       "(8499, 4)"
      ]
     },
     "execution_count": 3,
     "metadata": {},
     "output_type": "execute_result"
    }
   ],
   "source": [
    "gdf_gdl.shape"
   ]
  },
  {
   "cell_type": "markdown",
   "id": "26bfcc14-3e4a-4914-aaa9-64ad81ef330e",
   "metadata": {},
   "source": [
    "## Espacios Públicos QRO"
   ]
  },
  {
   "cell_type": "code",
   "execution_count": 4,
   "id": "df4e414b-92c1-413a-b2d7-783c1bef4769",
   "metadata": {
    "tags": []
   },
   "outputs": [],
   "source": [
    "schema = 'espacios_publicos'\n",
    "table = 'ep_qro'\n",
    "gdf_qro = aup.gdf_from_db(table,schema)"
   ]
  },
  {
   "cell_type": "code",
   "execution_count": 5,
   "id": "84992b95-4cc5-433b-aac5-a3493db2139c",
   "metadata": {
    "tags": []
   },
   "outputs": [
    {
     "data": {
      "text/plain": [
       "(4814, 9)"
      ]
     },
     "execution_count": 5,
     "metadata": {},
     "output_type": "execute_result"
    }
   ],
   "source": [
    "gdf_qro.shape"
   ]
  },
  {
   "cell_type": "markdown",
   "id": "144e61b7-39b5-41a6-bb2d-6531536032f0",
   "metadata": {},
   "source": [
    "## Espacios Públicos CDMX"
   ]
  },
  {
   "cell_type": "code",
   "execution_count": 6,
   "id": "a836a631-c955-46bb-ae66-358ca29ae429",
   "metadata": {
    "tags": []
   },
   "outputs": [],
   "source": [
    "schema = 'espacios_publicos'\n",
    "table = 'ep_cdmx'\n",
    "gdf_cdmx = aup.gdf_from_db(table,schema)"
   ]
  },
  {
   "cell_type": "code",
   "execution_count": 7,
   "id": "81fea502-c841-4982-87df-5cb543a11588",
   "metadata": {
    "tags": []
   },
   "outputs": [
    {
     "data": {
      "text/plain": [
       "(11609, 13)"
      ]
     },
     "execution_count": 7,
     "metadata": {},
     "output_type": "execute_result"
    }
   ],
   "source": [
    "gdf_cdmx.shape"
   ]
  },
  {
   "cell_type": "markdown",
   "id": "2af8bf44-be26-43ac-972f-063f6bf11c9e",
   "metadata": {},
   "source": [
    "## Juntamos en un dataset"
   ]
  },
  {
   "cell_type": "code",
   "execution_count": 8,
   "id": "ffa003bc-73dc-4fe4-b78e-4856fc930e10",
   "metadata": {
    "tags": []
   },
   "outputs": [
    {
     "name": "stdout",
     "output_type": "stream",
     "text": [
      "CRS of gdf_gdl: EPSG:4326\n",
      "CRS of gdf_qro: EPSG:4326\n",
      "CRS of gdf_cdmx: EPSG:4326\n"
     ]
    }
   ],
   "source": [
    "gdf_gdl = gdf_gdl.set_crs(\"EPSG:4326\", allow_override=True)\n",
    "gdf_qro = gdf_qro.set_crs(\"EPSG:4326\", allow_override=True)\n",
    "gdf_cdmx = gdf_cdmx.set_crs(\"EPSG:4326\", allow_override=True)\n",
    "print(\"CRS of gdf_gdl:\", gdf_gdl.crs)\n",
    "print(\"CRS of gdf_qro:\", gdf_qro.crs)\n",
    "print(\"CRS of gdf_cdmx:\", gdf_cdmx.crs)"
   ]
  },
  {
   "cell_type": "code",
   "execution_count": 9,
   "id": "2002dc6c-2339-47d9-8034-efd4df6bf8b7",
   "metadata": {
    "tags": []
   },
   "outputs": [
    {
     "data": {
      "text/plain": [
       "0    POLYGON ((672507.02800 2272132.20130, 672520.1...\n",
       "1    POLYGON ((672520.12560 2272170.35300, 672507.0...\n",
       "2    POLYGON ((672494.32530 2272095.20510, 672480.3...\n",
       "3    POLYGON ((672480.36630 2272060.73140, 672494.3...\n",
       "4    POLYGON ((672468.71720 2272020.61270, 672456.8...\n",
       "Name: geometry, dtype: geometry"
      ]
     },
     "execution_count": 9,
     "metadata": {},
     "output_type": "execute_result"
    }
   ],
   "source": [
    "geodataframes = [gdf_gdl, gdf_qro, gdf_cdmx]\n",
    "gdf = pd.concat(geodataframes)\n",
    "gdf = gdf['geometry']\n",
    "gdf.head()"
   ]
  },
  {
   "cell_type": "code",
   "execution_count": 10,
   "id": "3cf12680-630f-47bb-90b4-ca745cfbb0ac",
   "metadata": {
    "tags": []
   },
   "outputs": [
    {
     "data": {
      "text/plain": [
       "(24922,)"
      ]
     },
     "execution_count": 10,
     "metadata": {},
     "output_type": "execute_result"
    }
   ],
   "source": [
    "gdf.shape"
   ]
  },
  {
   "cell_type": "markdown",
   "id": "18b2c229-a7a2-42c0-b6e2-129a883521fc",
   "metadata": {},
   "source": [
    "## Hexágonos 3 ciudades"
   ]
  },
  {
   "cell_type": "code",
   "execution_count": 11,
   "id": "d899749c-a8ef-4e8d-ae39-d086a93e99f6",
   "metadata": {
    "tags": []
   },
   "outputs": [
    {
     "data": {
      "text/html": [
       "<div>\n",
       "<style scoped>\n",
       "    .dataframe tbody tr th:only-of-type {\n",
       "        vertical-align: middle;\n",
       "    }\n",
       "\n",
       "    .dataframe tbody tr th {\n",
       "        vertical-align: top;\n",
       "    }\n",
       "\n",
       "    .dataframe thead th {\n",
       "        text-align: right;\n",
       "    }\n",
       "</style>\n",
       "<table border=\"1\" class=\"dataframe\">\n",
       "  <thead>\n",
       "    <tr style=\"text-align: right;\">\n",
       "      <th></th>\n",
       "      <th>hex_id</th>\n",
       "      <th>geometry</th>\n",
       "      <th>city</th>\n",
       "    </tr>\n",
       "  </thead>\n",
       "  <tbody>\n",
       "    <tr>\n",
       "      <th>0</th>\n",
       "      <td>8b4995b84985fff</td>\n",
       "      <td>POLYGON ((-99.14725 19.42254, -99.14707 19.422...</td>\n",
       "      <td>CDMX</td>\n",
       "    </tr>\n",
       "    <tr>\n",
       "      <th>1</th>\n",
       "      <td>8b4995b8051afff</td>\n",
       "      <td>POLYGON ((-99.13234 19.45502, -99.13216 19.455...</td>\n",
       "      <td>CDMX</td>\n",
       "    </tr>\n",
       "    <tr>\n",
       "      <th>2</th>\n",
       "      <td>8b4995b80571fff</td>\n",
       "      <td>POLYGON ((-99.13590 19.45491, -99.13573 19.455...</td>\n",
       "      <td>CDMX</td>\n",
       "    </tr>\n",
       "    <tr>\n",
       "      <th>3</th>\n",
       "      <td>8b4995b80494fff</td>\n",
       "      <td>POLYGON ((-99.12840 19.45801, -99.12822 19.458...</td>\n",
       "      <td>CDMX</td>\n",
       "    </tr>\n",
       "    <tr>\n",
       "      <th>4</th>\n",
       "      <td>8b4995b80446fff</td>\n",
       "      <td>POLYGON ((-99.13540 19.45875, -99.13522 19.458...</td>\n",
       "      <td>CDMX</td>\n",
       "    </tr>\n",
       "  </tbody>\n",
       "</table>\n",
       "</div>"
      ],
      "text/plain": [
       "            hex_id                                           geometry  city\n",
       "0  8b4995b84985fff  POLYGON ((-99.14725 19.42254, -99.14707 19.422...  CDMX\n",
       "1  8b4995b8051afff  POLYGON ((-99.13234 19.45502, -99.13216 19.455...  CDMX\n",
       "2  8b4995b80571fff  POLYGON ((-99.13590 19.45491, -99.13573 19.455...  CDMX\n",
       "3  8b4995b80494fff  POLYGON ((-99.12840 19.45801, -99.12822 19.458...  CDMX\n",
       "4  8b4995b80446fff  POLYGON ((-99.13540 19.45875, -99.13522 19.458...  CDMX"
      ]
     },
     "execution_count": 11,
     "metadata": {},
     "output_type": "execute_result"
    }
   ],
   "source": [
    "hex_schema = \"raster_analysis\"\n",
    "hex_table = \"ndvi_analysis_hex\"\n",
    "hex_table_tempt = \"temperature_analysis_hex\"\n",
    "hex_schema_pob = \"hexgrid\"\n",
    "hex_table_pob = \"hexgrid_9_city_2020\"\n",
    "c1 = 'Guadalajara'\n",
    "c2 ='CDMX'\n",
    "#c3 = 'Querétaro'\n",
    "n = '11'\n",
    "query = f\"\"\"\n",
    "SELECT h1.hex_id, h1.geometry, h1.city \n",
    "FROM {hex_schema}.{hex_table} h1\n",
    "JOIN {hex_schema}.{hex_table_tempt} h2\n",
    "ON h1.hex_id = h2.hex_id\n",
    "WHERE h1.city IN ('{c1}', '{c2}') AND h1.res = {n}\n",
    "\"\"\"\n",
    "hex_gdl = aup.gdf_from_query(query, geometry_col='geometry')\n",
    "#query = 'fSelect geometry, hex_id, city from raster_analysis.ndvi_analysis where city = guadalajara and res = 11'\n",
    "hex_gdl.head(5)"
   ]
  },
  {
   "cell_type": "code",
   "execution_count": 12,
   "id": "3f5f9a06-f55a-45d1-b6c5-7c416063f679",
   "metadata": {
    "tags": []
   },
   "outputs": [
    {
     "data": {
      "text/plain": [
       "(807653, 3)"
      ]
     },
     "execution_count": 12,
     "metadata": {},
     "output_type": "execute_result"
    }
   ],
   "source": [
    "hex_gdl.shape"
   ]
  },
  {
   "cell_type": "code",
   "execution_count": 13,
   "id": "5ef47c4e-217c-449d-b2f0-49eca659ef3d",
   "metadata": {
    "tags": []
   },
   "outputs": [
    {
     "data": {
      "text/plain": [
       "array(['CDMX', 'Guadalajara'], dtype=object)"
      ]
     },
     "execution_count": 13,
     "metadata": {},
     "output_type": "execute_result"
    }
   ],
   "source": [
    "hex_gdl['city'].unique()"
   ]
  },
  {
   "cell_type": "code",
   "execution_count": 14,
   "id": "000fa599-c8e2-4c9a-92b8-b5ec9c6048fc",
   "metadata": {
    "tags": []
   },
   "outputs": [
    {
     "name": "stdout",
     "output_type": "stream",
     "text": [
      "Número de hexágonos Gdl: 445881 \n",
      "Número de hexágonos Cdmx: 361772\n"
     ]
    }
   ],
   "source": [
    "contador_gdll = np.sum(hex_gdl['city'] == 'Guadalajara')\n",
    "contador_cdmxx = np.sum(hex_gdl['city'] == 'CDMX')\n",
    "#contador_qroo = np.sum(hex_gdl['city'] == 'Queretaro')\n",
    "print(f'Número de hexágonos Gdl: {contador_gdll} \\nNúmero de hexágonos Cdmx: {contador_cdmxx}')"
   ]
  },
  {
   "cell_type": "code",
   "execution_count": 15,
   "id": "8e72a749-e7dc-49d9-a869-c649f1a0464d",
   "metadata": {
    "tags": []
   },
   "outputs": [
    {
     "name": "stdout",
     "output_type": "stream",
     "text": [
      "CRS of gdf_gdl: EPSG:4326\n"
     ]
    }
   ],
   "source": [
    "hex_gdl = hex_gdl.set_crs(\"EPSG:4326\", allow_override=True)\n",
    "print(\"CRS of gdf_gdl:\", gdf_gdl.crs)"
   ]
  },
  {
   "cell_type": "markdown",
   "id": "c9cdcbf7-4ef2-415f-a517-1f1a6ff3e990",
   "metadata": {},
   "source": [
    "Como tenemos 807,653 hexágonos tenemos que reducir la dimensión a 400,000 porque mi compu no puede con tantos datos. Vamos a reducir la dimensión de las 3 ciudades a la mitad. Inicialmente, tenemos que Guadalajara tiene 400,000 hexágonos. Cdmx tiene 300,000 hexágonos y Querétaro tiene 100,000 hexágonos. Pero después de reducir las dimensiones serán 200,000; 150,000 y 50,000 respectivamente."
   ]
  },
  {
   "cell_type": "code",
   "execution_count": 16,
   "id": "0fd04df3-c9fc-4d75-90e1-93289546febc",
   "metadata": {
    "tags": []
   },
   "outputs": [
    {
     "data": {
      "text/html": [
       "<div>\n",
       "<style scoped>\n",
       "    .dataframe tbody tr th:only-of-type {\n",
       "        vertical-align: middle;\n",
       "    }\n",
       "\n",
       "    .dataframe tbody tr th {\n",
       "        vertical-align: top;\n",
       "    }\n",
       "\n",
       "    .dataframe thead th {\n",
       "        text-align: right;\n",
       "    }\n",
       "</style>\n",
       "<table border=\"1\" class=\"dataframe\">\n",
       "  <thead>\n",
       "    <tr style=\"text-align: right;\">\n",
       "      <th></th>\n",
       "      <th>hex_id</th>\n",
       "      <th>geometry</th>\n",
       "      <th>city</th>\n",
       "    </tr>\n",
       "  </thead>\n",
       "  <tbody>\n",
       "    <tr>\n",
       "      <th>0</th>\n",
       "      <td>8b49ab5820a4fff</td>\n",
       "      <td>POLYGON ((-103.44695 20.62709, -103.44677 20.6...</td>\n",
       "      <td>Guadalajara</td>\n",
       "    </tr>\n",
       "    <tr>\n",
       "      <th>1</th>\n",
       "      <td>8b49ab5a6b8afff</td>\n",
       "      <td>POLYGON ((-103.48689 20.54403, -103.48671 20.5...</td>\n",
       "      <td>Guadalajara</td>\n",
       "    </tr>\n",
       "    <tr>\n",
       "      <th>2</th>\n",
       "      <td>8b498c948c6dfff</td>\n",
       "      <td>POLYGON ((-103.34882 20.73356, -103.34864 20.7...</td>\n",
       "      <td>Guadalajara</td>\n",
       "    </tr>\n",
       "    <tr>\n",
       "      <th>3</th>\n",
       "      <td>8b498c96c775fff</td>\n",
       "      <td>POLYGON ((-103.37897 20.66320, -103.37879 20.6...</td>\n",
       "      <td>Guadalajara</td>\n",
       "    </tr>\n",
       "    <tr>\n",
       "      <th>4</th>\n",
       "      <td>8b498c975c90fff</td>\n",
       "      <td>POLYGON ((-103.28391 20.62076, -103.28373 20.6...</td>\n",
       "      <td>Guadalajara</td>\n",
       "    </tr>\n",
       "  </tbody>\n",
       "</table>\n",
       "</div>"
      ],
      "text/plain": [
       "            hex_id                                           geometry  \\\n",
       "0  8b49ab5820a4fff  POLYGON ((-103.44695 20.62709, -103.44677 20.6...   \n",
       "1  8b49ab5a6b8afff  POLYGON ((-103.48689 20.54403, -103.48671 20.5...   \n",
       "2  8b498c948c6dfff  POLYGON ((-103.34882 20.73356, -103.34864 20.7...   \n",
       "3  8b498c96c775fff  POLYGON ((-103.37897 20.66320, -103.37879 20.6...   \n",
       "4  8b498c975c90fff  POLYGON ((-103.28391 20.62076, -103.28373 20.6...   \n",
       "\n",
       "          city  \n",
       "0  Guadalajara  \n",
       "1  Guadalajara  \n",
       "2  Guadalajara  \n",
       "3  Guadalajara  \n",
       "4  Guadalajara  "
      ]
     },
     "execution_count": 16,
     "metadata": {},
     "output_type": "execute_result"
    }
   ],
   "source": [
    "gdl_samples = 200000\n",
    "cdmx_samples = 150000\n",
    "#qro_samples = 50000\n",
    "\n",
    "# Randomly sample 200,000 hexagons of Guadalajra\n",
    "sample_with_Guadalajara = hex_gdl[hex_gdl['city'] == 'Guadalajara'].sample(n=gdl_samples, random_state=42)\n",
    "\n",
    "# Randomly sample 150,000 hexagons of Cdmx\n",
    "sample_with_Cdmx = hex_gdl[hex_gdl['city'] == 'CDMX'].sample(n=cdmx_samples, random_state=42)\n",
    "\n",
    "# Randomly sample 50,000 hexagons of Queretaro\n",
    "#sample_with_Queretaro = hex_gdl[hex_gdl['city'] == 'Queretaro'].sample(n=qro_samples, random_state=42)\n",
    "\n",
    "# Concatenate the two samples to get the final subsample\n",
    "hex_gdf = pd.concat([sample_with_Guadalajara, sample_with_Cdmx]) #sample_with_Queretaro])\n",
    "hex_gdf.reset_index(drop = True, inplace = True)\n",
    "hex_gdf.head()"
   ]
  },
  {
   "cell_type": "code",
   "execution_count": 17,
   "id": "9b3362ab-8474-49c8-af21-ddc46e78c8ab",
   "metadata": {
    "tags": []
   },
   "outputs": [
    {
     "name": "stdout",
     "output_type": "stream",
     "text": [
      "Número de hexágonos Gdl: 200000 \n",
      "Número de hexágonos Cdmx: 150000\n"
     ]
    }
   ],
   "source": [
    "contador_gdl = np.sum(hex_gdf['city'] == 'Guadalajara')\n",
    "contador_cdmx = np.sum(hex_gdf['city'] == 'CDMX')\n",
    "#contador_qro = np.sum(hex_gdf['city'] == 'Queretaro')\n",
    "print(f'Número de hexágonos Gdl: {contador_gdl} \\nNúmero de hexágonos Cdmx: {contador_cdmx}')"
   ]
  },
  {
   "cell_type": "markdown",
   "id": "c347acec-fbbf-4415-b544-d5b949c8b166",
   "metadata": {},
   "source": [
    "## Dummy Variables\n",
    "1 = Hexágonos que cuentan con espacios públicos\n",
    "\n",
    "0 = Hexágonos que no cuentan con espacios públicos"
   ]
  },
  {
   "cell_type": "code",
   "execution_count": 18,
   "id": "8f5585a3-b644-4d37-989e-5ef4f2223ab8",
   "metadata": {
    "tags": []
   },
   "outputs": [
    {
     "data": {
      "text/html": [
       "<div>\n",
       "<style scoped>\n",
       "    .dataframe tbody tr th:only-of-type {\n",
       "        vertical-align: middle;\n",
       "    }\n",
       "\n",
       "    .dataframe tbody tr th {\n",
       "        vertical-align: top;\n",
       "    }\n",
       "\n",
       "    .dataframe thead th {\n",
       "        text-align: right;\n",
       "    }\n",
       "</style>\n",
       "<table border=\"1\" class=\"dataframe\">\n",
       "  <thead>\n",
       "    <tr style=\"text-align: right;\">\n",
       "      <th></th>\n",
       "      <th>hex_id</th>\n",
       "      <th>geometry</th>\n",
       "      <th>city</th>\n",
       "      <th>EspPublico</th>\n",
       "    </tr>\n",
       "  </thead>\n",
       "  <tbody>\n",
       "    <tr>\n",
       "      <th>0</th>\n",
       "      <td>8b4995b84985fff</td>\n",
       "      <td>POLYGON ((-99.14725 19.42254, -99.14707 19.422...</td>\n",
       "      <td>CDMX</td>\n",
       "      <td>0</td>\n",
       "    </tr>\n",
       "    <tr>\n",
       "      <th>1</th>\n",
       "      <td>8b4995b8051afff</td>\n",
       "      <td>POLYGON ((-99.13234 19.45502, -99.13216 19.455...</td>\n",
       "      <td>CDMX</td>\n",
       "      <td>0</td>\n",
       "    </tr>\n",
       "    <tr>\n",
       "      <th>2</th>\n",
       "      <td>8b4995b80571fff</td>\n",
       "      <td>POLYGON ((-99.13590 19.45491, -99.13573 19.455...</td>\n",
       "      <td>CDMX</td>\n",
       "      <td>0</td>\n",
       "    </tr>\n",
       "    <tr>\n",
       "      <th>3</th>\n",
       "      <td>8b4995b80494fff</td>\n",
       "      <td>POLYGON ((-99.12840 19.45801, -99.12822 19.458...</td>\n",
       "      <td>CDMX</td>\n",
       "      <td>1</td>\n",
       "    </tr>\n",
       "    <tr>\n",
       "      <th>4</th>\n",
       "      <td>8b4995b80446fff</td>\n",
       "      <td>POLYGON ((-99.13540 19.45875, -99.13522 19.458...</td>\n",
       "      <td>CDMX</td>\n",
       "      <td>0</td>\n",
       "    </tr>\n",
       "  </tbody>\n",
       "</table>\n",
       "</div>"
      ],
      "text/plain": [
       "            hex_id                                           geometry  city  \\\n",
       "0  8b4995b84985fff  POLYGON ((-99.14725 19.42254, -99.14707 19.422...  CDMX   \n",
       "1  8b4995b8051afff  POLYGON ((-99.13234 19.45502, -99.13216 19.455...  CDMX   \n",
       "2  8b4995b80571fff  POLYGON ((-99.13590 19.45491, -99.13573 19.455...  CDMX   \n",
       "3  8b4995b80494fff  POLYGON ((-99.12840 19.45801, -99.12822 19.458...  CDMX   \n",
       "4  8b4995b80446fff  POLYGON ((-99.13540 19.45875, -99.13522 19.458...  CDMX   \n",
       "\n",
       "   EspPublico  \n",
       "0           0  \n",
       "1           0  \n",
       "2           0  \n",
       "3           1  \n",
       "4           0  "
      ]
     },
     "execution_count": 18,
     "metadata": {},
     "output_type": "execute_result"
    }
   ],
   "source": [
    "gdf_sindex = gdf.sindex\n",
    "\n",
    "# Create a Series of boolean values indicating which hexagons intersect with public spaces\n",
    "intersects_public_spaces = hex_gdl['geometry'].apply(lambda geom: any(gdf_sindex.query(geom)))\n",
    "\n",
    "hex_gdl['EspPublico'] = intersects_public_spaces.astype(int)\n",
    "hex_gdl.head()"
   ]
  },
  {
   "cell_type": "code",
   "execution_count": 19,
   "id": "ea63f68e-8d36-43f8-92cd-6a01c15e00b8",
   "metadata": {
    "tags": []
   },
   "outputs": [
    {
     "name": "stdout",
     "output_type": "stream",
     "text": [
      "Números de hexagonos sin Espacios Públicos: 708008 \n",
      "Número de Hexágonos con Espacios Públicos: 99645\n",
      "Número total de Hexágonos: 807653\n"
     ]
    }
   ],
   "source": [
    "contador_ceros = np.sum(hex_gdl['EspPublico'] == 0)\n",
    "contador_uno = np.sum(hex_gdl['EspPublico'])\n",
    "print(f'Números de hexagonos sin Espacios Públicos: {contador_ceros} \\nNúmero de Hexágonos con Espacios Públicos: {contador_uno}\\nNúmero total de Hexágonos: {contador_ceros+contador_uno}')"
   ]
  },
  {
   "cell_type": "markdown",
   "id": "c3b45893-f0bb-40ae-8ebd-be922b141c4b",
   "metadata": {},
   "source": [
    "## Hexágonos con info de humedad, vegetación y temperatura"
   ]
  },
  {
   "cell_type": "markdown",
   "id": "c0329ea8-64c4-4590-9eb5-cda13ef58fec",
   "metadata": {},
   "source": [
    "select {ndmi}.hex_id, {ndmi}.geometry, {ndmi}.city, {ndmi}.res,\n",
    "\n",
    "ndvi_mean, ndvi_std, ndvi_median, ndvi_max, ndvi_min, ndvi_diff, ndvi_tend,\n",
    "\n",
    "ndmi_mean, ndmi_median, ndmi_diff\n",
    "\n",
    "from raster_analysis.ndmi_analysis_hex ndmi\n",
    "\n",
    "inner join raster_analysis.ndvi_analysis_hex ndvi\n",
    "\n",
    "on ndmi.hex_id = ndvi.hex_id \n",
    "\n",
    "where ndmi.city  in ('Queretaro','Guadalajara','ZMVM') and ndmi.res = 11"
   ]
  },
  {
   "cell_type": "code",
   "execution_count": 20,
   "id": "786d14ca-d800-4cca-b125-306719aa8135",
   "metadata": {},
   "outputs": [
    {
     "name": "stdout",
     "output_type": "stream",
     "text": [
      "hex_id\n",
      "geometry\n",
      "res\n",
      "temperature_mean\n",
      "temperature_std\n",
      "temperature_median\n",
      "temperature_max\n",
      "temperature_min\n",
      "temperature_diff\n",
      "temperature_tend\n",
      "city\n",
      "temp_diff_mean\n"
     ]
    }
   ],
   "source": [
    "import psycopg2\n",
    "\n",
    "#Conectar a la base de datos\n",
    "conn = psycopg2.connect(\n",
    "    host = \"hippocampus.cswst4rid7eb.us-east-2.rds.amazonaws.com\",\n",
    "    database = \"postgres\",\n",
    "    user= \"odc_writer\",\n",
    "    password = \"writejacobs1918\"\n",
    ")\n",
    "\n",
    "cur = conn.cursor()\n",
    "\n",
    "#Ejecutar la consulta para obtener los nombres de las columnas\n",
    "cur.execute(\"\"\"\n",
    "    SELECT column_name \n",
    "    FROM information_schema.columns \n",
    "    WHERE table_schema = 'raster_analysis' \n",
    "    AND table_name = 'temperature_analysis_hex';\n",
    "\"\"\")\n",
    "\n",
    "#Obtener los resultados\n",
    "columns = cur.fetchall()\n",
    "\n",
    "#Imprimir los nombres de las columnas\n",
    "for column in columns:\n",
    "    print(column[0])\n",
    "\n",
    "cur.close()\n",
    "conn.close()"
   ]
  },
  {
   "cell_type": "code",
   "execution_count": 21,
   "id": "ae3a6a29-265a-4f1e-876d-63297f9bbbfa",
   "metadata": {},
   "outputs": [
    {
     "name": "stdout",
     "output_type": "stream",
     "text": [
      "hex_id\n",
      "geometry\n",
      "res\n",
      "ndvi_mean\n",
      "ndvi_std\n",
      "ndvi_median\n",
      "ndvi_max\n",
      "ndvi_min\n",
      "ndvi_diff\n",
      "ndvi_tend\n",
      "city\n"
     ]
    }
   ],
   "source": [
    "import psycopg2\n",
    "\n",
    "#Conectar a la base de datos\n",
    "conn = psycopg2.connect(\n",
    "    host = \"hippocampus.cswst4rid7eb.us-east-2.rds.amazonaws.com\",\n",
    "    database = \"postgres\",\n",
    "    user= \"odc_writer\",\n",
    "    password = \"writejacobs1918\"\n",
    ")\n",
    "\n",
    "cur = conn.cursor()\n",
    "\n",
    "#Ejecutar la consulta para obtener los nombres de las columnas\n",
    "cur.execute(\"\"\"\n",
    "    SELECT column_name \n",
    "    FROM information_schema.columns \n",
    "    WHERE table_schema = 'raster_analysis' \n",
    "    AND table_name = 'ndvi_analysis_hex';\n",
    "\"\"\")\n",
    "\n",
    "#Obtener los resultados\n",
    "columns = cur.fetchall()\n",
    "\n",
    "#Imprimir los nombres de las columnas\n",
    "for column in columns:\n",
    "    print(column[0])\n",
    "\n",
    "cur.close()\n",
    "conn.close()"
   ]
  },
  {
   "cell_type": "code",
   "execution_count": 22,
   "id": "df8d2024-3d90-467c-8185-21a7ca5e7001",
   "metadata": {
    "tags": []
   },
   "outputs": [
    {
     "data": {
      "text/html": [
       "<div>\n",
       "<style scoped>\n",
       "    .dataframe tbody tr th:only-of-type {\n",
       "        vertical-align: middle;\n",
       "    }\n",
       "\n",
       "    .dataframe tbody tr th {\n",
       "        vertical-align: top;\n",
       "    }\n",
       "\n",
       "    .dataframe thead th {\n",
       "        text-align: right;\n",
       "    }\n",
       "</style>\n",
       "<table border=\"1\" class=\"dataframe\">\n",
       "  <thead>\n",
       "    <tr style=\"text-align: right;\">\n",
       "      <th></th>\n",
       "      <th>hex_id</th>\n",
       "      <th>city</th>\n",
       "      <th>geometry</th>\n",
       "      <th>temp_res</th>\n",
       "      <th>ndmi_geometry</th>\n",
       "      <th>ndmi_city</th>\n",
       "      <th>ndmi_res</th>\n",
       "      <th>ndvi_geometry</th>\n",
       "      <th>ndvi_city</th>\n",
       "      <th>ndvi_res</th>\n",
       "      <th>...</th>\n",
       "      <th>ndvi_std</th>\n",
       "      <th>ndvi_median</th>\n",
       "      <th>ndvi_max</th>\n",
       "      <th>ndvi_min</th>\n",
       "      <th>ndvi_diff</th>\n",
       "      <th>ndvi_tend</th>\n",
       "      <th>ndmi_mean</th>\n",
       "      <th>ndmi_median</th>\n",
       "      <th>ndmi_diff</th>\n",
       "      <th>temp_diff_mean</th>\n",
       "    </tr>\n",
       "  </thead>\n",
       "  <tbody>\n",
       "    <tr>\n",
       "      <th>0</th>\n",
       "      <td>8b499584eccefff</td>\n",
       "      <td>CDMX</td>\n",
       "      <td>POLYGON ((-99.17540 19.32601, -99.17522 19.326...</td>\n",
       "      <td>11</td>\n",
       "      <td>0103000020E61000000100000007000000D9065FC639CB...</td>\n",
       "      <td>CDMX</td>\n",
       "      <td>11</td>\n",
       "      <td>0103000020E61000000100000007000000D9065FC639CB...</td>\n",
       "      <td>CDMX</td>\n",
       "      <td>11</td>\n",
       "      <td>...</td>\n",
       "      <td>0.095487</td>\n",
       "      <td>0.390565</td>\n",
       "      <td>0.429531</td>\n",
       "      <td>0.303657</td>\n",
       "      <td>0.125874</td>\n",
       "      <td>-0.003642</td>\n",
       "      <td>0.020281</td>\n",
       "      <td>0.030315</td>\n",
       "      <td>0.060107</td>\n",
       "      <td>-1.267672</td>\n",
       "    </tr>\n",
       "    <tr>\n",
       "      <th>1</th>\n",
       "      <td>8b4995b8ece4fff</td>\n",
       "      <td>CDMX</td>\n",
       "      <td>POLYGON ((-99.15416 19.48823, -99.15398 19.488...</td>\n",
       "      <td>11</td>\n",
       "      <td>0103000020E6100000010000000700000094DA95AEDDC9...</td>\n",
       "      <td>CDMX</td>\n",
       "      <td>11</td>\n",
       "      <td>0103000020E6100000010000000700000094DA95AEDDC9...</td>\n",
       "      <td>CDMX</td>\n",
       "      <td>11</td>\n",
       "      <td>...</td>\n",
       "      <td>0.050015</td>\n",
       "      <td>0.115932</td>\n",
       "      <td>0.173202</td>\n",
       "      <td>0.103599</td>\n",
       "      <td>0.069603</td>\n",
       "      <td>-0.000114</td>\n",
       "      <td>-0.033794</td>\n",
       "      <td>-0.029808</td>\n",
       "      <td>0.065786</td>\n",
       "      <td>2.526792</td>\n",
       "    </tr>\n",
       "    <tr>\n",
       "      <th>2</th>\n",
       "      <td>8b4995b8ed56fff</td>\n",
       "      <td>CDMX</td>\n",
       "      <td>POLYGON ((-99.15547 19.48496, -99.15529 19.485...</td>\n",
       "      <td>11</td>\n",
       "      <td>0103000020E610000001000000070000000420C93CF3C9...</td>\n",
       "      <td>CDMX</td>\n",
       "      <td>11</td>\n",
       "      <td>0103000020E610000001000000070000000420C93CF3C9...</td>\n",
       "      <td>CDMX</td>\n",
       "      <td>11</td>\n",
       "      <td>...</td>\n",
       "      <td>0.010948</td>\n",
       "      <td>-0.015257</td>\n",
       "      <td>0.000551</td>\n",
       "      <td>-0.029914</td>\n",
       "      <td>0.030465</td>\n",
       "      <td>0.000041</td>\n",
       "      <td>-0.042728</td>\n",
       "      <td>-0.042236</td>\n",
       "      <td>0.018798</td>\n",
       "      <td>3.232521</td>\n",
       "    </tr>\n",
       "    <tr>\n",
       "      <th>3</th>\n",
       "      <td>8b4995b8cd9efff</td>\n",
       "      <td>CDMX</td>\n",
       "      <td>POLYGON ((-99.17308 19.47587, -99.17290 19.476...</td>\n",
       "      <td>11</td>\n",
       "      <td>0103000020E61000000100000007000000594FB2AD13CB...</td>\n",
       "      <td>CDMX</td>\n",
       "      <td>11</td>\n",
       "      <td>0103000020E61000000100000007000000594FB2AD13CB...</td>\n",
       "      <td>CDMX</td>\n",
       "      <td>11</td>\n",
       "      <td>...</td>\n",
       "      <td>0.011762</td>\n",
       "      <td>-0.019756</td>\n",
       "      <td>0.001583</td>\n",
       "      <td>-0.033220</td>\n",
       "      <td>0.034803</td>\n",
       "      <td>-0.000038</td>\n",
       "      <td>-0.125755</td>\n",
       "      <td>-0.123152</td>\n",
       "      <td>0.055054</td>\n",
       "      <td>0.168092</td>\n",
       "    </tr>\n",
       "    <tr>\n",
       "      <th>4</th>\n",
       "      <td>8b4995b81304fff</td>\n",
       "      <td>CDMX</td>\n",
       "      <td>POLYGON ((-99.16801 19.47388, -99.16784 19.474...</td>\n",
       "      <td>11</td>\n",
       "      <td>0103000020E61000000100000007000000D3D59CBDC0CA...</td>\n",
       "      <td>CDMX</td>\n",
       "      <td>11</td>\n",
       "      <td>0103000020E61000000100000007000000D3D59CBDC0CA...</td>\n",
       "      <td>CDMX</td>\n",
       "      <td>11</td>\n",
       "      <td>...</td>\n",
       "      <td>0.011835</td>\n",
       "      <td>0.038702</td>\n",
       "      <td>0.047788</td>\n",
       "      <td>0.029193</td>\n",
       "      <td>0.018595</td>\n",
       "      <td>-0.000415</td>\n",
       "      <td>-0.039338</td>\n",
       "      <td>-0.040409</td>\n",
       "      <td>0.023264</td>\n",
       "      <td>3.573956</td>\n",
       "    </tr>\n",
       "    <tr>\n",
       "      <th>5</th>\n",
       "      <td>8b4995b138a1fff</td>\n",
       "      <td>CDMX</td>\n",
       "      <td>POLYGON ((-99.23615 19.41072, -99.23597 19.410...</td>\n",
       "      <td>11</td>\n",
       "      <td>0103000020E61000000100000007000000F6D7A6081DCF...</td>\n",
       "      <td>CDMX</td>\n",
       "      <td>11</td>\n",
       "      <td>0103000020E61000000100000007000000F6D7A6081DCF...</td>\n",
       "      <td>CDMX</td>\n",
       "      <td>11</td>\n",
       "      <td>...</td>\n",
       "      <td>0.064977</td>\n",
       "      <td>0.305529</td>\n",
       "      <td>0.311444</td>\n",
       "      <td>0.248205</td>\n",
       "      <td>0.063239</td>\n",
       "      <td>-0.002394</td>\n",
       "      <td>0.011068</td>\n",
       "      <td>0.013627</td>\n",
       "      <td>0.035536</td>\n",
       "      <td>-0.927933</td>\n",
       "    </tr>\n",
       "    <tr>\n",
       "      <th>6</th>\n",
       "      <td>8b4995b10516fff</td>\n",
       "      <td>CDMX</td>\n",
       "      <td>POLYGON ((-99.22662 19.39196, -99.22644 19.392...</td>\n",
       "      <td>11</td>\n",
       "      <td>0103000020E6100000010000000700000030DF8CF780CE...</td>\n",
       "      <td>CDMX</td>\n",
       "      <td>11</td>\n",
       "      <td>0103000020E6100000010000000700000030DF8CF780CE...</td>\n",
       "      <td>CDMX</td>\n",
       "      <td>11</td>\n",
       "      <td>...</td>\n",
       "      <td>0.116900</td>\n",
       "      <td>0.347796</td>\n",
       "      <td>0.471841</td>\n",
       "      <td>0.255304</td>\n",
       "      <td>0.216537</td>\n",
       "      <td>-0.003523</td>\n",
       "      <td>0.026187</td>\n",
       "      <td>0.028980</td>\n",
       "      <td>0.150125</td>\n",
       "      <td>-5.824248</td>\n",
       "    </tr>\n",
       "    <tr>\n",
       "      <th>7</th>\n",
       "      <td>8b4995b1422cfff</td>\n",
       "      <td>CDMX</td>\n",
       "      <td>POLYGON ((-99.24706 19.37805, -99.24688 19.378...</td>\n",
       "      <td>11</td>\n",
       "      <td>0103000020E61000000100000007000000710CD1CFCFCF...</td>\n",
       "      <td>CDMX</td>\n",
       "      <td>11</td>\n",
       "      <td>0103000020E61000000100000007000000710CD1CFCFCF...</td>\n",
       "      <td>CDMX</td>\n",
       "      <td>11</td>\n",
       "      <td>...</td>\n",
       "      <td>0.137042</td>\n",
       "      <td>0.405228</td>\n",
       "      <td>0.583090</td>\n",
       "      <td>0.269271</td>\n",
       "      <td>0.313819</td>\n",
       "      <td>-0.003048</td>\n",
       "      <td>0.037727</td>\n",
       "      <td>0.043151</td>\n",
       "      <td>0.193515</td>\n",
       "      <td>-1.092825</td>\n",
       "    </tr>\n",
       "    <tr>\n",
       "      <th>8</th>\n",
       "      <td>8b4995b10cacfff</td>\n",
       "      <td>CDMX</td>\n",
       "      <td>POLYGON ((-99.23022 19.38820, -99.23004 19.388...</td>\n",
       "      <td>11</td>\n",
       "      <td>0103000020E610000001000000070000007FD9F7DABBCE...</td>\n",
       "      <td>CDMX</td>\n",
       "      <td>11</td>\n",
       "      <td>0103000020E610000001000000070000007FD9F7DABBCE...</td>\n",
       "      <td>CDMX</td>\n",
       "      <td>11</td>\n",
       "      <td>...</td>\n",
       "      <td>0.093020</td>\n",
       "      <td>0.254751</td>\n",
       "      <td>0.326157</td>\n",
       "      <td>0.176948</td>\n",
       "      <td>0.149210</td>\n",
       "      <td>-0.003328</td>\n",
       "      <td>-0.016259</td>\n",
       "      <td>-0.002647</td>\n",
       "      <td>0.172510</td>\n",
       "      <td>-2.628285</td>\n",
       "    </tr>\n",
       "    <tr>\n",
       "      <th>9</th>\n",
       "      <td>8b4995b100eefff</td>\n",
       "      <td>CDMX</td>\n",
       "      <td>POLYGON ((-99.23784 19.39776, -99.23766 19.397...</td>\n",
       "      <td>11</td>\n",
       "      <td>0103000020E61000000100000007000000D201C9BA38CF...</td>\n",
       "      <td>CDMX</td>\n",
       "      <td>11</td>\n",
       "      <td>0103000020E61000000100000007000000D201C9BA38CF...</td>\n",
       "      <td>CDMX</td>\n",
       "      <td>11</td>\n",
       "      <td>...</td>\n",
       "      <td>0.061181</td>\n",
       "      <td>0.340380</td>\n",
       "      <td>0.335717</td>\n",
       "      <td>0.278116</td>\n",
       "      <td>0.057601</td>\n",
       "      <td>-0.002209</td>\n",
       "      <td>0.045081</td>\n",
       "      <td>0.045895</td>\n",
       "      <td>0.026608</td>\n",
       "      <td>-1.964873</td>\n",
       "    </tr>\n",
       "  </tbody>\n",
       "</table>\n",
       "<p>10 rows × 21 columns</p>\n",
       "</div>"
      ],
      "text/plain": [
       "            hex_id  city                                           geometry  \\\n",
       "0  8b499584eccefff  CDMX  POLYGON ((-99.17540 19.32601, -99.17522 19.326...   \n",
       "1  8b4995b8ece4fff  CDMX  POLYGON ((-99.15416 19.48823, -99.15398 19.488...   \n",
       "2  8b4995b8ed56fff  CDMX  POLYGON ((-99.15547 19.48496, -99.15529 19.485...   \n",
       "3  8b4995b8cd9efff  CDMX  POLYGON ((-99.17308 19.47587, -99.17290 19.476...   \n",
       "4  8b4995b81304fff  CDMX  POLYGON ((-99.16801 19.47388, -99.16784 19.474...   \n",
       "5  8b4995b138a1fff  CDMX  POLYGON ((-99.23615 19.41072, -99.23597 19.410...   \n",
       "6  8b4995b10516fff  CDMX  POLYGON ((-99.22662 19.39196, -99.22644 19.392...   \n",
       "7  8b4995b1422cfff  CDMX  POLYGON ((-99.24706 19.37805, -99.24688 19.378...   \n",
       "8  8b4995b10cacfff  CDMX  POLYGON ((-99.23022 19.38820, -99.23004 19.388...   \n",
       "9  8b4995b100eefff  CDMX  POLYGON ((-99.23784 19.39776, -99.23766 19.397...   \n",
       "\n",
       "   temp_res                                      ndmi_geometry ndmi_city  \\\n",
       "0        11  0103000020E61000000100000007000000D9065FC639CB...      CDMX   \n",
       "1        11  0103000020E6100000010000000700000094DA95AEDDC9...      CDMX   \n",
       "2        11  0103000020E610000001000000070000000420C93CF3C9...      CDMX   \n",
       "3        11  0103000020E61000000100000007000000594FB2AD13CB...      CDMX   \n",
       "4        11  0103000020E61000000100000007000000D3D59CBDC0CA...      CDMX   \n",
       "5        11  0103000020E61000000100000007000000F6D7A6081DCF...      CDMX   \n",
       "6        11  0103000020E6100000010000000700000030DF8CF780CE...      CDMX   \n",
       "7        11  0103000020E61000000100000007000000710CD1CFCFCF...      CDMX   \n",
       "8        11  0103000020E610000001000000070000007FD9F7DABBCE...      CDMX   \n",
       "9        11  0103000020E61000000100000007000000D201C9BA38CF...      CDMX   \n",
       "\n",
       "   ndmi_res                                      ndvi_geometry ndvi_city  \\\n",
       "0        11  0103000020E61000000100000007000000D9065FC639CB...      CDMX   \n",
       "1        11  0103000020E6100000010000000700000094DA95AEDDC9...      CDMX   \n",
       "2        11  0103000020E610000001000000070000000420C93CF3C9...      CDMX   \n",
       "3        11  0103000020E61000000100000007000000594FB2AD13CB...      CDMX   \n",
       "4        11  0103000020E61000000100000007000000D3D59CBDC0CA...      CDMX   \n",
       "5        11  0103000020E61000000100000007000000F6D7A6081DCF...      CDMX   \n",
       "6        11  0103000020E6100000010000000700000030DF8CF780CE...      CDMX   \n",
       "7        11  0103000020E61000000100000007000000710CD1CFCFCF...      CDMX   \n",
       "8        11  0103000020E610000001000000070000007FD9F7DABBCE...      CDMX   \n",
       "9        11  0103000020E61000000100000007000000D201C9BA38CF...      CDMX   \n",
       "\n",
       "   ndvi_res  ...  ndvi_std  ndvi_median  ndvi_max  ndvi_min  ndvi_diff  \\\n",
       "0        11  ...  0.095487     0.390565  0.429531  0.303657   0.125874   \n",
       "1        11  ...  0.050015     0.115932  0.173202  0.103599   0.069603   \n",
       "2        11  ...  0.010948    -0.015257  0.000551 -0.029914   0.030465   \n",
       "3        11  ...  0.011762    -0.019756  0.001583 -0.033220   0.034803   \n",
       "4        11  ...  0.011835     0.038702  0.047788  0.029193   0.018595   \n",
       "5        11  ...  0.064977     0.305529  0.311444  0.248205   0.063239   \n",
       "6        11  ...  0.116900     0.347796  0.471841  0.255304   0.216537   \n",
       "7        11  ...  0.137042     0.405228  0.583090  0.269271   0.313819   \n",
       "8        11  ...  0.093020     0.254751  0.326157  0.176948   0.149210   \n",
       "9        11  ...  0.061181     0.340380  0.335717  0.278116   0.057601   \n",
       "\n",
       "   ndvi_tend  ndmi_mean  ndmi_median  ndmi_diff  temp_diff_mean  \n",
       "0  -0.003642   0.020281     0.030315   0.060107       -1.267672  \n",
       "1  -0.000114  -0.033794    -0.029808   0.065786        2.526792  \n",
       "2   0.000041  -0.042728    -0.042236   0.018798        3.232521  \n",
       "3  -0.000038  -0.125755    -0.123152   0.055054        0.168092  \n",
       "4  -0.000415  -0.039338    -0.040409   0.023264        3.573956  \n",
       "5  -0.002394   0.011068     0.013627   0.035536       -0.927933  \n",
       "6  -0.003523   0.026187     0.028980   0.150125       -5.824248  \n",
       "7  -0.003048   0.037727     0.043151   0.193515       -1.092825  \n",
       "8  -0.003328  -0.016259    -0.002647   0.172510       -2.628285  \n",
       "9  -0.002209   0.045081     0.045895   0.026608       -1.964873  \n",
       "\n",
       "[10 rows x 21 columns]"
      ]
     },
     "execution_count": 22,
     "metadata": {},
     "output_type": "execute_result"
    }
   ],
   "source": [
    "hex_schema = \"raster_analysis\"\n",
    "hex_schema_pob = \"hexgrid\"\n",
    "hex_tablee = \"ndvi_analysis_hex\"\n",
    "hex_table = \"ndmi_analysis_hex\"\n",
    "hex_table_pob = \"hexgrid_9_city_2020\"\n",
    "hex_table_tempt = \"temperature_analysis_hex\"\n",
    "ndmi = \"ndmi\"\n",
    "ndvi = \"ndvi\"\n",
    "temp = \"temp\"\n",
    "poblation = \"POBTOT\"\n",
    "hex_id = \"hex_id\"\n",
    "c1 = 'Guadalajara'\n",
    "c2 ='CDMX'\n",
    "#c3 = 'Queretaro'\n",
    "n = '11'\n",
    "\n",
    "query = f'''\n",
    "SELECT \n",
    "    temp.hex_id, \n",
    "    temp.city, \n",
    "    temp.geometry AS geometry,  \n",
    "    temp.res AS temp_res,\n",
    "    ndmi.geometry AS ndmi_geometry, \n",
    "    ndmi.city AS ndmi_city, \n",
    "    ndmi.res AS ndmi_res, \n",
    "    ndvi.geometry AS ndvi_geometry, \n",
    "    ndvi.city AS ndvi_city, \n",
    "    ndvi.res AS ndvi_res, \n",
    "    ndvi.ndvi_mean, \n",
    "    ndvi.ndvi_std, \n",
    "    ndvi.ndvi_median, \n",
    "    ndvi.ndvi_max, \n",
    "    ndvi.ndvi_min, \n",
    "    ndvi.ndvi_diff, \n",
    "    ndvi.ndvi_tend,\n",
    "    ndmi.ndmi_mean, \n",
    "    ndmi.ndmi_median, \n",
    "    ndmi.ndmi_diff, \n",
    "    temp.temp_diff_mean\n",
    "FROM \n",
    "    {hex_schema}.{hex_table_tempt} temp  \n",
    "INNER JOIN \n",
    "    {hex_schema}.{hex_table} ndmi \n",
    "    ON temp.hex_id = ndmi.hex_id\n",
    "INNER JOIN \n",
    "    {hex_schema}.{hex_tablee} ndvi \n",
    "    ON ndmi.hex_id = ndvi.hex_id\n",
    "WHERE \n",
    "    temp.city IN ('{c1}', '{c2}') \n",
    "    AND temp.res = {n}\n",
    "'''\n",
    "\n",
    "intt_gdl = aup.gdf_from_query(query, geometry_col='geometry')\n",
    "intt_gdl.head(10)"
   ]
  },
  {
   "cell_type": "code",
   "execution_count": 23,
   "id": "84143985-bd5c-4c93-a38b-4b7f62f52df6",
   "metadata": {
    "tags": []
   },
   "outputs": [
    {
     "data": {
      "text/plain": [
       "(807653, 21)"
      ]
     },
     "execution_count": 23,
     "metadata": {},
     "output_type": "execute_result"
    }
   ],
   "source": [
    "intt_gdl.shape"
   ]
  },
  {
   "cell_type": "code",
   "execution_count": 24,
   "id": "e0ff9c5b-babb-4b93-9690-ba5e6c8f7d7d",
   "metadata": {
    "tags": []
   },
   "outputs": [
    {
     "data": {
      "text/plain": [
       "array(['CDMX', 'Guadalajara'], dtype=object)"
      ]
     },
     "execution_count": 24,
     "metadata": {},
     "output_type": "execute_result"
    }
   ],
   "source": [
    "intt_gdl['city'].unique()"
   ]
  },
  {
   "cell_type": "code",
   "execution_count": 25,
   "id": "06a6ca40-8e7c-4448-9b4b-79865367609b",
   "metadata": {},
   "outputs": [
    {
     "name": "stdout",
     "output_type": "stream",
     "text": [
      "Número de hexágonos Gdl: 445881 \n",
      "Número de hexágonos Cdmx: 361772\n"
     ]
    }
   ],
   "source": [
    "intt_gdll = np.sum(intt_gdl['city'] == 'Guadalajara')\n",
    "intt_cdmxx = np.sum(intt_gdl['city'] == 'CDMX')\n",
    "#intt_qroo = np.sum(intt_gdl['city'] == 'Queretaro')\n",
    "print(f'Número de hexágonos Gdl: {intt_gdll} \\nNúmero de hexágonos Cdmx: {intt_cdmxx}')"
   ]
  },
  {
   "cell_type": "markdown",
   "id": "25d2c1c5-c75a-448b-8bac-17b290bce4b5",
   "metadata": {},
   "source": [
    "Como tenemos 800,000 hexágonos tenemos que reducir la dimensión a 400,000 porque mi compu no puede con tantos datos. Vamos a reducir la dimensión de las 3 ciudades a la mitad. Inicialmente, tenemos que Guadalajara tiene 400,000 hexágonos. Cdmx tiene 300,000 hexágonos y Querétaro tiene 100,000 hexágonos. Pero después de reducir las dimensiones serán 200,000; 150,000 y 50,000 respectivamente."
   ]
  },
  {
   "cell_type": "code",
   "execution_count": 26,
   "id": "bc977eb4-9e4b-430e-a41d-49725f20b863",
   "metadata": {},
   "outputs": [
    {
     "data": {
      "text/plain": [
       "\"gdl_samples_int = 200000\\ncdmx_samples_int = 150000\\nqro_samples_int = 50000\\n\\n# Randomly sample 200,000 hexagons of Guadalajra\\nsample_with_Guadalajara = intt_gdl[intt_gdl['city'] == 'Guadalajara'].sample(n=gdl_samples_int, random_state=42)\\n\\n# Randomly sample 150,000 hexagons of Cdmx\\nsample_with_Cdmx = intt_gdl[intt_gdl['city'] == 'CDMX'].sample(n=cdmx_samples_int, random_state=42)\\n\\n# Randomly sample 50,000 hexagons of Queretaro\\nsample_with_Queretaro = intt_gdl[intt_gdl['city'] == 'Queretaro'].sample(n=qro_samples_int, random_state=42)\\n\\n# Concatenate the two samples to get the final subsample\\nint_gdf = pd.concat([sample_with_Guadalajara, sample_with_Cdmx, sample_with_Queretaro])\\nint_gdf.reset_index(drop = True, inplace = True)\\nint_gdf.head()\""
      ]
     },
     "execution_count": 26,
     "metadata": {},
     "output_type": "execute_result"
    }
   ],
   "source": [
    "'''gdl_samples_int = 200000\n",
    "cdmx_samples_int = 150000\n",
    "qro_samples_int = 50000\n",
    "\n",
    "# Randomly sample 200,000 hexagons of Guadalajra\n",
    "sample_with_Guadalajara = intt_gdl[intt_gdl['city'] == 'Guadalajara'].sample(n=gdl_samples_int, random_state=42)\n",
    "\n",
    "# Randomly sample 150,000 hexagons of Cdmx\n",
    "sample_with_Cdmx = intt_gdl[intt_gdl['city'] == 'CDMX'].sample(n=cdmx_samples_int, random_state=42)\n",
    "\n",
    "# Randomly sample 50,000 hexagons of Queretaro\n",
    "sample_with_Queretaro = intt_gdl[intt_gdl['city'] == 'Queretaro'].sample(n=qro_samples_int, random_state=42)\n",
    "\n",
    "# Concatenate the two samples to get the final subsample\n",
    "int_gdf = pd.concat([sample_with_Guadalajara, sample_with_Cdmx, sample_with_Queretaro])\n",
    "int_gdf.reset_index(drop = True, inplace = True)\n",
    "int_gdf.head()'''"
   ]
  },
  {
   "cell_type": "code",
   "execution_count": 27,
   "id": "f606b62f-b38b-4019-80da-f9cf24b7fbea",
   "metadata": {},
   "outputs": [],
   "source": [
    "#int_gdf.shape"
   ]
  },
  {
   "cell_type": "code",
   "execution_count": 28,
   "id": "04297fa2-d6b7-4279-8858-c9f8518456a9",
   "metadata": {
    "tags": []
   },
   "outputs": [
    {
     "data": {
      "text/plain": [
       "\"contador_gdl = np.sum(int_gdf['city'] == 'Guadalajara')\\ncontador_cdmx = np.sum(int_gdf['city'] == 'ZMVM')\\ncontador_qro = np.sum(int_gdf['city'] == 'Queretaro')\\nprint(f'Número de hexágonos Gdl: {contador_gdl} \\nNúmero de hexágonos Cdmx: {contador_cdmx} \\nNúmero de hexágonos Qro: {contador_qro}')\""
      ]
     },
     "execution_count": 28,
     "metadata": {},
     "output_type": "execute_result"
    }
   ],
   "source": [
    "'''contador_gdl = np.sum(int_gdf['city'] == 'Guadalajara')\n",
    "contador_cdmx = np.sum(int_gdf['city'] == 'ZMVM')\n",
    "contador_qro = np.sum(int_gdf['city'] == 'Queretaro')\n",
    "print(f'Número de hexágonos Gdl: {contador_gdl} \\nNúmero de hexágonos Cdmx: {contador_cdmx} \\nNúmero de hexágonos Qro: {contador_qro}')'''"
   ]
  },
  {
   "cell_type": "markdown",
   "id": "ae4f4dc4-201d-4f8b-9741-a82ae414b8a7",
   "metadata": {},
   "source": [
    "Ahora que ya tenemos dimensiones más pequeñas ya podemos hacer la intersección."
   ]
  },
  {
   "cell_type": "markdown",
   "id": "5d14c446-c89e-49c6-816b-93459ff272ec",
   "metadata": {},
   "source": [
    "## Intersección"
   ]
  },
  {
   "cell_type": "code",
   "execution_count": 29,
   "id": "f01fdfe4-a3b7-40fc-8db9-208882f82618",
   "metadata": {
    "tags": []
   },
   "outputs": [],
   "source": [
    "intt_gdl = intt_gdl.set_crs(\"EPSG:4326\")\n",
    "hex_gdl = hex_gdl.set_crs(\"EPSG:4326\")"
   ]
  },
  {
   "cell_type": "code",
   "execution_count": 30,
   "id": "4749966e-d61b-4297-b690-527a0ac62781",
   "metadata": {
    "tags": []
   },
   "outputs": [],
   "source": [
    "inter = gpd.sjoin(hex_gdl, intt_gdl, op='intersects')"
   ]
  },
  {
   "cell_type": "code",
   "execution_count": 31,
   "id": "7ef06de8-8747-4341-b9fc-cdce908452d2",
   "metadata": {
    "tags": []
   },
   "outputs": [
    {
     "data": {
      "text/html": [
       "<div>\n",
       "<style scoped>\n",
       "    .dataframe tbody tr th:only-of-type {\n",
       "        vertical-align: middle;\n",
       "    }\n",
       "\n",
       "    .dataframe tbody tr th {\n",
       "        vertical-align: top;\n",
       "    }\n",
       "\n",
       "    .dataframe thead th {\n",
       "        text-align: right;\n",
       "    }\n",
       "</style>\n",
       "<table border=\"1\" class=\"dataframe\">\n",
       "  <thead>\n",
       "    <tr style=\"text-align: right;\">\n",
       "      <th></th>\n",
       "      <th>hex_id</th>\n",
       "      <th>geometry</th>\n",
       "      <th>city</th>\n",
       "      <th>EspPublico</th>\n",
       "      <th>temp_res</th>\n",
       "      <th>ndmi_geometry</th>\n",
       "      <th>ndmi_city</th>\n",
       "      <th>ndmi_res</th>\n",
       "      <th>ndvi_geometry</th>\n",
       "      <th>ndvi_city</th>\n",
       "      <th>...</th>\n",
       "      <th>ndvi_std</th>\n",
       "      <th>ndvi_median</th>\n",
       "      <th>ndvi_max</th>\n",
       "      <th>ndvi_min</th>\n",
       "      <th>ndvi_diff</th>\n",
       "      <th>ndvi_tend</th>\n",
       "      <th>ndmi_mean</th>\n",
       "      <th>ndmi_median</th>\n",
       "      <th>ndmi_diff</th>\n",
       "      <th>temp_diff_mean</th>\n",
       "    </tr>\n",
       "  </thead>\n",
       "  <tbody>\n",
       "    <tr>\n",
       "      <th>0</th>\n",
       "      <td>8b4995b84985fff</td>\n",
       "      <td>POLYGON ((-99.14725 19.42254, -99.14707 19.422...</td>\n",
       "      <td>CDMX</td>\n",
       "      <td>0</td>\n",
       "      <td>11</td>\n",
       "      <td>0103000020E610000001000000070000005AAC432874C9...</td>\n",
       "      <td>CDMX</td>\n",
       "      <td>11</td>\n",
       "      <td>0103000020E610000001000000070000005AAC432874C9...</td>\n",
       "      <td>CDMX</td>\n",
       "      <td>...</td>\n",
       "      <td>0.032433</td>\n",
       "      <td>0.134863</td>\n",
       "      <td>0.143389</td>\n",
       "      <td>0.105415</td>\n",
       "      <td>0.037974</td>\n",
       "      <td>-0.001317</td>\n",
       "      <td>-0.049393</td>\n",
       "      <td>-0.04902</td>\n",
       "      <td>0.022457</td>\n",
       "      <td>4.037525</td>\n",
       "    </tr>\n",
       "    <tr>\n",
       "      <th>45337</th>\n",
       "      <td>8b4995b849aafff</td>\n",
       "      <td>POLYGON ((-99.14765 19.42282, -99.14747 19.423...</td>\n",
       "      <td>CDMX</td>\n",
       "      <td>0</td>\n",
       "      <td>11</td>\n",
       "      <td>0103000020E610000001000000070000005AAC432874C9...</td>\n",
       "      <td>CDMX</td>\n",
       "      <td>11</td>\n",
       "      <td>0103000020E610000001000000070000005AAC432874C9...</td>\n",
       "      <td>CDMX</td>\n",
       "      <td>...</td>\n",
       "      <td>0.032433</td>\n",
       "      <td>0.134863</td>\n",
       "      <td>0.143389</td>\n",
       "      <td>0.105415</td>\n",
       "      <td>0.037974</td>\n",
       "      <td>-0.001317</td>\n",
       "      <td>-0.049393</td>\n",
       "      <td>-0.04902</td>\n",
       "      <td>0.022457</td>\n",
       "      <td>4.037525</td>\n",
       "    </tr>\n",
       "    <tr>\n",
       "      <th>54653</th>\n",
       "      <td>8b4995b849aefff</td>\n",
       "      <td>POLYGON ((-99.14771 19.42234, -99.14754 19.422...</td>\n",
       "      <td>CDMX</td>\n",
       "      <td>0</td>\n",
       "      <td>11</td>\n",
       "      <td>0103000020E610000001000000070000005AAC432874C9...</td>\n",
       "      <td>CDMX</td>\n",
       "      <td>11</td>\n",
       "      <td>0103000020E610000001000000070000005AAC432874C9...</td>\n",
       "      <td>CDMX</td>\n",
       "      <td>...</td>\n",
       "      <td>0.032433</td>\n",
       "      <td>0.134863</td>\n",
       "      <td>0.143389</td>\n",
       "      <td>0.105415</td>\n",
       "      <td>0.037974</td>\n",
       "      <td>-0.001317</td>\n",
       "      <td>-0.049393</td>\n",
       "      <td>-0.04902</td>\n",
       "      <td>0.022457</td>\n",
       "      <td>4.037525</td>\n",
       "    </tr>\n",
       "    <tr>\n",
       "      <th>299445</th>\n",
       "      <td>8b4995b849acfff</td>\n",
       "      <td>POLYGON ((-99.14818 19.42215, -99.14801 19.422...</td>\n",
       "      <td>CDMX</td>\n",
       "      <td>0</td>\n",
       "      <td>11</td>\n",
       "      <td>0103000020E610000001000000070000005AAC432874C9...</td>\n",
       "      <td>CDMX</td>\n",
       "      <td>11</td>\n",
       "      <td>0103000020E610000001000000070000005AAC432874C9...</td>\n",
       "      <td>CDMX</td>\n",
       "      <td>...</td>\n",
       "      <td>0.032433</td>\n",
       "      <td>0.134863</td>\n",
       "      <td>0.143389</td>\n",
       "      <td>0.105415</td>\n",
       "      <td>0.037974</td>\n",
       "      <td>-0.001317</td>\n",
       "      <td>-0.049393</td>\n",
       "      <td>-0.04902</td>\n",
       "      <td>0.022457</td>\n",
       "      <td>4.037525</td>\n",
       "    </tr>\n",
       "    <tr>\n",
       "      <th>432543</th>\n",
       "      <td>8b4995b849a8fff</td>\n",
       "      <td>POLYGON ((-99.14812 19.42263, -99.14794 19.422...</td>\n",
       "      <td>CDMX</td>\n",
       "      <td>0</td>\n",
       "      <td>11</td>\n",
       "      <td>0103000020E610000001000000070000005AAC432874C9...</td>\n",
       "      <td>CDMX</td>\n",
       "      <td>11</td>\n",
       "      <td>0103000020E610000001000000070000005AAC432874C9...</td>\n",
       "      <td>CDMX</td>\n",
       "      <td>...</td>\n",
       "      <td>0.032433</td>\n",
       "      <td>0.134863</td>\n",
       "      <td>0.143389</td>\n",
       "      <td>0.105415</td>\n",
       "      <td>0.037974</td>\n",
       "      <td>-0.001317</td>\n",
       "      <td>-0.049393</td>\n",
       "      <td>-0.04902</td>\n",
       "      <td>0.022457</td>\n",
       "      <td>4.037525</td>\n",
       "    </tr>\n",
       "  </tbody>\n",
       "</table>\n",
       "<p>5 rows × 22 columns</p>\n",
       "</div>"
      ],
      "text/plain": [
       "                 hex_id                                           geometry  \\\n",
       "0       8b4995b84985fff  POLYGON ((-99.14725 19.42254, -99.14707 19.422...   \n",
       "45337   8b4995b849aafff  POLYGON ((-99.14765 19.42282, -99.14747 19.423...   \n",
       "54653   8b4995b849aefff  POLYGON ((-99.14771 19.42234, -99.14754 19.422...   \n",
       "299445  8b4995b849acfff  POLYGON ((-99.14818 19.42215, -99.14801 19.422...   \n",
       "432543  8b4995b849a8fff  POLYGON ((-99.14812 19.42263, -99.14794 19.422...   \n",
       "\n",
       "        city  EspPublico  temp_res  \\\n",
       "0       CDMX           0        11   \n",
       "45337   CDMX           0        11   \n",
       "54653   CDMX           0        11   \n",
       "299445  CDMX           0        11   \n",
       "432543  CDMX           0        11   \n",
       "\n",
       "                                            ndmi_geometry ndmi_city  ndmi_res  \\\n",
       "0       0103000020E610000001000000070000005AAC432874C9...      CDMX        11   \n",
       "45337   0103000020E610000001000000070000005AAC432874C9...      CDMX        11   \n",
       "54653   0103000020E610000001000000070000005AAC432874C9...      CDMX        11   \n",
       "299445  0103000020E610000001000000070000005AAC432874C9...      CDMX        11   \n",
       "432543  0103000020E610000001000000070000005AAC432874C9...      CDMX        11   \n",
       "\n",
       "                                            ndvi_geometry ndvi_city  ...  \\\n",
       "0       0103000020E610000001000000070000005AAC432874C9...      CDMX  ...   \n",
       "45337   0103000020E610000001000000070000005AAC432874C9...      CDMX  ...   \n",
       "54653   0103000020E610000001000000070000005AAC432874C9...      CDMX  ...   \n",
       "299445  0103000020E610000001000000070000005AAC432874C9...      CDMX  ...   \n",
       "432543  0103000020E610000001000000070000005AAC432874C9...      CDMX  ...   \n",
       "\n",
       "        ndvi_std  ndvi_median  ndvi_max  ndvi_min  ndvi_diff  ndvi_tend  \\\n",
       "0       0.032433     0.134863  0.143389  0.105415   0.037974  -0.001317   \n",
       "45337   0.032433     0.134863  0.143389  0.105415   0.037974  -0.001317   \n",
       "54653   0.032433     0.134863  0.143389  0.105415   0.037974  -0.001317   \n",
       "299445  0.032433     0.134863  0.143389  0.105415   0.037974  -0.001317   \n",
       "432543  0.032433     0.134863  0.143389  0.105415   0.037974  -0.001317   \n",
       "\n",
       "        ndmi_mean  ndmi_median  ndmi_diff  temp_diff_mean  \n",
       "0       -0.049393     -0.04902   0.022457        4.037525  \n",
       "45337   -0.049393     -0.04902   0.022457        4.037525  \n",
       "54653   -0.049393     -0.04902   0.022457        4.037525  \n",
       "299445  -0.049393     -0.04902   0.022457        4.037525  \n",
       "432543  -0.049393     -0.04902   0.022457        4.037525  \n",
       "\n",
       "[5 rows x 22 columns]"
      ]
     },
     "execution_count": 31,
     "metadata": {},
     "output_type": "execute_result"
    }
   ],
   "source": [
    "inter.drop(columns=['index_right','city_right','hex_id_right'], inplace=True)\n",
    "inter.rename(columns={\"hex_id_left\": \"hex_id\",\"city_left\": \"city\"}, inplace=True)\n",
    "inter.head()"
   ]
  },
  {
   "cell_type": "code",
   "execution_count": 32,
   "id": "5b3fa1be-9caa-48c1-b68c-bd6ab21649ac",
   "metadata": {},
   "outputs": [
    {
     "data": {
      "text/plain": [
       "hex_id             0\n",
       "geometry           0\n",
       "city               0\n",
       "EspPublico         0\n",
       "temp_res           0\n",
       "ndmi_geometry      0\n",
       "ndmi_city          0\n",
       "ndmi_res           0\n",
       "ndvi_geometry      0\n",
       "ndvi_city          0\n",
       "ndvi_res           0\n",
       "ndvi_mean          0\n",
       "ndvi_std           0\n",
       "ndvi_median        0\n",
       "ndvi_max           0\n",
       "ndvi_min           0\n",
       "ndvi_diff          0\n",
       "ndvi_tend          0\n",
       "ndmi_mean          0\n",
       "ndmi_median        0\n",
       "ndmi_diff          0\n",
       "temp_diff_mean    70\n",
       "dtype: int64"
      ]
     },
     "execution_count": 32,
     "metadata": {},
     "output_type": "execute_result"
    }
   ],
   "source": [
    "pd.isna(inter).sum()"
   ]
  },
  {
   "cell_type": "code",
   "execution_count": 33,
   "id": "65355d57-336d-49d7-b5f0-dad155a40673",
   "metadata": {},
   "outputs": [],
   "source": [
    "inter['temp_diff_mean'] = inter['temp_diff_mean'].fillna(0)"
   ]
  },
  {
   "cell_type": "code",
   "execution_count": 34,
   "id": "ac813f4d-8c58-4a28-ae5d-35e458a6fd8c",
   "metadata": {},
   "outputs": [
    {
     "data": {
      "text/plain": [
       "hex_id            0\n",
       "geometry          0\n",
       "city              0\n",
       "EspPublico        0\n",
       "temp_res          0\n",
       "ndmi_geometry     0\n",
       "ndmi_city         0\n",
       "ndmi_res          0\n",
       "ndvi_geometry     0\n",
       "ndvi_city         0\n",
       "ndvi_res          0\n",
       "ndvi_mean         0\n",
       "ndvi_std          0\n",
       "ndvi_median       0\n",
       "ndvi_max          0\n",
       "ndvi_min          0\n",
       "ndvi_diff         0\n",
       "ndvi_tend         0\n",
       "ndmi_mean         0\n",
       "ndmi_median       0\n",
       "ndmi_diff         0\n",
       "temp_diff_mean    0\n",
       "dtype: int64"
      ]
     },
     "execution_count": 34,
     "metadata": {},
     "output_type": "execute_result"
    }
   ],
   "source": [
    "pd.isna(inter).sum()"
   ]
  },
  {
   "cell_type": "code",
   "execution_count": 35,
   "id": "23956dfc-f9bd-448b-8dfb-5d4b05052269",
   "metadata": {
    "tags": []
   },
   "outputs": [
    {
     "name": "stdout",
     "output_type": "stream",
     "text": [
      "Número de hexágonos Gdl: 4144415 \n",
      "Número de hexágonos Cdmx: 2519284\n"
     ]
    }
   ],
   "source": [
    "contador_gdl = np.sum(inter['city'] == 'Guadalajara')\n",
    "contador_cdmx = np.sum(inter['city'] == 'CDMX')\n",
    "#contador_qro = np.sum(inter['city'] == 'Queretaro')\n",
    "print(f'Número de hexágonos Gdl: {contador_gdl} \\nNúmero de hexágonos Cdmx: {contador_cdmx}')"
   ]
  },
  {
   "cell_type": "code",
   "execution_count": 36,
   "id": "366befe9-d367-4701-bb27-b7a1fe2dd080",
   "metadata": {
    "tags": []
   },
   "outputs": [
    {
     "name": "stdout",
     "output_type": "stream",
     "text": [
      "Números de hexagonos sin Espacios Públicos: 5967752 \n",
      "Número de Hexágonos con Espacios Públicos: 695947\n",
      "Número total de Hexágonos: 6663699\n"
     ]
    }
   ],
   "source": [
    "cont_ceros = np.sum(inter['EspPublico'] == 0)\n",
    "cont_uno = np.sum(inter['EspPublico'])\n",
    "print(f'Números de hexagonos sin Espacios Públicos: {cont_ceros} \\nNúmero de Hexágonos con Espacios Públicos: {cont_uno}\\nNúmero total de Hexágonos: {cont_ceros+cont_uno}')"
   ]
  },
  {
   "cell_type": "markdown",
   "id": "0ee5e622-9b87-4a8f-a742-30403943d162",
   "metadata": {},
   "source": [
    "## Submuestreo 162,410 Hexágonos Esp Púb x 162,410 Hexágonos No Esp Púb"
   ]
  },
  {
   "cell_type": "code",
   "execution_count": 37,
   "id": "95142540-0cbb-45ee-b51d-681806f5e787",
   "metadata": {
    "tags": []
   },
   "outputs": [
    {
     "data": {
      "text/html": [
       "<div>\n",
       "<style scoped>\n",
       "    .dataframe tbody tr th:only-of-type {\n",
       "        vertical-align: middle;\n",
       "    }\n",
       "\n",
       "    .dataframe tbody tr th {\n",
       "        vertical-align: top;\n",
       "    }\n",
       "\n",
       "    .dataframe thead th {\n",
       "        text-align: right;\n",
       "    }\n",
       "</style>\n",
       "<table border=\"1\" class=\"dataframe\">\n",
       "  <thead>\n",
       "    <tr style=\"text-align: right;\">\n",
       "      <th></th>\n",
       "      <th>hex_id</th>\n",
       "      <th>geometry</th>\n",
       "      <th>city</th>\n",
       "      <th>EspPublico</th>\n",
       "      <th>temp_res</th>\n",
       "      <th>ndmi_geometry</th>\n",
       "      <th>ndmi_city</th>\n",
       "      <th>ndmi_res</th>\n",
       "      <th>ndvi_geometry</th>\n",
       "      <th>ndvi_city</th>\n",
       "      <th>...</th>\n",
       "      <th>ndvi_std</th>\n",
       "      <th>ndvi_median</th>\n",
       "      <th>ndvi_max</th>\n",
       "      <th>ndvi_min</th>\n",
       "      <th>ndvi_diff</th>\n",
       "      <th>ndvi_tend</th>\n",
       "      <th>ndmi_mean</th>\n",
       "      <th>ndmi_median</th>\n",
       "      <th>ndmi_diff</th>\n",
       "      <th>temp_diff_mean</th>\n",
       "    </tr>\n",
       "  </thead>\n",
       "  <tbody>\n",
       "    <tr>\n",
       "      <th>0</th>\n",
       "      <td>8b4995ba2494fff</td>\n",
       "      <td>POLYGON ((-99.13457 19.41098, -99.13440 19.411...</td>\n",
       "      <td>CDMX</td>\n",
       "      <td>1</td>\n",
       "      <td>11</td>\n",
       "      <td>0103000020E61000000100000007000000BAC41CE69DC8...</td>\n",
       "      <td>CDMX</td>\n",
       "      <td>11</td>\n",
       "      <td>0103000020E61000000100000007000000BAC41CE69DC8...</td>\n",
       "      <td>CDMX</td>\n",
       "      <td>...</td>\n",
       "      <td>0.022971</td>\n",
       "      <td>0.113276</td>\n",
       "      <td>0.114877</td>\n",
       "      <td>0.089693</td>\n",
       "      <td>0.025184</td>\n",
       "      <td>-0.000819</td>\n",
       "      <td>-0.042226</td>\n",
       "      <td>-0.046537</td>\n",
       "      <td>0.038630</td>\n",
       "      <td>3.860514</td>\n",
       "    </tr>\n",
       "    <tr>\n",
       "      <th>1</th>\n",
       "      <td>8b499584ad52fff</td>\n",
       "      <td>POLYGON ((-99.17389 19.34434, -99.17371 19.344...</td>\n",
       "      <td>CDMX</td>\n",
       "      <td>1</td>\n",
       "      <td>11</td>\n",
       "      <td>0103000020E610000001000000070000008DD3C75B1ACB...</td>\n",
       "      <td>CDMX</td>\n",
       "      <td>11</td>\n",
       "      <td>0103000020E610000001000000070000008DD3C75B1ACB...</td>\n",
       "      <td>CDMX</td>\n",
       "      <td>...</td>\n",
       "      <td>0.033282</td>\n",
       "      <td>0.176214</td>\n",
       "      <td>0.179659</td>\n",
       "      <td>0.150718</td>\n",
       "      <td>0.028940</td>\n",
       "      <td>-0.001191</td>\n",
       "      <td>0.006688</td>\n",
       "      <td>0.007344</td>\n",
       "      <td>0.027270</td>\n",
       "      <td>0.721526</td>\n",
       "    </tr>\n",
       "    <tr>\n",
       "      <th>2</th>\n",
       "      <td>8b4995b1449dfff</td>\n",
       "      <td>POLYGON ((-99.22760 19.37431, -99.22742 19.374...</td>\n",
       "      <td>CDMX</td>\n",
       "      <td>1</td>\n",
       "      <td>11</td>\n",
       "      <td>0103000020E6100000010000000700000017AA219A98CE...</td>\n",
       "      <td>CDMX</td>\n",
       "      <td>11</td>\n",
       "      <td>0103000020E6100000010000000700000017AA219A98CE...</td>\n",
       "      <td>CDMX</td>\n",
       "      <td>...</td>\n",
       "      <td>0.023407</td>\n",
       "      <td>0.103975</td>\n",
       "      <td>0.109571</td>\n",
       "      <td>0.084847</td>\n",
       "      <td>0.024724</td>\n",
       "      <td>-0.000909</td>\n",
       "      <td>-0.031660</td>\n",
       "      <td>-0.030233</td>\n",
       "      <td>0.033493</td>\n",
       "      <td>-1.540394</td>\n",
       "    </tr>\n",
       "    <tr>\n",
       "      <th>3</th>\n",
       "      <td>8b4995b8ca0efff</td>\n",
       "      <td>POLYGON ((-99.19192 19.48443, -99.19174 19.484...</td>\n",
       "      <td>CDMX</td>\n",
       "      <td>1</td>\n",
       "      <td>11</td>\n",
       "      <td>0103000020E6100000010000000700000088935F6447CC...</td>\n",
       "      <td>CDMX</td>\n",
       "      <td>11</td>\n",
       "      <td>0103000020E6100000010000000700000088935F6447CC...</td>\n",
       "      <td>CDMX</td>\n",
       "      <td>...</td>\n",
       "      <td>0.030715</td>\n",
       "      <td>0.138616</td>\n",
       "      <td>0.148676</td>\n",
       "      <td>0.116755</td>\n",
       "      <td>0.031921</td>\n",
       "      <td>-0.001191</td>\n",
       "      <td>-0.025523</td>\n",
       "      <td>-0.025065</td>\n",
       "      <td>0.033449</td>\n",
       "      <td>0.707275</td>\n",
       "    </tr>\n",
       "    <tr>\n",
       "      <th>4</th>\n",
       "      <td>8b499584a10afff</td>\n",
       "      <td>POLYGON ((-99.17838 19.35065, -99.17820 19.350...</td>\n",
       "      <td>CDMX</td>\n",
       "      <td>1</td>\n",
       "      <td>11</td>\n",
       "      <td>0103000020E610000001000000070000006DD306EE62CB...</td>\n",
       "      <td>CDMX</td>\n",
       "      <td>11</td>\n",
       "      <td>0103000020E610000001000000070000006DD306EE62CB...</td>\n",
       "      <td>CDMX</td>\n",
       "      <td>...</td>\n",
       "      <td>0.094498</td>\n",
       "      <td>0.345006</td>\n",
       "      <td>0.356282</td>\n",
       "      <td>0.262570</td>\n",
       "      <td>0.093712</td>\n",
       "      <td>-0.003899</td>\n",
       "      <td>0.047902</td>\n",
       "      <td>0.044995</td>\n",
       "      <td>0.034143</td>\n",
       "      <td>-0.669610</td>\n",
       "    </tr>\n",
       "  </tbody>\n",
       "</table>\n",
       "<p>5 rows × 22 columns</p>\n",
       "</div>"
      ],
      "text/plain": [
       "            hex_id                                           geometry  city  \\\n",
       "0  8b4995ba2494fff  POLYGON ((-99.13457 19.41098, -99.13440 19.411...  CDMX   \n",
       "1  8b499584ad52fff  POLYGON ((-99.17389 19.34434, -99.17371 19.344...  CDMX   \n",
       "2  8b4995b1449dfff  POLYGON ((-99.22760 19.37431, -99.22742 19.374...  CDMX   \n",
       "3  8b4995b8ca0efff  POLYGON ((-99.19192 19.48443, -99.19174 19.484...  CDMX   \n",
       "4  8b499584a10afff  POLYGON ((-99.17838 19.35065, -99.17820 19.350...  CDMX   \n",
       "\n",
       "   EspPublico  temp_res                                      ndmi_geometry  \\\n",
       "0           1        11  0103000020E61000000100000007000000BAC41CE69DC8...   \n",
       "1           1        11  0103000020E610000001000000070000008DD3C75B1ACB...   \n",
       "2           1        11  0103000020E6100000010000000700000017AA219A98CE...   \n",
       "3           1        11  0103000020E6100000010000000700000088935F6447CC...   \n",
       "4           1        11  0103000020E610000001000000070000006DD306EE62CB...   \n",
       "\n",
       "  ndmi_city  ndmi_res                                      ndvi_geometry  \\\n",
       "0      CDMX        11  0103000020E61000000100000007000000BAC41CE69DC8...   \n",
       "1      CDMX        11  0103000020E610000001000000070000008DD3C75B1ACB...   \n",
       "2      CDMX        11  0103000020E6100000010000000700000017AA219A98CE...   \n",
       "3      CDMX        11  0103000020E6100000010000000700000088935F6447CC...   \n",
       "4      CDMX        11  0103000020E610000001000000070000006DD306EE62CB...   \n",
       "\n",
       "  ndvi_city  ...  ndvi_std  ndvi_median  ndvi_max  ndvi_min  ndvi_diff  \\\n",
       "0      CDMX  ...  0.022971     0.113276  0.114877  0.089693   0.025184   \n",
       "1      CDMX  ...  0.033282     0.176214  0.179659  0.150718   0.028940   \n",
       "2      CDMX  ...  0.023407     0.103975  0.109571  0.084847   0.024724   \n",
       "3      CDMX  ...  0.030715     0.138616  0.148676  0.116755   0.031921   \n",
       "4      CDMX  ...  0.094498     0.345006  0.356282  0.262570   0.093712   \n",
       "\n",
       "   ndvi_tend  ndmi_mean  ndmi_median  ndmi_diff  temp_diff_mean  \n",
       "0  -0.000819  -0.042226    -0.046537   0.038630        3.860514  \n",
       "1  -0.001191   0.006688     0.007344   0.027270        0.721526  \n",
       "2  -0.000909  -0.031660    -0.030233   0.033493       -1.540394  \n",
       "3  -0.001191  -0.025523    -0.025065   0.033449        0.707275  \n",
       "4  -0.003899   0.047902     0.044995   0.034143       -0.669610  \n",
       "\n",
       "[5 rows x 22 columns]"
      ]
     },
     "execution_count": 37,
     "metadata": {},
     "output_type": "execute_result"
    }
   ],
   "source": [
    "num_samples = len(inter[inter['EspPublico'] == 1])\n",
    "\n",
    "# Randomly sample 203,570 hexagons with public spaces\n",
    "sample_with_public_spaces = inter[inter['EspPublico'] == 1].sample(n=num_samples, random_state=42)\n",
    "\n",
    "# Randomly sample 203,570 hexagons without public spaces\n",
    "sample_without_public_spaces = inter[inter['EspPublico'] == 0].sample(n=num_samples, random_state=42)\n",
    "\n",
    "# Concatenate the two samples to get the final subsample\n",
    "inter = pd.concat([sample_with_public_spaces, sample_without_public_spaces])\n",
    "inter.reset_index(drop = True, inplace = True)\n",
    "inter.head()"
   ]
  },
  {
   "cell_type": "code",
   "execution_count": 38,
   "id": "2289551e-366c-4fb7-8157-c67f3556d8b2",
   "metadata": {
    "tags": []
   },
   "outputs": [
    {
     "name": "stdout",
     "output_type": "stream",
     "text": [
      "Números de hexagonos sin Espacios Públicos: 695947 \n",
      "Número de Hexágonos con Espacios Públicos: 695947\n",
      "Número total de Hexágonos: 1391894\n"
     ]
    }
   ],
   "source": [
    "contador_ceros = np.sum(inter['EspPublico'] == 0)\n",
    "contador_uno = np.sum(inter['EspPublico'])\n",
    "print(f'Números de hexagonos sin Espacios Públicos: {contador_ceros} \\nNúmero de Hexágonos con Espacios Públicos: {contador_uno}\\nNúmero total de Hexágonos: {contador_ceros+contador_uno}')"
   ]
  },
  {
   "cell_type": "code",
   "execution_count": 39,
   "id": "0a87d9be-06c5-4e9f-bc3a-90b234df03ae",
   "metadata": {
    "tags": []
   },
   "outputs": [
    {
     "data": {
      "text/plain": [
       "(1391894, 22)"
      ]
     },
     "execution_count": 39,
     "metadata": {},
     "output_type": "execute_result"
    }
   ],
   "source": [
    "inter.shape"
   ]
  },
  {
   "cell_type": "markdown",
   "id": "c04cecaa-1ad4-42ea-b08a-4601eb4c141f",
   "metadata": {},
   "source": [
    "## Métodos de Clasificación"
   ]
  },
  {
   "cell_type": "code",
   "execution_count": 40,
   "id": "52f50d27-42e8-4d06-968f-85f99fbd45d3",
   "metadata": {
    "tags": []
   },
   "outputs": [],
   "source": [
    "x = inter[['ndvi_mean','ndvi_std','ndvi_median','ndvi_max','ndvi_min','ndvi_diff','ndvi_tend','ndmi_mean','ndmi_median','ndmi_diff', 'temp_diff_mean']]\n",
    "y = inter['EspPublico']"
   ]
  },
  {
   "cell_type": "code",
   "execution_count": 41,
   "id": "20c51a96-ae2c-4727-9a69-db635403eac1",
   "metadata": {
    "tags": []
   },
   "outputs": [
    {
     "data": {
      "text/plain": [
       "array([1, 0])"
      ]
     },
     "execution_count": 41,
     "metadata": {},
     "output_type": "execute_result"
    }
   ],
   "source": [
    "y.unique()"
   ]
  },
  {
   "cell_type": "markdown",
   "id": "9974aaf7-595e-450c-b771-d5b3ca983d1c",
   "metadata": {},
   "source": [
    "### Regresión Logística"
   ]
  },
  {
   "cell_type": "code",
   "execution_count": 42,
   "id": "205c3082-38b1-47d9-bd18-d63eaa8243ab",
   "metadata": {
    "tags": []
   },
   "outputs": [],
   "source": [
    "# Suponiendo que x y y ya están definidos\n",
    "x_train, x_test, y_train, y_test = train_test_split(x, y, test_size=0.2, random_state=42)\n",
    "\n",
    "# Reemplazar valores infinitos por NaN\n",
    "x_train.replace([np.inf, -np.inf], np.nan, inplace=True)\n",
    "x_test.replace([np.inf, -np.inf], np.nan, inplace=True)\n",
    "\n",
    "# Combinar x y y para eliminar filas con NaN de forma coherente\n",
    "train_data = x_train.copy()\n",
    "train_data['target'] = y_train  # Asegúrate de que 'target' sea el nombre de tu columna objetivo\n",
    "\n",
    "# Eliminar filas con NaN en el conjunto de entrenamiento\n",
    "train_data.dropna(inplace=True)\n",
    "\n",
    "# Ahora separa de nuevo x_train y y_train\n",
    "x_train_clean = train_data.drop(columns=['target'])\n",
    "y_train_clean = train_data['target']\n",
    "\n",
    "# Hacer lo mismo para el conjunto de prueba\n",
    "test_data = x_test.copy()\n",
    "test_data['target'] = y_test\n",
    "test_data.dropna(inplace=True)\n",
    "\n",
    "# Asegurarte de que el conjunto de prueba no tenga NaN\n",
    "x_test_clean = test_data.drop(columns=['target'])\n",
    "y_test_clean = test_data['target']\n",
    "\n",
    "# Escalar los datos\n",
    "scaler = StandardScaler()\n",
    "x_train_scale = scaler.fit_transform(x_train_clean)\n",
    "x_test_scale = scaler.transform(x_test_clean)"
   ]
  },
  {
   "cell_type": "code",
   "execution_count": 43,
   "id": "f5e5e9a4-fea5-4e9e-bcb1-0c813c383a9f",
   "metadata": {
    "tags": []
   },
   "outputs": [
    {
     "data": {
      "image/png": "[encoded data removed]",
      "text/plain": [
       "<Figure size 1000x700 with 2 Axes>"
      ]
     },
     "metadata": {},
     "output_type": "display_data"
    }
   ],
   "source": [
    "clf = LogisticRegression()\n",
    "clf.fit(x_train_scale, y_train_clean)\n",
    "\n",
    "y_pred = clf.predict(x_test_scale)\n",
    "\n",
    "#Generar matriz de confusión:\n",
    "cm = confusion_matrix(y_test_clean, y_pred)\n",
    "class_labels = ['Espacio Público', 'No Espacio Público']\n",
    "\n",
    "plt.figure(figsize=(10, 7))\n",
    "sns.heatmap(cm, annot=True, fmt=\"g\", cmap=\"Blues\", xticklabels=class_labels, yticklabels=class_labels)\n",
    "plt.xlabel('Predicted', fontsize=12, fontweight='bold')\n",
    "plt.ylabel('Actual', fontsize=12, fontweight='bold')\n",
    "plt.title('Matriz de Confusión', fontsize=15, fontweight='bold')\n",
    "plt.show()"
   ]
  },
  {
   "cell_type": "code",
   "execution_count": 44,
   "id": "f440316e-95a3-4a9d-bc3a-ec6d95636dc4",
   "metadata": {
    "tags": []
   },
   "outputs": [
    {
     "name": "stdout",
     "output_type": "stream",
     "text": [
      "Accuracy: 0.718758031785732\n"
     ]
    }
   ],
   "source": [
    "accuracy = accuracy_score(y_test_clean, y_pred)\n",
    "print(f'Accuracy: {accuracy}')"
   ]
  },
  {
   "cell_type": "code",
   "execution_count": 45,
   "id": "952dda82-c540-4a0b-8917-2dab5d3e3bb8",
   "metadata": {},
   "outputs": [
    {
     "name": "stdout",
     "output_type": "stream",
     "text": [
      "              precision    recall  f1-score   support\n",
      "\n",
      "           0       0.74      0.62      0.67    121632\n",
      "           1       0.71      0.81      0.75    139051\n",
      "\n",
      "    accuracy                           0.72    260683\n",
      "   macro avg       0.72      0.71      0.71    260683\n",
      "weighted avg       0.72      0.72      0.72    260683\n",
      "\n"
     ]
    }
   ],
   "source": [
    "print(classification_report(y_test_clean, y_pred))"
   ]
  },
  {
   "cell_type": "markdown",
   "id": "81fe2e3d-e9f4-4acd-abcb-05dfd4bb7a47",
   "metadata": {},
   "source": [
    "### Naive Bayes"
   ]
  },
  {
   "cell_type": "code",
   "execution_count": 46,
   "id": "f003c2ca-c4f5-4692-b8aa-a2f735f0d411",
   "metadata": {
    "tags": []
   },
   "outputs": [
    {
     "data": {
      "text/html": [
       "<style>#sk-container-id-1 {color: black;}#sk-container-id-1 pre{padding: 0;}#sk-container-id-1 div.sk-toggleable {background-color: white;}#sk-container-id-1 label.sk-toggleable__label {cursor: pointer;display: block;width: 100%;margin-bottom: 0;padding: 0.3em;box-sizing: border-box;text-align: center;}#sk-container-id-1 label.sk-toggleable__label-arrow:before {content: \"▸\";float: left;margin-right: 0.25em;color: #696969;}#sk-container-id-1 label.sk-toggleable__label-arrow:hover:before {color: black;}#sk-container-id-1 div.sk-estimator:hover label.sk-toggleable__label-arrow:before {color: black;}#sk-container-id-1 div.sk-toggleable__content {max-height: 0;max-width: 0;overflow: hidden;text-align: left;background-color: #f0f8ff;}#sk-container-id-1 div.sk-toggleable__content pre {margin: 0.2em;color: black;border-radius: 0.25em;background-color: #f0f8ff;}#sk-container-id-1 input.sk-toggleable__control:checked~div.sk-toggleable__content {max-height: 200px;max-width: 100%;overflow: auto;}#sk-container-id-1 input.sk-toggleable__control:checked~label.sk-toggleable__label-arrow:before {content: \"▾\";}#sk-container-id-1 div.sk-estimator input.sk-toggleable__control:checked~label.sk-toggleable__label {background-color: #d4ebff;}#sk-container-id-1 div.sk-label input.sk-toggleable__control:checked~label.sk-toggleable__label {background-color: #d4ebff;}#sk-container-id-1 input.sk-hidden--visually {border: 0;clip: rect(1px 1px 1px 1px);clip: rect(1px, 1px, 1px, 1px);height: 1px;margin: -1px;overflow: hidden;padding: 0;position: absolute;width: 1px;}#sk-container-id-1 div.sk-estimator {font-family: monospace;background-color: #f0f8ff;border: 1px dotted black;border-radius: 0.25em;box-sizing: border-box;margin-bottom: 0.5em;}#sk-container-id-1 div.sk-estimator:hover {background-color: #d4ebff;}#sk-container-id-1 div.sk-parallel-item::after {content: \"\";width: 100%;border-bottom: 1px solid gray;flex-grow: 1;}#sk-container-id-1 div.sk-label:hover label.sk-toggleable__label {background-color: #d4ebff;}#sk-container-id-1 div.sk-serial::before {content: \"\";position: absolute;border-left: 1px solid gray;box-sizing: border-box;top: 0;bottom: 0;left: 50%;z-index: 0;}#sk-container-id-1 div.sk-serial {display: flex;flex-direction: column;align-items: center;background-color: white;padding-right: 0.2em;padding-left: 0.2em;position: relative;}#sk-container-id-1 div.sk-item {position: relative;z-index: 1;}#sk-container-id-1 div.sk-parallel {display: flex;align-items: stretch;justify-content: center;background-color: white;position: relative;}#sk-container-id-1 div.sk-item::before, #sk-container-id-1 div.sk-parallel-item::before {content: \"\";position: absolute;border-left: 1px solid gray;box-sizing: border-box;top: 0;bottom: 0;left: 50%;z-index: -1;}#sk-container-id-1 div.sk-parallel-item {display: flex;flex-direction: column;z-index: 1;position: relative;background-color: white;}#sk-container-id-1 div.sk-parallel-item:first-child::after {align-self: flex-end;width: 50%;}#sk-container-id-1 div.sk-parallel-item:last-child::after {align-self: flex-start;width: 50%;}#sk-container-id-1 div.sk-parallel-item:only-child::after {width: 0;}#sk-container-id-1 div.sk-dashed-wrapped {border: 1px dashed gray;margin: 0 0.4em 0.5em 0.4em;box-sizing: border-box;padding-bottom: 0.4em;background-color: white;}#sk-container-id-1 div.sk-label label {font-family: monospace;font-weight: bold;display: inline-block;line-height: 1.2em;}#sk-container-id-1 div.sk-label-container {text-align: center;}#sk-container-id-1 div.sk-container {/* jupyter's `normalize.less` sets `[hidden] { display: none; }` but bootstrap.min.css set `[hidden] { display: none !important; }` so we also need the `!important` here to be able to override the default hidden behavior on the sphinx rendered scikit-learn.org. See: https://github.com/scikit-learn/scikit-learn/issues/21755 */display: inline-block !important;position: relative;}#sk-container-id-1 div.sk-text-repr-fallback {display: none;}</style><div id=\"sk-container-id-1\" class=\"sk-top-container\"><div class=\"sk-text-repr-fallback\"><pre>GaussianNB()</pre><b>In a Jupyter environment, please rerun this cell to show the HTML representation or trust the notebook. <br />On GitHub, the HTML representation is unable to render, please try loading this page with nbviewer.org.</b></div><div class=\"sk-container\" hidden><div class=\"sk-item\"><div class=\"sk-estimator sk-toggleable\"><input class=\"sk-toggleable__control sk-hidden--visually\" id=\"sk-estimator-id-1\" type=\"checkbox\" checked><label for=\"sk-estimator-id-1\" class=\"sk-toggleable__label sk-toggleable__label-arrow\">GaussianNB</label><div class=\"sk-toggleable__content\"><pre>GaussianNB()</pre></div></div></div></div></div>"
      ],
      "text/plain": [
       "GaussianNB()"
      ]
     },
     "execution_count": 46,
     "metadata": {},
     "output_type": "execute_result"
    }
   ],
   "source": [
    "nb = GaussianNB()\n",
    "nb.fit(x_train_scale, y_train_clean)"
   ]
  },
  {
   "cell_type": "code",
   "execution_count": 47,
   "id": "821887aa-6218-4d6d-b191-2d093c3fd822",
   "metadata": {
    "tags": []
   },
   "outputs": [
    {
     "data": {
      "image/png": "[encoded data removed]",
      "text/plain": [
       "<Figure size 1000x700 with 2 Axes>"
      ]
     },
     "metadata": {},
     "output_type": "display_data"
    }
   ],
   "source": [
    "y_prend = nb.predict(x_test_clean)\n",
    "cm = confusion_matrix(y_test_clean, y_prend)\n",
    "class_labels = ['Espacio Público', 'No Espacio Público']\n",
    "plt.figure(figsize = (10,7))\n",
    "sns.heatmap(cm, annot = True, fmt = \"g\", cmap=\"Reds\", xticklabels=class_labels, yticklabels=class_labels)\n",
    "plt.xlabel('Predicted', fontsize = 12, fontweight  = 'bold')\n",
    "plt.ylabel('Actual', fontsize = 12, fontweight  = 'bold')\n",
    "plt.title('Matriz de Confusión', fontsize = 15, fontweight = 'bold')\n",
    "plt.show()"
   ]
  },
  {
   "cell_type": "code",
   "execution_count": 48,
   "id": "dd13e355-5615-4321-bd13-b098b16c8387",
   "metadata": {
    "tags": []
   },
   "outputs": [
    {
     "name": "stdout",
     "output_type": "stream",
     "text": [
      "Accuracy: 0.5506419674470525\n"
     ]
    }
   ],
   "source": [
    "accuracy = accuracy_score(y_test_clean, y_prend)\n",
    "print(f'Accuracy: {accuracy}')"
   ]
  },
  {
   "cell_type": "code",
   "execution_count": 49,
   "id": "e4ef054f-7f21-47bd-8215-532c23cfff85",
   "metadata": {},
   "outputs": [
    {
     "name": "stdout",
     "output_type": "stream",
     "text": [
      "              precision    recall  f1-score   support\n",
      "\n",
      "           0       0.58      0.14      0.22    121632\n",
      "           1       0.55      0.91      0.68    139051\n",
      "\n",
      "    accuracy                           0.55    260683\n",
      "   macro avg       0.56      0.52      0.45    260683\n",
      "weighted avg       0.56      0.55      0.47    260683\n",
      "\n"
     ]
    }
   ],
   "source": [
    "print(classification_report(y_test_clean, y_prend))"
   ]
  },
  {
   "cell_type": "markdown",
   "id": "9a7e1842-62af-4c30-88b5-622abfdf3052",
   "metadata": {},
   "source": [
    "## Random Forest Classifier (RFC)"
   ]
  },
  {
   "cell_type": "code",
   "execution_count": 140,
   "id": "bf450058-e628-4841-943d-b12180c9b92c",
   "metadata": {
    "tags": []
   },
   "outputs": [],
   "source": [
    "rf = RandomForestClassifier(n_estimators=120, random_state=42)  \n",
    "rf.fit(x_train_scale, y_train_clean)\n",
    "\n",
    "# Realizar predicciones en el conjunto de prueba\n",
    "y_predd = rf.predict(x_test_clean)"
   ]
  },
  {
   "cell_type": "code",
   "execution_count": 141,
   "id": "4389a3e8-3c03-40f4-b525-31ed8ca8c76a",
   "metadata": {
    "tags": []
   },
   "outputs": [
    {
     "data": {
      "image/png": "[encoded data removed]",
      "text/plain": [
       "<Figure size 1000x700 with 2 Axes>"
      ]
     },
     "metadata": {},
     "output_type": "display_data"
    }
   ],
   "source": [
    "cm = confusion_matrix(y_test_clean, y_predd)\n",
    "class_labels = ['Espacio Verde Público', 'No Espacio Verde Público']\n",
    "plt.figure(figsize = (10,7))\n",
    "sns.heatmap(cm, annot = True, fmt = \"g\", cmap=\"Greens\", xticklabels=class_labels, yticklabels=class_labels)\n",
    "plt.xlabel('Predicted', fontsize = 12, fontweight  = 'bold')\n",
    "plt.ylabel('Actual', fontsize = 12, fontweight  = 'bold')\n",
    "plt.title('Matriz de Confusión', fontsize = 15, fontweight = 'bold')\n",
    "plt.show()"
   ]
  },
  {
   "cell_type": "code",
   "execution_count": 142,
   "id": "51dddfd1-2959-4346-b298-c1bb9db55347",
   "metadata": {
    "tags": []
   },
   "outputs": [
    {
     "name": "stdout",
     "output_type": "stream",
     "text": [
      "Accuracy: 0.5682035268889801\n"
     ]
    }
   ],
   "source": [
    "accuracy = accuracy_score(y_test_clean, y_predd)\n",
    "print(f'Accuracy: {accuracy}')"
   ]
  },
  {
   "cell_type": "code",
   "execution_count": 53,
   "id": "2d6f15c7-f2a2-4297-a4bd-84ba4564d5eb",
   "metadata": {},
   "outputs": [
    {
     "name": "stdout",
     "output_type": "stream",
     "text": [
      "              precision    recall  f1-score   support\n",
      "\n",
      "           0       0.53      0.60      0.56    121632\n",
      "           1       0.61      0.54      0.57    139051\n",
      "\n",
      "    accuracy                           0.57    260683\n",
      "   macro avg       0.57      0.57      0.57    260683\n",
      "weighted avg       0.57      0.57      0.57    260683\n",
      "\n"
     ]
    }
   ],
   "source": [
    "print(classification_report(y_test_clean, y_predd))"
   ]
  },
  {
   "cell_type": "markdown",
   "id": "e2a8c80b-af1c-4a8f-8944-ca5f61153097",
   "metadata": {},
   "source": [
    "## Ada Boost Classifier"
   ]
  },
  {
   "cell_type": "code",
   "execution_count": 54,
   "id": "7c925553-da72-4278-913b-f0fd75f2a741",
   "metadata": {},
   "outputs": [
    {
     "data": {
      "text/html": [
       "<style>#sk-container-id-2 {color: black;}#sk-container-id-2 pre{padding: 0;}#sk-container-id-2 div.sk-toggleable {background-color: white;}#sk-container-id-2 label.sk-toggleable__label {cursor: pointer;display: block;width: 100%;margin-bottom: 0;padding: 0.3em;box-sizing: border-box;text-align: center;}#sk-container-id-2 label.sk-toggleable__label-arrow:before {content: \"▸\";float: left;margin-right: 0.25em;color: #696969;}#sk-container-id-2 label.sk-toggleable__label-arrow:hover:before {color: black;}#sk-container-id-2 div.sk-estimator:hover label.sk-toggleable__label-arrow:before {color: black;}#sk-container-id-2 div.sk-toggleable__content {max-height: 0;max-width: 0;overflow: hidden;text-align: left;background-color: #f0f8ff;}#sk-container-id-2 div.sk-toggleable__content pre {margin: 0.2em;color: black;border-radius: 0.25em;background-color: #f0f8ff;}#sk-container-id-2 input.sk-toggleable__control:checked~div.sk-toggleable__content {max-height: 200px;max-width: 100%;overflow: auto;}#sk-container-id-2 input.sk-toggleable__control:checked~label.sk-toggleable__label-arrow:before {content: \"▾\";}#sk-container-id-2 div.sk-estimator input.sk-toggleable__control:checked~label.sk-toggleable__label {background-color: #d4ebff;}#sk-container-id-2 div.sk-label input.sk-toggleable__control:checked~label.sk-toggleable__label {background-color: #d4ebff;}#sk-container-id-2 input.sk-hidden--visually {border: 0;clip: rect(1px 1px 1px 1px);clip: rect(1px, 1px, 1px, 1px);height: 1px;margin: -1px;overflow: hidden;padding: 0;position: absolute;width: 1px;}#sk-container-id-2 div.sk-estimator {font-family: monospace;background-color: #f0f8ff;border: 1px dotted black;border-radius: 0.25em;box-sizing: border-box;margin-bottom: 0.5em;}#sk-container-id-2 div.sk-estimator:hover {background-color: #d4ebff;}#sk-container-id-2 div.sk-parallel-item::after {content: \"\";width: 100%;border-bottom: 1px solid gray;flex-grow: 1;}#sk-container-id-2 div.sk-label:hover label.sk-toggleable__label {background-color: #d4ebff;}#sk-container-id-2 div.sk-serial::before {content: \"\";position: absolute;border-left: 1px solid gray;box-sizing: border-box;top: 0;bottom: 0;left: 50%;z-index: 0;}#sk-container-id-2 div.sk-serial {display: flex;flex-direction: column;align-items: center;background-color: white;padding-right: 0.2em;padding-left: 0.2em;position: relative;}#sk-container-id-2 div.sk-item {position: relative;z-index: 1;}#sk-container-id-2 div.sk-parallel {display: flex;align-items: stretch;justify-content: center;background-color: white;position: relative;}#sk-container-id-2 div.sk-item::before, #sk-container-id-2 div.sk-parallel-item::before {content: \"\";position: absolute;border-left: 1px solid gray;box-sizing: border-box;top: 0;bottom: 0;left: 50%;z-index: -1;}#sk-container-id-2 div.sk-parallel-item {display: flex;flex-direction: column;z-index: 1;position: relative;background-color: white;}#sk-container-id-2 div.sk-parallel-item:first-child::after {align-self: flex-end;width: 50%;}#sk-container-id-2 div.sk-parallel-item:last-child::after {align-self: flex-start;width: 50%;}#sk-container-id-2 div.sk-parallel-item:only-child::after {width: 0;}#sk-container-id-2 div.sk-dashed-wrapped {border: 1px dashed gray;margin: 0 0.4em 0.5em 0.4em;box-sizing: border-box;padding-bottom: 0.4em;background-color: white;}#sk-container-id-2 div.sk-label label {font-family: monospace;font-weight: bold;display: inline-block;line-height: 1.2em;}#sk-container-id-2 div.sk-label-container {text-align: center;}#sk-container-id-2 div.sk-container {/* jupyter's `normalize.less` sets `[hidden] { display: none; }` but bootstrap.min.css set `[hidden] { display: none !important; }` so we also need the `!important` here to be able to override the default hidden behavior on the sphinx rendered scikit-learn.org. See: https://github.com/scikit-learn/scikit-learn/issues/21755 */display: inline-block !important;position: relative;}#sk-container-id-2 div.sk-text-repr-fallback {display: none;}</style><div id=\"sk-container-id-2\" class=\"sk-top-container\"><div class=\"sk-text-repr-fallback\"><pre>AdaBoostClassifier(n_estimators=1)</pre><b>In a Jupyter environment, please rerun this cell to show the HTML representation or trust the notebook. <br />On GitHub, the HTML representation is unable to render, please try loading this page with nbviewer.org.</b></div><div class=\"sk-container\" hidden><div class=\"sk-item\"><div class=\"sk-estimator sk-toggleable\"><input class=\"sk-toggleable__control sk-hidden--visually\" id=\"sk-estimator-id-2\" type=\"checkbox\" checked><label for=\"sk-estimator-id-2\" class=\"sk-toggleable__label sk-toggleable__label-arrow\">AdaBoostClassifier</label><div class=\"sk-toggleable__content\"><pre>AdaBoostClassifier(n_estimators=1)</pre></div></div></div></div></div>"
      ],
      "text/plain": [
       "AdaBoostClassifier(n_estimators=1)"
      ]
     },
     "execution_count": 54,
     "metadata": {},
     "output_type": "execute_result"
    }
   ],
   "source": [
    "model = AdaBoostClassifier(n_estimators = 1)\n",
    "model.fit(x_train_scale, y_train_clean)"
   ]
  },
  {
   "cell_type": "code",
   "execution_count": 55,
   "id": "4e447d52-8bf6-4474-b935-0251afaf1c2c",
   "metadata": {},
   "outputs": [
    {
     "data": {
      "text/plain": [
       "array([1, 1, 1, ..., 1, 1, 1])"
      ]
     },
     "execution_count": 55,
     "metadata": {},
     "output_type": "execute_result"
    }
   ],
   "source": [
    "predictions = model.predict(x_test_clean)\n",
    "predictions"
   ]
  },
  {
   "cell_type": "code",
   "execution_count": 56,
   "id": "7a57b18c-2c70-4b8a-a261-d2e862d39bf6",
   "metadata": {},
   "outputs": [
    {
     "data": {
      "image/png": "[encoded data removed]",
      "text/plain": [
       "<Figure size 1000x700 with 2 Axes>"
      ]
     },
     "metadata": {},
     "output_type": "display_data"
    }
   ],
   "source": [
    "cm = confusion_matrix(y_test_clean, predictions)\n",
    "class_labels = ['Espacio Verde Público', 'No Espacio Verde Público']\n",
    "plt.figure(figsize = (10,7))\n",
    "sns.heatmap(cm, annot = True, fmt = \"g\", cmap=\"viridis\", xticklabels=class_labels, yticklabels=class_labels)\n",
    "plt.xlabel('Predicted', fontsize = 12, fontweight  = 'bold')\n",
    "plt.ylabel('Actual', fontsize = 12, fontweight  = 'bold')\n",
    "plt.title('Matriz de Confusión', fontsize = 15, fontweight = 'bold')\n",
    "plt.show()"
   ]
  },
  {
   "cell_type": "code",
   "execution_count": 57,
   "id": "ba5a9c60-b6e8-4ac0-a7a9-a8e971ecbcc3",
   "metadata": {},
   "outputs": [
    {
     "name": "stdout",
     "output_type": "stream",
     "text": [
      "              precision    recall  f1-score   support\n",
      "\n",
      "           0       0.94      0.09      0.16    121632\n",
      "           1       0.55      0.99      0.71    139051\n",
      "\n",
      "    accuracy                           0.57    260683\n",
      "   macro avg       0.75      0.54      0.44    260683\n",
      "weighted avg       0.73      0.57      0.45    260683\n",
      "\n"
     ]
    }
   ],
   "source": [
    "print(classification_report(y_test_clean, predictions))"
   ]
  },
  {
   "cell_type": "code",
   "execution_count": 58,
   "id": "29369e79-0fdc-4c56-8a8b-075f0762c870",
   "metadata": {},
   "outputs": [
    {
     "name": "stdout",
     "output_type": "stream",
     "text": [
      "Accuracy: 0.5715677662141375\n"
     ]
    }
   ],
   "source": [
    "accuracy = accuracy_score(y_test_clean, predictions)\n",
    "print(f'Accuracy: {accuracy}')"
   ]
  },
  {
   "cell_type": "markdown",
   "id": "c117e96f-adae-4718-9af0-5b5e03696ad8",
   "metadata": {},
   "source": [
    "## XGBClassifier"
   ]
  },
  {
   "cell_type": "code",
   "execution_count": 59,
   "id": "449d07e1-221c-438a-88e6-e235c97ce2da",
   "metadata": {},
   "outputs": [
    {
     "data": {
      "text/html": [
       "<style>#sk-container-id-3 {color: black;}#sk-container-id-3 pre{padding: 0;}#sk-container-id-3 div.sk-toggleable {background-color: white;}#sk-container-id-3 label.sk-toggleable__label {cursor: pointer;display: block;width: 100%;margin-bottom: 0;padding: 0.3em;box-sizing: border-box;text-align: center;}#sk-container-id-3 label.sk-toggleable__label-arrow:before {content: \"▸\";float: left;margin-right: 0.25em;color: #696969;}#sk-container-id-3 label.sk-toggleable__label-arrow:hover:before {color: black;}#sk-container-id-3 div.sk-estimator:hover label.sk-toggleable__label-arrow:before {color: black;}#sk-container-id-3 div.sk-toggleable__content {max-height: 0;max-width: 0;overflow: hidden;text-align: left;background-color: #f0f8ff;}#sk-container-id-3 div.sk-toggleable__content pre {margin: 0.2em;color: black;border-radius: 0.25em;background-color: #f0f8ff;}#sk-container-id-3 input.sk-toggleable__control:checked~div.sk-toggleable__content {max-height: 200px;max-width: 100%;overflow: auto;}#sk-container-id-3 input.sk-toggleable__control:checked~label.sk-toggleable__label-arrow:before {content: \"▾\";}#sk-container-id-3 div.sk-estimator input.sk-toggleable__control:checked~label.sk-toggleable__label {background-color: #d4ebff;}#sk-container-id-3 div.sk-label input.sk-toggleable__control:checked~label.sk-toggleable__label {background-color: #d4ebff;}#sk-container-id-3 input.sk-hidden--visually {border: 0;clip: rect(1px 1px 1px 1px);clip: rect(1px, 1px, 1px, 1px);height: 1px;margin: -1px;overflow: hidden;padding: 0;position: absolute;width: 1px;}#sk-container-id-3 div.sk-estimator {font-family: monospace;background-color: #f0f8ff;border: 1px dotted black;border-radius: 0.25em;box-sizing: border-box;margin-bottom: 0.5em;}#sk-container-id-3 div.sk-estimator:hover {background-color: #d4ebff;}#sk-container-id-3 div.sk-parallel-item::after {content: \"\";width: 100%;border-bottom: 1px solid gray;flex-grow: 1;}#sk-container-id-3 div.sk-label:hover label.sk-toggleable__label {background-color: #d4ebff;}#sk-container-id-3 div.sk-serial::before {content: \"\";position: absolute;border-left: 1px solid gray;box-sizing: border-box;top: 0;bottom: 0;left: 50%;z-index: 0;}#sk-container-id-3 div.sk-serial {display: flex;flex-direction: column;align-items: center;background-color: white;padding-right: 0.2em;padding-left: 0.2em;position: relative;}#sk-container-id-3 div.sk-item {position: relative;z-index: 1;}#sk-container-id-3 div.sk-parallel {display: flex;align-items: stretch;justify-content: center;background-color: white;position: relative;}#sk-container-id-3 div.sk-item::before, #sk-container-id-3 div.sk-parallel-item::before {content: \"\";position: absolute;border-left: 1px solid gray;box-sizing: border-box;top: 0;bottom: 0;left: 50%;z-index: -1;}#sk-container-id-3 div.sk-parallel-item {display: flex;flex-direction: column;z-index: 1;position: relative;background-color: white;}#sk-container-id-3 div.sk-parallel-item:first-child::after {align-self: flex-end;width: 50%;}#sk-container-id-3 div.sk-parallel-item:last-child::after {align-self: flex-start;width: 50%;}#sk-container-id-3 div.sk-parallel-item:only-child::after {width: 0;}#sk-container-id-3 div.sk-dashed-wrapped {border: 1px dashed gray;margin: 0 0.4em 0.5em 0.4em;box-sizing: border-box;padding-bottom: 0.4em;background-color: white;}#sk-container-id-3 div.sk-label label {font-family: monospace;font-weight: bold;display: inline-block;line-height: 1.2em;}#sk-container-id-3 div.sk-label-container {text-align: center;}#sk-container-id-3 div.sk-container {/* jupyter's `normalize.less` sets `[hidden] { display: none; }` but bootstrap.min.css set `[hidden] { display: none !important; }` so we also need the `!important` here to be able to override the default hidden behavior on the sphinx rendered scikit-learn.org. See: https://github.com/scikit-learn/scikit-learn/issues/21755 */display: inline-block !important;position: relative;}#sk-container-id-3 div.sk-text-repr-fallback {display: none;}</style><div id=\"sk-container-id-3\" class=\"sk-top-container\"><div class=\"sk-text-repr-fallback\"><pre>XGBClassifier(base_score=None, booster=None, callbacks=None,\n",
       "              colsample_bylevel=None, colsample_bynode=None,\n",
       "              colsample_bytree=None, device=None, early_stopping_rounds=None,\n",
       "              enable_categorical=False, eval_metric=None, feature_types=None,\n",
       "              gamma=None, grow_policy=None, importance_type=None,\n",
       "              interaction_constraints=None, learning_rate=None, max_bin=None,\n",
       "              max_cat_threshold=None, max_cat_to_onehot=None,\n",
       "              max_delta_step=None, max_depth=None, max_leaves=None,\n",
       "              min_child_weight=None, missing=nan, monotone_constraints=None,\n",
       "              multi_strategy=None, n_estimators=None, n_jobs=None,\n",
       "              num_parallel_tree=None, random_state=None, ...)</pre><b>In a Jupyter environment, please rerun this cell to show the HTML representation or trust the notebook. <br />On GitHub, the HTML representation is unable to render, please try loading this page with nbviewer.org.</b></div><div class=\"sk-container\" hidden><div class=\"sk-item\"><div class=\"sk-estimator sk-toggleable\"><input class=\"sk-toggleable__control sk-hidden--visually\" id=\"sk-estimator-id-3\" type=\"checkbox\" checked><label for=\"sk-estimator-id-3\" class=\"sk-toggleable__label sk-toggleable__label-arrow\">XGBClassifier</label><div class=\"sk-toggleable__content\"><pre>XGBClassifier(base_score=None, booster=None, callbacks=None,\n",
       "              colsample_bylevel=None, colsample_bynode=None,\n",
       "              colsample_bytree=None, device=None, early_stopping_rounds=None,\n",
       "              enable_categorical=False, eval_metric=None, feature_types=None,\n",
       "              gamma=None, grow_policy=None, importance_type=None,\n",
       "              interaction_constraints=None, learning_rate=None, max_bin=None,\n",
       "              max_cat_threshold=None, max_cat_to_onehot=None,\n",
       "              max_delta_step=None, max_depth=None, max_leaves=None,\n",
       "              min_child_weight=None, missing=nan, monotone_constraints=None,\n",
       "              multi_strategy=None, n_estimators=None, n_jobs=None,\n",
       "              num_parallel_tree=None, random_state=None, ...)</pre></div></div></div></div></div>"
      ],
      "text/plain": [
       "XGBClassifier(base_score=None, booster=None, callbacks=None,\n",
       "              colsample_bylevel=None, colsample_bynode=None,\n",
       "              colsample_bytree=None, device=None, early_stopping_rounds=None,\n",
       "              enable_categorical=False, eval_metric=None, feature_types=None,\n",
       "              gamma=None, grow_policy=None, importance_type=None,\n",
       "              interaction_constraints=None, learning_rate=None, max_bin=None,\n",
       "              max_cat_threshold=None, max_cat_to_onehot=None,\n",
       "              max_delta_step=None, max_depth=None, max_leaves=None,\n",
       "              min_child_weight=None, missing=nan, monotone_constraints=None,\n",
       "              multi_strategy=None, n_estimators=None, n_jobs=None,\n",
       "              num_parallel_tree=None, random_state=None, ...)"
      ]
     },
     "execution_count": 59,
     "metadata": {},
     "output_type": "execute_result"
    }
   ],
   "source": [
    "model2 = xgb.XGBClassifier()\n",
    "model2.fit(x_train_scale, y_train_clean)"
   ]
  },
  {
   "cell_type": "code",
   "execution_count": 60,
   "id": "a5d8edcb-9c2c-4dbd-b919-ee35ce27ec6c",
   "metadata": {},
   "outputs": [
    {
     "data": {
      "text/plain": [
       "array([0, 1, 1, ..., 1, 1, 0])"
      ]
     },
     "execution_count": 60,
     "metadata": {},
     "output_type": "execute_result"
    }
   ],
   "source": [
    "predictions2 = model2.predict(x_test_clean)\n",
    "predictions2"
   ]
  },
  {
   "cell_type": "code",
   "execution_count": 61,
   "id": "f7c2df5b-e05c-439d-bae7-8bf5a1431c79",
   "metadata": {},
   "outputs": [
    {
     "data": {
      "image/png": "[encoded data removed]",
      "text/plain": [
       "<Figure size 1000x700 with 2 Axes>"
      ]
     },
     "metadata": {},
     "output_type": "display_data"
    }
   ],
   "source": [
    "cm = confusion_matrix(y_test_clean, predictions2)\n",
    "class_labels = ['Espacio Verde Público', 'No Espacio Verde Público']\n",
    "plt.figure(figsize = (10,7))\n",
    "sns.heatmap(cm, annot = True, fmt = \"g\", cmap=\"rainbow\", xticklabels=class_labels, yticklabels=class_labels)\n",
    "plt.xlabel('Predicted', fontsize = 12, fontweight  = 'bold')\n",
    "plt.ylabel('Actual', fontsize = 12, fontweight  = 'bold')\n",
    "plt.title('Matriz de Confusión', fontsize = 15, fontweight = 'bold')\n",
    "plt.show()"
   ]
  },
  {
   "cell_type": "code",
   "execution_count": 62,
   "id": "a0be9343-4670-4e22-a0a5-6ac6acde2f37",
   "metadata": {},
   "outputs": [
    {
     "name": "stdout",
     "output_type": "stream",
     "text": [
      "              precision    recall  f1-score   support\n",
      "\n",
      "           0       0.54      0.50      0.52    121632\n",
      "           1       0.59      0.63      0.61    139051\n",
      "\n",
      "    accuracy                           0.57    260683\n",
      "   macro avg       0.56      0.56      0.56    260683\n",
      "weighted avg       0.57      0.57      0.57    260683\n",
      "\n"
     ]
    }
   ],
   "source": [
    "print(classification_report(y_test_clean, predictions2))"
   ]
  },
  {
   "cell_type": "code",
   "execution_count": 63,
   "id": "6d94804f-6815-4813-9a22-888c654c4fd8",
   "metadata": {},
   "outputs": [
    {
     "name": "stdout",
     "output_type": "stream",
     "text": [
      "Accuracy: 0.5674554919193043\n"
     ]
    }
   ],
   "source": [
    "accuracy = accuracy_score(y_test_clean, predictions2)\n",
    "print(f'Accuracy: {accuracy}')"
   ]
  },
  {
   "cell_type": "markdown",
   "id": "7aab2964-bd82-46a4-9df0-704c12f35e44",
   "metadata": {},
   "source": [
    "## Decision Tree Classification"
   ]
  },
  {
   "cell_type": "code",
   "execution_count": 64,
   "id": "b276816e-2412-451b-8f1e-ac2499da7a7c",
   "metadata": {},
   "outputs": [],
   "source": [
    "from sklearn.tree import DecisionTreeClassifier"
   ]
  },
  {
   "cell_type": "code",
   "execution_count": 65,
   "id": "6e8ed520-c69e-48a5-90b2-c88f7cf06ad8",
   "metadata": {},
   "outputs": [
    {
     "data": {
      "text/html": [
       "<style>#sk-container-id-4 {color: black;}#sk-container-id-4 pre{padding: 0;}#sk-container-id-4 div.sk-toggleable {background-color: white;}#sk-container-id-4 label.sk-toggleable__label {cursor: pointer;display: block;width: 100%;margin-bottom: 0;padding: 0.3em;box-sizing: border-box;text-align: center;}#sk-container-id-4 label.sk-toggleable__label-arrow:before {content: \"▸\";float: left;margin-right: 0.25em;color: #696969;}#sk-container-id-4 label.sk-toggleable__label-arrow:hover:before {color: black;}#sk-container-id-4 div.sk-estimator:hover label.sk-toggleable__label-arrow:before {color: black;}#sk-container-id-4 div.sk-toggleable__content {max-height: 0;max-width: 0;overflow: hidden;text-align: left;background-color: #f0f8ff;}#sk-container-id-4 div.sk-toggleable__content pre {margin: 0.2em;color: black;border-radius: 0.25em;background-color: #f0f8ff;}#sk-container-id-4 input.sk-toggleable__control:checked~div.sk-toggleable__content {max-height: 200px;max-width: 100%;overflow: auto;}#sk-container-id-4 input.sk-toggleable__control:checked~label.sk-toggleable__label-arrow:before {content: \"▾\";}#sk-container-id-4 div.sk-estimator input.sk-toggleable__control:checked~label.sk-toggleable__label {background-color: #d4ebff;}#sk-container-id-4 div.sk-label input.sk-toggleable__control:checked~label.sk-toggleable__label {background-color: #d4ebff;}#sk-container-id-4 input.sk-hidden--visually {border: 0;clip: rect(1px 1px 1px 1px);clip: rect(1px, 1px, 1px, 1px);height: 1px;margin: -1px;overflow: hidden;padding: 0;position: absolute;width: 1px;}#sk-container-id-4 div.sk-estimator {font-family: monospace;background-color: #f0f8ff;border: 1px dotted black;border-radius: 0.25em;box-sizing: border-box;margin-bottom: 0.5em;}#sk-container-id-4 div.sk-estimator:hover {background-color: #d4ebff;}#sk-container-id-4 div.sk-parallel-item::after {content: \"\";width: 100%;border-bottom: 1px solid gray;flex-grow: 1;}#sk-container-id-4 div.sk-label:hover label.sk-toggleable__label {background-color: #d4ebff;}#sk-container-id-4 div.sk-serial::before {content: \"\";position: absolute;border-left: 1px solid gray;box-sizing: border-box;top: 0;bottom: 0;left: 50%;z-index: 0;}#sk-container-id-4 div.sk-serial {display: flex;flex-direction: column;align-items: center;background-color: white;padding-right: 0.2em;padding-left: 0.2em;position: relative;}#sk-container-id-4 div.sk-item {position: relative;z-index: 1;}#sk-container-id-4 div.sk-parallel {display: flex;align-items: stretch;justify-content: center;background-color: white;position: relative;}#sk-container-id-4 div.sk-item::before, #sk-container-id-4 div.sk-parallel-item::before {content: \"\";position: absolute;border-left: 1px solid gray;box-sizing: border-box;top: 0;bottom: 0;left: 50%;z-index: -1;}#sk-container-id-4 div.sk-parallel-item {display: flex;flex-direction: column;z-index: 1;position: relative;background-color: white;}#sk-container-id-4 div.sk-parallel-item:first-child::after {align-self: flex-end;width: 50%;}#sk-container-id-4 div.sk-parallel-item:last-child::after {align-self: flex-start;width: 50%;}#sk-container-id-4 div.sk-parallel-item:only-child::after {width: 0;}#sk-container-id-4 div.sk-dashed-wrapped {border: 1px dashed gray;margin: 0 0.4em 0.5em 0.4em;box-sizing: border-box;padding-bottom: 0.4em;background-color: white;}#sk-container-id-4 div.sk-label label {font-family: monospace;font-weight: bold;display: inline-block;line-height: 1.2em;}#sk-container-id-4 div.sk-label-container {text-align: center;}#sk-container-id-4 div.sk-container {/* jupyter's `normalize.less` sets `[hidden] { display: none; }` but bootstrap.min.css set `[hidden] { display: none !important; }` so we also need the `!important` here to be able to override the default hidden behavior on the sphinx rendered scikit-learn.org. See: https://github.com/scikit-learn/scikit-learn/issues/21755 */display: inline-block !important;position: relative;}#sk-container-id-4 div.sk-text-repr-fallback {display: none;}</style><div id=\"sk-container-id-4\" class=\"sk-top-container\"><div class=\"sk-text-repr-fallback\"><pre>DecisionTreeClassifier()</pre><b>In a Jupyter environment, please rerun this cell to show the HTML representation or trust the notebook. <br />On GitHub, the HTML representation is unable to render, please try loading this page with nbviewer.org.</b></div><div class=\"sk-container\" hidden><div class=\"sk-item\"><div class=\"sk-estimator sk-toggleable\"><input class=\"sk-toggleable__control sk-hidden--visually\" id=\"sk-estimator-id-4\" type=\"checkbox\" checked><label for=\"sk-estimator-id-4\" class=\"sk-toggleable__label sk-toggleable__label-arrow\">DecisionTreeClassifier</label><div class=\"sk-toggleable__content\"><pre>DecisionTreeClassifier()</pre></div></div></div></div></div>"
      ],
      "text/plain": [
       "DecisionTreeClassifier()"
      ]
     },
     "execution_count": 65,
     "metadata": {},
     "output_type": "execute_result"
    }
   ],
   "source": [
    "model3 = DecisionTreeClassifier()\n",
    "model3.fit(x_train_scale, y_train_clean)"
   ]
  },
  {
   "cell_type": "code",
   "execution_count": 66,
   "id": "86572939-27ab-4a20-867d-14bcf07fecbe",
   "metadata": {},
   "outputs": [
    {
     "data": {
      "text/plain": [
       "array([0, 1, 0, ..., 1, 1, 0])"
      ]
     },
     "execution_count": 66,
     "metadata": {},
     "output_type": "execute_result"
    }
   ],
   "source": [
    "predictions3 = model3.predict(x_test_clean)\n",
    "predictions3"
   ]
  },
  {
   "cell_type": "code",
   "execution_count": 67,
   "id": "e2fef2f7-8321-4636-9a14-c42fcd233e9b",
   "metadata": {},
   "outputs": [
    {
     "data": {
      "image/png": "[encoded data removed]",
      "text/plain": [
       "<Figure size 1000x700 with 2 Axes>"
      ]
     },
     "metadata": {},
     "output_type": "display_data"
    }
   ],
   "source": [
    "cm = confusion_matrix(y_test_clean, predictions3)\n",
    "class_labels = ['Espacio Verde Público', 'No Espacio Verde Público']\n",
    "plt.figure(figsize = (10,7))\n",
    "sns.heatmap(cm, annot = True, fmt = \"g\", cmap=\"jet\", xticklabels=class_labels, yticklabels=class_labels)\n",
    "plt.xlabel('Predicted', fontsize = 12, fontweight  = 'bold')\n",
    "plt.ylabel('Actual', fontsize = 12, fontweight  = 'bold')\n",
    "plt.title('Matriz de Confusión', fontsize = 15, fontweight = 'bold')\n",
    "plt.show()"
   ]
  },
  {
   "cell_type": "code",
   "execution_count": 68,
   "id": "86f27604-889d-454a-96f6-44d839fe7e01",
   "metadata": {},
   "outputs": [
    {
     "name": "stdout",
     "output_type": "stream",
     "text": [
      "              precision    recall  f1-score   support\n",
      "\n",
      "           0       0.53      0.61      0.57    121632\n",
      "           1       0.61      0.53      0.56    139051\n",
      "\n",
      "    accuracy                           0.57    260683\n",
      "   macro avg       0.57      0.57      0.57    260683\n",
      "weighted avg       0.57      0.57      0.56    260683\n",
      "\n"
     ]
    }
   ],
   "source": [
    "print(classification_report(y_test_clean, predictions3))"
   ]
  },
  {
   "cell_type": "code",
   "execution_count": 69,
   "id": "d76d7151-3115-456e-9f33-3fd723be0f9b",
   "metadata": {},
   "outputs": [
    {
     "name": "stdout",
     "output_type": "stream",
     "text": [
      "Accuracy: 0.5650924686304822\n"
     ]
    }
   ],
   "source": [
    "accuracy = accuracy_score(y_test_clean, predictions3)\n",
    "print(f'Accuracy: {accuracy}')"
   ]
  },
  {
   "cell_type": "markdown",
   "id": "3198ac8b-288c-42af-9b37-e8f88aeb89f8",
   "metadata": {},
   "source": [
    "## Clasificador con población."
   ]
  },
  {
   "cell_type": "code",
   "execution_count": 70,
   "id": "c76bfe14-0e31-4435-8b82-22cd41ee4723",
   "metadata": {},
   "outputs": [
    {
     "name": "stdout",
     "output_type": "stream",
     "text": [
      "El esquema de la tabla hex_censo_mza_2020_res9 es: censo\n"
     ]
    }
   ],
   "source": [
    "'''import psycopg2\n",
    "\n",
    "# Conectar a la base de datos\n",
    "conn = psycopg2.connect(\n",
    "    host = \"hippocampus.cswst4rid7eb.us-east-2.rds.amazonaws.com\",\n",
    "    database = \"postgres\",\n",
    "    user= \"odc_writer\",\n",
    "    password = \"writejacobs1918\"\n",
    ")\n",
    "\n",
    "cur = conn.cursor()\n",
    "\n",
    "# Ejecutar la consulta para obtener el esquema de la tabla\n",
    "table_name = 'hex_censo_mza_2020_res9'\n",
    "cur.execute(f\"\"\"\n",
    "    SELECT table_schema\n",
    "    FROM information_schema.tables\n",
    "    WHERE table_name = '{table_name}';\n",
    "\"\"\")\n",
    "\n",
    "# Obtener los resultados\n",
    "schema = cur.fetchone()\n",
    "print(f\"El esquema de la tabla {table_name} es: {schema[0]}\")\n",
    "\n",
    "cur.close()\n",
    "conn.close()'''"
   ]
  },
  {
   "cell_type": "code",
   "execution_count": 118,
   "id": "3a341adb-233d-4331-aa91-23c29a832e64",
   "metadata": {},
   "outputs": [
    {
     "data": {
      "text/html": [
       "<div>\n",
       "<style scoped>\n",
       "    .dataframe tbody tr th:only-of-type {\n",
       "        vertical-align: middle;\n",
       "    }\n",
       "\n",
       "    .dataframe tbody tr th {\n",
       "        vertical-align: top;\n",
       "    }\n",
       "\n",
       "    .dataframe thead th {\n",
       "        text-align: right;\n",
       "    }\n",
       "</style>\n",
       "<table border=\"1\" class=\"dataframe\">\n",
       "  <thead>\n",
       "    <tr style=\"text-align: right;\">\n",
       "      <th></th>\n",
       "      <th>hex_id_9</th>\n",
       "      <th>geometry</th>\n",
       "      <th>CVEGEO</th>\n",
       "      <th>NOMGEO</th>\n",
       "      <th>city</th>\n",
       "      <th>type</th>\n",
       "    </tr>\n",
       "  </thead>\n",
       "  <tbody>\n",
       "    <tr>\n",
       "      <th>0</th>\n",
       "      <td>89498c96e0bffff</td>\n",
       "      <td>POLYGON ((-103.35267 20.66765, -103.35145 20.6...</td>\n",
       "      <td>14039</td>\n",
       "      <td>Guadalajara</td>\n",
       "      <td>Guadalajara</td>\n",
       "      <td>urban</td>\n",
       "    </tr>\n",
       "    <tr>\n",
       "      <th>1</th>\n",
       "      <td>89498c960a3ffff</td>\n",
       "      <td>POLYGON ((-103.34713 20.62771, -103.34591 20.6...</td>\n",
       "      <td>14039</td>\n",
       "      <td>Guadalajara</td>\n",
       "      <td>Guadalajara</td>\n",
       "      <td>urban</td>\n",
       "    </tr>\n",
       "    <tr>\n",
       "      <th>2</th>\n",
       "      <td>89498c97333ffff</td>\n",
       "      <td>POLYGON ((-103.27379 20.66284, -103.27257 20.6...</td>\n",
       "      <td>14039</td>\n",
       "      <td>Guadalajara</td>\n",
       "      <td>Guadalajara</td>\n",
       "      <td>urban</td>\n",
       "    </tr>\n",
       "    <tr>\n",
       "      <th>3</th>\n",
       "      <td>89498c96063ffff</td>\n",
       "      <td>POLYGON ((-103.33352 20.63689, -103.33230 20.6...</td>\n",
       "      <td>14039</td>\n",
       "      <td>Guadalajara</td>\n",
       "      <td>Guadalajara</td>\n",
       "      <td>urban</td>\n",
       "    </tr>\n",
       "    <tr>\n",
       "      <th>4</th>\n",
       "      <td>89498c95cb3ffff</td>\n",
       "      <td>POLYGON ((-103.29386 20.71601, -103.29264 20.7...</td>\n",
       "      <td>14039</td>\n",
       "      <td>Guadalajara</td>\n",
       "      <td>Guadalajara</td>\n",
       "      <td>urban</td>\n",
       "    </tr>\n",
       "  </tbody>\n",
       "</table>\n",
       "</div>"
      ],
      "text/plain": [
       "          hex_id_9                                           geometry CVEGEO  \\\n",
       "0  89498c96e0bffff  POLYGON ((-103.35267 20.66765, -103.35145 20.6...  14039   \n",
       "1  89498c960a3ffff  POLYGON ((-103.34713 20.62771, -103.34591 20.6...  14039   \n",
       "2  89498c97333ffff  POLYGON ((-103.27379 20.66284, -103.27257 20.6...  14039   \n",
       "3  89498c96063ffff  POLYGON ((-103.33352 20.63689, -103.33230 20.6...  14039   \n",
       "4  89498c95cb3ffff  POLYGON ((-103.29386 20.71601, -103.29264 20.7...  14039   \n",
       "\n",
       "        NOMGEO         city   type  \n",
       "0  Guadalajara  Guadalajara  urban  \n",
       "1  Guadalajara  Guadalajara  urban  \n",
       "2  Guadalajara  Guadalajara  urban  \n",
       "3  Guadalajara  Guadalajara  urban  \n",
       "4  Guadalajara  Guadalajara  urban  "
      ]
     },
     "execution_count": 118,
     "metadata": {},
     "output_type": "execute_result"
    }
   ],
   "source": [
    "hex_schema_mza = \"censo\"\n",
    "hex_schema_pob = \"hexgrid\"\n",
    "hex_table_pob = \"hexgrid_9_city_2020\"\n",
    "hex_table_mza = \"hex_censo_mza_2020_res9\"\n",
    "c1 = 'Guadalajara'\n",
    "c2 = 'CDMX'\n",
    "n = \"9\"\n",
    "t = \"urban\"\n",
    "\n",
    "#Consulta para la tabla de población (solo tipo urbano y ciudades seleccionadas):\n",
    "query_pob = f\"\"\"\n",
    "SELECT * \n",
    "FROM {hex_schema_pob}.{hex_table_pob} \n",
    "WHERE city IN ('{c1}', '{c2}') \n",
    "AND type = '{t}'\n",
    "\"\"\"\n",
    "\n",
    "hex_gdl_pob = aup.gdf_from_query(query_pob, geometry_col='geometry')\n",
    "hex_gdl_pob.head(5)"
   ]
  },
  {
   "cell_type": "code",
   "execution_count": 72,
   "id": "b9fae2dc-cffb-41b4-af29-06e3ba7e87f9",
   "metadata": {},
   "outputs": [
    {
     "name": "stdout",
     "output_type": "stream",
     "text": [
      "phogjef_f\n",
      "geometry\n",
      "pobtot\n",
      "pobfem\n",
      "pobmas\n",
      "p_0a2\n",
      "p_0a2_f\n",
      "p_0a2_m\n",
      "p_3ymas\n",
      "p_3ymas_f\n",
      "p_3ymas_m\n",
      "p_5ymas\n",
      "p_5ymas_f\n",
      "p_5ymas_m\n",
      "p_12ymas\n",
      "p_12ymas_f\n",
      "p_12ymas_m\n",
      "p_15ymas\n",
      "p_15ymas_f\n",
      "p_15ymas_m\n",
      "p_18ymas\n",
      "p_18ymas_f\n",
      "p_18ymas_m\n",
      "p_3a5\n",
      "p_3a5_f\n",
      "p_3a5_m\n",
      "p_6a11\n",
      "p_6a11_f\n",
      "p_6a11_m\n",
      "p_8a14\n",
      "p_8a14_f\n",
      "p_8a14_m\n",
      "p_12a14\n",
      "p_12a14_f\n",
      "p_12a14_m\n",
      "p_15a17\n",
      "p_15a17_f\n",
      "p_15a17_m\n",
      "p_18a24\n",
      "p_18a24_f\n",
      "p_18a24_m\n",
      "p_15a49_f\n",
      "p_60ymas\n",
      "p_60ymas_f\n",
      "p_60ymas_m\n",
      "rel_h_m\n",
      "pob0_14\n",
      "pob15_64\n",
      "pob65_mas\n",
      "prom_hnv\n",
      "pnacent\n",
      "pnacent_f\n",
      "pnacent_m\n",
      "pnacoe\n",
      "pnacoe_f\n",
      "pnacoe_m\n",
      "pres2015\n",
      "pres2015_f\n",
      "pres2015_m\n",
      "presoe15\n",
      "presoe15_f\n",
      "presoe15_m\n",
      "p3ym_hli\n",
      "p3ym_hli_f\n",
      "p3ym_hli_m\n",
      "p3hlinhe\n",
      "p3hlinhe_f\n",
      "p3hlinhe_m\n",
      "p3hli_he\n",
      "p3hli_he_f\n",
      "p3hli_he_m\n",
      "p5_hli\n",
      "p5_hli_nhe\n",
      "p5_hli_he\n",
      "phog_ind\n",
      "pob_afro\n",
      "pob_afro_f\n",
      "pob_afro_m\n",
      "pcon_disc\n",
      "pcdisc_mot\n",
      "pcdisc_vis\n",
      "pcdisc_leng\n",
      "pcdisc_aud\n",
      "pcdisc_mot2\n",
      "pcdisc_men\n",
      "pcon_limi\n",
      "pclim_csb\n",
      "pclim_vis\n",
      "pclim_haco\n",
      "pclim_oaud\n",
      "pclim_mot2\n",
      "pclim_re_co\n",
      "pclim_pmen\n",
      "psind_lim\n",
      "p3a5_noa\n",
      "p3a5_noa_f\n",
      "p3a5_noa_m\n",
      "p6a11_noa\n",
      "p6a11_noaf\n",
      "p6a11_noam\n",
      "p12a14noa\n",
      "p12a14noaf\n",
      "p12a14noam\n",
      "p15a17a\n",
      "p15a17a_f\n",
      "p15a17a_m\n",
      "p18a24a\n",
      "p18a24a_f\n",
      "p18a24a_m\n",
      "p8a14an\n",
      "p8a14an_f\n",
      "p8a14an_m\n",
      "p15ym_an\n",
      "p15ym_an_f\n",
      "p15ym_an_m\n",
      "p15ym_se\n",
      "p15ym_se_f\n",
      "p15ym_se_m\n",
      "p15pri_in\n",
      "p15pri_inf\n",
      "p15pri_inm\n",
      "p15pri_co\n",
      "p15pri_cof\n",
      "p15pri_com\n",
      "p15sec_in\n",
      "p15sec_inf\n",
      "p15sec_inm\n",
      "p15sec_co\n",
      "p15sec_cof\n",
      "p15sec_com\n",
      "p18ym_pb\n",
      "p18ym_pb_f\n",
      "p18ym_pb_m\n",
      "graproes\n",
      "graproes_f\n",
      "graproes_m\n",
      "pea\n",
      "pea_f\n",
      "pea_m\n",
      "pe_inac\n",
      "pe_inac_f\n",
      "pe_inac_m\n",
      "pocupada\n",
      "pocupada_f\n",
      "pocupada_m\n",
      "pdesocup\n",
      "pdesocup_f\n",
      "pdesocup_m\n",
      "psinder\n",
      "pder_ss\n",
      "pder_imss\n",
      "pder_iste\n",
      "pder_istee\n",
      "pafil_pdom\n",
      "pder_segp\n",
      "pder_imssb\n",
      "pafil_ipriv\n",
      "pafil_otrai\n",
      "p12ym_solt\n",
      "p12ym_casa\n",
      "p12ym_sepa\n",
      "pcatolica\n",
      "pro_crieva\n",
      "potras_rel\n",
      "psin_relig\n",
      "tothog\n",
      "hogjef_f\n",
      "hogjef_m\n",
      "pobhog\n",
      "vph_sintic\n",
      "dens_pob_ha\n",
      "phogjef_m\n",
      "vivtot\n",
      "tvivhab\n",
      "tvivpar\n",
      "vivpar_hab\n",
      "vivparh_cv\n",
      "tvivparhab\n",
      "vivpar_des\n",
      "vivpar_ut\n",
      "ocupvivpar\n",
      "prom_ocup\n",
      "pro_ocup_c\n",
      "vph_pisodt\n",
      "vph_pisoti\n",
      "vph_1dor\n",
      "vph_2ymasd\n",
      "vph_1cuart\n",
      "vph_2cuart\n",
      "vph_3ymasc\n",
      "vph_c_elec\n",
      "vph_s_elec\n",
      "vph_aguadv\n",
      "vph_aeasp\n",
      "vph_aguafv\n",
      "vph_tinaco\n",
      "vph_cister\n",
      "vph_excsa\n",
      "vph_letr\n",
      "vph_drenaj\n",
      "vph_nodren\n",
      "vph_c_serv\n",
      "vph_ndeaed\n",
      "vph_dsadma\n",
      "vph_ndacmm\n",
      "vph_snbien\n",
      "vph_refri\n",
      "vph_lavad\n",
      "vph_hmicro\n",
      "vph_autom\n",
      "vph_moto\n",
      "vph_bici\n",
      "vph_radio\n",
      "vph_tv\n",
      "vph_pc\n",
      "vph_telef\n",
      "vph_cel\n",
      "vph_inter\n",
      "vph_stvp\n",
      "vph_spmvpi\n",
      "vph_cvj\n",
      "vph_sinrtv\n",
      "vph_sinltc\n",
      "vph_sincint\n",
      "hex_id_9\n",
      "metropolis\n"
     ]
    }
   ],
   "source": [
    "import psycopg2\n",
    "\n",
    "conn = psycopg2.connect(\n",
    "    host=\"hippocampus.cswst4rid7eb.us-east-2.rds.amazonaws.com\",\n",
    "    database=\"postgres\",\n",
    "    user=\"odc_writer\",\n",
    "    password=\"writejacobs1918\"\n",
    ")\n",
    "\n",
    "cur = conn.cursor()\n",
    "\n",
    "table_name = 'hex_censo_mza_2020_res9'\n",
    "\n",
    "cur.execute(f\"\"\"\n",
    "    SELECT column_name\n",
    "    FROM information_schema.columns\n",
    "    WHERE table_name = '{table_name}';\n",
    "\"\"\")\n",
    "\n",
    "columns = cur.fetchall()\n",
    "for column in columns:\n",
    "    print(column[0])\n",
    "\n",
    "# Cerrar cursor y conexión\n",
    "cur.close()\n",
    "conn.close()\n",
    "\n"
   ]
  },
  {
   "cell_type": "code",
   "execution_count": 73,
   "id": "9f99d712-d8ec-48f8-9a12-a6d6e36db1bf",
   "metadata": {},
   "outputs": [],
   "source": [
    "#Consulta para la tabla de manzanas (solo ciudades seleccionadas):\n",
    "query_mza = f\"\"\"\n",
    "SELECT hex_id_9, pobtot, geometry\n",
    "FROM {hex_schema_mza}.{hex_table_mza} \n",
    "\"\"\"\n",
    "\n",
    "hex_gdl_mza = aup.gdf_from_query(query_mza, geometry_col='geometry')"
   ]
  },
  {
   "cell_type": "code",
   "execution_count": 74,
   "id": "3982aa00-14b6-418f-8796-26d938c7b0ff",
   "metadata": {},
   "outputs": [
    {
     "name": "stdout",
     "output_type": "stream",
     "text": [
      "(13629, 6)\n",
      "(119059, 3)\n"
     ]
    }
   ],
   "source": [
    "pob = hex_gdl_pob.shape\n",
    "mza = hex_gdl_mza.shape\n",
    "\n",
    "print(pob)\n",
    "print(mza)"
   ]
  },
  {
   "cell_type": "code",
   "execution_count": 75,
   "id": "a6fd9473-ede6-4bbb-8c5e-c8bc5c1209e6",
   "metadata": {},
   "outputs": [
    {
     "data": {
      "text/plain": [
       "array(['Guadalajara', 'CDMX'], dtype=object)"
      ]
     },
     "execution_count": 75,
     "metadata": {},
     "output_type": "execute_result"
    }
   ],
   "source": [
    "hex_gdl_pob['city'].unique()"
   ]
  },
  {
   "cell_type": "code",
   "execution_count": 131,
   "id": "7943741e-d609-4d5d-94b8-e547e183b121",
   "metadata": {},
   "outputs": [
    {
     "data": {
      "text/html": [
       "<div>\n",
       "<style scoped>\n",
       "    .dataframe tbody tr th:only-of-type {\n",
       "        vertical-align: middle;\n",
       "    }\n",
       "\n",
       "    .dataframe tbody tr th {\n",
       "        vertical-align: top;\n",
       "    }\n",
       "\n",
       "    .dataframe thead th {\n",
       "        text-align: right;\n",
       "    }\n",
       "</style>\n",
       "<table border=\"1\" class=\"dataframe\">\n",
       "  <thead>\n",
       "    <tr style=\"text-align: right;\">\n",
       "      <th></th>\n",
       "      <th>hex_id_9</th>\n",
       "      <th>city</th>\n",
       "      <th>type</th>\n",
       "      <th>pobtot</th>\n",
       "      <th>geometry</th>\n",
       "    </tr>\n",
       "  </thead>\n",
       "  <tbody>\n",
       "    <tr>\n",
       "      <th>0</th>\n",
       "      <td>894995b1507ffff</td>\n",
       "      <td>CDMX</td>\n",
       "      <td>urban</td>\n",
       "      <td>1159.0</td>\n",
       "      <td>POLYGON ((-99.26246 19.38575, -99.26122 19.387...</td>\n",
       "    </tr>\n",
       "    <tr>\n",
       "      <th>1</th>\n",
       "      <td>894995b2277ffff</td>\n",
       "      <td>CDMX</td>\n",
       "      <td>urban</td>\n",
       "      <td>736.0</td>\n",
       "      <td>POLYGON ((-99.30773 19.34790, -99.30650 19.349...</td>\n",
       "    </tr>\n",
       "    <tr>\n",
       "      <th>2</th>\n",
       "      <td>89499584547ffff</td>\n",
       "      <td>CDMX</td>\n",
       "      <td>urban</td>\n",
       "      <td>1265.0</td>\n",
       "      <td>POLYGON ((-99.17964 19.28341, -99.17841 19.284...</td>\n",
       "    </tr>\n",
       "    <tr>\n",
       "      <th>3</th>\n",
       "      <td>8949958cc9bffff</td>\n",
       "      <td>CDMX</td>\n",
       "      <td>urban</td>\n",
       "      <td>1717.0</td>\n",
       "      <td>POLYGON ((-99.04364 19.37460, -99.04240 19.376...</td>\n",
       "    </tr>\n",
       "    <tr>\n",
       "      <th>4</th>\n",
       "      <td>89499585e13ffff</td>\n",
       "      <td>CDMX</td>\n",
       "      <td>urban</td>\n",
       "      <td>3163.0</td>\n",
       "      <td>POLYGON ((-99.11471 19.32935, -99.11347 19.330...</td>\n",
       "    </tr>\n",
       "  </tbody>\n",
       "</table>\n",
       "</div>"
      ],
      "text/plain": [
       "          hex_id_9  city   type  pobtot  \\\n",
       "0  894995b1507ffff  CDMX  urban  1159.0   \n",
       "1  894995b2277ffff  CDMX  urban   736.0   \n",
       "2  89499584547ffff  CDMX  urban  1265.0   \n",
       "3  8949958cc9bffff  CDMX  urban  1717.0   \n",
       "4  89499585e13ffff  CDMX  urban  3163.0   \n",
       "\n",
       "                                            geometry  \n",
       "0  POLYGON ((-99.26246 19.38575, -99.26122 19.387...  \n",
       "1  POLYGON ((-99.30773 19.34790, -99.30650 19.349...  \n",
       "2  POLYGON ((-99.17964 19.28341, -99.17841 19.284...  \n",
       "3  POLYGON ((-99.04364 19.37460, -99.04240 19.376...  \n",
       "4  POLYGON ((-99.11471 19.32935, -99.11347 19.330...  "
      ]
     },
     "execution_count": 131,
     "metadata": {},
     "output_type": "execute_result"
    }
   ],
   "source": [
    "hex_schema_mza = \"censo\"\n",
    "hex_schema_pob = \"hexgrid\"\n",
    "hex_table_pob = \"hexgrid_9_city_2020\"\n",
    "hex_table_mza = \"hex_censo_mza_2020_res9\"\n",
    "c1 = 'Guadalajara'\n",
    "c2 = 'CDMX'\n",
    "t = \"urban\"\n",
    "\n",
    "\n",
    "query_join = f\"\"\"\n",
    "SELECT pob.hex_id_9, pob.city, pob.type, mza.pobtot, mza.geometry\n",
    "FROM {hex_schema_pob}.{hex_table_pob} pob\n",
    "INNER JOIN {hex_schema_mza}.{hex_table_mza} mza\n",
    "ON pob.hex_id_9 = mza.hex_id_9\n",
    "WHERE pob.city IN ('{c1}', '{c2}') \n",
    "AND pob.type = '{t}'\n",
    "\"\"\"\n",
    "\n",
    "hex_gdl_join = aup.gdf_from_query(query_join, geometry_col='geometry')\n",
    "\n",
    "hex_gdl_join.head(5)\n"
   ]
  },
  {
   "cell_type": "code",
   "execution_count": 132,
   "id": "f4acf6eb-ea82-41e7-9764-653346eda24e",
   "metadata": {},
   "outputs": [
    {
     "name": "stdout",
     "output_type": "stream",
     "text": [
      "Número de hexágonos Gdl: 5650 \n",
      "Número de hexágonos Cdmx: 6165\n"
     ]
    }
   ],
   "source": [
    "contador_gdl_join = np.sum(hex_gdl_join['city'] == 'Guadalajara')\n",
    "contador_cdmxx_join = np.sum(hex_gdl_join['city'] == 'CDMX')\n",
    "print(f'Número de hexágonos Gdl: {contador_gdl_join} \\nNúmero de hexágonos Cdmx: {contador_cdmxx_join}')"
   ]
  },
  {
   "cell_type": "code",
   "execution_count": 133,
   "id": "01199043-d0ad-4637-9919-ace19da5c121",
   "metadata": {},
   "outputs": [
    {
     "name": "stdout",
     "output_type": "stream",
     "text": [
      "CRS of gdf_gdl: EPSG:4326\n"
     ]
    }
   ],
   "source": [
    "hex_gdl_join = hex_gdl_join.set_crs(\"EPSG:4326\", allow_override=True)\n",
    "print(\"CRS of gdf_gdl:\", gdf_gdl.crs)"
   ]
  },
  {
   "cell_type": "markdown",
   "id": "cfac3567-94ff-4ba3-804c-25bc75b03dac",
   "metadata": {},
   "source": [
    "## Dummy Variables\n",
    "1 = Hexágonos que cuentan con espacios públicos\n",
    "\n",
    "0 = Hexágonos que no cuentan con espacios públicos"
   ]
  },
  {
   "cell_type": "code",
   "execution_count": 134,
   "id": "6b627108-80a6-490e-8f5e-bfb23313bd94",
   "metadata": {},
   "outputs": [
    {
     "data": {
      "text/html": [
       "<div>\n",
       "<style scoped>\n",
       "    .dataframe tbody tr th:only-of-type {\n",
       "        vertical-align: middle;\n",
       "    }\n",
       "\n",
       "    .dataframe tbody tr th {\n",
       "        vertical-align: top;\n",
       "    }\n",
       "\n",
       "    .dataframe thead th {\n",
       "        text-align: right;\n",
       "    }\n",
       "</style>\n",
       "<table border=\"1\" class=\"dataframe\">\n",
       "  <thead>\n",
       "    <tr style=\"text-align: right;\">\n",
       "      <th></th>\n",
       "      <th>hex_id_9</th>\n",
       "      <th>city</th>\n",
       "      <th>type</th>\n",
       "      <th>pobtot</th>\n",
       "      <th>geometry</th>\n",
       "      <th>EspPublico</th>\n",
       "    </tr>\n",
       "  </thead>\n",
       "  <tbody>\n",
       "    <tr>\n",
       "      <th>0</th>\n",
       "      <td>894995b1507ffff</td>\n",
       "      <td>CDMX</td>\n",
       "      <td>urban</td>\n",
       "      <td>1159.0</td>\n",
       "      <td>POLYGON ((-99.26246 19.38575, -99.26122 19.387...</td>\n",
       "      <td>1</td>\n",
       "    </tr>\n",
       "    <tr>\n",
       "      <th>1</th>\n",
       "      <td>894995b2277ffff</td>\n",
       "      <td>CDMX</td>\n",
       "      <td>urban</td>\n",
       "      <td>736.0</td>\n",
       "      <td>POLYGON ((-99.30773 19.34790, -99.30650 19.349...</td>\n",
       "      <td>0</td>\n",
       "    </tr>\n",
       "    <tr>\n",
       "      <th>2</th>\n",
       "      <td>89499584547ffff</td>\n",
       "      <td>CDMX</td>\n",
       "      <td>urban</td>\n",
       "      <td>1265.0</td>\n",
       "      <td>POLYGON ((-99.17964 19.28341, -99.17841 19.284...</td>\n",
       "      <td>1</td>\n",
       "    </tr>\n",
       "    <tr>\n",
       "      <th>3</th>\n",
       "      <td>8949958cc9bffff</td>\n",
       "      <td>CDMX</td>\n",
       "      <td>urban</td>\n",
       "      <td>1717.0</td>\n",
       "      <td>POLYGON ((-99.04364 19.37460, -99.04240 19.376...</td>\n",
       "      <td>1</td>\n",
       "    </tr>\n",
       "    <tr>\n",
       "      <th>4</th>\n",
       "      <td>89499585e13ffff</td>\n",
       "      <td>CDMX</td>\n",
       "      <td>urban</td>\n",
       "      <td>3163.0</td>\n",
       "      <td>POLYGON ((-99.11471 19.32935, -99.11347 19.330...</td>\n",
       "      <td>1</td>\n",
       "    </tr>\n",
       "  </tbody>\n",
       "</table>\n",
       "</div>"
      ],
      "text/plain": [
       "          hex_id_9  city   type  pobtot  \\\n",
       "0  894995b1507ffff  CDMX  urban  1159.0   \n",
       "1  894995b2277ffff  CDMX  urban   736.0   \n",
       "2  89499584547ffff  CDMX  urban  1265.0   \n",
       "3  8949958cc9bffff  CDMX  urban  1717.0   \n",
       "4  89499585e13ffff  CDMX  urban  3163.0   \n",
       "\n",
       "                                            geometry  EspPublico  \n",
       "0  POLYGON ((-99.26246 19.38575, -99.26122 19.387...           1  \n",
       "1  POLYGON ((-99.30773 19.34790, -99.30650 19.349...           0  \n",
       "2  POLYGON ((-99.17964 19.28341, -99.17841 19.284...           1  \n",
       "3  POLYGON ((-99.04364 19.37460, -99.04240 19.376...           1  \n",
       "4  POLYGON ((-99.11471 19.32935, -99.11347 19.330...           1  "
      ]
     },
     "execution_count": 134,
     "metadata": {},
     "output_type": "execute_result"
    }
   ],
   "source": [
    "gdf_sindex = gdf.sindex\n",
    "\n",
    "# Create a Series of boolean values indicating which hexagons intersect with public spaces\n",
    "intersects_public_spaces = hex_gdl_join['geometry'].apply(lambda geom: any(gdf_sindex.query(geom)))\n",
    "\n",
    "hex_gdl_join['EspPublico'] = intersects_public_spaces.astype(int)\n",
    "hex_gdl_join.head()"
   ]
  },
  {
   "cell_type": "code",
   "execution_count": 135,
   "id": "f7c5192a-b58c-4a4b-ba68-9c65e939e0ef",
   "metadata": {},
   "outputs": [
    {
     "name": "stdout",
     "output_type": "stream",
     "text": [
      "Números de hexagonos sin Espacios Públicos: 7364 \n",
      "Número de Hexágonos con Espacios Públicos: 4451\n",
      "Número total de Hexágonos: 11815\n"
     ]
    }
   ],
   "source": [
    "contador_ceros_join = np.sum(hex_gdl_join['EspPublico'] == 0)\n",
    "contador_uno_join = np.sum(hex_gdl_join['EspPublico'])\n",
    "print(f'Números de hexagonos sin Espacios Públicos: {contador_ceros_join} \\nNúmero de Hexágonos con Espacios Públicos: {contador_uno_join}\\nNúmero total de Hexágonos: {contador_ceros_join + contador_uno_join}')"
   ]
  },
  {
   "cell_type": "markdown",
   "id": "4d99a66a-6ed1-40fe-92fc-38418448849a",
   "metadata": {},
   "source": [
    "## Intersección espacial"
   ]
  },
  {
   "cell_type": "code",
   "execution_count": 99,
   "id": "bbf44f7c-8a5e-44bf-b02b-18de136c5b0c",
   "metadata": {},
   "outputs": [
    {
     "data": {
      "text/plain": [
       "hex_id_9           0\n",
       "city               0\n",
       "type               0\n",
       "pobtot             0\n",
       "geometry           0\n",
       "poblacion_total    0\n",
       "dtype: int64"
      ]
     },
     "execution_count": 99,
     "metadata": {},
     "output_type": "execute_result"
    }
   ],
   "source": [
    "pd.isna(hex_gdl_join).sum()"
   ]
  },
  {
   "cell_type": "code",
   "execution_count": 121,
   "id": "d052bfc2-8d5e-407e-859b-988a40718f65",
   "metadata": {},
   "outputs": [],
   "source": [
    "hex_gdl_pob = hex_gdl_pob.set_crs(\"EPSG:4326\")\n",
    "hex_gdl_mza = hex_gdl_mza.set_crs(\"EPSG:4326\")"
   ]
  },
  {
   "cell_type": "code",
   "execution_count": 122,
   "id": "f3655795-ba92-4c40-95e6-122475891e28",
   "metadata": {},
   "outputs": [
    {
     "name": "stdout",
     "output_type": "stream",
     "text": [
      "         hex_id_9_left                                           geometry  \\\n",
      "0      89498c96e0bffff  POLYGON ((-103.35267 20.66765, -103.35145 20.6...   \n",
      "82     89498c96ecfffff  POLYGON ((-103.35003 20.66229, -103.34881 20.6...   \n",
      "333    89498c96e47ffff  POLYGON ((-103.34935 20.66910, -103.34813 20.6...   \n",
      "389    89498c96e1bffff  POLYGON ((-103.35301 20.66425, -103.35179 20.6...   \n",
      "721    89498c96e57ffff  POLYGON ((-103.34969 20.66569, -103.34847 20.6...   \n",
      "...                ...                                                ...   \n",
      "13594  894995b96d3ffff  POLYGON ((-99.05118 19.43500, -99.04994 19.436...   \n",
      "13534  894995b96cfffff  POLYGON ((-99.05030 19.44172, -99.04906 19.443...   \n",
      "13550  894995b9657ffff  POLYGON ((-99.04985 19.44507, -99.04861 19.446...   \n",
      "13570  894995b96cbffff  POLYGON ((-99.04746 19.43971, -99.04622 19.441...   \n",
      "13570  894995b96cbffff  POLYGON ((-99.04746 19.43971, -99.04622 19.441...   \n",
      "\n",
      "      CVEGEO               NOMGEO         city   type  index_right  \\\n",
      "0      14039          Guadalajara  Guadalajara  urban        93772   \n",
      "82     14039          Guadalajara  Guadalajara  urban        93772   \n",
      "333    14039          Guadalajara  Guadalajara  urban        93772   \n",
      "389    14039          Guadalajara  Guadalajara  urban        93772   \n",
      "721    14039          Guadalajara  Guadalajara  urban        93772   \n",
      "...      ...                  ...          ...    ...          ...   \n",
      "13594  09017  Venustiano Carranza         CDMX  urban        65759   \n",
      "13534  09017  Venustiano Carranza         CDMX  urban        78005   \n",
      "13550  09017  Venustiano Carranza         CDMX  urban        78005   \n",
      "13570  09017  Venustiano Carranza         CDMX  urban        78005   \n",
      "13570  09017  Venustiano Carranza         CDMX  urban        72579   \n",
      "\n",
      "        hex_id_9_right  pobtot  \n",
      "0      89498c96e57ffff   975.0  \n",
      "82     89498c96e57ffff   975.0  \n",
      "333    89498c96e57ffff   975.0  \n",
      "389    89498c96e57ffff   975.0  \n",
      "721    89498c96e57ffff   975.0  \n",
      "...                ...     ...  \n",
      "13594  894995b96dbffff  1236.0  \n",
      "13534  894995b9653ffff   149.0  \n",
      "13550  894995b9653ffff   149.0  \n",
      "13570  894995b9653ffff   149.0  \n",
      "13570  8949958cb37ffff  1954.0  \n",
      "\n",
      "[80632 rows x 9 columns]\n"
     ]
    }
   ],
   "source": [
    "inter_join = gpd.sjoin(hex_gdl_pob, hex_gdl_mza, op='intersects')\n",
    "print(inter_join)"
   ]
  },
  {
   "cell_type": "code",
   "execution_count": 129,
   "id": "e34f0f5e-5e5b-42a8-b013-a87d98d855f0",
   "metadata": {},
   "outputs": [
    {
     "data": {
      "text/html": [
       "<div>\n",
       "<style scoped>\n",
       "    .dataframe tbody tr th:only-of-type {\n",
       "        vertical-align: middle;\n",
       "    }\n",
       "\n",
       "    .dataframe tbody tr th {\n",
       "        vertical-align: top;\n",
       "    }\n",
       "\n",
       "    .dataframe thead th {\n",
       "        text-align: right;\n",
       "    }\n",
       "</style>\n",
       "<table border=\"1\" class=\"dataframe\">\n",
       "  <thead>\n",
       "    <tr style=\"text-align: right;\">\n",
       "      <th></th>\n",
       "      <th>hex_id_9</th>\n",
       "      <th>geometry</th>\n",
       "      <th>CVEGEO</th>\n",
       "      <th>NOMGEO</th>\n",
       "      <th>city</th>\n",
       "      <th>type</th>\n",
       "      <th>pobtot</th>\n",
       "    </tr>\n",
       "  </thead>\n",
       "  <tbody>\n",
       "    <tr>\n",
       "      <th>0</th>\n",
       "      <td>89498c96e0bffff</td>\n",
       "      <td>POLYGON ((-103.35267 20.66765, -103.35145 20.6...</td>\n",
       "      <td>14039</td>\n",
       "      <td>Guadalajara</td>\n",
       "      <td>Guadalajara</td>\n",
       "      <td>urban</td>\n",
       "      <td>975.0</td>\n",
       "    </tr>\n",
       "    <tr>\n",
       "      <th>82</th>\n",
       "      <td>89498c96ecfffff</td>\n",
       "      <td>POLYGON ((-103.35003 20.66229, -103.34881 20.6...</td>\n",
       "      <td>14039</td>\n",
       "      <td>Guadalajara</td>\n",
       "      <td>Guadalajara</td>\n",
       "      <td>urban</td>\n",
       "      <td>975.0</td>\n",
       "    </tr>\n",
       "    <tr>\n",
       "      <th>333</th>\n",
       "      <td>89498c96e47ffff</td>\n",
       "      <td>POLYGON ((-103.34935 20.66910, -103.34813 20.6...</td>\n",
       "      <td>14039</td>\n",
       "      <td>Guadalajara</td>\n",
       "      <td>Guadalajara</td>\n",
       "      <td>urban</td>\n",
       "      <td>975.0</td>\n",
       "    </tr>\n",
       "    <tr>\n",
       "      <th>389</th>\n",
       "      <td>89498c96e1bffff</td>\n",
       "      <td>POLYGON ((-103.35301 20.66425, -103.35179 20.6...</td>\n",
       "      <td>14039</td>\n",
       "      <td>Guadalajara</td>\n",
       "      <td>Guadalajara</td>\n",
       "      <td>urban</td>\n",
       "      <td>975.0</td>\n",
       "    </tr>\n",
       "    <tr>\n",
       "      <th>721</th>\n",
       "      <td>89498c96e57ffff</td>\n",
       "      <td>POLYGON ((-103.34969 20.66569, -103.34847 20.6...</td>\n",
       "      <td>14039</td>\n",
       "      <td>Guadalajara</td>\n",
       "      <td>Guadalajara</td>\n",
       "      <td>urban</td>\n",
       "      <td>975.0</td>\n",
       "    </tr>\n",
       "  </tbody>\n",
       "</table>\n",
       "</div>"
      ],
      "text/plain": [
       "            hex_id_9                                           geometry  \\\n",
       "0    89498c96e0bffff  POLYGON ((-103.35267 20.66765, -103.35145 20.6...   \n",
       "82   89498c96ecfffff  POLYGON ((-103.35003 20.66229, -103.34881 20.6...   \n",
       "333  89498c96e47ffff  POLYGON ((-103.34935 20.66910, -103.34813 20.6...   \n",
       "389  89498c96e1bffff  POLYGON ((-103.35301 20.66425, -103.35179 20.6...   \n",
       "721  89498c96e57ffff  POLYGON ((-103.34969 20.66569, -103.34847 20.6...   \n",
       "\n",
       "    CVEGEO       NOMGEO         city   type  pobtot  \n",
       "0    14039  Guadalajara  Guadalajara  urban   975.0  \n",
       "82   14039  Guadalajara  Guadalajara  urban   975.0  \n",
       "333  14039  Guadalajara  Guadalajara  urban   975.0  \n",
       "389  14039  Guadalajara  Guadalajara  urban   975.0  \n",
       "721  14039  Guadalajara  Guadalajara  urban   975.0  "
      ]
     },
     "execution_count": 129,
     "metadata": {},
     "output_type": "execute_result"
    }
   ],
   "source": [
    "inter_join.drop(columns=['index_right', 'hex_id_9_right'], inplace=True)\n",
    "inter_join.rename(columns={\"hex_id_9_left\": \"hex_id_9\"}, inplace=True)\n",
    "inter_join.head()"
   ]
  },
  {
   "cell_type": "code",
   "execution_count": 136,
   "id": "0220b225-3aa6-4955-9136-4ff3dae72709",
   "metadata": {},
   "outputs": [
    {
     "data": {
      "text/plain": [
       "hex_id_9    0\n",
       "geometry    0\n",
       "CVEGEO      0\n",
       "NOMGEO      0\n",
       "city        0\n",
       "type        0\n",
       "pobtot      0\n",
       "dtype: int64"
      ]
     },
     "execution_count": 136,
     "metadata": {},
     "output_type": "execute_result"
    }
   ],
   "source": [
    "pd.isna(inter_join).sum()"
   ]
  },
  {
   "cell_type": "code",
   "execution_count": 143,
   "id": "1c33031b-104a-4e0a-9e3d-74d9155b44b2",
   "metadata": {},
   "outputs": [
    {
     "data": {
      "text/html": [
       "<div>\n",
       "<style scoped>\n",
       "    .dataframe tbody tr th:only-of-type {\n",
       "        vertical-align: middle;\n",
       "    }\n",
       "\n",
       "    .dataframe tbody tr th {\n",
       "        vertical-align: top;\n",
       "    }\n",
       "\n",
       "    .dataframe thead th {\n",
       "        text-align: right;\n",
       "    }\n",
       "</style>\n",
       "<table border=\"1\" class=\"dataframe\">\n",
       "  <thead>\n",
       "    <tr style=\"text-align: right;\">\n",
       "      <th></th>\n",
       "      <th>hex_id_9</th>\n",
       "      <th>geometry</th>\n",
       "      <th>CVEGEO</th>\n",
       "      <th>NOMGEO</th>\n",
       "      <th>city</th>\n",
       "      <th>type</th>\n",
       "      <th>pobtot</th>\n",
       "      <th>EspPublico</th>\n",
       "    </tr>\n",
       "  </thead>\n",
       "  <tbody>\n",
       "    <tr>\n",
       "      <th>0</th>\n",
       "      <td>89498c96e0bffff</td>\n",
       "      <td>POLYGON ((-103.35267 20.66765, -103.35145 20.6...</td>\n",
       "      <td>14039</td>\n",
       "      <td>Guadalajara</td>\n",
       "      <td>Guadalajara</td>\n",
       "      <td>urban</td>\n",
       "      <td>975.0</td>\n",
       "      <td>0</td>\n",
       "    </tr>\n",
       "    <tr>\n",
       "      <th>82</th>\n",
       "      <td>89498c96ecfffff</td>\n",
       "      <td>POLYGON ((-103.35003 20.66229, -103.34881 20.6...</td>\n",
       "      <td>14039</td>\n",
       "      <td>Guadalajara</td>\n",
       "      <td>Guadalajara</td>\n",
       "      <td>urban</td>\n",
       "      <td>975.0</td>\n",
       "      <td>0</td>\n",
       "    </tr>\n",
       "    <tr>\n",
       "      <th>333</th>\n",
       "      <td>89498c96e47ffff</td>\n",
       "      <td>POLYGON ((-103.34935 20.66910, -103.34813 20.6...</td>\n",
       "      <td>14039</td>\n",
       "      <td>Guadalajara</td>\n",
       "      <td>Guadalajara</td>\n",
       "      <td>urban</td>\n",
       "      <td>975.0</td>\n",
       "      <td>0</td>\n",
       "    </tr>\n",
       "    <tr>\n",
       "      <th>389</th>\n",
       "      <td>89498c96e1bffff</td>\n",
       "      <td>POLYGON ((-103.35301 20.66425, -103.35179 20.6...</td>\n",
       "      <td>14039</td>\n",
       "      <td>Guadalajara</td>\n",
       "      <td>Guadalajara</td>\n",
       "      <td>urban</td>\n",
       "      <td>975.0</td>\n",
       "      <td>0</td>\n",
       "    </tr>\n",
       "    <tr>\n",
       "      <th>721</th>\n",
       "      <td>89498c96e57ffff</td>\n",
       "      <td>POLYGON ((-103.34969 20.66569, -103.34847 20.6...</td>\n",
       "      <td>14039</td>\n",
       "      <td>Guadalajara</td>\n",
       "      <td>Guadalajara</td>\n",
       "      <td>urban</td>\n",
       "      <td>975.0</td>\n",
       "      <td>0</td>\n",
       "    </tr>\n",
       "  </tbody>\n",
       "</table>\n",
       "</div>"
      ],
      "text/plain": [
       "            hex_id_9                                           geometry  \\\n",
       "0    89498c96e0bffff  POLYGON ((-103.35267 20.66765, -103.35145 20.6...   \n",
       "82   89498c96ecfffff  POLYGON ((-103.35003 20.66229, -103.34881 20.6...   \n",
       "333  89498c96e47ffff  POLYGON ((-103.34935 20.66910, -103.34813 20.6...   \n",
       "389  89498c96e1bffff  POLYGON ((-103.35301 20.66425, -103.35179 20.6...   \n",
       "721  89498c96e57ffff  POLYGON ((-103.34969 20.66569, -103.34847 20.6...   \n",
       "\n",
       "    CVEGEO       NOMGEO         city   type  pobtot  EspPublico  \n",
       "0    14039  Guadalajara  Guadalajara  urban   975.0           0  \n",
       "82   14039  Guadalajara  Guadalajara  urban   975.0           0  \n",
       "333  14039  Guadalajara  Guadalajara  urban   975.0           0  \n",
       "389  14039  Guadalajara  Guadalajara  urban   975.0           0  \n",
       "721  14039  Guadalajara  Guadalajara  urban   975.0           0  "
      ]
     },
     "execution_count": 143,
     "metadata": {},
     "output_type": "execute_result"
    }
   ],
   "source": [
    "gdf_sindex = gdf.sindex\n",
    "\n",
    "# Create a Series of boolean values indicating which hexagons intersect with public spaces\n",
    "intersects_public_spaces = inter_join['geometry'].apply(lambda geom: any(gdf_sindex.query(geom)))\n",
    "\n",
    "inter_join['EspPublico'] = intersects_public_spaces.astype(int)\n",
    "inter_join.head()"
   ]
  },
  {
   "cell_type": "code",
   "execution_count": 150,
   "id": "0989f57a-de98-432c-b026-483cc49ada7e",
   "metadata": {},
   "outputs": [
    {
     "name": "stdout",
     "output_type": "stream",
     "text": [
      "Números de hexagonos sin Espacios Públicos: 49764 \n",
      "Número de Hexágonos con Espacios Públicos: 30868\n",
      "Número total de Hexágonos: 80632\n"
     ]
    }
   ],
   "source": [
    "cont_ceros_join = np.sum(hex_gdl_pob['EspPublico'] == 0)\n",
    "cont_uno_join = np.sum(hex_gdl_pob['EspPublico'])\n",
    "print(f'Números de hexagonos sin Espacios Públicos: {cont_ceros_interj} \\nNúmero de Hexágonos con Espacios Públicos: {cont_uno_interj}\\nNúmero total de Hexágonos: {cont_ceros_interj + cont_uno_interj}')"
   ]
  },
  {
   "cell_type": "markdown",
   "id": "a7c01231-bea4-45df-9976-e876b4a4eebf",
   "metadata": {},
   "source": [
    "## Submuestreo población"
   ]
  },
  {
   "cell_type": "code",
   "execution_count": 146,
   "id": "7c2f7dfa-c16c-4ce8-b82b-a9904e18dffe",
   "metadata": {},
   "outputs": [
    {
     "data": {
      "text/html": [
       "<div>\n",
       "<style scoped>\n",
       "    .dataframe tbody tr th:only-of-type {\n",
       "        vertical-align: middle;\n",
       "    }\n",
       "\n",
       "    .dataframe tbody tr th {\n",
       "        vertical-align: top;\n",
       "    }\n",
       "\n",
       "    .dataframe thead th {\n",
       "        text-align: right;\n",
       "    }\n",
       "</style>\n",
       "<table border=\"1\" class=\"dataframe\">\n",
       "  <thead>\n",
       "    <tr style=\"text-align: right;\">\n",
       "      <th></th>\n",
       "      <th>hex_id_9</th>\n",
       "      <th>geometry</th>\n",
       "      <th>CVEGEO</th>\n",
       "      <th>NOMGEO</th>\n",
       "      <th>city</th>\n",
       "      <th>type</th>\n",
       "      <th>pobtot</th>\n",
       "      <th>EspPublico</th>\n",
       "    </tr>\n",
       "  </thead>\n",
       "  <tbody>\n",
       "    <tr>\n",
       "      <th>0</th>\n",
       "      <td>8949958518bffff</td>\n",
       "      <td>POLYGON ((-99.11824 19.30248, -99.11700 19.304...</td>\n",
       "      <td>09003</td>\n",
       "      <td>Coyoacán</td>\n",
       "      <td>CDMX</td>\n",
       "      <td>urban</td>\n",
       "      <td>1007.0</td>\n",
       "      <td>1</td>\n",
       "    </tr>\n",
       "    <tr>\n",
       "      <th>1</th>\n",
       "      <td>89499585b53ffff</td>\n",
       "      <td>POLYGON ((-99.12210 19.36758, -99.12086 19.369...</td>\n",
       "      <td>09007</td>\n",
       "      <td>Iztapalapa</td>\n",
       "      <td>CDMX</td>\n",
       "      <td>urban</td>\n",
       "      <td>2065.0</td>\n",
       "      <td>1</td>\n",
       "    </tr>\n",
       "    <tr>\n",
       "      <th>2</th>\n",
       "      <td>89499585287ffff</td>\n",
       "      <td>POLYGON ((-99.08155 19.29861, -99.08031 19.300...</td>\n",
       "      <td>09007</td>\n",
       "      <td>Iztapalapa</td>\n",
       "      <td>CDMX</td>\n",
       "      <td>urban</td>\n",
       "      <td>1755.0</td>\n",
       "      <td>1</td>\n",
       "    </tr>\n",
       "    <tr>\n",
       "      <th>3</th>\n",
       "      <td>8949958eb2fffff</td>\n",
       "      <td>POLYGON ((-99.07006 19.38592, -99.06882 19.387...</td>\n",
       "      <td>09006</td>\n",
       "      <td>Iztacalco</td>\n",
       "      <td>CDMX</td>\n",
       "      <td>urban</td>\n",
       "      <td>3394.0</td>\n",
       "      <td>1</td>\n",
       "    </tr>\n",
       "    <tr>\n",
       "      <th>4</th>\n",
       "      <td>8949958455bffff</td>\n",
       "      <td>POLYGON ((-99.17397 19.27941, -99.17273 19.280...</td>\n",
       "      <td>09012</td>\n",
       "      <td>Tlalpan</td>\n",
       "      <td>CDMX</td>\n",
       "      <td>urban</td>\n",
       "      <td>1429.0</td>\n",
       "      <td>1</td>\n",
       "    </tr>\n",
       "  </tbody>\n",
       "</table>\n",
       "</div>"
      ],
      "text/plain": [
       "          hex_id_9                                           geometry CVEGEO  \\\n",
       "0  8949958518bffff  POLYGON ((-99.11824 19.30248, -99.11700 19.304...  09003   \n",
       "1  89499585b53ffff  POLYGON ((-99.12210 19.36758, -99.12086 19.369...  09007   \n",
       "2  89499585287ffff  POLYGON ((-99.08155 19.29861, -99.08031 19.300...  09007   \n",
       "3  8949958eb2fffff  POLYGON ((-99.07006 19.38592, -99.06882 19.387...  09006   \n",
       "4  8949958455bffff  POLYGON ((-99.17397 19.27941, -99.17273 19.280...  09012   \n",
       "\n",
       "       NOMGEO  city   type  pobtot  EspPublico  \n",
       "0    Coyoacán  CDMX  urban  1007.0           1  \n",
       "1  Iztapalapa  CDMX  urban  2065.0           1  \n",
       "2  Iztapalapa  CDMX  urban  1755.0           1  \n",
       "3   Iztacalco  CDMX  urban  3394.0           1  \n",
       "4     Tlalpan  CDMX  urban  1429.0           1  "
      ]
     },
     "execution_count": 146,
     "metadata": {},
     "output_type": "execute_result"
    }
   ],
   "source": [
    "num_samples_join = len(inter_join[inter_join['EspPublico'] == 1])\n",
    "\n",
    "# Randomly sample 80632 hexagons with public spaces\n",
    "sample_with_public_spaces_join = inter_join[inter_join['EspPublico'] == 1].sample(n=num_samples_join, random_state=42)\n",
    "\n",
    "# Randomly sample 80632 hexagons without public spaces\n",
    "sample_without_public_spaces_join = inter_join[inter_join['EspPublico'] == 0].sample(n=num_samples_join, random_state=42)\n",
    "\n",
    "# Concatenate the two samples to get the final subsample\n",
    "inter_join = pd.concat([sample_with_public_spaces_join, sample_without_public_spaces_join])\n",
    "inter_join.reset_index(drop = True, inplace = True)\n",
    "inter_join.head()"
   ]
  },
  {
   "cell_type": "code",
   "execution_count": 151,
   "id": "a0975d74-75ff-4515-84ae-4e477b4ec6cf",
   "metadata": {},
   "outputs": [
    {
     "name": "stdout",
     "output_type": "stream",
     "text": [
      "Números de hexagonos sin Espacios Públicos: 30868 \n",
      "Número de Hexágonos con Espacios Públicos: 30868\n",
      "Número total de Hexágonos: 61736\n"
     ]
    }
   ],
   "source": [
    "contador_ceros_join = np.sum(inter_join['EspPublico'] == 0)\n",
    "contador_uno_join = np.sum(inter_join['EspPublico'])\n",
    "print(f'Números de hexagonos sin Espacios Públicos: {contador_ceros_join} \\nNúmero de Hexágonos con Espacios Públicos: {contador_uno_join}\\nNúmero total de Hexágonos: {contador_ceros_join + contador_uno_join}')"
   ]
  },
  {
   "cell_type": "code",
   "execution_count": 149,
   "id": "28d4905b-d6c2-4320-a0c7-1d5aa4a6fa53",
   "metadata": {},
   "outputs": [
    {
     "data": {
      "text/plain": [
       "(61736, 8)"
      ]
     },
     "execution_count": 149,
     "metadata": {},
     "output_type": "execute_result"
    }
   ],
   "source": [
    "inter_join.shape"
   ]
  },
  {
   "cell_type": "markdown",
   "id": "f4db4f19-329e-40c9-8e71-6af02f3eebbb",
   "metadata": {},
   "source": [
    "## Clasificadores con población"
   ]
  },
  {
   "cell_type": "code",
   "execution_count": 152,
   "id": "9a1e84f0-61e3-4847-933d-6e60cc3d5635",
   "metadata": {},
   "outputs": [],
   "source": [
    "inter_join.drop(columns=['NOMGEO', 'CVEGEO'], inplace=True)"
   ]
  },
  {
   "cell_type": "code",
   "execution_count": 155,
   "id": "343f0cdd-0802-4763-b86c-fa94760fe833",
   "metadata": {},
   "outputs": [],
   "source": [
    "xx = inter_join[[\"pobtot\"]]\n",
    "yy = inter_join['EspPublico']"
   ]
  },
  {
   "cell_type": "code",
   "execution_count": 156,
   "id": "9f74238f-d6c1-4d57-89fc-bd10b8b2bed9",
   "metadata": {},
   "outputs": [
    {
     "data": {
      "text/plain": [
       "array([1, 0])"
      ]
     },
     "execution_count": 156,
     "metadata": {},
     "output_type": "execute_result"
    }
   ],
   "source": [
    "yy.unique()"
   ]
  },
  {
   "cell_type": "markdown",
   "id": "7bd105f0-1a09-4b33-a251-7a3bb36c513e",
   "metadata": {},
   "source": [
    "## Logistic Regression"
   ]
  },
  {
   "cell_type": "code",
   "execution_count": 157,
   "id": "3ca07da3-5f27-4400-a7ce-9ac46aaad59a",
   "metadata": {},
   "outputs": [],
   "source": [
    "# Suponiendo que x y y ya están definidos\n",
    "x_train, x_test, y_train, y_test = train_test_split(xx, yy, test_size=0.2, random_state=42)\n",
    "\n",
    "# Reemplazar valores infinitos por NaN\n",
    "x_train.replace([np.inf, -np.inf], np.nan, inplace=True)\n",
    "x_test.replace([np.inf, -np.inf], np.nan, inplace=True)\n",
    "\n",
    "# Combinar x y y para eliminar filas con NaN de forma coherente\n",
    "train_data = x_train.copy()\n",
    "train_data['target'] = y_train  # Asegúrate de que 'target' sea el nombre de tu columna objetivo\n",
    "\n",
    "# Eliminar filas con NaN en el conjunto de entrenamiento\n",
    "train_data.dropna(inplace=True)\n",
    "\n",
    "# Ahora separa de nuevo x_train y y_train\n",
    "x_train_clean = train_data.drop(columns=['target'])\n",
    "y_train_clean = train_data['target']\n",
    "\n",
    "# Hacer lo mismo para el conjunto de prueba\n",
    "test_data = x_test.copy()\n",
    "test_data['target'] = y_test\n",
    "test_data.dropna(inplace=True)\n",
    "\n",
    "# Asegurarte de que el conjunto de prueba no tenga NaN\n",
    "x_test_clean = test_data.drop(columns=['target'])\n",
    "y_test_clean = test_data['target']\n",
    "\n",
    "# Escalar los datos\n",
    "scaler = StandardScaler()\n",
    "x_train_scale = scaler.fit_transform(x_train_clean)\n",
    "x_test_scale = scaler.transform(x_test_clean)"
   ]
  },
  {
   "cell_type": "code",
   "execution_count": 158,
   "id": "63362561-347d-44ba-96bc-1f1a17dd4438",
   "metadata": {},
   "outputs": [
    {
     "data": {
      "image/png": "[encoded data removed]",
      "text/plain": [
       "<Figure size 1000x700 with 2 Axes>"
      ]
     },
     "metadata": {},
     "output_type": "display_data"
    }
   ],
   "source": [
    "clf2 = LogisticRegression()\n",
    "clf2.fit(x_train_scale, y_train_clean)\n",
    "\n",
    "y_pred = clf2.predict(x_test_scale)\n",
    "\n",
    "#Generar matriz de confusión:\n",
    "cm2 = confusion_matrix(y_test_clean, y_pred)\n",
    "class_labels = ['Espacio Público', 'No Espacio Público']\n",
    "\n",
    "plt.figure(figsize=(10, 7))\n",
    "sns.heatmap(cm2, annot=True, fmt=\"g\", cmap=\"Blues\", xticklabels=class_labels, yticklabels=class_labels)\n",
    "plt.xlabel('Predicted', fontsize=12, fontweight='bold')\n",
    "plt.ylabel('Actual', fontsize=12, fontweight='bold')\n",
    "plt.title('Matriz de Confusión', fontsize=15, fontweight='bold')\n",
    "plt.show()"
   ]
  },
  {
   "cell_type": "code",
   "execution_count": 159,
   "id": "19e076c5-1d8d-44e5-8484-0129161a19e3",
   "metadata": {},
   "outputs": [
    {
     "name": "stdout",
     "output_type": "stream",
     "text": [
      "Accuracy: 0.6331389698736638\n"
     ]
    }
   ],
   "source": [
    "accuracy = accuracy_score(y_test_clean, y_pred)\n",
    "print(f'Accuracy: {accuracy}')"
   ]
  },
  {
   "cell_type": "code",
   "execution_count": 160,
   "id": "1e833442-b17d-432f-97d2-f30d8193ff62",
   "metadata": {},
   "outputs": [
    {
     "name": "stdout",
     "output_type": "stream",
     "text": [
      "              precision    recall  f1-score   support\n",
      "\n",
      "           0       0.62      0.69      0.65      6201\n",
      "           1       0.65      0.57      0.61      6147\n",
      "\n",
      "    accuracy                           0.63     12348\n",
      "   macro avg       0.63      0.63      0.63     12348\n",
      "weighted avg       0.63      0.63      0.63     12348\n",
      "\n"
     ]
    }
   ],
   "source": [
    "print(classification_report(y_test_clean, y_pred))"
   ]
  },
  {
   "cell_type": "markdown",
   "id": "3372eeab-a5e5-4748-ae1a-ad3774db22ad",
   "metadata": {},
   "source": [
    "## Naive Bayes"
   ]
  },
  {
   "cell_type": "code",
   "execution_count": 161,
   "id": "a8b2c10f-75cd-450f-a3d3-be613d91ab63",
   "metadata": {},
   "outputs": [
    {
     "data": {
      "text/html": [
       "<style>#sk-container-id-5 {color: black;}#sk-container-id-5 pre{padding: 0;}#sk-container-id-5 div.sk-toggleable {background-color: white;}#sk-container-id-5 label.sk-toggleable__label {cursor: pointer;display: block;width: 100%;margin-bottom: 0;padding: 0.3em;box-sizing: border-box;text-align: center;}#sk-container-id-5 label.sk-toggleable__label-arrow:before {content: \"▸\";float: left;margin-right: 0.25em;color: #696969;}#sk-container-id-5 label.sk-toggleable__label-arrow:hover:before {color: black;}#sk-container-id-5 div.sk-estimator:hover label.sk-toggleable__label-arrow:before {color: black;}#sk-container-id-5 div.sk-toggleable__content {max-height: 0;max-width: 0;overflow: hidden;text-align: left;background-color: #f0f8ff;}#sk-container-id-5 div.sk-toggleable__content pre {margin: 0.2em;color: black;border-radius: 0.25em;background-color: #f0f8ff;}#sk-container-id-5 input.sk-toggleable__control:checked~div.sk-toggleable__content {max-height: 200px;max-width: 100%;overflow: auto;}#sk-container-id-5 input.sk-toggleable__control:checked~label.sk-toggleable__label-arrow:before {content: \"▾\";}#sk-container-id-5 div.sk-estimator input.sk-toggleable__control:checked~label.sk-toggleable__label {background-color: #d4ebff;}#sk-container-id-5 div.sk-label input.sk-toggleable__control:checked~label.sk-toggleable__label {background-color: #d4ebff;}#sk-container-id-5 input.sk-hidden--visually {border: 0;clip: rect(1px 1px 1px 1px);clip: rect(1px, 1px, 1px, 1px);height: 1px;margin: -1px;overflow: hidden;padding: 0;position: absolute;width: 1px;}#sk-container-id-5 div.sk-estimator {font-family: monospace;background-color: #f0f8ff;border: 1px dotted black;border-radius: 0.25em;box-sizing: border-box;margin-bottom: 0.5em;}#sk-container-id-5 div.sk-estimator:hover {background-color: #d4ebff;}#sk-container-id-5 div.sk-parallel-item::after {content: \"\";width: 100%;border-bottom: 1px solid gray;flex-grow: 1;}#sk-container-id-5 div.sk-label:hover label.sk-toggleable__label {background-color: #d4ebff;}#sk-container-id-5 div.sk-serial::before {content: \"\";position: absolute;border-left: 1px solid gray;box-sizing: border-box;top: 0;bottom: 0;left: 50%;z-index: 0;}#sk-container-id-5 div.sk-serial {display: flex;flex-direction: column;align-items: center;background-color: white;padding-right: 0.2em;padding-left: 0.2em;position: relative;}#sk-container-id-5 div.sk-item {position: relative;z-index: 1;}#sk-container-id-5 div.sk-parallel {display: flex;align-items: stretch;justify-content: center;background-color: white;position: relative;}#sk-container-id-5 div.sk-item::before, #sk-container-id-5 div.sk-parallel-item::before {content: \"\";position: absolute;border-left: 1px solid gray;box-sizing: border-box;top: 0;bottom: 0;left: 50%;z-index: -1;}#sk-container-id-5 div.sk-parallel-item {display: flex;flex-direction: column;z-index: 1;position: relative;background-color: white;}#sk-container-id-5 div.sk-parallel-item:first-child::after {align-self: flex-end;width: 50%;}#sk-container-id-5 div.sk-parallel-item:last-child::after {align-self: flex-start;width: 50%;}#sk-container-id-5 div.sk-parallel-item:only-child::after {width: 0;}#sk-container-id-5 div.sk-dashed-wrapped {border: 1px dashed gray;margin: 0 0.4em 0.5em 0.4em;box-sizing: border-box;padding-bottom: 0.4em;background-color: white;}#sk-container-id-5 div.sk-label label {font-family: monospace;font-weight: bold;display: inline-block;line-height: 1.2em;}#sk-container-id-5 div.sk-label-container {text-align: center;}#sk-container-id-5 div.sk-container {/* jupyter's `normalize.less` sets `[hidden] { display: none; }` but bootstrap.min.css set `[hidden] { display: none !important; }` so we also need the `!important` here to be able to override the default hidden behavior on the sphinx rendered scikit-learn.org. See: https://github.com/scikit-learn/scikit-learn/issues/21755 */display: inline-block !important;position: relative;}#sk-container-id-5 div.sk-text-repr-fallback {display: none;}</style><div id=\"sk-container-id-5\" class=\"sk-top-container\"><div class=\"sk-text-repr-fallback\"><pre>GaussianNB()</pre><b>In a Jupyter environment, please rerun this cell to show the HTML representation or trust the notebook. <br />On GitHub, the HTML representation is unable to render, please try loading this page with nbviewer.org.</b></div><div class=\"sk-container\" hidden><div class=\"sk-item\"><div class=\"sk-estimator sk-toggleable\"><input class=\"sk-toggleable__control sk-hidden--visually\" id=\"sk-estimator-id-5\" type=\"checkbox\" checked><label for=\"sk-estimator-id-5\" class=\"sk-toggleable__label sk-toggleable__label-arrow\">GaussianNB</label><div class=\"sk-toggleable__content\"><pre>GaussianNB()</pre></div></div></div></div></div>"
      ],
      "text/plain": [
       "GaussianNB()"
      ]
     },
     "execution_count": 161,
     "metadata": {},
     "output_type": "execute_result"
    }
   ],
   "source": [
    "nb2 = GaussianNB()\n",
    "nb2.fit(x_train_scale, y_train_clean)"
   ]
  },
  {
   "cell_type": "code",
   "execution_count": 162,
   "id": "03243e45-a242-47ea-87a3-4d94f9bf1d9f",
   "metadata": {},
   "outputs": [
    {
     "data": {
      "image/png": "[encoded data removed]",
      "text/plain": [
       "<Figure size 1000x700 with 2 Axes>"
      ]
     },
     "metadata": {},
     "output_type": "display_data"
    }
   ],
   "source": [
    "y_prend = nb2.predict(x_test_clean)\n",
    "cm2 = confusion_matrix(y_test_clean, y_prend)\n",
    "class_labels = ['Espacio Público', 'No Espacio Público']\n",
    "plt.figure(figsize = (10,7))\n",
    "sns.heatmap(cm2, annot = True, fmt = \"g\", cmap=\"Reds\", xticklabels=class_labels, yticklabels=class_labels)\n",
    "plt.xlabel('Predicted', fontsize = 12, fontweight  = 'bold')\n",
    "plt.ylabel('Actual', fontsize = 12, fontweight  = 'bold')\n",
    "plt.title('Matriz de Confusión', fontsize = 15, fontweight = 'bold')\n",
    "plt.show()"
   ]
  },
  {
   "cell_type": "code",
   "execution_count": 163,
   "id": "94937362-84cb-4877-8adc-e91806bd3b37",
   "metadata": {},
   "outputs": [
    {
     "name": "stdout",
     "output_type": "stream",
     "text": [
      "Accuracy: 0.500728862973761\n"
     ]
    }
   ],
   "source": [
    "accuracy = accuracy_score(y_test_clean, y_prend)\n",
    "print(f'Accuracy: {accuracy}')"
   ]
  },
  {
   "cell_type": "code",
   "execution_count": 164,
   "id": "25e1f036-a33c-4045-b727-607cac687551",
   "metadata": {},
   "outputs": [
    {
     "name": "stdout",
     "output_type": "stream",
     "text": [
      "              precision    recall  f1-score   support\n",
      "\n",
      "           0       0.55      0.03      0.06      6201\n",
      "           1       0.50      0.97      0.66      6147\n",
      "\n",
      "    accuracy                           0.50     12348\n",
      "   macro avg       0.52      0.50      0.36     12348\n",
      "weighted avg       0.52      0.50      0.36     12348\n",
      "\n"
     ]
    }
   ],
   "source": [
    "print(classification_report(y_test_clean, y_prend))"
   ]
  },
  {
   "cell_type": "markdown",
   "id": "f288cb0b-732d-482c-b3f5-07371b77c4ea",
   "metadata": {},
   "source": [
    "## Random Forest Classifier (RFC)"
   ]
  },
  {
   "cell_type": "code",
   "execution_count": 165,
   "id": "cc427b2f-00ea-4b6f-93c1-6e59f68adf89",
   "metadata": {},
   "outputs": [],
   "source": [
    "rf2 = RandomForestClassifier(n_estimators=120, random_state=42)  \n",
    "rf2.fit(x_train_scale, y_train_clean)\n",
    "\n",
    "# Realizar predicciones en el conjunto de prueba\n",
    "y_predd = rf2.predict(x_test_clean)"
   ]
  },
  {
   "cell_type": "code",
   "execution_count": 166,
   "id": "92eab99f-25e6-4bbc-8537-dc14e568dbaa",
   "metadata": {},
   "outputs": [
    {
     "data": {
      "image/png": "[encoded data removed]",
      "text/plain": [
       "<Figure size 1000x700 with 2 Axes>"
      ]
     },
     "metadata": {},
     "output_type": "display_data"
    }
   ],
   "source": [
    "cm2 = confusion_matrix(y_test_clean, y_predd)\n",
    "class_labels = ['Espacio Verde Público', 'No Espacio Verde Público']\n",
    "plt.figure(figsize = (10,7))\n",
    "sns.heatmap(cm2, annot = True, fmt = \"g\", cmap=\"Greens\", xticklabels=class_labels, yticklabels=class_labels)\n",
    "plt.xlabel('Predicted', fontsize = 12, fontweight  = 'bold')\n",
    "plt.ylabel('Actual', fontsize = 12, fontweight  = 'bold')\n",
    "plt.title('Matriz de Confusión', fontsize = 15, fontweight = 'bold')\n",
    "plt.show()"
   ]
  },
  {
   "cell_type": "code",
   "execution_count": 167,
   "id": "e88570a9-f729-4262-a520-1367976ac5ee",
   "metadata": {},
   "outputs": [
    {
     "name": "stdout",
     "output_type": "stream",
     "text": [
      "Accuracy: 0.5017816650469712\n"
     ]
    }
   ],
   "source": [
    "accuracy = accuracy_score(y_test_clean, y_predd)\n",
    "print(f'Accuracy: {accuracy}')"
   ]
  },
  {
   "cell_type": "code",
   "execution_count": 168,
   "id": "e6a96aa2-9aa3-4599-b3df-66c7a44069f3",
   "metadata": {},
   "outputs": [
    {
     "name": "stdout",
     "output_type": "stream",
     "text": [
      "              precision    recall  f1-score   support\n",
      "\n",
      "           0       0.56      0.04      0.07      6201\n",
      "           1       0.50      0.97      0.66      6147\n",
      "\n",
      "    accuracy                           0.50     12348\n",
      "   macro avg       0.53      0.50      0.36     12348\n",
      "weighted avg       0.53      0.50      0.36     12348\n",
      "\n"
     ]
    }
   ],
   "source": [
    "print(classification_report(y_test_clean, y_predd))"
   ]
  },
  {
   "cell_type": "markdown",
   "id": "7f1c61e7-d426-44a2-80de-34044d9295d8",
   "metadata": {},
   "source": [
    "## Ada Boost Classifier"
   ]
  },
  {
   "cell_type": "code",
   "execution_count": 175,
   "id": "95e980ea-3eb8-4e26-a688-f5a7dd84ad7a",
   "metadata": {},
   "outputs": [
    {
     "data": {
      "text/html": [
       "<style>#sk-container-id-8 {color: black;}#sk-container-id-8 pre{padding: 0;}#sk-container-id-8 div.sk-toggleable {background-color: white;}#sk-container-id-8 label.sk-toggleable__label {cursor: pointer;display: block;width: 100%;margin-bottom: 0;padding: 0.3em;box-sizing: border-box;text-align: center;}#sk-container-id-8 label.sk-toggleable__label-arrow:before {content: \"▸\";float: left;margin-right: 0.25em;color: #696969;}#sk-container-id-8 label.sk-toggleable__label-arrow:hover:before {color: black;}#sk-container-id-8 div.sk-estimator:hover label.sk-toggleable__label-arrow:before {color: black;}#sk-container-id-8 div.sk-toggleable__content {max-height: 0;max-width: 0;overflow: hidden;text-align: left;background-color: #f0f8ff;}#sk-container-id-8 div.sk-toggleable__content pre {margin: 0.2em;color: black;border-radius: 0.25em;background-color: #f0f8ff;}#sk-container-id-8 input.sk-toggleable__control:checked~div.sk-toggleable__content {max-height: 200px;max-width: 100%;overflow: auto;}#sk-container-id-8 input.sk-toggleable__control:checked~label.sk-toggleable__label-arrow:before {content: \"▾\";}#sk-container-id-8 div.sk-estimator input.sk-toggleable__control:checked~label.sk-toggleable__label {background-color: #d4ebff;}#sk-container-id-8 div.sk-label input.sk-toggleable__control:checked~label.sk-toggleable__label {background-color: #d4ebff;}#sk-container-id-8 input.sk-hidden--visually {border: 0;clip: rect(1px 1px 1px 1px);clip: rect(1px, 1px, 1px, 1px);height: 1px;margin: -1px;overflow: hidden;padding: 0;position: absolute;width: 1px;}#sk-container-id-8 div.sk-estimator {font-family: monospace;background-color: #f0f8ff;border: 1px dotted black;border-radius: 0.25em;box-sizing: border-box;margin-bottom: 0.5em;}#sk-container-id-8 div.sk-estimator:hover {background-color: #d4ebff;}#sk-container-id-8 div.sk-parallel-item::after {content: \"\";width: 100%;border-bottom: 1px solid gray;flex-grow: 1;}#sk-container-id-8 div.sk-label:hover label.sk-toggleable__label {background-color: #d4ebff;}#sk-container-id-8 div.sk-serial::before {content: \"\";position: absolute;border-left: 1px solid gray;box-sizing: border-box;top: 0;bottom: 0;left: 50%;z-index: 0;}#sk-container-id-8 div.sk-serial {display: flex;flex-direction: column;align-items: center;background-color: white;padding-right: 0.2em;padding-left: 0.2em;position: relative;}#sk-container-id-8 div.sk-item {position: relative;z-index: 1;}#sk-container-id-8 div.sk-parallel {display: flex;align-items: stretch;justify-content: center;background-color: white;position: relative;}#sk-container-id-8 div.sk-item::before, #sk-container-id-8 div.sk-parallel-item::before {content: \"\";position: absolute;border-left: 1px solid gray;box-sizing: border-box;top: 0;bottom: 0;left: 50%;z-index: -1;}#sk-container-id-8 div.sk-parallel-item {display: flex;flex-direction: column;z-index: 1;position: relative;background-color: white;}#sk-container-id-8 div.sk-parallel-item:first-child::after {align-self: flex-end;width: 50%;}#sk-container-id-8 div.sk-parallel-item:last-child::after {align-self: flex-start;width: 50%;}#sk-container-id-8 div.sk-parallel-item:only-child::after {width: 0;}#sk-container-id-8 div.sk-dashed-wrapped {border: 1px dashed gray;margin: 0 0.4em 0.5em 0.4em;box-sizing: border-box;padding-bottom: 0.4em;background-color: white;}#sk-container-id-8 div.sk-label label {font-family: monospace;font-weight: bold;display: inline-block;line-height: 1.2em;}#sk-container-id-8 div.sk-label-container {text-align: center;}#sk-container-id-8 div.sk-container {/* jupyter's `normalize.less` sets `[hidden] { display: none; }` but bootstrap.min.css set `[hidden] { display: none !important; }` so we also need the `!important` here to be able to override the default hidden behavior on the sphinx rendered scikit-learn.org. See: https://github.com/scikit-learn/scikit-learn/issues/21755 */display: inline-block !important;position: relative;}#sk-container-id-8 div.sk-text-repr-fallback {display: none;}</style><div id=\"sk-container-id-8\" class=\"sk-top-container\"><div class=\"sk-text-repr-fallback\"><pre>AdaBoostClassifier(n_estimators=100)</pre><b>In a Jupyter environment, please rerun this cell to show the HTML representation or trust the notebook. <br />On GitHub, the HTML representation is unable to render, please try loading this page with nbviewer.org.</b></div><div class=\"sk-container\" hidden><div class=\"sk-item\"><div class=\"sk-estimator sk-toggleable\"><input class=\"sk-toggleable__control sk-hidden--visually\" id=\"sk-estimator-id-8\" type=\"checkbox\" checked><label for=\"sk-estimator-id-8\" class=\"sk-toggleable__label sk-toggleable__label-arrow\">AdaBoostClassifier</label><div class=\"sk-toggleable__content\"><pre>AdaBoostClassifier(n_estimators=100)</pre></div></div></div></div></div>"
      ],
      "text/plain": [
       "AdaBoostClassifier(n_estimators=100)"
      ]
     },
     "execution_count": 175,
     "metadata": {},
     "output_type": "execute_result"
    }
   ],
   "source": [
    "model2 = AdaBoostClassifier(n_estimators = 100)\n",
    "model2.fit(x_train_scale, y_train_clean)"
   ]
  },
  {
   "cell_type": "code",
   "execution_count": 176,
   "id": "dc6c31fd-7ddb-4441-8ade-6de52b331fbe",
   "metadata": {},
   "outputs": [
    {
     "data": {
      "text/plain": [
       "array([1, 1, 1, ..., 1, 1, 1])"
      ]
     },
     "execution_count": 176,
     "metadata": {},
     "output_type": "execute_result"
    }
   ],
   "source": [
    "predictions2 = model2.predict(x_test_clean)\n",
    "predictions2"
   ]
  },
  {
   "cell_type": "code",
   "execution_count": 177,
   "id": "a1edaba5-92a2-4687-8ea1-fe4daa4ad7ee",
   "metadata": {},
   "outputs": [
    {
     "data": {
      "image/png": "[encoded data removed]",
      "text/plain": [
       "<Figure size 1000x700 with 2 Axes>"
      ]
     },
     "metadata": {},
     "output_type": "display_data"
    }
   ],
   "source": [
    "cm2 = confusion_matrix(y_test_clean, predictions2)\n",
    "class_labels = ['Espacio Verde Público', 'No Espacio Verde Público']\n",
    "plt.figure(figsize = (10,7))\n",
    "sns.heatmap(cm2, annot = True, fmt = \"g\", cmap=\"viridis\", xticklabels=class_labels, yticklabels=class_labels)\n",
    "plt.xlabel('Predicted', fontsize = 12, fontweight  = 'bold')\n",
    "plt.ylabel('Actual', fontsize = 12, fontweight  = 'bold')\n",
    "plt.title('Matriz de Confusión', fontsize = 15, fontweight = 'bold')\n",
    "plt.show()"
   ]
  },
  {
   "cell_type": "code",
   "execution_count": 178,
   "id": "55494b6c-fdda-4717-95d7-4a1e1081614b",
   "metadata": {},
   "outputs": [
    {
     "name": "stdout",
     "output_type": "stream",
     "text": [
      "              precision    recall  f1-score   support\n",
      "\n",
      "           0       0.56      0.04      0.07      6201\n",
      "           1       0.50      0.97      0.66      6147\n",
      "\n",
      "    accuracy                           0.50     12348\n",
      "   macro avg       0.53      0.50      0.36     12348\n",
      "weighted avg       0.53      0.50      0.36     12348\n",
      "\n"
     ]
    }
   ],
   "source": [
    "print(classification_report(y_test_clean, predictions2))"
   ]
  },
  {
   "cell_type": "code",
   "execution_count": 179,
   "id": "eb1eb6f4-9825-486b-a268-b3b593f04108",
   "metadata": {},
   "outputs": [
    {
     "name": "stdout",
     "output_type": "stream",
     "text": [
      "Accuracy: 0.5017816650469712\n"
     ]
    }
   ],
   "source": [
    "accuracy = accuracy_score(y_test_clean, predictions2)\n",
    "print(f'Accuracy: {accuracy}')"
   ]
  },
  {
   "cell_type": "markdown",
   "id": "b675c037-71ac-488c-a642-fbeef9214f16",
   "metadata": {},
   "source": [
    "## XGBClassifier"
   ]
  },
  {
   "cell_type": "code",
   "execution_count": 174,
   "id": "eaf3d46e-82ab-47ac-975d-b3c8aebedcbd",
   "metadata": {},
   "outputs": [
    {
     "data": {
      "text/html": [
       "<style>#sk-container-id-7 {color: black;}#sk-container-id-7 pre{padding: 0;}#sk-container-id-7 div.sk-toggleable {background-color: white;}#sk-container-id-7 label.sk-toggleable__label {cursor: pointer;display: block;width: 100%;margin-bottom: 0;padding: 0.3em;box-sizing: border-box;text-align: center;}#sk-container-id-7 label.sk-toggleable__label-arrow:before {content: \"▸\";float: left;margin-right: 0.25em;color: #696969;}#sk-container-id-7 label.sk-toggleable__label-arrow:hover:before {color: black;}#sk-container-id-7 div.sk-estimator:hover label.sk-toggleable__label-arrow:before {color: black;}#sk-container-id-7 div.sk-toggleable__content {max-height: 0;max-width: 0;overflow: hidden;text-align: left;background-color: #f0f8ff;}#sk-container-id-7 div.sk-toggleable__content pre {margin: 0.2em;color: black;border-radius: 0.25em;background-color: #f0f8ff;}#sk-container-id-7 input.sk-toggleable__control:checked~div.sk-toggleable__content {max-height: 200px;max-width: 100%;overflow: auto;}#sk-container-id-7 input.sk-toggleable__control:checked~label.sk-toggleable__label-arrow:before {content: \"▾\";}#sk-container-id-7 div.sk-estimator input.sk-toggleable__control:checked~label.sk-toggleable__label {background-color: #d4ebff;}#sk-container-id-7 div.sk-label input.sk-toggleable__control:checked~label.sk-toggleable__label {background-color: #d4ebff;}#sk-container-id-7 input.sk-hidden--visually {border: 0;clip: rect(1px 1px 1px 1px);clip: rect(1px, 1px, 1px, 1px);height: 1px;margin: -1px;overflow: hidden;padding: 0;position: absolute;width: 1px;}#sk-container-id-7 div.sk-estimator {font-family: monospace;background-color: #f0f8ff;border: 1px dotted black;border-radius: 0.25em;box-sizing: border-box;margin-bottom: 0.5em;}#sk-container-id-7 div.sk-estimator:hover {background-color: #d4ebff;}#sk-container-id-7 div.sk-parallel-item::after {content: \"\";width: 100%;border-bottom: 1px solid gray;flex-grow: 1;}#sk-container-id-7 div.sk-label:hover label.sk-toggleable__label {background-color: #d4ebff;}#sk-container-id-7 div.sk-serial::before {content: \"\";position: absolute;border-left: 1px solid gray;box-sizing: border-box;top: 0;bottom: 0;left: 50%;z-index: 0;}#sk-container-id-7 div.sk-serial {display: flex;flex-direction: column;align-items: center;background-color: white;padding-right: 0.2em;padding-left: 0.2em;position: relative;}#sk-container-id-7 div.sk-item {position: relative;z-index: 1;}#sk-container-id-7 div.sk-parallel {display: flex;align-items: stretch;justify-content: center;background-color: white;position: relative;}#sk-container-id-7 div.sk-item::before, #sk-container-id-7 div.sk-parallel-item::before {content: \"\";position: absolute;border-left: 1px solid gray;box-sizing: border-box;top: 0;bottom: 0;left: 50%;z-index: -1;}#sk-container-id-7 div.sk-parallel-item {display: flex;flex-direction: column;z-index: 1;position: relative;background-color: white;}#sk-container-id-7 div.sk-parallel-item:first-child::after {align-self: flex-end;width: 50%;}#sk-container-id-7 div.sk-parallel-item:last-child::after {align-self: flex-start;width: 50%;}#sk-container-id-7 div.sk-parallel-item:only-child::after {width: 0;}#sk-container-id-7 div.sk-dashed-wrapped {border: 1px dashed gray;margin: 0 0.4em 0.5em 0.4em;box-sizing: border-box;padding-bottom: 0.4em;background-color: white;}#sk-container-id-7 div.sk-label label {font-family: monospace;font-weight: bold;display: inline-block;line-height: 1.2em;}#sk-container-id-7 div.sk-label-container {text-align: center;}#sk-container-id-7 div.sk-container {/* jupyter's `normalize.less` sets `[hidden] { display: none; }` but bootstrap.min.css set `[hidden] { display: none !important; }` so we also need the `!important` here to be able to override the default hidden behavior on the sphinx rendered scikit-learn.org. See: https://github.com/scikit-learn/scikit-learn/issues/21755 */display: inline-block !important;position: relative;}#sk-container-id-7 div.sk-text-repr-fallback {display: none;}</style><div id=\"sk-container-id-7\" class=\"sk-top-container\"><div class=\"sk-text-repr-fallback\"><pre>XGBClassifier(base_score=None, booster=None, callbacks=None,\n",
       "              colsample_bylevel=None, colsample_bynode=None,\n",
       "              colsample_bytree=None, device=None, early_stopping_rounds=None,\n",
       "              enable_categorical=False, eval_metric=None, feature_types=None,\n",
       "              gamma=None, grow_policy=None, importance_type=None,\n",
       "              interaction_constraints=None, learning_rate=None, max_bin=None,\n",
       "              max_cat_threshold=None, max_cat_to_onehot=None,\n",
       "              max_delta_step=None, max_depth=None, max_leaves=None,\n",
       "              min_child_weight=None, missing=nan, monotone_constraints=None,\n",
       "              multi_strategy=None, n_estimators=None, n_jobs=None,\n",
       "              num_parallel_tree=None, random_state=None, ...)</pre><b>In a Jupyter environment, please rerun this cell to show the HTML representation or trust the notebook. <br />On GitHub, the HTML representation is unable to render, please try loading this page with nbviewer.org.</b></div><div class=\"sk-container\" hidden><div class=\"sk-item\"><div class=\"sk-estimator sk-toggleable\"><input class=\"sk-toggleable__control sk-hidden--visually\" id=\"sk-estimator-id-7\" type=\"checkbox\" checked><label for=\"sk-estimator-id-7\" class=\"sk-toggleable__label sk-toggleable__label-arrow\">XGBClassifier</label><div class=\"sk-toggleable__content\"><pre>XGBClassifier(base_score=None, booster=None, callbacks=None,\n",
       "              colsample_bylevel=None, colsample_bynode=None,\n",
       "              colsample_bytree=None, device=None, early_stopping_rounds=None,\n",
       "              enable_categorical=False, eval_metric=None, feature_types=None,\n",
       "              gamma=None, grow_policy=None, importance_type=None,\n",
       "              interaction_constraints=None, learning_rate=None, max_bin=None,\n",
       "              max_cat_threshold=None, max_cat_to_onehot=None,\n",
       "              max_delta_step=None, max_depth=None, max_leaves=None,\n",
       "              min_child_weight=None, missing=nan, monotone_constraints=None,\n",
       "              multi_strategy=None, n_estimators=None, n_jobs=None,\n",
       "              num_parallel_tree=None, random_state=None, ...)</pre></div></div></div></div></div>"
      ],
      "text/plain": [
       "XGBClassifier(base_score=None, booster=None, callbacks=None,\n",
       "              colsample_bylevel=None, colsample_bynode=None,\n",
       "              colsample_bytree=None, device=None, early_stopping_rounds=None,\n",
       "              enable_categorical=False, eval_metric=None, feature_types=None,\n",
       "              gamma=None, grow_policy=None, importance_type=None,\n",
       "              interaction_constraints=None, learning_rate=None, max_bin=None,\n",
       "              max_cat_threshold=None, max_cat_to_onehot=None,\n",
       "              max_delta_step=None, max_depth=None, max_leaves=None,\n",
       "              min_child_weight=None, missing=nan, monotone_constraints=None,\n",
       "              multi_strategy=None, n_estimators=None, n_jobs=None,\n",
       "              num_parallel_tree=None, random_state=None, ...)"
      ]
     },
     "execution_count": 174,
     "metadata": {},
     "output_type": "execute_result"
    }
   ],
   "source": [
    "model22 = xgb.XGBClassifier()\n",
    "model22.fit(x_train_scale, y_train_clean)"
   ]
  },
  {
   "cell_type": "code",
   "execution_count": 180,
   "id": "e6eeebb3-9e73-4b01-9b77-10f76f419033",
   "metadata": {},
   "outputs": [
    {
     "data": {
      "text/plain": [
       "array([1, 1, 1, ..., 1, 1, 1])"
      ]
     },
     "execution_count": 180,
     "metadata": {},
     "output_type": "execute_result"
    }
   ],
   "source": [
    "predictions22 = model22.predict(x_test_clean)\n",
    "predictions22"
   ]
  },
  {
   "cell_type": "code",
   "execution_count": 181,
   "id": "e6fc4bd5-8975-4a2c-9163-8d275a870e95",
   "metadata": {},
   "outputs": [
    {
     "data": {
      "image/png": "[encoded data removed]",
      "text/plain": [
       "<Figure size 1000x700 with 2 Axes>"
      ]
     },
     "metadata": {},
     "output_type": "display_data"
    }
   ],
   "source": [
    "cm2 = confusion_matrix(y_test_clean, predictions22)\n",
    "class_labels = ['Espacio Verde Público', 'No Espacio Verde Público']\n",
    "plt.figure(figsize = (10,7))\n",
    "sns.heatmap(cm2, annot = True, fmt = \"g\", cmap=\"rainbow\", xticklabels=class_labels, yticklabels=class_labels)\n",
    "plt.xlabel('Predicted', fontsize = 12, fontweight  = 'bold')\n",
    "plt.ylabel('Actual', fontsize = 12, fontweight  = 'bold')\n",
    "plt.title('Matriz de Confusión', fontsize = 15, fontweight = 'bold')\n",
    "plt.show()"
   ]
  },
  {
   "cell_type": "code",
   "execution_count": 182,
   "id": "775f4a19-23b5-4f11-abf1-6f67af2730ac",
   "metadata": {},
   "outputs": [
    {
     "name": "stdout",
     "output_type": "stream",
     "text": [
      "              precision    recall  f1-score   support\n",
      "\n",
      "           0       0.55      0.03      0.06      6201\n",
      "           1       0.50      0.97      0.66      6147\n",
      "\n",
      "    accuracy                           0.50     12348\n",
      "   macro avg       0.52      0.50      0.36     12348\n",
      "weighted avg       0.52      0.50      0.36     12348\n",
      "\n"
     ]
    }
   ],
   "source": [
    "print(classification_report(y_test_clean, predictions22))"
   ]
  },
  {
   "cell_type": "code",
   "execution_count": 183,
   "id": "e96c4b7f-8786-4b47-960f-42a16fefbcdf",
   "metadata": {},
   "outputs": [
    {
     "name": "stdout",
     "output_type": "stream",
     "text": [
      "Accuracy: 0.500728862973761\n"
     ]
    }
   ],
   "source": [
    "accuracy = accuracy_score(y_test_clean, predictions22)\n",
    "print(f'Accuracy: {accuracy}')"
   ]
  },
  {
   "cell_type": "markdown",
   "id": "c64930d6-7bf5-47d3-a52f-59ea9215552c",
   "metadata": {},
   "source": [
    "## Decision Tree Classification"
   ]
  },
  {
   "cell_type": "code",
   "execution_count": 184,
   "id": "6489b73a-0f0e-40c4-aad1-8b3c5b642b2f",
   "metadata": {},
   "outputs": [
    {
     "data": {
      "text/html": [
       "<style>#sk-container-id-9 {color: black;}#sk-container-id-9 pre{padding: 0;}#sk-container-id-9 div.sk-toggleable {background-color: white;}#sk-container-id-9 label.sk-toggleable__label {cursor: pointer;display: block;width: 100%;margin-bottom: 0;padding: 0.3em;box-sizing: border-box;text-align: center;}#sk-container-id-9 label.sk-toggleable__label-arrow:before {content: \"▸\";float: left;margin-right: 0.25em;color: #696969;}#sk-container-id-9 label.sk-toggleable__label-arrow:hover:before {color: black;}#sk-container-id-9 div.sk-estimator:hover label.sk-toggleable__label-arrow:before {color: black;}#sk-container-id-9 div.sk-toggleable__content {max-height: 0;max-width: 0;overflow: hidden;text-align: left;background-color: #f0f8ff;}#sk-container-id-9 div.sk-toggleable__content pre {margin: 0.2em;color: black;border-radius: 0.25em;background-color: #f0f8ff;}#sk-container-id-9 input.sk-toggleable__control:checked~div.sk-toggleable__content {max-height: 200px;max-width: 100%;overflow: auto;}#sk-container-id-9 input.sk-toggleable__control:checked~label.sk-toggleable__label-arrow:before {content: \"▾\";}#sk-container-id-9 div.sk-estimator input.sk-toggleable__control:checked~label.sk-toggleable__label {background-color: #d4ebff;}#sk-container-id-9 div.sk-label input.sk-toggleable__control:checked~label.sk-toggleable__label {background-color: #d4ebff;}#sk-container-id-9 input.sk-hidden--visually {border: 0;clip: rect(1px 1px 1px 1px);clip: rect(1px, 1px, 1px, 1px);height: 1px;margin: -1px;overflow: hidden;padding: 0;position: absolute;width: 1px;}#sk-container-id-9 div.sk-estimator {font-family: monospace;background-color: #f0f8ff;border: 1px dotted black;border-radius: 0.25em;box-sizing: border-box;margin-bottom: 0.5em;}#sk-container-id-9 div.sk-estimator:hover {background-color: #d4ebff;}#sk-container-id-9 div.sk-parallel-item::after {content: \"\";width: 100%;border-bottom: 1px solid gray;flex-grow: 1;}#sk-container-id-9 div.sk-label:hover label.sk-toggleable__label {background-color: #d4ebff;}#sk-container-id-9 div.sk-serial::before {content: \"\";position: absolute;border-left: 1px solid gray;box-sizing: border-box;top: 0;bottom: 0;left: 50%;z-index: 0;}#sk-container-id-9 div.sk-serial {display: flex;flex-direction: column;align-items: center;background-color: white;padding-right: 0.2em;padding-left: 0.2em;position: relative;}#sk-container-id-9 div.sk-item {position: relative;z-index: 1;}#sk-container-id-9 div.sk-parallel {display: flex;align-items: stretch;justify-content: center;background-color: white;position: relative;}#sk-container-id-9 div.sk-item::before, #sk-container-id-9 div.sk-parallel-item::before {content: \"\";position: absolute;border-left: 1px solid gray;box-sizing: border-box;top: 0;bottom: 0;left: 50%;z-index: -1;}#sk-container-id-9 div.sk-parallel-item {display: flex;flex-direction: column;z-index: 1;position: relative;background-color: white;}#sk-container-id-9 div.sk-parallel-item:first-child::after {align-self: flex-end;width: 50%;}#sk-container-id-9 div.sk-parallel-item:last-child::after {align-self: flex-start;width: 50%;}#sk-container-id-9 div.sk-parallel-item:only-child::after {width: 0;}#sk-container-id-9 div.sk-dashed-wrapped {border: 1px dashed gray;margin: 0 0.4em 0.5em 0.4em;box-sizing: border-box;padding-bottom: 0.4em;background-color: white;}#sk-container-id-9 div.sk-label label {font-family: monospace;font-weight: bold;display: inline-block;line-height: 1.2em;}#sk-container-id-9 div.sk-label-container {text-align: center;}#sk-container-id-9 div.sk-container {/* jupyter's `normalize.less` sets `[hidden] { display: none; }` but bootstrap.min.css set `[hidden] { display: none !important; }` so we also need the `!important` here to be able to override the default hidden behavior on the sphinx rendered scikit-learn.org. See: https://github.com/scikit-learn/scikit-learn/issues/21755 */display: inline-block !important;position: relative;}#sk-container-id-9 div.sk-text-repr-fallback {display: none;}</style><div id=\"sk-container-id-9\" class=\"sk-top-container\"><div class=\"sk-text-repr-fallback\"><pre>DecisionTreeClassifier()</pre><b>In a Jupyter environment, please rerun this cell to show the HTML representation or trust the notebook. <br />On GitHub, the HTML representation is unable to render, please try loading this page with nbviewer.org.</b></div><div class=\"sk-container\" hidden><div class=\"sk-item\"><div class=\"sk-estimator sk-toggleable\"><input class=\"sk-toggleable__control sk-hidden--visually\" id=\"sk-estimator-id-9\" type=\"checkbox\" checked><label for=\"sk-estimator-id-9\" class=\"sk-toggleable__label sk-toggleable__label-arrow\">DecisionTreeClassifier</label><div class=\"sk-toggleable__content\"><pre>DecisionTreeClassifier()</pre></div></div></div></div></div>"
      ],
      "text/plain": [
       "DecisionTreeClassifier()"
      ]
     },
     "execution_count": 184,
     "metadata": {},
     "output_type": "execute_result"
    }
   ],
   "source": [
    "model32 = DecisionTreeClassifier()\n",
    "model32.fit(x_train_scale, y_train_clean)"
   ]
  },
  {
   "cell_type": "code",
   "execution_count": 185,
   "id": "e3381ba3-3c87-4fa2-9bcb-ff3897611d85",
   "metadata": {},
   "outputs": [
    {
     "data": {
      "text/plain": [
       "array([1, 1, 1, ..., 1, 1, 1])"
      ]
     },
     "execution_count": 185,
     "metadata": {},
     "output_type": "execute_result"
    }
   ],
   "source": [
    "predictions32 = model32.predict(x_test_clean)\n",
    "predictions32"
   ]
  },
  {
   "cell_type": "code",
   "execution_count": 186,
   "id": "d39c836c-06dd-47be-8b73-d28cdb642fdf",
   "metadata": {},
   "outputs": [
    {
     "data": {
      "image/png": "[encoded data removed]",
      "text/plain": [
       "<Figure size 1000x700 with 2 Axes>"
      ]
     },
     "metadata": {},
     "output_type": "display_data"
    }
   ],
   "source": [
    "cm2 = confusion_matrix(y_test_clean, predictions32)\n",
    "class_labels = ['Espacio Verde Público', 'No Espacio Verde Público']\n",
    "plt.figure(figsize = (10,7))\n",
    "sns.heatmap(cm2, annot = True, fmt = \"g\", cmap=\"jet\", xticklabels=class_labels, yticklabels=class_labels)\n",
    "plt.xlabel('Predicted', fontsize = 12, fontweight  = 'bold')\n",
    "plt.ylabel('Actual', fontsize = 12, fontweight  = 'bold')\n",
    "plt.title('Matriz de Confusión', fontsize = 15, fontweight = 'bold')\n",
    "plt.show()"
   ]
  },
  {
   "cell_type": "code",
   "execution_count": 187,
   "id": "f6938df3-093a-4853-ab67-b18a724a5733",
   "metadata": {},
   "outputs": [
    {
     "name": "stdout",
     "output_type": "stream",
     "text": [
      "              precision    recall  f1-score   support\n",
      "\n",
      "           0       0.56      0.04      0.07      6201\n",
      "           1       0.50      0.97      0.66      6147\n",
      "\n",
      "    accuracy                           0.50     12348\n",
      "   macro avg       0.53      0.50      0.36     12348\n",
      "weighted avg       0.53      0.50      0.36     12348\n",
      "\n"
     ]
    }
   ],
   "source": [
    "print(classification_report(y_test_clean, predictions32))"
   ]
  },
  {
   "cell_type": "code",
   "execution_count": 188,
   "id": "9b50a030-ef4f-4a32-a164-f002d3094012",
   "metadata": {},
   "outputs": [
    {
     "name": "stdout",
     "output_type": "stream",
     "text": [
      "Accuracy: 0.5017816650469712\n"
     ]
    }
   ],
   "source": [
    "accuracy = accuracy_score(y_test_clean, predictions32)\n",
    "print(f'Accuracy: {accuracy}')"
   ]
  },
  {
   "cell_type": "markdown",
   "id": "d52d85c4-5d98-48a8-b120-d02d2dd77c7a",
   "metadata": {},
   "source": [
    "## Intersección espacial con población, vegetación, humedad y temperatura."
   ]
  },
  {
   "cell_type": "code",
   "execution_count": null,
   "id": "c9d28c35-dc11-4d9f-948e-b2bed4560c5f",
   "metadata": {},
   "outputs": [],
   "source": []
  }
 ],
 "metadata": {
  "kernelspec": {
   "display_name": "GDS-10.0",
   "language": "python",
   "name": "gds"
  },
  "language_info": {
   "codemirror_mode": {
    "name": "ipython",
    "version": 3
   },
   "file_extension": ".py",
   "mimetype": "text/x-python",
   "name": "python",
   "nbconvert_exporter": "python",
   "pygments_lexer": "ipython3",
   "version": "3.9.18"
  }
 },
 "nbformat": 4,
 "nbformat_minor": 5
}
