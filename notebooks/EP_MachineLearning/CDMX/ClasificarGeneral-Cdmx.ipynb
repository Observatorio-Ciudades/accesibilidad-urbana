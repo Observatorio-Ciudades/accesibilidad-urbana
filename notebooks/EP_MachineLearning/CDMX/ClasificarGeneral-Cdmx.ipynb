{
 "cells": [
  {
   "cell_type": "code",
   "execution_count": 1,
   "id": "417918f8-3cb2-443d-972f-c3d5679337f7",
   "metadata": {},
   "outputs": [],
   "source": [
    "import warnings\n",
    "warnings.filterwarnings('ignore')\n",
    "import geopandas as gpd\n",
    "from geopandas.tools import overlay\n",
    "import matplotlib.pyplot as plt\n",
    "import os \n",
    "import sys\n",
    "module_path = os.path.abspath(os.path.join('../../../'))\n",
    "if module_path not in sys.path:\n",
    "    sys.path.append(module_path)\n",
    "    import aup\n",
    "import pandas as pd\n",
    "import numpy as np\n",
    "import seaborn as sns\n",
    "from sklearn.model_selection import train_test_split\n",
    "from sklearn.metrics import accuracy_score, confusion_matrix\n",
    "from sklearn.linear_model import LogisticRegression\n",
    "from sklearn.preprocessing import StandardScaler\n",
    "from sklearn.naive_bayes import GaussianNB\n",
    "from sklearn.ensemble import RandomForestClassifier\n",
    "from sklearn.ensemble import AdaBoostClassifier\n",
    "from sklearn.model_selection import GridSearchCV, RandomizedSearchCV \n",
    "import xgboost as xgb\n",
    "import random\n",
    "from sklearn.model_selection import StratifiedKFold\n",
    "from sklearn.metrics import classification_report, mean_squared_error\n",
    "#import tensorflow as tf\n",
    "#from keras.models import Sequential\n",
    "#from keras.layers import Dense\n",
    "#from tensorflow.keras.utils import to_categorical"
   ]
  },
  {
   "cell_type": "markdown",
   "id": "1f4b673d-a0ff-4041-b2b2-b9ec546375b5",
   "metadata": {},
   "source": [
    "## Espacios Públicos Cdmx"
   ]
  },
  {
   "cell_type": "code",
   "execution_count": 2,
   "id": "4ea17f49-98ad-4d79-8c43-7fd0a0739bdd",
   "metadata": {},
   "outputs": [
    {
     "data": {
      "text/html": [
       "<div>\n",
       "<style scoped>\n",
       "    .dataframe tbody tr th:only-of-type {\n",
       "        vertical-align: middle;\n",
       "    }\n",
       "\n",
       "    .dataframe tbody tr th {\n",
       "        vertical-align: top;\n",
       "    }\n",
       "\n",
       "    .dataframe thead th {\n",
       "        text-align: right;\n",
       "    }\n",
       "</style>\n",
       "<table border=\"1\" class=\"dataframe\">\n",
       "  <thead>\n",
       "    <tr style=\"text-align: right;\">\n",
       "      <th></th>\n",
       "      <th>id</th>\n",
       "      <th>geo_point_2d</th>\n",
       "      <th>geo_shape</th>\n",
       "      <th>subcat_sed</th>\n",
       "      <th>subcve_sed</th>\n",
       "      <th>gid</th>\n",
       "      <th>cve_delg</th>\n",
       "      <th>delegacion</th>\n",
       "      <th>categoria</th>\n",
       "      <th>superficie</th>\n",
       "      <th>perimetro</th>\n",
       "      <th>cve_sedema</th>\n",
       "      <th>geometry</th>\n",
       "    </tr>\n",
       "  </thead>\n",
       "  <tbody>\n",
       "    <tr>\n",
       "      <th>0</th>\n",
       "      <td>0</td>\n",
       "      <td>19.4877568178,-99.2060645931</td>\n",
       "      <td>{'type': 'MultiPolygon', 'coordinates': [[[[-9...</td>\n",
       "      <td>Panteones</td>\n",
       "      <td>604</td>\n",
       "      <td>268</td>\n",
       "      <td>2</td>\n",
       "      <td>Azcapotzalco</td>\n",
       "      <td>Equipamientos urbanos con vegetación</td>\n",
       "      <td>6660.027554</td>\n",
       "      <td>329.264738</td>\n",
       "      <td>600</td>\n",
       "      <td>POLYGON ((-99.20639 19.48819, -99.20556 19.487...</td>\n",
       "    </tr>\n",
       "    <tr>\n",
       "      <th>1</th>\n",
       "      <td>1</td>\n",
       "      <td>19.3887689803,-99.116393168</td>\n",
       "      <td>{'type': 'MultiPolygon', 'coordinates': [[[[-9...</td>\n",
       "      <td>Deportivos</td>\n",
       "      <td>601</td>\n",
       "      <td>87</td>\n",
       "      <td>8</td>\n",
       "      <td>Iztacalco</td>\n",
       "      <td>Equipamientos urbanos con vegetación</td>\n",
       "      <td>2917.257837</td>\n",
       "      <td>272.2436142</td>\n",
       "      <td>600</td>\n",
       "      <td>POLYGON ((-99.11679 19.38904, -99.11637 19.388...</td>\n",
       "    </tr>\n",
       "    <tr>\n",
       "      <th>2</th>\n",
       "      <td>2</td>\n",
       "      <td>19.3928871121,-99.0869912505</td>\n",
       "      <td>{'type': 'MultiPolygon', 'coordinates': [[[[-9...</td>\n",
       "      <td>Camellones centrales y laterales</td>\n",
       "      <td>203</td>\n",
       "      <td>180</td>\n",
       "      <td>8</td>\n",
       "      <td>Iztacalco</td>\n",
       "      <td>Áreas verdes complementarias o ligadas a la re...</td>\n",
       "      <td>1086.305646</td>\n",
       "      <td>425.0436555</td>\n",
       "      <td>200</td>\n",
       "      <td>POLYGON ((-99.08651 19.39367, -99.08648 19.393...</td>\n",
       "    </tr>\n",
       "    <tr>\n",
       "      <th>3</th>\n",
       "      <td>3</td>\n",
       "      <td>19.383106069,-99.1073609486</td>\n",
       "      <td>{'type': 'MultiPolygon', 'coordinates': [[[[-9...</td>\n",
       "      <td>Unidades habitacionales</td>\n",
       "      <td>602</td>\n",
       "      <td>89</td>\n",
       "      <td>8</td>\n",
       "      <td>Iztacalco</td>\n",
       "      <td>Equipamientos urbanos con vegetación</td>\n",
       "      <td>3605.704046</td>\n",
       "      <td>269.2094365</td>\n",
       "      <td>600</td>\n",
       "      <td>POLYGON ((-99.10780 19.38333, -99.10688 19.383...</td>\n",
       "    </tr>\n",
       "    <tr>\n",
       "      <th>4</th>\n",
       "      <td>4</td>\n",
       "      <td>19.3822134465,-99.1028423436</td>\n",
       "      <td>{'type': 'MultiPolygon', 'coordinates': [[[[-9...</td>\n",
       "      <td>Unidades habitacionales</td>\n",
       "      <td>602</td>\n",
       "      <td>90</td>\n",
       "      <td>8</td>\n",
       "      <td>Iztacalco</td>\n",
       "      <td>Equipamientos urbanos con vegetación</td>\n",
       "      <td>19619.36158</td>\n",
       "      <td>798.4092267</td>\n",
       "      <td>600</td>\n",
       "      <td>POLYGON ((-99.10389 19.38315, -99.10355 19.383...</td>\n",
       "    </tr>\n",
       "  </tbody>\n",
       "</table>\n",
       "</div>"
      ],
      "text/plain": [
       "  id                  geo_point_2d  \\\n",
       "0  0  19.4877568178,-99.2060645931   \n",
       "1  1   19.3887689803,-99.116393168   \n",
       "2  2  19.3928871121,-99.0869912505   \n",
       "3  3   19.383106069,-99.1073609486   \n",
       "4  4  19.3822134465,-99.1028423436   \n",
       "\n",
       "                                           geo_shape  \\\n",
       "0  {'type': 'MultiPolygon', 'coordinates': [[[[-9...   \n",
       "1  {'type': 'MultiPolygon', 'coordinates': [[[[-9...   \n",
       "2  {'type': 'MultiPolygon', 'coordinates': [[[[-9...   \n",
       "3  {'type': 'MultiPolygon', 'coordinates': [[[[-9...   \n",
       "4  {'type': 'MultiPolygon', 'coordinates': [[[[-9...   \n",
       "\n",
       "                         subcat_sed subcve_sed  gid cve_delg    delegacion  \\\n",
       "0                         Panteones        604  268        2  Azcapotzalco   \n",
       "1                        Deportivos        601   87        8     Iztacalco   \n",
       "2  Camellones centrales y laterales        203  180        8     Iztacalco   \n",
       "3           Unidades habitacionales        602   89        8     Iztacalco   \n",
       "4           Unidades habitacionales        602   90        8     Iztacalco   \n",
       "\n",
       "                                           categoria   superficie  \\\n",
       "0               Equipamientos urbanos con vegetación  6660.027554   \n",
       "1               Equipamientos urbanos con vegetación  2917.257837   \n",
       "2  Áreas verdes complementarias o ligadas a la re...  1086.305646   \n",
       "3               Equipamientos urbanos con vegetación  3605.704046   \n",
       "4               Equipamientos urbanos con vegetación  19619.36158   \n",
       "\n",
       "     perimetro cve_sedema                                           geometry  \n",
       "0   329.264738        600  POLYGON ((-99.20639 19.48819, -99.20556 19.487...  \n",
       "1  272.2436142        600  POLYGON ((-99.11679 19.38904, -99.11637 19.388...  \n",
       "2  425.0436555        200  POLYGON ((-99.08651 19.39367, -99.08648 19.393...  \n",
       "3  269.2094365        600  POLYGON ((-99.10780 19.38333, -99.10688 19.383...  \n",
       "4  798.4092267        600  POLYGON ((-99.10389 19.38315, -99.10355 19.383...  "
      ]
     },
     "execution_count": 2,
     "metadata": {},
     "output_type": "execute_result"
    }
   ],
   "source": [
    "schema = 'espacios_publicos'\n",
    "table = 'ep_cdmx'\n",
    "gdf = aup.gdf_from_db(table,schema)\n",
    "gdf.head()"
   ]
  },
  {
   "cell_type": "code",
   "execution_count": 4,
   "id": "f4bec21f-6862-40e3-b303-3ddba00e7063",
   "metadata": {
    "tags": []
   },
   "outputs": [
    {
     "data": {
      "text/plain": [
       "(11609, 13)"
      ]
     },
     "execution_count": 4,
     "metadata": {},
     "output_type": "execute_result"
    }
   ],
   "source": [
    "gdf.shape"
   ]
  },
  {
   "cell_type": "markdown",
   "id": "3f1d29aa-cc80-4491-b20c-b5189761a002",
   "metadata": {},
   "source": [
    "## Hexágonos Cdmx"
   ]
  },
  {
   "cell_type": "code",
   "execution_count": 3,
   "id": "3edf4d80-639e-4a4a-826a-cadff6494b0c",
   "metadata": {},
   "outputs": [
    {
     "data": {
      "text/html": [
       "<div>\n",
       "<style scoped>\n",
       "    .dataframe tbody tr th:only-of-type {\n",
       "        vertical-align: middle;\n",
       "    }\n",
       "\n",
       "    .dataframe tbody tr th {\n",
       "        vertical-align: top;\n",
       "    }\n",
       "\n",
       "    .dataframe thead th {\n",
       "        text-align: right;\n",
       "    }\n",
       "</style>\n",
       "<table border=\"1\" class=\"dataframe\">\n",
       "  <thead>\n",
       "    <tr style=\"text-align: right;\">\n",
       "      <th></th>\n",
       "      <th>hex_id</th>\n",
       "      <th>geometry</th>\n",
       "      <th>city</th>\n",
       "    </tr>\n",
       "  </thead>\n",
       "  <tbody>\n",
       "    <tr>\n",
       "      <th>0</th>\n",
       "      <td>8b4995b81405fff</td>\n",
       "      <td>POLYGON ((-99.15333 19.47087, -99.15315 19.471...</td>\n",
       "      <td>ZMVM</td>\n",
       "    </tr>\n",
       "    <tr>\n",
       "      <th>1</th>\n",
       "      <td>8b4995b814e2fff</td>\n",
       "      <td>POLYGON ((-99.15254 19.47346, -99.15237 19.473...</td>\n",
       "      <td>ZMVM</td>\n",
       "    </tr>\n",
       "    <tr>\n",
       "      <th>2</th>\n",
       "      <td>8b4995b81420fff</td>\n",
       "      <td>POLYGON ((-99.15345 19.46991, -99.15328 19.470...</td>\n",
       "      <td>ZMVM</td>\n",
       "    </tr>\n",
       "    <tr>\n",
       "      <th>3</th>\n",
       "      <td>8b4995b8154dfff</td>\n",
       "      <td>POLYGON ((-99.15736 19.47056, -99.15718 19.470...</td>\n",
       "      <td>ZMVM</td>\n",
       "    </tr>\n",
       "    <tr>\n",
       "      <th>4</th>\n",
       "      <td>8b4995b81595fff</td>\n",
       "      <td>POLYGON ((-99.14914 19.46897, -99.14896 19.469...</td>\n",
       "      <td>ZMVM</td>\n",
       "    </tr>\n",
       "  </tbody>\n",
       "</table>\n",
       "</div>"
      ],
      "text/plain": [
       "            hex_id                                           geometry  city\n",
       "0  8b4995b81405fff  POLYGON ((-99.15333 19.47087, -99.15315 19.471...  ZMVM\n",
       "1  8b4995b814e2fff  POLYGON ((-99.15254 19.47346, -99.15237 19.473...  ZMVM\n",
       "2  8b4995b81420fff  POLYGON ((-99.15345 19.46991, -99.15328 19.470...  ZMVM\n",
       "3  8b4995b8154dfff  POLYGON ((-99.15736 19.47056, -99.15718 19.470...  ZMVM\n",
       "4  8b4995b81595fff  POLYGON ((-99.14914 19.46897, -99.14896 19.469...  ZMVM"
      ]
     },
     "execution_count": 3,
     "metadata": {},
     "output_type": "execute_result"
    }
   ],
   "source": [
    "hex_schema = \"raster_analysis\"\n",
    "hex_table = \"ndvi_analysis_hex\"\n",
    "c = 'ZMVM'\n",
    "n = '11'\n",
    "query = f'SELECT hex_id, geometry, city FROM {hex_schema}.{hex_table} WHERE \\\"city\\\" LIKE \\'{c}\\' AND \\\"res\\\" = {n}'\n",
    "hex_gdl = aup.gdf_from_query(query, geometry_col='geometry')\n",
    "#query = 'fSelect geometry, hex_id, city from raster_analysis.ndvi_analysis where city = guadalajara and res = 11'\n",
    "hex_gdl.head(5)"
   ]
  },
  {
   "cell_type": "code",
   "execution_count": 6,
   "id": "63934812-6283-4ccb-8d38-9b89f7ce6c4a",
   "metadata": {
    "tags": []
   },
   "outputs": [
    {
     "data": {
      "text/plain": [
       "(300000, 3)"
      ]
     },
     "execution_count": 6,
     "metadata": {},
     "output_type": "execute_result"
    }
   ],
   "source": [
    "hex_gdl.shape"
   ]
  },
  {
   "cell_type": "code",
   "execution_count": 4,
   "id": "f224a99a-4221-4fb2-a4da-dac85a0fbcf4",
   "metadata": {},
   "outputs": [
    {
     "name": "stdout",
     "output_type": "stream",
     "text": [
      "CRS of gdf: epsg:4326\n",
      "CRS of hex_gdl: epsg:4326\n"
     ]
    }
   ],
   "source": [
    "gdf = gdf.to_crs(hex_gdl.crs)\n",
    "print(\"CRS of gdf:\", gdf.crs)\n",
    "print(\"CRS of hex_gdl:\", hex_gdl.crs)"
   ]
  },
  {
   "cell_type": "markdown",
   "id": "afd8cb98-6659-4eb1-88a2-2b4e9cf5907b",
   "metadata": {},
   "source": [
    "## Dummy Variables\n",
    "1 = Hexágonos que cuentan con espacios públicos\n",
    "\n",
    "0 = Hexágonos que no cuentan con espacios públicos"
   ]
  },
  {
   "cell_type": "code",
   "execution_count": 5,
   "id": "32c47c29-6d21-44c1-9c77-6e2d9c5592ac",
   "metadata": {
    "tags": []
   },
   "outputs": [
    {
     "data": {
      "text/html": [
       "<div>\n",
       "<style scoped>\n",
       "    .dataframe tbody tr th:only-of-type {\n",
       "        vertical-align: middle;\n",
       "    }\n",
       "\n",
       "    .dataframe tbody tr th {\n",
       "        vertical-align: top;\n",
       "    }\n",
       "\n",
       "    .dataframe thead th {\n",
       "        text-align: right;\n",
       "    }\n",
       "</style>\n",
       "<table border=\"1\" class=\"dataframe\">\n",
       "  <thead>\n",
       "    <tr style=\"text-align: right;\">\n",
       "      <th></th>\n",
       "      <th>hex_id</th>\n",
       "      <th>geometry</th>\n",
       "      <th>city</th>\n",
       "      <th>EspPublico</th>\n",
       "    </tr>\n",
       "  </thead>\n",
       "  <tbody>\n",
       "    <tr>\n",
       "      <th>0</th>\n",
       "      <td>8b4995b81405fff</td>\n",
       "      <td>POLYGON ((-99.15333 19.47087, -99.15315 19.471...</td>\n",
       "      <td>ZMVM</td>\n",
       "      <td>0</td>\n",
       "    </tr>\n",
       "    <tr>\n",
       "      <th>1</th>\n",
       "      <td>8b4995b814e2fff</td>\n",
       "      <td>POLYGON ((-99.15254 19.47346, -99.15237 19.473...</td>\n",
       "      <td>ZMVM</td>\n",
       "      <td>1</td>\n",
       "    </tr>\n",
       "    <tr>\n",
       "      <th>2</th>\n",
       "      <td>8b4995b81420fff</td>\n",
       "      <td>POLYGON ((-99.15345 19.46991, -99.15328 19.470...</td>\n",
       "      <td>ZMVM</td>\n",
       "      <td>0</td>\n",
       "    </tr>\n",
       "    <tr>\n",
       "      <th>3</th>\n",
       "      <td>8b4995b8154dfff</td>\n",
       "      <td>POLYGON ((-99.15736 19.47056, -99.15718 19.470...</td>\n",
       "      <td>ZMVM</td>\n",
       "      <td>1</td>\n",
       "    </tr>\n",
       "    <tr>\n",
       "      <th>4</th>\n",
       "      <td>8b4995b81595fff</td>\n",
       "      <td>POLYGON ((-99.14914 19.46897, -99.14896 19.469...</td>\n",
       "      <td>ZMVM</td>\n",
       "      <td>0</td>\n",
       "    </tr>\n",
       "  </tbody>\n",
       "</table>\n",
       "</div>"
      ],
      "text/plain": [
       "            hex_id                                           geometry  city  \\\n",
       "0  8b4995b81405fff  POLYGON ((-99.15333 19.47087, -99.15315 19.471...  ZMVM   \n",
       "1  8b4995b814e2fff  POLYGON ((-99.15254 19.47346, -99.15237 19.473...  ZMVM   \n",
       "2  8b4995b81420fff  POLYGON ((-99.15345 19.46991, -99.15328 19.470...  ZMVM   \n",
       "3  8b4995b8154dfff  POLYGON ((-99.15736 19.47056, -99.15718 19.470...  ZMVM   \n",
       "4  8b4995b81595fff  POLYGON ((-99.14914 19.46897, -99.14896 19.469...  ZMVM   \n",
       "\n",
       "   EspPublico  \n",
       "0           0  \n",
       "1           1  \n",
       "2           0  \n",
       "3           1  \n",
       "4           0  "
      ]
     },
     "execution_count": 5,
     "metadata": {},
     "output_type": "execute_result"
    }
   ],
   "source": [
    "gdf_sindex = gdf.sindex\n",
    "\n",
    "# Create a Series of boolean values indicating which hexagons intersect with public spaces\n",
    "intersects_public_spaces = hex_gdl['geometry'].apply(lambda geom: any(gdf_sindex.query(geom)))\n",
    "\n",
    "hex_gdl['EspPublico'] = intersects_public_spaces.astype(int)\n",
    "hex_gdl.head()"
   ]
  },
  {
   "cell_type": "code",
   "execution_count": 9,
   "id": "dd321d0a-c595-4e27-a283-06d861a55628",
   "metadata": {
    "tags": []
   },
   "outputs": [
    {
     "name": "stdout",
     "output_type": "stream",
     "text": [
      "Números de hexagonos sin Espacios Públicos: 220800 \n",
      "Número de Hexágonos con Espacios Públicos: 79200\n",
      "Número total de Hexágonos: 300000\n"
     ]
    }
   ],
   "source": [
    "contador_ceros = np.sum(hex_gdl['EspPublico'] == 0)\n",
    "contador_uno = np.sum(hex_gdl['EspPublico'])\n",
    "print(f'Números de hexagonos sin Espacios Públicos: {contador_ceros} \\nNúmero de Hexágonos con Espacios Públicos: {contador_uno}\\nNúmero total de Hexágonos: {contador_ceros+contador_uno}')"
   ]
  },
  {
   "cell_type": "markdown",
   "id": "53a96ca3-36a6-4482-a8c5-155bec50f725",
   "metadata": {},
   "source": [
    "Casi el 75% de los hexágonos no cuenta con Espacio Público, los métodos de clasificación van a estar muy sesgados por la discrepancia. Entonces tenemos que hacer que sean 50% ambos pero para esto vamos a hacer un submuestreo random con 150,000 y 150,000 de cada tipo de hexágono pero eso se hará después de juntar todo con el otro GeoDataFrame. Esto es porque nada más tenemos 300,000 hexágonos comparados al de Guadalajara que tenía 400,000."
   ]
  },
  {
   "cell_type": "markdown",
   "id": "0117d09f-c51f-491e-9a59-a7eb00ed8b3d",
   "metadata": {},
   "source": [
    "## Hexágonos con info de humedad, vegetación."
   ]
  },
  {
   "cell_type": "markdown",
   "id": "9a940298-cc09-4a6a-b89d-7f5b956f109a",
   "metadata": {},
   "source": [
    "select {ndmi}.hex_id, {ndmi}.geometry, {ndmi}.city, {ndmi}.res,\n",
    "\n",
    "ndvi_mean, ndvi_std, ndvi_median, ndvi_max, ndvi_min, ndvi_diff, ndvi_tend,\n",
    "\n",
    "ndmi_mean, ndmi_median, ndmi_diff\n",
    "\n",
    "from raster_analysis.ndmi_analysis_hex ndmi\n",
    "\n",
    "inner join raster_analysis.ndvi_analysis_hex ndvi\n",
    "\n",
    "on ndmi.hex_id = ndvi.hex_id \n",
    "\n",
    "where ndmi.city  = 'ZMVM' and ndmi.res = 11"
   ]
  },
  {
   "cell_type": "code",
   "execution_count": 6,
   "id": "b490fe14-42f0-4cc5-ac0e-2050823bb05b",
   "metadata": {},
   "outputs": [
    {
     "data": {
      "text/html": [
       "<div>\n",
       "<style scoped>\n",
       "    .dataframe tbody tr th:only-of-type {\n",
       "        vertical-align: middle;\n",
       "    }\n",
       "\n",
       "    .dataframe tbody tr th {\n",
       "        vertical-align: top;\n",
       "    }\n",
       "\n",
       "    .dataframe thead th {\n",
       "        text-align: right;\n",
       "    }\n",
       "</style>\n",
       "<table border=\"1\" class=\"dataframe\">\n",
       "  <thead>\n",
       "    <tr style=\"text-align: right;\">\n",
       "      <th></th>\n",
       "      <th>hex_id</th>\n",
       "      <th>geometry</th>\n",
       "      <th>city</th>\n",
       "      <th>res</th>\n",
       "      <th>ndvi_mean</th>\n",
       "      <th>ndvi_std</th>\n",
       "      <th>ndvi_median</th>\n",
       "      <th>ndvi_max</th>\n",
       "      <th>ndvi_min</th>\n",
       "      <th>ndvi_diff</th>\n",
       "      <th>ndvi_tend</th>\n",
       "      <th>ndmi_mean</th>\n",
       "      <th>ndmi_median</th>\n",
       "      <th>ndmi_diff</th>\n",
       "    </tr>\n",
       "  </thead>\n",
       "  <tbody>\n",
       "    <tr>\n",
       "      <th>0</th>\n",
       "      <td>8b4995b8dd5dfff</td>\n",
       "      <td>POLYGON ((-99.19998 19.49063, -99.19981 19.490...</td>\n",
       "      <td>ZMVM</td>\n",
       "      <td>11</td>\n",
       "      <td>0.183130</td>\n",
       "      <td>0.062578</td>\n",
       "      <td>0.194367</td>\n",
       "      <td>0.257773</td>\n",
       "      <td>0.086611</td>\n",
       "      <td>0.171162</td>\n",
       "      <td>-0.000180</td>\n",
       "      <td>0.004920</td>\n",
       "      <td>-0.009944</td>\n",
       "      <td>0.158101</td>\n",
       "    </tr>\n",
       "    <tr>\n",
       "      <th>1</th>\n",
       "      <td>8b4995b8e154fff</td>\n",
       "      <td>POLYGON ((-99.16119 19.49214, -99.16101 19.492...</td>\n",
       "      <td>ZMVM</td>\n",
       "      <td>11</td>\n",
       "      <td>-0.022569</td>\n",
       "      <td>0.028222</td>\n",
       "      <td>-0.019269</td>\n",
       "      <td>-0.000936</td>\n",
       "      <td>-0.076509</td>\n",
       "      <td>0.075573</td>\n",
       "      <td>-0.000084</td>\n",
       "      <td>-0.049077</td>\n",
       "      <td>-0.062853</td>\n",
       "      <td>0.181300</td>\n",
       "    </tr>\n",
       "    <tr>\n",
       "      <th>2</th>\n",
       "      <td>8b4995b8dc83fff</td>\n",
       "      <td>POLYGON ((-99.19348 19.49287, -99.19330 19.493...</td>\n",
       "      <td>ZMVM</td>\n",
       "      <td>11</td>\n",
       "      <td>0.137634</td>\n",
       "      <td>0.059429</td>\n",
       "      <td>0.156930</td>\n",
       "      <td>0.197662</td>\n",
       "      <td>0.031899</td>\n",
       "      <td>0.165763</td>\n",
       "      <td>-0.000713</td>\n",
       "      <td>0.002228</td>\n",
       "      <td>-0.005155</td>\n",
       "      <td>0.126045</td>\n",
       "    </tr>\n",
       "    <tr>\n",
       "      <th>3</th>\n",
       "      <td>8b4995b8dc8efff</td>\n",
       "      <td>POLYGON ((-99.19388 19.49315, -99.19371 19.493...</td>\n",
       "      <td>ZMVM</td>\n",
       "      <td>11</td>\n",
       "      <td>0.084169</td>\n",
       "      <td>0.037411</td>\n",
       "      <td>0.098810</td>\n",
       "      <td>0.115045</td>\n",
       "      <td>0.014396</td>\n",
       "      <td>0.100649</td>\n",
       "      <td>-0.000377</td>\n",
       "      <td>-0.044239</td>\n",
       "      <td>-0.063996</td>\n",
       "      <td>0.151630</td>\n",
       "    </tr>\n",
       "    <tr>\n",
       "      <th>4</th>\n",
       "      <td>8b4995b8dc31fff</td>\n",
       "      <td>POLYGON ((-99.19648 19.49026, -99.19630 19.490...</td>\n",
       "      <td>ZMVM</td>\n",
       "      <td>11</td>\n",
       "      <td>0.061729</td>\n",
       "      <td>0.026972</td>\n",
       "      <td>0.061135</td>\n",
       "      <td>0.085542</td>\n",
       "      <td>0.016240</td>\n",
       "      <td>0.069302</td>\n",
       "      <td>0.000471</td>\n",
       "      <td>-0.064496</td>\n",
       "      <td>-0.065611</td>\n",
       "      <td>0.172864</td>\n",
       "    </tr>\n",
       "    <tr>\n",
       "      <th>5</th>\n",
       "      <td>8b4995b8dc43fff</td>\n",
       "      <td>POLYGON ((-99.19961 19.49351, -99.19943 19.493...</td>\n",
       "      <td>ZMVM</td>\n",
       "      <td>11</td>\n",
       "      <td>0.209839</td>\n",
       "      <td>0.083443</td>\n",
       "      <td>0.246651</td>\n",
       "      <td>0.293106</td>\n",
       "      <td>0.082181</td>\n",
       "      <td>0.210925</td>\n",
       "      <td>-0.001006</td>\n",
       "      <td>0.031399</td>\n",
       "      <td>0.018582</td>\n",
       "      <td>0.122100</td>\n",
       "    </tr>\n",
       "    <tr>\n",
       "      <th>6</th>\n",
       "      <td>8b4995b8dda4fff</td>\n",
       "      <td>POLYGON ((-99.19464 19.48739, -99.19446 19.487...</td>\n",
       "      <td>ZMVM</td>\n",
       "      <td>11</td>\n",
       "      <td>0.150437</td>\n",
       "      <td>0.050493</td>\n",
       "      <td>0.165970</td>\n",
       "      <td>0.195888</td>\n",
       "      <td>0.077331</td>\n",
       "      <td>0.118557</td>\n",
       "      <td>-0.000156</td>\n",
       "      <td>-0.003881</td>\n",
       "      <td>-0.017095</td>\n",
       "      <td>0.116238</td>\n",
       "    </tr>\n",
       "    <tr>\n",
       "      <th>7</th>\n",
       "      <td>8b4995b8e860fff</td>\n",
       "      <td>POLYGON ((-99.16679 19.48664, -99.16661 19.486...</td>\n",
       "      <td>ZMVM</td>\n",
       "      <td>11</td>\n",
       "      <td>0.044500</td>\n",
       "      <td>0.030981</td>\n",
       "      <td>0.047927</td>\n",
       "      <td>0.075759</td>\n",
       "      <td>-0.012823</td>\n",
       "      <td>0.088582</td>\n",
       "      <td>-0.000337</td>\n",
       "      <td>-0.076269</td>\n",
       "      <td>-0.099490</td>\n",
       "      <td>0.208478</td>\n",
       "    </tr>\n",
       "    <tr>\n",
       "      <th>8</th>\n",
       "      <td>8b4995b8d21efff</td>\n",
       "      <td>POLYGON ((-99.20632 19.50663, -99.20615 19.506...</td>\n",
       "      <td>ZMVM</td>\n",
       "      <td>11</td>\n",
       "      <td>0.053968</td>\n",
       "      <td>0.028454</td>\n",
       "      <td>0.057982</td>\n",
       "      <td>0.082012</td>\n",
       "      <td>0.005677</td>\n",
       "      <td>0.076335</td>\n",
       "      <td>-0.000499</td>\n",
       "      <td>-0.041400</td>\n",
       "      <td>-0.055059</td>\n",
       "      <td>0.118447</td>\n",
       "    </tr>\n",
       "    <tr>\n",
       "      <th>9</th>\n",
       "      <td>8b4995b8d345fff</td>\n",
       "      <td>POLYGON ((-99.21108 19.50421, -99.21090 19.504...</td>\n",
       "      <td>ZMVM</td>\n",
       "      <td>11</td>\n",
       "      <td>0.228300</td>\n",
       "      <td>0.084620</td>\n",
       "      <td>0.264800</td>\n",
       "      <td>0.298903</td>\n",
       "      <td>0.114548</td>\n",
       "      <td>0.184355</td>\n",
       "      <td>-0.000765</td>\n",
       "      <td>0.062162</td>\n",
       "      <td>0.056676</td>\n",
       "      <td>0.076875</td>\n",
       "    </tr>\n",
       "  </tbody>\n",
       "</table>\n",
       "</div>"
      ],
      "text/plain": [
       "            hex_id                                           geometry  city  \\\n",
       "0  8b4995b8dd5dfff  POLYGON ((-99.19998 19.49063, -99.19981 19.490...  ZMVM   \n",
       "1  8b4995b8e154fff  POLYGON ((-99.16119 19.49214, -99.16101 19.492...  ZMVM   \n",
       "2  8b4995b8dc83fff  POLYGON ((-99.19348 19.49287, -99.19330 19.493...  ZMVM   \n",
       "3  8b4995b8dc8efff  POLYGON ((-99.19388 19.49315, -99.19371 19.493...  ZMVM   \n",
       "4  8b4995b8dc31fff  POLYGON ((-99.19648 19.49026, -99.19630 19.490...  ZMVM   \n",
       "5  8b4995b8dc43fff  POLYGON ((-99.19961 19.49351, -99.19943 19.493...  ZMVM   \n",
       "6  8b4995b8dda4fff  POLYGON ((-99.19464 19.48739, -99.19446 19.487...  ZMVM   \n",
       "7  8b4995b8e860fff  POLYGON ((-99.16679 19.48664, -99.16661 19.486...  ZMVM   \n",
       "8  8b4995b8d21efff  POLYGON ((-99.20632 19.50663, -99.20615 19.506...  ZMVM   \n",
       "9  8b4995b8d345fff  POLYGON ((-99.21108 19.50421, -99.21090 19.504...  ZMVM   \n",
       "\n",
       "   res  ndvi_mean  ndvi_std  ndvi_median  ndvi_max  ndvi_min  ndvi_diff  \\\n",
       "0   11   0.183130  0.062578     0.194367  0.257773  0.086611   0.171162   \n",
       "1   11  -0.022569  0.028222    -0.019269 -0.000936 -0.076509   0.075573   \n",
       "2   11   0.137634  0.059429     0.156930  0.197662  0.031899   0.165763   \n",
       "3   11   0.084169  0.037411     0.098810  0.115045  0.014396   0.100649   \n",
       "4   11   0.061729  0.026972     0.061135  0.085542  0.016240   0.069302   \n",
       "5   11   0.209839  0.083443     0.246651  0.293106  0.082181   0.210925   \n",
       "6   11   0.150437  0.050493     0.165970  0.195888  0.077331   0.118557   \n",
       "7   11   0.044500  0.030981     0.047927  0.075759 -0.012823   0.088582   \n",
       "8   11   0.053968  0.028454     0.057982  0.082012  0.005677   0.076335   \n",
       "9   11   0.228300  0.084620     0.264800  0.298903  0.114548   0.184355   \n",
       "\n",
       "   ndvi_tend  ndmi_mean  ndmi_median  ndmi_diff  \n",
       "0  -0.000180   0.004920    -0.009944   0.158101  \n",
       "1  -0.000084  -0.049077    -0.062853   0.181300  \n",
       "2  -0.000713   0.002228    -0.005155   0.126045  \n",
       "3  -0.000377  -0.044239    -0.063996   0.151630  \n",
       "4   0.000471  -0.064496    -0.065611   0.172864  \n",
       "5  -0.001006   0.031399     0.018582   0.122100  \n",
       "6  -0.000156  -0.003881    -0.017095   0.116238  \n",
       "7  -0.000337  -0.076269    -0.099490   0.208478  \n",
       "8  -0.000499  -0.041400    -0.055059   0.118447  \n",
       "9  -0.000765   0.062162     0.056676   0.076875  "
      ]
     },
     "execution_count": 6,
     "metadata": {},
     "output_type": "execute_result"
    }
   ],
   "source": [
    "hex_schema = \"raster_analysis\"\n",
    "hex_tablee = \"ndvi_analysis_hex\"\n",
    "hex_table = \"ndmi_analysis_hex\"\n",
    "ndmi = \"ndmi\"\n",
    "ndvi = \"ndvi\"\n",
    "hex_id = \"hex_id\"\n",
    "c = 'ZMVM'\n",
    "n = '11'\n",
    "query = f'SELECT {ndmi}.hex_id, {ndmi}.geometry, {ndmi}.city, {ndmi}.res, ndvi_mean, ndvi_std, ndvi_median, ndvi_max, ndvi_min, ndvi_diff, ndvi_tend,ndmi_mean, ndmi_median, ndmi_diff FROM {hex_schema}.{hex_table} {ndmi} INNER JOIN {hex_schema}.{hex_tablee} {ndvi} ON {ndmi}.{hex_id} = {ndvi}.{hex_id} WHERE {ndmi}.\\\"city\\\" = \\'{c}\\' AND {ndmi}.\\\"res\\\" = {n}'\n",
    "intt_gdl = aup.gdf_from_query(query, geometry_col='geometry')\n",
    "intt_gdl.head(10)"
   ]
  },
  {
   "cell_type": "code",
   "execution_count": 11,
   "id": "e1ab3fb4-ad32-4d03-8972-528ff505a9be",
   "metadata": {
    "tags": []
   },
   "outputs": [
    {
     "data": {
      "text/plain": [
       "(299918, 14)"
      ]
     },
     "execution_count": 11,
     "metadata": {},
     "output_type": "execute_result"
    }
   ],
   "source": [
    "intt_gdl.shape"
   ]
  },
  {
   "cell_type": "markdown",
   "id": "3573a856-d6a8-47c5-9511-c3ead1f22f77",
   "metadata": {},
   "source": [
    "## Intersección"
   ]
  },
  {
   "cell_type": "code",
   "execution_count": 7,
   "id": "b3ccd6fc-d015-4ca2-b82c-9b465ce77552",
   "metadata": {},
   "outputs": [],
   "source": [
    "intt_gdl = intt_gdl.set_crs(\"EPSG:4326\")\n",
    "hex_gdl = hex_gdl.set_crs(\"EPSG:4326\")"
   ]
  },
  {
   "cell_type": "code",
   "execution_count": 8,
   "id": "7bea388f-410c-4e31-8fa0-c9934b1da302",
   "metadata": {
    "tags": []
   },
   "outputs": [
    {
     "data": {
      "text/html": [
       "<div>\n",
       "<style scoped>\n",
       "    .dataframe tbody tr th:only-of-type {\n",
       "        vertical-align: middle;\n",
       "    }\n",
       "\n",
       "    .dataframe tbody tr th {\n",
       "        vertical-align: top;\n",
       "    }\n",
       "\n",
       "    .dataframe thead th {\n",
       "        text-align: right;\n",
       "    }\n",
       "</style>\n",
       "<table border=\"1\" class=\"dataframe\">\n",
       "  <thead>\n",
       "    <tr style=\"text-align: right;\">\n",
       "      <th></th>\n",
       "      <th>hex_id</th>\n",
       "      <th>geometry</th>\n",
       "      <th>city</th>\n",
       "      <th>EspPublico</th>\n",
       "      <th>ndvi_mean</th>\n",
       "      <th>ndvi_std</th>\n",
       "      <th>ndvi_median</th>\n",
       "      <th>ndvi_max</th>\n",
       "      <th>ndvi_min</th>\n",
       "      <th>ndvi_diff</th>\n",
       "      <th>ndvi_tend</th>\n",
       "      <th>ndmi_mean</th>\n",
       "      <th>ndmi_median</th>\n",
       "      <th>ndmi_diff</th>\n",
       "    </tr>\n",
       "  </thead>\n",
       "  <tbody>\n",
       "    <tr>\n",
       "      <th>0</th>\n",
       "      <td>8b4995b81405fff</td>\n",
       "      <td>POLYGON ((-99.15333 19.47087, -99.15315 19.471...</td>\n",
       "      <td>ZMVM</td>\n",
       "      <td>0</td>\n",
       "      <td>0.094694</td>\n",
       "      <td>0.041706</td>\n",
       "      <td>0.104945</td>\n",
       "      <td>0.134444</td>\n",
       "      <td>0.029785</td>\n",
       "      <td>0.10466</td>\n",
       "      <td>-0.000536</td>\n",
       "      <td>-0.009775</td>\n",
       "      <td>-0.026843</td>\n",
       "      <td>0.124114</td>\n",
       "    </tr>\n",
       "    <tr>\n",
       "      <th>2</th>\n",
       "      <td>8b4995b81420fff</td>\n",
       "      <td>POLYGON ((-99.15345 19.46991, -99.15328 19.470...</td>\n",
       "      <td>ZMVM</td>\n",
       "      <td>0</td>\n",
       "      <td>0.094694</td>\n",
       "      <td>0.041706</td>\n",
       "      <td>0.104945</td>\n",
       "      <td>0.134444</td>\n",
       "      <td>0.029785</td>\n",
       "      <td>0.10466</td>\n",
       "      <td>-0.000536</td>\n",
       "      <td>-0.009775</td>\n",
       "      <td>-0.026843</td>\n",
       "      <td>0.124114</td>\n",
       "    </tr>\n",
       "    <tr>\n",
       "      <th>148</th>\n",
       "      <td>8b4995b8142efff</td>\n",
       "      <td>POLYGON ((-99.15380 19.47067, -99.15362 19.470...</td>\n",
       "      <td>ZMVM</td>\n",
       "      <td>0</td>\n",
       "      <td>0.094694</td>\n",
       "      <td>0.041706</td>\n",
       "      <td>0.104945</td>\n",
       "      <td>0.134444</td>\n",
       "      <td>0.029785</td>\n",
       "      <td>0.10466</td>\n",
       "      <td>-0.000536</td>\n",
       "      <td>-0.009775</td>\n",
       "      <td>-0.026843</td>\n",
       "      <td>0.124114</td>\n",
       "    </tr>\n",
       "    <tr>\n",
       "      <th>299807</th>\n",
       "      <td>8b4995b81422fff</td>\n",
       "      <td>POLYGON ((-99.15298 19.47010, -99.15281 19.470...</td>\n",
       "      <td>ZMVM</td>\n",
       "      <td>0</td>\n",
       "      <td>0.094694</td>\n",
       "      <td>0.041706</td>\n",
       "      <td>0.104945</td>\n",
       "      <td>0.134444</td>\n",
       "      <td>0.029785</td>\n",
       "      <td>0.10466</td>\n",
       "      <td>-0.000536</td>\n",
       "      <td>-0.009775</td>\n",
       "      <td>-0.026843</td>\n",
       "      <td>0.124114</td>\n",
       "    </tr>\n",
       "    <tr>\n",
       "      <th>299811</th>\n",
       "      <td>8b4995b81421fff</td>\n",
       "      <td>POLYGON ((-99.15386 19.47019, -99.15368 19.470...</td>\n",
       "      <td>ZMVM</td>\n",
       "      <td>0</td>\n",
       "      <td>0.094694</td>\n",
       "      <td>0.041706</td>\n",
       "      <td>0.104945</td>\n",
       "      <td>0.134444</td>\n",
       "      <td>0.029785</td>\n",
       "      <td>0.10466</td>\n",
       "      <td>-0.000536</td>\n",
       "      <td>-0.009775</td>\n",
       "      <td>-0.026843</td>\n",
       "      <td>0.124114</td>\n",
       "    </tr>\n",
       "  </tbody>\n",
       "</table>\n",
       "</div>"
      ],
      "text/plain": [
       "                 hex_id                                           geometry  \\\n",
       "0       8b4995b81405fff  POLYGON ((-99.15333 19.47087, -99.15315 19.471...   \n",
       "2       8b4995b81420fff  POLYGON ((-99.15345 19.46991, -99.15328 19.470...   \n",
       "148     8b4995b8142efff  POLYGON ((-99.15380 19.47067, -99.15362 19.470...   \n",
       "299807  8b4995b81422fff  POLYGON ((-99.15298 19.47010, -99.15281 19.470...   \n",
       "299811  8b4995b81421fff  POLYGON ((-99.15386 19.47019, -99.15368 19.470...   \n",
       "\n",
       "        city  EspPublico  ndvi_mean  ndvi_std  ndvi_median  ndvi_max  \\\n",
       "0       ZMVM           0   0.094694  0.041706     0.104945  0.134444   \n",
       "2       ZMVM           0   0.094694  0.041706     0.104945  0.134444   \n",
       "148     ZMVM           0   0.094694  0.041706     0.104945  0.134444   \n",
       "299807  ZMVM           0   0.094694  0.041706     0.104945  0.134444   \n",
       "299811  ZMVM           0   0.094694  0.041706     0.104945  0.134444   \n",
       "\n",
       "        ndvi_min  ndvi_diff  ndvi_tend  ndmi_mean  ndmi_median  ndmi_diff  \n",
       "0       0.029785    0.10466  -0.000536  -0.009775    -0.026843   0.124114  \n",
       "2       0.029785    0.10466  -0.000536  -0.009775    -0.026843   0.124114  \n",
       "148     0.029785    0.10466  -0.000536  -0.009775    -0.026843   0.124114  \n",
       "299807  0.029785    0.10466  -0.000536  -0.009775    -0.026843   0.124114  \n",
       "299811  0.029785    0.10466  -0.000536  -0.009775    -0.026843   0.124114  "
      ]
     },
     "execution_count": 8,
     "metadata": {},
     "output_type": "execute_result"
    }
   ],
   "source": [
    "inter = gpd.sjoin(hex_gdl, intt_gdl, op='intersects')\n",
    "inter.drop(columns=['index_right','city_right','res','hex_id_right'], inplace=True)\n",
    "inter.rename(columns={\"hex_id_left\": \"hex_id\",\"city_left\": \"city\"}, inplace=True)\n",
    "inter.head()"
   ]
  },
  {
   "cell_type": "code",
   "execution_count": 9,
   "id": "b437914a-28ea-4e5e-9c70-ca37134fe7a6",
   "metadata": {},
   "outputs": [
    {
     "data": {
      "text/plain": [
       "hex_id         0\n",
       "geometry       0\n",
       "city           0\n",
       "EspPublico     0\n",
       "ndvi_mean      0\n",
       "ndvi_std       0\n",
       "ndvi_median    0\n",
       "ndvi_max       0\n",
       "ndvi_min       0\n",
       "ndvi_diff      0\n",
       "ndvi_tend      0\n",
       "ndmi_mean      0\n",
       "ndmi_median    0\n",
       "ndmi_diff      0\n",
       "dtype: int64"
      ]
     },
     "execution_count": 9,
     "metadata": {},
     "output_type": "execute_result"
    }
   ],
   "source": [
    "pd.isna(inter).sum()"
   ]
  },
  {
   "cell_type": "code",
   "execution_count": 10,
   "id": "105017ac-eec4-4511-b569-990650feb270",
   "metadata": {
    "tags": []
   },
   "outputs": [
    {
     "name": "stdout",
     "output_type": "stream",
     "text": [
      "Números de hexagonos sin Espacios Públicos: 1528834 \n",
      "Número de Hexágonos con Espacios Públicos: 552051\n",
      "Número total de Hexágonos: 2080885\n"
     ]
    }
   ],
   "source": [
    "cont_ceros = np.sum(inter['EspPublico'] == 0)\n",
    "cont_uno = np.sum(inter['EspPublico'])\n",
    "print(f'Números de hexagonos sin Espacios Públicos: {cont_ceros} \\nNúmero de Hexágonos con Espacios Públicos: {cont_uno}\\nNúmero total de Hexágonos: {cont_ceros+cont_uno}')"
   ]
  },
  {
   "cell_type": "code",
   "execution_count": 11,
   "id": "027e511f-a871-41f5-954c-c1401f067e57",
   "metadata": {
    "tags": []
   },
   "outputs": [
    {
     "data": {
      "text/plain": [
       "array([0, 1])"
      ]
     },
     "execution_count": 11,
     "metadata": {},
     "output_type": "execute_result"
    }
   ],
   "source": [
    "inter['EspPublico'].unique()"
   ]
  },
  {
   "cell_type": "markdown",
   "id": "1c2d6c8e-f21e-482e-b007-821bbea5576b",
   "metadata": {},
   "source": [
    "## Submuestreo 150,000 Hexágonos Esp Púb x 150,000 Hexágonos No Esp Púb"
   ]
  },
  {
   "cell_type": "code",
   "execution_count": 12,
   "id": "03d572a2-0228-4b2c-95c3-c9726fce688d",
   "metadata": {
    "tags": []
   },
   "outputs": [
    {
     "data": {
      "text/html": [
       "<div>\n",
       "<style scoped>\n",
       "    .dataframe tbody tr th:only-of-type {\n",
       "        vertical-align: middle;\n",
       "    }\n",
       "\n",
       "    .dataframe tbody tr th {\n",
       "        vertical-align: top;\n",
       "    }\n",
       "\n",
       "    .dataframe thead th {\n",
       "        text-align: right;\n",
       "    }\n",
       "</style>\n",
       "<table border=\"1\" class=\"dataframe\">\n",
       "  <thead>\n",
       "    <tr style=\"text-align: right;\">\n",
       "      <th></th>\n",
       "      <th>hex_id</th>\n",
       "      <th>geometry</th>\n",
       "      <th>city</th>\n",
       "      <th>EspPublico</th>\n",
       "      <th>ndvi_mean</th>\n",
       "      <th>ndvi_std</th>\n",
       "      <th>ndvi_median</th>\n",
       "      <th>ndvi_max</th>\n",
       "      <th>ndvi_min</th>\n",
       "      <th>ndvi_diff</th>\n",
       "      <th>ndvi_tend</th>\n",
       "      <th>ndmi_mean</th>\n",
       "      <th>ndmi_median</th>\n",
       "      <th>ndmi_diff</th>\n",
       "    </tr>\n",
       "  </thead>\n",
       "  <tbody>\n",
       "    <tr>\n",
       "      <th>0</th>\n",
       "      <td>8b4995aa4459fff</td>\n",
       "      <td>POLYGON ((-99.14626 19.54507, -99.14608 19.545...</td>\n",
       "      <td>ZMVM</td>\n",
       "      <td>1</td>\n",
       "      <td>0.073286</td>\n",
       "      <td>0.045207</td>\n",
       "      <td>0.080575</td>\n",
       "      <td>0.110494</td>\n",
       "      <td>-0.014418</td>\n",
       "      <td>0.124912</td>\n",
       "      <td>-0.000453</td>\n",
       "      <td>-0.056574</td>\n",
       "      <td>-0.069866</td>\n",
       "      <td>0.205583</td>\n",
       "    </tr>\n",
       "    <tr>\n",
       "      <th>1</th>\n",
       "      <td>8b4995b15ccbfff</td>\n",
       "      <td>POLYGON ((-99.25531 19.38281, -99.25513 19.383...</td>\n",
       "      <td>ZMVM</td>\n",
       "      <td>1</td>\n",
       "      <td>0.187339</td>\n",
       "      <td>0.047990</td>\n",
       "      <td>0.198820</td>\n",
       "      <td>0.235221</td>\n",
       "      <td>0.108858</td>\n",
       "      <td>0.126362</td>\n",
       "      <td>-0.000654</td>\n",
       "      <td>0.034693</td>\n",
       "      <td>0.025850</td>\n",
       "      <td>0.097522</td>\n",
       "    </tr>\n",
       "    <tr>\n",
       "      <th>2</th>\n",
       "      <td>8b49958e655afff</td>\n",
       "      <td>POLYGON ((-99.00542 19.28836, -99.00524 19.288...</td>\n",
       "      <td>ZMVM</td>\n",
       "      <td>1</td>\n",
       "      <td>0.032214</td>\n",
       "      <td>0.030879</td>\n",
       "      <td>0.033241</td>\n",
       "      <td>0.083296</td>\n",
       "      <td>-0.018006</td>\n",
       "      <td>0.101302</td>\n",
       "      <td>-0.000464</td>\n",
       "      <td>-0.044433</td>\n",
       "      <td>-0.057564</td>\n",
       "      <td>0.163503</td>\n",
       "    </tr>\n",
       "    <tr>\n",
       "      <th>3</th>\n",
       "      <td>8b49958c135bfff</td>\n",
       "      <td>POLYGON ((-99.03099 19.37983, -99.03081 19.380...</td>\n",
       "      <td>ZMVM</td>\n",
       "      <td>1</td>\n",
       "      <td>0.335218</td>\n",
       "      <td>0.120720</td>\n",
       "      <td>0.381861</td>\n",
       "      <td>0.449127</td>\n",
       "      <td>0.154848</td>\n",
       "      <td>0.294278</td>\n",
       "      <td>-0.001125</td>\n",
       "      <td>0.110334</td>\n",
       "      <td>0.108866</td>\n",
       "      <td>0.104404</td>\n",
       "    </tr>\n",
       "    <tr>\n",
       "      <th>4</th>\n",
       "      <td>8b49958cc808fff</td>\n",
       "      <td>POLYGON ((-99.04790 19.37919, -99.04773 19.379...</td>\n",
       "      <td>ZMVM</td>\n",
       "      <td>1</td>\n",
       "      <td>0.318747</td>\n",
       "      <td>0.154151</td>\n",
       "      <td>0.293153</td>\n",
       "      <td>0.628651</td>\n",
       "      <td>0.120642</td>\n",
       "      <td>0.508009</td>\n",
       "      <td>-0.001998</td>\n",
       "      <td>0.012045</td>\n",
       "      <td>-0.006807</td>\n",
       "      <td>0.350358</td>\n",
       "    </tr>\n",
       "  </tbody>\n",
       "</table>\n",
       "</div>"
      ],
      "text/plain": [
       "            hex_id                                           geometry  city  \\\n",
       "0  8b4995aa4459fff  POLYGON ((-99.14626 19.54507, -99.14608 19.545...  ZMVM   \n",
       "1  8b4995b15ccbfff  POLYGON ((-99.25531 19.38281, -99.25513 19.383...  ZMVM   \n",
       "2  8b49958e655afff  POLYGON ((-99.00542 19.28836, -99.00524 19.288...  ZMVM   \n",
       "3  8b49958c135bfff  POLYGON ((-99.03099 19.37983, -99.03081 19.380...  ZMVM   \n",
       "4  8b49958cc808fff  POLYGON ((-99.04790 19.37919, -99.04773 19.379...  ZMVM   \n",
       "\n",
       "   EspPublico  ndvi_mean  ndvi_std  ndvi_median  ndvi_max  ndvi_min  \\\n",
       "0           1   0.073286  0.045207     0.080575  0.110494 -0.014418   \n",
       "1           1   0.187339  0.047990     0.198820  0.235221  0.108858   \n",
       "2           1   0.032214  0.030879     0.033241  0.083296 -0.018006   \n",
       "3           1   0.335218  0.120720     0.381861  0.449127  0.154848   \n",
       "4           1   0.318747  0.154151     0.293153  0.628651  0.120642   \n",
       "\n",
       "   ndvi_diff  ndvi_tend  ndmi_mean  ndmi_median  ndmi_diff  \n",
       "0   0.124912  -0.000453  -0.056574    -0.069866   0.205583  \n",
       "1   0.126362  -0.000654   0.034693     0.025850   0.097522  \n",
       "2   0.101302  -0.000464  -0.044433    -0.057564   0.163503  \n",
       "3   0.294278  -0.001125   0.110334     0.108866   0.104404  \n",
       "4   0.508009  -0.001998   0.012045    -0.006807   0.350358  "
      ]
     },
     "execution_count": 12,
     "metadata": {},
     "output_type": "execute_result"
    }
   ],
   "source": [
    "num_samples = 150000\n",
    "\n",
    "# Randomly sample 203,570 hexagons with public spaces\n",
    "sample_with_public_spaces = inter[inter['EspPublico'] == 1].sample(n=num_samples, random_state=42)\n",
    "\n",
    "# Randomly sample 203,570 hexagons without public spaces\n",
    "sample_without_public_spaces = inter[inter['EspPublico'] == 0].sample(n=num_samples, random_state=42)\n",
    "\n",
    "# Concatenate the two samples to get the final subsample\n",
    "inter = pd.concat([sample_with_public_spaces, sample_without_public_spaces])\n",
    "inter.reset_index(drop = True, inplace = True)\n",
    "inter.head()"
   ]
  },
  {
   "cell_type": "code",
   "execution_count": 13,
   "id": "9c9f3b61-242e-4748-a368-a0e40d7f8f85",
   "metadata": {
    "tags": []
   },
   "outputs": [
    {
     "name": "stdout",
     "output_type": "stream",
     "text": [
      "Números de hexagonos sin Espacios Públicos: 150000 \n",
      "Número de Hexágonos con Espacios Públicos: 150000\n",
      "Número total de Hexágonos: 300000\n"
     ]
    }
   ],
   "source": [
    "contador_ceros = np.sum(inter['EspPublico'] == 0)\n",
    "contador_uno = np.sum(inter['EspPublico'])\n",
    "print(f'Números de hexagonos sin Espacios Públicos: {contador_ceros} \\nNúmero de Hexágonos con Espacios Públicos: {contador_uno}\\nNúmero total de Hexágonos: {contador_ceros+contador_uno}')"
   ]
  },
  {
   "cell_type": "code",
   "execution_count": 14,
   "id": "2c94f01e-ffce-44f3-b64e-424d3d4684c3",
   "metadata": {
    "tags": []
   },
   "outputs": [
    {
     "data": {
      "text/plain": [
       "(300000, 14)"
      ]
     },
     "execution_count": 14,
     "metadata": {},
     "output_type": "execute_result"
    }
   ],
   "source": [
    "inter.shape"
   ]
  },
  {
   "cell_type": "markdown",
   "id": "224ae004-cdfa-4cee-b65e-2388946d536c",
   "metadata": {},
   "source": [
    "Ya está balanceada la base de datos y con un submuestreo random. Entonces ya podemos juntarlo con el otro GeoDataFrame"
   ]
  },
  {
   "cell_type": "markdown",
   "id": "c4bf0248-be09-4748-b48e-350cb0e0c6e4",
   "metadata": {},
   "source": [
    "Verificamos duplicados"
   ]
  },
  {
   "cell_type": "markdown",
   "id": "57a87f61-d184-4ab1-92f2-3a6b8994257c",
   "metadata": {},
   "source": [
    "## Métodos de Clasificación"
   ]
  },
  {
   "cell_type": "code",
   "execution_count": 15,
   "id": "351a23ed-b377-4ee2-b6be-56a9a5159552",
   "metadata": {
    "tags": []
   },
   "outputs": [],
   "source": [
    "x = inter[['ndvi_mean','ndvi_std','ndvi_median','ndvi_max','ndvi_min','ndvi_diff','ndvi_tend','ndmi_mean','ndmi_median','ndmi_diff']]\n",
    "y = inter['EspPublico']"
   ]
  },
  {
   "cell_type": "code",
   "execution_count": 16,
   "id": "3d9d5893-418b-44e4-8bee-4f3558ee3d87",
   "metadata": {
    "tags": []
   },
   "outputs": [
    {
     "data": {
      "text/plain": [
       "array([1, 0])"
      ]
     },
     "execution_count": 16,
     "metadata": {},
     "output_type": "execute_result"
    }
   ],
   "source": [
    "y.unique()"
   ]
  },
  {
   "cell_type": "markdown",
   "id": "6454b527-33cc-4827-89f9-469184df4fe3",
   "metadata": {},
   "source": [
    "### Regresión Logística"
   ]
  },
  {
   "cell_type": "code",
   "execution_count": 17,
   "id": "7c6a11af-ffaf-46c4-a039-32994400200a",
   "metadata": {
    "tags": []
   },
   "outputs": [],
   "source": [
    "x_train, x_test, y_train, y_test = train_test_split(x,y, test_size = 0.2, random_state = 42)\n",
    "scaler = StandardScaler()\n",
    "x_train_scale = scaler.fit_transform(x_train)\n",
    "x_test_scale = scaler.fit_transform(x_test)"
   ]
  },
  {
   "cell_type": "code",
   "execution_count": 18,
   "id": "e9218021-7b99-4551-8374-e3aefb6bff50",
   "metadata": {
    "tags": []
   },
   "outputs": [
    {
     "data": {
      "image/png": "[encoded data removed]",
      "text/plain": [
       "<Figure size 1000x700 with 2 Axes>"
      ]
     },
     "metadata": {},
     "output_type": "display_data"
    }
   ],
   "source": [
    "clf = LogisticRegression()\n",
    "clf.fit(x_train_scale, y_train)\n",
    "y_pred = clf.predict(x_test_scale)\n",
    "cm = confusion_matrix(y_test,y_pred)\n",
    "class_labels = ['Espacio Público', 'No Espacio Público']\n",
    "plt.figure(figsize = (10,7))\n",
    "sns.heatmap(cm, annot = True, fmt = \"g\", cmap=\"Blues\", xticklabels=class_labels, yticklabels=class_labels)\n",
    "plt.xlabel('Predicted', fontsize = 12, fontweight  = 'bold')\n",
    "plt.ylabel('Actual', fontsize = 12, fontweight  = 'bold')\n",
    "plt.title('Matriz de Confusión', fontsize = 15, fontweight = 'bold')\n",
    "plt.show()"
   ]
  },
  {
   "cell_type": "code",
   "execution_count": 19,
   "id": "e99c86fa-f71b-4cad-bc67-f018a3054e83",
   "metadata": {
    "tags": []
   },
   "outputs": [
    {
     "name": "stdout",
     "output_type": "stream",
     "text": [
      "Accuracy: 0.6522\n"
     ]
    }
   ],
   "source": [
    "accuracy = accuracy_score(y_test, y_pred)\n",
    "print(f'Accuracy: {accuracy}')"
   ]
  },
  {
   "cell_type": "markdown",
   "id": "5bf67297-8ea3-4160-ab9b-eff740792440",
   "metadata": {},
   "source": [
    "### Naive Bayes"
   ]
  },
  {
   "cell_type": "code",
   "execution_count": 20,
   "id": "50cf3b62-719b-418d-b7b2-6b26cd25f05c",
   "metadata": {
    "tags": []
   },
   "outputs": [
    {
     "data": {
      "text/html": [
       "<style>#sk-container-id-1 {color: black;background-color: white;}#sk-container-id-1 pre{padding: 0;}#sk-container-id-1 div.sk-toggleable {background-color: white;}#sk-container-id-1 label.sk-toggleable__label {cursor: pointer;display: block;width: 100%;margin-bottom: 0;padding: 0.3em;box-sizing: border-box;text-align: center;}#sk-container-id-1 label.sk-toggleable__label-arrow:before {content: \"▸\";float: left;margin-right: 0.25em;color: #696969;}#sk-container-id-1 label.sk-toggleable__label-arrow:hover:before {color: black;}#sk-container-id-1 div.sk-estimator:hover label.sk-toggleable__label-arrow:before {color: black;}#sk-container-id-1 div.sk-toggleable__content {max-height: 0;max-width: 0;overflow: hidden;text-align: left;background-color: #f0f8ff;}#sk-container-id-1 div.sk-toggleable__content pre {margin: 0.2em;color: black;border-radius: 0.25em;background-color: #f0f8ff;}#sk-container-id-1 input.sk-toggleable__control:checked~div.sk-toggleable__content {max-height: 200px;max-width: 100%;overflow: auto;}#sk-container-id-1 input.sk-toggleable__control:checked~label.sk-toggleable__label-arrow:before {content: \"▾\";}#sk-container-id-1 div.sk-estimator input.sk-toggleable__control:checked~label.sk-toggleable__label {background-color: #d4ebff;}#sk-container-id-1 div.sk-label input.sk-toggleable__control:checked~label.sk-toggleable__label {background-color: #d4ebff;}#sk-container-id-1 input.sk-hidden--visually {border: 0;clip: rect(1px 1px 1px 1px);clip: rect(1px, 1px, 1px, 1px);height: 1px;margin: -1px;overflow: hidden;padding: 0;position: absolute;width: 1px;}#sk-container-id-1 div.sk-estimator {font-family: monospace;background-color: #f0f8ff;border: 1px dotted black;border-radius: 0.25em;box-sizing: border-box;margin-bottom: 0.5em;}#sk-container-id-1 div.sk-estimator:hover {background-color: #d4ebff;}#sk-container-id-1 div.sk-parallel-item::after {content: \"\";width: 100%;border-bottom: 1px solid gray;flex-grow: 1;}#sk-container-id-1 div.sk-label:hover label.sk-toggleable__label {background-color: #d4ebff;}#sk-container-id-1 div.sk-serial::before {content: \"\";position: absolute;border-left: 1px solid gray;box-sizing: border-box;top: 0;bottom: 0;left: 50%;z-index: 0;}#sk-container-id-1 div.sk-serial {display: flex;flex-direction: column;align-items: center;background-color: white;padding-right: 0.2em;padding-left: 0.2em;position: relative;}#sk-container-id-1 div.sk-item {position: relative;z-index: 1;}#sk-container-id-1 div.sk-parallel {display: flex;align-items: stretch;justify-content: center;background-color: white;position: relative;}#sk-container-id-1 div.sk-item::before, #sk-container-id-1 div.sk-parallel-item::before {content: \"\";position: absolute;border-left: 1px solid gray;box-sizing: border-box;top: 0;bottom: 0;left: 50%;z-index: -1;}#sk-container-id-1 div.sk-parallel-item {display: flex;flex-direction: column;z-index: 1;position: relative;background-color: white;}#sk-container-id-1 div.sk-parallel-item:first-child::after {align-self: flex-end;width: 50%;}#sk-container-id-1 div.sk-parallel-item:last-child::after {align-self: flex-start;width: 50%;}#sk-container-id-1 div.sk-parallel-item:only-child::after {width: 0;}#sk-container-id-1 div.sk-dashed-wrapped {border: 1px dashed gray;margin: 0 0.4em 0.5em 0.4em;box-sizing: border-box;padding-bottom: 0.4em;background-color: white;}#sk-container-id-1 div.sk-label label {font-family: monospace;font-weight: bold;display: inline-block;line-height: 1.2em;}#sk-container-id-1 div.sk-label-container {text-align: center;}#sk-container-id-1 div.sk-container {/* jupyter's `normalize.less` sets `[hidden] { display: none; }` but bootstrap.min.css set `[hidden] { display: none !important; }` so we also need the `!important` here to be able to override the default hidden behavior on the sphinx rendered scikit-learn.org. See: https://github.com/scikit-learn/scikit-learn/issues/21755 */display: inline-block !important;position: relative;}#sk-container-id-1 div.sk-text-repr-fallback {display: none;}</style><div id=\"sk-container-id-1\" class=\"sk-top-container\"><div class=\"sk-text-repr-fallback\"><pre>GaussianNB()</pre><b>In a Jupyter environment, please rerun this cell to show the HTML representation or trust the notebook. <br />On GitHub, the HTML representation is unable to render, please try loading this page with nbviewer.org.</b></div><div class=\"sk-container\" hidden><div class=\"sk-item\"><div class=\"sk-estimator sk-toggleable\"><input class=\"sk-toggleable__control sk-hidden--visually\" id=\"sk-estimator-id-1\" type=\"checkbox\" checked><label for=\"sk-estimator-id-1\" class=\"sk-toggleable__label sk-toggleable__label-arrow\">GaussianNB</label><div class=\"sk-toggleable__content\"><pre>GaussianNB()</pre></div></div></div></div></div>"
      ],
      "text/plain": [
       "GaussianNB()"
      ]
     },
     "execution_count": 20,
     "metadata": {},
     "output_type": "execute_result"
    }
   ],
   "source": [
    "nb = GaussianNB()\n",
    "nb.fit(x_train, y_train)"
   ]
  },
  {
   "cell_type": "code",
   "execution_count": 21,
   "id": "d16bc4e8-1cc1-42c9-946d-00d6c4bafe15",
   "metadata": {
    "tags": []
   },
   "outputs": [
    {
     "data": {
      "image/png": "[encoded data removed]",
      "text/plain": [
       "<Figure size 1000x700 with 2 Axes>"
      ]
     },
     "metadata": {},
     "output_type": "display_data"
    }
   ],
   "source": [
    "y_prend = nb.predict(x_test)\n",
    "cm = confusion_matrix(y_test, y_prend)\n",
    "class_labels = ['Espacio Público', 'No Espacio Público']\n",
    "plt.figure(figsize = (10,7))\n",
    "sns.heatmap(cm, annot = True, fmt = \"g\", cmap=\"Reds\", xticklabels=class_labels, yticklabels=class_labels)\n",
    "plt.xlabel('Predicted', fontsize = 12, fontweight  = 'bold')\n",
    "plt.ylabel('Actual', fontsize = 12, fontweight  = 'bold')\n",
    "plt.title('Matriz de Confusión', fontsize = 15, fontweight = 'bold')\n",
    "plt.show()"
   ]
  },
  {
   "cell_type": "code",
   "execution_count": 22,
   "id": "a62b3e24-1911-4044-8c55-a900a9c00791",
   "metadata": {
    "tags": []
   },
   "outputs": [
    {
     "name": "stdout",
     "output_type": "stream",
     "text": [
      "Accuracy: 0.5994333333333334\n"
     ]
    }
   ],
   "source": [
    "accuracy = accuracy_score(y_test, y_prend)\n",
    "print(f'Accuracy: {accuracy}')"
   ]
  },
  {
   "cell_type": "markdown",
   "id": "e03aa28d-74f5-44f4-a72a-1cca772fd9a3",
   "metadata": {},
   "source": [
    "## Random Forest Classifier (RFC)"
   ]
  },
  {
   "cell_type": "code",
   "execution_count": 23,
   "id": "ee0bd417-fa49-4c8f-a558-ad96ca55d240",
   "metadata": {
    "tags": []
   },
   "outputs": [],
   "source": [
    "rf = RandomForestClassifier(n_estimators=120, random_state=42)  \n",
    "rf.fit(x_train, y_train)\n",
    "\n",
    "# Realizar predicciones en el conjunto de prueba\n",
    "y_predd = rf.predict(x_test)"
   ]
  },
  {
   "cell_type": "code",
   "execution_count": 24,
   "id": "6c3882cc-aeec-4ee4-acd2-4fb4a8e7974e",
   "metadata": {
    "tags": []
   },
   "outputs": [
    {
     "data": {
      "image/png": "[encoded data removed]",
      "text/plain": [
       "<Figure size 1000x700 with 2 Axes>"
      ]
     },
     "metadata": {},
     "output_type": "display_data"
    }
   ],
   "source": [
    "cm = confusion_matrix(y_test, y_predd)\n",
    "class_labels = ['Espacio Verde Público', 'No Espacio Verde Público']\n",
    "plt.figure(figsize = (10,7))\n",
    "sns.heatmap(cm, annot = True, fmt = \"g\", cmap=\"Greens\", xticklabels=class_labels, yticklabels=class_labels)\n",
    "plt.xlabel('Predicted', fontsize = 12, fontweight  = 'bold')\n",
    "plt.ylabel('Actual', fontsize = 12, fontweight  = 'bold')\n",
    "plt.title('Matriz de Confusión', fontsize = 15, fontweight = 'bold')\n",
    "plt.show()"
   ]
  },
  {
   "cell_type": "code",
   "execution_count": 25,
   "id": "7cc41317-b016-4a2d-98b3-2e7447deae4b",
   "metadata": {
    "tags": []
   },
   "outputs": [
    {
     "name": "stdout",
     "output_type": "stream",
     "text": [
      "Accuracy: 0.8052166666666667\n"
     ]
    }
   ],
   "source": [
    "accuracy = accuracy_score(y_test, y_predd)\n",
    "print(f'Accuracy: {accuracy}')"
   ]
  },
  {
   "cell_type": "markdown",
   "id": "5f1b2368-9074-4903-8f22-6a0ba8133592",
   "metadata": {},
   "source": [
    "### Optimización Hiperparámetros para obtener la mejor combinación"
   ]
  },
  {
   "cell_type": "markdown",
   "id": "3ad06bdc-d960-45df-bff6-207989287370",
   "metadata": {},
   "source": [
    "#### GridSearch"
   ]
  },
  {
   "cell_type": "code",
   "execution_count": 18,
   "id": "728a0098-3e08-451e-8eb9-45234f9f9c0a",
   "metadata": {
    "tags": []
   },
   "outputs": [],
   "source": [
    "param_grid = { \n",
    "    'n_estimators': [25, 50, 100, 125, 150], \n",
    "    'max_features': ['sqrt', 'log2', None], \n",
    "    'max_depth': [3, 6, 9], \n",
    "    'max_leaf_nodes': [3, 6, 9], \n",
    "}  "
   ]
  },
  {
   "cell_type": "markdown",
   "id": "4da1b962-ead0-473c-99b3-0addc6517655",
   "metadata": {},
   "source": [
    "Como tiene mucho costo computacional el hacer una búsqueda exhaustiva y tenemos muchos datos. Voy a hacer un subsample nada más para sacar los mejores híper parámetros y ya después aplicarlos al completo."
   ]
  },
  {
   "cell_type": "code",
   "execution_count": 24,
   "id": "b7d61a6a-2c81-41d7-8338-f245db5c1bad",
   "metadata": {
    "tags": []
   },
   "outputs": [
    {
     "name": "stdout",
     "output_type": "stream",
     "text": [
      "RandomForestClassifier(max_depth=6, max_features=None, max_leaf_nodes=9)\n"
     ]
    }
   ],
   "source": [
    "sample_size = 10000  \n",
    "x_train_sample = x_train[:sample_size]\n",
    "y_train_sample = y_train[:sample_size]\n",
    "grid_search = GridSearchCV(RandomForestClassifier(), \n",
    "                           param_grid=param_grid) \n",
    "grid_search.fit(x_train_sample, y_train_sample) \n",
    "print(grid_search.best_estimator_) "
   ]
  },
  {
   "cell_type": "code",
   "execution_count": 25,
   "id": "2e607d24-5fe6-439b-9282-06cf0eff90df",
   "metadata": {},
   "outputs": [],
   "source": [
    "rf_grid = RandomForestClassifier(max_depth=6, \n",
    "                                    max_features=None, \n",
    "                                    max_leaf_nodes=9,\n",
    "                                    n_estimators=120, \n",
    "                                    random_state=42)  \n",
    "rf_grid.fit(x_train, y_train)\n",
    "\n",
    "# Realizar predicciones en el conjunto de prueba\n",
    "y_pred_grid = rf_grid.predict(x_test)"
   ]
  },
  {
   "cell_type": "code",
   "execution_count": 26,
   "id": "3c028898-d1c1-4b5b-bca9-3fda7b510dd9",
   "metadata": {
    "tags": []
   },
   "outputs": [
    {
     "data": {
      "image/png": "[encoded data removed]",
      "text/plain": [
       "<Figure size 1000x700 with 2 Axes>"
      ]
     },
     "metadata": {},
     "output_type": "display_data"
    }
   ],
   "source": [
    "cm = confusion_matrix(y_test, y_pred_grid)\n",
    "class_labels = ['Espacio Verde Público', 'No Espacio Verde Público']\n",
    "plt.figure(figsize = (10,7))\n",
    "sns.heatmap(cm, annot = True, fmt = \"g\", cmap=\"Oranges\", xticklabels=class_labels, yticklabels=class_labels)\n",
    "plt.xlabel('Predicted', fontsize = 12, fontweight  = 'bold')\n",
    "plt.ylabel('Actual', fontsize = 12, fontweight  = 'bold')\n",
    "plt.title('Matriz de Confusión', fontsize = 15, fontweight = 'bold')\n",
    "plt.show()"
   ]
  },
  {
   "cell_type": "code",
   "execution_count": 27,
   "id": "1874788e-9d97-4854-bbc1-42356475aa64",
   "metadata": {
    "tags": []
   },
   "outputs": [
    {
     "name": "stdout",
     "output_type": "stream",
     "text": [
      "Accuracy: 0.6420518740482389\n"
     ]
    }
   ],
   "source": [
    "accuracy = accuracy_score(y_test, y_pred_grid)\n",
    "print(f'Accuracy: {accuracy}')"
   ]
  },
  {
   "cell_type": "markdown",
   "id": "abc8deba-f823-4ad9-8ea5-d84cde72166e",
   "metadata": {},
   "source": [
    "Vemos que esos parámetros empeoran terriblemente el accuracy"
   ]
  },
  {
   "cell_type": "markdown",
   "id": "6370f5d1-1815-4fad-8c48-8ffcb7328479",
   "metadata": {},
   "source": [
    "#### Randomized Search"
   ]
  },
  {
   "cell_type": "code",
   "execution_count": 28,
   "id": "8ba2fa64-e798-4e24-b79d-3d32f2a44807",
   "metadata": {
    "tags": []
   },
   "outputs": [
    {
     "name": "stdout",
     "output_type": "stream",
     "text": [
      "RandomForestClassifier(max_depth=3, max_features=None, max_leaf_nodes=6)\n"
     ]
    }
   ],
   "source": [
    "random_search = RandomizedSearchCV(RandomForestClassifier(), \n",
    "                                   param_grid, n_iter=10, n_jobs=-1) \n",
    "random_search.fit(x_train, y_train) \n",
    "print(random_search.best_estimator_) "
   ]
  },
  {
   "cell_type": "code",
   "execution_count": 29,
   "id": "44013e23-17a1-4271-b986-7b98adaad080",
   "metadata": {
    "tags": []
   },
   "outputs": [],
   "source": [
    "rf_random = RandomForestClassifier(max_depth=3, \n",
    "                                    max_features=None, \n",
    "                                    max_leaf_nodes=6,\n",
    "                                    n_estimators=120, \n",
    "                                    random_state=42)  \n",
    "rf_random.fit(x_train, y_train)\n",
    "\n",
    "# Realizar predicciones en el conjunto de prueba\n",
    "y_pred_random = rf_random.predict(x_test)"
   ]
  },
  {
   "cell_type": "code",
   "execution_count": 30,
   "id": "13ce5a91-cd12-48fa-a8a3-8facae423cf6",
   "metadata": {
    "tags": []
   },
   "outputs": [
    {
     "data": {
      "image/png": "[encoded data removed]",
      "text/plain": [
       "<Figure size 1000x700 with 2 Axes>"
      ]
     },
     "metadata": {},
     "output_type": "display_data"
    }
   ],
   "source": [
    "cm = confusion_matrix(y_test, y_pred_random)\n",
    "class_labels = ['Espacio Verde Público', 'No Espacio Verde Público']\n",
    "plt.figure(figsize = (10,7))\n",
    "sns.heatmap(cm, annot = True, fmt = \"g\", cmap=\"Oranges\", xticklabels=class_labels, yticklabels=class_labels)\n",
    "plt.xlabel('Predicted', fontsize = 12, fontweight  = 'bold')\n",
    "plt.ylabel('Actual', fontsize = 12, fontweight  = 'bold')\n",
    "plt.title('Matriz de Confusión', fontsize = 15, fontweight = 'bold')\n",
    "plt.show()"
   ]
  },
  {
   "cell_type": "code",
   "execution_count": 31,
   "id": "41fef542-b292-4ef5-a805-aeb2da920d9e",
   "metadata": {
    "tags": []
   },
   "outputs": [
    {
     "name": "stdout",
     "output_type": "stream",
     "text": [
      "Accuracy: 0.63914132730756\n"
     ]
    }
   ],
   "source": [
    "accuracy = accuracy_score(y_test, y_pred_random)\n",
    "print(f'Accuracy: {accuracy}')"
   ]
  },
  {
   "cell_type": "markdown",
   "id": "ebdf9326-0686-4fff-8d3f-08639626c4a3",
   "metadata": {},
   "source": [
    "#### Ensemble Methods"
   ]
  },
  {
   "cell_type": "code",
   "execution_count": null,
   "id": "188850c1-786a-4733-940c-d57561dbb776",
   "metadata": {},
   "outputs": [],
   "source": [
    "from sklearn.ensemble import AdaBoostClassifier\n",
    "\n",
    "# Example: Using AdaBoost as an ensemble method\n",
    "ada_boost_model = AdaBoostClassifier(base_estimator=RandomForestClassifier(), n_estimators=50)\n",
    "ada_boost_model.fit(x_train, y_train)"
   ]
  },
  {
   "cell_type": "code",
   "execution_count": null,
   "id": "cb1997bc-1090-4014-8b05-e7c9c05461a9",
   "metadata": {},
   "outputs": [],
   "source": [
    "y_pred_ada = ada_boost_model.predict(x_test)\n",
    "cm = confusion_matrix(y_test, y_pred_ada)\n",
    "class_labels = ['Espacio Verde Público', 'No Espacio Verde Público']\n",
    "plt.figure(figsize = (10,7))\n",
    "sns.heatmap(cm, annot = True, fmt = \"g\", cmap=\"Oranges\", xticklabels=class_labels, yticklabels=class_labels)\n",
    "plt.xlabel('Predicted', fontsize = 12, fontweight  = 'bold')\n",
    "plt.ylabel('Actual', fontsize = 12, fontweight  = 'bold')\n",
    "plt.title('Matriz de Confusión', fontsize = 15, fontweight = 'bold')\n",
    "plt.show()"
   ]
  },
  {
   "cell_type": "code",
   "execution_count": null,
   "id": "d9f4910d-b538-4a4e-81ca-dd512b77bc82",
   "metadata": {},
   "outputs": [],
   "source": [
    "accuracy = accuracy_score(y_test, y_pred_ada)\n",
    "print(f'Accuracy: {accuracy}')"
   ]
  },
  {
   "cell_type": "markdown",
   "id": "1459a521-2e8c-42e6-8381-95fcea1c51ad",
   "metadata": {},
   "source": [
    "## XGBoost"
   ]
  },
  {
   "cell_type": "code",
   "execution_count": 26,
   "id": "0e6f34cd-ca9d-4585-bef2-fc1bf8a6db0b",
   "metadata": {
    "tags": []
   },
   "outputs": [],
   "source": [
    "xgb_classifier = xgb.XGBClassifier(n_estimators=100, random_state=42)\n",
    "\n",
    "# Ajustar el modelo a los datos de entrenamiento\n",
    "xgb_classifier.fit(x_train, y_train)\n",
    "\n",
    "# Realizar predicciones en el conjunto de prueba\n",
    "y_predict = xgb_classifier.predict(x_test)"
   ]
  },
  {
   "cell_type": "code",
   "execution_count": 27,
   "id": "f47f111d-4d19-415d-85ba-e6361c4cfaf8",
   "metadata": {
    "tags": []
   },
   "outputs": [
    {
     "data": {
      "image/png": "[encoded data removed]",
      "text/plain": [
       "<Figure size 1000x700 with 2 Axes>"
      ]
     },
     "metadata": {},
     "output_type": "display_data"
    }
   ],
   "source": [
    "cm = confusion_matrix(y_test, y_predict)\n",
    "class_labels = ['Espacio Verde Público', 'No Espacio Verde Público']\n",
    "plt.figure(figsize = (10,7))\n",
    "sns.heatmap(cm, annot = True, fmt = \"g\", cmap=\"Purples\", xticklabels=class_labels, yticklabels=class_labels)\n",
    "plt.xlabel('Predicted', fontsize = 12, fontweight  = 'bold')\n",
    "plt.ylabel('Actual', fontsize = 12, fontweight  = 'bold')\n",
    "plt.title('Matriz de Confusión', fontsize = 15, fontweight = 'bold')\n",
    "plt.show()"
   ]
  },
  {
   "cell_type": "code",
   "execution_count": 28,
   "id": "b6f59e2f-e70b-4cfc-b825-339486c25a86",
   "metadata": {
    "tags": []
   },
   "outputs": [
    {
     "name": "stdout",
     "output_type": "stream",
     "text": [
      "Accuracy: 0.7059666666666666\n"
     ]
    }
   ],
   "source": [
    "accuracy = accuracy_score(y_test, y_predict)\n",
    "print(f'Accuracy: {accuracy}')"
   ]
  },
  {
   "cell_type": "markdown",
   "id": "eb11aa72-2056-453c-81d5-b922166fdb79",
   "metadata": {},
   "source": [
    "Podemos observar que al tener menos datos la clasificación con Naive Bayes, XGBoost y Regresión logística salió peor que con toda la información. Sin embargo, el random forest classifier es el que mejor, ha predecido con un 90% de precisión."
   ]
  },
  {
   "cell_type": "markdown",
   "id": "6bba6df0-e0ed-43ab-918f-59737142ff73",
   "metadata": {},
   "source": [
    "## Clasificación del modelo Perceptrón"
   ]
  },
  {
   "cell_type": "code",
   "execution_count": null,
   "id": "1c4c6877-ad36-4150-a034-467fff686d6f",
   "metadata": {},
   "outputs": [
    {
     "name": "stdout",
     "output_type": "stream",
     "text": [
      "Epoch 1/30\n",
      "40000/40000 [==============================] - 309s 8ms/step - loss: 0.6103 - accuracy: 0.6567\n",
      "Epoch 2/30\n",
      "40000/40000 [==============================] - 308s 8ms/step - loss: 0.5985 - accuracy: 0.6696\n",
      "Epoch 3/30\n",
      "40000/40000 [==============================] - 301s 8ms/step - loss: 0.5944 - accuracy: 0.6736\n",
      "Epoch 4/30\n",
      "40000/40000 [==============================] - 320s 8ms/step - loss: 0.5917 - accuracy: 0.6760\n",
      "Epoch 5/30\n",
      "40000/40000 [==============================] - 368s 9ms/step - loss: 0.5901 - accuracy: 0.6781\n",
      "Epoch 6/30\n",
      "40000/40000 [==============================] - 247s 6ms/step - loss: 0.5884 - accuracy: 0.6794\n",
      "Epoch 7/30\n",
      "40000/40000 [==============================] - 294s 7ms/step - loss: 0.5871 - accuracy: 0.6809\n",
      "Epoch 8/30\n",
      "40000/40000 [==============================] - 258s 6ms/step - loss: 0.5856 - accuracy: 0.6819\n",
      "Epoch 9/30\n",
      "40000/40000 [==============================] - 250s 6ms/step - loss: 0.5849 - accuracy: 0.6826\n",
      "Epoch 10/30\n",
      "40000/40000 [==============================] - 264s 7ms/step - loss: 0.5840 - accuracy: 0.6835\n",
      "Epoch 11/30\n",
      "40000/40000 [==============================] - 314s 8ms/step - loss: 0.5832 - accuracy: 0.6841\n",
      "Epoch 12/30\n",
      "40000/40000 [==============================] - 253s 6ms/step - loss: 0.5824 - accuracy: 0.6849\n",
      "Epoch 13/30\n",
      "40000/40000 [==============================] - 315s 8ms/step - loss: 0.5816 - accuracy: 0.6853\n",
      "Epoch 14/30\n",
      "40000/40000 [==============================] - 311s 8ms/step - loss: 0.5809 - accuracy: 0.6864\n",
      "Epoch 15/30\n",
      "40000/40000 [==============================] - 301s 8ms/step - loss: 0.5802 - accuracy: 0.6865\n",
      "Epoch 16/30\n",
      "40000/40000 [==============================] - 305s 8ms/step - loss: 0.5798 - accuracy: 0.6867\n",
      "Epoch 17/30\n",
      "40000/40000 [==============================] - 418s 10ms/step - loss: 0.5792 - accuracy: 0.6875\n",
      "Epoch 18/30\n",
      "40000/40000 [==============================] - 419s 10ms/step - loss: 0.5786 - accuracy: 0.6880\n",
      "Epoch 19/30\n",
      "40000/40000 [==============================] - 319s 8ms/step - loss: 0.5779 - accuracy: 0.6887\n",
      "Epoch 20/30\n",
      "40000/40000 [==============================] - 331s 8ms/step - loss: 0.5776 - accuracy: 0.6890\n",
      "Epoch 21/30\n",
      "40000/40000 [==============================] - 300s 8ms/step - loss: 0.5774 - accuracy: 0.6893\n",
      "Epoch 22/30\n",
      "40000/40000 [==============================] - 276s 7ms/step - loss: 0.5767 - accuracy: 0.6900\n",
      "Epoch 23/30\n",
      "35632/40000 [=========================>....] - ETA: 28s - loss: 0.5763 - accuracy: 0.6898"
     ]
    }
   ],
   "source": [
    "n_clases = len(y.unique())\n",
    "n_features = len(x.columns)\n",
    "\n",
    "x = x.values\n",
    "output_y = y.values\n",
    "\n",
    "# Define MLP model\n",
    "clf = Sequential()\n",
    "clf.add(Dense(180, input_dim=n_features, activation='relu'))\n",
    "clf.add(Dense(180, activation='relu'))\n",
    "clf.add(Dense(1, activation='sigmoid')) \n",
    "\n",
    "# Compile model\n",
    "clf.compile(loss='binary_crossentropy', optimizer='adam', metrics=['accuracy'])\n",
    "\n",
    "# Fit model\n",
    "clf.fit(x, output_y, epochs=30, batch_size=10)\n",
    "\n",
    "\n",
    "# Evaluate model with crossvalidation\n",
    "kf = StratifiedKFold(n_splits=5, shuffle = True)\n",
    "\n",
    "cv_y_test = []\n",
    "cv_y_pred = []\n",
    "\n",
    "for train_index, test_index in kf.split(x, y):\n",
    "\n",
    "    x_train = x[train_index, :]\n",
    "    y_train = y[train_index]\n",
    "\n",
    "    x_test = x[test_index, :]\n",
    "    y_test = y[test_index]\n",
    "\n",
    "    # Training phase\n",
    "    clf_cv = Sequential()\n",
    "    clf_cv.add(Dense(180, input_dim=n_features, activation='relu'))\n",
    "    clf_cv.add(Dense(180, activation='relu'))\n",
    "    clf_cv.add(Dense(1, activation='sigmoid'))\n",
    "    clf_cv.compile(loss='binary_crossentropy', optimizer='adam', metrics=['accuracy'])\n",
    "    clf_cv.fit(x_train, y_train, validation_data= (x_test, y_test), epochs=30, batch_size=10)\n",
    "\n",
    "    # Test phase\n",
    "    x_test = x[test_index, :]\n",
    "    y_test = y[test_index]\n",
    "    y_pred = [0 if valor < 0.5 else 1 for valor in clf_cv.predict(x_test)]\n",
    "    \n",
    "    cv_y_test.append(y_test)\n",
    "    cv_y_pred.append(y_pred)\n",
    "\n",
    "# Results\n",
    "print(classification_report(np.concatenate(cv_y_test), np.concatenate(cv_y_pred)))"
   ]
  }
 ],
 "metadata": {
  "kernelspec": {
   "display_name": "Python 3 (ipykernel)",
   "language": "python",
   "name": "python3"
  },
  "language_info": {
   "codemirror_mode": {
    "name": "ipython",
    "version": 3
   },
   "file_extension": ".py",
   "mimetype": "text/x-python",
   "name": "python",
   "nbconvert_exporter": "python",
   "pygments_lexer": "ipython3",
   "version": "3.10.10"
  }
 },
 "nbformat": 4,
 "nbformat_minor": 5
}
