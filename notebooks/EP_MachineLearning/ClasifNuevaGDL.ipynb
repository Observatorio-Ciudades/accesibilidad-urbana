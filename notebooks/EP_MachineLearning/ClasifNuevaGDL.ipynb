{
 "cells": [
  {
   "cell_type": "code",
   "execution_count": 2,
   "id": "4ec513c3-b9b9-40ac-bdbb-39a64d6bc8a0",
   "metadata": {
    "tags": []
   },
   "outputs": [],
   "source": [
    "import warnings\n",
    "warnings.filterwarnings('ignore')\n",
    "import geopandas as gpd\n",
    "from geopandas.tools import overlay\n",
    "import matplotlib.pyplot as plt\n",
    "import os \n",
    "import sys\n",
    "module_path = os.path.abspath(os.path.join('../../'))\n",
    "if module_path not in sys.path:\n",
    "    sys.path.append(module_path)\n",
    "    import aup\n",
    "import pandas as pd\n",
    "import numpy as np\n",
    "import seaborn as sns\n",
    "from sklearn.model_selection import train_test_split\n",
    "from sklearn.metrics import accuracy_score, confusion_matrix\n",
    "from sklearn.linear_model import LogisticRegression\n",
    "from sklearn.preprocessing import StandardScaler\n",
    "from sklearn.naive_bayes import GaussianNB\n",
    "from imblearn.under_sampling import RandomUnderSampler"
   ]
  },
  {
   "cell_type": "markdown",
   "id": "75031d4a-262a-41b2-9a1e-21b2aee789f2",
   "metadata": {},
   "source": [
    "## Espacios públicos gdl"
   ]
  },
  {
   "cell_type": "code",
   "execution_count": 3,
   "id": "330f1714-2271-45f7-b872-a3d8e642061d",
   "metadata": {
    "tags": []
   },
   "outputs": [
    {
     "data": {
      "text/html": [
       "<div>\n",
       "<style scoped>\n",
       "    .dataframe tbody tr th:only-of-type {\n",
       "        vertical-align: middle;\n",
       "    }\n",
       "\n",
       "    .dataframe tbody tr th {\n",
       "        vertical-align: top;\n",
       "    }\n",
       "\n",
       "    .dataframe thead th {\n",
       "        text-align: right;\n",
       "    }\n",
       "</style>\n",
       "<table border=\"1\" class=\"dataframe\">\n",
       "  <thead>\n",
       "    <tr style=\"text-align: right;\">\n",
       "      <th></th>\n",
       "      <th>Fuente</th>\n",
       "      <th>Tipo</th>\n",
       "      <th>Uso</th>\n",
       "      <th>geometry</th>\n",
       "    </tr>\n",
       "  </thead>\n",
       "  <tbody>\n",
       "    <tr>\n",
       "      <th>0</th>\n",
       "      <td>OpenStreetMap, [Online]. Disponible: http://ww...</td>\n",
       "      <td>Parque</td>\n",
       "      <td>Uso recreativo</td>\n",
       "      <td>POLYGON ((672507.028 2272132.201, 672520.126 2...</td>\n",
       "    </tr>\n",
       "    <tr>\n",
       "      <th>1</th>\n",
       "      <td>OpenStreetMap, [Online]. Disponible: http://ww...</td>\n",
       "      <td>Parque</td>\n",
       "      <td>Uso recreativo</td>\n",
       "      <td>POLYGON ((672520.126 2272170.353, 672507.028 2...</td>\n",
       "    </tr>\n",
       "    <tr>\n",
       "      <th>2</th>\n",
       "      <td>OpenStreetMap, [Online]. Disponible: http://ww...</td>\n",
       "      <td>Parque</td>\n",
       "      <td>Uso recreativo</td>\n",
       "      <td>POLYGON ((672494.325 2272095.205, 672480.366 2...</td>\n",
       "    </tr>\n",
       "    <tr>\n",
       "      <th>3</th>\n",
       "      <td>OpenStreetMap, [Online]. Disponible: http://ww...</td>\n",
       "      <td>Parque</td>\n",
       "      <td>Uso recreativo</td>\n",
       "      <td>POLYGON ((672480.366 2272060.731, 672494.325 2...</td>\n",
       "    </tr>\n",
       "    <tr>\n",
       "      <th>4</th>\n",
       "      <td>OpenStreetMap, [Online]. Disponible: http://ww...</td>\n",
       "      <td>Parque</td>\n",
       "      <td>Uso recreativo</td>\n",
       "      <td>POLYGON ((672468.717 2272020.613, 672456.895 2...</td>\n",
       "    </tr>\n",
       "  </tbody>\n",
       "</table>\n",
       "</div>"
      ],
      "text/plain": [
       "                                              Fuente    Tipo             Uso  \\\n",
       "0  OpenStreetMap, [Online]. Disponible: http://ww...  Parque  Uso recreativo   \n",
       "1  OpenStreetMap, [Online]. Disponible: http://ww...  Parque  Uso recreativo   \n",
       "2  OpenStreetMap, [Online]. Disponible: http://ww...  Parque  Uso recreativo   \n",
       "3  OpenStreetMap, [Online]. Disponible: http://ww...  Parque  Uso recreativo   \n",
       "4  OpenStreetMap, [Online]. Disponible: http://ww...  Parque  Uso recreativo   \n",
       "\n",
       "                                            geometry  \n",
       "0  POLYGON ((672507.028 2272132.201, 672520.126 2...  \n",
       "1  POLYGON ((672520.126 2272170.353, 672507.028 2...  \n",
       "2  POLYGON ((672494.325 2272095.205, 672480.366 2...  \n",
       "3  POLYGON ((672480.366 2272060.731, 672494.325 2...  \n",
       "4  POLYGON ((672468.717 2272020.613, 672456.895 2...  "
      ]
     },
     "execution_count": 3,
     "metadata": {},
     "output_type": "execute_result"
    }
   ],
   "source": [
    "schema = 'espacios_publicos'\n",
    "table = 'ep_amg'\n",
    "gdf = aup.gdf_from_db(table,schema)\n",
    "gdf.head()"
   ]
  },
  {
   "cell_type": "code",
   "execution_count": 3,
   "id": "580e318e-f2b9-44a4-8075-68e4f972d9df",
   "metadata": {
    "tags": []
   },
   "outputs": [
    {
     "data": {
      "text/plain": [
       "(8499, 4)"
      ]
     },
     "execution_count": 3,
     "metadata": {},
     "output_type": "execute_result"
    }
   ],
   "source": [
    "gdf.shape"
   ]
  },
  {
   "cell_type": "markdown",
   "id": "3b683250-8791-48e3-9838-8a472e0e4779",
   "metadata": {},
   "source": [
    "## Hexágonos GDL"
   ]
  },
  {
   "cell_type": "code",
   "execution_count": 4,
   "id": "c75f0979-1e22-43f0-ac87-edae94f19d7d",
   "metadata": {
    "tags": []
   },
   "outputs": [
    {
     "data": {
      "text/html": [
       "<div>\n",
       "<style scoped>\n",
       "    .dataframe tbody tr th:only-of-type {\n",
       "        vertical-align: middle;\n",
       "    }\n",
       "\n",
       "    .dataframe tbody tr th {\n",
       "        vertical-align: top;\n",
       "    }\n",
       "\n",
       "    .dataframe thead th {\n",
       "        text-align: right;\n",
       "    }\n",
       "</style>\n",
       "<table border=\"1\" class=\"dataframe\">\n",
       "  <thead>\n",
       "    <tr style=\"text-align: right;\">\n",
       "      <th></th>\n",
       "      <th>geometry</th>\n",
       "      <th>hex_id_8</th>\n",
       "      <th>CVEGEO</th>\n",
       "      <th>metropolis</th>\n",
       "    </tr>\n",
       "  </thead>\n",
       "  <tbody>\n",
       "    <tr>\n",
       "      <th>0</th>\n",
       "      <td>POLYGON ((-103.60989 20.39686, -103.61044 20.4...</td>\n",
       "      <td>8849abc91bfffff</td>\n",
       "      <td>14002</td>\n",
       "      <td>Guadalajara</td>\n",
       "    </tr>\n",
       "    <tr>\n",
       "      <th>1</th>\n",
       "      <td>POLYGON ((-103.61277 20.37822, -103.60824 20.3...</td>\n",
       "      <td>8849abc953fffff</td>\n",
       "      <td>14002</td>\n",
       "      <td>Guadalajara</td>\n",
       "    </tr>\n",
       "    <tr>\n",
       "      <th>2</th>\n",
       "      <td>POLYGON ((-103.58960 20.38835, -103.58905 20.3...</td>\n",
       "      <td>8849abc901fffff</td>\n",
       "      <td>14002</td>\n",
       "      <td>Guadalajara</td>\n",
       "    </tr>\n",
       "    <tr>\n",
       "      <th>3</th>\n",
       "      <td>POLYGON ((-103.66739 20.43582, -103.66683 20.4...</td>\n",
       "      <td>8849abc8adfffff</td>\n",
       "      <td>14002</td>\n",
       "      <td>Guadalajara</td>\n",
       "    </tr>\n",
       "    <tr>\n",
       "      <th>4</th>\n",
       "      <td>POLYGON ((-103.66904 20.45140, -103.66452 20.4...</td>\n",
       "      <td>8849ab5249fffff</td>\n",
       "      <td>14002</td>\n",
       "      <td>Guadalajara</td>\n",
       "    </tr>\n",
       "  </tbody>\n",
       "</table>\n",
       "</div>"
      ],
      "text/plain": [
       "                                            geometry         hex_id_8 CVEGEO  \\\n",
       "0  POLYGON ((-103.60989 20.39686, -103.61044 20.4...  8849abc91bfffff  14002   \n",
       "1  POLYGON ((-103.61277 20.37822, -103.60824 20.3...  8849abc953fffff  14002   \n",
       "2  POLYGON ((-103.58960 20.38835, -103.58905 20.3...  8849abc901fffff  14002   \n",
       "3  POLYGON ((-103.66739 20.43582, -103.66683 20.4...  8849abc8adfffff  14002   \n",
       "4  POLYGON ((-103.66904 20.45140, -103.66452 20.4...  8849ab5249fffff  14002   \n",
       "\n",
       "    metropolis  \n",
       "0  Guadalajara  \n",
       "1  Guadalajara  \n",
       "2  Guadalajara  \n",
       "3  Guadalajara  \n",
       "4  Guadalajara  "
      ]
     },
     "execution_count": 4,
     "metadata": {},
     "output_type": "execute_result"
    }
   ],
   "source": [
    "hex_schema = \"hexgrid\"\n",
    "hex_table = \"hexgrid_8_city\"\n",
    "c = 'Guadalajara'\n",
    "query = f'SELECT * FROM {hex_schema}.{hex_table} WHERE \\\"metropolis\\\" LIKE \\'{c}\\''\n",
    "hex_gdl = aup.gdf_from_query(query, geometry_col='geometry')\n",
    "hex_gdl.head(5)"
   ]
  },
  {
   "cell_type": "markdown",
   "id": "e20d2571-92ee-4d7d-aadc-aa247dd7f6fc",
   "metadata": {},
   "source": [
    "## Intersección"
   ]
  },
  {
   "cell_type": "code",
   "execution_count": 5,
   "id": "afc060dc-98e5-48cb-bf45-e6f890198699",
   "metadata": {
    "tags": []
   },
   "outputs": [
    {
     "name": "stdout",
     "output_type": "stream",
     "text": [
      "CRS of gdf: epsg:4326\n",
      "CRS of hex_gdl: epsg:4326\n"
     ]
    }
   ],
   "source": [
    "gdf = gdf.to_crs(hex_gdl.crs)\n",
    "print(\"CRS of gdf:\", gdf.crs)\n",
    "print(\"CRS of hex_gdl:\", hex_gdl.crs)"
   ]
  },
  {
   "cell_type": "code",
   "execution_count": 6,
   "id": "8659c2f3-9d9f-4b9c-8a22-e4db5b463aa3",
   "metadata": {
    "tags": []
   },
   "outputs": [
    {
     "data": {
      "text/html": [
       "<div>\n",
       "<style scoped>\n",
       "    .dataframe tbody tr th:only-of-type {\n",
       "        vertical-align: middle;\n",
       "    }\n",
       "\n",
       "    .dataframe tbody tr th {\n",
       "        vertical-align: top;\n",
       "    }\n",
       "\n",
       "    .dataframe thead th {\n",
       "        text-align: right;\n",
       "    }\n",
       "</style>\n",
       "<table border=\"1\" class=\"dataframe\">\n",
       "  <thead>\n",
       "    <tr style=\"text-align: right;\">\n",
       "      <th></th>\n",
       "      <th>geometry</th>\n",
       "      <th>hex_id_8</th>\n",
       "      <th>CVEGEO</th>\n",
       "      <th>metropolis</th>\n",
       "      <th>index_right</th>\n",
       "      <th>Fuente</th>\n",
       "      <th>Tipo</th>\n",
       "      <th>Uso</th>\n",
       "    </tr>\n",
       "  </thead>\n",
       "  <tbody>\n",
       "    <tr>\n",
       "      <th>183</th>\n",
       "      <td>POLYGON ((-103.36270 20.63071, -103.36778 20.6...</td>\n",
       "      <td>88498c9653fffff</td>\n",
       "      <td>14039</td>\n",
       "      <td>Guadalajara</td>\n",
       "      <td>3521</td>\n",
       "      <td>Instrumentos de planeación urbana. Disponible:...</td>\n",
       "      <td>Parque</td>\n",
       "      <td>Uso recreativo</td>\n",
       "    </tr>\n",
       "    <tr>\n",
       "      <th>326</th>\n",
       "      <td>POLYGON ((-103.36832 20.63804, -103.37340 20.6...</td>\n",
       "      <td>8849ab5925fffff</td>\n",
       "      <td>14039</td>\n",
       "      <td>Guadalajara</td>\n",
       "      <td>3521</td>\n",
       "      <td>Instrumentos de planeación urbana. Disponible:...</td>\n",
       "      <td>Parque</td>\n",
       "      <td>Uso recreativo</td>\n",
       "    </tr>\n",
       "    <tr>\n",
       "      <th>184</th>\n",
       "      <td>POLYGON ((-103.34995 20.69490, -103.34941 20.6...</td>\n",
       "      <td>88498c96a5fffff</td>\n",
       "      <td>14039</td>\n",
       "      <td>Guadalajara</td>\n",
       "      <td>5578</td>\n",
       "      <td>Carta topográfica1:20,000,  INEGI.</td>\n",
       "      <td>Glorieta</td>\n",
       "      <td>Sin uso recreativo</td>\n",
       "    </tr>\n",
       "    <tr>\n",
       "      <th>184</th>\n",
       "      <td>POLYGON ((-103.34995 20.69490, -103.34941 20.6...</td>\n",
       "      <td>88498c96a5fffff</td>\n",
       "      <td>14039</td>\n",
       "      <td>Guadalajara</td>\n",
       "      <td>7475</td>\n",
       "      <td>Digitalizado por IIEG, 2018.</td>\n",
       "      <td>Camellón</td>\n",
       "      <td>Sin uso recreativo</td>\n",
       "    </tr>\n",
       "    <tr>\n",
       "      <th>184</th>\n",
       "      <td>POLYGON ((-103.34995 20.69490, -103.34941 20.6...</td>\n",
       "      <td>88498c96a5fffff</td>\n",
       "      <td>14039</td>\n",
       "      <td>Guadalajara</td>\n",
       "      <td>7477</td>\n",
       "      <td>Digitalizado por IIEG, 2018.</td>\n",
       "      <td>Camellón</td>\n",
       "      <td>Sin uso recreativo</td>\n",
       "    </tr>\n",
       "    <tr>\n",
       "      <th>...</th>\n",
       "      <td>...</td>\n",
       "      <td>...</td>\n",
       "      <td>...</td>\n",
       "      <td>...</td>\n",
       "      <td>...</td>\n",
       "      <td>...</td>\n",
       "      <td>...</td>\n",
       "      <td>...</td>\n",
       "    </tr>\n",
       "    <tr>\n",
       "      <th>3265</th>\n",
       "      <td>POLYGON ((-103.46593 20.82810, -103.47047 20.8...</td>\n",
       "      <td>8849ab48e5fffff</td>\n",
       "      <td>14120</td>\n",
       "      <td>Guadalajara</td>\n",
       "      <td>278</td>\n",
       "      <td>Instrumentos de planeación urbana. Disponible:...</td>\n",
       "      <td>Espacio verde vecinal</td>\n",
       "      <td>Sin uso recreativo</td>\n",
       "    </tr>\n",
       "    <tr>\n",
       "      <th>3265</th>\n",
       "      <td>POLYGON ((-103.46593 20.82810, -103.47047 20.8...</td>\n",
       "      <td>8849ab48e5fffff</td>\n",
       "      <td>14120</td>\n",
       "      <td>Guadalajara</td>\n",
       "      <td>279</td>\n",
       "      <td>Instrumentos de planeación urbana. Disponible:...</td>\n",
       "      <td>Espacio verde vecinal</td>\n",
       "      <td>Sin uso recreativo</td>\n",
       "    </tr>\n",
       "    <tr>\n",
       "      <th>3265</th>\n",
       "      <td>POLYGON ((-103.46593 20.82810, -103.47047 20.8...</td>\n",
       "      <td>8849ab48e5fffff</td>\n",
       "      <td>14120</td>\n",
       "      <td>Guadalajara</td>\n",
       "      <td>284</td>\n",
       "      <td>Instrumentos de planeación urbana. Disponible:...</td>\n",
       "      <td>Glorieta</td>\n",
       "      <td>Sin uso recreativo</td>\n",
       "    </tr>\n",
       "    <tr>\n",
       "      <th>3265</th>\n",
       "      <td>POLYGON ((-103.46593 20.82810, -103.47047 20.8...</td>\n",
       "      <td>8849ab48e5fffff</td>\n",
       "      <td>14120</td>\n",
       "      <td>Guadalajara</td>\n",
       "      <td>280</td>\n",
       "      <td>Instrumentos de planeación urbana. Disponible:...</td>\n",
       "      <td>Parque</td>\n",
       "      <td>Uso recreativo</td>\n",
       "    </tr>\n",
       "    <tr>\n",
       "      <th>3265</th>\n",
       "      <td>POLYGON ((-103.46593 20.82810, -103.47047 20.8...</td>\n",
       "      <td>8849ab48e5fffff</td>\n",
       "      <td>14120</td>\n",
       "      <td>Guadalajara</td>\n",
       "      <td>8253</td>\n",
       "      <td>Instrumentos de planeación urbana. Disponible:...</td>\n",
       "      <td>Área natural</td>\n",
       "      <td>Sin uso recreativo</td>\n",
       "    </tr>\n",
       "  </tbody>\n",
       "</table>\n",
       "<p>10279 rows × 8 columns</p>\n",
       "</div>"
      ],
      "text/plain": [
       "                                               geometry         hex_id_8  \\\n",
       "183   POLYGON ((-103.36270 20.63071, -103.36778 20.6...  88498c9653fffff   \n",
       "326   POLYGON ((-103.36832 20.63804, -103.37340 20.6...  8849ab5925fffff   \n",
       "184   POLYGON ((-103.34995 20.69490, -103.34941 20.6...  88498c96a5fffff   \n",
       "184   POLYGON ((-103.34995 20.69490, -103.34941 20.6...  88498c96a5fffff   \n",
       "184   POLYGON ((-103.34995 20.69490, -103.34941 20.6...  88498c96a5fffff   \n",
       "...                                                 ...              ...   \n",
       "3265  POLYGON ((-103.46593 20.82810, -103.47047 20.8...  8849ab48e5fffff   \n",
       "3265  POLYGON ((-103.46593 20.82810, -103.47047 20.8...  8849ab48e5fffff   \n",
       "3265  POLYGON ((-103.46593 20.82810, -103.47047 20.8...  8849ab48e5fffff   \n",
       "3265  POLYGON ((-103.46593 20.82810, -103.47047 20.8...  8849ab48e5fffff   \n",
       "3265  POLYGON ((-103.46593 20.82810, -103.47047 20.8...  8849ab48e5fffff   \n",
       "\n",
       "     CVEGEO   metropolis  index_right  \\\n",
       "183   14039  Guadalajara         3521   \n",
       "326   14039  Guadalajara         3521   \n",
       "184   14039  Guadalajara         5578   \n",
       "184   14039  Guadalajara         7475   \n",
       "184   14039  Guadalajara         7477   \n",
       "...     ...          ...          ...   \n",
       "3265  14120  Guadalajara          278   \n",
       "3265  14120  Guadalajara          279   \n",
       "3265  14120  Guadalajara          284   \n",
       "3265  14120  Guadalajara          280   \n",
       "3265  14120  Guadalajara         8253   \n",
       "\n",
       "                                                 Fuente  \\\n",
       "183   Instrumentos de planeación urbana. Disponible:...   \n",
       "326   Instrumentos de planeación urbana. Disponible:...   \n",
       "184                  Carta topográfica1:20,000,  INEGI.   \n",
       "184                        Digitalizado por IIEG, 2018.   \n",
       "184                        Digitalizado por IIEG, 2018.   \n",
       "...                                                 ...   \n",
       "3265  Instrumentos de planeación urbana. Disponible:...   \n",
       "3265  Instrumentos de planeación urbana. Disponible:...   \n",
       "3265  Instrumentos de planeación urbana. Disponible:...   \n",
       "3265  Instrumentos de planeación urbana. Disponible:...   \n",
       "3265  Instrumentos de planeación urbana. Disponible:...   \n",
       "\n",
       "                       Tipo                 Uso  \n",
       "183                  Parque      Uso recreativo  \n",
       "326                  Parque      Uso recreativo  \n",
       "184                Glorieta  Sin uso recreativo  \n",
       "184                Camellón  Sin uso recreativo  \n",
       "184                Camellón  Sin uso recreativo  \n",
       "...                     ...                 ...  \n",
       "3265  Espacio verde vecinal  Sin uso recreativo  \n",
       "3265  Espacio verde vecinal  Sin uso recreativo  \n",
       "3265               Glorieta  Sin uso recreativo  \n",
       "3265                 Parque      Uso recreativo  \n",
       "3265           Área natural  Sin uso recreativo  \n",
       "\n",
       "[10279 rows x 8 columns]"
      ]
     },
     "execution_count": 6,
     "metadata": {},
     "output_type": "execute_result"
    }
   ],
   "source": [
    "inter_Gdl = gpd.sjoin(hex_gdl, gdf, op='intersects')\n",
    "inter_Gdl"
   ]
  },
  {
   "cell_type": "code",
   "execution_count": 7,
   "id": "e8b2b452-8638-4f32-92e1-2af8538c69bb",
   "metadata": {
    "tags": []
   },
   "outputs": [],
   "source": [
    "def mapear_tipo(valor):\n",
    "    tipos_1 = ['Parque', 'Plaza', 'Área natural', 'Unidad deportiva', 'Espacio verde vecinal', 'Área natural protegida']\n",
    "    if valor in tipos_1:\n",
    "        return 1\n",
    "    elif valor in ['Glorieta', 'Camellón']:\n",
    "        return 0\n",
    "    else:\n",
    "        return None  # Puedes cambiar esto si deseas manejar otros valores\n",
    "\n",
    "# Aplicar la función para crear la nueva columna\n",
    "inter_Gdl['EspVerPub'] = inter_Gdl['Tipo'].apply(mapear_tipo)\n",
    "inter_Gdl.drop(columns=['index_right','Fuente','Uso'], inplace=True)"
   ]
  },
  {
   "cell_type": "markdown",
   "id": "7e9cd589-06fc-4b1f-b5a6-94905aca61e1",
   "metadata": {
    "tags": []
   },
   "source": [
    "## Hexágonos con info de humedad, vegetación y temperatura"
   ]
  },
  {
   "cell_type": "markdown",
   "id": "be6e5717-6745-4fee-8526-2882f9ece475",
   "metadata": {},
   "source": [
    "select {tempe}.hex_id, {tempe}.geometry, {tempe}.city, {tempe}.res,\n",
    "\n",
    "temperature_std, temperature_median, temperature_max, temperature_min, temperature_diff, temperature_tend,temp_diff_mean,\n",
    "\n",
    "ndvi_mean, ndvi_std, ndvi_median, ndvi_max, ndvi_min, ndvi_diff, ndvi_tend,\n",
    "\n",
    "ndmi_mean, ndmi_std, ndmi_median, ndmi_max, ndmi_min, ndmi_diff, ndmi_tend\n",
    "\n",
    "from raster_analysis.temperature_analysis_hex tempe\n",
    "\n",
    "inner join raster_analysis.ndmi_analysis_hex ndmi\n",
    "\n",
    "on tempe.hex_id = ndmi.hex_id \n",
    "\n",
    "inner join raster_analysis.ndvi_analysis_hex ndvi\n",
    "\n",
    "on tempe.hex_id = ndvi.hex_id \n",
    "\n",
    "where tempe.city  = 'Guadalajara' and tempe.res = 11"
   ]
  },
  {
   "cell_type": "code",
   "execution_count": null,
   "id": "d1696c9c-c9e4-4075-9676-99cf97db6595",
   "metadata": {
    "tags": []
   },
   "outputs": [],
   "source": [
    "#hex_schema = \"raster_analysis\"\n",
    "#hex_table = \"temperature_analysis_hex\"\n",
    "#hex_tabl = \"ndvi_analysis_hex\"\n",
    "#hex_tablee = \"ndmi_analysis_hex\"\n",
    "#tempe = \"tempe\"\n",
    "#ndmi = \"ndmi\"\n",
    "#ndvi = \"ndvi\"\n",
    "#hex_id = \"hex_id\"\n",
    "#c = 'Guadalajara'\n",
    "#n = '11'\n",
    "#query = f'SELECT {tempe}.hex_id, {tempe}.geometry, {tempe}.city, {tempe}.res, temperature_std, temperature_median, temperature_max, temperature_min, temperature_diff, temperature_tend,temp_diff_mean,ndvi_mean, ndvi_std, ndvi_median, ndvi_max, ndvi_min, ndvi_diff, ndvi_tend,ndmi_mean, ndmi_std, ndmi_median, ndmi_max, ndmi_min, ndmi_diff, ndmi_tend FROM {hex_schema}.{hex_table} {tempe} INNER JOIN {hex_schema}.{hex_tablee} {ndmi} ON {tempe}.{hex_id} = {ndmi}.{hex_id} INNER JOIN {hex_schema}.{hex_tabl} {ndvi} ON {tempe}.{hex_id} = {ndvi}.{hex_id} WHERE {tempe}.\\\"city\\\" = \\'{c}\\' AND {tempe}.\\\"res\\\" = {n}'\n",
    "#int_gdl = aup.gdf_from_query(query, geometry_col='geometry')\n",
    "#int_gdl.head(10)"
   ]
  },
  {
   "cell_type": "markdown",
   "id": "ecfca983-abff-46b1-922f-c250c6a69658",
   "metadata": {},
   "source": [
    "select {tempe}.hex_id, {tempe}.geometry, {tempe}.city, {tempe}.res,\n",
    "\n",
    "temp_diff_mean,\n",
    "\n",
    "ndvi_mean, ndvi_std, ndvi_median, ndvi_max, ndvi_min, ndvi_diff, ndvi_tend,\n",
    "\n",
    "ndmi_mean, ndmi_median, ndmi_diff\n",
    "\n",
    "from raster_analysis.temperature_analysis_hex tempe\n",
    "\n",
    "inner join raster_analysis.ndmi_analysis_hex ndmi\n",
    "\n",
    "on tempe.hex_id = ndmi.hex_id \n",
    "\n",
    "inner join raster_analysis.ndvi_analysis_hex ndvi\n",
    "\n",
    "on tempe.hex_id = ndvi.hex_id \n",
    "\n",
    "where tempe.city  = 'Guadalajara' and tempe.res = 11"
   ]
  },
  {
   "cell_type": "code",
   "execution_count": 8,
   "id": "7b5e2ddc-a410-4444-aea1-ceb0a94ce842",
   "metadata": {
    "tags": []
   },
   "outputs": [
    {
     "data": {
      "text/html": [
       "<div>\n",
       "<style scoped>\n",
       "    .dataframe tbody tr th:only-of-type {\n",
       "        vertical-align: middle;\n",
       "    }\n",
       "\n",
       "    .dataframe tbody tr th {\n",
       "        vertical-align: top;\n",
       "    }\n",
       "\n",
       "    .dataframe thead th {\n",
       "        text-align: right;\n",
       "    }\n",
       "</style>\n",
       "<table border=\"1\" class=\"dataframe\">\n",
       "  <thead>\n",
       "    <tr style=\"text-align: right;\">\n",
       "      <th></th>\n",
       "      <th>hex_id</th>\n",
       "      <th>geometry</th>\n",
       "      <th>city</th>\n",
       "      <th>res</th>\n",
       "      <th>temp_diff_mean</th>\n",
       "      <th>ndvi_mean</th>\n",
       "      <th>ndvi_std</th>\n",
       "      <th>ndvi_median</th>\n",
       "      <th>ndvi_max</th>\n",
       "      <th>ndvi_min</th>\n",
       "      <th>ndvi_diff</th>\n",
       "      <th>ndvi_tend</th>\n",
       "      <th>ndmi_mean</th>\n",
       "      <th>ndmi_median</th>\n",
       "      <th>ndmi_diff</th>\n",
       "    </tr>\n",
       "  </thead>\n",
       "  <tbody>\n",
       "    <tr>\n",
       "      <th>0</th>\n",
       "      <td>8b49ab4b4215fff</td>\n",
       "      <td>POLYGON ((-103.42405 20.71621, -103.42388 20.7...</td>\n",
       "      <td>Guadalajara</td>\n",
       "      <td>11</td>\n",
       "      <td>-1.284982</td>\n",
       "      <td>0.229957</td>\n",
       "      <td>0.058042</td>\n",
       "      <td>0.231979</td>\n",
       "      <td>0.294319</td>\n",
       "      <td>0.163942</td>\n",
       "      <td>0.130377</td>\n",
       "      <td>-0.001144</td>\n",
       "      <td>0.039065</td>\n",
       "      <td>0.029549</td>\n",
       "      <td>0.105781</td>\n",
       "    </tr>\n",
       "    <tr>\n",
       "      <th>1</th>\n",
       "      <td>8b49ab4b42cefff</td>\n",
       "      <td>POLYGON ((-103.42499 20.72046, -103.42482 20.7...</td>\n",
       "      <td>Guadalajara</td>\n",
       "      <td>11</td>\n",
       "      <td>-0.379456</td>\n",
       "      <td>0.224639</td>\n",
       "      <td>0.081781</td>\n",
       "      <td>0.216309</td>\n",
       "      <td>0.322233</td>\n",
       "      <td>0.129293</td>\n",
       "      <td>0.192940</td>\n",
       "      <td>-0.001084</td>\n",
       "      <td>0.009989</td>\n",
       "      <td>0.005061</td>\n",
       "      <td>0.193035</td>\n",
       "    </tr>\n",
       "    <tr>\n",
       "      <th>2</th>\n",
       "      <td>8b49ab4b5c93fff</td>\n",
       "      <td>POLYGON ((-103.42983 20.71742, -103.42966 20.7...</td>\n",
       "      <td>Guadalajara</td>\n",
       "      <td>11</td>\n",
       "      <td>-0.073338</td>\n",
       "      <td>0.433094</td>\n",
       "      <td>0.167217</td>\n",
       "      <td>0.395738</td>\n",
       "      <td>0.700481</td>\n",
       "      <td>0.225127</td>\n",
       "      <td>0.475354</td>\n",
       "      <td>-0.001176</td>\n",
       "      <td>0.082031</td>\n",
       "      <td>0.062196</td>\n",
       "      <td>0.297254</td>\n",
       "    </tr>\n",
       "    <tr>\n",
       "      <th>3</th>\n",
       "      <td>8b49ab4b43aefff</td>\n",
       "      <td>POLYGON ((-103.42292 20.71391, -103.42274 20.7...</td>\n",
       "      <td>Guadalajara</td>\n",
       "      <td>11</td>\n",
       "      <td>-2.462921</td>\n",
       "      <td>0.351869</td>\n",
       "      <td>0.089766</td>\n",
       "      <td>0.372834</td>\n",
       "      <td>0.431929</td>\n",
       "      <td>0.227313</td>\n",
       "      <td>0.204616</td>\n",
       "      <td>-0.001806</td>\n",
       "      <td>0.089015</td>\n",
       "      <td>0.083834</td>\n",
       "      <td>0.117537</td>\n",
       "    </tr>\n",
       "    <tr>\n",
       "      <th>4</th>\n",
       "      <td>8b49ab4b4364fff</td>\n",
       "      <td>POLYGON ((-103.42889 20.71318, -103.42872 20.7...</td>\n",
       "      <td>Guadalajara</td>\n",
       "      <td>11</td>\n",
       "      <td>-0.496962</td>\n",
       "      <td>0.483932</td>\n",
       "      <td>0.102783</td>\n",
       "      <td>0.516193</td>\n",
       "      <td>0.560024</td>\n",
       "      <td>0.355706</td>\n",
       "      <td>0.204318</td>\n",
       "      <td>-0.000635</td>\n",
       "      <td>0.170704</td>\n",
       "      <td>0.170154</td>\n",
       "      <td>0.102290</td>\n",
       "    </tr>\n",
       "    <tr>\n",
       "      <th>5</th>\n",
       "      <td>8b49ab4b4244fff</td>\n",
       "      <td>POLYGON ((-103.42798 20.71776, -103.42781 20.7...</td>\n",
       "      <td>Guadalajara</td>\n",
       "      <td>11</td>\n",
       "      <td>-1.213368</td>\n",
       "      <td>0.516648</td>\n",
       "      <td>0.127617</td>\n",
       "      <td>0.526840</td>\n",
       "      <td>0.621555</td>\n",
       "      <td>0.346370</td>\n",
       "      <td>0.275185</td>\n",
       "      <td>-0.001570</td>\n",
       "      <td>0.176541</td>\n",
       "      <td>0.175209</td>\n",
       "      <td>0.160745</td>\n",
       "    </tr>\n",
       "    <tr>\n",
       "      <th>6</th>\n",
       "      <td>8b49ab4b4259fff</td>\n",
       "      <td>POLYGON ((-103.42779 20.71971, -103.42761 20.7...</td>\n",
       "      <td>Guadalajara</td>\n",
       "      <td>11</td>\n",
       "      <td>0.939236</td>\n",
       "      <td>0.357693</td>\n",
       "      <td>0.200747</td>\n",
       "      <td>0.289348</td>\n",
       "      <td>0.703857</td>\n",
       "      <td>0.158179</td>\n",
       "      <td>0.545678</td>\n",
       "      <td>-0.001155</td>\n",
       "      <td>0.002265</td>\n",
       "      <td>-0.055339</td>\n",
       "      <td>0.404973</td>\n",
       "    </tr>\n",
       "    <tr>\n",
       "      <th>7</th>\n",
       "      <td>8b49ab483075fff</td>\n",
       "      <td>POLYGON ((-103.45665 20.80869, -103.45647 20.8...</td>\n",
       "      <td>Guadalajara</td>\n",
       "      <td>11</td>\n",
       "      <td>-0.282639</td>\n",
       "      <td>0.296540</td>\n",
       "      <td>0.058069</td>\n",
       "      <td>0.311797</td>\n",
       "      <td>0.343975</td>\n",
       "      <td>0.191514</td>\n",
       "      <td>0.152461</td>\n",
       "      <td>-0.001677</td>\n",
       "      <td>0.122609</td>\n",
       "      <td>0.123036</td>\n",
       "      <td>0.099242</td>\n",
       "    </tr>\n",
       "    <tr>\n",
       "      <th>8</th>\n",
       "      <td>8b49ab483005fff</td>\n",
       "      <td>POLYGON ((-103.45447 20.80777, -103.45429 20.8...</td>\n",
       "      <td>Guadalajara</td>\n",
       "      <td>11</td>\n",
       "      <td>1.844519</td>\n",
       "      <td>0.120235</td>\n",
       "      <td>0.026140</td>\n",
       "      <td>0.122106</td>\n",
       "      <td>0.147014</td>\n",
       "      <td>0.097501</td>\n",
       "      <td>0.049513</td>\n",
       "      <td>-0.000783</td>\n",
       "      <td>-0.048292</td>\n",
       "      <td>-0.054991</td>\n",
       "      <td>0.093217</td>\n",
       "    </tr>\n",
       "    <tr>\n",
       "      <th>9</th>\n",
       "      <td>8b49ab4830d1fff</td>\n",
       "      <td>POLYGON ((-103.45271 20.81180, -103.45253 20.8...</td>\n",
       "      <td>Guadalajara</td>\n",
       "      <td>11</td>\n",
       "      <td>-0.056597</td>\n",
       "      <td>0.440252</td>\n",
       "      <td>0.260666</td>\n",
       "      <td>0.418498</td>\n",
       "      <td>0.781023</td>\n",
       "      <td>0.128774</td>\n",
       "      <td>0.652249</td>\n",
       "      <td>-0.000837</td>\n",
       "      <td>0.112624</td>\n",
       "      <td>0.077349</td>\n",
       "      <td>0.444625</td>\n",
       "    </tr>\n",
       "  </tbody>\n",
       "</table>\n",
       "</div>"
      ],
      "text/plain": [
       "            hex_id                                           geometry  \\\n",
       "0  8b49ab4b4215fff  POLYGON ((-103.42405 20.71621, -103.42388 20.7...   \n",
       "1  8b49ab4b42cefff  POLYGON ((-103.42499 20.72046, -103.42482 20.7...   \n",
       "2  8b49ab4b5c93fff  POLYGON ((-103.42983 20.71742, -103.42966 20.7...   \n",
       "3  8b49ab4b43aefff  POLYGON ((-103.42292 20.71391, -103.42274 20.7...   \n",
       "4  8b49ab4b4364fff  POLYGON ((-103.42889 20.71318, -103.42872 20.7...   \n",
       "5  8b49ab4b4244fff  POLYGON ((-103.42798 20.71776, -103.42781 20.7...   \n",
       "6  8b49ab4b4259fff  POLYGON ((-103.42779 20.71971, -103.42761 20.7...   \n",
       "7  8b49ab483075fff  POLYGON ((-103.45665 20.80869, -103.45647 20.8...   \n",
       "8  8b49ab483005fff  POLYGON ((-103.45447 20.80777, -103.45429 20.8...   \n",
       "9  8b49ab4830d1fff  POLYGON ((-103.45271 20.81180, -103.45253 20.8...   \n",
       "\n",
       "          city  res  temp_diff_mean  ndvi_mean  ndvi_std  ndvi_median  \\\n",
       "0  Guadalajara   11       -1.284982   0.229957  0.058042     0.231979   \n",
       "1  Guadalajara   11       -0.379456   0.224639  0.081781     0.216309   \n",
       "2  Guadalajara   11       -0.073338   0.433094  0.167217     0.395738   \n",
       "3  Guadalajara   11       -2.462921   0.351869  0.089766     0.372834   \n",
       "4  Guadalajara   11       -0.496962   0.483932  0.102783     0.516193   \n",
       "5  Guadalajara   11       -1.213368   0.516648  0.127617     0.526840   \n",
       "6  Guadalajara   11        0.939236   0.357693  0.200747     0.289348   \n",
       "7  Guadalajara   11       -0.282639   0.296540  0.058069     0.311797   \n",
       "8  Guadalajara   11        1.844519   0.120235  0.026140     0.122106   \n",
       "9  Guadalajara   11       -0.056597   0.440252  0.260666     0.418498   \n",
       "\n",
       "   ndvi_max  ndvi_min  ndvi_diff  ndvi_tend  ndmi_mean  ndmi_median  ndmi_diff  \n",
       "0  0.294319  0.163942   0.130377  -0.001144   0.039065     0.029549   0.105781  \n",
       "1  0.322233  0.129293   0.192940  -0.001084   0.009989     0.005061   0.193035  \n",
       "2  0.700481  0.225127   0.475354  -0.001176   0.082031     0.062196   0.297254  \n",
       "3  0.431929  0.227313   0.204616  -0.001806   0.089015     0.083834   0.117537  \n",
       "4  0.560024  0.355706   0.204318  -0.000635   0.170704     0.170154   0.102290  \n",
       "5  0.621555  0.346370   0.275185  -0.001570   0.176541     0.175209   0.160745  \n",
       "6  0.703857  0.158179   0.545678  -0.001155   0.002265    -0.055339   0.404973  \n",
       "7  0.343975  0.191514   0.152461  -0.001677   0.122609     0.123036   0.099242  \n",
       "8  0.147014  0.097501   0.049513  -0.000783  -0.048292    -0.054991   0.093217  \n",
       "9  0.781023  0.128774   0.652249  -0.000837   0.112624     0.077349   0.444625  "
      ]
     },
     "execution_count": 8,
     "metadata": {},
     "output_type": "execute_result"
    }
   ],
   "source": [
    "hex_schema = \"raster_analysis\"\n",
    "hex_table = \"temperature_analysis_hex\"\n",
    "hex_tabl = \"ndvi_analysis_hex\"\n",
    "hex_tablee = \"ndmi_analysis_hex\"\n",
    "tempe = \"tempe\"\n",
    "ndmi = \"ndmi\"\n",
    "ndvi = \"ndvi\"\n",
    "hex_id = \"hex_id\"\n",
    "c = 'Guadalajara'\n",
    "n = '11'\n",
    "query = f'SELECT {tempe}.hex_id, {tempe}.geometry, {tempe}.city, {tempe}.res, temp_diff_mean,ndvi_mean, ndvi_std, ndvi_median, ndvi_max, ndvi_min, ndvi_diff, ndvi_tend,ndmi_mean, ndmi_median, ndmi_diff FROM {hex_schema}.{hex_table} {tempe} INNER JOIN {hex_schema}.{hex_tablee} {ndmi} ON {tempe}.{hex_id} = {ndmi}.{hex_id} INNER JOIN {hex_schema}.{hex_tabl} {ndvi} ON {tempe}.{hex_id} = {ndvi}.{hex_id} WHERE {tempe}.\\\"city\\\" = \\'{c}\\' AND {tempe}.\\\"res\\\" = {n}'\n",
    "intt_gdl = aup.gdf_from_query(query, geometry_col='geometry')\n",
    "intt_gdl.head(10)"
   ]
  },
  {
   "cell_type": "code",
   "execution_count": 9,
   "id": "2648d1c4-69b6-4e4d-8955-f4c7545bfa57",
   "metadata": {
    "tags": []
   },
   "outputs": [],
   "source": [
    "intt_gdl = intt_gdl.set_crs(\"EPSG:4326\")\n",
    "inter_Gdl = inter_Gdl.set_crs(\"EPSG:4326\")"
   ]
  },
  {
   "cell_type": "code",
   "execution_count": null,
   "id": "cc9589a7-29b5-4e2c-a6d3-2d43c991e58f",
   "metadata": {
    "tags": []
   },
   "outputs": [],
   "source": [
    "inter = gpd.sjoin(intt_gdl, inter_Gdl, op='intersects')\n",
    "inter.drop(columns=['index_right','city','res'], inplace=True)\n",
    "inter.head()"
   ]
  },
  {
   "cell_type": "code",
   "execution_count": 12,
   "id": "ee580446-e3f9-4ae0-a300-f09ce604dd34",
   "metadata": {
    "tags": []
   },
   "outputs": [
    {
     "data": {
      "text/plain": [
       "(3930168, 18)"
      ]
     },
     "execution_count": 12,
     "metadata": {},
     "output_type": "execute_result"
    }
   ],
   "source": [
    "inter.shape"
   ]
  },
  {
   "cell_type": "code",
   "execution_count": 13,
   "id": "4bb11339-b91f-4886-bfab-21d20faa18fb",
   "metadata": {
    "tags": []
   },
   "outputs": [
    {
     "data": {
      "text/plain": [
       "hex_id            0\n",
       "geometry          0\n",
       "temp_diff_mean    0\n",
       "ndvi_mean         0\n",
       "ndvi_std          0\n",
       "ndvi_median       0\n",
       "ndvi_max          0\n",
       "ndvi_min          0\n",
       "ndvi_diff         0\n",
       "ndvi_tend         0\n",
       "ndmi_mean         0\n",
       "ndmi_median       0\n",
       "ndmi_diff         0\n",
       "hex_id_8          0\n",
       "CVEGEO            0\n",
       "metropolis        0\n",
       "Tipo              0\n",
       "EspVerPub         0\n",
       "dtype: int64"
      ]
     },
     "execution_count": 13,
     "metadata": {},
     "output_type": "execute_result"
    }
   ],
   "source": [
    "pd.isna(inter).sum()"
   ]
  },
  {
   "cell_type": "markdown",
   "id": "dac6ee08-1697-4ab1-92af-8a32a5e54cee",
   "metadata": {},
   "source": [
    "# Métodos de Clasificación"
   ]
  },
  {
   "cell_type": "markdown",
   "id": "43a9b5bd-5750-4d75-867d-cec184e8a70b",
   "metadata": {},
   "source": [
    "## Regresión Logística"
   ]
  },
  {
   "cell_type": "code",
   "execution_count": 14,
   "id": "50a3e37c-cfc3-496e-aa99-e501885c2026",
   "metadata": {
    "tags": []
   },
   "outputs": [],
   "source": [
    "y = inter['EspVerPub']\n",
    "x = inter[['temp_diff_mean', 'ndmi_median', 'ndmi_mean', 'ndmi_diff', 'ndvi_tend','ndvi_diff','ndvi_min','ndvi_max','ndvi_median','ndvi_std','ndvi_mean']]\n",
    "x_train, x_test, y_train, y_test = train_test_split(x,y, test_size = 0.2, random_state = 42)\n",
    "scaler = StandardScaler()\n",
    "x_train_scale = scaler.fit_transform(x_train)\n",
    "x_test_scale = scaler.fit_transform(x_test)"
   ]
  },
  {
   "cell_type": "code",
   "execution_count": 15,
   "id": "a126165c-724b-4bee-8f65-e74e0d8776eb",
   "metadata": {
    "tags": []
   },
   "outputs": [
    {
     "data": {
      "image/png": "[encoded data removed]",
      "text/plain": [
       "<Figure size 1000x700 with 2 Axes>"
      ]
     },
     "metadata": {},
     "output_type": "display_data"
    }
   ],
   "source": [
    "clf = LogisticRegression()\n",
    "clf.fit(x_train_scale, y_train)\n",
    "y_pred = clf.predict(x_test_scale)\n",
    "cm = confusion_matrix(y_test,y_pred)\n",
    "class_labels = ['Espacio Verde Público', 'No Espacio Verde Público']\n",
    "plt.figure(figsize = (10,7))\n",
    "sns.heatmap(cm, annot = True, fmt = \"g\", cmap=\"Blues\", xticklabels=class_labels, yticklabels=class_labels)\n",
    "plt.xlabel('Predicted', fontsize = 12, fontweight  = 'bold')\n",
    "plt.ylabel('Actual', fontsize = 12, fontweight  = 'bold')\n",
    "plt.title('Matriz de Confusión', fontsize = 15, fontweight = 'bold')\n",
    "plt.show()"
   ]
  },
  {
   "cell_type": "code",
   "execution_count": 16,
   "id": "d2395956-dac8-44ee-8a55-992548f65a05",
   "metadata": {
    "tags": []
   },
   "outputs": [
    {
     "data": {
      "text/plain": [
       "0.604"
      ]
     },
     "execution_count": 16,
     "metadata": {},
     "output_type": "execute_result"
    }
   ],
   "source": [
    "round(accuracy_score(y_test, y_pred), 4)"
   ]
  },
  {
   "cell_type": "markdown",
   "id": "b2e31a75-fff1-44ce-8e24-47652c854f09",
   "metadata": {},
   "source": [
    "## Naive Bayes"
   ]
  },
  {
   "cell_type": "code",
   "execution_count": 17,
   "id": "a59c3f41-ccaf-4dd8-9243-ceecdb30147a",
   "metadata": {
    "tags": []
   },
   "outputs": [
    {
     "data": {
      "text/html": [
       "<style>#sk-container-id-1 {color: black;background-color: white;}#sk-container-id-1 pre{padding: 0;}#sk-container-id-1 div.sk-toggleable {background-color: white;}#sk-container-id-1 label.sk-toggleable__label {cursor: pointer;display: block;width: 100%;margin-bottom: 0;padding: 0.3em;box-sizing: border-box;text-align: center;}#sk-container-id-1 label.sk-toggleable__label-arrow:before {content: \"▸\";float: left;margin-right: 0.25em;color: #696969;}#sk-container-id-1 label.sk-toggleable__label-arrow:hover:before {color: black;}#sk-container-id-1 div.sk-estimator:hover label.sk-toggleable__label-arrow:before {color: black;}#sk-container-id-1 div.sk-toggleable__content {max-height: 0;max-width: 0;overflow: hidden;text-align: left;background-color: #f0f8ff;}#sk-container-id-1 div.sk-toggleable__content pre {margin: 0.2em;color: black;border-radius: 0.25em;background-color: #f0f8ff;}#sk-container-id-1 input.sk-toggleable__control:checked~div.sk-toggleable__content {max-height: 200px;max-width: 100%;overflow: auto;}#sk-container-id-1 input.sk-toggleable__control:checked~label.sk-toggleable__label-arrow:before {content: \"▾\";}#sk-container-id-1 div.sk-estimator input.sk-toggleable__control:checked~label.sk-toggleable__label {background-color: #d4ebff;}#sk-container-id-1 div.sk-label input.sk-toggleable__control:checked~label.sk-toggleable__label {background-color: #d4ebff;}#sk-container-id-1 input.sk-hidden--visually {border: 0;clip: rect(1px 1px 1px 1px);clip: rect(1px, 1px, 1px, 1px);height: 1px;margin: -1px;overflow: hidden;padding: 0;position: absolute;width: 1px;}#sk-container-id-1 div.sk-estimator {font-family: monospace;background-color: #f0f8ff;border: 1px dotted black;border-radius: 0.25em;box-sizing: border-box;margin-bottom: 0.5em;}#sk-container-id-1 div.sk-estimator:hover {background-color: #d4ebff;}#sk-container-id-1 div.sk-parallel-item::after {content: \"\";width: 100%;border-bottom: 1px solid gray;flex-grow: 1;}#sk-container-id-1 div.sk-label:hover label.sk-toggleable__label {background-color: #d4ebff;}#sk-container-id-1 div.sk-serial::before {content: \"\";position: absolute;border-left: 1px solid gray;box-sizing: border-box;top: 0;bottom: 0;left: 50%;z-index: 0;}#sk-container-id-1 div.sk-serial {display: flex;flex-direction: column;align-items: center;background-color: white;padding-right: 0.2em;padding-left: 0.2em;position: relative;}#sk-container-id-1 div.sk-item {position: relative;z-index: 1;}#sk-container-id-1 div.sk-parallel {display: flex;align-items: stretch;justify-content: center;background-color: white;position: relative;}#sk-container-id-1 div.sk-item::before, #sk-container-id-1 div.sk-parallel-item::before {content: \"\";position: absolute;border-left: 1px solid gray;box-sizing: border-box;top: 0;bottom: 0;left: 50%;z-index: -1;}#sk-container-id-1 div.sk-parallel-item {display: flex;flex-direction: column;z-index: 1;position: relative;background-color: white;}#sk-container-id-1 div.sk-parallel-item:first-child::after {align-self: flex-end;width: 50%;}#sk-container-id-1 div.sk-parallel-item:last-child::after {align-self: flex-start;width: 50%;}#sk-container-id-1 div.sk-parallel-item:only-child::after {width: 0;}#sk-container-id-1 div.sk-dashed-wrapped {border: 1px dashed gray;margin: 0 0.4em 0.5em 0.4em;box-sizing: border-box;padding-bottom: 0.4em;background-color: white;}#sk-container-id-1 div.sk-label label {font-family: monospace;font-weight: bold;display: inline-block;line-height: 1.2em;}#sk-container-id-1 div.sk-label-container {text-align: center;}#sk-container-id-1 div.sk-container {/* jupyter's `normalize.less` sets `[hidden] { display: none; }` but bootstrap.min.css set `[hidden] { display: none !important; }` so we also need the `!important` here to be able to override the default hidden behavior on the sphinx rendered scikit-learn.org. See: https://github.com/scikit-learn/scikit-learn/issues/21755 */display: inline-block !important;position: relative;}#sk-container-id-1 div.sk-text-repr-fallback {display: none;}</style><div id=\"sk-container-id-1\" class=\"sk-top-container\"><div class=\"sk-text-repr-fallback\"><pre>GaussianNB()</pre><b>In a Jupyter environment, please rerun this cell to show the HTML representation or trust the notebook. <br />On GitHub, the HTML representation is unable to render, please try loading this page with nbviewer.org.</b></div><div class=\"sk-container\" hidden><div class=\"sk-item\"><div class=\"sk-estimator sk-toggleable\"><input class=\"sk-toggleable__control sk-hidden--visually\" id=\"sk-estimator-id-1\" type=\"checkbox\" checked><label for=\"sk-estimator-id-1\" class=\"sk-toggleable__label sk-toggleable__label-arrow\">GaussianNB</label><div class=\"sk-toggleable__content\"><pre>GaussianNB()</pre></div></div></div></div></div>"
      ],
      "text/plain": [
       "GaussianNB()"
      ]
     },
     "execution_count": 17,
     "metadata": {},
     "output_type": "execute_result"
    }
   ],
   "source": [
    "nb = GaussianNB()\n",
    "nb.fit(x_train, y_train)"
   ]
  },
  {
   "cell_type": "code",
   "execution_count": 18,
   "id": "075a4ed3-9e97-46da-a6cd-11e03b5b657f",
   "metadata": {
    "tags": []
   },
   "outputs": [
    {
     "data": {
      "image/png": "[encoded data removed]",
      "text/plain": [
       "<Figure size 1000x700 with 2 Axes>"
      ]
     },
     "metadata": {},
     "output_type": "display_data"
    }
   ],
   "source": [
    "y_prend = nb.predict(x_test)\n",
    "cm = confusion_matrix(y_test, y_prend)\n",
    "class_labels = ['Espacio Verde Público', 'No Espacio Verde Público']\n",
    "plt.figure(figsize = (10,7))\n",
    "sns.heatmap(cm, annot = True, fmt = \"g\", cmap=\"Reds\", xticklabels=class_labels, yticklabels=class_labels)\n",
    "plt.xlabel('Predicted', fontsize = 12, fontweight  = 'bold')\n",
    "plt.ylabel('Actual', fontsize = 12, fontweight  = 'bold')\n",
    "plt.title('Matriz de Confusión', fontsize = 15, fontweight = 'bold')\n",
    "plt.show()"
   ]
  },
  {
   "cell_type": "code",
   "execution_count": 19,
   "id": "0ff2f0d7-41b9-4362-8135-7cfc15e54e5b",
   "metadata": {
    "tags": []
   },
   "outputs": [
    {
     "name": "stdout",
     "output_type": "stream",
     "text": [
      "Accuracy: 0.5710249174972075\n"
     ]
    }
   ],
   "source": [
    "accuracy = accuracy_score(y_test, y_prend)\n",
    "print(f'Accuracy: {accuracy}')"
   ]
  },
  {
   "cell_type": "markdown",
   "id": "54a5eeb1-1fcd-40e9-82f2-b3dcaabb5cd5",
   "metadata": {
    "tags": []
   },
   "source": [
    "Sigue siendo mucho Espacio Verde Público porque lo más seguro es que tenemos muchos hexágonos con espacio público presente y tenemos muy pocos hexágonos con espacio público no presente. Entonces ahora se intentará hacer un submuestreo para ver si ese es el problema.\n",
    "\n",
    "## Submuestreo"
   ]
  },
  {
   "cell_type": "code",
   "execution_count": 10,
   "id": "2e97efab-9a39-434c-9c6e-221f1fadf072",
   "metadata": {
    "tags": []
   },
   "outputs": [
    {
     "name": "stdout",
     "output_type": "stream",
     "text": [
      "\n",
      "La clase 1 tiene 1914977 observaciones\n",
      "\n",
      "La clase 2 tiene 2015191 observaciones\n"
     ]
    }
   ],
   "source": [
    "y = inter['EspVerPub']\n",
    "x = inter[['temp_diff_mean', 'ndmi_median', 'ndmi_mean', 'ndmi_diff', 'ndvi_tend','ndvi_diff','ndvi_min','ndvi_max','ndvi_median','ndvi_std','ndvi_mean']]\n",
    "clase2=0\n",
    "clase3=0\n",
    "\n",
    "for i in y:\n",
    "  if i==1:\n",
    "    clase2+=1\n",
    "  elif i == 0:\n",
    "    clase3+=1\n",
    "\n",
    "print(f\"\\nLa clase 1 tiene {clase2} observaciones\")\n",
    "print(f\"\\nLa clase 2 tiene {clase3} observaciones\")"
   ]
  },
  {
   "cell_type": "code",
   "execution_count": 11,
   "id": "665d32b5-ba1e-4b0c-9cba-771ca447298e",
   "metadata": {
    "tags": []
   },
   "outputs": [],
   "source": [
    "rus = RandomUnderSampler(sampling_strategy=\"majority\")"
   ]
  },
  {
   "cell_type": "code",
   "execution_count": 12,
   "id": "82918b2e-d80e-4ad5-ad33-62d6e857a096",
   "metadata": {
    "tags": []
   },
   "outputs": [],
   "source": [
    "xL, yL = rus.fit_resample(x, y)"
   ]
  },
  {
   "cell_type": "code",
   "execution_count": 13,
   "id": "52ff2bcb-d430-473f-9c06-0c5e2dfe7cfe",
   "metadata": {
    "tags": []
   },
   "outputs": [
    {
     "name": "stdout",
     "output_type": "stream",
     "text": [
      "\n",
      "La clase 1 tiene 1914977 observaciones\n",
      "\n",
      "La clase 2 tiene 1914977 observaciones\n"
     ]
    }
   ],
   "source": [
    "clase2=0\n",
    "clase3=0\n",
    "\n",
    "for i in yL:\n",
    "  if i==1:\n",
    "    clase2+=1\n",
    "  elif i == 0:\n",
    "    clase3+=1\n",
    "\n",
    "print(f\"\\nLa clase 1 tiene {clase2} observaciones\")\n",
    "print(f\"\\nLa clase 2 tiene {clase3} observaciones\")"
   ]
  },
  {
   "cell_type": "markdown",
   "id": "0f4d096c-eff8-4ea5-b34a-d8bbf75e20f2",
   "metadata": {},
   "source": [
    "Ya que tenemos la misma cantidad de observaciones, veremos como se comportan los métodos de clasificación"
   ]
  },
  {
   "cell_type": "markdown",
   "id": "c9ef5af2-7f6e-4662-9b28-14d4977b73f8",
   "metadata": {},
   "source": [
    "## Métodos de clasificación"
   ]
  },
  {
   "cell_type": "markdown",
   "id": "7a729009-f6a7-4704-87a3-31b5ce08f3d7",
   "metadata": {},
   "source": [
    "### Regresión Logística"
   ]
  },
  {
   "cell_type": "code",
   "execution_count": null,
   "id": "60fbbfb4-9b69-458e-aa8b-9719e6873974",
   "metadata": {
    "tags": []
   },
   "outputs": [],
   "source": [
    "x_train, x_test, y_train, y_test = train_test_split(xL,yL, test_size = 0.2, random_state = 42)\n",
    "scaler = StandardScaler()\n",
    "x_train_scale = scaler.fit_transform(x_train)\n",
    "x_test_scale = scaler.fit_transform(x_test)"
   ]
  },
  {
   "cell_type": "code",
   "execution_count": null,
   "id": "5691d225-2897-4de7-932e-0f1634cf9db2",
   "metadata": {},
   "outputs": [],
   "source": [
    "clf = LogisticRegression()\n",
    "clf.fit(x_train_scale, y_train)\n",
    "y_pred = clf.predict(x_test_scale)\n",
    "cm = confusion_matrix(y_test,y_pred)\n",
    "class_labels = ['Espacio Verde Público', 'No Espacio Verde Público']\n",
    "plt.figure(figsize = (10,7))\n",
    "sns.heatmap(cm, annot = True, fmt = \"g\", cmap=\"Blues\", xticklabels=class_labels, yticklabels=class_labels)\n",
    "plt.xlabel('Predicted', fontsize = 12, fontweight  = 'bold')\n",
    "plt.ylabel('Actual', fontsize = 12, fontweight  = 'bold')\n",
    "plt.title('Matriz de Confusión', fontsize = 15, fontweight = 'bold')\n",
    "plt.show()"
   ]
  },
  {
   "cell_type": "code",
   "execution_count": null,
   "id": "2acdbf98-f546-4322-8739-dbca7eee91f3",
   "metadata": {},
   "outputs": [],
   "source": [
    "round(accuracy_score(y_test, y_pred), 4)"
   ]
  },
  {
   "cell_type": "markdown",
   "id": "cf247bb0-1714-4e77-ad35-3fa1d09aaa9e",
   "metadata": {},
   "source": [
    "### Naive Bayes"
   ]
  },
  {
   "cell_type": "code",
   "execution_count": null,
   "id": "541a200d-fca5-40d2-afa0-86f60df27079",
   "metadata": {},
   "outputs": [],
   "source": [
    "nb = GaussianNB()\n",
    "nb.fit(x_train, y_train)"
   ]
  },
  {
   "cell_type": "code",
   "execution_count": null,
   "id": "2421e356-8c2f-4d76-b6b5-2f17e0e5c002",
   "metadata": {},
   "outputs": [],
   "source": [
    "y_prend = nb.predict(x_test)\n",
    "cm = confusion_matrix(y_test, y_prend)\n",
    "class_labels = ['Espacio Verde Público', 'No Espacio Verde Público']\n",
    "plt.figure(figsize = (10,7))\n",
    "sns.heatmap(cm, annot = True, fmt = \"g\", cmap=\"Reds\", xticklabels=class_labels, yticklabels=class_labels)\n",
    "plt.xlabel('Predicted', fontsize = 12, fontweight  = 'bold')\n",
    "plt.ylabel('Actual', fontsize = 12, fontweight  = 'bold')\n",
    "plt.title('Matriz de Confusión', fontsize = 15, fontweight = 'bold')\n",
    "plt.show()"
   ]
  },
  {
   "cell_type": "code",
   "execution_count": null,
   "id": "b428271e-cfdb-4bba-ba60-55ec96a20027",
   "metadata": {},
   "outputs": [],
   "source": [
    "accuracy = accuracy_score(y_test, y_prend)\n",
    "print(f'Accuracy: {accuracy}')"
   ]
  }
 ],
 "metadata": {
  "kernelspec": {
   "display_name": "Python 3 (ipykernel)",
   "language": "python",
   "name": "python3"
  },
  "language_info": {
   "codemirror_mode": {
    "name": "ipython",
    "version": 3
   },
   "file_extension": ".py",
   "mimetype": "text/x-python",
   "name": "python",
   "nbconvert_exporter": "python",
   "pygments_lexer": "ipython3",
   "version": "3.10.10"
  }
 },
 "nbformat": 4,
 "nbformat_minor": 5
}
