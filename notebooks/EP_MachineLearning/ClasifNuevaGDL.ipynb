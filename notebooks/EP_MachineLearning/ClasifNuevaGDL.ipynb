{
 "cells": [
  {
   "cell_type": "code",
   "execution_count": 1,
   "id": "4ec513c3-b9b9-40ac-bdbb-39a64d6bc8a0",
   "metadata": {
    "tags": []
   },
   "outputs": [
    {
     "name": "stderr",
     "output_type": "stream",
     "text": [
      "/tmp/ipykernel_44801/718221896.py:1: UserWarning: Shapely 2.0 is installed, but because PyGEOS is also installed, GeoPandas will still use PyGEOS by default for now. To force to use and test Shapely 2.0, you have to set the environment variable USE_PYGEOS=0. You can do this before starting the Python process, or in your code before importing geopandas:\n",
      "\n",
      "import os\n",
      "os.environ['USE_PYGEOS'] = '0'\n",
      "import geopandas\n",
      "\n",
      "In a future release, GeoPandas will switch to using Shapely by default. If you are using PyGEOS directly (calling PyGEOS functions on geometries from GeoPandas), this will then stop working and you are encouraged to migrate from PyGEOS to Shapely 2.0 (https://shapely.readthedocs.io/en/latest/migration_pygeos.html).\n",
      "  import geopandas as gpd\n",
      "/opt/conda/lib/python3.10/site-packages/osmnx/utils.py:192: UserWarning: The `utils.config` function is deprecated and will be removed in a future release. Instead, use the `settings` module directly to configure a global setting's value. For example, `ox.settings.log_console=True`.\n",
      "  warnings.warn(\n"
     ]
    }
   ],
   "source": [
    "import geopandas as gpd\n",
    "from geopandas.tools import overlay\n",
    "import matplotlib.pyplot as plt\n",
    "import os \n",
    "import sys\n",
    "module_path = os.path.abspath(os.path.join('../../'))\n",
    "if module_path not in sys.path:\n",
    "    sys.path.append(module_path)\n",
    "    import aup\n",
    "import pandas as pd\n",
    "import numpy as np\n",
    "import seaborn as sns\n",
    "from sklearn.model_selection import train_test_split\n",
    "from sklearn.metrics import accuracy_score, confusion_matrix\n",
    "from sklearn.linear_model import LogisticRegression\n",
    "from sklearn.preprocessing import StandardScaler\n",
    "from sklearn.naive_bayes import GaussianNB\n",
    "from imblearn.under_sampling import RandomUnderSampler"
   ]
  },
  {
   "cell_type": "markdown",
   "id": "75031d4a-262a-41b2-9a1e-21b2aee789f2",
   "metadata": {},
   "source": [
    "## Espacios públicos gdl"
   ]
  },
  {
   "cell_type": "code",
   "execution_count": 2,
   "id": "330f1714-2271-45f7-b872-a3d8e642061d",
   "metadata": {
    "tags": []
   },
   "outputs": [
    {
     "data": {
      "text/html": [
       "<div>\n",
       "<style scoped>\n",
       "    .dataframe tbody tr th:only-of-type {\n",
       "        vertical-align: middle;\n",
       "    }\n",
       "\n",
       "    .dataframe tbody tr th {\n",
       "        vertical-align: top;\n",
       "    }\n",
       "\n",
       "    .dataframe thead th {\n",
       "        text-align: right;\n",
       "    }\n",
       "</style>\n",
       "<table border=\"1\" class=\"dataframe\">\n",
       "  <thead>\n",
       "    <tr style=\"text-align: right;\">\n",
       "      <th></th>\n",
       "      <th>Fuente</th>\n",
       "      <th>Tipo</th>\n",
       "      <th>Uso</th>\n",
       "      <th>geometry</th>\n",
       "    </tr>\n",
       "  </thead>\n",
       "  <tbody>\n",
       "    <tr>\n",
       "      <th>0</th>\n",
       "      <td>OpenStreetMap, [Online]. Disponible: http://ww...</td>\n",
       "      <td>Parque</td>\n",
       "      <td>Uso recreativo</td>\n",
       "      <td>POLYGON ((672507.028 2272132.201, 672520.126 2...</td>\n",
       "    </tr>\n",
       "    <tr>\n",
       "      <th>1</th>\n",
       "      <td>OpenStreetMap, [Online]. Disponible: http://ww...</td>\n",
       "      <td>Parque</td>\n",
       "      <td>Uso recreativo</td>\n",
       "      <td>POLYGON ((672520.126 2272170.353, 672507.028 2...</td>\n",
       "    </tr>\n",
       "    <tr>\n",
       "      <th>2</th>\n",
       "      <td>OpenStreetMap, [Online]. Disponible: http://ww...</td>\n",
       "      <td>Parque</td>\n",
       "      <td>Uso recreativo</td>\n",
       "      <td>POLYGON ((672494.325 2272095.205, 672480.366 2...</td>\n",
       "    </tr>\n",
       "    <tr>\n",
       "      <th>3</th>\n",
       "      <td>OpenStreetMap, [Online]. Disponible: http://ww...</td>\n",
       "      <td>Parque</td>\n",
       "      <td>Uso recreativo</td>\n",
       "      <td>POLYGON ((672480.366 2272060.731, 672494.325 2...</td>\n",
       "    </tr>\n",
       "    <tr>\n",
       "      <th>4</th>\n",
       "      <td>OpenStreetMap, [Online]. Disponible: http://ww...</td>\n",
       "      <td>Parque</td>\n",
       "      <td>Uso recreativo</td>\n",
       "      <td>POLYGON ((672468.717 2272020.613, 672456.895 2...</td>\n",
       "    </tr>\n",
       "  </tbody>\n",
       "</table>\n",
       "</div>"
      ],
      "text/plain": [
       "                                              Fuente    Tipo             Uso  \\\n",
       "0  OpenStreetMap, [Online]. Disponible: http://ww...  Parque  Uso recreativo   \n",
       "1  OpenStreetMap, [Online]. Disponible: http://ww...  Parque  Uso recreativo   \n",
       "2  OpenStreetMap, [Online]. Disponible: http://ww...  Parque  Uso recreativo   \n",
       "3  OpenStreetMap, [Online]. Disponible: http://ww...  Parque  Uso recreativo   \n",
       "4  OpenStreetMap, [Online]. Disponible: http://ww...  Parque  Uso recreativo   \n",
       "\n",
       "                                            geometry  \n",
       "0  POLYGON ((672507.028 2272132.201, 672520.126 2...  \n",
       "1  POLYGON ((672520.126 2272170.353, 672507.028 2...  \n",
       "2  POLYGON ((672494.325 2272095.205, 672480.366 2...  \n",
       "3  POLYGON ((672480.366 2272060.731, 672494.325 2...  \n",
       "4  POLYGON ((672468.717 2272020.613, 672456.895 2...  "
      ]
     },
     "execution_count": 2,
     "metadata": {},
     "output_type": "execute_result"
    }
   ],
   "source": [
    "schema = 'espacios_publicos'\n",
    "table = 'ep_amg'\n",
    "gdf = aup.gdf_from_db(table,schema)\n",
    "gdf.head()"
   ]
  },
  {
   "cell_type": "code",
   "execution_count": 3,
   "id": "580e318e-f2b9-44a4-8075-68e4f972d9df",
   "metadata": {
    "tags": []
   },
   "outputs": [
    {
     "data": {
      "text/plain": [
       "(8499, 4)"
      ]
     },
     "execution_count": 3,
     "metadata": {},
     "output_type": "execute_result"
    }
   ],
   "source": [
    "gdf.shape"
   ]
  },
  {
   "cell_type": "markdown",
   "id": "3b683250-8791-48e3-9838-8a472e0e4779",
   "metadata": {},
   "source": [
    "## Hexágonos GDL"
   ]
  },
  {
   "cell_type": "code",
   "execution_count": 3,
   "id": "c75f0979-1e22-43f0-ac87-edae94f19d7d",
   "metadata": {
    "tags": []
   },
   "outputs": [
    {
     "data": {
      "text/html": [
       "<div>\n",
       "<style scoped>\n",
       "    .dataframe tbody tr th:only-of-type {\n",
       "        vertical-align: middle;\n",
       "    }\n",
       "\n",
       "    .dataframe tbody tr th {\n",
       "        vertical-align: top;\n",
       "    }\n",
       "\n",
       "    .dataframe thead th {\n",
       "        text-align: right;\n",
       "    }\n",
       "</style>\n",
       "<table border=\"1\" class=\"dataframe\">\n",
       "  <thead>\n",
       "    <tr style=\"text-align: right;\">\n",
       "      <th></th>\n",
       "      <th>geometry</th>\n",
       "      <th>hex_id_8</th>\n",
       "      <th>CVEGEO</th>\n",
       "      <th>metropolis</th>\n",
       "    </tr>\n",
       "  </thead>\n",
       "  <tbody>\n",
       "    <tr>\n",
       "      <th>0</th>\n",
       "      <td>POLYGON ((-103.60989 20.39686, -103.61044 20.4...</td>\n",
       "      <td>8849abc91bfffff</td>\n",
       "      <td>14002</td>\n",
       "      <td>Guadalajara</td>\n",
       "    </tr>\n",
       "    <tr>\n",
       "      <th>1</th>\n",
       "      <td>POLYGON ((-103.61277 20.37822, -103.60824 20.3...</td>\n",
       "      <td>8849abc953fffff</td>\n",
       "      <td>14002</td>\n",
       "      <td>Guadalajara</td>\n",
       "    </tr>\n",
       "    <tr>\n",
       "      <th>2</th>\n",
       "      <td>POLYGON ((-103.58960 20.38835, -103.58905 20.3...</td>\n",
       "      <td>8849abc901fffff</td>\n",
       "      <td>14002</td>\n",
       "      <td>Guadalajara</td>\n",
       "    </tr>\n",
       "    <tr>\n",
       "      <th>3</th>\n",
       "      <td>POLYGON ((-103.66739 20.43582, -103.66683 20.4...</td>\n",
       "      <td>8849abc8adfffff</td>\n",
       "      <td>14002</td>\n",
       "      <td>Guadalajara</td>\n",
       "    </tr>\n",
       "    <tr>\n",
       "      <th>4</th>\n",
       "      <td>POLYGON ((-103.66904 20.45140, -103.66452 20.4...</td>\n",
       "      <td>8849ab5249fffff</td>\n",
       "      <td>14002</td>\n",
       "      <td>Guadalajara</td>\n",
       "    </tr>\n",
       "  </tbody>\n",
       "</table>\n",
       "</div>"
      ],
      "text/plain": [
       "                                            geometry         hex_id_8 CVEGEO  \\\n",
       "0  POLYGON ((-103.60989 20.39686, -103.61044 20.4...  8849abc91bfffff  14002   \n",
       "1  POLYGON ((-103.61277 20.37822, -103.60824 20.3...  8849abc953fffff  14002   \n",
       "2  POLYGON ((-103.58960 20.38835, -103.58905 20.3...  8849abc901fffff  14002   \n",
       "3  POLYGON ((-103.66739 20.43582, -103.66683 20.4...  8849abc8adfffff  14002   \n",
       "4  POLYGON ((-103.66904 20.45140, -103.66452 20.4...  8849ab5249fffff  14002   \n",
       "\n",
       "    metropolis  \n",
       "0  Guadalajara  \n",
       "1  Guadalajara  \n",
       "2  Guadalajara  \n",
       "3  Guadalajara  \n",
       "4  Guadalajara  "
      ]
     },
     "execution_count": 3,
     "metadata": {},
     "output_type": "execute_result"
    }
   ],
   "source": [
    "hex_schema = \"hexgrid\"\n",
    "hex_table = \"hexgrid_8_city\"\n",
    "c = 'Guadalajara'\n",
    "query = f'SELECT * FROM {hex_schema}.{hex_table} WHERE \\\"metropolis\\\" LIKE \\'{c}\\''\n",
    "hex_gdl = aup.gdf_from_query(query, geometry_col='geometry')\n",
    "hex_gdl.head(5)"
   ]
  },
  {
   "cell_type": "markdown",
   "id": "e20d2571-92ee-4d7d-aadc-aa247dd7f6fc",
   "metadata": {},
   "source": [
    "## Intersección"
   ]
  },
  {
   "cell_type": "code",
   "execution_count": 4,
   "id": "afc060dc-98e5-48cb-bf45-e6f890198699",
   "metadata": {
    "tags": []
   },
   "outputs": [
    {
     "name": "stdout",
     "output_type": "stream",
     "text": [
      "CRS of gdf: epsg:4326\n",
      "CRS of hex_gdl: epsg:4326\n"
     ]
    }
   ],
   "source": [
    "gdf = gdf.to_crs(hex_gdl.crs)\n",
    "print(\"CRS of gdf:\", gdf.crs)\n",
    "print(\"CRS of hex_gdl:\", hex_gdl.crs)"
   ]
  },
  {
   "cell_type": "code",
   "execution_count": 5,
   "id": "8659c2f3-9d9f-4b9c-8a22-e4db5b463aa3",
   "metadata": {
    "tags": []
   },
   "outputs": [
    {
     "name": "stderr",
     "output_type": "stream",
     "text": [
      "/opt/conda/lib/python3.10/site-packages/IPython/core/interactiveshell.py:3445: FutureWarning: The `op` parameter is deprecated and will be removed in a future release. Please use the `predicate` parameter instead.\n",
      "  if await self.run_code(code, result, async_=asy):\n"
     ]
    },
    {
     "data": {
      "text/html": [
       "<div>\n",
       "<style scoped>\n",
       "    .dataframe tbody tr th:only-of-type {\n",
       "        vertical-align: middle;\n",
       "    }\n",
       "\n",
       "    .dataframe tbody tr th {\n",
       "        vertical-align: top;\n",
       "    }\n",
       "\n",
       "    .dataframe thead th {\n",
       "        text-align: right;\n",
       "    }\n",
       "</style>\n",
       "<table border=\"1\" class=\"dataframe\">\n",
       "  <thead>\n",
       "    <tr style=\"text-align: right;\">\n",
       "      <th></th>\n",
       "      <th>geometry</th>\n",
       "      <th>hex_id_8</th>\n",
       "      <th>CVEGEO</th>\n",
       "      <th>metropolis</th>\n",
       "      <th>index_right</th>\n",
       "      <th>Fuente</th>\n",
       "      <th>Tipo</th>\n",
       "      <th>Uso</th>\n",
       "    </tr>\n",
       "  </thead>\n",
       "  <tbody>\n",
       "    <tr>\n",
       "      <th>183</th>\n",
       "      <td>POLYGON ((-103.36270 20.63071, -103.36778 20.6...</td>\n",
       "      <td>88498c9653fffff</td>\n",
       "      <td>14039</td>\n",
       "      <td>Guadalajara</td>\n",
       "      <td>3521</td>\n",
       "      <td>Instrumentos de planeación urbana. Disponible:...</td>\n",
       "      <td>Parque</td>\n",
       "      <td>Uso recreativo</td>\n",
       "    </tr>\n",
       "    <tr>\n",
       "      <th>326</th>\n",
       "      <td>POLYGON ((-103.36832 20.63804, -103.37340 20.6...</td>\n",
       "      <td>8849ab5925fffff</td>\n",
       "      <td>14039</td>\n",
       "      <td>Guadalajara</td>\n",
       "      <td>3521</td>\n",
       "      <td>Instrumentos de planeación urbana. Disponible:...</td>\n",
       "      <td>Parque</td>\n",
       "      <td>Uso recreativo</td>\n",
       "    </tr>\n",
       "    <tr>\n",
       "      <th>184</th>\n",
       "      <td>POLYGON ((-103.34995 20.69490, -103.34941 20.6...</td>\n",
       "      <td>88498c96a5fffff</td>\n",
       "      <td>14039</td>\n",
       "      <td>Guadalajara</td>\n",
       "      <td>5578</td>\n",
       "      <td>Carta topográfica1:20,000,  INEGI.</td>\n",
       "      <td>Glorieta</td>\n",
       "      <td>Sin uso recreativo</td>\n",
       "    </tr>\n",
       "    <tr>\n",
       "      <th>184</th>\n",
       "      <td>POLYGON ((-103.34995 20.69490, -103.34941 20.6...</td>\n",
       "      <td>88498c96a5fffff</td>\n",
       "      <td>14039</td>\n",
       "      <td>Guadalajara</td>\n",
       "      <td>7475</td>\n",
       "      <td>Digitalizado por IIEG, 2018.</td>\n",
       "      <td>Camellón</td>\n",
       "      <td>Sin uso recreativo</td>\n",
       "    </tr>\n",
       "    <tr>\n",
       "      <th>184</th>\n",
       "      <td>POLYGON ((-103.34995 20.69490, -103.34941 20.6...</td>\n",
       "      <td>88498c96a5fffff</td>\n",
       "      <td>14039</td>\n",
       "      <td>Guadalajara</td>\n",
       "      <td>7477</td>\n",
       "      <td>Digitalizado por IIEG, 2018.</td>\n",
       "      <td>Camellón</td>\n",
       "      <td>Sin uso recreativo</td>\n",
       "    </tr>\n",
       "    <tr>\n",
       "      <th>...</th>\n",
       "      <td>...</td>\n",
       "      <td>...</td>\n",
       "      <td>...</td>\n",
       "      <td>...</td>\n",
       "      <td>...</td>\n",
       "      <td>...</td>\n",
       "      <td>...</td>\n",
       "      <td>...</td>\n",
       "    </tr>\n",
       "    <tr>\n",
       "      <th>3265</th>\n",
       "      <td>POLYGON ((-103.46593 20.82810, -103.47047 20.8...</td>\n",
       "      <td>8849ab48e5fffff</td>\n",
       "      <td>14120</td>\n",
       "      <td>Guadalajara</td>\n",
       "      <td>278</td>\n",
       "      <td>Instrumentos de planeación urbana. Disponible:...</td>\n",
       "      <td>Espacio verde vecinal</td>\n",
       "      <td>Sin uso recreativo</td>\n",
       "    </tr>\n",
       "    <tr>\n",
       "      <th>3265</th>\n",
       "      <td>POLYGON ((-103.46593 20.82810, -103.47047 20.8...</td>\n",
       "      <td>8849ab48e5fffff</td>\n",
       "      <td>14120</td>\n",
       "      <td>Guadalajara</td>\n",
       "      <td>279</td>\n",
       "      <td>Instrumentos de planeación urbana. Disponible:...</td>\n",
       "      <td>Espacio verde vecinal</td>\n",
       "      <td>Sin uso recreativo</td>\n",
       "    </tr>\n",
       "    <tr>\n",
       "      <th>3265</th>\n",
       "      <td>POLYGON ((-103.46593 20.82810, -103.47047 20.8...</td>\n",
       "      <td>8849ab48e5fffff</td>\n",
       "      <td>14120</td>\n",
       "      <td>Guadalajara</td>\n",
       "      <td>284</td>\n",
       "      <td>Instrumentos de planeación urbana. Disponible:...</td>\n",
       "      <td>Glorieta</td>\n",
       "      <td>Sin uso recreativo</td>\n",
       "    </tr>\n",
       "    <tr>\n",
       "      <th>3265</th>\n",
       "      <td>POLYGON ((-103.46593 20.82810, -103.47047 20.8...</td>\n",
       "      <td>8849ab48e5fffff</td>\n",
       "      <td>14120</td>\n",
       "      <td>Guadalajara</td>\n",
       "      <td>280</td>\n",
       "      <td>Instrumentos de planeación urbana. Disponible:...</td>\n",
       "      <td>Parque</td>\n",
       "      <td>Uso recreativo</td>\n",
       "    </tr>\n",
       "    <tr>\n",
       "      <th>3265</th>\n",
       "      <td>POLYGON ((-103.46593 20.82810, -103.47047 20.8...</td>\n",
       "      <td>8849ab48e5fffff</td>\n",
       "      <td>14120</td>\n",
       "      <td>Guadalajara</td>\n",
       "      <td>8253</td>\n",
       "      <td>Instrumentos de planeación urbana. Disponible:...</td>\n",
       "      <td>Área natural</td>\n",
       "      <td>Sin uso recreativo</td>\n",
       "    </tr>\n",
       "  </tbody>\n",
       "</table>\n",
       "<p>10279 rows × 8 columns</p>\n",
       "</div>"
      ],
      "text/plain": [
       "                                               geometry         hex_id_8  \\\n",
       "183   POLYGON ((-103.36270 20.63071, -103.36778 20.6...  88498c9653fffff   \n",
       "326   POLYGON ((-103.36832 20.63804, -103.37340 20.6...  8849ab5925fffff   \n",
       "184   POLYGON ((-103.34995 20.69490, -103.34941 20.6...  88498c96a5fffff   \n",
       "184   POLYGON ((-103.34995 20.69490, -103.34941 20.6...  88498c96a5fffff   \n",
       "184   POLYGON ((-103.34995 20.69490, -103.34941 20.6...  88498c96a5fffff   \n",
       "...                                                 ...              ...   \n",
       "3265  POLYGON ((-103.46593 20.82810, -103.47047 20.8...  8849ab48e5fffff   \n",
       "3265  POLYGON ((-103.46593 20.82810, -103.47047 20.8...  8849ab48e5fffff   \n",
       "3265  POLYGON ((-103.46593 20.82810, -103.47047 20.8...  8849ab48e5fffff   \n",
       "3265  POLYGON ((-103.46593 20.82810, -103.47047 20.8...  8849ab48e5fffff   \n",
       "3265  POLYGON ((-103.46593 20.82810, -103.47047 20.8...  8849ab48e5fffff   \n",
       "\n",
       "     CVEGEO   metropolis  index_right  \\\n",
       "183   14039  Guadalajara         3521   \n",
       "326   14039  Guadalajara         3521   \n",
       "184   14039  Guadalajara         5578   \n",
       "184   14039  Guadalajara         7475   \n",
       "184   14039  Guadalajara         7477   \n",
       "...     ...          ...          ...   \n",
       "3265  14120  Guadalajara          278   \n",
       "3265  14120  Guadalajara          279   \n",
       "3265  14120  Guadalajara          284   \n",
       "3265  14120  Guadalajara          280   \n",
       "3265  14120  Guadalajara         8253   \n",
       "\n",
       "                                                 Fuente  \\\n",
       "183   Instrumentos de planeación urbana. Disponible:...   \n",
       "326   Instrumentos de planeación urbana. Disponible:...   \n",
       "184                  Carta topográfica1:20,000,  INEGI.   \n",
       "184                        Digitalizado por IIEG, 2018.   \n",
       "184                        Digitalizado por IIEG, 2018.   \n",
       "...                                                 ...   \n",
       "3265  Instrumentos de planeación urbana. Disponible:...   \n",
       "3265  Instrumentos de planeación urbana. Disponible:...   \n",
       "3265  Instrumentos de planeación urbana. Disponible:...   \n",
       "3265  Instrumentos de planeación urbana. Disponible:...   \n",
       "3265  Instrumentos de planeación urbana. Disponible:...   \n",
       "\n",
       "                       Tipo                 Uso  \n",
       "183                  Parque      Uso recreativo  \n",
       "326                  Parque      Uso recreativo  \n",
       "184                Glorieta  Sin uso recreativo  \n",
       "184                Camellón  Sin uso recreativo  \n",
       "184                Camellón  Sin uso recreativo  \n",
       "...                     ...                 ...  \n",
       "3265  Espacio verde vecinal  Sin uso recreativo  \n",
       "3265  Espacio verde vecinal  Sin uso recreativo  \n",
       "3265               Glorieta  Sin uso recreativo  \n",
       "3265                 Parque      Uso recreativo  \n",
       "3265           Área natural  Sin uso recreativo  \n",
       "\n",
       "[10279 rows x 8 columns]"
      ]
     },
     "execution_count": 5,
     "metadata": {},
     "output_type": "execute_result"
    }
   ],
   "source": [
    "inter_Gdl = gpd.sjoin(hex_gdl, gdf, op='intersects')\n",
    "inter_Gdl"
   ]
  },
  {
   "cell_type": "code",
   "execution_count": 6,
   "id": "e8b2b452-8638-4f32-92e1-2af8538c69bb",
   "metadata": {
    "tags": []
   },
   "outputs": [],
   "source": [
    "def mapear_tipo(valor):\n",
    "    tipos_1 = ['Parque', 'Plaza', 'Área natural', 'Unidad deportiva', 'Espacio verde vecinal', 'Área natural protegida']\n",
    "    if valor in tipos_1:\n",
    "        return 1\n",
    "    elif valor in ['Glorieta', 'Camellón']:\n",
    "        return 0\n",
    "    else:\n",
    "        return None  # Puedes cambiar esto si deseas manejar otros valores\n",
    "\n",
    "# Aplicar la función para crear la nueva columna\n",
    "inter_Gdl['EspVerPub'] = inter_Gdl['Tipo'].apply(mapear_tipo)\n",
    "inter_Gdl.drop(columns=['index_right','Fuente','Uso'], inplace=True)"
   ]
  },
  {
   "cell_type": "markdown",
   "id": "7e9cd589-06fc-4b1f-b5a6-94905aca61e1",
   "metadata": {
    "tags": []
   },
   "source": [
    "## Hexágonos con info de humedad, vegetación y temperatura"
   ]
  },
  {
   "cell_type": "markdown",
   "id": "be6e5717-6745-4fee-8526-2882f9ece475",
   "metadata": {},
   "source": [
    "select {tempe}.hex_id, {tempe}.geometry, {tempe}.city, {tempe}.res,\n",
    "\n",
    "temperature_std, temperature_median, temperature_max, temperature_min, temperature_diff, temperature_tend,temp_diff_mean,\n",
    "\n",
    "ndvi_mean, ndvi_std, ndvi_median, ndvi_max, ndvi_min, ndvi_diff, ndvi_tend,\n",
    "\n",
    "ndmi_mean, ndmi_std, ndmi_median, ndmi_max, ndmi_min, ndmi_diff, ndmi_tend\n",
    "\n",
    "from raster_analysis.temperature_analysis_hex tempe\n",
    "\n",
    "inner join raster_analysis.ndmi_analysis_hex ndmi\n",
    "\n",
    "on tempe.hex_id = ndmi.hex_id \n",
    "\n",
    "inner join raster_analysis.ndvi_analysis_hex ndvi\n",
    "\n",
    "on tempe.hex_id = ndvi.hex_id \n",
    "\n",
    "where tempe.city  = 'Guadalajara' and tempe.res = 11"
   ]
  },
  {
   "cell_type": "code",
   "execution_count": 8,
   "id": "d1696c9c-c9e4-4075-9676-99cf97db6595",
   "metadata": {
    "tags": []
   },
   "outputs": [],
   "source": [
    "#hex_schema = \"raster_analysis\"\n",
    "#hex_table = \"temperature_analysis_hex\"\n",
    "#hex_tabl = \"ndvi_analysis_hex\"\n",
    "#hex_tablee = \"ndmi_analysis_hex\"\n",
    "#tempe = \"tempe\"\n",
    "#ndmi = \"ndmi\"\n",
    "#ndvi = \"ndvi\"\n",
    "#hex_id = \"hex_id\"\n",
    "#c = 'Guadalajara'\n",
    "#n = '11'\n",
    "#query = f'SELECT {tempe}.hex_id, {tempe}.geometry, {tempe}.city, {tempe}.res, temperature_std, temperature_median, temperature_max, temperature_min, temperature_diff, temperature_tend,temp_diff_mean,ndvi_mean, ndvi_std, ndvi_median, ndvi_max, ndvi_min, ndvi_diff, ndvi_tend,ndmi_mean, ndmi_std, ndmi_median, ndmi_max, ndmi_min, ndmi_diff, ndmi_tend FROM {hex_schema}.{hex_table} {tempe} INNER JOIN {hex_schema}.{hex_tablee} {ndmi} ON {tempe}.{hex_id} = {ndmi}.{hex_id} INNER JOIN {hex_schema}.{hex_tabl} {ndvi} ON {tempe}.{hex_id} = {ndvi}.{hex_id} WHERE {tempe}.\\\"city\\\" = \\'{c}\\' AND {tempe}.\\\"res\\\" = {n}'\n",
    "#int_gdl = aup.gdf_from_query(query, geometry_col='geometry')\n",
    "#int_gdl.head(10)"
   ]
  },
  {
   "cell_type": "markdown",
   "id": "ecfca983-abff-46b1-922f-c250c6a69658",
   "metadata": {},
   "source": [
    "select {tempe}.hex_id, {tempe}.geometry, {tempe}.city, {tempe}.res,\n",
    "\n",
    "temp_diff_mean,\n",
    "\n",
    "ndvi_mean, ndvi_std, ndvi_median, ndvi_max, ndvi_min, ndvi_diff, ndvi_tend,\n",
    "\n",
    "ndmi_mean, ndmi_median, ndmi_diff\n",
    "\n",
    "from raster_analysis.temperature_analysis_hex tempe\n",
    "\n",
    "inner join raster_analysis.ndmi_analysis_hex ndmi\n",
    "\n",
    "on tempe.hex_id = ndmi.hex_id \n",
    "\n",
    "inner join raster_analysis.ndvi_analysis_hex ndvi\n",
    "\n",
    "on tempe.hex_id = ndvi.hex_id \n",
    "\n",
    "where tempe.city  = 'Guadalajara' and tempe.res = 11"
   ]
  },
  {
   "cell_type": "code",
   "execution_count": 7,
   "id": "7b5e2ddc-a410-4444-aea1-ceb0a94ce842",
   "metadata": {
    "tags": []
   },
   "outputs": [
    {
     "data": {
      "text/html": [
       "<div>\n",
       "<style scoped>\n",
       "    .dataframe tbody tr th:only-of-type {\n",
       "        vertical-align: middle;\n",
       "    }\n",
       "\n",
       "    .dataframe tbody tr th {\n",
       "        vertical-align: top;\n",
       "    }\n",
       "\n",
       "    .dataframe thead th {\n",
       "        text-align: right;\n",
       "    }\n",
       "</style>\n",
       "<table border=\"1\" class=\"dataframe\">\n",
       "  <thead>\n",
       "    <tr style=\"text-align: right;\">\n",
       "      <th></th>\n",
       "      <th>hex_id</th>\n",
       "      <th>geometry</th>\n",
       "      <th>city</th>\n",
       "      <th>res</th>\n",
       "      <th>temp_diff_mean</th>\n",
       "      <th>ndvi_mean</th>\n",
       "      <th>ndvi_std</th>\n",
       "      <th>ndvi_median</th>\n",
       "      <th>ndvi_max</th>\n",
       "      <th>ndvi_min</th>\n",
       "      <th>ndvi_diff</th>\n",
       "      <th>ndvi_tend</th>\n",
       "      <th>ndmi_mean</th>\n",
       "      <th>ndmi_median</th>\n",
       "      <th>ndmi_diff</th>\n",
       "    </tr>\n",
       "  </thead>\n",
       "  <tbody>\n",
       "    <tr>\n",
       "      <th>0</th>\n",
       "      <td>8b49ab4b4251fff</td>\n",
       "      <td>POLYGON ((-103.42699 20.71866, -103.42681 20.7...</td>\n",
       "      <td>Guadalajara</td>\n",
       "      <td>11</td>\n",
       "      <td>1.081077</td>\n",
       "      <td>0.315405</td>\n",
       "      <td>0.206241</td>\n",
       "      <td>0.206408</td>\n",
       "      <td>0.711147</td>\n",
       "      <td>0.128978</td>\n",
       "      <td>0.582168</td>\n",
       "      <td>-0.000559</td>\n",
       "      <td>-0.025509</td>\n",
       "      <td>-0.102273</td>\n",
       "      <td>0.468677</td>\n",
       "    </tr>\n",
       "    <tr>\n",
       "      <th>1</th>\n",
       "      <td>8b49ab4b4385fff</td>\n",
       "      <td>POLYGON ((-103.42244 20.71412, -103.42227 20.7...</td>\n",
       "      <td>Guadalajara</td>\n",
       "      <td>11</td>\n",
       "      <td>-2.591753</td>\n",
       "      <td>0.285744</td>\n",
       "      <td>0.064639</td>\n",
       "      <td>0.313281</td>\n",
       "      <td>0.337199</td>\n",
       "      <td>0.195493</td>\n",
       "      <td>0.141706</td>\n",
       "      <td>-0.001637</td>\n",
       "      <td>0.064559</td>\n",
       "      <td>0.059237</td>\n",
       "      <td>0.098502</td>\n",
       "    </tr>\n",
       "    <tr>\n",
       "      <th>2</th>\n",
       "      <td>8b49ab4aa743fff</td>\n",
       "      <td>POLYGON ((-103.49977 20.79504, -103.49960 20.7...</td>\n",
       "      <td>Guadalajara</td>\n",
       "      <td>11</td>\n",
       "      <td>0.136053</td>\n",
       "      <td>0.108293</td>\n",
       "      <td>0.035416</td>\n",
       "      <td>0.111677</td>\n",
       "      <td>0.149571</td>\n",
       "      <td>0.079000</td>\n",
       "      <td>0.070571</td>\n",
       "      <td>-0.001220</td>\n",
       "      <td>-0.062980</td>\n",
       "      <td>-0.065607</td>\n",
       "      <td>0.088602</td>\n",
       "    </tr>\n",
       "    <tr>\n",
       "      <th>3</th>\n",
       "      <td>8b49ab4aa702fff</td>\n",
       "      <td>POLYGON ((-103.49636 20.79280, -103.49619 20.7...</td>\n",
       "      <td>Guadalajara</td>\n",
       "      <td>11</td>\n",
       "      <td>-1.300984</td>\n",
       "      <td>0.268614</td>\n",
       "      <td>0.068963</td>\n",
       "      <td>0.271376</td>\n",
       "      <td>0.366145</td>\n",
       "      <td>0.154954</td>\n",
       "      <td>0.211191</td>\n",
       "      <td>-0.000958</td>\n",
       "      <td>-0.002400</td>\n",
       "      <td>-0.009385</td>\n",
       "      <td>0.137231</td>\n",
       "    </tr>\n",
       "    <tr>\n",
       "      <th>4</th>\n",
       "      <td>8b49ab4aa708fff</td>\n",
       "      <td>POLYGON ((-103.49764 20.79364, -103.49747 20.7...</td>\n",
       "      <td>Guadalajara</td>\n",
       "      <td>11</td>\n",
       "      <td>-1.062029</td>\n",
       "      <td>0.111060</td>\n",
       "      <td>0.034786</td>\n",
       "      <td>0.106208</td>\n",
       "      <td>0.158824</td>\n",
       "      <td>0.068589</td>\n",
       "      <td>0.090235</td>\n",
       "      <td>-0.000523</td>\n",
       "      <td>-0.069432</td>\n",
       "      <td>-0.076476</td>\n",
       "      <td>0.109003</td>\n",
       "    </tr>\n",
       "    <tr>\n",
       "      <th>5</th>\n",
       "      <td>8b49ab4aa74afff</td>\n",
       "      <td>POLYGON ((-103.50015 20.79581, -103.49998 20.7...</td>\n",
       "      <td>Guadalajara</td>\n",
       "      <td>11</td>\n",
       "      <td>-0.002951</td>\n",
       "      <td>0.146572</td>\n",
       "      <td>0.037804</td>\n",
       "      <td>0.146433</td>\n",
       "      <td>0.193218</td>\n",
       "      <td>0.105053</td>\n",
       "      <td>0.088165</td>\n",
       "      <td>-0.000846</td>\n",
       "      <td>-0.055549</td>\n",
       "      <td>-0.060200</td>\n",
       "      <td>0.081525</td>\n",
       "    </tr>\n",
       "    <tr>\n",
       "      <th>6</th>\n",
       "      <td>8b49ab4aa7b0fff</td>\n",
       "      <td>POLYGON ((-103.49271 20.79299, -103.49254 20.7...</td>\n",
       "      <td>Guadalajara</td>\n",
       "      <td>11</td>\n",
       "      <td>-1.636169</td>\n",
       "      <td>0.204211</td>\n",
       "      <td>0.080563</td>\n",
       "      <td>0.187520</td>\n",
       "      <td>0.331585</td>\n",
       "      <td>0.109939</td>\n",
       "      <td>0.221645</td>\n",
       "      <td>-0.000789</td>\n",
       "      <td>-0.033656</td>\n",
       "      <td>-0.035459</td>\n",
       "      <td>0.157128</td>\n",
       "    </tr>\n",
       "    <tr>\n",
       "      <th>7</th>\n",
       "      <td>8b49ab4aa664fff</td>\n",
       "      <td>POLYGON ((-103.50011 20.79630, -103.49993 20.7...</td>\n",
       "      <td>Guadalajara</td>\n",
       "      <td>11</td>\n",
       "      <td>-0.065898</td>\n",
       "      <td>0.096383</td>\n",
       "      <td>0.031105</td>\n",
       "      <td>0.091949</td>\n",
       "      <td>0.141176</td>\n",
       "      <td>0.065064</td>\n",
       "      <td>0.076112</td>\n",
       "      <td>-0.000523</td>\n",
       "      <td>-0.077999</td>\n",
       "      <td>-0.082769</td>\n",
       "      <td>0.093228</td>\n",
       "    </tr>\n",
       "    <tr>\n",
       "      <th>8</th>\n",
       "      <td>8b49ab4aa6e8fff</td>\n",
       "      <td>POLYGON ((-103.49754 20.79928, -103.49737 20.7...</td>\n",
       "      <td>Guadalajara</td>\n",
       "      <td>11</td>\n",
       "      <td>-0.546701</td>\n",
       "      <td>0.067467</td>\n",
       "      <td>0.026864</td>\n",
       "      <td>0.060379</td>\n",
       "      <td>0.101549</td>\n",
       "      <td>0.034327</td>\n",
       "      <td>0.067222</td>\n",
       "      <td>-0.000437</td>\n",
       "      <td>-0.088711</td>\n",
       "      <td>-0.092489</td>\n",
       "      <td>0.094202</td>\n",
       "    </tr>\n",
       "    <tr>\n",
       "      <th>9</th>\n",
       "      <td>8b49ab4aa694fff</td>\n",
       "      <td>POLYGON ((-103.49185 20.79709, -103.49168 20.7...</td>\n",
       "      <td>Guadalajara</td>\n",
       "      <td>11</td>\n",
       "      <td>1.388195</td>\n",
       "      <td>0.246696</td>\n",
       "      <td>0.155527</td>\n",
       "      <td>0.191733</td>\n",
       "      <td>0.529013</td>\n",
       "      <td>0.112828</td>\n",
       "      <td>0.416185</td>\n",
       "      <td>-0.001436</td>\n",
       "      <td>-0.040983</td>\n",
       "      <td>-0.078909</td>\n",
       "      <td>0.332349</td>\n",
       "    </tr>\n",
       "  </tbody>\n",
       "</table>\n",
       "</div>"
      ],
      "text/plain": [
       "            hex_id                                           geometry  \\\n",
       "0  8b49ab4b4251fff  POLYGON ((-103.42699 20.71866, -103.42681 20.7...   \n",
       "1  8b49ab4b4385fff  POLYGON ((-103.42244 20.71412, -103.42227 20.7...   \n",
       "2  8b49ab4aa743fff  POLYGON ((-103.49977 20.79504, -103.49960 20.7...   \n",
       "3  8b49ab4aa702fff  POLYGON ((-103.49636 20.79280, -103.49619 20.7...   \n",
       "4  8b49ab4aa708fff  POLYGON ((-103.49764 20.79364, -103.49747 20.7...   \n",
       "5  8b49ab4aa74afff  POLYGON ((-103.50015 20.79581, -103.49998 20.7...   \n",
       "6  8b49ab4aa7b0fff  POLYGON ((-103.49271 20.79299, -103.49254 20.7...   \n",
       "7  8b49ab4aa664fff  POLYGON ((-103.50011 20.79630, -103.49993 20.7...   \n",
       "8  8b49ab4aa6e8fff  POLYGON ((-103.49754 20.79928, -103.49737 20.7...   \n",
       "9  8b49ab4aa694fff  POLYGON ((-103.49185 20.79709, -103.49168 20.7...   \n",
       "\n",
       "          city  res  temp_diff_mean  ndvi_mean  ndvi_std  ndvi_median  \\\n",
       "0  Guadalajara   11        1.081077   0.315405  0.206241     0.206408   \n",
       "1  Guadalajara   11       -2.591753   0.285744  0.064639     0.313281   \n",
       "2  Guadalajara   11        0.136053   0.108293  0.035416     0.111677   \n",
       "3  Guadalajara   11       -1.300984   0.268614  0.068963     0.271376   \n",
       "4  Guadalajara   11       -1.062029   0.111060  0.034786     0.106208   \n",
       "5  Guadalajara   11       -0.002951   0.146572  0.037804     0.146433   \n",
       "6  Guadalajara   11       -1.636169   0.204211  0.080563     0.187520   \n",
       "7  Guadalajara   11       -0.065898   0.096383  0.031105     0.091949   \n",
       "8  Guadalajara   11       -0.546701   0.067467  0.026864     0.060379   \n",
       "9  Guadalajara   11        1.388195   0.246696  0.155527     0.191733   \n",
       "\n",
       "   ndvi_max  ndvi_min  ndvi_diff  ndvi_tend  ndmi_mean  ndmi_median  ndmi_diff  \n",
       "0  0.711147  0.128978   0.582168  -0.000559  -0.025509    -0.102273   0.468677  \n",
       "1  0.337199  0.195493   0.141706  -0.001637   0.064559     0.059237   0.098502  \n",
       "2  0.149571  0.079000   0.070571  -0.001220  -0.062980    -0.065607   0.088602  \n",
       "3  0.366145  0.154954   0.211191  -0.000958  -0.002400    -0.009385   0.137231  \n",
       "4  0.158824  0.068589   0.090235  -0.000523  -0.069432    -0.076476   0.109003  \n",
       "5  0.193218  0.105053   0.088165  -0.000846  -0.055549    -0.060200   0.081525  \n",
       "6  0.331585  0.109939   0.221645  -0.000789  -0.033656    -0.035459   0.157128  \n",
       "7  0.141176  0.065064   0.076112  -0.000523  -0.077999    -0.082769   0.093228  \n",
       "8  0.101549  0.034327   0.067222  -0.000437  -0.088711    -0.092489   0.094202  \n",
       "9  0.529013  0.112828   0.416185  -0.001436  -0.040983    -0.078909   0.332349  "
      ]
     },
     "execution_count": 7,
     "metadata": {},
     "output_type": "execute_result"
    }
   ],
   "source": [
    "hex_schema = \"raster_analysis\"\n",
    "hex_table = \"temperature_analysis_hex\"\n",
    "hex_tabl = \"ndvi_analysis_hex\"\n",
    "hex_tablee = \"ndmi_analysis_hex\"\n",
    "tempe = \"tempe\"\n",
    "ndmi = \"ndmi\"\n",
    "ndvi = \"ndvi\"\n",
    "hex_id = \"hex_id\"\n",
    "c = 'Guadalajara'\n",
    "n = '11'\n",
    "query = f'SELECT {tempe}.hex_id, {tempe}.geometry, {tempe}.city, {tempe}.res, temp_diff_mean,ndvi_mean, ndvi_std, ndvi_median, ndvi_max, ndvi_min, ndvi_diff, ndvi_tend,ndmi_mean, ndmi_median, ndmi_diff FROM {hex_schema}.{hex_table} {tempe} INNER JOIN {hex_schema}.{hex_tablee} {ndmi} ON {tempe}.{hex_id} = {ndmi}.{hex_id} INNER JOIN {hex_schema}.{hex_tabl} {ndvi} ON {tempe}.{hex_id} = {ndvi}.{hex_id} WHERE {tempe}.\\\"city\\\" = \\'{c}\\' AND {tempe}.\\\"res\\\" = {n}'\n",
    "intt_gdl = aup.gdf_from_query(query, geometry_col='geometry')\n",
    "intt_gdl.head(10)"
   ]
  },
  {
   "cell_type": "code",
   "execution_count": 8,
   "id": "2648d1c4-69b6-4e4d-8955-f4c7545bfa57",
   "metadata": {
    "tags": []
   },
   "outputs": [],
   "source": [
    "int_gdl = intt_gdl.set_crs(\"EPSG:4326\")\n",
    "inter_Gdl = inter_Gdl.set_crs(\"EPSG:4326\")"
   ]
  },
  {
   "cell_type": "code",
   "execution_count": 9,
   "id": "cc9589a7-29b5-4e2c-a6d3-2d43c991e58f",
   "metadata": {
    "tags": []
   },
   "outputs": [
    {
     "name": "stderr",
     "output_type": "stream",
     "text": [
      "/opt/conda/lib/python3.10/site-packages/IPython/core/interactiveshell.py:3445: FutureWarning: The `op` parameter is deprecated and will be removed in a future release. Please use the `predicate` parameter instead.\n",
      "  if await self.run_code(code, result, async_=asy):\n"
     ]
    },
    {
     "data": {
      "text/html": [
       "<div>\n",
       "<style scoped>\n",
       "    .dataframe tbody tr th:only-of-type {\n",
       "        vertical-align: middle;\n",
       "    }\n",
       "\n",
       "    .dataframe tbody tr th {\n",
       "        vertical-align: top;\n",
       "    }\n",
       "\n",
       "    .dataframe thead th {\n",
       "        text-align: right;\n",
       "    }\n",
       "</style>\n",
       "<table border=\"1\" class=\"dataframe\">\n",
       "  <thead>\n",
       "    <tr style=\"text-align: right;\">\n",
       "      <th></th>\n",
       "      <th>hex_id</th>\n",
       "      <th>geometry</th>\n",
       "      <th>temp_diff_mean</th>\n",
       "      <th>ndvi_mean</th>\n",
       "      <th>ndvi_std</th>\n",
       "      <th>ndvi_median</th>\n",
       "      <th>ndvi_max</th>\n",
       "      <th>ndvi_min</th>\n",
       "      <th>ndvi_diff</th>\n",
       "      <th>ndvi_tend</th>\n",
       "      <th>ndmi_mean</th>\n",
       "      <th>ndmi_median</th>\n",
       "      <th>ndmi_diff</th>\n",
       "      <th>hex_id_8</th>\n",
       "      <th>CVEGEO</th>\n",
       "      <th>metropolis</th>\n",
       "      <th>Tipo</th>\n",
       "      <th>EspVerPub</th>\n",
       "    </tr>\n",
       "  </thead>\n",
       "  <tbody>\n",
       "    <tr>\n",
       "      <th>0</th>\n",
       "      <td>8b49ab4b4251fff</td>\n",
       "      <td>POLYGON ((-103.42699 20.71866, -103.42681 20.7...</td>\n",
       "      <td>1.081077</td>\n",
       "      <td>0.315405</td>\n",
       "      <td>0.206241</td>\n",
       "      <td>0.206408</td>\n",
       "      <td>0.711147</td>\n",
       "      <td>0.128978</td>\n",
       "      <td>0.582168</td>\n",
       "      <td>-0.000559</td>\n",
       "      <td>-0.025509</td>\n",
       "      <td>-0.102273</td>\n",
       "      <td>0.468677</td>\n",
       "      <td>8849ab4b43fffff</td>\n",
       "      <td>14120</td>\n",
       "      <td>Guadalajara</td>\n",
       "      <td>Área natural</td>\n",
       "      <td>1</td>\n",
       "    </tr>\n",
       "    <tr>\n",
       "      <th>1</th>\n",
       "      <td>8b49ab4b4385fff</td>\n",
       "      <td>POLYGON ((-103.42244 20.71412, -103.42227 20.7...</td>\n",
       "      <td>-2.591753</td>\n",
       "      <td>0.285744</td>\n",
       "      <td>0.064639</td>\n",
       "      <td>0.313281</td>\n",
       "      <td>0.337199</td>\n",
       "      <td>0.195493</td>\n",
       "      <td>0.141706</td>\n",
       "      <td>-0.001637</td>\n",
       "      <td>0.064559</td>\n",
       "      <td>0.059237</td>\n",
       "      <td>0.098502</td>\n",
       "      <td>8849ab4b43fffff</td>\n",
       "      <td>14120</td>\n",
       "      <td>Guadalajara</td>\n",
       "      <td>Área natural</td>\n",
       "      <td>1</td>\n",
       "    </tr>\n",
       "    <tr>\n",
       "      <th>581</th>\n",
       "      <td>8b49ab4b42d2fff</td>\n",
       "      <td>POLYGON ((-103.42277 20.72003, -103.42259 20.7...</td>\n",
       "      <td>-0.472974</td>\n",
       "      <td>0.225380</td>\n",
       "      <td>0.094409</td>\n",
       "      <td>0.207373</td>\n",
       "      <td>0.329662</td>\n",
       "      <td>0.140749</td>\n",
       "      <td>0.188913</td>\n",
       "      <td>-0.003043</td>\n",
       "      <td>0.003132</td>\n",
       "      <td>-0.016575</td>\n",
       "      <td>0.167898</td>\n",
       "      <td>8849ab4b43fffff</td>\n",
       "      <td>14120</td>\n",
       "      <td>Guadalajara</td>\n",
       "      <td>Área natural</td>\n",
       "      <td>1</td>\n",
       "    </tr>\n",
       "    <tr>\n",
       "      <th>582</th>\n",
       "      <td>8b49ab4b42e8fff</td>\n",
       "      <td>POLYGON ((-103.42599 20.71956, -103.42581 20.7...</td>\n",
       "      <td>0.651997</td>\n",
       "      <td>0.107072</td>\n",
       "      <td>0.034808</td>\n",
       "      <td>0.098299</td>\n",
       "      <td>0.164305</td>\n",
       "      <td>0.065493</td>\n",
       "      <td>0.098813</td>\n",
       "      <td>0.000485</td>\n",
       "      <td>-0.032773</td>\n",
       "      <td>-0.046947</td>\n",
       "      <td>0.169421</td>\n",
       "      <td>8849ab4b43fffff</td>\n",
       "      <td>14120</td>\n",
       "      <td>Guadalajara</td>\n",
       "      <td>Área natural</td>\n",
       "      <td>1</td>\n",
       "    </tr>\n",
       "    <tr>\n",
       "      <th>583</th>\n",
       "      <td>8b49ab4b43a3fff</td>\n",
       "      <td>POLYGON ((-103.42249 20.71363, -103.42232 20.7...</td>\n",
       "      <td>-2.979919</td>\n",
       "      <td>0.498718</td>\n",
       "      <td>0.138231</td>\n",
       "      <td>0.561401</td>\n",
       "      <td>0.601394</td>\n",
       "      <td>0.301217</td>\n",
       "      <td>0.300177</td>\n",
       "      <td>-0.002865</td>\n",
       "      <td>0.150866</td>\n",
       "      <td>0.148261</td>\n",
       "      <td>0.080441</td>\n",
       "      <td>8849ab4b43fffff</td>\n",
       "      <td>14120</td>\n",
       "      <td>Guadalajara</td>\n",
       "      <td>Área natural</td>\n",
       "      <td>1</td>\n",
       "    </tr>\n",
       "  </tbody>\n",
       "</table>\n",
       "</div>"
      ],
      "text/plain": [
       "              hex_id                                           geometry  \\\n",
       "0    8b49ab4b4251fff  POLYGON ((-103.42699 20.71866, -103.42681 20.7...   \n",
       "1    8b49ab4b4385fff  POLYGON ((-103.42244 20.71412, -103.42227 20.7...   \n",
       "581  8b49ab4b42d2fff  POLYGON ((-103.42277 20.72003, -103.42259 20.7...   \n",
       "582  8b49ab4b42e8fff  POLYGON ((-103.42599 20.71956, -103.42581 20.7...   \n",
       "583  8b49ab4b43a3fff  POLYGON ((-103.42249 20.71363, -103.42232 20.7...   \n",
       "\n",
       "     temp_diff_mean  ndvi_mean  ndvi_std  ndvi_median  ndvi_max  ndvi_min  \\\n",
       "0          1.081077   0.315405  0.206241     0.206408  0.711147  0.128978   \n",
       "1         -2.591753   0.285744  0.064639     0.313281  0.337199  0.195493   \n",
       "581       -0.472974   0.225380  0.094409     0.207373  0.329662  0.140749   \n",
       "582        0.651997   0.107072  0.034808     0.098299  0.164305  0.065493   \n",
       "583       -2.979919   0.498718  0.138231     0.561401  0.601394  0.301217   \n",
       "\n",
       "     ndvi_diff  ndvi_tend  ndmi_mean  ndmi_median  ndmi_diff         hex_id_8  \\\n",
       "0     0.582168  -0.000559  -0.025509    -0.102273   0.468677  8849ab4b43fffff   \n",
       "1     0.141706  -0.001637   0.064559     0.059237   0.098502  8849ab4b43fffff   \n",
       "581   0.188913  -0.003043   0.003132    -0.016575   0.167898  8849ab4b43fffff   \n",
       "582   0.098813   0.000485  -0.032773    -0.046947   0.169421  8849ab4b43fffff   \n",
       "583   0.300177  -0.002865   0.150866     0.148261   0.080441  8849ab4b43fffff   \n",
       "\n",
       "    CVEGEO   metropolis          Tipo  EspVerPub  \n",
       "0    14120  Guadalajara  Área natural          1  \n",
       "1    14120  Guadalajara  Área natural          1  \n",
       "581  14120  Guadalajara  Área natural          1  \n",
       "582  14120  Guadalajara  Área natural          1  \n",
       "583  14120  Guadalajara  Área natural          1  "
      ]
     },
     "execution_count": 9,
     "metadata": {},
     "output_type": "execute_result"
    }
   ],
   "source": [
    "inter = gpd.sjoin(int_gdl, inter_Gdl, op='intersects')\n",
    "inter.drop(columns=['index_right','city','res'], inplace=True)\n",
    "inter.head()"
   ]
  },
  {
   "cell_type": "code",
   "execution_count": 12,
   "id": "ee580446-e3f9-4ae0-a300-f09ce604dd34",
   "metadata": {
    "tags": []
   },
   "outputs": [
    {
     "data": {
      "text/plain": [
       "(3930168, 18)"
      ]
     },
     "execution_count": 12,
     "metadata": {},
     "output_type": "execute_result"
    }
   ],
   "source": [
    "inter.shape"
   ]
  },
  {
   "cell_type": "code",
   "execution_count": 15,
   "id": "4bb11339-b91f-4886-bfab-21d20faa18fb",
   "metadata": {
    "tags": []
   },
   "outputs": [
    {
     "data": {
      "text/plain": [
       "hex_id            0\n",
       "geometry          0\n",
       "temp_diff_mean    0\n",
       "ndvi_mean         0\n",
       "ndvi_std          0\n",
       "ndvi_median       0\n",
       "ndvi_max          0\n",
       "ndvi_min          0\n",
       "ndvi_diff         0\n",
       "ndvi_tend         0\n",
       "ndmi_mean         0\n",
       "ndmi_median       0\n",
       "ndmi_diff         0\n",
       "hex_id_8          0\n",
       "CVEGEO            0\n",
       "metropolis        0\n",
       "Tipo              0\n",
       "EspVerPub         0\n",
       "dtype: int64"
      ]
     },
     "execution_count": 15,
     "metadata": {},
     "output_type": "execute_result"
    }
   ],
   "source": [
    "pd.isna(inter).sum()"
   ]
  },
  {
   "cell_type": "markdown",
   "id": "dac6ee08-1697-4ab1-92af-8a32a5e54cee",
   "metadata": {},
   "source": [
    "# Métodos de Clasificación"
   ]
  },
  {
   "cell_type": "markdown",
   "id": "43a9b5bd-5750-4d75-867d-cec184e8a70b",
   "metadata": {},
   "source": [
    "## Regresión Logística"
   ]
  },
  {
   "cell_type": "code",
   "execution_count": 16,
   "id": "50a3e37c-cfc3-496e-aa99-e501885c2026",
   "metadata": {
    "tags": []
   },
   "outputs": [],
   "source": [
    "y = inter['EspVerPub']\n",
    "x = inter[['temp_diff_mean', 'ndmi_median', 'ndmi_mean', 'ndmi_diff', 'ndvi_tend','ndvi_diff','ndvi_min','ndvi_max','ndvi_median','ndvi_std','ndvi_mean']]\n",
    "x_train, x_test, y_train, y_test = train_test_split(x,y, test_size = 0.2, random_state = 42)\n",
    "scaler = StandardScaler()\n",
    "x_train_scale = scaler.fit_transform(x_train)\n",
    "x_test_scale = scaler.fit_transform(x_test)"
   ]
  },
  {
   "cell_type": "code",
   "execution_count": 17,
   "id": "a126165c-724b-4bee-8f65-e74e0d8776eb",
   "metadata": {
    "tags": []
   },
   "outputs": [
    {
     "data": {
      "image/png": "[encoded data removed]",
      "text/plain": [
       "<Figure size 1000x700 with 2 Axes>"
      ]
     },
     "metadata": {},
     "output_type": "display_data"
    }
   ],
   "source": [
    "clf = LogisticRegression()\n",
    "clf.fit(x_train_scale, y_train)\n",
    "y_pred = clf.predict(x_test_scale)\n",
    "cm = confusion_matrix(y_test,y_pred)\n",
    "class_labels = ['Espacio Verde Público', 'No Espacio Verde Público']\n",
    "plt.figure(figsize = (10,7))\n",
    "sns.heatmap(cm, annot = True, fmt = \"g\", cmap=\"Blues\", xticklabels=class_labels, yticklabels=class_labels)\n",
    "plt.xlabel('Predicted', fontsize = 12, fontweight  = 'bold')\n",
    "plt.ylabel('Actual', fontsize = 12, fontweight  = 'bold')\n",
    "plt.title('Matriz de Confusión', fontsize = 15, fontweight = 'bold')\n",
    "plt.show()"
   ]
  },
  {
   "cell_type": "code",
   "execution_count": 18,
   "id": "d2395956-dac8-44ee-8a55-992548f65a05",
   "metadata": {
    "tags": []
   },
   "outputs": [
    {
     "data": {
      "text/plain": [
       "0.6036"
      ]
     },
     "execution_count": 18,
     "metadata": {},
     "output_type": "execute_result"
    }
   ],
   "source": [
    "round(accuracy_score(y_test, y_pred), 4)"
   ]
  },
  {
   "cell_type": "markdown",
   "id": "b2e31a75-fff1-44ce-8e24-47652c854f09",
   "metadata": {},
   "source": [
    "## Naive Bayes"
   ]
  },
  {
   "cell_type": "code",
   "execution_count": 1,
   "id": "a59c3f41-ccaf-4dd8-9243-ceecdb30147a",
   "metadata": {
    "tags": []
   },
   "outputs": [
    {
     "ename": "NameError",
     "evalue": "name 'GaussianNB' is not defined",
     "output_type": "error",
     "traceback": [
      "\u001b[0;31m---------------------------------------------------------------------------\u001b[0m",
      "\u001b[0;31mNameError\u001b[0m                                 Traceback (most recent call last)",
      "Cell \u001b[0;32mIn[1], line 1\u001b[0m\n\u001b[0;32m----> 1\u001b[0m nb \u001b[38;5;241m=\u001b[39m \u001b[43mGaussianNB\u001b[49m()\n\u001b[1;32m      2\u001b[0m nb\u001b[38;5;241m.\u001b[39mfit(x_train, y_train)\n",
      "\u001b[0;31mNameError\u001b[0m: name 'GaussianNB' is not defined"
     ]
    }
   ],
   "source": [
    "nb = GaussianNB()\n",
    "nb.fit(x_train, y_train)"
   ]
  },
  {
   "cell_type": "code",
   "execution_count": 20,
   "id": "075a4ed3-9e97-46da-a6cd-11e03b5b657f",
   "metadata": {
    "tags": []
   },
   "outputs": [
    {
     "data": {
      "image/png": "[encoded data removed]",
      "text/plain": [
       "<Figure size 1000x700 with 2 Axes>"
      ]
     },
     "metadata": {},
     "output_type": "display_data"
    }
   ],
   "source": [
    "y_prend = nb.predict(x_test)\n",
    "cm = confusion_matrix(y_test, y_prend)\n",
    "class_labels = ['Espacio Verde Público', 'No Espacio Verde Público']\n",
    "plt.figure(figsize = (10,7))\n",
    "sns.heatmap(cm, annot = True, fmt = \"g\", cmap=\"Reds\", xticklabels=class_labels, yticklabels=class_labels)\n",
    "plt.xlabel('Predicted', fontsize = 12, fontweight  = 'bold')\n",
    "plt.ylabel('Actual', fontsize = 12, fontweight  = 'bold')\n",
    "plt.title('Matriz de Confusión', fontsize = 15, fontweight = 'bold')\n",
    "plt.show()"
   ]
  },
  {
   "cell_type": "code",
   "execution_count": 21,
   "id": "0ff2f0d7-41b9-4362-8135-7cfc15e54e5b",
   "metadata": {
    "tags": []
   },
   "outputs": [
    {
     "name": "stdout",
     "output_type": "stream",
     "text": [
      "Accuracy: 0.5701330985682553\n"
     ]
    }
   ],
   "source": [
    "accuracy = accuracy_score(y_test, y_prend)\n",
    "print(f'Accuracy: {accuracy}')"
   ]
  },
  {
   "cell_type": "markdown",
   "id": "54a5eeb1-1fcd-40e9-82f2-b3dcaabb5cd5",
   "metadata": {
    "tags": []
   },
   "source": [
    "Sigue siendo mucho Espacio Verde Público porque lo más seguro es que tenemos muchos hexágonos con espacio público presente y tenemos muy pocos hexágonos con espacio público no presente. Entonces ahora se intentará hacer un submuestreo para ver si ese es el problema.\n",
    "\n",
    "## Submuestreo"
   ]
  },
  {
   "cell_type": "code",
   "execution_count": 10,
   "id": "2e97efab-9a39-434c-9c6e-221f1fadf072",
   "metadata": {
    "tags": []
   },
   "outputs": [
    {
     "name": "stdout",
     "output_type": "stream",
     "text": [
      "\n",
      "La clase 1 tiene 1914977 observaciones\n",
      "\n",
      "La clase 2 tiene 2015191 observaciones\n"
     ]
    }
   ],
   "source": [
    "y = inter['EspVerPub']\n",
    "x = inter[['temp_diff_mean', 'ndmi_median', 'ndmi_mean', 'ndmi_diff', 'ndvi_tend','ndvi_diff','ndvi_min','ndvi_max','ndvi_median','ndvi_std','ndvi_mean']]\n",
    "clase2=0\n",
    "clase3=0\n",
    "\n",
    "for i in y:\n",
    "  if i==1:\n",
    "    clase2+=1\n",
    "  elif i == 0:\n",
    "    clase3+=1\n",
    "\n",
    "print(f\"\\nLa clase 1 tiene {clase2} observaciones\")\n",
    "print(f\"\\nLa clase 2 tiene {clase3} observaciones\")"
   ]
  },
  {
   "cell_type": "code",
   "execution_count": 11,
   "id": "665d32b5-ba1e-4b0c-9cba-771ca447298e",
   "metadata": {
    "tags": []
   },
   "outputs": [],
   "source": [
    "rus = RandomUnderSampler(sampling_strategy=\"majority\")"
   ]
  },
  {
   "cell_type": "code",
   "execution_count": 12,
   "id": "82918b2e-d80e-4ad5-ad33-62d6e857a096",
   "metadata": {
    "tags": []
   },
   "outputs": [],
   "source": [
    "xL, yL = rus.fit_resample(x, y)"
   ]
  },
  {
   "cell_type": "code",
   "execution_count": 13,
   "id": "52ff2bcb-d430-473f-9c06-0c5e2dfe7cfe",
   "metadata": {
    "tags": []
   },
   "outputs": [
    {
     "name": "stdout",
     "output_type": "stream",
     "text": [
      "\n",
      "La clase 1 tiene 1914977 observaciones\n",
      "\n",
      "La clase 2 tiene 1914977 observaciones\n"
     ]
    }
   ],
   "source": [
    "clase2=0\n",
    "clase3=0\n",
    "\n",
    "for i in yL:\n",
    "  if i==1:\n",
    "    clase2+=1\n",
    "  elif i == 0:\n",
    "    clase3+=1\n",
    "\n",
    "print(f\"\\nLa clase 1 tiene {clase2} observaciones\")\n",
    "print(f\"\\nLa clase 2 tiene {clase3} observaciones\")"
   ]
  },
  {
   "cell_type": "markdown",
   "id": "0f4d096c-eff8-4ea5-b34a-d8bbf75e20f2",
   "metadata": {},
   "source": [
    "Ya que tenemos la misma cantidad de observaciones, veremos como se comportan los métodos de clasificación"
   ]
  },
  {
   "cell_type": "markdown",
   "id": "c9ef5af2-7f6e-4662-9b28-14d4977b73f8",
   "metadata": {},
   "source": [
    "## Métodos de clasificación"
   ]
  },
  {
   "cell_type": "markdown",
   "id": "7a729009-f6a7-4704-87a3-31b5ce08f3d7",
   "metadata": {},
   "source": [
    "### Regresión Logística"
   ]
  },
  {
   "cell_type": "code",
   "execution_count": null,
   "id": "60fbbfb4-9b69-458e-aa8b-9719e6873974",
   "metadata": {
    "tags": []
   },
   "outputs": [],
   "source": [
    "x_train, x_test, y_train, y_test = train_test_split(xL,yL, test_size = 0.2, random_state = 42)\n",
    "scaler = StandardScaler()\n",
    "x_train_scale = scaler.fit_transform(x_train)\n",
    "x_test_scale = scaler.fit_transform(x_test)"
   ]
  },
  {
   "cell_type": "code",
   "execution_count": null,
   "id": "5691d225-2897-4de7-932e-0f1634cf9db2",
   "metadata": {},
   "outputs": [],
   "source": [
    "clf = LogisticRegression()\n",
    "clf.fit(x_train_scale, y_train)\n",
    "y_pred = clf.predict(x_test_scale)\n",
    "cm = confusion_matrix(y_test,y_pred)\n",
    "class_labels = ['Espacio Verde Público', 'No Espacio Verde Público']\n",
    "plt.figure(figsize = (10,7))\n",
    "sns.heatmap(cm, annot = True, fmt = \"g\", cmap=\"Blues\", xticklabels=class_labels, yticklabels=class_labels)\n",
    "plt.xlabel('Predicted', fontsize = 12, fontweight  = 'bold')\n",
    "plt.ylabel('Actual', fontsize = 12, fontweight  = 'bold')\n",
    "plt.title('Matriz de Confusión', fontsize = 15, fontweight = 'bold')\n",
    "plt.show()"
   ]
  },
  {
   "cell_type": "code",
   "execution_count": null,
   "id": "2acdbf98-f546-4322-8739-dbca7eee91f3",
   "metadata": {},
   "outputs": [],
   "source": [
    "round(accuracy_score(y_test, y_pred), 4)"
   ]
  },
  {
   "cell_type": "markdown",
   "id": "cf247bb0-1714-4e77-ad35-3fa1d09aaa9e",
   "metadata": {},
   "source": [
    "### Naive Bayes"
   ]
  },
  {
   "cell_type": "code",
   "execution_count": null,
   "id": "541a200d-fca5-40d2-afa0-86f60df27079",
   "metadata": {},
   "outputs": [],
   "source": [
    "nb = GaussianNB()\n",
    "nb.fit(x_train, y_train)"
   ]
  },
  {
   "cell_type": "code",
   "execution_count": null,
   "id": "2421e356-8c2f-4d76-b6b5-2f17e0e5c002",
   "metadata": {},
   "outputs": [],
   "source": [
    "y_prend = nb.predict(x_test)\n",
    "cm = confusion_matrix(y_test, y_prend)\n",
    "class_labels = ['Espacio Verde Público', 'No Espacio Verde Público']\n",
    "plt.figure(figsize = (10,7))\n",
    "sns.heatmap(cm, annot = True, fmt = \"g\", cmap=\"Reds\", xticklabels=class_labels, yticklabels=class_labels)\n",
    "plt.xlabel('Predicted', fontsize = 12, fontweight  = 'bold')\n",
    "plt.ylabel('Actual', fontsize = 12, fontweight  = 'bold')\n",
    "plt.title('Matriz de Confusión', fontsize = 15, fontweight = 'bold')\n",
    "plt.show()"
   ]
  },
  {
   "cell_type": "code",
   "execution_count": null,
   "id": "b428271e-cfdb-4bba-ba60-55ec96a20027",
   "metadata": {},
   "outputs": [],
   "source": [
    "accuracy = accuracy_score(y_test, y_prend)\n",
    "print(f'Accuracy: {accuracy}')"
   ]
  }
 ],
 "metadata": {
  "kernelspec": {
   "display_name": "Python 3 (ipykernel)",
   "language": "python",
   "name": "python3"
  },
  "language_info": {
   "codemirror_mode": {
    "name": "ipython",
    "version": 3
   },
   "file_extension": ".py",
   "mimetype": "text/x-python",
   "name": "python",
   "nbconvert_exporter": "python",
   "pygments_lexer": "ipython3",
   "version": "3.10.10"
  }
 },
 "nbformat": 4,
 "nbformat_minor": 5
}
