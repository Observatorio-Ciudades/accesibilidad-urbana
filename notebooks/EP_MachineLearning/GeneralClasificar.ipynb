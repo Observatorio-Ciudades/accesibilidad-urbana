{
 "cells": [
  {
   "cell_type": "code",
   "execution_count": 1,
   "id": "bef6b770-c818-4ead-ac20-ea54dd33c695",
   "metadata": {
    "tags": []
   },
   "outputs": [],
   "source": [
    "import warnings\n",
    "warnings.filterwarnings('ignore')\n",
    "import geopandas as gpd\n",
    "from geopandas.tools import overlay\n",
    "import matplotlib.pyplot as plt\n",
    "import os \n",
    "import sys\n",
    "module_path = os.path.abspath(os.path.join('../../'))\n",
    "if module_path not in sys.path:\n",
    "    sys.path.append(module_path)\n",
    "    import aup\n",
    "import pandas as pd\n",
    "import numpy as np\n",
    "import seaborn as sns\n",
    "from sklearn.model_selection import train_test_split\n",
    "from sklearn.metrics import accuracy_score, confusion_matrix\n",
    "from sklearn.linear_model import LogisticRegression\n",
    "from sklearn.preprocessing import StandardScaler\n",
    "from sklearn.naive_bayes import GaussianNB\n",
    "from sklearn.ensemble import RandomForestClassifier\n",
    "from sklearn.ensemble import AdaBoostClassifier\n",
    "from sklearn.model_selection import GridSearchCV, RandomizedSearchCV \n",
    "import xgboost as xgb\n",
    "import random\n",
    "from sklearn.model_selection import StratifiedKFold\n",
    "from sklearn.metrics import classification_report, mean_squared_error\n",
    "#import tensorflow as tf\n",
    "#from keras.models import Sequential\n",
    "#from keras.layers import Dense\n",
    "#from tensorflow.keras.utils import to_categorical"
   ]
  },
  {
   "cell_type": "markdown",
   "id": "6a5d586c-a722-4294-aa2a-c5b3bc1bd166",
   "metadata": {},
   "source": [
    "## Espacios Públicos GDL"
   ]
  },
  {
   "cell_type": "code",
   "execution_count": 2,
   "id": "7b88570c-a2d2-4f0a-8f20-9737d5478326",
   "metadata": {
    "tags": []
   },
   "outputs": [],
   "source": [
    "schema = 'espacios_publicos'\n",
    "table = 'ep_amg'\n",
    "gdf_gdl = aup.gdf_from_db(table,schema)"
   ]
  },
  {
   "cell_type": "code",
   "execution_count": 3,
   "id": "daadce42-f298-494a-bd91-be6ff09ac1a6",
   "metadata": {
    "tags": []
   },
   "outputs": [
    {
     "data": {
      "text/plain": [
       "(8499, 4)"
      ]
     },
     "execution_count": 3,
     "metadata": {},
     "output_type": "execute_result"
    }
   ],
   "source": [
    "gdf_gdl.shape"
   ]
  },
  {
   "cell_type": "markdown",
   "id": "26bfcc14-3e4a-4914-aaa9-64ad81ef330e",
   "metadata": {},
   "source": [
    "## Espacios Públicos QRO"
   ]
  },
  {
   "cell_type": "code",
   "execution_count": 4,
   "id": "df4e414b-92c1-413a-b2d7-783c1bef4769",
   "metadata": {
    "tags": []
   },
   "outputs": [],
   "source": [
    "schema = 'espacios_publicos'\n",
    "table = 'ep_qro'\n",
    "gdf_qro = aup.gdf_from_db(table,schema)"
   ]
  },
  {
   "cell_type": "code",
   "execution_count": 5,
   "id": "84992b95-4cc5-433b-aac5-a3493db2139c",
   "metadata": {
    "tags": []
   },
   "outputs": [
    {
     "data": {
      "text/plain": [
       "(4814, 9)"
      ]
     },
     "execution_count": 5,
     "metadata": {},
     "output_type": "execute_result"
    }
   ],
   "source": [
    "gdf_qro.shape"
   ]
  },
  {
   "cell_type": "markdown",
   "id": "144e61b7-39b5-41a6-bb2d-6531536032f0",
   "metadata": {},
   "source": [
    "## Espacios Públicos CDMX"
   ]
  },
  {
   "cell_type": "code",
   "execution_count": 6,
   "id": "a836a631-c955-46bb-ae66-358ca29ae429",
   "metadata": {
    "tags": []
   },
   "outputs": [],
   "source": [
    "schema = 'espacios_publicos'\n",
    "table = 'ep_cdmx'\n",
    "gdf_cdmx = aup.gdf_from_db(table,schema)"
   ]
  },
  {
   "cell_type": "code",
   "execution_count": 7,
   "id": "81fea502-c841-4982-87df-5cb543a11588",
   "metadata": {
    "tags": []
   },
   "outputs": [
    {
     "data": {
      "text/plain": [
       "(11609, 13)"
      ]
     },
     "execution_count": 7,
     "metadata": {},
     "output_type": "execute_result"
    }
   ],
   "source": [
    "gdf_cdmx.shape"
   ]
  },
  {
   "cell_type": "markdown",
   "id": "2af8bf44-be26-43ac-972f-063f6bf11c9e",
   "metadata": {},
   "source": [
    "## Juntamos en un dataset"
   ]
  },
  {
   "cell_type": "code",
   "execution_count": 8,
   "id": "ffa003bc-73dc-4fe4-b78e-4856fc930e10",
   "metadata": {
    "tags": []
   },
   "outputs": [
    {
     "name": "stdout",
     "output_type": "stream",
     "text": [
      "CRS of gdf_gdl: EPSG:4326\n",
      "CRS of gdf_qro: EPSG:4326\n",
      "CRS of gdf_cdmx: EPSG:4326\n"
     ]
    }
   ],
   "source": [
    "gdf_gdl = gdf_gdl.set_crs(\"EPSG:4326\", allow_override=True)\n",
    "gdf_qro = gdf_qro.set_crs(\"EPSG:4326\", allow_override=True)\n",
    "gdf_cdmx = gdf_cdmx.set_crs(\"EPSG:4326\", allow_override=True)\n",
    "print(\"CRS of gdf_gdl:\", gdf_gdl.crs)\n",
    "print(\"CRS of gdf_qro:\", gdf_qro.crs)\n",
    "print(\"CRS of gdf_cdmx:\", gdf_cdmx.crs)"
   ]
  },
  {
   "cell_type": "code",
   "execution_count": 9,
   "id": "2002dc6c-2339-47d9-8034-efd4df6bf8b7",
   "metadata": {
    "tags": []
   },
   "outputs": [
    {
     "data": {
      "text/plain": [
       "0    POLYGON ((672507.02800 2272132.20130, 672520.1...\n",
       "1    POLYGON ((672520.12560 2272170.35300, 672507.0...\n",
       "2    POLYGON ((672494.32530 2272095.20510, 672480.3...\n",
       "3    POLYGON ((672480.36630 2272060.73140, 672494.3...\n",
       "4    POLYGON ((672468.71720 2272020.61270, 672456.8...\n",
       "Name: geometry, dtype: geometry"
      ]
     },
     "execution_count": 9,
     "metadata": {},
     "output_type": "execute_result"
    }
   ],
   "source": [
    "geodataframes = [gdf_gdl, gdf_qro, gdf_cdmx]\n",
    "gdf = pd.concat(geodataframes)\n",
    "gdf = gdf['geometry']\n",
    "gdf.head()"
   ]
  },
  {
   "cell_type": "code",
   "execution_count": 10,
   "id": "3cf12680-630f-47bb-90b4-ca745cfbb0ac",
   "metadata": {
    "tags": []
   },
   "outputs": [
    {
     "data": {
      "text/plain": [
       "(24922,)"
      ]
     },
     "execution_count": 10,
     "metadata": {},
     "output_type": "execute_result"
    }
   ],
   "source": [
    "gdf.shape"
   ]
  },
  {
   "cell_type": "markdown",
   "id": "18b2c229-a7a2-42c0-b6e2-129a883521fc",
   "metadata": {},
   "source": [
    "## Hexágonos 3 ciudades"
   ]
  },
  {
   "cell_type": "code",
   "execution_count": 11,
   "id": "d899749c-a8ef-4e8d-ae39-d086a93e99f6",
   "metadata": {
    "tags": []
   },
   "outputs": [
    {
     "data": {
      "text/html": [
       "<div>\n",
       "<style scoped>\n",
       "    .dataframe tbody tr th:only-of-type {\n",
       "        vertical-align: middle;\n",
       "    }\n",
       "\n",
       "    .dataframe tbody tr th {\n",
       "        vertical-align: top;\n",
       "    }\n",
       "\n",
       "    .dataframe thead th {\n",
       "        text-align: right;\n",
       "    }\n",
       "</style>\n",
       "<table border=\"1\" class=\"dataframe\">\n",
       "  <thead>\n",
       "    <tr style=\"text-align: right;\">\n",
       "      <th></th>\n",
       "      <th>hex_id</th>\n",
       "      <th>geometry</th>\n",
       "      <th>city</th>\n",
       "    </tr>\n",
       "  </thead>\n",
       "  <tbody>\n",
       "    <tr>\n",
       "      <th>0</th>\n",
       "      <td>8b4995b804ecfff</td>\n",
       "      <td>POLYGON ((-99.13393 19.45982, -99.13375 19.460...</td>\n",
       "      <td>CDMX</td>\n",
       "    </tr>\n",
       "    <tr>\n",
       "      <th>1</th>\n",
       "      <td>8b4995b84845fff</td>\n",
       "      <td>POLYGON ((-99.15293 19.42654, -99.15275 19.426...</td>\n",
       "      <td>CDMX</td>\n",
       "    </tr>\n",
       "    <tr>\n",
       "      <th>2</th>\n",
       "      <td>8b4995b80571fff</td>\n",
       "      <td>POLYGON ((-99.13590 19.45491, -99.13573 19.455...</td>\n",
       "      <td>CDMX</td>\n",
       "    </tr>\n",
       "    <tr>\n",
       "      <th>3</th>\n",
       "      <td>8b4995b80562fff</td>\n",
       "      <td>POLYGON ((-99.13637 19.45472, -99.13620 19.454...</td>\n",
       "      <td>CDMX</td>\n",
       "    </tr>\n",
       "    <tr>\n",
       "      <th>4</th>\n",
       "      <td>8b4995ba06cbfff</td>\n",
       "      <td>POLYGON ((-99.16759 19.41276, -99.16741 19.412...</td>\n",
       "      <td>CDMX</td>\n",
       "    </tr>\n",
       "  </tbody>\n",
       "</table>\n",
       "</div>"
      ],
      "text/plain": [
       "            hex_id                                           geometry  city\n",
       "0  8b4995b804ecfff  POLYGON ((-99.13393 19.45982, -99.13375 19.460...  CDMX\n",
       "1  8b4995b84845fff  POLYGON ((-99.15293 19.42654, -99.15275 19.426...  CDMX\n",
       "2  8b4995b80571fff  POLYGON ((-99.13590 19.45491, -99.13573 19.455...  CDMX\n",
       "3  8b4995b80562fff  POLYGON ((-99.13637 19.45472, -99.13620 19.454...  CDMX\n",
       "4  8b4995ba06cbfff  POLYGON ((-99.16759 19.41276, -99.16741 19.412...  CDMX"
      ]
     },
     "execution_count": 11,
     "metadata": {},
     "output_type": "execute_result"
    }
   ],
   "source": [
    "hex_schema = \"raster_analysis\"\n",
    "hex_table = \"ndvi_analysis_hex\"\n",
    "hex_table_tempt = \"temperature_analysis_hex\"\n",
    "hex_schema_pob = \"hexgrid\"\n",
    "hex_table_pob = \"hexgrid_9_city_2020\"\n",
    "c1 = 'Guadalajara'\n",
    "c2 ='CDMX'\n",
    "#c3 = 'Querétaro'\n",
    "n = '11'\n",
    "query = f\"\"\"\n",
    "SELECT h1.hex_id, h1.geometry, h1.city \n",
    "FROM {hex_schema}.{hex_table} h1\n",
    "JOIN {hex_schema}.{hex_table_tempt} h2\n",
    "ON h1.hex_id = h2.hex_id\n",
    "WHERE h1.city IN ('{c1}', '{c2}') AND h1.res = {n}\n",
    "\"\"\"\n",
    "hex_gdl = aup.gdf_from_query(query, geometry_col='geometry')\n",
    "#query = 'fSelect geometry, hex_id, city from raster_analysis.ndvi_analysis where city = guadalajara and res = 11'\n",
    "hex_gdl.head(5)"
   ]
  },
  {
   "cell_type": "code",
   "execution_count": 12,
   "id": "3f5f9a06-f55a-45d1-b6c5-7c416063f679",
   "metadata": {
    "tags": []
   },
   "outputs": [
    {
     "data": {
      "text/plain": [
       "(807653, 3)"
      ]
     },
     "execution_count": 12,
     "metadata": {},
     "output_type": "execute_result"
    }
   ],
   "source": [
    "hex_gdl.shape"
   ]
  },
  {
   "cell_type": "code",
   "execution_count": 13,
   "id": "5ef47c4e-217c-449d-b2f0-49eca659ef3d",
   "metadata": {
    "tags": []
   },
   "outputs": [
    {
     "data": {
      "text/plain": [
       "array(['CDMX', 'Guadalajara'], dtype=object)"
      ]
     },
     "execution_count": 13,
     "metadata": {},
     "output_type": "execute_result"
    }
   ],
   "source": [
    "hex_gdl['city'].unique()"
   ]
  },
  {
   "cell_type": "code",
   "execution_count": 14,
   "id": "000fa599-c8e2-4c9a-92b8-b5ec9c6048fc",
   "metadata": {
    "tags": []
   },
   "outputs": [
    {
     "name": "stdout",
     "output_type": "stream",
     "text": [
      "Número de hexágonos Gdl: 445881 \n",
      "Número de hexágonos Cdmx: 361772\n"
     ]
    }
   ],
   "source": [
    "contador_gdll = np.sum(hex_gdl['city'] == 'Guadalajara')\n",
    "contador_cdmxx = np.sum(hex_gdl['city'] == 'CDMX')\n",
    "#contador_qroo = np.sum(hex_gdl['city'] == 'Queretaro')\n",
    "print(f'Número de hexágonos Gdl: {contador_gdll} \\nNúmero de hexágonos Cdmx: {contador_cdmxx}')"
   ]
  },
  {
   "cell_type": "code",
   "execution_count": 15,
   "id": "8e72a749-e7dc-49d9-a869-c649f1a0464d",
   "metadata": {
    "tags": []
   },
   "outputs": [
    {
     "name": "stdout",
     "output_type": "stream",
     "text": [
      "CRS of gdf_gdl: EPSG:4326\n"
     ]
    }
   ],
   "source": [
    "hex_gdl = hex_gdl.set_crs(\"EPSG:4326\", allow_override=True)\n",
    "print(\"CRS of gdf_gdl:\", gdf_gdl.crs)"
   ]
  },
  {
   "cell_type": "code",
   "execution_count": 16,
   "id": "0fd04df3-c9fc-4d75-90e1-93289546febc",
   "metadata": {
    "tags": []
   },
   "outputs": [
    {
     "data": {
      "text/html": [
       "<div>\n",
       "<style scoped>\n",
       "    .dataframe tbody tr th:only-of-type {\n",
       "        vertical-align: middle;\n",
       "    }\n",
       "\n",
       "    .dataframe tbody tr th {\n",
       "        vertical-align: top;\n",
       "    }\n",
       "\n",
       "    .dataframe thead th {\n",
       "        text-align: right;\n",
       "    }\n",
       "</style>\n",
       "<table border=\"1\" class=\"dataframe\">\n",
       "  <thead>\n",
       "    <tr style=\"text-align: right;\">\n",
       "      <th></th>\n",
       "      <th>hex_id</th>\n",
       "      <th>geometry</th>\n",
       "      <th>city</th>\n",
       "    </tr>\n",
       "  </thead>\n",
       "  <tbody>\n",
       "    <tr>\n",
       "      <th>0</th>\n",
       "      <td>8b498c92e989fff</td>\n",
       "      <td>POLYGON ((-103.21317 20.56265, -103.21299 20.5...</td>\n",
       "      <td>Guadalajara</td>\n",
       "    </tr>\n",
       "    <tr>\n",
       "      <th>1</th>\n",
       "      <td>8b49aa2dd2ebfff</td>\n",
       "      <td>POLYGON ((-103.32879 20.57985, -103.32862 20.5...</td>\n",
       "      <td>Guadalajara</td>\n",
       "    </tr>\n",
       "    <tr>\n",
       "      <th>2</th>\n",
       "      <td>8b49ab59598efff</td>\n",
       "      <td>POLYGON ((-103.43018 20.60413, -103.43000 20.6...</td>\n",
       "      <td>Guadalajara</td>\n",
       "    </tr>\n",
       "    <tr>\n",
       "      <th>3</th>\n",
       "      <td>8b498c968ad8fff</td>\n",
       "      <td>POLYGON ((-103.38631 20.68514, -103.38613 20.6...</td>\n",
       "      <td>Guadalajara</td>\n",
       "    </tr>\n",
       "    <tr>\n",
       "      <th>4</th>\n",
       "      <td>8b498c950a5efff</td>\n",
       "      <td>POLYGON ((-103.25456 20.69632, -103.25439 20.6...</td>\n",
       "      <td>Guadalajara</td>\n",
       "    </tr>\n",
       "  </tbody>\n",
       "</table>\n",
       "</div>"
      ],
      "text/plain": [
       "            hex_id                                           geometry  \\\n",
       "0  8b498c92e989fff  POLYGON ((-103.21317 20.56265, -103.21299 20.5...   \n",
       "1  8b49aa2dd2ebfff  POLYGON ((-103.32879 20.57985, -103.32862 20.5...   \n",
       "2  8b49ab59598efff  POLYGON ((-103.43018 20.60413, -103.43000 20.6...   \n",
       "3  8b498c968ad8fff  POLYGON ((-103.38631 20.68514, -103.38613 20.6...   \n",
       "4  8b498c950a5efff  POLYGON ((-103.25456 20.69632, -103.25439 20.6...   \n",
       "\n",
       "          city  \n",
       "0  Guadalajara  \n",
       "1  Guadalajara  \n",
       "2  Guadalajara  \n",
       "3  Guadalajara  \n",
       "4  Guadalajara  "
      ]
     },
     "execution_count": 16,
     "metadata": {},
     "output_type": "execute_result"
    }
   ],
   "source": [
    "gdl_samples = 200000\n",
    "cdmx_samples = 150000\n",
    "#qro_samples = 50000\n",
    "\n",
    "# Randomly sample 200,000 hexagons of Guadalajra\n",
    "sample_with_Guadalajara = hex_gdl[hex_gdl['city'] == 'Guadalajara'].sample(n=gdl_samples, random_state=42)\n",
    "\n",
    "# Randomly sample 150,000 hexagons of Cdmx\n",
    "sample_with_Cdmx = hex_gdl[hex_gdl['city'] == 'CDMX'].sample(n=cdmx_samples, random_state=42)\n",
    "\n",
    "# Randomly sample 50,000 hexagons of Queretaro\n",
    "#sample_with_Queretaro = hex_gdl[hex_gdl['city'] == 'Queretaro'].sample(n=qro_samples, random_state=42)\n",
    "\n",
    "# Concatenate the two samples to get the final subsample\n",
    "hex_gdf = pd.concat([sample_with_Guadalajara, sample_with_Cdmx]) #sample_with_Queretaro])\n",
    "hex_gdf.reset_index(drop = True, inplace = True)\n",
    "hex_gdf.head()"
   ]
  },
  {
   "cell_type": "code",
   "execution_count": 17,
   "id": "9b3362ab-8474-49c8-af21-ddc46e78c8ab",
   "metadata": {
    "tags": []
   },
   "outputs": [
    {
     "name": "stdout",
     "output_type": "stream",
     "text": [
      "Número de hexágonos Gdl: 200000 \n",
      "Número de hexágonos Cdmx: 150000\n"
     ]
    }
   ],
   "source": [
    "contador_gdl = np.sum(hex_gdf['city'] == 'Guadalajara')\n",
    "contador_cdmx = np.sum(hex_gdf['city'] == 'CDMX')\n",
    "#contador_qro = np.sum(hex_gdf['city'] == 'Queretaro')\n",
    "print(f'Número de hexágonos Gdl: {contador_gdl} \\nNúmero de hexágonos Cdmx: {contador_cdmx}')"
   ]
  },
  {
   "cell_type": "markdown",
   "id": "c347acec-fbbf-4415-b544-d5b949c8b166",
   "metadata": {},
   "source": [
    "## Dummy Variables\n",
    "1 = Hexágonos que cuentan con espacios públicos\n",
    "\n",
    "0 = Hexágonos que no cuentan con espacios públicos"
   ]
  },
  {
   "cell_type": "code",
   "execution_count": 18,
   "id": "8f5585a3-b644-4d37-989e-5ef4f2223ab8",
   "metadata": {
    "tags": []
   },
   "outputs": [
    {
     "data": {
      "text/html": [
       "<div>\n",
       "<style scoped>\n",
       "    .dataframe tbody tr th:only-of-type {\n",
       "        vertical-align: middle;\n",
       "    }\n",
       "\n",
       "    .dataframe tbody tr th {\n",
       "        vertical-align: top;\n",
       "    }\n",
       "\n",
       "    .dataframe thead th {\n",
       "        text-align: right;\n",
       "    }\n",
       "</style>\n",
       "<table border=\"1\" class=\"dataframe\">\n",
       "  <thead>\n",
       "    <tr style=\"text-align: right;\">\n",
       "      <th></th>\n",
       "      <th>hex_id</th>\n",
       "      <th>geometry</th>\n",
       "      <th>city</th>\n",
       "      <th>EspPublico</th>\n",
       "    </tr>\n",
       "  </thead>\n",
       "  <tbody>\n",
       "    <tr>\n",
       "      <th>0</th>\n",
       "      <td>8b4995b804ecfff</td>\n",
       "      <td>POLYGON ((-99.13393 19.45982, -99.13375 19.460...</td>\n",
       "      <td>CDMX</td>\n",
       "      <td>0</td>\n",
       "    </tr>\n",
       "    <tr>\n",
       "      <th>1</th>\n",
       "      <td>8b4995b84845fff</td>\n",
       "      <td>POLYGON ((-99.15293 19.42654, -99.15275 19.426...</td>\n",
       "      <td>CDMX</td>\n",
       "      <td>0</td>\n",
       "    </tr>\n",
       "    <tr>\n",
       "      <th>2</th>\n",
       "      <td>8b4995b80571fff</td>\n",
       "      <td>POLYGON ((-99.13590 19.45491, -99.13573 19.455...</td>\n",
       "      <td>CDMX</td>\n",
       "      <td>0</td>\n",
       "    </tr>\n",
       "    <tr>\n",
       "      <th>3</th>\n",
       "      <td>8b4995b80562fff</td>\n",
       "      <td>POLYGON ((-99.13637 19.45472, -99.13620 19.454...</td>\n",
       "      <td>CDMX</td>\n",
       "      <td>0</td>\n",
       "    </tr>\n",
       "    <tr>\n",
       "      <th>4</th>\n",
       "      <td>8b4995ba06cbfff</td>\n",
       "      <td>POLYGON ((-99.16759 19.41276, -99.16741 19.412...</td>\n",
       "      <td>CDMX</td>\n",
       "      <td>0</td>\n",
       "    </tr>\n",
       "  </tbody>\n",
       "</table>\n",
       "</div>"
      ],
      "text/plain": [
       "            hex_id                                           geometry  city  \\\n",
       "0  8b4995b804ecfff  POLYGON ((-99.13393 19.45982, -99.13375 19.460...  CDMX   \n",
       "1  8b4995b84845fff  POLYGON ((-99.15293 19.42654, -99.15275 19.426...  CDMX   \n",
       "2  8b4995b80571fff  POLYGON ((-99.13590 19.45491, -99.13573 19.455...  CDMX   \n",
       "3  8b4995b80562fff  POLYGON ((-99.13637 19.45472, -99.13620 19.454...  CDMX   \n",
       "4  8b4995ba06cbfff  POLYGON ((-99.16759 19.41276, -99.16741 19.412...  CDMX   \n",
       "\n",
       "   EspPublico  \n",
       "0           0  \n",
       "1           0  \n",
       "2           0  \n",
       "3           0  \n",
       "4           0  "
      ]
     },
     "execution_count": 18,
     "metadata": {},
     "output_type": "execute_result"
    }
   ],
   "source": [
    "gdf_sindex = gdf.sindex\n",
    "\n",
    "# Create a Series of boolean values indicating which hexagons intersect with public spaces\n",
    "intersects_public_spaces = hex_gdl['geometry'].apply(lambda geom: any(gdf_sindex.query(geom)))\n",
    "\n",
    "hex_gdl['EspPublico'] = intersects_public_spaces.astype(int)\n",
    "hex_gdl.head()"
   ]
  },
  {
   "cell_type": "code",
   "execution_count": 19,
   "id": "ea63f68e-8d36-43f8-92cd-6a01c15e00b8",
   "metadata": {
    "tags": []
   },
   "outputs": [
    {
     "name": "stdout",
     "output_type": "stream",
     "text": [
      "Números de hexagonos sin Espacios Públicos: 708008 \n",
      "Número de Hexágonos con Espacios Públicos: 99645\n",
      "Número total de Hexágonos: 807653\n"
     ]
    }
   ],
   "source": [
    "contador_ceros = np.sum(hex_gdl['EspPublico'] == 0)\n",
    "contador_uno = np.sum(hex_gdl['EspPublico'])\n",
    "print(f'Números de hexagonos sin Espacios Públicos: {contador_ceros} \\nNúmero de Hexágonos con Espacios Públicos: {contador_uno}\\nNúmero total de Hexágonos: {contador_ceros+contador_uno}')"
   ]
  },
  {
   "cell_type": "markdown",
   "id": "c3b45893-f0bb-40ae-8ebd-be922b141c4b",
   "metadata": {},
   "source": [
    "## Hexágonos con info de humedad, vegetación y temperatura"
   ]
  },
  {
   "cell_type": "markdown",
   "id": "c0329ea8-64c4-4590-9eb5-cda13ef58fec",
   "metadata": {},
   "source": [
    "select {ndmi}.hex_id, {ndmi}.geometry, {ndmi}.city, {ndmi}.res,\n",
    "\n",
    "ndvi_mean, ndvi_std, ndvi_median, ndvi_max, ndvi_min, ndvi_diff, ndvi_tend,\n",
    "\n",
    "ndmi_mean, ndmi_median, ndmi_diff\n",
    "\n",
    "from raster_analysis.ndmi_analysis_hex ndmi\n",
    "\n",
    "inner join raster_analysis.ndvi_analysis_hex ndvi\n",
    "\n",
    "on ndmi.hex_id = ndvi.hex_id \n",
    "\n",
    "where ndmi.city  in ('Queretaro','Guadalajara','ZMVM') and ndmi.res = 11"
   ]
  },
  {
   "cell_type": "code",
   "execution_count": 20,
   "id": "786d14ca-d800-4cca-b125-306719aa8135",
   "metadata": {},
   "outputs": [
    {
     "name": "stdout",
     "output_type": "stream",
     "text": [
      "hex_id\n",
      "geometry\n",
      "res\n",
      "temperature_mean\n",
      "temperature_std\n",
      "temperature_median\n",
      "temperature_max\n",
      "temperature_min\n",
      "temperature_diff\n",
      "temperature_tend\n",
      "city\n",
      "temp_diff_mean\n"
     ]
    }
   ],
   "source": [
    "import psycopg2\n",
    "\n",
    "#Conectar a la base de datos\n",
    "conn = psycopg2.connect(\n",
    "    host = \"hippocampus.cswst4rid7eb.us-east-2.rds.amazonaws.com\",\n",
    "    database = \"postgres\",\n",
    "    user= \"odc_writer\",\n",
    "    password = \"writejacobs1918\"\n",
    ")\n",
    "\n",
    "cur = conn.cursor()\n",
    "\n",
    "#Ejecutar la consulta para obtener los nombres de las columnas\n",
    "cur.execute(\"\"\"\n",
    "    SELECT column_name \n",
    "    FROM information_schema.columns \n",
    "    WHERE table_schema = 'raster_analysis' \n",
    "    AND table_name = 'temperature_analysis_hex';\n",
    "\"\"\")\n",
    "\n",
    "#Obtener los resultados\n",
    "columns = cur.fetchall()\n",
    "\n",
    "#Imprimir los nombres de las columnas\n",
    "for column in columns:\n",
    "    print(column[0])\n",
    "\n",
    "cur.close()\n",
    "conn.close()"
   ]
  },
  {
   "cell_type": "code",
   "execution_count": 21,
   "id": "ae3a6a29-265a-4f1e-876d-63297f9bbbfa",
   "metadata": {},
   "outputs": [
    {
     "name": "stdout",
     "output_type": "stream",
     "text": [
      "hex_id\n",
      "geometry\n",
      "res\n",
      "ndvi_mean\n",
      "ndvi_std\n",
      "ndvi_median\n",
      "ndvi_max\n",
      "ndvi_min\n",
      "ndvi_diff\n",
      "ndvi_tend\n",
      "city\n"
     ]
    }
   ],
   "source": [
    "import psycopg2\n",
    "\n",
    "#Conectar a la base de datos\n",
    "conn = psycopg2.connect(\n",
    "    host = \"hippocampus.cswst4rid7eb.us-east-2.rds.amazonaws.com\",\n",
    "    database = \"postgres\",\n",
    "    user= \"odc_writer\",\n",
    "    password = \"writejacobs1918\"\n",
    ")\n",
    "\n",
    "cur = conn.cursor()\n",
    "\n",
    "#Ejecutar la consulta para obtener los nombres de las columnas\n",
    "cur.execute(\"\"\"\n",
    "    SELECT column_name \n",
    "    FROM information_schema.columns \n",
    "    WHERE table_schema = 'raster_analysis' \n",
    "    AND table_name = 'ndvi_analysis_hex';\n",
    "\"\"\")\n",
    "\n",
    "#Obtener los resultados\n",
    "columns = cur.fetchall()\n",
    "\n",
    "#Imprimir los nombres de las columnas\n",
    "for column in columns:\n",
    "    print(column[0])\n",
    "\n",
    "cur.close()\n",
    "conn.close()"
   ]
  },
  {
   "cell_type": "code",
   "execution_count": 22,
   "id": "df8d2024-3d90-467c-8185-21a7ca5e7001",
   "metadata": {
    "tags": []
   },
   "outputs": [
    {
     "data": {
      "text/html": [
       "<div>\n",
       "<style scoped>\n",
       "    .dataframe tbody tr th:only-of-type {\n",
       "        vertical-align: middle;\n",
       "    }\n",
       "\n",
       "    .dataframe tbody tr th {\n",
       "        vertical-align: top;\n",
       "    }\n",
       "\n",
       "    .dataframe thead th {\n",
       "        text-align: right;\n",
       "    }\n",
       "</style>\n",
       "<table border=\"1\" class=\"dataframe\">\n",
       "  <thead>\n",
       "    <tr style=\"text-align: right;\">\n",
       "      <th></th>\n",
       "      <th>hex_id</th>\n",
       "      <th>city</th>\n",
       "      <th>geometry</th>\n",
       "      <th>temp_res</th>\n",
       "      <th>ndmi_geometry</th>\n",
       "      <th>ndmi_city</th>\n",
       "      <th>ndmi_res</th>\n",
       "      <th>ndvi_geometry</th>\n",
       "      <th>ndvi_city</th>\n",
       "      <th>ndvi_res</th>\n",
       "      <th>...</th>\n",
       "      <th>ndvi_std</th>\n",
       "      <th>ndvi_median</th>\n",
       "      <th>ndvi_max</th>\n",
       "      <th>ndvi_min</th>\n",
       "      <th>ndvi_diff</th>\n",
       "      <th>ndvi_tend</th>\n",
       "      <th>ndmi_mean</th>\n",
       "      <th>ndmi_median</th>\n",
       "      <th>ndmi_diff</th>\n",
       "      <th>temp_diff_mean</th>\n",
       "    </tr>\n",
       "  </thead>\n",
       "  <tbody>\n",
       "    <tr>\n",
       "      <th>0</th>\n",
       "      <td>8b499584a383fff</td>\n",
       "      <td>CDMX</td>\n",
       "      <td>POLYGON ((-99.18000 19.35860, -99.17982 19.358...</td>\n",
       "      <td>11</td>\n",
       "      <td>0103000020E61000000100000007000000F7DFD21F85CB...</td>\n",
       "      <td>CDMX</td>\n",
       "      <td>11</td>\n",
       "      <td>0103000020E61000000100000007000000F7DFD21F85CB...</td>\n",
       "      <td>CDMX</td>\n",
       "      <td>11</td>\n",
       "      <td>...</td>\n",
       "      <td>0.093463</td>\n",
       "      <td>0.393257</td>\n",
       "      <td>0.402223</td>\n",
       "      <td>0.294147</td>\n",
       "      <td>0.108076</td>\n",
       "      <td>-0.003056</td>\n",
       "      <td>0.047486</td>\n",
       "      <td>0.047518</td>\n",
       "      <td>0.023174</td>\n",
       "      <td>-0.999885</td>\n",
       "    </tr>\n",
       "    <tr>\n",
       "      <th>1</th>\n",
       "      <td>8b4995b8ec2afff</td>\n",
       "      <td>CDMX</td>\n",
       "      <td>POLYGON ((-99.15481 19.48660, -99.15464 19.486...</td>\n",
       "      <td>11</td>\n",
       "      <td>0103000020E61000000100000007000000015DB775E8C9...</td>\n",
       "      <td>CDMX</td>\n",
       "      <td>11</td>\n",
       "      <td>0103000020E61000000100000007000000015DB775E8C9...</td>\n",
       "      <td>CDMX</td>\n",
       "      <td>11</td>\n",
       "      <td>...</td>\n",
       "      <td>0.011216</td>\n",
       "      <td>0.041535</td>\n",
       "      <td>0.056212</td>\n",
       "      <td>0.027292</td>\n",
       "      <td>0.028920</td>\n",
       "      <td>-0.000275</td>\n",
       "      <td>-0.044624</td>\n",
       "      <td>-0.047098</td>\n",
       "      <td>0.041608</td>\n",
       "      <td>2.292706</td>\n",
       "    </tr>\n",
       "    <tr>\n",
       "      <th>2</th>\n",
       "      <td>8b4995b13ccbfff</td>\n",
       "      <td>CDMX</td>\n",
       "      <td>POLYGON ((-99.22927 19.41584, -99.22909 19.416...</td>\n",
       "      <td>11</td>\n",
       "      <td>0103000020E6100000010000000700000054E1325EACCE...</td>\n",
       "      <td>CDMX</td>\n",
       "      <td>11</td>\n",
       "      <td>0103000020E6100000010000000700000054E1325EACCE...</td>\n",
       "      <td>CDMX</td>\n",
       "      <td>11</td>\n",
       "      <td>...</td>\n",
       "      <td>0.080896</td>\n",
       "      <td>0.381725</td>\n",
       "      <td>0.384054</td>\n",
       "      <td>0.312453</td>\n",
       "      <td>0.071600</td>\n",
       "      <td>-0.002789</td>\n",
       "      <td>0.074351</td>\n",
       "      <td>0.076777</td>\n",
       "      <td>0.017964</td>\n",
       "      <td>-1.819908</td>\n",
       "    </tr>\n",
       "    <tr>\n",
       "      <th>3</th>\n",
       "      <td>8b4995b102e2fff</td>\n",
       "      <td>CDMX</td>\n",
       "      <td>POLYGON ((-99.24227 19.40455, -99.24210 19.404...</td>\n",
       "      <td>11</td>\n",
       "      <td>0103000020E610000001000000070000008629C56881CF...</td>\n",
       "      <td>CDMX</td>\n",
       "      <td>11</td>\n",
       "      <td>0103000020E610000001000000070000008629C56881CF...</td>\n",
       "      <td>CDMX</td>\n",
       "      <td>11</td>\n",
       "      <td>...</td>\n",
       "      <td>0.057511</td>\n",
       "      <td>0.287090</td>\n",
       "      <td>0.293939</td>\n",
       "      <td>0.233838</td>\n",
       "      <td>0.060102</td>\n",
       "      <td>-0.001896</td>\n",
       "      <td>0.011942</td>\n",
       "      <td>0.009077</td>\n",
       "      <td>0.030499</td>\n",
       "      <td>-0.653675</td>\n",
       "    </tr>\n",
       "    <tr>\n",
       "      <th>4</th>\n",
       "      <td>8b4995b13963fff</td>\n",
       "      <td>CDMX</td>\n",
       "      <td>POLYGON ((-99.24224 19.40820, -99.24206 19.408...</td>\n",
       "      <td>11</td>\n",
       "      <td>0103000020E6100000010000000700000054E4D8E280CF...</td>\n",
       "      <td>CDMX</td>\n",
       "      <td>11</td>\n",
       "      <td>0103000020E6100000010000000700000054E4D8E280CF...</td>\n",
       "      <td>CDMX</td>\n",
       "      <td>11</td>\n",
       "      <td>...</td>\n",
       "      <td>0.054689</td>\n",
       "      <td>0.251578</td>\n",
       "      <td>0.304285</td>\n",
       "      <td>0.211149</td>\n",
       "      <td>0.093136</td>\n",
       "      <td>-0.000826</td>\n",
       "      <td>0.045733</td>\n",
       "      <td>0.045949</td>\n",
       "      <td>0.050148</td>\n",
       "      <td>-2.558189</td>\n",
       "    </tr>\n",
       "    <tr>\n",
       "      <th>5</th>\n",
       "      <td>8b4995b10093fff</td>\n",
       "      <td>CDMX</td>\n",
       "      <td>POLYGON ((-99.23265 19.39673, -99.23247 19.396...</td>\n",
       "      <td>11</td>\n",
       "      <td>0103000020E61000000100000007000000C18B8EBFE3CE...</td>\n",
       "      <td>CDMX</td>\n",
       "      <td>11</td>\n",
       "      <td>0103000020E61000000100000007000000C18B8EBFE3CE...</td>\n",
       "      <td>CDMX</td>\n",
       "      <td>11</td>\n",
       "      <td>...</td>\n",
       "      <td>0.092652</td>\n",
       "      <td>0.439031</td>\n",
       "      <td>0.436319</td>\n",
       "      <td>0.335375</td>\n",
       "      <td>0.100944</td>\n",
       "      <td>-0.003267</td>\n",
       "      <td>0.113424</td>\n",
       "      <td>0.114254</td>\n",
       "      <td>0.044230</td>\n",
       "      <td>-4.933251</td>\n",
       "    </tr>\n",
       "    <tr>\n",
       "      <th>6</th>\n",
       "      <td>8b4995b10c1dfff</td>\n",
       "      <td>CDMX</td>\n",
       "      <td>POLYGON ((-99.23197 19.38839, -99.23179 19.388...</td>\n",
       "      <td>11</td>\n",
       "      <td>0103000020E6100000010000000700000006EE9085D8CE...</td>\n",
       "      <td>CDMX</td>\n",
       "      <td>11</td>\n",
       "      <td>0103000020E6100000010000000700000006EE9085D8CE...</td>\n",
       "      <td>CDMX</td>\n",
       "      <td>11</td>\n",
       "      <td>...</td>\n",
       "      <td>0.130354</td>\n",
       "      <td>0.439810</td>\n",
       "      <td>0.496826</td>\n",
       "      <td>0.302083</td>\n",
       "      <td>0.194743</td>\n",
       "      <td>-0.004584</td>\n",
       "      <td>0.051198</td>\n",
       "      <td>0.049352</td>\n",
       "      <td>0.085850</td>\n",
       "      <td>-1.820404</td>\n",
       "    </tr>\n",
       "    <tr>\n",
       "      <th>7</th>\n",
       "      <td>8b4995b10d64fff</td>\n",
       "      <td>CDMX</td>\n",
       "      <td>POLYGON ((-99.23603 19.38444, -99.23585 19.384...</td>\n",
       "      <td>11</td>\n",
       "      <td>0103000020E61000000100000007000000851539161BCF...</td>\n",
       "      <td>CDMX</td>\n",
       "      <td>11</td>\n",
       "      <td>0103000020E61000000100000007000000851539161BCF...</td>\n",
       "      <td>CDMX</td>\n",
       "      <td>11</td>\n",
       "      <td>...</td>\n",
       "      <td>0.032036</td>\n",
       "      <td>0.088760</td>\n",
       "      <td>0.112240</td>\n",
       "      <td>0.062855</td>\n",
       "      <td>0.049385</td>\n",
       "      <td>-0.001151</td>\n",
       "      <td>-0.022371</td>\n",
       "      <td>-0.024008</td>\n",
       "      <td>0.041082</td>\n",
       "      <td>0.558564</td>\n",
       "    </tr>\n",
       "    <tr>\n",
       "      <th>8</th>\n",
       "      <td>8b4995b10998fff</td>\n",
       "      <td>CDMX</td>\n",
       "      <td>POLYGON ((-99.23806 19.38586, -99.23788 19.386...</td>\n",
       "      <td>11</td>\n",
       "      <td>0103000020E6100000010000000700000096CC275B3CCF...</td>\n",
       "      <td>CDMX</td>\n",
       "      <td>11</td>\n",
       "      <td>0103000020E6100000010000000700000096CC275B3CCF...</td>\n",
       "      <td>CDMX</td>\n",
       "      <td>11</td>\n",
       "      <td>...</td>\n",
       "      <td>0.073500</td>\n",
       "      <td>0.257912</td>\n",
       "      <td>0.293653</td>\n",
       "      <td>0.198211</td>\n",
       "      <td>0.095442</td>\n",
       "      <td>-0.002854</td>\n",
       "      <td>-0.002102</td>\n",
       "      <td>-0.006449</td>\n",
       "      <td>0.067018</td>\n",
       "      <td>-0.189121</td>\n",
       "    </tr>\n",
       "    <tr>\n",
       "      <th>9</th>\n",
       "      <td>8b4995b33635fff</td>\n",
       "      <td>CDMX</td>\n",
       "      <td>POLYGON ((-99.25893 19.36859, -99.25876 19.368...</td>\n",
       "      <td>11</td>\n",
       "      <td>0103000020E610000001000000070000006E60515A92D0...</td>\n",
       "      <td>CDMX</td>\n",
       "      <td>11</td>\n",
       "      <td>0103000020E610000001000000070000006E60515A92D0...</td>\n",
       "      <td>CDMX</td>\n",
       "      <td>11</td>\n",
       "      <td>...</td>\n",
       "      <td>0.052281</td>\n",
       "      <td>0.148302</td>\n",
       "      <td>0.201024</td>\n",
       "      <td>0.105154</td>\n",
       "      <td>0.095869</td>\n",
       "      <td>-0.001475</td>\n",
       "      <td>-0.001687</td>\n",
       "      <td>0.000657</td>\n",
       "      <td>0.063929</td>\n",
       "      <td>0.329181</td>\n",
       "    </tr>\n",
       "  </tbody>\n",
       "</table>\n",
       "<p>10 rows × 21 columns</p>\n",
       "</div>"
      ],
      "text/plain": [
       "            hex_id  city                                           geometry  \\\n",
       "0  8b499584a383fff  CDMX  POLYGON ((-99.18000 19.35860, -99.17982 19.358...   \n",
       "1  8b4995b8ec2afff  CDMX  POLYGON ((-99.15481 19.48660, -99.15464 19.486...   \n",
       "2  8b4995b13ccbfff  CDMX  POLYGON ((-99.22927 19.41584, -99.22909 19.416...   \n",
       "3  8b4995b102e2fff  CDMX  POLYGON ((-99.24227 19.40455, -99.24210 19.404...   \n",
       "4  8b4995b13963fff  CDMX  POLYGON ((-99.24224 19.40820, -99.24206 19.408...   \n",
       "5  8b4995b10093fff  CDMX  POLYGON ((-99.23265 19.39673, -99.23247 19.396...   \n",
       "6  8b4995b10c1dfff  CDMX  POLYGON ((-99.23197 19.38839, -99.23179 19.388...   \n",
       "7  8b4995b10d64fff  CDMX  POLYGON ((-99.23603 19.38444, -99.23585 19.384...   \n",
       "8  8b4995b10998fff  CDMX  POLYGON ((-99.23806 19.38586, -99.23788 19.386...   \n",
       "9  8b4995b33635fff  CDMX  POLYGON ((-99.25893 19.36859, -99.25876 19.368...   \n",
       "\n",
       "   temp_res                                      ndmi_geometry ndmi_city  \\\n",
       "0        11  0103000020E61000000100000007000000F7DFD21F85CB...      CDMX   \n",
       "1        11  0103000020E61000000100000007000000015DB775E8C9...      CDMX   \n",
       "2        11  0103000020E6100000010000000700000054E1325EACCE...      CDMX   \n",
       "3        11  0103000020E610000001000000070000008629C56881CF...      CDMX   \n",
       "4        11  0103000020E6100000010000000700000054E4D8E280CF...      CDMX   \n",
       "5        11  0103000020E61000000100000007000000C18B8EBFE3CE...      CDMX   \n",
       "6        11  0103000020E6100000010000000700000006EE9085D8CE...      CDMX   \n",
       "7        11  0103000020E61000000100000007000000851539161BCF...      CDMX   \n",
       "8        11  0103000020E6100000010000000700000096CC275B3CCF...      CDMX   \n",
       "9        11  0103000020E610000001000000070000006E60515A92D0...      CDMX   \n",
       "\n",
       "   ndmi_res                                      ndvi_geometry ndvi_city  \\\n",
       "0        11  0103000020E61000000100000007000000F7DFD21F85CB...      CDMX   \n",
       "1        11  0103000020E61000000100000007000000015DB775E8C9...      CDMX   \n",
       "2        11  0103000020E6100000010000000700000054E1325EACCE...      CDMX   \n",
       "3        11  0103000020E610000001000000070000008629C56881CF...      CDMX   \n",
       "4        11  0103000020E6100000010000000700000054E4D8E280CF...      CDMX   \n",
       "5        11  0103000020E61000000100000007000000C18B8EBFE3CE...      CDMX   \n",
       "6        11  0103000020E6100000010000000700000006EE9085D8CE...      CDMX   \n",
       "7        11  0103000020E61000000100000007000000851539161BCF...      CDMX   \n",
       "8        11  0103000020E6100000010000000700000096CC275B3CCF...      CDMX   \n",
       "9        11  0103000020E610000001000000070000006E60515A92D0...      CDMX   \n",
       "\n",
       "   ndvi_res  ...  ndvi_std  ndvi_median  ndvi_max  ndvi_min  ndvi_diff  \\\n",
       "0        11  ...  0.093463     0.393257  0.402223  0.294147   0.108076   \n",
       "1        11  ...  0.011216     0.041535  0.056212  0.027292   0.028920   \n",
       "2        11  ...  0.080896     0.381725  0.384054  0.312453   0.071600   \n",
       "3        11  ...  0.057511     0.287090  0.293939  0.233838   0.060102   \n",
       "4        11  ...  0.054689     0.251578  0.304285  0.211149   0.093136   \n",
       "5        11  ...  0.092652     0.439031  0.436319  0.335375   0.100944   \n",
       "6        11  ...  0.130354     0.439810  0.496826  0.302083   0.194743   \n",
       "7        11  ...  0.032036     0.088760  0.112240  0.062855   0.049385   \n",
       "8        11  ...  0.073500     0.257912  0.293653  0.198211   0.095442   \n",
       "9        11  ...  0.052281     0.148302  0.201024  0.105154   0.095869   \n",
       "\n",
       "   ndvi_tend  ndmi_mean  ndmi_median  ndmi_diff  temp_diff_mean  \n",
       "0  -0.003056   0.047486     0.047518   0.023174       -0.999885  \n",
       "1  -0.000275  -0.044624    -0.047098   0.041608        2.292706  \n",
       "2  -0.002789   0.074351     0.076777   0.017964       -1.819908  \n",
       "3  -0.001896   0.011942     0.009077   0.030499       -0.653675  \n",
       "4  -0.000826   0.045733     0.045949   0.050148       -2.558189  \n",
       "5  -0.003267   0.113424     0.114254   0.044230       -4.933251  \n",
       "6  -0.004584   0.051198     0.049352   0.085850       -1.820404  \n",
       "7  -0.001151  -0.022371    -0.024008   0.041082        0.558564  \n",
       "8  -0.002854  -0.002102    -0.006449   0.067018       -0.189121  \n",
       "9  -0.001475  -0.001687     0.000657   0.063929        0.329181  \n",
       "\n",
       "[10 rows x 21 columns]"
      ]
     },
     "execution_count": 22,
     "metadata": {},
     "output_type": "execute_result"
    }
   ],
   "source": [
    "hex_schema = \"raster_analysis\"\n",
    "hex_schema_pob = \"hexgrid\"\n",
    "hex_tablee = \"ndvi_analysis_hex\"\n",
    "hex_table = \"ndmi_analysis_hex\"\n",
    "hex_table_pob = \"hexgrid_9_city_2020\"\n",
    "hex_table_tempt = \"temperature_analysis_hex\"\n",
    "ndmi = \"ndmi\"\n",
    "ndvi = \"ndvi\"\n",
    "temp = \"temp\"\n",
    "poblation = \"POBTOT\"\n",
    "hex_id = \"hex_id\"\n",
    "c1 = 'Guadalajara'\n",
    "c2 ='CDMX'\n",
    "#c3 = 'Queretaro'\n",
    "n = '11'\n",
    "\n",
    "query = f'''\n",
    "SELECT \n",
    "    temp.hex_id, \n",
    "    temp.city, \n",
    "    temp.geometry AS geometry,  \n",
    "    temp.res AS temp_res,\n",
    "    ndmi.geometry AS ndmi_geometry, \n",
    "    ndmi.city AS ndmi_city, \n",
    "    ndmi.res AS ndmi_res, \n",
    "    ndvi.geometry AS ndvi_geometry, \n",
    "    ndvi.city AS ndvi_city, \n",
    "    ndvi.res AS ndvi_res, \n",
    "    ndvi.ndvi_mean, \n",
    "    ndvi.ndvi_std, \n",
    "    ndvi.ndvi_median, \n",
    "    ndvi.ndvi_max, \n",
    "    ndvi.ndvi_min, \n",
    "    ndvi.ndvi_diff, \n",
    "    ndvi.ndvi_tend,\n",
    "    ndmi.ndmi_mean, \n",
    "    ndmi.ndmi_median, \n",
    "    ndmi.ndmi_diff, \n",
    "    temp.temp_diff_mean\n",
    "FROM \n",
    "    {hex_schema}.{hex_table_tempt} temp  \n",
    "INNER JOIN \n",
    "    {hex_schema}.{hex_table} ndmi \n",
    "    ON temp.hex_id = ndmi.hex_id\n",
    "INNER JOIN \n",
    "    {hex_schema}.{hex_tablee} ndvi \n",
    "    ON ndmi.hex_id = ndvi.hex_id\n",
    "WHERE \n",
    "    temp.city IN ('{c1}', '{c2}') \n",
    "    AND temp.res = {n}\n",
    "'''\n",
    "\n",
    "intt_gdl = aup.gdf_from_query(query, geometry_col='geometry')\n",
    "intt_gdl.head(10)"
   ]
  },
  {
   "cell_type": "code",
   "execution_count": 23,
   "id": "84143985-bd5c-4c93-a38b-4b7f62f52df6",
   "metadata": {
    "tags": []
   },
   "outputs": [
    {
     "data": {
      "text/plain": [
       "(807653, 21)"
      ]
     },
     "execution_count": 23,
     "metadata": {},
     "output_type": "execute_result"
    }
   ],
   "source": [
    "intt_gdl.shape"
   ]
  },
  {
   "cell_type": "code",
   "execution_count": 24,
   "id": "e0ff9c5b-babb-4b93-9690-ba5e6c8f7d7d",
   "metadata": {
    "tags": []
   },
   "outputs": [
    {
     "data": {
      "text/plain": [
       "array(['CDMX', 'Guadalajara'], dtype=object)"
      ]
     },
     "execution_count": 24,
     "metadata": {},
     "output_type": "execute_result"
    }
   ],
   "source": [
    "intt_gdl['city'].unique()"
   ]
  },
  {
   "cell_type": "code",
   "execution_count": 25,
   "id": "06a6ca40-8e7c-4448-9b4b-79865367609b",
   "metadata": {},
   "outputs": [
    {
     "name": "stdout",
     "output_type": "stream",
     "text": [
      "Número de hexágonos Gdl: 445881 \n",
      "Número de hexágonos Cdmx: 361772\n"
     ]
    }
   ],
   "source": [
    "intt_gdll = np.sum(intt_gdl['city'] == 'Guadalajara')\n",
    "intt_cdmxx = np.sum(intt_gdl['city'] == 'CDMX')\n",
    "#intt_qroo = np.sum(intt_gdl['city'] == 'Queretaro')\n",
    "print(f'Número de hexágonos Gdl: {intt_gdll} \\nNúmero de hexágonos Cdmx: {intt_cdmxx}')"
   ]
  },
  {
   "cell_type": "markdown",
   "id": "5d14c446-c89e-49c6-816b-93459ff272ec",
   "metadata": {},
   "source": [
    "## Intersección"
   ]
  },
  {
   "cell_type": "code",
   "execution_count": 26,
   "id": "f01fdfe4-a3b7-40fc-8db9-208882f82618",
   "metadata": {
    "tags": []
   },
   "outputs": [],
   "source": [
    "intt_gdl = intt_gdl.set_crs(\"EPSG:4326\")\n",
    "hex_gdl = hex_gdl.set_crs(\"EPSG:4326\")"
   ]
  },
  {
   "cell_type": "code",
   "execution_count": 27,
   "id": "4749966e-d61b-4297-b690-527a0ac62781",
   "metadata": {
    "tags": []
   },
   "outputs": [],
   "source": [
    "inter = gpd.sjoin(hex_gdl, intt_gdl, op='intersects')"
   ]
  },
  {
   "cell_type": "code",
   "execution_count": 28,
   "id": "7ef06de8-8747-4341-b9fc-cdce908452d2",
   "metadata": {
    "tags": []
   },
   "outputs": [
    {
     "data": {
      "text/html": [
       "<div>\n",
       "<style scoped>\n",
       "    .dataframe tbody tr th:only-of-type {\n",
       "        vertical-align: middle;\n",
       "    }\n",
       "\n",
       "    .dataframe tbody tr th {\n",
       "        vertical-align: top;\n",
       "    }\n",
       "\n",
       "    .dataframe thead th {\n",
       "        text-align: right;\n",
       "    }\n",
       "</style>\n",
       "<table border=\"1\" class=\"dataframe\">\n",
       "  <thead>\n",
       "    <tr style=\"text-align: right;\">\n",
       "      <th></th>\n",
       "      <th>hex_id</th>\n",
       "      <th>geometry</th>\n",
       "      <th>city</th>\n",
       "      <th>EspPublico</th>\n",
       "      <th>temp_res</th>\n",
       "      <th>ndmi_geometry</th>\n",
       "      <th>ndmi_city</th>\n",
       "      <th>ndmi_res</th>\n",
       "      <th>ndvi_geometry</th>\n",
       "      <th>ndvi_city</th>\n",
       "      <th>...</th>\n",
       "      <th>ndvi_std</th>\n",
       "      <th>ndvi_median</th>\n",
       "      <th>ndvi_max</th>\n",
       "      <th>ndvi_min</th>\n",
       "      <th>ndvi_diff</th>\n",
       "      <th>ndvi_tend</th>\n",
       "      <th>ndmi_mean</th>\n",
       "      <th>ndmi_median</th>\n",
       "      <th>ndmi_diff</th>\n",
       "      <th>temp_diff_mean</th>\n",
       "    </tr>\n",
       "  </thead>\n",
       "  <tbody>\n",
       "    <tr>\n",
       "      <th>0</th>\n",
       "      <td>8b4995b804ecfff</td>\n",
       "      <td>POLYGON ((-99.13393 19.45982, -99.13375 19.460...</td>\n",
       "      <td>CDMX</td>\n",
       "      <td>0</td>\n",
       "      <td>11</td>\n",
       "      <td>0103000020E610000001000000070000001787315A93C8...</td>\n",
       "      <td>CDMX</td>\n",
       "      <td>11</td>\n",
       "      <td>0103000020E610000001000000070000001787315A93C8...</td>\n",
       "      <td>CDMX</td>\n",
       "      <td>...</td>\n",
       "      <td>0.024206</td>\n",
       "      <td>0.103129</td>\n",
       "      <td>0.114128</td>\n",
       "      <td>0.073817</td>\n",
       "      <td>0.040311</td>\n",
       "      <td>-0.000877</td>\n",
       "      <td>-0.031195</td>\n",
       "      <td>-0.034813</td>\n",
       "      <td>0.037802</td>\n",
       "      <td>2.800092</td>\n",
       "    </tr>\n",
       "    <tr>\n",
       "      <th>138491</th>\n",
       "      <td>8b4995b80453fff</td>\n",
       "      <td>POLYGON ((-99.13440 19.45962, -99.13422 19.459...</td>\n",
       "      <td>CDMX</td>\n",
       "      <td>0</td>\n",
       "      <td>11</td>\n",
       "      <td>0103000020E610000001000000070000001787315A93C8...</td>\n",
       "      <td>CDMX</td>\n",
       "      <td>11</td>\n",
       "      <td>0103000020E610000001000000070000001787315A93C8...</td>\n",
       "      <td>CDMX</td>\n",
       "      <td>...</td>\n",
       "      <td>0.024206</td>\n",
       "      <td>0.103129</td>\n",
       "      <td>0.114128</td>\n",
       "      <td>0.073817</td>\n",
       "      <td>0.040311</td>\n",
       "      <td>-0.000877</td>\n",
       "      <td>-0.031195</td>\n",
       "      <td>-0.034813</td>\n",
       "      <td>0.037802</td>\n",
       "      <td>2.800092</td>\n",
       "    </tr>\n",
       "    <tr>\n",
       "      <th>227683</th>\n",
       "      <td>8b4995b80456fff</td>\n",
       "      <td>POLYGON ((-99.13406 19.45886, -99.13388 19.459...</td>\n",
       "      <td>CDMX</td>\n",
       "      <td>0</td>\n",
       "      <td>11</td>\n",
       "      <td>0103000020E610000001000000070000001787315A93C8...</td>\n",
       "      <td>CDMX</td>\n",
       "      <td>11</td>\n",
       "      <td>0103000020E610000001000000070000001787315A93C8...</td>\n",
       "      <td>CDMX</td>\n",
       "      <td>...</td>\n",
       "      <td>0.024206</td>\n",
       "      <td>0.103129</td>\n",
       "      <td>0.114128</td>\n",
       "      <td>0.073817</td>\n",
       "      <td>0.040311</td>\n",
       "      <td>-0.000877</td>\n",
       "      <td>-0.031195</td>\n",
       "      <td>-0.034813</td>\n",
       "      <td>0.037802</td>\n",
       "      <td>2.800092</td>\n",
       "    </tr>\n",
       "    <tr>\n",
       "      <th>294678</th>\n",
       "      <td>8b4995b80450fff</td>\n",
       "      <td>POLYGON ((-99.13446 19.45914, -99.13429 19.459...</td>\n",
       "      <td>CDMX</td>\n",
       "      <td>0</td>\n",
       "      <td>11</td>\n",
       "      <td>0103000020E610000001000000070000001787315A93C8...</td>\n",
       "      <td>CDMX</td>\n",
       "      <td>11</td>\n",
       "      <td>0103000020E610000001000000070000001787315A93C8...</td>\n",
       "      <td>CDMX</td>\n",
       "      <td>...</td>\n",
       "      <td>0.024206</td>\n",
       "      <td>0.103129</td>\n",
       "      <td>0.114128</td>\n",
       "      <td>0.073817</td>\n",
       "      <td>0.040311</td>\n",
       "      <td>-0.000877</td>\n",
       "      <td>-0.031195</td>\n",
       "      <td>-0.034813</td>\n",
       "      <td>0.037802</td>\n",
       "      <td>2.800092</td>\n",
       "    </tr>\n",
       "    <tr>\n",
       "      <th>314968</th>\n",
       "      <td>8b4995b804e1fff</td>\n",
       "      <td>POLYGON ((-99.13352 19.45953, -99.13335 19.459...</td>\n",
       "      <td>CDMX</td>\n",
       "      <td>0</td>\n",
       "      <td>11</td>\n",
       "      <td>0103000020E610000001000000070000001787315A93C8...</td>\n",
       "      <td>CDMX</td>\n",
       "      <td>11</td>\n",
       "      <td>0103000020E610000001000000070000001787315A93C8...</td>\n",
       "      <td>CDMX</td>\n",
       "      <td>...</td>\n",
       "      <td>0.024206</td>\n",
       "      <td>0.103129</td>\n",
       "      <td>0.114128</td>\n",
       "      <td>0.073817</td>\n",
       "      <td>0.040311</td>\n",
       "      <td>-0.000877</td>\n",
       "      <td>-0.031195</td>\n",
       "      <td>-0.034813</td>\n",
       "      <td>0.037802</td>\n",
       "      <td>2.800092</td>\n",
       "    </tr>\n",
       "  </tbody>\n",
       "</table>\n",
       "<p>5 rows × 22 columns</p>\n",
       "</div>"
      ],
      "text/plain": [
       "                 hex_id                                           geometry  \\\n",
       "0       8b4995b804ecfff  POLYGON ((-99.13393 19.45982, -99.13375 19.460...   \n",
       "138491  8b4995b80453fff  POLYGON ((-99.13440 19.45962, -99.13422 19.459...   \n",
       "227683  8b4995b80456fff  POLYGON ((-99.13406 19.45886, -99.13388 19.459...   \n",
       "294678  8b4995b80450fff  POLYGON ((-99.13446 19.45914, -99.13429 19.459...   \n",
       "314968  8b4995b804e1fff  POLYGON ((-99.13352 19.45953, -99.13335 19.459...   \n",
       "\n",
       "        city  EspPublico  temp_res  \\\n",
       "0       CDMX           0        11   \n",
       "138491  CDMX           0        11   \n",
       "227683  CDMX           0        11   \n",
       "294678  CDMX           0        11   \n",
       "314968  CDMX           0        11   \n",
       "\n",
       "                                            ndmi_geometry ndmi_city  ndmi_res  \\\n",
       "0       0103000020E610000001000000070000001787315A93C8...      CDMX        11   \n",
       "138491  0103000020E610000001000000070000001787315A93C8...      CDMX        11   \n",
       "227683  0103000020E610000001000000070000001787315A93C8...      CDMX        11   \n",
       "294678  0103000020E610000001000000070000001787315A93C8...      CDMX        11   \n",
       "314968  0103000020E610000001000000070000001787315A93C8...      CDMX        11   \n",
       "\n",
       "                                            ndvi_geometry ndvi_city  ...  \\\n",
       "0       0103000020E610000001000000070000001787315A93C8...      CDMX  ...   \n",
       "138491  0103000020E610000001000000070000001787315A93C8...      CDMX  ...   \n",
       "227683  0103000020E610000001000000070000001787315A93C8...      CDMX  ...   \n",
       "294678  0103000020E610000001000000070000001787315A93C8...      CDMX  ...   \n",
       "314968  0103000020E610000001000000070000001787315A93C8...      CDMX  ...   \n",
       "\n",
       "        ndvi_std  ndvi_median  ndvi_max  ndvi_min  ndvi_diff  ndvi_tend  \\\n",
       "0       0.024206     0.103129  0.114128  0.073817   0.040311  -0.000877   \n",
       "138491  0.024206     0.103129  0.114128  0.073817   0.040311  -0.000877   \n",
       "227683  0.024206     0.103129  0.114128  0.073817   0.040311  -0.000877   \n",
       "294678  0.024206     0.103129  0.114128  0.073817   0.040311  -0.000877   \n",
       "314968  0.024206     0.103129  0.114128  0.073817   0.040311  -0.000877   \n",
       "\n",
       "        ndmi_mean  ndmi_median  ndmi_diff  temp_diff_mean  \n",
       "0       -0.031195    -0.034813   0.037802        2.800092  \n",
       "138491  -0.031195    -0.034813   0.037802        2.800092  \n",
       "227683  -0.031195    -0.034813   0.037802        2.800092  \n",
       "294678  -0.031195    -0.034813   0.037802        2.800092  \n",
       "314968  -0.031195    -0.034813   0.037802        2.800092  \n",
       "\n",
       "[5 rows x 22 columns]"
      ]
     },
     "execution_count": 28,
     "metadata": {},
     "output_type": "execute_result"
    }
   ],
   "source": [
    "inter.drop(columns=['index_right','city_right','hex_id_right'], inplace=True)\n",
    "inter.rename(columns={\"hex_id_left\": \"hex_id\",\"city_left\": \"city\"}, inplace=True)\n",
    "inter.head()"
   ]
  },
  {
   "cell_type": "code",
   "execution_count": 29,
   "id": "5b3fa1be-9caa-48c1-b68c-bd6ab21649ac",
   "metadata": {},
   "outputs": [],
   "source": [
    "#pd.isna(inter).sum()"
   ]
  },
  {
   "cell_type": "code",
   "execution_count": 30,
   "id": "65355d57-336d-49d7-b5f0-dad155a40673",
   "metadata": {},
   "outputs": [],
   "source": [
    "inter['temp_diff_mean'] = inter['temp_diff_mean'].fillna(0)"
   ]
  },
  {
   "cell_type": "code",
   "execution_count": 31,
   "id": "ac813f4d-8c58-4a28-ae5d-35e458a6fd8c",
   "metadata": {},
   "outputs": [],
   "source": [
    "#pd.isna(inter).sum()"
   ]
  },
  {
   "cell_type": "code",
   "execution_count": 32,
   "id": "23956dfc-f9bd-448b-8dfb-5d4b05052269",
   "metadata": {
    "tags": []
   },
   "outputs": [
    {
     "name": "stdout",
     "output_type": "stream",
     "text": [
      "Número de hexágonos Gdl: 4144415 \n",
      "Número de hexágonos Cdmx: 2519284\n"
     ]
    }
   ],
   "source": [
    "contador_gdl = np.sum(inter['city'] == 'Guadalajara')\n",
    "contador_cdmx = np.sum(inter['city'] == 'CDMX')\n",
    "#contador_qro = np.sum(inter['city'] == 'Queretaro')\n",
    "print(f'Número de hexágonos Gdl: {contador_gdl} \\nNúmero de hexágonos Cdmx: {contador_cdmx}')"
   ]
  },
  {
   "cell_type": "code",
   "execution_count": 33,
   "id": "366befe9-d367-4701-bb27-b7a1fe2dd080",
   "metadata": {
    "tags": []
   },
   "outputs": [
    {
     "name": "stdout",
     "output_type": "stream",
     "text": [
      "Números de hexagonos sin Espacios Públicos: 5967752 \n",
      "Número de Hexágonos con Espacios Públicos: 695947\n",
      "Número total de Hexágonos: 6663699\n"
     ]
    }
   ],
   "source": [
    "cont_ceros = np.sum(inter['EspPublico'] == 0)\n",
    "cont_uno = np.sum(inter['EspPublico'])\n",
    "print(f'Números de hexagonos sin Espacios Públicos: {cont_ceros} \\nNúmero de Hexágonos con Espacios Públicos: {cont_uno}\\nNúmero total de Hexágonos: {cont_ceros+cont_uno}')"
   ]
  },
  {
   "cell_type": "markdown",
   "id": "0ee5e622-9b87-4a8f-a742-30403943d162",
   "metadata": {},
   "source": [
    "## Submuestreo 162,410 Hexágonos Esp Púb x 162,410 Hexágonos No Esp Púb"
   ]
  },
  {
   "cell_type": "code",
   "execution_count": 34,
   "id": "95142540-0cbb-45ee-b51d-681806f5e787",
   "metadata": {
    "tags": []
   },
   "outputs": [
    {
     "data": {
      "text/html": [
       "<div>\n",
       "<style scoped>\n",
       "    .dataframe tbody tr th:only-of-type {\n",
       "        vertical-align: middle;\n",
       "    }\n",
       "\n",
       "    .dataframe tbody tr th {\n",
       "        vertical-align: top;\n",
       "    }\n",
       "\n",
       "    .dataframe thead th {\n",
       "        text-align: right;\n",
       "    }\n",
       "</style>\n",
       "<table border=\"1\" class=\"dataframe\">\n",
       "  <thead>\n",
       "    <tr style=\"text-align: right;\">\n",
       "      <th></th>\n",
       "      <th>hex_id</th>\n",
       "      <th>geometry</th>\n",
       "      <th>city</th>\n",
       "      <th>EspPublico</th>\n",
       "      <th>temp_res</th>\n",
       "      <th>ndmi_geometry</th>\n",
       "      <th>ndmi_city</th>\n",
       "      <th>ndmi_res</th>\n",
       "      <th>ndvi_geometry</th>\n",
       "      <th>ndvi_city</th>\n",
       "      <th>...</th>\n",
       "      <th>ndvi_std</th>\n",
       "      <th>ndvi_median</th>\n",
       "      <th>ndvi_max</th>\n",
       "      <th>ndvi_min</th>\n",
       "      <th>ndvi_diff</th>\n",
       "      <th>ndvi_tend</th>\n",
       "      <th>ndmi_mean</th>\n",
       "      <th>ndmi_median</th>\n",
       "      <th>ndmi_diff</th>\n",
       "      <th>temp_diff_mean</th>\n",
       "    </tr>\n",
       "  </thead>\n",
       "  <tbody>\n",
       "    <tr>\n",
       "      <th>0</th>\n",
       "      <td>8b4995848826fff</td>\n",
       "      <td>POLYGON ((-99.20497 19.33374, -99.20479 19.333...</td>\n",
       "      <td>CDMX</td>\n",
       "      <td>1</td>\n",
       "      <td>11</td>\n",
       "      <td>0103000020E61000000100000007000000E0B007321FCD...</td>\n",
       "      <td>CDMX</td>\n",
       "      <td>11</td>\n",
       "      <td>0103000020E61000000100000007000000E0B007321FCD...</td>\n",
       "      <td>CDMX</td>\n",
       "      <td>...</td>\n",
       "      <td>0.131584</td>\n",
       "      <td>0.587075</td>\n",
       "      <td>0.640236</td>\n",
       "      <td>0.464376</td>\n",
       "      <td>0.175860</td>\n",
       "      <td>-0.004680</td>\n",
       "      <td>0.118150</td>\n",
       "      <td>0.113173</td>\n",
       "      <td>0.064039</td>\n",
       "      <td>-2.454085</td>\n",
       "    </tr>\n",
       "    <tr>\n",
       "      <th>1</th>\n",
       "      <td>8b4995b8e474fff</td>\n",
       "      <td>POLYGON ((-99.15193 19.49505, -99.15175 19.495...</td>\n",
       "      <td>CDMX</td>\n",
       "      <td>1</td>\n",
       "      <td>11</td>\n",
       "      <td>0103000020E61000000100000007000000F3B3CE40BAC9...</td>\n",
       "      <td>CDMX</td>\n",
       "      <td>11</td>\n",
       "      <td>0103000020E61000000100000007000000F3B3CE40BAC9...</td>\n",
       "      <td>CDMX</td>\n",
       "      <td>...</td>\n",
       "      <td>0.026850</td>\n",
       "      <td>0.098481</td>\n",
       "      <td>0.124901</td>\n",
       "      <td>0.075488</td>\n",
       "      <td>0.049413</td>\n",
       "      <td>-0.000931</td>\n",
       "      <td>-0.039512</td>\n",
       "      <td>-0.044277</td>\n",
       "      <td>0.035820</td>\n",
       "      <td>6.429949</td>\n",
       "    </tr>\n",
       "    <tr>\n",
       "      <th>2</th>\n",
       "      <td>8b49958f0b03fff</td>\n",
       "      <td>POLYGON ((-98.97648 19.30304, -98.97630 19.303...</td>\n",
       "      <td>CDMX</td>\n",
       "      <td>1</td>\n",
       "      <td>11</td>\n",
       "      <td>0103000020E61000000100000007000000D92B1B5686BE...</td>\n",
       "      <td>CDMX</td>\n",
       "      <td>11</td>\n",
       "      <td>0103000020E61000000100000007000000D92B1B5686BE...</td>\n",
       "      <td>CDMX</td>\n",
       "      <td>...</td>\n",
       "      <td>0.151385</td>\n",
       "      <td>0.261043</td>\n",
       "      <td>0.552578</td>\n",
       "      <td>0.158823</td>\n",
       "      <td>0.393755</td>\n",
       "      <td>-0.002555</td>\n",
       "      <td>-0.045970</td>\n",
       "      <td>-0.085946</td>\n",
       "      <td>0.311650</td>\n",
       "      <td>4.900867</td>\n",
       "    </tr>\n",
       "    <tr>\n",
       "      <th>3</th>\n",
       "      <td>8b499585e860fff</td>\n",
       "      <td>POLYGON ((-99.12255 19.32701, -99.12237 19.327...</td>\n",
       "      <td>CDMX</td>\n",
       "      <td>1</td>\n",
       "      <td>11</td>\n",
       "      <td>0103000020E61000000100000007000000416A9D33D1C7...</td>\n",
       "      <td>CDMX</td>\n",
       "      <td>11</td>\n",
       "      <td>0103000020E61000000100000007000000416A9D33D1C7...</td>\n",
       "      <td>CDMX</td>\n",
       "      <td>...</td>\n",
       "      <td>0.039913</td>\n",
       "      <td>0.179176</td>\n",
       "      <td>0.195820</td>\n",
       "      <td>0.146073</td>\n",
       "      <td>0.049747</td>\n",
       "      <td>-0.001234</td>\n",
       "      <td>-0.008248</td>\n",
       "      <td>-0.009907</td>\n",
       "      <td>0.048899</td>\n",
       "      <td>-0.363037</td>\n",
       "    </tr>\n",
       "    <tr>\n",
       "      <th>4</th>\n",
       "      <td>8b499584b759fff</td>\n",
       "      <td>POLYGON ((-99.19648 19.37493, -99.19630 19.375...</td>\n",
       "      <td>CDMX</td>\n",
       "      <td>1</td>\n",
       "      <td>11</td>\n",
       "      <td>0103000020E61000000100000007000000BA21EF1F92CC...</td>\n",
       "      <td>CDMX</td>\n",
       "      <td>11</td>\n",
       "      <td>0103000020E61000000100000007000000BA21EF1F92CC...</td>\n",
       "      <td>CDMX</td>\n",
       "      <td>...</td>\n",
       "      <td>0.081157</td>\n",
       "      <td>0.329026</td>\n",
       "      <td>0.366904</td>\n",
       "      <td>0.261683</td>\n",
       "      <td>0.105221</td>\n",
       "      <td>-0.003058</td>\n",
       "      <td>0.011501</td>\n",
       "      <td>0.015553</td>\n",
       "      <td>0.045284</td>\n",
       "      <td>0.228703</td>\n",
       "    </tr>\n",
       "  </tbody>\n",
       "</table>\n",
       "<p>5 rows × 22 columns</p>\n",
       "</div>"
      ],
      "text/plain": [
       "            hex_id                                           geometry  city  \\\n",
       "0  8b4995848826fff  POLYGON ((-99.20497 19.33374, -99.20479 19.333...  CDMX   \n",
       "1  8b4995b8e474fff  POLYGON ((-99.15193 19.49505, -99.15175 19.495...  CDMX   \n",
       "2  8b49958f0b03fff  POLYGON ((-98.97648 19.30304, -98.97630 19.303...  CDMX   \n",
       "3  8b499585e860fff  POLYGON ((-99.12255 19.32701, -99.12237 19.327...  CDMX   \n",
       "4  8b499584b759fff  POLYGON ((-99.19648 19.37493, -99.19630 19.375...  CDMX   \n",
       "\n",
       "   EspPublico  temp_res                                      ndmi_geometry  \\\n",
       "0           1        11  0103000020E61000000100000007000000E0B007321FCD...   \n",
       "1           1        11  0103000020E61000000100000007000000F3B3CE40BAC9...   \n",
       "2           1        11  0103000020E61000000100000007000000D92B1B5686BE...   \n",
       "3           1        11  0103000020E61000000100000007000000416A9D33D1C7...   \n",
       "4           1        11  0103000020E61000000100000007000000BA21EF1F92CC...   \n",
       "\n",
       "  ndmi_city  ndmi_res                                      ndvi_geometry  \\\n",
       "0      CDMX        11  0103000020E61000000100000007000000E0B007321FCD...   \n",
       "1      CDMX        11  0103000020E61000000100000007000000F3B3CE40BAC9...   \n",
       "2      CDMX        11  0103000020E61000000100000007000000D92B1B5686BE...   \n",
       "3      CDMX        11  0103000020E61000000100000007000000416A9D33D1C7...   \n",
       "4      CDMX        11  0103000020E61000000100000007000000BA21EF1F92CC...   \n",
       "\n",
       "  ndvi_city  ...  ndvi_std  ndvi_median  ndvi_max  ndvi_min  ndvi_diff  \\\n",
       "0      CDMX  ...  0.131584     0.587075  0.640236  0.464376   0.175860   \n",
       "1      CDMX  ...  0.026850     0.098481  0.124901  0.075488   0.049413   \n",
       "2      CDMX  ...  0.151385     0.261043  0.552578  0.158823   0.393755   \n",
       "3      CDMX  ...  0.039913     0.179176  0.195820  0.146073   0.049747   \n",
       "4      CDMX  ...  0.081157     0.329026  0.366904  0.261683   0.105221   \n",
       "\n",
       "   ndvi_tend  ndmi_mean  ndmi_median  ndmi_diff  temp_diff_mean  \n",
       "0  -0.004680   0.118150     0.113173   0.064039       -2.454085  \n",
       "1  -0.000931  -0.039512    -0.044277   0.035820        6.429949  \n",
       "2  -0.002555  -0.045970    -0.085946   0.311650        4.900867  \n",
       "3  -0.001234  -0.008248    -0.009907   0.048899       -0.363037  \n",
       "4  -0.003058   0.011501     0.015553   0.045284        0.228703  \n",
       "\n",
       "[5 rows x 22 columns]"
      ]
     },
     "execution_count": 34,
     "metadata": {},
     "output_type": "execute_result"
    }
   ],
   "source": [
    "num_samples = len(inter[inter['EspPublico'] == 1])\n",
    "\n",
    "# Randomly sample 203,570 hexagons with public spaces\n",
    "sample_with_public_spaces = inter[inter['EspPublico'] == 1].sample(n=num_samples, random_state=42)\n",
    "\n",
    "# Randomly sample 203,570 hexagons without public spaces\n",
    "sample_without_public_spaces = inter[inter['EspPublico'] == 0].sample(n=num_samples, random_state=42)\n",
    "\n",
    "# Concatenate the two samples to get the final subsample\n",
    "inter = pd.concat([sample_with_public_spaces, sample_without_public_spaces])\n",
    "inter.reset_index(drop = True, inplace = True)\n",
    "inter.head()"
   ]
  },
  {
   "cell_type": "code",
   "execution_count": 35,
   "id": "2289551e-366c-4fb7-8157-c67f3556d8b2",
   "metadata": {
    "tags": []
   },
   "outputs": [
    {
     "name": "stdout",
     "output_type": "stream",
     "text": [
      "Números de hexagonos sin Espacios Públicos: 695947 \n",
      "Número de Hexágonos con Espacios Públicos: 695947\n",
      "Número total de Hexágonos: 1391894\n"
     ]
    }
   ],
   "source": [
    "contador_ceros = np.sum(inter['EspPublico'] == 0)\n",
    "contador_uno = np.sum(inter['EspPublico'])\n",
    "print(f'Números de hexagonos sin Espacios Públicos: {contador_ceros} \\nNúmero de Hexágonos con Espacios Públicos: {contador_uno}\\nNúmero total de Hexágonos: {contador_ceros+contador_uno}')"
   ]
  },
  {
   "cell_type": "code",
   "execution_count": 36,
   "id": "0a87d9be-06c5-4e9f-bc3a-90b234df03ae",
   "metadata": {
    "tags": []
   },
   "outputs": [
    {
     "data": {
      "text/plain": [
       "(1391894, 22)"
      ]
     },
     "execution_count": 36,
     "metadata": {},
     "output_type": "execute_result"
    }
   ],
   "source": [
    "inter.shape"
   ]
  },
  {
   "cell_type": "markdown",
   "id": "c04cecaa-1ad4-42ea-b08a-4601eb4c141f",
   "metadata": {},
   "source": [
    "## Métodos de Clasificación"
   ]
  },
  {
   "cell_type": "code",
   "execution_count": 37,
   "id": "52f50d27-42e8-4d06-968f-85f99fbd45d3",
   "metadata": {
    "tags": []
   },
   "outputs": [],
   "source": [
    "x = inter[['ndvi_mean','ndvi_std','ndvi_median','ndvi_max','ndvi_min','ndvi_diff','ndvi_tend','ndmi_mean','ndmi_median','ndmi_diff', 'temp_diff_mean']]\n",
    "y = inter['EspPublico']"
   ]
  },
  {
   "cell_type": "code",
   "execution_count": 38,
   "id": "20c51a96-ae2c-4727-9a69-db635403eac1",
   "metadata": {
    "tags": []
   },
   "outputs": [
    {
     "data": {
      "text/plain": [
       "array([1, 0])"
      ]
     },
     "execution_count": 38,
     "metadata": {},
     "output_type": "execute_result"
    }
   ],
   "source": [
    "y.unique()"
   ]
  },
  {
   "cell_type": "markdown",
   "id": "9974aaf7-595e-450c-b771-d5b3ca983d1c",
   "metadata": {},
   "source": [
    "### Regresión Logística"
   ]
  },
  {
   "cell_type": "code",
   "execution_count": 39,
   "id": "205c3082-38b1-47d9-bd18-d63eaa8243ab",
   "metadata": {
    "tags": []
   },
   "outputs": [
    {
     "data": {
      "text/plain": [
       "\"x_train, x_test, y_train, y_test = train_test_split(x, y, test_size=0.2, random_state=42)\\n\\n# Reemplazar valores infinitos por NaN\\nx_train.replace([np.inf, -np.inf], np.nan, inplace=True)\\nx_test.replace([np.inf, -np.inf], np.nan, inplace=True)\\n\\n# Combinar x y y para eliminar filas con NaN de forma coherente\\ntrain_data = x_train.copy()\\ntrain_data['target'] = y_train  # Asegúrate de que 'target' sea el nombre de tu columna objetivo\\n\\n# Eliminar filas con NaN en el conjunto de entrenamiento\\ntrain_data.dropna(inplace=True)\\n\\n# Ahora separa de nuevo x_train y y_train\\nx_train_clean = train_data.drop(columns=['target'])\\ny_train_clean = train_data['target']\\n\\n# Hacer lo mismo para el conjunto de prueba\\ntest_data = x_test.copy()\\ntest_data['target'] = y_test\\ntest_data.dropna(inplace=True)\\n\\n# Asegurarte de que el conjunto de prueba no tenga NaN\\nx_test_clean = test_data.drop(columns=['target'])\\ny_test_clean = test_data['target']\\n\\n# Escalar los datos\\nscaler = StandardScaler()\\nx_train_scale = scaler.fit_transform(x_train_clean)\\nx_test_scale = scaler.transform(x_test_clean)\""
      ]
     },
     "execution_count": 39,
     "metadata": {},
     "output_type": "execute_result"
    }
   ],
   "source": [
    "# Suponiendo que x y y ya están definidos\n",
    "'''x_train, x_test, y_train, y_test = train_test_split(x, y, test_size=0.2, random_state=42)\n",
    "\n",
    "# Reemplazar valores infinitos por NaN\n",
    "x_train.replace([np.inf, -np.inf], np.nan, inplace=True)\n",
    "x_test.replace([np.inf, -np.inf], np.nan, inplace=True)\n",
    "\n",
    "# Combinar x y y para eliminar filas con NaN de forma coherente\n",
    "train_data = x_train.copy()\n",
    "train_data['target'] = y_train  # Asegúrate de que 'target' sea el nombre de tu columna objetivo\n",
    "\n",
    "# Eliminar filas con NaN en el conjunto de entrenamiento\n",
    "train_data.dropna(inplace=True)\n",
    "\n",
    "# Ahora separa de nuevo x_train y y_train\n",
    "x_train_clean = train_data.drop(columns=['target'])\n",
    "y_train_clean = train_data['target']\n",
    "\n",
    "# Hacer lo mismo para el conjunto de prueba\n",
    "test_data = x_test.copy()\n",
    "test_data['target'] = y_test\n",
    "test_data.dropna(inplace=True)\n",
    "\n",
    "# Asegurarte de que el conjunto de prueba no tenga NaN\n",
    "x_test_clean = test_data.drop(columns=['target'])\n",
    "y_test_clean = test_data['target']\n",
    "\n",
    "# Escalar los datos\n",
    "scaler = StandardScaler()\n",
    "x_train_scale = scaler.fit_transform(x_train_clean)\n",
    "x_test_scale = scaler.transform(x_test_clean)'''"
   ]
  },
  {
   "cell_type": "code",
   "execution_count": 40,
   "id": "f5e5e9a4-fea5-4e9e-bcb1-0c813c383a9f",
   "metadata": {
    "tags": []
   },
   "outputs": [
    {
     "data": {
      "text/plain": [
       "'clf = LogisticRegression()\\nclf.fit(x_train_scale, y_train_clean)\\n\\ny_pred = clf.predict(x_test_scale)\\n\\n#Generar matriz de confusión:\\ncm = confusion_matrix(y_test_clean, y_pred)\\nclass_labels = [\\'Espacio Público\\', \\'No Espacio Público\\']\\n\\nplt.figure(figsize=(10, 7))\\nsns.heatmap(cm, annot=True, fmt=\"g\", cmap=\"Blues\", xticklabels=class_labels, yticklabels=class_labels)\\nplt.xlabel(\\'Predicted\\', fontsize=12, fontweight=\\'bold\\')\\nplt.ylabel(\\'Actual\\', fontsize=12, fontweight=\\'bold\\')\\nplt.title(\\'Matriz de Confusión\\', fontsize=15, fontweight=\\'bold\\')\\nplt.show()'"
      ]
     },
     "execution_count": 40,
     "metadata": {},
     "output_type": "execute_result"
    }
   ],
   "source": [
    "'''clf = LogisticRegression()\n",
    "clf.fit(x_train_scale, y_train_clean)\n",
    "\n",
    "y_pred = clf.predict(x_test_scale)\n",
    "\n",
    "#Generar matriz de confusión:\n",
    "cm = confusion_matrix(y_test_clean, y_pred)\n",
    "class_labels = ['Espacio Público', 'No Espacio Público']\n",
    "\n",
    "plt.figure(figsize=(10, 7))\n",
    "sns.heatmap(cm, annot=True, fmt=\"g\", cmap=\"Blues\", xticklabels=class_labels, yticklabels=class_labels)\n",
    "plt.xlabel('Predicted', fontsize=12, fontweight='bold')\n",
    "plt.ylabel('Actual', fontsize=12, fontweight='bold')\n",
    "plt.title('Matriz de Confusión', fontsize=15, fontweight='bold')\n",
    "plt.show()'''"
   ]
  },
  {
   "cell_type": "code",
   "execution_count": 41,
   "id": "f440316e-95a3-4a9d-bc3a-ec6d95636dc4",
   "metadata": {
    "tags": []
   },
   "outputs": [],
   "source": [
    "#accuracy = accuracy_score(y_test_clean, y_pred)\n",
    "#print(f'Accuracy: {accuracy}')"
   ]
  },
  {
   "cell_type": "code",
   "execution_count": 42,
   "id": "952dda82-c540-4a0b-8917-2dab5d3e3bb8",
   "metadata": {},
   "outputs": [],
   "source": [
    "#print(classification_report(y_test_clean, y_pred))"
   ]
  },
  {
   "cell_type": "markdown",
   "id": "81fe2e3d-e9f4-4acd-abcb-05dfd4bb7a47",
   "metadata": {},
   "source": [
    "### Naive Bayes"
   ]
  },
  {
   "cell_type": "code",
   "execution_count": 43,
   "id": "f003c2ca-c4f5-4692-b8aa-a2f735f0d411",
   "metadata": {
    "tags": []
   },
   "outputs": [],
   "source": [
    "#nb = GaussianNB()\n",
    "#nb.fit(x_train_scale, y_train_clean)"
   ]
  },
  {
   "cell_type": "code",
   "execution_count": 44,
   "id": "821887aa-6218-4d6d-b191-2d093c3fd822",
   "metadata": {
    "tags": []
   },
   "outputs": [
    {
     "data": {
      "text/plain": [
       "'y_prend = nb.predict(x_test_clean)\\ncm = confusion_matrix(y_test_clean, y_prend)\\nclass_labels = [\\'Espacio Público\\', \\'No Espacio Público\\']\\nplt.figure(figsize = (10,7))\\nsns.heatmap(cm, annot = True, fmt = \"g\", cmap=\"Reds\", xticklabels=class_labels, yticklabels=class_labels)\\nplt.xlabel(\\'Predicted\\', fontsize = 12, fontweight  = \\'bold\\')\\nplt.ylabel(\\'Actual\\', fontsize = 12, fontweight  = \\'bold\\')\\nplt.title(\\'Matriz de Confusión\\', fontsize = 15, fontweight = \\'bold\\')\\nplt.show()'"
      ]
     },
     "execution_count": 44,
     "metadata": {},
     "output_type": "execute_result"
    }
   ],
   "source": [
    "'''y_prend = nb.predict(x_test_clean)\n",
    "cm = confusion_matrix(y_test_clean, y_prend)\n",
    "class_labels = ['Espacio Público', 'No Espacio Público']\n",
    "plt.figure(figsize = (10,7))\n",
    "sns.heatmap(cm, annot = True, fmt = \"g\", cmap=\"Reds\", xticklabels=class_labels, yticklabels=class_labels)\n",
    "plt.xlabel('Predicted', fontsize = 12, fontweight  = 'bold')\n",
    "plt.ylabel('Actual', fontsize = 12, fontweight  = 'bold')\n",
    "plt.title('Matriz de Confusión', fontsize = 15, fontweight = 'bold')\n",
    "plt.show()'''"
   ]
  },
  {
   "cell_type": "code",
   "execution_count": 45,
   "id": "dd13e355-5615-4321-bd13-b098b16c8387",
   "metadata": {
    "tags": []
   },
   "outputs": [],
   "source": [
    "#accuracy = accuracy_score(y_test_clean, y_prend)\n",
    "#print(f'Accuracy: {accuracy}')"
   ]
  },
  {
   "cell_type": "code",
   "execution_count": 46,
   "id": "e4ef054f-7f21-47bd-8215-532c23cfff85",
   "metadata": {},
   "outputs": [],
   "source": [
    "#print(classification_report(y_test_clean, y_prend))"
   ]
  },
  {
   "cell_type": "markdown",
   "id": "9a7e1842-62af-4c30-88b5-622abfdf3052",
   "metadata": {},
   "source": [
    "## Random Forest Classifier (RFC)"
   ]
  },
  {
   "cell_type": "code",
   "execution_count": 47,
   "id": "bf450058-e628-4841-943d-b12180c9b92c",
   "metadata": {
    "tags": []
   },
   "outputs": [
    {
     "data": {
      "text/plain": [
       "'rf = RandomForestClassifier(n_estimators=120, random_state=42)  \\nrf.fit(x_train_scale, y_train_clean)\\n\\n# Realizar predicciones en el conjunto de prueba\\ny_predd = rf.predict(x_test_clean)'"
      ]
     },
     "execution_count": 47,
     "metadata": {},
     "output_type": "execute_result"
    }
   ],
   "source": [
    "'''rf = RandomForestClassifier(n_estimators=120, random_state=42)  \n",
    "rf.fit(x_train_scale, y_train_clean)\n",
    "\n",
    "# Realizar predicciones en el conjunto de prueba\n",
    "y_predd = rf.predict(x_test_clean)'''"
   ]
  },
  {
   "cell_type": "code",
   "execution_count": 48,
   "id": "4389a3e8-3c03-40f4-b525-31ed8ca8c76a",
   "metadata": {
    "tags": []
   },
   "outputs": [
    {
     "data": {
      "text/plain": [
       "'cm = confusion_matrix(y_test_clean, y_predd)\\nclass_labels = [\\'Espacio Verde Público\\', \\'No Espacio Verde Público\\']\\nplt.figure(figsize = (10,7))\\nsns.heatmap(cm, annot = True, fmt = \"g\", cmap=\"Greens\", xticklabels=class_labels, yticklabels=class_labels)\\nplt.xlabel(\\'Predicted\\', fontsize = 12, fontweight  = \\'bold\\')\\nplt.ylabel(\\'Actual\\', fontsize = 12, fontweight  = \\'bold\\')\\nplt.title(\\'Matriz de Confusión\\', fontsize = 15, fontweight = \\'bold\\')\\nplt.show()'"
      ]
     },
     "execution_count": 48,
     "metadata": {},
     "output_type": "execute_result"
    }
   ],
   "source": [
    "'''cm = confusion_matrix(y_test_clean, y_predd)\n",
    "class_labels = ['Espacio Verde Público', 'No Espacio Verde Público']\n",
    "plt.figure(figsize = (10,7))\n",
    "sns.heatmap(cm, annot = True, fmt = \"g\", cmap=\"Greens\", xticklabels=class_labels, yticklabels=class_labels)\n",
    "plt.xlabel('Predicted', fontsize = 12, fontweight  = 'bold')\n",
    "plt.ylabel('Actual', fontsize = 12, fontweight  = 'bold')\n",
    "plt.title('Matriz de Confusión', fontsize = 15, fontweight = 'bold')\n",
    "plt.show()'''"
   ]
  },
  {
   "cell_type": "code",
   "execution_count": 49,
   "id": "51dddfd1-2959-4346-b298-c1bb9db55347",
   "metadata": {
    "tags": []
   },
   "outputs": [],
   "source": [
    "#accuracy = accuracy_score(y_test_clean, y_predd)\n",
    "#print(f'Accuracy: {accuracy}')"
   ]
  },
  {
   "cell_type": "code",
   "execution_count": 50,
   "id": "2d6f15c7-f2a2-4297-a4bd-84ba4564d5eb",
   "metadata": {},
   "outputs": [],
   "source": [
    "#print(classification_report(y_test_clean, y_predd))"
   ]
  },
  {
   "cell_type": "markdown",
   "id": "e2a8c80b-af1c-4a8f-8944-ca5f61153097",
   "metadata": {},
   "source": [
    "## Ada Boost Classifier"
   ]
  },
  {
   "cell_type": "code",
   "execution_count": 51,
   "id": "7c925553-da72-4278-913b-f0fd75f2a741",
   "metadata": {},
   "outputs": [],
   "source": [
    "#model = AdaBoostClassifier(n_estimators = 1)\n",
    "#model.fit(x_train_scale, y_train_clean)"
   ]
  },
  {
   "cell_type": "code",
   "execution_count": 52,
   "id": "4e447d52-8bf6-4474-b935-0251afaf1c2c",
   "metadata": {},
   "outputs": [],
   "source": [
    "#predictions = model.predict(x_test_clean)\n",
    "#predictions"
   ]
  },
  {
   "cell_type": "code",
   "execution_count": 53,
   "id": "7a57b18c-2c70-4b8a-a261-d2e862d39bf6",
   "metadata": {},
   "outputs": [
    {
     "data": {
      "text/plain": [
       "'cm = confusion_matrix(y_test_clean, predictions)\\nclass_labels = [\\'Espacio Verde Público\\', \\'No Espacio Verde Público\\']\\nplt.figure(figsize = (10,7))\\nsns.heatmap(cm, annot = True, fmt = \"g\", cmap=\"viridis\", xticklabels=class_labels, yticklabels=class_labels)\\nplt.xlabel(\\'Predicted\\', fontsize = 12, fontweight  = \\'bold\\')\\nplt.ylabel(\\'Actual\\', fontsize = 12, fontweight  = \\'bold\\')\\nplt.title(\\'Matriz de Confusión\\', fontsize = 15, fontweight = \\'bold\\')\\nplt.show()'"
      ]
     },
     "execution_count": 53,
     "metadata": {},
     "output_type": "execute_result"
    }
   ],
   "source": [
    "'''cm = confusion_matrix(y_test_clean, predictions)\n",
    "class_labels = ['Espacio Verde Público', 'No Espacio Verde Público']\n",
    "plt.figure(figsize = (10,7))\n",
    "sns.heatmap(cm, annot = True, fmt = \"g\", cmap=\"viridis\", xticklabels=class_labels, yticklabels=class_labels)\n",
    "plt.xlabel('Predicted', fontsize = 12, fontweight  = 'bold')\n",
    "plt.ylabel('Actual', fontsize = 12, fontweight  = 'bold')\n",
    "plt.title('Matriz de Confusión', fontsize = 15, fontweight = 'bold')\n",
    "plt.show()'''"
   ]
  },
  {
   "cell_type": "code",
   "execution_count": 54,
   "id": "ba5a9c60-b6e8-4ac0-a7a9-a8e971ecbcc3",
   "metadata": {},
   "outputs": [],
   "source": [
    "#print(classification_report(y_test_clean, predictions))"
   ]
  },
  {
   "cell_type": "code",
   "execution_count": 55,
   "id": "29369e79-0fdc-4c56-8a8b-075f0762c870",
   "metadata": {},
   "outputs": [],
   "source": [
    "#accuracy = accuracy_score(y_test_clean, predictions)\n",
    "#print(f'Accuracy: {accuracy}')"
   ]
  },
  {
   "cell_type": "markdown",
   "id": "c117e96f-adae-4718-9af0-5b5e03696ad8",
   "metadata": {},
   "source": [
    "## XGBClassifier"
   ]
  },
  {
   "cell_type": "code",
   "execution_count": 56,
   "id": "449d07e1-221c-438a-88e6-e235c97ce2da",
   "metadata": {},
   "outputs": [],
   "source": [
    "#model2 = xgb.XGBClassifier()\n",
    "#model2.fit(x_train_scale, y_train_clean)"
   ]
  },
  {
   "cell_type": "code",
   "execution_count": 57,
   "id": "a5d8edcb-9c2c-4dbd-b919-ee35ce27ec6c",
   "metadata": {},
   "outputs": [],
   "source": [
    "#predictions2 = model2.predict(x_test_clean)\n",
    "#predictions2"
   ]
  },
  {
   "cell_type": "code",
   "execution_count": 58,
   "id": "f7c2df5b-e05c-439d-bae7-8bf5a1431c79",
   "metadata": {},
   "outputs": [
    {
     "data": {
      "text/plain": [
       "'cm = confusion_matrix(y_test_clean, predictions2)\\nclass_labels = [\\'Espacio Verde Público\\', \\'No Espacio Verde Público\\']\\nplt.figure(figsize = (10,7))\\nsns.heatmap(cm, annot = True, fmt = \"g\", cmap=\"rainbow\", xticklabels=class_labels, yticklabels=class_labels)\\nplt.xlabel(\\'Predicted\\', fontsize = 12, fontweight  = \\'bold\\')\\nplt.ylabel(\\'Actual\\', fontsize = 12, fontweight  = \\'bold\\')\\nplt.title(\\'Matriz de Confusión\\', fontsize = 15, fontweight = \\'bold\\')\\nplt.show()'"
      ]
     },
     "execution_count": 58,
     "metadata": {},
     "output_type": "execute_result"
    }
   ],
   "source": [
    "'''cm = confusion_matrix(y_test_clean, predictions2)\n",
    "class_labels = ['Espacio Verde Público', 'No Espacio Verde Público']\n",
    "plt.figure(figsize = (10,7))\n",
    "sns.heatmap(cm, annot = True, fmt = \"g\", cmap=\"rainbow\", xticklabels=class_labels, yticklabels=class_labels)\n",
    "plt.xlabel('Predicted', fontsize = 12, fontweight  = 'bold')\n",
    "plt.ylabel('Actual', fontsize = 12, fontweight  = 'bold')\n",
    "plt.title('Matriz de Confusión', fontsize = 15, fontweight = 'bold')\n",
    "plt.show()'''"
   ]
  },
  {
   "cell_type": "code",
   "execution_count": 59,
   "id": "a0be9343-4670-4e22-a0a5-6ac6acde2f37",
   "metadata": {},
   "outputs": [],
   "source": [
    "#print(classification_report(y_test_clean, predictions2))"
   ]
  },
  {
   "cell_type": "code",
   "execution_count": 60,
   "id": "6d94804f-6815-4813-9a22-888c654c4fd8",
   "metadata": {},
   "outputs": [],
   "source": [
    "#accuracy = accuracy_score(y_test_clean, predictions2)\n",
    "#print(f'Accuracy: {accuracy}')"
   ]
  },
  {
   "cell_type": "markdown",
   "id": "7aab2964-bd82-46a4-9df0-704c12f35e44",
   "metadata": {},
   "source": [
    "## Decision Tree Classification"
   ]
  },
  {
   "cell_type": "code",
   "execution_count": 61,
   "id": "b276816e-2412-451b-8f1e-ac2499da7a7c",
   "metadata": {},
   "outputs": [],
   "source": [
    "from sklearn.tree import DecisionTreeClassifier"
   ]
  },
  {
   "cell_type": "code",
   "execution_count": 62,
   "id": "6e8ed520-c69e-48a5-90b2-c88f7cf06ad8",
   "metadata": {},
   "outputs": [],
   "source": [
    "#model3 = DecisionTreeClassifier()\n",
    "#model3.fit(x_train_scale, y_train_clean)"
   ]
  },
  {
   "cell_type": "code",
   "execution_count": 63,
   "id": "86572939-27ab-4a20-867d-14bcf07fecbe",
   "metadata": {},
   "outputs": [],
   "source": [
    "#predictions3 = model3.predict(x_test_clean)\n",
    "#predictions3"
   ]
  },
  {
   "cell_type": "code",
   "execution_count": 64,
   "id": "e2fef2f7-8321-4636-9a14-c42fcd233e9b",
   "metadata": {},
   "outputs": [
    {
     "data": {
      "text/plain": [
       "'cm = confusion_matrix(y_test_clean, predictions3)\\nclass_labels = [\\'Espacio Verde Público\\', \\'No Espacio Verde Público\\']\\nplt.figure(figsize = (10,7))\\nsns.heatmap(cm, annot = True, fmt = \"g\", cmap=\"jet\", xticklabels=class_labels, yticklabels=class_labels)\\nplt.xlabel(\\'Predicted\\', fontsize = 12, fontweight  = \\'bold\\')\\nplt.ylabel(\\'Actual\\', fontsize = 12, fontweight  = \\'bold\\')\\nplt.title(\\'Matriz de Confusión\\', fontsize = 15, fontweight = \\'bold\\')\\nplt.show()'"
      ]
     },
     "execution_count": 64,
     "metadata": {},
     "output_type": "execute_result"
    }
   ],
   "source": [
    "'''cm = confusion_matrix(y_test_clean, predictions3)\n",
    "class_labels = ['Espacio Verde Público', 'No Espacio Verde Público']\n",
    "plt.figure(figsize = (10,7))\n",
    "sns.heatmap(cm, annot = True, fmt = \"g\", cmap=\"jet\", xticklabels=class_labels, yticklabels=class_labels)\n",
    "plt.xlabel('Predicted', fontsize = 12, fontweight  = 'bold')\n",
    "plt.ylabel('Actual', fontsize = 12, fontweight  = 'bold')\n",
    "plt.title('Matriz de Confusión', fontsize = 15, fontweight = 'bold')\n",
    "plt.show()'''"
   ]
  },
  {
   "cell_type": "code",
   "execution_count": 65,
   "id": "86f27604-889d-454a-96f6-44d839fe7e01",
   "metadata": {},
   "outputs": [],
   "source": [
    "#print(classification_report(y_test_clean, predictions3))"
   ]
  },
  {
   "cell_type": "code",
   "execution_count": 66,
   "id": "d76d7151-3115-456e-9f33-3fd723be0f9b",
   "metadata": {},
   "outputs": [],
   "source": [
    "#accuracy = accuracy_score(y_test_clean, predictions3)\n",
    "#print(f'Accuracy: {accuracy}')"
   ]
  },
  {
   "cell_type": "markdown",
   "id": "3198ac8b-288c-42af-9b37-e8f88aeb89f8",
   "metadata": {},
   "source": [
    "## Clasificador con población."
   ]
  },
  {
   "cell_type": "code",
   "execution_count": 67,
   "id": "c76bfe14-0e31-4435-8b82-22cd41ee4723",
   "metadata": {},
   "outputs": [
    {
     "data": {
      "text/plain": [
       "'import psycopg2\\n\\n# Conectar a la base de datos\\nconn = psycopg2.connect(\\n    host = \"hippocampus.cswst4rid7eb.us-east-2.rds.amazonaws.com\",\\n    database = \"postgres\",\\n    user= \"odc_writer\",\\n    password = \"writejacobs1918\"\\n)\\n\\ncur = conn.cursor()\\n\\n# Ejecutar la consulta para obtener el esquema de la tabla\\ntable_name = \\'hex_censo_mza_2020_res9\\'\\ncur.execute(f\"\"\"\\n    SELECT table_schema\\n    FROM information_schema.tables\\n    WHERE table_name = \\'{table_name}\\';\\n\"\"\")\\n\\n# Obtener los resultados\\nschema = cur.fetchone()\\nprint(f\"El esquema de la tabla {table_name} es: {schema[0]}\")\\n\\ncur.close()\\nconn.close()'"
      ]
     },
     "execution_count": 67,
     "metadata": {},
     "output_type": "execute_result"
    }
   ],
   "source": [
    "'''import psycopg2\n",
    "\n",
    "# Conectar a la base de datos\n",
    "conn = psycopg2.connect(\n",
    "    host = \"hippocampus.cswst4rid7eb.us-east-2.rds.amazonaws.com\",\n",
    "    database = \"postgres\",\n",
    "    user= \"odc_writer\",\n",
    "    password = \"writejacobs1918\"\n",
    ")\n",
    "\n",
    "cur = conn.cursor()\n",
    "\n",
    "# Ejecutar la consulta para obtener el esquema de la tabla\n",
    "table_name = 'hex_censo_mza_2020_res9'\n",
    "cur.execute(f\"\"\"\n",
    "    SELECT table_schema\n",
    "    FROM information_schema.tables\n",
    "    WHERE table_name = '{table_name}';\n",
    "\"\"\")\n",
    "\n",
    "# Obtener los resultados\n",
    "schema = cur.fetchone()\n",
    "print(f\"El esquema de la tabla {table_name} es: {schema[0]}\")\n",
    "\n",
    "cur.close()\n",
    "conn.close()'''"
   ]
  },
  {
   "cell_type": "code",
   "execution_count": 68,
   "id": "3a341adb-233d-4331-aa91-23c29a832e64",
   "metadata": {},
   "outputs": [
    {
     "data": {
      "text/html": [
       "<div>\n",
       "<style scoped>\n",
       "    .dataframe tbody tr th:only-of-type {\n",
       "        vertical-align: middle;\n",
       "    }\n",
       "\n",
       "    .dataframe tbody tr th {\n",
       "        vertical-align: top;\n",
       "    }\n",
       "\n",
       "    .dataframe thead th {\n",
       "        text-align: right;\n",
       "    }\n",
       "</style>\n",
       "<table border=\"1\" class=\"dataframe\">\n",
       "  <thead>\n",
       "    <tr style=\"text-align: right;\">\n",
       "      <th></th>\n",
       "      <th>hex_id_9</th>\n",
       "      <th>geometry</th>\n",
       "      <th>CVEGEO</th>\n",
       "      <th>NOMGEO</th>\n",
       "      <th>city</th>\n",
       "      <th>type</th>\n",
       "    </tr>\n",
       "  </thead>\n",
       "  <tbody>\n",
       "    <tr>\n",
       "      <th>0</th>\n",
       "      <td>89498c96e0bffff</td>\n",
       "      <td>POLYGON ((-103.35267 20.66765, -103.35145 20.6...</td>\n",
       "      <td>14039</td>\n",
       "      <td>Guadalajara</td>\n",
       "      <td>Guadalajara</td>\n",
       "      <td>urban</td>\n",
       "    </tr>\n",
       "    <tr>\n",
       "      <th>1</th>\n",
       "      <td>89498c960a3ffff</td>\n",
       "      <td>POLYGON ((-103.34713 20.62771, -103.34591 20.6...</td>\n",
       "      <td>14039</td>\n",
       "      <td>Guadalajara</td>\n",
       "      <td>Guadalajara</td>\n",
       "      <td>urban</td>\n",
       "    </tr>\n",
       "    <tr>\n",
       "      <th>2</th>\n",
       "      <td>89498c97333ffff</td>\n",
       "      <td>POLYGON ((-103.27379 20.66284, -103.27257 20.6...</td>\n",
       "      <td>14039</td>\n",
       "      <td>Guadalajara</td>\n",
       "      <td>Guadalajara</td>\n",
       "      <td>urban</td>\n",
       "    </tr>\n",
       "    <tr>\n",
       "      <th>3</th>\n",
       "      <td>89498c96063ffff</td>\n",
       "      <td>POLYGON ((-103.33352 20.63689, -103.33230 20.6...</td>\n",
       "      <td>14039</td>\n",
       "      <td>Guadalajara</td>\n",
       "      <td>Guadalajara</td>\n",
       "      <td>urban</td>\n",
       "    </tr>\n",
       "    <tr>\n",
       "      <th>4</th>\n",
       "      <td>89498c95cb3ffff</td>\n",
       "      <td>POLYGON ((-103.29386 20.71601, -103.29264 20.7...</td>\n",
       "      <td>14039</td>\n",
       "      <td>Guadalajara</td>\n",
       "      <td>Guadalajara</td>\n",
       "      <td>urban</td>\n",
       "    </tr>\n",
       "  </tbody>\n",
       "</table>\n",
       "</div>"
      ],
      "text/plain": [
       "          hex_id_9                                           geometry CVEGEO  \\\n",
       "0  89498c96e0bffff  POLYGON ((-103.35267 20.66765, -103.35145 20.6...  14039   \n",
       "1  89498c960a3ffff  POLYGON ((-103.34713 20.62771, -103.34591 20.6...  14039   \n",
       "2  89498c97333ffff  POLYGON ((-103.27379 20.66284, -103.27257 20.6...  14039   \n",
       "3  89498c96063ffff  POLYGON ((-103.33352 20.63689, -103.33230 20.6...  14039   \n",
       "4  89498c95cb3ffff  POLYGON ((-103.29386 20.71601, -103.29264 20.7...  14039   \n",
       "\n",
       "        NOMGEO         city   type  \n",
       "0  Guadalajara  Guadalajara  urban  \n",
       "1  Guadalajara  Guadalajara  urban  \n",
       "2  Guadalajara  Guadalajara  urban  \n",
       "3  Guadalajara  Guadalajara  urban  \n",
       "4  Guadalajara  Guadalajara  urban  "
      ]
     },
     "execution_count": 68,
     "metadata": {},
     "output_type": "execute_result"
    }
   ],
   "source": [
    "hex_schema_mza = \"censo\"\n",
    "hex_schema_pob = \"hexgrid\"\n",
    "hex_table_pob = \"hexgrid_9_city_2020\"\n",
    "hex_table_mza = \"hex_censo_mza_2020_res9\"\n",
    "c1 = 'Guadalajara'\n",
    "c2 = 'CDMX'\n",
    "n = \"9\"\n",
    "t = \"urban\"\n",
    "\n",
    "#Consulta para la tabla de población (solo tipo urbano y ciudades seleccionadas):\n",
    "query_pob = f\"\"\"\n",
    "SELECT * \n",
    "FROM {hex_schema_pob}.{hex_table_pob} \n",
    "WHERE city IN ('{c1}', '{c2}') \n",
    "AND type = '{t}'\n",
    "\"\"\"\n",
    "\n",
    "hex_gdl_pob = aup.gdf_from_query(query_pob, geometry_col='geometry')\n",
    "hex_gdl_pob.head(5)"
   ]
  },
  {
   "cell_type": "code",
   "execution_count": 69,
   "id": "b9fae2dc-cffb-41b4-af29-06e3ba7e87f9",
   "metadata": {},
   "outputs": [
    {
     "data": {
      "text/plain": [
       "'import psycopg2\\n\\nconn = psycopg2.connect(\\n    host=\"hippocampus.cswst4rid7eb.us-east-2.rds.amazonaws.com\",\\n    database=\"postgres\",\\n    user=\"odc_writer\",\\n    password=\"writejacobs1918\"\\n)\\n\\ncur = conn.cursor()\\n\\ntable_name = \\'hex_censo_mza_2020_res9\\'\\n\\ncur.execute(f\"\"\"\\n    SELECT column_name\\n    FROM information_schema.columns\\n    WHERE table_name = \\'{table_name}\\';\\n\"\"\")\\n\\ncolumns = cur.fetchall()\\nfor column in columns:\\n    print(column[0])\\n\\n# Cerrar cursor y conexión\\ncur.close()\\nconn.close()'"
      ]
     },
     "execution_count": 69,
     "metadata": {},
     "output_type": "execute_result"
    }
   ],
   "source": [
    "'''import psycopg2\n",
    "\n",
    "conn = psycopg2.connect(\n",
    "    host=\"hippocampus.cswst4rid7eb.us-east-2.rds.amazonaws.com\",\n",
    "    database=\"postgres\",\n",
    "    user=\"odc_writer\",\n",
    "    password=\"writejacobs1918\"\n",
    ")\n",
    "\n",
    "cur = conn.cursor()\n",
    "\n",
    "table_name = 'hex_censo_mza_2020_res9'\n",
    "\n",
    "cur.execute(f\"\"\"\n",
    "    SELECT column_name\n",
    "    FROM information_schema.columns\n",
    "    WHERE table_name = '{table_name}';\n",
    "\"\"\")\n",
    "\n",
    "columns = cur.fetchall()\n",
    "for column in columns:\n",
    "    print(column[0])\n",
    "\n",
    "# Cerrar cursor y conexión\n",
    "cur.close()\n",
    "conn.close()'''\n",
    "\n"
   ]
  },
  {
   "cell_type": "code",
   "execution_count": 70,
   "id": "9f99d712-d8ec-48f8-9a12-a6d6e36db1bf",
   "metadata": {},
   "outputs": [],
   "source": [
    "#Consulta para la tabla de manzanas (solo ciudades seleccionadas):\n",
    "query_mza = f\"\"\"\n",
    "SELECT hex_id_9, pobtot, geometry\n",
    "FROM {hex_schema_mza}.{hex_table_mza} \n",
    "\"\"\"\n",
    "\n",
    "hex_gdl_mza = aup.gdf_from_query(query_mza, geometry_col='geometry')"
   ]
  },
  {
   "cell_type": "code",
   "execution_count": 71,
   "id": "3982aa00-14b6-418f-8796-26d938c7b0ff",
   "metadata": {},
   "outputs": [
    {
     "name": "stdout",
     "output_type": "stream",
     "text": [
      "(13629, 6)\n",
      "(119059, 3)\n"
     ]
    }
   ],
   "source": [
    "pob = hex_gdl_pob.shape\n",
    "mza = hex_gdl_mza.shape\n",
    "\n",
    "print(pob)\n",
    "print(mza)"
   ]
  },
  {
   "cell_type": "code",
   "execution_count": 72,
   "id": "a6fd9473-ede6-4bbb-8c5e-c8bc5c1209e6",
   "metadata": {},
   "outputs": [
    {
     "data": {
      "text/plain": [
       "array(['Guadalajara', 'CDMX'], dtype=object)"
      ]
     },
     "execution_count": 72,
     "metadata": {},
     "output_type": "execute_result"
    }
   ],
   "source": [
    "hex_gdl_pob['city'].unique()"
   ]
  },
  {
   "cell_type": "code",
   "execution_count": 73,
   "id": "7943741e-d609-4d5d-94b8-e547e183b121",
   "metadata": {},
   "outputs": [
    {
     "data": {
      "text/html": [
       "<div>\n",
       "<style scoped>\n",
       "    .dataframe tbody tr th:only-of-type {\n",
       "        vertical-align: middle;\n",
       "    }\n",
       "\n",
       "    .dataframe tbody tr th {\n",
       "        vertical-align: top;\n",
       "    }\n",
       "\n",
       "    .dataframe thead th {\n",
       "        text-align: right;\n",
       "    }\n",
       "</style>\n",
       "<table border=\"1\" class=\"dataframe\">\n",
       "  <thead>\n",
       "    <tr style=\"text-align: right;\">\n",
       "      <th></th>\n",
       "      <th>hex_id_9</th>\n",
       "      <th>city</th>\n",
       "      <th>type</th>\n",
       "      <th>pobtot</th>\n",
       "      <th>geometry</th>\n",
       "    </tr>\n",
       "  </thead>\n",
       "  <tbody>\n",
       "    <tr>\n",
       "      <th>0</th>\n",
       "      <td>894995b1507ffff</td>\n",
       "      <td>CDMX</td>\n",
       "      <td>urban</td>\n",
       "      <td>1159.0</td>\n",
       "      <td>POLYGON ((-99.26246 19.38575, -99.26122 19.387...</td>\n",
       "    </tr>\n",
       "    <tr>\n",
       "      <th>1</th>\n",
       "      <td>894995b2277ffff</td>\n",
       "      <td>CDMX</td>\n",
       "      <td>urban</td>\n",
       "      <td>736.0</td>\n",
       "      <td>POLYGON ((-99.30773 19.34790, -99.30650 19.349...</td>\n",
       "    </tr>\n",
       "    <tr>\n",
       "      <th>2</th>\n",
       "      <td>89499584547ffff</td>\n",
       "      <td>CDMX</td>\n",
       "      <td>urban</td>\n",
       "      <td>1265.0</td>\n",
       "      <td>POLYGON ((-99.17964 19.28341, -99.17841 19.284...</td>\n",
       "    </tr>\n",
       "    <tr>\n",
       "      <th>3</th>\n",
       "      <td>8949958cc9bffff</td>\n",
       "      <td>CDMX</td>\n",
       "      <td>urban</td>\n",
       "      <td>1717.0</td>\n",
       "      <td>POLYGON ((-99.04364 19.37460, -99.04240 19.376...</td>\n",
       "    </tr>\n",
       "    <tr>\n",
       "      <th>4</th>\n",
       "      <td>89499585e13ffff</td>\n",
       "      <td>CDMX</td>\n",
       "      <td>urban</td>\n",
       "      <td>3163.0</td>\n",
       "      <td>POLYGON ((-99.11471 19.32935, -99.11347 19.330...</td>\n",
       "    </tr>\n",
       "  </tbody>\n",
       "</table>\n",
       "</div>"
      ],
      "text/plain": [
       "          hex_id_9  city   type  pobtot  \\\n",
       "0  894995b1507ffff  CDMX  urban  1159.0   \n",
       "1  894995b2277ffff  CDMX  urban   736.0   \n",
       "2  89499584547ffff  CDMX  urban  1265.0   \n",
       "3  8949958cc9bffff  CDMX  urban  1717.0   \n",
       "4  89499585e13ffff  CDMX  urban  3163.0   \n",
       "\n",
       "                                            geometry  \n",
       "0  POLYGON ((-99.26246 19.38575, -99.26122 19.387...  \n",
       "1  POLYGON ((-99.30773 19.34790, -99.30650 19.349...  \n",
       "2  POLYGON ((-99.17964 19.28341, -99.17841 19.284...  \n",
       "3  POLYGON ((-99.04364 19.37460, -99.04240 19.376...  \n",
       "4  POLYGON ((-99.11471 19.32935, -99.11347 19.330...  "
      ]
     },
     "execution_count": 73,
     "metadata": {},
     "output_type": "execute_result"
    }
   ],
   "source": [
    "hex_schema_mza = \"censo\"\n",
    "hex_schema_pob = \"hexgrid\"\n",
    "hex_table_pob = \"hexgrid_9_city_2020\"\n",
    "hex_table_mza = \"hex_censo_mza_2020_res9\"\n",
    "c1 = 'Guadalajara'\n",
    "c2 = 'CDMX'\n",
    "t = \"urban\"\n",
    "\n",
    "\n",
    "query_join = f\"\"\"\n",
    "SELECT pob.hex_id_9, pob.city, pob.type, mza.pobtot, mza.geometry\n",
    "FROM {hex_schema_pob}.{hex_table_pob} pob\n",
    "INNER JOIN {hex_schema_mza}.{hex_table_mza} mza\n",
    "ON pob.hex_id_9 = mza.hex_id_9\n",
    "WHERE pob.city IN ('{c1}', '{c2}') \n",
    "AND pob.type = '{t}'\n",
    "\"\"\"\n",
    "\n",
    "hex_gdl_join = aup.gdf_from_query(query_join, geometry_col='geometry')\n",
    "\n",
    "hex_gdl_join.head(5)\n"
   ]
  },
  {
   "cell_type": "code",
   "execution_count": 74,
   "id": "f4acf6eb-ea82-41e7-9764-653346eda24e",
   "metadata": {},
   "outputs": [
    {
     "name": "stdout",
     "output_type": "stream",
     "text": [
      "Número de hexágonos Gdl: 5650 \n",
      "Número de hexágonos Cdmx: 6165\n"
     ]
    }
   ],
   "source": [
    "contador_gdl_join = np.sum(hex_gdl_join['city'] == 'Guadalajara')\n",
    "contador_cdmxx_join = np.sum(hex_gdl_join['city'] == 'CDMX')\n",
    "print(f'Número de hexágonos Gdl: {contador_gdl_join} \\nNúmero de hexágonos Cdmx: {contador_cdmxx_join}')"
   ]
  },
  {
   "cell_type": "code",
   "execution_count": 75,
   "id": "01199043-d0ad-4637-9919-ace19da5c121",
   "metadata": {},
   "outputs": [
    {
     "name": "stdout",
     "output_type": "stream",
     "text": [
      "CRS of gdf_gdl: EPSG:4326\n"
     ]
    }
   ],
   "source": [
    "hex_gdl_join = hex_gdl_join.set_crs(\"EPSG:4326\", allow_override=True)\n",
    "print(\"CRS of gdf_gdl:\", gdf_gdl.crs)"
   ]
  },
  {
   "cell_type": "markdown",
   "id": "cfac3567-94ff-4ba3-804c-25bc75b03dac",
   "metadata": {},
   "source": [
    "## Dummy Variables\n",
    "1 = Hexágonos que cuentan con espacios públicos\n",
    "\n",
    "0 = Hexágonos que no cuentan con espacios públicos"
   ]
  },
  {
   "cell_type": "code",
   "execution_count": 76,
   "id": "6b627108-80a6-490e-8f5e-bfb23313bd94",
   "metadata": {},
   "outputs": [
    {
     "data": {
      "text/html": [
       "<div>\n",
       "<style scoped>\n",
       "    .dataframe tbody tr th:only-of-type {\n",
       "        vertical-align: middle;\n",
       "    }\n",
       "\n",
       "    .dataframe tbody tr th {\n",
       "        vertical-align: top;\n",
       "    }\n",
       "\n",
       "    .dataframe thead th {\n",
       "        text-align: right;\n",
       "    }\n",
       "</style>\n",
       "<table border=\"1\" class=\"dataframe\">\n",
       "  <thead>\n",
       "    <tr style=\"text-align: right;\">\n",
       "      <th></th>\n",
       "      <th>hex_id_9</th>\n",
       "      <th>city</th>\n",
       "      <th>type</th>\n",
       "      <th>pobtot</th>\n",
       "      <th>geometry</th>\n",
       "      <th>EspPublico</th>\n",
       "    </tr>\n",
       "  </thead>\n",
       "  <tbody>\n",
       "    <tr>\n",
       "      <th>0</th>\n",
       "      <td>894995b1507ffff</td>\n",
       "      <td>CDMX</td>\n",
       "      <td>urban</td>\n",
       "      <td>1159.0</td>\n",
       "      <td>POLYGON ((-99.26246 19.38575, -99.26122 19.387...</td>\n",
       "      <td>1</td>\n",
       "    </tr>\n",
       "    <tr>\n",
       "      <th>1</th>\n",
       "      <td>894995b2277ffff</td>\n",
       "      <td>CDMX</td>\n",
       "      <td>urban</td>\n",
       "      <td>736.0</td>\n",
       "      <td>POLYGON ((-99.30773 19.34790, -99.30650 19.349...</td>\n",
       "      <td>0</td>\n",
       "    </tr>\n",
       "    <tr>\n",
       "      <th>2</th>\n",
       "      <td>89499584547ffff</td>\n",
       "      <td>CDMX</td>\n",
       "      <td>urban</td>\n",
       "      <td>1265.0</td>\n",
       "      <td>POLYGON ((-99.17964 19.28341, -99.17841 19.284...</td>\n",
       "      <td>1</td>\n",
       "    </tr>\n",
       "    <tr>\n",
       "      <th>3</th>\n",
       "      <td>8949958cc9bffff</td>\n",
       "      <td>CDMX</td>\n",
       "      <td>urban</td>\n",
       "      <td>1717.0</td>\n",
       "      <td>POLYGON ((-99.04364 19.37460, -99.04240 19.376...</td>\n",
       "      <td>1</td>\n",
       "    </tr>\n",
       "    <tr>\n",
       "      <th>4</th>\n",
       "      <td>89499585e13ffff</td>\n",
       "      <td>CDMX</td>\n",
       "      <td>urban</td>\n",
       "      <td>3163.0</td>\n",
       "      <td>POLYGON ((-99.11471 19.32935, -99.11347 19.330...</td>\n",
       "      <td>1</td>\n",
       "    </tr>\n",
       "  </tbody>\n",
       "</table>\n",
       "</div>"
      ],
      "text/plain": [
       "          hex_id_9  city   type  pobtot  \\\n",
       "0  894995b1507ffff  CDMX  urban  1159.0   \n",
       "1  894995b2277ffff  CDMX  urban   736.0   \n",
       "2  89499584547ffff  CDMX  urban  1265.0   \n",
       "3  8949958cc9bffff  CDMX  urban  1717.0   \n",
       "4  89499585e13ffff  CDMX  urban  3163.0   \n",
       "\n",
       "                                            geometry  EspPublico  \n",
       "0  POLYGON ((-99.26246 19.38575, -99.26122 19.387...           1  \n",
       "1  POLYGON ((-99.30773 19.34790, -99.30650 19.349...           0  \n",
       "2  POLYGON ((-99.17964 19.28341, -99.17841 19.284...           1  \n",
       "3  POLYGON ((-99.04364 19.37460, -99.04240 19.376...           1  \n",
       "4  POLYGON ((-99.11471 19.32935, -99.11347 19.330...           1  "
      ]
     },
     "execution_count": 76,
     "metadata": {},
     "output_type": "execute_result"
    }
   ],
   "source": [
    "gdf_sindex = gdf.sindex\n",
    "\n",
    "# Create a Series of boolean values indicating which hexagons intersect with public spaces\n",
    "intersects_public_spaces = hex_gdl_join['geometry'].apply(lambda geom: any(gdf_sindex.query(geom)))\n",
    "\n",
    "hex_gdl_join['EspPublico'] = intersects_public_spaces.astype(int)\n",
    "hex_gdl_join.head()"
   ]
  },
  {
   "cell_type": "code",
   "execution_count": 77,
   "id": "f7c5192a-b58c-4a4b-ba68-9c65e939e0ef",
   "metadata": {},
   "outputs": [
    {
     "name": "stdout",
     "output_type": "stream",
     "text": [
      "Números de hexagonos sin Espacios Públicos: 7364 \n",
      "Número de Hexágonos con Espacios Públicos: 4451\n",
      "Número total de Hexágonos: 11815\n"
     ]
    }
   ],
   "source": [
    "contador_ceros_join = np.sum(hex_gdl_join['EspPublico'] == 0)\n",
    "contador_uno_join = np.sum(hex_gdl_join['EspPublico'])\n",
    "print(f'Números de hexagonos sin Espacios Públicos: {contador_ceros_join} \\nNúmero de Hexágonos con Espacios Públicos: {contador_uno_join}\\nNúmero total de Hexágonos: {contador_ceros_join + contador_uno_join}')"
   ]
  },
  {
   "cell_type": "markdown",
   "id": "4d99a66a-6ed1-40fe-92fc-38418448849a",
   "metadata": {},
   "source": [
    "## Intersección espacial"
   ]
  },
  {
   "cell_type": "code",
   "execution_count": 78,
   "id": "bbf44f7c-8a5e-44bf-b02b-18de136c5b0c",
   "metadata": {},
   "outputs": [
    {
     "data": {
      "text/plain": [
       "hex_id_9      0\n",
       "city          0\n",
       "type          0\n",
       "pobtot        0\n",
       "geometry      0\n",
       "EspPublico    0\n",
       "dtype: int64"
      ]
     },
     "execution_count": 78,
     "metadata": {},
     "output_type": "execute_result"
    }
   ],
   "source": [
    "pd.isna(hex_gdl_join).sum()"
   ]
  },
  {
   "cell_type": "code",
   "execution_count": 79,
   "id": "d052bfc2-8d5e-407e-859b-988a40718f65",
   "metadata": {},
   "outputs": [],
   "source": [
    "hex_gdl_pob = hex_gdl_pob.set_crs(\"EPSG:4326\")\n",
    "hex_gdl_mza = hex_gdl_mza.set_crs(\"EPSG:4326\")"
   ]
  },
  {
   "cell_type": "code",
   "execution_count": 80,
   "id": "f3655795-ba92-4c40-95e6-122475891e28",
   "metadata": {},
   "outputs": [
    {
     "name": "stdout",
     "output_type": "stream",
     "text": [
      "         hex_id_9_left                                           geometry  \\\n",
      "0      89498c96e0bffff  POLYGON ((-103.35267 20.66765, -103.35145 20.6...   \n",
      "82     89498c96ecfffff  POLYGON ((-103.35003 20.66229, -103.34881 20.6...   \n",
      "333    89498c96e47ffff  POLYGON ((-103.34935 20.66910, -103.34813 20.6...   \n",
      "389    89498c96e1bffff  POLYGON ((-103.35301 20.66425, -103.35179 20.6...   \n",
      "721    89498c96e57ffff  POLYGON ((-103.34969 20.66569, -103.34847 20.6...   \n",
      "...                ...                                                ...   \n",
      "13594  894995b96d3ffff  POLYGON ((-99.05118 19.43500, -99.04994 19.436...   \n",
      "13534  894995b96cfffff  POLYGON ((-99.05030 19.44172, -99.04906 19.443...   \n",
      "13550  894995b9657ffff  POLYGON ((-99.04985 19.44507, -99.04861 19.446...   \n",
      "13570  894995b96cbffff  POLYGON ((-99.04746 19.43971, -99.04622 19.441...   \n",
      "13570  894995b96cbffff  POLYGON ((-99.04746 19.43971, -99.04622 19.441...   \n",
      "\n",
      "      CVEGEO               NOMGEO         city   type  index_right  \\\n",
      "0      14039          Guadalajara  Guadalajara  urban        93772   \n",
      "82     14039          Guadalajara  Guadalajara  urban        93772   \n",
      "333    14039          Guadalajara  Guadalajara  urban        93772   \n",
      "389    14039          Guadalajara  Guadalajara  urban        93772   \n",
      "721    14039          Guadalajara  Guadalajara  urban        93772   \n",
      "...      ...                  ...          ...    ...          ...   \n",
      "13594  09017  Venustiano Carranza         CDMX  urban        65759   \n",
      "13534  09017  Venustiano Carranza         CDMX  urban        78005   \n",
      "13550  09017  Venustiano Carranza         CDMX  urban        78005   \n",
      "13570  09017  Venustiano Carranza         CDMX  urban        78005   \n",
      "13570  09017  Venustiano Carranza         CDMX  urban        72579   \n",
      "\n",
      "        hex_id_9_right  pobtot  \n",
      "0      89498c96e57ffff   975.0  \n",
      "82     89498c96e57ffff   975.0  \n",
      "333    89498c96e57ffff   975.0  \n",
      "389    89498c96e57ffff   975.0  \n",
      "721    89498c96e57ffff   975.0  \n",
      "...                ...     ...  \n",
      "13594  894995b96dbffff  1236.0  \n",
      "13534  894995b9653ffff   149.0  \n",
      "13550  894995b9653ffff   149.0  \n",
      "13570  894995b9653ffff   149.0  \n",
      "13570  8949958cb37ffff  1954.0  \n",
      "\n",
      "[80632 rows x 9 columns]\n"
     ]
    }
   ],
   "source": [
    "inter_join = gpd.sjoin(hex_gdl_pob, hex_gdl_mza, op='intersects')\n",
    "print(inter_join)"
   ]
  },
  {
   "cell_type": "code",
   "execution_count": 81,
   "id": "e34f0f5e-5e5b-42a8-b013-a87d98d855f0",
   "metadata": {},
   "outputs": [
    {
     "data": {
      "text/html": [
       "<div>\n",
       "<style scoped>\n",
       "    .dataframe tbody tr th:only-of-type {\n",
       "        vertical-align: middle;\n",
       "    }\n",
       "\n",
       "    .dataframe tbody tr th {\n",
       "        vertical-align: top;\n",
       "    }\n",
       "\n",
       "    .dataframe thead th {\n",
       "        text-align: right;\n",
       "    }\n",
       "</style>\n",
       "<table border=\"1\" class=\"dataframe\">\n",
       "  <thead>\n",
       "    <tr style=\"text-align: right;\">\n",
       "      <th></th>\n",
       "      <th>hex_id_9</th>\n",
       "      <th>geometry</th>\n",
       "      <th>CVEGEO</th>\n",
       "      <th>NOMGEO</th>\n",
       "      <th>city</th>\n",
       "      <th>type</th>\n",
       "      <th>pobtot</th>\n",
       "    </tr>\n",
       "  </thead>\n",
       "  <tbody>\n",
       "    <tr>\n",
       "      <th>0</th>\n",
       "      <td>89498c96e0bffff</td>\n",
       "      <td>POLYGON ((-103.35267 20.66765, -103.35145 20.6...</td>\n",
       "      <td>14039</td>\n",
       "      <td>Guadalajara</td>\n",
       "      <td>Guadalajara</td>\n",
       "      <td>urban</td>\n",
       "      <td>975.0</td>\n",
       "    </tr>\n",
       "    <tr>\n",
       "      <th>82</th>\n",
       "      <td>89498c96ecfffff</td>\n",
       "      <td>POLYGON ((-103.35003 20.66229, -103.34881 20.6...</td>\n",
       "      <td>14039</td>\n",
       "      <td>Guadalajara</td>\n",
       "      <td>Guadalajara</td>\n",
       "      <td>urban</td>\n",
       "      <td>975.0</td>\n",
       "    </tr>\n",
       "    <tr>\n",
       "      <th>333</th>\n",
       "      <td>89498c96e47ffff</td>\n",
       "      <td>POLYGON ((-103.34935 20.66910, -103.34813 20.6...</td>\n",
       "      <td>14039</td>\n",
       "      <td>Guadalajara</td>\n",
       "      <td>Guadalajara</td>\n",
       "      <td>urban</td>\n",
       "      <td>975.0</td>\n",
       "    </tr>\n",
       "    <tr>\n",
       "      <th>389</th>\n",
       "      <td>89498c96e1bffff</td>\n",
       "      <td>POLYGON ((-103.35301 20.66425, -103.35179 20.6...</td>\n",
       "      <td>14039</td>\n",
       "      <td>Guadalajara</td>\n",
       "      <td>Guadalajara</td>\n",
       "      <td>urban</td>\n",
       "      <td>975.0</td>\n",
       "    </tr>\n",
       "    <tr>\n",
       "      <th>721</th>\n",
       "      <td>89498c96e57ffff</td>\n",
       "      <td>POLYGON ((-103.34969 20.66569, -103.34847 20.6...</td>\n",
       "      <td>14039</td>\n",
       "      <td>Guadalajara</td>\n",
       "      <td>Guadalajara</td>\n",
       "      <td>urban</td>\n",
       "      <td>975.0</td>\n",
       "    </tr>\n",
       "  </tbody>\n",
       "</table>\n",
       "</div>"
      ],
      "text/plain": [
       "            hex_id_9                                           geometry  \\\n",
       "0    89498c96e0bffff  POLYGON ((-103.35267 20.66765, -103.35145 20.6...   \n",
       "82   89498c96ecfffff  POLYGON ((-103.35003 20.66229, -103.34881 20.6...   \n",
       "333  89498c96e47ffff  POLYGON ((-103.34935 20.66910, -103.34813 20.6...   \n",
       "389  89498c96e1bffff  POLYGON ((-103.35301 20.66425, -103.35179 20.6...   \n",
       "721  89498c96e57ffff  POLYGON ((-103.34969 20.66569, -103.34847 20.6...   \n",
       "\n",
       "    CVEGEO       NOMGEO         city   type  pobtot  \n",
       "0    14039  Guadalajara  Guadalajara  urban   975.0  \n",
       "82   14039  Guadalajara  Guadalajara  urban   975.0  \n",
       "333  14039  Guadalajara  Guadalajara  urban   975.0  \n",
       "389  14039  Guadalajara  Guadalajara  urban   975.0  \n",
       "721  14039  Guadalajara  Guadalajara  urban   975.0  "
      ]
     },
     "execution_count": 81,
     "metadata": {},
     "output_type": "execute_result"
    }
   ],
   "source": [
    "inter_join.drop(columns=['index_right', 'hex_id_9_right'], inplace=True)\n",
    "inter_join.rename(columns={\"hex_id_9_left\": \"hex_id_9\"}, inplace=True)\n",
    "inter_join.head()"
   ]
  },
  {
   "cell_type": "code",
   "execution_count": 82,
   "id": "0220b225-3aa6-4955-9136-4ff3dae72709",
   "metadata": {},
   "outputs": [
    {
     "data": {
      "text/plain": [
       "hex_id_9    0\n",
       "geometry    0\n",
       "CVEGEO      0\n",
       "NOMGEO      0\n",
       "city        0\n",
       "type        0\n",
       "pobtot      0\n",
       "dtype: int64"
      ]
     },
     "execution_count": 82,
     "metadata": {},
     "output_type": "execute_result"
    }
   ],
   "source": [
    "pd.isna(inter_join).sum()"
   ]
  },
  {
   "cell_type": "code",
   "execution_count": 83,
   "id": "1c33031b-104a-4e0a-9e3d-74d9155b44b2",
   "metadata": {},
   "outputs": [
    {
     "data": {
      "text/html": [
       "<div>\n",
       "<style scoped>\n",
       "    .dataframe tbody tr th:only-of-type {\n",
       "        vertical-align: middle;\n",
       "    }\n",
       "\n",
       "    .dataframe tbody tr th {\n",
       "        vertical-align: top;\n",
       "    }\n",
       "\n",
       "    .dataframe thead th {\n",
       "        text-align: right;\n",
       "    }\n",
       "</style>\n",
       "<table border=\"1\" class=\"dataframe\">\n",
       "  <thead>\n",
       "    <tr style=\"text-align: right;\">\n",
       "      <th></th>\n",
       "      <th>hex_id_9</th>\n",
       "      <th>geometry</th>\n",
       "      <th>CVEGEO</th>\n",
       "      <th>NOMGEO</th>\n",
       "      <th>city</th>\n",
       "      <th>type</th>\n",
       "      <th>pobtot</th>\n",
       "      <th>EspPublico</th>\n",
       "    </tr>\n",
       "  </thead>\n",
       "  <tbody>\n",
       "    <tr>\n",
       "      <th>0</th>\n",
       "      <td>89498c96e0bffff</td>\n",
       "      <td>POLYGON ((-103.35267 20.66765, -103.35145 20.6...</td>\n",
       "      <td>14039</td>\n",
       "      <td>Guadalajara</td>\n",
       "      <td>Guadalajara</td>\n",
       "      <td>urban</td>\n",
       "      <td>975.0</td>\n",
       "      <td>0</td>\n",
       "    </tr>\n",
       "    <tr>\n",
       "      <th>82</th>\n",
       "      <td>89498c96ecfffff</td>\n",
       "      <td>POLYGON ((-103.35003 20.66229, -103.34881 20.6...</td>\n",
       "      <td>14039</td>\n",
       "      <td>Guadalajara</td>\n",
       "      <td>Guadalajara</td>\n",
       "      <td>urban</td>\n",
       "      <td>975.0</td>\n",
       "      <td>0</td>\n",
       "    </tr>\n",
       "    <tr>\n",
       "      <th>333</th>\n",
       "      <td>89498c96e47ffff</td>\n",
       "      <td>POLYGON ((-103.34935 20.66910, -103.34813 20.6...</td>\n",
       "      <td>14039</td>\n",
       "      <td>Guadalajara</td>\n",
       "      <td>Guadalajara</td>\n",
       "      <td>urban</td>\n",
       "      <td>975.0</td>\n",
       "      <td>0</td>\n",
       "    </tr>\n",
       "    <tr>\n",
       "      <th>389</th>\n",
       "      <td>89498c96e1bffff</td>\n",
       "      <td>POLYGON ((-103.35301 20.66425, -103.35179 20.6...</td>\n",
       "      <td>14039</td>\n",
       "      <td>Guadalajara</td>\n",
       "      <td>Guadalajara</td>\n",
       "      <td>urban</td>\n",
       "      <td>975.0</td>\n",
       "      <td>0</td>\n",
       "    </tr>\n",
       "    <tr>\n",
       "      <th>721</th>\n",
       "      <td>89498c96e57ffff</td>\n",
       "      <td>POLYGON ((-103.34969 20.66569, -103.34847 20.6...</td>\n",
       "      <td>14039</td>\n",
       "      <td>Guadalajara</td>\n",
       "      <td>Guadalajara</td>\n",
       "      <td>urban</td>\n",
       "      <td>975.0</td>\n",
       "      <td>0</td>\n",
       "    </tr>\n",
       "  </tbody>\n",
       "</table>\n",
       "</div>"
      ],
      "text/plain": [
       "            hex_id_9                                           geometry  \\\n",
       "0    89498c96e0bffff  POLYGON ((-103.35267 20.66765, -103.35145 20.6...   \n",
       "82   89498c96ecfffff  POLYGON ((-103.35003 20.66229, -103.34881 20.6...   \n",
       "333  89498c96e47ffff  POLYGON ((-103.34935 20.66910, -103.34813 20.6...   \n",
       "389  89498c96e1bffff  POLYGON ((-103.35301 20.66425, -103.35179 20.6...   \n",
       "721  89498c96e57ffff  POLYGON ((-103.34969 20.66569, -103.34847 20.6...   \n",
       "\n",
       "    CVEGEO       NOMGEO         city   type  pobtot  EspPublico  \n",
       "0    14039  Guadalajara  Guadalajara  urban   975.0           0  \n",
       "82   14039  Guadalajara  Guadalajara  urban   975.0           0  \n",
       "333  14039  Guadalajara  Guadalajara  urban   975.0           0  \n",
       "389  14039  Guadalajara  Guadalajara  urban   975.0           0  \n",
       "721  14039  Guadalajara  Guadalajara  urban   975.0           0  "
      ]
     },
     "execution_count": 83,
     "metadata": {},
     "output_type": "execute_result"
    }
   ],
   "source": [
    "gdf_sindex = gdf.sindex\n",
    "\n",
    "# Create a Series of boolean values indicating which hexagons intersect with public spaces\n",
    "intersects_public_spaces = inter_join['geometry'].apply(lambda geom: any(gdf_sindex.query(geom)))\n",
    "\n",
    "inter_join['EspPublico'] = intersects_public_spaces.astype(int)\n",
    "inter_join.head()"
   ]
  },
  {
   "cell_type": "code",
   "execution_count": 84,
   "id": "0989f57a-de98-432c-b026-483cc49ada7e",
   "metadata": {},
   "outputs": [
    {
     "name": "stdout",
     "output_type": "stream",
     "text": [
      "Números de hexagonos sin Espacios Públicos: 49764 \n",
      "Número de Hexágonos con Espacios Públicos: 30868\n",
      "Número total de Hexágonos: 80632\n"
     ]
    }
   ],
   "source": [
    "cont_ceros_join = np.sum(inter_join['EspPublico'] == 0)\n",
    "cont_uno_join = np.sum(inter_join['EspPublico'])\n",
    "print(f'Números de hexagonos sin Espacios Públicos: {cont_ceros_join} \\nNúmero de Hexágonos con Espacios Públicos: {cont_uno_join}\\nNúmero total de Hexágonos: {cont_ceros_join + cont_uno_join}')"
   ]
  },
  {
   "cell_type": "markdown",
   "id": "a7c01231-bea4-45df-9976-e876b4a4eebf",
   "metadata": {},
   "source": [
    "## Submuestreo población"
   ]
  },
  {
   "cell_type": "code",
   "execution_count": 85,
   "id": "7c2f7dfa-c16c-4ce8-b82b-a9904e18dffe",
   "metadata": {},
   "outputs": [
    {
     "data": {
      "text/html": [
       "<div>\n",
       "<style scoped>\n",
       "    .dataframe tbody tr th:only-of-type {\n",
       "        vertical-align: middle;\n",
       "    }\n",
       "\n",
       "    .dataframe tbody tr th {\n",
       "        vertical-align: top;\n",
       "    }\n",
       "\n",
       "    .dataframe thead th {\n",
       "        text-align: right;\n",
       "    }\n",
       "</style>\n",
       "<table border=\"1\" class=\"dataframe\">\n",
       "  <thead>\n",
       "    <tr style=\"text-align: right;\">\n",
       "      <th></th>\n",
       "      <th>hex_id_9</th>\n",
       "      <th>geometry</th>\n",
       "      <th>CVEGEO</th>\n",
       "      <th>NOMGEO</th>\n",
       "      <th>city</th>\n",
       "      <th>type</th>\n",
       "      <th>pobtot</th>\n",
       "      <th>EspPublico</th>\n",
       "    </tr>\n",
       "  </thead>\n",
       "  <tbody>\n",
       "    <tr>\n",
       "      <th>0</th>\n",
       "      <td>8949958518bffff</td>\n",
       "      <td>POLYGON ((-99.11824 19.30248, -99.11700 19.304...</td>\n",
       "      <td>09003</td>\n",
       "      <td>Coyoacán</td>\n",
       "      <td>CDMX</td>\n",
       "      <td>urban</td>\n",
       "      <td>1007.0</td>\n",
       "      <td>1</td>\n",
       "    </tr>\n",
       "    <tr>\n",
       "      <th>1</th>\n",
       "      <td>89499585b53ffff</td>\n",
       "      <td>POLYGON ((-99.12210 19.36758, -99.12086 19.369...</td>\n",
       "      <td>09007</td>\n",
       "      <td>Iztapalapa</td>\n",
       "      <td>CDMX</td>\n",
       "      <td>urban</td>\n",
       "      <td>2065.0</td>\n",
       "      <td>1</td>\n",
       "    </tr>\n",
       "    <tr>\n",
       "      <th>2</th>\n",
       "      <td>89499585287ffff</td>\n",
       "      <td>POLYGON ((-99.08155 19.29861, -99.08031 19.300...</td>\n",
       "      <td>09007</td>\n",
       "      <td>Iztapalapa</td>\n",
       "      <td>CDMX</td>\n",
       "      <td>urban</td>\n",
       "      <td>1755.0</td>\n",
       "      <td>1</td>\n",
       "    </tr>\n",
       "    <tr>\n",
       "      <th>3</th>\n",
       "      <td>8949958eb2fffff</td>\n",
       "      <td>POLYGON ((-99.07006 19.38592, -99.06882 19.387...</td>\n",
       "      <td>09006</td>\n",
       "      <td>Iztacalco</td>\n",
       "      <td>CDMX</td>\n",
       "      <td>urban</td>\n",
       "      <td>3394.0</td>\n",
       "      <td>1</td>\n",
       "    </tr>\n",
       "    <tr>\n",
       "      <th>4</th>\n",
       "      <td>8949958455bffff</td>\n",
       "      <td>POLYGON ((-99.17397 19.27941, -99.17273 19.280...</td>\n",
       "      <td>09012</td>\n",
       "      <td>Tlalpan</td>\n",
       "      <td>CDMX</td>\n",
       "      <td>urban</td>\n",
       "      <td>1429.0</td>\n",
       "      <td>1</td>\n",
       "    </tr>\n",
       "  </tbody>\n",
       "</table>\n",
       "</div>"
      ],
      "text/plain": [
       "          hex_id_9                                           geometry CVEGEO  \\\n",
       "0  8949958518bffff  POLYGON ((-99.11824 19.30248, -99.11700 19.304...  09003   \n",
       "1  89499585b53ffff  POLYGON ((-99.12210 19.36758, -99.12086 19.369...  09007   \n",
       "2  89499585287ffff  POLYGON ((-99.08155 19.29861, -99.08031 19.300...  09007   \n",
       "3  8949958eb2fffff  POLYGON ((-99.07006 19.38592, -99.06882 19.387...  09006   \n",
       "4  8949958455bffff  POLYGON ((-99.17397 19.27941, -99.17273 19.280...  09012   \n",
       "\n",
       "       NOMGEO  city   type  pobtot  EspPublico  \n",
       "0    Coyoacán  CDMX  urban  1007.0           1  \n",
       "1  Iztapalapa  CDMX  urban  2065.0           1  \n",
       "2  Iztapalapa  CDMX  urban  1755.0           1  \n",
       "3   Iztacalco  CDMX  urban  3394.0           1  \n",
       "4     Tlalpan  CDMX  urban  1429.0           1  "
      ]
     },
     "execution_count": 85,
     "metadata": {},
     "output_type": "execute_result"
    }
   ],
   "source": [
    "num_samples_join = len(inter_join[inter_join['EspPublico'] == 1])\n",
    "\n",
    "# Randomly sample 80632 hexagons with public spaces\n",
    "sample_with_public_spaces_join = inter_join[inter_join['EspPublico'] == 1].sample(n=num_samples_join, random_state=42)\n",
    "\n",
    "# Randomly sample 80632 hexagons without public spaces\n",
    "sample_without_public_spaces_join = inter_join[inter_join['EspPublico'] == 0].sample(n=num_samples_join, random_state=42)\n",
    "\n",
    "# Concatenate the two samples to get the final subsample\n",
    "inter_join = pd.concat([sample_with_public_spaces_join, sample_without_public_spaces_join])\n",
    "inter_join.reset_index(drop = True, inplace = True)\n",
    "inter_join.head()"
   ]
  },
  {
   "cell_type": "code",
   "execution_count": 86,
   "id": "a0975d74-75ff-4515-84ae-4e477b4ec6cf",
   "metadata": {},
   "outputs": [
    {
     "name": "stdout",
     "output_type": "stream",
     "text": [
      "Números de hexagonos sin Espacios Públicos: 30868 \n",
      "Número de Hexágonos con Espacios Públicos: 30868\n",
      "Número total de Hexágonos: 61736\n"
     ]
    }
   ],
   "source": [
    "contador_ceros_join = np.sum(inter_join['EspPublico'] == 0)\n",
    "contador_uno_join = np.sum(inter_join['EspPublico'])\n",
    "print(f'Números de hexagonos sin Espacios Públicos: {contador_ceros_join} \\nNúmero de Hexágonos con Espacios Públicos: {contador_uno_join}\\nNúmero total de Hexágonos: {contador_ceros_join + contador_uno_join}')"
   ]
  },
  {
   "cell_type": "code",
   "execution_count": 87,
   "id": "28d4905b-d6c2-4320-a0c7-1d5aa4a6fa53",
   "metadata": {},
   "outputs": [
    {
     "data": {
      "text/plain": [
       "(61736, 8)"
      ]
     },
     "execution_count": 87,
     "metadata": {},
     "output_type": "execute_result"
    }
   ],
   "source": [
    "inter_join.shape"
   ]
  },
  {
   "cell_type": "markdown",
   "id": "f4db4f19-329e-40c9-8e71-6af02f3eebbb",
   "metadata": {},
   "source": [
    "## Clasificadores con población"
   ]
  },
  {
   "cell_type": "code",
   "execution_count": 88,
   "id": "9a1e84f0-61e3-4847-933d-6e60cc3d5635",
   "metadata": {},
   "outputs": [],
   "source": [
    "inter_join.drop(columns=['NOMGEO', 'CVEGEO'], inplace=True)"
   ]
  },
  {
   "cell_type": "code",
   "execution_count": 89,
   "id": "343f0cdd-0802-4763-b86c-fa94760fe833",
   "metadata": {},
   "outputs": [],
   "source": [
    "xx = inter_join[[\"pobtot\"]]\n",
    "yy = inter_join['EspPublico']"
   ]
  },
  {
   "cell_type": "code",
   "execution_count": 90,
   "id": "9f74238f-d6c1-4d57-89fc-bd10b8b2bed9",
   "metadata": {},
   "outputs": [
    {
     "data": {
      "text/plain": [
       "array([1, 0])"
      ]
     },
     "execution_count": 90,
     "metadata": {},
     "output_type": "execute_result"
    }
   ],
   "source": [
    "yy.unique()"
   ]
  },
  {
   "cell_type": "markdown",
   "id": "7bd105f0-1a09-4b33-a251-7a3bb36c513e",
   "metadata": {},
   "source": [
    "## Logistic Regression"
   ]
  },
  {
   "cell_type": "code",
   "execution_count": 91,
   "id": "3ca07da3-5f27-4400-a7ce-9ac46aaad59a",
   "metadata": {},
   "outputs": [
    {
     "data": {
      "text/plain": [
       "\"# Suponiendo que x y y ya están definidos\\nx_train, x_test, y_train, y_test = train_test_split(xx, yy, test_size=0.2, random_state=42)\\n\\n# Reemplazar valores infinitos por NaN\\nx_train.replace([np.inf, -np.inf], np.nan, inplace=True)\\nx_test.replace([np.inf, -np.inf], np.nan, inplace=True)\\n\\n# Combinar x y y para eliminar filas con NaN de forma coherente\\ntrain_data = x_train.copy()\\ntrain_data['target'] = y_train  # Asegúrate de que 'target' sea el nombre de tu columna objetivo\\n\\n# Eliminar filas con NaN en el conjunto de entrenamiento\\ntrain_data.dropna(inplace=True)\\n\\n# Ahora separa de nuevo x_train y y_train\\nx_train_clean = train_data.drop(columns=['target'])\\ny_train_clean = train_data['target']\\n\\n# Hacer lo mismo para el conjunto de prueba\\ntest_data = x_test.copy()\\ntest_data['target'] = y_test\\ntest_data.dropna(inplace=True)\\n\\n# Asegurarte de que el conjunto de prueba no tenga NaN\\nx_test_clean = test_data.drop(columns=['target'])\\ny_test_clean = test_data['target']\\n\\n# Escalar los datos\\nscaler = StandardScaler()\\nx_train_scale = scaler.fit_transform(x_train_clean)\\nx_test_scale = scaler.transform(x_test_clean)\""
      ]
     },
     "execution_count": 91,
     "metadata": {},
     "output_type": "execute_result"
    }
   ],
   "source": [
    "'''# Suponiendo que x y y ya están definidos\n",
    "x_train, x_test, y_train, y_test = train_test_split(xx, yy, test_size=0.2, random_state=42)\n",
    "\n",
    "# Reemplazar valores infinitos por NaN\n",
    "x_train.replace([np.inf, -np.inf], np.nan, inplace=True)\n",
    "x_test.replace([np.inf, -np.inf], np.nan, inplace=True)\n",
    "\n",
    "# Combinar x y y para eliminar filas con NaN de forma coherente\n",
    "train_data = x_train.copy()\n",
    "train_data['target'] = y_train  # Asegúrate de que 'target' sea el nombre de tu columna objetivo\n",
    "\n",
    "# Eliminar filas con NaN en el conjunto de entrenamiento\n",
    "train_data.dropna(inplace=True)\n",
    "\n",
    "# Ahora separa de nuevo x_train y y_train\n",
    "x_train_clean = train_data.drop(columns=['target'])\n",
    "y_train_clean = train_data['target']\n",
    "\n",
    "# Hacer lo mismo para el conjunto de prueba\n",
    "test_data = x_test.copy()\n",
    "test_data['target'] = y_test\n",
    "test_data.dropna(inplace=True)\n",
    "\n",
    "# Asegurarte de que el conjunto de prueba no tenga NaN\n",
    "x_test_clean = test_data.drop(columns=['target'])\n",
    "y_test_clean = test_data['target']\n",
    "\n",
    "# Escalar los datos\n",
    "scaler = StandardScaler()\n",
    "x_train_scale = scaler.fit_transform(x_train_clean)\n",
    "x_test_scale = scaler.transform(x_test_clean)'''"
   ]
  },
  {
   "cell_type": "code",
   "execution_count": 92,
   "id": "63362561-347d-44ba-96bc-1f1a17dd4438",
   "metadata": {},
   "outputs": [
    {
     "data": {
      "text/plain": [
       "'clf2 = LogisticRegression()\\nclf2.fit(x_train_scale, y_train_clean)\\n\\ny_pred = clf2.predict(x_test_scale)\\n\\n#Generar matriz de confusión:\\ncm2 = confusion_matrix(y_test_clean, y_pred)\\nclass_labels = [\\'Espacio Público\\', \\'No Espacio Público\\']\\n\\nplt.figure(figsize=(10, 7))\\nsns.heatmap(cm2, annot=True, fmt=\"g\", cmap=\"Blues\", xticklabels=class_labels, yticklabels=class_labels)\\nplt.xlabel(\\'Predicted\\', fontsize=12, fontweight=\\'bold\\')\\nplt.ylabel(\\'Actual\\', fontsize=12, fontweight=\\'bold\\')\\nplt.title(\\'Matriz de Confusión\\', fontsize=15, fontweight=\\'bold\\')\\nplt.show()'"
      ]
     },
     "execution_count": 92,
     "metadata": {},
     "output_type": "execute_result"
    }
   ],
   "source": [
    "'''clf2 = LogisticRegression()\n",
    "clf2.fit(x_train_scale, y_train_clean)\n",
    "\n",
    "y_pred = clf2.predict(x_test_scale)\n",
    "\n",
    "#Generar matriz de confusión:\n",
    "cm2 = confusion_matrix(y_test_clean, y_pred)\n",
    "class_labels = ['Espacio Público', 'No Espacio Público']\n",
    "\n",
    "plt.figure(figsize=(10, 7))\n",
    "sns.heatmap(cm2, annot=True, fmt=\"g\", cmap=\"Blues\", xticklabels=class_labels, yticklabels=class_labels)\n",
    "plt.xlabel('Predicted', fontsize=12, fontweight='bold')\n",
    "plt.ylabel('Actual', fontsize=12, fontweight='bold')\n",
    "plt.title('Matriz de Confusión', fontsize=15, fontweight='bold')\n",
    "plt.show()'''"
   ]
  },
  {
   "cell_type": "code",
   "execution_count": 93,
   "id": "19e076c5-1d8d-44e5-8484-0129161a19e3",
   "metadata": {},
   "outputs": [],
   "source": [
    "#accuracy = accuracy_score(y_test_clean, y_pred)\n",
    "#print(f'Accuracy: {accuracy}')"
   ]
  },
  {
   "cell_type": "code",
   "execution_count": 94,
   "id": "1e833442-b17d-432f-97d2-f30d8193ff62",
   "metadata": {},
   "outputs": [],
   "source": [
    "#print(classification_report(y_test_clean, y_pred))"
   ]
  },
  {
   "cell_type": "markdown",
   "id": "3372eeab-a5e5-4748-ae1a-ad3774db22ad",
   "metadata": {},
   "source": [
    "## Naive Bayes"
   ]
  },
  {
   "cell_type": "code",
   "execution_count": 95,
   "id": "a8b2c10f-75cd-450f-a3d3-be613d91ab63",
   "metadata": {},
   "outputs": [],
   "source": [
    "#nb2 = GaussianNB()\n",
    "#nb2.fit(x_train_scale, y_train_clean)"
   ]
  },
  {
   "cell_type": "code",
   "execution_count": 96,
   "id": "03243e45-a242-47ea-87a3-4d94f9bf1d9f",
   "metadata": {},
   "outputs": [
    {
     "data": {
      "text/plain": [
       "'y_prend = nb2.predict(x_test_clean)\\ncm2 = confusion_matrix(y_test_clean, y_prend)\\nclass_labels = [\\'Espacio Público\\', \\'No Espacio Público\\']\\nplt.figure(figsize = (10,7))\\nsns.heatmap(cm2, annot = True, fmt = \"g\", cmap=\"Reds\", xticklabels=class_labels, yticklabels=class_labels)\\nplt.xlabel(\\'Predicted\\', fontsize = 12, fontweight  = \\'bold\\')\\nplt.ylabel(\\'Actual\\', fontsize = 12, fontweight  = \\'bold\\')\\nplt.title(\\'Matriz de Confusión\\', fontsize = 15, fontweight = \\'bold\\')\\nplt.show()'"
      ]
     },
     "execution_count": 96,
     "metadata": {},
     "output_type": "execute_result"
    }
   ],
   "source": [
    "'''y_prend = nb2.predict(x_test_clean)\n",
    "cm2 = confusion_matrix(y_test_clean, y_prend)\n",
    "class_labels = ['Espacio Público', 'No Espacio Público']\n",
    "plt.figure(figsize = (10,7))\n",
    "sns.heatmap(cm2, annot = True, fmt = \"g\", cmap=\"Reds\", xticklabels=class_labels, yticklabels=class_labels)\n",
    "plt.xlabel('Predicted', fontsize = 12, fontweight  = 'bold')\n",
    "plt.ylabel('Actual', fontsize = 12, fontweight  = 'bold')\n",
    "plt.title('Matriz de Confusión', fontsize = 15, fontweight = 'bold')\n",
    "plt.show()'''"
   ]
  },
  {
   "cell_type": "code",
   "execution_count": 97,
   "id": "94937362-84cb-4877-8adc-e91806bd3b37",
   "metadata": {},
   "outputs": [],
   "source": [
    "#accuracy = accuracy_score(y_test_clean, y_prend)\n",
    "#print(f'Accuracy: {accuracy}')"
   ]
  },
  {
   "cell_type": "code",
   "execution_count": 98,
   "id": "25e1f036-a33c-4045-b727-607cac687551",
   "metadata": {},
   "outputs": [],
   "source": [
    "#print(classification_report(y_test_clean, y_prend))"
   ]
  },
  {
   "cell_type": "markdown",
   "id": "f288cb0b-732d-482c-b3f5-07371b77c4ea",
   "metadata": {},
   "source": [
    "## Random Forest Classifier (RFC)"
   ]
  },
  {
   "cell_type": "code",
   "execution_count": 99,
   "id": "cc427b2f-00ea-4b6f-93c1-6e59f68adf89",
   "metadata": {},
   "outputs": [
    {
     "data": {
      "text/plain": [
       "'rf2 = RandomForestClassifier(n_estimators=120, random_state=42)  \\nrf2.fit(x_train_scale, y_train_clean)\\n\\n# Realizar predicciones en el conjunto de prueba\\ny_predd = rf2.predict(x_test_clean)'"
      ]
     },
     "execution_count": 99,
     "metadata": {},
     "output_type": "execute_result"
    }
   ],
   "source": [
    "'''rf2 = RandomForestClassifier(n_estimators=120, random_state=42)  \n",
    "rf2.fit(x_train_scale, y_train_clean)\n",
    "\n",
    "# Realizar predicciones en el conjunto de prueba\n",
    "y_predd = rf2.predict(x_test_clean)'''"
   ]
  },
  {
   "cell_type": "code",
   "execution_count": 100,
   "id": "92eab99f-25e6-4bbc-8537-dc14e568dbaa",
   "metadata": {},
   "outputs": [
    {
     "data": {
      "text/plain": [
       "'cm2 = confusion_matrix(y_test_clean, y_predd)\\nclass_labels = [\\'Espacio Verde Público\\', \\'No Espacio Verde Público\\']\\nplt.figure(figsize = (10,7))\\nsns.heatmap(cm2, annot = True, fmt = \"g\", cmap=\"Greens\", xticklabels=class_labels, yticklabels=class_labels)\\nplt.xlabel(\\'Predicted\\', fontsize = 12, fontweight  = \\'bold\\')\\nplt.ylabel(\\'Actual\\', fontsize = 12, fontweight  = \\'bold\\')\\nplt.title(\\'Matriz de Confusión\\', fontsize = 15, fontweight = \\'bold\\')\\nplt.show()'"
      ]
     },
     "execution_count": 100,
     "metadata": {},
     "output_type": "execute_result"
    }
   ],
   "source": [
    "'''cm2 = confusion_matrix(y_test_clean, y_predd)\n",
    "class_labels = ['Espacio Verde Público', 'No Espacio Verde Público']\n",
    "plt.figure(figsize = (10,7))\n",
    "sns.heatmap(cm2, annot = True, fmt = \"g\", cmap=\"Greens\", xticklabels=class_labels, yticklabels=class_labels)\n",
    "plt.xlabel('Predicted', fontsize = 12, fontweight  = 'bold')\n",
    "plt.ylabel('Actual', fontsize = 12, fontweight  = 'bold')\n",
    "plt.title('Matriz de Confusión', fontsize = 15, fontweight = 'bold')\n",
    "plt.show()'''"
   ]
  },
  {
   "cell_type": "code",
   "execution_count": 101,
   "id": "e88570a9-f729-4262-a520-1367976ac5ee",
   "metadata": {},
   "outputs": [],
   "source": [
    "#accuracy = accuracy_score(y_test_clean, y_predd)\n",
    "#print(f'Accuracy: {accuracy}')"
   ]
  },
  {
   "cell_type": "code",
   "execution_count": 102,
   "id": "e6a96aa2-9aa3-4599-b3df-66c7a44069f3",
   "metadata": {},
   "outputs": [],
   "source": [
    "#print(classification_report(y_test_clean, y_predd))"
   ]
  },
  {
   "cell_type": "markdown",
   "id": "7f1c61e7-d426-44a2-80de-34044d9295d8",
   "metadata": {},
   "source": [
    "## Ada Boost Classifier"
   ]
  },
  {
   "cell_type": "code",
   "execution_count": 103,
   "id": "95e980ea-3eb8-4e26-a688-f5a7dd84ad7a",
   "metadata": {},
   "outputs": [],
   "source": [
    "#model2 = AdaBoostClassifier(n_estimators = 100)\n",
    "#model2.fit(x_train_scale, y_train_clean)"
   ]
  },
  {
   "cell_type": "code",
   "execution_count": 104,
   "id": "dc6c31fd-7ddb-4441-8ade-6de52b331fbe",
   "metadata": {},
   "outputs": [],
   "source": [
    "#predictions2 = model2.predict(x_test_clean)\n",
    "#predictions2"
   ]
  },
  {
   "cell_type": "code",
   "execution_count": 105,
   "id": "a1edaba5-92a2-4687-8ea1-fe4daa4ad7ee",
   "metadata": {},
   "outputs": [
    {
     "data": {
      "text/plain": [
       "'cm2 = confusion_matrix(y_test_clean, predictions2)\\nclass_labels = [\\'Espacio Verde Público\\', \\'No Espacio Verde Público\\']\\nplt.figure(figsize = (10,7))\\nsns.heatmap(cm2, annot = True, fmt = \"g\", cmap=\"viridis\", xticklabels=class_labels, yticklabels=class_labels)\\nplt.xlabel(\\'Predicted\\', fontsize = 12, fontweight  = \\'bold\\')\\nplt.ylabel(\\'Actual\\', fontsize = 12, fontweight  = \\'bold\\')\\nplt.title(\\'Matriz de Confusión\\', fontsize = 15, fontweight = \\'bold\\')\\nplt.show()'"
      ]
     },
     "execution_count": 105,
     "metadata": {},
     "output_type": "execute_result"
    }
   ],
   "source": [
    "'''cm2 = confusion_matrix(y_test_clean, predictions2)\n",
    "class_labels = ['Espacio Verde Público', 'No Espacio Verde Público']\n",
    "plt.figure(figsize = (10,7))\n",
    "sns.heatmap(cm2, annot = True, fmt = \"g\", cmap=\"viridis\", xticklabels=class_labels, yticklabels=class_labels)\n",
    "plt.xlabel('Predicted', fontsize = 12, fontweight  = 'bold')\n",
    "plt.ylabel('Actual', fontsize = 12, fontweight  = 'bold')\n",
    "plt.title('Matriz de Confusión', fontsize = 15, fontweight = 'bold')\n",
    "plt.show()'''"
   ]
  },
  {
   "cell_type": "code",
   "execution_count": 106,
   "id": "55494b6c-fdda-4717-95d7-4a1e1081614b",
   "metadata": {},
   "outputs": [],
   "source": [
    "#print(classification_report(y_test_clean, predictions2))"
   ]
  },
  {
   "cell_type": "code",
   "execution_count": 107,
   "id": "eb1eb6f4-9825-486b-a268-b3b593f04108",
   "metadata": {},
   "outputs": [],
   "source": [
    "#accuracy = accuracy_score(y_test_clean, predictions2)\n",
    "#print(f'Accuracy: {accuracy}')"
   ]
  },
  {
   "cell_type": "markdown",
   "id": "b675c037-71ac-488c-a642-fbeef9214f16",
   "metadata": {},
   "source": [
    "## XGBClassifier"
   ]
  },
  {
   "cell_type": "code",
   "execution_count": 108,
   "id": "eaf3d46e-82ab-47ac-975d-b3c8aebedcbd",
   "metadata": {},
   "outputs": [],
   "source": [
    "#model22 = xgb.XGBClassifier()\n",
    "#model22.fit(x_train_scale, y_train_clean)"
   ]
  },
  {
   "cell_type": "code",
   "execution_count": 109,
   "id": "e6eeebb3-9e73-4b01-9b77-10f76f419033",
   "metadata": {},
   "outputs": [],
   "source": [
    "#predictions22 = model22.predict(x_test_clean)\n",
    "#predictions22"
   ]
  },
  {
   "cell_type": "code",
   "execution_count": 110,
   "id": "e6fc4bd5-8975-4a2c-9163-8d275a870e95",
   "metadata": {},
   "outputs": [
    {
     "data": {
      "text/plain": [
       "'cm2 = confusion_matrix(y_test_clean, predictions22)\\nclass_labels = [\\'Espacio Verde Público\\', \\'No Espacio Verde Público\\']\\nplt.figure(figsize = (10,7))\\nsns.heatmap(cm2, annot = True, fmt = \"g\", cmap=\"rainbow\", xticklabels=class_labels, yticklabels=class_labels)\\nplt.xlabel(\\'Predicted\\', fontsize = 12, fontweight  = \\'bold\\')\\nplt.ylabel(\\'Actual\\', fontsize = 12, fontweight  = \\'bold\\')\\nplt.title(\\'Matriz de Confusión\\', fontsize = 15, fontweight = \\'bold\\')\\nplt.show()'"
      ]
     },
     "execution_count": 110,
     "metadata": {},
     "output_type": "execute_result"
    }
   ],
   "source": [
    "'''cm2 = confusion_matrix(y_test_clean, predictions22)\n",
    "class_labels = ['Espacio Verde Público', 'No Espacio Verde Público']\n",
    "plt.figure(figsize = (10,7))\n",
    "sns.heatmap(cm2, annot = True, fmt = \"g\", cmap=\"rainbow\", xticklabels=class_labels, yticklabels=class_labels)\n",
    "plt.xlabel('Predicted', fontsize = 12, fontweight  = 'bold')\n",
    "plt.ylabel('Actual', fontsize = 12, fontweight  = 'bold')\n",
    "plt.title('Matriz de Confusión', fontsize = 15, fontweight = 'bold')\n",
    "plt.show()'''"
   ]
  },
  {
   "cell_type": "code",
   "execution_count": 111,
   "id": "775f4a19-23b5-4f11-abf1-6f67af2730ac",
   "metadata": {},
   "outputs": [],
   "source": [
    "#print(classification_report(y_test_clean, predictions22))"
   ]
  },
  {
   "cell_type": "code",
   "execution_count": 112,
   "id": "e96c4b7f-8786-4b47-960f-42a16fefbcdf",
   "metadata": {},
   "outputs": [],
   "source": [
    "#accuracy = accuracy_score(y_test_clean, predictions22)\n",
    "#print(f'Accuracy: {accuracy}')"
   ]
  },
  {
   "cell_type": "markdown",
   "id": "c64930d6-7bf5-47d3-a52f-59ea9215552c",
   "metadata": {},
   "source": [
    "## Decision Tree Classification"
   ]
  },
  {
   "cell_type": "code",
   "execution_count": 113,
   "id": "6489b73a-0f0e-40c4-aad1-8b3c5b642b2f",
   "metadata": {},
   "outputs": [],
   "source": [
    "#model32 = DecisionTreeClassifier()\n",
    "#model32.fit(x_train_scale, y_train_clean)"
   ]
  },
  {
   "cell_type": "code",
   "execution_count": 114,
   "id": "e3381ba3-3c87-4fa2-9bcb-ff3897611d85",
   "metadata": {},
   "outputs": [],
   "source": [
    "#predictions32 = model32.predict(x_test_clean)\n",
    "#predictions32"
   ]
  },
  {
   "cell_type": "code",
   "execution_count": 115,
   "id": "d39c836c-06dd-47be-8b73-d28cdb642fdf",
   "metadata": {},
   "outputs": [
    {
     "data": {
      "text/plain": [
       "'cm2 = confusion_matrix(y_test_clean, predictions32)\\nclass_labels = [\\'Espacio Verde Público\\', \\'No Espacio Verde Público\\']\\nplt.figure(figsize = (10,7))\\nsns.heatmap(cm2, annot = True, fmt = \"g\", cmap=\"jet\", xticklabels=class_labels, yticklabels=class_labels)\\nplt.xlabel(\\'Predicted\\', fontsize = 12, fontweight  = \\'bold\\')\\nplt.ylabel(\\'Actual\\', fontsize = 12, fontweight  = \\'bold\\')\\nplt.title(\\'Matriz de Confusión\\', fontsize = 15, fontweight = \\'bold\\')\\nplt.show()'"
      ]
     },
     "execution_count": 115,
     "metadata": {},
     "output_type": "execute_result"
    }
   ],
   "source": [
    "'''cm2 = confusion_matrix(y_test_clean, predictions32)\n",
    "class_labels = ['Espacio Verde Público', 'No Espacio Verde Público']\n",
    "plt.figure(figsize = (10,7))\n",
    "sns.heatmap(cm2, annot = True, fmt = \"g\", cmap=\"jet\", xticklabels=class_labels, yticklabels=class_labels)\n",
    "plt.xlabel('Predicted', fontsize = 12, fontweight  = 'bold')\n",
    "plt.ylabel('Actual', fontsize = 12, fontweight  = 'bold')\n",
    "plt.title('Matriz de Confusión', fontsize = 15, fontweight = 'bold')\n",
    "plt.show()'''"
   ]
  },
  {
   "cell_type": "code",
   "execution_count": 116,
   "id": "f6938df3-093a-4853-ab67-b18a724a5733",
   "metadata": {},
   "outputs": [],
   "source": [
    "#print(classification_report(y_test_clean, predictions32))"
   ]
  },
  {
   "cell_type": "code",
   "execution_count": 117,
   "id": "9b50a030-ef4f-4a32-a164-f002d3094012",
   "metadata": {},
   "outputs": [],
   "source": [
    "#accuracy = accuracy_score(y_test_clean, predictions32)\n",
    "#print(f'Accuracy: {accuracy}')"
   ]
  },
  {
   "cell_type": "markdown",
   "id": "d52d85c4-5d98-48a8-b120-d02d2dd77c7a",
   "metadata": {},
   "source": [
    "## Intersección espacial con población, vegetación, humedad y temperatura."
   ]
  },
  {
   "cell_type": "code",
   "execution_count": 118,
   "id": "9544a5e4-0068-419d-9374-5378a11c8b8e",
   "metadata": {},
   "outputs": [
    {
     "data": {
      "text/html": [
       "<div>\n",
       "<style scoped>\n",
       "    .dataframe tbody tr th:only-of-type {\n",
       "        vertical-align: middle;\n",
       "    }\n",
       "\n",
       "    .dataframe tbody tr th {\n",
       "        vertical-align: top;\n",
       "    }\n",
       "\n",
       "    .dataframe thead th {\n",
       "        text-align: right;\n",
       "    }\n",
       "</style>\n",
       "<table border=\"1\" class=\"dataframe\">\n",
       "  <thead>\n",
       "    <tr style=\"text-align: right;\">\n",
       "      <th></th>\n",
       "      <th>hex_id</th>\n",
       "      <th>geometry</th>\n",
       "      <th>city</th>\n",
       "      <th>EspPublico</th>\n",
       "      <th>temp_res</th>\n",
       "      <th>ndmi_geometry</th>\n",
       "      <th>ndmi_city</th>\n",
       "      <th>ndmi_res</th>\n",
       "      <th>ndvi_geometry</th>\n",
       "      <th>ndvi_city</th>\n",
       "      <th>...</th>\n",
       "      <th>ndvi_std</th>\n",
       "      <th>ndvi_median</th>\n",
       "      <th>ndvi_max</th>\n",
       "      <th>ndvi_min</th>\n",
       "      <th>ndvi_diff</th>\n",
       "      <th>ndvi_tend</th>\n",
       "      <th>ndmi_mean</th>\n",
       "      <th>ndmi_median</th>\n",
       "      <th>ndmi_diff</th>\n",
       "      <th>temp_diff_mean</th>\n",
       "    </tr>\n",
       "  </thead>\n",
       "  <tbody>\n",
       "    <tr>\n",
       "      <th>0</th>\n",
       "      <td>8b49ab48554bfff</td>\n",
       "      <td>POLYGON ((-103.47405 20.77503, -103.47388 20.7...</td>\n",
       "      <td>Guadalajara</td>\n",
       "      <td>0</td>\n",
       "      <td>11</td>\n",
       "      <td>0103000020E610000001000000070000009FE7661E56DE...</td>\n",
       "      <td>Guadalajara</td>\n",
       "      <td>11</td>\n",
       "      <td>0103000020E610000001000000070000009FE7661E56DE...</td>\n",
       "      <td>Guadalajara</td>\n",
       "      <td>...</td>\n",
       "      <td>0.218556</td>\n",
       "      <td>0.203457</td>\n",
       "      <td>0.709153</td>\n",
       "      <td>0.124542</td>\n",
       "      <td>0.584611</td>\n",
       "      <td>-0.000588</td>\n",
       "      <td>-0.008167</td>\n",
       "      <td>-0.099798</td>\n",
       "      <td>0.544076</td>\n",
       "      <td>1.817519</td>\n",
       "    </tr>\n",
       "    <tr>\n",
       "      <th>1</th>\n",
       "      <td>8b498c942cd1fff</td>\n",
       "      <td>POLYGON ((-103.28014 20.69452, -103.27997 20.6...</td>\n",
       "      <td>Guadalajara</td>\n",
       "      <td>0</td>\n",
       "      <td>11</td>\n",
       "      <td>0103000020E61000000100000007000000A97AFC0BE6D1...</td>\n",
       "      <td>Guadalajara</td>\n",
       "      <td>11</td>\n",
       "      <td>0103000020E61000000100000007000000A97AFC0BE6D1...</td>\n",
       "      <td>Guadalajara</td>\n",
       "      <td>...</td>\n",
       "      <td>0.017560</td>\n",
       "      <td>0.083229</td>\n",
       "      <td>0.093633</td>\n",
       "      <td>0.065357</td>\n",
       "      <td>0.028276</td>\n",
       "      <td>-0.000654</td>\n",
       "      <td>-0.063286</td>\n",
       "      <td>-0.061267</td>\n",
       "      <td>0.027228</td>\n",
       "      <td>0.996388</td>\n",
       "    </tr>\n",
       "    <tr>\n",
       "      <th>2</th>\n",
       "      <td>8b49ab59229cfff</td>\n",
       "      <td>POLYGON ((-103.38412 20.64327, -103.38395 20.6...</td>\n",
       "      <td>Guadalajara</td>\n",
       "      <td>0</td>\n",
       "      <td>11</td>\n",
       "      <td>0103000020E610000001000000070000003761537C95D8...</td>\n",
       "      <td>Guadalajara</td>\n",
       "      <td>11</td>\n",
       "      <td>0103000020E610000001000000070000003761537C95D8...</td>\n",
       "      <td>Guadalajara</td>\n",
       "      <td>...</td>\n",
       "      <td>0.034698</td>\n",
       "      <td>0.165558</td>\n",
       "      <td>0.178022</td>\n",
       "      <td>0.132067</td>\n",
       "      <td>0.045955</td>\n",
       "      <td>-0.001269</td>\n",
       "      <td>-0.019299</td>\n",
       "      <td>-0.018983</td>\n",
       "      <td>0.041337</td>\n",
       "      <td>0.823501</td>\n",
       "    </tr>\n",
       "    <tr>\n",
       "      <th>3</th>\n",
       "      <td>8b49ab583a58fff</td>\n",
       "      <td>POLYGON ((-103.48254 20.64325, -103.48236 20.6...</td>\n",
       "      <td>Guadalajara</td>\n",
       "      <td>0</td>\n",
       "      <td>11</td>\n",
       "      <td>0103000020E61000000100000007000000EB9500A1E9DE...</td>\n",
       "      <td>Guadalajara</td>\n",
       "      <td>11</td>\n",
       "      <td>0103000020E61000000100000007000000EB9500A1E9DE...</td>\n",
       "      <td>Guadalajara</td>\n",
       "      <td>...</td>\n",
       "      <td>0.101205</td>\n",
       "      <td>0.276137</td>\n",
       "      <td>0.385669</td>\n",
       "      <td>0.186158</td>\n",
       "      <td>0.199510</td>\n",
       "      <td>-0.003077</td>\n",
       "      <td>-0.006603</td>\n",
       "      <td>-0.014913</td>\n",
       "      <td>0.138609</td>\n",
       "      <td>-2.759208</td>\n",
       "    </tr>\n",
       "    <tr>\n",
       "      <th>4</th>\n",
       "      <td>8b49ab580610fff</td>\n",
       "      <td>POLYGON ((-103.46750 20.62558, -103.46733 20.6...</td>\n",
       "      <td>Guadalajara</td>\n",
       "      <td>0</td>\n",
       "      <td>11</td>\n",
       "      <td>0103000020E6100000010000000700000034F53DBEEADD...</td>\n",
       "      <td>Guadalajara</td>\n",
       "      <td>11</td>\n",
       "      <td>0103000020E6100000010000000700000034F53DBEEADD...</td>\n",
       "      <td>Guadalajara</td>\n",
       "      <td>...</td>\n",
       "      <td>0.014909</td>\n",
       "      <td>0.082042</td>\n",
       "      <td>0.091464</td>\n",
       "      <td>0.065489</td>\n",
       "      <td>0.025974</td>\n",
       "      <td>-0.000490</td>\n",
       "      <td>-0.028366</td>\n",
       "      <td>-0.028871</td>\n",
       "      <td>0.036586</td>\n",
       "      <td>1.410787</td>\n",
       "    </tr>\n",
       "  </tbody>\n",
       "</table>\n",
       "<p>5 rows × 22 columns</p>\n",
       "</div>"
      ],
      "text/plain": [
       "            hex_id                                           geometry  \\\n",
       "0  8b49ab48554bfff  POLYGON ((-103.47405 20.77503, -103.47388 20.7...   \n",
       "1  8b498c942cd1fff  POLYGON ((-103.28014 20.69452, -103.27997 20.6...   \n",
       "2  8b49ab59229cfff  POLYGON ((-103.38412 20.64327, -103.38395 20.6...   \n",
       "3  8b49ab583a58fff  POLYGON ((-103.48254 20.64325, -103.48236 20.6...   \n",
       "4  8b49ab580610fff  POLYGON ((-103.46750 20.62558, -103.46733 20.6...   \n",
       "\n",
       "          city  EspPublico  temp_res  \\\n",
       "0  Guadalajara           0        11   \n",
       "1  Guadalajara           0        11   \n",
       "2  Guadalajara           0        11   \n",
       "3  Guadalajara           0        11   \n",
       "4  Guadalajara           0        11   \n",
       "\n",
       "                                       ndmi_geometry    ndmi_city  ndmi_res  \\\n",
       "0  0103000020E610000001000000070000009FE7661E56DE...  Guadalajara        11   \n",
       "1  0103000020E61000000100000007000000A97AFC0BE6D1...  Guadalajara        11   \n",
       "2  0103000020E610000001000000070000003761537C95D8...  Guadalajara        11   \n",
       "3  0103000020E61000000100000007000000EB9500A1E9DE...  Guadalajara        11   \n",
       "4  0103000020E6100000010000000700000034F53DBEEADD...  Guadalajara        11   \n",
       "\n",
       "                                       ndvi_geometry    ndvi_city  ...  \\\n",
       "0  0103000020E610000001000000070000009FE7661E56DE...  Guadalajara  ...   \n",
       "1  0103000020E61000000100000007000000A97AFC0BE6D1...  Guadalajara  ...   \n",
       "2  0103000020E610000001000000070000003761537C95D8...  Guadalajara  ...   \n",
       "3  0103000020E61000000100000007000000EB9500A1E9DE...  Guadalajara  ...   \n",
       "4  0103000020E6100000010000000700000034F53DBEEADD...  Guadalajara  ...   \n",
       "\n",
       "   ndvi_std  ndvi_median  ndvi_max  ndvi_min  ndvi_diff  ndvi_tend  ndmi_mean  \\\n",
       "0  0.218556     0.203457  0.709153  0.124542   0.584611  -0.000588  -0.008167   \n",
       "1  0.017560     0.083229  0.093633  0.065357   0.028276  -0.000654  -0.063286   \n",
       "2  0.034698     0.165558  0.178022  0.132067   0.045955  -0.001269  -0.019299   \n",
       "3  0.101205     0.276137  0.385669  0.186158   0.199510  -0.003077  -0.006603   \n",
       "4  0.014909     0.082042  0.091464  0.065489   0.025974  -0.000490  -0.028366   \n",
       "\n",
       "   ndmi_median  ndmi_diff  temp_diff_mean  \n",
       "0    -0.099798   0.544076        1.817519  \n",
       "1    -0.061267   0.027228        0.996388  \n",
       "2    -0.018983   0.041337        0.823501  \n",
       "3    -0.014913   0.138609       -2.759208  \n",
       "4    -0.028871   0.036586        1.410787  \n",
       "\n",
       "[5 rows x 22 columns]"
      ]
     },
     "execution_count": 118,
     "metadata": {},
     "output_type": "execute_result"
    }
   ],
   "source": [
    "gdl_samples_inter = 222941\n",
    "cdmx_samples_inter = 180886\n",
    "\n",
    "\n",
    "# Randomly sample 200,000 hexagons of Guadalajra\n",
    "sample_with_Guadalajara = inter[inter['city'] == 'Guadalajara'].sample(n=gdl_samples_inter, random_state=42)\n",
    "\n",
    "# Randomly sample 150,000 hexagons of Cdmx\n",
    "sample_with_Cdmx = inter[inter['city'] == 'CDMX'].sample(n=cdmx_samples_inter, random_state=42)\n",
    "\n",
    "# Concatenate the two samples to get the final subsample\n",
    "inter = pd.concat([sample_with_Guadalajara, sample_with_Cdmx])\n",
    "inter.reset_index(drop = True, inplace = True)\n",
    "inter.head()"
   ]
  },
  {
   "cell_type": "code",
   "execution_count": 119,
   "id": "b6caa29c-cb1f-439f-9756-e64205c48215",
   "metadata": {},
   "outputs": [
    {
     "name": "stdout",
     "output_type": "stream",
     "text": [
      "Número de hexágonos Gdl: 222941 \n",
      "Número de hexágonos Cdmx: 180886\n"
     ]
    }
   ],
   "source": [
    "contador_gdl = np.sum(inter['city'] == 'Guadalajara')\n",
    "contador_cdmx = np.sum(inter['city'] == 'CDMX')\n",
    "print(f'Número de hexágonos Gdl: {contador_gdl} \\nNúmero de hexágonos Cdmx: {contador_cdmx}')"
   ]
  },
  {
   "cell_type": "code",
   "execution_count": 120,
   "id": "4cc16fef-11e4-41c1-8a34-ceb79f603cdf",
   "metadata": {},
   "outputs": [],
   "source": [
    "inter = inter.set_crs(\"EPSG:4326\")\n",
    "inter_join = inter_join.set_crs(\"EPSG:4326\")"
   ]
  },
  {
   "cell_type": "code",
   "execution_count": 121,
   "id": "1305100a-3acf-4a04-ac4f-05ce07327a18",
   "metadata": {},
   "outputs": [],
   "source": [
    "# Simplificar las geometrías\n",
    "inter['geometry'] = inter['geometry'].simplify(tolerance=0.01)\n",
    "inter_join['geometry'] = inter_join['geometry'].simplify(tolerance=0.01)\n",
    "\n",
    "# Realizar la intersección con geometrías simplificadas\n",
    "simplified_intersection = gpd.overlay(inter, inter_join, how='intersection')\n"
   ]
  },
  {
   "cell_type": "code",
   "execution_count": 122,
   "id": "8f8703a9-d661-44b6-806f-7fa6882e21ab",
   "metadata": {},
   "outputs": [
    {
     "data": {
      "text/html": [
       "<div>\n",
       "<style scoped>\n",
       "    .dataframe tbody tr th:only-of-type {\n",
       "        vertical-align: middle;\n",
       "    }\n",
       "\n",
       "    .dataframe tbody tr th {\n",
       "        vertical-align: top;\n",
       "    }\n",
       "\n",
       "    .dataframe thead th {\n",
       "        text-align: right;\n",
       "    }\n",
       "</style>\n",
       "<table border=\"1\" class=\"dataframe\">\n",
       "  <thead>\n",
       "    <tr style=\"text-align: right;\">\n",
       "      <th></th>\n",
       "      <th>hex_id</th>\n",
       "      <th>city_1</th>\n",
       "      <th>EspPublico_1</th>\n",
       "      <th>temp_res</th>\n",
       "      <th>ndmi_geometry</th>\n",
       "      <th>ndmi_city</th>\n",
       "      <th>ndmi_res</th>\n",
       "      <th>ndvi_geometry</th>\n",
       "      <th>ndvi_city</th>\n",
       "      <th>ndvi_res</th>\n",
       "      <th>...</th>\n",
       "      <th>ndmi_mean</th>\n",
       "      <th>ndmi_median</th>\n",
       "      <th>ndmi_diff</th>\n",
       "      <th>temp_diff_mean</th>\n",
       "      <th>hex_id_9</th>\n",
       "      <th>city_2</th>\n",
       "      <th>type</th>\n",
       "      <th>pobtot</th>\n",
       "      <th>EspPublico_2</th>\n",
       "      <th>geometry</th>\n",
       "    </tr>\n",
       "  </thead>\n",
       "  <tbody>\n",
       "    <tr>\n",
       "      <th>0</th>\n",
       "      <td>8b49ab48554bfff</td>\n",
       "      <td>Guadalajara</td>\n",
       "      <td>0</td>\n",
       "      <td>11</td>\n",
       "      <td>0103000020E610000001000000070000009FE7661E56DE...</td>\n",
       "      <td>Guadalajara</td>\n",
       "      <td>11</td>\n",
       "      <td>0103000020E610000001000000070000009FE7661E56DE...</td>\n",
       "      <td>Guadalajara</td>\n",
       "      <td>11</td>\n",
       "      <td>...</td>\n",
       "      <td>-0.008167</td>\n",
       "      <td>-0.099798</td>\n",
       "      <td>0.544076</td>\n",
       "      <td>1.817519</td>\n",
       "      <td>8949ab48557ffff</td>\n",
       "      <td>Guadalajara</td>\n",
       "      <td>urban</td>\n",
       "      <td>1818.0</td>\n",
       "      <td>0</td>\n",
       "      <td>POLYGON ((-103.47448 20.77531, -103.47431 20.7...</td>\n",
       "    </tr>\n",
       "    <tr>\n",
       "      <th>1</th>\n",
       "      <td>8b49ab48555dfff</td>\n",
       "      <td>Guadalajara</td>\n",
       "      <td>0</td>\n",
       "      <td>11</td>\n",
       "      <td>0103000020E61000000100000007000000AB6E582648DE...</td>\n",
       "      <td>Guadalajara</td>\n",
       "      <td>11</td>\n",
       "      <td>0103000020E61000000100000007000000AB6E582648DE...</td>\n",
       "      <td>Guadalajara</td>\n",
       "      <td>11</td>\n",
       "      <td>...</td>\n",
       "      <td>-0.007736</td>\n",
       "      <td>-0.073459</td>\n",
       "      <td>0.419222</td>\n",
       "      <td>-0.019480</td>\n",
       "      <td>8949ab48557ffff</td>\n",
       "      <td>Guadalajara</td>\n",
       "      <td>urban</td>\n",
       "      <td>1818.0</td>\n",
       "      <td>0</td>\n",
       "      <td>POLYGON ((-103.47345 20.77498, -103.47315 20.7...</td>\n",
       "    </tr>\n",
       "    <tr>\n",
       "      <th>2</th>\n",
       "      <td>8b49ab48554afff</td>\n",
       "      <td>Guadalajara</td>\n",
       "      <td>0</td>\n",
       "      <td>11</td>\n",
       "      <td>0103000020E61000000100000007000000AB6E582648DE...</td>\n",
       "      <td>Guadalajara</td>\n",
       "      <td>11</td>\n",
       "      <td>0103000020E61000000100000007000000AB6E582648DE...</td>\n",
       "      <td>Guadalajara</td>\n",
       "      <td>11</td>\n",
       "      <td>...</td>\n",
       "      <td>-0.007736</td>\n",
       "      <td>-0.073459</td>\n",
       "      <td>0.419222</td>\n",
       "      <td>-0.019480</td>\n",
       "      <td>8949ab48557ffff</td>\n",
       "      <td>Guadalajara</td>\n",
       "      <td>urban</td>\n",
       "      <td>1818.0</td>\n",
       "      <td>0</td>\n",
       "      <td>POLYGON ((-103.47388 20.77526, -103.47358 20.7...</td>\n",
       "    </tr>\n",
       "    <tr>\n",
       "      <th>3</th>\n",
       "      <td>8b49ab485559fff</td>\n",
       "      <td>Guadalajara</td>\n",
       "      <td>0</td>\n",
       "      <td>11</td>\n",
       "      <td>0103000020E61000000100000007000000E0EC766040DE...</td>\n",
       "      <td>Guadalajara</td>\n",
       "      <td>11</td>\n",
       "      <td>0103000020E61000000100000007000000E0EC766040DE...</td>\n",
       "      <td>Guadalajara</td>\n",
       "      <td>11</td>\n",
       "      <td>...</td>\n",
       "      <td>-0.022475</td>\n",
       "      <td>-0.043232</td>\n",
       "      <td>0.167206</td>\n",
       "      <td>0.029710</td>\n",
       "      <td>8949ab48557ffff</td>\n",
       "      <td>Guadalajara</td>\n",
       "      <td>urban</td>\n",
       "      <td>1818.0</td>\n",
       "      <td>0</td>\n",
       "      <td>POLYGON ((-103.47358 20.77523, -103.47341 20.7...</td>\n",
       "    </tr>\n",
       "    <tr>\n",
       "      <th>4</th>\n",
       "      <td>8b49ab48554cfff</td>\n",
       "      <td>Guadalajara</td>\n",
       "      <td>0</td>\n",
       "      <td>11</td>\n",
       "      <td>0103000020E6100000010000000700000087E8CC4160DE...</td>\n",
       "      <td>Guadalajara</td>\n",
       "      <td>11</td>\n",
       "      <td>0103000020E6100000010000000700000087E8CC4160DE...</td>\n",
       "      <td>Guadalajara</td>\n",
       "      <td>11</td>\n",
       "      <td>...</td>\n",
       "      <td>-0.027150</td>\n",
       "      <td>-0.036294</td>\n",
       "      <td>0.122513</td>\n",
       "      <td>0.831794</td>\n",
       "      <td>8949ab48557ffff</td>\n",
       "      <td>Guadalajara</td>\n",
       "      <td>urban</td>\n",
       "      <td>1818.0</td>\n",
       "      <td>0</td>\n",
       "      <td>POLYGON ((-103.47440 20.77456, -103.47410 20.7...</td>\n",
       "    </tr>\n",
       "  </tbody>\n",
       "</table>\n",
       "<p>5 rows × 27 columns</p>\n",
       "</div>"
      ],
      "text/plain": [
       "            hex_id       city_1  EspPublico_1  temp_res  \\\n",
       "0  8b49ab48554bfff  Guadalajara             0        11   \n",
       "1  8b49ab48555dfff  Guadalajara             0        11   \n",
       "2  8b49ab48554afff  Guadalajara             0        11   \n",
       "3  8b49ab485559fff  Guadalajara             0        11   \n",
       "4  8b49ab48554cfff  Guadalajara             0        11   \n",
       "\n",
       "                                       ndmi_geometry    ndmi_city  ndmi_res  \\\n",
       "0  0103000020E610000001000000070000009FE7661E56DE...  Guadalajara        11   \n",
       "1  0103000020E61000000100000007000000AB6E582648DE...  Guadalajara        11   \n",
       "2  0103000020E61000000100000007000000AB6E582648DE...  Guadalajara        11   \n",
       "3  0103000020E61000000100000007000000E0EC766040DE...  Guadalajara        11   \n",
       "4  0103000020E6100000010000000700000087E8CC4160DE...  Guadalajara        11   \n",
       "\n",
       "                                       ndvi_geometry    ndvi_city  ndvi_res  \\\n",
       "0  0103000020E610000001000000070000009FE7661E56DE...  Guadalajara        11   \n",
       "1  0103000020E61000000100000007000000AB6E582648DE...  Guadalajara        11   \n",
       "2  0103000020E61000000100000007000000AB6E582648DE...  Guadalajara        11   \n",
       "3  0103000020E61000000100000007000000E0EC766040DE...  Guadalajara        11   \n",
       "4  0103000020E6100000010000000700000087E8CC4160DE...  Guadalajara        11   \n",
       "\n",
       "   ...  ndmi_mean  ndmi_median  ndmi_diff  temp_diff_mean         hex_id_9  \\\n",
       "0  ...  -0.008167    -0.099798   0.544076        1.817519  8949ab48557ffff   \n",
       "1  ...  -0.007736    -0.073459   0.419222       -0.019480  8949ab48557ffff   \n",
       "2  ...  -0.007736    -0.073459   0.419222       -0.019480  8949ab48557ffff   \n",
       "3  ...  -0.022475    -0.043232   0.167206        0.029710  8949ab48557ffff   \n",
       "4  ...  -0.027150    -0.036294   0.122513        0.831794  8949ab48557ffff   \n",
       "\n",
       "        city_2   type  pobtot  EspPublico_2  \\\n",
       "0  Guadalajara  urban  1818.0             0   \n",
       "1  Guadalajara  urban  1818.0             0   \n",
       "2  Guadalajara  urban  1818.0             0   \n",
       "3  Guadalajara  urban  1818.0             0   \n",
       "4  Guadalajara  urban  1818.0             0   \n",
       "\n",
       "                                            geometry  \n",
       "0  POLYGON ((-103.47448 20.77531, -103.47431 20.7...  \n",
       "1  POLYGON ((-103.47345 20.77498, -103.47315 20.7...  \n",
       "2  POLYGON ((-103.47388 20.77526, -103.47358 20.7...  \n",
       "3  POLYGON ((-103.47358 20.77523, -103.47341 20.7...  \n",
       "4  POLYGON ((-103.47440 20.77456, -103.47410 20.7...  \n",
       "\n",
       "[5 rows x 27 columns]"
      ]
     },
     "execution_count": 122,
     "metadata": {},
     "output_type": "execute_result"
    }
   ],
   "source": [
    "simplified_intersection.head()"
   ]
  },
  {
   "cell_type": "code",
   "execution_count": 160,
   "id": "4265c343-80a2-41dd-855e-7dc82cec7ec1",
   "metadata": {},
   "outputs": [
    {
     "data": {
      "image/png": "[encoded data removed]",
      "text/plain": [
       "<Figure size 1000x600 with 1 Axes>"
      ]
     },
     "metadata": {},
     "output_type": "display_data"
    }
   ],
   "source": [
    "# Graficar el resultado de la intersección simplificada\n",
    "fig, ax = plt.subplots(figsize=(10, 6))\n",
    "\n",
    "# Graficar las geometrías originales en azul claro\n",
    "inter.plot(ax=ax, color='lightblue', edgecolor='blue', alpha=0.5)\n",
    "\n",
    "# Graficar las geometrías simplificadas en verde\n",
    "inter_join.plot(ax=ax, color='lightgreen', edgecolor='green', alpha=0.5)\n",
    "\n",
    "# Graficar la intersección simplificada en rojo\n",
    "simplified_intersection.plot(ax=ax, color='red', edgecolor='black', alpha=0.7)\n",
    "\n",
    "# Títulos y visualización\n",
    "plt.title('Intersección de Geometrías Simplificadas', fontsize=14)\n",
    "plt.show()\n"
   ]
  },
  {
   "cell_type": "code",
   "execution_count": 162,
   "id": "4a63289f-8444-44f5-8e72-9ae1a0fcb721",
   "metadata": {},
   "outputs": [
    {
     "data": {
      "text/html": [
       "<div>\n",
       "<style scoped>\n",
       "    .dataframe tbody tr th:only-of-type {\n",
       "        vertical-align: middle;\n",
       "    }\n",
       "\n",
       "    .dataframe tbody tr th {\n",
       "        vertical-align: top;\n",
       "    }\n",
       "\n",
       "    .dataframe thead th {\n",
       "        text-align: right;\n",
       "    }\n",
       "</style>\n",
       "<table border=\"1\" class=\"dataframe\">\n",
       "  <thead>\n",
       "    <tr style=\"text-align: right;\">\n",
       "      <th></th>\n",
       "      <th>hex_id</th>\n",
       "      <th>temp_res</th>\n",
       "      <th>ndmi_geometry</th>\n",
       "      <th>ndmi_city</th>\n",
       "      <th>ndmi_res</th>\n",
       "      <th>ndvi_geometry</th>\n",
       "      <th>ndvi_city</th>\n",
       "      <th>ndvi_res</th>\n",
       "      <th>ndvi_mean</th>\n",
       "      <th>ndvi_std</th>\n",
       "      <th>...</th>\n",
       "      <th>ndmi_mean</th>\n",
       "      <th>ndmi_median</th>\n",
       "      <th>ndmi_diff</th>\n",
       "      <th>temp_diff_mean</th>\n",
       "      <th>hex_id_9</th>\n",
       "      <th>city</th>\n",
       "      <th>type</th>\n",
       "      <th>pobtot</th>\n",
       "      <th>EspPublico</th>\n",
       "      <th>geometry</th>\n",
       "    </tr>\n",
       "  </thead>\n",
       "  <tbody>\n",
       "    <tr>\n",
       "      <th>0</th>\n",
       "      <td>8b4995ba6588fff</td>\n",
       "      <td>11</td>\n",
       "      <td>0103000020E610000001000000070000000BD0A62EF0C8...</td>\n",
       "      <td>CDMX</td>\n",
       "      <td>11</td>\n",
       "      <td>0103000020E610000001000000070000000BD0A62EF0C8...</td>\n",
       "      <td>CDMX</td>\n",
       "      <td>11</td>\n",
       "      <td>0.185881</td>\n",
       "      <td>0.047103</td>\n",
       "      <td>...</td>\n",
       "      <td>-0.010758</td>\n",
       "      <td>-0.012197</td>\n",
       "      <td>0.025838</td>\n",
       "      <td>3.486848</td>\n",
       "      <td>894995ba65bffff</td>\n",
       "      <td>CDMX</td>\n",
       "      <td>urban</td>\n",
       "      <td>2039.0</td>\n",
       "      <td>1</td>\n",
       "      <td>POLYGON ((-99.14036 19.38605, -99.14007 19.386...</td>\n",
       "    </tr>\n",
       "    <tr>\n",
       "      <th>1</th>\n",
       "      <td>8b4995bb2addfff</td>\n",
       "      <td>11</td>\n",
       "      <td>0103000020E6100000010000000700000068C9A766D4C5...</td>\n",
       "      <td>CDMX</td>\n",
       "      <td>11</td>\n",
       "      <td>0103000020E6100000010000000700000068C9A766D4C5...</td>\n",
       "      <td>CDMX</td>\n",
       "      <td>11</td>\n",
       "      <td>0.118892</td>\n",
       "      <td>0.027617</td>\n",
       "      <td>...</td>\n",
       "      <td>-0.017982</td>\n",
       "      <td>-0.020709</td>\n",
       "      <td>0.029685</td>\n",
       "      <td>1.644124</td>\n",
       "      <td>894995bb2afffff</td>\n",
       "      <td>CDMX</td>\n",
       "      <td>urban</td>\n",
       "      <td>2148.0</td>\n",
       "      <td>1</td>\n",
       "      <td>POLYGON ((-99.09179 19.41838, -99.09149 19.418...</td>\n",
       "    </tr>\n",
       "    <tr>\n",
       "      <th>2</th>\n",
       "      <td>8b4995bb631dfff</td>\n",
       "      <td>11</td>\n",
       "      <td>0103000020E6100000010000000700000009012959D2C5...</td>\n",
       "      <td>CDMX</td>\n",
       "      <td>11</td>\n",
       "      <td>0103000020E6100000010000000700000009012959D2C5...</td>\n",
       "      <td>CDMX</td>\n",
       "      <td>11</td>\n",
       "      <td>0.287491</td>\n",
       "      <td>0.075361</td>\n",
       "      <td>...</td>\n",
       "      <td>-0.024106</td>\n",
       "      <td>-0.017269</td>\n",
       "      <td>0.089392</td>\n",
       "      <td>3.755980</td>\n",
       "      <td>894995bb633ffff</td>\n",
       "      <td>CDMX</td>\n",
       "      <td>urban</td>\n",
       "      <td>870.0</td>\n",
       "      <td>1</td>\n",
       "      <td>POLYGON ((-99.09160 19.39622, -99.09131 19.396...</td>\n",
       "    </tr>\n",
       "    <tr>\n",
       "      <th>3</th>\n",
       "      <td>8b499584059dfff</td>\n",
       "      <td>11</td>\n",
       "      <td>0103000020E610000001000000070000001A29DD85B4C9...</td>\n",
       "      <td>CDMX</td>\n",
       "      <td>11</td>\n",
       "      <td>0103000020E610000001000000070000001A29DD85B4C9...</td>\n",
       "      <td>CDMX</td>\n",
       "      <td>11</td>\n",
       "      <td>0.335775</td>\n",
       "      <td>0.098312</td>\n",
       "      <td>...</td>\n",
       "      <td>0.039553</td>\n",
       "      <td>0.033439</td>\n",
       "      <td>0.097250</td>\n",
       "      <td>2.788249</td>\n",
       "      <td>8949958405bffff</td>\n",
       "      <td>CDMX</td>\n",
       "      <td>urban</td>\n",
       "      <td>798.0</td>\n",
       "      <td>1</td>\n",
       "      <td>POLYGON ((-99.15181 19.29191, -99.15152 19.291...</td>\n",
       "    </tr>\n",
       "    <tr>\n",
       "      <th>4</th>\n",
       "      <td>8b4995845acdfff</td>\n",
       "      <td>11</td>\n",
       "      <td>0103000020E61000000100000007000000712BA49C9BCC...</td>\n",
       "      <td>CDMX</td>\n",
       "      <td>11</td>\n",
       "      <td>0103000020E61000000100000007000000712BA49C9BCC...</td>\n",
       "      <td>CDMX</td>\n",
       "      <td>11</td>\n",
       "      <td>0.533822</td>\n",
       "      <td>0.169322</td>\n",
       "      <td>...</td>\n",
       "      <td>0.110106</td>\n",
       "      <td>0.113493</td>\n",
       "      <td>0.131764</td>\n",
       "      <td>-3.565773</td>\n",
       "      <td>894995845afffff</td>\n",
       "      <td>CDMX</td>\n",
       "      <td>urban</td>\n",
       "      <td>1700.0</td>\n",
       "      <td>1</td>\n",
       "      <td>POLYGON ((-99.19700 19.28620, -99.19747 19.286...</td>\n",
       "    </tr>\n",
       "  </tbody>\n",
       "</table>\n",
       "<p>5 rows × 25 columns</p>\n",
       "</div>"
      ],
      "text/plain": [
       "            hex_id  temp_res  \\\n",
       "0  8b4995ba6588fff        11   \n",
       "1  8b4995bb2addfff        11   \n",
       "2  8b4995bb631dfff        11   \n",
       "3  8b499584059dfff        11   \n",
       "4  8b4995845acdfff        11   \n",
       "\n",
       "                                       ndmi_geometry ndmi_city  ndmi_res  \\\n",
       "0  0103000020E610000001000000070000000BD0A62EF0C8...      CDMX        11   \n",
       "1  0103000020E6100000010000000700000068C9A766D4C5...      CDMX        11   \n",
       "2  0103000020E6100000010000000700000009012959D2C5...      CDMX        11   \n",
       "3  0103000020E610000001000000070000001A29DD85B4C9...      CDMX        11   \n",
       "4  0103000020E61000000100000007000000712BA49C9BCC...      CDMX        11   \n",
       "\n",
       "                                       ndvi_geometry ndvi_city  ndvi_res  \\\n",
       "0  0103000020E610000001000000070000000BD0A62EF0C8...      CDMX        11   \n",
       "1  0103000020E6100000010000000700000068C9A766D4C5...      CDMX        11   \n",
       "2  0103000020E6100000010000000700000009012959D2C5...      CDMX        11   \n",
       "3  0103000020E610000001000000070000001A29DD85B4C9...      CDMX        11   \n",
       "4  0103000020E61000000100000007000000712BA49C9BCC...      CDMX        11   \n",
       "\n",
       "   ndvi_mean  ndvi_std  ...  ndmi_mean  ndmi_median  ndmi_diff  \\\n",
       "0   0.185881  0.047103  ...  -0.010758    -0.012197   0.025838   \n",
       "1   0.118892  0.027617  ...  -0.017982    -0.020709   0.029685   \n",
       "2   0.287491  0.075361  ...  -0.024106    -0.017269   0.089392   \n",
       "3   0.335775  0.098312  ...   0.039553     0.033439   0.097250   \n",
       "4   0.533822  0.169322  ...   0.110106     0.113493   0.131764   \n",
       "\n",
       "   temp_diff_mean         hex_id_9  city   type  pobtot  EspPublico  \\\n",
       "0        3.486848  894995ba65bffff  CDMX  urban  2039.0           1   \n",
       "1        1.644124  894995bb2afffff  CDMX  urban  2148.0           1   \n",
       "2        3.755980  894995bb633ffff  CDMX  urban   870.0           1   \n",
       "3        2.788249  8949958405bffff  CDMX  urban   798.0           1   \n",
       "4       -3.565773  894995845afffff  CDMX  urban  1700.0           1   \n",
       "\n",
       "                                            geometry  \n",
       "0  POLYGON ((-99.14036 19.38605, -99.14007 19.386...  \n",
       "1  POLYGON ((-99.09179 19.41838, -99.09149 19.418...  \n",
       "2  POLYGON ((-99.09160 19.39622, -99.09131 19.396...  \n",
       "3  POLYGON ((-99.15181 19.29191, -99.15152 19.291...  \n",
       "4  POLYGON ((-99.19700 19.28620, -99.19747 19.286...  \n",
       "\n",
       "[5 rows x 25 columns]"
      ]
     },
     "execution_count": 162,
     "metadata": {},
     "output_type": "execute_result"
    }
   ],
   "source": [
    "simplified_intersection.drop(columns=[\"city_1\"], inplace=True)\n",
    "simplified_intersection.rename(columns={\"city_2\": \"city\"}, inplace=True)\n",
    "simplified_intersection.head()"
   ]
  },
  {
   "cell_type": "code",
   "execution_count": 163,
   "id": "d2f2f89b-754d-4a01-a20a-5ff8f6b9a69e",
   "metadata": {},
   "outputs": [
    {
     "data": {
      "text/html": [
       "<div>\n",
       "<style scoped>\n",
       "    .dataframe tbody tr th:only-of-type {\n",
       "        vertical-align: middle;\n",
       "    }\n",
       "\n",
       "    .dataframe tbody tr th {\n",
       "        vertical-align: top;\n",
       "    }\n",
       "\n",
       "    .dataframe thead th {\n",
       "        text-align: right;\n",
       "    }\n",
       "</style>\n",
       "<table border=\"1\" class=\"dataframe\">\n",
       "  <thead>\n",
       "    <tr style=\"text-align: right;\">\n",
       "      <th></th>\n",
       "      <th>hex_id</th>\n",
       "      <th>temp_res</th>\n",
       "      <th>ndmi_geometry</th>\n",
       "      <th>ndmi_city</th>\n",
       "      <th>ndmi_res</th>\n",
       "      <th>ndvi_geometry</th>\n",
       "      <th>ndvi_city</th>\n",
       "      <th>ndvi_res</th>\n",
       "      <th>ndvi_mean</th>\n",
       "      <th>ndvi_std</th>\n",
       "      <th>...</th>\n",
       "      <th>ndmi_mean</th>\n",
       "      <th>ndmi_median</th>\n",
       "      <th>ndmi_diff</th>\n",
       "      <th>temp_diff_mean</th>\n",
       "      <th>hex_id_9</th>\n",
       "      <th>city</th>\n",
       "      <th>type</th>\n",
       "      <th>pobtot</th>\n",
       "      <th>EspPublico</th>\n",
       "      <th>geometry</th>\n",
       "    </tr>\n",
       "  </thead>\n",
       "  <tbody>\n",
       "    <tr>\n",
       "      <th>0</th>\n",
       "      <td>8b4995ba6588fff</td>\n",
       "      <td>11</td>\n",
       "      <td>0103000020E610000001000000070000000BD0A62EF0C8...</td>\n",
       "      <td>CDMX</td>\n",
       "      <td>11</td>\n",
       "      <td>0103000020E610000001000000070000000BD0A62EF0C8...</td>\n",
       "      <td>CDMX</td>\n",
       "      <td>11</td>\n",
       "      <td>0.185881</td>\n",
       "      <td>0.047103</td>\n",
       "      <td>...</td>\n",
       "      <td>-0.010758</td>\n",
       "      <td>-0.012197</td>\n",
       "      <td>0.025838</td>\n",
       "      <td>3.486848</td>\n",
       "      <td>894995ba65bffff</td>\n",
       "      <td>CDMX</td>\n",
       "      <td>urban</td>\n",
       "      <td>2039.0</td>\n",
       "      <td>1</td>\n",
       "      <td>POLYGON ((-99.14036 19.38605, -99.14007 19.386...</td>\n",
       "    </tr>\n",
       "    <tr>\n",
       "      <th>1</th>\n",
       "      <td>8b4995bb2addfff</td>\n",
       "      <td>11</td>\n",
       "      <td>0103000020E6100000010000000700000068C9A766D4C5...</td>\n",
       "      <td>CDMX</td>\n",
       "      <td>11</td>\n",
       "      <td>0103000020E6100000010000000700000068C9A766D4C5...</td>\n",
       "      <td>CDMX</td>\n",
       "      <td>11</td>\n",
       "      <td>0.118892</td>\n",
       "      <td>0.027617</td>\n",
       "      <td>...</td>\n",
       "      <td>-0.017982</td>\n",
       "      <td>-0.020709</td>\n",
       "      <td>0.029685</td>\n",
       "      <td>1.644124</td>\n",
       "      <td>894995bb2afffff</td>\n",
       "      <td>CDMX</td>\n",
       "      <td>urban</td>\n",
       "      <td>2148.0</td>\n",
       "      <td>1</td>\n",
       "      <td>POLYGON ((-99.09179 19.41838, -99.09149 19.418...</td>\n",
       "    </tr>\n",
       "    <tr>\n",
       "      <th>2</th>\n",
       "      <td>8b4995bb631dfff</td>\n",
       "      <td>11</td>\n",
       "      <td>0103000020E6100000010000000700000009012959D2C5...</td>\n",
       "      <td>CDMX</td>\n",
       "      <td>11</td>\n",
       "      <td>0103000020E6100000010000000700000009012959D2C5...</td>\n",
       "      <td>CDMX</td>\n",
       "      <td>11</td>\n",
       "      <td>0.287491</td>\n",
       "      <td>0.075361</td>\n",
       "      <td>...</td>\n",
       "      <td>-0.024106</td>\n",
       "      <td>-0.017269</td>\n",
       "      <td>0.089392</td>\n",
       "      <td>3.755980</td>\n",
       "      <td>894995bb633ffff</td>\n",
       "      <td>CDMX</td>\n",
       "      <td>urban</td>\n",
       "      <td>870.0</td>\n",
       "      <td>1</td>\n",
       "      <td>POLYGON ((-99.09160 19.39622, -99.09131 19.396...</td>\n",
       "    </tr>\n",
       "    <tr>\n",
       "      <th>3</th>\n",
       "      <td>8b499584059dfff</td>\n",
       "      <td>11</td>\n",
       "      <td>0103000020E610000001000000070000001A29DD85B4C9...</td>\n",
       "      <td>CDMX</td>\n",
       "      <td>11</td>\n",
       "      <td>0103000020E610000001000000070000001A29DD85B4C9...</td>\n",
       "      <td>CDMX</td>\n",
       "      <td>11</td>\n",
       "      <td>0.335775</td>\n",
       "      <td>0.098312</td>\n",
       "      <td>...</td>\n",
       "      <td>0.039553</td>\n",
       "      <td>0.033439</td>\n",
       "      <td>0.097250</td>\n",
       "      <td>2.788249</td>\n",
       "      <td>8949958405bffff</td>\n",
       "      <td>CDMX</td>\n",
       "      <td>urban</td>\n",
       "      <td>798.0</td>\n",
       "      <td>1</td>\n",
       "      <td>POLYGON ((-99.15181 19.29191, -99.15152 19.291...</td>\n",
       "    </tr>\n",
       "    <tr>\n",
       "      <th>4</th>\n",
       "      <td>8b4995845acdfff</td>\n",
       "      <td>11</td>\n",
       "      <td>0103000020E61000000100000007000000712BA49C9BCC...</td>\n",
       "      <td>CDMX</td>\n",
       "      <td>11</td>\n",
       "      <td>0103000020E61000000100000007000000712BA49C9BCC...</td>\n",
       "      <td>CDMX</td>\n",
       "      <td>11</td>\n",
       "      <td>0.533822</td>\n",
       "      <td>0.169322</td>\n",
       "      <td>...</td>\n",
       "      <td>0.110106</td>\n",
       "      <td>0.113493</td>\n",
       "      <td>0.131764</td>\n",
       "      <td>-3.565773</td>\n",
       "      <td>894995845afffff</td>\n",
       "      <td>CDMX</td>\n",
       "      <td>urban</td>\n",
       "      <td>1700.0</td>\n",
       "      <td>1</td>\n",
       "      <td>POLYGON ((-99.19700 19.28620, -99.19747 19.286...</td>\n",
       "    </tr>\n",
       "  </tbody>\n",
       "</table>\n",
       "<p>5 rows × 25 columns</p>\n",
       "</div>"
      ],
      "text/plain": [
       "            hex_id  temp_res  \\\n",
       "0  8b4995ba6588fff        11   \n",
       "1  8b4995bb2addfff        11   \n",
       "2  8b4995bb631dfff        11   \n",
       "3  8b499584059dfff        11   \n",
       "4  8b4995845acdfff        11   \n",
       "\n",
       "                                       ndmi_geometry ndmi_city  ndmi_res  \\\n",
       "0  0103000020E610000001000000070000000BD0A62EF0C8...      CDMX        11   \n",
       "1  0103000020E6100000010000000700000068C9A766D4C5...      CDMX        11   \n",
       "2  0103000020E6100000010000000700000009012959D2C5...      CDMX        11   \n",
       "3  0103000020E610000001000000070000001A29DD85B4C9...      CDMX        11   \n",
       "4  0103000020E61000000100000007000000712BA49C9BCC...      CDMX        11   \n",
       "\n",
       "                                       ndvi_geometry ndvi_city  ndvi_res  \\\n",
       "0  0103000020E610000001000000070000000BD0A62EF0C8...      CDMX        11   \n",
       "1  0103000020E6100000010000000700000068C9A766D4C5...      CDMX        11   \n",
       "2  0103000020E6100000010000000700000009012959D2C5...      CDMX        11   \n",
       "3  0103000020E610000001000000070000001A29DD85B4C9...      CDMX        11   \n",
       "4  0103000020E61000000100000007000000712BA49C9BCC...      CDMX        11   \n",
       "\n",
       "   ndvi_mean  ndvi_std  ...  ndmi_mean  ndmi_median  ndmi_diff  \\\n",
       "0   0.185881  0.047103  ...  -0.010758    -0.012197   0.025838   \n",
       "1   0.118892  0.027617  ...  -0.017982    -0.020709   0.029685   \n",
       "2   0.287491  0.075361  ...  -0.024106    -0.017269   0.089392   \n",
       "3   0.335775  0.098312  ...   0.039553     0.033439   0.097250   \n",
       "4   0.533822  0.169322  ...   0.110106     0.113493   0.131764   \n",
       "\n",
       "   temp_diff_mean         hex_id_9  city   type  pobtot  EspPublico  \\\n",
       "0        3.486848  894995ba65bffff  CDMX  urban  2039.0           1   \n",
       "1        1.644124  894995bb2afffff  CDMX  urban  2148.0           1   \n",
       "2        3.755980  894995bb633ffff  CDMX  urban   870.0           1   \n",
       "3        2.788249  8949958405bffff  CDMX  urban   798.0           1   \n",
       "4       -3.565773  894995845afffff  CDMX  urban  1700.0           1   \n",
       "\n",
       "                                            geometry  \n",
       "0  POLYGON ((-99.14036 19.38605, -99.14007 19.386...  \n",
       "1  POLYGON ((-99.09179 19.41838, -99.09149 19.418...  \n",
       "2  POLYGON ((-99.09160 19.39622, -99.09131 19.396...  \n",
       "3  POLYGON ((-99.15181 19.29191, -99.15152 19.291...  \n",
       "4  POLYGON ((-99.19700 19.28620, -99.19747 19.286...  \n",
       "\n",
       "[5 rows x 25 columns]"
      ]
     },
     "execution_count": 163,
     "metadata": {},
     "output_type": "execute_result"
    }
   ],
   "source": [
    "gdf_sindex = gdf.sindex\n",
    "\n",
    "# Create a Series of boolean values indicating which hexagons intersect with public spaces\n",
    "intersects_public_spaces = simplified_intersection['geometry'].apply(lambda geom: any(gdf_sindex.query(geom)))\n",
    "\n",
    "simplified_intersection['EspPublico'] = intersects_public_spaces.astype(int)\n",
    "simplified_intersection.head()"
   ]
  },
  {
   "cell_type": "code",
   "execution_count": 164,
   "id": "1a4bf335-0f56-4344-b4a9-463134cd33f6",
   "metadata": {},
   "outputs": [
    {
     "name": "stdout",
     "output_type": "stream",
     "text": [
      "Números de hexagonos sin Espacios Públicos: 189438 \n",
      "Número de Hexágonos con Espacios Públicos: 189438\n",
      "Número total de Hexágonos: 378876\n"
     ]
    }
   ],
   "source": [
    "cont_ceros_join = np.sum(simplified_intersection['EspPublico'] == 0)\n",
    "cont_uno_join = np.sum(simplified_intersection['EspPublico'])\n",
    "print(f'Números de hexagonos sin Espacios Públicos: {cont_ceros_join} \\nNúmero de Hexágonos con Espacios Públicos: {cont_uno_join}\\nNúmero total de Hexágonos: {cont_ceros_join + cont_uno_join}')"
   ]
  },
  {
   "cell_type": "markdown",
   "id": "24e5e463-d778-432a-8cd8-8044c31b0907",
   "metadata": {},
   "source": [
    "### Submuestreo de todas las variables"
   ]
  },
  {
   "cell_type": "code",
   "execution_count": 165,
   "id": "631b1bf3-16d7-4c25-a055-c33b4ac7dc08",
   "metadata": {},
   "outputs": [
    {
     "data": {
      "text/html": [
       "<div>\n",
       "<style scoped>\n",
       "    .dataframe tbody tr th:only-of-type {\n",
       "        vertical-align: middle;\n",
       "    }\n",
       "\n",
       "    .dataframe tbody tr th {\n",
       "        vertical-align: top;\n",
       "    }\n",
       "\n",
       "    .dataframe thead th {\n",
       "        text-align: right;\n",
       "    }\n",
       "</style>\n",
       "<table border=\"1\" class=\"dataframe\">\n",
       "  <thead>\n",
       "    <tr style=\"text-align: right;\">\n",
       "      <th></th>\n",
       "      <th>hex_id</th>\n",
       "      <th>temp_res</th>\n",
       "      <th>ndmi_geometry</th>\n",
       "      <th>ndmi_city</th>\n",
       "      <th>ndmi_res</th>\n",
       "      <th>ndvi_geometry</th>\n",
       "      <th>ndvi_city</th>\n",
       "      <th>ndvi_res</th>\n",
       "      <th>ndvi_mean</th>\n",
       "      <th>ndvi_std</th>\n",
       "      <th>...</th>\n",
       "      <th>ndmi_mean</th>\n",
       "      <th>ndmi_median</th>\n",
       "      <th>ndmi_diff</th>\n",
       "      <th>temp_diff_mean</th>\n",
       "      <th>hex_id_9</th>\n",
       "      <th>city</th>\n",
       "      <th>type</th>\n",
       "      <th>pobtot</th>\n",
       "      <th>EspPublico</th>\n",
       "      <th>geometry</th>\n",
       "    </tr>\n",
       "  </thead>\n",
       "  <tbody>\n",
       "    <tr>\n",
       "      <th>0</th>\n",
       "      <td>8b4995846a0efff</td>\n",
       "      <td>11</td>\n",
       "      <td>0103000020E6100000010000000700000089FC4AFED7C9...</td>\n",
       "      <td>CDMX</td>\n",
       "      <td>11</td>\n",
       "      <td>0103000020E6100000010000000700000089FC4AFED7C9...</td>\n",
       "      <td>CDMX</td>\n",
       "      <td>11</td>\n",
       "      <td>0.239553</td>\n",
       "      <td>0.051810</td>\n",
       "      <td>...</td>\n",
       "      <td>0.022954</td>\n",
       "      <td>0.018510</td>\n",
       "      <td>0.039170</td>\n",
       "      <td>0.550836</td>\n",
       "      <td>894995846a3ffff</td>\n",
       "      <td>CDMX</td>\n",
       "      <td>urban</td>\n",
       "      <td>682.0</td>\n",
       "      <td>1</td>\n",
       "      <td>POLYGON ((-99.15404 19.27828, -99.15375 19.278...</td>\n",
       "    </tr>\n",
       "    <tr>\n",
       "      <th>1</th>\n",
       "      <td>8b49958424dafff</td>\n",
       "      <td>11</td>\n",
       "      <td>0103000020E6100000010000000700000006CADD7253C8...</td>\n",
       "      <td>CDMX</td>\n",
       "      <td>11</td>\n",
       "      <td>0103000020E6100000010000000700000006CADD7253C8...</td>\n",
       "      <td>CDMX</td>\n",
       "      <td>11</td>\n",
       "      <td>0.170875</td>\n",
       "      <td>0.046430</td>\n",
       "      <td>...</td>\n",
       "      <td>0.018645</td>\n",
       "      <td>0.010528</td>\n",
       "      <td>0.082983</td>\n",
       "      <td>0.832709</td>\n",
       "      <td>8949958424fffff</td>\n",
       "      <td>CDMX</td>\n",
       "      <td>urban</td>\n",
       "      <td>645.0</td>\n",
       "      <td>1</td>\n",
       "      <td>POLYGON ((-99.13050 19.30693, -99.13032 19.307...</td>\n",
       "    </tr>\n",
       "    <tr>\n",
       "      <th>2</th>\n",
       "      <td>8b4995851c6bfff</td>\n",
       "      <td>11</td>\n",
       "      <td>0103000020E61000000100000007000000AA29E25382C7...</td>\n",
       "      <td>CDMX</td>\n",
       "      <td>11</td>\n",
       "      <td>0103000020E61000000100000007000000AA29E25382C7...</td>\n",
       "      <td>CDMX</td>\n",
       "      <td>11</td>\n",
       "      <td>0.135511</td>\n",
       "      <td>0.027419</td>\n",
       "      <td>...</td>\n",
       "      <td>-0.045433</td>\n",
       "      <td>-0.045057</td>\n",
       "      <td>0.029893</td>\n",
       "      <td>0.601372</td>\n",
       "      <td>894995851c7ffff</td>\n",
       "      <td>CDMX</td>\n",
       "      <td>urban</td>\n",
       "      <td>2088.0</td>\n",
       "      <td>1</td>\n",
       "      <td>POLYGON ((-99.11715 19.30626, -99.11686 19.306...</td>\n",
       "    </tr>\n",
       "    <tr>\n",
       "      <th>3</th>\n",
       "      <td>8b49958e48cafff</td>\n",
       "      <td>11</td>\n",
       "      <td>0103000020E610000001000000070000002B842F1F81C2...</td>\n",
       "      <td>CDMX</td>\n",
       "      <td>11</td>\n",
       "      <td>0103000020E610000001000000070000002B842F1F81C2...</td>\n",
       "      <td>CDMX</td>\n",
       "      <td>11</td>\n",
       "      <td>-0.012805</td>\n",
       "      <td>0.056860</td>\n",
       "      <td>...</td>\n",
       "      <td>0.085249</td>\n",
       "      <td>0.092395</td>\n",
       "      <td>0.101323</td>\n",
       "      <td>-3.151638</td>\n",
       "      <td>8949958e48fffff</td>\n",
       "      <td>CDMX</td>\n",
       "      <td>urban</td>\n",
       "      <td>305.0</td>\n",
       "      <td>1</td>\n",
       "      <td>POLYGON ((-99.03976 19.27522, -99.03947 19.275...</td>\n",
       "    </tr>\n",
       "    <tr>\n",
       "      <th>4</th>\n",
       "      <td>8b499585a059fff</td>\n",
       "      <td>11</td>\n",
       "      <td>0103000020E61000000100000007000000678A964C55C7...</td>\n",
       "      <td>CDMX</td>\n",
       "      <td>11</td>\n",
       "      <td>0103000020E61000000100000007000000678A964C55C7...</td>\n",
       "      <td>CDMX</td>\n",
       "      <td>11</td>\n",
       "      <td>0.131000</td>\n",
       "      <td>0.028524</td>\n",
       "      <td>...</td>\n",
       "      <td>0.000233</td>\n",
       "      <td>-0.000910</td>\n",
       "      <td>0.032760</td>\n",
       "      <td>2.249536</td>\n",
       "      <td>89499585a07ffff</td>\n",
       "      <td>CDMX</td>\n",
       "      <td>urban</td>\n",
       "      <td>2303.0</td>\n",
       "      <td>1</td>\n",
       "      <td>POLYGON ((-99.11492 19.36147, -99.11475 19.361...</td>\n",
       "    </tr>\n",
       "  </tbody>\n",
       "</table>\n",
       "<p>5 rows × 25 columns</p>\n",
       "</div>"
      ],
      "text/plain": [
       "            hex_id  temp_res  \\\n",
       "0  8b4995846a0efff        11   \n",
       "1  8b49958424dafff        11   \n",
       "2  8b4995851c6bfff        11   \n",
       "3  8b49958e48cafff        11   \n",
       "4  8b499585a059fff        11   \n",
       "\n",
       "                                       ndmi_geometry ndmi_city  ndmi_res  \\\n",
       "0  0103000020E6100000010000000700000089FC4AFED7C9...      CDMX        11   \n",
       "1  0103000020E6100000010000000700000006CADD7253C8...      CDMX        11   \n",
       "2  0103000020E61000000100000007000000AA29E25382C7...      CDMX        11   \n",
       "3  0103000020E610000001000000070000002B842F1F81C2...      CDMX        11   \n",
       "4  0103000020E61000000100000007000000678A964C55C7...      CDMX        11   \n",
       "\n",
       "                                       ndvi_geometry ndvi_city  ndvi_res  \\\n",
       "0  0103000020E6100000010000000700000089FC4AFED7C9...      CDMX        11   \n",
       "1  0103000020E6100000010000000700000006CADD7253C8...      CDMX        11   \n",
       "2  0103000020E61000000100000007000000AA29E25382C7...      CDMX        11   \n",
       "3  0103000020E610000001000000070000002B842F1F81C2...      CDMX        11   \n",
       "4  0103000020E61000000100000007000000678A964C55C7...      CDMX        11   \n",
       "\n",
       "   ndvi_mean  ndvi_std  ...  ndmi_mean  ndmi_median  ndmi_diff  \\\n",
       "0   0.239553  0.051810  ...   0.022954     0.018510   0.039170   \n",
       "1   0.170875  0.046430  ...   0.018645     0.010528   0.082983   \n",
       "2   0.135511  0.027419  ...  -0.045433    -0.045057   0.029893   \n",
       "3  -0.012805  0.056860  ...   0.085249     0.092395   0.101323   \n",
       "4   0.131000  0.028524  ...   0.000233    -0.000910   0.032760   \n",
       "\n",
       "   temp_diff_mean         hex_id_9  city   type  pobtot  EspPublico  \\\n",
       "0        0.550836  894995846a3ffff  CDMX  urban   682.0           1   \n",
       "1        0.832709  8949958424fffff  CDMX  urban   645.0           1   \n",
       "2        0.601372  894995851c7ffff  CDMX  urban  2088.0           1   \n",
       "3       -3.151638  8949958e48fffff  CDMX  urban   305.0           1   \n",
       "4        2.249536  89499585a07ffff  CDMX  urban  2303.0           1   \n",
       "\n",
       "                                            geometry  \n",
       "0  POLYGON ((-99.15404 19.27828, -99.15375 19.278...  \n",
       "1  POLYGON ((-99.13050 19.30693, -99.13032 19.307...  \n",
       "2  POLYGON ((-99.11715 19.30626, -99.11686 19.306...  \n",
       "3  POLYGON ((-99.03976 19.27522, -99.03947 19.275...  \n",
       "4  POLYGON ((-99.11492 19.36147, -99.11475 19.361...  \n",
       "\n",
       "[5 rows x 25 columns]"
      ]
     },
     "execution_count": 165,
     "metadata": {},
     "output_type": "execute_result"
    }
   ],
   "source": [
    "num_samples_join = len(simplified_intersection[simplified_intersection['EspPublico'] == 1])\n",
    "\n",
    "# Randomly sample 80632 hexagons with public spaces\n",
    "sample_with_public_spaces_join = simplified_intersection[simplified_intersection['EspPublico'] == 1].sample(n=num_samples_join, random_state=42)\n",
    "\n",
    "# Randomly sample 80632 hexagons without public spaces\n",
    "sample_without_public_spaces_join = simplified_intersection[simplified_intersection['EspPublico'] == 0].sample(n=num_samples_join, random_state=42)\n",
    "\n",
    "# Concatenate the two samples to get the final subsample\n",
    "simplified_intersection = pd.concat([sample_with_public_spaces_join, sample_without_public_spaces_join])\n",
    "simplified_intersection.reset_index(drop = True, inplace = True)\n",
    "simplified_intersection.head()"
   ]
  },
  {
   "cell_type": "code",
   "execution_count": 166,
   "id": "fc8f3c6c-b103-4675-8861-633f0c9163c3",
   "metadata": {},
   "outputs": [
    {
     "name": "stdout",
     "output_type": "stream",
     "text": [
      "Números de hexagonos sin Espacios Públicos: 189438 \n",
      "Número de Hexágonos con Espacios Públicos: 189438\n",
      "Número total de Hexágonos: 378876\n"
     ]
    }
   ],
   "source": [
    "contador_ceros_join = np.sum(simplified_intersection['EspPublico'] == 0)\n",
    "contador_uno_join = np.sum(simplified_intersection['EspPublico'])\n",
    "print(f'Números de hexagonos sin Espacios Públicos: {contador_ceros_join} \\nNúmero de Hexágonos con Espacios Públicos: {contador_uno_join}\\nNúmero total de Hexágonos: {contador_ceros_join + contador_uno_join}')"
   ]
  },
  {
   "cell_type": "markdown",
   "id": "334d857c-3009-4a92-9a1c-a8074abd2a98",
   "metadata": {},
   "source": [
    "### Clasificadores para temperatura, humedad, población, vegetación..."
   ]
  },
  {
   "cell_type": "code",
   "execution_count": 167,
   "id": "2d6f5ac1-365a-4d40-94a8-9ab4a91a053f",
   "metadata": {},
   "outputs": [],
   "source": [
    "xxx = simplified_intersection[[\"pobtot\", 'ndvi_mean','ndvi_std','ndvi_median','ndvi_max','ndvi_min','ndvi_diff','ndvi_tend','ndmi_mean','ndmi_median','ndmi_diff', 'temp_diff_mean']]\n",
    "yyy = simplified_intersection['EspPublico']"
   ]
  },
  {
   "cell_type": "code",
   "execution_count": 168,
   "id": "5acb290d-c58a-4aed-be84-692664186032",
   "metadata": {},
   "outputs": [
    {
     "data": {
      "text/plain": [
       "array([1, 0])"
      ]
     },
     "execution_count": 168,
     "metadata": {},
     "output_type": "execute_result"
    }
   ],
   "source": [
    "yyy.unique()"
   ]
  },
  {
   "cell_type": "markdown",
   "id": "2ef0de45-f966-4289-b413-ad94c2e04cc2",
   "metadata": {},
   "source": [
    "### Logistic Regression"
   ]
  },
  {
   "cell_type": "code",
   "execution_count": 169,
   "id": "1c3f4d1f-07d8-47c3-b174-0ad955b15f4f",
   "metadata": {},
   "outputs": [],
   "source": [
    "x_train, x_test, y_train, y_test = train_test_split(xxx, yyy, test_size=0.2, random_state=42)\n",
    "\n",
    "# Reemplazar valores infinitos por NaN\n",
    "x_train.replace([np.inf, -np.inf], np.nan, inplace=True)\n",
    "x_test.replace([np.inf, -np.inf], np.nan, inplace=True)\n",
    "\n",
    "# Combinar x y y para eliminar filas con NaN de forma coherente\n",
    "train_data = x_train.copy()\n",
    "train_data['target'] = y_train  # Asegúrate de que 'target' sea el nombre de tu columna objetivo\n",
    "\n",
    "# Eliminar filas con NaN en el conjunto de entrenamiento\n",
    "train_data.dropna(inplace=True)\n",
    "\n",
    "# Ahora separa de nuevo x_train y y_train\n",
    "x_train_clean = train_data.drop(columns=['target'])\n",
    "y_train_clean = train_data['target']\n",
    "\n",
    "# Hacer lo mismo para el conjunto de prueba\n",
    "test_data = x_test.copy()\n",
    "test_data['target'] = y_test\n",
    "test_data.dropna(inplace=True)\n",
    "\n",
    "# Asegurarte de que el conjunto de prueba no tenga NaN\n",
    "x_test_clean = test_data.drop(columns=['target'])\n",
    "y_test_clean = test_data['target']\n",
    "\n",
    "# Escalar los datos\n",
    "scaler = StandardScaler()\n",
    "x_train_scale = scaler.fit_transform(x_train_clean)\n",
    "x_test_scale = scaler.transform(x_test_clean)"
   ]
  },
  {
   "cell_type": "code",
   "execution_count": 170,
   "id": "849bd296-94a5-4bd6-b5ea-4963650b38c0",
   "metadata": {},
   "outputs": [
    {
     "data": {
      "image/png": "[encoded data removed]",
      "text/plain": [
       "<Figure size 1000x700 with 2 Axes>"
      ]
     },
     "metadata": {},
     "output_type": "display_data"
    }
   ],
   "source": [
    "clf2 = LogisticRegression()\n",
    "clf2.fit(x_train_scale, y_train_clean)\n",
    "\n",
    "y_pred = clf2.predict(x_test_scale)\n",
    "\n",
    "#Generar matriz de confusión:\n",
    "cm2 = confusion_matrix(y_test_clean, y_pred)\n",
    "class_labels = ['Espacio Público', 'No Espacio Público']\n",
    "\n",
    "plt.figure(figsize=(10, 7))\n",
    "sns.heatmap(cm2, annot=True, fmt=\"g\", cmap=\"Blues\", xticklabels=class_labels, yticklabels=class_labels)\n",
    "plt.xlabel('Predicted', fontsize=12, fontweight='bold')\n",
    "plt.ylabel('Actual', fontsize=12, fontweight='bold')\n",
    "plt.title('Matriz de Confusión', fontsize=15, fontweight='bold')\n",
    "plt.show()"
   ]
  },
  {
   "cell_type": "code",
   "execution_count": 171,
   "id": "fb14b260-8e8a-4a19-801e-2ef15eb97492",
   "metadata": {},
   "outputs": [
    {
     "name": "stdout",
     "output_type": "stream",
     "text": [
      "Accuracy: 0.7058168506326294\n"
     ]
    }
   ],
   "source": [
    "accuracy = accuracy_score(y_test_clean, y_pred)\n",
    "print(f'Accuracy: {accuracy}')"
   ]
  },
  {
   "cell_type": "code",
   "execution_count": 172,
   "id": "2642ca5c-731a-4643-859e-e91fdd44e182",
   "metadata": {},
   "outputs": [
    {
     "name": "stdout",
     "output_type": "stream",
     "text": [
      "              precision    recall  f1-score   support\n",
      "\n",
      "           0       0.70      0.65      0.68     33966\n",
      "           1       0.71      0.75      0.73     37877\n",
      "\n",
      "    accuracy                           0.71     71843\n",
      "   macro avg       0.71      0.70      0.70     71843\n",
      "weighted avg       0.71      0.71      0.70     71843\n",
      "\n"
     ]
    }
   ],
   "source": [
    "print(classification_report(y_test_clean, y_pred))"
   ]
  },
  {
   "cell_type": "markdown",
   "id": "e19d8818-fa89-4ed4-8927-8ea8fb020771",
   "metadata": {},
   "source": [
    "### Naive Bayes"
   ]
  },
  {
   "cell_type": "code",
   "execution_count": 173,
   "id": "24e040d6-4ce7-40fc-bbf1-76331bee0c96",
   "metadata": {},
   "outputs": [
    {
     "data": {
      "text/html": [
       "<style>#sk-container-id-5 {color: black;}#sk-container-id-5 pre{padding: 0;}#sk-container-id-5 div.sk-toggleable {background-color: white;}#sk-container-id-5 label.sk-toggleable__label {cursor: pointer;display: block;width: 100%;margin-bottom: 0;padding: 0.3em;box-sizing: border-box;text-align: center;}#sk-container-id-5 label.sk-toggleable__label-arrow:before {content: \"▸\";float: left;margin-right: 0.25em;color: #696969;}#sk-container-id-5 label.sk-toggleable__label-arrow:hover:before {color: black;}#sk-container-id-5 div.sk-estimator:hover label.sk-toggleable__label-arrow:before {color: black;}#sk-container-id-5 div.sk-toggleable__content {max-height: 0;max-width: 0;overflow: hidden;text-align: left;background-color: #f0f8ff;}#sk-container-id-5 div.sk-toggleable__content pre {margin: 0.2em;color: black;border-radius: 0.25em;background-color: #f0f8ff;}#sk-container-id-5 input.sk-toggleable__control:checked~div.sk-toggleable__content {max-height: 200px;max-width: 100%;overflow: auto;}#sk-container-id-5 input.sk-toggleable__control:checked~label.sk-toggleable__label-arrow:before {content: \"▾\";}#sk-container-id-5 div.sk-estimator input.sk-toggleable__control:checked~label.sk-toggleable__label {background-color: #d4ebff;}#sk-container-id-5 div.sk-label input.sk-toggleable__control:checked~label.sk-toggleable__label {background-color: #d4ebff;}#sk-container-id-5 input.sk-hidden--visually {border: 0;clip: rect(1px 1px 1px 1px);clip: rect(1px, 1px, 1px, 1px);height: 1px;margin: -1px;overflow: hidden;padding: 0;position: absolute;width: 1px;}#sk-container-id-5 div.sk-estimator {font-family: monospace;background-color: #f0f8ff;border: 1px dotted black;border-radius: 0.25em;box-sizing: border-box;margin-bottom: 0.5em;}#sk-container-id-5 div.sk-estimator:hover {background-color: #d4ebff;}#sk-container-id-5 div.sk-parallel-item::after {content: \"\";width: 100%;border-bottom: 1px solid gray;flex-grow: 1;}#sk-container-id-5 div.sk-label:hover label.sk-toggleable__label {background-color: #d4ebff;}#sk-container-id-5 div.sk-serial::before {content: \"\";position: absolute;border-left: 1px solid gray;box-sizing: border-box;top: 0;bottom: 0;left: 50%;z-index: 0;}#sk-container-id-5 div.sk-serial {display: flex;flex-direction: column;align-items: center;background-color: white;padding-right: 0.2em;padding-left: 0.2em;position: relative;}#sk-container-id-5 div.sk-item {position: relative;z-index: 1;}#sk-container-id-5 div.sk-parallel {display: flex;align-items: stretch;justify-content: center;background-color: white;position: relative;}#sk-container-id-5 div.sk-item::before, #sk-container-id-5 div.sk-parallel-item::before {content: \"\";position: absolute;border-left: 1px solid gray;box-sizing: border-box;top: 0;bottom: 0;left: 50%;z-index: -1;}#sk-container-id-5 div.sk-parallel-item {display: flex;flex-direction: column;z-index: 1;position: relative;background-color: white;}#sk-container-id-5 div.sk-parallel-item:first-child::after {align-self: flex-end;width: 50%;}#sk-container-id-5 div.sk-parallel-item:last-child::after {align-self: flex-start;width: 50%;}#sk-container-id-5 div.sk-parallel-item:only-child::after {width: 0;}#sk-container-id-5 div.sk-dashed-wrapped {border: 1px dashed gray;margin: 0 0.4em 0.5em 0.4em;box-sizing: border-box;padding-bottom: 0.4em;background-color: white;}#sk-container-id-5 div.sk-label label {font-family: monospace;font-weight: bold;display: inline-block;line-height: 1.2em;}#sk-container-id-5 div.sk-label-container {text-align: center;}#sk-container-id-5 div.sk-container {/* jupyter's `normalize.less` sets `[hidden] { display: none; }` but bootstrap.min.css set `[hidden] { display: none !important; }` so we also need the `!important` here to be able to override the default hidden behavior on the sphinx rendered scikit-learn.org. See: https://github.com/scikit-learn/scikit-learn/issues/21755 */display: inline-block !important;position: relative;}#sk-container-id-5 div.sk-text-repr-fallback {display: none;}</style><div id=\"sk-container-id-5\" class=\"sk-top-container\"><div class=\"sk-text-repr-fallback\"><pre>GaussianNB()</pre><b>In a Jupyter environment, please rerun this cell to show the HTML representation or trust the notebook. <br />On GitHub, the HTML representation is unable to render, please try loading this page with nbviewer.org.</b></div><div class=\"sk-container\" hidden><div class=\"sk-item\"><div class=\"sk-estimator sk-toggleable\"><input class=\"sk-toggleable__control sk-hidden--visually\" id=\"sk-estimator-id-5\" type=\"checkbox\" checked><label for=\"sk-estimator-id-5\" class=\"sk-toggleable__label sk-toggleable__label-arrow\">GaussianNB</label><div class=\"sk-toggleable__content\"><pre>GaussianNB()</pre></div></div></div></div></div>"
      ],
      "text/plain": [
       "GaussianNB()"
      ]
     },
     "execution_count": 173,
     "metadata": {},
     "output_type": "execute_result"
    }
   ],
   "source": [
    "nb3 = GaussianNB()\n",
    "nb3.fit(x_train_scale, y_train_clean)"
   ]
  },
  {
   "cell_type": "code",
   "execution_count": 174,
   "id": "b77eb29d-d4f4-4ede-b587-52c406f3281c",
   "metadata": {},
   "outputs": [
    {
     "data": {
      "image/png": "[encoded data removed]",
      "text/plain": [
       "<Figure size 1000x700 with 2 Axes>"
      ]
     },
     "metadata": {},
     "output_type": "display_data"
    }
   ],
   "source": [
    "y_prend = nb3.predict(x_test_clean)\n",
    "cm2 = confusion_matrix(y_test_clean, y_prend)\n",
    "class_labels = ['Espacio Público', 'No Espacio Público']\n",
    "plt.figure(figsize = (10,7))\n",
    "sns.heatmap(cm2, annot = True, fmt = \"g\", cmap=\"Reds\", xticklabels=class_labels, yticklabels=class_labels)\n",
    "plt.xlabel('Predicted', fontsize = 12, fontweight  = 'bold')\n",
    "plt.ylabel('Actual', fontsize = 12, fontweight  = 'bold')\n",
    "plt.title('Matriz de Confusión', fontsize = 15, fontweight = 'bold')\n",
    "plt.show()"
   ]
  },
  {
   "cell_type": "code",
   "execution_count": 175,
   "id": "26e0c678-4dab-4078-8f22-e45690ace1db",
   "metadata": {},
   "outputs": [
    {
     "name": "stdout",
     "output_type": "stream",
     "text": [
      "Accuracy: 0.5272190749272719\n"
     ]
    }
   ],
   "source": [
    "accuracy = accuracy_score(y_test_clean, y_prend)\n",
    "print(f'Accuracy: {accuracy}')"
   ]
  },
  {
   "cell_type": "code",
   "execution_count": 176,
   "id": "2a71767b-eb8b-4989-b6bd-d8fa03e2dd3a",
   "metadata": {},
   "outputs": [
    {
     "name": "stdout",
     "output_type": "stream",
     "text": [
      "              precision    recall  f1-score   support\n",
      "\n",
      "           0       0.00      0.00      0.00     33966\n",
      "           1       0.53      1.00      0.69     37877\n",
      "\n",
      "    accuracy                           0.53     71843\n",
      "   macro avg       0.26      0.50      0.35     71843\n",
      "weighted avg       0.28      0.53      0.36     71843\n",
      "\n"
     ]
    }
   ],
   "source": [
    "print(classification_report(y_test_clean, y_prend))"
   ]
  },
  {
   "cell_type": "markdown",
   "id": "89a1aad7-bf1d-496b-a176-582194f6eb4e",
   "metadata": {},
   "source": [
    "### Random Forest Classifier"
   ]
  },
  {
   "cell_type": "code",
   "execution_count": 177,
   "id": "e13793db-8f7a-4f4f-bbd2-2e5c8bf01fc2",
   "metadata": {},
   "outputs": [],
   "source": [
    "rf3 = RandomForestClassifier(n_estimators=120, random_state=42)  \n",
    "rf3.fit(x_train_scale, y_train_clean)\n",
    "\n",
    "# Realizar predicciones en el conjunto de prueba\n",
    "y_predd = rf3.predict(x_test_clean)"
   ]
  },
  {
   "cell_type": "code",
   "execution_count": 178,
   "id": "8e6c1637-e5f2-4c8f-99c3-b3523a2445f9",
   "metadata": {},
   "outputs": [
    {
     "data": {
      "image/png": "[encoded data removed]",
      "text/plain": [
       "<Figure size 1000x700 with 2 Axes>"
      ]
     },
     "metadata": {},
     "output_type": "display_data"
    }
   ],
   "source": [
    "cm2 = confusion_matrix(y_test_clean, y_predd)\n",
    "class_labels = ['Espacio Verde Público', 'No Espacio Verde Público']\n",
    "plt.figure(figsize = (10,7))\n",
    "sns.heatmap(cm2, annot = True, fmt = \"g\", cmap=\"Greens\", xticklabels=class_labels, yticklabels=class_labels)\n",
    "plt.xlabel('Predicted', fontsize = 12, fontweight  = 'bold')\n",
    "plt.ylabel('Actual', fontsize = 12, fontweight  = 'bold')\n",
    "plt.title('Matriz de Confusión', fontsize = 15, fontweight = 'bold')\n",
    "plt.show()"
   ]
  },
  {
   "cell_type": "code",
   "execution_count": 179,
   "id": "f7a17113-9a4f-44ff-a5b1-1a1819617e18",
   "metadata": {},
   "outputs": [
    {
     "name": "stdout",
     "output_type": "stream",
     "text": [
      "Accuracy: 0.5424884818284315\n"
     ]
    }
   ],
   "source": [
    "accuracy = accuracy_score(y_test_clean, y_predd)\n",
    "print(f'Accuracy: {accuracy}')"
   ]
  },
  {
   "cell_type": "code",
   "execution_count": 180,
   "id": "8add7703-7300-46f6-9bb7-2dbe05c086ec",
   "metadata": {},
   "outputs": [
    {
     "name": "stdout",
     "output_type": "stream",
     "text": [
      "              precision    recall  f1-score   support\n",
      "\n",
      "           0       0.53      0.29      0.38     33966\n",
      "           1       0.55      0.77      0.64     37877\n",
      "\n",
      "    accuracy                           0.54     71843\n",
      "   macro avg       0.54      0.53      0.51     71843\n",
      "weighted avg       0.54      0.54      0.51     71843\n",
      "\n"
     ]
    }
   ],
   "source": [
    "print(classification_report(y_test_clean, y_predd))"
   ]
  },
  {
   "cell_type": "markdown",
   "id": "391be7d1-8278-479b-a519-3e529b128cbb",
   "metadata": {},
   "source": [
    "### Ada Boost Clasifier"
   ]
  },
  {
   "cell_type": "code",
   "execution_count": 181,
   "id": "4a28e7fa-3720-4989-a436-f1104838a04a",
   "metadata": {},
   "outputs": [
    {
     "data": {
      "text/html": [
       "<style>#sk-container-id-6 {color: black;}#sk-container-id-6 pre{padding: 0;}#sk-container-id-6 div.sk-toggleable {background-color: white;}#sk-container-id-6 label.sk-toggleable__label {cursor: pointer;display: block;width: 100%;margin-bottom: 0;padding: 0.3em;box-sizing: border-box;text-align: center;}#sk-container-id-6 label.sk-toggleable__label-arrow:before {content: \"▸\";float: left;margin-right: 0.25em;color: #696969;}#sk-container-id-6 label.sk-toggleable__label-arrow:hover:before {color: black;}#sk-container-id-6 div.sk-estimator:hover label.sk-toggleable__label-arrow:before {color: black;}#sk-container-id-6 div.sk-toggleable__content {max-height: 0;max-width: 0;overflow: hidden;text-align: left;background-color: #f0f8ff;}#sk-container-id-6 div.sk-toggleable__content pre {margin: 0.2em;color: black;border-radius: 0.25em;background-color: #f0f8ff;}#sk-container-id-6 input.sk-toggleable__control:checked~div.sk-toggleable__content {max-height: 200px;max-width: 100%;overflow: auto;}#sk-container-id-6 input.sk-toggleable__control:checked~label.sk-toggleable__label-arrow:before {content: \"▾\";}#sk-container-id-6 div.sk-estimator input.sk-toggleable__control:checked~label.sk-toggleable__label {background-color: #d4ebff;}#sk-container-id-6 div.sk-label input.sk-toggleable__control:checked~label.sk-toggleable__label {background-color: #d4ebff;}#sk-container-id-6 input.sk-hidden--visually {border: 0;clip: rect(1px 1px 1px 1px);clip: rect(1px, 1px, 1px, 1px);height: 1px;margin: -1px;overflow: hidden;padding: 0;position: absolute;width: 1px;}#sk-container-id-6 div.sk-estimator {font-family: monospace;background-color: #f0f8ff;border: 1px dotted black;border-radius: 0.25em;box-sizing: border-box;margin-bottom: 0.5em;}#sk-container-id-6 div.sk-estimator:hover {background-color: #d4ebff;}#sk-container-id-6 div.sk-parallel-item::after {content: \"\";width: 100%;border-bottom: 1px solid gray;flex-grow: 1;}#sk-container-id-6 div.sk-label:hover label.sk-toggleable__label {background-color: #d4ebff;}#sk-container-id-6 div.sk-serial::before {content: \"\";position: absolute;border-left: 1px solid gray;box-sizing: border-box;top: 0;bottom: 0;left: 50%;z-index: 0;}#sk-container-id-6 div.sk-serial {display: flex;flex-direction: column;align-items: center;background-color: white;padding-right: 0.2em;padding-left: 0.2em;position: relative;}#sk-container-id-6 div.sk-item {position: relative;z-index: 1;}#sk-container-id-6 div.sk-parallel {display: flex;align-items: stretch;justify-content: center;background-color: white;position: relative;}#sk-container-id-6 div.sk-item::before, #sk-container-id-6 div.sk-parallel-item::before {content: \"\";position: absolute;border-left: 1px solid gray;box-sizing: border-box;top: 0;bottom: 0;left: 50%;z-index: -1;}#sk-container-id-6 div.sk-parallel-item {display: flex;flex-direction: column;z-index: 1;position: relative;background-color: white;}#sk-container-id-6 div.sk-parallel-item:first-child::after {align-self: flex-end;width: 50%;}#sk-container-id-6 div.sk-parallel-item:last-child::after {align-self: flex-start;width: 50%;}#sk-container-id-6 div.sk-parallel-item:only-child::after {width: 0;}#sk-container-id-6 div.sk-dashed-wrapped {border: 1px dashed gray;margin: 0 0.4em 0.5em 0.4em;box-sizing: border-box;padding-bottom: 0.4em;background-color: white;}#sk-container-id-6 div.sk-label label {font-family: monospace;font-weight: bold;display: inline-block;line-height: 1.2em;}#sk-container-id-6 div.sk-label-container {text-align: center;}#sk-container-id-6 div.sk-container {/* jupyter's `normalize.less` sets `[hidden] { display: none; }` but bootstrap.min.css set `[hidden] { display: none !important; }` so we also need the `!important` here to be able to override the default hidden behavior on the sphinx rendered scikit-learn.org. See: https://github.com/scikit-learn/scikit-learn/issues/21755 */display: inline-block !important;position: relative;}#sk-container-id-6 div.sk-text-repr-fallback {display: none;}</style><div id=\"sk-container-id-6\" class=\"sk-top-container\"><div class=\"sk-text-repr-fallback\"><pre>AdaBoostClassifier(n_estimators=100)</pre><b>In a Jupyter environment, please rerun this cell to show the HTML representation or trust the notebook. <br />On GitHub, the HTML representation is unable to render, please try loading this page with nbviewer.org.</b></div><div class=\"sk-container\" hidden><div class=\"sk-item\"><div class=\"sk-estimator sk-toggleable\"><input class=\"sk-toggleable__control sk-hidden--visually\" id=\"sk-estimator-id-6\" type=\"checkbox\" checked><label for=\"sk-estimator-id-6\" class=\"sk-toggleable__label sk-toggleable__label-arrow\">AdaBoostClassifier</label><div class=\"sk-toggleable__content\"><pre>AdaBoostClassifier(n_estimators=100)</pre></div></div></div></div></div>"
      ],
      "text/plain": [
       "AdaBoostClassifier(n_estimators=100)"
      ]
     },
     "execution_count": 181,
     "metadata": {},
     "output_type": "execute_result"
    }
   ],
   "source": [
    "model2 = AdaBoostClassifier(n_estimators = 100)\n",
    "model2.fit(x_train_scale, y_train_clean)"
   ]
  },
  {
   "cell_type": "code",
   "execution_count": 182,
   "id": "ef779a31-d297-49d7-bc45-666e79401fd2",
   "metadata": {},
   "outputs": [
    {
     "data": {
      "text/plain": [
       "array([1, 1, 0, ..., 1, 0, 1])"
      ]
     },
     "execution_count": 182,
     "metadata": {},
     "output_type": "execute_result"
    }
   ],
   "source": [
    "predictions2 = model2.predict(x_test_clean)\n",
    "predictions2"
   ]
  },
  {
   "cell_type": "code",
   "execution_count": 183,
   "id": "afd12681-85b4-4f0b-a6d9-a50541bc5495",
   "metadata": {},
   "outputs": [
    {
     "data": {
      "image/png": "[encoded data removed]",
      "text/plain": [
       "<Figure size 1000x700 with 2 Axes>"
      ]
     },
     "metadata": {},
     "output_type": "display_data"
    }
   ],
   "source": [
    "cm2 = confusion_matrix(y_test_clean, predictions2)\n",
    "class_labels = ['Espacio Verde Público', 'No Espacio Verde Público']\n",
    "plt.figure(figsize = (10,7))\n",
    "sns.heatmap(cm2, annot = True, fmt = \"g\", cmap=\"viridis\", xticklabels=class_labels, yticklabels=class_labels)\n",
    "plt.xlabel('Predicted', fontsize = 12, fontweight  = 'bold')\n",
    "plt.ylabel('Actual', fontsize = 12, fontweight  = 'bold')\n",
    "plt.title('Matriz de Confusión', fontsize = 15, fontweight = 'bold')\n",
    "plt.show()"
   ]
  },
  {
   "cell_type": "code",
   "execution_count": 184,
   "id": "37a96639-d250-4364-9f4e-aba88d5db470",
   "metadata": {},
   "outputs": [
    {
     "name": "stdout",
     "output_type": "stream",
     "text": [
      "              precision    recall  f1-score   support\n",
      "\n",
      "           0       0.42      0.06      0.10     33966\n",
      "           1       0.52      0.93      0.67     37877\n",
      "\n",
      "    accuracy                           0.52     71843\n",
      "   macro avg       0.47      0.49      0.39     71843\n",
      "weighted avg       0.48      0.52      0.40     71843\n",
      "\n"
     ]
    }
   ],
   "source": [
    "print(classification_report(y_test_clean, predictions2))"
   ]
  },
  {
   "cell_type": "markdown",
   "id": "57172718-89a8-4d88-80b2-664d3ac2295c",
   "metadata": {},
   "source": [
    "### XGB Classifier"
   ]
  },
  {
   "cell_type": "code",
   "execution_count": 185,
   "id": "843f1684-783d-48f1-b6a5-b43bfd7e1f5d",
   "metadata": {},
   "outputs": [
    {
     "data": {
      "text/html": [
       "<style>#sk-container-id-7 {color: black;}#sk-container-id-7 pre{padding: 0;}#sk-container-id-7 div.sk-toggleable {background-color: white;}#sk-container-id-7 label.sk-toggleable__label {cursor: pointer;display: block;width: 100%;margin-bottom: 0;padding: 0.3em;box-sizing: border-box;text-align: center;}#sk-container-id-7 label.sk-toggleable__label-arrow:before {content: \"▸\";float: left;margin-right: 0.25em;color: #696969;}#sk-container-id-7 label.sk-toggleable__label-arrow:hover:before {color: black;}#sk-container-id-7 div.sk-estimator:hover label.sk-toggleable__label-arrow:before {color: black;}#sk-container-id-7 div.sk-toggleable__content {max-height: 0;max-width: 0;overflow: hidden;text-align: left;background-color: #f0f8ff;}#sk-container-id-7 div.sk-toggleable__content pre {margin: 0.2em;color: black;border-radius: 0.25em;background-color: #f0f8ff;}#sk-container-id-7 input.sk-toggleable__control:checked~div.sk-toggleable__content {max-height: 200px;max-width: 100%;overflow: auto;}#sk-container-id-7 input.sk-toggleable__control:checked~label.sk-toggleable__label-arrow:before {content: \"▾\";}#sk-container-id-7 div.sk-estimator input.sk-toggleable__control:checked~label.sk-toggleable__label {background-color: #d4ebff;}#sk-container-id-7 div.sk-label input.sk-toggleable__control:checked~label.sk-toggleable__label {background-color: #d4ebff;}#sk-container-id-7 input.sk-hidden--visually {border: 0;clip: rect(1px 1px 1px 1px);clip: rect(1px, 1px, 1px, 1px);height: 1px;margin: -1px;overflow: hidden;padding: 0;position: absolute;width: 1px;}#sk-container-id-7 div.sk-estimator {font-family: monospace;background-color: #f0f8ff;border: 1px dotted black;border-radius: 0.25em;box-sizing: border-box;margin-bottom: 0.5em;}#sk-container-id-7 div.sk-estimator:hover {background-color: #d4ebff;}#sk-container-id-7 div.sk-parallel-item::after {content: \"\";width: 100%;border-bottom: 1px solid gray;flex-grow: 1;}#sk-container-id-7 div.sk-label:hover label.sk-toggleable__label {background-color: #d4ebff;}#sk-container-id-7 div.sk-serial::before {content: \"\";position: absolute;border-left: 1px solid gray;box-sizing: border-box;top: 0;bottom: 0;left: 50%;z-index: 0;}#sk-container-id-7 div.sk-serial {display: flex;flex-direction: column;align-items: center;background-color: white;padding-right: 0.2em;padding-left: 0.2em;position: relative;}#sk-container-id-7 div.sk-item {position: relative;z-index: 1;}#sk-container-id-7 div.sk-parallel {display: flex;align-items: stretch;justify-content: center;background-color: white;position: relative;}#sk-container-id-7 div.sk-item::before, #sk-container-id-7 div.sk-parallel-item::before {content: \"\";position: absolute;border-left: 1px solid gray;box-sizing: border-box;top: 0;bottom: 0;left: 50%;z-index: -1;}#sk-container-id-7 div.sk-parallel-item {display: flex;flex-direction: column;z-index: 1;position: relative;background-color: white;}#sk-container-id-7 div.sk-parallel-item:first-child::after {align-self: flex-end;width: 50%;}#sk-container-id-7 div.sk-parallel-item:last-child::after {align-self: flex-start;width: 50%;}#sk-container-id-7 div.sk-parallel-item:only-child::after {width: 0;}#sk-container-id-7 div.sk-dashed-wrapped {border: 1px dashed gray;margin: 0 0.4em 0.5em 0.4em;box-sizing: border-box;padding-bottom: 0.4em;background-color: white;}#sk-container-id-7 div.sk-label label {font-family: monospace;font-weight: bold;display: inline-block;line-height: 1.2em;}#sk-container-id-7 div.sk-label-container {text-align: center;}#sk-container-id-7 div.sk-container {/* jupyter's `normalize.less` sets `[hidden] { display: none; }` but bootstrap.min.css set `[hidden] { display: none !important; }` so we also need the `!important` here to be able to override the default hidden behavior on the sphinx rendered scikit-learn.org. See: https://github.com/scikit-learn/scikit-learn/issues/21755 */display: inline-block !important;position: relative;}#sk-container-id-7 div.sk-text-repr-fallback {display: none;}</style><div id=\"sk-container-id-7\" class=\"sk-top-container\"><div class=\"sk-text-repr-fallback\"><pre>XGBClassifier(base_score=None, booster=None, callbacks=None,\n",
       "              colsample_bylevel=None, colsample_bynode=None,\n",
       "              colsample_bytree=None, device=None, early_stopping_rounds=None,\n",
       "              enable_categorical=False, eval_metric=None, feature_types=None,\n",
       "              gamma=None, grow_policy=None, importance_type=None,\n",
       "              interaction_constraints=None, learning_rate=None, max_bin=None,\n",
       "              max_cat_threshold=None, max_cat_to_onehot=None,\n",
       "              max_delta_step=None, max_depth=None, max_leaves=None,\n",
       "              min_child_weight=None, missing=nan, monotone_constraints=None,\n",
       "              multi_strategy=None, n_estimators=None, n_jobs=None,\n",
       "              num_parallel_tree=None, random_state=None, ...)</pre><b>In a Jupyter environment, please rerun this cell to show the HTML representation or trust the notebook. <br />On GitHub, the HTML representation is unable to render, please try loading this page with nbviewer.org.</b></div><div class=\"sk-container\" hidden><div class=\"sk-item\"><div class=\"sk-estimator sk-toggleable\"><input class=\"sk-toggleable__control sk-hidden--visually\" id=\"sk-estimator-id-7\" type=\"checkbox\" checked><label for=\"sk-estimator-id-7\" class=\"sk-toggleable__label sk-toggleable__label-arrow\">XGBClassifier</label><div class=\"sk-toggleable__content\"><pre>XGBClassifier(base_score=None, booster=None, callbacks=None,\n",
       "              colsample_bylevel=None, colsample_bynode=None,\n",
       "              colsample_bytree=None, device=None, early_stopping_rounds=None,\n",
       "              enable_categorical=False, eval_metric=None, feature_types=None,\n",
       "              gamma=None, grow_policy=None, importance_type=None,\n",
       "              interaction_constraints=None, learning_rate=None, max_bin=None,\n",
       "              max_cat_threshold=None, max_cat_to_onehot=None,\n",
       "              max_delta_step=None, max_depth=None, max_leaves=None,\n",
       "              min_child_weight=None, missing=nan, monotone_constraints=None,\n",
       "              multi_strategy=None, n_estimators=None, n_jobs=None,\n",
       "              num_parallel_tree=None, random_state=None, ...)</pre></div></div></div></div></div>"
      ],
      "text/plain": [
       "XGBClassifier(base_score=None, booster=None, callbacks=None,\n",
       "              colsample_bylevel=None, colsample_bynode=None,\n",
       "              colsample_bytree=None, device=None, early_stopping_rounds=None,\n",
       "              enable_categorical=False, eval_metric=None, feature_types=None,\n",
       "              gamma=None, grow_policy=None, importance_type=None,\n",
       "              interaction_constraints=None, learning_rate=None, max_bin=None,\n",
       "              max_cat_threshold=None, max_cat_to_onehot=None,\n",
       "              max_delta_step=None, max_depth=None, max_leaves=None,\n",
       "              min_child_weight=None, missing=nan, monotone_constraints=None,\n",
       "              multi_strategy=None, n_estimators=None, n_jobs=None,\n",
       "              num_parallel_tree=None, random_state=None, ...)"
      ]
     },
     "execution_count": 185,
     "metadata": {},
     "output_type": "execute_result"
    }
   ],
   "source": [
    "model22 = xgb.XGBClassifier()\n",
    "model22.fit(x_train_scale, y_train_clean)"
   ]
  },
  {
   "cell_type": "code",
   "execution_count": 186,
   "id": "d1f134c3-9d3a-4f16-882e-58d11430c34c",
   "metadata": {},
   "outputs": [
    {
     "data": {
      "text/plain": [
       "array([1, 0, 0, ..., 1, 0, 1])"
      ]
     },
     "execution_count": 186,
     "metadata": {},
     "output_type": "execute_result"
    }
   ],
   "source": [
    "predictions22 = model22.predict(x_test_clean)\n",
    "predictions22"
   ]
  },
  {
   "cell_type": "code",
   "execution_count": 187,
   "id": "f6cf79aa-888d-435c-9a0f-11fe541d574c",
   "metadata": {},
   "outputs": [
    {
     "data": {
      "image/png": "[encoded data removed]",
      "text/plain": [
       "<Figure size 1000x700 with 2 Axes>"
      ]
     },
     "metadata": {},
     "output_type": "display_data"
    }
   ],
   "source": [
    "cm2 = confusion_matrix(y_test_clean, predictions22)\n",
    "class_labels = ['Espacio Verde Público', 'No Espacio Verde Público']\n",
    "plt.figure(figsize = (10,7))\n",
    "sns.heatmap(cm2, annot = True, fmt = \"g\", cmap=\"rainbow\", xticklabels=class_labels, yticklabels=class_labels)\n",
    "plt.xlabel('Predicted', fontsize = 12, fontweight  = 'bold')\n",
    "plt.ylabel('Actual', fontsize = 12, fontweight  = 'bold')\n",
    "plt.title('Matriz de Confusión', fontsize = 15, fontweight = 'bold')\n",
    "plt.show()"
   ]
  },
  {
   "cell_type": "code",
   "execution_count": 188,
   "id": "77aa3453-8f7b-489d-af48-c08ea19666ff",
   "metadata": {},
   "outputs": [
    {
     "name": "stdout",
     "output_type": "stream",
     "text": [
      "              precision    recall  f1-score   support\n",
      "\n",
      "           0       0.41      0.08      0.13     33966\n",
      "           1       0.52      0.90      0.66     37877\n",
      "\n",
      "    accuracy                           0.51     71843\n",
      "   macro avg       0.47      0.49      0.40     71843\n",
      "weighted avg       0.47      0.51      0.41     71843\n",
      "\n"
     ]
    }
   ],
   "source": [
    "print(classification_report(y_test_clean, predictions22))"
   ]
  },
  {
   "cell_type": "code",
   "execution_count": 189,
   "id": "38b143ad-be2f-44ea-a6ca-826eefd6cd7e",
   "metadata": {},
   "outputs": [
    {
     "name": "stdout",
     "output_type": "stream",
     "text": [
      "Accuracy: 0.5113372214411982\n"
     ]
    }
   ],
   "source": [
    "accuracy = accuracy_score(y_test_clean, predictions22)\n",
    "print(f'Accuracy: {accuracy}')"
   ]
  },
  {
   "cell_type": "markdown",
   "id": "8e9c0f5f-240a-4f34-97ad-886a950c0c53",
   "metadata": {},
   "source": [
    "### Decision Tree Classfier"
   ]
  },
  {
   "cell_type": "code",
   "execution_count": 190,
   "id": "80b9d882-b75d-4a95-bd58-3bdd51082ec3",
   "metadata": {},
   "outputs": [
    {
     "data": {
      "text/html": [
       "<style>#sk-container-id-8 {color: black;}#sk-container-id-8 pre{padding: 0;}#sk-container-id-8 div.sk-toggleable {background-color: white;}#sk-container-id-8 label.sk-toggleable__label {cursor: pointer;display: block;width: 100%;margin-bottom: 0;padding: 0.3em;box-sizing: border-box;text-align: center;}#sk-container-id-8 label.sk-toggleable__label-arrow:before {content: \"▸\";float: left;margin-right: 0.25em;color: #696969;}#sk-container-id-8 label.sk-toggleable__label-arrow:hover:before {color: black;}#sk-container-id-8 div.sk-estimator:hover label.sk-toggleable__label-arrow:before {color: black;}#sk-container-id-8 div.sk-toggleable__content {max-height: 0;max-width: 0;overflow: hidden;text-align: left;background-color: #f0f8ff;}#sk-container-id-8 div.sk-toggleable__content pre {margin: 0.2em;color: black;border-radius: 0.25em;background-color: #f0f8ff;}#sk-container-id-8 input.sk-toggleable__control:checked~div.sk-toggleable__content {max-height: 200px;max-width: 100%;overflow: auto;}#sk-container-id-8 input.sk-toggleable__control:checked~label.sk-toggleable__label-arrow:before {content: \"▾\";}#sk-container-id-8 div.sk-estimator input.sk-toggleable__control:checked~label.sk-toggleable__label {background-color: #d4ebff;}#sk-container-id-8 div.sk-label input.sk-toggleable__control:checked~label.sk-toggleable__label {background-color: #d4ebff;}#sk-container-id-8 input.sk-hidden--visually {border: 0;clip: rect(1px 1px 1px 1px);clip: rect(1px, 1px, 1px, 1px);height: 1px;margin: -1px;overflow: hidden;padding: 0;position: absolute;width: 1px;}#sk-container-id-8 div.sk-estimator {font-family: monospace;background-color: #f0f8ff;border: 1px dotted black;border-radius: 0.25em;box-sizing: border-box;margin-bottom: 0.5em;}#sk-container-id-8 div.sk-estimator:hover {background-color: #d4ebff;}#sk-container-id-8 div.sk-parallel-item::after {content: \"\";width: 100%;border-bottom: 1px solid gray;flex-grow: 1;}#sk-container-id-8 div.sk-label:hover label.sk-toggleable__label {background-color: #d4ebff;}#sk-container-id-8 div.sk-serial::before {content: \"\";position: absolute;border-left: 1px solid gray;box-sizing: border-box;top: 0;bottom: 0;left: 50%;z-index: 0;}#sk-container-id-8 div.sk-serial {display: flex;flex-direction: column;align-items: center;background-color: white;padding-right: 0.2em;padding-left: 0.2em;position: relative;}#sk-container-id-8 div.sk-item {position: relative;z-index: 1;}#sk-container-id-8 div.sk-parallel {display: flex;align-items: stretch;justify-content: center;background-color: white;position: relative;}#sk-container-id-8 div.sk-item::before, #sk-container-id-8 div.sk-parallel-item::before {content: \"\";position: absolute;border-left: 1px solid gray;box-sizing: border-box;top: 0;bottom: 0;left: 50%;z-index: -1;}#sk-container-id-8 div.sk-parallel-item {display: flex;flex-direction: column;z-index: 1;position: relative;background-color: white;}#sk-container-id-8 div.sk-parallel-item:first-child::after {align-self: flex-end;width: 50%;}#sk-container-id-8 div.sk-parallel-item:last-child::after {align-self: flex-start;width: 50%;}#sk-container-id-8 div.sk-parallel-item:only-child::after {width: 0;}#sk-container-id-8 div.sk-dashed-wrapped {border: 1px dashed gray;margin: 0 0.4em 0.5em 0.4em;box-sizing: border-box;padding-bottom: 0.4em;background-color: white;}#sk-container-id-8 div.sk-label label {font-family: monospace;font-weight: bold;display: inline-block;line-height: 1.2em;}#sk-container-id-8 div.sk-label-container {text-align: center;}#sk-container-id-8 div.sk-container {/* jupyter's `normalize.less` sets `[hidden] { display: none; }` but bootstrap.min.css set `[hidden] { display: none !important; }` so we also need the `!important` here to be able to override the default hidden behavior on the sphinx rendered scikit-learn.org. See: https://github.com/scikit-learn/scikit-learn/issues/21755 */display: inline-block !important;position: relative;}#sk-container-id-8 div.sk-text-repr-fallback {display: none;}</style><div id=\"sk-container-id-8\" class=\"sk-top-container\"><div class=\"sk-text-repr-fallback\"><pre>DecisionTreeClassifier()</pre><b>In a Jupyter environment, please rerun this cell to show the HTML representation or trust the notebook. <br />On GitHub, the HTML representation is unable to render, please try loading this page with nbviewer.org.</b></div><div class=\"sk-container\" hidden><div class=\"sk-item\"><div class=\"sk-estimator sk-toggleable\"><input class=\"sk-toggleable__control sk-hidden--visually\" id=\"sk-estimator-id-8\" type=\"checkbox\" checked><label for=\"sk-estimator-id-8\" class=\"sk-toggleable__label sk-toggleable__label-arrow\">DecisionTreeClassifier</label><div class=\"sk-toggleable__content\"><pre>DecisionTreeClassifier()</pre></div></div></div></div></div>"
      ],
      "text/plain": [
       "DecisionTreeClassifier()"
      ]
     },
     "execution_count": 190,
     "metadata": {},
     "output_type": "execute_result"
    }
   ],
   "source": [
    "model32 = DecisionTreeClassifier()\n",
    "model32.fit(x_train_scale, y_train_clean)"
   ]
  },
  {
   "cell_type": "code",
   "execution_count": 191,
   "id": "0263a123-0e50-4eeb-ba4a-2aec1b27415d",
   "metadata": {},
   "outputs": [
    {
     "data": {
      "text/plain": [
       "array([1, 1, 1, ..., 1, 1, 1])"
      ]
     },
     "execution_count": 191,
     "metadata": {},
     "output_type": "execute_result"
    }
   ],
   "source": [
    "predictions32 = model32.predict(x_test_clean)\n",
    "predictions32"
   ]
  },
  {
   "cell_type": "code",
   "execution_count": 192,
   "id": "ca0fc32b-d0eb-4f0c-9771-da379a3768c1",
   "metadata": {},
   "outputs": [
    {
     "data": {
      "image/png": "[encoded data removed]",
      "text/plain": [
       "<Figure size 1000x700 with 2 Axes>"
      ]
     },
     "metadata": {},
     "output_type": "display_data"
    }
   ],
   "source": [
    "cm2 = confusion_matrix(y_test_clean, predictions32)\n",
    "class_labels = ['Espacio Verde Público', 'No Espacio Verde Público']\n",
    "plt.figure(figsize = (10,7))\n",
    "sns.heatmap(cm2, annot = True, fmt = \"g\", cmap=\"jet\", xticklabels=class_labels, yticklabels=class_labels)\n",
    "plt.xlabel('Predicted', fontsize = 12, fontweight  = 'bold')\n",
    "plt.ylabel('Actual', fontsize = 12, fontweight  = 'bold')\n",
    "plt.title('Matriz de Confusión', fontsize = 15, fontweight = 'bold')\n",
    "plt.show()"
   ]
  },
  {
   "cell_type": "code",
   "execution_count": 193,
   "id": "029e596d-3831-43ca-bc3c-2daf5f91126d",
   "metadata": {},
   "outputs": [
    {
     "name": "stdout",
     "output_type": "stream",
     "text": [
      "              precision    recall  f1-score   support\n",
      "\n",
      "           0       0.54      0.44      0.48     33966\n",
      "           1       0.57      0.66      0.61     37877\n",
      "\n",
      "    accuracy                           0.55     71843\n",
      "   macro avg       0.55      0.55      0.55     71843\n",
      "weighted avg       0.55      0.55      0.55     71843\n",
      "\n"
     ]
    }
   ],
   "source": [
    "print(classification_report(y_test_clean, predictions32))"
   ]
  },
  {
   "cell_type": "code",
   "execution_count": 194,
   "id": "0dda1561-2741-47d7-a872-f08e97835987",
   "metadata": {},
   "outputs": [
    {
     "name": "stdout",
     "output_type": "stream",
     "text": [
      "Accuracy: 0.554737413526718\n"
     ]
    }
   ],
   "source": [
    "accuracy = accuracy_score(y_test_clean, predictions32)\n",
    "print(f'Accuracy: {accuracy}')"
   ]
  }
 ],
 "metadata": {
  "kernelspec": {
   "display_name": "GDS-10.0",
   "language": "python",
   "name": "gds"
  },
  "language_info": {
   "codemirror_mode": {
    "name": "ipython",
    "version": 3
   },
   "file_extension": ".py",
   "mimetype": "text/x-python",
   "name": "python",
   "nbconvert_exporter": "python",
   "pygments_lexer": "ipython3",
   "version": "3.9.18"
  }
 },
 "nbformat": 4,
 "nbformat_minor": 5
}
