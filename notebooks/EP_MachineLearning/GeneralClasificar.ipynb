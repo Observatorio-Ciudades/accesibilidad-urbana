{
 "cells": [
  {
   "cell_type": "code",
   "execution_count": 1,
   "id": "bef6b770-c818-4ead-ac20-ea54dd33c695",
   "metadata": {
    "tags": []
   },
   "outputs": [],
   "source": [
    "import warnings\n",
    "warnings.filterwarnings('ignore')\n",
    "import geopandas as gpd\n",
    "from geopandas.tools import overlay\n",
    "import matplotlib.pyplot as plt\n",
    "import os \n",
    "import sys\n",
    "module_path = os.path.abspath(os.path.join('../../'))\n",
    "if module_path not in sys.path:\n",
    "    sys.path.append(module_path)\n",
    "    import aup\n",
    "import pandas as pd\n",
    "import numpy as np\n",
    "import seaborn as sns\n",
    "from sklearn.model_selection import train_test_split\n",
    "from sklearn.metrics import accuracy_score, confusion_matrix\n",
    "from sklearn.linear_model import LogisticRegression\n",
    "from sklearn.preprocessing import StandardScaler\n",
    "from sklearn.naive_bayes import GaussianNB\n",
    "from sklearn.ensemble import RandomForestClassifier\n",
    "from sklearn.ensemble import AdaBoostClassifier\n",
    "from sklearn.model_selection import GridSearchCV, RandomizedSearchCV \n",
    "import xgboost as xgb\n",
    "import random\n",
    "from sklearn.model_selection import StratifiedKFold\n",
    "from sklearn.metrics import classification_report, mean_squared_error\n",
    "#import tensorflow as tf\n",
    "#from keras.models import Sequential\n",
    "#from keras.layers import Dense\n",
    "#from tensorflow.keras.utils import to_categorical"
   ]
  },
  {
   "cell_type": "markdown",
   "id": "6a5d586c-a722-4294-aa2a-c5b3bc1bd166",
   "metadata": {},
   "source": [
    "## Espacios Públicos GDL"
   ]
  },
  {
   "cell_type": "code",
   "execution_count": 2,
   "id": "e4a97d72-097e-4cb3-aff0-ae3a7426cb4c",
   "metadata": {
    "tags": []
   },
   "outputs": [],
   "source": [
    "schema = 'espacios_publicos'\n",
    "table = 'ep_amg'\n",
    "gdf_gdl = aup.gdf_from_db(table,schema)"
   ]
  },
  {
   "cell_type": "code",
   "execution_count": 10,
   "id": "daadce42-f298-494a-bd91-be6ff09ac1a6",
   "metadata": {
    "tags": []
   },
   "outputs": [
    {
     "data": {
      "text/plain": [
       "(8499, 4)"
      ]
     },
     "execution_count": 10,
     "metadata": {},
     "output_type": "execute_result"
    }
   ],
   "source": [
    "gdf_gdl.shape"
   ]
  },
  {
   "cell_type": "markdown",
   "id": "26bfcc14-3e4a-4914-aaa9-64ad81ef330e",
   "metadata": {},
   "source": [
    "## Espacios Públicos QRO"
   ]
  },
  {
   "cell_type": "code",
   "execution_count": 3,
   "id": "df4e414b-92c1-413a-b2d7-783c1bef4769",
   "metadata": {
    "tags": []
   },
   "outputs": [],
   "source": [
    "schema = 'espacios_publicos'\n",
    "table = 'ep_qro'\n",
    "gdf_qro = aup.gdf_from_db(table,schema)"
   ]
  },
  {
   "cell_type": "code",
   "execution_count": 11,
   "id": "84992b95-4cc5-433b-aac5-a3493db2139c",
   "metadata": {
    "tags": []
   },
   "outputs": [
    {
     "data": {
      "text/plain": [
       "(4814, 9)"
      ]
     },
     "execution_count": 11,
     "metadata": {},
     "output_type": "execute_result"
    }
   ],
   "source": [
    "gdf_qro.shape"
   ]
  },
  {
   "cell_type": "markdown",
   "id": "144e61b7-39b5-41a6-bb2d-6531536032f0",
   "metadata": {},
   "source": [
    "## Espacios Públicos CDMX"
   ]
  },
  {
   "cell_type": "code",
   "execution_count": 4,
   "id": "a836a631-c955-46bb-ae66-358ca29ae429",
   "metadata": {
    "tags": []
   },
   "outputs": [],
   "source": [
    "schema = 'espacios_publicos'\n",
    "table = 'ep_cdmx'\n",
    "gdf_cdmx = aup.gdf_from_db(table,schema)"
   ]
  },
  {
   "cell_type": "code",
   "execution_count": 12,
   "id": "81fea502-c841-4982-87df-5cb543a11588",
   "metadata": {
    "tags": []
   },
   "outputs": [
    {
     "data": {
      "text/plain": [
       "(11609, 13)"
      ]
     },
     "execution_count": 12,
     "metadata": {},
     "output_type": "execute_result"
    }
   ],
   "source": [
    "gdf_cdmx.shape"
   ]
  },
  {
   "cell_type": "markdown",
   "id": "2af8bf44-be26-43ac-972f-063f6bf11c9e",
   "metadata": {},
   "source": [
    "## Juntamos en un dataset"
   ]
  },
  {
   "cell_type": "code",
   "execution_count": 5,
   "id": "ffa003bc-73dc-4fe4-b78e-4856fc930e10",
   "metadata": {
    "tags": []
   },
   "outputs": [
    {
     "name": "stdout",
     "output_type": "stream",
     "text": [
      "CRS of gdf_gdl: EPSG:4326\n",
      "CRS of gdf_qro: EPSG:4326\n",
      "CRS of gdf_cdmx: EPSG:4326\n"
     ]
    }
   ],
   "source": [
    "gdf_gdl = gdf_gdl.set_crs(\"EPSG:4326\", allow_override=True)\n",
    "gdf_qro = gdf_qro.set_crs(\"EPSG:4326\", allow_override=True)\n",
    "gdf_cdmx = gdf_cdmx.set_crs(\"EPSG:4326\", allow_override=True)\n",
    "print(\"CRS of gdf_gdl:\", gdf_gdl.crs)\n",
    "print(\"CRS of gdf_qro:\", gdf_qro.crs)\n",
    "print(\"CRS of gdf_cdmx:\", gdf_cdmx.crs)"
   ]
  },
  {
   "cell_type": "code",
   "execution_count": 20,
   "id": "2002dc6c-2339-47d9-8034-efd4df6bf8b7",
   "metadata": {
    "tags": []
   },
   "outputs": [
    {
     "data": {
      "text/plain": [
       "0    POLYGON ((672507.02800 2272132.20130, 672520.1...\n",
       "1    POLYGON ((672520.12560 2272170.35300, 672507.0...\n",
       "2    POLYGON ((672494.32530 2272095.20510, 672480.3...\n",
       "3    POLYGON ((672480.36630 2272060.73140, 672494.3...\n",
       "4    POLYGON ((672468.71720 2272020.61270, 672456.8...\n",
       "Name: geometry, dtype: geometry"
      ]
     },
     "execution_count": 20,
     "metadata": {},
     "output_type": "execute_result"
    }
   ],
   "source": [
    "geodataframes = [gdf_gdl, gdf_qro, gdf_cdmx]\n",
    "gdf = pd.concat(geodataframes)\n",
    "gdf = gdf['geometry']\n",
    "gdf.head()"
   ]
  },
  {
   "cell_type": "code",
   "execution_count": 21,
   "id": "3cf12680-630f-47bb-90b4-ca745cfbb0ac",
   "metadata": {
    "tags": []
   },
   "outputs": [
    {
     "data": {
      "text/plain": [
       "(24922,)"
      ]
     },
     "execution_count": 21,
     "metadata": {},
     "output_type": "execute_result"
    }
   ],
   "source": [
    "gdf.shape"
   ]
  },
  {
   "cell_type": "markdown",
   "id": "18b2c229-a7a2-42c0-b6e2-129a883521fc",
   "metadata": {},
   "source": [
    "## Hexágonos 3 ciudades"
   ]
  },
  {
   "cell_type": "code",
   "execution_count": 23,
   "id": "d899749c-a8ef-4e8d-ae39-d086a93e99f6",
   "metadata": {
    "tags": []
   },
   "outputs": [
    {
     "data": {
      "text/html": [
       "<div>\n",
       "<style scoped>\n",
       "    .dataframe tbody tr th:only-of-type {\n",
       "        vertical-align: middle;\n",
       "    }\n",
       "\n",
       "    .dataframe tbody tr th {\n",
       "        vertical-align: top;\n",
       "    }\n",
       "\n",
       "    .dataframe thead th {\n",
       "        text-align: right;\n",
       "    }\n",
       "</style>\n",
       "<table border=\"1\" class=\"dataframe\">\n",
       "  <thead>\n",
       "    <tr style=\"text-align: right;\">\n",
       "      <th></th>\n",
       "      <th>hex_id</th>\n",
       "      <th>geometry</th>\n",
       "      <th>city</th>\n",
       "    </tr>\n",
       "  </thead>\n",
       "  <tbody>\n",
       "    <tr>\n",
       "      <th>0</th>\n",
       "      <td>8b49ab4b2758fff</td>\n",
       "      <td>POLYGON ((-103.39247 20.75090, -103.39230 20.7...</td>\n",
       "      <td>Guadalajara</td>\n",
       "    </tr>\n",
       "    <tr>\n",
       "      <th>1</th>\n",
       "      <td>8b49ab4b270cfff</td>\n",
       "      <td>POLYGON ((-103.39091 20.74832, -103.39074 20.7...</td>\n",
       "      <td>Guadalajara</td>\n",
       "    </tr>\n",
       "    <tr>\n",
       "      <th>2</th>\n",
       "      <td>8b49ab4b2792fff</td>\n",
       "      <td>POLYGON ((-103.38489 20.74954, -103.38472 20.7...</td>\n",
       "      <td>Guadalajara</td>\n",
       "    </tr>\n",
       "    <tr>\n",
       "      <th>3</th>\n",
       "      <td>8b49ab4b2722fff</td>\n",
       "      <td>POLYGON ((-103.39016 20.74679, -103.38998 20.7...</td>\n",
       "      <td>Guadalajara</td>\n",
       "    </tr>\n",
       "    <tr>\n",
       "      <th>4</th>\n",
       "      <td>8b49ab4b26f4fff</td>\n",
       "      <td>POLYGON ((-103.38863 20.75304, -103.38845 20.7...</td>\n",
       "      <td>Guadalajara</td>\n",
       "    </tr>\n",
       "  </tbody>\n",
       "</table>\n",
       "</div>"
      ],
      "text/plain": [
       "            hex_id                                           geometry  \\\n",
       "0  8b49ab4b2758fff  POLYGON ((-103.39247 20.75090, -103.39230 20.7...   \n",
       "1  8b49ab4b270cfff  POLYGON ((-103.39091 20.74832, -103.39074 20.7...   \n",
       "2  8b49ab4b2792fff  POLYGON ((-103.38489 20.74954, -103.38472 20.7...   \n",
       "3  8b49ab4b2722fff  POLYGON ((-103.39016 20.74679, -103.38998 20.7...   \n",
       "4  8b49ab4b26f4fff  POLYGON ((-103.38863 20.75304, -103.38845 20.7...   \n",
       "\n",
       "          city  \n",
       "0  Guadalajara  \n",
       "1  Guadalajara  \n",
       "2  Guadalajara  \n",
       "3  Guadalajara  \n",
       "4  Guadalajara  "
      ]
     },
     "execution_count": 23,
     "metadata": {},
     "output_type": "execute_result"
    }
   ],
   "source": [
    "hex_schema = \"raster_analysis\"\n",
    "hex_table = \"ndvi_analysis_hex\"\n",
    "c1 = 'Guadalajara'\n",
    "c2 ='ZMVM'\n",
    "c3 = 'Queretaro'\n",
    "n = '11'\n",
    "query = f'SELECT hex_id, geometry, city FROM {hex_schema}.{hex_table} WHERE \\\"city\\\" IN (\\'{c1}\\',\\'{c2}\\',\\'{c3}\\') AND \\\"res\\\" = {n}'\n",
    "hex_gdl = aup.gdf_from_query(query, geometry_col='geometry')\n",
    "#query = 'fSelect geometry, hex_id, city from raster_analysis.ndvi_analysis where city = guadalajara and res = 11'\n",
    "hex_gdl.head(5)"
   ]
  },
  {
   "cell_type": "code",
   "execution_count": 29,
   "id": "3f5f9a06-f55a-45d1-b6c5-7c416063f679",
   "metadata": {
    "tags": []
   },
   "outputs": [
    {
     "data": {
      "text/plain": [
       "(807141, 4)"
      ]
     },
     "execution_count": 29,
     "metadata": {},
     "output_type": "execute_result"
    }
   ],
   "source": [
    "hex_gdl.shape"
   ]
  },
  {
   "cell_type": "code",
   "execution_count": 24,
   "id": "5ef47c4e-217c-449d-b2f0-49eca659ef3d",
   "metadata": {
    "tags": []
   },
   "outputs": [
    {
     "data": {
      "text/plain": [
       "array(['Guadalajara', 'Queretaro', 'ZMVM'], dtype=object)"
      ]
     },
     "execution_count": 24,
     "metadata": {},
     "output_type": "execute_result"
    }
   ],
   "source": [
    "hex_gdl['city'].unique()"
   ]
  },
  {
   "cell_type": "code",
   "execution_count": 27,
   "id": "8e72a749-e7dc-49d9-a869-c649f1a0464d",
   "metadata": {
    "tags": []
   },
   "outputs": [
    {
     "name": "stdout",
     "output_type": "stream",
     "text": [
      "CRS of gdf_gdl: EPSG:4326\n"
     ]
    }
   ],
   "source": [
    "hex_gdl = hex_gdl.set_crs(\"EPSG:4326\", allow_override=True)\n",
    "print(\"CRS of gdf_gdl:\", gdf_gdl.crs)"
   ]
  },
  {
   "cell_type": "markdown",
   "id": "c347acec-fbbf-4415-b544-d5b949c8b166",
   "metadata": {},
   "source": [
    "## Dummy Variables\n",
    "1 = Hexágonos que cuentan con espacios públicos\n",
    "\n",
    "0 = Hexágonos que no cuentan con espacios públicos"
   ]
  },
  {
   "cell_type": "code",
   "execution_count": 28,
   "id": "8f5585a3-b644-4d37-989e-5ef4f2223ab8",
   "metadata": {
    "tags": []
   },
   "outputs": [
    {
     "data": {
      "text/html": [
       "<div>\n",
       "<style scoped>\n",
       "    .dataframe tbody tr th:only-of-type {\n",
       "        vertical-align: middle;\n",
       "    }\n",
       "\n",
       "    .dataframe tbody tr th {\n",
       "        vertical-align: top;\n",
       "    }\n",
       "\n",
       "    .dataframe thead th {\n",
       "        text-align: right;\n",
       "    }\n",
       "</style>\n",
       "<table border=\"1\" class=\"dataframe\">\n",
       "  <thead>\n",
       "    <tr style=\"text-align: right;\">\n",
       "      <th></th>\n",
       "      <th>hex_id</th>\n",
       "      <th>geometry</th>\n",
       "      <th>city</th>\n",
       "      <th>EspPublico</th>\n",
       "    </tr>\n",
       "  </thead>\n",
       "  <tbody>\n",
       "    <tr>\n",
       "      <th>0</th>\n",
       "      <td>8b49ab4b2758fff</td>\n",
       "      <td>POLYGON ((-103.39247 20.75090, -103.39230 20.7...</td>\n",
       "      <td>Guadalajara</td>\n",
       "      <td>0</td>\n",
       "    </tr>\n",
       "    <tr>\n",
       "      <th>1</th>\n",
       "      <td>8b49ab4b270cfff</td>\n",
       "      <td>POLYGON ((-103.39091 20.74832, -103.39074 20.7...</td>\n",
       "      <td>Guadalajara</td>\n",
       "      <td>0</td>\n",
       "    </tr>\n",
       "    <tr>\n",
       "      <th>2</th>\n",
       "      <td>8b49ab4b2792fff</td>\n",
       "      <td>POLYGON ((-103.38489 20.74954, -103.38472 20.7...</td>\n",
       "      <td>Guadalajara</td>\n",
       "      <td>0</td>\n",
       "    </tr>\n",
       "    <tr>\n",
       "      <th>3</th>\n",
       "      <td>8b49ab4b2722fff</td>\n",
       "      <td>POLYGON ((-103.39016 20.74679, -103.38998 20.7...</td>\n",
       "      <td>Guadalajara</td>\n",
       "      <td>0</td>\n",
       "    </tr>\n",
       "    <tr>\n",
       "      <th>4</th>\n",
       "      <td>8b49ab4b26f4fff</td>\n",
       "      <td>POLYGON ((-103.38863 20.75304, -103.38845 20.7...</td>\n",
       "      <td>Guadalajara</td>\n",
       "      <td>0</td>\n",
       "    </tr>\n",
       "  </tbody>\n",
       "</table>\n",
       "</div>"
      ],
      "text/plain": [
       "            hex_id                                           geometry  \\\n",
       "0  8b49ab4b2758fff  POLYGON ((-103.39247 20.75090, -103.39230 20.7...   \n",
       "1  8b49ab4b270cfff  POLYGON ((-103.39091 20.74832, -103.39074 20.7...   \n",
       "2  8b49ab4b2792fff  POLYGON ((-103.38489 20.74954, -103.38472 20.7...   \n",
       "3  8b49ab4b2722fff  POLYGON ((-103.39016 20.74679, -103.38998 20.7...   \n",
       "4  8b49ab4b26f4fff  POLYGON ((-103.38863 20.75304, -103.38845 20.7...   \n",
       "\n",
       "          city  EspPublico  \n",
       "0  Guadalajara           0  \n",
       "1  Guadalajara           0  \n",
       "2  Guadalajara           0  \n",
       "3  Guadalajara           0  \n",
       "4  Guadalajara           0  "
      ]
     },
     "execution_count": 28,
     "metadata": {},
     "output_type": "execute_result"
    }
   ],
   "source": [
    "gdf_sindex = gdf.sindex\n",
    "\n",
    "# Create a Series of boolean values indicating which hexagons intersect with public spaces\n",
    "intersects_public_spaces = hex_gdl['geometry'].apply(lambda geom: any(gdf_sindex.query(geom)))\n",
    "\n",
    "hex_gdl['EspPublico'] = intersects_public_spaces.astype(int)\n",
    "hex_gdl.head()"
   ]
  },
  {
   "cell_type": "code",
   "execution_count": 30,
   "id": "ea63f68e-8d36-43f8-92cd-6a01c15e00b8",
   "metadata": {
    "tags": []
   },
   "outputs": [
    {
     "name": "stdout",
     "output_type": "stream",
     "text": [
      "Números de hexagonos sin Espacios Públicos: 713076 \n",
      "Número de Hexágonos con Espacios Públicos: 94065\n",
      "Número total de Hexágonos: 807141\n"
     ]
    }
   ],
   "source": [
    "contador_ceros = np.sum(hex_gdl['EspPublico'] == 0)\n",
    "contador_uno = np.sum(hex_gdl['EspPublico'])\n",
    "print(f'Números de hexagonos sin Espacios Públicos: {contador_ceros} \\nNúmero de Hexágonos con Espacios Públicos: {contador_uno}\\nNúmero total de Hexágonos: {contador_ceros+contador_uno}')"
   ]
  },
  {
   "cell_type": "markdown",
   "id": "c3b45893-f0bb-40ae-8ebd-be922b141c4b",
   "metadata": {},
   "source": [
    "## Hexágonos con info de humedad, vegetación y temperatura"
   ]
  },
  {
   "cell_type": "markdown",
   "id": "c0329ea8-64c4-4590-9eb5-cda13ef58fec",
   "metadata": {},
   "source": [
    "select {ndmi}.hex_id, {ndmi}.geometry, {ndmi}.city, {ndmi}.res,\n",
    "\n",
    "ndvi_mean, ndvi_std, ndvi_median, ndvi_max, ndvi_min, ndvi_diff, ndvi_tend,\n",
    "\n",
    "ndmi_mean, ndmi_median, ndmi_diff\n",
    "\n",
    "from raster_analysis.ndmi_analysis_hex ndmi\n",
    "\n",
    "inner join raster_analysis.ndvi_analysis_hex ndvi\n",
    "\n",
    "on ndmi.hex_id = ndvi.hex_id \n",
    "\n",
    "where ndmi.city  in ('Queretaro','Guadalajara','ZMVM') and ndmi.res = 11"
   ]
  },
  {
   "cell_type": "code",
   "execution_count": 31,
   "id": "df8d2024-3d90-467c-8185-21a7ca5e7001",
   "metadata": {
    "tags": []
   },
   "outputs": [
    {
     "data": {
      "text/html": [
       "<div>\n",
       "<style scoped>\n",
       "    .dataframe tbody tr th:only-of-type {\n",
       "        vertical-align: middle;\n",
       "    }\n",
       "\n",
       "    .dataframe tbody tr th {\n",
       "        vertical-align: top;\n",
       "    }\n",
       "\n",
       "    .dataframe thead th {\n",
       "        text-align: right;\n",
       "    }\n",
       "</style>\n",
       "<table border=\"1\" class=\"dataframe\">\n",
       "  <thead>\n",
       "    <tr style=\"text-align: right;\">\n",
       "      <th></th>\n",
       "      <th>hex_id</th>\n",
       "      <th>geometry</th>\n",
       "      <th>city</th>\n",
       "      <th>res</th>\n",
       "      <th>ndvi_mean</th>\n",
       "      <th>ndvi_std</th>\n",
       "      <th>ndvi_median</th>\n",
       "      <th>ndvi_max</th>\n",
       "      <th>ndvi_min</th>\n",
       "      <th>ndvi_diff</th>\n",
       "      <th>ndvi_tend</th>\n",
       "      <th>ndmi_mean</th>\n",
       "      <th>ndmi_median</th>\n",
       "      <th>ndmi_diff</th>\n",
       "    </tr>\n",
       "  </thead>\n",
       "  <tbody>\n",
       "    <tr>\n",
       "      <th>0</th>\n",
       "      <td>8b49ab4b2670fff</td>\n",
       "      <td>POLYGON ((-103.39190 20.75208, -103.39172 20.7...</td>\n",
       "      <td>Guadalajara</td>\n",
       "      <td>11</td>\n",
       "      <td>0.264131</td>\n",
       "      <td>0.056046</td>\n",
       "      <td>0.278143</td>\n",
       "      <td>0.308765</td>\n",
       "      <td>0.173648</td>\n",
       "      <td>0.135117</td>\n",
       "      <td>-0.000757</td>\n",
       "      <td>0.053463</td>\n",
       "      <td>0.050777</td>\n",
       "      <td>0.097573</td>\n",
       "    </tr>\n",
       "    <tr>\n",
       "      <th>1</th>\n",
       "      <td>8b49ab4b2676fff</td>\n",
       "      <td>POLYGON ((-103.39147 20.75180, -103.39130 20.7...</td>\n",
       "      <td>Guadalajara</td>\n",
       "      <td>11</td>\n",
       "      <td>0.409427</td>\n",
       "      <td>0.105657</td>\n",
       "      <td>0.433788</td>\n",
       "      <td>0.520438</td>\n",
       "      <td>0.244854</td>\n",
       "      <td>0.275584</td>\n",
       "      <td>-0.002333</td>\n",
       "      <td>0.091292</td>\n",
       "      <td>0.089714</td>\n",
       "      <td>0.098885</td>\n",
       "    </tr>\n",
       "    <tr>\n",
       "      <th>2</th>\n",
       "      <td>8b49ab4b270efff</td>\n",
       "      <td>POLYGON ((-103.39044 20.74853, -103.39026 20.7...</td>\n",
       "      <td>Guadalajara</td>\n",
       "      <td>11</td>\n",
       "      <td>0.316967</td>\n",
       "      <td>0.086185</td>\n",
       "      <td>0.321497</td>\n",
       "      <td>0.407292</td>\n",
       "      <td>0.196025</td>\n",
       "      <td>0.211267</td>\n",
       "      <td>-0.002106</td>\n",
       "      <td>0.036697</td>\n",
       "      <td>0.035678</td>\n",
       "      <td>0.129225</td>\n",
       "    </tr>\n",
       "    <tr>\n",
       "      <th>3</th>\n",
       "      <td>8b49ab4b268efff</td>\n",
       "      <td>POLYGON ((-103.38678 20.75338, -103.38660 20.7...</td>\n",
       "      <td>Guadalajara</td>\n",
       "      <td>11</td>\n",
       "      <td>0.085069</td>\n",
       "      <td>0.019698</td>\n",
       "      <td>0.090198</td>\n",
       "      <td>0.101235</td>\n",
       "      <td>0.063335</td>\n",
       "      <td>0.037900</td>\n",
       "      <td>-0.000685</td>\n",
       "      <td>-0.058275</td>\n",
       "      <td>-0.071303</td>\n",
       "      <td>0.174109</td>\n",
       "    </tr>\n",
       "    <tr>\n",
       "      <th>4</th>\n",
       "      <td>8b49ab4b2663fff</td>\n",
       "      <td>POLYGON ((-103.39322 20.75244, -103.39305 20.7...</td>\n",
       "      <td>Guadalajara</td>\n",
       "      <td>11</td>\n",
       "      <td>0.178388</td>\n",
       "      <td>0.036286</td>\n",
       "      <td>0.191513</td>\n",
       "      <td>0.209757</td>\n",
       "      <td>0.112014</td>\n",
       "      <td>0.097743</td>\n",
       "      <td>-0.000920</td>\n",
       "      <td>0.001050</td>\n",
       "      <td>-0.010292</td>\n",
       "      <td>0.128643</td>\n",
       "    </tr>\n",
       "    <tr>\n",
       "      <th>5</th>\n",
       "      <td>8b49ab59516efff</td>\n",
       "      <td>POLYGON ((-103.43305 20.61173, -103.43288 20.6...</td>\n",
       "      <td>Guadalajara</td>\n",
       "      <td>11</td>\n",
       "      <td>0.069822</td>\n",
       "      <td>0.019254</td>\n",
       "      <td>0.073560</td>\n",
       "      <td>0.082880</td>\n",
       "      <td>0.038931</td>\n",
       "      <td>0.043949</td>\n",
       "      <td>-0.000442</td>\n",
       "      <td>-0.074391</td>\n",
       "      <td>-0.088315</td>\n",
       "      <td>0.145272</td>\n",
       "    </tr>\n",
       "    <tr>\n",
       "      <th>6</th>\n",
       "      <td>8b49ab5951b5fff</td>\n",
       "      <td>POLYGON ((-103.42548 20.61037, -103.42530 20.6...</td>\n",
       "      <td>Guadalajara</td>\n",
       "      <td>11</td>\n",
       "      <td>0.075444</td>\n",
       "      <td>0.033387</td>\n",
       "      <td>0.082717</td>\n",
       "      <td>0.102821</td>\n",
       "      <td>0.043347</td>\n",
       "      <td>0.059474</td>\n",
       "      <td>-0.001355</td>\n",
       "      <td>-0.076039</td>\n",
       "      <td>-0.093632</td>\n",
       "      <td>0.151256</td>\n",
       "    </tr>\n",
       "    <tr>\n",
       "      <th>7</th>\n",
       "      <td>8b49ab492b71fff</td>\n",
       "      <td>POLYGON ((-103.37829 20.79758, -103.37812 20.7...</td>\n",
       "      <td>Guadalajara</td>\n",
       "      <td>11</td>\n",
       "      <td>0.324421</td>\n",
       "      <td>0.156561</td>\n",
       "      <td>0.275693</td>\n",
       "      <td>0.570776</td>\n",
       "      <td>0.145903</td>\n",
       "      <td>0.424873</td>\n",
       "      <td>-0.002101</td>\n",
       "      <td>-0.037157</td>\n",
       "      <td>-0.077201</td>\n",
       "      <td>0.326381</td>\n",
       "    </tr>\n",
       "    <tr>\n",
       "      <th>8</th>\n",
       "      <td>8b49ab492af0fff</td>\n",
       "      <td>POLYGON ((-103.37420 20.80215, -103.37403 20.8...</td>\n",
       "      <td>Guadalajara</td>\n",
       "      <td>11</td>\n",
       "      <td>0.268156</td>\n",
       "      <td>0.108509</td>\n",
       "      <td>0.245064</td>\n",
       "      <td>0.420108</td>\n",
       "      <td>0.132961</td>\n",
       "      <td>0.287147</td>\n",
       "      <td>-0.001582</td>\n",
       "      <td>0.018301</td>\n",
       "      <td>0.001772</td>\n",
       "      <td>0.233537</td>\n",
       "    </tr>\n",
       "    <tr>\n",
       "      <th>9</th>\n",
       "      <td>8b49ab492a2afff</td>\n",
       "      <td>POLYGON ((-103.37625 20.79986, -103.37607 20.8...</td>\n",
       "      <td>Guadalajara</td>\n",
       "      <td>11</td>\n",
       "      <td>0.547411</td>\n",
       "      <td>0.160259</td>\n",
       "      <td>0.590196</td>\n",
       "      <td>0.692978</td>\n",
       "      <td>0.285048</td>\n",
       "      <td>0.407930</td>\n",
       "      <td>-0.003809</td>\n",
       "      <td>0.151968</td>\n",
       "      <td>0.130599</td>\n",
       "      <td>0.186123</td>\n",
       "    </tr>\n",
       "  </tbody>\n",
       "</table>\n",
       "</div>"
      ],
      "text/plain": [
       "            hex_id                                           geometry  \\\n",
       "0  8b49ab4b2670fff  POLYGON ((-103.39190 20.75208, -103.39172 20.7...   \n",
       "1  8b49ab4b2676fff  POLYGON ((-103.39147 20.75180, -103.39130 20.7...   \n",
       "2  8b49ab4b270efff  POLYGON ((-103.39044 20.74853, -103.39026 20.7...   \n",
       "3  8b49ab4b268efff  POLYGON ((-103.38678 20.75338, -103.38660 20.7...   \n",
       "4  8b49ab4b2663fff  POLYGON ((-103.39322 20.75244, -103.39305 20.7...   \n",
       "5  8b49ab59516efff  POLYGON ((-103.43305 20.61173, -103.43288 20.6...   \n",
       "6  8b49ab5951b5fff  POLYGON ((-103.42548 20.61037, -103.42530 20.6...   \n",
       "7  8b49ab492b71fff  POLYGON ((-103.37829 20.79758, -103.37812 20.7...   \n",
       "8  8b49ab492af0fff  POLYGON ((-103.37420 20.80215, -103.37403 20.8...   \n",
       "9  8b49ab492a2afff  POLYGON ((-103.37625 20.79986, -103.37607 20.8...   \n",
       "\n",
       "          city  res  ndvi_mean  ndvi_std  ndvi_median  ndvi_max  ndvi_min  \\\n",
       "0  Guadalajara   11   0.264131  0.056046     0.278143  0.308765  0.173648   \n",
       "1  Guadalajara   11   0.409427  0.105657     0.433788  0.520438  0.244854   \n",
       "2  Guadalajara   11   0.316967  0.086185     0.321497  0.407292  0.196025   \n",
       "3  Guadalajara   11   0.085069  0.019698     0.090198  0.101235  0.063335   \n",
       "4  Guadalajara   11   0.178388  0.036286     0.191513  0.209757  0.112014   \n",
       "5  Guadalajara   11   0.069822  0.019254     0.073560  0.082880  0.038931   \n",
       "6  Guadalajara   11   0.075444  0.033387     0.082717  0.102821  0.043347   \n",
       "7  Guadalajara   11   0.324421  0.156561     0.275693  0.570776  0.145903   \n",
       "8  Guadalajara   11   0.268156  0.108509     0.245064  0.420108  0.132961   \n",
       "9  Guadalajara   11   0.547411  0.160259     0.590196  0.692978  0.285048   \n",
       "\n",
       "   ndvi_diff  ndvi_tend  ndmi_mean  ndmi_median  ndmi_diff  \n",
       "0   0.135117  -0.000757   0.053463     0.050777   0.097573  \n",
       "1   0.275584  -0.002333   0.091292     0.089714   0.098885  \n",
       "2   0.211267  -0.002106   0.036697     0.035678   0.129225  \n",
       "3   0.037900  -0.000685  -0.058275    -0.071303   0.174109  \n",
       "4   0.097743  -0.000920   0.001050    -0.010292   0.128643  \n",
       "5   0.043949  -0.000442  -0.074391    -0.088315   0.145272  \n",
       "6   0.059474  -0.001355  -0.076039    -0.093632   0.151256  \n",
       "7   0.424873  -0.002101  -0.037157    -0.077201   0.326381  \n",
       "8   0.287147  -0.001582   0.018301     0.001772   0.233537  \n",
       "9   0.407930  -0.003809   0.151968     0.130599   0.186123  "
      ]
     },
     "execution_count": 31,
     "metadata": {},
     "output_type": "execute_result"
    }
   ],
   "source": [
    "hex_schema = \"raster_analysis\"\n",
    "hex_tablee = \"ndvi_analysis_hex\"\n",
    "hex_table = \"ndmi_analysis_hex\"\n",
    "ndmi = \"ndmi\"\n",
    "ndvi = \"ndvi\"\n",
    "hex_id = \"hex_id\"\n",
    "c1 = 'Guadalajara'\n",
    "c2 ='ZMVM'\n",
    "c3 = 'Queretaro'\n",
    "n = '11'\n",
    "query = f'SELECT {ndmi}.hex_id, {ndmi}.geometry, {ndmi}.city, {ndmi}.res, ndvi_mean, ndvi_std, ndvi_median, ndvi_max, ndvi_min, ndvi_diff, ndvi_tend,ndmi_mean, ndmi_median, ndmi_diff FROM {hex_schema}.{hex_table} {ndmi} INNER JOIN {hex_schema}.{hex_tablee} {ndvi} ON {ndmi}.{hex_id} = {ndvi}.{hex_id} WHERE {ndmi}.\\\"city\\\" IN (\\'{c1}\\',\\'{c2}\\',\\'{c3}\\') AND {ndmi}.\\\"res\\\" = {n}'\n",
    "intt_gdl = aup.gdf_from_query(query, geometry_col='geometry')\n",
    "intt_gdl.head(10)"
   ]
  },
  {
   "cell_type": "code",
   "execution_count": 33,
   "id": "84143985-bd5c-4c93-a38b-4b7f62f52df6",
   "metadata": {
    "tags": []
   },
   "outputs": [
    {
     "data": {
      "text/plain": [
       "(799837, 14)"
      ]
     },
     "execution_count": 33,
     "metadata": {},
     "output_type": "execute_result"
    }
   ],
   "source": [
    "intt_gdl.shape"
   ]
  },
  {
   "cell_type": "code",
   "execution_count": 34,
   "id": "e0ff9c5b-babb-4b93-9690-ba5e6c8f7d7d",
   "metadata": {
    "tags": []
   },
   "outputs": [
    {
     "data": {
      "text/plain": [
       "array(['Guadalajara', 'Queretaro', 'ZMVM'], dtype=object)"
      ]
     },
     "execution_count": 34,
     "metadata": {},
     "output_type": "execute_result"
    }
   ],
   "source": [
    "intt_gdl['city'].unique()"
   ]
  },
  {
   "cell_type": "markdown",
   "id": "5d14c446-c89e-49c6-816b-93459ff272ec",
   "metadata": {},
   "source": [
    "## Intersección"
   ]
  },
  {
   "cell_type": "code",
   "execution_count": 35,
   "id": "f01fdfe4-a3b7-40fc-8db9-208882f82618",
   "metadata": {
    "tags": []
   },
   "outputs": [],
   "source": [
    "intt_gdl = intt_gdl.set_crs(\"EPSG:4326\")\n",
    "hex_gdl = hex_gdl.set_crs(\"EPSG:4326\")"
   ]
  },
  {
   "cell_type": "code",
   "execution_count": null,
   "id": "7ef06de8-8747-4341-b9fc-cdce908452d2",
   "metadata": {
    "tags": []
   },
   "outputs": [],
   "source": [
    "inter = gpd.sjoin(hex_gdl, intt_gdl, op='intersects')\n",
    "inter.drop(columns=['index_right','city_right','res','hex_id_right'], inplace=True)\n",
    "inter.rename(columns={\"hex_id_left\": \"hex_id\",\"city_left\": \"city\"}, inplace=True)\n",
    "inter.head()"
   ]
  },
  {
   "cell_type": "code",
   "execution_count": null,
   "id": "5b3fa1be-9caa-48c1-b68c-bd6ab21649ac",
   "metadata": {},
   "outputs": [],
   "source": [
    "pd.isna(inter).sum()"
   ]
  }
 ],
 "metadata": {
  "kernelspec": {
   "display_name": "Python 3 (ipykernel)",
   "language": "python",
   "name": "python3"
  },
  "language_info": {
   "codemirror_mode": {
    "name": "ipython",
    "version": 3
   },
   "file_extension": ".py",
   "mimetype": "text/x-python",
   "name": "python",
   "nbconvert_exporter": "python",
   "pygments_lexer": "ipython3",
   "version": "3.10.10"
  }
 },
 "nbformat": 4,
 "nbformat_minor": 5
}
