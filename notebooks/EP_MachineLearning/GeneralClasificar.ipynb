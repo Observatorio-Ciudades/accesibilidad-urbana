{
 "cells": [
  {
   "cell_type": "code",
   "execution_count": 1,
   "id": "bef6b770-c818-4ead-ac20-ea54dd33c695",
   "metadata": {
    "tags": []
   },
   "outputs": [],
   "source": [
    "import warnings\n",
    "warnings.filterwarnings('ignore')\n",
    "import geopandas as gpd\n",
    "from geopandas.tools import overlay\n",
    "import matplotlib.pyplot as plt\n",
    "import os \n",
    "import sys\n",
    "module_path = os.path.abspath(os.path.join('../../'))\n",
    "if module_path not in sys.path:\n",
    "    sys.path.append(module_path)\n",
    "    import aup\n",
    "import pandas as pd\n",
    "import numpy as np\n",
    "import seaborn as sns\n",
    "from sklearn.model_selection import train_test_split\n",
    "from sklearn.metrics import accuracy_score, confusion_matrix\n",
    "from sklearn.linear_model import LogisticRegression\n",
    "from sklearn.preprocessing import StandardScaler\n",
    "from sklearn.naive_bayes import GaussianNB\n",
    "from sklearn.ensemble import RandomForestClassifier\n",
    "from sklearn.ensemble import AdaBoostClassifier\n",
    "from sklearn.model_selection import GridSearchCV, RandomizedSearchCV \n",
    "import xgboost as xgb\n",
    "import random\n",
    "from sklearn.model_selection import StratifiedKFold\n",
    "from sklearn.metrics import classification_report, mean_squared_error\n",
    "#import tensorflow as tf\n",
    "#from keras.models import Sequential\n",
    "#from keras.layers import Dense\n",
    "#from tensorflow.keras.utils import to_categorical"
   ]
  },
  {
   "cell_type": "markdown",
   "id": "6a5d586c-a722-4294-aa2a-c5b3bc1bd166",
   "metadata": {},
   "source": [
    "## Espacios Públicos GDL"
   ]
  },
  {
   "cell_type": "code",
   "execution_count": 3,
   "id": "7b88570c-a2d2-4f0a-8f20-9737d5478326",
   "metadata": {
    "tags": []
   },
   "outputs": [],
   "source": [
    "schema = 'espacios_publicos'\n",
    "table = 'ep_amg'\n",
    "gdf_gdl = aup.gdf_from_db(table,schema)"
   ]
  },
  {
   "cell_type": "code",
   "execution_count": 10,
   "id": "daadce42-f298-494a-bd91-be6ff09ac1a6",
   "metadata": {
    "tags": []
   },
   "outputs": [
    {
     "data": {
      "text/plain": [
       "(8499, 4)"
      ]
     },
     "execution_count": 10,
     "metadata": {},
     "output_type": "execute_result"
    }
   ],
   "source": [
    "gdf_gdl.shape"
   ]
  },
  {
   "cell_type": "markdown",
   "id": "26bfcc14-3e4a-4914-aaa9-64ad81ef330e",
   "metadata": {},
   "source": [
    "## Espacios Públicos QRO"
   ]
  },
  {
   "cell_type": "code",
   "execution_count": 4,
   "id": "df4e414b-92c1-413a-b2d7-783c1bef4769",
   "metadata": {
    "tags": []
   },
   "outputs": [],
   "source": [
    "schema = 'espacios_publicos'\n",
    "table = 'ep_qro'\n",
    "gdf_qro = aup.gdf_from_db(table,schema)"
   ]
  },
  {
   "cell_type": "code",
   "execution_count": 11,
   "id": "84992b95-4cc5-433b-aac5-a3493db2139c",
   "metadata": {
    "tags": []
   },
   "outputs": [
    {
     "data": {
      "text/plain": [
       "(4814, 9)"
      ]
     },
     "execution_count": 11,
     "metadata": {},
     "output_type": "execute_result"
    }
   ],
   "source": [
    "gdf_qro.shape"
   ]
  },
  {
   "cell_type": "markdown",
   "id": "144e61b7-39b5-41a6-bb2d-6531536032f0",
   "metadata": {},
   "source": [
    "## Espacios Públicos CDMX"
   ]
  },
  {
   "cell_type": "code",
   "execution_count": 5,
   "id": "a836a631-c955-46bb-ae66-358ca29ae429",
   "metadata": {
    "tags": []
   },
   "outputs": [],
   "source": [
    "schema = 'espacios_publicos'\n",
    "table = 'ep_cdmx'\n",
    "gdf_cdmx = aup.gdf_from_db(table,schema)"
   ]
  },
  {
   "cell_type": "code",
   "execution_count": 12,
   "id": "81fea502-c841-4982-87df-5cb543a11588",
   "metadata": {
    "tags": []
   },
   "outputs": [
    {
     "data": {
      "text/plain": [
       "(11609, 13)"
      ]
     },
     "execution_count": 12,
     "metadata": {},
     "output_type": "execute_result"
    }
   ],
   "source": [
    "gdf_cdmx.shape"
   ]
  },
  {
   "cell_type": "markdown",
   "id": "2af8bf44-be26-43ac-972f-063f6bf11c9e",
   "metadata": {},
   "source": [
    "## Juntamos en un dataset"
   ]
  },
  {
   "cell_type": "code",
   "execution_count": 6,
   "id": "ffa003bc-73dc-4fe4-b78e-4856fc930e10",
   "metadata": {
    "tags": []
   },
   "outputs": [
    {
     "name": "stdout",
     "output_type": "stream",
     "text": [
      "CRS of gdf_gdl: EPSG:4326\n",
      "CRS of gdf_qro: EPSG:4326\n",
      "CRS of gdf_cdmx: EPSG:4326\n"
     ]
    }
   ],
   "source": [
    "gdf_gdl = gdf_gdl.set_crs(\"EPSG:4326\", allow_override=True)\n",
    "gdf_qro = gdf_qro.set_crs(\"EPSG:4326\", allow_override=True)\n",
    "gdf_cdmx = gdf_cdmx.set_crs(\"EPSG:4326\", allow_override=True)\n",
    "print(\"CRS of gdf_gdl:\", gdf_gdl.crs)\n",
    "print(\"CRS of gdf_qro:\", gdf_qro.crs)\n",
    "print(\"CRS of gdf_cdmx:\", gdf_cdmx.crs)"
   ]
  },
  {
   "cell_type": "code",
   "execution_count": 7,
   "id": "2002dc6c-2339-47d9-8034-efd4df6bf8b7",
   "metadata": {
    "tags": []
   },
   "outputs": [
    {
     "data": {
      "text/plain": [
       "0    POLYGON ((672507.02800 2272132.20130, 672520.1...\n",
       "1    POLYGON ((672520.12560 2272170.35300, 672507.0...\n",
       "2    POLYGON ((672494.32530 2272095.20510, 672480.3...\n",
       "3    POLYGON ((672480.36630 2272060.73140, 672494.3...\n",
       "4    POLYGON ((672468.71720 2272020.61270, 672456.8...\n",
       "Name: geometry, dtype: geometry"
      ]
     },
     "execution_count": 7,
     "metadata": {},
     "output_type": "execute_result"
    }
   ],
   "source": [
    "geodataframes = [gdf_gdl, gdf_qro, gdf_cdmx]\n",
    "gdf = pd.concat(geodataframes)\n",
    "gdf = gdf['geometry']\n",
    "gdf.head()"
   ]
  },
  {
   "cell_type": "code",
   "execution_count": 8,
   "id": "3cf12680-630f-47bb-90b4-ca745cfbb0ac",
   "metadata": {
    "tags": []
   },
   "outputs": [
    {
     "data": {
      "text/plain": [
       "(24922,)"
      ]
     },
     "execution_count": 8,
     "metadata": {},
     "output_type": "execute_result"
    }
   ],
   "source": [
    "gdf.shape"
   ]
  },
  {
   "cell_type": "markdown",
   "id": "18b2c229-a7a2-42c0-b6e2-129a883521fc",
   "metadata": {},
   "source": [
    "## Hexágonos 3 ciudades"
   ]
  },
  {
   "cell_type": "code",
   "execution_count": 9,
   "id": "d899749c-a8ef-4e8d-ae39-d086a93e99f6",
   "metadata": {
    "tags": []
   },
   "outputs": [
    {
     "data": {
      "text/html": [
       "<div>\n",
       "<style scoped>\n",
       "    .dataframe tbody tr th:only-of-type {\n",
       "        vertical-align: middle;\n",
       "    }\n",
       "\n",
       "    .dataframe tbody tr th {\n",
       "        vertical-align: top;\n",
       "    }\n",
       "\n",
       "    .dataframe thead th {\n",
       "        text-align: right;\n",
       "    }\n",
       "</style>\n",
       "<table border=\"1\" class=\"dataframe\">\n",
       "  <thead>\n",
       "    <tr style=\"text-align: right;\">\n",
       "      <th></th>\n",
       "      <th>hex_id</th>\n",
       "      <th>geometry</th>\n",
       "      <th>city</th>\n",
       "    </tr>\n",
       "  </thead>\n",
       "  <tbody>\n",
       "    <tr>\n",
       "      <th>0</th>\n",
       "      <td>8b49ab4b2758fff</td>\n",
       "      <td>POLYGON ((-103.39247 20.75090, -103.39230 20.7...</td>\n",
       "      <td>Guadalajara</td>\n",
       "    </tr>\n",
       "    <tr>\n",
       "      <th>1</th>\n",
       "      <td>8b49ab4b270cfff</td>\n",
       "      <td>POLYGON ((-103.39091 20.74832, -103.39074 20.7...</td>\n",
       "      <td>Guadalajara</td>\n",
       "    </tr>\n",
       "    <tr>\n",
       "      <th>2</th>\n",
       "      <td>8b49ab4b2792fff</td>\n",
       "      <td>POLYGON ((-103.38489 20.74954, -103.38472 20.7...</td>\n",
       "      <td>Guadalajara</td>\n",
       "    </tr>\n",
       "    <tr>\n",
       "      <th>3</th>\n",
       "      <td>8b49ab4b2722fff</td>\n",
       "      <td>POLYGON ((-103.39016 20.74679, -103.38998 20.7...</td>\n",
       "      <td>Guadalajara</td>\n",
       "    </tr>\n",
       "    <tr>\n",
       "      <th>4</th>\n",
       "      <td>8b49ab4b26f4fff</td>\n",
       "      <td>POLYGON ((-103.38863 20.75304, -103.38845 20.7...</td>\n",
       "      <td>Guadalajara</td>\n",
       "    </tr>\n",
       "  </tbody>\n",
       "</table>\n",
       "</div>"
      ],
      "text/plain": [
       "            hex_id                                           geometry  \\\n",
       "0  8b49ab4b2758fff  POLYGON ((-103.39247 20.75090, -103.39230 20.7...   \n",
       "1  8b49ab4b270cfff  POLYGON ((-103.39091 20.74832, -103.39074 20.7...   \n",
       "2  8b49ab4b2792fff  POLYGON ((-103.38489 20.74954, -103.38472 20.7...   \n",
       "3  8b49ab4b2722fff  POLYGON ((-103.39016 20.74679, -103.38998 20.7...   \n",
       "4  8b49ab4b26f4fff  POLYGON ((-103.38863 20.75304, -103.38845 20.7...   \n",
       "\n",
       "          city  \n",
       "0  Guadalajara  \n",
       "1  Guadalajara  \n",
       "2  Guadalajara  \n",
       "3  Guadalajara  \n",
       "4  Guadalajara  "
      ]
     },
     "execution_count": 9,
     "metadata": {},
     "output_type": "execute_result"
    }
   ],
   "source": [
    "hex_schema = \"raster_analysis\"\n",
    "hex_table = \"ndvi_analysis_hex\"\n",
    "c1 = 'Guadalajara'\n",
    "c2 ='ZMVM'\n",
    "c3 = 'Queretaro'\n",
    "n = '11'\n",
    "query = f'SELECT hex_id, geometry, city FROM {hex_schema}.{hex_table} WHERE \\\"city\\\" IN (\\'{c1}\\',\\'{c2}\\',\\'{c3}\\') AND \\\"res\\\" = {n}'\n",
    "hex_gdl = aup.gdf_from_query(query, geometry_col='geometry')\n",
    "#query = 'fSelect geometry, hex_id, city from raster_analysis.ndvi_analysis where city = guadalajara and res = 11'\n",
    "hex_gdl.head(5)"
   ]
  },
  {
   "cell_type": "code",
   "execution_count": 29,
   "id": "3f5f9a06-f55a-45d1-b6c5-7c416063f679",
   "metadata": {
    "tags": []
   },
   "outputs": [
    {
     "data": {
      "text/plain": [
       "(807141, 4)"
      ]
     },
     "execution_count": 29,
     "metadata": {},
     "output_type": "execute_result"
    }
   ],
   "source": [
    "hex_gdl.shape"
   ]
  },
  {
   "cell_type": "code",
   "execution_count": 24,
   "id": "5ef47c4e-217c-449d-b2f0-49eca659ef3d",
   "metadata": {
    "tags": []
   },
   "outputs": [
    {
     "data": {
      "text/plain": [
       "array(['Guadalajara', 'Queretaro', 'ZMVM'], dtype=object)"
      ]
     },
     "execution_count": 24,
     "metadata": {},
     "output_type": "execute_result"
    }
   ],
   "source": [
    "hex_gdl['city'].unique()"
   ]
  },
  {
   "cell_type": "code",
   "execution_count": 10,
   "id": "000fa599-c8e2-4c9a-92b8-b5ec9c6048fc",
   "metadata": {
    "tags": []
   },
   "outputs": [
    {
     "name": "stdout",
     "output_type": "stream",
     "text": [
      "Número de hexágonos Gdl: 407141 \n",
      "Número de hexágonos Cdmx: 300000 \n",
      "Número de hexágonos Qro: 100000\n"
     ]
    }
   ],
   "source": [
    "contador_gdll = np.sum(hex_gdl['city'] == 'Guadalajara')\n",
    "contador_cdmxx = np.sum(hex_gdl['city'] == 'ZMVM')\n",
    "contador_qroo = np.sum(hex_gdl['city'] == 'Queretaro')\n",
    "print(f'Número de hexágonos Gdl: {contador_gdll} \\nNúmero de hexágonos Cdmx: {contador_cdmxx} \\nNúmero de hexágonos Qro: {contador_qroo}')"
   ]
  },
  {
   "cell_type": "code",
   "execution_count": 11,
   "id": "8e72a749-e7dc-49d9-a869-c649f1a0464d",
   "metadata": {
    "tags": []
   },
   "outputs": [
    {
     "name": "stdout",
     "output_type": "stream",
     "text": [
      "CRS of gdf_gdl: EPSG:4326\n"
     ]
    }
   ],
   "source": [
    "hex_gdl = hex_gdl.set_crs(\"EPSG:4326\", allow_override=True)\n",
    "print(\"CRS of gdf_gdl:\", gdf_gdl.crs)"
   ]
  },
  {
   "cell_type": "markdown",
   "id": "c9cdcbf7-4ef2-415f-a517-1f1a6ff3e990",
   "metadata": {},
   "source": [
    "Como tenemos 800,000 hexágonos tenemos que reducir la dimensión a 400,000 porque mi compu no puede con tantos datos. Vamos a reducir la dimensión de las 3 ciudades a la mitad. Inicialmente, tenemos que Guadalajara tiene 400,000 hexágonos. Cdmx tiene 300,000 hexágonos y Querétaro tiene 100,000 hexágonos. Pero después de reducir las dimensiones serán 200,000; 150,000 y 50,000 respectivamente."
   ]
  },
  {
   "cell_type": "code",
   "execution_count": 13,
   "id": "0fd04df3-c9fc-4d75-90e1-93289546febc",
   "metadata": {
    "tags": []
   },
   "outputs": [
    {
     "data": {
      "text/html": [
       "<div>\n",
       "<style scoped>\n",
       "    .dataframe tbody tr th:only-of-type {\n",
       "        vertical-align: middle;\n",
       "    }\n",
       "\n",
       "    .dataframe tbody tr th {\n",
       "        vertical-align: top;\n",
       "    }\n",
       "\n",
       "    .dataframe thead th {\n",
       "        text-align: right;\n",
       "    }\n",
       "</style>\n",
       "<table border=\"1\" class=\"dataframe\">\n",
       "  <thead>\n",
       "    <tr style=\"text-align: right;\">\n",
       "      <th></th>\n",
       "      <th>hex_id</th>\n",
       "      <th>geometry</th>\n",
       "      <th>city</th>\n",
       "    </tr>\n",
       "  </thead>\n",
       "  <tbody>\n",
       "    <tr>\n",
       "      <th>0</th>\n",
       "      <td>8b49aa2f0943fff</td>\n",
       "      <td>POLYGON ((-103.29497 20.46059, -103.29479 20.4...</td>\n",
       "      <td>Guadalajara</td>\n",
       "    </tr>\n",
       "    <tr>\n",
       "      <th>1</th>\n",
       "      <td>8b498c94cd48fff</td>\n",
       "      <td>POLYGON ((-103.35049 20.70770, -103.35032 20.7...</td>\n",
       "      <td>Guadalajara</td>\n",
       "    </tr>\n",
       "    <tr>\n",
       "      <th>2</th>\n",
       "      <td>8b49ab594ae1fff</td>\n",
       "      <td>POLYGON ((-103.41820 20.60143, -103.41803 20.6...</td>\n",
       "      <td>Guadalajara</td>\n",
       "    </tr>\n",
       "    <tr>\n",
       "      <th>3</th>\n",
       "      <td>8b49ab5b2511fff</td>\n",
       "      <td>POLYGON ((-103.40008 20.57395, -103.39991 20.5...</td>\n",
       "      <td>Guadalajara</td>\n",
       "    </tr>\n",
       "    <tr>\n",
       "      <th>4</th>\n",
       "      <td>8b498c955971fff</td>\n",
       "      <td>POLYGON ((-103.27315 20.67382, -103.27297 20.6...</td>\n",
       "      <td>Guadalajara</td>\n",
       "    </tr>\n",
       "  </tbody>\n",
       "</table>\n",
       "</div>"
      ],
      "text/plain": [
       "            hex_id                                           geometry  \\\n",
       "0  8b49aa2f0943fff  POLYGON ((-103.29497 20.46059, -103.29479 20.4...   \n",
       "1  8b498c94cd48fff  POLYGON ((-103.35049 20.70770, -103.35032 20.7...   \n",
       "2  8b49ab594ae1fff  POLYGON ((-103.41820 20.60143, -103.41803 20.6...   \n",
       "3  8b49ab5b2511fff  POLYGON ((-103.40008 20.57395, -103.39991 20.5...   \n",
       "4  8b498c955971fff  POLYGON ((-103.27315 20.67382, -103.27297 20.6...   \n",
       "\n",
       "          city  \n",
       "0  Guadalajara  \n",
       "1  Guadalajara  \n",
       "2  Guadalajara  \n",
       "3  Guadalajara  \n",
       "4  Guadalajara  "
      ]
     },
     "execution_count": 13,
     "metadata": {},
     "output_type": "execute_result"
    }
   ],
   "source": [
    "gdl_samples = 200000\n",
    "cdmx_samples = 150000\n",
    "qro_samples = 50000\n",
    "\n",
    "# Randomly sample 200,000 hexagons of Guadalajra\n",
    "sample_with_Guadalajara = hex_gdl[hex_gdl['city'] == 'Guadalajara'].sample(n=gdl_samples, random_state=42)\n",
    "\n",
    "# Randomly sample 150,000 hexagons of Cdmx\n",
    "sample_with_Cdmx = hex_gdl[hex_gdl['city'] == 'ZMVM'].sample(n=cdmx_samples, random_state=42)\n",
    "\n",
    "# Randomly sample 50,000 hexagons of Queretaro\n",
    "sample_with_Queretaro = hex_gdl[hex_gdl['city'] == 'Queretaro'].sample(n=qro_samples, random_state=42)\n",
    "\n",
    "# Concatenate the two samples to get the final subsample\n",
    "hex_gdf = pd.concat([sample_with_Guadalajara, sample_with_Cdmx, sample_with_Queretaro])\n",
    "hex_gdf.reset_index(drop = True, inplace = True)\n",
    "hex_gdf.head()"
   ]
  },
  {
   "cell_type": "code",
   "execution_count": 14,
   "id": "9b3362ab-8474-49c8-af21-ddc46e78c8ab",
   "metadata": {
    "tags": []
   },
   "outputs": [
    {
     "name": "stdout",
     "output_type": "stream",
     "text": [
      "Número de hexágonos Gdl: 200000 \n",
      "Número de hexágonos Cdmx: 150000 \n",
      "Número de hexágonos Qro: 50000\n"
     ]
    }
   ],
   "source": [
    "contador_gdl = np.sum(hex_gdf['city'] == 'Guadalajara')\n",
    "contador_cdmx = np.sum(hex_gdf['city'] == 'ZMVM')\n",
    "contador_qro = np.sum(hex_gdf['city'] == 'Queretaro')\n",
    "print(f'Número de hexágonos Gdl: {contador_gdl} \\nNúmero de hexágonos Cdmx: {contador_cdmx} \\nNúmero de hexágonos Qro: {contador_qro}')"
   ]
  },
  {
   "cell_type": "markdown",
   "id": "c347acec-fbbf-4415-b544-d5b949c8b166",
   "metadata": {},
   "source": [
    "## Dummy Variables\n",
    "1 = Hexágonos que cuentan con espacios públicos\n",
    "\n",
    "0 = Hexágonos que no cuentan con espacios públicos"
   ]
  },
  {
   "cell_type": "code",
   "execution_count": 15,
   "id": "8f5585a3-b644-4d37-989e-5ef4f2223ab8",
   "metadata": {
    "tags": []
   },
   "outputs": [
    {
     "data": {
      "text/html": [
       "<div>\n",
       "<style scoped>\n",
       "    .dataframe tbody tr th:only-of-type {\n",
       "        vertical-align: middle;\n",
       "    }\n",
       "\n",
       "    .dataframe tbody tr th {\n",
       "        vertical-align: top;\n",
       "    }\n",
       "\n",
       "    .dataframe thead th {\n",
       "        text-align: right;\n",
       "    }\n",
       "</style>\n",
       "<table border=\"1\" class=\"dataframe\">\n",
       "  <thead>\n",
       "    <tr style=\"text-align: right;\">\n",
       "      <th></th>\n",
       "      <th>hex_id</th>\n",
       "      <th>geometry</th>\n",
       "      <th>city</th>\n",
       "      <th>EspPublico</th>\n",
       "    </tr>\n",
       "  </thead>\n",
       "  <tbody>\n",
       "    <tr>\n",
       "      <th>0</th>\n",
       "      <td>8b49aa2f0943fff</td>\n",
       "      <td>POLYGON ((-103.29497 20.46059, -103.29479 20.4...</td>\n",
       "      <td>Guadalajara</td>\n",
       "      <td>0</td>\n",
       "    </tr>\n",
       "    <tr>\n",
       "      <th>1</th>\n",
       "      <td>8b498c94cd48fff</td>\n",
       "      <td>POLYGON ((-103.35049 20.70770, -103.35032 20.7...</td>\n",
       "      <td>Guadalajara</td>\n",
       "      <td>0</td>\n",
       "    </tr>\n",
       "    <tr>\n",
       "      <th>2</th>\n",
       "      <td>8b49ab594ae1fff</td>\n",
       "      <td>POLYGON ((-103.41820 20.60143, -103.41803 20.6...</td>\n",
       "      <td>Guadalajara</td>\n",
       "      <td>0</td>\n",
       "    </tr>\n",
       "    <tr>\n",
       "      <th>3</th>\n",
       "      <td>8b49ab5b2511fff</td>\n",
       "      <td>POLYGON ((-103.40008 20.57395, -103.39991 20.5...</td>\n",
       "      <td>Guadalajara</td>\n",
       "      <td>0</td>\n",
       "    </tr>\n",
       "    <tr>\n",
       "      <th>4</th>\n",
       "      <td>8b498c955971fff</td>\n",
       "      <td>POLYGON ((-103.27315 20.67382, -103.27297 20.6...</td>\n",
       "      <td>Guadalajara</td>\n",
       "      <td>0</td>\n",
       "    </tr>\n",
       "  </tbody>\n",
       "</table>\n",
       "</div>"
      ],
      "text/plain": [
       "            hex_id                                           geometry  \\\n",
       "0  8b49aa2f0943fff  POLYGON ((-103.29497 20.46059, -103.29479 20.4...   \n",
       "1  8b498c94cd48fff  POLYGON ((-103.35049 20.70770, -103.35032 20.7...   \n",
       "2  8b49ab594ae1fff  POLYGON ((-103.41820 20.60143, -103.41803 20.6...   \n",
       "3  8b49ab5b2511fff  POLYGON ((-103.40008 20.57395, -103.39991 20.5...   \n",
       "4  8b498c955971fff  POLYGON ((-103.27315 20.67382, -103.27297 20.6...   \n",
       "\n",
       "          city  EspPublico  \n",
       "0  Guadalajara           0  \n",
       "1  Guadalajara           0  \n",
       "2  Guadalajara           0  \n",
       "3  Guadalajara           0  \n",
       "4  Guadalajara           0  "
      ]
     },
     "execution_count": 15,
     "metadata": {},
     "output_type": "execute_result"
    }
   ],
   "source": [
    "gdf_sindex = gdf.sindex\n",
    "\n",
    "# Create a Series of boolean values indicating which hexagons intersect with public spaces\n",
    "intersects_public_spaces = hex_gdf['geometry'].apply(lambda geom: any(gdf_sindex.query(geom)))\n",
    "\n",
    "hex_gdf['EspPublico'] = intersects_public_spaces.astype(int)\n",
    "hex_gdf.head()"
   ]
  },
  {
   "cell_type": "code",
   "execution_count": 16,
   "id": "ea63f68e-8d36-43f8-92cd-6a01c15e00b8",
   "metadata": {
    "tags": []
   },
   "outputs": [
    {
     "name": "stdout",
     "output_type": "stream",
     "text": [
      "Números de hexagonos sin Espacios Públicos: 353125 \n",
      "Número de Hexágonos con Espacios Públicos: 46875\n",
      "Número total de Hexágonos: 400000\n"
     ]
    }
   ],
   "source": [
    "contador_ceros = np.sum(hex_gdf['EspPublico'] == 0)\n",
    "contador_uno = np.sum(hex_gdf['EspPublico'])\n",
    "print(f'Números de hexagonos sin Espacios Públicos: {contador_ceros} \\nNúmero de Hexágonos con Espacios Públicos: {contador_uno}\\nNúmero total de Hexágonos: {contador_ceros+contador_uno}')"
   ]
  },
  {
   "cell_type": "markdown",
   "id": "c3b45893-f0bb-40ae-8ebd-be922b141c4b",
   "metadata": {},
   "source": [
    "## Hexágonos con info de humedad, vegetación y temperatura"
   ]
  },
  {
   "cell_type": "markdown",
   "id": "c0329ea8-64c4-4590-9eb5-cda13ef58fec",
   "metadata": {},
   "source": [
    "select {ndmi}.hex_id, {ndmi}.geometry, {ndmi}.city, {ndmi}.res,\n",
    "\n",
    "ndvi_mean, ndvi_std, ndvi_median, ndvi_max, ndvi_min, ndvi_diff, ndvi_tend,\n",
    "\n",
    "ndmi_mean, ndmi_median, ndmi_diff\n",
    "\n",
    "from raster_analysis.ndmi_analysis_hex ndmi\n",
    "\n",
    "inner join raster_analysis.ndvi_analysis_hex ndvi\n",
    "\n",
    "on ndmi.hex_id = ndvi.hex_id \n",
    "\n",
    "where ndmi.city  in ('Queretaro','Guadalajara','ZMVM') and ndmi.res = 11"
   ]
  },
  {
   "cell_type": "code",
   "execution_count": 17,
   "id": "df8d2024-3d90-467c-8185-21a7ca5e7001",
   "metadata": {
    "tags": []
   },
   "outputs": [
    {
     "data": {
      "text/html": [
       "<div>\n",
       "<style scoped>\n",
       "    .dataframe tbody tr th:only-of-type {\n",
       "        vertical-align: middle;\n",
       "    }\n",
       "\n",
       "    .dataframe tbody tr th {\n",
       "        vertical-align: top;\n",
       "    }\n",
       "\n",
       "    .dataframe thead th {\n",
       "        text-align: right;\n",
       "    }\n",
       "</style>\n",
       "<table border=\"1\" class=\"dataframe\">\n",
       "  <thead>\n",
       "    <tr style=\"text-align: right;\">\n",
       "      <th></th>\n",
       "      <th>hex_id</th>\n",
       "      <th>geometry</th>\n",
       "      <th>city</th>\n",
       "      <th>res</th>\n",
       "      <th>ndvi_mean</th>\n",
       "      <th>ndvi_std</th>\n",
       "      <th>ndvi_median</th>\n",
       "      <th>ndvi_max</th>\n",
       "      <th>ndvi_min</th>\n",
       "      <th>ndvi_diff</th>\n",
       "      <th>ndvi_tend</th>\n",
       "      <th>ndmi_mean</th>\n",
       "      <th>ndmi_median</th>\n",
       "      <th>ndmi_diff</th>\n",
       "    </tr>\n",
       "  </thead>\n",
       "  <tbody>\n",
       "    <tr>\n",
       "      <th>0</th>\n",
       "      <td>8b49ab4b2670fff</td>\n",
       "      <td>POLYGON ((-103.39190 20.75208, -103.39172 20.7...</td>\n",
       "      <td>Guadalajara</td>\n",
       "      <td>11</td>\n",
       "      <td>0.264131</td>\n",
       "      <td>0.056046</td>\n",
       "      <td>0.278143</td>\n",
       "      <td>0.308765</td>\n",
       "      <td>0.173648</td>\n",
       "      <td>0.135117</td>\n",
       "      <td>-0.000757</td>\n",
       "      <td>0.053463</td>\n",
       "      <td>0.050777</td>\n",
       "      <td>0.097573</td>\n",
       "    </tr>\n",
       "    <tr>\n",
       "      <th>1</th>\n",
       "      <td>8b498c949b6dfff</td>\n",
       "      <td>POLYGON ((-103.38527 20.75031, -103.38509 20.7...</td>\n",
       "      <td>Guadalajara</td>\n",
       "      <td>11</td>\n",
       "      <td>0.135261</td>\n",
       "      <td>0.035197</td>\n",
       "      <td>0.142945</td>\n",
       "      <td>0.161384</td>\n",
       "      <td>0.089809</td>\n",
       "      <td>0.071574</td>\n",
       "      <td>-0.001371</td>\n",
       "      <td>-0.006434</td>\n",
       "      <td>-0.016396</td>\n",
       "      <td>0.129264</td>\n",
       "    </tr>\n",
       "    <tr>\n",
       "      <th>2</th>\n",
       "      <td>8b49ab59516efff</td>\n",
       "      <td>POLYGON ((-103.43305 20.61173, -103.43288 20.6...</td>\n",
       "      <td>Guadalajara</td>\n",
       "      <td>11</td>\n",
       "      <td>0.069822</td>\n",
       "      <td>0.019254</td>\n",
       "      <td>0.073560</td>\n",
       "      <td>0.082880</td>\n",
       "      <td>0.038931</td>\n",
       "      <td>0.043949</td>\n",
       "      <td>-0.000442</td>\n",
       "      <td>-0.074391</td>\n",
       "      <td>-0.088315</td>\n",
       "      <td>0.145272</td>\n",
       "    </tr>\n",
       "    <tr>\n",
       "      <th>3</th>\n",
       "      <td>8b49ab5951b5fff</td>\n",
       "      <td>POLYGON ((-103.42548 20.61037, -103.42530 20.6...</td>\n",
       "      <td>Guadalajara</td>\n",
       "      <td>11</td>\n",
       "      <td>0.075444</td>\n",
       "      <td>0.033387</td>\n",
       "      <td>0.082717</td>\n",
       "      <td>0.102821</td>\n",
       "      <td>0.043347</td>\n",
       "      <td>0.059474</td>\n",
       "      <td>-0.001355</td>\n",
       "      <td>-0.076039</td>\n",
       "      <td>-0.093632</td>\n",
       "      <td>0.151256</td>\n",
       "    </tr>\n",
       "    <tr>\n",
       "      <th>4</th>\n",
       "      <td>8b498c865b9bfff</td>\n",
       "      <td>POLYGON ((-103.35087 20.78574, -103.35070 20.7...</td>\n",
       "      <td>Guadalajara</td>\n",
       "      <td>11</td>\n",
       "      <td>0.414932</td>\n",
       "      <td>0.215705</td>\n",
       "      <td>0.409933</td>\n",
       "      <td>0.706465</td>\n",
       "      <td>0.117555</td>\n",
       "      <td>0.588910</td>\n",
       "      <td>-0.002985</td>\n",
       "      <td>0.014976</td>\n",
       "      <td>0.008282</td>\n",
       "      <td>0.426409</td>\n",
       "    </tr>\n",
       "    <tr>\n",
       "      <th>5</th>\n",
       "      <td>8b49ab59a071fff</td>\n",
       "      <td>POLYGON ((-103.42430 20.68631, -103.42412 20.6...</td>\n",
       "      <td>Guadalajara</td>\n",
       "      <td>11</td>\n",
       "      <td>0.097393</td>\n",
       "      <td>0.022015</td>\n",
       "      <td>0.102658</td>\n",
       "      <td>0.116272</td>\n",
       "      <td>0.062223</td>\n",
       "      <td>0.054049</td>\n",
       "      <td>-0.000619</td>\n",
       "      <td>-0.015337</td>\n",
       "      <td>-0.023594</td>\n",
       "      <td>0.136351</td>\n",
       "    </tr>\n",
       "    <tr>\n",
       "      <th>6</th>\n",
       "      <td>8b49ab59a1a3fff</td>\n",
       "      <td>POLYGON ((-103.41923 20.68246, -103.41906 20.6...</td>\n",
       "      <td>Guadalajara</td>\n",
       "      <td>11</td>\n",
       "      <td>0.106788</td>\n",
       "      <td>0.026689</td>\n",
       "      <td>0.118256</td>\n",
       "      <td>0.123394</td>\n",
       "      <td>0.063510</td>\n",
       "      <td>0.059884</td>\n",
       "      <td>-0.000830</td>\n",
       "      <td>-0.031611</td>\n",
       "      <td>-0.046093</td>\n",
       "      <td>0.146642</td>\n",
       "    </tr>\n",
       "    <tr>\n",
       "      <th>7</th>\n",
       "      <td>8b49ab59a196fff</td>\n",
       "      <td>POLYGON ((-103.41691 20.68300, -103.41674 20.6...</td>\n",
       "      <td>Guadalajara</td>\n",
       "      <td>11</td>\n",
       "      <td>0.112221</td>\n",
       "      <td>0.026121</td>\n",
       "      <td>0.121259</td>\n",
       "      <td>0.128715</td>\n",
       "      <td>0.073114</td>\n",
       "      <td>0.055601</td>\n",
       "      <td>-0.000830</td>\n",
       "      <td>-0.040496</td>\n",
       "      <td>-0.051069</td>\n",
       "      <td>0.124201</td>\n",
       "    </tr>\n",
       "    <tr>\n",
       "      <th>8</th>\n",
       "      <td>8b49ab59a082fff</td>\n",
       "      <td>POLYGON ((-103.41790 20.68676, -103.41773 20.6...</td>\n",
       "      <td>Guadalajara</td>\n",
       "      <td>11</td>\n",
       "      <td>0.166674</td>\n",
       "      <td>0.040736</td>\n",
       "      <td>0.181126</td>\n",
       "      <td>0.203151</td>\n",
       "      <td>0.091123</td>\n",
       "      <td>0.112028</td>\n",
       "      <td>-0.001068</td>\n",
       "      <td>-0.012072</td>\n",
       "      <td>-0.020578</td>\n",
       "      <td>0.118349</td>\n",
       "    </tr>\n",
       "    <tr>\n",
       "      <th>9</th>\n",
       "      <td>8b49ab584629fff</td>\n",
       "      <td>POLYGON ((-103.47303 20.60176, -103.47286 20.6...</td>\n",
       "      <td>Guadalajara</td>\n",
       "      <td>11</td>\n",
       "      <td>0.394442</td>\n",
       "      <td>0.146691</td>\n",
       "      <td>0.418936</td>\n",
       "      <td>0.521344</td>\n",
       "      <td>0.185360</td>\n",
       "      <td>0.335984</td>\n",
       "      <td>-0.003164</td>\n",
       "      <td>0.022051</td>\n",
       "      <td>0.025598</td>\n",
       "      <td>0.208958</td>\n",
       "    </tr>\n",
       "  </tbody>\n",
       "</table>\n",
       "</div>"
      ],
      "text/plain": [
       "            hex_id                                           geometry  \\\n",
       "0  8b49ab4b2670fff  POLYGON ((-103.39190 20.75208, -103.39172 20.7...   \n",
       "1  8b498c949b6dfff  POLYGON ((-103.38527 20.75031, -103.38509 20.7...   \n",
       "2  8b49ab59516efff  POLYGON ((-103.43305 20.61173, -103.43288 20.6...   \n",
       "3  8b49ab5951b5fff  POLYGON ((-103.42548 20.61037, -103.42530 20.6...   \n",
       "4  8b498c865b9bfff  POLYGON ((-103.35087 20.78574, -103.35070 20.7...   \n",
       "5  8b49ab59a071fff  POLYGON ((-103.42430 20.68631, -103.42412 20.6...   \n",
       "6  8b49ab59a1a3fff  POLYGON ((-103.41923 20.68246, -103.41906 20.6...   \n",
       "7  8b49ab59a196fff  POLYGON ((-103.41691 20.68300, -103.41674 20.6...   \n",
       "8  8b49ab59a082fff  POLYGON ((-103.41790 20.68676, -103.41773 20.6...   \n",
       "9  8b49ab584629fff  POLYGON ((-103.47303 20.60176, -103.47286 20.6...   \n",
       "\n",
       "          city  res  ndvi_mean  ndvi_std  ndvi_median  ndvi_max  ndvi_min  \\\n",
       "0  Guadalajara   11   0.264131  0.056046     0.278143  0.308765  0.173648   \n",
       "1  Guadalajara   11   0.135261  0.035197     0.142945  0.161384  0.089809   \n",
       "2  Guadalajara   11   0.069822  0.019254     0.073560  0.082880  0.038931   \n",
       "3  Guadalajara   11   0.075444  0.033387     0.082717  0.102821  0.043347   \n",
       "4  Guadalajara   11   0.414932  0.215705     0.409933  0.706465  0.117555   \n",
       "5  Guadalajara   11   0.097393  0.022015     0.102658  0.116272  0.062223   \n",
       "6  Guadalajara   11   0.106788  0.026689     0.118256  0.123394  0.063510   \n",
       "7  Guadalajara   11   0.112221  0.026121     0.121259  0.128715  0.073114   \n",
       "8  Guadalajara   11   0.166674  0.040736     0.181126  0.203151  0.091123   \n",
       "9  Guadalajara   11   0.394442  0.146691     0.418936  0.521344  0.185360   \n",
       "\n",
       "   ndvi_diff  ndvi_tend  ndmi_mean  ndmi_median  ndmi_diff  \n",
       "0   0.135117  -0.000757   0.053463     0.050777   0.097573  \n",
       "1   0.071574  -0.001371  -0.006434    -0.016396   0.129264  \n",
       "2   0.043949  -0.000442  -0.074391    -0.088315   0.145272  \n",
       "3   0.059474  -0.001355  -0.076039    -0.093632   0.151256  \n",
       "4   0.588910  -0.002985   0.014976     0.008282   0.426409  \n",
       "5   0.054049  -0.000619  -0.015337    -0.023594   0.136351  \n",
       "6   0.059884  -0.000830  -0.031611    -0.046093   0.146642  \n",
       "7   0.055601  -0.000830  -0.040496    -0.051069   0.124201  \n",
       "8   0.112028  -0.001068  -0.012072    -0.020578   0.118349  \n",
       "9   0.335984  -0.003164   0.022051     0.025598   0.208958  "
      ]
     },
     "execution_count": 17,
     "metadata": {},
     "output_type": "execute_result"
    }
   ],
   "source": [
    "hex_schema = \"raster_analysis\"\n",
    "hex_tablee = \"ndvi_analysis_hex\"\n",
    "hex_table = \"ndmi_analysis_hex\"\n",
    "ndmi = \"ndmi\"\n",
    "ndvi = \"ndvi\"\n",
    "hex_id = \"hex_id\"\n",
    "c1 = 'Guadalajara'\n",
    "c2 ='ZMVM'\n",
    "c3 = 'Queretaro'\n",
    "n = '11'\n",
    "query = f'SELECT {ndmi}.hex_id, {ndmi}.geometry, {ndmi}.city, {ndmi}.res, ndvi_mean, ndvi_std, ndvi_median, ndvi_max, ndvi_min, ndvi_diff, ndvi_tend,ndmi_mean, ndmi_median, ndmi_diff FROM {hex_schema}.{hex_table} {ndmi} INNER JOIN {hex_schema}.{hex_tablee} {ndvi} ON {ndmi}.{hex_id} = {ndvi}.{hex_id} WHERE {ndmi}.\\\"city\\\" IN (\\'{c1}\\',\\'{c2}\\',\\'{c3}\\') AND {ndmi}.\\\"res\\\" = {n}'\n",
    "intt_gdl = aup.gdf_from_query(query, geometry_col='geometry')\n",
    "intt_gdl.head(10)"
   ]
  },
  {
   "cell_type": "code",
   "execution_count": 18,
   "id": "84143985-bd5c-4c93-a38b-4b7f62f52df6",
   "metadata": {
    "tags": []
   },
   "outputs": [
    {
     "data": {
      "text/plain": [
       "(799837, 14)"
      ]
     },
     "execution_count": 18,
     "metadata": {},
     "output_type": "execute_result"
    }
   ],
   "source": [
    "intt_gdl.shape"
   ]
  },
  {
   "cell_type": "code",
   "execution_count": 34,
   "id": "e0ff9c5b-babb-4b93-9690-ba5e6c8f7d7d",
   "metadata": {
    "tags": []
   },
   "outputs": [
    {
     "data": {
      "text/plain": [
       "array(['Guadalajara', 'Queretaro', 'ZMVM'], dtype=object)"
      ]
     },
     "execution_count": 34,
     "metadata": {},
     "output_type": "execute_result"
    }
   ],
   "source": [
    "intt_gdl['city'].unique()"
   ]
  },
  {
   "cell_type": "code",
   "execution_count": 19,
   "id": "06a6ca40-8e7c-4448-9b4b-79865367609b",
   "metadata": {},
   "outputs": [
    {
     "name": "stdout",
     "output_type": "stream",
     "text": [
      "Número de hexágonos Gdl: 400000 \n",
      "Número de hexágonos Cdmx: 299918 \n",
      "Número de hexágonos Qro: 99919\n"
     ]
    }
   ],
   "source": [
    "intt_gdll = np.sum(intt_gdl['city'] == 'Guadalajara')\n",
    "intt_cdmxx = np.sum(intt_gdl['city'] == 'ZMVM')\n",
    "intt_qroo = np.sum(intt_gdl['city'] == 'Queretaro')\n",
    "print(f'Número de hexágonos Gdl: {intt_gdll} \\nNúmero de hexágonos Cdmx: {intt_cdmxx} \\nNúmero de hexágonos Qro: {intt_qroo}')"
   ]
  },
  {
   "cell_type": "markdown",
   "id": "25d2c1c5-c75a-448b-8bac-17b290bce4b5",
   "metadata": {},
   "source": [
    "Como tenemos 800,000 hexágonos tenemos que reducir la dimensión a 400,000 porque mi compu no puede con tantos datos. Vamos a reducir la dimensión de las 3 ciudades a la mitad. Inicialmente, tenemos que Guadalajara tiene 400,000 hexágonos. Cdmx tiene 300,000 hexágonos y Querétaro tiene 100,000 hexágonos. Pero después de reducir las dimensiones serán 200,000; 150,000 y 50,000 respectivamente."
   ]
  },
  {
   "cell_type": "code",
   "execution_count": 20,
   "id": "bc977eb4-9e4b-430e-a41d-49725f20b863",
   "metadata": {},
   "outputs": [
    {
     "data": {
      "text/html": [
       "<div>\n",
       "<style scoped>\n",
       "    .dataframe tbody tr th:only-of-type {\n",
       "        vertical-align: middle;\n",
       "    }\n",
       "\n",
       "    .dataframe tbody tr th {\n",
       "        vertical-align: top;\n",
       "    }\n",
       "\n",
       "    .dataframe thead th {\n",
       "        text-align: right;\n",
       "    }\n",
       "</style>\n",
       "<table border=\"1\" class=\"dataframe\">\n",
       "  <thead>\n",
       "    <tr style=\"text-align: right;\">\n",
       "      <th></th>\n",
       "      <th>hex_id</th>\n",
       "      <th>geometry</th>\n",
       "      <th>city</th>\n",
       "      <th>res</th>\n",
       "      <th>ndvi_mean</th>\n",
       "      <th>ndvi_std</th>\n",
       "      <th>ndvi_median</th>\n",
       "      <th>ndvi_max</th>\n",
       "      <th>ndvi_min</th>\n",
       "      <th>ndvi_diff</th>\n",
       "      <th>ndvi_tend</th>\n",
       "      <th>ndmi_mean</th>\n",
       "      <th>ndmi_median</th>\n",
       "      <th>ndmi_diff</th>\n",
       "    </tr>\n",
       "  </thead>\n",
       "  <tbody>\n",
       "    <tr>\n",
       "      <th>0</th>\n",
       "      <td>8b49aa2c2463fff</td>\n",
       "      <td>POLYGON ((-103.29765 20.53338, -103.29747 20.5...</td>\n",
       "      <td>Guadalajara</td>\n",
       "      <td>11</td>\n",
       "      <td>0.347040</td>\n",
       "      <td>0.158243</td>\n",
       "      <td>0.320887</td>\n",
       "      <td>0.551674</td>\n",
       "      <td>0.156183</td>\n",
       "      <td>0.395491</td>\n",
       "      <td>-0.001260</td>\n",
       "      <td>-0.051965</td>\n",
       "      <td>-0.041315</td>\n",
       "      <td>0.362261</td>\n",
       "    </tr>\n",
       "    <tr>\n",
       "      <th>1</th>\n",
       "      <td>8b49aa29bb0bfff</td>\n",
       "      <td>POLYGON ((-103.16160 20.50368, -103.16143 20.5...</td>\n",
       "      <td>Guadalajara</td>\n",
       "      <td>11</td>\n",
       "      <td>0.360856</td>\n",
       "      <td>0.227557</td>\n",
       "      <td>0.258495</td>\n",
       "      <td>0.772629</td>\n",
       "      <td>0.148347</td>\n",
       "      <td>0.624283</td>\n",
       "      <td>-0.002090</td>\n",
       "      <td>-0.027797</td>\n",
       "      <td>-0.095338</td>\n",
       "      <td>0.490674</td>\n",
       "    </tr>\n",
       "    <tr>\n",
       "      <th>2</th>\n",
       "      <td>8b49aa25d881fff</td>\n",
       "      <td>POLYGON ((-103.48573 20.49146, -103.48555 20.4...</td>\n",
       "      <td>Guadalajara</td>\n",
       "      <td>11</td>\n",
       "      <td>0.405083</td>\n",
       "      <td>0.171210</td>\n",
       "      <td>0.389650</td>\n",
       "      <td>0.629937</td>\n",
       "      <td>0.230272</td>\n",
       "      <td>0.399664</td>\n",
       "      <td>-0.002886</td>\n",
       "      <td>0.064263</td>\n",
       "      <td>0.041841</td>\n",
       "      <td>0.307760</td>\n",
       "    </tr>\n",
       "    <tr>\n",
       "      <th>3</th>\n",
       "      <td>8b498c9a1352fff</td>\n",
       "      <td>POLYGON ((-103.05785 20.62443, -103.05767 20.6...</td>\n",
       "      <td>Guadalajara</td>\n",
       "      <td>11</td>\n",
       "      <td>0.243744</td>\n",
       "      <td>0.069161</td>\n",
       "      <td>0.255205</td>\n",
       "      <td>0.296221</td>\n",
       "      <td>0.189846</td>\n",
       "      <td>0.106375</td>\n",
       "      <td>-0.002875</td>\n",
       "      <td>-0.034529</td>\n",
       "      <td>-0.039428</td>\n",
       "      <td>0.102687</td>\n",
       "    </tr>\n",
       "    <tr>\n",
       "      <th>4</th>\n",
       "      <td>8b49aa26a415fff</td>\n",
       "      <td>POLYGON ((-103.52286 20.45477, -103.52269 20.4...</td>\n",
       "      <td>Guadalajara</td>\n",
       "      <td>11</td>\n",
       "      <td>0.222465</td>\n",
       "      <td>0.070342</td>\n",
       "      <td>0.217360</td>\n",
       "      <td>0.301049</td>\n",
       "      <td>0.134053</td>\n",
       "      <td>0.166995</td>\n",
       "      <td>-0.001676</td>\n",
       "      <td>-0.041573</td>\n",
       "      <td>-0.051140</td>\n",
       "      <td>0.138796</td>\n",
       "    </tr>\n",
       "  </tbody>\n",
       "</table>\n",
       "</div>"
      ],
      "text/plain": [
       "            hex_id                                           geometry  \\\n",
       "0  8b49aa2c2463fff  POLYGON ((-103.29765 20.53338, -103.29747 20.5...   \n",
       "1  8b49aa29bb0bfff  POLYGON ((-103.16160 20.50368, -103.16143 20.5...   \n",
       "2  8b49aa25d881fff  POLYGON ((-103.48573 20.49146, -103.48555 20.4...   \n",
       "3  8b498c9a1352fff  POLYGON ((-103.05785 20.62443, -103.05767 20.6...   \n",
       "4  8b49aa26a415fff  POLYGON ((-103.52286 20.45477, -103.52269 20.4...   \n",
       "\n",
       "          city  res  ndvi_mean  ndvi_std  ndvi_median  ndvi_max  ndvi_min  \\\n",
       "0  Guadalajara   11   0.347040  0.158243     0.320887  0.551674  0.156183   \n",
       "1  Guadalajara   11   0.360856  0.227557     0.258495  0.772629  0.148347   \n",
       "2  Guadalajara   11   0.405083  0.171210     0.389650  0.629937  0.230272   \n",
       "3  Guadalajara   11   0.243744  0.069161     0.255205  0.296221  0.189846   \n",
       "4  Guadalajara   11   0.222465  0.070342     0.217360  0.301049  0.134053   \n",
       "\n",
       "   ndvi_diff  ndvi_tend  ndmi_mean  ndmi_median  ndmi_diff  \n",
       "0   0.395491  -0.001260  -0.051965    -0.041315   0.362261  \n",
       "1   0.624283  -0.002090  -0.027797    -0.095338   0.490674  \n",
       "2   0.399664  -0.002886   0.064263     0.041841   0.307760  \n",
       "3   0.106375  -0.002875  -0.034529    -0.039428   0.102687  \n",
       "4   0.166995  -0.001676  -0.041573    -0.051140   0.138796  "
      ]
     },
     "execution_count": 20,
     "metadata": {},
     "output_type": "execute_result"
    }
   ],
   "source": [
    "gdl_samples_int = 200000\n",
    "cdmx_samples_int = 150000\n",
    "qro_samples_int = 50000\n",
    "\n",
    "# Randomly sample 200,000 hexagons of Guadalajra\n",
    "sample_with_Guadalajara = intt_gdl[intt_gdl['city'] == 'Guadalajara'].sample(n=gdl_samples_int, random_state=42)\n",
    "\n",
    "# Randomly sample 150,000 hexagons of Cdmx\n",
    "sample_with_Cdmx = intt_gdl[intt_gdl['city'] == 'ZMVM'].sample(n=cdmx_samples_int, random_state=42)\n",
    "\n",
    "# Randomly sample 50,000 hexagons of Queretaro\n",
    "sample_with_Queretaro = intt_gdl[intt_gdl['city'] == 'Queretaro'].sample(n=qro_samples_int, random_state=42)\n",
    "\n",
    "# Concatenate the two samples to get the final subsample\n",
    "int_gdf = pd.concat([sample_with_Guadalajara, sample_with_Cdmx, sample_with_Queretaro])\n",
    "int_gdf.reset_index(drop = True, inplace = True)\n",
    "int_gdf.head()"
   ]
  },
  {
   "cell_type": "code",
   "execution_count": 21,
   "id": "f606b62f-b38b-4019-80da-f9cf24b7fbea",
   "metadata": {},
   "outputs": [
    {
     "data": {
      "text/plain": [
       "(400000, 14)"
      ]
     },
     "execution_count": 21,
     "metadata": {},
     "output_type": "execute_result"
    }
   ],
   "source": [
    "int_gdf.shape"
   ]
  },
  {
   "cell_type": "code",
   "execution_count": 22,
   "id": "04297fa2-d6b7-4279-8858-c9f8518456a9",
   "metadata": {
    "tags": []
   },
   "outputs": [
    {
     "name": "stdout",
     "output_type": "stream",
     "text": [
      "Número de hexágonos Gdl: 200000 \n",
      "Número de hexágonos Cdmx: 150000 \n",
      "Número de hexágonos Qro: 50000\n"
     ]
    }
   ],
   "source": [
    "contador_gdl = np.sum(int_gdf['city'] == 'Guadalajara')\n",
    "contador_cdmx = np.sum(int_gdf['city'] == 'ZMVM')\n",
    "contador_qro = np.sum(int_gdf['city'] == 'Queretaro')\n",
    "print(f'Número de hexágonos Gdl: {contador_gdl} \\nNúmero de hexágonos Cdmx: {contador_cdmx} \\nNúmero de hexágonos Qro: {contador_qro}')"
   ]
  },
  {
   "cell_type": "markdown",
   "id": "ae4f4dc4-201d-4f8b-9741-a82ae414b8a7",
   "metadata": {},
   "source": [
    "Ahora que ya tenemos dimensiones más pequeñas ya podemos hacer la intersección."
   ]
  },
  {
   "cell_type": "markdown",
   "id": "5d14c446-c89e-49c6-816b-93459ff272ec",
   "metadata": {},
   "source": [
    "## Intersección"
   ]
  },
  {
   "cell_type": "code",
   "execution_count": 23,
   "id": "f01fdfe4-a3b7-40fc-8db9-208882f82618",
   "metadata": {
    "tags": []
   },
   "outputs": [],
   "source": [
    "int_gdf = int_gdf.set_crs(\"EPSG:4326\")\n",
    "hex_gdf = hex_gdf.set_crs(\"EPSG:4326\")"
   ]
  },
  {
   "cell_type": "code",
   "execution_count": 24,
   "id": "4749966e-d61b-4297-b690-527a0ac62781",
   "metadata": {
    "tags": []
   },
   "outputs": [],
   "source": [
    "inter = gpd.sjoin(hex_gdf, int_gdf, op='intersects')"
   ]
  },
  {
   "cell_type": "code",
   "execution_count": 25,
   "id": "7ef06de8-8747-4341-b9fc-cdce908452d2",
   "metadata": {
    "tags": []
   },
   "outputs": [
    {
     "data": {
      "text/html": [
       "<div>\n",
       "<style scoped>\n",
       "    .dataframe tbody tr th:only-of-type {\n",
       "        vertical-align: middle;\n",
       "    }\n",
       "\n",
       "    .dataframe tbody tr th {\n",
       "        vertical-align: top;\n",
       "    }\n",
       "\n",
       "    .dataframe thead th {\n",
       "        text-align: right;\n",
       "    }\n",
       "</style>\n",
       "<table border=\"1\" class=\"dataframe\">\n",
       "  <thead>\n",
       "    <tr style=\"text-align: right;\">\n",
       "      <th></th>\n",
       "      <th>hex_id</th>\n",
       "      <th>geometry</th>\n",
       "      <th>city</th>\n",
       "      <th>EspPublico</th>\n",
       "      <th>ndvi_mean</th>\n",
       "      <th>ndvi_std</th>\n",
       "      <th>ndvi_median</th>\n",
       "      <th>ndvi_max</th>\n",
       "      <th>ndvi_min</th>\n",
       "      <th>ndvi_diff</th>\n",
       "      <th>ndvi_tend</th>\n",
       "      <th>ndmi_mean</th>\n",
       "      <th>ndmi_median</th>\n",
       "      <th>ndmi_diff</th>\n",
       "    </tr>\n",
       "  </thead>\n",
       "  <tbody>\n",
       "    <tr>\n",
       "      <th>0</th>\n",
       "      <td>8b49aa2f0943fff</td>\n",
       "      <td>POLYGON ((-103.29497 20.46059, -103.29479 20.4...</td>\n",
       "      <td>Guadalajara</td>\n",
       "      <td>0</td>\n",
       "      <td>0.326641</td>\n",
       "      <td>0.239111</td>\n",
       "      <td>0.20963</td>\n",
       "      <td>0.801521</td>\n",
       "      <td>0.110195</td>\n",
       "      <td>0.691326</td>\n",
       "      <td>-0.00012</td>\n",
       "      <td>0.009815</td>\n",
       "      <td>-0.051656</td>\n",
       "      <td>0.585544</td>\n",
       "    </tr>\n",
       "    <tr>\n",
       "      <th>71467</th>\n",
       "      <td>8b49aa2f0944fff</td>\n",
       "      <td>POLYGON ((-103.29507 20.45962, -103.29489 20.4...</td>\n",
       "      <td>Guadalajara</td>\n",
       "      <td>0</td>\n",
       "      <td>0.326641</td>\n",
       "      <td>0.239111</td>\n",
       "      <td>0.20963</td>\n",
       "      <td>0.801521</td>\n",
       "      <td>0.110195</td>\n",
       "      <td>0.691326</td>\n",
       "      <td>-0.00012</td>\n",
       "      <td>0.009815</td>\n",
       "      <td>-0.051656</td>\n",
       "      <td>0.585544</td>\n",
       "    </tr>\n",
       "    <tr>\n",
       "      <th>77404</th>\n",
       "      <td>8b49aa2f0941fff</td>\n",
       "      <td>POLYGON ((-103.29544 20.46038, -103.29527 20.4...</td>\n",
       "      <td>Guadalajara</td>\n",
       "      <td>0</td>\n",
       "      <td>0.326641</td>\n",
       "      <td>0.239111</td>\n",
       "      <td>0.20963</td>\n",
       "      <td>0.801521</td>\n",
       "      <td>0.110195</td>\n",
       "      <td>0.691326</td>\n",
       "      <td>-0.00012</td>\n",
       "      <td>0.009815</td>\n",
       "      <td>-0.051656</td>\n",
       "      <td>0.585544</td>\n",
       "    </tr>\n",
       "    <tr>\n",
       "      <th>79433</th>\n",
       "      <td>8b49aa2f0945fff</td>\n",
       "      <td>POLYGON ((-103.29549 20.45990, -103.29532 20.4...</td>\n",
       "      <td>Guadalajara</td>\n",
       "      <td>0</td>\n",
       "      <td>0.326641</td>\n",
       "      <td>0.239111</td>\n",
       "      <td>0.20963</td>\n",
       "      <td>0.801521</td>\n",
       "      <td>0.110195</td>\n",
       "      <td>0.691326</td>\n",
       "      <td>-0.00012</td>\n",
       "      <td>0.009815</td>\n",
       "      <td>-0.051656</td>\n",
       "      <td>0.585544</td>\n",
       "    </tr>\n",
       "    <tr>\n",
       "      <th>117165</th>\n",
       "      <td>8b49aa2f0946fff</td>\n",
       "      <td>POLYGON ((-103.29459 20.45982, -103.29442 20.4...</td>\n",
       "      <td>Guadalajara</td>\n",
       "      <td>0</td>\n",
       "      <td>0.326641</td>\n",
       "      <td>0.239111</td>\n",
       "      <td>0.20963</td>\n",
       "      <td>0.801521</td>\n",
       "      <td>0.110195</td>\n",
       "      <td>0.691326</td>\n",
       "      <td>-0.00012</td>\n",
       "      <td>0.009815</td>\n",
       "      <td>-0.051656</td>\n",
       "      <td>0.585544</td>\n",
       "    </tr>\n",
       "  </tbody>\n",
       "</table>\n",
       "</div>"
      ],
      "text/plain": [
       "                 hex_id                                           geometry  \\\n",
       "0       8b49aa2f0943fff  POLYGON ((-103.29497 20.46059, -103.29479 20.4...   \n",
       "71467   8b49aa2f0944fff  POLYGON ((-103.29507 20.45962, -103.29489 20.4...   \n",
       "77404   8b49aa2f0941fff  POLYGON ((-103.29544 20.46038, -103.29527 20.4...   \n",
       "79433   8b49aa2f0945fff  POLYGON ((-103.29549 20.45990, -103.29532 20.4...   \n",
       "117165  8b49aa2f0946fff  POLYGON ((-103.29459 20.45982, -103.29442 20.4...   \n",
       "\n",
       "               city  EspPublico  ndvi_mean  ndvi_std  ndvi_median  ndvi_max  \\\n",
       "0       Guadalajara           0   0.326641  0.239111      0.20963  0.801521   \n",
       "71467   Guadalajara           0   0.326641  0.239111      0.20963  0.801521   \n",
       "77404   Guadalajara           0   0.326641  0.239111      0.20963  0.801521   \n",
       "79433   Guadalajara           0   0.326641  0.239111      0.20963  0.801521   \n",
       "117165  Guadalajara           0   0.326641  0.239111      0.20963  0.801521   \n",
       "\n",
       "        ndvi_min  ndvi_diff  ndvi_tend  ndmi_mean  ndmi_median  ndmi_diff  \n",
       "0       0.110195   0.691326   -0.00012   0.009815    -0.051656   0.585544  \n",
       "71467   0.110195   0.691326   -0.00012   0.009815    -0.051656   0.585544  \n",
       "77404   0.110195   0.691326   -0.00012   0.009815    -0.051656   0.585544  \n",
       "79433   0.110195   0.691326   -0.00012   0.009815    -0.051656   0.585544  \n",
       "117165  0.110195   0.691326   -0.00012   0.009815    -0.051656   0.585544  "
      ]
     },
     "execution_count": 25,
     "metadata": {},
     "output_type": "execute_result"
    }
   ],
   "source": [
    "inter.drop(columns=['index_right','city_right','res','hex_id_right'], inplace=True)\n",
    "inter.rename(columns={\"hex_id_left\": \"hex_id\",\"city_left\": \"city\"}, inplace=True)\n",
    "inter.head()"
   ]
  },
  {
   "cell_type": "code",
   "execution_count": 26,
   "id": "5b3fa1be-9caa-48c1-b68c-bd6ab21649ac",
   "metadata": {},
   "outputs": [
    {
     "data": {
      "text/plain": [
       "hex_id         0\n",
       "geometry       0\n",
       "city           0\n",
       "EspPublico     0\n",
       "ndvi_mean      0\n",
       "ndvi_std       0\n",
       "ndvi_median    0\n",
       "ndvi_max       0\n",
       "ndvi_min       0\n",
       "ndvi_diff      0\n",
       "ndvi_tend      0\n",
       "ndmi_mean      0\n",
       "ndmi_median    0\n",
       "ndmi_diff      0\n",
       "dtype: int64"
      ]
     },
     "execution_count": 26,
     "metadata": {},
     "output_type": "execute_result"
    }
   ],
   "source": [
    "pd.isna(inter).sum()"
   ]
  },
  {
   "cell_type": "code",
   "execution_count": 27,
   "id": "23956dfc-f9bd-448b-8dfb-5d4b05052269",
   "metadata": {
    "tags": []
   },
   "outputs": [
    {
     "name": "stdout",
     "output_type": "stream",
     "text": [
      "Número de hexágonos Gdl: 681587 \n",
      "Número de hexágonos Cdmx: 519747 \n",
      "Número de hexágonos Qro: 169625\n"
     ]
    }
   ],
   "source": [
    "contador_gdl = np.sum(inter['city'] == 'Guadalajara')\n",
    "contador_cdmx = np.sum(inter['city'] == 'ZMVM')\n",
    "contador_qro = np.sum(inter['city'] == 'Queretaro')\n",
    "print(f'Número de hexágonos Gdl: {contador_gdl} \\nNúmero de hexágonos Cdmx: {contador_cdmx} \\nNúmero de hexágonos Qro: {contador_qro}')"
   ]
  },
  {
   "cell_type": "code",
   "execution_count": 28,
   "id": "366befe9-d367-4701-bb27-b7a1fe2dd080",
   "metadata": {
    "tags": []
   },
   "outputs": [
    {
     "name": "stdout",
     "output_type": "stream",
     "text": [
      "Números de hexagonos sin Espacios Públicos: 1208549 \n",
      "Número de Hexágonos con Espacios Públicos: 162410\n",
      "Número total de Hexágonos: 1370959\n"
     ]
    }
   ],
   "source": [
    "cont_ceros = np.sum(inter['EspPublico'] == 0)\n",
    "cont_uno = np.sum(inter['EspPublico'])\n",
    "print(f'Números de hexagonos sin Espacios Públicos: {cont_ceros} \\nNúmero de Hexágonos con Espacios Públicos: {cont_uno}\\nNúmero total de Hexágonos: {cont_ceros+cont_uno}')"
   ]
  },
  {
   "cell_type": "markdown",
   "id": "0ee5e622-9b87-4a8f-a742-30403943d162",
   "metadata": {},
   "source": [
    "## Submuestreo 162,410 Hexágonos Esp Púb x 162,410 Hexágonos No Esp Púb"
   ]
  },
  {
   "cell_type": "code",
   "execution_count": 30,
   "id": "95142540-0cbb-45ee-b51d-681806f5e787",
   "metadata": {
    "tags": []
   },
   "outputs": [
    {
     "data": {
      "text/html": [
       "<div>\n",
       "<style scoped>\n",
       "    .dataframe tbody tr th:only-of-type {\n",
       "        vertical-align: middle;\n",
       "    }\n",
       "\n",
       "    .dataframe tbody tr th {\n",
       "        vertical-align: top;\n",
       "    }\n",
       "\n",
       "    .dataframe thead th {\n",
       "        text-align: right;\n",
       "    }\n",
       "</style>\n",
       "<table border=\"1\" class=\"dataframe\">\n",
       "  <thead>\n",
       "    <tr style=\"text-align: right;\">\n",
       "      <th></th>\n",
       "      <th>hex_id</th>\n",
       "      <th>geometry</th>\n",
       "      <th>city</th>\n",
       "      <th>EspPublico</th>\n",
       "      <th>ndvi_mean</th>\n",
       "      <th>ndvi_std</th>\n",
       "      <th>ndvi_median</th>\n",
       "      <th>ndvi_max</th>\n",
       "      <th>ndvi_min</th>\n",
       "      <th>ndvi_diff</th>\n",
       "      <th>ndvi_tend</th>\n",
       "      <th>ndmi_mean</th>\n",
       "      <th>ndmi_median</th>\n",
       "      <th>ndmi_diff</th>\n",
       "    </tr>\n",
       "  </thead>\n",
       "  <tbody>\n",
       "    <tr>\n",
       "      <th>0</th>\n",
       "      <td>8b499585c141fff</td>\n",
       "      <td>POLYGON ((-99.14159 19.32367, -99.14142 19.323...</td>\n",
       "      <td>ZMVM</td>\n",
       "      <td>1</td>\n",
       "      <td>0.259754</td>\n",
       "      <td>0.083176</td>\n",
       "      <td>0.286260</td>\n",
       "      <td>0.337131</td>\n",
       "      <td>0.151175</td>\n",
       "      <td>0.185957</td>\n",
       "      <td>-0.001629</td>\n",
       "      <td>0.063094</td>\n",
       "      <td>0.049319</td>\n",
       "      <td>0.148635</td>\n",
       "    </tr>\n",
       "    <tr>\n",
       "      <th>1</th>\n",
       "      <td>8b4995b337a8fff</td>\n",
       "      <td>POLYGON ((-99.25771 19.36773, -99.25754 19.367...</td>\n",
       "      <td>ZMVM</td>\n",
       "      <td>1</td>\n",
       "      <td>0.134413</td>\n",
       "      <td>0.040714</td>\n",
       "      <td>0.136816</td>\n",
       "      <td>0.190439</td>\n",
       "      <td>0.083981</td>\n",
       "      <td>0.106458</td>\n",
       "      <td>0.000710</td>\n",
       "      <td>-0.014420</td>\n",
       "      <td>-0.028005</td>\n",
       "      <td>0.153273</td>\n",
       "    </tr>\n",
       "    <tr>\n",
       "      <th>2</th>\n",
       "      <td>8b4995ba565efff</td>\n",
       "      <td>POLYGON ((-99.19216 19.40124, -99.19198 19.401...</td>\n",
       "      <td>ZMVM</td>\n",
       "      <td>1</td>\n",
       "      <td>0.111182</td>\n",
       "      <td>0.047319</td>\n",
       "      <td>0.125387</td>\n",
       "      <td>0.166100</td>\n",
       "      <td>0.022817</td>\n",
       "      <td>0.143282</td>\n",
       "      <td>-0.000658</td>\n",
       "      <td>0.013868</td>\n",
       "      <td>0.003817</td>\n",
       "      <td>0.118145</td>\n",
       "    </tr>\n",
       "    <tr>\n",
       "      <th>3</th>\n",
       "      <td>8b4995846651fff</td>\n",
       "      <td>POLYGON ((-99.14182 19.28818, -99.14164 19.288...</td>\n",
       "      <td>ZMVM</td>\n",
       "      <td>1</td>\n",
       "      <td>0.374869</td>\n",
       "      <td>0.129211</td>\n",
       "      <td>0.426340</td>\n",
       "      <td>0.501915</td>\n",
       "      <td>0.156982</td>\n",
       "      <td>0.344933</td>\n",
       "      <td>-0.002069</td>\n",
       "      <td>0.103396</td>\n",
       "      <td>0.093925</td>\n",
       "      <td>0.125970</td>\n",
       "    </tr>\n",
       "    <tr>\n",
       "      <th>4</th>\n",
       "      <td>8b4995b8cca4fff</td>\n",
       "      <td>POLYGON ((-99.17429 19.47673, -99.17412 19.476...</td>\n",
       "      <td>ZMVM</td>\n",
       "      <td>1</td>\n",
       "      <td>0.217099</td>\n",
       "      <td>0.095742</td>\n",
       "      <td>0.236790</td>\n",
       "      <td>0.347933</td>\n",
       "      <td>0.068282</td>\n",
       "      <td>0.279651</td>\n",
       "      <td>0.000113</td>\n",
       "      <td>-0.013457</td>\n",
       "      <td>-0.023668</td>\n",
       "      <td>0.207983</td>\n",
       "    </tr>\n",
       "  </tbody>\n",
       "</table>\n",
       "</div>"
      ],
      "text/plain": [
       "            hex_id                                           geometry  city  \\\n",
       "0  8b499585c141fff  POLYGON ((-99.14159 19.32367, -99.14142 19.323...  ZMVM   \n",
       "1  8b4995b337a8fff  POLYGON ((-99.25771 19.36773, -99.25754 19.367...  ZMVM   \n",
       "2  8b4995ba565efff  POLYGON ((-99.19216 19.40124, -99.19198 19.401...  ZMVM   \n",
       "3  8b4995846651fff  POLYGON ((-99.14182 19.28818, -99.14164 19.288...  ZMVM   \n",
       "4  8b4995b8cca4fff  POLYGON ((-99.17429 19.47673, -99.17412 19.476...  ZMVM   \n",
       "\n",
       "   EspPublico  ndvi_mean  ndvi_std  ndvi_median  ndvi_max  ndvi_min  \\\n",
       "0           1   0.259754  0.083176     0.286260  0.337131  0.151175   \n",
       "1           1   0.134413  0.040714     0.136816  0.190439  0.083981   \n",
       "2           1   0.111182  0.047319     0.125387  0.166100  0.022817   \n",
       "3           1   0.374869  0.129211     0.426340  0.501915  0.156982   \n",
       "4           1   0.217099  0.095742     0.236790  0.347933  0.068282   \n",
       "\n",
       "   ndvi_diff  ndvi_tend  ndmi_mean  ndmi_median  ndmi_diff  \n",
       "0   0.185957  -0.001629   0.063094     0.049319   0.148635  \n",
       "1   0.106458   0.000710  -0.014420    -0.028005   0.153273  \n",
       "2   0.143282  -0.000658   0.013868     0.003817   0.118145  \n",
       "3   0.344933  -0.002069   0.103396     0.093925   0.125970  \n",
       "4   0.279651   0.000113  -0.013457    -0.023668   0.207983  "
      ]
     },
     "execution_count": 30,
     "metadata": {},
     "output_type": "execute_result"
    }
   ],
   "source": [
    "num_samples = len(inter[inter['EspPublico'] == 1])\n",
    "\n",
    "# Randomly sample 203,570 hexagons with public spaces\n",
    "sample_with_public_spaces = inter[inter['EspPublico'] == 1].sample(n=num_samples, random_state=42)\n",
    "\n",
    "# Randomly sample 203,570 hexagons without public spaces\n",
    "sample_without_public_spaces = inter[inter['EspPublico'] == 0].sample(n=num_samples, random_state=42)\n",
    "\n",
    "# Concatenate the two samples to get the final subsample\n",
    "inter = pd.concat([sample_with_public_spaces, sample_without_public_spaces])\n",
    "inter.reset_index(drop = True, inplace = True)\n",
    "inter.head()"
   ]
  },
  {
   "cell_type": "code",
   "execution_count": 31,
   "id": "2289551e-366c-4fb7-8157-c67f3556d8b2",
   "metadata": {
    "tags": []
   },
   "outputs": [
    {
     "name": "stdout",
     "output_type": "stream",
     "text": [
      "Números de hexagonos sin Espacios Públicos: 162410 \n",
      "Número de Hexágonos con Espacios Públicos: 162410\n",
      "Número total de Hexágonos: 324820\n"
     ]
    }
   ],
   "source": [
    "contador_ceros = np.sum(inter['EspPublico'] == 0)\n",
    "contador_uno = np.sum(inter['EspPublico'])\n",
    "print(f'Números de hexagonos sin Espacios Públicos: {contador_ceros} \\nNúmero de Hexágonos con Espacios Públicos: {contador_uno}\\nNúmero total de Hexágonos: {contador_ceros+contador_uno}')"
   ]
  },
  {
   "cell_type": "code",
   "execution_count": 32,
   "id": "0a87d9be-06c5-4e9f-bc3a-90b234df03ae",
   "metadata": {
    "tags": []
   },
   "outputs": [
    {
     "data": {
      "text/plain": [
       "(324820, 14)"
      ]
     },
     "execution_count": 32,
     "metadata": {},
     "output_type": "execute_result"
    }
   ],
   "source": [
    "inter.shape"
   ]
  },
  {
   "cell_type": "markdown",
   "id": "c04cecaa-1ad4-42ea-b08a-4601eb4c141f",
   "metadata": {},
   "source": [
    "## Métodos de Clasificación"
   ]
  },
  {
   "cell_type": "code",
   "execution_count": 33,
   "id": "52f50d27-42e8-4d06-968f-85f99fbd45d3",
   "metadata": {
    "tags": []
   },
   "outputs": [],
   "source": [
    "x = inter[['ndvi_mean','ndvi_std','ndvi_median','ndvi_max','ndvi_min','ndvi_diff','ndvi_tend','ndmi_mean','ndmi_median','ndmi_diff']]\n",
    "y = inter['EspPublico']"
   ]
  },
  {
   "cell_type": "code",
   "execution_count": 34,
   "id": "20c51a96-ae2c-4727-9a69-db635403eac1",
   "metadata": {
    "tags": []
   },
   "outputs": [
    {
     "data": {
      "text/plain": [
       "array([1, 0])"
      ]
     },
     "execution_count": 34,
     "metadata": {},
     "output_type": "execute_result"
    }
   ],
   "source": [
    "y.unique()"
   ]
  },
  {
   "cell_type": "markdown",
   "id": "9974aaf7-595e-450c-b771-d5b3ca983d1c",
   "metadata": {},
   "source": [
    "### Regresión Logística"
   ]
  },
  {
   "cell_type": "code",
   "execution_count": 35,
   "id": "205c3082-38b1-47d9-bd18-d63eaa8243ab",
   "metadata": {
    "tags": []
   },
   "outputs": [],
   "source": [
    "x_train, x_test, y_train, y_test = train_test_split(x,y, test_size = 0.2, random_state = 42)\n",
    "scaler = StandardScaler()\n",
    "x_train_scale = scaler.fit_transform(x_train)\n",
    "x_test_scale = scaler.fit_transform(x_test)"
   ]
  },
  {
   "cell_type": "code",
   "execution_count": 36,
   "id": "f5e5e9a4-fea5-4e9e-bcb1-0c813c383a9f",
   "metadata": {
    "tags": []
   },
   "outputs": [
    {
     "data": {
      "image/png": "[encoded data removed]",
      "text/plain": [
       "<Figure size 1000x700 with 2 Axes>"
      ]
     },
     "metadata": {},
     "output_type": "display_data"
    }
   ],
   "source": [
    "clf = LogisticRegression()\n",
    "clf.fit(x_train_scale, y_train)\n",
    "y_pred = clf.predict(x_test_scale)\n",
    "cm = confusion_matrix(y_test,y_pred)\n",
    "class_labels = ['Espacio Público', 'No Espacio Público']\n",
    "plt.figure(figsize = (10,7))\n",
    "sns.heatmap(cm, annot = True, fmt = \"g\", cmap=\"Blues\", xticklabels=class_labels, yticklabels=class_labels)\n",
    "plt.xlabel('Predicted', fontsize = 12, fontweight  = 'bold')\n",
    "plt.ylabel('Actual', fontsize = 12, fontweight  = 'bold')\n",
    "plt.title('Matriz de Confusión', fontsize = 15, fontweight = 'bold')\n",
    "plt.show()"
   ]
  },
  {
   "cell_type": "code",
   "execution_count": 37,
   "id": "f440316e-95a3-4a9d-bc3a-ec6d95636dc4",
   "metadata": {
    "tags": []
   },
   "outputs": [
    {
     "name": "stdout",
     "output_type": "stream",
     "text": [
      "Accuracy: 0.7138569053629703\n"
     ]
    }
   ],
   "source": [
    "accuracy = accuracy_score(y_test, y_pred)\n",
    "print(f'Accuracy: {accuracy}')"
   ]
  },
  {
   "cell_type": "markdown",
   "id": "81fe2e3d-e9f4-4acd-abcb-05dfd4bb7a47",
   "metadata": {},
   "source": [
    "### Naive Bayes"
   ]
  },
  {
   "cell_type": "code",
   "execution_count": 38,
   "id": "f003c2ca-c4f5-4692-b8aa-a2f735f0d411",
   "metadata": {
    "tags": []
   },
   "outputs": [
    {
     "data": {
      "text/html": [
       "<style>#sk-container-id-1 {color: black;background-color: white;}#sk-container-id-1 pre{padding: 0;}#sk-container-id-1 div.sk-toggleable {background-color: white;}#sk-container-id-1 label.sk-toggleable__label {cursor: pointer;display: block;width: 100%;margin-bottom: 0;padding: 0.3em;box-sizing: border-box;text-align: center;}#sk-container-id-1 label.sk-toggleable__label-arrow:before {content: \"▸\";float: left;margin-right: 0.25em;color: #696969;}#sk-container-id-1 label.sk-toggleable__label-arrow:hover:before {color: black;}#sk-container-id-1 div.sk-estimator:hover label.sk-toggleable__label-arrow:before {color: black;}#sk-container-id-1 div.sk-toggleable__content {max-height: 0;max-width: 0;overflow: hidden;text-align: left;background-color: #f0f8ff;}#sk-container-id-1 div.sk-toggleable__content pre {margin: 0.2em;color: black;border-radius: 0.25em;background-color: #f0f8ff;}#sk-container-id-1 input.sk-toggleable__control:checked~div.sk-toggleable__content {max-height: 200px;max-width: 100%;overflow: auto;}#sk-container-id-1 input.sk-toggleable__control:checked~label.sk-toggleable__label-arrow:before {content: \"▾\";}#sk-container-id-1 div.sk-estimator input.sk-toggleable__control:checked~label.sk-toggleable__label {background-color: #d4ebff;}#sk-container-id-1 div.sk-label input.sk-toggleable__control:checked~label.sk-toggleable__label {background-color: #d4ebff;}#sk-container-id-1 input.sk-hidden--visually {border: 0;clip: rect(1px 1px 1px 1px);clip: rect(1px, 1px, 1px, 1px);height: 1px;margin: -1px;overflow: hidden;padding: 0;position: absolute;width: 1px;}#sk-container-id-1 div.sk-estimator {font-family: monospace;background-color: #f0f8ff;border: 1px dotted black;border-radius: 0.25em;box-sizing: border-box;margin-bottom: 0.5em;}#sk-container-id-1 div.sk-estimator:hover {background-color: #d4ebff;}#sk-container-id-1 div.sk-parallel-item::after {content: \"\";width: 100%;border-bottom: 1px solid gray;flex-grow: 1;}#sk-container-id-1 div.sk-label:hover label.sk-toggleable__label {background-color: #d4ebff;}#sk-container-id-1 div.sk-serial::before {content: \"\";position: absolute;border-left: 1px solid gray;box-sizing: border-box;top: 0;bottom: 0;left: 50%;z-index: 0;}#sk-container-id-1 div.sk-serial {display: flex;flex-direction: column;align-items: center;background-color: white;padding-right: 0.2em;padding-left: 0.2em;position: relative;}#sk-container-id-1 div.sk-item {position: relative;z-index: 1;}#sk-container-id-1 div.sk-parallel {display: flex;align-items: stretch;justify-content: center;background-color: white;position: relative;}#sk-container-id-1 div.sk-item::before, #sk-container-id-1 div.sk-parallel-item::before {content: \"\";position: absolute;border-left: 1px solid gray;box-sizing: border-box;top: 0;bottom: 0;left: 50%;z-index: -1;}#sk-container-id-1 div.sk-parallel-item {display: flex;flex-direction: column;z-index: 1;position: relative;background-color: white;}#sk-container-id-1 div.sk-parallel-item:first-child::after {align-self: flex-end;width: 50%;}#sk-container-id-1 div.sk-parallel-item:last-child::after {align-self: flex-start;width: 50%;}#sk-container-id-1 div.sk-parallel-item:only-child::after {width: 0;}#sk-container-id-1 div.sk-dashed-wrapped {border: 1px dashed gray;margin: 0 0.4em 0.5em 0.4em;box-sizing: border-box;padding-bottom: 0.4em;background-color: white;}#sk-container-id-1 div.sk-label label {font-family: monospace;font-weight: bold;display: inline-block;line-height: 1.2em;}#sk-container-id-1 div.sk-label-container {text-align: center;}#sk-container-id-1 div.sk-container {/* jupyter's `normalize.less` sets `[hidden] { display: none; }` but bootstrap.min.css set `[hidden] { display: none !important; }` so we also need the `!important` here to be able to override the default hidden behavior on the sphinx rendered scikit-learn.org. See: https://github.com/scikit-learn/scikit-learn/issues/21755 */display: inline-block !important;position: relative;}#sk-container-id-1 div.sk-text-repr-fallback {display: none;}</style><div id=\"sk-container-id-1\" class=\"sk-top-container\"><div class=\"sk-text-repr-fallback\"><pre>GaussianNB()</pre><b>In a Jupyter environment, please rerun this cell to show the HTML representation or trust the notebook. <br />On GitHub, the HTML representation is unable to render, please try loading this page with nbviewer.org.</b></div><div class=\"sk-container\" hidden><div class=\"sk-item\"><div class=\"sk-estimator sk-toggleable\"><input class=\"sk-toggleable__control sk-hidden--visually\" id=\"sk-estimator-id-1\" type=\"checkbox\" checked><label for=\"sk-estimator-id-1\" class=\"sk-toggleable__label sk-toggleable__label-arrow\">GaussianNB</label><div class=\"sk-toggleable__content\"><pre>GaussianNB()</pre></div></div></div></div></div>"
      ],
      "text/plain": [
       "GaussianNB()"
      ]
     },
     "execution_count": 38,
     "metadata": {},
     "output_type": "execute_result"
    }
   ],
   "source": [
    "nb = GaussianNB()\n",
    "nb.fit(x_train, y_train)"
   ]
  },
  {
   "cell_type": "code",
   "execution_count": 39,
   "id": "821887aa-6218-4d6d-b191-2d093c3fd822",
   "metadata": {
    "tags": []
   },
   "outputs": [
    {
     "data": {
      "image/png": "[encoded data removed]",
      "text/plain": [
       "<Figure size 1000x700 with 2 Axes>"
      ]
     },
     "metadata": {},
     "output_type": "display_data"
    }
   ],
   "source": [
    "y_prend = nb.predict(x_test)\n",
    "cm = confusion_matrix(y_test, y_prend)\n",
    "class_labels = ['Espacio Público', 'No Espacio Público']\n",
    "plt.figure(figsize = (10,7))\n",
    "sns.heatmap(cm, annot = True, fmt = \"g\", cmap=\"Reds\", xticklabels=class_labels, yticklabels=class_labels)\n",
    "plt.xlabel('Predicted', fontsize = 12, fontweight  = 'bold')\n",
    "plt.ylabel('Actual', fontsize = 12, fontweight  = 'bold')\n",
    "plt.title('Matriz de Confusión', fontsize = 15, fontweight = 'bold')\n",
    "plt.show()"
   ]
  },
  {
   "cell_type": "code",
   "execution_count": 40,
   "id": "dd13e355-5615-4321-bd13-b098b16c8387",
   "metadata": {
    "tags": []
   },
   "outputs": [
    {
     "name": "stdout",
     "output_type": "stream",
     "text": [
      "Accuracy: 0.6404008373868604\n"
     ]
    }
   ],
   "source": [
    "accuracy = accuracy_score(y_test, y_prend)\n",
    "print(f'Accuracy: {accuracy}')"
   ]
  },
  {
   "cell_type": "markdown",
   "id": "9a7e1842-62af-4c30-88b5-622abfdf3052",
   "metadata": {},
   "source": [
    "## Random Forest Classifier (RFC)"
   ]
  },
  {
   "cell_type": "code",
   "execution_count": 41,
   "id": "bf450058-e628-4841-943d-b12180c9b92c",
   "metadata": {
    "tags": []
   },
   "outputs": [],
   "source": [
    "rf = RandomForestClassifier(n_estimators=120, random_state=42)  \n",
    "rf.fit(x_train, y_train)\n",
    "\n",
    "# Realizar predicciones en el conjunto de prueba\n",
    "y_predd = rf.predict(x_test)"
   ]
  },
  {
   "cell_type": "code",
   "execution_count": 42,
   "id": "4389a3e8-3c03-40f4-b525-31ed8ca8c76a",
   "metadata": {
    "tags": []
   },
   "outputs": [
    {
     "data": {
      "image/png": "[encoded data removed]",
      "text/plain": [
       "<Figure size 1000x700 with 2 Axes>"
      ]
     },
     "metadata": {},
     "output_type": "display_data"
    }
   ],
   "source": [
    "cm = confusion_matrix(y_test, y_predd)\n",
    "class_labels = ['Espacio Verde Público', 'No Espacio Verde Público']\n",
    "plt.figure(figsize = (10,7))\n",
    "sns.heatmap(cm, annot = True, fmt = \"g\", cmap=\"Greens\", xticklabels=class_labels, yticklabels=class_labels)\n",
    "plt.xlabel('Predicted', fontsize = 12, fontweight  = 'bold')\n",
    "plt.ylabel('Actual', fontsize = 12, fontweight  = 'bold')\n",
    "plt.title('Matriz de Confusión', fontsize = 15, fontweight = 'bold')\n",
    "plt.show()"
   ]
  },
  {
   "cell_type": "code",
   "execution_count": 43,
   "id": "51dddfd1-2959-4346-b298-c1bb9db55347",
   "metadata": {
    "tags": []
   },
   "outputs": [
    {
     "name": "stdout",
     "output_type": "stream",
     "text": [
      "Accuracy: 0.8960809063481313\n"
     ]
    }
   ],
   "source": [
    "accuracy = accuracy_score(y_test, y_predd)\n",
    "print(f'Accuracy: {accuracy}')"
   ]
  }
 ],
 "metadata": {
  "kernelspec": {
   "display_name": "Python 3 (ipykernel)",
   "language": "python",
   "name": "python3"
  },
  "language_info": {
   "codemirror_mode": {
    "name": "ipython",
    "version": 3
   },
   "file_extension": ".py",
   "mimetype": "text/x-python",
   "name": "python",
   "nbconvert_exporter": "python",
   "pygments_lexer": "ipython3",
   "version": "3.10.10"
  }
 },
 "nbformat": 4,
 "nbformat_minor": 5
}
