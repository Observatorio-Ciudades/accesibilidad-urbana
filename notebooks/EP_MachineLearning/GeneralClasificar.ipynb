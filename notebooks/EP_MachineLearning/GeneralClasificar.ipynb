{
 "cells": [
  {
   "cell_type": "code",
   "execution_count": 1,
   "id": "bef6b770-c818-4ead-ac20-ea54dd33c695",
   "metadata": {
    "tags": []
   },
   "outputs": [],
   "source": [
    "import warnings\n",
    "warnings.filterwarnings('ignore')\n",
    "import geopandas as gpd\n",
    "from geopandas.tools import overlay\n",
    "import matplotlib.pyplot as plt\n",
    "import os \n",
    "import sys\n",
    "module_path = os.path.abspath(os.path.join('../../'))\n",
    "if module_path not in sys.path:\n",
    "    sys.path.append(module_path)\n",
    "    import aup\n",
    "import pandas as pd\n",
    "import numpy as np\n",
    "import seaborn as sns\n",
    "from sklearn.model_selection import train_test_split\n",
    "from sklearn.metrics import accuracy_score, confusion_matrix\n",
    "from sklearn.linear_model import LogisticRegression\n",
    "from sklearn.preprocessing import StandardScaler\n",
    "from sklearn.naive_bayes import GaussianNB\n",
    "from sklearn.ensemble import RandomForestClassifier\n",
    "from sklearn.ensemble import AdaBoostClassifier\n",
    "from sklearn.model_selection import GridSearchCV, RandomizedSearchCV \n",
    "import xgboost as xgb\n",
    "import random\n",
    "from sklearn.model_selection import StratifiedKFold\n",
    "from sklearn.metrics import classification_report, mean_squared_error\n",
    "#import tensorflow as tf\n",
    "#from keras.models import Sequential\n",
    "#from keras.layers import Dense\n",
    "#from tensorflow.keras.utils import to_categorical"
   ]
  },
  {
   "cell_type": "markdown",
   "id": "6a5d586c-a722-4294-aa2a-c5b3bc1bd166",
   "metadata": {},
   "source": [
    "## Espacios Públicos GDL"
   ]
  },
  {
   "cell_type": "code",
   "execution_count": 2,
   "id": "e4a97d72-097e-4cb3-aff0-ae3a7426cb4c",
   "metadata": {
    "tags": []
   },
   "outputs": [],
   "source": [
    "schema = 'espacios_publicos'\n",
    "table = 'ep_amg'\n",
    "gdf_gdl = aup.gdf_from_db(table,schema)"
   ]
  },
  {
   "cell_type": "code",
   "execution_count": 10,
   "id": "daadce42-f298-494a-bd91-be6ff09ac1a6",
   "metadata": {
    "tags": []
   },
   "outputs": [
    {
     "data": {
      "text/plain": [
       "(8499, 4)"
      ]
     },
     "execution_count": 10,
     "metadata": {},
     "output_type": "execute_result"
    }
   ],
   "source": [
    "gdf_gdl.shape"
   ]
  },
  {
   "cell_type": "markdown",
   "id": "26bfcc14-3e4a-4914-aaa9-64ad81ef330e",
   "metadata": {},
   "source": [
    "## Espacios Públicos QRO"
   ]
  },
  {
   "cell_type": "code",
   "execution_count": 3,
   "id": "df4e414b-92c1-413a-b2d7-783c1bef4769",
   "metadata": {
    "tags": []
   },
   "outputs": [],
   "source": [
    "schema = 'espacios_publicos'\n",
    "table = 'ep_qro'\n",
    "gdf_qro = aup.gdf_from_db(table,schema)"
   ]
  },
  {
   "cell_type": "code",
   "execution_count": 11,
   "id": "84992b95-4cc5-433b-aac5-a3493db2139c",
   "metadata": {
    "tags": []
   },
   "outputs": [
    {
     "data": {
      "text/plain": [
       "(4814, 9)"
      ]
     },
     "execution_count": 11,
     "metadata": {},
     "output_type": "execute_result"
    }
   ],
   "source": [
    "gdf_qro.shape"
   ]
  },
  {
   "cell_type": "markdown",
   "id": "144e61b7-39b5-41a6-bb2d-6531536032f0",
   "metadata": {},
   "source": [
    "## Espacios Públicos CDMX"
   ]
  },
  {
   "cell_type": "code",
   "execution_count": 4,
   "id": "a836a631-c955-46bb-ae66-358ca29ae429",
   "metadata": {
    "tags": []
   },
   "outputs": [],
   "source": [
    "schema = 'espacios_publicos'\n",
    "table = 'ep_cdmx'\n",
    "gdf_cdmx = aup.gdf_from_db(table,schema)"
   ]
  },
  {
   "cell_type": "code",
   "execution_count": 12,
   "id": "81fea502-c841-4982-87df-5cb543a11588",
   "metadata": {
    "tags": []
   },
   "outputs": [
    {
     "data": {
      "text/plain": [
       "(11609, 13)"
      ]
     },
     "execution_count": 12,
     "metadata": {},
     "output_type": "execute_result"
    }
   ],
   "source": [
    "gdf_cdmx.shape"
   ]
  },
  {
   "cell_type": "markdown",
   "id": "2af8bf44-be26-43ac-972f-063f6bf11c9e",
   "metadata": {},
   "source": [
    "## Juntamos en un dataset"
   ]
  },
  {
   "cell_type": "code",
   "execution_count": 5,
   "id": "ffa003bc-73dc-4fe4-b78e-4856fc930e10",
   "metadata": {
    "tags": []
   },
   "outputs": [
    {
     "name": "stdout",
     "output_type": "stream",
     "text": [
      "CRS of gdf_gdl: EPSG:4326\n",
      "CRS of gdf_qro: EPSG:4326\n",
      "CRS of gdf_cdmx: EPSG:4326\n"
     ]
    }
   ],
   "source": [
    "gdf_gdl = gdf_gdl.set_crs(\"EPSG:4326\", allow_override=True)\n",
    "gdf_qro = gdf_qro.set_crs(\"EPSG:4326\", allow_override=True)\n",
    "gdf_cdmx = gdf_cdmx.set_crs(\"EPSG:4326\", allow_override=True)\n",
    "print(\"CRS of gdf_gdl:\", gdf_gdl.crs)\n",
    "print(\"CRS of gdf_qro:\", gdf_qro.crs)\n",
    "print(\"CRS of gdf_cdmx:\", gdf_cdmx.crs)"
   ]
  },
  {
   "cell_type": "code",
   "execution_count": 7,
   "id": "2002dc6c-2339-47d9-8034-efd4df6bf8b7",
   "metadata": {
    "tags": []
   },
   "outputs": [
    {
     "data": {
      "text/plain": [
       "0    POLYGON ((672507.02800 2272132.20130, 672520.1...\n",
       "1    POLYGON ((672520.12560 2272170.35300, 672507.0...\n",
       "2    POLYGON ((672494.32530 2272095.20510, 672480.3...\n",
       "3    POLYGON ((672480.36630 2272060.73140, 672494.3...\n",
       "4    POLYGON ((672468.71720 2272020.61270, 672456.8...\n",
       "Name: geometry, dtype: geometry"
      ]
     },
     "execution_count": 7,
     "metadata": {},
     "output_type": "execute_result"
    }
   ],
   "source": [
    "geodataframes = [gdf_gdl, gdf_qro, gdf_cdmx]\n",
    "gdf = pd.concat(geodataframes)\n",
    "gdf = gdf['geometry']\n",
    "gdf.head()"
   ]
  },
  {
   "cell_type": "code",
   "execution_count": 8,
   "id": "3cf12680-630f-47bb-90b4-ca745cfbb0ac",
   "metadata": {
    "tags": []
   },
   "outputs": [
    {
     "data": {
      "text/plain": [
       "(24922,)"
      ]
     },
     "execution_count": 8,
     "metadata": {},
     "output_type": "execute_result"
    }
   ],
   "source": [
    "gdf.shape"
   ]
  },
  {
   "cell_type": "markdown",
   "id": "18b2c229-a7a2-42c0-b6e2-129a883521fc",
   "metadata": {},
   "source": [
    "## Hexágonos 3 ciudades"
   ]
  },
  {
   "cell_type": "code",
   "execution_count": 9,
   "id": "d899749c-a8ef-4e8d-ae39-d086a93e99f6",
   "metadata": {
    "tags": []
   },
   "outputs": [
    {
     "data": {
      "text/html": [
       "<div>\n",
       "<style scoped>\n",
       "    .dataframe tbody tr th:only-of-type {\n",
       "        vertical-align: middle;\n",
       "    }\n",
       "\n",
       "    .dataframe tbody tr th {\n",
       "        vertical-align: top;\n",
       "    }\n",
       "\n",
       "    .dataframe thead th {\n",
       "        text-align: right;\n",
       "    }\n",
       "</style>\n",
       "<table border=\"1\" class=\"dataframe\">\n",
       "  <thead>\n",
       "    <tr style=\"text-align: right;\">\n",
       "      <th></th>\n",
       "      <th>hex_id</th>\n",
       "      <th>geometry</th>\n",
       "      <th>city</th>\n",
       "    </tr>\n",
       "  </thead>\n",
       "  <tbody>\n",
       "    <tr>\n",
       "      <th>0</th>\n",
       "      <td>8b49ab4b2758fff</td>\n",
       "      <td>POLYGON ((-103.39247 20.75090, -103.39230 20.7...</td>\n",
       "      <td>Guadalajara</td>\n",
       "    </tr>\n",
       "    <tr>\n",
       "      <th>1</th>\n",
       "      <td>8b49ab4b270cfff</td>\n",
       "      <td>POLYGON ((-103.39091 20.74832, -103.39074 20.7...</td>\n",
       "      <td>Guadalajara</td>\n",
       "    </tr>\n",
       "    <tr>\n",
       "      <th>2</th>\n",
       "      <td>8b49ab4b2792fff</td>\n",
       "      <td>POLYGON ((-103.38489 20.74954, -103.38472 20.7...</td>\n",
       "      <td>Guadalajara</td>\n",
       "    </tr>\n",
       "    <tr>\n",
       "      <th>3</th>\n",
       "      <td>8b49ab4b2722fff</td>\n",
       "      <td>POLYGON ((-103.39016 20.74679, -103.38998 20.7...</td>\n",
       "      <td>Guadalajara</td>\n",
       "    </tr>\n",
       "    <tr>\n",
       "      <th>4</th>\n",
       "      <td>8b49ab4b26f4fff</td>\n",
       "      <td>POLYGON ((-103.38863 20.75304, -103.38845 20.7...</td>\n",
       "      <td>Guadalajara</td>\n",
       "    </tr>\n",
       "  </tbody>\n",
       "</table>\n",
       "</div>"
      ],
      "text/plain": [
       "            hex_id                                           geometry  \\\n",
       "0  8b49ab4b2758fff  POLYGON ((-103.39247 20.75090, -103.39230 20.7...   \n",
       "1  8b49ab4b270cfff  POLYGON ((-103.39091 20.74832, -103.39074 20.7...   \n",
       "2  8b49ab4b2792fff  POLYGON ((-103.38489 20.74954, -103.38472 20.7...   \n",
       "3  8b49ab4b2722fff  POLYGON ((-103.39016 20.74679, -103.38998 20.7...   \n",
       "4  8b49ab4b26f4fff  POLYGON ((-103.38863 20.75304, -103.38845 20.7...   \n",
       "\n",
       "          city  \n",
       "0  Guadalajara  \n",
       "1  Guadalajara  \n",
       "2  Guadalajara  \n",
       "3  Guadalajara  \n",
       "4  Guadalajara  "
      ]
     },
     "execution_count": 9,
     "metadata": {},
     "output_type": "execute_result"
    }
   ],
   "source": [
    "hex_schema = \"raster_analysis\"\n",
    "hex_table = \"ndvi_analysis_hex\"\n",
    "c1 = 'Guadalajara'\n",
    "c2 ='ZMVM'\n",
    "c3 = 'Queretaro'\n",
    "n = '11'\n",
    "query = f'SELECT hex_id, geometry, city FROM {hex_schema}.{hex_table} WHERE \\\"city\\\" IN (\\'{c1}\\',\\'{c2}\\',\\'{c3}\\') AND \\\"res\\\" = {n}'\n",
    "hex_gdl = aup.gdf_from_query(query, geometry_col='geometry')\n",
    "#query = 'fSelect geometry, hex_id, city from raster_analysis.ndvi_analysis where city = guadalajara and res = 11'\n",
    "hex_gdl.head(5)"
   ]
  },
  {
   "cell_type": "code",
   "execution_count": 29,
   "id": "3f5f9a06-f55a-45d1-b6c5-7c416063f679",
   "metadata": {
    "tags": []
   },
   "outputs": [
    {
     "data": {
      "text/plain": [
       "(807141, 4)"
      ]
     },
     "execution_count": 29,
     "metadata": {},
     "output_type": "execute_result"
    }
   ],
   "source": [
    "hex_gdl.shape"
   ]
  },
  {
   "cell_type": "code",
   "execution_count": 24,
   "id": "5ef47c4e-217c-449d-b2f0-49eca659ef3d",
   "metadata": {
    "tags": []
   },
   "outputs": [
    {
     "data": {
      "text/plain": [
       "array(['Guadalajara', 'Queretaro', 'ZMVM'], dtype=object)"
      ]
     },
     "execution_count": 24,
     "metadata": {},
     "output_type": "execute_result"
    }
   ],
   "source": [
    "hex_gdl['city'].unique()"
   ]
  },
  {
   "cell_type": "code",
   "execution_count": 18,
   "id": "000fa599-c8e2-4c9a-92b8-b5ec9c6048fc",
   "metadata": {
    "tags": []
   },
   "outputs": [
    {
     "name": "stdout",
     "output_type": "stream",
     "text": [
      "Número de hexágonos Gdl: 407141 \n",
      "Número de hexágonos Cdmx: 300000 \n",
      "Número de hexágonos Qro: 100000\n"
     ]
    }
   ],
   "source": [
    "contador_gdll = np.sum(hex_gdl['city'] == 'Guadalajara')\n",
    "contador_cdmxx = np.sum(hex_gdl['city'] == 'ZMVM')\n",
    "contador_qroo = np.sum(hex_gdl['city'] == 'Queretaro')\n",
    "print(f'Número de hexágonos Gdl: {contador_gdll} \\nNúmero de hexágonos Cdmx: {contador_cdmxx} \\nNúmero de hexágonos Qro: {contador_qroo}')"
   ]
  },
  {
   "cell_type": "code",
   "execution_count": 10,
   "id": "8e72a749-e7dc-49d9-a869-c649f1a0464d",
   "metadata": {
    "tags": []
   },
   "outputs": [
    {
     "name": "stdout",
     "output_type": "stream",
     "text": [
      "CRS of gdf_gdl: EPSG:4326\n"
     ]
    }
   ],
   "source": [
    "hex_gdl = hex_gdl.set_crs(\"EPSG:4326\", allow_override=True)\n",
    "print(\"CRS of gdf_gdl:\", gdf_gdl.crs)"
   ]
  },
  {
   "cell_type": "markdown",
   "id": "c9cdcbf7-4ef2-415f-a517-1f1a6ff3e990",
   "metadata": {},
   "source": [
    "Como tenemos 800,000 hexágonos tenemos que reducir la dimensión a 400,000 porque mi compu no puede con tantos datos. Vamos a reducir la dimensión de las 3 ciudades a la mitad. Inicialmente, tenemos que Guadalajara tiene 400,000 hexágonos. Cdmx tiene 300,000 hexágonos y Querétaro tiene 100,000 hexágonos. Pero después de reducir las dimensiones serán 200,000; 150,000 y 50,000 respectivamente."
   ]
  },
  {
   "cell_type": "code",
   "execution_count": 19,
   "id": "0fd04df3-c9fc-4d75-90e1-93289546febc",
   "metadata": {
    "tags": []
   },
   "outputs": [
    {
     "data": {
      "text/html": [
       "<div>\n",
       "<style scoped>\n",
       "    .dataframe tbody tr th:only-of-type {\n",
       "        vertical-align: middle;\n",
       "    }\n",
       "\n",
       "    .dataframe tbody tr th {\n",
       "        vertical-align: top;\n",
       "    }\n",
       "\n",
       "    .dataframe thead th {\n",
       "        text-align: right;\n",
       "    }\n",
       "</style>\n",
       "<table border=\"1\" class=\"dataframe\">\n",
       "  <thead>\n",
       "    <tr style=\"text-align: right;\">\n",
       "      <th></th>\n",
       "      <th>hex_id</th>\n",
       "      <th>geometry</th>\n",
       "      <th>city</th>\n",
       "    </tr>\n",
       "  </thead>\n",
       "  <tbody>\n",
       "    <tr>\n",
       "      <th>0</th>\n",
       "      <td>8b49aa2f0943fff</td>\n",
       "      <td>POLYGON ((-103.29497 20.46059, -103.29479 20.4...</td>\n",
       "      <td>Guadalajara</td>\n",
       "    </tr>\n",
       "    <tr>\n",
       "      <th>1</th>\n",
       "      <td>8b498c94cd48fff</td>\n",
       "      <td>POLYGON ((-103.35049 20.70770, -103.35032 20.7...</td>\n",
       "      <td>Guadalajara</td>\n",
       "    </tr>\n",
       "    <tr>\n",
       "      <th>2</th>\n",
       "      <td>8b49ab594ae1fff</td>\n",
       "      <td>POLYGON ((-103.41820 20.60143, -103.41803 20.6...</td>\n",
       "      <td>Guadalajara</td>\n",
       "    </tr>\n",
       "    <tr>\n",
       "      <th>3</th>\n",
       "      <td>8b49ab5b2511fff</td>\n",
       "      <td>POLYGON ((-103.40008 20.57395, -103.39991 20.5...</td>\n",
       "      <td>Guadalajara</td>\n",
       "    </tr>\n",
       "    <tr>\n",
       "      <th>4</th>\n",
       "      <td>8b498c955971fff</td>\n",
       "      <td>POLYGON ((-103.27315 20.67382, -103.27297 20.6...</td>\n",
       "      <td>Guadalajara</td>\n",
       "    </tr>\n",
       "  </tbody>\n",
       "</table>\n",
       "</div>"
      ],
      "text/plain": [
       "            hex_id                                           geometry  \\\n",
       "0  8b49aa2f0943fff  POLYGON ((-103.29497 20.46059, -103.29479 20.4...   \n",
       "1  8b498c94cd48fff  POLYGON ((-103.35049 20.70770, -103.35032 20.7...   \n",
       "2  8b49ab594ae1fff  POLYGON ((-103.41820 20.60143, -103.41803 20.6...   \n",
       "3  8b49ab5b2511fff  POLYGON ((-103.40008 20.57395, -103.39991 20.5...   \n",
       "4  8b498c955971fff  POLYGON ((-103.27315 20.67382, -103.27297 20.6...   \n",
       "\n",
       "          city  \n",
       "0  Guadalajara  \n",
       "1  Guadalajara  \n",
       "2  Guadalajara  \n",
       "3  Guadalajara  \n",
       "4  Guadalajara  "
      ]
     },
     "execution_count": 19,
     "metadata": {},
     "output_type": "execute_result"
    }
   ],
   "source": [
    "gdl_samples = contador_gdll/2\n",
    "cdmx_samples = contador_cdmxx/2\n",
    "qro_samples = contador_qroo/2\n",
    "\n",
    "# Randomly sample 200,000 hexagons of Guadalajra\n",
    "sample_with_Guadalajara = hex_gdl[hex_gdl['city'] == 'Guadalajara'].sample(n=gdl_samples, random_state=42)\n",
    "\n",
    "# Randomly sample 150,000 hexagons of Cdmx\n",
    "sample_with_Cdmx = hex_gdl[hex_gdl['city'] == 'ZMVM'].sample(n=cdmx_samples, random_state=42)\n",
    "\n",
    "# Randomly sample 50,000 hexagons of Queretaro\n",
    "sample_with_Queretaro = hex_gdl[hex_gdl['city'] == 'Queretaro'].sample(n=qro_samples, random_state=42)\n",
    "\n",
    "# Concatenate the two samples to get the final subsample\n",
    "hex_gdf = pd.concat([sample_with_Guadalajara, sample_with_Cdmx, sample_with_Queretaro])\n",
    "hex_gdf.reset_index(drop = True, inplace = True)\n",
    "hex_gdf.head()"
   ]
  },
  {
   "cell_type": "code",
   "execution_count": 20,
   "id": "9b3362ab-8474-49c8-af21-ddc46e78c8ab",
   "metadata": {
    "tags": []
   },
   "outputs": [
    {
     "name": "stdout",
     "output_type": "stream",
     "text": [
      "Número de hexágonos Gdl: 200000 \n",
      "Número de hexágonos Cdmx: 150000 \n",
      "Número de hexágonos Qro: 50000\n"
     ]
    }
   ],
   "source": [
    "contador_gdl = np.sum(hex_gdf['city'] == 'Guadalajara')\n",
    "contador_cdmx = np.sum(hex_gdf['city'] == 'ZMVM')\n",
    "contador_qro = np.sum(hex_gdf['city'] == 'Queretaro')\n",
    "print(f'Número de hexágonos Gdl: {contador_gdl} \\nNúmero de hexágonos Cdmx: {contador_cdmx} \\nNúmero de hexágonos Qro: {contador_qro}')"
   ]
  },
  {
   "cell_type": "markdown",
   "id": "c347acec-fbbf-4415-b544-d5b949c8b166",
   "metadata": {},
   "source": [
    "## Dummy Variables\n",
    "1 = Hexágonos que cuentan con espacios públicos\n",
    "\n",
    "0 = Hexágonos que no cuentan con espacios públicos"
   ]
  },
  {
   "cell_type": "code",
   "execution_count": 21,
   "id": "8f5585a3-b644-4d37-989e-5ef4f2223ab8",
   "metadata": {
    "tags": []
   },
   "outputs": [
    {
     "data": {
      "text/html": [
       "<div>\n",
       "<style scoped>\n",
       "    .dataframe tbody tr th:only-of-type {\n",
       "        vertical-align: middle;\n",
       "    }\n",
       "\n",
       "    .dataframe tbody tr th {\n",
       "        vertical-align: top;\n",
       "    }\n",
       "\n",
       "    .dataframe thead th {\n",
       "        text-align: right;\n",
       "    }\n",
       "</style>\n",
       "<table border=\"1\" class=\"dataframe\">\n",
       "  <thead>\n",
       "    <tr style=\"text-align: right;\">\n",
       "      <th></th>\n",
       "      <th>hex_id</th>\n",
       "      <th>geometry</th>\n",
       "      <th>city</th>\n",
       "      <th>EspPublico</th>\n",
       "    </tr>\n",
       "  </thead>\n",
       "  <tbody>\n",
       "    <tr>\n",
       "      <th>0</th>\n",
       "      <td>8b49aa2f0943fff</td>\n",
       "      <td>POLYGON ((-103.29497 20.46059, -103.29479 20.4...</td>\n",
       "      <td>Guadalajara</td>\n",
       "      <td>0</td>\n",
       "    </tr>\n",
       "    <tr>\n",
       "      <th>1</th>\n",
       "      <td>8b498c94cd48fff</td>\n",
       "      <td>POLYGON ((-103.35049 20.70770, -103.35032 20.7...</td>\n",
       "      <td>Guadalajara</td>\n",
       "      <td>0</td>\n",
       "    </tr>\n",
       "    <tr>\n",
       "      <th>2</th>\n",
       "      <td>8b49ab594ae1fff</td>\n",
       "      <td>POLYGON ((-103.41820 20.60143, -103.41803 20.6...</td>\n",
       "      <td>Guadalajara</td>\n",
       "      <td>0</td>\n",
       "    </tr>\n",
       "    <tr>\n",
       "      <th>3</th>\n",
       "      <td>8b49ab5b2511fff</td>\n",
       "      <td>POLYGON ((-103.40008 20.57395, -103.39991 20.5...</td>\n",
       "      <td>Guadalajara</td>\n",
       "      <td>0</td>\n",
       "    </tr>\n",
       "    <tr>\n",
       "      <th>4</th>\n",
       "      <td>8b498c955971fff</td>\n",
       "      <td>POLYGON ((-103.27315 20.67382, -103.27297 20.6...</td>\n",
       "      <td>Guadalajara</td>\n",
       "      <td>0</td>\n",
       "    </tr>\n",
       "  </tbody>\n",
       "</table>\n",
       "</div>"
      ],
      "text/plain": [
       "            hex_id                                           geometry  \\\n",
       "0  8b49aa2f0943fff  POLYGON ((-103.29497 20.46059, -103.29479 20.4...   \n",
       "1  8b498c94cd48fff  POLYGON ((-103.35049 20.70770, -103.35032 20.7...   \n",
       "2  8b49ab594ae1fff  POLYGON ((-103.41820 20.60143, -103.41803 20.6...   \n",
       "3  8b49ab5b2511fff  POLYGON ((-103.40008 20.57395, -103.39991 20.5...   \n",
       "4  8b498c955971fff  POLYGON ((-103.27315 20.67382, -103.27297 20.6...   \n",
       "\n",
       "          city  EspPublico  \n",
       "0  Guadalajara           0  \n",
       "1  Guadalajara           0  \n",
       "2  Guadalajara           0  \n",
       "3  Guadalajara           0  \n",
       "4  Guadalajara           0  "
      ]
     },
     "execution_count": 21,
     "metadata": {},
     "output_type": "execute_result"
    }
   ],
   "source": [
    "gdf_sindex = gdf.sindex\n",
    "\n",
    "# Create a Series of boolean values indicating which hexagons intersect with public spaces\n",
    "intersects_public_spaces = hex_gdf['geometry'].apply(lambda geom: any(gdf_sindex.query(geom)))\n",
    "\n",
    "hex_gdf['EspPublico'] = intersects_public_spaces.astype(int)\n",
    "hex_gdf.head()"
   ]
  },
  {
   "cell_type": "code",
   "execution_count": 22,
   "id": "ea63f68e-8d36-43f8-92cd-6a01c15e00b8",
   "metadata": {
    "tags": []
   },
   "outputs": [
    {
     "name": "stdout",
     "output_type": "stream",
     "text": [
      "Números de hexagonos sin Espacios Públicos: 353125 \n",
      "Número de Hexágonos con Espacios Públicos: 46875\n",
      "Número total de Hexágonos: 400000\n"
     ]
    }
   ],
   "source": [
    "contador_ceros = np.sum(hex_gdf['EspPublico'] == 0)\n",
    "contador_uno = np.sum(hex_gdf['EspPublico'])\n",
    "print(f'Números de hexagonos sin Espacios Públicos: {contador_ceros} \\nNúmero de Hexágonos con Espacios Públicos: {contador_uno}\\nNúmero total de Hexágonos: {contador_ceros+contador_uno}')"
   ]
  },
  {
   "cell_type": "markdown",
   "id": "c3b45893-f0bb-40ae-8ebd-be922b141c4b",
   "metadata": {},
   "source": [
    "## Hexágonos con info de humedad, vegetación y temperatura"
   ]
  },
  {
   "cell_type": "markdown",
   "id": "c0329ea8-64c4-4590-9eb5-cda13ef58fec",
   "metadata": {},
   "source": [
    "select {ndmi}.hex_id, {ndmi}.geometry, {ndmi}.city, {ndmi}.res,\n",
    "\n",
    "ndvi_mean, ndvi_std, ndvi_median, ndvi_max, ndvi_min, ndvi_diff, ndvi_tend,\n",
    "\n",
    "ndmi_mean, ndmi_median, ndmi_diff\n",
    "\n",
    "from raster_analysis.ndmi_analysis_hex ndmi\n",
    "\n",
    "inner join raster_analysis.ndvi_analysis_hex ndvi\n",
    "\n",
    "on ndmi.hex_id = ndvi.hex_id \n",
    "\n",
    "where ndmi.city  in ('Queretaro','Guadalajara','ZMVM') and ndmi.res = 11"
   ]
  },
  {
   "cell_type": "code",
   "execution_count": 22,
   "id": "df8d2024-3d90-467c-8185-21a7ca5e7001",
   "metadata": {
    "tags": []
   },
   "outputs": [
    {
     "name": "stderr",
     "output_type": "stream",
     "text": [
      "\n",
      "KeyboardInterrupt\n",
      "\n",
      "\n",
      "KeyboardInterrupt\n",
      "\n"
     ]
    }
   ],
   "source": [
    "hex_schema = \"raster_analysis\"\n",
    "hex_tablee = \"ndvi_analysis_hex\"\n",
    "hex_table = \"ndmi_analysis_hex\"\n",
    "ndmi = \"ndmi\"\n",
    "ndvi = \"ndvi\"\n",
    "hex_id = \"hex_id\"\n",
    "c1 = 'Guadalajara'\n",
    "c2 ='ZMVM'\n",
    "c3 = 'Queretaro'\n",
    "n = '11'\n",
    "query = f'SELECT {ndmi}.hex_id, {ndmi}.geometry, {ndmi}.city, {ndmi}.res, ndvi_mean, ndvi_std, ndvi_median, ndvi_max, ndvi_min, ndvi_diff, ndvi_tend,ndmi_mean, ndmi_median, ndmi_diff FROM {hex_schema}.{hex_table} {ndmi} INNER JOIN {hex_schema}.{hex_tablee} {ndvi} ON {ndmi}.{hex_id} = {ndvi}.{hex_id} WHERE {ndmi}.\\\"city\\\" IN (\\'{c1}\\',\\'{c2}\\',\\'{c3}\\') AND {ndmi}.\\\"res\\\" = {n}'\n",
    "intt_gdl = aup.gdf_from_query(query, geometry_col='geometry')\n",
    "intt_gdl.head(10)"
   ]
  },
  {
   "cell_type": "code",
   "execution_count": 33,
   "id": "84143985-bd5c-4c93-a38b-4b7f62f52df6",
   "metadata": {
    "tags": []
   },
   "outputs": [
    {
     "data": {
      "text/plain": [
       "(799837, 14)"
      ]
     },
     "execution_count": 33,
     "metadata": {},
     "output_type": "execute_result"
    }
   ],
   "source": [
    "intt_gdl.shape"
   ]
  },
  {
   "cell_type": "code",
   "execution_count": 34,
   "id": "e0ff9c5b-babb-4b93-9690-ba5e6c8f7d7d",
   "metadata": {
    "tags": []
   },
   "outputs": [
    {
     "data": {
      "text/plain": [
       "array(['Guadalajara', 'Queretaro', 'ZMVM'], dtype=object)"
      ]
     },
     "execution_count": 34,
     "metadata": {},
     "output_type": "execute_result"
    }
   ],
   "source": [
    "intt_gdl['city'].unique()"
   ]
  },
  {
   "cell_type": "code",
   "execution_count": null,
   "id": "06a6ca40-8e7c-4448-9b4b-79865367609b",
   "metadata": {},
   "outputs": [],
   "source": [
    "intt_gdll = np.sum(intt_gdl['city'] == 'Guadalajara')\n",
    "intt_cdmxx = np.sum(intt_gdl['city'] == 'ZMVM')\n",
    "intt_qroo = np.sum(intt_gdl['city'] == 'Queretaro')\n",
    "print(f'Número de hexágonos Gdl: {intt_gdll} \\nNúmero de hexágonos Cdmx: {intt_cdmxx} \\nNúmero de hexágonos Qro: {intt_qroo}')"
   ]
  },
  {
   "cell_type": "markdown",
   "id": "25d2c1c5-c75a-448b-8bac-17b290bce4b5",
   "metadata": {},
   "source": [
    "Como tenemos 800,000 hexágonos tenemos que reducir la dimensión a 400,000 porque mi compu no puede con tantos datos. Vamos a reducir la dimensión de las 3 ciudades a la mitad. Inicialmente, tenemos que Guadalajara tiene 400,000 hexágonos. Cdmx tiene 300,000 hexágonos y Querétaro tiene 100,000 hexágonos. Pero después de reducir las dimensiones serán 200,000; 150,000 y 50,000 respectivamente."
   ]
  },
  {
   "cell_type": "code",
   "execution_count": null,
   "id": "bc977eb4-9e4b-430e-a41d-49725f20b863",
   "metadata": {},
   "outputs": [],
   "source": [
    "gdl_samples_int = intt_gdll/2\n",
    "cdmx_samples_int = intt_cdmxx/2\n",
    "qro_samples_int = intt_qroo/2\n",
    "\n",
    "# Randomly sample 200,000 hexagons of Guadalajra\n",
    "sample_with_Guadalajara = intt_gdl[intt_gdl['city'] == 'Guadalajara'].sample(n=gdl_samples_int, random_state=42)\n",
    "\n",
    "# Randomly sample 150,000 hexagons of Cdmx\n",
    "sample_with_Cdmx = intt_gdl[intt_gdl['city'] == 'ZMVM'].sample(n=cdmx_samples_int, random_state=42)\n",
    "\n",
    "# Randomly sample 50,000 hexagons of Queretaro\n",
    "sample_with_Queretaro = intt_gdl[intt_gdl['city'] == 'Queretaro'].sample(n=qro_samples_int, random_state=42)\n",
    "\n",
    "# Concatenate the two samples to get the final subsample\n",
    "int_gdf = pd.concat([sample_with_Guadalajara, sample_with_Cdmx, sample_with_Queretaro])\n",
    "int_gdf.reset_index(drop = True, inplace = True)\n",
    "int_gdf.head()"
   ]
  },
  {
   "cell_type": "code",
   "execution_count": null,
   "id": "f606b62f-b38b-4019-80da-f9cf24b7fbea",
   "metadata": {},
   "outputs": [],
   "source": [
    "int_gdf.shape"
   ]
  },
  {
   "cell_type": "markdown",
   "id": "ae4f4dc4-201d-4f8b-9741-a82ae414b8a7",
   "metadata": {},
   "source": [
    "Ahora que ya tenemos dimensiones más pequeñas ya podemos hacer la intersección."
   ]
  },
  {
   "cell_type": "markdown",
   "id": "5d14c446-c89e-49c6-816b-93459ff272ec",
   "metadata": {},
   "source": [
    "## Intersección"
   ]
  },
  {
   "cell_type": "code",
   "execution_count": 13,
   "id": "f01fdfe4-a3b7-40fc-8db9-208882f82618",
   "metadata": {
    "tags": []
   },
   "outputs": [],
   "source": [
    "int_gdf = int_gdf.set_crs(\"EPSG:4326\")\n",
    "hex_gdf = hex_gdf.set_crs(\"EPSG:4326\")"
   ]
  },
  {
   "cell_type": "code",
   "execution_count": null,
   "id": "4749966e-d61b-4297-b690-527a0ac62781",
   "metadata": {
    "tags": []
   },
   "outputs": [],
   "source": [
    "inter = gpd.sjoin(hex_gdf, int_gdf, op='intersects')"
   ]
  },
  {
   "cell_type": "code",
   "execution_count": null,
   "id": "7ef06de8-8747-4341-b9fc-cdce908452d2",
   "metadata": {
    "tags": []
   },
   "outputs": [],
   "source": [
    "inter.drop(columns=['index_right','city_right','res','hex_id_right'], inplace=True)\n",
    "inter.rename(columns={\"hex_id_left\": \"hex_id\",\"city_left\": \"city\"}, inplace=True)\n",
    "inter.head()"
   ]
  },
  {
   "cell_type": "code",
   "execution_count": null,
   "id": "5b3fa1be-9caa-48c1-b68c-bd6ab21649ac",
   "metadata": {},
   "outputs": [],
   "source": [
    "pd.isna(inter).sum()"
   ]
  }
 ],
 "metadata": {
  "kernelspec": {
   "display_name": "Python 3 (ipykernel)",
   "language": "python",
   "name": "python3"
  },
  "language_info": {
   "codemirror_mode": {
    "name": "ipython",
    "version": 3
   },
   "file_extension": ".py",
   "mimetype": "text/x-python",
   "name": "python",
   "nbconvert_exporter": "python",
   "pygments_lexer": "ipython3",
   "version": "3.10.10"
  }
 },
 "nbformat": 4,
 "nbformat_minor": 5
}
