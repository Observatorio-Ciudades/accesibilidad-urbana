{
 "cells": [
  {
   "cell_type": "code",
   "execution_count": 2,
   "id": "bef6b770-c818-4ead-ac20-ea54dd33c695",
   "metadata": {
    "tags": []
   },
   "outputs": [],
   "source": [
    "import warnings\n",
    "warnings.filterwarnings('ignore')\n",
    "import geopandas as gpd\n",
    "from geopandas.tools import overlay\n",
    "import matplotlib.pyplot as plt\n",
    "import os \n",
    "import sys\n",
    "module_path = os.path.abspath(os.path.join('../../'))\n",
    "if module_path not in sys.path:\n",
    "    sys.path.append(module_path)\n",
    "    import aup\n",
    "import pandas as pd\n",
    "import numpy as np\n",
    "import seaborn as sns\n",
    "from sklearn.model_selection import train_test_split\n",
    "from sklearn.metrics import accuracy_score, confusion_matrix\n",
    "from sklearn.linear_model import LogisticRegression\n",
    "from sklearn.preprocessing import StandardScaler\n",
    "from sklearn.naive_bayes import GaussianNB\n",
    "from sklearn.ensemble import RandomForestClassifier\n",
    "from sklearn.ensemble import AdaBoostClassifier\n",
    "from sklearn.model_selection import GridSearchCV, RandomizedSearchCV \n",
    "import xgboost as xgb\n",
    "import random\n",
    "from sklearn.model_selection import StratifiedKFold\n",
    "from sklearn.metrics import classification_report, mean_squared_error\n",
    "#import tensorflow as tf\n",
    "#from keras.models import Sequential\n",
    "#from keras.layers import Dense\n",
    "#from tensorflow.keras.utils import to_categorical"
   ]
  },
  {
   "cell_type": "markdown",
   "id": "6a5d586c-a722-4294-aa2a-c5b3bc1bd166",
   "metadata": {},
   "source": [
    "## Espacios Públicos GDL"
   ]
  },
  {
   "cell_type": "code",
   "execution_count": 3,
   "id": "e4a97d72-097e-4cb3-aff0-ae3a7426cb4c",
   "metadata": {
    "tags": []
   },
   "outputs": [],
   "source": [
    "schema = 'espacios_publicos'\n",
    "table = 'ep_amg'\n",
    "gdf_gdl = aup.gdf_from_db(table,schema)"
   ]
  },
  {
   "cell_type": "markdown",
   "id": "26bfcc14-3e4a-4914-aaa9-64ad81ef330e",
   "metadata": {},
   "source": [
    "## Espacios Públicos QRO"
   ]
  },
  {
   "cell_type": "code",
   "execution_count": 4,
   "id": "df4e414b-92c1-413a-b2d7-783c1bef4769",
   "metadata": {
    "tags": []
   },
   "outputs": [],
   "source": [
    "schema = 'espacios_publicos'\n",
    "table = 'ep_qro'\n",
    "gdf_qro = aup.gdf_from_db(table,schema)"
   ]
  },
  {
   "cell_type": "markdown",
   "id": "144e61b7-39b5-41a6-bb2d-6531536032f0",
   "metadata": {},
   "source": [
    "## Espacios Públicos CDMX"
   ]
  },
  {
   "cell_type": "code",
   "execution_count": 5,
   "id": "a836a631-c955-46bb-ae66-358ca29ae429",
   "metadata": {
    "tags": []
   },
   "outputs": [],
   "source": [
    "schema = 'espacios_publicos'\n",
    "table = 'ep_cdmx'\n",
    "gdf_cdmx = aup.gdf_from_db(table,schema)"
   ]
  },
  {
   "cell_type": "markdown",
   "id": "2af8bf44-be26-43ac-972f-063f6bf11c9e",
   "metadata": {},
   "source": [
    "## Juntamos en un dataset"
   ]
  },
  {
   "cell_type": "code",
   "execution_count": 10,
   "id": "ffa003bc-73dc-4fe4-b78e-4856fc930e10",
   "metadata": {
    "tags": []
   },
   "outputs": [
    {
     "name": "stdout",
     "output_type": "stream",
     "text": [
      "CRS of gdf_gdl: EPSG:4326\n",
      "CRS of gdf_qro: EPSG:4326\n",
      "CRS of gdf_cdmx: EPSG:4326\n"
     ]
    }
   ],
   "source": [
    "gdf_gdl = gdf_gdl.set_crs(\"EPSG:4326\", allow_override=True)\n",
    "gdf_qro = gdf_qro.set_crs(\"EPSG:4326\", allow_override=True)\n",
    "gdf_cdmx = gdf_cdmx.set_crs(\"EPSG:4326\", allow_override=True)\n",
    "print(\"CRS of gdf_gdl:\", gdf_gdl.crs)\n",
    "print(\"CRS of gdf_qro:\", gdf_qro.crs)\n",
    "print(\"CRS of gdf_cdmx:\", gdf_cdmx.crs)"
   ]
  },
  {
   "cell_type": "code",
   "execution_count": 11,
   "id": "2002dc6c-2339-47d9-8034-efd4df6bf8b7",
   "metadata": {
    "tags": []
   },
   "outputs": [
    {
     "data": {
      "text/html": [
       "<div>\n",
       "<style scoped>\n",
       "    .dataframe tbody tr th:only-of-type {\n",
       "        vertical-align: middle;\n",
       "    }\n",
       "\n",
       "    .dataframe tbody tr th {\n",
       "        vertical-align: top;\n",
       "    }\n",
       "\n",
       "    .dataframe thead th {\n",
       "        text-align: right;\n",
       "    }\n",
       "</style>\n",
       "<table border=\"1\" class=\"dataframe\">\n",
       "  <thead>\n",
       "    <tr style=\"text-align: right;\">\n",
       "      <th></th>\n",
       "      <th>Fuente</th>\n",
       "      <th>Tipo</th>\n",
       "      <th>Uso</th>\n",
       "      <th>geometry</th>\n",
       "      <th>geografico</th>\n",
       "      <th>nombre</th>\n",
       "      <th>tipo</th>\n",
       "      <th>cveserv</th>\n",
       "      <th>cvegeo</th>\n",
       "      <th>geometria</th>\n",
       "      <th>...</th>\n",
       "      <th>geo_shape</th>\n",
       "      <th>subcat_sed</th>\n",
       "      <th>subcve_sed</th>\n",
       "      <th>gid</th>\n",
       "      <th>cve_delg</th>\n",
       "      <th>delegacion</th>\n",
       "      <th>categoria</th>\n",
       "      <th>superficie</th>\n",
       "      <th>perimetro</th>\n",
       "      <th>cve_sedema</th>\n",
       "    </tr>\n",
       "  </thead>\n",
       "  <tbody>\n",
       "    <tr>\n",
       "      <th>0</th>\n",
       "      <td>OpenStreetMap, [Online]. Disponible: http://ww...</td>\n",
       "      <td>Parque</td>\n",
       "      <td>Uso recreativo</td>\n",
       "      <td>POLYGON ((672507.02800 2272132.20130, 672520.1...</td>\n",
       "      <td>NaN</td>\n",
       "      <td>NaN</td>\n",
       "      <td>NaN</td>\n",
       "      <td>NaN</td>\n",
       "      <td>NaN</td>\n",
       "      <td>NaN</td>\n",
       "      <td>...</td>\n",
       "      <td>NaN</td>\n",
       "      <td>NaN</td>\n",
       "      <td>NaN</td>\n",
       "      <td>NaN</td>\n",
       "      <td>NaN</td>\n",
       "      <td>NaN</td>\n",
       "      <td>NaN</td>\n",
       "      <td>NaN</td>\n",
       "      <td>NaN</td>\n",
       "      <td>NaN</td>\n",
       "    </tr>\n",
       "    <tr>\n",
       "      <th>1</th>\n",
       "      <td>OpenStreetMap, [Online]. Disponible: http://ww...</td>\n",
       "      <td>Parque</td>\n",
       "      <td>Uso recreativo</td>\n",
       "      <td>POLYGON ((672520.12560 2272170.35300, 672507.0...</td>\n",
       "      <td>NaN</td>\n",
       "      <td>NaN</td>\n",
       "      <td>NaN</td>\n",
       "      <td>NaN</td>\n",
       "      <td>NaN</td>\n",
       "      <td>NaN</td>\n",
       "      <td>...</td>\n",
       "      <td>NaN</td>\n",
       "      <td>NaN</td>\n",
       "      <td>NaN</td>\n",
       "      <td>NaN</td>\n",
       "      <td>NaN</td>\n",
       "      <td>NaN</td>\n",
       "      <td>NaN</td>\n",
       "      <td>NaN</td>\n",
       "      <td>NaN</td>\n",
       "      <td>NaN</td>\n",
       "    </tr>\n",
       "    <tr>\n",
       "      <th>2</th>\n",
       "      <td>OpenStreetMap, [Online]. Disponible: http://ww...</td>\n",
       "      <td>Parque</td>\n",
       "      <td>Uso recreativo</td>\n",
       "      <td>POLYGON ((672494.32530 2272095.20510, 672480.3...</td>\n",
       "      <td>NaN</td>\n",
       "      <td>NaN</td>\n",
       "      <td>NaN</td>\n",
       "      <td>NaN</td>\n",
       "      <td>NaN</td>\n",
       "      <td>NaN</td>\n",
       "      <td>...</td>\n",
       "      <td>NaN</td>\n",
       "      <td>NaN</td>\n",
       "      <td>NaN</td>\n",
       "      <td>NaN</td>\n",
       "      <td>NaN</td>\n",
       "      <td>NaN</td>\n",
       "      <td>NaN</td>\n",
       "      <td>NaN</td>\n",
       "      <td>NaN</td>\n",
       "      <td>NaN</td>\n",
       "    </tr>\n",
       "    <tr>\n",
       "      <th>3</th>\n",
       "      <td>OpenStreetMap, [Online]. Disponible: http://ww...</td>\n",
       "      <td>Parque</td>\n",
       "      <td>Uso recreativo</td>\n",
       "      <td>POLYGON ((672480.36630 2272060.73140, 672494.3...</td>\n",
       "      <td>NaN</td>\n",
       "      <td>NaN</td>\n",
       "      <td>NaN</td>\n",
       "      <td>NaN</td>\n",
       "      <td>NaN</td>\n",
       "      <td>NaN</td>\n",
       "      <td>...</td>\n",
       "      <td>NaN</td>\n",
       "      <td>NaN</td>\n",
       "      <td>NaN</td>\n",
       "      <td>NaN</td>\n",
       "      <td>NaN</td>\n",
       "      <td>NaN</td>\n",
       "      <td>NaN</td>\n",
       "      <td>NaN</td>\n",
       "      <td>NaN</td>\n",
       "      <td>NaN</td>\n",
       "    </tr>\n",
       "    <tr>\n",
       "      <th>4</th>\n",
       "      <td>OpenStreetMap, [Online]. Disponible: http://ww...</td>\n",
       "      <td>Parque</td>\n",
       "      <td>Uso recreativo</td>\n",
       "      <td>POLYGON ((672468.71720 2272020.61270, 672456.8...</td>\n",
       "      <td>NaN</td>\n",
       "      <td>NaN</td>\n",
       "      <td>NaN</td>\n",
       "      <td>NaN</td>\n",
       "      <td>NaN</td>\n",
       "      <td>NaN</td>\n",
       "      <td>...</td>\n",
       "      <td>NaN</td>\n",
       "      <td>NaN</td>\n",
       "      <td>NaN</td>\n",
       "      <td>NaN</td>\n",
       "      <td>NaN</td>\n",
       "      <td>NaN</td>\n",
       "      <td>NaN</td>\n",
       "      <td>NaN</td>\n",
       "      <td>NaN</td>\n",
       "      <td>NaN</td>\n",
       "    </tr>\n",
       "  </tbody>\n",
       "</table>\n",
       "<p>5 rows × 24 columns</p>\n",
       "</div>"
      ],
      "text/plain": [
       "                                              Fuente    Tipo             Uso  \\\n",
       "0  OpenStreetMap, [Online]. Disponible: http://ww...  Parque  Uso recreativo   \n",
       "1  OpenStreetMap, [Online]. Disponible: http://ww...  Parque  Uso recreativo   \n",
       "2  OpenStreetMap, [Online]. Disponible: http://ww...  Parque  Uso recreativo   \n",
       "3  OpenStreetMap, [Online]. Disponible: http://ww...  Parque  Uso recreativo   \n",
       "4  OpenStreetMap, [Online]. Disponible: http://ww...  Parque  Uso recreativo   \n",
       "\n",
       "                                            geometry geografico nombre tipo  \\\n",
       "0  POLYGON ((672507.02800 2272132.20130, 672520.1...        NaN    NaN  NaN   \n",
       "1  POLYGON ((672520.12560 2272170.35300, 672507.0...        NaN    NaN  NaN   \n",
       "2  POLYGON ((672494.32530 2272095.20510, 672480.3...        NaN    NaN  NaN   \n",
       "3  POLYGON ((672480.36630 2272060.73140, 672494.3...        NaN    NaN  NaN   \n",
       "4  POLYGON ((672468.71720 2272020.61270, 672456.8...        NaN    NaN  NaN   \n",
       "\n",
       "  cveserv cvegeo geometria  ... geo_shape subcat_sed subcve_sed  gid cve_delg  \\\n",
       "0     NaN    NaN       NaN  ...       NaN        NaN        NaN  NaN      NaN   \n",
       "1     NaN    NaN       NaN  ...       NaN        NaN        NaN  NaN      NaN   \n",
       "2     NaN    NaN       NaN  ...       NaN        NaN        NaN  NaN      NaN   \n",
       "3     NaN    NaN       NaN  ...       NaN        NaN        NaN  NaN      NaN   \n",
       "4     NaN    NaN       NaN  ...       NaN        NaN        NaN  NaN      NaN   \n",
       "\n",
       "  delegacion categoria superficie perimetro cve_sedema  \n",
       "0        NaN       NaN        NaN       NaN        NaN  \n",
       "1        NaN       NaN        NaN       NaN        NaN  \n",
       "2        NaN       NaN        NaN       NaN        NaN  \n",
       "3        NaN       NaN        NaN       NaN        NaN  \n",
       "4        NaN       NaN        NaN       NaN        NaN  \n",
       "\n",
       "[5 rows x 24 columns]"
      ]
     },
     "execution_count": 11,
     "metadata": {},
     "output_type": "execute_result"
    }
   ],
   "source": [
    "geodataframes = [gdf_gdl, gdf_qro, gdf_cdmx]\n",
    "gdf = pd.concat(geodataframes)\n",
    "gdf.head()"
   ]
  }
 ],
 "metadata": {
  "kernelspec": {
   "display_name": "Python 3 (ipykernel)",
   "language": "python",
   "name": "python3"
  },
  "language_info": {
   "codemirror_mode": {
    "name": "ipython",
    "version": 3
   },
   "file_extension": ".py",
   "mimetype": "text/x-python",
   "name": "python",
   "nbconvert_exporter": "python",
   "pygments_lexer": "ipython3",
   "version": "3.10.10"
  }
 },
 "nbformat": 4,
 "nbformat_minor": 5
}
