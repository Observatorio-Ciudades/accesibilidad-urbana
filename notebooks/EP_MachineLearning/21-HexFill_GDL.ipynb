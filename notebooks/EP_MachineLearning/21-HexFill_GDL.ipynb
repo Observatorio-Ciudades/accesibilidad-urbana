{
 "cells": [
  {
   "cell_type": "markdown",
   "metadata": {},
   "source": [
    "# Hex fill Notebook"
   ]
  },
  {
   "cell_type": "markdown",
   "metadata": {},
   "source": [
    "Notebook with algorithm to fill missing hexagons created in lower resolutions where there are no nodes"
   ]
  },
  {
   "cell_type": "markdown",
   "metadata": {},
   "source": [
    "## Import modules"
   ]
  },
  {
   "cell_type": "code",
   "execution_count": 69,
   "metadata": {},
   "outputs": [],
   "source": [
    "import os\n",
    "import sys\n",
    "\n",
    "import numpy as np\n",
    "import pandas as pd\n",
    "import geopandas as gpd\n",
    "import math\n",
    "import shapely\n",
    "import h3\n",
    "\n",
    "import matplotlib.pyplot as plt\n",
    "\n",
    "module_path = os.path.abspath(os.path.join('..'))\n",
    "if module_path not in sys.path:\n",
    "    sys.path.append(module_path)\n",
    "    import aup"
   ]
  },
  {
   "cell_type": "markdown",
   "metadata": {},
   "source": [
    "## Donwload municipality polygons"
   ]
  },
  {
   "cell_type": "code",
   "execution_count": 70,
   "metadata": {},
   "outputs": [],
   "source": [
    "df = pd.read_json(\"../scripts/Metropolis_CVE.json\")\n",
    "mpos_folder = 'mpos_2020'\n",
    "hex_folder = 'hex_bins_index_2020'\n",
    "mun_gdf = gpd.GeoDataFrame()\n",
    "ageb_gdf = gpd.GeoDataFrame()\n",
    "hex_gdf = gpd.GeoDataFrame()"
   ]
  },
  {
   "cell_type": "code",
   "execution_count": 71,
   "metadata": {},
   "outputs": [],
   "source": [
    "#Download agebs, hexgrid and municipality figures\n",
    "for c in df.columns.unique():\n",
    "    if c == 'Guadalajara':\n",
    "        mun_gdf = gpd.GeoDataFrame()\n",
    "        hex_gdf = gpd.GeoDataFrame()\n",
    "        ageb_gdf = gpd.GeoDataFrame()\n",
    "        for i in range(len(df.loc[\"mpos\", c])):\n",
    "            # Extracts specific municipality code\n",
    "            m = df.loc[\"mpos\", c][i]\n",
    "            # Downloads municipality polygon according to code\n",
    "            query = f\"SELECT * FROM marco.{mpos_folder} WHERE \\\"CVEGEO\\\" LIKE \\'{m}\\'\"\n",
    "            mun_gdf = mun_gdf.append(aup.gdf_from_query(query, geometry_col='geometry'))\n",
    "            query = f\"SELECT * FROM hexgrid.hexgrid_10 WHERE \\\"CVEGEO\\\" LIKE \\'{m}\\'\"\n",
    "            hex_gdf = hex_gdf.append(aup.gdf_from_query(query, geometry_col='geometry'))\n",
    "            query = f\"SELECT * FROM marco.ageb_2020 WHERE \\\"cve_geo_ageb\\\" LIKE \\'{m}%%\\'\"\n",
    "            ageb_gdf = ageb_gdf.append(aup.gdf_from_query(query, geometry_col='geometry'))"
   ]
  },
  {
   "cell_type": "code",
   "execution_count": 72,
   "metadata": {},
   "outputs": [],
   "source": [
    "#Define projections\n",
    "mun_gdf = mun_gdf.set_crs(\"EPSG:4326\")\n",
    "ageb_gdf = ageb_gdf.set_crs(\"EPSG:4326\")\n",
    "hex_gdf = hex_gdf.set_crs(\"EPSG:4326\")"
   ]
  },
  {
   "cell_type": "markdown",
   "metadata": {},
   "source": [
    "## Donwload nodes and edges"
   ]
  },
  {
   "cell_type": "code",
   "execution_count": 73,
   "metadata": {},
   "outputs": [],
   "source": [
    "#Creates wkt for query\n",
    "gdf_tmp = mun_gdf.copy()\n",
    "gdf_tmp = gdf_tmp.to_crs(\"EPSG:6372\")\n",
    "gdf_tmp = gdf_tmp.buffer(1).reset_index().rename(columns={0:'geometry'})\n",
    "gdf_tmp = gdf_tmp.to_crs(\"EPSG:4326\")\n",
    "poly_wkt = gdf_tmp.dissolve().geometry.to_wkt()[0]\n",
    "aup.log(\"Created wkt based on dissolved polygon\")"
   ]
  },
  {
   "cell_type": "code",
   "execution_count": 74,
   "metadata": {},
   "outputs": [],
   "source": [
    "#Download nodes with distance to denue data\n",
    "query = f\"SELECT * FROM osmnx.edges WHERE ST_Intersects(geometry, \\'SRID=4326;{poly_wkt}\\')\"\n",
    "edges = aup.gdf_from_query(query, geometry_col='geometry')\n",
    "aup.log(f\"Downloaded {len(edges)} edges from database for {c}\")\n",
    "edges = edges.to_crs(\"EPSG:4326\")\n",
    "query = f\"SELECT * FROM osmnx.nodes WHERE ST_Intersects(geometry, \\'SRID=4326;{poly_wkt}\\')\"\n",
    "nodes = aup.gdf_from_query(query, geometry_col='geometry')\n",
    "aup.log(f\"Downloaded {len(edges)} edges from database for {c}\")\n",
    "nodes = nodes.to_crs(\"EPSG:4326\")\n"
   ]
  },
  {
   "cell_type": "markdown",
   "metadata": {},
   "source": [
    "## Hexagon analysis"
   ]
  },
  {
   "cell_type": "code",
   "execution_count": 75,
   "metadata": {},
   "outputs": [],
   "source": [
    "#PIP (Point in Polygon). Overlays nodes with hexes to find hexes that have nodes in them and those that do not\n",
    "pip = gpd.overlay(hex_gdf, nodes, how='intersection', keep_geom_type=False)\n",
    "pip = pip.set_index('hex_id_10')\n",
    "hex_gdf = hex_gdf.set_index('hex_id_10')\n",
    "#simplify and keep only relevant columns\n",
    "pip_idx = pip[['CVEGEO']]\n",
    "hex_geom = hex_gdf[['geometry']]\n",
    "#Merge with indicator. Right only means that the hexagon does NOT have any node (first filter)\n",
    "hex_node = pip_idx.merge(hex_geom, left_index=True, right_index=True, how='outer', indicator=True)\n",
    "R2 = hex_node[hex_node['_merge']=='right_only']\n",
    "#(simplify) and plot\n",
    "R3 = gpd.GeoDataFrame(R2, geometry = 'geometry')\n",
    "R3 = R3[['geometry']]\n",
    "R3.reset_index(inplace = True)\n",
    "#R3.plot()\n"
   ]
  },
  {
   "cell_type": "code",
   "execution_count": 76,
   "metadata": {},
   "outputs": [],
   "source": [
    "#LIP (Line in Polygon). Overlays edges with hexes already filtered by nodes\n",
    "#  to find hexes that have edges in them and those that do not. In this case\n",
    "#We want to keep those that do have roads.\n",
    "lip = gpd.overlay(R3, edges, how='intersection', keep_geom_type=False)\n",
    "lip = lip.set_index('hex_id_10')\n",
    "R3 = R3.set_index('hex_id_10')\n",
    "lip_idx = lip[['osmid']]\n",
    "R3_geom = R3[['geometry']]\n",
    "#Merge with indicator. Both means that the hex has a road.\n",
    "hex_edge = lip_idx.merge(R3_geom, left_index=True, right_index=True, how='outer', indicator=True)\n",
    "hex_edge\n",
    "R4 = hex_edge[hex_edge['_merge']=='both']\n",
    "#Simplify and Plot\n",
    "R5 = gpd.GeoDataFrame(R4, geometry = 'geometry')\n",
    "R5 = R5[['geometry']]\n",
    "R5.reset_index(inplace = True)\n"
   ]
  },
  {
   "cell_type": "code",
   "execution_count": 77,
   "metadata": {},
   "outputs": [],
   "source": [
    "#AIP (AGEB in Polygon). Overlays agebs with hexes already filtered by nodes and edges\n",
    "#  to find hexes that have agebs in them and those that do not. In this case\n",
    "#We want to keep those that are within an ageb.\n",
    "aip = gpd.overlay(R5, ageb_gdf, how='intersection', keep_geom_type=False)\n",
    "aip = aip.set_index('hex_id_10')\n",
    "R5 = R5.set_index('hex_id_10')\n",
    "aip_idx = aip[['cve_ageb']]\n",
    "R5_geom = R5[['geometry']]\n",
    "#Merge with indicator. Both means that the hex has intersects with an ageb.\n",
    "hex_ageb = aip_idx.merge(R5_geom, left_index=True, right_index=True, how='outer', indicator=True)\n",
    "R6 = hex_ageb[hex_ageb['_merge']=='both']\n",
    "#Simplify and Plot\n",
    "missing_hex = gpd.GeoDataFrame(R6, geometry = 'geometry')\n",
    "missing_hex = missing_hex[['geometry']]\n",
    "missing_hex.reset_index(inplace = True)\n"
   ]
  },
  {
   "cell_type": "code",
   "execution_count": 78,
   "metadata": {},
   "outputs": [
    {
     "data": {
      "text/plain": [
       "<AxesSubplot:>"
      ]
     },
     "execution_count": 78,
     "metadata": {},
     "output_type": "execute_result"
    },
    {
     "data": {
      "image/png": "[encoded data removed]",
      "text/plain": [
       "<Figure size 432x288 with 1 Axes>"
      ]
     },
     "metadata": {
      "needs_background": "light"
     },
     "output_type": "display_data"
    }
   ],
   "source": [
    "missing_hex.plot()"
   ]
  },
  {
   "cell_type": "code",
   "execution_count": 79,
   "metadata": {},
   "outputs": [],
   "source": [
    "missing_hex = missing_hex.drop_duplicates(subset=['hex_id_10'])"
   ]
  },
  {
   "cell_type": "code",
   "execution_count": 80,
   "metadata": {},
   "outputs": [
    {
     "data": {
      "text/html": [
       "<div>\n",
       "<style scoped>\n",
       "    .dataframe tbody tr th:only-of-type {\n",
       "        vertical-align: middle;\n",
       "    }\n",
       "\n",
       "    .dataframe tbody tr th {\n",
       "        vertical-align: top;\n",
       "    }\n",
       "\n",
       "    .dataframe thead th {\n",
       "        text-align: right;\n",
       "    }\n",
       "</style>\n",
       "<table border=\"1\" class=\"dataframe\">\n",
       "  <thead>\n",
       "    <tr style=\"text-align: right;\">\n",
       "      <th></th>\n",
       "      <th>hex_id_10</th>\n",
       "      <th>geometry</th>\n",
       "    </tr>\n",
       "  </thead>\n",
       "  <tbody>\n",
       "    <tr>\n",
       "      <th>0</th>\n",
       "      <td>8a498c864a07fff</td>\n",
       "      <td>POLYGON ((-103.33365 20.77181, -103.33300 20.7...</td>\n",
       "    </tr>\n",
       "    <tr>\n",
       "      <th>16</th>\n",
       "      <td>8a498c864a0ffff</td>\n",
       "      <td>POLYGON ((-103.33526 20.77390, -103.33518 20.7...</td>\n",
       "    </tr>\n",
       "    <tr>\n",
       "      <th>32</th>\n",
       "      <td>8a498c864a1ffff</td>\n",
       "      <td>POLYGON ((-103.33251 20.77417, -103.33323 20.7...</td>\n",
       "    </tr>\n",
       "    <tr>\n",
       "      <th>36</th>\n",
       "      <td>8a498c864a37fff</td>\n",
       "      <td>POLYGON ((-103.33220 20.77120, -103.33228 20.7...</td>\n",
       "    </tr>\n",
       "    <tr>\n",
       "      <th>40</th>\n",
       "      <td>8a498c864b1ffff</td>\n",
       "      <td>POLYGON ((-103.33285 20.77076, -103.33358 20.7...</td>\n",
       "    </tr>\n",
       "    <tr>\n",
       "      <th>...</th>\n",
       "      <td>...</td>\n",
       "      <td>...</td>\n",
       "    </tr>\n",
       "    <tr>\n",
       "      <th>63458</th>\n",
       "      <td>8a49abc9eba7fff</td>\n",
       "      <td>POLYGON ((-103.60951 20.41938, -103.60958 20.4...</td>\n",
       "    </tr>\n",
       "    <tr>\n",
       "      <th>63462</th>\n",
       "      <td>8a49abc9ecc7fff</td>\n",
       "      <td>POLYGON ((-103.59636 20.41954, -103.59644 20.4...</td>\n",
       "    </tr>\n",
       "    <tr>\n",
       "      <th>63466</th>\n",
       "      <td>8a49abc9ecd7fff</td>\n",
       "      <td>POLYGON ((-103.59563 20.41924, -103.59499 20.4...</td>\n",
       "    </tr>\n",
       "    <tr>\n",
       "      <th>63470</th>\n",
       "      <td>8a49abc9ed0ffff</td>\n",
       "      <td>POLYGON ((-103.59790 20.41452, -103.59863 20.4...</td>\n",
       "    </tr>\n",
       "    <tr>\n",
       "      <th>63474</th>\n",
       "      <td>8a49abc9ed4ffff</td>\n",
       "      <td>POLYGON ((-103.60088 20.41648, -103.60161 20.4...</td>\n",
       "    </tr>\n",
       "  </tbody>\n",
       "</table>\n",
       "<p>4366 rows × 2 columns</p>\n",
       "</div>"
      ],
      "text/plain": [
       "             hex_id_10                                           geometry\n",
       "0      8a498c864a07fff  POLYGON ((-103.33365 20.77181, -103.33300 20.7...\n",
       "16     8a498c864a0ffff  POLYGON ((-103.33526 20.77390, -103.33518 20.7...\n",
       "32     8a498c864a1ffff  POLYGON ((-103.33251 20.77417, -103.33323 20.7...\n",
       "36     8a498c864a37fff  POLYGON ((-103.33220 20.77120, -103.33228 20.7...\n",
       "40     8a498c864b1ffff  POLYGON ((-103.33285 20.77076, -103.33358 20.7...\n",
       "...                ...                                                ...\n",
       "63458  8a49abc9eba7fff  POLYGON ((-103.60951 20.41938, -103.60958 20.4...\n",
       "63462  8a49abc9ecc7fff  POLYGON ((-103.59636 20.41954, -103.59644 20.4...\n",
       "63466  8a49abc9ecd7fff  POLYGON ((-103.59563 20.41924, -103.59499 20.4...\n",
       "63470  8a49abc9ed0ffff  POLYGON ((-103.59790 20.41452, -103.59863 20.4...\n",
       "63474  8a49abc9ed4ffff  POLYGON ((-103.60088 20.41648, -103.60161 20.4...\n",
       "\n",
       "[4366 rows x 2 columns]"
      ]
     },
     "execution_count": 80,
     "metadata": {},
     "output_type": "execute_result"
    }
   ],
   "source": [
    "missing_hex"
   ]
  },
  {
   "cell_type": "markdown",
   "metadata": {},
   "source": [
    "## Fill missing hexagons"
   ]
  },
  {
   "cell_type": "code",
   "execution_count": 81,
   "metadata": {},
   "outputs": [
    {
     "name": "stderr",
     "output_type": "stream",
     "text": [
      "/opt/conda/lib/python3.9/site-packages/geopandas/geodataframe.py:1322: SettingWithCopyWarning: \n",
      "A value is trying to be set on a copy of a slice from a DataFrame.\n",
      "Try using .loc[row_indexer,col_indexer] = value instead\n",
      "\n",
      "See the caveats in the documentation: https://pandas.pydata.org/pandas-docs/stable/user_guide/indexing.html#returning-a-view-versus-a-copy\n",
      "  super(GeoDataFrame, self).__setitem__(key, value)\n",
      "/opt/conda/lib/python3.9/site-packages/pandas/core/indexing.py:1720: SettingWithCopyWarning: \n",
      "A value is trying to be set on a copy of a slice from a DataFrame.\n",
      "Try using .loc[row_indexer,col_indexer] = value instead\n",
      "\n",
      "See the caveats in the documentation: https://pandas.pydata.org/pandas-docs/stable/user_guide/indexing.html#returning-a-view-versus-a-copy\n",
      "  self._setitem_single_column(loc, value, pi)\n"
     ]
    },
    {
     "data": {
      "text/html": [
       "<div>\n",
       "<style scoped>\n",
       "    .dataframe tbody tr th:only-of-type {\n",
       "        vertical-align: middle;\n",
       "    }\n",
       "\n",
       "    .dataframe tbody tr th {\n",
       "        vertical-align: top;\n",
       "    }\n",
       "\n",
       "    .dataframe thead th {\n",
       "        text-align: right;\n",
       "    }\n",
       "</style>\n",
       "<table border=\"1\" class=\"dataframe\">\n",
       "  <thead>\n",
       "    <tr style=\"text-align: right;\">\n",
       "      <th></th>\n",
       "      <th>hex_id_10</th>\n",
       "      <th>geometry</th>\n",
       "      <th>v</th>\n",
       "    </tr>\n",
       "  </thead>\n",
       "  <tbody>\n",
       "    <tr>\n",
       "      <th>0</th>\n",
       "      <td>8a498c864a07fff</td>\n",
       "      <td>POLYGON ((-103.33365 20.77181, -103.33300 20.7...</td>\n",
       "      <td>NaN</td>\n",
       "    </tr>\n",
       "    <tr>\n",
       "      <th>16</th>\n",
       "      <td>8a498c864a0ffff</td>\n",
       "      <td>POLYGON ((-103.33526 20.77390, -103.33518 20.7...</td>\n",
       "      <td>NaN</td>\n",
       "    </tr>\n",
       "    <tr>\n",
       "      <th>32</th>\n",
       "      <td>8a498c864a1ffff</td>\n",
       "      <td>POLYGON ((-103.33251 20.77417, -103.33323 20.7...</td>\n",
       "      <td>NaN</td>\n",
       "    </tr>\n",
       "    <tr>\n",
       "      <th>36</th>\n",
       "      <td>8a498c864a37fff</td>\n",
       "      <td>POLYGON ((-103.33220 20.77120, -103.33228 20.7...</td>\n",
       "      <td>NaN</td>\n",
       "    </tr>\n",
       "    <tr>\n",
       "      <th>40</th>\n",
       "      <td>8a498c864b1ffff</td>\n",
       "      <td>POLYGON ((-103.33285 20.77076, -103.33358 20.7...</td>\n",
       "      <td>NaN</td>\n",
       "    </tr>\n",
       "    <tr>\n",
       "      <th>...</th>\n",
       "      <td>...</td>\n",
       "      <td>...</td>\n",
       "      <td>...</td>\n",
       "    </tr>\n",
       "    <tr>\n",
       "      <th>63458</th>\n",
       "      <td>8a49abc9eba7fff</td>\n",
       "      <td>POLYGON ((-103.60951 20.41938, -103.60958 20.4...</td>\n",
       "      <td>NaN</td>\n",
       "    </tr>\n",
       "    <tr>\n",
       "      <th>63462</th>\n",
       "      <td>8a49abc9ecc7fff</td>\n",
       "      <td>POLYGON ((-103.59636 20.41954, -103.59644 20.4...</td>\n",
       "      <td>NaN</td>\n",
       "    </tr>\n",
       "    <tr>\n",
       "      <th>63466</th>\n",
       "      <td>8a49abc9ecd7fff</td>\n",
       "      <td>POLYGON ((-103.59563 20.41924, -103.59499 20.4...</td>\n",
       "      <td>NaN</td>\n",
       "    </tr>\n",
       "    <tr>\n",
       "      <th>63470</th>\n",
       "      <td>8a49abc9ed0ffff</td>\n",
       "      <td>POLYGON ((-103.59790 20.41452, -103.59863 20.4...</td>\n",
       "      <td>NaN</td>\n",
       "    </tr>\n",
       "    <tr>\n",
       "      <th>63474</th>\n",
       "      <td>8a49abc9ed4ffff</td>\n",
       "      <td>POLYGON ((-103.60088 20.41648, -103.60161 20.4...</td>\n",
       "      <td>NaN</td>\n",
       "    </tr>\n",
       "  </tbody>\n",
       "</table>\n",
       "<p>4366 rows × 3 columns</p>\n",
       "</div>"
      ],
      "text/plain": [
       "             hex_id_10                                           geometry   v\n",
       "0      8a498c864a07fff  POLYGON ((-103.33365 20.77181, -103.33300 20.7... NaN\n",
       "16     8a498c864a0ffff  POLYGON ((-103.33526 20.77390, -103.33518 20.7... NaN\n",
       "32     8a498c864a1ffff  POLYGON ((-103.33251 20.77417, -103.33323 20.7... NaN\n",
       "36     8a498c864a37fff  POLYGON ((-103.33220 20.77120, -103.33228 20.7... NaN\n",
       "40     8a498c864b1ffff  POLYGON ((-103.33285 20.77076, -103.33358 20.7... NaN\n",
       "...                ...                                                ...  ..\n",
       "63458  8a49abc9eba7fff  POLYGON ((-103.60951 20.41938, -103.60958 20.4... NaN\n",
       "63462  8a49abc9ecc7fff  POLYGON ((-103.59636 20.41954, -103.59644 20.4... NaN\n",
       "63466  8a49abc9ecd7fff  POLYGON ((-103.59563 20.41924, -103.59499 20.4... NaN\n",
       "63470  8a49abc9ed0ffff  POLYGON ((-103.59790 20.41452, -103.59863 20.4... NaN\n",
       "63474  8a49abc9ed4ffff  POLYGON ((-103.60088 20.41648, -103.60161 20.4... NaN\n",
       "\n",
       "[4366 rows x 3 columns]"
      ]
     },
     "execution_count": 81,
     "metadata": {},
     "output_type": "execute_result"
    }
   ],
   "source": [
    "## Start part 2, fill missing hexes with average value of neighbours\n",
    "missing_hex[['v']] = np.nan\n",
    "missing_hex\n"
   ]
  },
  {
   "cell_type": "code",
   "execution_count": 82,
   "metadata": {},
   "outputs": [],
   "source": [
    "########This should be replaced with the hexes with distance information\n",
    "######## 'v' = distance\n",
    "## Optional, I am missing the real values\n",
    "hexval = hex_node[hex_node['_merge']=='both']\n",
    "hexval = gpd.GeoDataFrame(hexval, geometry = 'geometry')\n",
    "hexval.reset_index(inplace=True)\n",
    "rand = pd.DataFrame(np.random.randint(1,100,size=(195461, 1)), columns=list('v'))\n",
    "hexval= hexval.merge(rand, left_index=True, right_index=True)\n",
    "hexval.reset_index(inplace=True)\n",
    "hexval = hexval.drop_duplicates(subset=['hex_id_10'])\n",
    "hexval = hexval[['hex_id_10', 'geometry', 'v']]"
   ]
  },
  {
   "cell_type": "code",
   "execution_count": 83,
   "metadata": {},
   "outputs": [],
   "source": [
    "urb_hex = gpd.GeoDataFrame()"
   ]
  },
  {
   "cell_type": "code",
   "execution_count": 84,
   "metadata": {},
   "outputs": [
    {
     "data": {
      "text/html": [
       "<div>\n",
       "<style scoped>\n",
       "    .dataframe tbody tr th:only-of-type {\n",
       "        vertical-align: middle;\n",
       "    }\n",
       "\n",
       "    .dataframe tbody tr th {\n",
       "        vertical-align: top;\n",
       "    }\n",
       "\n",
       "    .dataframe thead th {\n",
       "        text-align: right;\n",
       "    }\n",
       "</style>\n",
       "<table border=\"1\" class=\"dataframe\">\n",
       "  <thead>\n",
       "    <tr style=\"text-align: right;\">\n",
       "      <th></th>\n",
       "      <th>index</th>\n",
       "      <th>geometry</th>\n",
       "      <th>v</th>\n",
       "    </tr>\n",
       "    <tr>\n",
       "      <th>hex_id_10</th>\n",
       "      <th></th>\n",
       "      <th></th>\n",
       "      <th></th>\n",
       "    </tr>\n",
       "  </thead>\n",
       "  <tbody>\n",
       "    <tr>\n",
       "      <th>8a498c800d87fff</th>\n",
       "      <td>0</td>\n",
       "      <td>POLYGON ((-103.13840 20.74916, -103.13848 20.7...</td>\n",
       "      <td>2.0</td>\n",
       "    </tr>\n",
       "    <tr>\n",
       "      <th>8a498c804417fff</th>\n",
       "      <td>1</td>\n",
       "      <td>POLYGON ((-103.13906 20.73524, -103.13841 20.7...</td>\n",
       "      <td>12.0</td>\n",
       "    </tr>\n",
       "    <tr>\n",
       "      <th>8a498c8044cffff</th>\n",
       "      <td>2</td>\n",
       "      <td>POLYGON ((-103.14031 20.74074, -103.14104 20.7...</td>\n",
       "      <td>1.0</td>\n",
       "    </tr>\n",
       "    <tr>\n",
       "      <th>8a498c8044e7fff</th>\n",
       "      <td>3</td>\n",
       "      <td>POLYGON ((-103.14066 20.73733, -103.14001 20.7...</td>\n",
       "      <td>64.0</td>\n",
       "    </tr>\n",
       "    <tr>\n",
       "      <th>8a498c8044f7fff</th>\n",
       "      <td>4</td>\n",
       "      <td>POLYGON ((-103.13871 20.73864, -103.13944 20.7...</td>\n",
       "      <td>99.0</td>\n",
       "    </tr>\n",
       "    <tr>\n",
       "      <th>...</th>\n",
       "      <td>...</td>\n",
       "      <td>...</td>\n",
       "      <td>...</td>\n",
       "    </tr>\n",
       "    <tr>\n",
       "      <th>8a49abc9eba7fff</th>\n",
       "      <td>63458</td>\n",
       "      <td>POLYGON ((-103.60951 20.41938, -103.60958 20.4...</td>\n",
       "      <td>NaN</td>\n",
       "    </tr>\n",
       "    <tr>\n",
       "      <th>8a49abc9ecc7fff</th>\n",
       "      <td>63462</td>\n",
       "      <td>POLYGON ((-103.59636 20.41954, -103.59644 20.4...</td>\n",
       "      <td>NaN</td>\n",
       "    </tr>\n",
       "    <tr>\n",
       "      <th>8a49abc9ecd7fff</th>\n",
       "      <td>63466</td>\n",
       "      <td>POLYGON ((-103.59563 20.41924, -103.59499 20.4...</td>\n",
       "      <td>NaN</td>\n",
       "    </tr>\n",
       "    <tr>\n",
       "      <th>8a49abc9ed0ffff</th>\n",
       "      <td>63470</td>\n",
       "      <td>POLYGON ((-103.59790 20.41452, -103.59863 20.4...</td>\n",
       "      <td>NaN</td>\n",
       "    </tr>\n",
       "    <tr>\n",
       "      <th>8a49abc9ed4ffff</th>\n",
       "      <td>63474</td>\n",
       "      <td>POLYGON ((-103.60088 20.41648, -103.60161 20.4...</td>\n",
       "      <td>NaN</td>\n",
       "    </tr>\n",
       "  </tbody>\n",
       "</table>\n",
       "<p>56019 rows × 3 columns</p>\n",
       "</div>"
      ],
      "text/plain": [
       "                 index                                           geometry  \\\n",
       "hex_id_10                                                                   \n",
       "8a498c800d87fff      0  POLYGON ((-103.13840 20.74916, -103.13848 20.7...   \n",
       "8a498c804417fff      1  POLYGON ((-103.13906 20.73524, -103.13841 20.7...   \n",
       "8a498c8044cffff      2  POLYGON ((-103.14031 20.74074, -103.14104 20.7...   \n",
       "8a498c8044e7fff      3  POLYGON ((-103.14066 20.73733, -103.14001 20.7...   \n",
       "8a498c8044f7fff      4  POLYGON ((-103.13871 20.73864, -103.13944 20.7...   \n",
       "...                ...                                                ...   \n",
       "8a49abc9eba7fff  63458  POLYGON ((-103.60951 20.41938, -103.60958 20.4...   \n",
       "8a49abc9ecc7fff  63462  POLYGON ((-103.59636 20.41954, -103.59644 20.4...   \n",
       "8a49abc9ecd7fff  63466  POLYGON ((-103.59563 20.41924, -103.59499 20.4...   \n",
       "8a49abc9ed0ffff  63470  POLYGON ((-103.59790 20.41452, -103.59863 20.4...   \n",
       "8a49abc9ed4ffff  63474  POLYGON ((-103.60088 20.41648, -103.60161 20.4...   \n",
       "\n",
       "                    v  \n",
       "hex_id_10              \n",
       "8a498c800d87fff   2.0  \n",
       "8a498c804417fff  12.0  \n",
       "8a498c8044cffff   1.0  \n",
       "8a498c8044e7fff  64.0  \n",
       "8a498c8044f7fff  99.0  \n",
       "...               ...  \n",
       "8a49abc9eba7fff   NaN  \n",
       "8a49abc9ecc7fff   NaN  \n",
       "8a49abc9ecd7fff   NaN  \n",
       "8a49abc9ed0ffff   NaN  \n",
       "8a49abc9ed4ffff   NaN  \n",
       "\n",
       "[56019 rows x 3 columns]"
      ]
     },
     "execution_count": 84,
     "metadata": {},
     "output_type": "execute_result"
    }
   ],
   "source": [
    "missing_hex.reset_index(inplace = True)\n",
    "hexval.reset_index(inplace = True)\n",
    "urb_hex = hexval.append(missing_hex)\n",
    "urb_hex = urb_hex.set_index('hex_id_10')\n",
    "missing_hex = missing_hex.set_index('hex_id_10')\n",
    "hexval = hexval.set_index('hex_id_10')\n",
    "urb_hex"
   ]
  },
  {
   "cell_type": "code",
   "execution_count": 85,
   "metadata": {},
   "outputs": [
    {
     "name": "stderr",
     "output_type": "stream",
     "text": [
      "/opt/conda/lib/python3.9/site-packages/geopandas/geodataframe.py:1322: SettingWithCopyWarning: \n",
      "A value is trying to be set on a copy of a slice from a DataFrame.\n",
      "Try using .loc[row_indexer,col_indexer] = value instead\n",
      "\n",
      "See the caveats in the documentation: https://pandas.pydata.org/pandas-docs/stable/user_guide/indexing.html#returning-a-view-versus-a-copy\n",
      "  super(GeoDataFrame, self).__setitem__(key, value)\n"
     ]
    }
   ],
   "source": [
    "## Start looping\n",
    "count = 0\n",
    "iter = 1\n",
    "urb_hex['v'+ str(count)] = urb_hex['v'].copy()\n",
    "while urb_hex['v'+str(count)].isna().sum() > 0:\n",
    "    if count< 5:\n",
    "        missing = urb_hex[urb_hex['v'+str(count)].isna()]\n",
    "        urb_hex['v'+ str(iter)] = urb_hex['v'+str(count)].copy()\n",
    "        for idx,row in missing.iterrows():\n",
    "            ###Cell 1\n",
    "            near = pd.DataFrame(h3.k_ring(idx,1))\n",
    "            near['hex_id_10'] = h3.k_ring(idx,1)\n",
    "            near['a'] = np.nan\n",
    "            near= near.set_index('hex_id_10')\n",
    "            ###Cell 2\n",
    "            neighbors = near.merge(urb_hex, left_index=True, right_index=True, how='left')\n",
    "            #Cell 3\n",
    "            average = neighbors['v'+str(count)].mean()\n",
    "            urb_hex.at[idx, 'v'+str(iter)] = average\n",
    "        count = count + 1\n",
    "        iter = iter + 1\n",
    "    if count>= 10:\n",
    "        urb_hex['v'+str(count)] = 1\n",
    "fill_hex = urb_hex[['geometry']]\n",
    "fill_hex['v'] = urb_hex['v'+ str(count)].copy()"
   ]
  },
  {
   "cell_type": "code",
   "execution_count": 86,
   "metadata": {},
   "outputs": [
    {
     "data": {
      "text/plain": [
       "0"
      ]
     },
     "execution_count": 86,
     "metadata": {},
     "output_type": "execute_result"
    }
   ],
   "source": [
    "urb_hex['v'+str(count)].isna().sum()"
   ]
  },
  {
   "cell_type": "code",
   "execution_count": 90,
   "metadata": {},
   "outputs": [
    {
     "data": {
      "text/html": [
       "<div>\n",
       "<style scoped>\n",
       "    .dataframe tbody tr th:only-of-type {\n",
       "        vertical-align: middle;\n",
       "    }\n",
       "\n",
       "    .dataframe tbody tr th {\n",
       "        vertical-align: top;\n",
       "    }\n",
       "\n",
       "    .dataframe thead th {\n",
       "        text-align: right;\n",
       "    }\n",
       "</style>\n",
       "<table border=\"1\" class=\"dataframe\">\n",
       "  <thead>\n",
       "    <tr style=\"text-align: right;\">\n",
       "      <th></th>\n",
       "      <th>hex_id_10</th>\n",
       "      <th>geometry</th>\n",
       "      <th>v</th>\n",
       "    </tr>\n",
       "  </thead>\n",
       "  <tbody>\n",
       "    <tr>\n",
       "      <th>0</th>\n",
       "      <td>8a498c800d87fff</td>\n",
       "      <td>POLYGON ((-103.13840 20.74916, -103.13848 20.7...</td>\n",
       "      <td>2.000000</td>\n",
       "    </tr>\n",
       "    <tr>\n",
       "      <th>1</th>\n",
       "      <td>8a498c804417fff</td>\n",
       "      <td>POLYGON ((-103.13906 20.73524, -103.13841 20.7...</td>\n",
       "      <td>12.000000</td>\n",
       "    </tr>\n",
       "    <tr>\n",
       "      <th>2</th>\n",
       "      <td>8a498c8044cffff</td>\n",
       "      <td>POLYGON ((-103.14031 20.74074, -103.14104 20.7...</td>\n",
       "      <td>1.000000</td>\n",
       "    </tr>\n",
       "    <tr>\n",
       "      <th>3</th>\n",
       "      <td>8a498c8044e7fff</td>\n",
       "      <td>POLYGON ((-103.14066 20.73733, -103.14001 20.7...</td>\n",
       "      <td>64.000000</td>\n",
       "    </tr>\n",
       "    <tr>\n",
       "      <th>4</th>\n",
       "      <td>8a498c8044f7fff</td>\n",
       "      <td>POLYGON ((-103.13871 20.73864, -103.13944 20.7...</td>\n",
       "      <td>99.000000</td>\n",
       "    </tr>\n",
       "    <tr>\n",
       "      <th>...</th>\n",
       "      <td>...</td>\n",
       "      <td>...</td>\n",
       "      <td>...</td>\n",
       "    </tr>\n",
       "    <tr>\n",
       "      <th>56014</th>\n",
       "      <td>8a49abc9eba7fff</td>\n",
       "      <td>POLYGON ((-103.60951 20.41938, -103.60958 20.4...</td>\n",
       "      <td>85.500000</td>\n",
       "    </tr>\n",
       "    <tr>\n",
       "      <th>56015</th>\n",
       "      <td>8a49abc9ecc7fff</td>\n",
       "      <td>POLYGON ((-103.59636 20.41954, -103.59644 20.4...</td>\n",
       "      <td>56.333333</td>\n",
       "    </tr>\n",
       "    <tr>\n",
       "      <th>56016</th>\n",
       "      <td>8a49abc9ecd7fff</td>\n",
       "      <td>POLYGON ((-103.59563 20.41924, -103.59499 20.4...</td>\n",
       "      <td>33.666667</td>\n",
       "    </tr>\n",
       "    <tr>\n",
       "      <th>56017</th>\n",
       "      <td>8a49abc9ed0ffff</td>\n",
       "      <td>POLYGON ((-103.59790 20.41452, -103.59863 20.4...</td>\n",
       "      <td>23.000000</td>\n",
       "    </tr>\n",
       "    <tr>\n",
       "      <th>56018</th>\n",
       "      <td>8a49abc9ed4ffff</td>\n",
       "      <td>POLYGON ((-103.60088 20.41648, -103.60161 20.4...</td>\n",
       "      <td>59.000000</td>\n",
       "    </tr>\n",
       "  </tbody>\n",
       "</table>\n",
       "<p>56019 rows × 3 columns</p>\n",
       "</div>"
      ],
      "text/plain": [
       "             hex_id_10                                           geometry  \\\n",
       "0      8a498c800d87fff  POLYGON ((-103.13840 20.74916, -103.13848 20.7...   \n",
       "1      8a498c804417fff  POLYGON ((-103.13906 20.73524, -103.13841 20.7...   \n",
       "2      8a498c8044cffff  POLYGON ((-103.14031 20.74074, -103.14104 20.7...   \n",
       "3      8a498c8044e7fff  POLYGON ((-103.14066 20.73733, -103.14001 20.7...   \n",
       "4      8a498c8044f7fff  POLYGON ((-103.13871 20.73864, -103.13944 20.7...   \n",
       "...                ...                                                ...   \n",
       "56014  8a49abc9eba7fff  POLYGON ((-103.60951 20.41938, -103.60958 20.4...   \n",
       "56015  8a49abc9ecc7fff  POLYGON ((-103.59636 20.41954, -103.59644 20.4...   \n",
       "56016  8a49abc9ecd7fff  POLYGON ((-103.59563 20.41924, -103.59499 20.4...   \n",
       "56017  8a49abc9ed0ffff  POLYGON ((-103.59790 20.41452, -103.59863 20.4...   \n",
       "56018  8a49abc9ed4ffff  POLYGON ((-103.60088 20.41648, -103.60161 20.4...   \n",
       "\n",
       "               v  \n",
       "0       2.000000  \n",
       "1      12.000000  \n",
       "2       1.000000  \n",
       "3      64.000000  \n",
       "4      99.000000  \n",
       "...          ...  \n",
       "56014  85.500000  \n",
       "56015  56.333333  \n",
       "56016  33.666667  \n",
       "56017  23.000000  \n",
       "56018  59.000000  \n",
       "\n",
       "[56019 rows x 3 columns]"
      ]
     },
     "execution_count": 90,
     "metadata": {},
     "output_type": "execute_result"
    }
   ],
   "source": [
    "fill_hex.reset_index(inplace = True)\n",
    "fill_hex"
   ]
  }
 ],
 "metadata": {
  "interpreter": {
   "hash": "d4d1e4263499bec80672ea0156c357c1ee493ec2b1c70f0acce89fc37c4a6abe"
  },
  "kernelspec": {
   "display_name": "Python 3 (ipykernel)",
   "language": "python",
   "name": "python3"
  },
  "language_info": {
   "codemirror_mode": {
    "name": "ipython",
    "version": 3
   },
   "file_extension": ".py",
   "mimetype": "text/x-python",
   "name": "python",
   "nbconvert_exporter": "python",
   "pygments_lexer": "ipython3",
   "version": "3.10.10"
  }
 },
 "nbformat": 4,
 "nbformat_minor": 4
}
