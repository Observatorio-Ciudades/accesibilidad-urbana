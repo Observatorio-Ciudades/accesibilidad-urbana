{
 "cells": [
  {
   "cell_type": "code",
   "execution_count": null,
   "metadata": {},
   "outputs": [],
   "source": [
    "import pandas as pd\n",
    "import geopandas as gpd\n",
    "import numpy as np"
   ]
  },
  {
   "cell_type": "code",
   "execution_count": null,
   "metadata": {},
   "outputs": [],
   "source": [
    "for i in range(1,33):\n",
    "    edo = format(i, \"02d\")\n",
    "    df = pd.read_csv(f'/home/jovyan/work/data/external/sigade/{edo}-concentrado_escuelas.csv', encoding='ISO-8859-1')\n",
    "    df.columns= df.columns.str.lower()\n",
    "    df.columns = df.columns.str.replace(\" \", \"_\")\n",
    "    print(df.shape)\n",
    "    df.head(3)\n",
    "    for column in df.columns[df.dtypes=='object']:\n",
    "        df[column] = df[column].str.normalize('NFKD').str.encode('ascii', errors='ignore').str.decode('utf-8')\n",
    "    df.head(3)\n",
    "    df['x'] = df['ubicaciã³n_de_la_escuela-localidad_al_oeste_del_meridiano_de_greenwich,_expresada_en_grados']\n",
    "    df['y'] = df['ubicaciã³n_de_la_escuela-localidad_al_norte_del_ecuador,_expresada_en_grados']\n",
    "    gdf = gpd.GeoDataFrame(df, geometry=gpd.points_from_xy(df.x, df.y), crs=\"EPSG:4326\" )\n",
    "    gdf.plot()\n",
    "    "
   ]
  },
  {
   "cell_type": "code",
   "execution_count": 81,
   "metadata": {},
   "outputs": [],
   "source": [
    "sigade = pd.DataFrame()\n",
    "for i in range(1,33):\n",
    "    edo = format(i, \"02d\")\n",
    "    df = pd.read_csv(f'/home/jovyan/work/data/external/sigade/{edo}-concentrado_escuelas.csv', encoding='ISO-8859-1')\n",
    "    df.columns= df.columns.str.lower()\n",
    "    df.columns = df.columns.str.replace(\" \", \"_\")\n",
    "    for column in df.columns[df.dtypes=='object']:\n",
    "        df[column] = df[column].str.normalize('NFKD').str.encode('ascii', errors='ignore').str.decode('utf-8')\n",
    "    sigade = sigade.append(df)"
   ]
  },
  {
   "cell_type": "code",
   "execution_count": 89,
   "metadata": {},
   "outputs": [],
   "source": [
    "errorsN = sigade[sigade['y']>32.718333]\n",
    "errorsS = sigade[sigade['y']<11.968611]\n",
    "errorsW = sigade[sigade['x']<-122.170278]\n",
    "errorsE = sigade[sigade['x']>-84.641667]"
   ]
  },
  {
   "cell_type": "code",
   "execution_count": 90,
   "metadata": {},
   "outputs": [
    {
     "data": {
      "text/plain": [
       "8416"
      ]
     },
     "execution_count": 90,
     "metadata": {},
     "output_type": "execute_result"
    }
   ],
   "source": [
    "errors = errorsN.append(errorsS.append(errorsW.append(errorsE)))\n",
    "len(errors)"
   ]
  },
  {
   "cell_type": "code",
   "execution_count": 84,
   "metadata": {},
   "outputs": [
    {
     "data": {
      "text/plain": [
       "<AxesSubplot:>"
      ]
     },
     "execution_count": 84,
     "metadata": {},
     "output_type": "execute_result"
    },
    {
     "data": {
      "image/png": "[encoded data removed]",
      "text/plain": [
       "<Figure size 432x288 with 1 Axes>"
      ]
     },
     "metadata": {
      "needs_background": "light"
     },
     "output_type": "display_data"
    }
   ],
   "source": [
    "sigade['x'] = sigade['ubicaciã³n_de_la_escuela-localidad_al_oeste_del_meridiano_de_greenwich,_expresada_en_grados']\n",
    "sigade['y'] = sigade['ubicaciã³n_de_la_escuela-localidad_al_norte_del_ecuador,_expresada_en_grados']\n",
    "gdf = gpd.GeoDataFrame(sigade, geometry=gpd.points_from_xy(sigade.x, sigade.y), crs=\"EPSG:4326\" )\n",
    "gdf.plot()"
   ]
  }
 ],
 "metadata": {
  "interpreter": {
   "hash": "d4d1e4263499bec80672ea0156c357c1ee493ec2b1c70f0acce89fc37c4a6abe"
  },
  "kernelspec": {
   "display_name": "Python 3.9.7 ('base')",
   "language": "python",
   "name": "python3"
  },
  "language_info": {
   "codemirror_mode": {
    "name": "ipython",
    "version": 3
   },
   "file_extension": ".py",
   "mimetype": "text/x-python",
   "name": "python",
   "nbconvert_exporter": "python",
   "pygments_lexer": "ipython3",
   "version": "3.9.7"
  },
  "orig_nbformat": 4
 },
 "nbformat": 4,
 "nbformat_minor": 2
}
