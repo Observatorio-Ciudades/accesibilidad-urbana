{
 "cells": [
  {
   "cell_type": "markdown",
   "id": "ef7429d6-671d-4b41-86e9-fe22fe316e6f",
   "metadata": {},
   "source": [
    "# Visor NDVI"
   ]
  },
  {
   "cell_type": "markdown",
   "id": "fe024f68-bcc6-4aba-9347-d94ecfefa35e",
   "metadata": {},
   "source": [
    "## Import libraries"
   ]
  },
  {
   "cell_type": "code",
   "execution_count": 1,
   "id": "ef00dddb-a38c-4ad3-872c-85b785526959",
   "metadata": {},
   "outputs": [
    {
     "name": "stdout",
     "output_type": "stream",
     "text": [
      "/home/observatorio/Documents/repos/accesibilidad-urbana\n"
     ]
    }
   ],
   "source": [
    "from pathlib import Path\n",
    "\n",
    "current_path = Path().resolve()\n",
    "\n",
    "for parent in current_path.parents:\n",
    "    if parent.name == \"accesibilidad-urbana\":\n",
    "        project_root = parent\n",
    "        break\n",
    "\n",
    "print(project_root)"
   ]
  },
  {
   "cell_type": "code",
   "execution_count": 2,
   "id": "9ecb2483-92c1-46dc-a2d5-f36ffc03c9d2",
   "metadata": {},
   "outputs": [],
   "source": [
    "import os\n",
    "import sys\n",
    "\n",
    "import pandas as pd\n",
    "import geopandas as gpd\n",
    "import numpy as np\n",
    "\n",
    "# Imports que venían en el Notebook 15-min-city > 13-15-min-kepler-test.ipynb\n",
    "import io\n",
    "#import boto3\n",
    "#from keplergl import KeplerGl\n",
    "\n",
    "# Correlation calc\n",
    "import scipy.stats as stats\n",
    "\n",
    "import warnings\n",
    "warnings.simplefilter(action='ignore', category=FutureWarning)\n",
    "\n",
    "module_path = os.path.abspath(os.path.join(project_root))\n",
    "if module_path not in sys.path:\n",
    "    sys.path.append(module_path)\n",
    "    import aup\n",
    "else:\n",
    "    import aup"
   ]
  },
  {
   "cell_type": "markdown",
   "id": "a784f8c3-b904-4ada-85a5-be68b5ebb537",
   "metadata": {},
   "source": [
    "## Config notebook"
   ]
  },
  {
   "cell_type": "code",
   "execution_count": 3,
   "id": "40a96243-92b9-4b78-aaf9-ed37c357bb9c",
   "metadata": {},
   "outputs": [],
   "source": [
    "city_list = ['Aguascalientes']\n",
    "res = 10"
   ]
  },
  {
   "cell_type": "code",
   "execution_count": null,
   "id": "d696e4c9-c2ea-47ca-b414-ddb113482ed1",
   "metadata": {},
   "outputs": [],
   "source": [
    "# Slope function\n",
    "def calc_slope(row, cols):\n",
    "    data = row[cols].astype(float).values\n",
    "    slope, intercept = np.polyfit(years, data, 1)\n",
    "    return slope"
   ]
  },
  {
   "cell_type": "markdown",
   "id": "83b30a78-e9e9-4091-980c-2b3f14b746f1",
   "metadata": {},
   "source": [
    "## Create HTMLs"
   ]
  },
  {
   "cell_type": "code",
   "execution_count": 4,
   "id": "f242c6fd-9d8a-414e-8a1f-4f14275399c0",
   "metadata": {},
   "outputs": [
    {
     "name": "stdout",
     "output_type": "stream",
     "text": [
      "(102305, 6)\n"
     ]
    },
    {
     "data": {
      "text/html": [
       "<div>\n",
       "<style scoped>\n",
       "    .dataframe tbody tr th:only-of-type {\n",
       "        vertical-align: middle;\n",
       "    }\n",
       "\n",
       "    .dataframe tbody tr th {\n",
       "        vertical-align: top;\n",
       "    }\n",
       "\n",
       "    .dataframe thead th {\n",
       "        text-align: right;\n",
       "    }\n",
       "</style>\n",
       "<table border=\"1\" class=\"dataframe\">\n",
       "  <thead>\n",
       "    <tr style=\"text-align: right;\">\n",
       "      <th></th>\n",
       "      <th>hex_id_10</th>\n",
       "      <th>geometry</th>\n",
       "      <th>CVEGEO</th>\n",
       "      <th>NOMGEO</th>\n",
       "      <th>city</th>\n",
       "      <th>type</th>\n",
       "    </tr>\n",
       "  </thead>\n",
       "  <tbody>\n",
       "    <tr>\n",
       "      <th>0</th>\n",
       "      <td>8a498ea487a7fff</td>\n",
       "      <td>POLYGON ((-102.45707 21.76261, -102.45642 21.7...</td>\n",
       "      <td>01001</td>\n",
       "      <td>Aguascalientes</td>\n",
       "      <td>Aguascalientes</td>\n",
       "      <td>rural</td>\n",
       "    </tr>\n",
       "    <tr>\n",
       "      <th>1</th>\n",
       "      <td>8a498e35b427fff</td>\n",
       "      <td>POLYGON ((-102.2017 22.02344, -102.20104 22.02...</td>\n",
       "      <td>01001</td>\n",
       "      <td>Aguascalientes</td>\n",
       "      <td>Aguascalientes</td>\n",
       "      <td>rural</td>\n",
       "    </tr>\n",
       "  </tbody>\n",
       "</table>\n",
       "</div>"
      ],
      "text/plain": [
       "         hex_id_10                                           geometry CVEGEO  \\\n",
       "0  8a498ea487a7fff  POLYGON ((-102.45707 21.76261, -102.45642 21.7...  01001   \n",
       "1  8a498e35b427fff  POLYGON ((-102.2017 22.02344, -102.20104 22.02...  01001   \n",
       "\n",
       "           NOMGEO            city   type  \n",
       "0  Aguascalientes  Aguascalientes  rural  \n",
       "1  Aguascalientes  Aguascalientes  rural  "
      ]
     },
     "execution_count": 4,
     "metadata": {},
     "output_type": "execute_result"
    }
   ],
   "source": [
    "for city in city_lst:\n",
    "\n",
    "    # 1.0 --- --- --- LOAD DATA --- --- ---\n",
    "    \n",
    "    # 1.1 --- LOAD URBAN HEXS\n",
    "    print(f\"Loading {city}'s urban hexs.\")\n",
    "    # Load data\n",
    "    hex_schema = 'hexgrid'\n",
    "    hex_table = f'hexgrid_{res}_city_2020'\n",
    "    # Filter for urban areas if required\n",
    "    if filter_urban:\n",
    "        hex_type = 'urban'\n",
    "        query = f\"SELECT hex_id_{res}, geometry FROM {hex_schema}.{hex_table} WHERE \\\"city\\\" = '{city}\\' AND \\\"type\\\" = '{hex_type}\\'\"\n",
    "    else:\n",
    "        query = f\"SELECT hex_id_{res}, geometry FROM {hex_schema}.{hex_table} WHERE \\\"city\\\" = '{city}\\'\"\n",
    "    # Read and format cols\n",
    "    hex_gdf = aup.gdf_from_query(query, geometry_col='geometry')\n",
    "    hex_gdf['res'] = res\n",
    "    hex_gdf.rename(columns={f'hex_id_{res}':'hex_id'},inplace=True)\n",
    "    hex_gdf.to_crs(projected_crs,inplace=True)\n",
    "    # List all unique hex_ids\n",
    "    hexid_lst = list(hex_gdf.hex_id.unique())\n",
    "    \n",
    "    # 1.2 --- LOAD NDVI DATA\n",
    "    print(f\"Loading {city}'s NDVI data.\")\n",
    "    ndvi_schema = 'raster_analysis'\n",
    "    ndvi_table = 'ndvi_analysis_hex'\n",
    "    query = f\"SELECT * FROM {ndvi_schema}.{ndvi_table} WHERE \\\"city\\\" = '{city}\\' AND \\\"res\\\" = '{res}\\'\"\n",
    "    ndvi_gdf = aup.gdf_from_query(query, geometry_col='geometry')\n",
    "    ndvi_gdf.to_crs(projected_crs,inplace=True)\n",
    "    # Filter for urban areas if required\n",
    "    if filter_urban:\n",
    "        ndvi_gdf = ndvi_gdf.loc[ndvi_gdf.hex_id.isin(hexid_lst)].copy()\n",
    "    # Inf values check\n",
    "    infs = ndvi_gdf.loc[np.isinf(ndvi_gdf['ndvi_mean'])]\n",
    "    if len(infs)>0:\n",
    "        print(f\"WARNING: Dropping {len(infs)} hexs res {res} because of inf values.\")\n",
    "        ndvi_gdf = ndvi_gdf.loc[~np.isinf(ndvi_gdf['ndvi_mean'])].copy()\n",
    "\n",
    "    \n",
    "    # 2.0 --- --- --- CALCULATIONS --- --- ---\n",
    "    \n",
    "    # 2.1 --- CALCULATE NDVI SLOPE\n",
    "    print(f\"Calculating {city}'s NDVI slope.\")\n",
    "    years = np.array([2018, 2019, 2020, 2021, 2022, 2023])\n",
    "    # --- --- --- Calculate slopes\n",
    "    ndvi_columns = [f'ndvi_{year}' for year in years]\n",
    "    ndvi_gdf['ndvi_slope'] = ndvi_gdf.apply(calc_slope, args=(ndvi_columns,), axis=1)\n",
    "\n",
    "    # 2.2 --- CALCULATE NDVI CATEGORIES\n",
    "    # Create vegetation categories\n",
    "    ndvi_gdf['ndvi_median_rango'] = np.nan\n",
    "    ndvi_gdf.loc[ndvi_gdf.ndvi_median>=0.6 , 'ndvi_median_rango'] = 'Alta densidad vegetal'\n",
    "    ndvi_gdf.loc[(ndvi_gdf.ndvi_median>=0.4 )&\n",
    "                 (ndvi_gdf.ndvi_median<0.6), 'ndvi_median_rango'] = 'Moderada densidad vegetal'\n",
    "    ndvi_gdf.loc[(ndvi_gdf.ndvi_median>=0.2)&\n",
    "                 (ndvi_gdf.ndvi_median<0.4), 'ndvi_median_rango'] = 'Mínima densidad vegetal'\n",
    "    ndvi_gdf.loc[(ndvi_gdf.ndvi_median>=0.1)&\n",
    "                 (ndvi_gdf.ndvi_median<0.2), 'ndvi_median_rango'] = 'Suelo'\n",
    "    ndvi_gdf.loc[(ndvi_gdf.ndvi_median<0.1), 'ndvi_median_rango'] = 'Suelo artificial/Agua/Piedra'"
   ]
  },
  {
   "cell_type": "code",
   "execution_count": null,
   "id": "34e8a287-8f2c-41b5-90b3-7edc325d2730",
   "metadata": {},
   "outputs": [],
   "source": []
  }
 ],
 "metadata": {
  "kernelspec": {
   "display_name": "Python 3 (ipykernel)",
   "language": "python",
   "name": "python3"
  },
  "language_info": {
   "codemirror_mode": {
    "name": "ipython",
    "version": 3
   },
   "file_extension": ".py",
   "mimetype": "text/x-python",
   "name": "python",
   "nbconvert_exporter": "python",
   "pygments_lexer": "ipython3",
   "version": "3.12.3"
  }
 },
 "nbformat": 4,
 "nbformat_minor": 5
}
