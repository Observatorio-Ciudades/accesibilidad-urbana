{
 "cells": [
  {
   "cell_type": "markdown",
   "id": "bfc55c86-1b69-4df2-86ad-3d71cccd2245",
   "metadata": {},
   "source": [
    "# 01 - Santiago aoi"
   ]
  },
  {
   "cell_type": "markdown",
   "id": "912a6b34-636a-43c5-9276-480549e9b553",
   "metadata": {},
   "source": [
    "This notebook uploads from local to database Santiago's (Chile) area of interest"
   ]
  },
  {
   "cell_type": "code",
   "execution_count": 1,
   "id": "8c2b2a11-3ffb-45ba-82a8-7c33ee72dc44",
   "metadata": {},
   "outputs": [],
   "source": [
    "import os\n",
    "import sys\n",
    "\n",
    "import pandas as pd\n",
    "import geopandas as gpd\n",
    "import osmnx as ox\n",
    "import numpy as np\n",
    "\n",
    "import matplotlib.pyplot as plt\n",
    "import seaborn as sns\n",
    "\n",
    "import warnings\n",
    "warnings.simplefilter(action='ignore', category=FutureWarning)\n",
    "\n",
    "module_path = os.path.abspath(os.path.join('../../../'))\n",
    "if module_path not in sys.path:\n",
    "    sys.path.append(module_path)\n",
    "    import aup"
   ]
  },
  {
   "cell_type": "code",
   "execution_count": 6,
   "id": "efb24bdb-d81b-42d8-bb7a-658f5acf6027",
   "metadata": {},
   "outputs": [],
   "source": [
    "##### WARNING ##### WARNING ##### WARNING ##### WARNING ##### WARNING #####\n",
    "\n",
    "# save output to database?\n",
    "save = True\n",
    "\n",
    "##### WARNING ##### WARNING ##### WARNING ##### WARNING ##### WARNING #####"
   ]
  },
  {
   "cell_type": "markdown",
   "id": "c22b6f3b-44e0-4dac-98c1-102b3ff940a7",
   "metadata": {},
   "source": [
    "## Load data and add city column"
   ]
  },
  {
   "cell_type": "code",
   "execution_count": 2,
   "id": "38ce47b0-0451-42b2-b8ba-e52720655ab1",
   "metadata": {},
   "outputs": [
    {
     "name": "stdout",
     "output_type": "stream",
     "text": [
      "(1, 2)\n"
     ]
    },
    {
     "data": {
      "text/html": [
       "<div>\n",
       "<style scoped>\n",
       "    .dataframe tbody tr th:only-of-type {\n",
       "        vertical-align: middle;\n",
       "    }\n",
       "\n",
       "    .dataframe tbody tr th {\n",
       "        vertical-align: top;\n",
       "    }\n",
       "\n",
       "    .dataframe thead th {\n",
       "        text-align: right;\n",
       "    }\n",
       "</style>\n",
       "<table border=\"1\" class=\"dataframe\">\n",
       "  <thead>\n",
       "    <tr style=\"text-align: right;\">\n",
       "      <th></th>\n",
       "      <th>id</th>\n",
       "      <th>geometry</th>\n",
       "    </tr>\n",
       "  </thead>\n",
       "  <tbody>\n",
       "    <tr>\n",
       "      <th>0</th>\n",
       "      <td>None</td>\n",
       "      <td>MULTIPOLYGON (((-70.62985 -33.35908, -70.62627...</td>\n",
       "    </tr>\n",
       "  </tbody>\n",
       "</table>\n",
       "</div>"
      ],
      "text/plain": [
       "     id                                           geometry\n",
       "0  None  MULTIPOLYGON (((-70.62985 -33.35908, -70.62627..."
      ]
     },
     "execution_count": 2,
     "metadata": {},
     "output_type": "execute_result"
    }
   ],
   "source": [
    "aoi_dir = \"../../../data/external/temporal_todocker/santiago/proximidad/poligonosantiago_32719.gpkg\"\n",
    "aoi_gdf = gpd.read_file(aoi_dir)\n",
    "aoi_gdf = aoi_gdf.to_crs(\"EPSG:4326\")\n",
    "\n",
    "# Show\n",
    "print(aoi_gdf.shape)\n",
    "aoi_gdf.head(2)"
   ]
  },
  {
   "cell_type": "code",
   "execution_count": 3,
   "id": "1b07f951-fed8-460e-ab19-4a89a1798f32",
   "metadata": {},
   "outputs": [
    {
     "data": {
      "text/plain": [
       "<Axes: >"
      ]
     },
     "execution_count": 3,
     "metadata": {},
     "output_type": "execute_result"
    },
    {
     "data": {
      "image/png": "[encoded data removed]",
      "text/plain": [
       "<Figure size 640x480 with 1 Axes>"
      ]
     },
     "metadata": {},
     "output_type": "display_data"
    }
   ],
   "source": [
    "aoi_gdf.plot()"
   ]
  },
  {
   "cell_type": "code",
   "execution_count": 4,
   "id": "a8716fc0-96fd-49b3-90e0-7ced7bd5d858",
   "metadata": {},
   "outputs": [
    {
     "name": "stdout",
     "output_type": "stream",
     "text": [
      "(1, 2)\n"
     ]
    },
    {
     "data": {
      "text/html": [
       "<div>\n",
       "<style scoped>\n",
       "    .dataframe tbody tr th:only-of-type {\n",
       "        vertical-align: middle;\n",
       "    }\n",
       "\n",
       "    .dataframe tbody tr th {\n",
       "        vertical-align: top;\n",
       "    }\n",
       "\n",
       "    .dataframe thead th {\n",
       "        text-align: right;\n",
       "    }\n",
       "</style>\n",
       "<table border=\"1\" class=\"dataframe\">\n",
       "  <thead>\n",
       "    <tr style=\"text-align: right;\">\n",
       "      <th></th>\n",
       "      <th>city</th>\n",
       "      <th>geometry</th>\n",
       "    </tr>\n",
       "  </thead>\n",
       "  <tbody>\n",
       "    <tr>\n",
       "      <th>0</th>\n",
       "      <td>Santiago</td>\n",
       "      <td>MULTIPOLYGON (((-70.62985 -33.35908, -70.62627...</td>\n",
       "    </tr>\n",
       "  </tbody>\n",
       "</table>\n",
       "</div>"
      ],
      "text/plain": [
       "       city                                           geometry\n",
       "0  Santiago  MULTIPOLYGON (((-70.62985 -33.35908, -70.62627..."
      ]
     },
     "execution_count": 4,
     "metadata": {},
     "output_type": "execute_result"
    }
   ],
   "source": [
    "aoi_gdf['city'] = 'Santiago'\n",
    "aoi_gdf = aoi_gdf[['city','geometry']]\n",
    "\n",
    "# Show\n",
    "print(aoi_gdf.shape)\n",
    "aoi_gdf.head(2)"
   ]
  },
  {
   "cell_type": "markdown",
   "id": "0d62d9b8-bc49-4d2e-bd47-3233fc6e4166",
   "metadata": {},
   "source": [
    "## Save to database"
   ]
  },
  {
   "cell_type": "code",
   "execution_count": 7,
   "id": "10c2e295-8ba6-476e-ad98-723a9cf11ac6",
   "metadata": {},
   "outputs": [],
   "source": [
    "save_schema = 'projects_research'\n",
    "save_table = 'santiago_aoi'\n",
    "\n",
    "if save:\n",
    "    aup.gdf_to_db_slow(aoi_gdf, save_table, save_schema, if_exists='append')"
   ]
  },
  {
   "cell_type": "code",
   "execution_count": null,
   "id": "e14242bc-1ecd-40e3-b3b3-d906fbc992d2",
   "metadata": {},
   "outputs": [],
   "source": []
  }
 ],
 "metadata": {
  "kernelspec": {
   "display_name": "GDS-10.0",
   "language": "python",
   "name": "gds"
  },
  "language_info": {
   "codemirror_mode": {
    "name": "ipython",
    "version": 3
   },
   "file_extension": ".py",
   "mimetype": "text/x-python",
   "name": "python",
   "nbconvert_exporter": "python",
   "pygments_lexer": "ipython3",
   "version": "3.9.18"
  }
 },
 "nbformat": 4,
 "nbformat_minor": 5
}
