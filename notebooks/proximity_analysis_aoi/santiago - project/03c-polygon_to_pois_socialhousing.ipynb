{
 "cells": [
  {
   "cell_type": "markdown",
   "id": "742056c5-fc2b-476e-a173-5c5621fa508f",
   "metadata": {},
   "source": [
    "# Polygon to pois for social housing"
   ]
  },
  {
   "cell_type": "markdown",
   "id": "c023066b-79b6-40fa-9872-1d18b8c574d9",
   "metadata": {},
   "source": [
    "This notebook would originally distribute polygons of interest to points of interest using spatial join (Nodes that intersect social housing polygons would become social housing points of interest).\n",
    "\n",
    "However, since some polygons do not intersect with nodes, voronoi method was used.\n",
    "__This notebook was also used to upload the calculated voronoi polygons to database.__\n",
    "\n",
    "#### __Voronoi distribution method:__\n",
    "1. Divide area of interest in voronoi polygons using OSMnx nodes (layer santiago_voronoinodes). Keep osmid for which voronoi polygon was formed.\n",
    "2. Find voronoi polygons that intersect social housing (spatial join)\n",
    "3. Find unique osmids assigned to those voronoi polygons.\n",
    "4. From that list of unique osmids, select nodes. Those become pois.\n",
    "5. Renamed and saved layer (Nodes are already clipped to aoi)"
   ]
  },
  {
   "cell_type": "markdown",
   "id": "dc1c2e7c-737c-435f-be72-61cb4e5559d7",
   "metadata": {},
   "source": [
    "## Import libraries"
   ]
  },
  {
   "cell_type": "code",
   "execution_count": 1,
   "id": "b16dc7d2-a4db-4816-a185-c26ad520ced1",
   "metadata": {},
   "outputs": [],
   "source": [
    "import os\n",
    "import sys\n",
    "\n",
    "import pandas as pd\n",
    "import geopandas as gpd\n",
    "import osmnx as ox\n",
    "import numpy as np\n",
    "\n",
    "import matplotlib.pyplot as plt\n",
    "import seaborn as sns\n",
    "\n",
    "import warnings\n",
    "warnings.simplefilter(action='ignore', category=FutureWarning)\n",
    "\n",
    "module_path = os.path.abspath(os.path.join('../../../'))\n",
    "if module_path not in sys.path:\n",
    "    sys.path.append(module_path)\n",
    "    import aup"
   ]
  },
  {
   "cell_type": "code",
   "execution_count": 2,
   "id": "3d4afa84-4702-43d7-a66c-2edd86032843",
   "metadata": {},
   "outputs": [],
   "source": [
    "##### WARNING ##### WARNING ##### WARNING ##### WARNING ##### WARNING #####\n",
    "\n",
    "# save output to local AND database?\n",
    "save = True\n",
    "\n",
    "##### WARNING ##### WARNING ##### WARNING ##### WARNING ##### WARNING #####"
   ]
  },
  {
   "cell_type": "markdown",
   "id": "71d5992f-713f-4aa0-9a80-16620d1afdaf",
   "metadata": {},
   "source": [
    "## Load data"
   ]
  },
  {
   "cell_type": "markdown",
   "id": "5d2d56f9-0d30-4659-bb19-8346d71dd77d",
   "metadata": {},
   "source": [
    "### Load data - Social housing polygons (Has pois data)"
   ]
  },
  {
   "cell_type": "code",
   "execution_count": 3,
   "id": "2aa9e5a3-3e19-4957-9119-d997b2c5abf9",
   "metadata": {},
   "outputs": [
    {
     "name": "stdout",
     "output_type": "stream",
     "text": [
      "(4412, 2)\n"
     ]
    },
    {
     "data": {
      "text/html": [
       "<div>\n",
       "<style scoped>\n",
       "    .dataframe tbody tr th:only-of-type {\n",
       "        vertical-align: middle;\n",
       "    }\n",
       "\n",
       "    .dataframe tbody tr th {\n",
       "        vertical-align: top;\n",
       "    }\n",
       "\n",
       "    .dataframe thead th {\n",
       "        text-align: right;\n",
       "    }\n",
       "</style>\n",
       "<table border=\"1\" class=\"dataframe\">\n",
       "  <thead>\n",
       "    <tr style=\"text-align: right;\">\n",
       "      <th></th>\n",
       "      <th>housing</th>\n",
       "      <th>geometry</th>\n",
       "    </tr>\n",
       "  </thead>\n",
       "  <tbody>\n",
       "    <tr>\n",
       "      <th>0</th>\n",
       "      <td>200</td>\n",
       "      <td>MULTIPOLYGON (((-70.38324 -23.56441, -70.38263...</td>\n",
       "    </tr>\n",
       "    <tr>\n",
       "      <th>1</th>\n",
       "      <td>11</td>\n",
       "      <td>MULTIPOLYGON (((-70.37756 -23.60749, -70.37759...</td>\n",
       "    </tr>\n",
       "  </tbody>\n",
       "</table>\n",
       "</div>"
      ],
      "text/plain": [
       "   housing                                           geometry\n",
       "0      200  MULTIPOLYGON (((-70.38324 -23.56441, -70.38263...\n",
       "1       11  MULTIPOLYGON (((-70.37756 -23.60749, -70.37759..."
      ]
     },
     "execution_count": 3,
     "metadata": {},
     "output_type": "execute_result"
    }
   ],
   "source": [
    "# Load data\n",
    "vivienda_social_dir = \"../../../data/external/temporal_todocker/santiago/proximidad/CECYT_CVS_2020_32719.gpkg\"\n",
    "vivienda_social = gpd.read_file(vivienda_social_dir)\n",
    "vivienda_social = vivienda_social.to_crs(\"EPSG:4326\")\n",
    "\n",
    "# Filter for data of interest\n",
    "vivienda_social = vivienda_social[['Total_de_v','geometry']].copy()\n",
    "vivienda_social.rename(columns={'Total_de_v':'housing'},inplace=True)\n",
    "\n",
    "# Show\n",
    "print(vivienda_social.shape)\n",
    "vivienda_social.head(2)"
   ]
  },
  {
   "cell_type": "markdown",
   "id": "c7c8fc7c-cf87-4157-84c6-67447d08ce50",
   "metadata": {},
   "source": [
    "### Load data - Nodes (Will become pois geometry)"
   ]
  },
  {
   "cell_type": "code",
   "execution_count": 4,
   "id": "99e9e00c-8514-4dfc-a4b4-d38645784998",
   "metadata": {},
   "outputs": [],
   "source": [
    "# Area of interest (Run bigger since we can clip data as soon as we know inputs extent)\n",
    "city = 'AM_Santiago'\n",
    "\n",
    "# Database schemas and tables (Shouldn't change for this project)\n",
    "# Area of interest (aoi)\n",
    "aoi_schema = 'projects_research'\n",
    "aoi_table = 'santiago_aoi'\n",
    "# OSMnx Network\n",
    "network_schema = 'projects_research'\n",
    "edges_table = 'santiago_edges'\n",
    "nodes_table = 'santiago_nodes'\n",
    "projected_crs = 'EPSG:32719'"
   ]
  },
  {
   "cell_type": "code",
   "execution_count": null,
   "id": "834ba1ee-e610-4a47-92fa-9e3f072b3bd4",
   "metadata": {},
   "outputs": [],
   "source": [
    "# Area of interest (aoi)\n",
    "query = f\"SELECT * FROM {aoi_schema}.{aoi_table} WHERE \\\"city\\\" LIKE \\'{city}\\'\"\n",
    "aoi = aup.gdf_from_query(query, geometry_col='geometry')\n",
    "aoi = aoi.set_crs(\"EPSG:4326\")\n",
    "\n",
    "# OSMnx Network\n",
    "G, nodes, edges = aup.graph_from_hippo(aoi, network_schema, edges_table, nodes_table, projected_crs)\n",
    "\n",
    "# Show\n",
    "fig,ax = plt.subplots(figsize=(10,10))\n",
    "edges.plot(ax=ax,zorder=1,linewidth=0.5,edgecolor='lightgray')\n",
    "aoi.plot(ax=ax,facecolor='None',edgecolor='red',linewidth=3)"
   ]
  },
  {
   "cell_type": "markdown",
   "id": "15093117-7d94-4908-9d9d-f0e56e192287",
   "metadata": {
    "jp-MarkdownHeadingCollapsed": true
   },
   "source": [
    "## Data treatment 1 (Fail) - Social housing to nodes using spatial join.\n",
    "#### __Problem: Nodes fall outside social housing polygons.__"
   ]
  },
  {
   "cell_type": "markdown",
   "id": "1167b32b-7376-49b6-8e7d-a531f9701e07",
   "metadata": {},
   "source": [
    "### Data treatment 1 - Social housing to nodes (Spatial join)"
   ]
  },
  {
   "cell_type": "code",
   "execution_count": 7,
   "id": "018c7c1d-7c31-452f-9198-3dcc1e383abc",
   "metadata": {},
   "outputs": [
    {
     "name": "stdout",
     "output_type": "stream",
     "text": [
      "(23472, 2)\n"
     ]
    },
    {
     "data": {
      "text/html": [
       "<div>\n",
       "<style scoped>\n",
       "    .dataframe tbody tr th:only-of-type {\n",
       "        vertical-align: middle;\n",
       "    }\n",
       "\n",
       "    .dataframe tbody tr th {\n",
       "        vertical-align: top;\n",
       "    }\n",
       "\n",
       "    .dataframe thead th {\n",
       "        text-align: right;\n",
       "    }\n",
       "</style>\n",
       "<table border=\"1\" class=\"dataframe\">\n",
       "  <thead>\n",
       "    <tr style=\"text-align: right;\">\n",
       "      <th></th>\n",
       "      <th>housing</th>\n",
       "      <th>geometry</th>\n",
       "    </tr>\n",
       "    <tr>\n",
       "      <th>osmid</th>\n",
       "      <th></th>\n",
       "      <th></th>\n",
       "    </tr>\n",
       "  </thead>\n",
       "  <tbody>\n",
       "    <tr>\n",
       "      <th>266260549</th>\n",
       "      <td>444</td>\n",
       "      <td>POINT (-70.78342 -33.52187)</td>\n",
       "    </tr>\n",
       "    <tr>\n",
       "      <th>266260573</th>\n",
       "      <td>444</td>\n",
       "      <td>POINT (-70.78385 -33.52188)</td>\n",
       "    </tr>\n",
       "  </tbody>\n",
       "</table>\n",
       "</div>"
      ],
      "text/plain": [
       "           housing                     geometry\n",
       "osmid                                          \n",
       "266260549      444  POINT (-70.78342 -33.52187)\n",
       "266260573      444  POINT (-70.78385 -33.52188)"
      ]
     },
     "execution_count": 7,
     "metadata": {},
     "output_type": "execute_result"
    }
   ],
   "source": [
    "# Clip pois to aoi\n",
    "source_pois = gpd.sjoin(nodes, vivienda_social)\n",
    "source_pois = source_pois[['housing','geometry']]\n",
    "\n",
    "# Show\n",
    "print(source_pois.shape)\n",
    "source_pois.head(2)"
   ]
  },
  {
   "cell_type": "markdown",
   "id": "8e82cbff-501c-4c41-a4b4-bf4afb3b42f7",
   "metadata": {},
   "source": [
    "### Data treatment 1 - Confirm joined data"
   ]
  },
  {
   "cell_type": "code",
   "execution_count": 25,
   "id": "9cd29ef6-8f33-4ff3-8743-b556ab2561b3",
   "metadata": {},
   "outputs": [
    {
     "name": "stdout",
     "output_type": "stream",
     "text": [
      "574\n"
     ]
    }
   ],
   "source": [
    "print(len(vivienda_social.housing.unique()))"
   ]
  },
  {
   "cell_type": "code",
   "execution_count": 26,
   "id": "84f11cc8-4949-417b-91cf-369de6273b13",
   "metadata": {},
   "outputs": [
    {
     "name": "stdout",
     "output_type": "stream",
     "text": [
      "425\n"
     ]
    }
   ],
   "source": [
    "print(len(source_pois.housing.unique()))"
   ]
  },
  {
   "cell_type": "markdown",
   "id": "9b056187-cb67-44a9-a11e-bba593de07b1",
   "metadata": {},
   "source": [
    "## Data treatment 2 (Success) - Create and use voronoi distribution"
   ]
  },
  {
   "cell_type": "markdown",
   "id": "36cc69e9-07a0-45b9-9d60-5deb7b6aa434",
   "metadata": {},
   "source": [
    "### Data treatment 2 - Create voronoi distribution"
   ]
  },
  {
   "cell_type": "code",
   "execution_count": null,
   "id": "e68eab5c-4b64-4eb9-98c3-b4a9209125fd",
   "metadata": {},
   "outputs": [],
   "source": [
    "aoi.plot()"
   ]
  },
  {
   "cell_type": "code",
   "execution_count": null,
   "id": "af718dc1-9ad7-4073-b7b5-c33a9836d625",
   "metadata": {},
   "outputs": [],
   "source": [
    "nodes_gdf = nodes.reset_index().copy()\n",
    "\n",
    "# Show\n",
    "print(nodes_gdf.shape)\n",
    "nodes_gdf.head(1)"
   ]
  },
  {
   "cell_type": "code",
   "execution_count": null,
   "id": "e9350f28-4c4b-4047-b02c-28d39c71394a",
   "metadata": {},
   "outputs": [],
   "source": [
    "voronois_gdf = aup.voronoi_points_within_aoi(aoi, nodes_gdf, points_id_col='osmid',projected_crs=projected_crs)\n",
    "\n",
    "# Show\n",
    "print(voronois_gdf.shape)\n",
    "voronois_gdf.head(1)"
   ]
  },
  {
   "cell_type": "code",
   "execution_count": null,
   "id": "7dc1c3df-fa98-4437-b049-06c400d8ee7e",
   "metadata": {},
   "outputs": [],
   "source": [
    "voronois_gdf.drop(columns=['index_right'],inplace=True)\n",
    "\n",
    "# Show\n",
    "print(voronois_gdf.shape)\n",
    "voronois_gdf.head(1)"
   ]
  },
  {
   "cell_type": "code",
   "execution_count": 38,
   "id": "f8659c53-f856-4dfc-921f-fc18212283cf",
   "metadata": {},
   "outputs": [],
   "source": [
    "if save:\n",
    "    voronois_gdf.to_file('../../../data/external/temporal_fromjupyter/santiago/nodes_voronoi.gpkg', driver='GPKG')"
   ]
  },
  {
   "cell_type": "code",
   "execution_count": null,
   "id": "422f0704-4ccc-499a-814d-b7543c56354c",
   "metadata": {},
   "outputs": [],
   "source": [
    "if save:\n",
    "    aup.gdf_to_db_slow(voronois_gdf, 'santiago_voronoinodes', 'projects_research', if_exists='replace')"
   ]
  },
  {
   "cell_type": "markdown",
   "id": "6907babe-337d-4e9c-8ba8-1fe39f045931",
   "metadata": {},
   "source": [
    "### Data treatment 2 - Use voronoi distribution to find nodes close/in social housing polygons"
   ]
  },
  {
   "cell_type": "code",
   "execution_count": null,
   "id": "dd6b4fa7-95ac-400a-9588-f29628a949d9",
   "metadata": {},
   "outputs": [],
   "source": [
    "# Keeps voronois polygons (no clipping, complete) that intersect with social housing polygons.\n",
    "# If two or more housing polygons intersect the same voronoi polygon, keeps housing data of last processed polygon\n",
    "# (Will not be using housing data, just unique osmids)\n",
    "source_polys = gpd.sjoin(voronois_gdf, vivienda_social)\n",
    "\n",
    "# Show\n",
    "print(source_polys.shape)\n",
    "source_polys.head(1)"
   ]
  },
  {
   "cell_type": "code",
   "execution_count": 57,
   "id": "abb94ebe-4bbc-4b9e-b219-f1409745a1a8",
   "metadata": {},
   "outputs": [],
   "source": [
    "# QGIS review\n",
    "if save:\n",
    "    source_polys.to_file('../../../data/external/temporal_fromjupyter/santiago/source_polys_test.gpkg', driver='GPKG')"
   ]
  },
  {
   "cell_type": "code",
   "execution_count": null,
   "id": "12069b3b-b6b1-49de-8da8-7372d1a6eed9",
   "metadata": {},
   "outputs": [],
   "source": [
    "social_housing_osmids = list(source_polys.osmid.unique())\n",
    "len(social_housing_osmids)"
   ]
  },
  {
   "cell_type": "code",
   "execution_count": null,
   "id": "c80f48fb-19ab-48b5-b34e-5dd1932869e9",
   "metadata": {},
   "outputs": [],
   "source": [
    "source_pois = nodes_gdf.loc[nodes_gdf.osmid.isin(social_housing_osmids)]\n",
    "\n",
    "# Show\n",
    "print(source_pois.shape)\n",
    "source_pois.head(1)"
   ]
  },
  {
   "cell_type": "code",
   "execution_count": null,
   "id": "646193a6-8394-4349-aa47-b2f7b108e420",
   "metadata": {},
   "outputs": [],
   "source": [
    "if save:\n",
    "    source_pois.to_file('../../../data/external/temporal_fromjupyter/santiago/pois/viv_social.gpkg', driver='GPKG')"
   ]
  },
  {
   "cell_type": "code",
   "execution_count": null,
   "id": "32a842a8-14d1-4eab-9d9c-4215e2e91dc9",
   "metadata": {},
   "outputs": [],
   "source": []
  }
 ],
 "metadata": {
  "kernelspec": {
   "display_name": "GDS-10.0",
   "language": "python",
   "name": "gds"
  },
  "language_info": {
   "codemirror_mode": {
    "name": "ipython",
    "version": 3
   },
   "file_extension": ".py",
   "mimetype": "text/x-python",
   "name": "python",
   "nbconvert_exporter": "python",
   "pygments_lexer": "ipython3",
   "version": "3.9.18"
  }
 },
 "nbformat": 4,
 "nbformat_minor": 5
}
