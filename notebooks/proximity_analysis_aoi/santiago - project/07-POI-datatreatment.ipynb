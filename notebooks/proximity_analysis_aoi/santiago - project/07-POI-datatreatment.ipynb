{
 "cells": [
  {
   "cell_type": "markdown",
   "id": "4b266f13-453b-4241-8581-3e74af115df0",
   "metadata": {},
   "source": [
    "# Delete duplicate values from POI"
   ]
  },
  {
   "cell_type": "code",
   "execution_count": 1,
   "id": "29d6fafa-129e-4450-8bdd-d6551e05097f",
   "metadata": {
    "scrolled": true
   },
   "outputs": [
    {
     "name": "stderr",
     "output_type": "stream",
     "text": [
      "/home/edgaregurrola/Repos/observatorio-ciudades/accesibilidad-urbana/aup/data.py:24: UserWarning: The `utils.config` function is deprecated and will be removed in a future release. Instead, use the `settings` module directly to configure a global setting's value. For example, `ox.settings.log_console=True`.\n",
      "  ox.config(\n"
     ]
    }
   ],
   "source": [
    "import geopandas as gpd\n",
    "import pandas as pd\n",
    "import numpy as np\n",
    "\n",
    "import warnings\n",
    "warnings.simplefilter(action='ignore', category=FutureWarning)\n",
    "\n",
    "import os\n",
    "import sys\n",
    "module_path = os.path.abspath(os.path.join('../../../'))\n",
    "if module_path not in sys.path:\n",
    "    sys.path.append(module_path)\n",
    "    import aup"
   ]
  },
  {
   "cell_type": "markdown",
   "id": "9edf6b8f-5af6-4eee-b093-76ec7c607570",
   "metadata": {},
   "source": [
    "## Define required treatment"
   ]
  },
  {
   "cell_type": "code",
   "execution_count": 11,
   "id": "da93fedb-43a3-474d-81e4-5f610ff4a4cd",
   "metadata": {},
   "outputs": [],
   "source": [
    "source_list = ['','','',\n",
    "                   'supermercado','clinica_priv','clinica_pub',\n",
    "                   'hospital_priv','hospital_pub','',\n",
    "                   'consult_ado_priv','consult_ado_pub',\n",
    "                   '','eq_deportivo_pub','',\n",
    "                   'tax_collection','feria','ep_plaza_big',\n",
    "                   '','museos_priv','museos_pub','sitios_historicos',\n",
    "                   '','','','edu_basica_priv',\n",
    "                   'edu_basica_pub','edu_media_priv','edu_media_pub',\n",
    "                   '','jardin_inf_pub','edu_especial_priv',\n",
    "                   'edu_especial_pub','bibliotecas']\n",
    "treat_dict = {('carniceria','supermercado','club_deportivo'):['rut','rzn_scl','geometry'],\n",
    "           ('hogar','local_mini_market','farmacia',\n",
    "           'banco','cines','restaurantes_bar_cafe','librerias',\n",
    "           'jardin_inf_priv'):['rut','empresa','geometry'],\n",
    "             ('eq_deportivo_priv','eq_deportivo_pub'):['nombre','sector','geometry']}"
   ]
  },
  {
   "cell_type": "markdown",
   "id": "563a554c-6c88-4b44-8366-51f60540dc04",
   "metadata": {},
   "source": [
    "## Data processing"
   ]
  },
  {
   "cell_type": "code",
   "execution_count": 13,
   "id": "9ff5034d-8cf9-403e-93e1-8b3b2958e41d",
   "metadata": {},
   "outputs": [],
   "source": [
    "grl_dir = '../../../data/processed/00_pois_formated/'"
   ]
  },
  {
   "cell_type": "code",
   "execution_count": 19,
   "id": "58d3b69b-89fa-4e45-9449-76184589594d",
   "metadata": {},
   "outputs": [],
   "source": [
    "for key in treat_dict.keys():\n",
    "    for source in key:\n",
    "        gdf = gpd.read_file(grl_dir+source+'.gpkg')\n",
    "        gdf.columns= gdf.columns.str.lower()\n",
    "        aup.log(f'Current data for {source} is {len(gdf)}')\n",
    "        gdf = gdf.drop_duplicates(treat_dict[key])\n",
    "        aup.log(f'After processing data for {source} is reduced to {len(gdf)}')\n",
    "        gdf.to_file(grl_dir+source+'.gpkg')"
   ]
  },
  {
   "cell_type": "code",
   "execution_count": null,
   "id": "4ff4c340-391a-4a24-936c-4890a4b671a1",
   "metadata": {},
   "outputs": [],
   "source": []
  }
 ],
 "metadata": {
  "kernelspec": {
   "display_name": "odc",
   "language": "python",
   "name": "odc"
  },
  "language_info": {
   "codemirror_mode": {
    "name": "ipython",
    "version": 3
   },
   "file_extension": ".py",
   "mimetype": "text/x-python",
   "name": "python",
   "nbconvert_exporter": "python",
   "pygments_lexer": "ipython3",
   "version": "3.10.4"
  }
 },
 "nbformat": 4,
 "nbformat_minor": 5
}
