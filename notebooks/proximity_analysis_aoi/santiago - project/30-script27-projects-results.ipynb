{
 "cells": [
  {
   "cell_type": "markdown",
   "id": "58ea5e07-bad5-4412-84de-b09d53689058",
   "metadata": {},
   "source": [
    "## Import libraries"
   ]
  },
  {
   "cell_type": "code",
   "execution_count": 4,
   "id": "b405feb6-7bc8-45f5-b10d-5b262c26a6f3",
   "metadata": {},
   "outputs": [],
   "source": [
    "accesibilidad_urbana = \"../../../\""
   ]
  },
  {
   "cell_type": "code",
   "execution_count": 5,
   "id": "955f75cf-b9e8-443e-9462-95f555abb068",
   "metadata": {},
   "outputs": [],
   "source": [
    "import os\n",
    "import sys\n",
    "\n",
    "import pandas as pd\n",
    "import geopandas as gpd\n",
    "import osmnx as ox\n",
    "import numpy as np\n",
    "\n",
    "import matplotlib.pyplot as plt\n",
    "import seaborn as sns\n",
    "\n",
    "import warnings\n",
    "warnings.simplefilter(action='ignore', category=FutureWarning)\n",
    "\n",
    "module_path = os.path.abspath(os.path.join(accesibilidad_urbana))\n",
    "if module_path not in sys.path:\n",
    "    sys.path.append(module_path)\n",
    "    import aup"
   ]
  },
  {
   "cell_type": "markdown",
   "id": "b4cb0e41-ae69-4f64-9108-46118ef76e2a",
   "metadata": {},
   "source": [
    "## Notebook config"
   ]
  },
  {
   "cell_type": "code",
   "execution_count": 6,
   "id": "7e042311-e4a8-4b73-9c90-2e24a3fc98e3",
   "metadata": {},
   "outputs": [],
   "source": [
    "script27_output_dir = accesibilidad_urbana + \"data/external/santiago/output/\""
   ]
  },
  {
   "cell_type": "markdown",
   "id": "2768798a-a170-4ebf-b58a-4fd52db59b54",
   "metadata": {},
   "source": [
    "## Load data"
   ]
  },
  {
   "cell_type": "code",
   "execution_count": 9,
   "id": "c9108bfa-59f1-4a38-a32b-c5f2d7e05e7f",
   "metadata": {},
   "outputs": [],
   "source": [
    "# red_buena_calidad (project_01)\n",
    "baseline_hexproximity = gpd.read_file(script27_output_dir + \"project_01/santiago_hexproximity_project_01.gpkg\")\n",
    "baseline_hexvariablesanalysis = gpd.read_file(script27_output_dir + \"project_01/santiago_hexvariablesanalysis_project_01.gpkg\")\n",
    "baseline_hexanalysis = gpd.read_file(script27_output_dir + \"project_01/santiago_hexanalysis_project_01.gpkg\")\n",
    "\n",
    "# red_buena_calidad_pza_italia (project_02)\n",
    "plazaitalia_hexproximity = gpd.read_file(script27_output_dir + \"project_02/santiago_hexproximity_project_02.gpkg\")\n",
    "plazaitalia_hexvariablesanalysis = gpd.read_file(script27_output_dir + \"project_02/santiago_hexvariablesanalysis_project_02.gpkg\")\n",
    "plazaitalia_hexanalysis = gpd.read_file(script27_output_dir + \"project_02/santiago_hexanalysis_project_02.gpkg\")\n",
    "\n",
    "# red_buena_calidad_norte_sur (project_03)\n",
    "nortesur_hexproximity = gpd.read_file(script27_output_dir + \"project_03/santiago_hexproximity_project_03.gpkg\")\n",
    "nortesur_hexvariablesanalysis = gpd.read_file(script27_output_dir + \"project_03/santiago_hexvariablesanalysis_project_03.gpkg\")\n",
    "nortesur_hexanalysis = gpd.read_file(script27_output_dir + \"project_03/santiago_hexanalysis_project_03.gpkg\")\n",
    "\n",
    "# red_buena_calidad_parque_bueras (project_04)\n",
    "parquebueras_hexproximity = gpd.read_file(script27_output_dir + \"project_04/santiago_hexproximity_project_04.gpkg\")\n",
    "parquebueras_hexvariablesanalysis = gpd.read_file(script27_output_dir + \"project_04/santiago_hexvariablesanalysis_project_04.gpkg\")\n",
    "parquebueras_hexanalysis = gpd.read_file(script27_output_dir + \"project_04/santiago_hexanalysis_project_04.gpkg\")"
   ]
  },
  {
   "cell_type": "code",
   "execution_count": 10,
   "id": "2352d96e-563f-484c-9c28-39e572b91a6d",
   "metadata": {},
   "outputs": [
    {
     "name": "stdout",
     "output_type": "stream",
     "text": [
      "EPSG:4326\n",
      "EPSG:4326\n",
      "EPSG:4326\n"
     ]
    }
   ],
   "source": [
    "print(baseline_hexproximity.crs)\n",
    "print(baseline_hexvariablesanalysis.crs)\n",
    "print(baseline_hexanalysis.crs)"
   ]
  },
  {
   "cell_type": "markdown",
   "id": "aed96acf-5fb6-471a-b538-2f4e88b89fba",
   "metadata": {},
   "source": [
    "## Data comparisons - Proximity"
   ]
  },
  {
   "cell_type": "markdown",
   "id": "bdb8ef20-cd88-4310-9fe7-6a8a0cc65a87",
   "metadata": {},
   "source": [
    "This cell compares the baseline proximity to any given project proximity and saves the result to a gdf. The gdf contains:\n",
    "* The difference for each attribute in a column (for each hex).\n",
    "* Whether there was a possitive (increase) or negative (decrease) change in ANY time or count column (for each hex).\n",
    "\n",
    "__Result:__ There IS a problem. Some hexs (not those directly below project interventions/new node creations) registered more time before the project than after."
   ]
  },
  {
   "cell_type": "code",
   "execution_count": 43,
   "id": "6eccfa2e-a428-47b9-adea-f46964a0711b",
   "metadata": {},
   "outputs": [],
   "source": [
    "# Comparing projects: plazaitalia_hexproximity, nortesur_hexproximity, parquebueras_hexproximity\n",
    "# Comparing projects ids: '02', '03', '04'\n",
    "comparing_project = parquebueras_hexproximity.copy()\n",
    "project_id = '04'\n",
    "# Save result to local?\n",
    "save = True\n",
    "\n",
    "def compare_proximity(comparing_project,project_id,save):\n",
    "    # ----------\n",
    "    attributes_list = ['carniceria_time','carniceria_count_15min','hogar_time','hogar_count_15min','bakeries_time','bakeries_count_15min',\n",
    "                       'supermercado_time','supermercado_count_15min','banco_time','banco_count_15min','ferias_time','ferias_count_15min',\n",
    "                       'local_mini_market_time','local_mini_market_count_15min','correos_time','correos_count_15min','centro_recyc_time','centro_recyc_count_15min',\n",
    "                       'hospital_priv_time','hospital_priv_count_15min','hospital_pub_time','hospital_pub_count_15min','clinica_priv_time','clinica_priv_count_15min',\n",
    "                       'clinica_pub_time','clinica_pub_count_15min','farmacia_time','farmacia_count_15min','vacunatorio_priv_time','vacunatorio_priv_count_15min',\n",
    "                       'vacunatorio_pub_time','vacunatorio_pub_count_15min','consult_ado_priv_time','consult_ado_priv_count_15min','consult_ado_pub_time','consult_ado_pub_count_15min',\n",
    "                       'salud_mental_time','salud_mental_count_15min','labs_priv_time','labs_priv_count_15min','residencia_adumayor_time','residencia_adumayor_count_15min',\n",
    "                       'eq_deportivo_priv_time','eq_deportivo_priv_count_15min','eq_deportivo_pub_time','eq_deportivo_pub_count_15min','club_deportivo_time','club_deportivo_count_15min',\n",
    "                       'civic_office_time','civic_office_count_15min','tax_collection_time','tax_collection_count_15min','social_security_time','social_security_count_15min',\n",
    "                       'police_time','police_count_15min','bomberos_time','bomberos_count_15min','museos_priv_time','museos_priv_count_15min','museos_pub_time','museos_pub_count_15min',\n",
    "                       'cines_time','cines_count_15min','sitios_historicos_time','sitios_historicos_count_15min','restaurantes_bar_cafe_time','restaurantes_bar_cafe_count_15min',\n",
    "                       'librerias_time','librerias_count_15min','ep_plaza_small_time','ep_plaza_small_count_15min','ep_plaza_big_time','ep_plaza_big_count_15min',\n",
    "                       'edu_basica_pub_time','edu_basica_pub_count_15min','edu_media_pub_time','edu_media_pub_count_15min','jardin_inf_pub_time','jardin_inf_pub_count_15min',\n",
    "                       'universidad_time','universidad_count_15min','edu_tecnica_time','edu_tecnica_count_15min','edu_adultos_pub_time','edu_adultos_pub_count_15min',\n",
    "                       'edu_especial_pub_time','edu_especial_pub_count_15min','bibliotecas_time','bibliotecas_count_15min','centro_edu_amb_time','centro_edu_amb_count_15min',\n",
    "                       'paradas_tp_ruta_time','paradas_tp_ruta_count_15min','paradas_tp_metro_time','paradas_tp_metro_count_15min','paradas_tp_tren_time','paradas_tp_tren_count_15min',\n",
    "                       'ciclovias_time','ciclovias_count_15min','estaciones_bicicletas_time','estaciones_bicicletas_count_15min']\n",
    "    \n",
    "    # ---------- Merge baseline and comparing project data\n",
    "    both_gdfs = pd.merge(baseline_hexproximity,comparing_project[['hex_id']+proximity_columns],on='hex_id')\n",
    "    \n",
    "    # ---------- Compare baseline (old) and project (new) attributes, saving the difference in a col and\n",
    "    #            identifying hexs where time or count increased or decreased for any attribute.\n",
    "    \n",
    "    # Set to empty/0\n",
    "    compare_list = []\n",
    "    both_gdfs['time_increase'] = 0\n",
    "    both_gdfs['time_decrease'] = 0\n",
    "    both_gdfs['count_increase'] = 0\n",
    "    both_gdfs['count_decrease'] = 0\n",
    "    \n",
    "    # Iterate over each attribute\n",
    "    for attribute in attributes_list:\n",
    "    \n",
    "        # Find attribute difference\n",
    "        old_attribute = f\"{attribute}_x\"\n",
    "        new_attribute = f\"{attribute}_y\"\n",
    "        both_gdfs[f\"{attribute}_diff\"] = both_gdfs[new_attribute] - both_gdfs[old_attribute]\n",
    "    \n",
    "        # Register positive or negative difference\n",
    "        if 'time' in attribute:\n",
    "            idx_1 = both_gdfs[f\"{attribute}_diff\"]>0\n",
    "            both_gdfs.loc[idx_1,'time_increase'] = 1\n",
    "            idx_2 = both_gdfs[f\"{attribute}_diff\"]<0\n",
    "            both_gdfs.loc[idx_2,'time_decrease'] = 1\n",
    "            \n",
    "        elif 'count' in attribute:\n",
    "            idx_3 = both_gdfs[f\"{attribute}_diff\"]>0\n",
    "            both_gdfs.loc[idx_3,'count_increase'] = 1\n",
    "            idx_4 = both_gdfs[f\"{attribute}_diff\"]<0\n",
    "            both_gdfs.loc[idx_4,'count_decrease'] = 1\n",
    "    \n",
    "    # Save result\n",
    "    if save:\n",
    "        both_gdfs.to_file(script27_output_dir + f\"project_{project_id}_proximity_changes.gpkg\", driver='GPKG')"
   ]
  },
  {
   "cell_type": "markdown",
   "id": "266abf22-3248-4a7a-9a95-5998e5341f38",
   "metadata": {},
   "source": [
    "## Finding problem"
   ]
  },
  {
   "cell_type": "markdown",
   "id": "1614a68b-3378-4e0f-b3da-f4afa7ec2aee",
   "metadata": {},
   "source": [
    "Project_02(plaza italia) presents no problem, while Project_03(norte sur) and Project_04(parque bueras) have problems."
   ]
  },
  {
   "cell_type": "markdown",
   "id": "acb597e6-d210-4a68-8125-84fe195e8002",
   "metadata": {},
   "source": [
    "### Finding problem - Test 1: Is the network/code the problem? Or is the problem located in project_03 and project_04 specifically?"
   ]
  },
  {
   "cell_type": "markdown",
   "id": "33698b5c-75e3-4f87-bc34-32964e84d255",
   "metadata": {},
   "source": [
    "* __Approach:__ Re-do network process in QGIS for Project_00(baseline) and project_01(plaza_italia) and re-run __without changing code.__\n",
    "* __Result:__ Re-doing the network and re-running plaza italia resulted in Plaza Italia having problems. But could also be the code, not the network."
   ]
  },
  {
   "cell_type": "markdown",
   "id": "ac5230c4-db18-4ad1-904f-88963ddfc248",
   "metadata": {},
   "source": [
    "### Finding problem - Test 2: Was the algorithm changed between projects?"
   ]
  },
  {
   "cell_type": "markdown",
   "id": "07b3bbce-69af-4c19-bbb3-4133b7620c0e",
   "metadata": {},
   "source": [
    "* __Approach:__ Run Project_00(baseline) and project_01(plaza_italia) again __without changing anything (same old existing network)__ and re-test to see if problems emerge.\n",
    "* __Result:__ Re-using the old network results in the correct result for Plaza Italia. __The problem is located in how the network is created.__"
   ]
  },
  {
   "cell_type": "code",
   "execution_count": 45,
   "id": "156d4fb0-c783-4fae-9e4d-cc6d29694091",
   "metadata": {},
   "outputs": [
    {
     "name": "stderr",
     "output_type": "stream",
     "text": [
      "/opt/conda/envs/gds/lib/python3.9/site-packages/geopandas/geodataframe.py:1525: PerformanceWarning: DataFrame is highly fragmented.  This is usually the result of calling `frame.insert` many times, which has poor performance.  Consider joining all columns at once using pd.concat(axis=1) instead. To get a de-fragmented frame, use `newframe = frame.copy()`\n",
      "  super().__setitem__(key, value)\n",
      "/opt/conda/envs/gds/lib/python3.9/site-packages/geopandas/geodataframe.py:1525: PerformanceWarning: DataFrame is highly fragmented.  This is usually the result of calling `frame.insert` many times, which has poor performance.  Consider joining all columns at once using pd.concat(axis=1) instead. To get a de-fragmented frame, use `newframe = frame.copy()`\n",
      "  super().__setitem__(key, value)\n",
      "/opt/conda/envs/gds/lib/python3.9/site-packages/geopandas/geodataframe.py:1525: PerformanceWarning: DataFrame is highly fragmented.  This is usually the result of calling `frame.insert` many times, which has poor performance.  Consider joining all columns at once using pd.concat(axis=1) instead. To get a de-fragmented frame, use `newframe = frame.copy()`\n",
      "  super().__setitem__(key, value)\n",
      "/opt/conda/envs/gds/lib/python3.9/site-packages/geopandas/geodataframe.py:1525: PerformanceWarning: DataFrame is highly fragmented.  This is usually the result of calling `frame.insert` many times, which has poor performance.  Consider joining all columns at once using pd.concat(axis=1) instead. To get a de-fragmented frame, use `newframe = frame.copy()`\n",
      "  super().__setitem__(key, value)\n",
      "/opt/conda/envs/gds/lib/python3.9/site-packages/geopandas/geodataframe.py:1525: PerformanceWarning: DataFrame is highly fragmented.  This is usually the result of calling `frame.insert` many times, which has poor performance.  Consider joining all columns at once using pd.concat(axis=1) instead. To get a de-fragmented frame, use `newframe = frame.copy()`\n",
      "  super().__setitem__(key, value)\n",
      "/opt/conda/envs/gds/lib/python3.9/site-packages/geopandas/geodataframe.py:1525: PerformanceWarning: DataFrame is highly fragmented.  This is usually the result of calling `frame.insert` many times, which has poor performance.  Consider joining all columns at once using pd.concat(axis=1) instead. To get a de-fragmented frame, use `newframe = frame.copy()`\n",
      "  super().__setitem__(key, value)\n",
      "/opt/conda/envs/gds/lib/python3.9/site-packages/geopandas/geodataframe.py:1525: PerformanceWarning: DataFrame is highly fragmented.  This is usually the result of calling `frame.insert` many times, which has poor performance.  Consider joining all columns at once using pd.concat(axis=1) instead. To get a de-fragmented frame, use `newframe = frame.copy()`\n",
      "  super().__setitem__(key, value)\n",
      "/opt/conda/envs/gds/lib/python3.9/site-packages/geopandas/geodataframe.py:1525: PerformanceWarning: DataFrame is highly fragmented.  This is usually the result of calling `frame.insert` many times, which has poor performance.  Consider joining all columns at once using pd.concat(axis=1) instead. To get a de-fragmented frame, use `newframe = frame.copy()`\n",
      "  super().__setitem__(key, value)\n",
      "/opt/conda/envs/gds/lib/python3.9/site-packages/geopandas/geodataframe.py:1525: PerformanceWarning: DataFrame is highly fragmented.  This is usually the result of calling `frame.insert` many times, which has poor performance.  Consider joining all columns at once using pd.concat(axis=1) instead. To get a de-fragmented frame, use `newframe = frame.copy()`\n",
      "  super().__setitem__(key, value)\n",
      "/opt/conda/envs/gds/lib/python3.9/site-packages/geopandas/geodataframe.py:1525: PerformanceWarning: DataFrame is highly fragmented.  This is usually the result of calling `frame.insert` many times, which has poor performance.  Consider joining all columns at once using pd.concat(axis=1) instead. To get a de-fragmented frame, use `newframe = frame.copy()`\n",
      "  super().__setitem__(key, value)\n"
     ]
    }
   ],
   "source": [
    "baseline_hexproximity = gpd.read_file(script27_output_dir + \"project_01/santiago_hexproximity_project_01.gpkg\")\n",
    "plazaitalia_hexproximity = gpd.read_file(script27_output_dir + \"project_02/santiago_hexproximity_project_02.gpkg\")\n",
    "\n",
    "compare_proximity(plazaitalia_hexproximity,project_id='02test02',save=True)"
   ]
  },
  {
   "cell_type": "markdown",
   "id": "d78b4a5a-6f01-4f27-b7ee-6f6e14211a9d",
   "metadata": {},
   "source": [
    "### Finding problem - Test 03: Invert QGIS process"
   ]
  },
  {
   "cell_type": "markdown",
   "id": "a030b60b-3549-4cc6-ac0a-6a8e16fb039f",
   "metadata": {},
   "source": [
    "#### Instead of:\n",
    "1. __Split lines with lines__\n",
    "2. __Vector > Geometry Tools > Multipart to singleparts__\n",
    "3. Extract specific vertices [0,-1]\n",
    "4. MMQGIS Modify > Drop dups\n",
    "#### Do:\n",
    "1. __Vector > Geometry Tools > Multipart to singleparts__\n",
    "2. __Split lines with lines__\n",
    "3. Extract specific vertices [0,-1]\n",
    "4. MMQGIS Modify > Drop dups\n",
    "\n",
    "__Result:__ \"NotImplementedError: Sub-geometries may have coordinate sequences, but multi-part geometries do not\""
   ]
  },
  {
   "cell_type": "code",
   "execution_count": null,
   "id": "11d051d8-5793-413c-8e93-5c038f7cda18",
   "metadata": {},
   "outputs": [],
   "source": []
  }
 ],
 "metadata": {
  "kernelspec": {
   "display_name": "GDS-10.0",
   "language": "python",
   "name": "gds"
  },
  "language_info": {
   "codemirror_mode": {
    "name": "ipython",
    "version": 3
   },
   "file_extension": ".py",
   "mimetype": "text/x-python",
   "name": "python",
   "nbconvert_exporter": "python",
   "pygments_lexer": "ipython3",
   "version": "3.9.18"
  }
 },
 "nbformat": 4,
 "nbformat_minor": 5
}
