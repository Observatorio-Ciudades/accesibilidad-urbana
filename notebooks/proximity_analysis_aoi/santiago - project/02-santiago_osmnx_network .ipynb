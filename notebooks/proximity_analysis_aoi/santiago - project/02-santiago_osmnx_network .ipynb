{
 "cells": [
  {
   "cell_type": "markdown",
   "id": "5eadc4a8-bfe3-47f5-b998-6f16a5bece7a",
   "metadata": {},
   "source": [
    "# 02 - Santiago OSMnx Network"
   ]
  },
  {
   "cell_type": "markdown",
   "id": "3be96d9a-a024-45d9-84bb-7c504a47aeb9",
   "metadata": {},
   "source": [
    "This notebook creates a Network (G,nodes,edges) for a bbox around Santiago (Chile) and saves it to db."
   ]
  },
  {
   "cell_type": "code",
   "execution_count": 1,
   "id": "5c5cc33e-7fca-4ced-9bd2-0a2901527750",
   "metadata": {},
   "outputs": [],
   "source": [
    "import os\n",
    "import sys\n",
    "\n",
    "import pandas as pd\n",
    "import geopandas as gpd\n",
    "import osmnx as ox\n",
    "import numpy as np\n",
    "\n",
    "import matplotlib.pyplot as plt\n",
    "import seaborn as sns\n",
    "\n",
    "import warnings\n",
    "warnings.simplefilter(action='ignore', category=FutureWarning)\n",
    "\n",
    "module_path = os.path.abspath(os.path.join('../../../'))\n",
    "if module_path not in sys.path:\n",
    "    sys.path.append(module_path)\n",
    "    import aup"
   ]
  },
  {
   "cell_type": "code",
   "execution_count": 2,
   "id": "0e73572d-4ebd-4cf8-a1e9-c85a5dfb8cdc",
   "metadata": {},
   "outputs": [],
   "source": [
    "##### WARNING ##### WARNING ##### WARNING ##### WARNING ##### WARNING #####\n",
    "\n",
    "# save output to database?\n",
    "save = True\n",
    "\n",
    "##### WARNING ##### WARNING ##### WARNING ##### WARNING ##### WARNING #####"
   ]
  },
  {
   "cell_type": "markdown",
   "id": "eacd8fe5-6d3c-4d85-a881-04631e9ae72a",
   "metadata": {},
   "source": [
    "## Load aoi"
   ]
  },
  {
   "cell_type": "code",
   "execution_count": 3,
   "id": "83c319fd-a290-403c-bf70-0878e83a0aeb",
   "metadata": {},
   "outputs": [
    {
     "name": "stdout",
     "output_type": "stream",
     "text": [
      "(1, 2)\n",
      "1\n",
      "['Santiago']\n"
     ]
    },
    {
     "data": {
      "text/html": [
       "<div>\n",
       "<style scoped>\n",
       "    .dataframe tbody tr th:only-of-type {\n",
       "        vertical-align: middle;\n",
       "    }\n",
       "\n",
       "    .dataframe tbody tr th {\n",
       "        vertical-align: top;\n",
       "    }\n",
       "\n",
       "    .dataframe thead th {\n",
       "        text-align: right;\n",
       "    }\n",
       "</style>\n",
       "<table border=\"1\" class=\"dataframe\">\n",
       "  <thead>\n",
       "    <tr style=\"text-align: right;\">\n",
       "      <th></th>\n",
       "      <th>city</th>\n",
       "      <th>geometry</th>\n",
       "    </tr>\n",
       "  </thead>\n",
       "  <tbody>\n",
       "    <tr>\n",
       "      <th>0</th>\n",
       "      <td>Santiago</td>\n",
       "      <td>MULTIPOLYGON (((-70.62985 -33.35908, -70.62627...</td>\n",
       "    </tr>\n",
       "  </tbody>\n",
       "</table>\n",
       "</div>"
      ],
      "text/plain": [
       "       city                                           geometry\n",
       "0  Santiago  MULTIPOLYGON (((-70.62985 -33.35908, -70.62627..."
      ]
     },
     "execution_count": 3,
     "metadata": {},
     "output_type": "execute_result"
    }
   ],
   "source": [
    "# aoi_gdf\n",
    "aoi_schema = 'projects_research'\n",
    "aoi_table = 'santiago_aoi'\n",
    "\n",
    "query = f\"SELECT * FROM {aoi_schema}.{aoi_table}\"\n",
    "aoi_gdf = aup.gdf_from_query(query, geometry_col='geometry')\n",
    "aoi_gdf = aoi_gdf.set_crs(\"EPSG:4326\")\n",
    "\n",
    "city_list = list(aoi_gdf.city.unique())\n",
    "\n",
    "# Show\n",
    "print(aoi_gdf.shape)\n",
    "print(len(city_list))\n",
    "print(city_list)\n",
    "aoi_gdf.head(1)"
   ]
  },
  {
   "cell_type": "markdown",
   "id": "fb40e17e-b940-41aa-946a-fad3a358a725",
   "metadata": {},
   "source": [
    "## Run function create_osmnx_network and save OSMnx Network"
   ]
  },
  {
   "cell_type": "code",
   "execution_count": 5,
   "id": "476ef4fb-8f2f-4585-882c-612271f2f876",
   "metadata": {},
   "outputs": [],
   "source": [
    "save_schema = 'projects_research'\n",
    "nodes_save_table = 'santiago_nodes'\n",
    "edges_save_table = 'santiago_edges'"
   ]
  },
  {
   "cell_type": "code",
   "execution_count": 6,
   "id": "626ae22a-ddec-4412-9c58-35206a58239e",
   "metadata": {},
   "outputs": [
    {
     "name": "stdout",
     "output_type": "stream",
     "text": [
      "Extracted min and max coordinates from the municipality. Polygon N:-33.25372, S:-33.65555, E-70.48901, W-70.82481.\n",
      "Created OSMnx graph from bounding box.\n",
      "Converted OSMnx graph to 223907 nodes and 587927 edges GeoDataFrame.\n",
      "Filtered columns.\n",
      "Column: osmid in nodes gdf, has a list in it, the column data was converted to string.\n",
      "Column: lanes in nodes gdf, has a list in it, the column data was converted to string.\n",
      "Column: name in nodes gdf, has a list in it, the column data was converted to string.\n",
      "Column: highway in nodes gdf, has a list in it, the column data was converted to string.\n",
      "Column: maxspeed in nodes gdf, has a list in it, the column data was converted to string.\n",
      "Column: bridge in nodes gdf, has a list in it, the column data was converted to string.\n",
      "Column: ref in nodes gdf, has a list in it, the column data was converted to string.\n",
      "Column: access in nodes gdf, has a list in it, the column data was converted to string.\n",
      "Column: width in nodes gdf, has a list in it, the column data was converted to string.\n",
      "Column: service in nodes gdf, has a list in it, the column data was converted to string.\n",
      "Uploading nodes.\n",
      "Uploading edges.\n"
     ]
    }
   ],
   "source": [
    "# Load area of interest\n",
    "aoi = aoi_gdf.dissolve()\n",
    "\n",
    "# Create Network\n",
    "G,nodes,edges = aup.create_osmnx_network(aoi, how='from_bbox', network_type='all_private')\n",
    "\n",
    "# Save Network\n",
    "if save:\n",
    "\n",
    "    # Resets index (allows delete duplicates in DBeaver using u, v, osmid)\n",
    "    nodes = nodes.reset_index()\n",
    "    edges = edges.reset_index()\n",
    "    \n",
    "    print(f\"Uploading nodes.\")\n",
    "    aup.gdf_to_db_slow(nodes, nodes_save_table, save_schema, if_exists='append')\n",
    "    print(f\"Uploading edges.\")\n",
    "    aup.gdf_to_db_slow(edges, edges_save_table, save_schema, if_exists='append')"
   ]
  },
  {
   "cell_type": "code",
   "execution_count": null,
   "id": "39940994-686f-4b4f-9721-6912a4c1ebf6",
   "metadata": {},
   "outputs": [],
   "source": []
  }
 ],
 "metadata": {
  "kernelspec": {
   "display_name": "GDS-10.0",
   "language": "python",
   "name": "gds"
  },
  "language_info": {
   "codemirror_mode": {
    "name": "ipython",
    "version": 3
   },
   "file_extension": ".py",
   "mimetype": "text/x-python",
   "name": "python",
   "nbconvert_exporter": "python",
   "pygments_lexer": "ipython3",
   "version": "3.9.18"
  }
 },
 "nbformat": 4,
 "nbformat_minor": 5
}
