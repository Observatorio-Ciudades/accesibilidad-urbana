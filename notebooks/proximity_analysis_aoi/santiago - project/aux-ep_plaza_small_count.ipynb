{
 "cells": [
  {
   "cell_type": "code",
   "execution_count": 1,
   "id": "2d7002da-7a73-4666-8a6f-c04242ae298f",
   "metadata": {},
   "outputs": [],
   "source": [
    "import os\n",
    "import sys\n",
    "\n",
    "import pandas as pd\n",
    "import geopandas as gpd\n",
    "import osmnx as ox\n",
    "import numpy as np\n",
    "\n",
    "import matplotlib.pyplot as plt\n",
    "import seaborn as sns\n",
    "\n",
    "import warnings\n",
    "warnings.simplefilter(action='ignore', category=FutureWarning)\n",
    "\n",
    "module_path = os.path.abspath(os.path.join('../../../'))\n",
    "if module_path not in sys.path:\n",
    "    sys.path.append(module_path)\n",
    "    import aup"
   ]
  },
  {
   "cell_type": "code",
   "execution_count": 16,
   "id": "f2756815-afea-49d5-8530-b2d22f057d9a",
   "metadata": {},
   "outputs": [],
   "source": [
    "ep_plaza_small_dir = '../../../data/external/temporal_fromjupyter/santiago/pois/ep_plaza_small.gpkg'\n",
    "ep_plaza_small = gpd.read_file(ep_plaza_small_dir)"
   ]
  },
  {
   "cell_type": "code",
   "execution_count": 28,
   "id": "f5c3a894-06cd-43b7-88d4-f5d31656da9c",
   "metadata": {},
   "outputs": [
    {
     "data": {
      "text/html": [
       "<div>\n",
       "<style scoped>\n",
       "    .dataframe tbody tr th:only-of-type {\n",
       "        vertical-align: middle;\n",
       "    }\n",
       "\n",
       "    .dataframe tbody tr th {\n",
       "        vertical-align: top;\n",
       "    }\n",
       "\n",
       "    .dataframe thead th {\n",
       "        text-align: right;\n",
       "    }\n",
       "</style>\n",
       "<table border=\"1\" class=\"dataframe\">\n",
       "  <thead>\n",
       "    <tr style=\"text-align: right;\">\n",
       "      <th></th>\n",
       "      <th>area_ha</th>\n",
       "      <th>ID</th>\n",
       "      <th>geometry</th>\n",
       "    </tr>\n",
       "  </thead>\n",
       "  <tbody>\n",
       "    <tr>\n",
       "      <th>0</th>\n",
       "      <td>0.106</td>\n",
       "      <td>1</td>\n",
       "      <td>POINT (-70.87655 -33.29737)</td>\n",
       "    </tr>\n",
       "  </tbody>\n",
       "</table>\n",
       "</div>"
      ],
      "text/plain": [
       "   area_ha  ID                     geometry\n",
       "0    0.106   1  POINT (-70.87655 -33.29737)"
      ]
     },
     "execution_count": 28,
     "metadata": {},
     "output_type": "execute_result"
    }
   ],
   "source": [
    "ep_plaza_small = ep_plaza_small[['area_ha','ID','geometry']].copy()\n",
    "ep_plaza_small.head(1)"
   ]
  },
  {
   "cell_type": "code",
   "execution_count": 29,
   "id": "421d6c65-b65e-4932-8326-e7e10d5dcc76",
   "metadata": {},
   "outputs": [
    {
     "name": "stdout",
     "output_type": "stream",
     "text": [
      "166287\n",
      "9442\n"
     ]
    }
   ],
   "source": [
    "print(len(ep_plaza_small))\n",
    "print(len(ep_plaza_small.ID.unique()))"
   ]
  },
  {
   "cell_type": "code",
   "execution_count": 30,
   "id": "c4bdbd4b-19bd-4c58-b2c8-05c35648f54b",
   "metadata": {},
   "outputs": [
    {
     "name": "stdout",
     "output_type": "stream",
     "text": [
      "112410\n",
      "7533\n"
     ]
    }
   ],
   "source": [
    "very_small_source_pois = ep_plaza_small.loc[ep_plaza_small['area_ha']<0.2].copy()\n",
    "print(len(very_small_source_pois))\n",
    "print(len(very_small_source_pois.ID.unique()))"
   ]
  },
  {
   "cell_type": "code",
   "execution_count": 31,
   "id": "6ffeccd7-5a17-4412-a623-a1cb12000951",
   "metadata": {},
   "outputs": [
    {
     "name": "stdout",
     "output_type": "stream",
     "text": [
      "53877\n",
      "1909\n"
     ]
    }
   ],
   "source": [
    "small_source_pois = ep_plaza_small.loc[ep_plaza_small['area_ha']>=0.2].copy()\n",
    "print(len(small_source_pois))\n",
    "print(len(small_source_pois.ID.unique()))"
   ]
  },
  {
   "cell_type": "code",
   "execution_count": 32,
   "id": "79b056e4-9b5b-4004-99a1-b50e20eda227",
   "metadata": {},
   "outputs": [
    {
     "name": "stdout",
     "output_type": "stream",
     "text": [
      "166287\n",
      "9442\n"
     ]
    }
   ],
   "source": [
    "print((len(very_small_source_pois))+(len(small_source_pois)))\n",
    "print((len(very_small_source_pois.ID.unique()))+(len(small_source_pois.ID.unique())))"
   ]
  },
  {
   "cell_type": "code",
   "execution_count": 33,
   "id": "caa81268-fd0d-427b-bb91-a6b023a9becf",
   "metadata": {},
   "outputs": [
    {
     "name": "stdout",
     "output_type": "stream",
     "text": [
      "7533\n",
      "7533\n"
     ]
    }
   ],
   "source": [
    "very_small_source_pois_uniqueid = very_small_source_pois.drop_duplicates(subset='ID')\n",
    "print(len(very_small_source_pois_uniqueid))\n",
    "print(len(very_small_source_pois_uniqueid.ID.unique()))"
   ]
  },
  {
   "cell_type": "code",
   "execution_count": 34,
   "id": "075474c8-7cd8-43c6-a337-97c426097908",
   "metadata": {},
   "outputs": [
    {
     "data": {
      "text/html": [
       "<div>\n",
       "<style scoped>\n",
       "    .dataframe tbody tr th:only-of-type {\n",
       "        vertical-align: middle;\n",
       "    }\n",
       "\n",
       "    .dataframe tbody tr th {\n",
       "        vertical-align: top;\n",
       "    }\n",
       "\n",
       "    .dataframe thead th {\n",
       "        text-align: right;\n",
       "    }\n",
       "</style>\n",
       "<table border=\"1\" class=\"dataframe\">\n",
       "  <thead>\n",
       "    <tr style=\"text-align: right;\">\n",
       "      <th></th>\n",
       "      <th>area_ha</th>\n",
       "      <th>ID</th>\n",
       "      <th>geometry</th>\n",
       "    </tr>\n",
       "  </thead>\n",
       "  <tbody>\n",
       "    <tr>\n",
       "      <th>0</th>\n",
       "      <td>0.106</td>\n",
       "      <td>1</td>\n",
       "      <td>POINT (-70.87655 -33.29737)</td>\n",
       "    </tr>\n",
       "    <tr>\n",
       "      <th>13</th>\n",
       "      <td>0.096</td>\n",
       "      <td>2</td>\n",
       "      <td>POINT (-70.88429 -33.29738)</td>\n",
       "    </tr>\n",
       "    <tr>\n",
       "      <th>25</th>\n",
       "      <td>0.114</td>\n",
       "      <td>3</td>\n",
       "      <td>POINT (-70.87039 -33.29725)</td>\n",
       "    </tr>\n",
       "    <tr>\n",
       "      <th>42</th>\n",
       "      <td>0.052</td>\n",
       "      <td>4</td>\n",
       "      <td>POINT (-70.86971 -33.29773)</td>\n",
       "    </tr>\n",
       "    <tr>\n",
       "      <th>53</th>\n",
       "      <td>0.053</td>\n",
       "      <td>5</td>\n",
       "      <td>POINT (-70.88295 -33.29735)</td>\n",
       "    </tr>\n",
       "  </tbody>\n",
       "</table>\n",
       "</div>"
      ],
      "text/plain": [
       "    area_ha  ID                     geometry\n",
       "0     0.106   1  POINT (-70.87655 -33.29737)\n",
       "13    0.096   2  POINT (-70.88429 -33.29738)\n",
       "25    0.114   3  POINT (-70.87039 -33.29725)\n",
       "42    0.052   4  POINT (-70.86971 -33.29773)\n",
       "53    0.053   5  POINT (-70.88295 -33.29735)"
      ]
     },
     "execution_count": 34,
     "metadata": {},
     "output_type": "execute_result"
    }
   ],
   "source": [
    "very_small_source_pois_uniqueid.head(5)"
   ]
  },
  {
   "cell_type": "code",
   "execution_count": 36,
   "id": "0911efcc-1d24-4e80-9509-b79fd5cc504b",
   "metadata": {},
   "outputs": [
    {
     "name": "stdout",
     "output_type": "stream",
     "text": [
      "7533\n",
      "7533\n"
     ]
    }
   ],
   "source": [
    "very_small_source_pois_2 = ep_plaza_small.loc[ep_plaza_small['area_ha']<0.2].copy().drop_duplicates(subset='ID')\n",
    "\n",
    "print(len(very_small_source_pois_2))\n",
    "print(len(very_small_source_pois_2.ID.unique()))"
   ]
  },
  {
   "cell_type": "code",
   "execution_count": null,
   "id": "c854b99e-aced-4903-8c1c-2167f771504a",
   "metadata": {},
   "outputs": [],
   "source": []
  }
 ],
 "metadata": {
  "kernelspec": {
   "display_name": "GDS-10.0",
   "language": "python",
   "name": "gds"
  },
  "language_info": {
   "codemirror_mode": {
    "name": "ipython",
    "version": 3
   },
   "file_extension": ".py",
   "mimetype": "text/x-python",
   "name": "python",
   "nbconvert_exporter": "python",
   "pygments_lexer": "ipython3",
   "version": "3.9.18"
  }
 },
 "nbformat": 4,
 "nbformat_minor": 5
}
