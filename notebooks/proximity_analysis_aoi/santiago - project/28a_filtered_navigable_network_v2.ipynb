{
 "cells": [
  {
   "cell_type": "markdown",
   "id": "410f7b23-2d2a-49dc-9b39-9d5b82215d1e",
   "metadata": {},
   "source": [
    "# Filtered navigable network - Step 1"
   ]
  },
  {
   "cell_type": "markdown",
   "id": "4dca6607-7ef6-47a5-9f2f-4b5f5ee33bb5",
   "metadata": {},
   "source": [
    "This notebook test the way to create nodes and edges compatibles with OSMnx in order to be able to __use Santiago's public space quality index__ (Available in non-OSMnx road linestrings) __as a filter.__\n",
    "\n",
    "The steps to be followed are the currently working QGIS steps:\n",
    "1. Split lines with lines\n",
    "2. Vector > Geometry Tools > Multipart to singleparts\n",
    "3. Extract specific vertices [0,-1]\n",
    "4. MMQGIS Modify > Drop dups\n",
    "\n",
    "#### __PENDIENTE: Agregar a la working option 2 el explode de las original_lines. Ver si también salen 34,797 lineas.__"
   ]
  },
  {
   "cell_type": "markdown",
   "id": "b8c9c69d-93a9-4112-a2ac-c8f828d82563",
   "metadata": {},
   "source": [
    "## Import libraries"
   ]
  },
  {
   "cell_type": "code",
   "execution_count": 1,
   "id": "428974d3-7032-48f6-80f4-fd72cf5a1079",
   "metadata": {},
   "outputs": [],
   "source": [
    "import geopandas as gpd\n",
    "import pandas as pd\n",
    "import numpy as np\n",
    "from shapely.geometry import Point\n",
    "\n",
    "from shapely.geometry import GeometryCollection\n",
    "from shapely.ops import split\n",
    "import time\n",
    "\n",
    "import matplotlib.pyplot as plt\n",
    "\n",
    "import warnings\n",
    "warnings.simplefilter(action='ignore', category=FutureWarning)\n",
    "\n",
    "import os\n",
    "import sys\n",
    "module_path = os.path.abspath(os.path.join('../../../'))\n",
    "if module_path not in sys.path:\n",
    "    sys.path.append(module_path)\n",
    "    import aup"
   ]
  },
  {
   "cell_type": "markdown",
   "id": "d9b38b85-d0fc-4b3d-b054-106e5e650d8d",
   "metadata": {},
   "source": [
    "## Config notebook"
   ]
  },
  {
   "cell_type": "code",
   "execution_count": 6,
   "id": "3ee6ce45-e36b-4f00-9a10-9e4b903f4477",
   "metadata": {},
   "outputs": [],
   "source": [
    "gral_dir = '../../../data/external/santiago/'\n",
    "project_name = 'redvial2019_buffer_3750m_c_utilidad_2'\n",
    "p_code = '00'\n",
    "public_space_quality_dir = gral_dir + f\"calidad_ep/{p_code}_{project_name}/{project_name}.shp\"\n",
    "test_save = False\n",
    "\n",
    "# Projection to be used whenever necessary\n",
    "projected_crs = 'EPSG:32719'\n",
    "# Column to filter data\n",
    "filtering_column = 'pje_ep'\n",
    "filtering_value = 0.5 # Will keep equal or more than this value"
   ]
  },
  {
   "cell_type": "markdown",
   "id": "a851ee32-ba91-4f58-9aa4-c9cb62ead88f",
   "metadata": {},
   "source": [
    "## Load data"
   ]
  },
  {
   "cell_type": "code",
   "execution_count": 3,
   "id": "df9c58ad-9ce3-48c3-b82b-fcc5848931e6",
   "metadata": {},
   "outputs": [
    {
     "name": "stdout",
     "output_type": "stream",
     "text": [
      "(31534, 2)\n"
     ]
    },
    {
     "data": {
      "text/html": [
       "<div>\n",
       "<style scoped>\n",
       "    .dataframe tbody tr th:only-of-type {\n",
       "        vertical-align: middle;\n",
       "    }\n",
       "\n",
       "    .dataframe tbody tr th {\n",
       "        vertical-align: top;\n",
       "    }\n",
       "\n",
       "    .dataframe thead th {\n",
       "        text-align: right;\n",
       "    }\n",
       "</style>\n",
       "<table border=\"1\" class=\"dataframe\">\n",
       "  <thead>\n",
       "    <tr style=\"text-align: right;\">\n",
       "      <th></th>\n",
       "      <th>pje_ep</th>\n",
       "      <th>geometry</th>\n",
       "    </tr>\n",
       "  </thead>\n",
       "  <tbody>\n",
       "    <tr>\n",
       "      <th>0</th>\n",
       "      <td>0.209171</td>\n",
       "      <td>LINESTRING (-70.60280 -33.40858, -70.60255 -33...</td>\n",
       "    </tr>\n",
       "  </tbody>\n",
       "</table>\n",
       "</div>"
      ],
      "text/plain": [
       "     pje_ep                                           geometry\n",
       "0  0.209171  LINESTRING (-70.60280 -33.40858, -70.60255 -33..."
      ]
     },
     "execution_count": 3,
     "metadata": {},
     "output_type": "execute_result"
    }
   ],
   "source": [
    "# 1.0 --------------- LOAD DATA\n",
    "# ------------------- This step loads the public space quality index gdf for the current project\n",
    "# Load data\n",
    "pub_space_qty = gpd.read_file(public_space_quality_dir)\n",
    "# Set CRS\n",
    "pub_space_qty = pub_space_qty.set_crs(projected_crs)\n",
    "# Filter for data of relevance\n",
    "gdf = pub_space_qty[[filtering_column,'geometry']].copy()\n",
    "gdf = gdf.to_crs(\"EPSG:4326\")\n",
    "\n",
    "# Show\n",
    "print(gdf.shape)\n",
    "gdf.head(1)"
   ]
  },
  {
   "cell_type": "markdown",
   "id": "14494ef8-080e-44ee-84a3-c37df13d3a79",
   "metadata": {
    "jp-MarkdownHeadingCollapsed": true
   },
   "source": [
    "# Step 1 - Split lines with themselves"
   ]
  },
  {
   "cell_type": "markdown",
   "id": "0455616f-dc19-4bd9-a75b-9181af369495",
   "metadata": {},
   "source": [
    "## Split lines with themselves (After tests, working functions performance comparison)"
   ]
  },
  {
   "cell_type": "markdown",
   "id": "ad36ecd1-c69b-4be2-8f6e-abbc700d56ca",
   "metadata": {
    "jp-MarkdownHeadingCollapsed": true
   },
   "source": [
    "### Working option 1: precompute_unary_union() first, then split lines."
   ]
  },
  {
   "cell_type": "code",
   "execution_count": 4,
   "id": "a81e2b8f-618a-4bbd-b6ba-f00a7492bc12",
   "metadata": {},
   "outputs": [],
   "source": [
    "def precompute_unary_union(gdf):\n",
    "    \"\"\" This function saves to a new gdf column the geometry of the unary union of the lines that intersect (sjoin) each line.\n",
    "        The line itself is excluded from the unary geometry to avoid trying intersect with itself.\n",
    "        The gdf keeps its original geometry, but has a new 'unary_geometry' col.\n",
    "    \"\"\"\n",
    "    \n",
    "    # Reset index in order to keep track of original line id\n",
    "    lines_gdf = gdf.copy()\n",
    "    lines_gdf = lines_gdf.reset_index()\n",
    "    lines_gdf = lines_gdf.rename(columns={'index':'original_id'})\n",
    "\n",
    "    # Create unary union of all lines except itself\n",
    "    lines_gdf['unary_geometry'] = None\n",
    "\n",
    "    # Create and save unary_union corresponding to each row \n",
    "    for idx, row in lines_gdf.iterrows():\n",
    "        \n",
    "        # rest_of_lines is lines that intersect line_of_interest (Remove itself to avoid trying to intersect with itself)\n",
    "        line_of_interest = lines_gdf.loc[lines_gdf.original_id==idx].copy()\n",
    "        intersecting_idxs = list(line_of_interest.sjoin(lines_gdf).original_id_right.unique())\n",
    "        intersecting_idxs.remove(idx)\n",
    "        rest_of_lines = lines_gdf.loc[lines_gdf.original_id.isin(intersecting_idxs)].copy().explode()\n",
    "\n",
    "        # Save unary union\n",
    "        lines_gdf.at[idx, 'unary_geometry'] = rest_of_lines.unary_union\n",
    "        \n",
    "    return lines_gdf\n",
    "\n",
    "\n",
    "def split_line(row):\n",
    "    \"\"\" This function is used with each gdf row (.apply()).\n",
    "        The function splits the line geometry using the previously calculated unary_union geometry and\n",
    "        returns a list of new geometries (split_lines_geoms).\n",
    "    \"\"\"\n",
    "    \n",
    "    line_geom = row['geometry']\n",
    "    unary_geom = row['unary_geometry']\n",
    "    \n",
    "    try:\n",
    "        split_result = split(line_geom, unary_geom)\n",
    "        split_lines_geoms = list(split_result.geoms)\n",
    "        return split_lines_geoms\n",
    "    except:\n",
    "        split_lines_geoms = [line_geom]\n",
    "        return split_lines_geoms\n",
    "\n",
    "\n",
    "def split_lines_with_themselves_v1(gdf):\n",
    "    \"\"\" This splits each line using the lines that intersect it, keeping the values of all original columns.\n",
    "    \"\"\"\n",
    "    \n",
    "    # Create and save unary_union of lines intersecting each line, except itself.\n",
    "    lines_gdf = precompute_unary_union(gdf)\n",
    "    \n",
    "    # Split the lines geometry using the previously calculated unary_union geometry.\n",
    "    # Creates a list of geometries in col split_lines.\n",
    "    lines_gdf = lines_gdf.explode()\n",
    "    lines_gdf['split_lines'] = lines_gdf.apply(split_line, axis=1)\n",
    "    \n",
    "    # Explode the split lines into separate rows according to the list of geometries located in split_lines\n",
    "    exploded_split_lines = lines_gdf.explode('split_lines').drop(columns=['geometry']).rename(columns={'split_lines': 'geometry'})\n",
    "    \n",
    "    # Create a new GeoDataFrame with the split lines\n",
    "    split_lines_gdf = gpd.GeoDataFrame(exploded_split_lines, geometry='geometry', crs=lines_gdf.crs)\n",
    "    \n",
    "    # Drop unary_geometry col\n",
    "    split_lines_gdf.drop(columns=['unary_geometry'],inplace=True)\n",
    "\n",
    "    return split_lines_gdf"
   ]
  },
  {
   "cell_type": "code",
   "execution_count": 5,
   "id": "198a5dd0-721e-4a7c-a799-a822b563d787",
   "metadata": {},
   "outputs": [
    {
     "name": "stdout",
     "output_type": "stream",
     "text": [
      "Execution time: 874.5643658638s.\n",
      "(34797, 3)\n"
     ]
    },
    {
     "data": {
      "text/html": [
       "<div>\n",
       "<style scoped>\n",
       "    .dataframe tbody tr th:only-of-type {\n",
       "        vertical-align: middle;\n",
       "    }\n",
       "\n",
       "    .dataframe tbody tr th {\n",
       "        vertical-align: top;\n",
       "    }\n",
       "\n",
       "    .dataframe thead th {\n",
       "        text-align: right;\n",
       "    }\n",
       "</style>\n",
       "<table border=\"1\" class=\"dataframe\">\n",
       "  <thead>\n",
       "    <tr style=\"text-align: right;\">\n",
       "      <th></th>\n",
       "      <th></th>\n",
       "      <th>original_id</th>\n",
       "      <th>pje_ep</th>\n",
       "      <th>geometry</th>\n",
       "    </tr>\n",
       "  </thead>\n",
       "  <tbody>\n",
       "    <tr>\n",
       "      <th>0</th>\n",
       "      <th>0</th>\n",
       "      <td>0</td>\n",
       "      <td>0.209171</td>\n",
       "      <td>LINESTRING (-70.60280 -33.40858, -70.60255 -33...</td>\n",
       "    </tr>\n",
       "  </tbody>\n",
       "</table>\n",
       "</div>"
      ],
      "text/plain": [
       "     original_id    pje_ep                                           geometry\n",
       "0 0            0  0.209171  LINESTRING (-70.60280 -33.40858, -70.60255 -33..."
      ]
     },
     "execution_count": 5,
     "metadata": {},
     "output_type": "execute_result"
    }
   ],
   "source": [
    "start = time.time()\n",
    "split_lines_v1 = split_lines_with_themselves_v1(gdf)\n",
    "finish = time.time()\n",
    "\n",
    "# Show\n",
    "print(f\"Execution time: {finish-start}s.\")\n",
    "print(split_lines_v1.shape)\n",
    "split_lines_v1.head(1)"
   ]
  },
  {
   "cell_type": "code",
   "execution_count": 8,
   "id": "7a2d0cf8-c9d2-432b-b918-e5dcbfb73f4c",
   "metadata": {},
   "outputs": [],
   "source": [
    "# Check result in QGIS\n",
    "split_lines_v1.to_file(gral_dir + \"split_lines_v1.gpkg\", driver='GPKG')"
   ]
  },
  {
   "cell_type": "markdown",
   "id": "32bbddd3-d900-43a6-a6b9-d1b1e4a1a4c7",
   "metadata": {
    "jp-MarkdownHeadingCollapsed": true
   },
   "source": [
    "### Working option 2: Find the unary_union needed while iterating over each row (line)"
   ]
  },
  {
   "cell_type": "code",
   "execution_count": 4,
   "id": "d6c2644f-d5fe-4258-b3b4-d1c6ce37020f",
   "metadata": {},
   "outputs": [],
   "source": [
    "def split_lines_with_themselves_v2(lines_gdf):\n",
    "    split_lines = gpd.GeoDataFrame()\n",
    "    i = 0\n",
    "    \n",
    "    # Reset index in order to keep track of original line id\n",
    "    original_lines = lines_gdf.copy()\n",
    "    original_lines = original_lines.reset_index()\n",
    "    original_lines = original_lines.rename(columns={'index':'original_id'})\n",
    "    \n",
    "    # Iterate over each line\n",
    "    for idx in list(original_lines.original_id.unique()):\n",
    "        start = time.time()\n",
    "        \n",
    "        # Find original line and its geometry\n",
    "        line_of_interest = original_lines.loc[original_lines.original_id == idx]\n",
    "        line_geom = line_of_interest.geometry.unique()[0]\n",
    "\n",
    "        # Find which lines intersect line of interest (Remove itself to avoid trying to intersect with itself)\n",
    "        intersecting_idxs = list(line_of_interest.sjoin(original_lines).original_id_right.unique())\n",
    "        intersecting_idxs.remove(idx)\n",
    "        rest_of_lines = original_lines.loc[original_lines.original_id.isin(intersecting_idxs)].copy()\n",
    "        \n",
    "        # Create unary union (geometry) out of the rest of the lines \n",
    "        gdf_exploded = rest_of_lines.copy().explode()\n",
    "        unary_union = gdf_exploded.unary_union\n",
    "        \n",
    "        # Try splitting the line with the rest of the lines\n",
    "        try:\n",
    "            # Split geom with unary union\n",
    "            split_result = split(line_geom, unary_union)\n",
    "            # Extract clipped lines\n",
    "            split_lines_geoms = list(split_result.geoms)\n",
    "            # Register data\n",
    "            for split_line_geom in split_lines_geoms:\n",
    "                split_lines.loc[i,'original_id'] = line_of_interest.original_id.unique()[0]\n",
    "                split_lines.loc[i,'pje_ep'] = line_of_interest.pje_ep.unique()[0]\n",
    "                split_lines.loc[i,'geometry'] = split_line_geom\n",
    "            \n",
    "                i +=1\n",
    "                \n",
    "        # Except it doesn't need splitting, then just append the line\n",
    "        except:\n",
    "            split_lines.loc[i,'original_id'] = line_of_interest.original_id.unique()[0]\n",
    "            split_lines.loc[i,'pje_ep'] = line_of_interest.pje_ep.unique()[0]\n",
    "            split_lines.loc[i,'geometry'] = line_geom\n",
    "            i +=1\n",
    "    \n",
    "    try:\n",
    "        split_lines.set_crs(\"EPSG:4326\")\n",
    "    except:\n",
    "        split_lines.to_crs(\"EPSG:4326\")\n",
    "    \n",
    "    return split_lines"
   ]
  },
  {
   "cell_type": "code",
   "execution_count": null,
   "id": "df38f29f-e9d3-4563-a7a7-68d02be79225",
   "metadata": {},
   "outputs": [],
   "source": [
    "start = time.time()\n",
    "split_lines_v2 = split_lines_with_themselves_v2(gdf)\n",
    "finish = time.time()\n",
    "\n",
    "# Show\n",
    "print(f\"Execution time: {finish-start}s.\")\n",
    "print(split_lines_v2.shape)\n",
    "split_lines_v2.head(1)"
   ]
  },
  {
   "cell_type": "markdown",
   "id": "7250e9cc-c9e8-413d-a812-06914589bfb7",
   "metadata": {
    "jp-MarkdownHeadingCollapsed": true
   },
   "source": [
    "### __Working option's multilines test__ (Result: There's lack of precision due to amount of unconnected lines)"
   ]
  },
  {
   "cell_type": "markdown",
   "id": "1005f24b-c25d-49f1-8839-4b70cd99b0c5",
   "metadata": {},
   "source": [
    "Once both working options were compared, we proceeded to Step 2 - Multipart to single parts and realized that the result contained 34,797 lines.\n",
    "Using the QGIS process, the result had 34,790 lines.\n",
    "\n",
    "#### * __Test step 1:__ The following cells explore that difference using split_lines_v2 (without exploding the lines before the process).\n",
    "#### * __Result__: The resulting multilines are already exploded in the QGIS process, so those Multilines are not the cause of the aditional 7 lines.\n",
    "\n",
    "#### * __Test step 2:__ Then we loaded the QGIS process single parts (34,790 edges) to identify those edges where the number of ID ocurrances is different. (Meaning, where lines split more that they should've).\n",
    "#### * __Result:__ After multiple reviews it was concluded that the differences are due to CRS projection and badly generated network. A lot of lines were not drawn connecting to each other, but rather very very very close to them. So sometimes they intersect, sometimes not."
   ]
  },
  {
   "cell_type": "markdown",
   "id": "fd065506-3643-401d-bcc6-b13a864213c1",
   "metadata": {},
   "source": [
    "#### Test step 1"
   ]
  },
  {
   "cell_type": "code",
   "execution_count": 10,
   "id": "3eb8f86c-d4c0-41fe-89cb-b85cb4ff85cd",
   "metadata": {},
   "outputs": [
    {
     "data": {
      "text/html": [
       "<div>\n",
       "<style scoped>\n",
       "    .dataframe tbody tr th:only-of-type {\n",
       "        vertical-align: middle;\n",
       "    }\n",
       "\n",
       "    .dataframe tbody tr th {\n",
       "        vertical-align: top;\n",
       "    }\n",
       "\n",
       "    .dataframe thead th {\n",
       "        text-align: right;\n",
       "    }\n",
       "</style>\n",
       "<table border=\"1\" class=\"dataframe\">\n",
       "  <thead>\n",
       "    <tr style=\"text-align: right;\">\n",
       "      <th></th>\n",
       "      <th>original_id</th>\n",
       "      <th>pje_ep</th>\n",
       "      <th>geometry</th>\n",
       "    </tr>\n",
       "  </thead>\n",
       "  <tbody>\n",
       "    <tr>\n",
       "      <th>233</th>\n",
       "      <td>59.0</td>\n",
       "      <td>0.569988</td>\n",
       "      <td>MULTILINESTRING ((-70.75405 -33.47665, -70.754...</td>\n",
       "    </tr>\n",
       "    <tr>\n",
       "      <th>7378</th>\n",
       "      <td>6030.0</td>\n",
       "      <td>0.208220</td>\n",
       "      <td>MULTILINESTRING ((-70.74451 -33.48782, -70.744...</td>\n",
       "    </tr>\n",
       "    <tr>\n",
       "      <th>7379</th>\n",
       "      <td>6031.0</td>\n",
       "      <td>0.378227</td>\n",
       "      <td>MULTILINESTRING ((-70.74476 -33.48822, -70.744...</td>\n",
       "    </tr>\n",
       "    <tr>\n",
       "      <th>7380</th>\n",
       "      <td>6032.0</td>\n",
       "      <td>0.503457</td>\n",
       "      <td>MULTILINESTRING ((-70.74504 -33.48865, -70.745...</td>\n",
       "    </tr>\n",
       "    <tr>\n",
       "      <th>33711</th>\n",
       "      <td>30949.0</td>\n",
       "      <td>0.304370</td>\n",
       "      <td>MULTILINESTRING ((-70.76032 -33.45200, -70.760...</td>\n",
       "    </tr>\n",
       "  </tbody>\n",
       "</table>\n",
       "</div>"
      ],
      "text/plain": [
       "       original_id    pje_ep   \n",
       "233           59.0  0.569988  \\\n",
       "7378        6030.0  0.208220   \n",
       "7379        6031.0  0.378227   \n",
       "7380        6032.0  0.503457   \n",
       "33711      30949.0  0.304370   \n",
       "\n",
       "                                                geometry  \n",
       "233    MULTILINESTRING ((-70.75405 -33.47665, -70.754...  \n",
       "7378   MULTILINESTRING ((-70.74451 -33.48782, -70.744...  \n",
       "7379   MULTILINESTRING ((-70.74476 -33.48822, -70.744...  \n",
       "7380   MULTILINESTRING ((-70.74504 -33.48865, -70.745...  \n",
       "33711  MULTILINESTRING ((-70.76032 -33.45200, -70.760...  "
      ]
     },
     "execution_count": 10,
     "metadata": {},
     "output_type": "execute_result"
    }
   ],
   "source": [
    "gdf_multilines = split_lines_v2[split_lines_v2.geometry.type == 'MultiLineString'].copy()\n",
    "gdf_multilines"
   ]
  },
  {
   "cell_type": "code",
   "execution_count": 11,
   "id": "bb63a904-bc7a-481a-8cf2-178d96006cfe",
   "metadata": {},
   "outputs": [],
   "source": [
    "# Check result in QGIS\n",
    "gdf_multilines.to_file(gral_dir + \"gdf_multilines.gpkg\", driver='GPKG')"
   ]
  },
  {
   "cell_type": "markdown",
   "id": "81027027-072c-49ee-a681-d4f5184deb22",
   "metadata": {},
   "source": [
    "#### Test step 2"
   ]
  },
  {
   "cell_type": "code",
   "execution_count": 35,
   "id": "8d0601e7-efa9-4b0f-9b33-d5e2b9149158",
   "metadata": {},
   "outputs": [
    {
     "name": "stdout",
     "output_type": "stream",
     "text": [
      "(31534, 36)\n"
     ]
    },
    {
     "data": {
      "text/plain": [
       "31534"
      ]
     },
     "execution_count": 35,
     "metadata": {},
     "output_type": "execute_result"
    }
   ],
   "source": [
    "# How many unique lines/IDs there should be:\n",
    "print(pub_space_qty.shape)\n",
    "len(pub_space_qty.IDcllbf.unique())"
   ]
  },
  {
   "cell_type": "code",
   "execution_count": 104,
   "id": "40044fc4-0705-4562-8486-2526a6243304",
   "metadata": {},
   "outputs": [
    {
     "name": "stdout",
     "output_type": "stream",
     "text": [
      "(34790, 3)\n",
      "Unique IDs: 31534.\n"
     ]
    },
    {
     "data": {
      "text/html": [
       "<div>\n",
       "<style scoped>\n",
       "    .dataframe tbody tr th:only-of-type {\n",
       "        vertical-align: middle;\n",
       "    }\n",
       "\n",
       "    .dataframe tbody tr th {\n",
       "        vertical-align: top;\n",
       "    }\n",
       "\n",
       "    .dataframe thead th {\n",
       "        text-align: right;\n",
       "    }\n",
       "</style>\n",
       "<table border=\"1\" class=\"dataframe\">\n",
       "  <thead>\n",
       "    <tr style=\"text-align: right;\">\n",
       "      <th></th>\n",
       "      <th>IDcllbf</th>\n",
       "      <th>geometry</th>\n",
       "      <th>qgis_id</th>\n",
       "    </tr>\n",
       "  </thead>\n",
       "  <tbody>\n",
       "    <tr>\n",
       "      <th>0</th>\n",
       "      <td>1.0</td>\n",
       "      <td>LINESTRING (350958.903 6302268.173, 350982.496...</td>\n",
       "      <td>0.0</td>\n",
       "    </tr>\n",
       "  </tbody>\n",
       "</table>\n",
       "</div>"
      ],
      "text/plain": [
       "   IDcllbf                                           geometry  qgis_id\n",
       "0      1.0  LINESTRING (350958.903 6302268.173, 350982.496...      0.0"
      ]
     },
     "execution_count": 104,
     "metadata": {},
     "output_type": "execute_result"
    }
   ],
   "source": [
    "# Load QGIS processed edges (Split lines with lines + Multipart to singleparts)\n",
    "qgis_processed_edges = gpd.read_file(gral_dir + f\"calidad_ep/{p_code}_{project_name}/{project_name}_single_parts.gpkg\" )\n",
    "qgis_processed_edges = qgis_processed_edges.set_crs(projected_crs)\n",
    "qgis_processed_edges = qgis_processed_edges[['IDcllbf','geometry']].copy()\n",
    "\n",
    "# Code ID starts at 0, while qgis_id starts at 1\n",
    "qgis_processed_edges['qgis_id'] = qgis_processed_edges['IDcllbf']-1\n",
    "\n",
    "# Show\n",
    "print(qgis_processed_edges.shape)\n",
    "print(f\"Unique IDs: {len(qgis_processed_edges.qgis_id.unique())}.\")\n",
    "qgis_processed_edges.head(1)"
   ]
  },
  {
   "cell_type": "code",
   "execution_count": 46,
   "id": "d4e1be5b-7703-4588-9f47-82e0a4ea3dd6",
   "metadata": {},
   "outputs": [
    {
     "name": "stdout",
     "output_type": "stream",
     "text": [
      "(34797, 3)\n",
      "Unique IDs: 31534.\n"
     ]
    },
    {
     "data": {
      "text/html": [
       "<div>\n",
       "<style scoped>\n",
       "    .dataframe tbody tr th:only-of-type {\n",
       "        vertical-align: middle;\n",
       "    }\n",
       "\n",
       "    .dataframe tbody tr th {\n",
       "        vertical-align: top;\n",
       "    }\n",
       "\n",
       "    .dataframe thead th {\n",
       "        text-align: right;\n",
       "    }\n",
       "</style>\n",
       "<table border=\"1\" class=\"dataframe\">\n",
       "  <thead>\n",
       "    <tr style=\"text-align: right;\">\n",
       "      <th></th>\n",
       "      <th></th>\n",
       "      <th>original_id</th>\n",
       "      <th>pje_ep</th>\n",
       "      <th>geometry</th>\n",
       "    </tr>\n",
       "  </thead>\n",
       "  <tbody>\n",
       "    <tr>\n",
       "      <th>0</th>\n",
       "      <th>0</th>\n",
       "      <td>0</td>\n",
       "      <td>0.209171</td>\n",
       "      <td>LINESTRING (-70.60280 -33.40858, -70.60255 -33...</td>\n",
       "    </tr>\n",
       "  </tbody>\n",
       "</table>\n",
       "</div>"
      ],
      "text/plain": [
       "     original_id    pje_ep                                           geometry\n",
       "0 0            0  0.209171  LINESTRING (-70.60280 -33.40858, -70.60255 -33..."
      ]
     },
     "execution_count": 46,
     "metadata": {},
     "output_type": "execute_result"
    }
   ],
   "source": [
    "# Bring gdf to be used for the comparison\n",
    "# (This split_lines_v1 resulted from working option 2, where <lines_gdf = lines_gdf.explode()> was added before applying function split_line())\n",
    "# Show\n",
    "print(split_lines_v1.shape)\n",
    "print(f\"Unique IDs: {len(split_lines_v1.original_id.unique())}.\")\n",
    "split_lines_v1.head(1)"
   ]
  },
  {
   "cell_type": "code",
   "execution_count": 119,
   "id": "b91bb5ca-a164-4681-a43b-cf8d5a889844",
   "metadata": {},
   "outputs": [
    {
     "name": "stdout",
     "output_type": "stream",
     "text": [
      "7\n"
     ]
    },
    {
     "data": {
      "text/html": [
       "<div>\n",
       "<style scoped>\n",
       "    .dataframe tbody tr th:only-of-type {\n",
       "        vertical-align: middle;\n",
       "    }\n",
       "\n",
       "    .dataframe tbody tr th {\n",
       "        vertical-align: top;\n",
       "    }\n",
       "\n",
       "    .dataframe thead th {\n",
       "        text-align: right;\n",
       "    }\n",
       "</style>\n",
       "<table border=\"1\" class=\"dataframe\">\n",
       "  <thead>\n",
       "    <tr style=\"text-align: right;\">\n",
       "      <th></th>\n",
       "      <th>qgis_id</th>\n",
       "      <th>qgis_count</th>\n",
       "      <th>original_id</th>\n",
       "      <th>code_count</th>\n",
       "      <th>diff</th>\n",
       "    </tr>\n",
       "  </thead>\n",
       "  <tbody>\n",
       "    <tr>\n",
       "      <th>83</th>\n",
       "      <td>30261.0</td>\n",
       "      <td>5</td>\n",
       "      <td>30261</td>\n",
       "      <td>2</td>\n",
       "      <td>-3</td>\n",
       "    </tr>\n",
       "    <tr>\n",
       "      <th>210</th>\n",
       "      <td>31018.0</td>\n",
       "      <td>3</td>\n",
       "      <td>31018</td>\n",
       "      <td>2</td>\n",
       "      <td>-1</td>\n",
       "    </tr>\n",
       "    <tr>\n",
       "      <th>219</th>\n",
       "      <td>31131.0</td>\n",
       "      <td>3</td>\n",
       "      <td>31131</td>\n",
       "      <td>2</td>\n",
       "      <td>-1</td>\n",
       "    </tr>\n",
       "    <tr>\n",
       "      <th>261</th>\n",
       "      <td>5989.0</td>\n",
       "      <td>3</td>\n",
       "      <td>5989</td>\n",
       "      <td>2</td>\n",
       "      <td>-1</td>\n",
       "    </tr>\n",
       "    <tr>\n",
       "      <th>263</th>\n",
       "      <td>5276.0</td>\n",
       "      <td>3</td>\n",
       "      <td>5276</td>\n",
       "      <td>2</td>\n",
       "      <td>-1</td>\n",
       "    </tr>\n",
       "    <tr>\n",
       "      <th>...</th>\n",
       "      <td>...</td>\n",
       "      <td>...</td>\n",
       "      <td>...</td>\n",
       "      <td>...</td>\n",
       "      <td>...</td>\n",
       "    </tr>\n",
       "    <tr>\n",
       "      <th>29358</th>\n",
       "      <td>9302.0</td>\n",
       "      <td>1</td>\n",
       "      <td>9302</td>\n",
       "      <td>2</td>\n",
       "      <td>1</td>\n",
       "    </tr>\n",
       "    <tr>\n",
       "      <th>29522</th>\n",
       "      <td>9131.0</td>\n",
       "      <td>1</td>\n",
       "      <td>9131</td>\n",
       "      <td>2</td>\n",
       "      <td>1</td>\n",
       "    </tr>\n",
       "    <tr>\n",
       "      <th>29523</th>\n",
       "      <td>9130.0</td>\n",
       "      <td>1</td>\n",
       "      <td>9130</td>\n",
       "      <td>2</td>\n",
       "      <td>1</td>\n",
       "    </tr>\n",
       "    <tr>\n",
       "      <th>31182</th>\n",
       "      <td>11401.0</td>\n",
       "      <td>1</td>\n",
       "      <td>11401</td>\n",
       "      <td>2</td>\n",
       "      <td>1</td>\n",
       "    </tr>\n",
       "    <tr>\n",
       "      <th>31443</th>\n",
       "      <td>11131.0</td>\n",
       "      <td>1</td>\n",
       "      <td>11131</td>\n",
       "      <td>2</td>\n",
       "      <td>1</td>\n",
       "    </tr>\n",
       "  </tbody>\n",
       "</table>\n",
       "<p>86 rows × 5 columns</p>\n",
       "</div>"
      ],
      "text/plain": [
       "       qgis_id  qgis_count  original_id  code_count  diff\n",
       "83     30261.0           5        30261           2    -3\n",
       "210    31018.0           3        31018           2    -1\n",
       "219    31131.0           3        31131           2    -1\n",
       "261     5989.0           3         5989           2    -1\n",
       "263     5276.0           3         5276           2    -1\n",
       "...        ...         ...          ...         ...   ...\n",
       "29358   9302.0           1         9302           2     1\n",
       "29522   9131.0           1         9131           2     1\n",
       "29523   9130.0           1         9130           2     1\n",
       "31182  11401.0           1        11401           2     1\n",
       "31443  11131.0           1        11131           2     1\n",
       "\n",
       "[86 rows x 5 columns]"
      ]
     },
     "execution_count": 119,
     "metadata": {},
     "output_type": "execute_result"
    }
   ],
   "source": [
    "# Count how many times each original id is located in each gdf\n",
    "qgis_count = qgis_processed_edges['qgis_id'].value_counts().reset_index()\n",
    "qgis_count.rename(columns={'count':'qgis_count'},inplace=True)\n",
    "\n",
    "split_lines_count = split_lines_v1['original_id'].value_counts().reset_index()\n",
    "split_lines_count.rename(columns={'count':'code_count'},inplace=True)\n",
    "\n",
    "# Merge to compare counts\n",
    "merged_count = pd.merge(qgis_count,split_lines_count,left_on='qgis_id',right_on='original_id')\n",
    "merged_count['diff'] = merged_count['code_count'] - merged_count['qgis_count']\n",
    "diffs = merged_count.loc[merged_count['diff']!=0]\n",
    "\n",
    "# Show\n",
    "print(diffs['diff'].sum())\n",
    "diffs.loc[diffs.code_count==2]"
   ]
  },
  {
   "cell_type": "code",
   "execution_count": 130,
   "id": "9c8e939e-a973-4e5b-800f-941e6348a37d",
   "metadata": {},
   "outputs": [
    {
     "data": {
      "text/plain": [
       "<Axes: >"
      ]
     },
     "execution_count": 130,
     "metadata": {},
     "output_type": "execute_result"
    },
    {
     "data": {
      "image/png": "[encoded data removed]",
      "text/plain": [
       "<Figure size 640x480 with 4 Axes>"
      ]
     },
     "metadata": {},
     "output_type": "display_data"
    }
   ],
   "source": [
    "line_id = 9131\n",
    "\n",
    "fig,axs=plt.subplots(2,2)\n",
    "\n",
    "# Plot line of interest\n",
    "# QGIS line\n",
    "qgis_processed_edges.loc[qgis_processed_edges.qgis_id==line_id].plot('qgis_id',ax=axs[0,0])\n",
    "# Code line\n",
    "split_lines_v1.loc[split_lines_v1.original_id==line_id].plot('original_id',ax=axs[0,1])\n",
    "\n",
    "# Plot what that line intersects\n",
    "# QGIS intersections\n",
    "qgis_intersect = qgis_processed_edges.loc[qgis_processed_edges.qgis_id==line_id].copy()\n",
    "if qgis_intersect.crs != projected_crs:\n",
    "    try:\n",
    "        qgis_intersect = qgis_intersect.set_crs(projected_crs)\n",
    "    except:\n",
    "        qgis_intersect = qgis_intersect.to_crs(projected_crs)\n",
    "        \n",
    "intersecting = gpd.sjoin(pub_space_qty,qgis_intersect)\n",
    "intersecting.plot(ax=axs[1,0])\n",
    "\n",
    "# Code intersections\n",
    "code_intersect = split_lines_v1.loc[split_lines_v1.original_id==line_id].copy()\n",
    "if code_intersect.crs != projected_crs:\n",
    "    try:\n",
    "        code_intersect = code_intersect.set_crs(projected_crs)\n",
    "    except:\n",
    "        code_intersect = code_intersect.to_crs(projected_crs)\n",
    "intersecting = gpd.sjoin(pub_space_qty,code_intersect)\n",
    "intersecting.plot(ax=axs[1,1])"
   ]
  },
  {
   "cell_type": "code",
   "execution_count": 131,
   "id": "8be9ccab-7a77-4177-8164-514c57f7e66b",
   "metadata": {},
   "outputs": [
    {
     "data": {
      "text/html": [
       "<div>\n",
       "<style scoped>\n",
       "    .dataframe tbody tr th:only-of-type {\n",
       "        vertical-align: middle;\n",
       "    }\n",
       "\n",
       "    .dataframe tbody tr th {\n",
       "        vertical-align: top;\n",
       "    }\n",
       "\n",
       "    .dataframe thead th {\n",
       "        text-align: right;\n",
       "    }\n",
       "</style>\n",
       "<table border=\"1\" class=\"dataframe\">\n",
       "  <thead>\n",
       "    <tr style=\"text-align: right;\">\n",
       "      <th></th>\n",
       "      <th></th>\n",
       "      <th>original_id</th>\n",
       "      <th>pje_ep</th>\n",
       "      <th>geometry</th>\n",
       "    </tr>\n",
       "  </thead>\n",
       "  <tbody>\n",
       "    <tr>\n",
       "      <th rowspan=\"2\" valign=\"top\">9131</th>\n",
       "      <th>0</th>\n",
       "      <td>9131</td>\n",
       "      <td>0.920023</td>\n",
       "      <td>LINESTRING (-70.68490 -33.47829, -70.68475 -33...</td>\n",
       "    </tr>\n",
       "    <tr>\n",
       "      <th>0</th>\n",
       "      <td>9131</td>\n",
       "      <td>0.920023</td>\n",
       "      <td>LINESTRING (-70.68360 -33.47841, -70.68360 -33...</td>\n",
       "    </tr>\n",
       "  </tbody>\n",
       "</table>\n",
       "</div>"
      ],
      "text/plain": [
       "        original_id    pje_ep   \n",
       "9131 0         9131  0.920023  \\\n",
       "     0         9131  0.920023   \n",
       "\n",
       "                                                 geometry  \n",
       "9131 0  LINESTRING (-70.68490 -33.47829, -70.68475 -33...  \n",
       "     0  LINESTRING (-70.68360 -33.47841, -70.68360 -33...  "
      ]
     },
     "execution_count": 131,
     "metadata": {},
     "output_type": "execute_result"
    }
   ],
   "source": [
    "split_lines_v1.loc[split_lines_v1.original_id==line_id]"
   ]
  },
  {
   "cell_type": "code",
   "execution_count": 132,
   "id": "fb40f99a-b0a1-43fc-8ef9-61637bef3880",
   "metadata": {},
   "outputs": [
    {
     "data": {
      "text/html": [
       "<div>\n",
       "<style scoped>\n",
       "    .dataframe tbody tr th:only-of-type {\n",
       "        vertical-align: middle;\n",
       "    }\n",
       "\n",
       "    .dataframe tbody tr th {\n",
       "        vertical-align: top;\n",
       "    }\n",
       "\n",
       "    .dataframe thead th {\n",
       "        text-align: right;\n",
       "    }\n",
       "</style>\n",
       "<table border=\"1\" class=\"dataframe\">\n",
       "  <thead>\n",
       "    <tr style=\"text-align: right;\">\n",
       "      <th></th>\n",
       "      <th>IDcllbf</th>\n",
       "      <th>geometry</th>\n",
       "      <th>qgis_id</th>\n",
       "    </tr>\n",
       "  </thead>\n",
       "  <tbody>\n",
       "    <tr>\n",
       "      <th>10697</th>\n",
       "      <td>9132.0</td>\n",
       "      <td>LINESTRING (343449.898 6294417.905, 343463.623...</td>\n",
       "      <td>9131.0</td>\n",
       "    </tr>\n",
       "  </tbody>\n",
       "</table>\n",
       "</div>"
      ],
      "text/plain": [
       "       IDcllbf                                           geometry  qgis_id\n",
       "10697   9132.0  LINESTRING (343449.898 6294417.905, 343463.623...   9131.0"
      ]
     },
     "execution_count": 132,
     "metadata": {},
     "output_type": "execute_result"
    }
   ],
   "source": [
    "qgis_processed_edges.loc[qgis_processed_edges.IDcllbf==line_id+1]"
   ]
  },
  {
   "cell_type": "markdown",
   "id": "3724008a-4fa3-4907-8008-97c1a279ab16",
   "metadata": {
    "jp-MarkdownHeadingCollapsed": true
   },
   "source": [
    "## Step 1 - How to split lines with themselves? (Tests)"
   ]
  },
  {
   "cell_type": "markdown",
   "id": "db7152ab-ebc5-4c5d-aaa7-02388b6f4841",
   "metadata": {
    "jp-MarkdownHeadingCollapsed": true
   },
   "source": [
    "### Some lines (used in tests)"
   ]
  },
  {
   "cell_type": "code",
   "execution_count": 4,
   "id": "173c8a8b-873a-4062-b3fe-7e412ef6318c",
   "metadata": {},
   "outputs": [
    {
     "name": "stdout",
     "output_type": "stream",
     "text": [
      "(2000, 2)\n"
     ]
    },
    {
     "data": {
      "text/html": [
       "<div>\n",
       "<style scoped>\n",
       "    .dataframe tbody tr th:only-of-type {\n",
       "        vertical-align: middle;\n",
       "    }\n",
       "\n",
       "    .dataframe tbody tr th {\n",
       "        vertical-align: top;\n",
       "    }\n",
       "\n",
       "    .dataframe thead th {\n",
       "        text-align: right;\n",
       "    }\n",
       "</style>\n",
       "<table border=\"1\" class=\"dataframe\">\n",
       "  <thead>\n",
       "    <tr style=\"text-align: right;\">\n",
       "      <th></th>\n",
       "      <th>pje_ep</th>\n",
       "      <th>geometry</th>\n",
       "    </tr>\n",
       "  </thead>\n",
       "  <tbody>\n",
       "    <tr>\n",
       "      <th>0</th>\n",
       "      <td>0.209171</td>\n",
       "      <td>LINESTRING (-70.60280 -33.40858, -70.60255 -33...</td>\n",
       "    </tr>\n",
       "    <tr>\n",
       "      <th>1</th>\n",
       "      <td>0.273895</td>\n",
       "      <td>LINESTRING (-70.60036 -33.40805, -70.60032 -33...</td>\n",
       "    </tr>\n",
       "  </tbody>\n",
       "</table>\n",
       "</div>"
      ],
      "text/plain": [
       "     pje_ep                                           geometry\n",
       "0  0.209171  LINESTRING (-70.60280 -33.40858, -70.60255 -33...\n",
       "1  0.273895  LINESTRING (-70.60036 -33.40805, -70.60032 -33..."
      ]
     },
     "execution_count": 4,
     "metadata": {},
     "output_type": "execute_result"
    }
   ],
   "source": [
    "# Tests - Isolate the first 10 lines\n",
    "some_lines = gdf.loc[0:1999]\n",
    "\n",
    "# Show\n",
    "print(some_lines.shape)\n",
    "some_lines.head(2)"
   ]
  },
  {
   "cell_type": "code",
   "execution_count": 5,
   "id": "b788e073-012a-498b-a9d8-9909a8826ac4",
   "metadata": {},
   "outputs": [
    {
     "data": {
      "text/plain": [
       "<Axes: >"
      ]
     },
     "execution_count": 5,
     "metadata": {},
     "output_type": "execute_result"
    },
    {
     "data": {
      "image/png": "[encoded data removed]",
      "text/plain": [
       "<Figure size 640x480 with 1 Axes>"
      ]
     },
     "metadata": {},
     "output_type": "display_data"
    }
   ],
   "source": [
    "some_lines.plot()"
   ]
  },
  {
   "cell_type": "markdown",
   "id": "bccd6c50-cf04-4e99-acff-7fcbec399458",
   "metadata": {
    "jp-MarkdownHeadingCollapsed": true
   },
   "source": [
    "### Split lines with themselves test - __[Working, 10mins aprox.]__ Intersecting each line with the unary union of the rest of the lines using .apply()"
   ]
  },
  {
   "cell_type": "markdown",
   "id": "84ed995d-59cd-4b11-a174-5c7bfa2a1afd",
   "metadata": {},
   "source": [
    "#### __Part 1:__ precompute_unary_union function"
   ]
  },
  {
   "cell_type": "markdown",
   "id": "d98fb447-0979-422c-8bf9-8635aca0dd9c",
   "metadata": {
    "jp-MarkdownHeadingCollapsed": true
   },
   "source": [
    "##### __Part 1 Option A__ (Memory crashes with complete gdf, option B is faster and lighter)"
   ]
  },
  {
   "cell_type": "markdown",
   "id": "0425a08a-f39e-4b90-9cb4-ae7c3bc33d69",
   "metadata": {},
   "source": [
    "* 2000 lines result: 41.16s, 144,144 bytes.\n",
    "* Complete gdf result: Memory crash"
   ]
  },
  {
   "cell_type": "code",
   "execution_count": 30,
   "id": "f248d6e5-0f1c-46bf-8281-dd0f58e0387f",
   "metadata": {},
   "outputs": [
    {
     "name": "stdout",
     "output_type": "stream",
     "text": [
      "41.16363716125488\n",
      "(2000, 4)\n",
      "144144\n"
     ]
    },
    {
     "data": {
      "text/html": [
       "<div>\n",
       "<style scoped>\n",
       "    .dataframe tbody tr th:only-of-type {\n",
       "        vertical-align: middle;\n",
       "    }\n",
       "\n",
       "    .dataframe tbody tr th {\n",
       "        vertical-align: top;\n",
       "    }\n",
       "\n",
       "    .dataframe thead th {\n",
       "        text-align: right;\n",
       "    }\n",
       "</style>\n",
       "<table border=\"1\" class=\"dataframe\">\n",
       "  <thead>\n",
       "    <tr style=\"text-align: right;\">\n",
       "      <th></th>\n",
       "      <th>original_id</th>\n",
       "      <th>pje_ep</th>\n",
       "      <th>geometry</th>\n",
       "      <th>unary_geometry</th>\n",
       "    </tr>\n",
       "  </thead>\n",
       "  <tbody>\n",
       "    <tr>\n",
       "      <th>0</th>\n",
       "      <td>0</td>\n",
       "      <td>0.209171</td>\n",
       "      <td>LINESTRING (-70.60280 -33.40858, -70.60255 -33...</td>\n",
       "      <td>MULTILINESTRING ((-70.60035990020656 -33.40804...</td>\n",
       "    </tr>\n",
       "    <tr>\n",
       "      <th>1</th>\n",
       "      <td>1</td>\n",
       "      <td>0.273895</td>\n",
       "      <td>LINESTRING (-70.60036 -33.40805, -70.60032 -33...</td>\n",
       "      <td>MULTILINESTRING ((-70.6028043226681 -33.408581...</td>\n",
       "    </tr>\n",
       "    <tr>\n",
       "      <th>2</th>\n",
       "      <td>2</td>\n",
       "      <td>0.335099</td>\n",
       "      <td>LINESTRING (-70.60215 -33.40975, -70.60207 -33...</td>\n",
       "      <td>MULTILINESTRING ((-70.6028043226681 -33.408581...</td>\n",
       "    </tr>\n",
       "    <tr>\n",
       "      <th>3</th>\n",
       "      <td>3</td>\n",
       "      <td>0.106013</td>\n",
       "      <td>LINESTRING (-70.60215 -33.40975, -70.60213 -33...</td>\n",
       "      <td>MULTILINESTRING ((-70.6028043226681 -33.408581...</td>\n",
       "    </tr>\n",
       "    <tr>\n",
       "      <th>4</th>\n",
       "      <td>4</td>\n",
       "      <td>0.019630</td>\n",
       "      <td>LINESTRING (-70.60426 -33.40751, -70.60418 -33...</td>\n",
       "      <td>MULTILINESTRING ((-70.6028043226681 -33.408581...</td>\n",
       "    </tr>\n",
       "    <tr>\n",
       "      <th>...</th>\n",
       "      <td>...</td>\n",
       "      <td>...</td>\n",
       "      <td>...</td>\n",
       "      <td>...</td>\n",
       "    </tr>\n",
       "    <tr>\n",
       "      <th>1995</th>\n",
       "      <td>1995</td>\n",
       "      <td>0.398871</td>\n",
       "      <td>LINESTRING (-70.71241 -33.47566, -70.71233 -33...</td>\n",
       "      <td>MULTILINESTRING ((-70.6028043226681 -33.408581...</td>\n",
       "    </tr>\n",
       "    <tr>\n",
       "      <th>1996</th>\n",
       "      <td>1996</td>\n",
       "      <td>0.759022</td>\n",
       "      <td>LINESTRING (-70.59714 -33.44613, -70.59707 -33...</td>\n",
       "      <td>MULTILINESTRING ((-70.6028043226681 -33.408581...</td>\n",
       "    </tr>\n",
       "    <tr>\n",
       "      <th>1997</th>\n",
       "      <td>1997</td>\n",
       "      <td>0.542557</td>\n",
       "      <td>LINESTRING (-70.61383 -33.44717, -70.61389 -33...</td>\n",
       "      <td>MULTILINESTRING ((-70.6028043226681 -33.408581...</td>\n",
       "    </tr>\n",
       "    <tr>\n",
       "      <th>1998</th>\n",
       "      <td>1998</td>\n",
       "      <td>0.882666</td>\n",
       "      <td>LINESTRING (-70.58764 -33.44384, -70.58863 -33...</td>\n",
       "      <td>MULTILINESTRING ((-70.6028043226681 -33.408581...</td>\n",
       "    </tr>\n",
       "    <tr>\n",
       "      <th>1999</th>\n",
       "      <td>1999</td>\n",
       "      <td>0.962041</td>\n",
       "      <td>LINESTRING (-70.58943 -33.44949, -70.59028 -33...</td>\n",
       "      <td>MULTILINESTRING ((-70.6028043226681 -33.408581...</td>\n",
       "    </tr>\n",
       "  </tbody>\n",
       "</table>\n",
       "<p>2000 rows × 4 columns</p>\n",
       "</div>"
      ],
      "text/plain": [
       "      original_id    pje_ep   \n",
       "0               0  0.209171  \\\n",
       "1               1  0.273895   \n",
       "2               2  0.335099   \n",
       "3               3  0.106013   \n",
       "4               4  0.019630   \n",
       "...           ...       ...   \n",
       "1995         1995  0.398871   \n",
       "1996         1996  0.759022   \n",
       "1997         1997  0.542557   \n",
       "1998         1998  0.882666   \n",
       "1999         1999  0.962041   \n",
       "\n",
       "                                               geometry   \n",
       "0     LINESTRING (-70.60280 -33.40858, -70.60255 -33...  \\\n",
       "1     LINESTRING (-70.60036 -33.40805, -70.60032 -33...   \n",
       "2     LINESTRING (-70.60215 -33.40975, -70.60207 -33...   \n",
       "3     LINESTRING (-70.60215 -33.40975, -70.60213 -33...   \n",
       "4     LINESTRING (-70.60426 -33.40751, -70.60418 -33...   \n",
       "...                                                 ...   \n",
       "1995  LINESTRING (-70.71241 -33.47566, -70.71233 -33...   \n",
       "1996  LINESTRING (-70.59714 -33.44613, -70.59707 -33...   \n",
       "1997  LINESTRING (-70.61383 -33.44717, -70.61389 -33...   \n",
       "1998  LINESTRING (-70.58764 -33.44384, -70.58863 -33...   \n",
       "1999  LINESTRING (-70.58943 -33.44949, -70.59028 -33...   \n",
       "\n",
       "                                         unary_geometry  \n",
       "0     MULTILINESTRING ((-70.60035990020656 -33.40804...  \n",
       "1     MULTILINESTRING ((-70.6028043226681 -33.408581...  \n",
       "2     MULTILINESTRING ((-70.6028043226681 -33.408581...  \n",
       "3     MULTILINESTRING ((-70.6028043226681 -33.408581...  \n",
       "4     MULTILINESTRING ((-70.6028043226681 -33.408581...  \n",
       "...                                                 ...  \n",
       "1995  MULTILINESTRING ((-70.6028043226681 -33.408581...  \n",
       "1996  MULTILINESTRING ((-70.6028043226681 -33.408581...  \n",
       "1997  MULTILINESTRING ((-70.6028043226681 -33.408581...  \n",
       "1998  MULTILINESTRING ((-70.6028043226681 -33.408581...  \n",
       "1999  MULTILINESTRING ((-70.6028043226681 -33.408581...  \n",
       "\n",
       "[2000 rows x 4 columns]"
      ]
     },
     "execution_count": 30,
     "metadata": {},
     "output_type": "execute_result"
    }
   ],
   "source": [
    "def precompute_unary_union(gdf):\n",
    "    \n",
    "    # Reset index in order to keep track of original line id\n",
    "    lines_gdf = gdf.copy()\n",
    "    lines_gdf = lines_gdf.reset_index()\n",
    "    lines_gdf = lines_gdf.rename(columns={'index':'original_id'})\n",
    "\n",
    "    # Create unary union of all lines except itself\n",
    "    lines_gdf['unary_geometry'] = None\n",
    "    \n",
    "    unary_sum_time = 0\n",
    "    \n",
    "    for idx, row in lines_gdf.iterrows():\n",
    "        \n",
    "        start = time.time()\n",
    "\n",
    "        # Option A: rest_of_lines is all lines except itself\n",
    "        rest_of_lines = lines_gdf.drop(idx).copy().explode()\n",
    "        \n",
    "        # Option B: rest_of_lines is lines that intersect line_of_interest (Remove itself to avoid trying to intersect with itself)\n",
    "        #line_of_interest = lines_gdf.loc[lines_gdf.original_id==idx].copy()\n",
    "        #intersecting_idxs = list(line_of_interest.sjoin(lines_gdf).original_id_right.unique())\n",
    "        #intersecting_idxs.remove(idx)\n",
    "        #rest_of_lines = lines_gdf.loc[lines_gdf.original_id.isin(intersecting_idxs)].copy().explode()\n",
    "\n",
    "        # Save unary union\n",
    "        lines_gdf.at[idx, 'unary_geometry'] = rest_of_lines.unary_union\n",
    "\n",
    "        unary_time = time.time()\n",
    "        unary_extent = unary_time - start\n",
    "        unary_sum_time = unary_sum_time + unary_extent\n",
    "\n",
    "    print(unary_sum_time)\n",
    "        \n",
    "    return lines_gdf\n",
    "\n",
    "option_a = precompute_unary_union(some_lines)\n",
    "\n",
    "# Show\n",
    "print(option_a.shape)\n",
    "print(sys.getsizeof(option_a))\n",
    "option_a"
   ]
  },
  {
   "cell_type": "markdown",
   "id": "104a0755-e59c-48c4-ae11-210a63475b5e",
   "metadata": {
    "jp-MarkdownHeadingCollapsed": true
   },
   "source": [
    "##### __Part 1 Option B__"
   ]
  },
  {
   "cell_type": "markdown",
   "id": "667c065a-a8cf-4090-9b48-36b8d1e5aa52",
   "metadata": {},
   "source": [
    "* 2000 lines result: 29.17s, 114,672 bytes.\n",
    "* Complete gdf result: 595.57s (9.92min), 2,268,720 bytes (2.27Mb)"
   ]
  },
  {
   "cell_type": "code",
   "execution_count": null,
   "id": "f8091761-a9b7-45dc-be1a-cefe0a289296",
   "metadata": {},
   "outputs": [],
   "source": [
    "def precompute_unary_union(gdf):\n",
    "    \n",
    "    # Reset index in order to keep track of original line id\n",
    "    lines_gdf = gdf.copy()\n",
    "    lines_gdf = lines_gdf.reset_index()\n",
    "    lines_gdf = lines_gdf.rename(columns={'index':'original_id'})\n",
    "\n",
    "    # Create unary union of all lines except itself\n",
    "    lines_gdf['unary_geometry'] = None\n",
    "    \n",
    "    unary_sum_time = 0\n",
    "    \n",
    "    for idx, row in lines_gdf.iterrows():\n",
    "        \n",
    "        start = time.time()\n",
    "\n",
    "        # Option A: rest_of_lines is all lines except itself\n",
    "        #rest_of_lines = lines_gdf.drop(idx).copy().explode()\n",
    "        \n",
    "        # Option B: rest_of_lines is lines that intersect line_of_interest (Remove itself to avoid trying to intersect with itself)\n",
    "        line_of_interest = lines_gdf.loc[lines_gdf.original_id==idx].copy()\n",
    "        intersecting_idxs = list(line_of_interest.sjoin(lines_gdf).original_id_right.unique())\n",
    "        intersecting_idxs.remove(idx)\n",
    "        rest_of_lines = lines_gdf.loc[lines_gdf.original_id.isin(intersecting_idxs)].copy().explode()\n",
    "\n",
    "        # Save unary union\n",
    "        lines_gdf.at[idx, 'unary_geometry'] = rest_of_lines.unary_union\n",
    "\n",
    "        unary_time = time.time()\n",
    "        unary_extent = unary_time - start\n",
    "        unary_sum_time = unary_sum_time + unary_extent\n",
    "\n",
    "    print(unary_sum_time)\n",
    "        \n",
    "    return lines_gdf\n",
    "\n",
    "option_b = precompute_unary_union(gdf)\n",
    "\n",
    "# Show\n",
    "print(option_b.shape)\n",
    "print(sys.getsizeof(option_b))\n",
    "option_b"
   ]
  },
  {
   "cell_type": "markdown",
   "id": "1d483a76-ed24-4286-8924-f339eaeabcd9",
   "metadata": {
    "jp-MarkdownHeadingCollapsed": true
   },
   "source": [
    "#### __Part 2__"
   ]
  },
  {
   "cell_type": "markdown",
   "id": "a41a7196-aed3-429a-b0df-f2bd17c19657",
   "metadata": {},
   "source": [
    "Input: Part 1 Option b"
   ]
  },
  {
   "cell_type": "code",
   "execution_count": null,
   "id": "7b631926-1c6b-43a5-a1f4-bc36e3089c00",
   "metadata": {},
   "outputs": [],
   "source": [
    "# Show\n",
    "print(option_b.shape)\n",
    "option_b.head(1)"
   ]
  },
  {
   "cell_type": "code",
   "execution_count": 98,
   "id": "caebd432-0af4-45f7-a922-efab44a2fb7e",
   "metadata": {},
   "outputs": [
    {
     "name": "stdout",
     "output_type": "stream",
     "text": [
      "(34790, 3)\n"
     ]
    },
    {
     "data": {
      "text/html": [
       "<div>\n",
       "<style scoped>\n",
       "    .dataframe tbody tr th:only-of-type {\n",
       "        vertical-align: middle;\n",
       "    }\n",
       "\n",
       "    .dataframe tbody tr th {\n",
       "        vertical-align: top;\n",
       "    }\n",
       "\n",
       "    .dataframe thead th {\n",
       "        text-align: right;\n",
       "    }\n",
       "</style>\n",
       "<table border=\"1\" class=\"dataframe\">\n",
       "  <thead>\n",
       "    <tr style=\"text-align: right;\">\n",
       "      <th></th>\n",
       "      <th>original_id</th>\n",
       "      <th>pje_ep</th>\n",
       "      <th>geometry</th>\n",
       "    </tr>\n",
       "  </thead>\n",
       "  <tbody>\n",
       "    <tr>\n",
       "      <th>0</th>\n",
       "      <td>0</td>\n",
       "      <td>0.209171</td>\n",
       "      <td>LINESTRING (-70.60280 -33.40858, -70.60255 -33...</td>\n",
       "    </tr>\n",
       "  </tbody>\n",
       "</table>\n",
       "</div>"
      ],
      "text/plain": [
       "   original_id    pje_ep                                           geometry\n",
       "0            0  0.209171  LINESTRING (-70.60280 -33.40858, -70.60255 -33..."
      ]
     },
     "execution_count": 98,
     "metadata": {},
     "output_type": "execute_result"
    }
   ],
   "source": [
    "lines_gdf = option_b.copy()\n",
    "def split_line(row):\n",
    "    line_geom = row['geometry']\n",
    "    unary_geom = row['unary_geometry']\n",
    "    \n",
    "    try:\n",
    "        split_result = split(line_geom, unary_geom)\n",
    "        split_lines_geoms = list(split_result.geoms)\n",
    "        return split_lines_geoms\n",
    "    except:\n",
    "        split_lines_geoms = [line_geom]\n",
    "        return split_lines_geoms\n",
    "\n",
    "# Apply the split operation using .apply()\n",
    "lines_gdf['split_lines'] = lines_gdf.apply(split_line, axis=1)\n",
    "\n",
    "# Explode the split lines into separate rows according to the list of geometries located in split_lines\n",
    "exploded_split_lines = lines_gdf.explode('split_lines').drop(columns=['geometry']).rename(columns={'split_lines': 'geometry'})\n",
    "\n",
    "# Create a new GeoDataFrame with the split lines\n",
    "split_lines_gdf = gpd.GeoDataFrame(exploded_split_lines, geometry='geometry', crs=lines_gdf.crs)\n",
    "\n",
    "# Drop unary_geometry col\n",
    "split_lines_gdf.drop(columns=['unary_geometry'],inplace=True)\n",
    "\n",
    "# Show\n",
    "print(split_lines_gdf.shape)\n",
    "split_lines_gdf.head(1)"
   ]
  },
  {
   "cell_type": "markdown",
   "id": "c557bb78-73ce-4d05-b13d-481d216eb226",
   "metadata": {
    "jp-MarkdownHeadingCollapsed": true
   },
   "source": [
    "### Split lines with themselves test - __[Working, 10 mins aprox.]__ Intersecting each line with the unary union of the rest of the lines"
   ]
  },
  {
   "cell_type": "markdown",
   "id": "c2205eac-ae7a-41ff-bf7a-9e9bb017d324",
   "metadata": {
    "jp-MarkdownHeadingCollapsed": true
   },
   "source": [
    "#### __Option A:__ Unary union of all lines except line_of_interest"
   ]
  },
  {
   "cell_type": "markdown",
   "id": "b59d6e43-cfd7-46bb-a1f0-865d04eadf42",
   "metadata": {},
   "source": [
    "* 2000 lines result: 40.53s unary union, 4.00s saving split lines.\n",
    "* Complete gdf result: Manually stopped after 1hr."
   ]
  },
  {
   "cell_type": "code",
   "execution_count": 32,
   "id": "89a9d7bc-5bfe-4be7-944c-efea18f350a3",
   "metadata": {},
   "outputs": [],
   "source": [
    "def split_lines_with_themselves(lines_gdf):\n",
    "    split_lines = gpd.GeoDataFrame()\n",
    "    i = 0\n",
    "    \n",
    "    # Reset index in order to keep track of original line id\n",
    "    original_lines = lines_gdf.copy()\n",
    "    original_lines = original_lines.reset_index()\n",
    "    original_lines = original_lines.rename(columns={'index':'original_id'})\n",
    "\n",
    "    unary_sum_time = 0\n",
    "    split_sum_time = 0\n",
    "    \n",
    "    # Iterate over each line\n",
    "    for idx in list(original_lines.original_id.unique()):\n",
    "        start = time.time()\n",
    "        \n",
    "        # Find original line and its geometry\n",
    "        line_of_interest = original_lines.loc[original_lines.original_id == idx]\n",
    "        line_geom = line_of_interest.geometry.unique()[0]\n",
    "        # Create unary union (geometry) out of the rest of the lines (Avoids trying to intersect with itself)\n",
    "        rest_of_lines = original_lines.loc[original_lines.original_id != idx]\n",
    "        gdf_exploded = rest_of_lines.copy().explode()\n",
    "        unary_union = gdf_exploded.unary_union\n",
    "\n",
    "        unary_time = time.time()\n",
    "        unary_extent = unary_time - start\n",
    "        \n",
    "        # Try splitting the line with the rest of the lines\n",
    "        try:\n",
    "            # Split geom with unary union\n",
    "            split_result = split(line_geom, unary_union)\n",
    "            # Extract clipped lines\n",
    "            split_lines_geoms = list(split_result.geoms)\n",
    "            # Register data\n",
    "            for split_line_geom in split_lines_geoms:\n",
    "                split_lines.loc[i,'original_id'] = line_of_interest.original_id.unique()[0]\n",
    "                split_lines.loc[i,'pje_ep'] = line_of_interest.pje_ep.unique()[0]\n",
    "                split_lines.loc[i,'geometry'] = split_line_geom\n",
    "            \n",
    "                i +=1\n",
    "                \n",
    "        # Except it doesn't need splitting, then just append the line\n",
    "        except:\n",
    "            split_lines.loc[i,'original_id'] = line_of_interest.original_id.unique()[0]\n",
    "            split_lines.loc[i,'pje_ep'] = line_of_interest.pje_ep.unique()[0]\n",
    "            split_lines.loc[i,'geometry'] = line_geom\n",
    "            i +=1\n",
    "\n",
    "        split_time = time.time()\n",
    "        split_extent = split_time - unary_time\n",
    "\n",
    "        unary_sum_time = unary_sum_time + unary_extent\n",
    "        split_sum_time = split_sum_time + split_extent\n",
    "            \n",
    "        #print(f\"unary_time {idx}: {unary_time - start}\")\n",
    "        #print(f\"split_time {idx}: {split_time - unary_time}\")\n",
    "        \n",
    "    print(f\"unary_time {unary_sum_time}\")\n",
    "    print(f\"split_time {split_sum_time}\")\n",
    "    \n",
    "    try:\n",
    "        split_lines.set_crs(\"EPSG:4326\")\n",
    "    except:\n",
    "        split_lines.to_crs(\"EPSG:4326\")\n",
    "    \n",
    "    return split_lines"
   ]
  },
  {
   "cell_type": "code",
   "execution_count": 88,
   "id": "8ad1e11b-019a-4ef0-adb9-58245e804a36",
   "metadata": {},
   "outputs": [
    {
     "name": "stdout",
     "output_type": "stream",
     "text": [
      "unary_time 0.06010150909423828\n",
      "split_time 0.02144789695739746\n",
      "(15, 3)\n"
     ]
    },
    {
     "data": {
      "text/html": [
       "<div>\n",
       "<style scoped>\n",
       "    .dataframe tbody tr th:only-of-type {\n",
       "        vertical-align: middle;\n",
       "    }\n",
       "\n",
       "    .dataframe tbody tr th {\n",
       "        vertical-align: top;\n",
       "    }\n",
       "\n",
       "    .dataframe thead th {\n",
       "        text-align: right;\n",
       "    }\n",
       "</style>\n",
       "<table border=\"1\" class=\"dataframe\">\n",
       "  <thead>\n",
       "    <tr style=\"text-align: right;\">\n",
       "      <th></th>\n",
       "      <th>original_id</th>\n",
       "      <th>pje_ep</th>\n",
       "      <th>geometry</th>\n",
       "    </tr>\n",
       "  </thead>\n",
       "  <tbody>\n",
       "    <tr>\n",
       "      <th>0</th>\n",
       "      <td>0.0</td>\n",
       "      <td>0.209171</td>\n",
       "      <td>LINESTRING (-70.60280 -33.40858, -70.60255 -33...</td>\n",
       "    </tr>\n",
       "    <tr>\n",
       "      <th>1</th>\n",
       "      <td>1.0</td>\n",
       "      <td>0.273895</td>\n",
       "      <td>LINESTRING (-70.60036 -33.40805, -70.60032 -33...</td>\n",
       "    </tr>\n",
       "  </tbody>\n",
       "</table>\n",
       "</div>"
      ],
      "text/plain": [
       "   original_id    pje_ep                                           geometry\n",
       "0          0.0  0.209171  LINESTRING (-70.60280 -33.40858, -70.60255 -33...\n",
       "1          1.0  0.273895  LINESTRING (-70.60036 -33.40805, -70.60032 -33..."
      ]
     },
     "execution_count": 88,
     "metadata": {},
     "output_type": "execute_result"
    }
   ],
   "source": [
    "# split_lines_with_themselves time test\n",
    "split_lines = split_lines_with_themselves(some_lines)\n",
    "\n",
    "# Show\n",
    "print(split_lines.shape)\n",
    "split_lines.head(2)"
   ]
  },
  {
   "cell_type": "code",
   "execution_count": 89,
   "id": "1003ba1b-cea4-47a2-bc55-79b2f0b4cb31",
   "metadata": {},
   "outputs": [
    {
     "data": {
      "text/html": [
       "<div>\n",
       "<style scoped>\n",
       "    .dataframe tbody tr th:only-of-type {\n",
       "        vertical-align: middle;\n",
       "    }\n",
       "\n",
       "    .dataframe tbody tr th {\n",
       "        vertical-align: top;\n",
       "    }\n",
       "\n",
       "    .dataframe thead th {\n",
       "        text-align: right;\n",
       "    }\n",
       "</style>\n",
       "<table border=\"1\" class=\"dataframe\">\n",
       "  <thead>\n",
       "    <tr style=\"text-align: right;\">\n",
       "      <th></th>\n",
       "      <th>original_id</th>\n",
       "      <th>pje_ep</th>\n",
       "      <th>geometry</th>\n",
       "    </tr>\n",
       "  </thead>\n",
       "  <tbody>\n",
       "    <tr>\n",
       "      <th>0</th>\n",
       "      <td>0.0</td>\n",
       "      <td>0.209171</td>\n",
       "      <td>LINESTRING (-70.60280 -33.40858, -70.60255 -33...</td>\n",
       "    </tr>\n",
       "    <tr>\n",
       "      <th>1</th>\n",
       "      <td>1.0</td>\n",
       "      <td>0.273895</td>\n",
       "      <td>LINESTRING (-70.60036 -33.40805, -70.60032 -33...</td>\n",
       "    </tr>\n",
       "    <tr>\n",
       "      <th>2</th>\n",
       "      <td>2.0</td>\n",
       "      <td>0.335099</td>\n",
       "      <td>LINESTRING (-70.60215 -33.40975, -70.60207 -33...</td>\n",
       "    </tr>\n",
       "    <tr>\n",
       "      <th>3</th>\n",
       "      <td>3.0</td>\n",
       "      <td>0.106013</td>\n",
       "      <td>LINESTRING (-70.60215 -33.40975, -70.60213 -33...</td>\n",
       "    </tr>\n",
       "    <tr>\n",
       "      <th>4</th>\n",
       "      <td>4.0</td>\n",
       "      <td>0.019630</td>\n",
       "      <td>LINESTRING (-70.60426 -33.40751, -70.60418 -33...</td>\n",
       "    </tr>\n",
       "    <tr>\n",
       "      <th>5</th>\n",
       "      <td>5.0</td>\n",
       "      <td>0.010179</td>\n",
       "      <td>LINESTRING (-70.60344 -33.40561, -70.60346 -33...</td>\n",
       "    </tr>\n",
       "    <tr>\n",
       "      <th>6</th>\n",
       "      <td>5.0</td>\n",
       "      <td>0.010179</td>\n",
       "      <td>LINESTRING (-70.60444 -33.40834, -70.60452 -33...</td>\n",
       "    </tr>\n",
       "    <tr>\n",
       "      <th>7</th>\n",
       "      <td>6.0</td>\n",
       "      <td>0.549756</td>\n",
       "      <td>LINESTRING (-70.60322 -33.40575, -70.60328 -33...</td>\n",
       "    </tr>\n",
       "    <tr>\n",
       "      <th>8</th>\n",
       "      <td>7.0</td>\n",
       "      <td>0.981766</td>\n",
       "      <td>LINESTRING (-70.60410 -33.40828, -70.60396 -33...</td>\n",
       "    </tr>\n",
       "    <tr>\n",
       "      <th>9</th>\n",
       "      <td>7.0</td>\n",
       "      <td>0.981766</td>\n",
       "      <td>LINESTRING (-70.60183 -33.40779, -70.60181 -33...</td>\n",
       "    </tr>\n",
       "    <tr>\n",
       "      <th>10</th>\n",
       "      <td>8.0</td>\n",
       "      <td>0.282520</td>\n",
       "      <td>LINESTRING (-70.60258 -33.40748, -70.60233 -33...</td>\n",
       "    </tr>\n",
       "    <tr>\n",
       "      <th>11</th>\n",
       "      <td>8.0</td>\n",
       "      <td>0.282520</td>\n",
       "      <td>LINESTRING (-70.60183 -33.40779, -70.60182 -33...</td>\n",
       "    </tr>\n",
       "    <tr>\n",
       "      <th>12</th>\n",
       "      <td>8.0</td>\n",
       "      <td>0.282520</td>\n",
       "      <td>LINESTRING (-70.60036 -33.40805, -70.60022 -33...</td>\n",
       "    </tr>\n",
       "    <tr>\n",
       "      <th>13</th>\n",
       "      <td>9.0</td>\n",
       "      <td>0.012304</td>\n",
       "      <td>LINESTRING (-70.60711 -33.41248, -70.60705 -33...</td>\n",
       "    </tr>\n",
       "    <tr>\n",
       "      <th>14</th>\n",
       "      <td>9.0</td>\n",
       "      <td>0.012304</td>\n",
       "      <td>LINESTRING (-70.60444 -33.40834, -70.60436 -33...</td>\n",
       "    </tr>\n",
       "  </tbody>\n",
       "</table>\n",
       "</div>"
      ],
      "text/plain": [
       "    original_id    pje_ep                                           geometry\n",
       "0           0.0  0.209171  LINESTRING (-70.60280 -33.40858, -70.60255 -33...\n",
       "1           1.0  0.273895  LINESTRING (-70.60036 -33.40805, -70.60032 -33...\n",
       "2           2.0  0.335099  LINESTRING (-70.60215 -33.40975, -70.60207 -33...\n",
       "3           3.0  0.106013  LINESTRING (-70.60215 -33.40975, -70.60213 -33...\n",
       "4           4.0  0.019630  LINESTRING (-70.60426 -33.40751, -70.60418 -33...\n",
       "5           5.0  0.010179  LINESTRING (-70.60344 -33.40561, -70.60346 -33...\n",
       "6           5.0  0.010179  LINESTRING (-70.60444 -33.40834, -70.60452 -33...\n",
       "7           6.0  0.549756  LINESTRING (-70.60322 -33.40575, -70.60328 -33...\n",
       "8           7.0  0.981766  LINESTRING (-70.60410 -33.40828, -70.60396 -33...\n",
       "9           7.0  0.981766  LINESTRING (-70.60183 -33.40779, -70.60181 -33...\n",
       "10          8.0  0.282520  LINESTRING (-70.60258 -33.40748, -70.60233 -33...\n",
       "11          8.0  0.282520  LINESTRING (-70.60183 -33.40779, -70.60182 -33...\n",
       "12          8.0  0.282520  LINESTRING (-70.60036 -33.40805, -70.60022 -33...\n",
       "13          9.0  0.012304  LINESTRING (-70.60711 -33.41248, -70.60705 -33...\n",
       "14          9.0  0.012304  LINESTRING (-70.60444 -33.40834, -70.60436 -33..."
      ]
     },
     "execution_count": 89,
     "metadata": {},
     "output_type": "execute_result"
    }
   ],
   "source": [
    "split_lines"
   ]
  },
  {
   "cell_type": "markdown",
   "id": "e5c822cb-217b-4557-925f-37b2bf389127",
   "metadata": {
    "jp-MarkdownHeadingCollapsed": true
   },
   "source": [
    "#### __Option B:__ Unary union of lines intersect line_of_interest only"
   ]
  },
  {
   "cell_type": "markdown",
   "id": "3b4985e8-a630-419b-bb4a-4ee7b96f4ed7",
   "metadata": {},
   "source": [
    "* 2000 lines result: 27.83s unary union, 2.05s saving split lines.\n",
    "* Full gdf result: 549.47s (9.16min) unary union, 63.68s saving split lines."
   ]
  },
  {
   "cell_type": "code",
   "execution_count": 34,
   "id": "4a4c30cf-f4bb-4909-84d4-0de71201dc27",
   "metadata": {},
   "outputs": [],
   "source": [
    "def split_lines_with_themselves_v2(lines_gdf):\n",
    "    split_lines = gpd.GeoDataFrame()\n",
    "    i = 0\n",
    "    \n",
    "    # Reset index in order to keep track of original line id\n",
    "    original_lines = lines_gdf.copy()\n",
    "    original_lines = original_lines.reset_index()\n",
    "    original_lines = original_lines.rename(columns={'index':'original_id'})\n",
    "\n",
    "    unary_sum_time = 0\n",
    "    split_sum_time = 0\n",
    "    \n",
    "    # Iterate over each line\n",
    "    for idx in list(original_lines.original_id.unique()):\n",
    "        start = time.time()\n",
    "        \n",
    "        # Find original line and its geometry\n",
    "        line_of_interest = original_lines.loc[original_lines.original_id == idx]\n",
    "        line_geom = line_of_interest.geometry.unique()[0]\n",
    "\n",
    "        # Find which lines intersect line of interest (Remove itself to avoid trying to intersect with itself)\n",
    "        intersecting_idxs = list(line_of_interest.sjoin(original_lines).original_id_right.unique())\n",
    "        intersecting_idxs.remove(idx)\n",
    "        rest_of_lines = original_lines.loc[original_lines.original_id.isin(intersecting_idxs)].copy()\n",
    "        \n",
    "        # Create unary union (geometry) out of the rest of the lines \n",
    "        gdf_exploded = rest_of_lines.copy().explode()\n",
    "        unary_union = gdf_exploded.unary_union\n",
    "\n",
    "        unary_time = time.time()\n",
    "        unary_extent = unary_time - start\n",
    "        \n",
    "        # Try splitting the line with the rest of the lines\n",
    "        try:\n",
    "            # Split geom with unary union\n",
    "            split_result = split(line_geom, unary_union)\n",
    "            # Extract clipped lines\n",
    "            split_lines_geoms = list(split_result.geoms)\n",
    "            # Register data\n",
    "            for split_line_geom in split_lines_geoms:\n",
    "                split_lines.loc[i,'original_id'] = line_of_interest.original_id.unique()[0]\n",
    "                split_lines.loc[i,'pje_ep'] = line_of_interest.pje_ep.unique()[0]\n",
    "                split_lines.loc[i,'geometry'] = split_line_geom\n",
    "            \n",
    "                i +=1\n",
    "                \n",
    "        # Except it doesn't need splitting, then just append the line\n",
    "        except:\n",
    "            split_lines.loc[i,'original_id'] = line_of_interest.original_id.unique()[0]\n",
    "            split_lines.loc[i,'pje_ep'] = line_of_interest.pje_ep.unique()[0]\n",
    "            split_lines.loc[i,'geometry'] = line_geom\n",
    "            i +=1\n",
    "\n",
    "        split_time = time.time()\n",
    "        split_extent = split_time - unary_time\n",
    "\n",
    "        unary_sum_time = unary_sum_time + unary_extent\n",
    "        split_sum_time = split_sum_time + split_extent\n",
    "        \n",
    "    print(f\"unary_time {unary_sum_time}\")\n",
    "    print(f\"split_time {split_sum_time}\")\n",
    "    \n",
    "    try:\n",
    "        split_lines.set_crs(\"EPSG:4326\")\n",
    "    except:\n",
    "        split_lines.to_crs(\"EPSG:4326\")\n",
    "    \n",
    "    return split_lines"
   ]
  },
  {
   "cell_type": "code",
   "execution_count": 37,
   "id": "b0d8ea6d-8727-448f-8833-2373994b5c33",
   "metadata": {},
   "outputs": [
    {
     "name": "stdout",
     "output_type": "stream",
     "text": [
      "unary_time 549.4746608734131\n",
      "split_time 63.688814878463745\n",
      "(31534, 3)\n"
     ]
    },
    {
     "data": {
      "text/html": [
       "<div>\n",
       "<style scoped>\n",
       "    .dataframe tbody tr th:only-of-type {\n",
       "        vertical-align: middle;\n",
       "    }\n",
       "\n",
       "    .dataframe tbody tr th {\n",
       "        vertical-align: top;\n",
       "    }\n",
       "\n",
       "    .dataframe thead th {\n",
       "        text-align: right;\n",
       "    }\n",
       "</style>\n",
       "<table border=\"1\" class=\"dataframe\">\n",
       "  <thead>\n",
       "    <tr style=\"text-align: right;\">\n",
       "      <th></th>\n",
       "      <th>original_id</th>\n",
       "      <th>pje_ep</th>\n",
       "      <th>geometry</th>\n",
       "    </tr>\n",
       "  </thead>\n",
       "  <tbody>\n",
       "    <tr>\n",
       "      <th>0</th>\n",
       "      <td>0.0</td>\n",
       "      <td>0.209171</td>\n",
       "      <td>LINESTRING (-70.60280 -33.40858, -70.60255 -33...</td>\n",
       "    </tr>\n",
       "    <tr>\n",
       "      <th>1</th>\n",
       "      <td>1.0</td>\n",
       "      <td>0.273895</td>\n",
       "      <td>LINESTRING (-70.60036 -33.40805, -70.60032 -33...</td>\n",
       "    </tr>\n",
       "  </tbody>\n",
       "</table>\n",
       "</div>"
      ],
      "text/plain": [
       "   original_id    pje_ep                                           geometry\n",
       "0          0.0  0.209171  LINESTRING (-70.60280 -33.40858, -70.60255 -33...\n",
       "1          1.0  0.273895  LINESTRING (-70.60036 -33.40805, -70.60032 -33..."
      ]
     },
     "execution_count": 37,
     "metadata": {},
     "output_type": "execute_result"
    }
   ],
   "source": [
    "# split_lines_with_themselves_v2 time test\n",
    "split_lines = split_lines_with_themselves_v2(gdf)\n",
    "\n",
    "# Show\n",
    "print(split_lines.shape)\n",
    "split_lines.head(2)"
   ]
  },
  {
   "cell_type": "code",
   "execution_count": 12,
   "id": "c38b91ed-f4ff-46d5-b233-07a7aa657b15",
   "metadata": {},
   "outputs": [],
   "source": [
    "# Check result in QGIS\n",
    "#some_lines.to_file(gral_dir + \"some_lines.gpkg\", driver='GPKG')\n",
    "#split_lines.to_file(gral_dir + \"split_lines.gpkg\", driver='GPKG')"
   ]
  },
  {
   "cell_type": "markdown",
   "id": "6b66f09a-2866-4bc7-af93-0655f7392c27",
   "metadata": {
    "jp-MarkdownHeadingCollapsed": true
   },
   "source": [
    "### Split lines with themselves test - __[NOT WORKING]__ Sjoining each line with the rest to identify which lines cross with with that line."
   ]
  },
  {
   "cell_type": "code",
   "execution_count": 94,
   "id": "7d1506f1-504d-4e3b-859a-c665766bf610",
   "metadata": {},
   "outputs": [],
   "source": [
    "def split_lines_with_themselves(lines_gdf):\n",
    "\n",
    "    original_lines = lines_gdf.copy()\n",
    "    original_lines.reset_index(inplace=True)\n",
    "    original_lines = original_lines.rename(columns={'index':'original_id'})\n",
    "\n",
    "    idx_lst = [0,1,2,3,4,5,6,7,8] #list(original_lines.original_id.unique())\n",
    "\n",
    "    # Find which lines intersect with which lines\n",
    "    sjoined = original_lines.sjoin(original_lines)\n",
    "    \n",
    "    split_lines_list = []\n",
    "    for idx in idx_lst:\n",
    "        # Locate line of interest\n",
    "        line_of_interest = original_lines.loc[original_lines.original_id==idx]\n",
    "        # Locate which lines intersect that line of interest (Drop itself)\n",
    "        sjoined_line = sjoined.loc[sjoined.original_id_left==idx]\n",
    "        intersecting_lines_ids = list(sjoined_line.original_id_right.unique())\n",
    "        intersecting_lines_ids.remove(idx)\n",
    "        intersecting_lines = original_lines.loc[original_lines.original_id.isin(intersecting_lines_ids)]\n",
    "\n",
    "        # Geometry of line of interest\n",
    "        line_to_split = line_of_interest.geometry\n",
    "        # Iterate over each intersecting lines geometry\n",
    "        for splitter in intersecting_lines.geometry:\n",
    "        \n",
    "    return line_of_interest, intersecting_lines\n",
    "\n",
    "line_of_interest, intersecting_lines = split_lines_with_themselves(some_lines)"
   ]
  },
  {
   "cell_type": "markdown",
   "id": "a161064b-ed04-4dfe-9c65-8f1d8cdbe020",
   "metadata": {
    "jp-MarkdownHeadingCollapsed": true
   },
   "source": [
    "### Split lines with themselves test - __[NOT WORKING]__ Stack overflow Help"
   ]
  },
  {
   "cell_type": "code",
   "execution_count": 28,
   "id": "6f9eb483-74ca-4b58-879f-a9ddf7be2dee",
   "metadata": {},
   "outputs": [],
   "source": [
    "# SOURCE: https://gis.stackexchange.com/questions/447677/geopandas-split-intersecting-linestrings-and-keep-columns"
   ]
  },
  {
   "cell_type": "code",
   "execution_count": 7,
   "id": "2d1865e5-9703-4d20-b316-2fe8d3612750",
   "metadata": {},
   "outputs": [
    {
     "name": "stdout",
     "output_type": "stream",
     "text": [
      "(10, 2)\n"
     ]
    },
    {
     "data": {
      "text/html": [
       "<div>\n",
       "<style scoped>\n",
       "    .dataframe tbody tr th:only-of-type {\n",
       "        vertical-align: middle;\n",
       "    }\n",
       "\n",
       "    .dataframe tbody tr th {\n",
       "        vertical-align: top;\n",
       "    }\n",
       "\n",
       "    .dataframe thead th {\n",
       "        text-align: right;\n",
       "    }\n",
       "</style>\n",
       "<table border=\"1\" class=\"dataframe\">\n",
       "  <thead>\n",
       "    <tr style=\"text-align: right;\">\n",
       "      <th></th>\n",
       "      <th>pje_ep</th>\n",
       "      <th>geometry</th>\n",
       "    </tr>\n",
       "  </thead>\n",
       "  <tbody>\n",
       "    <tr>\n",
       "      <th>0</th>\n",
       "      <td>0.209171</td>\n",
       "      <td>LINESTRING (-70.60280 -33.40858, -70.60255 -33...</td>\n",
       "    </tr>\n",
       "    <tr>\n",
       "      <th>1</th>\n",
       "      <td>0.273895</td>\n",
       "      <td>LINESTRING (-70.60036 -33.40805, -70.60032 -33...</td>\n",
       "    </tr>\n",
       "  </tbody>\n",
       "</table>\n",
       "</div>"
      ],
      "text/plain": [
       "     pje_ep                                           geometry\n",
       "0  0.209171  LINESTRING (-70.60280 -33.40858, -70.60255 -33...\n",
       "1  0.273895  LINESTRING (-70.60036 -33.40805, -70.60032 -33..."
      ]
     },
     "execution_count": 7,
     "metadata": {},
     "output_type": "execute_result"
    }
   ],
   "source": [
    "# Show clipped (10 lines) data\n",
    "print(some_lines.shape)\n",
    "some_lines.head(2)"
   ]
  },
  {
   "cell_type": "markdown",
   "id": "318a91c9-9099-4469-afed-62ca1c1e8811",
   "metadata": {
    "jp-MarkdownHeadingCollapsed": true
   },
   "source": [
    "#### Original Stack overflow code"
   ]
  },
  {
   "cell_type": "code",
   "execution_count": 19,
   "id": "6fddce09-9421-4e05-b16d-c4e93461b577",
   "metadata": {},
   "outputs": [
    {
     "ename": "TypeError",
     "evalue": "'MultiLineString' object is not iterable",
     "output_type": "error",
     "traceback": [
      "\u001b[0;31m---------------------------------------------------------------------------\u001b[0m",
      "\u001b[0;31mTypeError\u001b[0m                                 Traceback (most recent call last)",
      "Cell \u001b[0;32mIn[19], line 3\u001b[0m\n\u001b[1;32m      1\u001b[0m \u001b[38;5;66;03m# split ways\u001b[39;00m\n\u001b[1;32m      2\u001b[0m unary \u001b[38;5;241m=\u001b[39m some_lines\u001b[38;5;241m.\u001b[39mgeometry\u001b[38;5;241m.\u001b[39munary_union\n\u001b[0;32m----> 3\u001b[0m geometries \u001b[38;5;241m=\u001b[39m [i \u001b[38;5;28;01mfor\u001b[39;00m i \u001b[38;5;129;01min\u001b[39;00m unary]\n\u001b[1;32m      4\u001b[0m ids \u001b[38;5;241m=\u001b[39m [j \u001b[38;5;28;01mfor\u001b[39;00m j \u001b[38;5;129;01min\u001b[39;00m \u001b[38;5;28mrange\u001b[39m(\u001b[38;5;28mlen\u001b[39m(geometries))]\n\u001b[1;32m      5\u001b[0m unary \u001b[38;5;241m=\u001b[39m gpd\u001b[38;5;241m.\u001b[39mGeoDataFrame({\u001b[38;5;124m\"\u001b[39m\u001b[38;5;124mid\u001b[39m\u001b[38;5;124m\"\u001b[39m: ids, \u001b[38;5;124m\"\u001b[39m\u001b[38;5;124mgeometry\u001b[39m\u001b[38;5;124m\"\u001b[39m: geometries}, crs\u001b[38;5;241m=\u001b[39m\u001b[38;5;124m\"\u001b[39m\u001b[38;5;124mEPSG:4326\u001b[39m\u001b[38;5;124m\"\u001b[39m)\n",
      "\u001b[0;31mTypeError\u001b[0m: 'MultiLineString' object is not iterable"
     ]
    }
   ],
   "source": [
    "# split ways\n",
    "unary = some_lines.geometry.unary_union\n",
    "geometries = [i for i in unary]\n",
    "ids = [j for j in range(len(geometries))]\n",
    "unary = gpd.GeoDataFrame({\"id\": ids, \"geometry\": geometries}, crs=\"EPSG:4326\")\n",
    "results = [] #empty list to store the results\n",
    "for i in range(len(unary)):\n",
    "    joined = gpd.sjoin(unary.loc[[i]], some_lines, how=\"inner\", op='within')\n",
    "    results.append(joined)\n",
    "joined = pd.concat(results)\n",
    "\n",
    "# Show\n",
    "print(joined.shape)\n",
    "joined.head(1)"
   ]
  },
  {
   "cell_type": "markdown",
   "id": "15c1f9c7-aafe-48c5-8c89-d56e54415582",
   "metadata": {
    "jp-MarkdownHeadingCollapsed": true
   },
   "source": [
    "#### Exploding before iterating"
   ]
  },
  {
   "cell_type": "code",
   "execution_count": 20,
   "id": "45c3957f-d021-42ce-ba6e-db7c6935c5ab",
   "metadata": {},
   "outputs": [
    {
     "data": {
      "text/plain": [
       "array(['LineString'], dtype=object)"
      ]
     },
     "execution_count": 20,
     "metadata": {},
     "output_type": "execute_result"
    }
   ],
   "source": [
    "gdf_exploded = some_lines.copy().explode()\n",
    "gdf_exploded.geom_type.unique()"
   ]
  },
  {
   "cell_type": "code",
   "execution_count": 21,
   "id": "4feb39a6-f395-469d-8b3c-f180f0fc8710",
   "metadata": {},
   "outputs": [
    {
     "ename": "TypeError",
     "evalue": "'MultiLineString' object is not iterable",
     "output_type": "error",
     "traceback": [
      "\u001b[0;31m---------------------------------------------------------------------------\u001b[0m",
      "\u001b[0;31mTypeError\u001b[0m                                 Traceback (most recent call last)",
      "Cell \u001b[0;32mIn[21], line 3\u001b[0m\n\u001b[1;32m      1\u001b[0m \u001b[38;5;66;03m# split ways\u001b[39;00m\n\u001b[1;32m      2\u001b[0m unary \u001b[38;5;241m=\u001b[39m gdf_exploded\u001b[38;5;241m.\u001b[39mgeometry\u001b[38;5;241m.\u001b[39munary_union\n\u001b[0;32m----> 3\u001b[0m geometries \u001b[38;5;241m=\u001b[39m [i \u001b[38;5;28;01mfor\u001b[39;00m i \u001b[38;5;129;01min\u001b[39;00m unary]\n\u001b[1;32m      4\u001b[0m ids \u001b[38;5;241m=\u001b[39m [j \u001b[38;5;28;01mfor\u001b[39;00m j \u001b[38;5;129;01min\u001b[39;00m \u001b[38;5;28mrange\u001b[39m(\u001b[38;5;28mlen\u001b[39m(geometries))]\n\u001b[1;32m      5\u001b[0m unary \u001b[38;5;241m=\u001b[39m gpd\u001b[38;5;241m.\u001b[39mGeoDataFrame({\u001b[38;5;124m\"\u001b[39m\u001b[38;5;124mid\u001b[39m\u001b[38;5;124m\"\u001b[39m: ids, \u001b[38;5;124m\"\u001b[39m\u001b[38;5;124mgeometry\u001b[39m\u001b[38;5;124m\"\u001b[39m: geometries}, crs\u001b[38;5;241m=\u001b[39m\u001b[38;5;124m\"\u001b[39m\u001b[38;5;124mEPSG:4326\u001b[39m\u001b[38;5;124m\"\u001b[39m)\n",
      "\u001b[0;31mTypeError\u001b[0m: 'MultiLineString' object is not iterable"
     ]
    }
   ],
   "source": [
    "# split ways\n",
    "unary = gdf_exploded.geometry.unary_union\n",
    "geometries = [i for i in unary]\n",
    "ids = [j for j in range(len(geometries))]\n",
    "unary = gpd.GeoDataFrame({\"id\": ids, \"geometry\": geometries}, crs=\"EPSG:4326\")\n",
    "results = [] #empty list to store the results\n",
    "for i in range(len(unary)):\n",
    "    joined = gpd.sjoin(unary.loc[[i]], gdf_exploded, how=\"inner\", op='within')\n",
    "    results.append(joined)\n",
    "joined = pd.concat(results)\n",
    "\n",
    "# Show\n",
    "print(joined.shape)\n",
    "joined.head(1)"
   ]
  },
  {
   "cell_type": "markdown",
   "id": "4393d449-92d2-4983-ba25-bb532790b9d6",
   "metadata": {
    "jp-MarkdownHeadingCollapsed": true
   },
   "source": [
    "#### Adding .geoms to original stack overflow code"
   ]
  },
  {
   "cell_type": "code",
   "execution_count": 25,
   "id": "0855b82e-98a9-42ea-886e-95ee040b0f21",
   "metadata": {},
   "outputs": [
    {
     "name": "stdout",
     "output_type": "stream",
     "text": [
      "15\n",
      "(7, 4)\n"
     ]
    },
    {
     "data": {
      "text/html": [
       "<div>\n",
       "<style scoped>\n",
       "    .dataframe tbody tr th:only-of-type {\n",
       "        vertical-align: middle;\n",
       "    }\n",
       "\n",
       "    .dataframe tbody tr th {\n",
       "        vertical-align: top;\n",
       "    }\n",
       "\n",
       "    .dataframe thead th {\n",
       "        text-align: right;\n",
       "    }\n",
       "</style>\n",
       "<table border=\"1\" class=\"dataframe\">\n",
       "  <thead>\n",
       "    <tr style=\"text-align: right;\">\n",
       "      <th></th>\n",
       "      <th>id</th>\n",
       "      <th>geometry</th>\n",
       "      <th>index_right</th>\n",
       "      <th>pje_ep</th>\n",
       "    </tr>\n",
       "  </thead>\n",
       "  <tbody>\n",
       "    <tr>\n",
       "      <th>0</th>\n",
       "      <td>0</td>\n",
       "      <td>LINESTRING (-70.60280 -33.40858, -70.60255 -33...</td>\n",
       "      <td>0</td>\n",
       "      <td>0.209171</td>\n",
       "    </tr>\n",
       "    <tr>\n",
       "      <th>1</th>\n",
       "      <td>1</td>\n",
       "      <td>LINESTRING (-70.60036 -33.40805, -70.60032 -33...</td>\n",
       "      <td>1</td>\n",
       "      <td>0.273895</td>\n",
       "    </tr>\n",
       "    <tr>\n",
       "      <th>2</th>\n",
       "      <td>2</td>\n",
       "      <td>LINESTRING (-70.60215 -33.40975, -70.60207 -33...</td>\n",
       "      <td>2</td>\n",
       "      <td>0.335099</td>\n",
       "    </tr>\n",
       "    <tr>\n",
       "      <th>3</th>\n",
       "      <td>3</td>\n",
       "      <td>LINESTRING (-70.60215 -33.40975, -70.60213 -33...</td>\n",
       "      <td>3</td>\n",
       "      <td>0.106013</td>\n",
       "    </tr>\n",
       "    <tr>\n",
       "      <th>4</th>\n",
       "      <td>4</td>\n",
       "      <td>LINESTRING (-70.60426 -33.40751, -70.60418 -33...</td>\n",
       "      <td>4</td>\n",
       "      <td>0.019630</td>\n",
       "    </tr>\n",
       "    <tr>\n",
       "      <th>7</th>\n",
       "      <td>7</td>\n",
       "      <td>LINESTRING (-70.60322 -33.40575, -70.60328 -33...</td>\n",
       "      <td>6</td>\n",
       "      <td>0.549756</td>\n",
       "    </tr>\n",
       "    <tr>\n",
       "      <th>12</th>\n",
       "      <td>12</td>\n",
       "      <td>LINESTRING (-70.60036 -33.40805, -70.60022 -33...</td>\n",
       "      <td>8</td>\n",
       "      <td>0.282520</td>\n",
       "    </tr>\n",
       "  </tbody>\n",
       "</table>\n",
       "</div>"
      ],
      "text/plain": [
       "    id                                           geometry  index_right   \n",
       "0    0  LINESTRING (-70.60280 -33.40858, -70.60255 -33...            0  \\\n",
       "1    1  LINESTRING (-70.60036 -33.40805, -70.60032 -33...            1   \n",
       "2    2  LINESTRING (-70.60215 -33.40975, -70.60207 -33...            2   \n",
       "3    3  LINESTRING (-70.60215 -33.40975, -70.60213 -33...            3   \n",
       "4    4  LINESTRING (-70.60426 -33.40751, -70.60418 -33...            4   \n",
       "7    7  LINESTRING (-70.60322 -33.40575, -70.60328 -33...            6   \n",
       "12  12  LINESTRING (-70.60036 -33.40805, -70.60022 -33...            8   \n",
       "\n",
       "      pje_ep  \n",
       "0   0.209171  \n",
       "1   0.273895  \n",
       "2   0.335099  \n",
       "3   0.106013  \n",
       "4   0.019630  \n",
       "7   0.549756  \n",
       "12  0.282520  "
      ]
     },
     "execution_count": 25,
     "metadata": {},
     "output_type": "execute_result"
    }
   ],
   "source": [
    "# split ways\n",
    "unary = some_lines.geometry.unary_union\n",
    "geometries = [i for i in unary.geoms]\n",
    "ids = [j for j in range(len(geometries))]\n",
    "print(len(ids))\n",
    "unary = gpd.GeoDataFrame({\"id\": ids, \"geometry\": geometries}, crs=\"EPSG:4326\")\n",
    "results = [] #empty list to store the results\n",
    "for i in range(len(unary)):\n",
    "    joined = gpd.sjoin(unary.loc[[i]], some_lines, how=\"inner\", op='within')\n",
    "    results.append(joined)\n",
    "joined = pd.concat(results)\n",
    "\n",
    "# Show\n",
    "print(joined.shape)\n",
    "joined"
   ]
  },
  {
   "cell_type": "code",
   "execution_count": 26,
   "id": "c3626f24-fdcf-42fc-9202-77b583201635",
   "metadata": {},
   "outputs": [
    {
     "data": {
      "text/plain": [
       "<Axes: >"
      ]
     },
     "execution_count": 26,
     "metadata": {},
     "output_type": "execute_result"
    },
    {
     "data": {
      "image/png": "[encoded data removed]",
      "text/plain": [
       "<Figure size 640x480 with 1 Axes>"
      ]
     },
     "metadata": {},
     "output_type": "display_data"
    }
   ],
   "source": [
    "joined.plot()"
   ]
  },
  {
   "cell_type": "markdown",
   "id": "964f60fc-d208-4154-9aed-51b775d249a0",
   "metadata": {
    "jp-MarkdownHeadingCollapsed": true
   },
   "source": [
    "### Split lines with themselves test - __[NOT WORKING]__ ChatGPT suggested splitting each line with another line (splitter, except itself)"
   ]
  },
  {
   "cell_type": "code",
   "execution_count": 113,
   "id": "7dc57117-2103-4219-8481-2663e3cf78d9",
   "metadata": {},
   "outputs": [],
   "source": [
    "from shapely.geometry import LineString, MultiLineString\n",
    "from shapely.ops import split"
   ]
  },
  {
   "cell_type": "code",
   "execution_count": 15,
   "id": "9a154d3a-a83a-483e-bd24-971910b0bee3",
   "metadata": {},
   "outputs": [],
   "source": [
    "def split_lines_with_themselves(lines_gdf):\n",
    "    # Ensure geometries are valid\n",
    "    lines_gdf = lines_gdf[lines_gdf.is_valid]\n",
    "\n",
    "    split_lines_list = []\n",
    "\n",
    "    for idx, line in lines_gdf.iterrows():\n",
    "        line_to_split = line.geometry  # Initialize the line to be split\n",
    "        for splitter in lines_gdf.geometry:\n",
    "            if line_to_split != splitter:  # Avoid splitting a line with itself\n",
    "                try:\n",
    "                    # Perform the split\n",
    "                    split_result = split(line_to_split, splitter)\n",
    "                    # Ensure that split_result has elements\n",
    "                    if split_result:\n",
    "                        split_line = MultiLineString([geom for geom in split_result])\n",
    "                        \n",
    "                        # Append the resulting split lines to the list inside the loop\n",
    "                        if isinstance(split_line, MultiLineString):\n",
    "                            split_lines_list.extend(split_line.geoms)  # Use .geoms to iterate over the LineStrings in the MultiLineString\n",
    "                        else:\n",
    "                            split_lines_list.append(split_line)\n",
    "                except:\n",
    "                    continue\n",
    "    \n",
    "    # Create a new GeoDataFrame with the split lines\n",
    "    split_lines_gdf = gpd.GeoDataFrame(geometry=split_lines_list, crs=lines_gdf.crs)\n",
    "    \n",
    "    return split_lines_gdf\n",
    "\n",
    "# Perform split_lines_with_themselves\n",
    "#lines_gdf = gdf.copy()\n",
    "#split_lines_gdf = split_lines_with_themselves(lines_gdf)\n",
    "\n",
    "# Show\n",
    "#print(split_lines_gdf.shape)\n",
    "#split_lines_gdf.head(1)"
   ]
  },
  {
   "cell_type": "markdown",
   "id": "fc723223-c7da-4f44-b08f-aab5bca0cc73",
   "metadata": {
    "jp-MarkdownHeadingCollapsed": true
   },
   "source": [
    "# Step 2 - Multipart to singleparts"
   ]
  },
  {
   "cell_type": "code",
   "execution_count": 139,
   "id": "3d956e82-1ffb-4510-a7fd-186e5bd99f69",
   "metadata": {},
   "outputs": [
    {
     "name": "stdout",
     "output_type": "stream",
     "text": [
      "(34797, 3)\n"
     ]
    },
    {
     "data": {
      "text/html": [
       "<div>\n",
       "<style scoped>\n",
       "    .dataframe tbody tr th:only-of-type {\n",
       "        vertical-align: middle;\n",
       "    }\n",
       "\n",
       "    .dataframe tbody tr th {\n",
       "        vertical-align: top;\n",
       "    }\n",
       "\n",
       "    .dataframe thead th {\n",
       "        text-align: right;\n",
       "    }\n",
       "</style>\n",
       "<table border=\"1\" class=\"dataframe\">\n",
       "  <thead>\n",
       "    <tr style=\"text-align: right;\">\n",
       "      <th></th>\n",
       "      <th></th>\n",
       "      <th></th>\n",
       "      <th>original_id</th>\n",
       "      <th>pje_ep</th>\n",
       "      <th>geometry</th>\n",
       "    </tr>\n",
       "  </thead>\n",
       "  <tbody>\n",
       "    <tr>\n",
       "      <th>0</th>\n",
       "      <th>0</th>\n",
       "      <th>0</th>\n",
       "      <td>0</td>\n",
       "      <td>0.209171</td>\n",
       "      <td>LINESTRING (-70.60280 -33.40858, -70.60255 -33...</td>\n",
       "    </tr>\n",
       "  </tbody>\n",
       "</table>\n",
       "</div>"
      ],
      "text/plain": [
       "       original_id    pje_ep   \n",
       "0 0 0            0  0.209171  \\\n",
       "\n",
       "                                                geometry  \n",
       "0 0 0  LINESTRING (-70.60280 -33.40858, -70.60255 -33...  "
      ]
     },
     "execution_count": 139,
     "metadata": {},
     "output_type": "execute_result"
    }
   ],
   "source": [
    "split_lines_singleparts = split_lines_v1.explode()\n",
    "\n",
    "# Show\n",
    "print(split_lines_singleparts.shape)\n",
    "split_lines_singleparts.head(1)"
   ]
  },
  {
   "cell_type": "code",
   "execution_count": null,
   "id": "1c2b9533-3e2b-440a-850e-7b6479edfff2",
   "metadata": {},
   "outputs": [],
   "source": [
    "split_lines_singleparts = split_lines_v2.explode()\n",
    "\n",
    "# Show\n",
    "print(split_lines_singleparts.shape)\n",
    "split_lines_singleparts.head(1)"
   ]
  },
  {
   "cell_type": "markdown",
   "id": "408dd29f-ee03-48d4-a0d4-416a14ba7a0a",
   "metadata": {
    "jp-MarkdownHeadingCollapsed": true
   },
   "source": [
    "# Step 3 - Extract specific vertices [0,-1]"
   ]
  },
  {
   "cell_type": "markdown",
   "id": "4bdbc688-cec7-4192-ab90-dfc16038b665",
   "metadata": {
    "jp-MarkdownHeadingCollapsed": true
   },
   "source": [
    "### Current working code (Extracts all vertices, not starting and ending point)"
   ]
  },
  {
   "cell_type": "code",
   "execution_count": 145,
   "id": "ac98b08c-6e44-4f63-a7a8-59bfa3ad9143",
   "metadata": {},
   "outputs": [
    {
     "name": "stdout",
     "output_type": "stream",
     "text": [
      "(102063, 2)\n"
     ]
    },
    {
     "data": {
      "text/html": [
       "<div>\n",
       "<style scoped>\n",
       "    .dataframe tbody tr th:only-of-type {\n",
       "        vertical-align: middle;\n",
       "    }\n",
       "\n",
       "    .dataframe tbody tr th {\n",
       "        vertical-align: top;\n",
       "    }\n",
       "\n",
       "    .dataframe thead th {\n",
       "        text-align: right;\n",
       "    }\n",
       "</style>\n",
       "<table border=\"1\" class=\"dataframe\">\n",
       "  <thead>\n",
       "    <tr style=\"text-align: right;\">\n",
       "      <th></th>\n",
       "      <th>pje_ep</th>\n",
       "      <th>geometry</th>\n",
       "    </tr>\n",
       "  </thead>\n",
       "  <tbody>\n",
       "    <tr>\n",
       "      <th>0</th>\n",
       "      <td>0.209171</td>\n",
       "      <td>POINT (-70.60280 -33.40858)</td>\n",
       "    </tr>\n",
       "  </tbody>\n",
       "</table>\n",
       "</div>"
      ],
      "text/plain": [
       "     pje_ep                     geometry\n",
       "0  0.209171  POINT (-70.60280 -33.40858)"
      ]
     },
     "execution_count": 145,
     "metadata": {},
     "output_type": "execute_result"
    }
   ],
   "source": [
    "# Reset index\n",
    "lines_gdf = split_lines_singleparts.droplevel(1)\n",
    "lines_gdf.reset_index(inplace=True)\n",
    "lines_gdf.drop(columns=['index'],inplace=True)\n",
    "\n",
    "#Initialize an empty list to store the points\n",
    "points = []\n",
    "attributes = []\n",
    "\n",
    "#Iterate through each LineString and extract its vertices\n",
    "for idx, row in lines_gdf.iterrows():\n",
    "    line = row.geometry\n",
    "    for coord in line.coords:\n",
    "        points.append(Point(coord))\n",
    "        attributes.append(row.pje_ep)\n",
    "\n",
    "# Create a new GeoDataFrame from the points\n",
    "gdf_points = gpd.GeoDataFrame(attributes,geometry=points)\n",
    "\n",
    "# Rename data\n",
    "gdf_points.rename(columns={0:'pje_ep'},inplace=True)\n",
    "\n",
    "# Show\n",
    "print(gdf_points.shape)\n",
    "gdf_points.head(1)"
   ]
  },
  {
   "cell_type": "code",
   "execution_count": 146,
   "id": "a1f70993-57af-4f90-8131-09fa10fddaab",
   "metadata": {},
   "outputs": [],
   "source": [
    "# Check result in QGIS\n",
    "gdf_points.to_file(gral_dir + \"gdf_points.gpkg\", driver='GPKG')"
   ]
  },
  {
   "cell_type": "markdown",
   "id": "eab0aee0-2421-4520-9775-ee208f3f2d12",
   "metadata": {
    "jp-MarkdownHeadingCollapsed": true
   },
   "source": [
    "### Lines and points coords exploration"
   ]
  },
  {
   "cell_type": "code",
   "execution_count": 147,
   "id": "e0f67e36-e3a6-4605-9f34-44759b135eb2",
   "metadata": {},
   "outputs": [
    {
     "data": {
      "image/svg+xml": [
       "<svg xmlns=\"http://www.w3.org/2000/svg\" xmlns:xlink=\"http://www.w3.org/1999/xlink\" width=\"100.0\" height=\"100.0\" viewBox=\"-70.65008230537867 -33.48621631749938 0.0002543913581689594 0.0007543279742492359\" preserveAspectRatio=\"xMinYMin meet\"><g transform=\"matrix(1,0,0,-1,0,-66.9716783070245)\"><polyline fill=\"none\" stroke=\"#66cc99\" stroke-width=\"1.5086559484984718e-05\" points=\"-70.65005436730556,-33.48618837942626 -70.6500520390151,-33.48616515340481 -70.64985585209362,-33.485489927598245\" opacity=\"0.8\" /></g></svg>"
      ],
      "text/plain": [
       "<LINESTRING (-70.65 -33.486, -70.65 -33.486, -70.65 -33.485)>"
      ]
     },
     "execution_count": 147,
     "metadata": {},
     "output_type": "execute_result"
    }
   ],
   "source": [
    "line"
   ]
  },
  {
   "cell_type": "code",
   "execution_count": 152,
   "id": "6d5515ef-6b2d-468a-a9dd-57a717d52426",
   "metadata": {},
   "outputs": [
    {
     "name": "stdout",
     "output_type": "stream",
     "text": [
      "(-70.65005436730556, -33.48618837942626)\n",
      "(-70.6500520390151, -33.48616515340481)\n",
      "(-70.64985585209362, -33.485489927598245)\n"
     ]
    }
   ],
   "source": [
    "for coord in line.coords:\n",
    "    print(coord)"
   ]
  },
  {
   "cell_type": "code",
   "execution_count": 160,
   "id": "7923dc17-20e8-4f96-b36d-2fb4a58e106d",
   "metadata": {},
   "outputs": [
    {
     "name": "stdout",
     "output_type": "stream",
     "text": [
      "(-70.65005436730556, -33.48618837942626)\n",
      "(-70.64985585209362, -33.485489927598245)\n"
     ]
    }
   ],
   "source": [
    "coords = line.coords\n",
    "num_points = len(line.coords)\n",
    "\n",
    "starting_coord = coords[0]\n",
    "ending_coord = coords[num_points-1]\n",
    "\n",
    "print(starting_coord)\n",
    "print(ending_coord)"
   ]
  },
  {
   "cell_type": "markdown",
   "id": "117a81d8-4a00-4d8d-8801-a6ad3a2c6db9",
   "metadata": {},
   "source": [
    "### Desired result: Save starting and ending coord only"
   ]
  },
  {
   "cell_type": "code",
   "execution_count": 7,
   "id": "29876f8a-d207-4002-bdd2-8583ad0e7d9e",
   "metadata": {},
   "outputs": [
    {
     "name": "stdout",
     "output_type": "stream",
     "text": [
      "(69594, 2)\n"
     ]
    },
    {
     "data": {
      "text/html": [
       "<div>\n",
       "<style scoped>\n",
       "    .dataframe tbody tr th:only-of-type {\n",
       "        vertical-align: middle;\n",
       "    }\n",
       "\n",
       "    .dataframe tbody tr th {\n",
       "        vertical-align: top;\n",
       "    }\n",
       "\n",
       "    .dataframe thead th {\n",
       "        text-align: right;\n",
       "    }\n",
       "</style>\n",
       "<table border=\"1\" class=\"dataframe\">\n",
       "  <thead>\n",
       "    <tr style=\"text-align: right;\">\n",
       "      <th></th>\n",
       "      <th>pje_ep</th>\n",
       "      <th>geometry</th>\n",
       "    </tr>\n",
       "  </thead>\n",
       "  <tbody>\n",
       "    <tr>\n",
       "      <th>0</th>\n",
       "      <td>0.209171</td>\n",
       "      <td>POINT (-70.60280 -33.40858)</td>\n",
       "    </tr>\n",
       "  </tbody>\n",
       "</table>\n",
       "</div>"
      ],
      "text/plain": [
       "     pje_ep                     geometry\n",
       "0  0.209171  POINT (-70.60280 -33.40858)"
      ]
     },
     "execution_count": 7,
     "metadata": {},
     "output_type": "execute_result"
    }
   ],
   "source": [
    "# Reset index\n",
    "lines_gdf = split_lines_singleparts.droplevel(1)\n",
    "lines_gdf.reset_index(inplace=True)\n",
    "lines_gdf.drop(columns=['index'],inplace=True)\n",
    "\n",
    "#Initialize an empty list to store the points\n",
    "points = []\n",
    "attributes = []\n",
    "\n",
    "#Iterate through each LineString and extract its vertices\n",
    "for idx, row in lines_gdf.iterrows():\n",
    "\n",
    "    # Identify line, its coordinates and how many there are\n",
    "    line = row.geometry\n",
    "    line_coords = line.coords\n",
    "    num_points = len(line_coords)\n",
    "\n",
    "    # Save starting coord\n",
    "    starting_coord = line_coords[0]\n",
    "    points.append(Point(starting_coord))\n",
    "    attributes.append(row.pje_ep)\n",
    "\n",
    "    # Save ending coord\n",
    "    ending_coord = line_coords[num_points-1]\n",
    "    points.append(Point(ending_coord))\n",
    "    attributes.append(row.pje_ep)\n",
    "        \n",
    "# Create a new GeoDataFrame from the points\n",
    "gdf_points_2 = gpd.GeoDataFrame(attributes,geometry=points)\n",
    "\n",
    "# Rename data\n",
    "gdf_points_2.rename(columns={0:'pje_ep'},inplace=True)\n",
    "\n",
    "# Show\n",
    "print(gdf_points_2.shape)\n",
    "gdf_points_2.head(1)"
   ]
  },
  {
   "cell_type": "code",
   "execution_count": 163,
   "id": "e480659d-f5a1-4207-932a-5f64e3d8e4a7",
   "metadata": {},
   "outputs": [],
   "source": [
    "# Check result in QGIS\n",
    "gdf_points_2.to_file(gral_dir + \"gdf_points_2.gpkg\", driver='GPKG')"
   ]
  },
  {
   "cell_type": "markdown",
   "id": "2d2fb84c-6bdc-4e57-acc3-24b712ff7823",
   "metadata": {},
   "source": [
    "# Step 4 - Drop duplicates"
   ]
  },
  {
   "cell_type": "markdown",
   "id": "ac7ef7a6-dd6b-4333-8473-ad0f2d80d8ff",
   "metadata": {},
   "source": [
    "#### __Result:__ Less nodes than expected (24,174 vs 25.126 QGIS processing)\n",
    "#### __Reason:__ Nodes from QGIS are located very close to other nodes. Badly formed."
   ]
  },
  {
   "cell_type": "code",
   "execution_count": 4,
   "id": "b846ea6b-a3f2-4de7-8578-d8477f2dfe8a",
   "metadata": {},
   "outputs": [
    {
     "name": "stdout",
     "output_type": "stream",
     "text": [
      "(69594, 2)\n"
     ]
    },
    {
     "data": {
      "text/html": [
       "<div>\n",
       "<style scoped>\n",
       "    .dataframe tbody tr th:only-of-type {\n",
       "        vertical-align: middle;\n",
       "    }\n",
       "\n",
       "    .dataframe tbody tr th {\n",
       "        vertical-align: top;\n",
       "    }\n",
       "\n",
       "    .dataframe thead th {\n",
       "        text-align: right;\n",
       "    }\n",
       "</style>\n",
       "<table border=\"1\" class=\"dataframe\">\n",
       "  <thead>\n",
       "    <tr style=\"text-align: right;\">\n",
       "      <th></th>\n",
       "      <th>pje_ep</th>\n",
       "      <th>geometry</th>\n",
       "    </tr>\n",
       "  </thead>\n",
       "  <tbody>\n",
       "    <tr>\n",
       "      <th>0</th>\n",
       "      <td>0.209171</td>\n",
       "      <td>POINT (-70.60280 -33.40858)</td>\n",
       "    </tr>\n",
       "  </tbody>\n",
       "</table>\n",
       "</div>"
      ],
      "text/plain": [
       "     pje_ep                     geometry\n",
       "0  0.209171  POINT (-70.60280 -33.40858)"
      ]
     },
     "execution_count": 4,
     "metadata": {},
     "output_type": "execute_result"
    }
   ],
   "source": [
    "gdf_points_2 = gpd.read_file(gral_dir + \"gdf_points_2.gpkg\")\n",
    "\n",
    "# Show\n",
    "print(gdf_points_2.shape)\n",
    "gdf_points_2.head(1)"
   ]
  },
  {
   "cell_type": "code",
   "execution_count": 5,
   "id": "527fb745-dea4-49c2-bf68-0199e4978558",
   "metadata": {},
   "outputs": [
    {
     "name": "stdout",
     "output_type": "stream",
     "text": [
      "(24174, 2)\n"
     ]
    },
    {
     "data": {
      "text/html": [
       "<div>\n",
       "<style scoped>\n",
       "    .dataframe tbody tr th:only-of-type {\n",
       "        vertical-align: middle;\n",
       "    }\n",
       "\n",
       "    .dataframe tbody tr th {\n",
       "        vertical-align: top;\n",
       "    }\n",
       "\n",
       "    .dataframe thead th {\n",
       "        text-align: right;\n",
       "    }\n",
       "</style>\n",
       "<table border=\"1\" class=\"dataframe\">\n",
       "  <thead>\n",
       "    <tr style=\"text-align: right;\">\n",
       "      <th></th>\n",
       "      <th>pje_ep</th>\n",
       "      <th>geometry</th>\n",
       "    </tr>\n",
       "  </thead>\n",
       "  <tbody>\n",
       "    <tr>\n",
       "      <th>0</th>\n",
       "      <td>0.209171</td>\n",
       "      <td>POINT (-70.60280 -33.40858)</td>\n",
       "    </tr>\n",
       "  </tbody>\n",
       "</table>\n",
       "</div>"
      ],
      "text/plain": [
       "     pje_ep                     geometry\n",
       "0  0.209171  POINT (-70.60280 -33.40858)"
      ]
     },
     "execution_count": 5,
     "metadata": {},
     "output_type": "execute_result"
    }
   ],
   "source": [
    "points_dropped = gdf_points_2.drop_duplicates(subset='geometry')\n",
    "# Show\n",
    "print(points_dropped.shape)\n",
    "points_dropped.head(1)"
   ]
  },
  {
   "cell_type": "code",
   "execution_count": 7,
   "id": "e65b07a0-f7e7-45fb-a56d-ab0ba4c00540",
   "metadata": {},
   "outputs": [],
   "source": [
    "if test_save:\n",
    "    # Check result in QGIS\n",
    "    points_dropped.to_file(gral_dir + \"points_dropped.gpkg\", driver='GPKG')"
   ]
  },
  {
   "cell_type": "markdown",
   "id": "7c44539c-50e1-4277-8a39-023920b733ea",
   "metadata": {},
   "source": [
    "#### Examine points dropped data (Looking for nodes that were generated too close from one another, not connecting, not dropped.)"
   ]
  },
  {
   "cell_type": "code",
   "execution_count": 11,
   "id": "1379e2cd-83ea-4940-8be6-ec5286d4cb04",
   "metadata": {},
   "outputs": [
    {
     "name": "stdout",
     "output_type": "stream",
     "text": [
      "Number of nodes at a 1 meter distance to other nodes: 2040.\n"
     ]
    },
    {
     "data": {
      "text/html": [
       "<div>\n",
       "<style scoped>\n",
       "    .dataframe tbody tr th:only-of-type {\n",
       "        vertical-align: middle;\n",
       "    }\n",
       "\n",
       "    .dataframe tbody tr th {\n",
       "        vertical-align: top;\n",
       "    }\n",
       "\n",
       "    .dataframe thead th {\n",
       "        text-align: right;\n",
       "    }\n",
       "</style>\n",
       "<table border=\"1\" class=\"dataframe\">\n",
       "  <thead>\n",
       "    <tr style=\"text-align: right;\">\n",
       "      <th></th>\n",
       "      <th>index</th>\n",
       "      <th>count</th>\n",
       "    </tr>\n",
       "  </thead>\n",
       "  <tbody>\n",
       "    <tr>\n",
       "      <th>0</th>\n",
       "      <td>947</td>\n",
       "      <td>6</td>\n",
       "    </tr>\n",
       "    <tr>\n",
       "      <th>1</th>\n",
       "      <td>22743</td>\n",
       "      <td>6</td>\n",
       "    </tr>\n",
       "    <tr>\n",
       "      <th>2</th>\n",
       "      <td>14115</td>\n",
       "      <td>5</td>\n",
       "    </tr>\n",
       "    <tr>\n",
       "      <th>3</th>\n",
       "      <td>19289</td>\n",
       "      <td>5</td>\n",
       "    </tr>\n",
       "    <tr>\n",
       "      <th>4</th>\n",
       "      <td>24141</td>\n",
       "      <td>5</td>\n",
       "    </tr>\n",
       "    <tr>\n",
       "      <th>...</th>\n",
       "      <td>...</td>\n",
       "      <td>...</td>\n",
       "    </tr>\n",
       "    <tr>\n",
       "      <th>1698</th>\n",
       "      <td>870</td>\n",
       "      <td>2</td>\n",
       "    </tr>\n",
       "    <tr>\n",
       "      <th>1699</th>\n",
       "      <td>15517</td>\n",
       "      <td>2</td>\n",
       "    </tr>\n",
       "    <tr>\n",
       "      <th>1700</th>\n",
       "      <td>67897</td>\n",
       "      <td>2</td>\n",
       "    </tr>\n",
       "    <tr>\n",
       "      <th>1701</th>\n",
       "      <td>65918</td>\n",
       "      <td>2</td>\n",
       "    </tr>\n",
       "    <tr>\n",
       "      <th>1702</th>\n",
       "      <td>2978</td>\n",
       "      <td>2</td>\n",
       "    </tr>\n",
       "  </tbody>\n",
       "</table>\n",
       "<p>1703 rows × 2 columns</p>\n",
       "</div>"
      ],
      "text/plain": [
       "      index  count\n",
       "0       947      6\n",
       "1     22743      6\n",
       "2     14115      5\n",
       "3     19289      5\n",
       "4     24141      5\n",
       "...     ...    ...\n",
       "1698    870      2\n",
       "1699  15517      2\n",
       "1700  67897      2\n",
       "1701  65918      2\n",
       "1702   2978      2\n",
       "\n",
       "[1703 rows x 2 columns]"
      ]
     },
     "execution_count": 11,
     "metadata": {},
     "output_type": "execute_result"
    }
   ],
   "source": [
    "# Create 1 meter buffer around nodes\n",
    "points_dropped = points_dropped.to_crs(projected_crs)\n",
    "points_buffer = points_dropped.buffer(1).reset_index().rename(columns={0: \"geometry\"})\n",
    "points_buffer = points_buffer.set_geometry(\"geometry\")\n",
    "\n",
    "# Intersect nodes with that buffer\n",
    "nodes_buffer_intersect = gpd.sjoin(points_buffer,points_dropped)\n",
    "\n",
    "# Count number of ocurrances in each buffer, each buffer should have 1 node\n",
    "nodes_buffer_count = nodes_buffer_intersect['index'].value_counts().reset_index()\n",
    "close_nodes = nodes_buffer_count.loc[nodes_buffer_count['count']>1]\n",
    "\n",
    "print(f\"Number of nodes at a 1 meter distance to other nodes: {close_nodes['count'].sum()-len(close_nodes)}.\")\n",
    "close_nodes"
   ]
  },
  {
   "cell_type": "markdown",
   "id": "bdeb63b5-64e5-4b18-b547-3392e0fdc096",
   "metadata": {},
   "source": [
    "#### Examine QGIS processed nodes data (Looking for nodes that were generated too close from one another, not connecting, not dropped.)"
   ]
  },
  {
   "cell_type": "code",
   "execution_count": 13,
   "id": "7a8b1392-4175-4c32-bd98-3d405a564f95",
   "metadata": {},
   "outputs": [
    {
     "name": "stdout",
     "output_type": "stream",
     "text": [
      "(25126, 43)\n"
     ]
    },
    {
     "data": {
      "text/html": [
       "<div>\n",
       "<style scoped>\n",
       "    .dataframe tbody tr th:only-of-type {\n",
       "        vertical-align: middle;\n",
       "    }\n",
       "\n",
       "    .dataframe tbody tr th {\n",
       "        vertical-align: top;\n",
       "    }\n",
       "\n",
       "    .dataframe thead th {\n",
       "        text-align: right;\n",
       "    }\n",
       "</style>\n",
       "<table border=\"1\" class=\"dataframe\">\n",
       "  <thead>\n",
       "    <tr style=\"text-align: right;\">\n",
       "      <th></th>\n",
       "      <th>fid</th>\n",
       "      <th>IDcllbf</th>\n",
       "      <th>shp_lng</th>\n",
       "      <th>st_lng_</th>\n",
       "      <th>Nom_Rut</th>\n",
       "      <th>Rol_Mop</th>\n",
       "      <th>Clas_Rt</th>\n",
       "      <th>Tip_Crp</th>\n",
       "      <th>Catego</th>\n",
       "      <th>Cod_Rgn</th>\n",
       "      <th>...</th>\n",
       "      <th>pje_ep</th>\n",
       "      <th>UV</th>\n",
       "      <th>buffer800</th>\n",
       "      <th>vertex_pos</th>\n",
       "      <th>vertex_ind</th>\n",
       "      <th>vertex_par</th>\n",
       "      <th>vertex_p_1</th>\n",
       "      <th>distance</th>\n",
       "      <th>angle</th>\n",
       "      <th>geometry</th>\n",
       "    </tr>\n",
       "  </thead>\n",
       "  <tbody>\n",
       "    <tr>\n",
       "      <th>0</th>\n",
       "      <td>1.0</td>\n",
       "      <td>1.0</td>\n",
       "      <td>0.0</td>\n",
       "      <td>1813.857525</td>\n",
       "      <td>Túnel Kennedy</td>\n",
       "      <td>None</td>\n",
       "      <td>5</td>\n",
       "      <td>None</td>\n",
       "      <td>Urbano</td>\n",
       "      <td>13</td>\n",
       "      <td>...</td>\n",
       "      <td>0.209171</td>\n",
       "      <td>0</td>\n",
       "      <td>0.0</td>\n",
       "      <td>0</td>\n",
       "      <td>0</td>\n",
       "      <td>0</td>\n",
       "      <td>0</td>\n",
       "      <td>0.0</td>\n",
       "      <td>75.686533</td>\n",
       "      <td>POINT (350958.903 6302268.173)</td>\n",
       "    </tr>\n",
       "  </tbody>\n",
       "</table>\n",
       "<p>1 rows × 43 columns</p>\n",
       "</div>"
      ],
      "text/plain": [
       "   fid  IDcllbf  shp_lng      st_lng_        Nom_Rut Rol_Mop  Clas_Rt Tip_Crp   \n",
       "0  1.0      1.0      0.0  1813.857525  Túnel Kennedy    None        5    None  \\\n",
       "\n",
       "   Catego  Cod_Rgn  ...    pje_ep  UV  buffer800  vertex_pos  vertex_ind   \n",
       "0  Urbano       13  ...  0.209171   0        0.0           0           0  \\\n",
       "\n",
       "   vertex_par  vertex_p_1  distance      angle                        geometry  \n",
       "0           0           0       0.0  75.686533  POINT (350958.903 6302268.173)  \n",
       "\n",
       "[1 rows x 43 columns]"
      ]
     },
     "execution_count": 13,
     "metadata": {},
     "output_type": "execute_result"
    }
   ],
   "source": [
    "# Load QGIS processed edges (Split lines with lines + Multipart to singleparts)\n",
    "qgis_processed_nodes = gpd.read_file(gral_dir + f\"calidad_ep/{p_code}_{project_name}/{project_name}_nodes.shp\" )\n",
    "# Show\n",
    "print(qgis_processed_nodes.shape)\n",
    "qgis_processed_nodes.head(1)"
   ]
  },
  {
   "cell_type": "code",
   "execution_count": 14,
   "id": "21e5e6d6-7492-47e3-a9ed-66195c901a9b",
   "metadata": {},
   "outputs": [
    {
     "name": "stdout",
     "output_type": "stream",
     "text": [
      "(25126, 43)\n"
     ]
    },
    {
     "data": {
      "text/html": [
       "<div>\n",
       "<style scoped>\n",
       "    .dataframe tbody tr th:only-of-type {\n",
       "        vertical-align: middle;\n",
       "    }\n",
       "\n",
       "    .dataframe tbody tr th {\n",
       "        vertical-align: top;\n",
       "    }\n",
       "\n",
       "    .dataframe thead th {\n",
       "        text-align: right;\n",
       "    }\n",
       "</style>\n",
       "<table border=\"1\" class=\"dataframe\">\n",
       "  <thead>\n",
       "    <tr style=\"text-align: right;\">\n",
       "      <th></th>\n",
       "      <th>fid</th>\n",
       "      <th>IDcllbf</th>\n",
       "      <th>shp_lng</th>\n",
       "      <th>st_lng_</th>\n",
       "      <th>Nom_Rut</th>\n",
       "      <th>Rol_Mop</th>\n",
       "      <th>Clas_Rt</th>\n",
       "      <th>Tip_Crp</th>\n",
       "      <th>Catego</th>\n",
       "      <th>Cod_Rgn</th>\n",
       "      <th>...</th>\n",
       "      <th>pje_ep</th>\n",
       "      <th>UV</th>\n",
       "      <th>buffer800</th>\n",
       "      <th>vertex_pos</th>\n",
       "      <th>vertex_ind</th>\n",
       "      <th>vertex_par</th>\n",
       "      <th>vertex_p_1</th>\n",
       "      <th>distance</th>\n",
       "      <th>angle</th>\n",
       "      <th>geometry</th>\n",
       "    </tr>\n",
       "  </thead>\n",
       "  <tbody>\n",
       "    <tr>\n",
       "      <th>0</th>\n",
       "      <td>1.0</td>\n",
       "      <td>1.0</td>\n",
       "      <td>0.0</td>\n",
       "      <td>1813.857525</td>\n",
       "      <td>Túnel Kennedy</td>\n",
       "      <td>None</td>\n",
       "      <td>5</td>\n",
       "      <td>None</td>\n",
       "      <td>Urbano</td>\n",
       "      <td>13</td>\n",
       "      <td>...</td>\n",
       "      <td>0.209171</td>\n",
       "      <td>0</td>\n",
       "      <td>0.0</td>\n",
       "      <td>0</td>\n",
       "      <td>0</td>\n",
       "      <td>0</td>\n",
       "      <td>0</td>\n",
       "      <td>0.0</td>\n",
       "      <td>75.686533</td>\n",
       "      <td>POINT (350958.903 6302268.173)</td>\n",
       "    </tr>\n",
       "  </tbody>\n",
       "</table>\n",
       "<p>1 rows × 43 columns</p>\n",
       "</div>"
      ],
      "text/plain": [
       "   fid  IDcllbf  shp_lng      st_lng_        Nom_Rut Rol_Mop  Clas_Rt Tip_Crp   \n",
       "0  1.0      1.0      0.0  1813.857525  Túnel Kennedy    None        5    None  \\\n",
       "\n",
       "   Catego  Cod_Rgn  ...    pje_ep  UV  buffer800  vertex_pos  vertex_ind   \n",
       "0  Urbano       13  ...  0.209171   0        0.0           0           0  \\\n",
       "\n",
       "   vertex_par  vertex_p_1  distance      angle                        geometry  \n",
       "0           0           0       0.0  75.686533  POINT (350958.903 6302268.173)  \n",
       "\n",
       "[1 rows x 43 columns]"
      ]
     },
     "execution_count": 14,
     "metadata": {},
     "output_type": "execute_result"
    }
   ],
   "source": [
    "qgis_points_dropped = qgis_processed_nodes.drop_duplicates(subset='geometry')\n",
    "# Show\n",
    "print(qgis_points_dropped.shape)\n",
    "qgis_points_dropped.head(1)"
   ]
  },
  {
   "cell_type": "code",
   "execution_count": 15,
   "id": "a12cc773-6065-45b5-8aa0-a94f83fcfe5a",
   "metadata": {},
   "outputs": [
    {
     "name": "stdout",
     "output_type": "stream",
     "text": [
      "Number of nodes at a 1 meter distance to other nodes: 5100.\n"
     ]
    },
    {
     "data": {
      "text/html": [
       "<div>\n",
       "<style scoped>\n",
       "    .dataframe tbody tr th:only-of-type {\n",
       "        vertical-align: middle;\n",
       "    }\n",
       "\n",
       "    .dataframe tbody tr th {\n",
       "        vertical-align: top;\n",
       "    }\n",
       "\n",
       "    .dataframe thead th {\n",
       "        text-align: right;\n",
       "    }\n",
       "</style>\n",
       "<table border=\"1\" class=\"dataframe\">\n",
       "  <thead>\n",
       "    <tr style=\"text-align: right;\">\n",
       "      <th></th>\n",
       "      <th>index</th>\n",
       "      <th>count</th>\n",
       "    </tr>\n",
       "  </thead>\n",
       "  <tbody>\n",
       "    <tr>\n",
       "      <th>0</th>\n",
       "      <td>11136</td>\n",
       "      <td>7</td>\n",
       "    </tr>\n",
       "    <tr>\n",
       "      <th>1</th>\n",
       "      <td>24221</td>\n",
       "      <td>7</td>\n",
       "    </tr>\n",
       "    <tr>\n",
       "      <th>2</th>\n",
       "      <td>11138</td>\n",
       "      <td>7</td>\n",
       "    </tr>\n",
       "    <tr>\n",
       "      <th>3</th>\n",
       "      <td>9724</td>\n",
       "      <td>7</td>\n",
       "    </tr>\n",
       "    <tr>\n",
       "      <th>4</th>\n",
       "      <td>9723</td>\n",
       "      <td>7</td>\n",
       "    </tr>\n",
       "    <tr>\n",
       "      <th>...</th>\n",
       "      <td>...</td>\n",
       "      <td>...</td>\n",
       "    </tr>\n",
       "    <tr>\n",
       "      <th>3104</th>\n",
       "      <td>7221</td>\n",
       "      <td>2</td>\n",
       "    </tr>\n",
       "    <tr>\n",
       "      <th>3105</th>\n",
       "      <td>7670</td>\n",
       "      <td>2</td>\n",
       "    </tr>\n",
       "    <tr>\n",
       "      <th>3106</th>\n",
       "      <td>23182</td>\n",
       "      <td>2</td>\n",
       "    </tr>\n",
       "    <tr>\n",
       "      <th>3107</th>\n",
       "      <td>24263</td>\n",
       "      <td>2</td>\n",
       "    </tr>\n",
       "    <tr>\n",
       "      <th>3108</th>\n",
       "      <td>6613</td>\n",
       "      <td>2</td>\n",
       "    </tr>\n",
       "  </tbody>\n",
       "</table>\n",
       "<p>3109 rows × 2 columns</p>\n",
       "</div>"
      ],
      "text/plain": [
       "      index  count\n",
       "0     11136      7\n",
       "1     24221      7\n",
       "2     11138      7\n",
       "3      9724      7\n",
       "4      9723      7\n",
       "...     ...    ...\n",
       "3104   7221      2\n",
       "3105   7670      2\n",
       "3106  23182      2\n",
       "3107  24263      2\n",
       "3108   6613      2\n",
       "\n",
       "[3109 rows x 2 columns]"
      ]
     },
     "execution_count": 15,
     "metadata": {},
     "output_type": "execute_result"
    }
   ],
   "source": [
    "# Create 1 meter buffer around nodes\n",
    "points_buffer = qgis_points_dropped.buffer(1).reset_index().rename(columns={0: \"geometry\"})\n",
    "points_buffer = points_buffer.set_geometry(\"geometry\")\n",
    "\n",
    "# Intersect nodes with that buffer\n",
    "nodes_buffer_intersect = gpd.sjoin(points_buffer,qgis_points_dropped)\n",
    "\n",
    "# Count number of ocurrances in each buffer, each buffer should have 1 node\n",
    "nodes_buffer_count = nodes_buffer_intersect['index'].value_counts().reset_index()\n",
    "close_nodes = nodes_buffer_count.loc[nodes_buffer_count['count']>1]\n",
    "\n",
    "print(f\"Number of nodes at a 1 meter distance to other nodes: {close_nodes['count'].sum()-len(close_nodes)}.\")\n",
    "close_nodes"
   ]
  },
  {
   "cell_type": "markdown",
   "id": "d1c242c5-d685-4e9f-8b7a-b23afbc90a0e",
   "metadata": {
    "jp-MarkdownHeadingCollapsed": true
   },
   "source": [
    "# Snapping test [fail]"
   ]
  },
  {
   "cell_type": "code",
   "execution_count": 37,
   "id": "fb6d0a08-4e35-4946-ad5c-1e1918ee758c",
   "metadata": {},
   "outputs": [
    {
     "name": "stdout",
     "output_type": "stream",
     "text": [
      "(10, 36)\n"
     ]
    },
    {
     "data": {
      "text/html": [
       "<div>\n",
       "<style scoped>\n",
       "    .dataframe tbody tr th:only-of-type {\n",
       "        vertical-align: middle;\n",
       "    }\n",
       "\n",
       "    .dataframe tbody tr th {\n",
       "        vertical-align: top;\n",
       "    }\n",
       "\n",
       "    .dataframe thead th {\n",
       "        text-align: right;\n",
       "    }\n",
       "</style>\n",
       "<table border=\"1\" class=\"dataframe\">\n",
       "  <thead>\n",
       "    <tr style=\"text-align: right;\">\n",
       "      <th></th>\n",
       "      <th>IDcllbf</th>\n",
       "      <th>shp_lng</th>\n",
       "      <th>st_lng_</th>\n",
       "      <th>Nom_Rut</th>\n",
       "      <th>Rol_Mop</th>\n",
       "      <th>Clas_Rt</th>\n",
       "      <th>Tip_Crp</th>\n",
       "      <th>Catego</th>\n",
       "      <th>Cod_Rgn</th>\n",
       "      <th>id</th>\n",
       "      <th>...</th>\n",
       "      <th>nr_trtr</th>\n",
       "      <th>ndvi_mn</th>\n",
       "      <th>ndvi_md</th>\n",
       "      <th>es_cll_</th>\n",
       "      <th>utilidd</th>\n",
       "      <th>rank_tl</th>\n",
       "      <th>pje_ep</th>\n",
       "      <th>UV</th>\n",
       "      <th>buffer800</th>\n",
       "      <th>geometry</th>\n",
       "    </tr>\n",
       "  </thead>\n",
       "  <tbody>\n",
       "    <tr>\n",
       "      <th>15650</th>\n",
       "      <td>15651.0</td>\n",
       "      <td>73.173546</td>\n",
       "      <td>73.173546</td>\n",
       "      <td>La Niña</td>\n",
       "      <td>None</td>\n",
       "      <td>9</td>\n",
       "      <td>None</td>\n",
       "      <td>Urbano</td>\n",
       "      <td>13</td>\n",
       "      <td>1.0</td>\n",
       "      <td>...</td>\n",
       "      <td>0.0</td>\n",
       "      <td>0.091791</td>\n",
       "      <td>0.086393</td>\n",
       "      <td>0.0</td>\n",
       "      <td>0.018260</td>\n",
       "      <td>3312.0</td>\n",
       "      <td>0.105029</td>\n",
       "      <td>0</td>\n",
       "      <td>0</td>\n",
       "      <td>LINESTRING (336580.701 6296168.053, 336593.202...</td>\n",
       "    </tr>\n",
       "    <tr>\n",
       "      <th>30261</th>\n",
       "      <td>30262.0</td>\n",
       "      <td>229.994797</td>\n",
       "      <td>229.994797</td>\n",
       "      <td>Austral</td>\n",
       "      <td>None</td>\n",
       "      <td>9</td>\n",
       "      <td>None</td>\n",
       "      <td>Urbano</td>\n",
       "      <td>13</td>\n",
       "      <td>1.0</td>\n",
       "      <td>...</td>\n",
       "      <td>0.0</td>\n",
       "      <td>0.122744</td>\n",
       "      <td>0.116526</td>\n",
       "      <td>0.0</td>\n",
       "      <td>0.331053</td>\n",
       "      <td>11789.0</td>\n",
       "      <td>0.373850</td>\n",
       "      <td>0</td>\n",
       "      <td>0</td>\n",
       "      <td>LINESTRING (336369.749 6296328.592, 336438.898...</td>\n",
       "    </tr>\n",
       "    <tr>\n",
       "      <th>30970</th>\n",
       "      <td>30971.0</td>\n",
       "      <td>158.968251</td>\n",
       "      <td>157.585462</td>\n",
       "      <td>Isla Hope</td>\n",
       "      <td>None</td>\n",
       "      <td>9</td>\n",
       "      <td>None</td>\n",
       "      <td>Urbano</td>\n",
       "      <td>13</td>\n",
       "      <td>1.0</td>\n",
       "      <td>...</td>\n",
       "      <td>0.0</td>\n",
       "      <td>0.050969</td>\n",
       "      <td>0.048876</td>\n",
       "      <td>0.0</td>\n",
       "      <td>-0.392326</td>\n",
       "      <td>628.0</td>\n",
       "      <td>0.019915</td>\n",
       "      <td>0</td>\n",
       "      <td>0</td>\n",
       "      <td>LINESTRING (336558.760 6296293.203, 336529.592...</td>\n",
       "    </tr>\n",
       "    <tr>\n",
       "      <th>30971</th>\n",
       "      <td>30972.0</td>\n",
       "      <td>156.115125</td>\n",
       "      <td>156.115125</td>\n",
       "      <td>Isla Luft</td>\n",
       "      <td>None</td>\n",
       "      <td>9</td>\n",
       "      <td>None</td>\n",
       "      <td>Urbano</td>\n",
       "      <td>13</td>\n",
       "      <td>1.0</td>\n",
       "      <td>...</td>\n",
       "      <td>0.0</td>\n",
       "      <td>0.043660</td>\n",
       "      <td>0.040089</td>\n",
       "      <td>0.0</td>\n",
       "      <td>-0.525850</td>\n",
       "      <td>318.0</td>\n",
       "      <td>0.010084</td>\n",
       "      <td>0</td>\n",
       "      <td>0</td>\n",
       "      <td>LINESTRING (336434.546 6296159.667, 336442.924...</td>\n",
       "    </tr>\n",
       "    <tr>\n",
       "      <th>30974</th>\n",
       "      <td>30975.0</td>\n",
       "      <td>153.407690</td>\n",
       "      <td>153.407690</td>\n",
       "      <td>Isla Trelat</td>\n",
       "      <td>None</td>\n",
       "      <td>9</td>\n",
       "      <td>None</td>\n",
       "      <td>Urbano</td>\n",
       "      <td>13</td>\n",
       "      <td>1.0</td>\n",
       "      <td>...</td>\n",
       "      <td>0.0</td>\n",
       "      <td>0.043844</td>\n",
       "      <td>0.041526</td>\n",
       "      <td>0.0</td>\n",
       "      <td>-0.522313</td>\n",
       "      <td>328.0</td>\n",
       "      <td>0.010401</td>\n",
       "      <td>0</td>\n",
       "      <td>0</td>\n",
       "      <td>LINESTRING (336411.197 6296164.906, 336425.339...</td>\n",
       "    </tr>\n",
       "    <tr>\n",
       "      <th>30975</th>\n",
       "      <td>30976.0</td>\n",
       "      <td>155.494399</td>\n",
       "      <td>155.494399</td>\n",
       "      <td>Isla Hind</td>\n",
       "      <td>None</td>\n",
       "      <td>9</td>\n",
       "      <td>None</td>\n",
       "      <td>Urbano</td>\n",
       "      <td>13</td>\n",
       "      <td>1.0</td>\n",
       "      <td>...</td>\n",
       "      <td>0.0</td>\n",
       "      <td>0.043660</td>\n",
       "      <td>0.040089</td>\n",
       "      <td>0.0</td>\n",
       "      <td>-0.526033</td>\n",
       "      <td>316.0</td>\n",
       "      <td>0.010021</td>\n",
       "      <td>0</td>\n",
       "      <td>0</td>\n",
       "      <td>LINESTRING (336469.832 6296151.750, 336483.106...</td>\n",
       "    </tr>\n",
       "    <tr>\n",
       "      <th>30977</th>\n",
       "      <td>30978.0</td>\n",
       "      <td>368.655687</td>\n",
       "      <td>368.655687</td>\n",
       "      <td>Isla Snag</td>\n",
       "      <td>None</td>\n",
       "      <td>9</td>\n",
       "      <td>None</td>\n",
       "      <td>Urbano</td>\n",
       "      <td>13</td>\n",
       "      <td>1.0</td>\n",
       "      <td>...</td>\n",
       "      <td>0.0</td>\n",
       "      <td>0.049400</td>\n",
       "      <td>0.048746</td>\n",
       "      <td>0.0</td>\n",
       "      <td>-0.396319</td>\n",
       "      <td>609.0</td>\n",
       "      <td>0.019312</td>\n",
       "      <td>0</td>\n",
       "      <td>0</td>\n",
       "      <td>LINESTRING (336454.848 6295937.878, 336475.395...</td>\n",
       "    </tr>\n",
       "    <tr>\n",
       "      <th>30983</th>\n",
       "      <td>30984.0</td>\n",
       "      <td>152.302594</td>\n",
       "      <td>152.302594</td>\n",
       "      <td>Isla Kevin</td>\n",
       "      <td>None</td>\n",
       "      <td>9</td>\n",
       "      <td>None</td>\n",
       "      <td>Urbano</td>\n",
       "      <td>13</td>\n",
       "      <td>1.0</td>\n",
       "      <td>...</td>\n",
       "      <td>0.0</td>\n",
       "      <td>0.062502</td>\n",
       "      <td>0.056958</td>\n",
       "      <td>0.0</td>\n",
       "      <td>-0.459252</td>\n",
       "      <td>446.0</td>\n",
       "      <td>0.014143</td>\n",
       "      <td>0</td>\n",
       "      <td>0</td>\n",
       "      <td>LINESTRING (336381.293 6296171.616, 336393.874...</td>\n",
       "    </tr>\n",
       "    <tr>\n",
       "      <th>30984</th>\n",
       "      <td>30985.0</td>\n",
       "      <td>433.958449</td>\n",
       "      <td>433.958449</td>\n",
       "      <td>Isla Grande Tierra Del Fuego</td>\n",
       "      <td>None</td>\n",
       "      <td>9</td>\n",
       "      <td>None</td>\n",
       "      <td>Urbano</td>\n",
       "      <td>13</td>\n",
       "      <td>1.0</td>\n",
       "      <td>...</td>\n",
       "      <td>1.0</td>\n",
       "      <td>0.117625</td>\n",
       "      <td>0.129193</td>\n",
       "      <td>0.0</td>\n",
       "      <td>-0.136142</td>\n",
       "      <td>1830.0</td>\n",
       "      <td>0.058033</td>\n",
       "      <td>0</td>\n",
       "      <td>0</td>\n",
       "      <td>LINESTRING (336369.749 6296328.592, 336350.111...</td>\n",
       "    </tr>\n",
       "    <tr>\n",
       "      <th>30986</th>\n",
       "      <td>30987.0</td>\n",
       "      <td>158.968251</td>\n",
       "      <td>158.968251</td>\n",
       "      <td>None</td>\n",
       "      <td>None</td>\n",
       "      <td>9</td>\n",
       "      <td>None</td>\n",
       "      <td>Urbano</td>\n",
       "      <td>13</td>\n",
       "      <td>1.0</td>\n",
       "      <td>...</td>\n",
       "      <td>0.0</td>\n",
       "      <td>0.091791</td>\n",
       "      <td>0.086393</td>\n",
       "      <td>0.0</td>\n",
       "      <td>-0.025177</td>\n",
       "      <td>2832.0</td>\n",
       "      <td>0.089808</td>\n",
       "      <td>0</td>\n",
       "      <td>0</td>\n",
       "      <td>LINESTRING (336564.596 6296130.428, 336577.862...</td>\n",
       "    </tr>\n",
       "  </tbody>\n",
       "</table>\n",
       "<p>10 rows × 36 columns</p>\n",
       "</div>"
      ],
      "text/plain": [
       "       IDcllbf     shp_lng     st_lng_                       Nom_Rut Rol_Mop   \n",
       "15650  15651.0   73.173546   73.173546                       La Niña    None  \\\n",
       "30261  30262.0  229.994797  229.994797                       Austral    None   \n",
       "30970  30971.0  158.968251  157.585462                     Isla Hope    None   \n",
       "30971  30972.0  156.115125  156.115125                     Isla Luft    None   \n",
       "30974  30975.0  153.407690  153.407690                   Isla Trelat    None   \n",
       "30975  30976.0  155.494399  155.494399                     Isla Hind    None   \n",
       "30977  30978.0  368.655687  368.655687                     Isla Snag    None   \n",
       "30983  30984.0  152.302594  152.302594                    Isla Kevin    None   \n",
       "30984  30985.0  433.958449  433.958449  Isla Grande Tierra Del Fuego    None   \n",
       "30986  30987.0  158.968251  158.968251                          None    None   \n",
       "\n",
       "       Clas_Rt Tip_Crp  Catego  Cod_Rgn   id  ...  nr_trtr   ndvi_mn   \n",
       "15650        9    None  Urbano       13  1.0  ...      0.0  0.091791  \\\n",
       "30261        9    None  Urbano       13  1.0  ...      0.0  0.122744   \n",
       "30970        9    None  Urbano       13  1.0  ...      0.0  0.050969   \n",
       "30971        9    None  Urbano       13  1.0  ...      0.0  0.043660   \n",
       "30974        9    None  Urbano       13  1.0  ...      0.0  0.043844   \n",
       "30975        9    None  Urbano       13  1.0  ...      0.0  0.043660   \n",
       "30977        9    None  Urbano       13  1.0  ...      0.0  0.049400   \n",
       "30983        9    None  Urbano       13  1.0  ...      0.0  0.062502   \n",
       "30984        9    None  Urbano       13  1.0  ...      1.0  0.117625   \n",
       "30986        9    None  Urbano       13  1.0  ...      0.0  0.091791   \n",
       "\n",
       "        ndvi_md  es_cll_   utilidd  rank_tl    pje_ep  UV  buffer800   \n",
       "15650  0.086393      0.0  0.018260   3312.0  0.105029   0          0  \\\n",
       "30261  0.116526      0.0  0.331053  11789.0  0.373850   0          0   \n",
       "30970  0.048876      0.0 -0.392326    628.0  0.019915   0          0   \n",
       "30971  0.040089      0.0 -0.525850    318.0  0.010084   0          0   \n",
       "30974  0.041526      0.0 -0.522313    328.0  0.010401   0          0   \n",
       "30975  0.040089      0.0 -0.526033    316.0  0.010021   0          0   \n",
       "30977  0.048746      0.0 -0.396319    609.0  0.019312   0          0   \n",
       "30983  0.056958      0.0 -0.459252    446.0  0.014143   0          0   \n",
       "30984  0.129193      0.0 -0.136142   1830.0  0.058033   0          0   \n",
       "30986  0.086393      0.0 -0.025177   2832.0  0.089808   0          0   \n",
       "\n",
       "                                                geometry  \n",
       "15650  LINESTRING (336580.701 6296168.053, 336593.202...  \n",
       "30261  LINESTRING (336369.749 6296328.592, 336438.898...  \n",
       "30970  LINESTRING (336558.760 6296293.203, 336529.592...  \n",
       "30971  LINESTRING (336434.546 6296159.667, 336442.924...  \n",
       "30974  LINESTRING (336411.197 6296164.906, 336425.339...  \n",
       "30975  LINESTRING (336469.832 6296151.750, 336483.106...  \n",
       "30977  LINESTRING (336454.848 6295937.878, 336475.395...  \n",
       "30983  LINESTRING (336381.293 6296171.616, 336393.874...  \n",
       "30984  LINESTRING (336369.749 6296328.592, 336350.111...  \n",
       "30986  LINESTRING (336564.596 6296130.428, 336577.862...  \n",
       "\n",
       "[10 rows x 36 columns]"
      ]
     },
     "execution_count": 37,
     "metadata": {},
     "output_type": "execute_result"
    }
   ],
   "source": [
    "IDs_list = [30985,30984,30975,30972,30976,30978,30971,30987,30262,15651]\n",
    "qgis_snapping_test = pub_space_qty.loc[pub_space_qty.IDcllbf.isin(IDs_list)]\n",
    "#qgis_snapping_test = qgis_snapping_test.to_crs(projected_crs)\n",
    "\n",
    "# Show\n",
    "print(qgis_snapping_test.shape)\n",
    "qgis_snapping_test"
   ]
  },
  {
   "cell_type": "code",
   "execution_count": 38,
   "id": "8a5c00dc-bdfc-46c1-900a-471ff99c55f9",
   "metadata": {},
   "outputs": [
    {
     "data": {
      "text/plain": [
       "<Axes: >"
      ]
     },
     "execution_count": 38,
     "metadata": {},
     "output_type": "execute_result"
    },
    {
     "data": {
      "image/png": "[encoded data removed]",
      "text/plain": [
       "<Figure size 640x480 with 1 Axes>"
      ]
     },
     "metadata": {},
     "output_type": "display_data"
    }
   ],
   "source": [
    "fig,ax = plt.subplots()\n",
    "qgis_snapping_test.loc[qgis_snapping_test['IDcllbf']==30262].plot(ax=ax,zorder=2,color='red')\n",
    "qgis_snapping_test.plot(ax=ax,zorder=1)"
   ]
  },
  {
   "cell_type": "code",
   "execution_count": 46,
   "id": "e2ec8105-f50f-4c49-aaeb-c8cdd4690964",
   "metadata": {},
   "outputs": [
    {
     "data": {
      "text/plain": [
       "<GeometryArray>\n",
       "[<LINESTRING (336369.749 6296328.592, 336438.898 6296315.788, 336595.808 6296...>]\n",
       "Length: 1, dtype: geometry"
      ]
     },
     "execution_count": 46,
     "metadata": {},
     "output_type": "execute_result"
    }
   ],
   "source": [
    "qgis_snapping_test.loc[qgis_snapping_test['IDcllbf']==30262]['geometry'].unique()"
   ]
  },
  {
   "cell_type": "code",
   "execution_count": 47,
   "id": "0b01b3e5-de4b-4015-9688-f6f10778265b",
   "metadata": {},
   "outputs": [
    {
     "data": {
      "text/plain": [
       "15650    LINESTRING (336580.701 6296168.053, 336593.202...\n",
       "30261    LINESTRING (336369.749 6296328.592, 336438.898...\n",
       "30970    LINESTRING (336558.760 6296293.203, 336529.592...\n",
       "30971    LINESTRING (336434.546 6296159.667, 336442.924...\n",
       "30974    LINESTRING (336411.197 6296164.906, 336425.339...\n",
       "30975    LINESTRING (336469.832 6296151.750, 336483.106...\n",
       "30977    LINESTRING (336454.848 6295937.878, 336475.395...\n",
       "30983    LINESTRING (336381.293 6296171.616, 336393.874...\n",
       "30984    LINESTRING (336369.749 6296328.592, 336350.111...\n",
       "30986    LINESTRING (336564.596 6296130.428, 336577.862...\n",
       "Name: geometry, dtype: geometry"
      ]
     },
     "execution_count": 47,
     "metadata": {},
     "output_type": "execute_result"
    }
   ],
   "source": [
    "qgis_snapping_test['geometry']"
   ]
  },
  {
   "cell_type": "code",
   "execution_count": 45,
   "id": "4bfb863d-95b0-415b-927a-c2a290c2bef3",
   "metadata": {},
   "outputs": [
    {
     "ename": "AttributeError",
     "evalue": "'GeoSeries' object has no attribute 'snap'",
     "output_type": "error",
     "traceback": [
      "\u001b[0;31m---------------------------------------------------------------------------\u001b[0m",
      "\u001b[0;31mAttributeError\u001b[0m                            Traceback (most recent call last)",
      "\u001b[0;32m/tmp/ipykernel_3692/1476267392.py\u001b[0m in \u001b[0;36m?\u001b[0;34m()\u001b[0m\n\u001b[0;32m----> 1\u001b[0;31m \u001b[0mtest\u001b[0m \u001b[0;34m=\u001b[0m \u001b[0mqgis_snapping_test\u001b[0m\u001b[0;34m[\u001b[0m\u001b[0;34m'geometry'\u001b[0m\u001b[0;34m]\u001b[0m\u001b[0;34m.\u001b[0m\u001b[0msnap\u001b[0m\u001b[0;34m(\u001b[0m\u001b[0mqgis_snapping_test\u001b[0m\u001b[0;34m.\u001b[0m\u001b[0mloc\u001b[0m\u001b[0;34m[\u001b[0m\u001b[0mqgis_snapping_test\u001b[0m\u001b[0;34m[\u001b[0m\u001b[0;34m'IDcllbf'\u001b[0m\u001b[0;34m]\u001b[0m\u001b[0;34m==\u001b[0m\u001b[0;36m30262\u001b[0m\u001b[0;34m]\u001b[0m\u001b[0;34m[\u001b[0m\u001b[0;34m'geometry'\u001b[0m\u001b[0;34m]\u001b[0m\u001b[0;34m.\u001b[0m\u001b[0munique\u001b[0m\u001b[0;34m(\u001b[0m\u001b[0;34m)\u001b[0m\u001b[0;34m,\u001b[0m \u001b[0mtolerance\u001b[0m\u001b[0;34m=\u001b[0m\u001b[0;36m1\u001b[0m\u001b[0;34m)\u001b[0m\u001b[0;34m\u001b[0m\u001b[0;34m\u001b[0m\u001b[0m\n\u001b[0m",
      "\u001b[0;32m/opt/conda/envs/gds/lib/python3.9/site-packages/pandas/core/generic.py\u001b[0m in \u001b[0;36m?\u001b[0;34m(self, name)\u001b[0m\n\u001b[1;32m   5985\u001b[0m             \u001b[0;32mand\u001b[0m \u001b[0mname\u001b[0m \u001b[0;32mnot\u001b[0m \u001b[0;32min\u001b[0m \u001b[0mself\u001b[0m\u001b[0;34m.\u001b[0m\u001b[0m_accessors\u001b[0m\u001b[0;34m\u001b[0m\u001b[0;34m\u001b[0m\u001b[0m\n\u001b[1;32m   5986\u001b[0m             \u001b[0;32mand\u001b[0m \u001b[0mself\u001b[0m\u001b[0;34m.\u001b[0m\u001b[0m_info_axis\u001b[0m\u001b[0;34m.\u001b[0m\u001b[0m_can_hold_identifiers_and_holds_name\u001b[0m\u001b[0;34m(\u001b[0m\u001b[0mname\u001b[0m\u001b[0;34m)\u001b[0m\u001b[0;34m\u001b[0m\u001b[0;34m\u001b[0m\u001b[0m\n\u001b[1;32m   5987\u001b[0m         ):\n\u001b[1;32m   5988\u001b[0m             \u001b[0;32mreturn\u001b[0m \u001b[0mself\u001b[0m\u001b[0;34m[\u001b[0m\u001b[0mname\u001b[0m\u001b[0;34m]\u001b[0m\u001b[0;34m\u001b[0m\u001b[0;34m\u001b[0m\u001b[0m\n\u001b[0;32m-> 5989\u001b[0;31m         \u001b[0;32mreturn\u001b[0m \u001b[0mobject\u001b[0m\u001b[0;34m.\u001b[0m\u001b[0m__getattribute__\u001b[0m\u001b[0;34m(\u001b[0m\u001b[0mself\u001b[0m\u001b[0;34m,\u001b[0m \u001b[0mname\u001b[0m\u001b[0;34m)\u001b[0m\u001b[0;34m\u001b[0m\u001b[0;34m\u001b[0m\u001b[0m\n\u001b[0m",
      "\u001b[0;31mAttributeError\u001b[0m: 'GeoSeries' object has no attribute 'snap'"
     ]
    }
   ],
   "source": [
    "test = qgis_snapping_test['geometry'].snap(, tolerance=1)"
   ]
  },
  {
   "cell_type": "markdown",
   "id": "c24663fe-a9a1-49b6-b88e-7db9a26a9706",
   "metadata": {},
   "source": [
    "### geopandas snap test"
   ]
  },
  {
   "cell_type": "code",
   "execution_count": 63,
   "id": "0df6f043-029d-4b09-80a4-ed67cd3987df",
   "metadata": {},
   "outputs": [],
   "source": [
    "#https://geopandas.org/en/v1.0.1/docs/reference/api/geopandas.GeoSeries.snap.html\n",
    "from shapely import Polygon, LineString, Point\n",
    "s = gpd.GeoSeries([Point(0.5, 2.5),LineString([(0.1, 0.1), (0.49, 0.51), (1.01, 0.89)]),\n",
    "                   #Polygon([(0, 0), (0, 10), (10, 10), (10, 0), (0, 0)]),\n",
    "                  ],)\n",
    "s2 = gpd.GeoSeries([Point(0, 2),LineString([(0, 0), (0.5, 0.5), (1.0, 1.0)])],index=range(1, 3),)"
   ]
  },
  {
   "cell_type": "code",
   "execution_count": 64,
   "id": "e3fbfbf6-a962-4ebf-84bd-ef121524f123",
   "metadata": {},
   "outputs": [
    {
     "data": {
      "text/plain": [
       "<Axes: >"
      ]
     },
     "execution_count": 64,
     "metadata": {},
     "output_type": "execute_result"
    },
    {
     "data": {
      "image/png": "[encoded data removed]",
      "text/plain": [
       "<Figure size 640x480 with 1 Axes>"
      ]
     },
     "metadata": {},
     "output_type": "display_data"
    }
   ],
   "source": [
    "fig,ax = plt.subplots()\n",
    "s.plot(ax=ax)\n",
    "s2.plot(ax=ax,color='red')"
   ]
  },
  {
   "cell_type": "code",
   "execution_count": 65,
   "id": "fa63fd51-977e-4e49-bfdf-bca9104e3704",
   "metadata": {},
   "outputs": [
    {
     "ename": "AttributeError",
     "evalue": "'GeoSeries' object has no attribute 'snap'",
     "output_type": "error",
     "traceback": [
      "\u001b[0;31m---------------------------------------------------------------------------\u001b[0m",
      "\u001b[0;31mAttributeError\u001b[0m                            Traceback (most recent call last)",
      "\u001b[0;32m/tmp/ipykernel_3692/2676811701.py\u001b[0m in \u001b[0;36m?\u001b[0;34m()\u001b[0m\n\u001b[0;32m----> 1\u001b[0;31m \u001b[0ms\u001b[0m\u001b[0;34m.\u001b[0m\u001b[0msnap\u001b[0m\u001b[0;34m(\u001b[0m\u001b[0mPoint\u001b[0m\u001b[0;34m(\u001b[0m\u001b[0;36m0\u001b[0m\u001b[0;34m,\u001b[0m \u001b[0;36m2\u001b[0m\u001b[0;34m)\u001b[0m\u001b[0;34m,\u001b[0m \u001b[0mtolerance\u001b[0m\u001b[0;34m=\u001b[0m\u001b[0;36m1\u001b[0m\u001b[0;34m)\u001b[0m\u001b[0;34m\u001b[0m\u001b[0;34m\u001b[0m\u001b[0m\n\u001b[0m",
      "\u001b[0;32m/opt/conda/envs/gds/lib/python3.9/site-packages/pandas/core/generic.py\u001b[0m in \u001b[0;36m?\u001b[0;34m(self, name)\u001b[0m\n\u001b[1;32m   5985\u001b[0m             \u001b[0;32mand\u001b[0m \u001b[0mname\u001b[0m \u001b[0;32mnot\u001b[0m \u001b[0;32min\u001b[0m \u001b[0mself\u001b[0m\u001b[0;34m.\u001b[0m\u001b[0m_accessors\u001b[0m\u001b[0;34m\u001b[0m\u001b[0;34m\u001b[0m\u001b[0m\n\u001b[1;32m   5986\u001b[0m             \u001b[0;32mand\u001b[0m \u001b[0mself\u001b[0m\u001b[0;34m.\u001b[0m\u001b[0m_info_axis\u001b[0m\u001b[0;34m.\u001b[0m\u001b[0m_can_hold_identifiers_and_holds_name\u001b[0m\u001b[0;34m(\u001b[0m\u001b[0mname\u001b[0m\u001b[0;34m)\u001b[0m\u001b[0;34m\u001b[0m\u001b[0;34m\u001b[0m\u001b[0m\n\u001b[1;32m   5987\u001b[0m         ):\n\u001b[1;32m   5988\u001b[0m             \u001b[0;32mreturn\u001b[0m \u001b[0mself\u001b[0m\u001b[0;34m[\u001b[0m\u001b[0mname\u001b[0m\u001b[0;34m]\u001b[0m\u001b[0;34m\u001b[0m\u001b[0;34m\u001b[0m\u001b[0m\n\u001b[0;32m-> 5989\u001b[0;31m         \u001b[0;32mreturn\u001b[0m \u001b[0mobject\u001b[0m\u001b[0;34m.\u001b[0m\u001b[0m__getattribute__\u001b[0m\u001b[0;34m(\u001b[0m\u001b[0mself\u001b[0m\u001b[0;34m,\u001b[0m \u001b[0mname\u001b[0m\u001b[0;34m)\u001b[0m\u001b[0;34m\u001b[0m\u001b[0;34m\u001b[0m\u001b[0m\n\u001b[0m",
      "\u001b[0;31mAttributeError\u001b[0m: 'GeoSeries' object has no attribute 'snap'"
     ]
    }
   ],
   "source": [
    "s.snap(Point(0, 2), tolerance=1)"
   ]
  },
  {
   "cell_type": "markdown",
   "id": "d939f343-6614-4134-a59e-04e64cff5b6d",
   "metadata": {},
   "source": [
    "### pygeos snap test"
   ]
  },
  {
   "cell_type": "code",
   "execution_count": 85,
   "id": "0c64e48e-2b65-411f-86ad-6bd35f4240d4",
   "metadata": {},
   "outputs": [
    {
     "name": "stderr",
     "output_type": "stream",
     "text": [
      "/tmp/ipykernel_3692/1392337257.py:8: DeprecationWarning: Accessing the underlying geometries through the `.data` attribute is deprecated and will be removed in GeoPandas 1.0. You can use `np.asarray(..)` or the `to_numpy()` method instead.\n",
      "Note that if you are using PyGEOS and using this attribute to get an array of PyGEOS geometries, those other methods will always return an array of Shapely geometries. Accessing the underlying PyGEOS geometries directly is deprecated, and you should migrate to use Shapely >= 2.0 instead.\n",
      "  geom = df.geometry.values.data\n"
     ]
    },
    {
     "ename": "TypeError",
     "evalue": "One of the arguments is of incorrect type. Please provide only Geometry objects.",
     "output_type": "error",
     "traceback": [
      "\u001b[0;31m---------------------------------------------------------------------------\u001b[0m",
      "\u001b[0;31mTypeError\u001b[0m                                 Traceback (most recent call last)",
      "Cell \u001b[0;32mIn[85], line 39\u001b[0m\n\u001b[1;32m     36\u001b[0m     \u001b[38;5;28;01mreturn\u001b[39;00m snapped\n\u001b[1;32m     38\u001b[0m df \u001b[38;5;241m=\u001b[39m qgis_snapping_test[\u001b[38;5;241m0\u001b[39m:\u001b[38;5;241m1\u001b[39m]\n\u001b[0;32m---> 39\u001b[0m snapped_df \u001b[38;5;241m=\u001b[39m \u001b[43mclose_gaps\u001b[49m\u001b[43m(\u001b[49m\u001b[43mdf\u001b[49m\u001b[43m,\u001b[49m\u001b[43m \u001b[49m\u001b[38;5;241;43m1\u001b[39;49m\u001b[43m)\u001b[49m\n",
      "Cell \u001b[0;32mIn[85], line 9\u001b[0m, in \u001b[0;36mclose_gaps\u001b[0;34m(df, tolerance)\u001b[0m\n\u001b[1;32m      5\u001b[0m \u001b[38;5;250m\u001b[39m\u001b[38;5;124;03m\"\"\"Close gaps in LineString geometry where it should be contiguous.\u001b[39;00m\n\u001b[1;32m      6\u001b[0m \u001b[38;5;124;03mSnaps both lines to a centroid of a gap in between.\u001b[39;00m\n\u001b[1;32m      7\u001b[0m \u001b[38;5;124;03m\"\"\"\u001b[39;00m\n\u001b[1;32m      8\u001b[0m geom \u001b[38;5;241m=\u001b[39m df\u001b[38;5;241m.\u001b[39mgeometry\u001b[38;5;241m.\u001b[39mvalues\u001b[38;5;241m.\u001b[39mdata\n\u001b[0;32m----> 9\u001b[0m coords \u001b[38;5;241m=\u001b[39m \u001b[43mpygeos\u001b[49m\u001b[38;5;241;43m.\u001b[39;49m\u001b[43mget_coordinates\u001b[49m\u001b[43m(\u001b[49m\u001b[43mgeom\u001b[49m\u001b[43m)\u001b[49m\n\u001b[1;32m     10\u001b[0m indices \u001b[38;5;241m=\u001b[39m pygeos\u001b[38;5;241m.\u001b[39mget_num_coordinates(geom)\n\u001b[1;32m     12\u001b[0m \u001b[38;5;66;03m# generate a list of start and end coordinates and create point geometries\u001b[39;00m\n",
      "File \u001b[0;32m/opt/conda/envs/gds/lib/python3.9/site-packages/pygeos/coordinates.py:134\u001b[0m, in \u001b[0;36mget_coordinates\u001b[0;34m(geometry, include_z, return_index)\u001b[0m\n\u001b[1;32m     92\u001b[0m \u001b[38;5;28;01mdef\u001b[39;00m \u001b[38;5;21mget_coordinates\u001b[39m(geometry, include_z\u001b[38;5;241m=\u001b[39m\u001b[38;5;28;01mFalse\u001b[39;00m, return_index\u001b[38;5;241m=\u001b[39m\u001b[38;5;28;01mFalse\u001b[39;00m):\n\u001b[1;32m     93\u001b[0m \u001b[38;5;250m    \u001b[39m\u001b[38;5;124;03m\"\"\"Gets coordinates from a geometry array as an array of floats.\u001b[39;00m\n\u001b[1;32m     94\u001b[0m \n\u001b[1;32m     95\u001b[0m \u001b[38;5;124;03m    The shape of the returned array is (N, 2), with N being the number of\u001b[39;00m\n\u001b[0;32m   (...)\u001b[0m\n\u001b[1;32m    132\u001b[0m \u001b[38;5;124;03m    ([[2.0, 2.0], [4.0, 4.0], [0.0, 0.0]], [0, 0, 1])\u001b[39;00m\n\u001b[1;32m    133\u001b[0m \u001b[38;5;124;03m    \"\"\"\u001b[39;00m\n\u001b[0;32m--> 134\u001b[0m     \u001b[38;5;28;01mreturn\u001b[39;00m \u001b[43mlib\u001b[49m\u001b[38;5;241;43m.\u001b[39;49m\u001b[43mget_coordinates\u001b[49m\u001b[43m(\u001b[49m\n\u001b[1;32m    135\u001b[0m \u001b[43m        \u001b[49m\u001b[43mnp\u001b[49m\u001b[38;5;241;43m.\u001b[39;49m\u001b[43masarray\u001b[49m\u001b[43m(\u001b[49m\u001b[43mgeometry\u001b[49m\u001b[43m,\u001b[49m\u001b[43m \u001b[49m\u001b[43mdtype\u001b[49m\u001b[38;5;241;43m=\u001b[39;49m\u001b[43mnp\u001b[49m\u001b[38;5;241;43m.\u001b[39;49m\u001b[43mobject_\u001b[49m\u001b[43m)\u001b[49m\u001b[43m,\u001b[49m\u001b[43m \u001b[49m\u001b[43minclude_z\u001b[49m\u001b[43m,\u001b[49m\u001b[43m \u001b[49m\u001b[43mreturn_index\u001b[49m\n\u001b[1;32m    136\u001b[0m \u001b[43m    \u001b[49m\u001b[43m)\u001b[49m\n",
      "\u001b[0;31mTypeError\u001b[0m: One of the arguments is of incorrect type. Please provide only Geometry objects."
     ]
    }
   ],
   "source": [
    "# https://gis.stackexchange.com/questions/377552/python-geopandas-fill-small-gaps-between-linestrings-in-a-graph-to-get-only-one\n",
    "import pygeos\n",
    "\n",
    "def close_gaps(df, tolerance):\n",
    "    \"\"\"Close gaps in LineString geometry where it should be contiguous.\n",
    "    Snaps both lines to a centroid of a gap in between.\n",
    "    \"\"\"\n",
    "    geom = df.geometry.values.data\n",
    "    coords = pygeos.get_coordinates(geom)\n",
    "    indices = pygeos.get_num_coordinates(geom)\n",
    "\n",
    "    # generate a list of start and end coordinates and create point geometries\n",
    "    edges = [0]\n",
    "    i = 0\n",
    "    for ind in indices:\n",
    "        ix = i + ind\n",
    "        edges.append(ix - 1)\n",
    "        edges.append(ix)\n",
    "        i = ix\n",
    "    edges = edges[:-1]\n",
    "    points = pygeos.points(np.unique(coords[edges], axis=0))\n",
    "\n",
    "    buffered = pygeos.buffer(points, tolerance)\n",
    "\n",
    "    dissolved = pygeos.union_all(buffered)\n",
    "\n",
    "    exploded = [\n",
    "        pygeos.get_geometry(dissolved, i)\n",
    "        for i in range(pygeos.get_num_geometries(dissolved))\n",
    "    ]\n",
    "\n",
    "    centroids = pygeos.centroid(exploded)\n",
    "\n",
    "    snapped = pygeos.snap(geom, pygeos.union_all(centroids), tolerance)\n",
    "\n",
    "    return snapped\n",
    "\n",
    "df = qgis_snapping_test[0:1]\n",
    "snapped_df = close_gaps(df, 1)"
   ]
  },
  {
   "cell_type": "code",
   "execution_count": null,
   "id": "55dbc6f0-0ea7-4d54-ad1e-53010841bdfd",
   "metadata": {},
   "outputs": [],
   "source": []
  }
 ],
 "metadata": {
  "kernelspec": {
   "display_name": "GDS-10.0",
   "language": "python",
   "name": "gds"
  },
  "language_info": {
   "codemirror_mode": {
    "name": "ipython",
    "version": 3
   },
   "file_extension": ".py",
   "mimetype": "text/x-python",
   "name": "python",
   "nbconvert_exporter": "python",
   "pygments_lexer": "ipython3",
   "version": "3.9.18"
  }
 },
 "nbformat": 4,
 "nbformat_minor": 5
}
