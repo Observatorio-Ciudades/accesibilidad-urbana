{
 "cells": [
  {
   "cell_type": "markdown",
   "id": "410f7b23-2d2a-49dc-9b39-9d5b82215d1e",
   "metadata": {},
   "source": [
    "# Filtered navigable network - Step 1"
   ]
  },
  {
   "cell_type": "markdown",
   "id": "4dca6607-7ef6-47a5-9f2f-4b5f5ee33bb5",
   "metadata": {},
   "source": [
    "This notebook test the way to create nodes and edges compatibles with OSMnx in order to be able to __use Santiago's public space quality index__ (Available in non-OSMnx road linestrings) __as a filter.__\n",
    "\n",
    "The steps to be followed are the currently working QGIS steps:\n",
    "1. Split lines with lines\n",
    "2. Vector > Geometry Tools > Multipart to singleparts\n",
    "3. Extract specific vertices [0,-1]\n",
    "4. MMQGIS Modify > Drop dups"
   ]
  },
  {
   "cell_type": "markdown",
   "id": "b8c9c69d-93a9-4112-a2ac-c8f828d82563",
   "metadata": {},
   "source": [
    "## Import libraries"
   ]
  },
  {
   "cell_type": "code",
   "execution_count": 80,
   "id": "428974d3-7032-48f6-80f4-fd72cf5a1079",
   "metadata": {},
   "outputs": [],
   "source": [
    "import geopandas as gpd\n",
    "import pandas as pd\n",
    "import numpy as np\n",
    "from shapely.geometry import Point\n",
    "\n",
    "from shapely.geometry import GeometryCollection\n",
    "from shapely.ops import split\n",
    "import time\n",
    "\n",
    "import matplotlib.pyplot as plt\n",
    "\n",
    "import warnings\n",
    "warnings.simplefilter(action='ignore', category=FutureWarning)\n",
    "\n",
    "import os\n",
    "import sys\n",
    "module_path = os.path.abspath(os.path.join('../../../'))\n",
    "if module_path not in sys.path:\n",
    "    sys.path.append(module_path)\n",
    "    import aup"
   ]
  },
  {
   "cell_type": "markdown",
   "id": "d9b38b85-d0fc-4b3d-b054-106e5e650d8d",
   "metadata": {},
   "source": [
    "## Config notebook"
   ]
  },
  {
   "cell_type": "code",
   "execution_count": 2,
   "id": "3ee6ce45-e36b-4f00-9a10-9e4b903f4477",
   "metadata": {},
   "outputs": [],
   "source": [
    "gral_dir = '../../../data/external/santiago/'\n",
    "project_name = 'redvial2019_buffer_3750m_c_utilidad_2'\n",
    "p_code = '00'\n",
    "public_space_quality_dir = gral_dir + f\"calidad_ep/{p_code}_{project_name}/{project_name}.shp\"\n",
    "\n",
    "# Projection to be used whenever necessary\n",
    "projected_crs = 'EPSG:32719'\n",
    "# Column to filter data\n",
    "filtering_column = 'pje_ep'\n",
    "filtering_value = 0.5 # Will keep equal or more than this value"
   ]
  },
  {
   "cell_type": "markdown",
   "id": "a851ee32-ba91-4f58-9aa4-c9cb62ead88f",
   "metadata": {},
   "source": [
    "## Load data"
   ]
  },
  {
   "cell_type": "code",
   "execution_count": 3,
   "id": "df9c58ad-9ce3-48c3-b82b-fcc5848931e6",
   "metadata": {},
   "outputs": [
    {
     "name": "stdout",
     "output_type": "stream",
     "text": [
      "(31534, 2)\n"
     ]
    },
    {
     "data": {
      "text/html": [
       "<div>\n",
       "<style scoped>\n",
       "    .dataframe tbody tr th:only-of-type {\n",
       "        vertical-align: middle;\n",
       "    }\n",
       "\n",
       "    .dataframe tbody tr th {\n",
       "        vertical-align: top;\n",
       "    }\n",
       "\n",
       "    .dataframe thead th {\n",
       "        text-align: right;\n",
       "    }\n",
       "</style>\n",
       "<table border=\"1\" class=\"dataframe\">\n",
       "  <thead>\n",
       "    <tr style=\"text-align: right;\">\n",
       "      <th></th>\n",
       "      <th>pje_ep</th>\n",
       "      <th>geometry</th>\n",
       "    </tr>\n",
       "  </thead>\n",
       "  <tbody>\n",
       "    <tr>\n",
       "      <th>0</th>\n",
       "      <td>0.209171</td>\n",
       "      <td>LINESTRING (-70.60280 -33.40858, -70.60255 -33...</td>\n",
       "    </tr>\n",
       "  </tbody>\n",
       "</table>\n",
       "</div>"
      ],
      "text/plain": [
       "     pje_ep                                           geometry\n",
       "0  0.209171  LINESTRING (-70.60280 -33.40858, -70.60255 -33..."
      ]
     },
     "execution_count": 3,
     "metadata": {},
     "output_type": "execute_result"
    }
   ],
   "source": [
    "# 1.0 --------------- LOAD DATA\n",
    "# ------------------- This step loads the public space quality index gdf for the current project\n",
    "# Load data\n",
    "pub_space_qty = gpd.read_file(public_space_quality_dir)\n",
    "# Set CRS\n",
    "pub_space_qty = pub_space_qty.set_crs(projected_crs)\n",
    "# Filter for data of relevance\n",
    "gdf = pub_space_qty[[filtering_column,'geometry']].copy()\n",
    "gdf = gdf.to_crs(\"EPSG:4326\")\n",
    "\n",
    "# Show\n",
    "print(gdf.shape)\n",
    "gdf.head(1)"
   ]
  },
  {
   "cell_type": "markdown",
   "id": "14494ef8-080e-44ee-84a3-c37df13d3a79",
   "metadata": {},
   "source": [
    "## Step 1 - How to split lines with themselves?"
   ]
  },
  {
   "cell_type": "code",
   "execution_count": 92,
   "id": "173c8a8b-873a-4062-b3fe-7e412ef6318c",
   "metadata": {},
   "outputs": [
    {
     "name": "stdout",
     "output_type": "stream",
     "text": [
      "(2000, 2)\n"
     ]
    },
    {
     "data": {
      "text/html": [
       "<div>\n",
       "<style scoped>\n",
       "    .dataframe tbody tr th:only-of-type {\n",
       "        vertical-align: middle;\n",
       "    }\n",
       "\n",
       "    .dataframe tbody tr th {\n",
       "        vertical-align: top;\n",
       "    }\n",
       "\n",
       "    .dataframe thead th {\n",
       "        text-align: right;\n",
       "    }\n",
       "</style>\n",
       "<table border=\"1\" class=\"dataframe\">\n",
       "  <thead>\n",
       "    <tr style=\"text-align: right;\">\n",
       "      <th></th>\n",
       "      <th>pje_ep</th>\n",
       "      <th>geometry</th>\n",
       "    </tr>\n",
       "  </thead>\n",
       "  <tbody>\n",
       "    <tr>\n",
       "      <th>0</th>\n",
       "      <td>0.209171</td>\n",
       "      <td>LINESTRING (-70.60280 -33.40858, -70.60255 -33...</td>\n",
       "    </tr>\n",
       "    <tr>\n",
       "      <th>1</th>\n",
       "      <td>0.273895</td>\n",
       "      <td>LINESTRING (-70.60036 -33.40805, -70.60032 -33...</td>\n",
       "    </tr>\n",
       "  </tbody>\n",
       "</table>\n",
       "</div>"
      ],
      "text/plain": [
       "     pje_ep                                           geometry\n",
       "0  0.209171  LINESTRING (-70.60280 -33.40858, -70.60255 -33...\n",
       "1  0.273895  LINESTRING (-70.60036 -33.40805, -70.60032 -33..."
      ]
     },
     "execution_count": 92,
     "metadata": {},
     "output_type": "execute_result"
    }
   ],
   "source": [
    "# Tests - Isolate the first 10 lines\n",
    "some_lines = gdf.loc[0:1999]\n",
    "\n",
    "# Show\n",
    "print(some_lines.shape)\n",
    "some_lines.head(2)"
   ]
  },
  {
   "cell_type": "code",
   "execution_count": 5,
   "id": "b788e073-012a-498b-a9d8-9909a8826ac4",
   "metadata": {},
   "outputs": [
    {
     "data": {
      "text/plain": [
       "<Axes: >"
      ]
     },
     "execution_count": 5,
     "metadata": {},
     "output_type": "execute_result"
    },
    {
     "data": {
      "image/png": "[encoded data removed]",
      "text/plain": [
       "<Figure size 640x480 with 1 Axes>"
      ]
     },
     "metadata": {},
     "output_type": "display_data"
    }
   ],
   "source": [
    "some_lines.plot()"
   ]
  },
  {
   "cell_type": "markdown",
   "id": "bccd6c50-cf04-4e99-acff-7fcbec399458",
   "metadata": {
    "jp-MarkdownHeadingCollapsed": true
   },
   "source": [
    "### Split lines with themselves - __[Working, 10mins aprox.]__ Intersecting each line with the unary union of the rest of the lines using .apply()"
   ]
  },
  {
   "cell_type": "markdown",
   "id": "9967d76b-931b-43ed-8726-bebb1b894011",
   "metadata": {},
   "source": [
    "Result: __FAIL__ - A los 960 segundos de intentar precompute_unary_union con todas las líneas se desconectó el Docker y Visual"
   ]
  },
  {
   "cell_type": "code",
   "execution_count": 6,
   "id": "a918a15f-cc87-4ec4-a165-fc3d4e129a25",
   "metadata": {},
   "outputs": [],
   "source": [
    "from shapely.geometry import GeometryCollection\n",
    "import time"
   ]
  },
  {
   "cell_type": "markdown",
   "id": "84ed995d-59cd-4b11-a174-5c7bfa2a1afd",
   "metadata": {},
   "source": [
    "#### __Part 1:__ precompute_unary_union function"
   ]
  },
  {
   "cell_type": "markdown",
   "id": "d98fb447-0979-422c-8bf9-8635aca0dd9c",
   "metadata": {
    "jp-MarkdownHeadingCollapsed": true
   },
   "source": [
    "##### __Part 1 Option A__ (Memory crashes with complete gdf, option B is faster and lighter)"
   ]
  },
  {
   "cell_type": "markdown",
   "id": "0425a08a-f39e-4b90-9cb4-ae7c3bc33d69",
   "metadata": {},
   "source": [
    "* 2000 lines result: 41.16s, 144,144 bytes.\n",
    "* Complete gdf result: Memory crash"
   ]
  },
  {
   "cell_type": "code",
   "execution_count": 30,
   "id": "f248d6e5-0f1c-46bf-8281-dd0f58e0387f",
   "metadata": {},
   "outputs": [
    {
     "name": "stdout",
     "output_type": "stream",
     "text": [
      "41.16363716125488\n",
      "(2000, 4)\n",
      "144144\n"
     ]
    },
    {
     "data": {
      "text/html": [
       "<div>\n",
       "<style scoped>\n",
       "    .dataframe tbody tr th:only-of-type {\n",
       "        vertical-align: middle;\n",
       "    }\n",
       "\n",
       "    .dataframe tbody tr th {\n",
       "        vertical-align: top;\n",
       "    }\n",
       "\n",
       "    .dataframe thead th {\n",
       "        text-align: right;\n",
       "    }\n",
       "</style>\n",
       "<table border=\"1\" class=\"dataframe\">\n",
       "  <thead>\n",
       "    <tr style=\"text-align: right;\">\n",
       "      <th></th>\n",
       "      <th>original_id</th>\n",
       "      <th>pje_ep</th>\n",
       "      <th>geometry</th>\n",
       "      <th>unary_geometry</th>\n",
       "    </tr>\n",
       "  </thead>\n",
       "  <tbody>\n",
       "    <tr>\n",
       "      <th>0</th>\n",
       "      <td>0</td>\n",
       "      <td>0.209171</td>\n",
       "      <td>LINESTRING (-70.60280 -33.40858, -70.60255 -33...</td>\n",
       "      <td>MULTILINESTRING ((-70.60035990020656 -33.40804...</td>\n",
       "    </tr>\n",
       "    <tr>\n",
       "      <th>1</th>\n",
       "      <td>1</td>\n",
       "      <td>0.273895</td>\n",
       "      <td>LINESTRING (-70.60036 -33.40805, -70.60032 -33...</td>\n",
       "      <td>MULTILINESTRING ((-70.6028043226681 -33.408581...</td>\n",
       "    </tr>\n",
       "    <tr>\n",
       "      <th>2</th>\n",
       "      <td>2</td>\n",
       "      <td>0.335099</td>\n",
       "      <td>LINESTRING (-70.60215 -33.40975, -70.60207 -33...</td>\n",
       "      <td>MULTILINESTRING ((-70.6028043226681 -33.408581...</td>\n",
       "    </tr>\n",
       "    <tr>\n",
       "      <th>3</th>\n",
       "      <td>3</td>\n",
       "      <td>0.106013</td>\n",
       "      <td>LINESTRING (-70.60215 -33.40975, -70.60213 -33...</td>\n",
       "      <td>MULTILINESTRING ((-70.6028043226681 -33.408581...</td>\n",
       "    </tr>\n",
       "    <tr>\n",
       "      <th>4</th>\n",
       "      <td>4</td>\n",
       "      <td>0.019630</td>\n",
       "      <td>LINESTRING (-70.60426 -33.40751, -70.60418 -33...</td>\n",
       "      <td>MULTILINESTRING ((-70.6028043226681 -33.408581...</td>\n",
       "    </tr>\n",
       "    <tr>\n",
       "      <th>...</th>\n",
       "      <td>...</td>\n",
       "      <td>...</td>\n",
       "      <td>...</td>\n",
       "      <td>...</td>\n",
       "    </tr>\n",
       "    <tr>\n",
       "      <th>1995</th>\n",
       "      <td>1995</td>\n",
       "      <td>0.398871</td>\n",
       "      <td>LINESTRING (-70.71241 -33.47566, -70.71233 -33...</td>\n",
       "      <td>MULTILINESTRING ((-70.6028043226681 -33.408581...</td>\n",
       "    </tr>\n",
       "    <tr>\n",
       "      <th>1996</th>\n",
       "      <td>1996</td>\n",
       "      <td>0.759022</td>\n",
       "      <td>LINESTRING (-70.59714 -33.44613, -70.59707 -33...</td>\n",
       "      <td>MULTILINESTRING ((-70.6028043226681 -33.408581...</td>\n",
       "    </tr>\n",
       "    <tr>\n",
       "      <th>1997</th>\n",
       "      <td>1997</td>\n",
       "      <td>0.542557</td>\n",
       "      <td>LINESTRING (-70.61383 -33.44717, -70.61389 -33...</td>\n",
       "      <td>MULTILINESTRING ((-70.6028043226681 -33.408581...</td>\n",
       "    </tr>\n",
       "    <tr>\n",
       "      <th>1998</th>\n",
       "      <td>1998</td>\n",
       "      <td>0.882666</td>\n",
       "      <td>LINESTRING (-70.58764 -33.44384, -70.58863 -33...</td>\n",
       "      <td>MULTILINESTRING ((-70.6028043226681 -33.408581...</td>\n",
       "    </tr>\n",
       "    <tr>\n",
       "      <th>1999</th>\n",
       "      <td>1999</td>\n",
       "      <td>0.962041</td>\n",
       "      <td>LINESTRING (-70.58943 -33.44949, -70.59028 -33...</td>\n",
       "      <td>MULTILINESTRING ((-70.6028043226681 -33.408581...</td>\n",
       "    </tr>\n",
       "  </tbody>\n",
       "</table>\n",
       "<p>2000 rows × 4 columns</p>\n",
       "</div>"
      ],
      "text/plain": [
       "      original_id    pje_ep   \n",
       "0               0  0.209171  \\\n",
       "1               1  0.273895   \n",
       "2               2  0.335099   \n",
       "3               3  0.106013   \n",
       "4               4  0.019630   \n",
       "...           ...       ...   \n",
       "1995         1995  0.398871   \n",
       "1996         1996  0.759022   \n",
       "1997         1997  0.542557   \n",
       "1998         1998  0.882666   \n",
       "1999         1999  0.962041   \n",
       "\n",
       "                                               geometry   \n",
       "0     LINESTRING (-70.60280 -33.40858, -70.60255 -33...  \\\n",
       "1     LINESTRING (-70.60036 -33.40805, -70.60032 -33...   \n",
       "2     LINESTRING (-70.60215 -33.40975, -70.60207 -33...   \n",
       "3     LINESTRING (-70.60215 -33.40975, -70.60213 -33...   \n",
       "4     LINESTRING (-70.60426 -33.40751, -70.60418 -33...   \n",
       "...                                                 ...   \n",
       "1995  LINESTRING (-70.71241 -33.47566, -70.71233 -33...   \n",
       "1996  LINESTRING (-70.59714 -33.44613, -70.59707 -33...   \n",
       "1997  LINESTRING (-70.61383 -33.44717, -70.61389 -33...   \n",
       "1998  LINESTRING (-70.58764 -33.44384, -70.58863 -33...   \n",
       "1999  LINESTRING (-70.58943 -33.44949, -70.59028 -33...   \n",
       "\n",
       "                                         unary_geometry  \n",
       "0     MULTILINESTRING ((-70.60035990020656 -33.40804...  \n",
       "1     MULTILINESTRING ((-70.6028043226681 -33.408581...  \n",
       "2     MULTILINESTRING ((-70.6028043226681 -33.408581...  \n",
       "3     MULTILINESTRING ((-70.6028043226681 -33.408581...  \n",
       "4     MULTILINESTRING ((-70.6028043226681 -33.408581...  \n",
       "...                                                 ...  \n",
       "1995  MULTILINESTRING ((-70.6028043226681 -33.408581...  \n",
       "1996  MULTILINESTRING ((-70.6028043226681 -33.408581...  \n",
       "1997  MULTILINESTRING ((-70.6028043226681 -33.408581...  \n",
       "1998  MULTILINESTRING ((-70.6028043226681 -33.408581...  \n",
       "1999  MULTILINESTRING ((-70.6028043226681 -33.408581...  \n",
       "\n",
       "[2000 rows x 4 columns]"
      ]
     },
     "execution_count": 30,
     "metadata": {},
     "output_type": "execute_result"
    }
   ],
   "source": [
    "def precompute_unary_union(gdf):\n",
    "    \n",
    "    # Reset index in order to keep track of original line id\n",
    "    lines_gdf = gdf.copy()\n",
    "    lines_gdf = lines_gdf.reset_index()\n",
    "    lines_gdf = lines_gdf.rename(columns={'index':'original_id'})\n",
    "\n",
    "    # Create unary union of all lines except itself\n",
    "    lines_gdf['unary_geometry'] = None\n",
    "    \n",
    "    unary_sum_time = 0\n",
    "    \n",
    "    for idx, row in lines_gdf.iterrows():\n",
    "        \n",
    "        start = time.time()\n",
    "\n",
    "        # Option A: rest_of_lines is all lines except itself\n",
    "        rest_of_lines = lines_gdf.drop(idx).copy().explode()\n",
    "        \n",
    "        # Option B: rest_of_lines is lines that intersect line_of_interest (Remove itself to avoid trying to intersect with itself)\n",
    "        #line_of_interest = lines_gdf.loc[lines_gdf.original_id==idx].copy()\n",
    "        #intersecting_idxs = list(line_of_interest.sjoin(lines_gdf).original_id_right.unique())\n",
    "        #intersecting_idxs.remove(idx)\n",
    "        #rest_of_lines = lines_gdf.loc[lines_gdf.original_id.isin(intersecting_idxs)].copy().explode()\n",
    "\n",
    "        # Save unary union\n",
    "        lines_gdf.at[idx, 'unary_geometry'] = rest_of_lines.unary_union\n",
    "\n",
    "        unary_time = time.time()\n",
    "        unary_extent = unary_time - start\n",
    "        unary_sum_time = unary_sum_time + unary_extent\n",
    "\n",
    "    print(unary_sum_time)\n",
    "        \n",
    "    return lines_gdf\n",
    "\n",
    "option_a = precompute_unary_union(some_lines)\n",
    "\n",
    "# Show\n",
    "print(option_a.shape)\n",
    "print(sys.getsizeof(option_a))\n",
    "option_a"
   ]
  },
  {
   "cell_type": "markdown",
   "id": "104a0755-e59c-48c4-ae11-210a63475b5e",
   "metadata": {},
   "source": [
    "##### __Part 1 Option B__"
   ]
  },
  {
   "cell_type": "markdown",
   "id": "667c065a-a8cf-4090-9b48-36b8d1e5aa52",
   "metadata": {},
   "source": [
    "* 2000 lines result: 29.17s, 114,672 bytes.\n",
    "* Complete gdf result: 595.57s (9.92min), 2,268,720 bytes (2.27Mb)"
   ]
  },
  {
   "cell_type": "code",
   "execution_count": 96,
   "id": "f8091761-a9b7-45dc-be1a-cefe0a289296",
   "metadata": {},
   "outputs": [
    {
     "name": "stdout",
     "output_type": "stream",
     "text": [
      "595.5722799301147\n",
      "(31534, 4)\n",
      "2268720\n"
     ]
    },
    {
     "data": {
      "text/html": [
       "<div>\n",
       "<style scoped>\n",
       "    .dataframe tbody tr th:only-of-type {\n",
       "        vertical-align: middle;\n",
       "    }\n",
       "\n",
       "    .dataframe tbody tr th {\n",
       "        vertical-align: top;\n",
       "    }\n",
       "\n",
       "    .dataframe thead th {\n",
       "        text-align: right;\n",
       "    }\n",
       "</style>\n",
       "<table border=\"1\" class=\"dataframe\">\n",
       "  <thead>\n",
       "    <tr style=\"text-align: right;\">\n",
       "      <th></th>\n",
       "      <th>original_id</th>\n",
       "      <th>pje_ep</th>\n",
       "      <th>geometry</th>\n",
       "      <th>unary_geometry</th>\n",
       "    </tr>\n",
       "  </thead>\n",
       "  <tbody>\n",
       "    <tr>\n",
       "      <th>0</th>\n",
       "      <td>0</td>\n",
       "      <td>0.209171</td>\n",
       "      <td>LINESTRING (-70.60280 -33.40858, -70.60255 -33...</td>\n",
       "      <td>MULTILINESTRING ((-70.60080319609531 -33.40845...</td>\n",
       "    </tr>\n",
       "    <tr>\n",
       "      <th>1</th>\n",
       "      <td>1</td>\n",
       "      <td>0.273895</td>\n",
       "      <td>LINESTRING (-70.60036 -33.40805, -70.60032 -33...</td>\n",
       "      <td>MULTILINESTRING ((-70.60257531826466 -33.40748...</td>\n",
       "    </tr>\n",
       "    <tr>\n",
       "      <th>2</th>\n",
       "      <td>2</td>\n",
       "      <td>0.335099</td>\n",
       "      <td>LINESTRING (-70.60215 -33.40975, -70.60207 -33...</td>\n",
       "      <td>MULTILINESTRING ((-70.60214554977048 -33.40975...</td>\n",
       "    </tr>\n",
       "    <tr>\n",
       "      <th>3</th>\n",
       "      <td>3</td>\n",
       "      <td>0.106013</td>\n",
       "      <td>LINESTRING (-70.60215 -33.40975, -70.60213 -33...</td>\n",
       "      <td>MULTILINESTRING ((-70.60214554977048 -33.40975...</td>\n",
       "    </tr>\n",
       "    <tr>\n",
       "      <th>4</th>\n",
       "      <td>4</td>\n",
       "      <td>0.019630</td>\n",
       "      <td>LINESTRING (-70.60426 -33.40751, -70.60418 -33...</td>\n",
       "      <td>LINESTRING (-70.60521540736343 -33.41106156503...</td>\n",
       "    </tr>\n",
       "    <tr>\n",
       "      <th>...</th>\n",
       "      <td>...</td>\n",
       "      <td>...</td>\n",
       "      <td>...</td>\n",
       "      <td>...</td>\n",
       "    </tr>\n",
       "    <tr>\n",
       "      <th>31529</th>\n",
       "      <td>31529</td>\n",
       "      <td>0.581119</td>\n",
       "      <td>LINESTRING (-70.69190 -33.45897, -70.69192 -33...</td>\n",
       "      <td>MULTILINESTRING ((-70.69184989087246 -33.45915...</td>\n",
       "    </tr>\n",
       "    <tr>\n",
       "      <th>31530</th>\n",
       "      <td>31530</td>\n",
       "      <td>0.039703</td>\n",
       "      <td>LINESTRING (-70.65000 -33.48546, -70.64996 -33...</td>\n",
       "      <td>LINESTRING (-70.65019616743754 -33.48615785809...</td>\n",
       "    </tr>\n",
       "    <tr>\n",
       "      <th>31531</th>\n",
       "      <td>31531</td>\n",
       "      <td>0.012621</td>\n",
       "      <td>LINESTRING (-70.65020 -33.48616, -70.65018 -33...</td>\n",
       "      <td>LINESTRING (-70.64999927705391 -33.48546097838...</td>\n",
       "    </tr>\n",
       "    <tr>\n",
       "      <th>31532</th>\n",
       "      <td>31532</td>\n",
       "      <td>0.052166</td>\n",
       "      <td>LINESTRING (-70.64985 -33.48548, -70.64968 -33...</td>\n",
       "      <td>None</td>\n",
       "    </tr>\n",
       "    <tr>\n",
       "      <th>31533</th>\n",
       "      <td>31533</td>\n",
       "      <td>0.018425</td>\n",
       "      <td>LINESTRING (-70.65005 -33.48619, -70.65005 -33...</td>\n",
       "      <td>None</td>\n",
       "    </tr>\n",
       "  </tbody>\n",
       "</table>\n",
       "<p>31534 rows × 4 columns</p>\n",
       "</div>"
      ],
      "text/plain": [
       "       original_id    pje_ep   \n",
       "0                0  0.209171  \\\n",
       "1                1  0.273895   \n",
       "2                2  0.335099   \n",
       "3                3  0.106013   \n",
       "4                4  0.019630   \n",
       "...            ...       ...   \n",
       "31529        31529  0.581119   \n",
       "31530        31530  0.039703   \n",
       "31531        31531  0.012621   \n",
       "31532        31532  0.052166   \n",
       "31533        31533  0.018425   \n",
       "\n",
       "                                                geometry   \n",
       "0      LINESTRING (-70.60280 -33.40858, -70.60255 -33...  \\\n",
       "1      LINESTRING (-70.60036 -33.40805, -70.60032 -33...   \n",
       "2      LINESTRING (-70.60215 -33.40975, -70.60207 -33...   \n",
       "3      LINESTRING (-70.60215 -33.40975, -70.60213 -33...   \n",
       "4      LINESTRING (-70.60426 -33.40751, -70.60418 -33...   \n",
       "...                                                  ...   \n",
       "31529  LINESTRING (-70.69190 -33.45897, -70.69192 -33...   \n",
       "31530  LINESTRING (-70.65000 -33.48546, -70.64996 -33...   \n",
       "31531  LINESTRING (-70.65020 -33.48616, -70.65018 -33...   \n",
       "31532  LINESTRING (-70.64985 -33.48548, -70.64968 -33...   \n",
       "31533  LINESTRING (-70.65005 -33.48619, -70.65005 -33...   \n",
       "\n",
       "                                          unary_geometry  \n",
       "0      MULTILINESTRING ((-70.60080319609531 -33.40845...  \n",
       "1      MULTILINESTRING ((-70.60257531826466 -33.40748...  \n",
       "2      MULTILINESTRING ((-70.60214554977048 -33.40975...  \n",
       "3      MULTILINESTRING ((-70.60214554977048 -33.40975...  \n",
       "4      LINESTRING (-70.60521540736343 -33.41106156503...  \n",
       "...                                                  ...  \n",
       "31529  MULTILINESTRING ((-70.69184989087246 -33.45915...  \n",
       "31530  LINESTRING (-70.65019616743754 -33.48615785809...  \n",
       "31531  LINESTRING (-70.64999927705391 -33.48546097838...  \n",
       "31532                                               None  \n",
       "31533                                               None  \n",
       "\n",
       "[31534 rows x 4 columns]"
      ]
     },
     "execution_count": 96,
     "metadata": {},
     "output_type": "execute_result"
    }
   ],
   "source": [
    "def precompute_unary_union(gdf):\n",
    "    \n",
    "    # Reset index in order to keep track of original line id\n",
    "    lines_gdf = gdf.copy()\n",
    "    lines_gdf = lines_gdf.reset_index()\n",
    "    lines_gdf = lines_gdf.rename(columns={'index':'original_id'})\n",
    "\n",
    "    # Create unary union of all lines except itself\n",
    "    lines_gdf['unary_geometry'] = None\n",
    "    \n",
    "    unary_sum_time = 0\n",
    "    \n",
    "    for idx, row in lines_gdf.iterrows():\n",
    "        \n",
    "        start = time.time()\n",
    "\n",
    "        # Option A: rest_of_lines is all lines except itself\n",
    "        #rest_of_lines = lines_gdf.drop(idx).copy().explode()\n",
    "        \n",
    "        # Option B: rest_of_lines is lines that intersect line_of_interest (Remove itself to avoid trying to intersect with itself)\n",
    "        line_of_interest = lines_gdf.loc[lines_gdf.original_id==idx].copy()\n",
    "        intersecting_idxs = list(line_of_interest.sjoin(lines_gdf).original_id_right.unique())\n",
    "        intersecting_idxs.remove(idx)\n",
    "        rest_of_lines = lines_gdf.loc[lines_gdf.original_id.isin(intersecting_idxs)].copy().explode()\n",
    "\n",
    "        # Save unary union\n",
    "        lines_gdf.at[idx, 'unary_geometry'] = rest_of_lines.unary_union\n",
    "\n",
    "        unary_time = time.time()\n",
    "        unary_extent = unary_time - start\n",
    "        unary_sum_time = unary_sum_time + unary_extent\n",
    "\n",
    "    print(unary_sum_time)\n",
    "        \n",
    "    return lines_gdf\n",
    "\n",
    "option_b = precompute_unary_union(gdf)\n",
    "\n",
    "# Show\n",
    "print(option_b.shape)\n",
    "print(sys.getsizeof(option_b))\n",
    "option_b"
   ]
  },
  {
   "cell_type": "markdown",
   "id": "1d483a76-ed24-4286-8924-f339eaeabcd9",
   "metadata": {},
   "source": [
    "#### __Part 2__"
   ]
  },
  {
   "cell_type": "markdown",
   "id": "a41a7196-aed3-429a-b0df-f2bd17c19657",
   "metadata": {},
   "source": [
    "Input: Part 1 Option b"
   ]
  },
  {
   "cell_type": "code",
   "execution_count": 97,
   "id": "7b631926-1c6b-43a5-a1f4-bc36e3089c00",
   "metadata": {},
   "outputs": [
    {
     "name": "stdout",
     "output_type": "stream",
     "text": [
      "(31534, 4)\n"
     ]
    },
    {
     "data": {
      "text/html": [
       "<div>\n",
       "<style scoped>\n",
       "    .dataframe tbody tr th:only-of-type {\n",
       "        vertical-align: middle;\n",
       "    }\n",
       "\n",
       "    .dataframe tbody tr th {\n",
       "        vertical-align: top;\n",
       "    }\n",
       "\n",
       "    .dataframe thead th {\n",
       "        text-align: right;\n",
       "    }\n",
       "</style>\n",
       "<table border=\"1\" class=\"dataframe\">\n",
       "  <thead>\n",
       "    <tr style=\"text-align: right;\">\n",
       "      <th></th>\n",
       "      <th>original_id</th>\n",
       "      <th>pje_ep</th>\n",
       "      <th>geometry</th>\n",
       "      <th>unary_geometry</th>\n",
       "    </tr>\n",
       "  </thead>\n",
       "  <tbody>\n",
       "    <tr>\n",
       "      <th>0</th>\n",
       "      <td>0</td>\n",
       "      <td>0.209171</td>\n",
       "      <td>LINESTRING (-70.60280 -33.40858, -70.60255 -33...</td>\n",
       "      <td>MULTILINESTRING ((-70.60080319609531 -33.40845...</td>\n",
       "    </tr>\n",
       "  </tbody>\n",
       "</table>\n",
       "</div>"
      ],
      "text/plain": [
       "   original_id    pje_ep                                           geometry   \n",
       "0            0  0.209171  LINESTRING (-70.60280 -33.40858, -70.60255 -33...  \\\n",
       "\n",
       "                                      unary_geometry  \n",
       "0  MULTILINESTRING ((-70.60080319609531 -33.40845...  "
      ]
     },
     "execution_count": 97,
     "metadata": {},
     "output_type": "execute_result"
    }
   ],
   "source": [
    "# Show\n",
    "print(option_b.shape)\n",
    "option_b.head(1)"
   ]
  },
  {
   "cell_type": "code",
   "execution_count": 98,
   "id": "caebd432-0af4-45f7-a922-efab44a2fb7e",
   "metadata": {},
   "outputs": [
    {
     "name": "stdout",
     "output_type": "stream",
     "text": [
      "(34790, 3)\n"
     ]
    },
    {
     "data": {
      "text/html": [
       "<div>\n",
       "<style scoped>\n",
       "    .dataframe tbody tr th:only-of-type {\n",
       "        vertical-align: middle;\n",
       "    }\n",
       "\n",
       "    .dataframe tbody tr th {\n",
       "        vertical-align: top;\n",
       "    }\n",
       "\n",
       "    .dataframe thead th {\n",
       "        text-align: right;\n",
       "    }\n",
       "</style>\n",
       "<table border=\"1\" class=\"dataframe\">\n",
       "  <thead>\n",
       "    <tr style=\"text-align: right;\">\n",
       "      <th></th>\n",
       "      <th>original_id</th>\n",
       "      <th>pje_ep</th>\n",
       "      <th>geometry</th>\n",
       "    </tr>\n",
       "  </thead>\n",
       "  <tbody>\n",
       "    <tr>\n",
       "      <th>0</th>\n",
       "      <td>0</td>\n",
       "      <td>0.209171</td>\n",
       "      <td>LINESTRING (-70.60280 -33.40858, -70.60255 -33...</td>\n",
       "    </tr>\n",
       "  </tbody>\n",
       "</table>\n",
       "</div>"
      ],
      "text/plain": [
       "   original_id    pje_ep                                           geometry\n",
       "0            0  0.209171  LINESTRING (-70.60280 -33.40858, -70.60255 -33..."
      ]
     },
     "execution_count": 98,
     "metadata": {},
     "output_type": "execute_result"
    }
   ],
   "source": [
    "lines_gdf = option_b.copy()\n",
    "def split_line(row):\n",
    "    line_geom = row['geometry']\n",
    "    unary_geom = row['unary_geometry']\n",
    "    \n",
    "    try:\n",
    "        split_result = split(line_geom, unary_geom)\n",
    "        split_lines_geoms = list(split_result.geoms)\n",
    "        return split_lines_geoms\n",
    "    except:\n",
    "        split_lines_geoms = [line_geom]\n",
    "        return split_lines_geoms\n",
    "\n",
    "# Apply the split operation using .apply()\n",
    "lines_gdf['split_lines'] = lines_gdf.apply(split_line, axis=1)\n",
    "\n",
    "# Explode the split lines into separate rows according to the list of geometries located in split_lines\n",
    "exploded_split_lines = lines_gdf.explode('split_lines').drop(columns=['geometry']).rename(columns={'split_lines': 'geometry'})\n",
    "\n",
    "# Create a new GeoDataFrame with the split lines\n",
    "split_lines_gdf = gpd.GeoDataFrame(exploded_split_lines, geometry='geometry', crs=lines_gdf.crs)\n",
    "\n",
    "# Drop unary_geometry col\n",
    "split_lines_gdf.drop(columns=['unary_geometry'],inplace=True)\n",
    "\n",
    "# Show\n",
    "print(split_lines_gdf.shape)\n",
    "split_lines_gdf.head(1)"
   ]
  },
  {
   "cell_type": "markdown",
   "id": "c557bb78-73ce-4d05-b13d-481d216eb226",
   "metadata": {
    "jp-MarkdownHeadingCollapsed": true
   },
   "source": [
    "### Split lines with themselves - __[Working, 10 mins aprox.]__ Intersecting each line with the unary union of the rest of the lines"
   ]
  },
  {
   "cell_type": "markdown",
   "id": "c2205eac-ae7a-41ff-bf7a-9e9bb017d324",
   "metadata": {},
   "source": [
    "#### __Option A:__ Unary union of all lines except line_of_interest"
   ]
  },
  {
   "cell_type": "markdown",
   "id": "b59d6e43-cfd7-46bb-a1f0-865d04eadf42",
   "metadata": {},
   "source": [
    "* 2000 lines result: 40.53s unary union, 4.00s saving split lines.\n",
    "* Complete gdf result: Manually stopped after 1hr."
   ]
  },
  {
   "cell_type": "code",
   "execution_count": 32,
   "id": "89a9d7bc-5bfe-4be7-944c-efea18f350a3",
   "metadata": {},
   "outputs": [],
   "source": [
    "def split_lines_with_themselves(lines_gdf):\n",
    "    split_lines = gpd.GeoDataFrame()\n",
    "    i = 0\n",
    "    \n",
    "    # Reset index in order to keep track of original line id\n",
    "    original_lines = lines_gdf.copy()\n",
    "    original_lines = original_lines.reset_index()\n",
    "    original_lines = original_lines.rename(columns={'index':'original_id'})\n",
    "\n",
    "    unary_sum_time = 0\n",
    "    split_sum_time = 0\n",
    "    \n",
    "    # Iterate over each line\n",
    "    for idx in list(original_lines.original_id.unique()):\n",
    "        start = time.time()\n",
    "        \n",
    "        # Find original line and its geometry\n",
    "        line_of_interest = original_lines.loc[original_lines.original_id == idx]\n",
    "        line_geom = line_of_interest.geometry.unique()[0]\n",
    "        # Create unary union (geometry) out of the rest of the lines (Avoids trying to intersect with itself)\n",
    "        rest_of_lines = original_lines.loc[original_lines.original_id != idx]\n",
    "        gdf_exploded = rest_of_lines.copy().explode()\n",
    "        unary_union = gdf_exploded.unary_union\n",
    "\n",
    "        unary_time = time.time()\n",
    "        unary_extent = unary_time - start\n",
    "        \n",
    "        # Try splitting the line with the rest of the lines\n",
    "        try:\n",
    "            # Split geom with unary union\n",
    "            split_result = split(line_geom, unary_union)\n",
    "            # Extract clipped lines\n",
    "            split_lines_geoms = list(split_result.geoms)\n",
    "            # Register data\n",
    "            for split_line_geom in split_lines_geoms:\n",
    "                split_lines.loc[i,'original_id'] = line_of_interest.original_id.unique()[0]\n",
    "                split_lines.loc[i,'pje_ep'] = line_of_interest.pje_ep.unique()[0]\n",
    "                split_lines.loc[i,'geometry'] = split_line_geom\n",
    "            \n",
    "                i +=1\n",
    "                \n",
    "        # Except it doesn't need splitting, then just append the line\n",
    "        except:\n",
    "            split_lines.loc[i,'original_id'] = line_of_interest.original_id.unique()[0]\n",
    "            split_lines.loc[i,'pje_ep'] = line_of_interest.pje_ep.unique()[0]\n",
    "            split_lines.loc[i,'geometry'] = line_geom\n",
    "            i +=1\n",
    "\n",
    "        split_time = time.time()\n",
    "        split_extent = split_time - unary_time\n",
    "\n",
    "        unary_sum_time = unary_sum_time + unary_extent\n",
    "        split_sum_time = split_sum_time + split_extent\n",
    "            \n",
    "        #print(f\"unary_time {idx}: {unary_time - start}\")\n",
    "        #print(f\"split_time {idx}: {split_time - unary_time}\")\n",
    "        \n",
    "    print(f\"unary_time {unary_sum_time}\")\n",
    "    print(f\"split_time {split_sum_time}\")\n",
    "    \n",
    "    try:\n",
    "        split_lines.set_crs(\"EPSG:4326\")\n",
    "    except:\n",
    "        split_lines.to_crs(\"EPSG:4326\")\n",
    "    \n",
    "    return split_lines"
   ]
  },
  {
   "cell_type": "code",
   "execution_count": 88,
   "id": "8ad1e11b-019a-4ef0-adb9-58245e804a36",
   "metadata": {},
   "outputs": [
    {
     "name": "stdout",
     "output_type": "stream",
     "text": [
      "unary_time 0.06010150909423828\n",
      "split_time 0.02144789695739746\n",
      "(15, 3)\n"
     ]
    },
    {
     "data": {
      "text/html": [
       "<div>\n",
       "<style scoped>\n",
       "    .dataframe tbody tr th:only-of-type {\n",
       "        vertical-align: middle;\n",
       "    }\n",
       "\n",
       "    .dataframe tbody tr th {\n",
       "        vertical-align: top;\n",
       "    }\n",
       "\n",
       "    .dataframe thead th {\n",
       "        text-align: right;\n",
       "    }\n",
       "</style>\n",
       "<table border=\"1\" class=\"dataframe\">\n",
       "  <thead>\n",
       "    <tr style=\"text-align: right;\">\n",
       "      <th></th>\n",
       "      <th>original_id</th>\n",
       "      <th>pje_ep</th>\n",
       "      <th>geometry</th>\n",
       "    </tr>\n",
       "  </thead>\n",
       "  <tbody>\n",
       "    <tr>\n",
       "      <th>0</th>\n",
       "      <td>0.0</td>\n",
       "      <td>0.209171</td>\n",
       "      <td>LINESTRING (-70.60280 -33.40858, -70.60255 -33...</td>\n",
       "    </tr>\n",
       "    <tr>\n",
       "      <th>1</th>\n",
       "      <td>1.0</td>\n",
       "      <td>0.273895</td>\n",
       "      <td>LINESTRING (-70.60036 -33.40805, -70.60032 -33...</td>\n",
       "    </tr>\n",
       "  </tbody>\n",
       "</table>\n",
       "</div>"
      ],
      "text/plain": [
       "   original_id    pje_ep                                           geometry\n",
       "0          0.0  0.209171  LINESTRING (-70.60280 -33.40858, -70.60255 -33...\n",
       "1          1.0  0.273895  LINESTRING (-70.60036 -33.40805, -70.60032 -33..."
      ]
     },
     "execution_count": 88,
     "metadata": {},
     "output_type": "execute_result"
    }
   ],
   "source": [
    "# split_lines_with_themselves time test\n",
    "split_lines = split_lines_with_themselves(some_lines)\n",
    "\n",
    "# Show\n",
    "print(split_lines.shape)\n",
    "split_lines.head(2)"
   ]
  },
  {
   "cell_type": "code",
   "execution_count": 89,
   "id": "1003ba1b-cea4-47a2-bc55-79b2f0b4cb31",
   "metadata": {},
   "outputs": [
    {
     "data": {
      "text/html": [
       "<div>\n",
       "<style scoped>\n",
       "    .dataframe tbody tr th:only-of-type {\n",
       "        vertical-align: middle;\n",
       "    }\n",
       "\n",
       "    .dataframe tbody tr th {\n",
       "        vertical-align: top;\n",
       "    }\n",
       "\n",
       "    .dataframe thead th {\n",
       "        text-align: right;\n",
       "    }\n",
       "</style>\n",
       "<table border=\"1\" class=\"dataframe\">\n",
       "  <thead>\n",
       "    <tr style=\"text-align: right;\">\n",
       "      <th></th>\n",
       "      <th>original_id</th>\n",
       "      <th>pje_ep</th>\n",
       "      <th>geometry</th>\n",
       "    </tr>\n",
       "  </thead>\n",
       "  <tbody>\n",
       "    <tr>\n",
       "      <th>0</th>\n",
       "      <td>0.0</td>\n",
       "      <td>0.209171</td>\n",
       "      <td>LINESTRING (-70.60280 -33.40858, -70.60255 -33...</td>\n",
       "    </tr>\n",
       "    <tr>\n",
       "      <th>1</th>\n",
       "      <td>1.0</td>\n",
       "      <td>0.273895</td>\n",
       "      <td>LINESTRING (-70.60036 -33.40805, -70.60032 -33...</td>\n",
       "    </tr>\n",
       "    <tr>\n",
       "      <th>2</th>\n",
       "      <td>2.0</td>\n",
       "      <td>0.335099</td>\n",
       "      <td>LINESTRING (-70.60215 -33.40975, -70.60207 -33...</td>\n",
       "    </tr>\n",
       "    <tr>\n",
       "      <th>3</th>\n",
       "      <td>3.0</td>\n",
       "      <td>0.106013</td>\n",
       "      <td>LINESTRING (-70.60215 -33.40975, -70.60213 -33...</td>\n",
       "    </tr>\n",
       "    <tr>\n",
       "      <th>4</th>\n",
       "      <td>4.0</td>\n",
       "      <td>0.019630</td>\n",
       "      <td>LINESTRING (-70.60426 -33.40751, -70.60418 -33...</td>\n",
       "    </tr>\n",
       "    <tr>\n",
       "      <th>5</th>\n",
       "      <td>5.0</td>\n",
       "      <td>0.010179</td>\n",
       "      <td>LINESTRING (-70.60344 -33.40561, -70.60346 -33...</td>\n",
       "    </tr>\n",
       "    <tr>\n",
       "      <th>6</th>\n",
       "      <td>5.0</td>\n",
       "      <td>0.010179</td>\n",
       "      <td>LINESTRING (-70.60444 -33.40834, -70.60452 -33...</td>\n",
       "    </tr>\n",
       "    <tr>\n",
       "      <th>7</th>\n",
       "      <td>6.0</td>\n",
       "      <td>0.549756</td>\n",
       "      <td>LINESTRING (-70.60322 -33.40575, -70.60328 -33...</td>\n",
       "    </tr>\n",
       "    <tr>\n",
       "      <th>8</th>\n",
       "      <td>7.0</td>\n",
       "      <td>0.981766</td>\n",
       "      <td>LINESTRING (-70.60410 -33.40828, -70.60396 -33...</td>\n",
       "    </tr>\n",
       "    <tr>\n",
       "      <th>9</th>\n",
       "      <td>7.0</td>\n",
       "      <td>0.981766</td>\n",
       "      <td>LINESTRING (-70.60183 -33.40779, -70.60181 -33...</td>\n",
       "    </tr>\n",
       "    <tr>\n",
       "      <th>10</th>\n",
       "      <td>8.0</td>\n",
       "      <td>0.282520</td>\n",
       "      <td>LINESTRING (-70.60258 -33.40748, -70.60233 -33...</td>\n",
       "    </tr>\n",
       "    <tr>\n",
       "      <th>11</th>\n",
       "      <td>8.0</td>\n",
       "      <td>0.282520</td>\n",
       "      <td>LINESTRING (-70.60183 -33.40779, -70.60182 -33...</td>\n",
       "    </tr>\n",
       "    <tr>\n",
       "      <th>12</th>\n",
       "      <td>8.0</td>\n",
       "      <td>0.282520</td>\n",
       "      <td>LINESTRING (-70.60036 -33.40805, -70.60022 -33...</td>\n",
       "    </tr>\n",
       "    <tr>\n",
       "      <th>13</th>\n",
       "      <td>9.0</td>\n",
       "      <td>0.012304</td>\n",
       "      <td>LINESTRING (-70.60711 -33.41248, -70.60705 -33...</td>\n",
       "    </tr>\n",
       "    <tr>\n",
       "      <th>14</th>\n",
       "      <td>9.0</td>\n",
       "      <td>0.012304</td>\n",
       "      <td>LINESTRING (-70.60444 -33.40834, -70.60436 -33...</td>\n",
       "    </tr>\n",
       "  </tbody>\n",
       "</table>\n",
       "</div>"
      ],
      "text/plain": [
       "    original_id    pje_ep                                           geometry\n",
       "0           0.0  0.209171  LINESTRING (-70.60280 -33.40858, -70.60255 -33...\n",
       "1           1.0  0.273895  LINESTRING (-70.60036 -33.40805, -70.60032 -33...\n",
       "2           2.0  0.335099  LINESTRING (-70.60215 -33.40975, -70.60207 -33...\n",
       "3           3.0  0.106013  LINESTRING (-70.60215 -33.40975, -70.60213 -33...\n",
       "4           4.0  0.019630  LINESTRING (-70.60426 -33.40751, -70.60418 -33...\n",
       "5           5.0  0.010179  LINESTRING (-70.60344 -33.40561, -70.60346 -33...\n",
       "6           5.0  0.010179  LINESTRING (-70.60444 -33.40834, -70.60452 -33...\n",
       "7           6.0  0.549756  LINESTRING (-70.60322 -33.40575, -70.60328 -33...\n",
       "8           7.0  0.981766  LINESTRING (-70.60410 -33.40828, -70.60396 -33...\n",
       "9           7.0  0.981766  LINESTRING (-70.60183 -33.40779, -70.60181 -33...\n",
       "10          8.0  0.282520  LINESTRING (-70.60258 -33.40748, -70.60233 -33...\n",
       "11          8.0  0.282520  LINESTRING (-70.60183 -33.40779, -70.60182 -33...\n",
       "12          8.0  0.282520  LINESTRING (-70.60036 -33.40805, -70.60022 -33...\n",
       "13          9.0  0.012304  LINESTRING (-70.60711 -33.41248, -70.60705 -33...\n",
       "14          9.0  0.012304  LINESTRING (-70.60444 -33.40834, -70.60436 -33..."
      ]
     },
     "execution_count": 89,
     "metadata": {},
     "output_type": "execute_result"
    }
   ],
   "source": [
    "split_lines"
   ]
  },
  {
   "cell_type": "markdown",
   "id": "e5c822cb-217b-4557-925f-37b2bf389127",
   "metadata": {},
   "source": [
    "#### __Option B:__ Unary union of lines intersect line_of_interest only"
   ]
  },
  {
   "cell_type": "markdown",
   "id": "3b4985e8-a630-419b-bb4a-4ee7b96f4ed7",
   "metadata": {},
   "source": [
    "* 2000 lines result: 27.83s unary union, 2.05s saving split lines.\n",
    "* Full gdf result: 549.47s (9.16min) unary union, 63.68s saving split lines."
   ]
  },
  {
   "cell_type": "code",
   "execution_count": 34,
   "id": "4a4c30cf-f4bb-4909-84d4-0de71201dc27",
   "metadata": {},
   "outputs": [],
   "source": [
    "def split_lines_with_themselves_v2(lines_gdf):\n",
    "    split_lines = gpd.GeoDataFrame()\n",
    "    i = 0\n",
    "    \n",
    "    # Reset index in order to keep track of original line id\n",
    "    original_lines = lines_gdf.copy()\n",
    "    original_lines = original_lines.reset_index()\n",
    "    original_lines = original_lines.rename(columns={'index':'original_id'})\n",
    "\n",
    "    unary_sum_time = 0\n",
    "    split_sum_time = 0\n",
    "    \n",
    "    # Iterate over each line\n",
    "    for idx in list(original_lines.original_id.unique()):\n",
    "        start = time.time()\n",
    "        \n",
    "        # Find original line and its geometry\n",
    "        line_of_interest = original_lines.loc[original_lines.original_id == idx]\n",
    "        line_geom = line_of_interest.geometry.unique()[0]\n",
    "\n",
    "        # Find which lines intersect line of interest (Remove itself to avoid trying to intersect with itself)\n",
    "        intersecting_idxs = list(line_of_interest.sjoin(original_lines).original_id_right.unique())\n",
    "        intersecting_idxs.remove(idx)\n",
    "        rest_of_lines = original_lines.loc[original_lines.original_id.isin(intersecting_idxs)].copy()\n",
    "        \n",
    "        # Create unary union (geometry) out of the rest of the lines \n",
    "        gdf_exploded = rest_of_lines.copy().explode()\n",
    "        unary_union = gdf_exploded.unary_union\n",
    "\n",
    "        unary_time = time.time()\n",
    "        unary_extent = unary_time - start\n",
    "        \n",
    "        # Try splitting the line with the rest of the lines\n",
    "        try:\n",
    "            # Split geom with unary union\n",
    "            split_result = split(line_geom, unary_union)\n",
    "            # Extract clipped lines\n",
    "            split_lines_geoms = list(split_result.geoms)\n",
    "            # Register data\n",
    "            for split_line_geom in split_lines_geoms:\n",
    "                split_lines.loc[i,'original_id'] = line_of_interest.original_id.unique()[0]\n",
    "                split_lines.loc[i,'pje_ep'] = line_of_interest.pje_ep.unique()[0]\n",
    "                split_lines.loc[i,'geometry'] = split_line_geom\n",
    "            \n",
    "                i +=1\n",
    "                \n",
    "        # Except it doesn't need splitting, then just append the line\n",
    "        except:\n",
    "            split_lines.loc[i,'original_id'] = line_of_interest.original_id.unique()[0]\n",
    "            split_lines.loc[i,'pje_ep'] = line_of_interest.pje_ep.unique()[0]\n",
    "            split_lines.loc[i,'geometry'] = line_geom\n",
    "            i +=1\n",
    "\n",
    "        split_time = time.time()\n",
    "        split_extent = split_time - unary_time\n",
    "\n",
    "        unary_sum_time = unary_sum_time + unary_extent\n",
    "        split_sum_time = split_sum_time + split_extent\n",
    "        \n",
    "    print(f\"unary_time {unary_sum_time}\")\n",
    "    print(f\"split_time {split_sum_time}\")\n",
    "    \n",
    "    try:\n",
    "        split_lines.set_crs(\"EPSG:4326\")\n",
    "    except:\n",
    "        split_lines.to_crs(\"EPSG:4326\")\n",
    "    \n",
    "    return split_lines"
   ]
  },
  {
   "cell_type": "code",
   "execution_count": 37,
   "id": "b0d8ea6d-8727-448f-8833-2373994b5c33",
   "metadata": {},
   "outputs": [
    {
     "name": "stdout",
     "output_type": "stream",
     "text": [
      "unary_time 549.4746608734131\n",
      "split_time 63.688814878463745\n",
      "(31534, 3)\n"
     ]
    },
    {
     "data": {
      "text/html": [
       "<div>\n",
       "<style scoped>\n",
       "    .dataframe tbody tr th:only-of-type {\n",
       "        vertical-align: middle;\n",
       "    }\n",
       "\n",
       "    .dataframe tbody tr th {\n",
       "        vertical-align: top;\n",
       "    }\n",
       "\n",
       "    .dataframe thead th {\n",
       "        text-align: right;\n",
       "    }\n",
       "</style>\n",
       "<table border=\"1\" class=\"dataframe\">\n",
       "  <thead>\n",
       "    <tr style=\"text-align: right;\">\n",
       "      <th></th>\n",
       "      <th>original_id</th>\n",
       "      <th>pje_ep</th>\n",
       "      <th>geometry</th>\n",
       "    </tr>\n",
       "  </thead>\n",
       "  <tbody>\n",
       "    <tr>\n",
       "      <th>0</th>\n",
       "      <td>0.0</td>\n",
       "      <td>0.209171</td>\n",
       "      <td>LINESTRING (-70.60280 -33.40858, -70.60255 -33...</td>\n",
       "    </tr>\n",
       "    <tr>\n",
       "      <th>1</th>\n",
       "      <td>1.0</td>\n",
       "      <td>0.273895</td>\n",
       "      <td>LINESTRING (-70.60036 -33.40805, -70.60032 -33...</td>\n",
       "    </tr>\n",
       "  </tbody>\n",
       "</table>\n",
       "</div>"
      ],
      "text/plain": [
       "   original_id    pje_ep                                           geometry\n",
       "0          0.0  0.209171  LINESTRING (-70.60280 -33.40858, -70.60255 -33...\n",
       "1          1.0  0.273895  LINESTRING (-70.60036 -33.40805, -70.60032 -33..."
      ]
     },
     "execution_count": 37,
     "metadata": {},
     "output_type": "execute_result"
    }
   ],
   "source": [
    "# split_lines_with_themselves_v2 time test\n",
    "split_lines = split_lines_with_themselves_v2(gdf)\n",
    "\n",
    "# Show\n",
    "print(split_lines.shape)\n",
    "split_lines.head(2)"
   ]
  },
  {
   "cell_type": "code",
   "execution_count": 12,
   "id": "c38b91ed-f4ff-46d5-b233-07a7aa657b15",
   "metadata": {},
   "outputs": [],
   "source": [
    "# Check result in QGIS\n",
    "#some_lines.to_file(gral_dir + \"some_lines.gpkg\", driver='GPKG')\n",
    "#split_lines.to_file(gral_dir + \"split_lines.gpkg\", driver='GPKG')"
   ]
  },
  {
   "cell_type": "markdown",
   "id": "6b66f09a-2866-4bc7-af93-0655f7392c27",
   "metadata": {
    "jp-MarkdownHeadingCollapsed": true
   },
   "source": [
    "### Split lines with themselves - __[NOT WORKING]__ Sjoining each line with the rest to identify which lines cross with with that line."
   ]
  },
  {
   "cell_type": "code",
   "execution_count": 94,
   "id": "7d1506f1-504d-4e3b-859a-c665766bf610",
   "metadata": {},
   "outputs": [],
   "source": [
    "def split_lines_with_themselves(lines_gdf):\n",
    "\n",
    "    original_lines = lines_gdf.copy()\n",
    "    original_lines.reset_index(inplace=True)\n",
    "    original_lines = original_lines.rename(columns={'index':'original_id'})\n",
    "\n",
    "    idx_lst = [0,1,2,3,4,5,6,7,8] #list(original_lines.original_id.unique())\n",
    "\n",
    "    # Find which lines intersect with which lines\n",
    "    sjoined = original_lines.sjoin(original_lines)\n",
    "    \n",
    "    split_lines_list = []\n",
    "    for idx in idx_lst:\n",
    "        # Locate line of interest\n",
    "        line_of_interest = original_lines.loc[original_lines.original_id==idx]\n",
    "        # Locate which lines intersect that line of interest (Drop itself)\n",
    "        sjoined_line = sjoined.loc[sjoined.original_id_left==idx]\n",
    "        intersecting_lines_ids = list(sjoined_line.original_id_right.unique())\n",
    "        intersecting_lines_ids.remove(idx)\n",
    "        intersecting_lines = original_lines.loc[original_lines.original_id.isin(intersecting_lines_ids)]\n",
    "\n",
    "        # Geometry of line of interest\n",
    "        line_to_split = line_of_interest.geometry\n",
    "        # Iterate over each intersecting lines geometry\n",
    "        for splitter in intersecting_lines.geometry:\n",
    "        \n",
    "    return line_of_interest, intersecting_lines\n",
    "\n",
    "line_of_interest, intersecting_lines = split_lines_with_themselves(some_lines)"
   ]
  },
  {
   "cell_type": "markdown",
   "id": "a161064b-ed04-4dfe-9c65-8f1d8cdbe020",
   "metadata": {
    "jp-MarkdownHeadingCollapsed": true
   },
   "source": [
    "### Split lines with themselves - __[NOT WORKING]__ Stack overflow Help"
   ]
  },
  {
   "cell_type": "code",
   "execution_count": 28,
   "id": "6f9eb483-74ca-4b58-879f-a9ddf7be2dee",
   "metadata": {},
   "outputs": [],
   "source": [
    "# SOURCE: https://gis.stackexchange.com/questions/447677/geopandas-split-intersecting-linestrings-and-keep-columns"
   ]
  },
  {
   "cell_type": "code",
   "execution_count": 7,
   "id": "2d1865e5-9703-4d20-b316-2fe8d3612750",
   "metadata": {},
   "outputs": [
    {
     "name": "stdout",
     "output_type": "stream",
     "text": [
      "(10, 2)\n"
     ]
    },
    {
     "data": {
      "text/html": [
       "<div>\n",
       "<style scoped>\n",
       "    .dataframe tbody tr th:only-of-type {\n",
       "        vertical-align: middle;\n",
       "    }\n",
       "\n",
       "    .dataframe tbody tr th {\n",
       "        vertical-align: top;\n",
       "    }\n",
       "\n",
       "    .dataframe thead th {\n",
       "        text-align: right;\n",
       "    }\n",
       "</style>\n",
       "<table border=\"1\" class=\"dataframe\">\n",
       "  <thead>\n",
       "    <tr style=\"text-align: right;\">\n",
       "      <th></th>\n",
       "      <th>pje_ep</th>\n",
       "      <th>geometry</th>\n",
       "    </tr>\n",
       "  </thead>\n",
       "  <tbody>\n",
       "    <tr>\n",
       "      <th>0</th>\n",
       "      <td>0.209171</td>\n",
       "      <td>LINESTRING (-70.60280 -33.40858, -70.60255 -33...</td>\n",
       "    </tr>\n",
       "    <tr>\n",
       "      <th>1</th>\n",
       "      <td>0.273895</td>\n",
       "      <td>LINESTRING (-70.60036 -33.40805, -70.60032 -33...</td>\n",
       "    </tr>\n",
       "  </tbody>\n",
       "</table>\n",
       "</div>"
      ],
      "text/plain": [
       "     pje_ep                                           geometry\n",
       "0  0.209171  LINESTRING (-70.60280 -33.40858, -70.60255 -33...\n",
       "1  0.273895  LINESTRING (-70.60036 -33.40805, -70.60032 -33..."
      ]
     },
     "execution_count": 7,
     "metadata": {},
     "output_type": "execute_result"
    }
   ],
   "source": [
    "# Show clipped (10 lines) data\n",
    "print(some_lines.shape)\n",
    "some_lines.head(2)"
   ]
  },
  {
   "cell_type": "markdown",
   "id": "318a91c9-9099-4469-afed-62ca1c1e8811",
   "metadata": {},
   "source": [
    "#### Original Stack overflow code"
   ]
  },
  {
   "cell_type": "code",
   "execution_count": 19,
   "id": "6fddce09-9421-4e05-b16d-c4e93461b577",
   "metadata": {},
   "outputs": [
    {
     "ename": "TypeError",
     "evalue": "'MultiLineString' object is not iterable",
     "output_type": "error",
     "traceback": [
      "\u001b[0;31m---------------------------------------------------------------------------\u001b[0m",
      "\u001b[0;31mTypeError\u001b[0m                                 Traceback (most recent call last)",
      "Cell \u001b[0;32mIn[19], line 3\u001b[0m\n\u001b[1;32m      1\u001b[0m \u001b[38;5;66;03m# split ways\u001b[39;00m\n\u001b[1;32m      2\u001b[0m unary \u001b[38;5;241m=\u001b[39m some_lines\u001b[38;5;241m.\u001b[39mgeometry\u001b[38;5;241m.\u001b[39munary_union\n\u001b[0;32m----> 3\u001b[0m geometries \u001b[38;5;241m=\u001b[39m [i \u001b[38;5;28;01mfor\u001b[39;00m i \u001b[38;5;129;01min\u001b[39;00m unary]\n\u001b[1;32m      4\u001b[0m ids \u001b[38;5;241m=\u001b[39m [j \u001b[38;5;28;01mfor\u001b[39;00m j \u001b[38;5;129;01min\u001b[39;00m \u001b[38;5;28mrange\u001b[39m(\u001b[38;5;28mlen\u001b[39m(geometries))]\n\u001b[1;32m      5\u001b[0m unary \u001b[38;5;241m=\u001b[39m gpd\u001b[38;5;241m.\u001b[39mGeoDataFrame({\u001b[38;5;124m\"\u001b[39m\u001b[38;5;124mid\u001b[39m\u001b[38;5;124m\"\u001b[39m: ids, \u001b[38;5;124m\"\u001b[39m\u001b[38;5;124mgeometry\u001b[39m\u001b[38;5;124m\"\u001b[39m: geometries}, crs\u001b[38;5;241m=\u001b[39m\u001b[38;5;124m\"\u001b[39m\u001b[38;5;124mEPSG:4326\u001b[39m\u001b[38;5;124m\"\u001b[39m)\n",
      "\u001b[0;31mTypeError\u001b[0m: 'MultiLineString' object is not iterable"
     ]
    }
   ],
   "source": [
    "# split ways\n",
    "unary = some_lines.geometry.unary_union\n",
    "geometries = [i for i in unary]\n",
    "ids = [j for j in range(len(geometries))]\n",
    "unary = gpd.GeoDataFrame({\"id\": ids, \"geometry\": geometries}, crs=\"EPSG:4326\")\n",
    "results = [] #empty list to store the results\n",
    "for i in range(len(unary)):\n",
    "    joined = gpd.sjoin(unary.loc[[i]], some_lines, how=\"inner\", op='within')\n",
    "    results.append(joined)\n",
    "joined = pd.concat(results)\n",
    "\n",
    "# Show\n",
    "print(joined.shape)\n",
    "joined.head(1)"
   ]
  },
  {
   "cell_type": "markdown",
   "id": "15c1f9c7-aafe-48c5-8c89-d56e54415582",
   "metadata": {},
   "source": [
    "#### Exploding before iterating"
   ]
  },
  {
   "cell_type": "code",
   "execution_count": 20,
   "id": "45c3957f-d021-42ce-ba6e-db7c6935c5ab",
   "metadata": {},
   "outputs": [
    {
     "data": {
      "text/plain": [
       "array(['LineString'], dtype=object)"
      ]
     },
     "execution_count": 20,
     "metadata": {},
     "output_type": "execute_result"
    }
   ],
   "source": [
    "gdf_exploded = some_lines.copy().explode()\n",
    "gdf_exploded.geom_type.unique()"
   ]
  },
  {
   "cell_type": "code",
   "execution_count": 21,
   "id": "4feb39a6-f395-469d-8b3c-f180f0fc8710",
   "metadata": {},
   "outputs": [
    {
     "ename": "TypeError",
     "evalue": "'MultiLineString' object is not iterable",
     "output_type": "error",
     "traceback": [
      "\u001b[0;31m---------------------------------------------------------------------------\u001b[0m",
      "\u001b[0;31mTypeError\u001b[0m                                 Traceback (most recent call last)",
      "Cell \u001b[0;32mIn[21], line 3\u001b[0m\n\u001b[1;32m      1\u001b[0m \u001b[38;5;66;03m# split ways\u001b[39;00m\n\u001b[1;32m      2\u001b[0m unary \u001b[38;5;241m=\u001b[39m gdf_exploded\u001b[38;5;241m.\u001b[39mgeometry\u001b[38;5;241m.\u001b[39munary_union\n\u001b[0;32m----> 3\u001b[0m geometries \u001b[38;5;241m=\u001b[39m [i \u001b[38;5;28;01mfor\u001b[39;00m i \u001b[38;5;129;01min\u001b[39;00m unary]\n\u001b[1;32m      4\u001b[0m ids \u001b[38;5;241m=\u001b[39m [j \u001b[38;5;28;01mfor\u001b[39;00m j \u001b[38;5;129;01min\u001b[39;00m \u001b[38;5;28mrange\u001b[39m(\u001b[38;5;28mlen\u001b[39m(geometries))]\n\u001b[1;32m      5\u001b[0m unary \u001b[38;5;241m=\u001b[39m gpd\u001b[38;5;241m.\u001b[39mGeoDataFrame({\u001b[38;5;124m\"\u001b[39m\u001b[38;5;124mid\u001b[39m\u001b[38;5;124m\"\u001b[39m: ids, \u001b[38;5;124m\"\u001b[39m\u001b[38;5;124mgeometry\u001b[39m\u001b[38;5;124m\"\u001b[39m: geometries}, crs\u001b[38;5;241m=\u001b[39m\u001b[38;5;124m\"\u001b[39m\u001b[38;5;124mEPSG:4326\u001b[39m\u001b[38;5;124m\"\u001b[39m)\n",
      "\u001b[0;31mTypeError\u001b[0m: 'MultiLineString' object is not iterable"
     ]
    }
   ],
   "source": [
    "# split ways\n",
    "unary = gdf_exploded.geometry.unary_union\n",
    "geometries = [i for i in unary]\n",
    "ids = [j for j in range(len(geometries))]\n",
    "unary = gpd.GeoDataFrame({\"id\": ids, \"geometry\": geometries}, crs=\"EPSG:4326\")\n",
    "results = [] #empty list to store the results\n",
    "for i in range(len(unary)):\n",
    "    joined = gpd.sjoin(unary.loc[[i]], gdf_exploded, how=\"inner\", op='within')\n",
    "    results.append(joined)\n",
    "joined = pd.concat(results)\n",
    "\n",
    "# Show\n",
    "print(joined.shape)\n",
    "joined.head(1)"
   ]
  },
  {
   "cell_type": "markdown",
   "id": "4393d449-92d2-4983-ba25-bb532790b9d6",
   "metadata": {},
   "source": [
    "#### Adding .geoms to original stack overflow code"
   ]
  },
  {
   "cell_type": "code",
   "execution_count": 25,
   "id": "0855b82e-98a9-42ea-886e-95ee040b0f21",
   "metadata": {},
   "outputs": [
    {
     "name": "stdout",
     "output_type": "stream",
     "text": [
      "15\n",
      "(7, 4)\n"
     ]
    },
    {
     "data": {
      "text/html": [
       "<div>\n",
       "<style scoped>\n",
       "    .dataframe tbody tr th:only-of-type {\n",
       "        vertical-align: middle;\n",
       "    }\n",
       "\n",
       "    .dataframe tbody tr th {\n",
       "        vertical-align: top;\n",
       "    }\n",
       "\n",
       "    .dataframe thead th {\n",
       "        text-align: right;\n",
       "    }\n",
       "</style>\n",
       "<table border=\"1\" class=\"dataframe\">\n",
       "  <thead>\n",
       "    <tr style=\"text-align: right;\">\n",
       "      <th></th>\n",
       "      <th>id</th>\n",
       "      <th>geometry</th>\n",
       "      <th>index_right</th>\n",
       "      <th>pje_ep</th>\n",
       "    </tr>\n",
       "  </thead>\n",
       "  <tbody>\n",
       "    <tr>\n",
       "      <th>0</th>\n",
       "      <td>0</td>\n",
       "      <td>LINESTRING (-70.60280 -33.40858, -70.60255 -33...</td>\n",
       "      <td>0</td>\n",
       "      <td>0.209171</td>\n",
       "    </tr>\n",
       "    <tr>\n",
       "      <th>1</th>\n",
       "      <td>1</td>\n",
       "      <td>LINESTRING (-70.60036 -33.40805, -70.60032 -33...</td>\n",
       "      <td>1</td>\n",
       "      <td>0.273895</td>\n",
       "    </tr>\n",
       "    <tr>\n",
       "      <th>2</th>\n",
       "      <td>2</td>\n",
       "      <td>LINESTRING (-70.60215 -33.40975, -70.60207 -33...</td>\n",
       "      <td>2</td>\n",
       "      <td>0.335099</td>\n",
       "    </tr>\n",
       "    <tr>\n",
       "      <th>3</th>\n",
       "      <td>3</td>\n",
       "      <td>LINESTRING (-70.60215 -33.40975, -70.60213 -33...</td>\n",
       "      <td>3</td>\n",
       "      <td>0.106013</td>\n",
       "    </tr>\n",
       "    <tr>\n",
       "      <th>4</th>\n",
       "      <td>4</td>\n",
       "      <td>LINESTRING (-70.60426 -33.40751, -70.60418 -33...</td>\n",
       "      <td>4</td>\n",
       "      <td>0.019630</td>\n",
       "    </tr>\n",
       "    <tr>\n",
       "      <th>7</th>\n",
       "      <td>7</td>\n",
       "      <td>LINESTRING (-70.60322 -33.40575, -70.60328 -33...</td>\n",
       "      <td>6</td>\n",
       "      <td>0.549756</td>\n",
       "    </tr>\n",
       "    <tr>\n",
       "      <th>12</th>\n",
       "      <td>12</td>\n",
       "      <td>LINESTRING (-70.60036 -33.40805, -70.60022 -33...</td>\n",
       "      <td>8</td>\n",
       "      <td>0.282520</td>\n",
       "    </tr>\n",
       "  </tbody>\n",
       "</table>\n",
       "</div>"
      ],
      "text/plain": [
       "    id                                           geometry  index_right   \n",
       "0    0  LINESTRING (-70.60280 -33.40858, -70.60255 -33...            0  \\\n",
       "1    1  LINESTRING (-70.60036 -33.40805, -70.60032 -33...            1   \n",
       "2    2  LINESTRING (-70.60215 -33.40975, -70.60207 -33...            2   \n",
       "3    3  LINESTRING (-70.60215 -33.40975, -70.60213 -33...            3   \n",
       "4    4  LINESTRING (-70.60426 -33.40751, -70.60418 -33...            4   \n",
       "7    7  LINESTRING (-70.60322 -33.40575, -70.60328 -33...            6   \n",
       "12  12  LINESTRING (-70.60036 -33.40805, -70.60022 -33...            8   \n",
       "\n",
       "      pje_ep  \n",
       "0   0.209171  \n",
       "1   0.273895  \n",
       "2   0.335099  \n",
       "3   0.106013  \n",
       "4   0.019630  \n",
       "7   0.549756  \n",
       "12  0.282520  "
      ]
     },
     "execution_count": 25,
     "metadata": {},
     "output_type": "execute_result"
    }
   ],
   "source": [
    "# split ways\n",
    "unary = some_lines.geometry.unary_union\n",
    "geometries = [i for i in unary.geoms]\n",
    "ids = [j for j in range(len(geometries))]\n",
    "print(len(ids))\n",
    "unary = gpd.GeoDataFrame({\"id\": ids, \"geometry\": geometries}, crs=\"EPSG:4326\")\n",
    "results = [] #empty list to store the results\n",
    "for i in range(len(unary)):\n",
    "    joined = gpd.sjoin(unary.loc[[i]], some_lines, how=\"inner\", op='within')\n",
    "    results.append(joined)\n",
    "joined = pd.concat(results)\n",
    "\n",
    "# Show\n",
    "print(joined.shape)\n",
    "joined"
   ]
  },
  {
   "cell_type": "code",
   "execution_count": 26,
   "id": "c3626f24-fdcf-42fc-9202-77b583201635",
   "metadata": {},
   "outputs": [
    {
     "data": {
      "text/plain": [
       "<Axes: >"
      ]
     },
     "execution_count": 26,
     "metadata": {},
     "output_type": "execute_result"
    },
    {
     "data": {
      "image/png": "[encoded data removed]",
      "text/plain": [
       "<Figure size 640x480 with 1 Axes>"
      ]
     },
     "metadata": {},
     "output_type": "display_data"
    }
   ],
   "source": [
    "joined.plot()"
   ]
  },
  {
   "cell_type": "markdown",
   "id": "964f60fc-d208-4154-9aed-51b775d249a0",
   "metadata": {
    "jp-MarkdownHeadingCollapsed": true
   },
   "source": [
    "### Split lines with themselves - __[NOT WORKING]__ ChatGPT suggested splitting each line with another line (splitter, except itself)"
   ]
  },
  {
   "cell_type": "code",
   "execution_count": 113,
   "id": "7dc57117-2103-4219-8481-2663e3cf78d9",
   "metadata": {},
   "outputs": [],
   "source": [
    "from shapely.geometry import LineString, MultiLineString\n",
    "from shapely.ops import split"
   ]
  },
  {
   "cell_type": "code",
   "execution_count": 15,
   "id": "9a154d3a-a83a-483e-bd24-971910b0bee3",
   "metadata": {},
   "outputs": [],
   "source": [
    "def split_lines_with_themselves(lines_gdf):\n",
    "    # Ensure geometries are valid\n",
    "    lines_gdf = lines_gdf[lines_gdf.is_valid]\n",
    "\n",
    "    split_lines_list = []\n",
    "\n",
    "    for idx, line in lines_gdf.iterrows():\n",
    "        line_to_split = line.geometry  # Initialize the line to be split\n",
    "        for splitter in lines_gdf.geometry:\n",
    "            if line_to_split != splitter:  # Avoid splitting a line with itself\n",
    "                try:\n",
    "                    # Perform the split\n",
    "                    split_result = split(line_to_split, splitter)\n",
    "                    # Ensure that split_result has elements\n",
    "                    if split_result:\n",
    "                        split_line = MultiLineString([geom for geom in split_result])\n",
    "                        \n",
    "                        # Append the resulting split lines to the list inside the loop\n",
    "                        if isinstance(split_line, MultiLineString):\n",
    "                            split_lines_list.extend(split_line.geoms)  # Use .geoms to iterate over the LineStrings in the MultiLineString\n",
    "                        else:\n",
    "                            split_lines_list.append(split_line)\n",
    "                except:\n",
    "                    continue\n",
    "    \n",
    "    # Create a new GeoDataFrame with the split lines\n",
    "    split_lines_gdf = gpd.GeoDataFrame(geometry=split_lines_list, crs=lines_gdf.crs)\n",
    "    \n",
    "    return split_lines_gdf\n",
    "\n",
    "# Perform split_lines_with_themselves\n",
    "#lines_gdf = gdf.copy()\n",
    "#split_lines_gdf = split_lines_with_themselves(lines_gdf)\n",
    "\n",
    "# Show\n",
    "#print(split_lines_gdf.shape)\n",
    "#split_lines_gdf.head(1)"
   ]
  },
  {
   "cell_type": "code",
   "execution_count": null,
   "id": "ac9d75ed-8ab6-4e6d-89fa-24c1c50c94cc",
   "metadata": {},
   "outputs": [],
   "source": []
  }
 ],
 "metadata": {
  "kernelspec": {
   "display_name": "GDS-10.0",
   "language": "python",
   "name": "gds"
  },
  "language_info": {
   "codemirror_mode": {
    "name": "ipython",
    "version": 3
   },
   "file_extension": ".py",
   "mimetype": "text/x-python",
   "name": "python",
   "nbconvert_exporter": "python",
   "pygments_lexer": "ipython3",
   "version": "3.9.18"
  }
 },
 "nbformat": 4,
 "nbformat_minor": 5
}
