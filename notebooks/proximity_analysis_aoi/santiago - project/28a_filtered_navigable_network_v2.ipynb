{
 "cells": [
  {
   "cell_type": "markdown",
   "id": "410f7b23-2d2a-49dc-9b39-9d5b82215d1e",
   "metadata": {},
   "source": [
    "# Filtered navigable network"
   ]
  },
  {
   "cell_type": "markdown",
   "id": "4dca6607-7ef6-47a5-9f2f-4b5f5ee33bb5",
   "metadata": {},
   "source": [
    "This notebook test the way to create nodes and edges compatibles with OSMnx in order to be able to __use Santiago's public space quality index__ (Available in non-OSMnx road linestrings) __as a filter.__\n",
    "\n",
    "The steps to be followed are the currently working QGIS steps:\n",
    "1. Split lines with lines\n",
    "2. Vector > Geometry Tools > Multipart to singleparts\n",
    "3. Extract specific vertices [0,-1]\n",
    "4. MMQGIS Modify > Drop dups"
   ]
  },
  {
   "cell_type": "markdown",
   "id": "b8c9c69d-93a9-4112-a2ac-c8f828d82563",
   "metadata": {},
   "source": [
    "## Import libraries"
   ]
  },
  {
   "cell_type": "code",
   "execution_count": 1,
   "id": "428974d3-7032-48f6-80f4-fd72cf5a1079",
   "metadata": {},
   "outputs": [],
   "source": [
    "import geopandas as gpd\n",
    "import pandas as pd\n",
    "import numpy as np\n",
    "from shapely.geometry import Point\n",
    "\n",
    "import matplotlib.pyplot as plt\n",
    "\n",
    "import warnings\n",
    "warnings.simplefilter(action='ignore', category=FutureWarning)\n",
    "\n",
    "import os\n",
    "import sys\n",
    "module_path = os.path.abspath(os.path.join('../../../'))\n",
    "if module_path not in sys.path:\n",
    "    sys.path.append(module_path)\n",
    "    import aup"
   ]
  },
  {
   "cell_type": "markdown",
   "id": "d9b38b85-d0fc-4b3d-b054-106e5e650d8d",
   "metadata": {},
   "source": [
    "## Config notebook"
   ]
  },
  {
   "cell_type": "code",
   "execution_count": 2,
   "id": "3ee6ce45-e36b-4f00-9a10-9e4b903f4477",
   "metadata": {},
   "outputs": [],
   "source": [
    "gral_dir = '../../../data/external/santiago/'\n",
    "project_name = 'redvial2019_buffer_3750m_c_utilidad_2'\n",
    "p_code = '00'\n",
    "public_space_quality_dir = gral_dir + f\"calidad_ep/{p_code}_{project_name}/{project_name}.shp\"\n",
    "\n",
    "# Projection to be used whenever necessary\n",
    "projected_crs = 'EPSG:32719'\n",
    "# Column to filter data\n",
    "filtering_column = 'pje_ep'\n",
    "filtering_value = 0.5 # Will keep equal or more than this value"
   ]
  },
  {
   "cell_type": "markdown",
   "id": "a851ee32-ba91-4f58-9aa4-c9cb62ead88f",
   "metadata": {},
   "source": [
    "## Load data"
   ]
  },
  {
   "cell_type": "code",
   "execution_count": 3,
   "id": "df9c58ad-9ce3-48c3-b82b-fcc5848931e6",
   "metadata": {},
   "outputs": [
    {
     "name": "stdout",
     "output_type": "stream",
     "text": [
      "(31534, 2)\n"
     ]
    },
    {
     "data": {
      "text/html": [
       "<div>\n",
       "<style scoped>\n",
       "    .dataframe tbody tr th:only-of-type {\n",
       "        vertical-align: middle;\n",
       "    }\n",
       "\n",
       "    .dataframe tbody tr th {\n",
       "        vertical-align: top;\n",
       "    }\n",
       "\n",
       "    .dataframe thead th {\n",
       "        text-align: right;\n",
       "    }\n",
       "</style>\n",
       "<table border=\"1\" class=\"dataframe\">\n",
       "  <thead>\n",
       "    <tr style=\"text-align: right;\">\n",
       "      <th></th>\n",
       "      <th>pje_ep</th>\n",
       "      <th>geometry</th>\n",
       "    </tr>\n",
       "  </thead>\n",
       "  <tbody>\n",
       "    <tr>\n",
       "      <th>0</th>\n",
       "      <td>0.209171</td>\n",
       "      <td>LINESTRING (-70.60280 -33.40858, -70.60255 -33...</td>\n",
       "    </tr>\n",
       "  </tbody>\n",
       "</table>\n",
       "</div>"
      ],
      "text/plain": [
       "     pje_ep                                           geometry\n",
       "0  0.209171  LINESTRING (-70.60280 -33.40858, -70.60255 -33..."
      ]
     },
     "execution_count": 3,
     "metadata": {},
     "output_type": "execute_result"
    }
   ],
   "source": [
    "# 1.0 --------------- LOAD DATA\n",
    "# ------------------- This step loads the public space quality index gdf for the current project\n",
    "# Load data\n",
    "pub_space_qty = gpd.read_file(public_space_quality_dir)\n",
    "# Set CRS\n",
    "pub_space_qty = pub_space_qty.set_crs(projected_crs)\n",
    "# Filter for data of relevance\n",
    "gdf = pub_space_qty[[filtering_column,'geometry']].copy()\n",
    "gdf = gdf.to_crs(\"EPSG:4326\")\n",
    "\n",
    "# Show\n",
    "print(gdf.shape)\n",
    "gdf.head(1)"
   ]
  },
  {
   "cell_type": "markdown",
   "id": "14494ef8-080e-44ee-84a3-c37df13d3a79",
   "metadata": {},
   "source": [
    "## Part 1 - How to split lines with themselves?"
   ]
  },
  {
   "cell_type": "code",
   "execution_count": 68,
   "id": "173c8a8b-873a-4062-b3fe-7e412ef6318c",
   "metadata": {},
   "outputs": [
    {
     "name": "stdout",
     "output_type": "stream",
     "text": [
      "(11, 2)\n"
     ]
    },
    {
     "data": {
      "text/html": [
       "<div>\n",
       "<style scoped>\n",
       "    .dataframe tbody tr th:only-of-type {\n",
       "        vertical-align: middle;\n",
       "    }\n",
       "\n",
       "    .dataframe tbody tr th {\n",
       "        vertical-align: top;\n",
       "    }\n",
       "\n",
       "    .dataframe thead th {\n",
       "        text-align: right;\n",
       "    }\n",
       "</style>\n",
       "<table border=\"1\" class=\"dataframe\">\n",
       "  <thead>\n",
       "    <tr style=\"text-align: right;\">\n",
       "      <th></th>\n",
       "      <th>pje_ep</th>\n",
       "      <th>geometry</th>\n",
       "    </tr>\n",
       "  </thead>\n",
       "  <tbody>\n",
       "    <tr>\n",
       "      <th>0</th>\n",
       "      <td>0.209171</td>\n",
       "      <td>LINESTRING (-70.60280 -33.40858, -70.60255 -33...</td>\n",
       "    </tr>\n",
       "    <tr>\n",
       "      <th>1</th>\n",
       "      <td>0.273895</td>\n",
       "      <td>LINESTRING (-70.60036 -33.40805, -70.60032 -33...</td>\n",
       "    </tr>\n",
       "  </tbody>\n",
       "</table>\n",
       "</div>"
      ],
      "text/plain": [
       "     pje_ep                                           geometry\n",
       "0  0.209171  LINESTRING (-70.60280 -33.40858, -70.60255 -33...\n",
       "1  0.273895  LINESTRING (-70.60036 -33.40805, -70.60032 -33..."
      ]
     },
     "execution_count": 68,
     "metadata": {},
     "output_type": "execute_result"
    }
   ],
   "source": [
    "some_lines = gdf.loc[0:10]\n",
    "#some_lines.reset_index(inplace=True)\n",
    "#some_lines = some_lines.rename(columns={'index':'original_id'})\n",
    "\n",
    "# Show\n",
    "print(some_lines.shape)\n",
    "some_lines.head(2)"
   ]
  },
  {
   "cell_type": "code",
   "execution_count": 139,
   "id": "b788e073-012a-498b-a9d8-9909a8826ac4",
   "metadata": {},
   "outputs": [
    {
     "data": {
      "text/plain": [
       "<Axes: >"
      ]
     },
     "execution_count": 139,
     "metadata": {},
     "output_type": "execute_result"
    },
    {
     "data": {
      "image/png": "[encoded data removed]",
      "text/plain": [
       "<Figure size 640x480 with 1 Axes>"
      ]
     },
     "metadata": {},
     "output_type": "display_data"
    }
   ],
   "source": [
    "some_lines.plot()"
   ]
  },
  {
   "cell_type": "markdown",
   "id": "c557bb78-73ce-4d05-b13d-481d216eb226",
   "metadata": {},
   "source": [
    "### Split lines with themselves - Intersecting each line with the unary union of the rest of the lines (Working, VERY slow)"
   ]
  },
  {
   "cell_type": "code",
   "execution_count": 143,
   "id": "654b6868-658d-4ac6-abbd-6bcd8a48938a",
   "metadata": {},
   "outputs": [],
   "source": [
    "from shapely.geometry import GeometryCollection"
   ]
  },
  {
   "cell_type": "code",
   "execution_count": 158,
   "id": "89a9d7bc-5bfe-4be7-944c-efea18f350a3",
   "metadata": {},
   "outputs": [],
   "source": [
    "def split_lines_with_themselves(lines_gdf):\n",
    "    split_lines = gpd.GeoDataFrame()\n",
    "    i = 0\n",
    "    \n",
    "    # Reset index in order to keep track of original line id\n",
    "    original_lines = lines_gdf.copy()\n",
    "    original_lines = original_lines.reset_index()\n",
    "    original_lines = original_lines.rename(columns={'index':'original_id'})\n",
    "    \n",
    "    # Iterate over each line\n",
    "    for idx in list(original_lines.original_id.unique()):\n",
    "        # Find original line and its geometry\n",
    "        line_of_interest = original_lines.loc[original_lines.original_id == idx]\n",
    "        line_geom = line_of_interest.geometry.unique()[0]\n",
    "        # Create unary union (geometry) out of the rest of the lines (Avoids trying to intersect with itself)\n",
    "        rest_of_lines = original_lines.loc[original_lines.original_id != idx]\n",
    "        gdf_exploded = rest_of_lines.copy().explode()\n",
    "        unary_union = gdf_exploded.unary_union\n",
    "    \n",
    "        # Try splitting the line with the rest of the lines\n",
    "        try:\n",
    "            # Split geom with unary union\n",
    "            split_result = split(line_geom, unary_union)\n",
    "            # Extract clipped lines\n",
    "            split_lines_geoms = list(split_result.geoms)\n",
    "            # Register data\n",
    "            for split_line_geom in split_lines_geoms:\n",
    "                split_lines.loc[i,'original_id'] = line_of_interest.original_id.unique()[0]\n",
    "                split_lines.loc[i,'pje_ep'] = line_of_interest.pje_ep.unique()[0]\n",
    "                split_lines.loc[i,'geometry'] = split_line_geom\n",
    "            \n",
    "                i +=1\n",
    "                \n",
    "        # Except it doesn't need splitting, then just append the line\n",
    "        except:\n",
    "            split_lines.loc[i,'original_id'] = line_of_interest.original_id.unique()[0]\n",
    "            split_lines.loc[i,'pje_ep'] = line_of_interest.pje_ep.unique()[0]\n",
    "            split_lines.loc[i,'geometry'] = line_geom\n",
    "            i +=1\n",
    "    \n",
    "    try:\n",
    "        split_lines.set_crs(\"EPSG:4326\")\n",
    "    except:\n",
    "        split_lines.to_crs(\"EPSG:4326\")\n",
    "    \n",
    "    return split_lines"
   ]
  },
  {
   "cell_type": "code",
   "execution_count": null,
   "id": "8ad1e11b-019a-4ef0-adb9-58245e804a36",
   "metadata": {},
   "outputs": [],
   "source": [
    "# Tomó más de 1 hr y no terminó con el gdf completo\n",
    "split_lines = split_lines_with_themselves(gdf)\n",
    "\n",
    "# Show\n",
    "print(split_lines.shape)\n",
    "split_lines.head(2)"
   ]
  },
  {
   "cell_type": "code",
   "execution_count": null,
   "id": "c38b91ed-f4ff-46d5-b233-07a7aa657b15",
   "metadata": {},
   "outputs": [],
   "source": [
    "# Check result\n",
    "#some_lines.to_file(gral_dir + \"some_lines.gpkg\", driver='GPKG')\n",
    "#split_lines.to_file(gral_dir + \"split_lines.gpkg\", driver='GPKG')"
   ]
  },
  {
   "cell_type": "code",
   "execution_count": 55,
   "id": "66af6dbe-0a1b-4497-9dcc-ae2d7b548e24",
   "metadata": {},
   "outputs": [
    {
     "data": {
      "text/html": [
       "<div>\n",
       "<style scoped>\n",
       "    .dataframe tbody tr th:only-of-type {\n",
       "        vertical-align: middle;\n",
       "    }\n",
       "\n",
       "    .dataframe tbody tr th {\n",
       "        vertical-align: top;\n",
       "    }\n",
       "\n",
       "    .dataframe thead th {\n",
       "        text-align: right;\n",
       "    }\n",
       "</style>\n",
       "<table border=\"1\" class=\"dataframe\">\n",
       "  <thead>\n",
       "    <tr style=\"text-align: right;\">\n",
       "      <th></th>\n",
       "      <th>original_id_left</th>\n",
       "      <th>pje_ep_left</th>\n",
       "      <th>geometry</th>\n",
       "      <th>index_right</th>\n",
       "      <th>original_id_right</th>\n",
       "      <th>pje_ep_right</th>\n",
       "    </tr>\n",
       "  </thead>\n",
       "  <tbody>\n",
       "    <tr>\n",
       "      <th>1</th>\n",
       "      <td>1</td>\n",
       "      <td>0.273895</td>\n",
       "      <td>LINESTRING (-70.60036 -33.40805, -70.60032 -33...</td>\n",
       "      <td>1</td>\n",
       "      <td>1</td>\n",
       "      <td>0.273895</td>\n",
       "    </tr>\n",
       "    <tr>\n",
       "      <th>1</th>\n",
       "      <td>1</td>\n",
       "      <td>0.273895</td>\n",
       "      <td>LINESTRING (-70.60036 -33.40805, -70.60032 -33...</td>\n",
       "      <td>8</td>\n",
       "      <td>8</td>\n",
       "      <td>0.282520</td>\n",
       "    </tr>\n",
       "  </tbody>\n",
       "</table>\n",
       "</div>"
      ],
      "text/plain": [
       "   original_id_left  pje_ep_left   \n",
       "1                 1     0.273895  \\\n",
       "1                 1     0.273895   \n",
       "\n",
       "                                            geometry  index_right   \n",
       "1  LINESTRING (-70.60036 -33.40805, -70.60032 -33...            1  \\\n",
       "1  LINESTRING (-70.60036 -33.40805, -70.60032 -33...            8   \n",
       "\n",
       "   original_id_right  pje_ep_right  \n",
       "1                  1      0.273895  \n",
       "1                  8      0.282520  "
      ]
     },
     "execution_count": 55,
     "metadata": {},
     "output_type": "execute_result"
    }
   ],
   "source": [
    "sjoined = some_lines.sjoin(some_lines)\n",
    "test = sjoined.loc[sjoined.original_id_left == 1]\n",
    "test"
   ]
  },
  {
   "cell_type": "code",
   "execution_count": 47,
   "id": "c78b6e67-ab86-43d1-99da-894eb5ceaa01",
   "metadata": {},
   "outputs": [],
   "source": [
    "#fig,ax=plt.subplots(1,2,figsize=(10,20))\n",
    "#some_lines.plot(\"original_id\",ax=ax[0])\n",
    "#test.plot(\"original_id\",ax=ax[1])"
   ]
  },
  {
   "cell_type": "code",
   "execution_count": 46,
   "id": "45921a84-0369-4af5-beda-2a7bea8752c8",
   "metadata": {},
   "outputs": [],
   "source": [
    "test.to_file(gral_dir + \"test.gpkg\", driver='GPKG')"
   ]
  },
  {
   "cell_type": "markdown",
   "id": "6b66f09a-2866-4bc7-af93-0655f7392c27",
   "metadata": {
    "jp-MarkdownHeadingCollapsed": true
   },
   "source": [
    "### Split lines with themselves - Sjoin to identify which lines cross with which lines (Not working)"
   ]
  },
  {
   "cell_type": "code",
   "execution_count": 94,
   "id": "7d1506f1-504d-4e3b-859a-c665766bf610",
   "metadata": {},
   "outputs": [],
   "source": [
    "def split_lines_with_themselves(lines_gdf):\n",
    "\n",
    "    original_lines = lines_gdf.copy()\n",
    "    original_lines.reset_index(inplace=True)\n",
    "    original_lines = original_lines.rename(columns={'index':'original_id'})\n",
    "\n",
    "    idx_lst = [0,1,2,3,4,5,6,7,8] #list(original_lines.original_id.unique())\n",
    "\n",
    "    # Find which lines intersect with which lines\n",
    "    sjoined = original_lines.sjoin(original_lines)\n",
    "    \n",
    "    split_lines_list = []\n",
    "    for idx in idx_lst:\n",
    "        # Locate line of interest\n",
    "        line_of_interest = original_lines.loc[original_lines.original_id==idx]\n",
    "        # Locate which lines intersect that line of interest (Drop itself)\n",
    "        sjoined_line = sjoined.loc[sjoined.original_id_left==idx]\n",
    "        intersecting_lines_ids = list(sjoined_line.original_id_right.unique())\n",
    "        intersecting_lines_ids.remove(idx)\n",
    "        intersecting_lines = original_lines.loc[original_lines.original_id.isin(intersecting_lines_ids)]\n",
    "\n",
    "        # Geometry of line of interest\n",
    "        line_to_split = line_of_interest.geometry\n",
    "        # Iterate over each intersecting lines geometry\n",
    "        for splitter in intersecting_lines.geometry:\n",
    "        \n",
    "    return line_of_interest, intersecting_lines\n",
    "\n",
    "line_of_interest, intersecting_lines = split_lines_with_themselves(some_lines)"
   ]
  },
  {
   "cell_type": "markdown",
   "id": "a161064b-ed04-4dfe-9c65-8f1d8cdbe020",
   "metadata": {
    "jp-MarkdownHeadingCollapsed": true
   },
   "source": [
    "### Split lines with themselves - Stack overflow Help (Not working)"
   ]
  },
  {
   "cell_type": "code",
   "execution_count": 27,
   "id": "45c3957f-d021-42ce-ba6e-db7c6935c5ab",
   "metadata": {},
   "outputs": [
    {
     "data": {
      "text/plain": [
       "array(['LineString'], dtype=object)"
      ]
     },
     "execution_count": 27,
     "metadata": {},
     "output_type": "execute_result"
    }
   ],
   "source": [
    "gdf_exploded = gdf.copy().explode()\n",
    "gdf_exploded.geom_type.unique()"
   ]
  },
  {
   "cell_type": "code",
   "execution_count": 34,
   "id": "9909fe4b-2970-472e-86c1-79fe776bd286",
   "metadata": {},
   "outputs": [
    {
     "data": {
      "text/html": [
       "<div>\n",
       "<style scoped>\n",
       "    .dataframe tbody tr th:only-of-type {\n",
       "        vertical-align: middle;\n",
       "    }\n",
       "\n",
       "    .dataframe tbody tr th {\n",
       "        vertical-align: top;\n",
       "    }\n",
       "\n",
       "    .dataframe thead th {\n",
       "        text-align: right;\n",
       "    }\n",
       "</style>\n",
       "<table border=\"1\" class=\"dataframe\">\n",
       "  <thead>\n",
       "    <tr style=\"text-align: right;\">\n",
       "      <th></th>\n",
       "      <th>id</th>\n",
       "      <th>geometry</th>\n",
       "      <th>index_right0</th>\n",
       "      <th>index_right1</th>\n",
       "      <th>pje_ep</th>\n",
       "    </tr>\n",
       "  </thead>\n",
       "  <tbody>\n",
       "    <tr>\n",
       "      <th>0</th>\n",
       "      <td>0</td>\n",
       "      <td>LINESTRING (-70.60280 -33.40858, -70.60255 -33...</td>\n",
       "      <td>0</td>\n",
       "      <td>0</td>\n",
       "      <td>0.209171</td>\n",
       "    </tr>\n",
       "    <tr>\n",
       "      <th>1</th>\n",
       "      <td>1</td>\n",
       "      <td>LINESTRING (-70.60036 -33.40805, -70.60032 -33...</td>\n",
       "      <td>1</td>\n",
       "      <td>0</td>\n",
       "      <td>0.273895</td>\n",
       "    </tr>\n",
       "    <tr>\n",
       "      <th>2</th>\n",
       "      <td>2</td>\n",
       "      <td>LINESTRING (-70.60215 -33.40975, -70.60207 -33...</td>\n",
       "      <td>2</td>\n",
       "      <td>0</td>\n",
       "      <td>0.335099</td>\n",
       "    </tr>\n",
       "    <tr>\n",
       "      <th>3</th>\n",
       "      <td>3</td>\n",
       "      <td>LINESTRING (-70.60215 -33.40975, -70.60213 -33...</td>\n",
       "      <td>3</td>\n",
       "      <td>0</td>\n",
       "      <td>0.106013</td>\n",
       "    </tr>\n",
       "    <tr>\n",
       "      <th>4</th>\n",
       "      <td>4</td>\n",
       "      <td>LINESTRING (-70.60426 -33.40751, -70.60418 -33...</td>\n",
       "      <td>4</td>\n",
       "      <td>0</td>\n",
       "      <td>0.019630</td>\n",
       "    </tr>\n",
       "    <tr>\n",
       "      <th>...</th>\n",
       "      <td>...</td>\n",
       "      <td>...</td>\n",
       "      <td>...</td>\n",
       "      <td>...</td>\n",
       "      <td>...</td>\n",
       "    </tr>\n",
       "    <tr>\n",
       "      <th>31549</th>\n",
       "      <td>31549</td>\n",
       "      <td>LINESTRING (-70.69190 -33.45897, -70.69192 -33...</td>\n",
       "      <td>31529</td>\n",
       "      <td>0</td>\n",
       "      <td>0.581119</td>\n",
       "    </tr>\n",
       "    <tr>\n",
       "      <th>31550</th>\n",
       "      <td>31550</td>\n",
       "      <td>LINESTRING (-70.65000 -33.48546, -70.64996 -33...</td>\n",
       "      <td>31530</td>\n",
       "      <td>0</td>\n",
       "      <td>0.039703</td>\n",
       "    </tr>\n",
       "    <tr>\n",
       "      <th>31551</th>\n",
       "      <td>31551</td>\n",
       "      <td>LINESTRING (-70.65020 -33.48616, -70.65018 -33...</td>\n",
       "      <td>31531</td>\n",
       "      <td>0</td>\n",
       "      <td>0.012621</td>\n",
       "    </tr>\n",
       "    <tr>\n",
       "      <th>31552</th>\n",
       "      <td>31552</td>\n",
       "      <td>LINESTRING (-70.64985 -33.48548, -70.64968 -33...</td>\n",
       "      <td>31532</td>\n",
       "      <td>0</td>\n",
       "      <td>0.052166</td>\n",
       "    </tr>\n",
       "    <tr>\n",
       "      <th>31553</th>\n",
       "      <td>31553</td>\n",
       "      <td>LINESTRING (-70.65005 -33.48619, -70.65005 -33...</td>\n",
       "      <td>31533</td>\n",
       "      <td>0</td>\n",
       "      <td>0.018425</td>\n",
       "    </tr>\n",
       "  </tbody>\n",
       "</table>\n",
       "<p>31554 rows × 5 columns</p>\n",
       "</div>"
      ],
      "text/plain": [
       "          id                                           geometry  index_right0   \n",
       "0          0  LINESTRING (-70.60280 -33.40858, -70.60255 -33...             0  \\\n",
       "1          1  LINESTRING (-70.60036 -33.40805, -70.60032 -33...             1   \n",
       "2          2  LINESTRING (-70.60215 -33.40975, -70.60207 -33...             2   \n",
       "3          3  LINESTRING (-70.60215 -33.40975, -70.60213 -33...             3   \n",
       "4          4  LINESTRING (-70.60426 -33.40751, -70.60418 -33...             4   \n",
       "...      ...                                                ...           ...   \n",
       "31549  31549  LINESTRING (-70.69190 -33.45897, -70.69192 -33...         31529   \n",
       "31550  31550  LINESTRING (-70.65000 -33.48546, -70.64996 -33...         31530   \n",
       "31551  31551  LINESTRING (-70.65020 -33.48616, -70.65018 -33...         31531   \n",
       "31552  31552  LINESTRING (-70.64985 -33.48548, -70.64968 -33...         31532   \n",
       "31553  31553  LINESTRING (-70.65005 -33.48619, -70.65005 -33...         31533   \n",
       "\n",
       "       index_right1    pje_ep  \n",
       "0                 0  0.209171  \n",
       "1                 0  0.273895  \n",
       "2                 0  0.335099  \n",
       "3                 0  0.106013  \n",
       "4                 0  0.019630  \n",
       "...             ...       ...  \n",
       "31549             0  0.581119  \n",
       "31550             0  0.039703  \n",
       "31551             0  0.012621  \n",
       "31552             0  0.052166  \n",
       "31553             0  0.018425  \n",
       "\n",
       "[31554 rows x 5 columns]"
      ]
     },
     "execution_count": 34,
     "metadata": {},
     "output_type": "execute_result"
    }
   ],
   "source": [
    "# split ways\n",
    "gdf_exploded = gdf.copy().explode()\n",
    "geometries = [i for i in gdf_exploded.geometry]\n",
    "ids = [j for j in range(len(geometries))]\n",
    "unary = gpd.GeoDataFrame({\"id\": ids, \"geometry\": geometries}, crs=\"EPSG:4326\")\n",
    "results = [] #empty list to store the results\n",
    "for i in range(len(unary)):\n",
    "    joined = gpd.sjoin(unary.loc[[i]], gdf_exploded, how=\"inner\", op='within')\n",
    "    results.append(joined)\n",
    "joined = pd.concat(results)\n",
    "\n",
    "joined"
   ]
  },
  {
   "cell_type": "markdown",
   "id": "964f60fc-d208-4154-9aed-51b775d249a0",
   "metadata": {
    "jp-MarkdownHeadingCollapsed": true
   },
   "source": [
    "### Split lines with themselves - ChatGPT Help (Not working)"
   ]
  },
  {
   "cell_type": "code",
   "execution_count": 113,
   "id": "7dc57117-2103-4219-8481-2663e3cf78d9",
   "metadata": {},
   "outputs": [],
   "source": [
    "from shapely.geometry import LineString, MultiLineString\n",
    "from shapely.ops import split"
   ]
  },
  {
   "cell_type": "code",
   "execution_count": 15,
   "id": "9a154d3a-a83a-483e-bd24-971910b0bee3",
   "metadata": {},
   "outputs": [],
   "source": [
    "def split_lines_with_themselves(lines_gdf):\n",
    "    # Ensure geometries are valid\n",
    "    lines_gdf = lines_gdf[lines_gdf.is_valid]\n",
    "\n",
    "    split_lines_list = []\n",
    "\n",
    "    for idx, line in lines_gdf.iterrows():\n",
    "        line_to_split = line.geometry  # Initialize the line to be split\n",
    "        for splitter in lines_gdf.geometry:\n",
    "            if line_to_split != splitter:  # Avoid splitting a line with itself\n",
    "                try:\n",
    "                    # Perform the split\n",
    "                    split_result = split(line_to_split, splitter)\n",
    "                    # Ensure that split_result has elements\n",
    "                    if split_result:\n",
    "                        split_line = MultiLineString([geom for geom in split_result])\n",
    "                        \n",
    "                        # Append the resulting split lines to the list inside the loop\n",
    "                        if isinstance(split_line, MultiLineString):\n",
    "                            split_lines_list.extend(split_line.geoms)  # Use .geoms to iterate over the LineStrings in the MultiLineString\n",
    "                        else:\n",
    "                            split_lines_list.append(split_line)\n",
    "                except:\n",
    "                    continue\n",
    "    \n",
    "    # Create a new GeoDataFrame with the split lines\n",
    "    split_lines_gdf = gpd.GeoDataFrame(geometry=split_lines_list, crs=lines_gdf.crs)\n",
    "    \n",
    "    return split_lines_gdf\n",
    "\n",
    "# Perform split_lines_with_themselves\n",
    "#lines_gdf = gdf.copy()\n",
    "#split_lines_gdf = split_lines_with_themselves(lines_gdf)\n",
    "\n",
    "# Show\n",
    "#print(split_lines_gdf.shape)\n",
    "#split_lines_gdf.head(1)"
   ]
  },
  {
   "cell_type": "code",
   "execution_count": null,
   "id": "ac9d75ed-8ab6-4e6d-89fa-24c1c50c94cc",
   "metadata": {},
   "outputs": [],
   "source": []
  }
 ],
 "metadata": {
  "kernelspec": {
   "display_name": "GDS-10.0",
   "language": "python",
   "name": "gds"
  },
  "language_info": {
   "codemirror_mode": {
    "name": "ipython",
    "version": 3
   },
   "file_extension": ".py",
   "mimetype": "text/x-python",
   "name": "python",
   "nbconvert_exporter": "python",
   "pygments_lexer": "ipython3",
   "version": "3.9.18"
  }
 },
 "nbformat": 4,
 "nbformat_minor": 5
}
