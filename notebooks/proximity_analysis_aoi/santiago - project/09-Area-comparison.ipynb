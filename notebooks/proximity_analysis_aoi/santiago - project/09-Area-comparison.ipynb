{
 "cells": [
  {
   "cell_type": "code",
   "execution_count": 1,
   "id": "696e4fac-7397-4638-8ff4-cda8dc479c85",
   "metadata": {},
   "outputs": [
    {
     "name": "stderr",
     "output_type": "stream",
     "text": [
      "/home/edgaregurrola/Repos/observatorio-ciudades/accesibilidad-urbana/aup/data.py:24: UserWarning: The `utils.config` function is deprecated and will be removed in a future release. Instead, use the `settings` module directly to configure a global setting's value. For example, `ox.settings.log_console=True`.\n",
      "  ox.config(\n"
     ]
    }
   ],
   "source": [
    "import geopandas as gpd\n",
    "import pandas as pd\n",
    "import numpy as np\n",
    "\n",
    "import warnings\n",
    "warnings.simplefilter(action='ignore', category=FutureWarning)\n",
    "\n",
    "import os\n",
    "import sys\n",
    "module_path = os.path.abspath(os.path.join('../../../'))\n",
    "if module_path not in sys.path:\n",
    "    sys.path.append(module_path)\n",
    "    import aup"
   ]
  },
  {
   "cell_type": "code",
   "execution_count": 2,
   "id": "f3a7bc65-0611-4bfa-a517-70135a58c69d",
   "metadata": {},
   "outputs": [
    {
     "data": {
      "text/html": [
       "<div>\n",
       "<style scoped>\n",
       "    .dataframe tbody tr th:only-of-type {\n",
       "        vertical-align: middle;\n",
       "    }\n",
       "\n",
       "    .dataframe tbody tr th {\n",
       "        vertical-align: top;\n",
       "    }\n",
       "\n",
       "    .dataframe thead th {\n",
       "        text-align: right;\n",
       "    }\n",
       "</style>\n",
       "<table border=\"1\" class=\"dataframe\">\n",
       "  <thead>\n",
       "    <tr style=\"text-align: right;\">\n",
       "      <th></th>\n",
       "      <th>Function</th>\n",
       "      <th>Theme</th>\n",
       "      <th>Indicator</th>\n",
       "      <th>Variable</th>\n",
       "      <th>Source name</th>\n",
       "    </tr>\n",
       "  </thead>\n",
       "  <tbody>\n",
       "    <tr>\n",
       "      <th>0</th>\n",
       "      <td>Supplies</td>\n",
       "      <td>GROCERIES</td>\n",
       "      <td>Specific supply</td>\n",
       "      <td>Butcher/Fish Shops</td>\n",
       "      <td>carniceria</td>\n",
       "    </tr>\n",
       "    <tr>\n",
       "      <th>1</th>\n",
       "      <td>Supplies</td>\n",
       "      <td>GROCERIES</td>\n",
       "      <td>Specific supply</td>\n",
       "      <td>Hardware/ Paint stores</td>\n",
       "      <td>hogar</td>\n",
       "    </tr>\n",
       "  </tbody>\n",
       "</table>\n",
       "</div>"
      ],
      "text/plain": [
       "   Function      Theme        Indicator                Variable Source name\n",
       "0  Supplies  GROCERIES  Specific supply      Butcher/Fish Shops  carniceria\n",
       "1  Supplies  GROCERIES  Specific supply  Hardware/ Paint stores       hogar"
      ]
     },
     "execution_count": 2,
     "metadata": {},
     "output_type": "execute_result"
    }
   ],
   "source": [
    "grl_dir = '../../../data/processed/santiago/'\n",
    "df = pd.read_csv(grl_dir + 'source_matrix.csv', encoding='iso-8859-1')\n",
    "df.head(2)"
   ]
  },
  {
   "cell_type": "markdown",
   "id": "7fc5d082-9791-4aa7-a477-541a0f2073a8",
   "metadata": {},
   "source": [
    "## Area of analysis"
   ]
  },
  {
   "cell_type": "code",
   "execution_count": 4,
   "id": "9175655f-1b56-460c-bd70-cf5b3cf9d4da",
   "metadata": {},
   "outputs": [],
   "source": [
    "santiago_aoi = aup.gdf_from_db('santiago_aoi','projects_research')"
   ]
  },
  {
   "cell_type": "code",
   "execution_count": 5,
   "id": "bf02b4a9-ea3a-4af9-84ef-ec2a252c33b1",
   "metadata": {},
   "outputs": [],
   "source": [
    "alameda = gpd.read_file(grl_dir + 'buffer 800m nueva alameda.shp')"
   ]
  },
  {
   "cell_type": "code",
   "execution_count": 6,
   "id": "5753d5b3-767a-47fa-8cd7-d47af63c6f05",
   "metadata": {},
   "outputs": [],
   "source": [
    "poniente = gpd.read_file(grl_dir + 'alameda_poniente.gpkg')"
   ]
  },
  {
   "cell_type": "code",
   "execution_count": 7,
   "id": "9949b691-b8b7-441d-9d8e-1fe1e7e84709",
   "metadata": {},
   "outputs": [],
   "source": [
    "oriente = gpd.read_file(grl_dir + 'alameda_oriente.gpkg')"
   ]
  },
  {
   "cell_type": "code",
   "execution_count": 8,
   "id": "6bf6f723-b4eb-4fd6-bcad-e7e9623c3b54",
   "metadata": {},
   "outputs": [],
   "source": [
    "santiago_viv = gpd.read_file(grl_dir + 'viv_area.gpkg')"
   ]
  },
  {
   "cell_type": "markdown",
   "id": "51ef164b-4afe-493f-8630-8f458429c776",
   "metadata": {},
   "source": [
    "## Hexagons"
   ]
  },
  {
   "cell_type": "code",
   "execution_count": 9,
   "id": "6d3615d2-bfa6-4fbc-895d-59da609fbb61",
   "metadata": {},
   "outputs": [],
   "source": [
    "query = 'SELECT * FROM projects_research.santiago_hexproximity_4_5_kmh WHERE res = 9'"
   ]
  },
  {
   "cell_type": "code",
   "execution_count": 10,
   "id": "ae7bce7c-fda2-4318-afe9-fea5d7748001",
   "metadata": {},
   "outputs": [],
   "source": [
    "hex_gdf = aup.gdf_from_query(query)"
   ]
  },
  {
   "cell_type": "markdown",
   "id": "58294063-d0a1-465a-8885-3cee24c57e3a",
   "metadata": {},
   "source": [
    "## Clip"
   ]
  },
  {
   "cell_type": "code",
   "execution_count": 17,
   "id": "4e1d7679-1884-43aa-b7b9-194cc15b1f3e",
   "metadata": {},
   "outputs": [],
   "source": [
    "df_clip = hex_gdf.drop(columns=['city','res','hex_id','geometry']).mean(axis=0)\n",
    "df_clip = df_clip.reset_index()"
   ]
  },
  {
   "cell_type": "code",
   "execution_count": null,
   "id": "0862ff5f-5901-4694-a07f-53f9b31943f6",
   "metadata": {},
   "outputs": [],
   "source": []
  }
 ],
 "metadata": {
  "kernelspec": {
   "display_name": "odc",
   "language": "python",
   "name": "odc"
  },
  "language_info": {
   "codemirror_mode": {
    "name": "ipython",
    "version": 3
   },
   "file_extension": ".py",
   "mimetype": "text/x-python",
   "name": "python",
   "nbconvert_exporter": "python",
   "pygments_lexer": "ipython3",
   "version": "3.10.4"
  }
 },
 "nbformat": 4,
 "nbformat_minor": 5
}
