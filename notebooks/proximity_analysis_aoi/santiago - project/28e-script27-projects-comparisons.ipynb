{
 "cells": [
  {
   "cell_type": "markdown",
   "id": "43a367ca-48ad-42d6-9479-e5972b766aa9",
   "metadata": {},
   "source": [
    "# Script 27 projects comparisons"
   ]
  },
  {
   "cell_type": "markdown",
   "id": "50cf3e3f-6fc0-4dcb-908c-6108f0dd328e",
   "metadata": {},
   "source": [
    "This notebook has a function that compares the proximity on the baseline network (red_buena_calidad) with the proximity of a project network (e.g. red_buena_calidad_pza_italia) in order to find the reason of undesired results in Script 27.\n",
    "* __Result:__ The reason of undesired results in Script 27a was due to the creation of the Network. Dropping duplicates both in GIS and in code resulted on different connections in the Network and therefore different proximity results.\n",
    "* __New approach:__ It was decided to send the network to Santiago's team and recieve that same network with the pje_ep column for each edge instead of trying to use their local network as a replacement for the OSMnx network. That development can be found in __Notebook 31__.\n",
    "* __Notebook still used to compare results on Script 27b__ (Testing site section)"
   ]
  },
  {
   "cell_type": "markdown",
   "id": "58ea5e07-bad5-4412-84de-b09d53689058",
   "metadata": {},
   "source": [
    "## Import libraries"
   ]
  },
  {
   "cell_type": "code",
   "execution_count": 1,
   "id": "b405feb6-7bc8-45f5-b10d-5b262c26a6f3",
   "metadata": {},
   "outputs": [],
   "source": [
    "accesibilidad_urbana = \"../../../\""
   ]
  },
  {
   "cell_type": "code",
   "execution_count": 2,
   "id": "955f75cf-b9e8-443e-9462-95f555abb068",
   "metadata": {},
   "outputs": [],
   "source": [
    "import os\n",
    "import sys\n",
    "\n",
    "import pandas as pd\n",
    "import geopandas as gpd\n",
    "import osmnx as ox\n",
    "import numpy as np\n",
    "\n",
    "from shapely import Point\n",
    "\n",
    "import matplotlib.pyplot as plt\n",
    "import seaborn as sns\n",
    "\n",
    "import warnings\n",
    "warnings.simplefilter(action='ignore', category=FutureWarning)\n",
    "\n",
    "module_path = os.path.abspath(os.path.join(accesibilidad_urbana))\n",
    "if module_path not in sys.path:\n",
    "    sys.path.append(module_path)\n",
    "    import aup"
   ]
  },
  {
   "cell_type": "markdown",
   "id": "b4cb0e41-ae69-4f64-9108-46118ef76e2a",
   "metadata": {},
   "source": [
    "## Notebook config"
   ]
  },
  {
   "cell_type": "code",
   "execution_count": 3,
   "id": "7e042311-e4a8-4b73-9c90-2e24a3fc98e3",
   "metadata": {},
   "outputs": [],
   "source": [
    "script27_output_dir = accesibilidad_urbana + \"data/external/santiago/output/\""
   ]
  },
  {
   "cell_type": "markdown",
   "id": "2768798a-a170-4ebf-b58a-4fd52db59b54",
   "metadata": {
    "jp-MarkdownHeadingCollapsed": true
   },
   "source": [
    "## Load data"
   ]
  },
  {
   "cell_type": "code",
   "execution_count": 9,
   "id": "c9108bfa-59f1-4a38-a32b-c5f2d7e05e7f",
   "metadata": {},
   "outputs": [],
   "source": [
    "# red_buena_calidad (project_01)\n",
    "baseline_hexproximity = gpd.read_file(script27_output_dir + \"project_01/santiago_hexproximity_project_01.gpkg\")\n",
    "baseline_hexvariablesanalysis = gpd.read_file(script27_output_dir + \"project_01/santiago_hexvariablesanalysis_project_01.gpkg\")\n",
    "baseline_hexanalysis = gpd.read_file(script27_output_dir + \"project_01/santiago_hexanalysis_project_01.gpkg\")\n",
    "\n",
    "# red_buena_calidad_pza_italia (project_02)\n",
    "plazaitalia_hexproximity = gpd.read_file(script27_output_dir + \"project_02/santiago_hexproximity_project_02.gpkg\")\n",
    "plazaitalia_hexvariablesanalysis = gpd.read_file(script27_output_dir + \"project_02/santiago_hexvariablesanalysis_project_02.gpkg\")\n",
    "plazaitalia_hexanalysis = gpd.read_file(script27_output_dir + \"project_02/santiago_hexanalysis_project_02.gpkg\")\n",
    "\n",
    "# red_buena_calidad_norte_sur (project_03)\n",
    "nortesur_hexproximity = gpd.read_file(script27_output_dir + \"project_03/santiago_hexproximity_project_03.gpkg\")\n",
    "nortesur_hexvariablesanalysis = gpd.read_file(script27_output_dir + \"project_03/santiago_hexvariablesanalysis_project_03.gpkg\")\n",
    "nortesur_hexanalysis = gpd.read_file(script27_output_dir + \"project_03/santiago_hexanalysis_project_03.gpkg\")\n",
    "\n",
    "# red_buena_calidad_parque_bueras (project_04)\n",
    "parquebueras_hexproximity = gpd.read_file(script27_output_dir + \"project_04/santiago_hexproximity_project_04.gpkg\")\n",
    "parquebueras_hexvariablesanalysis = gpd.read_file(script27_output_dir + \"project_04/santiago_hexvariablesanalysis_project_04.gpkg\")\n",
    "parquebueras_hexanalysis = gpd.read_file(script27_output_dir + \"project_04/santiago_hexanalysis_project_04.gpkg\")"
   ]
  },
  {
   "cell_type": "code",
   "execution_count": 10,
   "id": "2352d96e-563f-484c-9c28-39e572b91a6d",
   "metadata": {},
   "outputs": [
    {
     "name": "stdout",
     "output_type": "stream",
     "text": [
      "EPSG:4326\n",
      "EPSG:4326\n",
      "EPSG:4326\n"
     ]
    }
   ],
   "source": [
    "print(baseline_hexproximity.crs)\n",
    "print(baseline_hexvariablesanalysis.crs)\n",
    "print(baseline_hexanalysis.crs)"
   ]
  },
  {
   "cell_type": "markdown",
   "id": "aed96acf-5fb6-471a-b538-2f4e88b89fba",
   "metadata": {},
   "source": [
    "## Data comparisons - Proximity"
   ]
  },
  {
   "cell_type": "markdown",
   "id": "bdb8ef20-cd88-4310-9fe7-6a8a0cc65a87",
   "metadata": {},
   "source": [
    "This cell compares the baseline proximity to any given project proximity and saves the result to a gdf. The gdf contains:\n",
    "* The difference for each attribute in a column (for each hex).\n",
    "* Whether there was a possitive (increase) or negative (decrease) change in ANY time or count column (for each hex).\n",
    "\n",
    "__Result:__ There IS a problem. Some hexs (not those directly below project interventions/new node creations) registered more time before the project than after."
   ]
  },
  {
   "cell_type": "markdown",
   "id": "266abf22-3248-4a7a-9a95-5998e5341f38",
   "metadata": {},
   "source": [
    "## Finding problem"
   ]
  },
  {
   "cell_type": "markdown",
   "id": "1614a68b-3378-4e0f-b3da-f4afa7ec2aee",
   "metadata": {},
   "source": [
    "Project_02(plaza italia) presents no problem, while Project_03(norte sur) and Project_04(parque bueras) have problems."
   ]
  },
  {
   "cell_type": "markdown",
   "id": "378f5bf4-8975-4719-b281-206aff95b3d6",
   "metadata": {},
   "source": [
    "### __Testing site__"
   ]
  },
  {
   "cell_type": "markdown",
   "id": "24ffcd08-93d7-4005-ab3c-e8150a2cb2b1",
   "metadata": {},
   "source": [
    "#### Testing site - __Proximity__ comparison"
   ]
  },
  {
   "cell_type": "code",
   "execution_count": 4,
   "id": "6eccfa2e-a428-47b9-adea-f46964a0711b",
   "metadata": {},
   "outputs": [],
   "source": [
    "def compare_proximity(baseline_hexproximity, comparing_project, comparison_id, save):\n",
    "    # ----------\n",
    "    attributes_list = ['carniceria_time','carniceria_count_15min','hogar_time','hogar_count_15min','bakeries_time','bakeries_count_15min',\n",
    "                       'supermercado_time','supermercado_count_15min','banco_time','banco_count_15min','ferias_time','ferias_count_15min',\n",
    "                       'local_mini_market_time','local_mini_market_count_15min','correos_time','correos_count_15min','centro_recyc_time','centro_recyc_count_15min',\n",
    "                       'hospital_priv_time','hospital_priv_count_15min','hospital_pub_time','hospital_pub_count_15min','clinica_priv_time','clinica_priv_count_15min',\n",
    "                       'clinica_pub_time','clinica_pub_count_15min','farmacia_time','farmacia_count_15min','vacunatorio_priv_time','vacunatorio_priv_count_15min',\n",
    "                       'vacunatorio_pub_time','vacunatorio_pub_count_15min','consult_ado_priv_time','consult_ado_priv_count_15min','consult_ado_pub_time','consult_ado_pub_count_15min',\n",
    "                       'salud_mental_time','salud_mental_count_15min','labs_priv_time','labs_priv_count_15min','residencia_adumayor_time','residencia_adumayor_count_15min',\n",
    "                       'eq_deportivo_priv_time','eq_deportivo_priv_count_15min','eq_deportivo_pub_time','eq_deportivo_pub_count_15min','club_deportivo_time','club_deportivo_count_15min',\n",
    "                       'civic_office_time','civic_office_count_15min','tax_collection_time','tax_collection_count_15min','social_security_time','social_security_count_15min',\n",
    "                       'police_time','police_count_15min','bomberos_time','bomberos_count_15min','museos_priv_time','museos_priv_count_15min','museos_pub_time','museos_pub_count_15min',\n",
    "                       'cines_time','cines_count_15min','sitios_historicos_time','sitios_historicos_count_15min','restaurantes_bar_cafe_time','restaurantes_bar_cafe_count_15min',\n",
    "                       'librerias_time','librerias_count_15min','ep_plaza_small_time','ep_plaza_small_count_15min','ep_plaza_big_time','ep_plaza_big_count_15min',\n",
    "                       'edu_basica_pub_time','edu_basica_pub_count_15min','edu_media_pub_time','edu_media_pub_count_15min','jardin_inf_pub_time','jardin_inf_pub_count_15min',\n",
    "                       'universidad_time','universidad_count_15min','edu_tecnica_time','edu_tecnica_count_15min','edu_adultos_pub_time','edu_adultos_pub_count_15min',\n",
    "                       'edu_especial_pub_time','edu_especial_pub_count_15min','bibliotecas_time','bibliotecas_count_15min','centro_edu_amb_time','centro_edu_amb_count_15min',\n",
    "                       'paradas_tp_ruta_time','paradas_tp_ruta_count_15min','paradas_tp_metro_time','paradas_tp_metro_count_15min','paradas_tp_tren_time','paradas_tp_tren_count_15min',\n",
    "                       'ciclovias_time','ciclovias_count_15min','estaciones_bicicletas_time','estaciones_bicicletas_count_15min']\n",
    "    \n",
    "    # ---------- Merge baseline and comparing project data\n",
    "    both_gdfs = pd.merge(baseline_hexproximity,comparing_project[['hex_id']+attributes_list],on='hex_id')\n",
    "    \n",
    "    # ---------- Compare baseline (old) and project (new) attributes, saving the difference in a col and\n",
    "    #            identifying hexs where time or count increased or decreased for any attribute.\n",
    "    \n",
    "    # Set to empty/0\n",
    "    compare_list = []\n",
    "    both_gdfs['time_increase'] = 0\n",
    "    both_gdfs['time_decrease'] = 0\n",
    "    both_gdfs['count_increase'] = 0\n",
    "    both_gdfs['count_decrease'] = 0\n",
    "    both_gdfs['new_availability'] = 0\n",
    "    \n",
    "    # Iterate over each attribute\n",
    "    for attribute in attributes_list:\n",
    "\n",
    "        # Test results skipping restaurants (Before get_seeds solution)\n",
    "        #if (attribute == 'restaurantes_bar_cafe_time') | (attribute == 'restaurantes_bar_cafe_count_15min'):\n",
    "        #    continue\n",
    "    \n",
    "        # Find attribute difference\n",
    "        old_attribute = f\"{attribute}_x\"\n",
    "        new_attribute = f\"{attribute}_y\"\n",
    "        \n",
    "        both_gdfs[f\"{attribute}_diff\"] = both_gdfs[new_attribute] - both_gdfs[old_attribute]\n",
    "        \n",
    "        # Register positive or negative difference\n",
    "        if 'time' in attribute:\n",
    "            idx_1 = both_gdfs[f\"{attribute}_diff\"]>0\n",
    "            both_gdfs.loc[idx_1,'time_increase'] = 1\n",
    "            idx_2 = both_gdfs[f\"{attribute}_diff\"]<0\n",
    "            both_gdfs.loc[idx_2,'time_decrease'] = 1\n",
    "            \n",
    "        elif 'count' in attribute:\n",
    "            idx_3 = both_gdfs[f\"{attribute}_diff\"]>0\n",
    "            both_gdfs.loc[idx_3,'count_increase'] = 1\n",
    "            idx_4 = both_gdfs[f\"{attribute}_diff\"]<0\n",
    "            both_gdfs.loc[idx_4,'count_decrease'] = 1\n",
    "\n",
    "        # Overwrite when the apparition of previously unavailable attributes has an effect on increase of time\n",
    "        if 'time' in attribute:\n",
    "            idx_0 = (both_gdfs[new_attribute]>0) & (both_gdfs[old_attribute]==0)\n",
    "            both_gdfs.loc[idx_0,'time_increase'] = 0\n",
    "            both_gdfs.loc[idx_0,'new_availability'] = 1\n",
    "    \n",
    "    # Save result\n",
    "    if save:\n",
    "        outputs_analysis_dir = accesibilidad_urbana + \"data/external/santiago/outputs_analysis/\"\n",
    "        both_gdfs.to_file(outputs_analysis_dir + f\"comparison_{comparison_id}_proximity_changes.gpkg\", driver='GPKG')\n",
    "\n",
    "    return both_gdfs"
   ]
  },
  {
   "cell_type": "code",
   "execution_count": 5,
   "id": "156d4fb0-c783-4fae-9e4d-cc6d29694091",
   "metadata": {},
   "outputs": [],
   "source": [
    "baseline_hexproximity = gpd.read_file(script27_output_dir + \"project_01_osmnx/santiago_hexproximity_project_01.gpkg\")"
   ]
  },
  {
   "cell_type": "code",
   "execution_count": 15,
   "id": "912d57db-5c98-4d0f-a320-cf6d44dfe63e",
   "metadata": {},
   "outputs": [],
   "source": [
    "comparing_hexproximity = gpd.read_file(script27_output_dir + \"project_04_osmnx/santiago_hexproximity_project_04.gpkg\")"
   ]
  },
  {
   "cell_type": "code",
   "execution_count": 16,
   "id": "321674a7-bbb6-43ed-95f7-1c39fdb6c44f",
   "metadata": {},
   "outputs": [
    {
     "name": "stderr",
     "output_type": "stream",
     "text": [
      "/opt/conda/envs/gds/lib/python3.9/site-packages/geopandas/geodataframe.py:1525: PerformanceWarning: DataFrame is highly fragmented.  This is usually the result of calling `frame.insert` many times, which has poor performance.  Consider joining all columns at once using pd.concat(axis=1) instead. To get a de-fragmented frame, use `newframe = frame.copy()`\n",
      "  super().__setitem__(key, value)\n",
      "/opt/conda/envs/gds/lib/python3.9/site-packages/geopandas/geodataframe.py:1525: PerformanceWarning: DataFrame is highly fragmented.  This is usually the result of calling `frame.insert` many times, which has poor performance.  Consider joining all columns at once using pd.concat(axis=1) instead. To get a de-fragmented frame, use `newframe = frame.copy()`\n",
      "  super().__setitem__(key, value)\n",
      "/opt/conda/envs/gds/lib/python3.9/site-packages/geopandas/geodataframe.py:1525: PerformanceWarning: DataFrame is highly fragmented.  This is usually the result of calling `frame.insert` many times, which has poor performance.  Consider joining all columns at once using pd.concat(axis=1) instead. To get a de-fragmented frame, use `newframe = frame.copy()`\n",
      "  super().__setitem__(key, value)\n",
      "/opt/conda/envs/gds/lib/python3.9/site-packages/geopandas/geodataframe.py:1525: PerformanceWarning: DataFrame is highly fragmented.  This is usually the result of calling `frame.insert` many times, which has poor performance.  Consider joining all columns at once using pd.concat(axis=1) instead. To get a de-fragmented frame, use `newframe = frame.copy()`\n",
      "  super().__setitem__(key, value)\n",
      "/opt/conda/envs/gds/lib/python3.9/site-packages/geopandas/geodataframe.py:1525: PerformanceWarning: DataFrame is highly fragmented.  This is usually the result of calling `frame.insert` many times, which has poor performance.  Consider joining all columns at once using pd.concat(axis=1) instead. To get a de-fragmented frame, use `newframe = frame.copy()`\n",
      "  super().__setitem__(key, value)\n",
      "/opt/conda/envs/gds/lib/python3.9/site-packages/geopandas/geodataframe.py:1525: PerformanceWarning: DataFrame is highly fragmented.  This is usually the result of calling `frame.insert` many times, which has poor performance.  Consider joining all columns at once using pd.concat(axis=1) instead. To get a de-fragmented frame, use `newframe = frame.copy()`\n",
      "  super().__setitem__(key, value)\n",
      "/opt/conda/envs/gds/lib/python3.9/site-packages/geopandas/geodataframe.py:1525: PerformanceWarning: DataFrame is highly fragmented.  This is usually the result of calling `frame.insert` many times, which has poor performance.  Consider joining all columns at once using pd.concat(axis=1) instead. To get a de-fragmented frame, use `newframe = frame.copy()`\n",
      "  super().__setitem__(key, value)\n",
      "/opt/conda/envs/gds/lib/python3.9/site-packages/geopandas/geodataframe.py:1525: PerformanceWarning: DataFrame is highly fragmented.  This is usually the result of calling `frame.insert` many times, which has poor performance.  Consider joining all columns at once using pd.concat(axis=1) instead. To get a de-fragmented frame, use `newframe = frame.copy()`\n",
      "  super().__setitem__(key, value)\n",
      "/opt/conda/envs/gds/lib/python3.9/site-packages/geopandas/geodataframe.py:1525: PerformanceWarning: DataFrame is highly fragmented.  This is usually the result of calling `frame.insert` many times, which has poor performance.  Consider joining all columns at once using pd.concat(axis=1) instead. To get a de-fragmented frame, use `newframe = frame.copy()`\n",
      "  super().__setitem__(key, value)\n",
      "/opt/conda/envs/gds/lib/python3.9/site-packages/geopandas/geodataframe.py:1525: PerformanceWarning: DataFrame is highly fragmented.  This is usually the result of calling `frame.insert` many times, which has poor performance.  Consider joining all columns at once using pd.concat(axis=1) instead. To get a de-fragmented frame, use `newframe = frame.copy()`\n",
      "  super().__setitem__(key, value)\n",
      "/opt/conda/envs/gds/lib/python3.9/site-packages/geopandas/geodataframe.py:1525: PerformanceWarning: DataFrame is highly fragmented.  This is usually the result of calling `frame.insert` many times, which has poor performance.  Consider joining all columns at once using pd.concat(axis=1) instead. To get a de-fragmented frame, use `newframe = frame.copy()`\n",
      "  super().__setitem__(key, value)\n"
     ]
    }
   ],
   "source": [
    "compared = compare_proximity(baseline_hexproximity,comparing_hexproximity,comparison_id='osm_p01vsp04_seedsfix',save=True)\n",
    "\n",
    "# COMPARISON IDS ALREADY EXPLORED:\n",
    "# FROM SCRIPT 27a THE PROBLEM WAS IDENTIFIED AS THE NETWORK. [OUTDATED]\n",
    "# p01vsp02 --> Current situation (Works properly)\n",
    "# p01vsp03 --> Current situation (Has undesired changes in proximity)\n",
    "# p01vsp04 --> Current situation (Has undesired changes in proximity)\n",
    "\n",
    "# Tests on p01(baseline) and p02(Plaza Italia, comparing):\n",
    "# p01vsp02_01rerun --> Rerunning without changing anything test \n",
    "#                  --> Result is same as current situation (Both network and script work properly)\n",
    "\n",
    "# p01vsp02_02redo --> Rerunning after redoing QGIS preprocessing steps \n",
    "#                 --> Result has undesired changes in proximity (QGIS preprocessing is the problem)\n",
    "\n",
    "# p01vsp02_03reorder --> Changing the order with which QGIS preprocessing is done \n",
    "#                    --> Result has undesired changes in proximity (QGIS preprocessing may vary, not reliable)\n",
    "\n",
    "# p01vsp02_04code --> Preprocess within script instead of in QGIS (Required recreating Nearest data)\n",
    "#                 --> Result has a lot of undesired changes in proximity\n",
    "\n",
    "# --------------------------------------\n",
    "# FROM SCRIPT 27b:\n",
    "# osm_p01vsp02 --> Works properly\n",
    "# osm_p01vsp03 --> Appears to have problems in count_decrease and count_increase due to restaurantes_bar_count_15min\n",
    "# osm_p01vsp04 --> Appears to have problems in count_decrease and count_increase due to restaurantes_bar_count_15min\n",
    "\n",
    "# osm_p01vsp03_norestbar --> Analysis without restaurantes_bar_cafe_count_15min. Fixes problems. Problem located in restaurantes_bar_count_15min.\n",
    "# osm_p01vsp04_norestbar --> Analysis without restaurantes_bar_cafe_count_15min. Fixes problems. Problem located in restaurantes_bar_count_15min.\n",
    "\n",
    "# osm_p01vsp03_batchfix --> Changes in aup.pois_time() batch creation --> Did not solve the problem.\n",
    "\n",
    "# osm_p01vsp02_seedsfix -->\n",
    "# osm_p01vsp03_seedsfix -->\n",
    "# osm_p01vsp04_seedsfix -->"
   ]
  },
  {
   "cell_type": "markdown",
   "id": "b5d573b5-1875-4f68-9a63-f0e327d3964b",
   "metadata": {},
   "source": [
    "#### Testing site - __HQSL__ comparison"
   ]
  },
  {
   "cell_type": "code",
   "execution_count": 11,
   "id": "4a958dd8-90e5-4b8c-b213-9696734c3287",
   "metadata": {},
   "outputs": [],
   "source": [
    "def compare_hqsl(baseline_hexanalysis, comparing_project, comparison_id, save):\n",
    "    # ----------\n",
    "    attributes_list = ['hqsl']\n",
    "    \n",
    "    # ---------- Merge baseline and comparing project data\n",
    "    both_gdfs = pd.merge(baseline_hexanalysis,comparing_project[['hex_id']+attributes_list],on='hex_id')\n",
    "    \n",
    "    # ---------- Compare baseline (old) and project (new) attributes, saving the difference in a col and\n",
    "    #            identifying hexs where time or count increased or decreased for any attribute.\n",
    "    \n",
    "    # Set to empty/0\n",
    "    compare_list = []\n",
    "    both_gdfs['hqsl_changes'] = 0\n",
    "    \n",
    "    # Iterate over each attribute\n",
    "    for attribute in attributes_list:\n",
    "    \n",
    "        # Find attribute difference\n",
    "        old_attribute = f\"{attribute}_x\"\n",
    "        new_attribute = f\"{attribute}_y\"\n",
    "        \n",
    "        both_gdfs[f\"{attribute}_diff\"] = both_gdfs[new_attribute] - both_gdfs[old_attribute]\n",
    "        \n",
    "        idx_1 = both_gdfs[f\"{attribute}_diff\"]>0\n",
    "        both_gdfs.loc[idx_1,'hqsl_changes'] = 1\n",
    "        idx_2 = both_gdfs[f\"{attribute}_diff\"]<0\n",
    "        both_gdfs.loc[idx_2,'hqsl_changes'] = -1\n",
    "    \n",
    "    # Save result\n",
    "    if save:\n",
    "        outputs_analysis_dir = accesibilidad_urbana + \"data/external/santiago/outputs_analysis/\"\n",
    "        both_gdfs.to_file(outputs_analysis_dir + f\"comparison_{comparison_id}_hqsl_changes.gpkg\", driver='GPKG')\n",
    "\n",
    "    return both_gdfs"
   ]
  },
  {
   "cell_type": "code",
   "execution_count": 12,
   "id": "3ba07ca2-0b19-4f5f-9ee7-1e0d03a4b2f0",
   "metadata": {},
   "outputs": [],
   "source": [
    "baseline_hexanalysis = gpd.read_file(script27_output_dir + \"project_01_osmnx/santiago_hexanalysis_project_01.gpkg\")"
   ]
  },
  {
   "cell_type": "code",
   "execution_count": 19,
   "id": "887cfc57-fea2-4c99-96fd-45c488c1f702",
   "metadata": {},
   "outputs": [],
   "source": [
    "comparing_hexanalysis = gpd.read_file(script27_output_dir + \"project_04_osmnx/santiago_hexanalysis_project_04.gpkg\")"
   ]
  },
  {
   "cell_type": "code",
   "execution_count": 20,
   "id": "1167f937-4f37-4262-a366-5cccbb061bf0",
   "metadata": {},
   "outputs": [],
   "source": [
    "compared_analysis = compare_hqsl(baseline_hexanalysis,comparing_hexanalysis,comparison_id='osm_p01vsp04_seedsfix',save=True)\n",
    "\n",
    "# COMPARISON IDS ALREADY EXPLORED:\n",
    "# --------------------------------------\n",
    "# FROM SCRIPT 27b:\n",
    "# osm_p01vsp02 --> Presents HQSL decreases\n",
    "# osm_p01vsp03 --> Presents HQSL decreases\n",
    "# osm_p01vsp04 --> Presents HQSL decreases\n",
    "\n",
    "# osm_p01vsp02_seedsfix --> \n",
    "# osm_p01vsp03_seedsfix --> \n",
    "# osm_p01vsp04_seedsfix --> "
   ]
  },
  {
   "cell_type": "markdown",
   "id": "acb597e6-d210-4a68-8125-84fe195e8002",
   "metadata": {
    "jp-MarkdownHeadingCollapsed": true
   },
   "source": [
    "### Finding problem - Test 1: Is the network/code the problem? Or is the problem located in project_03 and project_04 specifically?"
   ]
  },
  {
   "cell_type": "markdown",
   "id": "33698b5c-75e3-4f87-bc34-32964e84d255",
   "metadata": {},
   "source": [
    "* __Approach:__ Re-do network process in QGIS for Project_00(baseline) and project_01(plaza_italia) and re-run __without changing code.__\n",
    "* __Result:__ Re-doing the network and re-running plaza italia resulted in Plaza Italia having problems. But could also be the code, not the network."
   ]
  },
  {
   "cell_type": "markdown",
   "id": "ac5230c4-db18-4ad1-904f-88963ddfc248",
   "metadata": {
    "jp-MarkdownHeadingCollapsed": true
   },
   "source": [
    "### Finding problem - Test 2: Was the algorithm changed between projects?"
   ]
  },
  {
   "cell_type": "markdown",
   "id": "07b3bbce-69af-4c19-bbb3-4133b7620c0e",
   "metadata": {},
   "source": [
    "* __Approach:__ Run Project_00(baseline) and project_01(plaza_italia) again __without changing anything (same old existing network)__ and re-test to see if problems emerge.\n",
    "* __Result:__ Re-using the old network results in the correct result for Plaza Italia. __The problem is located in how the network is created.__"
   ]
  },
  {
   "cell_type": "markdown",
   "id": "d78b4a5a-6f01-4f27-b7ee-6f6e14211a9d",
   "metadata": {
    "jp-MarkdownHeadingCollapsed": true
   },
   "source": [
    "### Finding problem - Test 3: Invert QGIS process"
   ]
  },
  {
   "cell_type": "markdown",
   "id": "a030b60b-3549-4cc6-ac0a-6a8e16fb039f",
   "metadata": {
    "jp-MarkdownHeadingCollapsed": true
   },
   "source": [
    "#### Instead of:\n",
    "1. __Split lines with lines__\n",
    "2. __Vector > Geometry Tools > Multipart to singleparts__\n",
    "3. Extract specific vertices [0,-1]\n",
    "4. MMQGIS Modify > Drop dups\n",
    "#### Do:\n",
    "1. __Vector > Geometry Tools > Multipart to singleparts__\n",
    "2. __Split lines with lines__\n",
    "3. Extract specific vertices [0,-1]\n",
    "4. MMQGIS Modify > Drop dups\n",
    "\n",
    "__Result:__ \"NotImplementedError: Sub-geometries may have coordinate sequences, but multi-part geometries do not\""
   ]
  },
  {
   "cell_type": "markdown",
   "id": "7bc00aaf-ca74-4cc3-9707-d50277c76c1a",
   "metadata": {
    "jp-MarkdownHeadingCollapsed": true
   },
   "source": [
    "### Finding problem - Test 04: Compare working (old) and non-working (re-done) networks."
   ]
  },
  {
   "cell_type": "code",
   "execution_count": 71,
   "id": "11d051d8-5793-413c-8e93-5c038f7cda18",
   "metadata": {},
   "outputs": [],
   "source": [
    "networks_dir = accesibilidad_urbana + \"data/external/santiago/calidad_ep/\"\n",
    "\n",
    "# red_buena_calidad_pza_italia (project_02)\n",
    "project02_original_nodes = gpd.read_file(networks_dir + \"02_red_buena_calidad_pza_italia/red_buena_calidad_pza_italia_nodes.shp\")\n",
    "project02_re_do_nodes = gpd.read_file(networks_dir + \"02_red_buena_calidad_pza_italia/project_02_nodes.shp\")"
   ]
  },
  {
   "cell_type": "code",
   "execution_count": 72,
   "id": "14fbca3c-8747-477f-b53c-5fddd40cebcb",
   "metadata": {},
   "outputs": [
    {
     "name": "stdout",
     "output_type": "stream",
     "text": [
      "(14948, 10)\n",
      "EPSG:32719\n"
     ]
    },
    {
     "data": {
      "text/html": [
       "<div>\n",
       "<style scoped>\n",
       "    .dataframe tbody tr th:only-of-type {\n",
       "        vertical-align: middle;\n",
       "    }\n",
       "\n",
       "    .dataframe tbody tr th {\n",
       "        vertical-align: top;\n",
       "    }\n",
       "\n",
       "    .dataframe thead th {\n",
       "        text-align: right;\n",
       "    }\n",
       "</style>\n",
       "<table border=\"1\" class=\"dataframe\">\n",
       "  <thead>\n",
       "    <tr style=\"text-align: right;\">\n",
       "      <th></th>\n",
       "      <th>fid</th>\n",
       "      <th>Nom_Rut</th>\n",
       "      <th>pje_ep</th>\n",
       "      <th>vertex_pos</th>\n",
       "      <th>vertex_ind</th>\n",
       "      <th>vertex_par</th>\n",
       "      <th>vertex_p_1</th>\n",
       "      <th>distance</th>\n",
       "      <th>angle</th>\n",
       "      <th>geometry</th>\n",
       "    </tr>\n",
       "  </thead>\n",
       "  <tbody>\n",
       "    <tr>\n",
       "      <th>0</th>\n",
       "      <td>1.0</td>\n",
       "      <td>Costanera Sur</td>\n",
       "      <td>0.549756</td>\n",
       "      <td>0</td>\n",
       "      <td>0</td>\n",
       "      <td>0</td>\n",
       "      <td>0</td>\n",
       "      <td>0.0</td>\n",
       "      <td>191.098679</td>\n",
       "      <td>POINT (350915.673 6302582.007)</td>\n",
       "    </tr>\n",
       "  </tbody>\n",
       "</table>\n",
       "</div>"
      ],
      "text/plain": [
       "   fid        Nom_Rut    pje_ep  vertex_pos  vertex_ind  vertex_par   \n",
       "0  1.0  Costanera Sur  0.549756           0           0           0  \\\n",
       "\n",
       "   vertex_p_1  distance       angle                        geometry  \n",
       "0           0       0.0  191.098679  POINT (350915.673 6302582.007)  "
      ]
     },
     "execution_count": 72,
     "metadata": {},
     "output_type": "execute_result"
    }
   ],
   "source": [
    "print(project02_original_nodes.shape)\n",
    "print(project02_original_nodes.crs)\n",
    "project02_original_nodes.head(1)"
   ]
  },
  {
   "cell_type": "code",
   "execution_count": 73,
   "id": "75babf12-e01e-422c-b1e1-ce4a5352244e",
   "metadata": {},
   "outputs": [
    {
     "name": "stdout",
     "output_type": "stream",
     "text": [
      "(14949, 10)\n",
      "EPSG:32719\n"
     ]
    },
    {
     "data": {
      "text/html": [
       "<div>\n",
       "<style scoped>\n",
       "    .dataframe tbody tr th:only-of-type {\n",
       "        vertical-align: middle;\n",
       "    }\n",
       "\n",
       "    .dataframe tbody tr th {\n",
       "        vertical-align: top;\n",
       "    }\n",
       "\n",
       "    .dataframe thead th {\n",
       "        text-align: right;\n",
       "    }\n",
       "</style>\n",
       "<table border=\"1\" class=\"dataframe\">\n",
       "  <thead>\n",
       "    <tr style=\"text-align: right;\">\n",
       "      <th></th>\n",
       "      <th>fid</th>\n",
       "      <th>Nom_Rut</th>\n",
       "      <th>pje_ep</th>\n",
       "      <th>vertex_pos</th>\n",
       "      <th>vertex_ind</th>\n",
       "      <th>vertex_par</th>\n",
       "      <th>vertex_p_1</th>\n",
       "      <th>distance</th>\n",
       "      <th>angle</th>\n",
       "      <th>geometry</th>\n",
       "    </tr>\n",
       "  </thead>\n",
       "  <tbody>\n",
       "    <tr>\n",
       "      <th>0</th>\n",
       "      <td>1.0</td>\n",
       "      <td>Costanera Sur</td>\n",
       "      <td>0.549756</td>\n",
       "      <td>0</td>\n",
       "      <td>0</td>\n",
       "      <td>0</td>\n",
       "      <td>0</td>\n",
       "      <td>0.0</td>\n",
       "      <td>191.098679</td>\n",
       "      <td>POINT (350915.673 6302582.007)</td>\n",
       "    </tr>\n",
       "  </tbody>\n",
       "</table>\n",
       "</div>"
      ],
      "text/plain": [
       "   fid        Nom_Rut    pje_ep  vertex_pos  vertex_ind  vertex_par   \n",
       "0  1.0  Costanera Sur  0.549756           0           0           0  \\\n",
       "\n",
       "   vertex_p_1  distance       angle                        geometry  \n",
       "0           0       0.0  191.098679  POINT (350915.673 6302582.007)  "
      ]
     },
     "execution_count": 73,
     "metadata": {},
     "output_type": "execute_result"
    }
   ],
   "source": [
    "print(project02_re_do_nodes.shape)\n",
    "print(project02_re_do_nodes.crs)\n",
    "project02_re_do_nodes.head(1)"
   ]
  },
  {
   "cell_type": "code",
   "execution_count": 74,
   "id": "76714fd5-6013-4a7d-9b17-6d8821114e00",
   "metadata": {},
   "outputs": [
    {
     "data": {
      "text/plain": [
       "[<POINT (348041.604 6299041.683)>,\n",
       " <POINT (348026.727 6299078.686)>,\n",
       " <POINT (347981.729 6299031.689)>,\n",
       " <POINT (348002.114 6299040.092)>,\n",
       " <POINT (348050.963 6299108.82)>,\n",
       " <POINT (347995.039 6299056.535)>,\n",
       " <POINT (347995.309 6299056.763)>,\n",
       " <POINT (348002.115 6299040.092)>,\n",
       " <POINT (348002.114 6299040.092)>,\n",
       " <POINT (347995.309 6299056.763)>,\n",
       " <POINT (348050.963 6299108.82)>,\n",
       " <POINT (348093.918 6299108.686)>]"
      ]
     },
     "execution_count": 74,
     "metadata": {},
     "output_type": "execute_result"
    }
   ],
   "source": [
    "original_nodes_lst = list(project02_original_nodes.geometry.unique())\n",
    "re_do_nodes_lst = list(project02_re_do_nodes.geometry.unique())\n",
    "\n",
    "geoms_list = []\n",
    "for geom in original_nodes_lst:\n",
    "    if geom not in existing_nodes:\n",
    "        geoms_list.append(geom)\n",
    "\n",
    "geoms_list"
   ]
  },
  {
   "cell_type": "code",
   "execution_count": null,
   "id": "7c512ffe-aa98-4a0b-9e72-85dadd6ae44f",
   "metadata": {},
   "outputs": [],
   "source": [
    "# Find that extra node\n",
    "project02_re_do_nodes.loc[project02_re_do_nodes.geometry==Point(348041.6037999997, 6299041.6832)]"
   ]
  },
  {
   "cell_type": "code",
   "execution_count": null,
   "id": "dc78a59f-1e82-4d56-b6d6-860254fd4072",
   "metadata": {},
   "outputs": [],
   "source": [
    "# Find that extra node\n",
    "project02_re_do_nodes.loc[project02_re_do_nodes.geometry==Point(348026.7271999996, 6299078.6865)]"
   ]
  },
  {
   "cell_type": "code",
   "execution_count": null,
   "id": "c8e467e4-7a11-47c7-93e4-6fa175cbfaf9",
   "metadata": {},
   "outputs": [],
   "source": [
    "# Find nodes with differences between both processes\n",
    "concat = pd.concat([project02_original_nodes,project02_re_do_nodes])\n",
    "dropped = concat.drop_duplicates(keep=False)\n",
    "\n",
    "dropped"
   ]
  },
  {
   "cell_type": "code",
   "execution_count": null,
   "id": "9afd7a21-6610-4b3a-97a4-e0f387dd89fe",
   "metadata": {},
   "outputs": [],
   "source": [
    "# Save resulting nodes\n",
    "dropped.drop(columns='fid',inplace=True)\n",
    "outputs_analysis_dir = accesibilidad_urbana + \"data/external/santiago/outputs_analysis/\"\n",
    "dropped.to_file(outputs_analysis_dir+'project_02_different_nodes.gpkg', driver='GPKG')"
   ]
  },
  {
   "cell_type": "markdown",
   "id": "676bd5de-7a05-4402-a04e-3c1d973529c2",
   "metadata": {},
   "source": [
    "# Script 27b debugging (Restaurantes bar cafe problem)"
   ]
  },
  {
   "cell_type": "markdown",
   "id": "a20a3afb-8df7-4c65-9e46-0ee6dbc0de99",
   "metadata": {},
   "source": [
    "* __Problem:__ The restaurantes_bar_cafes_15min_count changes negatively after implementing projects.\n",
    "* __Result:__ The problem uncovered an unecessary set() in function aup.get_seeds(). The set removed duplicate nodes, so if one node had 3 restaurantes, only 1 was counted while time remained unaffected. The set was removed."
   ]
  },
  {
   "cell_type": "markdown",
   "id": "3994f355-ceaa-4775-9b2b-cf333b9ff926",
   "metadata": {
    "jp-MarkdownHeadingCollapsed": true
   },
   "source": [
    "### Script 27b debugging - Exploration 1: batch size creation in function pois_time()\n",
    "* The problem was believed to be here. It wasn't, but still the code was changed from <__if len(x) % 250:__> to <__if (len(x) % 250) == 0:__>"
   ]
  },
  {
   "cell_type": "code",
   "execution_count": 147,
   "id": "d93fe7b6-8e85-48c0-9537-8cc5bb702054",
   "metadata": {},
   "outputs": [
    {
     "name": "stdout",
     "output_type": "stream",
     "text": [
      "100\n"
     ]
    }
   ],
   "source": [
    "attributes_list = ['carniceria_time','carniceria_count_15min','hogar_time','hogar_count_15min','bakeries_time','bakeries_count_15min',\n",
    "                       'supermercado_time','supermercado_count_15min','banco_time','banco_count_15min','ferias_time','ferias_count_15min',\n",
    "                       'local_mini_market_time','local_mini_market_count_15min','correos_time','correos_count_15min','centro_recyc_time','centro_recyc_count_15min',\n",
    "                       'hospital_priv_time','hospital_priv_count_15min','hospital_pub_time','hospital_pub_count_15min','clinica_priv_time','clinica_priv_count_15min',\n",
    "                       'clinica_pub_time','clinica_pub_count_15min','farmacia_time','farmacia_count_15min','vacunatorio_priv_time','vacunatorio_priv_count_15min',\n",
    "                       'vacunatorio_pub_time','vacunatorio_pub_count_15min','consult_ado_priv_time','consult_ado_priv_count_15min','consult_ado_pub_time','consult_ado_pub_count_15min',\n",
    "                       'salud_mental_time','salud_mental_count_15min','labs_priv_time','labs_priv_count_15min','residencia_adumayor_time','residencia_adumayor_count_15min',\n",
    "                       'eq_deportivo_priv_time','eq_deportivo_priv_count_15min','eq_deportivo_pub_time','eq_deportivo_pub_count_15min','club_deportivo_time','club_deportivo_count_15min',\n",
    "                       'civic_office_time','civic_office_count_15min','tax_collection_time','tax_collection_count_15min','social_security_time','social_security_count_15min',\n",
    "                       'police_time','police_count_15min','bomberos_time','bomberos_count_15min','museos_priv_time','museos_priv_count_15min','museos_pub_time','museos_pub_count_15min',\n",
    "                       'cines_time','cines_count_15min','sitios_historicos_time','sitios_historicos_count_15min','restaurantes_bar_cafe_time','restaurantes_bar_cafe_count_15min',\n",
    "                       'librerias_time','librerias_count_15min','ep_plaza_small_time','ep_plaza_small_count_15min','ep_plaza_big_time','ep_plaza_big_count_15min',\n",
    "                       'edu_basica_pub_time','edu_basica_pub_count_15min','edu_media_pub_time','edu_media_pub_count_15min','jardin_inf_pub_time','jardin_inf_pub_count_15min',\n",
    "                       'universidad_time','universidad_count_15min','edu_tecnica_time','edu_tecnica_count_15min','edu_adultos_pub_time','edu_adultos_pub_count_15min',\n",
    "                       'edu_especial_pub_time','edu_especial_pub_count_15min','bibliotecas_time','bibliotecas_count_15min','centro_edu_amb_time','centro_edu_amb_count_15min',\n",
    "                       'paradas_tp_ruta_time','paradas_tp_ruta_count_15min','paradas_tp_metro_time','paradas_tp_metro_count_15min','paradas_tp_tren_time','paradas_tp_tren_count_15min',\n",
    "                       'ciclovias_time','ciclovias_count_15min']\n",
    "\n",
    "# 499 items\n",
    "#short_list = attributes_list.copy()\n",
    "#short_list.remove('ciclovias_count_15min')\n",
    "#attributes_list = (attributes_list*4)\n",
    "#attributes_list.extend(short_list)\n",
    "\n",
    "# 500 items\n",
    "#attributes_list = attributes_list*5\n",
    "\n",
    "# 501 items\n",
    "#attributes_list = attributes_list*5+['test']\n",
    "print(len(attributes_list))"
   ]
  },
  {
   "cell_type": "code",
   "execution_count": 157,
   "id": "80cf274a-f7bf-4b36-b804-7acee76edf42",
   "metadata": {},
   "outputs": [
    {
     "name": "stdout",
     "output_type": "stream",
     "text": [
      "1486\n"
     ]
    }
   ],
   "source": [
    "# 1486 items\n",
    "extended_list = (attributes_list*15)\n",
    "short_list = extended_list.copy()\n",
    "remove_items = ['edu_especial_pub_time','edu_especial_pub_count_15min','bibliotecas_time','bibliotecas_count_15min','centro_edu_amb_time','centro_edu_amb_count_15min',\n",
    "                'paradas_tp_ruta_time','paradas_tp_ruta_count_15min','paradas_tp_metro_time','paradas_tp_metro_count_15min','paradas_tp_tren_time','paradas_tp_tren_count_15min',\n",
    "                'ciclovias_time','ciclovias_count_15min']\n",
    "for item in remove_items:\n",
    "    short_list.remove(item)\n",
    "test_list = short_list.copy()\n",
    "print(len(test_list))"
   ]
  },
  {
   "cell_type": "code",
   "execution_count": 156,
   "id": "6b303a3a-1cec-4f68-a5a8-7bc18438394d",
   "metadata": {},
   "outputs": [
    {
     "name": "stdout",
     "output_type": "stream",
     "text": [
      "1490\n"
     ]
    }
   ],
   "source": [
    "# 1490 items\n",
    "extended_list = (attributes_list*15)\n",
    "short_list = extended_list.copy()\n",
    "remove_items = ['edu_especial_pub_time','edu_especial_pub_count_15min','bibliotecas_time','bibliotecas_count_15min','centro_edu_amb_time','centro_edu_amb_count_15min',\n",
    "                'paradas_tp_ruta_time','paradas_tp_ruta_count_15min','paradas_tp_metro_time','paradas_tp_metro_count_15min']\n",
    "for item in remove_items:\n",
    "    short_list.remove(item)\n",
    "test_list = short_list.copy()\n",
    "print(len(test_list))"
   ]
  },
  {
   "cell_type": "code",
   "execution_count": 154,
   "id": "0caf74c3-98ca-48db-bd8a-2f88fef992d9",
   "metadata": {},
   "outputs": [
    {
     "name": "stdout",
     "output_type": "stream",
     "text": [
      "Escenario 2\n",
      "6 batches\n",
      "Iteración 0\n",
      "Analysing from 0 to 250. (250 datas).\n",
      "Iteración 1\n",
      "Analysing from 250 to 500. (250 datas).\n",
      "Iteración 2\n",
      "Analysing from 500 to 750. (250 datas).\n",
      "Iteración 3\n",
      "Analysing from 750 to 1000. (250 datas).\n",
      "Iteración 4\n",
      "Analysing from 1000 to 1250. (250 datas).\n",
      "Iteración 5\n",
      "Analysing from 1250 to 1500. (240 datas).\n"
     ]
    }
   ],
   "source": [
    "# If possible, analyses by batches of 200 pois.\n",
    "if (len(test_list) % 250) == 0:\n",
    "    print(\"Escenario 1\")\n",
    "    batch_size = len(test_list)/200\n",
    "    print(f\"{int(batch_size)+1} batches\")\n",
    "    for k in range(int(batch_size)+1):\n",
    "        \n",
    "        print(f\"Iteración {k}\")\n",
    "        source_process = test_list[int(200*k):int(200*(1+k))]\n",
    "        print(f\"Analysing from {int(200*k)} to {int(200*(1+k))}. ({len(source_process)} datas).\")\n",
    "        \n",
    "else:\n",
    "    print(\"Escenario 2\")\n",
    "    batch_size = len(test_list)/250\n",
    "    print(f\"{int(batch_size)+1} batches\")\n",
    "    for k in range(int(batch_size)+1):\n",
    "        \n",
    "        print(f\"Iteración {k}\")\n",
    "        source_process = test_list[int(250*k):int(250*(1+k))]\n",
    "        print(f\"Analysing from {int(250*k)} to {int(250*(1+k))}. ({len(source_process)} datas).\")"
   ]
  },
  {
   "cell_type": "code",
   "execution_count": 158,
   "id": "7468eb0b-bf55-45d5-b34a-890b549486a7",
   "metadata": {},
   "outputs": [
    {
     "name": "stdout",
     "output_type": "stream",
     "text": [
      "8 batches\n",
      "Iteración 0\n",
      "Analysing from 0 to 200. (200 datas).\n",
      "Iteración 1\n",
      "Analysing from 200 to 400. (200 datas).\n",
      "Iteración 2\n",
      "Analysing from 400 to 600. (200 datas).\n",
      "Iteración 3\n",
      "Analysing from 600 to 800. (200 datas).\n",
      "Iteración 4\n",
      "Analysing from 800 to 1000. (200 datas).\n",
      "Iteración 5\n",
      "Analysing from 1000 to 1200. (200 datas).\n",
      "Iteración 6\n",
      "Analysing from 1200 to 1400. (200 datas).\n",
      "Iteración 7\n",
      "Analysing from 1400 to 1600. (86 datas).\n"
     ]
    }
   ],
   "source": [
    "# If possible, analyses by batches of 200 pois.\n",
    "if len(test_list) % 250:\n",
    "    batch_size = len(test_list)/201 # <----------- ADDED +1\n",
    "    print(f\"{int(batch_size)+1} batches\")\n",
    "    for k in range(int(batch_size)+1):\n",
    "        \n",
    "        print(f\"Iteración {k}\")\n",
    "        source_process = test_list[int(200*k):int(200*(1+k))]\n",
    "        print(f\"Analysing from {int(200*k)} to {int(200*(1+k))}. ({len(source_process)} datas).\")\n",
    "        \n",
    "else:\n",
    "    batch_size = len(test_list)/251 # <----------- ADDED +1\n",
    "    print(f\"{int(batch_size)+1} batches\")\n",
    "    for k in range(int(batch_size)+1):\n",
    "        \n",
    "        print(f\"Iteración {k}\")\n",
    "        source_process = test_list[int(250*k):int(250*(1+k))]\n",
    "        print(f\"Analysing from {int(250*k)} to {int(250*(1+k))}. ({len(source_process)} datas).\")"
   ]
  },
  {
   "cell_type": "markdown",
   "id": "7b403adf-c516-4f16-9a18-e435cdb9fec6",
   "metadata": {
    "jp-MarkdownHeadingCollapsed": true
   },
   "source": [
    "### Script 27b debugging - Exploration 2: Restaurantes bar cafe batches\n",
    "* The batches created were extracted and analysed until the set() solution was discovered.\n",
    "* __In order to replicate results__ it would be necessary to save the nearest and nodes_distance_prep (batches) used inside pois_time() for each source."
   ]
  },
  {
   "cell_type": "markdown",
   "id": "44364e8a-e869-4fd7-9ca9-00f67972252a",
   "metadata": {},
   "source": [
    "#### Precalculated nearest"
   ]
  },
  {
   "cell_type": "code",
   "execution_count": 216,
   "id": "2bc3aa0c-1d0c-4be7-9cba-bca9bc16b77a",
   "metadata": {},
   "outputs": [
    {
     "name": "stdout",
     "output_type": "stream",
     "text": [
      "(2370, 20)\n",
      "(1486, 20)\n"
     ]
    },
    {
     "data": {
      "text/html": [
       "<div>\n",
       "<style scoped>\n",
       "    .dataframe tbody tr th:only-of-type {\n",
       "        vertical-align: middle;\n",
       "    }\n",
       "\n",
       "    .dataframe tbody tr th {\n",
       "        vertical-align: top;\n",
       "    }\n",
       "\n",
       "    .dataframe thead th {\n",
       "        text-align: right;\n",
       "    }\n",
       "</style>\n",
       "<table border=\"1\" class=\"dataframe\">\n",
       "  <thead>\n",
       "    <tr style=\"text-align: right;\">\n",
       "      <th></th>\n",
       "      <th>rut</th>\n",
       "      <th>dv</th>\n",
       "      <th>vigenci</th>\n",
       "      <th>fecha</th>\n",
       "      <th>tipo_di</th>\n",
       "      <th>calle</th>\n",
       "      <th>numero</th>\n",
       "      <th>bloque</th>\n",
       "      <th>departa</th>\n",
       "      <th>villa_p</th>\n",
       "      <th>ciudad</th>\n",
       "      <th>comuna</th>\n",
       "      <th>region</th>\n",
       "      <th>sngldrs</th>\n",
       "      <th>empresa</th>\n",
       "      <th>index_right</th>\n",
       "      <th>city</th>\n",
       "      <th>osmid</th>\n",
       "      <th>distance_node</th>\n",
       "      <th>geometry</th>\n",
       "    </tr>\n",
       "  </thead>\n",
       "  <tbody>\n",
       "    <tr>\n",
       "      <th>2367</th>\n",
       "      <td>99533970</td>\n",
       "      <td>6</td>\n",
       "      <td>N</td>\n",
       "      <td>2015-12-24</td>\n",
       "      <td>SUCURSAL</td>\n",
       "      <td>SANCHEZ FONTECILLA</td>\n",
       "      <td>310</td>\n",
       "      <td>None</td>\n",
       "      <td>None</td>\n",
       "      <td>None</td>\n",
       "      <td>SANTIAGO</td>\n",
       "      <td>LAS CONDES</td>\n",
       "      <td>XIII REGION METROPOLITANA</td>\n",
       "      <td>SANCHEZ FONTECILLA 310, LAS CONDES, Chile</td>\n",
       "      <td>INVERSIONES GRS S A</td>\n",
       "      <td>0</td>\n",
       "      <td>alamedabuffer_4500m</td>\n",
       "      <td>2910188259</td>\n",
       "      <td>55.432913</td>\n",
       "      <td>POINT (-70.59839 -33.41998)</td>\n",
       "    </tr>\n",
       "    <tr>\n",
       "      <th>2368</th>\n",
       "      <td>99546720</td>\n",
       "      <td>8</td>\n",
       "      <td>N</td>\n",
       "      <td>2013-05-20</td>\n",
       "      <td>SUCURSAL</td>\n",
       "      <td>COMPANIA DE JESUS</td>\n",
       "      <td>2217</td>\n",
       "      <td>None</td>\n",
       "      <td>None</td>\n",
       "      <td>None</td>\n",
       "      <td>SANTIAGO</td>\n",
       "      <td>SANTIAGO</td>\n",
       "      <td>XIII REGION METROPOLITANA</td>\n",
       "      <td>COMPANIA DE JESUS 2217, SANTIAGO, Chile</td>\n",
       "      <td>COMERCIAL BARRERA HERMANOS SPA</td>\n",
       "      <td>0</td>\n",
       "      <td>alamedabuffer_4500m</td>\n",
       "      <td>253411470</td>\n",
       "      <td>42.685830</td>\n",
       "      <td>POINT (-70.66729 -33.44010)</td>\n",
       "    </tr>\n",
       "  </tbody>\n",
       "</table>\n",
       "</div>"
      ],
      "text/plain": [
       "           rut dv vigenci       fecha   tipo_di               calle numero   \n",
       "2367  99533970  6       N  2015-12-24  SUCURSAL  SANCHEZ FONTECILLA    310  \\\n",
       "2368  99546720  8       N  2013-05-20  SUCURSAL   COMPANIA DE JESUS   2217   \n",
       "\n",
       "     bloque departa villa_p    ciudad      comuna                     region   \n",
       "2367   None    None    None  SANTIAGO  LAS CONDES  XIII REGION METROPOLITANA  \\\n",
       "2368   None    None    None  SANTIAGO    SANTIAGO  XIII REGION METROPOLITANA   \n",
       "\n",
       "                                        sngldrs   \n",
       "2367  SANCHEZ FONTECILLA 310, LAS CONDES, Chile  \\\n",
       "2368    COMPANIA DE JESUS 2217, SANTIAGO, Chile   \n",
       "\n",
       "                             empresa  index_right                 city   \n",
       "2367             INVERSIONES GRS S A            0  alamedabuffer_4500m  \\\n",
       "2368  COMERCIAL BARRERA HERMANOS SPA            0  alamedabuffer_4500m   \n",
       "\n",
       "           osmid  distance_node                     geometry  \n",
       "2367  2910188259      55.432913  POINT (-70.59839 -33.41998)  \n",
       "2368   253411470      42.685830  POINT (-70.66729 -33.44010)  "
      ]
     },
     "execution_count": 216,
     "metadata": {},
     "output_type": "execute_result"
    }
   ],
   "source": [
    "nearest_dir = accesibilidad_urbana + \"data/external/santiago/nearest/\"\n",
    "original_nearest = gpd.read_file(nearest_dir + \"nearest_restaurantes_bar_cafe.gpkg\")\n",
    "print(original_nearest.shape)\n",
    "\n",
    "osmid_check_list = list(red_buena_calidad_nearest.reset_index().osmid.unique())\n",
    "original_nearest = original_nearest.loc[original_nearest.osmid.isin(osmid_check_list)]\n",
    "\n",
    "print(original_nearest.shape)\n",
    "original_nearest.tail(2)"
   ]
  },
  {
   "cell_type": "code",
   "execution_count": 226,
   "id": "3980d732-413b-478e-8db4-04b665c4fa78",
   "metadata": {},
   "outputs": [
    {
     "name": "stdout",
     "output_type": "stream",
     "text": [
      "(250, 20)\n"
     ]
    },
    {
     "data": {
      "text/html": [
       "<div>\n",
       "<style scoped>\n",
       "    .dataframe tbody tr th:only-of-type {\n",
       "        vertical-align: middle;\n",
       "    }\n",
       "\n",
       "    .dataframe tbody tr th {\n",
       "        vertical-align: top;\n",
       "    }\n",
       "\n",
       "    .dataframe thead th {\n",
       "        text-align: right;\n",
       "    }\n",
       "</style>\n",
       "<table border=\"1\" class=\"dataframe\">\n",
       "  <thead>\n",
       "    <tr style=\"text-align: right;\">\n",
       "      <th></th>\n",
       "      <th>rut</th>\n",
       "      <th>dv</th>\n",
       "      <th>vigenci</th>\n",
       "      <th>fecha</th>\n",
       "      <th>tipo_di</th>\n",
       "      <th>calle</th>\n",
       "      <th>numero</th>\n",
       "      <th>bloque</th>\n",
       "      <th>departa</th>\n",
       "      <th>villa_p</th>\n",
       "      <th>ciudad</th>\n",
       "      <th>comuna</th>\n",
       "      <th>region</th>\n",
       "      <th>sngldrs</th>\n",
       "      <th>empresa</th>\n",
       "      <th>index_right</th>\n",
       "      <th>city</th>\n",
       "      <th>osmid</th>\n",
       "      <th>distance_node</th>\n",
       "      <th>geometry</th>\n",
       "    </tr>\n",
       "  </thead>\n",
       "  <tbody>\n",
       "    <tr>\n",
       "      <th>366</th>\n",
       "      <td>76152699</td>\n",
       "      <td>5</td>\n",
       "      <td>S</td>\n",
       "      <td>2016-02-02</td>\n",
       "      <td>SUCURSAL</td>\n",
       "      <td>AV PAJARITOS</td>\n",
       "      <td>4500</td>\n",
       "      <td>None</td>\n",
       "      <td>9</td>\n",
       "      <td>None</td>\n",
       "      <td>SANTIAGO</td>\n",
       "      <td>MAIPU</td>\n",
       "      <td>XIII REGION METROPOLITANA</td>\n",
       "      <td>AV PAJARITOS 4500, MAIPU, Chile</td>\n",
       "      <td>PJ  CHILE SPA</td>\n",
       "      <td>0</td>\n",
       "      <td>alamedabuffer_4500m</td>\n",
       "      <td>443979608</td>\n",
       "      <td>37.375551</td>\n",
       "      <td>POINT (-70.74829 -33.48022)</td>\n",
       "    </tr>\n",
       "  </tbody>\n",
       "</table>\n",
       "</div>"
      ],
      "text/plain": [
       "          rut dv vigenci       fecha   tipo_di         calle numero bloque   \n",
       "366  76152699  5       S  2016-02-02  SUCURSAL  AV PAJARITOS   4500   None  \\\n",
       "\n",
       "    departa villa_p    ciudad comuna                     region   \n",
       "366       9    None  SANTIAGO  MAIPU  XIII REGION METROPOLITANA  \\\n",
       "\n",
       "                             sngldrs        empresa  index_right   \n",
       "366  AV PAJARITOS 4500, MAIPU, Chile  PJ  CHILE SPA            0  \\\n",
       "\n",
       "                    city      osmid  distance_node   \n",
       "366  alamedabuffer_4500m  443979608      37.375551  \\\n",
       "\n",
       "                        geometry  \n",
       "366  POINT (-70.74829 -33.48022)  "
      ]
     },
     "execution_count": 226,
     "metadata": {},
     "output_type": "execute_result"
    }
   ],
   "source": [
    "test = original_nearest.iloc[0:250]\n",
    "print(test.shape)\n",
    "test.tail(1)"
   ]
  },
  {
   "cell_type": "markdown",
   "id": "fdafa5ed-a06f-4274-ab3f-0508f5b7e3ec",
   "metadata": {},
   "source": [
    "#### Red buena calidad"
   ]
  },
  {
   "cell_type": "code",
   "execution_count": 327,
   "id": "2ec1d3e4-6b41-4dee-a4bc-dbfa64214c7a",
   "metadata": {},
   "outputs": [],
   "source": [
    "osmid = 254346788\n",
    "network = 'testarea' #alamedabuffer or testarea"
   ]
  },
  {
   "cell_type": "code",
   "execution_count": 323,
   "id": "bd809a38-e632-4ca5-9bc4-5b410eb61452",
   "metadata": {},
   "outputs": [
    {
     "name": "stdout",
     "output_type": "stream",
     "text": [
      "Batch 0: 1.\n"
     ]
    }
   ],
   "source": [
    "red_buena_calidad_nearest = gpd.read_file(script27_output_dir + f\"red_buena_calidad_batches_{network}/restaurantes_nearest.gpkg\")\n",
    "red_buena_calidad_batch_0 = gpd.read_file(script27_output_dir + f\"red_buena_calidad_batches_{network}/restaurantes_batch0.gpkg\")\n",
    "print(f\"Batch 0: {len(red_buena_calidad_batch_0.loc[red_buena_calidad_batch_0.osmid==osmid])}.\")\n",
    "\n",
    "if network == 'alamedabuffer':\n",
    "    red_buena_calidad_batch_1 = gpd.read_file(script27_output_dir + f\"red_buena_calidad_batches_{network}/restaurantes_batch1.gpkg\")\n",
    "    print(f\"Batch 1: {len(red_buena_calidad_batch_1.loc[red_buena_calidad_batch_1.osmid==osmid])}.\")\n",
    "    red_buena_calidad_batch_2 = gpd.read_file(script27_output_dir + f\"red_buena_calidad_batches_{network}/restaurantes_batch2.gpkg\")\n",
    "    print(f\"Batch 2: {len(red_buena_calidad_batch_2.loc[red_buena_calidad_batch_2.osmid==osmid])}.\")\n",
    "    red_buena_calidad_batch_3 = gpd.read_file(script27_output_dir + f\"red_buena_calidad_batches_{network}/restaurantes_batch3.gpkg\")\n",
    "    print(f\"Batch 3: {len(red_buena_calidad_batch_3.loc[red_buena_calidad_batch_3.osmid==osmid])}.\")\n",
    "    red_buena_calidad_batch_4 = gpd.read_file(script27_output_dir + f\"red_buena_calidad_batches_{network}/restaurantes_batch4.gpkg\")\n",
    "    print(f\"Batch 4: {len(red_buena_calidad_batch_4.loc[red_buena_calidad_batch_4.osmid==osmid])}.\")\n",
    "    red_buena_calidad_batch_5 = gpd.read_file(script27_output_dir + f\"red_buena_calidad_batches_{network}/restaurantes_batch5.gpkg\")\n",
    "    print(f\"Batch 5: {len(red_buena_calidad_batch_5.loc[red_buena_calidad_batch_5.osmid==osmid])}.\")"
   ]
  },
  {
   "cell_type": "code",
   "execution_count": 328,
   "id": "e4d912a0-b687-4542-be77-1fce0f0847a2",
   "metadata": {},
   "outputs": [
    {
     "data": {
      "text/html": [
       "<div>\n",
       "<style scoped>\n",
       "    .dataframe tbody tr th:only-of-type {\n",
       "        vertical-align: middle;\n",
       "    }\n",
       "\n",
       "    .dataframe tbody tr th {\n",
       "        vertical-align: top;\n",
       "    }\n",
       "\n",
       "    .dataframe thead th {\n",
       "        text-align: right;\n",
       "    }\n",
       "</style>\n",
       "<table border=\"1\" class=\"dataframe\">\n",
       "  <thead>\n",
       "    <tr style=\"text-align: right;\">\n",
       "      <th></th>\n",
       "      <th>osmid</th>\n",
       "      <th>index</th>\n",
       "      <th>x</th>\n",
       "      <th>y</th>\n",
       "      <th>street_count</th>\n",
       "      <th>dist_restaurantes_bar_cafe</th>\n",
       "      <th>restaurantes_bar_cafe_15min</th>\n",
       "      <th>geometry</th>\n",
       "    </tr>\n",
       "  </thead>\n",
       "  <tbody>\n",
       "    <tr>\n",
       "      <th>2</th>\n",
       "      <td>254346788</td>\n",
       "      <td>2</td>\n",
       "      <td>-70.674783</td>\n",
       "      <td>-33.434185</td>\n",
       "      <td>4</td>\n",
       "      <td>3.61636</td>\n",
       "      <td>5</td>\n",
       "      <td>POINT (-70.67478 -33.43419)</td>\n",
       "    </tr>\n",
       "  </tbody>\n",
       "</table>\n",
       "</div>"
      ],
      "text/plain": [
       "       osmid  index          x          y  street_count   \n",
       "2  254346788      2 -70.674783 -33.434185             4  \\\n",
       "\n",
       "   dist_restaurantes_bar_cafe  restaurantes_bar_cafe_15min   \n",
       "2                     3.61636                            5  \\\n",
       "\n",
       "                      geometry  \n",
       "2  POINT (-70.67478 -33.43419)  "
      ]
     },
     "execution_count": 328,
     "metadata": {},
     "output_type": "execute_result"
    }
   ],
   "source": [
    "red_buena_calidad_batch_0.loc[red_buena_calidad_batch_0.osmid==osmid]"
   ]
  },
  {
   "cell_type": "code",
   "execution_count": 329,
   "id": "2db21ddd-7e5d-4815-953a-6d09909e5da0",
   "metadata": {},
   "outputs": [
    {
     "data": {
      "text/html": [
       "<div>\n",
       "<style scoped>\n",
       "    .dataframe tbody tr th:only-of-type {\n",
       "        vertical-align: middle;\n",
       "    }\n",
       "\n",
       "    .dataframe tbody tr th {\n",
       "        vertical-align: top;\n",
       "    }\n",
       "\n",
       "    .dataframe thead th {\n",
       "        text-align: right;\n",
       "    }\n",
       "</style>\n",
       "<table border=\"1\" class=\"dataframe\">\n",
       "  <thead>\n",
       "    <tr style=\"text-align: right;\">\n",
       "      <th></th>\n",
       "      <th>osmid</th>\n",
       "      <th>index</th>\n",
       "      <th>x</th>\n",
       "      <th>y</th>\n",
       "      <th>street_count</th>\n",
       "      <th>dist_restaurantes_bar_cafe</th>\n",
       "      <th>restaurantes_bar_cafe_15min</th>\n",
       "      <th>geometry</th>\n",
       "    </tr>\n",
       "  </thead>\n",
       "  <tbody>\n",
       "  </tbody>\n",
       "</table>\n",
       "</div>"
      ],
      "text/plain": [
       "Empty GeoDataFrame\n",
       "Columns: [osmid, index, x, y, street_count, dist_restaurantes_bar_cafe, restaurantes_bar_cafe_15min, geometry]\n",
       "Index: []"
      ]
     },
     "execution_count": 329,
     "metadata": {},
     "output_type": "execute_result"
    }
   ],
   "source": [
    "red_buena_calidad_batch_1.loc[red_buena_calidad_batch_1.osmid==osmid]"
   ]
  },
  {
   "cell_type": "code",
   "execution_count": 317,
   "id": "2f565f00-7b59-46e9-bef5-fa0a5b9f3bc7",
   "metadata": {},
   "outputs": [
    {
     "data": {
      "text/html": [
       "<div>\n",
       "<style scoped>\n",
       "    .dataframe tbody tr th:only-of-type {\n",
       "        vertical-align: middle;\n",
       "    }\n",
       "\n",
       "    .dataframe tbody tr th {\n",
       "        vertical-align: top;\n",
       "    }\n",
       "\n",
       "    .dataframe thead th {\n",
       "        text-align: right;\n",
       "    }\n",
       "</style>\n",
       "<table border=\"1\" class=\"dataframe\">\n",
       "  <thead>\n",
       "    <tr style=\"text-align: right;\">\n",
       "      <th></th>\n",
       "      <th>osmid</th>\n",
       "      <th>index</th>\n",
       "      <th>x</th>\n",
       "      <th>y</th>\n",
       "      <th>street_count</th>\n",
       "      <th>dist_restaurantes_bar_cafe</th>\n",
       "      <th>restaurantes_bar_cafe_15min</th>\n",
       "      <th>geometry</th>\n",
       "    </tr>\n",
       "  </thead>\n",
       "  <tbody>\n",
       "    <tr>\n",
       "      <th>1256</th>\n",
       "      <td>254343802</td>\n",
       "      <td>1522</td>\n",
       "      <td>-70.672945</td>\n",
       "      <td>-33.435041</td>\n",
       "      <td>4</td>\n",
       "      <td>0.0</td>\n",
       "      <td>1</td>\n",
       "      <td>POINT (-70.67295 -33.43504)</td>\n",
       "    </tr>\n",
       "  </tbody>\n",
       "</table>\n",
       "</div>"
      ],
      "text/plain": [
       "          osmid  index          x          y  street_count   \n",
       "1256  254343802   1522 -70.672945 -33.435041             4  \\\n",
       "\n",
       "      dist_restaurantes_bar_cafe  restaurantes_bar_cafe_15min   \n",
       "1256                         0.0                            1  \\\n",
       "\n",
       "                         geometry  \n",
       "1256  POINT (-70.67295 -33.43504)  "
      ]
     },
     "execution_count": 317,
     "metadata": {},
     "output_type": "execute_result"
    }
   ],
   "source": [
    "red_buena_calidad_batch_2.loc[red_buena_calidad_batch_2.osmid==osmid]"
   ]
  },
  {
   "cell_type": "code",
   "execution_count": 318,
   "id": "7ed9feef-6c86-4387-b366-bd25adb24165",
   "metadata": {},
   "outputs": [
    {
     "data": {
      "text/html": [
       "<div>\n",
       "<style scoped>\n",
       "    .dataframe tbody tr th:only-of-type {\n",
       "        vertical-align: middle;\n",
       "    }\n",
       "\n",
       "    .dataframe tbody tr th {\n",
       "        vertical-align: top;\n",
       "    }\n",
       "\n",
       "    .dataframe thead th {\n",
       "        text-align: right;\n",
       "    }\n",
       "</style>\n",
       "<table border=\"1\" class=\"dataframe\">\n",
       "  <thead>\n",
       "    <tr style=\"text-align: right;\">\n",
       "      <th></th>\n",
       "      <th>osmid</th>\n",
       "      <th>index</th>\n",
       "      <th>x</th>\n",
       "      <th>y</th>\n",
       "      <th>street_count</th>\n",
       "      <th>dist_restaurantes_bar_cafe</th>\n",
       "      <th>restaurantes_bar_cafe_15min</th>\n",
       "      <th>geometry</th>\n",
       "    </tr>\n",
       "  </thead>\n",
       "  <tbody>\n",
       "    <tr>\n",
       "      <th>1255</th>\n",
       "      <td>254343802</td>\n",
       "      <td>1522</td>\n",
       "      <td>-70.672945</td>\n",
       "      <td>-33.435041</td>\n",
       "      <td>4</td>\n",
       "      <td>0.0</td>\n",
       "      <td>2</td>\n",
       "      <td>POINT (-70.67295 -33.43504)</td>\n",
       "    </tr>\n",
       "  </tbody>\n",
       "</table>\n",
       "</div>"
      ],
      "text/plain": [
       "          osmid  index          x          y  street_count   \n",
       "1255  254343802   1522 -70.672945 -33.435041             4  \\\n",
       "\n",
       "      dist_restaurantes_bar_cafe  restaurantes_bar_cafe_15min   \n",
       "1255                         0.0                            2  \\\n",
       "\n",
       "                         geometry  \n",
       "1255  POINT (-70.67295 -33.43504)  "
      ]
     },
     "execution_count": 318,
     "metadata": {},
     "output_type": "execute_result"
    }
   ],
   "source": [
    "red_buena_calidad_batch_3.loc[red_buena_calidad_batch_3.osmid==osmid]"
   ]
  },
  {
   "cell_type": "code",
   "execution_count": 330,
   "id": "61a905c5-9e82-436b-a5ef-6be7395441b5",
   "metadata": {},
   "outputs": [
    {
     "data": {
      "text/html": [
       "<div>\n",
       "<style scoped>\n",
       "    .dataframe tbody tr th:only-of-type {\n",
       "        vertical-align: middle;\n",
       "    }\n",
       "\n",
       "    .dataframe tbody tr th {\n",
       "        vertical-align: top;\n",
       "    }\n",
       "\n",
       "    .dataframe thead th {\n",
       "        text-align: right;\n",
       "    }\n",
       "</style>\n",
       "<table border=\"1\" class=\"dataframe\">\n",
       "  <thead>\n",
       "    <tr style=\"text-align: right;\">\n",
       "      <th></th>\n",
       "      <th>osmid</th>\n",
       "      <th>index</th>\n",
       "      <th>x</th>\n",
       "      <th>y</th>\n",
       "      <th>street_count</th>\n",
       "      <th>dist_restaurantes_bar_cafe</th>\n",
       "      <th>restaurantes_bar_cafe_15min</th>\n",
       "      <th>geometry</th>\n",
       "    </tr>\n",
       "  </thead>\n",
       "  <tbody>\n",
       "  </tbody>\n",
       "</table>\n",
       "</div>"
      ],
      "text/plain": [
       "Empty GeoDataFrame\n",
       "Columns: [osmid, index, x, y, street_count, dist_restaurantes_bar_cafe, restaurantes_bar_cafe_15min, geometry]\n",
       "Index: []"
      ]
     },
     "execution_count": 330,
     "metadata": {},
     "output_type": "execute_result"
    }
   ],
   "source": [
    "red_buena_calidad_batch_4.loc[red_buena_calidad_batch_4.osmid==osmid]"
   ]
  },
  {
   "cell_type": "code",
   "execution_count": 331,
   "id": "cd01365d-0c06-4dc0-b7b8-4c8da67d9e99",
   "metadata": {},
   "outputs": [
    {
     "data": {
      "text/html": [
       "<div>\n",
       "<style scoped>\n",
       "    .dataframe tbody tr th:only-of-type {\n",
       "        vertical-align: middle;\n",
       "    }\n",
       "\n",
       "    .dataframe tbody tr th {\n",
       "        vertical-align: top;\n",
       "    }\n",
       "\n",
       "    .dataframe thead th {\n",
       "        text-align: right;\n",
       "    }\n",
       "</style>\n",
       "<table border=\"1\" class=\"dataframe\">\n",
       "  <thead>\n",
       "    <tr style=\"text-align: right;\">\n",
       "      <th></th>\n",
       "      <th>osmid</th>\n",
       "      <th>index</th>\n",
       "      <th>x</th>\n",
       "      <th>y</th>\n",
       "      <th>street_count</th>\n",
       "      <th>dist_restaurantes_bar_cafe</th>\n",
       "      <th>restaurantes_bar_cafe_15min</th>\n",
       "      <th>geometry</th>\n",
       "    </tr>\n",
       "  </thead>\n",
       "  <tbody>\n",
       "  </tbody>\n",
       "</table>\n",
       "</div>"
      ],
      "text/plain": [
       "Empty GeoDataFrame\n",
       "Columns: [osmid, index, x, y, street_count, dist_restaurantes_bar_cafe, restaurantes_bar_cafe_15min, geometry]\n",
       "Index: []"
      ]
     },
     "execution_count": 331,
     "metadata": {},
     "output_type": "execute_result"
    }
   ],
   "source": [
    "red_buena_calidad_batch_5.loc[red_buena_calidad_batch_5.osmid==osmid]"
   ]
  },
  {
   "cell_type": "code",
   "execution_count": 304,
   "id": "645185dd-c18b-47bf-b07c-5cd2ed664d2b",
   "metadata": {},
   "outputs": [
    {
     "name": "stdout",
     "output_type": "stream",
     "text": [
      "4\n",
      "[1176 1468 1497 1585]\n"
     ]
    }
   ],
   "source": [
    "nearest_in_node = red_buena_calidad_nearest.loc[red_buena_calidad_nearest.osmid==osmid]\n",
    "print(len(nearest_in_node))\n",
    "print(nearest_in_node.original_id.unique())"
   ]
  },
  {
   "cell_type": "markdown",
   "id": "c5b6bd78-879c-449c-a41d-93dc7c816cd0",
   "metadata": {},
   "source": [
    "#### Norte sur"
   ]
  },
  {
   "cell_type": "code",
   "execution_count": 187,
   "id": "0e0caa6c-d3af-4c6e-b251-16c62e48b06b",
   "metadata": {},
   "outputs": [],
   "source": [
    "norte_sur_batch_0 = gpd.read_file(script27_output_dir + \"norte_sur_batches/restaurantes_batch0.gpkg\")\n",
    "norte_sur_batch_1 = gpd.read_file(script27_output_dir + \"norte_sur_batches/restaurantes_batch1.gpkg\")\n",
    "norte_sur_batch_2 = gpd.read_file(script27_output_dir + \"norte_sur_batches/restaurantes_batch2.gpkg\")\n",
    "norte_sur_batch_3 = gpd.read_file(script27_output_dir + \"norte_sur_batches/restaurantes_batch3.gpkg\")\n",
    "norte_sur_batch_4 = gpd.read_file(script27_output_dir + \"norte_sur_batches/restaurantes_batch4.gpkg\")\n",
    "norte_sur_batch_5 = gpd.read_file(script27_output_dir + \"norte_sur_batches/restaurantes_batch5.gpkg\")\n",
    "norte_sur_nearest = gpd.read_file(script27_output_dir + \"norte_sur_batches/restaurantes_nearest.gpkg\")"
   ]
  },
  {
   "cell_type": "code",
   "execution_count": 204,
   "id": "d5de2e98-fd84-4fbe-85c7-f076a8b68114",
   "metadata": {},
   "outputs": [
    {
     "name": "stdout",
     "output_type": "stream",
     "text": [
      "4\n",
      "[1176 1468 1497 1585]\n"
     ]
    }
   ],
   "source": [
    "nearest_in_node = norte_sur_nearest.loc[norte_sur_nearest.osmid==osmid]\n",
    "print(len(nearest_in_node))\n",
    "print(nearest_in_node.original_id.unique())"
   ]
  },
  {
   "cell_type": "code",
   "execution_count": 241,
   "id": "8113ff90-e266-46b6-8825-f1a9364cba56",
   "metadata": {},
   "outputs": [
    {
     "name": "stdout",
     "output_type": "stream",
     "text": [
      "0\n",
      "0\n",
      "0\n",
      "1\n",
      "0\n",
      "0\n"
     ]
    }
   ],
   "source": [
    "print(len(norte_sur_batch_0.loc[norte_sur_batch_0.osmid==osmid]))\n",
    "print(len(norte_sur_batch_1.loc[norte_sur_batch_1.osmid==osmid]))\n",
    "print(len(norte_sur_batch_2.loc[norte_sur_batch_2.osmid==osmid]))\n",
    "print(len(norte_sur_batch_3.loc[norte_sur_batch_3.osmid==osmid]))\n",
    "print(len(norte_sur_batch_4.loc[norte_sur_batch_4.osmid==osmid]))\n",
    "print(len(norte_sur_batch_5.loc[norte_sur_batch_5.osmid==osmid]))"
   ]
  },
  {
   "cell_type": "code",
   "execution_count": 242,
   "id": "c81dfa57-539f-4ae0-a1c8-a9e17959f6cc",
   "metadata": {},
   "outputs": [
    {
     "data": {
      "text/html": [
       "<div>\n",
       "<style scoped>\n",
       "    .dataframe tbody tr th:only-of-type {\n",
       "        vertical-align: middle;\n",
       "    }\n",
       "\n",
       "    .dataframe tbody tr th {\n",
       "        vertical-align: top;\n",
       "    }\n",
       "\n",
       "    .dataframe thead th {\n",
       "        text-align: right;\n",
       "    }\n",
       "</style>\n",
       "<table border=\"1\" class=\"dataframe\">\n",
       "  <thead>\n",
       "    <tr style=\"text-align: right;\">\n",
       "      <th></th>\n",
       "      <th>osmid</th>\n",
       "      <th>index</th>\n",
       "      <th>x</th>\n",
       "      <th>y</th>\n",
       "      <th>street_count</th>\n",
       "      <th>dist_restaurantes_bar_cafe</th>\n",
       "      <th>restaurantes_bar_cafe_15min</th>\n",
       "      <th>geometry</th>\n",
       "    </tr>\n",
       "  </thead>\n",
       "  <tbody>\n",
       "    <tr>\n",
       "      <th>1290</th>\n",
       "      <td>254346790</td>\n",
       "      <td>1581</td>\n",
       "      <td>-70.673038</td>\n",
       "      <td>-33.434066</td>\n",
       "      <td>4</td>\n",
       "      <td>1.45068</td>\n",
       "      <td>2</td>\n",
       "      <td>POINT (-70.67304 -33.43407)</td>\n",
       "    </tr>\n",
       "  </tbody>\n",
       "</table>\n",
       "</div>"
      ],
      "text/plain": [
       "          osmid  index          x          y  street_count   \n",
       "1290  254346790   1581 -70.673038 -33.434066             4  \\\n",
       "\n",
       "      dist_restaurantes_bar_cafe  restaurantes_bar_cafe_15min   \n",
       "1290                     1.45068                            2  \\\n",
       "\n",
       "                         geometry  \n",
       "1290  POINT (-70.67304 -33.43407)  "
      ]
     },
     "execution_count": 242,
     "metadata": {},
     "output_type": "execute_result"
    }
   ],
   "source": [
    "norte_sur_batch_3.loc[norte_sur_batch_3.osmid==osmid]"
   ]
  },
  {
   "cell_type": "code",
   "execution_count": null,
   "id": "18bbd4fd-d95a-415e-af69-39066a10c65b",
   "metadata": {},
   "outputs": [],
   "source": []
  }
 ],
 "metadata": {
  "kernelspec": {
   "display_name": "GDS-10.0",
   "language": "python",
   "name": "gds"
  },
  "language_info": {
   "codemirror_mode": {
    "name": "ipython",
    "version": 3
   },
   "file_extension": ".py",
   "mimetype": "text/x-python",
   "name": "python",
   "nbconvert_exporter": "python",
   "pygments_lexer": "ipython3",
   "version": "3.9.18"
  }
 },
 "nbformat": 4,
 "nbformat_minor": 5
}
