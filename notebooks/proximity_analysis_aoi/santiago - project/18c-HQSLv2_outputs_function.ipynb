{
 "cells": [
  {
   "cell_type": "markdown",
   "id": "8446885b-1bcb-47ad-9f19-253552324f8d",
   "metadata": {},
   "source": [
    "# HSQL sums and spider plots"
   ]
  },
  {
   "cell_type": "markdown",
   "id": "55e159b2-d669-4809-a4be-c85b2dcc811c",
   "metadata": {},
   "source": [
    "This notebook takes as input HQSL tables generated on Notebook 17c, produces statistical data and create plots."
   ]
  },
  {
   "cell_type": "markdown",
   "id": "78902ac9-757d-4b90-91c1-97b017351de2",
   "metadata": {},
   "source": [
    "## Import libraries"
   ]
  },
  {
   "cell_type": "code",
   "execution_count": null,
   "id": "696e4fac-7397-4638-8ff4-cda8dc479c85",
   "metadata": {},
   "outputs": [],
   "source": [
    "import geopandas as gpd\n",
    "import pandas as pd\n",
    "import numpy as np\n",
    "\n",
    "import warnings\n",
    "warnings.simplefilter(action='ignore', category=FutureWarning)\n",
    "\n",
    "import seaborn as sns\n",
    "import numpy as np\n",
    "import matplotlib.pyplot as plt\n",
    "\n",
    "import os\n",
    "import sys\n",
    "module_path = os.path.abspath(os.path.join('../../../'))\n",
    "if module_path not in sys.path:\n",
    "    sys.path.append(module_path)\n",
    "    import aup"
   ]
  },
  {
   "cell_type": "code",
   "execution_count": null,
   "id": "7622069b-7eb5-4285-bc83-673bc8639abd",
   "metadata": {},
   "outputs": [],
   "source": [
    "import h3\n",
    "def neighbour_mean(hex_id, hex_id_name, hex_bins, col_name):\n",
    "    return hex_bins.loc[hex_bins[hex_id_name].isin(h3.k_ring(hex_id,1)),col_name].mean()"
   ]
  },
  {
   "cell_type": "markdown",
   "id": "8756ce77-fd7c-49b0-8a2b-ac9ff3cb70f0",
   "metadata": {},
   "source": [
    "## Notebook config"
   ]
  },
  {
   "cell_type": "code",
   "execution_count": null,
   "id": "54b921c8-e5d8-47d5-b181-60a2cd78080f",
   "metadata": {},
   "outputs": [],
   "source": [
    "# Persona speed\n",
    "walking_speed = 4.5\n",
    "str_walking_speed = str(walking_speed).replace('.','_')\n",
    "str_walking_speed\n",
    "\n",
    "# Save plots\n",
    "save_plot = True"
   ]
  },
  {
   "cell_type": "markdown",
   "id": "48444d73-8bb2-4648-8fbc-d7a3ef6b6a02",
   "metadata": {},
   "source": [
    "## Load data"
   ]
  },
  {
   "cell_type": "code",
   "execution_count": null,
   "id": "74573dfd-a2a2-4b1d-9cae-2420069ef7cf",
   "metadata": {},
   "outputs": [],
   "source": [
    "area_dict = {'unidadesvecinales':'COD_UNICO_',\n",
    "            #'zonascensales':'GEOCODI',\n",
    "            'alameda':'name',\n",
    "            'comunas':'Comuna',\n",
    "            'santiago':'nom_region'}"
   ]
  },
  {
   "cell_type": "markdown",
   "id": "57141ad9-bfdf-4bbc-b16f-22b1a8dd1b29",
   "metadata": {},
   "source": [
    "### Load data - Processed variables data"
   ]
  },
  {
   "cell_type": "code",
   "execution_count": null,
   "id": "afab198d-9571-481c-a9ea-51b5602b13c6",
   "metadata": {},
   "outputs": [],
   "source": [
    "hex_prox = gpd.GeoDataFrame()\n",
    "\n",
    "for area in area_dict.keys():\n",
    "    table = f'santiago_{area}variableanalysis_{str_walking_speed}_kmh'\n",
    "    schema = 'projects_research'\n",
    "    gdf_tmp = aup.gdf_from_db(table, schema)\n",
    "    gdf_tmp['name'] = gdf_tmp[area_dict[area]]\n",
    "    if area != 'alameda':\n",
    "        gdf_tmp = gdf_tmp.drop(columns=area_dict[area])\n",
    "    gdf_tmp['area_type'] = area\n",
    "\n",
    "    hex_prox = pd.concat([hex_prox, gdf_tmp],\n",
    "                    ignore_index = True, axis = 0)\n",
    "\n",
    "print(hex_prox.shape)\n",
    "hex_prox.head(2)"
   ]
  },
  {
   "cell_type": "markdown",
   "id": "73048a41-207e-428f-94e2-43113ef7a99b",
   "metadata": {},
   "source": [
    "### Load data - processed HQSL data"
   ]
  },
  {
   "cell_type": "code",
   "execution_count": null,
   "id": "842ee6d1-7072-420d-8a81-83f9865c033e",
   "metadata": {},
   "outputs": [],
   "source": [
    "hex_gdf = gpd.GeoDataFrame()\n",
    "\n",
    "for area in area_dict.keys():\n",
    "    table = f'santiago_{area}analysis_{str_walking_speed}_kmh'\n",
    "    schema = 'projects_research'\n",
    "    gdf_tmp = aup.gdf_from_db(table, schema)\n",
    "    gdf_tmp['name'] = gdf_tmp[area_dict[area]]\n",
    "    if area != 'alameda':\n",
    "        gdf_tmp = gdf_tmp.drop(columns=area_dict[area])\n",
    "    gdf_tmp['area_type'] = area\n",
    "\n",
    "    hex_gdf = pd.concat([hex_gdf, gdf_tmp],\n",
    "                    ignore_index = True, axis = 0)\n",
    "\n",
    "print(hex_gdf.shape)\n",
    "hex_gdf.head(2)"
   ]
  },
  {
   "cell_type": "markdown",
   "id": "3d0cb145-ed02-487a-bc2f-9968f37d30a9",
   "metadata": {},
   "source": [
    "## Parameters dictionary"
   ]
  },
  {
   "cell_type": "code",
   "execution_count": null,
   "id": "9fe26c74-22fc-4925-84b1-f56457baa73d",
   "metadata": {},
   "outputs": [],
   "source": [
    "# --- REQUIRED DATA: parameters dictionary [AS OF 2024 06 28]\n",
    "# Structure: {social_functions:{themes:[source_names]}}\n",
    "parameters_dict = {'supplying':{'wellbeing':['carniceria', #Accessibility to Butcher/Fish Shops\n",
    "                                             'hogar', #Accessibility to Hardware/Paint Shops\n",
    "                                             #Not available: Accessibility to Greengrocers\n",
    "                                             'bakeries', #Accessibility to Bakeries and delis\n",
    "                                             'supermercado',#Accessibility to supermarkets\n",
    "                                             'banco'#Accessibility to bank\n",
    "                                            ],\n",
    "                                'sociability':['ferias',#Accessibility to city fairs/markets\n",
    "                                               'local_mini_market',#Accessibility to local and mini markets\n",
    "                                               'correos'#ADDED: MAIL SERVICE\n",
    "                                              ],\n",
    "                                'environmental_impact':['centro_recyc'#Accessibility to recycling center\n",
    "                                                        #Not available: Accessibility to compost\n",
    "                                                       ]\n",
    "                               },\n",
    "                   'caring':{'wellbeing':['hospital', #Accessibility to hospital\n",
    "                                          'clinica',#Accessibility to public clinics\n",
    "                                          'farmacia',#Accessibility to pharmacies\n",
    "                                          'vacunatorio',#Accessibility to vaccination center\n",
    "                                          'consult_ado',#Accessibility to optician/audiologist(###ADDED DENTIST)\n",
    "                                          'salud_mental',###ADDED: MENTAL HEALTH\n",
    "                                          'labs_priv',###ADDED: LABORATORIES\n",
    "                                          'residencia_adumayor'###ADDED: ELDERLY PERMANENT RESIDENCIES\n",
    "                                         ],\n",
    "                             'sociability':['eq_deportivo',#Accessibility to sports equipments\n",
    "                                            'club_deportivo'#Accessibility to sport clubs\n",
    "                                           ],\n",
    "                             'environmental_impact':['noise',\n",
    "                                                     'temp'\n",
    "                                 #Not available: Air polution\n",
    "                                                    ]\n",
    "                            },\n",
    "                   'living':{'wellbeing':['civic_office',#Accessibility to civic offices\n",
    "                                          #Not available: Number of street bentches\n",
    "                                          'tax_collection',#ADDED: AFIP(TAX COLLECTOR)\n",
    "                                          'social_security',#ADDED: SOCIAL SECURITY\n",
    "                                          'police',#Accessibility to police(###MOVED FROM LIVING TO CARING)\n",
    "                                          'bomberos'#Accessibility to fire stations\n",
    "                                          #Not available: Accessibility to street lamp\n",
    "                                         ],\n",
    "                             'sociability':['houses',#Accessibility to permanent residencies\n",
    "                                            'social_viv',#Accessibility to social housing\n",
    "                                            #Not available: Accessibility to student housing\n",
    "                                            'hotel'#ADDED: HOTELS\n",
    "                                           ],\n",
    "                             'environmental_impact':['inter',\n",
    "                                                     #Not available: Corrected compactness\n",
    "                                                     #Not available: Width of sidewalks\n",
    "                                                    ],\n",
    "                            },\n",
    "                   'enjoying':{'wellbeing':['museos',#Accessibility to museums\n",
    "                                            #Not available: Accessibility to theater,operas\n",
    "                                            'cines',#Accessibility to cinemas\n",
    "                                            'sitios_historicos',#Accessibility to historical places\n",
    "                                            'ndvi'#Number of trees\n",
    "                                           ],\n",
    "                               'sociability':['restaurantes_bar_cafe',#Accessibility to bars/cafes + Accessibility to restaurants\n",
    "                                              'librerias',#Accessibility to record and book stores, galleries, fairs\n",
    "                                              #Not available: Accessibility to cultural and/or formative spaces\n",
    "                                              #Not available: Accessibility to places of workship\n",
    "                                              'ep_plaza_small'#Accessibility to boulevards, linear parks, small squares + Accessibility to squares\n",
    "                                             ],\n",
    "                               'environmental_impact':['ep_plaza_big'#Accessibility to big parks\n",
    "                                                       #Not available: Accessibility to shared gardens\n",
    "                                                       #Not available: Accessibility to urban playgrounds\n",
    "                                                      ]\n",
    "                              },\n",
    "                   'learning':{'wellbeing':['edu_basica_pub',#'edu_basica_priv',#Accessibility to public elementary school\n",
    "                                            'edu_media_pub',#'edu_media_priv',#Accessibility to public high school\n",
    "                                            'jardin_inf_pub',#'jardin_inf_priv',#Similar to Accessibility to childcare\n",
    "                                            'universidad',#Accessibility to university\n",
    "                                            'edu_tecnica',#ADDED: TECHNICAL EDUCATION\n",
    "                                           ],\n",
    "                               'sociability':['edu_adultos_pub',#'edu_adultos_priv',#Accessibility to adult formation centers\n",
    "                                              'edu_especial_pub',#'edu_especial_priv',#Accessibility to specialized educational centers\n",
    "                                              #Not available: Accesibility to establishments and services for disabled adults\n",
    "                                              'bibliotecas'#Accessibility to libraries(###MOVED FROM ENJOYING TO LEARNING)\n",
    "                                             ],\n",
    "                               'environmental_impact':['centro_edu_amb'#Accessibility to centers for learning environmental activities\n",
    "                                                       #Not available: Accessibility to gardening schools\n",
    "                                                      ],\n",
    "                              },\n",
    "                   'working':{'wellbeing':['paradas_tp_ruta',#Accessibility to bus stop\n",
    "                                           'paradas_tp_metro',#Accessibility to metro\n",
    "                                           'paradas_tp_tren'#Accessibility to train stop\n",
    "                                          ],\n",
    "                              'sociability':['oficinas'#Accessibility to office\n",
    "                                             #Not available: Accessibility to incubators\n",
    "                                             #Not available: AccSeveral other articles cite 60dB as a safe noise zone. essibility to coworking places\n",
    "                                          ],\n",
    "                              \n",
    "                              'environmental_impact':['ciclovias',\n",
    "                                                      'estaciones_bicicletas'#Accessibility to bike lanes\n",
    "                                                      #Not available: Accessibility to shared bike stations\n",
    "                                                     ]\n",
    "                             }\n",
    "                  }"
   ]
  },
  {
   "cell_type": "markdown",
   "id": "729051d5-78de-40ef-82ce-2b18cc797f8e",
   "metadata": {},
   "source": [
    "## __Spatial area__ analysis"
   ]
  },
  {
   "cell_type": "markdown",
   "id": "ce6de77f-dc2d-4318-9f68-d2791bf494f5",
   "metadata": {},
   "source": [
    "### Baseline data"
   ]
  },
  {
   "cell_type": "code",
   "execution_count": null,
   "id": "8b32cf19-d8d3-4782-8eba-ea4508608c32",
   "metadata": {},
   "outputs": [],
   "source": [
    "baseline = 'alameda'\n",
    "\n",
    "hex_baseline = hex_gdf.loc[hex_gdf.name==baseline].copy()\n",
    "\n",
    "print(hex_baseline.shape)\n",
    "hex_baseline.head(2)"
   ]
  },
  {
   "cell_type": "markdown",
   "id": "fdf85cf7-3794-4361-bccb-83eee6f4aa28",
   "metadata": {},
   "source": [
    "### __Data analysis 3__ - Polar plots"
   ]
  },
  {
   "cell_type": "markdown",
   "id": "aa774c87-5764-4d0d-b1e6-f4bb39b375fa",
   "metadata": {},
   "source": [
    "#### Libraries used for polar plots"
   ]
  },
  {
   "cell_type": "code",
   "execution_count": null,
   "id": "430cf580-3bfa-4f8b-a9f3-5cadfc423654",
   "metadata": {},
   "outputs": [],
   "source": [
    "import textwrap\n",
    "import matplotlib.patheffects as pe\n",
    "from matplotlib.lines import Line2D\n",
    "import math #importing the math functions\n",
    "import matplotlib.pyplot as plt"
   ]
  },
  {
   "cell_type": "markdown",
   "id": "e0ff2e10-f848-401d-a5e3-3aa6861844f7",
   "metadata": {},
   "source": [
    "## Functions and definitions used for polar plots"
   ]
  },
  {
   "cell_type": "code",
   "execution_count": null,
   "id": "58cef95c-a37c-4b77-a3f8-770d4b2e6de4",
   "metadata": {},
   "outputs": [],
   "source": [
    "def wrap_labels(ax, width, rotation, break_long_words=False):\n",
    "    labels = []\n",
    "    for label in ax.get_xticklabels():\n",
    "        text = label.get_text()\n",
    "        labels.append(textwrap.fill(text, width=width,\n",
    "                      break_long_words=break_long_words))\n",
    "    ax.set_xticklabels(labels, rotation=rotation, )\n",
    "\n",
    "def make_spider(df, row, color, title, alpha, linewidth, zorder, max_graph_value, graph_div, linestyle='solid', fill=True):\n",
    "    \n",
    "    categories=list(df)[0:]\n",
    "    N = len(categories)\n",
    "\n",
    "    \n",
    "    angles = [n / float(N) * 2 * pi for n in range(N)]\n",
    "    angles += angles[:1]\n",
    "     \n",
    "    plt.rc('figure', figsize=(5, 5), )\n",
    " \n",
    "    ax = plt.subplot(1,1,1, polar=True, )\n",
    " \n",
    "    ax.set_theta_offset(pi / 2)\n",
    "    ax.set_theta_direction(-1)\n",
    " \n",
    "   \n",
    "    plt.xticks(angles[:-1], categories, color='black', size=8,zorder=10)\n",
    "    ax.tick_params(axis='x', rotation=0,pad=10, zorder=10)\n",
    "    # ax.set_xlabel(labelpad=10)\n",
    "    \n",
    "    ax.set_rlabel_position(0)\n",
    "    yticks = [i for i in range(0,max_graph_value+1, graph_div)]\n",
    "    yticks_lab = [str(y) for y in yticks]\n",
    "    plt.yticks(yticks, yticks_lab, color=\"black\", size=10, zorder=10)\n",
    "    plt.ylim(0,max_graph_value)\n",
    "     \n",
    "    \n",
    "    values=df.reset_index().loc[row].values.tolist()[1:]\n",
    "    values += values[:1]\n",
    "    ax.plot(angles, values, color = color, linewidth=linewidth, linestyle=linestyle, marker=\"o\")\n",
    "    if fill:\n",
    "        ax.fill(angles, values, color = color, alpha = alpha, zorder=zorder)\n",
    "         \n",
    "    wrap_labels(ax, 15, 0)\n",
    "  \n",
    "    # title = \"Radar showing performance in each subject for \"+ title\n",
    "    # plt.title(title, fontsize=10, x = 0.5, y = 1.1)\n",
    "\n",
    "pi = math.pi"
   ]
  },
  {
   "cell_type": "markdown",
   "id": "388ba55b-4a6a-48b6-8450-50e85f518280",
   "metadata": {},
   "source": [
    "## Functions and definitions for iterative plotting"
   ]
  },
  {
   "cell_type": "code",
   "execution_count": null,
   "id": "657eb56a-3c41-4623-855f-e1c630ddc8d6",
   "metadata": {},
   "outputs": [],
   "source": [
    "def social_fn_variables_graph(gdf_prox, area_name, area_type, parameters_dict, save_plot=False):\n",
    "    for social_fn_graph in parameters_dict.keys():\n",
    "        plt.figure()\n",
    "    \n",
    "        metric_list = []\n",
    "    \n",
    "        # Convert social function 'sf_count_15min' name to 'sf_scaledcount' name\n",
    "        for val in parameters_dict[social_fn_graph].values():\n",
    "            for v in val:\n",
    "                metric_list.append(v+'_scaled')\n",
    "    \n",
    "        # Get mean values for values of interest\n",
    "        gdf_polar = gdf_prox.loc[gdf_prox.name==area_name,metric_list].mean(axis=0)\n",
    "    \n",
    "        # Convert to df and pivot table\n",
    "        df = gdf_polar.copy()\n",
    "        df = pd.DataFrame(df).reset_index()\n",
    "        df.index = [0]*len(df)\n",
    "        df = df.rename(columns={'index':social_fn_graph, 0:'value'})\n",
    "        df = df.pivot(columns=social_fn_graph, values='value')\n",
    "    \n",
    "        # Convert 'metric_scaledcount names' to 'metric' for plot\n",
    "        for val in parameters_dict[social_fn_graph].values():\n",
    "            for v in val:\n",
    "                df = df.rename(columns={v+'_scaledcount':v})\n",
    "\n",
    "        color = '#599fd5'\n",
    "        # Graph\n",
    "        make_spider(row=0, df = df, title = area, \n",
    "                    color = color, alpha=0.5, linewidth=1, zorder=-1,\n",
    "                    max_graph_value = 10, graph_div = 2)\n",
    "    \n",
    "        # Save\n",
    "        if save_plot:\n",
    "            plt.savefig(f'../../../output/figures/santiago/polar_plots/{str_walking_speed}_{area_type}/Social_Fn/SocialFunctions_{area_name}_{social_fn_graph}.svg')"
   ]
  },
  {
   "cell_type": "code",
   "execution_count": null,
   "id": "7f6fa8b4-7bf3-45cb-be4b-339c5f6eb65e",
   "metadata": {},
   "outputs": [],
   "source": [
    "def hqsl_graph(gdf, area_name, area_type, baseline_gdf, save_plot=False):\n",
    "    df, df_baseline = create_graph_df(gdf, area_name, area_type, baseline_gdf)\n",
    "    create_spider_graph(df, df_baseline, area_name, area_type, save_plot=save_plot)\n",
    "\n",
    "def create_graph_df(gdf, area_name, area_type, baseline_gdf):\n",
    "    summary_cols = ['supplying','caring','living',\n",
    "               'enjoying','learning','working']\n",
    "    gdf_polar = gdf[summary_cols].mean(axis=0)\n",
    "    gdf_baseline = baseline_gdf[summary_cols].mean(axis=0)\n",
    "\n",
    "    # Convert to df and pivot table\n",
    "    df = gdf_polar.copy()\n",
    "    df = pd.DataFrame(df).reset_index()\n",
    "    df.index = [0]*len(df)\n",
    "    df = df.rename(columns={'index':'social_fn',0:'value'})\n",
    "    df = df.pivot(columns='social_fn', values='value')\n",
    "    # baseline data\n",
    "    df_baseline = gdf_baseline.copy()\n",
    "    df_baseline = pd.DataFrame(df_baseline).reset_index()\n",
    "    df_baseline.index = [0]*len(df_baseline)\n",
    "    df_baseline = df_baseline.rename(columns={'index':'social_fn',0:'value'})\n",
    "    df_baseline = df_baseline.pivot(columns='social_fn', values='value')\n",
    "    \n",
    "    return df, df_baseline\n",
    "\n",
    "def create_spider_graph(df, df_baseline, area_name, area_type, save_plot=False):\n",
    "    plt.figure()\n",
    "    # Convert 'sf_scaledcount names' to 'sf' for plot\n",
    "    df = df.rename(columns={'caring':'Caring',\n",
    "                           'working':'Working',\n",
    "                           'enjoying':'Enjoying',\n",
    "                           'supplying':'Supplying',\n",
    "                            'living':'Living',\n",
    "                            'learning':'Learning'})\n",
    "    \n",
    "    df_baseline = df_baseline.rename(columns={'caring':'Caring',\n",
    "                           'working':'Working',\n",
    "                           'enjoying':'Enjoying',\n",
    "                           'supplying':'Supplying',\n",
    "                            'living':'Living',\n",
    "                            'learning':'Learning'})\n",
    "    # Graph\n",
    "    color = '#599fd5'\n",
    "    make_spider(row=0, df = df, title = area_name, \n",
    "                color = color, alpha=0.5, linewidth=1, zorder=-1,\n",
    "                max_graph_value = 10, graph_div = 2)\n",
    "    \n",
    "    \n",
    "    color = '#090e19'\n",
    "    make_spider(row=0, df = df_baseline, title = 'Alameda', \n",
    "                color = color, alpha=0.5, linewidth=1, zorder=-1,\n",
    "                max_graph_value = 10, graph_div = 2, linestyle='dashed', fill=False)\n",
    "    \n",
    "    # Save\n",
    "    if save_plot:\n",
    "        plt.savefig(f'../../../output/figures/santiago/polar_plots/{str_walking_speed}_{area_type}/SocialFunctions_{area_name}.svg')\n"
   ]
  },
  {
   "cell_type": "code",
   "execution_count": null,
   "id": "d1ea6a30-d011-40b3-a4e6-8884b499500f",
   "metadata": {},
   "outputs": [],
   "source": [
    "def indicator_graph(gdf, area_name,area_type, save_plot=False):\n",
    "    summary_cols = ['wellbeing','sociability','environmental_impact']\n",
    "    gdf_polar =  gdf[summary_cols].mean(axis=0)\n",
    "    # Convert to df and pivot table\n",
    "    df = gdf_polar.copy()\n",
    "    df = pd.DataFrame(df).reset_index()\n",
    "    df.index = [0]*len(df)\n",
    "    df = df.rename(columns={'index':'indicator',0:'value'})\n",
    "    df = df.pivot(columns='indicator', values='value')\n",
    "\n",
    "    plt.figure()\n",
    "    sns.barplot(df)\n",
    "    if save_plot:\n",
    "        plt.savefig(f'../../../output/figures/santiago/polar_plots/{str_walking_speed}_{area_type}/Indicators_{area_name}.svg')"
   ]
  },
  {
   "cell_type": "code",
   "execution_count": null,
   "id": "a5a78164-c4e3-43a7-9e9f-af42b59c2faf",
   "metadata": {},
   "outputs": [],
   "source": [
    "hex_gdf.loc[hex_gdf.area_type=='santiago']"
   ]
  },
  {
   "cell_type": "markdown",
   "id": "79621fcd-dabb-464f-ab9c-c049eae4f5b9",
   "metadata": {},
   "source": [
    "## Plotting"
   ]
  },
  {
   "cell_type": "code",
   "execution_count": null,
   "id": "631935e4-1481-43a2-b7ae-9e3bc7b53b08",
   "metadata": {
    "scrolled": true
   },
   "outputs": [],
   "source": [
    "# if area='Unidades vecinales', CHOOSE UNIDAD VECINAL HERE.\n",
    "# else, chosen unidad_vecinal doesn't matter.\n",
    "# unidades vecinales: ['13123_14','13101_49','13101_18','13101_13','13106_22','13106_12',\n",
    "#              '13106_06','13106_18','13106_17','13101_3']\n",
    "code_column = 'name'\n",
    "\n",
    "plot_dict = {'unidadesvecinales':['13101_15','13101_18','13101_3',\n",
    "                                 '13101_49','13106_08','13106_11_A',\n",
    "                                 '13106_17','13117_19','13123_14'],\n",
    "            'alameda':['alameda','alameda_poniente','alameda_oriente'],\n",
    "            'comunas': ['Pedro Aguirre Cerda',\n",
    "                       'Providencia','Las Condes',\n",
    "                       'Quilicura','La Florida'],\n",
    "            'santiago':['Metropolitana de Santiago']} # Area Urbana La Florida, Area Urbana Las Condes, Providencia, Pedro Aguirre Cerda, Area Urbana Quilicura\n",
    "\n",
    "plot_dict = {'santiago':['Metropolitana de Santiago']} \n",
    "\n",
    "for area_type in plot_dict.keys():\n",
    "    for area_name in plot_dict[area_type]:\n",
    "\n",
    "        gdf = hex_gdf.loc[hex_gdf[code_column]==area_name].copy()\n",
    "\n",
    "        hqsl_graph(gdf, area_name, area_type, hex_baseline, save_plot=save_plot)\n",
    "        \n",
    "        indicator_graph(gdf, area_name, area_type, save_plot=save_plot)\n",
    "        \n",
    "        social_fn_variables_graph(hex_prox, area_name, area_type, parameters_dict, save_plot=save_plot)\n",
    "\n",
    "        print('Finished plotting',area_type,':',area_name)\n"
   ]
  },
  {
   "cell_type": "markdown",
   "id": "e22b455a-a3e2-4eca-9900-e65a92b946e5",
   "metadata": {},
   "source": [
    "## Export indicator table"
   ]
  },
  {
   "cell_type": "code",
   "execution_count": null,
   "id": "76b87ff7-abe0-478e-b32d-8eff77e2698d",
   "metadata": {},
   "outputs": [],
   "source": [
    "hex_gdf[['environmental_impact','sociability','wellbeing','name','area_type']].to_csv('../../../output/data/santiago/indicators_by_area.csv')"
   ]
  },
  {
   "cell_type": "code",
   "execution_count": null,
   "id": "8bc9f4e8-1708-4b3a-bdce-d3c77e686bd8",
   "metadata": {},
   "outputs": [],
   "source": []
  }
 ],
 "metadata": {
  "kernelspec": {
   "display_name": "GDS-10.0",
   "language": "python",
   "name": "gds"
  },
  "language_info": {
   "codemirror_mode": {
    "name": "ipython",
    "version": 3
   },
   "file_extension": ".py",
   "mimetype": "text/x-python",
   "name": "python",
   "nbconvert_exporter": "python",
   "pygments_lexer": "ipython3",
   "version": "3.9.18"
  }
 },
 "nbformat": 4,
 "nbformat_minor": 5
}
