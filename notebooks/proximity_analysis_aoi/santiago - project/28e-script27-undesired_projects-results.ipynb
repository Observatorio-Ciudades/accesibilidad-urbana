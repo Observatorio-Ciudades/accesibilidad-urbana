{
 "cells": [
  {
   "cell_type": "markdown",
   "id": "43a367ca-48ad-42d6-9479-e5972b766aa9",
   "metadata": {},
   "source": [
    "# Script 27 undesired projects results"
   ]
  },
  {
   "cell_type": "markdown",
   "id": "50cf3e3f-6fc0-4dcb-908c-6108f0dd328e",
   "metadata": {},
   "source": [
    "Section 'Plan A' has a function that compares the proximity on the baseline network (red_buena_calidad) with the proximity of a project network (e.g. red_buena_calidad_pza_italia) in order to find the reason of undesired results.\n",
    "* __Result:__ The reason was due to the creation of the Network. Dropping duplicates both in GIS and in code resulted on different connections in the Network and therefore different proximity results. It was decided to follow Plan B.\n",
    "\n",
    "Section 'Plan B' prepares the OSMnx Network in the area of interest in order to send the network to Santiago's team and recieve that same network with the pje_ep column for each edge. Then the result is merged with the original OSMnx network to keep it's columns and duplicates are dropped.\n",
    "* __Result:__ This created layer 'osmnx_pje_ep_nodups', used in Script 27."
   ]
  },
  {
   "cell_type": "markdown",
   "id": "58ea5e07-bad5-4412-84de-b09d53689058",
   "metadata": {},
   "source": [
    "## Import libraries"
   ]
  },
  {
   "cell_type": "code",
   "execution_count": 1,
   "id": "b405feb6-7bc8-45f5-b10d-5b262c26a6f3",
   "metadata": {},
   "outputs": [],
   "source": [
    "accesibilidad_urbana = \"../../../\""
   ]
  },
  {
   "cell_type": "code",
   "execution_count": 2,
   "id": "955f75cf-b9e8-443e-9462-95f555abb068",
   "metadata": {},
   "outputs": [],
   "source": [
    "import os\n",
    "import sys\n",
    "\n",
    "import pandas as pd\n",
    "import geopandas as gpd\n",
    "import osmnx as ox\n",
    "import numpy as np\n",
    "\n",
    "from shapely import Point\n",
    "\n",
    "import matplotlib.pyplot as plt\n",
    "import seaborn as sns\n",
    "\n",
    "import warnings\n",
    "warnings.simplefilter(action='ignore', category=FutureWarning)\n",
    "\n",
    "module_path = os.path.abspath(os.path.join(accesibilidad_urbana))\n",
    "if module_path not in sys.path:\n",
    "    sys.path.append(module_path)\n",
    "    import aup"
   ]
  },
  {
   "cell_type": "markdown",
   "id": "49bfced8-7573-4d58-bd14-179e59056961",
   "metadata": {},
   "source": [
    "# Plan A: Translate Santiago's local street network to navigable network Proximity results"
   ]
  },
  {
   "cell_type": "markdown",
   "id": "b4cb0e41-ae69-4f64-9108-46118ef76e2a",
   "metadata": {
    "jp-MarkdownHeadingCollapsed": true
   },
   "source": [
    "## Notebook config"
   ]
  },
  {
   "cell_type": "code",
   "execution_count": 3,
   "id": "7e042311-e4a8-4b73-9c90-2e24a3fc98e3",
   "metadata": {},
   "outputs": [],
   "source": [
    "script27_output_dir = accesibilidad_urbana + \"data/external/santiago/output/\""
   ]
  },
  {
   "cell_type": "markdown",
   "id": "2768798a-a170-4ebf-b58a-4fd52db59b54",
   "metadata": {
    "jp-MarkdownHeadingCollapsed": true
   },
   "source": [
    "## Load data"
   ]
  },
  {
   "cell_type": "code",
   "execution_count": 9,
   "id": "c9108bfa-59f1-4a38-a32b-c5f2d7e05e7f",
   "metadata": {},
   "outputs": [],
   "source": [
    "# red_buena_calidad (project_01)\n",
    "baseline_hexproximity = gpd.read_file(script27_output_dir + \"project_01/santiago_hexproximity_project_01.gpkg\")\n",
    "baseline_hexvariablesanalysis = gpd.read_file(script27_output_dir + \"project_01/santiago_hexvariablesanalysis_project_01.gpkg\")\n",
    "baseline_hexanalysis = gpd.read_file(script27_output_dir + \"project_01/santiago_hexanalysis_project_01.gpkg\")\n",
    "\n",
    "# red_buena_calidad_pza_italia (project_02)\n",
    "plazaitalia_hexproximity = gpd.read_file(script27_output_dir + \"project_02/santiago_hexproximity_project_02.gpkg\")\n",
    "plazaitalia_hexvariablesanalysis = gpd.read_file(script27_output_dir + \"project_02/santiago_hexvariablesanalysis_project_02.gpkg\")\n",
    "plazaitalia_hexanalysis = gpd.read_file(script27_output_dir + \"project_02/santiago_hexanalysis_project_02.gpkg\")\n",
    "\n",
    "# red_buena_calidad_norte_sur (project_03)\n",
    "nortesur_hexproximity = gpd.read_file(script27_output_dir + \"project_03/santiago_hexproximity_project_03.gpkg\")\n",
    "nortesur_hexvariablesanalysis = gpd.read_file(script27_output_dir + \"project_03/santiago_hexvariablesanalysis_project_03.gpkg\")\n",
    "nortesur_hexanalysis = gpd.read_file(script27_output_dir + \"project_03/santiago_hexanalysis_project_03.gpkg\")\n",
    "\n",
    "# red_buena_calidad_parque_bueras (project_04)\n",
    "parquebueras_hexproximity = gpd.read_file(script27_output_dir + \"project_04/santiago_hexproximity_project_04.gpkg\")\n",
    "parquebueras_hexvariablesanalysis = gpd.read_file(script27_output_dir + \"project_04/santiago_hexvariablesanalysis_project_04.gpkg\")\n",
    "parquebueras_hexanalysis = gpd.read_file(script27_output_dir + \"project_04/santiago_hexanalysis_project_04.gpkg\")"
   ]
  },
  {
   "cell_type": "code",
   "execution_count": 10,
   "id": "2352d96e-563f-484c-9c28-39e572b91a6d",
   "metadata": {},
   "outputs": [
    {
     "name": "stdout",
     "output_type": "stream",
     "text": [
      "EPSG:4326\n",
      "EPSG:4326\n",
      "EPSG:4326\n"
     ]
    }
   ],
   "source": [
    "print(baseline_hexproximity.crs)\n",
    "print(baseline_hexvariablesanalysis.crs)\n",
    "print(baseline_hexanalysis.crs)"
   ]
  },
  {
   "cell_type": "markdown",
   "id": "aed96acf-5fb6-471a-b538-2f4e88b89fba",
   "metadata": {
    "jp-MarkdownHeadingCollapsed": true
   },
   "source": [
    "## Data comparisons - Proximity"
   ]
  },
  {
   "cell_type": "markdown",
   "id": "bdb8ef20-cd88-4310-9fe7-6a8a0cc65a87",
   "metadata": {},
   "source": [
    "This cell compares the baseline proximity to any given project proximity and saves the result to a gdf. The gdf contains:\n",
    "* The difference for each attribute in a column (for each hex).\n",
    "* Whether there was a possitive (increase) or negative (decrease) change in ANY time or count column (for each hex).\n",
    "\n",
    "__Result:__ There IS a problem. Some hexs (not those directly below project interventions/new node creations) registered more time before the project than after."
   ]
  },
  {
   "cell_type": "markdown",
   "id": "266abf22-3248-4a7a-9a95-5998e5341f38",
   "metadata": {
    "jp-MarkdownHeadingCollapsed": true
   },
   "source": [
    "## Finding problem"
   ]
  },
  {
   "cell_type": "markdown",
   "id": "1614a68b-3378-4e0f-b3da-f4afa7ec2aee",
   "metadata": {},
   "source": [
    "Project_02(plaza italia) presents no problem, while Project_03(norte sur) and Project_04(parque bueras) have problems."
   ]
  },
  {
   "cell_type": "markdown",
   "id": "acb597e6-d210-4a68-8125-84fe195e8002",
   "metadata": {
    "jp-MarkdownHeadingCollapsed": true
   },
   "source": [
    "### Finding problem - Test 1: Is the network/code the problem? Or is the problem located in project_03 and project_04 specifically?"
   ]
  },
  {
   "cell_type": "markdown",
   "id": "33698b5c-75e3-4f87-bc34-32964e84d255",
   "metadata": {},
   "source": [
    "* __Approach:__ Re-do network process in QGIS for Project_00(baseline) and project_01(plaza_italia) and re-run __without changing code.__\n",
    "* __Result:__ Re-doing the network and re-running plaza italia resulted in Plaza Italia having problems. But could also be the code, not the network."
   ]
  },
  {
   "cell_type": "markdown",
   "id": "ac5230c4-db18-4ad1-904f-88963ddfc248",
   "metadata": {
    "jp-MarkdownHeadingCollapsed": true
   },
   "source": [
    "### Finding problem - Test 2: Was the algorithm changed between projects?"
   ]
  },
  {
   "cell_type": "markdown",
   "id": "07b3bbce-69af-4c19-bbb3-4133b7620c0e",
   "metadata": {},
   "source": [
    "* __Approach:__ Run Project_00(baseline) and project_01(plaza_italia) again __without changing anything (same old existing network)__ and re-test to see if problems emerge.\n",
    "* __Result:__ Re-using the old network results in the correct result for Plaza Italia. __The problem is located in how the network is created.__"
   ]
  },
  {
   "cell_type": "markdown",
   "id": "d78b4a5a-6f01-4f27-b7ee-6f6e14211a9d",
   "metadata": {
    "jp-MarkdownHeadingCollapsed": true
   },
   "source": [
    "### Finding problem - Test 03: Invert QGIS process"
   ]
  },
  {
   "cell_type": "markdown",
   "id": "a030b60b-3549-4cc6-ac0a-6a8e16fb039f",
   "metadata": {},
   "source": [
    "#### Instead of:\n",
    "1. __Split lines with lines__\n",
    "2. __Vector > Geometry Tools > Multipart to singleparts__\n",
    "3. Extract specific vertices [0,-1]\n",
    "4. MMQGIS Modify > Drop dups\n",
    "#### Do:\n",
    "1. __Vector > Geometry Tools > Multipart to singleparts__\n",
    "2. __Split lines with lines__\n",
    "3. Extract specific vertices [0,-1]\n",
    "4. MMQGIS Modify > Drop dups\n",
    "\n",
    "__Result:__ \"NotImplementedError: Sub-geometries may have coordinate sequences, but multi-part geometries do not\""
   ]
  },
  {
   "cell_type": "markdown",
   "id": "378f5bf4-8975-4719-b281-206aff95b3d6",
   "metadata": {
    "jp-MarkdownHeadingCollapsed": true
   },
   "source": [
    "### Finding problem - Testing site"
   ]
  },
  {
   "cell_type": "code",
   "execution_count": 8,
   "id": "6eccfa2e-a428-47b9-adea-f46964a0711b",
   "metadata": {},
   "outputs": [],
   "source": [
    "def compare_proximity(baseline_hexproximity, comparing_project, comparison_id, save):\n",
    "    # ----------\n",
    "    attributes_list = ['carniceria_time','carniceria_count_15min','hogar_time','hogar_count_15min','bakeries_time','bakeries_count_15min',\n",
    "                       'supermercado_time','supermercado_count_15min','banco_time','banco_count_15min','ferias_time','ferias_count_15min',\n",
    "                       'local_mini_market_time','local_mini_market_count_15min','correos_time','correos_count_15min','centro_recyc_time','centro_recyc_count_15min',\n",
    "                       'hospital_priv_time','hospital_priv_count_15min','hospital_pub_time','hospital_pub_count_15min','clinica_priv_time','clinica_priv_count_15min',\n",
    "                       'clinica_pub_time','clinica_pub_count_15min','farmacia_time','farmacia_count_15min','vacunatorio_priv_time','vacunatorio_priv_count_15min',\n",
    "                       'vacunatorio_pub_time','vacunatorio_pub_count_15min','consult_ado_priv_time','consult_ado_priv_count_15min','consult_ado_pub_time','consult_ado_pub_count_15min',\n",
    "                       'salud_mental_time','salud_mental_count_15min','labs_priv_time','labs_priv_count_15min','residencia_adumayor_time','residencia_adumayor_count_15min',\n",
    "                       'eq_deportivo_priv_time','eq_deportivo_priv_count_15min','eq_deportivo_pub_time','eq_deportivo_pub_count_15min','club_deportivo_time','club_deportivo_count_15min',\n",
    "                       'civic_office_time','civic_office_count_15min','tax_collection_time','tax_collection_count_15min','social_security_time','social_security_count_15min',\n",
    "                       'police_time','police_count_15min','bomberos_time','bomberos_count_15min','museos_priv_time','museos_priv_count_15min','museos_pub_time','museos_pub_count_15min',\n",
    "                       'cines_time','cines_count_15min','sitios_historicos_time','sitios_historicos_count_15min','restaurantes_bar_cafe_time','restaurantes_bar_cafe_count_15min',\n",
    "                       'librerias_time','librerias_count_15min','ep_plaza_small_time','ep_plaza_small_count_15min','ep_plaza_big_time','ep_plaza_big_count_15min',\n",
    "                       'edu_basica_pub_time','edu_basica_pub_count_15min','edu_media_pub_time','edu_media_pub_count_15min','jardin_inf_pub_time','jardin_inf_pub_count_15min',\n",
    "                       'universidad_time','universidad_count_15min','edu_tecnica_time','edu_tecnica_count_15min','edu_adultos_pub_time','edu_adultos_pub_count_15min',\n",
    "                       'edu_especial_pub_time','edu_especial_pub_count_15min','bibliotecas_time','bibliotecas_count_15min','centro_edu_amb_time','centro_edu_amb_count_15min',\n",
    "                       'paradas_tp_ruta_time','paradas_tp_ruta_count_15min','paradas_tp_metro_time','paradas_tp_metro_count_15min','paradas_tp_tren_time','paradas_tp_tren_count_15min',\n",
    "                       'ciclovias_time','ciclovias_count_15min','estaciones_bicicletas_time','estaciones_bicicletas_count_15min']\n",
    "    \n",
    "    # ---------- Merge baseline and comparing project data\n",
    "    both_gdfs = pd.merge(baseline_hexproximity,comparing_project[['hex_id']+attributes_list],on='hex_id')\n",
    "    \n",
    "    # ---------- Compare baseline (old) and project (new) attributes, saving the difference in a col and\n",
    "    #            identifying hexs where time or count increased or decreased for any attribute.\n",
    "    \n",
    "    # Set to empty/0\n",
    "    compare_list = []\n",
    "    both_gdfs['time_increase'] = 0\n",
    "    both_gdfs['time_decrease'] = 0\n",
    "    both_gdfs['count_increase'] = 0\n",
    "    both_gdfs['count_decrease'] = 0\n",
    "    \n",
    "    # Iterate over each attribute\n",
    "    for attribute in attributes_list:\n",
    "    \n",
    "        # Find attribute difference\n",
    "        old_attribute = f\"{attribute}_x\"\n",
    "        new_attribute = f\"{attribute}_y\"\n",
    "        both_gdfs[f\"{attribute}_diff\"] = both_gdfs[new_attribute] - both_gdfs[old_attribute]\n",
    "    \n",
    "        # Register positive or negative difference\n",
    "        if 'time' in attribute:\n",
    "            idx_1 = both_gdfs[f\"{attribute}_diff\"]>0\n",
    "            both_gdfs.loc[idx_1,'time_increase'] = 1\n",
    "            idx_2 = both_gdfs[f\"{attribute}_diff\"]<0\n",
    "            both_gdfs.loc[idx_2,'time_decrease'] = 1\n",
    "            \n",
    "        elif 'count' in attribute:\n",
    "            idx_3 = both_gdfs[f\"{attribute}_diff\"]>0\n",
    "            both_gdfs.loc[idx_3,'count_increase'] = 1\n",
    "            idx_4 = both_gdfs[f\"{attribute}_diff\"]<0\n",
    "            both_gdfs.loc[idx_4,'count_decrease'] = 1\n",
    "    \n",
    "    # Save result\n",
    "    if save:\n",
    "        outputs_analysis_dir = accesibilidad_urbana + \"data/external/santiago/outputs_analysis/\"\n",
    "        both_gdfs.to_file(outputs_analysis_dir + f\"comparison_{comparison_id}_proximity_changes.gpkg\", driver='GPKG')"
   ]
  },
  {
   "cell_type": "code",
   "execution_count": 33,
   "id": "156d4fb0-c783-4fae-9e4d-cc6d29694091",
   "metadata": {},
   "outputs": [],
   "source": [
    "baseline_hexproximity = gpd.read_file(script27_output_dir + \"project_01/santiago_hexproximity_project_01.gpkg\")"
   ]
  },
  {
   "cell_type": "code",
   "execution_count": 34,
   "id": "912d57db-5c98-4d0f-a320-cf6d44dfe63e",
   "metadata": {},
   "outputs": [],
   "source": [
    "comparing_hexproximity = gpd.read_file(script27_output_dir + \"project_02/santiago_hexproximity_project_02.gpkg\")"
   ]
  },
  {
   "cell_type": "code",
   "execution_count": 35,
   "id": "321674a7-bbb6-43ed-95f7-1c39fdb6c44f",
   "metadata": {},
   "outputs": [
    {
     "name": "stderr",
     "output_type": "stream",
     "text": [
      "/opt/conda/envs/gds/lib/python3.9/site-packages/geopandas/geodataframe.py:1525: PerformanceWarning: DataFrame is highly fragmented.  This is usually the result of calling `frame.insert` many times, which has poor performance.  Consider joining all columns at once using pd.concat(axis=1) instead. To get a de-fragmented frame, use `newframe = frame.copy()`\n",
      "  super().__setitem__(key, value)\n",
      "/opt/conda/envs/gds/lib/python3.9/site-packages/geopandas/geodataframe.py:1525: PerformanceWarning: DataFrame is highly fragmented.  This is usually the result of calling `frame.insert` many times, which has poor performance.  Consider joining all columns at once using pd.concat(axis=1) instead. To get a de-fragmented frame, use `newframe = frame.copy()`\n",
      "  super().__setitem__(key, value)\n",
      "/opt/conda/envs/gds/lib/python3.9/site-packages/geopandas/geodataframe.py:1525: PerformanceWarning: DataFrame is highly fragmented.  This is usually the result of calling `frame.insert` many times, which has poor performance.  Consider joining all columns at once using pd.concat(axis=1) instead. To get a de-fragmented frame, use `newframe = frame.copy()`\n",
      "  super().__setitem__(key, value)\n",
      "/opt/conda/envs/gds/lib/python3.9/site-packages/geopandas/geodataframe.py:1525: PerformanceWarning: DataFrame is highly fragmented.  This is usually the result of calling `frame.insert` many times, which has poor performance.  Consider joining all columns at once using pd.concat(axis=1) instead. To get a de-fragmented frame, use `newframe = frame.copy()`\n",
      "  super().__setitem__(key, value)\n",
      "/opt/conda/envs/gds/lib/python3.9/site-packages/geopandas/geodataframe.py:1525: PerformanceWarning: DataFrame is highly fragmented.  This is usually the result of calling `frame.insert` many times, which has poor performance.  Consider joining all columns at once using pd.concat(axis=1) instead. To get a de-fragmented frame, use `newframe = frame.copy()`\n",
      "  super().__setitem__(key, value)\n",
      "/opt/conda/envs/gds/lib/python3.9/site-packages/geopandas/geodataframe.py:1525: PerformanceWarning: DataFrame is highly fragmented.  This is usually the result of calling `frame.insert` many times, which has poor performance.  Consider joining all columns at once using pd.concat(axis=1) instead. To get a de-fragmented frame, use `newframe = frame.copy()`\n",
      "  super().__setitem__(key, value)\n",
      "/opt/conda/envs/gds/lib/python3.9/site-packages/geopandas/geodataframe.py:1525: PerformanceWarning: DataFrame is highly fragmented.  This is usually the result of calling `frame.insert` many times, which has poor performance.  Consider joining all columns at once using pd.concat(axis=1) instead. To get a de-fragmented frame, use `newframe = frame.copy()`\n",
      "  super().__setitem__(key, value)\n",
      "/opt/conda/envs/gds/lib/python3.9/site-packages/geopandas/geodataframe.py:1525: PerformanceWarning: DataFrame is highly fragmented.  This is usually the result of calling `frame.insert` many times, which has poor performance.  Consider joining all columns at once using pd.concat(axis=1) instead. To get a de-fragmented frame, use `newframe = frame.copy()`\n",
      "  super().__setitem__(key, value)\n",
      "/opt/conda/envs/gds/lib/python3.9/site-packages/geopandas/geodataframe.py:1525: PerformanceWarning: DataFrame is highly fragmented.  This is usually the result of calling `frame.insert` many times, which has poor performance.  Consider joining all columns at once using pd.concat(axis=1) instead. To get a de-fragmented frame, use `newframe = frame.copy()`\n",
      "  super().__setitem__(key, value)\n",
      "/opt/conda/envs/gds/lib/python3.9/site-packages/geopandas/geodataframe.py:1525: PerformanceWarning: DataFrame is highly fragmented.  This is usually the result of calling `frame.insert` many times, which has poor performance.  Consider joining all columns at once using pd.concat(axis=1) instead. To get a de-fragmented frame, use `newframe = frame.copy()`\n",
      "  super().__setitem__(key, value)\n"
     ]
    }
   ],
   "source": [
    "compare_proximity(baseline_hexproximity,comparing_hexproximity,comparison_id='p01vsp02_04',save=True)\n",
    "\n",
    "# COMPARISON IDS ALREADY EXPLORED:\n",
    "# p01vsp02 --> Current situation (Works properly)\n",
    "# p01vsp03 --> Current situation (Has undesired changes in proximity)\n",
    "# p01vsp04 --> Current situation (Has undesired changes in proximity)\n",
    "\n",
    "# Tests on p01(baseline) and p02(Plaza Italia, comparing):\n",
    "# p01vsp02_01rerun --> Rerunning without changing anything test \n",
    "#                  --> Result is same as current situation (Both network and script work properly)\n",
    "\n",
    "# p01vsp02_02redo --> Rerunning after redoing QGIS preprocessing steps \n",
    "#                 --> Result has undesired changes in proximity (QGIS preprocessing is the problem)\n",
    "\n",
    "# p01vsp02_03reorder --> Changing the order with which QGIS preprocessing is done \n",
    "#                    --> Result has undesired changes in proximity (QGIS preprocessing may vary, not reliable)\n",
    "\n",
    "# p01vsp02_04code --> Preprocess within script instead of in QGIS (Required recreating Nearest data)\n",
    "#                 --> Result has a lot of undesired changes in proximity"
   ]
  },
  {
   "cell_type": "markdown",
   "id": "7bc00aaf-ca74-4cc3-9707-d50277c76c1a",
   "metadata": {
    "jp-MarkdownHeadingCollapsed": true
   },
   "source": [
    "### Finding problem - Test 04: Compare working (old) and non-working (re-done) networks."
   ]
  },
  {
   "cell_type": "code",
   "execution_count": 71,
   "id": "11d051d8-5793-413c-8e93-5c038f7cda18",
   "metadata": {},
   "outputs": [],
   "source": [
    "networks_dir = accesibilidad_urbana + \"data/external/santiago/calidad_ep/\"\n",
    "\n",
    "# red_buena_calidad_pza_italia (project_02)\n",
    "project02_original_nodes = gpd.read_file(networks_dir + \"02_red_buena_calidad_pza_italia/red_buena_calidad_pza_italia_nodes.shp\")\n",
    "project02_re_do_nodes = gpd.read_file(networks_dir + \"02_red_buena_calidad_pza_italia/project_02_nodes.shp\")"
   ]
  },
  {
   "cell_type": "code",
   "execution_count": 72,
   "id": "14fbca3c-8747-477f-b53c-5fddd40cebcb",
   "metadata": {},
   "outputs": [
    {
     "name": "stdout",
     "output_type": "stream",
     "text": [
      "(14948, 10)\n",
      "EPSG:32719\n"
     ]
    },
    {
     "data": {
      "text/html": [
       "<div>\n",
       "<style scoped>\n",
       "    .dataframe tbody tr th:only-of-type {\n",
       "        vertical-align: middle;\n",
       "    }\n",
       "\n",
       "    .dataframe tbody tr th {\n",
       "        vertical-align: top;\n",
       "    }\n",
       "\n",
       "    .dataframe thead th {\n",
       "        text-align: right;\n",
       "    }\n",
       "</style>\n",
       "<table border=\"1\" class=\"dataframe\">\n",
       "  <thead>\n",
       "    <tr style=\"text-align: right;\">\n",
       "      <th></th>\n",
       "      <th>fid</th>\n",
       "      <th>Nom_Rut</th>\n",
       "      <th>pje_ep</th>\n",
       "      <th>vertex_pos</th>\n",
       "      <th>vertex_ind</th>\n",
       "      <th>vertex_par</th>\n",
       "      <th>vertex_p_1</th>\n",
       "      <th>distance</th>\n",
       "      <th>angle</th>\n",
       "      <th>geometry</th>\n",
       "    </tr>\n",
       "  </thead>\n",
       "  <tbody>\n",
       "    <tr>\n",
       "      <th>0</th>\n",
       "      <td>1.0</td>\n",
       "      <td>Costanera Sur</td>\n",
       "      <td>0.549756</td>\n",
       "      <td>0</td>\n",
       "      <td>0</td>\n",
       "      <td>0</td>\n",
       "      <td>0</td>\n",
       "      <td>0.0</td>\n",
       "      <td>191.098679</td>\n",
       "      <td>POINT (350915.673 6302582.007)</td>\n",
       "    </tr>\n",
       "  </tbody>\n",
       "</table>\n",
       "</div>"
      ],
      "text/plain": [
       "   fid        Nom_Rut    pje_ep  vertex_pos  vertex_ind  vertex_par   \n",
       "0  1.0  Costanera Sur  0.549756           0           0           0  \\\n",
       "\n",
       "   vertex_p_1  distance       angle                        geometry  \n",
       "0           0       0.0  191.098679  POINT (350915.673 6302582.007)  "
      ]
     },
     "execution_count": 72,
     "metadata": {},
     "output_type": "execute_result"
    }
   ],
   "source": [
    "print(project02_original_nodes.shape)\n",
    "print(project02_original_nodes.crs)\n",
    "project02_original_nodes.head(1)"
   ]
  },
  {
   "cell_type": "code",
   "execution_count": 73,
   "id": "75babf12-e01e-422c-b1e1-ce4a5352244e",
   "metadata": {},
   "outputs": [
    {
     "name": "stdout",
     "output_type": "stream",
     "text": [
      "(14949, 10)\n",
      "EPSG:32719\n"
     ]
    },
    {
     "data": {
      "text/html": [
       "<div>\n",
       "<style scoped>\n",
       "    .dataframe tbody tr th:only-of-type {\n",
       "        vertical-align: middle;\n",
       "    }\n",
       "\n",
       "    .dataframe tbody tr th {\n",
       "        vertical-align: top;\n",
       "    }\n",
       "\n",
       "    .dataframe thead th {\n",
       "        text-align: right;\n",
       "    }\n",
       "</style>\n",
       "<table border=\"1\" class=\"dataframe\">\n",
       "  <thead>\n",
       "    <tr style=\"text-align: right;\">\n",
       "      <th></th>\n",
       "      <th>fid</th>\n",
       "      <th>Nom_Rut</th>\n",
       "      <th>pje_ep</th>\n",
       "      <th>vertex_pos</th>\n",
       "      <th>vertex_ind</th>\n",
       "      <th>vertex_par</th>\n",
       "      <th>vertex_p_1</th>\n",
       "      <th>distance</th>\n",
       "      <th>angle</th>\n",
       "      <th>geometry</th>\n",
       "    </tr>\n",
       "  </thead>\n",
       "  <tbody>\n",
       "    <tr>\n",
       "      <th>0</th>\n",
       "      <td>1.0</td>\n",
       "      <td>Costanera Sur</td>\n",
       "      <td>0.549756</td>\n",
       "      <td>0</td>\n",
       "      <td>0</td>\n",
       "      <td>0</td>\n",
       "      <td>0</td>\n",
       "      <td>0.0</td>\n",
       "      <td>191.098679</td>\n",
       "      <td>POINT (350915.673 6302582.007)</td>\n",
       "    </tr>\n",
       "  </tbody>\n",
       "</table>\n",
       "</div>"
      ],
      "text/plain": [
       "   fid        Nom_Rut    pje_ep  vertex_pos  vertex_ind  vertex_par   \n",
       "0  1.0  Costanera Sur  0.549756           0           0           0  \\\n",
       "\n",
       "   vertex_p_1  distance       angle                        geometry  \n",
       "0           0       0.0  191.098679  POINT (350915.673 6302582.007)  "
      ]
     },
     "execution_count": 73,
     "metadata": {},
     "output_type": "execute_result"
    }
   ],
   "source": [
    "print(project02_re_do_nodes.shape)\n",
    "print(project02_re_do_nodes.crs)\n",
    "project02_re_do_nodes.head(1)"
   ]
  },
  {
   "cell_type": "code",
   "execution_count": 74,
   "id": "76714fd5-6013-4a7d-9b17-6d8821114e00",
   "metadata": {},
   "outputs": [
    {
     "data": {
      "text/plain": [
       "[<POINT (348041.604 6299041.683)>,\n",
       " <POINT (348026.727 6299078.686)>,\n",
       " <POINT (347981.729 6299031.689)>,\n",
       " <POINT (348002.114 6299040.092)>,\n",
       " <POINT (348050.963 6299108.82)>,\n",
       " <POINT (347995.039 6299056.535)>,\n",
       " <POINT (347995.309 6299056.763)>,\n",
       " <POINT (348002.115 6299040.092)>,\n",
       " <POINT (348002.114 6299040.092)>,\n",
       " <POINT (347995.309 6299056.763)>,\n",
       " <POINT (348050.963 6299108.82)>,\n",
       " <POINT (348093.918 6299108.686)>]"
      ]
     },
     "execution_count": 74,
     "metadata": {},
     "output_type": "execute_result"
    }
   ],
   "source": [
    "original_nodes_lst = list(project02_original_nodes.geometry.unique())\n",
    "re_do_nodes_lst = list(project02_re_do_nodes.geometry.unique())\n",
    "\n",
    "geoms_list = []\n",
    "for geom in original_nodes_lst:\n",
    "    if geom not in existing_nodes:\n",
    "        geoms_list.append(geom)\n",
    "\n",
    "geoms_list"
   ]
  },
  {
   "cell_type": "code",
   "execution_count": null,
   "id": "7c512ffe-aa98-4a0b-9e72-85dadd6ae44f",
   "metadata": {},
   "outputs": [],
   "source": [
    "# Find that extra node\n",
    "project02_re_do_nodes.loc[project02_re_do_nodes.geometry==Point(348041.6037999997, 6299041.6832)]"
   ]
  },
  {
   "cell_type": "code",
   "execution_count": null,
   "id": "dc78a59f-1e82-4d56-b6d6-860254fd4072",
   "metadata": {},
   "outputs": [],
   "source": [
    "# Find that extra node\n",
    "project02_re_do_nodes.loc[project02_re_do_nodes.geometry==Point(348026.7271999996, 6299078.6865)]"
   ]
  },
  {
   "cell_type": "code",
   "execution_count": null,
   "id": "c8e467e4-7a11-47c7-93e4-6fa175cbfaf9",
   "metadata": {},
   "outputs": [],
   "source": [
    "# Find nodes with differences between both processes\n",
    "concat = pd.concat([project02_original_nodes,project02_re_do_nodes])\n",
    "dropped = concat.drop_duplicates(keep=False)\n",
    "\n",
    "dropped"
   ]
  },
  {
   "cell_type": "code",
   "execution_count": null,
   "id": "9afd7a21-6610-4b3a-97a4-e0f387dd89fe",
   "metadata": {},
   "outputs": [],
   "source": [
    "# Save resulting nodes\n",
    "dropped.drop(columns='fid',inplace=True)\n",
    "outputs_analysis_dir = accesibilidad_urbana + \"data/external/santiago/outputs_analysis/\"\n",
    "dropped.to_file(outputs_analysis_dir+'project_02_different_nodes.gpkg', driver='GPKG')"
   ]
  },
  {
   "cell_type": "markdown",
   "id": "442ae97c-c93a-4cc3-92bd-fad9eb89b8a6",
   "metadata": {},
   "source": [
    "# Plan B: Asking them to compute pje_ep in OSMnx Network"
   ]
  },
  {
   "cell_type": "code",
   "execution_count": 15,
   "id": "c3f96d10-0c30-4565-8cef-323f677b06d5",
   "metadata": {},
   "outputs": [],
   "source": [
    "save = True"
   ]
  },
  {
   "cell_type": "markdown",
   "id": "c83a889c-62e1-43f1-bc91-e7185398bcee",
   "metadata": {},
   "source": [
    "## Send to Santiago team OSMnx network to specific area of study"
   ]
  },
  {
   "cell_type": "code",
   "execution_count": 3,
   "id": "db9ef089-2ca8-4fc2-b27e-054dff11d194",
   "metadata": {},
   "outputs": [],
   "source": [
    "projected_crs = \"EPSG:32719\""
   ]
  },
  {
   "cell_type": "code",
   "execution_count": 5,
   "id": "4b970bfd-bc69-4098-a1d2-653b964b92a9",
   "metadata": {},
   "outputs": [
    {
     "name": "stdout",
     "output_type": "stream",
     "text": [
      "epsg:4326\n"
     ]
    }
   ],
   "source": [
    "# aoi\n",
    "aoi_schema = 'projects_research'\n",
    "aoi_table = 'santiago_aoi'\n",
    "city = 'alamedabuffer_4500m'\n",
    "\n",
    "query = f\"SELECT * FROM {aoi_schema}.{aoi_table} WHERE \\\"city\\\" LIKE \\'{city}\\'\"\n",
    "aoi_gdf = aup.gdf_from_query(query, geometry_col='geometry')\n",
    "print(aoi_gdf.crs)"
   ]
  },
  {
   "cell_type": "code",
   "execution_count": 7,
   "id": "39ad960f-1dca-4f4e-bee5-fea6aed03a90",
   "metadata": {},
   "outputs": [
    {
     "data": {
      "text/plain": [
       "<Axes: >"
      ]
     },
     "execution_count": 7,
     "metadata": {},
     "output_type": "execute_result"
    },
    {
     "data": {
      "image/png": "[encoded data removed]",
      "text/plain": [
       "<Figure size 640x480 with 1 Axes>"
      ]
     },
     "metadata": {},
     "output_type": "display_data"
    }
   ],
   "source": [
    "aoi_gdf.plot()"
   ]
  },
  {
   "cell_type": "code",
   "execution_count": 6,
   "id": "ca2908e8-15b4-4af8-bb5c-1ef3b3ee8957",
   "metadata": {},
   "outputs": [
    {
     "name": "stdout",
     "output_type": "stream",
     "text": [
      "EPSG:4326\n",
      "EPSG:4326\n"
     ]
    }
   ],
   "source": [
    "# osmnx_network\n",
    "network_schema = 'projects_research'\n",
    "nodes_table = 'santiago_nodes'\n",
    "edges_table = 'santiago_edges'\n",
    "\n",
    "G, nodes, edges = aup.graph_from_hippo(aoi_gdf, schema=network_schema, edges_folder=edges_table, nodes_folder=nodes_table, projected_crs=projected_crs)\n",
    "print(nodes.crs)\n",
    "print(edges.crs)"
   ]
  },
  {
   "cell_type": "code",
   "execution_count": 27,
   "id": "7849b6fd-1d85-4956-92fa-ff00c61dfa51",
   "metadata": {},
   "outputs": [],
   "source": [
    "output_dir = accesibilidad_urbana + \"data/external/santiago/calidad_ep/00_osmnx_nodata/\""
   ]
  },
  {
   "cell_type": "code",
   "execution_count": 11,
   "id": "db0ebd59-90c1-485a-8d6d-c242f9fd2a37",
   "metadata": {},
   "outputs": [
    {
     "name": "stdout",
     "output_type": "stream",
     "text": [
      "(43734, 4)\n"
     ]
    },
    {
     "data": {
      "text/html": [
       "<div>\n",
       "<style scoped>\n",
       "    .dataframe tbody tr th:only-of-type {\n",
       "        vertical-align: middle;\n",
       "    }\n",
       "\n",
       "    .dataframe tbody tr th {\n",
       "        vertical-align: top;\n",
       "    }\n",
       "\n",
       "    .dataframe thead th {\n",
       "        text-align: right;\n",
       "    }\n",
       "</style>\n",
       "<table border=\"1\" class=\"dataframe\">\n",
       "  <thead>\n",
       "    <tr style=\"text-align: right;\">\n",
       "      <th></th>\n",
       "      <th>x</th>\n",
       "      <th>y</th>\n",
       "      <th>street_count</th>\n",
       "      <th>geometry</th>\n",
       "    </tr>\n",
       "    <tr>\n",
       "      <th>osmid</th>\n",
       "      <th></th>\n",
       "      <th></th>\n",
       "      <th></th>\n",
       "      <th></th>\n",
       "    </tr>\n",
       "  </thead>\n",
       "  <tbody>\n",
       "    <tr>\n",
       "      <th>386138</th>\n",
       "      <td>-70.646254</td>\n",
       "      <td>-33.442901</td>\n",
       "      <td>4</td>\n",
       "      <td>POINT (-70.64625 -33.44290)</td>\n",
       "    </tr>\n",
       "  </tbody>\n",
       "</table>\n",
       "</div>"
      ],
      "text/plain": [
       "                x          y  street_count                     geometry\n",
       "osmid                                                                  \n",
       "386138 -70.646254 -33.442901             4  POINT (-70.64625 -33.44290)"
      ]
     },
     "execution_count": 11,
     "metadata": {},
     "output_type": "execute_result"
    }
   ],
   "source": [
    "print(nodes.shape)\n",
    "nodes.head(1)"
   ]
  },
  {
   "cell_type": "code",
   "execution_count": 12,
   "id": "1e3452dd-7570-4204-bcd7-0740596c92fc",
   "metadata": {},
   "outputs": [
    {
     "name": "stdout",
     "output_type": "stream",
     "text": [
      "(114163, 15)\n"
     ]
    },
    {
     "data": {
      "text/html": [
       "<div>\n",
       "<style scoped>\n",
       "    .dataframe tbody tr th:only-of-type {\n",
       "        vertical-align: middle;\n",
       "    }\n",
       "\n",
       "    .dataframe tbody tr th {\n",
       "        vertical-align: top;\n",
       "    }\n",
       "\n",
       "    .dataframe thead th {\n",
       "        text-align: right;\n",
       "    }\n",
       "</style>\n",
       "<table border=\"1\" class=\"dataframe\">\n",
       "  <thead>\n",
       "    <tr style=\"text-align: right;\">\n",
       "      <th></th>\n",
       "      <th></th>\n",
       "      <th></th>\n",
       "      <th>osmid</th>\n",
       "      <th>oneway</th>\n",
       "      <th>lanes</th>\n",
       "      <th>name</th>\n",
       "      <th>highway</th>\n",
       "      <th>maxspeed</th>\n",
       "      <th>length</th>\n",
       "      <th>geometry</th>\n",
       "      <th>bridge</th>\n",
       "      <th>ref</th>\n",
       "      <th>junction</th>\n",
       "      <th>tunnel</th>\n",
       "      <th>access</th>\n",
       "      <th>width</th>\n",
       "      <th>service</th>\n",
       "    </tr>\n",
       "    <tr>\n",
       "      <th>u</th>\n",
       "      <th>v</th>\n",
       "      <th>key</th>\n",
       "      <th></th>\n",
       "      <th></th>\n",
       "      <th></th>\n",
       "      <th></th>\n",
       "      <th></th>\n",
       "      <th></th>\n",
       "      <th></th>\n",
       "      <th></th>\n",
       "      <th></th>\n",
       "      <th></th>\n",
       "      <th></th>\n",
       "      <th></th>\n",
       "      <th></th>\n",
       "      <th></th>\n",
       "      <th></th>\n",
       "    </tr>\n",
       "  </thead>\n",
       "  <tbody>\n",
       "    <tr>\n",
       "      <th>13879360</th>\n",
       "      <th>454636340</th>\n",
       "      <th>0</th>\n",
       "      <td>446008556</td>\n",
       "      <td>False</td>\n",
       "      <td>1</td>\n",
       "      <td>Aliro Correa</td>\n",
       "      <td>living_street</td>\n",
       "      <td>None</td>\n",
       "      <td>41.855</td>\n",
       "      <td>LINESTRING (-70.73850 -33.49002, -70.73804 -33...</td>\n",
       "      <td>None</td>\n",
       "      <td>None</td>\n",
       "      <td>None</td>\n",
       "      <td>None</td>\n",
       "      <td>None</td>\n",
       "      <td>None</td>\n",
       "      <td>None</td>\n",
       "    </tr>\n",
       "  </tbody>\n",
       "</table>\n",
       "</div>"
      ],
      "text/plain": [
       "                            osmid  oneway lanes          name        highway   \n",
       "u        v         key                                                         \n",
       "13879360 454636340 0    446008556   False     1  Aliro Correa  living_street  \\\n",
       "\n",
       "                       maxspeed  length   \n",
       "u        v         key                    \n",
       "13879360 454636340 0       None  41.855  \\\n",
       "\n",
       "                                                                 geometry   \n",
       "u        v         key                                                      \n",
       "13879360 454636340 0    LINESTRING (-70.73850 -33.49002, -70.73804 -33...  \\\n",
       "\n",
       "                       bridge   ref junction tunnel access width service  \n",
       "u        v         key                                                    \n",
       "13879360 454636340 0     None  None     None   None   None  None    None  "
      ]
     },
     "execution_count": 12,
     "metadata": {},
     "output_type": "execute_result"
    }
   ],
   "source": [
    "print(edges.shape)\n",
    "edges.head(1)"
   ]
  },
  {
   "cell_type": "code",
   "execution_count": 10,
   "id": "40320815-98cd-4eb7-bf8a-333be06b4ba9",
   "metadata": {},
   "outputs": [],
   "source": [
    "if save:\n",
    "    nodes.to_file(output_dir + f\"nodes_buffer4500m.gpkg\", driver='GPKG')\n",
    "    edges.to_file(output_dir + f\"edges_buffer4500m.gpkg\", driver='GPKG')"
   ]
  },
  {
   "cell_type": "markdown",
   "id": "19fca647-e8b8-4e74-9316-4b2708001b9e",
   "metadata": {},
   "source": [
    "## Analyse recieved network with pje_ep"
   ]
  },
  {
   "cell_type": "markdown",
   "id": "adbf85dc-6993-448b-813b-c4cd1951952e",
   "metadata": {},
   "source": [
    "Recieved data"
   ]
  },
  {
   "cell_type": "code",
   "execution_count": 4,
   "id": "c2cfd42c-c840-426c-afd6-730397c44076",
   "metadata": {},
   "outputs": [
    {
     "name": "stdout",
     "output_type": "stream",
     "text": [
      "EPSG:4326\n",
      "(123073, 3)\n"
     ]
    },
    {
     "data": {
      "text/html": [
       "<div>\n",
       "<style scoped>\n",
       "    .dataframe tbody tr th:only-of-type {\n",
       "        vertical-align: middle;\n",
       "    }\n",
       "\n",
       "    .dataframe tbody tr th {\n",
       "        vertical-align: top;\n",
       "    }\n",
       "\n",
       "    .dataframe thead th {\n",
       "        text-align: right;\n",
       "    }\n",
       "</style>\n",
       "<table border=\"1\" class=\"dataframe\">\n",
       "  <thead>\n",
       "    <tr style=\"text-align: right;\">\n",
       "      <th></th>\n",
       "      <th>fid</th>\n",
       "      <th>pje_ep</th>\n",
       "      <th>geometry</th>\n",
       "    </tr>\n",
       "  </thead>\n",
       "  <tbody>\n",
       "    <tr>\n",
       "      <th>0</th>\n",
       "      <td>1.0</td>\n",
       "      <td>0.893827</td>\n",
       "      <td>LINESTRING (-70.73850 -33.49002, -70.73804 -33...</td>\n",
       "    </tr>\n",
       "    <tr>\n",
       "      <th>1</th>\n",
       "      <td>2.0</td>\n",
       "      <td>0.440809</td>\n",
       "      <td>LINESTRING (-70.72370 -33.48910, -70.72352 -33...</td>\n",
       "    </tr>\n",
       "  </tbody>\n",
       "</table>\n",
       "</div>"
      ],
      "text/plain": [
       "   fid    pje_ep                                           geometry\n",
       "0  1.0  0.893827  LINESTRING (-70.73850 -33.49002, -70.73804 -33...\n",
       "1  2.0  0.440809  LINESTRING (-70.72370 -33.48910, -70.72352 -33..."
      ]
     },
     "execution_count": 4,
     "metadata": {},
     "output_type": "execute_result"
    }
   ],
   "source": [
    "recieved_data_dir = accesibilidad_urbana + \"data/external/santiago/calidad_ep/01_osmnx_pje_ep/\"\n",
    "recieved_data = gpd.read_file(recieved_data_dir + \"red_TEC_c_ptjeEP_2.shp\")\n",
    "\n",
    "# Show\n",
    "print(recieved_data.crs)\n",
    "print(recieved_data.shape)\n",
    "recieved_data.head(2)"
   ]
  },
  {
   "cell_type": "markdown",
   "id": "a13a4076-dd13-4f5c-896b-f2f2fe62ec66",
   "metadata": {},
   "source": [
    "#### Recieved data doesn't have original edges cols. Merge."
   ]
  },
  {
   "cell_type": "code",
   "execution_count": 5,
   "id": "8444f109-9710-49e6-93d9-6b7f0012990d",
   "metadata": {},
   "outputs": [
    {
     "name": "stdout",
     "output_type": "stream",
     "text": [
      "EPSG:4326\n",
      "(114163, 18)\n"
     ]
    },
    {
     "data": {
      "text/html": [
       "<div>\n",
       "<style scoped>\n",
       "    .dataframe tbody tr th:only-of-type {\n",
       "        vertical-align: middle;\n",
       "    }\n",
       "\n",
       "    .dataframe tbody tr th {\n",
       "        vertical-align: top;\n",
       "    }\n",
       "\n",
       "    .dataframe thead th {\n",
       "        text-align: right;\n",
       "    }\n",
       "</style>\n",
       "<table border=\"1\" class=\"dataframe\">\n",
       "  <thead>\n",
       "    <tr style=\"text-align: right;\">\n",
       "      <th></th>\n",
       "      <th>u</th>\n",
       "      <th>v</th>\n",
       "      <th>key</th>\n",
       "      <th>osmid</th>\n",
       "      <th>oneway</th>\n",
       "      <th>lanes</th>\n",
       "      <th>name</th>\n",
       "      <th>highway</th>\n",
       "      <th>maxspeed</th>\n",
       "      <th>length</th>\n",
       "      <th>bridge</th>\n",
       "      <th>ref</th>\n",
       "      <th>junction</th>\n",
       "      <th>tunnel</th>\n",
       "      <th>access</th>\n",
       "      <th>width</th>\n",
       "      <th>service</th>\n",
       "      <th>geometry</th>\n",
       "    </tr>\n",
       "  </thead>\n",
       "  <tbody>\n",
       "    <tr>\n",
       "      <th>0</th>\n",
       "      <td>13879360</td>\n",
       "      <td>454636340</td>\n",
       "      <td>0</td>\n",
       "      <td>446008556</td>\n",
       "      <td>False</td>\n",
       "      <td>1</td>\n",
       "      <td>Aliro Correa</td>\n",
       "      <td>living_street</td>\n",
       "      <td>None</td>\n",
       "      <td>41.855</td>\n",
       "      <td>None</td>\n",
       "      <td>None</td>\n",
       "      <td>None</td>\n",
       "      <td>None</td>\n",
       "      <td>None</td>\n",
       "      <td>None</td>\n",
       "      <td>None</td>\n",
       "      <td>LINESTRING (-70.73850 -33.49002, -70.73804 -33...</td>\n",
       "    </tr>\n",
       "    <tr>\n",
       "      <th>1</th>\n",
       "      <td>15379742</td>\n",
       "      <td>1721486069</td>\n",
       "      <td>0</td>\n",
       "      <td>1243253087</td>\n",
       "      <td>False</td>\n",
       "      <td>2</td>\n",
       "      <td>Rosa Ester Rodríguez</td>\n",
       "      <td>tertiary</td>\n",
       "      <td>None</td>\n",
       "      <td>18.770</td>\n",
       "      <td>None</td>\n",
       "      <td>None</td>\n",
       "      <td>None</td>\n",
       "      <td>None</td>\n",
       "      <td>None</td>\n",
       "      <td>None</td>\n",
       "      <td>None</td>\n",
       "      <td>LINESTRING (-70.72370 -33.48910, -70.72352 -33...</td>\n",
       "    </tr>\n",
       "  </tbody>\n",
       "</table>\n",
       "</div>"
      ],
      "text/plain": [
       "          u           v  key       osmid  oneway lanes                  name   \n",
       "0  13879360   454636340    0   446008556   False     1          Aliro Correa  \\\n",
       "1  15379742  1721486069    0  1243253087   False     2  Rosa Ester Rodríguez   \n",
       "\n",
       "         highway maxspeed  length bridge   ref junction tunnel access width   \n",
       "0  living_street     None  41.855   None  None     None   None   None  None  \\\n",
       "1       tertiary     None  18.770   None  None     None   None   None  None   \n",
       "\n",
       "  service                                           geometry  \n",
       "0    None  LINESTRING (-70.73850 -33.49002, -70.73804 -33...  \n",
       "1    None  LINESTRING (-70.72370 -33.48910, -70.72352 -33...  "
      ]
     },
     "execution_count": 5,
     "metadata": {},
     "output_type": "execute_result"
    }
   ],
   "source": [
    "osmnx_nodata_dir = accesibilidad_urbana + \"data/external/santiago/calidad_ep/00_osmnx_nodata/\"\n",
    "edges = gpd.read_file(osmnx_nodata_dir + \"edges_buffer4500m.gpkg\")\n",
    "\n",
    "# Show\n",
    "print(edges.crs)\n",
    "print(edges.shape)\n",
    "edges.head(2)"
   ]
  },
  {
   "cell_type": "code",
   "execution_count": 6,
   "id": "0a9fdc28-6a80-4404-b605-6ac9ae2a3dd1",
   "metadata": {},
   "outputs": [
    {
     "name": "stdout",
     "output_type": "stream",
     "text": [
      "EPSG:4326\n",
      "(123089, 20)\n"
     ]
    },
    {
     "data": {
      "text/html": [
       "<div>\n",
       "<style scoped>\n",
       "    .dataframe tbody tr th:only-of-type {\n",
       "        vertical-align: middle;\n",
       "    }\n",
       "\n",
       "    .dataframe tbody tr th {\n",
       "        vertical-align: top;\n",
       "    }\n",
       "\n",
       "    .dataframe thead th {\n",
       "        text-align: right;\n",
       "    }\n",
       "</style>\n",
       "<table border=\"1\" class=\"dataframe\">\n",
       "  <thead>\n",
       "    <tr style=\"text-align: right;\">\n",
       "      <th></th>\n",
       "      <th>fid</th>\n",
       "      <th>pje_ep</th>\n",
       "      <th>geometry</th>\n",
       "      <th>u</th>\n",
       "      <th>v</th>\n",
       "      <th>key</th>\n",
       "      <th>osmid</th>\n",
       "      <th>oneway</th>\n",
       "      <th>lanes</th>\n",
       "      <th>name</th>\n",
       "      <th>highway</th>\n",
       "      <th>maxspeed</th>\n",
       "      <th>length</th>\n",
       "      <th>bridge</th>\n",
       "      <th>ref</th>\n",
       "      <th>junction</th>\n",
       "      <th>tunnel</th>\n",
       "      <th>access</th>\n",
       "      <th>width</th>\n",
       "      <th>service</th>\n",
       "    </tr>\n",
       "  </thead>\n",
       "  <tbody>\n",
       "    <tr>\n",
       "      <th>0</th>\n",
       "      <td>1.0</td>\n",
       "      <td>0.893827</td>\n",
       "      <td>LINESTRING (-70.73850 -33.49002, -70.73804 -33...</td>\n",
       "      <td>13879360</td>\n",
       "      <td>454636340</td>\n",
       "      <td>0</td>\n",
       "      <td>446008556</td>\n",
       "      <td>False</td>\n",
       "      <td>1</td>\n",
       "      <td>Aliro Correa</td>\n",
       "      <td>living_street</td>\n",
       "      <td>None</td>\n",
       "      <td>41.855</td>\n",
       "      <td>None</td>\n",
       "      <td>None</td>\n",
       "      <td>None</td>\n",
       "      <td>None</td>\n",
       "      <td>None</td>\n",
       "      <td>None</td>\n",
       "      <td>None</td>\n",
       "    </tr>\n",
       "    <tr>\n",
       "      <th>1</th>\n",
       "      <td>2.0</td>\n",
       "      <td>0.440809</td>\n",
       "      <td>LINESTRING (-70.72370 -33.48910, -70.72352 -33...</td>\n",
       "      <td>15379742</td>\n",
       "      <td>1721486069</td>\n",
       "      <td>0</td>\n",
       "      <td>1243253087</td>\n",
       "      <td>False</td>\n",
       "      <td>2</td>\n",
       "      <td>Rosa Ester Rodríguez</td>\n",
       "      <td>tertiary</td>\n",
       "      <td>None</td>\n",
       "      <td>18.770</td>\n",
       "      <td>None</td>\n",
       "      <td>None</td>\n",
       "      <td>None</td>\n",
       "      <td>None</td>\n",
       "      <td>None</td>\n",
       "      <td>None</td>\n",
       "      <td>None</td>\n",
       "    </tr>\n",
       "  </tbody>\n",
       "</table>\n",
       "</div>"
      ],
      "text/plain": [
       "   fid    pje_ep                                           geometry         u   \n",
       "0  1.0  0.893827  LINESTRING (-70.73850 -33.49002, -70.73804 -33...  13879360  \\\n",
       "1  2.0  0.440809  LINESTRING (-70.72370 -33.48910, -70.72352 -33...  15379742   \n",
       "\n",
       "            v  key       osmid  oneway lanes                  name   \n",
       "0   454636340    0   446008556   False     1          Aliro Correa  \\\n",
       "1  1721486069    0  1243253087   False     2  Rosa Ester Rodríguez   \n",
       "\n",
       "         highway maxspeed  length bridge   ref junction tunnel access width   \n",
       "0  living_street     None  41.855   None  None     None   None   None  None  \\\n",
       "1       tertiary     None  18.770   None  None     None   None   None  None   \n",
       "\n",
       "  service  \n",
       "0    None  \n",
       "1    None  "
      ]
     },
     "execution_count": 6,
     "metadata": {},
     "output_type": "execute_result"
    }
   ],
   "source": [
    "osmnx_pje_ep = pd.merge(recieved_data,edges,on='geometry')\n",
    "\n",
    "# Show\n",
    "print(osmnx_pje_ep.crs)\n",
    "print(osmnx_pje_ep.shape)\n",
    "osmnx_pje_ep.head(2)"
   ]
  },
  {
   "cell_type": "markdown",
   "id": "461a5a18-bac5-447a-8e23-080048a81c78",
   "metadata": {},
   "source": [
    "### Why are there more edges in recieved data (123,073) than in edges original file(114,163)?"
   ]
  },
  {
   "cell_type": "code",
   "execution_count": 7,
   "id": "7ed24dc8-7e7a-4884-a45f-06c724c950a3",
   "metadata": {},
   "outputs": [
    {
     "data": {
      "text/html": [
       "<div>\n",
       "<style scoped>\n",
       "    .dataframe tbody tr th:only-of-type {\n",
       "        vertical-align: middle;\n",
       "    }\n",
       "\n",
       "    .dataframe tbody tr th {\n",
       "        vertical-align: top;\n",
       "    }\n",
       "\n",
       "    .dataframe thead th {\n",
       "        text-align: right;\n",
       "    }\n",
       "</style>\n",
       "<table border=\"1\" class=\"dataframe\">\n",
       "  <thead>\n",
       "    <tr style=\"text-align: right;\">\n",
       "      <th></th>\n",
       "      <th>u</th>\n",
       "      <th>v</th>\n",
       "      <th>key</th>\n",
       "      <th>osmid</th>\n",
       "      <th>oneway</th>\n",
       "      <th>lanes</th>\n",
       "      <th>name</th>\n",
       "      <th>highway</th>\n",
       "      <th>maxspeed</th>\n",
       "      <th>length</th>\n",
       "      <th>bridge</th>\n",
       "      <th>ref</th>\n",
       "      <th>junction</th>\n",
       "      <th>tunnel</th>\n",
       "      <th>access</th>\n",
       "      <th>width</th>\n",
       "      <th>service</th>\n",
       "      <th>geometry</th>\n",
       "    </tr>\n",
       "  </thead>\n",
       "  <tbody>\n",
       "  </tbody>\n",
       "</table>\n",
       "</div>"
      ],
      "text/plain": [
       "Empty GeoDataFrame\n",
       "Columns: [u, v, key, osmid, oneway, lanes, name, highway, maxspeed, length, bridge, ref, junction, tunnel, access, width, service, geometry]\n",
       "Index: []"
      ]
     },
     "execution_count": 7,
     "metadata": {},
     "output_type": "execute_result"
    }
   ],
   "source": [
    "edges.loc[edges.duplicated(subset=['u','v','key','osmid'],keep=False)]"
   ]
  },
  {
   "cell_type": "code",
   "execution_count": 8,
   "id": "5b368865-6024-483d-8ec1-17fb15148675",
   "metadata": {},
   "outputs": [
    {
     "data": {
      "text/html": [
       "<div>\n",
       "<style scoped>\n",
       "    .dataframe tbody tr th:only-of-type {\n",
       "        vertical-align: middle;\n",
       "    }\n",
       "\n",
       "    .dataframe tbody tr th {\n",
       "        vertical-align: top;\n",
       "    }\n",
       "\n",
       "    .dataframe thead th {\n",
       "        text-align: right;\n",
       "    }\n",
       "</style>\n",
       "<table border=\"1\" class=\"dataframe\">\n",
       "  <thead>\n",
       "    <tr style=\"text-align: right;\">\n",
       "      <th></th>\n",
       "      <th>fid</th>\n",
       "      <th>pje_ep</th>\n",
       "      <th>geometry</th>\n",
       "      <th>u</th>\n",
       "      <th>v</th>\n",
       "      <th>key</th>\n",
       "      <th>osmid</th>\n",
       "      <th>oneway</th>\n",
       "      <th>lanes</th>\n",
       "      <th>name</th>\n",
       "      <th>highway</th>\n",
       "      <th>maxspeed</th>\n",
       "      <th>length</th>\n",
       "      <th>bridge</th>\n",
       "      <th>ref</th>\n",
       "      <th>junction</th>\n",
       "      <th>tunnel</th>\n",
       "      <th>access</th>\n",
       "      <th>width</th>\n",
       "      <th>service</th>\n",
       "    </tr>\n",
       "  </thead>\n",
       "  <tbody>\n",
       "    <tr>\n",
       "      <th>30</th>\n",
       "      <td>31.0</td>\n",
       "      <td>0.20477</td>\n",
       "      <td>LINESTRING (-70.73794 -33.46278, -70.73794 -33...</td>\n",
       "      <td>253282676</td>\n",
       "      <td>4763027462</td>\n",
       "      <td>0</td>\n",
       "      <td>1287581726</td>\n",
       "      <td>True</td>\n",
       "      <td>3</td>\n",
       "      <td>Avenida Teniente Cruz</td>\n",
       "      <td>primary</td>\n",
       "      <td>50</td>\n",
       "      <td>4.667</td>\n",
       "      <td>None</td>\n",
       "      <td>None</td>\n",
       "      <td>None</td>\n",
       "      <td>None</td>\n",
       "      <td>None</td>\n",
       "      <td>None</td>\n",
       "      <td>None</td>\n",
       "    </tr>\n",
       "    <tr>\n",
       "      <th>31</th>\n",
       "      <td>31.0</td>\n",
       "      <td>0.20477</td>\n",
       "      <td>LINESTRING (-70.73794 -33.46278, -70.73794 -33...</td>\n",
       "      <td>253282676</td>\n",
       "      <td>4763027462</td>\n",
       "      <td>0</td>\n",
       "      <td>1287581726</td>\n",
       "      <td>True</td>\n",
       "      <td>3</td>\n",
       "      <td>Avenida Teniente Cruz</td>\n",
       "      <td>primary</td>\n",
       "      <td>50</td>\n",
       "      <td>4.667</td>\n",
       "      <td>None</td>\n",
       "      <td>None</td>\n",
       "      <td>None</td>\n",
       "      <td>None</td>\n",
       "      <td>None</td>\n",
       "      <td>None</td>\n",
       "      <td>None</td>\n",
       "    </tr>\n",
       "  </tbody>\n",
       "</table>\n",
       "</div>"
      ],
      "text/plain": [
       "     fid   pje_ep                                           geometry   \n",
       "30  31.0  0.20477  LINESTRING (-70.73794 -33.46278, -70.73794 -33...  \\\n",
       "31  31.0  0.20477  LINESTRING (-70.73794 -33.46278, -70.73794 -33...   \n",
       "\n",
       "            u           v  key       osmid  oneway lanes   \n",
       "30  253282676  4763027462    0  1287581726    True     3  \\\n",
       "31  253282676  4763027462    0  1287581726    True     3   \n",
       "\n",
       "                     name  highway maxspeed  length bridge   ref junction   \n",
       "30  Avenida Teniente Cruz  primary       50   4.667   None  None     None  \\\n",
       "31  Avenida Teniente Cruz  primary       50   4.667   None  None     None   \n",
       "\n",
       "   tunnel access width service  \n",
       "30   None   None  None    None  \n",
       "31   None   None  None    None  "
      ]
     },
     "execution_count": 8,
     "metadata": {},
     "output_type": "execute_result"
    }
   ],
   "source": [
    "osmnx_pje_ep.loc[osmnx_pje_ep.duplicated(subset=['u','v','key','osmid'],keep=False)].head(2)"
   ]
  },
  {
   "cell_type": "code",
   "execution_count": 9,
   "id": "2005e7d4-b751-4a5a-a4a3-7ba428e34b5d",
   "metadata": {},
   "outputs": [
    {
     "name": "stdout",
     "output_type": "stream",
     "text": [
      "0\n",
      "0\n",
      "0\n",
      "0\n",
      "0\n"
     ]
    }
   ],
   "source": [
    "print(len(osmnx_pje_ep.loc[osmnx_pje_ep.u.isna()]))\n",
    "print(len(osmnx_pje_ep.loc[osmnx_pje_ep.v.isna()]))\n",
    "print(len(osmnx_pje_ep.loc[osmnx_pje_ep.key.isna()]))\n",
    "print(len(osmnx_pje_ep.loc[osmnx_pje_ep.geometry.isna()]))\n",
    "print(len(osmnx_pje_ep.loc[osmnx_pje_ep.pje_ep.isna()]))"
   ]
  },
  {
   "cell_type": "markdown",
   "id": "7c0abe15-4814-4997-88b3-883cfcee4c97",
   "metadata": {},
   "source": [
    "### __Duplicated u,v,key and osmid would generate network problems. Examine in QGIS.__\n",
    "#### __Result:__ Duplicated lines have the same u,v,key,osmid and pje_ep values. Dropping dupplicates on that subset resulted in the right amount of edges."
   ]
  },
  {
   "cell_type": "code",
   "execution_count": 11,
   "id": "b7d481e9-7892-44a7-bb5a-e89639ec9474",
   "metadata": {},
   "outputs": [],
   "source": [
    "examine = osmnx_pje_ep.loc[osmnx_pje_ep.duplicated(subset=['u','v','key','osmid'],keep=False)]\n",
    "if save:\n",
    "    examine.to_file(recieved_data_dir + f\"osmnx_pje_ep_duplicates.gpkg\", driver='GPKG')"
   ]
  },
  {
   "cell_type": "code",
   "execution_count": 24,
   "id": "22aa872d-5600-4de7-928b-f0e899e1a336",
   "metadata": {},
   "outputs": [
    {
     "name": "stdout",
     "output_type": "stream",
     "text": [
      "(114163, 20)\n"
     ]
    },
    {
     "data": {
      "text/html": [
       "<div>\n",
       "<style scoped>\n",
       "    .dataframe tbody tr th:only-of-type {\n",
       "        vertical-align: middle;\n",
       "    }\n",
       "\n",
       "    .dataframe tbody tr th {\n",
       "        vertical-align: top;\n",
       "    }\n",
       "\n",
       "    .dataframe thead th {\n",
       "        text-align: right;\n",
       "    }\n",
       "</style>\n",
       "<table border=\"1\" class=\"dataframe\">\n",
       "  <thead>\n",
       "    <tr style=\"text-align: right;\">\n",
       "      <th></th>\n",
       "      <th>fid</th>\n",
       "      <th>pje_ep</th>\n",
       "      <th>geometry</th>\n",
       "      <th>u</th>\n",
       "      <th>v</th>\n",
       "      <th>key</th>\n",
       "      <th>osmid</th>\n",
       "      <th>oneway</th>\n",
       "      <th>lanes</th>\n",
       "      <th>name</th>\n",
       "      <th>highway</th>\n",
       "      <th>maxspeed</th>\n",
       "      <th>length</th>\n",
       "      <th>bridge</th>\n",
       "      <th>ref</th>\n",
       "      <th>junction</th>\n",
       "      <th>tunnel</th>\n",
       "      <th>access</th>\n",
       "      <th>width</th>\n",
       "      <th>service</th>\n",
       "    </tr>\n",
       "  </thead>\n",
       "  <tbody>\n",
       "    <tr>\n",
       "      <th>0</th>\n",
       "      <td>1.0</td>\n",
       "      <td>0.893827</td>\n",
       "      <td>LINESTRING (-70.73850 -33.49002, -70.73804 -33...</td>\n",
       "      <td>13879360</td>\n",
       "      <td>454636340</td>\n",
       "      <td>0</td>\n",
       "      <td>446008556</td>\n",
       "      <td>False</td>\n",
       "      <td>1</td>\n",
       "      <td>Aliro Correa</td>\n",
       "      <td>living_street</td>\n",
       "      <td>None</td>\n",
       "      <td>41.855</td>\n",
       "      <td>None</td>\n",
       "      <td>None</td>\n",
       "      <td>None</td>\n",
       "      <td>None</td>\n",
       "      <td>None</td>\n",
       "      <td>None</td>\n",
       "      <td>None</td>\n",
       "    </tr>\n",
       "    <tr>\n",
       "      <th>1</th>\n",
       "      <td>2.0</td>\n",
       "      <td>0.440809</td>\n",
       "      <td>LINESTRING (-70.72370 -33.48910, -70.72352 -33...</td>\n",
       "      <td>15379742</td>\n",
       "      <td>1721486069</td>\n",
       "      <td>0</td>\n",
       "      <td>1243253087</td>\n",
       "      <td>False</td>\n",
       "      <td>2</td>\n",
       "      <td>Rosa Ester Rodríguez</td>\n",
       "      <td>tertiary</td>\n",
       "      <td>None</td>\n",
       "      <td>18.770</td>\n",
       "      <td>None</td>\n",
       "      <td>None</td>\n",
       "      <td>None</td>\n",
       "      <td>None</td>\n",
       "      <td>None</td>\n",
       "      <td>None</td>\n",
       "      <td>None</td>\n",
       "    </tr>\n",
       "  </tbody>\n",
       "</table>\n",
       "</div>"
      ],
      "text/plain": [
       "   fid    pje_ep                                           geometry         u   \n",
       "0  1.0  0.893827  LINESTRING (-70.73850 -33.49002, -70.73804 -33...  13879360  \\\n",
       "1  2.0  0.440809  LINESTRING (-70.72370 -33.48910, -70.72352 -33...  15379742   \n",
       "\n",
       "            v  key       osmid  oneway lanes                  name   \n",
       "0   454636340    0   446008556   False     1          Aliro Correa  \\\n",
       "1  1721486069    0  1243253087   False     2  Rosa Ester Rodríguez   \n",
       "\n",
       "         highway maxspeed  length bridge   ref junction tunnel access width   \n",
       "0  living_street     None  41.855   None  None     None   None   None  None  \\\n",
       "1       tertiary     None  18.770   None  None     None   None   None  None   \n",
       "\n",
       "  service  \n",
       "0    None  \n",
       "1    None  "
      ]
     },
     "execution_count": 24,
     "metadata": {},
     "output_type": "execute_result"
    }
   ],
   "source": [
    "# After examination:\n",
    "osmnx_pje_ep_f = osmnx_pje_ep.drop_duplicates(subset=['u','v','key','osmid','pje_ep'])\n",
    "\n",
    "# Show\n",
    "print(osmnx_pje_ep_f.shape)\n",
    "osmnx_pje_ep_f.head(2)"
   ]
  },
  {
   "cell_type": "code",
   "execution_count": 25,
   "id": "5be60eab-999a-4248-afea-a56966b285fc",
   "metadata": {},
   "outputs": [
    {
     "name": "stdout",
     "output_type": "stream",
     "text": [
      "(114163, 20)\n"
     ]
    },
    {
     "data": {
      "text/html": [
       "<div>\n",
       "<style scoped>\n",
       "    .dataframe tbody tr th:only-of-type {\n",
       "        vertical-align: middle;\n",
       "    }\n",
       "\n",
       "    .dataframe tbody tr th {\n",
       "        vertical-align: top;\n",
       "    }\n",
       "\n",
       "    .dataframe thead th {\n",
       "        text-align: right;\n",
       "    }\n",
       "</style>\n",
       "<table border=\"1\" class=\"dataframe\">\n",
       "  <thead>\n",
       "    <tr style=\"text-align: right;\">\n",
       "      <th></th>\n",
       "      <th>line_id</th>\n",
       "      <th>pje_ep</th>\n",
       "      <th>geometry</th>\n",
       "      <th>u</th>\n",
       "      <th>v</th>\n",
       "      <th>key</th>\n",
       "      <th>osmid</th>\n",
       "      <th>oneway</th>\n",
       "      <th>lanes</th>\n",
       "      <th>name</th>\n",
       "      <th>highway</th>\n",
       "      <th>maxspeed</th>\n",
       "      <th>length</th>\n",
       "      <th>bridge</th>\n",
       "      <th>ref</th>\n",
       "      <th>junction</th>\n",
       "      <th>tunnel</th>\n",
       "      <th>access</th>\n",
       "      <th>width</th>\n",
       "      <th>service</th>\n",
       "    </tr>\n",
       "  </thead>\n",
       "  <tbody>\n",
       "    <tr>\n",
       "      <th>0</th>\n",
       "      <td>0</td>\n",
       "      <td>0.893827</td>\n",
       "      <td>LINESTRING (-70.73850 -33.49002, -70.73804 -33...</td>\n",
       "      <td>13879360</td>\n",
       "      <td>454636340</td>\n",
       "      <td>0</td>\n",
       "      <td>446008556</td>\n",
       "      <td>False</td>\n",
       "      <td>1</td>\n",
       "      <td>Aliro Correa</td>\n",
       "      <td>living_street</td>\n",
       "      <td>None</td>\n",
       "      <td>41.855</td>\n",
       "      <td>None</td>\n",
       "      <td>None</td>\n",
       "      <td>None</td>\n",
       "      <td>None</td>\n",
       "      <td>None</td>\n",
       "      <td>None</td>\n",
       "      <td>None</td>\n",
       "    </tr>\n",
       "    <tr>\n",
       "      <th>1</th>\n",
       "      <td>1</td>\n",
       "      <td>0.440809</td>\n",
       "      <td>LINESTRING (-70.72370 -33.48910, -70.72352 -33...</td>\n",
       "      <td>15379742</td>\n",
       "      <td>1721486069</td>\n",
       "      <td>0</td>\n",
       "      <td>1243253087</td>\n",
       "      <td>False</td>\n",
       "      <td>2</td>\n",
       "      <td>Rosa Ester Rodríguez</td>\n",
       "      <td>tertiary</td>\n",
       "      <td>None</td>\n",
       "      <td>18.770</td>\n",
       "      <td>None</td>\n",
       "      <td>None</td>\n",
       "      <td>None</td>\n",
       "      <td>None</td>\n",
       "      <td>None</td>\n",
       "      <td>None</td>\n",
       "      <td>None</td>\n",
       "    </tr>\n",
       "  </tbody>\n",
       "</table>\n",
       "</div>"
      ],
      "text/plain": [
       "   line_id    pje_ep                                           geometry   \n",
       "0        0  0.893827  LINESTRING (-70.73850 -33.49002, -70.73804 -33...  \\\n",
       "1        1  0.440809  LINESTRING (-70.72370 -33.48910, -70.72352 -33...   \n",
       "\n",
       "          u           v  key       osmid  oneway lanes                  name   \n",
       "0  13879360   454636340    0   446008556   False     1          Aliro Correa  \\\n",
       "1  15379742  1721486069    0  1243253087   False     2  Rosa Ester Rodríguez   \n",
       "\n",
       "         highway maxspeed  length bridge   ref junction tunnel access width   \n",
       "0  living_street     None  41.855   None  None     None   None   None  None  \\\n",
       "1       tertiary     None  18.770   None  None     None   None   None  None   \n",
       "\n",
       "  service  \n",
       "0    None  \n",
       "1    None  "
      ]
     },
     "execution_count": 25,
     "metadata": {},
     "output_type": "execute_result"
    }
   ],
   "source": [
    "# Reset index and drop unordered index and fid\n",
    "osmnx_pje_ep_f = osmnx_pje_ep_f.reset_index()\n",
    "osmnx_pje_ep_f.drop(columns=['index','fid'],inplace=True)\n",
    "# Reset index again to have a col named 'index' with a unique id for each line\n",
    "osmnx_pje_ep_f = osmnx_pje_ep_f.reset_index()\n",
    "osmnx_pje_ep_f.rename(columns={'index':'line_id'},inplace=True)\n",
    "# Show\n",
    "print(osmnx_pje_ep_f.shape)\n",
    "osmnx_pje_ep_f.head(2)"
   ]
  },
  {
   "cell_type": "code",
   "execution_count": 26,
   "id": "da2534af-dd08-413f-ae0d-e12b1e23302f",
   "metadata": {},
   "outputs": [
    {
     "data": {
      "text/html": [
       "<div>\n",
       "<style scoped>\n",
       "    .dataframe tbody tr th:only-of-type {\n",
       "        vertical-align: middle;\n",
       "    }\n",
       "\n",
       "    .dataframe tbody tr th {\n",
       "        vertical-align: top;\n",
       "    }\n",
       "\n",
       "    .dataframe thead th {\n",
       "        text-align: right;\n",
       "    }\n",
       "</style>\n",
       "<table border=\"1\" class=\"dataframe\">\n",
       "  <thead>\n",
       "    <tr style=\"text-align: right;\">\n",
       "      <th></th>\n",
       "      <th>line_id</th>\n",
       "      <th>pje_ep</th>\n",
       "      <th>geometry</th>\n",
       "      <th>u</th>\n",
       "      <th>v</th>\n",
       "      <th>key</th>\n",
       "      <th>osmid</th>\n",
       "      <th>oneway</th>\n",
       "      <th>lanes</th>\n",
       "      <th>name</th>\n",
       "      <th>highway</th>\n",
       "      <th>maxspeed</th>\n",
       "      <th>length</th>\n",
       "      <th>bridge</th>\n",
       "      <th>ref</th>\n",
       "      <th>junction</th>\n",
       "      <th>tunnel</th>\n",
       "      <th>access</th>\n",
       "      <th>width</th>\n",
       "      <th>service</th>\n",
       "    </tr>\n",
       "  </thead>\n",
       "  <tbody>\n",
       "    <tr>\n",
       "      <th>114161</th>\n",
       "      <td>114161</td>\n",
       "      <td>0.750765</td>\n",
       "      <td>LINESTRING (-70.60749 -33.43871, -70.60755 -33...</td>\n",
       "      <td>11945134074</td>\n",
       "      <td>11945134073</td>\n",
       "      <td>1</td>\n",
       "      <td>1288055162</td>\n",
       "      <td>False</td>\n",
       "      <td>None</td>\n",
       "      <td>None</td>\n",
       "      <td>steps</td>\n",
       "      <td>None</td>\n",
       "      <td>7.670</td>\n",
       "      <td>None</td>\n",
       "      <td>None</td>\n",
       "      <td>None</td>\n",
       "      <td>None</td>\n",
       "      <td>None</td>\n",
       "      <td>None</td>\n",
       "      <td>None</td>\n",
       "    </tr>\n",
       "    <tr>\n",
       "      <th>114162</th>\n",
       "      <td>114162</td>\n",
       "      <td>0.729273</td>\n",
       "      <td>LINESTRING (-70.60749 -33.43871, -70.60746 -33...</td>\n",
       "      <td>11945134074</td>\n",
       "      <td>5733005647</td>\n",
       "      <td>0</td>\n",
       "      <td>604098450</td>\n",
       "      <td>False</td>\n",
       "      <td>None</td>\n",
       "      <td>None</td>\n",
       "      <td>footway</td>\n",
       "      <td>None</td>\n",
       "      <td>3.646</td>\n",
       "      <td>None</td>\n",
       "      <td>None</td>\n",
       "      <td>None</td>\n",
       "      <td>None</td>\n",
       "      <td>None</td>\n",
       "      <td>None</td>\n",
       "      <td>None</td>\n",
       "    </tr>\n",
       "  </tbody>\n",
       "</table>\n",
       "</div>"
      ],
      "text/plain": [
       "        line_id    pje_ep                                           geometry   \n",
       "114161   114161  0.750765  LINESTRING (-70.60749 -33.43871, -70.60755 -33...  \\\n",
       "114162   114162  0.729273  LINESTRING (-70.60749 -33.43871, -70.60746 -33...   \n",
       "\n",
       "                  u            v  key       osmid  oneway lanes  name   \n",
       "114161  11945134074  11945134073    1  1288055162   False  None  None  \\\n",
       "114162  11945134074   5733005647    0   604098450   False  None  None   \n",
       "\n",
       "        highway maxspeed  length bridge   ref junction tunnel access width   \n",
       "114161    steps     None   7.670   None  None     None   None   None  None  \\\n",
       "114162  footway     None   3.646   None  None     None   None   None  None   \n",
       "\n",
       "       service  \n",
       "114161    None  \n",
       "114162    None  "
      ]
     },
     "execution_count": 26,
     "metadata": {},
     "output_type": "execute_result"
    }
   ],
   "source": [
    "osmnx_pje_ep_f.tail(2)"
   ]
  },
  {
   "cell_type": "code",
   "execution_count": 27,
   "id": "4db4e991-671d-4975-ab30-f756653fb33c",
   "metadata": {},
   "outputs": [],
   "source": [
    "if save:\n",
    "    osmnx_pje_ep_f.to_file(recieved_data_dir + f\"osmnx_pje_ep_nodups.gpkg\", driver='GPKG')"
   ]
  },
  {
   "cell_type": "markdown",
   "id": "aeab9c47-a21a-47f6-8330-d1cc18156d42",
   "metadata": {},
   "source": [
    "### Projects test"
   ]
  },
  {
   "cell_type": "code",
   "execution_count": 39,
   "id": "3ba7694b-dcf0-44ca-9e0d-0bc177c2936b",
   "metadata": {},
   "outputs": [
    {
     "data": {
      "text/plain": [
       "<Axes: >"
      ]
     },
     "execution_count": 39,
     "metadata": {},
     "output_type": "execute_result"
    },
    {
     "data": {
      "image/png": "[encoded data removed]",
      "text/plain": [
       "<Figure size 640x480 with 1 Axes>"
      ]
     },
     "metadata": {},
     "output_type": "display_data"
    }
   ],
   "source": [
    "# Red buena calidad and all projects\n",
    "delete_ids = [51047,51048,54031,54032,87638,89508,89512,89513]\n",
    "\n",
    "# Plaza Italia\n",
    "#line_ids = [20828,20917,21015,21016,21018,21149,44247,45577,45578,56085,59768,59844,60523,60528,60529,60530,60531,60532,63208,63210,65960,68538,68541,84146,96419]\n",
    "# Norte sur\n",
    "#line_ids = [20394,20395,20577,20580,20736,20975,23202,24877,24881,25435,38324,44777,44783,44785,51696,59335,62336,68725,68726,82306,114137]\n",
    "# Parque Bueras\n",
    "#line_ids = [45261,45269,45270,45271,45273,45274,45275,45277,50345,61581,88877,88880,114163,114164,114165,114166]\n",
    "\n",
    "osmnx_pje_ep_f.loc[osmnx_pje_ep_f.line_id.isin(delete_ids)].plot()"
   ]
  },
  {
   "cell_type": "code",
   "execution_count": null,
   "id": "6fed675a-596e-471a-bda6-cec48abca34f",
   "metadata": {},
   "outputs": [],
   "source": []
  }
 ],
 "metadata": {
  "kernelspec": {
   "display_name": "GDS-10.0",
   "language": "python",
   "name": "gds"
  },
  "language_info": {
   "codemirror_mode": {
    "name": "ipython",
    "version": 3
   },
   "file_extension": ".py",
   "mimetype": "text/x-python",
   "name": "python",
   "nbconvert_exporter": "python",
   "pygments_lexer": "ipython3",
   "version": "3.9.18"
  }
 },
 "nbformat": 4,
 "nbformat_minor": 5
}
