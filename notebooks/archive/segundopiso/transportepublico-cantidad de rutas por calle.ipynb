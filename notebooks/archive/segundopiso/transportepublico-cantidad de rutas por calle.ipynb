{
 "cells": [
  {
   "cell_type": "markdown",
   "id": "20a2b031-4881-46ef-bb97-3b8cd8670dee",
   "metadata": {},
   "source": [
    "# Cantidad de rutas de transporte público por cada calle"
   ]
  },
  {
   "cell_type": "markdown",
   "id": "09f25a4d-af06-4d27-8176-e7d040bf4261",
   "metadata": {},
   "source": [
    "Este notebook toma de insumos ejes viales y hubdistance resultantes del \"Procedimiento para trazar un mapa de las rutas de transporte público que pasan por cada calle\" dentro de la carpeta de \"Metodologías\" en \"Docs & Files\" de \"Innovación y Desarrollo\" en el Basecamp del Observatorio de Ciudades. (26/04/2023)\n",
    "\n",
    "Con esos insumos se genera un gdf con las calles y el número aproximado de rutas de transporte público que transitan en ellas."
   ]
  },
  {
   "cell_type": "markdown",
   "id": "64df9f28-f6a5-49f4-bfac-7dde79d4155d",
   "metadata": {},
   "source": [
    "## Import libraries"
   ]
  },
  {
   "cell_type": "code",
   "execution_count": 1,
   "id": "8e4e47c4-357c-4adc-bd1b-ad56bfd434b1",
   "metadata": {
    "tags": []
   },
   "outputs": [
    {
     "name": "stderr",
     "output_type": "stream",
     "text": [
      "/usr/local/python/lib/python3.10/site-packages/osmnx/utils.py:192: UserWarning: The `utils.config` function is deprecated and will be removed in a future release. Instead, use the `settings` module directly to configure a global setting's value. For example, `ox.settings.log_console=True`.\n",
      "  warnings.warn(\n"
     ]
    }
   ],
   "source": [
    "import os\n",
    "import sys\n",
    "\n",
    "import pandas as pd\n",
    "import geopandas as gpd\n",
    "import osmnx as ox\n",
    "import numpy as np\n",
    "\n",
    "import matplotlib.pyplot as plt\n",
    "\n",
    "import warnings\n",
    "warnings.simplefilter(action='ignore', category=FutureWarning)\n",
    "\n",
    "module_path = os.path.abspath(os.path.join('../../'))\n",
    "if module_path not in sys.path:\n",
    "    sys.path.append(module_path)\n",
    "    import aup"
   ]
  },
  {
   "cell_type": "markdown",
   "id": "f14cf1f7-b465-46f8-927a-81e7dc1cb672",
   "metadata": {},
   "source": [
    "## Download data"
   ]
  },
  {
   "cell_type": "code",
   "execution_count": 3,
   "id": "546f6958-dfda-4f9d-8edb-57a7ebe7ef20",
   "metadata": {
    "tags": []
   },
   "outputs": [],
   "source": [
    "#Cargar los ejes viales con el ID único CVEGEOSEG anteriormente generado\n",
    "ejesviales = gpd.read_file('../../data/external/temporal_todocker/marcogeo_ejesviales_2km.gpkg')\n",
    "\n",
    "#Cargar el Distance to nearest hub entre los puntos de las rutas y los puntos de las calles anteriormente generado\n",
    "hubdistance = gpd.read_file('../../data/external/temporal_todocker/hubdistance_interpolatedpoints10m.gpkg')"
   ]
  },
  {
   "cell_type": "code",
   "execution_count": 4,
   "id": "7050945d-ac0d-41e6-aabb-6a10146c8427",
   "metadata": {
    "tags": []
   },
   "outputs": [
    {
     "name": "stdout",
     "output_type": "stream",
     "text": [
      "(19887, 14)\n"
     ]
    },
    {
     "data": {
      "text/html": [
       "<div>\n",
       "<style scoped>\n",
       "    .dataframe tbody tr th:only-of-type {\n",
       "        vertical-align: middle;\n",
       "    }\n",
       "\n",
       "    .dataframe tbody tr th {\n",
       "        vertical-align: top;\n",
       "    }\n",
       "\n",
       "    .dataframe thead th {\n",
       "        text-align: right;\n",
       "    }\n",
       "</style>\n",
       "<table border=\"1\" class=\"dataframe\">\n",
       "  <thead>\n",
       "    <tr style=\"text-align: right;\">\n",
       "      <th></th>\n",
       "      <th>CVEGEO</th>\n",
       "      <th>CVE_ENT</th>\n",
       "      <th>CVE_MUN</th>\n",
       "      <th>CVE_LOC</th>\n",
       "      <th>CVEVIAL</th>\n",
       "      <th>CVESEG</th>\n",
       "      <th>NOMVIAL</th>\n",
       "      <th>TIPOVIAL</th>\n",
       "      <th>SENTIDO</th>\n",
       "      <th>TIPOSEN</th>\n",
       "      <th>AMBITO</th>\n",
       "      <th>CVEGEOSEG</th>\n",
       "      <th>rutas_transporte</th>\n",
       "      <th>geometry</th>\n",
       "    </tr>\n",
       "  </thead>\n",
       "  <tbody>\n",
       "    <tr>\n",
       "      <th>0</th>\n",
       "      <td>140390001</td>\n",
       "      <td>14</td>\n",
       "      <td>039</td>\n",
       "      <td>0001</td>\n",
       "      <td>03975</td>\n",
       "      <td>00007</td>\n",
       "      <td>Patria</td>\n",
       "      <td>Avenida</td>\n",
       "      <td>Dos sentidos</td>\n",
       "      <td>2</td>\n",
       "      <td>Urbana</td>\n",
       "      <td>1403900010397500007</td>\n",
       "      <td>NaN</td>\n",
       "      <td>MULTILINESTRING ((668243.519 2290955.957, 6682...</td>\n",
       "    </tr>\n",
       "  </tbody>\n",
       "</table>\n",
       "</div>"
      ],
      "text/plain": [
       "      CVEGEO CVE_ENT CVE_MUN CVE_LOC CVEVIAL CVESEG NOMVIAL TIPOVIAL  \\\n",
       "0  140390001      14     039    0001   03975  00007  Patria  Avenida   \n",
       "\n",
       "        SENTIDO  TIPOSEN  AMBITO            CVEGEOSEG  rutas_transporte  \\\n",
       "0  Dos sentidos        2  Urbana  1403900010397500007               NaN   \n",
       "\n",
       "                                            geometry  \n",
       "0  MULTILINESTRING ((668243.519 2290955.957, 6682...  "
      ]
     },
     "execution_count": 4,
     "metadata": {},
     "output_type": "execute_result"
    }
   ],
   "source": [
    "print(ejesviales.shape)\n",
    "ejesviales.head(1)"
   ]
  },
  {
   "cell_type": "code",
   "execution_count": 5,
   "id": "085d85db-8978-42dc-9fc8-982165bc9623",
   "metadata": {
    "tags": []
   },
   "outputs": [
    {
     "name": "stdout",
     "output_type": "stream",
     "text": [
      "(136330, 10)\n"
     ]
    },
    {
     "data": {
      "text/html": [
       "<div>\n",
       "<style scoped>\n",
       "    .dataframe tbody tr th:only-of-type {\n",
       "        vertical-align: middle;\n",
       "    }\n",
       "\n",
       "    .dataframe tbody tr th {\n",
       "        vertical-align: top;\n",
       "    }\n",
       "\n",
       "    .dataframe thead th {\n",
       "        text-align: right;\n",
       "    }\n",
       "</style>\n",
       "<table border=\"1\" class=\"dataframe\">\n",
       "  <thead>\n",
       "    <tr style=\"text-align: right;\">\n",
       "      <th></th>\n",
       "      <th>fid</th>\n",
       "      <th>Tipo_de_se</th>\n",
       "      <th>Clasificac</th>\n",
       "      <th>Clasifica0</th>\n",
       "      <th>idruta</th>\n",
       "      <th>distance</th>\n",
       "      <th>angle</th>\n",
       "      <th>HubName</th>\n",
       "      <th>HubDist</th>\n",
       "      <th>geometry</th>\n",
       "    </tr>\n",
       "  </thead>\n",
       "  <tbody>\n",
       "    <tr>\n",
       "      <th>0</th>\n",
       "      <td>11</td>\n",
       "      <td>Complementaria</td>\n",
       "      <td>Rutas complementarias y otros servicios</td>\n",
       "      <td>Operando</td>\n",
       "      <td>1</td>\n",
       "      <td>0.0</td>\n",
       "      <td>2.55326</td>\n",
       "      <td>1403900010366300013</td>\n",
       "      <td>5.275342</td>\n",
       "      <td>POINT (671655.450 2288709.068)</td>\n",
       "    </tr>\n",
       "    <tr>\n",
       "      <th>1</th>\n",
       "      <td>11</td>\n",
       "      <td>Complementaria</td>\n",
       "      <td>Rutas complementarias y otros servicios</td>\n",
       "      <td>Operando</td>\n",
       "      <td>1</td>\n",
       "      <td>10.0</td>\n",
       "      <td>2.55326</td>\n",
       "      <td>1403900010366300013</td>\n",
       "      <td>4.997463</td>\n",
       "      <td>POINT (671655.896 2288719.059)</td>\n",
       "    </tr>\n",
       "  </tbody>\n",
       "</table>\n",
       "</div>"
      ],
      "text/plain": [
       "   fid      Tipo_de_se                               Clasificac Clasifica0  \\\n",
       "0   11  Complementaria  Rutas complementarias y otros servicios   Operando   \n",
       "1   11  Complementaria  Rutas complementarias y otros servicios   Operando   \n",
       "\n",
       "   idruta  distance    angle              HubName   HubDist  \\\n",
       "0       1       0.0  2.55326  1403900010366300013  5.275342   \n",
       "1       1      10.0  2.55326  1403900010366300013  4.997463   \n",
       "\n",
       "                         geometry  \n",
       "0  POINT (671655.450 2288709.068)  \n",
       "1  POINT (671655.896 2288719.059)  "
      ]
     },
     "execution_count": 5,
     "metadata": {},
     "output_type": "execute_result"
    }
   ],
   "source": [
    "print(hubdistance.shape)\n",
    "hubdistance.head(2)"
   ]
  },
  {
   "cell_type": "code",
   "execution_count": 6,
   "id": "31621357-4591-43bf-81ee-3d9636e4f6e4",
   "metadata": {
    "tags": []
   },
   "outputs": [
    {
     "data": {
      "text/html": [
       "<div>\n",
       "<style scoped>\n",
       "    .dataframe tbody tr th:only-of-type {\n",
       "        vertical-align: middle;\n",
       "    }\n",
       "\n",
       "    .dataframe tbody tr th {\n",
       "        vertical-align: top;\n",
       "    }\n",
       "\n",
       "    .dataframe thead th {\n",
       "        text-align: right;\n",
       "    }\n",
       "</style>\n",
       "<table border=\"1\" class=\"dataframe\">\n",
       "  <thead>\n",
       "    <tr style=\"text-align: right;\">\n",
       "      <th></th>\n",
       "      <th>idruta</th>\n",
       "      <th>segmentocalle</th>\n",
       "      <th>geometry</th>\n",
       "    </tr>\n",
       "  </thead>\n",
       "  <tbody>\n",
       "    <tr>\n",
       "      <th>0</th>\n",
       "      <td>1</td>\n",
       "      <td>1403900010366300013</td>\n",
       "      <td>POINT (671655.450 2288709.068)</td>\n",
       "    </tr>\n",
       "  </tbody>\n",
       "</table>\n",
       "</div>"
      ],
      "text/plain": [
       "   idruta        segmentocalle                        geometry\n",
       "0       1  1403900010366300013  POINT (671655.450 2288709.068)"
      ]
     },
     "execution_count": 6,
     "metadata": {},
     "output_type": "execute_result"
    }
   ],
   "source": [
    "#Filtrado de columnas para hubdistance\n",
    "columns_tokeep = ['idruta','HubName','geometry']\n",
    "hubdistance_f = hubdistance[columns_tokeep]\n",
    "hubdistance_f = hubdistance_f.rename(columns={'HubName':'segmentocalle'})\n",
    "hubdistance_f.head(1)"
   ]
  },
  {
   "cell_type": "markdown",
   "id": "2271b5ce-b326-49ef-a0f2-04ce16f1bd4c",
   "metadata": {
    "jp-MarkdownHeadingCollapsed": true,
    "tags": []
   },
   "source": [
    "## Iteración (Método anterior, no permite ajustar el número de veces que se debe encontrar una ruta en un segmento para considerar que pasa por ahí y no solo es una intersección)"
   ]
  },
  {
   "cell_type": "code",
   "execution_count": 89,
   "id": "d47961bb-4f63-4c2d-b7f2-631d18a8c645",
   "metadata": {
    "tags": []
   },
   "outputs": [],
   "source": [
    "#hubdistance_f.head(2)"
   ]
  },
  {
   "cell_type": "code",
   "execution_count": 90,
   "id": "4299b4d7-5676-4206-b754-e1378aba17b3",
   "metadata": {
    "tags": []
   },
   "outputs": [],
   "source": [
    "# ---------- Diccionario de segmentos que tienen rutas y las rutas que tienen\n",
    "#dicc_segmentos_rutas = {}\n",
    "#listavacia = []\n",
    "\n",
    "# ---------- Crear un diccionario con los segmentos de calle y una lista de rutas por segmento\n",
    "#for index,row in hubdistance_f.iterrows():    \n",
    "#    segmento_calle = row['segmentocalle'] #Es un str   \n",
    "#    ruta = row['idruta'] #Es un int\n",
    "    \n",
    "    # ---------- Si es la primera vez que encuentra este segmento, agregarlo con una lista vacía\n",
    "#    if segmento_calle not in dicc_segmentos_rutas:\n",
    "#        dicc_segmentos_rutas[segmento_calle] = listavacia.copy()\n",
    "\n",
    "    # ---------- Para esta row en la que iteramos (segmento de calle y ruta), si es la primera vez que encuentra la ruta en este segmento, agregarla a esa lista:\n",
    "#    if ruta not in dicc_segmentos_rutas[segmento_calle]:\n",
    "#        dicc_segmentos_rutas[segmento_calle].append(ruta)"
   ]
  },
  {
   "cell_type": "markdown",
   "id": "51375608-c3a8-4a55-9236-c646fecce8c4",
   "metadata": {
    "tags": []
   },
   "source": [
    "## Data processing 01 - Diccionario con segmentos y rutas que pasan por cada segmento"
   ]
  },
  {
   "cell_type": "code",
   "execution_count": 25,
   "id": "de390df7-3305-41db-a790-4c69d0caeeda",
   "metadata": {
    "tags": []
   },
   "outputs": [],
   "source": [
    "#Lista de rutas de transporte público\n",
    "rutas = list(hubdistance_f.idruta.unique())"
   ]
  },
  {
   "cell_type": "code",
   "execution_count": 26,
   "id": "04200497-dc56-473b-b8ff-b92f8f667fe6",
   "metadata": {
    "tags": []
   },
   "outputs": [],
   "source": [
    "#---------- Insumos base de la iteración ----------\n",
    "dicc_segmentos_rutas = {} #Guarda los segmentos de calle y las rutas que pasan por cada segmento de calle\n",
    "listavacia = [] #Lista vacía usada cuando se encuentra un nuevo segmento de calle\n",
    "\n",
    "#---------- Para decidir si es una intersección o una calle muy pequeña se usa mincount ----------\n",
    "\n",
    "# mincount es el número mínimo de ocasiones en las que se debe encontrar un segmento de calle cerca de una ruta \n",
    "# para considerar que la ruta pasa por ahí y no solo que la encontró porque es una intersección\n",
    "\n",
    "# ¿Cuántos puntos normalmente hay por segmento de calle? Con interpolated points rutas @10m y segmentos @10m  (Iteración actual): \n",
    "    # Cuando una ruta toma una calle de 60-70 metros, registra aprox 6 puntos\n",
    "    # Cuando una ruta toma una calle de 60 metros, registra 4-6 puntos.\n",
    "    # Cuando una ruta toma una calle de 50 metros o menos, registra 3 puntos o menos. (No muy común)\n",
    "    # Cuando una ruta pasa por una intersección registra de 1 a 2 puntos de esa calle\n",
    "\n",
    "# ¿Qué valor de mincount asignar? Depende de lo que se busca.\n",
    "    # mincount de 9 genera muchos gaps en las rutas, pero no hay nada que limpiar en GIS (No toma en cuenta calles de intersecciones)\n",
    "    # mincount de 5 genera pocos gaps en las rutas  y poco que limpiar en GIS (Toma algunas calles de intersecciones que hay que retirar)\n",
    "    # mincount de 4 genera casi ningun gap en las rutas y mas o menos que limpiar en GIS (Toma varias intersecciones que hay que retirar)\n",
    "\n",
    "mincount = 5 \n",
    "    \n",
    "#---------- Iterar ruta por ruta ----------\n",
    "for ruta in rutas:\n",
    "    gdf_ruta = hubdistance_f[hubdistance_f.idruta == ruta]\n",
    "\n",
    "    #---------- Contar veces que esa ruta pasa por cada segmento de calle con groupby ----------\n",
    "    segs_deruta = gdf_ruta.groupby('segmentocalle').count()\n",
    "    #---------- Formato ----------\n",
    "    columns_tokeep = ['idruta']\n",
    "    segs_deruta = segs_deruta[columns_tokeep]\n",
    "    segs_deruta = segs_deruta.reset_index()\n",
    "    segs_deruta = segs_deruta.rename(columns={'idruta':'count'})\n",
    "\n",
    "    #---------- Para el count de segmentos de esa ruta: ----------\n",
    "    \n",
    "    #Iterar por cada segmento y las veces que se encontró:\n",
    "    for row_id,row_series in segs_deruta.iterrows():\n",
    "        segmento_calle = row_series[0]\n",
    "        count = row_series[1]\n",
    "    \n",
    "        #---------- Si la ruta pasa por ahí más veces de las que se requieren por mincount\n",
    "        #---------- se confirma que la ruta pasa por ahí. Se agrega al diccionario ese segmento de calle y esa ruta.----------\n",
    "        if count > (mincount-1): \n",
    "            #---------- Si no se había encontrado ese segmento de calle, meterlo al diccionario por primera vez con una lista vacia de rutas ----------\n",
    "            if segmento_calle not in dicc_segmentos_rutas:\n",
    "                dicc_segmentos_rutas[segmento_calle] = listavacia.copy()\n",
    "            \n",
    "            #---------- Si la ruta no está ya asignada a ese segmento, meterla a la lista ----------\n",
    "            if ruta not in dicc_segmentos_rutas[segmento_calle]:\n",
    "                dicc_segmentos_rutas[segmento_calle].append(ruta)"
   ]
  },
  {
   "cell_type": "code",
   "execution_count": 27,
   "id": "220dc772-cea7-44ca-bac2-18e096095b45",
   "metadata": {
    "tags": []
   },
   "outputs": [
    {
     "data": {
      "text/plain": [
       "[152]"
      ]
     },
     "execution_count": 27,
     "metadata": {},
     "output_type": "execute_result"
    }
   ],
   "source": [
    "#Prueba:\n",
    "dicc_segmentos_rutas['1403900010341300007']"
   ]
  },
  {
   "cell_type": "markdown",
   "id": "373cdc18-4dc6-4ac0-a917-224ec8a299c4",
   "metadata": {
    "tags": []
   },
   "source": [
    "## Data processing 02 - Asignar numero de rutas a los segmentos de ejesviales"
   ]
  },
  {
   "cell_type": "code",
   "execution_count": 28,
   "id": "ef327a9e-87e8-4eb1-bbdf-d4a97791bb4c",
   "metadata": {
    "tags": []
   },
   "outputs": [],
   "source": [
    "# Crear un gdf de ejes viales con una columna lista para recibir el conteo de rutas (rutas_count)\n",
    "ejesviales_rutas = ejesviales.copy()\n",
    "ejesviales_rutas['rutas_count'] = 0"
   ]
  },
  {
   "cell_type": "code",
   "execution_count": 29,
   "id": "7309b0a3-7e05-40cd-a9ad-46f3a9442dd3",
   "metadata": {
    "tags": []
   },
   "outputs": [
    {
     "data": {
      "text/html": [
       "<div>\n",
       "<style scoped>\n",
       "    .dataframe tbody tr th:only-of-type {\n",
       "        vertical-align: middle;\n",
       "    }\n",
       "\n",
       "    .dataframe tbody tr th {\n",
       "        vertical-align: top;\n",
       "    }\n",
       "\n",
       "    .dataframe thead th {\n",
       "        text-align: right;\n",
       "    }\n",
       "</style>\n",
       "<table border=\"1\" class=\"dataframe\">\n",
       "  <thead>\n",
       "    <tr style=\"text-align: right;\">\n",
       "      <th></th>\n",
       "      <th>CVEGEO</th>\n",
       "      <th>CVE_ENT</th>\n",
       "      <th>CVE_MUN</th>\n",
       "      <th>CVE_LOC</th>\n",
       "      <th>CVEVIAL</th>\n",
       "      <th>CVESEG</th>\n",
       "      <th>NOMVIAL</th>\n",
       "      <th>TIPOVIAL</th>\n",
       "      <th>SENTIDO</th>\n",
       "      <th>TIPOSEN</th>\n",
       "      <th>AMBITO</th>\n",
       "      <th>CVEGEOSEG</th>\n",
       "      <th>rutas_transporte</th>\n",
       "      <th>geometry</th>\n",
       "      <th>rutas_count</th>\n",
       "    </tr>\n",
       "  </thead>\n",
       "  <tbody>\n",
       "    <tr>\n",
       "      <th>0</th>\n",
       "      <td>140390001</td>\n",
       "      <td>14</td>\n",
       "      <td>039</td>\n",
       "      <td>0001</td>\n",
       "      <td>03975</td>\n",
       "      <td>00007</td>\n",
       "      <td>Patria</td>\n",
       "      <td>Avenida</td>\n",
       "      <td>Dos sentidos</td>\n",
       "      <td>2</td>\n",
       "      <td>Urbana</td>\n",
       "      <td>1403900010397500007</td>\n",
       "      <td>NaN</td>\n",
       "      <td>MULTILINESTRING ((668243.519 2290955.957, 6682...</td>\n",
       "      <td>0</td>\n",
       "    </tr>\n",
       "  </tbody>\n",
       "</table>\n",
       "</div>"
      ],
      "text/plain": [
       "      CVEGEO CVE_ENT CVE_MUN CVE_LOC CVEVIAL CVESEG NOMVIAL TIPOVIAL  \\\n",
       "0  140390001      14     039    0001   03975  00007  Patria  Avenida   \n",
       "\n",
       "        SENTIDO  TIPOSEN  AMBITO            CVEGEOSEG  rutas_transporte  \\\n",
       "0  Dos sentidos        2  Urbana  1403900010397500007               NaN   \n",
       "\n",
       "                                            geometry  rutas_count  \n",
       "0  MULTILINESTRING ((668243.519 2290955.957, 6682...            0  "
      ]
     },
     "execution_count": 29,
     "metadata": {},
     "output_type": "execute_result"
    }
   ],
   "source": [
    "ejesviales_rutas.head(1)"
   ]
  },
  {
   "cell_type": "code",
   "execution_count": 30,
   "id": "98bf062f-8a08-43e5-8f10-26f3bdc86229",
   "metadata": {
    "tags": []
   },
   "outputs": [],
   "source": [
    "# Iterar en el diccionario creado para asignar el numero de rutas que pasan por cada segmento\n",
    "for segmento in dicc_segmentos_rutas:\n",
    "    idx = ejesviales_rutas['CVEGEOSEG'] == segmento\n",
    "    ejesviales_rutas.loc[idx,'rutas_count'] = len(dicc_segmentos_rutas[segmento])"
   ]
  },
  {
   "cell_type": "code",
   "execution_count": 31,
   "id": "1ec937f7-608e-41a8-886e-60c534ae295a",
   "metadata": {
    "tags": []
   },
   "outputs": [
    {
     "data": {
      "text/html": [
       "<div>\n",
       "<style scoped>\n",
       "    .dataframe tbody tr th:only-of-type {\n",
       "        vertical-align: middle;\n",
       "    }\n",
       "\n",
       "    .dataframe tbody tr th {\n",
       "        vertical-align: top;\n",
       "    }\n",
       "\n",
       "    .dataframe thead th {\n",
       "        text-align: right;\n",
       "    }\n",
       "</style>\n",
       "<table border=\"1\" class=\"dataframe\">\n",
       "  <thead>\n",
       "    <tr style=\"text-align: right;\">\n",
       "      <th></th>\n",
       "      <th>CVEGEO</th>\n",
       "      <th>CVE_ENT</th>\n",
       "      <th>CVE_MUN</th>\n",
       "      <th>CVE_LOC</th>\n",
       "      <th>CVEVIAL</th>\n",
       "      <th>CVESEG</th>\n",
       "      <th>NOMVIAL</th>\n",
       "      <th>TIPOVIAL</th>\n",
       "      <th>SENTIDO</th>\n",
       "      <th>TIPOSEN</th>\n",
       "      <th>AMBITO</th>\n",
       "      <th>CVEGEOSEG</th>\n",
       "      <th>rutas_transporte</th>\n",
       "      <th>geometry</th>\n",
       "      <th>rutas_count</th>\n",
       "    </tr>\n",
       "  </thead>\n",
       "  <tbody>\n",
       "    <tr>\n",
       "      <th>14446</th>\n",
       "      <td>141200001</td>\n",
       "      <td>14</td>\n",
       "      <td>120</td>\n",
       "      <td>0001</td>\n",
       "      <td>03541</td>\n",
       "      <td>00003</td>\n",
       "      <td>López Mateos Sur</td>\n",
       "      <td>Avenida</td>\n",
       "      <td>Dos sentidos</td>\n",
       "      <td>2</td>\n",
       "      <td>Urbana</td>\n",
       "      <td>1412000010354100003</td>\n",
       "      <td>NaN</td>\n",
       "      <td>MULTILINESTRING ((666046.183 2283779.958, 6660...</td>\n",
       "      <td>35</td>\n",
       "    </tr>\n",
       "    <tr>\n",
       "      <th>14253</th>\n",
       "      <td>141200001</td>\n",
       "      <td>14</td>\n",
       "      <td>120</td>\n",
       "      <td>0001</td>\n",
       "      <td>00289</td>\n",
       "      <td>00005</td>\n",
       "      <td>López Mateos Sur</td>\n",
       "      <td>Avenida</td>\n",
       "      <td>Dos sentidos</td>\n",
       "      <td>2</td>\n",
       "      <td>Urbana</td>\n",
       "      <td>1412000010028900005</td>\n",
       "      <td>NaN</td>\n",
       "      <td>MULTILINESTRING ((663767.488 2280042.525, 6638...</td>\n",
       "      <td>34</td>\n",
       "    </tr>\n",
       "  </tbody>\n",
       "</table>\n",
       "</div>"
      ],
      "text/plain": [
       "          CVEGEO CVE_ENT CVE_MUN CVE_LOC CVEVIAL CVESEG           NOMVIAL  \\\n",
       "14446  141200001      14     120    0001   03541  00003  López Mateos Sur   \n",
       "14253  141200001      14     120    0001   00289  00005  López Mateos Sur   \n",
       "\n",
       "      TIPOVIAL       SENTIDO  TIPOSEN  AMBITO            CVEGEOSEG  \\\n",
       "14446  Avenida  Dos sentidos        2  Urbana  1412000010354100003   \n",
       "14253  Avenida  Dos sentidos        2  Urbana  1412000010028900005   \n",
       "\n",
       "       rutas_transporte                                           geometry  \\\n",
       "14446               NaN  MULTILINESTRING ((666046.183 2283779.958, 6660...   \n",
       "14253               NaN  MULTILINESTRING ((663767.488 2280042.525, 6638...   \n",
       "\n",
       "       rutas_count  \n",
       "14446           35  \n",
       "14253           34  "
      ]
     },
     "execution_count": 31,
     "metadata": {},
     "output_type": "execute_result"
    }
   ],
   "source": [
    "# Revisión rápida: En la dataframe de López Mateos el mayor número de rutas en una calle es 34, en López Mateos Sur.\n",
    "ejesviales_rutas = ejesviales_rutas.sort_values(by = 'rutas_count', ascending = False)\n",
    "ejesviales_rutas.head(2)"
   ]
  },
  {
   "cell_type": "markdown",
   "id": "39fa0057-1022-4224-89c8-c51581a02f82",
   "metadata": {},
   "source": [
    "## Save to db"
   ]
  },
  {
   "cell_type": "code",
   "execution_count": 32,
   "id": "e2712640-102e-4723-99d0-41a7c4920791",
   "metadata": {
    "tags": []
   },
   "outputs": [],
   "source": [
    "ejesviales_rutas = ejesviales_rutas.to_crs(\"EPSG:4326\")\n",
    "aup.gdf_to_db_slow(ejesviales_rutas,\"rutastransporte_bystreet\", 'segundopiso', if_exists='replace')"
   ]
  },
  {
   "cell_type": "code",
   "execution_count": null,
   "id": "9f9e7928-5b03-49c1-ac76-e39d6f0f1093",
   "metadata": {},
   "outputs": [],
   "source": []
  }
 ],
 "metadata": {
  "kernelspec": {
   "display_name": "Python 3 (ipykernel)",
   "language": "python",
   "name": "python3"
  },
  "language_info": {
   "codemirror_mode": {
    "name": "ipython",
    "version": 3
   },
   "file_extension": ".py",
   "mimetype": "text/x-python",
   "name": "python",
   "nbconvert_exporter": "python",
   "pygments_lexer": "ipython3",
   "version": "3.10.5"
  }
 },
 "nbformat": 4,
 "nbformat_minor": 5
}
