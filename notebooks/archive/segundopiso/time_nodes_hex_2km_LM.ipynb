{
 "cells": [
  {
   "cell_type": "markdown",
   "id": "d4a69436-3210-4438-b8d0-40a4703a2740",
   "metadata": {},
   "source": [
    "Medir el tiempo de nodos en buffer de 2km al punto más cercano de López Mateos:\n",
    "\n",
    "1. Descargar López Mateos y generar buffer de 2km [DONE]\n",
    "2. Descargar edges [osmnx > edges_speed] y nodos [osmnx > nodes] dentro de ese buffer con graph_from_hippo [DONE]\n",
    "3. Encontrar qué edges son de López Mateos [DONE]\n",
    "4. De esos edges, encontrar que nodos son de López Mateos [DONE]\n",
    "5. Calcular la distancia de todos los nodos a los de López Mateos\n",
    "   (Museo_ciencias_ambientales>26cMCA .ipynb cell 35 >> aup.calculate_distance_nearest_poi)\n",
    "6. Agrupar a hexres9"
   ]
  },
  {
   "cell_type": "code",
   "execution_count": 1,
   "id": "1c0ecbbc-3bbe-41c4-a661-96b0cc1ba8af",
   "metadata": {},
   "outputs": [
    {
     "name": "stdout",
     "output_type": "stream",
     "text": [
      "2023-02-21 16:15:36 Configured OSMnx 1.1.1\n",
      "2023-02-21 16:15:36 HTTP response caching is on\n"
     ]
    }
   ],
   "source": [
    "import os\n",
    "import sys\n",
    "\n",
    "import pandas as pd\n",
    "import geopandas as gpd\n",
    "import osmnx as ox\n",
    "import numpy as np\n",
    "\n",
    "import matplotlib.pyplot as plt\n",
    "import seaborn as sns\n",
    "import folium\n",
    "\n",
    "import warnings\n",
    "warnings.simplefilter(action='ignore', category=FutureWarning)\n",
    "\n",
    "module_path = os.path.abspath(os.path.join('../../'))\n",
    "if module_path not in sys.path:\n",
    "    sys.path.append(module_path)\n",
    "    import aup"
   ]
  },
  {
   "cell_type": "markdown",
   "id": "8a1b9751-64c9-4484-9732-a32646e10193",
   "metadata": {},
   "source": [
    "## Loading data"
   ]
  },
  {
   "cell_type": "code",
   "execution_count": 2,
   "id": "019aee2f-5272-44fc-8191-1866311671dc",
   "metadata": {},
   "outputs": [
    {
     "data": {
      "text/plain": [
       "<AxesSubplot:>"
      ]
     },
     "execution_count": 2,
     "metadata": {},
     "output_type": "execute_result"
    },
    {
     "data": {
      "image/png": "[encoded data removed]",
      "text/plain": [
       "<Figure size 432x288 with 1 Axes>"
      ]
     },
     "metadata": {
      "needs_background": "light"
     },
     "output_type": "display_data"
    }
   ],
   "source": [
    "#Importing gdf with Avenue López Mateos as line \n",
    "lopezmateos_gdf = gpd.read_file(\"../../data/external/db_segundopiso_temp/lopezmateos.gpkg\")\n",
    "lopezmateos_gdf.plot()"
   ]
  },
  {
   "cell_type": "code",
   "execution_count": 3,
   "id": "7c52e68f-15c9-42a8-9700-3c33af991d36",
   "metadata": {},
   "outputs": [
    {
     "data": {
      "text/plain": [
       "<AxesSubplot:>"
      ]
     },
     "execution_count": 3,
     "metadata": {},
     "output_type": "execute_result"
    },
    {
     "data": {
      "image/png": "[encoded data removed]",
      "text/plain": [
       "<Figure size 432x288 with 1 Axes>"
      ]
     },
     "metadata": {
      "needs_background": "light"
     },
     "output_type": "display_data"
    }
   ],
   "source": [
    "#Creating 2km buffer\n",
    "lopezmateos_gdf_temp = lopezmateos_gdf.copy()\n",
    "lopezmateos_gdf_temp = lopezmateos_gdf_temp.to_crs(\"EPSG:6372\")\n",
    "buffer_2km = lopezmateos_gdf_temp.buffer(2000)\n",
    "buffer_2km.plot()"
   ]
  },
  {
   "cell_type": "markdown",
   "id": "d930f702-fa46-4038-aea3-508fadccba7c",
   "metadata": {},
   "source": [
    "## Getting nodes from López Mateos"
   ]
  },
  {
   "cell_type": "markdown",
   "id": "bd3b2438-cdcb-4e73-b4cc-d2d3b61c56f7",
   "metadata": {},
   "source": [
    "1. Getting edges and nodes from buffer_2km\n",
    "2. From edges, find streets named like López Mateos\n",
    "3. From those streets, get the nodes that the lines go from/to"
   ]
  },
  {
   "cell_type": "markdown",
   "id": "5989bec2-e781-4737-8bbf-4a284a274ba0",
   "metadata": {
    "tags": []
   },
   "source": [
    "1. Getting edges and nodes from buffer_2km"
   ]
  },
  {
   "cell_type": "code",
   "execution_count": 4,
   "id": "13749f4d-a9a6-482b-848e-80ad5dfe9bbf",
   "metadata": {},
   "outputs": [
    {
     "name": "stdout",
     "output_type": "stream",
     "text": [
      "2023-02-09 20:03:10 Created graph from node/edge GeoDataFrames\n"
     ]
    }
   ],
   "source": [
    "#graph_from_hippo(gdf, schema, edges_folder='edges', nodes_folder='nodes')\n",
    "graph, nodes_2kmgdf, edges_2kmgdf = aup.graph_from_hippo(buffer_2km, 'osmnx', edges_folder='edges_speed', nodes_folder='nodes')"
   ]
  },
  {
   "cell_type": "code",
   "execution_count": 5,
   "id": "3a9f7470-e12a-4b49-96ad-e573e0b110f9",
   "metadata": {},
   "outputs": [
    {
     "data": {
      "text/html": [
       "<div>\n",
       "<style scoped>\n",
       "    .dataframe tbody tr th:only-of-type {\n",
       "        vertical-align: middle;\n",
       "    }\n",
       "\n",
       "    .dataframe tbody tr th {\n",
       "        vertical-align: top;\n",
       "    }\n",
       "\n",
       "    .dataframe thead th {\n",
       "        text-align: right;\n",
       "    }\n",
       "</style>\n",
       "<table border=\"1\" class=\"dataframe\">\n",
       "  <thead>\n",
       "    <tr style=\"text-align: right;\">\n",
       "      <th></th>\n",
       "      <th></th>\n",
       "      <th></th>\n",
       "      <th>osmid</th>\n",
       "      <th>oneway</th>\n",
       "      <th>lanes</th>\n",
       "      <th>name</th>\n",
       "      <th>highway</th>\n",
       "      <th>length</th>\n",
       "      <th>geometry</th>\n",
       "      <th>grade</th>\n",
       "      <th>grade_abs</th>\n",
       "      <th>access</th>\n",
       "      <th>tunnel</th>\n",
       "      <th>ref</th>\n",
       "      <th>maxspeed</th>\n",
       "      <th>bridge</th>\n",
       "      <th>junction</th>\n",
       "      <th>service</th>\n",
       "      <th>width</th>\n",
       "      <th>walkspeed</th>\n",
       "      <th>time_min</th>\n",
       "    </tr>\n",
       "    <tr>\n",
       "      <th>u</th>\n",
       "      <th>v</th>\n",
       "      <th>key</th>\n",
       "      <th></th>\n",
       "      <th></th>\n",
       "      <th></th>\n",
       "      <th></th>\n",
       "      <th></th>\n",
       "      <th></th>\n",
       "      <th></th>\n",
       "      <th></th>\n",
       "      <th></th>\n",
       "      <th></th>\n",
       "      <th></th>\n",
       "      <th></th>\n",
       "      <th></th>\n",
       "      <th></th>\n",
       "      <th></th>\n",
       "      <th></th>\n",
       "      <th></th>\n",
       "      <th></th>\n",
       "      <th></th>\n",
       "    </tr>\n",
       "  </thead>\n",
       "  <tbody>\n",
       "    <tr>\n",
       "      <th>4649110319</th>\n",
       "      <th>8764357413</th>\n",
       "      <th>0</th>\n",
       "      <td>727557563</td>\n",
       "      <td>False</td>\n",
       "      <td>None</td>\n",
       "      <td>None</td>\n",
       "      <td>unclassified</td>\n",
       "      <td>37.557</td>\n",
       "      <td>LINESTRING (-103.49277 20.47597, -103.49247 20...</td>\n",
       "      <td>0.0</td>\n",
       "      <td>0.0</td>\n",
       "      <td>None</td>\n",
       "      <td>None</td>\n",
       "      <td>None</td>\n",
       "      <td>None</td>\n",
       "      <td>None</td>\n",
       "      <td>None</td>\n",
       "      <td>None</td>\n",
       "      <td>None</td>\n",
       "      <td>4.0</td>\n",
       "      <td>0.563355</td>\n",
       "    </tr>\n",
       "  </tbody>\n",
       "</table>\n",
       "</div>"
      ],
      "text/plain": [
       "                               osmid  oneway lanes  name       highway  \\\n",
       "u          v          key                                                \n",
       "4649110319 8764357413 0    727557563   False  None  None  unclassified   \n",
       "\n",
       "                           length  \\\n",
       "u          v          key           \n",
       "4649110319 8764357413 0    37.557   \n",
       "\n",
       "                                                                    geometry  \\\n",
       "u          v          key                                                      \n",
       "4649110319 8764357413 0    LINESTRING (-103.49277 20.47597, -103.49247 20...   \n",
       "\n",
       "                           grade  grade_abs access tunnel   ref maxspeed  \\\n",
       "u          v          key                                                  \n",
       "4649110319 8764357413 0      0.0        0.0   None   None  None     None   \n",
       "\n",
       "                          bridge junction service width  walkspeed  time_min  \n",
       "u          v          key                                                     \n",
       "4649110319 8764357413 0     None     None    None  None        4.0  0.563355  "
      ]
     },
     "execution_count": 5,
     "metadata": {},
     "output_type": "execute_result"
    }
   ],
   "source": [
    "edges_2kmgdf.head(1)"
   ]
  },
  {
   "cell_type": "code",
   "execution_count": 6,
   "id": "19626bac-5ada-4e1d-ba9a-3ad9c989481d",
   "metadata": {},
   "outputs": [],
   "source": [
    "#Finding None values in 'name' and changing them to 'sin nombre'\n",
    "#First we create a boolean mask where there is nan in 'name'\n",
    "idx = edges_2kmgdf['name'].isna()\n",
    "#Then, in that boolean mask, we change 'name' to 'sin nombre'\n",
    "edges_2kmgdf.loc[idx, 'name'] = 'sin nombre'"
   ]
  },
  {
   "cell_type": "markdown",
   "id": "b07d7f00-f679-4d2f-9c00-13f324f675fc",
   "metadata": {},
   "source": [
    "2. From edges, find streets named like López Mateos"
   ]
  },
  {
   "cell_type": "code",
   "execution_count": 7,
   "id": "455afc3e-a274-42c0-8990-075e1fa0be3f",
   "metadata": {},
   "outputs": [
    {
     "data": {
      "text/plain": [
       "['Lateral de López Mateos Sur',\n",
       " 'Avenida Adolfo López Mateos Sur',\n",
       " 'Avenida Adolfo López Mateos Norte',\n",
       " \"['Avenida Adolfo López Mateos Norte', 'Avenida Adolfo López Mateos Sur']\",\n",
       " \"['Avenida Adolfo López Mateos Norte', 'Circunvalación Jorge Álvarez del Castillo']\",\n",
       " 'Calle López Mateos',\n",
       " \"['Avenida Adolfo López Mateos Sur', 'Avenida López Mateos Sur']\",\n",
       " 'Avenida López Mateos Sur',\n",
       " 'Farmacias Guadalajara López Mateos Sur',\n",
       " \"['Autopista Guadalajara - Colima', 'Avenida López Mateos Sur']\"]"
      ]
     },
     "execution_count": 7,
     "metadata": {},
     "output_type": "execute_result"
    }
   ],
   "source": [
    "#Finding streets named 'Mateos' (List comprehensions)\n",
    "calles_lm_lst = [x for x in list(edges_2kmgdf.name.unique()) if 'Mateos' in x]\n",
    "calles_lm_lst"
   ]
  },
  {
   "cell_type": "code",
   "execution_count": 8,
   "id": "1b0d78b6-bb85-43f9-91dc-9d4d066eeb16",
   "metadata": {},
   "outputs": [
    {
     "data": {
      "text/plain": [
       "<AxesSubplot:>"
      ]
     },
     "execution_count": 8,
     "metadata": {},
     "output_type": "execute_result"
    },
    {
     "data": {
      "image/png": "[encoded data removed]",
      "text/plain": [
       "<Figure size 432x288 with 1 Axes>"
      ]
     },
     "metadata": {
      "needs_background": "light"
     },
     "output_type": "display_data"
    }
   ],
   "source": [
    "#Results: There're still missing lines. \n",
    "edges_2kmgdf.loc[edges_2kmgdf.name.isin(calles_lm_lst)].plot()"
   ]
  },
  {
   "cell_type": "code",
   "execution_count": 9,
   "id": "b90b9131-ae8e-4405-b001-c2ca87cfcf43",
   "metadata": {},
   "outputs": [],
   "source": [
    "#Export to db to open in GIS and find missing lines\n",
    "#aup.gdf_to_db_slow(edges_gdf,\"edges_lopezmateos\", 'segundopiso', if_exists='replace')"
   ]
  },
  {
   "cell_type": "code",
   "execution_count": 10,
   "id": "84401bd0-44f4-4900-a758-bb48bdc71881",
   "metadata": {},
   "outputs": [
    {
     "data": {
      "text/plain": [
       "<AxesSubplot:>"
      ]
     },
     "execution_count": 10,
     "metadata": {},
     "output_type": "execute_result"
    },
    {
     "data": {
      "image/png": "[encoded data removed]",
      "text/plain": [
       "<Figure size 432x288 with 1 Axes>"
      ]
     },
     "metadata": {
      "needs_background": "light"
     },
     "output_type": "display_data"
    }
   ],
   "source": [
    "add_tolst = ['Autopista Guadalajara - Colima','Circunvalación Jorge Álvarez del Castillo']\n",
    "for st in add_tolst:\n",
    "    if st not in calles_lm_lst:\n",
    "        calles_lm_lst.append(st)\n",
    "\n",
    "remove_lst = ['Farmacias Guadalajara López Mateos Sur','Calle López Mateos']\n",
    "for st in remove_lst:\n",
    "    if st in calles_lm_lst:\n",
    "        calles_lm_lst.remove(st)\n",
    "\n",
    "#calles_lm_lst\n",
    "edges_2kmgdf.loc[edges_2kmgdf.name.isin(calles_lm_lst)].plot()"
   ]
  },
  {
   "cell_type": "code",
   "execution_count": 11,
   "id": "b7b67a97-4ac9-4311-966e-13b6bc30ab8b",
   "metadata": {},
   "outputs": [
    {
     "data": {
      "text/plain": [
       "845"
      ]
     },
     "execution_count": 11,
     "metadata": {},
     "output_type": "execute_result"
    }
   ],
   "source": [
    "edges_lm_gdf = edges_2kmgdf.loc[edges_2kmgdf.name.isin(calles_lm_lst)]\n",
    "len(edges_lm_gdf)"
   ]
  },
  {
   "cell_type": "code",
   "execution_count": 22,
   "id": "b80f0a71-c045-406f-9a9b-f5e3aa6b4888",
   "metadata": {},
   "outputs": [],
   "source": [
    "aup.gdf_to_db_slow(edges_lm_gdf,\"edges_lopezmateos\", 'segundopiso', if_exists='replace')"
   ]
  },
  {
   "cell_type": "markdown",
   "id": "33db1577-0d1b-4f3f-8f41-9f0dc93c040f",
   "metadata": {},
   "source": [
    "3. From those streets, get the nodes that the lines go from/to"
   ]
  },
  {
   "cell_type": "code",
   "execution_count": 12,
   "id": "cbd35d02-b17d-42e0-a676-d384288d2e1d",
   "metadata": {},
   "outputs": [
    {
     "data": {
      "text/plain": [
       "MultiIndex([(8407976153, 1760037166, 0),\n",
       "            (8636724621, 8776027172, 0),\n",
       "            (8636724626, 8636724621, 0),\n",
       "            (1760037166, 8636724626, 0),\n",
       "            (8407976154, 8407976153, 0),\n",
       "            (1653526239, 6345478758, 0),\n",
       "            (8317791436, 2882811501, 0),\n",
       "            (6345478758, 8324054199, 0),\n",
       "            (2882807997, 2882807994, 0),\n",
       "            (2882811501, 1383913684, 0),\n",
       "            ...\n",
       "            (1207849850, 6345478759, 0),\n",
       "            (6345478759, 3022414405, 0),\n",
       "            (8324054199, 2882807995, 0),\n",
       "            (2978021614, 1041108864, 0),\n",
       "            (1041108864, 1347475658, 0),\n",
       "            (1450183997, 8323161278, 0),\n",
       "            (1347475658, 1450183997, 0),\n",
       "            (2978021612, 6511832111, 0),\n",
       "            (8323161278, 1041865204, 0),\n",
       "            (8324161160, 1347454171, 0)],\n",
       "           names=['u', 'v', 'key'], length=845)"
      ]
     },
     "execution_count": 12,
     "metadata": {},
     "output_type": "execute_result"
    }
   ],
   "source": [
    "#The nodes are stored in the index of edges_lm_gdf\n",
    "edges_index = edges_lm_gdf.index\n",
    "edges_index"
   ]
  },
  {
   "cell_type": "code",
   "execution_count": 13,
   "id": "30b8f4d9-d5fe-4bb0-96e4-113d777ca6b6",
   "metadata": {},
   "outputs": [
    {
     "data": {
      "text/plain": [
       "851"
      ]
     },
     "execution_count": 13,
     "metadata": {},
     "output_type": "execute_result"
    }
   ],
   "source": [
    "#From each tupple of the multiindex we'll keep the first[0] and second[1] values.\n",
    "nodes_lm_lst = []\n",
    "for tupp in edges_index:\n",
    "    if tupp[0] not in nodes_lm_lst:\n",
    "        nodes_lm_lst.append(tupp[0])\n",
    "    if tupp[1] not in nodes_lm_lst:\n",
    "        nodes_lm_lst.append(tupp[1])\n",
    "        \n",
    "len(nodes_lm_lst)"
   ]
  },
  {
   "cell_type": "code",
   "execution_count": 19,
   "id": "206667f5-65e8-4ed2-9796-5960c98e3b81",
   "metadata": {},
   "outputs": [
    {
     "data": {
      "text/html": [
       "<div>\n",
       "<style scoped>\n",
       "    .dataframe tbody tr th:only-of-type {\n",
       "        vertical-align: middle;\n",
       "    }\n",
       "\n",
       "    .dataframe tbody tr th {\n",
       "        vertical-align: top;\n",
       "    }\n",
       "\n",
       "    .dataframe thead th {\n",
       "        text-align: right;\n",
       "    }\n",
       "</style>\n",
       "<table border=\"1\" class=\"dataframe\">\n",
       "  <thead>\n",
       "    <tr style=\"text-align: right;\">\n",
       "      <th></th>\n",
       "      <th>x</th>\n",
       "      <th>y</th>\n",
       "      <th>street_count</th>\n",
       "      <th>geometry</th>\n",
       "    </tr>\n",
       "    <tr>\n",
       "      <th>osmid</th>\n",
       "      <th></th>\n",
       "      <th></th>\n",
       "      <th></th>\n",
       "      <th></th>\n",
       "    </tr>\n",
       "  </thead>\n",
       "  <tbody>\n",
       "    <tr>\n",
       "      <th>283528400</th>\n",
       "      <td>-103.416184</td>\n",
       "      <td>20.630711</td>\n",
       "      <td>3</td>\n",
       "      <td>POINT (-103.41618 20.63071)</td>\n",
       "    </tr>\n",
       "  </tbody>\n",
       "</table>\n",
       "</div>"
      ],
      "text/plain": [
       "                    x          y  street_count                     geometry\n",
       "osmid                                                                      \n",
       "283528400 -103.416184  20.630711             3  POINT (-103.41618 20.63071)"
      ]
     },
     "execution_count": 19,
     "metadata": {},
     "output_type": "execute_result"
    }
   ],
   "source": [
    "nodes_lm_gdf = nodes_2kmgdf.loc[nodes_2kmgdf.index.isin(nodes_lm_lst)]\n",
    "nodes_lm_gdf.head(1)"
   ]
  },
  {
   "cell_type": "markdown",
   "id": "3842af6a-395f-4128-a931-3df351129e4d",
   "metadata": {
    "tags": []
   },
   "source": [
    "## Getting distance"
   ]
  },
  {
   "cell_type": "code",
   "execution_count": 20,
   "id": "42c6fb7b-d5e6-4026-bb30-de6f781e7858",
   "metadata": {},
   "outputs": [
    {
     "data": {
      "text/html": [
       "<div>\n",
       "<style scoped>\n",
       "    .dataframe tbody tr th:only-of-type {\n",
       "        vertical-align: middle;\n",
       "    }\n",
       "\n",
       "    .dataframe tbody tr th {\n",
       "        vertical-align: top;\n",
       "    }\n",
       "\n",
       "    .dataframe thead th {\n",
       "        text-align: right;\n",
       "    }\n",
       "</style>\n",
       "<table border=\"1\" class=\"dataframe\">\n",
       "  <thead>\n",
       "    <tr style=\"text-align: right;\">\n",
       "      <th></th>\n",
       "      <th>osmid</th>\n",
       "      <th>x</th>\n",
       "      <th>y</th>\n",
       "      <th>street_count</th>\n",
       "      <th>geometry</th>\n",
       "    </tr>\n",
       "  </thead>\n",
       "  <tbody>\n",
       "    <tr>\n",
       "      <th>0</th>\n",
       "      <td>283528400</td>\n",
       "      <td>-103.416184</td>\n",
       "      <td>20.630711</td>\n",
       "      <td>3</td>\n",
       "      <td>POINT (-103.41618 20.63071)</td>\n",
       "    </tr>\n",
       "  </tbody>\n",
       "</table>\n",
       "</div>"
      ],
      "text/plain": [
       "       osmid           x          y  street_count                     geometry\n",
       "0  283528400 -103.416184  20.630711             3  POINT (-103.41618 20.63071)"
      ]
     },
     "execution_count": 20,
     "metadata": {},
     "output_type": "execute_result"
    }
   ],
   "source": [
    "#For calculate_distance_nearest_poi to work we need osmid to be a column, not the index\n",
    "nodes_lm_gdf = nodes_lm_gdf.reset_index() \n",
    "nodes_lm_gdf.head(1)"
   ]
  },
  {
   "cell_type": "code",
   "execution_count": 21,
   "id": "7ecda66d-150d-443d-bb3d-166443c73531",
   "metadata": {},
   "outputs": [],
   "source": [
    "#calculate_distance_nearest_poi(gdf_f, nodes, edges, amenity_name, column_name, wght='length', max_distance=(0,'distance_node')):\n",
    "\n",
    "nodes_dist = aup.calculate_distance_nearest_poi(nodes_lm_gdf, nodes_2kmgdf, edges_2kmgdf, 'lpz_mateos', 'osmid', wght='time_min')"
   ]
  },
  {
   "cell_type": "code",
   "execution_count": 22,
   "id": "b983cb56-2d66-4e2d-9ee5-b00612e201e4",
   "metadata": {},
   "outputs": [
    {
     "data": {
      "text/html": [
       "<div>\n",
       "<style scoped>\n",
       "    .dataframe tbody tr th:only-of-type {\n",
       "        vertical-align: middle;\n",
       "    }\n",
       "\n",
       "    .dataframe tbody tr th {\n",
       "        vertical-align: top;\n",
       "    }\n",
       "\n",
       "    .dataframe thead th {\n",
       "        text-align: right;\n",
       "    }\n",
       "</style>\n",
       "<table border=\"1\" class=\"dataframe\">\n",
       "  <thead>\n",
       "    <tr style=\"text-align: right;\">\n",
       "      <th></th>\n",
       "      <th>x</th>\n",
       "      <th>y</th>\n",
       "      <th>street_count</th>\n",
       "      <th>geometry</th>\n",
       "      <th>dist_lpz_mateos</th>\n",
       "    </tr>\n",
       "    <tr>\n",
       "      <th>osmid</th>\n",
       "      <th></th>\n",
       "      <th></th>\n",
       "      <th></th>\n",
       "      <th></th>\n",
       "      <th></th>\n",
       "    </tr>\n",
       "  </thead>\n",
       "  <tbody>\n",
       "    <tr>\n",
       "      <th>28791285</th>\n",
       "      <td>-103.386953</td>\n",
       "      <td>20.674556</td>\n",
       "      <td>3</td>\n",
       "      <td>POINT (-103.38695 20.67456)</td>\n",
       "      <td>0.155880</td>\n",
       "    </tr>\n",
       "    <tr>\n",
       "      <th>28791354</th>\n",
       "      <td>-103.368559</td>\n",
       "      <td>20.674565</td>\n",
       "      <td>4</td>\n",
       "      <td>POINT (-103.36856 20.67456)</td>\n",
       "      <td>30.255253</td>\n",
       "    </tr>\n",
       "    <tr>\n",
       "      <th>28791359</th>\n",
       "      <td>-103.371654</td>\n",
       "      <td>20.674449</td>\n",
       "      <td>4</td>\n",
       "      <td>POINT (-103.37165 20.67445)</td>\n",
       "      <td>25.095806</td>\n",
       "    </tr>\n",
       "    <tr>\n",
       "      <th>28791397</th>\n",
       "      <td>-103.387021</td>\n",
       "      <td>20.674199</td>\n",
       "      <td>3</td>\n",
       "      <td>POINT (-103.38702 20.67420)</td>\n",
       "      <td>0.700245</td>\n",
       "    </tr>\n",
       "    <tr>\n",
       "      <th>28791518</th>\n",
       "      <td>-103.402947</td>\n",
       "      <td>20.674933</td>\n",
       "      <td>3</td>\n",
       "      <td>POINT (-103.40295 20.67493)</td>\n",
       "      <td>23.605428</td>\n",
       "    </tr>\n",
       "  </tbody>\n",
       "</table>\n",
       "</div>"
      ],
      "text/plain": [
       "                   x          y  street_count                     geometry  \\\n",
       "osmid                                                                        \n",
       "28791285 -103.386953  20.674556             3  POINT (-103.38695 20.67456)   \n",
       "28791354 -103.368559  20.674565             4  POINT (-103.36856 20.67456)   \n",
       "28791359 -103.371654  20.674449             4  POINT (-103.37165 20.67445)   \n",
       "28791397 -103.387021  20.674199             3  POINT (-103.38702 20.67420)   \n",
       "28791518 -103.402947  20.674933             3  POINT (-103.40295 20.67493)   \n",
       "\n",
       "          dist_lpz_mateos  \n",
       "osmid                      \n",
       "28791285         0.155880  \n",
       "28791354        30.255253  \n",
       "28791359        25.095806  \n",
       "28791397         0.700245  \n",
       "28791518        23.605428  "
      ]
     },
     "execution_count": 22,
     "metadata": {},
     "output_type": "execute_result"
    }
   ],
   "source": [
    "nodes_dist.head()"
   ]
  },
  {
   "cell_type": "code",
   "execution_count": 23,
   "id": "a3474751-59bd-4377-bf33-c3fbff6b10a7",
   "metadata": {},
   "outputs": [
    {
     "data": {
      "text/plain": [
       "<AxesSubplot:>"
      ]
     },
     "execution_count": 23,
     "metadata": {},
     "output_type": "execute_result"
    },
    {
     "data": {
      "image/png": "[encoded data removed]",
      "text/plain": [
       "<Figure size 720x720 with 1 Axes>"
      ]
     },
     "metadata": {
      "needs_background": "light"
     },
     "output_type": "display_data"
    }
   ],
   "source": [
    "fig,ax = plt.subplots(figsize=(10,10))\n",
    "ax.axes.get_xaxis().set_visible(False)\n",
    "ax.axes.get_yaxis().set_visible(False)\n",
    "\n",
    "nodes_lm_gdf.plot(color='red', markersize=1, ax=ax, zorder=2)\n",
    "nodes_dist.plot('dist_lpz_mateos', markersize=1, ax=ax)"
   ]
  },
  {
   "cell_type": "code",
   "execution_count": 42,
   "id": "5dbeb5cd-eecd-4ea6-8d08-b34ba235df9c",
   "metadata": {},
   "outputs": [],
   "source": [
    "aup.gdf_to_db_slow(nodes_dist,\"nodes_dist_lopezmateos\", 'segundopiso', if_exists='replace')"
   ]
  },
  {
   "cell_type": "markdown",
   "id": "2bcb764c-a691-4981-b6c6-165a17b336c4",
   "metadata": {},
   "source": [
    "## Nodes to hex"
   ]
  },
  {
   "cell_type": "markdown",
   "id": "b4d50551-8153-433d-ae59-0d86bf6095ef",
   "metadata": {},
   "source": [
    "Download hexres9 hex"
   ]
  },
  {
   "cell_type": "code",
   "execution_count": 24,
   "id": "3136e5d9-7bed-4a3e-9647-7b98e89b4096",
   "metadata": {},
   "outputs": [
    {
     "name": "stdout",
     "output_type": "stream",
     "text": [
      "(28610, 3)\n"
     ]
    },
    {
     "data": {
      "text/html": [
       "<div>\n",
       "<style scoped>\n",
       "    .dataframe tbody tr th:only-of-type {\n",
       "        vertical-align: middle;\n",
       "    }\n",
       "\n",
       "    .dataframe tbody tr th {\n",
       "        vertical-align: top;\n",
       "    }\n",
       "\n",
       "    .dataframe thead th {\n",
       "        text-align: right;\n",
       "    }\n",
       "</style>\n",
       "<table border=\"1\" class=\"dataframe\">\n",
       "  <thead>\n",
       "    <tr style=\"text-align: right;\">\n",
       "      <th></th>\n",
       "      <th>hex_id_9</th>\n",
       "      <th>geometry</th>\n",
       "      <th>metropolis</th>\n",
       "    </tr>\n",
       "  </thead>\n",
       "  <tbody>\n",
       "    <tr>\n",
       "      <th>0</th>\n",
       "      <td>8949abc9ca7ffff</td>\n",
       "      <td>POLYGON ((-103.63759 20.41626, -103.63968 20.4...</td>\n",
       "      <td>Guadalajara</td>\n",
       "    </tr>\n",
       "    <tr>\n",
       "      <th>1</th>\n",
       "      <td>8949abc9d43ffff</td>\n",
       "      <td>POLYGON ((-103.63836 20.43005, -103.63957 20.4...</td>\n",
       "      <td>Guadalajara</td>\n",
       "    </tr>\n",
       "  </tbody>\n",
       "</table>\n",
       "</div>"
      ],
      "text/plain": [
       "          hex_id_9                                           geometry  \\\n",
       "0  8949abc9ca7ffff  POLYGON ((-103.63759 20.41626, -103.63968 20.4...   \n",
       "1  8949abc9d43ffff  POLYGON ((-103.63836 20.43005, -103.63957 20.4...   \n",
       "\n",
       "    metropolis  \n",
       "0  Guadalajara  \n",
       "1  Guadalajara  "
      ]
     },
     "execution_count": 24,
     "metadata": {},
     "output_type": "execute_result"
    }
   ],
   "source": [
    "res = 9\n",
    "folder = 'hexgrid'\n",
    "city = 'Guadalajara'\n",
    "table = f'hexgrid_{res}_city'\n",
    "\n",
    "query = f\"SELECT * FROM {folder}.{table} WHERE \\\"metropolis\\\" LIKE \\'{city}\\'\"\n",
    "hex_res_9 = aup.gdf_from_query(query, geometry_col='geometry')\n",
    "hex_res_9 = hex_res_9[[f'hex_id_{res}','geometry','metropolis']]\n",
    "print(hex_res_9.shape)\n",
    "hex_res_9.head(2)"
   ]
  },
  {
   "cell_type": "markdown",
   "id": "6b962e0a-13e8-427f-bde3-30bf0ae548da",
   "metadata": {},
   "source": [
    "Grouping nodes by hex (mean)"
   ]
  },
  {
   "cell_type": "code",
   "execution_count": 25,
   "id": "3ee96e47-68e5-4cce-acd5-b3a4e871785c",
   "metadata": {},
   "outputs": [
    {
     "data": {
      "text/html": [
       "<div>\n",
       "<style scoped>\n",
       "    .dataframe tbody tr th:only-of-type {\n",
       "        vertical-align: middle;\n",
       "    }\n",
       "\n",
       "    .dataframe tbody tr th {\n",
       "        vertical-align: top;\n",
       "    }\n",
       "\n",
       "    .dataframe thead th {\n",
       "        text-align: right;\n",
       "    }\n",
       "</style>\n",
       "<table border=\"1\" class=\"dataframe\">\n",
       "  <thead>\n",
       "    <tr style=\"text-align: right;\">\n",
       "      <th></th>\n",
       "      <th>x</th>\n",
       "      <th>y</th>\n",
       "      <th>street_count</th>\n",
       "      <th>geometry</th>\n",
       "      <th>dist_lpz_mateos</th>\n",
       "    </tr>\n",
       "    <tr>\n",
       "      <th>osmid</th>\n",
       "      <th></th>\n",
       "      <th></th>\n",
       "      <th></th>\n",
       "      <th></th>\n",
       "      <th></th>\n",
       "    </tr>\n",
       "  </thead>\n",
       "  <tbody>\n",
       "    <tr>\n",
       "      <th>28791285</th>\n",
       "      <td>-103.386953</td>\n",
       "      <td>20.674556</td>\n",
       "      <td>3</td>\n",
       "      <td>POINT (-103.38695 20.67456)</td>\n",
       "      <td>0.15588</td>\n",
       "    </tr>\n",
       "  </tbody>\n",
       "</table>\n",
       "</div>"
      ],
      "text/plain": [
       "                   x          y  street_count                     geometry  \\\n",
       "osmid                                                                        \n",
       "28791285 -103.386953  20.674556             3  POINT (-103.38695 20.67456)   \n",
       "\n",
       "          dist_lpz_mateos  \n",
       "osmid                      \n",
       "28791285          0.15588  "
      ]
     },
     "execution_count": 25,
     "metadata": {},
     "output_type": "execute_result"
    }
   ],
   "source": [
    "nodes_dist.head(1)"
   ]
  },
  {
   "cell_type": "code",
   "execution_count": 26,
   "id": "38fbb02b-7ea5-41dd-97a1-8f0742349877",
   "metadata": {},
   "outputs": [
    {
     "data": {
      "text/html": [
       "<div>\n",
       "<style scoped>\n",
       "    .dataframe tbody tr th:only-of-type {\n",
       "        vertical-align: middle;\n",
       "    }\n",
       "\n",
       "    .dataframe tbody tr th {\n",
       "        vertical-align: top;\n",
       "    }\n",
       "\n",
       "    .dataframe thead th {\n",
       "        text-align: right;\n",
       "    }\n",
       "</style>\n",
       "<table border=\"1\" class=\"dataframe\">\n",
       "  <thead>\n",
       "    <tr style=\"text-align: right;\">\n",
       "      <th></th>\n",
       "      <th>osmid</th>\n",
       "      <th>x</th>\n",
       "      <th>y</th>\n",
       "      <th>street_count</th>\n",
       "      <th>geometry</th>\n",
       "      <th>dist_lpz_mateos</th>\n",
       "    </tr>\n",
       "  </thead>\n",
       "  <tbody>\n",
       "    <tr>\n",
       "      <th>0</th>\n",
       "      <td>28791285</td>\n",
       "      <td>-103.386953</td>\n",
       "      <td>20.674556</td>\n",
       "      <td>3</td>\n",
       "      <td>POINT (-103.38695 20.67456)</td>\n",
       "      <td>0.15588</td>\n",
       "    </tr>\n",
       "  </tbody>\n",
       "</table>\n",
       "</div>"
      ],
      "text/plain": [
       "      osmid           x          y  street_count                     geometry  \\\n",
       "0  28791285 -103.386953  20.674556             3  POINT (-103.38695 20.67456)   \n",
       "\n",
       "   dist_lpz_mateos  \n",
       "0          0.15588  "
      ]
     },
     "execution_count": 26,
     "metadata": {},
     "output_type": "execute_result"
    }
   ],
   "source": [
    "#For group_by_hex_mean to work we need osmid to be a column, not the index\n",
    "nodes_dist = nodes_dist.reset_index() \n",
    "nodes_dist.head(1)"
   ]
  },
  {
   "cell_type": "code",
   "execution_count": 27,
   "id": "7dca08fe-ca24-4269-bc8f-24afd8209647",
   "metadata": {},
   "outputs": [],
   "source": [
    "hex_tmp = hex_res_9[['hex_id_9','geometry']]\n",
    "res = 9\n",
    "index_column = 'dist_lpz_mateos'\n",
    "\n",
    "hex_res_9_idx = aup.group_by_hex_mean(nodes_dist, hex_tmp, res, index_column)\n",
    "hex_res_9_idx = hex_res_9_idx.loc[hex_res_9_idx[index_column]>0].copy()"
   ]
  },
  {
   "cell_type": "code",
   "execution_count": null,
   "id": "527aaa42-1c81-4668-b7fe-44ef8ac8359d",
   "metadata": {},
   "outputs": [],
   "source": [
    "fig,ax = plt.subplots(figsize=(10,10))\n",
    "hex_res_9_idx.plot('dist_lpz_mateos',ax=ax)"
   ]
  },
  {
   "cell_type": "code",
   "execution_count": 58,
   "id": "1552b444-e92e-497f-8f90-91c7dfd5f21f",
   "metadata": {},
   "outputs": [],
   "source": [
    "aup.gdf_to_db_slow(hex_res_9_idx,\"dist_alopezmateos_hexres9\", 'segundopiso', if_exists='replace')"
   ]
  },
  {
   "cell_type": "markdown",
   "id": "282b68fb-f7b9-4cd5-aff7-f15175f2417b",
   "metadata": {},
   "source": [
    "## Data analysis"
   ]
  },
  {
   "cell_type": "markdown",
   "id": "4f227e59-3ed1-48a1-84e6-b48c3dcdf181",
   "metadata": {},
   "source": [
    "### Downloading Data"
   ]
  },
  {
   "cell_type": "code",
   "execution_count": 2,
   "id": "4a6b6c2d-9cdf-41be-a58a-32203c393330",
   "metadata": {},
   "outputs": [
    {
     "data": {
      "text/html": [
       "<div>\n",
       "<style scoped>\n",
       "    .dataframe tbody tr th:only-of-type {\n",
       "        vertical-align: middle;\n",
       "    }\n",
       "\n",
       "    .dataframe tbody tr th {\n",
       "        vertical-align: top;\n",
       "    }\n",
       "\n",
       "    .dataframe thead th {\n",
       "        text-align: right;\n",
       "    }\n",
       "</style>\n",
       "<table border=\"1\" class=\"dataframe\">\n",
       "  <thead>\n",
       "    <tr style=\"text-align: right;\">\n",
       "      <th></th>\n",
       "      <th>hex_id_9</th>\n",
       "      <th>geometry</th>\n",
       "      <th>x</th>\n",
       "      <th>y</th>\n",
       "      <th>street_count</th>\n",
       "      <th>dist_lpz_mateos</th>\n",
       "    </tr>\n",
       "  </thead>\n",
       "  <tbody>\n",
       "    <tr>\n",
       "      <th>0</th>\n",
       "      <td>89498c96a37ffff</td>\n",
       "      <td>POLYGON ((-103.36431 20.69952, -103.36553 20.6...</td>\n",
       "      <td>-103.363363</td>\n",
       "      <td>20.697622</td>\n",
       "      <td>3.375</td>\n",
       "      <td>9.920159</td>\n",
       "    </tr>\n",
       "  </tbody>\n",
       "</table>\n",
       "</div>"
      ],
      "text/plain": [
       "          hex_id_9                                           geometry  \\\n",
       "0  89498c96a37ffff  POLYGON ((-103.36431 20.69952, -103.36553 20.6...   \n",
       "\n",
       "            x          y  street_count  dist_lpz_mateos  \n",
       "0 -103.363363  20.697622         3.375         9.920159  "
      ]
     },
     "execution_count": 2,
     "metadata": {},
     "output_type": "execute_result"
    }
   ],
   "source": [
    "lm_timehex = aup.gdf_from_db('dist_alopezmateos_hexres9','segundopiso')\n",
    "lm_timehex.head(1)"
   ]
  },
  {
   "cell_type": "markdown",
   "id": "142d53b1-2ddd-4bde-acdc-43a526fceeb9",
   "metadata": {},
   "source": [
    "### Sorting by timegroup"
   ]
  },
  {
   "cell_type": "code",
   "execution_count": 79,
   "id": "e09ec629-4644-478e-8df0-95da9047d9b1",
   "metadata": {},
   "outputs": [],
   "source": [
    "def group_times(dist_lpz_mateos):\n",
    "    if (0 <= dist_lpz_mateos) and (dist_lpz_mateos < 10):\n",
    "        group = '0-10'\n",
    "    elif (10 <= dist_lpz_mateos) and (dist_lpz_mateos < 20):\n",
    "        group = '10-20'\n",
    "    elif (20 <= dist_lpz_mateos) and (dist_lpz_mateos < 30):\n",
    "        group = '20-30'\n",
    "    elif (30 <= dist_lpz_mateos) and (dist_lpz_mateos < 45):\n",
    "        group = '30-45'\n",
    "    elif (45 <= dist_lpz_mateos):\n",
    "        group = 'mas de 45'\n",
    "    else:\n",
    "        group = 'Error'\n",
    "    \n",
    "    return group"
   ]
  },
  {
   "cell_type": "code",
   "execution_count": 80,
   "id": "b1a975ac-350b-43d4-aea8-ddc1a3ce406f",
   "metadata": {},
   "outputs": [
    {
     "data": {
      "text/html": [
       "<div>\n",
       "<style scoped>\n",
       "    .dataframe tbody tr th:only-of-type {\n",
       "        vertical-align: middle;\n",
       "    }\n",
       "\n",
       "    .dataframe tbody tr th {\n",
       "        vertical-align: top;\n",
       "    }\n",
       "\n",
       "    .dataframe thead th {\n",
       "        text-align: right;\n",
       "    }\n",
       "</style>\n",
       "<table border=\"1\" class=\"dataframe\">\n",
       "  <thead>\n",
       "    <tr style=\"text-align: right;\">\n",
       "      <th></th>\n",
       "      <th>hex_id_9</th>\n",
       "      <th>geometry</th>\n",
       "      <th>x</th>\n",
       "      <th>y</th>\n",
       "      <th>street_count</th>\n",
       "      <th>dist_lpz_mateos</th>\n",
       "      <th>timegroup</th>\n",
       "    </tr>\n",
       "  </thead>\n",
       "  <tbody>\n",
       "    <tr>\n",
       "      <th>0</th>\n",
       "      <td>89498c96a37ffff</td>\n",
       "      <td>POLYGON ((-103.36431 20.69952, -103.36553 20.6...</td>\n",
       "      <td>-103.363363</td>\n",
       "      <td>20.697622</td>\n",
       "      <td>3.375000</td>\n",
       "      <td>9.920159</td>\n",
       "      <td>0-10</td>\n",
       "    </tr>\n",
       "    <tr>\n",
       "      <th>1</th>\n",
       "      <td>89498c96b13ffff</td>\n",
       "      <td>POLYGON ((-103.37481 20.70039, -103.37359 20.7...</td>\n",
       "      <td>-103.376169</td>\n",
       "      <td>20.702415</td>\n",
       "      <td>3.166667</td>\n",
       "      <td>13.503188</td>\n",
       "      <td>10-20</td>\n",
       "    </tr>\n",
       "    <tr>\n",
       "      <th>2</th>\n",
       "      <td>89498c96cc7ffff</td>\n",
       "      <td>POLYGON ((-103.37868 20.65091, -103.37658 20.6...</td>\n",
       "      <td>-103.378665</td>\n",
       "      <td>20.653213</td>\n",
       "      <td>2.857143</td>\n",
       "      <td>34.827977</td>\n",
       "      <td>30-45</td>\n",
       "    </tr>\n",
       "    <tr>\n",
       "      <th>3</th>\n",
       "      <td>89498c969dbffff</td>\n",
       "      <td>POLYGON ((-103.38788 20.68601, -103.38876 20.6...</td>\n",
       "      <td>-103.389763</td>\n",
       "      <td>20.686206</td>\n",
       "      <td>3.851852</td>\n",
       "      <td>16.345951</td>\n",
       "      <td>10-20</td>\n",
       "    </tr>\n",
       "    <tr>\n",
       "      <th>4</th>\n",
       "      <td>89498c9684fffff</td>\n",
       "      <td>POLYGON ((-103.36655 20.68769, -103.36865 20.6...</td>\n",
       "      <td>-103.367737</td>\n",
       "      <td>20.686122</td>\n",
       "      <td>3.407407</td>\n",
       "      <td>19.062600</td>\n",
       "      <td>10-20</td>\n",
       "    </tr>\n",
       "  </tbody>\n",
       "</table>\n",
       "</div>"
      ],
      "text/plain": [
       "          hex_id_9                                           geometry  \\\n",
       "0  89498c96a37ffff  POLYGON ((-103.36431 20.69952, -103.36553 20.6...   \n",
       "1  89498c96b13ffff  POLYGON ((-103.37481 20.70039, -103.37359 20.7...   \n",
       "2  89498c96cc7ffff  POLYGON ((-103.37868 20.65091, -103.37658 20.6...   \n",
       "3  89498c969dbffff  POLYGON ((-103.38788 20.68601, -103.38876 20.6...   \n",
       "4  89498c9684fffff  POLYGON ((-103.36655 20.68769, -103.36865 20.6...   \n",
       "\n",
       "            x          y  street_count  dist_lpz_mateos timegroup  \n",
       "0 -103.363363  20.697622      3.375000         9.920159      0-10  \n",
       "1 -103.376169  20.702415      3.166667        13.503188     10-20  \n",
       "2 -103.378665  20.653213      2.857143        34.827977     30-45  \n",
       "3 -103.389763  20.686206      3.851852        16.345951     10-20  \n",
       "4 -103.367737  20.686122      3.407407        19.062600     10-20  "
      ]
     },
     "execution_count": 80,
     "metadata": {},
     "output_type": "execute_result"
    }
   ],
   "source": [
    "lm_timehex['timegroup'] = lm_timehex.dist_lpz_mateos.apply(lambda dist_lpz_mateos: group_times(dist_lpz_mateos))\n",
    "lm_timehex.head()"
   ]
  },
  {
   "cell_type": "markdown",
   "id": "fd4fa90c-fe0c-4e35-854d-b31c3dda611f",
   "metadata": {},
   "source": [
    "### Adding population and location (Norte/Sur del periférico) data"
   ]
  },
  {
   "cell_type": "code",
   "execution_count": 81,
   "id": "5d2d3777-e73c-4213-a37c-602d762388f5",
   "metadata": {},
   "outputs": [
    {
     "data": {
      "text/html": [
       "<div>\n",
       "<style scoped>\n",
       "    .dataframe tbody tr th:only-of-type {\n",
       "        vertical-align: middle;\n",
       "    }\n",
       "\n",
       "    .dataframe tbody tr th {\n",
       "        vertical-align: top;\n",
       "    }\n",
       "\n",
       "    .dataframe thead th {\n",
       "        text-align: right;\n",
       "    }\n",
       "</style>\n",
       "<table border=\"1\" class=\"dataframe\">\n",
       "  <thead>\n",
       "    <tr style=\"text-align: right;\">\n",
       "      <th></th>\n",
       "      <th>hex_id_9</th>\n",
       "      <th>pobtot</th>\n",
       "      <th>pobfem</th>\n",
       "      <th>pobmas</th>\n",
       "      <th>p_0a2</th>\n",
       "      <th>p_0a2_f</th>\n",
       "      <th>p_0a2_m</th>\n",
       "      <th>p_3ymas</th>\n",
       "      <th>p_3ymas_f</th>\n",
       "      <th>p_3ymas_m</th>\n",
       "      <th>...</th>\n",
       "      <th>Chng_RVivHab_10</th>\n",
       "      <th>DensPob_10_20</th>\n",
       "      <th>city</th>\n",
       "      <th>ubicacion</th>\n",
       "      <th>geometry</th>\n",
       "      <th>viv_serv</th>\n",
       "      <th>10_viv_serv</th>\n",
       "      <th>%vivconauto</th>\n",
       "      <th>10_%vivconauto</th>\n",
       "      <th>chg_%vivconauto_10_20</th>\n",
       "    </tr>\n",
       "  </thead>\n",
       "  <tbody>\n",
       "    <tr>\n",
       "      <th>0</th>\n",
       "      <td>89498c96ddbffff</td>\n",
       "      <td>579.0</td>\n",
       "      <td>313.0</td>\n",
       "      <td>266.0</td>\n",
       "      <td>3.0</td>\n",
       "      <td>0.0</td>\n",
       "      <td>0.0</td>\n",
       "      <td>571.0</td>\n",
       "      <td>309.0</td>\n",
       "      <td>262.0</td>\n",
       "      <td>...</td>\n",
       "      <td>0.874419</td>\n",
       "      <td>-2.263532</td>\n",
       "      <td>Guadalajara</td>\n",
       "      <td>Norte del periferico</td>\n",
       "      <td>POLYGON ((-103.39147 20.66055, -103.39026 20.6...</td>\n",
       "      <td>188.0</td>\n",
       "      <td>184.0</td>\n",
       "      <td>87.765957</td>\n",
       "      <td>89.130435</td>\n",
       "      <td>-1.364477</td>\n",
       "    </tr>\n",
       "  </tbody>\n",
       "</table>\n",
       "<p>1 rows × 439 columns</p>\n",
       "</div>"
      ],
      "text/plain": [
       "          hex_id_9  pobtot  pobfem  pobmas  p_0a2  p_0a2_f  p_0a2_m  p_3ymas  \\\n",
       "0  89498c96ddbffff   579.0   313.0   266.0    3.0      0.0      0.0    571.0   \n",
       "\n",
       "   p_3ymas_f  p_3ymas_m  ...  Chng_RVivHab_10  DensPob_10_20         city  \\\n",
       "0      309.0      262.0  ...         0.874419      -2.263532  Guadalajara   \n",
       "\n",
       "              ubicacion                                           geometry  \\\n",
       "0  Norte del periferico  POLYGON ((-103.39147 20.66055, -103.39026 20.6...   \n",
       "\n",
       "   viv_serv  10_viv_serv  %vivconauto  10_%vivconauto  chg_%vivconauto_10_20  \n",
       "0     188.0        184.0    87.765957       89.130435              -1.364477  \n",
       "\n",
       "[1 rows x 439 columns]"
      ]
     },
     "execution_count": 81,
     "metadata": {},
     "output_type": "execute_result"
    }
   ],
   "source": [
    "hex9_buffer2km = aup.gdf_from_db('censo1020_mza_hexres9_buffer2km','segundopiso')\n",
    "hex9_buffer2km.head(1)"
   ]
  },
  {
   "cell_type": "code",
   "execution_count": 82,
   "id": "601dd21d-62b2-4bb2-ad97-0baa49a9059a",
   "metadata": {},
   "outputs": [
    {
     "data": {
      "text/html": [
       "<div>\n",
       "<style scoped>\n",
       "    .dataframe tbody tr th:only-of-type {\n",
       "        vertical-align: middle;\n",
       "    }\n",
       "\n",
       "    .dataframe tbody tr th {\n",
       "        vertical-align: top;\n",
       "    }\n",
       "\n",
       "    .dataframe thead th {\n",
       "        text-align: right;\n",
       "    }\n",
       "</style>\n",
       "<table border=\"1\" class=\"dataframe\">\n",
       "  <thead>\n",
       "    <tr style=\"text-align: right;\">\n",
       "      <th></th>\n",
       "      <th>hex_id_9</th>\n",
       "      <th>pobtot</th>\n",
       "      <th>city</th>\n",
       "      <th>ubicacion</th>\n",
       "    </tr>\n",
       "  </thead>\n",
       "  <tbody>\n",
       "    <tr>\n",
       "      <th>0</th>\n",
       "      <td>89498c96ddbffff</td>\n",
       "      <td>579.0</td>\n",
       "      <td>Guadalajara</td>\n",
       "      <td>Norte del periferico</td>\n",
       "    </tr>\n",
       "    <tr>\n",
       "      <th>1</th>\n",
       "      <td>89498c96dafffff</td>\n",
       "      <td>161.0</td>\n",
       "      <td>Guadalajara</td>\n",
       "      <td>Norte del periferico</td>\n",
       "    </tr>\n",
       "    <tr>\n",
       "      <th>2</th>\n",
       "      <td>89498c94ca7ffff</td>\n",
       "      <td>1609.0</td>\n",
       "      <td>Guadalajara</td>\n",
       "      <td>Norte del periferico</td>\n",
       "    </tr>\n",
       "    <tr>\n",
       "      <th>3</th>\n",
       "      <td>8949ab59527ffff</td>\n",
       "      <td>1761.0</td>\n",
       "      <td>Guadalajara</td>\n",
       "      <td>Sur del periferico</td>\n",
       "    </tr>\n",
       "    <tr>\n",
       "      <th>4</th>\n",
       "      <td>89498c96c13ffff</td>\n",
       "      <td>67.0</td>\n",
       "      <td>Guadalajara</td>\n",
       "      <td>Norte del periferico</td>\n",
       "    </tr>\n",
       "  </tbody>\n",
       "</table>\n",
       "</div>"
      ],
      "text/plain": [
       "          hex_id_9  pobtot         city             ubicacion\n",
       "0  89498c96ddbffff   579.0  Guadalajara  Norte del periferico\n",
       "1  89498c96dafffff   161.0  Guadalajara  Norte del periferico\n",
       "2  89498c94ca7ffff  1609.0  Guadalajara  Norte del periferico\n",
       "3  8949ab59527ffff  1761.0  Guadalajara    Sur del periferico\n",
       "4  89498c96c13ffff    67.0  Guadalajara  Norte del periferico"
      ]
     },
     "execution_count": 82,
     "metadata": {},
     "output_type": "execute_result"
    }
   ],
   "source": [
    "fields_to_keep = ['hex_id_9','pobtot','city','ubicacion']\n",
    "hex9_buffer2km_f = hex9_buffer2km[fields_to_keep]\n",
    "hex9_buffer2km_f.head()"
   ]
  },
  {
   "cell_type": "code",
   "execution_count": 83,
   "id": "f52308ba-0b3e-4052-bc50-69a8927d069d",
   "metadata": {},
   "outputs": [
    {
     "data": {
      "text/html": [
       "<div>\n",
       "<style scoped>\n",
       "    .dataframe tbody tr th:only-of-type {\n",
       "        vertical-align: middle;\n",
       "    }\n",
       "\n",
       "    .dataframe tbody tr th {\n",
       "        vertical-align: top;\n",
       "    }\n",
       "\n",
       "    .dataframe thead th {\n",
       "        text-align: right;\n",
       "    }\n",
       "</style>\n",
       "<table border=\"1\" class=\"dataframe\">\n",
       "  <thead>\n",
       "    <tr style=\"text-align: right;\">\n",
       "      <th></th>\n",
       "      <th>hex_id_9</th>\n",
       "      <th>geometry</th>\n",
       "      <th>x</th>\n",
       "      <th>y</th>\n",
       "      <th>street_count</th>\n",
       "      <th>dist_lpz_mateos</th>\n",
       "      <th>timegroup</th>\n",
       "      <th>pobtot</th>\n",
       "      <th>city</th>\n",
       "      <th>ubicacion</th>\n",
       "    </tr>\n",
       "  </thead>\n",
       "  <tbody>\n",
       "    <tr>\n",
       "      <th>0</th>\n",
       "      <td>89498c96a37ffff</td>\n",
       "      <td>POLYGON ((-103.36431 20.69952, -103.36553 20.6...</td>\n",
       "      <td>-103.363363</td>\n",
       "      <td>20.697622</td>\n",
       "      <td>3.375000</td>\n",
       "      <td>9.920159</td>\n",
       "      <td>0-10</td>\n",
       "      <td>874.0</td>\n",
       "      <td>Guadalajara</td>\n",
       "      <td>Norte del periferico</td>\n",
       "    </tr>\n",
       "    <tr>\n",
       "      <th>1</th>\n",
       "      <td>89498c96b13ffff</td>\n",
       "      <td>POLYGON ((-103.37481 20.70039, -103.37359 20.7...</td>\n",
       "      <td>-103.376169</td>\n",
       "      <td>20.702415</td>\n",
       "      <td>3.166667</td>\n",
       "      <td>13.503188</td>\n",
       "      <td>10-20</td>\n",
       "      <td>62.0</td>\n",
       "      <td>Guadalajara</td>\n",
       "      <td>Norte del periferico</td>\n",
       "    </tr>\n",
       "    <tr>\n",
       "      <th>2</th>\n",
       "      <td>89498c96cc7ffff</td>\n",
       "      <td>POLYGON ((-103.37868 20.65091, -103.37658 20.6...</td>\n",
       "      <td>-103.378665</td>\n",
       "      <td>20.653213</td>\n",
       "      <td>2.857143</td>\n",
       "      <td>34.827977</td>\n",
       "      <td>30-45</td>\n",
       "      <td>1699.0</td>\n",
       "      <td>Guadalajara</td>\n",
       "      <td>Norte del periferico</td>\n",
       "    </tr>\n",
       "    <tr>\n",
       "      <th>3</th>\n",
       "      <td>89498c969dbffff</td>\n",
       "      <td>POLYGON ((-103.38788 20.68601, -103.38876 20.6...</td>\n",
       "      <td>-103.389763</td>\n",
       "      <td>20.686206</td>\n",
       "      <td>3.851852</td>\n",
       "      <td>16.345951</td>\n",
       "      <td>10-20</td>\n",
       "      <td>481.0</td>\n",
       "      <td>Guadalajara</td>\n",
       "      <td>Norte del periferico</td>\n",
       "    </tr>\n",
       "    <tr>\n",
       "      <th>4</th>\n",
       "      <td>89498c9684fffff</td>\n",
       "      <td>POLYGON ((-103.36655 20.68769, -103.36865 20.6...</td>\n",
       "      <td>-103.367737</td>\n",
       "      <td>20.686122</td>\n",
       "      <td>3.407407</td>\n",
       "      <td>19.062600</td>\n",
       "      <td>10-20</td>\n",
       "      <td>1824.0</td>\n",
       "      <td>Guadalajara</td>\n",
       "      <td>Norte del periferico</td>\n",
       "    </tr>\n",
       "  </tbody>\n",
       "</table>\n",
       "</div>"
      ],
      "text/plain": [
       "          hex_id_9                                           geometry  \\\n",
       "0  89498c96a37ffff  POLYGON ((-103.36431 20.69952, -103.36553 20.6...   \n",
       "1  89498c96b13ffff  POLYGON ((-103.37481 20.70039, -103.37359 20.7...   \n",
       "2  89498c96cc7ffff  POLYGON ((-103.37868 20.65091, -103.37658 20.6...   \n",
       "3  89498c969dbffff  POLYGON ((-103.38788 20.68601, -103.38876 20.6...   \n",
       "4  89498c9684fffff  POLYGON ((-103.36655 20.68769, -103.36865 20.6...   \n",
       "\n",
       "            x          y  street_count  dist_lpz_mateos timegroup  pobtot  \\\n",
       "0 -103.363363  20.697622      3.375000         9.920159      0-10   874.0   \n",
       "1 -103.376169  20.702415      3.166667        13.503188     10-20    62.0   \n",
       "2 -103.378665  20.653213      2.857143        34.827977     30-45  1699.0   \n",
       "3 -103.389763  20.686206      3.851852        16.345951     10-20   481.0   \n",
       "4 -103.367737  20.686122      3.407407        19.062600     10-20  1824.0   \n",
       "\n",
       "          city             ubicacion  \n",
       "0  Guadalajara  Norte del periferico  \n",
       "1  Guadalajara  Norte del periferico  \n",
       "2  Guadalajara  Norte del periferico  \n",
       "3  Guadalajara  Norte del periferico  \n",
       "4  Guadalajara  Norte del periferico  "
      ]
     },
     "execution_count": 83,
     "metadata": {},
     "output_type": "execute_result"
    }
   ],
   "source": [
    "lm_pob_timehex = lm_timehex.merge(hex9_buffer2km_f, on='hex_id_9')\n",
    "lm_pob_timehex.head()"
   ]
  },
  {
   "cell_type": "markdown",
   "id": "16e3324c-9cbc-488e-b11a-27b261e10ab5",
   "metadata": {},
   "source": [
    "### Dividing data by location"
   ]
  },
  {
   "cell_type": "code",
   "execution_count": 84,
   "id": "cdb983f6-1b08-4355-a284-8ca5912c539a",
   "metadata": {},
   "outputs": [],
   "source": [
    "lm_pob_timehex_norte = lm_pob_timehex[lm_pob_timehex['ubicacion'] == 'Norte del periferico']\n",
    "lm_pob_timehex_sur = lm_pob_timehex[lm_pob_timehex['ubicacion'] == 'Sur del periferico']"
   ]
  },
  {
   "cell_type": "markdown",
   "id": "8fb06e38-c869-4a22-add7-faf628223b78",
   "metadata": {},
   "source": [
    "### Counting population by timegroup by location"
   ]
  },
  {
   "cell_type": "code",
   "execution_count": 85,
   "id": "4b8d201b-d065-4f20-b4c6-a631c6c0c878",
   "metadata": {},
   "outputs": [],
   "source": [
    "nte_pobtimes = lm_pob_timehex_norte.groupby('timegroup').agg({'pobtot':np.sum})\n",
    "sur_pobtimes = lm_pob_timehex_sur.groupby('timegroup').agg({'pobtot':np.sum})"
   ]
  },
  {
   "cell_type": "code",
   "execution_count": 86,
   "id": "d490744f-d6c5-44d4-8828-93dd77369247",
   "metadata": {},
   "outputs": [
    {
     "data": {
      "text/html": [
       "<div>\n",
       "<style scoped>\n",
       "    .dataframe tbody tr th:only-of-type {\n",
       "        vertical-align: middle;\n",
       "    }\n",
       "\n",
       "    .dataframe tbody tr th {\n",
       "        vertical-align: top;\n",
       "    }\n",
       "\n",
       "    .dataframe thead th {\n",
       "        text-align: right;\n",
       "    }\n",
       "</style>\n",
       "<table border=\"1\" class=\"dataframe\">\n",
       "  <thead>\n",
       "    <tr style=\"text-align: right;\">\n",
       "      <th></th>\n",
       "      <th>pobtot</th>\n",
       "    </tr>\n",
       "    <tr>\n",
       "      <th>timegroup</th>\n",
       "      <th></th>\n",
       "    </tr>\n",
       "  </thead>\n",
       "  <tbody>\n",
       "    <tr>\n",
       "      <th>0-10</th>\n",
       "      <td>72816.0</td>\n",
       "    </tr>\n",
       "    <tr>\n",
       "      <th>10-20</th>\n",
       "      <td>91038.0</td>\n",
       "    </tr>\n",
       "    <tr>\n",
       "      <th>20-30</th>\n",
       "      <td>102469.0</td>\n",
       "    </tr>\n",
       "    <tr>\n",
       "      <th>30-45</th>\n",
       "      <td>116760.0</td>\n",
       "    </tr>\n",
       "    <tr>\n",
       "      <th>mas de 45</th>\n",
       "      <td>151.0</td>\n",
       "    </tr>\n",
       "  </tbody>\n",
       "</table>\n",
       "</div>"
      ],
      "text/plain": [
       "             pobtot\n",
       "timegroup          \n",
       "0-10        72816.0\n",
       "10-20       91038.0\n",
       "20-30      102469.0\n",
       "30-45      116760.0\n",
       "mas de 45     151.0"
      ]
     },
     "execution_count": 86,
     "metadata": {},
     "output_type": "execute_result"
    }
   ],
   "source": [
    "nte_pobtimes"
   ]
  },
  {
   "cell_type": "code",
   "execution_count": 87,
   "id": "a217dac2-79c0-4776-a5d3-a6d0e9620189",
   "metadata": {},
   "outputs": [
    {
     "data": {
      "text/html": [
       "<div>\n",
       "<style scoped>\n",
       "    .dataframe tbody tr th:only-of-type {\n",
       "        vertical-align: middle;\n",
       "    }\n",
       "\n",
       "    .dataframe tbody tr th {\n",
       "        vertical-align: top;\n",
       "    }\n",
       "\n",
       "    .dataframe thead th {\n",
       "        text-align: right;\n",
       "    }\n",
       "</style>\n",
       "<table border=\"1\" class=\"dataframe\">\n",
       "  <thead>\n",
       "    <tr style=\"text-align: right;\">\n",
       "      <th></th>\n",
       "      <th>pobtot</th>\n",
       "    </tr>\n",
       "    <tr>\n",
       "      <th>timegroup</th>\n",
       "      <th></th>\n",
       "    </tr>\n",
       "  </thead>\n",
       "  <tbody>\n",
       "    <tr>\n",
       "      <th>0-10</th>\n",
       "      <td>31310.0</td>\n",
       "    </tr>\n",
       "    <tr>\n",
       "      <th>10-20</th>\n",
       "      <td>50193.0</td>\n",
       "    </tr>\n",
       "    <tr>\n",
       "      <th>20-30</th>\n",
       "      <td>43610.0</td>\n",
       "    </tr>\n",
       "    <tr>\n",
       "      <th>30-45</th>\n",
       "      <td>62293.0</td>\n",
       "    </tr>\n",
       "    <tr>\n",
       "      <th>mas de 45</th>\n",
       "      <td>2082.0</td>\n",
       "    </tr>\n",
       "  </tbody>\n",
       "</table>\n",
       "</div>"
      ],
      "text/plain": [
       "            pobtot\n",
       "timegroup         \n",
       "0-10       31310.0\n",
       "10-20      50193.0\n",
       "20-30      43610.0\n",
       "30-45      62293.0\n",
       "mas de 45   2082.0"
      ]
     },
     "execution_count": 87,
     "metadata": {},
     "output_type": "execute_result"
    }
   ],
   "source": [
    "sur_pobtimes"
   ]
  },
  {
   "cell_type": "code",
   "execution_count": null,
   "id": "8384ae02-c07b-4c8f-a380-c2c9e7981438",
   "metadata": {},
   "outputs": [],
   "source": []
  }
 ],
 "metadata": {
  "kernelspec": {
   "display_name": "Python 3 (ipykernel)",
   "language": "python",
   "name": "python3"
  },
  "language_info": {
   "codemirror_mode": {
    "name": "ipython",
    "version": 3
   },
   "file_extension": ".py",
   "mimetype": "text/x-python",
   "name": "python",
   "nbconvert_exporter": "python",
   "pygments_lexer": "ipython3",
   "version": "3.9.7"
  }
 },
 "nbformat": 4,
 "nbformat_minor": 5
}
