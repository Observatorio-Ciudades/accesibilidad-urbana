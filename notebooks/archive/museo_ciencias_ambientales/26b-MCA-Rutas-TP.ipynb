{
 "cells": [
  {
   "cell_type": "code",
   "execution_count": 73,
   "metadata": {},
   "outputs": [],
   "source": [
    "import pandas as pd\n",
    "import numpy as np\n",
    "import geopandas as gpd\n",
    "import matplotlib.pyplot as plt\n",
    "from shapely.geometry import Point\n",
    "\n",
    "import os\n",
    "import sys\n",
    "module_path = os.path.abspath(os.path.join('..'))\n",
    "if module_path not in sys.path:\n",
    "    sys.path.append(module_path)\n",
    "    import aup"
   ]
  },
  {
   "cell_type": "markdown",
   "metadata": {},
   "source": [
    "## Análisis de transporte público"
   ]
  },
  {
   "cell_type": "markdown",
   "metadata": {},
   "source": [
    "### Red de transporte público"
   ]
  },
  {
   "cell_type": "code",
   "execution_count": 5,
   "metadata": {},
   "outputs": [],
   "source": [
    "rutas_gdf = gpd.read_file('/home/edgar/SIG/ObsCds/'+\n",
    "                          'Proyectos/Museo_CienciasAmbientales'+\n",
    "                          '/Medio_Urbano/Transporte_Publico/'+\n",
    "                          'RutasTP400m_RutaMiMacro_UTM.geojson',\n",
    "                         driver='GeoJSON')\n",
    "paradas_gdf = gpd.read_file('/home/edgar/SIG/ObsCds/'+\n",
    "                          'Proyectos/Museo_CienciasAmbientales'+\n",
    "                          '/Medio_Urbano/Transporte_Publico/'+\n",
    "                            'Paradas400m_EstacionesMiMacro_UTM_v1.geojson',\n",
    "                         driver='GeoJSON')"
   ]
  },
  {
   "cell_type": "code",
   "execution_count": 6,
   "metadata": {},
   "outputs": [
    {
     "name": "stdout",
     "output_type": "stream",
     "text": [
      "(37507, 13)\n"
     ]
    },
    {
     "data": {
      "text/html": [
       "<div>\n",
       "<style scoped>\n",
       "    .dataframe tbody tr th:only-of-type {\n",
       "        vertical-align: middle;\n",
       "    }\n",
       "\n",
       "    .dataframe tbody tr th {\n",
       "        vertical-align: top;\n",
       "    }\n",
       "\n",
       "    .dataframe thead th {\n",
       "        text-align: right;\n",
       "    }\n",
       "</style>\n",
       "<table border=\"1\" class=\"dataframe\">\n",
       "  <thead>\n",
       "    <tr style=\"text-align: right;\">\n",
       "      <th></th>\n",
       "      <th>Tipo_de_co</th>\n",
       "      <th>Tipo</th>\n",
       "      <th>Nombre</th>\n",
       "      <th>Estado</th>\n",
       "      <th>fid</th>\n",
       "      <th>cat</th>\n",
       "      <th>Tipo_de_se</th>\n",
       "      <th>Clasificac</th>\n",
       "      <th>Clasifica0</th>\n",
       "      <th>Ruta_id</th>\n",
       "      <th>layer</th>\n",
       "      <th>path</th>\n",
       "      <th>geometry</th>\n",
       "    </tr>\n",
       "  </thead>\n",
       "  <tbody>\n",
       "    <tr>\n",
       "      <th>0</th>\n",
       "      <td>Masivo</td>\n",
       "      <td>Circunvalar</td>\n",
       "      <td>Corredor 3 Circuito perif�rico (Mi Macro Perif...</td>\n",
       "      <td>En construcci�n</td>\n",
       "      <td>NaN</td>\n",
       "      <td>NaN</td>\n",
       "      <td>None</td>\n",
       "      <td>None</td>\n",
       "      <td>None</td>\n",
       "      <td>642</td>\n",
       "      <td>MacroPeriferico_Imeplan_UTM_v1</td>\n",
       "      <td>/home/edgar/SIG/ObsCds/Proyectos/Museo_Ciencia...</td>\n",
       "      <td>LINESTRING (662096.413 2284192.153, 662096.413...</td>\n",
       "    </tr>\n",
       "    <tr>\n",
       "      <th>1</th>\n",
       "      <td>Masivo</td>\n",
       "      <td>Circunvalar</td>\n",
       "      <td>Corredor 3 Circuito perif�rico (Mi Macro Perif...</td>\n",
       "      <td>En construcci�n</td>\n",
       "      <td>NaN</td>\n",
       "      <td>NaN</td>\n",
       "      <td>None</td>\n",
       "      <td>None</td>\n",
       "      <td>None</td>\n",
       "      <td>642</td>\n",
       "      <td>MacroPeriferico_Imeplan_UTM_v1</td>\n",
       "      <td>/home/edgar/SIG/ObsCds/Proyectos/Museo_Ciencia...</td>\n",
       "      <td>LINESTRING (664462.242 2292315.052, 664462.242...</td>\n",
       "    </tr>\n",
       "  </tbody>\n",
       "</table>\n",
       "</div>"
      ],
      "text/plain": [
       "  Tipo_de_co         Tipo                                             Nombre  \\\n",
       "0     Masivo  Circunvalar  Corredor 3 Circuito perif�rico (Mi Macro Perif...   \n",
       "1     Masivo  Circunvalar  Corredor 3 Circuito perif�rico (Mi Macro Perif...   \n",
       "\n",
       "            Estado  fid  cat Tipo_de_se Clasificac Clasifica0  Ruta_id  \\\n",
       "0  En construcci�n  NaN  NaN       None       None       None      642   \n",
       "1  En construcci�n  NaN  NaN       None       None       None      642   \n",
       "\n",
       "                            layer  \\\n",
       "0  MacroPeriferico_Imeplan_UTM_v1   \n",
       "1  MacroPeriferico_Imeplan_UTM_v1   \n",
       "\n",
       "                                                path  \\\n",
       "0  /home/edgar/SIG/ObsCds/Proyectos/Museo_Ciencia...   \n",
       "1  /home/edgar/SIG/ObsCds/Proyectos/Museo_Ciencia...   \n",
       "\n",
       "                                            geometry  \n",
       "0  LINESTRING (662096.413 2284192.153, 662096.413...  \n",
       "1  LINESTRING (664462.242 2292315.052, 664462.242...  "
      ]
     },
     "execution_count": 6,
     "metadata": {},
     "output_type": "execute_result"
    }
   ],
   "source": [
    "print(rutas_gdf.shape)\n",
    "rutas_gdf.head(2)"
   ]
  },
  {
   "cell_type": "code",
   "execution_count": 7,
   "metadata": {},
   "outputs": [
    {
     "name": "stdout",
     "output_type": "stream",
     "text": [
      "(37073, 20)\n"
     ]
    },
    {
     "data": {
      "text/html": [
       "<div>\n",
       "<style scoped>\n",
       "    .dataframe tbody tr th:only-of-type {\n",
       "        vertical-align: middle;\n",
       "    }\n",
       "\n",
       "    .dataframe tbody tr th {\n",
       "        vertical-align: top;\n",
       "    }\n",
       "\n",
       "    .dataframe thead th {\n",
       "        text-align: right;\n",
       "    }\n",
       "</style>\n",
       "<table border=\"1\" class=\"dataframe\">\n",
       "  <thead>\n",
       "    <tr style=\"text-align: right;\">\n",
       "      <th></th>\n",
       "      <th>Nombre_de_</th>\n",
       "      <th>Sistema</th>\n",
       "      <th>Estructura</th>\n",
       "      <th>Estado</th>\n",
       "      <th>L�nea_y_si</th>\n",
       "      <th>fid</th>\n",
       "      <th>cat</th>\n",
       "      <th>Tipo_de_se</th>\n",
       "      <th>Clasificac</th>\n",
       "      <th>Clasifica0</th>\n",
       "      <th>Ruta_id</th>\n",
       "      <th>vertex_pos</th>\n",
       "      <th>vertex_ind</th>\n",
       "      <th>vertex_par</th>\n",
       "      <th>vertex_p_1</th>\n",
       "      <th>distance</th>\n",
       "      <th>angle</th>\n",
       "      <th>layer</th>\n",
       "      <th>path</th>\n",
       "      <th>geometry</th>\n",
       "    </tr>\n",
       "  </thead>\n",
       "  <tbody>\n",
       "    <tr>\n",
       "      <th>0</th>\n",
       "      <td>Tepeyac</td>\n",
       "      <td>BRT (Bus Rapid Transit)</td>\n",
       "      <td>Superficie</td>\n",
       "      <td>En proceso</td>\n",
       "      <td>Mi Macro Perif�rico</td>\n",
       "      <td>NaN</td>\n",
       "      <td>NaN</td>\n",
       "      <td>None</td>\n",
       "      <td>None</td>\n",
       "      <td>None</td>\n",
       "      <td>642</td>\n",
       "      <td>NaN</td>\n",
       "      <td>NaN</td>\n",
       "      <td>NaN</td>\n",
       "      <td>NaN</td>\n",
       "      <td>NaN</td>\n",
       "      <td>NaN</td>\n",
       "      <td>Estaciones_MiMacro</td>\n",
       "      <td>/home/edgar/SIG/ObsCds/Proyectos/Museo_Ciencia...</td>\n",
       "      <td>POINT (662096.413 2284192.153)</td>\n",
       "    </tr>\n",
       "    <tr>\n",
       "      <th>1</th>\n",
       "      <td>Trompo Magico</td>\n",
       "      <td>BRT (Bus Rapid Transit)</td>\n",
       "      <td>Superficie</td>\n",
       "      <td>En proceso</td>\n",
       "      <td>Mi Macro Perif�rico</td>\n",
       "      <td>NaN</td>\n",
       "      <td>NaN</td>\n",
       "      <td>None</td>\n",
       "      <td>None</td>\n",
       "      <td>None</td>\n",
       "      <td>642</td>\n",
       "      <td>NaN</td>\n",
       "      <td>NaN</td>\n",
       "      <td>NaN</td>\n",
       "      <td>NaN</td>\n",
       "      <td>NaN</td>\n",
       "      <td>NaN</td>\n",
       "      <td>Estaciones_MiMacro</td>\n",
       "      <td>/home/edgar/SIG/ObsCds/Proyectos/Museo_Ciencia...</td>\n",
       "      <td>POINT (664462.242 2292315.052)</td>\n",
       "    </tr>\n",
       "  </tbody>\n",
       "</table>\n",
       "</div>"
      ],
      "text/plain": [
       "      Nombre_de_                  Sistema  Estructura      Estado  \\\n",
       "0        Tepeyac  BRT (Bus Rapid Transit)  Superficie  En proceso   \n",
       "1  Trompo Magico  BRT (Bus Rapid Transit)  Superficie  En proceso   \n",
       "\n",
       "            L�nea_y_si  fid  cat Tipo_de_se Clasificac Clasifica0  Ruta_id  \\\n",
       "0  Mi Macro Perif�rico  NaN  NaN       None       None       None      642   \n",
       "1  Mi Macro Perif�rico  NaN  NaN       None       None       None      642   \n",
       "\n",
       "   vertex_pos  vertex_ind  vertex_par  vertex_p_1  distance  angle  \\\n",
       "0         NaN         NaN         NaN         NaN       NaN    NaN   \n",
       "1         NaN         NaN         NaN         NaN       NaN    NaN   \n",
       "\n",
       "                layer                                               path  \\\n",
       "0  Estaciones_MiMacro  /home/edgar/SIG/ObsCds/Proyectos/Museo_Ciencia...   \n",
       "1  Estaciones_MiMacro  /home/edgar/SIG/ObsCds/Proyectos/Museo_Ciencia...   \n",
       "\n",
       "                         geometry  \n",
       "0  POINT (662096.413 2284192.153)  \n",
       "1  POINT (664462.242 2292315.052)  "
      ]
     },
     "execution_count": 7,
     "metadata": {},
     "output_type": "execute_result"
    }
   ],
   "source": [
    "print(paradas_gdf.shape)\n",
    "paradas_gdf.head(2)"
   ]
  },
  {
   "cell_type": "code",
   "execution_count": 8,
   "metadata": {},
   "outputs": [],
   "source": [
    "paradas_nx, rutas_nx = aup.create_network(paradas_gdf, rutas_gdf)"
   ]
  },
  {
   "cell_type": "code",
   "execution_count": 9,
   "metadata": {},
   "outputs": [
    {
     "name": "stdout",
     "output_type": "stream",
     "text": [
      "(37507, 17)\n"
     ]
    },
    {
     "data": {
      "text/html": [
       "<div>\n",
       "<style scoped>\n",
       "    .dataframe tbody tr th:only-of-type {\n",
       "        vertical-align: middle;\n",
       "    }\n",
       "\n",
       "    .dataframe tbody tr th {\n",
       "        vertical-align: top;\n",
       "    }\n",
       "\n",
       "    .dataframe thead th {\n",
       "        text-align: right;\n",
       "    }\n",
       "</style>\n",
       "<table border=\"1\" class=\"dataframe\">\n",
       "  <thead>\n",
       "    <tr style=\"text-align: right;\">\n",
       "      <th></th>\n",
       "      <th>Tipo_de_co</th>\n",
       "      <th>Tipo</th>\n",
       "      <th>Nombre</th>\n",
       "      <th>Estado</th>\n",
       "      <th>fid</th>\n",
       "      <th>cat</th>\n",
       "      <th>Tipo_de_se</th>\n",
       "      <th>Clasificac</th>\n",
       "      <th>Clasifica0</th>\n",
       "      <th>Ruta_id</th>\n",
       "      <th>layer</th>\n",
       "      <th>path</th>\n",
       "      <th>geometry</th>\n",
       "      <th>u</th>\n",
       "      <th>v</th>\n",
       "      <th>key</th>\n",
       "      <th>length</th>\n",
       "    </tr>\n",
       "  </thead>\n",
       "  <tbody>\n",
       "    <tr>\n",
       "      <th>0</th>\n",
       "      <td>Masivo</td>\n",
       "      <td>Circunvalar</td>\n",
       "      <td>Corredor 3 Circuito perif�rico (Mi Macro Perif...</td>\n",
       "      <td>En construcci�n</td>\n",
       "      <td>NaN</td>\n",
       "      <td>NaN</td>\n",
       "      <td>None</td>\n",
       "      <td>None</td>\n",
       "      <td>None</td>\n",
       "      <td>642</td>\n",
       "      <td>MacroPeriferico_Imeplan_UTM_v1</td>\n",
       "      <td>/home/edgar/SIG/ObsCds/Proyectos/Museo_Ciencia...</td>\n",
       "      <td>LINESTRING (-103.44406 20.65003, -103.44406 20...</td>\n",
       "      <td>2350147961102</td>\n",
       "      <td>2350147961102</td>\n",
       "      <td>0</td>\n",
       "      <td>0.0</td>\n",
       "    </tr>\n",
       "    <tr>\n",
       "      <th>1</th>\n",
       "      <td>Masivo</td>\n",
       "      <td>Circunvalar</td>\n",
       "      <td>Corredor 3 Circuito perif�rico (Mi Macro Perif...</td>\n",
       "      <td>En construcci�n</td>\n",
       "      <td>NaN</td>\n",
       "      <td>NaN</td>\n",
       "      <td>None</td>\n",
       "      <td>None</td>\n",
       "      <td>None</td>\n",
       "      <td>642</td>\n",
       "      <td>MacroPeriferico_Imeplan_UTM_v1</td>\n",
       "      <td>/home/edgar/SIG/ObsCds/Proyectos/Museo_Ciencia...</td>\n",
       "      <td>LINESTRING (-103.42059 20.72319, -103.42059 20...</td>\n",
       "      <td>2352661969143</td>\n",
       "      <td>2352661969143</td>\n",
       "      <td>0</td>\n",
       "      <td>0.0</td>\n",
       "    </tr>\n",
       "  </tbody>\n",
       "</table>\n",
       "</div>"
      ],
      "text/plain": [
       "  Tipo_de_co         Tipo                                             Nombre  \\\n",
       "0     Masivo  Circunvalar  Corredor 3 Circuito perif�rico (Mi Macro Perif...   \n",
       "1     Masivo  Circunvalar  Corredor 3 Circuito perif�rico (Mi Macro Perif...   \n",
       "\n",
       "            Estado  fid  cat Tipo_de_se Clasificac Clasifica0  Ruta_id  \\\n",
       "0  En construcci�n  NaN  NaN       None       None       None      642   \n",
       "1  En construcci�n  NaN  NaN       None       None       None      642   \n",
       "\n",
       "                            layer  \\\n",
       "0  MacroPeriferico_Imeplan_UTM_v1   \n",
       "1  MacroPeriferico_Imeplan_UTM_v1   \n",
       "\n",
       "                                                path  \\\n",
       "0  /home/edgar/SIG/ObsCds/Proyectos/Museo_Ciencia...   \n",
       "1  /home/edgar/SIG/ObsCds/Proyectos/Museo_Ciencia...   \n",
       "\n",
       "                                            geometry              u  \\\n",
       "0  LINESTRING (-103.44406 20.65003, -103.44406 20...  2350147961102   \n",
       "1  LINESTRING (-103.42059 20.72319, -103.42059 20...  2352661969143   \n",
       "\n",
       "               v  key  length  \n",
       "0  2350147961102    0     0.0  \n",
       "1  2352661969143    0     0.0  "
      ]
     },
     "execution_count": 9,
     "metadata": {},
     "output_type": "execute_result"
    }
   ],
   "source": [
    "print(rutas_nx.shape)\n",
    "rutas_nx.head(2)"
   ]
  },
  {
   "cell_type": "code",
   "execution_count": 10,
   "metadata": {},
   "outputs": [
    {
     "name": "stdout",
     "output_type": "stream",
     "text": [
      "(36322, 21)\n"
     ]
    },
    {
     "data": {
      "text/html": [
       "<div>\n",
       "<style scoped>\n",
       "    .dataframe tbody tr th:only-of-type {\n",
       "        vertical-align: middle;\n",
       "    }\n",
       "\n",
       "    .dataframe tbody tr th {\n",
       "        vertical-align: top;\n",
       "    }\n",
       "\n",
       "    .dataframe thead th {\n",
       "        text-align: right;\n",
       "    }\n",
       "</style>\n",
       "<table border=\"1\" class=\"dataframe\">\n",
       "  <thead>\n",
       "    <tr style=\"text-align: right;\">\n",
       "      <th></th>\n",
       "      <th>Nombre_de_</th>\n",
       "      <th>Sistema</th>\n",
       "      <th>Estructura</th>\n",
       "      <th>Estado</th>\n",
       "      <th>L�nea_y_si</th>\n",
       "      <th>fid</th>\n",
       "      <th>cat</th>\n",
       "      <th>Tipo_de_se</th>\n",
       "      <th>Clasificac</th>\n",
       "      <th>Clasifica0</th>\n",
       "      <th>...</th>\n",
       "      <th>vertex_pos</th>\n",
       "      <th>vertex_ind</th>\n",
       "      <th>vertex_par</th>\n",
       "      <th>vertex_p_1</th>\n",
       "      <th>distance</th>\n",
       "      <th>angle</th>\n",
       "      <th>layer</th>\n",
       "      <th>path</th>\n",
       "      <th>geometry</th>\n",
       "      <th>osmid</th>\n",
       "    </tr>\n",
       "  </thead>\n",
       "  <tbody>\n",
       "    <tr>\n",
       "      <th>0</th>\n",
       "      <td>Tepeyac</td>\n",
       "      <td>BRT (Bus Rapid Transit)</td>\n",
       "      <td>Superficie</td>\n",
       "      <td>En proceso</td>\n",
       "      <td>Mi Macro Perif�rico</td>\n",
       "      <td>NaN</td>\n",
       "      <td>NaN</td>\n",
       "      <td>None</td>\n",
       "      <td>None</td>\n",
       "      <td>None</td>\n",
       "      <td>...</td>\n",
       "      <td>NaN</td>\n",
       "      <td>NaN</td>\n",
       "      <td>NaN</td>\n",
       "      <td>NaN</td>\n",
       "      <td>NaN</td>\n",
       "      <td>NaN</td>\n",
       "      <td>Estaciones_MiMacro</td>\n",
       "      <td>/home/edgar/SIG/ObsCds/Proyectos/Museo_Ciencia...</td>\n",
       "      <td>POINT (-103.44406 20.65003)</td>\n",
       "      <td>2350147961102</td>\n",
       "    </tr>\n",
       "    <tr>\n",
       "      <th>1</th>\n",
       "      <td>Trompo Magico</td>\n",
       "      <td>BRT (Bus Rapid Transit)</td>\n",
       "      <td>Superficie</td>\n",
       "      <td>En proceso</td>\n",
       "      <td>Mi Macro Perif�rico</td>\n",
       "      <td>NaN</td>\n",
       "      <td>NaN</td>\n",
       "      <td>None</td>\n",
       "      <td>None</td>\n",
       "      <td>None</td>\n",
       "      <td>...</td>\n",
       "      <td>NaN</td>\n",
       "      <td>NaN</td>\n",
       "      <td>NaN</td>\n",
       "      <td>NaN</td>\n",
       "      <td>NaN</td>\n",
       "      <td>NaN</td>\n",
       "      <td>Estaciones_MiMacro</td>\n",
       "      <td>/home/edgar/SIG/ObsCds/Proyectos/Museo_Ciencia...</td>\n",
       "      <td>POINT (-103.42059 20.72319)</td>\n",
       "      <td>2352661969143</td>\n",
       "    </tr>\n",
       "  </tbody>\n",
       "</table>\n",
       "<p>2 rows × 21 columns</p>\n",
       "</div>"
      ],
      "text/plain": [
       "      Nombre_de_                  Sistema  Estructura      Estado  \\\n",
       "0        Tepeyac  BRT (Bus Rapid Transit)  Superficie  En proceso   \n",
       "1  Trompo Magico  BRT (Bus Rapid Transit)  Superficie  En proceso   \n",
       "\n",
       "            L�nea_y_si  fid  cat Tipo_de_se Clasificac Clasifica0  ...  \\\n",
       "0  Mi Macro Perif�rico  NaN  NaN       None       None       None  ...   \n",
       "1  Mi Macro Perif�rico  NaN  NaN       None       None       None  ...   \n",
       "\n",
       "   vertex_pos  vertex_ind  vertex_par  vertex_p_1  distance  angle  \\\n",
       "0         NaN         NaN         NaN         NaN       NaN    NaN   \n",
       "1         NaN         NaN         NaN         NaN       NaN    NaN   \n",
       "\n",
       "                layer                                               path  \\\n",
       "0  Estaciones_MiMacro  /home/edgar/SIG/ObsCds/Proyectos/Museo_Ciencia...   \n",
       "1  Estaciones_MiMacro  /home/edgar/SIG/ObsCds/Proyectos/Museo_Ciencia...   \n",
       "\n",
       "                      geometry          osmid  \n",
       "0  POINT (-103.44406 20.65003)  2350147961102  \n",
       "1  POINT (-103.42059 20.72319)  2352661969143  \n",
       "\n",
       "[2 rows x 21 columns]"
      ]
     },
     "execution_count": 10,
     "metadata": {},
     "output_type": "execute_result"
    }
   ],
   "source": [
    "paradas_nx = paradas_nx.iloc[paradas_nx.osmid.drop_duplicates().index]\n",
    "print(paradas_nx.shape)\n",
    "paradas_nx.head(2)"
   ]
  },
  {
   "cell_type": "markdown",
   "metadata": {},
   "source": [
    "## Red OSMnx"
   ]
  },
  {
   "cell_type": "markdown",
   "metadata": {},
   "source": [
    "### Abre red local"
   ]
  },
  {
   "cell_type": "code",
   "execution_count": 11,
   "metadata": {},
   "outputs": [],
   "source": [
    "import osmnx as ox"
   ]
  },
  {
   "cell_type": "code",
   "execution_count": 12,
   "metadata": {},
   "outputs": [
    {
     "name": "stdout",
     "output_type": "stream",
     "text": [
      "(414773, 16)\n"
     ]
    },
    {
     "data": {
      "text/html": [
       "<div>\n",
       "<style scoped>\n",
       "    .dataframe tbody tr th:only-of-type {\n",
       "        vertical-align: middle;\n",
       "    }\n",
       "\n",
       "    .dataframe tbody tr th {\n",
       "        vertical-align: top;\n",
       "    }\n",
       "\n",
       "    .dataframe thead th {\n",
       "        text-align: right;\n",
       "    }\n",
       "</style>\n",
       "<table border=\"1\" class=\"dataframe\">\n",
       "  <thead>\n",
       "    <tr style=\"text-align: right;\">\n",
       "      <th></th>\n",
       "      <th>id</th>\n",
       "      <th>u</th>\n",
       "      <th>v</th>\n",
       "      <th>key</th>\n",
       "      <th>osmid</th>\n",
       "      <th>oneway</th>\n",
       "      <th>length</th>\n",
       "      <th>grade</th>\n",
       "      <th>grade_abs</th>\n",
       "      <th>bridge</th>\n",
       "      <th>junction</th>\n",
       "      <th>service</th>\n",
       "      <th>tunnel</th>\n",
       "      <th>walkspeed</th>\n",
       "      <th>time_min</th>\n",
       "      <th>geometry</th>\n",
       "    </tr>\n",
       "  </thead>\n",
       "  <tbody>\n",
       "    <tr>\n",
       "      <th>0</th>\n",
       "      <td>-1.922695e+09</td>\n",
       "      <td>1.680913e+09</td>\n",
       "      <td>1.680913e+09</td>\n",
       "      <td>0.0</td>\n",
       "      <td>155732288</td>\n",
       "      <td>False</td>\n",
       "      <td>45.603</td>\n",
       "      <td>0.022</td>\n",
       "      <td>0.022</td>\n",
       "      <td>None</td>\n",
       "      <td>None</td>\n",
       "      <td>None</td>\n",
       "      <td>None</td>\n",
       "      <td>3.703559</td>\n",
       "      <td>0.738797</td>\n",
       "      <td>LINESTRING (-103.25834 20.68905, -103.25844 20...</td>\n",
       "    </tr>\n",
       "    <tr>\n",
       "      <th>1</th>\n",
       "      <td>-1.922105e+09</td>\n",
       "      <td>4.343498e+09</td>\n",
       "      <td>4.343498e+09</td>\n",
       "      <td>0.0</td>\n",
       "      <td>436461417</td>\n",
       "      <td>False</td>\n",
       "      <td>141.661</td>\n",
       "      <td>0.042</td>\n",
       "      <td>0.042</td>\n",
       "      <td>None</td>\n",
       "      <td>None</td>\n",
       "      <td>None</td>\n",
       "      <td>None</td>\n",
       "      <td>3.453176</td>\n",
       "      <td>2.461404</td>\n",
       "      <td>LINESTRING (-103.19724 20.66496, -103.19742 20...</td>\n",
       "    </tr>\n",
       "  </tbody>\n",
       "</table>\n",
       "</div>"
      ],
      "text/plain": [
       "             id             u             v  key      osmid oneway   length  \\\n",
       "0 -1.922695e+09  1.680913e+09  1.680913e+09  0.0  155732288  False   45.603   \n",
       "1 -1.922105e+09  4.343498e+09  4.343498e+09  0.0  436461417  False  141.661   \n",
       "\n",
       "   grade  grade_abs bridge junction service tunnel  walkspeed  time_min  \\\n",
       "0  0.022      0.022   None     None    None   None   3.703559  0.738797   \n",
       "1  0.042      0.042   None     None    None   None   3.453176  2.461404   \n",
       "\n",
       "                                            geometry  \n",
       "0  LINESTRING (-103.25834 20.68905, -103.25844 20...  \n",
       "1  LINESTRING (-103.19724 20.66496, -103.19742 20...  "
      ]
     },
     "execution_count": 12,
     "metadata": {},
     "output_type": "execute_result"
    }
   ],
   "source": [
    "edges = gpd.read_file('/home/edgar/SIG/ObsCds/Proyectos/Museo_CienciasAmbientales/Medio_Urbano/Vias_Transporte/edges_speed_AMG.geojson', driver='GeoJSON')\n",
    "print(edges.shape)\n",
    "edges.head(2)"
   ]
  },
  {
   "cell_type": "code",
   "execution_count": 13,
   "metadata": {},
   "outputs": [
    {
     "name": "stdout",
     "output_type": "stream",
     "text": [
      "(172090, 5)\n"
     ]
    },
    {
     "data": {
      "text/html": [
       "<div>\n",
       "<style scoped>\n",
       "    .dataframe tbody tr th:only-of-type {\n",
       "        vertical-align: middle;\n",
       "    }\n",
       "\n",
       "    .dataframe tbody tr th {\n",
       "        vertical-align: top;\n",
       "    }\n",
       "\n",
       "    .dataframe thead th {\n",
       "        text-align: right;\n",
       "    }\n",
       "</style>\n",
       "<table border=\"1\" class=\"dataframe\">\n",
       "  <thead>\n",
       "    <tr style=\"text-align: right;\">\n",
       "      <th></th>\n",
       "      <th>osmid</th>\n",
       "      <th>x</th>\n",
       "      <th>y</th>\n",
       "      <th>street_count</th>\n",
       "      <th>geometry</th>\n",
       "    </tr>\n",
       "  </thead>\n",
       "  <tbody>\n",
       "    <tr>\n",
       "      <th>0</th>\n",
       "      <td>28751344</td>\n",
       "      <td>-103.306309</td>\n",
       "      <td>20.711533</td>\n",
       "      <td>3.0</td>\n",
       "      <td>POINT (-103.30631 20.71153)</td>\n",
       "    </tr>\n",
       "    <tr>\n",
       "      <th>1</th>\n",
       "      <td>28753224</td>\n",
       "      <td>-103.316645</td>\n",
       "      <td>20.700650</td>\n",
       "      <td>3.0</td>\n",
       "      <td>POINT (-103.31665 20.70065)</td>\n",
       "    </tr>\n",
       "  </tbody>\n",
       "</table>\n",
       "</div>"
      ],
      "text/plain": [
       "      osmid           x          y  street_count                     geometry\n",
       "0  28751344 -103.306309  20.711533           3.0  POINT (-103.30631 20.71153)\n",
       "1  28753224 -103.316645  20.700650           3.0  POINT (-103.31665 20.70065)"
      ]
     },
     "execution_count": 13,
     "metadata": {},
     "output_type": "execute_result"
    }
   ],
   "source": [
    "nodes = gpd.read_file('/home/edgar/SIG/ObsCds/Proyectos/Museo_CienciasAmbientales/Medio_Urbano/Vias_Transporte/nodes_AMG.geojson', driver='GeoJSON')\n",
    "print(nodes.shape)\n",
    "nodes.head(2)"
   ]
  },
  {
   "cell_type": "code",
   "execution_count": 14,
   "metadata": {},
   "outputs": [
    {
     "name": "stderr",
     "output_type": "stream",
     "text": [
      "/home/edgar/anaconda3/envs/geo_env/lib/python3.8/site-packages/osmnx/utils_graph.py:155: UserWarning: discarding the gdf_nodes geometry column, though its values differ from the coordinates in the x and y columns\n",
      "  warnings.warn(\n"
     ]
    }
   ],
   "source": [
    "G = ox.graph_from_gdfs(nodes.set_index('osmid'), edges.set_index(['u','v','key']))"
   ]
  },
  {
   "cell_type": "markdown",
   "metadata": {
    "tags": []
   },
   "source": [
    "### Filtro de edges y nodos conectados al museo"
   ]
  },
  {
   "cell_type": "code",
   "execution_count": 15,
   "metadata": {},
   "outputs": [],
   "source": [
    "nodes_conect_list = list(edges.loc[edges.u==999999]['v'])\n",
    "nodes_conect_list.append(list(edges.loc[edges.v==999999]['u'])[0])"
   ]
  },
  {
   "cell_type": "code",
   "execution_count": 16,
   "metadata": {},
   "outputs": [
    {
     "data": {
      "text/plain": [
       "[7767887410.0, 8818211961.0]"
      ]
     },
     "execution_count": 16,
     "metadata": {},
     "output_type": "execute_result"
    }
   ],
   "source": [
    "nodes_conect_list"
   ]
  },
  {
   "cell_type": "code",
   "execution_count": 17,
   "metadata": {},
   "outputs": [
    {
     "name": "stdout",
     "output_type": "stream",
     "text": [
      "(2, 5)\n"
     ]
    },
    {
     "data": {
      "text/html": [
       "<div>\n",
       "<style scoped>\n",
       "    .dataframe tbody tr th:only-of-type {\n",
       "        vertical-align: middle;\n",
       "    }\n",
       "\n",
       "    .dataframe tbody tr th {\n",
       "        vertical-align: top;\n",
       "    }\n",
       "\n",
       "    .dataframe thead th {\n",
       "        text-align: right;\n",
       "    }\n",
       "</style>\n",
       "<table border=\"1\" class=\"dataframe\">\n",
       "  <thead>\n",
       "    <tr style=\"text-align: right;\">\n",
       "      <th></th>\n",
       "      <th>osmid</th>\n",
       "      <th>x</th>\n",
       "      <th>y</th>\n",
       "      <th>street_count</th>\n",
       "      <th>geometry</th>\n",
       "    </tr>\n",
       "  </thead>\n",
       "  <tbody>\n",
       "    <tr>\n",
       "      <th>126018</th>\n",
       "      <td>7767887410</td>\n",
       "      <td>-103.381158</td>\n",
       "      <td>20.734485</td>\n",
       "      <td>3.0</td>\n",
       "      <td>POINT (-103.38116 20.73448)</td>\n",
       "    </tr>\n",
       "    <tr>\n",
       "      <th>171750</th>\n",
       "      <td>8818211961</td>\n",
       "      <td>-103.381158</td>\n",
       "      <td>20.738620</td>\n",
       "      <td>3.0</td>\n",
       "      <td>POINT (-103.38116 20.73862)</td>\n",
       "    </tr>\n",
       "  </tbody>\n",
       "</table>\n",
       "</div>"
      ],
      "text/plain": [
       "             osmid           x          y  street_count  \\\n",
       "126018  7767887410 -103.381158  20.734485           3.0   \n",
       "171750  8818211961 -103.381158  20.738620           3.0   \n",
       "\n",
       "                           geometry  \n",
       "126018  POINT (-103.38116 20.73448)  \n",
       "171750  POINT (-103.38116 20.73862)  "
      ]
     },
     "execution_count": 17,
     "metadata": {},
     "output_type": "execute_result"
    }
   ],
   "source": [
    "nodes_conect_gdf = nodes.loc[nodes.osmid.isin(nodes_conect_list)]\n",
    "print(nodes_conect_gdf.shape)\n",
    "nodes_conect_gdf"
   ]
  },
  {
   "cell_type": "markdown",
   "metadata": {
    "tags": []
   },
   "source": [
    "### Filtrado de rutas - nodes"
   ]
  },
  {
   "cell_type": "code",
   "execution_count": 18,
   "metadata": {},
   "outputs": [],
   "source": [
    "nodes_tmp = nodes_conect_gdf.to_crs(\"EPSG:32613\")\n",
    "buffer = nodes_tmp.buffer(50)"
   ]
  },
  {
   "cell_type": "code",
   "execution_count": 19,
   "metadata": {},
   "outputs": [
    {
     "name": "stdout",
     "output_type": "stream",
     "text": [
      "(40, 17)\n"
     ]
    },
    {
     "data": {
      "text/html": [
       "<div>\n",
       "<style scoped>\n",
       "    .dataframe tbody tr th:only-of-type {\n",
       "        vertical-align: middle;\n",
       "    }\n",
       "\n",
       "    .dataframe tbody tr th {\n",
       "        vertical-align: top;\n",
       "    }\n",
       "\n",
       "    .dataframe thead th {\n",
       "        text-align: right;\n",
       "    }\n",
       "</style>\n",
       "<table border=\"1\" class=\"dataframe\">\n",
       "  <thead>\n",
       "    <tr style=\"text-align: right;\">\n",
       "      <th></th>\n",
       "      <th>Tipo_de_co</th>\n",
       "      <th>Tipo</th>\n",
       "      <th>Nombre</th>\n",
       "      <th>Estado</th>\n",
       "      <th>fid</th>\n",
       "      <th>cat</th>\n",
       "      <th>Tipo_de_se</th>\n",
       "      <th>Clasificac</th>\n",
       "      <th>Clasifica0</th>\n",
       "      <th>Ruta_id</th>\n",
       "      <th>layer</th>\n",
       "      <th>path</th>\n",
       "      <th>geometry</th>\n",
       "      <th>u</th>\n",
       "      <th>v</th>\n",
       "      <th>key</th>\n",
       "      <th>length</th>\n",
       "    </tr>\n",
       "  </thead>\n",
       "  <tbody>\n",
       "    <tr>\n",
       "      <th>10027</th>\n",
       "      <td>None</td>\n",
       "      <td>None</td>\n",
       "      <td>None</td>\n",
       "      <td>None</td>\n",
       "      <td>9935.0</td>\n",
       "      <td>183.0</td>\n",
       "      <td>Complementaria</td>\n",
       "      <td>Rutas complementarias y otros servicios</td>\n",
       "      <td>Operando</td>\n",
       "      <td>183</td>\n",
       "      <td>Rutas_TP_400m_UTM</td>\n",
       "      <td>/home/edgar/SIG/ObsCds/Proyectos/Museo_Ciencia...</td>\n",
       "      <td>LINESTRING (668520.418 2293571.974, 668600.993...</td>\n",
       "      <td>2356580970186</td>\n",
       "      <td>2356880970421</td>\n",
       "      <td>0</td>\n",
       "      <td>398.021043</td>\n",
       "    </tr>\n",
       "    <tr>\n",
       "      <th>1612</th>\n",
       "      <td>None</td>\n",
       "      <td>None</td>\n",
       "      <td>None</td>\n",
       "      <td>None</td>\n",
       "      <td>1520.0</td>\n",
       "      <td>32.0</td>\n",
       "      <td>Complementaria</td>\n",
       "      <td>Rutas complementarias y otros servicios</td>\n",
       "      <td>Operando</td>\n",
       "      <td>32</td>\n",
       "      <td>Rutas_TP_400m_UTM</td>\n",
       "      <td>/home/edgar/SIG/ObsCds/Proyectos/Museo_Ciencia...</td>\n",
       "      <td>LINESTRING (668520.418 2293571.974, 668600.993...</td>\n",
       "      <td>2356571970209</td>\n",
       "      <td>2356898970433</td>\n",
       "      <td>0</td>\n",
       "      <td>396.071285</td>\n",
       "    </tr>\n",
       "    <tr>\n",
       "      <th>1384</th>\n",
       "      <td>None</td>\n",
       "      <td>None</td>\n",
       "      <td>None</td>\n",
       "      <td>None</td>\n",
       "      <td>1292.0</td>\n",
       "      <td>29.0</td>\n",
       "      <td>Complementaria</td>\n",
       "      <td>Rutas complementarias y otros servicios</td>\n",
       "      <td>Operando</td>\n",
       "      <td>29</td>\n",
       "      <td>Rutas_TP_400m_UTM</td>\n",
       "      <td>/home/edgar/SIG/ObsCds/Proyectos/Museo_Ciencia...</td>\n",
       "      <td>LINESTRING (668600.993 2293629.697, 668520.418...</td>\n",
       "      <td>2356987970573</td>\n",
       "      <td>2356713970306</td>\n",
       "      <td>0</td>\n",
       "      <td>398.279702</td>\n",
       "    </tr>\n",
       "    <tr>\n",
       "      <th>1541</th>\n",
       "      <td>None</td>\n",
       "      <td>None</td>\n",
       "      <td>None</td>\n",
       "      <td>None</td>\n",
       "      <td>1449.0</td>\n",
       "      <td>31.0</td>\n",
       "      <td>Complementaria</td>\n",
       "      <td>Rutas complementarias y otros servicios</td>\n",
       "      <td>Operando</td>\n",
       "      <td>31</td>\n",
       "      <td>Rutas_TP_400m_UTM</td>\n",
       "      <td>/home/edgar/SIG/ObsCds/Proyectos/Museo_Ciencia...</td>\n",
       "      <td>LINESTRING (668520.418 2293571.974, 668600.993...</td>\n",
       "      <td>2356715970308</td>\n",
       "      <td>2356987970573</td>\n",
       "      <td>0</td>\n",
       "      <td>395.520790</td>\n",
       "    </tr>\n",
       "  </tbody>\n",
       "</table>\n",
       "</div>"
      ],
      "text/plain": [
       "      Tipo_de_co  Tipo Nombre Estado     fid    cat      Tipo_de_se  \\\n",
       "10027       None  None   None   None  9935.0  183.0  Complementaria   \n",
       "1612        None  None   None   None  1520.0   32.0  Complementaria   \n",
       "1384        None  None   None   None  1292.0   29.0  Complementaria   \n",
       "1541        None  None   None   None  1449.0   31.0  Complementaria   \n",
       "\n",
       "                                    Clasificac Clasifica0  Ruta_id  \\\n",
       "10027  Rutas complementarias y otros servicios   Operando      183   \n",
       "1612   Rutas complementarias y otros servicios   Operando       32   \n",
       "1384   Rutas complementarias y otros servicios   Operando       29   \n",
       "1541   Rutas complementarias y otros servicios   Operando       31   \n",
       "\n",
       "                   layer                                               path  \\\n",
       "10027  Rutas_TP_400m_UTM  /home/edgar/SIG/ObsCds/Proyectos/Museo_Ciencia...   \n",
       "1612   Rutas_TP_400m_UTM  /home/edgar/SIG/ObsCds/Proyectos/Museo_Ciencia...   \n",
       "1384   Rutas_TP_400m_UTM  /home/edgar/SIG/ObsCds/Proyectos/Museo_Ciencia...   \n",
       "1541   Rutas_TP_400m_UTM  /home/edgar/SIG/ObsCds/Proyectos/Museo_Ciencia...   \n",
       "\n",
       "                                                geometry              u  \\\n",
       "10027  LINESTRING (668520.418 2293571.974, 668600.993...  2356580970186   \n",
       "1612   LINESTRING (668520.418 2293571.974, 668600.993...  2356571970209   \n",
       "1384   LINESTRING (668600.993 2293629.697, 668520.418...  2356987970573   \n",
       "1541   LINESTRING (668520.418 2293571.974, 668600.993...  2356715970308   \n",
       "\n",
       "                   v  key      length  \n",
       "10027  2356880970421    0  398.021043  \n",
       "1612   2356898970433    0  396.071285  \n",
       "1384   2356713970306    0  398.279702  \n",
       "1541   2356987970573    0  395.520790  "
      ]
     },
     "execution_count": 19,
     "metadata": {},
     "output_type": "execute_result"
    }
   ],
   "source": [
    "rutas_buffer = gpd.clip(rutas_nx.to_crs(\"EPSG:32613\"), buffer)\n",
    "print(rutas_buffer.shape)\n",
    "rutas_buffer.head(4)"
   ]
  },
  {
   "cell_type": "code",
   "execution_count": 20,
   "metadata": {},
   "outputs": [
    {
     "name": "stdout",
     "output_type": "stream",
     "text": [
      "(1228, 21)\n"
     ]
    },
    {
     "data": {
      "text/html": [
       "<div>\n",
       "<style scoped>\n",
       "    .dataframe tbody tr th:only-of-type {\n",
       "        vertical-align: middle;\n",
       "    }\n",
       "\n",
       "    .dataframe tbody tr th {\n",
       "        vertical-align: top;\n",
       "    }\n",
       "\n",
       "    .dataframe thead th {\n",
       "        text-align: right;\n",
       "    }\n",
       "</style>\n",
       "<table border=\"1\" class=\"dataframe\">\n",
       "  <thead>\n",
       "    <tr style=\"text-align: right;\">\n",
       "      <th></th>\n",
       "      <th>Nombre_de_</th>\n",
       "      <th>Sistema</th>\n",
       "      <th>Estructura</th>\n",
       "      <th>Estado</th>\n",
       "      <th>L�nea_y_si</th>\n",
       "      <th>fid</th>\n",
       "      <th>cat</th>\n",
       "      <th>Tipo_de_se</th>\n",
       "      <th>Clasificac</th>\n",
       "      <th>Clasifica0</th>\n",
       "      <th>...</th>\n",
       "      <th>vertex_pos</th>\n",
       "      <th>vertex_ind</th>\n",
       "      <th>vertex_par</th>\n",
       "      <th>vertex_p_1</th>\n",
       "      <th>distance</th>\n",
       "      <th>angle</th>\n",
       "      <th>layer</th>\n",
       "      <th>path</th>\n",
       "      <th>geometry</th>\n",
       "      <th>coord_id</th>\n",
       "    </tr>\n",
       "  </thead>\n",
       "  <tbody>\n",
       "    <tr>\n",
       "      <th>0</th>\n",
       "      <td>Tepeyac</td>\n",
       "      <td>BRT (Bus Rapid Transit)</td>\n",
       "      <td>Superficie</td>\n",
       "      <td>En proceso</td>\n",
       "      <td>Mi Macro Perif�rico</td>\n",
       "      <td>NaN</td>\n",
       "      <td>NaN</td>\n",
       "      <td>None</td>\n",
       "      <td>None</td>\n",
       "      <td>None</td>\n",
       "      <td>...</td>\n",
       "      <td>NaN</td>\n",
       "      <td>NaN</td>\n",
       "      <td>NaN</td>\n",
       "      <td>NaN</td>\n",
       "      <td>NaN</td>\n",
       "      <td>NaN</td>\n",
       "      <td>Estaciones_MiMacro</td>\n",
       "      <td>/home/edgar/SIG/ObsCds/Proyectos/Museo_Ciencia...</td>\n",
       "      <td>POINT (-103.44406 20.65003)</td>\n",
       "      <td>2350147961102</td>\n",
       "    </tr>\n",
       "    <tr>\n",
       "      <th>1</th>\n",
       "      <td>Trompo Magico</td>\n",
       "      <td>BRT (Bus Rapid Transit)</td>\n",
       "      <td>Superficie</td>\n",
       "      <td>En proceso</td>\n",
       "      <td>Mi Macro Perif�rico</td>\n",
       "      <td>NaN</td>\n",
       "      <td>NaN</td>\n",
       "      <td>None</td>\n",
       "      <td>None</td>\n",
       "      <td>None</td>\n",
       "      <td>...</td>\n",
       "      <td>NaN</td>\n",
       "      <td>NaN</td>\n",
       "      <td>NaN</td>\n",
       "      <td>NaN</td>\n",
       "      <td>NaN</td>\n",
       "      <td>NaN</td>\n",
       "      <td>Estaciones_MiMacro</td>\n",
       "      <td>/home/edgar/SIG/ObsCds/Proyectos/Museo_Ciencia...</td>\n",
       "      <td>POINT (-103.42059 20.72319)</td>\n",
       "      <td>2352661969143</td>\n",
       "    </tr>\n",
       "  </tbody>\n",
       "</table>\n",
       "<p>2 rows × 21 columns</p>\n",
       "</div>"
      ],
      "text/plain": [
       "      Nombre_de_                  Sistema  Estructura      Estado  \\\n",
       "0        Tepeyac  BRT (Bus Rapid Transit)  Superficie  En proceso   \n",
       "1  Trompo Magico  BRT (Bus Rapid Transit)  Superficie  En proceso   \n",
       "\n",
       "            L�nea_y_si  fid  cat Tipo_de_se Clasificac Clasifica0  ...  \\\n",
       "0  Mi Macro Perif�rico  NaN  NaN       None       None       None  ...   \n",
       "1  Mi Macro Perif�rico  NaN  NaN       None       None       None  ...   \n",
       "\n",
       "   vertex_pos  vertex_ind  vertex_par  vertex_p_1  distance  angle  \\\n",
       "0         NaN         NaN         NaN         NaN       NaN    NaN   \n",
       "1         NaN         NaN         NaN         NaN       NaN    NaN   \n",
       "\n",
       "                layer                                               path  \\\n",
       "0  Estaciones_MiMacro  /home/edgar/SIG/ObsCds/Proyectos/Museo_Ciencia...   \n",
       "1  Estaciones_MiMacro  /home/edgar/SIG/ObsCds/Proyectos/Museo_Ciencia...   \n",
       "\n",
       "                      geometry       coord_id  \n",
       "0  POINT (-103.44406 20.65003)  2350147961102  \n",
       "1  POINT (-103.42059 20.72319)  2352661969143  \n",
       "\n",
       "[2 rows x 21 columns]"
      ]
     },
     "execution_count": 20,
     "metadata": {},
     "output_type": "execute_result"
    }
   ],
   "source": [
    "id_rutas_buffer = list(rutas_buffer.Ruta_id.unique())\n",
    "paradas_rutas_buffer = paradas_nx.loc[paradas_nx.Ruta_id.isin(id_rutas_buffer)]\n",
    "paradas_rutas_buffer = paradas_rutas_buffer.rename(columns={'osmid':'coord_id'})\n",
    "print(paradas_rutas_buffer.shape)\n",
    "paradas_rutas_buffer.head(2)"
   ]
  },
  {
   "cell_type": "code",
   "execution_count": 69,
   "metadata": {},
   "outputs": [],
   "source": [
    "museo = nodes.loc[nodes.osmid==999999].copy()"
   ]
  },
  {
   "cell_type": "markdown",
   "metadata": {
    "jp-MarkdownHeadingCollapsed": true,
    "tags": []
   },
   "source": [
    "### Filtrado de rutas - museo [deprecated]"
   ]
  },
  {
   "cell_type": "code",
   "execution_count": 19,
   "metadata": {},
   "outputs": [],
   "source": [
    "museo = museo.to_crs(\"EPSG:32613\")\n",
    "buffer = museo.buffer(100)"
   ]
  },
  {
   "cell_type": "code",
   "execution_count": 20,
   "metadata": {},
   "outputs": [
    {
     "data": {
      "text/html": [
       "<div>\n",
       "<style scoped>\n",
       "    .dataframe tbody tr th:only-of-type {\n",
       "        vertical-align: middle;\n",
       "    }\n",
       "\n",
       "    .dataframe tbody tr th {\n",
       "        vertical-align: top;\n",
       "    }\n",
       "\n",
       "    .dataframe thead th {\n",
       "        text-align: right;\n",
       "    }\n",
       "</style>\n",
       "<table border=\"1\" class=\"dataframe\">\n",
       "  <thead>\n",
       "    <tr style=\"text-align: right;\">\n",
       "      <th></th>\n",
       "      <th>fid</th>\n",
       "      <th>cat</th>\n",
       "      <th>Tipo_de_se</th>\n",
       "      <th>Clasificac</th>\n",
       "      <th>Clasifica0</th>\n",
       "      <th>Ruta_id</th>\n",
       "      <th>geometry</th>\n",
       "      <th>u</th>\n",
       "      <th>v</th>\n",
       "      <th>key</th>\n",
       "      <th>length</th>\n",
       "    </tr>\n",
       "  </thead>\n",
       "  <tbody>\n",
       "    <tr>\n",
       "      <th>9934</th>\n",
       "      <td>9935</td>\n",
       "      <td>183</td>\n",
       "      <td>Complementaria</td>\n",
       "      <td>Rutas complementarias y otros servicios</td>\n",
       "      <td>Operando</td>\n",
       "      <td>183</td>\n",
       "      <td>LINESTRING (668608.465 2293635.051, 668655.163...</td>\n",
       "      <td>2356580970186</td>\n",
       "      <td>2356880970421</td>\n",
       "      <td>0</td>\n",
       "      <td>398.021043</td>\n",
       "    </tr>\n",
       "    <tr>\n",
       "      <th>1519</th>\n",
       "      <td>1520</td>\n",
       "      <td>32</td>\n",
       "      <td>Complementaria</td>\n",
       "      <td>Rutas complementarias y otros servicios</td>\n",
       "      <td>Operando</td>\n",
       "      <td>32</td>\n",
       "      <td>LINESTRING (668608.465 2293635.051, 668655.163...</td>\n",
       "      <td>2356571970209</td>\n",
       "      <td>2356898970433</td>\n",
       "      <td>0</td>\n",
       "      <td>396.071285</td>\n",
       "    </tr>\n",
       "    <tr>\n",
       "      <th>1291</th>\n",
       "      <td>1292</td>\n",
       "      <td>29</td>\n",
       "      <td>Complementaria</td>\n",
       "      <td>Rutas complementarias y otros servicios</td>\n",
       "      <td>Operando</td>\n",
       "      <td>29</td>\n",
       "      <td>LINESTRING (668655.163 2293668.505, 668608.465...</td>\n",
       "      <td>2356987970573</td>\n",
       "      <td>2356713970306</td>\n",
       "      <td>0</td>\n",
       "      <td>398.279702</td>\n",
       "    </tr>\n",
       "    <tr>\n",
       "      <th>1448</th>\n",
       "      <td>1449</td>\n",
       "      <td>31</td>\n",
       "      <td>Complementaria</td>\n",
       "      <td>Rutas complementarias y otros servicios</td>\n",
       "      <td>Operando</td>\n",
       "      <td>31</td>\n",
       "      <td>LINESTRING (668608.465 2293635.051, 668655.163...</td>\n",
       "      <td>2356715970308</td>\n",
       "      <td>2356987970573</td>\n",
       "      <td>0</td>\n",
       "      <td>395.520790</td>\n",
       "    </tr>\n",
       "  </tbody>\n",
       "</table>\n",
       "</div>"
      ],
      "text/plain": [
       "       fid  cat      Tipo_de_se                               Clasificac  \\\n",
       "9934  9935  183  Complementaria  Rutas complementarias y otros servicios   \n",
       "1519  1520   32  Complementaria  Rutas complementarias y otros servicios   \n",
       "1291  1292   29  Complementaria  Rutas complementarias y otros servicios   \n",
       "1448  1449   31  Complementaria  Rutas complementarias y otros servicios   \n",
       "\n",
       "     Clasifica0  Ruta_id                                           geometry  \\\n",
       "9934   Operando      183  LINESTRING (668608.465 2293635.051, 668655.163...   \n",
       "1519   Operando       32  LINESTRING (668608.465 2293635.051, 668655.163...   \n",
       "1291   Operando       29  LINESTRING (668655.163 2293668.505, 668608.465...   \n",
       "1448   Operando       31  LINESTRING (668608.465 2293635.051, 668655.163...   \n",
       "\n",
       "                  u              v  key      length  \n",
       "9934  2356580970186  2356880970421    0  398.021043  \n",
       "1519  2356571970209  2356898970433    0  396.071285  \n",
       "1291  2356987970573  2356713970306    0  398.279702  \n",
       "1448  2356715970308  2356987970573    0  395.520790  "
      ]
     },
     "execution_count": 20,
     "metadata": {},
     "output_type": "execute_result"
    }
   ],
   "source": [
    "rutas_buffer = gpd.clip(rutas_nx.to_crs(\"EPSG:32613\"), buffer)\n",
    "rutas_buffer.head(4)"
   ]
  },
  {
   "cell_type": "code",
   "execution_count": 21,
   "metadata": {},
   "outputs": [
    {
     "name": "stdout",
     "output_type": "stream",
     "text": [
      "(677, 14)\n"
     ]
    },
    {
     "data": {
      "text/html": [
       "<div>\n",
       "<style scoped>\n",
       "    .dataframe tbody tr th:only-of-type {\n",
       "        vertical-align: middle;\n",
       "    }\n",
       "\n",
       "    .dataframe tbody tr th {\n",
       "        vertical-align: top;\n",
       "    }\n",
       "\n",
       "    .dataframe thead th {\n",
       "        text-align: right;\n",
       "    }\n",
       "</style>\n",
       "<table border=\"1\" class=\"dataframe\">\n",
       "  <thead>\n",
       "    <tr style=\"text-align: right;\">\n",
       "      <th></th>\n",
       "      <th>fid</th>\n",
       "      <th>cat</th>\n",
       "      <th>Tipo_de_se</th>\n",
       "      <th>Clasificac</th>\n",
       "      <th>Clasifica0</th>\n",
       "      <th>Ruta_id</th>\n",
       "      <th>vertex_pos</th>\n",
       "      <th>vertex_ind</th>\n",
       "      <th>vertex_par</th>\n",
       "      <th>vertex_p_1</th>\n",
       "      <th>distance</th>\n",
       "      <th>angle</th>\n",
       "      <th>geometry</th>\n",
       "      <th>coord_id</th>\n",
       "    </tr>\n",
       "  </thead>\n",
       "  <tbody>\n",
       "    <tr>\n",
       "      <th>1252</th>\n",
       "      <td>1267</td>\n",
       "      <td>29</td>\n",
       "      <td>Complementaria</td>\n",
       "      <td>Rutas complementarias y otros servicios</td>\n",
       "      <td>Operando</td>\n",
       "      <td>29</td>\n",
       "      <td>0</td>\n",
       "      <td>0</td>\n",
       "      <td>0</td>\n",
       "      <td>0</td>\n",
       "      <td>0.00000</td>\n",
       "      <td>202.126417</td>\n",
       "      <td>POINT (-103.35767 20.76556)</td>\n",
       "      <td>2359231973751</td>\n",
       "    </tr>\n",
       "    <tr>\n",
       "      <th>1253</th>\n",
       "      <td>1267</td>\n",
       "      <td>29</td>\n",
       "      <td>Complementaria</td>\n",
       "      <td>Rutas complementarias y otros servicios</td>\n",
       "      <td>Operando</td>\n",
       "      <td>29</td>\n",
       "      <td>-1</td>\n",
       "      <td>7</td>\n",
       "      <td>0</td>\n",
       "      <td>7</td>\n",
       "      <td>399.96641</td>\n",
       "      <td>258.039828</td>\n",
       "      <td>POINT (-103.36007 20.76331)</td>\n",
       "      <td>2358980973505</td>\n",
       "    </tr>\n",
       "  </tbody>\n",
       "</table>\n",
       "</div>"
      ],
      "text/plain": [
       "       fid  cat      Tipo_de_se                               Clasificac  \\\n",
       "1252  1267   29  Complementaria  Rutas complementarias y otros servicios   \n",
       "1253  1267   29  Complementaria  Rutas complementarias y otros servicios   \n",
       "\n",
       "     Clasifica0  Ruta_id  vertex_pos  vertex_ind  vertex_par  vertex_p_1  \\\n",
       "1252   Operando       29           0           0           0           0   \n",
       "1253   Operando       29          -1           7           0           7   \n",
       "\n",
       "       distance       angle                     geometry       coord_id  \n",
       "1252    0.00000  202.126417  POINT (-103.35767 20.76556)  2359231973751  \n",
       "1253  399.96641  258.039828  POINT (-103.36007 20.76331)  2358980973505  "
      ]
     },
     "execution_count": 21,
     "metadata": {},
     "output_type": "execute_result"
    }
   ],
   "source": [
    "id_rutas_buffer = list(rutas_buffer.Ruta_id.unique())\n",
    "paradas_rutas_buffer = paradas_nx.loc[paradas_nx.Ruta_id.isin(id_rutas_buffer)]\n",
    "paradas_rutas_buffer = paradas_rutas_buffer.rename(columns={'osmid':'coord_id'})\n",
    "print(paradas_rutas_buffer.shape)\n",
    "paradas_rutas_buffer.head(2)"
   ]
  },
  {
   "cell_type": "markdown",
   "metadata": {},
   "source": [
    "## Unir edges conectados a museo y transporte público"
   ]
  },
  {
   "cell_type": "code",
   "execution_count": 21,
   "metadata": {},
   "outputs": [
    {
     "name": "stdout",
     "output_type": "stream",
     "text": [
      "(1294, 28)\n"
     ]
    },
    {
     "data": {
      "text/html": [
       "<div>\n",
       "<style scoped>\n",
       "    .dataframe tbody tr th:only-of-type {\n",
       "        vertical-align: middle;\n",
       "    }\n",
       "\n",
       "    .dataframe tbody tr th {\n",
       "        vertical-align: top;\n",
       "    }\n",
       "\n",
       "    .dataframe thead th {\n",
       "        text-align: right;\n",
       "    }\n",
       "</style>\n",
       "<table border=\"1\" class=\"dataframe\">\n",
       "  <thead>\n",
       "    <tr style=\"text-align: right;\">\n",
       "      <th></th>\n",
       "      <th>Tipo_de_co</th>\n",
       "      <th>Tipo</th>\n",
       "      <th>Nombre</th>\n",
       "      <th>Estado</th>\n",
       "      <th>fid</th>\n",
       "      <th>cat</th>\n",
       "      <th>Tipo_de_se</th>\n",
       "      <th>Clasificac</th>\n",
       "      <th>Clasifica0</th>\n",
       "      <th>Ruta_id</th>\n",
       "      <th>...</th>\n",
       "      <th>osmid</th>\n",
       "      <th>oneway</th>\n",
       "      <th>grade</th>\n",
       "      <th>grade_abs</th>\n",
       "      <th>bridge</th>\n",
       "      <th>junction</th>\n",
       "      <th>service</th>\n",
       "      <th>tunnel</th>\n",
       "      <th>walkspeed</th>\n",
       "      <th>time_min</th>\n",
       "    </tr>\n",
       "  </thead>\n",
       "  <tbody>\n",
       "    <tr>\n",
       "      <th>0</th>\n",
       "      <td>Masivo</td>\n",
       "      <td>Circunvalar</td>\n",
       "      <td>Corredor 3 Circuito perif�rico (Mi Macro Perif...</td>\n",
       "      <td>En construcci�n</td>\n",
       "      <td>NaN</td>\n",
       "      <td>NaN</td>\n",
       "      <td>None</td>\n",
       "      <td>None</td>\n",
       "      <td>None</td>\n",
       "      <td>642.0</td>\n",
       "      <td>...</td>\n",
       "      <td>NaN</td>\n",
       "      <td>NaN</td>\n",
       "      <td>NaN</td>\n",
       "      <td>NaN</td>\n",
       "      <td>NaN</td>\n",
       "      <td>NaN</td>\n",
       "      <td>NaN</td>\n",
       "      <td>NaN</td>\n",
       "      <td>NaN</td>\n",
       "      <td>NaN</td>\n",
       "    </tr>\n",
       "    <tr>\n",
       "      <th>1</th>\n",
       "      <td>Masivo</td>\n",
       "      <td>Circunvalar</td>\n",
       "      <td>Corredor 3 Circuito perif�rico (Mi Macro Perif...</td>\n",
       "      <td>En construcci�n</td>\n",
       "      <td>NaN</td>\n",
       "      <td>NaN</td>\n",
       "      <td>None</td>\n",
       "      <td>None</td>\n",
       "      <td>None</td>\n",
       "      <td>642.0</td>\n",
       "      <td>...</td>\n",
       "      <td>NaN</td>\n",
       "      <td>NaN</td>\n",
       "      <td>NaN</td>\n",
       "      <td>NaN</td>\n",
       "      <td>NaN</td>\n",
       "      <td>NaN</td>\n",
       "      <td>NaN</td>\n",
       "      <td>NaN</td>\n",
       "      <td>NaN</td>\n",
       "      <td>NaN</td>\n",
       "    </tr>\n",
       "  </tbody>\n",
       "</table>\n",
       "<p>2 rows × 28 columns</p>\n",
       "</div>"
      ],
      "text/plain": [
       "  Tipo_de_co         Tipo                                             Nombre  \\\n",
       "0     Masivo  Circunvalar  Corredor 3 Circuito perif�rico (Mi Macro Perif...   \n",
       "1     Masivo  Circunvalar  Corredor 3 Circuito perif�rico (Mi Macro Perif...   \n",
       "\n",
       "            Estado  fid  cat Tipo_de_se Clasificac Clasifica0  Ruta_id  ...  \\\n",
       "0  En construcci�n  NaN  NaN       None       None       None    642.0  ...   \n",
       "1  En construcci�n  NaN  NaN       None       None       None    642.0  ...   \n",
       "\n",
       "  osmid oneway grade  grade_abs  bridge  junction  service  tunnel walkspeed  \\\n",
       "0   NaN    NaN   NaN        NaN     NaN       NaN      NaN     NaN       NaN   \n",
       "1   NaN    NaN   NaN        NaN     NaN       NaN      NaN     NaN       NaN   \n",
       "\n",
       "  time_min  \n",
       "0      NaN  \n",
       "1      NaN  \n",
       "\n",
       "[2 rows x 28 columns]"
      ]
     },
     "execution_count": 21,
     "metadata": {},
     "output_type": "execute_result"
    }
   ],
   "source": [
    "rutas_nx_edges = rutas_nx.loc[rutas_nx.Ruta_id.isin(id_rutas_buffer)]\n",
    "rutas_nx_edges = rutas_nx_edges.append(edges.loc[edges.u==999999])\n",
    "rutas_nx_edges = rutas_nx_edges.append(edges.loc[edges.v==999999])\n",
    "print(rutas_nx_edges.shape)\n",
    "rutas_nx_edges.head(2)"
   ]
  },
  {
   "cell_type": "markdown",
   "metadata": {},
   "source": [
    "### Paradas cercanas a nodos"
   ]
  },
  {
   "cell_type": "code",
   "execution_count": 22,
   "metadata": {},
   "outputs": [
    {
     "data": {
      "text/html": [
       "<div>\n",
       "<style scoped>\n",
       "    .dataframe tbody tr th:only-of-type {\n",
       "        vertical-align: middle;\n",
       "    }\n",
       "\n",
       "    .dataframe tbody tr th {\n",
       "        vertical-align: top;\n",
       "    }\n",
       "\n",
       "    .dataframe thead th {\n",
       "        text-align: right;\n",
       "    }\n",
       "</style>\n",
       "<table border=\"1\" class=\"dataframe\">\n",
       "  <thead>\n",
       "    <tr style=\"text-align: right;\">\n",
       "      <th></th>\n",
       "      <th>Nombre_de_</th>\n",
       "      <th>Sistema</th>\n",
       "      <th>Estructura</th>\n",
       "      <th>Estado</th>\n",
       "      <th>L�nea_y_si</th>\n",
       "      <th>fid</th>\n",
       "      <th>cat</th>\n",
       "      <th>Tipo_de_se</th>\n",
       "      <th>Clasificac</th>\n",
       "      <th>Clasifica0</th>\n",
       "      <th>...</th>\n",
       "      <th>vertex_par</th>\n",
       "      <th>vertex_p_1</th>\n",
       "      <th>distance</th>\n",
       "      <th>angle</th>\n",
       "      <th>layer</th>\n",
       "      <th>path</th>\n",
       "      <th>geometry</th>\n",
       "      <th>coord_id</th>\n",
       "      <th>osmid</th>\n",
       "      <th>distance_node</th>\n",
       "    </tr>\n",
       "  </thead>\n",
       "  <tbody>\n",
       "    <tr>\n",
       "      <th>0</th>\n",
       "      <td>Tepeyac</td>\n",
       "      <td>BRT (Bus Rapid Transit)</td>\n",
       "      <td>Superficie</td>\n",
       "      <td>En proceso</td>\n",
       "      <td>Mi Macro Perif�rico</td>\n",
       "      <td>NaN</td>\n",
       "      <td>NaN</td>\n",
       "      <td>None</td>\n",
       "      <td>None</td>\n",
       "      <td>None</td>\n",
       "      <td>...</td>\n",
       "      <td>NaN</td>\n",
       "      <td>NaN</td>\n",
       "      <td>NaN</td>\n",
       "      <td>NaN</td>\n",
       "      <td>Estaciones_MiMacro</td>\n",
       "      <td>/home/edgar/SIG/ObsCds/Proyectos/Museo_Ciencia...</td>\n",
       "      <td>POINT (-103.44406 20.65003)</td>\n",
       "      <td>2350147961102</td>\n",
       "      <td>7767887410</td>\n",
       "      <td>11445.831335</td>\n",
       "    </tr>\n",
       "    <tr>\n",
       "      <th>1</th>\n",
       "      <td>Trompo Magico</td>\n",
       "      <td>BRT (Bus Rapid Transit)</td>\n",
       "      <td>Superficie</td>\n",
       "      <td>En proceso</td>\n",
       "      <td>Mi Macro Perif�rico</td>\n",
       "      <td>NaN</td>\n",
       "      <td>NaN</td>\n",
       "      <td>None</td>\n",
       "      <td>None</td>\n",
       "      <td>None</td>\n",
       "      <td>...</td>\n",
       "      <td>NaN</td>\n",
       "      <td>NaN</td>\n",
       "      <td>NaN</td>\n",
       "      <td>NaN</td>\n",
       "      <td>Estaciones_MiMacro</td>\n",
       "      <td>/home/edgar/SIG/ObsCds/Proyectos/Museo_Ciencia...</td>\n",
       "      <td>POINT (-103.42059 20.72319)</td>\n",
       "      <td>2352661969143</td>\n",
       "      <td>7767887410</td>\n",
       "      <td>4289.203522</td>\n",
       "    </tr>\n",
       "  </tbody>\n",
       "</table>\n",
       "<p>2 rows × 23 columns</p>\n",
       "</div>"
      ],
      "text/plain": [
       "      Nombre_de_                  Sistema  Estructura      Estado  \\\n",
       "0        Tepeyac  BRT (Bus Rapid Transit)  Superficie  En proceso   \n",
       "1  Trompo Magico  BRT (Bus Rapid Transit)  Superficie  En proceso   \n",
       "\n",
       "            L�nea_y_si  fid  cat Tipo_de_se Clasificac Clasifica0  ...  \\\n",
       "0  Mi Macro Perif�rico  NaN  NaN       None       None       None  ...   \n",
       "1  Mi Macro Perif�rico  NaN  NaN       None       None       None  ...   \n",
       "\n",
       "   vertex_par  vertex_p_1  distance  angle               layer  \\\n",
       "0         NaN         NaN       NaN    NaN  Estaciones_MiMacro   \n",
       "1         NaN         NaN       NaN    NaN  Estaciones_MiMacro   \n",
       "\n",
       "                                                path  \\\n",
       "0  /home/edgar/SIG/ObsCds/Proyectos/Museo_Ciencia...   \n",
       "1  /home/edgar/SIG/ObsCds/Proyectos/Museo_Ciencia...   \n",
       "\n",
       "                      geometry       coord_id       osmid distance_node  \n",
       "0  POINT (-103.44406 20.65003)  2350147961102  7767887410  11445.831335  \n",
       "1  POINT (-103.42059 20.72319)  2352661969143  7767887410   4289.203522  \n",
       "\n",
       "[2 rows x 23 columns]"
      ]
     },
     "execution_count": 22,
     "metadata": {},
     "output_type": "execute_result"
    }
   ],
   "source": [
    "paradas_osmid = aup.find_nearest(G, nodes_conect_gdf.set_index('osmid'), \n",
    "                                 paradas_rutas_buffer, return_distance=True)\n",
    "paradas_osmid.head(2)"
   ]
  },
  {
   "cell_type": "markdown",
   "metadata": {},
   "source": [
    "### Nuevas conexiones de nodos al transporte público"
   ]
  },
  {
   "cell_type": "code",
   "execution_count": 23,
   "metadata": {},
   "outputs": [],
   "source": [
    "from shapely.geometry import LineString\n",
    "from shapely import wkt"
   ]
  },
  {
   "cell_type": "code",
   "execution_count": 25,
   "metadata": {},
   "outputs": [],
   "source": [
    "for r in id_rutas_buffer:\n",
    "    \n",
    "    paradas_osmid = paradas_osmid.reset_index(drop=True)\n",
    "    \n",
    "    mindist = paradas_osmid.loc[paradas_osmid.Ruta_id==r].distance_node.min()\n",
    "    minidx = paradas_osmid.loc[paradas_osmid.Ruta_id==r].distance_node.idxmin()\n",
    "    \n",
    "    osmid_idx = paradas_osmid.iloc[minidx].osmid\n",
    "    coord_idx = paradas_osmid.iloc[minidx].coord_id\n",
    "    \n",
    "    geom_u = nodes.loc[nodes.osmid==osmid_idx].geometry.values[0]\n",
    "    geom_v = paradas_osmid.iloc[minidx].geometry\n",
    "    \n",
    "    geom_line = LineString([geom_u, geom_v]).wkt\n",
    "    \n",
    "    geo_dict = {'u':[osmid_idx],'v':[coord_idx],'key':[0],\n",
    "            'walkspeed':[4], 'geometry':geom_line}\n",
    "    \n",
    "    line_df = pd.DataFrame.from_dict(geo_dict)\n",
    "    \n",
    "    line_df['geometry'] = line_df['geometry'].apply(wkt.loads)\n",
    "    \n",
    "    line_gdf = gpd.GeoDataFrame(line_df, geometry='geometry', crs=\"EPSG:4326\")\n",
    "    \n",
    "    rutas_nx_edges = rutas_nx_edges.append(line_gdf)\n"
   ]
  },
  {
   "cell_type": "markdown",
   "metadata": {},
   "source": [
    "## Cálculo de distancia y velocidades"
   ]
  },
  {
   "cell_type": "code",
   "execution_count": 27,
   "metadata": {},
   "outputs": [],
   "source": [
    "vel_tp = 25\n",
    "vel_macrop = 40"
   ]
  },
  {
   "cell_type": "code",
   "execution_count": 28,
   "metadata": {},
   "outputs": [],
   "source": [
    "rutas_nx_edges = rutas_nx_edges.to_crs(\"EPSG:32613\")"
   ]
  },
  {
   "cell_type": "code",
   "execution_count": 29,
   "metadata": {},
   "outputs": [],
   "source": [
    "rutas_nx_edges['length'] = rutas_nx_edges.length"
   ]
  },
  {
   "cell_type": "code",
   "execution_count": 30,
   "metadata": {},
   "outputs": [],
   "source": [
    "idx = rutas_nx_edges.walkspeed.isna()\n",
    "rutas_nx_edges.loc[idx, 'walkspeed'] = vel_tp"
   ]
  },
  {
   "cell_type": "markdown",
   "metadata": {
    "tags": []
   },
   "source": [
    "### Ruta Mi Macro Periférico"
   ]
  },
  {
   "cell_type": "code",
   "execution_count": 31,
   "metadata": {},
   "outputs": [],
   "source": [
    "rutas_nx_edges.loc[rutas_nx_edges.Ruta_id==642, 'walkspeed'] = vel_macrop"
   ]
  },
  {
   "cell_type": "code",
   "execution_count": 32,
   "metadata": {},
   "outputs": [
    {
     "data": {
      "text/plain": [
       "<AxesSubplot:>"
      ]
     },
     "execution_count": 32,
     "metadata": {},
     "output_type": "execute_result"
    },
    {
     "data": {
      "image/png": "[encoded data removed]",
      "text/plain": [
       "<Figure size 432x288 with 1 Axes>"
      ]
     },
     "metadata": {
      "needs_background": "light"
     },
     "output_type": "display_data"
    }
   ],
   "source": [
    "rutas_nx_edges.loc[rutas_nx_edges.Ruta_id==642].plot()"
   ]
  },
  {
   "cell_type": "markdown",
   "metadata": {},
   "source": [
    "### Velocidades"
   ]
  },
  {
   "cell_type": "code",
   "execution_count": 33,
   "metadata": {},
   "outputs": [],
   "source": [
    "rutas_nx_edges['time_min'] = rutas_nx_edges['length']/(1000*rutas_nx_edges['walkspeed']/60)"
   ]
  },
  {
   "cell_type": "code",
   "execution_count": 34,
   "metadata": {
    "tags": []
   },
   "outputs": [
    {
     "data": {
      "text/plain": [
       "<AxesSubplot:>"
      ]
     },
     "execution_count": 34,
     "metadata": {},
     "output_type": "execute_result"
    },
    {
     "data": {
      "image/png": "[encoded data removed]",
      "text/plain": [
       "<Figure size 432x288 with 1 Axes>"
      ]
     },
     "metadata": {
      "needs_background": "light"
     },
     "output_type": "display_data"
    }
   ],
   "source": [
    "rutas_nx_edges.plot('time_min')"
   ]
  },
  {
   "cell_type": "code",
   "execution_count": 35,
   "metadata": {},
   "outputs": [],
   "source": [
    "rutas_nx_edges = rutas_nx_edges.to_crs(\"EPSG:4326\")"
   ]
  },
  {
   "cell_type": "code",
   "execution_count": 36,
   "metadata": {},
   "outputs": [
    {
     "name": "stdout",
     "output_type": "stream",
     "text": [
      "(1314, 28)\n"
     ]
    },
    {
     "data": {
      "text/html": [
       "<div>\n",
       "<style scoped>\n",
       "    .dataframe tbody tr th:only-of-type {\n",
       "        vertical-align: middle;\n",
       "    }\n",
       "\n",
       "    .dataframe tbody tr th {\n",
       "        vertical-align: top;\n",
       "    }\n",
       "\n",
       "    .dataframe thead th {\n",
       "        text-align: right;\n",
       "    }\n",
       "</style>\n",
       "<table border=\"1\" class=\"dataframe\">\n",
       "  <thead>\n",
       "    <tr style=\"text-align: right;\">\n",
       "      <th></th>\n",
       "      <th>Tipo_de_co</th>\n",
       "      <th>Tipo</th>\n",
       "      <th>Nombre</th>\n",
       "      <th>Estado</th>\n",
       "      <th>fid</th>\n",
       "      <th>cat</th>\n",
       "      <th>Tipo_de_se</th>\n",
       "      <th>Clasificac</th>\n",
       "      <th>Clasifica0</th>\n",
       "      <th>Ruta_id</th>\n",
       "      <th>...</th>\n",
       "      <th>osmid</th>\n",
       "      <th>oneway</th>\n",
       "      <th>grade</th>\n",
       "      <th>grade_abs</th>\n",
       "      <th>bridge</th>\n",
       "      <th>junction</th>\n",
       "      <th>service</th>\n",
       "      <th>tunnel</th>\n",
       "      <th>walkspeed</th>\n",
       "      <th>time_min</th>\n",
       "    </tr>\n",
       "  </thead>\n",
       "  <tbody>\n",
       "    <tr>\n",
       "      <th>0</th>\n",
       "      <td>Masivo</td>\n",
       "      <td>Circunvalar</td>\n",
       "      <td>Corredor 3 Circuito perif�rico (Mi Macro Perif...</td>\n",
       "      <td>En construcci�n</td>\n",
       "      <td>NaN</td>\n",
       "      <td>NaN</td>\n",
       "      <td>None</td>\n",
       "      <td>None</td>\n",
       "      <td>None</td>\n",
       "      <td>642.0</td>\n",
       "      <td>...</td>\n",
       "      <td>NaN</td>\n",
       "      <td>NaN</td>\n",
       "      <td>NaN</td>\n",
       "      <td>NaN</td>\n",
       "      <td>NaN</td>\n",
       "      <td>NaN</td>\n",
       "      <td>NaN</td>\n",
       "      <td>NaN</td>\n",
       "      <td>40.0</td>\n",
       "      <td>0.0</td>\n",
       "    </tr>\n",
       "    <tr>\n",
       "      <th>1</th>\n",
       "      <td>Masivo</td>\n",
       "      <td>Circunvalar</td>\n",
       "      <td>Corredor 3 Circuito perif�rico (Mi Macro Perif...</td>\n",
       "      <td>En construcci�n</td>\n",
       "      <td>NaN</td>\n",
       "      <td>NaN</td>\n",
       "      <td>None</td>\n",
       "      <td>None</td>\n",
       "      <td>None</td>\n",
       "      <td>642.0</td>\n",
       "      <td>...</td>\n",
       "      <td>NaN</td>\n",
       "      <td>NaN</td>\n",
       "      <td>NaN</td>\n",
       "      <td>NaN</td>\n",
       "      <td>NaN</td>\n",
       "      <td>NaN</td>\n",
       "      <td>NaN</td>\n",
       "      <td>NaN</td>\n",
       "      <td>40.0</td>\n",
       "      <td>0.0</td>\n",
       "    </tr>\n",
       "  </tbody>\n",
       "</table>\n",
       "<p>2 rows × 28 columns</p>\n",
       "</div>"
      ],
      "text/plain": [
       "  Tipo_de_co         Tipo                                             Nombre  \\\n",
       "0     Masivo  Circunvalar  Corredor 3 Circuito perif�rico (Mi Macro Perif...   \n",
       "1     Masivo  Circunvalar  Corredor 3 Circuito perif�rico (Mi Macro Perif...   \n",
       "\n",
       "            Estado  fid  cat Tipo_de_se Clasificac Clasifica0  Ruta_id  ...  \\\n",
       "0  En construcci�n  NaN  NaN       None       None       None    642.0  ...   \n",
       "1  En construcci�n  NaN  NaN       None       None       None    642.0  ...   \n",
       "\n",
       "  osmid oneway grade  grade_abs  bridge  junction  service  tunnel walkspeed  \\\n",
       "0   NaN    NaN   NaN        NaN     NaN       NaN      NaN     NaN      40.0   \n",
       "1   NaN    NaN   NaN        NaN     NaN       NaN      NaN     NaN      40.0   \n",
       "\n",
       "  time_min  \n",
       "0      0.0  \n",
       "1      0.0  \n",
       "\n",
       "[2 rows x 28 columns]"
      ]
     },
     "execution_count": 36,
     "metadata": {},
     "output_type": "execute_result"
    }
   ],
   "source": [
    "print(rutas_nx_edges.shape)\n",
    "rutas_nx_edges.head(2)"
   ]
  },
  {
   "cell_type": "markdown",
   "metadata": {},
   "source": [
    "## Filtrado de rutas y nodos"
   ]
  },
  {
   "cell_type": "code",
   "execution_count": 37,
   "metadata": {
    "tags": []
   },
   "outputs": [
    {
     "name": "stdout",
     "output_type": "stream",
     "text": [
      "(1292, 28)\n"
     ]
    },
    {
     "data": {
      "text/html": [
       "<div>\n",
       "<style scoped>\n",
       "    .dataframe tbody tr th:only-of-type {\n",
       "        vertical-align: middle;\n",
       "    }\n",
       "\n",
       "    .dataframe tbody tr th {\n",
       "        vertical-align: top;\n",
       "    }\n",
       "\n",
       "    .dataframe thead th {\n",
       "        text-align: right;\n",
       "    }\n",
       "</style>\n",
       "<table border=\"1\" class=\"dataframe\">\n",
       "  <thead>\n",
       "    <tr style=\"text-align: right;\">\n",
       "      <th></th>\n",
       "      <th>Tipo_de_co</th>\n",
       "      <th>Tipo</th>\n",
       "      <th>Nombre</th>\n",
       "      <th>Estado</th>\n",
       "      <th>fid</th>\n",
       "      <th>cat</th>\n",
       "      <th>Tipo_de_se</th>\n",
       "      <th>Clasificac</th>\n",
       "      <th>Clasifica0</th>\n",
       "      <th>Ruta_id</th>\n",
       "      <th>...</th>\n",
       "      <th>osmid</th>\n",
       "      <th>oneway</th>\n",
       "      <th>grade</th>\n",
       "      <th>grade_abs</th>\n",
       "      <th>bridge</th>\n",
       "      <th>junction</th>\n",
       "      <th>service</th>\n",
       "      <th>tunnel</th>\n",
       "      <th>walkspeed</th>\n",
       "      <th>time_min</th>\n",
       "    </tr>\n",
       "  </thead>\n",
       "  <tbody>\n",
       "    <tr>\n",
       "      <th>0</th>\n",
       "      <td>Masivo</td>\n",
       "      <td>Circunvalar</td>\n",
       "      <td>Corredor 3 Circuito perif�rico (Mi Macro Perif...</td>\n",
       "      <td>En construcci�n</td>\n",
       "      <td>NaN</td>\n",
       "      <td>NaN</td>\n",
       "      <td>None</td>\n",
       "      <td>None</td>\n",
       "      <td>None</td>\n",
       "      <td>642.0</td>\n",
       "      <td>...</td>\n",
       "      <td>NaN</td>\n",
       "      <td>NaN</td>\n",
       "      <td>NaN</td>\n",
       "      <td>NaN</td>\n",
       "      <td>NaN</td>\n",
       "      <td>NaN</td>\n",
       "      <td>NaN</td>\n",
       "      <td>NaN</td>\n",
       "      <td>40.0</td>\n",
       "      <td>0.0</td>\n",
       "    </tr>\n",
       "    <tr>\n",
       "      <th>1</th>\n",
       "      <td>Masivo</td>\n",
       "      <td>Circunvalar</td>\n",
       "      <td>Corredor 3 Circuito perif�rico (Mi Macro Perif...</td>\n",
       "      <td>En construcci�n</td>\n",
       "      <td>NaN</td>\n",
       "      <td>NaN</td>\n",
       "      <td>None</td>\n",
       "      <td>None</td>\n",
       "      <td>None</td>\n",
       "      <td>642.0</td>\n",
       "      <td>...</td>\n",
       "      <td>NaN</td>\n",
       "      <td>NaN</td>\n",
       "      <td>NaN</td>\n",
       "      <td>NaN</td>\n",
       "      <td>NaN</td>\n",
       "      <td>NaN</td>\n",
       "      <td>NaN</td>\n",
       "      <td>NaN</td>\n",
       "      <td>40.0</td>\n",
       "      <td>0.0</td>\n",
       "    </tr>\n",
       "  </tbody>\n",
       "</table>\n",
       "<p>2 rows × 28 columns</p>\n",
       "</div>"
      ],
      "text/plain": [
       "  Tipo_de_co         Tipo                                             Nombre  \\\n",
       "0     Masivo  Circunvalar  Corredor 3 Circuito perif�rico (Mi Macro Perif...   \n",
       "1     Masivo  Circunvalar  Corredor 3 Circuito perif�rico (Mi Macro Perif...   \n",
       "\n",
       "            Estado  fid  cat Tipo_de_se Clasificac Clasifica0  Ruta_id  ...  \\\n",
       "0  En construcci�n  NaN  NaN       None       None       None    642.0  ...   \n",
       "1  En construcci�n  NaN  NaN       None       None       None    642.0  ...   \n",
       "\n",
       "  osmid oneway grade  grade_abs  bridge  junction  service  tunnel walkspeed  \\\n",
       "0   NaN    NaN   NaN        NaN     NaN       NaN      NaN     NaN      40.0   \n",
       "1   NaN    NaN   NaN        NaN     NaN       NaN      NaN     NaN      40.0   \n",
       "\n",
       "  time_min  \n",
       "0      0.0  \n",
       "1      0.0  \n",
       "\n",
       "[2 rows x 28 columns]"
      ]
     },
     "execution_count": 37,
     "metadata": {},
     "output_type": "execute_result"
    }
   ],
   "source": [
    "rutas_nx_filtro = rutas_nx_edges.loc[rutas_nx_edges.Ruta_id.isin(id_rutas_buffer)]\n",
    "print(rutas_nx_filtro.shape)\n",
    "rutas_nx_filtro.head(2)"
   ]
  },
  {
   "cell_type": "code",
   "execution_count": 38,
   "metadata": {
    "tags": []
   },
   "outputs": [
    {
     "data": {
      "text/plain": [
       "<AxesSubplot:>"
      ]
     },
     "execution_count": 38,
     "metadata": {},
     "output_type": "execute_result"
    },
    {
     "data": {
      "image/png": "[encoded data removed]",
      "text/plain": [
       "<Figure size 432x288 with 1 Axes>"
      ]
     },
     "metadata": {
      "needs_background": "light"
     },
     "output_type": "display_data"
    }
   ],
   "source": [
    "rutas_nx_filtro.plot('time_min')"
   ]
  },
  {
   "cell_type": "code",
   "execution_count": 39,
   "metadata": {},
   "outputs": [],
   "source": [
    "paradas_nx_filtro = paradas_rutas_buffer.copy()"
   ]
  },
  {
   "cell_type": "code",
   "execution_count": 40,
   "metadata": {},
   "outputs": [],
   "source": [
    "paradas_nx_filtro.rename(columns={'coord_id':'osmid'}, inplace=True)"
   ]
  },
  {
   "cell_type": "code",
   "execution_count": 41,
   "metadata": {},
   "outputs": [],
   "source": [
    "paradas_nodos = paradas_nx_filtro.append(nodes_conect_gdf)\n",
    "paradas_nodos = paradas_nx_filtro.append(nodes.loc[nodes.osmid==999999])"
   ]
  },
  {
   "cell_type": "code",
   "execution_count": 42,
   "metadata": {},
   "outputs": [
    {
     "data": {
      "text/html": [
       "<div>\n",
       "<style scoped>\n",
       "    .dataframe tbody tr th:only-of-type {\n",
       "        vertical-align: middle;\n",
       "    }\n",
       "\n",
       "    .dataframe tbody tr th {\n",
       "        vertical-align: top;\n",
       "    }\n",
       "\n",
       "    .dataframe thead th {\n",
       "        text-align: right;\n",
       "    }\n",
       "</style>\n",
       "<table border=\"1\" class=\"dataframe\">\n",
       "  <thead>\n",
       "    <tr style=\"text-align: right;\">\n",
       "      <th></th>\n",
       "      <th>Nombre_de_</th>\n",
       "      <th>Sistema</th>\n",
       "      <th>Estructura</th>\n",
       "      <th>Estado</th>\n",
       "      <th>L�nea_y_si</th>\n",
       "      <th>fid</th>\n",
       "      <th>cat</th>\n",
       "      <th>Tipo_de_se</th>\n",
       "      <th>Clasificac</th>\n",
       "      <th>Clasifica0</th>\n",
       "      <th>...</th>\n",
       "      <th>vertex_p_1</th>\n",
       "      <th>distance</th>\n",
       "      <th>angle</th>\n",
       "      <th>layer</th>\n",
       "      <th>path</th>\n",
       "      <th>geometry</th>\n",
       "      <th>osmid</th>\n",
       "      <th>x</th>\n",
       "      <th>y</th>\n",
       "      <th>street_count</th>\n",
       "    </tr>\n",
       "  </thead>\n",
       "  <tbody>\n",
       "    <tr>\n",
       "      <th>0</th>\n",
       "      <td>Tepeyac</td>\n",
       "      <td>BRT (Bus Rapid Transit)</td>\n",
       "      <td>Superficie</td>\n",
       "      <td>En proceso</td>\n",
       "      <td>Mi Macro Perif�rico</td>\n",
       "      <td>NaN</td>\n",
       "      <td>NaN</td>\n",
       "      <td>None</td>\n",
       "      <td>None</td>\n",
       "      <td>None</td>\n",
       "      <td>...</td>\n",
       "      <td>NaN</td>\n",
       "      <td>NaN</td>\n",
       "      <td>NaN</td>\n",
       "      <td>Estaciones_MiMacro</td>\n",
       "      <td>/home/edgar/SIG/ObsCds/Proyectos/Museo_Ciencia...</td>\n",
       "      <td>POINT (-103.44406 20.65003)</td>\n",
       "      <td>2350147961102</td>\n",
       "      <td>NaN</td>\n",
       "      <td>NaN</td>\n",
       "      <td>NaN</td>\n",
       "    </tr>\n",
       "    <tr>\n",
       "      <th>1</th>\n",
       "      <td>Trompo Magico</td>\n",
       "      <td>BRT (Bus Rapid Transit)</td>\n",
       "      <td>Superficie</td>\n",
       "      <td>En proceso</td>\n",
       "      <td>Mi Macro Perif�rico</td>\n",
       "      <td>NaN</td>\n",
       "      <td>NaN</td>\n",
       "      <td>None</td>\n",
       "      <td>None</td>\n",
       "      <td>None</td>\n",
       "      <td>...</td>\n",
       "      <td>NaN</td>\n",
       "      <td>NaN</td>\n",
       "      <td>NaN</td>\n",
       "      <td>Estaciones_MiMacro</td>\n",
       "      <td>/home/edgar/SIG/ObsCds/Proyectos/Museo_Ciencia...</td>\n",
       "      <td>POINT (-103.42059 20.72319)</td>\n",
       "      <td>2352661969143</td>\n",
       "      <td>NaN</td>\n",
       "      <td>NaN</td>\n",
       "      <td>NaN</td>\n",
       "    </tr>\n",
       "  </tbody>\n",
       "</table>\n",
       "<p>2 rows × 24 columns</p>\n",
       "</div>"
      ],
      "text/plain": [
       "      Nombre_de_                  Sistema  Estructura      Estado  \\\n",
       "0        Tepeyac  BRT (Bus Rapid Transit)  Superficie  En proceso   \n",
       "1  Trompo Magico  BRT (Bus Rapid Transit)  Superficie  En proceso   \n",
       "\n",
       "            L�nea_y_si  fid  cat Tipo_de_se Clasificac Clasifica0  ...  \\\n",
       "0  Mi Macro Perif�rico  NaN  NaN       None       None       None  ...   \n",
       "1  Mi Macro Perif�rico  NaN  NaN       None       None       None  ...   \n",
       "\n",
       "   vertex_p_1  distance  angle               layer  \\\n",
       "0         NaN       NaN    NaN  Estaciones_MiMacro   \n",
       "1         NaN       NaN    NaN  Estaciones_MiMacro   \n",
       "\n",
       "                                                path  \\\n",
       "0  /home/edgar/SIG/ObsCds/Proyectos/Museo_Ciencia...   \n",
       "1  /home/edgar/SIG/ObsCds/Proyectos/Museo_Ciencia...   \n",
       "\n",
       "                      geometry          osmid   x   y street_count  \n",
       "0  POINT (-103.44406 20.65003)  2350147961102 NaN NaN          NaN  \n",
       "1  POINT (-103.42059 20.72319)  2352661969143 NaN NaN          NaN  \n",
       "\n",
       "[2 rows x 24 columns]"
      ]
     },
     "execution_count": 42,
     "metadata": {},
     "output_type": "execute_result"
    }
   ],
   "source": [
    "paradas_nodos.head(2)"
   ]
  },
  {
   "cell_type": "code",
   "execution_count": 43,
   "metadata": {},
   "outputs": [
    {
     "data": {
      "text/plain": [
       "<AxesSubplot:>"
      ]
     },
     "execution_count": 43,
     "metadata": {},
     "output_type": "execute_result"
    },
    {
     "data": {
      "image/png": "[encoded data removed]",
      "text/plain": [
       "<Figure size 432x288 with 1 Axes>"
      ]
     },
     "metadata": {
      "needs_background": "light"
     },
     "output_type": "display_data"
    }
   ],
   "source": [
    "paradas_nodos.plot(markersize=0.5)"
   ]
  },
  {
   "cell_type": "markdown",
   "metadata": {
    "tags": []
   },
   "source": [
    "## Análisis de tiempo"
   ]
  },
  {
   "cell_type": "code",
   "execution_count": 80,
   "metadata": {},
   "outputs": [],
   "source": [
    "from shapely.geometry import Point"
   ]
  },
  {
   "cell_type": "code",
   "execution_count": 81,
   "metadata": {},
   "outputs": [],
   "source": [
    "museo = nodes.loc[nodes.osmid==999999].copy()"
   ]
  },
  {
   "cell_type": "code",
   "execution_count": 82,
   "metadata": {},
   "outputs": [],
   "source": [
    "nodes_tmp = paradas_nodos.reset_index().copy()\n",
    "\n",
    "edges_tmp = rutas_nx_edges.reset_index().copy()\n",
    "\n",
    "from_osmid = list(set(edges_tmp['u'].to_list()).difference(set(nodes_tmp.osmid.to_list())))\n",
    "\n",
    "nodes_dict = nodes_tmp.to_dict()\n",
    "\n",
    "for i in from_osmid:\n",
    "    row = edges_tmp.loc[(edges_tmp.u==i)].iloc[0]\n",
    "    coords = [(coords) for coords in list(row['geometry'].coords)]\n",
    "    first_coord, last_coord = [ coords[i] for i in (0, -1) ]\n",
    "\n",
    "    nodes_dict['osmid'][len(nodes_dict['osmid'])] = i\n",
    "    nodes_dict['x'][len(nodes_dict['x'])] = first_coord[0]\n",
    "    nodes_dict['y'][len(nodes_dict['y'])] = first_coord[1]\n",
    "    nodes_dict['street_count'][len(nodes_dict['street_count'])] = np.nan\n",
    "    nodes_dict['geometry'][len(nodes_dict['geometry'])] = Point(first_coord)\n",
    "\n",
    "\n",
    "to_osmid = list(set(edges_tmp['v'].to_list()).difference(set(list(nodes_dict['osmid'].values()))))\n",
    "\n",
    "for i in to_osmid:\n",
    "    row = edges_tmp.loc[(edges_tmp.v==i)].iloc[0]\n",
    "    coords = [(coords) for coords in list(row['geometry'].coords)]\n",
    "    first_coord, last_coord = [ coords[i] for i in (0, -1) ]\n",
    "\n",
    "    nodes_dict['osmid'][len(nodes_dict['osmid'])] = i\n",
    "    nodes_dict['x'][len(nodes_dict['x'])] = last_coord[0]\n",
    "    nodes_dict['y'][len(nodes_dict['y'])] = last_coord[1]\n",
    "    nodes_dict['street_count'][len(nodes_dict['street_count'])] = np.nan\n",
    "    nodes_dict['geometry'][len(nodes_dict['geometry'])] = Point(last_coord)\n",
    "\n",
    "nodes_tmp = pd.DataFrame.from_dict(nodes_dict)\n",
    "nodes_tmp = gpd.GeoDataFrame(nodes_tmp, crs=\"EPSG:4326\", geometry='geometry')\n",
    "paradas_nodos = nodes_tmp.copy()"
   ]
  },
  {
   "cell_type": "code",
   "execution_count": 83,
   "metadata": {},
   "outputs": [
    {
     "name": "stdout",
     "output_type": "stream",
     "text": [
      "(1368, 18)\n"
     ]
    },
    {
     "data": {
      "text/html": [
       "<div>\n",
       "<style scoped>\n",
       "    .dataframe tbody tr th:only-of-type {\n",
       "        vertical-align: middle;\n",
       "    }\n",
       "\n",
       "    .dataframe tbody tr th {\n",
       "        vertical-align: top;\n",
       "    }\n",
       "\n",
       "    .dataframe thead th {\n",
       "        text-align: right;\n",
       "    }\n",
       "</style>\n",
       "<table border=\"1\" class=\"dataframe\">\n",
       "  <thead>\n",
       "    <tr style=\"text-align: right;\">\n",
       "      <th></th>\n",
       "      <th>index</th>\n",
       "      <th>fid</th>\n",
       "      <th>cat</th>\n",
       "      <th>Tipo_de_se</th>\n",
       "      <th>Clasificac</th>\n",
       "      <th>Clasifica0</th>\n",
       "      <th>Ruta_id</th>\n",
       "      <th>vertex_pos</th>\n",
       "      <th>vertex_ind</th>\n",
       "      <th>vertex_par</th>\n",
       "      <th>vertex_p_1</th>\n",
       "      <th>distance</th>\n",
       "      <th>angle</th>\n",
       "      <th>geometry</th>\n",
       "      <th>osmid</th>\n",
       "      <th>x</th>\n",
       "      <th>y</th>\n",
       "      <th>street_count</th>\n",
       "    </tr>\n",
       "  </thead>\n",
       "  <tbody>\n",
       "    <tr>\n",
       "      <th>0</th>\n",
       "      <td>1252.0</td>\n",
       "      <td>1267.0</td>\n",
       "      <td>29.0</td>\n",
       "      <td>Complementaria</td>\n",
       "      <td>Rutas complementarias y otros servicios</td>\n",
       "      <td>Operando</td>\n",
       "      <td>29.0</td>\n",
       "      <td>0.0</td>\n",
       "      <td>0.0</td>\n",
       "      <td>0.0</td>\n",
       "      <td>0.0</td>\n",
       "      <td>0.00000</td>\n",
       "      <td>202.126417</td>\n",
       "      <td>POINT (-103.35767 20.76556)</td>\n",
       "      <td>2.359232e+12</td>\n",
       "      <td>NaN</td>\n",
       "      <td>NaN</td>\n",
       "      <td>NaN</td>\n",
       "    </tr>\n",
       "    <tr>\n",
       "      <th>1</th>\n",
       "      <td>1253.0</td>\n",
       "      <td>1267.0</td>\n",
       "      <td>29.0</td>\n",
       "      <td>Complementaria</td>\n",
       "      <td>Rutas complementarias y otros servicios</td>\n",
       "      <td>Operando</td>\n",
       "      <td>29.0</td>\n",
       "      <td>-1.0</td>\n",
       "      <td>7.0</td>\n",
       "      <td>0.0</td>\n",
       "      <td>7.0</td>\n",
       "      <td>399.96641</td>\n",
       "      <td>258.039828</td>\n",
       "      <td>POINT (-103.36007 20.76331)</td>\n",
       "      <td>2.358981e+12</td>\n",
       "      <td>NaN</td>\n",
       "      <td>NaN</td>\n",
       "      <td>NaN</td>\n",
       "    </tr>\n",
       "  </tbody>\n",
       "</table>\n",
       "</div>"
      ],
      "text/plain": [
       "    index     fid   cat      Tipo_de_se  \\\n",
       "0  1252.0  1267.0  29.0  Complementaria   \n",
       "1  1253.0  1267.0  29.0  Complementaria   \n",
       "\n",
       "                                Clasificac Clasifica0  Ruta_id  vertex_pos  \\\n",
       "0  Rutas complementarias y otros servicios   Operando     29.0         0.0   \n",
       "1  Rutas complementarias y otros servicios   Operando     29.0        -1.0   \n",
       "\n",
       "   vertex_ind  vertex_par  vertex_p_1   distance       angle  \\\n",
       "0         0.0         0.0         0.0    0.00000  202.126417   \n",
       "1         7.0         0.0         7.0  399.96641  258.039828   \n",
       "\n",
       "                      geometry         osmid   x   y  street_count  \n",
       "0  POINT (-103.35767 20.76556)  2.359232e+12 NaN NaN           NaN  \n",
       "1  POINT (-103.36007 20.76331)  2.358981e+12 NaN NaN           NaN  "
      ]
     },
     "execution_count": 83,
     "metadata": {},
     "output_type": "execute_result"
    }
   ],
   "source": [
    "print(paradas_nodos.shape)\n",
    "paradas_nodos.head(2)"
   ]
  },
  {
   "cell_type": "code",
   "execution_count": 84,
   "metadata": {},
   "outputs": [
    {
     "data": {
      "text/html": [
       "<div>\n",
       "<style scoped>\n",
       "    .dataframe tbody tr th:only-of-type {\n",
       "        vertical-align: middle;\n",
       "    }\n",
       "\n",
       "    .dataframe tbody tr th {\n",
       "        vertical-align: top;\n",
       "    }\n",
       "\n",
       "    .dataframe thead th {\n",
       "        text-align: right;\n",
       "    }\n",
       "</style>\n",
       "<table border=\"1\" class=\"dataframe\">\n",
       "  <thead>\n",
       "    <tr style=\"text-align: right;\">\n",
       "      <th></th>\n",
       "      <th>index</th>\n",
       "      <th>fid</th>\n",
       "      <th>cat</th>\n",
       "      <th>Tipo_de_se</th>\n",
       "      <th>Clasificac</th>\n",
       "      <th>Clasifica0</th>\n",
       "      <th>Ruta_id</th>\n",
       "      <th>vertex_pos</th>\n",
       "      <th>vertex_ind</th>\n",
       "      <th>vertex_par</th>\n",
       "      <th>vertex_p_1</th>\n",
       "      <th>distance</th>\n",
       "      <th>angle</th>\n",
       "      <th>geometry</th>\n",
       "      <th>osmid</th>\n",
       "      <th>x</th>\n",
       "      <th>y</th>\n",
       "      <th>street_count</th>\n",
       "    </tr>\n",
       "  </thead>\n",
       "  <tbody>\n",
       "    <tr>\n",
       "      <th>1345</th>\n",
       "      <td>172089.0</td>\n",
       "      <td>NaN</td>\n",
       "      <td>NaN</td>\n",
       "      <td>NaN</td>\n",
       "      <td>NaN</td>\n",
       "      <td>NaN</td>\n",
       "      <td>NaN</td>\n",
       "      <td>NaN</td>\n",
       "      <td>NaN</td>\n",
       "      <td>NaN</td>\n",
       "      <td>NaN</td>\n",
       "      <td>NaN</td>\n",
       "      <td>NaN</td>\n",
       "      <td>POINT (-103.38096 20.73560)</td>\n",
       "      <td>999999.0</td>\n",
       "      <td>-103.380963</td>\n",
       "      <td>20.735599</td>\n",
       "      <td>NaN</td>\n",
       "    </tr>\n",
       "  </tbody>\n",
       "</table>\n",
       "</div>"
      ],
      "text/plain": [
       "         index  fid  cat Tipo_de_se Clasificac Clasifica0  Ruta_id  \\\n",
       "1345  172089.0  NaN  NaN        NaN        NaN        NaN      NaN   \n",
       "\n",
       "      vertex_pos  vertex_ind  vertex_par  vertex_p_1  distance  angle  \\\n",
       "1345         NaN         NaN         NaN         NaN       NaN    NaN   \n",
       "\n",
       "                         geometry     osmid           x          y  \\\n",
       "1345  POINT (-103.38096 20.73560)  999999.0 -103.380963  20.735599   \n",
       "\n",
       "      street_count  \n",
       "1345           NaN  "
      ]
     },
     "execution_count": 84,
     "metadata": {},
     "output_type": "execute_result"
    }
   ],
   "source": [
    "paradas_nodos.loc[paradas_nodos.osmid==999999]"
   ]
  },
  {
   "cell_type": "code",
   "execution_count": 85,
   "metadata": {},
   "outputs": [],
   "source": [
    "paradas_dist = aup.calculate_distance_nearest_poi(museo, paradas_nodos, \n",
    "                rutas_nx_edges, 'museo', 'osmid', wght='time_min')"
   ]
  },
  {
   "cell_type": "code",
   "execution_count": 86,
   "metadata": {},
   "outputs": [
    {
     "name": "stdout",
     "output_type": "stream",
     "text": [
      "(1368, 19)\n"
     ]
    },
    {
     "data": {
      "text/html": [
       "<div>\n",
       "<style scoped>\n",
       "    .dataframe tbody tr th:only-of-type {\n",
       "        vertical-align: middle;\n",
       "    }\n",
       "\n",
       "    .dataframe tbody tr th {\n",
       "        vertical-align: top;\n",
       "    }\n",
       "\n",
       "    .dataframe thead th {\n",
       "        text-align: right;\n",
       "    }\n",
       "</style>\n",
       "<table border=\"1\" class=\"dataframe\">\n",
       "  <thead>\n",
       "    <tr style=\"text-align: right;\">\n",
       "      <th></th>\n",
       "      <th>level_0</th>\n",
       "      <th>index</th>\n",
       "      <th>fid</th>\n",
       "      <th>cat</th>\n",
       "      <th>Tipo_de_se</th>\n",
       "      <th>Clasificac</th>\n",
       "      <th>Clasifica0</th>\n",
       "      <th>Ruta_id</th>\n",
       "      <th>vertex_pos</th>\n",
       "      <th>vertex_ind</th>\n",
       "      <th>vertex_par</th>\n",
       "      <th>vertex_p_1</th>\n",
       "      <th>distance</th>\n",
       "      <th>angle</th>\n",
       "      <th>geometry</th>\n",
       "      <th>x</th>\n",
       "      <th>y</th>\n",
       "      <th>street_count</th>\n",
       "      <th>dist_museo</th>\n",
       "    </tr>\n",
       "    <tr>\n",
       "      <th>osmid</th>\n",
       "      <th></th>\n",
       "      <th></th>\n",
       "      <th></th>\n",
       "      <th></th>\n",
       "      <th></th>\n",
       "      <th></th>\n",
       "      <th></th>\n",
       "      <th></th>\n",
       "      <th></th>\n",
       "      <th></th>\n",
       "      <th></th>\n",
       "      <th></th>\n",
       "      <th></th>\n",
       "      <th></th>\n",
       "      <th></th>\n",
       "      <th></th>\n",
       "      <th></th>\n",
       "      <th></th>\n",
       "      <th></th>\n",
       "    </tr>\n",
       "  </thead>\n",
       "  <tbody>\n",
       "    <tr>\n",
       "      <th>2.359232e+12</th>\n",
       "      <td>0</td>\n",
       "      <td>1252.0</td>\n",
       "      <td>1267.0</td>\n",
       "      <td>29.0</td>\n",
       "      <td>Complementaria</td>\n",
       "      <td>Rutas complementarias y otros servicios</td>\n",
       "      <td>Operando</td>\n",
       "      <td>29.0</td>\n",
       "      <td>0.0</td>\n",
       "      <td>0.0</td>\n",
       "      <td>0.0</td>\n",
       "      <td>0.0</td>\n",
       "      <td>0.00000</td>\n",
       "      <td>202.126417</td>\n",
       "      <td>POINT (-103.35767 20.76556)</td>\n",
       "      <td>NaN</td>\n",
       "      <td>NaN</td>\n",
       "      <td>NaN</td>\n",
       "      <td>26.346445</td>\n",
       "    </tr>\n",
       "    <tr>\n",
       "      <th>2.358981e+12</th>\n",
       "      <td>1</td>\n",
       "      <td>1253.0</td>\n",
       "      <td>1267.0</td>\n",
       "      <td>29.0</td>\n",
       "      <td>Complementaria</td>\n",
       "      <td>Rutas complementarias y otros servicios</td>\n",
       "      <td>Operando</td>\n",
       "      <td>29.0</td>\n",
       "      <td>-1.0</td>\n",
       "      <td>7.0</td>\n",
       "      <td>0.0</td>\n",
       "      <td>7.0</td>\n",
       "      <td>399.96641</td>\n",
       "      <td>258.039828</td>\n",
       "      <td>POINT (-103.36007 20.76331)</td>\n",
       "      <td>NaN</td>\n",
       "      <td>NaN</td>\n",
       "      <td>NaN</td>\n",
       "      <td>27.306364</td>\n",
       "    </tr>\n",
       "    <tr>\n",
       "      <th>2.358590e+12</th>\n",
       "      <td>2</td>\n",
       "      <td>1254.0</td>\n",
       "      <td>1268.0</td>\n",
       "      <td>29.0</td>\n",
       "      <td>Complementaria</td>\n",
       "      <td>Rutas complementarias y otros servicios</td>\n",
       "      <td>Operando</td>\n",
       "      <td>29.0</td>\n",
       "      <td>-1.0</td>\n",
       "      <td>16.0</td>\n",
       "      <td>0.0</td>\n",
       "      <td>16.0</td>\n",
       "      <td>399.96641</td>\n",
       "      <td>266.450939</td>\n",
       "      <td>POINT (-103.36384 20.76321)</td>\n",
       "      <td>NaN</td>\n",
       "      <td>NaN</td>\n",
       "      <td>NaN</td>\n",
       "      <td>27.254082</td>\n",
       "    </tr>\n",
       "    <tr>\n",
       "      <th>2.358238e+12</th>\n",
       "      <td>3</td>\n",
       "      <td>1255.0</td>\n",
       "      <td>1269.0</td>\n",
       "      <td>29.0</td>\n",
       "      <td>Complementaria</td>\n",
       "      <td>Rutas complementarias y otros servicios</td>\n",
       "      <td>Operando</td>\n",
       "      <td>29.0</td>\n",
       "      <td>-1.0</td>\n",
       "      <td>11.0</td>\n",
       "      <td>0.0</td>\n",
       "      <td>11.0</td>\n",
       "      <td>399.96641</td>\n",
       "      <td>239.111167</td>\n",
       "      <td>POINT (-103.36723 20.76313)</td>\n",
       "      <td>NaN</td>\n",
       "      <td>NaN</td>\n",
       "      <td>NaN</td>\n",
       "      <td>26.294163</td>\n",
       "    </tr>\n",
       "    <tr>\n",
       "      <th>2.358257e+12</th>\n",
       "      <td>4</td>\n",
       "      <td>1256.0</td>\n",
       "      <td>1270.0</td>\n",
       "      <td>29.0</td>\n",
       "      <td>Complementaria</td>\n",
       "      <td>Rutas complementarias y otros servicios</td>\n",
       "      <td>Operando</td>\n",
       "      <td>29.0</td>\n",
       "      <td>-1.0</td>\n",
       "      <td>8.0</td>\n",
       "      <td>0.0</td>\n",
       "      <td>8.0</td>\n",
       "      <td>399.96641</td>\n",
       "      <td>189.000972</td>\n",
       "      <td>POINT (-103.36702 20.76011)</td>\n",
       "      <td>NaN</td>\n",
       "      <td>NaN</td>\n",
       "      <td>NaN</td>\n",
       "      <td>25.334244</td>\n",
       "    </tr>\n",
       "  </tbody>\n",
       "</table>\n",
       "</div>"
      ],
      "text/plain": [
       "              level_0   index     fid   cat      Tipo_de_se  \\\n",
       "osmid                                                         \n",
       "2.359232e+12        0  1252.0  1267.0  29.0  Complementaria   \n",
       "2.358981e+12        1  1253.0  1267.0  29.0  Complementaria   \n",
       "2.358590e+12        2  1254.0  1268.0  29.0  Complementaria   \n",
       "2.358238e+12        3  1255.0  1269.0  29.0  Complementaria   \n",
       "2.358257e+12        4  1256.0  1270.0  29.0  Complementaria   \n",
       "\n",
       "                                           Clasificac Clasifica0  Ruta_id  \\\n",
       "osmid                                                                       \n",
       "2.359232e+12  Rutas complementarias y otros servicios   Operando     29.0   \n",
       "2.358981e+12  Rutas complementarias y otros servicios   Operando     29.0   \n",
       "2.358590e+12  Rutas complementarias y otros servicios   Operando     29.0   \n",
       "2.358238e+12  Rutas complementarias y otros servicios   Operando     29.0   \n",
       "2.358257e+12  Rutas complementarias y otros servicios   Operando     29.0   \n",
       "\n",
       "              vertex_pos  vertex_ind  vertex_par  vertex_p_1   distance  \\\n",
       "osmid                                                                     \n",
       "2.359232e+12         0.0         0.0         0.0         0.0    0.00000   \n",
       "2.358981e+12        -1.0         7.0         0.0         7.0  399.96641   \n",
       "2.358590e+12        -1.0        16.0         0.0        16.0  399.96641   \n",
       "2.358238e+12        -1.0        11.0         0.0        11.0  399.96641   \n",
       "2.358257e+12        -1.0         8.0         0.0         8.0  399.96641   \n",
       "\n",
       "                   angle                     geometry   x   y  street_count  \\\n",
       "osmid                                                                         \n",
       "2.359232e+12  202.126417  POINT (-103.35767 20.76556) NaN NaN           NaN   \n",
       "2.358981e+12  258.039828  POINT (-103.36007 20.76331) NaN NaN           NaN   \n",
       "2.358590e+12  266.450939  POINT (-103.36384 20.76321) NaN NaN           NaN   \n",
       "2.358238e+12  239.111167  POINT (-103.36723 20.76313) NaN NaN           NaN   \n",
       "2.358257e+12  189.000972  POINT (-103.36702 20.76011) NaN NaN           NaN   \n",
       "\n",
       "              dist_museo  \n",
       "osmid                     \n",
       "2.359232e+12   26.346445  \n",
       "2.358981e+12   27.306364  \n",
       "2.358590e+12   27.254082  \n",
       "2.358238e+12   26.294163  \n",
       "2.358257e+12   25.334244  "
      ]
     },
     "execution_count": 86,
     "metadata": {},
     "output_type": "execute_result"
    }
   ],
   "source": [
    "print(paradas_dist.shape)\n",
    "paradas_dist.head(5)"
   ]
  },
  {
   "cell_type": "code",
   "execution_count": 87,
   "metadata": {},
   "outputs": [
    {
     "data": {
      "text/plain": [
       "<AxesSubplot:>"
      ]
     },
     "execution_count": 87,
     "metadata": {},
     "output_type": "execute_result"
    },
    {
     "data": {
      "image/png": "[encoded data removed]",
      "text/plain": [
       "<Figure size 720x720 with 1 Axes>"
      ]
     },
     "metadata": {
      "needs_background": "light"
     },
     "output_type": "display_data"
    }
   ],
   "source": [
    "import matplotlib.pyplot as plt\n",
    "\n",
    "fig,ax = plt.subplots(figsize=(10,10))\n",
    "ax.axes.get_xaxis().set_visible(False)\n",
    "ax.axes.get_yaxis().set_visible(False)\n",
    "#nodes_c.plot(ax=ax, color='black', markersize=15, zorder=1)\n",
    "#edges_c.plot(ax=ax, color='#999999', zorder=-1)\n",
    "\n",
    "museo.plot(color='red', markersize=20, ax=ax, zorder=2)\n",
    "paradas_dist.plot('dist_museo', markersize=3, ax=ax)\n",
    "#edges.plot(ax=ax, color='#e8e9eb',linewidth=0.1, zorder=-1)\n",
    "#edges[(edges['highway']=='primary') | (edges['highway']=='secondary')].plot(ax=ax, color='#e8e9eb',linewidth=0.5, zorder=0)"
   ]
  },
  {
   "cell_type": "markdown",
   "metadata": {},
   "source": [
    "## Conexión de red de transporte"
   ]
  },
  {
   "cell_type": "markdown",
   "metadata": {},
   "source": [
    "### Nodos a paradas"
   ]
  },
  {
   "cell_type": "code",
   "execution_count": 44,
   "metadata": {},
   "outputs": [
    {
     "name": "stdout",
     "output_type": "stream",
     "text": [
      "(1228, 21)\n"
     ]
    },
    {
     "data": {
      "text/html": [
       "<div>\n",
       "<style scoped>\n",
       "    .dataframe tbody tr th:only-of-type {\n",
       "        vertical-align: middle;\n",
       "    }\n",
       "\n",
       "    .dataframe tbody tr th {\n",
       "        vertical-align: top;\n",
       "    }\n",
       "\n",
       "    .dataframe thead th {\n",
       "        text-align: right;\n",
       "    }\n",
       "</style>\n",
       "<table border=\"1\" class=\"dataframe\">\n",
       "  <thead>\n",
       "    <tr style=\"text-align: right;\">\n",
       "      <th></th>\n",
       "      <th>Nombre_de_</th>\n",
       "      <th>Sistema</th>\n",
       "      <th>Estructura</th>\n",
       "      <th>Estado</th>\n",
       "      <th>L�nea_y_si</th>\n",
       "      <th>fid</th>\n",
       "      <th>cat</th>\n",
       "      <th>Tipo_de_se</th>\n",
       "      <th>Clasificac</th>\n",
       "      <th>Clasifica0</th>\n",
       "      <th>...</th>\n",
       "      <th>vertex_pos</th>\n",
       "      <th>vertex_ind</th>\n",
       "      <th>vertex_par</th>\n",
       "      <th>vertex_p_1</th>\n",
       "      <th>distance</th>\n",
       "      <th>angle</th>\n",
       "      <th>layer</th>\n",
       "      <th>path</th>\n",
       "      <th>geometry</th>\n",
       "      <th>coord_id</th>\n",
       "    </tr>\n",
       "  </thead>\n",
       "  <tbody>\n",
       "    <tr>\n",
       "      <th>0</th>\n",
       "      <td>Tepeyac</td>\n",
       "      <td>BRT (Bus Rapid Transit)</td>\n",
       "      <td>Superficie</td>\n",
       "      <td>En proceso</td>\n",
       "      <td>Mi Macro Perif�rico</td>\n",
       "      <td>NaN</td>\n",
       "      <td>NaN</td>\n",
       "      <td>None</td>\n",
       "      <td>None</td>\n",
       "      <td>None</td>\n",
       "      <td>...</td>\n",
       "      <td>NaN</td>\n",
       "      <td>NaN</td>\n",
       "      <td>NaN</td>\n",
       "      <td>NaN</td>\n",
       "      <td>NaN</td>\n",
       "      <td>NaN</td>\n",
       "      <td>Estaciones_MiMacro</td>\n",
       "      <td>/home/edgar/SIG/ObsCds/Proyectos/Museo_Ciencia...</td>\n",
       "      <td>POINT (-103.44406 20.65003)</td>\n",
       "      <td>2350147961102</td>\n",
       "    </tr>\n",
       "    <tr>\n",
       "      <th>1</th>\n",
       "      <td>Trompo Magico</td>\n",
       "      <td>BRT (Bus Rapid Transit)</td>\n",
       "      <td>Superficie</td>\n",
       "      <td>En proceso</td>\n",
       "      <td>Mi Macro Perif�rico</td>\n",
       "      <td>NaN</td>\n",
       "      <td>NaN</td>\n",
       "      <td>None</td>\n",
       "      <td>None</td>\n",
       "      <td>None</td>\n",
       "      <td>...</td>\n",
       "      <td>NaN</td>\n",
       "      <td>NaN</td>\n",
       "      <td>NaN</td>\n",
       "      <td>NaN</td>\n",
       "      <td>NaN</td>\n",
       "      <td>NaN</td>\n",
       "      <td>Estaciones_MiMacro</td>\n",
       "      <td>/home/edgar/SIG/ObsCds/Proyectos/Museo_Ciencia...</td>\n",
       "      <td>POINT (-103.42059 20.72319)</td>\n",
       "      <td>2352661969143</td>\n",
       "    </tr>\n",
       "  </tbody>\n",
       "</table>\n",
       "<p>2 rows × 21 columns</p>\n",
       "</div>"
      ],
      "text/plain": [
       "      Nombre_de_                  Sistema  Estructura      Estado  \\\n",
       "0        Tepeyac  BRT (Bus Rapid Transit)  Superficie  En proceso   \n",
       "1  Trompo Magico  BRT (Bus Rapid Transit)  Superficie  En proceso   \n",
       "\n",
       "            L�nea_y_si  fid  cat Tipo_de_se Clasificac Clasifica0  ...  \\\n",
       "0  Mi Macro Perif�rico  NaN  NaN       None       None       None  ...   \n",
       "1  Mi Macro Perif�rico  NaN  NaN       None       None       None  ...   \n",
       "\n",
       "   vertex_pos  vertex_ind  vertex_par  vertex_p_1  distance  angle  \\\n",
       "0         NaN         NaN         NaN         NaN       NaN    NaN   \n",
       "1         NaN         NaN         NaN         NaN       NaN    NaN   \n",
       "\n",
       "                layer                                               path  \\\n",
       "0  Estaciones_MiMacro  /home/edgar/SIG/ObsCds/Proyectos/Museo_Ciencia...   \n",
       "1  Estaciones_MiMacro  /home/edgar/SIG/ObsCds/Proyectos/Museo_Ciencia...   \n",
       "\n",
       "                      geometry       coord_id  \n",
       "0  POINT (-103.44406 20.65003)  2350147961102  \n",
       "1  POINT (-103.42059 20.72319)  2352661969143  \n",
       "\n",
       "[2 rows x 21 columns]"
      ]
     },
     "execution_count": 44,
     "metadata": {},
     "output_type": "execute_result"
    }
   ],
   "source": [
    "print(paradas_rutas_buffer.shape)\n",
    "paradas_rutas_buffer.head(2)"
   ]
  },
  {
   "cell_type": "code",
   "execution_count": 45,
   "metadata": {},
   "outputs": [],
   "source": [
    "paradas_rutas_buffer['x'] = paradas_rutas_buffer.geometry.x\n",
    "paradas_rutas_buffer['y'] = paradas_rutas_buffer.geometry.y"
   ]
  },
  {
   "cell_type": "code",
   "execution_count": 51,
   "metadata": {},
   "outputs": [],
   "source": [
    "nodes_tmp_name = nodes.rename(columns={'osmid':'osmnx_id'}).copy()\n",
    "idx = nodes_tmp_name.osmnx_id==999_999\n",
    "nodes_tmp_name = nodes_tmp_name.loc[~idx] #quita al nodo del museo para que no se conecte a paradas\n",
    "\n",
    "nodes_to_paradas = gpd.GeoDataFrame()\n",
    "\n",
    "for r in list(paradas_rutas_buffer.Ruta_id.unique()):\n",
    "\n",
    "    paradas_rutas_tmp = paradas_rutas_buffer.loc[paradas_rutas_buffer.Ruta_id==r].rename(\n",
    "        columns={'coord_id':'osmid'}).copy()\n",
    "\n",
    "    nodes_paradas_tmp = aup.find_nearest(G, paradas_rutas_tmp.set_index('osmid'), \n",
    "                                     nodes_tmp_name, return_distance=True)\n",
    "    nodes_paradas_tmp['Ruta_id'] = r\n",
    "    \n",
    "    nodes_to_paradas = nodes_to_paradas.append(nodes_paradas_tmp.loc[nodes_paradas_tmp.distance_node<=150])"
   ]
  },
  {
   "cell_type": "code",
   "execution_count": 52,
   "metadata": {},
   "outputs": [
    {
     "name": "stdout",
     "output_type": "stream",
     "text": [
      "(27470, 8)\n"
     ]
    },
    {
     "data": {
      "text/html": [
       "<div>\n",
       "<style scoped>\n",
       "    .dataframe tbody tr th:only-of-type {\n",
       "        vertical-align: middle;\n",
       "    }\n",
       "\n",
       "    .dataframe tbody tr th {\n",
       "        vertical-align: top;\n",
       "    }\n",
       "\n",
       "    .dataframe thead th {\n",
       "        text-align: right;\n",
       "    }\n",
       "</style>\n",
       "<table border=\"1\" class=\"dataframe\">\n",
       "  <thead>\n",
       "    <tr style=\"text-align: right;\">\n",
       "      <th></th>\n",
       "      <th>osmid</th>\n",
       "      <th>x</th>\n",
       "      <th>y</th>\n",
       "      <th>street_count</th>\n",
       "      <th>geometry</th>\n",
       "      <th>coord_id</th>\n",
       "      <th>distance_node</th>\n",
       "      <th>Ruta_id</th>\n",
       "    </tr>\n",
       "  </thead>\n",
       "  <tbody>\n",
       "    <tr>\n",
       "      <th>39</th>\n",
       "      <td>28791819</td>\n",
       "      <td>-103.454674</td>\n",
       "      <td>20.696136</td>\n",
       "      <td>3.0</td>\n",
       "      <td>POINT (-103.45467 20.69614)</td>\n",
       "      <td>2349157966280</td>\n",
       "      <td>103.912247</td>\n",
       "      <td>642</td>\n",
       "    </tr>\n",
       "    <tr>\n",
       "      <th>64</th>\n",
       "      <td>273152670</td>\n",
       "      <td>-103.453587</td>\n",
       "      <td>20.697413</td>\n",
       "      <td>3.0</td>\n",
       "      <td>POINT (-103.45359 20.69741)</td>\n",
       "      <td>2349157966280</td>\n",
       "      <td>78.122674</td>\n",
       "      <td>642</td>\n",
       "    </tr>\n",
       "    <tr>\n",
       "      <th>65</th>\n",
       "      <td>273152800</td>\n",
       "      <td>-103.454945</td>\n",
       "      <td>20.696037</td>\n",
       "      <td>4.0</td>\n",
       "      <td>POINT (-103.45494 20.69604)</td>\n",
       "      <td>2349157966280</td>\n",
       "      <td>130.115372</td>\n",
       "      <td>642</td>\n",
       "    </tr>\n",
       "    <tr>\n",
       "      <th>66</th>\n",
       "      <td>273153678</td>\n",
       "      <td>-103.453845</td>\n",
       "      <td>20.696622</td>\n",
       "      <td>3.0</td>\n",
       "      <td>POINT (-103.45384 20.69662)</td>\n",
       "      <td>2349157966280</td>\n",
       "      <td>40.973267</td>\n",
       "      <td>642</td>\n",
       "    </tr>\n",
       "    <tr>\n",
       "      <th>67</th>\n",
       "      <td>273153681</td>\n",
       "      <td>-103.453736</td>\n",
       "      <td>20.697244</td>\n",
       "      <td>3.0</td>\n",
       "      <td>POINT (-103.45374 20.69724)</td>\n",
       "      <td>2349157966280</td>\n",
       "      <td>53.820236</td>\n",
       "      <td>642</td>\n",
       "    </tr>\n",
       "  </tbody>\n",
       "</table>\n",
       "</div>"
      ],
      "text/plain": [
       "        osmid           x          y  street_count  \\\n",
       "39   28791819 -103.454674  20.696136           3.0   \n",
       "64  273152670 -103.453587  20.697413           3.0   \n",
       "65  273152800 -103.454945  20.696037           4.0   \n",
       "66  273153678 -103.453845  20.696622           3.0   \n",
       "67  273153681 -103.453736  20.697244           3.0   \n",
       "\n",
       "                       geometry       coord_id  distance_node  Ruta_id  \n",
       "39  POINT (-103.45467 20.69614)  2349157966280     103.912247      642  \n",
       "64  POINT (-103.45359 20.69741)  2349157966280      78.122674      642  \n",
       "65  POINT (-103.45494 20.69604)  2349157966280     130.115372      642  \n",
       "66  POINT (-103.45384 20.69662)  2349157966280      40.973267      642  \n",
       "67  POINT (-103.45374 20.69724)  2349157966280      53.820236      642  "
      ]
     },
     "execution_count": 52,
     "metadata": {},
     "output_type": "execute_result"
    }
   ],
   "source": [
    "nodes_to_paradas.rename(columns={'osmid':'coord_id','osmnx_id':'osmid'}, inplace=True)\n",
    "print(nodes_to_paradas.shape)\n",
    "nodes_to_paradas.head(5)"
   ]
  },
  {
   "cell_type": "code",
   "execution_count": 53,
   "metadata": {},
   "outputs": [
    {
     "data": {
      "text/plain": [
       "94.82798758761686"
      ]
     },
     "execution_count": 53,
     "metadata": {},
     "output_type": "execute_result"
    }
   ],
   "source": [
    "nodes_to_paradas.distance_node.mean()"
   ]
  },
  {
   "cell_type": "markdown",
   "metadata": {
    "jp-MarkdownHeadingCollapsed": true,
    "tags": []
   },
   "source": [
    "### Paradas a nodos [depreceated]"
   ]
  },
  {
   "cell_type": "code",
   "execution_count": null,
   "metadata": {},
   "outputs": [],
   "source": [
    "paradas_rutas_buffer.head(2)"
   ]
  },
  {
   "cell_type": "code",
   "execution_count": null,
   "metadata": {},
   "outputs": [],
   "source": [
    "paradas_buffer_osmid = aup.find_nearest(G, nodes.set_index('osmid'), \n",
    "                                 paradas_rutas_buffer, return_distance=True)"
   ]
  },
  {
   "cell_type": "code",
   "execution_count": null,
   "metadata": {},
   "outputs": [],
   "source": [
    "print(paradas_buffer_osmid.shape)\n",
    "paradas_buffer_osmid.head(2)"
   ]
  },
  {
   "cell_type": "code",
   "execution_count": null,
   "metadata": {},
   "outputs": [],
   "source": [
    "paradas_buffer_osmid.distance_node.mean()"
   ]
  },
  {
   "cell_type": "markdown",
   "metadata": {},
   "source": [
    "### Conexiones a nodos"
   ]
  },
  {
   "cell_type": "markdown",
   "metadata": {},
   "source": [
    "#### Tiempo de espera en parada"
   ]
  },
  {
   "cell_type": "code",
   "execution_count": 54,
   "metadata": {},
   "outputs": [],
   "source": [
    "t = [5,7,10]"
   ]
  },
  {
   "cell_type": "code",
   "execution_count": 55,
   "metadata": {
    "tags": []
   },
   "outputs": [],
   "source": [
    "\n",
    "paradas_buffer_iter = nodes_to_paradas.copy()\n",
    "\n",
    "rutas_nx_edges_all = rutas_nx_edges.copy()\n",
    "\n",
    "paradas_buffer_iter.reset_index(drop=True, inplace=True)\n",
    "\n",
    "for index,row in paradas_buffer_iter.iterrows():\n",
    "        \n",
    "    row_index = index\n",
    "    osmid_idx = row['osmid']\n",
    "    coord_idx = row['coord_id']\n",
    "    \n",
    "    if osmid_idx not in nodes_conect_list:\n",
    "    \n",
    "        geom_u = nodes.loc[nodes.osmid==osmid_idx].geometry.values[0]\n",
    "        geom_v = paradas_rutas_buffer.loc[paradas_rutas_buffer.coord_id==coord_idx].geometry.values[0]\n",
    "        \n",
    "        long_m = aup.haversine((geom_u.x,geom_u.y), (geom_v.x,geom_v.y))\n",
    "        \n",
    "        if long_m <= 50:\n",
    "            vel = ( long_m / 1000 ) * ( 60 / t[0] )\n",
    "        elif long_m > 50 and long_m <= 100:\n",
    "            vel = ( long_m / 1000 ) * ( 60 / t[1] )\n",
    "        elif long_m > 100:\n",
    "            vel = ( long_m / 1000 ) * ( 60 / t[2] )\n",
    "        \n",
    "        #vel = ( long_m / 1000 ) * ( 60 / t )\n",
    "        \n",
    "        geom_line = LineString([geom_u, geom_v]).wkt\n",
    "\n",
    "        geo_dict = {'u':[osmid_idx],'v':[coord_idx],'key':[0],\n",
    "                'walkspeed':[vel], 'geometry':geom_line}\n",
    "\n",
    "        line_df = pd.DataFrame.from_dict(geo_dict)\n",
    "\n",
    "        line_df['geometry'] = line_df['geometry'].apply(wkt.loads)\n",
    "\n",
    "        line_gdf = gpd.GeoDataFrame(line_df, geometry='geometry', crs=\"EPSG:4326\")\n",
    "\n",
    "        rutas_nx_edges_all = rutas_nx_edges_all.append(line_gdf)\n"
   ]
  },
  {
   "cell_type": "code",
   "execution_count": 56,
   "metadata": {},
   "outputs": [],
   "source": [
    "rutas_nx_edges_all = rutas_nx_edges_all.append(edges)"
   ]
  },
  {
   "cell_type": "code",
   "execution_count": 57,
   "metadata": {},
   "outputs": [
    {
     "name": "stdout",
     "output_type": "stream",
     "text": [
      "(443528, 28)\n"
     ]
    },
    {
     "data": {
      "text/html": [
       "<div>\n",
       "<style scoped>\n",
       "    .dataframe tbody tr th:only-of-type {\n",
       "        vertical-align: middle;\n",
       "    }\n",
       "\n",
       "    .dataframe tbody tr th {\n",
       "        vertical-align: top;\n",
       "    }\n",
       "\n",
       "    .dataframe thead th {\n",
       "        text-align: right;\n",
       "    }\n",
       "</style>\n",
       "<table border=\"1\" class=\"dataframe\">\n",
       "  <thead>\n",
       "    <tr style=\"text-align: right;\">\n",
       "      <th></th>\n",
       "      <th>Tipo_de_co</th>\n",
       "      <th>Tipo</th>\n",
       "      <th>Nombre</th>\n",
       "      <th>Estado</th>\n",
       "      <th>fid</th>\n",
       "      <th>cat</th>\n",
       "      <th>Tipo_de_se</th>\n",
       "      <th>Clasificac</th>\n",
       "      <th>Clasifica0</th>\n",
       "      <th>Ruta_id</th>\n",
       "      <th>...</th>\n",
       "      <th>osmid</th>\n",
       "      <th>oneway</th>\n",
       "      <th>grade</th>\n",
       "      <th>grade_abs</th>\n",
       "      <th>bridge</th>\n",
       "      <th>junction</th>\n",
       "      <th>service</th>\n",
       "      <th>tunnel</th>\n",
       "      <th>walkspeed</th>\n",
       "      <th>time_min</th>\n",
       "    </tr>\n",
       "  </thead>\n",
       "  <tbody>\n",
       "    <tr>\n",
       "      <th>0</th>\n",
       "      <td>Masivo</td>\n",
       "      <td>Circunvalar</td>\n",
       "      <td>Corredor 3 Circuito perif�rico (Mi Macro Perif...</td>\n",
       "      <td>En construcci�n</td>\n",
       "      <td>NaN</td>\n",
       "      <td>NaN</td>\n",
       "      <td>None</td>\n",
       "      <td>None</td>\n",
       "      <td>None</td>\n",
       "      <td>642.0</td>\n",
       "      <td>...</td>\n",
       "      <td>NaN</td>\n",
       "      <td>NaN</td>\n",
       "      <td>NaN</td>\n",
       "      <td>NaN</td>\n",
       "      <td>NaN</td>\n",
       "      <td>NaN</td>\n",
       "      <td>NaN</td>\n",
       "      <td>NaN</td>\n",
       "      <td>40.0</td>\n",
       "      <td>0.0</td>\n",
       "    </tr>\n",
       "    <tr>\n",
       "      <th>1</th>\n",
       "      <td>Masivo</td>\n",
       "      <td>Circunvalar</td>\n",
       "      <td>Corredor 3 Circuito perif�rico (Mi Macro Perif...</td>\n",
       "      <td>En construcci�n</td>\n",
       "      <td>NaN</td>\n",
       "      <td>NaN</td>\n",
       "      <td>None</td>\n",
       "      <td>None</td>\n",
       "      <td>None</td>\n",
       "      <td>642.0</td>\n",
       "      <td>...</td>\n",
       "      <td>NaN</td>\n",
       "      <td>NaN</td>\n",
       "      <td>NaN</td>\n",
       "      <td>NaN</td>\n",
       "      <td>NaN</td>\n",
       "      <td>NaN</td>\n",
       "      <td>NaN</td>\n",
       "      <td>NaN</td>\n",
       "      <td>40.0</td>\n",
       "      <td>0.0</td>\n",
       "    </tr>\n",
       "  </tbody>\n",
       "</table>\n",
       "<p>2 rows × 28 columns</p>\n",
       "</div>"
      ],
      "text/plain": [
       "  Tipo_de_co         Tipo                                             Nombre  \\\n",
       "0     Masivo  Circunvalar  Corredor 3 Circuito perif�rico (Mi Macro Perif...   \n",
       "1     Masivo  Circunvalar  Corredor 3 Circuito perif�rico (Mi Macro Perif...   \n",
       "\n",
       "            Estado  fid  cat Tipo_de_se Clasificac Clasifica0  Ruta_id  ...  \\\n",
       "0  En construcci�n  NaN  NaN       None       None       None    642.0  ...   \n",
       "1  En construcci�n  NaN  NaN       None       None       None    642.0  ...   \n",
       "\n",
       "  osmid oneway grade  grade_abs  bridge  junction  service  tunnel walkspeed  \\\n",
       "0   NaN    NaN   NaN        NaN     NaN       NaN      NaN     NaN      40.0   \n",
       "1   NaN    NaN   NaN        NaN     NaN       NaN      NaN     NaN      40.0   \n",
       "\n",
       "  time_min  \n",
       "0      0.0  \n",
       "1      0.0  \n",
       "\n",
       "[2 rows x 28 columns]"
      ]
     },
     "execution_count": 57,
     "metadata": {},
     "output_type": "execute_result"
    }
   ],
   "source": [
    "print(rutas_nx_edges_all.shape)\n",
    "rutas_nx_edges_all.head(2)"
   ]
  },
  {
   "cell_type": "markdown",
   "metadata": {},
   "source": [
    "### Recalcula distancia y velocidad"
   ]
  },
  {
   "cell_type": "code",
   "execution_count": 58,
   "metadata": {},
   "outputs": [],
   "source": [
    "rutas_nx_edges_all = rutas_nx_edges_all.to_crs(\"EPSG:6372\")\n",
    "rutas_nx_edges_all['length'] = rutas_nx_edges_all.length\n",
    "rutas_nx_edges_all['time_min'] = rutas_nx_edges_all['length']/(1000*rutas_nx_edges_all['walkspeed']/60)\n",
    "rutas_nx_edges_all = rutas_nx_edges_all.to_crs(\"EPSG:4326\")"
   ]
  },
  {
   "cell_type": "code",
   "execution_count": 59,
   "metadata": {},
   "outputs": [
    {
     "name": "stdout",
     "output_type": "stream",
     "text": [
      "(443525, 28)\n"
     ]
    }
   ],
   "source": [
    "rutas_nx_edges_all.drop_duplicates(inplace=True)\n",
    "print(rutas_nx_edges_all.shape)"
   ]
  },
  {
   "cell_type": "markdown",
   "metadata": {},
   "source": [
    "## Calcula tiempos en red de ciudad"
   ]
  },
  {
   "cell_type": "code",
   "execution_count": 60,
   "metadata": {},
   "outputs": [
    {
     "name": "stdout",
     "output_type": "stream",
     "text": [
      "(173319, 24)\n"
     ]
    },
    {
     "data": {
      "text/html": [
       "<div>\n",
       "<style scoped>\n",
       "    .dataframe tbody tr th:only-of-type {\n",
       "        vertical-align: middle;\n",
       "    }\n",
       "\n",
       "    .dataframe tbody tr th {\n",
       "        vertical-align: top;\n",
       "    }\n",
       "\n",
       "    .dataframe thead th {\n",
       "        text-align: right;\n",
       "    }\n",
       "</style>\n",
       "<table border=\"1\" class=\"dataframe\">\n",
       "  <thead>\n",
       "    <tr style=\"text-align: right;\">\n",
       "      <th></th>\n",
       "      <th>Nombre_de_</th>\n",
       "      <th>Sistema</th>\n",
       "      <th>Estructura</th>\n",
       "      <th>Estado</th>\n",
       "      <th>L�nea_y_si</th>\n",
       "      <th>fid</th>\n",
       "      <th>cat</th>\n",
       "      <th>Tipo_de_se</th>\n",
       "      <th>Clasificac</th>\n",
       "      <th>Clasifica0</th>\n",
       "      <th>...</th>\n",
       "      <th>vertex_p_1</th>\n",
       "      <th>distance</th>\n",
       "      <th>angle</th>\n",
       "      <th>layer</th>\n",
       "      <th>path</th>\n",
       "      <th>geometry</th>\n",
       "      <th>osmid</th>\n",
       "      <th>x</th>\n",
       "      <th>y</th>\n",
       "      <th>street_count</th>\n",
       "    </tr>\n",
       "  </thead>\n",
       "  <tbody>\n",
       "    <tr>\n",
       "      <th>0</th>\n",
       "      <td>Tepeyac</td>\n",
       "      <td>BRT (Bus Rapid Transit)</td>\n",
       "      <td>Superficie</td>\n",
       "      <td>En proceso</td>\n",
       "      <td>Mi Macro Perif�rico</td>\n",
       "      <td>NaN</td>\n",
       "      <td>NaN</td>\n",
       "      <td>None</td>\n",
       "      <td>None</td>\n",
       "      <td>None</td>\n",
       "      <td>...</td>\n",
       "      <td>NaN</td>\n",
       "      <td>NaN</td>\n",
       "      <td>NaN</td>\n",
       "      <td>Estaciones_MiMacro</td>\n",
       "      <td>/home/edgar/SIG/ObsCds/Proyectos/Museo_Ciencia...</td>\n",
       "      <td>POINT (-103.44406 20.65003)</td>\n",
       "      <td>2350147961102</td>\n",
       "      <td>NaN</td>\n",
       "      <td>NaN</td>\n",
       "      <td>NaN</td>\n",
       "    </tr>\n",
       "    <tr>\n",
       "      <th>1</th>\n",
       "      <td>Trompo Magico</td>\n",
       "      <td>BRT (Bus Rapid Transit)</td>\n",
       "      <td>Superficie</td>\n",
       "      <td>En proceso</td>\n",
       "      <td>Mi Macro Perif�rico</td>\n",
       "      <td>NaN</td>\n",
       "      <td>NaN</td>\n",
       "      <td>None</td>\n",
       "      <td>None</td>\n",
       "      <td>None</td>\n",
       "      <td>...</td>\n",
       "      <td>NaN</td>\n",
       "      <td>NaN</td>\n",
       "      <td>NaN</td>\n",
       "      <td>Estaciones_MiMacro</td>\n",
       "      <td>/home/edgar/SIG/ObsCds/Proyectos/Museo_Ciencia...</td>\n",
       "      <td>POINT (-103.42059 20.72319)</td>\n",
       "      <td>2352661969143</td>\n",
       "      <td>NaN</td>\n",
       "      <td>NaN</td>\n",
       "      <td>NaN</td>\n",
       "    </tr>\n",
       "  </tbody>\n",
       "</table>\n",
       "<p>2 rows × 24 columns</p>\n",
       "</div>"
      ],
      "text/plain": [
       "      Nombre_de_                  Sistema  Estructura      Estado  \\\n",
       "0        Tepeyac  BRT (Bus Rapid Transit)  Superficie  En proceso   \n",
       "1  Trompo Magico  BRT (Bus Rapid Transit)  Superficie  En proceso   \n",
       "\n",
       "            L�nea_y_si  fid  cat Tipo_de_se Clasificac Clasifica0  ...  \\\n",
       "0  Mi Macro Perif�rico  NaN  NaN       None       None       None  ...   \n",
       "1  Mi Macro Perif�rico  NaN  NaN       None       None       None  ...   \n",
       "\n",
       "   vertex_p_1  distance  angle               layer  \\\n",
       "0         NaN       NaN    NaN  Estaciones_MiMacro   \n",
       "1         NaN       NaN    NaN  Estaciones_MiMacro   \n",
       "\n",
       "                                                path  \\\n",
       "0  /home/edgar/SIG/ObsCds/Proyectos/Museo_Ciencia...   \n",
       "1  /home/edgar/SIG/ObsCds/Proyectos/Museo_Ciencia...   \n",
       "\n",
       "                      geometry          osmid   x   y street_count  \n",
       "0  POINT (-103.44406 20.65003)  2350147961102 NaN NaN          NaN  \n",
       "1  POINT (-103.42059 20.72319)  2352661969143 NaN NaN          NaN  \n",
       "\n",
       "[2 rows x 24 columns]"
      ]
     },
     "execution_count": 60,
     "metadata": {},
     "output_type": "execute_result"
    }
   ],
   "source": [
    "paradas_nodes = paradas_nodos.append(nodes)\n",
    "print(paradas_nodes.shape)\n",
    "paradas_nodes.head(2)"
   ]
  },
  {
   "cell_type": "code",
   "execution_count": 61,
   "metadata": {
    "collapsed": true,
    "jupyter": {
     "outputs_hidden": true
    },
    "tags": []
   },
   "outputs": [
    {
     "ename": "AttributeError",
     "evalue": "'GeoDataFrame' object has no attribute 'coord_id'",
     "output_type": "error",
     "traceback": [
      "\u001b[0;31m---------------------------------------------------------------------------\u001b[0m",
      "\u001b[0;31mAttributeError\u001b[0m                            Traceback (most recent call last)",
      "\u001b[0;32m<ipython-input-61-1ecaa44cd11b>\u001b[0m in \u001b[0;36m<module>\u001b[0;34m\u001b[0m\n\u001b[0;32m----> 1\u001b[0;31m \u001b[0midx\u001b[0m \u001b[0;34m=\u001b[0m \u001b[0mparadas_nodes\u001b[0m\u001b[0;34m.\u001b[0m\u001b[0mcoord_id\u001b[0m\u001b[0;34m.\u001b[0m\u001b[0misna\u001b[0m\u001b[0;34m(\u001b[0m\u001b[0;34m)\u001b[0m\u001b[0;34m\u001b[0m\u001b[0;34m\u001b[0m\u001b[0m\n\u001b[0m\u001b[1;32m      2\u001b[0m \u001b[0;34m\u001b[0m\u001b[0m\n\u001b[1;32m      3\u001b[0m \u001b[0mparadas_nodes\u001b[0m\u001b[0;34m.\u001b[0m\u001b[0mloc\u001b[0m\u001b[0;34m[\u001b[0m\u001b[0;34m~\u001b[0m\u001b[0midx\u001b[0m\u001b[0;34m,\u001b[0m\u001b[0;34m'osmid'\u001b[0m\u001b[0;34m]\u001b[0m \u001b[0;34m=\u001b[0m \u001b[0mparadas_nodes\u001b[0m\u001b[0;34m.\u001b[0m\u001b[0mloc\u001b[0m\u001b[0;34m[\u001b[0m\u001b[0;34m~\u001b[0m\u001b[0midx\u001b[0m\u001b[0;34m,\u001b[0m\u001b[0;34m'coord_id'\u001b[0m\u001b[0;34m]\u001b[0m\u001b[0;34m\u001b[0m\u001b[0;34m\u001b[0m\u001b[0m\n",
      "\u001b[0;32m~/anaconda3/envs/geo_env/lib/python3.8/site-packages/pandas/core/generic.py\u001b[0m in \u001b[0;36m__getattr__\u001b[0;34m(self, name)\u001b[0m\n\u001b[1;32m   5485\u001b[0m         ):\n\u001b[1;32m   5486\u001b[0m             \u001b[0;32mreturn\u001b[0m \u001b[0mself\u001b[0m\u001b[0;34m[\u001b[0m\u001b[0mname\u001b[0m\u001b[0;34m]\u001b[0m\u001b[0;34m\u001b[0m\u001b[0;34m\u001b[0m\u001b[0m\n\u001b[0;32m-> 5487\u001b[0;31m         \u001b[0;32mreturn\u001b[0m \u001b[0mobject\u001b[0m\u001b[0;34m.\u001b[0m\u001b[0m__getattribute__\u001b[0m\u001b[0;34m(\u001b[0m\u001b[0mself\u001b[0m\u001b[0;34m,\u001b[0m \u001b[0mname\u001b[0m\u001b[0;34m)\u001b[0m\u001b[0;34m\u001b[0m\u001b[0;34m\u001b[0m\u001b[0m\n\u001b[0m\u001b[1;32m   5488\u001b[0m \u001b[0;34m\u001b[0m\u001b[0m\n\u001b[1;32m   5489\u001b[0m     \u001b[0;32mdef\u001b[0m \u001b[0m__setattr__\u001b[0m\u001b[0;34m(\u001b[0m\u001b[0mself\u001b[0m\u001b[0;34m,\u001b[0m \u001b[0mname\u001b[0m\u001b[0;34m:\u001b[0m \u001b[0mstr\u001b[0m\u001b[0;34m,\u001b[0m \u001b[0mvalue\u001b[0m\u001b[0;34m)\u001b[0m \u001b[0;34m->\u001b[0m \u001b[0;32mNone\u001b[0m\u001b[0;34m:\u001b[0m\u001b[0;34m\u001b[0m\u001b[0;34m\u001b[0m\u001b[0m\n",
      "\u001b[0;31mAttributeError\u001b[0m: 'GeoDataFrame' object has no attribute 'coord_id'"
     ]
    }
   ],
   "source": [
    "idx = paradas_nodes.coord_id.isna()\n",
    "\n",
    "paradas_nodes.loc[~idx,'osmid'] = paradas_nodes.loc[~idx,'coord_id']"
   ]
  },
  {
   "cell_type": "code",
   "execution_count": 62,
   "metadata": {},
   "outputs": [],
   "source": [
    "paradas_nodes = paradas_nodes.drop_duplicates(subset='osmid')"
   ]
  },
  {
   "cell_type": "code",
   "execution_count": 64,
   "metadata": {},
   "outputs": [],
   "source": [
    "from shapely.geometry import Point\n",
    "\n",
    "nodes_tmp = paradas_nodes.reset_index().copy()\n",
    "\n",
    "idx = nodes_tmp.osmid.isna()\n",
    "\n",
    "nodes_tmp = nodes_tmp[~idx]\n",
    "\n",
    "edges_tmp = rutas_nx_edges_all.reset_index().copy()\n",
    "\n",
    "idx = edges_tmp['u'].isna()\n",
    "\n",
    "edges_tmp = edges_tmp[~idx]\n",
    "\n",
    "from_osmid = list(set(edges_tmp['u'].to_list()).difference(set(nodes_tmp.osmid.to_list())))\n",
    "\n",
    "nodes_dict = nodes_tmp.to_dict()\n",
    "\n",
    "for i in from_osmid:\n",
    "    row = edges_tmp.loc[(edges_tmp.u==i)].iloc[0]\n",
    "    coords = [(coords) for coords in list(row['geometry'].coords)]\n",
    "    first_coord, last_coord = [ coords[i] for i in (0, -1) ]\n",
    "\n",
    "    nodes_dict['osmid'][len(nodes_dict['osmid'])] = i\n",
    "    nodes_dict['x'][len(nodes_dict['x'])] = first_coord[0]\n",
    "    nodes_dict['y'][len(nodes_dict['y'])] = first_coord[1]\n",
    "    nodes_dict['street_count'][len(nodes_dict['street_count'])] = np.nan\n",
    "    nodes_dict['geometry'][len(nodes_dict['geometry'])] = Point(first_coord)\n",
    "\n",
    "\n",
    "to_osmid = list(set(edges_tmp['v'].to_list()).difference(set(list(nodes_dict['osmid'].values()))))\n",
    "\n",
    "for i in to_osmid:\n",
    "    row = edges_tmp.loc[(edges_tmp.v==i)].iloc[0]\n",
    "    coords = [(coords) for coords in list(row['geometry'].coords)]\n",
    "    first_coord, last_coord = [ coords[i] for i in (0, -1) ]\n",
    "\n",
    "    nodes_dict['osmid'][len(nodes_dict['osmid'])] = i\n",
    "    nodes_dict['x'][len(nodes_dict['x'])] = last_coord[0]\n",
    "    nodes_dict['y'][len(nodes_dict['y'])] = last_coord[1]\n",
    "    nodes_dict['street_count'][len(nodes_dict['street_count'])] = np.nan\n",
    "    nodes_dict['geometry'][len(nodes_dict['geometry'])] = Point(last_coord)\n",
    "\n",
    "nodes_tmp = pd.DataFrame.from_dict(nodes_dict)\n",
    "nodes_tmp = gpd.GeoDataFrame(nodes_tmp, crs=\"EPSG:4326\", geometry='geometry')\n",
    "paradas_nodes_fill = nodes_tmp.copy()"
   ]
  },
  {
   "cell_type": "code",
   "execution_count": 65,
   "metadata": {},
   "outputs": [
    {
     "data": {
      "text/html": [
       "<div>\n",
       "<style scoped>\n",
       "    .dataframe tbody tr th:only-of-type {\n",
       "        vertical-align: middle;\n",
       "    }\n",
       "\n",
       "    .dataframe tbody tr th {\n",
       "        vertical-align: top;\n",
       "    }\n",
       "\n",
       "    .dataframe thead th {\n",
       "        text-align: right;\n",
       "    }\n",
       "</style>\n",
       "<table border=\"1\" class=\"dataframe\">\n",
       "  <thead>\n",
       "    <tr style=\"text-align: right;\">\n",
       "      <th></th>\n",
       "      <th>Tipo_de_co</th>\n",
       "      <th>Tipo</th>\n",
       "      <th>Nombre</th>\n",
       "      <th>Estado</th>\n",
       "      <th>fid</th>\n",
       "      <th>cat</th>\n",
       "      <th>Tipo_de_se</th>\n",
       "      <th>Clasificac</th>\n",
       "      <th>Clasifica0</th>\n",
       "      <th>Ruta_id</th>\n",
       "      <th>...</th>\n",
       "      <th>osmid</th>\n",
       "      <th>oneway</th>\n",
       "      <th>grade</th>\n",
       "      <th>grade_abs</th>\n",
       "      <th>bridge</th>\n",
       "      <th>junction</th>\n",
       "      <th>service</th>\n",
       "      <th>tunnel</th>\n",
       "      <th>walkspeed</th>\n",
       "      <th>time_min</th>\n",
       "    </tr>\n",
       "  </thead>\n",
       "  <tbody>\n",
       "    <tr>\n",
       "      <th>1398</th>\n",
       "      <td>None</td>\n",
       "      <td>None</td>\n",
       "      <td>None</td>\n",
       "      <td>None</td>\n",
       "      <td>1306.0</td>\n",
       "      <td>29.0</td>\n",
       "      <td>Complementaria</td>\n",
       "      <td>Rutas complementarias y otros servicios</td>\n",
       "      <td>Operando</td>\n",
       "      <td>29.0</td>\n",
       "      <td>...</td>\n",
       "      <td>NaN</td>\n",
       "      <td>NaN</td>\n",
       "      <td>NaN</td>\n",
       "      <td>NaN</td>\n",
       "      <td>NaN</td>\n",
       "      <td>NaN</td>\n",
       "      <td>NaN</td>\n",
       "      <td>NaN</td>\n",
       "      <td>25.0</td>\n",
       "      <td>0.955885</td>\n",
       "    </tr>\n",
       "  </tbody>\n",
       "</table>\n",
       "<p>1 rows × 28 columns</p>\n",
       "</div>"
      ],
      "text/plain": [
       "     Tipo_de_co  Tipo Nombre Estado     fid   cat      Tipo_de_se  \\\n",
       "1398       None  None   None   None  1306.0  29.0  Complementaria   \n",
       "\n",
       "                                   Clasificac Clasifica0  Ruta_id  ... osmid  \\\n",
       "1398  Rutas complementarias y otros servicios   Operando     29.0  ...   NaN   \n",
       "\n",
       "     oneway grade  grade_abs  bridge  junction  service  tunnel walkspeed  \\\n",
       "1398    NaN   NaN        NaN     NaN       NaN      NaN     NaN      25.0   \n",
       "\n",
       "      time_min  \n",
       "1398  0.955885  \n",
       "\n",
       "[1 rows x 28 columns]"
      ]
     },
     "execution_count": 65,
     "metadata": {},
     "output_type": "execute_result"
    }
   ],
   "source": [
    "rutas_nx_edges_all.loc[rutas_nx_edges_all.u == 2357450967978]"
   ]
  },
  {
   "cell_type": "code",
   "execution_count": 66,
   "metadata": {},
   "outputs": [],
   "source": [
    "idx = rutas_nx_edges_all['u'].isna()\n",
    "\n",
    "rutas_nx_edges_all = rutas_nx_edges_all[~idx]"
   ]
  },
  {
   "cell_type": "code",
   "execution_count": 67,
   "metadata": {
    "collapsed": true,
    "jupyter": {
     "outputs_hidden": true
    },
    "tags": []
   },
   "outputs": [
    {
     "ename": "KeyError",
     "evalue": "\"['level_0'] not found in axis\"",
     "output_type": "error",
     "traceback": [
      "\u001b[0;31m---------------------------------------------------------------------------\u001b[0m",
      "\u001b[0;31mKeyError\u001b[0m                                  Traceback (most recent call last)",
      "\u001b[0;32m<ipython-input-67-b0c1891cccaa>\u001b[0m in \u001b[0;36m<module>\u001b[0;34m\u001b[0m\n\u001b[0;32m----> 1\u001b[0;31m \u001b[0mparadas_nodes_fill\u001b[0m\u001b[0;34m.\u001b[0m\u001b[0mdrop\u001b[0m\u001b[0;34m(\u001b[0m\u001b[0mcolumns\u001b[0m\u001b[0;34m=\u001b[0m\u001b[0;34m[\u001b[0m\u001b[0;34m'level_0'\u001b[0m\u001b[0;34m,\u001b[0m\u001b[0;34m'index'\u001b[0m\u001b[0;34m]\u001b[0m\u001b[0;34m,\u001b[0m\u001b[0minplace\u001b[0m\u001b[0;34m=\u001b[0m\u001b[0;32mTrue\u001b[0m\u001b[0;34m)\u001b[0m\u001b[0;34m\u001b[0m\u001b[0;34m\u001b[0m\u001b[0m\n\u001b[0m",
      "\u001b[0;32m~/anaconda3/envs/geo_env/lib/python3.8/site-packages/pandas/util/_decorators.py\u001b[0m in \u001b[0;36mwrapper\u001b[0;34m(*args, **kwargs)\u001b[0m\n\u001b[1;32m    309\u001b[0m                     \u001b[0mstacklevel\u001b[0m\u001b[0;34m=\u001b[0m\u001b[0mstacklevel\u001b[0m\u001b[0;34m,\u001b[0m\u001b[0;34m\u001b[0m\u001b[0;34m\u001b[0m\u001b[0m\n\u001b[1;32m    310\u001b[0m                 )\n\u001b[0;32m--> 311\u001b[0;31m             \u001b[0;32mreturn\u001b[0m \u001b[0mfunc\u001b[0m\u001b[0;34m(\u001b[0m\u001b[0;34m*\u001b[0m\u001b[0margs\u001b[0m\u001b[0;34m,\u001b[0m \u001b[0;34m**\u001b[0m\u001b[0mkwargs\u001b[0m\u001b[0;34m)\u001b[0m\u001b[0;34m\u001b[0m\u001b[0;34m\u001b[0m\u001b[0m\n\u001b[0m\u001b[1;32m    312\u001b[0m \u001b[0;34m\u001b[0m\u001b[0m\n\u001b[1;32m    313\u001b[0m         \u001b[0;32mreturn\u001b[0m \u001b[0mwrapper\u001b[0m\u001b[0;34m\u001b[0m\u001b[0;34m\u001b[0m\u001b[0m\n",
      "\u001b[0;32m~/anaconda3/envs/geo_env/lib/python3.8/site-packages/pandas/core/frame.py\u001b[0m in \u001b[0;36mdrop\u001b[0;34m(self, labels, axis, index, columns, level, inplace, errors)\u001b[0m\n\u001b[1;32m   4904\u001b[0m                 \u001b[0mweight\u001b[0m  \u001b[0;36m1.0\u001b[0m     \u001b[0;36m0.8\u001b[0m\u001b[0;34m\u001b[0m\u001b[0;34m\u001b[0m\u001b[0m\n\u001b[1;32m   4905\u001b[0m         \"\"\"\n\u001b[0;32m-> 4906\u001b[0;31m         return super().drop(\n\u001b[0m\u001b[1;32m   4907\u001b[0m             \u001b[0mlabels\u001b[0m\u001b[0;34m=\u001b[0m\u001b[0mlabels\u001b[0m\u001b[0;34m,\u001b[0m\u001b[0;34m\u001b[0m\u001b[0;34m\u001b[0m\u001b[0m\n\u001b[1;32m   4908\u001b[0m             \u001b[0maxis\u001b[0m\u001b[0;34m=\u001b[0m\u001b[0maxis\u001b[0m\u001b[0;34m,\u001b[0m\u001b[0;34m\u001b[0m\u001b[0;34m\u001b[0m\u001b[0m\n",
      "\u001b[0;32m~/anaconda3/envs/geo_env/lib/python3.8/site-packages/pandas/core/generic.py\u001b[0m in \u001b[0;36mdrop\u001b[0;34m(self, labels, axis, index, columns, level, inplace, errors)\u001b[0m\n\u001b[1;32m   4148\u001b[0m         \u001b[0;32mfor\u001b[0m \u001b[0maxis\u001b[0m\u001b[0;34m,\u001b[0m \u001b[0mlabels\u001b[0m \u001b[0;32min\u001b[0m \u001b[0maxes\u001b[0m\u001b[0;34m.\u001b[0m\u001b[0mitems\u001b[0m\u001b[0;34m(\u001b[0m\u001b[0;34m)\u001b[0m\u001b[0;34m:\u001b[0m\u001b[0;34m\u001b[0m\u001b[0;34m\u001b[0m\u001b[0m\n\u001b[1;32m   4149\u001b[0m             \u001b[0;32mif\u001b[0m \u001b[0mlabels\u001b[0m \u001b[0;32mis\u001b[0m \u001b[0;32mnot\u001b[0m \u001b[0;32mNone\u001b[0m\u001b[0;34m:\u001b[0m\u001b[0;34m\u001b[0m\u001b[0;34m\u001b[0m\u001b[0m\n\u001b[0;32m-> 4150\u001b[0;31m                 \u001b[0mobj\u001b[0m \u001b[0;34m=\u001b[0m \u001b[0mobj\u001b[0m\u001b[0;34m.\u001b[0m\u001b[0m_drop_axis\u001b[0m\u001b[0;34m(\u001b[0m\u001b[0mlabels\u001b[0m\u001b[0;34m,\u001b[0m \u001b[0maxis\u001b[0m\u001b[0;34m,\u001b[0m \u001b[0mlevel\u001b[0m\u001b[0;34m=\u001b[0m\u001b[0mlevel\u001b[0m\u001b[0;34m,\u001b[0m \u001b[0merrors\u001b[0m\u001b[0;34m=\u001b[0m\u001b[0merrors\u001b[0m\u001b[0;34m)\u001b[0m\u001b[0;34m\u001b[0m\u001b[0;34m\u001b[0m\u001b[0m\n\u001b[0m\u001b[1;32m   4151\u001b[0m \u001b[0;34m\u001b[0m\u001b[0m\n\u001b[1;32m   4152\u001b[0m         \u001b[0;32mif\u001b[0m \u001b[0minplace\u001b[0m\u001b[0;34m:\u001b[0m\u001b[0;34m\u001b[0m\u001b[0;34m\u001b[0m\u001b[0m\n",
      "\u001b[0;32m~/anaconda3/envs/geo_env/lib/python3.8/site-packages/pandas/core/generic.py\u001b[0m in \u001b[0;36m_drop_axis\u001b[0;34m(self, labels, axis, level, errors)\u001b[0m\n\u001b[1;32m   4183\u001b[0m                 \u001b[0mnew_axis\u001b[0m \u001b[0;34m=\u001b[0m \u001b[0maxis\u001b[0m\u001b[0;34m.\u001b[0m\u001b[0mdrop\u001b[0m\u001b[0;34m(\u001b[0m\u001b[0mlabels\u001b[0m\u001b[0;34m,\u001b[0m \u001b[0mlevel\u001b[0m\u001b[0;34m=\u001b[0m\u001b[0mlevel\u001b[0m\u001b[0;34m,\u001b[0m \u001b[0merrors\u001b[0m\u001b[0;34m=\u001b[0m\u001b[0merrors\u001b[0m\u001b[0;34m)\u001b[0m\u001b[0;34m\u001b[0m\u001b[0;34m\u001b[0m\u001b[0m\n\u001b[1;32m   4184\u001b[0m             \u001b[0;32melse\u001b[0m\u001b[0;34m:\u001b[0m\u001b[0;34m\u001b[0m\u001b[0;34m\u001b[0m\u001b[0m\n\u001b[0;32m-> 4185\u001b[0;31m                 \u001b[0mnew_axis\u001b[0m \u001b[0;34m=\u001b[0m \u001b[0maxis\u001b[0m\u001b[0;34m.\u001b[0m\u001b[0mdrop\u001b[0m\u001b[0;34m(\u001b[0m\u001b[0mlabels\u001b[0m\u001b[0;34m,\u001b[0m \u001b[0merrors\u001b[0m\u001b[0;34m=\u001b[0m\u001b[0merrors\u001b[0m\u001b[0;34m)\u001b[0m\u001b[0;34m\u001b[0m\u001b[0;34m\u001b[0m\u001b[0m\n\u001b[0m\u001b[1;32m   4186\u001b[0m             \u001b[0mresult\u001b[0m \u001b[0;34m=\u001b[0m \u001b[0mself\u001b[0m\u001b[0;34m.\u001b[0m\u001b[0mreindex\u001b[0m\u001b[0;34m(\u001b[0m\u001b[0;34m**\u001b[0m\u001b[0;34m{\u001b[0m\u001b[0maxis_name\u001b[0m\u001b[0;34m:\u001b[0m \u001b[0mnew_axis\u001b[0m\u001b[0;34m}\u001b[0m\u001b[0;34m)\u001b[0m\u001b[0;34m\u001b[0m\u001b[0;34m\u001b[0m\u001b[0m\n\u001b[1;32m   4187\u001b[0m \u001b[0;34m\u001b[0m\u001b[0m\n",
      "\u001b[0;32m~/anaconda3/envs/geo_env/lib/python3.8/site-packages/pandas/core/indexes/base.py\u001b[0m in \u001b[0;36mdrop\u001b[0;34m(self, labels, errors)\u001b[0m\n\u001b[1;32m   6015\u001b[0m         \u001b[0;32mif\u001b[0m \u001b[0mmask\u001b[0m\u001b[0;34m.\u001b[0m\u001b[0many\u001b[0m\u001b[0;34m(\u001b[0m\u001b[0;34m)\u001b[0m\u001b[0;34m:\u001b[0m\u001b[0;34m\u001b[0m\u001b[0;34m\u001b[0m\u001b[0m\n\u001b[1;32m   6016\u001b[0m             \u001b[0;32mif\u001b[0m \u001b[0merrors\u001b[0m \u001b[0;34m!=\u001b[0m \u001b[0;34m\"ignore\"\u001b[0m\u001b[0;34m:\u001b[0m\u001b[0;34m\u001b[0m\u001b[0;34m\u001b[0m\u001b[0m\n\u001b[0;32m-> 6017\u001b[0;31m                 \u001b[0;32mraise\u001b[0m \u001b[0mKeyError\u001b[0m\u001b[0;34m(\u001b[0m\u001b[0;34mf\"{labels[mask]} not found in axis\"\u001b[0m\u001b[0;34m)\u001b[0m\u001b[0;34m\u001b[0m\u001b[0;34m\u001b[0m\u001b[0m\n\u001b[0m\u001b[1;32m   6018\u001b[0m             \u001b[0mindexer\u001b[0m \u001b[0;34m=\u001b[0m \u001b[0mindexer\u001b[0m\u001b[0;34m[\u001b[0m\u001b[0;34m~\u001b[0m\u001b[0mmask\u001b[0m\u001b[0;34m]\u001b[0m\u001b[0;34m\u001b[0m\u001b[0;34m\u001b[0m\u001b[0m\n\u001b[1;32m   6019\u001b[0m         \u001b[0;32mreturn\u001b[0m \u001b[0mself\u001b[0m\u001b[0;34m.\u001b[0m\u001b[0mdelete\u001b[0m\u001b[0;34m(\u001b[0m\u001b[0mindexer\u001b[0m\u001b[0;34m)\u001b[0m\u001b[0;34m\u001b[0m\u001b[0;34m\u001b[0m\u001b[0m\n",
      "\u001b[0;31mKeyError\u001b[0m: \"['level_0'] not found in axis\""
     ]
    }
   ],
   "source": [
    "paradas_nodes_fill.drop(columns=['level_0','index'],inplace=True)"
   ]
  },
  {
   "cell_type": "code",
   "execution_count": 70,
   "metadata": {},
   "outputs": [],
   "source": [
    "paradas_dist = aup.calculate_distance_nearest_poi(museo, paradas_nodes_fill, \n",
    "                rutas_nx_edges_all, 'museo', 'osmid', wght='time_min')"
   ]
  },
  {
   "cell_type": "code",
   "execution_count": 71,
   "metadata": {},
   "outputs": [
    {
     "name": "stdout",
     "output_type": "stream",
     "text": [
      "(173183, 26)\n"
     ]
    },
    {
     "data": {
      "text/html": [
       "<div>\n",
       "<style scoped>\n",
       "    .dataframe tbody tr th:only-of-type {\n",
       "        vertical-align: middle;\n",
       "    }\n",
       "\n",
       "    .dataframe tbody tr th {\n",
       "        vertical-align: top;\n",
       "    }\n",
       "\n",
       "    .dataframe thead th {\n",
       "        text-align: right;\n",
       "    }\n",
       "</style>\n",
       "<table border=\"1\" class=\"dataframe\">\n",
       "  <thead>\n",
       "    <tr style=\"text-align: right;\">\n",
       "      <th></th>\n",
       "      <th>level_0</th>\n",
       "      <th>index</th>\n",
       "      <th>Nombre_de_</th>\n",
       "      <th>Sistema</th>\n",
       "      <th>Estructura</th>\n",
       "      <th>Estado</th>\n",
       "      <th>L�nea_y_si</th>\n",
       "      <th>fid</th>\n",
       "      <th>cat</th>\n",
       "      <th>Tipo_de_se</th>\n",
       "      <th>...</th>\n",
       "      <th>vertex_p_1</th>\n",
       "      <th>distance</th>\n",
       "      <th>angle</th>\n",
       "      <th>layer</th>\n",
       "      <th>path</th>\n",
       "      <th>geometry</th>\n",
       "      <th>x</th>\n",
       "      <th>y</th>\n",
       "      <th>street_count</th>\n",
       "      <th>dist_museo</th>\n",
       "    </tr>\n",
       "    <tr>\n",
       "      <th>osmid</th>\n",
       "      <th></th>\n",
       "      <th></th>\n",
       "      <th></th>\n",
       "      <th></th>\n",
       "      <th></th>\n",
       "      <th></th>\n",
       "      <th></th>\n",
       "      <th></th>\n",
       "      <th></th>\n",
       "      <th></th>\n",
       "      <th></th>\n",
       "      <th></th>\n",
       "      <th></th>\n",
       "      <th></th>\n",
       "      <th></th>\n",
       "      <th></th>\n",
       "      <th></th>\n",
       "      <th></th>\n",
       "      <th></th>\n",
       "      <th></th>\n",
       "      <th></th>\n",
       "    </tr>\n",
       "  </thead>\n",
       "  <tbody>\n",
       "    <tr>\n",
       "      <th>2.350148e+12</th>\n",
       "      <td>0</td>\n",
       "      <td>0.0</td>\n",
       "      <td>Tepeyac</td>\n",
       "      <td>BRT (Bus Rapid Transit)</td>\n",
       "      <td>Superficie</td>\n",
       "      <td>En proceso</td>\n",
       "      <td>Mi Macro Perif�rico</td>\n",
       "      <td>NaN</td>\n",
       "      <td>NaN</td>\n",
       "      <td>None</td>\n",
       "      <td>...</td>\n",
       "      <td>NaN</td>\n",
       "      <td>NaN</td>\n",
       "      <td>NaN</td>\n",
       "      <td>Estaciones_MiMacro</td>\n",
       "      <td>/home/edgar/SIG/ObsCds/Proyectos/Museo_Ciencia...</td>\n",
       "      <td>POINT (-103.44406 20.65003)</td>\n",
       "      <td>NaN</td>\n",
       "      <td>NaN</td>\n",
       "      <td>NaN</td>\n",
       "      <td>30.54624</td>\n",
       "    </tr>\n",
       "    <tr>\n",
       "      <th>2.352662e+12</th>\n",
       "      <td>1</td>\n",
       "      <td>1.0</td>\n",
       "      <td>Trompo Magico</td>\n",
       "      <td>BRT (Bus Rapid Transit)</td>\n",
       "      <td>Superficie</td>\n",
       "      <td>En proceso</td>\n",
       "      <td>Mi Macro Perif�rico</td>\n",
       "      <td>NaN</td>\n",
       "      <td>NaN</td>\n",
       "      <td>None</td>\n",
       "      <td>...</td>\n",
       "      <td>NaN</td>\n",
       "      <td>NaN</td>\n",
       "      <td>NaN</td>\n",
       "      <td>Estaciones_MiMacro</td>\n",
       "      <td>/home/edgar/SIG/ObsCds/Proyectos/Museo_Ciencia...</td>\n",
       "      <td>POINT (-103.42059 20.72319)</td>\n",
       "      <td>NaN</td>\n",
       "      <td>NaN</td>\n",
       "      <td>NaN</td>\n",
       "      <td>15.34984</td>\n",
       "    </tr>\n",
       "  </tbody>\n",
       "</table>\n",
       "<p>2 rows × 26 columns</p>\n",
       "</div>"
      ],
      "text/plain": [
       "              level_0  index     Nombre_de_                  Sistema  \\\n",
       "osmid                                                                  \n",
       "2.350148e+12        0    0.0        Tepeyac  BRT (Bus Rapid Transit)   \n",
       "2.352662e+12        1    1.0  Trompo Magico  BRT (Bus Rapid Transit)   \n",
       "\n",
       "              Estructura      Estado           L�nea_y_si  fid  cat  \\\n",
       "osmid                                                                 \n",
       "2.350148e+12  Superficie  En proceso  Mi Macro Perif�rico  NaN  NaN   \n",
       "2.352662e+12  Superficie  En proceso  Mi Macro Perif�rico  NaN  NaN   \n",
       "\n",
       "             Tipo_de_se  ... vertex_p_1 distance  angle               layer  \\\n",
       "osmid                    ...                                                  \n",
       "2.350148e+12       None  ...        NaN      NaN    NaN  Estaciones_MiMacro   \n",
       "2.352662e+12       None  ...        NaN      NaN    NaN  Estaciones_MiMacro   \n",
       "\n",
       "                                                           path  \\\n",
       "osmid                                                             \n",
       "2.350148e+12  /home/edgar/SIG/ObsCds/Proyectos/Museo_Ciencia...   \n",
       "2.352662e+12  /home/edgar/SIG/ObsCds/Proyectos/Museo_Ciencia...   \n",
       "\n",
       "                                 geometry   x   y  street_count dist_museo  \n",
       "osmid                                                                       \n",
       "2.350148e+12  POINT (-103.44406 20.65003) NaN NaN           NaN   30.54624  \n",
       "2.352662e+12  POINT (-103.42059 20.72319) NaN NaN           NaN   15.34984  \n",
       "\n",
       "[2 rows x 26 columns]"
      ]
     },
     "execution_count": 71,
     "metadata": {},
     "output_type": "execute_result"
    }
   ],
   "source": [
    "print(paradas_dist.shape)\n",
    "paradas_dist.head(2)"
   ]
  },
  {
   "cell_type": "code",
   "execution_count": 74,
   "metadata": {
    "tags": []
   },
   "outputs": [
    {
     "data": {
      "text/plain": [
       "<AxesSubplot:>"
      ]
     },
     "execution_count": 74,
     "metadata": {},
     "output_type": "execute_result"
    },
    {
     "data": {
      "image/png": "[encoded data removed]",
      "text/plain": [
       "<Figure size 720x720 with 1 Axes>"
      ]
     },
     "metadata": {
      "needs_background": "light"
     },
     "output_type": "display_data"
    }
   ],
   "source": [
    "fig,ax = plt.subplots(figsize=(10,10))\n",
    "ax.axes.get_xaxis().set_visible(False)\n",
    "ax.axes.get_yaxis().set_visible(False)\n",
    "\n",
    "museo.plot(color='red', markersize=20, ax=ax, zorder=2)\n",
    "paradas_dist.loc[paradas_dist.dist_museo<=30].plot('dist_museo', markersize=3, ax=ax)"
   ]
  },
  {
   "cell_type": "markdown",
   "metadata": {},
   "source": [
    "## Save"
   ]
  },
  {
   "cell_type": "code",
   "execution_count": 89,
   "metadata": {},
   "outputs": [],
   "source": [
    "v = 1\n",
    "paradas_dist.to_file('/home/edgar/SIG/ObsCds/Proyectos/'+\n",
    "                     'Museo_CienciasAmbientales/Medio_Urbano/Analisis/'+\n",
    "                     f'nodesTime_PuertaSur_TransportePublico_AMG_v{v}.geojson',\n",
    "                    driver='GeoJSON')"
   ]
  },
  {
   "cell_type": "markdown",
   "metadata": {},
   "source": [
    "## Remueve paradas"
   ]
  },
  {
   "cell_type": "code",
   "execution_count": 76,
   "metadata": {},
   "outputs": [
    {
     "name": "stdout",
     "output_type": "stream",
     "text": [
      "(171955, 26)\n"
     ]
    },
    {
     "data": {
      "text/html": [
       "<div>\n",
       "<style scoped>\n",
       "    .dataframe tbody tr th:only-of-type {\n",
       "        vertical-align: middle;\n",
       "    }\n",
       "\n",
       "    .dataframe tbody tr th {\n",
       "        vertical-align: top;\n",
       "    }\n",
       "\n",
       "    .dataframe thead th {\n",
       "        text-align: right;\n",
       "    }\n",
       "</style>\n",
       "<table border=\"1\" class=\"dataframe\">\n",
       "  <thead>\n",
       "    <tr style=\"text-align: right;\">\n",
       "      <th></th>\n",
       "      <th>level_0</th>\n",
       "      <th>index</th>\n",
       "      <th>Nombre_de_</th>\n",
       "      <th>Sistema</th>\n",
       "      <th>Estructura</th>\n",
       "      <th>Estado</th>\n",
       "      <th>L�nea_y_si</th>\n",
       "      <th>fid</th>\n",
       "      <th>cat</th>\n",
       "      <th>Tipo_de_se</th>\n",
       "      <th>...</th>\n",
       "      <th>vertex_p_1</th>\n",
       "      <th>distance</th>\n",
       "      <th>angle</th>\n",
       "      <th>layer</th>\n",
       "      <th>path</th>\n",
       "      <th>geometry</th>\n",
       "      <th>x</th>\n",
       "      <th>y</th>\n",
       "      <th>street_count</th>\n",
       "      <th>tiempo_museo</th>\n",
       "    </tr>\n",
       "    <tr>\n",
       "      <th>osmid</th>\n",
       "      <th></th>\n",
       "      <th></th>\n",
       "      <th></th>\n",
       "      <th></th>\n",
       "      <th></th>\n",
       "      <th></th>\n",
       "      <th></th>\n",
       "      <th></th>\n",
       "      <th></th>\n",
       "      <th></th>\n",
       "      <th></th>\n",
       "      <th></th>\n",
       "      <th></th>\n",
       "      <th></th>\n",
       "      <th></th>\n",
       "      <th></th>\n",
       "      <th></th>\n",
       "      <th></th>\n",
       "      <th></th>\n",
       "      <th></th>\n",
       "      <th></th>\n",
       "    </tr>\n",
       "  </thead>\n",
       "  <tbody>\n",
       "    <tr>\n",
       "      <th>999999.0</th>\n",
       "      <td>1228</td>\n",
       "      <td>172089.0</td>\n",
       "      <td>NaN</td>\n",
       "      <td>NaN</td>\n",
       "      <td>NaN</td>\n",
       "      <td>NaN</td>\n",
       "      <td>NaN</td>\n",
       "      <td>NaN</td>\n",
       "      <td>NaN</td>\n",
       "      <td>NaN</td>\n",
       "      <td>...</td>\n",
       "      <td>NaN</td>\n",
       "      <td>NaN</td>\n",
       "      <td>NaN</td>\n",
       "      <td>NaN</td>\n",
       "      <td>NaN</td>\n",
       "      <td>POINT (-103.38122 20.73521)</td>\n",
       "      <td>-103.380963</td>\n",
       "      <td>20.735599</td>\n",
       "      <td>NaN</td>\n",
       "      <td>0.000000</td>\n",
       "    </tr>\n",
       "    <tr>\n",
       "      <th>28751344.0</th>\n",
       "      <td>1229</td>\n",
       "      <td>0.0</td>\n",
       "      <td>NaN</td>\n",
       "      <td>NaN</td>\n",
       "      <td>NaN</td>\n",
       "      <td>NaN</td>\n",
       "      <td>NaN</td>\n",
       "      <td>NaN</td>\n",
       "      <td>NaN</td>\n",
       "      <td>NaN</td>\n",
       "      <td>...</td>\n",
       "      <td>NaN</td>\n",
       "      <td>NaN</td>\n",
       "      <td>NaN</td>\n",
       "      <td>NaN</td>\n",
       "      <td>NaN</td>\n",
       "      <td>POINT (-103.30631 20.71153)</td>\n",
       "      <td>-103.306309</td>\n",
       "      <td>20.711533</td>\n",
       "      <td>3.0</td>\n",
       "      <td>32.170652</td>\n",
       "    </tr>\n",
       "  </tbody>\n",
       "</table>\n",
       "<p>2 rows × 26 columns</p>\n",
       "</div>"
      ],
      "text/plain": [
       "            level_0     index Nombre_de_ Sistema Estructura Estado L�nea_y_si  \\\n",
       "osmid                                                                           \n",
       "999999.0       1228  172089.0        NaN     NaN        NaN    NaN        NaN   \n",
       "28751344.0     1229       0.0        NaN     NaN        NaN    NaN        NaN   \n",
       "\n",
       "            fid  cat Tipo_de_se  ... vertex_p_1 distance  angle  layer  path  \\\n",
       "osmid                            ...                                           \n",
       "999999.0    NaN  NaN        NaN  ...        NaN      NaN    NaN    NaN   NaN   \n",
       "28751344.0  NaN  NaN        NaN  ...        NaN      NaN    NaN    NaN   NaN   \n",
       "\n",
       "                               geometry           x          y  street_count  \\\n",
       "osmid                                                                          \n",
       "999999.0    POINT (-103.38122 20.73521) -103.380963  20.735599           NaN   \n",
       "28751344.0  POINT (-103.30631 20.71153) -103.306309  20.711533           3.0   \n",
       "\n",
       "           tiempo_museo  \n",
       "osmid                    \n",
       "999999.0       0.000000  \n",
       "28751344.0    32.170652  \n",
       "\n",
       "[2 rows x 26 columns]"
      ]
     },
     "execution_count": 76,
     "metadata": {},
     "output_type": "execute_result"
    }
   ],
   "source": [
    "idx = paradas_dist.Ruta_id.isna()\n",
    "nodos_tiempo_museo = paradas_dist[idx].copy()\n",
    "nodos_tiempo_museo.rename(columns={'dist_museo':'tiempo_museo'}, inplace=True)\n",
    "print(nodos_tiempo_museo.shape)\n",
    "nodos_tiempo_museo.head(2)"
   ]
  },
  {
   "cell_type": "markdown",
   "metadata": {},
   "source": [
    "## Agrupar por hexágonos"
   ]
  },
  {
   "cell_type": "markdown",
   "metadata": {},
   "source": [
    "### Descarga de límite municipal"
   ]
  },
  {
   "cell_type": "code",
   "execution_count": 77,
   "metadata": {},
   "outputs": [],
   "source": [
    "df = pd.read_json(\"../scripts/Metropolis_CVE.json\")\n",
    "mpos_folder = 'mpos_2020'\n",
    "hex_folder = 'hexgrid_9'\n",
    "mun_gdf = gpd.GeoDataFrame()\n",
    "hex_gdf = gpd.GeoDataFrame()"
   ]
  },
  {
   "cell_type": "code",
   "execution_count": 78,
   "metadata": {},
   "outputs": [],
   "source": [
    "#Download agebs, hexgrid and municipality figures\n",
    "for c in df.columns.unique():\n",
    "    if c == 'Guadalajara':\n",
    "        mun_gdf = gpd.GeoDataFrame()\n",
    "        hex_gdf = gpd.GeoDataFrame()\n",
    "        for i in range(len(df.loc[\"mpos\", c])):\n",
    "            # Extracts specific municipality code\n",
    "            m = df.loc[\"mpos\", c][i]\n",
    "            # Downloads municipality polygon according to code\n",
    "            query = f\"SELECT * FROM marco.{mpos_folder} WHERE \\\"CVEGEO\\\" LIKE \\'{m}\\'\"\n",
    "            mun_gdf = mun_gdf.append(aup.gdf_from_query(query, geometry_col='geometry'))"
   ]
  },
  {
   "cell_type": "code",
   "execution_count": 79,
   "metadata": {},
   "outputs": [],
   "source": [
    "mun_gdf = mun_gdf.to_crs(\"EPSG:4326\")"
   ]
  },
  {
   "cell_type": "code",
   "execution_count": 80,
   "metadata": {},
   "outputs": [],
   "source": [
    "mun_gdf = mun_gdf.reset_index().drop(columns='index')"
   ]
  },
  {
   "cell_type": "code",
   "execution_count": 81,
   "metadata": {},
   "outputs": [],
   "source": [
    "res = 9\n",
    "hex_gdf = aup.create_hexgrid(mun_gdf, res)"
   ]
  },
  {
   "cell_type": "code",
   "execution_count": 82,
   "metadata": {},
   "outputs": [
    {
     "data": {
      "text/plain": [
       "<AxesSubplot:>"
      ]
     },
     "execution_count": 82,
     "metadata": {},
     "output_type": "execute_result"
    },
    {
     "data": {
      "image/png": "[encoded data removed]",
      "text/plain": [
       "<Figure size 432x288 with 1 Axes>"
      ]
     },
     "metadata": {
      "needs_background": "light"
     },
     "output_type": "display_data"
    }
   ],
   "source": [
    "hex_gdf.plot()"
   ]
  },
  {
   "cell_type": "code",
   "execution_count": 83,
   "metadata": {},
   "outputs": [],
   "source": [
    "hex_gdf = hex_gdf.to_crs(\"EPSG:4326\")"
   ]
  },
  {
   "cell_type": "code",
   "execution_count": 84,
   "metadata": {},
   "outputs": [
    {
     "name": "stdout",
     "output_type": "stream",
     "text": [
      "(28610, 17)\n"
     ]
    },
    {
     "data": {
      "text/html": [
       "<div>\n",
       "<style scoped>\n",
       "    .dataframe tbody tr th:only-of-type {\n",
       "        vertical-align: middle;\n",
       "    }\n",
       "\n",
       "    .dataframe tbody tr th {\n",
       "        vertical-align: top;\n",
       "    }\n",
       "\n",
       "    .dataframe thead th {\n",
       "        text-align: right;\n",
       "    }\n",
       "</style>\n",
       "<table border=\"1\" class=\"dataframe\">\n",
       "  <thead>\n",
       "    <tr style=\"text-align: right;\">\n",
       "      <th></th>\n",
       "      <th>hex_id_9</th>\n",
       "      <th>geometry</th>\n",
       "      <th>level_0</th>\n",
       "      <th>index</th>\n",
       "      <th>fid</th>\n",
       "      <th>cat</th>\n",
       "      <th>Ruta_id</th>\n",
       "      <th>vertex_pos</th>\n",
       "      <th>vertex_ind</th>\n",
       "      <th>vertex_par</th>\n",
       "      <th>vertex_p_1</th>\n",
       "      <th>distance</th>\n",
       "      <th>angle</th>\n",
       "      <th>x</th>\n",
       "      <th>y</th>\n",
       "      <th>street_count</th>\n",
       "      <th>tiempo_museo</th>\n",
       "    </tr>\n",
       "  </thead>\n",
       "  <tbody>\n",
       "    <tr>\n",
       "      <th>0</th>\n",
       "      <td>8949aa26c33ffff</td>\n",
       "      <td>POLYGON ((-103.56408 20.42232, -103.56287 20.4...</td>\n",
       "      <td>0.0</td>\n",
       "      <td>0.0</td>\n",
       "      <td>0.0</td>\n",
       "      <td>0.0</td>\n",
       "      <td>0.0</td>\n",
       "      <td>0.0</td>\n",
       "      <td>0.0</td>\n",
       "      <td>0.0</td>\n",
       "      <td>0.0</td>\n",
       "      <td>0.0</td>\n",
       "      <td>0.0</td>\n",
       "      <td>0.0</td>\n",
       "      <td>0.0</td>\n",
       "      <td>0.0</td>\n",
       "      <td>0.0</td>\n",
       "    </tr>\n",
       "    <tr>\n",
       "      <th>1</th>\n",
       "      <td>8949abc9183ffff</td>\n",
       "      <td>POLYGON ((-103.60846 20.38988, -103.60725 20.3...</td>\n",
       "      <td>0.0</td>\n",
       "      <td>0.0</td>\n",
       "      <td>0.0</td>\n",
       "      <td>0.0</td>\n",
       "      <td>0.0</td>\n",
       "      <td>0.0</td>\n",
       "      <td>0.0</td>\n",
       "      <td>0.0</td>\n",
       "      <td>0.0</td>\n",
       "      <td>0.0</td>\n",
       "      <td>0.0</td>\n",
       "      <td>0.0</td>\n",
       "      <td>0.0</td>\n",
       "      <td>0.0</td>\n",
       "      <td>0.0</td>\n",
       "    </tr>\n",
       "  </tbody>\n",
       "</table>\n",
       "</div>"
      ],
      "text/plain": [
       "          hex_id_9                                           geometry  \\\n",
       "0  8949aa26c33ffff  POLYGON ((-103.56408 20.42232, -103.56287 20.4...   \n",
       "1  8949abc9183ffff  POLYGON ((-103.60846 20.38988, -103.60725 20.3...   \n",
       "\n",
       "   level_0  index  fid  cat  Ruta_id  vertex_pos  vertex_ind  vertex_par  \\\n",
       "0      0.0    0.0  0.0  0.0      0.0         0.0         0.0         0.0   \n",
       "1      0.0    0.0  0.0  0.0      0.0         0.0         0.0         0.0   \n",
       "\n",
       "   vertex_p_1  distance  angle    x    y  street_count  tiempo_museo  \n",
       "0         0.0       0.0    0.0  0.0  0.0           0.0           0.0  \n",
       "1         0.0       0.0    0.0  0.0  0.0           0.0           0.0  "
      ]
     },
     "execution_count": 84,
     "metadata": {},
     "output_type": "execute_result"
    }
   ],
   "source": [
    "hex_time = aup.group_by_hex_mean(nodos_tiempo_museo.reset_index(), hex_gdf, 9, 'tiempo_museo')\n",
    "print(hex_time.shape)\n",
    "hex_time.head(2)"
   ]
  },
  {
   "cell_type": "code",
   "execution_count": 87,
   "metadata": {},
   "outputs": [
    {
     "data": {
      "text/plain": [
       "<AxesSubplot:>"
      ]
     },
     "execution_count": 87,
     "metadata": {},
     "output_type": "execute_result"
    },
    {
     "data": {
      "image/png": "[encoded data removed]",
      "text/plain": [
       "<Figure size 720x720 with 1 Axes>"
      ]
     },
     "metadata": {
      "needs_background": "light"
     },
     "output_type": "display_data"
    }
   ],
   "source": [
    "fig,ax = plt.subplots(figsize=(10,10))\n",
    "ax.axes.get_xaxis().set_visible(False)\n",
    "ax.axes.get_yaxis().set_visible(False)\n",
    "\n",
    "museo.plot(color='red', markersize=20, ax=ax, zorder=2)\n",
    "#paradas_dist.loc[paradas_dist.dist_museo<=30]\n",
    "hex_time.loc[(hex_time.tiempo_museo>0)&(hex_time.tiempo_museo<=30)].plot('tiempo_museo', ax=ax)"
   ]
  },
  {
   "cell_type": "code",
   "execution_count": 88,
   "metadata": {},
   "outputs": [],
   "source": [
    "hex_time.loc[hex_time.tiempo_museo>0].to_file('/home/edgar/SIG/ObsCds/'+\n",
    "                                              'Proyectos/Museo_CienciasAmbientales/Medio_Urbano/Analisis/'+\n",
    "                                              f'hexTime_PuertaSur_TransportePublico_AMG_v{v}.geojson',\n",
    "                    driver='GeoJSON')"
   ]
  },
  {
   "cell_type": "markdown",
   "metadata": {},
   "source": [
    "### Save routes"
   ]
  },
  {
   "cell_type": "code",
   "execution_count": 135,
   "metadata": {},
   "outputs": [],
   "source": [
    "rutas_nx_filtro.to_file(f'/home/edgar/SIG/ObsCds/Proyectos/Museo_CienciasAmbientales/Medio_Urbano/Analisis/TransportePublico_Museo_v{v}.geojson',\n",
    "                    driver='GeoJSON')"
   ]
  },
  {
   "cell_type": "markdown",
   "metadata": {},
   "source": [
    "### Save edges connections"
   ]
  },
  {
   "cell_type": "code",
   "execution_count": 136,
   "metadata": {},
   "outputs": [],
   "source": [
    "rutas_nx_edges_all.to_file(f'/home/edgar/SIG/ObsCds/Proyectos/Museo_CienciasAmbientales/Medio_Urbano/Analisis/edges_analysis_v{v}.geojson',\n",
    "                    driver='GeoJSON')"
   ]
  },
  {
   "cell_type": "code",
   "execution_count": null,
   "metadata": {},
   "outputs": [],
   "source": []
  }
 ],
 "metadata": {
  "kernelspec": {
   "display_name": "Python 3",
   "language": "python",
   "name": "python3"
  },
  "language_info": {
   "codemirror_mode": {
    "name": "ipython",
    "version": 3
   },
   "file_extension": ".py",
   "mimetype": "text/x-python",
   "name": "python",
   "nbconvert_exporter": "python",
   "pygments_lexer": "ipython3",
   "version": "3.8.12"
  }
 },
 "nbformat": 4,
 "nbformat_minor": 4
}
