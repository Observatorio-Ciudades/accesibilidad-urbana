{
 "cells": [
  {
   "cell_type": "code",
   "execution_count": 23,
   "metadata": {},
   "outputs": [],
   "source": [
    "import geopandas as gpd\n",
    "import numpy as np\n",
    "import pandas as pd\n",
    "from shapely.geometry import Point\n",
    "import osmnx as ox\n",
    "\n",
    "import os\n",
    "import sys\n",
    "module_path = os.path.abspath(os.path.join('..'))\n",
    "if module_path not in sys.path:\n",
    "    sys.path.append(module_path)\n",
    "    import aup"
   ]
  },
  {
   "cell_type": "code",
   "execution_count": 24,
   "metadata": {
    "tags": []
   },
   "outputs": [
    {
     "name": "stdout",
     "output_type": "stream",
     "text": [
      "(172090, 5)\n"
     ]
    },
    {
     "data": {
      "text/html": [
       "<div>\n",
       "<style scoped>\n",
       "    .dataframe tbody tr th:only-of-type {\n",
       "        vertical-align: middle;\n",
       "    }\n",
       "\n",
       "    .dataframe tbody tr th {\n",
       "        vertical-align: top;\n",
       "    }\n",
       "\n",
       "    .dataframe thead th {\n",
       "        text-align: right;\n",
       "    }\n",
       "</style>\n",
       "<table border=\"1\" class=\"dataframe\">\n",
       "  <thead>\n",
       "    <tr style=\"text-align: right;\">\n",
       "      <th></th>\n",
       "      <th>osmid</th>\n",
       "      <th>x</th>\n",
       "      <th>y</th>\n",
       "      <th>street_count</th>\n",
       "      <th>geometry</th>\n",
       "    </tr>\n",
       "  </thead>\n",
       "  <tbody>\n",
       "    <tr>\n",
       "      <th>0</th>\n",
       "      <td>28751344</td>\n",
       "      <td>-103.306309</td>\n",
       "      <td>20.711533</td>\n",
       "      <td>3.0</td>\n",
       "      <td>POINT (-103.30631 20.71153)</td>\n",
       "    </tr>\n",
       "    <tr>\n",
       "      <th>1</th>\n",
       "      <td>28753224</td>\n",
       "      <td>-103.316645</td>\n",
       "      <td>20.700650</td>\n",
       "      <td>3.0</td>\n",
       "      <td>POINT (-103.31665 20.70065)</td>\n",
       "    </tr>\n",
       "  </tbody>\n",
       "</table>\n",
       "</div>"
      ],
      "text/plain": [
       "      osmid           x          y  street_count                     geometry\n",
       "0  28751344 -103.306309  20.711533           3.0  POINT (-103.30631 20.71153)\n",
       "1  28753224 -103.316645  20.700650           3.0  POINT (-103.31665 20.70065)"
      ]
     },
     "execution_count": 24,
     "metadata": {},
     "output_type": "execute_result"
    }
   ],
   "source": [
    "nodes = gpd.read_file('/home/edgar/SIG/ObsCds/Proyectos/Museo_CienciasAmbientales/Medio_Urbano/Vias_Transporte/nodes_AMG.geojson', driver='GeoJSON')\n",
    "print(nodes.shape)\n",
    "nodes.head(2)"
   ]
  },
  {
   "cell_type": "code",
   "execution_count": 25,
   "metadata": {},
   "outputs": [
    {
     "name": "stdout",
     "output_type": "stream",
     "text": [
      "(414773, 16)\n"
     ]
    },
    {
     "data": {
      "text/html": [
       "<div>\n",
       "<style scoped>\n",
       "    .dataframe tbody tr th:only-of-type {\n",
       "        vertical-align: middle;\n",
       "    }\n",
       "\n",
       "    .dataframe tbody tr th {\n",
       "        vertical-align: top;\n",
       "    }\n",
       "\n",
       "    .dataframe thead th {\n",
       "        text-align: right;\n",
       "    }\n",
       "</style>\n",
       "<table border=\"1\" class=\"dataframe\">\n",
       "  <thead>\n",
       "    <tr style=\"text-align: right;\">\n",
       "      <th></th>\n",
       "      <th>id</th>\n",
       "      <th>u</th>\n",
       "      <th>v</th>\n",
       "      <th>key</th>\n",
       "      <th>osmid</th>\n",
       "      <th>oneway</th>\n",
       "      <th>length</th>\n",
       "      <th>grade</th>\n",
       "      <th>grade_abs</th>\n",
       "      <th>bridge</th>\n",
       "      <th>junction</th>\n",
       "      <th>service</th>\n",
       "      <th>tunnel</th>\n",
       "      <th>walkspeed</th>\n",
       "      <th>time_min</th>\n",
       "      <th>geometry</th>\n",
       "    </tr>\n",
       "  </thead>\n",
       "  <tbody>\n",
       "    <tr>\n",
       "      <th>0</th>\n",
       "      <td>-1.922695e+09</td>\n",
       "      <td>1.680913e+09</td>\n",
       "      <td>1.680913e+09</td>\n",
       "      <td>0.0</td>\n",
       "      <td>155732288</td>\n",
       "      <td>False</td>\n",
       "      <td>45.603</td>\n",
       "      <td>0.022</td>\n",
       "      <td>0.022</td>\n",
       "      <td>None</td>\n",
       "      <td>None</td>\n",
       "      <td>None</td>\n",
       "      <td>None</td>\n",
       "      <td>3.703559</td>\n",
       "      <td>0.738797</td>\n",
       "      <td>LINESTRING (-103.25834 20.68905, -103.25844 20...</td>\n",
       "    </tr>\n",
       "    <tr>\n",
       "      <th>1</th>\n",
       "      <td>-1.922105e+09</td>\n",
       "      <td>4.343498e+09</td>\n",
       "      <td>4.343498e+09</td>\n",
       "      <td>0.0</td>\n",
       "      <td>436461417</td>\n",
       "      <td>False</td>\n",
       "      <td>141.661</td>\n",
       "      <td>0.042</td>\n",
       "      <td>0.042</td>\n",
       "      <td>None</td>\n",
       "      <td>None</td>\n",
       "      <td>None</td>\n",
       "      <td>None</td>\n",
       "      <td>3.453176</td>\n",
       "      <td>2.461404</td>\n",
       "      <td>LINESTRING (-103.19724 20.66496, -103.19742 20...</td>\n",
       "    </tr>\n",
       "  </tbody>\n",
       "</table>\n",
       "</div>"
      ],
      "text/plain": [
       "             id             u             v  key      osmid oneway   length  \\\n",
       "0 -1.922695e+09  1.680913e+09  1.680913e+09  0.0  155732288  False   45.603   \n",
       "1 -1.922105e+09  4.343498e+09  4.343498e+09  0.0  436461417  False  141.661   \n",
       "\n",
       "   grade  grade_abs bridge junction service tunnel  walkspeed  time_min  \\\n",
       "0  0.022      0.022   None     None    None   None   3.703559  0.738797   \n",
       "1  0.042      0.042   None     None    None   None   3.453176  2.461404   \n",
       "\n",
       "                                            geometry  \n",
       "0  LINESTRING (-103.25834 20.68905, -103.25844 20...  \n",
       "1  LINESTRING (-103.19724 20.66496, -103.19742 20...  "
      ]
     },
     "execution_count": 25,
     "metadata": {},
     "output_type": "execute_result"
    }
   ],
   "source": [
    "edges = gpd.read_file('/home/edgar/SIG/ObsCds/Proyectos/Museo_CienciasAmbientales/Medio_Urbano/Vias_Transporte/edges_speed_AMG.geojson', driver='GeoJSON')\n",
    "print(edges.shape)\n",
    "edges.head(2)"
   ]
  },
  {
   "cell_type": "code",
   "execution_count": 26,
   "metadata": {},
   "outputs": [
    {
     "name": "stdout",
     "output_type": "stream",
     "text": [
      "(414772, 16)\n"
     ]
    },
    {
     "data": {
      "text/html": [
       "<div>\n",
       "<style scoped>\n",
       "    .dataframe tbody tr th:only-of-type {\n",
       "        vertical-align: middle;\n",
       "    }\n",
       "\n",
       "    .dataframe tbody tr th {\n",
       "        vertical-align: top;\n",
       "    }\n",
       "\n",
       "    .dataframe thead th {\n",
       "        text-align: right;\n",
       "    }\n",
       "</style>\n",
       "<table border=\"1\" class=\"dataframe\">\n",
       "  <thead>\n",
       "    <tr style=\"text-align: right;\">\n",
       "      <th></th>\n",
       "      <th>id</th>\n",
       "      <th>u</th>\n",
       "      <th>v</th>\n",
       "      <th>key</th>\n",
       "      <th>osmid</th>\n",
       "      <th>oneway</th>\n",
       "      <th>length</th>\n",
       "      <th>grade</th>\n",
       "      <th>grade_abs</th>\n",
       "      <th>bridge</th>\n",
       "      <th>junction</th>\n",
       "      <th>service</th>\n",
       "      <th>tunnel</th>\n",
       "      <th>walkspeed</th>\n",
       "      <th>time_min</th>\n",
       "      <th>geometry</th>\n",
       "    </tr>\n",
       "  </thead>\n",
       "  <tbody>\n",
       "    <tr>\n",
       "      <th>0</th>\n",
       "      <td>-1.922695e+09</td>\n",
       "      <td>1.680913e+09</td>\n",
       "      <td>1.680913e+09</td>\n",
       "      <td>0.0</td>\n",
       "      <td>155732288</td>\n",
       "      <td>False</td>\n",
       "      <td>45.603</td>\n",
       "      <td>0.022</td>\n",
       "      <td>0.022</td>\n",
       "      <td>None</td>\n",
       "      <td>None</td>\n",
       "      <td>None</td>\n",
       "      <td>None</td>\n",
       "      <td>3.703559</td>\n",
       "      <td>0.738797</td>\n",
       "      <td>LINESTRING (-103.25834 20.68905, -103.25844 20...</td>\n",
       "    </tr>\n",
       "    <tr>\n",
       "      <th>1</th>\n",
       "      <td>-1.922105e+09</td>\n",
       "      <td>4.343498e+09</td>\n",
       "      <td>4.343498e+09</td>\n",
       "      <td>0.0</td>\n",
       "      <td>436461417</td>\n",
       "      <td>False</td>\n",
       "      <td>141.661</td>\n",
       "      <td>0.042</td>\n",
       "      <td>0.042</td>\n",
       "      <td>None</td>\n",
       "      <td>None</td>\n",
       "      <td>None</td>\n",
       "      <td>None</td>\n",
       "      <td>3.453176</td>\n",
       "      <td>2.461404</td>\n",
       "      <td>LINESTRING (-103.19724 20.66496, -103.19742 20...</td>\n",
       "    </tr>\n",
       "  </tbody>\n",
       "</table>\n",
       "</div>"
      ],
      "text/plain": [
       "             id             u             v  key      osmid oneway   length  \\\n",
       "0 -1.922695e+09  1.680913e+09  1.680913e+09  0.0  155732288  False   45.603   \n",
       "1 -1.922105e+09  4.343498e+09  4.343498e+09  0.0  436461417  False  141.661   \n",
       "\n",
       "   grade  grade_abs bridge junction service tunnel  walkspeed  time_min  \\\n",
       "0  0.022      0.022   None     None    None   None   3.703559  0.738797   \n",
       "1  0.042      0.042   None     None    None   None   3.453176  2.461404   \n",
       "\n",
       "                                            geometry  \n",
       "0  LINESTRING (-103.25834 20.68905, -103.25844 20...  \n",
       "1  LINESTRING (-103.19724 20.66496, -103.19742 20...  "
      ]
     },
     "execution_count": 26,
     "metadata": {},
     "output_type": "execute_result"
    }
   ],
   "source": [
    "edges = edges[~edges.u.isna()].copy()\n",
    "print(edges.shape)\n",
    "edges.head(2)"
   ]
  },
  {
   "cell_type": "code",
   "execution_count": 27,
   "metadata": {},
   "outputs": [],
   "source": [
    "museo = nodes.loc[nodes.osmid==999999].copy()"
   ]
  },
  {
   "cell_type": "code",
   "execution_count": 28,
   "metadata": {},
   "outputs": [],
   "source": [
    "nodes_analysis = nodes.set_index('osmid')\n",
    "edges_analysis = edges.set_index(['u','v','key'])"
   ]
  },
  {
   "cell_type": "code",
   "execution_count": 29,
   "metadata": {},
   "outputs": [],
   "source": [
    "nodes_dist = aup.calculate_distance_nearest_poi(museo, nodes_analysis, \n",
    "                edges_analysis, 'museo', 'osmid', wght='time_min')"
   ]
  },
  {
   "cell_type": "code",
   "execution_count": 30,
   "metadata": {},
   "outputs": [],
   "source": [
    "nodes_dist.rename(columns={'dist_museo':'time_museo'}, inplace=True)"
   ]
  },
  {
   "cell_type": "code",
   "execution_count": 31,
   "metadata": {},
   "outputs": [],
   "source": [
    "nodes_dist.to_file('/home/edgar/SIG/ObsCds/Proyectos/Museo_CienciasAmbientales/Medio_Urbano/Analisis/nodes_time_AMG_NewConect.geojson', driver='GeoJSON')"
   ]
  },
  {
   "cell_type": "code",
   "execution_count": 32,
   "metadata": {},
   "outputs": [
    {
     "name": "stdout",
     "output_type": "stream",
     "text": [
      "(5205, 3)\n"
     ]
    },
    {
     "data": {
      "text/html": [
       "<div>\n",
       "<style scoped>\n",
       "    .dataframe tbody tr th:only-of-type {\n",
       "        vertical-align: middle;\n",
       "    }\n",
       "\n",
       "    .dataframe tbody tr th {\n",
       "        vertical-align: top;\n",
       "    }\n",
       "\n",
       "    .dataframe thead th {\n",
       "        text-align: right;\n",
       "    }\n",
       "</style>\n",
       "<table border=\"1\" class=\"dataframe\">\n",
       "  <thead>\n",
       "    <tr style=\"text-align: right;\">\n",
       "      <th></th>\n",
       "      <th>hex_id_8</th>\n",
       "      <th>CVEGEO</th>\n",
       "      <th>geometry</th>\n",
       "    </tr>\n",
       "  </thead>\n",
       "  <tbody>\n",
       "    <tr>\n",
       "      <th>0</th>\n",
       "      <td>88498cd6b5fffff</td>\n",
       "      <td>14001</td>\n",
       "      <td>POLYGON ((-102.89959 20.75324, -102.89907 20.7...</td>\n",
       "    </tr>\n",
       "    <tr>\n",
       "      <th>1</th>\n",
       "      <td>88498c99edfffff</td>\n",
       "      <td>14001</td>\n",
       "      <td>POLYGON ((-102.94697 20.69376, -102.94243 20.6...</td>\n",
       "    </tr>\n",
       "  </tbody>\n",
       "</table>\n",
       "</div>"
      ],
      "text/plain": [
       "          hex_id_8 CVEGEO                                           geometry\n",
       "0  88498cd6b5fffff  14001  POLYGON ((-102.89959 20.75324, -102.89907 20.7...\n",
       "1  88498c99edfffff  14001  POLYGON ((-102.94697 20.69376, -102.94243 20.6..."
      ]
     },
     "execution_count": 32,
     "metadata": {},
     "output_type": "execute_result"
    }
   ],
   "source": [
    "hex_gdf = gpd.read_file('/home/edgar/SIG/ObsCds/Proyectos/Museo_CienciasAmbientales/Area_Estudio/Hex_AMG.geojson', driver='GeoJSON')\n",
    "print(hex_gdf.shape)\n",
    "hex_gdf.head(2)"
   ]
  },
  {
   "cell_type": "code",
   "execution_count": 33,
   "metadata": {},
   "outputs": [],
   "source": [
    "nodes_dist.reset_index(inplace=True)\n",
    "nodes_dist = nodes_dist.set_crs(\"EPSG:4326\")\n",
    "hex_gdf = hex_gdf.set_crs(\"EPSG:4326\")\n",
    "col_name = 'time_museo'\n",
    "hex_dist = aup.group_by_hex_mean(nodes_dist, hex_gdf, 8, col_name)"
   ]
  },
  {
   "cell_type": "code",
   "execution_count": 34,
   "metadata": {},
   "outputs": [],
   "source": [
    "hex_gdf = hex_gdf.merge(hex_dist[['hex_id_8',col_name]], \n",
    "on='hex_id_8')"
   ]
  },
  {
   "cell_type": "code",
   "execution_count": 35,
   "metadata": {},
   "outputs": [
    {
     "data": {
      "text/html": [
       "<div>\n",
       "<style scoped>\n",
       "    .dataframe tbody tr th:only-of-type {\n",
       "        vertical-align: middle;\n",
       "    }\n",
       "\n",
       "    .dataframe tbody tr th {\n",
       "        vertical-align: top;\n",
       "    }\n",
       "\n",
       "    .dataframe thead th {\n",
       "        text-align: right;\n",
       "    }\n",
       "</style>\n",
       "<table border=\"1\" class=\"dataframe\">\n",
       "  <thead>\n",
       "    <tr style=\"text-align: right;\">\n",
       "      <th></th>\n",
       "      <th>hex_id_8</th>\n",
       "      <th>CVEGEO</th>\n",
       "      <th>geometry</th>\n",
       "      <th>time_museo</th>\n",
       "    </tr>\n",
       "  </thead>\n",
       "  <tbody>\n",
       "    <tr>\n",
       "      <th>0</th>\n",
       "      <td>88498cd6b5fffff</td>\n",
       "      <td>14001</td>\n",
       "      <td>POLYGON ((-102.89959 20.75324, -102.89907 20.7...</td>\n",
       "      <td>0.000000</td>\n",
       "    </tr>\n",
       "    <tr>\n",
       "      <th>1</th>\n",
       "      <td>88498c99edfffff</td>\n",
       "      <td>14001</td>\n",
       "      <td>POLYGON ((-102.94697 20.69376, -102.94243 20.6...</td>\n",
       "      <td>0.000000</td>\n",
       "    </tr>\n",
       "    <tr>\n",
       "      <th>2</th>\n",
       "      <td>88498c993bfffff</td>\n",
       "      <td>14001</td>\n",
       "      <td>POLYGON ((-102.94697 20.69376, -102.94645 20.6...</td>\n",
       "      <td>0.000000</td>\n",
       "    </tr>\n",
       "    <tr>\n",
       "      <th>3</th>\n",
       "      <td>88498c8a07fffff</td>\n",
       "      <td>14001</td>\n",
       "      <td>POLYGON ((-103.00449 20.78276, -103.00956 20.7...</td>\n",
       "      <td>0.000000</td>\n",
       "    </tr>\n",
       "    <tr>\n",
       "      <th>4</th>\n",
       "      <td>88498cd6edfffff</td>\n",
       "      <td>14001</td>\n",
       "      <td>POLYGON ((-102.88529 20.70739, -102.88477 20.7...</td>\n",
       "      <td>0.000000</td>\n",
       "    </tr>\n",
       "    <tr>\n",
       "      <th>...</th>\n",
       "      <td>...</td>\n",
       "      <td>...</td>\n",
       "      <td>...</td>\n",
       "      <td>...</td>\n",
       "    </tr>\n",
       "    <tr>\n",
       "      <th>5200</th>\n",
       "      <td>88498c98d5fffff</td>\n",
       "      <td>14124</td>\n",
       "      <td>POLYGON ((-103.05428 20.69941, -103.04974 20.7...</td>\n",
       "      <td>783.320079</td>\n",
       "    </tr>\n",
       "    <tr>\n",
       "      <th>5201</th>\n",
       "      <td>88498c815bfffff</td>\n",
       "      <td>14124</td>\n",
       "      <td>POLYGON ((-103.11272 20.74897, -103.10817 20.7...</td>\n",
       "      <td>701.173334</td>\n",
       "    </tr>\n",
       "    <tr>\n",
       "      <th>5202</th>\n",
       "      <td>8849aa6e89fffff</td>\n",
       "      <td>14124</td>\n",
       "      <td>POLYGON ((-102.93286 20.55354, -102.93234 20.5...</td>\n",
       "      <td>982.078083</td>\n",
       "    </tr>\n",
       "    <tr>\n",
       "      <th>5203</th>\n",
       "      <td>88498c9901fffff</td>\n",
       "      <td>14124</td>\n",
       "      <td>POLYGON ((-102.93423 20.66349, -102.92968 20.6...</td>\n",
       "      <td>975.653643</td>\n",
       "    </tr>\n",
       "    <tr>\n",
       "      <th>5204</th>\n",
       "      <td>88498c9511fffff</td>\n",
       "      <td>14124</td>\n",
       "      <td>POLYGON ((-103.26340 20.70318, -103.25886 20.7...</td>\n",
       "      <td>0.000000</td>\n",
       "    </tr>\n",
       "  </tbody>\n",
       "</table>\n",
       "<p>5205 rows × 4 columns</p>\n",
       "</div>"
      ],
      "text/plain": [
       "             hex_id_8 CVEGEO  \\\n",
       "0     88498cd6b5fffff  14001   \n",
       "1     88498c99edfffff  14001   \n",
       "2     88498c993bfffff  14001   \n",
       "3     88498c8a07fffff  14001   \n",
       "4     88498cd6edfffff  14001   \n",
       "...               ...    ...   \n",
       "5200  88498c98d5fffff  14124   \n",
       "5201  88498c815bfffff  14124   \n",
       "5202  8849aa6e89fffff  14124   \n",
       "5203  88498c9901fffff  14124   \n",
       "5204  88498c9511fffff  14124   \n",
       "\n",
       "                                               geometry  time_museo  \n",
       "0     POLYGON ((-102.89959 20.75324, -102.89907 20.7...    0.000000  \n",
       "1     POLYGON ((-102.94697 20.69376, -102.94243 20.6...    0.000000  \n",
       "2     POLYGON ((-102.94697 20.69376, -102.94645 20.6...    0.000000  \n",
       "3     POLYGON ((-103.00449 20.78276, -103.00956 20.7...    0.000000  \n",
       "4     POLYGON ((-102.88529 20.70739, -102.88477 20.7...    0.000000  \n",
       "...                                                 ...         ...  \n",
       "5200  POLYGON ((-103.05428 20.69941, -103.04974 20.7...  783.320079  \n",
       "5201  POLYGON ((-103.11272 20.74897, -103.10817 20.7...  701.173334  \n",
       "5202  POLYGON ((-102.93286 20.55354, -102.93234 20.5...  982.078083  \n",
       "5203  POLYGON ((-102.93423 20.66349, -102.92968 20.6...  975.653643  \n",
       "5204  POLYGON ((-103.26340 20.70318, -103.25886 20.7...    0.000000  \n",
       "\n",
       "[5205 rows x 4 columns]"
      ]
     },
     "execution_count": 35,
     "metadata": {},
     "output_type": "execute_result"
    }
   ],
   "source": [
    "hex_gdf"
   ]
  },
  {
   "cell_type": "code",
   "execution_count": 36,
   "metadata": {},
   "outputs": [],
   "source": [
    "hex_gdf.loc[hex_gdf.time_museo>0].to_file('/home/edgar/SIG/ObsCds/Proyectos/Museo_CienciasAmbientales/Medio_Urbano/Analisis/hex_time_AMG.geojson', driver='GeoJSON')"
   ]
  },
  {
   "cell_type": "code",
   "execution_count": 37,
   "metadata": {},
   "outputs": [],
   "source": [
    "mun_gdf = gpd.read_file('/home/edgar/SIG/ObsCds/Proyectos/Museo_CienciasAmbientales/Limites_Politicos/AMG_Jalisco12_UTM_v1.shp', driver='ESRIShapefile')"
   ]
  },
  {
   "cell_type": "code",
   "execution_count": 38,
   "metadata": {},
   "outputs": [],
   "source": [
    "mun_gdf = mun_gdf.to_crs(\"EPSG:4326\")"
   ]
  },
  {
   "cell_type": "code",
   "execution_count": 39,
   "metadata": {},
   "outputs": [
    {
     "name": "stdout",
     "output_type": "stream",
     "text": [
      "(171941, 6)\n"
     ]
    },
    {
     "data": {
      "text/html": [
       "<div>\n",
       "<style scoped>\n",
       "    .dataframe tbody tr th:only-of-type {\n",
       "        vertical-align: middle;\n",
       "    }\n",
       "\n",
       "    .dataframe tbody tr th {\n",
       "        vertical-align: top;\n",
       "    }\n",
       "\n",
       "    .dataframe thead th {\n",
       "        text-align: right;\n",
       "    }\n",
       "</style>\n",
       "<table border=\"1\" class=\"dataframe\">\n",
       "  <thead>\n",
       "    <tr style=\"text-align: right;\">\n",
       "      <th></th>\n",
       "      <th>osmid</th>\n",
       "      <th>x</th>\n",
       "      <th>y</th>\n",
       "      <th>street_count</th>\n",
       "      <th>time_museo</th>\n",
       "      <th>geometry</th>\n",
       "    </tr>\n",
       "  </thead>\n",
       "  <tbody>\n",
       "    <tr>\n",
       "      <th>0</th>\n",
       "      <td>28751344</td>\n",
       "      <td>-103.306309</td>\n",
       "      <td>20.711533</td>\n",
       "      <td>3.0</td>\n",
       "      <td>145.197878</td>\n",
       "      <td>POINT (-103.30631 20.71153)</td>\n",
       "    </tr>\n",
       "    <tr>\n",
       "      <th>1</th>\n",
       "      <td>28753224</td>\n",
       "      <td>-103.316645</td>\n",
       "      <td>20.700650</td>\n",
       "      <td>3.0</td>\n",
       "      <td>140.750865</td>\n",
       "      <td>POINT (-103.31665 20.70065)</td>\n",
       "    </tr>\n",
       "  </tbody>\n",
       "</table>\n",
       "</div>"
      ],
      "text/plain": [
       "      osmid           x          y  street_count  time_museo  \\\n",
       "0  28751344 -103.306309  20.711533           3.0  145.197878   \n",
       "1  28753224 -103.316645  20.700650           3.0  140.750865   \n",
       "\n",
       "                      geometry  \n",
       "0  POINT (-103.30631 20.71153)  \n",
       "1  POINT (-103.31665 20.70065)  "
      ]
     },
     "execution_count": 39,
     "metadata": {},
     "output_type": "execute_result"
    }
   ],
   "source": [
    "nodes = gpd.read_file('/home/edgar/SIG/ObsCds/Proyectos/Museo_CienciasAmbientales/Medio_Urbano/Analisis/nodes_time_AMG_NewConect.geojson', driver='GeoJSON')\n",
    "print(nodes.shape)\n",
    "nodes.head(2)"
   ]
  },
  {
   "cell_type": "code",
   "execution_count": 40,
   "metadata": {},
   "outputs": [],
   "source": [
    "res = 9\n",
    "hex_gdf = aup.create_hexgrid(mun_gdf, res)"
   ]
  },
  {
   "cell_type": "code",
   "execution_count": 41,
   "metadata": {},
   "outputs": [],
   "source": [
    "nodes_dist = nodes.copy()\n",
    "#nodes_dist.reset_index(inplace=True)\n",
    "nodes_dist = nodes_dist.set_crs(\"EPSG:4326\")\n",
    "hex_gdf = hex_gdf.set_crs(\"EPSG:4326\")\n",
    "col_name = 'time_museo'\n",
    "hex_dist = aup.group_by_hex_mean(nodes_dist, hex_gdf, res, col_name)"
   ]
  },
  {
   "cell_type": "code",
   "execution_count": 42,
   "metadata": {},
   "outputs": [],
   "source": [
    "hex_gdf = hex_gdf.merge(hex_dist[[f'hex_id_{res}',col_name]], \n",
    "on=f'hex_id_{res}')"
   ]
  },
  {
   "cell_type": "code",
   "execution_count": 43,
   "metadata": {},
   "outputs": [
    {
     "data": {
      "text/html": [
       "<div>\n",
       "<style scoped>\n",
       "    .dataframe tbody tr th:only-of-type {\n",
       "        vertical-align: middle;\n",
       "    }\n",
       "\n",
       "    .dataframe tbody tr th {\n",
       "        vertical-align: top;\n",
       "    }\n",
       "\n",
       "    .dataframe thead th {\n",
       "        text-align: right;\n",
       "    }\n",
       "</style>\n",
       "<table border=\"1\" class=\"dataframe\">\n",
       "  <thead>\n",
       "    <tr style=\"text-align: right;\">\n",
       "      <th></th>\n",
       "      <th>hex_id_9</th>\n",
       "      <th>geometry</th>\n",
       "      <th>time_museo</th>\n",
       "    </tr>\n",
       "  </thead>\n",
       "  <tbody>\n",
       "    <tr>\n",
       "      <th>0</th>\n",
       "      <td>89498c95523ffff</td>\n",
       "      <td>POLYGON ((-103.27106 20.69008, -103.26984 20.6...</td>\n",
       "      <td>221.124577</td>\n",
       "    </tr>\n",
       "    <tr>\n",
       "      <th>1</th>\n",
       "      <td>89498c9732fffff</td>\n",
       "      <td>POLYGON ((-103.27311 20.66965, -103.27189 20.6...</td>\n",
       "      <td>244.371072</td>\n",
       "    </tr>\n",
       "    <tr>\n",
       "      <th>2</th>\n",
       "      <td>89498c969d7ffff</td>\n",
       "      <td>POLYGON ((-103.39540 20.68491, -103.39418 20.6...</td>\n",
       "      <td>107.712977</td>\n",
       "    </tr>\n",
       "    <tr>\n",
       "      <th>3</th>\n",
       "      <td>89498c96e93ffff</td>\n",
       "      <td>POLYGON ((-103.36033 20.65455, -103.35911 20.6...</td>\n",
       "      <td>167.156440</td>\n",
       "    </tr>\n",
       "    <tr>\n",
       "      <th>4</th>\n",
       "      <td>89498c95cdbffff</td>\n",
       "      <td>POLYGON ((-103.27531 20.71104, -103.27409 20.7...</td>\n",
       "      <td>0.000000</td>\n",
       "    </tr>\n",
       "    <tr>\n",
       "      <th>...</th>\n",
       "      <td>...</td>\n",
       "      <td>...</td>\n",
       "      <td>...</td>\n",
       "    </tr>\n",
       "    <tr>\n",
       "      <th>26178</th>\n",
       "      <td>89498c911a7ffff</td>\n",
       "      <td>POLYGON ((-103.12986 20.61135, -103.12864 20.6...</td>\n",
       "      <td>0.000000</td>\n",
       "    </tr>\n",
       "    <tr>\n",
       "      <th>26179</th>\n",
       "      <td>89498c9addbffff</td>\n",
       "      <td>POLYGON ((-103.08306 20.63489, -103.08184 20.6...</td>\n",
       "      <td>699.545645</td>\n",
       "    </tr>\n",
       "    <tr>\n",
       "      <th>26180</th>\n",
       "      <td>89498c98e43ffff</td>\n",
       "      <td>POLYGON ((-103.00988 20.69909, -103.00866 20.7...</td>\n",
       "      <td>0.000000</td>\n",
       "    </tr>\n",
       "    <tr>\n",
       "      <th>26181</th>\n",
       "      <td>89498c9968bffff</td>\n",
       "      <td>POLYGON ((-102.91380 20.64631, -102.91257 20.6...</td>\n",
       "      <td>0.000000</td>\n",
       "    </tr>\n",
       "    <tr>\n",
       "      <th>26182</th>\n",
       "      <td>8949aa65107ffff</td>\n",
       "      <td>POLYGON ((-102.97475 20.51591, -102.97353 20.5...</td>\n",
       "      <td>0.000000</td>\n",
       "    </tr>\n",
       "  </tbody>\n",
       "</table>\n",
       "<p>26183 rows × 3 columns</p>\n",
       "</div>"
      ],
      "text/plain": [
       "              hex_id_9                                           geometry  \\\n",
       "0      89498c95523ffff  POLYGON ((-103.27106 20.69008, -103.26984 20.6...   \n",
       "1      89498c9732fffff  POLYGON ((-103.27311 20.66965, -103.27189 20.6...   \n",
       "2      89498c969d7ffff  POLYGON ((-103.39540 20.68491, -103.39418 20.6...   \n",
       "3      89498c96e93ffff  POLYGON ((-103.36033 20.65455, -103.35911 20.6...   \n",
       "4      89498c95cdbffff  POLYGON ((-103.27531 20.71104, -103.27409 20.7...   \n",
       "...                ...                                                ...   \n",
       "26178  89498c911a7ffff  POLYGON ((-103.12986 20.61135, -103.12864 20.6...   \n",
       "26179  89498c9addbffff  POLYGON ((-103.08306 20.63489, -103.08184 20.6...   \n",
       "26180  89498c98e43ffff  POLYGON ((-103.00988 20.69909, -103.00866 20.7...   \n",
       "26181  89498c9968bffff  POLYGON ((-102.91380 20.64631, -102.91257 20.6...   \n",
       "26182  8949aa65107ffff  POLYGON ((-102.97475 20.51591, -102.97353 20.5...   \n",
       "\n",
       "       time_museo  \n",
       "0      221.124577  \n",
       "1      244.371072  \n",
       "2      107.712977  \n",
       "3      167.156440  \n",
       "4        0.000000  \n",
       "...           ...  \n",
       "26178    0.000000  \n",
       "26179  699.545645  \n",
       "26180    0.000000  \n",
       "26181    0.000000  \n",
       "26182    0.000000  \n",
       "\n",
       "[26183 rows x 3 columns]"
      ]
     },
     "execution_count": 43,
     "metadata": {},
     "output_type": "execute_result"
    }
   ],
   "source": [
    "hex_gdf"
   ]
  },
  {
   "cell_type": "code",
   "execution_count": 44,
   "metadata": {},
   "outputs": [],
   "source": [
    "hex_gdf.loc[hex_gdf.time_museo>0].to_file(f'/home/edgar/SIG/ObsCds/Proyectos/Museo_CienciasAmbientales/Medio_Urbano/Analisis/hex_{res}_time_AMG_NewConect_v2.geojson', driver='GeoJSON')"
   ]
  },
  {
   "cell_type": "code",
   "execution_count": null,
   "metadata": {},
   "outputs": [],
   "source": []
  }
 ],
 "metadata": {
  "kernelspec": {
   "display_name": "Python 3 (ipykernel)",
   "language": "python",
   "name": "python3"
  },
  "language_info": {
   "codemirror_mode": {
    "name": "ipython",
    "version": 3
   },
   "file_extension": ".py",
   "mimetype": "text/x-python",
   "name": "python",
   "nbconvert_exporter": "python",
   "pygments_lexer": "ipython3",
   "version": "3.9.10+"
  }
 },
 "nbformat": 4,
 "nbformat_minor": 4
}
