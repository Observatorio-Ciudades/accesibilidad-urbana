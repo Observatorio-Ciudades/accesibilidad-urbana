{
 "cells": [
  {
   "cell_type": "markdown",
   "id": "40440b93-e014-482e-83f9-94008ad3644d",
   "metadata": {},
   "source": [
    "# Geolocation of Guadalajara house and appartment prices"
   ]
  },
  {
   "cell_type": "markdown",
   "id": "78fc592d-7d77-4e2f-a59e-116b103c178a",
   "metadata": {},
   "source": [
    "## Importing modules"
   ]
  },
  {
   "cell_type": "code",
   "execution_count": 51,
   "id": "9d0bbe69-02a1-4cb3-b9f4-db25ec02ddd0",
   "metadata": {},
   "outputs": [],
   "source": [
    "import os\n",
    "import sys\n",
    "\n",
    "import pandas as pd\n",
    "import geopandas as gpd\n",
    "import osmnx aimport os\n",
    "import sys\n",
    "\n",
    "import pandas as pd\n",
    "import geopandas as gpd\n",
    "import osmnx as ox\n",
    "import numpy as np\n",
    "from shapely.geometry import Point\n",
    "import xlrd\n",
    "from tqdm import tqdm\n",
    "\n",
    "from geopy.geocoders import Nominatim\n",
    "from random import randint\n",
    "\n",
    "from difflib import SequenceMatcher\n",
    "\n",
    "import time\n",
    "\n",
    "import matplotlib.pyplot as plt\n",
    "\n",
    "import warnings\n",
    "warnings.simplefilter(action='ignore', category=FutureWarning)\n",
    "\n",
    "module_path = os.path.abspath(os.path.join('../../'))\n",
    "if module_path not in sys.path:\n",
    "    sys.path.append(module_path)\n",
    "    import aups ox\n",
    "import numpy as np\n",
    "from shapely.geometry import Point\n",
    "import xlrd\n",
    "from tqdm import tqdm\n",
    "\n",
    "from geopy.geocoders import Nominatim\n",
    "from random import randint\n",
    "\n",
    "from difflib import SequenceMatcher\n",
    "\n",
    "import time\n",
    "\n",
    "import matplotlib.pyplot as plt\n",
    "\n",
    "import warnings\n",
    "warnings.simplefilter(action='ignore', category=FutureWarning)\n",
    "\n",
    "module_path = os.path.abspath(os.path.join('../../'))\n",
    "if module_path not in sys.path:\n",
    "    sys.path.append(module_path)\n",
    "    import aup"
   ]
  },
  {
   "cell_type": "markdown",
   "id": "b66e731b-987c-4643-8743-27cf1e7a94e3",
   "metadata": {},
   "source": [
    "## Creating geolocator with Nominatim"
   ]
  },
  {
   "cell_type": "code",
   "execution_count": 2,
   "id": "08f08622-fcfb-46fd-bcbd-8e1ba524497b",
   "metadata": {},
   "outputs": [],
   "source": [
    "user_agent = 'user_me_{}'.format(randint(10000,99999))\n",
    "geolocator = Nominatim(user_agent=user_agent)"
   ]
  },
  {
   "cell_type": "markdown",
   "id": "306b38e6-25c4-4716-856c-bdccb198dd03",
   "metadata": {},
   "source": [
    "## Municipality dictionary"
   ]
  },
  {
   "cell_type": "markdown",
   "id": "467b07f0-7293-4b49-90fd-c23822cc1c44",
   "metadata": {},
   "source": [
    "Create municipality dictionary with codes according to colonias GeoDataFrame"
   ]
  },
  {
   "cell_type": "code",
   "execution_count": 81,
   "id": "231ad1cb-6093-49cf-b514-ad28246a8113",
   "metadata": {},
   "outputs": [],
   "source": [
    "mun_dict = {'zapopan':120,\n",
    "           'guadalajara':41,\n",
    "           'tlaquepaque':99,\n",
    "           'tonalá':102,\n",
    "            'tonala':102,\n",
    "           'el salto':72,\n",
    "           'zapotlanejo':124,\n",
    "           'juanacatlán':53,\n",
    "           'ixtlahuacán':46,\n",
    "           'tlajomulco':98}"
   ]
  },
  {
   "cell_type": "markdown",
   "id": "cfaa7d2f-1b5e-4840-94ad-61ad13a97e8f",
   "metadata": {},
   "source": [
    "## Text similarity function"
   ]
  },
  {
   "cell_type": "markdown",
   "id": "a6045735-0033-41f7-b569-3eacabdc2fc0",
   "metadata": {},
   "source": [
    "Creates a similarity function to analyze similarity between the neighborhood name of Colonias GeoDataFrame and the name of the neighborhood according to the price database."
   ]
  },
  {
   "cell_type": "code",
   "execution_count": 4,
   "id": "76b2d2a6-cd10-4f59-8a91-c74789aba329",
   "metadata": {},
   "outputs": [],
   "source": [
    "def similar(a, b):\n",
    "    return SequenceMatcher(None, a, b).ratio()"
   ]
  },
  {
   "cell_type": "markdown",
   "id": "60ca3d83-a9f6-4ecc-a44c-9218d030b113",
   "metadata": {
    "tags": []
   },
   "source": [
    "## Geocoding functions"
   ]
  },
  {
   "cell_type": "code",
   "execution_count": 5,
   "id": "c456b773-8082-4683-add2-55bc0c57b945",
   "metadata": {
    "tags": []
   },
   "outputs": [],
   "source": [
    "\n",
    "def neighborhood_geocode(df, colonias, selection_dict, skip_list):\n",
    "\n",
    "    # filters DataFrame and removes data with coordinates\n",
    "    # from a previous iteration (if it exist)\n",
    "    df_analysis = df.loc[df.x.isna()]\n",
    "\n",
    "    for i in tqdm(df_analysis.index.values, position=0, leave=True):\n",
    "\n",
    "        # skips empty features identified in previous iterations\n",
    "        if i in skip_list:\n",
    "            continue\n",
    "\n",
    "        # itera y obtiene colonia, municipio y crea una direccion\n",
    "        colonia = df_analysis.loc[df_analysis.index==i,'Colonia'].values[0]\n",
    "        municipio = df_analysis.loc[df_analysis.index==i,'Municipio'].values[0]\n",
    "        address = colonia + ', '+ municipio + ', Jalisco, Mexico'\n",
    "\n",
    "        # tries geocoding if it can't it skips it\n",
    "        try:\n",
    "            geocode = geolocator.geocode(address) # geocode\n",
    "        except:\n",
    "            skip_list.append(i)\n",
    "            continue\n",
    "\n",
    "        # revisa si se obtuvieron datos\n",
    "        if geocode is not None:\n",
    "            x,y = geocode[1][1], geocode[1][0]\n",
    "\n",
    "            # crea un punto con las coordenadas para estudiar el entorno\n",
    "            point_dict = {'geometry':[Point(x,y)]}\n",
    "            point_tmp = gpd.GeoDataFrame(\n",
    "                pd.DataFrame.from_dict(point_dict), \n",
    "                geometry='geometry').set_crs(\"EPSG:4326\")\n",
    "\n",
    "            # buffer a partir del punto\n",
    "            buffer = point_tmp.to_crs(\"EPSG:6372\").buffer(1500)\n",
    "            buffer = gpd.GeoDataFrame(buffer.to_crs(\"EPSG:4326\"))\n",
    "            buffer.rename(columns={0:'geometry'}, inplace=True)\n",
    "\n",
    "            # obtiene las colonias dentro del buffer\n",
    "            buffer_colonias = gpd.sjoin(buffer, colonias)\n",
    "\n",
    "            # continua solo si hay colonias dentro del buffer\n",
    "            if len(buffer_colonias) != 0:\n",
    "\n",
    "                # analiza similitud del nombre de la colonia en la que cayó el punto\n",
    "                # con el nombre de la colonia que se está buscando\n",
    "                point_colonia = gpd.sjoin(point_tmp, colonias)\n",
    "                try:\n",
    "                    point_colonia = point_colonia.reset_index(drop=True).loc[0]\n",
    "                except:\n",
    "                    continue\n",
    "                point_similairty = similar(colonia.lower(), point_colonia.NOMBRE)\n",
    "\n",
    "                # analiza similitud del nombre de las colonias dentro del buffer\n",
    "                # con el nombre de la colonia que se está buscando\n",
    "                buffer_colonias['similarity'] = buffer_colonias['NOMBRE'].apply(lambda x: similar(colonia.lower(), x))\n",
    "\n",
    "                # filtra a los nombres más parecidos\n",
    "                buffer_similar = buffer_colonias.sort_values('similarity', ascending=False).iloc[:3]\n",
    "                buffer_similar.reset_index(drop=True, inplace=True)\n",
    "\n",
    "                colonias_analisis = colonias.loc[colonias.MUNICIPIO==mun_dict[municipio.lower()]].copy()\n",
    "                # colonias_analisis['NOMBRE'] = colonias_analisis['NOMBRE'].apply(lambda x: x.lower())\n",
    "                colonias_analisis['similarity'] = colonias_analisis['NOMBRE'].apply(lambda x: similar(colonia.lower(), x))\n",
    "                colonias_similar = colonias_analisis.sort_values('similarity', ascending=False)\n",
    "                colonias_similar = colonias_similar.loc[colonias_similar.similarity>=0.65]\n",
    "                colonias_similar.reset_index(drop=True, inplace=True)\n",
    "\n",
    "                # primer analisis\n",
    "                # comparacion enrte colonias del punto y buffer\n",
    "                if point_similairty >= 0.90:\n",
    "                    id_colonia = point_colonia.ID\n",
    "\n",
    "                # analiza si hay un nombre dentro de colonias buffer\n",
    "                # que sea igual a la colonia que se busca\n",
    "                elif buffer_colonias.similarity.max() >= 0.90:\n",
    "                    id_colonia = buffer_similar.iloc[0].ID\n",
    "\n",
    "                # analiza si hay un nombre dentro de los nombres de colonias\n",
    "                # que sea igual a la colonia que se busca\n",
    "                elif colonias_similar.similarity.max() >= 0.90:\n",
    "                    id_colonia = colonias_similar.iloc[0].ID\n",
    "\n",
    "                # ofrece opciones al usuario\n",
    "                else:\n",
    "                    options = {}\n",
    "                    options['buffer'] = [x for x in buffer_similar.NOMBRE]\n",
    "                    options['point'] = [point_colonia.NOMBRE]\n",
    "                    options['colonias'] = [x for x in colonias_similar.NOMBRE]\n",
    "\n",
    "                    # analiza si es una colonia sobre la que ya se había hecho una seleccion\n",
    "                    # por usuario\n",
    "                    if colonia in selection_dict['buffer'].keys():\n",
    "                        id_colonia = buffer_similar.iloc[int(selection_dict['buffer'][colonia])-1].ID\n",
    "\n",
    "                    elif colonia in selection_dict['point'].keys():\n",
    "                        id_colonia = point_colonia.ID\n",
    "\n",
    "                    elif colonia in selection_dict['colonias'].keys():\n",
    "                        id_colonia = colonias_similar.iloc[int(selection_dict['colonias'][colonia])-1].ID\n",
    "\n",
    "                    elif colonia in selection_dict['none'].keys():\n",
    "                        continue\n",
    "\n",
    "                    # si no se ha preguntado sobre esa colonia se hace la pregunta\n",
    "                    else:\n",
    "\n",
    "                        print(colonia.lower(), options)\n",
    "\n",
    "                        user_selection = input('Write the option (buffer, point, colonias) , and the number (1,2,3..n) or none to skip')\n",
    "                        select_level = user_selection.split(',')[0]\n",
    "                        select_id = user_selection.split(',')[1]\n",
    "\n",
    "                        # guarda la seleccion del usuario\n",
    "                        selection_dict[select_level][colonia] = select_id\n",
    "\n",
    "                        # selecciona la colonia de acuerdo con la seleccion de usuario\n",
    "                        if select_level == 'buffer':\n",
    "                            id_colonia = buffer_similar.iloc[int(select_id)-1].ID\n",
    "\n",
    "                        elif select_level == 'point':\n",
    "                            id_colonia = point_colonia.ID\n",
    "\n",
    "                        elif select_level == 'colonias':\n",
    "                            id_colonia = colonias_similar.iloc[int(select_id)-1].ID\n",
    "\n",
    "                        elif select_level == 'none':\n",
    "                            continue\n",
    "\n",
    "                # filters neighborhood according to id\n",
    "                colonia_gdf = colonias.loc[colonias.ID==id_colonia,['ID','geometry']]\n",
    "\n",
    "                # creates polygon to download blocks from database\n",
    "                colonia_gdf = colonia_gdf.to_crs(\"EPSG:6372\")\n",
    "                buffer_colonia = gpd.GeoDataFrame(\n",
    "                    gpd.GeoDataFrame(\n",
    "                        colonia_gdf.buffer(1).reset_index(drop=True))).rename(columns={0:'geometry'})\n",
    "                buffer_colonia = buffer_colonia.to_crs(\"EPSG:4326\")\n",
    "                poly_wkt = buffer_colonia.dissolve().geometry.to_wkt()[0]\n",
    "\n",
    "                # download blocks from database\n",
    "                schema = 'censo'\n",
    "                folder = 'censo_mza_centroid_2020'\n",
    "                query = f\"SELECT cvegeo, geometry FROM {schema}.{folder} WHERE ST_Intersects(geometry, 'SRID=4326;{poly_wkt}')\"\n",
    "                colonia_blocks = aup.gdf_from_query(query, geometry_col=\"geometry\")\n",
    "\n",
    "                # analiza si se obtuvieron manzanas dentro de la colonia\n",
    "                if len(colonia_blocks) != 0:\n",
    "\n",
    "                    rndm_colonia_block = colonia_blocks.sample(1)\n",
    "\n",
    "                    x_colonia = rndm_colonia_block.geometry.x.values[0]\n",
    "                    y_colonia = rndm_colonia_block.geometry.y.values[0]\n",
    "\n",
    "                    df.loc[df.index==i,'x'] = x_colonia\n",
    "\n",
    "                    df.loc[df.index==i,'y'] = y_colonia\n",
    "\n",
    "        else:\n",
    "            skip_list.append(i)\n",
    "            \n",
    "    return df, selection_dict, skip_list\n"
   ]
  },
  {
   "cell_type": "markdown",
   "id": "873947a0-4577-4745-a353-97fb7842d7b8",
   "metadata": {
    "tags": []
   },
   "source": [
    "## Search for missing neighborhoods by name"
   ]
  },
  {
   "cell_type": "code",
   "execution_count": 110,
   "id": "401e43f2-2c58-4ed7-b7b0-07c2d4b8a3fc",
   "metadata": {},
   "outputs": [],
   "source": [
    "def name_geocode(df, colonias, selection_dict, skip_list):\n",
    "\n",
    "    df_analysis = df.loc[df.x.isna()]\n",
    "\n",
    "    for i in tqdm(df_analysis.index.values, position=0, leave=True):\n",
    "        \n",
    "        # skips empty features identified in previous iterations\n",
    "        if i in skip_list:\n",
    "            continue\n",
    "\n",
    "        # itera y obtiene colonia, municipio y crea una direccion\n",
    "        colonia = df_analysis.loc[df_analysis.index==i,'Colonia'].values[0]\n",
    "        municipio = df_analysis.loc[df_analysis.index==i,'Municipio'].values[0]\n",
    "\n",
    "        colonias_analisis = colonias.loc[colonias.MUNICIPIO==mun_dict[municipio.lower()]].copy()\n",
    "        # colonias_analisis['NOMBRE'] = colonias_analisis['NOMBRE'].apply(lambda x: x.lower())\n",
    "        colonias_analisis['similarity'] = colonias_analisis['NOMBRE'].apply(lambda x: similar(colonia.lower(), x))\n",
    "        colonias_similar = colonias_analisis.sort_values('similarity', ascending=False)\n",
    "        colonias_similar = colonias_similar.loc[colonias_similar.similarity>=0.65]\n",
    "        colonias_similar.reset_index(drop=True, inplace=True)\n",
    "\n",
    "        # analiza si hay un nombre dentro de los nombres de colonias\n",
    "        # que sea igual a la colonia que se busca\n",
    "        if colonias_similar.similarity.max() >= 0.90:\n",
    "            id_colonia = colonias_similar.iloc[0].ID\n",
    "\n",
    "            colonia_gdf = colonias.loc[colonias.ID==id_colonia,['ID','geometry']]\n",
    "\n",
    "            colonia_gdf = colonia_gdf.to_crs(\"EPSG:6372\")\n",
    "            buffer_colonia = gpd.GeoDataFrame(\n",
    "                gpd.GeoDataFrame(\n",
    "                    colonia_gdf.buffer(1).reset_index(drop=True))).rename(columns={0:'geometry'})\n",
    "            buffer_colonia = buffer_colonia.to_crs(\"EPSG:4326\")\n",
    "            poly_wkt = buffer_colonia.dissolve().geometry.to_wkt()[0]\n",
    "            \n",
    "            time.sleep(5) # add sleep time to avoid crash on server calls\n",
    "\n",
    "            schema = 'censo'\n",
    "            folder = 'censo_mza_centroid_2020'\n",
    "            query = f\"SELECT cvegeo, geometry FROM {schema}.{folder} WHERE ST_Intersects(geometry, 'SRID=4326;{poly_wkt}')\"\n",
    "            colonia_blocks = aup.gdf_from_query(query, geometry_col=\"geometry\")\n",
    "\n",
    "            # analiza si se obtuvieron manzanas dentro de la colonia\n",
    "            if len(colonia_blocks) != 0:\n",
    "\n",
    "                rndm_colonia_block = colonia_blocks.sample(1)\n",
    "\n",
    "                x_colonia = rndm_colonia_block.geometry.x.values[0]\n",
    "                y_colonia = rndm_colonia_block.geometry.y.values[0]\n",
    "\n",
    "                df.loc[df.index==i,'x'] = x_colonia\n",
    "\n",
    "                df.loc[df.index==i,'y'] = y_colonia\n",
    "                \n",
    "            else:\n",
    "                skip_list.append(i)\n",
    "                \n",
    "        else:\n",
    "            skip_list.append(i)\n",
    "\n",
    "    return df, selection_dict, skip_list\n",
    "    "
   ]
  },
  {
   "cell_type": "markdown",
   "id": "2268d66f-e083-4a25-a0f5-c1c136a69e2c",
   "metadata": {
    "tags": []
   },
   "source": [
    "## Reading Excel data"
   ]
  },
  {
   "cell_type": "markdown",
   "id": "6419ea9d-7741-4550-8f6e-475029035c29",
   "metadata": {},
   "source": [
    "### Neighborhood data according to IIEG"
   ]
  },
  {
   "cell_type": "code",
   "execution_count": 7,
   "id": "25aaee87-f97f-4e2b-bd6a-115d6e62ffed",
   "metadata": {},
   "outputs": [
    {
     "name": "stdout",
     "output_type": "stream",
     "text": [
      "(2324, 10)\n"
     ]
    },
    {
     "data": {
      "text/html": [
       "<div>\n",
       "<style scoped>\n",
       "    .dataframe tbody tr th:only-of-type {\n",
       "        vertical-align: middle;\n",
       "    }\n",
       "\n",
       "    .dataframe tbody tr th {\n",
       "        vertical-align: top;\n",
       "    }\n",
       "\n",
       "    .dataframe thead th {\n",
       "        text-align: right;\n",
       "    }\n",
       "</style>\n",
       "<table border=\"1\" class=\"dataframe\">\n",
       "  <thead>\n",
       "    <tr style=\"text-align: right;\">\n",
       "      <th></th>\n",
       "      <th>ID</th>\n",
       "      <th>ENTIDAD</th>\n",
       "      <th>MUNICIPIO</th>\n",
       "      <th>NOMBRE</th>\n",
       "      <th>CLASIFICAC</th>\n",
       "      <th>CP</th>\n",
       "      <th>OTROS_CP</th>\n",
       "      <th>CONTROL</th>\n",
       "      <th>Geometry1_</th>\n",
       "      <th>geometry</th>\n",
       "    </tr>\n",
       "  </thead>\n",
       "  <tbody>\n",
       "    <tr>\n",
       "      <th>0</th>\n",
       "      <td>1</td>\n",
       "      <td>14</td>\n",
       "      <td>41</td>\n",
       "      <td>lomas independencia</td>\n",
       "      <td>1</td>\n",
       "      <td>44370</td>\n",
       "      <td>None</td>\n",
       "      <td>1</td>\n",
       "      <td>1=X&lt;rg</td>\n",
       "      <td>MULTIPOLYGON (((-103.32323 20.69386, -103.3226...</td>\n",
       "    </tr>\n",
       "    <tr>\n",
       "      <th>1</th>\n",
       "      <td>2</td>\n",
       "      <td>14</td>\n",
       "      <td>41</td>\n",
       "      <td>postes cuates</td>\n",
       "      <td>2</td>\n",
       "      <td>44350</td>\n",
       "      <td>None</td>\n",
       "      <td>2</td>\n",
       "      <td>1=X&lt;rg</td>\n",
       "      <td>MULTIPOLYGON (((-103.32296 20.69387, -103.3228...</td>\n",
       "    </tr>\n",
       "  </tbody>\n",
       "</table>\n",
       "</div>"
      ],
      "text/plain": [
       "   ID  ENTIDAD  MUNICIPIO               NOMBRE  CLASIFICAC     CP OTROS_CP  \\\n",
       "0   1       14         41  lomas independencia           1  44370     None   \n",
       "1   2       14         41        postes cuates           2  44350     None   \n",
       "\n",
       "   CONTROL Geometry1_                                           geometry  \n",
       "0        1     1=X<rg  MULTIPOLYGON (((-103.32323 20.69386, -103.3226...  \n",
       "1        2     1=X<rg  MULTIPOLYGON (((-103.32296 20.69387, -103.3228...  "
      ]
     },
     "execution_count": 7,
     "metadata": {},
     "output_type": "execute_result"
    }
   ],
   "source": [
    "# abre gdf de colonias                \n",
    "dir_grl = '../../data/external/colonia_amg/'\n",
    "colonias = gpd.read_file(dir_grl+'colonias_amg.geojson', driver='GeoJSON')\n",
    "colonias['NOMBRE'] = colonias['NOMBRE'].apply(lambda x: x.lower())\n",
    "print(colonias.shape)\n",
    "colonias.head(2)"
   ]
  },
  {
   "cell_type": "markdown",
   "id": "e693bd21-cc96-45ca-a39a-896c9ad8e7c7",
   "metadata": {},
   "source": [
    "## Price data"
   ]
  },
  {
   "cell_type": "code",
   "execution_count": 105,
   "id": "03ad8df2-6aa9-4546-9af0-322cb6f00353",
   "metadata": {},
   "outputs": [
    {
     "name": "stdout",
     "output_type": "stream",
     "text": [
      "(22178, 4)\n"
     ]
    },
    {
     "data": {
      "text/html": [
       "<div>\n",
       "<style scoped>\n",
       "    .dataframe tbody tr th:only-of-type {\n",
       "        vertical-align: middle;\n",
       "    }\n",
       "\n",
       "    .dataframe tbody tr th {\n",
       "        vertical-align: top;\n",
       "    }\n",
       "\n",
       "    .dataframe thead th {\n",
       "        text-align: right;\n",
       "    }\n",
       "</style>\n",
       "<table border=\"1\" class=\"dataframe\">\n",
       "  <thead>\n",
       "    <tr style=\"text-align: right;\">\n",
       "      <th></th>\n",
       "      <th>Inmueble</th>\n",
       "      <th>Precio</th>\n",
       "      <th>Municipio</th>\n",
       "      <th>Colonia</th>\n",
       "    </tr>\n",
       "  </thead>\n",
       "  <tbody>\n",
       "    <tr>\n",
       "      <th>0</th>\n",
       "      <td>Casa</td>\n",
       "      <td>100000</td>\n",
       "      <td>ZAPOPAN</td>\n",
       "      <td>PUERTA DE HIERRO</td>\n",
       "    </tr>\n",
       "    <tr>\n",
       "      <th>1</th>\n",
       "      <td>Casa</td>\n",
       "      <td>100000</td>\n",
       "      <td>ZAPOPAN</td>\n",
       "      <td>PUERTA DE HIERRO</td>\n",
       "    </tr>\n",
       "  </tbody>\n",
       "</table>\n",
       "</div>"
      ],
      "text/plain": [
       "  Inmueble  Precio Municipio           Colonia\n",
       "0     Casa  100000   ZAPOPAN  PUERTA DE HIERRO\n",
       "1     Casa  100000   ZAPOPAN  PUERTA DE HIERRO"
      ]
     },
     "execution_count": 105,
     "metadata": {},
     "output_type": "execute_result"
    }
   ],
   "source": [
    "dir_grl = '../../data/raw/costo_vivienda/'\n",
    "sheet = 'Renta'\n",
    "year = '2021'\n",
    "df = pd.DataFrame()\n",
    "\n",
    "for file in os.listdir(dir_grl):\n",
    "\n",
    "        if file.endswith('.xlsx'):\n",
    "            if year in file:\n",
    "                data = pd.read_excel(dir_grl+file,\n",
    "                                   sheet_name=sheet,\n",
    "                                   skiprows=5)\n",
    "                df = pd.concat([df, data], ignore_index = True, axis = 0)\n",
    "                \n",
    "print(df.shape)\n",
    "df.head(2)"
   ]
  },
  {
   "cell_type": "code",
   "execution_count": 106,
   "id": "a71df6bb-15e0-4913-901b-5614f794ae16",
   "metadata": {},
   "outputs": [
    {
     "name": "stdout",
     "output_type": "stream",
     "text": [
      "(22178, 4)\n"
     ]
    },
    {
     "data": {
      "text/html": [
       "<div>\n",
       "<style scoped>\n",
       "    .dataframe tbody tr th:only-of-type {\n",
       "        vertical-align: middle;\n",
       "    }\n",
       "\n",
       "    .dataframe tbody tr th {\n",
       "        vertical-align: top;\n",
       "    }\n",
       "\n",
       "    .dataframe thead th {\n",
       "        text-align: right;\n",
       "    }\n",
       "</style>\n",
       "<table border=\"1\" class=\"dataframe\">\n",
       "  <thead>\n",
       "    <tr style=\"text-align: right;\">\n",
       "      <th></th>\n",
       "      <th>Inmueble</th>\n",
       "      <th>Precio</th>\n",
       "      <th>Municipio</th>\n",
       "      <th>Colonia</th>\n",
       "    </tr>\n",
       "  </thead>\n",
       "  <tbody>\n",
       "    <tr>\n",
       "      <th>0</th>\n",
       "      <td>Casa</td>\n",
       "      <td>100000</td>\n",
       "      <td>ZAPOPAN</td>\n",
       "      <td>PUERTA DE HIERRO</td>\n",
       "    </tr>\n",
       "    <tr>\n",
       "      <th>1</th>\n",
       "      <td>Casa</td>\n",
       "      <td>100000</td>\n",
       "      <td>ZAPOPAN</td>\n",
       "      <td>PUERTA DE HIERRO</td>\n",
       "    </tr>\n",
       "  </tbody>\n",
       "</table>\n",
       "</div>"
      ],
      "text/plain": [
       "  Inmueble  Precio Municipio           Colonia\n",
       "0     Casa  100000   ZAPOPAN  PUERTA DE HIERRO\n",
       "1     Casa  100000   ZAPOPAN  PUERTA DE HIERRO"
      ]
     },
     "execution_count": 106,
     "metadata": {},
     "output_type": "execute_result"
    }
   ],
   "source": [
    "df = df[df.columns.to_list()[:6]].copy()\n",
    "print(df.shape)\n",
    "df.head(2)"
   ]
  },
  {
   "cell_type": "markdown",
   "id": "dcad7312-c071-4a29-b766-6a0da1568aa9",
   "metadata": {
    "tags": []
   },
   "source": [
    "## Removing empty neighborhood rows"
   ]
  },
  {
   "cell_type": "code",
   "execution_count": 107,
   "id": "bd6b81e1-0096-466b-b186-9e5a9919d623",
   "metadata": {},
   "outputs": [
    {
     "name": "stdout",
     "output_type": "stream",
     "text": [
      "(12567, 6)\n"
     ]
    }
   ],
   "source": [
    "idx = df.Colonia.isna()\n",
    "df = df[~idx]\n",
    "\n",
    "# crea las columnas para guardar coordenadas de la venta\n",
    "df['x'] = np.nan\n",
    "df['y'] = np.nan\n",
    "print(df.shape)"
   ]
  },
  {
   "cell_type": "markdown",
   "id": "63b40896-fe35-4b9d-90c7-36618f9f5fb1",
   "metadata": {},
   "source": [
    "## Using functions for geocoding"
   ]
  },
  {
   "cell_type": "markdown",
   "id": "95b568e4-ace0-4e46-8285-09b148636e16",
   "metadata": {},
   "source": [
    "Defining variables for function"
   ]
  },
  {
   "cell_type": "code",
   "execution_count": 78,
   "id": "ba6008e5-da22-403b-8f4c-7ff300cc5160",
   "metadata": {},
   "outputs": [
    {
     "data": {
      "text/plain": [
       "{'buffer': {},\n",
       " 'point': {'ALBATERRA': ' 1'},\n",
       " 'colonias': {'MAGAÑA': '1'},\n",
       " 'none': {}}"
      ]
     },
     "execution_count": 78,
     "metadata": {},
     "output_type": "execute_result"
    }
   ],
   "source": [
    "selection_dict"
   ]
  },
  {
   "cell_type": "code",
   "execution_count": 108,
   "id": "57016268-a44a-4b38-bf66-0869caeb5c12",
   "metadata": {},
   "outputs": [],
   "source": [
    "# dictionary that saves user selections for\n",
    "# neighborhood options\n",
    "selection_dict = {'buffer':{},\n",
    "                  'point':{},\n",
    "                 'colonias':{},\n",
    "                 'none':{}}\n",
    "# selections from a previous iteration\n",
    "selection_dict = {'buffer': {'PARQUE INDUSTRIAL EL ALAMO': ' 1'},\n",
    " 'point': {'MIRADOR DEL BOSQUE': ' 1',\n",
    "  'ALBATERRA': ' 1',\n",
    "  'BOSQUES': ' 1',\n",
    "  'EL MORAL II': ' 1',\n",
    "  'PUNTA VALDEPEÑAS': ' 1',\n",
    "  'CAÑADAS': ' 1'},\n",
    " 'colonias': {'MAGAÑA': ' 1', 'DR ATLAS': ' 1', 'EL ALAMO': ' 3'},\n",
    " 'none': {'VERDE VALLE': ' 0',\n",
    "  'LA MOJONERA': ' 0',\n",
    "  'AUREA': ' 0',\n",
    "  'ZENITH': ' 0',\n",
    "  'VISTA SUR': ' 0',\n",
    "  'LAS PINTITAS': ' 0',\n",
    "  'EL SERENO': ' 0',\n",
    "  'VILLAS DEL PRADO': ' 0',\n",
    "  'LAS PINTAS': ' 0',\n",
    "  'HACIENDA COPALA': ' 0',\n",
    "  'MONTES': ' 0'}}\n",
    "\n",
    "# list with id of neighborhood not found\n",
    "skip_list = []"
   ]
  },
  {
   "cell_type": "markdown",
   "id": "92d1ee0e-6980-4394-8ce3-7fdc1f9782da",
   "metadata": {},
   "source": [
    "Runing geocoding function"
   ]
  },
  {
   "cell_type": "code",
   "execution_count": 109,
   "id": "60f6694e-aba5-44ca-82b4-049a650aefa4",
   "metadata": {},
   "outputs": [
    {
     "name": "stderr",
     "output_type": "stream",
     "text": [
      " 31%|███████████████████▌                                          | 3956/12567 [2:24:32<3:16:05,  1.37s/it]"
     ]
    },
    {
     "name": "stdout",
     "output_type": "stream",
     "text": [
      "artesanos {'buffer': ['arandas', 'oblatos', 'balcones de oblatos'], 'point': ['circunvalacion oblatos'], 'colonias': []}\n"
     ]
    },
    {
     "name": "stdin",
     "output_type": "stream",
     "text": [
      "Write the option (buffer, point, colonias) , and the number (1,2,3..n) or none to skip none, 0\n"
     ]
    },
    {
     "name": "stderr",
     "output_type": "stream",
     "text": [
      "100%|██████████████████████████████████████████████████████████████| 12567/12567 [10:14:28<00:00,  2.93s/it]"
     ]
    },
    {
     "name": "stdout",
     "output_type": "stream",
     "text": [
      "(12567, 6)\n"
     ]
    },
    {
     "name": "stderr",
     "output_type": "stream",
     "text": [
      "\n"
     ]
    },
    {
     "data": {
      "text/html": [
       "<div>\n",
       "<style scoped>\n",
       "    .dataframe tbody tr th:only-of-type {\n",
       "        vertical-align: middle;\n",
       "    }\n",
       "\n",
       "    .dataframe tbody tr th {\n",
       "        vertical-align: top;\n",
       "    }\n",
       "\n",
       "    .dataframe thead th {\n",
       "        text-align: right;\n",
       "    }\n",
       "</style>\n",
       "<table border=\"1\" class=\"dataframe\">\n",
       "  <thead>\n",
       "    <tr style=\"text-align: right;\">\n",
       "      <th></th>\n",
       "      <th>Inmueble</th>\n",
       "      <th>Precio</th>\n",
       "      <th>Municipio</th>\n",
       "      <th>Colonia</th>\n",
       "      <th>x</th>\n",
       "      <th>y</th>\n",
       "    </tr>\n",
       "  </thead>\n",
       "  <tbody>\n",
       "    <tr>\n",
       "      <th>0</th>\n",
       "      <td>Casa</td>\n",
       "      <td>100000</td>\n",
       "      <td>ZAPOPAN</td>\n",
       "      <td>PUERTA DE HIERRO</td>\n",
       "      <td>-103.413663</td>\n",
       "      <td>20.713033</td>\n",
       "    </tr>\n",
       "    <tr>\n",
       "      <th>1</th>\n",
       "      <td>Casa</td>\n",
       "      <td>100000</td>\n",
       "      <td>ZAPOPAN</td>\n",
       "      <td>PUERTA DE HIERRO</td>\n",
       "      <td>-103.413494</td>\n",
       "      <td>20.709439</td>\n",
       "    </tr>\n",
       "  </tbody>\n",
       "</table>\n",
       "</div>"
      ],
      "text/plain": [
       "  Inmueble  Precio Municipio           Colonia           x          y\n",
       "0     Casa  100000   ZAPOPAN  PUERTA DE HIERRO -103.413663  20.713033\n",
       "1     Casa  100000   ZAPOPAN  PUERTA DE HIERRO -103.413494  20.709439"
      ]
     },
     "execution_count": 109,
     "metadata": {},
     "output_type": "execute_result"
    }
   ],
   "source": [
    "df, selection_dict, skip_list = neighborhood_geocode(df, colonias, selection_dict, skip_list)\n",
    "print(df.shape)\n",
    "df.head(2)"
   ]
  },
  {
   "cell_type": "markdown",
   "id": "534a2d2e-1c7e-4c61-a2ba-c69e1ee06e18",
   "metadata": {},
   "source": [
    "´Runing name function"
   ]
  },
  {
   "cell_type": "code",
   "execution_count": 111,
   "id": "dfd3c015-4c74-4845-a3ec-184c1fb48c1f",
   "metadata": {
    "tags": []
   },
   "outputs": [
    {
     "name": "stderr",
     "output_type": "stream",
     "text": [
      "100%|███████████████████████████████████████████████████████████████████| 1042/1042 [27:41<00:00,  1.59s/it]"
     ]
    },
    {
     "name": "stdout",
     "output_type": "stream",
     "text": [
      "(12567, 6)\n"
     ]
    },
    {
     "name": "stderr",
     "output_type": "stream",
     "text": [
      "\n"
     ]
    },
    {
     "data": {
      "text/html": [
       "<div>\n",
       "<style scoped>\n",
       "    .dataframe tbody tr th:only-of-type {\n",
       "        vertical-align: middle;\n",
       "    }\n",
       "\n",
       "    .dataframe tbody tr th {\n",
       "        vertical-align: top;\n",
       "    }\n",
       "\n",
       "    .dataframe thead th {\n",
       "        text-align: right;\n",
       "    }\n",
       "</style>\n",
       "<table border=\"1\" class=\"dataframe\">\n",
       "  <thead>\n",
       "    <tr style=\"text-align: right;\">\n",
       "      <th></th>\n",
       "      <th>Inmueble</th>\n",
       "      <th>Precio</th>\n",
       "      <th>Municipio</th>\n",
       "      <th>Colonia</th>\n",
       "      <th>x</th>\n",
       "      <th>y</th>\n",
       "    </tr>\n",
       "  </thead>\n",
       "  <tbody>\n",
       "    <tr>\n",
       "      <th>0</th>\n",
       "      <td>Casa</td>\n",
       "      <td>100000</td>\n",
       "      <td>ZAPOPAN</td>\n",
       "      <td>PUERTA DE HIERRO</td>\n",
       "      <td>-103.413663</td>\n",
       "      <td>20.713033</td>\n",
       "    </tr>\n",
       "    <tr>\n",
       "      <th>1</th>\n",
       "      <td>Casa</td>\n",
       "      <td>100000</td>\n",
       "      <td>ZAPOPAN</td>\n",
       "      <td>PUERTA DE HIERRO</td>\n",
       "      <td>-103.413494</td>\n",
       "      <td>20.709439</td>\n",
       "    </tr>\n",
       "  </tbody>\n",
       "</table>\n",
       "</div>"
      ],
      "text/plain": [
       "  Inmueble  Precio Municipio           Colonia           x          y\n",
       "0     Casa  100000   ZAPOPAN  PUERTA DE HIERRO -103.413663  20.713033\n",
       "1     Casa  100000   ZAPOPAN  PUERTA DE HIERRO -103.413494  20.709439"
      ]
     },
     "execution_count": 111,
     "metadata": {},
     "output_type": "execute_result"
    }
   ],
   "source": [
    "# skip_list = []\n",
    "df, selection_dict, skip_list = name_geocode(df, colonias, selection_dict, skip_list)\n",
    "print(df.shape)\n",
    "df.head(2)"
   ]
  },
  {
   "cell_type": "markdown",
   "id": "d2525464-2560-40b1-aebc-2c761e67973b",
   "metadata": {},
   "source": [
    "## to GeoDataFrame"
   ]
  },
  {
   "cell_type": "code",
   "execution_count": 112,
   "id": "a31cae20-619d-4459-94cd-a349cddb72dd",
   "metadata": {},
   "outputs": [
    {
     "name": "stdout",
     "output_type": "stream",
     "text": [
      "(11681, 7)\n"
     ]
    }
   ],
   "source": [
    "idx = df.x.isna()\n",
    "df_to_gdf = df.loc[~idx]\n",
    "gdf = gpd.GeoDataFrame(\n",
    "    df_to_gdf, \n",
    "    geometry=gpd.points_from_xy(df_to_gdf.x, df_to_gdf.y))\n",
    "print(gdf.shape)"
   ]
  },
  {
   "cell_type": "code",
   "execution_count": 113,
   "id": "3fc24483-d28b-4868-b5bd-728f2c5c0ad3",
   "metadata": {},
   "outputs": [
    {
     "data": {
      "text/plain": [
       "<AxesSubplot:>"
      ]
     },
     "execution_count": 113,
     "metadata": {},
     "output_type": "execute_result"
    },
    {
     "data": {
      "image/png": "[encoded data removed]",
      "text/plain": [
       "<Figure size 720x720 with 1 Axes>"
      ]
     },
     "metadata": {
      "needs_background": "light"
     },
     "output_type": "display_data"
    }
   ],
   "source": [
    "fig, ax = plt.subplots(figsize=(10,10))\n",
    "gdf.plot('Precio', markersize=5, ax=ax)"
   ]
  },
  {
   "cell_type": "markdown",
   "id": "bc714d8a-7ae8-4e08-bfe0-2aa4ef6553f1",
   "metadata": {},
   "source": [
    "## Saving data"
   ]
  },
  {
   "cell_type": "code",
   "execution_count": 114,
   "id": "b20a906a-2a9c-4fdc-8e56-19fc9e1ce5f3",
   "metadata": {},
   "outputs": [],
   "source": [
    "dir_grl = '/home/edgaregurrola/SIG/ObsCds/Proyectos/Costo_Vivienda/Medio_Urbano/Costo_Vivienda/'\n",
    "gdf.to_file(dir_grl+f'{year}_{sheet}_PrecioVivienda_AMG_OC22_GCS_v1.geojson',\n",
    "          driver='GeoJSON')"
   ]
  },
  {
   "cell_type": "code",
   "execution_count": null,
   "id": "9416c34b-e64c-4185-a12e-cf336db337d4",
   "metadata": {},
   "outputs": [],
   "source": []
  }
 ],
 "metadata": {
  "kernelspec": {
   "display_name": "odc",
   "language": "python",
   "name": "odc"
  },
  "language_info": {
   "codemirror_mode": {
    "name": "ipython",
    "version": 3
   },
   "file_extension": ".py",
   "mimetype": "text/x-python",
   "name": "python",
   "nbconvert_exporter": "python",
   "pygments_lexer": "ipython3",
   "version": "3.10.4"
  }
 },
 "nbformat": 4,
 "nbformat_minor": 5
}
