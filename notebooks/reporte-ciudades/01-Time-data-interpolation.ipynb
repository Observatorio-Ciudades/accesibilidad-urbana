{
 "cells": [
  {
   "cell_type": "markdown",
   "id": "1a0e9604-66ef-424b-b821-ceac1ca278fc",
   "metadata": {},
   "source": [
    "# Time interpolation notebook"
   ]
  },
  {
   "cell_type": "markdown",
   "id": "9f52da9f-0cb4-4147-9d38-532801d2cbc4",
   "metadata": {},
   "source": [
    "Time analysis for hexagons without nodes and time data."
   ]
  },
  {
   "cell_type": "markdown",
   "id": "d35a3553-9c73-48e3-a5db-b07adcfda3ce",
   "metadata": {},
   "source": [
    "## Import libraries"
   ]
  },
  {
   "cell_type": "code",
   "execution_count": 1,
   "id": "009249a8-b2ea-4ef9-977a-aa9180529445",
   "metadata": {},
   "outputs": [
    {
     "name": "stderr",
     "output_type": "stream",
     "text": [
      "/home/edgaregurrola/anaconda3/envs/odc/lib/python3.10/site-packages/geopandas/_compat.py:123: UserWarning: The Shapely GEOS version (3.10.3-CAPI-1.16.1) is incompatible with the GEOS version PyGEOS was compiled with (3.10.1-CAPI-1.16.0). Conversions between both will be slow.\n",
      "  warnings.warn(\n",
      "/home/edgaregurrola/.local/lib/python3.10/site-packages/requests/__init__.py:109: RequestsDependencyWarning: urllib3 (1.26.9) or chardet (5.1.0)/charset_normalizer (2.0.12) doesn't match a supported version!\n",
      "  warnings.warn(\n"
     ]
    },
    {
     "name": "stdout",
     "output_type": "stream",
     "text": [
      "2023-08-10 10:48:30 Configured OSMnx 1.1.2\n",
      "2023-08-10 10:48:30 HTTP response caching is on\n"
     ]
    }
   ],
   "source": [
    "import os\n",
    "import sys\n",
    "\n",
    "import numpy as np\n",
    "import pandas as pd\n",
    "import geopandas as gpd\n",
    "import math\n",
    "import shapely\n",
    "import h3\n",
    "\n",
    "import matplotlib.pyplot as plt\n",
    "\n",
    "module_path = os.path.abspath(os.path.join('../../'))\n",
    "if module_path not in sys.path:\n",
    "    sys.path.append(module_path)\n",
    "    import aup"
   ]
  },
  {
   "cell_type": "markdown",
   "id": "a97cee68-0084-42a6-ab6c-693518cd0cf5",
   "metadata": {
    "tags": []
   },
   "source": [
    "## Download data"
   ]
  },
  {
   "cell_type": "code",
   "execution_count": 2,
   "id": "1df2744d-a4aa-4782-909e-41a8bba04674",
   "metadata": {},
   "outputs": [],
   "source": [
    "city = 'Monterrey'"
   ]
  },
  {
   "cell_type": "markdown",
   "id": "e9f2a3fc-0e6e-4bf2-b96c-94e541649c92",
   "metadata": {},
   "source": [
    "Municipality limits"
   ]
  },
  {
   "cell_type": "code",
   "execution_count": 3,
   "id": "df1fa424-be03-4a7c-aabf-bdc9e2374f9e",
   "metadata": {},
   "outputs": [
    {
     "name": "stdout",
     "output_type": "stream",
     "text": [
      "(10, 6)\n"
     ]
    },
    {
     "data": {
      "text/html": [
       "<div>\n",
       "<style scoped>\n",
       "    .dataframe tbody tr th:only-of-type {\n",
       "        vertical-align: middle;\n",
       "    }\n",
       "\n",
       "    .dataframe tbody tr th {\n",
       "        vertical-align: top;\n",
       "    }\n",
       "\n",
       "    .dataframe thead th {\n",
       "        text-align: right;\n",
       "    }\n",
       "</style>\n",
       "<table border=\"1\" class=\"dataframe\">\n",
       "  <thead>\n",
       "    <tr style=\"text-align: right;\">\n",
       "      <th></th>\n",
       "      <th>CVEGEO</th>\n",
       "      <th>CVE_ENT</th>\n",
       "      <th>CVE_MUN</th>\n",
       "      <th>NOMGEO</th>\n",
       "      <th>geometry</th>\n",
       "      <th>city</th>\n",
       "    </tr>\n",
       "  </thead>\n",
       "  <tbody>\n",
       "    <tr>\n",
       "      <th>0</th>\n",
       "      <td>14002</td>\n",
       "      <td>14</td>\n",
       "      <td>002</td>\n",
       "      <td>Acatlán de Juárez</td>\n",
       "      <td>POLYGON ((-103.65448 20.50346, -103.65200 20.5...</td>\n",
       "      <td>Guadalajara</td>\n",
       "    </tr>\n",
       "    <tr>\n",
       "      <th>1</th>\n",
       "      <td>14039</td>\n",
       "      <td>14</td>\n",
       "      <td>039</td>\n",
       "      <td>Guadalajara</td>\n",
       "      <td>POLYGON ((-103.31164 20.75098, -103.31014 20.7...</td>\n",
       "      <td>Guadalajara</td>\n",
       "    </tr>\n",
       "    <tr>\n",
       "      <th>2</th>\n",
       "      <td>14044</td>\n",
       "      <td>14</td>\n",
       "      <td>044</td>\n",
       "      <td>Ixtlahuacán de los Membrillos</td>\n",
       "      <td>POLYGON ((-103.20756 20.47596, -103.20698 20.4...</td>\n",
       "      <td>Guadalajara</td>\n",
       "    </tr>\n",
       "    <tr>\n",
       "      <th>3</th>\n",
       "      <td>14051</td>\n",
       "      <td>14</td>\n",
       "      <td>051</td>\n",
       "      <td>Juanacatlán</td>\n",
       "      <td>POLYGON ((-103.13701 20.57179, -103.13028 20.5...</td>\n",
       "      <td>Guadalajara</td>\n",
       "    </tr>\n",
       "    <tr>\n",
       "      <th>4</th>\n",
       "      <td>14070</td>\n",
       "      <td>14</td>\n",
       "      <td>070</td>\n",
       "      <td>El Salto</td>\n",
       "      <td>POLYGON ((-103.31558 20.57832, -103.31525 20.5...</td>\n",
       "      <td>Guadalajara</td>\n",
       "    </tr>\n",
       "  </tbody>\n",
       "</table>\n",
       "</div>"
      ],
      "text/plain": [
       "  CVEGEO CVE_ENT CVE_MUN                         NOMGEO  \\\n",
       "0  14002      14     002              Acatlán de Juárez   \n",
       "1  14039      14     039                    Guadalajara   \n",
       "2  14044      14     044  Ixtlahuacán de los Membrillos   \n",
       "3  14051      14     051                    Juanacatlán   \n",
       "4  14070      14     070                       El Salto   \n",
       "\n",
       "                                            geometry         city  \n",
       "0  POLYGON ((-103.65448 20.50346, -103.65200 20.5...  Guadalajara  \n",
       "1  POLYGON ((-103.31164 20.75098, -103.31014 20.7...  Guadalajara  \n",
       "2  POLYGON ((-103.20756 20.47596, -103.20698 20.4...  Guadalajara  \n",
       "3  POLYGON ((-103.13701 20.57179, -103.13028 20.5...  Guadalajara  \n",
       "4  POLYGON ((-103.31558 20.57832, -103.31525 20.5...  Guadalajara  "
      ]
     },
     "execution_count": 3,
     "metadata": {},
     "output_type": "execute_result"
    }
   ],
   "source": [
    "mun_schema = 'metropolis'\n",
    "mun_folder = 'metro_gdf'\n",
    "\n",
    "query = f\"SELECT * FROM {mun_schema}.{mun_folder} WHERE \\\"city\\\" = \\'{city}\\'\"\n",
    "mun_gdf = aup.gdf_from_query(query, geometry_col='geometry')\n",
    "\n",
    "print(mun_gdf.shape)\n",
    "mun_gdf.head()"
   ]
  },
  {
   "cell_type": "markdown",
   "id": "aaf23352-d6b4-44a6-acf9-30001f19fb57",
   "metadata": {},
   "source": [
    "Urban area"
   ]
  },
  {
   "cell_type": "code",
   "execution_count": 3,
   "id": "eb47e87f-0ea9-4db3-80bd-c0f69acd4956",
   "metadata": {},
   "outputs": [
    {
     "name": "stdout",
     "output_type": "stream",
     "text": [
      "(10, 2)\n"
     ]
    },
    {
     "data": {
      "text/html": [
       "<div>\n",
       "<style scoped>\n",
       "    .dataframe tbody tr th:only-of-type {\n",
       "        vertical-align: middle;\n",
       "    }\n",
       "\n",
       "    .dataframe tbody tr th {\n",
       "        vertical-align: top;\n",
       "    }\n",
       "\n",
       "    .dataframe thead th {\n",
       "        text-align: right;\n",
       "    }\n",
       "</style>\n",
       "<table border=\"1\" class=\"dataframe\">\n",
       "  <thead>\n",
       "    <tr style=\"text-align: right;\">\n",
       "      <th></th>\n",
       "      <th>year</th>\n",
       "      <th>geometry</th>\n",
       "    </tr>\n",
       "  </thead>\n",
       "  <tbody>\n",
       "    <tr>\n",
       "      <th>0</th>\n",
       "      <td>1975</td>\n",
       "      <td>MULTIPOLYGON (((-9470900.000 3080300.000, -947...</td>\n",
       "    </tr>\n",
       "    <tr>\n",
       "      <th>1</th>\n",
       "      <td>1980</td>\n",
       "      <td>MULTIPOLYGON (((-9458400.000 3080100.000, -945...</td>\n",
       "    </tr>\n",
       "  </tbody>\n",
       "</table>\n",
       "</div>"
      ],
      "text/plain": [
       "   year                                           geometry\n",
       "0  1975  MULTIPOLYGON (((-9470900.000 3080300.000, -947...\n",
       "1  1980  MULTIPOLYGON (((-9458400.000 3080100.000, -945..."
      ]
     },
     "execution_count": 3,
     "metadata": {},
     "output_type": "execute_result"
    }
   ],
   "source": [
    "# read urban expansion file\n",
    "hex_gdf = gpd.read_file('../../data/external/reporte_ciudades/area_urbana_monterrey.geojson')\n",
    "print(hex_gdf.shape)\n",
    "hex_gdf.head(2)"
   ]
  },
  {
   "cell_type": "code",
   "execution_count": 5,
   "id": "759dbb9e-34da-480c-9ff2-c9123f975c20",
   "metadata": {},
   "outputs": [
    {
     "data": {
      "text/plain": [
       "<AxesSubplot: >"
      ]
     },
     "execution_count": 5,
     "metadata": {},
     "output_type": "execute_result"
    },
    {
     "data": {
      "image/png": "[encoded data removed]",
      "text/plain": [
       "<Figure size 432x288 with 1 Axes>"
      ]
     },
     "metadata": {
      "needs_background": "light"
     },
     "output_type": "display_data"
    }
   ],
   "source": [
    "hex_gdf.plot()"
   ]
  },
  {
   "cell_type": "markdown",
   "id": "ef557a98-fde0-4f11-b609-8a4dbff8ed1f",
   "metadata": {},
   "source": [
    "#### Nodes"
   ]
  },
  {
   "cell_type": "code",
   "execution_count": 8,
   "id": "02cd6609-bbde-4bdc-9f63-a09e99ea7aa3",
   "metadata": {},
   "outputs": [],
   "source": [
    "idx_15_min = {'Escuelas':{'Preescolar':['denue_preescolar'],\n",
    "                         'Primaria':['denue_primaria'],\n",
    "                         'Secundaria':['denue_secundaria']},\n",
    "             'Servicios comunitarios':{'Salud':['clues_primer_nivel'],\n",
    "                                      'Guarderías':['denue_guarderias'],\n",
    "                                      'Asistencia social':['denue_dif']},\n",
    "              'Comercio':{'Alimentos':['denue_supermercado','denue_abarrotes',\n",
    "                                    'denue_carnicerias','sip_mercado'],\n",
    "                         'Personal':['denue_peluqueria'],\n",
    "                          'Farmacias':['denue_farmacias'],\n",
    "                         'Hogar':['denue_ferreteria_tlapaleria','denue_art_limpieza'],\n",
    "                         'Complementarios':['denue_ropa','denue_calzado','denue_muebles',\n",
    "                                           'denue_lavanderia','denue_revistas_periodicos',\n",
    "                                           'denue_pintura']},\n",
    "              'Entretenimiento':{'Social':['denue_restaurante_insitu','denue_restaurante_llevar',\n",
    "                                          'denue_bares','denue_cafe'],\n",
    "                                'Actividad física':['sip_cancha','sip_unidad_deportiva',\n",
    "                                                   'sip_espacio_publico','denue_parque_natural'],\n",
    "                                'Cultural':['denue_cines','denue_museos']} \n",
    "             }\n",
    "\n",
    "wegiht_idx = {'Escuelas':{'Preescolar':1,\n",
    "                        'Primaria':1,\n",
    "                        'Secundaria':1},\n",
    "            'Servicios comunitarios':{'Salud':1,\n",
    "                                    'Guarderías':1,\n",
    "                                    'Asistencia social':1},\n",
    "            'Comercio':{'Alimentos':1,\n",
    "                        'Personal':1,\n",
    "                        'Farmacias':1,\n",
    "                        'Hogar':1,\n",
    "                        'Complementarios':1},\n",
    "            'Entretenimiento':{'Social':4,\n",
    "                                'Actividad física':1,\n",
    "                                'Cultural':1}\n",
    "             }"
   ]
  },
  {
   "cell_type": "code",
   "execution_count": 9,
   "id": "3588b610-d899-424c-a9ee-314b1df17fe7",
   "metadata": {},
   "outputs": [],
   "source": [
    "amenidades = []\n",
    "\n",
    "# gather amenities for analysis\n",
    "for eje in idx_15_min.keys():\n",
    "    for grupo in idx_15_min[eje].values():\n",
    "        for a in grupo:\n",
    "            amenidades.append(a)"
   ]
  },
  {
   "cell_type": "code",
   "execution_count": 10,
   "id": "64bae52f-6221-49c1-b61f-8d39905f9180",
   "metadata": {},
   "outputs": [
    {
     "name": "stdout",
     "output_type": "stream",
     "text": [
      "(6606090, 7)\n"
     ]
    },
    {
     "data": {
      "text/html": [
       "<div>\n",
       "<style scoped>\n",
       "    .dataframe tbody tr th:only-of-type {\n",
       "        vertical-align: middle;\n",
       "    }\n",
       "\n",
       "    .dataframe tbody tr th {\n",
       "        vertical-align: top;\n",
       "    }\n",
       "\n",
       "    .dataframe thead th {\n",
       "        text-align: right;\n",
       "    }\n",
       "</style>\n",
       "<table border=\"1\" class=\"dataframe\">\n",
       "  <thead>\n",
       "    <tr style=\"text-align: right;\">\n",
       "      <th></th>\n",
       "      <th>osmid</th>\n",
       "      <th>x</th>\n",
       "      <th>y</th>\n",
       "      <th>geometry</th>\n",
       "      <th>time</th>\n",
       "      <th>amenity</th>\n",
       "      <th>metropolis</th>\n",
       "    </tr>\n",
       "  </thead>\n",
       "  <tbody>\n",
       "    <tr>\n",
       "      <th>0</th>\n",
       "      <td>269701904</td>\n",
       "      <td>-100.251170</td>\n",
       "      <td>25.731077</td>\n",
       "      <td>POINT (-100.25117 25.73108)</td>\n",
       "      <td>13.681485</td>\n",
       "      <td>denue_preescolar</td>\n",
       "      <td>Monterrey</td>\n",
       "    </tr>\n",
       "    <tr>\n",
       "      <th>1</th>\n",
       "      <td>286525114</td>\n",
       "      <td>-100.289649</td>\n",
       "      <td>25.673504</td>\n",
       "      <td>POINT (-100.28965 25.67350)</td>\n",
       "      <td>7.992114</td>\n",
       "      <td>denue_preescolar</td>\n",
       "      <td>Monterrey</td>\n",
       "    </tr>\n",
       "  </tbody>\n",
       "</table>\n",
       "</div>"
      ],
      "text/plain": [
       "       osmid           x          y                     geometry       time  \\\n",
       "0  269701904 -100.251170  25.731077  POINT (-100.25117 25.73108)  13.681485   \n",
       "1  286525114 -100.289649  25.673504  POINT (-100.28965 25.67350)   7.992114   \n",
       "\n",
       "            amenity metropolis  \n",
       "0  denue_preescolar  Monterrey  \n",
       "1  denue_preescolar  Monterrey  "
      ]
     },
     "execution_count": 10,
     "metadata": {},
     "output_type": "execute_result"
    }
   ],
   "source": [
    "schema = 'prox_analysis'\n",
    "nodes_folder = 'nodes_proximity_2020'\n",
    "\n",
    "query = f\"SELECT * FROM {schema}.{nodes_folder} WHERE \\\"metropolis\\\" = \\'{city}\\' AND \\\"amenity\\\" IN {str(tuple(amenidades))}\"\n",
    "nodes = aup.gdf_from_query(query, geometry_col='geometry')\n",
    "print(nodes.shape)\n",
    "nodes.head(2)"
   ]
  },
  {
   "cell_type": "code",
   "execution_count": 11,
   "id": "f1f124f2-b243-4893-9a45-1b785e35b947",
   "metadata": {},
   "outputs": [
    {
     "name": "stdout",
     "output_type": "stream",
     "text": [
      "(220203, 3)\n"
     ]
    },
    {
     "data": {
      "text/html": [
       "<div>\n",
       "<style scoped>\n",
       "    .dataframe tbody tr th:only-of-type {\n",
       "        vertical-align: middle;\n",
       "    }\n",
       "\n",
       "    .dataframe tbody tr th {\n",
       "        vertical-align: top;\n",
       "    }\n",
       "\n",
       "    .dataframe thead th {\n",
       "        text-align: right;\n",
       "    }\n",
       "</style>\n",
       "<table border=\"1\" class=\"dataframe\">\n",
       "  <thead>\n",
       "    <tr style=\"text-align: right;\">\n",
       "      <th></th>\n",
       "      <th>osmid</th>\n",
       "      <th>geometry</th>\n",
       "      <th>metropolis</th>\n",
       "    </tr>\n",
       "  </thead>\n",
       "  <tbody>\n",
       "    <tr>\n",
       "      <th>6385887</th>\n",
       "      <td>269701904</td>\n",
       "      <td>POINT (-100.25117 25.73108)</td>\n",
       "      <td>Monterrey</td>\n",
       "    </tr>\n",
       "    <tr>\n",
       "      <th>6385888</th>\n",
       "      <td>269701905</td>\n",
       "      <td>POINT (-100.25507 25.72857)</td>\n",
       "      <td>Monterrey</td>\n",
       "    </tr>\n",
       "  </tbody>\n",
       "</table>\n",
       "</div>"
      ],
      "text/plain": [
       "             osmid                     geometry metropolis\n",
       "6385887  269701904  POINT (-100.25117 25.73108)  Monterrey\n",
       "6385888  269701905  POINT (-100.25507 25.72857)  Monterrey"
      ]
     },
     "execution_count": 11,
     "metadata": {},
     "output_type": "execute_result"
    }
   ],
   "source": [
    "nodes_geom = nodes.drop_duplicates(subset='osmid', keep=\"last\")[['osmid','geometry','metropolis']].copy()\n",
    "print(nodes_geom.shape)\n",
    "nodes_geom.head(2)"
   ]
  },
  {
   "cell_type": "code",
   "execution_count": 12,
   "id": "e5f9c833-cf72-4a0a-9cb2-20e49afb8b6b",
   "metadata": {},
   "outputs": [
    {
     "name": "stdout",
     "output_type": "stream",
     "text": [
      "(220203, 33)\n"
     ]
    },
    {
     "data": {
      "text/html": [
       "<div>\n",
       "<style scoped>\n",
       "    .dataframe tbody tr th:only-of-type {\n",
       "        vertical-align: middle;\n",
       "    }\n",
       "\n",
       "    .dataframe tbody tr th {\n",
       "        vertical-align: top;\n",
       "    }\n",
       "\n",
       "    .dataframe thead th {\n",
       "        text-align: right;\n",
       "    }\n",
       "</style>\n",
       "<table border=\"1\" class=\"dataframe\">\n",
       "  <thead>\n",
       "    <tr style=\"text-align: right;\">\n",
       "      <th></th>\n",
       "      <th>osmid</th>\n",
       "      <th>geometry</th>\n",
       "      <th>metropolis</th>\n",
       "      <th>denue_preescolar</th>\n",
       "      <th>denue_primaria</th>\n",
       "      <th>denue_secundaria</th>\n",
       "      <th>denue_guarderias</th>\n",
       "      <th>denue_dif</th>\n",
       "      <th>denue_supermercado</th>\n",
       "      <th>denue_abarrotes</th>\n",
       "      <th>...</th>\n",
       "      <th>denue_revistas_periodicos</th>\n",
       "      <th>denue_ferreteria_tlapaleria</th>\n",
       "      <th>denue_art_limpieza</th>\n",
       "      <th>denue_pintura</th>\n",
       "      <th>denue_peluqueria</th>\n",
       "      <th>sip_cancha</th>\n",
       "      <th>sip_unidad_deportiva</th>\n",
       "      <th>sip_espacio_publico</th>\n",
       "      <th>sip_mercado</th>\n",
       "      <th>clues_primer_nivel</th>\n",
       "    </tr>\n",
       "  </thead>\n",
       "  <tbody>\n",
       "    <tr>\n",
       "      <th>0</th>\n",
       "      <td>269701904</td>\n",
       "      <td>POINT (-100.25117 25.73108)</td>\n",
       "      <td>Monterrey</td>\n",
       "      <td>13.681485</td>\n",
       "      <td>14.804288</td>\n",
       "      <td>23.560786</td>\n",
       "      <td>12.701263</td>\n",
       "      <td>20.045677</td>\n",
       "      <td>20.203180</td>\n",
       "      <td>9.179475</td>\n",
       "      <td>...</td>\n",
       "      <td>24.923402</td>\n",
       "      <td>1.294515</td>\n",
       "      <td>14.856059</td>\n",
       "      <td>15.904288</td>\n",
       "      <td>9.179475</td>\n",
       "      <td>147.561441</td>\n",
       "      <td>57.517007</td>\n",
       "      <td>7.878787</td>\n",
       "      <td>97.031992</td>\n",
       "      <td>23.679311</td>\n",
       "    </tr>\n",
       "    <tr>\n",
       "      <th>1</th>\n",
       "      <td>269701905</td>\n",
       "      <td>POINT (-100.25507 25.72857)</td>\n",
       "      <td>Monterrey</td>\n",
       "      <td>17.151717</td>\n",
       "      <td>10.896676</td>\n",
       "      <td>26.163203</td>\n",
       "      <td>10.527316</td>\n",
       "      <td>20.578583</td>\n",
       "      <td>24.697034</td>\n",
       "      <td>8.273776</td>\n",
       "      <td>...</td>\n",
       "      <td>28.898789</td>\n",
       "      <td>6.909924</td>\n",
       "      <td>19.925363</td>\n",
       "      <td>23.417647</td>\n",
       "      <td>13.682406</td>\n",
       "      <td>140.193274</td>\n",
       "      <td>63.583058</td>\n",
       "      <td>7.492027</td>\n",
       "      <td>100.840331</td>\n",
       "      <td>22.805551</td>\n",
       "    </tr>\n",
       "  </tbody>\n",
       "</table>\n",
       "<p>2 rows × 33 columns</p>\n",
       "</div>"
      ],
      "text/plain": [
       "       osmid                     geometry metropolis  denue_preescolar  \\\n",
       "0  269701904  POINT (-100.25117 25.73108)  Monterrey         13.681485   \n",
       "1  269701905  POINT (-100.25507 25.72857)  Monterrey         17.151717   \n",
       "\n",
       "   denue_primaria  denue_secundaria  denue_guarderias  denue_dif  \\\n",
       "0       14.804288         23.560786         12.701263  20.045677   \n",
       "1       10.896676         26.163203         10.527316  20.578583   \n",
       "\n",
       "   denue_supermercado  denue_abarrotes  ...  denue_revistas_periodicos  \\\n",
       "0           20.203180         9.179475  ...                  24.923402   \n",
       "1           24.697034         8.273776  ...                  28.898789   \n",
       "\n",
       "   denue_ferreteria_tlapaleria  denue_art_limpieza  denue_pintura  \\\n",
       "0                     1.294515           14.856059      15.904288   \n",
       "1                     6.909924           19.925363      23.417647   \n",
       "\n",
       "   denue_peluqueria  sip_cancha  sip_unidad_deportiva  sip_espacio_publico  \\\n",
       "0          9.179475  147.561441             57.517007             7.878787   \n",
       "1         13.682406  140.193274             63.583058             7.492027   \n",
       "\n",
       "   sip_mercado  clues_primer_nivel  \n",
       "0    97.031992           23.679311  \n",
       "1   100.840331           22.805551  \n",
       "\n",
       "[2 rows x 33 columns]"
      ]
     },
     "execution_count": 12,
     "metadata": {},
     "output_type": "execute_result"
    }
   ],
   "source": [
    "nodes_analysis = nodes_geom.copy()\n",
    "\n",
    "for amenidad in list(nodes.amenity.unique()):\n",
    "    nodes_tmp = nodes.loc[nodes.amenity == amenidad,['osmid','time']]\n",
    "    nodes_tmp = nodes_tmp.rename(columns={'time':amenidad})\n",
    "    if nodes_tmp[amenidad].mean() == 0:\n",
    "        nodes_tmp[amenidad] = -1\n",
    "    nodes_analysis = nodes_analysis.merge(nodes_tmp, on='osmid')\n",
    "    \n",
    "print(nodes_analysis.shape)\n",
    "nodes_analysis.head(2)"
   ]
  },
  {
   "cell_type": "code",
   "execution_count": 13,
   "id": "47bc276a-bbd7-4a8a-960c-ac7f32417978",
   "metadata": {},
   "outputs": [],
   "source": [
    "del nodes"
   ]
  },
  {
   "cell_type": "code",
   "execution_count": 14,
   "id": "21d2f8a0-1ba6-48e3-9201-e62c7f8fbb49",
   "metadata": {},
   "outputs": [],
   "source": [
    "del nodes_geom"
   ]
  },
  {
   "cell_type": "markdown",
   "id": "c2f77816-6df4-45e9-8905-6d5827f98da3",
   "metadata": {
    "tags": []
   },
   "source": [
    "#### Nodes data formatting"
   ]
  },
  {
   "cell_type": "code",
   "execution_count": 15,
   "id": "8c300beb-0fbc-4155-8a17-0228d5d062f7",
   "metadata": {},
   "outputs": [],
   "source": [
    "# time by ammenity\n",
    "\n",
    "column_max_ejes = [] # list with ejes index column names\n",
    "column_max_all = [] # list with all max index column names\n",
    "\n",
    "for e in idx_15_min.keys():\n",
    "    \n",
    "    column_max_ejes.append('max_'+ e.lower())\n",
    "    column_max_all.append('max_'+ e.lower())\n",
    "    column_max_amenities = [] # list with amenity index column names\n",
    "    \n",
    "    for a in idx_15_min[e].keys():\n",
    "        \n",
    "        column_max_amenities.append('max_'+ a.lower())\n",
    "        column_max_all.append('max_'+ a.lower())\n",
    "\n",
    "        if wegiht_idx[e][a] < len(idx_15_min[e][a]):\n",
    "            nodes_analysis['max_'+ a.lower()] = nodes_analysis[idx_15_min[e][a]].min(axis=1)\n",
    "\n",
    "        else:\n",
    "            nodes_analysis['max_'+ a.lower()] = nodes_analysis[idx_15_min[e][a]].max(axis=1)\n",
    "        \n",
    "    nodes_analysis['max_'+ e.lower()] = nodes_analysis[column_max_amenities].max(axis=1)\n",
    "\n",
    "index_column = 'max_idx_15_min' # column name for 15 minute index data\n",
    "column_max_all.append(index_column)\n",
    "nodes_analysis[index_column] = nodes_analysis[column_max_ejes].max(axis=1)"
   ]
  },
  {
   "cell_type": "code",
   "execution_count": null,
   "id": "96a089ff-d926-4917-a4e2-f70ae5291d0b",
   "metadata": {},
   "outputs": [],
   "source": [
    "wegiht_idx = {'Escuelas':{'Preescolar':1,\n",
    "                        'Primaria':1,\n",
    "                        'Secundaria':1},\n",
    "            'Servicios comunitarios':{'Salud':1,\n",
    "                                    'Guarderías':1,\n",
    "                                    'Asistencia social':1},\n",
    "            'Comercio':{'Alimentos':1,\n",
    "                        'Personal':1,\n",
    "                        'Farmacias':1,\n",
    "                        'Hogar':1,\n",
    "                        'Complementarios':1},\n",
    "            'Entretenimiento':{'Social':4,\n",
    "                                'Actividad física':1,\n",
    "                                'Cultural':1}\n",
    "             }"
   ]
  },
  {
   "cell_type": "code",
   "execution_count": 25,
   "id": "f5ab3464-94ea-489c-9977-26e44d1ed36b",
   "metadata": {},
   "outputs": [],
   "source": [
    "nodes_analysis = nodes_analysis[['osmid','max_preescolar','max_primaria','max_secundaria',\n",
    "               'max_salud','max_guarderías','max_asistencia social',\n",
    "               'max_alimentos','max_personal','max_farmacias','max_hogar',\n",
    "               'max_complementarios','max_social','max_actividad física',\n",
    "               'max_cultural','geometry','metropolis']].copy()"
   ]
  },
  {
   "cell_type": "code",
   "execution_count": 26,
   "id": "2a4cb8d7-281b-4f7d-b614-dc3c662efce5",
   "metadata": {},
   "outputs": [
    {
     "data": {
      "text/html": [
       "<div>\n",
       "<style scoped>\n",
       "    .dataframe tbody tr th:only-of-type {\n",
       "        vertical-align: middle;\n",
       "    }\n",
       "\n",
       "    .dataframe tbody tr th {\n",
       "        vertical-align: top;\n",
       "    }\n",
       "\n",
       "    .dataframe thead th {\n",
       "        text-align: right;\n",
       "    }\n",
       "</style>\n",
       "<table border=\"1\" class=\"dataframe\">\n",
       "  <thead>\n",
       "    <tr style=\"text-align: right;\">\n",
       "      <th></th>\n",
       "      <th>osmid</th>\n",
       "      <th>max_preescolar</th>\n",
       "      <th>max_primaria</th>\n",
       "      <th>max_secundaria</th>\n",
       "      <th>max_salud</th>\n",
       "      <th>max_guarderías</th>\n",
       "      <th>max_asistencia social</th>\n",
       "      <th>max_alimentos</th>\n",
       "      <th>max_personal</th>\n",
       "      <th>max_farmacias</th>\n",
       "      <th>max_hogar</th>\n",
       "      <th>max_complementarios</th>\n",
       "      <th>max_social</th>\n",
       "      <th>max_actividad física</th>\n",
       "      <th>max_cultural</th>\n",
       "      <th>geometry</th>\n",
       "      <th>metropolis</th>\n",
       "    </tr>\n",
       "  </thead>\n",
       "  <tbody>\n",
       "    <tr>\n",
       "      <th>0</th>\n",
       "      <td>269701904</td>\n",
       "      <td>13.681485</td>\n",
       "      <td>14.804288</td>\n",
       "      <td>23.560786</td>\n",
       "      <td>23.679311</td>\n",
       "      <td>12.701263</td>\n",
       "      <td>20.045677</td>\n",
       "      <td>6.306829</td>\n",
       "      <td>9.179475</td>\n",
       "      <td>17.460466</td>\n",
       "      <td>1.294515</td>\n",
       "      <td>14.434367</td>\n",
       "      <td>33.054688</td>\n",
       "      <td>7.878787</td>\n",
       "      <td>28.783659</td>\n",
       "      <td>POINT (-100.25117 25.73108)</td>\n",
       "      <td>Monterrey</td>\n",
       "    </tr>\n",
       "    <tr>\n",
       "      <th>1</th>\n",
       "      <td>269701905</td>\n",
       "      <td>17.151717</td>\n",
       "      <td>10.896676</td>\n",
       "      <td>26.163203</td>\n",
       "      <td>22.805551</td>\n",
       "      <td>10.527316</td>\n",
       "      <td>20.578583</td>\n",
       "      <td>1.206530</td>\n",
       "      <td>13.682406</td>\n",
       "      <td>10.512147</td>\n",
       "      <td>6.909924</td>\n",
       "      <td>19.956216</td>\n",
       "      <td>25.541329</td>\n",
       "      <td>7.492027</td>\n",
       "      <td>25.412465</td>\n",
       "      <td>POINT (-100.25507 25.72857)</td>\n",
       "      <td>Monterrey</td>\n",
       "    </tr>\n",
       "  </tbody>\n",
       "</table>\n",
       "</div>"
      ],
      "text/plain": [
       "       osmid  max_preescolar  max_primaria  max_secundaria  max_salud  \\\n",
       "0  269701904       13.681485     14.804288       23.560786  23.679311   \n",
       "1  269701905       17.151717     10.896676       26.163203  22.805551   \n",
       "\n",
       "   max_guarderías  max_asistencia social  max_alimentos  max_personal  \\\n",
       "0       12.701263              20.045677       6.306829      9.179475   \n",
       "1       10.527316              20.578583       1.206530     13.682406   \n",
       "\n",
       "   max_farmacias  max_hogar  max_complementarios  max_social  \\\n",
       "0      17.460466   1.294515            14.434367   33.054688   \n",
       "1      10.512147   6.909924            19.956216   25.541329   \n",
       "\n",
       "   max_actividad física  max_cultural                     geometry metropolis  \n",
       "0              7.878787     28.783659  POINT (-100.25117 25.73108)  Monterrey  \n",
       "1              7.492027     25.412465  POINT (-100.25507 25.72857)  Monterrey  "
      ]
     },
     "execution_count": 26,
     "metadata": {},
     "output_type": "execute_result"
    }
   ],
   "source": [
    "nodes_analysis.head(2)"
   ]
  },
  {
   "cell_type": "markdown",
   "id": "8355b97c-798c-4ef3-93d0-8d2333359fb0",
   "metadata": {},
   "source": [
    "## Create hex grid"
   ]
  },
  {
   "cell_type": "code",
   "execution_count": 28,
   "id": "91523494-14a5-40b9-b322-5badfc37cb91",
   "metadata": {},
   "outputs": [],
   "source": [
    "hex_gdf = hex_gdf.to_crs(\"EPSG:4326\")\n",
    "urb_buffer = hex_gdf.to_crs(\"EPSG:6372\").buffer(100)\n",
    "urb_buffer = gpd.GeoDataFrame(geometry=urb_buffer)\n",
    "urb_buffer = urb_buffer.dissolve()\n",
    "urb_buffer = urb_buffer.to_crs(\"EPSG:4326\")"
   ]
  },
  {
   "cell_type": "code",
   "execution_count": 29,
   "id": "32686d0c-8f44-44b9-9acf-9503433996f4",
   "metadata": {},
   "outputs": [
    {
     "name": "stdout",
     "output_type": "stream",
     "text": [
      "(1190825, 2)\n"
     ]
    },
    {
     "data": {
      "text/html": [
       "<div>\n",
       "<style scoped>\n",
       "    .dataframe tbody tr th:only-of-type {\n",
       "        vertical-align: middle;\n",
       "    }\n",
       "\n",
       "    .dataframe tbody tr th {\n",
       "        vertical-align: top;\n",
       "    }\n",
       "\n",
       "    .dataframe thead th {\n",
       "        text-align: right;\n",
       "    }\n",
       "</style>\n",
       "<table border=\"1\" class=\"dataframe\">\n",
       "  <thead>\n",
       "    <tr style=\"text-align: right;\">\n",
       "      <th></th>\n",
       "      <th>hex_id_11</th>\n",
       "      <th>geometry</th>\n",
       "    </tr>\n",
       "  </thead>\n",
       "  <tbody>\n",
       "    <tr>\n",
       "      <th>0</th>\n",
       "      <td>8b48a2a0db98fff</td>\n",
       "      <td>POLYGON ((-100.77547 25.63048, -100.77529 25.6...</td>\n",
       "    </tr>\n",
       "    <tr>\n",
       "      <th>1</th>\n",
       "      <td>8b48a2a0da32fff</td>\n",
       "      <td>POLYGON ((-100.77782 25.63048, -100.77763 25.6...</td>\n",
       "    </tr>\n",
       "    <tr>\n",
       "      <th>2</th>\n",
       "      <td>8b48a2a0d815fff</td>\n",
       "      <td>POLYGON ((-100.77255 25.62379, -100.77237 25.6...</td>\n",
       "    </tr>\n",
       "    <tr>\n",
       "      <th>3</th>\n",
       "      <td>8b48a2a0db94fff</td>\n",
       "      <td>POLYGON ((-100.77473 25.62893, -100.77454 25.6...</td>\n",
       "    </tr>\n",
       "  </tbody>\n",
       "</table>\n",
       "</div>"
      ],
      "text/plain": [
       "         hex_id_11                                           geometry\n",
       "0  8b48a2a0db98fff  POLYGON ((-100.77547 25.63048, -100.77529 25.6...\n",
       "1  8b48a2a0da32fff  POLYGON ((-100.77782 25.63048, -100.77763 25.6...\n",
       "2  8b48a2a0d815fff  POLYGON ((-100.77255 25.62379, -100.77237 25.6...\n",
       "3  8b48a2a0db94fff  POLYGON ((-100.77473 25.62893, -100.77454 25.6..."
      ]
     },
     "execution_count": 29,
     "metadata": {},
     "output_type": "execute_result"
    }
   ],
   "source": [
    "hex_gdf = aup.create_hexgrid(urb_buffer, 11)\n",
    "print(hex_gdf.shape)\n",
    "hex_gdf.head(4)"
   ]
  },
  {
   "cell_type": "markdown",
   "id": "d6d55ccb-9c22-4580-9dd2-8aaa2103e012",
   "metadata": {
    "jp-MarkdownHeadingCollapsed": true,
    "tags": []
   },
   "source": [
    "## Interpolation"
   ]
  },
  {
   "cell_type": "code",
   "execution_count": 63,
   "id": "388ea587-d520-4a20-9a13-8baf321a6085",
   "metadata": {},
   "outputs": [
    {
     "data": {
      "text/html": [
       "<div>\n",
       "<style scoped>\n",
       "    .dataframe tbody tr th:only-of-type {\n",
       "        vertical-align: middle;\n",
       "    }\n",
       "\n",
       "    .dataframe tbody tr th {\n",
       "        vertical-align: top;\n",
       "    }\n",
       "\n",
       "    .dataframe thead th {\n",
       "        text-align: right;\n",
       "    }\n",
       "</style>\n",
       "<table border=\"1\" class=\"dataframe\">\n",
       "  <thead>\n",
       "    <tr style=\"text-align: right;\">\n",
       "      <th></th>\n",
       "      <th>geometry</th>\n",
       "      <th>hex_id_11</th>\n",
       "    </tr>\n",
       "  </thead>\n",
       "  <tbody>\n",
       "    <tr>\n",
       "      <th>0</th>\n",
       "      <td>POINT (-103.05010 20.51982)</td>\n",
       "      <td>8b49aa64c532fff</td>\n",
       "    </tr>\n",
       "  </tbody>\n",
       "</table>\n",
       "</div>"
      ],
      "text/plain": [
       "                      geometry        hex_id_11\n",
       "0  POINT (-103.05010 20.51982)  8b49aa64c532fff"
      ]
     },
     "execution_count": 63,
     "metadata": {},
     "output_type": "execute_result"
    }
   ],
   "source": [
    "hex_cnt = gpd.GeoDataFrame(geometry=hex_gdf.loc[:0].to_crs(\"EPSG:6372\").centroid)\n",
    "hex_cnt = hex_cnt.set_crs(\"EPSG:6372\")\n",
    "hex_cnt = hex_cnt.to_crs(\"EPSG:4326\")\n",
    "hex_cnt['hex_id_11'] = hex_gdf['hex_id_11']\n",
    "hex_cnt.head(2)"
   ]
  },
  {
   "cell_type": "code",
   "execution_count": 64,
   "id": "64e893eb-6040-4efd-ab3b-d853e762a7f8",
   "metadata": {},
   "outputs": [],
   "source": [
    "xi = np.array(hex_cnt.to_crs(\"EPSG:6372\").geometry.x)\n",
    "yi = np.array(hex_cnt.to_crs(\"EPSG:6372\").geometry.y)"
   ]
  },
  {
   "cell_type": "code",
   "execution_count": 65,
   "id": "a7684a2d-bfb4-455b-951e-af7872359bc5",
   "metadata": {},
   "outputs": [
    {
     "data": {
      "text/plain": [
       "(1,)"
      ]
     },
     "execution_count": 65,
     "metadata": {},
     "output_type": "execute_result"
    }
   ],
   "source": [
    "xi.shape"
   ]
  },
  {
   "cell_type": "code",
   "execution_count": 15,
   "id": "6b6279fb-58cc-4ffd-afc2-100b825946b3",
   "metadata": {},
   "outputs": [],
   "source": [
    "# xi = np.random.choice(xi,1)\n",
    "# yi = np.random.choice(yi,1)"
   ]
  },
  {
   "cell_type": "code",
   "execution_count": 66,
   "id": "8f59e6eb-d2ef-40b5-8919-d19823aa6dd4",
   "metadata": {},
   "outputs": [],
   "source": [
    "x0 = np.array(nodes_analysis.to_crs(\"EPSG:6372\").geometry.x)\n",
    "y0 = np.array(nodes_analysis.to_crs(\"EPSG:6372\").geometry.y)"
   ]
  },
  {
   "cell_type": "code",
   "execution_count": 67,
   "id": "baa3902c-6a3f-415c-bc3a-3003926d6b98",
   "metadata": {},
   "outputs": [],
   "source": [
    "z = np.array((nodes_analysis.denue_primaria, nodes_analysis.denue_preescolar))\n",
    "z = z.T"
   ]
  },
  {
   "cell_type": "code",
   "execution_count": 68,
   "id": "23a85351-ee6e-46fa-adef-5f694058efc1",
   "metadata": {},
   "outputs": [
    {
     "data": {
      "text/plain": [
       "(195466, 2)"
      ]
     },
     "execution_count": 68,
     "metadata": {},
     "output_type": "execute_result"
    }
   ],
   "source": [
    "z.shape"
   ]
  },
  {
   "cell_type": "code",
   "execution_count": 69,
   "id": "4ffee8dd-e97e-4772-bc51-d0c8b10b48ab",
   "metadata": {},
   "outputs": [],
   "source": [
    "obs = np.vstack((x0, y0)).T\n",
    "interp = np.vstack((xi, yi)).T\n",
    "\n",
    "d0 = np.subtract.outer(obs[:,0], interp[:,0])\n",
    "d1 = np.subtract.outer(obs[:,1], interp[:,1])"
   ]
  },
  {
   "cell_type": "code",
   "execution_count": 70,
   "id": "1088ebc0-7e4e-41a6-a072-ed4c02d6363e",
   "metadata": {},
   "outputs": [],
   "source": [
    "dist = np.hypot(d0, d1)"
   ]
  },
  {
   "cell_type": "code",
   "execution_count": 71,
   "id": "e1f61dce-c15c-4449-9ed3-2f2642871899",
   "metadata": {},
   "outputs": [],
   "source": [
    "del obs\n",
    "del interp\n",
    "del d0\n",
    "del d1"
   ]
  },
  {
   "cell_type": "markdown",
   "id": "1473e13b-0c4d-47f6-b122-53203fbfa25d",
   "metadata": {
    "tags": []
   },
   "source": [
    "### filter[idx]"
   ]
  },
  {
   "cell_type": "code",
   "execution_count": 72,
   "id": "4743d853-62ff-42a2-99d7-c85d63b69f84",
   "metadata": {},
   "outputs": [
    {
     "data": {
      "text/plain": [
       "(469,)"
      ]
     },
     "execution_count": 72,
     "metadata": {},
     "output_type": "execute_result"
    }
   ],
   "source": [
    "search_radius = 5000\n",
    "idx = dist<=search_radius\n",
    "filter_dist = dist[idx]\n",
    "# filter_dist = dist*idx\n",
    "filter_dist.shape"
   ]
  },
  {
   "cell_type": "code",
   "execution_count": 73,
   "id": "7edef17a-d779-47f0-8478-889f5e6ac32b",
   "metadata": {},
   "outputs": [],
   "source": [
    "power = 4\n",
    "weights = 1.0/(filter_dist+1e-12)**power"
   ]
  },
  {
   "cell_type": "code",
   "execution_count": 74,
   "id": "e922e80a-69c7-49a8-80c2-8fd5ac1ff84c",
   "metadata": {},
   "outputs": [],
   "source": [
    "weights /= weights.sum(axis=0)"
   ]
  },
  {
   "cell_type": "code",
   "execution_count": 75,
   "id": "23c4960b-f9a1-4af3-9aaf-d8b694fb4d37",
   "metadata": {
    "collapsed": true,
    "jupyter": {
     "outputs_hidden": true
    },
    "tags": []
   },
   "outputs": [
    {
     "name": "stdout",
     "output_type": "stream",
     "text": [
      "(469,)\n"
     ]
    },
    {
     "data": {
      "text/plain": [
       "array([6.51355411e-05, 4.86756743e-04, 5.16658185e-05, 4.62923170e-04,\n",
       "       4.88270162e-05, 2.88852219e-05, 5.57343522e-05, 4.14168868e-04,\n",
       "       3.31716018e-04, 8.89040214e-05, 5.83831562e-05, 3.18791410e-05,\n",
       "       4.41837401e-05, 3.86225323e-05, 5.01800185e-04, 5.04547436e-05,\n",
       "       3.41113041e-05, 3.77235437e-05, 6.36982687e-05, 6.45568527e-05,\n",
       "       6.43808451e-05, 6.30240950e-05, 6.88775939e-05, 6.33392866e-05,\n",
       "       3.37384912e-05, 3.23190117e-05, 3.65865411e-05, 3.53557603e-05,\n",
       "       3.26889182e-05, 3.14796858e-05, 2.92056253e-05, 2.93348797e-05,\n",
       "       3.03077276e-05, 2.81523559e-05, 2.73250014e-05, 2.75888848e-05,\n",
       "       2.54497388e-05, 2.83810940e-05, 3.07122582e-05, 3.08930175e-05,\n",
       "       3.08683082e-05, 3.10977897e-05, 2.86581638e-05, 2.84874774e-05,\n",
       "       2.82279973e-05, 3.08911360e-05, 2.77835832e-05, 3.07758355e-05,\n",
       "       2.75814613e-05, 2.83373505e-05, 2.87107905e-05, 3.09124804e-05,\n",
       "       3.12566242e-05, 4.05689085e-05, 4.17415529e-05, 4.81809942e-05,\n",
       "       4.28949929e-05, 2.40832051e-05, 3.57602776e-05, 2.73948783e-05,\n",
       "       2.97689963e-05, 2.59753922e-05, 3.20389773e-05, 3.70725899e-05,\n",
       "       3.53932681e-05, 3.60402361e-05, 3.66686557e-05, 4.16237335e-05,\n",
       "       4.68499790e-05, 4.76968448e-05, 2.16309517e-05, 2.22002479e-05,\n",
       "       1.58221206e-05, 1.58980904e-05, 1.68183216e-05, 1.59400495e-05,\n",
       "       1.57942248e-05, 1.59633766e-05, 1.47047549e-04, 3.25727994e-04,\n",
       "       2.16411715e-04, 1.64694047e-04, 1.70279818e-04, 1.02305278e-04,\n",
       "       9.89379468e-05, 2.13856008e-05, 6.16575578e-05, 6.46859864e-05,\n",
       "       6.34012084e-05, 6.48637901e-05, 6.00461723e-05, 4.26643096e-05,\n",
       "       4.42207116e-05, 3.21412007e-05, 3.49002020e-05, 3.27208346e-05,\n",
       "       3.59415134e-05, 3.37825746e-05, 5.62094863e-05, 5.32119081e-05,\n",
       "       5.49356151e-05, 5.14649117e-05, 5.15450432e-05, 4.89806953e-05,\n",
       "       3.96854230e-05, 3.52383275e-05, 4.95453126e-05, 4.75209505e-05,\n",
       "       4.16074193e-05, 7.32293352e-05, 8.28829513e-05, 8.07246010e-05,\n",
       "       8.25717493e-05, 5.10496661e-05, 5.22194714e-05, 4.86662046e-05,\n",
       "       4.63382121e-05, 4.54257367e-05, 4.44114191e-05, 4.80580587e-05,\n",
       "       4.45701917e-05, 3.15638231e-05, 3.09934845e-05, 2.69853100e-04,\n",
       "       4.25032883e-04, 4.30759087e-04, 2.32435164e-04, 2.40419349e-04,\n",
       "       2.31996109e-04, 2.60613451e-04, 2.79082900e-04, 2.41358919e-04,\n",
       "       1.61771565e-04, 1.27062989e-04, 9.65479544e-05, 1.40599557e-04,\n",
       "       8.95196018e-05, 1.10135660e-04, 6.15083224e-05, 6.60745556e-05,\n",
       "       5.42638120e-05, 4.57292984e-05, 4.33629626e-05, 2.92501480e-05,\n",
       "       6.41054902e-05, 1.19851022e-04, 1.02932307e-04, 9.18335796e-05,\n",
       "       7.61567458e-05, 3.96487377e-04, 2.00951295e-04, 4.62044839e-04,\n",
       "       2.97590134e-04, 2.31861850e-04, 2.35162921e-04, 8.53473226e-04,\n",
       "       2.82362663e-03, 4.88295973e-01, 1.63133398e-01, 9.45219921e-02,\n",
       "       2.98013256e-03, 1.91638579e-03, 6.85736446e-03, 1.78705539e-05,\n",
       "       1.78929069e-05, 1.76643713e-05, 1.66488774e-05, 1.59127291e-05,\n",
       "       1.75738164e-05, 1.70835774e-05, 1.62482030e-05, 1.58937684e-05,\n",
       "       1.54331431e-05, 1.62172397e-05, 1.63573154e-05, 1.56484089e-05,\n",
       "       2.36276949e-05, 2.41289600e-05, 2.03635413e-05, 4.80618575e-05,\n",
       "       5.03787484e-05, 5.27868218e-05, 7.08001214e-05, 6.38715058e-05,\n",
       "       8.25961982e-05, 9.71454445e-05, 1.02889006e-04, 1.12965532e-04,\n",
       "       1.09534481e-04, 2.84159616e-04, 2.89515532e-04, 3.60344428e-04,\n",
       "       1.81186122e-03, 9.94038311e-04, 6.48858577e-04, 4.88689426e-04,\n",
       "       2.97357401e-04, 3.28117427e-04, 3.44515889e-04, 3.52083985e-04,\n",
       "       3.38434468e-04, 3.13641943e-04, 4.42146791e-04, 4.03813366e-04,\n",
       "       3.97230289e-04, 3.86807432e-04, 2.39160978e-04, 2.55353149e-04,\n",
       "       4.35257975e-04, 8.20751052e-05, 7.73248435e-05, 6.85314180e-05,\n",
       "       8.15842123e-05, 8.14766111e-05, 7.10190910e-05, 5.99521637e-05,\n",
       "       5.35669591e-04, 6.54886533e-04, 6.58500594e-04, 1.10227048e-03,\n",
       "       8.29128056e-04, 1.20063062e-03, 8.24104711e-04, 9.01142529e-05,\n",
       "       2.90629789e-05, 1.83090515e-05, 3.50260636e-04, 2.97139175e-04,\n",
       "       1.85881954e-04, 1.69014194e-04, 2.01956858e-04, 2.77455777e-04,\n",
       "       3.06433815e-04, 2.74417619e-04, 2.60810463e-04, 2.99694922e-04,\n",
       "       5.01577259e-04, 5.24906006e-04, 4.76483176e-04, 3.80296583e-04,\n",
       "       3.64990207e-04, 3.67592586e-03, 4.97893316e-04, 1.31377346e-03,\n",
       "       2.61561986e-04, 3.53135131e-04, 4.50629188e-04, 3.82699624e-04,\n",
       "       4.03351108e-05, 4.23177162e-05, 1.64797096e-05, 1.68014311e-05,\n",
       "       1.99981146e-05, 1.56742252e-05, 3.95468224e-05, 3.90809290e-05,\n",
       "       4.30608091e-05, 3.75610303e-05, 3.40553719e-05, 4.08781143e-05,\n",
       "       4.48346659e-05, 3.91698487e-05, 5.17023675e-05, 5.24528258e-05,\n",
       "       4.25197018e-05, 4.30403913e-05, 4.92935911e-05, 4.15938099e-05,\n",
       "       4.70557217e-05, 4.66903854e-05, 3.86687328e-05, 2.81593116e-05,\n",
       "       3.33096708e-05, 3.09162410e-05, 3.56520549e-05, 5.13334574e-05,\n",
       "       4.82348624e-05, 5.19306023e-05, 8.03220537e-05, 9.27326562e-05,\n",
       "       5.52602566e-05, 1.01466371e-04, 1.03587062e-04, 9.37715820e-05,\n",
       "       8.58847573e-05, 7.73042118e-05, 1.26083366e-04, 1.25920192e-04,\n",
       "       2.21574126e-04, 2.25244577e-04, 3.08797135e-04, 2.20096145e-04,\n",
       "       2.65693172e-04, 2.23006381e-04, 2.66722194e-04, 1.64252772e-05,\n",
       "       6.88565028e-05, 6.43102256e-05, 5.80017807e-05, 7.89351622e-05,\n",
       "       8.10472292e-05, 7.79957008e-05, 4.52782778e-05, 4.92442218e-05,\n",
       "       4.66292139e-05, 3.26890173e-04, 4.14639885e-04, 8.18947438e-04,\n",
       "       3.15387985e-04, 2.38709989e-04, 4.05643024e-04, 2.37962912e-04,\n",
       "       2.83314027e-03, 1.42853910e-03, 8.39500858e-04, 5.94865008e-05,\n",
       "       7.53388374e-05, 1.81320478e-05, 1.72408672e-05, 1.77645940e-05,\n",
       "       2.47027814e-05, 1.79410075e-05, 1.67042887e-05, 1.65281884e-05,\n",
       "       6.41942900e-05, 5.51914261e-05, 5.45577940e-05, 2.42777121e-05,\n",
       "       2.70436881e-05, 2.99116019e-05, 2.91288691e-05, 5.13715840e-05,\n",
       "       4.45779390e-05, 3.97423340e-05, 4.46342955e-05, 4.11629121e-05,\n",
       "       1.64394048e-04, 1.30742326e-04, 6.10637894e-05, 5.00117810e-05,\n",
       "       4.69815019e-05, 3.62868139e-05, 3.07669093e-05, 2.68820666e-05,\n",
       "       1.66388850e-05, 1.86766568e-05, 1.84353343e-05, 8.64104921e-05,\n",
       "       7.37775921e-05, 6.98727871e-05, 4.33988274e-05, 5.41885163e-05,\n",
       "       2.57338906e-05, 1.67601632e-05, 2.02253567e-05, 3.29944324e-05,\n",
       "       8.47613360e-05, 1.99796232e-04, 4.01980585e-05, 3.55297816e-05,\n",
       "       6.86239258e-05, 2.89419609e-05, 3.35671178e-05, 4.34103924e-05,\n",
       "       3.40089367e-05, 2.78589257e-05, 4.13812335e-05, 4.79605970e-05,\n",
       "       1.69937563e-05, 1.71872951e-05, 1.77396937e-05, 1.90969416e-05,\n",
       "       2.36360322e-05, 3.23322467e-04, 2.43623375e-04, 1.81571140e-04,\n",
       "       3.15040252e-04, 2.43966420e-04, 2.17213255e-04, 4.84525961e-04,\n",
       "       2.69151401e-04, 9.82250857e-05, 2.41388442e-04, 2.01544668e-04,\n",
       "       1.92284017e-04, 1.72687040e-05, 1.11242012e-03, 2.37547201e-04,\n",
       "       1.26387929e-03, 2.84857231e-05, 3.71214585e-05, 4.19136087e-05,\n",
       "       4.04546918e-05, 2.78889843e-05, 3.08918683e-05, 3.22677889e-05,\n",
       "       8.51015336e-05, 6.79555345e-05, 6.55680810e-05, 7.52810265e-05,\n",
       "       4.59471960e-05, 7.33532650e-03, 1.40843830e-04, 3.48242150e-04,\n",
       "       3.00459865e-04, 1.67414144e-05, 2.52517476e-05, 2.60677221e-05,\n",
       "       2.45210059e-05, 2.42184352e-05, 2.60296844e-05, 2.61492750e-05,\n",
       "       2.66965715e-05, 2.73471168e-05, 2.70616412e-05, 2.70415329e-05,\n",
       "       2.73532252e-05, 2.77247070e-05, 2.79623112e-05, 2.81984596e-05,\n",
       "       2.90758499e-05, 2.82816960e-05, 1.62185169e-01, 1.60821463e-04,\n",
       "       4.13661871e-05, 4.56927374e-05, 6.76217537e-04, 4.38635469e-04,\n",
       "       3.84564552e-04, 1.61975742e-05, 2.24951909e-05, 9.84387258e-05,\n",
       "       1.19933486e-04, 6.65067885e-05, 4.13742131e-05, 3.51363976e-05,\n",
       "       4.25633401e-05, 3.80375186e-05, 4.19726768e-05, 3.66641325e-05,\n",
       "       3.50468593e-05, 3.95385818e-05, 3.38288069e-05, 4.11127470e-05,\n",
       "       3.71195890e-05, 5.26484430e-05, 5.30470321e-05, 4.53173209e-05,\n",
       "       5.93898235e-05, 2.25562190e-05, 1.97681993e-05, 3.57890274e-05,\n",
       "       1.03587184e-04, 7.59165502e-05, 1.41922372e-04, 1.28820797e-04,\n",
       "       8.28608013e-05, 7.38044058e-05, 3.52135777e-05, 3.77598480e-05,\n",
       "       5.46938042e-05, 4.87411319e-05, 1.78821957e-04, 1.55850230e-04,\n",
       "       9.24543891e-05, 2.39376129e-05, 1.97093931e-05, 2.66194299e-05,\n",
       "       7.30174887e-05])"
      ]
     },
     "execution_count": 75,
     "metadata": {},
     "output_type": "execute_result"
    }
   ],
   "source": [
    "print(weights.shape)\n",
    "weights"
   ]
  },
  {
   "cell_type": "code",
   "execution_count": 76,
   "id": "a14bfa65-e394-41d0-be75-72d0dfceb317",
   "metadata": {},
   "outputs": [],
   "source": [
    "# z = z.reshape((z.shape[0],1))"
   ]
  },
  {
   "cell_type": "code",
   "execution_count": 77,
   "id": "253c3591-3a55-4c3c-81f3-07aa254a5b55",
   "metadata": {},
   "outputs": [
    {
     "data": {
      "text/plain": [
       "(195466, 2)"
      ]
     },
     "execution_count": 77,
     "metadata": {},
     "output_type": "execute_result"
    }
   ],
   "source": [
    "z.shape"
   ]
  },
  {
   "cell_type": "code",
   "execution_count": 78,
   "id": "086ef516-2918-4243-91e2-15f5debe6dc0",
   "metadata": {},
   "outputs": [
    {
     "data": {
      "text/plain": [
       "(195466, 1)"
      ]
     },
     "execution_count": 78,
     "metadata": {},
     "output_type": "execute_result"
    }
   ],
   "source": [
    "idx.shape"
   ]
  },
  {
   "cell_type": "code",
   "execution_count": 83,
   "id": "0ac0ba74-bbb7-4bcf-a128-57cb9603f153",
   "metadata": {},
   "outputs": [
    {
     "data": {
      "text/plain": [
       "(195466, 2)"
      ]
     },
     "execution_count": 83,
     "metadata": {},
     "output_type": "execute_result"
    }
   ],
   "source": [
    "z_idx = z*idx\n",
    "z_idx.shape"
   ]
  },
  {
   "cell_type": "code",
   "execution_count": 87,
   "id": "e649baf5-7ab8-429d-88e6-d3cdff455e21",
   "metadata": {},
   "outputs": [
    {
     "data": {
      "text/plain": [
       "array([469])"
      ]
     },
     "execution_count": 87,
     "metadata": {},
     "output_type": "execute_result"
    }
   ],
   "source": [
    "sum(idx)"
   ]
  },
  {
   "cell_type": "code",
   "execution_count": 104,
   "id": "d37d12a3-2f2f-43b3-bbe1-1189c9c4d8ce",
   "metadata": {},
   "outputs": [
    {
     "data": {
      "text/plain": [
       "(1004, 2)"
      ]
     },
     "execution_count": 104,
     "metadata": {},
     "output_type": "execute_result"
    }
   ],
   "source": [
    "z[np.in1d(z[:,0], idx)].shape"
   ]
  },
  {
   "cell_type": "code",
   "execution_count": null,
   "id": "4fb16071-2895-4d43-b72a-b5f66a25984e",
   "metadata": {},
   "outputs": [],
   "source": [
    "xy_dat[((xy_dat[:,0] > min) & (xy_dat[:,0] < max))]"
   ]
  },
  {
   "cell_type": "code",
   "execution_count": 115,
   "id": "453c2a1c-8a12-41a3-aef8-95f96b803911",
   "metadata": {},
   "outputs": [
    {
     "data": {
      "text/plain": [
       "(195466,)"
      ]
     },
     "execution_count": 115,
     "metadata": {},
     "output_type": "execute_result"
    }
   ],
   "source": [
    "np.squeeze(idx).shape"
   ]
  },
  {
   "cell_type": "code",
   "execution_count": 117,
   "id": "dfdc4f81-eca1-4c10-a65e-69e28a0d320e",
   "metadata": {},
   "outputs": [
    {
     "data": {
      "text/plain": [
       "(469,)"
      ]
     },
     "execution_count": 117,
     "metadata": {},
     "output_type": "execute_result"
    }
   ],
   "source": [
    "z[np.squeeze(idx),1]"
   ]
  },
  {
   "cell_type": "code",
   "execution_count": 122,
   "id": "b259736a-4b3f-466b-94c9-d89022cab8c8",
   "metadata": {},
   "outputs": [
    {
     "data": {
      "text/plain": [
       "(469, 2)"
      ]
     },
     "execution_count": 122,
     "metadata": {},
     "output_type": "execute_result"
    }
   ],
   "source": [
    "z[np.squeeze(idx)].shape"
   ]
  },
  {
   "cell_type": "code",
   "execution_count": 105,
   "id": "47aae2d0-7056-456b-bd43-6b033932d38f",
   "metadata": {},
   "outputs": [
    {
     "data": {
      "text/plain": [
       "array([[0],\n",
       "       [0],\n",
       "       [0],\n",
       "       ...,\n",
       "       [0],\n",
       "       [0],\n",
       "       [0]])"
      ]
     },
     "execution_count": 105,
     "metadata": {},
     "output_type": "execute_result"
    }
   ],
   "source": [
    "[z[:,c]]"
   ]
  },
  {
   "cell_type": "code",
   "execution_count": 132,
   "id": "b20b55b7-2750-4897-ad10-33155a264127",
   "metadata": {},
   "outputs": [
    {
     "data": {
      "text/plain": [
       "array([86.9368287 , 86.29287505])"
      ]
     },
     "execution_count": 132,
     "metadata": {},
     "output_type": "execute_result"
    }
   ],
   "source": [
    "# z_idx = idx*z\n",
    "z_idx = z[np.squeeze(idx)]\n",
    "int_time = np.dot(weights.T, z_idx)\n",
    "int_time"
   ]
  },
  {
   "cell_type": "code",
   "execution_count": 165,
   "id": "a047043e-493a-424f-ad66-bc7ea5617311",
   "metadata": {},
   "outputs": [
    {
     "data": {
      "text/plain": [
       "226266.1440714268"
      ]
     },
     "execution_count": 165,
     "metadata": {},
     "output_type": "execute_result"
    }
   ],
   "source": [
    "z_idx.sum()"
   ]
  },
  {
   "cell_type": "markdown",
   "id": "6efb98c4-7be7-45c7-ac6b-2e27f7829cd3",
   "metadata": {
    "jp-MarkdownHeadingCollapsed": true,
    "tags": []
   },
   "source": [
    "### filter * idx"
   ]
  },
  {
   "cell_type": "code",
   "execution_count": 32,
   "id": "f023130a-7640-49c8-8b93-27bc35419519",
   "metadata": {},
   "outputs": [
    {
     "data": {
      "text/plain": [
       "(195466, 201)"
      ]
     },
     "execution_count": 32,
     "metadata": {},
     "output_type": "execute_result"
    }
   ],
   "source": [
    "search_radius = 5000\n",
    "idx = dist<=search_radius\n",
    "idx_num = idx * 1\n",
    "idx_num = idx_num.astype('float32')\n",
    "idx_num[idx_num == 0] = np.nan\n",
    "# filter_dist = dist[idx]\n",
    "filter_dist = dist*idx_num\n",
    "filter_dist.shape"
   ]
  },
  {
   "cell_type": "code",
   "execution_count": 33,
   "id": "ff55c3bd-89b9-43aa-a6dd-f30c82516f6d",
   "metadata": {},
   "outputs": [
    {
     "data": {
      "text/plain": [
       "nan"
      ]
     },
     "execution_count": 33,
     "metadata": {},
     "output_type": "execute_result"
    }
   ],
   "source": [
    "filter_dist.sum()"
   ]
  },
  {
   "cell_type": "code",
   "execution_count": 34,
   "id": "0cdc8054-99b0-4360-a457-fd728f076668",
   "metadata": {},
   "outputs": [
    {
     "data": {
      "text/plain": [
       "4642529510.202326"
      ]
     },
     "execution_count": 34,
     "metadata": {},
     "output_type": "execute_result"
    }
   ],
   "source": [
    "filter_dist[~np.isnan(filter_dist)].sum()"
   ]
  },
  {
   "cell_type": "code",
   "execution_count": 35,
   "id": "2908fca6-c265-4231-acce-30f480d3ccc4",
   "metadata": {},
   "outputs": [
    {
     "data": {
      "text/plain": [
       "(195466, 201)"
      ]
     },
     "execution_count": 35,
     "metadata": {},
     "output_type": "execute_result"
    }
   ],
   "source": [
    "dist.shape"
   ]
  },
  {
   "cell_type": "code",
   "execution_count": 36,
   "id": "554805ff-cb9e-4926-a29b-abbdab296fd8",
   "metadata": {},
   "outputs": [],
   "source": [
    "power = 4\n",
    "weights = 1.0/(filter_dist+1e-12)**power"
   ]
  },
  {
   "cell_type": "code",
   "execution_count": 37,
   "id": "ff721961-4df8-4f4e-9636-ff5789c60d17",
   "metadata": {},
   "outputs": [],
   "source": [
    "weights /= np.nansum(weights, axis=0)"
   ]
  },
  {
   "cell_type": "code",
   "execution_count": 52,
   "id": "1707c8c9-a07d-4d7e-8ccb-6c6540496876",
   "metadata": {},
   "outputs": [
    {
     "data": {
      "text/plain": [
       "(195466, 201)"
      ]
     },
     "execution_count": 52,
     "metadata": {},
     "output_type": "execute_result"
    }
   ],
   "source": [
    "idx.shape"
   ]
  },
  {
   "cell_type": "code",
   "execution_count": 38,
   "id": "b8889454-c3af-455e-a099-9f724a5d8f0e",
   "metadata": {},
   "outputs": [
    {
     "name": "stdout",
     "output_type": "stream",
     "text": [
      "(195466, 201)\n"
     ]
    },
    {
     "data": {
      "text/plain": [
       "array([[nan, nan, nan, ..., nan, nan, nan],\n",
       "       [nan, nan, nan, ..., nan, nan, nan],\n",
       "       [nan, nan, nan, ..., nan, nan, nan],\n",
       "       ...,\n",
       "       [nan, nan, nan, ..., nan, nan, nan],\n",
       "       [nan, nan, nan, ..., nan, nan, nan],\n",
       "       [nan, nan, nan, ..., nan, nan, nan]])"
      ]
     },
     "execution_count": 38,
     "metadata": {},
     "output_type": "execute_result"
    }
   ],
   "source": [
    "print(weights.shape)\n",
    "weights"
   ]
  },
  {
   "cell_type": "code",
   "execution_count": 39,
   "id": "3635e105-5876-414c-88b5-798b60209160",
   "metadata": {},
   "outputs": [
    {
     "data": {
      "text/plain": [
       "201.00000000000003"
      ]
     },
     "execution_count": 39,
     "metadata": {},
     "output_type": "execute_result"
    }
   ],
   "source": [
    "np.nansum(weights)"
   ]
  },
  {
   "cell_type": "code",
   "execution_count": 40,
   "id": "4bfd22a7-9785-4925-b605-215299e4c1d4",
   "metadata": {},
   "outputs": [
    {
     "data": {
      "text/plain": [
       "array([0.00133295, 0.00308504, 0.00714605, ..., 0.0010786 , 0.00109094,\n",
       "       0.00477411])"
      ]
     },
     "execution_count": 40,
     "metadata": {},
     "output_type": "execute_result"
    }
   ],
   "source": [
    "weights[weights>0.001]"
   ]
  },
  {
   "cell_type": "code",
   "execution_count": 41,
   "id": "0407a856-cef2-4948-be61-6797ff09562d",
   "metadata": {},
   "outputs": [],
   "source": [
    "# z = z.reshape((z.shape[0],1))"
   ]
  },
  {
   "cell_type": "code",
   "execution_count": 42,
   "id": "7dbdfb9e-bbb1-465f-9281-c1d6f7fd18d1",
   "metadata": {},
   "outputs": [
    {
     "data": {
      "text/plain": [
       "(195466, 2)"
      ]
     },
     "execution_count": 42,
     "metadata": {},
     "output_type": "execute_result"
    }
   ],
   "source": [
    "z.shape"
   ]
  },
  {
   "cell_type": "code",
   "execution_count": 43,
   "id": "ff99bc14-7491-4448-b4c2-35dd783221f8",
   "metadata": {},
   "outputs": [
    {
     "data": {
      "text/plain": [
       "(195466, 201)"
      ]
     },
     "execution_count": 43,
     "metadata": {},
     "output_type": "execute_result"
    }
   ],
   "source": [
    "idx.shape"
   ]
  },
  {
   "cell_type": "code",
   "execution_count": 45,
   "id": "5bb9a892-2fc1-48e9-aa7b-7151861800ff",
   "metadata": {
    "collapsed": true,
    "jupyter": {
     "outputs_hidden": true
    },
    "tags": []
   },
   "outputs": [
    {
     "data": {
      "text/plain": [
       "array([[ 86.9368287 ,  86.29287505],\n",
       "       [ 19.57599869,  22.90489574],\n",
       "       [ 16.44813807,  19.38842603],\n",
       "       [ 66.57456918,  65.60027632],\n",
       "       [ 54.61482687,  55.82888602],\n",
       "       [  2.07067307,   3.24183764],\n",
       "       [ 24.02145965,  24.01955349],\n",
       "       [ 34.48629402,  33.97639742],\n",
       "       [ 17.78393462,  11.31195445],\n",
       "       [ 18.91449398,  24.00205023],\n",
       "       [ 18.55208824,  19.94630105],\n",
       "       [ 42.9726949 ,  39.85157892],\n",
       "       [ 38.28917933,  27.99666085],\n",
       "       [ 59.3105952 ,  58.60075952],\n",
       "       [ 75.66366616,  72.74527232],\n",
       "       [ 41.69498027,  41.07672292],\n",
       "       [ 89.94205467,  90.69110722],\n",
       "       [ 25.73508308,   8.32521455],\n",
       "       [ 44.96633633,  37.02338369],\n",
       "       [ 90.52113086,  91.41317545],\n",
       "       [ 81.52068603,  78.5350173 ],\n",
       "       [ 84.43697406,  32.88647198],\n",
       "       [ 16.56219018,   8.22838466],\n",
       "       [ 32.61351477,  33.91946946],\n",
       "       [ 31.45590044,  29.28821264],\n",
       "       [ 50.18470618,  45.27266429],\n",
       "       [ 84.03142733,  86.37134956],\n",
       "       [ 24.99646905,  26.15657975],\n",
       "       [  5.10423683,   9.08299057],\n",
       "       [ 83.29992618,  81.50035164],\n",
       "       [  5.02897454,   3.05357503],\n",
       "       [ 33.61039816,  34.16239277],\n",
       "       [ 13.84111881,  18.34793613],\n",
       "       [ 60.30088597,  59.99276905],\n",
       "       [ 75.13623506,  85.07082159],\n",
       "       [ 92.6474992 ,  99.25392301],\n",
       "       [ 20.21610049,  18.06255332],\n",
       "       [ 43.31253013,  41.72992936],\n",
       "       [ 66.4081703 ,  41.89038825],\n",
       "       [ 43.44514699,  44.68977425],\n",
       "       [ 47.4399007 ,  38.93466732],\n",
       "       [ 47.75835227,  53.87846934],\n",
       "       [  3.34747815,   6.8192416 ],\n",
       "       [ 41.27206619,  33.27429062],\n",
       "       [ 15.68075958,  14.67105413],\n",
       "       [ 17.582447  ,   7.26070447],\n",
       "       [ 50.51624384,  50.78572487],\n",
       "       [ 11.58025705,  14.34866225],\n",
       "       [ 10.97616169,  10.77778426],\n",
       "       [ 41.79520593,  29.6916033 ],\n",
       "       [ 12.00997621,  17.52777428],\n",
       "       [ 24.77904238,  22.2954127 ],\n",
       "       [ 34.12535861,  33.79131206],\n",
       "       [ 29.62728529,  29.37436496],\n",
       "       [ 57.33887011,  56.98159948],\n",
       "       [  4.81369423,   7.04699834],\n",
       "       [ 22.87144685,  14.06922982],\n",
       "       [ 18.1309639 ,  17.20231636],\n",
       "       [  5.50738091,  10.88151484],\n",
       "       [ 25.47632812,  28.4340704 ],\n",
       "       [108.06733269,  99.39073687],\n",
       "       [ 40.22127513,  42.70156275],\n",
       "       [ 82.32316711,  74.93355529],\n",
       "       [  6.33461201,   5.49191155],\n",
       "       [  4.5169911 ,   4.62968818],\n",
       "       [ 12.98112352,  12.68459511],\n",
       "       [ 14.76044185,   6.04516632],\n",
       "       [ 66.96049293,  71.55437327],\n",
       "       [ 99.60079224,  93.30898669],\n",
       "       [ 53.15737937,  57.44080965],\n",
       "       [ 11.58491353,   8.79910229],\n",
       "       [ 10.25913489,   9.91818426],\n",
       "       [ 66.69580334,  78.78347644],\n",
       "       [ 44.9642942 ,  45.32263825],\n",
       "       [ 59.69257676,  57.41633379],\n",
       "       [ 62.09919215,  62.1269634 ],\n",
       "       [ 38.84351009,  37.24223368],\n",
       "       [ 62.88487674,  55.90531468],\n",
       "       [  6.08787811,   3.79622727],\n",
       "       [ 45.59713303,  42.70195296],\n",
       "       [ 18.44099797,  15.4002462 ],\n",
       "       [ 30.65927282,  17.59505737],\n",
       "       [ 12.59377865,   8.33113159],\n",
       "       [ 19.95120172,  19.24180523],\n",
       "       [ 71.64569101,  92.03039381],\n",
       "       [ 81.81030963,  78.62911582],\n",
       "       [ 49.24088307,  50.63184805],\n",
       "       [  5.23986488,  12.60285107],\n",
       "       [ 97.80833561,  94.77867987],\n",
       "       [ 36.91469947,  36.69523829],\n",
       "       [  8.19344038,   5.4928411 ],\n",
       "       [ 26.44473438,  11.47969869],\n",
       "       [ 43.10588853,  42.53099728],\n",
       "       [ 14.27480143,  14.15250015],\n",
       "       [ 10.21090356,   7.55360541],\n",
       "       [ 73.06839562,  78.62371473],\n",
       "       [ 12.16948155,  12.08479846],\n",
       "       [ 10.31519413,   4.55052709],\n",
       "       [ 85.84706206,  88.56333008],\n",
       "       [ 85.87524895,  86.70504018],\n",
       "       [ 14.41720101,  14.34957481],\n",
       "       [ 45.74833268,  54.27592229],\n",
       "       [119.84211089, 120.2079846 ],\n",
       "       [ 11.76808068,  10.45044171],\n",
       "       [ 11.06356814,  11.63419877],\n",
       "       [ 53.02505766,  54.4781867 ],\n",
       "       [ 70.84641324,  61.61027603],\n",
       "       [ 10.36012728,  12.87914259],\n",
       "       [ 55.78587961,  30.99988519],\n",
       "       [  9.84444245,   9.71821019],\n",
       "       [ 29.66663774,  29.6542332 ],\n",
       "       [ 77.23302819,  76.53102163],\n",
       "       [  8.36894742,  10.09941083],\n",
       "       [ 62.9027701 ,  49.19848289],\n",
       "       [ 87.58734152,  82.61109147],\n",
       "       [128.03148191, 128.4040845 ],\n",
       "       [ 72.4642148 ,  78.30207324],\n",
       "       [ 23.46561987,  13.39731309],\n",
       "       [ 10.12338813,  10.49386644],\n",
       "       [ 47.88449478,  46.26011933],\n",
       "       [ 60.90417554,  55.84243376],\n",
       "       [ 13.69988488,  15.20850399],\n",
       "       [ 32.8678665 ,  35.10029604],\n",
       "       [ 56.4234986 ,  66.1662327 ],\n",
       "       [  7.61979728,   8.77815135],\n",
       "       [ 74.57604656,  76.85731474],\n",
       "       [ 28.80980094,  19.97667537],\n",
       "       [ 32.13056678,  30.91751274],\n",
       "       [ 23.70996313,  18.65158877],\n",
       "       [ 81.56739491,  84.88693544],\n",
       "       [ 20.0533253 ,  22.53789393],\n",
       "       [ 36.72644525,  33.14646941],\n",
       "       [ 27.57422434,  27.45725353],\n",
       "       [ 47.97709637,  50.60153308],\n",
       "       [ 62.72775781,  59.19205101],\n",
       "       [ 29.78430445,  24.70994411],\n",
       "       [  4.55194213,  10.35256145],\n",
       "       [ 15.53288171,  11.03498495],\n",
       "       [ 90.28088532,  79.95195709],\n",
       "       [ 26.6047889 ,  24.26471116],\n",
       "       [268.07579031, 256.88195633],\n",
       "       [ 32.91045461,  30.52817365],\n",
       "       [ 85.89679622,  87.34097354],\n",
       "       [159.06685323, 158.6468296 ],\n",
       "       [ 47.82775392,  43.47102793],\n",
       "       [  7.63958838,   0.67775588],\n",
       "       [ 47.26575058,  45.68199777],\n",
       "       [ 24.90497896,  27.19654448],\n",
       "       [ 18.70624287,  11.19297269],\n",
       "       [  4.17430525,   5.12230682],\n",
       "       [  6.49697221,  14.31592717],\n",
       "       [ 33.76949553,  18.06226067],\n",
       "       [ 86.67531204,  90.34208497],\n",
       "       [ 46.78778149,  37.43363801],\n",
       "       [ 40.36702046,  39.82028139],\n",
       "       [ 38.89048333,  30.54740432],\n",
       "       [ 16.71137725,   3.75281377],\n",
       "       [  3.15903765,   5.54580866],\n",
       "       [ 83.89071071,  80.77479601],\n",
       "       [ 25.51397933,   9.50299398],\n",
       "       [ 23.60789225,  21.41974962],\n",
       "       [103.45904576,  96.54816999],\n",
       "       [ 59.34568798,  59.11555178],\n",
       "       [  2.84650416,   3.81492799],\n",
       "       [  3.91342774,   7.27778511],\n",
       "       [ 12.28478148,  11.85064063],\n",
       "       [ 93.91507745,  94.97404633],\n",
       "       [ 35.15258943,  39.06576761],\n",
       "       [ 36.17602187,  30.56641957],\n",
       "       [ 53.83325303,  50.39117877],\n",
       "       [281.18615703, 280.94497991],\n",
       "       [  6.34462103,   7.26689062],\n",
       "       [ 21.01585482,  19.68815305],\n",
       "       [ 17.91397507,  18.90674019],\n",
       "       [ 22.72471783,  22.86478639],\n",
       "       [ 81.09424375,  83.46388784],\n",
       "       [ 55.76608084,  55.76607406],\n",
       "       [  6.668434  ,   6.66824008],\n",
       "       [  4.22151923,   5.92102832],\n",
       "       [ 21.10578113,   7.49916799],\n",
       "       [  4.70702972,   5.87888715],\n",
       "       [ 94.68068891,  97.25271489],\n",
       "       [ 30.75371128,  15.07146441],\n",
       "       [  6.61465055,  13.50081121],\n",
       "       [ 23.08575867,   8.54728145],\n",
       "       [ 28.17107685,  21.5826274 ],\n",
       "       [ 51.44772989,  51.44771502],\n",
       "       [ 48.39527751,  51.68663268],\n",
       "       [ 14.31825986,  10.39550938],\n",
       "       [ 89.99467001,  65.054916  ],\n",
       "       [  4.54428126,   5.03941058],\n",
       "       [112.25989064, 109.24559539],\n",
       "       [ 72.84839783,  69.98451084],\n",
       "       [ 74.89682043,  75.95230127],\n",
       "       [  6.61297725,   6.65455274],\n",
       "       [ 29.67847695,  23.07954117],\n",
       "       [110.67496465, 107.66432078],\n",
       "       [  8.20588437,   1.46881277],\n",
       "       [ 29.93951824,  31.76097272],\n",
       "       [ 27.06136687,  31.17621188],\n",
       "       [ 15.19490478,  21.93388352]])"
      ]
     },
     "execution_count": 45,
     "metadata": {},
     "output_type": "execute_result"
    }
   ],
   "source": [
    "# z_idx = idx_num*z\n",
    "# z_idx = z[idx]\n",
    "int_time = np.where(np.isnan(weights.T),0,weights.T).dot(np.where(np.isnan(z),0,z))\n",
    "int_time"
   ]
  },
  {
   "cell_type": "code",
   "execution_count": 319,
   "id": "a839a8be-4a8e-4f43-bafd-9d9d1a3e6cc3",
   "metadata": {},
   "outputs": [
    {
     "data": {
      "text/plain": [
       "(201, 1)"
      ]
     },
     "execution_count": 319,
     "metadata": {},
     "output_type": "execute_result"
    }
   ],
   "source": [
    "int_time.shape"
   ]
  },
  {
   "cell_type": "markdown",
   "id": "ebc6322b-a30a-4142-9790-587266b657c9",
   "metadata": {},
   "source": [
    "## Interpolation testing"
   ]
  },
  {
   "cell_type": "code",
   "execution_count": 114,
   "id": "6699e9bc-6598-4006-8dc0-1408d5e8c234",
   "metadata": {
    "jupyter": {
     "source_hidden": true
    },
    "tags": []
   },
   "outputs": [],
   "source": [
    "def idw_at_point(x, y, z, xi, yi, power=2, search_radius=None):\n",
    "    # format observed and interpolation points data\n",
    "    obs = np.vstack((x, y)).T\n",
    "    interp = np.vstack((xi, yi)).T\n",
    "    \n",
    "    # calculate linear distance in x and y\n",
    "    d0 = np.subtract.outer(obs[:,0], interp[:,0])\n",
    "    d1 = np.subtract.outer(obs[:,1], interp[:,1])\n",
    "    # calculate linear distance from observations to interpolation points\n",
    "    dist = np.hypot(d0, d1)\n",
    "    # filter data by search radius\n",
    "    if search_radius:\n",
    "        idx = dist<=search_radius\n",
    "        dist = dist[idx]\n",
    "        z = z.reshape((z.shape[0],1))\n",
    "        z = z[idx]\n",
    "    # calculate weights\n",
    "    weights = 1.0/(dist+1e-12)**power\n",
    "    weights /= weights.sum(axis=0)\n",
    "    # caculate dot product of weight matrix and z value matrix\n",
    "    int_value = np.dot(weights.T, z)\n",
    "    return int_value\n",
    "    "
   ]
  },
  {
   "cell_type": "code",
   "execution_count": 46,
   "id": "9d6a63b0-45bb-4210-8659-421eb5f59a9b",
   "metadata": {},
   "outputs": [],
   "source": [
    "def idw_at_point_vtest1(x, y, z, xi, yi, power=2, search_radius=None):\n",
    "    \n",
    "    # filter by distance\n",
    "    if search_radius:\n",
    "        id_x = (x<=xi+search_radius)&(x>=xi-search_radius)\n",
    "        id_y = (y<=yi+search_radius)&(y>=yi-search_radius)\n",
    "        id_xy = id_x+id_y\n",
    "        z = z[np.squeeze(id_xy)].copy()\n",
    "        obs = np.vstack((x[id_xy], y[id_xy])).T\n",
    "        \n",
    "    else:\n",
    "        # format observed and interpolation points data\n",
    "        obs = np.vstack((x, y)).T\n",
    "    \n",
    "    interp = np.vstack((xi, yi)).T\n",
    "    \n",
    "    # calculate linear distance in x and y\n",
    "    d0 = np.subtract.outer(obs[:,0], interp[:,0])\n",
    "    d1 = np.subtract.outer(obs[:,1], interp[:,1])\n",
    "    # calculate linear distance from observations to interpolation points\n",
    "    dist = np.hypot(d0, d1)\n",
    "    \n",
    "    # filter data by search radius\n",
    "    if search_radius:\n",
    "        idx = dist<=search_radius\n",
    "        dist = dist[idx]\n",
    "        # z = z.reshape((z.shape[0],1))\n",
    "        z = z[np.squeeze(idx)]\n",
    "    # calculate weights\n",
    "    weights = 1.0/(dist+1e-12)**power\n",
    "    weights /= weights.sum(axis=0)\n",
    "    if weights.shape[0]==0:\n",
    "        ones = np.ones((z.shape[1],), dtype=float)\n",
    "        ones[ones==1] = -1\n",
    "        return ones\n",
    "    # caculate dot product of weight matrix and z value matrix\n",
    "    int_value = np.dot(weights.T, z)\n",
    "    return int_value"
   ]
  },
  {
   "cell_type": "code",
   "execution_count": 12,
   "id": "41d384db-03f7-4a9a-8230-9ff76d0e48f6",
   "metadata": {
    "jupyter": {
     "source_hidden": true
    },
    "tags": []
   },
   "outputs": [],
   "source": [
    "def chunker_list(seq, size):\n",
    "    return (seq[i::size] for i in range(size))"
   ]
  },
  {
   "cell_type": "code",
   "execution_count": 13,
   "id": "9e6a4dce-4299-4bbc-940e-5faf16e625f0",
   "metadata": {
    "jupyter": {
     "source_hidden": true
    },
    "tags": []
   },
   "outputs": [],
   "source": [
    "def idw_at_point_vtest2(x, y, z, xi, yi, power=2, search_radius=None):\n",
    "    \n",
    "    obs = np.vstack((x, y)).T\n",
    "    \n",
    "    interp = np.vstack((xi, yi)).T\n",
    "    \n",
    "    # calculate linear distance in x and y\n",
    "    d0 = np.subtract.outer(obs[:,0], interp[:,0])\n",
    "    d1 = np.subtract.outer(obs[:,1], interp[:,1])\n",
    "    # calculate linear distance from observations to interpolation points\n",
    "    dist = np.hypot(d0, d1)\n",
    "    # filter data by search radius\n",
    "    if search_radius:\n",
    "        idx = dist<=search_radius\n",
    "        idx_num = idx * 1\n",
    "        idx_num = idx_num.astype('float32')\n",
    "        idx_num[idx_num == 0] = np.nan\n",
    "        dist = dist*idx_num\n",
    "    # calculate weights\n",
    "    weights = 1.0/(dist+1e-12)**power\n",
    "    weights /= np.nansum(weights, axis=0)\n",
    "    # caculate dot product of weight matrix and z value matrix\n",
    "    # z = z.reshape((z.shape[0],1))\n",
    "    int_value = np.where(np.isnan(weights.T),0,weights.T).dot(np.where(np.isnan(z),0,z))\n",
    "    return int_value"
   ]
  },
  {
   "cell_type": "code",
   "execution_count": 14,
   "id": "097f9e31-46dc-44bc-992c-9d601c006c29",
   "metadata": {
    "jupyter": {
     "source_hidden": true
    },
    "tags": []
   },
   "outputs": [],
   "source": [
    "def interpolate_to_gdf(hex_gdf, x, y, z, power=2, search_radius=None):\n",
    "    hex_int = hex_gdf.copy()\n",
    "    xi = np.array(hex_gdf.geometry.x)\n",
    "    yi = np.array(hex_gdf.geometry.y)\n",
    "    hex_int['interpolated_value'] = idw_at_point_vtest2(x, y, z, xi, yi, power, search_radius)\n",
    "    return hex_int"
   ]
  },
  {
   "cell_type": "code",
   "execution_count": 31,
   "id": "23ec6e4d-62d5-4bd9-9991-9f513c1b1bf3",
   "metadata": {},
   "outputs": [],
   "source": [
    "hex_cnt = gpd.GeoDataFrame(geometry=hex_gdf.to_crs(\"EPSG:6372\").centroid)\n",
    "hex_cnt = hex_cnt.set_crs(\"EPSG:6372\")\n",
    "hex_cnt['hex_id_11'] = hex_gdf['hex_id_11']\n",
    "nodes_analysis = nodes_analysis.to_crs(\"EPSG:6372\")"
   ]
  },
  {
   "cell_type": "code",
   "execution_count": 32,
   "id": "b4c1fdd2-4f4a-46c9-b85f-b4467ac99eff",
   "metadata": {},
   "outputs": [
    {
     "data": {
      "text/plain": [
       "(1190825, 2)"
      ]
     },
     "execution_count": 32,
     "metadata": {},
     "output_type": "execute_result"
    }
   ],
   "source": [
    "hex_cnt.shape"
   ]
  },
  {
   "cell_type": "code",
   "execution_count": 42,
   "id": "b27eb69c-23ac-4b08-bf89-def256baea1c",
   "metadata": {},
   "outputs": [],
   "source": [
    "x0 = np.array(nodes_analysis.geometry.x)\n",
    "y0 = np.array(nodes_analysis.geometry.y)\n",
    "z0 = np.array((nodes_analysis.max_preescolar, nodes_analysis.max_primaria, nodes_analysis.max_secundaria, \n",
    "              nodes_analysis.max_salud, nodes_analysis.max_guarderías, nodes_analysis['max_asistencia social'],\n",
    "              nodes_analysis.max_alimentos, nodes_analysis.max_personal, nodes_analysis.max_farmacias,\n",
    "              nodes_analysis.max_hogar, nodes_analysis.max_complementarios, nodes_analysis.max_social,\n",
    "              nodes_analysis['max_actividad física'], nodes_analysis.max_cultural))\n",
    "z0 = z0.T"
   ]
  },
  {
   "cell_type": "code",
   "execution_count": 35,
   "id": "c4866b4d-8a8c-42c4-b54d-7d68d17430f7",
   "metadata": {},
   "outputs": [
    {
     "data": {
      "text/plain": [
       "(220203, 14)"
      ]
     },
     "execution_count": 35,
     "metadata": {},
     "output_type": "execute_result"
    }
   ],
   "source": [
    "z0.shape"
   ]
  },
  {
   "cell_type": "code",
   "execution_count": 36,
   "id": "723e616f-dfc4-4bd9-9a77-1b725000210f",
   "metadata": {},
   "outputs": [],
   "source": [
    "amenidades_col = ['max_preescolar','max_primaria','max_secundaria',\n",
    "               'max_salud','max_guarderías','max_asistencia social',\n",
    "               'max_alimentos','max_personal','max_farmacias','max_hogar',\n",
    "               'max_complementarios','max_social','max_actividad física',\n",
    "               'max_cultural']"
   ]
  },
  {
   "cell_type": "code",
   "execution_count": 56,
   "id": "c6664731-59a6-4e80-82e4-1cb5922b5d2a",
   "metadata": {},
   "outputs": [
    {
     "name": "stderr",
     "output_type": "stream",
     "text": [
      "/home/edgaregurrola/anaconda3/envs/odc/lib/python3.10/site-packages/numpy/core/fromnumeric.py:3199: VisibleDeprecationWarning: Creating an ndarray from ragged nested sequences (which is a list-or-tuple of lists-or-tuples-or ndarrays with different lengths or shapes) is deprecated. If you meant to do this, you must specify 'dtype=object' when creating the ndarray.\n",
      "  return asarray(a).ndim\n",
      "/home/edgaregurrola/anaconda3/envs/odc/lib/python3.10/site-packages/numpy/core/fromnumeric.py:2007: VisibleDeprecationWarning: Creating an ndarray from ragged nested sequences (which is a list-or-tuple of lists-or-tuples-or ndarrays with different lengths or shapes) is deprecated. If you meant to do this, you must specify 'dtype=object' when creating the ndarray.\n",
      "  result = asarray(a).shape\n"
     ]
    },
    {
     "ename": "ValueError",
     "evalue": "Columns must be same length as key",
     "output_type": "error",
     "traceback": [
      "\u001b[0;31m---------------------------------------------------------------------------\u001b[0m",
      "\u001b[0;31mValueError\u001b[0m                                Traceback (most recent call last)",
      "Input \u001b[0;32mIn [56]\u001b[0m, in \u001b[0;36m<cell line: 8>\u001b[0;34m()\u001b[0m\n\u001b[1;32m      2\u001b[0m start_time \u001b[38;5;241m=\u001b[39m time\u001b[38;5;241m.\u001b[39mtime()\n\u001b[1;32m      3\u001b[0m interpolation_results \u001b[38;5;241m=\u001b[39m [idw_at_point_vtest1(x0,y0,z0,\n\u001b[1;32m      4\u001b[0m                                              hex_cnt\u001b[38;5;241m.\u001b[39mloc[i]\u001b[38;5;241m.\u001b[39mgeometry\u001b[38;5;241m.\u001b[39mx,\n\u001b[1;32m      5\u001b[0m                                              hex_cnt\u001b[38;5;241m.\u001b[39mloc[i]\u001b[38;5;241m.\u001b[39mgeometry\u001b[38;5;241m.\u001b[39my,\n\u001b[1;32m      6\u001b[0m                                              power\u001b[38;5;241m=\u001b[39m\u001b[38;5;241m4\u001b[39m, search_radius\u001b[38;5;241m=\u001b[39m\u001b[38;5;241m5000\u001b[39m) \n\u001b[1;32m      7\u001b[0m                          \u001b[38;5;28;01mfor\u001b[39;00m i \u001b[38;5;129;01min\u001b[39;00m \u001b[38;5;28mrange\u001b[39m(\u001b[38;5;28mlen\u001b[39m(hex_cnt))]\n\u001b[0;32m----> 8\u001b[0m hex_cnt[amenidades_col] \u001b[38;5;241m=\u001b[39m interpolation_results\n\u001b[1;32m      9\u001b[0m \u001b[38;5;28mprint\u001b[39m(\u001b[38;5;124m\"\u001b[39m\u001b[38;5;124m--- \u001b[39m\u001b[38;5;132;01m%s\u001b[39;00m\u001b[38;5;124m seconds ---\u001b[39m\u001b[38;5;124m\"\u001b[39m \u001b[38;5;241m%\u001b[39m (time\u001b[38;5;241m.\u001b[39mtime() \u001b[38;5;241m-\u001b[39m start_time))\n",
      "File \u001b[0;32m~/anaconda3/envs/odc/lib/python3.10/site-packages/geopandas/geodataframe.py:1443\u001b[0m, in \u001b[0;36mGeoDataFrame.__setitem__\u001b[0;34m(self, key, value)\u001b[0m\n\u001b[1;32m   1441\u001b[0m     \u001b[38;5;28;01mexcept\u001b[39;00m \u001b[38;5;167;01mTypeError\u001b[39;00m:\n\u001b[1;32m   1442\u001b[0m         warnings\u001b[38;5;241m.\u001b[39mwarn(\u001b[38;5;124m\"\u001b[39m\u001b[38;5;124mGeometry column does not contain geometry.\u001b[39m\u001b[38;5;124m\"\u001b[39m)\n\u001b[0;32m-> 1443\u001b[0m \u001b[38;5;28;43msuper\u001b[39;49m\u001b[43m(\u001b[49m\u001b[43m)\u001b[49m\u001b[38;5;241;43m.\u001b[39;49m\u001b[38;5;21;43m__setitem__\u001b[39;49m\u001b[43m(\u001b[49m\u001b[43mkey\u001b[49m\u001b[43m,\u001b[49m\u001b[43m \u001b[49m\u001b[43mvalue\u001b[49m\u001b[43m)\u001b[49m\n",
      "File \u001b[0;32m~/anaconda3/envs/odc/lib/python3.10/site-packages/pandas/core/frame.py:3966\u001b[0m, in \u001b[0;36mDataFrame.__setitem__\u001b[0;34m(self, key, value)\u001b[0m\n\u001b[1;32m   3964\u001b[0m     \u001b[38;5;28mself\u001b[39m\u001b[38;5;241m.\u001b[39m_setitem_frame(key, value)\n\u001b[1;32m   3965\u001b[0m \u001b[38;5;28;01melif\u001b[39;00m \u001b[38;5;28misinstance\u001b[39m(key, (Series, np\u001b[38;5;241m.\u001b[39mndarray, \u001b[38;5;28mlist\u001b[39m, Index)):\n\u001b[0;32m-> 3966\u001b[0m     \u001b[38;5;28;43mself\u001b[39;49m\u001b[38;5;241;43m.\u001b[39;49m\u001b[43m_setitem_array\u001b[49m\u001b[43m(\u001b[49m\u001b[43mkey\u001b[49m\u001b[43m,\u001b[49m\u001b[43m \u001b[49m\u001b[43mvalue\u001b[49m\u001b[43m)\u001b[49m\n\u001b[1;32m   3967\u001b[0m \u001b[38;5;28;01melif\u001b[39;00m \u001b[38;5;28misinstance\u001b[39m(value, DataFrame):\n\u001b[1;32m   3968\u001b[0m     \u001b[38;5;28mself\u001b[39m\u001b[38;5;241m.\u001b[39m_set_item_frame_value(key, value)\n",
      "File \u001b[0;32m~/anaconda3/envs/odc/lib/python3.10/site-packages/pandas/core/frame.py:4025\u001b[0m, in \u001b[0;36mDataFrame._setitem_array\u001b[0;34m(self, key, value)\u001b[0m\n\u001b[1;32m   4022\u001b[0m     \u001b[38;5;28;01mreturn\u001b[39;00m \u001b[38;5;28mself\u001b[39m\u001b[38;5;241m.\u001b[39m_setitem_array(key, value)\n\u001b[1;32m   4024\u001b[0m \u001b[38;5;28;01melse\u001b[39;00m:\n\u001b[0;32m-> 4025\u001b[0m     \u001b[38;5;28;43mself\u001b[39;49m\u001b[38;5;241;43m.\u001b[39;49m\u001b[43m_iset_not_inplace\u001b[49m\u001b[43m(\u001b[49m\u001b[43mkey\u001b[49m\u001b[43m,\u001b[49m\u001b[43m \u001b[49m\u001b[43mvalue\u001b[49m\u001b[43m)\u001b[49m\n",
      "File \u001b[0;32m~/anaconda3/envs/odc/lib/python3.10/site-packages/pandas/core/frame.py:4044\u001b[0m, in \u001b[0;36mDataFrame._iset_not_inplace\u001b[0;34m(self, key, value)\u001b[0m\n\u001b[1;32m   4042\u001b[0m \u001b[38;5;28;01mif\u001b[39;00m \u001b[38;5;28mself\u001b[39m\u001b[38;5;241m.\u001b[39mcolumns\u001b[38;5;241m.\u001b[39mis_unique:\n\u001b[1;32m   4043\u001b[0m     \u001b[38;5;28;01mif\u001b[39;00m np\u001b[38;5;241m.\u001b[39mshape(value)[\u001b[38;5;241m-\u001b[39m\u001b[38;5;241m1\u001b[39m] \u001b[38;5;241m!=\u001b[39m \u001b[38;5;28mlen\u001b[39m(key):\n\u001b[0;32m-> 4044\u001b[0m         \u001b[38;5;28;01mraise\u001b[39;00m \u001b[38;5;167;01mValueError\u001b[39;00m(\u001b[38;5;124m\"\u001b[39m\u001b[38;5;124mColumns must be same length as key\u001b[39m\u001b[38;5;124m\"\u001b[39m)\n\u001b[1;32m   4046\u001b[0m     \u001b[38;5;28;01mfor\u001b[39;00m i, col \u001b[38;5;129;01min\u001b[39;00m \u001b[38;5;28menumerate\u001b[39m(key):\n\u001b[1;32m   4047\u001b[0m         \u001b[38;5;28mself\u001b[39m[col] \u001b[38;5;241m=\u001b[39m igetitem(value, i)\n",
      "\u001b[0;31mValueError\u001b[0m: Columns must be same length as key"
     ]
    }
   ],
   "source": [
    "import time\n",
    "start_time = time.time()\n",
    "interpolation_results = [idw_at_point_vtest1(x0,y0,z0,\n",
    "                                             hex_cnt.loc[i].geometry.x,\n",
    "                                             hex_cnt.loc[i].geometry.y,\n",
    "                                             power=4, search_radius=5000) \n",
    "                         for i in range(len(hex_cnt))]\n",
    "hex_cnt[amenidades_col] = interpolation_results\n",
    "print(\"--- %s seconds ---\" % (time.time() - start_time))"
   ]
  },
  {
   "cell_type": "code",
   "execution_count": 93,
   "id": "aeaa0d4f-f080-4854-bf8b-e7b75dc00cda",
   "metadata": {},
   "outputs": [],
   "source": [
    "hex_cnt[amenidades_col] = fix_inter_result"
   ]
  },
  {
   "cell_type": "code",
   "execution_count": 85,
   "id": "7655e58d-f5c5-44db-8aef-1937d992d099",
   "metadata": {},
   "outputs": [
    {
     "data": {
      "text/plain": [
       "array([-1., -1., -1., -1., -1., -1., -1., -1., -1., -1., -1., -1., -1.,\n",
       "       -1.])"
      ]
     },
     "execution_count": 85,
     "metadata": {},
     "output_type": "execute_result"
    }
   ],
   "source": [
    "ones = np.ones((14,), dtype=float)\n",
    "ones[ones==1] = -1\n",
    "ones"
   ]
  },
  {
   "cell_type": "code",
   "execution_count": 90,
   "id": "05a5fe5a-85d1-47ea-a447-b9d196cae73b",
   "metadata": {
    "tags": []
   },
   "outputs": [
    {
     "data": {
      "text/plain": [
       "True"
      ]
     },
     "execution_count": 90,
     "metadata": {},
     "output_type": "execute_result"
    }
   ],
   "source": [
    "type(interpolation_results[10000]) == int"
   ]
  },
  {
   "cell_type": "code",
   "execution_count": 91,
   "id": "891abf06-101c-443a-ae12-fa95d917521f",
   "metadata": {},
   "outputs": [],
   "source": [
    "fix_inter_result = [ones if type(x) == int else x for x in interpolation_results]"
   ]
  },
  {
   "cell_type": "code",
   "execution_count": 94,
   "id": "319cdb13-6ebe-45ea-9515-223c1e9b01f9",
   "metadata": {},
   "outputs": [
    {
     "data": {
      "text/html": [
       "<div>\n",
       "<style scoped>\n",
       "    .dataframe tbody tr th:only-of-type {\n",
       "        vertical-align: middle;\n",
       "    }\n",
       "\n",
       "    .dataframe tbody tr th {\n",
       "        vertical-align: top;\n",
       "    }\n",
       "\n",
       "    .dataframe thead th {\n",
       "        text-align: right;\n",
       "    }\n",
       "</style>\n",
       "<table border=\"1\" class=\"dataframe\">\n",
       "  <thead>\n",
       "    <tr style=\"text-align: right;\">\n",
       "      <th></th>\n",
       "      <th>geometry</th>\n",
       "      <th>hex_id_11</th>\n",
       "      <th>max_preescolar</th>\n",
       "      <th>max_primaria</th>\n",
       "      <th>max_secundaria</th>\n",
       "      <th>max_salud</th>\n",
       "      <th>max_guarderías</th>\n",
       "      <th>max_asistencia social</th>\n",
       "      <th>max_alimentos</th>\n",
       "      <th>max_personal</th>\n",
       "      <th>max_farmacias</th>\n",
       "      <th>max_hogar</th>\n",
       "      <th>max_complementarios</th>\n",
       "      <th>max_social</th>\n",
       "      <th>max_actividad física</th>\n",
       "      <th>max_cultural</th>\n",
       "    </tr>\n",
       "  </thead>\n",
       "  <tbody>\n",
       "    <tr>\n",
       "      <th>0</th>\n",
       "      <td>POINT (2622374.533 1509646.448)</td>\n",
       "      <td>8b48a2a0db98fff</td>\n",
       "      <td>472.202540</td>\n",
       "      <td>483.693419</td>\n",
       "      <td>499.372244</td>\n",
       "      <td>148.701440</td>\n",
       "      <td>489.449338</td>\n",
       "      <td>496.834785</td>\n",
       "      <td>464.358640</td>\n",
       "      <td>477.232242</td>\n",
       "      <td>485.436575</td>\n",
       "      <td>457.905077</td>\n",
       "      <td>454.924351</td>\n",
       "      <td>495.587290</td>\n",
       "      <td>146.913882</td>\n",
       "      <td>553.270754</td>\n",
       "    </tr>\n",
       "    <tr>\n",
       "      <th>1</th>\n",
       "      <td>POINT (2622140.070 1509644.212)</td>\n",
       "      <td>8b48a2a0da32fff</td>\n",
       "      <td>477.122454</td>\n",
       "      <td>488.612987</td>\n",
       "      <td>504.291812</td>\n",
       "      <td>153.181435</td>\n",
       "      <td>494.368791</td>\n",
       "      <td>501.754239</td>\n",
       "      <td>469.278554</td>\n",
       "      <td>482.152156</td>\n",
       "      <td>490.565177</td>\n",
       "      <td>462.824531</td>\n",
       "      <td>459.844265</td>\n",
       "      <td>500.506744</td>\n",
       "      <td>151.393876</td>\n",
       "      <td>558.117807</td>\n",
       "    </tr>\n",
       "    <tr>\n",
       "      <th>2</th>\n",
       "      <td>POINT (2622673.022 1508910.797)</td>\n",
       "      <td>8b48a2a0d815fff</td>\n",
       "      <td>462.104760</td>\n",
       "      <td>473.603326</td>\n",
       "      <td>489.282152</td>\n",
       "      <td>139.180434</td>\n",
       "      <td>479.362137</td>\n",
       "      <td>486.747584</td>\n",
       "      <td>454.260860</td>\n",
       "      <td>467.134462</td>\n",
       "      <td>474.765465</td>\n",
       "      <td>447.817876</td>\n",
       "      <td>444.826571</td>\n",
       "      <td>485.500089</td>\n",
       "      <td>137.392876</td>\n",
       "      <td>543.060770</td>\n",
       "    </tr>\n",
       "    <tr>\n",
       "      <th>3</th>\n",
       "      <td>POINT (2622450.544 1509475.927)</td>\n",
       "      <td>8b48a2a0db94fff</td>\n",
       "      <td>467.299095</td>\n",
       "      <td>478.791750</td>\n",
       "      <td>494.470576</td>\n",
       "      <td>144.201712</td>\n",
       "      <td>484.548240</td>\n",
       "      <td>491.933687</td>\n",
       "      <td>459.455195</td>\n",
       "      <td>472.328797</td>\n",
       "      <td>480.299939</td>\n",
       "      <td>453.003979</td>\n",
       "      <td>450.020906</td>\n",
       "      <td>490.686192</td>\n",
       "      <td>142.414154</td>\n",
       "      <td>548.403194</td>\n",
       "    </tr>\n",
       "    <tr>\n",
       "      <th>4</th>\n",
       "      <td>POINT (2622679.450 1509424.596)</td>\n",
       "      <td>8b48a2a0d8d8fff</td>\n",
       "      <td>457.608502</td>\n",
       "      <td>469.101854</td>\n",
       "      <td>484.780680</td>\n",
       "      <td>136.156895</td>\n",
       "      <td>474.858645</td>\n",
       "      <td>482.244092</td>\n",
       "      <td>449.764602</td>\n",
       "      <td>462.638204</td>\n",
       "      <td>470.646971</td>\n",
       "      <td>443.314385</td>\n",
       "      <td>440.330313</td>\n",
       "      <td>480.996598</td>\n",
       "      <td>134.369337</td>\n",
       "      <td>539.584990</td>\n",
       "    </tr>\n",
       "  </tbody>\n",
       "</table>\n",
       "</div>"
      ],
      "text/plain": [
       "                          geometry        hex_id_11  max_preescolar  \\\n",
       "0  POINT (2622374.533 1509646.448)  8b48a2a0db98fff      472.202540   \n",
       "1  POINT (2622140.070 1509644.212)  8b48a2a0da32fff      477.122454   \n",
       "2  POINT (2622673.022 1508910.797)  8b48a2a0d815fff      462.104760   \n",
       "3  POINT (2622450.544 1509475.927)  8b48a2a0db94fff      467.299095   \n",
       "4  POINT (2622679.450 1509424.596)  8b48a2a0d8d8fff      457.608502   \n",
       "\n",
       "   max_primaria  max_secundaria   max_salud  max_guarderías  \\\n",
       "0    483.693419      499.372244  148.701440      489.449338   \n",
       "1    488.612987      504.291812  153.181435      494.368791   \n",
       "2    473.603326      489.282152  139.180434      479.362137   \n",
       "3    478.791750      494.470576  144.201712      484.548240   \n",
       "4    469.101854      484.780680  136.156895      474.858645   \n",
       "\n",
       "   max_asistencia social  max_alimentos  max_personal  max_farmacias  \\\n",
       "0             496.834785     464.358640    477.232242     485.436575   \n",
       "1             501.754239     469.278554    482.152156     490.565177   \n",
       "2             486.747584     454.260860    467.134462     474.765465   \n",
       "3             491.933687     459.455195    472.328797     480.299939   \n",
       "4             482.244092     449.764602    462.638204     470.646971   \n",
       "\n",
       "    max_hogar  max_complementarios  max_social  max_actividad física  \\\n",
       "0  457.905077           454.924351  495.587290            146.913882   \n",
       "1  462.824531           459.844265  500.506744            151.393876   \n",
       "2  447.817876           444.826571  485.500089            137.392876   \n",
       "3  453.003979           450.020906  490.686192            142.414154   \n",
       "4  443.314385           440.330313  480.996598            134.369337   \n",
       "\n",
       "   max_cultural  \n",
       "0    553.270754  \n",
       "1    558.117807  \n",
       "2    543.060770  \n",
       "3    548.403194  \n",
       "4    539.584990  "
      ]
     },
     "execution_count": 94,
     "metadata": {},
     "output_type": "execute_result"
    }
   ],
   "source": [
    "hex_cnt.head(5)"
   ]
  },
  {
   "cell_type": "code",
   "execution_count": 95,
   "id": "0a0c9de8-9537-4f33-b9e7-e789b0785fa8",
   "metadata": {},
   "outputs": [
    {
     "data": {
      "text/html": [
       "<div>\n",
       "<style scoped>\n",
       "    .dataframe tbody tr th:only-of-type {\n",
       "        vertical-align: middle;\n",
       "    }\n",
       "\n",
       "    .dataframe tbody tr th {\n",
       "        vertical-align: top;\n",
       "    }\n",
       "\n",
       "    .dataframe thead th {\n",
       "        text-align: right;\n",
       "    }\n",
       "</style>\n",
       "<table border=\"1\" class=\"dataframe\">\n",
       "  <thead>\n",
       "    <tr style=\"text-align: right;\">\n",
       "      <th></th>\n",
       "      <th>hex_id_11</th>\n",
       "      <th>geometry</th>\n",
       "      <th>max_preescolar</th>\n",
       "      <th>max_primaria</th>\n",
       "      <th>max_secundaria</th>\n",
       "      <th>max_salud</th>\n",
       "      <th>max_guarderías</th>\n",
       "      <th>max_asistencia social</th>\n",
       "      <th>max_alimentos</th>\n",
       "      <th>max_personal</th>\n",
       "      <th>max_farmacias</th>\n",
       "      <th>max_hogar</th>\n",
       "      <th>max_complementarios</th>\n",
       "      <th>max_social</th>\n",
       "      <th>max_actividad física</th>\n",
       "      <th>max_cultural</th>\n",
       "    </tr>\n",
       "  </thead>\n",
       "  <tbody>\n",
       "    <tr>\n",
       "      <th>0</th>\n",
       "      <td>8b48a2a0db98fff</td>\n",
       "      <td>POLYGON ((-100.77547 25.63048, -100.77529 25.6...</td>\n",
       "      <td>472.202540</td>\n",
       "      <td>483.693419</td>\n",
       "      <td>499.372244</td>\n",
       "      <td>148.701440</td>\n",
       "      <td>489.449338</td>\n",
       "      <td>496.834785</td>\n",
       "      <td>464.358640</td>\n",
       "      <td>477.232242</td>\n",
       "      <td>485.436575</td>\n",
       "      <td>457.905077</td>\n",
       "      <td>454.924351</td>\n",
       "      <td>495.587290</td>\n",
       "      <td>146.913882</td>\n",
       "      <td>553.270754</td>\n",
       "    </tr>\n",
       "    <tr>\n",
       "      <th>1</th>\n",
       "      <td>8b48a2a0da32fff</td>\n",
       "      <td>POLYGON ((-100.77782 25.63048, -100.77763 25.6...</td>\n",
       "      <td>477.122454</td>\n",
       "      <td>488.612987</td>\n",
       "      <td>504.291812</td>\n",
       "      <td>153.181435</td>\n",
       "      <td>494.368791</td>\n",
       "      <td>501.754239</td>\n",
       "      <td>469.278554</td>\n",
       "      <td>482.152156</td>\n",
       "      <td>490.565177</td>\n",
       "      <td>462.824531</td>\n",
       "      <td>459.844265</td>\n",
       "      <td>500.506744</td>\n",
       "      <td>151.393876</td>\n",
       "      <td>558.117807</td>\n",
       "    </tr>\n",
       "  </tbody>\n",
       "</table>\n",
       "</div>"
      ],
      "text/plain": [
       "         hex_id_11                                           geometry  \\\n",
       "0  8b48a2a0db98fff  POLYGON ((-100.77547 25.63048, -100.77529 25.6...   \n",
       "1  8b48a2a0da32fff  POLYGON ((-100.77782 25.63048, -100.77763 25.6...   \n",
       "\n",
       "   max_preescolar  max_primaria  max_secundaria   max_salud  max_guarderías  \\\n",
       "0      472.202540    483.693419      499.372244  148.701440      489.449338   \n",
       "1      477.122454    488.612987      504.291812  153.181435      494.368791   \n",
       "\n",
       "   max_asistencia social  max_alimentos  max_personal  max_farmacias  \\\n",
       "0             496.834785     464.358640    477.232242     485.436575   \n",
       "1             501.754239     469.278554    482.152156     490.565177   \n",
       "\n",
       "    max_hogar  max_complementarios  max_social  max_actividad física  \\\n",
       "0  457.905077           454.924351  495.587290            146.913882   \n",
       "1  462.824531           459.844265  500.506744            151.393876   \n",
       "\n",
       "   max_cultural  \n",
       "0    553.270754  \n",
       "1    558.117807  "
      ]
     },
     "execution_count": 95,
     "metadata": {},
     "output_type": "execute_result"
    }
   ],
   "source": [
    "hex_int = hex_gdf.merge(hex_cnt.drop(columns=['geometry']),\n",
    "                       on='hex_id_11')\n",
    "hex_int.head(2)"
   ]
  },
  {
   "cell_type": "code",
   "execution_count": 97,
   "id": "e865dfdb-6300-4f73-a3e9-afbc6ac7e446",
   "metadata": {},
   "outputs": [
    {
     "data": {
      "text/plain": [
       "<AxesSubplot: >"
      ]
     },
     "execution_count": 97,
     "metadata": {},
     "output_type": "execute_result"
    },
    {
     "data": {
      "image/png": "[encoded data removed]",
      "text/plain": [
       "<Figure size 720x720 with 1 Axes>"
      ]
     },
     "metadata": {
      "needs_background": "light"
     },
     "output_type": "display_data"
    }
   ],
   "source": [
    "fig,ax = plt.subplots(figsize=(10,10))\n",
    "hex_int.loc[hex_int.max_preescolar>=0].plot('max_preescolar', ax=ax)\n",
    "hex_int.loc[hex_int.max_preescolar==-1].plot(ax=ax, color='black')"
   ]
  },
  {
   "cell_type": "markdown",
   "id": "b52861ac-044b-42d1-8a8f-3f370a9ad30d",
   "metadata": {
    "tags": []
   },
   "source": [
    "## Upload"
   ]
  },
  {
   "cell_type": "code",
   "execution_count": 98,
   "id": "8dd7b7aa-938f-4443-8629-46fe751ed28f",
   "metadata": {},
   "outputs": [],
   "source": [
    "aup.gdf_to_db_slow(hex_int, f'proximity_analysis_2020_hexres11',\n",
    "                            'prox_analysis', if_exists='append')"
   ]
  },
  {
   "cell_type": "markdown",
   "id": "f0a7ddde-368c-47dd-b427-d37199146a76",
   "metadata": {},
   "source": [
    "## Index calculation"
   ]
  },
  {
   "cell_type": "code",
   "execution_count": 102,
   "id": "d59d845a-6ede-4d73-9853-732e6f7305f5",
   "metadata": {},
   "outputs": [
    {
     "data": {
      "text/plain": [
       "0.1464814753435666"
      ]
     },
     "execution_count": 102,
     "metadata": {},
     "output_type": "execute_result"
    }
   ],
   "source": [
    "k = aup.sigmoidal_function_constant(15, 30)\n",
    "k"
   ]
  },
  {
   "cell_type": "code",
   "execution_count": 112,
   "id": "ed9a19ce-cc71-480e-aff6-d53ef56c69b1",
   "metadata": {},
   "outputs": [
    {
     "data": {
      "text/plain": [
       "1.960588498224304e-62"
      ]
     },
     "execution_count": 112,
     "metadata": {},
     "output_type": "execute_result"
    }
   ],
   "source": [
    "aup.sigmoidal_function(0.1464814753435666, 1000, 30)"
   ]
  },
  {
   "cell_type": "code",
   "execution_count": 120,
   "id": "698dddcd-435d-46f8-be4e-0c5c8ac3f2a9",
   "metadata": {},
   "outputs": [],
   "source": [
    "def apply_sigmoidal(x):\n",
    "    if x == -1:\n",
    "        return -1\n",
    "    elif x > 1000:\n",
    "        return 0\n",
    "    else:\n",
    "        val = aup.sigmoidal_function(0.1464814753435666, x, 30)\n",
    "        return val"
   ]
  },
  {
   "cell_type": "code",
   "execution_count": 121,
   "id": "6a9baa90-fd50-4ea7-9601-46508c45399b",
   "metadata": {},
   "outputs": [],
   "source": [
    "amenidades_col = ['max_preescolar','max_primaria','max_secundaria',\n",
    "               'max_salud','max_guarderías','max_asistencia social',\n",
    "               'max_alimentos','max_personal','max_farmacias','max_hogar',\n",
    "               'max_complementarios','max_social','max_actividad física',\n",
    "               'max_cultural']\n",
    "for ac in amenidades_col:\n",
    "    idx_col = ac.replace('max','idx')\n",
    "    hex_int[idx_col] = hex_int[ac].apply(apply_sigmoidal)\n"
   ]
  },
  {
   "cell_type": "code",
   "execution_count": 125,
   "id": "35ede772-da53-41a3-aa86-0b7c6629ffb6",
   "metadata": {},
   "outputs": [],
   "source": [
    "idx_colname = []\n",
    "\n",
    "for ac in amenidades_col:\n",
    "    idx_col = ac.replace('max','idx')\n",
    "    idx_colname.append(idx_col)"
   ]
  },
  {
   "cell_type": "code",
   "execution_count": 126,
   "id": "0df6f890-b934-4e80-ae4e-f5ce897a1745",
   "metadata": {},
   "outputs": [
    {
     "data": {
      "text/plain": [
       "['idx_preescolar',\n",
       " 'idx_primaria',\n",
       " 'idx_secundaria',\n",
       " 'idx_salud',\n",
       " 'idx_guarderías',\n",
       " 'idx_asistencia social',\n",
       " 'idx_alimentos',\n",
       " 'idx_personal',\n",
       " 'idx_farmacias',\n",
       " 'idx_hogar',\n",
       " 'idx_complementarios',\n",
       " 'idx_social',\n",
       " 'idx_actividad física',\n",
       " 'idx_cultural']"
      ]
     },
     "execution_count": 126,
     "metadata": {},
     "output_type": "execute_result"
    }
   ],
   "source": [
    "idx_colname"
   ]
  },
  {
   "cell_type": "code",
   "execution_count": 127,
   "id": "0aae7bf7-36b8-4383-a39c-f3aeb033e758",
   "metadata": {},
   "outputs": [],
   "source": [
    "hex_int['mean_time'] = hex_int[amenidades_col].mean(axis=1)\n",
    "hex_int['median_time'] = hex_int[amenidades_col].median(axis=1)\n",
    "hex_int['idx_sum'] = hex_int[idx_colname].sum(axis=1)"
   ]
  },
  {
   "cell_type": "code",
   "execution_count": 128,
   "id": "238a46c9-a251-4edd-9ff6-b72afe22def6",
   "metadata": {},
   "outputs": [
    {
     "data": {
      "text/html": [
       "<div>\n",
       "<style scoped>\n",
       "    .dataframe tbody tr th:only-of-type {\n",
       "        vertical-align: middle;\n",
       "    }\n",
       "\n",
       "    .dataframe tbody tr th {\n",
       "        vertical-align: top;\n",
       "    }\n",
       "\n",
       "    .dataframe thead th {\n",
       "        text-align: right;\n",
       "    }\n",
       "</style>\n",
       "<table border=\"1\" class=\"dataframe\">\n",
       "  <thead>\n",
       "    <tr style=\"text-align: right;\">\n",
       "      <th></th>\n",
       "      <th>hex_id_11</th>\n",
       "      <th>geometry</th>\n",
       "      <th>max_preescolar</th>\n",
       "      <th>max_primaria</th>\n",
       "      <th>max_secundaria</th>\n",
       "      <th>max_salud</th>\n",
       "      <th>max_guarderías</th>\n",
       "      <th>max_asistencia social</th>\n",
       "      <th>max_alimentos</th>\n",
       "      <th>max_personal</th>\n",
       "      <th>...</th>\n",
       "      <th>idx_personal</th>\n",
       "      <th>idx_farmacias</th>\n",
       "      <th>idx_hogar</th>\n",
       "      <th>idx_complementarios</th>\n",
       "      <th>idx_social</th>\n",
       "      <th>idx_actividad física</th>\n",
       "      <th>idx_cultural</th>\n",
       "      <th>mean_time</th>\n",
       "      <th>median_time</th>\n",
       "      <th>idx_sum</th>\n",
       "    </tr>\n",
       "  </thead>\n",
       "  <tbody>\n",
       "    <tr>\n",
       "      <th>0</th>\n",
       "      <td>8b48a2a0db98fff</td>\n",
       "      <td>POLYGON ((-100.77547 25.63048, -100.77529 25.6...</td>\n",
       "      <td>472.202540</td>\n",
       "      <td>483.693419</td>\n",
       "      <td>499.372244</td>\n",
       "      <td>148.701440</td>\n",
       "      <td>489.449338</td>\n",
       "      <td>496.834785</td>\n",
       "      <td>464.358640</td>\n",
       "      <td>477.232242</td>\n",
       "      <td>...</td>\n",
       "      <td>3.538593e-29</td>\n",
       "      <td>1.063905e-29</td>\n",
       "      <td>6.002738e-28</td>\n",
       "      <td>9.289055e-28</td>\n",
       "      <td>2.405216e-30</td>\n",
       "      <td>3.650860e-08</td>\n",
       "      <td>5.147036e-34</td>\n",
       "      <td>437.563041</td>\n",
       "      <td>480.462830</td>\n",
       "      <td>6.460675e-08</td>\n",
       "    </tr>\n",
       "    <tr>\n",
       "      <th>1</th>\n",
       "      <td>8b48a2a0da32fff</td>\n",
       "      <td>POLYGON ((-100.77782 25.63048, -100.77763 25.6...</td>\n",
       "      <td>477.122454</td>\n",
       "      <td>488.612987</td>\n",
       "      <td>504.291812</td>\n",
       "      <td>153.181435</td>\n",
       "      <td>494.368791</td>\n",
       "      <td>501.754239</td>\n",
       "      <td>469.278554</td>\n",
       "      <td>482.152156</td>\n",
       "      <td>...</td>\n",
       "      <td>1.721253e-29</td>\n",
       "      <td>5.019278e-30</td>\n",
       "      <td>2.920068e-28</td>\n",
       "      <td>4.518411e-28</td>\n",
       "      <td>1.170032e-30</td>\n",
       "      <td>1.894067e-08</td>\n",
       "      <td>2.530502e-34</td>\n",
       "      <td>442.429631</td>\n",
       "      <td>485.382571</td>\n",
       "      <td>3.351800e-08</td>\n",
       "    </tr>\n",
       "    <tr>\n",
       "      <th>2</th>\n",
       "      <td>8b48a2a0d815fff</td>\n",
       "      <td>POLYGON ((-100.77255 25.62379, -100.77237 25.6...</td>\n",
       "      <td>462.104760</td>\n",
       "      <td>473.603326</td>\n",
       "      <td>489.282152</td>\n",
       "      <td>139.180434</td>\n",
       "      <td>479.362137</td>\n",
       "      <td>486.747584</td>\n",
       "      <td>454.260860</td>\n",
       "      <td>467.134462</td>\n",
       "      <td>...</td>\n",
       "      <td>1.553145e-28</td>\n",
       "      <td>5.078755e-29</td>\n",
       "      <td>2.630617e-27</td>\n",
       "      <td>4.077114e-27</td>\n",
       "      <td>1.054053e-29</td>\n",
       "      <td>1.472599e-07</td>\n",
       "      <td>2.296554e-33</td>\n",
       "      <td>427.502811</td>\n",
       "      <td>470.368894</td>\n",
       "      <td>2.605956e-07</td>\n",
       "    </tr>\n",
       "    <tr>\n",
       "      <th>3</th>\n",
       "      <td>8b48a2a0db94fff</td>\n",
       "      <td>POLYGON ((-100.77473 25.62893, -100.77454 25.6...</td>\n",
       "      <td>467.299095</td>\n",
       "      <td>478.791750</td>\n",
       "      <td>494.470576</td>\n",
       "      <td>144.201712</td>\n",
       "      <td>484.548240</td>\n",
       "      <td>491.933687</td>\n",
       "      <td>459.455195</td>\n",
       "      <td>472.328797</td>\n",
       "      <td>...</td>\n",
       "      <td>7.257192e-29</td>\n",
       "      <td>2.257749e-29</td>\n",
       "      <td>1.230660e-27</td>\n",
       "      <td>1.905064e-27</td>\n",
       "      <td>4.931088e-30</td>\n",
       "      <td>7.057491e-08</td>\n",
       "      <td>1.050056e-33</td>\n",
       "      <td>432.704101</td>\n",
       "      <td>475.560274</td>\n",
       "      <td>1.248915e-07</td>\n",
       "    </tr>\n",
       "    <tr>\n",
       "      <th>4</th>\n",
       "      <td>8b48a2a0d8d8fff</td>\n",
       "      <td>POLYGON ((-100.77244 25.62844, -100.77226 25.6...</td>\n",
       "      <td>457.608502</td>\n",
       "      <td>469.101854</td>\n",
       "      <td>484.780680</td>\n",
       "      <td>136.156895</td>\n",
       "      <td>474.858645</td>\n",
       "      <td>482.244092</td>\n",
       "      <td>449.764602</td>\n",
       "      <td>462.638204</td>\n",
       "      <td>...</td>\n",
       "      <td>3.000864e-28</td>\n",
       "      <td>9.284528e-29</td>\n",
       "      <td>5.088060e-27</td>\n",
       "      <td>7.877479e-27</td>\n",
       "      <td>2.038717e-29</td>\n",
       "      <td>2.293138e-07</td>\n",
       "      <td>3.821133e-33</td>\n",
       "      <td>423.314005</td>\n",
       "      <td>465.870029</td>\n",
       "      <td>4.058007e-07</td>\n",
       "    </tr>\n",
       "    <tr>\n",
       "      <th>...</th>\n",
       "      <td>...</td>\n",
       "      <td>...</td>\n",
       "      <td>...</td>\n",
       "      <td>...</td>\n",
       "      <td>...</td>\n",
       "      <td>...</td>\n",
       "      <td>...</td>\n",
       "      <td>...</td>\n",
       "      <td>...</td>\n",
       "      <td>...</td>\n",
       "      <td>...</td>\n",
       "      <td>...</td>\n",
       "      <td>...</td>\n",
       "      <td>...</td>\n",
       "      <td>...</td>\n",
       "      <td>...</td>\n",
       "      <td>...</td>\n",
       "      <td>...</td>\n",
       "      <td>...</td>\n",
       "      <td>...</td>\n",
       "      <td>...</td>\n",
       "    </tr>\n",
       "    <tr>\n",
       "      <th>1190820</th>\n",
       "      <td>8b48a2582c5efff</td>\n",
       "      <td>POLYGON ((-99.55892 25.55711, -99.55874 25.557...</td>\n",
       "      <td>-1.000000</td>\n",
       "      <td>-1.000000</td>\n",
       "      <td>-1.000000</td>\n",
       "      <td>-1.000000</td>\n",
       "      <td>-1.000000</td>\n",
       "      <td>-1.000000</td>\n",
       "      <td>-1.000000</td>\n",
       "      <td>-1.000000</td>\n",
       "      <td>...</td>\n",
       "      <td>-1.000000e+00</td>\n",
       "      <td>-1.000000e+00</td>\n",
       "      <td>-1.000000e+00</td>\n",
       "      <td>-1.000000e+00</td>\n",
       "      <td>-1.000000e+00</td>\n",
       "      <td>-1.000000e+00</td>\n",
       "      <td>-1.000000e+00</td>\n",
       "      <td>-1.000000</td>\n",
       "      <td>-1.000000</td>\n",
       "      <td>-1.400000e+01</td>\n",
       "    </tr>\n",
       "    <tr>\n",
       "      <th>1190821</th>\n",
       "      <td>8b48a2582c55fff</td>\n",
       "      <td>POLYGON ((-99.55905 25.55614, -99.55887 25.556...</td>\n",
       "      <td>-1.000000</td>\n",
       "      <td>-1.000000</td>\n",
       "      <td>-1.000000</td>\n",
       "      <td>-1.000000</td>\n",
       "      <td>-1.000000</td>\n",
       "      <td>-1.000000</td>\n",
       "      <td>-1.000000</td>\n",
       "      <td>-1.000000</td>\n",
       "      <td>...</td>\n",
       "      <td>-1.000000e+00</td>\n",
       "      <td>-1.000000e+00</td>\n",
       "      <td>-1.000000e+00</td>\n",
       "      <td>-1.000000e+00</td>\n",
       "      <td>-1.000000e+00</td>\n",
       "      <td>-1.000000e+00</td>\n",
       "      <td>-1.000000e+00</td>\n",
       "      <td>-1.000000</td>\n",
       "      <td>-1.000000</td>\n",
       "      <td>-1.400000e+01</td>\n",
       "    </tr>\n",
       "    <tr>\n",
       "      <th>1190822</th>\n",
       "      <td>8b48a2582c4efff</td>\n",
       "      <td>POLYGON ((-99.56033 25.55702, -99.56015 25.557...</td>\n",
       "      <td>-1.000000</td>\n",
       "      <td>-1.000000</td>\n",
       "      <td>-1.000000</td>\n",
       "      <td>-1.000000</td>\n",
       "      <td>-1.000000</td>\n",
       "      <td>-1.000000</td>\n",
       "      <td>-1.000000</td>\n",
       "      <td>-1.000000</td>\n",
       "      <td>...</td>\n",
       "      <td>-1.000000e+00</td>\n",
       "      <td>-1.000000e+00</td>\n",
       "      <td>-1.000000e+00</td>\n",
       "      <td>-1.000000e+00</td>\n",
       "      <td>-1.000000e+00</td>\n",
       "      <td>-1.000000e+00</td>\n",
       "      <td>-1.000000e+00</td>\n",
       "      <td>-1.000000</td>\n",
       "      <td>-1.000000</td>\n",
       "      <td>-1.400000e+01</td>\n",
       "    </tr>\n",
       "    <tr>\n",
       "      <th>1190823</th>\n",
       "      <td>8b48a2582c53fff</td>\n",
       "      <td>POLYGON ((-99.55849 25.55682, -99.55831 25.557...</td>\n",
       "      <td>-1.000000</td>\n",
       "      <td>-1.000000</td>\n",
       "      <td>-1.000000</td>\n",
       "      <td>-1.000000</td>\n",
       "      <td>-1.000000</td>\n",
       "      <td>-1.000000</td>\n",
       "      <td>-1.000000</td>\n",
       "      <td>-1.000000</td>\n",
       "      <td>...</td>\n",
       "      <td>-1.000000e+00</td>\n",
       "      <td>-1.000000e+00</td>\n",
       "      <td>-1.000000e+00</td>\n",
       "      <td>-1.000000e+00</td>\n",
       "      <td>-1.000000e+00</td>\n",
       "      <td>-1.000000e+00</td>\n",
       "      <td>-1.000000e+00</td>\n",
       "      <td>-1.000000</td>\n",
       "      <td>-1.000000</td>\n",
       "      <td>-1.400000e+01</td>\n",
       "    </tr>\n",
       "    <tr>\n",
       "      <th>1190824</th>\n",
       "      <td>8b48a2582c5dfff</td>\n",
       "      <td>POLYGON ((-99.55984 25.55721, -99.55966 25.557...</td>\n",
       "      <td>-1.000000</td>\n",
       "      <td>-1.000000</td>\n",
       "      <td>-1.000000</td>\n",
       "      <td>-1.000000</td>\n",
       "      <td>-1.000000</td>\n",
       "      <td>-1.000000</td>\n",
       "      <td>-1.000000</td>\n",
       "      <td>-1.000000</td>\n",
       "      <td>...</td>\n",
       "      <td>-1.000000e+00</td>\n",
       "      <td>-1.000000e+00</td>\n",
       "      <td>-1.000000e+00</td>\n",
       "      <td>-1.000000e+00</td>\n",
       "      <td>-1.000000e+00</td>\n",
       "      <td>-1.000000e+00</td>\n",
       "      <td>-1.000000e+00</td>\n",
       "      <td>-1.000000</td>\n",
       "      <td>-1.000000</td>\n",
       "      <td>-1.400000e+01</td>\n",
       "    </tr>\n",
       "  </tbody>\n",
       "</table>\n",
       "<p>1190825 rows × 33 columns</p>\n",
       "</div>"
      ],
      "text/plain": [
       "               hex_id_11                                           geometry  \\\n",
       "0        8b48a2a0db98fff  POLYGON ((-100.77547 25.63048, -100.77529 25.6...   \n",
       "1        8b48a2a0da32fff  POLYGON ((-100.77782 25.63048, -100.77763 25.6...   \n",
       "2        8b48a2a0d815fff  POLYGON ((-100.77255 25.62379, -100.77237 25.6...   \n",
       "3        8b48a2a0db94fff  POLYGON ((-100.77473 25.62893, -100.77454 25.6...   \n",
       "4        8b48a2a0d8d8fff  POLYGON ((-100.77244 25.62844, -100.77226 25.6...   \n",
       "...                  ...                                                ...   \n",
       "1190820  8b48a2582c5efff  POLYGON ((-99.55892 25.55711, -99.55874 25.557...   \n",
       "1190821  8b48a2582c55fff  POLYGON ((-99.55905 25.55614, -99.55887 25.556...   \n",
       "1190822  8b48a2582c4efff  POLYGON ((-99.56033 25.55702, -99.56015 25.557...   \n",
       "1190823  8b48a2582c53fff  POLYGON ((-99.55849 25.55682, -99.55831 25.557...   \n",
       "1190824  8b48a2582c5dfff  POLYGON ((-99.55984 25.55721, -99.55966 25.557...   \n",
       "\n",
       "         max_preescolar  max_primaria  max_secundaria   max_salud  \\\n",
       "0            472.202540    483.693419      499.372244  148.701440   \n",
       "1            477.122454    488.612987      504.291812  153.181435   \n",
       "2            462.104760    473.603326      489.282152  139.180434   \n",
       "3            467.299095    478.791750      494.470576  144.201712   \n",
       "4            457.608502    469.101854      484.780680  136.156895   \n",
       "...                 ...           ...             ...         ...   \n",
       "1190820       -1.000000     -1.000000       -1.000000   -1.000000   \n",
       "1190821       -1.000000     -1.000000       -1.000000   -1.000000   \n",
       "1190822       -1.000000     -1.000000       -1.000000   -1.000000   \n",
       "1190823       -1.000000     -1.000000       -1.000000   -1.000000   \n",
       "1190824       -1.000000     -1.000000       -1.000000   -1.000000   \n",
       "\n",
       "         max_guarderías  max_asistencia social  max_alimentos  max_personal  \\\n",
       "0            489.449338             496.834785     464.358640    477.232242   \n",
       "1            494.368791             501.754239     469.278554    482.152156   \n",
       "2            479.362137             486.747584     454.260860    467.134462   \n",
       "3            484.548240             491.933687     459.455195    472.328797   \n",
       "4            474.858645             482.244092     449.764602    462.638204   \n",
       "...                 ...                    ...            ...           ...   \n",
       "1190820       -1.000000              -1.000000      -1.000000     -1.000000   \n",
       "1190821       -1.000000              -1.000000      -1.000000     -1.000000   \n",
       "1190822       -1.000000              -1.000000      -1.000000     -1.000000   \n",
       "1190823       -1.000000              -1.000000      -1.000000     -1.000000   \n",
       "1190824       -1.000000              -1.000000      -1.000000     -1.000000   \n",
       "\n",
       "         ...  idx_personal  idx_farmacias     idx_hogar  idx_complementarios  \\\n",
       "0        ...  3.538593e-29   1.063905e-29  6.002738e-28         9.289055e-28   \n",
       "1        ...  1.721253e-29   5.019278e-30  2.920068e-28         4.518411e-28   \n",
       "2        ...  1.553145e-28   5.078755e-29  2.630617e-27         4.077114e-27   \n",
       "3        ...  7.257192e-29   2.257749e-29  1.230660e-27         1.905064e-27   \n",
       "4        ...  3.000864e-28   9.284528e-29  5.088060e-27         7.877479e-27   \n",
       "...      ...           ...            ...           ...                  ...   \n",
       "1190820  ... -1.000000e+00  -1.000000e+00 -1.000000e+00        -1.000000e+00   \n",
       "1190821  ... -1.000000e+00  -1.000000e+00 -1.000000e+00        -1.000000e+00   \n",
       "1190822  ... -1.000000e+00  -1.000000e+00 -1.000000e+00        -1.000000e+00   \n",
       "1190823  ... -1.000000e+00  -1.000000e+00 -1.000000e+00        -1.000000e+00   \n",
       "1190824  ... -1.000000e+00  -1.000000e+00 -1.000000e+00        -1.000000e+00   \n",
       "\n",
       "           idx_social  idx_actividad física  idx_cultural   mean_time  \\\n",
       "0        2.405216e-30          3.650860e-08  5.147036e-34  437.563041   \n",
       "1        1.170032e-30          1.894067e-08  2.530502e-34  442.429631   \n",
       "2        1.054053e-29          1.472599e-07  2.296554e-33  427.502811   \n",
       "3        4.931088e-30          7.057491e-08  1.050056e-33  432.704101   \n",
       "4        2.038717e-29          2.293138e-07  3.821133e-33  423.314005   \n",
       "...               ...                   ...           ...         ...   \n",
       "1190820 -1.000000e+00         -1.000000e+00 -1.000000e+00   -1.000000   \n",
       "1190821 -1.000000e+00         -1.000000e+00 -1.000000e+00   -1.000000   \n",
       "1190822 -1.000000e+00         -1.000000e+00 -1.000000e+00   -1.000000   \n",
       "1190823 -1.000000e+00         -1.000000e+00 -1.000000e+00   -1.000000   \n",
       "1190824 -1.000000e+00         -1.000000e+00 -1.000000e+00   -1.000000   \n",
       "\n",
       "         median_time       idx_sum  \n",
       "0         480.462830  6.460675e-08  \n",
       "1         485.382571  3.351800e-08  \n",
       "2         470.368894  2.605956e-07  \n",
       "3         475.560274  1.248915e-07  \n",
       "4         465.870029  4.058007e-07  \n",
       "...              ...           ...  \n",
       "1190820    -1.000000 -1.400000e+01  \n",
       "1190821    -1.000000 -1.400000e+01  \n",
       "1190822    -1.000000 -1.400000e+01  \n",
       "1190823    -1.000000 -1.400000e+01  \n",
       "1190824    -1.000000 -1.400000e+01  \n",
       "\n",
       "[1190825 rows x 33 columns]"
      ]
     },
     "execution_count": 128,
     "metadata": {},
     "output_type": "execute_result"
    }
   ],
   "source": [
    "hex_int"
   ]
  },
  {
   "cell_type": "code",
   "execution_count": 129,
   "id": "5ef3310a-d33b-424a-b06c-a4b954de0a15",
   "metadata": {},
   "outputs": [],
   "source": [
    "aup.gdf_to_db_slow(hex_int, f'proximity_analysis_2020_hexres11',\n",
    "                            'prox_analysis', if_exists='append')"
   ]
  },
  {
   "cell_type": "code",
   "execution_count": null,
   "id": "117cf143-9893-4731-afdf-c735d2ced8c4",
   "metadata": {},
   "outputs": [],
   "source": []
  }
 ],
 "metadata": {
  "kernelspec": {
   "display_name": "odc",
   "language": "python",
   "name": "odc"
  },
  "language_info": {
   "codemirror_mode": {
    "name": "ipython",
    "version": 3
   },
   "file_extension": ".py",
   "mimetype": "text/x-python",
   "name": "python",
   "nbconvert_exporter": "python",
   "pygments_lexer": "ipython3",
   "version": "3.10.4"
  }
 },
 "nbformat": 4,
 "nbformat_minor": 5
}
