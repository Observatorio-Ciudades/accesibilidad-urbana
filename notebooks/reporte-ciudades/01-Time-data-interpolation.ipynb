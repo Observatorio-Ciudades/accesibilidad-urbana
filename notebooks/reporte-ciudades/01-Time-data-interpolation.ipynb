{
 "cells": [
  {
   "cell_type": "markdown",
   "id": "1a0e9604-66ef-424b-b821-ceac1ca278fc",
   "metadata": {},
   "source": [
    "# Time interpolation notebook"
   ]
  },
  {
   "cell_type": "markdown",
   "id": "9f52da9f-0cb4-4147-9d38-532801d2cbc4",
   "metadata": {},
   "source": [
    "Time analysis for hexagons without nodes and time data."
   ]
  },
  {
   "cell_type": "markdown",
   "id": "d35a3553-9c73-48e3-a5db-b07adcfda3ce",
   "metadata": {},
   "source": [
    "## Import libraries"
   ]
  },
  {
   "cell_type": "code",
   "execution_count": 1,
   "id": "009249a8-b2ea-4ef9-977a-aa9180529445",
   "metadata": {},
   "outputs": [
    {
     "name": "stderr",
     "output_type": "stream",
     "text": [
      "/home/edgaregurrola/anaconda3/envs/odc/lib/python3.10/site-packages/geopandas/_compat.py:123: UserWarning: The Shapely GEOS version (3.10.3-CAPI-1.16.1) is incompatible with the GEOS version PyGEOS was compiled with (3.10.1-CAPI-1.16.0). Conversions between both will be slow.\n",
      "  warnings.warn(\n",
      "/home/edgaregurrola/.local/lib/python3.10/site-packages/requests/__init__.py:109: RequestsDependencyWarning: urllib3 (1.26.9) or chardet (5.1.0)/charset_normalizer (2.0.12) doesn't match a supported version!\n",
      "  warnings.warn(\n"
     ]
    },
    {
     "name": "stdout",
     "output_type": "stream",
     "text": [
      "2023-08-07 16:12:00 Configured OSMnx 1.1.2\n",
      "2023-08-07 16:12:00 HTTP response caching is on\n"
     ]
    }
   ],
   "source": [
    "import os\n",
    "import sys\n",
    "\n",
    "import numpy as np\n",
    "import pandas as pd\n",
    "import geopandas as gpd\n",
    "import math\n",
    "import shapely\n",
    "import h3\n",
    "\n",
    "import matplotlib.pyplot as plt\n",
    "\n",
    "module_path = os.path.abspath(os.path.join('../../'))\n",
    "if module_path not in sys.path:\n",
    "    sys.path.append(module_path)\n",
    "    import aup"
   ]
  },
  {
   "cell_type": "markdown",
   "id": "a97cee68-0084-42a6-ab6c-693518cd0cf5",
   "metadata": {
    "tags": []
   },
   "source": [
    "## Download data"
   ]
  },
  {
   "cell_type": "code",
   "execution_count": 2,
   "id": "1df2744d-a4aa-4782-909e-41a8bba04674",
   "metadata": {},
   "outputs": [],
   "source": [
    "city = 'Guadalajara'"
   ]
  },
  {
   "cell_type": "markdown",
   "id": "e9f2a3fc-0e6e-4bf2-b96c-94e541649c92",
   "metadata": {},
   "source": [
    "Municipality limits"
   ]
  },
  {
   "cell_type": "code",
   "execution_count": 3,
   "id": "df1fa424-be03-4a7c-aabf-bdc9e2374f9e",
   "metadata": {},
   "outputs": [
    {
     "name": "stdout",
     "output_type": "stream",
     "text": [
      "(10, 6)\n"
     ]
    },
    {
     "data": {
      "text/html": [
       "<div>\n",
       "<style scoped>\n",
       "    .dataframe tbody tr th:only-of-type {\n",
       "        vertical-align: middle;\n",
       "    }\n",
       "\n",
       "    .dataframe tbody tr th {\n",
       "        vertical-align: top;\n",
       "    }\n",
       "\n",
       "    .dataframe thead th {\n",
       "        text-align: right;\n",
       "    }\n",
       "</style>\n",
       "<table border=\"1\" class=\"dataframe\">\n",
       "  <thead>\n",
       "    <tr style=\"text-align: right;\">\n",
       "      <th></th>\n",
       "      <th>CVEGEO</th>\n",
       "      <th>CVE_ENT</th>\n",
       "      <th>CVE_MUN</th>\n",
       "      <th>NOMGEO</th>\n",
       "      <th>geometry</th>\n",
       "      <th>city</th>\n",
       "    </tr>\n",
       "  </thead>\n",
       "  <tbody>\n",
       "    <tr>\n",
       "      <th>0</th>\n",
       "      <td>14002</td>\n",
       "      <td>14</td>\n",
       "      <td>002</td>\n",
       "      <td>Acatlán de Juárez</td>\n",
       "      <td>POLYGON ((-103.65448 20.50346, -103.65200 20.5...</td>\n",
       "      <td>Guadalajara</td>\n",
       "    </tr>\n",
       "    <tr>\n",
       "      <th>1</th>\n",
       "      <td>14039</td>\n",
       "      <td>14</td>\n",
       "      <td>039</td>\n",
       "      <td>Guadalajara</td>\n",
       "      <td>POLYGON ((-103.31164 20.75098, -103.31014 20.7...</td>\n",
       "      <td>Guadalajara</td>\n",
       "    </tr>\n",
       "    <tr>\n",
       "      <th>2</th>\n",
       "      <td>14044</td>\n",
       "      <td>14</td>\n",
       "      <td>044</td>\n",
       "      <td>Ixtlahuacán de los Membrillos</td>\n",
       "      <td>POLYGON ((-103.20756 20.47596, -103.20698 20.4...</td>\n",
       "      <td>Guadalajara</td>\n",
       "    </tr>\n",
       "    <tr>\n",
       "      <th>3</th>\n",
       "      <td>14051</td>\n",
       "      <td>14</td>\n",
       "      <td>051</td>\n",
       "      <td>Juanacatlán</td>\n",
       "      <td>POLYGON ((-103.13701 20.57179, -103.13028 20.5...</td>\n",
       "      <td>Guadalajara</td>\n",
       "    </tr>\n",
       "    <tr>\n",
       "      <th>4</th>\n",
       "      <td>14070</td>\n",
       "      <td>14</td>\n",
       "      <td>070</td>\n",
       "      <td>El Salto</td>\n",
       "      <td>POLYGON ((-103.31558 20.57832, -103.31525 20.5...</td>\n",
       "      <td>Guadalajara</td>\n",
       "    </tr>\n",
       "  </tbody>\n",
       "</table>\n",
       "</div>"
      ],
      "text/plain": [
       "  CVEGEO CVE_ENT CVE_MUN                         NOMGEO  \\\n",
       "0  14002      14     002              Acatlán de Juárez   \n",
       "1  14039      14     039                    Guadalajara   \n",
       "2  14044      14     044  Ixtlahuacán de los Membrillos   \n",
       "3  14051      14     051                    Juanacatlán   \n",
       "4  14070      14     070                       El Salto   \n",
       "\n",
       "                                            geometry         city  \n",
       "0  POLYGON ((-103.65448 20.50346, -103.65200 20.5...  Guadalajara  \n",
       "1  POLYGON ((-103.31164 20.75098, -103.31014 20.7...  Guadalajara  \n",
       "2  POLYGON ((-103.20756 20.47596, -103.20698 20.4...  Guadalajara  \n",
       "3  POLYGON ((-103.13701 20.57179, -103.13028 20.5...  Guadalajara  \n",
       "4  POLYGON ((-103.31558 20.57832, -103.31525 20.5...  Guadalajara  "
      ]
     },
     "execution_count": 3,
     "metadata": {},
     "output_type": "execute_result"
    }
   ],
   "source": [
    "mun_schema = 'metropolis'\n",
    "mun_folder = 'metro_gdf'\n",
    "\n",
    "query = f\"SELECT * FROM {mun_schema}.{mun_folder} WHERE \\\"city\\\" LIKE \\'{city}\\'\"\n",
    "mun_gdf = aup.gdf_from_query(query, geometry_col='geometry')\n",
    "\n",
    "print(mun_gdf.shape)\n",
    "mun_gdf.head()"
   ]
  },
  {
   "cell_type": "markdown",
   "id": "aaf23352-d6b4-44a6-acf9-30001f19fb57",
   "metadata": {},
   "source": [
    "Urban area"
   ]
  },
  {
   "cell_type": "code",
   "execution_count": 7,
   "id": "eb47e87f-0ea9-4db3-80bd-c0f69acd4956",
   "metadata": {},
   "outputs": [
    {
     "name": "stdout",
     "output_type": "stream",
     "text": [
      "(1187, 225)\n"
     ]
    },
    {
     "data": {
      "text/html": [
       "<div>\n",
       "<style scoped>\n",
       "    .dataframe tbody tr th:only-of-type {\n",
       "        vertical-align: middle;\n",
       "    }\n",
       "\n",
       "    .dataframe tbody tr th {\n",
       "        vertical-align: top;\n",
       "    }\n",
       "\n",
       "    .dataframe thead th {\n",
       "        text-align: right;\n",
       "    }\n",
       "</style>\n",
       "<table border=\"1\" class=\"dataframe\">\n",
       "  <thead>\n",
       "    <tr style=\"text-align: right;\">\n",
       "      <th></th>\n",
       "      <th>geometry</th>\n",
       "      <th>hex_id_8</th>\n",
       "      <th>CVEGEO</th>\n",
       "      <th>pobtot</th>\n",
       "      <th>pobfem</th>\n",
       "      <th>pobmas</th>\n",
       "      <th>p_0a2</th>\n",
       "      <th>p_0a2_f</th>\n",
       "      <th>p_0a2_m</th>\n",
       "      <th>p_3ymas</th>\n",
       "      <th>...</th>\n",
       "      <th>vph_telef</th>\n",
       "      <th>vph_cel</th>\n",
       "      <th>vph_inter</th>\n",
       "      <th>vph_stvp</th>\n",
       "      <th>vph_spmvpi</th>\n",
       "      <th>vph_cvj</th>\n",
       "      <th>vph_sinrtv</th>\n",
       "      <th>vph_sintlc</th>\n",
       "      <th>vph_sincint</th>\n",
       "      <th>vph_sintic</th>\n",
       "    </tr>\n",
       "  </thead>\n",
       "  <tbody>\n",
       "    <tr>\n",
       "      <th>0</th>\n",
       "      <td>POLYGON ((-103.61319 20.42802, -103.61772 20.4...</td>\n",
       "      <td>8849abc9ebfffff</td>\n",
       "      <td>14002</td>\n",
       "      <td>273.168550</td>\n",
       "      <td>135.64044</td>\n",
       "      <td>137.528090</td>\n",
       "      <td>13.123595</td>\n",
       "      <td>6.831461</td>\n",
       "      <td>6.292135</td>\n",
       "      <td>260.044950</td>\n",
       "      <td>...</td>\n",
       "      <td>13.662921</td>\n",
       "      <td>66.06741</td>\n",
       "      <td>34.426968</td>\n",
       "      <td>56.808990</td>\n",
       "      <td>9.168539</td>\n",
       "      <td>7.011236</td>\n",
       "      <td>2.067416</td>\n",
       "      <td>4.134831</td>\n",
       "      <td>33.348316</td>\n",
       "      <td>0.539326</td>\n",
       "    </tr>\n",
       "    <tr>\n",
       "      <th>1</th>\n",
       "      <td>POLYGON ((-103.61374 20.43321, -103.61319 20.4...</td>\n",
       "      <td>8849abc9e3fffff</td>\n",
       "      <td>14002</td>\n",
       "      <td>98.333336</td>\n",
       "      <td>46.00000</td>\n",
       "      <td>43.333332</td>\n",
       "      <td>4.666666</td>\n",
       "      <td>2.333333</td>\n",
       "      <td>2.333333</td>\n",
       "      <td>84.666664</td>\n",
       "      <td>...</td>\n",
       "      <td>3.000000</td>\n",
       "      <td>22.00000</td>\n",
       "      <td>11.000000</td>\n",
       "      <td>18.666666</td>\n",
       "      <td>3.000000</td>\n",
       "      <td>2.000000</td>\n",
       "      <td>0.000000</td>\n",
       "      <td>0.000000</td>\n",
       "      <td>9.333333</td>\n",
       "      <td>0.000000</td>\n",
       "    </tr>\n",
       "  </tbody>\n",
       "</table>\n",
       "<p>2 rows × 225 columns</p>\n",
       "</div>"
      ],
      "text/plain": [
       "                                            geometry         hex_id_8 CVEGEO  \\\n",
       "0  POLYGON ((-103.61319 20.42802, -103.61772 20.4...  8849abc9ebfffff  14002   \n",
       "1  POLYGON ((-103.61374 20.43321, -103.61319 20.4...  8849abc9e3fffff  14002   \n",
       "\n",
       "       pobtot     pobfem      pobmas      p_0a2   p_0a2_f   p_0a2_m  \\\n",
       "0  273.168550  135.64044  137.528090  13.123595  6.831461  6.292135   \n",
       "1   98.333336   46.00000   43.333332   4.666666  2.333333  2.333333   \n",
       "\n",
       "      p_3ymas  ...  vph_telef   vph_cel  vph_inter   vph_stvp  vph_spmvpi  \\\n",
       "0  260.044950  ...  13.662921  66.06741  34.426968  56.808990    9.168539   \n",
       "1   84.666664  ...   3.000000  22.00000  11.000000  18.666666    3.000000   \n",
       "\n",
       "    vph_cvj  vph_sinrtv  vph_sintlc  vph_sincint  vph_sintic  \n",
       "0  7.011236    2.067416    4.134831    33.348316    0.539326  \n",
       "1  2.000000    0.000000    0.000000     9.333333    0.000000  \n",
       "\n",
       "[2 rows x 225 columns]"
      ]
     },
     "execution_count": 7,
     "metadata": {},
     "output_type": "execute_result"
    }
   ],
   "source": [
    "# donwload hexagons with urban limits\n",
    "cvegeo_list = list(mun_gdf.CVEGEO.unique())\n",
    "hex_gdf = gpd.GeoDataFrame()\n",
    "hex_schema = 'censo'\n",
    "hex_folder = 'hex_bins_pop_2020'\n",
    "\n",
    "# Iterates over municipality codes for each metropolitan area or capital\n",
    "for cvegeo in cvegeo_list:\n",
    "    # Downloads municipality polygon according to code\n",
    "    query = f\"SELECT * FROM {hex_schema}.{hex_folder} WHERE \\\"CVEGEO\\\" LIKE \\'{cvegeo}%%\\'\"\n",
    "    hex_tmp = aup.gdf_from_query(query, geometry_col='geometry')\n",
    "    hex_gdf = pd.concat([hex_gdf, hex_tmp],\n",
    "    ignore_index = True, axis = 0)\n",
    "print(hex_gdf.shape)\n",
    "hex_gdf.head(2)"
   ]
  },
  {
   "cell_type": "code",
   "execution_count": 8,
   "id": "759dbb9e-34da-480c-9ff2-c9123f975c20",
   "metadata": {},
   "outputs": [
    {
     "data": {
      "text/plain": [
       "<AxesSubplot: >"
      ]
     },
     "execution_count": 8,
     "metadata": {},
     "output_type": "execute_result"
    },
    {
     "data": {
      "image/png": "[encoded data removed]",
      "text/plain": [
       "<Figure size 432x288 with 1 Axes>"
      ]
     },
     "metadata": {
      "needs_background": "light"
     },
     "output_type": "display_data"
    }
   ],
   "source": [
    "hex_gdf.plot()"
   ]
  },
  {
   "cell_type": "markdown",
   "id": "ef557a98-fde0-4f11-b609-8a4dbff8ed1f",
   "metadata": {},
   "source": [
    "Nodes"
   ]
  },
  {
   "cell_type": "code",
   "execution_count": 10,
   "id": "91523494-14a5-40b9-b322-5badfc37cb91",
   "metadata": {},
   "outputs": [],
   "source": [
    "hex_gdf = hex_gdf.set_crs(\"EPSG:4326\")\n",
    "urb_buffer = hex_gdf.to_crs(\"EPSG:6372\").buffer(2500)\n",
    "urb_buffer = gpd.GeoDataFrame(geometry=urb_buffer)\n",
    "urb_buffer = urb_buffer.dissolve()\n",
    "urb_buffer = urb_buffer.to_crs(\"EPSG:4326\")"
   ]
  },
  {
   "cell_type": "code",
   "execution_count": null,
   "id": "64bae52f-6221-49c1-b61f-8d39905f9180",
   "metadata": {},
   "outputs": [],
   "source": [
    "schema = 'prox_analysis'\n",
    "nodes_folder = 'nodes_proximity_2020'\n",
    "query = f\"SELECT * FROM {schema}.{nodes_folder} WHERE \\\"metropolis\\\" LIKE \\'{city}\\'\"\n",
    "nodes = aup.gdf_from_query(query, geometry_col='geometry')\n",
    "print(nodes.shape)\n",
    "nodes.head(2)"
   ]
  },
  {
   "cell_type": "code",
   "execution_count": null,
   "id": "f1f124f2-b243-4893-9a45-1b785e35b947",
   "metadata": {},
   "outputs": [],
   "source": [
    "nodes_geom = nodes.drop_duplicates(subset='osmid', keep=\"last\")[['osmid','geometry','metropolis']].copy()\n",
    "print(nodes_geom.shape)\n",
    "nodes_geom.head(2)"
   ]
  },
  {
   "cell_type": "code",
   "execution_count": null,
   "id": "e5f9c833-cf72-4a0a-9cb2-20e49afb8b6b",
   "metadata": {},
   "outputs": [],
   "source": [
    "nodes_analysis = nodes_geom.copy()\n",
    "\n",
    "for amenidad in list(nodes.amenity.unique()):\n",
    "    nodes_tmp = nodes.loc[nodes.amenity == amenidad,['osmid','time']]\n",
    "    nodes_tmp = nodes_tmp.rename(columns={'time':amenidad})\n",
    "    if nodes_tmp[amenidad].mean() == 0:\n",
    "        nodes_tmp[amenidad] = -1\n",
    "    nodes_analysis = nodes_analysis.merge(nodes_tmp, on='osmid')\n",
    "    \n",
    "print(nodes_analysis.shape)\n",
    "nodes_analysis.head(2)"
   ]
  },
  {
   "cell_type": "markdown",
   "id": "8355b97c-798c-4ef3-93d0-8d2333359fb0",
   "metadata": {},
   "source": [
    "## Create hex grid"
   ]
  },
  {
   "cell_type": "code",
   "execution_count": null,
   "id": "32686d0c-8f44-44b9-9acf-9503433996f4",
   "metadata": {},
   "outputs": [],
   "source": []
  },
  {
   "cell_type": "markdown",
   "id": "d6d55ccb-9c22-4580-9dd2-8aaa2103e012",
   "metadata": {},
   "source": [
    "## Interpolation"
   ]
  },
  {
   "cell_type": "code",
   "execution_count": null,
   "id": "5c3ec3a5-f6c4-4ba9-b703-78af93625e92",
   "metadata": {},
   "outputs": [],
   "source": []
  },
  {
   "cell_type": "markdown",
   "id": "f0a7ddde-368c-47dd-b427-d37199146a76",
   "metadata": {},
   "source": [
    "## Index calculation"
   ]
  },
  {
   "cell_type": "code",
   "execution_count": null,
   "id": "d59d845a-6ede-4d73-9853-732e6f7305f5",
   "metadata": {},
   "outputs": [],
   "source": []
  }
 ],
 "metadata": {
  "kernelspec": {
   "display_name": "odc",
   "language": "python",
   "name": "odc"
  },
  "language_info": {
   "codemirror_mode": {
    "name": "ipython",
    "version": 3
   },
   "file_extension": ".py",
   "mimetype": "text/x-python",
   "name": "python",
   "nbconvert_exporter": "python",
   "pygments_lexer": "ipython3",
   "version": "3.10.4"
  }
 },
 "nbformat": 4,
 "nbformat_minor": 5
}
