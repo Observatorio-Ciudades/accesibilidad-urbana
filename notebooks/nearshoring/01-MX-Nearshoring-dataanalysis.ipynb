{
 "cells": [
  {
   "cell_type": "markdown",
   "id": "df2133a1-d417-44e9-a952-72f7074cc44e",
   "metadata": {},
   "source": [
    "# Nearshoring"
   ]
  },
  {
   "cell_type": "markdown",
   "id": "e0436a08-a932-4b03-8409-78ec9d750d12",
   "metadata": {},
   "source": [
    "Análisis pertinente al decreto de Nearshoring propuesta por la [Secretaría de Economía](https://www.gob.mx/shcp/prensa/comunicado-no-68-gobierno-de-mexico-fortalece-inversiones-por-nearshoring-en-todo-el-pais?idiom=es) en México. Para esto, se filtraron los datos de las unidades económicas pertinentes, utilizando el DENUE 2022 y se agruparon los datos por hexágonos de H3 con resolución 5. Posteriormente, los datos se normalizaron utilizando todas las unidades económicas."
   ]
  },
  {
   "cell_type": "markdown",
   "id": "a4c8a281-c95e-49e1-b0cf-a64890cde7ab",
   "metadata": {},
   "source": [
    "## Import libraries"
   ]
  },
  {
   "cell_type": "code",
   "execution_count": 1,
   "id": "37d29a61-1757-4512-bfe3-9a262e44083c",
   "metadata": {},
   "outputs": [
    {
     "name": "stderr",
     "output_type": "stream",
     "text": [
      "/home/vscode/anaconda3/envs/odc/lib/python3.10/site-packages/osmnx/utils.py:192: UserWarning: The `utils.config` function is deprecated and will be removed in a future release. Instead, use the `settings` module directly to configure a global setting's value. For example, `ox.settings.log_console=True`.\n",
      "  warnings.warn(\n"
     ]
    }
   ],
   "source": [
    "import os\n",
    "import sys\n",
    "\n",
    "import pandas as pd\n",
    "import numpy as np\n",
    "import geopandas as gpd\n",
    "import folium\n",
    "\n",
    "import matplotlib.pyplot as plt\n",
    "import seaborn as sns\n",
    "\n",
    "module_path = os.path.abspath(os.path.join('../../'))\n",
    "if module_path not in sys.path:\n",
    "    sys.path.append(module_path)\n",
    "    import aup"
   ]
  },
  {
   "cell_type": "markdown",
   "id": "db9451b1-1c62-4d59-a27b-cddc81041d46",
   "metadata": {},
   "source": [
    "## Download data"
   ]
  },
  {
   "cell_type": "markdown",
   "id": "3abc6bbc-70f5-44d8-b139-1889bd09f3b7",
   "metadata": {},
   "source": [
    "### DENUE Industry"
   ]
  },
  {
   "cell_type": "code",
   "execution_count": 4,
   "id": "859dd8ff-5eae-4ecf-9b45-46804b6afc85",
   "metadata": {},
   "outputs": [
    {
     "data": {
      "text/plain": [
       "'SELECT * FROM denue.denue_2022 WHERE \"codigo_act\" LIKE \\'31%%\\'or \"codigo_act\" LIKE \\'32%%\\'\\nor \"codigo_act\" LIKE \\'33%%\\' or \"codigo_act\" LIKE \\'51211%%\\''"
      ]
     },
     "execution_count": 4,
     "metadata": {},
     "output_type": "execute_result"
    }
   ],
   "source": [
    "query = \"\"\"SELECT * FROM denue.denue_2022 WHERE \\\"codigo_act\\\" LIKE \\'31%%\\'or \\\"codigo_act\\\" LIKE \\'32%%\\'\n",
    "or \\\"codigo_act\\\" LIKE \\'33%%\\' or \\\"codigo_act\\\" LIKE \\'51211%%\\'\"\"\"\n",
    "query"
   ]
  },
  {
   "cell_type": "code",
   "execution_count": 5,
   "id": "a3606cd4-b73e-4331-ad0c-9ce3f9a88859",
   "metadata": {},
   "outputs": [
    {
     "name": "stdout",
     "output_type": "stream",
     "text": [
      "(608640, 43)\n"
     ]
    },
    {
     "data": {
      "text/html": [
       "<div>\n",
       "<style scoped>\n",
       "    .dataframe tbody tr th:only-of-type {\n",
       "        vertical-align: middle;\n",
       "    }\n",
       "\n",
       "    .dataframe tbody tr th {\n",
       "        vertical-align: top;\n",
       "    }\n",
       "\n",
       "    .dataframe thead th {\n",
       "        text-align: right;\n",
       "    }\n",
       "</style>\n",
       "<table border=\"1\" class=\"dataframe\">\n",
       "  <thead>\n",
       "    <tr style=\"text-align: right;\">\n",
       "      <th></th>\n",
       "      <th>id</th>\n",
       "      <th>clee</th>\n",
       "      <th>nom_estab</th>\n",
       "      <th>raz_social</th>\n",
       "      <th>codigo_act</th>\n",
       "      <th>nombre_act</th>\n",
       "      <th>per_ocu</th>\n",
       "      <th>tipo_vial</th>\n",
       "      <th>nom_vial</th>\n",
       "      <th>tipo_v_e_1</th>\n",
       "      <th>...</th>\n",
       "      <th>ageb</th>\n",
       "      <th>manzana</th>\n",
       "      <th>telefono</th>\n",
       "      <th>correoelec</th>\n",
       "      <th>www</th>\n",
       "      <th>tipoUniEco</th>\n",
       "      <th>latitud</th>\n",
       "      <th>longitud</th>\n",
       "      <th>fecha_alta</th>\n",
       "      <th>geometry</th>\n",
       "    </tr>\n",
       "  </thead>\n",
       "  <tbody>\n",
       "    <tr>\n",
       "      <th>0</th>\n",
       "      <td>9235175</td>\n",
       "      <td>15057512111000014000000000S0</td>\n",
       "      <td>INDUSTRIAS AUDIOVISUALES MEXICANOS</td>\n",
       "      <td>INDUSTRIAS AUDIOVISUALES MEXICANOS SA DE CV</td>\n",
       "      <td>512111</td>\n",
       "      <td>Producción de películas</td>\n",
       "      <td>31 a 50 personas</td>\n",
       "      <td>CALLE</td>\n",
       "      <td>CALLE DEL ESFUERZO</td>\n",
       "      <td>CALLE</td>\n",
       "      <td>...</td>\n",
       "      <td>0353</td>\n",
       "      <td>009</td>\n",
       "      <td>5537070813</td>\n",
       "      <td>IMIRON@CINECOBR.COM.MX</td>\n",
       "      <td>WWW.CINECOLOR.COM.MX</td>\n",
       "      <td>Fijo</td>\n",
       "      <td>19.460408</td>\n",
       "      <td>-99.227091</td>\n",
       "      <td>2020-04</td>\n",
       "      <td>POINT (-99.22709 19.46041)</td>\n",
       "    </tr>\n",
       "    <tr>\n",
       "      <th>1</th>\n",
       "      <td>8696385</td>\n",
       "      <td>15104512111000021000000000S5</td>\n",
       "      <td>BODEGA ARGOS PRODUCCIONES</td>\n",
       "      <td>CARAVANA UNO SA DE CV</td>\n",
       "      <td>512111</td>\n",
       "      <td>Producción de películas</td>\n",
       "      <td>0 a 5 personas</td>\n",
       "      <td>AVENIDA</td>\n",
       "      <td>VIA GUSTAVO BAZ</td>\n",
       "      <td>CALLE</td>\n",
       "      <td>...</td>\n",
       "      <td>0938</td>\n",
       "      <td>019</td>\n",
       "      <td>None</td>\n",
       "      <td>None</td>\n",
       "      <td>None</td>\n",
       "      <td>Fijo</td>\n",
       "      <td>19.518101</td>\n",
       "      <td>-99.213855</td>\n",
       "      <td>2019-11</td>\n",
       "      <td>POINT (-99.21385 19.51810)</td>\n",
       "    </tr>\n",
       "  </tbody>\n",
       "</table>\n",
       "<p>2 rows × 43 columns</p>\n",
       "</div>"
      ],
      "text/plain": [
       "        id                          clee                           nom_estab  \\\n",
       "0  9235175  15057512111000014000000000S0  INDUSTRIAS AUDIOVISUALES MEXICANOS   \n",
       "1  8696385  15104512111000021000000000S5           BODEGA ARGOS PRODUCCIONES   \n",
       "\n",
       "                                    raz_social codigo_act  \\\n",
       "0  INDUSTRIAS AUDIOVISUALES MEXICANOS SA DE CV     512111   \n",
       "1                        CARAVANA UNO SA DE CV     512111   \n",
       "\n",
       "                nombre_act           per_ocu tipo_vial            nom_vial  \\\n",
       "0  Producción de películas  31 a 50 personas     CALLE  CALLE DEL ESFUERZO   \n",
       "1  Producción de películas    0 a 5 personas   AVENIDA     VIA GUSTAVO BAZ   \n",
       "\n",
       "  tipo_v_e_1  ...  ageb manzana    telefono              correoelec  \\\n",
       "0      CALLE  ...  0353     009  5537070813  IMIRON@CINECOBR.COM.MX   \n",
       "1      CALLE  ...  0938     019        None                    None   \n",
       "\n",
       "                    www tipoUniEco    latitud   longitud fecha_alta  \\\n",
       "0  WWW.CINECOLOR.COM.MX       Fijo  19.460408 -99.227091    2020-04   \n",
       "1                  None       Fijo  19.518101 -99.213855    2019-11   \n",
       "\n",
       "                     geometry  \n",
       "0  POINT (-99.22709 19.46041)  \n",
       "1  POINT (-99.21385 19.51810)  \n",
       "\n",
       "[2 rows x 43 columns]"
      ]
     },
     "execution_count": 5,
     "metadata": {},
     "output_type": "execute_result"
    }
   ],
   "source": [
    "denue_all = aup.gdf_from_query(query)\n",
    "print(denue_all.shape)\n",
    "denue_all.head(2)"
   ]
  },
  {
   "cell_type": "markdown",
   "id": "b18164f2-2b32-4a5d-9df9-0ba2cd8d7b3f",
   "metadata": {},
   "source": [
    "### Industrias nearshoring"
   ]
  },
  {
   "cell_type": "code",
   "execution_count": 6,
   "id": "d2e344c6-c79d-4039-9682-0e6f2b8a31ff",
   "metadata": {},
   "outputs": [
    {
     "data": {
      "text/plain": [
       "'SELECT * FROM denue.denue_2022 WHERE \"codigo_act\" LIKE \\'3363%%\\'or \"codigo_act\" LIKE \\'3254%%\\'\\nor \"codigo_act\" LIKE \\'3359%%\\' or \"codigo_act\" LIKE \\'3344%%\\' or \"codigo_act\" LIKE \\'3253%%\\' or \"codigo_act\" LIKE \\'3391%%\\' or\\n\"codigo_act\" LIKE \\'3253%%\\' or \"codigo_act\" LIKE \\'33641%%\\' or  \"codigo_act\" LIKE \\'3345%%\\'  or  \"codigo_act\" LIKE \\'51211%%\\' '"
      ]
     },
     "execution_count": 6,
     "metadata": {},
     "output_type": "execute_result"
    }
   ],
   "source": [
    "query = \"\"\"SELECT * FROM denue.denue_2022 WHERE \\\"codigo_act\\\" LIKE \\'3363%%\\'or \\\"codigo_act\\\" LIKE \\'3254%%\\'\n",
    "or \\\"codigo_act\\\" LIKE \\'3359%%\\' or \\\"codigo_act\\\" LIKE \\'3344%%\\' or \\\"codigo_act\\\" LIKE \\'3253%%\\' or \\\"codigo_act\\\" LIKE \\'3391%%\\' or\n",
    "\\\"codigo_act\\\" LIKE \\'3253%%\\' or \\\"codigo_act\\\" LIKE \\'33641%%\\' or  \\\"codigo_act\\\" LIKE \\'3345%%\\'  or  \\\"codigo_act\\\" LIKE \\'51211%%\\' \"\"\"\n",
    "query"
   ]
  },
  {
   "cell_type": "code",
   "execution_count": 7,
   "id": "cff72f63-abc0-4655-b8a5-a7cf34fec0f7",
   "metadata": {},
   "outputs": [
    {
     "name": "stdout",
     "output_type": "stream",
     "text": [
      "(7384, 43)\n"
     ]
    },
    {
     "data": {
      "text/html": [
       "<div>\n",
       "<style scoped>\n",
       "    .dataframe tbody tr th:only-of-type {\n",
       "        vertical-align: middle;\n",
       "    }\n",
       "\n",
       "    .dataframe tbody tr th {\n",
       "        vertical-align: top;\n",
       "    }\n",
       "\n",
       "    .dataframe thead th {\n",
       "        text-align: right;\n",
       "    }\n",
       "</style>\n",
       "<table border=\"1\" class=\"dataframe\">\n",
       "  <thead>\n",
       "    <tr style=\"text-align: right;\">\n",
       "      <th></th>\n",
       "      <th>id</th>\n",
       "      <th>clee</th>\n",
       "      <th>nom_estab</th>\n",
       "      <th>raz_social</th>\n",
       "      <th>codigo_act</th>\n",
       "      <th>nombre_act</th>\n",
       "      <th>per_ocu</th>\n",
       "      <th>tipo_vial</th>\n",
       "      <th>nom_vial</th>\n",
       "      <th>tipo_v_e_1</th>\n",
       "      <th>...</th>\n",
       "      <th>ageb</th>\n",
       "      <th>manzana</th>\n",
       "      <th>telefono</th>\n",
       "      <th>correoelec</th>\n",
       "      <th>www</th>\n",
       "      <th>tipoUniEco</th>\n",
       "      <th>latitud</th>\n",
       "      <th>longitud</th>\n",
       "      <th>fecha_alta</th>\n",
       "      <th>geometry</th>\n",
       "    </tr>\n",
       "  </thead>\n",
       "  <tbody>\n",
       "    <tr>\n",
       "      <th>0</th>\n",
       "      <td>8696245</td>\n",
       "      <td>15104512111000011000000000S6</td>\n",
       "      <td>CARAVANA UNO</td>\n",
       "      <td>CARAVANA UNO SA DE CV</td>\n",
       "      <td>512111</td>\n",
       "      <td>Producción de películas</td>\n",
       "      <td>0 a 5 personas</td>\n",
       "      <td>CALLE</td>\n",
       "      <td>TEMAZCAL</td>\n",
       "      <td>PRIVADA</td>\n",
       "      <td>...</td>\n",
       "      <td>1885</td>\n",
       "      <td>021</td>\n",
       "      <td>None</td>\n",
       "      <td>None</td>\n",
       "      <td>None</td>\n",
       "      <td>Fijo</td>\n",
       "      <td>19.534904</td>\n",
       "      <td>-99.200916</td>\n",
       "      <td>2019-11</td>\n",
       "      <td>POINT (-99.20092 19.53490)</td>\n",
       "    </tr>\n",
       "    <tr>\n",
       "      <th>1</th>\n",
       "      <td>9235175</td>\n",
       "      <td>15057512111000014000000000S0</td>\n",
       "      <td>INDUSTRIAS AUDIOVISUALES MEXICANOS</td>\n",
       "      <td>INDUSTRIAS AUDIOVISUALES MEXICANOS SA DE CV</td>\n",
       "      <td>512111</td>\n",
       "      <td>Producción de películas</td>\n",
       "      <td>31 a 50 personas</td>\n",
       "      <td>CALLE</td>\n",
       "      <td>CALLE DEL ESFUERZO</td>\n",
       "      <td>CALLE</td>\n",
       "      <td>...</td>\n",
       "      <td>0353</td>\n",
       "      <td>009</td>\n",
       "      <td>5537070813</td>\n",
       "      <td>IMIRON@CINECOBR.COM.MX</td>\n",
       "      <td>WWW.CINECOLOR.COM.MX</td>\n",
       "      <td>Fijo</td>\n",
       "      <td>19.460408</td>\n",
       "      <td>-99.227091</td>\n",
       "      <td>2020-04</td>\n",
       "      <td>POINT (-99.22709 19.46041)</td>\n",
       "    </tr>\n",
       "    <tr>\n",
       "      <th>2</th>\n",
       "      <td>8433615</td>\n",
       "      <td>15004512113000011000000000U4</td>\n",
       "      <td>EXPLOCION CREATIVA</td>\n",
       "      <td>None</td>\n",
       "      <td>512113</td>\n",
       "      <td>Producción de videoclips, comerciales y otros ...</td>\n",
       "      <td>0 a 5 personas</td>\n",
       "      <td>CALLE</td>\n",
       "      <td>GENERAL AGUSTIN MILLAN</td>\n",
       "      <td>CALLE</td>\n",
       "      <td>...</td>\n",
       "      <td>0044</td>\n",
       "      <td>001</td>\n",
       "      <td>None</td>\n",
       "      <td>None</td>\n",
       "      <td>None</td>\n",
       "      <td>Fijo</td>\n",
       "      <td>18.866028</td>\n",
       "      <td>-99.894428</td>\n",
       "      <td>2019-11</td>\n",
       "      <td>POINT (-99.89443 18.86603)</td>\n",
       "    </tr>\n",
       "    <tr>\n",
       "      <th>3</th>\n",
       "      <td>8802051</td>\n",
       "      <td>15106512112000011000000000M9</td>\n",
       "      <td>MEDIACOM</td>\n",
       "      <td>CABLEVISION REGIONAL SA DE CV</td>\n",
       "      <td>512112</td>\n",
       "      <td>Producción de programas para la televisión</td>\n",
       "      <td>0 a 5 personas</td>\n",
       "      <td>CALLE</td>\n",
       "      <td>ANDRES QUINTANA ROO</td>\n",
       "      <td>AVENIDA</td>\n",
       "      <td>...</td>\n",
       "      <td>0449</td>\n",
       "      <td>016</td>\n",
       "      <td>None</td>\n",
       "      <td>None</td>\n",
       "      <td>None</td>\n",
       "      <td>Fijo</td>\n",
       "      <td>19.286799</td>\n",
       "      <td>-99.662621</td>\n",
       "      <td>2019-11</td>\n",
       "      <td>POINT (-99.66262 19.28680)</td>\n",
       "    </tr>\n",
       "  </tbody>\n",
       "</table>\n",
       "<p>4 rows × 43 columns</p>\n",
       "</div>"
      ],
      "text/plain": [
       "        id                          clee                           nom_estab  \\\n",
       "0  8696245  15104512111000011000000000S6                        CARAVANA UNO   \n",
       "1  9235175  15057512111000014000000000S0  INDUSTRIAS AUDIOVISUALES MEXICANOS   \n",
       "2  8433615  15004512113000011000000000U4                  EXPLOCION CREATIVA   \n",
       "3  8802051  15106512112000011000000000M9                            MEDIACOM   \n",
       "\n",
       "                                    raz_social codigo_act  \\\n",
       "0                        CARAVANA UNO SA DE CV     512111   \n",
       "1  INDUSTRIAS AUDIOVISUALES MEXICANOS SA DE CV     512111   \n",
       "2                                         None     512113   \n",
       "3                CABLEVISION REGIONAL SA DE CV     512112   \n",
       "\n",
       "                                          nombre_act           per_ocu  \\\n",
       "0                            Producción de películas    0 a 5 personas   \n",
       "1                            Producción de películas  31 a 50 personas   \n",
       "2  Producción de videoclips, comerciales y otros ...    0 a 5 personas   \n",
       "3         Producción de programas para la televisión    0 a 5 personas   \n",
       "\n",
       "  tipo_vial                nom_vial tipo_v_e_1  ...  ageb manzana    telefono  \\\n",
       "0     CALLE                TEMAZCAL    PRIVADA  ...  1885     021        None   \n",
       "1     CALLE      CALLE DEL ESFUERZO      CALLE  ...  0353     009  5537070813   \n",
       "2     CALLE  GENERAL AGUSTIN MILLAN      CALLE  ...  0044     001        None   \n",
       "3     CALLE     ANDRES QUINTANA ROO    AVENIDA  ...  0449     016        None   \n",
       "\n",
       "               correoelec                   www tipoUniEco    latitud  \\\n",
       "0                    None                  None       Fijo  19.534904   \n",
       "1  IMIRON@CINECOBR.COM.MX  WWW.CINECOLOR.COM.MX       Fijo  19.460408   \n",
       "2                    None                  None       Fijo  18.866028   \n",
       "3                    None                  None       Fijo  19.286799   \n",
       "\n",
       "    longitud fecha_alta                    geometry  \n",
       "0 -99.200916    2019-11  POINT (-99.20092 19.53490)  \n",
       "1 -99.227091    2020-04  POINT (-99.22709 19.46041)  \n",
       "2 -99.894428    2019-11  POINT (-99.89443 18.86603)  \n",
       "3 -99.662621    2019-11  POINT (-99.66262 19.28680)  \n",
       "\n",
       "[4 rows x 43 columns]"
      ]
     },
     "execution_count": 7,
     "metadata": {},
     "output_type": "execute_result"
    }
   ],
   "source": [
    "denue_near = aup.gdf_from_query(query)\n",
    "print(denue_near.shape)\n",
    "denue_near.head(4)"
   ]
  },
  {
   "cell_type": "markdown",
   "id": "91c57596-4a33-4a24-a68b-377a6482612e",
   "metadata": {},
   "source": [
    "### Hexágonos"
   ]
  },
  {
   "cell_type": "code",
   "execution_count": 32,
   "id": "89228c59-ef5c-4203-9902-91d4d64c5be8",
   "metadata": {},
   "outputs": [],
   "source": [
    "mun_gdf = aup.gdf_from_db(\"mpos_2020\",\"marco\")"
   ]
  },
  {
   "cell_type": "code",
   "execution_count": 33,
   "id": "6b282b6a-a0ab-44ce-aa62-b406eba2f0d7",
   "metadata": {},
   "outputs": [],
   "source": [
    "gdf = mun_gdf.to_crs(\"EPSG:6372\")\n",
    "gdf = gdf.buffer(1).reset_index().rename(columns={0: \"geometry\"})\n",
    "gdf = gdf.set_geometry(\"geometry\")\n",
    "gdf = gdf.to_crs(\"EPSG:4326\")\n",
    "# poly_wkt = gdf.dissolve().geometry.to_wkt()[0]"
   ]
  },
  {
   "cell_type": "code",
   "execution_count": 34,
   "id": "e1ad53d3-3c8f-4d41-92db-5900b051a068",
   "metadata": {},
   "outputs": [],
   "source": [
    "hex_gdf = aup.create_hexgrid(gdf, 7)"
   ]
  },
  {
   "cell_type": "code",
   "execution_count": 35,
   "id": "ddee2d58-5133-4619-bbd8-fc43af796186",
   "metadata": {},
   "outputs": [
    {
     "name": "stdout",
     "output_type": "stream",
     "text": [
      "(329541, 2)\n"
     ]
    },
    {
     "data": {
      "text/html": [
       "<div>\n",
       "<style scoped>\n",
       "    .dataframe tbody tr th:only-of-type {\n",
       "        vertical-align: middle;\n",
       "    }\n",
       "\n",
       "    .dataframe tbody tr th {\n",
       "        vertical-align: top;\n",
       "    }\n",
       "\n",
       "    .dataframe thead th {\n",
       "        text-align: right;\n",
       "    }\n",
       "</style>\n",
       "<table border=\"1\" class=\"dataframe\">\n",
       "  <thead>\n",
       "    <tr style=\"text-align: right;\">\n",
       "      <th></th>\n",
       "      <th>hex_id_7</th>\n",
       "      <th>geometry</th>\n",
       "    </tr>\n",
       "  </thead>\n",
       "  <tbody>\n",
       "    <tr>\n",
       "      <th>0</th>\n",
       "      <td>87498e375ffffff</td>\n",
       "      <td>POLYGON ((-102.22043 21.86888, -102.21174 21.8...</td>\n",
       "    </tr>\n",
       "    <tr>\n",
       "      <th>1</th>\n",
       "      <td>87498ea56ffffff</td>\n",
       "      <td>POLYGON ((-102.32977 21.68615, -102.32110 21.6...</td>\n",
       "    </tr>\n",
       "    <tr>\n",
       "      <th>2</th>\n",
       "      <td>87498e35affffff</td>\n",
       "      <td>POLYGON ((-102.18391 21.99799, -102.17521 22.0...</td>\n",
       "    </tr>\n",
       "    <tr>\n",
       "      <th>3</th>\n",
       "      <td>874988d82ffffff</td>\n",
       "      <td>POLYGON ((-102.37690 21.87093, -102.36822 21.8...</td>\n",
       "    </tr>\n",
       "  </tbody>\n",
       "</table>\n",
       "</div>"
      ],
      "text/plain": [
       "          hex_id_7                                           geometry\n",
       "0  87498e375ffffff  POLYGON ((-102.22043 21.86888, -102.21174 21.8...\n",
       "1  87498ea56ffffff  POLYGON ((-102.32977 21.68615, -102.32110 21.6...\n",
       "2  87498e35affffff  POLYGON ((-102.18391 21.99799, -102.17521 22.0...\n",
       "3  874988d82ffffff  POLYGON ((-102.37690 21.87093, -102.36822 21.8..."
      ]
     },
     "execution_count": 35,
     "metadata": {},
     "output_type": "execute_result"
    }
   ],
   "source": [
    "# hex_gdf = aup.gdf_from_db(\"hexgrid_5\", \"hexgrid\")\n",
    "print(hex_gdf.shape)\n",
    "hex_gdf.head(4)"
   ]
  },
  {
   "cell_type": "code",
   "execution_count": 38,
   "id": "f9ab2eb9-41c5-44c0-bac3-88772782fb26",
   "metadata": {},
   "outputs": [
    {
     "data": {
      "text/plain": [
       "0         6.045038e+06\n",
       "1         6.046231e+06\n",
       "2         6.045282e+06\n",
       "3         6.049398e+06\n",
       "4         6.044963e+06\n",
       "              ...     \n",
       "329599    6.072912e+06\n",
       "329600    6.070828e+06\n",
       "329601    6.069144e+06\n",
       "329602    6.066996e+06\n",
       "329603    6.072070e+06\n",
       "Length: 329541, dtype: float64"
      ]
     },
     "execution_count": 38,
     "metadata": {},
     "output_type": "execute_result"
    }
   ],
   "source": [
    "hex_gdf.to_crs(\"EPSG:6372\").area"
   ]
  },
  {
   "cell_type": "markdown",
   "id": "5a7e4536-4522-42fd-bf7c-4f49713c453a",
   "metadata": {},
   "source": [
    "## Spatial intersection"
   ]
  },
  {
   "cell_type": "code",
   "execution_count": 40,
   "id": "cb2da230-3ff7-49c6-ac70-4527d37db736",
   "metadata": {},
   "outputs": [],
   "source": [
    "denue_in_hex = gpd.sjoin(denue_near, hex_gdf)\n",
    "denue_hex = denue_in_hex.groupby([f'hex_id_7']).count()"
   ]
  },
  {
   "cell_type": "code",
   "execution_count": 42,
   "id": "0bf3c52b-bdc4-4c06-9672-024eb0ae820d",
   "metadata": {},
   "outputs": [],
   "source": [
    "denue_hex = denue_hex.reset_index()\n",
    "hex_denue_gdf = hex_gdf.merge(denue_hex[['hex_id_7','clee']], on='hex_id_7')"
   ]
  },
  {
   "cell_type": "code",
   "execution_count": 43,
   "id": "7bc9daf0-8816-48ff-9cfd-cb4d4b5f9002",
   "metadata": {},
   "outputs": [],
   "source": [
    "denue_in_hex = gpd.sjoin(denue_all, hex_gdf)\n",
    "denue_hex = denue_in_hex.groupby([f'hex_id_7']).count()\n",
    "denue_hex = denue_hex.reset_index()\n",
    "hex_denue_gdf = hex_denue_gdf.merge(denue_hex[['hex_id_7','codigo_act']], on='hex_id_7')"
   ]
  },
  {
   "cell_type": "code",
   "execution_count": null,
   "id": "6435d5b4-6391-4870-ad7a-76a03761a0df",
   "metadata": {},
   "outputs": [],
   "source": []
  },
  {
   "cell_type": "markdown",
   "id": "a83579fe-de09-4c3f-8eaa-fd63a9e65e06",
   "metadata": {},
   "source": [
    "### Spatial analysis"
   ]
  },
  {
   "cell_type": "code",
   "execution_count": 46,
   "id": "6e23708b-f7b3-4303-82fe-9f6816846a33",
   "metadata": {},
   "outputs": [
    {
     "name": "stdout",
     "output_type": "stream",
     "text": [
      "(2190, 5)\n"
     ]
    },
    {
     "data": {
      "text/html": [
       "<div>\n",
       "<style scoped>\n",
       "    .dataframe tbody tr th:only-of-type {\n",
       "        vertical-align: middle;\n",
       "    }\n",
       "\n",
       "    .dataframe tbody tr th {\n",
       "        vertical-align: top;\n",
       "    }\n",
       "\n",
       "    .dataframe thead th {\n",
       "        text-align: right;\n",
       "    }\n",
       "</style>\n",
       "<table border=\"1\" class=\"dataframe\">\n",
       "  <thead>\n",
       "    <tr style=\"text-align: right;\">\n",
       "      <th></th>\n",
       "      <th>hex_id_7</th>\n",
       "      <th>geometry</th>\n",
       "      <th>nearshoring_industry</th>\n",
       "      <th>denue</th>\n",
       "      <th>nearshoring_pct</th>\n",
       "    </tr>\n",
       "  </thead>\n",
       "  <tbody>\n",
       "    <tr>\n",
       "      <th>0</th>\n",
       "      <td>87498e36cffffff</td>\n",
       "      <td>POLYGON ((-102.30650 21.90073, -102.29781 21.9...</td>\n",
       "      <td>3</td>\n",
       "      <td>117</td>\n",
       "      <td>0.025641</td>\n",
       "    </tr>\n",
       "    <tr>\n",
       "      <th>1</th>\n",
       "      <td>87498e365ffffff</td>\n",
       "      <td>POLYGON ((-102.28822 21.86296, -102.27953 21.8...</td>\n",
       "      <td>11</td>\n",
       "      <td>450</td>\n",
       "      <td>0.024444</td>\n",
       "    </tr>\n",
       "    <tr>\n",
       "      <th>2</th>\n",
       "      <td>87498e36dffffff</td>\n",
       "      <td>POLYGON ((-102.32738 21.91464, -102.31870 21.9...</td>\n",
       "      <td>1</td>\n",
       "      <td>25</td>\n",
       "      <td>0.040000</td>\n",
       "    </tr>\n",
       "    <tr>\n",
       "      <th>3</th>\n",
       "      <td>874988d95ffffff</td>\n",
       "      <td>POLYGON ((-102.35601 21.85702, -102.34733 21.8...</td>\n",
       "      <td>1</td>\n",
       "      <td>2</td>\n",
       "      <td>0.500000</td>\n",
       "    </tr>\n",
       "  </tbody>\n",
       "</table>\n",
       "</div>"
      ],
      "text/plain": [
       "          hex_id_7                                           geometry  \\\n",
       "0  87498e36cffffff  POLYGON ((-102.30650 21.90073, -102.29781 21.9...   \n",
       "1  87498e365ffffff  POLYGON ((-102.28822 21.86296, -102.27953 21.8...   \n",
       "2  87498e36dffffff  POLYGON ((-102.32738 21.91464, -102.31870 21.9...   \n",
       "3  874988d95ffffff  POLYGON ((-102.35601 21.85702, -102.34733 21.8...   \n",
       "\n",
       "   nearshoring_industry  denue  nearshoring_pct  \n",
       "0                     3    117         0.025641  \n",
       "1                    11    450         0.024444  \n",
       "2                     1     25         0.040000  \n",
       "3                     1      2         0.500000  "
      ]
     },
     "execution_count": 46,
     "metadata": {},
     "output_type": "execute_result"
    }
   ],
   "source": [
    "hex_denue_gdf = hex_denue_gdf.rename(columns={'clee':'nearshoring_industry',\n",
    "                             'codigo_act':'denue'})\n",
    "hex_denue_gdf['nearshoring_pct'] = hex_denue_gdf['nearshoring_industry'] / hex_denue_gdf['denue']\n",
    "print(hex_denue_gdf.shape)\n",
    "hex_denue_gdf.head(4)"
   ]
  },
  {
   "cell_type": "code",
   "execution_count": 45,
   "id": "96761b97-b342-4b71-8265-1c921f3dbb47",
   "metadata": {},
   "outputs": [
    {
     "data": {
      "text/plain": [
       "<AxesSubplot:>"
      ]
     },
     "execution_count": 45,
     "metadata": {},
     "output_type": "execute_result"
    },
    {
     "data": {
      "image/png": "[encoded data removed]",
      "text/plain": [
       "<Figure size 432x288 with 1 Axes>"
      ]
     },
     "metadata": {
      "needs_background": "light"
     },
     "output_type": "display_data"
    }
   ],
   "source": [
    "hex_denue_gdf.plot('nearshoring_industry')"
   ]
  },
  {
   "cell_type": "code",
   "execution_count": 30,
   "id": "c5fd2544-7c5e-4dea-a1aa-b026c43d5a29",
   "metadata": {
    "collapsed": true,
    "jupyter": {
     "outputs_hidden": true
    },
    "tags": []
   },
   "outputs": [
    {
     "ename": "ValueError",
     "evalue": "key_on `'hex_id_5'` not found in GeoJSON.",
     "output_type": "error",
     "traceback": [
      "\u001b[0;31m---------------------------------------------------------------------------\u001b[0m",
      "\u001b[0;31mValueError\u001b[0m                                Traceback (most recent call last)",
      "Input \u001b[0;32mIn [30]\u001b[0m, in \u001b[0;36m<cell line: 5>\u001b[0;34m()\u001b[0m\n\u001b[1;32m      1\u001b[0m m \u001b[38;5;241m=\u001b[39m folium\u001b[38;5;241m.\u001b[39mMap(tiles\u001b[38;5;241m=\u001b[39m\u001b[38;5;124m\"\u001b[39m\u001b[38;5;124mcartodbpositron\u001b[39m\u001b[38;5;124m\"\u001b[39m)\n\u001b[1;32m      3\u001b[0m \u001b[38;5;66;03m# folium.GeoJson(, name=\"DENUE Nearshoring\").add_to(m)\u001b[39;00m\n\u001b[0;32m----> 5\u001b[0m \u001b[43mfolium\u001b[49m\u001b[38;5;241;43m.\u001b[39;49m\u001b[43mChoropleth\u001b[49m\u001b[43m(\u001b[49m\n\u001b[1;32m      6\u001b[0m \u001b[43m    \u001b[49m\u001b[43mgeo_data\u001b[49m\u001b[38;5;241;43m=\u001b[39;49m\u001b[43mhex_denue_gdf\u001b[49m\u001b[43m,\u001b[49m\n\u001b[1;32m      7\u001b[0m \u001b[43m    \u001b[49m\u001b[43mname\u001b[49m\u001b[38;5;241;43m=\u001b[39;49m\u001b[38;5;124;43m\"\u001b[39;49m\u001b[38;5;124;43mchoropleth\u001b[39;49m\u001b[38;5;124;43m\"\u001b[39;49m\u001b[43m,\u001b[49m\n\u001b[1;32m      8\u001b[0m \u001b[43m    \u001b[49m\u001b[43mdata\u001b[49m\u001b[38;5;241;43m=\u001b[39;49m\u001b[43mhex_denue_gdf\u001b[49m\u001b[43m,\u001b[49m\n\u001b[1;32m      9\u001b[0m \u001b[43m    \u001b[49m\u001b[43mcolumns\u001b[49m\u001b[38;5;241;43m=\u001b[39;49m\u001b[43m[\u001b[49m\u001b[38;5;124;43m\"\u001b[39;49m\u001b[38;5;124;43mhex_id_5\u001b[39;49m\u001b[38;5;124;43m\"\u001b[39;49m\u001b[43m,\u001b[49m\u001b[38;5;124;43m\"\u001b[39;49m\u001b[38;5;124;43mnearshoring_industry\u001b[39;49m\u001b[38;5;124;43m\"\u001b[39;49m\u001b[43m]\u001b[49m\u001b[43m,\u001b[49m\n\u001b[1;32m     10\u001b[0m \u001b[43m    \u001b[49m\u001b[43mkey_on\u001b[49m\u001b[38;5;241;43m=\u001b[39;49m\u001b[38;5;124;43m\"\u001b[39;49m\u001b[38;5;124;43mhex_id_5\u001b[39;49m\u001b[38;5;124;43m\"\u001b[39;49m\u001b[43m,\u001b[49m\n\u001b[1;32m     11\u001b[0m \u001b[43m    \u001b[49m\u001b[43mfill_color\u001b[49m\u001b[38;5;241;43m=\u001b[39;49m\u001b[38;5;124;43m\"\u001b[39;49m\u001b[38;5;124;43mYlGn\u001b[39;49m\u001b[38;5;124;43m\"\u001b[39;49m\u001b[43m,\u001b[49m\n\u001b[1;32m     12\u001b[0m \u001b[43m    \u001b[49m\u001b[43mfill_opacity\u001b[49m\u001b[38;5;241;43m=\u001b[39;49m\u001b[38;5;241;43m0.7\u001b[39;49m\u001b[43m,\u001b[49m\n\u001b[1;32m     13\u001b[0m \u001b[43m    \u001b[49m\u001b[43mline_opacity\u001b[49m\u001b[38;5;241;43m=\u001b[39;49m\u001b[38;5;241;43m0.2\u001b[39;49m\u001b[43m,\u001b[49m\n\u001b[1;32m     14\u001b[0m \u001b[43m    \u001b[49m\u001b[43mlegend_name\u001b[49m\u001b[38;5;241;43m=\u001b[39;49m\u001b[38;5;124;43m\"\u001b[39;49m\u001b[38;5;124;43mNearshoring industries\u001b[39;49m\u001b[38;5;124;43m\"\u001b[39;49m\u001b[43m,\u001b[49m\n\u001b[1;32m     15\u001b[0m \u001b[43m)\u001b[49m\u001b[38;5;241m.\u001b[39madd_to(m)\n\u001b[1;32m     17\u001b[0m folium\u001b[38;5;241m.\u001b[39mLayerControl()\u001b[38;5;241m.\u001b[39madd_to(m)\n\u001b[1;32m     19\u001b[0m display(m)\n",
      "File \u001b[0;32m~/anaconda3/envs/odc/lib/python3.10/site-packages/folium/features.py:1289\u001b[0m, in \u001b[0;36mChoropleth.__init__\u001b[0;34m(self, geo_data, data, columns, key_on, bins, fill_color, nan_fill_color, fill_opacity, nan_fill_opacity, line_color, line_weight, line_opacity, name, legend_name, overlay, control, show, topojson, smooth_factor, highlight, **kwargs)\u001b[0m\n\u001b[1;32m   1283\u001b[0m     \u001b[38;5;28mself\u001b[39m\u001b[38;5;241m.\u001b[39mgeojson \u001b[38;5;241m=\u001b[39m TopoJson(\n\u001b[1;32m   1284\u001b[0m         geo_data,\n\u001b[1;32m   1285\u001b[0m         topojson,\n\u001b[1;32m   1286\u001b[0m         style_function\u001b[38;5;241m=\u001b[39mstyle_function,\n\u001b[1;32m   1287\u001b[0m         smooth_factor\u001b[38;5;241m=\u001b[39msmooth_factor)\n\u001b[1;32m   1288\u001b[0m \u001b[38;5;28;01melse\u001b[39;00m:\n\u001b[0;32m-> 1289\u001b[0m     \u001b[38;5;28mself\u001b[39m\u001b[38;5;241m.\u001b[39mgeojson \u001b[38;5;241m=\u001b[39m \u001b[43mGeoJson\u001b[49m\u001b[43m(\u001b[49m\n\u001b[1;32m   1290\u001b[0m \u001b[43m        \u001b[49m\u001b[43mgeo_data\u001b[49m\u001b[43m,\u001b[49m\n\u001b[1;32m   1291\u001b[0m \u001b[43m        \u001b[49m\u001b[43mstyle_function\u001b[49m\u001b[38;5;241;43m=\u001b[39;49m\u001b[43mstyle_function\u001b[49m\u001b[43m,\u001b[49m\n\u001b[1;32m   1292\u001b[0m \u001b[43m        \u001b[49m\u001b[43msmooth_factor\u001b[49m\u001b[38;5;241;43m=\u001b[39;49m\u001b[43msmooth_factor\u001b[49m\u001b[43m,\u001b[49m\n\u001b[1;32m   1293\u001b[0m \u001b[43m        \u001b[49m\u001b[43mhighlight_function\u001b[49m\u001b[38;5;241;43m=\u001b[39;49m\u001b[43mhighlight_function\u001b[49m\u001b[43m \u001b[49m\u001b[38;5;28;43;01mif\u001b[39;49;00m\u001b[43m \u001b[49m\u001b[43mhighlight\u001b[49m\u001b[43m \u001b[49m\u001b[38;5;28;43;01melse\u001b[39;49;00m\u001b[43m \u001b[49m\u001b[38;5;28;43;01mNone\u001b[39;49;00m\u001b[43m)\u001b[49m\n\u001b[1;32m   1295\u001b[0m \u001b[38;5;28mself\u001b[39m\u001b[38;5;241m.\u001b[39madd_child(\u001b[38;5;28mself\u001b[39m\u001b[38;5;241m.\u001b[39mgeojson)\n\u001b[1;32m   1296\u001b[0m \u001b[38;5;28;01mif\u001b[39;00m \u001b[38;5;28mself\u001b[39m\u001b[38;5;241m.\u001b[39mcolor_scale:\n",
      "File \u001b[0;32m~/anaconda3/envs/odc/lib/python3.10/site-packages/folium/features.py:504\u001b[0m, in \u001b[0;36mGeoJson.__init__\u001b[0;34m(self, data, style_function, highlight_function, name, overlay, control, show, smooth_factor, tooltip, embed, popup, zoom_on_click, marker)\u001b[0m\n\u001b[1;32m    502\u001b[0m \u001b[38;5;28mself\u001b[39m\u001b[38;5;241m.\u001b[39mconvert_to_feature_collection()\n\u001b[1;32m    503\u001b[0m \u001b[38;5;28;01mif\u001b[39;00m \u001b[38;5;28mself\u001b[39m\u001b[38;5;241m.\u001b[39mstyle:\n\u001b[0;32m--> 504\u001b[0m     \u001b[38;5;28;43mself\u001b[39;49m\u001b[38;5;241;43m.\u001b[39;49m\u001b[43m_validate_function\u001b[49m\u001b[43m(\u001b[49m\u001b[43mstyle_function\u001b[49m\u001b[43m,\u001b[49m\u001b[43m \u001b[49m\u001b[38;5;124;43m'\u001b[39;49m\u001b[38;5;124;43mstyle_function\u001b[39;49m\u001b[38;5;124;43m'\u001b[39;49m\u001b[43m)\u001b[49m\n\u001b[1;32m    505\u001b[0m     \u001b[38;5;28mself\u001b[39m\u001b[38;5;241m.\u001b[39mstyle_function \u001b[38;5;241m=\u001b[39m style_function\n\u001b[1;32m    506\u001b[0m     \u001b[38;5;28mself\u001b[39m\u001b[38;5;241m.\u001b[39mstyle_map \u001b[38;5;241m=\u001b[39m {}\n",
      "File \u001b[0;32m~/anaconda3/envs/odc/lib/python3.10/site-packages/folium/features.py:569\u001b[0m, in \u001b[0;36mGeoJson._validate_function\u001b[0;34m(self, func, name)\u001b[0m\n\u001b[1;32m    564\u001b[0m \u001b[38;5;124;03m\"\"\"\u001b[39;00m\n\u001b[1;32m    565\u001b[0m \u001b[38;5;124;03mTests `self.style_function` and `self.highlight_function` to ensure\u001b[39;00m\n\u001b[1;32m    566\u001b[0m \u001b[38;5;124;03mthey are functions returning dictionaries.\u001b[39;00m\n\u001b[1;32m    567\u001b[0m \u001b[38;5;124;03m\"\"\"\u001b[39;00m\n\u001b[1;32m    568\u001b[0m test_feature \u001b[38;5;241m=\u001b[39m \u001b[38;5;28mself\u001b[39m\u001b[38;5;241m.\u001b[39mdata[\u001b[38;5;124m'\u001b[39m\u001b[38;5;124mfeatures\u001b[39m\u001b[38;5;124m'\u001b[39m][\u001b[38;5;241m0\u001b[39m]\n\u001b[0;32m--> 569\u001b[0m \u001b[38;5;28;01mif\u001b[39;00m \u001b[38;5;129;01mnot\u001b[39;00m callable(func) \u001b[38;5;129;01mor\u001b[39;00m \u001b[38;5;129;01mnot\u001b[39;00m \u001b[38;5;28misinstance\u001b[39m(\u001b[43mfunc\u001b[49m\u001b[43m(\u001b[49m\u001b[43mtest_feature\u001b[49m\u001b[43m)\u001b[49m, \u001b[38;5;28mdict\u001b[39m):\n\u001b[1;32m    570\u001b[0m     \u001b[38;5;28;01mraise\u001b[39;00m \u001b[38;5;167;01mValueError\u001b[39;00m(\u001b[38;5;124m'\u001b[39m\u001b[38;5;132;01m{}\u001b[39;00m\u001b[38;5;124m should be a function that accepts items from \u001b[39m\u001b[38;5;124m'\u001b[39m\n\u001b[1;32m    571\u001b[0m                      \u001b[38;5;124m'\u001b[39m\u001b[38;5;124mdata[\u001b[39m\u001b[38;5;130;01m\\'\u001b[39;00m\u001b[38;5;124mfeatures\u001b[39m\u001b[38;5;130;01m\\'\u001b[39;00m\u001b[38;5;124m] and returns a dictionary.\u001b[39m\u001b[38;5;124m'\u001b[39m\n\u001b[1;32m    572\u001b[0m                      \u001b[38;5;241m.\u001b[39mformat(name))\n",
      "File \u001b[0;32m~/anaconda3/envs/odc/lib/python3.10/site-packages/folium/features.py:1267\u001b[0m, in \u001b[0;36mChoropleth.__init__.<locals>.style_function\u001b[0;34m(x)\u001b[0m\n\u001b[1;32m   1266\u001b[0m \u001b[38;5;28;01mdef\u001b[39;00m \u001b[38;5;21mstyle_function\u001b[39m(x):\n\u001b[0;32m-> 1267\u001b[0m     color, opacity \u001b[38;5;241m=\u001b[39m \u001b[43mcolor_scale_fun\u001b[49m\u001b[43m(\u001b[49m\u001b[43mx\u001b[49m\u001b[43m)\u001b[49m\n\u001b[1;32m   1268\u001b[0m     \u001b[38;5;28;01mreturn\u001b[39;00m {\n\u001b[1;32m   1269\u001b[0m         \u001b[38;5;124m'\u001b[39m\u001b[38;5;124mweight\u001b[39m\u001b[38;5;124m'\u001b[39m: line_weight,\n\u001b[1;32m   1270\u001b[0m         \u001b[38;5;124m'\u001b[39m\u001b[38;5;124mopacity\u001b[39m\u001b[38;5;124m'\u001b[39m: line_opacity,\n\u001b[0;32m   (...)\u001b[0m\n\u001b[1;32m   1273\u001b[0m         \u001b[38;5;124m'\u001b[39m\u001b[38;5;124mfillColor\u001b[39m\u001b[38;5;124m'\u001b[39m: color\n\u001b[1;32m   1274\u001b[0m     }\n",
      "File \u001b[0;32m~/anaconda3/envs/odc/lib/python3.10/site-packages/folium/features.py:1250\u001b[0m, in \u001b[0;36mChoropleth.__init__.<locals>.color_scale_fun\u001b[0;34m(x)\u001b[0m\n\u001b[1;32m   1248\u001b[0m key_of_x \u001b[38;5;241m=\u001b[39m get_by_key(x, key_on)\n\u001b[1;32m   1249\u001b[0m \u001b[38;5;28;01mif\u001b[39;00m key_of_x \u001b[38;5;129;01mis\u001b[39;00m \u001b[38;5;28;01mNone\u001b[39;00m:\n\u001b[0;32m-> 1250\u001b[0m     \u001b[38;5;28;01mraise\u001b[39;00m \u001b[38;5;167;01mValueError\u001b[39;00m(\u001b[38;5;124m\"\u001b[39m\u001b[38;5;124mkey_on `\u001b[39m\u001b[38;5;132;01m{!r}\u001b[39;00m\u001b[38;5;124m` not found in GeoJSON.\u001b[39m\u001b[38;5;124m\"\u001b[39m\u001b[38;5;241m.\u001b[39mformat(key_on))\n\u001b[1;32m   1252\u001b[0m \u001b[38;5;28;01mif\u001b[39;00m key_of_x \u001b[38;5;129;01mnot\u001b[39;00m \u001b[38;5;129;01min\u001b[39;00m color_data\u001b[38;5;241m.\u001b[39mkeys():\n\u001b[1;32m   1253\u001b[0m     \u001b[38;5;28;01mreturn\u001b[39;00m nan_fill_color, nan_fill_opacity\n",
      "\u001b[0;31mValueError\u001b[0m: key_on `'hex_id_5'` not found in GeoJSON."
     ]
    }
   ],
   "source": [
    "m = folium.Map(tiles=\"cartodbpositron\")\n",
    "\n",
    "# folium.GeoJson(, name=\"DENUE Nearshoring\").add_to(m)\n",
    "\n",
    "folium.Choropleth(\n",
    "    geo_data=hex_denue_gdf,\n",
    "    name=\"choropleth\",\n",
    "    data=hex_denue_gdf,\n",
    "    columns=[\"hex_id_5\",\"nearshoring_industry\"],\n",
    "    key_on=\"hex_id_5\",\n",
    "    fill_color=\"YlGn\",\n",
    "    fill_opacity=0.7,\n",
    "    line_opacity=0.2,\n",
    "    legend_name=\"Nearshoring industries\",\n",
    ").add_to(m)\n",
    "\n",
    "folium.LayerControl().add_to(m)\n",
    "\n",
    "display(m)"
   ]
  },
  {
   "cell_type": "code",
   "execution_count": 48,
   "id": "586064ff-456f-44be-a41c-779ffddd550b",
   "metadata": {},
   "outputs": [],
   "source": [
    "hex_denue_gdf.to_file('../../data/processed/nearshoring_res7.geojson')"
   ]
  },
  {
   "cell_type": "code",
   "execution_count": 20,
   "id": "6d0879a0-2036-4ae1-960e-bc578f697f20",
   "metadata": {},
   "outputs": [
    {
     "data": {
      "text/html": [
       "<div style=\"width:100%;\"><div style=\"position:relative;width:100%;height:0;padding-bottom:60%;\"><span style=\"color:#565656\">Make this Notebook Trusted to load map: File -> Trust Notebook</span><iframe srcdoc=\"&lt;!DOCTYPE html&gt;\n",
       "&lt;head&gt;    \n",
       "    &lt;meta http-equiv=&quot;content-type&quot; content=&quot;text/html; charset=UTF-8&quot; /&gt;\n",
       "    \n",
       "        &lt;script&gt;\n",
       "            L_NO_TOUCH = false;\n",
       "            L_DISABLE_3D = false;\n",
       "        &lt;/script&gt;\n",
       "    \n",
       "    &lt;style&gt;html, body {width: 100%;height: 100%;margin: 0;padding: 0;}&lt;/style&gt;\n",
       "    &lt;style&gt;#map {position:absolute;top:0;bottom:0;right:0;left:0;}&lt;/style&gt;\n",
       "    &lt;script src=&quot;https://cdn.jsdelivr.net/npm/leaflet@1.6.0/dist/leaflet.js&quot;&gt;&lt;/script&gt;\n",
       "    &lt;script src=&quot;https://code.jquery.com/jquery-1.12.4.min.js&quot;&gt;&lt;/script&gt;\n",
       "    &lt;script src=&quot;https://maxcdn.bootstrapcdn.com/bootstrap/3.2.0/js/bootstrap.min.js&quot;&gt;&lt;/script&gt;\n",
       "    &lt;script src=&quot;https://cdnjs.cloudflare.com/ajax/libs/Leaflet.awesome-markers/2.0.2/leaflet.awesome-markers.js&quot;&gt;&lt;/script&gt;\n",
       "    &lt;link rel=&quot;stylesheet&quot; href=&quot;https://cdn.jsdelivr.net/npm/leaflet@1.6.0/dist/leaflet.css&quot;/&gt;\n",
       "    &lt;link rel=&quot;stylesheet&quot; href=&quot;https://maxcdn.bootstrapcdn.com/bootstrap/3.2.0/css/bootstrap.min.css&quot;/&gt;\n",
       "    &lt;link rel=&quot;stylesheet&quot; href=&quot;https://maxcdn.bootstrapcdn.com/bootstrap/3.2.0/css/bootstrap-theme.min.css&quot;/&gt;\n",
       "    &lt;link rel=&quot;stylesheet&quot; href=&quot;https://maxcdn.bootstrapcdn.com/font-awesome/4.6.3/css/font-awesome.min.css&quot;/&gt;\n",
       "    &lt;link rel=&quot;stylesheet&quot; href=&quot;https://cdnjs.cloudflare.com/ajax/libs/Leaflet.awesome-markers/2.0.2/leaflet.awesome-markers.css&quot;/&gt;\n",
       "    &lt;link rel=&quot;stylesheet&quot; href=&quot;https://cdn.jsdelivr.net/gh/python-visualization/folium/folium/templates/leaflet.awesome.rotate.min.css&quot;/&gt;\n",
       "    \n",
       "            &lt;meta name=&quot;viewport&quot; content=&quot;width=device-width,\n",
       "                initial-scale=1.0, maximum-scale=1.0, user-scalable=no&quot; /&gt;\n",
       "            &lt;style&gt;\n",
       "                #map_2fb78be8d7be50abb0872a9def1439ee {\n",
       "                    position: relative;\n",
       "                    width: 100.0%;\n",
       "                    height: 100.0%;\n",
       "                    left: 0.0%;\n",
       "                    top: 0.0%;\n",
       "                }\n",
       "            &lt;/style&gt;\n",
       "        \n",
       "&lt;/head&gt;\n",
       "&lt;body&gt;    \n",
       "    \n",
       "            &lt;div class=&quot;folium-map&quot; id=&quot;map_2fb78be8d7be50abb0872a9def1439ee&quot; &gt;&lt;/div&gt;\n",
       "        \n",
       "&lt;/body&gt;\n",
       "&lt;script&gt;    \n",
       "    \n",
       "            var map_2fb78be8d7be50abb0872a9def1439ee = L.map(\n",
       "                &quot;map_2fb78be8d7be50abb0872a9def1439ee&quot;,\n",
       "                {\n",
       "                    center: [45.5236, -122.675],\n",
       "                    crs: L.CRS.EPSG3857,\n",
       "                    zoom: 10,\n",
       "                    zoomControl: true,\n",
       "                    preferCanvas: false,\n",
       "                }\n",
       "            );\n",
       "\n",
       "            \n",
       "\n",
       "        \n",
       "    \n",
       "            var tile_layer_cc26f5def390e86a7f833a5881821309 = L.tileLayer(\n",
       "                &quot;https://{s}.tile.openstreetmap.org/{z}/{x}/{y}.png&quot;,\n",
       "                {&quot;attribution&quot;: &quot;Data by \\u0026copy; \\u003ca href=\\&quot;http://openstreetmap.org\\&quot;\\u003eOpenStreetMap\\u003c/a\\u003e, under \\u003ca href=\\&quot;http://www.openstreetmap.org/copyright\\&quot;\\u003eODbL\\u003c/a\\u003e.&quot;, &quot;detectRetina&quot;: false, &quot;maxNativeZoom&quot;: 18, &quot;maxZoom&quot;: 18, &quot;minZoom&quot;: 0, &quot;noWrap&quot;: false, &quot;opacity&quot;: 1, &quot;subdomains&quot;: &quot;abc&quot;, &quot;tms&quot;: false}\n",
       "            ).addTo(map_2fb78be8d7be50abb0872a9def1439ee);\n",
       "        \n",
       "&lt;/script&gt;\" style=\"position:absolute;width:100%;height:100%;left:0;top:0;border:none !important;\" allowfullscreen webkitallowfullscreen mozallowfullscreen></iframe></div></div>"
      ],
      "text/plain": [
       "<folium.folium.Map at 0x7f8760e81ea0>"
      ]
     },
     "metadata": {},
     "output_type": "display_data"
    }
   ],
   "source": [
    "from IPython.display import display\n",
    "m = folium.Map(location=(45.5236, -122.6750))\n"
   ]
  },
  {
   "cell_type": "code",
   "execution_count": null,
   "id": "47f1159b-70ca-4e86-ba6d-1042469b092c",
   "metadata": {},
   "outputs": [],
   "source": []
  }
 ],
 "metadata": {
  "kernelspec": {
   "display_name": "Python 3 (ipykernel)",
   "language": "python",
   "name": "python3"
  },
  "language_info": {
   "codemirror_mode": {
    "name": "ipython",
    "version": 3
   },
   "file_extension": ".py",
   "mimetype": "text/x-python",
   "name": "python",
   "nbconvert_exporter": "python",
   "pygments_lexer": "ipython3",
   "version": "3.10.4"
  }
 },
 "nbformat": 4,
 "nbformat_minor": 5
}
