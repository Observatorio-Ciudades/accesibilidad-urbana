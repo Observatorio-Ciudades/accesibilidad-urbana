{
 "cells": [
  {
   "cell_type": "markdown",
   "id": "43cfddd5-60bb-4269-882d-3a1c82e0daf8",
   "metadata": {},
   "source": [
    "# Hexagon grid by city"
   ]
  },
  {
   "cell_type": "markdown",
   "id": "ef3afabd-c00d-4be0-97ae-1aee7a9d110d",
   "metadata": {},
   "source": [
    "Create an H3 hexagon grid by metropolitan area at resolutions 8, 9, 10 and 11, identifying urban and rural areas."
   ]
  },
  {
   "cell_type": "markdown",
   "id": "8d5adb23-25d1-416e-ad41-af46596863a9",
   "metadata": {},
   "source": [
    "## Import libraries"
   ]
  },
  {
   "cell_type": "code",
   "execution_count": 1,
   "id": "ae2ed074-5a33-4c4e-8909-0c5ca75a8b1d",
   "metadata": {},
   "outputs": [
    {
     "name": "stderr",
     "output_type": "stream",
     "text": [
      "/home/edgaregurrola/anaconda3/envs/odc/lib/python3.10/site-packages/geopandas/_compat.py:123: UserWarning: The Shapely GEOS version (3.10.3-CAPI-1.16.1) is incompatible with the GEOS version PyGEOS was compiled with (3.10.1-CAPI-1.16.0). Conversions between both will be slow.\n",
      "  warnings.warn(\n",
      "/home/edgaregurrola/.local/lib/python3.10/site-packages/requests/__init__.py:109: RequestsDependencyWarning: urllib3 (1.26.9) or chardet (5.1.0)/charset_normalizer (2.0.12) doesn't match a supported version!\n",
      "  warnings.warn(\n"
     ]
    },
    {
     "name": "stdout",
     "output_type": "stream",
     "text": [
      "2023-11-07 17:18:01 Configured OSMnx 1.1.2\n",
      "2023-11-07 17:18:01 HTTP response caching is on\n"
     ]
    }
   ],
   "source": [
    "import os\n",
    "import sys\n",
    "\n",
    "import geopandas as gpd\n",
    "import pandas as pd\n",
    "import numpy as np\n",
    "\n",
    "import matplotlib.pyplot as plt\n",
    "import seaborn as sns\n",
    "\n",
    "module_path = os.path.abspath(os.path.join('../../'))\n",
    "if module_path not in sys.path:\n",
    "    sys.path.append(module_path)\n",
    "    import aup"
   ]
  },
  {
   "cell_type": "markdown",
   "id": "b5448418-f759-48db-ba75-1da5d4a61b35",
   "metadata": {},
   "source": [
    "## Download data"
   ]
  },
  {
   "cell_type": "markdown",
   "id": "9c65ba17-d9df-4cf5-89ab-863fe67107d2",
   "metadata": {},
   "source": [
    "### Donwloand cities names for analysis"
   ]
  },
  {
   "cell_type": "code",
   "execution_count": 2,
   "id": "1574e940-8525-48de-b282-e1ae7d00fb10",
   "metadata": {},
   "outputs": [
    {
     "name": "stdout",
     "output_type": "stream",
     "text": [
      "(71, 1)\n"
     ]
    },
    {
     "data": {
      "text/html": [
       "<div>\n",
       "<style scoped>\n",
       "    .dataframe tbody tr th:only-of-type {\n",
       "        vertical-align: middle;\n",
       "    }\n",
       "\n",
       "    .dataframe tbody tr th {\n",
       "        vertical-align: top;\n",
       "    }\n",
       "\n",
       "    .dataframe thead th {\n",
       "        text-align: right;\n",
       "    }\n",
       "</style>\n",
       "<table border=\"1\" class=\"dataframe\">\n",
       "  <thead>\n",
       "    <tr style=\"text-align: right;\">\n",
       "      <th></th>\n",
       "      <th>city</th>\n",
       "    </tr>\n",
       "  </thead>\n",
       "  <tbody>\n",
       "    <tr>\n",
       "      <th>0</th>\n",
       "      <td>Villahermosa</td>\n",
       "    </tr>\n",
       "    <tr>\n",
       "      <th>1</th>\n",
       "      <td>Matamoros</td>\n",
       "    </tr>\n",
       "    <tr>\n",
       "      <th>2</th>\n",
       "      <td>Chetumal</td>\n",
       "    </tr>\n",
       "    <tr>\n",
       "      <th>3</th>\n",
       "      <td>Cordoba</td>\n",
       "    </tr>\n",
       "  </tbody>\n",
       "</table>\n",
       "</div>"
      ],
      "text/plain": [
       "           city\n",
       "0  Villahermosa\n",
       "1     Matamoros\n",
       "2      Chetumal\n",
       "3       Cordoba"
      ]
     },
     "execution_count": 2,
     "metadata": {},
     "output_type": "execute_result"
    }
   ],
   "source": [
    "schema = 'metropolis'\n",
    "table = 'metro_gdf_2020'\n",
    "\n",
    "query = f\"SELECT DISTINCT city from {schema}.{table}\"\n",
    "\n",
    "city_names = aup.df_from_query(query)\n",
    "print(city_names.shape)\n",
    "city_names.head(4)"
   ]
  },
  {
   "cell_type": "markdown",
   "id": "da0a1780-dcff-465d-9553-a03c5ae3b03a",
   "metadata": {},
   "source": [
    "## Download mun_gdf"
   ]
  },
  {
   "cell_type": "code",
   "execution_count": 3,
   "id": "00e7383f-38aa-4b8f-8458-a0e582728b52",
   "metadata": {},
   "outputs": [
    {
     "name": "stdout",
     "output_type": "stream",
     "text": [
      "(7, 6)\n"
     ]
    },
    {
     "data": {
      "text/html": [
       "<div>\n",
       "<style scoped>\n",
       "    .dataframe tbody tr th:only-of-type {\n",
       "        vertical-align: middle;\n",
       "    }\n",
       "\n",
       "    .dataframe tbody tr th {\n",
       "        vertical-align: top;\n",
       "    }\n",
       "\n",
       "    .dataframe thead th {\n",
       "        text-align: right;\n",
       "    }\n",
       "</style>\n",
       "<table border=\"1\" class=\"dataframe\">\n",
       "  <thead>\n",
       "    <tr style=\"text-align: right;\">\n",
       "      <th></th>\n",
       "      <th>CVEGEO</th>\n",
       "      <th>CVE_ENT</th>\n",
       "      <th>CVE_MUN</th>\n",
       "      <th>NOMGEO</th>\n",
       "      <th>geometry</th>\n",
       "      <th>city</th>\n",
       "    </tr>\n",
       "  </thead>\n",
       "  <tbody>\n",
       "    <tr>\n",
       "      <th>0</th>\n",
       "      <td>14039</td>\n",
       "      <td>14</td>\n",
       "      <td>039</td>\n",
       "      <td>Guadalajara</td>\n",
       "      <td>POLYGON ((-103.31164 20.75098, -103.31014 20.7...</td>\n",
       "      <td>Guadalajara</td>\n",
       "    </tr>\n",
       "    <tr>\n",
       "      <th>1</th>\n",
       "      <td>14051</td>\n",
       "      <td>14</td>\n",
       "      <td>051</td>\n",
       "      <td>Juanacatlán</td>\n",
       "      <td>POLYGON ((-103.13701 20.57179, -103.13028 20.5...</td>\n",
       "      <td>Guadalajara</td>\n",
       "    </tr>\n",
       "  </tbody>\n",
       "</table>\n",
       "</div>"
      ],
      "text/plain": [
       "  CVEGEO CVE_ENT CVE_MUN       NOMGEO  \\\n",
       "0  14039      14     039  Guadalajara   \n",
       "1  14051      14     051  Juanacatlán   \n",
       "\n",
       "                                            geometry         city  \n",
       "0  POLYGON ((-103.31164 20.75098, -103.31014 20.7...  Guadalajara  \n",
       "1  POLYGON ((-103.13701 20.57179, -103.13028 20.5...  Guadalajara  "
      ]
     },
     "execution_count": 3,
     "metadata": {},
     "output_type": "execute_result"
    }
   ],
   "source": [
    "schema = 'metropolis'\n",
    "table = 'metro_gdf_2020'\n",
    "\n",
    "city = 'Guadalajara'\n",
    "\n",
    "query = f\"SELECT * FROM {schema}.{table} WHERE \\\"city\\\" = \\'{city}\\'\"\n",
    "\n",
    "mun_gdf = aup.gdf_from_query(query)\n",
    "print(mun_gdf.shape)\n",
    "mun_gdf.head(2)"
   ]
  },
  {
   "cell_type": "markdown",
   "id": "e68a5ebe-c8a6-4a20-92bf-26e05ba79236",
   "metadata": {},
   "source": [
    "### Download AGEB data"
   ]
  },
  {
   "cell_type": "code",
   "execution_count": 4,
   "id": "a9e72776-506b-4abb-9cb5-79d76900ad47",
   "metadata": {},
   "outputs": [
    {
     "name": "stdout",
     "output_type": "stream",
     "text": [
      "(1954, 3)\n"
     ]
    },
    {
     "data": {
      "text/html": [
       "<div>\n",
       "<style scoped>\n",
       "    .dataframe tbody tr th:only-of-type {\n",
       "        vertical-align: middle;\n",
       "    }\n",
       "\n",
       "    .dataframe tbody tr th {\n",
       "        vertical-align: top;\n",
       "    }\n",
       "\n",
       "    .dataframe thead th {\n",
       "        text-align: right;\n",
       "    }\n",
       "</style>\n",
       "<table border=\"1\" class=\"dataframe\">\n",
       "  <thead>\n",
       "    <tr style=\"text-align: right;\">\n",
       "      <th></th>\n",
       "      <th>cve_geo</th>\n",
       "      <th>pobtot</th>\n",
       "      <th>geometry</th>\n",
       "    </tr>\n",
       "  </thead>\n",
       "  <tbody>\n",
       "    <tr>\n",
       "      <th>0</th>\n",
       "      <td>1403900012696</td>\n",
       "      <td>6406</td>\n",
       "      <td>POLYGON ((-103.37645 20.63875, -103.37680 20.6...</td>\n",
       "    </tr>\n",
       "    <tr>\n",
       "      <th>1</th>\n",
       "      <td>1403900014207</td>\n",
       "      <td>4817</td>\n",
       "      <td>POLYGON ((-103.27836 20.69867, -103.27858 20.6...</td>\n",
       "    </tr>\n",
       "    <tr>\n",
       "      <th>2</th>\n",
       "      <td>1403900013020</td>\n",
       "      <td>4278</td>\n",
       "      <td>POLYGON ((-103.31307 20.72129, -103.31271 20.7...</td>\n",
       "    </tr>\n",
       "    <tr>\n",
       "      <th>3</th>\n",
       "      <td>1403900014194</td>\n",
       "      <td>3732</td>\n",
       "      <td>POLYGON ((-103.27806 20.69903, -103.27947 20.6...</td>\n",
       "    </tr>\n",
       "  </tbody>\n",
       "</table>\n",
       "</div>"
      ],
      "text/plain": [
       "         cve_geo  pobtot                                           geometry\n",
       "0  1403900012696    6406  POLYGON ((-103.37645 20.63875, -103.37680 20.6...\n",
       "1  1403900014207    4817  POLYGON ((-103.27836 20.69867, -103.27858 20.6...\n",
       "2  1403900013020    4278  POLYGON ((-103.31307 20.72129, -103.31271 20.7...\n",
       "3  1403900014194    3732  POLYGON ((-103.27806 20.69903, -103.27947 20.6..."
      ]
     },
     "execution_count": 4,
     "metadata": {},
     "output_type": "execute_result"
    }
   ],
   "source": [
    "schema = 'censoageb'\n",
    "table = 'censoageb_2020'\n",
    "\n",
    "ageb_gdf = gpd.GeoDataFrame()\n",
    "\n",
    "for cvegeo in mun_gdf.CVEGEO.unique():\n",
    "    query = f\"SELECT cve_geo,pobtot,geometry FROM {schema}.{table} WHERE \\\"cve_geo\\\" LIKE \\'{cvegeo}%%\\'\"\n",
    "    ageb_gdf = pd.concat([ageb_gdf, aup.gdf_from_query(query)],\n",
    "                        ignore_index = True, axis = 0)\n",
    "print(ageb_gdf.shape)\n",
    "ageb_gdf.head(4)"
   ]
  },
  {
   "cell_type": "markdown",
   "id": "ad9e7500-33b9-4fb6-ba7b-6c843526415f",
   "metadata": {},
   "source": [
    "## Create hexgrid"
   ]
  },
  {
   "cell_type": "code",
   "execution_count": 5,
   "id": "8a43fe77-c41d-44df-97b5-9a214b793bda",
   "metadata": {},
   "outputs": [
    {
     "name": "stdout",
     "output_type": "stream",
     "text": [
      "(2857, 2)\n"
     ]
    },
    {
     "data": {
      "text/html": [
       "<div>\n",
       "<style scoped>\n",
       "    .dataframe tbody tr th:only-of-type {\n",
       "        vertical-align: middle;\n",
       "    }\n",
       "\n",
       "    .dataframe tbody tr th {\n",
       "        vertical-align: top;\n",
       "    }\n",
       "\n",
       "    .dataframe thead th {\n",
       "        text-align: right;\n",
       "    }\n",
       "</style>\n",
       "<table border=\"1\" class=\"dataframe\">\n",
       "  <thead>\n",
       "    <tr style=\"text-align: right;\">\n",
       "      <th></th>\n",
       "      <th>hex_id_8</th>\n",
       "      <th>geometry</th>\n",
       "    </tr>\n",
       "  </thead>\n",
       "  <tbody>\n",
       "    <tr>\n",
       "      <th>0</th>\n",
       "      <td>88498c9697fffff</td>\n",
       "      <td>POLYGON ((-103.39405 20.69854, -103.38951 20.7...</td>\n",
       "    </tr>\n",
       "    <tr>\n",
       "      <th>1</th>\n",
       "      <td>88498c95d3fffff</td>\n",
       "      <td>POLYGON ((-103.31071 20.73802, -103.30617 20.7...</td>\n",
       "    </tr>\n",
       "    <tr>\n",
       "      <th>2</th>\n",
       "      <td>88498c9463fffff</td>\n",
       "      <td>POLYGON ((-103.29464 20.67659, -103.29010 20.6...</td>\n",
       "    </tr>\n",
       "    <tr>\n",
       "      <th>3</th>\n",
       "      <td>88498c96e5fffff</td>\n",
       "      <td>POLYGON ((-103.34671 20.66373, -103.34218 20.6...</td>\n",
       "    </tr>\n",
       "  </tbody>\n",
       "</table>\n",
       "</div>"
      ],
      "text/plain": [
       "          hex_id_8                                           geometry\n",
       "0  88498c9697fffff  POLYGON ((-103.39405 20.69854, -103.38951 20.7...\n",
       "1  88498c95d3fffff  POLYGON ((-103.31071 20.73802, -103.30617 20.7...\n",
       "2  88498c9463fffff  POLYGON ((-103.29464 20.67659, -103.29010 20.6...\n",
       "3  88498c96e5fffff  POLYGON ((-103.34671 20.66373, -103.34218 20.6..."
      ]
     },
     "execution_count": 5,
     "metadata": {},
     "output_type": "execute_result"
    }
   ],
   "source": [
    "hex_gdf = aup.create_hexgrid(mun_gdf, 8)\n",
    "print(hex_gdf.shape)\n",
    "hex_gdf.head(4)"
   ]
  },
  {
   "cell_type": "code",
   "execution_count": 6,
   "id": "f2ebb5b5-ccc8-4cd6-9226-d8c76c15b683",
   "metadata": {},
   "outputs": [
    {
     "data": {
      "text/plain": [
       "<AxesSubplot: >"
      ]
     },
     "execution_count": 6,
     "metadata": {},
     "output_type": "execute_result"
    },
    {
     "data": {
      "image/png": "[encoded data removed]",
      "text/plain": [
       "<Figure size 432x288 with 1 Axes>"
      ]
     },
     "metadata": {
      "needs_background": "light"
     },
     "output_type": "display_data"
    }
   ],
   "source": [
    "hex_gdf.plot()"
   ]
  },
  {
   "cell_type": "markdown",
   "id": "c61b364d-aaa3-4c8e-8bf1-356aa0515dbf",
   "metadata": {},
   "source": [
    "## Spatial join"
   ]
  },
  {
   "cell_type": "markdown",
   "id": "3c077b65-0ad9-4e31-bf80-f5819fcd3a11",
   "metadata": {},
   "source": [
    "### Centroid to municipality"
   ]
  },
  {
   "cell_type": "code",
   "execution_count": 7,
   "id": "77f441a8-ad48-4e6a-a8de-46a49ba20cf7",
   "metadata": {},
   "outputs": [
    {
     "name": "stdout",
     "output_type": "stream",
     "text": [
      "(2857, 2)\n"
     ]
    },
    {
     "data": {
      "text/html": [
       "<div>\n",
       "<style scoped>\n",
       "    .dataframe tbody tr th:only-of-type {\n",
       "        vertical-align: middle;\n",
       "    }\n",
       "\n",
       "    .dataframe tbody tr th {\n",
       "        vertical-align: top;\n",
       "    }\n",
       "\n",
       "    .dataframe thead th {\n",
       "        text-align: right;\n",
       "    }\n",
       "</style>\n",
       "<table border=\"1\" class=\"dataframe\">\n",
       "  <thead>\n",
       "    <tr style=\"text-align: right;\">\n",
       "      <th></th>\n",
       "      <th>geometry</th>\n",
       "      <th>hex_id_8</th>\n",
       "    </tr>\n",
       "  </thead>\n",
       "  <tbody>\n",
       "    <tr>\n",
       "      <th>0</th>\n",
       "      <td>POINT (-103.39459 20.70373)</td>\n",
       "      <td>88498c9697fffff</td>\n",
       "    </tr>\n",
       "    <tr>\n",
       "      <th>1</th>\n",
       "      <td>POINT (-103.31125 20.74321)</td>\n",
       "      <td>88498c95d3fffff</td>\n",
       "    </tr>\n",
       "  </tbody>\n",
       "</table>\n",
       "</div>"
      ],
      "text/plain": [
       "                      geometry         hex_id_8\n",
       "0  POINT (-103.39459 20.70373)  88498c9697fffff\n",
       "1  POINT (-103.31125 20.74321)  88498c95d3fffff"
      ]
     },
     "execution_count": 7,
     "metadata": {},
     "output_type": "execute_result"
    }
   ],
   "source": [
    "hex_cnt = gpd.GeoDataFrame(geometry=hex_gdf.representative_point(), crs=\"EPSG:4326\")\n",
    "hex_cnt = hex_cnt.merge(hex_gdf[['hex_id_8']],  left_index=True, right_index=True)\n",
    "print(hex_cnt.shape)\n",
    "hex_cnt.head(2)"
   ]
  },
  {
   "cell_type": "markdown",
   "id": "018fed74-1043-43cb-9f5d-85877fcfc911",
   "metadata": {},
   "source": [
    "Test merge"
   ]
  },
  {
   "cell_type": "code",
   "execution_count": 8,
   "id": "06d9e587-99d7-4d86-8968-3973020025f8",
   "metadata": {},
   "outputs": [
    {
     "data": {
      "text/plain": [
       "<AxesSubplot: >"
      ]
     },
     "execution_count": 8,
     "metadata": {},
     "output_type": "execute_result"
    },
    {
     "data": {
      "image/png": "[encoded data removed]",
      "text/plain": [
       "<Figure size 360x360 with 1 Axes>"
      ]
     },
     "metadata": {
      "needs_background": "light"
     },
     "output_type": "display_data"
    }
   ],
   "source": [
    "fig,ax = plt.subplots(figsize=(5,5))\n",
    "hex_gdf.loc[hex_gdf.hex_id_8=='8849ab5961fffff'].plot(ax=ax)\n",
    "hex_cnt.loc[hex_cnt.hex_id_8=='8849ab5961fffff'].plot(color='black',ax=ax)\n"
   ]
  },
  {
   "cell_type": "markdown",
   "id": "b9f53ef4-d391-4d55-a7b3-f3a06c2e02cd",
   "metadata": {},
   "source": [
    "Intersection"
   ]
  },
  {
   "cell_type": "code",
   "execution_count": 9,
   "id": "45b8dcdc-0145-4da4-8d5c-8dbbc3771214",
   "metadata": {},
   "outputs": [
    {
     "name": "stdout",
     "output_type": "stream",
     "text": [
      "(2857, 7)\n"
     ]
    },
    {
     "data": {
      "text/html": [
       "<div>\n",
       "<style scoped>\n",
       "    .dataframe tbody tr th:only-of-type {\n",
       "        vertical-align: middle;\n",
       "    }\n",
       "\n",
       "    .dataframe tbody tr th {\n",
       "        vertical-align: top;\n",
       "    }\n",
       "\n",
       "    .dataframe thead th {\n",
       "        text-align: right;\n",
       "    }\n",
       "</style>\n",
       "<table border=\"1\" class=\"dataframe\">\n",
       "  <thead>\n",
       "    <tr style=\"text-align: right;\">\n",
       "      <th></th>\n",
       "      <th>geometry</th>\n",
       "      <th>hex_id_8</th>\n",
       "      <th>CVEGEO</th>\n",
       "      <th>CVE_ENT</th>\n",
       "      <th>CVE_MUN</th>\n",
       "      <th>NOMGEO</th>\n",
       "      <th>city</th>\n",
       "    </tr>\n",
       "  </thead>\n",
       "  <tbody>\n",
       "    <tr>\n",
       "      <th>0</th>\n",
       "      <td>POINT (-103.39459 20.70373)</td>\n",
       "      <td>88498c9697fffff</td>\n",
       "      <td>14039</td>\n",
       "      <td>14</td>\n",
       "      <td>039</td>\n",
       "      <td>Guadalajara</td>\n",
       "      <td>Guadalajara</td>\n",
       "    </tr>\n",
       "    <tr>\n",
       "      <th>1</th>\n",
       "      <td>POINT (-103.31125 20.74321)</td>\n",
       "      <td>88498c95d3fffff</td>\n",
       "      <td>14039</td>\n",
       "      <td>14</td>\n",
       "      <td>039</td>\n",
       "      <td>Guadalajara</td>\n",
       "      <td>Guadalajara</td>\n",
       "    </tr>\n",
       "    <tr>\n",
       "      <th>2</th>\n",
       "      <td>POINT (-103.29517 20.68178)</td>\n",
       "      <td>88498c9463fffff</td>\n",
       "      <td>14039</td>\n",
       "      <td>14</td>\n",
       "      <td>039</td>\n",
       "      <td>Guadalajara</td>\n",
       "      <td>Guadalajara</td>\n",
       "    </tr>\n",
       "    <tr>\n",
       "      <th>3</th>\n",
       "      <td>POINT (-103.34725 20.66892)</td>\n",
       "      <td>88498c96e5fffff</td>\n",
       "      <td>14039</td>\n",
       "      <td>14</td>\n",
       "      <td>039</td>\n",
       "      <td>Guadalajara</td>\n",
       "      <td>Guadalajara</td>\n",
       "    </tr>\n",
       "  </tbody>\n",
       "</table>\n",
       "</div>"
      ],
      "text/plain": [
       "                      geometry         hex_id_8 CVEGEO CVE_ENT CVE_MUN  \\\n",
       "0  POINT (-103.39459 20.70373)  88498c9697fffff  14039      14     039   \n",
       "1  POINT (-103.31125 20.74321)  88498c95d3fffff  14039      14     039   \n",
       "2  POINT (-103.29517 20.68178)  88498c9463fffff  14039      14     039   \n",
       "3  POINT (-103.34725 20.66892)  88498c96e5fffff  14039      14     039   \n",
       "\n",
       "        NOMGEO         city  \n",
       "0  Guadalajara  Guadalajara  \n",
       "1  Guadalajara  Guadalajara  \n",
       "2  Guadalajara  Guadalajara  \n",
       "3  Guadalajara  Guadalajara  "
      ]
     },
     "execution_count": 9,
     "metadata": {},
     "output_type": "execute_result"
    }
   ],
   "source": [
    "cnt_join = hex_cnt.sjoin(mun_gdf).drop(columns='index_right')\n",
    "print(cnt_join.shape)\n",
    "cnt_join.head(4)"
   ]
  },
  {
   "cell_type": "markdown",
   "id": "88aef6da-9ec1-4a0d-8fb9-b759c3d5f594",
   "metadata": {},
   "source": [
    "Centroid to polygon join"
   ]
  },
  {
   "cell_type": "code",
   "execution_count": 10,
   "id": "e5e6501f-d290-4fc1-9b13-988ea65507dd",
   "metadata": {},
   "outputs": [
    {
     "name": "stdout",
     "output_type": "stream",
     "text": [
      "(2857, 5)\n"
     ]
    },
    {
     "data": {
      "text/html": [
       "<div>\n",
       "<style scoped>\n",
       "    .dataframe tbody tr th:only-of-type {\n",
       "        vertical-align: middle;\n",
       "    }\n",
       "\n",
       "    .dataframe tbody tr th {\n",
       "        vertical-align: top;\n",
       "    }\n",
       "\n",
       "    .dataframe thead th {\n",
       "        text-align: right;\n",
       "    }\n",
       "</style>\n",
       "<table border=\"1\" class=\"dataframe\">\n",
       "  <thead>\n",
       "    <tr style=\"text-align: right;\">\n",
       "      <th></th>\n",
       "      <th>hex_id_8</th>\n",
       "      <th>geometry</th>\n",
       "      <th>CVEGEO</th>\n",
       "      <th>NOMGEO</th>\n",
       "      <th>city</th>\n",
       "    </tr>\n",
       "  </thead>\n",
       "  <tbody>\n",
       "    <tr>\n",
       "      <th>0</th>\n",
       "      <td>88498c9697fffff</td>\n",
       "      <td>POLYGON ((-103.39405 20.69854, -103.38951 20.7...</td>\n",
       "      <td>14039</td>\n",
       "      <td>Guadalajara</td>\n",
       "      <td>Guadalajara</td>\n",
       "    </tr>\n",
       "    <tr>\n",
       "      <th>1</th>\n",
       "      <td>88498c95d3fffff</td>\n",
       "      <td>POLYGON ((-103.31071 20.73802, -103.30617 20.7...</td>\n",
       "      <td>14039</td>\n",
       "      <td>Guadalajara</td>\n",
       "      <td>Guadalajara</td>\n",
       "    </tr>\n",
       "    <tr>\n",
       "      <th>2</th>\n",
       "      <td>88498c9463fffff</td>\n",
       "      <td>POLYGON ((-103.29464 20.67659, -103.29010 20.6...</td>\n",
       "      <td>14039</td>\n",
       "      <td>Guadalajara</td>\n",
       "      <td>Guadalajara</td>\n",
       "    </tr>\n",
       "    <tr>\n",
       "      <th>3</th>\n",
       "      <td>88498c96e5fffff</td>\n",
       "      <td>POLYGON ((-103.34671 20.66373, -103.34218 20.6...</td>\n",
       "      <td>14039</td>\n",
       "      <td>Guadalajara</td>\n",
       "      <td>Guadalajara</td>\n",
       "    </tr>\n",
       "  </tbody>\n",
       "</table>\n",
       "</div>"
      ],
      "text/plain": [
       "          hex_id_8                                           geometry CVEGEO  \\\n",
       "0  88498c9697fffff  POLYGON ((-103.39405 20.69854, -103.38951 20.7...  14039   \n",
       "1  88498c95d3fffff  POLYGON ((-103.31071 20.73802, -103.30617 20.7...  14039   \n",
       "2  88498c9463fffff  POLYGON ((-103.29464 20.67659, -103.29010 20.6...  14039   \n",
       "3  88498c96e5fffff  POLYGON ((-103.34671 20.66373, -103.34218 20.6...  14039   \n",
       "\n",
       "        NOMGEO         city  \n",
       "0  Guadalajara  Guadalajara  \n",
       "1  Guadalajara  Guadalajara  \n",
       "2  Guadalajara  Guadalajara  \n",
       "3  Guadalajara  Guadalajara  "
      ]
     },
     "execution_count": 10,
     "metadata": {},
     "output_type": "execute_result"
    }
   ],
   "source": [
    "hex_merge = hex_gdf.merge(cnt_join[['hex_id_8','CVEGEO','NOMGEO','city']],\n",
    "             on='hex_id_8')\n",
    "print(hex_merge.shape)\n",
    "hex_merge.head(4)"
   ]
  },
  {
   "cell_type": "markdown",
   "id": "082516bb-a80c-457d-8670-5748bb664e69",
   "metadata": {},
   "source": [
    "### AGEB Intersection"
   ]
  },
  {
   "cell_type": "code",
   "execution_count": 11,
   "id": "de0d3515-ed88-4696-91a8-e64aaa4f91e1",
   "metadata": {},
   "outputs": [],
   "source": [
    "ageb_join = ageb_gdf.sjoin(hex_merge).drop(columns='index_right')"
   ]
  },
  {
   "cell_type": "markdown",
   "id": "3eb3b107-5740-4a71-b2c4-97bb57547b19",
   "metadata": {},
   "source": [
    "Test"
   ]
  },
  {
   "cell_type": "code",
   "execution_count": 12,
   "id": "c474f764-53de-453f-8341-ab7b255ec201",
   "metadata": {},
   "outputs": [
    {
     "data": {
      "text/plain": [
       "4997967"
      ]
     },
     "execution_count": 12,
     "metadata": {},
     "output_type": "execute_result"
    }
   ],
   "source": [
    "ageb_gdf.loc[ageb_gdf.cve_geo.isin(list(ageb_join.cve_geo.unique()))].pobtot.sum()"
   ]
  },
  {
   "cell_type": "code",
   "execution_count": 13,
   "id": "a01bad83-df4d-47d0-a963-350bf9021564",
   "metadata": {},
   "outputs": [
    {
     "data": {
      "text/plain": [
       "4997967"
      ]
     },
     "execution_count": 13,
     "metadata": {},
     "output_type": "execute_result"
    }
   ],
   "source": [
    "ageb_gdf.pobtot.sum()"
   ]
  },
  {
   "cell_type": "code",
   "execution_count": 14,
   "id": "dd75c45b-4d79-4103-8455-45749742ef11",
   "metadata": {},
   "outputs": [
    {
     "data": {
      "text/plain": [
       "(1954, 3)"
      ]
     },
     "execution_count": 14,
     "metadata": {},
     "output_type": "execute_result"
    }
   ],
   "source": [
    "ageb_gdf.shape"
   ]
  },
  {
   "cell_type": "code",
   "execution_count": 15,
   "id": "66f69fac-9de9-4fc2-9a17-aff2ec8a7a28",
   "metadata": {},
   "outputs": [
    {
     "data": {
      "text/plain": [
       "(1954, 3)"
      ]
     },
     "execution_count": 15,
     "metadata": {},
     "output_type": "execute_result"
    }
   ],
   "source": [
    "ageb_gdf.loc[ageb_gdf.cve_geo.isin(list(ageb_join.cve_geo.unique()))].shape"
   ]
  },
  {
   "cell_type": "markdown",
   "id": "d2ae9093-6b3e-4132-88f3-278545856c5a",
   "metadata": {},
   "source": [
    "Define urban"
   ]
  },
  {
   "cell_type": "code",
   "execution_count": 18,
   "id": "1ad3b911-6d17-4964-8eb0-2d445dd2bf99",
   "metadata": {},
   "outputs": [
    {
     "name": "stdout",
     "output_type": "stream",
     "text": [
      "(2857, 6)\n"
     ]
    },
    {
     "data": {
      "text/html": [
       "<div>\n",
       "<style scoped>\n",
       "    .dataframe tbody tr th:only-of-type {\n",
       "        vertical-align: middle;\n",
       "    }\n",
       "\n",
       "    .dataframe tbody tr th {\n",
       "        vertical-align: top;\n",
       "    }\n",
       "\n",
       "    .dataframe thead th {\n",
       "        text-align: right;\n",
       "    }\n",
       "</style>\n",
       "<table border=\"1\" class=\"dataframe\">\n",
       "  <thead>\n",
       "    <tr style=\"text-align: right;\">\n",
       "      <th></th>\n",
       "      <th>hex_id_8</th>\n",
       "      <th>geometry</th>\n",
       "      <th>CVEGEO</th>\n",
       "      <th>NOMGEO</th>\n",
       "      <th>city</th>\n",
       "      <th>type</th>\n",
       "    </tr>\n",
       "  </thead>\n",
       "  <tbody>\n",
       "    <tr>\n",
       "      <th>0</th>\n",
       "      <td>88498c9697fffff</td>\n",
       "      <td>POLYGON ((-103.39405 20.69854, -103.38951 20.7...</td>\n",
       "      <td>14039</td>\n",
       "      <td>Guadalajara</td>\n",
       "      <td>Guadalajara</td>\n",
       "      <td>urban</td>\n",
       "    </tr>\n",
       "    <tr>\n",
       "      <th>1</th>\n",
       "      <td>88498c95d3fffff</td>\n",
       "      <td>POLYGON ((-103.31071 20.73802, -103.30617 20.7...</td>\n",
       "      <td>14039</td>\n",
       "      <td>Guadalajara</td>\n",
       "      <td>Guadalajara</td>\n",
       "      <td>urban</td>\n",
       "    </tr>\n",
       "    <tr>\n",
       "      <th>2</th>\n",
       "      <td>88498c9463fffff</td>\n",
       "      <td>POLYGON ((-103.29464 20.67659, -103.29010 20.6...</td>\n",
       "      <td>14039</td>\n",
       "      <td>Guadalajara</td>\n",
       "      <td>Guadalajara</td>\n",
       "      <td>urban</td>\n",
       "    </tr>\n",
       "    <tr>\n",
       "      <th>3</th>\n",
       "      <td>88498c96e5fffff</td>\n",
       "      <td>POLYGON ((-103.34671 20.66373, -103.34218 20.6...</td>\n",
       "      <td>14039</td>\n",
       "      <td>Guadalajara</td>\n",
       "      <td>Guadalajara</td>\n",
       "      <td>urban</td>\n",
       "    </tr>\n",
       "  </tbody>\n",
       "</table>\n",
       "</div>"
      ],
      "text/plain": [
       "          hex_id_8                                           geometry CVEGEO  \\\n",
       "0  88498c9697fffff  POLYGON ((-103.39405 20.69854, -103.38951 20.7...  14039   \n",
       "1  88498c95d3fffff  POLYGON ((-103.31071 20.73802, -103.30617 20.7...  14039   \n",
       "2  88498c9463fffff  POLYGON ((-103.29464 20.67659, -103.29010 20.6...  14039   \n",
       "3  88498c96e5fffff  POLYGON ((-103.34671 20.66373, -103.34218 20.6...  14039   \n",
       "\n",
       "        NOMGEO         city   type  \n",
       "0  Guadalajara  Guadalajara  urban  \n",
       "1  Guadalajara  Guadalajara  urban  \n",
       "2  Guadalajara  Guadalajara  urban  \n",
       "3  Guadalajara  Guadalajara  urban  "
      ]
     },
     "execution_count": 18,
     "metadata": {},
     "output_type": "execute_result"
    }
   ],
   "source": [
    "hex_list = list(ageb_join.hex_id_8.unique())\n",
    "hex_merge.loc[:,'type'] = 'rural'\n",
    "hex_merge.loc[hex_merge.hex_id_8.isin(hex_list),'type'] = 'urban'\n",
    "print(hex_merge.shape)\n",
    "hex_merge.head(4)"
   ]
  },
  {
   "cell_type": "code",
   "execution_count": 19,
   "id": "f5758839-cce8-4f36-8655-38a952d979db",
   "metadata": {},
   "outputs": [
    {
     "data": {
      "text/plain": [
       "<AxesSubplot: >"
      ]
     },
     "execution_count": 19,
     "metadata": {},
     "output_type": "execute_result"
    },
    {
     "data": {
      "image/png": "[encoded data removed]",
      "text/plain": [
       "<Figure size 432x288 with 1 Axes>"
      ]
     },
     "metadata": {
      "needs_background": "light"
     },
     "output_type": "display_data"
    }
   ],
   "source": [
    "hex_merge.plot('type')"
   ]
  },
  {
   "cell_type": "code",
   "execution_count": null,
   "id": "12986634-7f17-4f7b-bf7e-2a45b96b162e",
   "metadata": {},
   "outputs": [],
   "source": []
  }
 ],
 "metadata": {
  "kernelspec": {
   "display_name": "odc",
   "language": "python",
   "name": "odc"
  },
  "language_info": {
   "codemirror_mode": {
    "name": "ipython",
    "version": 3
   },
   "file_extension": ".py",
   "mimetype": "text/x-python",
   "name": "python",
   "nbconvert_exporter": "python",
   "pygments_lexer": "ipython3",
   "version": "3.10.4"
  }
 },
 "nbformat": 4,
 "nbformat_minor": 5
}
