{
 "cells": [
  {
   "cell_type": "code",
   "execution_count": 1,
   "id": "98654088-4036-4875-b5b6-979be63166ae",
   "metadata": {},
   "outputs": [],
   "source": [
    "import os\n",
    "import sys\n",
    "\n",
    "import pandas as pd\n",
    "import geopandas as gpd\n",
    "import osmnx as ox\n",
    "import time\n",
    "\n",
    "module_path = os.path.abspath(os.path.join('..'))\n",
    "if module_path not in sys.path:\n",
    "    sys.path.append(module_path)\n",
    "    import aup"
   ]
  },
  {
   "cell_type": "code",
   "execution_count": 2,
   "id": "e21ce664-9e01-4284-8d37-c693dbb410d5",
   "metadata": {},
   "outputs": [
    {
     "data": {
      "text/html": [
       "<div>\n",
       "<style scoped>\n",
       "    .dataframe tbody tr th:only-of-type {\n",
       "        vertical-align: middle;\n",
       "    }\n",
       "\n",
       "    .dataframe tbody tr th {\n",
       "        vertical-align: top;\n",
       "    }\n",
       "\n",
       "    .dataframe thead th {\n",
       "        text-align: right;\n",
       "    }\n",
       "</style>\n",
       "<table border=\"1\" class=\"dataframe\">\n",
       "  <thead>\n",
       "    <tr style=\"text-align: right;\">\n",
       "      <th></th>\n",
       "      <th>CVEGEO</th>\n",
       "      <th>CVE_ENT</th>\n",
       "      <th>CVE_MUN</th>\n",
       "      <th>NOMGEO</th>\n",
       "      <th>geometry</th>\n",
       "    </tr>\n",
       "  </thead>\n",
       "  <tbody>\n",
       "    <tr>\n",
       "      <th>0</th>\n",
       "      <td>01001</td>\n",
       "      <td>01</td>\n",
       "      <td>001</td>\n",
       "      <td>Aguascalientes</td>\n",
       "      <td>POLYGON ((-102.10641 22.06035, -102.10368 22.0...</td>\n",
       "    </tr>\n",
       "  </tbody>\n",
       "</table>\n",
       "</div>"
      ],
      "text/plain": [
       "  CVEGEO CVE_ENT CVE_MUN          NOMGEO  \\\n",
       "0  01001      01     001  Aguascalientes   \n",
       "\n",
       "                                            geometry  \n",
       "0  POLYGON ((-102.10641 22.06035, -102.10368 22.0...  "
      ]
     },
     "execution_count": 2,
     "metadata": {},
     "output_type": "execute_result"
    }
   ],
   "source": [
    "gdf = aup.gdf_from_db(\"mpos_2020\", \"marco\")\n",
    "m = ['01001']\n",
    "mun_gdf = gpd.GeoDataFrame()\n",
    "for mun in m:\n",
    "    mun_gdf = mun_gdf.append(gdf.loc[gdf.CVEGEO == mun])\n",
    "mun_gdf.head(1)"
   ]
  },
  {
   "cell_type": "code",
   "execution_count": 3,
   "id": "9def821a-bac0-456d-bc6f-c69f0b9ee781",
   "metadata": {},
   "outputs": [],
   "source": [
    "poly = mun_gdf.geometry\n",
    "# Extracts coordinates from polygon as DataFrame\n",
    "coord_val = poly.bounds\n",
    "# Gets coordinates for bounding box\n",
    "n = coord_val.maxy.max()\n",
    "s = coord_val.miny.min()\n",
    "e = coord_val.maxx.max()\n",
    "w = coord_val.minx.min()"
   ]
  },
  {
   "cell_type": "code",
   "execution_count": 4,
   "id": "22674878-76a7-4089-a7f4-05ba06e06440",
   "metadata": {},
   "outputs": [],
   "source": [
    "G = ox.graph_from_bbox(n, s, e, w, network_type=\"all\")\n",
    "# Transforms graph to nodes and edges GeoDataFrame\n",
    "#nodes, edges = ox.graph_to_gdfs(G)"
   ]
  },
  {
   "cell_type": "code",
   "execution_count": 5,
   "id": "93991dcb-a282-4df3-a92f-1d721662d554",
   "metadata": {},
   "outputs": [
    {
     "name": "stdout",
     "output_type": "stream",
     "text": [
      "(46054, 42)\n"
     ]
    },
    {
     "data": {
      "text/html": [
       "<div>\n",
       "<style scoped>\n",
       "    .dataframe tbody tr th:only-of-type {\n",
       "        vertical-align: middle;\n",
       "    }\n",
       "\n",
       "    .dataframe tbody tr th {\n",
       "        vertical-align: top;\n",
       "    }\n",
       "\n",
       "    .dataframe thead th {\n",
       "        text-align: right;\n",
       "    }\n",
       "</style>\n",
       "<table border=\"1\" class=\"dataframe\">\n",
       "  <thead>\n",
       "    <tr style=\"text-align: right;\">\n",
       "      <th></th>\n",
       "      <th>id</th>\n",
       "      <th>nom_estab</th>\n",
       "      <th>raz_social</th>\n",
       "      <th>codigo_act</th>\n",
       "      <th>nombre_act</th>\n",
       "      <th>per_ocu</th>\n",
       "      <th>tipo_vial</th>\n",
       "      <th>nom_vial</th>\n",
       "      <th>tipo_v_e_1</th>\n",
       "      <th>nom_v_e_1</th>\n",
       "      <th>...</th>\n",
       "      <th>ageb</th>\n",
       "      <th>manzana</th>\n",
       "      <th>telefono</th>\n",
       "      <th>correoelec</th>\n",
       "      <th>www</th>\n",
       "      <th>tipo_uni_eco</th>\n",
       "      <th>latitud</th>\n",
       "      <th>longitud</th>\n",
       "      <th>fecha_alta</th>\n",
       "      <th>geometry</th>\n",
       "    </tr>\n",
       "  </thead>\n",
       "  <tbody>\n",
       "    <tr>\n",
       "      <th>0</th>\n",
       "      <td>6862345.0</td>\n",
       "      <td>AGROPECUARIA CHARCOS DE QUEZADA</td>\n",
       "      <td>AGROPECUARIA CHARCOS DE QUEZADA SOCIEDAD DE PR...</td>\n",
       "      <td>115119.0</td>\n",
       "      <td>Otros servicios relacionados con la agricultura</td>\n",
       "      <td>31 a 50 personas</td>\n",
       "      <td>AVENIDA</td>\n",
       "      <td>UNIVERSIDAD</td>\n",
       "      <td>CALLE</td>\n",
       "      <td>BENJAMÍN MÉNDEZ</td>\n",
       "      <td>...</td>\n",
       "      <td>0233</td>\n",
       "      <td>9.0</td>\n",
       "      <td>4492854000.0</td>\n",
       "      <td>MICHAEL.GALINDO@UGASA.COM.MX</td>\n",
       "      <td>None</td>\n",
       "      <td>Fijo</td>\n",
       "      <td>21.906992</td>\n",
       "      <td>-102.30981</td>\n",
       "      <td>2019-04</td>\n",
       "      <td>POINT (-102.30981 21.90699)</td>\n",
       "    </tr>\n",
       "    <tr>\n",
       "      <th>1</th>\n",
       "      <td>6905212.0</td>\n",
       "      <td>AGROPECUARIO LOS ALAMITOS</td>\n",
       "      <td>None</td>\n",
       "      <td>115119.0</td>\n",
       "      <td>Otros servicios relacionados con la agricultura</td>\n",
       "      <td>0 a 5 personas</td>\n",
       "      <td>CALLE</td>\n",
       "      <td>J. ENCARNACION PAYEN</td>\n",
       "      <td>CALLE</td>\n",
       "      <td>JARDINES ETERNOS</td>\n",
       "      <td>...</td>\n",
       "      <td>0322</td>\n",
       "      <td>18.0</td>\n",
       "      <td>4499960300.0</td>\n",
       "      <td>None</td>\n",
       "      <td>None</td>\n",
       "      <td>Fijo</td>\n",
       "      <td>21.889927</td>\n",
       "      <td>-102.31401</td>\n",
       "      <td>2019-11</td>\n",
       "      <td>POINT (-102.31401 21.88993)</td>\n",
       "    </tr>\n",
       "  </tbody>\n",
       "</table>\n",
       "<p>2 rows × 42 columns</p>\n",
       "</div>"
      ],
      "text/plain": [
       "          id                        nom_estab  \\\n",
       "0  6862345.0  AGROPECUARIA CHARCOS DE QUEZADA   \n",
       "1  6905212.0        AGROPECUARIO LOS ALAMITOS   \n",
       "\n",
       "                                          raz_social  codigo_act  \\\n",
       "0  AGROPECUARIA CHARCOS DE QUEZADA SOCIEDAD DE PR...    115119.0   \n",
       "1                                               None    115119.0   \n",
       "\n",
       "                                        nombre_act           per_ocu  \\\n",
       "0  Otros servicios relacionados con la agricultura  31 a 50 personas   \n",
       "1  Otros servicios relacionados con la agricultura    0 a 5 personas   \n",
       "\n",
       "  tipo_vial              nom_vial tipo_v_e_1         nom_v_e_1  ...  ageb  \\\n",
       "0   AVENIDA           UNIVERSIDAD      CALLE   BENJAMÍN MÉNDEZ  ...  0233   \n",
       "1     CALLE  J. ENCARNACION PAYEN      CALLE  JARDINES ETERNOS  ...  0322   \n",
       "\n",
       "  manzana      telefono                    correoelec   www tipo_uni_eco  \\\n",
       "0     9.0  4492854000.0  MICHAEL.GALINDO@UGASA.COM.MX  None         Fijo   \n",
       "1    18.0  4499960300.0                          None  None         Fijo   \n",
       "\n",
       "     latitud   longitud  fecha_alta                     geometry  \n",
       "0  21.906992 -102.30981     2019-04  POINT (-102.30981 21.90699)  \n",
       "1  21.889927 -102.31401     2019-11  POINT (-102.31401 21.88993)  \n",
       "\n",
       "[2 rows x 42 columns]"
      ]
     },
     "execution_count": 5,
     "metadata": {},
     "output_type": "execute_result"
    }
   ],
   "source": [
    "# Creates query to download nodes from the metropolitan area or capital\n",
    "poly_wkt = mun_gdf.dissolve().geometry.to_wkt()[0]\n",
    "query = f\"SELECT * FROM denue.denue_2020 WHERE ST_Intersects(geometry, \\'SRID=4326;{poly_wkt}\\')\"\n",
    "denue = aup.gdf_from_query(query, geometry_col='geometry')\n",
    "print(denue.shape)\n",
    "denue.head(2)"
   ]
  },
  {
   "cell_type": "code",
   "execution_count": 6,
   "id": "fc0e8f4d-a4e3-4da7-b7d7-4b160a8a96ad",
   "metadata": {},
   "outputs": [
    {
     "name": "stderr",
     "output_type": "stream",
     "text": [
      "/root/anaconda3/envs/geo_env/lib/python3.9/site-packages/osmnx/distance.py:426: UserWarning: The `get_nearest_nodes` function has been deprecated and will be removed in a future release. Use the more efficient `distance.nearest_nodes` instead.\n",
      "  warnings.warn(msg)\n"
     ]
    },
    {
     "name": "stdout",
     "output_type": "stream",
     "text": [
      "2.4730117321014404\n"
     ]
    }
   ],
   "source": [
    "start = time.time()\n",
    "gdf_old = aup.find_nearest_old(G, denue, 'all')\n",
    "end = time.time()\n",
    "print(end - start)"
   ]
  },
  {
   "cell_type": "code",
   "execution_count": 15,
   "id": "3ef8a6a9-b61f-422d-ba3c-655d5bb21978",
   "metadata": {},
   "outputs": [
    {
     "name": "stdout",
     "output_type": "stream",
     "text": [
      "2.5138957500457764\n"
     ]
    }
   ],
   "source": [
    "start = time.time()\n",
    "gdf_new = aup.find_nearest(G, denue)\n",
    "end = time.time()\n",
    "print(end - start)"
   ]
  },
  {
   "cell_type": "code",
   "execution_count": null,
   "id": "e664d85c-fd74-401c-bcdd-912bf425b6bf",
   "metadata": {},
   "outputs": [],
   "source": []
  }
 ],
 "metadata": {
  "kernelspec": {
   "display_name": "geo_env",
   "language": "python",
   "name": "geo_env"
  },
  "language_info": {
   "codemirror_mode": {
    "name": "ipython",
    "version": 3
   },
   "file_extension": ".py",
   "mimetype": "text/x-python",
   "name": "python",
   "nbconvert_exporter": "python",
   "pygments_lexer": "ipython3",
   "version": "3.9.5"
  }
 },
 "nbformat": 4,
 "nbformat_minor": 5
}
