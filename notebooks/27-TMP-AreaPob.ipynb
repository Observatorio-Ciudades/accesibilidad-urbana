{
 "cells": [
  {
   "cell_type": "code",
   "execution_count": 21,
   "metadata": {},
   "outputs": [],
   "source": [
    "import pandas as pd\n",
    "import numpy as np\n",
    "import geopandas as gpd\n",
    "\n",
    "import os\n",
    "import sys\n",
    "module_path = os.path.abspath(os.path.join('..'))\n",
    "if module_path not in sys.path:\n",
    "    sys.path.append(module_path)\n",
    "    import aup"
   ]
  },
  {
   "cell_type": "code",
   "execution_count": 22,
   "metadata": {},
   "outputs": [],
   "source": [
    "df = pd.read_json(\"../scripts/Metropolis_CVE.json\")"
   ]
  },
  {
   "cell_type": "code",
   "execution_count": 47,
   "metadata": {
    "collapsed": true,
    "jupyter": {
     "outputs_hidden": true
    },
    "tags": []
   },
   "outputs": [
    {
     "data": {
      "text/plain": [
       "['09002',\n",
       " '09003',\n",
       " '09004',\n",
       " '09005',\n",
       " '09006',\n",
       " '09007',\n",
       " '09008',\n",
       " '09009',\n",
       " '09010',\n",
       " '09011',\n",
       " '09012',\n",
       " '09013',\n",
       " '09014',\n",
       " '09015',\n",
       " '09016',\n",
       " '09017',\n",
       " '13069',\n",
       " '15002',\n",
       " '15009',\n",
       " '15010',\n",
       " '15011',\n",
       " '15013',\n",
       " '15015',\n",
       " '15016',\n",
       " '15017',\n",
       " '15020',\n",
       " '15022',\n",
       " '15023',\n",
       " '15024',\n",
       " '15025',\n",
       " '15028',\n",
       " '15029',\n",
       " '15030',\n",
       " '15031',\n",
       " '15033',\n",
       " '15034',\n",
       " '15035',\n",
       " '15036',\n",
       " '15037',\n",
       " '15038',\n",
       " '15039',\n",
       " '15044',\n",
       " '15046',\n",
       " '15050',\n",
       " '15053',\n",
       " '15057',\n",
       " '15058',\n",
       " '15059',\n",
       " '15060',\n",
       " '15061',\n",
       " '15065',\n",
       " '15068',\n",
       " '15069',\n",
       " '15070',\n",
       " '15075',\n",
       " '15081',\n",
       " '15083',\n",
       " '15084',\n",
       " '15089',\n",
       " '15091',\n",
       " '15092',\n",
       " '15093',\n",
       " '15094',\n",
       " '15096',\n",
       " '15099',\n",
       " '15100',\n",
       " '15103',\n",
       " '15104',\n",
       " '15108',\n",
       " '15109',\n",
       " '15112',\n",
       " '15120',\n",
       " '15121',\n",
       " '15122',\n",
       " '15125']"
      ]
     },
     "execution_count": 47,
     "metadata": {},
     "output_type": "execute_result"
    }
   ],
   "source": [
    "df.loc[\"mpos\",'ZMVM']"
   ]
  },
  {
   "cell_type": "code",
   "execution_count": 36,
   "metadata": {},
   "outputs": [],
   "source": [
    "mun_gdf = gpd.GeoDataFrame()\n",
    "mpos_folder = 'mpos_2020'\n",
    "c = 'ZMVM'\n",
    "# Iterates over municipality codes for each metropolitan area or capital\n",
    "for i in range(len(df.loc[\"mpos\", c])):\n",
    "    # Extracts specific municipality code\n",
    "    m = df.loc[\"mpos\", c][i]\n",
    "    # Downloads municipality polygon according to code\n",
    "    query = f\"SELECT * FROM marco.{mpos_folder} WHERE \\\"CVEGEO\\\" LIKE \\'{m}\\'\"\n",
    "    mun_gdf = mun_gdf.append(aup.gdf_from_query(query, geometry_col='geometry'))"
   ]
  },
  {
   "cell_type": "code",
   "execution_count": 37,
   "metadata": {},
   "outputs": [],
   "source": [
    "gdf_tmp = mun_gdf.copy()\n",
    "gdf_tmp = gdf_tmp.to_crs(\"EPSG:6372\")\n",
    "gdf_tmp = gdf_tmp.buffer(1).reset_index().rename(columns={0:'geometry'})\n",
    "gdf_tmp = gdf_tmp.to_crs(\"EPSG:4326\")\n",
    "poly_wkt = gdf_tmp.dissolve().geometry.to_wkt()[0]"
   ]
  },
  {
   "cell_type": "code",
   "execution_count": 38,
   "metadata": {},
   "outputs": [],
   "source": [
    "query = f\"SELECT * FROM censoageb.censoageb_2020 WHERE (ST_Intersects(geometry, \\'SRID=4326;{poly_wkt}\\'))\"\n",
    "ageb = aup.gdf_from_query(query, geometry_col='geometry')"
   ]
  },
  {
   "cell_type": "code",
   "execution_count": 39,
   "metadata": {},
   "outputs": [
    {
     "name": "stdout",
     "output_type": "stream",
     "text": [
      "(5855, 237)\n"
     ]
    },
    {
     "data": {
      "text/html": [
       "<div>\n",
       "<style scoped>\n",
       "    .dataframe tbody tr th:only-of-type {\n",
       "        vertical-align: middle;\n",
       "    }\n",
       "\n",
       "    .dataframe tbody tr th {\n",
       "        vertical-align: top;\n",
       "    }\n",
       "\n",
       "    .dataframe thead th {\n",
       "        text-align: right;\n",
       "    }\n",
       "</style>\n",
       "<table border=\"1\" class=\"dataframe\">\n",
       "  <thead>\n",
       "    <tr style=\"text-align: right;\">\n",
       "      <th></th>\n",
       "      <th>cve_geo</th>\n",
       "      <th>cve_ent</th>\n",
       "      <th>cve_mun</th>\n",
       "      <th>cve_loc</th>\n",
       "      <th>cve_ageb</th>\n",
       "      <th>geometry</th>\n",
       "      <th>entidad</th>\n",
       "      <th>nom_ent</th>\n",
       "      <th>mun</th>\n",
       "      <th>nom_mun</th>\n",
       "      <th>...</th>\n",
       "      <th>vph_cel</th>\n",
       "      <th>vph_inter</th>\n",
       "      <th>vph_stvp</th>\n",
       "      <th>vph_spmvpi</th>\n",
       "      <th>vph_cvj</th>\n",
       "      <th>vph_sinrtv</th>\n",
       "      <th>vph_sintlc</th>\n",
       "      <th>vph_sincint</th>\n",
       "      <th>vph_sintic</th>\n",
       "      <th>cve_geo_ageb</th>\n",
       "    </tr>\n",
       "  </thead>\n",
       "  <tbody>\n",
       "    <tr>\n",
       "      <th>0</th>\n",
       "      <td>0901000011716</td>\n",
       "      <td>09</td>\n",
       "      <td>010</td>\n",
       "      <td>0001</td>\n",
       "      <td>1716</td>\n",
       "      <td>POLYGON ((-99.25882 19.32558, -99.25834 19.325...</td>\n",
       "      <td>9</td>\n",
       "      <td>Ciudad de México</td>\n",
       "      <td>10</td>\n",
       "      <td>Álvaro Obregón</td>\n",
       "      <td>...</td>\n",
       "      <td>1660.0</td>\n",
       "      <td>1181.0</td>\n",
       "      <td>644.0</td>\n",
       "      <td>279.0</td>\n",
       "      <td>210.0</td>\n",
       "      <td>45.0</td>\n",
       "      <td>82.0</td>\n",
       "      <td>601.0</td>\n",
       "      <td>9.0</td>\n",
       "      <td>0901000011716</td>\n",
       "    </tr>\n",
       "    <tr>\n",
       "      <th>1</th>\n",
       "      <td>0901000011307</td>\n",
       "      <td>09</td>\n",
       "      <td>010</td>\n",
       "      <td>0001</td>\n",
       "      <td>1307</td>\n",
       "      <td>POLYGON ((-99.20805 19.31277, -99.20768 19.312...</td>\n",
       "      <td>9</td>\n",
       "      <td>Ciudad de México</td>\n",
       "      <td>10</td>\n",
       "      <td>Álvaro Obregón</td>\n",
       "      <td>...</td>\n",
       "      <td>839.0</td>\n",
       "      <td>831.0</td>\n",
       "      <td>768.0</td>\n",
       "      <td>640.0</td>\n",
       "      <td>348.0</td>\n",
       "      <td>NaN</td>\n",
       "      <td>0.0</td>\n",
       "      <td>18.0</td>\n",
       "      <td>0.0</td>\n",
       "      <td>0901000011307</td>\n",
       "    </tr>\n",
       "  </tbody>\n",
       "</table>\n",
       "<p>2 rows × 237 columns</p>\n",
       "</div>"
      ],
      "text/plain": [
       "         cve_geo cve_ent cve_mun cve_loc cve_ageb  \\\n",
       "0  0901000011716      09     010    0001     1716   \n",
       "1  0901000011307      09     010    0001     1307   \n",
       "\n",
       "                                            geometry  entidad  \\\n",
       "0  POLYGON ((-99.25882 19.32558, -99.25834 19.325...        9   \n",
       "1  POLYGON ((-99.20805 19.31277, -99.20768 19.312...        9   \n",
       "\n",
       "            nom_ent  mun         nom_mun  ...  vph_cel vph_inter vph_stvp  \\\n",
       "0  Ciudad de México   10  Álvaro Obregón  ...   1660.0    1181.0    644.0   \n",
       "1  Ciudad de México   10  Álvaro Obregón  ...    839.0     831.0    768.0   \n",
       "\n",
       "   vph_spmvpi  vph_cvj  vph_sinrtv  vph_sintlc  vph_sincint  vph_sintic  \\\n",
       "0       279.0    210.0        45.0        82.0        601.0         9.0   \n",
       "1       640.0    348.0         NaN         0.0         18.0         0.0   \n",
       "\n",
       "    cve_geo_ageb  \n",
       "0  0901000011716  \n",
       "1  0901000011307  \n",
       "\n",
       "[2 rows x 237 columns]"
      ]
     },
     "execution_count": 39,
     "metadata": {},
     "output_type": "execute_result"
    }
   ],
   "source": [
    "print(ageb.shape)\n",
    "ageb.head(2)"
   ]
  },
  {
   "cell_type": "code",
   "execution_count": 40,
   "metadata": {},
   "outputs": [],
   "source": [
    "ageb = ageb.to_crs(\"EPSG:6372\")"
   ]
  },
  {
   "cell_type": "code",
   "execution_count": 52,
   "metadata": {},
   "outputs": [],
   "source": [
    "ageb['area'] = ageb.area"
   ]
  },
  {
   "cell_type": "code",
   "execution_count": 53,
   "metadata": {},
   "outputs": [
    {
     "data": {
      "text/plain": [
       "2347.778924327681"
      ]
     },
     "execution_count": 53,
     "metadata": {},
     "output_type": "execute_result"
    }
   ],
   "source": [
    "((ageb['area']/10000)/100).sum()"
   ]
  },
  {
   "cell_type": "code",
   "execution_count": 54,
   "metadata": {},
   "outputs": [
    {
     "data": {
      "text/plain": [
       "21056688"
      ]
     },
     "execution_count": 54,
     "metadata": {},
     "output_type": "execute_result"
    }
   ],
   "source": [
    "ageb.pobtot.sum()"
   ]
  },
  {
   "cell_type": "code",
   "execution_count": 41,
   "metadata": {},
   "outputs": [],
   "source": [
    "ageb = ageb[['cve_geo','geometry']].copy()"
   ]
  },
  {
   "cell_type": "code",
   "execution_count": 19,
   "metadata": {},
   "outputs": [
    {
     "data": {
      "text/html": [
       "<div>\n",
       "<style scoped>\n",
       "    .dataframe tbody tr th:only-of-type {\n",
       "        vertical-align: middle;\n",
       "    }\n",
       "\n",
       "    .dataframe tbody tr th {\n",
       "        vertical-align: top;\n",
       "    }\n",
       "\n",
       "    .dataframe thead th {\n",
       "        text-align: right;\n",
       "    }\n",
       "</style>\n",
       "<table border=\"1\" class=\"dataframe\">\n",
       "  <thead>\n",
       "    <tr style=\"text-align: right;\">\n",
       "      <th></th>\n",
       "      <th>geometry</th>\n",
       "      <th>cve_geo</th>\n",
       "    </tr>\n",
       "  </thead>\n",
       "  <tbody>\n",
       "    <tr>\n",
       "      <th>0</th>\n",
       "      <td>MULTIPOLYGON (((-116.91632 32.21281, -116.9168...</td>\n",
       "      <td>0200303401550</td>\n",
       "    </tr>\n",
       "  </tbody>\n",
       "</table>\n",
       "</div>"
      ],
      "text/plain": [
       "                                            geometry        cve_geo\n",
       "0  MULTIPOLYGON (((-116.91632 32.21281, -116.9168...  0200303401550"
      ]
     },
     "execution_count": 19,
     "metadata": {},
     "output_type": "execute_result"
    }
   ],
   "source": [
    "ageb.dissolve()"
   ]
  },
  {
   "cell_type": "code",
   "execution_count": 42,
   "metadata": {},
   "outputs": [],
   "source": [
    "ageb.dissolve().to_file(f'/home/edgar/SIG/ObsCds/Proyectos/Guggenheim/Medio_Urbano/Mancha_Urbana/AGEB2020_{c}.geojson')"
   ]
  },
  {
   "cell_type": "code",
   "execution_count": null,
   "metadata": {},
   "outputs": [],
   "source": []
  }
 ],
 "metadata": {
  "kernelspec": {
   "display_name": "Python 3",
   "language": "python",
   "name": "python3"
  },
  "language_info": {
   "codemirror_mode": {
    "name": "ipython",
    "version": 3
   },
   "file_extension": ".py",
   "mimetype": "text/x-python",
   "name": "python",
   "nbconvert_exporter": "python",
   "pygments_lexer": "ipython3",
   "version": "3.8.12"
  }
 },
 "nbformat": 4,
 "nbformat_minor": 4
}
