{
 "cells": [
  {
   "cell_type": "code",
   "execution_count": 1,
   "id": "d45ec305-1bd2-4089-a5b6-5344c0ff4170",
   "metadata": {},
   "outputs": [],
   "source": [
    "import os\n",
    "import sys\n",
    "\n",
    "import pandas as pd\n",
    "import geopandas as gpd\n",
    "import numpy as np\n",
    "\n",
    "import math\n",
    "\n",
    "import matplotlib.pyplot as plt\n",
    "import seaborn as sns\n",
    "\n",
    "import warnings\n",
    "warnings.simplefilter(action='ignore', category=FutureWarning)\n",
    "\n",
    "module_path = os.path.abspath(os.path.join('../'))\n",
    "if module_path not in sys.path:\n",
    "    sys.path.append(module_path)\n",
    "    import aup\n",
    "else:\n",
    "    import aup"
   ]
  },
  {
   "cell_type": "markdown",
   "id": "f7ee5bd6-ee46-48e9-b422-f9e4d40da6c2",
   "metadata": {},
   "source": [
    "## Acceso a datos"
   ]
  },
  {
   "cell_type": "markdown",
   "id": "bc1dfd5b-eb17-4da1-b2ef-dffbc32b1e95",
   "metadata": {},
   "source": [
    "### Hexagons"
   ]
  },
  {
   "cell_type": "code",
   "execution_count": 2,
   "id": "035be61d-dee5-4941-abb9-1ce70ac49441",
   "metadata": {},
   "outputs": [
    {
     "name": "stdout",
     "output_type": "stream",
     "text": [
      "(2826, 6)\n"
     ]
    },
    {
     "data": {
      "text/html": [
       "<div>\n",
       "<style scoped>\n",
       "    .dataframe tbody tr th:only-of-type {\n",
       "        vertical-align: middle;\n",
       "    }\n",
       "\n",
       "    .dataframe tbody tr th {\n",
       "        vertical-align: top;\n",
       "    }\n",
       "\n",
       "    .dataframe thead th {\n",
       "        text-align: right;\n",
       "    }\n",
       "</style>\n",
       "<table border=\"1\" class=\"dataframe\">\n",
       "  <thead>\n",
       "    <tr style=\"text-align: right;\">\n",
       "      <th></th>\n",
       "      <th>hex_id_9</th>\n",
       "      <th>geometry</th>\n",
       "      <th>CVEGEO</th>\n",
       "      <th>NOMGEO</th>\n",
       "      <th>city</th>\n",
       "      <th>type</th>\n",
       "    </tr>\n",
       "  </thead>\n",
       "  <tbody>\n",
       "    <tr>\n",
       "      <th>0</th>\n",
       "      <td>894983d8997ffff</td>\n",
       "      <td>POLYGON ((-100.45238 20.55939, -100.45114 20.5...</td>\n",
       "      <td>22006</td>\n",
       "      <td>Corregidora</td>\n",
       "      <td>Queretaro</td>\n",
       "      <td>urban</td>\n",
       "    </tr>\n",
       "    <tr>\n",
       "      <th>1</th>\n",
       "      <td>894983c3697ffff</td>\n",
       "      <td>POLYGON ((-100.47848 20.52605, -100.47723 20.5...</td>\n",
       "      <td>22006</td>\n",
       "      <td>Corregidora</td>\n",
       "      <td>Queretaro</td>\n",
       "      <td>urban</td>\n",
       "    </tr>\n",
       "  </tbody>\n",
       "</table>\n",
       "</div>"
      ],
      "text/plain": [
       "          hex_id_9                                           geometry CVEGEO  \\\n",
       "0  894983d8997ffff  POLYGON ((-100.45238 20.55939, -100.45114 20.5...  22006   \n",
       "1  894983c3697ffff  POLYGON ((-100.47848 20.52605, -100.47723 20.5...  22006   \n",
       "\n",
       "        NOMGEO       city   type  \n",
       "0  Corregidora  Queretaro  urban  \n",
       "1  Corregidora  Queretaro  urban  "
      ]
     },
     "execution_count": 2,
     "metadata": {},
     "output_type": "execute_result"
    }
   ],
   "source": [
    "schema = 'hexgrid'\n",
    "folder = 'hexgrid_9_city_2020'\n",
    "city = 'Queretaro'\n",
    "type_area = 'urban'\n",
    "\n",
    "query = f\"SELECT * FROM {schema}.{folder} WHERE \\\"city\\\" = \\'{city}\\' AND \\\"type\\\" = \\'{type_area}\\'\"\n",
    "\n",
    "hex_gdf = aup.gdf_from_query(query)\n",
    "hex_gdf = hex_gdf.set_crs(\"EPSG:4326\")\n",
    "print(hex_gdf.shape)\n",
    "hex_gdf.head(2)"
   ]
  },
  {
   "cell_type": "markdown",
   "id": "a97daa07-d527-4d07-917b-285576170ca8",
   "metadata": {},
   "source": [
    "### Censo"
   ]
  },
  {
   "cell_type": "code",
   "execution_count": 3,
   "id": "91242e53-6316-4f10-b6b0-3d443b57c179",
   "metadata": {},
   "outputs": [
    {
     "name": "stdout",
     "output_type": "stream",
     "text": [
      "(2514, 229)\n"
     ]
    },
    {
     "data": {
      "text/html": [
       "<div>\n",
       "<style scoped>\n",
       "    .dataframe tbody tr th:only-of-type {\n",
       "        vertical-align: middle;\n",
       "    }\n",
       "\n",
       "    .dataframe tbody tr th {\n",
       "        vertical-align: top;\n",
       "    }\n",
       "\n",
       "    .dataframe thead th {\n",
       "        text-align: right;\n",
       "    }\n",
       "</style>\n",
       "<table border=\"1\" class=\"dataframe\">\n",
       "  <thead>\n",
       "    <tr style=\"text-align: right;\">\n",
       "      <th></th>\n",
       "      <th>hex_id</th>\n",
       "      <th>res</th>\n",
       "      <th>geometry</th>\n",
       "      <th>cvegeo</th>\n",
       "      <th>nomgeo</th>\n",
       "      <th>city</th>\n",
       "      <th>type</th>\n",
       "      <th>pobtot</th>\n",
       "      <th>pobfem</th>\n",
       "      <th>pobmas</th>\n",
       "      <th>...</th>\n",
       "      <th>vph_telef</th>\n",
       "      <th>vph_cel</th>\n",
       "      <th>vph_inter</th>\n",
       "      <th>vph_stvp</th>\n",
       "      <th>vph_spmvpi</th>\n",
       "      <th>vph_cvj</th>\n",
       "      <th>vph_sinrtv</th>\n",
       "      <th>vph_sinltc</th>\n",
       "      <th>vph_sincint</th>\n",
       "      <th>vph_sintic</th>\n",
       "    </tr>\n",
       "  </thead>\n",
       "  <tbody>\n",
       "    <tr>\n",
       "      <th>0</th>\n",
       "      <td>894983d8997ffff</td>\n",
       "      <td>9</td>\n",
       "      <td>POLYGON ((-100.45238 20.55939, -100.45114 20.5...</td>\n",
       "      <td>22006</td>\n",
       "      <td>Corregidora</td>\n",
       "      <td>Queretaro</td>\n",
       "      <td>urban</td>\n",
       "      <td>1091.49990</td>\n",
       "      <td>586.0</td>\n",
       "      <td>505.50003</td>\n",
       "      <td>...</td>\n",
       "      <td>299.50003</td>\n",
       "      <td>442.99997</td>\n",
       "      <td>422.50003</td>\n",
       "      <td>301.0</td>\n",
       "      <td>325.5</td>\n",
       "      <td>156.25002</td>\n",
       "      <td>2.0</td>\n",
       "      <td>1.5</td>\n",
       "      <td>14.000001</td>\n",
       "      <td>0.0</td>\n",
       "    </tr>\n",
       "    <tr>\n",
       "      <th>1</th>\n",
       "      <td>894983c3697ffff</td>\n",
       "      <td>9</td>\n",
       "      <td>POLYGON ((-100.47848 20.52605, -100.47723 20.5...</td>\n",
       "      <td>22006</td>\n",
       "      <td>Corregidora</td>\n",
       "      <td>Queretaro</td>\n",
       "      <td>urban</td>\n",
       "      <td>224.09999</td>\n",
       "      <td>112.5</td>\n",
       "      <td>111.60000</td>\n",
       "      <td>...</td>\n",
       "      <td>34.80000</td>\n",
       "      <td>75.60000</td>\n",
       "      <td>63.00000</td>\n",
       "      <td>36.6</td>\n",
       "      <td>39.9</td>\n",
       "      <td>22.80000</td>\n",
       "      <td>3.0</td>\n",
       "      <td>0.0</td>\n",
       "      <td>9.000000</td>\n",
       "      <td>0.0</td>\n",
       "    </tr>\n",
       "  </tbody>\n",
       "</table>\n",
       "<p>2 rows × 229 columns</p>\n",
       "</div>"
      ],
      "text/plain": [
       "            hex_id  res                                           geometry  \\\n",
       "0  894983d8997ffff    9  POLYGON ((-100.45238 20.55939, -100.45114 20.5...   \n",
       "1  894983c3697ffff    9  POLYGON ((-100.47848 20.52605, -100.47723 20.5...   \n",
       "\n",
       "  cvegeo       nomgeo       city   type      pobtot  pobfem     pobmas  ...  \\\n",
       "0  22006  Corregidora  Queretaro  urban  1091.49990   586.0  505.50003  ...   \n",
       "1  22006  Corregidora  Queretaro  urban   224.09999   112.5  111.60000  ...   \n",
       "\n",
       "   vph_telef    vph_cel  vph_inter  vph_stvp  vph_spmvpi    vph_cvj  \\\n",
       "0  299.50003  442.99997  422.50003     301.0       325.5  156.25002   \n",
       "1   34.80000   75.60000   63.00000      36.6        39.9   22.80000   \n",
       "\n",
       "   vph_sinrtv  vph_sinltc  vph_sincint  vph_sintic  \n",
       "0         2.0         1.5    14.000001         0.0  \n",
       "1         3.0         0.0     9.000000         0.0  \n",
       "\n",
       "[2 rows x 229 columns]"
      ]
     },
     "execution_count": 3,
     "metadata": {},
     "output_type": "execute_result"
    }
   ],
   "source": [
    "schema = 'censo'\n",
    "folder = 'censo_inegi_20_ageb_hex'\n",
    "res = 9\n",
    "\n",
    "query = f\"SELECT * FROM {schema}.{folder} WHERE  \\\"hex_id\\\" IN {str(tuple(list(hex_gdf.hex_id_9.unique())))}\"\n",
    "censo_gdf = aup.gdf_from_query(query)\n",
    "\n",
    "print(censo_gdf.shape)\n",
    "censo_gdf.head(2)"
   ]
  },
  {
   "cell_type": "markdown",
   "id": "a845ae71-0e46-4654-8e7a-873c69b9e749",
   "metadata": {
    "jp-MarkdownHeadingCollapsed": true
   },
   "source": [
    "### Delitos"
   ]
  },
  {
   "cell_type": "code",
   "execution_count": 4,
   "id": "34497b16-7e99-4762-abe3-115e679bb7c5",
   "metadata": {},
   "outputs": [
    {
     "ename": "DataSourceError",
     "evalue": "../data/processed/Delitos_GDL_170101_231031_UTM_v1.geojson: No such file or directory",
     "output_type": "error",
     "traceback": [
      "\u001b[0;31m---------------------------------------------------------------------------\u001b[0m",
      "\u001b[0;31mDataSourceError\u001b[0m                           Traceback (most recent call last)",
      "Cell \u001b[0;32mIn[4], line 1\u001b[0m\n\u001b[0;32m----> 1\u001b[0m del_gdf \u001b[38;5;241m=\u001b[39m \u001b[43mgpd\u001b[49m\u001b[38;5;241;43m.\u001b[39;49m\u001b[43mread_file\u001b[49m\u001b[43m(\u001b[49m\u001b[38;5;124;43m'\u001b[39;49m\u001b[38;5;124;43m../data/processed/Delitos_GDL_170101_231031_UTM_v1.geojson\u001b[39;49m\u001b[38;5;124;43m'\u001b[39;49m\u001b[43m)\u001b[49m\n\u001b[1;32m      2\u001b[0m del_gdf\u001b[38;5;241m.\u001b[39mhead(\u001b[38;5;241m2\u001b[39m)\n",
      "File \u001b[0;32m~/.cache/pypoetry/virtualenvs/aup-qDsIK5d5-py3.13/lib/python3.13/site-packages/geopandas/io/file.py:294\u001b[0m, in \u001b[0;36m_read_file\u001b[0;34m(filename, bbox, mask, columns, rows, engine, **kwargs)\u001b[0m\n\u001b[1;32m    291\u001b[0m             from_bytes \u001b[38;5;241m=\u001b[39m \u001b[38;5;28;01mTrue\u001b[39;00m\n\u001b[1;32m    293\u001b[0m \u001b[38;5;28;01mif\u001b[39;00m engine \u001b[38;5;241m==\u001b[39m \u001b[38;5;124m\"\u001b[39m\u001b[38;5;124mpyogrio\u001b[39m\u001b[38;5;124m\"\u001b[39m:\n\u001b[0;32m--> 294\u001b[0m     \u001b[38;5;28;01mreturn\u001b[39;00m \u001b[43m_read_file_pyogrio\u001b[49m\u001b[43m(\u001b[49m\n\u001b[1;32m    295\u001b[0m \u001b[43m        \u001b[49m\u001b[43mfilename\u001b[49m\u001b[43m,\u001b[49m\u001b[43m \u001b[49m\u001b[43mbbox\u001b[49m\u001b[38;5;241;43m=\u001b[39;49m\u001b[43mbbox\u001b[49m\u001b[43m,\u001b[49m\u001b[43m \u001b[49m\u001b[43mmask\u001b[49m\u001b[38;5;241;43m=\u001b[39;49m\u001b[43mmask\u001b[49m\u001b[43m,\u001b[49m\u001b[43m \u001b[49m\u001b[43mcolumns\u001b[49m\u001b[38;5;241;43m=\u001b[39;49m\u001b[43mcolumns\u001b[49m\u001b[43m,\u001b[49m\u001b[43m \u001b[49m\u001b[43mrows\u001b[49m\u001b[38;5;241;43m=\u001b[39;49m\u001b[43mrows\u001b[49m\u001b[43m,\u001b[49m\u001b[43m \u001b[49m\u001b[38;5;241;43m*\u001b[39;49m\u001b[38;5;241;43m*\u001b[39;49m\u001b[43mkwargs\u001b[49m\n\u001b[1;32m    296\u001b[0m \u001b[43m    \u001b[49m\u001b[43m)\u001b[49m\n\u001b[1;32m    298\u001b[0m \u001b[38;5;28;01melif\u001b[39;00m engine \u001b[38;5;241m==\u001b[39m \u001b[38;5;124m\"\u001b[39m\u001b[38;5;124mfiona\u001b[39m\u001b[38;5;124m\"\u001b[39m:\n\u001b[1;32m    299\u001b[0m     \u001b[38;5;28;01mif\u001b[39;00m pd\u001b[38;5;241m.\u001b[39mapi\u001b[38;5;241m.\u001b[39mtypes\u001b[38;5;241m.\u001b[39mis_file_like(filename):\n",
      "File \u001b[0;32m~/.cache/pypoetry/virtualenvs/aup-qDsIK5d5-py3.13/lib/python3.13/site-packages/geopandas/io/file.py:547\u001b[0m, in \u001b[0;36m_read_file_pyogrio\u001b[0;34m(path_or_bytes, bbox, mask, rows, **kwargs)\u001b[0m\n\u001b[1;32m    538\u001b[0m     warnings\u001b[38;5;241m.\u001b[39mwarn(\n\u001b[1;32m    539\u001b[0m         \u001b[38;5;124m\"\u001b[39m\u001b[38;5;124mThe \u001b[39m\u001b[38;5;124m'\u001b[39m\u001b[38;5;124minclude_fields\u001b[39m\u001b[38;5;124m'\u001b[39m\u001b[38;5;124m and \u001b[39m\u001b[38;5;124m'\u001b[39m\u001b[38;5;124mignore_fields\u001b[39m\u001b[38;5;124m'\u001b[39m\u001b[38;5;124m keywords are deprecated, and \u001b[39m\u001b[38;5;124m\"\u001b[39m\n\u001b[1;32m    540\u001b[0m         \u001b[38;5;124m\"\u001b[39m\u001b[38;5;124mwill be removed in a future release. You can use the \u001b[39m\u001b[38;5;124m'\u001b[39m\u001b[38;5;124mcolumns\u001b[39m\u001b[38;5;124m'\u001b[39m\u001b[38;5;124m keyword \u001b[39m\u001b[38;5;124m\"\u001b[39m\n\u001b[0;32m   (...)\u001b[0m\n\u001b[1;32m    543\u001b[0m         stacklevel\u001b[38;5;241m=\u001b[39m\u001b[38;5;241m3\u001b[39m,\n\u001b[1;32m    544\u001b[0m     )\n\u001b[1;32m    545\u001b[0m     kwargs[\u001b[38;5;124m\"\u001b[39m\u001b[38;5;124mcolumns\u001b[39m\u001b[38;5;124m\"\u001b[39m] \u001b[38;5;241m=\u001b[39m kwargs\u001b[38;5;241m.\u001b[39mpop(\u001b[38;5;124m\"\u001b[39m\u001b[38;5;124minclude_fields\u001b[39m\u001b[38;5;124m\"\u001b[39m)\n\u001b[0;32m--> 547\u001b[0m \u001b[38;5;28;01mreturn\u001b[39;00m \u001b[43mpyogrio\u001b[49m\u001b[38;5;241;43m.\u001b[39;49m\u001b[43mread_dataframe\u001b[49m\u001b[43m(\u001b[49m\u001b[43mpath_or_bytes\u001b[49m\u001b[43m,\u001b[49m\u001b[43m \u001b[49m\u001b[43mbbox\u001b[49m\u001b[38;5;241;43m=\u001b[39;49m\u001b[43mbbox\u001b[49m\u001b[43m,\u001b[49m\u001b[43m \u001b[49m\u001b[38;5;241;43m*\u001b[39;49m\u001b[38;5;241;43m*\u001b[39;49m\u001b[43mkwargs\u001b[49m\u001b[43m)\u001b[49m\n",
      "File \u001b[0;32m~/.cache/pypoetry/virtualenvs/aup-qDsIK5d5-py3.13/lib64/python3.13/site-packages/pyogrio/geopandas.py:265\u001b[0m, in \u001b[0;36mread_dataframe\u001b[0;34m(path_or_buffer, layer, encoding, columns, read_geometry, force_2d, skip_features, max_features, where, bbox, mask, fids, sql, sql_dialect, fid_as_index, use_arrow, on_invalid, arrow_to_pandas_kwargs, **kwargs)\u001b[0m\n\u001b[1;32m    260\u001b[0m \u001b[38;5;28;01mif\u001b[39;00m \u001b[38;5;129;01mnot\u001b[39;00m use_arrow:\n\u001b[1;32m    261\u001b[0m     \u001b[38;5;66;03m# For arrow, datetimes are read as is.\u001b[39;00m\n\u001b[1;32m    262\u001b[0m     \u001b[38;5;66;03m# For numpy IO, datetimes are read as string values to preserve timezone info\u001b[39;00m\n\u001b[1;32m    263\u001b[0m     \u001b[38;5;66;03m# as numpy does not directly support timezones.\u001b[39;00m\n\u001b[1;32m    264\u001b[0m     kwargs[\u001b[38;5;124m\"\u001b[39m\u001b[38;5;124mdatetime_as_string\u001b[39m\u001b[38;5;124m\"\u001b[39m] \u001b[38;5;241m=\u001b[39m \u001b[38;5;28;01mTrue\u001b[39;00m\n\u001b[0;32m--> 265\u001b[0m result \u001b[38;5;241m=\u001b[39m \u001b[43mread_func\u001b[49m\u001b[43m(\u001b[49m\n\u001b[1;32m    266\u001b[0m \u001b[43m    \u001b[49m\u001b[43mpath_or_buffer\u001b[49m\u001b[43m,\u001b[49m\n\u001b[1;32m    267\u001b[0m \u001b[43m    \u001b[49m\u001b[43mlayer\u001b[49m\u001b[38;5;241;43m=\u001b[39;49m\u001b[43mlayer\u001b[49m\u001b[43m,\u001b[49m\n\u001b[1;32m    268\u001b[0m \u001b[43m    \u001b[49m\u001b[43mencoding\u001b[49m\u001b[38;5;241;43m=\u001b[39;49m\u001b[43mencoding\u001b[49m\u001b[43m,\u001b[49m\n\u001b[1;32m    269\u001b[0m \u001b[43m    \u001b[49m\u001b[43mcolumns\u001b[49m\u001b[38;5;241;43m=\u001b[39;49m\u001b[43mcolumns\u001b[49m\u001b[43m,\u001b[49m\n\u001b[1;32m    270\u001b[0m \u001b[43m    \u001b[49m\u001b[43mread_geometry\u001b[49m\u001b[38;5;241;43m=\u001b[39;49m\u001b[43mread_geometry\u001b[49m\u001b[43m,\u001b[49m\n\u001b[1;32m    271\u001b[0m \u001b[43m    \u001b[49m\u001b[43mforce_2d\u001b[49m\u001b[38;5;241;43m=\u001b[39;49m\u001b[43mgdal_force_2d\u001b[49m\u001b[43m,\u001b[49m\n\u001b[1;32m    272\u001b[0m \u001b[43m    \u001b[49m\u001b[43mskip_features\u001b[49m\u001b[38;5;241;43m=\u001b[39;49m\u001b[43mskip_features\u001b[49m\u001b[43m,\u001b[49m\n\u001b[1;32m    273\u001b[0m \u001b[43m    \u001b[49m\u001b[43mmax_features\u001b[49m\u001b[38;5;241;43m=\u001b[39;49m\u001b[43mmax_features\u001b[49m\u001b[43m,\u001b[49m\n\u001b[1;32m    274\u001b[0m \u001b[43m    \u001b[49m\u001b[43mwhere\u001b[49m\u001b[38;5;241;43m=\u001b[39;49m\u001b[43mwhere\u001b[49m\u001b[43m,\u001b[49m\n\u001b[1;32m    275\u001b[0m \u001b[43m    \u001b[49m\u001b[43mbbox\u001b[49m\u001b[38;5;241;43m=\u001b[39;49m\u001b[43mbbox\u001b[49m\u001b[43m,\u001b[49m\n\u001b[1;32m    276\u001b[0m \u001b[43m    \u001b[49m\u001b[43mmask\u001b[49m\u001b[38;5;241;43m=\u001b[39;49m\u001b[43mmask\u001b[49m\u001b[43m,\u001b[49m\n\u001b[1;32m    277\u001b[0m \u001b[43m    \u001b[49m\u001b[43mfids\u001b[49m\u001b[38;5;241;43m=\u001b[39;49m\u001b[43mfids\u001b[49m\u001b[43m,\u001b[49m\n\u001b[1;32m    278\u001b[0m \u001b[43m    \u001b[49m\u001b[43msql\u001b[49m\u001b[38;5;241;43m=\u001b[39;49m\u001b[43msql\u001b[49m\u001b[43m,\u001b[49m\n\u001b[1;32m    279\u001b[0m \u001b[43m    \u001b[49m\u001b[43msql_dialect\u001b[49m\u001b[38;5;241;43m=\u001b[39;49m\u001b[43msql_dialect\u001b[49m\u001b[43m,\u001b[49m\n\u001b[1;32m    280\u001b[0m \u001b[43m    \u001b[49m\u001b[43mreturn_fids\u001b[49m\u001b[38;5;241;43m=\u001b[39;49m\u001b[43mfid_as_index\u001b[49m\u001b[43m,\u001b[49m\n\u001b[1;32m    281\u001b[0m \u001b[43m    \u001b[49m\u001b[38;5;241;43m*\u001b[39;49m\u001b[38;5;241;43m*\u001b[39;49m\u001b[43mkwargs\u001b[49m\u001b[43m,\u001b[49m\n\u001b[1;32m    282\u001b[0m \u001b[43m\u001b[49m\u001b[43m)\u001b[49m\n\u001b[1;32m    284\u001b[0m \u001b[38;5;28;01mif\u001b[39;00m use_arrow:\n\u001b[1;32m    285\u001b[0m     meta, table \u001b[38;5;241m=\u001b[39m result\n",
      "File \u001b[0;32m~/.cache/pypoetry/virtualenvs/aup-qDsIK5d5-py3.13/lib64/python3.13/site-packages/pyogrio/raw.py:198\u001b[0m, in \u001b[0;36mread\u001b[0;34m(path_or_buffer, layer, encoding, columns, read_geometry, force_2d, skip_features, max_features, where, bbox, mask, fids, sql, sql_dialect, return_fids, datetime_as_string, **kwargs)\u001b[0m\n\u001b[1;32m     59\u001b[0m \u001b[38;5;250m\u001b[39m\u001b[38;5;124;03m\"\"\"Read OGR data source into numpy arrays.\u001b[39;00m\n\u001b[1;32m     60\u001b[0m \n\u001b[1;32m     61\u001b[0m \u001b[38;5;124;03mIMPORTANT: non-linear geometry types (e.g., MultiSurface) are converted\u001b[39;00m\n\u001b[0;32m   (...)\u001b[0m\n\u001b[1;32m    194\u001b[0m \n\u001b[1;32m    195\u001b[0m \u001b[38;5;124;03m\"\"\"\u001b[39;00m\n\u001b[1;32m    196\u001b[0m dataset_kwargs \u001b[38;5;241m=\u001b[39m _preprocess_options_key_value(kwargs) \u001b[38;5;28;01mif\u001b[39;00m kwargs \u001b[38;5;28;01melse\u001b[39;00m {}\n\u001b[0;32m--> 198\u001b[0m \u001b[38;5;28;01mreturn\u001b[39;00m \u001b[43mogr_read\u001b[49m\u001b[43m(\u001b[49m\n\u001b[1;32m    199\u001b[0m \u001b[43m    \u001b[49m\u001b[43mget_vsi_path_or_buffer\u001b[49m\u001b[43m(\u001b[49m\u001b[43mpath_or_buffer\u001b[49m\u001b[43m)\u001b[49m\u001b[43m,\u001b[49m\n\u001b[1;32m    200\u001b[0m \u001b[43m    \u001b[49m\u001b[43mlayer\u001b[49m\u001b[38;5;241;43m=\u001b[39;49m\u001b[43mlayer\u001b[49m\u001b[43m,\u001b[49m\n\u001b[1;32m    201\u001b[0m \u001b[43m    \u001b[49m\u001b[43mencoding\u001b[49m\u001b[38;5;241;43m=\u001b[39;49m\u001b[43mencoding\u001b[49m\u001b[43m,\u001b[49m\n\u001b[1;32m    202\u001b[0m \u001b[43m    \u001b[49m\u001b[43mcolumns\u001b[49m\u001b[38;5;241;43m=\u001b[39;49m\u001b[43mcolumns\u001b[49m\u001b[43m,\u001b[49m\n\u001b[1;32m    203\u001b[0m \u001b[43m    \u001b[49m\u001b[43mread_geometry\u001b[49m\u001b[38;5;241;43m=\u001b[39;49m\u001b[43mread_geometry\u001b[49m\u001b[43m,\u001b[49m\n\u001b[1;32m    204\u001b[0m \u001b[43m    \u001b[49m\u001b[43mforce_2d\u001b[49m\u001b[38;5;241;43m=\u001b[39;49m\u001b[43mforce_2d\u001b[49m\u001b[43m,\u001b[49m\n\u001b[1;32m    205\u001b[0m \u001b[43m    \u001b[49m\u001b[43mskip_features\u001b[49m\u001b[38;5;241;43m=\u001b[39;49m\u001b[43mskip_features\u001b[49m\u001b[43m,\u001b[49m\n\u001b[1;32m    206\u001b[0m \u001b[43m    \u001b[49m\u001b[43mmax_features\u001b[49m\u001b[38;5;241;43m=\u001b[39;49m\u001b[43mmax_features\u001b[49m\u001b[43m \u001b[49m\u001b[38;5;129;43;01mor\u001b[39;49;00m\u001b[43m \u001b[49m\u001b[38;5;241;43m0\u001b[39;49m\u001b[43m,\u001b[49m\n\u001b[1;32m    207\u001b[0m \u001b[43m    \u001b[49m\u001b[43mwhere\u001b[49m\u001b[38;5;241;43m=\u001b[39;49m\u001b[43mwhere\u001b[49m\u001b[43m,\u001b[49m\n\u001b[1;32m    208\u001b[0m \u001b[43m    \u001b[49m\u001b[43mbbox\u001b[49m\u001b[38;5;241;43m=\u001b[39;49m\u001b[43mbbox\u001b[49m\u001b[43m,\u001b[49m\n\u001b[1;32m    209\u001b[0m \u001b[43m    \u001b[49m\u001b[43mmask\u001b[49m\u001b[38;5;241;43m=\u001b[39;49m\u001b[43m_mask_to_wkb\u001b[49m\u001b[43m(\u001b[49m\u001b[43mmask\u001b[49m\u001b[43m)\u001b[49m\u001b[43m,\u001b[49m\n\u001b[1;32m    210\u001b[0m \u001b[43m    \u001b[49m\u001b[43mfids\u001b[49m\u001b[38;5;241;43m=\u001b[39;49m\u001b[43mfids\u001b[49m\u001b[43m,\u001b[49m\n\u001b[1;32m    211\u001b[0m \u001b[43m    \u001b[49m\u001b[43msql\u001b[49m\u001b[38;5;241;43m=\u001b[39;49m\u001b[43msql\u001b[49m\u001b[43m,\u001b[49m\n\u001b[1;32m    212\u001b[0m \u001b[43m    \u001b[49m\u001b[43msql_dialect\u001b[49m\u001b[38;5;241;43m=\u001b[39;49m\u001b[43msql_dialect\u001b[49m\u001b[43m,\u001b[49m\n\u001b[1;32m    213\u001b[0m \u001b[43m    \u001b[49m\u001b[43mreturn_fids\u001b[49m\u001b[38;5;241;43m=\u001b[39;49m\u001b[43mreturn_fids\u001b[49m\u001b[43m,\u001b[49m\n\u001b[1;32m    214\u001b[0m \u001b[43m    \u001b[49m\u001b[43mdataset_kwargs\u001b[49m\u001b[38;5;241;43m=\u001b[39;49m\u001b[43mdataset_kwargs\u001b[49m\u001b[43m,\u001b[49m\n\u001b[1;32m    215\u001b[0m \u001b[43m    \u001b[49m\u001b[43mdatetime_as_string\u001b[49m\u001b[38;5;241;43m=\u001b[39;49m\u001b[43mdatetime_as_string\u001b[49m\u001b[43m,\u001b[49m\n\u001b[1;32m    216\u001b[0m \u001b[43m\u001b[49m\u001b[43m)\u001b[49m\n",
      "File \u001b[0;32mpyogrio/_io.pyx:1240\u001b[0m, in \u001b[0;36mpyogrio._io.ogr_read\u001b[0;34m()\u001b[0m\n",
      "File \u001b[0;32mpyogrio/_io.pyx:220\u001b[0m, in \u001b[0;36mpyogrio._io.ogr_open\u001b[0;34m()\u001b[0m\n",
      "\u001b[0;31mDataSourceError\u001b[0m: ../data/processed/Delitos_GDL_170101_231031_UTM_v1.geojson: No such file or directory"
     ]
    }
   ],
   "source": [
    "del_gdf = gpd.read_file('../data/processed/Delitos_GDL_170101_231031_UTM_v1.geojson')\n",
    "del_gdf.head(2)"
   ]
  },
  {
   "cell_type": "markdown",
   "id": "20235fc3-d781-4eb9-b33c-8495a6c7b238",
   "metadata": {},
   "source": [
    "### Marginalization"
   ]
  },
  {
   "cell_type": "code",
   "execution_count": 5,
   "id": "d25d45da-7cba-416b-8335-bb42ca53e6f1",
   "metadata": {},
   "outputs": [
    {
     "name": "stdout",
     "output_type": "stream",
     "text": [
      "(66512, 31)\n"
     ]
    },
    {
     "data": {
      "text/html": [
       "<div>\n",
       "<style scoped>\n",
       "    .dataframe tbody tr th:only-of-type {\n",
       "        vertical-align: middle;\n",
       "    }\n",
       "\n",
       "    .dataframe tbody tr th {\n",
       "        vertical-align: top;\n",
       "    }\n",
       "\n",
       "    .dataframe thead th {\n",
       "        text-align: right;\n",
       "    }\n",
       "</style>\n",
       "<table border=\"1\" class=\"dataframe\">\n",
       "  <thead>\n",
       "    <tr style=\"text-align: right;\">\n",
       "      <th></th>\n",
       "      <th>x</th>\n",
       "      <th>y</th>\n",
       "      <th>street_count</th>\n",
       "      <th>geometry</th>\n",
       "      <th>cve_geo_ageb</th>\n",
       "      <th>cve_ent</th>\n",
       "      <th>cve_mun</th>\n",
       "      <th>cve_loc</th>\n",
       "      <th>cve_ageb</th>\n",
       "      <th>CVE_AGEB</th>\n",
       "      <th>...</th>\n",
       "      <th>ovsde</th>\n",
       "      <th>ovsee</th>\n",
       "      <th>ovsae</th>\n",
       "      <th>ovpt</th>\n",
       "      <th>ovsref</th>\n",
       "      <th>ovsint</th>\n",
       "      <th>ovscel</th>\n",
       "      <th>ovhac</th>\n",
       "      <th>im_2020</th>\n",
       "      <th>imn_2020</th>\n",
       "    </tr>\n",
       "  </thead>\n",
       "  <tbody>\n",
       "    <tr>\n",
       "      <th>0</th>\n",
       "      <td>-100.391268</td>\n",
       "      <td>20.613309</td>\n",
       "      <td>0</td>\n",
       "      <td>POINT (-100.39127 20.61331)</td>\n",
       "      <td>2201400011227</td>\n",
       "      <td>22</td>\n",
       "      <td>014</td>\n",
       "      <td>0001</td>\n",
       "      <td>1227</td>\n",
       "      <td>2201400011227</td>\n",
       "      <td>...</td>\n",
       "      <td>0.0</td>\n",
       "      <td>0.0</td>\n",
       "      <td>0.0</td>\n",
       "      <td>0.000082</td>\n",
       "      <td>0.000574</td>\n",
       "      <td>0.003689</td>\n",
       "      <td>0.001066</td>\n",
       "      <td>0.006968</td>\n",
       "      <td>125.872895</td>\n",
       "      <td>0.983272</td>\n",
       "    </tr>\n",
       "    <tr>\n",
       "      <th>1</th>\n",
       "      <td>-100.390428</td>\n",
       "      <td>20.613587</td>\n",
       "      <td>0</td>\n",
       "      <td>POINT (-100.39043 20.61359)</td>\n",
       "      <td>2201400011227</td>\n",
       "      <td>22</td>\n",
       "      <td>014</td>\n",
       "      <td>0001</td>\n",
       "      <td>1227</td>\n",
       "      <td>2201400011227</td>\n",
       "      <td>...</td>\n",
       "      <td>0.0</td>\n",
       "      <td>0.0</td>\n",
       "      <td>0.0</td>\n",
       "      <td>0.000082</td>\n",
       "      <td>0.000574</td>\n",
       "      <td>0.003689</td>\n",
       "      <td>0.001066</td>\n",
       "      <td>0.006968</td>\n",
       "      <td>125.872895</td>\n",
       "      <td>0.983272</td>\n",
       "    </tr>\n",
       "  </tbody>\n",
       "</table>\n",
       "<p>2 rows × 31 columns</p>\n",
       "</div>"
      ],
      "text/plain": [
       "            x          y  street_count                     geometry  \\\n",
       "0 -100.391268  20.613309             0  POINT (-100.39127 20.61331)   \n",
       "1 -100.390428  20.613587             0  POINT (-100.39043 20.61359)   \n",
       "\n",
       "    cve_geo_ageb cve_ent cve_mun cve_loc cve_ageb       CVE_AGEB  ...  ovsde  \\\n",
       "0  2201400011227      22     014    0001     1227  2201400011227  ...    0.0   \n",
       "1  2201400011227      22     014    0001     1227  2201400011227  ...    0.0   \n",
       "\n",
       "  ovsee  ovsae      ovpt    ovsref    ovsint    ovscel     ovhac     im_2020  \\\n",
       "0   0.0    0.0  0.000082  0.000574  0.003689  0.001066  0.006968  125.872895   \n",
       "1   0.0    0.0  0.000082  0.000574  0.003689  0.001066  0.006968  125.872895   \n",
       "\n",
       "   imn_2020  \n",
       "0  0.983272  \n",
       "1  0.983272  \n",
       "\n",
       "[2 rows x 31 columns]"
      ]
     },
     "execution_count": 5,
     "metadata": {},
     "output_type": "execute_result"
    }
   ],
   "source": [
    "schema = 'censo'\n",
    "folder = 'nodes_marg_2020'\n",
    "\n",
    "gdf = hex_gdf.to_crs(\"EPSG:6372\")\n",
    "gdf = gdf.buffer(1).reset_index().rename(columns={0: \"geometry\"})\n",
    "gdf = gdf.set_geometry(\"geometry\")\n",
    "gdf = gdf.to_crs(\"EPSG:4326\")\n",
    "poly_wkt = gdf.dissolve().geometry.to_wkt()[0]\n",
    "query = f\"SELECT * FROM {schema}.{folder} WHERE ST_Intersects(geometry, 'SRID=4326;{poly_wkt}')\"\n",
    "\n",
    "nodes_marg = aup.gdf_from_query(query)\n",
    "nodes_marg = nodes_marg.set_crs(\"EPSG:4326\")\n",
    "print(nodes_marg.shape)\n",
    "nodes_marg.head(2)"
   ]
  },
  {
   "cell_type": "code",
   "execution_count": 6,
   "id": "359f5c1a-65e0-46b1-baf4-1a54983f2f7e",
   "metadata": {},
   "outputs": [
    {
     "data": {
      "text/plain": [
       "Index(['x', 'y', 'street_count', 'geometry', 'cve_geo_ageb', 'cve_ent',\n",
       "       'cve_mun', 'cve_loc', 'cve_ageb', 'CVE_AGEB', 'entidad', 'nom_ent',\n",
       "       'mun', 'nom_mun', 'loc', 'nom_loc', 'ageb', 'pobtot', 'p6a14nae',\n",
       "       'sbasc', 'psdss', 'ovsde', 'ovsee', 'ovsae', 'ovpt', 'ovsref', 'ovsint',\n",
       "       'ovscel', 'ovhac', 'im_2020', 'imn_2020'],\n",
       "      dtype='object')"
      ]
     },
     "execution_count": 6,
     "metadata": {},
     "output_type": "execute_result"
    }
   ],
   "source": [
    "nodes_marg.columns"
   ]
  },
  {
   "cell_type": "markdown",
   "id": "403f3b20-5d51-4e4d-b686-46fb73866e20",
   "metadata": {},
   "source": [
    "## Spatial analysis"
   ]
  },
  {
   "cell_type": "markdown",
   "id": "b165ab14-144c-423b-82ca-8d3560a52944",
   "metadata": {},
   "source": [
    "### Marginalization"
   ]
  },
  {
   "cell_type": "code",
   "execution_count": 7,
   "id": "e541f1e8-817a-4b6d-8085-dc715afceac2",
   "metadata": {},
   "outputs": [
    {
     "name": "stdout",
     "output_type": "stream",
     "text": [
      "(2518, 3)\n"
     ]
    },
    {
     "data": {
      "text/html": [
       "<div>\n",
       "<style scoped>\n",
       "    .dataframe tbody tr th:only-of-type {\n",
       "        vertical-align: middle;\n",
       "    }\n",
       "\n",
       "    .dataframe tbody tr th {\n",
       "        vertical-align: top;\n",
       "    }\n",
       "\n",
       "    .dataframe thead th {\n",
       "        text-align: right;\n",
       "    }\n",
       "</style>\n",
       "<table border=\"1\" class=\"dataframe\">\n",
       "  <thead>\n",
       "    <tr style=\"text-align: right;\">\n",
       "      <th></th>\n",
       "      <th>hex_id_9</th>\n",
       "      <th>wgt_im</th>\n",
       "      <th>wgt_imn</th>\n",
       "    </tr>\n",
       "  </thead>\n",
       "  <tbody>\n",
       "    <tr>\n",
       "      <th>0</th>\n",
       "      <td>8949822402fffff</td>\n",
       "      <td>118.541504</td>\n",
       "      <td>0.926002</td>\n",
       "    </tr>\n",
       "    <tr>\n",
       "      <th>1</th>\n",
       "      <td>89498224103ffff</td>\n",
       "      <td>116.939417</td>\n",
       "      <td>0.913487</td>\n",
       "    </tr>\n",
       "  </tbody>\n",
       "</table>\n",
       "</div>"
      ],
      "text/plain": [
       "          hex_id_9      wgt_im   wgt_imn\n",
       "0  8949822402fffff  118.541504  0.926002\n",
       "1  89498224103ffff  116.939417  0.913487"
      ]
     },
     "execution_count": 7,
     "metadata": {},
     "output_type": "execute_result"
    }
   ],
   "source": [
    "nodes_hex = nodes_marg.overlay(hex_gdf, how='intersection')\n",
    "\n",
    "nodes_pop = nodes_hex[['hex_id_9','pobtot']].groupby('hex_id_9').sum()\n",
    "nodes_pop = nodes_pop.reset_index()\n",
    "nodes_pop = nodes_pop.rename(columns={'pobtot':'pobtot_hex'})\n",
    "\n",
    "nodes_hex = nodes_hex.merge(nodes_pop, on='hex_id_9')\n",
    "nodes_hex['pct_pop'] = nodes_hex['pobtot'] / nodes_hex['pobtot_hex']\n",
    "\n",
    "nodes_hex['wgt_im'] = nodes_hex['pct_pop'] * nodes_hex['im_2020']\n",
    "nodes_hex['wgt_imn'] = nodes_hex['pct_pop'] * nodes_hex['imn_2020']\n",
    "\n",
    "nodes_hex = nodes_hex[['hex_id_9','wgt_im','wgt_imn']].groupby(['hex_id_9']).sum()\n",
    "nodes_hex = nodes_hex.reset_index()\n",
    "\n",
    "print(nodes_hex.shape)\n",
    "nodes_hex.head(2)"
   ]
  },
  {
   "cell_type": "code",
   "execution_count": 8,
   "id": "310b1a24-40ad-474e-a434-45d779da8865",
   "metadata": {},
   "outputs": [],
   "source": [
    "hex_marg = hex_gdf.merge(nodes_hex, on='hex_id_9', how='left')\n",
    "hex_marg = hex_marg.fillna(0)"
   ]
  },
  {
   "cell_type": "markdown",
   "id": "4587994b-a3b5-45ef-b08c-ff7634a390a9",
   "metadata": {
    "jp-MarkdownHeadingCollapsed": true
   },
   "source": [
    "### Crime"
   ]
  },
  {
   "cell_type": "code",
   "execution_count": 27,
   "id": "79ed4c03-3f3e-46b0-9882-08ede67e9580",
   "metadata": {},
   "outputs": [
    {
     "name": "stdout",
     "output_type": "stream",
     "text": [
      "(1121, 2)\n"
     ]
    },
    {
     "data": {
      "text/html": [
       "<div>\n",
       "<style scoped>\n",
       "    .dataframe tbody tr th:only-of-type {\n",
       "        vertical-align: middle;\n",
       "    }\n",
       "\n",
       "    .dataframe tbody tr th {\n",
       "        vertical-align: top;\n",
       "    }\n",
       "\n",
       "    .dataframe thead th {\n",
       "        text-align: right;\n",
       "    }\n",
       "</style>\n",
       "<table border=\"1\" class=\"dataframe\">\n",
       "  <thead>\n",
       "    <tr style=\"text-align: right;\">\n",
       "      <th></th>\n",
       "      <th>hex_id_9</th>\n",
       "      <th>delitos_count</th>\n",
       "    </tr>\n",
       "  </thead>\n",
       "  <tbody>\n",
       "    <tr>\n",
       "      <th>0</th>\n",
       "      <td>89498c94003ffff</td>\n",
       "      <td>159</td>\n",
       "    </tr>\n",
       "    <tr>\n",
       "      <th>1</th>\n",
       "      <td>89498c94007ffff</td>\n",
       "      <td>102</td>\n",
       "    </tr>\n",
       "  </tbody>\n",
       "</table>\n",
       "</div>"
      ],
      "text/plain": [
       "          hex_id_9  delitos_count\n",
       "0  89498c94003ffff            159\n",
       "1  89498c94007ffff            102"
      ]
     },
     "execution_count": 27,
     "metadata": {},
     "output_type": "execute_result"
    }
   ],
   "source": [
    "del_gdf = del_gdf.to_crs(\"EPSG:4326\")\n",
    "del_hex = del_gdf.overlay(hex_gdf, how='intersection')\n",
    "del_hex = del_hex.groupby('hex_id_9').count()\n",
    "del_hex = del_hex.rename(columns={'delito':'delitos_count'})\n",
    "\n",
    "del_hex = del_hex.reset_index()\n",
    "del_hex = del_hex[['hex_id_9','delitos_count']]\n",
    "\n",
    "print(del_hex.shape)\n",
    "del_hex.head(2)"
   ]
  },
  {
   "cell_type": "code",
   "execution_count": 28,
   "id": "fe652be9-87c1-4cac-ab28-54f7dc9d2732",
   "metadata": {},
   "outputs": [
    {
     "name": "stdout",
     "output_type": "stream",
     "text": [
      "(1214, 10)\n"
     ]
    },
    {
     "data": {
      "text/html": [
       "<div>\n",
       "<style scoped>\n",
       "    .dataframe tbody tr th:only-of-type {\n",
       "        vertical-align: middle;\n",
       "    }\n",
       "\n",
       "    .dataframe tbody tr th {\n",
       "        vertical-align: top;\n",
       "    }\n",
       "\n",
       "    .dataframe thead th {\n",
       "        text-align: right;\n",
       "    }\n",
       "</style>\n",
       "<table border=\"1\" class=\"dataframe\">\n",
       "  <thead>\n",
       "    <tr style=\"text-align: right;\">\n",
       "      <th></th>\n",
       "      <th>hex_id_9</th>\n",
       "      <th>geometry</th>\n",
       "      <th>CVEGEO</th>\n",
       "      <th>NOMGEO</th>\n",
       "      <th>city</th>\n",
       "      <th>type</th>\n",
       "      <th>delitos_count</th>\n",
       "      <th>pobtot</th>\n",
       "      <th>del_hab</th>\n",
       "      <th>del_hab_100</th>\n",
       "    </tr>\n",
       "  </thead>\n",
       "  <tbody>\n",
       "    <tr>\n",
       "      <th>0</th>\n",
       "      <td>89498c96e0bffff</td>\n",
       "      <td>POLYGON ((-103.35267 20.66765, -103.35145 20.6...</td>\n",
       "      <td>14039</td>\n",
       "      <td>Guadalajara</td>\n",
       "      <td>Guadalajara</td>\n",
       "      <td>urban</td>\n",
       "      <td>245.0</td>\n",
       "      <td>877.0</td>\n",
       "      <td>0.279361</td>\n",
       "      <td>27.936146</td>\n",
       "    </tr>\n",
       "    <tr>\n",
       "      <th>1</th>\n",
       "      <td>89498c9608bffff</td>\n",
       "      <td>POLYGON ((-103.33820 20.62182, -103.33698 20.6...</td>\n",
       "      <td>14039</td>\n",
       "      <td>Guadalajara</td>\n",
       "      <td>Guadalajara</td>\n",
       "      <td>urban</td>\n",
       "      <td>12.0</td>\n",
       "      <td>1.0</td>\n",
       "      <td>12.000000</td>\n",
       "      <td>1200.000000</td>\n",
       "    </tr>\n",
       "  </tbody>\n",
       "</table>\n",
       "</div>"
      ],
      "text/plain": [
       "          hex_id_9                                           geometry CVEGEO  \\\n",
       "0  89498c96e0bffff  POLYGON ((-103.35267 20.66765, -103.35145 20.6...  14039   \n",
       "1  89498c9608bffff  POLYGON ((-103.33820 20.62182, -103.33698 20.6...  14039   \n",
       "\n",
       "        NOMGEO         city   type  delitos_count  pobtot    del_hab  \\\n",
       "0  Guadalajara  Guadalajara  urban          245.0   877.0   0.279361   \n",
       "1  Guadalajara  Guadalajara  urban           12.0     1.0  12.000000   \n",
       "\n",
       "   del_hab_100  \n",
       "0    27.936146  \n",
       "1  1200.000000  "
      ]
     },
     "execution_count": 28,
     "metadata": {},
     "output_type": "execute_result"
    }
   ],
   "source": [
    "del_hex = del_hex.merge(censo_gdf[['hex_id_9','pobtot']], on='hex_id_9', how='outer')\n",
    "del_hex = del_hex.fillna(0)\n",
    "del_hex.loc[del_hex.pobtot==0,'pobtot'] = 1\n",
    "del_hex['del_hab'] = del_hex['delitos_count'] / del_hex['pobtot']\n",
    "del_hex['del_hab_100'] = del_hex['del_hab'] * 100\n",
    "hex_crime = hex_gdf.merge(del_hex, on='hex_id_9', how='left')\n",
    "hex_crime = hex_crime.fillna(0)\n",
    "print(hex_crime.shape)\n",
    "hex_crime.head(2)"
   ]
  },
  {
   "cell_type": "code",
   "execution_count": 29,
   "id": "d68a7f68-7ab4-4d49-9c4d-33ffaca39c64",
   "metadata": {},
   "outputs": [
    {
     "data": {
      "text/plain": [
       "<AxesSubplot: >"
      ]
     },
     "execution_count": 29,
     "metadata": {},
     "output_type": "execute_result"
    },
    {
     "data": {
      "image/png": "[encoded data removed]",
      "text/plain": [
       "<Figure size 640x480 with 1 Axes>"
      ]
     },
     "metadata": {},
     "output_type": "display_data"
    }
   ],
   "source": [
    "hex_crime.plot('del_hab_100')"
   ]
  },
  {
   "cell_type": "markdown",
   "id": "68446dab-baa6-4dec-8a60-901acb0b5103",
   "metadata": {},
   "source": [
    "### Cars per household"
   ]
  },
  {
   "cell_type": "code",
   "execution_count": 9,
   "id": "2ec7f393-28a1-44b8-b12a-2add97245c6c",
   "metadata": {},
   "outputs": [],
   "source": [
    "censo_gdf['auto_viv'] = censo_gdf['vph_autom'] / censo_gdf['tvivparhab']"
   ]
  },
  {
   "cell_type": "markdown",
   "id": "40c9dd7d-7627-41ea-beb3-c53355e3b66b",
   "metadata": {},
   "source": [
    "### Socioeconomic level"
   ]
  },
  {
   "cell_type": "code",
   "execution_count": 10,
   "id": "ab2e9d3d-0989-40b8-b5bc-35a5cd80f029",
   "metadata": {},
   "outputs": [],
   "source": [
    "from sklearn.preprocessing import StandardScaler\n",
    "\n",
    "def pca(df, columns):\n",
    "    \"\"\"Create Principal Component Analysis from DataFrame and return Eigenvalues and Eigenvectors\n",
    "\n",
    "    Args:\n",
    "        df {pandas.DataFrame} -- DataFrame containing numeric columns for PCA\n",
    "        columns {list} -- list with column names for PCA\n",
    "\n",
    "    Returns:\n",
    "        numpy.array, numpy.array -- array of Eigenvalues, array of Eigenvectors\n",
    "    \"\"\"\n",
    "\n",
    "    features = np.array(df[columns]).T\n",
    "    cov_matrix = np.cov(features)\n",
    "    values, vectors = np.linalg.eig(cov_matrix)\n",
    "\n",
    "    return values, vectors\n",
    "\n",
    "def amai_nse(df, group_column_name):\n",
    "    \"\"\"Calculate Socioeconomic Levels (NSE) according to AMAI\n",
    "\n",
    "    Args:\n",
    "        df {pandas.DataFrame} -- DataFrame containing sociodemographic data for analysis at AGEB level\n",
    "        df_nse {pandas.DataFrame} -- DataFrame with percentage of population by NSE and state\n",
    "        state_name {string}: state name\n",
    "\n",
    "    Returns:\n",
    "        pandas.DataFrame -- DataFrame containing NSE for the specified state\n",
    "    \"\"\"\n",
    "    #calculate indexes\n",
    "    df['Idx_PC'] = df['vph_pc'].values / df[['vph_pc','vph_refri','vph_lavad','vph_tv']].max(axis=1)\n",
    "    df['Idx_School'] = df['graproes'] / df['graproes'].max()\n",
    "    df['Idx_PosBas'] = df['p18ym_pb'] / df['p_18ymas']\n",
    "\n",
    "    #remove null in all columns\n",
    "    idx = (df.Idx_PC.isnull())&(df.Idx_School.isnull())&(df.Idx_PosBas.isnull())\n",
    "    df = df[~idx].copy()\n",
    "\n",
    "    #fill missing data\n",
    "    df['Idx_PC'].fillna((df[['Idx_PC','Idx_School','Idx_PosBas']].mean(axis=1)),inplace=True)\n",
    "    df['Idx_School'].fillna((df[['Idx_PC','Idx_School','Idx_PosBas']].mean(axis=1)),inplace=True)\n",
    "    df['Idx_PosBas'].fillna((df[['Idx_PC','Idx_School','Idx_PosBas']].mean(axis=1)),inplace=True)\n",
    "\n",
    "    #pca\n",
    "    values, vectors = pca(df, columns=['Idx_PC','Idx_School','Idx_PosBas'])\n",
    "\n",
    "    #calculate nse index\n",
    "    df['NSE_Idx'] = df.apply (\n",
    "        lambda row: (values[0]*vectors[0,0]*row.loc['Idx_PC']+\n",
    "                    values[0]*vectors[1,0]*row.loc['Idx_School']+\n",
    "                    values[0]*vectors[2,0]*row.loc['Idx_PosBas']), axis=1)\n",
    "\n",
    "    #standarize nse index values\n",
    "    df['NSE_Idx'] = StandardScaler().fit_transform(np.array(df['NSE_Idx']).reshape(-1, 1))\n",
    "\n",
    "    #sort by nse index\n",
    "    df.sort_values('NSE_Idx', inplace=True)\n",
    "\n",
    "    #calculate cumulative population and percentage\n",
    "    df = df.assign(sum=df.pobtot.cumsum())\n",
    "    df['pct_pob'] = df['sum'] / df['sum'].max()\n",
    "\n",
    "    #filter DataFrame\n",
    "    df = df[[group_column_name,'pobtot','Idx_PC','Idx_School',\n",
    "    'Idx_PosBas','NSE_Idx']].copy()\n",
    "\n",
    "    df.columns = df.columns.str.lower()\n",
    "\n",
    "    # df[[c for c in df if c not in ['geometry']] + ['geometry']]\n",
    "\n",
    "    return df"
   ]
  },
  {
   "cell_type": "code",
   "execution_count": 11,
   "id": "9340c781-7905-4251-bde2-9dffc7b2f081",
   "metadata": {},
   "outputs": [
    {
     "name": "stdout",
     "output_type": "stream",
     "text": [
      "(2826, 12)\n"
     ]
    },
    {
     "data": {
      "text/html": [
       "<div>\n",
       "<style scoped>\n",
       "    .dataframe tbody tr th:only-of-type {\n",
       "        vertical-align: middle;\n",
       "    }\n",
       "\n",
       "    .dataframe tbody tr th {\n",
       "        vertical-align: top;\n",
       "    }\n",
       "\n",
       "    .dataframe thead th {\n",
       "        text-align: right;\n",
       "    }\n",
       "</style>\n",
       "<table border=\"1\" class=\"dataframe\">\n",
       "  <thead>\n",
       "    <tr style=\"text-align: right;\">\n",
       "      <th></th>\n",
       "      <th>hex_id_9</th>\n",
       "      <th>geometry</th>\n",
       "      <th>CVEGEO</th>\n",
       "      <th>NOMGEO</th>\n",
       "      <th>city</th>\n",
       "      <th>type</th>\n",
       "      <th>hex_id</th>\n",
       "      <th>pobtot</th>\n",
       "      <th>idx_pc</th>\n",
       "      <th>idx_school</th>\n",
       "      <th>idx_posbas</th>\n",
       "      <th>nse_idx</th>\n",
       "    </tr>\n",
       "  </thead>\n",
       "  <tbody>\n",
       "    <tr>\n",
       "      <th>0</th>\n",
       "      <td>894983d8997ffff</td>\n",
       "      <td>POLYGON ((-100.45238 20.55939, -100.45114 20.5...</td>\n",
       "      <td>22006</td>\n",
       "      <td>Corregidora</td>\n",
       "      <td>Queretaro</td>\n",
       "      <td>urban</td>\n",
       "      <td>894983d8997ffff</td>\n",
       "      <td>1091.49990</td>\n",
       "      <td>0.885090</td>\n",
       "      <td>0.946223</td>\n",
       "      <td>0.929139</td>\n",
       "      <td>1.082073</td>\n",
       "    </tr>\n",
       "    <tr>\n",
       "      <th>1</th>\n",
       "      <td>894983c3697ffff</td>\n",
       "      <td>POLYGON ((-100.47848 20.52605, -100.47723 20.5...</td>\n",
       "      <td>22006</td>\n",
       "      <td>Corregidora</td>\n",
       "      <td>Queretaro</td>\n",
       "      <td>urban</td>\n",
       "      <td>894983c3697ffff</td>\n",
       "      <td>224.09999</td>\n",
       "      <td>0.771654</td>\n",
       "      <td>0.886684</td>\n",
       "      <td>0.867173</td>\n",
       "      <td>0.758296</td>\n",
       "    </tr>\n",
       "  </tbody>\n",
       "</table>\n",
       "</div>"
      ],
      "text/plain": [
       "          hex_id_9                                           geometry CVEGEO  \\\n",
       "0  894983d8997ffff  POLYGON ((-100.45238 20.55939, -100.45114 20.5...  22006   \n",
       "1  894983c3697ffff  POLYGON ((-100.47848 20.52605, -100.47723 20.5...  22006   \n",
       "\n",
       "        NOMGEO       city   type           hex_id      pobtot    idx_pc  \\\n",
       "0  Corregidora  Queretaro  urban  894983d8997ffff  1091.49990  0.885090   \n",
       "1  Corregidora  Queretaro  urban  894983c3697ffff   224.09999  0.771654   \n",
       "\n",
       "   idx_school  idx_posbas   nse_idx  \n",
       "0    0.946223    0.929139  1.082073  \n",
       "1    0.886684    0.867173  0.758296  "
      ]
     },
     "execution_count": 11,
     "metadata": {},
     "output_type": "execute_result"
    }
   ],
   "source": [
    "hex_nse = amai_nse(censo_gdf, 'hex_id')\n",
    "hex_nse = hex_gdf.merge(hex_nse, right_on='hex_id',\n",
    "                        left_on='hex_id_9', how='left')\n",
    "print(hex_nse.shape)\n",
    "hex_nse.head(2)"
   ]
  },
  {
   "cell_type": "code",
   "execution_count": 12,
   "id": "ced52c66-7bc7-4025-a6f4-90b7e168febb",
   "metadata": {},
   "outputs": [
    {
     "data": {
      "text/plain": [
       "<Axes: >"
      ]
     },
     "execution_count": 12,
     "metadata": {},
     "output_type": "execute_result"
    },
    {
     "data": {
      "image/png": "[encoded data removed]",
      "text/plain": [
       "<Figure size 640x480 with 1 Axes>"
      ]
     },
     "metadata": {},
     "output_type": "display_data"
    }
   ],
   "source": [
    "hex_nse.plot('nse_idx')"
   ]
  },
  {
   "cell_type": "markdown",
   "id": "24fe3e16-2556-4c52-b2f4-b164eb0011c2",
   "metadata": {},
   "source": [
    "### Age group"
   ]
  },
  {
   "cell_type": "code",
   "execution_count": 13,
   "id": "ae9c2a20-c193-476c-990b-852387900dbc",
   "metadata": {},
   "outputs": [],
   "source": [
    "censo_gdf.loc[censo_gdf.pobtot==0,'pobtot'] = 1\n",
    "censo_gdf['pct_0_17'] = (censo_gdf['pobtot'] - censo_gdf['p_18ymas']) / censo_gdf['pobtot']\n",
    "censo_gdf['pct_18_59'] = (censo_gdf['p_18ymas'] - censo_gdf['p_60ymas']) / censo_gdf['pobtot']\n",
    "censo_gdf['pct_60_mas'] = censo_gdf['p_60ymas'] / censo_gdf['pobtot']"
   ]
  },
  {
   "cell_type": "markdown",
   "id": "93c95c2e-204b-4e9e-ad37-3124808b2bbe",
   "metadata": {},
   "source": [
    "### Population density"
   ]
  },
  {
   "cell_type": "code",
   "execution_count": 16,
   "id": "ed10b190-ef20-409f-bf33-1260c5193d04",
   "metadata": {},
   "outputs": [],
   "source": [
    "censo_gdf['dens_pob_ha'] = censo_gdf['pobtot'] / (censo_gdf.to_crs(\"EPSG:6372\").area/10000)"
   ]
  },
  {
   "cell_type": "markdown",
   "id": "e14eb3ce-c06a-44a9-b0ff-757caaf55439",
   "metadata": {},
   "source": [
    "## Merge data"
   ]
  },
  {
   "cell_type": "code",
   "execution_count": 18,
   "id": "6aaad950-2a4d-4e87-9aef-ec98d7328b2c",
   "metadata": {},
   "outputs": [
    {
     "name": "stdout",
     "output_type": "stream",
     "text": [
      "(2826, 15)\n"
     ]
    },
    {
     "data": {
      "text/html": [
       "<div>\n",
       "<style scoped>\n",
       "    .dataframe tbody tr th:only-of-type {\n",
       "        vertical-align: middle;\n",
       "    }\n",
       "\n",
       "    .dataframe tbody tr th {\n",
       "        vertical-align: top;\n",
       "    }\n",
       "\n",
       "    .dataframe thead th {\n",
       "        text-align: right;\n",
       "    }\n",
       "</style>\n",
       "<table border=\"1\" class=\"dataframe\">\n",
       "  <thead>\n",
       "    <tr style=\"text-align: right;\">\n",
       "      <th></th>\n",
       "      <th>hex_id_9</th>\n",
       "      <th>geometry</th>\n",
       "      <th>CVEGEO</th>\n",
       "      <th>NOMGEO</th>\n",
       "      <th>city</th>\n",
       "      <th>type</th>\n",
       "      <th>nse_idx</th>\n",
       "      <th>hex_id</th>\n",
       "      <th>graproes</th>\n",
       "      <th>dens_pob_ha</th>\n",
       "      <th>auto_viv</th>\n",
       "      <th>pct_0_17</th>\n",
       "      <th>pct_18_59</th>\n",
       "      <th>pct_60_mas</th>\n",
       "      <th>wgt_imn</th>\n",
       "    </tr>\n",
       "  </thead>\n",
       "  <tbody>\n",
       "    <tr>\n",
       "      <th>0</th>\n",
       "      <td>894983d8997ffff</td>\n",
       "      <td>POLYGON ((-100.45238 20.55939, -100.45114 20.5...</td>\n",
       "      <td>22006</td>\n",
       "      <td>Corregidora</td>\n",
       "      <td>Queretaro</td>\n",
       "      <td>urban</td>\n",
       "      <td>1.082073</td>\n",
       "      <td>894983d8997ffff</td>\n",
       "      <td>14.780002</td>\n",
       "      <td>89.544734</td>\n",
       "      <td>0.905081</td>\n",
       "      <td>0.250115</td>\n",
       "      <td>0.651626</td>\n",
       "      <td>0.098259</td>\n",
       "      <td>0.980891</td>\n",
       "    </tr>\n",
       "    <tr>\n",
       "      <th>1</th>\n",
       "      <td>894983c3697ffff</td>\n",
       "      <td>POLYGON ((-100.47848 20.52605, -100.47723 20.5...</td>\n",
       "      <td>22006</td>\n",
       "      <td>Corregidora</td>\n",
       "      <td>Queretaro</td>\n",
       "      <td>urban</td>\n",
       "      <td>0.758296</td>\n",
       "      <td>894983c3697ffff</td>\n",
       "      <td>13.850000</td>\n",
       "      <td>18.383166</td>\n",
       "      <td>0.871094</td>\n",
       "      <td>0.294511</td>\n",
       "      <td>0.662651</td>\n",
       "      <td>0.042838</td>\n",
       "      <td>0.974732</td>\n",
       "    </tr>\n",
       "  </tbody>\n",
       "</table>\n",
       "</div>"
      ],
      "text/plain": [
       "          hex_id_9                                           geometry CVEGEO  \\\n",
       "0  894983d8997ffff  POLYGON ((-100.45238 20.55939, -100.45114 20.5...  22006   \n",
       "1  894983c3697ffff  POLYGON ((-100.47848 20.52605, -100.47723 20.5...  22006   \n",
       "\n",
       "        NOMGEO       city   type   nse_idx           hex_id   graproes  \\\n",
       "0  Corregidora  Queretaro  urban  1.082073  894983d8997ffff  14.780002   \n",
       "1  Corregidora  Queretaro  urban  0.758296  894983c3697ffff  13.850000   \n",
       "\n",
       "   dens_pob_ha  auto_viv  pct_0_17  pct_18_59  pct_60_mas   wgt_imn  \n",
       "0    89.544734  0.905081  0.250115   0.651626    0.098259  0.980891  \n",
       "1    18.383166  0.871094  0.294511   0.662651    0.042838  0.974732  "
      ]
     },
     "execution_count": 18,
     "metadata": {},
     "output_type": "execute_result"
    }
   ],
   "source": [
    "hex_socio = hex_gdf.merge(hex_nse[['hex_id_9','nse_idx']], on='hex_id_9', how='left')\n",
    "# hex_socio = hex_socio.merge(del_hex[['hex_id_9','delitos_count','del_hab_100']], on='hex_id_9', how='left')\n",
    "hex_socio = hex_socio.merge(censo_gdf[['hex_id','graproes','dens_pob_ha','auto_viv',\n",
    "                                      'pct_0_17','pct_18_59','pct_60_mas']], left_on='hex_id_9',\n",
    "                            right_on='hex_id', how='left')\n",
    "hex_socio = hex_socio.merge(hex_marg[['hex_id_9','wgt_imn']], on='hex_id_9', how='left')\n",
    "hex_socio = hex_socio.fillna(0)\n",
    "print(hex_socio.shape)\n",
    "hex_socio.head(2)"
   ]
  },
  {
   "cell_type": "code",
   "execution_count": 20,
   "id": "512f0d58-0f85-41e6-9645-b5841ea96a60",
   "metadata": {},
   "outputs": [],
   "source": [
    "hex_socio.to_file('../../../data/processed/hex_sociodemographic.geojson')"
   ]
  },
  {
   "cell_type": "code",
   "execution_count": null,
   "id": "8c9171bf-9472-4753-a3c5-41a91637e172",
   "metadata": {},
   "outputs": [],
   "source": []
  }
 ],
 "metadata": {
  "kernelspec": {
   "display_name": "Python 3 (ipykernel)",
   "language": "python",
   "name": "python3"
  },
  "language_info": {
   "codemirror_mode": {
    "name": "ipython",
    "version": 3
   },
   "file_extension": ".py",
   "mimetype": "text/x-python",
   "name": "python",
   "nbconvert_exporter": "python",
   "pygments_lexer": "ipython3",
   "version": "3.13.2"
  }
 },
 "nbformat": 4,
 "nbformat_minor": 5
}
