{
 "cells": [
  {
   "cell_type": "code",
   "execution_count": 1,
   "id": "a47e89be-2780-4a62-8d0f-3f411b6a89cd",
   "metadata": {},
   "outputs": [],
   "source": [
    "import os\n",
    "import sys\n",
    "\n",
    "import pandas as pd\n",
    "import geopandas as gpd\n",
    "import numpy as np\n",
    "\n",
    "import math\n",
    "\n",
    "import matplotlib.pyplot as plt\n",
    "import seaborn as sns\n",
    "\n",
    "import warnings\n",
    "warnings.simplefilter(action='ignore', category=FutureWarning)\n",
    "\n",
    "module_path = os.path.abspath(os.path.join('../'))\n",
    "if module_path not in sys.path:\n",
    "    sys.path.append(module_path)\n",
    "    import aup\n",
    "else:\n",
    "    import aup"
   ]
  },
  {
   "cell_type": "code",
   "execution_count": 2,
   "id": "20a8935f-3195-466b-a8e4-03503911ac30",
   "metadata": {},
   "outputs": [
    {
     "name": "stdout",
     "output_type": "stream",
     "text": [
      "(2826, 6)\n"
     ]
    },
    {
     "data": {
      "text/html": [
       "<div>\n",
       "<style scoped>\n",
       "    .dataframe tbody tr th:only-of-type {\n",
       "        vertical-align: middle;\n",
       "    }\n",
       "\n",
       "    .dataframe tbody tr th {\n",
       "        vertical-align: top;\n",
       "    }\n",
       "\n",
       "    .dataframe thead th {\n",
       "        text-align: right;\n",
       "    }\n",
       "</style>\n",
       "<table border=\"1\" class=\"dataframe\">\n",
       "  <thead>\n",
       "    <tr style=\"text-align: right;\">\n",
       "      <th></th>\n",
       "      <th>hex_id_9</th>\n",
       "      <th>geometry</th>\n",
       "      <th>CVEGEO</th>\n",
       "      <th>NOMGEO</th>\n",
       "      <th>city</th>\n",
       "      <th>type</th>\n",
       "    </tr>\n",
       "  </thead>\n",
       "  <tbody>\n",
       "    <tr>\n",
       "      <th>0</th>\n",
       "      <td>894983d8997ffff</td>\n",
       "      <td>POLYGON ((-100.45238 20.55939, -100.45114 20.5...</td>\n",
       "      <td>22006</td>\n",
       "      <td>Corregidora</td>\n",
       "      <td>Queretaro</td>\n",
       "      <td>urban</td>\n",
       "    </tr>\n",
       "    <tr>\n",
       "      <th>1</th>\n",
       "      <td>894983c3697ffff</td>\n",
       "      <td>POLYGON ((-100.47848 20.52605, -100.47723 20.5...</td>\n",
       "      <td>22006</td>\n",
       "      <td>Corregidora</td>\n",
       "      <td>Queretaro</td>\n",
       "      <td>urban</td>\n",
       "    </tr>\n",
       "  </tbody>\n",
       "</table>\n",
       "</div>"
      ],
      "text/plain": [
       "          hex_id_9                                           geometry CVEGEO  \\\n",
       "0  894983d8997ffff  POLYGON ((-100.45238 20.55939, -100.45114 20.5...  22006   \n",
       "1  894983c3697ffff  POLYGON ((-100.47848 20.52605, -100.47723 20.5...  22006   \n",
       "\n",
       "        NOMGEO       city   type  \n",
       "0  Corregidora  Queretaro  urban  \n",
       "1  Corregidora  Queretaro  urban  "
      ]
     },
     "execution_count": 2,
     "metadata": {},
     "output_type": "execute_result"
    }
   ],
   "source": [
    "schema = 'hexgrid'\n",
    "folder = 'hexgrid_9_city_2020'\n",
    "city = 'Queretaro'\n",
    "type_area = 'urban'\n",
    "\n",
    "query = f\"SELECT * FROM {schema}.{folder} WHERE \\\"city\\\" = \\'{city}\\' AND \\\"type\\\" = \\'{type_area}\\'\"\n",
    "\n",
    "hex_gdf = aup.gdf_from_query(query)\n",
    "print(hex_gdf.shape)\n",
    "hex_gdf.head(2)"
   ]
  },
  {
   "cell_type": "markdown",
   "id": "31a0227e-3a8d-462b-823e-9e9f81233c17",
   "metadata": {},
   "source": [
    "### Census data"
   ]
  },
  {
   "cell_type": "code",
   "execution_count": 4,
   "id": "085442a5-13b1-42db-bc2b-a2ef9c380872",
   "metadata": {
    "scrolled": true
   },
   "outputs": [
    {
     "name": "stdout",
     "output_type": "stream",
     "text": [
      "(2826, 2)\n"
     ]
    },
    {
     "data": {
      "text/html": [
       "<div>\n",
       "<style scoped>\n",
       "    .dataframe tbody tr th:only-of-type {\n",
       "        vertical-align: middle;\n",
       "    }\n",
       "\n",
       "    .dataframe tbody tr th {\n",
       "        vertical-align: top;\n",
       "    }\n",
       "\n",
       "    .dataframe thead th {\n",
       "        text-align: right;\n",
       "    }\n",
       "</style>\n",
       "<table border=\"1\" class=\"dataframe\">\n",
       "  <thead>\n",
       "    <tr style=\"text-align: right;\">\n",
       "      <th></th>\n",
       "      <th>hex_id</th>\n",
       "      <th>pobtot</th>\n",
       "    </tr>\n",
       "  </thead>\n",
       "  <tbody>\n",
       "    <tr>\n",
       "      <th>0</th>\n",
       "      <td>894983d8997ffff</td>\n",
       "      <td>960.96387</td>\n",
       "    </tr>\n",
       "    <tr>\n",
       "      <th>1</th>\n",
       "      <td>894983c3697ffff</td>\n",
       "      <td>252.40027</td>\n",
       "    </tr>\n",
       "  </tbody>\n",
       "</table>\n",
       "</div>"
      ],
      "text/plain": [
       "            hex_id     pobtot\n",
       "0  894983d8997ffff  960.96387\n",
       "1  894983c3697ffff  252.40027"
      ]
     },
     "execution_count": 4,
     "metadata": {},
     "output_type": "execute_result"
    }
   ],
   "source": [
    "schema = 'sociodemografico'\n",
    "folder = 'pobcenso_inegi_20_mzaageb_hex'\n",
    "\n",
    "query = f\"SELECT hex_id,pobtot FROM {schema}.{folder} WHERE  \\\"hex_id\\\" IN {str(tuple(list(hex_gdf.hex_id_9.unique())))}\"\n",
    "censo_gdf = aup.df_from_query(query)\n",
    "\n",
    "print(censo_gdf.shape)\n",
    "censo_gdf.head(2)"
   ]
  },
  {
   "cell_type": "markdown",
   "id": "00580d1f-7783-477a-9b51-55c24af087f9",
   "metadata": {},
   "source": [
    "### Nodes, edges, graphs"
   ]
  },
  {
   "cell_type": "code",
   "execution_count": 5,
   "id": "6182fb6f-b9d8-414d-8932-acd923e20e7c",
   "metadata": {},
   "outputs": [],
   "source": [
    "hex_gdf = hex_gdf.to_crs(\"EPSG:4326\")\n",
    "\n",
    "G,nodes,edges = aup.graph_from_hippo(hex_gdf, schema='osmnx', \n",
    "                    edges_folder='edges_speed_23_line', nodes_folder='nodes_osmnx_23_point')"
   ]
  },
  {
   "cell_type": "markdown",
   "id": "8a394cac-859b-4179-83ee-29da551abde7",
   "metadata": {},
   "source": [
    "### NDVI"
   ]
  },
  {
   "cell_type": "code",
   "execution_count": 9,
   "id": "1e8c2901-efa0-4f0e-a7f3-402004d04159",
   "metadata": {},
   "outputs": [
    {
     "name": "stdout",
     "output_type": "stream",
     "text": [
      "(2826, 2)\n"
     ]
    },
    {
     "data": {
      "text/html": [
       "<div>\n",
       "<style scoped>\n",
       "    .dataframe tbody tr th:only-of-type {\n",
       "        vertical-align: middle;\n",
       "    }\n",
       "\n",
       "    .dataframe tbody tr th {\n",
       "        vertical-align: top;\n",
       "    }\n",
       "\n",
       "    .dataframe thead th {\n",
       "        text-align: right;\n",
       "    }\n",
       "</style>\n",
       "<table border=\"1\" class=\"dataframe\">\n",
       "  <thead>\n",
       "    <tr style=\"text-align: right;\">\n",
       "      <th></th>\n",
       "      <th>hex_id</th>\n",
       "      <th>ndvi_mean</th>\n",
       "    </tr>\n",
       "  </thead>\n",
       "  <tbody>\n",
       "    <tr>\n",
       "      <th>0</th>\n",
       "      <td>894983d8997ffff</td>\n",
       "      <td>0.173743</td>\n",
       "    </tr>\n",
       "    <tr>\n",
       "      <th>1</th>\n",
       "      <td>894983d897bffff</td>\n",
       "      <td>0.320002</td>\n",
       "    </tr>\n",
       "  </tbody>\n",
       "</table>\n",
       "</div>"
      ],
      "text/plain": [
       "            hex_id  ndvi_mean\n",
       "0  894983d8997ffff   0.173743\n",
       "1  894983d897bffff   0.320002"
      ]
     },
     "execution_count": 9,
     "metadata": {},
     "output_type": "execute_result"
    }
   ],
   "source": [
    "schema = 'raster_analysis'\n",
    "folder = 'ndvi_analysis_hex'\n",
    "\n",
    "query = f\"SELECT hex_id,ndvi_mean FROM {schema}.{folder} WHERE  \\\"hex_id\\\" IN {str(tuple(list(hex_gdf.hex_id_9.unique())))}\"\n",
    "ndvi_df = aup.df_from_query(query)\n",
    "\n",
    "print(ndvi_df.shape)\n",
    "ndvi_df.head(2)"
   ]
  },
  {
   "cell_type": "markdown",
   "id": "e088fbd5-a253-433e-b1bf-93bda13bed9b",
   "metadata": {},
   "source": [
    "Hexágonos de resolución 11 filtrando aquellos con NDVI > 0.2. Calcular área. Extraer centroides. Intersección con hexágonos. Sumar área. Dividir entre población."
   ]
  },
  {
   "cell_type": "markdown",
   "id": "5fd2b939-78db-4ede-8708-700de1ee7c40",
   "metadata": {},
   "source": [
    "### Heat islands"
   ]
  },
  {
   "cell_type": "code",
   "execution_count": 18,
   "id": "e0041e08-614e-40be-82b6-32d4289384c0",
   "metadata": {
    "scrolled": true
   },
   "outputs": [
    {
     "name": "stdout",
     "output_type": "stream",
     "text": [
      "(2826, 2)\n"
     ]
    },
    {
     "data": {
      "text/html": [
       "<div>\n",
       "<style scoped>\n",
       "    .dataframe tbody tr th:only-of-type {\n",
       "        vertical-align: middle;\n",
       "    }\n",
       "\n",
       "    .dataframe tbody tr th {\n",
       "        vertical-align: top;\n",
       "    }\n",
       "\n",
       "    .dataframe thead th {\n",
       "        text-align: right;\n",
       "    }\n",
       "</style>\n",
       "<table border=\"1\" class=\"dataframe\">\n",
       "  <thead>\n",
       "    <tr style=\"text-align: right;\">\n",
       "      <th></th>\n",
       "      <th>hex_id</th>\n",
       "      <th>temperature_mean</th>\n",
       "    </tr>\n",
       "  </thead>\n",
       "  <tbody>\n",
       "    <tr>\n",
       "      <th>0</th>\n",
       "      <td>894983d8997ffff</td>\n",
       "      <td>0.190589</td>\n",
       "    </tr>\n",
       "    <tr>\n",
       "      <th>1</th>\n",
       "      <td>894983c3697ffff</td>\n",
       "      <td>2.035772</td>\n",
       "    </tr>\n",
       "  </tbody>\n",
       "</table>\n",
       "</div>"
      ],
      "text/plain": [
       "            hex_id  temperature_mean\n",
       "0  894983d8997ffff          0.190589\n",
       "1  894983c3697ffff          2.035772"
      ]
     },
     "execution_count": 18,
     "metadata": {},
     "output_type": "execute_result"
    }
   ],
   "source": [
    "schema = 'raster_analysis'\n",
    "folder = 'temperature_analysis_hex'\n",
    "\n",
    "query = f\"SELECT hex_id,temperature_mean FROM {schema}.{folder} WHERE  \\\"hex_id\\\" IN {str(tuple(list(hex_gdf.hex_id_9.unique())))}\"\n",
    "temp_df = aup.df_from_query(query)\n",
    "temp_df['temperature_mean'] = temp_df['temperature_mean'] - temp_df['temperature_mean'].mean()\n",
    "\n",
    "print(temp_df.shape)\n",
    "temp_df.head(2)"
   ]
  },
  {
   "cell_type": "markdown",
   "id": "8c034b3c-2b33-44fd-bef4-95dd9907b156",
   "metadata": {},
   "source": [
    "### NDMI"
   ]
  },
  {
   "cell_type": "code",
   "execution_count": 23,
   "id": "5d47d055-43a2-4055-8a54-4a330caf7efa",
   "metadata": {},
   "outputs": [
    {
     "name": "stdout",
     "output_type": "stream",
     "text": [
      "(2826, 2)\n"
     ]
    },
    {
     "data": {
      "text/html": [
       "<div>\n",
       "<style scoped>\n",
       "    .dataframe tbody tr th:only-of-type {\n",
       "        vertical-align: middle;\n",
       "    }\n",
       "\n",
       "    .dataframe tbody tr th {\n",
       "        vertical-align: top;\n",
       "    }\n",
       "\n",
       "    .dataframe thead th {\n",
       "        text-align: right;\n",
       "    }\n",
       "</style>\n",
       "<table border=\"1\" class=\"dataframe\">\n",
       "  <thead>\n",
       "    <tr style=\"text-align: right;\">\n",
       "      <th></th>\n",
       "      <th>hex_id</th>\n",
       "      <th>ndmi_diff</th>\n",
       "    </tr>\n",
       "  </thead>\n",
       "  <tbody>\n",
       "    <tr>\n",
       "      <th>0</th>\n",
       "      <td>894983d8997ffff</td>\n",
       "      <td>0.067874</td>\n",
       "    </tr>\n",
       "    <tr>\n",
       "      <th>1</th>\n",
       "      <td>894983c3697ffff</td>\n",
       "      <td>0.174133</td>\n",
       "    </tr>\n",
       "  </tbody>\n",
       "</table>\n",
       "</div>"
      ],
      "text/plain": [
       "            hex_id  ndmi_diff\n",
       "0  894983d8997ffff   0.067874\n",
       "1  894983c3697ffff   0.174133"
      ]
     },
     "execution_count": 23,
     "metadata": {},
     "output_type": "execute_result"
    }
   ],
   "source": [
    "schema = 'raster_analysis'\n",
    "folder = 'ndmi_analysis_hex'\n",
    "\n",
    "query = f\"SELECT hex_id,ndmi_diff FROM {schema}.{folder} WHERE  \\\"hex_id\\\" IN {str(tuple(list(hex_gdf.hex_id_9.unique())))}\"\n",
    "ndmi_df = aup.df_from_query(query)\n",
    "\n",
    "print(ndmi_df.shape)\n",
    "ndmi_df.head(2)"
   ]
  },
  {
   "cell_type": "markdown",
   "id": "62c21efb-dcff-453f-8328-9de7a141e0d3",
   "metadata": {
    "jp-MarkdownHeadingCollapsed": true
   },
   "source": [
    "### Green spaces point"
   ]
  },
  {
   "cell_type": "code",
   "execution_count": 6,
   "id": "3e89182d-8ad5-4c3e-9e8b-fcc5a380998f",
   "metadata": {},
   "outputs": [
    {
     "name": "stdout",
     "output_type": "stream",
     "text": [
      "(309845, 15)\n"
     ]
    },
    {
     "data": {
      "text/html": [
       "<div>\n",
       "<style scoped>\n",
       "    .dataframe tbody tr th:only-of-type {\n",
       "        vertical-align: middle;\n",
       "    }\n",
       "\n",
       "    .dataframe tbody tr th {\n",
       "        vertical-align: top;\n",
       "    }\n",
       "\n",
       "    .dataframe thead th {\n",
       "        text-align: right;\n",
       "    }\n",
       "</style>\n",
       "<table border=\"1\" class=\"dataframe\">\n",
       "  <thead>\n",
       "    <tr style=\"text-align: right;\">\n",
       "      <th></th>\n",
       "      <th>Nombre_del</th>\n",
       "      <th>Estado_del</th>\n",
       "      <th>Nombre_de0</th>\n",
       "      <th>ID</th>\n",
       "      <th>Tipo_de_es</th>\n",
       "      <th>Superficie</th>\n",
       "      <th>layer</th>\n",
       "      <th>path</th>\n",
       "      <th>vertex_index</th>\n",
       "      <th>vertex_part</th>\n",
       "      <th>vertex_part_ring</th>\n",
       "      <th>vertex_part_index</th>\n",
       "      <th>distance</th>\n",
       "      <th>angle</th>\n",
       "      <th>geometry</th>\n",
       "    </tr>\n",
       "  </thead>\n",
       "  <tbody>\n",
       "    <tr>\n",
       "      <th>0</th>\n",
       "      <td>Zapopan</td>\n",
       "      <td>�reas de Protecci�n a acu�feros</td>\n",
       "      <td>Bosque Pedag�gico del Agua</td>\n",
       "      <td>1</td>\n",
       "      <td>None</td>\n",
       "      <td>None</td>\n",
       "      <td>vwBosque_urbano_POTmet_sm</td>\n",
       "      <td>/home/edgaregurrola/Repos/freelance/gdl10k/dat...</td>\n",
       "      <td>0</td>\n",
       "      <td>0</td>\n",
       "      <td>0</td>\n",
       "      <td>0</td>\n",
       "      <td>0.000000</td>\n",
       "      <td>246.816795</td>\n",
       "      <td>POINT (654289.910 2262353.862)</td>\n",
       "    </tr>\n",
       "    <tr>\n",
       "      <th>1</th>\n",
       "      <td>Zapopan</td>\n",
       "      <td>�reas de Protecci�n a acu�feros</td>\n",
       "      <td>Bosque Pedag�gico del Agua</td>\n",
       "      <td>1</td>\n",
       "      <td>None</td>\n",
       "      <td>None</td>\n",
       "      <td>vwBosque_urbano_POTmet_sm</td>\n",
       "      <td>/home/edgaregurrola/Repos/freelance/gdl10k/dat...</td>\n",
       "      <td>1</td>\n",
       "      <td>0</td>\n",
       "      <td>0</td>\n",
       "      <td>1</td>\n",
       "      <td>3.101983</td>\n",
       "      <td>264.661886</td>\n",
       "      <td>POINT (654286.904 2262353.098)</td>\n",
       "    </tr>\n",
       "  </tbody>\n",
       "</table>\n",
       "</div>"
      ],
      "text/plain": [
       "  Nombre_del                       Estado_del                  Nombre_de0 ID  \\\n",
       "0    Zapopan  �reas de Protecci�n a acu�feros  Bosque Pedag�gico del Agua  1   \n",
       "1    Zapopan  �reas de Protecci�n a acu�feros  Bosque Pedag�gico del Agua  1   \n",
       "\n",
       "  Tipo_de_es Superficie                      layer  \\\n",
       "0       None       None  vwBosque_urbano_POTmet_sm   \n",
       "1       None       None  vwBosque_urbano_POTmet_sm   \n",
       "\n",
       "                                                path  vertex_index  \\\n",
       "0  /home/edgaregurrola/Repos/freelance/gdl10k/dat...             0   \n",
       "1  /home/edgaregurrola/Repos/freelance/gdl10k/dat...             1   \n",
       "\n",
       "   vertex_part  vertex_part_ring  vertex_part_index  distance       angle  \\\n",
       "0            0                 0                  0  0.000000  246.816795   \n",
       "1            0                 0                  1  3.101983  264.661886   \n",
       "\n",
       "                         geometry  \n",
       "0  POINT (654289.910 2262353.862)  \n",
       "1  POINT (654286.904 2262353.098)  "
      ]
     },
     "execution_count": 6,
     "metadata": {},
     "output_type": "execute_result"
    }
   ],
   "source": [
    "green_point = gpd.read_file('../data/processed/espacios_publicos_point_amg.geojson')\n",
    "print(green_point.shape)\n",
    "green_point.head(2)"
   ]
  },
  {
   "cell_type": "markdown",
   "id": "335c529c-d391-42aa-a55d-6c611087b9ed",
   "metadata": {
    "jp-MarkdownHeadingCollapsed": true
   },
   "source": [
    "### Green spaces area"
   ]
  },
  {
   "cell_type": "code",
   "execution_count": 7,
   "id": "21b7d680-b659-4cf8-ac24-b7ffb3d5fc3c",
   "metadata": {},
   "outputs": [
    {
     "name": "stdout",
     "output_type": "stream",
     "text": [
      "(4271, 9)\n"
     ]
    },
    {
     "data": {
      "text/html": [
       "<div>\n",
       "<style scoped>\n",
       "    .dataframe tbody tr th:only-of-type {\n",
       "        vertical-align: middle;\n",
       "    }\n",
       "\n",
       "    .dataframe tbody tr th {\n",
       "        vertical-align: top;\n",
       "    }\n",
       "\n",
       "    .dataframe thead th {\n",
       "        text-align: right;\n",
       "    }\n",
       "</style>\n",
       "<table border=\"1\" class=\"dataframe\">\n",
       "  <thead>\n",
       "    <tr style=\"text-align: right;\">\n",
       "      <th></th>\n",
       "      <th>Nombre_del</th>\n",
       "      <th>Estado_del</th>\n",
       "      <th>Nombre_de0</th>\n",
       "      <th>ID</th>\n",
       "      <th>Tipo_de_es</th>\n",
       "      <th>Superficie</th>\n",
       "      <th>layer</th>\n",
       "      <th>path</th>\n",
       "      <th>geometry</th>\n",
       "    </tr>\n",
       "  </thead>\n",
       "  <tbody>\n",
       "    <tr>\n",
       "      <th>0</th>\n",
       "      <td>Zapopan</td>\n",
       "      <td>�reas de Protecci�n a acu�feros</td>\n",
       "      <td>Bosque Pedag�gico del Agua</td>\n",
       "      <td>1</td>\n",
       "      <td>None</td>\n",
       "      <td>None</td>\n",
       "      <td>vwBosque_urbano_POTmet_sm</td>\n",
       "      <td>/home/edgaregurrola/Repos/freelance/gdl10k/dat...</td>\n",
       "      <td>POLYGON ((654289.910 2262353.862, 654286.904 2...</td>\n",
       "    </tr>\n",
       "    <tr>\n",
       "      <th>1</th>\n",
       "      <td>Zapopan</td>\n",
       "      <td>�reas de Protecci�n a acu�feros</td>\n",
       "      <td>Bosque Pedag�gico del Agua</td>\n",
       "      <td>1</td>\n",
       "      <td>None</td>\n",
       "      <td>None</td>\n",
       "      <td>vwBosque_urbano_POTmet_sm</td>\n",
       "      <td>/home/edgaregurrola/Repos/freelance/gdl10k/dat...</td>\n",
       "      <td>POLYGON ((654650.160 2262883.428, 654642.771 2...</td>\n",
       "    </tr>\n",
       "  </tbody>\n",
       "</table>\n",
       "</div>"
      ],
      "text/plain": [
       "  Nombre_del                       Estado_del                  Nombre_de0 ID  \\\n",
       "0    Zapopan  �reas de Protecci�n a acu�feros  Bosque Pedag�gico del Agua  1   \n",
       "1    Zapopan  �reas de Protecci�n a acu�feros  Bosque Pedag�gico del Agua  1   \n",
       "\n",
       "  Tipo_de_es Superficie                      layer  \\\n",
       "0       None       None  vwBosque_urbano_POTmet_sm   \n",
       "1       None       None  vwBosque_urbano_POTmet_sm   \n",
       "\n",
       "                                                path  \\\n",
       "0  /home/edgaregurrola/Repos/freelance/gdl10k/dat...   \n",
       "1  /home/edgaregurrola/Repos/freelance/gdl10k/dat...   \n",
       "\n",
       "                                            geometry  \n",
       "0  POLYGON ((654289.910 2262353.862, 654286.904 2...  \n",
       "1  POLYGON ((654650.160 2262883.428, 654642.771 2...  "
      ]
     },
     "execution_count": 7,
     "metadata": {},
     "output_type": "execute_result"
    }
   ],
   "source": [
    "green_area = gpd.read_file('../data/processed/espacios_publicos_amg.geojson')\n",
    "print(green_area.shape)\n",
    "green_area.head(2)"
   ]
  },
  {
   "cell_type": "markdown",
   "id": "05c20d6b-3376-47b6-883c-118b94204ddf",
   "metadata": {},
   "source": [
    "## Average NDVI"
   ]
  },
  {
   "cell_type": "code",
   "execution_count": 11,
   "id": "06c9af21-515b-454b-b78f-0ffda1a6a99b",
   "metadata": {},
   "outputs": [],
   "source": [
    "# hex_gdf = hex_gdf.to_crs(\"EPSG:32613\")\n",
    "# ndvi_hex = ndvi_gdf.overlay(hex_gdf, how='intersection')"
   ]
  },
  {
   "cell_type": "code",
   "execution_count": 12,
   "id": "ebd82699-1ac8-4bd3-9bc1-c05aa5d03061",
   "metadata": {},
   "outputs": [
    {
     "data": {
      "text/plain": [
       "\"# calculate length\\nndvi_hex['length'] = ndvi_hex.length\\n\\n# calculate total length by hexagon\\nndvi_len = ndvi_hex[['hex_id_9','length']].groupby(['hex_id_9']).sum()\\nndvi_len = ndvi_len.reset_index()\\nndvi_len = ndvi_len.rename(columns={'length':'length_tot'})\\n\\n# calculate percentage\\nndvi_hex = ndvi_hex.merge(ndvi_len, on='hex_id_9')\\nndvi_hex['pct_length'] = ndvi_hex['length'] / ndvi_hex['length_tot']\\n\\n# calculate weight\\nndvi_hex['wgt_ndvi'] = ndvi_hex['pct_length'] * ndvi_hex['__mean']\\n\\n# calculate weighted mean\\nndvi_hex = ndvi_hex[['hex_id_9','wgt_ndvi']].groupby(['hex_id_9']).sum()\\nndvi_hex = ndvi_hex.reset_index()\\n\\nprint(ndvi_hex.shape)\\nndvi_hex.head(2)\""
      ]
     },
     "execution_count": 12,
     "metadata": {},
     "output_type": "execute_result"
    }
   ],
   "source": [
    "'''# calculate length\n",
    "ndvi_hex['length'] = ndvi_hex.length\n",
    "\n",
    "# calculate total length by hexagon\n",
    "ndvi_len = ndvi_hex[['hex_id_9','length']].groupby(['hex_id_9']).sum()\n",
    "ndvi_len = ndvi_len.reset_index()\n",
    "ndvi_len = ndvi_len.rename(columns={'length':'length_tot'})\n",
    "\n",
    "# calculate percentage\n",
    "ndvi_hex = ndvi_hex.merge(ndvi_len, on='hex_id_9')\n",
    "ndvi_hex['pct_length'] = ndvi_hex['length'] / ndvi_hex['length_tot']\n",
    "\n",
    "# calculate weight\n",
    "ndvi_hex['wgt_ndvi'] = ndvi_hex['pct_length'] * ndvi_hex['__mean']\n",
    "\n",
    "# calculate weighted mean\n",
    "ndvi_hex = ndvi_hex[['hex_id_9','wgt_ndvi']].groupby(['hex_id_9']).sum()\n",
    "ndvi_hex = ndvi_hex.reset_index()\n",
    "\n",
    "print(ndvi_hex.shape)\n",
    "ndvi_hex.head(2)'''"
   ]
  },
  {
   "cell_type": "code",
   "execution_count": 7,
   "id": "3e0bb1f1-9c2b-4ac1-a3eb-6fc56fb785d9",
   "metadata": {},
   "outputs": [
    {
     "name": "stdout",
     "output_type": "stream",
     "text": [
      "(2826, 8)\n"
     ]
    },
    {
     "data": {
      "text/html": [
       "<div>\n",
       "<style scoped>\n",
       "    .dataframe tbody tr th:only-of-type {\n",
       "        vertical-align: middle;\n",
       "    }\n",
       "\n",
       "    .dataframe tbody tr th {\n",
       "        vertical-align: top;\n",
       "    }\n",
       "\n",
       "    .dataframe thead th {\n",
       "        text-align: right;\n",
       "    }\n",
       "</style>\n",
       "<table border=\"1\" class=\"dataframe\">\n",
       "  <thead>\n",
       "    <tr style=\"text-align: right;\">\n",
       "      <th></th>\n",
       "      <th>hex_id_9</th>\n",
       "      <th>geometry</th>\n",
       "      <th>CVEGEO</th>\n",
       "      <th>NOMGEO</th>\n",
       "      <th>city</th>\n",
       "      <th>type</th>\n",
       "      <th>hex_id</th>\n",
       "      <th>ndvi_mean</th>\n",
       "    </tr>\n",
       "  </thead>\n",
       "  <tbody>\n",
       "    <tr>\n",
       "      <th>0</th>\n",
       "      <td>894983d8997ffff</td>\n",
       "      <td>POLYGON ((-100.45238 20.55939, -100.45114 20.5...</td>\n",
       "      <td>22006</td>\n",
       "      <td>Corregidora</td>\n",
       "      <td>Queretaro</td>\n",
       "      <td>urban</td>\n",
       "      <td>894983d8997ffff</td>\n",
       "      <td>0.173743</td>\n",
       "    </tr>\n",
       "    <tr>\n",
       "      <th>1</th>\n",
       "      <td>894983c3697ffff</td>\n",
       "      <td>POLYGON ((-100.47848 20.52605, -100.47723 20.5...</td>\n",
       "      <td>22006</td>\n",
       "      <td>Corregidora</td>\n",
       "      <td>Queretaro</td>\n",
       "      <td>urban</td>\n",
       "      <td>894983c3697ffff</td>\n",
       "      <td>0.179758</td>\n",
       "    </tr>\n",
       "  </tbody>\n",
       "</table>\n",
       "</div>"
      ],
      "text/plain": [
       "          hex_id_9                                           geometry CVEGEO  \\\n",
       "0  894983d8997ffff  POLYGON ((-100.45238 20.55939, -100.45114 20.5...  22006   \n",
       "1  894983c3697ffff  POLYGON ((-100.47848 20.52605, -100.47723 20.5...  22006   \n",
       "\n",
       "        NOMGEO       city   type           hex_id  ndvi_mean  \n",
       "0  Corregidora  Queretaro  urban  894983d8997ffff   0.173743  \n",
       "1  Corregidora  Queretaro  urban  894983c3697ffff   0.179758  "
      ]
     },
     "execution_count": 7,
     "metadata": {},
     "output_type": "execute_result"
    }
   ],
   "source": [
    "hex_ndvi = hex_gdf.merge(ndvi_gdf[['hex_id','ndvi_mean']],\n",
    "                         left_on='hex_id_9', right_on='hex_id', how='left')\n",
    "print(hex_ndvi.shape)\n",
    "hex_ndvi.head(2)"
   ]
  },
  {
   "cell_type": "code",
   "execution_count": 8,
   "id": "91a49a6f-fee3-4cde-af70-18008a888a61",
   "metadata": {},
   "outputs": [
    {
     "data": {
      "text/plain": [
       "<Axes: >"
      ]
     },
     "execution_count": 8,
     "metadata": {},
     "output_type": "execute_result"
    },
    {
     "data": {
      "image/png": "[encoded data removed]",
      "text/plain": [
       "<Figure size 640x480 with 1 Axes>"
      ]
     },
     "metadata": {},
     "output_type": "display_data"
    }
   ],
   "source": [
    "hex_ndvi.plot('ndvi_mean')"
   ]
  },
  {
   "cell_type": "markdown",
   "id": "6c1fd37a-ba15-47c9-af20-fcc943e062c6",
   "metadata": {
    "jp-MarkdownHeadingCollapsed": true
   },
   "source": [
    "## m² per person"
   ]
  },
  {
   "cell_type": "markdown",
   "id": "fa41aca5-1029-4da5-bf2f-6f98cfcc2b30",
   "metadata": {},
   "source": [
    "### NDVI res 11"
   ]
  },
  {
   "cell_type": "code",
   "execution_count": 8,
   "id": "de54860b-d812-4cb6-ade1-3335de328563",
   "metadata": {},
   "outputs": [
    {
     "name": "stdout",
     "output_type": "stream",
     "text": [
      "(188137, 17)\n"
     ]
    },
    {
     "data": {
      "text/html": [
       "<div>\n",
       "<style scoped>\n",
       "    .dataframe tbody tr th:only-of-type {\n",
       "        vertical-align: middle;\n",
       "    }\n",
       "\n",
       "    .dataframe tbody tr th {\n",
       "        vertical-align: top;\n",
       "    }\n",
       "\n",
       "    .dataframe thead th {\n",
       "        text-align: right;\n",
       "    }\n",
       "</style>\n",
       "<table border=\"1\" class=\"dataframe\">\n",
       "  <thead>\n",
       "    <tr style=\"text-align: right;\">\n",
       "      <th></th>\n",
       "      <th>hex_id</th>\n",
       "      <th>res</th>\n",
       "      <th>ndvi_mean</th>\n",
       "      <th>ndvi_std</th>\n",
       "      <th>ndvi_median</th>\n",
       "      <th>ndvi_max</th>\n",
       "      <th>ndvi_min</th>\n",
       "      <th>ndvi_diff</th>\n",
       "      <th>ndvi_tend</th>\n",
       "      <th>ndvi_2018</th>\n",
       "      <th>ndvi_2019</th>\n",
       "      <th>ndvi_2020</th>\n",
       "      <th>ndvi_2021</th>\n",
       "      <th>ndvi_2022</th>\n",
       "      <th>ndvi_2023</th>\n",
       "      <th>city</th>\n",
       "      <th>geometry</th>\n",
       "    </tr>\n",
       "  </thead>\n",
       "  <tbody>\n",
       "    <tr>\n",
       "      <th>0</th>\n",
       "      <td>8b4983d8dad2fff</td>\n",
       "      <td>11</td>\n",
       "      <td>0.442706</td>\n",
       "      <td>0.136804</td>\n",
       "      <td>0.414820</td>\n",
       "      <td>0.614522</td>\n",
       "      <td>0.310956</td>\n",
       "      <td>0.303566</td>\n",
       "      <td>-0.002969</td>\n",
       "      <td>0.511517</td>\n",
       "      <td>0.481651</td>\n",
       "      <td>0.498962</td>\n",
       "      <td>0.517077</td>\n",
       "      <td>0.333033</td>\n",
       "      <td>0.313994</td>\n",
       "      <td>Queretaro</td>\n",
       "      <td>POLYGON ((-100.45581 20.54971, -100.45564 20.5...</td>\n",
       "    </tr>\n",
       "    <tr>\n",
       "      <th>2</th>\n",
       "      <td>8b4983c32819fff</td>\n",
       "      <td>11</td>\n",
       "      <td>0.366471</td>\n",
       "      <td>0.236895</td>\n",
       "      <td>0.276454</td>\n",
       "      <td>0.660594</td>\n",
       "      <td>0.227431</td>\n",
       "      <td>0.433162</td>\n",
       "      <td>-0.008019</td>\n",
       "      <td>0.660606</td>\n",
       "      <td>0.592895</td>\n",
       "      <td>0.304296</td>\n",
       "      <td>0.292394</td>\n",
       "      <td>0.216981</td>\n",
       "      <td>0.131652</td>\n",
       "      <td>Queretaro</td>\n",
       "      <td>POLYGON ((-100.47281 20.55409, -100.47264 20.5...</td>\n",
       "    </tr>\n",
       "  </tbody>\n",
       "</table>\n",
       "</div>"
      ],
      "text/plain": [
       "            hex_id  res  ndvi_mean  ndvi_std  ndvi_median  ndvi_max  ndvi_min  \\\n",
       "0  8b4983d8dad2fff   11   0.442706  0.136804     0.414820  0.614522  0.310956   \n",
       "2  8b4983c32819fff   11   0.366471  0.236895     0.276454  0.660594  0.227431   \n",
       "\n",
       "   ndvi_diff  ndvi_tend  ndvi_2018  ndvi_2019  ndvi_2020  ndvi_2021  \\\n",
       "0   0.303566  -0.002969   0.511517   0.481651   0.498962   0.517077   \n",
       "2   0.433162  -0.008019   0.660606   0.592895   0.304296   0.292394   \n",
       "\n",
       "   ndvi_2022  ndvi_2023       city  \\\n",
       "0   0.333033   0.313994  Queretaro   \n",
       "2   0.216981   0.131652  Queretaro   \n",
       "\n",
       "                                            geometry  \n",
       "0  POLYGON ((-100.45581 20.54971, -100.45564 20.5...  \n",
       "2  POLYGON ((-100.47281 20.55409, -100.47264 20.5...  "
      ]
     },
     "execution_count": 8,
     "metadata": {},
     "output_type": "execute_result"
    }
   ],
   "source": [
    "ndvi_area = gpd.GeoDataFrame()\n",
    "\n",
    "for v in range(3):\n",
    "    ndvi_area = pd.concat([ndvi_area,\n",
    "                           gpd.read_file(f'../../../data/processed/Distrito_QRO/Queretaro_ndvi_HexRes11_v{v}.geojson')])\n",
    "    ndvi_area = ndvi_area.loc[ndvi_area.ndvi_mean>=0.25]\n",
    "print(ndvi_area.shape)\n",
    "ndvi_area.head(2)"
   ]
  },
  {
   "cell_type": "code",
   "execution_count": 9,
   "id": "265377a2-f687-4104-96cc-14d7822acd7a",
   "metadata": {},
   "outputs": [],
   "source": [
    "ndvi_area['area_m2'] = ndvi_area.to_crs(\"EPSG:32614\").area"
   ]
  },
  {
   "cell_type": "code",
   "execution_count": 10,
   "id": "1ebd1e49-cb38-42c8-8060-96d375e624d2",
   "metadata": {},
   "outputs": [],
   "source": [
    "ndvi_area = ndvi_area.to_crs(\"EPSG:32614\")\n",
    "ndvi_area['geometry'] = ndvi_area.centroid"
   ]
  },
  {
   "cell_type": "code",
   "execution_count": 11,
   "id": "228332bc-330d-4460-b246-45ed80d1a276",
   "metadata": {},
   "outputs": [
    {
     "name": "stdout",
     "output_type": "stream",
     "text": [
      "(2826, 7)\n"
     ]
    },
    {
     "data": {
      "text/html": [
       "<div>\n",
       "<style scoped>\n",
       "    .dataframe tbody tr th:only-of-type {\n",
       "        vertical-align: middle;\n",
       "    }\n",
       "\n",
       "    .dataframe tbody tr th {\n",
       "        vertical-align: top;\n",
       "    }\n",
       "\n",
       "    .dataframe thead th {\n",
       "        text-align: right;\n",
       "    }\n",
       "</style>\n",
       "<table border=\"1\" class=\"dataframe\">\n",
       "  <thead>\n",
       "    <tr style=\"text-align: right;\">\n",
       "      <th></th>\n",
       "      <th>hex_id_9</th>\n",
       "      <th>geometry</th>\n",
       "      <th>CVEGEO</th>\n",
       "      <th>NOMGEO</th>\n",
       "      <th>city</th>\n",
       "      <th>type</th>\n",
       "      <th>area_m2</th>\n",
       "    </tr>\n",
       "  </thead>\n",
       "  <tbody>\n",
       "    <tr>\n",
       "      <th>0</th>\n",
       "      <td>8949822402fffff</td>\n",
       "      <td>POLYGON ((-100.2089 20.74718, -100.20765 20.74...</td>\n",
       "      <td>22011</td>\n",
       "      <td>El Marqués</td>\n",
       "      <td>Queretaro</td>\n",
       "      <td>urban</td>\n",
       "      <td>90189.209437</td>\n",
       "    </tr>\n",
       "    <tr>\n",
       "      <th>1</th>\n",
       "      <td>89498224103ffff</td>\n",
       "      <td>POLYGON ((-100.22424 20.75045, -100.223 20.752...</td>\n",
       "      <td>22011</td>\n",
       "      <td>El Marqués</td>\n",
       "      <td>Queretaro</td>\n",
       "      <td>urban</td>\n",
       "      <td>115255.297288</td>\n",
       "    </tr>\n",
       "  </tbody>\n",
       "</table>\n",
       "</div>"
      ],
      "text/plain": [
       "          hex_id_9                                           geometry CVEGEO  \\\n",
       "0  8949822402fffff  POLYGON ((-100.2089 20.74718, -100.20765 20.74...  22011   \n",
       "1  89498224103ffff  POLYGON ((-100.22424 20.75045, -100.223 20.752...  22011   \n",
       "\n",
       "       NOMGEO       city   type        area_m2  \n",
       "0  El Marqués  Queretaro  urban   90189.209437  \n",
       "1  El Marqués  Queretaro  urban  115255.297288  "
      ]
     },
     "execution_count": 11,
     "metadata": {},
     "output_type": "execute_result"
    }
   ],
   "source": [
    "ndvi_area = ndvi_area[['area_m2','geometry']]\n",
    "ndvi_area = ndvi_area.to_crs(\"EPSG:4326\")\n",
    "green_hex = ndvi_area.overlay(hex_gdf, how='intersection')\n",
    "\n",
    "green_hex = green_hex.groupby('hex_id_9').sum(numeric_only=True)\n",
    "\n",
    "hex_green = hex_gdf.merge(green_hex, on='hex_id_9', how='outer')\n",
    "hex_green = hex_green.fillna(0)\n",
    "print(hex_green.shape)\n",
    "hex_green.head(2)"
   ]
  },
  {
   "cell_type": "code",
   "execution_count": 12,
   "id": "5717b697-a342-425c-9544-86b12a94e614",
   "metadata": {},
   "outputs": [
    {
     "name": "stdout",
     "output_type": "stream",
     "text": [
      "(2826, 10)\n"
     ]
    },
    {
     "data": {
      "text/html": [
       "<div>\n",
       "<style scoped>\n",
       "    .dataframe tbody tr th:only-of-type {\n",
       "        vertical-align: middle;\n",
       "    }\n",
       "\n",
       "    .dataframe tbody tr th {\n",
       "        vertical-align: top;\n",
       "    }\n",
       "\n",
       "    .dataframe thead th {\n",
       "        text-align: right;\n",
       "    }\n",
       "</style>\n",
       "<table border=\"1\" class=\"dataframe\">\n",
       "  <thead>\n",
       "    <tr style=\"text-align: right;\">\n",
       "      <th></th>\n",
       "      <th>hex_id_9</th>\n",
       "      <th>geometry</th>\n",
       "      <th>CVEGEO</th>\n",
       "      <th>NOMGEO</th>\n",
       "      <th>city</th>\n",
       "      <th>type</th>\n",
       "      <th>area_m2</th>\n",
       "      <th>hex_id</th>\n",
       "      <th>pobtot</th>\n",
       "      <th>area_pob</th>\n",
       "    </tr>\n",
       "  </thead>\n",
       "  <tbody>\n",
       "    <tr>\n",
       "      <th>0</th>\n",
       "      <td>8949822402fffff</td>\n",
       "      <td>POLYGON ((-100.2089 20.74718, -100.20765 20.74...</td>\n",
       "      <td>22011</td>\n",
       "      <td>El Marqués</td>\n",
       "      <td>Queretaro</td>\n",
       "      <td>urban</td>\n",
       "      <td>90189.209437</td>\n",
       "      <td>8949822402fffff</td>\n",
       "      <td>35.484356</td>\n",
       "      <td>2541.661160</td>\n",
       "    </tr>\n",
       "    <tr>\n",
       "      <th>1</th>\n",
       "      <td>89498224103ffff</td>\n",
       "      <td>POLYGON ((-100.22424 20.75045, -100.223 20.752...</td>\n",
       "      <td>22011</td>\n",
       "      <td>El Marqués</td>\n",
       "      <td>Queretaro</td>\n",
       "      <td>urban</td>\n",
       "      <td>115255.297288</td>\n",
       "      <td>89498224103ffff</td>\n",
       "      <td>194.854420</td>\n",
       "      <td>591.494395</td>\n",
       "    </tr>\n",
       "  </tbody>\n",
       "</table>\n",
       "</div>"
      ],
      "text/plain": [
       "          hex_id_9                                           geometry CVEGEO  \\\n",
       "0  8949822402fffff  POLYGON ((-100.2089 20.74718, -100.20765 20.74...  22011   \n",
       "1  89498224103ffff  POLYGON ((-100.22424 20.75045, -100.223 20.752...  22011   \n",
       "\n",
       "       NOMGEO       city   type        area_m2           hex_id      pobtot  \\\n",
       "0  El Marqués  Queretaro  urban   90189.209437  8949822402fffff   35.484356   \n",
       "1  El Marqués  Queretaro  urban  115255.297288  89498224103ffff  194.854420   \n",
       "\n",
       "      area_pob  \n",
       "0  2541.661160  \n",
       "1   591.494395  "
      ]
     },
     "execution_count": 12,
     "metadata": {},
     "output_type": "execute_result"
    }
   ],
   "source": [
    "hex_green = hex_green.merge(censo_gdf, left_on='hex_id_9',\n",
    "                            right_on='hex_id', how='left')\n",
    "hex_green.loc[hex_green.pobtot==0,'pobtot'] = 1\n",
    "hex_green['area_pob'] = hex_green['area_m2'] / hex_green['pobtot']\n",
    "hex_green = hex_green.fillna(0)\n",
    "print(hex_green.shape)\n",
    "hex_green.head(2)"
   ]
  },
  {
   "cell_type": "code",
   "execution_count": 17,
   "id": "ea1a3012-25f8-4fbe-a4fc-75a065d5d096",
   "metadata": {},
   "outputs": [],
   "source": [
    "hex_green.loc[hex_green.area_pob>250,'area_pob'] = 250"
   ]
  },
  {
   "cell_type": "code",
   "execution_count": 18,
   "id": "51827384-c409-4bee-88dc-13c639701c1f",
   "metadata": {},
   "outputs": [
    {
     "data": {
      "text/plain": [
       "<Axes: >"
      ]
     },
     "execution_count": 18,
     "metadata": {},
     "output_type": "execute_result"
    },
    {
     "data": {
      "image/png": "[encoded data removed]",
      "text/plain": [
       "<Figure size 640x480 with 1 Axes>"
      ]
     },
     "metadata": {},
     "output_type": "display_data"
    }
   ],
   "source": [
    "hex_green.plot('area_pob')"
   ]
  },
  {
   "cell_type": "markdown",
   "id": "84cc6c48-0682-4337-a1ba-ef330678cbcd",
   "metadata": {
    "jp-MarkdownHeadingCollapsed": true
   },
   "source": [
    "## Proximity to green spaces"
   ]
  },
  {
   "cell_type": "code",
   "execution_count": 49,
   "id": "fe2cc158-828b-4f9f-af41-05539516bc86",
   "metadata": {},
   "outputs": [
    {
     "data": {
      "text/html": [
       "<div>\n",
       "<style scoped>\n",
       "    .dataframe tbody tr th:only-of-type {\n",
       "        vertical-align: middle;\n",
       "    }\n",
       "\n",
       "    .dataframe tbody tr th {\n",
       "        vertical-align: top;\n",
       "    }\n",
       "\n",
       "    .dataframe thead th {\n",
       "        text-align: right;\n",
       "    }\n",
       "</style>\n",
       "<table border=\"1\" class=\"dataframe\">\n",
       "  <thead>\n",
       "    <tr style=\"text-align: right;\">\n",
       "      <th></th>\n",
       "      <th>osmid</th>\n",
       "      <th>index</th>\n",
       "      <th>x</th>\n",
       "      <th>y</th>\n",
       "      <th>street_count</th>\n",
       "      <th>elevation</th>\n",
       "      <th>geometry</th>\n",
       "      <th>dist_ep</th>\n",
       "    </tr>\n",
       "  </thead>\n",
       "  <tbody>\n",
       "    <tr>\n",
       "      <th>0</th>\n",
       "      <td>28751344</td>\n",
       "      <td>0</td>\n",
       "      <td>-103.306309</td>\n",
       "      <td>20.711533</td>\n",
       "      <td>3.0</td>\n",
       "      <td>1548.0</td>\n",
       "      <td>POINT (-103.30631 20.71153)</td>\n",
       "      <td>2.523255</td>\n",
       "    </tr>\n",
       "    <tr>\n",
       "      <th>1</th>\n",
       "      <td>28753224</td>\n",
       "      <td>1</td>\n",
       "      <td>-103.316645</td>\n",
       "      <td>20.700650</td>\n",
       "      <td>3.0</td>\n",
       "      <td>1530.0</td>\n",
       "      <td>POINT (-103.31665 20.70065)</td>\n",
       "      <td>3.938320</td>\n",
       "    </tr>\n",
       "    <tr>\n",
       "      <th>2</th>\n",
       "      <td>28757751</td>\n",
       "      <td>2</td>\n",
       "      <td>-103.307356</td>\n",
       "      <td>20.708526</td>\n",
       "      <td>3.0</td>\n",
       "      <td>1548.0</td>\n",
       "      <td>POINT (-103.30736 20.70853)</td>\n",
       "      <td>0.000000</td>\n",
       "    </tr>\n",
       "    <tr>\n",
       "      <th>3</th>\n",
       "      <td>28757777</td>\n",
       "      <td>3</td>\n",
       "      <td>-103.306806</td>\n",
       "      <td>20.710093</td>\n",
       "      <td>4.0</td>\n",
       "      <td>1548.0</td>\n",
       "      <td>POINT (-103.30681 20.71009)</td>\n",
       "      <td>0.000000</td>\n",
       "    </tr>\n",
       "  </tbody>\n",
       "</table>\n",
       "</div>"
      ],
      "text/plain": [
       "      osmid  index           x          y  street_count  elevation  \\\n",
       "0  28751344      0 -103.306309  20.711533           3.0     1548.0   \n",
       "1  28753224      1 -103.316645  20.700650           3.0     1530.0   \n",
       "2  28757751      2 -103.307356  20.708526           3.0     1548.0   \n",
       "3  28757777      3 -103.306806  20.710093           4.0     1548.0   \n",
       "\n",
       "                      geometry   dist_ep  \n",
       "0  POINT (-103.30631 20.71153)  2.523255  \n",
       "1  POINT (-103.31665 20.70065)  3.938320  \n",
       "2  POINT (-103.30736 20.70853)  0.000000  \n",
       "3  POINT (-103.30681 20.71009)  0.000000  "
      ]
     },
     "execution_count": 49,
     "metadata": {},
     "output_type": "execute_result"
    }
   ],
   "source": [
    "green_point = green_point.to_crs(\"EPSG:4326\")\n",
    "green_osmid = proylib.find_nearest(G, nodes, green_point, return_distance= True)\n",
    "nodes_green = proylib.calculate_distance_nearest_poi(green_osmid, nodes, \n",
    "                                       edges, 'ep', 'osmid', wght='time_min')\n",
    "nodes_green = nodes_green.reset_index()\n",
    "nodes_green.head(4)"
   ]
  },
  {
   "cell_type": "code",
   "execution_count": 51,
   "id": "a9a005df-5c55-4d2f-8757-a4921ac604fd",
   "metadata": {},
   "outputs": [
    {
     "name": "stdout",
     "output_type": "stream",
     "text": [
      "(1214, 12)\n"
     ]
    },
    {
     "data": {
      "text/html": [
       "<div>\n",
       "<style scoped>\n",
       "    .dataframe tbody tr th:only-of-type {\n",
       "        vertical-align: middle;\n",
       "    }\n",
       "\n",
       "    .dataframe tbody tr th {\n",
       "        vertical-align: top;\n",
       "    }\n",
       "\n",
       "    .dataframe thead th {\n",
       "        text-align: right;\n",
       "    }\n",
       "</style>\n",
       "<table border=\"1\" class=\"dataframe\">\n",
       "  <thead>\n",
       "    <tr style=\"text-align: right;\">\n",
       "      <th></th>\n",
       "      <th>hex_id_9</th>\n",
       "      <th>geometry</th>\n",
       "      <th>CVEGEO</th>\n",
       "      <th>NOMGEO</th>\n",
       "      <th>city</th>\n",
       "      <th>type</th>\n",
       "      <th>index</th>\n",
       "      <th>x</th>\n",
       "      <th>y</th>\n",
       "      <th>street_count</th>\n",
       "      <th>elevation</th>\n",
       "      <th>dist_ep</th>\n",
       "    </tr>\n",
       "  </thead>\n",
       "  <tbody>\n",
       "    <tr>\n",
       "      <th>0</th>\n",
       "      <td>89498c9616bffff</td>\n",
       "      <td>POLYGON ((671785.185 2284513.845, 671910.418 2...</td>\n",
       "      <td>14039</td>\n",
       "      <td>Guadalajara</td>\n",
       "      <td>Guadalajara</td>\n",
       "      <td>urban</td>\n",
       "      <td>57127.058824</td>\n",
       "      <td>-103.351698</td>\n",
       "      <td>20.654039</td>\n",
       "      <td>2.294118</td>\n",
       "      <td>1540.882353</td>\n",
       "      <td>2.888454</td>\n",
       "    </tr>\n",
       "    <tr>\n",
       "      <th>1</th>\n",
       "      <td>89498c97303ffff</td>\n",
       "      <td>POLYGON ((680447.784 2285361.927, 680573.012 2...</td>\n",
       "      <td>14039</td>\n",
       "      <td>Guadalajara</td>\n",
       "      <td>Guadalajara</td>\n",
       "      <td>urban</td>\n",
       "      <td>102336.277778</td>\n",
       "      <td>-103.268420</td>\n",
       "      <td>20.660764</td>\n",
       "      <td>2.555556</td>\n",
       "      <td>1523.611111</td>\n",
       "      <td>5.575029</td>\n",
       "    </tr>\n",
       "  </tbody>\n",
       "</table>\n",
       "</div>"
      ],
      "text/plain": [
       "          hex_id_9                                           geometry CVEGEO  \\\n",
       "0  89498c9616bffff  POLYGON ((671785.185 2284513.845, 671910.418 2...  14039   \n",
       "1  89498c97303ffff  POLYGON ((680447.784 2285361.927, 680573.012 2...  14039   \n",
       "\n",
       "        NOMGEO         city   type          index           x          y  \\\n",
       "0  Guadalajara  Guadalajara  urban   57127.058824 -103.351698  20.654039   \n",
       "1  Guadalajara  Guadalajara  urban  102336.277778 -103.268420  20.660764   \n",
       "\n",
       "   street_count    elevation   dist_ep  \n",
       "0      2.294118  1540.882353  2.888454  \n",
       "1      2.555556  1523.611111  5.575029  "
      ]
     },
     "execution_count": 51,
     "metadata": {},
     "output_type": "execute_result"
    }
   ],
   "source": [
    "nodes_green = nodes_green.to_crs(\"EPSG:32613\")\n",
    "hex_gdf = hex_gdf.to_crs(\"EPSG:32613\")\n",
    "hex_prox = proylib.group_by_hex_mean(nodes_green, hex_gdf, 9, 'dist_ep')\n",
    "print(hex_prox.shape)\n",
    "hex_prox.head(2)"
   ]
  },
  {
   "cell_type": "code",
   "execution_count": 52,
   "id": "711d22e1-54dd-4f05-b348-58eecc97f2e9",
   "metadata": {},
   "outputs": [
    {
     "data": {
      "text/plain": [
       "<AxesSubplot: >"
      ]
     },
     "execution_count": 52,
     "metadata": {},
     "output_type": "execute_result"
    },
    {
     "data": {
      "image/png": "[encoded data removed]",
      "text/plain": [
       "<Figure size 640x480 with 1 Axes>"
      ]
     },
     "metadata": {},
     "output_type": "display_data"
    }
   ],
   "source": [
    "hex_prox.plot('dist_ep')"
   ]
  },
  {
   "cell_type": "markdown",
   "id": "c24face3-46ba-412b-a95c-816e871bf94f",
   "metadata": {},
   "source": [
    "## Merge data"
   ]
  },
  {
   "cell_type": "code",
   "execution_count": 24,
   "id": "3d33ec5c-6413-4d9a-a70f-44d24be88355",
   "metadata": {},
   "outputs": [],
   "source": [
    "hex_env = hex_gdf.merge(ndvi_df[['hex_id','ndvi_mean']],\n",
    "                        left_on='hex_id_9', right_on='hex_id',\n",
    "                        how='left')\n",
    "hex_env = hex_env.merge(ndmi_df[['hex_id','ndmi_diff']], \n",
    "                        left_on='hex_id_9', right_on='hex_id', how='left')\n",
    "hex_env = hex_env.merge(temp_df[['hex_id','temperature_mean']], \n",
    "                        left_on='hex_id_9', right_on='hex_id', how='left')"
   ]
  },
  {
   "cell_type": "code",
   "execution_count": 26,
   "id": "6528493e-ba87-4ada-82e0-33deb904e88f",
   "metadata": {},
   "outputs": [],
   "source": [
    "hex_env = hex_env.drop(columns = ['hex_id_x','hex_id_y','hex_id'])"
   ]
  },
  {
   "cell_type": "code",
   "execution_count": 27,
   "id": "a304507a-94b5-4703-889a-ef099fa00f23",
   "metadata": {},
   "outputs": [
    {
     "data": {
      "text/html": [
       "<div>\n",
       "<style scoped>\n",
       "    .dataframe tbody tr th:only-of-type {\n",
       "        vertical-align: middle;\n",
       "    }\n",
       "\n",
       "    .dataframe tbody tr th {\n",
       "        vertical-align: top;\n",
       "    }\n",
       "\n",
       "    .dataframe thead th {\n",
       "        text-align: right;\n",
       "    }\n",
       "</style>\n",
       "<table border=\"1\" class=\"dataframe\">\n",
       "  <thead>\n",
       "    <tr style=\"text-align: right;\">\n",
       "      <th></th>\n",
       "      <th>hex_id_9</th>\n",
       "      <th>geometry</th>\n",
       "      <th>CVEGEO</th>\n",
       "      <th>NOMGEO</th>\n",
       "      <th>city</th>\n",
       "      <th>type</th>\n",
       "      <th>ndvi_mean</th>\n",
       "      <th>ndmi_diff</th>\n",
       "      <th>temperature_mean</th>\n",
       "    </tr>\n",
       "  </thead>\n",
       "  <tbody>\n",
       "    <tr>\n",
       "      <th>0</th>\n",
       "      <td>894983d8997ffff</td>\n",
       "      <td>POLYGON ((-100.45238 20.55939, -100.45114 20.5...</td>\n",
       "      <td>22006</td>\n",
       "      <td>Corregidora</td>\n",
       "      <td>Queretaro</td>\n",
       "      <td>urban</td>\n",
       "      <td>0.173743</td>\n",
       "      <td>0.067874</td>\n",
       "      <td>0.190589</td>\n",
       "    </tr>\n",
       "    <tr>\n",
       "      <th>1</th>\n",
       "      <td>894983c3697ffff</td>\n",
       "      <td>POLYGON ((-100.47848 20.52605, -100.47723 20.5...</td>\n",
       "      <td>22006</td>\n",
       "      <td>Corregidora</td>\n",
       "      <td>Queretaro</td>\n",
       "      <td>urban</td>\n",
       "      <td>0.179758</td>\n",
       "      <td>0.174133</td>\n",
       "      <td>2.035772</td>\n",
       "    </tr>\n",
       "  </tbody>\n",
       "</table>\n",
       "</div>"
      ],
      "text/plain": [
       "          hex_id_9                                           geometry CVEGEO  \\\n",
       "0  894983d8997ffff  POLYGON ((-100.45238 20.55939, -100.45114 20.5...  22006   \n",
       "1  894983c3697ffff  POLYGON ((-100.47848 20.52605, -100.47723 20.5...  22006   \n",
       "\n",
       "        NOMGEO       city   type  ndvi_mean  ndmi_diff  temperature_mean  \n",
       "0  Corregidora  Queretaro  urban   0.173743   0.067874          0.190589  \n",
       "1  Corregidora  Queretaro  urban   0.179758   0.174133          2.035772  "
      ]
     },
     "execution_count": 27,
     "metadata": {},
     "output_type": "execute_result"
    }
   ],
   "source": [
    "hex_env.head(2)"
   ]
  },
  {
   "cell_type": "code",
   "execution_count": 28,
   "id": "fa010530-af9a-4b0c-bf32-5eceffdbc949",
   "metadata": {},
   "outputs": [],
   "source": [
    "hex_env.to_file('../../../data/processed/Distrito_QRO/hex_environmental.geojson')"
   ]
  },
  {
   "cell_type": "code",
   "execution_count": null,
   "id": "85bea49f-65b7-4a9b-9bd7-209f6f4b1baf",
   "metadata": {},
   "outputs": [],
   "source": []
  }
 ],
 "metadata": {
  "kernelspec": {
   "display_name": "Python 3 (ipykernel)",
   "language": "python",
   "name": "python3"
  },
  "language_info": {
   "codemirror_mode": {
    "name": "ipython",
    "version": 3
   },
   "file_extension": ".py",
   "mimetype": "text/x-python",
   "name": "python",
   "nbconvert_exporter": "python",
   "pygments_lexer": "ipython3",
   "version": "3.12.9"
  }
 },
 "nbformat": 4,
 "nbformat_minor": 5
}
