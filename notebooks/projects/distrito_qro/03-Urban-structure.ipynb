{
 "cells": [
  {
   "cell_type": "code",
   "execution_count": 1,
   "id": "dc1bc287-c355-41e0-94a7-c81c265e917f",
   "metadata": {},
   "outputs": [],
   "source": [
    "import os\n",
    "import sys\n",
    "\n",
    "import geopandas as gpd\n",
    "import pandas as pd\n",
    "import numpy as np\n",
    "from shapely import wkt\n",
    "\n",
    "import matplotlib.pyplot as plt\n",
    "import seaborn as sns\n",
    "\n",
    "module_path = os.path.abspath(os.path.join('../'))\n",
    "if module_path not in sys.path:\n",
    "    sys.path.append(module_path)\n",
    "    import aup\n",
    "else:\n",
    "    import aup"
   ]
  },
  {
   "cell_type": "markdown",
   "id": "608b0908-651f-4641-a87d-9f51762b9c73",
   "metadata": {},
   "source": [
    "## Guadalajara hexagons"
   ]
  },
  {
   "cell_type": "code",
   "execution_count": 2,
   "id": "6891803d-f928-42d2-95cc-eadd75f44ddb",
   "metadata": {},
   "outputs": [
    {
     "name": "stdout",
     "output_type": "stream",
     "text": [
      "(2826, 6)\n"
     ]
    },
    {
     "data": {
      "text/html": [
       "<div>\n",
       "<style scoped>\n",
       "    .dataframe tbody tr th:only-of-type {\n",
       "        vertical-align: middle;\n",
       "    }\n",
       "\n",
       "    .dataframe tbody tr th {\n",
       "        vertical-align: top;\n",
       "    }\n",
       "\n",
       "    .dataframe thead th {\n",
       "        text-align: right;\n",
       "    }\n",
       "</style>\n",
       "<table border=\"1\" class=\"dataframe\">\n",
       "  <thead>\n",
       "    <tr style=\"text-align: right;\">\n",
       "      <th></th>\n",
       "      <th>hex_id_9</th>\n",
       "      <th>geometry</th>\n",
       "      <th>CVEGEO</th>\n",
       "      <th>NOMGEO</th>\n",
       "      <th>city</th>\n",
       "      <th>type</th>\n",
       "    </tr>\n",
       "  </thead>\n",
       "  <tbody>\n",
       "    <tr>\n",
       "      <th>0</th>\n",
       "      <td>894983d8997ffff</td>\n",
       "      <td>POLYGON ((-100.45238 20.55939, -100.45114 20.5...</td>\n",
       "      <td>22006</td>\n",
       "      <td>Corregidora</td>\n",
       "      <td>Queretaro</td>\n",
       "      <td>urban</td>\n",
       "    </tr>\n",
       "    <tr>\n",
       "      <th>1</th>\n",
       "      <td>894983c3697ffff</td>\n",
       "      <td>POLYGON ((-100.47848 20.52605, -100.47723 20.5...</td>\n",
       "      <td>22006</td>\n",
       "      <td>Corregidora</td>\n",
       "      <td>Queretaro</td>\n",
       "      <td>urban</td>\n",
       "    </tr>\n",
       "  </tbody>\n",
       "</table>\n",
       "</div>"
      ],
      "text/plain": [
       "          hex_id_9                                           geometry CVEGEO  \\\n",
       "0  894983d8997ffff  POLYGON ((-100.45238 20.55939, -100.45114 20.5...  22006   \n",
       "1  894983c3697ffff  POLYGON ((-100.47848 20.52605, -100.47723 20.5...  22006   \n",
       "\n",
       "        NOMGEO       city   type  \n",
       "0  Corregidora  Queretaro  urban  \n",
       "1  Corregidora  Queretaro  urban  "
      ]
     },
     "execution_count": 2,
     "metadata": {},
     "output_type": "execute_result"
    }
   ],
   "source": [
    "schema = 'hexgrid'\n",
    "folder = 'hexgrid_9_city_2020'\n",
    "city = 'Queretaro'\n",
    "type_area = 'urban'\n",
    "\n",
    "query = f\"SELECT * FROM {schema}.{folder} WHERE \\\"city\\\" = \\'{city}\\' AND \\\"type\\\" = \\'{type_area}\\'\"\n",
    "\n",
    "hex_gdf = aup.gdf_from_query(query)\n",
    "print(hex_gdf.shape)\n",
    "hex_gdf.head(2)"
   ]
  },
  {
   "cell_type": "code",
   "execution_count": 3,
   "id": "71985ca3-5dd5-4a50-9000-3a1c12b94002",
   "metadata": {},
   "outputs": [],
   "source": [
    "hex_diss = hex_gdf.copy()\n",
    "hex_diss = hex_diss.to_crs(\"EPSG:32613\")\n",
    "hex_diss = hex_diss.buffer(5).reset_index().rename(columns={0: \"geometry\"})\n",
    "hex_diss = hex_diss.set_geometry(\"geometry\")\n",
    "hex_diss = hex_diss.to_crs(\"EPSG:4326\")\n",
    "hex_diss = hex_diss.dissolve()"
   ]
  },
  {
   "cell_type": "markdown",
   "id": "de42da41-d595-452a-acef-cf5e7b152584",
   "metadata": {},
   "source": [
    "## Uso de suelo"
   ]
  },
  {
   "cell_type": "code",
   "execution_count": 4,
   "id": "bb7a2794-739b-431d-b620-f3cd63bf6ccc",
   "metadata": {},
   "outputs": [
    {
     "name": "stdout",
     "output_type": "stream",
     "text": [
      "(2826, 9)\n"
     ]
    },
    {
     "data": {
      "text/html": [
       "<div>\n",
       "<style scoped>\n",
       "    .dataframe tbody tr th:only-of-type {\n",
       "        vertical-align: middle;\n",
       "    }\n",
       "\n",
       "    .dataframe tbody tr th {\n",
       "        vertical-align: top;\n",
       "    }\n",
       "\n",
       "    .dataframe thead th {\n",
       "        text-align: right;\n",
       "    }\n",
       "</style>\n",
       "<table border=\"1\" class=\"dataframe\">\n",
       "  <thead>\n",
       "    <tr style=\"text-align: right;\">\n",
       "      <th></th>\n",
       "      <th>hex_id_9</th>\n",
       "      <th>pct_comerciomean</th>\n",
       "      <th>pct_equipmean</th>\n",
       "      <th>pct_habmean</th>\n",
       "      <th>pct_indmean</th>\n",
       "      <th>pct_otromean</th>\n",
       "      <th>pct_recreativomean</th>\n",
       "      <th>pct_servmean</th>\n",
       "      <th>geometry</th>\n",
       "    </tr>\n",
       "  </thead>\n",
       "  <tbody>\n",
       "    <tr>\n",
       "      <th>0</th>\n",
       "      <td>894983d8997ffff</td>\n",
       "      <td>0.000077</td>\n",
       "      <td>0.0</td>\n",
       "      <td>0.999923</td>\n",
       "      <td>0.0</td>\n",
       "      <td>0.000000</td>\n",
       "      <td>0.0</td>\n",
       "      <td>0.0</td>\n",
       "      <td>POLYGON ((-100.45238 20.55939, -100.45114 20.5...</td>\n",
       "    </tr>\n",
       "    <tr>\n",
       "      <th>1</th>\n",
       "      <td>894983c3697ffff</td>\n",
       "      <td>0.000000</td>\n",
       "      <td>0.0</td>\n",
       "      <td>0.995749</td>\n",
       "      <td>0.0</td>\n",
       "      <td>0.004251</td>\n",
       "      <td>0.0</td>\n",
       "      <td>0.0</td>\n",
       "      <td>POLYGON ((-100.47848 20.52605, -100.47723 20.5...</td>\n",
       "    </tr>\n",
       "  </tbody>\n",
       "</table>\n",
       "</div>"
      ],
      "text/plain": [
       "          hex_id_9  pct_comerciomean  pct_equipmean  pct_habmean  pct_indmean  \\\n",
       "0  894983d8997ffff          0.000077            0.0     0.999923          0.0   \n",
       "1  894983c3697ffff          0.000000            0.0     0.995749          0.0   \n",
       "\n",
       "   pct_otromean  pct_recreativomean  pct_servmean  \\\n",
       "0      0.000000                 0.0           0.0   \n",
       "1      0.004251                 0.0           0.0   \n",
       "\n",
       "                                            geometry  \n",
       "0  POLYGON ((-100.45238 20.55939, -100.45114 20.5...  \n",
       "1  POLYGON ((-100.47848 20.52605, -100.47723 20.5...  "
      ]
     },
     "execution_count": 4,
     "metadata": {},
     "output_type": "execute_result"
    }
   ],
   "source": [
    "us_gdf = gpd.read_file('../../../data/processed/Distrito_QRO/hex_pct_uso_suelo.geojson')\n",
    "us_gdf = us_gdf[['hex_id_9','pct_comerciomean','pct_equipmean',\n",
    "                'pct_habmean','pct_indmean','pct_otromean',\n",
    "                'pct_recreativomean','pct_servmean','geometry']].copy()\n",
    "print(us_gdf.shape)\n",
    "us_gdf.head(2)"
   ]
  },
  {
   "cell_type": "code",
   "execution_count": 5,
   "id": "2cd78b29-b03f-43b4-bb8a-9fc64421bd78",
   "metadata": {},
   "outputs": [
    {
     "data": {
      "text/plain": [
       "<Axes: >"
      ]
     },
     "execution_count": 5,
     "metadata": {},
     "output_type": "execute_result"
    },
    {
     "data": {
      "image/png": "[encoded data removed]",
      "text/plain": [
       "<Figure size 640x480 with 1 Axes>"
      ]
     },
     "metadata": {},
     "output_type": "display_data"
    }
   ],
   "source": [
    "us_gdf.plot()"
   ]
  },
  {
   "cell_type": "markdown",
   "id": "6bf37c21-cf77-459f-b4f3-ca7d7e3de14f",
   "metadata": {},
   "source": [
    "## Edificaciones"
   ]
  },
  {
   "cell_type": "markdown",
   "id": "7fcc274a-765c-4a80-bb8e-5a73010a319d",
   "metadata": {
    "jp-MarkdownHeadingCollapsed": true
   },
   "source": [
    "### Preprocessing"
   ]
  },
  {
   "cell_type": "code",
   "execution_count": 18,
   "id": "0e3b14fd-dd6f-41fc-a58f-625b4ed96760",
   "metadata": {
    "scrolled": true
   },
   "outputs": [
    {
     "name": "stdout",
     "output_type": "stream",
     "text": [
      "(38408563, 6)\n"
     ]
    },
    {
     "data": {
      "text/html": [
       "<div>\n",
       "<style scoped>\n",
       "    .dataframe tbody tr th:only-of-type {\n",
       "        vertical-align: middle;\n",
       "    }\n",
       "\n",
       "    .dataframe tbody tr th {\n",
       "        vertical-align: top;\n",
       "    }\n",
       "\n",
       "    .dataframe thead th {\n",
       "        text-align: right;\n",
       "    }\n",
       "</style>\n",
       "<table border=\"1\" class=\"dataframe\">\n",
       "  <thead>\n",
       "    <tr style=\"text-align: right;\">\n",
       "      <th></th>\n",
       "      <th>latitude</th>\n",
       "      <th>longitude</th>\n",
       "      <th>area_in_meters</th>\n",
       "      <th>confidence</th>\n",
       "      <th>geometry</th>\n",
       "      <th>full_plus_code</th>\n",
       "    </tr>\n",
       "  </thead>\n",
       "  <tbody>\n",
       "    <tr>\n",
       "      <th>0</th>\n",
       "      <td>19.449756</td>\n",
       "      <td>-98.106921</td>\n",
       "      <td>143.5921</td>\n",
       "      <td>0.8962</td>\n",
       "      <td>POLYGON((-98.1068452418125 19.449729513805, -9...</td>\n",
       "      <td>76F3CVXV+W648</td>\n",
       "    </tr>\n",
       "    <tr>\n",
       "      <th>1</th>\n",
       "      <td>18.324542</td>\n",
       "      <td>-100.276654</td>\n",
       "      <td>65.9477</td>\n",
       "      <td>0.8332</td>\n",
       "      <td>POLYGON((-100.276594956198 18.3245378927072, -...</td>\n",
       "      <td>75CX8PFF+R89J</td>\n",
       "    </tr>\n",
       "  </tbody>\n",
       "</table>\n",
       "</div>"
      ],
      "text/plain": [
       "    latitude   longitude  area_in_meters  confidence  \\\n",
       "0  19.449756  -98.106921        143.5921      0.8962   \n",
       "1  18.324542 -100.276654         65.9477      0.8332   \n",
       "\n",
       "                                            geometry full_plus_code  \n",
       "0  POLYGON((-98.1068452418125 19.449729513805, -9...  76F3CVXV+W648  \n",
       "1  POLYGON((-100.276594956198 18.3245378927072, -...  75CX8PFF+R89J  "
      ]
     },
     "execution_count": 18,
     "metadata": {},
     "output_type": "execute_result"
    }
   ],
   "source": [
    "ed_gdf = pd.read_csv('../../../data/raw/85d_buildings.csv')\n",
    "print(ed_gdf.shape)\n",
    "ed_gdf.head(2)"
   ]
  },
  {
   "cell_type": "code",
   "execution_count": 19,
   "id": "9fbe794d-1fe8-44ca-9da3-87f47457f6f2",
   "metadata": {},
   "outputs": [],
   "source": [
    "ed_gdf['geometry'] = ed_gdf['geometry'].apply(wkt.loads)\n",
    "ed_gdf = gpd.GeoDataFrame(ed_gdf, crs='epsg:4326')"
   ]
  },
  {
   "cell_type": "code",
   "execution_count": 20,
   "id": "a22433f0-4428-4ec6-9b3f-b24a34297e69",
   "metadata": {},
   "outputs": [],
   "source": [
    "ed_clip = gpd.clip(ed_gdf, hex_diss)\n",
    "ed_clip = list(ed_clip.full_plus_code.unique())"
   ]
  },
  {
   "cell_type": "code",
   "execution_count": 21,
   "id": "f13cee37-2af1-44ed-90cd-468a3637ac71",
   "metadata": {},
   "outputs": [
    {
     "name": "stdout",
     "output_type": "stream",
     "text": [
      "(781306, 6)\n"
     ]
    },
    {
     "data": {
      "text/html": [
       "<div>\n",
       "<style scoped>\n",
       "    .dataframe tbody tr th:only-of-type {\n",
       "        vertical-align: middle;\n",
       "    }\n",
       "\n",
       "    .dataframe tbody tr th {\n",
       "        vertical-align: top;\n",
       "    }\n",
       "\n",
       "    .dataframe thead th {\n",
       "        text-align: right;\n",
       "    }\n",
       "</style>\n",
       "<table border=\"1\" class=\"dataframe\">\n",
       "  <thead>\n",
       "    <tr style=\"text-align: right;\">\n",
       "      <th></th>\n",
       "      <th>latitude</th>\n",
       "      <th>longitude</th>\n",
       "      <th>area_in_meters</th>\n",
       "      <th>confidence</th>\n",
       "      <th>geometry</th>\n",
       "      <th>full_plus_code</th>\n",
       "    </tr>\n",
       "  </thead>\n",
       "  <tbody>\n",
       "    <tr>\n",
       "      <th>23</th>\n",
       "      <td>20.623721</td>\n",
       "      <td>-100.416809</td>\n",
       "      <td>44.7050</td>\n",
       "      <td>0.7026</td>\n",
       "      <td>POLYGON ((-100.41678 20.62368, -100.4168 20.62...</td>\n",
       "      <td>75GXJHFM+F7PR</td>\n",
       "    </tr>\n",
       "    <tr>\n",
       "      <th>52</th>\n",
       "      <td>20.553461</td>\n",
       "      <td>-100.389767</td>\n",
       "      <td>87.0057</td>\n",
       "      <td>0.8101</td>\n",
       "      <td>POLYGON ((-100.38973 20.55351, -100.38983 20.5...</td>\n",
       "      <td>75GXHJ36+93QF</td>\n",
       "    </tr>\n",
       "  </tbody>\n",
       "</table>\n",
       "</div>"
      ],
      "text/plain": [
       "     latitude   longitude  area_in_meters  confidence  \\\n",
       "23  20.623721 -100.416809         44.7050      0.7026   \n",
       "52  20.553461 -100.389767         87.0057      0.8101   \n",
       "\n",
       "                                             geometry full_plus_code  \n",
       "23  POLYGON ((-100.41678 20.62368, -100.4168 20.62...  75GXJHFM+F7PR  \n",
       "52  POLYGON ((-100.38973 20.55351, -100.38983 20.5...  75GXHJ36+93QF  "
      ]
     },
     "execution_count": 21,
     "metadata": {},
     "output_type": "execute_result"
    }
   ],
   "source": [
    "bld_qro = ed_gdf.loc[(ed_gdf.full_plus_code).isin(ed_clip)]\n",
    "print(bld_qro.shape)\n",
    "bld_qro.head(2)"
   ]
  },
  {
   "cell_type": "code",
   "execution_count": 22,
   "id": "c31da704-3b61-421d-8d28-d525d6e82b75",
   "metadata": {},
   "outputs": [],
   "source": [
    "del ed_clip\n",
    "del ed_gdf"
   ]
  },
  {
   "cell_type": "markdown",
   "id": "792624d0-044d-4691-979e-3365dd7f72c1",
   "metadata": {},
   "source": [
    "### Read file"
   ]
  },
  {
   "cell_type": "code",
   "execution_count": 6,
   "id": "796d5918-554f-4e51-b90d-57776647f80f",
   "metadata": {},
   "outputs": [],
   "source": [
    "# bld_qro.to_file('../../../data/processed/Distrito_QRO/buildings_queretaro.geojson')\n",
    "bld_qro = gpd.read_file('../../../data/processed/Distrito_QRO/buildings_queretaro.geojson')"
   ]
  },
  {
   "cell_type": "markdown",
   "id": "696bc80f-d15f-4c4b-bdc7-057f5d8c4e57",
   "metadata": {},
   "source": [
    "## Manzanas"
   ]
  },
  {
   "cell_type": "code",
   "execution_count": 7,
   "id": "2887c806-05b5-40c4-ae8d-9ab40e9a50e5",
   "metadata": {},
   "outputs": [],
   "source": [
    "poly_wkt = hex_diss.geometry.to_wkt()[0]"
   ]
  },
  {
   "cell_type": "code",
   "execution_count": 8,
   "id": "8a91d466-bd96-47bf-baa6-511fc539ff0b",
   "metadata": {},
   "outputs": [
    {
     "name": "stdout",
     "output_type": "stream",
     "text": [
      "(19849, 9)\n"
     ]
    },
    {
     "data": {
      "text/html": [
       "<div>\n",
       "<style scoped>\n",
       "    .dataframe tbody tr th:only-of-type {\n",
       "        vertical-align: middle;\n",
       "    }\n",
       "\n",
       "    .dataframe tbody tr th {\n",
       "        vertical-align: top;\n",
       "    }\n",
       "\n",
       "    .dataframe thead th {\n",
       "        text-align: right;\n",
       "    }\n",
       "</style>\n",
       "<table border=\"1\" class=\"dataframe\">\n",
       "  <thead>\n",
       "    <tr style=\"text-align: right;\">\n",
       "      <th></th>\n",
       "      <th>CVEGEO</th>\n",
       "      <th>CVE_ENT</th>\n",
       "      <th>CVE_MUN</th>\n",
       "      <th>CVE_LOC</th>\n",
       "      <th>CVE_AGEB</th>\n",
       "      <th>CVE_MZA</th>\n",
       "      <th>AMBITO</th>\n",
       "      <th>TIPOMZA</th>\n",
       "      <th>geometry</th>\n",
       "    </tr>\n",
       "  </thead>\n",
       "  <tbody>\n",
       "    <tr>\n",
       "      <th>0</th>\n",
       "      <td>2201105180119028</td>\n",
       "      <td>22</td>\n",
       "      <td>011</td>\n",
       "      <td>0518</td>\n",
       "      <td>0119</td>\n",
       "      <td>028</td>\n",
       "      <td>Rural</td>\n",
       "      <td>Típica</td>\n",
       "      <td>POLYGON ((-100.28973 20.59585, -100.2899 20.59...</td>\n",
       "    </tr>\n",
       "    <tr>\n",
       "      <th>1</th>\n",
       "      <td>220110479080A036</td>\n",
       "      <td>22</td>\n",
       "      <td>011</td>\n",
       "      <td>0479</td>\n",
       "      <td>080A</td>\n",
       "      <td>036</td>\n",
       "      <td>Urbana</td>\n",
       "      <td>Típica</td>\n",
       "      <td>POLYGON ((-100.29095 20.59109, -100.29094 20.5...</td>\n",
       "    </tr>\n",
       "    <tr>\n",
       "      <th>2</th>\n",
       "      <td>220110479080A015</td>\n",
       "      <td>22</td>\n",
       "      <td>011</td>\n",
       "      <td>0479</td>\n",
       "      <td>080A</td>\n",
       "      <td>015</td>\n",
       "      <td>Urbana</td>\n",
       "      <td>Típica</td>\n",
       "      <td>POLYGON ((-100.29092 20.5916, -100.29092 20.59...</td>\n",
       "    </tr>\n",
       "    <tr>\n",
       "      <th>3</th>\n",
       "      <td>220110479080A039</td>\n",
       "      <td>22</td>\n",
       "      <td>011</td>\n",
       "      <td>0479</td>\n",
       "      <td>080A</td>\n",
       "      <td>039</td>\n",
       "      <td>Urbana</td>\n",
       "      <td>Típica</td>\n",
       "      <td>POLYGON ((-100.29058 20.59098, -100.29057 20.5...</td>\n",
       "    </tr>\n",
       "  </tbody>\n",
       "</table>\n",
       "</div>"
      ],
      "text/plain": [
       "             CVEGEO CVE_ENT CVE_MUN CVE_LOC CVE_AGEB CVE_MZA  AMBITO TIPOMZA  \\\n",
       "0  2201105180119028      22     011    0518     0119     028   Rural  Típica   \n",
       "1  220110479080A036      22     011    0479     080A     036  Urbana  Típica   \n",
       "2  220110479080A015      22     011    0479     080A     015  Urbana  Típica   \n",
       "3  220110479080A039      22     011    0479     080A     039  Urbana  Típica   \n",
       "\n",
       "                                            geometry  \n",
       "0  POLYGON ((-100.28973 20.59585, -100.2899 20.59...  \n",
       "1  POLYGON ((-100.29095 20.59109, -100.29094 20.5...  \n",
       "2  POLYGON ((-100.29092 20.5916, -100.29092 20.59...  \n",
       "3  POLYGON ((-100.29058 20.59098, -100.29057 20.5...  "
      ]
     },
     "execution_count": 8,
     "metadata": {},
     "output_type": "execute_result"
    }
   ],
   "source": [
    "schema = 'marco'\n",
    "table = 'mza_2020'\n",
    "\n",
    "query = f\"SELECT * FROM {schema}.{table} WHERE ST_Intersects(geometry, 'SRID=4326;{poly_wkt}')\"\n",
    "mnz_gdf = aup.gdf_from_query(query, geometry_col='geometry')\n",
    "print(mnz_gdf.shape)\n",
    "mnz_gdf.head(4)"
   ]
  },
  {
   "cell_type": "markdown",
   "id": "9fb52455-9698-4d4a-bc11-8617e0d4ffd5",
   "metadata": {},
   "source": [
    "## Intersecciones"
   ]
  },
  {
   "cell_type": "code",
   "execution_count": 9,
   "id": "ab0c0492-3b82-4fbe-80c9-8f3ac22a315d",
   "metadata": {
    "scrolled": true
   },
   "outputs": [
    {
     "name": "stderr",
     "output_type": "stream",
     "text": [
      "Skipping field osmid: unsupported OGR type: 5\n"
     ]
    },
    {
     "name": "stdout",
     "output_type": "stream",
     "text": [
      "(35950, 6)\n"
     ]
    },
    {
     "data": {
      "text/html": [
       "<div>\n",
       "<style scoped>\n",
       "    .dataframe tbody tr th:only-of-type {\n",
       "        vertical-align: middle;\n",
       "    }\n",
       "\n",
       "    .dataframe tbody tr th {\n",
       "        vertical-align: top;\n",
       "    }\n",
       "\n",
       "    .dataframe thead th {\n",
       "        text-align: right;\n",
       "    }\n",
       "</style>\n",
       "<table border=\"1\" class=\"dataframe\">\n",
       "  <thead>\n",
       "    <tr style=\"text-align: right;\">\n",
       "      <th></th>\n",
       "      <th>streets_count</th>\n",
       "      <th>x</th>\n",
       "      <th>y</th>\n",
       "      <th>street_count</th>\n",
       "      <th>cluster</th>\n",
       "      <th>geometry</th>\n",
       "    </tr>\n",
       "  </thead>\n",
       "  <tbody>\n",
       "    <tr>\n",
       "      <th>0</th>\n",
       "      <td>3.0</td>\n",
       "      <td>334645.100188</td>\n",
       "      <td>2.292054e+06</td>\n",
       "      <td>3</td>\n",
       "      <td>NaN</td>\n",
       "      <td>POINT (334645.1 2292054.112)</td>\n",
       "    </tr>\n",
       "    <tr>\n",
       "      <th>1</th>\n",
       "      <td>3.0</td>\n",
       "      <td>334676.442572</td>\n",
       "      <td>2.292063e+06</td>\n",
       "      <td>3</td>\n",
       "      <td>NaN</td>\n",
       "      <td>POINT (334676.443 2292063.465)</td>\n",
       "    </tr>\n",
       "  </tbody>\n",
       "</table>\n",
       "</div>"
      ],
      "text/plain": [
       "  streets_count              x             y  street_count  cluster  \\\n",
       "0           3.0  334645.100188  2.292054e+06             3      NaN   \n",
       "1           3.0  334676.442572  2.292063e+06             3      NaN   \n",
       "\n",
       "                         geometry  \n",
       "0    POINT (334645.1 2292054.112)  \n",
       "1  POINT (334676.443 2292063.465)  "
      ]
     },
     "execution_count": 9,
     "metadata": {},
     "output_type": "execute_result"
    }
   ],
   "source": [
    "nodes = gpd.read_file('../../../data/processed/Distrito_QRO/nodes_qro.geojson')\n",
    "print(nodes.shape)\n",
    "nodes.head(2)"
   ]
  },
  {
   "cell_type": "markdown",
   "id": "21e44684-a1a2-4275-a203-630d07210840",
   "metadata": {},
   "source": [
    "## Vialidades"
   ]
  },
  {
   "cell_type": "code",
   "execution_count": 10,
   "id": "71222436-f90c-4511-bcc0-fdd74b66e1be",
   "metadata": {},
   "outputs": [
    {
     "name": "stdout",
     "output_type": "stream",
     "text": [
      "(59031, 5)\n"
     ]
    },
    {
     "data": {
      "text/html": [
       "<div>\n",
       "<style scoped>\n",
       "    .dataframe tbody tr th:only-of-type {\n",
       "        vertical-align: middle;\n",
       "    }\n",
       "\n",
       "    .dataframe tbody tr th {\n",
       "        vertical-align: top;\n",
       "    }\n",
       "\n",
       "    .dataframe thead th {\n",
       "        text-align: right;\n",
       "    }\n",
       "</style>\n",
       "<table border=\"1\" class=\"dataframe\">\n",
       "  <thead>\n",
       "    <tr style=\"text-align: right;\">\n",
       "      <th></th>\n",
       "      <th>u</th>\n",
       "      <th>v</th>\n",
       "      <th>key</th>\n",
       "      <th>length</th>\n",
       "      <th>geometry</th>\n",
       "    </tr>\n",
       "  </thead>\n",
       "  <tbody>\n",
       "    <tr>\n",
       "      <th>0</th>\n",
       "      <td>33464510229205411</td>\n",
       "      <td>33467644229206346</td>\n",
       "      <td>0</td>\n",
       "      <td>32.708216</td>\n",
       "      <td>LINESTRING (334645.1 2292054.112, 334676.443 2...</td>\n",
       "    </tr>\n",
       "    <tr>\n",
       "      <th>1</th>\n",
       "      <td>33464510229205411</td>\n",
       "      <td>33484542229215277</td>\n",
       "      <td>0</td>\n",
       "      <td>360.491004</td>\n",
       "      <td>LINESTRING (334645.1 2292054.112, 334643.239 2...</td>\n",
       "    </tr>\n",
       "    <tr>\n",
       "      <th>2</th>\n",
       "      <td>33467644229206346</td>\n",
       "      <td>33474525229209792</td>\n",
       "      <td>0</td>\n",
       "      <td>80.832452</td>\n",
       "      <td>LINESTRING (334676.443 2292063.465, 334677.025...</td>\n",
       "    </tr>\n",
       "    <tr>\n",
       "      <th>3</th>\n",
       "      <td>33467644229206346</td>\n",
       "      <td>33474525229209792</td>\n",
       "      <td>1</td>\n",
       "      <td>103.769233</td>\n",
       "      <td>LINESTRING (334676.443 2292063.465, 334676.632...</td>\n",
       "    </tr>\n",
       "  </tbody>\n",
       "</table>\n",
       "</div>"
      ],
      "text/plain": [
       "                   u                  v  key      length  \\\n",
       "0  33464510229205411  33467644229206346    0   32.708216   \n",
       "1  33464510229205411  33484542229215277    0  360.491004   \n",
       "2  33467644229206346  33474525229209792    0   80.832452   \n",
       "3  33467644229206346  33474525229209792    1  103.769233   \n",
       "\n",
       "                                            geometry  \n",
       "0  LINESTRING (334645.1 2292054.112, 334676.443 2...  \n",
       "1  LINESTRING (334645.1 2292054.112, 334643.239 2...  \n",
       "2  LINESTRING (334676.443 2292063.465, 334677.025...  \n",
       "3  LINESTRING (334676.443 2292063.465, 334676.632...  "
      ]
     },
     "execution_count": 10,
     "metadata": {},
     "output_type": "execute_result"
    }
   ],
   "source": [
    "edges = gpd.read_file('../../../data/processed/Distrito_QRO/edges_qro.geojson')\n",
    "edges = edges.explode()\n",
    "print(edges.shape)\n",
    "edges.head(4)"
   ]
  },
  {
   "cell_type": "markdown",
   "id": "f4af7e8c-844c-4c5b-b3ee-1c6452e4465d",
   "metadata": {
    "jp-MarkdownHeadingCollapsed": true
   },
   "source": [
    "## Space syntax"
   ]
  },
  {
   "cell_type": "code",
   "execution_count": 9,
   "id": "544c2a32-9cf1-4d93-a7ba-c44f2490b629",
   "metadata": {},
   "outputs": [
    {
     "ename": "DataSourceError",
     "evalue": "../data/processed/VialidadesAMG_AngularChoice_INEGI19_UTM_v3.shp: No such file or directory",
     "output_type": "error",
     "traceback": [
      "\u001b[0;31m---------------------------------------------------------------------------\u001b[0m",
      "\u001b[0;31mDataSourceError\u001b[0m                           Traceback (most recent call last)",
      "Cell \u001b[0;32mIn[9], line 1\u001b[0m\n\u001b[0;32m----> 1\u001b[0m ss_gdf \u001b[38;5;241m=\u001b[39m \u001b[43mgpd\u001b[49m\u001b[38;5;241;43m.\u001b[39;49m\u001b[43mread_file\u001b[49m\u001b[43m(\u001b[49m\u001b[38;5;124;43m'\u001b[39;49m\u001b[38;5;124;43m../data/processed/VialidadesAMG_AngularChoice_INEGI19_UTM_v3.shp\u001b[39;49m\u001b[38;5;124;43m'\u001b[39;49m\u001b[43m)\u001b[49m\n\u001b[1;32m      2\u001b[0m \u001b[38;5;28mprint\u001b[39m(ss_gdf\u001b[38;5;241m.\u001b[39mshape)\n\u001b[1;32m      3\u001b[0m ss_gdf\u001b[38;5;241m.\u001b[39mhead(\u001b[38;5;241m2\u001b[39m)\n",
      "File \u001b[0;32m~/.cache/pypoetry/virtualenvs/aup-qDsIK5d5-py3.13/lib/python3.13/site-packages/geopandas/io/file.py:294\u001b[0m, in \u001b[0;36m_read_file\u001b[0;34m(filename, bbox, mask, columns, rows, engine, **kwargs)\u001b[0m\n\u001b[1;32m    291\u001b[0m             from_bytes \u001b[38;5;241m=\u001b[39m \u001b[38;5;28;01mTrue\u001b[39;00m\n\u001b[1;32m    293\u001b[0m \u001b[38;5;28;01mif\u001b[39;00m engine \u001b[38;5;241m==\u001b[39m \u001b[38;5;124m\"\u001b[39m\u001b[38;5;124mpyogrio\u001b[39m\u001b[38;5;124m\"\u001b[39m:\n\u001b[0;32m--> 294\u001b[0m     \u001b[38;5;28;01mreturn\u001b[39;00m \u001b[43m_read_file_pyogrio\u001b[49m\u001b[43m(\u001b[49m\n\u001b[1;32m    295\u001b[0m \u001b[43m        \u001b[49m\u001b[43mfilename\u001b[49m\u001b[43m,\u001b[49m\u001b[43m \u001b[49m\u001b[43mbbox\u001b[49m\u001b[38;5;241;43m=\u001b[39;49m\u001b[43mbbox\u001b[49m\u001b[43m,\u001b[49m\u001b[43m \u001b[49m\u001b[43mmask\u001b[49m\u001b[38;5;241;43m=\u001b[39;49m\u001b[43mmask\u001b[49m\u001b[43m,\u001b[49m\u001b[43m \u001b[49m\u001b[43mcolumns\u001b[49m\u001b[38;5;241;43m=\u001b[39;49m\u001b[43mcolumns\u001b[49m\u001b[43m,\u001b[49m\u001b[43m \u001b[49m\u001b[43mrows\u001b[49m\u001b[38;5;241;43m=\u001b[39;49m\u001b[43mrows\u001b[49m\u001b[43m,\u001b[49m\u001b[43m \u001b[49m\u001b[38;5;241;43m*\u001b[39;49m\u001b[38;5;241;43m*\u001b[39;49m\u001b[43mkwargs\u001b[49m\n\u001b[1;32m    296\u001b[0m \u001b[43m    \u001b[49m\u001b[43m)\u001b[49m\n\u001b[1;32m    298\u001b[0m \u001b[38;5;28;01melif\u001b[39;00m engine \u001b[38;5;241m==\u001b[39m \u001b[38;5;124m\"\u001b[39m\u001b[38;5;124mfiona\u001b[39m\u001b[38;5;124m\"\u001b[39m:\n\u001b[1;32m    299\u001b[0m     \u001b[38;5;28;01mif\u001b[39;00m pd\u001b[38;5;241m.\u001b[39mapi\u001b[38;5;241m.\u001b[39mtypes\u001b[38;5;241m.\u001b[39mis_file_like(filename):\n",
      "File \u001b[0;32m~/.cache/pypoetry/virtualenvs/aup-qDsIK5d5-py3.13/lib/python3.13/site-packages/geopandas/io/file.py:547\u001b[0m, in \u001b[0;36m_read_file_pyogrio\u001b[0;34m(path_or_bytes, bbox, mask, rows, **kwargs)\u001b[0m\n\u001b[1;32m    538\u001b[0m     warnings\u001b[38;5;241m.\u001b[39mwarn(\n\u001b[1;32m    539\u001b[0m         \u001b[38;5;124m\"\u001b[39m\u001b[38;5;124mThe \u001b[39m\u001b[38;5;124m'\u001b[39m\u001b[38;5;124minclude_fields\u001b[39m\u001b[38;5;124m'\u001b[39m\u001b[38;5;124m and \u001b[39m\u001b[38;5;124m'\u001b[39m\u001b[38;5;124mignore_fields\u001b[39m\u001b[38;5;124m'\u001b[39m\u001b[38;5;124m keywords are deprecated, and \u001b[39m\u001b[38;5;124m\"\u001b[39m\n\u001b[1;32m    540\u001b[0m         \u001b[38;5;124m\"\u001b[39m\u001b[38;5;124mwill be removed in a future release. You can use the \u001b[39m\u001b[38;5;124m'\u001b[39m\u001b[38;5;124mcolumns\u001b[39m\u001b[38;5;124m'\u001b[39m\u001b[38;5;124m keyword \u001b[39m\u001b[38;5;124m\"\u001b[39m\n\u001b[0;32m   (...)\u001b[0m\n\u001b[1;32m    543\u001b[0m         stacklevel\u001b[38;5;241m=\u001b[39m\u001b[38;5;241m3\u001b[39m,\n\u001b[1;32m    544\u001b[0m     )\n\u001b[1;32m    545\u001b[0m     kwargs[\u001b[38;5;124m\"\u001b[39m\u001b[38;5;124mcolumns\u001b[39m\u001b[38;5;124m\"\u001b[39m] \u001b[38;5;241m=\u001b[39m kwargs\u001b[38;5;241m.\u001b[39mpop(\u001b[38;5;124m\"\u001b[39m\u001b[38;5;124minclude_fields\u001b[39m\u001b[38;5;124m\"\u001b[39m)\n\u001b[0;32m--> 547\u001b[0m \u001b[38;5;28;01mreturn\u001b[39;00m \u001b[43mpyogrio\u001b[49m\u001b[38;5;241;43m.\u001b[39;49m\u001b[43mread_dataframe\u001b[49m\u001b[43m(\u001b[49m\u001b[43mpath_or_bytes\u001b[49m\u001b[43m,\u001b[49m\u001b[43m \u001b[49m\u001b[43mbbox\u001b[49m\u001b[38;5;241;43m=\u001b[39;49m\u001b[43mbbox\u001b[49m\u001b[43m,\u001b[49m\u001b[43m \u001b[49m\u001b[38;5;241;43m*\u001b[39;49m\u001b[38;5;241;43m*\u001b[39;49m\u001b[43mkwargs\u001b[49m\u001b[43m)\u001b[49m\n",
      "File \u001b[0;32m~/.cache/pypoetry/virtualenvs/aup-qDsIK5d5-py3.13/lib64/python3.13/site-packages/pyogrio/geopandas.py:265\u001b[0m, in \u001b[0;36mread_dataframe\u001b[0;34m(path_or_buffer, layer, encoding, columns, read_geometry, force_2d, skip_features, max_features, where, bbox, mask, fids, sql, sql_dialect, fid_as_index, use_arrow, on_invalid, arrow_to_pandas_kwargs, **kwargs)\u001b[0m\n\u001b[1;32m    260\u001b[0m \u001b[38;5;28;01mif\u001b[39;00m \u001b[38;5;129;01mnot\u001b[39;00m use_arrow:\n\u001b[1;32m    261\u001b[0m     \u001b[38;5;66;03m# For arrow, datetimes are read as is.\u001b[39;00m\n\u001b[1;32m    262\u001b[0m     \u001b[38;5;66;03m# For numpy IO, datetimes are read as string values to preserve timezone info\u001b[39;00m\n\u001b[1;32m    263\u001b[0m     \u001b[38;5;66;03m# as numpy does not directly support timezones.\u001b[39;00m\n\u001b[1;32m    264\u001b[0m     kwargs[\u001b[38;5;124m\"\u001b[39m\u001b[38;5;124mdatetime_as_string\u001b[39m\u001b[38;5;124m\"\u001b[39m] \u001b[38;5;241m=\u001b[39m \u001b[38;5;28;01mTrue\u001b[39;00m\n\u001b[0;32m--> 265\u001b[0m result \u001b[38;5;241m=\u001b[39m \u001b[43mread_func\u001b[49m\u001b[43m(\u001b[49m\n\u001b[1;32m    266\u001b[0m \u001b[43m    \u001b[49m\u001b[43mpath_or_buffer\u001b[49m\u001b[43m,\u001b[49m\n\u001b[1;32m    267\u001b[0m \u001b[43m    \u001b[49m\u001b[43mlayer\u001b[49m\u001b[38;5;241;43m=\u001b[39;49m\u001b[43mlayer\u001b[49m\u001b[43m,\u001b[49m\n\u001b[1;32m    268\u001b[0m \u001b[43m    \u001b[49m\u001b[43mencoding\u001b[49m\u001b[38;5;241;43m=\u001b[39;49m\u001b[43mencoding\u001b[49m\u001b[43m,\u001b[49m\n\u001b[1;32m    269\u001b[0m \u001b[43m    \u001b[49m\u001b[43mcolumns\u001b[49m\u001b[38;5;241;43m=\u001b[39;49m\u001b[43mcolumns\u001b[49m\u001b[43m,\u001b[49m\n\u001b[1;32m    270\u001b[0m \u001b[43m    \u001b[49m\u001b[43mread_geometry\u001b[49m\u001b[38;5;241;43m=\u001b[39;49m\u001b[43mread_geometry\u001b[49m\u001b[43m,\u001b[49m\n\u001b[1;32m    271\u001b[0m \u001b[43m    \u001b[49m\u001b[43mforce_2d\u001b[49m\u001b[38;5;241;43m=\u001b[39;49m\u001b[43mgdal_force_2d\u001b[49m\u001b[43m,\u001b[49m\n\u001b[1;32m    272\u001b[0m \u001b[43m    \u001b[49m\u001b[43mskip_features\u001b[49m\u001b[38;5;241;43m=\u001b[39;49m\u001b[43mskip_features\u001b[49m\u001b[43m,\u001b[49m\n\u001b[1;32m    273\u001b[0m \u001b[43m    \u001b[49m\u001b[43mmax_features\u001b[49m\u001b[38;5;241;43m=\u001b[39;49m\u001b[43mmax_features\u001b[49m\u001b[43m,\u001b[49m\n\u001b[1;32m    274\u001b[0m \u001b[43m    \u001b[49m\u001b[43mwhere\u001b[49m\u001b[38;5;241;43m=\u001b[39;49m\u001b[43mwhere\u001b[49m\u001b[43m,\u001b[49m\n\u001b[1;32m    275\u001b[0m \u001b[43m    \u001b[49m\u001b[43mbbox\u001b[49m\u001b[38;5;241;43m=\u001b[39;49m\u001b[43mbbox\u001b[49m\u001b[43m,\u001b[49m\n\u001b[1;32m    276\u001b[0m \u001b[43m    \u001b[49m\u001b[43mmask\u001b[49m\u001b[38;5;241;43m=\u001b[39;49m\u001b[43mmask\u001b[49m\u001b[43m,\u001b[49m\n\u001b[1;32m    277\u001b[0m \u001b[43m    \u001b[49m\u001b[43mfids\u001b[49m\u001b[38;5;241;43m=\u001b[39;49m\u001b[43mfids\u001b[49m\u001b[43m,\u001b[49m\n\u001b[1;32m    278\u001b[0m \u001b[43m    \u001b[49m\u001b[43msql\u001b[49m\u001b[38;5;241;43m=\u001b[39;49m\u001b[43msql\u001b[49m\u001b[43m,\u001b[49m\n\u001b[1;32m    279\u001b[0m \u001b[43m    \u001b[49m\u001b[43msql_dialect\u001b[49m\u001b[38;5;241;43m=\u001b[39;49m\u001b[43msql_dialect\u001b[49m\u001b[43m,\u001b[49m\n\u001b[1;32m    280\u001b[0m \u001b[43m    \u001b[49m\u001b[43mreturn_fids\u001b[49m\u001b[38;5;241;43m=\u001b[39;49m\u001b[43mfid_as_index\u001b[49m\u001b[43m,\u001b[49m\n\u001b[1;32m    281\u001b[0m \u001b[43m    \u001b[49m\u001b[38;5;241;43m*\u001b[39;49m\u001b[38;5;241;43m*\u001b[39;49m\u001b[43mkwargs\u001b[49m\u001b[43m,\u001b[49m\n\u001b[1;32m    282\u001b[0m \u001b[43m\u001b[49m\u001b[43m)\u001b[49m\n\u001b[1;32m    284\u001b[0m \u001b[38;5;28;01mif\u001b[39;00m use_arrow:\n\u001b[1;32m    285\u001b[0m     meta, table \u001b[38;5;241m=\u001b[39m result\n",
      "File \u001b[0;32m~/.cache/pypoetry/virtualenvs/aup-qDsIK5d5-py3.13/lib64/python3.13/site-packages/pyogrio/raw.py:198\u001b[0m, in \u001b[0;36mread\u001b[0;34m(path_or_buffer, layer, encoding, columns, read_geometry, force_2d, skip_features, max_features, where, bbox, mask, fids, sql, sql_dialect, return_fids, datetime_as_string, **kwargs)\u001b[0m\n\u001b[1;32m     59\u001b[0m \u001b[38;5;250m\u001b[39m\u001b[38;5;124;03m\"\"\"Read OGR data source into numpy arrays.\u001b[39;00m\n\u001b[1;32m     60\u001b[0m \n\u001b[1;32m     61\u001b[0m \u001b[38;5;124;03mIMPORTANT: non-linear geometry types (e.g., MultiSurface) are converted\u001b[39;00m\n\u001b[0;32m   (...)\u001b[0m\n\u001b[1;32m    194\u001b[0m \n\u001b[1;32m    195\u001b[0m \u001b[38;5;124;03m\"\"\"\u001b[39;00m\n\u001b[1;32m    196\u001b[0m dataset_kwargs \u001b[38;5;241m=\u001b[39m _preprocess_options_key_value(kwargs) \u001b[38;5;28;01mif\u001b[39;00m kwargs \u001b[38;5;28;01melse\u001b[39;00m {}\n\u001b[0;32m--> 198\u001b[0m \u001b[38;5;28;01mreturn\u001b[39;00m \u001b[43mogr_read\u001b[49m\u001b[43m(\u001b[49m\n\u001b[1;32m    199\u001b[0m \u001b[43m    \u001b[49m\u001b[43mget_vsi_path_or_buffer\u001b[49m\u001b[43m(\u001b[49m\u001b[43mpath_or_buffer\u001b[49m\u001b[43m)\u001b[49m\u001b[43m,\u001b[49m\n\u001b[1;32m    200\u001b[0m \u001b[43m    \u001b[49m\u001b[43mlayer\u001b[49m\u001b[38;5;241;43m=\u001b[39;49m\u001b[43mlayer\u001b[49m\u001b[43m,\u001b[49m\n\u001b[1;32m    201\u001b[0m \u001b[43m    \u001b[49m\u001b[43mencoding\u001b[49m\u001b[38;5;241;43m=\u001b[39;49m\u001b[43mencoding\u001b[49m\u001b[43m,\u001b[49m\n\u001b[1;32m    202\u001b[0m \u001b[43m    \u001b[49m\u001b[43mcolumns\u001b[49m\u001b[38;5;241;43m=\u001b[39;49m\u001b[43mcolumns\u001b[49m\u001b[43m,\u001b[49m\n\u001b[1;32m    203\u001b[0m \u001b[43m    \u001b[49m\u001b[43mread_geometry\u001b[49m\u001b[38;5;241;43m=\u001b[39;49m\u001b[43mread_geometry\u001b[49m\u001b[43m,\u001b[49m\n\u001b[1;32m    204\u001b[0m \u001b[43m    \u001b[49m\u001b[43mforce_2d\u001b[49m\u001b[38;5;241;43m=\u001b[39;49m\u001b[43mforce_2d\u001b[49m\u001b[43m,\u001b[49m\n\u001b[1;32m    205\u001b[0m \u001b[43m    \u001b[49m\u001b[43mskip_features\u001b[49m\u001b[38;5;241;43m=\u001b[39;49m\u001b[43mskip_features\u001b[49m\u001b[43m,\u001b[49m\n\u001b[1;32m    206\u001b[0m \u001b[43m    \u001b[49m\u001b[43mmax_features\u001b[49m\u001b[38;5;241;43m=\u001b[39;49m\u001b[43mmax_features\u001b[49m\u001b[43m \u001b[49m\u001b[38;5;129;43;01mor\u001b[39;49;00m\u001b[43m \u001b[49m\u001b[38;5;241;43m0\u001b[39;49m\u001b[43m,\u001b[49m\n\u001b[1;32m    207\u001b[0m \u001b[43m    \u001b[49m\u001b[43mwhere\u001b[49m\u001b[38;5;241;43m=\u001b[39;49m\u001b[43mwhere\u001b[49m\u001b[43m,\u001b[49m\n\u001b[1;32m    208\u001b[0m \u001b[43m    \u001b[49m\u001b[43mbbox\u001b[49m\u001b[38;5;241;43m=\u001b[39;49m\u001b[43mbbox\u001b[49m\u001b[43m,\u001b[49m\n\u001b[1;32m    209\u001b[0m \u001b[43m    \u001b[49m\u001b[43mmask\u001b[49m\u001b[38;5;241;43m=\u001b[39;49m\u001b[43m_mask_to_wkb\u001b[49m\u001b[43m(\u001b[49m\u001b[43mmask\u001b[49m\u001b[43m)\u001b[49m\u001b[43m,\u001b[49m\n\u001b[1;32m    210\u001b[0m \u001b[43m    \u001b[49m\u001b[43mfids\u001b[49m\u001b[38;5;241;43m=\u001b[39;49m\u001b[43mfids\u001b[49m\u001b[43m,\u001b[49m\n\u001b[1;32m    211\u001b[0m \u001b[43m    \u001b[49m\u001b[43msql\u001b[49m\u001b[38;5;241;43m=\u001b[39;49m\u001b[43msql\u001b[49m\u001b[43m,\u001b[49m\n\u001b[1;32m    212\u001b[0m \u001b[43m    \u001b[49m\u001b[43msql_dialect\u001b[49m\u001b[38;5;241;43m=\u001b[39;49m\u001b[43msql_dialect\u001b[49m\u001b[43m,\u001b[49m\n\u001b[1;32m    213\u001b[0m \u001b[43m    \u001b[49m\u001b[43mreturn_fids\u001b[49m\u001b[38;5;241;43m=\u001b[39;49m\u001b[43mreturn_fids\u001b[49m\u001b[43m,\u001b[49m\n\u001b[1;32m    214\u001b[0m \u001b[43m    \u001b[49m\u001b[43mdataset_kwargs\u001b[49m\u001b[38;5;241;43m=\u001b[39;49m\u001b[43mdataset_kwargs\u001b[49m\u001b[43m,\u001b[49m\n\u001b[1;32m    215\u001b[0m \u001b[43m    \u001b[49m\u001b[43mdatetime_as_string\u001b[49m\u001b[38;5;241;43m=\u001b[39;49m\u001b[43mdatetime_as_string\u001b[49m\u001b[43m,\u001b[49m\n\u001b[1;32m    216\u001b[0m \u001b[43m\u001b[49m\u001b[43m)\u001b[49m\n",
      "File \u001b[0;32mpyogrio/_io.pyx:1240\u001b[0m, in \u001b[0;36mpyogrio._io.ogr_read\u001b[0;34m()\u001b[0m\n",
      "File \u001b[0;32mpyogrio/_io.pyx:220\u001b[0m, in \u001b[0;36mpyogrio._io.ogr_open\u001b[0;34m()\u001b[0m\n",
      "\u001b[0;31mDataSourceError\u001b[0m: ../data/processed/VialidadesAMG_AngularChoice_INEGI19_UTM_v3.shp: No such file or directory"
     ]
    }
   ],
   "source": [
    "ss_gdf = gpd.read_file('../data/processed/VialidadesAMG_AngularChoice_INEGI19_UTM_v3.shp')\n",
    "print(ss_gdf.shape)\n",
    "ss_gdf.head(2)"
   ]
  },
  {
   "cell_type": "markdown",
   "id": "f220e926-2c2b-4845-b7c4-9258eb1ef0e8",
   "metadata": {},
   "source": [
    "## Spatial anaylsis"
   ]
  },
  {
   "cell_type": "markdown",
   "id": "f0ef8b37-4ffd-4071-a34e-61550a677beb",
   "metadata": {},
   "source": [
    "### Land use"
   ]
  },
  {
   "cell_type": "markdown",
   "id": "d653d5d1-af57-4d2a-8d37-d065dbedd1b3",
   "metadata": {},
   "source": [
    "### Open space"
   ]
  },
  {
   "cell_type": "code",
   "execution_count": 11,
   "id": "cbe763c6-9072-42c2-a38c-91d4b38db556",
   "metadata": {},
   "outputs": [
    {
     "name": "stdout",
     "output_type": "stream",
     "text": [
      "(19849, 9)\n"
     ]
    },
    {
     "name": "stderr",
     "output_type": "stream",
     "text": [
      "/home/edgaregurrola/.var/app/com.vscodium.codium/cache/pypoetry/virtualenvs/aup-qDsIK5d5-py3.12/lib/python3.12/site-packages/geopandas/geodataframe.py:2675: UserWarning: `keep_geom_type=True` in overlay resulted in 335 dropped geometries of different geometry types than df1 has. Set `keep_geom_type=False` to retain all geometries\n",
      "  return geopandas.overlay(\n"
     ]
    },
    {
     "data": {
      "text/html": [
       "<div>\n",
       "<style scoped>\n",
       "    .dataframe tbody tr th:only-of-type {\n",
       "        vertical-align: middle;\n",
       "    }\n",
       "\n",
       "    .dataframe tbody tr th {\n",
       "        vertical-align: top;\n",
       "    }\n",
       "\n",
       "    .dataframe thead th {\n",
       "        text-align: right;\n",
       "    }\n",
       "</style>\n",
       "<table border=\"1\" class=\"dataframe\">\n",
       "  <thead>\n",
       "    <tr style=\"text-align: right;\">\n",
       "      <th></th>\n",
       "      <th>CVEGEO</th>\n",
       "      <th>CVE_ENT</th>\n",
       "      <th>CVE_MUN</th>\n",
       "      <th>CVE_LOC</th>\n",
       "      <th>CVE_AGEB</th>\n",
       "      <th>CVE_MZA</th>\n",
       "      <th>AMBITO</th>\n",
       "      <th>TIPOMZA</th>\n",
       "      <th>geometry</th>\n",
       "    </tr>\n",
       "  </thead>\n",
       "  <tbody>\n",
       "    <tr>\n",
       "      <th>0</th>\n",
       "      <td>2201105180119028</td>\n",
       "      <td>22</td>\n",
       "      <td>011</td>\n",
       "      <td>0518</td>\n",
       "      <td>0119</td>\n",
       "      <td>028</td>\n",
       "      <td>Rural</td>\n",
       "      <td>Típica</td>\n",
       "      <td>POLYGON ((-100.2899 20.596, -100.28983 20.5960...</td>\n",
       "    </tr>\n",
       "    <tr>\n",
       "      <th>1</th>\n",
       "      <td>220110479080A036</td>\n",
       "      <td>22</td>\n",
       "      <td>011</td>\n",
       "      <td>0479</td>\n",
       "      <td>080A</td>\n",
       "      <td>036</td>\n",
       "      <td>Urbana</td>\n",
       "      <td>Típica</td>\n",
       "      <td>POLYGON ((-100.29055 20.59122, -100.29056 20.5...</td>\n",
       "    </tr>\n",
       "  </tbody>\n",
       "</table>\n",
       "</div>"
      ],
      "text/plain": [
       "             CVEGEO CVE_ENT CVE_MUN CVE_LOC CVE_AGEB CVE_MZA  AMBITO TIPOMZA  \\\n",
       "0  2201105180119028      22     011    0518     0119     028   Rural  Típica   \n",
       "1  220110479080A036      22     011    0479     080A     036  Urbana  Típica   \n",
       "\n",
       "                                            geometry  \n",
       "0  POLYGON ((-100.2899 20.596, -100.28983 20.5960...  \n",
       "1  POLYGON ((-100.29055 20.59122, -100.29056 20.5...  "
      ]
     },
     "execution_count": 11,
     "metadata": {},
     "output_type": "execute_result"
    }
   ],
   "source": [
    "mnz_diff = mnz_gdf.overlay(bld_qro, how='difference')\n",
    "print(mnz_diff.shape)\n",
    "mnz_diff.head(2)"
   ]
  },
  {
   "cell_type": "code",
   "execution_count": 12,
   "id": "2b90beda-f9b2-4049-8130-1021e4093663",
   "metadata": {},
   "outputs": [
    {
     "data": {
      "text/plain": [
       "<Axes: >"
      ]
     },
     "execution_count": 12,
     "metadata": {},
     "output_type": "execute_result"
    },
    {
     "data": {
      "image/png": "[encoded data removed]",
      "text/plain": [
       "<Figure size 640x480 with 1 Axes>"
      ]
     },
     "metadata": {},
     "output_type": "display_data"
    }
   ],
   "source": [
    "mnz_diff.plot()"
   ]
  },
  {
   "cell_type": "markdown",
   "id": "3e1d3ed6-c65f-44ca-b79a-3aa7f914ec41",
   "metadata": {},
   "source": [
    "1. Calcular área 2. Extraer centroides 3. Intersección por localización"
   ]
  },
  {
   "cell_type": "code",
   "execution_count": 13,
   "id": "45b64f3c-e4b7-4774-ba6c-5b80e9048b67",
   "metadata": {},
   "outputs": [
    {
     "name": "stderr",
     "output_type": "stream",
     "text": [
      "/home/edgaregurrola/.var/app/com.vscodium.codium/cache/pypoetry/virtualenvs/aup-qDsIK5d5-py3.12/lib/python3.12/site-packages/geopandas/geodataframe.py:2675: UserWarning: `keep_geom_type=True` in overlay resulted in 68 dropped geometries of different geometry types than df1 has. Set `keep_geom_type=False` to retain all geometries\n",
      "  return geopandas.overlay(\n"
     ]
    }
   ],
   "source": [
    "mnz_diff_hex = mnz_diff.overlay(hex_gdf, how='intersection')\n",
    "mnz_diff_hex = mnz_diff_hex.explode()"
   ]
  },
  {
   "cell_type": "code",
   "execution_count": 14,
   "id": "a75858ec-df6b-4d11-a5c6-9a239a215a04",
   "metadata": {},
   "outputs": [
    {
     "name": "stdout",
     "output_type": "stream",
     "text": [
      "(97701, 15)\n"
     ]
    },
    {
     "data": {
      "text/html": [
       "<div>\n",
       "<style scoped>\n",
       "    .dataframe tbody tr th:only-of-type {\n",
       "        vertical-align: middle;\n",
       "    }\n",
       "\n",
       "    .dataframe tbody tr th {\n",
       "        vertical-align: top;\n",
       "    }\n",
       "\n",
       "    .dataframe thead th {\n",
       "        text-align: right;\n",
       "    }\n",
       "</style>\n",
       "<table border=\"1\" class=\"dataframe\">\n",
       "  <thead>\n",
       "    <tr style=\"text-align: right;\">\n",
       "      <th></th>\n",
       "      <th>CVEGEO_1</th>\n",
       "      <th>CVE_ENT</th>\n",
       "      <th>CVE_MUN</th>\n",
       "      <th>CVE_LOC</th>\n",
       "      <th>CVE_AGEB</th>\n",
       "      <th>CVE_MZA</th>\n",
       "      <th>AMBITO</th>\n",
       "      <th>TIPOMZA</th>\n",
       "      <th>hex_id_9</th>\n",
       "      <th>CVEGEO_2</th>\n",
       "      <th>NOMGEO</th>\n",
       "      <th>city</th>\n",
       "      <th>type</th>\n",
       "      <th>geometry</th>\n",
       "      <th>area_dif_ha</th>\n",
       "    </tr>\n",
       "  </thead>\n",
       "  <tbody>\n",
       "    <tr>\n",
       "      <th>0</th>\n",
       "      <td>220110479080A036</td>\n",
       "      <td>22</td>\n",
       "      <td>011</td>\n",
       "      <td>0479</td>\n",
       "      <td>080A</td>\n",
       "      <td>036</td>\n",
       "      <td>Urbana</td>\n",
       "      <td>Típica</td>\n",
       "      <td>89498236b03ffff</td>\n",
       "      <td>22011</td>\n",
       "      <td>El Marqués</td>\n",
       "      <td>Queretaro</td>\n",
       "      <td>urban</td>\n",
       "      <td>POLYGON ((-100.29056 20.59129, -100.29064 20.5...</td>\n",
       "      <td>0.035793</td>\n",
       "    </tr>\n",
       "    <tr>\n",
       "      <th>1</th>\n",
       "      <td>220110479080A015</td>\n",
       "      <td>22</td>\n",
       "      <td>011</td>\n",
       "      <td>0479</td>\n",
       "      <td>080A</td>\n",
       "      <td>015</td>\n",
       "      <td>Urbana</td>\n",
       "      <td>Típica</td>\n",
       "      <td>89498236b07ffff</td>\n",
       "      <td>22011</td>\n",
       "      <td>El Marqués</td>\n",
       "      <td>Queretaro</td>\n",
       "      <td>urban</td>\n",
       "      <td>POLYGON ((-100.29092 20.5916, -100.29091 20.59...</td>\n",
       "      <td>0.002366</td>\n",
       "    </tr>\n",
       "  </tbody>\n",
       "</table>\n",
       "</div>"
      ],
      "text/plain": [
       "           CVEGEO_1 CVE_ENT CVE_MUN CVE_LOC CVE_AGEB CVE_MZA  AMBITO TIPOMZA  \\\n",
       "0  220110479080A036      22     011    0479     080A     036  Urbana  Típica   \n",
       "1  220110479080A015      22     011    0479     080A     015  Urbana  Típica   \n",
       "\n",
       "          hex_id_9 CVEGEO_2      NOMGEO       city   type  \\\n",
       "0  89498236b03ffff    22011  El Marqués  Queretaro  urban   \n",
       "1  89498236b07ffff    22011  El Marqués  Queretaro  urban   \n",
       "\n",
       "                                            geometry  area_dif_ha  \n",
       "0  POLYGON ((-100.29056 20.59129, -100.29064 20.5...     0.035793  \n",
       "1  POLYGON ((-100.29092 20.5916, -100.29091 20.59...     0.002366  "
      ]
     },
     "execution_count": 14,
     "metadata": {},
     "output_type": "execute_result"
    }
   ],
   "source": [
    "mnz_diff_hex['area_dif_ha'] = mnz_diff_hex.to_crs(\"EPSG:32614\").area/10000\n",
    "print(mnz_diff_hex.shape)\n",
    "mnz_diff_hex.head(2)"
   ]
  },
  {
   "cell_type": "code",
   "execution_count": 15,
   "id": "63579499-adf5-4d9b-a7b1-ddc12691d8e3",
   "metadata": {},
   "outputs": [],
   "source": [
    "mnz_hex = mnz_gdf.overlay(hex_gdf, how='intersection')\n",
    "mnz_hex = mnz_hex.explode()"
   ]
  },
  {
   "cell_type": "code",
   "execution_count": 16,
   "id": "9dc915ee-5505-4193-b042-56efd9710cd3",
   "metadata": {},
   "outputs": [
    {
     "name": "stdout",
     "output_type": "stream",
     "text": [
      "(35118, 15)\n"
     ]
    },
    {
     "data": {
      "text/html": [
       "<div>\n",
       "<style scoped>\n",
       "    .dataframe tbody tr th:only-of-type {\n",
       "        vertical-align: middle;\n",
       "    }\n",
       "\n",
       "    .dataframe tbody tr th {\n",
       "        vertical-align: top;\n",
       "    }\n",
       "\n",
       "    .dataframe thead th {\n",
       "        text-align: right;\n",
       "    }\n",
       "</style>\n",
       "<table border=\"1\" class=\"dataframe\">\n",
       "  <thead>\n",
       "    <tr style=\"text-align: right;\">\n",
       "      <th></th>\n",
       "      <th>CVEGEO_1</th>\n",
       "      <th>CVE_ENT</th>\n",
       "      <th>CVE_MUN</th>\n",
       "      <th>CVE_LOC</th>\n",
       "      <th>CVE_AGEB</th>\n",
       "      <th>CVE_MZA</th>\n",
       "      <th>AMBITO</th>\n",
       "      <th>TIPOMZA</th>\n",
       "      <th>hex_id_9</th>\n",
       "      <th>CVEGEO_2</th>\n",
       "      <th>NOMGEO</th>\n",
       "      <th>city</th>\n",
       "      <th>type</th>\n",
       "      <th>geometry</th>\n",
       "      <th>area_tot_ha</th>\n",
       "    </tr>\n",
       "  </thead>\n",
       "  <tbody>\n",
       "    <tr>\n",
       "      <th>0</th>\n",
       "      <td>220110479080A036</td>\n",
       "      <td>22</td>\n",
       "      <td>011</td>\n",
       "      <td>0479</td>\n",
       "      <td>080A</td>\n",
       "      <td>036</td>\n",
       "      <td>Urbana</td>\n",
       "      <td>Típica</td>\n",
       "      <td>89498236b03ffff</td>\n",
       "      <td>22011</td>\n",
       "      <td>El Marqués</td>\n",
       "      <td>Queretaro</td>\n",
       "      <td>urban</td>\n",
       "      <td>POLYGON ((-100.29094 20.59124, -100.29051 20.5...</td>\n",
       "      <td>0.068991</td>\n",
       "    </tr>\n",
       "    <tr>\n",
       "      <th>1</th>\n",
       "      <td>220110479080A015</td>\n",
       "      <td>22</td>\n",
       "      <td>011</td>\n",
       "      <td>0479</td>\n",
       "      <td>080A</td>\n",
       "      <td>015</td>\n",
       "      <td>Urbana</td>\n",
       "      <td>Típica</td>\n",
       "      <td>89498236b07ffff</td>\n",
       "      <td>22011</td>\n",
       "      <td>El Marqués</td>\n",
       "      <td>Queretaro</td>\n",
       "      <td>urban</td>\n",
       "      <td>POLYGON ((-100.29092 20.5916, -100.29091 20.59...</td>\n",
       "      <td>0.037469</td>\n",
       "    </tr>\n",
       "  </tbody>\n",
       "</table>\n",
       "</div>"
      ],
      "text/plain": [
       "           CVEGEO_1 CVE_ENT CVE_MUN CVE_LOC CVE_AGEB CVE_MZA  AMBITO TIPOMZA  \\\n",
       "0  220110479080A036      22     011    0479     080A     036  Urbana  Típica   \n",
       "1  220110479080A015      22     011    0479     080A     015  Urbana  Típica   \n",
       "\n",
       "          hex_id_9 CVEGEO_2      NOMGEO       city   type  \\\n",
       "0  89498236b03ffff    22011  El Marqués  Queretaro  urban   \n",
       "1  89498236b07ffff    22011  El Marqués  Queretaro  urban   \n",
       "\n",
       "                                            geometry  area_tot_ha  \n",
       "0  POLYGON ((-100.29094 20.59124, -100.29051 20.5...     0.068991  \n",
       "1  POLYGON ((-100.29092 20.5916, -100.29091 20.59...     0.037469  "
      ]
     },
     "execution_count": 16,
     "metadata": {},
     "output_type": "execute_result"
    }
   ],
   "source": [
    "mnz_hex['area_tot_ha'] = mnz_hex.to_crs(\"EPSG:32614\").area/10000\n",
    "print(mnz_hex.shape)\n",
    "mnz_hex.head(2)"
   ]
  },
  {
   "cell_type": "code",
   "execution_count": 17,
   "id": "fc53709d-c3b1-4fd7-90da-789b6c12142a",
   "metadata": {
    "scrolled": true
   },
   "outputs": [],
   "source": [
    "mnz_hex = mnz_hex[['hex_id_9','area_tot_ha']].groupby('hex_id_9').sum()\n",
    "mnz_diff_hex = mnz_diff_hex.groupby('hex_id_9').sum(numeric_only=True)\n",
    "mnz_hex = mnz_hex.reset_index()\n",
    "mnz_diff_hex = mnz_diff_hex.reset_index()\n",
    "mnz_hex = mnz_hex.merge(mnz_diff_hex, on='hex_id_9')"
   ]
  },
  {
   "cell_type": "code",
   "execution_count": 18,
   "id": "6f8b8fb3-5b27-4fca-ae03-4a44a3856fcf",
   "metadata": {},
   "outputs": [
    {
     "data": {
      "text/html": [
       "<div>\n",
       "<style scoped>\n",
       "    .dataframe tbody tr th:only-of-type {\n",
       "        vertical-align: middle;\n",
       "    }\n",
       "\n",
       "    .dataframe tbody tr th {\n",
       "        vertical-align: top;\n",
       "    }\n",
       "\n",
       "    .dataframe thead th {\n",
       "        text-align: right;\n",
       "    }\n",
       "</style>\n",
       "<table border=\"1\" class=\"dataframe\">\n",
       "  <thead>\n",
       "    <tr style=\"text-align: right;\">\n",
       "      <th></th>\n",
       "      <th>hex_id_9</th>\n",
       "      <th>area_tot_ha</th>\n",
       "      <th>area_dif_ha</th>\n",
       "      <th>pct_openspace</th>\n",
       "    </tr>\n",
       "  </thead>\n",
       "  <tbody>\n",
       "    <tr>\n",
       "      <th>0</th>\n",
       "      <td>8949822402fffff</td>\n",
       "      <td>2.377252</td>\n",
       "      <td>2.156330</td>\n",
       "      <td>0.907068</td>\n",
       "    </tr>\n",
       "    <tr>\n",
       "      <th>1</th>\n",
       "      <td>89498224103ffff</td>\n",
       "      <td>6.683817</td>\n",
       "      <td>5.572192</td>\n",
       "      <td>0.833684</td>\n",
       "    </tr>\n",
       "    <tr>\n",
       "      <th>2</th>\n",
       "      <td>89498224107ffff</td>\n",
       "      <td>2.894334</td>\n",
       "      <td>2.617256</td>\n",
       "      <td>0.904269</td>\n",
       "    </tr>\n",
       "    <tr>\n",
       "      <th>3</th>\n",
       "      <td>8949822410bffff</td>\n",
       "      <td>11.018867</td>\n",
       "      <td>8.853284</td>\n",
       "      <td>0.803466</td>\n",
       "    </tr>\n",
       "  </tbody>\n",
       "</table>\n",
       "</div>"
      ],
      "text/plain": [
       "          hex_id_9  area_tot_ha  area_dif_ha  pct_openspace\n",
       "0  8949822402fffff     2.377252     2.156330       0.907068\n",
       "1  89498224103ffff     6.683817     5.572192       0.833684\n",
       "2  89498224107ffff     2.894334     2.617256       0.904269\n",
       "3  8949822410bffff    11.018867     8.853284       0.803466"
      ]
     },
     "execution_count": 18,
     "metadata": {},
     "output_type": "execute_result"
    }
   ],
   "source": [
    "mnz_hex['pct_openspace'] = mnz_hex['area_dif_ha'] / mnz_hex['area_tot_ha']\n",
    "mnz_hex.head(4)"
   ]
  },
  {
   "cell_type": "code",
   "execution_count": 19,
   "id": "5d8cbc8b-75e5-48f9-9627-b82432c3c116",
   "metadata": {},
   "outputs": [],
   "source": [
    "mnz_hex = mnz_hex[['hex_id_9','pct_openspace']]"
   ]
  },
  {
   "cell_type": "markdown",
   "id": "61af2d1d-f720-4469-895d-a4956415a0ca",
   "metadata": {},
   "source": [
    "### Number of intersections"
   ]
  },
  {
   "cell_type": "code",
   "execution_count": 20,
   "id": "577b9ad0-e0e7-4632-8834-3c203078044c",
   "metadata": {},
   "outputs": [],
   "source": [
    "nodes = nodes.to_crs(\"EPSG:4326\")"
   ]
  },
  {
   "cell_type": "code",
   "execution_count": 21,
   "id": "1ce48060-d0ea-47e9-98f3-db034028e491",
   "metadata": {},
   "outputs": [
    {
     "name": "stdout",
     "output_type": "stream",
     "text": [
      "(29330, 11)\n"
     ]
    },
    {
     "data": {
      "text/html": [
       "<div>\n",
       "<style scoped>\n",
       "    .dataframe tbody tr th:only-of-type {\n",
       "        vertical-align: middle;\n",
       "    }\n",
       "\n",
       "    .dataframe tbody tr th {\n",
       "        vertical-align: top;\n",
       "    }\n",
       "\n",
       "    .dataframe thead th {\n",
       "        text-align: right;\n",
       "    }\n",
       "</style>\n",
       "<table border=\"1\" class=\"dataframe\">\n",
       "  <thead>\n",
       "    <tr style=\"text-align: right;\">\n",
       "      <th></th>\n",
       "      <th>streets_count</th>\n",
       "      <th>x</th>\n",
       "      <th>y</th>\n",
       "      <th>street_count</th>\n",
       "      <th>cluster</th>\n",
       "      <th>hex_id_9</th>\n",
       "      <th>CVEGEO</th>\n",
       "      <th>NOMGEO</th>\n",
       "      <th>city</th>\n",
       "      <th>type</th>\n",
       "      <th>geometry</th>\n",
       "    </tr>\n",
       "  </thead>\n",
       "  <tbody>\n",
       "    <tr>\n",
       "      <th>0</th>\n",
       "      <td>3.0</td>\n",
       "      <td>341826.185733</td>\n",
       "      <td>2.284851e+06</td>\n",
       "      <td>3</td>\n",
       "      <td>NaN</td>\n",
       "      <td>894983c1d7bffff</td>\n",
       "      <td>22014</td>\n",
       "      <td>Querétaro</td>\n",
       "      <td>Queretaro</td>\n",
       "      <td>urban</td>\n",
       "      <td>POINT (-100.51836 20.65631)</td>\n",
       "    </tr>\n",
       "    <tr>\n",
       "      <th>1</th>\n",
       "      <td>3.0</td>\n",
       "      <td>341890.954152</td>\n",
       "      <td>2.285075e+06</td>\n",
       "      <td>5</td>\n",
       "      <td>270.0</td>\n",
       "      <td>894983c1d7bffff</td>\n",
       "      <td>22014</td>\n",
       "      <td>Querétaro</td>\n",
       "      <td>Queretaro</td>\n",
       "      <td>urban</td>\n",
       "      <td>POINT (-100.51776 20.65834)</td>\n",
       "    </tr>\n",
       "    <tr>\n",
       "      <th>2</th>\n",
       "      <td>3.0</td>\n",
       "      <td>341854.395673</td>\n",
       "      <td>2.284909e+06</td>\n",
       "      <td>3</td>\n",
       "      <td>NaN</td>\n",
       "      <td>894983c1d7bffff</td>\n",
       "      <td>22014</td>\n",
       "      <td>Querétaro</td>\n",
       "      <td>Queretaro</td>\n",
       "      <td>urban</td>\n",
       "      <td>POINT (-100.5181 20.65684)</td>\n",
       "    </tr>\n",
       "    <tr>\n",
       "      <th>3</th>\n",
       "      <td>3.0</td>\n",
       "      <td>343102.403837</td>\n",
       "      <td>2.284297e+06</td>\n",
       "      <td>3</td>\n",
       "      <td>NaN</td>\n",
       "      <td>894983c1883ffff</td>\n",
       "      <td>22014</td>\n",
       "      <td>Querétaro</td>\n",
       "      <td>Queretaro</td>\n",
       "      <td>urban</td>\n",
       "      <td>POINT (-100.50606 20.65142)</td>\n",
       "    </tr>\n",
       "  </tbody>\n",
       "</table>\n",
       "</div>"
      ],
      "text/plain": [
       "  streets_count              x             y  street_count  cluster  \\\n",
       "0           3.0  341826.185733  2.284851e+06             3      NaN   \n",
       "1           3.0  341890.954152  2.285075e+06             5    270.0   \n",
       "2           3.0  341854.395673  2.284909e+06             3      NaN   \n",
       "3           3.0  343102.403837  2.284297e+06             3      NaN   \n",
       "\n",
       "          hex_id_9 CVEGEO     NOMGEO       city   type  \\\n",
       "0  894983c1d7bffff  22014  Querétaro  Queretaro  urban   \n",
       "1  894983c1d7bffff  22014  Querétaro  Queretaro  urban   \n",
       "2  894983c1d7bffff  22014  Querétaro  Queretaro  urban   \n",
       "3  894983c1883ffff  22014  Querétaro  Queretaro  urban   \n",
       "\n",
       "                      geometry  \n",
       "0  POINT (-100.51836 20.65631)  \n",
       "1  POINT (-100.51776 20.65834)  \n",
       "2   POINT (-100.5181 20.65684)  \n",
       "3  POINT (-100.50606 20.65142)  "
      ]
     },
     "execution_count": 21,
     "metadata": {},
     "output_type": "execute_result"
    }
   ],
   "source": [
    "nodes_hex = nodes.overlay(hex_gdf, how='intersection')\n",
    "print(nodes_hex.shape)\n",
    "nodes_hex.head(4)"
   ]
  },
  {
   "cell_type": "code",
   "execution_count": 22,
   "id": "bf135d2d-b641-42dd-9328-86bc00d9a84e",
   "metadata": {
    "scrolled": true
   },
   "outputs": [
    {
     "data": {
      "text/html": [
       "<div>\n",
       "<style scoped>\n",
       "    .dataframe tbody tr th:only-of-type {\n",
       "        vertical-align: middle;\n",
       "    }\n",
       "\n",
       "    .dataframe tbody tr th {\n",
       "        vertical-align: top;\n",
       "    }\n",
       "\n",
       "    .dataframe thead th {\n",
       "        text-align: right;\n",
       "    }\n",
       "</style>\n",
       "<table border=\"1\" class=\"dataframe\">\n",
       "  <thead>\n",
       "    <tr style=\"text-align: right;\">\n",
       "      <th></th>\n",
       "      <th>hex_id_9</th>\n",
       "      <th>number_intersections</th>\n",
       "    </tr>\n",
       "  </thead>\n",
       "  <tbody>\n",
       "    <tr>\n",
       "      <th>0</th>\n",
       "      <td>8949822402fffff</td>\n",
       "      <td>3</td>\n",
       "    </tr>\n",
       "    <tr>\n",
       "      <th>1</th>\n",
       "      <td>89498224103ffff</td>\n",
       "      <td>8</td>\n",
       "    </tr>\n",
       "    <tr>\n",
       "      <th>2</th>\n",
       "      <td>89498224107ffff</td>\n",
       "      <td>5</td>\n",
       "    </tr>\n",
       "    <tr>\n",
       "      <th>3</th>\n",
       "      <td>8949822410bffff</td>\n",
       "      <td>6</td>\n",
       "    </tr>\n",
       "  </tbody>\n",
       "</table>\n",
       "</div>"
      ],
      "text/plain": [
       "          hex_id_9  number_intersections\n",
       "0  8949822402fffff                     3\n",
       "1  89498224103ffff                     8\n",
       "2  89498224107ffff                     5\n",
       "3  8949822410bffff                     6"
      ]
     },
     "execution_count": 22,
     "metadata": {},
     "output_type": "execute_result"
    }
   ],
   "source": [
    "nodes_hex = nodes_hex.groupby('hex_id_9').count().reset_index()\n",
    "nodes_hex = nodes_hex[['hex_id_9','CVEGEO']].rename(columns={'CVEGEO':'number_intersections'})\n",
    "nodes_hex.head(4)"
   ]
  },
  {
   "cell_type": "markdown",
   "id": "6582669e-6299-4b7b-994f-209681fbf245",
   "metadata": {},
   "source": [
    "### Building size average"
   ]
  },
  {
   "cell_type": "code",
   "execution_count": 23,
   "id": "4f5acc5f-b129-4ab8-b285-2e807af50c25",
   "metadata": {},
   "outputs": [
    {
     "name": "stdout",
     "output_type": "stream",
     "text": [
      "(824103, 11)\n"
     ]
    },
    {
     "data": {
      "text/html": [
       "<div>\n",
       "<style scoped>\n",
       "    .dataframe tbody tr th:only-of-type {\n",
       "        vertical-align: middle;\n",
       "    }\n",
       "\n",
       "    .dataframe tbody tr th {\n",
       "        vertical-align: top;\n",
       "    }\n",
       "\n",
       "    .dataframe thead th {\n",
       "        text-align: right;\n",
       "    }\n",
       "</style>\n",
       "<table border=\"1\" class=\"dataframe\">\n",
       "  <thead>\n",
       "    <tr style=\"text-align: right;\">\n",
       "      <th></th>\n",
       "      <th>hex_id_9</th>\n",
       "      <th>CVEGEO</th>\n",
       "      <th>NOMGEO</th>\n",
       "      <th>city</th>\n",
       "      <th>type</th>\n",
       "      <th>latitude</th>\n",
       "      <th>longitude</th>\n",
       "      <th>area_in_meters</th>\n",
       "      <th>confidence</th>\n",
       "      <th>full_plus_code</th>\n",
       "      <th>geometry</th>\n",
       "    </tr>\n",
       "  </thead>\n",
       "  <tbody>\n",
       "    <tr>\n",
       "      <th>0</th>\n",
       "      <td>894983d8997ffff</td>\n",
       "      <td>22006</td>\n",
       "      <td>Corregidora</td>\n",
       "      <td>Queretaro</td>\n",
       "      <td>urban</td>\n",
       "      <td>20.561619</td>\n",
       "      <td>-100.453935</td>\n",
       "      <td>136.952983</td>\n",
       "      <td>0.8292</td>\n",
       "      <td>75GXHG6W+JCWJ</td>\n",
       "      <td>POLYGON ((-100.454 20.56157, -100.45401 20.561...</td>\n",
       "    </tr>\n",
       "    <tr>\n",
       "      <th>1</th>\n",
       "      <td>894983d8997ffff</td>\n",
       "      <td>22006</td>\n",
       "      <td>Corregidora</td>\n",
       "      <td>Queretaro</td>\n",
       "      <td>urban</td>\n",
       "      <td>20.560577</td>\n",
       "      <td>-100.452144</td>\n",
       "      <td>235.880825</td>\n",
       "      <td>0.8832</td>\n",
       "      <td>75GXHG6X+64Q3</td>\n",
       "      <td>POLYGON ((-100.45217 20.56046, -100.4522 20.56...</td>\n",
       "    </tr>\n",
       "  </tbody>\n",
       "</table>\n",
       "</div>"
      ],
      "text/plain": [
       "          hex_id_9 CVEGEO       NOMGEO       city   type   latitude  \\\n",
       "0  894983d8997ffff  22006  Corregidora  Queretaro  urban  20.561619   \n",
       "1  894983d8997ffff  22006  Corregidora  Queretaro  urban  20.560577   \n",
       "\n",
       "    longitude  area_in_meters  confidence full_plus_code  \\\n",
       "0 -100.453935      136.952983      0.8292  75GXHG6W+JCWJ   \n",
       "1 -100.452144      235.880825      0.8832  75GXHG6X+64Q3   \n",
       "\n",
       "                                            geometry  \n",
       "0  POLYGON ((-100.454 20.56157, -100.45401 20.561...  \n",
       "1  POLYGON ((-100.45217 20.56046, -100.4522 20.56...  "
      ]
     },
     "execution_count": 23,
     "metadata": {},
     "output_type": "execute_result"
    }
   ],
   "source": [
    "hex_bld = hex_gdf.overlay(bld_qro, how='intersection')\n",
    "hex_bld['area_in_meters'] = hex_bld.to_crs(\"EPSG:6372\").area\n",
    "print(hex_bld.shape)\n",
    "hex_bld.head(2)"
   ]
  },
  {
   "cell_type": "code",
   "execution_count": 24,
   "id": "35913eea-afeb-4930-b5b5-fec00c4690de",
   "metadata": {},
   "outputs": [
    {
     "name": "stdout",
     "output_type": "stream",
     "text": [
      "(2808, 2)\n"
     ]
    },
    {
     "data": {
      "text/html": [
       "<div>\n",
       "<style scoped>\n",
       "    .dataframe tbody tr th:only-of-type {\n",
       "        vertical-align: middle;\n",
       "    }\n",
       "\n",
       "    .dataframe tbody tr th {\n",
       "        vertical-align: top;\n",
       "    }\n",
       "\n",
       "    .dataframe thead th {\n",
       "        text-align: right;\n",
       "    }\n",
       "</style>\n",
       "<table border=\"1\" class=\"dataframe\">\n",
       "  <thead>\n",
       "    <tr style=\"text-align: right;\">\n",
       "      <th></th>\n",
       "      <th>hex_id_9</th>\n",
       "      <th>area_in_meters</th>\n",
       "    </tr>\n",
       "  </thead>\n",
       "  <tbody>\n",
       "    <tr>\n",
       "      <th>0</th>\n",
       "      <td>8949822402fffff</td>\n",
       "      <td>57.014813</td>\n",
       "    </tr>\n",
       "    <tr>\n",
       "      <th>1</th>\n",
       "      <td>89498224103ffff</td>\n",
       "      <td>47.586531</td>\n",
       "    </tr>\n",
       "  </tbody>\n",
       "</table>\n",
       "</div>"
      ],
      "text/plain": [
       "          hex_id_9  area_in_meters\n",
       "0  8949822402fffff       57.014813\n",
       "1  89498224103ffff       47.586531"
      ]
     },
     "execution_count": 24,
     "metadata": {},
     "output_type": "execute_result"
    }
   ],
   "source": [
    "hex_bld = hex_bld.groupby('hex_id_9').mean(numeric_only=True)\n",
    "hex_bld = hex_bld.reset_index()\n",
    "hex_bld = hex_bld[['hex_id_9','area_in_meters']].copy()\n",
    "print(hex_bld.shape)\n",
    "hex_bld.head(2)"
   ]
  },
  {
   "cell_type": "markdown",
   "id": "f791b0da-a8a1-4315-ac69-03915061b75f",
   "metadata": {},
   "source": [
    "### Street area"
   ]
  },
  {
   "cell_type": "code",
   "execution_count": 25,
   "id": "764de548-bea2-42a1-b3d8-20a0b8b039be",
   "metadata": {},
   "outputs": [
    {
     "name": "stdout",
     "output_type": "stream",
     "text": [
      "(2786, 2)\n"
     ]
    },
    {
     "data": {
      "text/html": [
       "<div>\n",
       "<style scoped>\n",
       "    .dataframe tbody tr th:only-of-type {\n",
       "        vertical-align: middle;\n",
       "    }\n",
       "\n",
       "    .dataframe tbody tr th {\n",
       "        vertical-align: top;\n",
       "    }\n",
       "\n",
       "    .dataframe thead th {\n",
       "        text-align: right;\n",
       "    }\n",
       "</style>\n",
       "<table border=\"1\" class=\"dataframe\">\n",
       "  <thead>\n",
       "    <tr style=\"text-align: right;\">\n",
       "      <th></th>\n",
       "      <th>hex_id_9</th>\n",
       "      <th>len_km</th>\n",
       "    </tr>\n",
       "  </thead>\n",
       "  <tbody>\n",
       "    <tr>\n",
       "      <th>0</th>\n",
       "      <td>8949822402fffff</td>\n",
       "      <td>1.085651</td>\n",
       "    </tr>\n",
       "    <tr>\n",
       "      <th>1</th>\n",
       "      <td>89498224103ffff</td>\n",
       "      <td>1.500347</td>\n",
       "    </tr>\n",
       "  </tbody>\n",
       "</table>\n",
       "</div>"
      ],
      "text/plain": [
       "          hex_id_9    len_km\n",
       "0  8949822402fffff  1.085651\n",
       "1  89498224103ffff  1.500347"
      ]
     },
     "execution_count": 25,
     "metadata": {},
     "output_type": "execute_result"
    }
   ],
   "source": [
    "edges = edges.to_crs(\"EPSG:4326\")\n",
    "edges_hex = edges.overlay(hex_gdf, how='intersection')\n",
    "edges_hex['len_km'] = edges_hex.to_crs(\"EPSG:32613\").length / 1000\n",
    "edges_hex = edges_hex.groupby('hex_id_9').sum(numeric_only =True)\n",
    "edges_hex = edges_hex.reset_index()\n",
    "edges_hex = edges_hex[['hex_id_9','len_km']]\n",
    "print(edges_hex.shape)\n",
    "edges_hex.head(2)"
   ]
  },
  {
   "cell_type": "code",
   "execution_count": 26,
   "id": "dfc1b560-6e42-411b-85aa-34e41205a691",
   "metadata": {},
   "outputs": [
    {
     "name": "stdout",
     "output_type": "stream",
     "text": [
      "(2810, 2)\n"
     ]
    },
    {
     "data": {
      "text/html": [
       "<div>\n",
       "<style scoped>\n",
       "    .dataframe tbody tr th:only-of-type {\n",
       "        vertical-align: middle;\n",
       "    }\n",
       "\n",
       "    .dataframe tbody tr th {\n",
       "        vertical-align: top;\n",
       "    }\n",
       "\n",
       "    .dataframe thead th {\n",
       "        text-align: right;\n",
       "    }\n",
       "</style>\n",
       "<table border=\"1\" class=\"dataframe\">\n",
       "  <thead>\n",
       "    <tr style=\"text-align: right;\">\n",
       "      <th></th>\n",
       "      <th>hex_id_9</th>\n",
       "      <th>area_ha</th>\n",
       "    </tr>\n",
       "  </thead>\n",
       "  <tbody>\n",
       "    <tr>\n",
       "      <th>0</th>\n",
       "      <td>894983d8997ffff</td>\n",
       "      <td>6.483568</td>\n",
       "    </tr>\n",
       "    <tr>\n",
       "      <th>1</th>\n",
       "      <td>894983c3697ffff</td>\n",
       "      <td>10.549036</td>\n",
       "    </tr>\n",
       "  </tbody>\n",
       "</table>\n",
       "</div>"
      ],
      "text/plain": [
       "          hex_id_9    area_ha\n",
       "0  894983d8997ffff   6.483568\n",
       "1  894983c3697ffff  10.549036"
      ]
     },
     "execution_count": 26,
     "metadata": {},
     "output_type": "execute_result"
    }
   ],
   "source": [
    "tmp_hex = hex_gdf.overlay(mnz_gdf, how='difference')\n",
    "tmp_hex['area_ha'] = tmp_hex.to_crs(\"EPSG:32613\").area / 10000\n",
    "tmp_hex = tmp_hex[['hex_id_9','area_ha']]\n",
    "print(tmp_hex.shape)\n",
    "tmp_hex.head(2)"
   ]
  },
  {
   "cell_type": "code",
   "execution_count": 27,
   "id": "614f13df-7607-4cb4-bf18-dc2570564068",
   "metadata": {},
   "outputs": [
    {
     "data": {
      "text/html": [
       "<div>\n",
       "<style scoped>\n",
       "    .dataframe tbody tr th:only-of-type {\n",
       "        vertical-align: middle;\n",
       "    }\n",
       "\n",
       "    .dataframe tbody tr th {\n",
       "        vertical-align: top;\n",
       "    }\n",
       "\n",
       "    .dataframe thead th {\n",
       "        text-align: right;\n",
       "    }\n",
       "</style>\n",
       "<table border=\"1\" class=\"dataframe\">\n",
       "  <thead>\n",
       "    <tr style=\"text-align: right;\">\n",
       "      <th></th>\n",
       "      <th>hex_id_9</th>\n",
       "      <th>street_dens</th>\n",
       "    </tr>\n",
       "  </thead>\n",
       "  <tbody>\n",
       "    <tr>\n",
       "      <th>0</th>\n",
       "      <td>8949822402fffff</td>\n",
       "      <td>0.109048</td>\n",
       "    </tr>\n",
       "    <tr>\n",
       "      <th>1</th>\n",
       "      <td>89498224103ffff</td>\n",
       "      <td>0.266709</td>\n",
       "    </tr>\n",
       "    <tr>\n",
       "      <th>2</th>\n",
       "      <td>89498224107ffff</td>\n",
       "      <td>0.103757</td>\n",
       "    </tr>\n",
       "    <tr>\n",
       "      <th>3</th>\n",
       "      <td>8949822410bffff</td>\n",
       "      <td>1.118360</td>\n",
       "    </tr>\n",
       "  </tbody>\n",
       "</table>\n",
       "</div>"
      ],
      "text/plain": [
       "          hex_id_9  street_dens\n",
       "0  8949822402fffff     0.109048\n",
       "1  89498224103ffff     0.266709\n",
       "2  89498224107ffff     0.103757\n",
       "3  8949822410bffff     1.118360"
      ]
     },
     "execution_count": 27,
     "metadata": {},
     "output_type": "execute_result"
    }
   ],
   "source": [
    "edges_hex = edges_hex.merge(tmp_hex, on='hex_id_9')\n",
    "edges_hex['street_dens'] = edges_hex['len_km'] / edges_hex['area_ha']\n",
    "edges_hex = edges_hex[['hex_id_9','street_dens']]\n",
    "edges_hex.head(4)"
   ]
  },
  {
   "cell_type": "markdown",
   "id": "381ee014-14df-452a-8ccf-a93c4f190c2c",
   "metadata": {
    "jp-MarkdownHeadingCollapsed": true
   },
   "source": [
    "### Space syntax"
   ]
  },
  {
   "cell_type": "code",
   "execution_count": 33,
   "id": "88bee458-ce80-4bbf-a7a2-85f3f7514a9e",
   "metadata": {},
   "outputs": [
    {
     "name": "stdout",
     "output_type": "stream",
     "text": [
      "(54105, 7)\n"
     ]
    },
    {
     "data": {
      "text/html": [
       "<div>\n",
       "<style scoped>\n",
       "    .dataframe tbody tr th:only-of-type {\n",
       "        vertical-align: middle;\n",
       "    }\n",
       "\n",
       "    .dataframe tbody tr th {\n",
       "        vertical-align: top;\n",
       "    }\n",
       "\n",
       "    .dataframe thead th {\n",
       "        text-align: right;\n",
       "    }\n",
       "</style>\n",
       "<table border=\"1\" class=\"dataframe\">\n",
       "  <thead>\n",
       "    <tr style=\"text-align: right;\">\n",
       "      <th></th>\n",
       "      <th>NI_sl500</th>\n",
       "      <th>hex_id_9</th>\n",
       "      <th>CVEGEO</th>\n",
       "      <th>NOMGEO</th>\n",
       "      <th>city</th>\n",
       "      <th>type</th>\n",
       "      <th>geometry</th>\n",
       "    </tr>\n",
       "  </thead>\n",
       "  <tbody>\n",
       "    <tr>\n",
       "      <th>0</th>\n",
       "      <td>0.865135</td>\n",
       "      <td>8949ab4b6dbffff</td>\n",
       "      <td>14039</td>\n",
       "      <td>Guadalajara</td>\n",
       "      <td>Guadalajara</td>\n",
       "      <td>urban</td>\n",
       "      <td>LINESTRING (-103.38698 20.71018, -103.38579 20...</td>\n",
       "    </tr>\n",
       "    <tr>\n",
       "      <th>1</th>\n",
       "      <td>0.807797</td>\n",
       "      <td>8949ab4b6dbffff</td>\n",
       "      <td>14039</td>\n",
       "      <td>Guadalajara</td>\n",
       "      <td>Guadalajara</td>\n",
       "      <td>urban</td>\n",
       "      <td>LINESTRING (-103.38834 20.70997, -103.38879 20...</td>\n",
       "    </tr>\n",
       "  </tbody>\n",
       "</table>\n",
       "</div>"
      ],
      "text/plain": [
       "   NI_sl500         hex_id_9 CVEGEO       NOMGEO         city   type  \\\n",
       "0  0.865135  8949ab4b6dbffff  14039  Guadalajara  Guadalajara  urban   \n",
       "1  0.807797  8949ab4b6dbffff  14039  Guadalajara  Guadalajara  urban   \n",
       "\n",
       "                                            geometry  \n",
       "0  LINESTRING (-103.38698 20.71018, -103.38579 20...  \n",
       "1  LINESTRING (-103.38834 20.70997, -103.38879 20...  "
      ]
     },
     "execution_count": 33,
     "metadata": {},
     "output_type": "execute_result"
    }
   ],
   "source": [
    "ss_gdf = ss_gdf.to_crs(\"EPSG:4326\")\n",
    "ss_gdf = ss_gdf[['NI_sl500','geometry']]\n",
    "ss_hex = ss_gdf.overlay(hex_gdf, how='intersection')\n",
    "print(ss_hex.shape)\n",
    "ss_hex.head(2)"
   ]
  },
  {
   "cell_type": "code",
   "execution_count": 34,
   "id": "102893a8-514d-418a-a77f-0e92f3f169d7",
   "metadata": {},
   "outputs": [
    {
     "name": "stderr",
     "output_type": "stream",
     "text": [
      "/tmp/ipykernel_74187/3212174632.py:2: FutureWarning: The default value of numeric_only in DataFrameGroupBy.sum is deprecated. In a future version, numeric_only will default to False. Either specify numeric_only or select only columns which should be valid for the function.\n",
      "  ss_tot = ss_hex.groupby('hex_id_9').sum()\n"
     ]
    },
    {
     "data": {
      "text/html": [
       "<div>\n",
       "<style scoped>\n",
       "    .dataframe tbody tr th:only-of-type {\n",
       "        vertical-align: middle;\n",
       "    }\n",
       "\n",
       "    .dataframe tbody tr th {\n",
       "        vertical-align: top;\n",
       "    }\n",
       "\n",
       "    .dataframe thead th {\n",
       "        text-align: right;\n",
       "    }\n",
       "</style>\n",
       "<table border=\"1\" class=\"dataframe\">\n",
       "  <thead>\n",
       "    <tr style=\"text-align: right;\">\n",
       "      <th></th>\n",
       "      <th>hex_id_9</th>\n",
       "      <th>length_tot_km</th>\n",
       "    </tr>\n",
       "  </thead>\n",
       "  <tbody>\n",
       "    <tr>\n",
       "      <th>0</th>\n",
       "      <td>89498c94003ffff</td>\n",
       "      <td>2.507217</td>\n",
       "    </tr>\n",
       "    <tr>\n",
       "      <th>1</th>\n",
       "      <td>89498c94007ffff</td>\n",
       "      <td>2.400254</td>\n",
       "    </tr>\n",
       "    <tr>\n",
       "      <th>2</th>\n",
       "      <td>89498c9400bffff</td>\n",
       "      <td>2.633676</td>\n",
       "    </tr>\n",
       "    <tr>\n",
       "      <th>3</th>\n",
       "      <td>89498c9400fffff</td>\n",
       "      <td>2.646655</td>\n",
       "    </tr>\n",
       "  </tbody>\n",
       "</table>\n",
       "</div>"
      ],
      "text/plain": [
       "          hex_id_9  length_tot_km\n",
       "0  89498c94003ffff       2.507217\n",
       "1  89498c94007ffff       2.400254\n",
       "2  89498c9400bffff       2.633676\n",
       "3  89498c9400fffff       2.646655"
      ]
     },
     "execution_count": 34,
     "metadata": {},
     "output_type": "execute_result"
    }
   ],
   "source": [
    "ss_hex['length_km'] = ss_hex.to_crs(\"EPSG:32613\").length / 1000\n",
    "ss_tot = ss_hex.groupby('hex_id_9').sum()\n",
    "ss_tot = ss_tot.reset_index()\n",
    "ss_tot = ss_tot[['hex_id_9','length_km']]\n",
    "ss_tot = ss_tot.rename(columns={'length_km':'length_tot_km'})\n",
    "ss_tot.head(4)"
   ]
  },
  {
   "cell_type": "code",
   "execution_count": 35,
   "id": "4ccd2566-8d3e-407a-a06b-6e157688e757",
   "metadata": {},
   "outputs": [
    {
     "name": "stderr",
     "output_type": "stream",
     "text": [
      "/tmp/ipykernel_74187/660076386.py:4: FutureWarning: The default value of numeric_only in DataFrameGroupBy.sum is deprecated. In a future version, numeric_only will default to False. Either specify numeric_only or select only columns which should be valid for the function.\n",
      "  ss_hex = ss_hex.groupby('hex_id_9').sum()\n"
     ]
    },
    {
     "data": {
      "text/html": [
       "<div>\n",
       "<style scoped>\n",
       "    .dataframe tbody tr th:only-of-type {\n",
       "        vertical-align: middle;\n",
       "    }\n",
       "\n",
       "    .dataframe tbody tr th {\n",
       "        vertical-align: top;\n",
       "    }\n",
       "\n",
       "    .dataframe thead th {\n",
       "        text-align: right;\n",
       "    }\n",
       "</style>\n",
       "<table border=\"1\" class=\"dataframe\">\n",
       "  <thead>\n",
       "    <tr style=\"text-align: right;\">\n",
       "      <th></th>\n",
       "      <th>hex_id_9</th>\n",
       "      <th>wgt_ss</th>\n",
       "    </tr>\n",
       "  </thead>\n",
       "  <tbody>\n",
       "    <tr>\n",
       "      <th>0</th>\n",
       "      <td>89498c94003ffff</td>\n",
       "      <td>1.147223</td>\n",
       "    </tr>\n",
       "    <tr>\n",
       "      <th>1</th>\n",
       "      <td>89498c94007ffff</td>\n",
       "      <td>1.049694</td>\n",
       "    </tr>\n",
       "  </tbody>\n",
       "</table>\n",
       "</div>"
      ],
      "text/plain": [
       "          hex_id_9    wgt_ss\n",
       "0  89498c94003ffff  1.147223\n",
       "1  89498c94007ffff  1.049694"
      ]
     },
     "execution_count": 35,
     "metadata": {},
     "output_type": "execute_result"
    }
   ],
   "source": [
    "ss_hex = ss_hex.merge(ss_tot, on='hex_id_9')\n",
    "ss_hex['pct_ss'] = ss_hex['length_km'] / ss_hex['length_tot_km']\n",
    "ss_hex['wgt_ss'] = ss_hex['pct_ss'] * ss_hex['NI_sl500']\n",
    "ss_hex = ss_hex.groupby('hex_id_9').sum()\n",
    "ss_hex = ss_hex.reset_index()\n",
    "ss_hex = ss_hex[['hex_id_9','wgt_ss']]\n",
    "ss_hex.head(2)"
   ]
  },
  {
   "cell_type": "markdown",
   "id": "a37cd315-0b64-40e6-937a-d8ae267aaf53",
   "metadata": {},
   "source": [
    "## Hexagon data"
   ]
  },
  {
   "cell_type": "code",
   "execution_count": 28,
   "id": "64b8de5e-2b6a-4d43-8eaa-849c97adadb4",
   "metadata": {},
   "outputs": [
    {
     "name": "stdout",
     "output_type": "stream",
     "text": [
      "(2516, 17)\n"
     ]
    },
    {
     "data": {
      "text/html": [
       "<div>\n",
       "<style scoped>\n",
       "    .dataframe tbody tr th:only-of-type {\n",
       "        vertical-align: middle;\n",
       "    }\n",
       "\n",
       "    .dataframe tbody tr th {\n",
       "        vertical-align: top;\n",
       "    }\n",
       "\n",
       "    .dataframe thead th {\n",
       "        text-align: right;\n",
       "    }\n",
       "</style>\n",
       "<table border=\"1\" class=\"dataframe\">\n",
       "  <thead>\n",
       "    <tr style=\"text-align: right;\">\n",
       "      <th></th>\n",
       "      <th>hex_id_9</th>\n",
       "      <th>geometry</th>\n",
       "      <th>CVEGEO</th>\n",
       "      <th>NOMGEO</th>\n",
       "      <th>city</th>\n",
       "      <th>type</th>\n",
       "      <th>pct_comerciomean</th>\n",
       "      <th>pct_equipmean</th>\n",
       "      <th>pct_habmean</th>\n",
       "      <th>pct_indmean</th>\n",
       "      <th>pct_otromean</th>\n",
       "      <th>pct_recreativomean</th>\n",
       "      <th>pct_servmean</th>\n",
       "      <th>pct_openspace</th>\n",
       "      <th>street_dens</th>\n",
       "      <th>number_intersections</th>\n",
       "      <th>area_in_meters</th>\n",
       "    </tr>\n",
       "  </thead>\n",
       "  <tbody>\n",
       "    <tr>\n",
       "      <th>0</th>\n",
       "      <td>894983d8997ffff</td>\n",
       "      <td>POLYGON ((-100.45238 20.55939, -100.45114 20.5...</td>\n",
       "      <td>22006</td>\n",
       "      <td>Corregidora</td>\n",
       "      <td>Queretaro</td>\n",
       "      <td>urban</td>\n",
       "      <td>0.000077</td>\n",
       "      <td>0.000000</td>\n",
       "      <td>0.999923</td>\n",
       "      <td>0.000000</td>\n",
       "      <td>0.000000</td>\n",
       "      <td>0.0</td>\n",
       "      <td>0.000000</td>\n",
       "      <td>0.515703</td>\n",
       "      <td>0.483324</td>\n",
       "      <td>20</td>\n",
       "      <td>135.487269</td>\n",
       "    </tr>\n",
       "    <tr>\n",
       "      <th>1</th>\n",
       "      <td>894983c3697ffff</td>\n",
       "      <td>POLYGON ((-100.47848 20.52605, -100.47723 20.5...</td>\n",
       "      <td>22006</td>\n",
       "      <td>Corregidora</td>\n",
       "      <td>Queretaro</td>\n",
       "      <td>urban</td>\n",
       "      <td>0.000000</td>\n",
       "      <td>0.000000</td>\n",
       "      <td>0.995749</td>\n",
       "      <td>0.000000</td>\n",
       "      <td>0.004251</td>\n",
       "      <td>0.0</td>\n",
       "      <td>0.000000</td>\n",
       "      <td>0.512608</td>\n",
       "      <td>0.149998</td>\n",
       "      <td>10</td>\n",
       "      <td>106.969983</td>\n",
       "    </tr>\n",
       "    <tr>\n",
       "      <th>2</th>\n",
       "      <td>894983d88bbffff</td>\n",
       "      <td>POLYGON ((-100.43124 20.55215, -100.42999 20.5...</td>\n",
       "      <td>22006</td>\n",
       "      <td>Corregidora</td>\n",
       "      <td>Queretaro</td>\n",
       "      <td>urban</td>\n",
       "      <td>0.037431</td>\n",
       "      <td>0.026812</td>\n",
       "      <td>0.897328</td>\n",
       "      <td>0.005805</td>\n",
       "      <td>0.005726</td>\n",
       "      <td>0.0</td>\n",
       "      <td>0.026899</td>\n",
       "      <td>0.822404</td>\n",
       "      <td>0.851537</td>\n",
       "      <td>5</td>\n",
       "      <td>58.556748</td>\n",
       "    </tr>\n",
       "    <tr>\n",
       "      <th>3</th>\n",
       "      <td>894983c1687ffff</td>\n",
       "      <td>POLYGON ((-100.44908 20.58645, -100.44784 20.5...</td>\n",
       "      <td>22006</td>\n",
       "      <td>Corregidora</td>\n",
       "      <td>Queretaro</td>\n",
       "      <td>urban</td>\n",
       "      <td>0.008473</td>\n",
       "      <td>0.000000</td>\n",
       "      <td>0.987192</td>\n",
       "      <td>0.000000</td>\n",
       "      <td>0.000000</td>\n",
       "      <td>0.0</td>\n",
       "      <td>0.004335</td>\n",
       "      <td>0.629915</td>\n",
       "      <td>0.275884</td>\n",
       "      <td>11</td>\n",
       "      <td>118.629994</td>\n",
       "    </tr>\n",
       "  </tbody>\n",
       "</table>\n",
       "</div>"
      ],
      "text/plain": [
       "          hex_id_9                                           geometry CVEGEO  \\\n",
       "0  894983d8997ffff  POLYGON ((-100.45238 20.55939, -100.45114 20.5...  22006   \n",
       "1  894983c3697ffff  POLYGON ((-100.47848 20.52605, -100.47723 20.5...  22006   \n",
       "2  894983d88bbffff  POLYGON ((-100.43124 20.55215, -100.42999 20.5...  22006   \n",
       "3  894983c1687ffff  POLYGON ((-100.44908 20.58645, -100.44784 20.5...  22006   \n",
       "\n",
       "        NOMGEO       city   type  pct_comerciomean  pct_equipmean  \\\n",
       "0  Corregidora  Queretaro  urban          0.000077       0.000000   \n",
       "1  Corregidora  Queretaro  urban          0.000000       0.000000   \n",
       "2  Corregidora  Queretaro  urban          0.037431       0.026812   \n",
       "3  Corregidora  Queretaro  urban          0.008473       0.000000   \n",
       "\n",
       "   pct_habmean  pct_indmean  pct_otromean  pct_recreativomean  pct_servmean  \\\n",
       "0     0.999923     0.000000      0.000000                 0.0      0.000000   \n",
       "1     0.995749     0.000000      0.004251                 0.0      0.000000   \n",
       "2     0.897328     0.005805      0.005726                 0.0      0.026899   \n",
       "3     0.987192     0.000000      0.000000                 0.0      0.004335   \n",
       "\n",
       "   pct_openspace  street_dens  number_intersections  area_in_meters  \n",
       "0       0.515703     0.483324                    20      135.487269  \n",
       "1       0.512608     0.149998                    10      106.969983  \n",
       "2       0.822404     0.851537                     5       58.556748  \n",
       "3       0.629915     0.275884                    11      118.629994  "
      ]
     },
     "execution_count": 28,
     "metadata": {},
     "output_type": "execute_result"
    }
   ],
   "source": [
    "hex_gdf = hex_gdf.merge(us_gdf.drop(columns=['geometry']), on='hex_id_9')\n",
    "hex_gdf = hex_gdf.merge(mnz_hex, on='hex_id_9')\n",
    "hex_gdf = hex_gdf.merge(edges_hex, on='hex_id_9')\n",
    "# hex_gdf = hex_gdf.merge(ss_hex, on='hex_id_9')\n",
    "hex_gdf = hex_gdf.merge(nodes_hex, on='hex_id_9')\n",
    "hex_gdf = hex_gdf.merge(hex_bld, on='hex_id_9')\n",
    "print(hex_gdf.shape)\n",
    "hex_gdf.head(4)"
   ]
  },
  {
   "cell_type": "code",
   "execution_count": 29,
   "id": "c3d73e80-b3cf-45e9-a96b-90aefa520f06",
   "metadata": {},
   "outputs": [
    {
     "data": {
      "text/plain": [
       "<Axes: >"
      ]
     },
     "execution_count": 29,
     "metadata": {},
     "output_type": "execute_result"
    },
    {
     "data": {
      "image/png": "[encoded data removed]",
      "text/plain": [
       "<Figure size 640x480 with 1 Axes>"
      ]
     },
     "metadata": {},
     "output_type": "display_data"
    }
   ],
   "source": [
    "hex_gdf.plot('pct_openspace')"
   ]
  },
  {
   "cell_type": "code",
   "execution_count": 30,
   "id": "06425ab1-4995-4cb9-96b0-214246eecf9d",
   "metadata": {},
   "outputs": [
    {
     "data": {
      "text/plain": [
       "<Axes: >"
      ]
     },
     "execution_count": 30,
     "metadata": {},
     "output_type": "execute_result"
    },
    {
     "data": {
      "image/png": "[encoded data removed]",
      "text/plain": [
       "<Figure size 640x480 with 1 Axes>"
      ]
     },
     "metadata": {},
     "output_type": "display_data"
    }
   ],
   "source": [
    "hex_gdf.plot('street_dens')"
   ]
  },
  {
   "cell_type": "code",
   "execution_count": 31,
   "id": "1cff9dab-105a-4582-8771-1600a53fe939",
   "metadata": {},
   "outputs": [
    {
     "data": {
      "text/plain": [
       "<Axes: >"
      ]
     },
     "execution_count": 31,
     "metadata": {},
     "output_type": "execute_result"
    },
    {
     "data": {
      "image/png": "[encoded data removed]",
      "text/plain": [
       "<Figure size 640x480 with 1 Axes>"
      ]
     },
     "metadata": {},
     "output_type": "display_data"
    }
   ],
   "source": [
    "hex_gdf.plot('area_in_meters')"
   ]
  },
  {
   "cell_type": "code",
   "execution_count": 32,
   "id": "ba1cc923-9c39-47cf-b7ff-04690157dd85",
   "metadata": {},
   "outputs": [],
   "source": [
    "hex_gdf.to_file('../../../data/processed/Distrito_QRO/hex_urban_structure.geojson')"
   ]
  },
  {
   "cell_type": "code",
   "execution_count": null,
   "id": "74f6d5a0-6612-4cc7-931a-dfb10a490e74",
   "metadata": {},
   "outputs": [],
   "source": []
  }
 ],
 "metadata": {
  "kernelspec": {
   "display_name": "Python 3 (ipykernel)",
   "language": "python",
   "name": "python3"
  },
  "language_info": {
   "codemirror_mode": {
    "name": "ipython",
    "version": 3
   },
   "file_extension": ".py",
   "mimetype": "text/x-python",
   "name": "python",
   "nbconvert_exporter": "python",
   "pygments_lexer": "ipython3",
   "version": "3.12.9"
  }
 },
 "nbformat": 4,
 "nbformat_minor": 5
}
