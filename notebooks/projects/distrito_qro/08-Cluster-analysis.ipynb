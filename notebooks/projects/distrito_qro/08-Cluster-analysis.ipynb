{
 "cells": [
  {
   "cell_type": "code",
   "execution_count": 2,
   "id": "ab23160d-3c47-4b31-a306-720140887d1f",
   "metadata": {},
   "outputs": [
    {
     "name": "stderr",
     "output_type": "stream",
     "text": [
      "/home/edgaregurrola/anaconda3/envs/odc/lib/python3.10/site-packages/geopandas/_compat.py:153: UserWarning: The Shapely GEOS version (3.10.3-CAPI-1.16.1) is incompatible with the GEOS version PyGEOS was compiled with (3.10.1-CAPI-1.16.0). Conversions between both will be slow.\n",
      "  set_use_pygeos()\n",
      "/tmp/ipykernel_47683/3355231087.py:5: DeprecationWarning: GeoPandas is set to use PyGEOS over Shapely. PyGEOS support is deprecatedand will be removed in GeoPandas 1.0, released in the Q1 of 2024. Please migrate to Shapely 2.0 (https://geopandas.org/en/stable/docs/user_guide/pygeos_to_shapely.html).\n",
      "  import geopandas as gpd\n"
     ]
    }
   ],
   "source": [
    "import os\n",
    "import sys\n",
    "\n",
    "import pandas as pd\n",
    "import geopandas as gpd\n",
    "import numpy as np\n",
    "\n",
    "from scipy.stats import mode \n",
    "from sklearn.preprocessing import StandardScaler\n",
    "from sklearn.decomposition import PCA\n",
    "from sklearn.cluster import KMeans \n",
    "from sklearn.metrics import silhouette_samples, silhouette_score\n",
    "\n",
    "import math\n",
    "\n",
    "import matplotlib.pyplot as plt\n",
    "import seaborn as sns\n",
    "\n",
    "import warnings\n",
    "warnings.simplefilter(action='ignore', category=FutureWarning)"
   ]
  },
  {
   "cell_type": "code",
   "execution_count": 4,
   "id": "8efab0df",
   "metadata": {},
   "outputs": [],
   "source": [
    "hex_cluster = gpd.read_file('../data/processed/hex_clusters.geojson')"
   ]
  },
  {
   "cell_type": "code",
   "execution_count": 10,
   "id": "afdfa555",
   "metadata": {},
   "outputs": [],
   "source": [
    "hex_cluster.groupby('cluster').agg(['mean','median','std','count']).to_csv('../data/processed/cluster_stats.csv')"
   ]
  },
  {
   "cell_type": "code",
   "execution_count": 11,
   "id": "66c5bd1a",
   "metadata": {},
   "outputs": [],
   "source": [
    "hex_cluster.groupby('cluster').agg('mean','median','std').to_csv('../data/processed/cluster_stats_mean.csv')"
   ]
  },
  {
   "cell_type": "code",
   "execution_count": 2,
   "id": "99a03e90-47d2-4640-919d-a3784ae25005",
   "metadata": {},
   "outputs": [],
   "source": [
    "hex_socio = gpd.read_file('../data/processed/hex_sociodemographic.geojson')\n",
    "hex_eco = gpd.read_file('../data/processed/hex_economic.geojson')\n",
    "hex_infra = gpd.read_file('../data/processed/hex_infraestructura.geojson')\n",
    "hex_env = gpd.read_file('../data/processed/hex_environmental.geojson')\n",
    "hex_con = gpd.read_file('../data/processed/hex_connectivity.geojson')\n",
    "hex_us = gpd.read_file('../data/processed/hex_urban_structure.geojson')\n",
    "hex_prox = gpd.read_file('../data/processed/hex_proximity.geojson')"
   ]
  },
  {
   "cell_type": "markdown",
   "id": "6bb682fa-d8bb-4087-960e-7b4a3ef3924b",
   "metadata": {},
   "source": [
    "## Data treatment"
   ]
  },
  {
   "cell_type": "code",
   "execution_count": 3,
   "id": "49517522-8289-4654-b883-2cd645b2b10c",
   "metadata": {},
   "outputs": [
    {
     "name": "stdout",
     "output_type": "stream",
     "text": [
      "(1214, 2)\n"
     ]
    },
    {
     "data": {
      "text/html": [
       "<div>\n",
       "<style scoped>\n",
       "    .dataframe tbody tr th:only-of-type {\n",
       "        vertical-align: middle;\n",
       "    }\n",
       "\n",
       "    .dataframe tbody tr th {\n",
       "        vertical-align: top;\n",
       "    }\n",
       "\n",
       "    .dataframe thead th {\n",
       "        text-align: right;\n",
       "    }\n",
       "</style>\n",
       "<table border=\"1\" class=\"dataframe\">\n",
       "  <thead>\n",
       "    <tr style=\"text-align: right;\">\n",
       "      <th></th>\n",
       "      <th>hex_id_9</th>\n",
       "      <th>geometry</th>\n",
       "    </tr>\n",
       "  </thead>\n",
       "  <tbody>\n",
       "    <tr>\n",
       "      <th>0</th>\n",
       "      <td>89498c9616bffff</td>\n",
       "      <td>POLYGON ((671785.185 2284513.845, 671910.418 2...</td>\n",
       "    </tr>\n",
       "    <tr>\n",
       "      <th>1</th>\n",
       "      <td>89498c96e0bffff</td>\n",
       "      <td>POLYGON ((671598.887 2286237.521, 671724.122 2...</td>\n",
       "    </tr>\n",
       "  </tbody>\n",
       "</table>\n",
       "</div>"
      ],
      "text/plain": [
       "          hex_id_9                                           geometry\n",
       "0  89498c9616bffff  POLYGON ((671785.185 2284513.845, 671910.418 2...\n",
       "1  89498c96e0bffff  POLYGON ((671598.887 2286237.521, 671724.122 2..."
      ]
     },
     "execution_count": 3,
     "metadata": {},
     "output_type": "execute_result"
    }
   ],
   "source": [
    "hex_gdf = hex_eco[['hex_id_9','geometry']].copy()\n",
    "print(hex_gdf.shape)\n",
    "hex_gdf.head(2)"
   ]
  },
  {
   "cell_type": "markdown",
   "id": "7b0b3676-7863-4678-a73e-69d86716a33b",
   "metadata": {},
   "source": [
    "### Sociodemographic"
   ]
  },
  {
   "cell_type": "code",
   "execution_count": 4,
   "id": "9bd37eec-48a0-404e-8ff3-2c34cb9c3f31",
   "metadata": {},
   "outputs": [
    {
     "name": "stdout",
     "output_type": "stream",
     "text": [
      "(1214, 11)\n"
     ]
    },
    {
     "data": {
      "text/html": [
       "<div>\n",
       "<style scoped>\n",
       "    .dataframe tbody tr th:only-of-type {\n",
       "        vertical-align: middle;\n",
       "    }\n",
       "\n",
       "    .dataframe tbody tr th {\n",
       "        vertical-align: top;\n",
       "    }\n",
       "\n",
       "    .dataframe thead th {\n",
       "        text-align: right;\n",
       "    }\n",
       "</style>\n",
       "<table border=\"1\" class=\"dataframe\">\n",
       "  <thead>\n",
       "    <tr style=\"text-align: right;\">\n",
       "      <th></th>\n",
       "      <th>hex_id_9</th>\n",
       "      <th>nse_idx</th>\n",
       "      <th>delitos_count</th>\n",
       "      <th>del_hab_100</th>\n",
       "      <th>graproes</th>\n",
       "      <th>dens_pob_ha</th>\n",
       "      <th>auto_viv</th>\n",
       "      <th>pct_0_17</th>\n",
       "      <th>pct_18_59</th>\n",
       "      <th>pct_60_mas</th>\n",
       "      <th>wgt_im</th>\n",
       "    </tr>\n",
       "  </thead>\n",
       "  <tbody>\n",
       "    <tr>\n",
       "      <th>0</th>\n",
       "      <td>89498c96e0bffff</td>\n",
       "      <td>-0.401887</td>\n",
       "      <td>0.894107</td>\n",
       "      <td>-0.110565</td>\n",
       "      <td>0.443315</td>\n",
       "      <td>-0.308309</td>\n",
       "      <td>-0.512859</td>\n",
       "      <td>-0.338607</td>\n",
       "      <td>0.627745</td>\n",
       "      <td>0.147345</td>\n",
       "      <td>0.255085</td>\n",
       "    </tr>\n",
       "    <tr>\n",
       "      <th>1</th>\n",
       "      <td>89498c9608bffff</td>\n",
       "      <td>3.149646</td>\n",
       "      <td>-1.055395</td>\n",
       "      <td>0.379203</td>\n",
       "      <td>-2.496399</td>\n",
       "      <td>-1.318629</td>\n",
       "      <td>-2.068738</td>\n",
       "      <td>4.174164</td>\n",
       "      <td>-2.711336</td>\n",
       "      <td>-2.025362</td>\n",
       "      <td>0.274276</td>\n",
       "    </tr>\n",
       "  </tbody>\n",
       "</table>\n",
       "</div>"
      ],
      "text/plain": [
       "          hex_id_9   nse_idx  delitos_count  del_hab_100  graproes  \\\n",
       "0  89498c96e0bffff -0.401887       0.894107    -0.110565  0.443315   \n",
       "1  89498c9608bffff  3.149646      -1.055395     0.379203 -2.496399   \n",
       "\n",
       "   dens_pob_ha  auto_viv  pct_0_17  pct_18_59  pct_60_mas    wgt_im  \n",
       "0    -0.308309 -0.512859 -0.338607   0.627745    0.147345  0.255085  \n",
       "1    -1.318629 -2.068738  4.174164  -2.711336   -2.025362  0.274276  "
      ]
     },
     "execution_count": 4,
     "metadata": {},
     "output_type": "execute_result"
    }
   ],
   "source": [
    "hex_socio = hex_socio[['hex_id_9','nse_idx','delitos_count',\n",
    "                       'del_hab_100','graproes','dens_pob_ha',\n",
    "                       'auto_viv','pct_0_17','pct_18_59',\n",
    "                       'pct_60_mas','wgt_im']]\n",
    "socio_cols = ['nse_idx','delitos_count',\n",
    "                       'del_hab_100','graproes','dens_pob_ha',\n",
    "                       'auto_viv','pct_0_17','pct_18_59',\n",
    "                       'pct_60_mas','wgt_im']\n",
    "hex_socio = hex_socio.fillna(0)\n",
    "hex_socio_std = hex_socio.copy()\n",
    "hex_socio_std[socio_cols] = StandardScaler().fit_transform(np.array(hex_socio[socio_cols]))\n",
    "print(hex_socio_std.shape)\n",
    "hex_socio_std.head(2)"
   ]
  },
  {
   "cell_type": "code",
   "execution_count": 5,
   "id": "5e7bfaf5-d5b7-4aae-9169-164a5e39a183",
   "metadata": {},
   "outputs": [],
   "source": [
    "pca = PCA(n_components=3)\n",
    "\n",
    "x = hex_socio_std.loc[:, socio_cols].values\n",
    "\n",
    "principalComponents = pca.fit_transform(x)"
   ]
  },
  {
   "cell_type": "code",
   "execution_count": 6,
   "id": "1ddf6f7a-183d-46d7-b176-a6042e8d078a",
   "metadata": {},
   "outputs": [
    {
     "name": "stdout",
     "output_type": "stream",
     "text": [
      "Explained ratio: [0.47086412 0.1765057  0.11062375] Explained variance: 0.7579935679287149\n"
     ]
    }
   ],
   "source": [
    "print('Explained ratio:',pca.explained_variance_ratio_,'Explained variance:',pca.explained_variance_ratio_.sum())"
   ]
  },
  {
   "cell_type": "code",
   "execution_count": 7,
   "id": "35a4becf-305c-453d-b2c5-bff0a6a2a634",
   "metadata": {},
   "outputs": [
    {
     "name": "stderr",
     "output_type": "stream",
     "text": [
      "/tmp/ipykernel_50183/4260663316.py:5: SettingWithCopyWarning: \n",
      "A value is trying to be set on a copy of a slice from a DataFrame.\n",
      "Try using .loc[row_indexer,col_indexer] = value instead\n",
      "\n",
      "See the caveats in the documentation: https://pandas.pydata.org/pandas-docs/stable/user_guide/indexing.html#returning-a-view-versus-a-copy\n",
      "  hex_socio_pca.loc[:,'socio_pc_1'] = principalDf['pc_1'].copy()\n",
      "/tmp/ipykernel_50183/4260663316.py:6: SettingWithCopyWarning: \n",
      "A value is trying to be set on a copy of a slice from a DataFrame.\n",
      "Try using .loc[row_indexer,col_indexer] = value instead\n",
      "\n",
      "See the caveats in the documentation: https://pandas.pydata.org/pandas-docs/stable/user_guide/indexing.html#returning-a-view-versus-a-copy\n",
      "  hex_socio_pca.loc[:,'socio_pc_2'] = principalDf['pc_2'].copy()\n",
      "/tmp/ipykernel_50183/4260663316.py:7: SettingWithCopyWarning: \n",
      "A value is trying to be set on a copy of a slice from a DataFrame.\n",
      "Try using .loc[row_indexer,col_indexer] = value instead\n",
      "\n",
      "See the caveats in the documentation: https://pandas.pydata.org/pandas-docs/stable/user_guide/indexing.html#returning-a-view-versus-a-copy\n",
      "  hex_socio_pca.loc[:,'socio_pc_3'] = principalDf['pc_3'].copy()\n"
     ]
    }
   ],
   "source": [
    "principalDf = pd.DataFrame(data = principalComponents\n",
    "             , columns = ['pc_1', 'pc_2','pc_3'])\n",
    "\n",
    "hex_socio_pca = hex_socio[['hex_id_9']]\n",
    "hex_socio_pca.loc[:,'socio_pc_1'] = principalDf['pc_1'].copy()\n",
    "hex_socio_pca.loc[:,'socio_pc_2'] = principalDf['pc_2'].copy()\n",
    "hex_socio_pca.loc[:,'socio_pc_3'] = principalDf['pc_3'].copy()"
   ]
  },
  {
   "cell_type": "markdown",
   "id": "6c466ca6-a5b7-4e49-be75-fecb84a82724",
   "metadata": {},
   "source": [
    "### Economic"
   ]
  },
  {
   "cell_type": "code",
   "execution_count": 8,
   "id": "2073bcc3-bba1-4813-ac8c-4bd2103339d5",
   "metadata": {},
   "outputs": [
    {
     "name": "stdout",
     "output_type": "stream",
     "text": [
      "(1214, 7)\n"
     ]
    },
    {
     "data": {
      "text/html": [
       "<div>\n",
       "<style scoped>\n",
       "    .dataframe tbody tr th:only-of-type {\n",
       "        vertical-align: middle;\n",
       "    }\n",
       "\n",
       "    .dataframe tbody tr th {\n",
       "        vertical-align: top;\n",
       "    }\n",
       "\n",
       "    .dataframe thead th {\n",
       "        text-align: right;\n",
       "    }\n",
       "</style>\n",
       "<table border=\"1\" class=\"dataframe\">\n",
       "  <thead>\n",
       "    <tr style=\"text-align: right;\">\n",
       "      <th></th>\n",
       "      <th>hex_id_9</th>\n",
       "      <th>dist_tianguis</th>\n",
       "      <th>dist_mercado</th>\n",
       "      <th>denue_count</th>\n",
       "      <th>denue_jobs</th>\n",
       "      <th>denue_jobs_&gt;_11</th>\n",
       "      <th>pct_jobs_&gt;_11</th>\n",
       "    </tr>\n",
       "  </thead>\n",
       "  <tbody>\n",
       "    <tr>\n",
       "      <th>0</th>\n",
       "      <td>89498c9616bffff</td>\n",
       "      <td>0.469064</td>\n",
       "      <td>0.548569</td>\n",
       "      <td>-0.558454</td>\n",
       "      <td>0.110000</td>\n",
       "      <td>0.436736</td>\n",
       "      <td>1.260905</td>\n",
       "    </tr>\n",
       "    <tr>\n",
       "      <th>1</th>\n",
       "      <td>89498c96e0bffff</td>\n",
       "      <td>0.184695</td>\n",
       "      <td>-0.189413</td>\n",
       "      <td>2.616098</td>\n",
       "      <td>3.199566</td>\n",
       "      <td>3.093476</td>\n",
       "      <td>0.736937</td>\n",
       "    </tr>\n",
       "  </tbody>\n",
       "</table>\n",
       "</div>"
      ],
      "text/plain": [
       "          hex_id_9  dist_tianguis  dist_mercado  denue_count  denue_jobs  \\\n",
       "0  89498c9616bffff       0.469064      0.548569    -0.558454    0.110000   \n",
       "1  89498c96e0bffff       0.184695     -0.189413     2.616098    3.199566   \n",
       "\n",
       "   denue_jobs_>_11  pct_jobs_>_11  \n",
       "0         0.436736       1.260905  \n",
       "1         3.093476       0.736937  "
      ]
     },
     "execution_count": 8,
     "metadata": {},
     "output_type": "execute_result"
    }
   ],
   "source": [
    "hex_eco = hex_eco[['hex_id_9','dist_tianguis','dist_mercado',\n",
    "                  'denue_count','denue_jobs','denue_jobs_>_11',\n",
    "                   'pct_jobs_>_11']]\n",
    "eco_cols = ['dist_tianguis','dist_mercado',\n",
    "                  'denue_count','denue_jobs','denue_jobs_>_11',\n",
    "                   'pct_jobs_>_11']\n",
    "hex_eco = hex_eco.fillna(0)\n",
    "hex_eco_std = hex_eco.copy()\n",
    "hex_eco_std[eco_cols] = StandardScaler().fit_transform(np.array(hex_eco[eco_cols]))\n",
    "print(hex_eco_std.shape)\n",
    "hex_eco_std.head(2)"
   ]
  },
  {
   "cell_type": "code",
   "execution_count": 9,
   "id": "716b5fa2-f268-4bf0-9f04-990fa5c360b2",
   "metadata": {},
   "outputs": [],
   "source": [
    "pca = PCA(n_components=2)\n",
    "\n",
    "x = hex_eco_std.loc[:, eco_cols].values\n",
    "\n",
    "principalComponents = pca.fit_transform(x)"
   ]
  },
  {
   "cell_type": "code",
   "execution_count": 10,
   "id": "28017719-8794-4127-b3a7-6c48eaaa2e81",
   "metadata": {},
   "outputs": [
    {
     "name": "stdout",
     "output_type": "stream",
     "text": [
      "Explained ratio: [0.4947014  0.33767473] Explained variance: 0.8323761297504153\n"
     ]
    }
   ],
   "source": [
    "print('Explained ratio:',pca.explained_variance_ratio_,'Explained variance:',pca.explained_variance_ratio_.sum())"
   ]
  },
  {
   "cell_type": "code",
   "execution_count": 11,
   "id": "c34863ef-d559-4437-a8a9-152208af13c6",
   "metadata": {},
   "outputs": [
    {
     "name": "stderr",
     "output_type": "stream",
     "text": [
      "/tmp/ipykernel_50183/809235207.py:2: SettingWithCopyWarning: \n",
      "A value is trying to be set on a copy of a slice from a DataFrame.\n",
      "Try using .loc[row_indexer,col_indexer] = value instead\n",
      "\n",
      "See the caveats in the documentation: https://pandas.pydata.org/pandas-docs/stable/user_guide/indexing.html#returning-a-view-versus-a-copy\n",
      "  hex_eco_pca.loc[:,'eco_pc_1'] = principalComponents[:,0]\n",
      "/tmp/ipykernel_50183/809235207.py:3: SettingWithCopyWarning: \n",
      "A value is trying to be set on a copy of a slice from a DataFrame.\n",
      "Try using .loc[row_indexer,col_indexer] = value instead\n",
      "\n",
      "See the caveats in the documentation: https://pandas.pydata.org/pandas-docs/stable/user_guide/indexing.html#returning-a-view-versus-a-copy\n",
      "  hex_eco_pca.loc[:,'eco_pc_2'] = principalComponents[:,1]\n"
     ]
    }
   ],
   "source": [
    "hex_eco_pca = hex_eco[['hex_id_9']]\n",
    "hex_eco_pca.loc[:,'eco_pc_1'] = principalComponents[:,0]\n",
    "hex_eco_pca.loc[:,'eco_pc_2'] = principalComponents[:,1]"
   ]
  },
  {
   "cell_type": "markdown",
   "id": "7b14fa6f-86d4-440a-9d42-65fda0fe5925",
   "metadata": {},
   "source": [
    "### Infraestructure"
   ]
  },
  {
   "cell_type": "code",
   "execution_count": 12,
   "id": "a4974aa7-38bd-4233-a72e-4b009fbbe521",
   "metadata": {
    "scrolled": true
   },
   "outputs": [
    {
     "name": "stdout",
     "output_type": "stream",
     "text": [
      "(1214, 6)\n"
     ]
    },
    {
     "data": {
      "text/html": [
       "<div>\n",
       "<style scoped>\n",
       "    .dataframe tbody tr th:only-of-type {\n",
       "        vertical-align: middle;\n",
       "    }\n",
       "\n",
       "    .dataframe tbody tr th {\n",
       "        vertical-align: top;\n",
       "    }\n",
       "\n",
       "    .dataframe thead th {\n",
       "        text-align: right;\n",
       "    }\n",
       "</style>\n",
       "<table border=\"1\" class=\"dataframe\">\n",
       "  <thead>\n",
       "    <tr style=\"text-align: right;\">\n",
       "      <th></th>\n",
       "      <th>hex_id_9</th>\n",
       "      <th>pct_BANQUETA</th>\n",
       "      <th>pct_ALUMPUB</th>\n",
       "      <th>pct_RAMPAS</th>\n",
       "      <th>pct_ARBOLES</th>\n",
       "      <th>pct_CICLOVIA</th>\n",
       "    </tr>\n",
       "  </thead>\n",
       "  <tbody>\n",
       "    <tr>\n",
       "      <th>0</th>\n",
       "      <td>89498c95c87ffff</td>\n",
       "      <td>-1.403832</td>\n",
       "      <td>0.001843</td>\n",
       "      <td>-1.850503</td>\n",
       "      <td>-0.227174</td>\n",
       "      <td>-0.324556</td>\n",
       "    </tr>\n",
       "    <tr>\n",
       "      <th>1</th>\n",
       "      <td>89498c94e8bffff</td>\n",
       "      <td>0.423679</td>\n",
       "      <td>-0.394078</td>\n",
       "      <td>0.876390</td>\n",
       "      <td>0.432385</td>\n",
       "      <td>-0.324556</td>\n",
       "    </tr>\n",
       "  </tbody>\n",
       "</table>\n",
       "</div>"
      ],
      "text/plain": [
       "          hex_id_9  pct_BANQUETA  pct_ALUMPUB  pct_RAMPAS  pct_ARBOLES  \\\n",
       "0  89498c95c87ffff     -1.403832     0.001843   -1.850503    -0.227174   \n",
       "1  89498c94e8bffff      0.423679    -0.394078    0.876390     0.432385   \n",
       "\n",
       "   pct_CICLOVIA  \n",
       "0     -0.324556  \n",
       "1     -0.324556  "
      ]
     },
     "execution_count": 12,
     "metadata": {},
     "output_type": "execute_result"
    }
   ],
   "source": [
    "hex_infra = hex_infra[['hex_id_9','pct_BANQUETA','pct_ALUMPUB',\n",
    "                      'pct_RAMPAS','pct_ARBOLES','pct_CICLOVIA']]\n",
    "infra_cols = ['pct_BANQUETA','pct_ALUMPUB',\n",
    "                      'pct_RAMPAS','pct_ARBOLES','pct_CICLOVIA']\n",
    "hex_infra = hex_infra.fillna(0)\n",
    "hex_infra_std = hex_infra.copy()\n",
    "hex_infra_std[infra_cols] = StandardScaler().fit_transform(np.array(hex_infra[infra_cols]))\n",
    "print(hex_infra_std.shape)\n",
    "hex_infra_std.head(2)"
   ]
  },
  {
   "cell_type": "code",
   "execution_count": 13,
   "id": "966ebad8-7075-4039-b3a2-eb6e8ba2c144",
   "metadata": {},
   "outputs": [],
   "source": [
    "pca = PCA(n_components=2)\n",
    "\n",
    "x = hex_infra_std.loc[:, infra_cols].values\n",
    "\n",
    "principalComponents = pca.fit_transform(x)"
   ]
  },
  {
   "cell_type": "code",
   "execution_count": 14,
   "id": "9eb9d289-3735-4e09-8ef2-21ec3145d2e6",
   "metadata": {},
   "outputs": [
    {
     "name": "stdout",
     "output_type": "stream",
     "text": [
      "Explained ratio: [0.56979562 0.19951191] Explained variance: 0.769307526179902\n"
     ]
    }
   ],
   "source": [
    "print('Explained ratio:',pca.explained_variance_ratio_,'Explained variance:',pca.explained_variance_ratio_.sum())"
   ]
  },
  {
   "cell_type": "code",
   "execution_count": 15,
   "id": "acedbed0-26e5-4be8-8e5d-41087c537dbb",
   "metadata": {},
   "outputs": [
    {
     "name": "stderr",
     "output_type": "stream",
     "text": [
      "/tmp/ipykernel_50183/489347352.py:2: SettingWithCopyWarning: \n",
      "A value is trying to be set on a copy of a slice from a DataFrame.\n",
      "Try using .loc[row_indexer,col_indexer] = value instead\n",
      "\n",
      "See the caveats in the documentation: https://pandas.pydata.org/pandas-docs/stable/user_guide/indexing.html#returning-a-view-versus-a-copy\n",
      "  hex_infra_pca.loc[:,'infra_pc_1'] = principalComponents[:,0].copy()\n",
      "/tmp/ipykernel_50183/489347352.py:3: SettingWithCopyWarning: \n",
      "A value is trying to be set on a copy of a slice from a DataFrame.\n",
      "Try using .loc[row_indexer,col_indexer] = value instead\n",
      "\n",
      "See the caveats in the documentation: https://pandas.pydata.org/pandas-docs/stable/user_guide/indexing.html#returning-a-view-versus-a-copy\n",
      "  hex_infra_pca.loc[:,'infra_pc_2'] = principalComponents[:,1].copy()\n"
     ]
    }
   ],
   "source": [
    "hex_infra_pca = hex_infra[['hex_id_9']]\n",
    "hex_infra_pca.loc[:,'infra_pc_1'] = principalComponents[:,0].copy()\n",
    "hex_infra_pca.loc[:,'infra_pc_2'] = principalComponents[:,1].copy()"
   ]
  },
  {
   "cell_type": "markdown",
   "id": "c9b8f06d-73b4-45ac-bf86-ed39235786ce",
   "metadata": {},
   "source": [
    "### Environment"
   ]
  },
  {
   "cell_type": "code",
   "execution_count": 16,
   "id": "c72f51ee-521e-410d-9420-45619d84b3b5",
   "metadata": {
    "scrolled": true
   },
   "outputs": [
    {
     "name": "stdout",
     "output_type": "stream",
     "text": [
      "(1214, 5)\n"
     ]
    },
    {
     "data": {
      "text/html": [
       "<div>\n",
       "<style scoped>\n",
       "    .dataframe tbody tr th:only-of-type {\n",
       "        vertical-align: middle;\n",
       "    }\n",
       "\n",
       "    .dataframe tbody tr th {\n",
       "        vertical-align: top;\n",
       "    }\n",
       "\n",
       "    .dataframe thead th {\n",
       "        text-align: right;\n",
       "    }\n",
       "</style>\n",
       "<table border=\"1\" class=\"dataframe\">\n",
       "  <thead>\n",
       "    <tr style=\"text-align: right;\">\n",
       "      <th></th>\n",
       "      <th>hex_id_9</th>\n",
       "      <th>wgt_ndvi</th>\n",
       "      <th>area_m2</th>\n",
       "      <th>area_pob</th>\n",
       "      <th>dist_ep</th>\n",
       "    </tr>\n",
       "  </thead>\n",
       "  <tbody>\n",
       "    <tr>\n",
       "      <th>0</th>\n",
       "      <td>89498c9616bffff</td>\n",
       "      <td>-1.244980</td>\n",
       "      <td>-0.453956</td>\n",
       "      <td>-0.081136</td>\n",
       "      <td>-0.215064</td>\n",
       "    </tr>\n",
       "    <tr>\n",
       "      <th>1</th>\n",
       "      <td>89498c97303ffff</td>\n",
       "      <td>1.169273</td>\n",
       "      <td>3.749943</td>\n",
       "      <td>-0.051318</td>\n",
       "      <td>0.236633</td>\n",
       "    </tr>\n",
       "  </tbody>\n",
       "</table>\n",
       "</div>"
      ],
      "text/plain": [
       "          hex_id_9  wgt_ndvi   area_m2  area_pob   dist_ep\n",
       "0  89498c9616bffff -1.244980 -0.453956 -0.081136 -0.215064\n",
       "1  89498c97303ffff  1.169273  3.749943 -0.051318  0.236633"
      ]
     },
     "execution_count": 16,
     "metadata": {},
     "output_type": "execute_result"
    }
   ],
   "source": [
    "hex_env = hex_env[['hex_id_9','wgt_ndvi','area_m2','area_pob','dist_ep']]\n",
    "env_cols = ['wgt_ndvi','area_m2','area_pob','dist_ep']\n",
    "hex_env = hex_env.fillna(0)\n",
    "hex_env_std = hex_env.copy()\n",
    "hex_env_std[env_cols] = StandardScaler().fit_transform(np.array(hex_env[env_cols]))\n",
    "print(hex_env_std.shape)\n",
    "hex_env_std.head(2)"
   ]
  },
  {
   "cell_type": "code",
   "execution_count": 17,
   "id": "015fdd7a-5c36-4738-92b6-ebedacbd1023",
   "metadata": {},
   "outputs": [],
   "source": [
    "pca = PCA(n_components=2)\n",
    "\n",
    "x = hex_env_std.loc[:, env_cols].values\n",
    "\n",
    "principalComponents = pca.fit_transform(x)"
   ]
  },
  {
   "cell_type": "code",
   "execution_count": 18,
   "id": "ae2b6490-d30a-4e2b-9ffe-9f31741179b5",
   "metadata": {},
   "outputs": [
    {
     "name": "stdout",
     "output_type": "stream",
     "text": [
      "Explained ratio: [0.41319155 0.25298643] Explained variance: 0.666177986771178\n"
     ]
    }
   ],
   "source": [
    "print('Explained ratio:',pca.explained_variance_ratio_,'Explained variance:',pca.explained_variance_ratio_.sum())"
   ]
  },
  {
   "cell_type": "code",
   "execution_count": 19,
   "id": "eb532a9c-6f43-4287-97be-4fb57a12d270",
   "metadata": {},
   "outputs": [
    {
     "name": "stderr",
     "output_type": "stream",
     "text": [
      "/tmp/ipykernel_50183/1401993089.py:2: SettingWithCopyWarning: \n",
      "A value is trying to be set on a copy of a slice from a DataFrame.\n",
      "Try using .loc[row_indexer,col_indexer] = value instead\n",
      "\n",
      "See the caveats in the documentation: https://pandas.pydata.org/pandas-docs/stable/user_guide/indexing.html#returning-a-view-versus-a-copy\n",
      "  hex_env_pca.loc[:,'env_pc_1'] = principalComponents[:,0].copy()\n",
      "/tmp/ipykernel_50183/1401993089.py:3: SettingWithCopyWarning: \n",
      "A value is trying to be set on a copy of a slice from a DataFrame.\n",
      "Try using .loc[row_indexer,col_indexer] = value instead\n",
      "\n",
      "See the caveats in the documentation: https://pandas.pydata.org/pandas-docs/stable/user_guide/indexing.html#returning-a-view-versus-a-copy\n",
      "  hex_env_pca.loc[:,'env_pc_2'] = principalComponents[:,1].copy()\n"
     ]
    }
   ],
   "source": [
    "hex_env_pca = hex_env[['hex_id_9']]\n",
    "hex_env_pca.loc[:,'env_pc_1'] = principalComponents[:,0].copy()\n",
    "hex_env_pca.loc[:,'env_pc_2'] = principalComponents[:,1].copy()"
   ]
  },
  {
   "cell_type": "markdown",
   "id": "191d275b-2e44-4c8d-b3ad-bc56240d15b3",
   "metadata": {},
   "source": [
    "### Connectivity"
   ]
  },
  {
   "cell_type": "code",
   "execution_count": 20,
   "id": "9ef3d9c6-45eb-4c3a-8093-b03ab14edfdb",
   "metadata": {},
   "outputs": [
    {
     "name": "stdout",
     "output_type": "stream",
     "text": [
      "(1214, 5)\n"
     ]
    },
    {
     "data": {
      "text/html": [
       "<div>\n",
       "<style scoped>\n",
       "    .dataframe tbody tr th:only-of-type {\n",
       "        vertical-align: middle;\n",
       "    }\n",
       "\n",
       "    .dataframe tbody tr th {\n",
       "        vertical-align: top;\n",
       "    }\n",
       "\n",
       "    .dataframe thead th {\n",
       "        text-align: right;\n",
       "    }\n",
       "</style>\n",
       "<table border=\"1\" class=\"dataframe\">\n",
       "  <thead>\n",
       "    <tr style=\"text-align: right;\">\n",
       "      <th></th>\n",
       "      <th>hex_id_9</th>\n",
       "      <th>dist_ciclo</th>\n",
       "      <th>ruta_count</th>\n",
       "      <th>dist_tp</th>\n",
       "      <th>dist_tpm</th>\n",
       "    </tr>\n",
       "  </thead>\n",
       "  <tbody>\n",
       "    <tr>\n",
       "      <th>0</th>\n",
       "      <td>89498c95c87ffff</td>\n",
       "      <td>0.177925</td>\n",
       "      <td>-0.928833</td>\n",
       "      <td>0.285080</td>\n",
       "      <td>0.160424</td>\n",
       "    </tr>\n",
       "    <tr>\n",
       "      <th>1</th>\n",
       "      <td>89498c94e8bffff</td>\n",
       "      <td>-0.576193</td>\n",
       "      <td>0.581687</td>\n",
       "      <td>-0.313804</td>\n",
       "      <td>-0.595755</td>\n",
       "    </tr>\n",
       "  </tbody>\n",
       "</table>\n",
       "</div>"
      ],
      "text/plain": [
       "          hex_id_9  dist_ciclo  ruta_count   dist_tp  dist_tpm\n",
       "0  89498c95c87ffff    0.177925   -0.928833  0.285080  0.160424\n",
       "1  89498c94e8bffff   -0.576193    0.581687 -0.313804 -0.595755"
      ]
     },
     "execution_count": 20,
     "metadata": {},
     "output_type": "execute_result"
    }
   ],
   "source": [
    "hex_con = hex_con[['hex_id_9','dist_ciclo','ruta_count',\n",
    "                  'dist_tp','dist_tpm']]\n",
    "conn_cols = ['dist_ciclo','ruta_count',\n",
    "                  'dist_tp','dist_tpm']\n",
    "hex_con = hex_con.fillna(0)\n",
    "hex_con_std = hex_con.copy()\n",
    "hex_con_std[conn_cols] = StandardScaler().fit_transform(np.array(hex_con[conn_cols]))\n",
    "print(hex_con_std.shape)\n",
    "hex_con_std.head(2)"
   ]
  },
  {
   "cell_type": "code",
   "execution_count": 21,
   "id": "e4fa493b-95e7-4976-ae71-a0766769ee3f",
   "metadata": {},
   "outputs": [],
   "source": [
    "pca = PCA(n_components=2)\n",
    "\n",
    "x = hex_con_std.loc[:, conn_cols].values\n",
    "\n",
    "principalComponents = pca.fit_transform(x)"
   ]
  },
  {
   "cell_type": "code",
   "execution_count": 22,
   "id": "d144f8c9-f4b3-41d8-afc3-f33bf2d75297",
   "metadata": {},
   "outputs": [
    {
     "name": "stdout",
     "output_type": "stream",
     "text": [
      "Explained ratio: [0.52776501 0.28335031] Explained variance: 0.8111153169189178\n"
     ]
    }
   ],
   "source": [
    "print('Explained ratio:',pca.explained_variance_ratio_,'Explained variance:',pca.explained_variance_ratio_.sum())"
   ]
  },
  {
   "cell_type": "code",
   "execution_count": 23,
   "id": "c11b5f39-89e5-4c2d-98a7-9d91240a15f6",
   "metadata": {},
   "outputs": [
    {
     "name": "stderr",
     "output_type": "stream",
     "text": [
      "/tmp/ipykernel_50183/986357026.py:2: SettingWithCopyWarning: \n",
      "A value is trying to be set on a copy of a slice from a DataFrame.\n",
      "Try using .loc[row_indexer,col_indexer] = value instead\n",
      "\n",
      "See the caveats in the documentation: https://pandas.pydata.org/pandas-docs/stable/user_guide/indexing.html#returning-a-view-versus-a-copy\n",
      "  hex_con_pca.loc[:,'conn_pc_1'] = principalComponents[:,0].copy()\n",
      "/tmp/ipykernel_50183/986357026.py:3: SettingWithCopyWarning: \n",
      "A value is trying to be set on a copy of a slice from a DataFrame.\n",
      "Try using .loc[row_indexer,col_indexer] = value instead\n",
      "\n",
      "See the caveats in the documentation: https://pandas.pydata.org/pandas-docs/stable/user_guide/indexing.html#returning-a-view-versus-a-copy\n",
      "  hex_con_pca.loc[:,'conn_pc_2'] = principalComponents[:,1].copy()\n"
     ]
    }
   ],
   "source": [
    "hex_con_pca = hex_con[['hex_id_9']]\n",
    "hex_con_pca.loc[:,'conn_pc_1'] = principalComponents[:,0].copy()\n",
    "hex_con_pca.loc[:,'conn_pc_2'] = principalComponents[:,1].copy()"
   ]
  },
  {
   "cell_type": "markdown",
   "id": "c01ea14a-c614-475c-8ab6-fa95900d87a4",
   "metadata": {},
   "source": [
    "### Urban structure"
   ]
  },
  {
   "cell_type": "code",
   "execution_count": 24,
   "id": "27c6f0d5-a08b-461b-a9aa-a7d1523ff1ae",
   "metadata": {},
   "outputs": [
    {
     "name": "stdout",
     "output_type": "stream",
     "text": [
      "(1160, 10)\n"
     ]
    },
    {
     "data": {
      "text/html": [
       "<div>\n",
       "<style scoped>\n",
       "    .dataframe tbody tr th:only-of-type {\n",
       "        vertical-align: middle;\n",
       "    }\n",
       "\n",
       "    .dataframe tbody tr th {\n",
       "        vertical-align: top;\n",
       "    }\n",
       "\n",
       "    .dataframe thead th {\n",
       "        text-align: right;\n",
       "    }\n",
       "</style>\n",
       "<table border=\"1\" class=\"dataframe\">\n",
       "  <thead>\n",
       "    <tr style=\"text-align: right;\">\n",
       "      <th></th>\n",
       "      <th>hex_id_9</th>\n",
       "      <th>Baldios</th>\n",
       "      <th>Comercio y Servicios</th>\n",
       "      <th>Equipamiento</th>\n",
       "      <th>Espacios Abiertos</th>\n",
       "      <th>Habitacional</th>\n",
       "      <th>Industrial</th>\n",
       "      <th>pct</th>\n",
       "      <th>street_dens</th>\n",
       "      <th>wgt_ss</th>\n",
       "    </tr>\n",
       "  </thead>\n",
       "  <tbody>\n",
       "    <tr>\n",
       "      <th>0</th>\n",
       "      <td>89498c96e0bffff</td>\n",
       "      <td>-0.097343</td>\n",
       "      <td>1.134623</td>\n",
       "      <td>-0.362914</td>\n",
       "      <td>-0.416366</td>\n",
       "      <td>-0.319325</td>\n",
       "      <td>-0.160675</td>\n",
       "      <td>-0.596857</td>\n",
       "      <td>-0.091060</td>\n",
       "      <td>0.967271</td>\n",
       "    </tr>\n",
       "    <tr>\n",
       "      <th>1</th>\n",
       "      <td>89498c94313ffff</td>\n",
       "      <td>-0.187362</td>\n",
       "      <td>-0.596361</td>\n",
       "      <td>0.881481</td>\n",
       "      <td>-0.416366</td>\n",
       "      <td>0.589652</td>\n",
       "      <td>-0.316066</td>\n",
       "      <td>-0.049981</td>\n",
       "      <td>0.262394</td>\n",
       "      <td>0.783901</td>\n",
       "    </tr>\n",
       "  </tbody>\n",
       "</table>\n",
       "</div>"
      ],
      "text/plain": [
       "          hex_id_9   Baldios  Comercio y Servicios  Equipamiento  \\\n",
       "0  89498c96e0bffff -0.097343              1.134623     -0.362914   \n",
       "1  89498c94313ffff -0.187362             -0.596361      0.881481   \n",
       "\n",
       "   Espacios Abiertos  Habitacional  Industrial       pct  street_dens  \\\n",
       "0          -0.416366     -0.319325   -0.160675 -0.596857    -0.091060   \n",
       "1          -0.416366      0.589652   -0.316066 -0.049981     0.262394   \n",
       "\n",
       "     wgt_ss  \n",
       "0  0.967271  \n",
       "1  0.783901  "
      ]
     },
     "execution_count": 24,
     "metadata": {},
     "output_type": "execute_result"
    }
   ],
   "source": [
    "hex_us = hex_us[['hex_id_9','Baldios','Comercio y Servicios',\n",
    "                'Equipamiento','Espacios Abiertos','Habitacional','Industrial',\n",
    "                'pct','street_dens','wgt_ss']]\n",
    "us_cols = ['Baldios','Comercio y Servicios',\n",
    "                'Equipamiento','Espacios Abiertos','Habitacional','Industrial',\n",
    "                'pct','street_dens','wgt_ss']\n",
    "hex_us = hex_us.fillna(0)\n",
    "hex_us_std = hex_us.copy()\n",
    "hex_us_std[us_cols] = StandardScaler().fit_transform(np.array(hex_us[us_cols]))\n",
    "print(hex_us_std.shape)\n",
    "hex_us_std.head(2)"
   ]
  },
  {
   "cell_type": "code",
   "execution_count": 25,
   "id": "cbadb49b-40ce-498d-88ad-b8be86663f8f",
   "metadata": {},
   "outputs": [],
   "source": [
    "pca = PCA(n_components=4)\n",
    "\n",
    "x = hex_us_std.loc[:, us_cols].values\n",
    "\n",
    "principalComponents = pca.fit_transform(x)"
   ]
  },
  {
   "cell_type": "code",
   "execution_count": 26,
   "id": "3e550ff2-e589-44ef-96a9-0c6e2a063a17",
   "metadata": {},
   "outputs": [
    {
     "name": "stdout",
     "output_type": "stream",
     "text": [
      "Explained ratio: [0.30260212 0.20169397 0.12300117 0.11554228] Explained variance: 0.7428395496782503\n"
     ]
    }
   ],
   "source": [
    "print('Explained ratio:',pca.explained_variance_ratio_,'Explained variance:',pca.explained_variance_ratio_.sum())"
   ]
  },
  {
   "cell_type": "code",
   "execution_count": 27,
   "id": "3f8a8266-7bf8-4bf1-95c3-aaf4be5831d5",
   "metadata": {},
   "outputs": [
    {
     "name": "stderr",
     "output_type": "stream",
     "text": [
      "/tmp/ipykernel_50183/2873954002.py:2: SettingWithCopyWarning: \n",
      "A value is trying to be set on a copy of a slice from a DataFrame.\n",
      "Try using .loc[row_indexer,col_indexer] = value instead\n",
      "\n",
      "See the caveats in the documentation: https://pandas.pydata.org/pandas-docs/stable/user_guide/indexing.html#returning-a-view-versus-a-copy\n",
      "  hex_us_pca.loc[:,'us_pc_1'] = principalComponents[:,0].copy()\n",
      "/tmp/ipykernel_50183/2873954002.py:3: SettingWithCopyWarning: \n",
      "A value is trying to be set on a copy of a slice from a DataFrame.\n",
      "Try using .loc[row_indexer,col_indexer] = value instead\n",
      "\n",
      "See the caveats in the documentation: https://pandas.pydata.org/pandas-docs/stable/user_guide/indexing.html#returning-a-view-versus-a-copy\n",
      "  hex_us_pca.loc[:,'us_pc_2'] = principalComponents[:,1].copy()\n",
      "/tmp/ipykernel_50183/2873954002.py:4: SettingWithCopyWarning: \n",
      "A value is trying to be set on a copy of a slice from a DataFrame.\n",
      "Try using .loc[row_indexer,col_indexer] = value instead\n",
      "\n",
      "See the caveats in the documentation: https://pandas.pydata.org/pandas-docs/stable/user_guide/indexing.html#returning-a-view-versus-a-copy\n",
      "  hex_us_pca.loc[:,'us_pc_3'] = principalComponents[:,2].copy()\n",
      "/tmp/ipykernel_50183/2873954002.py:5: SettingWithCopyWarning: \n",
      "A value is trying to be set on a copy of a slice from a DataFrame.\n",
      "Try using .loc[row_indexer,col_indexer] = value instead\n",
      "\n",
      "See the caveats in the documentation: https://pandas.pydata.org/pandas-docs/stable/user_guide/indexing.html#returning-a-view-versus-a-copy\n",
      "  hex_us_pca.loc[:,'us_pc_4'] = principalComponents[:,3].copy()\n"
     ]
    }
   ],
   "source": [
    "hex_us_pca = hex_us[['hex_id_9']]\n",
    "hex_us_pca.loc[:,'us_pc_1'] = principalComponents[:,0].copy()\n",
    "hex_us_pca.loc[:,'us_pc_2'] = principalComponents[:,1].copy()\n",
    "hex_us_pca.loc[:,'us_pc_3'] = principalComponents[:,2].copy()\n",
    "hex_us_pca.loc[:,'us_pc_4'] = principalComponents[:,3].copy()"
   ]
  },
  {
   "cell_type": "markdown",
   "id": "39a1f54f-3618-4b05-8943-d7350d8c2416",
   "metadata": {},
   "source": [
    "### Proximity"
   ]
  },
  {
   "cell_type": "code",
   "execution_count": 28,
   "id": "9f72b64c-f9a1-4c90-aafa-9721e9ce6a9a",
   "metadata": {},
   "outputs": [
    {
     "name": "stdout",
     "output_type": "stream",
     "text": [
      "(1214, 6)\n"
     ]
    },
    {
     "data": {
      "text/html": [
       "<div>\n",
       "<style scoped>\n",
       "    .dataframe tbody tr th:only-of-type {\n",
       "        vertical-align: middle;\n",
       "    }\n",
       "\n",
       "    .dataframe tbody tr th {\n",
       "        vertical-align: top;\n",
       "    }\n",
       "\n",
       "    .dataframe thead th {\n",
       "        text-align: right;\n",
       "    }\n",
       "</style>\n",
       "<table border=\"1\" class=\"dataframe\">\n",
       "  <thead>\n",
       "    <tr style=\"text-align: right;\">\n",
       "      <th></th>\n",
       "      <th>hex_id_9</th>\n",
       "      <th>15_min_analysis</th>\n",
       "      <th>Entretenimiento</th>\n",
       "      <th>Comercio</th>\n",
       "      <th>Servicios comunitarios</th>\n",
       "      <th>Escuelas</th>\n",
       "    </tr>\n",
       "  </thead>\n",
       "  <tbody>\n",
       "    <tr>\n",
       "      <th>0</th>\n",
       "      <td>89498c95c27ffff</td>\n",
       "      <td>0.0</td>\n",
       "      <td>0.0</td>\n",
       "      <td>0.0</td>\n",
       "      <td>0.0</td>\n",
       "      <td>0.0</td>\n",
       "    </tr>\n",
       "    <tr>\n",
       "      <th>1</th>\n",
       "      <td>89498c9426bffff</td>\n",
       "      <td>0.0</td>\n",
       "      <td>0.0</td>\n",
       "      <td>0.0</td>\n",
       "      <td>0.0</td>\n",
       "      <td>0.0</td>\n",
       "    </tr>\n",
       "  </tbody>\n",
       "</table>\n",
       "</div>"
      ],
      "text/plain": [
       "          hex_id_9  15_min_analysis  Entretenimiento  Comercio  \\\n",
       "0  89498c95c27ffff              0.0              0.0       0.0   \n",
       "1  89498c9426bffff              0.0              0.0       0.0   \n",
       "\n",
       "   Servicios comunitarios  Escuelas  \n",
       "0                     0.0       0.0  \n",
       "1                     0.0       0.0  "
      ]
     },
     "execution_count": 28,
     "metadata": {},
     "output_type": "execute_result"
    }
   ],
   "source": [
    "hex_prox = hex_prox[['hex_id_9','15_min_analysis',\n",
    "                    'Entretenimiento','Comercio',\n",
    "                    'Servicios comunitarios','Escuelas']]\n",
    "prox_cols = ['15_min_analysis',\n",
    "                    'Entretenimiento','Comercio',\n",
    "                    'Servicios comunitarios','Escuelas']\n",
    "hex_prox = hex_prox.fillna(0)\n",
    "hex_prox_std = hex_prox.copy()\n",
    "hex_prox_std[prox_cols] = StandardScaler().fit_transform(np.array(hex_prox[prox_cols]))\n",
    "print(hex_prox.shape)\n",
    "hex_prox.head(2)"
   ]
  },
  {
   "cell_type": "code",
   "execution_count": 29,
   "id": "ee77958a-3e70-4480-a12f-b1e0c12bdd9a",
   "metadata": {},
   "outputs": [],
   "source": [
    "pca = PCA(n_components=2)\n",
    "\n",
    "x = hex_prox_std.loc[:, prox_cols].values\n",
    "\n",
    "principalComponents = pca.fit_transform(x)"
   ]
  },
  {
   "cell_type": "code",
   "execution_count": 30,
   "id": "9e11bd01-4c72-4f49-9823-0c85c272f4b0",
   "metadata": {},
   "outputs": [
    {
     "name": "stdout",
     "output_type": "stream",
     "text": [
      "Explained ratio: [0.81602574 0.08076748] Explained variance: 0.8967932256976998\n"
     ]
    }
   ],
   "source": [
    "print('Explained ratio:',pca.explained_variance_ratio_,'Explained variance:',pca.explained_variance_ratio_.sum())"
   ]
  },
  {
   "cell_type": "code",
   "execution_count": 31,
   "id": "96e266dc-8cc4-4e4f-bcf0-b7630028106f",
   "metadata": {},
   "outputs": [
    {
     "name": "stderr",
     "output_type": "stream",
     "text": [
      "/tmp/ipykernel_50183/2099321363.py:2: SettingWithCopyWarning: \n",
      "A value is trying to be set on a copy of a slice from a DataFrame.\n",
      "Try using .loc[row_indexer,col_indexer] = value instead\n",
      "\n",
      "See the caveats in the documentation: https://pandas.pydata.org/pandas-docs/stable/user_guide/indexing.html#returning-a-view-versus-a-copy\n",
      "  hex_prox_pca.loc[:,'prox_pc_1'] = principalComponents[:,0].copy()\n",
      "/tmp/ipykernel_50183/2099321363.py:3: SettingWithCopyWarning: \n",
      "A value is trying to be set on a copy of a slice from a DataFrame.\n",
      "Try using .loc[row_indexer,col_indexer] = value instead\n",
      "\n",
      "See the caveats in the documentation: https://pandas.pydata.org/pandas-docs/stable/user_guide/indexing.html#returning-a-view-versus-a-copy\n",
      "  hex_prox_pca.loc[:,'prox_pc_2'] = principalComponents[:,1].copy()\n"
     ]
    }
   ],
   "source": [
    "hex_prox_pca = hex_prox[['hex_id_9']]\n",
    "hex_prox_pca.loc[:,'prox_pc_1'] = principalComponents[:,0].copy()\n",
    "hex_prox_pca.loc[:,'prox_pc_2'] = principalComponents[:,1].copy()"
   ]
  },
  {
   "cell_type": "markdown",
   "id": "defde7a3-181a-4110-ba06-7e4aaf92d8c9",
   "metadata": {},
   "source": [
    "## Merge data"
   ]
  },
  {
   "cell_type": "code",
   "execution_count": 32,
   "id": "f2339726-b8dc-4de7-92f1-96f5d7d9fa21",
   "metadata": {},
   "outputs": [],
   "source": [
    "hex_mrg = hex_gdf.merge(hex_socio, on='hex_id_9', how='left')\n",
    "hex_mrg = hex_mrg.merge(hex_eco, on='hex_id_9', how='left')\n",
    "hex_mrg = hex_mrg.merge(hex_infra, on='hex_id_9', how='left')\n",
    "hex_mrg = hex_mrg.merge(hex_env, on='hex_id_9', how='left')\n",
    "hex_mrg = hex_mrg.merge(hex_con, on='hex_id_9', how='left')\n",
    "hex_mrg = hex_mrg.merge(hex_us, on='hex_id_9', how='left')\n",
    "hex_mrg = hex_mrg.merge(hex_prox, on='hex_id_9', how='left')"
   ]
  },
  {
   "cell_type": "code",
   "execution_count": 33,
   "id": "55629eec-233e-4bf8-ada8-7d7c313920a8",
   "metadata": {},
   "outputs": [
    {
     "name": "stdout",
     "output_type": "stream",
     "text": [
      "(1214, 2)\n"
     ]
    },
    {
     "data": {
      "text/html": [
       "<div>\n",
       "<style scoped>\n",
       "    .dataframe tbody tr th:only-of-type {\n",
       "        vertical-align: middle;\n",
       "    }\n",
       "\n",
       "    .dataframe tbody tr th {\n",
       "        vertical-align: top;\n",
       "    }\n",
       "\n",
       "    .dataframe thead th {\n",
       "        text-align: right;\n",
       "    }\n",
       "</style>\n",
       "<table border=\"1\" class=\"dataframe\">\n",
       "  <thead>\n",
       "    <tr style=\"text-align: right;\">\n",
       "      <th></th>\n",
       "      <th>hex_id_9</th>\n",
       "      <th>geometry</th>\n",
       "    </tr>\n",
       "  </thead>\n",
       "  <tbody>\n",
       "    <tr>\n",
       "      <th>0</th>\n",
       "      <td>89498c9616bffff</td>\n",
       "      <td>POLYGON ((671785.185 2284513.845, 671910.418 2...</td>\n",
       "    </tr>\n",
       "    <tr>\n",
       "      <th>1</th>\n",
       "      <td>89498c96e0bffff</td>\n",
       "      <td>POLYGON ((671598.887 2286237.521, 671724.122 2...</td>\n",
       "    </tr>\n",
       "  </tbody>\n",
       "</table>\n",
       "</div>"
      ],
      "text/plain": [
       "          hex_id_9                                           geometry\n",
       "0  89498c9616bffff  POLYGON ((671785.185 2284513.845, 671910.418 2...\n",
       "1  89498c96e0bffff  POLYGON ((671598.887 2286237.521, 671724.122 2..."
      ]
     },
     "execution_count": 33,
     "metadata": {},
     "output_type": "execute_result"
    }
   ],
   "source": [
    "print(hex_gdf.shape)\n",
    "hex_gdf.head(2)"
   ]
  },
  {
   "cell_type": "code",
   "execution_count": 34,
   "id": "efb1a6e6-757a-4abe-ad8c-c659f7c07eca",
   "metadata": {},
   "outputs": [],
   "source": [
    "hex_pca = hex_gdf.merge(hex_socio_pca, on='hex_id_9', how='left')\n",
    "hex_pca = hex_pca.merge(hex_eco_pca, on='hex_id_9', how='left')\n",
    "hex_pca = hex_pca.merge(hex_infra_pca, on='hex_id_9', how='left')\n",
    "hex_pca = hex_pca.merge(hex_env_pca, on='hex_id_9', how='left')\n",
    "hex_pca = hex_pca.merge(hex_con_pca, on='hex_id_9', how='left')\n",
    "hex_pca = hex_pca.merge(hex_us_pca, on='hex_id_9', how='left')\n",
    "hex_pca = hex_pca.merge(hex_prox_pca, on='hex_id_9', how='left')\n",
    "hex_pca = hex_pca.fillna(0)"
   ]
  },
  {
   "cell_type": "markdown",
   "id": "bd126265-60b4-48b7-beb6-26e6868a562a",
   "metadata": {},
   "source": [
    "## k-means"
   ]
  },
  {
   "cell_type": "code",
   "execution_count": 35,
   "id": "b1e9e799-d256-41cd-97ae-157a1f5b1a1e",
   "metadata": {},
   "outputs": [],
   "source": [
    "data = hex_pca.drop(columns=['hex_id_9','geometry']).to_numpy()"
   ]
  },
  {
   "cell_type": "code",
   "execution_count": 36,
   "id": "a929591e-4fa9-452d-b419-f139b55862ba",
   "metadata": {},
   "outputs": [
    {
     "data": {
      "text/plain": [
       "hex_id_9      0\n",
       "geometry      0\n",
       "socio_pc_1    0\n",
       "socio_pc_2    0\n",
       "socio_pc_3    0\n",
       "eco_pc_1      0\n",
       "eco_pc_2      0\n",
       "infra_pc_1    0\n",
       "infra_pc_2    0\n",
       "env_pc_1      0\n",
       "env_pc_2      0\n",
       "conn_pc_1     0\n",
       "conn_pc_2     0\n",
       "us_pc_1       0\n",
       "us_pc_2       0\n",
       "us_pc_3       0\n",
       "us_pc_4       0\n",
       "prox_pc_1     0\n",
       "prox_pc_2     0\n",
       "dtype: int64"
      ]
     },
     "execution_count": 36,
     "metadata": {},
     "output_type": "execute_result"
    }
   ],
   "source": [
    "hex_pca.isna().sum()"
   ]
  },
  {
   "cell_type": "code",
   "execution_count": 37,
   "id": "8a202cba-c581-440f-b33c-3f18bf0f1cb1",
   "metadata": {},
   "outputs": [
    {
     "name": "stdout",
     "output_type": "stream",
     "text": [
      "{2: 0.5090998536615083, 3: 0.4800635661869351, 4: 0.23835348140091825, 5: 0.2523839607001172, 6: 0.26175888558749744, 7: 0.25997917243195884, 8: 0.24792991056777705, 9: 0.16579108820352148, 10: 0.1656255988260543, 11: 0.17129758997682587, 12: 0.17638161146035944, 13: 0.1753705078260333, 14: 0.18062595280466548, 15: 0.1642356698967293, 16: 0.16841384435582202, 17: 0.17175931017870627, 18: 0.17402956516796114, 19: 0.1702154308808958, 20: 0.15999752745412746, 21: 0.15530149836165424, 22: 0.16573505365081734, 23: 0.16451248052864434, 24: 0.16046053322274437, 25: 0.16095954076938657, 26: 0.15932174157000914, 27: 0.15438428746726565, 28: 0.15245419862443504, 29: 0.1538564534829984}\n"
     ]
    },
    {
     "data": {
      "image/png": "[encoded data removed]",
      "text/plain": [
       "<Figure size 640x480 with 1 Axes>"
      ]
     },
     "metadata": {},
     "output_type": "display_data"
    }
   ],
   "source": [
    "# Elbow curve to find optimal K \n",
    "kmeans_kwargs = {\n",
    "    \"init\": \"random\",\n",
    "    \"n_init\": 30,\n",
    "    \"max_iter\": 300,\n",
    "    \"random_state\": 42,\n",
    "}\n",
    "\n",
    "sse = []\n",
    "silhouette_avg = {}\n",
    "for k in range(2, 30):\n",
    "    kmeans = KMeans(n_clusters=k, **kmeans_kwargs)\n",
    "    cluster_labels = kmeans.fit_predict(data)\n",
    "    sse.append(kmeans.inertia_)\n",
    "    silhouette_avg[k] = silhouette_score(data, cluster_labels)\n",
    "    \n",
    "\n",
    "print(silhouette_avg)\n",
    "\n",
    "plt.style.use(\"fivethirtyeight\")\n",
    "plt.plot(range(2, 30), sse)\n",
    "plt.xticks(range(2, 30))\n",
    "plt.xlabel(\"Number of Clusters\")\n",
    "plt.ylabel(\"SSE\")\n",
    "plt.show()\n"
   ]
  },
  {
   "cell_type": "code",
   "execution_count": 38,
   "id": "3fac571c-2698-4ed2-8a97-185af953affb",
   "metadata": {},
   "outputs": [
    {
     "data": {
      "text/plain": [
       "array([ 1, 13,  1, ..., 14,  4,  7], dtype=int32)"
      ]
     },
     "execution_count": 38,
     "metadata": {},
     "output_type": "execute_result"
    }
   ],
   "source": [
    "kmeans = KMeans(\n",
    "    init=\"random\",\n",
    "    n_clusters=15,\n",
    "    n_init=30,\n",
    "    max_iter=300,\n",
    "    random_state=42\n",
    ")\n",
    "clusters = kmeans.fit_predict(data) \n",
    "clusters"
   ]
  },
  {
   "cell_type": "code",
   "execution_count": 64,
   "id": "04c412a6-8ba7-47de-8c6a-65c561c02c8a",
   "metadata": {},
   "outputs": [
    {
     "data": {
      "text/plain": [
       "<AxesSubplot: >"
      ]
     },
     "execution_count": 64,
     "metadata": {},
     "output_type": "execute_result"
    },
    {
     "data": {
      "image/png": "[encoded data removed]",
      "text/plain": [
       "<Figure size 640x480 with 2 Axes>"
      ]
     },
     "metadata": {},
     "output_type": "display_data"
    }
   ],
   "source": [
    "hex_mrg['cluster'] = clusters\n",
    "hex_mrg.plot('cluster', legend=True)"
   ]
  },
  {
   "cell_type": "code",
   "execution_count": 40,
   "id": "97d37e70-3c88-4ac5-9539-1601578e10f5",
   "metadata": {},
   "outputs": [
    {
     "data": {
      "text/html": [
       "<div>\n",
       "<style scoped>\n",
       "    .dataframe tbody tr th:only-of-type {\n",
       "        vertical-align: middle;\n",
       "    }\n",
       "\n",
       "    .dataframe tbody tr th {\n",
       "        vertical-align: top;\n",
       "    }\n",
       "\n",
       "    .dataframe thead th {\n",
       "        text-align: right;\n",
       "    }\n",
       "</style>\n",
       "<table border=\"1\" class=\"dataframe\">\n",
       "  <thead>\n",
       "    <tr style=\"text-align: right;\">\n",
       "      <th></th>\n",
       "      <th>nse_idx</th>\n",
       "      <th>delitos_count</th>\n",
       "      <th>del_hab_100</th>\n",
       "      <th>graproes</th>\n",
       "      <th>dens_pob_ha</th>\n",
       "      <th>auto_viv</th>\n",
       "      <th>pct_0_17</th>\n",
       "      <th>pct_18_59</th>\n",
       "      <th>pct_60_mas</th>\n",
       "      <th>wgt_im</th>\n",
       "      <th>...</th>\n",
       "      <th>Habitacional</th>\n",
       "      <th>Industrial</th>\n",
       "      <th>pct</th>\n",
       "      <th>street_dens</th>\n",
       "      <th>wgt_ss</th>\n",
       "      <th>15_min_analysis</th>\n",
       "      <th>Entretenimiento</th>\n",
       "      <th>Comercio</th>\n",
       "      <th>Servicios comunitarios</th>\n",
       "      <th>Escuelas</th>\n",
       "    </tr>\n",
       "    <tr>\n",
       "      <th>cluster</th>\n",
       "      <th></th>\n",
       "      <th></th>\n",
       "      <th></th>\n",
       "      <th></th>\n",
       "      <th></th>\n",
       "      <th></th>\n",
       "      <th></th>\n",
       "      <th></th>\n",
       "      <th></th>\n",
       "      <th></th>\n",
       "      <th></th>\n",
       "      <th></th>\n",
       "      <th></th>\n",
       "      <th></th>\n",
       "      <th></th>\n",
       "      <th></th>\n",
       "      <th></th>\n",
       "      <th></th>\n",
       "      <th></th>\n",
       "      <th></th>\n",
       "      <th></th>\n",
       "    </tr>\n",
       "  </thead>\n",
       "  <tbody>\n",
       "    <tr>\n",
       "      <th>0</th>\n",
       "      <td>0.146350</td>\n",
       "      <td>80.371795</td>\n",
       "      <td>8.293380</td>\n",
       "      <td>10.654639</td>\n",
       "      <td>103.701010</td>\n",
       "      <td>0.577560</td>\n",
       "      <td>0.290855</td>\n",
       "      <td>0.595584</td>\n",
       "      <td>0.113561</td>\n",
       "      <td>121.840772</td>\n",
       "      <td>...</td>\n",
       "      <td>0.512445</td>\n",
       "      <td>0.011969</td>\n",
       "      <td>0.636191</td>\n",
       "      <td>0.867955</td>\n",
       "      <td>0.700935</td>\n",
       "      <td>11.003192</td>\n",
       "      <td>2.212965</td>\n",
       "      <td>4.958646</td>\n",
       "      <td>1.710022</td>\n",
       "      <td>2.121559</td>\n",
       "    </tr>\n",
       "    <tr>\n",
       "      <th>1</th>\n",
       "      <td>0.238789</td>\n",
       "      <td>82.518519</td>\n",
       "      <td>299.100888</td>\n",
       "      <td>8.594731</td>\n",
       "      <td>31.637093</td>\n",
       "      <td>0.439372</td>\n",
       "      <td>0.206063</td>\n",
       "      <td>0.494170</td>\n",
       "      <td>0.133100</td>\n",
       "      <td>122.250993</td>\n",
       "      <td>...</td>\n",
       "      <td>0.143792</td>\n",
       "      <td>0.307682</td>\n",
       "      <td>0.560345</td>\n",
       "      <td>0.521709</td>\n",
       "      <td>0.872159</td>\n",
       "      <td>10.327022</td>\n",
       "      <td>1.968382</td>\n",
       "      <td>4.771135</td>\n",
       "      <td>1.672693</td>\n",
       "      <td>1.914813</td>\n",
       "    </tr>\n",
       "    <tr>\n",
       "      <th>2</th>\n",
       "      <td>0.541643</td>\n",
       "      <td>146.090361</td>\n",
       "      <td>7.429350</td>\n",
       "      <td>9.722298</td>\n",
       "      <td>174.396763</td>\n",
       "      <td>0.496500</td>\n",
       "      <td>0.271932</td>\n",
       "      <td>0.575063</td>\n",
       "      <td>0.153006</td>\n",
       "      <td>121.300569</td>\n",
       "      <td>...</td>\n",
       "      <td>0.728346</td>\n",
       "      <td>0.011630</td>\n",
       "      <td>0.451306</td>\n",
       "      <td>1.019090</td>\n",
       "      <td>0.893047</td>\n",
       "      <td>12.315664</td>\n",
       "      <td>2.349465</td>\n",
       "      <td>4.999646</td>\n",
       "      <td>2.397049</td>\n",
       "      <td>2.569505</td>\n",
       "    </tr>\n",
       "    <tr>\n",
       "      <th>3</th>\n",
       "      <td>0.000000</td>\n",
       "      <td>0.312500</td>\n",
       "      <td>31.250000</td>\n",
       "      <td>0.000000</td>\n",
       "      <td>0.000000</td>\n",
       "      <td>0.000000</td>\n",
       "      <td>0.000000</td>\n",
       "      <td>0.000000</td>\n",
       "      <td>0.000000</td>\n",
       "      <td>0.000000</td>\n",
       "      <td>...</td>\n",
       "      <td>0.003153</td>\n",
       "      <td>0.000000</td>\n",
       "      <td>0.987758</td>\n",
       "      <td>0.150434</td>\n",
       "      <td>0.492339</td>\n",
       "      <td>0.000000</td>\n",
       "      <td>0.000000</td>\n",
       "      <td>0.000000</td>\n",
       "      <td>0.000000</td>\n",
       "      <td>0.000000</td>\n",
       "    </tr>\n",
       "    <tr>\n",
       "      <th>4</th>\n",
       "      <td>-0.686380</td>\n",
       "      <td>165.536585</td>\n",
       "      <td>15.695240</td>\n",
       "      <td>12.772138</td>\n",
       "      <td>99.915159</td>\n",
       "      <td>0.718610</td>\n",
       "      <td>0.182917</td>\n",
       "      <td>0.590113</td>\n",
       "      <td>0.226970</td>\n",
       "      <td>123.606532</td>\n",
       "      <td>...</td>\n",
       "      <td>0.680920</td>\n",
       "      <td>0.008894</td>\n",
       "      <td>0.463585</td>\n",
       "      <td>0.817487</td>\n",
       "      <td>0.837748</td>\n",
       "      <td>12.950869</td>\n",
       "      <td>2.648022</td>\n",
       "      <td>4.998631</td>\n",
       "      <td>2.811944</td>\n",
       "      <td>2.492272</td>\n",
       "    </tr>\n",
       "    <tr>\n",
       "      <th>5</th>\n",
       "      <td>0.802773</td>\n",
       "      <td>4.838710</td>\n",
       "      <td>382.400191</td>\n",
       "      <td>1.720878</td>\n",
       "      <td>4.332525</td>\n",
       "      <td>0.102765</td>\n",
       "      <td>0.302334</td>\n",
       "      <td>0.097666</td>\n",
       "      <td>0.019355</td>\n",
       "      <td>118.928246</td>\n",
       "      <td>...</td>\n",
       "      <td>0.061588</td>\n",
       "      <td>0.000029</td>\n",
       "      <td>0.927871</td>\n",
       "      <td>0.494312</td>\n",
       "      <td>0.549356</td>\n",
       "      <td>4.640489</td>\n",
       "      <td>1.442770</td>\n",
       "      <td>2.131554</td>\n",
       "      <td>0.449147</td>\n",
       "      <td>0.617018</td>\n",
       "    </tr>\n",
       "    <tr>\n",
       "      <th>6</th>\n",
       "      <td>0.000000</td>\n",
       "      <td>1.000000</td>\n",
       "      <td>100.000000</td>\n",
       "      <td>0.000000</td>\n",
       "      <td>0.000000</td>\n",
       "      <td>0.000000</td>\n",
       "      <td>0.000000</td>\n",
       "      <td>0.000000</td>\n",
       "      <td>0.000000</td>\n",
       "      <td>0.000000</td>\n",
       "      <td>...</td>\n",
       "      <td>0.000000</td>\n",
       "      <td>0.000000</td>\n",
       "      <td>1.000000</td>\n",
       "      <td>0.014119</td>\n",
       "      <td>0.421029</td>\n",
       "      <td>0.000000</td>\n",
       "      <td>0.000000</td>\n",
       "      <td>0.000000</td>\n",
       "      <td>0.000000</td>\n",
       "      <td>0.000000</td>\n",
       "    </tr>\n",
       "    <tr>\n",
       "      <th>7</th>\n",
       "      <td>-0.076329</td>\n",
       "      <td>74.903226</td>\n",
       "      <td>34.909034</td>\n",
       "      <td>10.454581</td>\n",
       "      <td>49.308300</td>\n",
       "      <td>0.501892</td>\n",
       "      <td>0.254465</td>\n",
       "      <td>0.537349</td>\n",
       "      <td>0.143670</td>\n",
       "      <td>122.857356</td>\n",
       "      <td>...</td>\n",
       "      <td>0.176201</td>\n",
       "      <td>0.008686</td>\n",
       "      <td>0.744410</td>\n",
       "      <td>0.695474</td>\n",
       "      <td>0.817336</td>\n",
       "      <td>11.286515</td>\n",
       "      <td>2.177735</td>\n",
       "      <td>4.767757</td>\n",
       "      <td>2.164347</td>\n",
       "      <td>2.176676</td>\n",
       "    </tr>\n",
       "    <tr>\n",
       "      <th>8</th>\n",
       "      <td>2.960673</td>\n",
       "      <td>77.073171</td>\n",
       "      <td>6953.678862</td>\n",
       "      <td>0.000000</td>\n",
       "      <td>0.063108</td>\n",
       "      <td>0.000000</td>\n",
       "      <td>0.975610</td>\n",
       "      <td>0.000000</td>\n",
       "      <td>0.000000</td>\n",
       "      <td>101.857722</td>\n",
       "      <td>...</td>\n",
       "      <td>0.024994</td>\n",
       "      <td>0.342985</td>\n",
       "      <td>0.487450</td>\n",
       "      <td>0.502021</td>\n",
       "      <td>1.032662</td>\n",
       "      <td>9.375850</td>\n",
       "      <td>1.938340</td>\n",
       "      <td>4.473124</td>\n",
       "      <td>1.579294</td>\n",
       "      <td>1.385093</td>\n",
       "    </tr>\n",
       "    <tr>\n",
       "      <th>9</th>\n",
       "      <td>-1.343001</td>\n",
       "      <td>138.050000</td>\n",
       "      <td>36.615948</td>\n",
       "      <td>14.540614</td>\n",
       "      <td>43.257691</td>\n",
       "      <td>0.862337</td>\n",
       "      <td>0.137199</td>\n",
       "      <td>0.627005</td>\n",
       "      <td>0.235796</td>\n",
       "      <td>124.808468</td>\n",
       "      <td>...</td>\n",
       "      <td>0.623311</td>\n",
       "      <td>0.005878</td>\n",
       "      <td>0.535820</td>\n",
       "      <td>0.590113</td>\n",
       "      <td>0.910302</td>\n",
       "      <td>12.277048</td>\n",
       "      <td>2.707776</td>\n",
       "      <td>4.935942</td>\n",
       "      <td>2.476240</td>\n",
       "      <td>2.157090</td>\n",
       "    </tr>\n",
       "    <tr>\n",
       "      <th>10</th>\n",
       "      <td>0.006011</td>\n",
       "      <td>166.656977</td>\n",
       "      <td>41.231521</td>\n",
       "      <td>11.002922</td>\n",
       "      <td>97.033821</td>\n",
       "      <td>0.485883</td>\n",
       "      <td>0.222937</td>\n",
       "      <td>0.590021</td>\n",
       "      <td>0.187041</td>\n",
       "      <td>122.344373</td>\n",
       "      <td>...</td>\n",
       "      <td>0.587918</td>\n",
       "      <td>0.038560</td>\n",
       "      <td>0.382688</td>\n",
       "      <td>0.949541</td>\n",
       "      <td>1.100933</td>\n",
       "      <td>12.738329</td>\n",
       "      <td>2.525922</td>\n",
       "      <td>5.000000</td>\n",
       "      <td>2.680841</td>\n",
       "      <td>2.531565</td>\n",
       "    </tr>\n",
       "    <tr>\n",
       "      <th>11</th>\n",
       "      <td>0.380302</td>\n",
       "      <td>153.912791</td>\n",
       "      <td>7.948720</td>\n",
       "      <td>10.124188</td>\n",
       "      <td>169.307899</td>\n",
       "      <td>0.511877</td>\n",
       "      <td>0.263556</td>\n",
       "      <td>0.575178</td>\n",
       "      <td>0.161266</td>\n",
       "      <td>121.290582</td>\n",
       "      <td>...</td>\n",
       "      <td>0.762994</td>\n",
       "      <td>0.009607</td>\n",
       "      <td>0.399050</td>\n",
       "      <td>1.013502</td>\n",
       "      <td>0.940169</td>\n",
       "      <td>12.805774</td>\n",
       "      <td>2.383015</td>\n",
       "      <td>4.998754</td>\n",
       "      <td>2.684429</td>\n",
       "      <td>2.739575</td>\n",
       "    </tr>\n",
       "    <tr>\n",
       "      <th>12</th>\n",
       "      <td>0.736384</td>\n",
       "      <td>83.500000</td>\n",
       "      <td>529.932799</td>\n",
       "      <td>8.335840</td>\n",
       "      <td>72.372725</td>\n",
       "      <td>0.509600</td>\n",
       "      <td>0.423249</td>\n",
       "      <td>0.462883</td>\n",
       "      <td>0.113868</td>\n",
       "      <td>122.253106</td>\n",
       "      <td>...</td>\n",
       "      <td>0.228689</td>\n",
       "      <td>0.076880</td>\n",
       "      <td>0.738817</td>\n",
       "      <td>0.773952</td>\n",
       "      <td>0.638233</td>\n",
       "      <td>10.695915</td>\n",
       "      <td>2.083973</td>\n",
       "      <td>4.597634</td>\n",
       "      <td>1.789814</td>\n",
       "      <td>2.224495</td>\n",
       "    </tr>\n",
       "    <tr>\n",
       "      <th>13</th>\n",
       "      <td>-0.632195</td>\n",
       "      <td>330.348315</td>\n",
       "      <td>185.039485</td>\n",
       "      <td>12.528843</td>\n",
       "      <td>36.014745</td>\n",
       "      <td>0.539709</td>\n",
       "      <td>0.186976</td>\n",
       "      <td>0.613325</td>\n",
       "      <td>0.199698</td>\n",
       "      <td>122.980224</td>\n",
       "      <td>...</td>\n",
       "      <td>0.355462</td>\n",
       "      <td>0.053156</td>\n",
       "      <td>0.435264</td>\n",
       "      <td>0.736091</td>\n",
       "      <td>1.133954</td>\n",
       "      <td>13.090166</td>\n",
       "      <td>2.861692</td>\n",
       "      <td>4.996278</td>\n",
       "      <td>2.831227</td>\n",
       "      <td>2.400970</td>\n",
       "    </tr>\n",
       "    <tr>\n",
       "      <th>14</th>\n",
       "      <td>-0.576159</td>\n",
       "      <td>14.840000</td>\n",
       "      <td>5.994551</td>\n",
       "      <td>12.110359</td>\n",
       "      <td>29.693998</td>\n",
       "      <td>0.722718</td>\n",
       "      <td>0.229399</td>\n",
       "      <td>0.576054</td>\n",
       "      <td>0.174547</td>\n",
       "      <td>121.200485</td>\n",
       "      <td>...</td>\n",
       "      <td>0.362298</td>\n",
       "      <td>0.001729</td>\n",
       "      <td>0.796798</td>\n",
       "      <td>0.572319</td>\n",
       "      <td>0.589924</td>\n",
       "      <td>7.557814</td>\n",
       "      <td>1.810213</td>\n",
       "      <td>3.686533</td>\n",
       "      <td>0.967330</td>\n",
       "      <td>1.093737</td>\n",
       "    </tr>\n",
       "  </tbody>\n",
       "</table>\n",
       "<p>15 rows × 43 columns</p>\n",
       "</div>"
      ],
      "text/plain": [
       "          nse_idx  delitos_count  del_hab_100   graproes  dens_pob_ha  \\\n",
       "cluster                                                                 \n",
       "0        0.146350      80.371795     8.293380  10.654639   103.701010   \n",
       "1        0.238789      82.518519   299.100888   8.594731    31.637093   \n",
       "2        0.541643     146.090361     7.429350   9.722298   174.396763   \n",
       "3        0.000000       0.312500    31.250000   0.000000     0.000000   \n",
       "4       -0.686380     165.536585    15.695240  12.772138    99.915159   \n",
       "5        0.802773       4.838710   382.400191   1.720878     4.332525   \n",
       "6        0.000000       1.000000   100.000000   0.000000     0.000000   \n",
       "7       -0.076329      74.903226    34.909034  10.454581    49.308300   \n",
       "8        2.960673      77.073171  6953.678862   0.000000     0.063108   \n",
       "9       -1.343001     138.050000    36.615948  14.540614    43.257691   \n",
       "10       0.006011     166.656977    41.231521  11.002922    97.033821   \n",
       "11       0.380302     153.912791     7.948720  10.124188   169.307899   \n",
       "12       0.736384      83.500000   529.932799   8.335840    72.372725   \n",
       "13      -0.632195     330.348315   185.039485  12.528843    36.014745   \n",
       "14      -0.576159      14.840000     5.994551  12.110359    29.693998   \n",
       "\n",
       "         auto_viv  pct_0_17  pct_18_59  pct_60_mas      wgt_im  ...  \\\n",
       "cluster                                                         ...   \n",
       "0        0.577560  0.290855   0.595584    0.113561  121.840772  ...   \n",
       "1        0.439372  0.206063   0.494170    0.133100  122.250993  ...   \n",
       "2        0.496500  0.271932   0.575063    0.153006  121.300569  ...   \n",
       "3        0.000000  0.000000   0.000000    0.000000    0.000000  ...   \n",
       "4        0.718610  0.182917   0.590113    0.226970  123.606532  ...   \n",
       "5        0.102765  0.302334   0.097666    0.019355  118.928246  ...   \n",
       "6        0.000000  0.000000   0.000000    0.000000    0.000000  ...   \n",
       "7        0.501892  0.254465   0.537349    0.143670  122.857356  ...   \n",
       "8        0.000000  0.975610   0.000000    0.000000  101.857722  ...   \n",
       "9        0.862337  0.137199   0.627005    0.235796  124.808468  ...   \n",
       "10       0.485883  0.222937   0.590021    0.187041  122.344373  ...   \n",
       "11       0.511877  0.263556   0.575178    0.161266  121.290582  ...   \n",
       "12       0.509600  0.423249   0.462883    0.113868  122.253106  ...   \n",
       "13       0.539709  0.186976   0.613325    0.199698  122.980224  ...   \n",
       "14       0.722718  0.229399   0.576054    0.174547  121.200485  ...   \n",
       "\n",
       "         Habitacional  Industrial       pct  street_dens    wgt_ss  \\\n",
       "cluster                                                              \n",
       "0            0.512445    0.011969  0.636191     0.867955  0.700935   \n",
       "1            0.143792    0.307682  0.560345     0.521709  0.872159   \n",
       "2            0.728346    0.011630  0.451306     1.019090  0.893047   \n",
       "3            0.003153    0.000000  0.987758     0.150434  0.492339   \n",
       "4            0.680920    0.008894  0.463585     0.817487  0.837748   \n",
       "5            0.061588    0.000029  0.927871     0.494312  0.549356   \n",
       "6            0.000000    0.000000  1.000000     0.014119  0.421029   \n",
       "7            0.176201    0.008686  0.744410     0.695474  0.817336   \n",
       "8            0.024994    0.342985  0.487450     0.502021  1.032662   \n",
       "9            0.623311    0.005878  0.535820     0.590113  0.910302   \n",
       "10           0.587918    0.038560  0.382688     0.949541  1.100933   \n",
       "11           0.762994    0.009607  0.399050     1.013502  0.940169   \n",
       "12           0.228689    0.076880  0.738817     0.773952  0.638233   \n",
       "13           0.355462    0.053156  0.435264     0.736091  1.133954   \n",
       "14           0.362298    0.001729  0.796798     0.572319  0.589924   \n",
       "\n",
       "         15_min_analysis  Entretenimiento  Comercio  Servicios comunitarios  \\\n",
       "cluster                                                                       \n",
       "0              11.003192         2.212965  4.958646                1.710022   \n",
       "1              10.327022         1.968382  4.771135                1.672693   \n",
       "2              12.315664         2.349465  4.999646                2.397049   \n",
       "3               0.000000         0.000000  0.000000                0.000000   \n",
       "4              12.950869         2.648022  4.998631                2.811944   \n",
       "5               4.640489         1.442770  2.131554                0.449147   \n",
       "6               0.000000         0.000000  0.000000                0.000000   \n",
       "7              11.286515         2.177735  4.767757                2.164347   \n",
       "8               9.375850         1.938340  4.473124                1.579294   \n",
       "9              12.277048         2.707776  4.935942                2.476240   \n",
       "10             12.738329         2.525922  5.000000                2.680841   \n",
       "11             12.805774         2.383015  4.998754                2.684429   \n",
       "12             10.695915         2.083973  4.597634                1.789814   \n",
       "13             13.090166         2.861692  4.996278                2.831227   \n",
       "14              7.557814         1.810213  3.686533                0.967330   \n",
       "\n",
       "         Escuelas  \n",
       "cluster            \n",
       "0        2.121559  \n",
       "1        1.914813  \n",
       "2        2.569505  \n",
       "3        0.000000  \n",
       "4        2.492272  \n",
       "5        0.617018  \n",
       "6        0.000000  \n",
       "7        2.176676  \n",
       "8        1.385093  \n",
       "9        2.157090  \n",
       "10       2.531565  \n",
       "11       2.739575  \n",
       "12       2.224495  \n",
       "13       2.400970  \n",
       "14       1.093737  \n",
       "\n",
       "[15 rows x 43 columns]"
      ]
     },
     "execution_count": 40,
     "metadata": {},
     "output_type": "execute_result"
    }
   ],
   "source": [
    "hex_mrg.groupby('cluster').mean()"
   ]
  },
  {
   "cell_type": "code",
   "execution_count": 62,
   "id": "b8ee6c31-a9d2-4c57-8320-c70158d77eb2",
   "metadata": {},
   "outputs": [],
   "source": [
    "hex_hm = hex_mrg.drop(columns=['denue_jobs_>_11','area_m2',\n",
    "                               'denue_jobs','area_pob','denue_count',\n",
    "                              'del_hab_100','delitos_count','dens_pob_ha','wgt_im',\n",
    "                              'dist_ciclo','dist_tpm','pct_jobs_>_11'])"
   ]
  },
  {
   "cell_type": "code",
   "execution_count": 63,
   "id": "f2d043a6-1b1d-4dd1-b3d4-109947bbe7a0",
   "metadata": {},
   "outputs": [
    {
     "data": {
      "text/plain": [
       "<AxesSubplot: ylabel='cluster'>"
      ]
     },
     "execution_count": 63,
     "metadata": {},
     "output_type": "execute_result"
    },
    {
     "data": {
      "image/png": "[encoded data removed]",
      "text/plain": [
       "<Figure size 640x480 with 2 Axes>"
      ]
     },
     "metadata": {},
     "output_type": "display_data"
    }
   ],
   "source": [
    "sns.heatmap(hex_hm.groupby('cluster').mean(), \n",
    "            annot=False,fmt=\".1f\", linewidth=.5, cmap=\"crest\")"
   ]
  },
  {
   "cell_type": "code",
   "execution_count": 65,
   "id": "a13092a9-507c-41ec-acbc-9516ab2ac6a7",
   "metadata": {},
   "outputs": [],
   "source": [
    "hex_mrg.to_file('../data/processed/hex_clusters.geojson')"
   ]
  },
  {
   "cell_type": "code",
   "execution_count": null,
   "id": "57125724-e7d8-4643-8687-c9b29babae22",
   "metadata": {},
   "outputs": [],
   "source": []
  }
 ],
 "metadata": {
  "kernelspec": {
   "display_name": "Python 3 (ipykernel)",
   "language": "python",
   "name": "python3"
  },
  "language_info": {
   "codemirror_mode": {
    "name": "ipython",
    "version": 3
   },
   "file_extension": ".py",
   "mimetype": "text/x-python",
   "name": "python",
   "nbconvert_exporter": "python",
   "pygments_lexer": "ipython3",
   "version": "3.13.1"
  }
 },
 "nbformat": 4,
 "nbformat_minor": 5
}
