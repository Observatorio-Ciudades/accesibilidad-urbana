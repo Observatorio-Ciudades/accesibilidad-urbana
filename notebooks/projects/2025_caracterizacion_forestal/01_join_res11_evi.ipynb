{
 "cells": [
  {
   "cell_type": "markdown",
   "id": "fe7a38e3-9c05-45a5-824d-49a288f313a0",
   "metadata": {},
   "source": [
    "# 01_join_res11_evi"
   ]
  },
  {
   "cell_type": "markdown",
   "id": "45aa7643-ee61-4e0f-aa9b-ec50c3ae54ec",
   "metadata": {},
   "source": [
    "This notebook merges the processed batches of evi."
   ]
  },
  {
   "cell_type": "markdown",
   "id": "034e154d-e327-42b1-bb54-ced4756411e8",
   "metadata": {},
   "source": [
    "## __Import libraries__"
   ]
  },
  {
   "cell_type": "code",
   "execution_count": 1,
   "id": "c5aac11d-f8fe-47c5-824e-9bed911143bf",
   "metadata": {},
   "outputs": [
    {
     "name": "stdout",
     "output_type": "stream",
     "text": [
      "/home/observatorio/Documents/repos/accesibilidad-urbana\n"
     ]
    }
   ],
   "source": [
    "from pathlib import Path\n",
    "current_path = Path().resolve()\n",
    "for parent in current_path.parents:\n",
    "    if parent.name == \"accesibilidad-urbana\":\n",
    "        project_root = parent\n",
    "        break\n",
    "print(project_root)"
   ]
  },
  {
   "cell_type": "code",
   "execution_count": 2,
   "id": "a2ea54f9-92d1-4f5f-85c6-a0795993d74c",
   "metadata": {},
   "outputs": [],
   "source": [
    "import os\n",
    "import sys\n",
    "\n",
    "import pandas as pd\n",
    "import geopandas as gpd\n",
    "import osmnx as ox\n",
    "import numpy as np\n",
    "\n",
    "import matplotlib.pyplot as plt\n",
    "import seaborn as sns\n",
    "\n",
    "import warnings\n",
    "warnings.simplefilter(action='ignore', category=FutureWarning)\n",
    "\n",
    "module_path = os.path.abspath(os.path.join('../../'))\n",
    "if module_path not in sys.path:\n",
    "    sys.path.append(module_path)\n",
    "    import aup"
   ]
  },
  {
   "cell_type": "markdown",
   "id": "2d3cfba5-7193-46d0-b3dd-5d29cd4ee59c",
   "metadata": {},
   "source": [
    "## __Script variables__"
   ]
  },
  {
   "cell_type": "code",
   "execution_count": 3,
   "id": "db3f0bab-45db-4211-a2c0-eeeb24392fc3",
   "metadata": {},
   "outputs": [],
   "source": [
    "index_analysis='evi'"
   ]
  },
  {
   "cell_type": "markdown",
   "id": "8eed4be6-5d28-44b6-966b-a4a4df9e09f5",
   "metadata": {},
   "source": [
    "## __Load and merge gdf data__"
   ]
  },
  {
   "cell_type": "code",
   "execution_count": 6,
   "id": "75d66267-f00f-4dc8-98dc-5540d3e681da",
   "metadata": {},
   "outputs": [
    {
     "name": "stdout",
     "output_type": "stream",
     "text": [
      "(50000, 20)\n"
     ]
    },
    {
     "data": {
      "text/html": [
       "<div>\n",
       "<style scoped>\n",
       "    .dataframe tbody tr th:only-of-type {\n",
       "        vertical-align: middle;\n",
       "    }\n",
       "\n",
       "    .dataframe tbody tr th {\n",
       "        vertical-align: top;\n",
       "    }\n",
       "\n",
       "    .dataframe thead th {\n",
       "        text-align: right;\n",
       "    }\n",
       "</style>\n",
       "<table border=\"1\" class=\"dataframe\">\n",
       "  <thead>\n",
       "    <tr style=\"text-align: right;\">\n",
       "      <th></th>\n",
       "      <th>hex_id</th>\n",
       "      <th>res</th>\n",
       "      <th>evi_mean</th>\n",
       "      <th>evi_std</th>\n",
       "      <th>evi_median</th>\n",
       "      <th>evi_max</th>\n",
       "      <th>evi_min</th>\n",
       "      <th>evi_diff</th>\n",
       "      <th>evi_tend</th>\n",
       "      <th>evi_2016</th>\n",
       "      <th>evi_2017</th>\n",
       "      <th>evi_2018</th>\n",
       "      <th>evi_2019</th>\n",
       "      <th>evi_2020</th>\n",
       "      <th>evi_2021</th>\n",
       "      <th>evi_2022</th>\n",
       "      <th>evi_2023</th>\n",
       "      <th>evi_2024</th>\n",
       "      <th>city</th>\n",
       "      <th>geometry</th>\n",
       "    </tr>\n",
       "  </thead>\n",
       "  <tbody>\n",
       "    <tr>\n",
       "      <th>0</th>\n",
       "      <td>8b499c124154fff</td>\n",
       "      <td>11</td>\n",
       "      <td>2.008673</td>\n",
       "      <td>0.711604</td>\n",
       "      <td>2.023071</td>\n",
       "      <td>2.667842</td>\n",
       "      <td>1.066745</td>\n",
       "      <td>1.601098</td>\n",
       "      <td>0.010083</td>\n",
       "      <td>1.991480</td>\n",
       "      <td>1.311870</td>\n",
       "      <td>1.908159</td>\n",
       "      <td>1.518248</td>\n",
       "      <td>1.824319</td>\n",
       "      <td>1.799812</td>\n",
       "      <td>2.346599</td>\n",
       "      <td>2.871015</td>\n",
       "      <td>2.500825</td>\n",
       "      <td>Caracterizacion_aoi</td>\n",
       "      <td>POLYGON ((-99.70839 21.18812, -99.70822 21.188...</td>\n",
       "    </tr>\n",
       "    <tr>\n",
       "      <th>1</th>\n",
       "      <td>8b499c89c319fff</td>\n",
       "      <td>11</td>\n",
       "      <td>1.873376</td>\n",
       "      <td>9.018293</td>\n",
       "      <td>2.358676</td>\n",
       "      <td>11.553325</td>\n",
       "      <td>-2.734888</td>\n",
       "      <td>14.288213</td>\n",
       "      <td>0.017003</td>\n",
       "      <td>2.086347</td>\n",
       "      <td>-9.747417</td>\n",
       "      <td>1.977546</td>\n",
       "      <td>2.326254</td>\n",
       "      <td>2.174632</td>\n",
       "      <td>2.153949</td>\n",
       "      <td>3.218196</td>\n",
       "      <td>9.177348</td>\n",
       "      <td>3.564518</td>\n",
       "      <td>Caracterizacion_aoi</td>\n",
       "      <td>POLYGON ((-99.67447 21.14344, -99.67429 21.143...</td>\n",
       "    </tr>\n",
       "  </tbody>\n",
       "</table>\n",
       "</div>"
      ],
      "text/plain": [
       "            hex_id  res  evi_mean   evi_std  evi_median    evi_max   evi_min  \\\n",
       "0  8b499c124154fff   11  2.008673  0.711604    2.023071   2.667842  1.066745   \n",
       "1  8b499c89c319fff   11  1.873376  9.018293    2.358676  11.553325 -2.734888   \n",
       "\n",
       "    evi_diff  evi_tend  evi_2016  evi_2017  evi_2018  evi_2019  evi_2020  \\\n",
       "0   1.601098  0.010083  1.991480  1.311870  1.908159  1.518248  1.824319   \n",
       "1  14.288213  0.017003  2.086347 -9.747417  1.977546  2.326254  2.174632   \n",
       "\n",
       "   evi_2021  evi_2022  evi_2023  evi_2024                 city  \\\n",
       "0  1.799812  2.346599  2.871015  2.500825  Caracterizacion_aoi   \n",
       "1  2.153949  3.218196  9.177348  3.564518  Caracterizacion_aoi   \n",
       "\n",
       "                                            geometry  \n",
       "0  POLYGON ((-99.70839 21.18812, -99.70822 21.188...  \n",
       "1  POLYGON ((-99.67447 21.14344, -99.67429 21.143...  "
      ]
     },
     "execution_count": 6,
     "metadata": {},
     "output_type": "execute_result"
    }
   ],
   "source": [
    "gdf_raster_analysis_res11_v0 = gpd.read_file(str(project_root)+'/data/processed/tmp_evi/local_save/Caracterizacion_aoi_evi_HexRes11_v0.geojson')\n",
    "\n",
    "# Show\n",
    "print(gdf_raster_analysis_res11_v0.shape)\n",
    "gdf_raster_analysis_res11_v0.head(2)"
   ]
  },
  {
   "cell_type": "code",
   "execution_count": 5,
   "id": "3f2141f8-9dec-438f-9d7b-7a808a340339",
   "metadata": {},
   "outputs": [
    {
     "name": "stdout",
     "output_type": "stream",
     "text": [
      "(25803, 20)\n"
     ]
    },
    {
     "data": {
      "text/html": [
       "<div>\n",
       "<style scoped>\n",
       "    .dataframe tbody tr th:only-of-type {\n",
       "        vertical-align: middle;\n",
       "    }\n",
       "\n",
       "    .dataframe tbody tr th {\n",
       "        vertical-align: top;\n",
       "    }\n",
       "\n",
       "    .dataframe thead th {\n",
       "        text-align: right;\n",
       "    }\n",
       "</style>\n",
       "<table border=\"1\" class=\"dataframe\">\n",
       "  <thead>\n",
       "    <tr style=\"text-align: right;\">\n",
       "      <th></th>\n",
       "      <th>hex_id</th>\n",
       "      <th>res</th>\n",
       "      <th>evi_mean</th>\n",
       "      <th>evi_std</th>\n",
       "      <th>evi_median</th>\n",
       "      <th>evi_max</th>\n",
       "      <th>evi_min</th>\n",
       "      <th>evi_diff</th>\n",
       "      <th>evi_tend</th>\n",
       "      <th>evi_2016</th>\n",
       "      <th>evi_2017</th>\n",
       "      <th>evi_2018</th>\n",
       "      <th>evi_2019</th>\n",
       "      <th>evi_2020</th>\n",
       "      <th>evi_2021</th>\n",
       "      <th>evi_2022</th>\n",
       "      <th>evi_2023</th>\n",
       "      <th>evi_2024</th>\n",
       "      <th>city</th>\n",
       "      <th>geometry</th>\n",
       "    </tr>\n",
       "  </thead>\n",
       "  <tbody>\n",
       "    <tr>\n",
       "      <th>0</th>\n",
       "      <td>8b499c530a73fff</td>\n",
       "      <td>11</td>\n",
       "      <td>2.221931</td>\n",
       "      <td>0.726644</td>\n",
       "      <td>2.189809</td>\n",
       "      <td>3.059383</td>\n",
       "      <td>1.530501</td>\n",
       "      <td>1.528881</td>\n",
       "      <td>0.007185</td>\n",
       "      <td>2.059825</td>\n",
       "      <td>2.018229</td>\n",
       "      <td>1.588849</td>\n",
       "      <td>2.056550</td>\n",
       "      <td>2.034394</td>\n",
       "      <td>2.218575</td>\n",
       "      <td>2.33864</td>\n",
       "      <td>3.252735</td>\n",
       "      <td>2.375550</td>\n",
       "      <td>Caracterizacion_aoi</td>\n",
       "      <td>POLYGON ((-99.18017 21.25293, -99.17999 21.253...</td>\n",
       "    </tr>\n",
       "    <tr>\n",
       "      <th>1</th>\n",
       "      <td>8b499c52252efff</td>\n",
       "      <td>11</td>\n",
       "      <td>2.580753</td>\n",
       "      <td>2.545718</td>\n",
       "      <td>2.036987</td>\n",
       "      <td>5.894784</td>\n",
       "      <td>1.210866</td>\n",
       "      <td>4.683919</td>\n",
       "      <td>0.001594</td>\n",
       "      <td>6.336378</td>\n",
       "      <td>1.978857</td>\n",
       "      <td>1.955152</td>\n",
       "      <td>1.843603</td>\n",
       "      <td>3.683700</td>\n",
       "      <td>1.842816</td>\n",
       "      <td>2.20559</td>\n",
       "      <td>2.580123</td>\n",
       "      <td>2.052431</td>\n",
       "      <td>Caracterizacion_aoi</td>\n",
       "      <td>POLYGON ((-99.20391 21.2538, -99.20373 21.2540...</td>\n",
       "    </tr>\n",
       "  </tbody>\n",
       "</table>\n",
       "</div>"
      ],
      "text/plain": [
       "            hex_id  res  evi_mean   evi_std  evi_median   evi_max   evi_min  \\\n",
       "0  8b499c530a73fff   11  2.221931  0.726644    2.189809  3.059383  1.530501   \n",
       "1  8b499c52252efff   11  2.580753  2.545718    2.036987  5.894784  1.210866   \n",
       "\n",
       "   evi_diff  evi_tend  evi_2016  evi_2017  evi_2018  evi_2019  evi_2020  \\\n",
       "0  1.528881  0.007185  2.059825  2.018229  1.588849  2.056550  2.034394   \n",
       "1  4.683919  0.001594  6.336378  1.978857  1.955152  1.843603  3.683700   \n",
       "\n",
       "   evi_2021  evi_2022  evi_2023  evi_2024                 city  \\\n",
       "0  2.218575   2.33864  3.252735  2.375550  Caracterizacion_aoi   \n",
       "1  1.842816   2.20559  2.580123  2.052431  Caracterizacion_aoi   \n",
       "\n",
       "                                            geometry  \n",
       "0  POLYGON ((-99.18017 21.25293, -99.17999 21.253...  \n",
       "1  POLYGON ((-99.20391 21.2538, -99.20373 21.2540...  "
      ]
     },
     "execution_count": 5,
     "metadata": {},
     "output_type": "execute_result"
    }
   ],
   "source": [
    "gdf_raster_analysis_res11_v1 = gpd.read_file(str(project_root)+'/data/processed/tmp_evi/local_save/Caracterizacion_aoi_evi_HexRes11_v1.geojson')\n",
    "\n",
    "# Show\n",
    "print(gdf_raster_analysis_res11_v1.shape)\n",
    "gdf_raster_analysis_res11_v1.head(2)"
   ]
  },
  {
   "cell_type": "code",
   "execution_count": 7,
   "id": "4f4c599d-72bb-4baf-be18-5a4ae6d2e5da",
   "metadata": {},
   "outputs": [
    {
     "name": "stdout",
     "output_type": "stream",
     "text": [
      "(75803, 20)\n"
     ]
    },
    {
     "data": {
      "text/html": [
       "<div>\n",
       "<style scoped>\n",
       "    .dataframe tbody tr th:only-of-type {\n",
       "        vertical-align: middle;\n",
       "    }\n",
       "\n",
       "    .dataframe tbody tr th {\n",
       "        vertical-align: top;\n",
       "    }\n",
       "\n",
       "    .dataframe thead th {\n",
       "        text-align: right;\n",
       "    }\n",
       "</style>\n",
       "<table border=\"1\" class=\"dataframe\">\n",
       "  <thead>\n",
       "    <tr style=\"text-align: right;\">\n",
       "      <th></th>\n",
       "      <th>hex_id</th>\n",
       "      <th>res</th>\n",
       "      <th>evi_mean</th>\n",
       "      <th>evi_std</th>\n",
       "      <th>evi_median</th>\n",
       "      <th>evi_max</th>\n",
       "      <th>evi_min</th>\n",
       "      <th>evi_diff</th>\n",
       "      <th>evi_tend</th>\n",
       "      <th>evi_2016</th>\n",
       "      <th>evi_2017</th>\n",
       "      <th>evi_2018</th>\n",
       "      <th>evi_2019</th>\n",
       "      <th>evi_2020</th>\n",
       "      <th>evi_2021</th>\n",
       "      <th>evi_2022</th>\n",
       "      <th>evi_2023</th>\n",
       "      <th>evi_2024</th>\n",
       "      <th>city</th>\n",
       "      <th>geometry</th>\n",
       "    </tr>\n",
       "  </thead>\n",
       "  <tbody>\n",
       "    <tr>\n",
       "      <th>0</th>\n",
       "      <td>8b499c124154fff</td>\n",
       "      <td>11</td>\n",
       "      <td>2.008673</td>\n",
       "      <td>0.711604</td>\n",
       "      <td>2.023071</td>\n",
       "      <td>2.667842</td>\n",
       "      <td>1.066745</td>\n",
       "      <td>1.601098</td>\n",
       "      <td>0.010083</td>\n",
       "      <td>1.991480</td>\n",
       "      <td>1.311870</td>\n",
       "      <td>1.908159</td>\n",
       "      <td>1.518248</td>\n",
       "      <td>1.824319</td>\n",
       "      <td>1.799812</td>\n",
       "      <td>2.346599</td>\n",
       "      <td>2.871015</td>\n",
       "      <td>2.500825</td>\n",
       "      <td>Caracterizacion_aoi</td>\n",
       "      <td>POLYGON ((-99.70839 21.18812, -99.70822 21.188...</td>\n",
       "    </tr>\n",
       "    <tr>\n",
       "      <th>1</th>\n",
       "      <td>8b499c89c319fff</td>\n",
       "      <td>11</td>\n",
       "      <td>1.873376</td>\n",
       "      <td>9.018293</td>\n",
       "      <td>2.358676</td>\n",
       "      <td>11.553325</td>\n",
       "      <td>-2.734888</td>\n",
       "      <td>14.288213</td>\n",
       "      <td>0.017003</td>\n",
       "      <td>2.086347</td>\n",
       "      <td>-9.747417</td>\n",
       "      <td>1.977546</td>\n",
       "      <td>2.326254</td>\n",
       "      <td>2.174632</td>\n",
       "      <td>2.153949</td>\n",
       "      <td>3.218196</td>\n",
       "      <td>9.177348</td>\n",
       "      <td>3.564518</td>\n",
       "      <td>Caracterizacion_aoi</td>\n",
       "      <td>POLYGON ((-99.67447 21.14344, -99.67429 21.143...</td>\n",
       "    </tr>\n",
       "  </tbody>\n",
       "</table>\n",
       "</div>"
      ],
      "text/plain": [
       "            hex_id  res  evi_mean   evi_std  evi_median    evi_max   evi_min  \\\n",
       "0  8b499c124154fff   11  2.008673  0.711604    2.023071   2.667842  1.066745   \n",
       "1  8b499c89c319fff   11  1.873376  9.018293    2.358676  11.553325 -2.734888   \n",
       "\n",
       "    evi_diff  evi_tend  evi_2016  evi_2017  evi_2018  evi_2019  evi_2020  \\\n",
       "0   1.601098  0.010083  1.991480  1.311870  1.908159  1.518248  1.824319   \n",
       "1  14.288213  0.017003  2.086347 -9.747417  1.977546  2.326254  2.174632   \n",
       "\n",
       "   evi_2021  evi_2022  evi_2023  evi_2024                 city  \\\n",
       "0  1.799812  2.346599  2.871015  2.500825  Caracterizacion_aoi   \n",
       "1  2.153949  3.218196  9.177348  3.564518  Caracterizacion_aoi   \n",
       "\n",
       "                                            geometry  \n",
       "0  POLYGON ((-99.70839 21.18812, -99.70822 21.188...  \n",
       "1  POLYGON ((-99.67447 21.14344, -99.67429 21.143...  "
      ]
     },
     "execution_count": 7,
     "metadata": {},
     "output_type": "execute_result"
    }
   ],
   "source": [
    "gdf_raster_analysis_res11 = pd.concat([gdf_raster_analysis_res11_v0,gdf_raster_analysis_res11_v1])\n",
    "\n",
    "# Show\n",
    "print(gdf_raster_analysis_res11.shape)\n",
    "gdf_raster_analysis_res11.head(2)"
   ]
  },
  {
   "cell_type": "code",
   "execution_count": 8,
   "id": "36076cf7-5828-4788-a90b-8696db96dd80",
   "metadata": {},
   "outputs": [],
   "source": [
    "gdf_raster_analysis_res11.to_file(str(project_root)+'/data/processed/tmp_evi/local_save/gdf_raster_analysis_res11.gpkg')"
   ]
  },
  {
   "cell_type": "code",
   "execution_count": null,
   "id": "c29938c9-d616-4d42-bd6a-eb05ff11ced1",
   "metadata": {},
   "outputs": [],
   "source": []
  }
 ],
 "metadata": {
  "kernelspec": {
   "display_name": "Python 3 (ipykernel)",
   "language": "python",
   "name": "python3"
  },
  "language_info": {
   "codemirror_mode": {
    "name": "ipython",
    "version": 3
   },
   "file_extension": ".py",
   "mimetype": "text/x-python",
   "name": "python",
   "nbconvert_exporter": "python",
   "pygments_lexer": "ipython3",
   "version": "3.12.3"
  }
 },
 "nbformat": 4,
 "nbformat_minor": 5
}
