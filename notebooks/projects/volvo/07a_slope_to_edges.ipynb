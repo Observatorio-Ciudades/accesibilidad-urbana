{
 "cells": [
  {
   "cell_type": "markdown",
   "id": "fdec284a-254c-4727-a47f-bb566d31a002",
   "metadata": {},
   "source": [
    "# 07a_slope_to_edges (Guadalajara only)"
   ]
  },
  {
   "cell_type": "markdown",
   "id": "179ed20a-b109-4072-8d3e-7997d84779b0",
   "metadata": {},
   "source": [
    "## Import libraries"
   ]
  },
  {
   "cell_type": "code",
   "execution_count": 1,
   "id": "ec0c7aa8-eb33-4bb4-acdf-72c86e3076d3",
   "metadata": {},
   "outputs": [],
   "source": [
    "first_folder_path = '../../../'"
   ]
  },
  {
   "cell_type": "code",
   "execution_count": 2,
   "id": "96fc1d01-b5a1-4ffc-9a71-f26d3f4152e9",
   "metadata": {},
   "outputs": [],
   "source": [
    "import warnings\n",
    "warnings.filterwarnings('ignore')\n",
    "import geopandas as gpd\n",
    "from geopandas.tools import overlay\n",
    "import matplotlib.pyplot as plt\n",
    "\n",
    "import pandas as pd\n",
    "import numpy as np\n",
    "import osmnx as ox\n",
    "import rasterio\n",
    "from rasterio.plot import show\n",
    "\n",
    "import os\n",
    "import sys\n",
    "module_path = os.path.abspath(os.path.join(first_folder_path))\n",
    "if module_path not in sys.path:\n",
    "    sys.path.append(module_path)\n",
    "    import aup\n",
    "else:\n",
    "    import aup"
   ]
  },
  {
   "cell_type": "markdown",
   "id": "792ccbb2-0950-4b3f-aed9-394b5e040f4a",
   "metadata": {},
   "source": [
    "## Notebook config"
   ]
  },
  {
   "cell_type": "code",
   "execution_count": 3,
   "id": "b554bdb2-e1cb-4bf5-be21-9d1accc88e3d",
   "metadata": {},
   "outputs": [],
   "source": [
    "# ----- ----- ----- Projection to be used when needed ----- ----- -----\n",
    "projected_crs = \"EPSG:32613\"\n",
    "\n",
    "# Location of unzipped MDE data by state obtained from https://www.inegi.org.mx/app/geo2/elevacionesmex/\n",
    "grl_path = first_folder_path + 'data/external/MDE/'"
   ]
  },
  {
   "cell_type": "markdown",
   "id": "abb89725-eaec-48b7-ac48-80b730721449",
   "metadata": {},
   "source": [
    "## Load data"
   ]
  },
  {
   "cell_type": "markdown",
   "id": "3095c67d-32ec-4e69-9d75-3576afff3e13",
   "metadata": {},
   "source": [
    "### __Load data__ - Nodes and edges"
   ]
  },
  {
   "cell_type": "code",
   "execution_count": null,
   "id": "e4915a39-c5b2-4314-a5e2-9d9d9fc0bfc3",
   "metadata": {},
   "outputs": [],
   "source": [
    "# Read file\n",
    "nodes = gpd.read_file(first_folder_path + \"data/processed/volvo/project_network_initial_guadalajara/guadalajara_nodes_proj_net_rebuilt.gpkg\")\n",
    "# Filter for data of interest\n",
    "nodes = nodes[['osmid','x','y','street_count','geometry']]\n",
    "# Turn to EPSG:4326\n",
    "nodes = nodes.to_crs(\"EPSG:4326\")\n",
    "# Add x and y data\n",
    "nodes['x'] = nodes['geometry'].x\n",
    "nodes['y'] = nodes['geometry'].y\n",
    "\n",
    "# Show\n",
    "print(nodes.crs)\n",
    "print(nodes.shape)\n",
    "nodes.head(2)"
   ]
  },
  {
   "cell_type": "code",
   "execution_count": null,
   "id": "35919083-390b-4098-b7f0-75d07568265f",
   "metadata": {},
   "outputs": [],
   "source": [
    "# Read file\n",
    "edges = gpd.read_file(first_folder_path + \"data/processed/volvo/project_network_initial_guadalajara/guadalajara_edges_proj_net_rebuilt.gpkg\")\n",
    "# Filter for data of interest\n",
    "edges = edges[['u','v','key','geometry']]\n",
    "# Add length data\n",
    "if edges.crs != projected_crs:\n",
    "    edges = edges.to_crs(projected_crs)\n",
    "    print(f\"Changed crs to {projected_crs}.\")\n",
    "edges['length'] = edges.length\n",
    "# Turn to EPSG:4326\n",
    "edges = edges.to_crs(\"EPSG:4326\")\n",
    "\n",
    "# Show\n",
    "print(edges.crs)\n",
    "print(edges.shape)\n",
    "edges.head(2)"
   ]
  },
  {
   "cell_type": "markdown",
   "id": "05dfedf9-9b8b-40e0-8367-a2c769ffe8a0",
   "metadata": {},
   "source": [
    "### __Load data__ - Load and show DEM raster"
   ]
  },
  {
   "cell_type": "code",
   "execution_count": null,
   "id": "89de38fa-7549-4bb0-bcaa-22e9875be8dd",
   "metadata": {},
   "outputs": [],
   "source": [
    "mde_path = first_folder_path + \"data/processed/volvo/slope_to_edges_gdl/guadalajaramunsbuffer_r15m_4326.tif\"\n",
    "\n",
    "fig,ax = plt.subplots(1,1)\n",
    "\n",
    "# Nodes\n",
    "print(f\"Nodes crs: {nodes.crs}.\")\n",
    "nodes.plot(ax=ax,zorder=1,color='black',markersize=1)\n",
    "print(f\"Edges crs: {nodes.crs}.\")\n",
    "edges.plot(ax=ax,zorder=0,color='lightgrey',linewidth=1)\n",
    "\n",
    "with rasterio.open(mde_path) as mde:\n",
    "    print(f\"Raster crs: {mde.crs}.\")\n",
    "    show(mde,cmap='Reds',ax=ax)"
   ]
  },
  {
   "cell_type": "markdown",
   "id": "1059c3a1-accf-4c16-9f61-7fe72bdc08f7",
   "metadata": {},
   "source": [
    "## Create G from nodes and edges"
   ]
  },
  {
   "cell_type": "code",
   "execution_count": null,
   "id": "bbb9aaf5-cfdb-4954-bce7-f074f92ab41e",
   "metadata": {},
   "outputs": [],
   "source": [
    "# Prepare nodes and edges\n",
    "if 'osmid' in nodes.columns:\n",
    "    print(f\"Nodes before dropping dups: {len(nodes)}.\")\n",
    "    nodes.drop_duplicates(subset='osmid',inplace=True)\n",
    "    print(f\"Nodes after dropping dups: {len(nodes)}.\")\n",
    "    nodes.set_index('osmid',inplace=True)\n",
    "\n",
    "if 'u' in edges.columns:\n",
    "    print(f\"Edges before dropping dups: {len(edges)}.\")\n",
    "    edges.drop_duplicates(subset=['u','v','key'],inplace=True)\n",
    "    print(f\"Edges after dropping dups: {len(edges)}.\")\n",
    "    edges.set_index(['u','v','key'],inplace=True)\n",
    "\n",
    "# Create graph\n",
    "G = ox.convert.graph_from_gdfs(nodes, edges)\n",
    "G"
   ]
  },
  {
   "cell_type": "code",
   "execution_count": null,
   "id": "e32e85fb-9ad9-4ca7-8fa5-65179ada4f83",
   "metadata": {},
   "outputs": [],
   "source": [
    "nodes.head(2)"
   ]
  },
  {
   "cell_type": "code",
   "execution_count": null,
   "id": "6d49fbf2-9059-4461-8d36-bd6f8aa34912",
   "metadata": {},
   "outputs": [],
   "source": [
    "edges.head(2)"
   ]
  },
  {
   "cell_type": "markdown",
   "id": "e2ee4844-30b6-4a5f-89ec-a649e091f931",
   "metadata": {},
   "source": [
    "## Add slope to nodes and edges"
   ]
  },
  {
   "cell_type": "code",
   "execution_count": null,
   "id": "e1a10f04-82e6-463a-8638-383b7780ce9b",
   "metadata": {},
   "outputs": [],
   "source": [
    "mde_path"
   ]
  },
  {
   "cell_type": "code",
   "execution_count": null,
   "id": "bf95579f-df0c-4673-b823-c57043bcf85b",
   "metadata": {},
   "outputs": [],
   "source": [
    "#elevations to nodes\n",
    "G_elev_mde = ox.elevation.add_node_elevations_raster(G, mde_path,band=1)\n",
    "assert not np.isnan(np.array(G_elev_mde.nodes(data=\"elevation\"))[:, 1]).any()"
   ]
  },
  {
   "cell_type": "code",
   "execution_count": null,
   "id": "f1167040-552a-4c1f-9943-9a0ca78586d3",
   "metadata": {},
   "outputs": [],
   "source": [
    "nodes_df = ox.graph_to_gdfs(G_elev_mde, nodes=True, edges=False)\n",
    "\n",
    "print(f\"Nodes: {len(nodes_df)}.\")\n",
    "print(f\"Nodes without elevation data: {nodes_df[['elevation']].isna().sum()[0]}.\")"
   ]
  },
  {
   "cell_type": "code",
   "execution_count": null,
   "id": "57ef8dda-4199-48ac-a4d1-050416688900",
   "metadata": {},
   "outputs": [],
   "source": [
    "# Sloped length to edges\n",
    "G_elev_mde = ox.distance.add_edge_lengths(G_elev_mde)\n",
    "# Slope to edges\n",
    "G_elev_mde = ox.elevation.add_edge_grades(G_elev_mde, add_absolute=True, precision=3)\n",
    "# G to nodes and edges\n",
    "nodes_elev_mde, edges_elev_mde = ox.graph_to_gdfs(G_elev_mde, nodes=True, edges=True)\n",
    "\n",
    "# LOG CODE - Print progress of script so far\n",
    "mean_elev = round(nodes_elev_mde.elevation.mean(),2)\n",
    "mean_slope = round(edges_elev_mde.grade_abs.mean(),2)\n",
    "print(f\"--- Assigned a mean elevation of {mean_elev} to nodes\")\n",
    "print(f\"    and mean slope of {mean_slope} to edges.\")\n",
    "\n",
    "# reset index for upload\n",
    "nodes_elev_mde.reset_index(inplace=True)\n",
    "edges_elev_mde.reset_index(inplace=True)\n",
    "\n",
    "#set street_count as float\n",
    "nodes_elev_mde[\"street_count\"] = nodes_elev_mde[\"street_count\"].astype(float)\n",
    "\n",
    "# Show\n",
    "print(nodes_elev_mde.shape)\n",
    "nodes_elev_mde.head(2)"
   ]
  },
  {
   "cell_type": "code",
   "execution_count": null,
   "id": "811bde1a-7aab-45bd-85a6-ee5ad6be5f15",
   "metadata": {},
   "outputs": [],
   "source": [
    "# Show\n",
    "print(edges_elev_mde.shape)\n",
    "edges_elev_mde.head(2)"
   ]
  },
  {
   "cell_type": "code",
   "execution_count": null,
   "id": "4955b737-0c23-4b69-925e-97b8a4a90e1d",
   "metadata": {},
   "outputs": [],
   "source": []
  }
 ],
 "metadata": {
  "kernelspec": {
   "display_name": "GDS-10.0",
   "language": "python",
   "name": "gds"
  },
  "language_info": {
   "codemirror_mode": {
    "name": "ipython",
    "version": 3
   },
   "file_extension": ".py",
   "mimetype": "text/x-python",
   "name": "python",
   "nbconvert_exporter": "python",
   "pygments_lexer": "ipython3",
   "version": "3.9.18"
  }
 },
 "nbformat": 4,
 "nbformat_minor": 5
}
