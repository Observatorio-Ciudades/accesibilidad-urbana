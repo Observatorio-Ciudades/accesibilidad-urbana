{
 "cells": [
  {
   "cell_type": "markdown",
   "id": "fdec284a-254c-4727-a47f-bb566d31a002",
   "metadata": {},
   "source": [
    "# 07a_slope_to_edges (Guadalajara only)"
   ]
  },
  {
   "cell_type": "markdown",
   "id": "2511cf06-b442-41b9-bffc-a58ad36b5a61",
   "metadata": {},
   "source": [
    "This notebook __adds slope (grade_abs) to the edges__ by using a DEM raster."
   ]
  },
  {
   "cell_type": "markdown",
   "id": "179ed20a-b109-4072-8d3e-7997d84779b0",
   "metadata": {},
   "source": [
    "## Import libraries"
   ]
  },
  {
   "cell_type": "code",
   "execution_count": 1,
   "id": "ec0c7aa8-eb33-4bb4-acdf-72c86e3076d3",
   "metadata": {},
   "outputs": [],
   "source": [
    "first_folder_path = '../../../'"
   ]
  },
  {
   "cell_type": "code",
   "execution_count": 2,
   "id": "96fc1d01-b5a1-4ffc-9a71-f26d3f4152e9",
   "metadata": {},
   "outputs": [],
   "source": [
    "import warnings\n",
    "warnings.filterwarnings('ignore')\n",
    "import geopandas as gpd\n",
    "from geopandas.tools import overlay\n",
    "import matplotlib.pyplot as plt\n",
    "\n",
    "import pandas as pd\n",
    "import numpy as np\n",
    "import osmnx as ox\n",
    "import rasterio\n",
    "from rasterio.plot import show\n",
    "\n",
    "import os\n",
    "import sys\n",
    "module_path = os.path.abspath(os.path.join(first_folder_path))\n",
    "if module_path not in sys.path:\n",
    "    sys.path.append(module_path)\n",
    "    import aup\n",
    "else:\n",
    "    import aup"
   ]
  },
  {
   "cell_type": "markdown",
   "id": "792ccbb2-0950-4b3f-aed9-394b5e040f4a",
   "metadata": {},
   "source": [
    "## Notebook config"
   ]
  },
  {
   "cell_type": "code",
   "execution_count": 19,
   "id": "b554bdb2-e1cb-4bf5-be21-9d1accc88e3d",
   "metadata": {},
   "outputs": [],
   "source": [
    "# ----- ----- ----- Projection to be used when needed ----- ----- -----\n",
    "projected_crs = \"EPSG:32613\"\n",
    "\n",
    "# ----- ----- ----- Save output locally?\n",
    "local_save = False"
   ]
  },
  {
   "cell_type": "markdown",
   "id": "abb89725-eaec-48b7-ac48-80b730721449",
   "metadata": {},
   "source": [
    "## Load data"
   ]
  },
  {
   "cell_type": "markdown",
   "id": "3095c67d-32ec-4e69-9d75-3576afff3e13",
   "metadata": {},
   "source": [
    "### __Load data__ - Nodes and edges"
   ]
  },
  {
   "cell_type": "code",
   "execution_count": 4,
   "id": "e4915a39-c5b2-4314-a5e2-9d9d9fc0bfc3",
   "metadata": {},
   "outputs": [
    {
     "name": "stdout",
     "output_type": "stream",
     "text": [
      "EPSG:4326\n",
      "(124621, 5)\n"
     ]
    },
    {
     "data": {
      "text/html": [
       "<div>\n",
       "<style scoped>\n",
       "    .dataframe tbody tr th:only-of-type {\n",
       "        vertical-align: middle;\n",
       "    }\n",
       "\n",
       "    .dataframe tbody tr th {\n",
       "        vertical-align: top;\n",
       "    }\n",
       "\n",
       "    .dataframe thead th {\n",
       "        text-align: right;\n",
       "    }\n",
       "</style>\n",
       "<table border=\"1\" class=\"dataframe\">\n",
       "  <thead>\n",
       "    <tr style=\"text-align: right;\">\n",
       "      <th></th>\n",
       "      <th>osmid</th>\n",
       "      <th>x</th>\n",
       "      <th>y</th>\n",
       "      <th>street_count</th>\n",
       "      <th>geometry</th>\n",
       "    </tr>\n",
       "  </thead>\n",
       "  <tbody>\n",
       "    <tr>\n",
       "      <th>0</th>\n",
       "      <td>67637870229114485</td>\n",
       "      <td>-103.306309</td>\n",
       "      <td>20.711533</td>\n",
       "      <td>3</td>\n",
       "      <td>POINT (-103.30631 20.71153)</td>\n",
       "    </tr>\n",
       "    <tr>\n",
       "      <th>1</th>\n",
       "      <td>67640019229114922</td>\n",
       "      <td>-103.306102</td>\n",
       "      <td>20.711570</td>\n",
       "      <td>3</td>\n",
       "      <td>POINT (-103.30610 20.71157)</td>\n",
       "    </tr>\n",
       "  </tbody>\n",
       "</table>\n",
       "</div>"
      ],
      "text/plain": [
       "               osmid           x          y  street_count   \n",
       "0  67637870229114485 -103.306309  20.711533             3  \\\n",
       "1  67640019229114922 -103.306102  20.711570             3   \n",
       "\n",
       "                      geometry  \n",
       "0  POINT (-103.30631 20.71153)  \n",
       "1  POINT (-103.30610 20.71157)  "
      ]
     },
     "execution_count": 4,
     "metadata": {},
     "output_type": "execute_result"
    }
   ],
   "source": [
    "# Read file\n",
    "nodes = gpd.read_file(first_folder_path + \"data/processed/volvo/project_network_initial_guadalajara/guadalajara_nodes_proj_net_rebuilt.gpkg\")\n",
    "# Filter for data of interest\n",
    "nodes = nodes[['osmid','x','y','street_count','geometry']]\n",
    "# Turn to EPSG:4326\n",
    "nodes = nodes.to_crs(\"EPSG:4326\")\n",
    "# Add x and y data\n",
    "nodes['x'] = nodes['geometry'].x\n",
    "nodes['y'] = nodes['geometry'].y\n",
    "\n",
    "# Show\n",
    "print(nodes.crs)\n",
    "print(nodes.shape)\n",
    "nodes.head(2)"
   ]
  },
  {
   "cell_type": "code",
   "execution_count": 5,
   "id": "35919083-390b-4098-b7f0-75d07568265f",
   "metadata": {},
   "outputs": [
    {
     "name": "stdout",
     "output_type": "stream",
     "text": [
      "EPSG:4326\n",
      "(197439, 5)\n"
     ]
    },
    {
     "data": {
      "text/html": [
       "<div>\n",
       "<style scoped>\n",
       "    .dataframe tbody tr th:only-of-type {\n",
       "        vertical-align: middle;\n",
       "    }\n",
       "\n",
       "    .dataframe tbody tr th {\n",
       "        vertical-align: top;\n",
       "    }\n",
       "\n",
       "    .dataframe thead th {\n",
       "        text-align: right;\n",
       "    }\n",
       "</style>\n",
       "<table border=\"1\" class=\"dataframe\">\n",
       "  <thead>\n",
       "    <tr style=\"text-align: right;\">\n",
       "      <th></th>\n",
       "      <th>u</th>\n",
       "      <th>v</th>\n",
       "      <th>key</th>\n",
       "      <th>geometry</th>\n",
       "      <th>length</th>\n",
       "    </tr>\n",
       "  </thead>\n",
       "  <tbody>\n",
       "    <tr>\n",
       "      <th>0</th>\n",
       "      <td>67637870229114485</td>\n",
       "      <td>67640019229114922</td>\n",
       "      <td>0</td>\n",
       "      <td>MULTILINESTRING ((-103.30631 20.71153, -103.30...</td>\n",
       "      <td>22.844750</td>\n",
       "    </tr>\n",
       "    <tr>\n",
       "      <th>1</th>\n",
       "      <td>67640019229114922</td>\n",
       "      <td>67640526229117504</td>\n",
       "      <td>0</td>\n",
       "      <td>MULTILINESTRING ((-103.30610 20.71157, -103.30...</td>\n",
       "      <td>28.156418</td>\n",
       "    </tr>\n",
       "  </tbody>\n",
       "</table>\n",
       "</div>"
      ],
      "text/plain": [
       "                   u                  v  key   \n",
       "0  67637870229114485  67640019229114922    0  \\\n",
       "1  67640019229114922  67640526229117504    0   \n",
       "\n",
       "                                            geometry     length  \n",
       "0  MULTILINESTRING ((-103.30631 20.71153, -103.30...  22.844750  \n",
       "1  MULTILINESTRING ((-103.30610 20.71157, -103.30...  28.156418  "
      ]
     },
     "execution_count": 5,
     "metadata": {},
     "output_type": "execute_result"
    }
   ],
   "source": [
    "# Read file\n",
    "edges = gpd.read_file(first_folder_path + \"data/processed/volvo/project_network_initial_guadalajara/guadalajara_edges_proj_net_rebuilt.gpkg\")\n",
    "# Filter for data of interest\n",
    "edges = edges[['u','v','key','geometry']]\n",
    "# Add length data\n",
    "if edges.crs != projected_crs:\n",
    "    edges = edges.to_crs(projected_crs)\n",
    "    print(f\"Changed crs to {projected_crs}.\")\n",
    "edges['length'] = edges.length\n",
    "# Turn to EPSG:4326\n",
    "edges = edges.to_crs(\"EPSG:4326\")\n",
    "\n",
    "# Show\n",
    "print(edges.crs)\n",
    "print(edges.shape)\n",
    "edges.head(2)"
   ]
  },
  {
   "cell_type": "markdown",
   "id": "05dfedf9-9b8b-40e0-8367-a2c769ffe8a0",
   "metadata": {},
   "source": [
    "### __Load data__ - Load and show DEM raster"
   ]
  },
  {
   "cell_type": "code",
   "execution_count": 6,
   "id": "89de38fa-7549-4bb0-bcaa-22e9875be8dd",
   "metadata": {},
   "outputs": [
    {
     "name": "stdout",
     "output_type": "stream",
     "text": [
      "Nodes crs: EPSG:4326.\n",
      "Edges crs: EPSG:4326.\n",
      "Raster crs: EPSG:4326.\n"
     ]
    },
    {
     "data": {
      "image/png": "[encoded data removed]",
      "text/plain": [
       "<Figure size 640x480 with 1 Axes>"
      ]
     },
     "metadata": {},
     "output_type": "display_data"
    }
   ],
   "source": [
    "mde_path = first_folder_path + \"data/processed/volvo/slope_to_edges_gdl/guadalajaramunsbuffer_r15m_4326.tif\"\n",
    "\n",
    "fig,ax = plt.subplots(1,1)\n",
    "\n",
    "# Nodes\n",
    "print(f\"Nodes crs: {nodes.crs}.\")\n",
    "nodes.plot(ax=ax,zorder=1,color='black',markersize=1)\n",
    "print(f\"Edges crs: {nodes.crs}.\")\n",
    "edges.plot(ax=ax,zorder=0,color='lightgrey',linewidth=1)\n",
    "\n",
    "with rasterio.open(mde_path) as mde:\n",
    "    print(f\"Raster crs: {mde.crs}.\")\n",
    "    show(mde,cmap='Reds',ax=ax)"
   ]
  },
  {
   "cell_type": "markdown",
   "id": "1059c3a1-accf-4c16-9f61-7fe72bdc08f7",
   "metadata": {},
   "source": [
    "## Create G from nodes and edges"
   ]
  },
  {
   "cell_type": "code",
   "execution_count": 7,
   "id": "bbb9aaf5-cfdb-4954-bce7-f074f92ab41e",
   "metadata": {},
   "outputs": [
    {
     "name": "stdout",
     "output_type": "stream",
     "text": [
      "Nodes before dropping dups: 124621.\n",
      "Nodes after dropping dups: 124621.\n",
      "Edges before dropping dups: 197439.\n",
      "Edges after dropping dups: 197439.\n"
     ]
    },
    {
     "data": {
      "text/plain": [
       "<networkx.classes.multidigraph.MultiDiGraph at 0x7fdf409098e0>"
      ]
     },
     "execution_count": 7,
     "metadata": {},
     "output_type": "execute_result"
    }
   ],
   "source": [
    "# Prepare nodes and edges\n",
    "if 'osmid' in nodes.columns:\n",
    "    print(f\"Nodes before dropping dups: {len(nodes)}.\")\n",
    "    nodes.drop_duplicates(subset='osmid',inplace=True)\n",
    "    print(f\"Nodes after dropping dups: {len(nodes)}.\")\n",
    "    nodes.set_index('osmid',inplace=True)\n",
    "\n",
    "if 'u' in edges.columns:\n",
    "    print(f\"Edges before dropping dups: {len(edges)}.\")\n",
    "    edges.drop_duplicates(subset=['u','v','key'],inplace=True)\n",
    "    print(f\"Edges after dropping dups: {len(edges)}.\")\n",
    "    edges.set_index(['u','v','key'],inplace=True)\n",
    "\n",
    "# Create graph\n",
    "G = ox.convert.graph_from_gdfs(nodes, edges)\n",
    "G"
   ]
  },
  {
   "cell_type": "code",
   "execution_count": 8,
   "id": "e32e85fb-9ad9-4ca7-8fa5-65179ada4f83",
   "metadata": {},
   "outputs": [
    {
     "data": {
      "text/html": [
       "<div>\n",
       "<style scoped>\n",
       "    .dataframe tbody tr th:only-of-type {\n",
       "        vertical-align: middle;\n",
       "    }\n",
       "\n",
       "    .dataframe tbody tr th {\n",
       "        vertical-align: top;\n",
       "    }\n",
       "\n",
       "    .dataframe thead th {\n",
       "        text-align: right;\n",
       "    }\n",
       "</style>\n",
       "<table border=\"1\" class=\"dataframe\">\n",
       "  <thead>\n",
       "    <tr style=\"text-align: right;\">\n",
       "      <th></th>\n",
       "      <th>x</th>\n",
       "      <th>y</th>\n",
       "      <th>street_count</th>\n",
       "      <th>geometry</th>\n",
       "    </tr>\n",
       "    <tr>\n",
       "      <th>osmid</th>\n",
       "      <th></th>\n",
       "      <th></th>\n",
       "      <th></th>\n",
       "      <th></th>\n",
       "    </tr>\n",
       "  </thead>\n",
       "  <tbody>\n",
       "    <tr>\n",
       "      <th>67637870229114485</th>\n",
       "      <td>-103.306309</td>\n",
       "      <td>20.711533</td>\n",
       "      <td>3</td>\n",
       "      <td>POINT (-103.30631 20.71153)</td>\n",
       "    </tr>\n",
       "    <tr>\n",
       "      <th>67640019229114922</th>\n",
       "      <td>-103.306102</td>\n",
       "      <td>20.711570</td>\n",
       "      <td>3</td>\n",
       "      <td>POINT (-103.30610 20.71157)</td>\n",
       "    </tr>\n",
       "  </tbody>\n",
       "</table>\n",
       "</div>"
      ],
      "text/plain": [
       "                            x          y  street_count   \n",
       "osmid                                                    \n",
       "67637870229114485 -103.306309  20.711533             3  \\\n",
       "67640019229114922 -103.306102  20.711570             3   \n",
       "\n",
       "                                      geometry  \n",
       "osmid                                           \n",
       "67637870229114485  POINT (-103.30631 20.71153)  \n",
       "67640019229114922  POINT (-103.30610 20.71157)  "
      ]
     },
     "execution_count": 8,
     "metadata": {},
     "output_type": "execute_result"
    }
   ],
   "source": [
    "nodes.head(2)"
   ]
  },
  {
   "cell_type": "code",
   "execution_count": 9,
   "id": "6d49fbf2-9059-4461-8d36-bd6f8aa34912",
   "metadata": {},
   "outputs": [
    {
     "data": {
      "text/html": [
       "<div>\n",
       "<style scoped>\n",
       "    .dataframe tbody tr th:only-of-type {\n",
       "        vertical-align: middle;\n",
       "    }\n",
       "\n",
       "    .dataframe tbody tr th {\n",
       "        vertical-align: top;\n",
       "    }\n",
       "\n",
       "    .dataframe thead th {\n",
       "        text-align: right;\n",
       "    }\n",
       "</style>\n",
       "<table border=\"1\" class=\"dataframe\">\n",
       "  <thead>\n",
       "    <tr style=\"text-align: right;\">\n",
       "      <th></th>\n",
       "      <th></th>\n",
       "      <th></th>\n",
       "      <th>geometry</th>\n",
       "      <th>length</th>\n",
       "    </tr>\n",
       "    <tr>\n",
       "      <th>u</th>\n",
       "      <th>v</th>\n",
       "      <th>key</th>\n",
       "      <th></th>\n",
       "      <th></th>\n",
       "    </tr>\n",
       "  </thead>\n",
       "  <tbody>\n",
       "    <tr>\n",
       "      <th>67637870229114485</th>\n",
       "      <th>67640019229114922</th>\n",
       "      <th>0</th>\n",
       "      <td>MULTILINESTRING ((-103.30631 20.71153, -103.30...</td>\n",
       "      <td>22.844750</td>\n",
       "    </tr>\n",
       "    <tr>\n",
       "      <th>67640019229114922</th>\n",
       "      <th>67640526229117504</th>\n",
       "      <th>0</th>\n",
       "      <td>MULTILINESTRING ((-103.30610 20.71157, -103.30...</td>\n",
       "      <td>28.156418</td>\n",
       "    </tr>\n",
       "  </tbody>\n",
       "</table>\n",
       "</div>"
      ],
      "text/plain": [
       "                                                                                  geometry   \n",
       "u                 v                 key                                                      \n",
       "67637870229114485 67640019229114922 0    MULTILINESTRING ((-103.30631 20.71153, -103.30...  \\\n",
       "67640019229114922 67640526229117504 0    MULTILINESTRING ((-103.30610 20.71157, -103.30...   \n",
       "\n",
       "                                            length  \n",
       "u                 v                 key             \n",
       "67637870229114485 67640019229114922 0    22.844750  \n",
       "67640019229114922 67640526229117504 0    28.156418  "
      ]
     },
     "execution_count": 9,
     "metadata": {},
     "output_type": "execute_result"
    }
   ],
   "source": [
    "edges.head(2)"
   ]
  },
  {
   "cell_type": "markdown",
   "id": "e2ee4844-30b6-4a5f-89ec-a649e091f931",
   "metadata": {},
   "source": [
    "## Add slope to nodes and edges"
   ]
  },
  {
   "cell_type": "code",
   "execution_count": 10,
   "id": "e1a10f04-82e6-463a-8638-383b7780ce9b",
   "metadata": {},
   "outputs": [
    {
     "data": {
      "text/plain": [
       "'../../../data/processed/volvo/slope_to_edges_gdl/guadalajaramunsbuffer_r15m_4326.tif'"
      ]
     },
     "execution_count": 10,
     "metadata": {},
     "output_type": "execute_result"
    }
   ],
   "source": [
    "mde_path"
   ]
  },
  {
   "cell_type": "code",
   "execution_count": 11,
   "id": "bf95579f-df0c-4673-b823-c57043bcf85b",
   "metadata": {},
   "outputs": [],
   "source": [
    "#elevations to nodes\n",
    "G_elev_mde = ox.elevation.add_node_elevations_raster(G, mde_path,band=1)\n",
    "assert not np.isnan(np.array(G_elev_mde.nodes(data=\"elevation\"))[:, 1]).any()"
   ]
  },
  {
   "cell_type": "code",
   "execution_count": 12,
   "id": "f1167040-552a-4c1f-9943-9a0ca78586d3",
   "metadata": {},
   "outputs": [
    {
     "name": "stdout",
     "output_type": "stream",
     "text": [
      "Nodes: 124621.\n",
      "Nodes without elevation data: 0.\n"
     ]
    }
   ],
   "source": [
    "nodes_df = ox.graph_to_gdfs(G_elev_mde, nodes=True, edges=False)\n",
    "\n",
    "print(f\"Nodes: {len(nodes_df)}.\")\n",
    "print(f\"Nodes without elevation data: {nodes_df[['elevation']].isna().sum()[0]}.\")"
   ]
  },
  {
   "cell_type": "code",
   "execution_count": 13,
   "id": "57ef8dda-4199-48ac-a4d1-050416688900",
   "metadata": {},
   "outputs": [
    {
     "name": "stdout",
     "output_type": "stream",
     "text": [
      "Edges without length data: 0.\n",
      "Edges without grade data: 336.\n",
      "Edges without grade_abs data: 336.\n",
      "Assigned a mean elevation of 1572.03 to nodes and mean slope of 0.03 to edges.\n"
     ]
    }
   ],
   "source": [
    "# Sloped length to edges\n",
    "G_elev_mde = ox.distance.add_edge_lengths(G_elev_mde)\n",
    "edges_df = ox.graph_to_gdfs(G_elev_mde, nodes=False, edges=True)\n",
    "print(f\"Edges without length data: {edges_df[['length']].isna().sum()[0]}.\")\n",
    "\n",
    "# Slope to edges\n",
    "G_elev_mde = ox.elevation.add_edge_grades(G_elev_mde, add_absolute=True)\n",
    "edges_df = ox.graph_to_gdfs(G_elev_mde, nodes=False, edges=True)\n",
    "print(f\"Edges without grade data: {edges_df[['grade']].isna().sum()[0]}.\")\n",
    "print(f\"Edges without grade_abs data: {edges_df[['grade_abs']].isna().sum()[0]}.\")\n",
    "\n",
    "# G to nodes and edges\n",
    "nodes_elev_mde, edges_elev_mde = ox.graph_to_gdfs(G_elev_mde, nodes=True, edges=True)\n",
    "\n",
    "# LOG CODE - Print progress of script so far\n",
    "mean_elev = round(nodes_elev_mde.elevation.mean(),2)\n",
    "mean_slope = round(edges_elev_mde.grade_abs.mean(),2)\n",
    "print(f\"Assigned a mean elevation of {mean_elev} to nodes and mean slope of {mean_slope} to edges.\")"
   ]
  },
  {
   "cell_type": "code",
   "execution_count": 14,
   "id": "c7897935-f29b-4faf-b8e8-93b3cb7a2608",
   "metadata": {},
   "outputs": [
    {
     "name": "stdout",
     "output_type": "stream",
     "text": [
      "(124621, 5)\n"
     ]
    },
    {
     "data": {
      "text/html": [
       "<div>\n",
       "<style scoped>\n",
       "    .dataframe tbody tr th:only-of-type {\n",
       "        vertical-align: middle;\n",
       "    }\n",
       "\n",
       "    .dataframe tbody tr th {\n",
       "        vertical-align: top;\n",
       "    }\n",
       "\n",
       "    .dataframe thead th {\n",
       "        text-align: right;\n",
       "    }\n",
       "</style>\n",
       "<table border=\"1\" class=\"dataframe\">\n",
       "  <thead>\n",
       "    <tr style=\"text-align: right;\">\n",
       "      <th></th>\n",
       "      <th>x</th>\n",
       "      <th>y</th>\n",
       "      <th>street_count</th>\n",
       "      <th>elevation</th>\n",
       "      <th>geometry</th>\n",
       "    </tr>\n",
       "    <tr>\n",
       "      <th>osmid</th>\n",
       "      <th></th>\n",
       "      <th></th>\n",
       "      <th></th>\n",
       "      <th></th>\n",
       "      <th></th>\n",
       "    </tr>\n",
       "  </thead>\n",
       "  <tbody>\n",
       "    <tr>\n",
       "      <th>67637870229114485</th>\n",
       "      <td>-103.306309</td>\n",
       "      <td>20.711533</td>\n",
       "      <td>3</td>\n",
       "      <td>1548.0</td>\n",
       "      <td>POINT (-103.30631 20.71153)</td>\n",
       "    </tr>\n",
       "    <tr>\n",
       "      <th>67640019229114922</th>\n",
       "      <td>-103.306102</td>\n",
       "      <td>20.711570</td>\n",
       "      <td>3</td>\n",
       "      <td>1548.0</td>\n",
       "      <td>POINT (-103.30610 20.71157)</td>\n",
       "    </tr>\n",
       "  </tbody>\n",
       "</table>\n",
       "</div>"
      ],
      "text/plain": [
       "                            x          y  street_count  elevation   \n",
       "osmid                                                               \n",
       "67637870229114485 -103.306309  20.711533             3     1548.0  \\\n",
       "67640019229114922 -103.306102  20.711570             3     1548.0   \n",
       "\n",
       "                                      geometry  \n",
       "osmid                                           \n",
       "67637870229114485  POINT (-103.30631 20.71153)  \n",
       "67640019229114922  POINT (-103.30610 20.71157)  "
      ]
     },
     "execution_count": 14,
     "metadata": {},
     "output_type": "execute_result"
    }
   ],
   "source": [
    "# Show\n",
    "print(nodes_elev_mde.shape)\n",
    "nodes_elev_mde.head(2)"
   ]
  },
  {
   "cell_type": "code",
   "execution_count": 15,
   "id": "811bde1a-7aab-45bd-85a6-ee5ad6be5f15",
   "metadata": {},
   "outputs": [
    {
     "name": "stdout",
     "output_type": "stream",
     "text": [
      "(197439, 4)\n"
     ]
    },
    {
     "data": {
      "text/html": [
       "<div>\n",
       "<style scoped>\n",
       "    .dataframe tbody tr th:only-of-type {\n",
       "        vertical-align: middle;\n",
       "    }\n",
       "\n",
       "    .dataframe tbody tr th {\n",
       "        vertical-align: top;\n",
       "    }\n",
       "\n",
       "    .dataframe thead th {\n",
       "        text-align: right;\n",
       "    }\n",
       "</style>\n",
       "<table border=\"1\" class=\"dataframe\">\n",
       "  <thead>\n",
       "    <tr style=\"text-align: right;\">\n",
       "      <th></th>\n",
       "      <th></th>\n",
       "      <th></th>\n",
       "      <th>geometry</th>\n",
       "      <th>length</th>\n",
       "      <th>grade</th>\n",
       "      <th>grade_abs</th>\n",
       "    </tr>\n",
       "    <tr>\n",
       "      <th>u</th>\n",
       "      <th>v</th>\n",
       "      <th>key</th>\n",
       "      <th></th>\n",
       "      <th></th>\n",
       "      <th></th>\n",
       "      <th></th>\n",
       "    </tr>\n",
       "  </thead>\n",
       "  <tbody>\n",
       "    <tr>\n",
       "      <th>67637870229114485</th>\n",
       "      <th>67640019229114922</th>\n",
       "      <th>0</th>\n",
       "      <td>MULTILINESTRING ((-103.30631 20.71153, -103.30...</td>\n",
       "      <td>21.897</td>\n",
       "      <td>0.0</td>\n",
       "      <td>0.0</td>\n",
       "    </tr>\n",
       "    <tr>\n",
       "      <th>67640019229114922</th>\n",
       "      <th>67640526229117504</th>\n",
       "      <th>0</th>\n",
       "      <td>MULTILINESTRING ((-103.30610 20.71157, -103.30...</td>\n",
       "      <td>26.417</td>\n",
       "      <td>0.0</td>\n",
       "      <td>0.0</td>\n",
       "    </tr>\n",
       "  </tbody>\n",
       "</table>\n",
       "</div>"
      ],
      "text/plain": [
       "                                                                                  geometry   \n",
       "u                 v                 key                                                      \n",
       "67637870229114485 67640019229114922 0    MULTILINESTRING ((-103.30631 20.71153, -103.30...  \\\n",
       "67640019229114922 67640526229117504 0    MULTILINESTRING ((-103.30610 20.71157, -103.30...   \n",
       "\n",
       "                                         length  grade  grade_abs  \n",
       "u                 v                 key                            \n",
       "67637870229114485 67640019229114922 0    21.897    0.0        0.0  \n",
       "67640019229114922 67640526229117504 0    26.417    0.0        0.0  "
      ]
     },
     "execution_count": 15,
     "metadata": {},
     "output_type": "execute_result"
    }
   ],
   "source": [
    "# Show\n",
    "print(edges_elev_mde.shape)\n",
    "edges_elev_mde.head(2)"
   ]
  },
  {
   "cell_type": "markdown",
   "id": "a06a476d-0e79-4a9e-8d4f-dd24c27cc4c0",
   "metadata": {},
   "source": [
    "## Format output and save locally"
   ]
  },
  {
   "cell_type": "code",
   "execution_count": 16,
   "id": "ee81a8e3-e066-4586-87f9-acec9aacba4a",
   "metadata": {},
   "outputs": [
    {
     "name": "stdout",
     "output_type": "stream",
     "text": [
      "(124621, 6)\n"
     ]
    },
    {
     "data": {
      "text/html": [
       "<div>\n",
       "<style scoped>\n",
       "    .dataframe tbody tr th:only-of-type {\n",
       "        vertical-align: middle;\n",
       "    }\n",
       "\n",
       "    .dataframe tbody tr th {\n",
       "        vertical-align: top;\n",
       "    }\n",
       "\n",
       "    .dataframe thead th {\n",
       "        text-align: right;\n",
       "    }\n",
       "</style>\n",
       "<table border=\"1\" class=\"dataframe\">\n",
       "  <thead>\n",
       "    <tr style=\"text-align: right;\">\n",
       "      <th></th>\n",
       "      <th>osmid</th>\n",
       "      <th>x</th>\n",
       "      <th>y</th>\n",
       "      <th>street_count</th>\n",
       "      <th>elevation</th>\n",
       "      <th>geometry</th>\n",
       "    </tr>\n",
       "  </thead>\n",
       "  <tbody>\n",
       "    <tr>\n",
       "      <th>0</th>\n",
       "      <td>67637870229114485</td>\n",
       "      <td>-103.306309</td>\n",
       "      <td>20.711533</td>\n",
       "      <td>3.0</td>\n",
       "      <td>1548.0</td>\n",
       "      <td>POINT (-103.30631 20.71153)</td>\n",
       "    </tr>\n",
       "    <tr>\n",
       "      <th>1</th>\n",
       "      <td>67640019229114922</td>\n",
       "      <td>-103.306102</td>\n",
       "      <td>20.711570</td>\n",
       "      <td>3.0</td>\n",
       "      <td>1548.0</td>\n",
       "      <td>POINT (-103.30610 20.71157)</td>\n",
       "    </tr>\n",
       "  </tbody>\n",
       "</table>\n",
       "</div>"
      ],
      "text/plain": [
       "               osmid           x          y  street_count  elevation   \n",
       "0  67637870229114485 -103.306309  20.711533           3.0     1548.0  \\\n",
       "1  67640019229114922 -103.306102  20.711570           3.0     1548.0   \n",
       "\n",
       "                      geometry  \n",
       "0  POINT (-103.30631 20.71153)  \n",
       "1  POINT (-103.30610 20.71157)  "
      ]
     },
     "execution_count": 16,
     "metadata": {},
     "output_type": "execute_result"
    }
   ],
   "source": [
    "# reset index\n",
    "nodes_elev_mde.reset_index(inplace=True)\n",
    "edges_elev_mde.reset_index(inplace=True)\n",
    "\n",
    "#set street_count as float\n",
    "nodes_elev_mde[\"street_count\"] = nodes_elev_mde[\"street_count\"].astype(float)\n",
    "\n",
    "# Show\n",
    "print(nodes_elev_mde.shape)\n",
    "nodes_elev_mde.head(2)"
   ]
  },
  {
   "cell_type": "code",
   "execution_count": 17,
   "id": "41f47653-2cbe-427e-b680-4cc341d2bd28",
   "metadata": {},
   "outputs": [
    {
     "name": "stdout",
     "output_type": "stream",
     "text": [
      "(197439, 7)\n"
     ]
    },
    {
     "data": {
      "text/html": [
       "<div>\n",
       "<style scoped>\n",
       "    .dataframe tbody tr th:only-of-type {\n",
       "        vertical-align: middle;\n",
       "    }\n",
       "\n",
       "    .dataframe tbody tr th {\n",
       "        vertical-align: top;\n",
       "    }\n",
       "\n",
       "    .dataframe thead th {\n",
       "        text-align: right;\n",
       "    }\n",
       "</style>\n",
       "<table border=\"1\" class=\"dataframe\">\n",
       "  <thead>\n",
       "    <tr style=\"text-align: right;\">\n",
       "      <th></th>\n",
       "      <th>u</th>\n",
       "      <th>v</th>\n",
       "      <th>key</th>\n",
       "      <th>geometry</th>\n",
       "      <th>length</th>\n",
       "      <th>grade</th>\n",
       "      <th>grade_abs</th>\n",
       "    </tr>\n",
       "  </thead>\n",
       "  <tbody>\n",
       "    <tr>\n",
       "      <th>0</th>\n",
       "      <td>67637870229114485</td>\n",
       "      <td>67640019229114922</td>\n",
       "      <td>0</td>\n",
       "      <td>MULTILINESTRING ((-103.30631 20.71153, -103.30...</td>\n",
       "      <td>21.897</td>\n",
       "      <td>0.0</td>\n",
       "      <td>0.0</td>\n",
       "    </tr>\n",
       "    <tr>\n",
       "      <th>1</th>\n",
       "      <td>67640019229114922</td>\n",
       "      <td>67640526229117504</td>\n",
       "      <td>0</td>\n",
       "      <td>MULTILINESTRING ((-103.30610 20.71157, -103.30...</td>\n",
       "      <td>26.417</td>\n",
       "      <td>0.0</td>\n",
       "      <td>0.0</td>\n",
       "    </tr>\n",
       "  </tbody>\n",
       "</table>\n",
       "</div>"
      ],
      "text/plain": [
       "                   u                  v  key   \n",
       "0  67637870229114485  67640019229114922    0  \\\n",
       "1  67640019229114922  67640526229117504    0   \n",
       "\n",
       "                                            geometry  length  grade  grade_abs  \n",
       "0  MULTILINESTRING ((-103.30631 20.71153, -103.30...  21.897    0.0        0.0  \n",
       "1  MULTILINESTRING ((-103.30610 20.71157, -103.30...  26.417    0.0        0.0  "
      ]
     },
     "execution_count": 17,
     "metadata": {},
     "output_type": "execute_result"
    }
   ],
   "source": [
    "# Show\n",
    "print(edges_elev_mde.shape)\n",
    "edges_elev_mde.head(2)"
   ]
  },
  {
   "cell_type": "code",
   "execution_count": 18,
   "id": "4955b737-0c23-4b69-925e-97b8a4a90e1d",
   "metadata": {},
   "outputs": [],
   "source": [
    "if local_save:\n",
    "    nodes_elev_mde.to_file(first_folder_path + \"data/processed/volvo/slope_to_edges_gdl/nodes_elev_mde.gpkg\", driver=\"GeoJSON\")\n",
    "    edges_elev_mde.to_file(first_folder_path + \"data/processed/volvo/slope_to_edges_gdl/edges_elev_mde.gpkg\", driver=\"GeoJSON\")"
   ]
  },
  {
   "cell_type": "code",
   "execution_count": null,
   "id": "85ea0ea4-7515-42e3-8df1-acb5b81a85ba",
   "metadata": {},
   "outputs": [],
   "source": []
  }
 ],
 "metadata": {
  "kernelspec": {
   "display_name": "GDS-10.0",
   "language": "python",
   "name": "gds"
  },
  "language_info": {
   "codemirror_mode": {
    "name": "ipython",
    "version": 3
   },
   "file_extension": ".py",
   "mimetype": "text/x-python",
   "name": "python",
   "nbconvert_exporter": "python",
   "pygments_lexer": "ipython3",
   "version": "3.9.18"
  }
 },
 "nbformat": 4,
 "nbformat_minor": 5
}
