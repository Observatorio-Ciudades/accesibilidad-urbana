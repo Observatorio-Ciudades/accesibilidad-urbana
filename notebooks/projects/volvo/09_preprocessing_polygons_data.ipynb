{
 "cells": [
  {
   "cell_type": "code",
   "execution_count": 1,
   "id": "32900f59-4f38-4f26-9cca-55cdcfcba9d0",
   "metadata": {},
   "outputs": [],
   "source": [
    "import warnings\n",
    "warnings.filterwarnings('ignore')\n",
    "import geopandas as gpd\n",
    "from geopandas.tools import overlay\n",
    "import matplotlib.pyplot as plt\n",
    "import os \n",
    "import sys\n",
    "module_path = os.path.abspath(os.path.join('../../../'))\n",
    "if module_path not in sys.path:\n",
    "    sys.path.append(module_path)\n",
    "    import aup\n",
    "import pandas as pd\n",
    "import numpy as np\n",
    "import zipfile"
   ]
  },
  {
   "cell_type": "markdown",
   "id": "b2fcedbb-3a40-4077-addc-de01bef46922",
   "metadata": {},
   "source": [
    "# Polígono de Estudio"
   ]
  },
  {
   "cell_type": "code",
   "execution_count": 3,
   "id": "1800a6bb-07ee-4d62-9a5e-80b7230e7fa0",
   "metadata": {},
   "outputs": [],
   "source": [
    "polygon_GDL = gpd.read_file(\"PolígonosEstudio.gpkg\")"
   ]
  },
  {
   "cell_type": "code",
   "execution_count": 4,
   "id": "f35d8bca-8d6e-4d8b-a078-6dd3301e6621",
   "metadata": {},
   "outputs": [
    {
     "data": {
      "text/html": [
       "<div>\n",
       "<style scoped>\n",
       "    .dataframe tbody tr th:only-of-type {\n",
       "        vertical-align: middle;\n",
       "    }\n",
       "\n",
       "    .dataframe tbody tr th {\n",
       "        vertical-align: top;\n",
       "    }\n",
       "\n",
       "    .dataframe thead th {\n",
       "        text-align: right;\n",
       "    }\n",
       "</style>\n",
       "<table border=\"1\" class=\"dataframe\">\n",
       "  <thead>\n",
       "    <tr style=\"text-align: right;\">\n",
       "      <th></th>\n",
       "      <th>geometry</th>\n",
       "    </tr>\n",
       "  </thead>\n",
       "  <tbody>\n",
       "    <tr>\n",
       "      <th>0</th>\n",
       "      <td>POLYGON ((659404.786 2283009.827, 660250.98 22...</td>\n",
       "    </tr>\n",
       "    <tr>\n",
       "      <th>1</th>\n",
       "      <td>POLYGON ((668619.092 2288755.457, 668816.754 2...</td>\n",
       "    </tr>\n",
       "    <tr>\n",
       "      <th>2</th>\n",
       "      <td>POLYGON ((665060.447 2289080.643, 665057.51 22...</td>\n",
       "    </tr>\n",
       "  </tbody>\n",
       "</table>\n",
       "</div>"
      ],
      "text/plain": [
       "                                            geometry\n",
       "0  POLYGON ((659404.786 2283009.827, 660250.98 22...\n",
       "1  POLYGON ((668619.092 2288755.457, 668816.754 2...\n",
       "2  POLYGON ((665060.447 2289080.643, 665057.51 22..."
      ]
     },
     "execution_count": 4,
     "metadata": {},
     "output_type": "execute_result"
    }
   ],
   "source": [
    "polygon_GDL.head(3)"
   ]
  },
  {
   "cell_type": "code",
   "execution_count": 15,
   "id": "b21d6d6e-f0de-4d7d-87b1-5ffbfe28dfb8",
   "metadata": {},
   "outputs": [
    {
     "name": "stdout",
     "output_type": "stream",
     "text": [
      "¡Archivos extraídos en el directorio actual!\n"
     ]
    }
   ],
   "source": [
    "# Ruta al archivo zip\n",
    "ruta_zip = \"Poligonos.zip\"\n",
    "\n",
    "# Obtener la ruta actual \n",
    "ruta_actual = os.getcwd()\n",
    "\n",
    "# Extraer el zip en esa misma ruta\n",
    "with zipfile.ZipFile(ruta_zip, 'r') as zip_ref:\n",
    "    zip_ref.extractall(ruta_actual)\n",
    "\n",
    "print(\"¡Archivos extraídos en el directorio actual!\")"
   ]
  },
  {
   "cell_type": "code",
   "execution_count": 16,
   "id": "7f6a4aa9-a513-46da-a0c9-c8939a641301",
   "metadata": {},
   "outputs": [
    {
     "name": "stdout",
     "output_type": "stream",
     "text": [
      "Contenido del ZIP:\n",
      "['Poligonos/Alto_Alta.cpg', 'Poligonos/Alto_Alta.dbf', 'Poligonos/Alto_Alta.prj', 'Poligonos/Alto_Alta.qmd', 'Poligonos/Alto_Alta.shp', 'Poligonos/Alto_Alta.shx', 'Poligonos/Alto_Baja.cpg', 'Poligonos/Alto_Baja.dbf', 'Poligonos/Alto_Baja.prj', 'Poligonos/Alto_Baja.qmd', 'Poligonos/Alto_Baja.shp', 'Poligonos/Alto_Baja.shx', 'Poligonos/Bajo_Alta.cpg', 'Poligonos/Bajo_Alta.dbf', 'Poligonos/Bajo_Alta.prj', 'Poligonos/Bajo_Alta.qmd', 'Poligonos/Bajo_Alta.shp', 'Poligonos/Bajo_Alta.shx']\n"
     ]
    }
   ],
   "source": [
    "with zipfile.ZipFile(ruta_zip, 'r') as zip_ref:\n",
    "    print(\"Contenido del ZIP:\")\n",
    "    print(zip_ref.namelist())"
   ]
  },
  {
   "cell_type": "code",
   "execution_count": 17,
   "id": "aa9974a5-c584-4a54-bcf9-00ed79308651",
   "metadata": {},
   "outputs": [],
   "source": [
    "# Ruta a la carpeta donde están los shapefiles\n",
    "carpeta = \"Poligonos\"\n",
    "\n",
    "# Lista vacía para guardar los GeoDataFrames\n",
    "gdfs = []\n",
    "\n",
    "# Iterar sobre todos los archivos .shp en la carpeta\n",
    "for archivo in os.listdir(carpeta):\n",
    "    if archivo.endswith(\".shp\"):\n",
    "        ruta_shp = os.path.join(carpeta, archivo)\n",
    "        gdf = gpd.read_file(ruta_shp)\n",
    "        gdfs.append(gdf)\n",
    "\n",
    "# Concatenar todos los GeoDataFrames en uno solo\n",
    "gdf_unido = gpd.GeoDataFrame(pd.concat(gdfs, ignore_index=True), crs=gdfs[0].crs)\n",
    "\n",
    "# Guardar el resultado como GeoPackage\n",
    "gdf_unido.to_file(\"area_estudio_MDE.gpkg\", layer='area_estudio_MDE', driver=\"GPKG\")"
   ]
  },
  {
   "cell_type": "code",
   "execution_count": 19,
   "id": "bd2de8f0-2039-4d4e-b2c1-6779347c86ae",
   "metadata": {},
   "outputs": [
    {
     "data": {
      "text/html": [
       "<div>\n",
       "<style scoped>\n",
       "    .dataframe tbody tr th:only-of-type {\n",
       "        vertical-align: middle;\n",
       "    }\n",
       "\n",
       "    .dataframe tbody tr th {\n",
       "        vertical-align: top;\n",
       "    }\n",
       "\n",
       "    .dataframe thead th {\n",
       "        text-align: right;\n",
       "    }\n",
       "</style>\n",
       "<table border=\"1\" class=\"dataframe\">\n",
       "  <thead>\n",
       "    <tr style=\"text-align: right;\">\n",
       "      <th></th>\n",
       "      <th>OBJECTID</th>\n",
       "      <th>CODIGO</th>\n",
       "      <th>NOMBRE</th>\n",
       "      <th>ABREVIATUR</th>\n",
       "      <th>IDENTIFICA</th>\n",
       "      <th>LIMITECOMU</th>\n",
       "      <th>ZHFISICAGE</th>\n",
       "      <th>LIMITEMUNI</th>\n",
       "      <th>VIGENCIA_F</th>\n",
       "      <th>SUBTIPO_BA</th>\n",
       "      <th>LINK_DOCUM</th>\n",
       "      <th>SHAPE_Leng</th>\n",
       "      <th>SHAPE_Area</th>\n",
       "      <th>geometry</th>\n",
       "    </tr>\n",
       "  </thead>\n",
       "  <tbody>\n",
       "    <tr>\n",
       "      <th>0</th>\n",
       "      <td>42.0</td>\n",
       "      <td>0415</td>\n",
       "      <td>Miranda</td>\n",
       "      <td>None</td>\n",
       "      <td>0415</td>\n",
       "      <td>04</td>\n",
       "      <td>None</td>\n",
       "      <td>001</td>\n",
       "      <td>None</td>\n",
       "      <td>1</td>\n",
       "      <td>None</td>\n",
       "      <td>2359.939726</td>\n",
       "      <td>230378.299048</td>\n",
       "      <td>POLYGON ((835867.567 1186245.041, 835864.92 11...</td>\n",
       "    </tr>\n",
       "    <tr>\n",
       "      <th>1</th>\n",
       "      <td>131.0</td>\n",
       "      <td>0405</td>\n",
       "      <td>Moravia</td>\n",
       "      <td>None</td>\n",
       "      <td>0405</td>\n",
       "      <td>04</td>\n",
       "      <td>None</td>\n",
       "      <td>001</td>\n",
       "      <td>None</td>\n",
       "      <td>1</td>\n",
       "      <td>None</td>\n",
       "      <td>3857.845295</td>\n",
       "      <td>482535.265051</td>\n",
       "      <td>POLYGON ((835467.714 1187006.905, 835399.154 1...</td>\n",
       "    </tr>\n",
       "    <tr>\n",
       "      <th>2</th>\n",
       "      <td>266.0</td>\n",
       "      <td>Inst_10</td>\n",
       "      <td>Jardín Botánico</td>\n",
       "      <td>None</td>\n",
       "      <td>Inst_10</td>\n",
       "      <td>04</td>\n",
       "      <td>None</td>\n",
       "      <td>001</td>\n",
       "      <td>None</td>\n",
       "      <td>1</td>\n",
       "      <td>None</td>\n",
       "      <td>1635.098619</td>\n",
       "      <td>159710.692621</td>\n",
       "      <td>POLYGON ((835652.597 1185587.888, 835668.812 1...</td>\n",
       "    </tr>\n",
       "  </tbody>\n",
       "</table>\n",
       "</div>"
      ],
      "text/plain": [
       "   OBJECTID   CODIGO           NOMBRE ABREVIATUR IDENTIFICA LIMITECOMU  \\\n",
       "0      42.0     0415          Miranda       None       0415         04   \n",
       "1     131.0     0405          Moravia       None       0405         04   \n",
       "2     266.0  Inst_10  Jardín Botánico       None    Inst_10         04   \n",
       "\n",
       "  ZHFISICAGE LIMITEMUNI VIGENCIA_F  SUBTIPO_BA LINK_DOCUM   SHAPE_Leng  \\\n",
       "0       None        001       None           1       None  2359.939726   \n",
       "1       None        001       None           1       None  3857.845295   \n",
       "2       None        001       None           1       None  1635.098619   \n",
       "\n",
       "      SHAPE_Area                                           geometry  \n",
       "0  230378.299048  POLYGON ((835867.567 1186245.041, 835864.92 11...  \n",
       "1  482535.265051  POLYGON ((835467.714 1187006.905, 835399.154 1...  \n",
       "2  159710.692621  POLYGON ((835652.597 1185587.888, 835668.812 1...  "
      ]
     },
     "execution_count": 19,
     "metadata": {},
     "output_type": "execute_result"
    }
   ],
   "source": [
    "poligono_MDE = gpd.read_file(\"area_estudio_MDE.gpkg\")\n",
    "poligono_MDE.head(3)"
   ]
  },
  {
   "cell_type": "code",
   "execution_count": 29,
   "id": "f3f4b8ee-731a-4ca9-9291-fb8ed82a7a6b",
   "metadata": {},
   "outputs": [],
   "source": [
    "geometry_MDE = poligono_MDE.copy()\n",
    "poligono_final_MDE = geometry_MDE[[\"geometry\"]].copy()"
   ]
  },
  {
   "cell_type": "code",
   "execution_count": 33,
   "id": "dd5e77a9-c08c-40cf-ad5e-1d5963c96941",
   "metadata": {},
   "outputs": [],
   "source": [
    "poligono_final_MDE.to_file(\"PoligonoEstudio_MDE.gpkg\", layer='geometria', driver=\"GPKG\")"
   ]
  },
  {
   "cell_type": "code",
   "execution_count": 34,
   "id": "f14da54e-33ea-4b72-aea2-7ef1253844b3",
   "metadata": {},
   "outputs": [],
   "source": [
    "PoligonoEstudio_MDE = gpd.read_file(\"PoligonoEstudio_MDE.gpkg\")"
   ]
  },
  {
   "cell_type": "code",
   "execution_count": 36,
   "id": "0eee8209-a48a-4545-beb9-1d7450ddf4c6",
   "metadata": {},
   "outputs": [
    {
     "data": {
      "text/html": [
       "<div>\n",
       "<style scoped>\n",
       "    .dataframe tbody tr th:only-of-type {\n",
       "        vertical-align: middle;\n",
       "    }\n",
       "\n",
       "    .dataframe tbody tr th {\n",
       "        vertical-align: top;\n",
       "    }\n",
       "\n",
       "    .dataframe thead th {\n",
       "        text-align: right;\n",
       "    }\n",
       "</style>\n",
       "<table border=\"1\" class=\"dataframe\">\n",
       "  <thead>\n",
       "    <tr style=\"text-align: right;\">\n",
       "      <th></th>\n",
       "      <th>geometry</th>\n",
       "    </tr>\n",
       "  </thead>\n",
       "  <tbody>\n",
       "    <tr>\n",
       "      <th>0</th>\n",
       "      <td>POLYGON ((835867.567 1186245.041, 835864.92 11...</td>\n",
       "    </tr>\n",
       "    <tr>\n",
       "      <th>1</th>\n",
       "      <td>POLYGON ((835467.714 1187006.905, 835399.154 1...</td>\n",
       "    </tr>\n",
       "    <tr>\n",
       "      <th>2</th>\n",
       "      <td>POLYGON ((835652.597 1185587.888, 835668.812 1...</td>\n",
       "    </tr>\n",
       "  </tbody>\n",
       "</table>\n",
       "</div>"
      ],
      "text/plain": [
       "                                            geometry\n",
       "0  POLYGON ((835867.567 1186245.041, 835864.92 11...\n",
       "1  POLYGON ((835467.714 1187006.905, 835399.154 1...\n",
       "2  POLYGON ((835652.597 1185587.888, 835668.812 1..."
      ]
     },
     "execution_count": 36,
     "metadata": {},
     "output_type": "execute_result"
    }
   ],
   "source": [
    "PoligonoEstudio_MDE.head(3)"
   ]
  },
  {
   "cell_type": "markdown",
   "id": "ad4ae09c-a937-4451-afe8-661896e499e6",
   "metadata": {},
   "source": [
    "# Proximidad"
   ]
  },
  {
   "cell_type": "code",
   "execution_count": 2,
   "id": "1c04f65d-27a9-4829-918f-b117527d045d",
   "metadata": {},
   "outputs": [],
   "source": [
    "proximity = gpd.read_file(\"volvo_wgtproxanalysis_2024_mza_hex9.geojson\")"
   ]
  },
  {
   "cell_type": "code",
   "execution_count": 3,
   "id": "82371958-744c-464f-acb6-98c9d410aa45",
   "metadata": {},
   "outputs": [
    {
     "data": {
      "text/html": [
       "<div>\n",
       "<style scoped>\n",
       "    .dataframe tbody tr th:only-of-type {\n",
       "        vertical-align: middle;\n",
       "    }\n",
       "\n",
       "    .dataframe tbody tr th {\n",
       "        vertical-align: top;\n",
       "    }\n",
       "\n",
       "    .dataframe thead th {\n",
       "        text-align: right;\n",
       "    }\n",
       "</style>\n",
       "<table border=\"1\" class=\"dataframe\">\n",
       "  <thead>\n",
       "    <tr style=\"text-align: right;\">\n",
       "      <th></th>\n",
       "      <th>hex_id</th>\n",
       "      <th>res</th>\n",
       "      <th>max_escuelas</th>\n",
       "      <th>min_escuelas</th>\n",
       "      <th>time_guarderías</th>\n",
       "      <th>time_preescolar</th>\n",
       "      <th>time_primaria</th>\n",
       "      <th>time_secundaria</th>\n",
       "      <th>max_salud</th>\n",
       "      <th>min_salud</th>\n",
       "      <th>...</th>\n",
       "      <th>wgt_cines_15min</th>\n",
       "      <th>wgt_museos_15min</th>\n",
       "      <th>wgt_bibliotecas_15min</th>\n",
       "      <th>wgt_cultural_15min</th>\n",
       "      <th>wgt_bancos_15min</th>\n",
       "      <th>wgt_financiero_15min</th>\n",
       "      <th>wgt_15_min</th>\n",
       "      <th>wgt_15_min_v2</th>\n",
       "      <th>wgt_15_min_v3</th>\n",
       "      <th>geometry</th>\n",
       "    </tr>\n",
       "  </thead>\n",
       "  <tbody>\n",
       "    <tr>\n",
       "      <th>0</th>\n",
       "      <td>8949aa252bbffff</td>\n",
       "      <td>9</td>\n",
       "      <td>65.700136</td>\n",
       "      <td>5.424581</td>\n",
       "      <td>65.700136</td>\n",
       "      <td>18.338011</td>\n",
       "      <td>15.153014</td>\n",
       "      <td>5.424581</td>\n",
       "      <td>65.126155</td>\n",
       "      <td>13.229981</td>\n",
       "      <td>...</td>\n",
       "      <td>0.0</td>\n",
       "      <td>0.0</td>\n",
       "      <td>0.0</td>\n",
       "      <td>0.0</td>\n",
       "      <td>0.000122</td>\n",
       "      <td>0.000122</td>\n",
       "      <td>0.008073</td>\n",
       "      <td>0.00875</td>\n",
       "      <td>0.009786</td>\n",
       "      <td>POLYGON ((-103.4048 20.46253, -103.40358 20.46...</td>\n",
       "    </tr>\n",
       "    <tr>\n",
       "      <th>1</th>\n",
       "      <td>8949ab5943bffff</td>\n",
       "      <td>9</td>\n",
       "      <td>38.509210</td>\n",
       "      <td>27.956565</td>\n",
       "      <td>29.104480</td>\n",
       "      <td>28.120892</td>\n",
       "      <td>27.956565</td>\n",
       "      <td>38.509210</td>\n",
       "      <td>18.872854</td>\n",
       "      <td>17.391323</td>\n",
       "      <td>...</td>\n",
       "      <td>0.0</td>\n",
       "      <td>0.0</td>\n",
       "      <td>0.0</td>\n",
       "      <td>0.0</td>\n",
       "      <td>0.002209</td>\n",
       "      <td>0.002209</td>\n",
       "      <td>0.004963</td>\n",
       "      <td>0.00600</td>\n",
       "      <td>0.007370</td>\n",
       "      <td>POLYGON ((-103.40982 20.60369, -103.4086 20.60...</td>\n",
       "    </tr>\n",
       "  </tbody>\n",
       "</table>\n",
       "<p>2 rows × 72 columns</p>\n",
       "</div>"
      ],
      "text/plain": [
       "            hex_id  res  max_escuelas  min_escuelas  time_guarderías  \\\n",
       "0  8949aa252bbffff    9     65.700136      5.424581        65.700136   \n",
       "1  8949ab5943bffff    9     38.509210     27.956565        29.104480   \n",
       "\n",
       "   time_preescolar  time_primaria  time_secundaria  max_salud  min_salud  ...  \\\n",
       "0        18.338011      15.153014         5.424581  65.126155  13.229981  ...   \n",
       "1        28.120892      27.956565        38.509210  18.872854  17.391323  ...   \n",
       "\n",
       "   wgt_cines_15min  wgt_museos_15min  wgt_bibliotecas_15min  \\\n",
       "0              0.0               0.0                    0.0   \n",
       "1              0.0               0.0                    0.0   \n",
       "\n",
       "   wgt_cultural_15min  wgt_bancos_15min  wgt_financiero_15min  wgt_15_min  \\\n",
       "0                 0.0          0.000122              0.000122    0.008073   \n",
       "1                 0.0          0.002209              0.002209    0.004963   \n",
       "\n",
       "   wgt_15_min_v2  wgt_15_min_v3  \\\n",
       "0        0.00875       0.009786   \n",
       "1        0.00600       0.007370   \n",
       "\n",
       "                                            geometry  \n",
       "0  POLYGON ((-103.4048 20.46253, -103.40358 20.46...  \n",
       "1  POLYGON ((-103.40982 20.60369, -103.4086 20.60...  \n",
       "\n",
       "[2 rows x 72 columns]"
      ]
     },
     "execution_count": 3,
     "metadata": {},
     "output_type": "execute_result"
    }
   ],
   "source": [
    "proximity.head(2)"
   ]
  }
 ],
 "metadata": {
  "kernelspec": {
   "display_name": "GDS-10.0",
   "language": "python",
   "name": "gds"
  },
  "language_info": {
   "codemirror_mode": {
    "name": "ipython",
    "version": 3
   },
   "file_extension": ".py",
   "mimetype": "text/x-python",
   "name": "python",
   "nbconvert_exporter": "python",
   "pygments_lexer": "ipython3",
   "version": "3.9.18"
  }
 },
 "nbformat": 4,
 "nbformat_minor": 5
}
