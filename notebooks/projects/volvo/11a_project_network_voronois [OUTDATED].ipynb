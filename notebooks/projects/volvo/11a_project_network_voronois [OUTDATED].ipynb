{
 "cells": [
  {
   "cell_type": "markdown",
   "id": "ce12a160-2963-4e82-bb73-c352e948e92c",
   "metadata": {},
   "source": [
    "__This notebook is not the final used version__. \n",
    "The final used version can be found in the __vref_walkability_index repository.__\n",
    "__Notebook 02_PV_02b_Population (voronoi_points_within_aoi()).ipynb__\n",
    "\n",
    "Notebook 02_PV_02b_Population is based on 02_PV_02a_Project_network_Voronois, which is based on this notebook."
   ]
  },
  {
   "cell_type": "markdown",
   "id": "aa0cd546-7efb-4423-8ae9-9905857ce934",
   "metadata": {},
   "source": [
    "# 11a_project_network_voronois [OUTDATED]"
   ]
  },
  {
   "cell_type": "markdown",
   "id": "6948203d-12c9-4b75-a1d3-545537df3c5f",
   "metadata": {},
   "source": [
    "This notebook loads pop data (Looking for population and density) to nodes for the project.\n",
    "Most of this notebook is based on Script 22-censo_pop_voronoi.py as of 2025/03/04.\n",
    "\n",
    "__Inputs:__\n",
    "* Area of interest (City, Guadalajara)\n",
    "* Blocks with already pre-calculated pop data (from Script 22) pobcenso_inegi_20_mzaageb_mza\n",
    "* Nodes from the project network, which was generated using the networks join procedure (Tessellations + Boeing)\n",
    "  \n",
    "__Outputs:__\n",
    "* Voronoi polygons for the project_network\n",
    "* Nodes with pop data (Population and density)"
   ]
  },
  {
   "cell_type": "markdown",
   "id": "6d3676ae-f7d5-4a4a-94a9-da3eaa16250f",
   "metadata": {},
   "source": [
    "## Import libraries"
   ]
  },
  {
   "cell_type": "code",
   "execution_count": 1,
   "id": "80427904-c061-4d62-97fd-e5e09b6bc297",
   "metadata": {},
   "outputs": [],
   "source": [
    "first_folder_path = \"../../../\""
   ]
  },
  {
   "cell_type": "code",
   "execution_count": 24,
   "id": "617e8ef9-75ba-4044-9d9d-503ad4fd277a",
   "metadata": {},
   "outputs": [],
   "source": [
    "import os\n",
    "import sys\n",
    "\n",
    "import pandas as pd\n",
    "import geopandas as gpd\n",
    "import osmnx as ox\n",
    "import numpy as np\n",
    "\n",
    "import matplotlib.pyplot as plt\n",
    "import seaborn as sns\n",
    "\n",
    "# Time processes\n",
    "import time\n",
    "\n",
    "import warnings\n",
    "warnings.simplefilter(action='ignore', category=FutureWarning)\n",
    "\n",
    "module_path = os.path.abspath(os.path.join(first_folder_path))\n",
    "if module_path not in sys.path:\n",
    "    sys.path.append(module_path)\n",
    "    import aup\n",
    "else:\n",
    "    import aup"
   ]
  },
  {
   "cell_type": "markdown",
   "id": "a87ffa46-50f1-4122-b411-c6046265edda",
   "metadata": {},
   "source": [
    "## Notebook config"
   ]
  },
  {
   "cell_type": "code",
   "execution_count": 27,
   "id": "2b530a18-48c8-41d1-a05a-45ccd4a5860d",
   "metadata": {},
   "outputs": [],
   "source": [
    "# Data required in Script22-censo_pop_voronoi.py\n",
    "city = 'Guadalajara'\n",
    "year = '2020'\n",
    "\n",
    "# ----- ----- ----- Projection to be used when needed ----- ----- ----- \n",
    "projected_crs = \"EPSG:32613\" #Guadalajara = 'EPSG:32613'\n",
    "\n",
    "# ----- ----- ----- Output ----- ----- ----- \n",
    "output_dir = first_folder_path + f\"data/external/volvo/project_network_voronoi/\"\n",
    "local_save = True"
   ]
  },
  {
   "cell_type": "markdown",
   "id": "52c93f49-9938-4c03-baf0-ac1a23586885",
   "metadata": {},
   "source": [
    "## Load data"
   ]
  },
  {
   "cell_type": "markdown",
   "id": "76ec4845-e46b-4026-b9ec-cd7d7566e898",
   "metadata": {},
   "source": [
    "### __Load data__ - Area of interest (Guadalajara)"
   ]
  },
  {
   "cell_type": "code",
   "execution_count": 17,
   "id": "57837f77-4c15-4c74-86e7-6b985beb113b",
   "metadata": {},
   "outputs": [],
   "source": [
    "# Database information\n",
    "metro_schema = 'metropolis'\n",
    "metro_table = 'metro_gdf_2020'\n",
    "\n",
    "# Load\n",
    "metro_query = f\"SELECT * FROM {metro_schema}.{metro_table} WHERE \\\"city\\\" LIKE \\'{city}\\'\"\n",
    "metro_gdf = aup.gdf_from_query(pop_query, geometry_col='geometry')\n",
    "\n",
    "city_gdf = metro_gdf.set_crs(\"EPSG:4326\")\n",
    "aoi = city_gdf.dissolve()"
   ]
  },
  {
   "cell_type": "markdown",
   "id": "4efac756-10bc-46a8-9fe1-5220f4ab1009",
   "metadata": {},
   "source": [
    "### __Load data__ - Pop data (Previously processed blocks generated on 22-censo_pop_voronoi.py for Guadalajara)"
   ]
  },
  {
   "cell_type": "code",
   "execution_count": 18,
   "id": "836f3f36-6598-4b38-8ffc-a6c72cbb4dc3",
   "metadata": {},
   "outputs": [
    {
     "name": "stdout",
     "output_type": "stream",
     "text": [
      "EPSG:4326\n",
      "nom_ent         object\n",
      "nom_mun         object\n",
      "nom_loc         object\n",
      "pobtot           int64\n",
      "pobfem         float64\n",
      "                ...   \n",
      "cvegeo_mza      object\n",
      "ambito          object\n",
      "tipomza         object\n",
      "geometry      geometry\n",
      "city            object\n",
      "Length: 238, dtype: object\n",
      "(54804, 238)\n"
     ]
    },
    {
     "data": {
      "text/html": [
       "<div>\n",
       "<style scoped>\n",
       "    .dataframe tbody tr th:only-of-type {\n",
       "        vertical-align: middle;\n",
       "    }\n",
       "\n",
       "    .dataframe tbody tr th {\n",
       "        vertical-align: top;\n",
       "    }\n",
       "\n",
       "    .dataframe thead th {\n",
       "        text-align: right;\n",
       "    }\n",
       "</style>\n",
       "<table border=\"1\" class=\"dataframe\">\n",
       "  <thead>\n",
       "    <tr style=\"text-align: right;\">\n",
       "      <th></th>\n",
       "      <th>nom_ent</th>\n",
       "      <th>nom_mun</th>\n",
       "      <th>nom_loc</th>\n",
       "      <th>pobtot</th>\n",
       "      <th>pobfem</th>\n",
       "      <th>pobmas</th>\n",
       "      <th>p_0a2</th>\n",
       "      <th>p_0a2_f</th>\n",
       "      <th>p_0a2_m</th>\n",
       "      <th>p_3ymas</th>\n",
       "      <th>...</th>\n",
       "      <th>cve_ageb</th>\n",
       "      <th>cve_mza</th>\n",
       "      <th>cvegeo_mun</th>\n",
       "      <th>cvegeo_loc</th>\n",
       "      <th>cvegeo_ageb</th>\n",
       "      <th>cvegeo_mza</th>\n",
       "      <th>ambito</th>\n",
       "      <th>tipomza</th>\n",
       "      <th>geometry</th>\n",
       "      <th>city</th>\n",
       "    </tr>\n",
       "  </thead>\n",
       "  <tbody>\n",
       "    <tr>\n",
       "      <th>0</th>\n",
       "      <td>Jalisco</td>\n",
       "      <td>Zapopan</td>\n",
       "      <td>La Cuchilla (Extramuros de Tesistán)</td>\n",
       "      <td>16</td>\n",
       "      <td>8.0</td>\n",
       "      <td>8.0</td>\n",
       "      <td>0.0</td>\n",
       "      <td>0.0</td>\n",
       "      <td>0.0</td>\n",
       "      <td>16.0</td>\n",
       "      <td>...</td>\n",
       "      <td>0299</td>\n",
       "      <td>011</td>\n",
       "      <td>14120</td>\n",
       "      <td>141200062</td>\n",
       "      <td>1412000620299</td>\n",
       "      <td>1412000620299011</td>\n",
       "      <td>Urbana</td>\n",
       "      <td>Típica</td>\n",
       "      <td>POLYGON ((-103.46319 20.77136, -103.46369 20.7...</td>\n",
       "      <td>Guadalajara</td>\n",
       "    </tr>\n",
       "    <tr>\n",
       "      <th>1</th>\n",
       "      <td>Jalisco</td>\n",
       "      <td>Zapopan</td>\n",
       "      <td>La Cuchilla (Extramuros de Tesistán)</td>\n",
       "      <td>18</td>\n",
       "      <td>8.0</td>\n",
       "      <td>10.0</td>\n",
       "      <td>0.0</td>\n",
       "      <td>0.0</td>\n",
       "      <td>0.0</td>\n",
       "      <td>8.0</td>\n",
       "      <td>...</td>\n",
       "      <td>0299</td>\n",
       "      <td>032</td>\n",
       "      <td>14120</td>\n",
       "      <td>141200062</td>\n",
       "      <td>1412000620299</td>\n",
       "      <td>1412000620299032</td>\n",
       "      <td>Urbana</td>\n",
       "      <td>Típica</td>\n",
       "      <td>POLYGON ((-103.46409 20.77334, -103.46367 20.7...</td>\n",
       "      <td>Guadalajara</td>\n",
       "    </tr>\n",
       "  </tbody>\n",
       "</table>\n",
       "<p>2 rows × 238 columns</p>\n",
       "</div>"
      ],
      "text/plain": [
       "   nom_ent  nom_mun                               nom_loc  pobtot  pobfem  \\\n",
       "0  Jalisco  Zapopan  La Cuchilla (Extramuros de Tesistán)      16     8.0   \n",
       "1  Jalisco  Zapopan  La Cuchilla (Extramuros de Tesistán)      18     8.0   \n",
       "\n",
       "   pobmas  p_0a2  p_0a2_f  p_0a2_m  p_3ymas  ...  cve_ageb  cve_mza  \\\n",
       "0     8.0    0.0      0.0      0.0     16.0  ...      0299      011   \n",
       "1    10.0    0.0      0.0      0.0      8.0  ...      0299      032   \n",
       "\n",
       "   cvegeo_mun  cvegeo_loc    cvegeo_ageb        cvegeo_mza  ambito  tipomza  \\\n",
       "0       14120   141200062  1412000620299  1412000620299011  Urbana   Típica   \n",
       "1       14120   141200062  1412000620299  1412000620299032  Urbana   Típica   \n",
       "\n",
       "                                            geometry         city  \n",
       "0  POLYGON ((-103.46319 20.77136, -103.46369 20.7...  Guadalajara  \n",
       "1  POLYGON ((-103.46409 20.77334, -103.46367 20.7...  Guadalajara  \n",
       "\n",
       "[2 rows x 238 columns]"
      ]
     },
     "execution_count": 18,
     "metadata": {},
     "output_type": "execute_result"
    }
   ],
   "source": [
    "# Database information\n",
    "pop_schema = 'censo'\n",
    "pop_table = 'pobcenso_inegi_20_mzaageb_mza'\n",
    "\n",
    "# Load\n",
    "pop_query = f\"SELECT * FROM {pop_schema}.{pop_table} WHERE \\\"city\\\" LIKE \\'{city}\\'\"\n",
    "pop_mza_gdf_calc = aup.gdf_from_query(pop_query, geometry_col='geometry')\n",
    "\n",
    "# Show\n",
    "print(pop_mza_gdf_calc.crs)\n",
    "print(pop_mza_gdf_calc.dtypes)\n",
    "print(pop_mza_gdf_calc.shape)\n",
    "pop_mza_gdf_calc.head(2)"
   ]
  },
  {
   "cell_type": "markdown",
   "id": "a3c2b5a6-5f09-4089-be00-17c6f11771b2",
   "metadata": {},
   "source": [
    "### __Load data__ - Network"
   ]
  },
  {
   "cell_type": "code",
   "execution_count": 8,
   "id": "38390ca5-567f-426a-83be-31f1d2d2c005",
   "metadata": {},
   "outputs": [],
   "source": [
    "network_dir = first_folder_path + \"data/external/guadalajara_project_network/\""
   ]
  },
  {
   "cell_type": "code",
   "execution_count": 13,
   "id": "ca4d4b24-74b7-4132-84f0-18de7c18e298",
   "metadata": {},
   "outputs": [
    {
     "name": "stdout",
     "output_type": "stream",
     "text": [
      "EPSG:4326\n",
      "osmid               int64\n",
      "ntw_origin         object\n",
      "streets_count       int64\n",
      "x                 float64\n",
      "y                 float64\n",
      "geometry         geometry\n",
      "dtype: object\n",
      "(138597, 6)\n"
     ]
    },
    {
     "data": {
      "text/html": [
       "<div>\n",
       "<style scoped>\n",
       "    .dataframe tbody tr th:only-of-type {\n",
       "        vertical-align: middle;\n",
       "    }\n",
       "\n",
       "    .dataframe tbody tr th {\n",
       "        vertical-align: top;\n",
       "    }\n",
       "\n",
       "    .dataframe thead th {\n",
       "        text-align: right;\n",
       "    }\n",
       "</style>\n",
       "<table border=\"1\" class=\"dataframe\">\n",
       "  <thead>\n",
       "    <tr style=\"text-align: right;\">\n",
       "      <th></th>\n",
       "      <th>osmid</th>\n",
       "      <th>ntw_origin</th>\n",
       "      <th>streets_count</th>\n",
       "      <th>x</th>\n",
       "      <th>y</th>\n",
       "      <th>geometry</th>\n",
       "    </tr>\n",
       "  </thead>\n",
       "  <tbody>\n",
       "    <tr>\n",
       "      <th>0</th>\n",
       "      <td>67637870229114485</td>\n",
       "      <td>ntw_01</td>\n",
       "      <td>3</td>\n",
       "      <td>676378.709485</td>\n",
       "      <td>2.291145e+06</td>\n",
       "      <td>POINT (-103.30631 20.71153)</td>\n",
       "    </tr>\n",
       "    <tr>\n",
       "      <th>1</th>\n",
       "      <td>67531453228992881</td>\n",
       "      <td>ntw_01</td>\n",
       "      <td>3</td>\n",
       "      <td>675314.533972</td>\n",
       "      <td>2.289929e+06</td>\n",
       "      <td>POINT (-103.31665 20.70065)</td>\n",
       "    </tr>\n",
       "  </tbody>\n",
       "</table>\n",
       "</div>"
      ],
      "text/plain": [
       "               osmid ntw_origin  streets_count              x             y  \\\n",
       "0  67637870229114485     ntw_01              3  676378.709485  2.291145e+06   \n",
       "1  67531453228992881     ntw_01              3  675314.533972  2.289929e+06   \n",
       "\n",
       "                      geometry  \n",
       "0  POINT (-103.30631 20.71153)  \n",
       "1  POINT (-103.31665 20.70065)  "
      ]
     },
     "execution_count": 13,
     "metadata": {},
     "output_type": "execute_result"
    }
   ],
   "source": [
    "# Load nodes\n",
    "nodes = gpd.read_file(network_dir + \"guadalajara_nodes_proj_net_final.gpkg\")\n",
    "nodes = nodes_gdl.to_crs(\"EPSG:4326\")\n",
    "\n",
    "# Show\n",
    "print(nodes.crs)\n",
    "print(nodes.dtypes)\n",
    "print(nodes.shape)\n",
    "nodes.head(2)"
   ]
  },
  {
   "cell_type": "code",
   "execution_count": 11,
   "id": "447131fe-b568-4719-8b3f-4ae9a6420958",
   "metadata": {},
   "outputs": [],
   "source": [
    "# Load edges\n",
    "#edges_gdl = gpd.read_file(network_dir + \"guadalajara_edges_proj_net_final.gpkg\")\n",
    "#edges_gdl = edges_gdl.to_crs(\"EPSG:4326\")\n",
    "\n",
    "# Show\n",
    "#print(edges_gdl.crs)\n",
    "#print(edges_gdl.dtypes)\n",
    "#print(edges_gdl.shape)\n",
    "#edges_gdl.head(2)"
   ]
  },
  {
   "cell_type": "markdown",
   "id": "c55c3fdb-5bb0-45b1-9beb-6d082e832601",
   "metadata": {},
   "source": [
    "## Create voronoi polygons using nodes [Takes about +4000s, +1hr]"
   ]
  },
  {
   "cell_type": "code",
   "execution_count": 19,
   "id": "55d174cd-cc50-493c-a6d4-9b86509f9f87",
   "metadata": {},
   "outputs": [
    {
     "name": "stdout",
     "output_type": "stream",
     "text": [
      "--- Creating voronois with nodes osmid data.\n",
      "Error = -0.0%. Admissible.\n",
      "(123827, 2)\n"
     ]
    },
    {
     "data": {
      "text/html": [
       "<div>\n",
       "<style scoped>\n",
       "    .dataframe tbody tr th:only-of-type {\n",
       "        vertical-align: middle;\n",
       "    }\n",
       "\n",
       "    .dataframe tbody tr th {\n",
       "        vertical-align: top;\n",
       "    }\n",
       "\n",
       "    .dataframe thead th {\n",
       "        text-align: right;\n",
       "    }\n",
       "</style>\n",
       "<table border=\"1\" class=\"dataframe\">\n",
       "  <thead>\n",
       "    <tr style=\"text-align: right;\">\n",
       "      <th></th>\n",
       "      <th>osmid</th>\n",
       "      <th>geometry</th>\n",
       "    </tr>\n",
       "  </thead>\n",
       "  <tbody>\n",
       "    <tr>\n",
       "      <th>0</th>\n",
       "      <td>65612775227546601</td>\n",
       "      <td>MULTIPOLYGON (((-103.50246 20.57129, -103.5024...</td>\n",
       "    </tr>\n",
       "    <tr>\n",
       "      <th>1</th>\n",
       "      <td>66939976230232550</td>\n",
       "      <td>MULTIPOLYGON (((-103.37272 20.81077, -103.3728...</td>\n",
       "    </tr>\n",
       "  </tbody>\n",
       "</table>\n",
       "</div>"
      ],
      "text/plain": [
       "               osmid                                           geometry\n",
       "0  65612775227546601  MULTIPOLYGON (((-103.50246 20.57129, -103.5024...\n",
       "1  66939976230232550  MULTIPOLYGON (((-103.37272 20.81077, -103.3728..."
      ]
     },
     "execution_count": 19,
     "metadata": {},
     "output_type": "execute_result"
    }
   ],
   "source": [
    "print(\"--- Creating voronois with nodes osmid data.\")\n",
    "# Create voronois\n",
    "voronois_gdf = aup.voronoi_points_within_aoi(aoi,nodes,'osmid',projected_crs=projected_crs)\n",
    "voronois_gdf = voronois_gdf[['osmid','geometry']]\n",
    "\n",
    "# Show\n",
    "print(voronois_gdf.shape)\n",
    "voronois_gdf.head(2)"
   ]
  },
  {
   "cell_type": "markdown",
   "id": "80fe806c-28f2-49d8-a2da-428eceb242e0",
   "metadata": {},
   "source": [
    "## Save voronoi polygons"
   ]
  },
  {
   "cell_type": "code",
   "execution_count": 28,
   "id": "dbad7642-2431-4e90-9a67-e56ba28d2e37",
   "metadata": {},
   "outputs": [],
   "source": [
    "if local_save:\n",
    "    voronois_gdf.to_file(output_dir+\"voronois_gdf.gpkg\")"
   ]
  },
  {
   "cell_type": "markdown",
   "id": "71ed1157-e338-4785-9598-1fcac84c6f4d",
   "metadata": {},
   "source": [
    "## Spatial intersection of voronoi polygons with blocks"
   ]
  },
  {
   "cell_type": "code",
   "execution_count": 20,
   "id": "c632b101-04cc-4812-9c79-398dd16bd5ed",
   "metadata": {},
   "outputs": [
    {
     "name": "stdout",
     "output_type": "stream",
     "text": [
      "--- Creating spatial join between voronoi polygons and blocks.\n",
      "--- Calculating area_pct that corresponds to each osmid within each block.\n",
      "(336724, 240)\n"
     ]
    },
    {
     "data": {
      "text/html": [
       "<div>\n",
       "<style scoped>\n",
       "    .dataframe tbody tr th:only-of-type {\n",
       "        vertical-align: middle;\n",
       "    }\n",
       "\n",
       "    .dataframe tbody tr th {\n",
       "        vertical-align: top;\n",
       "    }\n",
       "\n",
       "    .dataframe thead th {\n",
       "        text-align: right;\n",
       "    }\n",
       "</style>\n",
       "<table border=\"1\" class=\"dataframe\">\n",
       "  <thead>\n",
       "    <tr style=\"text-align: right;\">\n",
       "      <th></th>\n",
       "      <th>nom_ent</th>\n",
       "      <th>nom_mun</th>\n",
       "      <th>nom_loc</th>\n",
       "      <th>pobtot</th>\n",
       "      <th>pobfem</th>\n",
       "      <th>pobmas</th>\n",
       "      <th>p_0a2</th>\n",
       "      <th>p_0a2_f</th>\n",
       "      <th>p_0a2_m</th>\n",
       "      <th>p_3ymas</th>\n",
       "      <th>...</th>\n",
       "      <th>cvegeo_mun</th>\n",
       "      <th>cvegeo_loc</th>\n",
       "      <th>cvegeo_ageb</th>\n",
       "      <th>cvegeo_mza</th>\n",
       "      <th>ambito</th>\n",
       "      <th>tipomza</th>\n",
       "      <th>city</th>\n",
       "      <th>osmid</th>\n",
       "      <th>geometry</th>\n",
       "      <th>area_pct</th>\n",
       "    </tr>\n",
       "  </thead>\n",
       "  <tbody>\n",
       "    <tr>\n",
       "      <th>0</th>\n",
       "      <td>Jalisco</td>\n",
       "      <td>Zapopan</td>\n",
       "      <td>La Cuchilla (Extramuros de Tesistán)</td>\n",
       "      <td>16</td>\n",
       "      <td>8.0</td>\n",
       "      <td>8.0</td>\n",
       "      <td>0.0</td>\n",
       "      <td>0.0</td>\n",
       "      <td>0.0</td>\n",
       "      <td>16.0</td>\n",
       "      <td>...</td>\n",
       "      <td>14120</td>\n",
       "      <td>141200062</td>\n",
       "      <td>1412000620299</td>\n",
       "      <td>1412000620299011</td>\n",
       "      <td>Urbana</td>\n",
       "      <td>Típica</td>\n",
       "      <td>Guadalajara</td>\n",
       "      <td>65997850229766921</td>\n",
       "      <td>POLYGON ((-103.46318 20.77193, -103.46319 20.7...</td>\n",
       "      <td>0.226193</td>\n",
       "    </tr>\n",
       "    <tr>\n",
       "      <th>1</th>\n",
       "      <td>Jalisco</td>\n",
       "      <td>Zapopan</td>\n",
       "      <td>La Cuchilla (Extramuros de Tesistán)</td>\n",
       "      <td>16</td>\n",
       "      <td>8.0</td>\n",
       "      <td>8.0</td>\n",
       "      <td>0.0</td>\n",
       "      <td>0.0</td>\n",
       "      <td>0.0</td>\n",
       "      <td>16.0</td>\n",
       "      <td>...</td>\n",
       "      <td>14120</td>\n",
       "      <td>141200062</td>\n",
       "      <td>1412000620299</td>\n",
       "      <td>1412000620299011</td>\n",
       "      <td>Urbana</td>\n",
       "      <td>Típica</td>\n",
       "      <td>Guadalajara</td>\n",
       "      <td>65997743229760294</td>\n",
       "      <td>POLYGON ((-103.46319 20.77136, -103.46345 20.7...</td>\n",
       "      <td>0.144230</td>\n",
       "    </tr>\n",
       "  </tbody>\n",
       "</table>\n",
       "<p>2 rows × 240 columns</p>\n",
       "</div>"
      ],
      "text/plain": [
       "   nom_ent  nom_mun                               nom_loc  pobtot  pobfem  \\\n",
       "0  Jalisco  Zapopan  La Cuchilla (Extramuros de Tesistán)      16     8.0   \n",
       "1  Jalisco  Zapopan  La Cuchilla (Extramuros de Tesistán)      16     8.0   \n",
       "\n",
       "   pobmas  p_0a2  p_0a2_f  p_0a2_m  p_3ymas  ...  cvegeo_mun  cvegeo_loc  \\\n",
       "0     8.0    0.0      0.0      0.0     16.0  ...       14120   141200062   \n",
       "1     8.0    0.0      0.0      0.0     16.0  ...       14120   141200062   \n",
       "\n",
       "     cvegeo_ageb        cvegeo_mza  ambito  tipomza         city  \\\n",
       "0  1412000620299  1412000620299011  Urbana   Típica  Guadalajara   \n",
       "1  1412000620299  1412000620299011  Urbana   Típica  Guadalajara   \n",
       "\n",
       "               osmid                                           geometry  \\\n",
       "0  65997850229766921  POLYGON ((-103.46318 20.77193, -103.46319 20.7...   \n",
       "1  65997743229760294  POLYGON ((-103.46319 20.77136, -103.46345 20.7...   \n",
       "\n",
       "   area_pct  \n",
       "0  0.226193  \n",
       "1  0.144230  \n",
       "\n",
       "[2 rows x 240 columns]"
      ]
     },
     "execution_count": 20,
     "metadata": {},
     "output_type": "execute_result"
    }
   ],
   "source": [
    "# ------------------- (Finds area_pct, used to distribute pop data)\n",
    "print(\"--- Creating spatial join between voronoi polygons and blocks.\")\n",
    "# Calculate total block area\n",
    "pop_mza_gdf_calc = pop_mza_gdf_calc.to_crs(projected_crs)\n",
    "pop_mza_gdf_calc['area_mza'] = pop_mza_gdf_calc.geometry.area\n",
    "pop_mza_gdf_calc = pop_mza_gdf_calc.to_crs(\"EPSG:4326\")\n",
    "# Overlay blocks with voronoi\n",
    "# (Spatial intersection, creates split blocks with data from the original block \n",
    "#  and the voronoi poly it falls in)\n",
    "mza_voronoi = gpd.overlay(df1=pop_mza_gdf_calc, df2=voronois_gdf, how=\"intersection\")\n",
    "print(\"--- Calculating area_pct that corresponds to each osmid within each block.\")\n",
    "# Calculate pct of area of each block that falls in any given osmid voronoi polygon\n",
    "mza_voronoi = mza_voronoi.to_crs(\"EPSG:6372\")\n",
    "mza_voronoi['area_voronoi'] = mza_voronoi.geometry.area\n",
    "mza_voronoi = mza_voronoi.to_crs(\"EPSG:4326\")\n",
    "mza_voronoi['area_pct'] = mza_voronoi['area_voronoi']/mza_voronoi['area_mza']\n",
    "# Drop used columns\n",
    "mza_voronoi.drop(columns=['area_mza','area_voronoi'],inplace=True)\n",
    "\n",
    "# Show\n",
    "print(mza_voronoi.shape)\n",
    "mza_voronoi.head(2)"
   ]
  },
  {
   "cell_type": "markdown",
   "id": "b14ba8dd-c573-4915-9ef3-d39987d2896b",
   "metadata": {},
   "source": [
    "## Group pop data that corresponds to each node"
   ]
  },
  {
   "cell_type": "code",
   "execution_count": 22,
   "id": "1e83716f-bd20-405e-9f79-bb5d7b54bed9",
   "metadata": {},
   "outputs": [
    {
     "name": "stdout",
     "output_type": "stream",
     "text": [
      "--- Adding pop data by node.\n",
      "--- Distributed block data to nodes, total population of 4970593.798612511 for area of interest.\n"
     ]
    }
   ],
   "source": [
    "# ------------------- (Groups mza_voronoi data by osmid)\n",
    "print(\"--- Adding pop data by node.\")\n",
    "# List is similar to columns_of_interest inside function calculate_censo_nan_values_v1\n",
    "columns_of_interest = ['pobtot','pobfem','pobmas',\n",
    "                       'p_0a2','p_0a2_f','p_0a2_m',\n",
    "                       'p_3a5','p_3a5_f','p_3a5_m',\n",
    "                       'p_6a11','p_6a11_f','p_6a11_m',\n",
    "                       'p_12a14','p_12a14_f','p_12a14_m',\n",
    "                       'p_15a17','p_15a17_f','p_15a17_m',\n",
    "                       'p_18a24','p_18a24_f','p_18a24_m',\n",
    "                       'p_60ymas','p_60ymas_f','p_60ymas_m',\n",
    "                       'p_3ymas','p_3ymas_f','p_3ymas_m',\n",
    "                       'p_12ymas','p_12ymas_f','p_12ymas_m',\n",
    "                       'p_15ymas','p_15ymas_f','p_15ymas_m',\n",
    "                       'p_18ymas','p_18ymas_f','p_18ymas_m',\n",
    "                       'pob0_14','pob15_64','pob65_mas']\n",
    "if year == \"2010\":\n",
    "    columns_of_interest.append('pcon_lim')\n",
    "elif year == \"2020\":\n",
    "    columns_of_interest.append('pcon_disc')\n",
    "\n",
    "# Create pop_nodes_gdf (Will store nodes pop output by node) from nodes gdf.\n",
    "pop_nodes_gdf = nodes[['osmid','geometry']].copy()\n",
    "\n",
    "# For each column, sum pop data by osmid (Distributing pop data by considering pct of area of original block) and assigning it to its node\n",
    "for col in columns_of_interest:\n",
    "    # Turn column to numeric\n",
    "    mza_voronoi[col] = pd.to_numeric(mza_voronoi[col])\n",
    "    # Calculate pop data proportionaly to pct of overlayed voronoi area relative to block area\n",
    "    mza_voronoi[f'voronoi_{col}'] = mza_voronoi[col] * mza_voronoi['area_pct']\n",
    "    # Group data by osmid\n",
    "    osmid_grouped_data = mza_voronoi.groupby('osmid').agg({f'voronoi_{col}':np.sum})\n",
    "    # Merge data to nodes_gdf\n",
    "    osmid_grouped_data.reset_index(inplace=True)\n",
    "    pop_nodes_gdf = pd.merge(pop_nodes_gdf, osmid_grouped_data, on='osmid')\n",
    "    pop_nodes_gdf.rename(columns={f'voronoi_{col}':col},inplace=True)\n",
    "print(f\"--- Distributed block data to nodes, total population of {pop_nodes_gdf['pobtot'].sum()} for area of interest.\")"
   ]
  },
  {
   "cell_type": "code",
   "execution_count": 26,
   "id": "f156a54d-e4ee-45ab-9de4-7c95d31fc550",
   "metadata": {},
   "outputs": [
    {
     "name": "stdout",
     "output_type": "stream",
     "text": [
      "(123827, 43)\n"
     ]
    },
    {
     "data": {
      "text/html": [
       "<div>\n",
       "<style scoped>\n",
       "    .dataframe tbody tr th:only-of-type {\n",
       "        vertical-align: middle;\n",
       "    }\n",
       "\n",
       "    .dataframe tbody tr th {\n",
       "        vertical-align: top;\n",
       "    }\n",
       "\n",
       "    .dataframe thead th {\n",
       "        text-align: right;\n",
       "    }\n",
       "</style>\n",
       "<table border=\"1\" class=\"dataframe\">\n",
       "  <thead>\n",
       "    <tr style=\"text-align: right;\">\n",
       "      <th></th>\n",
       "      <th>osmid</th>\n",
       "      <th>geometry</th>\n",
       "      <th>pobtot</th>\n",
       "      <th>pobfem</th>\n",
       "      <th>pobmas</th>\n",
       "      <th>p_0a2</th>\n",
       "      <th>p_0a2_f</th>\n",
       "      <th>p_0a2_m</th>\n",
       "      <th>p_3a5</th>\n",
       "      <th>p_3a5_f</th>\n",
       "      <th>...</th>\n",
       "      <th>p_15ymas_f</th>\n",
       "      <th>p_15ymas_m</th>\n",
       "      <th>p_18ymas</th>\n",
       "      <th>p_18ymas_f</th>\n",
       "      <th>p_18ymas_m</th>\n",
       "      <th>pob0_14</th>\n",
       "      <th>pob15_64</th>\n",
       "      <th>pob65_mas</th>\n",
       "      <th>pcon_disc</th>\n",
       "      <th>dens_pob_ha</th>\n",
       "    </tr>\n",
       "  </thead>\n",
       "  <tbody>\n",
       "    <tr>\n",
       "      <th>0</th>\n",
       "      <td>67637870229114485</td>\n",
       "      <td>POINT (-103.30631 20.71153)</td>\n",
       "      <td>74.258051</td>\n",
       "      <td>39.142375</td>\n",
       "      <td>35.115676</td>\n",
       "      <td>4.018620</td>\n",
       "      <td>2.771184</td>\n",
       "      <td>1.247437</td>\n",
       "      <td>3.518030</td>\n",
       "      <td>2.158454</td>\n",
       "      <td>...</td>\n",
       "      <td>29.709683</td>\n",
       "      <td>28.169779</td>\n",
       "      <td>54.974162</td>\n",
       "      <td>28.103850</td>\n",
       "      <td>26.870312</td>\n",
       "      <td>16.378589</td>\n",
       "      <td>51.800630</td>\n",
       "      <td>6.078832</td>\n",
       "      <td>2.038236</td>\n",
       "      <td>200.003244</td>\n",
       "    </tr>\n",
       "    <tr>\n",
       "      <th>1</th>\n",
       "      <td>67531453228992881</td>\n",
       "      <td>POINT (-103.31665 20.70065)</td>\n",
       "      <td>178.698417</td>\n",
       "      <td>94.179297</td>\n",
       "      <td>84.519120</td>\n",
       "      <td>4.926541</td>\n",
       "      <td>3.027571</td>\n",
       "      <td>1.898969</td>\n",
       "      <td>6.608257</td>\n",
       "      <td>2.880036</td>\n",
       "      <td>...</td>\n",
       "      <td>75.416105</td>\n",
       "      <td>68.066850</td>\n",
       "      <td>133.803101</td>\n",
       "      <td>70.732529</td>\n",
       "      <td>63.070571</td>\n",
       "      <td>35.215463</td>\n",
       "      <td>118.211579</td>\n",
       "      <td>25.271376</td>\n",
       "      <td>5.402879</td>\n",
       "      <td>318.299935</td>\n",
       "    </tr>\n",
       "  </tbody>\n",
       "</table>\n",
       "<p>2 rows × 43 columns</p>\n",
       "</div>"
      ],
      "text/plain": [
       "               osmid                     geometry      pobtot     pobfem  \\\n",
       "0  67637870229114485  POINT (-103.30631 20.71153)   74.258051  39.142375   \n",
       "1  67531453228992881  POINT (-103.31665 20.70065)  178.698417  94.179297   \n",
       "\n",
       "      pobmas     p_0a2   p_0a2_f   p_0a2_m     p_3a5   p_3a5_f  ...  \\\n",
       "0  35.115676  4.018620  2.771184  1.247437  3.518030  2.158454  ...   \n",
       "1  84.519120  4.926541  3.027571  1.898969  6.608257  2.880036  ...   \n",
       "\n",
       "   p_15ymas_f  p_15ymas_m    p_18ymas  p_18ymas_f  p_18ymas_m    pob0_14  \\\n",
       "0   29.709683   28.169779   54.974162   28.103850   26.870312  16.378589   \n",
       "1   75.416105   68.066850  133.803101   70.732529   63.070571  35.215463   \n",
       "\n",
       "     pob15_64  pob65_mas  pcon_disc  dens_pob_ha  \n",
       "0   51.800630   6.078832   2.038236   200.003244  \n",
       "1  118.211579  25.271376   5.402879   318.299935  \n",
       "\n",
       "[2 rows x 43 columns]"
      ]
     },
     "execution_count": 26,
     "metadata": {},
     "output_type": "execute_result"
    }
   ],
   "source": [
    "# Show\n",
    "print(pop_nodes_gdf.shape)\n",
    "pop_nodes_gdf.head(2)"
   ]
  },
  {
   "cell_type": "markdown",
   "id": "e5cb7c9f-d010-4e01-942b-e40c85f1a180",
   "metadata": {},
   "source": [
    "## Calculate pop density in nodes (Using it's voronoi polygon's area)"
   ]
  },
  {
   "cell_type": "code",
   "execution_count": 23,
   "id": "bae1ad7a-080c-4a4e-9b56-18f3dc0da44f",
   "metadata": {},
   "outputs": [
    {
     "name": "stdout",
     "output_type": "stream",
     "text": [
      "--- Added density to nodes using each voronoi polygon's area.\n"
     ]
    }
   ],
   "source": [
    "# Calculate whole voronoi's area\n",
    "voronois_gdf = voronois_gdf.to_crs(\"EPSG:6372\")\n",
    "voronois_gdf['area_has'] = voronois_gdf.area/10000\n",
    "voronois_gdf = voronois_gdf.to_crs(\"EPSG:4326\")\n",
    "# Merge poptot data by node with the whole voronoi polygon using 'osmid'\n",
    "dens_voronoi = pd.merge(pop_nodes_gdf[['osmid','pobtot']], voronois_gdf[['osmid','area_has']], on='osmid')\n",
    "# Calculate density\n",
    "dens_voronoi['dens_pob_ha'] = dens_voronoi['pobtot'] / dens_voronoi['area_has']\n",
    "# Merge back that density data to nodes_gdf using 'osmid'\n",
    "pop_nodes_gdf = pd.merge(pop_nodes_gdf, dens_voronoi[['osmid','dens_pob_ha']], on='osmid')\n",
    "print(f\"--- Added density to nodes using each voronoi polygon's area.\")"
   ]
  },
  {
   "cell_type": "code",
   "execution_count": 25,
   "id": "1668d7cd-a9c1-4076-a4be-40219b6183f6",
   "metadata": {},
   "outputs": [
    {
     "name": "stdout",
     "output_type": "stream",
     "text": [
      "(123827, 43)\n"
     ]
    },
    {
     "data": {
      "text/html": [
       "<div>\n",
       "<style scoped>\n",
       "    .dataframe tbody tr th:only-of-type {\n",
       "        vertical-align: middle;\n",
       "    }\n",
       "\n",
       "    .dataframe tbody tr th {\n",
       "        vertical-align: top;\n",
       "    }\n",
       "\n",
       "    .dataframe thead th {\n",
       "        text-align: right;\n",
       "    }\n",
       "</style>\n",
       "<table border=\"1\" class=\"dataframe\">\n",
       "  <thead>\n",
       "    <tr style=\"text-align: right;\">\n",
       "      <th></th>\n",
       "      <th>osmid</th>\n",
       "      <th>geometry</th>\n",
       "      <th>pobtot</th>\n",
       "      <th>pobfem</th>\n",
       "      <th>pobmas</th>\n",
       "      <th>p_0a2</th>\n",
       "      <th>p_0a2_f</th>\n",
       "      <th>p_0a2_m</th>\n",
       "      <th>p_3a5</th>\n",
       "      <th>p_3a5_f</th>\n",
       "      <th>...</th>\n",
       "      <th>p_15ymas_f</th>\n",
       "      <th>p_15ymas_m</th>\n",
       "      <th>p_18ymas</th>\n",
       "      <th>p_18ymas_f</th>\n",
       "      <th>p_18ymas_m</th>\n",
       "      <th>pob0_14</th>\n",
       "      <th>pob15_64</th>\n",
       "      <th>pob65_mas</th>\n",
       "      <th>pcon_disc</th>\n",
       "      <th>dens_pob_ha</th>\n",
       "    </tr>\n",
       "  </thead>\n",
       "  <tbody>\n",
       "    <tr>\n",
       "      <th>0</th>\n",
       "      <td>67637870229114485</td>\n",
       "      <td>POINT (-103.30631 20.71153)</td>\n",
       "      <td>74.258051</td>\n",
       "      <td>39.142375</td>\n",
       "      <td>35.115676</td>\n",
       "      <td>4.018620</td>\n",
       "      <td>2.771184</td>\n",
       "      <td>1.247437</td>\n",
       "      <td>3.518030</td>\n",
       "      <td>2.158454</td>\n",
       "      <td>...</td>\n",
       "      <td>29.709683</td>\n",
       "      <td>28.169779</td>\n",
       "      <td>54.974162</td>\n",
       "      <td>28.103850</td>\n",
       "      <td>26.870312</td>\n",
       "      <td>16.378589</td>\n",
       "      <td>51.800630</td>\n",
       "      <td>6.078832</td>\n",
       "      <td>2.038236</td>\n",
       "      <td>200.003244</td>\n",
       "    </tr>\n",
       "    <tr>\n",
       "      <th>1</th>\n",
       "      <td>67531453228992881</td>\n",
       "      <td>POINT (-103.31665 20.70065)</td>\n",
       "      <td>178.698417</td>\n",
       "      <td>94.179297</td>\n",
       "      <td>84.519120</td>\n",
       "      <td>4.926541</td>\n",
       "      <td>3.027571</td>\n",
       "      <td>1.898969</td>\n",
       "      <td>6.608257</td>\n",
       "      <td>2.880036</td>\n",
       "      <td>...</td>\n",
       "      <td>75.416105</td>\n",
       "      <td>68.066850</td>\n",
       "      <td>133.803101</td>\n",
       "      <td>70.732529</td>\n",
       "      <td>63.070571</td>\n",
       "      <td>35.215463</td>\n",
       "      <td>118.211579</td>\n",
       "      <td>25.271376</td>\n",
       "      <td>5.402879</td>\n",
       "      <td>318.299935</td>\n",
       "    </tr>\n",
       "  </tbody>\n",
       "</table>\n",
       "<p>2 rows × 43 columns</p>\n",
       "</div>"
      ],
      "text/plain": [
       "               osmid                     geometry      pobtot     pobfem  \\\n",
       "0  67637870229114485  POINT (-103.30631 20.71153)   74.258051  39.142375   \n",
       "1  67531453228992881  POINT (-103.31665 20.70065)  178.698417  94.179297   \n",
       "\n",
       "      pobmas     p_0a2   p_0a2_f   p_0a2_m     p_3a5   p_3a5_f  ...  \\\n",
       "0  35.115676  4.018620  2.771184  1.247437  3.518030  2.158454  ...   \n",
       "1  84.519120  4.926541  3.027571  1.898969  6.608257  2.880036  ...   \n",
       "\n",
       "   p_15ymas_f  p_15ymas_m    p_18ymas  p_18ymas_f  p_18ymas_m    pob0_14  \\\n",
       "0   29.709683   28.169779   54.974162   28.103850   26.870312  16.378589   \n",
       "1   75.416105   68.066850  133.803101   70.732529   63.070571  35.215463   \n",
       "\n",
       "     pob15_64  pob65_mas  pcon_disc  dens_pob_ha  \n",
       "0   51.800630   6.078832   2.038236   200.003244  \n",
       "1  118.211579  25.271376   5.402879   318.299935  \n",
       "\n",
       "[2 rows x 43 columns]"
      ]
     },
     "execution_count": 25,
     "metadata": {},
     "output_type": "execute_result"
    }
   ],
   "source": [
    "# Show\n",
    "print(pop_nodes_gdf.shape)\n",
    "pop_nodes_gdf.head(2)"
   ]
  },
  {
   "cell_type": "markdown",
   "id": "4a27c107-47ac-46d5-9b0c-fa168c277a06",
   "metadata": {},
   "source": [
    "## Save nodes with pop data"
   ]
  },
  {
   "cell_type": "code",
   "execution_count": 29,
   "id": "f5656430-4604-4095-b013-70c461625730",
   "metadata": {},
   "outputs": [],
   "source": [
    "if local_save:\n",
    "    pop_nodes_gdf.to_file(output_dir+\"pop_nodes_gdf.gpkg\")"
   ]
  },
  {
   "cell_type": "code",
   "execution_count": null,
   "id": "84ba7a37-1622-4919-9964-641b482ab026",
   "metadata": {},
   "outputs": [],
   "source": []
  }
 ],
 "metadata": {
  "kernelspec": {
   "display_name": "Python 3 (ipykernel)",
   "language": "python",
   "name": "python3"
  },
  "language_info": {
   "codemirror_mode": {
    "name": "ipython",
    "version": 3
   },
   "file_extension": ".py",
   "mimetype": "text/x-python",
   "name": "python",
   "nbconvert_exporter": "python",
   "pygments_lexer": "ipython3",
   "version": "3.12.3"
  }
 },
 "nbformat": 4,
 "nbformat_minor": 5
}
