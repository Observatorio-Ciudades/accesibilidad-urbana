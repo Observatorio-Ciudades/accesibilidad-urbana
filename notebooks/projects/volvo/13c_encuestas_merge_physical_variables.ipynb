{
 "cells": [
  {
   "cell_type": "markdown",
   "id": "7bca96de-0b11-4ef5-bda0-87c9820205d7",
   "metadata": {},
   "source": [
    "# 13c_encuestas Merge physical variables"
   ]
  },
  {
   "cell_type": "markdown",
   "id": "75fb5240-9744-482f-9394-2b61a9d632f7",
   "metadata": {},
   "source": [
    "This notebook takes __rutas_edges.gpkg__ (a layer created manually in GIS by selecting (For each poll whose route was manually drawn) the edges from edges_var_gdl were the route passed) and identifies the original edges from edges_var_gdl.gpkg in order to merge in the output Poll code and variables data for each edge.\n",
    "\n",
    "* __Output: rutas_edges_var.gpkg__ A layer containing poll code (e.g. JC1V008) and variables data for each edge."
   ]
  },
  {
   "cell_type": "markdown",
   "id": "923a16f4-245c-4427-bcac-8daf11c2899a",
   "metadata": {},
   "source": [
    "## Import libraries"
   ]
  },
  {
   "cell_type": "code",
   "execution_count": 1,
   "id": "32e0d412-aa80-45fd-bf06-2f716ff3c5cd",
   "metadata": {},
   "outputs": [],
   "source": [
    "first_folder_path = '../../../'"
   ]
  },
  {
   "cell_type": "code",
   "execution_count": 2,
   "id": "ea03eec2-27df-4a73-b1bd-379366fa1ebd",
   "metadata": {},
   "outputs": [],
   "source": [
    "import warnings\n",
    "warnings.filterwarnings('ignore')\n",
    "import geopandas as gpd\n",
    "from geopandas.tools import overlay\n",
    "import matplotlib.pyplot as plt\n",
    "\n",
    "import pandas as pd\n",
    "import numpy as np\n",
    "import seaborn as sns\n",
    "import random\n",
    "import scipy.stats as stats\n",
    "\n",
    "import os\n",
    "import sys\n",
    "module_path = os.path.abspath(os.path.join(first_folder_path))\n",
    "if module_path not in sys.path:\n",
    "    sys.path.append(module_path)\n",
    "    import aup\n",
    "else:\n",
    "    import aup"
   ]
  },
  {
   "cell_type": "markdown",
   "id": "ef00ca34-aa5d-4e39-8b9d-e30ad49cc92c",
   "metadata": {
    "jp-MarkdownHeadingCollapsed": true
   },
   "source": [
    "## Load physical variables and create unique edge_id [Canceled]"
   ]
  },
  {
   "cell_type": "code",
   "execution_count": 5,
   "id": "208d3546-7942-44f4-91e4-ad210c402baa",
   "metadata": {},
   "outputs": [],
   "source": [
    "def create_unique_edge_id(edges, order='uvkey'):\n",
    "    \"\"\"\n",
    "    Create a unique edge_id based on the 'u', 'v' and 'key' columns of the edges GeoDataFrame.\n",
    "\n",
    "    Args:\n",
    "        edges (geopandas.GeoDataFrame): GeoDataFrame containing the edges of the network.\n",
    "        order (str, optional): Order for the unique id. Defaults to 'uvkey'.\n",
    "\n",
    "    Returns:\n",
    "        geopandas.GeoDataFrame: GeoDataFrame with the unique edge_id column.\n",
    "    \"\"\"\n",
    "    # Turn ID data to string\n",
    "    edges['u'] = edges['u'].astype('str')\n",
    "    edges['v'] = edges['v'].astype('str')\n",
    "    edges['key'] = edges['key'].astype('str')\n",
    "    # Concatenate ID data to create unique edge_id\n",
    "    if order == 'uvkey':\n",
    "        edges['edge_id'] = edges['u']+edges['v']+edges['key']\n",
    "    elif order == 'vukey':\n",
    "        edges['edge_id'] = edges['v']+edges['u']+edges['key']\n",
    "    # Turn ID data back to int\n",
    "    edges['u'] = edges['u'].astype('int')\n",
    "    edges['v'] = edges['v'].astype('int')\n",
    "    edges['key'] = edges['key'].astype('int')\n",
    "\n",
    "    return edges"
   ]
  },
  {
   "cell_type": "code",
   "execution_count": 6,
   "id": "5a3ff176-dd13-4fff-b2a0-947e6b418d7f",
   "metadata": {},
   "outputs": [
    {
     "name": "stdout",
     "output_type": "stream",
     "text": [
      "(197439, 22)\n"
     ]
    },
    {
     "data": {
      "text/html": [
       "<div>\n",
       "<style scoped>\n",
       "    .dataframe tbody tr th:only-of-type {\n",
       "        vertical-align: middle;\n",
       "    }\n",
       "\n",
       "    .dataframe tbody tr th {\n",
       "        vertical-align: top;\n",
       "    }\n",
       "\n",
       "    .dataframe thead th {\n",
       "        text-align: right;\n",
       "    }\n",
       "</style>\n",
       "<table border=\"1\" class=\"dataframe\">\n",
       "  <thead>\n",
       "    <tr style=\"text-align: right;\">\n",
       "      <th></th>\n",
       "      <th>u</th>\n",
       "      <th>v</th>\n",
       "      <th>key</th>\n",
       "      <th>grade_abs</th>\n",
       "      <th>ndvi_mean</th>\n",
       "      <th>entropy</th>\n",
       "      <th>sidewalk_available</th>\n",
       "      <th>no_sidewalk_available</th>\n",
       "      <th>banqueta_pct</th>\n",
       "      <th>pobtot_u</th>\n",
       "      <th>...</th>\n",
       "      <th>average_population</th>\n",
       "      <th>dens_u</th>\n",
       "      <th>dens_v</th>\n",
       "      <th>average_density</th>\n",
       "      <th>interdens_u</th>\n",
       "      <th>interdens_v</th>\n",
       "      <th>average_intersdens</th>\n",
       "      <th>geometry</th>\n",
       "      <th>unique_edge_id</th>\n",
       "      <th>edge_id</th>\n",
       "    </tr>\n",
       "  </thead>\n",
       "  <tbody>\n",
       "    <tr>\n",
       "      <th>0</th>\n",
       "      <td>67637870229114485</td>\n",
       "      <td>67640019229114922</td>\n",
       "      <td>0</td>\n",
       "      <td>0.0</td>\n",
       "      <td>0.118923</td>\n",
       "      <td>1.144632</td>\n",
       "      <td>179.791185</td>\n",
       "      <td>69.176583</td>\n",
       "      <td>0.722146</td>\n",
       "      <td>80.0</td>\n",
       "      <td>...</td>\n",
       "      <td>53.5</td>\n",
       "      <td>153.566318</td>\n",
       "      <td>111.104363</td>\n",
       "      <td>132.335341</td>\n",
       "      <td>19.498764</td>\n",
       "      <td>19.071526</td>\n",
       "      <td>19.285145</td>\n",
       "      <td>MULTILINESTRING ((676378.709 2291144.858, 6763...</td>\n",
       "      <td>0         67637870229114485\\n1         6764001...</td>\n",
       "      <td>67637870229114485676400192291149220</td>\n",
       "    </tr>\n",
       "    <tr>\n",
       "      <th>1</th>\n",
       "      <td>67640019229114922</td>\n",
       "      <td>67640526229117504</td>\n",
       "      <td>0</td>\n",
       "      <td>0.0</td>\n",
       "      <td>0.188798</td>\n",
       "      <td>0.317370</td>\n",
       "      <td>181.014513</td>\n",
       "      <td>68.547498</td>\n",
       "      <td>0.725329</td>\n",
       "      <td>27.0</td>\n",
       "      <td>...</td>\n",
       "      <td>16.0</td>\n",
       "      <td>111.104363</td>\n",
       "      <td>31.101049</td>\n",
       "      <td>71.102706</td>\n",
       "      <td>19.071526</td>\n",
       "      <td>19.041632</td>\n",
       "      <td>19.056579</td>\n",
       "      <td>MULTILINESTRING ((676400.196 2291149.223, 6764...</td>\n",
       "      <td>0         67637870229114485\\n1         6764001...</td>\n",
       "      <td>67640019229114922676405262291175040</td>\n",
       "    </tr>\n",
       "  </tbody>\n",
       "</table>\n",
       "<p>2 rows × 22 columns</p>\n",
       "</div>"
      ],
      "text/plain": [
       "                   u                  v  key  grade_abs  ndvi_mean   entropy  \\\n",
       "0  67637870229114485  67640019229114922    0        0.0   0.118923  1.144632   \n",
       "1  67640019229114922  67640526229117504    0        0.0   0.188798  0.317370   \n",
       "\n",
       "   sidewalk_available  no_sidewalk_available  banqueta_pct  pobtot_u  ...  \\\n",
       "0          179.791185              69.176583      0.722146      80.0  ...   \n",
       "1          181.014513              68.547498      0.725329      27.0  ...   \n",
       "\n",
       "   average_population      dens_u      dens_v  average_density  interdens_u  \\\n",
       "0                53.5  153.566318  111.104363       132.335341    19.498764   \n",
       "1                16.0  111.104363   31.101049        71.102706    19.071526   \n",
       "\n",
       "   interdens_v  average_intersdens  \\\n",
       "0    19.071526           19.285145   \n",
       "1    19.041632           19.056579   \n",
       "\n",
       "                                            geometry  \\\n",
       "0  MULTILINESTRING ((676378.709 2291144.858, 6763...   \n",
       "1  MULTILINESTRING ((676400.196 2291149.223, 6764...   \n",
       "\n",
       "                                      unique_edge_id  \\\n",
       "0  0         67637870229114485\\n1         6764001...   \n",
       "1  0         67637870229114485\\n1         6764001...   \n",
       "\n",
       "                               edge_id  \n",
       "0  67637870229114485676400192291149220  \n",
       "1  67640019229114922676405262291175040  \n",
       "\n",
       "[2 rows x 22 columns]"
      ]
     },
     "execution_count": 6,
     "metadata": {},
     "output_type": "execute_result"
    }
   ],
   "source": [
    "edges_var_gdl = create_unique_edge_id(edges_var_gdl)\n",
    "\n",
    "# Show\n",
    "print(edges_var_gdl.shape)\n",
    "edges_var_gdl.head(2)"
   ]
  },
  {
   "cell_type": "code",
   "execution_count": 7,
   "id": "61a4a21d-2de7-4cb8-bcfa-cc0828c442e7",
   "metadata": {},
   "outputs": [],
   "source": [
    "#edges_var_gdl.to_file(first_folder_path + f\"data/processed/volvo/edges_var_gdl/edges_var_gdl_id.gpkg\")"
   ]
  },
  {
   "cell_type": "markdown",
   "id": "899e521c-9ad5-4f3a-b2e6-89145354160d",
   "metadata": {},
   "source": [
    "## Merge physical variables (edges) with edges that have route codes (Manually selected following coincidence with manually drawn routes)"
   ]
  },
  {
   "cell_type": "markdown",
   "id": "ced04fbd-387d-473d-9e9f-d43f5d177de2",
   "metadata": {},
   "source": [
    "### __Load data__ - Physical variables"
   ]
  },
  {
   "cell_type": "code",
   "execution_count": 3,
   "id": "c494fc61-5c08-4129-835d-b9c674b23fcd",
   "metadata": {},
   "outputs": [
    {
     "name": "stdout",
     "output_type": "stream",
     "text": [
      "EPSG:32613\n",
      "(197439, 20)\n"
     ]
    },
    {
     "data": {
      "text/html": [
       "<div>\n",
       "<style scoped>\n",
       "    .dataframe tbody tr th:only-of-type {\n",
       "        vertical-align: middle;\n",
       "    }\n",
       "\n",
       "    .dataframe tbody tr th {\n",
       "        vertical-align: top;\n",
       "    }\n",
       "\n",
       "    .dataframe thead th {\n",
       "        text-align: right;\n",
       "    }\n",
       "</style>\n",
       "<table border=\"1\" class=\"dataframe\">\n",
       "  <thead>\n",
       "    <tr style=\"text-align: right;\">\n",
       "      <th></th>\n",
       "      <th>u</th>\n",
       "      <th>v</th>\n",
       "      <th>key</th>\n",
       "      <th>grade_abs</th>\n",
       "      <th>ndvi_mean</th>\n",
       "      <th>entropy</th>\n",
       "      <th>sidewalk_available</th>\n",
       "      <th>no_sidewalk_available</th>\n",
       "      <th>banqueta_pct</th>\n",
       "      <th>pobtot_u</th>\n",
       "      <th>pobtot_v</th>\n",
       "      <th>total_pobtot</th>\n",
       "      <th>average_population</th>\n",
       "      <th>dens_u</th>\n",
       "      <th>dens_v</th>\n",
       "      <th>average_density</th>\n",
       "      <th>interdens_u</th>\n",
       "      <th>interdens_v</th>\n",
       "      <th>average_intersdens</th>\n",
       "      <th>geometry</th>\n",
       "    </tr>\n",
       "  </thead>\n",
       "  <tbody>\n",
       "    <tr>\n",
       "      <th>0</th>\n",
       "      <td>67637870229114485</td>\n",
       "      <td>67640019229114922</td>\n",
       "      <td>0</td>\n",
       "      <td>0.0</td>\n",
       "      <td>0.118923</td>\n",
       "      <td>1.144632</td>\n",
       "      <td>179.791185</td>\n",
       "      <td>69.176583</td>\n",
       "      <td>0.722146</td>\n",
       "      <td>80.0</td>\n",
       "      <td>27.0</td>\n",
       "      <td>107.0</td>\n",
       "      <td>53.5</td>\n",
       "      <td>153.566318</td>\n",
       "      <td>111.104363</td>\n",
       "      <td>132.335341</td>\n",
       "      <td>19.498764</td>\n",
       "      <td>19.071526</td>\n",
       "      <td>19.285145</td>\n",
       "      <td>MULTILINESTRING ((676378.709 2291144.858, 6763...</td>\n",
       "    </tr>\n",
       "    <tr>\n",
       "      <th>1</th>\n",
       "      <td>67640019229114922</td>\n",
       "      <td>67640526229117504</td>\n",
       "      <td>0</td>\n",
       "      <td>0.0</td>\n",
       "      <td>0.188798</td>\n",
       "      <td>0.317370</td>\n",
       "      <td>181.014513</td>\n",
       "      <td>68.547498</td>\n",
       "      <td>0.725329</td>\n",
       "      <td>27.0</td>\n",
       "      <td>5.0</td>\n",
       "      <td>32.0</td>\n",
       "      <td>16.0</td>\n",
       "      <td>111.104363</td>\n",
       "      <td>31.101049</td>\n",
       "      <td>71.102706</td>\n",
       "      <td>19.071526</td>\n",
       "      <td>19.041632</td>\n",
       "      <td>19.056579</td>\n",
       "      <td>MULTILINESTRING ((676400.196 2291149.223, 6764...</td>\n",
       "    </tr>\n",
       "  </tbody>\n",
       "</table>\n",
       "</div>"
      ],
      "text/plain": [
       "                   u                  v  key  grade_abs  ndvi_mean   entropy   \n",
       "0  67637870229114485  67640019229114922    0        0.0   0.118923  1.144632  \\\n",
       "1  67640019229114922  67640526229117504    0        0.0   0.188798  0.317370   \n",
       "\n",
       "   sidewalk_available  no_sidewalk_available  banqueta_pct  pobtot_u   \n",
       "0          179.791185              69.176583      0.722146      80.0  \\\n",
       "1          181.014513              68.547498      0.725329      27.0   \n",
       "\n",
       "   pobtot_v  total_pobtot  average_population      dens_u      dens_v   \n",
       "0      27.0         107.0                53.5  153.566318  111.104363  \\\n",
       "1       5.0          32.0                16.0  111.104363   31.101049   \n",
       "\n",
       "   average_density  interdens_u  interdens_v  average_intersdens   \n",
       "0       132.335341    19.498764    19.071526           19.285145  \\\n",
       "1        71.102706    19.071526    19.041632           19.056579   \n",
       "\n",
       "                                            geometry  \n",
       "0  MULTILINESTRING ((676378.709 2291144.858, 6763...  \n",
       "1  MULTILINESTRING ((676400.196 2291149.223, 6764...  "
      ]
     },
     "execution_count": 3,
     "metadata": {},
     "output_type": "execute_result"
    }
   ],
   "source": [
    "edges_var_gdl = gpd.read_file(first_folder_path + f\"data/processed/volvo/edges_var_gdl/edges_var_gdl.gpkg\")\n",
    "\n",
    "# Show\n",
    "print(edges_var_gdl.crs)\n",
    "print(edges_var_gdl.shape)\n",
    "edges_var_gdl.head(2)"
   ]
  },
  {
   "cell_type": "markdown",
   "id": "9f71f9e2-8b6b-4b47-9859-31f3b582872e",
   "metadata": {},
   "source": [
    "### __Load data__ - Routes with codes"
   ]
  },
  {
   "cell_type": "code",
   "execution_count": 4,
   "id": "3e076775-82b8-48b4-ba48-07bd55808c8b",
   "metadata": {},
   "outputs": [
    {
     "name": "stdout",
     "output_type": "stream",
     "text": [
      "EPSG:4326\n",
      "(1865, 2)\n"
     ]
    },
    {
     "data": {
      "text/html": [
       "<div>\n",
       "<style scoped>\n",
       "    .dataframe tbody tr th:only-of-type {\n",
       "        vertical-align: middle;\n",
       "    }\n",
       "\n",
       "    .dataframe tbody tr th {\n",
       "        vertical-align: top;\n",
       "    }\n",
       "\n",
       "    .dataframe thead th {\n",
       "        text-align: right;\n",
       "    }\n",
       "</style>\n",
       "<table border=\"1\" class=\"dataframe\">\n",
       "  <thead>\n",
       "    <tr style=\"text-align: right;\">\n",
       "      <th></th>\n",
       "      <th>code</th>\n",
       "      <th>geometry</th>\n",
       "    </tr>\n",
       "  </thead>\n",
       "  <tbody>\n",
       "    <tr>\n",
       "      <th>0</th>\n",
       "      <td>JC1V008</td>\n",
       "      <td>LINESTRING (-103.38511 20.68946, -103.38498 20...</td>\n",
       "    </tr>\n",
       "    <tr>\n",
       "      <th>1</th>\n",
       "      <td>JC1V008</td>\n",
       "      <td>LINESTRING (-103.38498 20.69015, -103.38489 20...</td>\n",
       "    </tr>\n",
       "  </tbody>\n",
       "</table>\n",
       "</div>"
      ],
      "text/plain": [
       "      code                                           geometry\n",
       "0  JC1V008  LINESTRING (-103.38511 20.68946, -103.38498 20...\n",
       "1  JC1V008  LINESTRING (-103.38498 20.69015, -103.38489 20..."
      ]
     },
     "execution_count": 4,
     "metadata": {},
     "output_type": "execute_result"
    }
   ],
   "source": [
    "rutas_edges = gpd.read_file(first_folder_path + f\"data/processed/volvo/encuestas/03_rutas_en_edges/rutas_edges.gpkg\")\n",
    "rutas_edges.drop(columns=['unique_edge_id','has_id'],inplace=True) #Added in GIS, ignore if gpkg does not have those cols\n",
    "\n",
    "# Show\n",
    "print(rutas_edges.crs)\n",
    "print(rutas_edges.shape)\n",
    "rutas_edges.head(2)"
   ]
  },
  {
   "cell_type": "markdown",
   "id": "70152d98-09d3-42ad-a9ef-140261b2cb17",
   "metadata": {},
   "source": [
    "### Find each edge in rutas_edges in original edges_var_gdl"
   ]
  },
  {
   "cell_type": "code",
   "execution_count": 5,
   "id": "b815e4c5-ed48-40e9-8ccd-3289895eeb5f",
   "metadata": {},
   "outputs": [
    {
     "name": "stdout",
     "output_type": "stream",
     "text": [
      "EPSG:32613\n",
      "(1865, 3)\n"
     ]
    },
    {
     "data": {
      "text/html": [
       "<div>\n",
       "<style scoped>\n",
       "    .dataframe tbody tr th:only-of-type {\n",
       "        vertical-align: middle;\n",
       "    }\n",
       "\n",
       "    .dataframe tbody tr th {\n",
       "        vertical-align: top;\n",
       "    }\n",
       "\n",
       "    .dataframe thead th {\n",
       "        text-align: right;\n",
       "    }\n",
       "</style>\n",
       "<table border=\"1\" class=\"dataframe\">\n",
       "  <thead>\n",
       "    <tr style=\"text-align: right;\">\n",
       "      <th></th>\n",
       "      <th>ruta_idx</th>\n",
       "      <th>code</th>\n",
       "      <th>geometry</th>\n",
       "    </tr>\n",
       "  </thead>\n",
       "  <tbody>\n",
       "    <tr>\n",
       "      <th>0</th>\n",
       "      <td>0</td>\n",
       "      <td>JC1V008</td>\n",
       "      <td>LINESTRING (668194.953 2288617.514, 668207.517...</td>\n",
       "    </tr>\n",
       "    <tr>\n",
       "      <th>1</th>\n",
       "      <td>1</td>\n",
       "      <td>JC1V008</td>\n",
       "      <td>LINESTRING (668207.517 2288693.987, 668216.476...</td>\n",
       "    </tr>\n",
       "  </tbody>\n",
       "</table>\n",
       "</div>"
      ],
      "text/plain": [
       "   ruta_idx     code                                           geometry\n",
       "0         0  JC1V008  LINESTRING (668194.953 2288617.514, 668207.517...\n",
       "1         1  JC1V008  LINESTRING (668207.517 2288693.987, 668216.476..."
      ]
     },
     "execution_count": 5,
     "metadata": {},
     "output_type": "execute_result"
    }
   ],
   "source": [
    "# Change rutas's crs to match edges_var_gdl\n",
    "rutas_edges_32613 = rutas_edges.copy()\n",
    "rutas_edges_32613.to_crs(\"EPSG:32613\",inplace=True)\n",
    "\n",
    "# Reset ruta to have ID\n",
    "rutas_edges_32613.reset_index(inplace=True,drop=True)\n",
    "rutas_edges_32613.reset_index(inplace=True)\n",
    "rutas_edges_32613.rename(columns={'index':'ruta_idx'},inplace=True)\n",
    "\n",
    "# Show\n",
    "print(rutas_edges_32613.crs)\n",
    "print(rutas_edges_32613.shape)\n",
    "rutas_edges_32613.head(2)"
   ]
  },
  {
   "cell_type": "code",
   "execution_count": 6,
   "id": "dc4d6def-aa98-476f-9db1-2e5ec2c66e08",
   "metadata": {},
   "outputs": [
    {
     "name": "stdout",
     "output_type": "stream",
     "text": [
      "EPSG:32613\n",
      "(1865, 2)\n"
     ]
    },
    {
     "data": {
      "text/html": [
       "<div>\n",
       "<style scoped>\n",
       "    .dataframe tbody tr th:only-of-type {\n",
       "        vertical-align: middle;\n",
       "    }\n",
       "\n",
       "    .dataframe tbody tr th {\n",
       "        vertical-align: top;\n",
       "    }\n",
       "\n",
       "    .dataframe thead th {\n",
       "        text-align: right;\n",
       "    }\n",
       "</style>\n",
       "<table border=\"1\" class=\"dataframe\">\n",
       "  <thead>\n",
       "    <tr style=\"text-align: right;\">\n",
       "      <th></th>\n",
       "      <th>ruta_idx</th>\n",
       "      <th>geometry</th>\n",
       "    </tr>\n",
       "  </thead>\n",
       "  <tbody>\n",
       "    <tr>\n",
       "      <th>0</th>\n",
       "      <td>0</td>\n",
       "      <td>POLYGON ((668207.418 2288694.003, 668207.420 2...</td>\n",
       "    </tr>\n",
       "    <tr>\n",
       "      <th>1</th>\n",
       "      <td>1</td>\n",
       "      <td>POLYGON ((668216.377 2288748.475, 668216.379 2...</td>\n",
       "    </tr>\n",
       "  </tbody>\n",
       "</table>\n",
       "</div>"
      ],
      "text/plain": [
       "   ruta_idx                                           geometry\n",
       "0         0  POLYGON ((668207.418 2288694.003, 668207.420 2...\n",
       "1         1  POLYGON ((668216.377 2288748.475, 668216.379 2..."
      ]
     },
     "execution_count": 6,
     "metadata": {},
     "output_type": "execute_result"
    }
   ],
   "source": [
    "# Create a small buffer for each ruta\n",
    "rutas_buff = rutas_edges_32613.buffer(0.1)\n",
    "# Convert into DataFrame and reset index again to have unique identifier that matches rutas_edges_32613\n",
    "rutas_buff = pd.DataFrame(rutas_buff)\n",
    "rutas_buff.reset_index(inplace=True)\n",
    "# Convert into GeoDataFrame#\n",
    "rutas_buff.rename(columns={0:'geometry'},inplace=True)\n",
    "rutas_buff_gdf = gpd.GeoDataFrame(rutas_buff,geometry='geometry',crs='EPSG:32613')\n",
    "# Rename unique identifier\n",
    "rutas_buff_gdf.rename(columns={'index':'ruta_idx'},inplace=True)\n",
    "\n",
    "# Show\n",
    "print(rutas_buff_gdf.crs)\n",
    "print(rutas_buff_gdf.shape)\n",
    "rutas_buff_gdf.head(2)"
   ]
  },
  {
   "cell_type": "code",
   "execution_count": 8,
   "id": "9d2266fc-7753-48ca-b31c-c0295e54ce29",
   "metadata": {},
   "outputs": [
    {
     "name": "stdout",
     "output_type": "stream",
     "text": [
      "EPSG:32613\n",
      "(197439, 2)\n"
     ]
    },
    {
     "data": {
      "text/html": [
       "<div>\n",
       "<style scoped>\n",
       "    .dataframe tbody tr th:only-of-type {\n",
       "        vertical-align: middle;\n",
       "    }\n",
       "\n",
       "    .dataframe tbody tr th {\n",
       "        vertical-align: top;\n",
       "    }\n",
       "\n",
       "    .dataframe thead th {\n",
       "        text-align: right;\n",
       "    }\n",
       "</style>\n",
       "<table border=\"1\" class=\"dataframe\">\n",
       "  <thead>\n",
       "    <tr style=\"text-align: right;\">\n",
       "      <th></th>\n",
       "      <th>org_idx</th>\n",
       "      <th>geometry</th>\n",
       "    </tr>\n",
       "  </thead>\n",
       "  <tbody>\n",
       "    <tr>\n",
       "      <th>0</th>\n",
       "      <td>0</td>\n",
       "      <td>POINT (676389.972 2291144.488)</td>\n",
       "    </tr>\n",
       "    <tr>\n",
       "      <th>1</th>\n",
       "      <td>1</td>\n",
       "      <td>POINT (676407.108 2291161.274)</td>\n",
       "    </tr>\n",
       "  </tbody>\n",
       "</table>\n",
       "</div>"
      ],
      "text/plain": [
       "   org_idx                        geometry\n",
       "0        0  POINT (676389.972 2291144.488)\n",
       "1        1  POINT (676407.108 2291161.274)"
      ]
     },
     "execution_count": 8,
     "metadata": {},
     "output_type": "execute_result"
    }
   ],
   "source": [
    "# Reset original edges from edges_var_gdl to have traceable ID\n",
    "org_edges = edges_var_gdl.copy()\n",
    "org_edges.reset_index(inplace=True,drop=True)\n",
    "org_edges.reset_index(inplace=True)\n",
    "# Rename unique identifier\n",
    "org_edges.rename(columns={'index':'org_idx'},inplace=True)\n",
    "\n",
    "# Create mid points for each original edge\n",
    "org_edges['mid_point'] = org_edges.interpolate(org_edges.length / 2)\n",
    "# Assign mid_point to its own gdf and drop column 'mid_point' from org_edges\n",
    "org_mid_points = org_edges[['org_idx','mid_point']].copy()\n",
    "org_mid_points.rename(columns={'mid_point':'geometry'},inplace=True)\n",
    "org_edges.drop(columns=['mid_point'],inplace=True)\n",
    "\n",
    "# Show\n",
    "print(org_mid_points.crs)\n",
    "print(org_mid_points.shape)\n",
    "org_mid_points.head(2)"
   ]
  },
  {
   "cell_type": "code",
   "execution_count": 11,
   "id": "0dacc92d-1ace-4404-b033-e0e772f63d55",
   "metadata": {},
   "outputs": [
    {
     "name": "stdout",
     "output_type": "stream",
     "text": [
      "(1861, 2)\n"
     ]
    },
    {
     "data": {
      "text/html": [
       "<div>\n",
       "<style scoped>\n",
       "    .dataframe tbody tr th:only-of-type {\n",
       "        vertical-align: middle;\n",
       "    }\n",
       "\n",
       "    .dataframe tbody tr th {\n",
       "        vertical-align: top;\n",
       "    }\n",
       "\n",
       "    .dataframe thead th {\n",
       "        text-align: right;\n",
       "    }\n",
       "</style>\n",
       "<table border=\"1\" class=\"dataframe\">\n",
       "  <thead>\n",
       "    <tr style=\"text-align: right;\">\n",
       "      <th></th>\n",
       "      <th>ruta_idx</th>\n",
       "      <th>org_idx</th>\n",
       "    </tr>\n",
       "  </thead>\n",
       "  <tbody>\n",
       "    <tr>\n",
       "      <th>977</th>\n",
       "      <td>403</td>\n",
       "      <td>977</td>\n",
       "    </tr>\n",
       "    <tr>\n",
       "      <th>978</th>\n",
       "      <td>404</td>\n",
       "      <td>978</td>\n",
       "    </tr>\n",
       "  </tbody>\n",
       "</table>\n",
       "</div>"
      ],
      "text/plain": [
       "     ruta_idx  org_idx\n",
       "977       403      977\n",
       "978       404      978"
      ]
     },
     "execution_count": 11,
     "metadata": {},
     "output_type": "execute_result"
    }
   ],
   "source": [
    "# Intersect buffer and centroids\n",
    "join_gdf = gpd.sjoin(org_mid_points, rutas_buff_gdf, how='inner', predicate='within')\n",
    "join_gdf = join_gdf[['ruta_idx','org_idx']]\n",
    "\n",
    "# Show\n",
    "print(join_gdf.shape)\n",
    "join_gdf.head(2)"
   ]
  },
  {
   "cell_type": "code",
   "execution_count": 35,
   "id": "dee931ac-dae5-4010-9f37-af04fd803d63",
   "metadata": {},
   "outputs": [
    {
     "name": "stdout",
     "output_type": "stream",
     "text": [
      "0\n"
     ]
    }
   ],
   "source": [
    "# There should be 0 duplicated ruta_idx. Else, indicates that one ruta edge found multiple original edges.\n",
    "print(len(join_gdf.loc[join_gdf.duplicated(\"ruta_idx\")]))"
   ]
  },
  {
   "cell_type": "code",
   "execution_count": 14,
   "id": "a7d3d35f-71ca-41df-afb4-491f6c6c79e5",
   "metadata": {},
   "outputs": [
    {
     "data": {
      "text/plain": [
       "Index(['org_idx', 'u', 'v', 'key', 'grade_abs', 'ndvi_mean', 'entropy',\n",
       "       'sidewalk_available', 'no_sidewalk_available', 'banqueta_pct',\n",
       "       'pobtot_u', 'pobtot_v', 'total_pobtot', 'average_population', 'dens_u',\n",
       "       'dens_v', 'average_density', 'interdens_u', 'interdens_v',\n",
       "       'average_intersdens', 'geometry'],\n",
       "      dtype='object')"
      ]
     },
     "execution_count": 14,
     "metadata": {},
     "output_type": "execute_result"
    }
   ],
   "source": [
    "org_edges.columns"
   ]
  },
  {
   "cell_type": "code",
   "execution_count": 18,
   "id": "8153d293-3906-4753-9e03-3471021d243d",
   "metadata": {},
   "outputs": [
    {
     "name": "stdout",
     "output_type": "stream",
     "text": [
      "(1865, 6)\n"
     ]
    },
    {
     "data": {
      "text/html": [
       "<div>\n",
       "<style scoped>\n",
       "    .dataframe tbody tr th:only-of-type {\n",
       "        vertical-align: middle;\n",
       "    }\n",
       "\n",
       "    .dataframe tbody tr th {\n",
       "        vertical-align: top;\n",
       "    }\n",
       "\n",
       "    .dataframe thead th {\n",
       "        text-align: right;\n",
       "    }\n",
       "</style>\n",
       "<table border=\"1\" class=\"dataframe\">\n",
       "  <thead>\n",
       "    <tr style=\"text-align: right;\">\n",
       "      <th></th>\n",
       "      <th>ruta_idx</th>\n",
       "      <th>code</th>\n",
       "      <th>geometry</th>\n",
       "      <th>u</th>\n",
       "      <th>v</th>\n",
       "      <th>key</th>\n",
       "    </tr>\n",
       "  </thead>\n",
       "  <tbody>\n",
       "    <tr>\n",
       "      <th>0</th>\n",
       "      <td>0</td>\n",
       "      <td>JC1V008</td>\n",
       "      <td>LINESTRING (668194.953 2288617.514, 668207.517...</td>\n",
       "      <td>66819495228861751</td>\n",
       "      <td>66820751228869398</td>\n",
       "      <td>0</td>\n",
       "    </tr>\n",
       "    <tr>\n",
       "      <th>1</th>\n",
       "      <td>1</td>\n",
       "      <td>JC1V008</td>\n",
       "      <td>LINESTRING (668207.517 2288693.987, 668216.476...</td>\n",
       "      <td>66820751228869398</td>\n",
       "      <td>66821647228874845</td>\n",
       "      <td>0</td>\n",
       "    </tr>\n",
       "  </tbody>\n",
       "</table>\n",
       "</div>"
      ],
      "text/plain": [
       "   ruta_idx     code                                           geometry   \n",
       "0         0  JC1V008  LINESTRING (668194.953 2288617.514, 668207.517...  \\\n",
       "1         1  JC1V008  LINESTRING (668207.517 2288693.987, 668216.476...   \n",
       "\n",
       "                   u                  v key  \n",
       "0  66819495228861751  66820751228869398   0  \n",
       "1  66820751228869398  66821647228874845   0  "
      ]
     },
     "execution_count": 18,
     "metadata": {},
     "output_type": "execute_result"
    }
   ],
   "source": [
    "# Find routes and assign original edge's data\n",
    "found_routes = list(join_gdf.ruta_idx.unique())\n",
    "\n",
    "for found_route in found_routes:\n",
    "    # Original edge found\n",
    "    corresponding_org_idx = join_gdf.loc[join_gdf.ruta_idx==found_route]['org_idx'].unique()[0]\n",
    "    # Original edge's data\n",
    "    idx_org = org_edges['org_idx']==corresponding_org_idx\n",
    "    # Transfer data to rutas_edges_32613\n",
    "    idx = rutas_edges_32613['ruta_idx']==found_route\n",
    "    rutas_edges_32613.loc[idx,'u'] = str(org_edges.loc[idx_org,'u'].unique()[0])\n",
    "    rutas_edges_32613.loc[idx,'v'] = str(org_edges.loc[idx_org,'v'].unique()[0])\n",
    "    rutas_edges_32613.loc[idx,'key'] = str(org_edges.loc[idx_org,'key'].unique()[0])\n",
    "\n",
    "# Show\n",
    "print(rutas_edges_32613.shape)\n",
    "rutas_edges_32613.head(2)"
   ]
  },
  {
   "cell_type": "code",
   "execution_count": 19,
   "id": "c7a94678-981d-4213-9c78-5c30cfefd353",
   "metadata": {},
   "outputs": [
    {
     "data": {
      "text/html": [
       "<div>\n",
       "<style scoped>\n",
       "    .dataframe tbody tr th:only-of-type {\n",
       "        vertical-align: middle;\n",
       "    }\n",
       "\n",
       "    .dataframe tbody tr th {\n",
       "        vertical-align: top;\n",
       "    }\n",
       "\n",
       "    .dataframe thead th {\n",
       "        text-align: right;\n",
       "    }\n",
       "</style>\n",
       "<table border=\"1\" class=\"dataframe\">\n",
       "  <thead>\n",
       "    <tr style=\"text-align: right;\">\n",
       "      <th></th>\n",
       "      <th>ruta_idx</th>\n",
       "      <th>code</th>\n",
       "      <th>geometry</th>\n",
       "      <th>u</th>\n",
       "      <th>v</th>\n",
       "      <th>key</th>\n",
       "    </tr>\n",
       "  </thead>\n",
       "  <tbody>\n",
       "    <tr>\n",
       "      <th>382</th>\n",
       "      <td>382</td>\n",
       "      <td>DS2M025</td>\n",
       "      <td>LINESTRING (665063.333 2288910.066, 665062.305...</td>\n",
       "      <td>NaN</td>\n",
       "      <td>NaN</td>\n",
       "      <td>NaN</td>\n",
       "    </tr>\n",
       "    <tr>\n",
       "      <th>383</th>\n",
       "      <td>383</td>\n",
       "      <td>DS2M025</td>\n",
       "      <td>LINESTRING (665067.072 2288910.147, 665063.333...</td>\n",
       "      <td>NaN</td>\n",
       "      <td>NaN</td>\n",
       "      <td>NaN</td>\n",
       "    </tr>\n",
       "    <tr>\n",
       "      <th>387</th>\n",
       "      <td>387</td>\n",
       "      <td>DS2M015</td>\n",
       "      <td>LINESTRING (665063.333 2288910.066, 665062.305...</td>\n",
       "      <td>NaN</td>\n",
       "      <td>NaN</td>\n",
       "      <td>NaN</td>\n",
       "    </tr>\n",
       "    <tr>\n",
       "      <th>388</th>\n",
       "      <td>388</td>\n",
       "      <td>DS2M015</td>\n",
       "      <td>LINESTRING (665067.072 2288910.147, 665063.333...</td>\n",
       "      <td>NaN</td>\n",
       "      <td>NaN</td>\n",
       "      <td>NaN</td>\n",
       "    </tr>\n",
       "  </tbody>\n",
       "</table>\n",
       "</div>"
      ],
      "text/plain": [
       "     ruta_idx     code                                           geometry   \n",
       "382       382  DS2M025  LINESTRING (665063.333 2288910.066, 665062.305...  \\\n",
       "383       383  DS2M025  LINESTRING (665067.072 2288910.147, 665063.333...   \n",
       "387       387  DS2M015  LINESTRING (665063.333 2288910.066, 665062.305...   \n",
       "388       388  DS2M015  LINESTRING (665067.072 2288910.147, 665063.333...   \n",
       "\n",
       "       u    v  key  \n",
       "382  NaN  NaN  NaN  \n",
       "383  NaN  NaN  NaN  \n",
       "387  NaN  NaN  NaN  \n",
       "388  NaN  NaN  NaN  "
      ]
     },
     "execution_count": 19,
     "metadata": {},
     "output_type": "execute_result"
    }
   ],
   "source": [
    "# Missing data (GIS)\n",
    "rutas_edges_32613.loc[rutas_edges_32613.u.isna()]"
   ]
  },
  {
   "cell_type": "code",
   "execution_count": 21,
   "id": "e8e723df-4914-44f5-912b-6ade45a90810",
   "metadata": {},
   "outputs": [
    {
     "name": "stdout",
     "output_type": "stream",
     "text": [
      "EPSG:32613\n",
      "(1865, 6)\n"
     ]
    },
    {
     "data": {
      "text/html": [
       "<div>\n",
       "<style scoped>\n",
       "    .dataframe tbody tr th:only-of-type {\n",
       "        vertical-align: middle;\n",
       "    }\n",
       "\n",
       "    .dataframe tbody tr th {\n",
       "        vertical-align: top;\n",
       "    }\n",
       "\n",
       "    .dataframe thead th {\n",
       "        text-align: right;\n",
       "    }\n",
       "</style>\n",
       "<table border=\"1\" class=\"dataframe\">\n",
       "  <thead>\n",
       "    <tr style=\"text-align: right;\">\n",
       "      <th></th>\n",
       "      <th>ruta_idx</th>\n",
       "      <th>code</th>\n",
       "      <th>u</th>\n",
       "      <th>v</th>\n",
       "      <th>key</th>\n",
       "      <th>geometry</th>\n",
       "    </tr>\n",
       "  </thead>\n",
       "  <tbody>\n",
       "    <tr>\n",
       "      <th>0</th>\n",
       "      <td>0</td>\n",
       "      <td>JC1V008</td>\n",
       "      <td>66819495228861751</td>\n",
       "      <td>66820751228869398</td>\n",
       "      <td>0</td>\n",
       "      <td>LINESTRING (668194.953 2288617.514, 668207.517...</td>\n",
       "    </tr>\n",
       "    <tr>\n",
       "      <th>1</th>\n",
       "      <td>1</td>\n",
       "      <td>JC1V008</td>\n",
       "      <td>66820751228869398</td>\n",
       "      <td>66821647228874845</td>\n",
       "      <td>0</td>\n",
       "      <td>LINESTRING (668207.517 2288693.987, 668216.476...</td>\n",
       "    </tr>\n",
       "  </tbody>\n",
       "</table>\n",
       "</div>"
      ],
      "text/plain": [
       "   ruta_idx     code                  u                  v key   \n",
       "0         0  JC1V008  66819495228861751  66820751228869398   0  \\\n",
       "1         1  JC1V008  66820751228869398  66821647228874845   0   \n",
       "\n",
       "                                            geometry  \n",
       "0  LINESTRING (668194.953 2288617.514, 668207.517...  \n",
       "1  LINESTRING (668207.517 2288693.987, 668216.476...  "
      ]
     },
     "execution_count": 21,
     "metadata": {},
     "output_type": "execute_result"
    }
   ],
   "source": [
    "# Fixed missing data in GIS\n",
    "#rutas_edges_32613.to_file(first_folder_path + f\"data/processed/volvo/encuestas/03_rutas_en_edges/rutas_edges_id_1.gpkg\")\n",
    "\n",
    "# Read fixed file\n",
    "rutas_edges_fixed = gpd.read_file(first_folder_path + f\"data/processed/volvo/encuestas/03_rutas_en_edges/rutas_edges_id_2.gpkg\")\n",
    "\n",
    "# Show\n",
    "print(rutas_edges_fixed.crs)\n",
    "print(rutas_edges_fixed.shape)\n",
    "rutas_edges_fixed.head(2)"
   ]
  },
  {
   "cell_type": "code",
   "execution_count": 23,
   "id": "2ee29edd-e9ff-4061-b88f-49167f28d69a",
   "metadata": {},
   "outputs": [
    {
     "data": {
      "text/html": [
       "<div>\n",
       "<style scoped>\n",
       "    .dataframe tbody tr th:only-of-type {\n",
       "        vertical-align: middle;\n",
       "    }\n",
       "\n",
       "    .dataframe tbody tr th {\n",
       "        vertical-align: top;\n",
       "    }\n",
       "\n",
       "    .dataframe thead th {\n",
       "        text-align: right;\n",
       "    }\n",
       "</style>\n",
       "<table border=\"1\" class=\"dataframe\">\n",
       "  <thead>\n",
       "    <tr style=\"text-align: right;\">\n",
       "      <th></th>\n",
       "      <th>ruta_idx</th>\n",
       "      <th>code</th>\n",
       "      <th>u</th>\n",
       "      <th>v</th>\n",
       "      <th>key</th>\n",
       "      <th>geometry</th>\n",
       "    </tr>\n",
       "  </thead>\n",
       "  <tbody>\n",
       "  </tbody>\n",
       "</table>\n",
       "</div>"
      ],
      "text/plain": [
       "Empty GeoDataFrame\n",
       "Columns: [ruta_idx, code, u, v, key, geometry]\n",
       "Index: []"
      ]
     },
     "execution_count": 23,
     "metadata": {},
     "output_type": "execute_result"
    }
   ],
   "source": [
    "rutas_edges_fixed.loc[rutas_edges_fixed.u.isna()]"
   ]
  },
  {
   "cell_type": "code",
   "execution_count": 31,
   "id": "bd5812f4-0747-4bd4-9e63-2b50c5352adc",
   "metadata": {},
   "outputs": [
    {
     "name": "stdout",
     "output_type": "stream",
     "text": [
      "EPSG:32613\n",
      "(1861, 21)\n"
     ]
    },
    {
     "data": {
      "text/html": [
       "<div>\n",
       "<style scoped>\n",
       "    .dataframe tbody tr th:only-of-type {\n",
       "        vertical-align: middle;\n",
       "    }\n",
       "\n",
       "    .dataframe tbody tr th {\n",
       "        vertical-align: top;\n",
       "    }\n",
       "\n",
       "    .dataframe thead th {\n",
       "        text-align: right;\n",
       "    }\n",
       "</style>\n",
       "<table border=\"1\" class=\"dataframe\">\n",
       "  <thead>\n",
       "    <tr style=\"text-align: right;\">\n",
       "      <th></th>\n",
       "      <th>code</th>\n",
       "      <th>u</th>\n",
       "      <th>v</th>\n",
       "      <th>key</th>\n",
       "      <th>grade_abs</th>\n",
       "      <th>ndvi_mean</th>\n",
       "      <th>entropy</th>\n",
       "      <th>sidewalk_available</th>\n",
       "      <th>no_sidewalk_available</th>\n",
       "      <th>banqueta_pct</th>\n",
       "      <th>...</th>\n",
       "      <th>pobtot_v</th>\n",
       "      <th>total_pobtot</th>\n",
       "      <th>average_population</th>\n",
       "      <th>dens_u</th>\n",
       "      <th>dens_v</th>\n",
       "      <th>average_density</th>\n",
       "      <th>interdens_u</th>\n",
       "      <th>interdens_v</th>\n",
       "      <th>average_intersdens</th>\n",
       "      <th>geometry</th>\n",
       "    </tr>\n",
       "  </thead>\n",
       "  <tbody>\n",
       "    <tr>\n",
       "      <th>0</th>\n",
       "      <td>JC1V008</td>\n",
       "      <td>66819495228861751</td>\n",
       "      <td>66820751228869398</td>\n",
       "      <td>0</td>\n",
       "      <td>0.012849</td>\n",
       "      <td>0.15356</td>\n",
       "      <td>1.726807</td>\n",
       "      <td>316.602353</td>\n",
       "      <td>0.0</td>\n",
       "      <td>1.0</td>\n",
       "      <td>...</td>\n",
       "      <td>70.0</td>\n",
       "      <td>172.0</td>\n",
       "      <td>86.0</td>\n",
       "      <td>65.5488</td>\n",
       "      <td>50.632364</td>\n",
       "      <td>58.090582</td>\n",
       "      <td>12.761922</td>\n",
       "      <td>12.153251</td>\n",
       "      <td>12.457586</td>\n",
       "      <td>MULTILINESTRING ((668194.953 2288617.514, 6682...</td>\n",
       "    </tr>\n",
       "    <tr>\n",
       "      <th>1</th>\n",
       "      <td>MeV1V006</td>\n",
       "      <td>66819495228861751</td>\n",
       "      <td>66820751228869398</td>\n",
       "      <td>0</td>\n",
       "      <td>0.012849</td>\n",
       "      <td>0.15356</td>\n",
       "      <td>1.726807</td>\n",
       "      <td>316.602353</td>\n",
       "      <td>0.0</td>\n",
       "      <td>1.0</td>\n",
       "      <td>...</td>\n",
       "      <td>70.0</td>\n",
       "      <td>172.0</td>\n",
       "      <td>86.0</td>\n",
       "      <td>65.5488</td>\n",
       "      <td>50.632364</td>\n",
       "      <td>58.090582</td>\n",
       "      <td>12.761922</td>\n",
       "      <td>12.153251</td>\n",
       "      <td>12.457586</td>\n",
       "      <td>MULTILINESTRING ((668194.953 2288617.514, 6682...</td>\n",
       "    </tr>\n",
       "  </tbody>\n",
       "</table>\n",
       "<p>2 rows × 21 columns</p>\n",
       "</div>"
      ],
      "text/plain": [
       "       code                  u                  v  key  grade_abs  ndvi_mean   \n",
       "0   JC1V008  66819495228861751  66820751228869398    0   0.012849    0.15356  \\\n",
       "1  MeV1V006  66819495228861751  66820751228869398    0   0.012849    0.15356   \n",
       "\n",
       "    entropy  sidewalk_available  no_sidewalk_available  banqueta_pct  ...   \n",
       "0  1.726807          316.602353                    0.0           1.0  ...  \\\n",
       "1  1.726807          316.602353                    0.0           1.0  ...   \n",
       "\n",
       "   pobtot_v  total_pobtot  average_population   dens_u     dens_v   \n",
       "0      70.0         172.0                86.0  65.5488  50.632364  \\\n",
       "1      70.0         172.0                86.0  65.5488  50.632364   \n",
       "\n",
       "   average_density  interdens_u  interdens_v  average_intersdens   \n",
       "0        58.090582    12.761922    12.153251           12.457586  \\\n",
       "1        58.090582    12.761922    12.153251           12.457586   \n",
       "\n",
       "                                            geometry  \n",
       "0  MULTILINESTRING ((668194.953 2288617.514, 6682...  \n",
       "1  MULTILINESTRING ((668194.953 2288617.514, 6682...  \n",
       "\n",
       "[2 rows x 21 columns]"
      ]
     },
     "execution_count": 31,
     "metadata": {},
     "output_type": "execute_result"
    }
   ],
   "source": [
    "# Change to int for compatibility\n",
    "rutas_edges_fixed['u'] = rutas_edges_fixed['u'].astype('int')\n",
    "rutas_edges_fixed['v'] = rutas_edges_fixed['v'].astype('int')\n",
    "rutas_edges_fixed['key'] = rutas_edges_fixed['key'].astype('int')\n",
    "# Merge physical variables\n",
    "rutas_edges_var = pd.merge(rutas_edges_fixed[['code','u','v','key']],edges_var_gdl,on=['u','v','key'])\n",
    "\n",
    "# Turn into GeoDataFrame\n",
    "rutas_edges_var = gpd.GeoDataFrame(rutas_edges_var,geometry='geometry',crs=\"EPSG:32613\")\n",
    "\n",
    "# Show\n",
    "print(rutas_edges_var.crs)\n",
    "print(rutas_edges_var.shape)\n",
    "rutas_edges_var.head(2)                      "
   ]
  },
  {
   "cell_type": "code",
   "execution_count": 36,
   "id": "4b87e5f1-f3c4-419c-9dee-a4419b60049d",
   "metadata": {},
   "outputs": [],
   "source": [
    "rutas_edges_var.to_file(first_folder_path + f\"data/processed/volvo/encuestas/03_rutas_en_edges/rutas_edges_var.gpkg\")"
   ]
  }
 ],
 "metadata": {
  "kernelspec": {
   "display_name": "GDS-10.0",
   "language": "python",
   "name": "gds"
  },
  "language_info": {
   "codemirror_mode": {
    "name": "ipython",
    "version": 3
   },
   "file_extension": ".py",
   "mimetype": "text/x-python",
   "name": "python",
   "nbconvert_exporter": "python",
   "pygments_lexer": "ipython3",
   "version": "3.9.18"
  }
 },
 "nbformat": 4,
 "nbformat_minor": 5
}
