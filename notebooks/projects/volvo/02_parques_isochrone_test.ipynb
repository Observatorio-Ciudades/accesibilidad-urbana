{
 "cells": [
  {
   "cell_type": "markdown",
   "id": "2fc73e31-d6ff-4155-8eb0-e76892243ed3",
   "metadata": {},
   "source": [
    "# Parques isochrone test"
   ]
  },
  {
   "cell_type": "markdown",
   "id": "b4dfd2f8-47dd-4c74-bc04-5c46023adc6e",
   "metadata": {},
   "source": [
    "This notebook takes script-21-project-Volvo's code (Just for parques, up to nearest) to __confirm the number of parques inside a random 15-min node isochrone.__"
   ]
  },
  {
   "cell_type": "code",
   "execution_count": 1,
   "id": "826f3aeb-7feb-4a10-9922-db3cbc52debc",
   "metadata": {},
   "outputs": [],
   "source": [
    "import os\n",
    "import sys\n",
    "\n",
    "import pandas as pd\n",
    "import geopandas as gpd\n",
    "import osmnx as ox\n",
    "import numpy as np\n",
    "\n",
    "import matplotlib.pyplot as plt\n",
    "import seaborn as sns\n",
    "\n",
    "import warnings\n",
    "warnings.simplefilter(action='ignore', category=FutureWarning)\n",
    "\n",
    "module_path = os.path.abspath(os.path.join('../../../'))\n",
    "if module_path not in sys.path:\n",
    "    sys.path.append(module_path)\n",
    "    import aup"
   ]
  },
  {
   "cell_type": "markdown",
   "id": "146f7a34-f8d3-447e-996c-51244d5b571e",
   "metadata": {},
   "source": [
    "## Calculate parques nearest"
   ]
  },
  {
   "cell_type": "markdown",
   "id": "1589b370-3975-440a-a91b-2546f2e6d94f",
   "metadata": {},
   "source": [
    "### Required data to calculate parques nearest"
   ]
  },
  {
   "cell_type": "code",
   "execution_count": 2,
   "id": "4119d4e8-8d2b-43cc-8eba-fa88b88d7350",
   "metadata": {},
   "outputs": [],
   "source": [
    "parameters = {'Parques':{'Area verde':{'odc_parques':[9321]} ########## Volvo: AGREGAR DE BD, \n",
    "                                                          ########## Se le asignó el code 9321, correspondiente a 'Activities of amusement parks and theme parks'\n",
    "                                                          ########## Fuente del code elegido: International Standard Industrial Classification of all Economic Activities, Rev.4\n",
    "                                                          ########## https://unstats.un.org/unsd/publication/seriesm/seriesm_4rev4e.pdf\n",
    "                        }\n",
    "             }\n",
    "\n",
    "city = 'Guadalajara'\n",
    "# ---------------------------- BD DATA REQUIRED ----------------------------\n",
    "# Area of interest (city)\n",
    "metro_schema = 'metropolis'\n",
    "metro_table = 'metro_gdf_2020'\n",
    "\n",
    "# Network data (nodes and edges table for distance analysis,\n",
    "# also used to generate the network G with which the nearest OSMID is assigned to each poi)\n",
    "network_schema = 'osmnx'\n",
    "nodes_table = 'nodes'\n",
    "edges_table = 'edges_speed'\n",
    "\n",
    "# Points of interest - Espacio publico (Parques) ### Exclusive project Volvo\n",
    "parques_schema = 'espacios_publicos' \n",
    "parques_table = 'ep_amg'\n",
    "\n",
    "# ---------------------------- ANALYSIS AND OUTPUT OPTIONS ----------------------------\n",
    "# Network distance method used in function pois_time. (If length, assumes pedestrian speed of 4km/hr.)\n",
    "prox_measure = 'time_min' # Must pass 'length' or 'time_min'\n",
    "\n",
    "# Count available amenities at given time proximity (minutes)?\n",
    "count_pois = (True,15) # Must pass a tupple containing a boolean (True or False) and time proximity of interest in minutes (Boolean,time)"
   ]
  },
  {
   "cell_type": "code",
   "execution_count": 4,
   "id": "b47c6d6b-1d7b-432f-92ec-307907f739ed",
   "metadata": {},
   "outputs": [],
   "source": [
    "####################################################################################################################################\n",
    "# FROM 21-proximity-analysis-mexico.py SCRIPT ADAPTED:\n",
    "# Project Volvo includes 'parques', which are in OdC's DB\n",
    "####################################################################################################################################\n",
    "def get_parques_pois(parques_schema,parques_table,code):\n",
    "    # This function creates parques points of interest out of vertices of parques found in db (schema>table)\n",
    "\n",
    "    # Download parques pois\n",
    "    query = f\"SELECT * FROM {parques_schema}.{parques_table}\"\n",
    "    gdf = aup.gdf_from_query(query, geometry_col='geometry')\n",
    "    gdf = gdf.to_crs(\"EPSG:4326\")\n",
    "\n",
    "    # Get vertices coordinates\n",
    "    gdf_coords = gdf.geometry.get_coordinates()\n",
    "\n",
    "    # Merge back with gdf containing data\n",
    "    gdf_coords_data = pd.merge(gdf_coords,gdf,left_index=True,right_index=True)\n",
    "\n",
    "    # Drop poly geometry \n",
    "    df_coords_data = gdf_coords_data.drop(columns=['geometry'])\n",
    "    # Set points geometry\n",
    "    gdf_2 = gpd.GeoDataFrame(df_coords_data, \n",
    "                             geometry=gpd.points_from_xy(df_coords_data.x, df_coords_data.y),\n",
    "                             crs='EPSG:4326')\n",
    "    \n",
    "    # Format\n",
    "    gdf_2.drop(columns=['x','y'],inplace=True)\n",
    "    gdf_2.reset_index(inplace=True)\n",
    "    gdf_2.rename(columns={'index':'polygon_id'},inplace=True)\n",
    "\n",
    "    # Project Volvo filter\n",
    "    # Tipos\n",
    "    tipos = ['Parque','Espacio verde vecinal', 'Plaza', 'Área natural', 'Área natural protegida']\n",
    "    gdf_f1 = gdf_2.loc[gdf_2.Tipo.isin(tipos)]\n",
    "    # Usos\n",
    "    gdf_f2 = gdf_f1.loc[gdf_f1.Uso == 'Uso recreativo']\n",
    "\n",
    "    # Proxanalysis filter\n",
    "    #code_pois = gdf_f2.set_crs(\"EPSG:4326\")\n",
    "    gdf_f2['code'] = code\n",
    "    code_pois = gdf_f2[['polygon_id','code','geometry']]\n",
    "    code_pois['code'] = code_pois['code'].astype('int64')\n",
    "\n",
    "    code_pois = code_pois.drop_duplicates()\n",
    "    \n",
    "    return code_pois"
   ]
  },
  {
   "cell_type": "markdown",
   "id": "e7aff8b8-d5d1-4cc4-a32f-93ef38a7bd32",
   "metadata": {},
   "source": [
    "### Getting area of interest (city) and Network (regular nodes, edges_speed 2020)"
   ]
  },
  {
   "cell_type": "code",
   "execution_count": 5,
   "id": "fbb3e73f-f5e3-4075-a8f7-1d4e8b6c1215",
   "metadata": {},
   "outputs": [],
   "source": [
    "# Download area of interest\n",
    "query = f\"SELECT * FROM {metro_schema}.{metro_table} WHERE \\\"city\\\" LIKE \\'{city}\\'\"\n",
    "mun_gdf = aup.gdf_from_query(query, geometry_col='geometry')\n",
    "mun_gdf = mun_gdf.set_crs(\"EPSG:4326\")\n",
    "aoi = mun_gdf.dissolve()\n",
    "\n",
    "# Download Network used to calculate nearest note to each poi\n",
    "G, nodes, edges = aup.graph_from_hippo(aoi, schema=network_schema, edges_folder=edges_table, nodes_folder=nodes_table)"
   ]
  },
  {
   "cell_type": "markdown",
   "id": "84305083-bcc2-4360-9809-25094658270c",
   "metadata": {},
   "source": [
    "### Finding parques nearest"
   ]
  },
  {
   "cell_type": "code",
   "execution_count": 62,
   "id": "034167f5-87b6-420d-8807-2786a0c46d93",
   "metadata": {},
   "outputs": [
    {
     "name": "stdout",
     "output_type": "stream",
     "text": [
      "--- Loading source pois code 9321 from db.\n"
     ]
    },
    {
     "name": "stderr",
     "output_type": "stream",
     "text": [
      "/opt/conda/envs/gds/lib/python3.9/site-packages/geopandas/geodataframe.py:1525: SettingWithCopyWarning: \n",
      "A value is trying to be set on a copy of a slice from a DataFrame.\n",
      "Try using .loc[row_indexer,col_indexer] = value instead\n",
      "\n",
      "See the caveats in the documentation: https://pandas.pydata.org/pandas-docs/stable/user_guide/indexing.html#returning-a-view-versus-a-copy\n",
      "  super().__setitem__(key, value)\n",
      "/opt/conda/envs/gds/lib/python3.9/site-packages/geopandas/geodataframe.py:1525: SettingWithCopyWarning: \n",
      "A value is trying to be set on a copy of a slice from a DataFrame.\n",
      "Try using .loc[row_indexer,col_indexer] = value instead\n",
      "\n",
      "See the caveats in the documentation: https://pandas.pydata.org/pandas-docs/stable/user_guide/indexing.html#returning-a-view-versus-a-copy\n",
      "  super().__setitem__(key, value)\n"
     ]
    },
    {
     "name": "stdout",
     "output_type": "stream",
     "text": [
      "--- Loaded and filtered source pois code 9321 from db.\n",
      "--- 57635 odc_parques vertexes for 2497 unique sources. Analysing source pois proximity to nodes.\n",
      "Found and assigned nearest node osmid to each odc_parques.\n"
     ]
    }
   ],
   "source": [
    "# PREP. FOR ANALYSIS\n",
    "i = 0\n",
    "# PREP. FOR ANALYSIS - List of columns used to deliver final format\n",
    "analysis_cols = []\n",
    "\n",
    "eje = 'Parques'\n",
    "for amenity in parameters[eje]:\n",
    "    for source in parameters[eje][amenity]:\n",
    "\n",
    "        analysis_cols.append(source)\n",
    "        # PREP. FOR ANALYSIS - If counting pois, append corresponding column (count_col formated example: 'denue_preescolar_15min')\n",
    "        if count_pois[0]:\n",
    "            count_col = f'{source}_{count_pois[1]}min'\n",
    "            analysis_cols.append(count_col)\n",
    "        \n",
    "        # ANALYSIS - Select source points of interest (concats all data of current source's codes in source_pois)\n",
    "        source_pois = gpd.GeoDataFrame()\n",
    "        for code in parameters[eje][amenity][source]:\n",
    "            if source[0] == 'o':\n",
    "                print(f'--- Loading source pois code {code} from db.')\n",
    "                code_pois = get_parques_pois(parques_schema,parques_table,code)\n",
    "                source_pois = pd.concat([source_pois,code_pois])\n",
    "                print(f'--- Loaded and filtered source pois code {code} from db.')\n",
    "\n",
    "        print(f\"--- {source_pois.shape[0]} {source} vertexes for {len(list(source_pois.polygon_id.unique()))} unique sources. Analysing source pois proximity to nodes.\")\n",
    "\n",
    "        # ANALYSIS - Calculate time data from nodes to source\n",
    "        ####################################################################################################################################################################################\n",
    "        # FUNCTION aup.pois_time\n",
    "        # Calculates times from nodes to source (source_nodes_time = aup.pois_time(G, nodes, edges, source_pois, source, prox_measure,count_pois))\n",
    "        # analysis function being used: def pois_time(G, nodes, edges, pois, poi_name, prox_measure,count_pois=(False,0)):\n",
    "        pois = source_pois.copy()\n",
    "        poi_name = source\n",
    "        ##########################################################################################\n",
    "        # STEP 1: NEAREST. \n",
    "        # Finds and assigns nearest node OSMID to each point of interest.\n",
    "           \n",
    "        # Defines projection for downloaded data\n",
    "        pois = pois.set_crs(\"EPSG:4326\")\n",
    "        nodes = nodes.set_crs(\"EPSG:4326\")\n",
    "        edges = edges.set_crs(\"EPSG:4326\")\n",
    "        \n",
    "        # In case there are no amenities of the type in the city, prevents it from crashing if len = 0\n",
    "        if len(pois) == 0:\n",
    "            nodes_time = nodes.copy()\n",
    "    \n",
    "            # Format\n",
    "            nodes_time.reset_index(inplace=True)\n",
    "            nodes_time = nodes_time.set_crs(\"EPSG:4326\")\n",
    "    \n",
    "            # As no amenities were found, output columns are set to nan.\n",
    "            nodes_time['time_'+poi_name] = np.nan # Time is set to np.nan.\n",
    "            print(f\"0 {poi_name} found. Time set to np.nan for all nodes.\")\n",
    "            if count_pois[0]: \n",
    "                nodes_time[f'{poi_name}_{count_pois[1]}min'] = np.nan # If requested pois_count, value is set to np.nan.\n",
    "                print(f\"0 {poi_name} found. Pois count set to nan for all nodes.\")\n",
    "                nodes_time = nodes_time[['osmid','time_'+poi_name,f'{poi_name}_{count_pois[1]}min','x','y','geometry']]\n",
    "                #return nodes_time\n",
    "            else:\n",
    "                nodes_time = nodes_time[['osmid','time_'+poi_name,'x','y','geometry']]\n",
    "                #return nodes_time\n",
    "        \n",
    "        else:\n",
    "            ### Find nearest osmnx node for each DENUE point.\n",
    "            nearest = aup.find_nearest(G, nodes, pois, return_distance= True)\n",
    "            nearest = nearest.set_crs(\"EPSG:4326\")\n",
    "            print(f\"Found and assigned nearest node osmid to each {poi_name}.\")\n",
    "\n",
    "            ##########################################################################################\n",
    "            # ADDITIONAL STEP\n",
    "            # Since right now 'nearest' has all osmnx nodes closest to a given polygon vertex, one osmnx node might be assigned to 2 or more polygon vertexes of the SAME polygon.\n",
    "            # If we leave it like that, that node will count as n points of interest even if it is just close to 1 polygon.\n",
    "            # This step filters for the minimum distance (distance_node) from osmid to each polygon vertex, \n",
    "            # so that if one node is close to 5 vertexes of 1 polygon, there is only 1 row poi, not 5.\n",
    "    \n",
    "            # Group by node (osmid) and polygon (green space) considering only the closest vertex (min)\n",
    "            groupby = nearest.groupby(['osmid','polygon_id']).agg({'distance_node':np.min})\n",
    "    \n",
    "            # Turns back into gdf merging back with nodes geometry\n",
    "            geom_gdf = nodes.reset_index()[['osmid','geometry']]\n",
    "            \n",
    "            groupby.reset_index(inplace=True)\n",
    "            nearest = pd.merge(groupby,geom_gdf,on='osmid',how='left')\n",
    "            nearest = gpd.GeoDataFrame(nearest, geometry=\"geometry\")\n",
    "\n",
    "            # Filters for pois assigned to nodes at a maximum distance of 30 meters \n",
    "            # Before filtering, (nearest.distance_node.mean() = 17.06105077021867m but max of 248.52261m, too far.\n",
    "            nearest = nearest.loc[nearest.distance_node <= 30]"
   ]
  },
  {
   "cell_type": "markdown",
   "id": "02d390eb-bcea-4f77-ac70-2e6c521bc484",
   "metadata": {},
   "source": [
    "## Isochrone test 1 (osmid chosen in QGIS because had high odc_parques_15min)"
   ]
  },
  {
   "cell_type": "markdown",
   "id": "d9b9a8e1-8486-4efd-8bd9-d3abfc6d91dc",
   "metadata": {},
   "source": [
    "### Isochrone test 1 generation"
   ]
  },
  {
   "cell_type": "code",
   "execution_count": 63,
   "id": "922581c1-9aaa-49c3-af19-f46ef1b115f3",
   "metadata": {},
   "outputs": [],
   "source": [
    "node_osmid = 1675029867"
   ]
  },
  {
   "cell_type": "code",
   "execution_count": 64,
   "id": "7e38080e-343e-4d9e-8f92-1f49869f9fcf",
   "metadata": {},
   "outputs": [
    {
     "name": "stdout",
     "output_type": "stream",
     "text": [
      "EPSG:4326\n"
     ]
    },
    {
     "data": {
      "text/html": [
       "<div>\n",
       "<style scoped>\n",
       "    .dataframe tbody tr th:only-of-type {\n",
       "        vertical-align: middle;\n",
       "    }\n",
       "\n",
       "    .dataframe tbody tr th {\n",
       "        vertical-align: top;\n",
       "    }\n",
       "\n",
       "    .dataframe thead th {\n",
       "        text-align: right;\n",
       "    }\n",
       "</style>\n",
       "<table border=\"1\" class=\"dataframe\">\n",
       "  <thead>\n",
       "    <tr style=\"text-align: right;\">\n",
       "      <th></th>\n",
       "      <th>node</th>\n",
       "      <th>geometry</th>\n",
       "    </tr>\n",
       "  </thead>\n",
       "  <tbody>\n",
       "    <tr>\n",
       "      <th>0</th>\n",
       "      <td>1.675030e+09</td>\n",
       "      <td>POLYGON ((-103.39183 20.74716, -103.40052 20.7...</td>\n",
       "    </tr>\n",
       "  </tbody>\n",
       "</table>\n",
       "</div>"
      ],
      "text/plain": [
       "           node                                           geometry\n",
       "0  1.675030e+09  POLYGON ((-103.39183 20.74716, -103.40052 20.7..."
      ]
     },
     "execution_count": 64,
     "metadata": {},
     "output_type": "execute_result"
    }
   ],
   "source": [
    "# def calculate_isochrone(G, center_node, trip_time, dist_column, subgraph=False):\n",
    "isochrone = aup.calculate_isochrone(G, node_osmid, 15, 'time_min', subgraph=False)\n",
    "\n",
    "# Create gdf\n",
    "iso_gdf = gpd.GeoDataFrame()\n",
    "iso_gdf.loc[0,'node'] = node_osmid\n",
    "iso_gdf.loc[0,'geometry'] = isochrone\n",
    "iso_gdf.set_crs(\"EPSG:4326\",inplace=True)\n",
    "\n",
    "# Show\n",
    "print(iso_gdf.crs)\n",
    "iso_gdf.head(1)"
   ]
  },
  {
   "cell_type": "code",
   "execution_count": 65,
   "id": "5debec86-ed50-4394-ab0a-276616a4dd91",
   "metadata": {},
   "outputs": [
    {
     "data": {
      "text/plain": [
       "<Axes: >"
      ]
     },
     "execution_count": 65,
     "metadata": {},
     "output_type": "execute_result"
    },
    {
     "data": {
      "image/png": "[encoded data removed]",
      "text/plain": [
       "<Figure size 500x500 with 1 Axes>"
      ]
     },
     "metadata": {},
     "output_type": "display_data"
    }
   ],
   "source": [
    "nodes_tmp = nodes.reset_index()\n",
    "node = nodes_tmp.loc[nodes_tmp.osmid == node_osmid]\n",
    "\n",
    "# Show (plot)\n",
    "fig,ax=plt.subplots(figsize=(5,5))\n",
    "iso_gdf.plot(ax=ax,zorder=0)\n",
    "node.plot(ax=ax,zorder=1,c='red')"
   ]
  },
  {
   "cell_type": "code",
   "execution_count": 51,
   "id": "0078d454-327d-4675-a798-91e7a049aebc",
   "metadata": {},
   "outputs": [],
   "source": [
    "local_save_dir = '../../../data/external/temporal_fromjupyter/volvo/isochrone_test.gpkg'\n",
    "iso_gdf.to_file(local_save_dir)"
   ]
  },
  {
   "cell_type": "markdown",
   "id": "665a109c-1841-4f60-aef7-9f834d482b98",
   "metadata": {},
   "source": [
    "### Parques on isochrone test 1"
   ]
  },
  {
   "cell_type": "code",
   "execution_count": 66,
   "id": "081873be-33e5-4f60-80eb-6c4d9490fbd4",
   "metadata": {},
   "outputs": [
    {
     "name": "stdout",
     "output_type": "stream",
     "text": [
      "(72, 6)\n"
     ]
    },
    {
     "data": {
      "text/html": [
       "<div>\n",
       "<style scoped>\n",
       "    .dataframe tbody tr th:only-of-type {\n",
       "        vertical-align: middle;\n",
       "    }\n",
       "\n",
       "    .dataframe tbody tr th {\n",
       "        vertical-align: top;\n",
       "    }\n",
       "\n",
       "    .dataframe thead th {\n",
       "        text-align: right;\n",
       "    }\n",
       "</style>\n",
       "<table border=\"1\" class=\"dataframe\">\n",
       "  <thead>\n",
       "    <tr style=\"text-align: right;\">\n",
       "      <th></th>\n",
       "      <th>osmid</th>\n",
       "      <th>polygon_id</th>\n",
       "      <th>distance_node</th>\n",
       "      <th>geometry</th>\n",
       "      <th>index_right</th>\n",
       "      <th>node</th>\n",
       "    </tr>\n",
       "  </thead>\n",
       "  <tbody>\n",
       "    <tr>\n",
       "      <th>2201</th>\n",
       "      <td>1674704950</td>\n",
       "      <td>937</td>\n",
       "      <td>12.599395</td>\n",
       "      <td>POINT (-103.39053 20.75252)</td>\n",
       "      <td>0</td>\n",
       "      <td>1.675030e+09</td>\n",
       "    </tr>\n",
       "  </tbody>\n",
       "</table>\n",
       "</div>"
      ],
      "text/plain": [
       "           osmid  polygon_id  distance_node                     geometry   \n",
       "2201  1674704950         937      12.599395  POINT (-103.39053 20.75252)  \\\n",
       "\n",
       "      index_right          node  \n",
       "2201            0  1.675030e+09  "
      ]
     },
     "execution_count": 66,
     "metadata": {},
     "output_type": "execute_result"
    }
   ],
   "source": [
    "isochrone_pois = gpd.sjoin(nearest,iso_gdf,how='inner')\n",
    "\n",
    "print(isochrone_pois.shape)\n",
    "isochrone_pois.head(1)"
   ]
  },
  {
   "cell_type": "code",
   "execution_count": 67,
   "id": "84db16ab-3059-4716-9ea1-aad00cb116dd",
   "metadata": {},
   "outputs": [
    {
     "data": {
      "text/plain": [
       "<Axes: >"
      ]
     },
     "execution_count": 67,
     "metadata": {},
     "output_type": "execute_result"
    },
    {
     "data": {
      "image/png": "[encoded data removed]",
      "text/plain": [
       "<Figure size 1000x1000 with 1 Axes>"
      ]
     },
     "metadata": {},
     "output_type": "display_data"
    }
   ],
   "source": [
    "fig,ax=plt.subplots(figsize=(10,10))\n",
    "\n",
    "iso_gdf.plot(ax=ax,zorder=0)\n",
    "isochrone_pois.plot(ax=ax,zorder=1,c='red')"
   ]
  },
  {
   "cell_type": "code",
   "execution_count": 68,
   "id": "3fc8f2ef-5a1d-4037-b396-998b96d91f08",
   "metadata": {},
   "outputs": [
    {
     "data": {
      "text/plain": [
       "25"
      ]
     },
     "execution_count": 68,
     "metadata": {},
     "output_type": "execute_result"
    }
   ],
   "source": [
    "len(list(isochrone_pois.polygon_id.unique()))"
   ]
  },
  {
   "cell_type": "code",
   "execution_count": 13,
   "id": "f708a076-fa9c-4826-9994-e45374616495",
   "metadata": {},
   "outputs": [],
   "source": [
    "isochrone_pois.to_file('../../../data/external/temporal_fromjupyter/volvo/isochrone_nearest.gpkg')"
   ]
  },
  {
   "cell_type": "markdown",
   "id": "ccabe20e-9ed9-4ae5-aed8-30e9513975b3",
   "metadata": {},
   "source": [
    "#### __Problem detected:__ Nearest node assigned to park is sometimes too far away from actual park.\n",
    "#### Fixed by adding __nearest = nearest.loc[nearest.distance_node <= 30]__"
   ]
  },
  {
   "cell_type": "markdown",
   "id": "c4518599-4411-4341-907d-079713559f66",
   "metadata": {},
   "source": [
    "## Isochrone test 2 (higher odc_parques_15min after fixing error)"
   ]
  },
  {
   "cell_type": "markdown",
   "id": "05afe11a-db9a-4b4b-918f-662b9f92f203",
   "metadata": {},
   "source": [
    "### Load volvo nodes"
   ]
  },
  {
   "cell_type": "code",
   "execution_count": 28,
   "id": "6097fdda-7456-4458-98da-63881509fa40",
   "metadata": {},
   "outputs": [
    {
     "name": "stdout",
     "output_type": "stream",
     "text": [
      "(184338, 30)\n"
     ]
    },
    {
     "data": {
      "text/html": [
       "<div>\n",
       "<style scoped>\n",
       "    .dataframe tbody tr th:only-of-type {\n",
       "        vertical-align: middle;\n",
       "    }\n",
       "\n",
       "    .dataframe tbody tr th {\n",
       "        vertical-align: top;\n",
       "    }\n",
       "\n",
       "    .dataframe thead th {\n",
       "        text-align: right;\n",
       "    }\n",
       "</style>\n",
       "<table border=\"1\" class=\"dataframe\">\n",
       "  <thead>\n",
       "    <tr style=\"text-align: right;\">\n",
       "      <th></th>\n",
       "      <th>osmid</th>\n",
       "      <th>denue_guarderias</th>\n",
       "      <th>denue_guarderias_15min</th>\n",
       "      <th>denue_preescolar</th>\n",
       "      <th>denue_preescolar_15min</th>\n",
       "      <th>denue_primaria</th>\n",
       "      <th>denue_primaria_15min</th>\n",
       "      <th>denue_secundaria</th>\n",
       "      <th>denue_secundaria_15min</th>\n",
       "      <th>clues_primer_nivel</th>\n",
       "      <th>...</th>\n",
       "      <th>denue_museos_15min</th>\n",
       "      <th>denue_bibliotecas</th>\n",
       "      <th>denue_bibliotecas_15min</th>\n",
       "      <th>denue_bancos</th>\n",
       "      <th>denue_bancos_15min</th>\n",
       "      <th>x</th>\n",
       "      <th>y</th>\n",
       "      <th>odc_parques</th>\n",
       "      <th>odc_parques_15min</th>\n",
       "      <th>geometry</th>\n",
       "    </tr>\n",
       "  </thead>\n",
       "  <tbody>\n",
       "    <tr>\n",
       "      <th>0</th>\n",
       "      <td>28751344</td>\n",
       "      <td>13.128475</td>\n",
       "      <td>1.0</td>\n",
       "      <td>1.80726</td>\n",
       "      <td>5.0</td>\n",
       "      <td>7.275387</td>\n",
       "      <td>8.0</td>\n",
       "      <td>3.88002</td>\n",
       "      <td>2.0</td>\n",
       "      <td>7.275387</td>\n",
       "      <td>...</td>\n",
       "      <td>0.0</td>\n",
       "      <td>15.68526</td>\n",
       "      <td>0.0</td>\n",
       "      <td>12.983204</td>\n",
       "      <td>2.0</td>\n",
       "      <td>-103.306309</td>\n",
       "      <td>20.711533</td>\n",
       "      <td>5.763263</td>\n",
       "      <td>6</td>\n",
       "      <td>POINT (-103.30631 20.71153)</td>\n",
       "    </tr>\n",
       "  </tbody>\n",
       "</table>\n",
       "<p>1 rows × 30 columns</p>\n",
       "</div>"
      ],
      "text/plain": [
       "      osmid  denue_guarderias  denue_guarderias_15min  denue_preescolar   \n",
       "0  28751344         13.128475                     1.0           1.80726  \\\n",
       "\n",
       "   denue_preescolar_15min  denue_primaria  denue_primaria_15min   \n",
       "0                     5.0        7.275387                   8.0  \\\n",
       "\n",
       "   denue_secundaria  denue_secundaria_15min  clues_primer_nivel  ...   \n",
       "0           3.88002                     2.0            7.275387  ...  \\\n",
       "\n",
       "   denue_museos_15min  denue_bibliotecas  denue_bibliotecas_15min   \n",
       "0                 0.0           15.68526                      0.0  \\\n",
       "\n",
       "   denue_bancos  denue_bancos_15min           x          y  odc_parques   \n",
       "0     12.983204                 2.0 -103.306309  20.711533     5.763263  \\\n",
       "\n",
       "   odc_parques_15min                     geometry  \n",
       "0                  6  POINT (-103.30631 20.71153)  \n",
       "\n",
       "[1 rows x 30 columns]"
      ]
     },
     "execution_count": 28,
     "metadata": {},
     "output_type": "execute_result"
    }
   ],
   "source": [
    "nodes_local_save_dir = '../../../data/external/temporal_fromjupyter/volvo/proxanalysis_volvo_2024_nodes.gpkg'\n",
    "proxanalysis_volvo_2024_nodes = gpd.read_file(nodes_local_save_dir)\n",
    "\n",
    "# Show\n",
    "print(proxanalysis_volvo_2024_nodes.shape)\n",
    "proxanalysis_volvo_2024_nodes.head(1)"
   ]
  },
  {
   "cell_type": "markdown",
   "id": "da82e287-4bc3-4d27-b24b-c721227e668e",
   "metadata": {},
   "source": [
    "### Find node with highest odc_parques_15min"
   ]
  },
  {
   "cell_type": "code",
   "execution_count": 29,
   "id": "28083e46-5de6-4c95-9e7a-f88bef9312c9",
   "metadata": {},
   "outputs": [
    {
     "name": "stdout",
     "output_type": "stream",
     "text": [
      "(1, 30)\n"
     ]
    },
    {
     "data": {
      "text/html": [
       "<div>\n",
       "<style scoped>\n",
       "    .dataframe tbody tr th:only-of-type {\n",
       "        vertical-align: middle;\n",
       "    }\n",
       "\n",
       "    .dataframe tbody tr th {\n",
       "        vertical-align: top;\n",
       "    }\n",
       "\n",
       "    .dataframe thead th {\n",
       "        text-align: right;\n",
       "    }\n",
       "</style>\n",
       "<table border=\"1\" class=\"dataframe\">\n",
       "  <thead>\n",
       "    <tr style=\"text-align: right;\">\n",
       "      <th></th>\n",
       "      <th>osmid</th>\n",
       "      <th>denue_guarderias</th>\n",
       "      <th>denue_guarderias_15min</th>\n",
       "      <th>denue_preescolar</th>\n",
       "      <th>denue_preescolar_15min</th>\n",
       "      <th>denue_primaria</th>\n",
       "      <th>denue_primaria_15min</th>\n",
       "      <th>denue_secundaria</th>\n",
       "      <th>denue_secundaria_15min</th>\n",
       "      <th>clues_primer_nivel</th>\n",
       "      <th>...</th>\n",
       "      <th>denue_museos_15min</th>\n",
       "      <th>denue_bibliotecas</th>\n",
       "      <th>denue_bibliotecas_15min</th>\n",
       "      <th>denue_bancos</th>\n",
       "      <th>denue_bancos_15min</th>\n",
       "      <th>x</th>\n",
       "      <th>y</th>\n",
       "      <th>odc_parques</th>\n",
       "      <th>odc_parques_15min</th>\n",
       "      <th>geometry</th>\n",
       "    </tr>\n",
       "  </thead>\n",
       "  <tbody>\n",
       "    <tr>\n",
       "      <th>94585</th>\n",
       "      <td>4663817629</td>\n",
       "      <td>52.205267</td>\n",
       "      <td>0.0</td>\n",
       "      <td>12.249914</td>\n",
       "      <td>1.0</td>\n",
       "      <td>15.867175</td>\n",
       "      <td>0.0</td>\n",
       "      <td>23.512945</td>\n",
       "      <td>0.0</td>\n",
       "      <td>19.231113</td>\n",
       "      <td>...</td>\n",
       "      <td>0.0</td>\n",
       "      <td>61.214214</td>\n",
       "      <td>0.0</td>\n",
       "      <td>49.956895</td>\n",
       "      <td>0.0</td>\n",
       "      <td>-103.350764</td>\n",
       "      <td>20.494728</td>\n",
       "      <td>0.0</td>\n",
       "      <td>65</td>\n",
       "      <td>POINT (-103.35076 20.49473)</td>\n",
       "    </tr>\n",
       "  </tbody>\n",
       "</table>\n",
       "<p>1 rows × 30 columns</p>\n",
       "</div>"
      ],
      "text/plain": [
       "            osmid  denue_guarderias  denue_guarderias_15min  denue_preescolar   \n",
       "94585  4663817629         52.205267                     0.0         12.249914  \\\n",
       "\n",
       "       denue_preescolar_15min  denue_primaria  denue_primaria_15min   \n",
       "94585                     1.0       15.867175                   0.0  \\\n",
       "\n",
       "       denue_secundaria  denue_secundaria_15min  clues_primer_nivel  ...   \n",
       "94585         23.512945                     0.0           19.231113  ...  \\\n",
       "\n",
       "       denue_museos_15min  denue_bibliotecas  denue_bibliotecas_15min   \n",
       "94585                 0.0          61.214214                      0.0  \\\n",
       "\n",
       "       denue_bancos  denue_bancos_15min           x          y  odc_parques   \n",
       "94585     49.956895                 0.0 -103.350764  20.494728          0.0  \\\n",
       "\n",
       "       odc_parques_15min                     geometry  \n",
       "94585                 65  POINT (-103.35076 20.49473)  \n",
       "\n",
       "[1 rows x 30 columns]"
      ]
     },
     "execution_count": 29,
     "metadata": {},
     "output_type": "execute_result"
    }
   ],
   "source": [
    "idx = proxanalysis_volvo_2024_nodes['odc_parques_15min'].max()\n",
    "higher_parques = proxanalysis_volvo_2024_nodes.loc[proxanalysis_volvo_2024_nodes['odc_parques_15min'] == idx]\n",
    "higher_parques = higher_parques\n",
    "\n",
    "# Show\n",
    "print(higher_parques.shape)\n",
    "higher_parques.head(1)"
   ]
  },
  {
   "cell_type": "code",
   "execution_count": 30,
   "id": "9c7c53cf-a99f-4ae4-8a70-503fdb2992e1",
   "metadata": {},
   "outputs": [
    {
     "data": {
      "text/html": [
       "<div>\n",
       "<style scoped>\n",
       "    .dataframe tbody tr th:only-of-type {\n",
       "        vertical-align: middle;\n",
       "    }\n",
       "\n",
       "    .dataframe tbody tr th {\n",
       "        vertical-align: top;\n",
       "    }\n",
       "\n",
       "    .dataframe thead th {\n",
       "        text-align: right;\n",
       "    }\n",
       "</style>\n",
       "<table border=\"1\" class=\"dataframe\">\n",
       "  <thead>\n",
       "    <tr style=\"text-align: right;\">\n",
       "      <th></th>\n",
       "      <th>osmid</th>\n",
       "      <th>denue_guarderias_15min</th>\n",
       "      <th>denue_preescolar_15min</th>\n",
       "      <th>denue_primaria_15min</th>\n",
       "      <th>denue_secundaria_15min</th>\n",
       "      <th>clues_primer_nivel_15min</th>\n",
       "      <th>denue_farmacias_15min</th>\n",
       "      <th>odc_parques_15min</th>\n",
       "      <th>sip_cancha_15min</th>\n",
       "      <th>sip_unidad_deportiva_15min</th>\n",
       "      <th>denue_cines_15min</th>\n",
       "      <th>denue_museos_15min</th>\n",
       "      <th>denue_bibliotecas_15min</th>\n",
       "      <th>denue_bancos_15min</th>\n",
       "      <th>geometry</th>\n",
       "    </tr>\n",
       "  </thead>\n",
       "  <tbody>\n",
       "    <tr>\n",
       "      <th>94585</th>\n",
       "      <td>4663817629</td>\n",
       "      <td>0.0</td>\n",
       "      <td>1.0</td>\n",
       "      <td>0.0</td>\n",
       "      <td>0.0</td>\n",
       "      <td>0.0</td>\n",
       "      <td>0.0</td>\n",
       "      <td>65</td>\n",
       "      <td>0.0</td>\n",
       "      <td>0.0</td>\n",
       "      <td>0.0</td>\n",
       "      <td>0.0</td>\n",
       "      <td>0.0</td>\n",
       "      <td>0.0</td>\n",
       "      <td>POINT (-103.35076 20.49473)</td>\n",
       "    </tr>\n",
       "  </tbody>\n",
       "</table>\n",
       "</div>"
      ],
      "text/plain": [
       "            osmid  denue_guarderias_15min  denue_preescolar_15min   \n",
       "94585  4663817629                     0.0                     1.0  \\\n",
       "\n",
       "       denue_primaria_15min  denue_secundaria_15min  clues_primer_nivel_15min   \n",
       "94585                   0.0                     0.0                       0.0  \\\n",
       "\n",
       "       denue_farmacias_15min  odc_parques_15min  sip_cancha_15min   \n",
       "94585                    0.0                 65               0.0  \\\n",
       "\n",
       "       sip_unidad_deportiva_15min  denue_cines_15min  denue_museos_15min   \n",
       "94585                         0.0                0.0                 0.0  \\\n",
       "\n",
       "       denue_bibliotecas_15min  denue_bancos_15min   \n",
       "94585                      0.0                 0.0  \\\n",
       "\n",
       "                          geometry  \n",
       "94585  POINT (-103.35076 20.49473)  "
      ]
     },
     "execution_count": 30,
     "metadata": {},
     "output_type": "execute_result"
    }
   ],
   "source": [
    "higher_parques = higher_parques[['osmid', \n",
    "                                 'denue_guarderias_15min','denue_preescolar_15min', 'denue_primaria_15min', 'denue_secundaria_15min',\n",
    "                                 'clues_primer_nivel_15min','denue_farmacias_15min', \n",
    "                                 'odc_parques_15min',\n",
    "                                 'sip_cancha_15min','sip_unidad_deportiva_15min',\n",
    "                                 'denue_cines_15min', 'denue_museos_15min','denue_bibliotecas_15min',\n",
    "                                 'denue_bancos_15min',\n",
    "                                 'geometry']]\n",
    "higher_parques"
   ]
  },
  {
   "cell_type": "markdown",
   "id": "856a2d44-3458-41dc-bdaf-0c53f0eae281",
   "metadata": {},
   "source": [
    "### Isochrone test 2 generation"
   ]
  },
  {
   "cell_type": "code",
   "execution_count": 32,
   "id": "e2dd92e0-9dff-4ae1-9b24-af73743580f4",
   "metadata": {},
   "outputs": [
    {
     "data": {
      "text/plain": [
       "4663817629"
      ]
     },
     "execution_count": 32,
     "metadata": {},
     "output_type": "execute_result"
    }
   ],
   "source": [
    "node_osmid = higher_parques['osmid'].unique()[0]\n",
    "node_osmid"
   ]
  },
  {
   "cell_type": "code",
   "execution_count": 33,
   "id": "85ed4546-1fa0-4710-af38-1d070c2d7ef6",
   "metadata": {},
   "outputs": [
    {
     "name": "stdout",
     "output_type": "stream",
     "text": [
      "EPSG:4326\n"
     ]
    },
    {
     "data": {
      "text/html": [
       "<div>\n",
       "<style scoped>\n",
       "    .dataframe tbody tr th:only-of-type {\n",
       "        vertical-align: middle;\n",
       "    }\n",
       "\n",
       "    .dataframe tbody tr th {\n",
       "        vertical-align: top;\n",
       "    }\n",
       "\n",
       "    .dataframe thead th {\n",
       "        text-align: right;\n",
       "    }\n",
       "</style>\n",
       "<table border=\"1\" class=\"dataframe\">\n",
       "  <thead>\n",
       "    <tr style=\"text-align: right;\">\n",
       "      <th></th>\n",
       "      <th>node</th>\n",
       "      <th>geometry</th>\n",
       "    </tr>\n",
       "  </thead>\n",
       "  <tbody>\n",
       "    <tr>\n",
       "      <th>0</th>\n",
       "      <td>4.663818e+09</td>\n",
       "      <td>POLYGON ((-103.34713 20.49029, -103.35441 20.4...</td>\n",
       "    </tr>\n",
       "  </tbody>\n",
       "</table>\n",
       "</div>"
      ],
      "text/plain": [
       "           node                                           geometry\n",
       "0  4.663818e+09  POLYGON ((-103.34713 20.49029, -103.35441 20.4..."
      ]
     },
     "execution_count": 33,
     "metadata": {},
     "output_type": "execute_result"
    }
   ],
   "source": [
    "# def calculate_isochrone(G, center_node, trip_time, dist_column, subgraph=False):\n",
    "isochrone = aup.calculate_isochrone(G, node_osmid, 15, 'time_min', subgraph=False)\n",
    "\n",
    "# Create gdf\n",
    "iso_gdf_2 = gpd.GeoDataFrame()\n",
    "iso_gdf_2.loc[0,'node'] = node_osmid\n",
    "iso_gdf_2.loc[0,'geometry'] = isochrone\n",
    "iso_gdf_2.set_crs(\"EPSG:4326\",inplace=True)\n",
    "\n",
    "# Show\n",
    "print(iso_gdf_2.crs)\n",
    "iso_gdf_2.head(1)"
   ]
  },
  {
   "cell_type": "code",
   "execution_count": 34,
   "id": "0972bd81-3554-4e67-8c0d-26234456f8c2",
   "metadata": {},
   "outputs": [
    {
     "data": {
      "text/plain": [
       "<Axes: >"
      ]
     },
     "execution_count": 34,
     "metadata": {},
     "output_type": "execute_result"
    },
    {
     "data": {
      "image/png": "[encoded data removed]",
      "text/plain": [
       "<Figure size 500x500 with 1 Axes>"
      ]
     },
     "metadata": {},
     "output_type": "display_data"
    }
   ],
   "source": [
    "nodes_tmp = nodes.reset_index()\n",
    "node = nodes_tmp.loc[nodes_tmp.osmid == node_osmid]\n",
    "\n",
    "# Show (plot)\n",
    "fig,ax=plt.subplots(figsize=(5,5))\n",
    "iso_gdf_2.plot(ax=ax,zorder=0)\n",
    "node.plot(ax=ax,zorder=1,c='red')"
   ]
  },
  {
   "cell_type": "code",
   "execution_count": 12,
   "id": "362669e0-1424-4817-89eb-9f064a1ec090",
   "metadata": {},
   "outputs": [],
   "source": [
    "local_save_dir = '../../../data/external/temporal_fromjupyter/volvo/isochrone_test_2.gpkg'\n",
    "iso_gdf_2.to_file(local_save_dir)"
   ]
  },
  {
   "cell_type": "markdown",
   "id": "0307b912-4526-44bb-8c3c-bd279a807191",
   "metadata": {},
   "source": [
    "### Parques on isochrone test 2"
   ]
  },
  {
   "cell_type": "code",
   "execution_count": 35,
   "id": "93dc4624-3d95-44bd-a48b-d9966c64caf8",
   "metadata": {},
   "outputs": [
    {
     "name": "stdout",
     "output_type": "stream",
     "text": [
      "(166, 6)\n"
     ]
    },
    {
     "data": {
      "text/html": [
       "<div>\n",
       "<style scoped>\n",
       "    .dataframe tbody tr th:only-of-type {\n",
       "        vertical-align: middle;\n",
       "    }\n",
       "\n",
       "    .dataframe tbody tr th {\n",
       "        vertical-align: top;\n",
       "    }\n",
       "\n",
       "    .dataframe thead th {\n",
       "        text-align: right;\n",
       "    }\n",
       "</style>\n",
       "<table border=\"1\" class=\"dataframe\">\n",
       "  <thead>\n",
       "    <tr style=\"text-align: right;\">\n",
       "      <th></th>\n",
       "      <th>osmid</th>\n",
       "      <th>polygon_id</th>\n",
       "      <th>distance_node</th>\n",
       "      <th>geometry</th>\n",
       "      <th>index_right</th>\n",
       "      <th>node</th>\n",
       "    </tr>\n",
       "  </thead>\n",
       "  <tbody>\n",
       "    <tr>\n",
       "      <th>3118</th>\n",
       "      <td>1750011263</td>\n",
       "      <td>2847</td>\n",
       "      <td>5.577534</td>\n",
       "      <td>POINT (-103.35442 20.49235)</td>\n",
       "      <td>0</td>\n",
       "      <td>4.663818e+09</td>\n",
       "    </tr>\n",
       "  </tbody>\n",
       "</table>\n",
       "</div>"
      ],
      "text/plain": [
       "           osmid  polygon_id  distance_node                     geometry   \n",
       "3118  1750011263        2847       5.577534  POINT (-103.35442 20.49235)  \\\n",
       "\n",
       "      index_right          node  \n",
       "3118            0  4.663818e+09  "
      ]
     },
     "execution_count": 35,
     "metadata": {},
     "output_type": "execute_result"
    }
   ],
   "source": [
    "isochrone_2_pois = gpd.sjoin(nearest,iso_gdf_2,how='inner')\n",
    "\n",
    "print(isochrone_2_pois.shape)\n",
    "isochrone_2_pois.head(1)"
   ]
  },
  {
   "cell_type": "code",
   "execution_count": 36,
   "id": "43130da1-425b-4368-aa9e-6b9b0ba5cb74",
   "metadata": {},
   "outputs": [
    {
     "data": {
      "text/plain": [
       "<Axes: >"
      ]
     },
     "execution_count": 36,
     "metadata": {},
     "output_type": "execute_result"
    },
    {
     "data": {
      "image/png": "[encoded data removed]",
      "text/plain": [
       "<Figure size 500x500 with 1 Axes>"
      ]
     },
     "metadata": {},
     "output_type": "display_data"
    }
   ],
   "source": [
    "fig,ax=plt.subplots(figsize=(5,5))\n",
    "\n",
    "iso_gdf_2.plot(ax=ax,zorder=0)\n",
    "isochrone_2_pois.plot(ax=ax,zorder=1,c='red')"
   ]
  },
  {
   "cell_type": "code",
   "execution_count": 37,
   "id": "25736a38-335a-4487-b392-345a19760665",
   "metadata": {},
   "outputs": [
    {
     "data": {
      "text/plain": [
       "56"
      ]
     },
     "execution_count": 37,
     "metadata": {},
     "output_type": "execute_result"
    }
   ],
   "source": [
    "# proxanalysis ['odc_parques_15min'].max() = 65\n",
    "len(list(isochrone_2_pois.polygon_id.unique()))"
   ]
  },
  {
   "cell_type": "code",
   "execution_count": 20,
   "id": "34a94eec-81a1-469e-8c89-b2da3883cbb1",
   "metadata": {},
   "outputs": [],
   "source": [
    "isochrone_2_pois.to_file('../../../data/external/temporal_fromjupyter/volvo/isochrone_2_nearest.gpkg')"
   ]
  },
  {
   "cell_type": "code",
   "execution_count": null,
   "id": "79e61e9b-eaff-4049-8b0e-bbbd836ecbd3",
   "metadata": {},
   "outputs": [],
   "source": []
  }
 ],
 "metadata": {
  "kernelspec": {
   "display_name": "GDS-10.0",
   "language": "python",
   "name": "gds"
  },
  "language_info": {
   "codemirror_mode": {
    "name": "ipython",
    "version": 3
   },
   "file_extension": ".py",
   "mimetype": "text/x-python",
   "name": "python",
   "nbconvert_exporter": "python",
   "pygments_lexer": "ipython3",
   "version": "3.9.18"
  }
 },
 "nbformat": 4,
 "nbformat_minor": 5
}
