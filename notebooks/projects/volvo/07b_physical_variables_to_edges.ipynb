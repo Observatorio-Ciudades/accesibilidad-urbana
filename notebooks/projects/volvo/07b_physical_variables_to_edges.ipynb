{
 "cells": [
  {
   "cell_type": "markdown",
   "id": "6e989275-6a3d-4df6-95ed-767e64064ed9",
   "metadata": {},
   "source": [
    "# 07b_physical_variables_to_edges (Guadalajara only)"
   ]
  },
  {
   "cell_type": "markdown",
   "id": "26803238-5e1a-42d8-8277-6edb13a89b7f",
   "metadata": {},
   "source": [
    "This notebook __transfers variables to the edges__ (which already contain slope, from notebook 07a)\n",
    "* ndvi_mean\n",
    "* banqueta_pct\n",
    "* average_population\n",
    "* average_density"
   ]
  },
  {
   "cell_type": "markdown",
   "id": "7f25432c-f4ec-4006-afae-8172774d5ef6",
   "metadata": {},
   "source": [
    "## Import libraries"
   ]
  },
  {
   "cell_type": "code",
   "execution_count": null,
   "id": "3aefe337-bbec-4283-8df2-27500b3892a2",
   "metadata": {},
   "outputs": [],
   "source": [
    "first_folder_path = '../../../'"
   ]
  },
  {
   "cell_type": "code",
   "execution_count": null,
   "id": "c63cb2de-3e15-4901-9abb-76120b8751b2",
   "metadata": {},
   "outputs": [],
   "source": [
    "import warnings\n",
    "warnings.filterwarnings('ignore')\n",
    "import geopandas as gpd\n",
    "from geopandas.tools import overlay\n",
    "import matplotlib.pyplot as plt\n",
    "\n",
    "import pandas as pd\n",
    "import numpy as np\n",
    "import seaborn as sns\n",
    "import random\n",
    "from sklearn.model_selection import StratifiedKFold\n",
    "from sklearn.metrics import classification_report, mean_squared_error\n",
    "#import tensorflow as tf\n",
    "#from keras.models import Sequential\n",
    "#from keras.layers import Dense\n",
    "#from tensorflow.keras.utils import to_categorical\n",
    "import time\n",
    "\n",
    "import os\n",
    "import sys\n",
    "module_path = os.path.abspath(os.path.join(first_folder_path))\n",
    "if module_path not in sys.path:\n",
    "    sys.path.append(module_path)\n",
    "    import aup\n",
    "else:\n",
    "    import aup"
   ]
  },
  {
   "cell_type": "markdown",
   "id": "3e1564c8-3dab-4f37-9396-6fbb2fffb977",
   "metadata": {},
   "source": [
    "## Notebook config"
   ]
  },
  {
   "cell_type": "code",
   "execution_count": null,
   "id": "98464a52-3ce9-49ad-bc49-240fac86ff23",
   "metadata": {},
   "outputs": [],
   "source": [
    "# ----- ----- ----- Projection to be used when needed ----- ----- -----\n",
    "projected_crs = \"EPSG:32613\"\n",
    "# ----- ----- ----- Save output locally?\n",
    "local_save = False"
   ]
  },
  {
   "cell_type": "markdown",
   "id": "7755a77f-d490-451e-a571-167e5ad82361",
   "metadata": {},
   "source": [
    "## Load data"
   ]
  },
  {
   "cell_type": "markdown",
   "id": "30d0bcff-61e8-40c3-a0be-348b0511a6c9",
   "metadata": {},
   "source": [
    "### __Load data__ - Nodes and edges"
   ]
  },
  {
   "cell_type": "code",
   "execution_count": null,
   "id": "824d6248-93aa-483b-b2d5-31403799af79",
   "metadata": {},
   "outputs": [],
   "source": [
    "#Previous\n",
    "#G, nodes, edges = aup.graph_from_hippo(hex_gdf, schema='osmnx', edges_folder='edges_elevation_23_line', nodes_folder='nodes_osmnx_23_point')"
   ]
  },
  {
   "cell_type": "code",
   "execution_count": null,
   "id": "1ffb7e67-ef1f-4681-99ba-548f737be27b",
   "metadata": {},
   "outputs": [],
   "source": [
    "#Previous\n",
    "#nodes = nodes.reset_index()\n",
    "#nodes.head(2)"
   ]
  },
  {
   "cell_type": "code",
   "execution_count": null,
   "id": "9932a3eb-2930-4bfb-9482-f220d66bf6f2",
   "metadata": {},
   "outputs": [],
   "source": [
    "#Previous\n",
    "#edges = edges.reset_index()\n",
    "#edges.head(2)"
   ]
  },
  {
   "cell_type": "code",
   "execution_count": null,
   "id": "7500be57-d865-43ed-89e4-ffa86efd2539",
   "metadata": {},
   "outputs": [],
   "source": [
    "#Previous\n",
    "#edges_var = edges.copy()\n",
    "#edges_var = edges_var.reset_index()\n",
    "#edges_var = edges_var.to_crs(\"EPSG:32613\")\n",
    "#edges_var = edges_var[['u','v','key','osmid','grade_abs','geometry']] # Ya contiene a las prendientes."
   ]
  },
  {
   "cell_type": "code",
   "execution_count": null,
   "id": "18b24203-aa6d-41b3-b670-dddc09ab5ee1",
   "metadata": {},
   "outputs": [],
   "source": [
    "# Read file\n",
    "nodes = gpd.read_file(first_folder_path + \"data/processed/volvo/slope_to_edges_gdl/nodes_elev_mde.gpkg\")\n",
    "# Filter for data of interest\n",
    "nodes = nodes[['osmid','x','y','street_count','elevation','geometry']]\n",
    "# Review CRS\n",
    "if nodes.crs != projected_crs:\n",
    "    nodes = nodes.to_crs(projected_crs)\n",
    "    print(f\"Changed crs to {projected_crs}.\")\n",
    "\n",
    "# Show\n",
    "print(nodes.shape)\n",
    "nodes.head(2)"
   ]
  },
  {
   "cell_type": "code",
   "execution_count": null,
   "id": "372bab7a-62c7-4724-bc09-946aaaa94c96",
   "metadata": {},
   "outputs": [],
   "source": [
    "# Read file\n",
    "edges = gpd.read_file(first_folder_path + \"data/processed/volvo/slope_to_edges_gdl/edges_elev_mde.gpkg\")\n",
    "# Filter for data of interest\n",
    "edges = edges[['u','v','key','grade_abs','geometry']]\n",
    "# Review CRS\n",
    "if edges.crs != projected_crs:\n",
    "    edges = edges.to_crs(projected_crs)\n",
    "    print(f\"Changed crs to {projected_crs}.\")\n",
    "\n",
    "# Show\n",
    "print(edges.shape)\n",
    "edges.head(2)"
   ]
  },
  {
   "cell_type": "markdown",
   "id": "cfec3d0f-45d4-4e4e-a139-fb44f36544bd",
   "metadata": {},
   "source": [
    "## Add __NDVI__ to analysis"
   ]
  },
  {
   "cell_type": "code",
   "execution_count": null,
   "id": "37b85b68-9830-4816-8a47-1707e399d052",
   "metadata": {},
   "outputs": [],
   "source": [
    "ndvi_schema = \"raster_analysis\"\n",
    "ndvi_table = \"ndvi_analysis_hex\"\n",
    "\n",
    "query = f\"SELECT * FROM {ndvi_schema}.{ndvi_table} WHERE city IN ('Guadalajara') AND res = 11\";\n",
    "ndvi_gdl = aup.gdf_from_query(query, geometry_col='geometry')\n",
    "# Review CRS\n",
    "if ndvi_gdl.crs != projected_crs:\n",
    "    ndvi_gdl = ndvi_gdl.to_crs(projected_crs)\n",
    "    print(f\"Changed crs to {projected_crs}.\")\n",
    "\n",
    "# Show\n",
    "print(ndvi_gdl.shape)\n",
    "ndvi_gdl.head(2)"
   ]
  },
  {
   "cell_type": "code",
   "execution_count": null,
   "id": "bc2e45df-ca28-4d0f-bb10-f0611074d54a",
   "metadata": {},
   "outputs": [],
   "source": [
    "# Hacer la unión espacial para asignar valores NDVI a edges\n",
    "edges_ndvi = gpd.overlay(edges, ndvi_gdl, how='intersection')\n",
    "\n",
    "# Show\n",
    "print(edges_ndvi.crs)\n",
    "print(edges_ndvi.shape)\n",
    "edges_ndvi.head(2)"
   ]
  },
  {
   "cell_type": "code",
   "execution_count": null,
   "id": "77034dae-3b0f-443b-9fd0-86ea69c2bcb9",
   "metadata": {},
   "outputs": [],
   "source": [
    "# Calcular la media del NDVI por cada calle (usando 'u', 'v', 'key' como identificadores)\n",
    "ndvi_per_edge = edges_ndvi.groupby(['u', 'v', 'key'])['ndvi_mean'].mean().reset_index()\n",
    "\n",
    "# Unir los datos de NDVI agregados con el dataset original de edges\n",
    "edges_var_1 = edges.merge(ndvi_per_edge, on=['u', 'v', 'key'], how='left')\n",
    "\n",
    "# Rellenar valores nulos con 0\n",
    "edges_var_1['ndvi_mean'] = edges_var_1['ndvi_mean'].fillna(0)\n",
    "\n",
    "# Show\n",
    "print(edges_var_1.shape)\n",
    "print(edges_var_1.isna().sum())\n",
    "edges_var_1.head(2)"
   ]
  },
  {
   "cell_type": "code",
   "execution_count": null,
   "id": "814cdea7-4ff9-4c5b-8457-f87346ad39b2",
   "metadata": {},
   "outputs": [],
   "source": [
    "edges_var_1.plot(\"ndvi_mean\")"
   ]
  },
  {
   "cell_type": "markdown",
   "id": "bc11f439-887f-415d-bc41-ed3f01c1b101",
   "metadata": {},
   "source": [
    "## Add __Land Use__ to analysis"
   ]
  },
  {
   "cell_type": "code",
   "execution_count": null,
   "id": "0900c098-033c-47b8-9302-5713506b3176",
   "metadata": {},
   "outputs": [],
   "source": [
    "# Load data\n",
    "land_use = gpd.read_file(first_folder_path + \"data/processed/volvo/uso_suelo_gdl/predios_uso_suelo.geojson\")\n",
    "# Ensure projected CRS\n",
    "if land_use.crs != projected_crs:\n",
    "    land_use = land_use.to_crs(projected_crs)\n",
    "    print(f\"Changed crs to {projected_crs}.\")\n",
    "\n",
    "# Show\n",
    "print(land_use.crs)\n",
    "print(land_use.shape)\n",
    "print(land_use['clasificacion_uso_suelo'].unique())\n",
    "land_use.head(2)"
   ]
  },
  {
   "cell_type": "code",
   "execution_count": null,
   "id": "0233d757-0cd1-4589-8036-5d56208a39c4",
   "metadata": {},
   "outputs": [],
   "source": [
    "# Crear un buffer alrededor de los edges\n",
    "edges_buffer = edges_var_1.copy()\n",
    "edges_buffer['geometry'] = edges_buffer.buffer(30)\n",
    "\n",
    "# Convertir a coordenadas proyectadas para cálculos espaciales\n",
    "if edges_buffer.crs != projected_crs:\n",
    "    edges_buffer = edges_buffer.to_crs(projected_crs)\n",
    "    print(f\"Changed crs to {projected_crs}.\")\n",
    "\n",
    "# Filtrar solo los polígonos de uso de suelo Residencial\n",
    "land_use_residencial = land_use[land_use['clasificacion_uso_suelo'].isin(['Residencial', 'Mixto'])].copy()\n",
    "\n",
    "# Calcular intersecciones solo con uso de suelo Residencial\n",
    "intersections_residencial = gpd.overlay(edges_buffer, land_use_residencial, how='intersection')\n",
    "\n",
    "# Show\n",
    "print(intersections_residencial.crs)\n",
    "print(intersections_residencial.shape)\n",
    "intersections_residencial.head(2)"
   ]
  },
  {
   "cell_type": "code",
   "execution_count": null,
   "id": "42ea74b8-277c-4a71-bdb7-6e046a91ba75",
   "metadata": {},
   "outputs": [],
   "source": [
    "if len(intersections_residencial) == 0:\n",
    "    print(\"No hay intersecciones. Verifica las geometrías y los CRS.\")\n",
    "else:\n",
    "    # Calcular el área de intersección\n",
    "    intersections_residencial['area_inte'] = intersections_residencial.geometry.area\n",
    "\n",
    "    # Sumar el área de intersección por cada segmento de calle\n",
    "    area_usos_edges = intersections_residencial.groupby(['u', 'v', 'key'])['area_inte'].sum()\n",
    "\n",
    "    # Calcular la proporción de cada uso de suelo\n",
    "    land_use_presence_edges = intersections_residencial.groupby(['u', 'v', 'key', 'clasificacion_uso_suelo'])['area_inte'].sum()\n",
    "    percentage_land_use_edges = land_use_presence_edges / area_usos_edges\n",
    "\n",
    "    print(\"Número de intersecciones:\", len(intersections_residencial))592\n",
    "    print(\"Número de calles únicas con intersecciones:\", intersections_residencial[['u', 'v', 'key']].nunique())\n",
    "\n",
    "    # Calcular el número de categorías por calle\n",
    "    n_land_use = intersections_residencial.groupby(['u', 'v', 'key'])['clasificacion_uso_suelo'].unique().apply(len)\n",
    "\n",
    "    # Aplicar la fórmula de entropía de Shannon\n",
    "    def calcular_entropia(osmid, percentage_series):\n",
    "        if osmid not in percentage_series.index or len(percentage_series.loc[osmid]) == 1:\n",
    "            return 0  # Sin datos o solo un uso → entropía 0\n",
    "\n",
    "        probs = percentage_series.loc[osmid].values\n",
    "        return -np.sum(probs * np.log2(probs))\n",
    "\n",
    "    edges_buffer['entropy'] = edges_buffer.set_index(['u', 'v', 'key']).index.map(\n",
    "        lambda idx: calcular_entropia(idx, percentage_land_use_edges))\n",
    "\n",
    "    # Convertir a CRS original y guardar resultado\n",
    "    edges_buffer['buffer_wkt'] = edges_buffer['geometry'].apply(lambda geom: geom.wkt)   "
   ]
  },
  {
   "cell_type": "code",
   "execution_count": null,
   "id": "890bc68d-a7ba-4cb3-b5bc-ecf692af7c5a",
   "metadata": {},
   "outputs": [],
   "source": [
    "# Show result\n",
    "print(edges_buffer['entropy'].unique())\n",
    "print(edges_buffer.shape)\n",
    "edges_buffer.head(2)"
   ]
  },
  {
   "cell_type": "code",
   "execution_count": null,
   "id": "a7d584a1-a7f3-4891-b9f2-81c4167c41d8",
   "metadata": {},
   "outputs": [],
   "source": [
    "# Store result in edges_var\n",
    "edges_var_2 = edges_buffer.copy()\n",
    "\n",
    "# Show\n",
    "print(edges_var_2.crs)\n",
    "print(edges_var_2.shape)\n",
    "edges_var_2.head(2)"
   ]
  },
  {
   "cell_type": "markdown",
   "id": "7aeb4a4c-f3ec-4918-878f-bbfaa14d6635",
   "metadata": {},
   "source": [
    "## Sidewalks"
   ]
  },
  {
   "cell_type": "code",
   "execution_count": null,
   "id": "53565d6f-7758-4934-83aa-b75d8aa54768",
   "metadata": {},
   "outputs": [],
   "source": [
    "hexs_type = \"urban\"\n",
    "city = \"Guadalajara\"\n",
    "query_urban = f\"SELECT * FROM hexgrid.hexgrid_8_city_2020 WHERE \\\"city\\\" LIKE \\'{city}\\' AND \\\"type\\\" LIKE \\'{hexs_type}\\'\"\n",
    "query_urban"
   ]
  },
  {
   "cell_type": "code",
   "execution_count": null,
   "id": "5e1877ef-d686-43e6-b312-9e08f5fa8d1f",
   "metadata": {},
   "outputs": [],
   "source": [
    "hex_gdf = aup.gdf_from_query(query_urban, geometry_col='geometry')\n",
    "# Show\n",
    "print(hex_gdf.shape)\n",
    "hex_gdf.head(2)"
   ]
  },
  {
   "cell_type": "code",
   "execution_count": null,
   "id": "26ad6a42-6791-4946-972f-750f47349ed3",
   "metadata": {},
   "outputs": [],
   "source": [
    "# Create poly_wkt from city's hexgrid\n",
    "gdf_tmp = hex_gdf.copy()\n",
    "gdf_tmp = gdf_tmp.to_crs(projected_crs)\n",
    "gdf_tmp = gdf_tmp.buffer(1).reset_index().rename(columns={0:'geometry'})\n",
    "gdf_tmp = gdf_tmp.set_geometry(\"geometry\")\n",
    "gdf_tmp = gdf_tmp.to_crs(\"EPSG:4326\")\n",
    "poly_wkt = gdf_tmp.dissolve().geometry.to_wkt()[0]\n",
    "# Load sidewalks\n",
    "query = f\"SELECT * FROM urbano.fm_inegi_20_line WHERE ST_Intersects(geometry, \\'SRID=4326;{poly_wkt}\\')\"\n",
    "sidewalks = aup.gdf_from_query(query, geometry_col='geometry')\n",
    "# Ensure projected CRS\n",
    "if sidewalks.crs != projected_crs:\n",
    "    sidewalks = sidewalks.to_crs(projected_crs)\n",
    "    print(f\"Changed crs to {projected_crs}.\")\n",
    "\n",
    "# Show\n",
    "print(sidewalks.crs)\n",
    "print(sidewalks.shape)\n",
    "sidewalks.head(4)"
   ]
  },
  {
   "cell_type": "code",
   "execution_count": null,
   "id": "5d9f2aca-f8d2-4bee-96c3-036450c619aa",
   "metadata": {},
   "outputs": [],
   "source": [
    "# Explore data\n",
    "sidewalks.columns"
   ]
  },
  {
   "cell_type": "code",
   "execution_count": null,
   "id": "5d86de5c-d57a-46f2-a28c-e17891f039d5",
   "metadata": {},
   "outputs": [],
   "source": [
    "# Explore sidewalks data\n",
    "print(sidewalks['BANQUETA'].unique())"
   ]
  },
  {
   "cell_type": "code",
   "execution_count": null,
   "id": "7c05e921-ec42-4fe2-96b6-47d4267e732a",
   "metadata": {},
   "outputs": [],
   "source": [
    "# Filter for BANQUETA with data\n",
    "# Data in INEGI's \"Descriptores de la base de datos frentes de manzana INV2020\" file:\n",
    "# 1 = Dispone\n",
    "# 3 = No dispone\n",
    "# 7 = Conjunto habitacional\n",
    "# 8 = No Aplica\n",
    "# 9 = No especificado\n",
    "\n",
    "sidewalks_withdata = sidewalks[sidewalks['BANQUETA'].isin([1,3,7,8])].copy()"
   ]
  },
  {
   "cell_type": "code",
   "execution_count": null,
   "id": "ae4ca1c7-a1f7-4dc2-bf0a-99b5b07561c7",
   "metadata": {},
   "outputs": [],
   "source": [
    "sidewalks_withdata.geom_type.unique()"
   ]
  },
  {
   "cell_type": "code",
   "execution_count": null,
   "id": "cca6a86e-1fa0-47ab-aa60-fc02fac0af53",
   "metadata": {},
   "outputs": [],
   "source": [
    "# Create buffer again\n",
    "edges_buffer = edges_var_2.copy()\n",
    "edges_buffer['geometry'] = edges_buffer.buffer(30)\n",
    "\n",
    "# Intersect sidewalks with edge's 30 meter buffer\n",
    "intersections = sidewalks_withdata.overlay(edges_buffer, how='intersection')\n",
    "# Add length data to each intersected sidewalk\n",
    "intersections['length'] = intersections.length\n",
    "\n",
    "# Show\n",
    "print(intersections.shape)\n",
    "intersections.head(2)"
   ]
  },
  {
   "cell_type": "code",
   "execution_count": null,
   "id": "433ca529-c287-4fe8-9d97-e4f8affb8a5a",
   "metadata": {},
   "outputs": [],
   "source": [
    "# Group intersected sidewalks by unique edge ID (u,v,key) and BANQUETA code\n",
    "banqueta_edges = intersections[['u','v','key','BANQUETA','length']].groupby(['u','v','key','BANQUETA']).sum()\n",
    "banqueta_edges = banqueta_edges.reset_index()\n",
    "\n",
    "# Show\n",
    "print(banqueta_edges.shape)\n",
    "banqueta_edges.head(2)"
   ]
  },
  {
   "cell_type": "code",
   "execution_count": null,
   "id": "c8555049-ec07-4a64-888c-a9b878530a57",
   "metadata": {},
   "outputs": [],
   "source": [
    "# Store third variable data\n",
    "edges_var_3 = edges_var_2.copy()\n",
    "\n",
    "# Sidewalk available (1)\n",
    "edges_var_3 = edges_var_3.merge(banqueta_edges.loc[banqueta_edges.BANQUETA==1,['u','v','key','length']],\n",
    "                                on=['u','v','key'],\n",
    "                                how='left'\n",
    "                               )\n",
    "edges_var_3 = edges_var_3.rename(columns={'length':'sidewalk_available'})\n",
    "\n",
    "# Sidewalk not available (3, 7 or 8)\n",
    "edges_var_3 = edges_var_3.merge(banqueta_edges.loc[banqueta_edges.BANQUETA.isin([3,7,8]),['u','v','key','length']],\n",
    "                                on=['u','v','key'],\n",
    "                                how='left'\n",
    "                               )\n",
    "edges_var_3 = edges_var_3.rename(columns={'length':'no_sidewalk_available'})\n",
    "\n",
    "# Show\n",
    "print(edges_var_3.crs)\n",
    "print(edges_var_3.shape)\n",
    "edges_var_3.head(2)"
   ]
  },
  {
   "cell_type": "code",
   "execution_count": null,
   "id": "69df694b-497e-431c-b918-b2142c63640a",
   "metadata": {},
   "outputs": [],
   "source": [
    "# Since no sidewalks are composed by various groups, group lengths\n",
    "nosidewalk_group = edges_var_3.groupby(['u', 'v', 'key']).agg({'no_sidewalk_available':np.sum})\n",
    "nosidewalk_group.reset_index(inplace=True)\n",
    "\n",
    "# Merge with previous data\n",
    "edges_var_3_fixed = edges_var_3.copy()\n",
    "edges_var_3_fixed.drop(columns=['no_sidewalk_available'],inplace=True)\n",
    "edges_var_3_fixed = pd.merge(edges_var_3_fixed, nosidewalk_group, on=['u','v','key'])\n",
    "edges_var_3_fixed.drop_duplicates(inplace=True)\n",
    "\n",
    "# Calculate pct of available sidewalk\n",
    "edges_var_3_fixed['banqueta_pct'] = edges_var_3_fixed['sidewalk_available'] / (edges_var_3_fixed['sidewalk_available'] + edges_var_3_fixed['no_sidewalk_available'])\n",
    "\n",
    "# Show\n",
    "print(edges_var_3_fixed.crs)\n",
    "print(edges_var_3_fixed.shape)\n",
    "edges_var_3_fixed.head(2)"
   ]
  },
  {
   "cell_type": "code",
   "execution_count": null,
   "id": "577d60ab-49b8-448b-9187-f1f2cda4672e",
   "metadata": {},
   "outputs": [],
   "source": [
    "edges_var_3_fixed.plot('banqueta_pct')"
   ]
  },
  {
   "cell_type": "code",
   "execution_count": null,
   "id": "b3c29f87-0d40-4f70-86cd-f2d66231034a",
   "metadata": {},
   "outputs": [],
   "source": [
    "previous = \"\"\"\n",
    "if intersections.empty:\n",
    "    print(\"No hay intersecciones. Saltando...\")\n",
    "    edges_buffer['sidewalk'] = 0  \n",
    "else:\n",
    "    # Asegurar que ambos GeoDataFrames tienen el mismo CRS\n",
    "    if edges_buffer.crs != projected_crs:\n",
    "        edges_buffer = edges_buffer.to_crs(projected_crs)\n",
    "        print(f\"Changed edges_buffer crs to {projected_crs}.\")\n",
    "    \n",
    "    if intersections.crs != projected_crs:\n",
    "        intersections = intersections.to_crs(projected_crs)\n",
    "        print(f\"Changed intersections crs to {projected_crs}.\")\n",
    "\n",
    "    # Inicializar la columna 'sidewalk' con 0\n",
    "    edges_buffer['sidewalk'] = 0  \n",
    "\n",
    "    total_count = len(edges_buffer)\n",
    "    progress_logs = [1,2,3,4,5,10,15,20,25,30,35,40,45,50,55,60,65,70,75,80,85,90,95,100] # for log statistics\n",
    "    i = 1\n",
    "    start_time = time.time()\n",
    "    \n",
    "    # Iterar sobre cada buffer en edges_buffer\n",
    "    for idx, edge in edges_buffer.iterrows():\n",
    "        \n",
    "        # Measures current progress, prints if passed a checkpoint of progress_logs list.\n",
    "        current_progress = (i / total_count)*100\n",
    "        for checkpoint in progress_logs:\n",
    "            if current_progress >= checkpoint:\n",
    "\n",
    "                checkpoint_time = time.time()\n",
    "                time_since = checkpoint_time - start_time\n",
    "                print(f'Calculating length of available sidewalks. {checkpoint}% done. Time so far: {round(time_since,0)}s.')\n",
    "                progress_logs.remove(checkpoint)\n",
    "                break\n",
    "        \n",
    "        # Filtrar las banquetas contenidas en el buffer\n",
    "        sidewalks_in_buffer = intersections[intersections['geometry'].within(edge['geometry'])]\n",
    "        \n",
    "        # Calcular la longitud total de banquetas dentro del buffer\n",
    "        total_length = sidewalks_in_buffer['geometry'].length.sum()\n",
    "        \n",
    "        # Calcular la longitud de banquetas con BANQUETA = 1\n",
    "        length_with_sidewalks = sidewalks_in_buffer[sidewalks_in_buffer['BANQUETA'] == 1]['geometry'].length.sum()\n",
    "        \n",
    "        # Evitar división por cero y calcular la proporción de banquetas\n",
    "        if total_length > 0:\n",
    "            edges_buffer.at[idx, 'sidewalk'] = length_with_sidewalks / total_length\n",
    "        else:\n",
    "            edges_buffer.at[idx, 'sidewalk'] = 0  # Si no hay banquetas en el buffer, asignar 0\n",
    "\n",
    "        i+=1\n",
    "\n",
    "# Convertir a CRS original y guardar resultados\n",
    "edges_buffer = edges_buffer.to_crs('epsg:4326')\n",
    "#edges_buffer.to_file('sidewalks_edges.geojs0019229114922on', driver='GeoJSON')\"\"\""
   ]
  },
  {
   "cell_type": "markdown",
   "id": "bb4c7058-ffaa-433f-85e2-69372c514617",
   "metadata": {},
   "source": [
    "## Densidad a edges"
   ]
  },
  {
   "cell_type": "code",
   "execution_count": null,
   "id": "c935d43f-762e-4041-85d9-2201116b132f",
   "metadata": {},
   "outputs": [],
   "source": [
    "prev=\"\"\"\n",
    "nodes_id = edges_var.v.unique().tolist()\n",
    "u = edges_var.u.unique().tolist()\n",
    "nodes_id.extend(u)\n",
    "myset = set(nodes_id)\n",
    "nodes_id = list(myset)\n",
    "schema = 'censo'\n",
    "nodes_folder = 'pobcenso_inegi_20_mzaageb_node'\n",
    "nodes_query = f\"SELECT * FROM {schema}.{nodes_folder} WHERE osmid IN {str(tuple(nodes_id))}\"\n",
    "nodes_pop = aup.gdf_from_query(nodes_query, geometry_col=\"geometry\", index_col=\"osmid\")\n",
    "\"\"\""
   ]
  },
  {
   "cell_type": "code",
   "execution_count": null,
   "id": "35a6b7c8-4bbf-4495-8daf-4cc6352e4cd7",
   "metadata": {},
   "outputs": [],
   "source": [
    "prev=\"\"\"\n",
    "voronoi = gpd.read_file('/home/jovyan/accesibilidad-urbana/data/external/Guadalajara_script22_voronoipolys.gpkg')\n",
    "voronoi = voronoi.to_crs(\"EPSG:32613\")\n",
    "voronoi['area_ha'] = voronoi.area/10000\n",
    "\"\"\""
   ]
  },
  {
   "cell_type": "code",
   "execution_count": null,
   "id": "cfd66c92-6ef7-46d8-86e9-614844ef220b",
   "metadata": {},
   "outputs": [],
   "source": [
    "prev=\"\"\"\n",
    "# Realiza el merge para unir los datos de población y área desde `voronoi_gdf` a `nodes_gdf` basado en \"osmid\"\n",
    "nodes_pop = nodes_pop.merge(\n",
    "    voronoi[['osmid', 'area_ha']],  # Selecciona solo las columnas necesarias de voronoi_gdf\n",
    "    on='osmid',\n",
    "    how='left'\n",
    "    )\n",
    "\n",
    "# Verifica las primeras filas para asegurarte de que el merge se realizó correctamente\n",
    "nodes_pop.head(3\n",
    "\"\"\""
   ]
  },
  {
   "cell_type": "code",
   "execution_count": null,
   "id": "eabbd8bc-8029-47d0-a76a-16767091e9df",
   "metadata": {},
   "outputs": [],
   "source": [
    "prev=\"\"\"\n",
    "nodes_pop['dens'] = nodes_pop['pobtot'] / nodes_pop['area_ha']\n",
    "nodes_pop.head(3)\n",
    "\"\"\""
   ]
  },
  {
   "cell_type": "code",
   "execution_count": null,
   "id": "7d7869e7-62a7-4f41-b809-8352c90ab7a4",
   "metadata": {},
   "outputs": [],
   "source": [
    "# Load nodes with pop data\n",
    "nodes_pop = gpd.read_file(first_folder_path + \"data/processed/volvo/project_network_initial_guadalajara/guadalajara_voronois_pop_gdf_b.gpkg\")\n",
    "\n",
    "# Review CRS\n",
    "if nodes_pop.crs != projected_crs:\n",
    "    nodes_pop = nodes_pop.to_crs(projected_crs)\n",
    "    print(f\"Changed crs to {projected_crs}.\")\n",
    "\n",
    "# Show\n",
    "print(nodes_pop.shape)\n",
    "nodes_pop.head(2)"
   ]
  },
  {
   "cell_type": "code",
   "execution_count": null,
   "id": "ecdce2e1-cde7-40ed-a085-e57e41c26a99",
   "metadata": {},
   "outputs": [],
   "source": [
    "# Store fourth variable data\n",
    "edges_var_4 = edges_var_3_fixed.copy()\n",
    "\n",
    "# Merge data for osmids in 'u'\n",
    "edges_var_4 = edges_var_4.merge(nodes_pop[['osmid','pobtot','dens_pob_ha']],\n",
    "                            left_on='u', right_on='osmid',\n",
    "                            how='left')\n",
    "edges_var_4 = edges_var_4.rename(columns={'pobtot':'pobtot_u',\n",
    "                                      'dens_pob_ha':'dens_u'}\n",
    "                            )\n",
    "edges_var_4.drop(columns='osmid',inplace=True)\n",
    "\n",
    "# Merge data for osmids in 'v'\n",
    "edges_var_4 = edges_var_4.merge(nodes_pop[['osmid','pobtot','dens_pob_ha']],\n",
    "                           left_on='v', right_on='osmid',\n",
    "                           how='left')\n",
    "edges_var_4 = edges_var_4.rename(columns={'pobtot':'pobtot_v',\n",
    "                                      'dens_pob_ha':'dens_v'}\n",
    "                            )\n",
    "edges_var_4.drop(columns='osmid',inplace=True)\n",
    "\n",
    "# Show\n",
    "edges_var_4.head(2)"
   ]
  },
  {
   "cell_type": "code",
   "execution_count": null,
   "id": "b248bb85-f7f2-4208-94bc-20050d1c3561",
   "metadata": {},
   "outputs": [],
   "source": [
    "# Calcular valores de cada edge\n",
    "edges_var_4[\"average_population\"] = (edges_var_4['pobtot_u'] + edges_var_4['pobtot_v']) / 2\n",
    "edges_var_4[\"total_pobtot\"] = edges_var_4['pobtot_u'] + edges_var_4['pobtot_v']\n",
    "edges_var_4['average_density'] = edges_var_4[['dens_u','dens_v']].mean(axis=1)\n",
    "\n",
    "# Show\n",
    "edges_var_4.head(2)"
   ]
  },
  {
   "cell_type": "code",
   "execution_count": null,
   "id": "2ebdb542-4c34-42e4-8589-3ec217ee6c43",
   "metadata": {},
   "outputs": [],
   "source": [
    "# Retrieve original lines geometries (edges_var_4's geometries contain the buffers)\n",
    "edges_var_df_cols = ['u', 'v', 'key',\n",
    "                     'grade_abs',\n",
    "                     'ndvi_mean','entropy',\n",
    "                     'sidewalk_available','no_sidewalk_available','banqueta_pct',\n",
    "                     'pobtot_u','pobtot_v','total_pobtot','average_population',\n",
    "                     'dens_u','dens_v','average_density']\n",
    "\n",
    "edges_var_final = pd.merge(edges_var_4[edges_var_df_cols],edges[['u','v','key','geometry']],on=['u','v','key'])\n",
    "edges_var_final = gpd.GeoDataFrame(edges_var_final,geometry='geometry',crs=projected_crs)\n",
    "\n",
    "# Show\n",
    "print(type(edges_var_final))\n",
    "print(edges_var_final.geom_type.unique())\n",
    "print(edges_var_final.crs)\n",
    "print(edges_var_final.shape)\n",
    "edges_var_final.head(2)"
   ]
  },
  {
   "cell_type": "code",
   "execution_count": null,
   "id": "a4388e6d-f2cf-411d-a383-8c43c53f0c95",
   "metadata": {},
   "outputs": [],
   "source": [
    "if local_save:\n",
    "    edges_var_final.to_file(first_folder_path + \"data/processed/volvo/edges_var_gdl/edges_var_final.gpkg\")"
   ]
  },
  {
   "cell_type": "code",
   "execution_count": null,
   "id": "cb65a949-46f4-4bf5-bc6a-4a819b61b3cb",
   "metadata": {},
   "outputs": [],
   "source": []
  }
 ],
 "metadata": {
  "kernelspec": {
   "display_name": "Python 3 (ipykernel)",
   "language": "python",
   "name": "python3"
  },
  "language_info": {
   "codemirror_mode": {
    "name": "ipython",
    "version": 3
   },
   "file_extension": ".py",
   "mimetype": "text/x-python",
   "name": "python",
   "nbconvert_exporter": "python",
   "pygments_lexer": "ipython3",
   "version": "3.12.3"
  }
 },
 "nbformat": 4,
 "nbformat_minor": 5
}
