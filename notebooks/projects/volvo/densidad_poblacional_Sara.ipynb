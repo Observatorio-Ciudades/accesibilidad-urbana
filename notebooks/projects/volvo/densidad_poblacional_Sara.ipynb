{
 "cells": [
  {
   "cell_type": "code",
   "execution_count": 1,
   "id": "ffd93ab1-661a-4798-8148-c713fcb14eba",
   "metadata": {},
   "outputs": [
    {
     "name": "stderr",
     "output_type": "stream",
     "text": [
      "/home/jovyan/accesibilidad-urbana/aup/data.py:24: UserWarning: The `utils.config` function is deprecated and will be removed in a future release. Instead, use the `settings` module directly to configure a global setting's value. For example, `ox.settings.log_console=True`.\n",
      "  ox.config(\n"
     ]
    }
   ],
   "source": [
    "import geopandas as gpd\n",
    "import pandas as pd\n",
    "import numpy as np\n",
    "\n",
    "import warnings\n",
    "warnings.simplefilter(action='ignore', category=FutureWarning)\n",
    "\n",
    "import os\n",
    "import sys\n",
    "module_path = os.path.abspath(os.path.join('../../../'))\n",
    "if module_path not in sys.path:\n",
    "    sys.path.append(module_path)\n",
    "    import aup"
   ]
  },
  {
   "cell_type": "code",
   "execution_count": 2,
   "id": "a9e71431-c6be-4a96-b4b1-678cbf246927",
   "metadata": {},
   "outputs": [],
   "source": [
    "city = 'Guadalajara'\n",
    "metro_schema = 'metropolis'\n",
    "metro_table = 'metro_gdf_2020'"
   ]
  },
  {
   "cell_type": "code",
   "execution_count": 3,
   "id": "de387173-1951-4701-8c18-85f3f765e3c0",
   "metadata": {},
   "outputs": [],
   "source": [
    "query = f\"SELECT * FROM {metro_schema}.{metro_table} WHERE \\\"city\\\" LIKE \\'{city}\\'\"\n",
    "metro_gdf = aup.gdf_from_query(query, geometry_col='geometry')\n",
    "#metro_gdf = metro_gdf.set_crs(\"EPSG:4326\")"
   ]
  },
  {
   "cell_type": "markdown",
   "id": "e18d4077-a34c-49c8-8782-0092bd072803",
   "metadata": {},
   "source": [
    "### Download network"
   ]
  },
  {
   "cell_type": "code",
   "execution_count": 4,
   "id": "d3d6bbcf-bd88-469c-ba10-29508bd0fb9f",
   "metadata": {},
   "outputs": [
    {
     "data": {
      "text/plain": [
       "'SELECT * FROM hexgrid.hexgrid_8_city_2020 WHERE \"city\" LIKE \\'Guadalajara\\' AND \"type\" LIKE \\'urban\\''"
      ]
     },
     "execution_count": 4,
     "metadata": {},
     "output_type": "execute_result"
    }
   ],
   "source": [
    "type = \"urban\"\n",
    "query_urban = f\"SELECT * FROM hexgrid.hexgrid_8_city_2020 WHERE \\\"city\\\" LIKE \\'{city}\\' AND \\\"type\\\" LIKE \\'{type}\\'\"\n",
    "query_urban"
   ]
  },
  {
   "cell_type": "code",
   "execution_count": 5,
   "id": "b4ba029b-5cbc-42a4-a96b-882cb08c21a3",
   "metadata": {},
   "outputs": [
    {
     "name": "stdout",
     "output_type": "stream",
     "text": [
      "(1132, 6)\n"
     ]
    },
    {
     "data": {
      "text/html": [
       "<div>\n",
       "<style scoped>\n",
       "    .dataframe tbody tr th:only-of-type {\n",
       "        vertical-align: middle;\n",
       "    }\n",
       "\n",
       "    .dataframe tbody tr th {\n",
       "        vertical-align: top;\n",
       "    }\n",
       "\n",
       "    .dataframe thead th {\n",
       "        text-align: right;\n",
       "    }\n",
       "</style>\n",
       "<table border=\"1\" class=\"dataframe\">\n",
       "  <thead>\n",
       "    <tr style=\"text-align: right;\">\n",
       "      <th></th>\n",
       "      <th>hex_id_8</th>\n",
       "      <th>geometry</th>\n",
       "      <th>CVEGEO</th>\n",
       "      <th>NOMGEO</th>\n",
       "      <th>city</th>\n",
       "      <th>type</th>\n",
       "    </tr>\n",
       "  </thead>\n",
       "  <tbody>\n",
       "    <tr>\n",
       "      <th>0</th>\n",
       "      <td>88498c9421fffff</td>\n",
       "      <td>POLYGON ((-103.28663 20.69309, -103.28209 20.6...</td>\n",
       "      <td>14039</td>\n",
       "      <td>Guadalajara</td>\n",
       "      <td>Guadalajara</td>\n",
       "      <td>urban</td>\n",
       "    </tr>\n",
       "    <tr>\n",
       "      <th>1</th>\n",
       "      <td>88498c9405fffff</td>\n",
       "      <td>POLYGON ((-103.30025 20.68392, -103.29571 20.6...</td>\n",
       "      <td>14039</td>\n",
       "      <td>Guadalajara</td>\n",
       "      <td>Guadalajara</td>\n",
       "      <td>urban</td>\n",
       "    </tr>\n",
       "  </tbody>\n",
       "</table>\n",
       "</div>"
      ],
      "text/plain": [
       "          hex_id_8                                           geometry CVEGEO  \\\n",
       "0  88498c9421fffff  POLYGON ((-103.28663 20.69309, -103.28209 20.6...  14039   \n",
       "1  88498c9405fffff  POLYGON ((-103.30025 20.68392, -103.29571 20.6...  14039   \n",
       "\n",
       "        NOMGEO         city   type  \n",
       "0  Guadalajara  Guadalajara  urban  \n",
       "1  Guadalajara  Guadalajara  urban  "
      ]
     },
     "execution_count": 5,
     "metadata": {},
     "output_type": "execute_result"
    }
   ],
   "source": [
    "hex_gdf = aup.gdf_from_query(query_urban, geometry_col='geometry')\n",
    "print(hex_gdf.shape)\n",
    "hex_gdf.head(2)"
   ]
  },
  {
   "cell_type": "code",
   "execution_count": 69,
   "id": "19db4d40-3315-4cf2-b1d9-474d2a33d21c",
   "metadata": {},
   "outputs": [
    {
     "data": {
      "text/plain": [
       "<Axes: >"
      ]
     },
     "execution_count": 69,
     "metadata": {},
     "output_type": "execute_result"
    },
    {
     "data": {
      "image/png": "[encoded data removed]",
      "text/plain": [
       "<Figure size 640x480 with 1 Axes>"
      ]
     },
     "metadata": {},
     "output_type": "display_data"
    }
   ],
   "source": [
    "hex_gdf.plot()"
   ]
  },
  {
   "cell_type": "code",
   "execution_count": 70,
   "id": "3284fcb7-6bd9-42dc-8d87-52075b003157",
   "metadata": {},
   "outputs": [
    {
     "data": {
      "text/plain": [
       "<Axes: >"
      ]
     },
     "execution_count": 70,
     "metadata": {},
     "output_type": "execute_result"
    },
    {
     "data": {
      "image/png": "[encoded data removed]",
      "text/plain": [
       "<Figure size 640x480 with 1 Axes>"
      ]
     },
     "metadata": {},
     "output_type": "display_data"
    }
   ],
   "source": [
    "hex_gdf.dissolve().plot()"
   ]
  },
  {
   "cell_type": "code",
   "execution_count": 71,
   "id": "b2a50331-ddcf-4fa5-affb-0371a658af50",
   "metadata": {},
   "outputs": [
    {
     "data": {
      "text/plain": [
       "<Axes: >"
      ]
     },
     "execution_count": 71,
     "metadata": {},
     "output_type": "execute_result"
    },
    {
     "data": {
      "image/png": "[encoded data removed]",
      "text/plain": [
       "<Figure size 640x480 with 1 Axes>"
      ]
     },
     "metadata": {},
     "output_type": "display_data"
    }
   ],
   "source": [
    "hex_gdf.dissolve(by = \"NOMGEO\").plot()"
   ]
  },
  {
   "cell_type": "code",
   "execution_count": 8,
   "id": "cbca61ad-06f7-490f-a725-0ce0d0b9d33c",
   "metadata": {},
   "outputs": [],
   "source": [
    "_, nodes, edges = aup.graph_from_hippo(hex_gdf, schema='osmnx', edges_folder='edges_osmnx_23_line', nodes_folder='nodes_osmnx_23_point')"
   ]
  },
  {
   "cell_type": "code",
   "execution_count": 7,
   "id": "55566721-6749-4f12-b09f-96737417e4ef",
   "metadata": {},
   "outputs": [
    {
     "name": "stdout",
     "output_type": "stream",
     "text": [
      "(173686, 5)\n"
     ]
    },
    {
     "data": {
      "text/html": [
       "<div>\n",
       "<style scoped>\n",
       "    .dataframe tbody tr th:only-of-type {\n",
       "        vertical-align: middle;\n",
       "    }\n",
       "\n",
       "    .dataframe tbody tr th {\n",
       "        vertical-align: top;\n",
       "    }\n",
       "\n",
       "    .dataframe thead th {\n",
       "        text-align: right;\n",
       "    }\n",
       "</style>\n",
       "<table border=\"1\" class=\"dataframe\">\n",
       "  <thead>\n",
       "    <tr style=\"text-align: right;\">\n",
       "      <th></th>\n",
       "      <th>x</th>\n",
       "      <th>y</th>\n",
       "      <th>street_count</th>\n",
       "      <th>geometry</th>\n",
       "      <th>city</th>\n",
       "    </tr>\n",
       "    <tr>\n",
       "      <th>osmid</th>\n",
       "      <th></th>\n",
       "      <th></th>\n",
       "      <th></th>\n",
       "      <th></th>\n",
       "      <th></th>\n",
       "    </tr>\n",
       "  </thead>\n",
       "  <tbody>\n",
       "    <tr>\n",
       "      <th>28751344</th>\n",
       "      <td>-103.306309</td>\n",
       "      <td>20.711533</td>\n",
       "      <td>3</td>\n",
       "      <td>POINT (-103.30631 20.71153)</td>\n",
       "      <td>Guadalajara</td>\n",
       "    </tr>\n",
       "    <tr>\n",
       "      <th>28753224</th>\n",
       "      <td>-103.316645</td>\n",
       "      <td>20.700650</td>\n",
       "      <td>3</td>\n",
       "      <td>POINT (-103.31665 20.70065)</td>\n",
       "      <td>Guadalajara</td>\n",
       "    </tr>\n",
       "  </tbody>\n",
       "</table>\n",
       "</div>"
      ],
      "text/plain": [
       "                   x          y  street_count                     geometry  \\\n",
       "osmid                                                                        \n",
       "28751344 -103.306309  20.711533             3  POINT (-103.30631 20.71153)   \n",
       "28753224 -103.316645  20.700650             3  POINT (-103.31665 20.70065)   \n",
       "\n",
       "                 city  \n",
       "osmid                  \n",
       "28751344  Guadalajara  \n",
       "28753224  Guadalajara  "
      ]
     },
     "execution_count": 7,
     "metadata": {},
     "output_type": "execute_result"
    }
   ],
   "source": [
    "print(nodes.shape)\n",
    "nodes.head(2)"
   ]
  },
  {
   "cell_type": "code",
   "execution_count": 74,
   "id": "6658854f-847e-4a1c-b2b7-1473db88e104",
   "metadata": {},
   "outputs": [
    {
     "data": {
      "text/plain": [
       "<Axes: >"
      ]
     },
     "execution_count": 74,
     "metadata": {},
     "output_type": "execute_result"
    },
    {
     "data": {
      "image/png": "[encoded data removed]",
      "text/plain": [
       "<Figure size 640x480 with 1 Axes>"
      ]
     },
     "metadata": {},
     "output_type": "display_data"
    }
   ],
   "source": [
    "nodes.plot()"
   ]
  },
  {
   "cell_type": "code",
   "execution_count": 75,
   "id": "dd739843-8812-4db3-a680-7e6103d57d83",
   "metadata": {},
   "outputs": [
    {
     "data": {
      "text/plain": [
       "x               0\n",
       "y               0\n",
       "street_count    0\n",
       "geometry        0\n",
       "city            0\n",
       "dtype: int64"
      ]
     },
     "execution_count": 75,
     "metadata": {},
     "output_type": "execute_result"
    }
   ],
   "source": [
    "nodes.isna().sum()"
   ]
  },
  {
   "cell_type": "code",
   "execution_count": 76,
   "id": "e529198f-7ded-4221-a48c-1fc48e0ee285",
   "metadata": {},
   "outputs": [
    {
     "name": "stdout",
     "output_type": "stream",
     "text": [
      "(414636, 16)\n"
     ]
    },
    {
     "data": {
      "text/html": [
       "<div>\n",
       "<style scoped>\n",
       "    .dataframe tbody tr th:only-of-type {\n",
       "        vertical-align: middle;\n",
       "    }\n",
       "\n",
       "    .dataframe tbody tr th {\n",
       "        vertical-align: top;\n",
       "    }\n",
       "\n",
       "    .dataframe thead th {\n",
       "        text-align: right;\n",
       "    }\n",
       "</style>\n",
       "<table border=\"1\" class=\"dataframe\">\n",
       "  <thead>\n",
       "    <tr style=\"text-align: right;\">\n",
       "      <th></th>\n",
       "      <th></th>\n",
       "      <th></th>\n",
       "      <th>osmid</th>\n",
       "      <th>oneway</th>\n",
       "      <th>lanes</th>\n",
       "      <th>name</th>\n",
       "      <th>highway</th>\n",
       "      <th>maxspeed</th>\n",
       "      <th>length</th>\n",
       "      <th>geometry</th>\n",
       "      <th>bridge</th>\n",
       "      <th>ref</th>\n",
       "      <th>junction</th>\n",
       "      <th>tunnel</th>\n",
       "      <th>access</th>\n",
       "      <th>width</th>\n",
       "      <th>service</th>\n",
       "      <th>city</th>\n",
       "    </tr>\n",
       "    <tr>\n",
       "      <th>u</th>\n",
       "      <th>v</th>\n",
       "      <th>key</th>\n",
       "      <th></th>\n",
       "      <th></th>\n",
       "      <th></th>\n",
       "      <th></th>\n",
       "      <th></th>\n",
       "      <th></th>\n",
       "      <th></th>\n",
       "      <th></th>\n",
       "      <th></th>\n",
       "      <th></th>\n",
       "      <th></th>\n",
       "      <th></th>\n",
       "      <th></th>\n",
       "      <th></th>\n",
       "      <th></th>\n",
       "      <th></th>\n",
       "    </tr>\n",
       "  </thead>\n",
       "  <tbody>\n",
       "    <tr>\n",
       "      <th>4303977502</th>\n",
       "      <th>4303977514</th>\n",
       "      <th>0</th>\n",
       "      <td>431149558</td>\n",
       "      <td>True</td>\n",
       "      <td>None</td>\n",
       "      <td>None</td>\n",
       "      <td>residential</td>\n",
       "      <td>None</td>\n",
       "      <td>147.496</td>\n",
       "      <td>LINESTRING (-103.50987 20.45796, -103.51121 20...</td>\n",
       "      <td>None</td>\n",
       "      <td>None</td>\n",
       "      <td>None</td>\n",
       "      <td>None</td>\n",
       "      <td>private</td>\n",
       "      <td>None</td>\n",
       "      <td>None</td>\n",
       "      <td>Guadalajara</td>\n",
       "    </tr>\n",
       "    <tr>\n",
       "      <th>4303977503</th>\n",
       "      <th>4303977514</th>\n",
       "      <th>0</th>\n",
       "      <td>431149502</td>\n",
       "      <td>True</td>\n",
       "      <td>None</td>\n",
       "      <td>None</td>\n",
       "      <td>residential</td>\n",
       "      <td>None</td>\n",
       "      <td>49.994</td>\n",
       "      <td>LINESTRING (-103.51136 20.45798, -103.51121 20...</td>\n",
       "      <td>None</td>\n",
       "      <td>None</td>\n",
       "      <td>None</td>\n",
       "      <td>None</td>\n",
       "      <td>private</td>\n",
       "      <td>None</td>\n",
       "      <td>None</td>\n",
       "      <td>Guadalajara</td>\n",
       "    </tr>\n",
       "  </tbody>\n",
       "</table>\n",
       "</div>"
      ],
      "text/plain": [
       "                               osmid  oneway lanes  name      highway  \\\n",
       "u          v          key                                               \n",
       "4303977502 4303977514 0    431149558    True  None  None  residential   \n",
       "4303977503 4303977514 0    431149502    True  None  None  residential   \n",
       "\n",
       "                          maxspeed   length  \\\n",
       "u          v          key                     \n",
       "4303977502 4303977514 0       None  147.496   \n",
       "4303977503 4303977514 0       None   49.994   \n",
       "\n",
       "                                                                    geometry  \\\n",
       "u          v          key                                                      \n",
       "4303977502 4303977514 0    LINESTRING (-103.50987 20.45796, -103.51121 20...   \n",
       "4303977503 4303977514 0    LINESTRING (-103.51136 20.45798, -103.51121 20...   \n",
       "\n",
       "                          bridge   ref junction tunnel   access width service  \\\n",
       "u          v          key                                                       \n",
       "4303977502 4303977514 0     None  None     None   None  private  None    None   \n",
       "4303977503 4303977514 0     None  None     None   None  private  None    None   \n",
       "\n",
       "                                  city  \n",
       "u          v          key               \n",
       "4303977502 4303977514 0    Guadalajara  \n",
       "4303977503 4303977514 0    Guadalajara  "
      ]
     },
     "execution_count": 76,
     "metadata": {},
     "output_type": "execute_result"
    }
   ],
   "source": [
    "print(edges.shape)\n",
    "edges.head(2)"
   ]
  },
  {
   "cell_type": "code",
   "execution_count": 9,
   "id": "ef4ebba1-08dc-4c12-ae42-c35c34bd105c",
   "metadata": {},
   "outputs": [
    {
     "data": {
      "text/html": [
       "<div>\n",
       "<style scoped>\n",
       "    .dataframe tbody tr th:only-of-type {\n",
       "        vertical-align: middle;\n",
       "    }\n",
       "\n",
       "    .dataframe tbody tr th {\n",
       "        vertical-align: top;\n",
       "    }\n",
       "\n",
       "    .dataframe thead th {\n",
       "        text-align: right;\n",
       "    }\n",
       "</style>\n",
       "<table border=\"1\" class=\"dataframe\">\n",
       "  <thead>\n",
       "    <tr style=\"text-align: right;\">\n",
       "      <th></th>\n",
       "      <th>u</th>\n",
       "      <th>v</th>\n",
       "      <th>key</th>\n",
       "      <th>osmid</th>\n",
       "      <th>oneway</th>\n",
       "      <th>lanes</th>\n",
       "      <th>name</th>\n",
       "      <th>highway</th>\n",
       "      <th>maxspeed</th>\n",
       "      <th>length</th>\n",
       "      <th>geometry</th>\n",
       "      <th>bridge</th>\n",
       "      <th>ref</th>\n",
       "      <th>junction</th>\n",
       "      <th>tunnel</th>\n",
       "      <th>access</th>\n",
       "      <th>width</th>\n",
       "      <th>service</th>\n",
       "      <th>city</th>\n",
       "    </tr>\n",
       "  </thead>\n",
       "  <tbody>\n",
       "    <tr>\n",
       "      <th>0</th>\n",
       "      <td>4303977502</td>\n",
       "      <td>4303977514</td>\n",
       "      <td>0</td>\n",
       "      <td>431149558</td>\n",
       "      <td>True</td>\n",
       "      <td>None</td>\n",
       "      <td>None</td>\n",
       "      <td>residential</td>\n",
       "      <td>None</td>\n",
       "      <td>147.496</td>\n",
       "      <td>LINESTRING (-103.50987 20.45796, -103.51121 20...</td>\n",
       "      <td>None</td>\n",
       "      <td>None</td>\n",
       "      <td>None</td>\n",
       "      <td>None</td>\n",
       "      <td>private</td>\n",
       "      <td>None</td>\n",
       "      <td>None</td>\n",
       "      <td>Guadalajara</td>\n",
       "    </tr>\n",
       "    <tr>\n",
       "      <th>1</th>\n",
       "      <td>4303977503</td>\n",
       "      <td>4303977514</td>\n",
       "      <td>0</td>\n",
       "      <td>431149502</td>\n",
       "      <td>True</td>\n",
       "      <td>None</td>\n",
       "      <td>None</td>\n",
       "      <td>residential</td>\n",
       "      <td>None</td>\n",
       "      <td>49.994</td>\n",
       "      <td>LINESTRING (-103.51136 20.45798, -103.51121 20...</td>\n",
       "      <td>None</td>\n",
       "      <td>None</td>\n",
       "      <td>None</td>\n",
       "      <td>None</td>\n",
       "      <td>private</td>\n",
       "      <td>None</td>\n",
       "      <td>None</td>\n",
       "      <td>Guadalajara</td>\n",
       "    </tr>\n",
       "    <tr>\n",
       "      <th>2</th>\n",
       "      <td>4303977508</td>\n",
       "      <td>4303977503</td>\n",
       "      <td>0</td>\n",
       "      <td>431149546</td>\n",
       "      <td>True</td>\n",
       "      <td>None</td>\n",
       "      <td>None</td>\n",
       "      <td>residential</td>\n",
       "      <td>None</td>\n",
       "      <td>65.457</td>\n",
       "      <td>LINESTRING (-103.51195 20.45817, -103.51136 20...</td>\n",
       "      <td>None</td>\n",
       "      <td>None</td>\n",
       "      <td>None</td>\n",
       "      <td>None</td>\n",
       "      <td>private</td>\n",
       "      <td>None</td>\n",
       "      <td>None</td>\n",
       "      <td>Guadalajara</td>\n",
       "    </tr>\n",
       "    <tr>\n",
       "      <th>3</th>\n",
       "      <td>4303977517</td>\n",
       "      <td>4303977508</td>\n",
       "      <td>0</td>\n",
       "      <td>431149546</td>\n",
       "      <td>True</td>\n",
       "      <td>None</td>\n",
       "      <td>None</td>\n",
       "      <td>residential</td>\n",
       "      <td>None</td>\n",
       "      <td>107.109</td>\n",
       "      <td>LINESTRING (-103.51292 20.45849, -103.51195 20...</td>\n",
       "      <td>None</td>\n",
       "      <td>None</td>\n",
       "      <td>None</td>\n",
       "      <td>None</td>\n",
       "      <td>private</td>\n",
       "      <td>None</td>\n",
       "      <td>None</td>\n",
       "      <td>Guadalajara</td>\n",
       "    </tr>\n",
       "    <tr>\n",
       "      <th>4</th>\n",
       "      <td>4303977519</td>\n",
       "      <td>4303977505</td>\n",
       "      <td>0</td>\n",
       "      <td>431149521</td>\n",
       "      <td>True</td>\n",
       "      <td>None</td>\n",
       "      <td>None</td>\n",
       "      <td>residential</td>\n",
       "      <td>None</td>\n",
       "      <td>204.005</td>\n",
       "      <td>LINESTRING (-103.51055 20.45850, -103.51005 20...</td>\n",
       "      <td>None</td>\n",
       "      <td>None</td>\n",
       "      <td>None</td>\n",
       "      <td>None</td>\n",
       "      <td>private</td>\n",
       "      <td>None</td>\n",
       "      <td>None</td>\n",
       "      <td>Guadalajara</td>\n",
       "    </tr>\n",
       "    <tr>\n",
       "      <th>...</th>\n",
       "      <td>...</td>\n",
       "      <td>...</td>\n",
       "      <td>...</td>\n",
       "      <td>...</td>\n",
       "      <td>...</td>\n",
       "      <td>...</td>\n",
       "      <td>...</td>\n",
       "      <td>...</td>\n",
       "      <td>...</td>\n",
       "      <td>...</td>\n",
       "      <td>...</td>\n",
       "      <td>...</td>\n",
       "      <td>...</td>\n",
       "      <td>...</td>\n",
       "      <td>...</td>\n",
       "      <td>...</td>\n",
       "      <td>...</td>\n",
       "      <td>...</td>\n",
       "      <td>...</td>\n",
       "    </tr>\n",
       "    <tr>\n",
       "      <th>414631</th>\n",
       "      <td>8669578133</td>\n",
       "      <td>8432758360</td>\n",
       "      <td>0</td>\n",
       "      <td>908170488</td>\n",
       "      <td>False</td>\n",
       "      <td>None</td>\n",
       "      <td>caminos de aceso</td>\n",
       "      <td>footway</td>\n",
       "      <td>None</td>\n",
       "      <td>20.283</td>\n",
       "      <td>LINESTRING (-103.38285 20.52314, -103.38289 20...</td>\n",
       "      <td>None</td>\n",
       "      <td>None</td>\n",
       "      <td>None</td>\n",
       "      <td>None</td>\n",
       "      <td>None</td>\n",
       "      <td>None</td>\n",
       "      <td>None</td>\n",
       "      <td>Guadalajara</td>\n",
       "    </tr>\n",
       "    <tr>\n",
       "      <th>414632</th>\n",
       "      <td>8753025784</td>\n",
       "      <td>1754556621</td>\n",
       "      <td>0</td>\n",
       "      <td>163775733</td>\n",
       "      <td>False</td>\n",
       "      <td>None</td>\n",
       "      <td>Calle Centauro</td>\n",
       "      <td>residential</td>\n",
       "      <td>None</td>\n",
       "      <td>29.389</td>\n",
       "      <td>LINESTRING (-103.38244 20.52586, -103.38216 20...</td>\n",
       "      <td>None</td>\n",
       "      <td>None</td>\n",
       "      <td>None</td>\n",
       "      <td>None</td>\n",
       "      <td>None</td>\n",
       "      <td>None</td>\n",
       "      <td>None</td>\n",
       "      <td>Guadalajara</td>\n",
       "    </tr>\n",
       "    <tr>\n",
       "      <th>414633</th>\n",
       "      <td>8760908969</td>\n",
       "      <td>6142976278</td>\n",
       "      <td>0</td>\n",
       "      <td>908170483</td>\n",
       "      <td>False</td>\n",
       "      <td>None</td>\n",
       "      <td>Veredas del parque</td>\n",
       "      <td>footway</td>\n",
       "      <td>None</td>\n",
       "      <td>46.802</td>\n",
       "      <td>LINESTRING (-103.38288 20.52434, -103.38289 20...</td>\n",
       "      <td>None</td>\n",
       "      <td>None</td>\n",
       "      <td>None</td>\n",
       "      <td>None</td>\n",
       "      <td>None</td>\n",
       "      <td>None</td>\n",
       "      <td>None</td>\n",
       "      <td>Guadalajara</td>\n",
       "    </tr>\n",
       "    <tr>\n",
       "      <th>414634</th>\n",
       "      <td>8776316843</td>\n",
       "      <td>1754154719</td>\n",
       "      <td>0</td>\n",
       "      <td>163737788</td>\n",
       "      <td>True</td>\n",
       "      <td>None</td>\n",
       "      <td>Boulevard América del Sur</td>\n",
       "      <td>residential</td>\n",
       "      <td>None</td>\n",
       "      <td>2.927</td>\n",
       "      <td>LINESTRING (-103.38176 20.51301, -103.38179 20...</td>\n",
       "      <td>None</td>\n",
       "      <td>None</td>\n",
       "      <td>None</td>\n",
       "      <td>None</td>\n",
       "      <td>None</td>\n",
       "      <td>None</td>\n",
       "      <td>None</td>\n",
       "      <td>Guadalajara</td>\n",
       "    </tr>\n",
       "    <tr>\n",
       "      <th>414635</th>\n",
       "      <td>8776316844</td>\n",
       "      <td>1754187546</td>\n",
       "      <td>0</td>\n",
       "      <td>163741839</td>\n",
       "      <td>True</td>\n",
       "      <td>None</td>\n",
       "      <td>None</td>\n",
       "      <td>residential</td>\n",
       "      <td>None</td>\n",
       "      <td>36.553</td>\n",
       "      <td>LINESTRING (-103.38178 20.51292, -103.38174 20...</td>\n",
       "      <td>None</td>\n",
       "      <td>None</td>\n",
       "      <td>None</td>\n",
       "      <td>None</td>\n",
       "      <td>None</td>\n",
       "      <td>None</td>\n",
       "      <td>None</td>\n",
       "      <td>Guadalajara</td>\n",
       "    </tr>\n",
       "  </tbody>\n",
       "</table>\n",
       "<p>414636 rows × 19 columns</p>\n",
       "</div>"
      ],
      "text/plain": [
       "                 u           v  key      osmid  oneway lanes  \\\n",
       "0       4303977502  4303977514    0  431149558    True  None   \n",
       "1       4303977503  4303977514    0  431149502    True  None   \n",
       "2       4303977508  4303977503    0  431149546    True  None   \n",
       "3       4303977517  4303977508    0  431149546    True  None   \n",
       "4       4303977519  4303977505    0  431149521    True  None   \n",
       "...            ...         ...  ...        ...     ...   ...   \n",
       "414631  8669578133  8432758360    0  908170488   False  None   \n",
       "414632  8753025784  1754556621    0  163775733   False  None   \n",
       "414633  8760908969  6142976278    0  908170483   False  None   \n",
       "414634  8776316843  1754154719    0  163737788    True  None   \n",
       "414635  8776316844  1754187546    0  163741839    True  None   \n",
       "\n",
       "                             name      highway maxspeed   length  \\\n",
       "0                            None  residential     None  147.496   \n",
       "1                            None  residential     None   49.994   \n",
       "2                            None  residential     None   65.457   \n",
       "3                            None  residential     None  107.109   \n",
       "4                            None  residential     None  204.005   \n",
       "...                           ...          ...      ...      ...   \n",
       "414631           caminos de aceso      footway     None   20.283   \n",
       "414632             Calle Centauro  residential     None   29.389   \n",
       "414633         Veredas del parque      footway     None   46.802   \n",
       "414634  Boulevard América del Sur  residential     None    2.927   \n",
       "414635                       None  residential     None   36.553   \n",
       "\n",
       "                                                 geometry bridge   ref  \\\n",
       "0       LINESTRING (-103.50987 20.45796, -103.51121 20...   None  None   \n",
       "1       LINESTRING (-103.51136 20.45798, -103.51121 20...   None  None   \n",
       "2       LINESTRING (-103.51195 20.45817, -103.51136 20...   None  None   \n",
       "3       LINESTRING (-103.51292 20.45849, -103.51195 20...   None  None   \n",
       "4       LINESTRING (-103.51055 20.45850, -103.51005 20...   None  None   \n",
       "...                                                   ...    ...   ...   \n",
       "414631  LINESTRING (-103.38285 20.52314, -103.38289 20...   None  None   \n",
       "414632  LINESTRING (-103.38244 20.52586, -103.38216 20...   None  None   \n",
       "414633  LINESTRING (-103.38288 20.52434, -103.38289 20...   None  None   \n",
       "414634  LINESTRING (-103.38176 20.51301, -103.38179 20...   None  None   \n",
       "414635  LINESTRING (-103.38178 20.51292, -103.38174 20...   None  None   \n",
       "\n",
       "       junction tunnel   access width service         city  \n",
       "0          None   None  private  None    None  Guadalajara  \n",
       "1          None   None  private  None    None  Guadalajara  \n",
       "2          None   None  private  None    None  Guadalajara  \n",
       "3          None   None  private  None    None  Guadalajara  \n",
       "4          None   None  private  None    None  Guadalajara  \n",
       "...         ...    ...      ...   ...     ...          ...  \n",
       "414631     None   None     None  None    None  Guadalajara  \n",
       "414632     None   None     None  None    None  Guadalajara  \n",
       "414633     None   None     None  None    None  Guadalajara  \n",
       "414634     None   None     None  None    None  Guadalajara  \n",
       "414635     None   None     None  None    None  Guadalajara  \n",
       "\n",
       "[414636 rows x 19 columns]"
      ]
     },
     "execution_count": 9,
     "metadata": {},
     "output_type": "execute_result"
    }
   ],
   "source": [
    "edges = edges.reset_index()\n",
    "edges"
   ]
  },
  {
   "cell_type": "code",
   "execution_count": 78,
   "id": "5dc0af79-e33f-4d00-9721-345a4ae2d50f",
   "metadata": {},
   "outputs": [
    {
     "name": "stdout",
     "output_type": "stream",
     "text": [
      "<class 'geopandas.geodataframe.GeoDataFrame'>\n",
      "RangeIndex: 414636 entries, 0 to 414635\n",
      "Data columns (total 19 columns):\n",
      " #   Column    Non-Null Count   Dtype   \n",
      "---  ------    --------------   -----   \n",
      " 0   u         414636 non-null  int64   \n",
      " 1   v         414636 non-null  int64   \n",
      " 2   key       414636 non-null  int64   \n",
      " 3   osmid     414636 non-null  object  \n",
      " 4   oneway    414636 non-null  bool    \n",
      " 5   lanes     59751 non-null   object  \n",
      " 6   name      275498 non-null  object  \n",
      " 7   highway   414636 non-null  object  \n",
      " 8   maxspeed  11463 non-null   object  \n",
      " 9   length    414636 non-null  float64 \n",
      " 10  geometry  414636 non-null  geometry\n",
      " 11  bridge    1312 non-null    object  \n",
      " 12  ref       2811 non-null    object  \n",
      " 13  junction  2315 non-null    object  \n",
      " 14  tunnel    344 non-null     object  \n",
      " 15  access    47914 non-null   object  \n",
      " 16  width     973 non-null     object  \n",
      " 17  service   3841 non-null    object  \n",
      " 18  city      414636 non-null  object  \n",
      "dtypes: bool(1), float64(1), geometry(1), int64(3), object(13)\n",
      "memory usage: 57.3+ MB\n"
     ]
    }
   ],
   "source": [
    "edges.info()"
   ]
  },
  {
   "cell_type": "code",
   "execution_count": 79,
   "id": "de813736-8d90-4feb-91af-9629d2a46fe5",
   "metadata": {},
   "outputs": [
    {
     "data": {
      "text/plain": [
       "<Axes: >"
      ]
     },
     "execution_count": 79,
     "metadata": {},
     "output_type": "execute_result"
    },
    {
     "data": {
      "image/png": "[encoded data removed]",
      "text/plain": [
       "<Figure size 640x480 with 1 Axes>"
      ]
     },
     "metadata": {},
     "output_type": "display_data"
    }
   ],
   "source": [
    "edges.plot()"
   ]
  },
  {
   "cell_type": "code",
   "execution_count": 80,
   "id": "4e54923a-543b-434c-9a2b-d466fe5c5abb",
   "metadata": {},
   "outputs": [
    {
     "data": {
      "text/plain": [
       "u                0\n",
       "v                0\n",
       "key              0\n",
       "osmid            0\n",
       "oneway           0\n",
       "lanes       354885\n",
       "name        139138\n",
       "highway          0\n",
       "maxspeed    403173\n",
       "length           0\n",
       "geometry         0\n",
       "bridge      413324\n",
       "ref         411825\n",
       "junction    412321\n",
       "tunnel      414292\n",
       "access      366722\n",
       "width       413663\n",
       "service     410795\n",
       "city             0\n",
       "dtype: int64"
      ]
     },
     "execution_count": 80,
     "metadata": {},
     "output_type": "execute_result"
    }
   ],
   "source": [
    "edges.isna().sum()"
   ]
  },
  {
   "cell_type": "markdown",
   "id": "feee6d73-a4e4-46f5-92c2-ce5432de9871",
   "metadata": {},
   "source": [
    "### Calcular el área de cada polígono de voronoi en metros cuadrados"
   ]
  },
  {
   "cell_type": "code",
   "execution_count": 10,
   "id": "2a65b97e-597c-4428-939a-c1c92f64669c",
   "metadata": {},
   "outputs": [],
   "source": [
    "# Paso 1: Cargar y definir el área de interés (AOI) para la ciudad\n",
    "aup.log(\"--- LOADING CITY POP DATA.\")    \n",
    "city_gdf = metro_gdf.loc[metro_gdf.city == city]\n",
    "city_gdf = city_gdf.set_crs(\"EPSG:4326\")  # Asegurar que la proyección inicial sea EPSG:4326 (lat/lon)\n",
    "aoi = city_gdf.dissolve()\n",
    "\n",
    "# Paso 2: Transformar el AOI a una proyección en metros para trabajar con los polígonos de Voronoi\n",
    "target_crs = \"EPSG:6372\"  # CRS en metros, adecuado para México\n",
    "aoi = aoi.to_crs(target_crs)\n",
    "aup.log(f\"--- Area of Interest (AOI) proyectada a {target_crs}.\")\n",
    "\n",
    "# Paso 1: Cargar y transformar polígonos de Voronoi y nodos a la proyección en metros\n",
    "aup.log(\"--- Loading and transforming Voronoi polygons and nodes to meters.\")\n",
    "voronoi_gdf = gpd.read_file('/home/jovyan/accesibilidad-urbana/data/external/Guadalajara_script22_voronoipolys.gpkg').to_crs(target_crs)\n",
    "nodes_gdf = gpd.read_file('/home/jovyan/accesibilidad-urbana/data/external/Guadalajara_script22_nodes.gpkg').to_crs(target_crs)\n",
    "\n",
    "# Paso 3: Calcular el área de cada polígono de Voronoi\n",
    "voronoi_gdf['area_ha'] = voronoi_gdf.geometry.area / 10000  # Calcula el área en metros cuadrados\n",
    "aup.log(\"--- Área calculada para cada polígono de Voronoi en metros cuadrados.\")\n",
    "\n"
   ]
  },
  {
   "cell_type": "code",
   "execution_count": 48,
   "id": "616ba76d-f956-496f-9a02-8169a9c3e0c5",
   "metadata": {},
   "outputs": [
    {
     "data": {
      "text/html": [
       "<div>\n",
       "<style scoped>\n",
       "    .dataframe tbody tr th:only-of-type {\n",
       "        vertical-align: middle;\n",
       "    }\n",
       "\n",
       "    .dataframe tbody tr th {\n",
       "        vertical-align: top;\n",
       "    }\n",
       "\n",
       "    .dataframe thead th {\n",
       "        text-align: right;\n",
       "    }\n",
       "</style>\n",
       "<table border=\"1\" class=\"dataframe\">\n",
       "  <thead>\n",
       "    <tr style=\"text-align: right;\">\n",
       "      <th></th>\n",
       "      <th>osmid</th>\n",
       "      <th>pobtot</th>\n",
       "      <th>pobfem</th>\n",
       "      <th>pobmas</th>\n",
       "      <th>p_0a2</th>\n",
       "      <th>p_0a2_f</th>\n",
       "      <th>p_0a2_m</th>\n",
       "      <th>p_3a5</th>\n",
       "      <th>p_3a5_f</th>\n",
       "      <th>p_3a5_m</th>\n",
       "      <th>...</th>\n",
       "      <th>p_15ymas_m</th>\n",
       "      <th>p_18ymas</th>\n",
       "      <th>p_18ymas_f</th>\n",
       "      <th>p_18ymas_m</th>\n",
       "      <th>pob0_14</th>\n",
       "      <th>pob15_64</th>\n",
       "      <th>pob65_mas</th>\n",
       "      <th>pcon_disc</th>\n",
       "      <th>city</th>\n",
       "      <th>geometry</th>\n",
       "    </tr>\n",
       "  </thead>\n",
       "  <tbody>\n",
       "    <tr>\n",
       "      <th>0</th>\n",
       "      <td>28751344</td>\n",
       "      <td>74.890169</td>\n",
       "      <td>39.475573</td>\n",
       "      <td>35.414596</td>\n",
       "      <td>4.052830</td>\n",
       "      <td>2.794774</td>\n",
       "      <td>1.258056</td>\n",
       "      <td>3.547978</td>\n",
       "      <td>2.176828</td>\n",
       "      <td>1.371150</td>\n",
       "      <td>...</td>\n",
       "      <td>28.409572</td>\n",
       "      <td>55.442126</td>\n",
       "      <td>28.343083</td>\n",
       "      <td>27.099043</td>\n",
       "      <td>16.518011</td>\n",
       "      <td>52.241580</td>\n",
       "      <td>6.130578</td>\n",
       "      <td>2.055585</td>\n",
       "      <td>Guadalajara</td>\n",
       "      <td>POINT (2364502.909 967746.052)</td>\n",
       "    </tr>\n",
       "    <tr>\n",
       "      <th>1</th>\n",
       "      <td>28753224</td>\n",
       "      <td>180.215453</td>\n",
       "      <td>94.978818</td>\n",
       "      <td>85.236635</td>\n",
       "      <td>4.968364</td>\n",
       "      <td>3.053272</td>\n",
       "      <td>1.915092</td>\n",
       "      <td>6.664361</td>\n",
       "      <td>2.904487</td>\n",
       "      <td>3.759874</td>\n",
       "      <td>...</td>\n",
       "      <td>68.644687</td>\n",
       "      <td>134.938995</td>\n",
       "      <td>71.333002</td>\n",
       "      <td>63.605993</td>\n",
       "      <td>35.514429</td>\n",
       "      <td>119.215103</td>\n",
       "      <td>25.485921</td>\n",
       "      <td>5.448743</td>\n",
       "      <td>Guadalajara</td>\n",
       "      <td>POINT (2363419.738 966556.114)</td>\n",
       "    </tr>\n",
       "  </tbody>\n",
       "</table>\n",
       "<p>2 rows × 43 columns</p>\n",
       "</div>"
      ],
      "text/plain": [
       "      osmid      pobtot     pobfem     pobmas     p_0a2   p_0a2_f   p_0a2_m  \\\n",
       "0  28751344   74.890169  39.475573  35.414596  4.052830  2.794774  1.258056   \n",
       "1  28753224  180.215453  94.978818  85.236635  4.968364  3.053272  1.915092   \n",
       "\n",
       "      p_3a5   p_3a5_f   p_3a5_m  ...  p_15ymas_m    p_18ymas  p_18ymas_f  \\\n",
       "0  3.547978  2.176828  1.371150  ...   28.409572   55.442126   28.343083   \n",
       "1  6.664361  2.904487  3.759874  ...   68.644687  134.938995   71.333002   \n",
       "\n",
       "   p_18ymas_m    pob0_14    pob15_64  pob65_mas  pcon_disc         city  \\\n",
       "0   27.099043  16.518011   52.241580   6.130578   2.055585  Guadalajara   \n",
       "1   63.605993  35.514429  119.215103  25.485921   5.448743  Guadalajara   \n",
       "\n",
       "                         geometry  \n",
       "0  POINT (2364502.909 967746.052)  \n",
       "1  POINT (2363419.738 966556.114)  \n",
       "\n",
       "[2 rows x 43 columns]"
      ]
     },
     "execution_count": 48,
     "metadata": {},
     "output_type": "execute_result"
    }
   ],
   "source": [
    "nodes_gdf.head(2)"
   ]
  },
  {
   "cell_type": "code",
   "execution_count": null,
   "id": "7a0a12a3-b37f-4046-8b41-1d4ac46c2199",
   "metadata": {},
   "outputs": [],
   "source": [
    "voronoi_gdf.head()"
   ]
  },
  {
   "cell_type": "code",
   "execution_count": 84,
   "id": "3316098a-8e40-4806-9dc1-952896809bb8",
   "metadata": {},
   "outputs": [
    {
     "data": {
      "text/plain": [
       "<Axes: >"
      ]
     },
     "execution_count": 84,
     "metadata": {},
     "output_type": "execute_result"
    },
    {
     "data": {
      "image/png": "[encoded data removed]",
      "text/plain": [
       "<Figure size 640x480 with 1 Axes>"
      ]
     },
     "metadata": {},
     "output_type": "display_data"
    }
   ],
   "source": [
    "voronoi_gdf.iloc[:10].plot()"
   ]
  },
  {
   "cell_type": "code",
   "execution_count": 85,
   "id": "7f7d3b14-f317-406e-9948-f95fd6290b26",
   "metadata": {},
   "outputs": [
    {
     "data": {
      "text/plain": [
       "(187139, 3)"
      ]
     },
     "execution_count": 85,
     "metadata": {},
     "output_type": "execute_result"
    }
   ],
   "source": [
    "voronoi_gdf.shape"
   ]
  },
  {
   "cell_type": "code",
   "execution_count": 38,
   "id": "7537f4b6-54f5-4f40-9da0-315cee86240c",
   "metadata": {},
   "outputs": [
    {
     "data": {
      "text/plain": [
       "(160369, 3)"
      ]
     },
     "execution_count": 38,
     "metadata": {},
     "output_type": "execute_result"
    }
   ],
   "source": [
    "nodes_gdf.shape"
   ]
  },
  {
   "cell_type": "code",
   "execution_count": 39,
   "id": "e4a4fe2b-1ab5-4168-9f3a-3f58b8181f91",
   "metadata": {},
   "outputs": [
    {
     "data": {
      "text/plain": [
       "(173686, 5)"
      ]
     },
     "execution_count": 39,
     "metadata": {},
     "output_type": "execute_result"
    }
   ],
   "source": [
    "nodes.shape"
   ]
  },
  {
   "cell_type": "code",
   "execution_count": 49,
   "id": "918603a4-8cfb-4f02-a05f-acbf8bd0d8a4",
   "metadata": {},
   "outputs": [
    {
     "name": "stdout",
     "output_type": "stream",
     "text": [
      "Empty GeoDataFrame\n",
      "Columns: [osmid, geometry, area_ha]\n",
      "Index: []\n"
     ]
    }
   ],
   "source": [
    "zero_area_voronoi = voronoi_gdf[voronoi_gdf['area_ha'] == 0]\n",
    "print(zero_area_voronoi)"
   ]
  },
  {
   "cell_type": "markdown",
   "id": "512b7dc7-8caa-45b2-9490-9a0463e5712f",
   "metadata": {},
   "source": [
    "### Asignar los nodos a cada polígono"
   ]
  },
  {
   "cell_type": "code",
   "execution_count": 11,
   "id": "5865739d-a28a-4083-885f-a158853d999f",
   "metadata": {},
   "outputs": [
    {
     "data": {
      "text/html": [
       "<div>\n",
       "<style scoped>\n",
       "    .dataframe tbody tr th:only-of-type {\n",
       "        vertical-align: middle;\n",
       "    }\n",
       "\n",
       "    .dataframe tbody tr th {\n",
       "        vertical-align: top;\n",
       "    }\n",
       "\n",
       "    .dataframe thead th {\n",
       "        text-align: right;\n",
       "    }\n",
       "</style>\n",
       "<table border=\"1\" class=\"dataframe\">\n",
       "  <thead>\n",
       "    <tr style=\"text-align: right;\">\n",
       "      <th></th>\n",
       "      <th>pobtot</th>\n",
       "      <th>geometry</th>\n",
       "      <th>osmid</th>\n",
       "      <th>area_ha</th>\n",
       "    </tr>\n",
       "  </thead>\n",
       "  <tbody>\n",
       "    <tr>\n",
       "      <th>0</th>\n",
       "      <td>74.890169</td>\n",
       "      <td>POINT (2364502.909 967746.052)</td>\n",
       "      <td>28751344</td>\n",
       "      <td>0.481911</td>\n",
       "    </tr>\n",
       "    <tr>\n",
       "      <th>1</th>\n",
       "      <td>180.215453</td>\n",
       "      <td>POINT (2363419.738 966556.114)</td>\n",
       "      <td>28753224</td>\n",
       "      <td>0.733155</td>\n",
       "    </tr>\n",
       "    <tr>\n",
       "      <th>2</th>\n",
       "      <td>58.046111</td>\n",
       "      <td>POINT (2364391.218 967415.621)</td>\n",
       "      <td>28757751</td>\n",
       "      <td>1.002558</td>\n",
       "    </tr>\n",
       "  </tbody>\n",
       "</table>\n",
       "</div>"
      ],
      "text/plain": [
       "       pobtot                        geometry     osmid   area_ha\n",
       "0   74.890169  POINT (2364502.909 967746.052)  28751344  0.481911\n",
       "1  180.215453  POINT (2363419.738 966556.114)  28753224  0.733155\n",
       "2   58.046111  POINT (2364391.218 967415.621)  28757751  1.002558"
      ]
     },
     "execution_count": 11,
     "metadata": {},
     "output_type": "execute_result"
    }
   ],
   "source": [
    "target_crs = \"EPSG:6372\"  # Proyección en metros para cálculos de área\n",
    "voronoi_gdf = voronoi_gdf.to_crs(target_crs)\n",
    "nodes_gdf = nodes_gdf.to_crs(target_crs)\n",
    "\n",
    "nodes_gdf = nodes_gdf[[\"pobtot\", \"geometry\",\"osmid\"]]\n",
    "\n",
    "# Realiza el merge para unir los datos de población y área desde `voronoi_gdf` a `nodes_gdf` basado en \"osmid\"\n",
    "nodespob = nodes_gdf.merge(\n",
    "    voronoi_gdf[['osmid', 'area_ha']],  # Selecciona solo las columnas necesarias de voronoi_gdf\n",
    "    on='osmid',\n",
    "    how='left'\n",
    "    )\n",
    "\n",
    "# Verifica las primeras filas para asegurarte de que el merge se realizó correctamente\n",
    "nodespob.head(3)"
   ]
  },
  {
   "cell_type": "code",
   "execution_count": 12,
   "id": "4106bad1-a97e-433e-9b35-a707d6f0ece1",
   "metadata": {},
   "outputs": [
    {
     "name": "stdout",
     "output_type": "stream",
     "text": [
      "Coincidencias de osmid: 160369 / 160369\n"
     ]
    }
   ],
   "source": [
    "matched_osmid = nodes_gdf['osmid'].isin(voronoi_gdf['osmid'])\n",
    "print(f\"Coincidencias de osmid: {matched_osmid.sum()} / {len(nodes_gdf)}\")"
   ]
  },
  {
   "cell_type": "code",
   "execution_count": 118,
   "id": "c96bf52e-c2bf-4ddc-9b7c-d31f0b7c7db4",
   "metadata": {},
   "outputs": [
    {
     "data": {
      "text/plain": [
       "pobtot      0\n",
       "geometry    0\n",
       "osmid       0\n",
       "area_ha     0\n",
       "dtype: int64"
      ]
     },
     "execution_count": 118,
     "metadata": {},
     "output_type": "execute_result"
    }
   ],
   "source": [
    "nodespob.isnull().sum()"
   ]
  },
  {
   "cell_type": "code",
   "execution_count": 126,
   "id": "d882ac9b-2ca2-4143-906b-dcc76d569370",
   "metadata": {},
   "outputs": [
    {
     "data": {
      "text/plain": [
       "u                0\n",
       "v                0\n",
       "key              0\n",
       "osmid            0\n",
       "oneway           0\n",
       "lanes       354885\n",
       "name        139138\n",
       "highway          0\n",
       "maxspeed    403173\n",
       "length           0\n",
       "geometry         0\n",
       "bridge      413324\n",
       "ref         411825\n",
       "junction    412321\n",
       "tunnel      414292\n",
       "access      366722\n",
       "width       413663\n",
       "service     410795\n",
       "city             0\n",
       "dtype: int64"
      ]
     },
     "execution_count": 126,
     "metadata": {},
     "output_type": "execute_result"
    }
   ],
   "source": [
    "edges.isna().sum()"
   ]
  },
  {
   "cell_type": "code",
   "execution_count": 13,
   "id": "42f6d160-65ef-4814-9b0f-f2199e02ecb8",
   "metadata": {},
   "outputs": [],
   "source": [
    "# Combinar para obtener los datos del nodo de origen 'u'\n",
    "edges_with_u = edges.merge(\n",
    "    nodespob[['osmid', 'pobtot', 'area_ha']], \n",
    "    left_on='u',  # Une usando la columna 'u' de edges\n",
    "    right_on='osmid',  # Une con la columna 'osmid' de nodes_gdf\n",
    "    how='left'  # Mantiene todas las filas de edges\n",
    ").rename(columns={'pobtot': 'pobtot_u', 'area_ha': 'area_ha_u'})  # Renombra columnas para evitar conflictos\n",
    "\n",
    "# Combinar para obtener los datos del nodo de destino 'v'\n",
    "edges_with_uv = edges_with_u.merge(\n",
    "    nodespob[['osmid', 'pobtot', 'area_ha']], \n",
    "    left_on='v',  # Une usando la columna 'v' de edges\n",
    "    right_on='osmid',  # Une con la columna 'osmid' de nodes_gdf\n",
    "    how='left'  # Mantiene todas las filas de edges_with_u\n",
    ").rename(columns={'pobtot': 'pobtot_v', 'area_ha': 'area_ha_v'})  # Renombra columnas para evitar conflictos\n"
   ]
  },
  {
   "cell_type": "code",
   "execution_count": 14,
   "id": "e1363f51-dab4-461b-a416-275958cb757a",
   "metadata": {},
   "outputs": [
    {
     "name": "stdout",
     "output_type": "stream",
     "text": [
      "(414636, 25)\n"
     ]
    },
    {
     "data": {
      "text/html": [
       "<div>\n",
       "<style scoped>\n",
       "    .dataframe tbody tr th:only-of-type {\n",
       "        vertical-align: middle;\n",
       "    }\n",
       "\n",
       "    .dataframe tbody tr th {\n",
       "        vertical-align: top;\n",
       "    }\n",
       "\n",
       "    .dataframe thead th {\n",
       "        text-align: right;\n",
       "    }\n",
       "</style>\n",
       "<table border=\"1\" class=\"dataframe\">\n",
       "  <thead>\n",
       "    <tr style=\"text-align: right;\">\n",
       "      <th></th>\n",
       "      <th>u</th>\n",
       "      <th>v</th>\n",
       "      <th>key</th>\n",
       "      <th>osmid_x</th>\n",
       "      <th>oneway</th>\n",
       "      <th>lanes</th>\n",
       "      <th>name</th>\n",
       "      <th>highway</th>\n",
       "      <th>maxspeed</th>\n",
       "      <th>length</th>\n",
       "      <th>...</th>\n",
       "      <th>access</th>\n",
       "      <th>width</th>\n",
       "      <th>service</th>\n",
       "      <th>city</th>\n",
       "      <th>osmid_y</th>\n",
       "      <th>pobtot_u</th>\n",
       "      <th>area_ha_u</th>\n",
       "      <th>osmid</th>\n",
       "      <th>pobtot_v</th>\n",
       "      <th>area_ha_v</th>\n",
       "    </tr>\n",
       "  </thead>\n",
       "  <tbody>\n",
       "    <tr>\n",
       "      <th>0</th>\n",
       "      <td>4303977502</td>\n",
       "      <td>4303977514</td>\n",
       "      <td>0</td>\n",
       "      <td>431149558</td>\n",
       "      <td>True</td>\n",
       "      <td>None</td>\n",
       "      <td>None</td>\n",
       "      <td>residential</td>\n",
       "      <td>None</td>\n",
       "      <td>147.496</td>\n",
       "      <td>...</td>\n",
       "      <td>private</td>\n",
       "      <td>None</td>\n",
       "      <td>None</td>\n",
       "      <td>Guadalajara</td>\n",
       "      <td>NaN</td>\n",
       "      <td>NaN</td>\n",
       "      <td>NaN</td>\n",
       "      <td>NaN</td>\n",
       "      <td>NaN</td>\n",
       "      <td>NaN</td>\n",
       "    </tr>\n",
       "    <tr>\n",
       "      <th>1</th>\n",
       "      <td>4303977503</td>\n",
       "      <td>4303977514</td>\n",
       "      <td>0</td>\n",
       "      <td>431149502</td>\n",
       "      <td>True</td>\n",
       "      <td>None</td>\n",
       "      <td>None</td>\n",
       "      <td>residential</td>\n",
       "      <td>None</td>\n",
       "      <td>49.994</td>\n",
       "      <td>...</td>\n",
       "      <td>private</td>\n",
       "      <td>None</td>\n",
       "      <td>None</td>\n",
       "      <td>Guadalajara</td>\n",
       "      <td>NaN</td>\n",
       "      <td>NaN</td>\n",
       "      <td>NaN</td>\n",
       "      <td>NaN</td>\n",
       "      <td>NaN</td>\n",
       "      <td>NaN</td>\n",
       "    </tr>\n",
       "    <tr>\n",
       "      <th>2</th>\n",
       "      <td>4303977508</td>\n",
       "      <td>4303977503</td>\n",
       "      <td>0</td>\n",
       "      <td>431149546</td>\n",
       "      <td>True</td>\n",
       "      <td>None</td>\n",
       "      <td>None</td>\n",
       "      <td>residential</td>\n",
       "      <td>None</td>\n",
       "      <td>65.457</td>\n",
       "      <td>...</td>\n",
       "      <td>private</td>\n",
       "      <td>None</td>\n",
       "      <td>None</td>\n",
       "      <td>Guadalajara</td>\n",
       "      <td>NaN</td>\n",
       "      <td>NaN</td>\n",
       "      <td>NaN</td>\n",
       "      <td>NaN</td>\n",
       "      <td>NaN</td>\n",
       "      <td>NaN</td>\n",
       "    </tr>\n",
       "    <tr>\n",
       "      <th>3</th>\n",
       "      <td>4303977517</td>\n",
       "      <td>4303977508</td>\n",
       "      <td>0</td>\n",
       "      <td>431149546</td>\n",
       "      <td>True</td>\n",
       "      <td>None</td>\n",
       "      <td>None</td>\n",
       "      <td>residential</td>\n",
       "      <td>None</td>\n",
       "      <td>107.109</td>\n",
       "      <td>...</td>\n",
       "      <td>private</td>\n",
       "      <td>None</td>\n",
       "      <td>None</td>\n",
       "      <td>Guadalajara</td>\n",
       "      <td>NaN</td>\n",
       "      <td>NaN</td>\n",
       "      <td>NaN</td>\n",
       "      <td>NaN</td>\n",
       "      <td>NaN</td>\n",
       "      <td>NaN</td>\n",
       "    </tr>\n",
       "    <tr>\n",
       "      <th>4</th>\n",
       "      <td>4303977519</td>\n",
       "      <td>4303977505</td>\n",
       "      <td>0</td>\n",
       "      <td>431149521</td>\n",
       "      <td>True</td>\n",
       "      <td>None</td>\n",
       "      <td>None</td>\n",
       "      <td>residential</td>\n",
       "      <td>None</td>\n",
       "      <td>204.005</td>\n",
       "      <td>...</td>\n",
       "      <td>private</td>\n",
       "      <td>None</td>\n",
       "      <td>None</td>\n",
       "      <td>Guadalajara</td>\n",
       "      <td>NaN</td>\n",
       "      <td>NaN</td>\n",
       "      <td>NaN</td>\n",
       "      <td>NaN</td>\n",
       "      <td>NaN</td>\n",
       "      <td>NaN</td>\n",
       "    </tr>\n",
       "  </tbody>\n",
       "</table>\n",
       "<p>5 rows × 25 columns</p>\n",
       "</div>"
      ],
      "text/plain": [
       "            u           v  key    osmid_x  oneway lanes  name      highway  \\\n",
       "0  4303977502  4303977514    0  431149558    True  None  None  residential   \n",
       "1  4303977503  4303977514    0  431149502    True  None  None  residential   \n",
       "2  4303977508  4303977503    0  431149546    True  None  None  residential   \n",
       "3  4303977517  4303977508    0  431149546    True  None  None  residential   \n",
       "4  4303977519  4303977505    0  431149521    True  None  None  residential   \n",
       "\n",
       "  maxspeed   length  ...   access width service         city osmid_y pobtot_u  \\\n",
       "0     None  147.496  ...  private  None    None  Guadalajara     NaN      NaN   \n",
       "1     None   49.994  ...  private  None    None  Guadalajara     NaN      NaN   \n",
       "2     None   65.457  ...  private  None    None  Guadalajara     NaN      NaN   \n",
       "3     None  107.109  ...  private  None    None  Guadalajara     NaN      NaN   \n",
       "4     None  204.005  ...  private  None    None  Guadalajara     NaN      NaN   \n",
       "\n",
       "  area_ha_u osmid pobtot_v  area_ha_v  \n",
       "0       NaN   NaN      NaN        NaN  \n",
       "1       NaN   NaN      NaN        NaN  \n",
       "2       NaN   NaN      NaN        NaN  \n",
       "3       NaN   NaN      NaN        NaN  \n",
       "4       NaN   NaN      NaN        NaN  \n",
       "\n",
       "[5 rows x 25 columns]"
      ]
     },
     "execution_count": 14,
     "metadata": {},
     "output_type": "execute_result"
    }
   ],
   "source": [
    "print(edges_with_uv.shape)\n",
    "edges_with_uv.head(5)"
   ]
  },
  {
   "cell_type": "code",
   "execution_count": 27,
   "id": "137cf947-3135-4999-90cb-d11896085eac",
   "metadata": {},
   "outputs": [
    {
     "data": {
      "text/plain": [
       "Index(['u', 'v', 'key', 'osmid_x', 'oneway', 'lanes', 'name', 'highway',\n",
       "       'maxspeed', 'length', 'geometry', 'bridge', 'ref', 'junction', 'tunnel',\n",
       "       'access', 'width', 'service', 'city', 'osmid_y', 'pobtot_u',\n",
       "       'area_ha_u', 'osmid', 'pobtot_v', 'area_ha_v'],\n",
       "      dtype='object')"
      ]
     },
     "execution_count": 27,
     "metadata": {},
     "output_type": "execute_result"
    }
   ],
   "source": [
    "edges_with_uv.columns"
   ]
  },
  {
   "cell_type": "code",
   "execution_count": 16,
   "id": "8d9bf5ee-324f-4c73-ad56-c4d1608e569d",
   "metadata": {},
   "outputs": [],
   "source": [
    "# Reemplazar NaN con 0 en las columnas 'pobtot_u', 'pobtot_v', 'area_ha_u', 'area_ha_v'\n",
    "edges_with_uv[['pobtot_u', 'pobtot_v']] = edges_with_uv[['pobtot_u', 'pobtot_v']].fillna(0)"
   ]
  },
  {
   "cell_type": "code",
   "execution_count": 17,
   "id": "7a437c67-26c9-4283-ade6-f9ace0b18343",
   "metadata": {},
   "outputs": [
    {
     "name": "stderr",
     "output_type": "stream",
     "text": [
      "/tmp/ipykernel_4555/1723036405.py:8: RuntimeWarning: Mean of empty slice\n",
      "  edges_with_uv['average_density'] = np.nanmean([edges_with_uv['density_u'], edges_with_uv['density_v']], axis=0)\n"
     ]
    }
   ],
   "source": [
    "# Calcular la densidad de cada nodo\n",
    "edges_with_uv['density_u'] = edges_with_uv['pobtot_u'] / edges_with_uv['area_ha_u']\n",
    "edges_with_uv['density_v'] = edges_with_uv['pobtot_v'] / edges_with_uv['area_ha_v']\n",
    "edges_with_uv[\"average_population\"] = np.nanmean([edges_with_uv['pobtot_u'], edges_with_uv['pobtot_v']], axis=0)\n",
    "edges_with_uv[\"total_pobtot\"] = edges_with_uv['pobtot_u'] + edges_with_uv['pobtot_v']\n",
    "\n",
    "# Calcular la densidad promedio para cada arista (promedio de los nodos u y v)\n",
    "edges_with_uv['average_density'] = np.nanmean([edges_with_uv['density_u'], edges_with_uv['density_v']], axis=0)"
   ]
  },
  {
   "cell_type": "code",
   "execution_count": 18,
   "id": "7fa30050-8b04-40e7-afb7-ca5157ebfc69",
   "metadata": {},
   "outputs": [
    {
     "name": "stdout",
     "output_type": "stream",
     "text": [
      "Empty GeoDataFrame\n",
      "Columns: [pobtot, geometry, osmid, area_ha]\n",
      "Index: []\n"
     ]
    }
   ],
   "source": [
    "zero_area = nodespob[nodespob['area_ha'] == 0]\n",
    "print(zero_area)"
   ]
  },
  {
   "cell_type": "code",
   "execution_count": 19,
   "id": "fa17701b-7cbd-4185-9e3b-98b98c6c74cc",
   "metadata": {},
   "outputs": [
    {
     "data": {
      "text/html": [
       "<div>\n",
       "<style scoped>\n",
       "    .dataframe tbody tr th:only-of-type {\n",
       "        vertical-align: middle;\n",
       "    }\n",
       "\n",
       "    .dataframe tbody tr th {\n",
       "        vertical-align: top;\n",
       "    }\n",
       "\n",
       "    .dataframe thead th {\n",
       "        text-align: right;\n",
       "    }\n",
       "</style>\n",
       "<table border=\"1\" class=\"dataframe\">\n",
       "  <thead>\n",
       "    <tr style=\"text-align: right;\">\n",
       "      <th></th>\n",
       "      <th>u</th>\n",
       "      <th>v</th>\n",
       "      <th>density_u</th>\n",
       "      <th>density_v</th>\n",
       "      <th>average_density</th>\n",
       "      <th>average_population</th>\n",
       "      <th>total_pobtot</th>\n",
       "      <th>geometry</th>\n",
       "    </tr>\n",
       "  </thead>\n",
       "  <tbody>\n",
       "    <tr>\n",
       "      <th>0</th>\n",
       "      <td>4303977502</td>\n",
       "      <td>4303977514</td>\n",
       "      <td>NaN</td>\n",
       "      <td>NaN</td>\n",
       "      <td>NaN</td>\n",
       "      <td>0.0</td>\n",
       "      <td>0.0</td>\n",
       "      <td>LINESTRING (-103.50987 20.45796, -103.51121 20...</td>\n",
       "    </tr>\n",
       "    <tr>\n",
       "      <th>1</th>\n",
       "      <td>4303977503</td>\n",
       "      <td>4303977514</td>\n",
       "      <td>NaN</td>\n",
       "      <td>NaN</td>\n",
       "      <td>NaN</td>\n",
       "      <td>0.0</td>\n",
       "      <td>0.0</td>\n",
       "      <td>LINESTRING (-103.51136 20.45798, -103.51121 20...</td>\n",
       "    </tr>\n",
       "    <tr>\n",
       "      <th>2</th>\n",
       "      <td>4303977508</td>\n",
       "      <td>4303977503</td>\n",
       "      <td>NaN</td>\n",
       "      <td>NaN</td>\n",
       "      <td>NaN</td>\n",
       "      <td>0.0</td>\n",
       "      <td>0.0</td>\n",
       "      <td>LINESTRING (-103.51195 20.45817, -103.51136 20...</td>\n",
       "    </tr>\n",
       "    <tr>\n",
       "      <th>3</th>\n",
       "      <td>4303977517</td>\n",
       "      <td>4303977508</td>\n",
       "      <td>NaN</td>\n",
       "      <td>NaN</td>\n",
       "      <td>NaN</td>\n",
       "      <td>0.0</td>\n",
       "      <td>0.0</td>\n",
       "      <td>LINESTRING (-103.51292 20.45849, -103.51195 20...</td>\n",
       "    </tr>\n",
       "    <tr>\n",
       "      <th>4</th>\n",
       "      <td>4303977519</td>\n",
       "      <td>4303977505</td>\n",
       "      <td>NaN</td>\n",
       "      <td>NaN</td>\n",
       "      <td>NaN</td>\n",
       "      <td>0.0</td>\n",
       "      <td>0.0</td>\n",
       "      <td>LINESTRING (-103.51055 20.45850, -103.51005 20...</td>\n",
       "    </tr>\n",
       "  </tbody>\n",
       "</table>\n",
       "</div>"
      ],
      "text/plain": [
       "            u           v  density_u  density_v  average_density  \\\n",
       "0  4303977502  4303977514        NaN        NaN              NaN   \n",
       "1  4303977503  4303977514        NaN        NaN              NaN   \n",
       "2  4303977508  4303977503        NaN        NaN              NaN   \n",
       "3  4303977517  4303977508        NaN        NaN              NaN   \n",
       "4  4303977519  4303977505        NaN        NaN              NaN   \n",
       "\n",
       "   average_population  total_pobtot  \\\n",
       "0                 0.0           0.0   \n",
       "1                 0.0           0.0   \n",
       "2                 0.0           0.0   \n",
       "3                 0.0           0.0   \n",
       "4                 0.0           0.0   \n",
       "\n",
       "                                            geometry  \n",
       "0  LINESTRING (-103.50987 20.45796, -103.51121 20...  \n",
       "1  LINESTRING (-103.51136 20.45798, -103.51121 20...  \n",
       "2  LINESTRING (-103.51195 20.45817, -103.51136 20...  \n",
       "3  LINESTRING (-103.51292 20.45849, -103.51195 20...  \n",
       "4  LINESTRING (-103.51055 20.45850, -103.51005 20...  "
      ]
     },
     "execution_count": 19,
     "metadata": {},
     "output_type": "execute_result"
    }
   ],
   "source": [
    "edges_with_uv = edges_with_uv[['u', 'v', 'density_u', 'density_v', 'average_density', \"average_population\", \"total_pobtot\", \"geometry\"]]\n",
    "edges_with_uv.head()"
   ]
  },
  {
   "cell_type": "code",
   "execution_count": 58,
   "id": "381a7f7a-3d6b-4b05-994e-691d5719bb0c",
   "metadata": {},
   "outputs": [
    {
     "data": {
      "text/plain": [
       "u                         0\n",
       "v                         0\n",
       "density_u             30488\n",
       "density_v             30471\n",
       "average_density       36120\n",
       "average_population        0\n",
       "total_pobtot              0\n",
       "geometry                  0\n",
       "dtype: int64"
      ]
     },
     "execution_count": 58,
     "metadata": {},
     "output_type": "execute_result"
    }
   ],
   "source": [
    "edges_with_uv.isna().sum()"
   ]
  },
  {
   "cell_type": "code",
   "execution_count": 160,
   "id": "f17eeb60-9b12-425d-83a1-2f16add19127",
   "metadata": {},
   "outputs": [
    {
     "name": "stderr",
     "output_type": "stream",
     "text": [
      "/tmp/ipykernel_2476/3560604630.py:1: SettingWithCopyWarning: \n",
      "A value is trying to be set on a copy of a slice from a DataFrame\n",
      "\n",
      "See the caveats in the documentation: https://pandas.pydata.org/pandas-docs/stable/user_guide/indexing.html#returning-a-view-versus-a-copy\n",
      "  edges_with_uv.dropna(inplace = True)\n"
     ]
    }
   ],
   "source": [
    "edges_with_uv.dropna(inplace = True)"
   ]
  },
  {
   "cell_type": "code",
   "execution_count": 161,
   "id": "1b95c3a3-5970-421d-a1c8-4e2ba32754c6",
   "metadata": {},
   "outputs": [
    {
     "data": {
      "text/plain": [
       "u                     0\n",
       "v                     0\n",
       "density_u             0\n",
       "density_v             0\n",
       "average_density       0\n",
       "average_population    0\n",
       "total_pobtot          0\n",
       "geometry              0\n",
       "dtype: int64"
      ]
     },
     "execution_count": 161,
     "metadata": {},
     "output_type": "execute_result"
    }
   ],
   "source": [
    "edges_with_uv.isna().sum()"
   ]
  },
  {
   "cell_type": "code",
   "execution_count": 20,
   "id": "e8961f92-384d-4df2-9564-33d35669439c",
   "metadata": {},
   "outputs": [
    {
     "data": {
      "text/plain": [
       "<Axes: >"
      ]
     },
     "execution_count": 20,
     "metadata": {},
     "output_type": "execute_result"
    },
    {
     "data": {
      "image/png": "[encoded data removed]",
      "text/plain": [
       "<Figure size 640x480 with 1 Axes>"
      ]
     },
     "metadata": {},
     "output_type": "display_data"
    }
   ],
   "source": [
    "edges_with_uv[\"average_density\"].plot()"
   ]
  },
  {
   "cell_type": "code",
   "execution_count": 59,
   "id": "c32df872-b544-441a-933c-abac5252ce2c",
   "metadata": {},
   "outputs": [
    {
     "data": {
      "text/html": [
       "<div>\n",
       "<style scoped>\n",
       "    .dataframe tbody tr th:only-of-type {\n",
       "        vertical-align: middle;\n",
       "    }\n",
       "\n",
       "    .dataframe tbody tr th {\n",
       "        vertical-align: top;\n",
       "    }\n",
       "\n",
       "    .dataframe thead th {\n",
       "        text-align: right;\n",
       "    }\n",
       "</style>\n",
       "<table border=\"1\" class=\"dataframe\">\n",
       "  <thead>\n",
       "    <tr style=\"text-align: right;\">\n",
       "      <th></th>\n",
       "      <th>u</th>\n",
       "      <th>v</th>\n",
       "      <th>density_u</th>\n",
       "      <th>density_v</th>\n",
       "      <th>average_density</th>\n",
       "      <th>average_population</th>\n",
       "      <th>total_pobtot</th>\n",
       "      <th>geometry</th>\n",
       "    </tr>\n",
       "  </thead>\n",
       "  <tbody>\n",
       "    <tr>\n",
       "      <th>0</th>\n",
       "      <td>4303977502</td>\n",
       "      <td>4303977514</td>\n",
       "      <td>NaN</td>\n",
       "      <td>NaN</td>\n",
       "      <td>NaN</td>\n",
       "      <td>0.0</td>\n",
       "      <td>0.0</td>\n",
       "      <td>LINESTRING (-103.50987 20.45796, -103.51121 20...</td>\n",
       "    </tr>\n",
       "    <tr>\n",
       "      <th>1</th>\n",
       "      <td>4303977503</td>\n",
       "      <td>4303977514</td>\n",
       "      <td>NaN</td>\n",
       "      <td>NaN</td>\n",
       "      <td>NaN</td>\n",
       "      <td>0.0</td>\n",
       "      <td>0.0</td>\n",
       "      <td>LINESTRING (-103.51136 20.45798, -103.51121 20...</td>\n",
       "    </tr>\n",
       "    <tr>\n",
       "      <th>2</th>\n",
       "      <td>4303977508</td>\n",
       "      <td>4303977503</td>\n",
       "      <td>NaN</td>\n",
       "      <td>NaN</td>\n",
       "      <td>NaN</td>\n",
       "      <td>0.0</td>\n",
       "      <td>0.0</td>\n",
       "      <td>LINESTRING (-103.51195 20.45817, -103.51136 20...</td>\n",
       "    </tr>\n",
       "    <tr>\n",
       "      <th>3</th>\n",
       "      <td>4303977517</td>\n",
       "      <td>4303977508</td>\n",
       "      <td>NaN</td>\n",
       "      <td>NaN</td>\n",
       "      <td>NaN</td>\n",
       "      <td>0.0</td>\n",
       "      <td>0.0</td>\n",
       "      <td>LINESTRING (-103.51292 20.45849, -103.51195 20...</td>\n",
       "    </tr>\n",
       "    <tr>\n",
       "      <th>4</th>\n",
       "      <td>4303977519</td>\n",
       "      <td>4303977505</td>\n",
       "      <td>NaN</td>\n",
       "      <td>NaN</td>\n",
       "      <td>NaN</td>\n",
       "      <td>0.0</td>\n",
       "      <td>0.0</td>\n",
       "      <td>LINESTRING (-103.51055 20.45850, -103.51005 20...</td>\n",
       "    </tr>\n",
       "  </tbody>\n",
       "</table>\n",
       "</div>"
      ],
      "text/plain": [
       "            u           v  density_u  density_v  average_density  \\\n",
       "0  4303977502  4303977514        NaN        NaN              NaN   \n",
       "1  4303977503  4303977514        NaN        NaN              NaN   \n",
       "2  4303977508  4303977503        NaN        NaN              NaN   \n",
       "3  4303977517  4303977508        NaN        NaN              NaN   \n",
       "4  4303977519  4303977505        NaN        NaN              NaN   \n",
       "\n",
       "   average_population  total_pobtot  \\\n",
       "0                 0.0           0.0   \n",
       "1                 0.0           0.0   \n",
       "2                 0.0           0.0   \n",
       "3                 0.0           0.0   \n",
       "4                 0.0           0.0   \n",
       "\n",
       "                                            geometry  \n",
       "0  LINESTRING (-103.50987 20.45796, -103.51121 20...  \n",
       "1  LINESTRING (-103.51136 20.45798, -103.51121 20...  \n",
       "2  LINESTRING (-103.51195 20.45817, -103.51136 20...  \n",
       "3  LINESTRING (-103.51292 20.45849, -103.51195 20...  \n",
       "4  LINESTRING (-103.51055 20.45850, -103.51005 20...  "
      ]
     },
     "execution_count": 59,
     "metadata": {},
     "output_type": "execute_result"
    }
   ],
   "source": [
    "edges_with_uv.head()"
   ]
  },
  {
   "cell_type": "code",
   "execution_count": null,
   "id": "ad135b1a-1c69-45b8-bc4a-52be98058c25",
   "metadata": {},
   "outputs": [],
   "source": []
  }
 ],
 "metadata": {
  "kernelspec": {
   "display_name": "GDS-10.0",
   "language": "python",
   "name": "gds"
  },
  "language_info": {
   "codemirror_mode": {
    "name": "ipython",
    "version": 3
   },
   "file_extension": ".py",
   "mimetype": "text/x-python",
   "name": "python",
   "nbconvert_exporter": "python",
   "pygments_lexer": "ipython3",
   "version": "3.9.18"
  }
 },
 "nbformat": 4,
 "nbformat_minor": 5
}
