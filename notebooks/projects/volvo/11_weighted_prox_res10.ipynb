{
 "cells": [
  {
   "cell_type": "markdown",
   "id": "0c166fc8-ecd1-4ef2-ad46-a0a11ac5e858",
   "metadata": {},
   "source": [
    "# Weigthed proximity analysis"
   ]
  },
  {
   "cell_type": "markdown",
   "id": "71661e9b-ac6b-47be-8514-212110c4b119",
   "metadata": {},
   "source": [
    "Determine the amenities and servicies oppotunites with a weigthed value. The weigthed value is obtained dividing the amount of opportunities within 15min by the total amaount of opportunities for a given category."
   ]
  },
  {
   "cell_type": "markdown",
   "id": "769ddc4b-4784-4499-ba81-e42a1d0f4f27",
   "metadata": {},
   "source": [
    "## Import libraries"
   ]
  },
  {
   "cell_type": "code",
   "execution_count": 2,
   "id": "feae7db8-f7b1-4b08-97f2-408ee638d80a",
   "metadata": {},
   "outputs": [],
   "source": [
    "import os\n",
    "import sys\n",
    "\n",
    "import pandas as pd\n",
    "import geopandas as gpd\n",
    "import osmnx as ox\n",
    "import numpy as np\n",
    "\n",
    "import matplotlib.pyplot as plt\n",
    "import seaborn as sns\n",
    "\n",
    "import warnings\n",
    "warnings.simplefilter(action='ignore', category=FutureWarning)\n",
    "\n",
    "module_path = os.path.abspath(os.path.join('../../../'))\n",
    "if module_path not in sys.path:\n",
    "    sys.path.append(module_path)\n",
    "    import aup\n",
    "else:\n",
    "    import aup"
   ]
  },
  {
   "cell_type": "markdown",
   "id": "284347e4-767d-4d83-b4e3-6e6fa63e63a7",
   "metadata": {},
   "source": [
    "## Download data"
   ]
  },
  {
   "cell_type": "markdown",
   "id": "73df96cd-d8c4-4892-8a4c-5f07b9776e30",
   "metadata": {},
   "source": [
    "Proximity hexagons"
   ]
  },
  {
   "cell_type": "code",
   "execution_count": 3,
   "id": "e255a04a-81b9-442b-8166-f5bc1369b9ec",
   "metadata": {
    "scrolled": true
   },
   "outputs": [
    {
     "name": "stdout",
     "output_type": "stream",
     "text": [
      "(40964, 44)\n"
     ]
    },
    {
     "data": {
      "text/html": [
       "<div>\n",
       "<style scoped>\n",
       "    .dataframe tbody tr th:only-of-type {\n",
       "        vertical-align: middle;\n",
       "    }\n",
       "\n",
       "    .dataframe tbody tr th {\n",
       "        vertical-align: top;\n",
       "    }\n",
       "\n",
       "    .dataframe thead th {\n",
       "        text-align: right;\n",
       "    }\n",
       "</style>\n",
       "<table border=\"1\" class=\"dataframe\">\n",
       "  <thead>\n",
       "    <tr style=\"text-align: right;\">\n",
       "      <th></th>\n",
       "      <th>hex_id_10</th>\n",
       "      <th>geometry</th>\n",
       "      <th>CVEGEO</th>\n",
       "      <th>NOMGEO</th>\n",
       "      <th>city</th>\n",
       "      <th>type</th>\n",
       "      <th>time_guarderias</th>\n",
       "      <th>guarderias_15min</th>\n",
       "      <th>time_preescolar</th>\n",
       "      <th>preescolar_15min</th>\n",
       "      <th>...</th>\n",
       "      <th>time_escuelas</th>\n",
       "      <th>escuelas_15min</th>\n",
       "      <th>time_salud</th>\n",
       "      <th>salud_15min</th>\n",
       "      <th>time_equipamiento deportivo</th>\n",
       "      <th>equipamiento deportivo_15min</th>\n",
       "      <th>time_cultural</th>\n",
       "      <th>cultural_15min</th>\n",
       "      <th>time_financiero</th>\n",
       "      <th>financiero_15min</th>\n",
       "    </tr>\n",
       "  </thead>\n",
       "  <tbody>\n",
       "    <tr>\n",
       "      <th>0</th>\n",
       "      <td>8a498c864807fff</td>\n",
       "      <td>POLYGON ((-103.32803 20.76447, -103.32738 20.7...</td>\n",
       "      <td>14120</td>\n",
       "      <td>Zapopan</td>\n",
       "      <td>Guadalajara</td>\n",
       "      <td>urban</td>\n",
       "      <td>20.071257</td>\n",
       "      <td>0.0</td>\n",
       "      <td>5.336399</td>\n",
       "      <td>3.0</td>\n",
       "      <td>...</td>\n",
       "      <td>5.336399</td>\n",
       "      <td>7.000000</td>\n",
       "      <td>17.102767</td>\n",
       "      <td>0.000000</td>\n",
       "      <td>22.631905</td>\n",
       "      <td>0.0</td>\n",
       "      <td>55.437709</td>\n",
       "      <td>0.0</td>\n",
       "      <td>27.321309</td>\n",
       "      <td>0.0</td>\n",
       "    </tr>\n",
       "    <tr>\n",
       "      <th>1</th>\n",
       "      <td>8a498c86480ffff</td>\n",
       "      <td>POLYGON ((-103.32883 20.76552, -103.32819 20.7...</td>\n",
       "      <td>14120</td>\n",
       "      <td>Zapopan</td>\n",
       "      <td>Guadalajara</td>\n",
       "      <td>urban</td>\n",
       "      <td>23.049120</td>\n",
       "      <td>0.0</td>\n",
       "      <td>4.056723</td>\n",
       "      <td>3.0</td>\n",
       "      <td>...</td>\n",
       "      <td>4.056723</td>\n",
       "      <td>6.285714</td>\n",
       "      <td>16.067648</td>\n",
       "      <td>0.142857</td>\n",
       "      <td>21.503547</td>\n",
       "      <td>0.0</td>\n",
       "      <td>56.225013</td>\n",
       "      <td>0.0</td>\n",
       "      <td>26.286190</td>\n",
       "      <td>0.0</td>\n",
       "    </tr>\n",
       "  </tbody>\n",
       "</table>\n",
       "<p>2 rows × 44 columns</p>\n",
       "</div>"
      ],
      "text/plain": [
       "         hex_id_10                                           geometry CVEGEO  \\\n",
       "0  8a498c864807fff  POLYGON ((-103.32803 20.76447, -103.32738 20.7...  14120   \n",
       "1  8a498c86480ffff  POLYGON ((-103.32883 20.76552, -103.32819 20.7...  14120   \n",
       "\n",
       "    NOMGEO         city   type  time_guarderias  guarderias_15min  \\\n",
       "0  Zapopan  Guadalajara  urban        20.071257               0.0   \n",
       "1  Zapopan  Guadalajara  urban        23.049120               0.0   \n",
       "\n",
       "   time_preescolar  preescolar_15min  ...  time_escuelas  escuelas_15min  \\\n",
       "0         5.336399               3.0  ...       5.336399        7.000000   \n",
       "1         4.056723               3.0  ...       4.056723        6.285714   \n",
       "\n",
       "   time_salud  salud_15min  time_equipamiento deportivo  \\\n",
       "0   17.102767     0.000000                    22.631905   \n",
       "1   16.067648     0.142857                    21.503547   \n",
       "\n",
       "   equipamiento deportivo_15min  time_cultural  cultural_15min  \\\n",
       "0                           0.0      55.437709             0.0   \n",
       "1                           0.0      56.225013             0.0   \n",
       "\n",
       "   time_financiero  financiero_15min  \n",
       "0        27.321309               0.0  \n",
       "1        26.286190               0.0  \n",
       "\n",
       "[2 rows x 44 columns]"
      ]
     },
     "execution_count": 3,
     "metadata": {},
     "output_type": "execute_result"
    }
   ],
   "source": [
    "hex_prox = aup.gdf_from_db('volvo_proxanalysis_2024_mza_hex10', 'projects_research')\n",
    "print(hex_prox.shape)\n",
    "hex_prox.head(2)"
   ]
  },
  {
   "cell_type": "markdown",
   "id": "27b1ed46-d05e-4e07-997e-5c5bccb6b31b",
   "metadata": {},
   "source": [
    "Amenities and services"
   ]
  },
  {
   "cell_type": "code",
   "execution_count": 4,
   "id": "64f89909-52d7-46b5-bd50-d9769860d0de",
   "metadata": {},
   "outputs": [],
   "source": [
    "# ---------------------------- BASE DATA REQUIRED ----------------------------\n",
    "# Area of interest (city)\n",
    "metro_schema = 'metropolis'\n",
    "metro_table = 'metro_gdf_2020' #'metro_gdf_2015' or 'metro_gdf_2020'\n",
    "# Network data (nodes and edges table for distance analysis,\n",
    "# also used to generate the network G with which the nearest OSMID is assigned to each poi)\n",
    "network_schema = 'osmnx'\n",
    "nodes_table = 'nodes' #'nodes' or 'nodes_23_point'\n",
    "edges_table = 'edges_speed' ################################################################################################## PENDIENTE\n",
    "# Points of interest - DENUE\n",
    "denue_schema = 'denue'\n",
    "denue_table = 'denue_23_point' #'denue_2020' or 'denue_23_point'\n",
    "# Points of interest - CLUES\n",
    "clues_schema = 'denue'\n",
    "clues_table = 'clues_23_point' #'clues' or 'clues_23_point'\n",
    "# Points of interest - SIP\n",
    "sip_schema = 'denue'\n",
    "sip_table = 'sip_23_point' #'sip_2020' or 'sip_23_point'\n",
    "# Points of interest - Espacio publico (Parques) ### Exclusive project Volvo\n",
    "parques_schema = 'espacios_publicos' \n",
    "parques_table = 'ep_amg'\n",
    "# Hexgrid\n",
    "hex_schema = 'hexgrid'\n",
    "# Population data\n",
    "pop_schema = 'censo'\n",
    "pop_table = 'hex_censo_mza_2020_res9'"
   ]
  },
  {
   "cell_type": "code",
   "execution_count": 5,
   "id": "3a7b4eeb-4137-427d-874e-3c889528c227",
   "metadata": {},
   "outputs": [],
   "source": [
    "gdf = hex_prox.to_crs(\"EPSG:6372\")\n",
    "gdf = gdf.buffer(500).reset_index().rename(columns={0: \"geometry\"})\n",
    "gdf = gdf.set_geometry(\"geometry\")\n",
    "gdf = gdf.to_crs(\"EPSG:4326\")\n",
    "poly_wkt = gdf.dissolve().geometry.to_wkt()[0]"
   ]
  },
  {
   "cell_type": "code",
   "execution_count": 36,
   "id": "701c1deb-eabe-4117-ad8a-21df5f3d0601",
   "metadata": {},
   "outputs": [],
   "source": [
    "parameters = {'Escuelas':{'Guarderias':{'denue_guarderias':[624411, 624412]},\n",
    "                          'Preescolar':{'denue_preescolar':[611111, 611112]},\n",
    "                          'Primaria':{'denue_primaria':[611121, 611122]},\n",
    "                          'Secundaria':{'denue_secundaria':[611131, 611132]}\n",
    "                         },\n",
    "              'Salud':{'Primer_nivel':{'clues_primer_nivel':[8610]},\n",
    "                       'Farmacias':{'denue_farmacias':[474111,464112]} ########## Volvo: 464111 Farmacias sin minisúper, 464112 Farmacias con minisúper\n",
    "                       },\n",
    "              'Parques':{'Parques':{'odc_parques':[9321]} ########## Volvo: AGREGAR DE BD, \n",
    "                                                          ########## Se le asignó el code 9321, correspondiente a 'Activities of amusement parks and theme parks'\n",
    "                                                          ########## Fuente del code elegido: International Standard Industrial Classification of all Economic Activities, Rev.4\n",
    "                                                          ########## https://unstats.un.org/unsd/publication/seriesm/seriesm_4rev4e.pdf\n",
    "                        },\n",
    "              'Equipamiento deportivo':{'Cancha':{'sip_cancha':[93110]},\n",
    "                                        'Unidad_deportiva':{'sip_unidad_deportiva':[93111]}\n",
    "                                       },\n",
    "              'Cultural':{'Cines':{'denue_cines':[512130]},\n",
    "                          'Museos':{'denue_museos':[712111, 712112]},\n",
    "                          'Bibliotecas':{'denue_bibliotecas':[519121,519122]}\n",
    "                         },\n",
    "              'Financiero':{'Bancos':{'denue_bancos':[522110]} #################################################### Volvo: 522110 Banca Múltiple (Bancos y cajeros)\n",
    "                           }\n",
    "             }"
   ]
  },
  {
   "cell_type": "code",
   "execution_count": 7,
   "id": "60d6f0ae-3920-4f99-be4a-ada5dd29a881",
   "metadata": {},
   "outputs": [],
   "source": [
    "####################################################################################################################################\n",
    "# ADAPTATION\n",
    "# Simplified version, does not filter centro cultural nor dif because it is not used in project Volvo.\n",
    "####################################################################################################################################\n",
    "def get_denue_pois(denue_schema,denue_table,poly_wkt,code):\n",
    "    # This function downloads the codigo_act denue poi requested for the analysis.\n",
    "\n",
    "    # Download denue pois\n",
    "    query = f\"SELECT * FROM {denue_schema}.{denue_table} WHERE (ST_Intersects(geometry, \\'SRID=4326;{poly_wkt}\\')) AND (\\\"codigo_act\\\" = \\'{code}\\')\"\n",
    "    code_pois = aup.gdf_from_query(query, geometry_col='geometry')\n",
    "\n",
    "    # Format denue pois\n",
    "    code_pois = code_pois[['codigo_act', 'geometry']]\n",
    "    code_pois = code_pois.rename(columns={'codigo_act':'code'})\n",
    "    code_pois['code'] = code_pois['code'].astype('int64')\n",
    "\n",
    "    return code_pois"
   ]
  },
  {
   "cell_type": "code",
   "execution_count": 8,
   "id": "527529b5-e0c6-4bd0-9851-b2d6741d1a63",
   "metadata": {},
   "outputs": [],
   "source": [
    "####################################################################################################################################\n",
    "# NEW\n",
    "# Project Volvo includes 'parques', which are in OdC's DB\n",
    "####################################################################################################################################\n",
    "def get_parques_pois(parques_schema,parques_table,code):\n",
    "    # This function creates parques points of interest out of vertices of parques found in db (schema>table)\n",
    "\n",
    "    # Download parques pois\n",
    "    query = f\"SELECT * FROM {parques_schema}.{parques_table}\"\n",
    "    gdf = aup.gdf_from_query(query, geometry_col='geometry')\n",
    "    gdf = gdf.to_crs(\"EPSG:4326\")\n",
    "\n",
    "    # Get vertices coordinates\n",
    "    gdf_coords = gdf.geometry.get_coordinates()\n",
    "\n",
    "    # Merge back with gdf containing data\n",
    "    gdf_coords_data = pd.merge(gdf_coords,gdf,left_index=True,right_index=True)\n",
    "\n",
    "    # Drop poly geometry \n",
    "    df_coords_data = gdf_coords_data.drop(columns=['geometry'])\n",
    "    # Set points geometry\n",
    "    gdf_2 = gpd.GeoDataFrame(df_coords_data, \n",
    "                             geometry=gpd.points_from_xy(df_coords_data.x, df_coords_data.y),\n",
    "                             crs='EPSG:4326')\n",
    "    # Format\n",
    "    gdf_2.drop(columns=['x','y'],inplace=True)\n",
    "    gdf_2.reset_index(inplace=True)\n",
    "    gdf_2.rename(columns={'index':'polygon_id'},inplace=True)\n",
    "\n",
    "    # Project Volvo filter\n",
    "    # Tipos\n",
    "    tipos = ['Parque','Espacio verde vecinal', 'Plaza', 'Área natural', 'Área natural protegida']\n",
    "    gdf_f1 = gdf_2.loc[gdf_2.Tipo.isin(tipos)]\n",
    "    # Usos\n",
    "    gdf_f2 = gdf_f1.loc[gdf_f1.Uso == 'Uso recreativo']\n",
    "\n",
    "    # Proxanalysis filter\n",
    "    #code_pois = gdf_f2.set_crs(\"EPSG:4326\")\n",
    "    gdf_f2['code'] = code\n",
    "    code_pois = gdf_f2[['polygon_id','code','geometry']]\n",
    "    code_pois['code'] = code_pois['code'].astype('int64')\n",
    "\n",
    "    code_pois = code_pois.drop_duplicates()\n",
    "\n",
    "    return code_pois"
   ]
  },
  {
   "cell_type": "markdown",
   "id": "5dcc9ee7-b1ec-4188-9372-d184d5b87acd",
   "metadata": {},
   "source": [
    "Download CLUES and SIP"
   ]
  },
  {
   "cell_type": "code",
   "execution_count": 9,
   "id": "d05907a3-339b-43f4-862b-178db2d51f1a",
   "metadata": {
    "scrolled": true
   },
   "outputs": [
    {
     "name": "stderr",
     "output_type": "stream",
     "text": [
      "/home/edgaregurrola/.cache/pypoetry/virtualenvs/aup-qDsIK5d5-py3.11/lib/python3.11/site-packages/geopandas/geodataframe.py:1819: SettingWithCopyWarning: \n",
      "A value is trying to be set on a copy of a slice from a DataFrame.\n",
      "Try using .loc[row_indexer,col_indexer] = value instead\n",
      "\n",
      "See the caveats in the documentation: https://pandas.pydata.org/pandas-docs/stable/user_guide/indexing.html#returning-a-view-versus-a-copy\n",
      "  super().__setitem__(key, value)\n",
      "/home/edgaregurrola/.cache/pypoetry/virtualenvs/aup-qDsIK5d5-py3.11/lib/python3.11/site-packages/geopandas/geodataframe.py:1819: SettingWithCopyWarning: \n",
      "A value is trying to be set on a copy of a slice from a DataFrame.\n",
      "Try using .loc[row_indexer,col_indexer] = value instead\n",
      "\n",
      "See the caveats in the documentation: https://pandas.pydata.org/pandas-docs/stable/user_guide/indexing.html#returning-a-view-versus-a-copy\n",
      "  super().__setitem__(key, value)\n",
      "/home/edgaregurrola/.cache/pypoetry/virtualenvs/aup-qDsIK5d5-py3.11/lib/python3.11/site-packages/geopandas/geodataframe.py:1819: SettingWithCopyWarning: \n",
      "A value is trying to be set on a copy of a slice from a DataFrame.\n",
      "Try using .loc[row_indexer,col_indexer] = value instead\n",
      "\n",
      "See the caveats in the documentation: https://pandas.pydata.org/pandas-docs/stable/user_guide/indexing.html#returning-a-view-versus-a-copy\n",
      "  super().__setitem__(key, value)\n",
      "/home/edgaregurrola/.cache/pypoetry/virtualenvs/aup-qDsIK5d5-py3.11/lib/python3.11/site-packages/geopandas/geodataframe.py:1819: SettingWithCopyWarning: \n",
      "A value is trying to be set on a copy of a slice from a DataFrame.\n",
      "Try using .loc[row_indexer,col_indexer] = value instead\n",
      "\n",
      "See the caveats in the documentation: https://pandas.pydata.org/pandas-docs/stable/user_guide/indexing.html#returning-a-view-versus-a-copy\n",
      "  super().__setitem__(key, value)\n",
      "/home/edgaregurrola/.cache/pypoetry/virtualenvs/aup-qDsIK5d5-py3.11/lib/python3.11/site-packages/geopandas/geodataframe.py:1819: SettingWithCopyWarning: \n",
      "A value is trying to be set on a copy of a slice from a DataFrame.\n",
      "Try using .loc[row_indexer,col_indexer] = value instead\n",
      "\n",
      "See the caveats in the documentation: https://pandas.pydata.org/pandas-docs/stable/user_guide/indexing.html#returning-a-view-versus-a-copy\n",
      "  super().__setitem__(key, value)\n",
      "/home/edgaregurrola/.cache/pypoetry/virtualenvs/aup-qDsIK5d5-py3.11/lib/python3.11/site-packages/geopandas/geodataframe.py:1819: SettingWithCopyWarning: \n",
      "A value is trying to be set on a copy of a slice from a DataFrame.\n",
      "Try using .loc[row_indexer,col_indexer] = value instead\n",
      "\n",
      "See the caveats in the documentation: https://pandas.pydata.org/pandas-docs/stable/user_guide/indexing.html#returning-a-view-versus-a-copy\n",
      "  super().__setitem__(key, value)\n",
      "/home/edgaregurrola/.cache/pypoetry/virtualenvs/aup-qDsIK5d5-py3.11/lib/python3.11/site-packages/geopandas/geodataframe.py:1819: SettingWithCopyWarning: \n",
      "A value is trying to be set on a copy of a slice from a DataFrame.\n",
      "Try using .loc[row_indexer,col_indexer] = value instead\n",
      "\n",
      "See the caveats in the documentation: https://pandas.pydata.org/pandas-docs/stable/user_guide/indexing.html#returning-a-view-versus-a-copy\n",
      "  super().__setitem__(key, value)\n"
     ]
    }
   ],
   "source": [
    "# 1.2 --------------- DOWNLOAD POINTS OF INTEREST (clues and sip pois, not denue)\n",
    "# ------------------- This step downloads SIP and CLUES points of interest (denue pois are downloaded later.)\n",
    "\n",
    "aoi = hex_prox[['hex_id_10','geometry']].copy()\n",
    "city = 'Guadalajara'\n",
    "\n",
    "sip_clues_gdf = gpd.GeoDataFrame()\n",
    "\n",
    "# CLUES (Salud)\n",
    "aup.log(f\"--- Downloading CLUES pois for {city}.\")\n",
    "# Download\n",
    "clues_gdf = aup.gdf_from_polygon(aoi, clues_schema, clues_table, geom_col=\"geometry\")\n",
    "# Filter\n",
    "clues_pois = clues_gdf.loc[clues_gdf['nivel_atencion'] == 'PRIMER NIVEL'].copy()\n",
    "del clues_gdf\n",
    "# Format\n",
    "clues_pois.loc[:,'code'] = 8610\n",
    "clues_pois = clues_pois[['code','geometry']]\n",
    "# Save to pois_tmp\n",
    "sip_clues_gdf = pd.concat([sip_clues_gdf,clues_pois])\n",
    "del clues_pois\n",
    "\n",
    "# SIP (Marco geoestadistico)\n",
    "# Download\n",
    "sip_gdf = aup.gdf_from_polygon(aoi, sip_schema, sip_table, geom_col=\"geometry\")\n",
    "sip_amenities = {'GEOGRAFICO':['Mercado','Plaza'], \n",
    "                 'TIPO':['Cancha','Unidad Deportiva','Áreas Verdes','Jardín','Parque']}\n",
    "# Filter - SIP pois of interest\n",
    "sip_amenities_codes = {'Mercado':4721, #sip_mercado\n",
    "                       'Cancha':93110, #sip_cancha\n",
    "                       'Unidad Deportiva':93111, #sip_unidad_deportiva \n",
    "                       'Áreas Verdes':9321, #sip_espacio_publico \n",
    "                       'Jardín':9321, #sip_espacio_publico\n",
    "                       'Parque':9321, #sip_espacio_publico\n",
    "                       'Plaza':9321 #sip_espacio_publico\n",
    "                        }\n",
    "# Filter - Iterate over sip_amenities and filter sip gdf\n",
    "sip_pois = gpd.GeoDataFrame()\n",
    "for col in sip_amenities:\n",
    "    for amenity in sip_amenities[col]:\n",
    "        sip_tmp = sip_gdf.loc[sip_gdf[col] == amenity]\n",
    "        sip_tmp.loc[:,'code'] = sip_amenities_codes[amenity]\n",
    "        sip_pois = pd.concat([sip_pois,sip_tmp])\n",
    "del sip_gdf\n",
    "# Format\n",
    "sip_pois = sip_pois[['code','geometry']]\n",
    "# Save to pois_tmp\n",
    "sip_clues_gdf = pd.concat([sip_clues_gdf,sip_pois])\n",
    "del sip_pois"
   ]
  },
  {
   "cell_type": "code",
   "execution_count": 10,
   "id": "7f0ab701-17bc-46f4-87c8-ffe6e3dc28b3",
   "metadata": {},
   "outputs": [
    {
     "name": "stdout",
     "output_type": "stream",
     "text": [
      "---Analysing source denue_guarderias.\n",
      "--- Downloading denue source pois code 624411 from db.\n",
      "--- Downloading denue source pois code 624412 from db.\n",
      "--- 427 denue_guarderias pois. Analysing source pois proximity to nodes.\n",
      "---Analysing source denue_preescolar.\n",
      "--- Downloading denue source pois code 611111 from db.\n",
      "--- Downloading denue source pois code 611112 from db.\n",
      "--- 1669 denue_preescolar pois. Analysing source pois proximity to nodes.\n",
      "---Analysing source denue_primaria.\n",
      "--- Downloading denue source pois code 611121 from db.\n",
      "--- Downloading denue source pois code 611122 from db.\n",
      "--- 1482 denue_primaria pois. Analysing source pois proximity to nodes.\n",
      "---Analysing source denue_secundaria.\n",
      "--- Downloading denue source pois code 611131 from db.\n",
      "--- Downloading denue source pois code 611132 from db.\n",
      "--- 244 denue_secundaria pois. Analysing source pois proximity to nodes.\n",
      "---Analysing source clues_primer_nivel.\n",
      "--- Getting clues/sip source pois code 8610 from previously downloaded.\n",
      "--- 700 clues_primer_nivel pois. Analysing source pois proximity to nodes.\n",
      "---Analysing source denue_farmacias.\n",
      "--- Downloading denue source pois code 474111 from db.\n",
      "--- Downloading denue source pois code 464112 from db.\n",
      "--- 612 denue_farmacias pois. Analysing source pois proximity to nodes.\n",
      "---SKIPPING odc_parques.\n",
      "---Analysing source sip_cancha.\n",
      "--- Getting clues/sip source pois code 93110 from previously downloaded.\n",
      "--- 220 sip_cancha pois. Analysing source pois proximity to nodes.\n",
      "---Analysing source sip_unidad_deportiva.\n",
      "--- Getting clues/sip source pois code 93111 from previously downloaded.\n",
      "--- 67 sip_unidad_deportiva pois. Analysing source pois proximity to nodes.\n",
      "---Analysing source denue_cines.\n",
      "--- Downloading denue source pois code 512130 from db.\n",
      "--- 53 denue_cines pois. Analysing source pois proximity to nodes.\n",
      "---Analysing source denue_museos.\n",
      "--- Downloading denue source pois code 712111 from db.\n",
      "--- Downloading denue source pois code 712112 from db.\n",
      "--- 47 denue_museos pois. Analysing source pois proximity to nodes.\n",
      "---Analysing source denue_bibliotecas.\n",
      "--- Downloading denue source pois code 519121 from db.\n",
      "--- Downloading denue source pois code 519122 from db.\n",
      "--- 77 denue_bibliotecas pois. Analysing source pois proximity to nodes.\n",
      "---Analysing source denue_bancos.\n",
      "--- Downloading denue source pois code 522110 from db.\n",
      "--- 2909 denue_bancos pois. Analysing source pois proximity to nodes.\n"
     ]
    }
   ],
   "source": [
    "####################################################################################################################################\n",
    "# ADAPTATION\n",
    "# Added option for source being odc (In order skip it since for parks it will be slightly different).\n",
    "# Removed 'version' from get_denue_pois\n",
    "# Output renamed (nodes_analysis_1), will be concatenated with nodes_analysis_2 (Greenspace analysis)\n",
    "####################################################################################################################################\n",
    "\n",
    "# 1.3a --------------- ANALYSE POINTS OF INTEREST (If denue, downloads)\n",
    "# ------------------- This step analysis times (and count of pois at given time proximity if requested) using function aup.pois_time.\n",
    "\n",
    "poly_wkt = aoi.dissolve().geometry.to_wkt()[0]\n",
    "\n",
    "i = 0\n",
    "analysis_cols = []\n",
    "\n",
    "count_pois = (True,15)\n",
    "\n",
    "total_pois = {}\n",
    "\n",
    "for eje in parameters.keys():\n",
    "    for amenity in parameters[eje]:\n",
    "        for source in parameters[eje][amenity]:\n",
    "            if source[0] == 'o':\n",
    "                print(f\"---SKIPPING {source}.\")\n",
    "                continue\n",
    "            \n",
    "            print(f\"\"\"---Analysing source {source}.\"\"\")\n",
    "            \n",
    "            analysis_cols.append(source)\n",
    "            if count_pois[0]:\n",
    "                count_col = f'{source}_{count_pois[1]}min'\n",
    "                analysis_cols.append(count_col)\n",
    "            \n",
    "            # ANALYSIS - Select source points of interest\n",
    "            source_pois = gpd.GeoDataFrame()\n",
    "            for code in parameters[eje][amenity][source]:\n",
    "                #If source is denue:\n",
    "                if source[0] == 'd':\n",
    "                    print(f'--- Downloading denue source pois code {code} from db.')\n",
    "                    code_pois = get_denue_pois(denue_schema,denue_table,poly_wkt,code)\n",
    "                #If source is clues or sip:\n",
    "                elif source[0] == 'c' or source[0] == 's':\n",
    "                    print(f'--- Getting clues/sip source pois code {code} from previously downloaded.')\n",
    "                    code_pois = sip_clues_gdf.loc[sip_clues_gdf['code'] == code]\n",
    "                else:\n",
    "                    print(f'--- Error, check parameters dicctionary.')\n",
    "                    print(f'--- Sources must start with denue_, clues_, odc_ or sip_.')\n",
    "                    intended_crash\n",
    "                    \n",
    "                source_pois = pd.concat([source_pois,code_pois])\n",
    "\n",
    "            total_pois[count_col] = len(source_pois)\n",
    "\n",
    "            print(f\"--- {source_pois.shape[0]} {source} pois. Analysing source pois proximity to nodes.\")\n",
    "            "
   ]
  },
  {
   "cell_type": "code",
   "execution_count": 11,
   "id": "a3b2933e-9328-45ff-9d7b-1530070038e6",
   "metadata": {},
   "outputs": [
    {
     "data": {
      "text/plain": [
       "{'denue_guarderias_15min': 427,\n",
       " 'denue_preescolar_15min': 1669,\n",
       " 'denue_primaria_15min': 1482,\n",
       " 'denue_secundaria_15min': 244,\n",
       " 'clues_primer_nivel_15min': 700,\n",
       " 'denue_farmacias_15min': 612,\n",
       " 'sip_cancha_15min': 220,\n",
       " 'sip_unidad_deportiva_15min': 67,\n",
       " 'denue_cines_15min': 53,\n",
       " 'denue_museos_15min': 47,\n",
       " 'denue_bibliotecas_15min': 77,\n",
       " 'denue_bancos_15min': 2909}"
      ]
     },
     "execution_count": 11,
     "metadata": {},
     "output_type": "execute_result"
    }
   ],
   "source": [
    "total_pois"
   ]
  },
  {
   "cell_type": "code",
   "execution_count": 12,
   "id": "d3349442-f2dd-4e3f-b37d-8bb78b399635",
   "metadata": {},
   "outputs": [],
   "source": [
    "total_pois['odc_parques_15min'] = 2400"
   ]
  },
  {
   "cell_type": "code",
   "execution_count": 45,
   "id": "61827fd1-363d-4dd0-b61c-00162605bc6d",
   "metadata": {},
   "outputs": [],
   "source": [
    "definitions = {}\n",
    "for eje in parameters.keys():\n",
    "    # tmp_dicc is {amenity:[source_list]} for each eje\n",
    "    tmp_dicc = {}\n",
    "    for amenity in parameters[eje]:\n",
    "        items_lst = []\n",
    "        items = list(parameters[eje][amenity].items())\n",
    "        for item in items:\n",
    "            items_lst.append(item[0])\n",
    "        tmp_dicc[amenity] = items_lst\n",
    "    # Each eje gets assigned its own tmp_dicc\n",
    "    definitions[eje] = tmp_dicc"
   ]
  },
  {
   "cell_type": "code",
   "execution_count": 46,
   "id": "6be1aaf7-6b10-4208-a665-f79b7615ebec",
   "metadata": {},
   "outputs": [
    {
     "data": {
      "text/plain": [
       "{'Escuelas': {'Guarderias': ['denue_guarderias'],\n",
       "  'Preescolar': ['denue_preescolar'],\n",
       "  'Primaria': ['denue_primaria'],\n",
       "  'Secundaria': ['denue_secundaria']},\n",
       " 'Salud': {'Primer_nivel': ['clues_primer_nivel'],\n",
       "  'Farmacias': ['denue_farmacias']},\n",
       " 'Parques': {'Parques': ['odc_parques']},\n",
       " 'Equipamiento deportivo': {'Cancha': ['sip_cancha'],\n",
       "  'Unidad_deportiva': ['sip_unidad_deportiva']},\n",
       " 'Cultural': {'Cines': ['denue_cines'],\n",
       "  'Museos': ['denue_museos'],\n",
       "  'Bibliotecas': ['denue_bibliotecas']},\n",
       " 'Financiero': {'Bancos': ['denue_bancos']}}"
      ]
     },
     "execution_count": 46,
     "metadata": {},
     "output_type": "execute_result"
    }
   ],
   "source": [
    "definitions"
   ]
  },
  {
   "cell_type": "code",
   "execution_count": 47,
   "id": "b3ceb8f5-bcfd-4863-89a8-e1cbf2236277",
   "metadata": {},
   "outputs": [],
   "source": [
    "hex_wgt = hex_prox.copy()"
   ]
  },
  {
   "cell_type": "code",
   "execution_count": 48,
   "id": "ae473ac3-1536-42dd-9841-772e640cfdb6",
   "metadata": {},
   "outputs": [
    {
     "data": {
      "text/plain": [
       "'financiero_15min'"
      ]
     },
     "execution_count": 48,
     "metadata": {},
     "output_type": "execute_result"
    }
   ],
   "source": [
    "column_count_all = []\n",
    "# Go through each eje\n",
    "for eje in definitions.keys():\n",
    "    # Name of count eje\n",
    "    eje_count_colname = f'{eje}_{count_pois[1]}min'.lower()\n",
    "    # Append to lists\n",
    "    column_count_all.append(eje_count_colname)\n",
    "eje_count_colname"
   ]
  },
  {
   "cell_type": "code",
   "execution_count": 49,
   "id": "5f838253-46ac-46b7-a98b-fe12a9213d68",
   "metadata": {},
   "outputs": [
    {
     "data": {
      "text/plain": [
       "['denue_guarderias']"
      ]
     },
     "execution_count": 49,
     "metadata": {},
     "output_type": "execute_result"
    }
   ],
   "source": [
    "definitions['Escuelas']['Guarderias']"
   ]
  },
  {
   "cell_type": "code",
   "execution_count": 50,
   "id": "c8df6f6d-7bde-4bee-ac84-8d80acfceb85",
   "metadata": {},
   "outputs": [
    {
     "name": "stdout",
     "output_type": "stream",
     "text": [
      "(40964, 62)\n"
     ]
    },
    {
     "data": {
      "text/html": [
       "<div>\n",
       "<style scoped>\n",
       "    .dataframe tbody tr th:only-of-type {\n",
       "        vertical-align: middle;\n",
       "    }\n",
       "\n",
       "    .dataframe tbody tr th {\n",
       "        vertical-align: top;\n",
       "    }\n",
       "\n",
       "    .dataframe thead th {\n",
       "        text-align: right;\n",
       "    }\n",
       "</style>\n",
       "<table border=\"1\" class=\"dataframe\">\n",
       "  <thead>\n",
       "    <tr style=\"text-align: right;\">\n",
       "      <th></th>\n",
       "      <th>hex_id_10</th>\n",
       "      <th>geometry</th>\n",
       "      <th>CVEGEO</th>\n",
       "      <th>NOMGEO</th>\n",
       "      <th>city</th>\n",
       "      <th>type</th>\n",
       "      <th>time_guarderias</th>\n",
       "      <th>guarderias_15min</th>\n",
       "      <th>time_preescolar</th>\n",
       "      <th>preescolar_15min</th>\n",
       "      <th>...</th>\n",
       "      <th>wgt_parques_15min</th>\n",
       "      <th>wgt_cancha_15min</th>\n",
       "      <th>wgt_unidad_deportiva_15min</th>\n",
       "      <th>wgt_equipamiento deportivo_15min</th>\n",
       "      <th>wgt_cines_15min</th>\n",
       "      <th>wgt_museos_15min</th>\n",
       "      <th>wgt_bibliotecas_15min</th>\n",
       "      <th>wgt_cultural_15min</th>\n",
       "      <th>wgt_bancos_15min</th>\n",
       "      <th>wgt_financiero_15min</th>\n",
       "    </tr>\n",
       "  </thead>\n",
       "  <tbody>\n",
       "    <tr>\n",
       "      <th>0</th>\n",
       "      <td>8a498c864807fff</td>\n",
       "      <td>POLYGON ((-103.32803 20.76447, -103.32738 20.7...</td>\n",
       "      <td>14120</td>\n",
       "      <td>Zapopan</td>\n",
       "      <td>Guadalajara</td>\n",
       "      <td>urban</td>\n",
       "      <td>20.071257</td>\n",
       "      <td>0.0</td>\n",
       "      <td>5.336399</td>\n",
       "      <td>3.0</td>\n",
       "      <td>...</td>\n",
       "      <td>0.0</td>\n",
       "      <td>0.0</td>\n",
       "      <td>0.0</td>\n",
       "      <td>0.0</td>\n",
       "      <td>0.0</td>\n",
       "      <td>0.0</td>\n",
       "      <td>0.0</td>\n",
       "      <td>0.0</td>\n",
       "      <td>0.0</td>\n",
       "      <td>0.0</td>\n",
       "    </tr>\n",
       "    <tr>\n",
       "      <th>1</th>\n",
       "      <td>8a498c86480ffff</td>\n",
       "      <td>POLYGON ((-103.32883 20.76552, -103.32819 20.7...</td>\n",
       "      <td>14120</td>\n",
       "      <td>Zapopan</td>\n",
       "      <td>Guadalajara</td>\n",
       "      <td>urban</td>\n",
       "      <td>23.049120</td>\n",
       "      <td>0.0</td>\n",
       "      <td>4.056723</td>\n",
       "      <td>3.0</td>\n",
       "      <td>...</td>\n",
       "      <td>0.0</td>\n",
       "      <td>0.0</td>\n",
       "      <td>0.0</td>\n",
       "      <td>0.0</td>\n",
       "      <td>0.0</td>\n",
       "      <td>0.0</td>\n",
       "      <td>0.0</td>\n",
       "      <td>0.0</td>\n",
       "      <td>0.0</td>\n",
       "      <td>0.0</td>\n",
       "    </tr>\n",
       "  </tbody>\n",
       "</table>\n",
       "<p>2 rows × 62 columns</p>\n",
       "</div>"
      ],
      "text/plain": [
       "         hex_id_10                                           geometry CVEGEO  \\\n",
       "0  8a498c864807fff  POLYGON ((-103.32803 20.76447, -103.32738 20.7...  14120   \n",
       "1  8a498c86480ffff  POLYGON ((-103.32883 20.76552, -103.32819 20.7...  14120   \n",
       "\n",
       "    NOMGEO         city   type  time_guarderias  guarderias_15min  \\\n",
       "0  Zapopan  Guadalajara  urban        20.071257               0.0   \n",
       "1  Zapopan  Guadalajara  urban        23.049120               0.0   \n",
       "\n",
       "   time_preescolar  preescolar_15min  ...  wgt_parques_15min  \\\n",
       "0         5.336399               3.0  ...                0.0   \n",
       "1         4.056723               3.0  ...                0.0   \n",
       "\n",
       "   wgt_cancha_15min  wgt_unidad_deportiva_15min  \\\n",
       "0               0.0                         0.0   \n",
       "1               0.0                         0.0   \n",
       "\n",
       "   wgt_equipamiento deportivo_15min  wgt_cines_15min  wgt_museos_15min  \\\n",
       "0                               0.0              0.0               0.0   \n",
       "1                               0.0              0.0               0.0   \n",
       "\n",
       "   wgt_bibliotecas_15min  wgt_cultural_15min  wgt_bancos_15min  \\\n",
       "0                    0.0                 0.0               0.0   \n",
       "1                    0.0                 0.0               0.0   \n",
       "\n",
       "   wgt_financiero_15min  \n",
       "0                   0.0  \n",
       "1                   0.0  \n",
       "\n",
       "[2 rows x 62 columns]"
      ]
     },
     "execution_count": 50,
     "metadata": {},
     "output_type": "execute_result"
    }
   ],
   "source": [
    "\n",
    "# Go through each eje\n",
    "for eje in definitions.keys():\n",
    "    # Name of count eje\n",
    "    eje_count_colname = f'{eje}_{count_pois[1]}min'.lower()\n",
    "    # Append to lists\n",
    "    column_count_all.append(eje_count_colname)\n",
    "\n",
    "    # Go through eje's amenities\n",
    "    column_count_amenities = []\n",
    "    for amenity in definitions[eje]:\n",
    "        # Name of count amenity\n",
    "        amenity_count_colname = f'{amenity}_{count_pois[1]}min'.lower()\n",
    "        # Append to lists\n",
    "        column_count_all.append(amenity_count_colname)\n",
    "        column_count_amenities.append(amenity_count_colname)\n",
    "\n",
    "        # Gather amenities sources\n",
    "        # column_count_sources = [] # Just used for sum function, not added at final output\n",
    "        amenity_count = 0\n",
    "        eje_count = 0\n",
    "        for source in definitions[eje][amenity]:\n",
    "            # Add to sources list\n",
    "            amenity_count += total_pois[f'{source}_{count_pois[1]}min']\n",
    "            eje_count += total_pois[f'{source}_{count_pois[1]}min']\n",
    "        # Find sum of all sources found within given time of each node (For current amenity)\n",
    "        hex_wgt['wgt_'+amenity_count_colname] = hex_wgt[amenity_count_colname] / amenity_count\n",
    "\n",
    "    # Find sum of all sources found within given time of each node (For current eje)\n",
    "    hex_wgt['wgt_'+eje_count_colname] = hex_wgt[eje_count_colname] / eje_count\n",
    "\n",
    "print(hex_wgt.shape)\n",
    "hex_wgt.head(2)\n"
   ]
  },
  {
   "cell_type": "code",
   "execution_count": 53,
   "id": "ab026ec8-de25-4fdb-add3-e149b4c6d627",
   "metadata": {},
   "outputs": [
    {
     "data": {
      "text/plain": [
       "Index(['hex_id_10', 'geometry', 'CVEGEO', 'NOMGEO', 'city', 'type',\n",
       "       'time_guarderias', 'guarderias_15min', 'time_preescolar',\n",
       "       'preescolar_15min', 'time_primaria', 'primaria_15min',\n",
       "       'time_secundaria', 'secundaria_15min', 'time_primer_nivel',\n",
       "       'primer_nivel_15min', 'time_farmacias', 'farmacias_15min',\n",
       "       'time_cancha', 'cancha_15min', 'time_unidad_deportiva',\n",
       "       'unidad_deportiva_15min', 'time_cines', 'cines_15min', 'time_museos',\n",
       "       'museos_15min', 'time_bibliotecas', 'bibliotecas_15min', 'time_bancos',\n",
       "       'bancos_15min', 'x', 'y', 'time_parques', 'parques_15min',\n",
       "       'time_escuelas', 'escuelas_15min', 'time_salud', 'salud_15min',\n",
       "       'time_equipamiento deportivo', 'equipamiento deportivo_15min',\n",
       "       'time_cultural', 'cultural_15min', 'time_financiero',\n",
       "       'financiero_15min', 'wgt_guarderias_15min', 'wgt_preescolar_15min',\n",
       "       'wgt_primaria_15min', 'wgt_secundaria_15min', 'wgt_escuelas_15min',\n",
       "       'wgt_primer_nivel_15min', 'wgt_farmacias_15min', 'wgt_salud_15min',\n",
       "       'wgt_parques_15min', 'wgt_cancha_15min', 'wgt_unidad_deportiva_15min',\n",
       "       'wgt_equipamiento deportivo_15min', 'wgt_cines_15min',\n",
       "       'wgt_museos_15min', 'wgt_bibliotecas_15min', 'wgt_cultural_15min',\n",
       "       'wgt_bancos_15min', 'wgt_financiero_15min'],\n",
       "      dtype='object')"
      ]
     },
     "execution_count": 53,
     "metadata": {},
     "output_type": "execute_result"
    }
   ],
   "source": [
    "hex_wgt.columns"
   ]
  },
  {
   "cell_type": "code",
   "execution_count": null,
   "id": "14af0f12-28b5-4d57-b7f8-75d9d729e7b9",
   "metadata": {},
   "outputs": [],
   "source": [
    "parameters = {'Escuelas':{'Guarderias':{'denue_guarderias':[624411, 624412]},\n",
    "                          'Preescolar':{'denue_preescolar':[611111, 611112]},\n",
    "                          'Primaria':{'denue_primaria':[611121, 611122]},\n",
    "                          'Secundaria':{'denue_secundaria':[611131, 611132]}\n",
    "                         },\n",
    "              'Salud':{'Primer_nivel':{'clues_primer_nivel':[8610]},\n",
    "                       'Farmacias':{'denue_farmacias':[474111,464112]} ########## Volvo: 464111 Farmacias sin minisúper, 464112 Farmacias con minisúper\n",
    "                       },\n",
    "              'Parques':{'Parques':{'odc_parques':[9321]} ########## Volvo: AGREGAR DE BD, \n",
    "                                                          ########## Se le asignó el code 9321, correspondiente a 'Activities of amusement parks and theme parks'\n",
    "                                                          ########## Fuente del code elegido: International Standard Industrial Classification of all Economic Activities, Rev.4\n",
    "                                                          ########## https://unstats.un.org/unsd/publication/seriesm/seriesm_4rev4e.pdf\n",
    "                        },\n",
    "              'Equipamiento deportivo':{'Cancha':{'sip_cancha':[93110]},\n",
    "                                        'Unidad_deportiva':{'sip_unidad_deportiva':[93111]}\n",
    "                                       },\n",
    "              'Cultural':{'Cines':{'denue_cines':[512130]},\n",
    "                          'Museos':{'denue_museos':[712111, 712112]},\n",
    "                          'Bibliotecas':{'denue_bibliotecas':[519121,519122]}\n",
    "                         },\n",
    "              'Financiero':{'Bancos':{'denue_bancos':[522110]} #################################################### Volvo: 522110 Banca Múltiple (Bancos y cajeros)\n",
    "                           }\n",
    "             }"
   ]
  },
  {
   "cell_type": "code",
   "execution_count": 54,
   "id": "94c13430-23ce-4cdd-bf01-cea2dcae3475",
   "metadata": {},
   "outputs": [],
   "source": [
    "wgt_cat_list = ['wgt_escuelas_15min','wgt_salud_15min','wgt_parques_15min',\n",
    "               'wgt_equipamiento deportivo_15min','wgt_cultural_15min',\n",
    "               'wgt_financiero_15min']\n",
    "hex_wgt['wgt_proximity_15min'] = hex_wgt[wgt_cat_list].sum(axis=1)"
   ]
  },
  {
   "cell_type": "code",
   "execution_count": 55,
   "id": "8c2e7762-515b-4525-94d4-7b5a3bdea528",
   "metadata": {},
   "outputs": [
    {
     "data": {
      "text/plain": [
       "<Axes: >"
      ]
     },
     "execution_count": 55,
     "metadata": {},
     "output_type": "execute_result"
    },
    {
     "data": {
      "image/png": "[encoded data removed]",
      "text/plain": [
       "<Figure size 640x480 with 1 Axes>"
      ]
     },
     "metadata": {},
     "output_type": "display_data"
    }
   ],
   "source": [
    "hex_wgt.plot('wgt_proximity_15min')"
   ]
  },
  {
   "cell_type": "markdown",
   "id": "c7007984-a401-4f5a-8d3b-ed61a15b7d6e",
   "metadata": {},
   "source": [
    "## Upload data"
   ]
  },
  {
   "cell_type": "code",
   "execution_count": 56,
   "id": "4fe639ed-e116-473c-9885-fb63da24c9ed",
   "metadata": {},
   "outputs": [],
   "source": [
    "aup.gdf_to_db_slow(hex_wgt, 'volvo_wgtproxanalysis_2024_mza_hex10', 'projects_research', if_exists='replace')"
   ]
  },
  {
   "cell_type": "code",
   "execution_count": null,
   "id": "4033327e-fb0e-4956-9089-c6461c30c264",
   "metadata": {},
   "outputs": [],
   "source": []
  }
 ],
 "metadata": {
  "kernelspec": {
   "display_name": "Python 3 (ipykernel)",
   "language": "python",
   "name": "python3"
  },
  "language_info": {
   "codemirror_mode": {
    "name": "ipython",
    "version": 3
   },
   "file_extension": ".py",
   "mimetype": "text/x-python",
   "name": "python",
   "nbconvert_exporter": "python",
   "pygments_lexer": "ipython3",
   "version": "3.11.11"
  }
 },
 "nbformat": 4,
 "nbformat_minor": 5
}
