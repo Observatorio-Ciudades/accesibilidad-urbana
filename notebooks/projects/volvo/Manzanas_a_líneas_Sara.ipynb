{
 "cells": [
  {
   "cell_type": "code",
   "execution_count": 1,
   "id": "ffd93ab1-661a-4798-8148-c713fcb14eba",
   "metadata": {},
   "outputs": [
    {
     "ename": "ModuleNotFoundError",
     "evalue": "No module named 'aup'",
     "output_type": "error",
     "traceback": [
      "\u001b[0;31m---------------------------------------------------------------------------\u001b[0m",
      "\u001b[0;31mModuleNotFoundError\u001b[0m                       Traceback (most recent call last)",
      "Cell \u001b[0;32mIn[1], line 13\u001b[0m\n\u001b[1;32m     11\u001b[0m \u001b[38;5;28;01mif\u001b[39;00m module_path \u001b[38;5;129;01mnot\u001b[39;00m \u001b[38;5;129;01min\u001b[39;00m sys\u001b[38;5;241m.\u001b[39mpath:\n\u001b[1;32m     12\u001b[0m     sys\u001b[38;5;241m.\u001b[39mpath\u001b[38;5;241m.\u001b[39mappend(module_path)\n\u001b[0;32m---> 13\u001b[0m     \u001b[38;5;28;01mimport\u001b[39;00m \u001b[38;5;21;01maup\u001b[39;00m\n",
      "\u001b[0;31mModuleNotFoundError\u001b[0m: No module named 'aup'"
     ]
    }
   ],
   "source": [
    "import geopandas as gpd\n",
    "import pandas as pd\n",
    "import numpy as np\n",
    "\n",
    "import warnings\n",
    "warnings.simplefilter(action='ignore', category=FutureWarning)\n",
    "\n",
    "import os\n",
    "import sys\n",
    "module_path = os.path.abspath(os.path.join('../../'))\n",
    "if module_path not in sys.path:\n",
    "    sys.path.append(module_path)\n",
    "    import aup"
   ]
  },
  {
   "cell_type": "code",
   "execution_count": null,
   "id": "18d1aa58-2fb3-46c2-82c4-e556a27d3131",
   "metadata": {},
   "outputs": [],
   "source": [
    "pip install aup\n"
   ]
  },
  {
   "cell_type": "code",
   "execution_count": null,
   "id": "2a65b97e-597c-4428-939a-c1c92f64669c",
   "metadata": {},
   "outputs": [],
   "source": [
    "def main(city, save=False, local_save=True):\n",
    "    # Paso 1: Cargar y definir el área de interés (AOI) para la ciudad\n",
    "    aup.log(\"--- LOADING CITY POP DATA.\")\n",
    "    \n",
    "    city_gdf = metro_gdf.loc[metro_gdf.city == city]\n",
    "    city_gdf = city_gdf.set_crs(\"EPSG:4326\")  # Asegurar que la proyección inicial sea EPSG:4326 (lat/lon)\n",
    "    aoi = city_gdf.dissolve()\n",
    "\n",
    "    # Paso 2: Transformar el AOI a una proyección en metros para trabajar con los polígonos de Voronoi\n",
    "    target_crs = \"EPSG:6372\"  # CRS en metros, adecuado para México\n",
    "    aoi = aoi.to_crs(target_crs)\n",
    "    aup.log(f\"--- Area of Interest (AOI) proyectada a {target_crs}.\")\n",
    "\n",
    "    # Paso 3: Cargar y transformar polígonos de Voronoi y nodos a la proyección en metros\n",
    "    aup.log(\"--- Loading and transforming Voronoi polygons and nodes to meters.\")\n",
    "    voronoi_gdf = gpd.read_file('../../data/external/Guadalajara_script22_nodes.gpkg').to_crs(target_crs)\n",
    "    nodes_gdf = gpd.read_file('j/accesibilidad-urbana/data/external/Guadalajara_script22_voronoipolys.gpkg').to_crs(target_crs)\n",
    "\n",
    "    # Paso 4: Calcular el área de cada polígono de Voronoi\n",
    "    voronoi_gdf['area_m2'] = voronoi_gdf.geometry.area  # Calcula el área en metros cuadrados\n",
    "    aup.log(\"--- Área calculada para cada polígono de Voronoi en metros cuadrados.\")\n",
    "\n",
    "\n",
    "# Ejemplo de llamada a la función main\n",
    "main(\"Guadalajara\")\n"
   ]
  }
 ],
 "metadata": {
  "kernelspec": {
   "display_name": "GDS-10.0",
   "language": "python",
   "name": "gds"
  },
  "language_info": {
   "codemirror_mode": {
    "name": "ipython",
    "version": 3
   },
   "file_extension": ".py",
   "mimetype": "text/x-python",
   "name": "python",
   "nbconvert_exporter": "python",
   "pygments_lexer": "ipython3",
   "version": "3.9.18"
  }
 },
 "nbformat": 4,
 "nbformat_minor": 5
}
