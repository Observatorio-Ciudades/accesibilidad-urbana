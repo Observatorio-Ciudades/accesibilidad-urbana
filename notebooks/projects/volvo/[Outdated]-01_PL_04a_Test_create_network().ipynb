{
 "cells": [
  {
   "cell_type": "markdown",
   "id": "e4bd10c8-c576-4a3c-9d7a-db194c917691",
   "metadata": {},
   "source": [
    "# 01_PL_04a_test_create_network()"
   ]
  },
  {
   "cell_type": "markdown",
   "id": "9949ce2b-a50f-4388-b2d6-8fd638bfe463",
   "metadata": {},
   "source": [
    "__Notebook originaly in vref repository.__\n",
    "\n",
    "The notebook was used to check whether there's no changes on the input network when using function network_entities() [From VREF repository] vs using create_network() [From accesibilidad_urbana()]\n",
    "\n",
    "* __RESULT:__ No differences as long as \"remove_redundant_nodes()\" is not used in network_entities()\n",
    "* __NOTE: Result no longer applies as remove_redundant_nodes() and network_entities() functions were updated__"
   ]
  },
  {
   "cell_type": "markdown",
   "id": "ebef0b71-39e1-4963-bf2b-98bb74b3a095",
   "metadata": {},
   "source": [
    "## Import libraries"
   ]
  },
  {
   "cell_type": "code",
   "execution_count": 1,
   "id": "774f1e75-fd34-4d70-9211-5932152288c8",
   "metadata": {},
   "outputs": [],
   "source": [
    "first_folder_path = \"../\""
   ]
  },
  {
   "cell_type": "code",
   "execution_count": 2,
   "id": "37222e7d-f185-44e2-889e-f19ef20b049a",
   "metadata": {},
   "outputs": [],
   "source": [
    "import os\n",
    "import sys\n",
    "\n",
    "import pandas as pd\n",
    "import geopandas as gpd\n",
    "import osmnx as ox\n",
    "import numpy as np\n",
    "import zipfile\n",
    "import matplotlib.pyplot as plt\n",
    "import seaborn as sns\n",
    "\n",
    "# To create Point from coordinates\n",
    "from shapely import Point\n",
    "# For calculate distance between points\n",
    "import math\n",
    "# To know if it is a LineString or a MultiLineString, and create them\n",
    "from shapely.geometry import LineString, MultiLineString\n",
    "# To split a line using a point in that line\n",
    "from shapely.ops import split\n",
    "# To reverse a line's geometry (Check for duplicated edges)\n",
    "import shapely\n",
    "# Time processes\n",
    "import time\n",
    "\n",
    "import warnings\n",
    "warnings.simplefilter(action='ignore', category=FutureWarning)\n",
    "\n",
    "module_path = os.path.abspath(os.path.join(first_folder_path))\n",
    "if module_path not in sys.path:\n",
    "    sys.path.append(module_path)\n",
    "    import src\n",
    "else:\n",
    "    import src"
   ]
  },
  {
   "cell_type": "markdown",
   "id": "c8d4b080-f2ba-4004-b2d9-838b04fce16f",
   "metadata": {},
   "source": [
    "## Notebook config [Will use Tessellations only for this test]"
   ]
  },
  {
   "cell_type": "code",
   "execution_count": 3,
   "id": "be51def6-4022-42b4-a21f-856ffd8272d1",
   "metadata": {},
   "outputs": [
    {
     "name": "stdout",
     "output_type": "stream",
     "text": [
      "../data/output/shape/network_boeing/guadalajara/guadalajara_nodes.shp\n",
      "../data/output/shape/network_boeing/guadalajara/guadalajara_edges.shp\n",
      "../data/output/shape/network_tessellations/guadalajarapolys/nodes_guadalajarapolys_tessellation.gpkg\n",
      "../data/output/shape/network_tessellations/guadalajarapolys/edges_guadalajarapolys_tessellation.gpkg\n"
     ]
    }
   ],
   "source": [
    "# ----- ----- ----- Input (Accepts .zip files, must unzip in following cell) ----- ----- -----\n",
    "# Boeing input network - Specify nodes and edges files.\n",
    "boeing_nodes_dir = first_folder_path + \"data/output/shape/network_boeing/guadalajara/guadalajara_nodes.shp\"\n",
    "boeing_edges_dir = first_folder_path + \"data/output/shape/network_boeing/guadalajara/guadalajara_edges.shp\"\n",
    "# Tessellations input network - Specify nodes and edges files.\n",
    "tess_nodes_dir = first_folder_path+ \"data/output/shape/network_tessellations/guadalajarapolys/nodes_guadalajarapolys_tessellation.gpkg\"\n",
    "tess_edges_dir = first_folder_path+ \"data/output/shape/network_tessellations/guadalajarapolys/edges_guadalajarapolys_tessellation.gpkg\"\n",
    "#tess_nodes_dir = first_folder_path+ \"data/output/shape/network_tessellations/guadalajara/guadalajara_tessellations_nodes.shp\"\n",
    "#tess_edges_dir = first_folder_path+ \"data/output/shape/network_tessellations/guadalajara/guadalajara_tessellations_edges.zip\"\n",
    "\n",
    "\n",
    "# ----- ----- ----- Projection to be used when needed ----- ----- -----\n",
    "projected_crs = \"EPSG:32613\" #[ \"EPSG:32618\" Medellín, \"EPSG:32613\" Guadalajara]\n",
    "\n",
    "# ----- ----- ----- Output ----- ----- -----\n",
    "# Output dir - Specify where outputs will be saved\n",
    "output_dir = first_folder_path + \"data/output/shape/network_project_tests/guadalajarapolys/network_entities()/\"\n",
    "\n",
    "# Outputs to be saved - Specify which steps will be saved\n",
    "# PART 01 STEP 01 - Saves pre-formated Boeing nodes and edges [Base network], and tessellation nodes and edges [Complementary network]\n",
    "localsave_01_01 = True\n",
    "\n",
    "# Show dirs\n",
    "print(boeing_nodes_dir)\n",
    "print(boeing_edges_dir)\n",
    "print(tess_nodes_dir)\n",
    "print(tess_edges_dir)"
   ]
  },
  {
   "cell_type": "markdown",
   "id": "0f81ebb6-0959-4e5d-8a0c-580919c3d077",
   "metadata": {},
   "source": [
    "#### __Unzip files if necessary.__ (Was necessary for Guadalajara's tessellation edges due to size.)"
   ]
  },
  {
   "cell_type": "code",
   "execution_count": 4,
   "id": "0e0fce5c-2292-4e68-8d7a-f3ade4d93ce4",
   "metadata": {},
   "outputs": [],
   "source": [
    "a=\"\"\"\n",
    "# Input dir to be extracted\n",
    "input_dir = tess_edges_dir\n",
    "# Output location of extracted data (unzipped files)\n",
    "save_path = \"../data/output/shape/network_tessellations/guadalajara/\"\n",
    "# Extract .zip\n",
    "with zipfile.ZipFile(input_dir, \"r\") as zip_ref:\n",
    "    zip_ref.extractall(save_path)\n",
    "#\"\"\""
   ]
  },
  {
   "cell_type": "code",
   "execution_count": 5,
   "id": "ee9f1d28-4195-4cb4-a5a7-e5e38fcb2dce",
   "metadata": {},
   "outputs": [],
   "source": [
    "# Name of file to be looked for (input dir replacement)\n",
    "#tess_edges_dir = \"../data/output/shape/network_tessellations/guadalajara/guadalajara_tessellations_edges.shp\""
   ]
  },
  {
   "cell_type": "markdown",
   "id": "e57c0165-50cf-418c-8204-28a3a731c4a4",
   "metadata": {},
   "source": [
    "## Functions"
   ]
  },
  {
   "cell_type": "markdown",
   "id": "4d8e1f1d-448d-4093-9f2a-95354d658a59",
   "metadata": {},
   "source": [
    "### __Functions -__ Common functions"
   ]
  },
  {
   "cell_type": "code",
   "execution_count": 6,
   "id": "a236ea89-7aaf-478c-867d-729e0b4d1525",
   "metadata": {},
   "outputs": [],
   "source": [
    "def produce_osmid(nodes_network_1, nodes_network_2, previously_produced):\n",
    "    \n",
    "    stop = False\n",
    "    produced_osmid = previously_produced\n",
    "    \n",
    "    while stop == False:\n",
    "\n",
    "        # Evaluate if fabricated_osmid exists in any network\n",
    "        if (produced_osmid in list(nodes_network_1.osmid.unique())) or (produced_osmid in list(nodes_network_2.osmid.unique())):\n",
    "            # Try the next one\n",
    "            produced_osmid +=1\n",
    "            \n",
    "        else:\n",
    "            # Reached an unique fabricated_osmid\n",
    "            stop = True\n",
    "            return produced_osmid"
   ]
  },
  {
   "cell_type": "code",
   "execution_count": 7,
   "id": "7dbb349c-29a5-4857-84d1-1350127281e6",
   "metadata": {},
   "outputs": [],
   "source": [
    "# Distance between two points\n",
    "def distance_between_points(point1, point2):\n",
    "    return round(math.sqrt((point1[0] - point2[0])**2 + (point1[1] - point2[1])**2), 2)"
   ]
  },
  {
   "cell_type": "markdown",
   "id": "d023715d-84c3-48dd-8727-70b8614989cd",
   "metadata": {},
   "source": [
    "## __Part 01 - Step 00__ - Load and preprocess networks"
   ]
  },
  {
   "cell_type": "markdown",
   "id": "7b759bd1-cb0c-4ceb-b725-5d30ed8177db",
   "metadata": {},
   "source": [
    "This step __loads input networks__ (Boeing nodes and edges, Tessellations nodes and edges) __and transforms their ID data (nodes 'osmid', edges 'u' and 'v') into coordinates__ using function src.create_network(). Inside that function a modification was made so that a unique key is assigned to each edge, starting from 0 and increasing by one each time an edge with the same 'u' and 'v' is found.\n",
    "\n",
    "The resulting networks id data (nodes 'osmid', edges 'u' and 'v') are then modified again to __ensure that there are no duplicates in those columns__, even after concatenating both nodes gdfs and both edges gdfs."
   ]
  },
  {
   "cell_type": "markdown",
   "id": "c07e9fcc-a5f9-45e9-a460-ae4a09db03a7",
   "metadata": {},
   "source": [
    "### __Input data__ - Boeing network"
   ]
  },
  {
   "cell_type": "code",
   "execution_count": 22,
   "id": "ec4bfc8f-9d85-492c-ab2a-e2a192f5632a",
   "metadata": {},
   "outputs": [
    {
     "name": "stdout",
     "output_type": "stream",
     "text": [
      "['ID', 'coord_X', 'coord_Y', 'coord_Z', 'Type', 'geometry']\n",
      "EPSG:32613\n",
      "(82691, 2)\n"
     ]
    },
    {
     "data": {
      "text/html": [
       "<div>\n",
       "<style scoped>\n",
       "    .dataframe tbody tr th:only-of-type {\n",
       "        vertical-align: middle;\n",
       "    }\n",
       "\n",
       "    .dataframe tbody tr th {\n",
       "        vertical-align: top;\n",
       "    }\n",
       "\n",
       "    .dataframe thead th {\n",
       "        text-align: right;\n",
       "    }\n",
       "</style>\n",
       "<table border=\"1\" class=\"dataframe\">\n",
       "  <thead>\n",
       "    <tr style=\"text-align: right;\">\n",
       "      <th></th>\n",
       "      <th>osmid</th>\n",
       "      <th>geometry</th>\n",
       "    </tr>\n",
       "  </thead>\n",
       "  <tbody>\n",
       "    <tr>\n",
       "      <th>0</th>\n",
       "      <td>28751344</td>\n",
       "      <td>POINT (676378.709 2291144.858)</td>\n",
       "    </tr>\n",
       "    <tr>\n",
       "      <th>1</th>\n",
       "      <td>28753224</td>\n",
       "      <td>POINT (675314.534 2289928.819)</td>\n",
       "    </tr>\n",
       "  </tbody>\n",
       "</table>\n",
       "</div>"
      ],
      "text/plain": [
       "      osmid                        geometry\n",
       "0  28751344  POINT (676378.709 2291144.858)\n",
       "1  28753224  POINT (675314.534 2289928.819)"
      ]
     },
     "execution_count": 22,
     "metadata": {},
     "output_type": "execute_result"
    }
   ],
   "source": [
    "# Load nodes data\n",
    "boeing_nodes = gpd.read_file(boeing_nodes_dir)\n",
    "\n",
    "# Set CRS\n",
    "if boeing_nodes.crs != projected_crs:\n",
    "    try:\n",
    "        boeing_nodes = boeing_nodes.set_crs(projected_crs)\n",
    "    except:\n",
    "        boeing_nodes = boeing_nodes.to_crs(projected_crs)\n",
    "\n",
    "# Filter and rename data\n",
    "print(list(boeing_nodes.columns))\n",
    "boeing_nodes.reset_index(inplace=True)\n",
    "boeing_nodes = boeing_nodes[['ID','geometry']]\n",
    "boeing_nodes.rename(columns={'ID':'osmid'},inplace=True)\n",
    "\n",
    "# Show\n",
    "print(boeing_nodes.crs)\n",
    "print(boeing_nodes.shape)\n",
    "boeing_nodes.head(2)"
   ]
  },
  {
   "cell_type": "code",
   "execution_count": 23,
   "id": "fd86d1a3-b5e0-40a3-becc-ae1196db958e",
   "metadata": {},
   "outputs": [
    {
     "name": "stdout",
     "output_type": "stream",
     "text": [
      "['ID', 'from', 'to', 'length', 'grade_abs', 'speed', 'time', 'Type', 'geometry']\n",
      "EPSG:32613\n",
      "(122381, 4)\n"
     ]
    },
    {
     "data": {
      "text/html": [
       "<div>\n",
       "<style scoped>\n",
       "    .dataframe tbody tr th:only-of-type {\n",
       "        vertical-align: middle;\n",
       "    }\n",
       "\n",
       "    .dataframe tbody tr th {\n",
       "        vertical-align: top;\n",
       "    }\n",
       "\n",
       "    .dataframe thead th {\n",
       "        text-align: right;\n",
       "    }\n",
       "</style>\n",
       "<table border=\"1\" class=\"dataframe\">\n",
       "  <thead>\n",
       "    <tr style=\"text-align: right;\">\n",
       "      <th></th>\n",
       "      <th>u</th>\n",
       "      <th>v</th>\n",
       "      <th>key</th>\n",
       "      <th>geometry</th>\n",
       "    </tr>\n",
       "  </thead>\n",
       "  <tbody>\n",
       "    <tr>\n",
       "      <th>0</th>\n",
       "      <td>28751344</td>\n",
       "      <td>1610958191</td>\n",
       "      <td>0</td>\n",
       "      <td>LINESTRING (676378.709 2291144.858, 676386.243...</td>\n",
       "    </tr>\n",
       "    <tr>\n",
       "      <th>1</th>\n",
       "      <td>28757777</td>\n",
       "      <td>28751344</td>\n",
       "      <td>0</td>\n",
       "      <td>LINESTRING (676328.534 2290984.966, 676375.494...</td>\n",
       "    </tr>\n",
       "  </tbody>\n",
       "</table>\n",
       "</div>"
      ],
      "text/plain": [
       "          u           v  key  \\\n",
       "0  28751344  1610958191    0   \n",
       "1  28757777    28751344    0   \n",
       "\n",
       "                                            geometry  \n",
       "0  LINESTRING (676378.709 2291144.858, 676386.243...  \n",
       "1  LINESTRING (676328.534 2290984.966, 676375.494...  "
      ]
     },
     "execution_count": 23,
     "metadata": {},
     "output_type": "execute_result"
    }
   ],
   "source": [
    "# Load edges data\n",
    "boeing_edges = gpd.read_file(boeing_edges_dir)\n",
    "\n",
    "# Set CRS\n",
    "if boeing_edges.crs != projected_crs:\n",
    "    try:\n",
    "        boeing_edges = boeing_edges.set_crs(projected_crs)\n",
    "    except:\n",
    "        boeing_edges = boeing_edges.to_crs(projected_crs)\n",
    "\n",
    "# Filter and rename data\n",
    "print(list(boeing_edges.columns))\n",
    "boeing_edges.reset_index(inplace=True)\n",
    "boeing_edges['key'] = 0\n",
    "boeing_edges = boeing_edges[['from','to','key','geometry']]\n",
    "boeing_edges.rename(columns={'from':'u','to':'v'},inplace=True)\n",
    "\n",
    "# Show\n",
    "print(boeing_edges.crs)\n",
    "print(boeing_edges.shape)\n",
    "boeing_edges.head(2)"
   ]
  },
  {
   "cell_type": "code",
   "execution_count": 24,
   "id": "b8bfb739-bd80-4537-a5bc-ebf0e686a6ef",
   "metadata": {},
   "outputs": [
    {
     "name": "stdout",
     "output_type": "stream",
     "text": [
      "Creating unique ids for nodes based on coordinates...\n",
      "Creating unique ids for edges based on coordinates...\n",
      "Removing redundant nodes...\n",
      "Resolving indexes u, v, key...\n"
     ]
    }
   ],
   "source": [
    "# Transform Boeing nodes and edges ID data to coordinates\n",
    "boeing_coord_nodes, boeing_coord_edges = src.network_entities(boeing_nodes,boeing_edges,crs=projected_crs,expand_coords=(True,10))\n",
    "#boeing_coord_nodes, boeing_coord_edges = src.create_network(boeing_nodes,boeing_edges,projected_crs,expand_coords=True)\n",
    "boeing_coord_nodes.reset_index(inplace=True) #Added on 20250204 since function src.create_network was updated.\n",
    "boeing_coord_edges.reset_index(inplace=True) #Added on 20250204 since function src.create_network was updated.\n",
    "# Set projected crs\n",
    "boeing_coord_nodes = boeing_coord_nodes.to_crs(projected_crs)\n",
    "boeing_coord_edges = boeing_coord_edges.to_crs(projected_crs)"
   ]
  },
  {
   "cell_type": "code",
   "execution_count": 25,
   "id": "f6b57841-39e2-4ec1-b53c-6aeb042475e5",
   "metadata": {},
   "outputs": [
    {
     "name": "stdout",
     "output_type": "stream",
     "text": [
      "(82230, 5)\n",
      "EPSG:32613\n",
      "osmid              object\n",
      "geometry         geometry\n",
      "streets_count     float64\n",
      "x                 float64\n",
      "y                 float64\n",
      "dtype: object\n",
      "Duplicated osmids on nodes: 0.\n"
     ]
    },
    {
     "data": {
      "text/html": [
       "<div>\n",
       "<style scoped>\n",
       "    .dataframe tbody tr th:only-of-type {\n",
       "        vertical-align: middle;\n",
       "    }\n",
       "\n",
       "    .dataframe tbody tr th {\n",
       "        vertical-align: top;\n",
       "    }\n",
       "\n",
       "    .dataframe thead th {\n",
       "        text-align: right;\n",
       "    }\n",
       "</style>\n",
       "<table border=\"1\" class=\"dataframe\">\n",
       "  <thead>\n",
       "    <tr style=\"text-align: right;\">\n",
       "      <th></th>\n",
       "      <th>osmid</th>\n",
       "      <th>geometry</th>\n",
       "      <th>streets_count</th>\n",
       "      <th>x</th>\n",
       "      <th>y</th>\n",
       "    </tr>\n",
       "  </thead>\n",
       "  <tbody>\n",
       "    <tr>\n",
       "      <th>0</th>\n",
       "      <td>676378722911448</td>\n",
       "      <td>POINT (676378.709 2291144.858)</td>\n",
       "      <td>3.0</td>\n",
       "      <td>676378.709485</td>\n",
       "      <td>2.291145e+06</td>\n",
       "    </tr>\n",
       "    <tr>\n",
       "      <th>1</th>\n",
       "      <td>675314522899288</td>\n",
       "      <td>POINT (675314.534 2289928.819)</td>\n",
       "      <td>3.0</td>\n",
       "      <td>675314.533972</td>\n",
       "      <td>2.289929e+06</td>\n",
       "    </tr>\n",
       "  </tbody>\n",
       "</table>\n",
       "</div>"
      ],
      "text/plain": [
       "             osmid                        geometry  streets_count  \\\n",
       "0  676378722911448  POINT (676378.709 2291144.858)            3.0   \n",
       "1  675314522899288  POINT (675314.534 2289928.819)            3.0   \n",
       "\n",
       "               x             y  \n",
       "0  676378.709485  2.291145e+06  \n",
       "1  675314.533972  2.289929e+06  "
      ]
     },
     "execution_count": 25,
     "metadata": {},
     "output_type": "execute_result"
    }
   ],
   "source": [
    "duplicated_nodes_ids = len(boeing_coord_nodes.loc[boeing_coord_nodes.duplicated(subset=['osmid'])])\n",
    "\n",
    "if duplicated_nodes_ids>0:\n",
    "    print(\"\"\"Function src.create_network() created two nodes with the same osmid.\n",
    "    If src.create_network's argument \"expand_coords\" is set to False, try setting to True.\n",
    "    The problem is probably due to two nodes being one meter or less apart from each other.\n",
    "    These nodes are duplicated, and the edges comming out of each node are now assigned to an osmid with two nodes.\n",
    "    [expand_coords=True should solve the issue]\n",
    "    \"\"\")\n",
    "    intended_crash\n",
    "\n",
    "# Show\n",
    "print(boeing_coord_nodes.shape)\n",
    "print(boeing_coord_nodes.crs)\n",
    "print(boeing_coord_nodes.dtypes)\n",
    "print(f\"Duplicated osmids on nodes: {duplicated_nodes_ids}.\")\n",
    "boeing_coord_nodes.head(2)"
   ]
  },
  {
   "cell_type": "code",
   "execution_count": 26,
   "id": "55eb3c49-6d7d-4ca3-ba63-2ad707f73b67",
   "metadata": {},
   "outputs": [
    {
     "name": "stdout",
     "output_type": "stream",
     "text": [
      "(121920, 5)\n",
      "EPSG:32613\n",
      "u             object\n",
      "v             object\n",
      "key            int64\n",
      "geometry    geometry\n",
      "length       float64\n",
      "dtype: object\n",
      "Duplicated ids on edges: 0.\n"
     ]
    },
    {
     "data": {
      "text/html": [
       "<div>\n",
       "<style scoped>\n",
       "    .dataframe tbody tr th:only-of-type {\n",
       "        vertical-align: middle;\n",
       "    }\n",
       "\n",
       "    .dataframe tbody tr th {\n",
       "        vertical-align: top;\n",
       "    }\n",
       "\n",
       "    .dataframe thead th {\n",
       "        text-align: right;\n",
       "    }\n",
       "</style>\n",
       "<table border=\"1\" class=\"dataframe\">\n",
       "  <thead>\n",
       "    <tr style=\"text-align: right;\">\n",
       "      <th></th>\n",
       "      <th>u</th>\n",
       "      <th>v</th>\n",
       "      <th>key</th>\n",
       "      <th>geometry</th>\n",
       "      <th>length</th>\n",
       "    </tr>\n",
       "  </thead>\n",
       "  <tbody>\n",
       "    <tr>\n",
       "      <th>0</th>\n",
       "      <td>676378722911448</td>\n",
       "      <td>676400122911492</td>\n",
       "      <td>0</td>\n",
       "      <td>LINESTRING (676378.709 2291144.858, 676386.243...</td>\n",
       "      <td>22.844750</td>\n",
       "    </tr>\n",
       "    <tr>\n",
       "      <th>1</th>\n",
       "      <td>670238022722194</td>\n",
       "      <td>670224522721779</td>\n",
       "      <td>0</td>\n",
       "      <td>LINESTRING (670238.073 2272219.403, 670237.000...</td>\n",
       "      <td>43.566106</td>\n",
       "    </tr>\n",
       "  </tbody>\n",
       "</table>\n",
       "</div>"
      ],
      "text/plain": [
       "                 u                v  key  \\\n",
       "0  676378722911448  676400122911492    0   \n",
       "1  670238022722194  670224522721779    0   \n",
       "\n",
       "                                            geometry     length  \n",
       "0  LINESTRING (676378.709 2291144.858, 676386.243...  22.844750  \n",
       "1  LINESTRING (670238.073 2272219.403, 670237.000...  43.566106  "
      ]
     },
     "execution_count": 26,
     "metadata": {},
     "output_type": "execute_result"
    }
   ],
   "source": [
    "duplicated_edges_ids = len(boeing_coord_edges.loc[boeing_coord_edges.duplicated(subset=['u','v','key'],keep=False)])\n",
    "\n",
    "# Show\n",
    "print(boeing_coord_edges.shape)\n",
    "print(boeing_coord_edges.crs)\n",
    "print(boeing_coord_edges.dtypes)\n",
    "print(f\"Duplicated ids on edges: {duplicated_edges_ids}.\")\n",
    "boeing_coord_edges.head(2)"
   ]
  },
  {
   "cell_type": "markdown",
   "id": "c8c4bad4-ae19-40d9-972d-da4653b47420",
   "metadata": {
    "jp-MarkdownHeadingCollapsed": true
   },
   "source": [
    "### __Input data__ - Tessellations network"
   ]
  },
  {
   "cell_type": "code",
   "execution_count": 8,
   "id": "4ffe672d-f399-41d5-8050-ad847e8ddfd1",
   "metadata": {},
   "outputs": [
    {
     "name": "stdout",
     "output_type": "stream",
     "text": [
      "['osmid', 'streets_count', 'x', 'y', 'street_count', 'cluster', 'geometry']\n",
      "EPSG:32613\n",
      "(3436, 2)\n"
     ]
    },
    {
     "data": {
      "text/html": [
       "<div>\n",
       "<style scoped>\n",
       "    .dataframe tbody tr th:only-of-type {\n",
       "        vertical-align: middle;\n",
       "    }\n",
       "\n",
       "    .dataframe tbody tr th {\n",
       "        vertical-align: top;\n",
       "    }\n",
       "\n",
       "    .dataframe thead th {\n",
       "        text-align: right;\n",
       "    }\n",
       "</style>\n",
       "<table border=\"1\" class=\"dataframe\">\n",
       "  <thead>\n",
       "    <tr style=\"text-align: right;\">\n",
       "      <th></th>\n",
       "      <th>osmid</th>\n",
       "      <th>geometry</th>\n",
       "    </tr>\n",
       "  </thead>\n",
       "  <tbody>\n",
       "    <tr>\n",
       "      <th>0</th>\n",
       "      <td>65818714228266312</td>\n",
       "      <td>POINT (658187.146 2282663.122)</td>\n",
       "    </tr>\n",
       "    <tr>\n",
       "      <th>1</th>\n",
       "      <td>65849674228275352</td>\n",
       "      <td>POINT (658496.741 2282753.520)</td>\n",
       "    </tr>\n",
       "  </tbody>\n",
       "</table>\n",
       "</div>"
      ],
      "text/plain": [
       "               osmid                        geometry\n",
       "0  65818714228266312  POINT (658187.146 2282663.122)\n",
       "1  65849674228275352  POINT (658496.741 2282753.520)"
      ]
     },
     "execution_count": 8,
     "metadata": {},
     "output_type": "execute_result"
    }
   ],
   "source": [
    "# Load nodes data\n",
    "tess_nodes = gpd.read_file(tess_nodes_dir)\n",
    "\n",
    "# Set CRS\n",
    "if tess_nodes.crs != projected_crs:\n",
    "    try:\n",
    "        tess_nodes = tess_nodes.set_crs(projected_crs)\n",
    "    except:\n",
    "        tess_nodes = tess_nodes.to_crs(projected_crs)\n",
    "\n",
    "# Filter and rename data\n",
    "print(list(tess_nodes.columns))\n",
    "tess_nodes.reset_index(inplace=True)\n",
    "tess_nodes = tess_nodes[['osmid','geometry']]\n",
    "\n",
    "# Show\n",
    "print(tess_nodes.crs)\n",
    "print(tess_nodes.shape)\n",
    "tess_nodes.head(2)"
   ]
  },
  {
   "cell_type": "code",
   "execution_count": 9,
   "id": "095b1610-3e1b-4c68-94a1-fc73aa64cb6c",
   "metadata": {},
   "outputs": [
    {
     "name": "stdout",
     "output_type": "stream",
     "text": [
      "['u', 'v', 'key', 'length', 'geometry']\n",
      "EPSG:32613\n",
      "(5790, 4)\n"
     ]
    },
    {
     "data": {
      "text/html": [
       "<div>\n",
       "<style scoped>\n",
       "    .dataframe tbody tr th:only-of-type {\n",
       "        vertical-align: middle;\n",
       "    }\n",
       "\n",
       "    .dataframe tbody tr th {\n",
       "        vertical-align: top;\n",
       "    }\n",
       "\n",
       "    .dataframe thead th {\n",
       "        text-align: right;\n",
       "    }\n",
       "</style>\n",
       "<table border=\"1\" class=\"dataframe\">\n",
       "  <thead>\n",
       "    <tr style=\"text-align: right;\">\n",
       "      <th></th>\n",
       "      <th>u</th>\n",
       "      <th>v</th>\n",
       "      <th>key</th>\n",
       "      <th>geometry</th>\n",
       "    </tr>\n",
       "  </thead>\n",
       "  <tbody>\n",
       "    <tr>\n",
       "      <th>0</th>\n",
       "      <td>65818714228266312</td>\n",
       "      <td>65849674228275352</td>\n",
       "      <td>0</td>\n",
       "      <td>LINESTRING (658187.146 2282663.122, 658187.446...</td>\n",
       "    </tr>\n",
       "    <tr>\n",
       "      <th>1</th>\n",
       "      <td>65818714228266312</td>\n",
       "      <td>65825936228287343</td>\n",
       "      <td>0</td>\n",
       "      <td>LINESTRING (658187.146 2282663.122, 658158.022...</td>\n",
       "    </tr>\n",
       "  </tbody>\n",
       "</table>\n",
       "</div>"
      ],
      "text/plain": [
       "                   u                  v  key  \\\n",
       "0  65818714228266312  65849674228275352    0   \n",
       "1  65818714228266312  65825936228287343    0   \n",
       "\n",
       "                                            geometry  \n",
       "0  LINESTRING (658187.146 2282663.122, 658187.446...  \n",
       "1  LINESTRING (658187.146 2282663.122, 658158.022...  "
      ]
     },
     "execution_count": 9,
     "metadata": {},
     "output_type": "execute_result"
    }
   ],
   "source": [
    "# Load edges data\n",
    "tess_edges = gpd.read_file(tess_edges_dir)\n",
    "\n",
    "# Set CRS\n",
    "if tess_edges.crs != projected_crs:\n",
    "    try:\n",
    "        tess_edges = tess_edges.set_crs(projected_crs)\n",
    "    except:\n",
    "        tess_edges = tess_edges.to_crs(projected_crs)\n",
    "\n",
    "# Filter and rename data\n",
    "print(list(tess_edges.columns))\n",
    "tess_edges.reset_index(inplace=True)\n",
    "tess_edges = tess_edges[['u','v','key','geometry']]\n",
    "\n",
    "# Show\n",
    "print(tess_edges.crs)\n",
    "print(tess_edges.shape)\n",
    "tess_edges.head(2)"
   ]
  },
  {
   "cell_type": "code",
   "execution_count": 10,
   "id": "4371002e-7a52-43fc-bef2-907c7c1e9d5c",
   "metadata": {},
   "outputs": [
    {
     "name": "stdout",
     "output_type": "stream",
     "text": [
      "Creating unique ids for nodes based on coordinates...\n",
      "Creating unique ids for edges based on coordinates...\n",
      "Removing redundant nodes...\n",
      "Resolving indexes u, v, key...\n"
     ]
    }
   ],
   "source": [
    "# Transform Tessellations nodes and edges ID data to coordinates\n",
    "tess_coord_nodes, tess_coord_edges = src.network_entities(tess_nodes,tess_edges,crs=projected_crs,expand_coords=(True,10))\n",
    "#tess_coord_nodes, tess_coord_edges = src.create_network(tess_nodes,tess_edges,projected_crs,expand_coords=True)\n",
    "tess_coord_nodes.reset_index(inplace=True) #Added on 20250204 since function src.create_network was updated.\n",
    "tess_coord_edges.reset_index(inplace=True) #Added on 20250204 since function src.create_network was updated.\n",
    "# Set projected crs\n",
    "tess_coord_nodes = tess_coord_nodes.to_crs(projected_crs)\n",
    "tess_coord_edges = tess_coord_edges.to_crs(projected_crs)"
   ]
  },
  {
   "cell_type": "code",
   "execution_count": 11,
   "id": "a183baa9-6619-424c-bd4c-f771043d0ca7",
   "metadata": {},
   "outputs": [
    {
     "name": "stdout",
     "output_type": "stream",
     "text": [
      "(3432, 5)\n",
      "EPSG:32613\n",
      "osmid              object\n",
      "geometry         geometry\n",
      "streets_count     float64\n",
      "x                 float64\n",
      "y                 float64\n",
      "dtype: object\n",
      "Duplicated osmids on nodes: 0.\n"
     ]
    },
    {
     "data": {
      "text/html": [
       "<div>\n",
       "<style scoped>\n",
       "    .dataframe tbody tr th:only-of-type {\n",
       "        vertical-align: middle;\n",
       "    }\n",
       "\n",
       "    .dataframe tbody tr th {\n",
       "        vertical-align: top;\n",
       "    }\n",
       "\n",
       "    .dataframe thead th {\n",
       "        text-align: right;\n",
       "    }\n",
       "</style>\n",
       "<table border=\"1\" class=\"dataframe\">\n",
       "  <thead>\n",
       "    <tr style=\"text-align: right;\">\n",
       "      <th></th>\n",
       "      <th>osmid</th>\n",
       "      <th>geometry</th>\n",
       "      <th>streets_count</th>\n",
       "      <th>x</th>\n",
       "      <th>y</th>\n",
       "    </tr>\n",
       "  </thead>\n",
       "  <tbody>\n",
       "    <tr>\n",
       "      <th>0</th>\n",
       "      <td>658187122826631</td>\n",
       "      <td>POINT (658187.146 2282663.122)</td>\n",
       "      <td>3.0</td>\n",
       "      <td>658187.146120</td>\n",
       "      <td>2.282663e+06</td>\n",
       "    </tr>\n",
       "    <tr>\n",
       "      <th>1</th>\n",
       "      <td>658496722827535</td>\n",
       "      <td>POINT (658496.741 2282753.520)</td>\n",
       "      <td>3.0</td>\n",
       "      <td>658496.741134</td>\n",
       "      <td>2.282754e+06</td>\n",
       "    </tr>\n",
       "  </tbody>\n",
       "</table>\n",
       "</div>"
      ],
      "text/plain": [
       "             osmid                        geometry  streets_count  \\\n",
       "0  658187122826631  POINT (658187.146 2282663.122)            3.0   \n",
       "1  658496722827535  POINT (658496.741 2282753.520)            3.0   \n",
       "\n",
       "               x             y  \n",
       "0  658187.146120  2.282663e+06  \n",
       "1  658496.741134  2.282754e+06  "
      ]
     },
     "execution_count": 11,
     "metadata": {},
     "output_type": "execute_result"
    }
   ],
   "source": [
    "duplicated_nodes_ids = len(tess_coord_nodes.loc[tess_coord_nodes.duplicated(subset=['osmid'],keep=False)])\n",
    "\n",
    "if duplicated_nodes_ids>0:\n",
    "    print(\"\"\"Function src.create_network() created two nodes with the same osmid.\n",
    "    If src.create_network's argument \"expand_coords\" is set to False, try setting to True.\n",
    "    The problem is probably due to two nodes being one meter or less apart from each other.\n",
    "    These nodes are duplicated, and the edges comming out of each node are now assigned to an osmid with two nodes.\n",
    "    [expand_coords=True should solve the issue]\n",
    "    \"\"\")\n",
    "    intended_crash\n",
    "\n",
    "# Show\n",
    "print(tess_coord_nodes.shape)\n",
    "print(tess_coord_nodes.crs)\n",
    "print(tess_coord_nodes.dtypes)\n",
    "print(f\"Duplicated osmids on nodes: {duplicated_nodes_ids}.\")\n",
    "tess_coord_nodes.head(2)"
   ]
  },
  {
   "cell_type": "code",
   "execution_count": 12,
   "id": "0712fe3e-8d20-4128-9aac-a68bda717344",
   "metadata": {},
   "outputs": [
    {
     "name": "stdout",
     "output_type": "stream",
     "text": [
      "(5786, 5)\n",
      "EPSG:32613\n",
      "u             object\n",
      "v             object\n",
      "key            int64\n",
      "geometry    geometry\n",
      "length       float64\n",
      "dtype: object\n",
      "Duplicated ids on edges: 0.\n"
     ]
    },
    {
     "data": {
      "text/html": [
       "<div>\n",
       "<style scoped>\n",
       "    .dataframe tbody tr th:only-of-type {\n",
       "        vertical-align: middle;\n",
       "    }\n",
       "\n",
       "    .dataframe tbody tr th {\n",
       "        vertical-align: top;\n",
       "    }\n",
       "\n",
       "    .dataframe thead th {\n",
       "        text-align: right;\n",
       "    }\n",
       "</style>\n",
       "<table border=\"1\" class=\"dataframe\">\n",
       "  <thead>\n",
       "    <tr style=\"text-align: right;\">\n",
       "      <th></th>\n",
       "      <th>u</th>\n",
       "      <th>v</th>\n",
       "      <th>key</th>\n",
       "      <th>geometry</th>\n",
       "      <th>length</th>\n",
       "    </tr>\n",
       "  </thead>\n",
       "  <tbody>\n",
       "    <tr>\n",
       "      <th>0</th>\n",
       "      <td>658187122826631</td>\n",
       "      <td>658496722827535</td>\n",
       "      <td>0</td>\n",
       "      <td>LINESTRING (658187.146 2282663.122, 658187.446...</td>\n",
       "      <td>337.494653</td>\n",
       "    </tr>\n",
       "    <tr>\n",
       "      <th>1</th>\n",
       "      <td>661818822868621</td>\n",
       "      <td>661818822868621</td>\n",
       "      <td>0</td>\n",
       "      <td>LINESTRING (661818.822 2286862.149, 661825.049...</td>\n",
       "      <td>108.405303</td>\n",
       "    </tr>\n",
       "  </tbody>\n",
       "</table>\n",
       "</div>"
      ],
      "text/plain": [
       "                 u                v  key  \\\n",
       "0  658187122826631  658496722827535    0   \n",
       "1  661818822868621  661818822868621    0   \n",
       "\n",
       "                                            geometry      length  \n",
       "0  LINESTRING (658187.146 2282663.122, 658187.446...  337.494653  \n",
       "1  LINESTRING (661818.822 2286862.149, 661825.049...  108.405303  "
      ]
     },
     "execution_count": 12,
     "metadata": {},
     "output_type": "execute_result"
    }
   ],
   "source": [
    "duplicated_edges_ids = len(tess_coord_edges.loc[tess_coord_edges.duplicated(subset=['u','v','key'],keep=False)])\n",
    "\n",
    "# Show\n",
    "print(tess_coord_edges.shape)\n",
    "print(tess_coord_edges.crs)\n",
    "print(tess_coord_edges.dtypes)\n",
    "print(f\"Duplicated ids on edges: {duplicated_edges_ids}.\")\n",
    "tess_coord_edges.head(2)"
   ]
  },
  {
   "cell_type": "markdown",
   "id": "463adbe1-8688-4c3f-93b3-bf04c74431de",
   "metadata": {},
   "source": [
    "### __Input data__ - Save"
   ]
  },
  {
   "cell_type": "code",
   "execution_count": 45,
   "id": "d4d660d4-5ba3-4d55-917a-826c17161f7c",
   "metadata": {},
   "outputs": [],
   "source": [
    "if localsave_01_01:\n",
    "    boeing_coord_nodes.to_file(output_dir + \"boeing_nodes_entities_2.gpkg\")\n",
    "    boeing_coord_edges.to_file(output_dir + \"boeing_edges_entities_2.gpkg\")\n",
    "    #tess_coord_nodes.to_file(output_dir + \"tess_nodes_entities_2.gpkg\")\n",
    "    #tess_coord_edges.to_file(output_dir + \"tess_edges_entities_2.gpkg\")"
   ]
  },
  {
   "cell_type": "markdown",
   "id": "6403d478-4d0e-4512-9573-8353b67becbb",
   "metadata": {},
   "source": [
    "## Analysis"
   ]
  },
  {
   "cell_type": "code",
   "execution_count": 43,
   "id": "6bf47a9f-6f4f-4558-9ba2-b52d309d98c2",
   "metadata": {},
   "outputs": [],
   "source": [
    "network_being_analysed = 'boeing'"
   ]
  },
  {
   "cell_type": "markdown",
   "id": "30a00360-9fba-4823-9d75-be9ca02def29",
   "metadata": {},
   "source": [
    "### Analysis - Read data"
   ]
  },
  {
   "cell_type": "code",
   "execution_count": 46,
   "id": "d86efac4-99f2-409e-b8d8-9b759bc43737",
   "metadata": {},
   "outputs": [],
   "source": [
    "output_dir = first_folder_path + \"data/output/shape/network_project_tests/guadalajarapolys/old_create_network()/\"\n",
    "nodes_old = gpd.read_file(output_dir + f\"{network_being_analysed}_nodes_old.gpkg\")\n",
    "edges_old = gpd.read_file(output_dir + f\"{network_being_analysed}_edges_old.gpkg\")\n",
    "\n",
    "output_dir = first_folder_path + \"data/output/shape/network_project_tests/guadalajarapolys/new_create_network()/\"\n",
    "nodes_new = gpd.read_file(output_dir + f\"{network_being_analysed}_nodes_new.gpkg\")\n",
    "edges_new = gpd.read_file(output_dir + f\"{network_being_analysed}_edges_new.gpkg\")\n",
    "\n",
    "output_dir = first_folder_path + \"data/output/shape/network_project_tests/guadalajarapolys/network_entities()/\"\n",
    "nodes_entities = gpd.read_file(output_dir + f\"{network_being_analysed}_nodes_entities_2.gpkg\")\n",
    "edges_entities = gpd.read_file(output_dir + f\"{network_being_analysed}_edges_entities_2.gpkg\")"
   ]
  },
  {
   "cell_type": "code",
   "execution_count": 47,
   "id": "baa42ae6-03eb-4df2-b9d3-d0a1cc93395e",
   "metadata": {},
   "outputs": [],
   "source": [
    "nodes_entities['osmid'] = nodes_entities.osmid.astype(int)\n",
    "edges_entities['u'] = edges_entities.u.astype(int)\n",
    "edges_entities['v'] = edges_entities.v.astype(int)"
   ]
  },
  {
   "cell_type": "markdown",
   "id": "7e75ea85-8669-4a2d-acd1-c334055c647b",
   "metadata": {},
   "source": [
    "### Analysis - Compare size and dtypes of data"
   ]
  },
  {
   "cell_type": "code",
   "execution_count": 48,
   "id": "b7d8eb50-4f95-40b5-acff-36a0f1af357f",
   "metadata": {},
   "outputs": [
    {
     "name": "stdout",
     "output_type": "stream",
     "text": [
      "(82691, 2)\n",
      "EPSG:32613\n",
      "osmid          int64\n",
      "geometry    geometry\n",
      "dtype: object\n",
      "(82691, 4)\n",
      "EPSG:32613\n",
      "osmid          int64\n",
      "x            float64\n",
      "y            float64\n",
      "geometry    geometry\n",
      "dtype: object\n",
      "(82230, 5)\n",
      "EPSG:32613\n",
      "osmid               int64\n",
      "streets_count     float64\n",
      "x                 float64\n",
      "y                 float64\n",
      "geometry         geometry\n",
      "dtype: object\n"
     ]
    }
   ],
   "source": [
    "# Show\n",
    "print(nodes_old.shape)\n",
    "print(nodes_old.crs)\n",
    "print(nodes_old.dtypes)\n",
    "\n",
    "print(nodes_new.shape)\n",
    "print(nodes_new.crs)\n",
    "print(nodes_new.dtypes)\n",
    "\n",
    "print(nodes_entities.shape)\n",
    "print(nodes_entities.crs)\n",
    "print(nodes_entities.dtypes)"
   ]
  },
  {
   "cell_type": "code",
   "execution_count": 49,
   "id": "9c136568-3818-4994-ab3a-8c00151d0783",
   "metadata": {},
   "outputs": [
    {
     "name": "stdout",
     "output_type": "stream",
     "text": [
      "(122381, 5)\n",
      "EPSG:32613\n",
      "u              int64\n",
      "v              int64\n",
      "key            int64\n",
      "length       float64\n",
      "geometry    geometry\n",
      "dtype: object\n",
      "(122380, 5)\n",
      "EPSG:32613\n",
      "u              int64\n",
      "v              int64\n",
      "key            int64\n",
      "length       float64\n",
      "geometry    geometry\n",
      "dtype: object\n",
      "(121920, 5)\n",
      "EPSG:32613\n",
      "u              int64\n",
      "v              int64\n",
      "key            int64\n",
      "length       float64\n",
      "geometry    geometry\n",
      "dtype: object\n"
     ]
    }
   ],
   "source": [
    "# Show\n",
    "print(edges_old.shape)\n",
    "print(edges_old.crs)\n",
    "print(edges_old.dtypes)\n",
    "\n",
    "print(edges_new.shape)\n",
    "print(edges_new.crs)\n",
    "print(edges_new.dtypes)\n",
    "\n",
    "print(edges_entities.shape)\n",
    "print(edges_entities.crs)\n",
    "print(edges_entities.dtypes)"
   ]
  },
  {
   "cell_type": "markdown",
   "id": "58cb763f-b987-4b28-af87-a7ca9f0f30c8",
   "metadata": {},
   "source": [
    "### Analysis - Compare precense of unique IDs on data"
   ]
  },
  {
   "cell_type": "markdown",
   "id": "54395eaa-6a77-45eb-aeb0-c61177b20740",
   "metadata": {},
   "source": [
    "#### Nodes"
   ]
  },
  {
   "cell_type": "code",
   "execution_count": 50,
   "id": "b68e8f80-968b-4feb-bfe6-6b9d5e1d8a59",
   "metadata": {},
   "outputs": [
    {
     "name": "stdout",
     "output_type": "stream",
     "text": [
      "0\n",
      "461\n",
      "461\n"
     ]
    }
   ],
   "source": [
    "# Unique ID lists (osmid)\n",
    "old_osmids = list(nodes_old.osmid.unique())\n",
    "new_osmids = list(nodes_new.osmid.unique())\n",
    "entities_osmids = list(nodes_entities.osmid.unique())\n",
    "\n",
    "# Find if an osmid is present in one list but not in the other\n",
    "missing_osmids_1 = set(old_osmids) ^ set(new_osmids)\n",
    "missing_osmids_2 = set(old_osmids) ^ set(entities_osmids)\n",
    "missing_osmids_3 = set(new_osmids) ^ set(entities_osmids)\n",
    "\n",
    "# Show result\n",
    "print(len(missing_osmids_1))\n",
    "print(len(missing_osmids_2))\n",
    "print(len(missing_osmids_3))"
   ]
  },
  {
   "cell_type": "code",
   "execution_count": 51,
   "id": "403c7db5-2955-407b-9b66-c35084811c85",
   "metadata": {},
   "outputs": [
    {
     "name": "stdout",
     "output_type": "stream",
     "text": [
      "1\n",
      "1245\n",
      "1246\n"
     ]
    }
   ],
   "source": [
    "# Create unique edge_ids to compare\n",
    "edges_old = src.create_unique_edge_id(edges_old)\n",
    "edges_new = src.create_unique_edge_id(edges_new)\n",
    "edges_entities = src.create_unique_edge_id(edges_entities)\n",
    "\n",
    "# Unique ID lists\n",
    "old_edgeids = list(edges_old.edge_id.unique())\n",
    "new_edgeids = list(edges_new.edge_id.unique())\n",
    "entities_edgeids = list(edges_entities.edge_id.unique())\n",
    "\n",
    "# Find if an edge_id is present in one list but not in the other\n",
    "missing_edge_ids_1 = set(old_edgeids) ^ set(new_edgeids)\n",
    "missing_edge_ids_2 = set(old_edgeids) ^ set(entities_edgeids)\n",
    "missing_edge_ids_3 = set(new_edgeids) ^ set(entities_edgeids)\n",
    "\n",
    "print(len(missing_edge_ids_1))\n",
    "print(len(missing_edge_ids_2))\n",
    "print(len(missing_edge_ids_3))"
   ]
  },
  {
   "cell_type": "code",
   "execution_count": null,
   "id": "6354b831-aabd-4fb6-b516-d3d4ecdd6402",
   "metadata": {},
   "outputs": [],
   "source": []
  }
 ],
 "metadata": {
  "kernelspec": {
   "display_name": "Python 3 (ipykernel)",
   "language": "python",
   "name": "python3"
  },
  "language_info": {
   "codemirror_mode": {
    "name": "ipython",
    "version": 3
   },
   "file_extension": ".py",
   "mimetype": "text/x-python",
   "name": "python",
   "nbconvert_exporter": "python",
   "pygments_lexer": "ipython3",
   "version": "3.12.3"
  }
 },
 "nbformat": 4,
 "nbformat_minor": 5
}
