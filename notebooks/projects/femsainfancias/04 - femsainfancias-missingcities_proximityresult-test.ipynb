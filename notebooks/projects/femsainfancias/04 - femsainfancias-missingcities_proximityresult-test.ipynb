{
 "cells": [
  {
   "cell_type": "markdown",
   "id": "17f964f4-b15e-4ea3-a046-08154212a44a",
   "metadata": {},
   "source": [
    "# 04 - femsainfancias-missingcities_proximityresult-test"
   ]
  },
  {
   "cell_type": "markdown",
   "id": "b8324c25-5686-4e09-a5e1-2bc9dff67f06",
   "metadata": {},
   "source": [
    "This notebook __checks the results of running proximity analysis for San Cristobal de las Casas and Ixtapa__ (cities that were not included in INEGI's metropolis 2020 and were it was necessary to create/calculate:\n",
    "* Area of interest gdf (metro_gdf_2020 > femsainfancias_missingcities_metrogdf2020)\n",
    "* Hexgrid (hexgrid_{res}_city_2020 > femsainfancias_missingcities_hexgrid_{res})\n",
    "* nodes\n",
    "* edges, edges_elevation, edges_speed\n",
    "* pop data"
   ]
  },
  {
   "cell_type": "markdown",
   "id": "278139d2-83bd-4893-921e-75fe332b01fe",
   "metadata": {},
   "source": [
    "## Import libraries"
   ]
  },
  {
   "cell_type": "code",
   "execution_count": 1,
   "id": "4fcb6bbc-e9c9-4460-82e0-f8a10f2385cd",
   "metadata": {},
   "outputs": [],
   "source": [
    "import os\n",
    "import sys\n",
    "\n",
    "import pandas as pd\n",
    "import geopandas as gpd\n",
    "import osmnx as ox\n",
    "import numpy as np\n",
    "\n",
    "import matplotlib.pyplot as plt\n",
    "import seaborn as sns\n",
    "\n",
    "import warnings\n",
    "warnings.simplefilter(action='ignore', category=FutureWarning)\n",
    "\n",
    "module_path = os.path.abspath(os.path.join('../../../'))\n",
    "if module_path not in sys.path:\n",
    "    sys.path.append(module_path)\n",
    "    import aup"
   ]
  },
  {
   "cell_type": "markdown",
   "id": "c2ba56a9-177e-4949-9310-515a5bce9d95",
   "metadata": {},
   "source": [
    "## Load data"
   ]
  },
  {
   "cell_type": "code",
   "execution_count": 3,
   "id": "03b65b17-4b6a-4af6-a409-c3496461e44c",
   "metadata": {},
   "outputs": [],
   "source": [
    "city = 'San Cristobal'"
   ]
  },
  {
   "cell_type": "markdown",
   "id": "a9169415-dee7-4af3-b01b-4094d2910607",
   "metadata": {},
   "source": [
    "### Load data - Proximity in nodes"
   ]
  },
  {
   "cell_type": "code",
   "execution_count": 6,
   "id": "cc1b848e-404a-4234-9def-384b874c2591",
   "metadata": {},
   "outputs": [
    {
     "name": "stdout",
     "output_type": "stream",
     "text": [
      "(23598, 35)\n"
     ]
    },
    {
     "data": {
      "text/html": [
       "<div>\n",
       "<style scoped>\n",
       "    .dataframe tbody tr th:only-of-type {\n",
       "        vertical-align: middle;\n",
       "    }\n",
       "\n",
       "    .dataframe tbody tr th {\n",
       "        vertical-align: top;\n",
       "    }\n",
       "\n",
       "    .dataframe thead th {\n",
       "        text-align: right;\n",
       "    }\n",
       "</style>\n",
       "<table border=\"1\" class=\"dataframe\">\n",
       "  <thead>\n",
       "    <tr style=\"text-align: right;\">\n",
       "      <th></th>\n",
       "      <th>osmid</th>\n",
       "      <th>denue_preescolar</th>\n",
       "      <th>denue_primaria</th>\n",
       "      <th>denue_secundaria</th>\n",
       "      <th>clues_primer_nivel</th>\n",
       "      <th>denue_guarderias</th>\n",
       "      <th>denue_dif</th>\n",
       "      <th>denue_supermercado</th>\n",
       "      <th>denue_abarrotes</th>\n",
       "      <th>denue_carnicerias</th>\n",
       "      <th>...</th>\n",
       "      <th>sip_cancha</th>\n",
       "      <th>sip_unidad_deportiva</th>\n",
       "      <th>sip_espacio_publico</th>\n",
       "      <th>denue_parque_natural</th>\n",
       "      <th>denue_cines</th>\n",
       "      <th>denue_museos</th>\n",
       "      <th>x</th>\n",
       "      <th>y</th>\n",
       "      <th>geometry</th>\n",
       "      <th>city</th>\n",
       "    </tr>\n",
       "  </thead>\n",
       "  <tbody>\n",
       "    <tr>\n",
       "      <th>0</th>\n",
       "      <td>280081838</td>\n",
       "      <td>84.323597</td>\n",
       "      <td>84.323597</td>\n",
       "      <td>95.261398</td>\n",
       "      <td>52.415106</td>\n",
       "      <td>154.155705</td>\n",
       "      <td>153.278292</td>\n",
       "      <td>156.070318</td>\n",
       "      <td>67.918919</td>\n",
       "      <td>91.6138</td>\n",
       "      <td>...</td>\n",
       "      <td>200.235612</td>\n",
       "      <td>None</td>\n",
       "      <td>84.323597</td>\n",
       "      <td>232.237482</td>\n",
       "      <td>164.737353</td>\n",
       "      <td>177.992964</td>\n",
       "      <td>-92.711953</td>\n",
       "      <td>16.689179</td>\n",
       "      <td>POINT (-92.71195 16.68918)</td>\n",
       "      <td>San Cristobal</td>\n",
       "    </tr>\n",
       "  </tbody>\n",
       "</table>\n",
       "<p>1 rows × 35 columns</p>\n",
       "</div>"
      ],
      "text/plain": [
       "       osmid  denue_preescolar  denue_primaria  denue_secundaria   \n",
       "0  280081838         84.323597       84.323597         95.261398  \\\n",
       "\n",
       "   clues_primer_nivel  denue_guarderias   denue_dif  denue_supermercado   \n",
       "0           52.415106        154.155705  153.278292          156.070318  \\\n",
       "\n",
       "   denue_abarrotes  denue_carnicerias  ...  sip_cancha  sip_unidad_deportiva   \n",
       "0        67.918919            91.6138  ...  200.235612                  None  \\\n",
       "\n",
       "   sip_espacio_publico  denue_parque_natural  denue_cines  denue_museos   \n",
       "0            84.323597            232.237482   164.737353    177.992964  \\\n",
       "\n",
       "           x          y                    geometry           city  \n",
       "0 -92.711953  16.689179  POINT (-92.71195 16.68918)  San Cristobal  \n",
       "\n",
       "[1 rows x 35 columns]"
      ]
     },
     "execution_count": 6,
     "metadata": {},
     "output_type": "execute_result"
    }
   ],
   "source": [
    "# Nodes proximity\n",
    "proxnodes_schema = 'projects_research'\n",
    "proxnodes_table = 'femsainfancias_missingcities_proxnodes'\n",
    "\n",
    "query = f\"SELECT * FROM {proxnodes_schema}.{proxnodes_table} WHERE \\\"city\\\" LIKE \\'{city}\\'\"\n",
    "proxnodes_gdf = aup.gdf_from_query(query, geometry_col='geometry')\n",
    "proxnodes_gdf = proxnodes_gdf.set_crs(\"EPSG:4326\")\n",
    "\n",
    "# Show\n",
    "print(proxnodes_gdf.shape)\n",
    "proxnodes_gdf.head(1)"
   ]
  },
  {
   "cell_type": "code",
   "execution_count": null,
   "id": "5d20abd0-1058-41fe-9caf-7b9df24fe6ad",
   "metadata": {},
   "outputs": [],
   "source": []
  }
 ],
 "metadata": {
  "kernelspec": {
   "display_name": "GDS-10.0",
   "language": "python",
   "name": "gds"
  },
  "language_info": {
   "codemirror_mode": {
    "name": "ipython",
    "version": 3
   },
   "file_extension": ".py",
   "mimetype": "text/x-python",
   "name": "python",
   "nbconvert_exporter": "python",
   "pygments_lexer": "ipython3",
   "version": "3.9.18"
  }
 },
 "nbformat": 4,
 "nbformat_minor": 5
}
