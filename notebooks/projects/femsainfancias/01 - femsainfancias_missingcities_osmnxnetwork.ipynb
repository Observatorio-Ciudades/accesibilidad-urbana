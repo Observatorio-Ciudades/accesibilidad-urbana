{
 "cells": [
  {
   "cell_type": "markdown",
   "id": "792082cf-f94e-4a2c-a1a3-efec3d8b97d6",
   "metadata": {},
   "source": [
    "# 01-femsainfancias_missingcities_osmnxnetwork"
   ]
  },
  {
   "cell_type": "markdown",
   "id": "634c0116-963f-4596-8c06-9661f25d2319",
   "metadata": {},
   "source": [
    "This notebook runs the missing cities of project femsainfancias, creates a Network (G,nodes,edges) for a bbox around the city and saves it to db."
   ]
  },
  {
   "cell_type": "markdown",
   "id": "54b6deaa-a730-4d38-ac3b-e75ad8a3d78b",
   "metadata": {},
   "source": [
    "## Import libraries"
   ]
  },
  {
   "cell_type": "code",
   "execution_count": 1,
   "id": "de71e742-8577-439e-8cbd-73822d13972d",
   "metadata": {},
   "outputs": [],
   "source": [
    "import os\n",
    "import sys\n",
    "\n",
    "import pandas as pd\n",
    "import geopandas as gpd\n",
    "import osmnx as ox\n",
    "import numpy as np\n",
    "\n",
    "import matplotlib.pyplot as plt\n",
    "import seaborn as sns\n",
    "\n",
    "import warnings\n",
    "warnings.simplefilter(action='ignore', category=FutureWarning)\n",
    "\n",
    "module_path = os.path.abspath(os.path.join('../../../'))\n",
    "if module_path not in sys.path:\n",
    "    sys.path.append(module_path)\n",
    "    import aup"
   ]
  },
  {
   "cell_type": "code",
   "execution_count": 3,
   "id": "179d4c22-c6b5-406f-bad4-14c571ffd651",
   "metadata": {},
   "outputs": [],
   "source": [
    "##### WARNING ##### WARNING ##### WARNING ##### WARNING ##### WARNING #####\n",
    "\n",
    "# save output to database?\n",
    "save = True\n",
    "\n",
    "##### WARNING ##### WARNING ##### WARNING ##### WARNING ##### WARNING #####"
   ]
  },
  {
   "cell_type": "markdown",
   "id": "17e29570-63d9-42da-b988-3b6ba5df2815",
   "metadata": {},
   "source": [
    "## Load cities"
   ]
  },
  {
   "cell_type": "code",
   "execution_count": 2,
   "id": "ae7a1e38-4f2c-4a80-abca-413450465819",
   "metadata": {},
   "outputs": [
    {
     "name": "stdout",
     "output_type": "stream",
     "text": [
      "(4, 6)\n",
      "2\n",
      "['Zihuatanejo', 'San Cristobal']\n"
     ]
    },
    {
     "data": {
      "text/html": [
       "<div>\n",
       "<style scoped>\n",
       "    .dataframe tbody tr th:only-of-type {\n",
       "        vertical-align: middle;\n",
       "    }\n",
       "\n",
       "    .dataframe tbody tr th {\n",
       "        vertical-align: top;\n",
       "    }\n",
       "\n",
       "    .dataframe thead th {\n",
       "        text-align: right;\n",
       "    }\n",
       "</style>\n",
       "<table border=\"1\" class=\"dataframe\">\n",
       "  <thead>\n",
       "    <tr style=\"text-align: right;\">\n",
       "      <th></th>\n",
       "      <th>CVEGEO</th>\n",
       "      <th>CVE_ENT</th>\n",
       "      <th>CVE_MUN</th>\n",
       "      <th>NOMGEO</th>\n",
       "      <th>city</th>\n",
       "      <th>geometry</th>\n",
       "    </tr>\n",
       "  </thead>\n",
       "  <tbody>\n",
       "    <tr>\n",
       "      <th>0</th>\n",
       "      <td>12038</td>\n",
       "      <td>12</td>\n",
       "      <td>038</td>\n",
       "      <td>Zihuatanejo de Azueta</td>\n",
       "      <td>Zihuatanejo</td>\n",
       "      <td>MULTIPOLYGON (((-101.65842 17.67894, -101.6580...</td>\n",
       "    </tr>\n",
       "  </tbody>\n",
       "</table>\n",
       "</div>"
      ],
      "text/plain": [
       "  CVEGEO CVE_ENT CVE_MUN                 NOMGEO         city   \n",
       "0  12038      12     038  Zihuatanejo de Azueta  Zihuatanejo  \\\n",
       "\n",
       "                                            geometry  \n",
       "0  MULTIPOLYGON (((-101.65842 17.67894, -101.6580...  "
      ]
     },
     "execution_count": 2,
     "metadata": {},
     "output_type": "execute_result"
    }
   ],
   "source": [
    "# gdf_mun\n",
    "metro_schema = 'projects_research'\n",
    "metro_table = 'femsainfancias_missingcities_metrogdf2020'\n",
    "\n",
    "query = f\"SELECT * FROM {metro_schema}.{metro_table}\"\n",
    "metro_gdf = aup.gdf_from_query(query, geometry_col='geometry')\n",
    "metro_gdf = metro_gdf.set_crs(\"EPSG:4326\")\n",
    "\n",
    "city_list = list(metro_gdf.city.unique())\n",
    "\n",
    "# Show\n",
    "print(metro_gdf.shape)\n",
    "print(len(city_list))\n",
    "print(city_list)\n",
    "metro_gdf.head(1)"
   ]
  },
  {
   "cell_type": "markdown",
   "id": "3bf2e232-07e1-4da4-9d9c-623436503037",
   "metadata": {},
   "source": [
    "## Run function create_osmnx_network for each city and save"
   ]
  },
  {
   "cell_type": "code",
   "execution_count": 4,
   "id": "32a0185c-16a8-47a0-b4db-362d3c30f3cb",
   "metadata": {},
   "outputs": [],
   "source": [
    "save_schema = 'projects_research'\n",
    "nodes_save_table = 'femsainfancia_missingcities_nodes'\n",
    "edges_save_table = 'femsainfancia_missingcities_edges'"
   ]
  },
  {
   "cell_type": "code",
   "execution_count": 9,
   "id": "753871ea-6d19-4c24-8895-28dce431a4ee",
   "metadata": {},
   "outputs": [
    {
     "name": "stdout",
     "output_type": "stream",
     "text": [
      "Already processed nodes for (0/2) cities.\n",
      "Missing nodes procesing for cities: ['Zihuatanejo', 'San Cristobal']\n",
      "Already processed nodes for (0/2) cities.\n",
      "Missing nodes procesing for cities: ['Zihuatanejo', 'San Cristobal']\n",
      "--------------------------------------------------------------------------------\n",
      "Starting city 1/2: Zihuatanejo\n",
      "Extracted min and max coordinates from the municipality. Polygon N:18.06141, S:17.55477, E-101.20053, W-101.71494.\n",
      "Created OSMnx graph from bounding box.\n",
      "Converted OSMnx graph to 10802 nodes and 26727 edges GeoDataFrame.\n",
      "Added column width for edges.\n",
      "Filtered columns.\n",
      "Column: osmid in nodes gdf, has a list in it, the column data was converted to string.\n",
      "Column: name in nodes gdf, has a list in it, the column data was converted to string.\n",
      "Column: highway in nodes gdf, has a list in it, the column data was converted to string.\n",
      "Uploading nodes for Zihuatanejo\n",
      "Uploading edges for Zihuatanejo\n",
      "--------------------------------------------------------------------------------\n",
      "Starting city 2/2: San Cristobal\n",
      "Extracted min and max coordinates from the municipality. Polygon N:16.89786, S:16.5389, E-92.33981, W-92.88112.\n",
      "Created OSMnx graph from bounding box.\n",
      "Converted OSMnx graph to 17816 nodes and 44811 edges GeoDataFrame.\n",
      "Added column junction for edges.\n",
      "Filtered columns.\n",
      "Column: osmid in nodes gdf, has a list in it, the column data was converted to string.\n",
      "Column: name in nodes gdf, has a list in it, the column data was converted to string.\n",
      "Column: highway in nodes gdf, has a list in it, the column data was converted to string.\n",
      "Column: maxspeed in nodes gdf, has a list in it, the column data was converted to string.\n",
      "Uploading nodes for San Cristobal\n",
      "Uploading edges for San Cristobal\n"
     ]
    }
   ],
   "source": [
    "k = len(city_list)\n",
    "\n",
    "# prevent cities being analyzed several times in case of a crash\n",
    "nodes_processed_city_list = []\n",
    "edges_processed_city_list = []\n",
    "\n",
    "try:\n",
    "    query = f\"SELECT city FROM {save_schema}.{nodes_save_table}\"\n",
    "    nodes_processed = aup.df_from_query(query)\n",
    "    nodes_processed_city_list = list(nodes_processed.city.unique())\n",
    "    \n",
    "    query = f\"SELECT city FROM {save_schema}.{edges_save_table}\"\n",
    "    edges_processed = aup.df_from_query(query)\n",
    "    edges_processed_city_list = list(edges_processed.city.unique())\n",
    "\n",
    "except:\n",
    "    pass\n",
    "\n",
    "# PRINT PROGRESS\n",
    "missing_cities_nodes = []\n",
    "for city in city_list:\n",
    "    if city not in nodes_processed_city_list:\n",
    "        missing_cities_nodes.append(city)\n",
    "\n",
    "i = len(nodes_processed_city_list)\n",
    "print(f'Already processed nodes for ({i}/{k}) cities.')\n",
    "print(f'Missing nodes procesing for cities: {missing_cities_nodes}')\n",
    "\n",
    "missing_cities_edges = []\n",
    "for city in city_list:\n",
    "    if city not in edges_processed_city_list:\n",
    "        missing_cities_edges.append(city)\n",
    "\n",
    "j = len(nodes_processed_city_list)\n",
    "print(f'Already processed nodes for ({i}/{k}) cities.')\n",
    "print(f'Missing nodes procesing for cities: {missing_cities_nodes}')    \n",
    "\n",
    "# SKIP FAILED CITIES\n",
    "skip_city_list = []\n",
    "\n",
    "# RUN ALL OTHER CITIES\n",
    "for city in city_list:\n",
    "    if city not in skip_city_list:\n",
    "        if (city not in nodes_processed_city_list) and (city not in edges_processed_city_list):\n",
    "            print(\"--\"*40)\n",
    "            i = i + 1\n",
    "            print(f\"Starting city {i}/{k}: {city}\")\n",
    "        \n",
    "            # Load area of interest\n",
    "            city_gdf = metro_gdf.loc[metro_gdf.city == city]\n",
    "            aoi = city_gdf.dissolve()\n",
    "            \n",
    "            # Create Network\n",
    "            G,nodes,edges = aup.create_osmnx_network(aoi, how='from_bbox', network_type='all_private')\n",
    "\n",
    "            nodes['city'] = city\n",
    "            edges['city'] = city\n",
    "        \n",
    "            # Save Network\n",
    "            if save:\n",
    "\n",
    "                # Resets index (allows delete duplicates in DBeaver using u, v, osmid)\n",
    "                nodes = nodes.reset_index()\n",
    "                edges = edges.reset_index()\n",
    "                \n",
    "                print(f\"Uploading nodes for {city}\")\n",
    "                aup.gdf_to_db_slow(nodes, nodes_save_table, save_schema, if_exists='append')\n",
    "                print(f\"Uploading edges for {city}\")\n",
    "                aup.gdf_to_db_slow(edges, edges_save_table, save_schema, if_exists='append')\n",
    "\n",
    "        else:\n",
    "            print(\"--\"*40)\n",
    "            print(f\"{city} already processed. ({i}/{k})\")\n",
    "            \n",
    "    else:\n",
    "        print(\"--\"*40)\n",
    "        print(f\"SKIPPED {city}\")"
   ]
  },
  {
   "cell_type": "code",
   "execution_count": null,
   "id": "b76c1f21-2e41-43f4-9fa1-053ba2593edf",
   "metadata": {},
   "outputs": [],
   "source": []
  }
 ],
 "metadata": {
  "kernelspec": {
   "display_name": "GDS-10.0",
   "language": "python",
   "name": "gds"
  },
  "language_info": {
   "codemirror_mode": {
    "name": "ipython",
    "version": 3
   },
   "file_extension": ".py",
   "mimetype": "text/x-python",
   "name": "python",
   "nbconvert_exporter": "python",
   "pygments_lexer": "ipython3",
   "version": "3.9.18"
  }
 },
 "nbformat": 4,
 "nbformat_minor": 5
}
