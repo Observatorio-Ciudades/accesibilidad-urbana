{
 "cells": [
  {
   "cell_type": "markdown",
   "id": "c238d309-95c3-4eb4-9cc3-4c48360a4cef",
   "metadata": {},
   "source": [
    "# 00 - femsainfancias_missingcities_metrogdf2020"
   ]
  },
  {
   "cell_type": "markdown",
   "id": "de19804e-7c86-4f44-b1af-43454e9cca13",
   "metadata": {},
   "source": [
    "This Notebook uploads to database a gdf containing the municipalities (with city col) of cities that were missing from previous proximity analysis (Since are not registered as Metropolitan Areas in Mexico) but were requested by client.\n",
    "\n",
    "Resulting layer (femsainfancias_missingcities_metrogdf2020) to be used in the Scripts that calculate proximity analysis (version 1).\n",
    "\n",
    "__Missing cities from proximity analysis: Ixtapa (Zihuatanejo), San Cristóbal de las Casas.__"
   ]
  },
  {
   "cell_type": "code",
   "execution_count": 1,
   "id": "da8e0e88-5348-451c-9934-704b0301737c",
   "metadata": {},
   "outputs": [],
   "source": [
    "import os\n",
    "import sys\n",
    "\n",
    "import pandas as pd\n",
    "import geopandas as gpd\n",
    "import osmnx as ox\n",
    "import numpy as np\n",
    "\n",
    "import matplotlib.pyplot as plt\n",
    "import seaborn as sns\n",
    "\n",
    "import warnings\n",
    "warnings.simplefilter(action='ignore', category=FutureWarning)\n",
    "\n",
    "module_path = os.path.abspath(os.path.join('../../../'))\n",
    "if module_path not in sys.path:\n",
    "    sys.path.append(module_path)\n",
    "    import aup"
   ]
  },
  {
   "cell_type": "code",
   "execution_count": 17,
   "id": "6b306b4e-7de1-44e1-bf62-0594bc745f48",
   "metadata": {},
   "outputs": [],
   "source": [
    "##### WARNING ##### WARNING ##### WARNING ##### WARNING ##### WARNING #####\n",
    "\n",
    "# save output to database?\n",
    "save = True\n",
    "\n",
    "##### WARNING ##### WARNING ##### WARNING ##### WARNING ##### WARNING #####"
   ]
  },
  {
   "cell_type": "markdown",
   "id": "7ab90bb0-453c-487e-89a1-a383aea32cdb",
   "metadata": {},
   "source": [
    "## Load municipalities"
   ]
  },
  {
   "cell_type": "markdown",
   "id": "2e7f9d8f-2d0e-4907-bf97-fc7bbb66a26b",
   "metadata": {
    "jp-MarkdownHeadingCollapsed": true
   },
   "source": [
    "### Load Ixtapa-Zihuatanejo"
   ]
  },
  {
   "cell_type": "markdown",
   "id": "fc9872e3-7786-4a06-97cd-08302dd07de5",
   "metadata": {},
   "source": [
    "#### Load mun gdf"
   ]
  },
  {
   "cell_type": "code",
   "execution_count": 4,
   "id": "374e768a-c41a-47ff-b581-bfdb79032650",
   "metadata": {},
   "outputs": [
    {
     "name": "stdout",
     "output_type": "stream",
     "text": [
      "(1, 5)\n"
     ]
    },
    {
     "data": {
      "text/html": [
       "<div>\n",
       "<style scoped>\n",
       "    .dataframe tbody tr th:only-of-type {\n",
       "        vertical-align: middle;\n",
       "    }\n",
       "\n",
       "    .dataframe tbody tr th {\n",
       "        vertical-align: top;\n",
       "    }\n",
       "\n",
       "    .dataframe thead th {\n",
       "        text-align: right;\n",
       "    }\n",
       "</style>\n",
       "<table border=\"1\" class=\"dataframe\">\n",
       "  <thead>\n",
       "    <tr style=\"text-align: right;\">\n",
       "      <th></th>\n",
       "      <th>CVEGEO</th>\n",
       "      <th>CVE_ENT</th>\n",
       "      <th>CVE_MUN</th>\n",
       "      <th>NOMGEO</th>\n",
       "      <th>geometry</th>\n",
       "    </tr>\n",
       "  </thead>\n",
       "  <tbody>\n",
       "    <tr>\n",
       "      <th>0</th>\n",
       "      <td>12038</td>\n",
       "      <td>12</td>\n",
       "      <td>038</td>\n",
       "      <td>Zihuatanejo de Azueta</td>\n",
       "      <td>MULTIPOLYGON (((-101.65842 17.67894, -101.6580...</td>\n",
       "    </tr>\n",
       "  </tbody>\n",
       "</table>\n",
       "</div>"
      ],
      "text/plain": [
       "  CVEGEO CVE_ENT CVE_MUN                 NOMGEO   \n",
       "0  12038      12     038  Zihuatanejo de Azueta  \\\n",
       "\n",
       "                                            geometry  \n",
       "0  MULTIPOLYGON (((-101.65842 17.67894, -101.6580...  "
      ]
     },
     "execution_count": 4,
     "metadata": {},
     "output_type": "execute_result"
    }
   ],
   "source": [
    "# Download area of interest\n",
    "mun_schema = 'marco'\n",
    "mun_table = 'mpos_2020'\n",
    "nomgeo = 'Zihuatanejo de Azueta'\n",
    "\n",
    "query = f\"SELECT * FROM {mun_schema}.{mun_table} WHERE \\\"NOMGEO\\\" LIKE \\'{nomgeo}\\'\"\n",
    "ixtapa_gdf = aup.gdf_from_query(query, geometry_col='geometry')\n",
    "ixtapa_gdf = ixtapa_gdf.set_crs(\"EPSG:4326\")\n",
    "\n",
    "# Show\n",
    "print(ixtapa_gdf.shape)\n",
    "ixtapa_gdf.head(1)"
   ]
  },
  {
   "cell_type": "code",
   "execution_count": 5,
   "id": "127d4ad2-6811-421e-902a-f6e0b8739163",
   "metadata": {},
   "outputs": [
    {
     "data": {
      "text/plain": [
       "<Axes: >"
      ]
     },
     "execution_count": 5,
     "metadata": {},
     "output_type": "execute_result"
    },
    {
     "data": {
      "image/png": "[encoded data removed]",
      "text/plain": [
       "<Figure size 640x480 with 1 Axes>"
      ]
     },
     "metadata": {},
     "output_type": "display_data"
    }
   ],
   "source": [
    "ixtapa_gdf.plot()"
   ]
  },
  {
   "cell_type": "markdown",
   "id": "07a43eb9-49e4-499a-a4fd-d31d499b8f49",
   "metadata": {},
   "source": [
    "#### Add city col"
   ]
  },
  {
   "cell_type": "code",
   "execution_count": 8,
   "id": "823104f3-bc40-499b-bb14-905ca8eda266",
   "metadata": {},
   "outputs": [
    {
     "name": "stdout",
     "output_type": "stream",
     "text": [
      "(1, 6)\n"
     ]
    },
    {
     "data": {
      "text/html": [
       "<div>\n",
       "<style scoped>\n",
       "    .dataframe tbody tr th:only-of-type {\n",
       "        vertical-align: middle;\n",
       "    }\n",
       "\n",
       "    .dataframe tbody tr th {\n",
       "        vertical-align: top;\n",
       "    }\n",
       "\n",
       "    .dataframe thead th {\n",
       "        text-align: right;\n",
       "    }\n",
       "</style>\n",
       "<table border=\"1\" class=\"dataframe\">\n",
       "  <thead>\n",
       "    <tr style=\"text-align: right;\">\n",
       "      <th></th>\n",
       "      <th>CVEGEO</th>\n",
       "      <th>CVE_ENT</th>\n",
       "      <th>CVE_MUN</th>\n",
       "      <th>NOMGEO</th>\n",
       "      <th>geometry</th>\n",
       "      <th>city</th>\n",
       "    </tr>\n",
       "  </thead>\n",
       "  <tbody>\n",
       "    <tr>\n",
       "      <th>0</th>\n",
       "      <td>12038</td>\n",
       "      <td>12</td>\n",
       "      <td>038</td>\n",
       "      <td>Zihuatanejo de Azueta</td>\n",
       "      <td>MULTIPOLYGON (((-101.65842 17.67894, -101.6580...</td>\n",
       "      <td>Zihuatanejo</td>\n",
       "    </tr>\n",
       "  </tbody>\n",
       "</table>\n",
       "</div>"
      ],
      "text/plain": [
       "  CVEGEO CVE_ENT CVE_MUN                 NOMGEO   \n",
       "0  12038      12     038  Zihuatanejo de Azueta  \\\n",
       "\n",
       "                                            geometry         city  \n",
       "0  MULTIPOLYGON (((-101.65842 17.67894, -101.6580...  Zihuatanejo  "
      ]
     },
     "execution_count": 8,
     "metadata": {},
     "output_type": "execute_result"
    }
   ],
   "source": [
    "ixtapa_gdf['city'] = 'Zihuatanejo'\n",
    "\n",
    "# Show\n",
    "print(ixtapa_gdf.shape)\n",
    "ixtapa_gdf.head(1)"
   ]
  },
  {
   "cell_type": "markdown",
   "id": "1844205b-517d-41cb-b1d3-d220815d20eb",
   "metadata": {
    "jp-MarkdownHeadingCollapsed": true
   },
   "source": [
    "### Load San Cristobal de las Casas"
   ]
  },
  {
   "cell_type": "code",
   "execution_count": 10,
   "id": "5c1dc740-763f-4451-8759-6a5db15de597",
   "metadata": {},
   "outputs": [
    {
     "name": "stdout",
     "output_type": "stream",
     "text": [
      "(3, 5)\n"
     ]
    },
    {
     "data": {
      "text/html": [
       "<div>\n",
       "<style scoped>\n",
       "    .dataframe tbody tr th:only-of-type {\n",
       "        vertical-align: middle;\n",
       "    }\n",
       "\n",
       "    .dataframe tbody tr th {\n",
       "        vertical-align: top;\n",
       "    }\n",
       "\n",
       "    .dataframe thead th {\n",
       "        text-align: right;\n",
       "    }\n",
       "</style>\n",
       "<table border=\"1\" class=\"dataframe\">\n",
       "  <thead>\n",
       "    <tr style=\"text-align: right;\">\n",
       "      <th></th>\n",
       "      <th>CVEGEO</th>\n",
       "      <th>CVE_ENT</th>\n",
       "      <th>CVE_MUN</th>\n",
       "      <th>NOMGEO</th>\n",
       "      <th>geometry</th>\n",
       "    </tr>\n",
       "  </thead>\n",
       "  <tbody>\n",
       "    <tr>\n",
       "      <th>0</th>\n",
       "      <td>07023</td>\n",
       "      <td>07</td>\n",
       "      <td>023</td>\n",
       "      <td>Chamula</td>\n",
       "      <td>POLYGON ((-92.69055 16.89591, -92.68747 16.889...</td>\n",
       "    </tr>\n",
       "    <tr>\n",
       "      <th>0</th>\n",
       "      <td>07111</td>\n",
       "      <td>07</td>\n",
       "      <td>111</td>\n",
       "      <td>Zinacantán</td>\n",
       "      <td>POLYGON ((-92.74253 16.77523, -92.74047 16.772...</td>\n",
       "    </tr>\n",
       "    <tr>\n",
       "      <th>0</th>\n",
       "      <td>07078</td>\n",
       "      <td>07</td>\n",
       "      <td>078</td>\n",
       "      <td>San Cristóbal de las Casas</td>\n",
       "      <td>MULTIPOLYGON (((-92.34427 16.57003, -92.34587 ...</td>\n",
       "    </tr>\n",
       "  </tbody>\n",
       "</table>\n",
       "</div>"
      ],
      "text/plain": [
       "  CVEGEO CVE_ENT CVE_MUN                      NOMGEO   \n",
       "0  07023      07     023                     Chamula  \\\n",
       "0  07111      07     111                  Zinacantán   \n",
       "0  07078      07     078  San Cristóbal de las Casas   \n",
       "\n",
       "                                            geometry  \n",
       "0  POLYGON ((-92.69055 16.89591, -92.68747 16.889...  \n",
       "0  POLYGON ((-92.74253 16.77523, -92.74047 16.772...  \n",
       "0  MULTIPOLYGON (((-92.34427 16.57003, -92.34587 ...  "
      ]
     },
     "execution_count": 10,
     "metadata": {},
     "output_type": "execute_result"
    }
   ],
   "source": [
    "# Download area of interest\n",
    "mun_schema = 'marco'\n",
    "mun_table = 'mpos_2020'\n",
    "nomgeos = ['Chamula','Zinacantán','San Cristóbal de las Casas']\n",
    "\n",
    "san_cristobal_gdf = gpd.GeoDataFrame()\n",
    "for nomgeo in nomgeos:\n",
    "    query = f\"SELECT * FROM {mun_schema}.{mun_table} WHERE \\\"NOMGEO\\\" LIKE \\'{nomgeo}\\'\"\n",
    "    mun_gdf = aup.gdf_from_query(query, geometry_col='geometry')\n",
    "    mun_gdf = mun_gdf.set_crs(\"EPSG:4326\")\n",
    "    san_cristobal_gdf = pd.concat([san_cristobal_gdf,mun_gdf])\n",
    "\n",
    "# Show\n",
    "print(san_cristobal_gdf.shape)\n",
    "san_cristobal_gdf.head(5)"
   ]
  },
  {
   "cell_type": "code",
   "execution_count": 11,
   "id": "fa1f45a4-6847-493d-a567-dcf3f84eb526",
   "metadata": {},
   "outputs": [
    {
     "data": {
      "text/plain": [
       "<Axes: >"
      ]
     },
     "execution_count": 11,
     "metadata": {},
     "output_type": "execute_result"
    },
    {
     "data": {
      "image/png": "[encoded data removed]",
      "text/plain": [
       "<Figure size 640x480 with 1 Axes>"
      ]
     },
     "metadata": {},
     "output_type": "display_data"
    }
   ],
   "source": [
    "san_cristobal_gdf.plot()"
   ]
  },
  {
   "cell_type": "markdown",
   "id": "f7748a03-3b10-4210-a6eb-36861025c62c",
   "metadata": {},
   "source": [
    "#### Add city col"
   ]
  },
  {
   "cell_type": "code",
   "execution_count": 12,
   "id": "8ffe40b6-fc7a-42cd-bcf8-41114a6c8a7e",
   "metadata": {},
   "outputs": [
    {
     "name": "stdout",
     "output_type": "stream",
     "text": [
      "(3, 6)\n"
     ]
    },
    {
     "data": {
      "text/html": [
       "<div>\n",
       "<style scoped>\n",
       "    .dataframe tbody tr th:only-of-type {\n",
       "        vertical-align: middle;\n",
       "    }\n",
       "\n",
       "    .dataframe tbody tr th {\n",
       "        vertical-align: top;\n",
       "    }\n",
       "\n",
       "    .dataframe thead th {\n",
       "        text-align: right;\n",
       "    }\n",
       "</style>\n",
       "<table border=\"1\" class=\"dataframe\">\n",
       "  <thead>\n",
       "    <tr style=\"text-align: right;\">\n",
       "      <th></th>\n",
       "      <th>CVEGEO</th>\n",
       "      <th>CVE_ENT</th>\n",
       "      <th>CVE_MUN</th>\n",
       "      <th>NOMGEO</th>\n",
       "      <th>geometry</th>\n",
       "      <th>city</th>\n",
       "    </tr>\n",
       "  </thead>\n",
       "  <tbody>\n",
       "    <tr>\n",
       "      <th>0</th>\n",
       "      <td>07023</td>\n",
       "      <td>07</td>\n",
       "      <td>023</td>\n",
       "      <td>Chamula</td>\n",
       "      <td>POLYGON ((-92.69055 16.89591, -92.68747 16.889...</td>\n",
       "      <td>San Cristobal</td>\n",
       "    </tr>\n",
       "  </tbody>\n",
       "</table>\n",
       "</div>"
      ],
      "text/plain": [
       "  CVEGEO CVE_ENT CVE_MUN   NOMGEO   \n",
       "0  07023      07     023  Chamula  \\\n",
       "\n",
       "                                            geometry           city  \n",
       "0  POLYGON ((-92.69055 16.89591, -92.68747 16.889...  San Cristobal  "
      ]
     },
     "execution_count": 12,
     "metadata": {},
     "output_type": "execute_result"
    }
   ],
   "source": [
    "san_cristobal_gdf['city'] = 'San Cristobal'\n",
    "\n",
    "# Show\n",
    "print(san_cristobal_gdf.shape)\n",
    "san_cristobal_gdf.head(1)"
   ]
  },
  {
   "cell_type": "markdown",
   "id": "dfc494b0-e755-4670-a384-24d9ecc02c35",
   "metadata": {
    "jp-MarkdownHeadingCollapsed": true
   },
   "source": [
    "## Create metro gdf for these cities"
   ]
  },
  {
   "cell_type": "code",
   "execution_count": 15,
   "id": "ba56319d-481e-4d4c-880c-af4356ea8d69",
   "metadata": {},
   "outputs": [
    {
     "name": "stdout",
     "output_type": "stream",
     "text": [
      "EPSG:4326\n",
      "(4, 6)\n"
     ]
    },
    {
     "data": {
      "text/html": [
       "<div>\n",
       "<style scoped>\n",
       "    .dataframe tbody tr th:only-of-type {\n",
       "        vertical-align: middle;\n",
       "    }\n",
       "\n",
       "    .dataframe tbody tr th {\n",
       "        vertical-align: top;\n",
       "    }\n",
       "\n",
       "    .dataframe thead th {\n",
       "        text-align: right;\n",
       "    }\n",
       "</style>\n",
       "<table border=\"1\" class=\"dataframe\">\n",
       "  <thead>\n",
       "    <tr style=\"text-align: right;\">\n",
       "      <th></th>\n",
       "      <th>CVEGEO</th>\n",
       "      <th>CVE_ENT</th>\n",
       "      <th>CVE_MUN</th>\n",
       "      <th>NOMGEO</th>\n",
       "      <th>city</th>\n",
       "      <th>geometry</th>\n",
       "    </tr>\n",
       "  </thead>\n",
       "  <tbody>\n",
       "    <tr>\n",
       "      <th>0</th>\n",
       "      <td>12038</td>\n",
       "      <td>12</td>\n",
       "      <td>038</td>\n",
       "      <td>Zihuatanejo de Azueta</td>\n",
       "      <td>Zihuatanejo</td>\n",
       "      <td>MULTIPOLYGON (((-101.65842 17.67894, -101.6580...</td>\n",
       "    </tr>\n",
       "    <tr>\n",
       "      <th>0</th>\n",
       "      <td>07023</td>\n",
       "      <td>07</td>\n",
       "      <td>023</td>\n",
       "      <td>Chamula</td>\n",
       "      <td>San Cristobal</td>\n",
       "      <td>POLYGON ((-92.69055 16.89591, -92.68747 16.889...</td>\n",
       "    </tr>\n",
       "    <tr>\n",
       "      <th>0</th>\n",
       "      <td>07111</td>\n",
       "      <td>07</td>\n",
       "      <td>111</td>\n",
       "      <td>Zinacantán</td>\n",
       "      <td>San Cristobal</td>\n",
       "      <td>POLYGON ((-92.74253 16.77523, -92.74047 16.772...</td>\n",
       "    </tr>\n",
       "    <tr>\n",
       "      <th>0</th>\n",
       "      <td>07078</td>\n",
       "      <td>07</td>\n",
       "      <td>078</td>\n",
       "      <td>San Cristóbal de las Casas</td>\n",
       "      <td>San Cristobal</td>\n",
       "      <td>MULTIPOLYGON (((-92.34427 16.57003, -92.34587 ...</td>\n",
       "    </tr>\n",
       "  </tbody>\n",
       "</table>\n",
       "</div>"
      ],
      "text/plain": [
       "  CVEGEO CVE_ENT CVE_MUN                      NOMGEO           city   \n",
       "0  12038      12     038       Zihuatanejo de Azueta    Zihuatanejo  \\\n",
       "0  07023      07     023                     Chamula  San Cristobal   \n",
       "0  07111      07     111                  Zinacantán  San Cristobal   \n",
       "0  07078      07     078  San Cristóbal de las Casas  San Cristobal   \n",
       "\n",
       "                                            geometry  \n",
       "0  MULTIPOLYGON (((-101.65842 17.67894, -101.6580...  \n",
       "0  POLYGON ((-92.69055 16.89591, -92.68747 16.889...  \n",
       "0  POLYGON ((-92.74253 16.77523, -92.74047 16.772...  \n",
       "0  MULTIPOLYGON (((-92.34427 16.57003, -92.34587 ...  "
      ]
     },
     "execution_count": 15,
     "metadata": {},
     "output_type": "execute_result"
    }
   ],
   "source": [
    "metro_gdf = pd.concat([ixtapa_gdf,san_cristobal_gdf])\n",
    "metro_gdf = metro_gdf[['CVEGEO','CVE_ENT','CVE_MUN','NOMGEO','city','geometry']]\n",
    "\n",
    "# Show\n",
    "print(metro_gdf.crs)\n",
    "print(metro_gdf.shape)\n",
    "metro_gdf.head(5)"
   ]
  },
  {
   "cell_type": "markdown",
   "id": "63ae9b45-40cc-4df9-8ba2-7b8509179830",
   "metadata": {},
   "source": [
    "## Save to database"
   ]
  },
  {
   "cell_type": "code",
   "execution_count": 18,
   "id": "6f17ff08-5828-455c-955a-28a55a361e0b",
   "metadata": {},
   "outputs": [],
   "source": [
    "save_schema = 'projects_research'\n",
    "save_table = 'femsainfancias_missingcities_metrogdf2020'\n",
    "\n",
    "if save:\n",
    "    aup.gdf_to_db_slow(metro_gdf, save_table, save_schema, if_exists='append')"
   ]
  },
  {
   "cell_type": "code",
   "execution_count": null,
   "id": "2021a81d-a056-41e7-b8ac-35e4cbcdf02b",
   "metadata": {},
   "outputs": [],
   "source": []
  }
 ],
 "metadata": {
  "kernelspec": {
   "display_name": "GDS-10.0",
   "language": "python",
   "name": "gds"
  },
  "language_info": {
   "codemirror_mode": {
    "name": "ipython",
    "version": 3
   },
   "file_extension": ".py",
   "mimetype": "text/x-python",
   "name": "python",
   "nbconvert_exporter": "python",
   "pygments_lexer": "ipython3",
   "version": "3.9.18"
  }
 },
 "nbformat": 4,
 "nbformat_minor": 5
}
