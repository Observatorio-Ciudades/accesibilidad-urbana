{
 "cells": [
  {
   "cell_type": "markdown",
   "id": "ebab0537-b7f8-4f1c-936b-6b92de977eaf",
   "metadata": {},
   "source": [
    "# 04 - Kepler"
   ]
  },
  {
   "cell_type": "markdown",
   "id": "7b3d912f-fc4f-49d2-9c98-7034aa552f6b",
   "metadata": {},
   "source": [
    "Notebook constructs Kepler html for San Cristobal de las Casas and Zihuatanejo. (2024 05 03)"
   ]
  },
  {
   "cell_type": "markdown",
   "id": "23f9fbfc-b830-49cb-96c3-c856c2e2c04d",
   "metadata": {},
   "source": [
    "## Import modules"
   ]
  },
  {
   "cell_type": "code",
   "execution_count": 1,
   "id": "a8b23a85-4e44-4a73-a113-44fbdf9369ad",
   "metadata": {},
   "outputs": [],
   "source": [
    "# Imports que venían en el Notebook 15-min-city > 13-15-min-kepler-test.ipynb\n",
    "import io\n",
    "import boto3\n",
    "from keplergl import KeplerGl\n",
    "\n",
    "import os\n",
    "import sys\n",
    "\n",
    "import pandas as pd\n",
    "import geopandas as gpd\n",
    "\n",
    "import warnings\n",
    "warnings.simplefilter(action='ignore', category=FutureWarning)\n",
    "\n",
    "module_path = os.path.abspath(os.path.join('../../../'))\n",
    "if module_path not in sys.path:\n",
    "    sys.path.append(module_path)\n",
    "    import aup"
   ]
  },
  {
   "cell_type": "code",
   "execution_count": 2,
   "id": "7234d06a-4586-4201-a8ca-e1f1a57cab2b",
   "metadata": {},
   "outputs": [],
   "source": [
    "city = 'San Cristobal'\n",
    "prox_schema = 'projects_research'\n",
    "prox_table = 'femsainfancias_missingcities_proxhex'"
   ]
  },
  {
   "cell_type": "markdown",
   "id": "8f74e558-be48-436e-99a3-e9bb9235e53e",
   "metadata": {},
   "source": [
    "## Download hexagons with time data"
   ]
  },
  {
   "cell_type": "code",
   "execution_count": 3,
   "id": "b50c59f0-d2ed-45b8-82c6-cfccee041d25",
   "metadata": {},
   "outputs": [
    {
     "name": "stdout",
     "output_type": "stream",
     "text": [
      "(90, 31)\n"
     ]
    },
    {
     "data": {
      "text/html": [
       "<div>\n",
       "<style scoped>\n",
       "    .dataframe tbody tr th:only-of-type {\n",
       "        vertical-align: middle;\n",
       "    }\n",
       "\n",
       "    .dataframe tbody tr th {\n",
       "        vertical-align: top;\n",
       "    }\n",
       "\n",
       "    .dataframe thead th {\n",
       "        text-align: right;\n",
       "    }\n",
       "</style>\n",
       "<table border=\"1\" class=\"dataframe\">\n",
       "  <thead>\n",
       "    <tr style=\"text-align: right;\">\n",
       "      <th></th>\n",
       "      <th>hex_id</th>\n",
       "      <th>res</th>\n",
       "      <th>geometry</th>\n",
       "      <th>max_escuelas</th>\n",
       "      <th>max_preescolar</th>\n",
       "      <th>max_primaria</th>\n",
       "      <th>max_secundaria</th>\n",
       "      <th>max_servicios comunitarios</th>\n",
       "      <th>max_salud</th>\n",
       "      <th>max_guarderías</th>\n",
       "      <th>...</th>\n",
       "      <th>max_idx_15_min</th>\n",
       "      <th>pobtot</th>\n",
       "      <th>pobfem</th>\n",
       "      <th>pobmas</th>\n",
       "      <th>pob_0a14</th>\n",
       "      <th>pob_15a24</th>\n",
       "      <th>pob_25a59</th>\n",
       "      <th>p_60ymas</th>\n",
       "      <th>dens_pobha</th>\n",
       "      <th>city</th>\n",
       "    </tr>\n",
       "  </thead>\n",
       "  <tbody>\n",
       "    <tr>\n",
       "      <th>0</th>\n",
       "      <td>886d23b169fffff</td>\n",
       "      <td>8</td>\n",
       "      <td>POLYGON ((-92.68489 16.78370, -92.68050 16.786...</td>\n",
       "      <td>103.04351</td>\n",
       "      <td>8.348399</td>\n",
       "      <td>9.304488</td>\n",
       "      <td>103.04351</td>\n",
       "      <td>125.863549</td>\n",
       "      <td>7.270417</td>\n",
       "      <td>125.863549</td>\n",
       "      <td>...</td>\n",
       "      <td>125.863549</td>\n",
       "      <td>2115.8186</td>\n",
       "      <td>1168.0729</td>\n",
       "      <td>947.74554</td>\n",
       "      <td>771.79541</td>\n",
       "      <td>420.88945</td>\n",
       "      <td>772.75008</td>\n",
       "      <td>150.38344</td>\n",
       "      <td>26.971643</td>\n",
       "      <td>San Cristobal</td>\n",
       "    </tr>\n",
       "  </tbody>\n",
       "</table>\n",
       "<p>1 rows × 31 columns</p>\n",
       "</div>"
      ],
      "text/plain": [
       "            hex_id  res                                           geometry   \n",
       "0  886d23b169fffff    8  POLYGON ((-92.68489 16.78370, -92.68050 16.786...  \\\n",
       "\n",
       "   max_escuelas  max_preescolar  max_primaria  max_secundaria   \n",
       "0     103.04351        8.348399      9.304488       103.04351  \\\n",
       "\n",
       "   max_servicios comunitarios  max_salud  max_guarderías  ...  max_idx_15_min   \n",
       "0                  125.863549   7.270417      125.863549  ...      125.863549  \\\n",
       "\n",
       "      pobtot     pobfem     pobmas   pob_0a14  pob_15a24  pob_25a59   \n",
       "0  2115.8186  1168.0729  947.74554  771.79541  420.88945  772.75008  \\\n",
       "\n",
       "    p_60ymas  dens_pobha           city  \n",
       "0  150.38344   26.971643  San Cristobal  \n",
       "\n",
       "[1 rows x 31 columns]"
      ]
     },
     "execution_count": 3,
     "metadata": {},
     "output_type": "execute_result"
    }
   ],
   "source": [
    "# Download proximity data for city\n",
    "query = f\"SELECT * FROM {prox_schema}.{prox_table} WHERE \\\"city\\\" LIKE '{city}'\"\n",
    "hex_gdf = aup.gdf_from_query(query, geometry_col=\"geometry\")\n",
    "\n",
    "##########\n",
    "# CHANGES DUE TO NEW PROXIMITY ANALYSIS OUTPUT\n",
    "# Res 8 only\n",
    "hex_gdf = hex_gdf.loc[hex_gdf.res == 8].copy()\n",
    "\n",
    "# Change colnames in current proxanalysis into previously used colnames for columns used in Kepler\n",
    "hex_gdf.rename(columns={'max_time':'max_idx_15_min',\n",
    "                        'p_0a14':'pob_0a14',\n",
    "                        'p_15a24':'pob_15a24',\n",
    "                        'p_25a59':'pob_25a59',\n",
    "                        'dens_pob_ha':'dens_pobha'},inplace=True)\n",
    "\n",
    "# Drop columns that will not be shown in Kepler\n",
    "hex_gdf.drop(columns=['idx_preescolar','idx_primaria', 'idx_secundaria', \n",
    "                      'idx_salud', 'idx_guarderías','idx_asistencia social', \n",
    "                      'idx_alimentos', 'idx_personal','idx_farmacias', 'idx_hogar', 'idx_complementarios', \n",
    "                      'idx_social','idx_actividad física', 'idx_cultural', \n",
    "                      'mean_time', 'median_time','idx_sum'],inplace=True)\n",
    "##########\n",
    "\n",
    "# Show\n",
    "print(hex_gdf.shape)\n",
    "hex_gdf.head(1)"
   ]
  },
  {
   "cell_type": "code",
   "execution_count": 4,
   "id": "a19d8fa9-2b95-4af4-a13b-cace1da0a1cb",
   "metadata": {},
   "outputs": [
    {
     "data": {
      "text/plain": [
       "<Axes: >"
      ]
     },
     "execution_count": 4,
     "metadata": {},
     "output_type": "execute_result"
    },
    {
     "data": {
      "image/png": "[encoded data removed]",
      "text/plain": [
       "<Figure size 640x480 with 1 Axes>"
      ]
     },
     "metadata": {},
     "output_type": "display_data"
    }
   ],
   "source": [
    "hex_gdf.plot('max_idx_15_min')"
   ]
  },
  {
   "cell_type": "markdown",
   "id": "8c5676d4-7e98-4351-a4a8-a2aa3cf52095",
   "metadata": {},
   "source": [
    "## Data treatment"
   ]
  },
  {
   "cell_type": "code",
   "execution_count": 5,
   "id": "e5cb55fb-38c1-4be4-81f4-eda45974f91f",
   "metadata": {},
   "outputs": [],
   "source": [
    "hex_gdf_format = hex_gdf.copy()"
   ]
  },
  {
   "cell_type": "markdown",
   "id": "3cc3918c",
   "metadata": {},
   "source": [
    "#### Data treatment - Find missing amenity when max_idx_15_min is more than 15 mins.\n",
    "##### (Farthest amenity is what's having a grater impact in proximity, and what __could__ be considered the highest priority)."
   ]
  },
  {
   "cell_type": "code",
   "execution_count": 6,
   "id": "8017570f",
   "metadata": {},
   "outputs": [
    {
     "name": "stdout",
     "output_type": "stream",
     "text": [
      "(90, 18)\n"
     ]
    },
    {
     "data": {
      "text/html": [
       "<div>\n",
       "<style scoped>\n",
       "    .dataframe tbody tr th:only-of-type {\n",
       "        vertical-align: middle;\n",
       "    }\n",
       "\n",
       "    .dataframe tbody tr th {\n",
       "        vertical-align: top;\n",
       "    }\n",
       "\n",
       "    .dataframe thead th {\n",
       "        text-align: right;\n",
       "    }\n",
       "</style>\n",
       "<table border=\"1\" class=\"dataframe\">\n",
       "  <thead>\n",
       "    <tr style=\"text-align: right;\">\n",
       "      <th></th>\n",
       "      <th>hex_id</th>\n",
       "      <th>res</th>\n",
       "      <th>geometry</th>\n",
       "      <th>max_escuelas</th>\n",
       "      <th>max_servicios comunitarios</th>\n",
       "      <th>max_comercio</th>\n",
       "      <th>max_entretenimiento</th>\n",
       "      <th>max_idx_15_min</th>\n",
       "      <th>pobtot</th>\n",
       "      <th>pobfem</th>\n",
       "      <th>pobmas</th>\n",
       "      <th>pob_0a14</th>\n",
       "      <th>pob_15a24</th>\n",
       "      <th>pob_25a59</th>\n",
       "      <th>p_60ymas</th>\n",
       "      <th>dens_pobha</th>\n",
       "      <th>city</th>\n",
       "      <th>Equipamiento/servicio prioritario</th>\n",
       "    </tr>\n",
       "  </thead>\n",
       "  <tbody>\n",
       "    <tr>\n",
       "      <th>0</th>\n",
       "      <td>886d23b169fffff</td>\n",
       "      <td>8</td>\n",
       "      <td>POLYGON ((-92.68489 16.78370, -92.68050 16.786...</td>\n",
       "      <td>103.04351</td>\n",
       "      <td>125.863549</td>\n",
       "      <td>10.232064</td>\n",
       "      <td>118.344001</td>\n",
       "      <td>125.863549</td>\n",
       "      <td>2115.8186</td>\n",
       "      <td>1168.0729</td>\n",
       "      <td>947.74554</td>\n",
       "      <td>771.79541</td>\n",
       "      <td>420.88945</td>\n",
       "      <td>772.75008</td>\n",
       "      <td>150.38344</td>\n",
       "      <td>26.971643</td>\n",
       "      <td>San Cristobal</td>\n",
       "      <td>Guardería</td>\n",
       "    </tr>\n",
       "  </tbody>\n",
       "</table>\n",
       "</div>"
      ],
      "text/plain": [
       "            hex_id  res                                           geometry   \n",
       "0  886d23b169fffff    8  POLYGON ((-92.68489 16.78370, -92.68050 16.786...  \\\n",
       "\n",
       "   max_escuelas  max_servicios comunitarios  max_comercio   \n",
       "0     103.04351                  125.863549     10.232064  \\\n",
       "\n",
       "   max_entretenimiento  max_idx_15_min     pobtot     pobfem     pobmas   \n",
       "0           118.344001      125.863549  2115.8186  1168.0729  947.74554  \\\n",
       "\n",
       "    pob_0a14  pob_15a24  pob_25a59   p_60ymas  dens_pobha           city   \n",
       "0  771.79541  420.88945  772.75008  150.38344   26.971643  San Cristobal  \\\n",
       "\n",
       "  Equipamiento/servicio prioritario  \n",
       "0                         Guardería  "
      ]
     },
     "execution_count": 6,
     "metadata": {},
     "output_type": "execute_result"
    }
   ],
   "source": [
    "# All amenity's times to be considered\n",
    "amenities_list = ['max_preescolar','max_primaria','max_secundaria', #Escuelas\n",
    "                  'max_salud','max_guarderías','max_asistencia social', #Servicios comunitarios\n",
    "                  'max_alimentos','max_personal','max_farmacias','max_hogar','max_complementarios', #Comercio\n",
    "                  'max_social','max_actividad física', 'max_cultural'] #Entretenimiento\n",
    "\n",
    "# Set missing amenity col name and initial data\n",
    "missing_column_name = 'Equipamiento/servicio prioritario'\n",
    "hex_gdf_format[missing_column_name] = 'No aplica'\n",
    "# Set missing amenity by hex\n",
    "idx = hex_gdf_format['max_idx_15_min']>15\n",
    "hex_gdf_format.loc[idx,missing_column_name] = hex_gdf_format[amenities_list].idxmax(axis=1)\n",
    "\n",
    "# Rename missing amenities found\n",
    "def missing_amenity(amenity_code):\n",
    "    dict_names = {'max_preescolar':'Preescolar',\n",
    "                  'max_primaria':'Primaria',\n",
    "                  'max_secundaria':'Secundaria',\n",
    "                  'max_guarderías':'Guardería',\n",
    "                  'max_salud':'Salud - primer contacto',\n",
    "                  'max_asistencia social':'Centro de asistencia social',\n",
    "                  'max_alimentos':'Comercio de productos alimenticios',\n",
    "                  'max_personal':'Comercio para el cuidado personal',\n",
    "                  'max_farmacias':'Farmacia',\n",
    "                  'max_hogar':'Comercio de artículos para el hogar',\n",
    "                  'max_complementario':'Comercio barrial complementario',\n",
    "                  'max_social':'Espacios de esparcimiento social',\n",
    "                  'max_actividad física':'Espacios para la actividad física',\n",
    "                  'max_cultural':'Espacios de esparcimiento cultural',\n",
    "                  'No aplica':'No aplica'}\n",
    "    return dict_names[amenity_code]\n",
    "hex_gdf_format[missing_column_name] = hex_gdf_format[missing_column_name].apply(missing_amenity)\n",
    "\n",
    "# Drop amenities list (keeps ejes, max_time, population data)\n",
    "hex_gdf_format.drop(columns=amenities_list,inplace=True)\n",
    "\n",
    "# Show\n",
    "print(hex_gdf_format.shape)\n",
    "hex_gdf_format.head(1)"
   ]
  },
  {
   "cell_type": "markdown",
   "id": "c111811e-e64d-4c63-a61f-c1e886f4268d",
   "metadata": {},
   "source": [
    "#### Data treatment - Change ejes and pop data to make more comprehensible\n",
    "##### (Adds text that make more comprehensible the data, like ' (pob/ha)' and 'min'(minutes))"
   ]
  },
  {
   "cell_type": "code",
   "execution_count": 7,
   "id": "18fd0a8e",
   "metadata": {},
   "outputs": [
    {
     "name": "stdout",
     "output_type": "stream",
     "text": [
      "(90, 18)\n"
     ]
    },
    {
     "data": {
      "text/html": [
       "<div>\n",
       "<style scoped>\n",
       "    .dataframe tbody tr th:only-of-type {\n",
       "        vertical-align: middle;\n",
       "    }\n",
       "\n",
       "    .dataframe tbody tr th {\n",
       "        vertical-align: top;\n",
       "    }\n",
       "\n",
       "    .dataframe thead th {\n",
       "        text-align: right;\n",
       "    }\n",
       "</style>\n",
       "<table border=\"1\" class=\"dataframe\">\n",
       "  <thead>\n",
       "    <tr style=\"text-align: right;\">\n",
       "      <th></th>\n",
       "      <th>hex_id</th>\n",
       "      <th>res</th>\n",
       "      <th>geometry</th>\n",
       "      <th>max_escuelas</th>\n",
       "      <th>max_servicios comunitarios</th>\n",
       "      <th>max_comercio</th>\n",
       "      <th>max_entretenimiento</th>\n",
       "      <th>max_idx_15_min</th>\n",
       "      <th>pobtot</th>\n",
       "      <th>pobfem</th>\n",
       "      <th>pobmas</th>\n",
       "      <th>pob_0a14</th>\n",
       "      <th>pob_15a24</th>\n",
       "      <th>pob_25a59</th>\n",
       "      <th>p_60ymas</th>\n",
       "      <th>dens_pobha</th>\n",
       "      <th>city</th>\n",
       "      <th>Equipamiento/servicio prioritario</th>\n",
       "    </tr>\n",
       "  </thead>\n",
       "  <tbody>\n",
       "    <tr>\n",
       "      <th>0</th>\n",
       "      <td>886d23b169fffff</td>\n",
       "      <td>8</td>\n",
       "      <td>POLYGON ((-92.68489 16.78370, -92.68050 16.786...</td>\n",
       "      <td>103 min</td>\n",
       "      <td>126 min</td>\n",
       "      <td>10 min</td>\n",
       "      <td>118 min</td>\n",
       "      <td>126</td>\n",
       "      <td>2116</td>\n",
       "      <td>1168</td>\n",
       "      <td>948</td>\n",
       "      <td>772</td>\n",
       "      <td>421</td>\n",
       "      <td>773</td>\n",
       "      <td>150</td>\n",
       "      <td>26.97 (pob/ha)</td>\n",
       "      <td>San Cristobal</td>\n",
       "      <td>Guardería</td>\n",
       "    </tr>\n",
       "  </tbody>\n",
       "</table>\n",
       "</div>"
      ],
      "text/plain": [
       "            hex_id  res                                           geometry   \n",
       "0  886d23b169fffff    8  POLYGON ((-92.68489 16.78370, -92.68050 16.786...  \\\n",
       "\n",
       "  max_escuelas max_servicios comunitarios max_comercio max_entretenimiento   \n",
       "0      103 min                    126 min       10 min             118 min  \\\n",
       "\n",
       "   max_idx_15_min pobtot pobfem pobmas pob_0a14 pob_15a24 pob_25a59 p_60ymas   \n",
       "0             126   2116   1168    948      772       421       773      150  \\\n",
       "\n",
       "       dens_pobha           city Equipamiento/servicio prioritario  \n",
       "0  26.97 (pob/ha)  San Cristobal                         Guardería  "
      ]
     },
     "execution_count": 7,
     "metadata": {},
     "output_type": "execute_result"
    }
   ],
   "source": [
    "format_coldata_list = ['max_idx_15_min','max_escuelas', 'max_servicios comunitarios','max_comercio', 'max_entretenimiento','pobtot',\n",
    "                       'dens_pobha','pobfem','pobmas','pob_0a14','pob_15a24', 'pob_25a59','p_60ymas']\n",
    "\n",
    "for c in format_coldata_list:\n",
    "    if c == 'dens_pobha':\n",
    "        # Add text ' (pob/ha)' to density\n",
    "        hex_gdf_format[c] = hex_gdf_format[c].round(2)\n",
    "        hex_gdf_format[c] = hex_gdf_format[c].astype(str) + ' (pob/ha)'\n",
    "        \n",
    "    else:\n",
    "        # Make sure data is integer\n",
    "        hex_gdf_format[c] = hex_gdf_format[c].round().astype(int)\n",
    "\n",
    "        # Full format of max_idx_15_min later, just previous line.\n",
    "        if c != 'max_idx_15_min':\n",
    "            # Add text ' min' (minutes) to time data\n",
    "            if 'max' in c:\n",
    "                hex_gdf_format[c] = hex_gdf_format[c].astype(str) + ' min'\n",
    "            # Add nothing to pop data\n",
    "            else:\n",
    "                hex_gdf_format[c] = hex_gdf_format[c].astype(str)\n",
    "\n",
    "# Show\n",
    "print(hex_gdf_format.shape)\n",
    "hex_gdf_format.head(1)"
   ]
  },
  {
   "cell_type": "markdown",
   "id": "4ad7a9c4-14ee-442f-b668-af1f41b0a8c2",
   "metadata": {},
   "source": [
    "#### Data treatment - rename columns that will be shown in Kepler"
   ]
  },
  {
   "cell_type": "code",
   "execution_count": 8,
   "id": "35b969dc",
   "metadata": {},
   "outputs": [
    {
     "name": "stdout",
     "output_type": "stream",
     "text": [
      "(90, 18)\n"
     ]
    },
    {
     "data": {
      "text/html": [
       "<div>\n",
       "<style scoped>\n",
       "    .dataframe tbody tr th:only-of-type {\n",
       "        vertical-align: middle;\n",
       "    }\n",
       "\n",
       "    .dataframe tbody tr th {\n",
       "        vertical-align: top;\n",
       "    }\n",
       "\n",
       "    .dataframe thead th {\n",
       "        text-align: right;\n",
       "    }\n",
       "</style>\n",
       "<table border=\"1\" class=\"dataframe\">\n",
       "  <thead>\n",
       "    <tr style=\"text-align: right;\">\n",
       "      <th></th>\n",
       "      <th>hex_id</th>\n",
       "      <th>res</th>\n",
       "      <th>geometry</th>\n",
       "      <th>Tiempo a escuelas</th>\n",
       "      <th>Tiempo a servicios comunitarios</th>\n",
       "      <th>Tiempo a comercio</th>\n",
       "      <th>Tiempo a entretenimiento</th>\n",
       "      <th>max_idx_15_min</th>\n",
       "      <th>Población total</th>\n",
       "      <th>Población femenina</th>\n",
       "      <th>Población masculina</th>\n",
       "      <th>Población de 0 a 14 años</th>\n",
       "      <th>Población de 15 a 24 años</th>\n",
       "      <th>Población de 25 a 59 años</th>\n",
       "      <th>Población de 60 años y más</th>\n",
       "      <th>Densidad de población</th>\n",
       "      <th>city</th>\n",
       "      <th>Equipamiento/servicio prioritario</th>\n",
       "    </tr>\n",
       "  </thead>\n",
       "  <tbody>\n",
       "    <tr>\n",
       "      <th>0</th>\n",
       "      <td>886d23b169fffff</td>\n",
       "      <td>8</td>\n",
       "      <td>POLYGON ((-92.68489 16.78370, -92.68050 16.786...</td>\n",
       "      <td>103 min</td>\n",
       "      <td>126 min</td>\n",
       "      <td>10 min</td>\n",
       "      <td>118 min</td>\n",
       "      <td>126</td>\n",
       "      <td>2116</td>\n",
       "      <td>1168</td>\n",
       "      <td>948</td>\n",
       "      <td>772</td>\n",
       "      <td>421</td>\n",
       "      <td>773</td>\n",
       "      <td>150</td>\n",
       "      <td>26.97 (pob/ha)</td>\n",
       "      <td>San Cristobal</td>\n",
       "      <td>Guardería</td>\n",
       "    </tr>\n",
       "  </tbody>\n",
       "</table>\n",
       "</div>"
      ],
      "text/plain": [
       "            hex_id  res                                           geometry   \n",
       "0  886d23b169fffff    8  POLYGON ((-92.68489 16.78370, -92.68050 16.786...  \\\n",
       "\n",
       "  Tiempo a escuelas Tiempo a servicios comunitarios Tiempo a comercio   \n",
       "0           103 min                         126 min            10 min  \\\n",
       "\n",
       "  Tiempo a entretenimiento  max_idx_15_min Población total Población femenina   \n",
       "0                  118 min             126            2116               1168  \\\n",
       "\n",
       "  Población masculina Población de 0 a 14 años Población de 15 a 24 años   \n",
       "0                 948                      772                       421  \\\n",
       "\n",
       "  Población de 25 a 59 años Población de 60 años y más Densidad de población   \n",
       "0                       773                        150        26.97 (pob/ha)  \\\n",
       "\n",
       "            city Equipamiento/servicio prioritario  \n",
       "0  San Cristobal                         Guardería  "
      ]
     },
     "execution_count": 8,
     "metadata": {},
     "output_type": "execute_result"
    }
   ],
   "source": [
    "rename_columns = {'max_escuelas':'Tiempo a escuelas',\n",
    "                  'max_servicios comunitarios':'Tiempo a servicios comunitarios',\n",
    "                  'max_comercio':'Tiempo a comercio',\n",
    "                  'max_entretenimiento':'Tiempo a entretenimiento',\n",
    "                  'pobtot':'Población total',\n",
    "                  'dens_pobha':'Densidad de población',\n",
    "                  'pobfem':'Población femenina',\n",
    "                  'pobmas':'Población masculina',\n",
    "                  'pob_0a14':'Población de 0 a 14 años',\n",
    "                  'pob_15a24':'Población de 15 a 24 años',\n",
    "                  'pob_25a59':'Población de 25 a 59 años',\n",
    "                  'p_60ymas':'Población de 60 años y más'}\n",
    "\n",
    "for c in rename_columns.keys():\n",
    "    hex_gdf_format.rename(columns={c : rename_columns[c]}, inplace=True)\n",
    "\n",
    "# Show\n",
    "print(hex_gdf_format.shape)\n",
    "hex_gdf_format.head(1)"
   ]
  },
  {
   "cell_type": "markdown",
   "id": "38b0c2fd-3d5c-481e-a6ab-479b67cc797a",
   "metadata": {},
   "source": [
    "#### Data treatment - Format max_time column"
   ]
  },
  {
   "cell_type": "code",
   "execution_count": 9,
   "id": "d3ddd04e-1d0d-49f0-a861-dc7c4fa92f19",
   "metadata": {},
   "outputs": [
    {
     "name": "stdout",
     "output_type": "stream",
     "text": [
      "(90, 20)\n"
     ]
    },
    {
     "data": {
      "text/html": [
       "<div>\n",
       "<style scoped>\n",
       "    .dataframe tbody tr th:only-of-type {\n",
       "        vertical-align: middle;\n",
       "    }\n",
       "\n",
       "    .dataframe tbody tr th {\n",
       "        vertical-align: top;\n",
       "    }\n",
       "\n",
       "    .dataframe thead th {\n",
       "        text-align: right;\n",
       "    }\n",
       "</style>\n",
       "<table border=\"1\" class=\"dataframe\">\n",
       "  <thead>\n",
       "    <tr style=\"text-align: right;\">\n",
       "      <th></th>\n",
       "      <th>hex_id</th>\n",
       "      <th>res</th>\n",
       "      <th>geometry</th>\n",
       "      <th>Tiempo a escuelas</th>\n",
       "      <th>Tiempo a servicios comunitarios</th>\n",
       "      <th>Tiempo a comercio</th>\n",
       "      <th>Tiempo a entretenimiento</th>\n",
       "      <th>max_idx_15_min</th>\n",
       "      <th>Población total</th>\n",
       "      <th>Población femenina</th>\n",
       "      <th>Población masculina</th>\n",
       "      <th>Población de 0 a 14 años</th>\n",
       "      <th>Población de 15 a 24 años</th>\n",
       "      <th>Población de 25 a 59 años</th>\n",
       "      <th>Población de 60 años y más</th>\n",
       "      <th>Densidad de población</th>\n",
       "      <th>city</th>\n",
       "      <th>Equipamiento/servicio prioritario</th>\n",
       "      <th>Tiempo máximo a todos los servicios</th>\n",
       "      <th>bins_max_idx_15_min</th>\n",
       "    </tr>\n",
       "  </thead>\n",
       "  <tbody>\n",
       "    <tr>\n",
       "      <th>0</th>\n",
       "      <td>886d23b169fffff</td>\n",
       "      <td>8</td>\n",
       "      <td>POLYGON ((-92.68489 16.78370, -92.68050 16.786...</td>\n",
       "      <td>103 min</td>\n",
       "      <td>126 min</td>\n",
       "      <td>10 min</td>\n",
       "      <td>118 min</td>\n",
       "      <td>126</td>\n",
       "      <td>2116</td>\n",
       "      <td>1168</td>\n",
       "      <td>948</td>\n",
       "      <td>772</td>\n",
       "      <td>421</td>\n",
       "      <td>773</td>\n",
       "      <td>150</td>\n",
       "      <td>26.97 (pob/ha)</td>\n",
       "      <td>San Cristobal</td>\n",
       "      <td>Guardería</td>\n",
       "      <td>126 min</td>\n",
       "      <td>60&gt;</td>\n",
       "    </tr>\n",
       "  </tbody>\n",
       "</table>\n",
       "</div>"
      ],
      "text/plain": [
       "            hex_id  res                                           geometry   \n",
       "0  886d23b169fffff    8  POLYGON ((-92.68489 16.78370, -92.68050 16.786...  \\\n",
       "\n",
       "  Tiempo a escuelas Tiempo a servicios comunitarios Tiempo a comercio   \n",
       "0           103 min                         126 min            10 min  \\\n",
       "\n",
       "  Tiempo a entretenimiento  max_idx_15_min Población total Población femenina   \n",
       "0                  118 min             126            2116               1168  \\\n",
       "\n",
       "  Población masculina Población de 0 a 14 años Población de 15 a 24 años   \n",
       "0                 948                      772                       421  \\\n",
       "\n",
       "  Población de 25 a 59 años Población de 60 años y más Densidad de población   \n",
       "0                       773                        150        26.97 (pob/ha)  \\\n",
       "\n",
       "            city Equipamiento/servicio prioritario   \n",
       "0  San Cristobal                         Guardería  \\\n",
       "\n",
       "  Tiempo máximo a todos los servicios bins_max_idx_15_min  \n",
       "0                             126 min                 60>  "
      ]
     },
     "execution_count": 9,
     "metadata": {},
     "output_type": "execute_result"
    }
   ],
   "source": [
    "# Create time categories (bins) from column max_idx_15_min --> 'Tiempo máximo a todos los servicios'\n",
    "max_column = 'max_idx_15_min'\n",
    "final_max_column = 'Tiempo máximo a todos los servicios'\n",
    "#final_max_column = 'max_idx_15_min_2'\n",
    "hex_gdf_format[final_max_column] = hex_gdf_format[max_column].astype(str) + ' min'\n",
    "\n",
    "# Create time categories (bins) from max_idx_15_min col\n",
    "bins = [0, 15, 30, 45, 60, hex_gdf_format[max_column].max()]\n",
    "labels = ['0-15', '15-30', '30-45', '45-60', '60>']\n",
    "hex_gdf_format[f'bins_{max_column}'] = pd.cut(hex_gdf_format[max_column], bins=bins, labels=labels, include_lowest=True)\n",
    "\n",
    "# Show\n",
    "print(hex_gdf_format.shape)\n",
    "hex_gdf_format.head(1)"
   ]
  },
  {
   "cell_type": "markdown",
   "id": "39788b62-4f95-4720-abf0-24f87d9d84e6",
   "metadata": {},
   "source": [
    "#### Data treatment - Filter and re-order columns of interest"
   ]
  },
  {
   "cell_type": "code",
   "execution_count": 10,
   "id": "a55c7410-82bd-420f-b7ca-f2fb609b599b",
   "metadata": {},
   "outputs": [
    {
     "name": "stdout",
     "output_type": "stream",
     "text": [
      "(90, 16)\n"
     ]
    },
    {
     "data": {
      "text/html": [
       "<div>\n",
       "<style scoped>\n",
       "    .dataframe tbody tr th:only-of-type {\n",
       "        vertical-align: middle;\n",
       "    }\n",
       "\n",
       "    .dataframe tbody tr th {\n",
       "        vertical-align: top;\n",
       "    }\n",
       "\n",
       "    .dataframe thead th {\n",
       "        text-align: right;\n",
       "    }\n",
       "</style>\n",
       "<table border=\"1\" class=\"dataframe\">\n",
       "  <thead>\n",
       "    <tr style=\"text-align: right;\">\n",
       "      <th></th>\n",
       "      <th>Tiempo máximo a todos los servicios</th>\n",
       "      <th>Tiempo a escuelas</th>\n",
       "      <th>Tiempo a servicios comunitarios</th>\n",
       "      <th>Tiempo a comercio</th>\n",
       "      <th>Tiempo a entretenimiento</th>\n",
       "      <th>Población total</th>\n",
       "      <th>Densidad de población</th>\n",
       "      <th>Población femenina</th>\n",
       "      <th>Población masculina</th>\n",
       "      <th>Población de 0 a 14 años</th>\n",
       "      <th>Población de 15 a 24 años</th>\n",
       "      <th>Población de 25 a 59 años</th>\n",
       "      <th>Población de 60 años y más</th>\n",
       "      <th>Equipamiento/servicio prioritario</th>\n",
       "      <th>geometry</th>\n",
       "      <th>bins_max_idx_15_min</th>\n",
       "    </tr>\n",
       "  </thead>\n",
       "  <tbody>\n",
       "    <tr>\n",
       "      <th>0</th>\n",
       "      <td>126 min</td>\n",
       "      <td>103 min</td>\n",
       "      <td>126 min</td>\n",
       "      <td>10 min</td>\n",
       "      <td>118 min</td>\n",
       "      <td>2116</td>\n",
       "      <td>26.97 (pob/ha)</td>\n",
       "      <td>1168</td>\n",
       "      <td>948</td>\n",
       "      <td>772</td>\n",
       "      <td>421</td>\n",
       "      <td>773</td>\n",
       "      <td>150</td>\n",
       "      <td>Guardería</td>\n",
       "      <td>POLYGON ((-92.68489 16.78370, -92.68050 16.786...</td>\n",
       "      <td>60&gt;</td>\n",
       "    </tr>\n",
       "  </tbody>\n",
       "</table>\n",
       "</div>"
      ],
      "text/plain": [
       "  Tiempo máximo a todos los servicios Tiempo a escuelas   \n",
       "0                             126 min           103 min  \\\n",
       "\n",
       "  Tiempo a servicios comunitarios Tiempo a comercio Tiempo a entretenimiento   \n",
       "0                         126 min            10 min                  118 min  \\\n",
       "\n",
       "  Población total Densidad de población Población femenina   \n",
       "0            2116        26.97 (pob/ha)               1168  \\\n",
       "\n",
       "  Población masculina Población de 0 a 14 años Población de 15 a 24 años   \n",
       "0                 948                      772                       421  \\\n",
       "\n",
       "  Población de 25 a 59 años Población de 60 años y más   \n",
       "0                       773                        150  \\\n",
       "\n",
       "  Equipamiento/servicio prioritario   \n",
       "0                         Guardería  \\\n",
       "\n",
       "                                            geometry bins_max_idx_15_min  \n",
       "0  POLYGON ((-92.68489 16.78370, -92.68050 16.786...                 60>  "
      ]
     },
     "execution_count": 10,
     "metadata": {},
     "output_type": "execute_result"
    }
   ],
   "source": [
    "hex_kepler = hex_gdf_format[[final_max_column, 'Tiempo a escuelas', 'Tiempo a servicios comunitarios','Tiempo a comercio', 'Tiempo a entretenimiento',\n",
    "                             'Población total','Densidad de población','Población femenina','Población masculina',\n",
    "                             'Población de 0 a 14 años','Población de 15 a 24 años', 'Población de 25 a 59 años','Población de 60 años y más',\n",
    "                             missing_column_name,'geometry',f'bins_{max_column}']] # .copy().to_json()\n",
    "\n",
    "# Show\n",
    "print(hex_kepler.shape)\n",
    "hex_kepler.head(1)"
   ]
  },
  {
   "cell_type": "markdown",
   "id": "a537a352-d772-43b7-9761-a96858d17a1b",
   "metadata": {},
   "source": [
    "#### Data treatment - ¿?"
   ]
  },
  {
   "cell_type": "code",
   "execution_count": 11,
   "id": "8e079325",
   "metadata": {},
   "outputs": [],
   "source": [
    "#hex_kepler['           '] = '         '\n",
    "#hex_kepler['            '] = '          '\n",
    "\n",
    "# Show\n",
    "#print(hex_kepler.shape)\n",
    "#hex_kepler.head(1)"
   ]
  },
  {
   "cell_type": "markdown",
   "id": "74e19d35",
   "metadata": {},
   "source": [
    "## Kepler configuration"
   ]
  },
  {
   "cell_type": "code",
   "execution_count": 12,
   "id": "96bc34e6",
   "metadata": {},
   "outputs": [],
   "source": [
    "config,config_idx = aup.kepler_config()\n",
    "\n",
    "config[\"config\"][\"visState\"][\"layers\"][0][\"visualChannels\"][\"colorField\"][\n",
    "    \"name\"\n",
    "] = f'bins_{max_column}'\n",
    "\n",
    "config[\"config\"][\"visState\"][\"interactionConfig\"][\"tooltip\"][\"fieldsToShow\"][\n",
    "    \"Análisis de hexágono\"] = [final_max_column, 'Tiempo a escuelas',\n",
    "                  'Tiempo a servicios comunitarios','Tiempo a comercio',\n",
    "                  'Tiempo a entretenimiento','           ',\n",
    "                               'Población total','Densidad de población',\n",
    "                               'Población femenina','Población masculina',\n",
    "                               'Población de 0 a 14 años',\n",
    "                               'Población de 15 a 24 años',\n",
    "                               'Población de 25 a 59 años',\n",
    "                               'Población de 60 años y más','            ',\n",
    "                              missing_column_name]\n",
    "\n",
    "#config[\"config\"][\"visState\"][\"interactionConfig\"][\"tooltip\"][\"fieldsToShow\"][\n",
    "#    \"datos\"]= [final_max_column, 'max_escuelas', 'pobtot']"
   ]
  },
  {
   "cell_type": "code",
   "execution_count": 13,
   "id": "66aa7fdc-ad73-4553-bcad-9cf3754ffd6e",
   "metadata": {
    "tags": []
   },
   "outputs": [
    {
     "name": "stdout",
     "output_type": "stream",
     "text": [
      "User Guide: https://docs.kepler.gl/docs/keplergl-jupyter\n",
      "Map saved to ../../../data/processed/femsa_infancias/San Cristobal.html!\n"
     ]
    },
    {
     "name": "stderr",
     "output_type": "stream",
     "text": [
      "/tmp/ipykernel_50738/3979118182.py:2: UserWarning: Geometry is in a geographic CRS. Results from 'centroid' are likely incorrect. Use 'GeoSeries.to_crs()' to re-project geometries to a projected CRS before this operation.\n",
      "\n",
      "  longitude = hex_gdf.dissolve().geometry.centroid.x\n",
      "/tmp/ipykernel_50738/3979118182.py:3: UserWarning: Geometry is in a geographic CRS. Results from 'centroid' are likely incorrect. Use 'GeoSeries.to_crs()' to re-project geometries to a projected CRS before this operation.\n",
      "\n",
      "  latitude = hex_gdf.dissolve().geometry.centroid.y\n"
     ]
    }
   ],
   "source": [
    "# hex_gdf[\"d\"] = 0\n",
    "longitude = hex_gdf.dissolve().geometry.centroid.x\n",
    "latitude = hex_gdf.dissolve().geometry.centroid.y\n",
    "config[\"config\"][\"mapState\"][\"latitude\"] = latitude[0]\n",
    "config[\"config\"][\"mapState\"][\"longitude\"] = longitude[0]\n",
    "# session = boto3.Session(profile_name=\"observatorio\")\n",
    "# dev_s3_client = session.client(\"s3\")\n",
    "# map_city = KeplerGl(height=800, data={\"Análisis de ciudad\": hex_kepler}, config=config_idx)\n",
    "map_city = KeplerGl(height=800)\n",
    "map_city.config = config\n",
    "map_city.add_data(hex_kepler, name='Análisis de hexágono')\n",
    "map_city.save_to_html(file_name=f\"../../../data/processed/femsa_infancias/{city}.html\", read_only=False)"
   ]
  },
  {
   "cell_type": "code",
   "execution_count": null,
   "id": "45741744",
   "metadata": {},
   "outputs": [],
   "source": []
  }
 ],
 "metadata": {
  "kernelspec": {
   "display_name": "GDS-10.0",
   "language": "python",
   "name": "gds"
  },
  "language_info": {
   "codemirror_mode": {
    "name": "ipython",
    "version": 3
   },
   "file_extension": ".py",
   "mimetype": "text/x-python",
   "name": "python",
   "nbconvert_exporter": "python",
   "pygments_lexer": "ipython3",
   "version": "3.9.18"
  }
 },
 "nbformat": 4,
 "nbformat_minor": 5
}
