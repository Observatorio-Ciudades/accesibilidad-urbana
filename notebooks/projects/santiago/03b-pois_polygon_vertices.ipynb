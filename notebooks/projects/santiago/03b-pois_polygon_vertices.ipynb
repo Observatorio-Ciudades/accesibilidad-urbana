{
 "cells": [
  {
   "cell_type": "markdown",
   "id": "d9809440-f122-43d5-be56-453fbe46591c",
   "metadata": {},
   "source": [
    "# Pois polygon vertices \n",
    "#### [For Boulevards, linear parks, small squares, squares and big parks]"
   ]
  },
  {
   "cell_type": "markdown",
   "id": "bb11402b-edb2-47b9-8001-d17eecd8b442",
   "metadata": {},
   "source": [
    "This notebook will (WIP) be adapted to create points of interest used in the proximity code from polygons of interest."
   ]
  },
  {
   "cell_type": "code",
   "execution_count": null,
   "id": "378a0f22-e923-4125-8da7-b852ec70e314",
   "metadata": {},
   "outputs": [],
   "source": [
    "import os\n",
    "import sys\n",
    "\n",
    "import pandas as pd\n",
    "import geopandas as gpd\n",
    "import osmnx as ox\n",
    "import numpy as np\n",
    "\n",
    "import matplotlib.pyplot as plt\n",
    "import seaborn as sns\n",
    "\n",
    "import warnings\n",
    "warnings.simplefilter(action='ignore', category=FutureWarning)\n",
    "\n",
    "module_path = os.path.abspath(os.path.join('../../../'))\n",
    "if module_path not in sys.path:\n",
    "    sys.path.append(module_path)\n",
    "    import aup"
   ]
  },
  {
   "cell_type": "code",
   "execution_count": null,
   "id": "3dce4d06-a958-4b0c-bf83-10b00118fd80",
   "metadata": {},
   "outputs": [],
   "source": [
    "# REFERENCE: From previous Volvo proyect:\n",
    "\n",
    "def get_parques_pois(parques_schema,parques_table,code):\n",
    "    # This function creates parques points of interest out of vertices of parques found in db (schema>table)\n",
    "\n",
    "    # Download parques pois\n",
    "    query = f\"SELECT * FROM {parques_schema}.{parques_table}\"\n",
    "    gdf = aup.gdf_from_query(query, geometry_col='geometry')\n",
    "    gdf = gdf.to_crs(\"EPSG:4326\")\n",
    "\n",
    "    # Get vertices coordinates\n",
    "    gdf_coords = gdf.geometry.get_coordinates()\n",
    "\n",
    "    # Merge back with gdf containing data\n",
    "    gdf_coords_data = pd.merge(gdf_coords,gdf,left_index=True,right_index=True)\n",
    "\n",
    "    # Drop poly geometry \n",
    "    df_coords_data = gdf_coords_data.drop(columns=['geometry'])\n",
    "    # Set points geometry\n",
    "    gdf_2 = gpd.GeoDataFrame(df_coords_data, \n",
    "                             geometry=gpd.points_from_xy(df_coords_data.x, df_coords_data.y),\n",
    "                             crs='EPSG:4326')\n",
    "    # Format\n",
    "    gdf_2.drop(columns=['x','y'],inplace=True)\n",
    "    gdf_2.reset_index(inplace=True)\n",
    "    gdf_2.rename(columns={'index':'polygon_id'},inplace=True)\n",
    "\n",
    "    # Project Volvo filter\n",
    "    # Tipos\n",
    "    tipos = ['Parque','Espacio verde vecinal', 'Plaza', 'Área natural', 'Área natural protegida']\n",
    "    gdf_f1 = gdf_2.loc[gdf_2.Tipo.isin(tipos)]\n",
    "    # Usos\n",
    "    gdf_f2 = gdf_f1.loc[gdf_f1.Uso == 'Uso recreativo']\n",
    "\n",
    "    # Proxanalysis filter\n",
    "    #code_pois = gdf_f2.set_crs(\"EPSG:4326\")\n",
    "    gdf_f2['code'] = code\n",
    "    code_pois = gdf_f2[['polygon_id','code','geometry']]\n",
    "    code_pois['code'] = code_pois['code'].astype('int64')\n",
    "\n",
    "    code_pois = code_pois.drop_duplicates()\n",
    "\n",
    "    return code_pois"
   ]
  }
 ],
 "metadata": {
  "kernelspec": {
   "display_name": "GDS-10.0",
   "language": "python",
   "name": "gds"
  },
  "language_info": {
   "codemirror_mode": {
    "name": "ipython",
    "version": 3
   },
   "file_extension": ".py",
   "mimetype": "text/x-python",
   "name": "python",
   "nbconvert_exporter": "python",
   "pygments_lexer": "ipython3",
   "version": "3.9.18"
  }
 },
 "nbformat": 4,
 "nbformat_minor": 5
}
