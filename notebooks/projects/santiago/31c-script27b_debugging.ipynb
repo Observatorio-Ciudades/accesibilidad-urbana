{
 "cells": [
  {
   "cell_type": "markdown",
   "id": "43a367ca-48ad-42d6-9479-e5972b766aa9",
   "metadata": {},
   "source": [
    "# Script 27b debugging"
   ]
  },
  {
   "cell_type": "markdown",
   "id": "50cf3e3f-6fc0-4dcb-908c-6108f0dd328e",
   "metadata": {},
   "source": [
    "This notebook explores different step outputs of Script 27 and function aup.pois_time() in order to find solutions to count problems."
   ]
  },
  {
   "cell_type": "markdown",
   "id": "58ea5e07-bad5-4412-84de-b09d53689058",
   "metadata": {},
   "source": [
    "## Import libraries"
   ]
  },
  {
   "cell_type": "code",
   "execution_count": 1,
   "id": "b405feb6-7bc8-45f5-b10d-5b262c26a6f3",
   "metadata": {},
   "outputs": [],
   "source": [
    "accesibilidad_urbana = \"../../../\""
   ]
  },
  {
   "cell_type": "code",
   "execution_count": 2,
   "id": "955f75cf-b9e8-443e-9462-95f555abb068",
   "metadata": {},
   "outputs": [],
   "source": [
    "import os\n",
    "import sys\n",
    "\n",
    "import pandas as pd\n",
    "import geopandas as gpd\n",
    "import osmnx as ox\n",
    "import numpy as np\n",
    "\n",
    "from shapely import Point\n",
    "\n",
    "import matplotlib.pyplot as plt\n",
    "import seaborn as sns\n",
    "\n",
    "import warnings\n",
    "warnings.simplefilter(action='ignore', category=FutureWarning)\n",
    "\n",
    "module_path = os.path.abspath(os.path.join(accesibilidad_urbana))\n",
    "if module_path not in sys.path:\n",
    "    sys.path.append(module_path)\n",
    "    import aup"
   ]
  },
  {
   "cell_type": "markdown",
   "id": "33698b5c-75e3-4f87-bc34-32964e84d255",
   "metadata": {},
   "source": [
    "* __Approach:__ Re-do network process in QGIS for Project_00(baseline) and project_01(plaza_italia) and re-run __without changing code.__\n",
    "* __Result:__ Re-doing the network and re-running plaza italia resulted in Plaza Italia having problems. But could also be the code, not the network."
   ]
  },
  {
   "cell_type": "markdown",
   "id": "676bd5de-7a05-4402-a04e-3c1d973529c2",
   "metadata": {
    "jp-MarkdownHeadingCollapsed": true
   },
   "source": [
    "## Script 27b debugging - Restaurantes bar cafe problem"
   ]
  },
  {
   "cell_type": "markdown",
   "id": "a20a3afb-8df7-4c65-9e46-0ee6dbc0de99",
   "metadata": {},
   "source": [
    "#### * __Problem:__ The restaurantes_bar_cafes_15min_count changes negatively after implementing projects.\n",
    "#### * __Result:__ The problem uncovered an unecessary set() in function aup.get_seeds(). The set removed duplicate nodes, so if one node had 3 restaurantes, only 1 was counted while time remained unaffected. The set was removed."
   ]
  },
  {
   "cell_type": "code",
   "execution_count": 3,
   "id": "7e042311-e4a8-4b73-9c90-2e24a3fc98e3",
   "metadata": {},
   "outputs": [],
   "source": [
    "script27_output_dir = accesibilidad_urbana + \"data/external/santiago/output/\""
   ]
  },
  {
   "cell_type": "markdown",
   "id": "3994f355-ceaa-4775-9b2b-cf333b9ff926",
   "metadata": {
    "jp-MarkdownHeadingCollapsed": true
   },
   "source": [
    "### Script 27b debugging - Exploration 1: batch size creation in function pois_time()\n",
    "* The problem was believed to be here. It wasn't, but still the code was changed from <__if len(x) % 250:__> to <__if (len(x) % 250) == 0:__>"
   ]
  },
  {
   "cell_type": "code",
   "execution_count": 147,
   "id": "d93fe7b6-8e85-48c0-9537-8cc5bb702054",
   "metadata": {},
   "outputs": [
    {
     "name": "stdout",
     "output_type": "stream",
     "text": [
      "100\n"
     ]
    }
   ],
   "source": [
    "attributes_list = ['carniceria_time','carniceria_count_15min','hogar_time','hogar_count_15min','bakeries_time','bakeries_count_15min',\n",
    "                       'supermercado_time','supermercado_count_15min','banco_time','banco_count_15min','ferias_time','ferias_count_15min',\n",
    "                       'local_mini_market_time','local_mini_market_count_15min','correos_time','correos_count_15min','centro_recyc_time','centro_recyc_count_15min',\n",
    "                       'hospital_priv_time','hospital_priv_count_15min','hospital_pub_time','hospital_pub_count_15min','clinica_priv_time','clinica_priv_count_15min',\n",
    "                       'clinica_pub_time','clinica_pub_count_15min','farmacia_time','farmacia_count_15min','vacunatorio_priv_time','vacunatorio_priv_count_15min',\n",
    "                       'vacunatorio_pub_time','vacunatorio_pub_count_15min','consult_ado_priv_time','consult_ado_priv_count_15min','consult_ado_pub_time','consult_ado_pub_count_15min',\n",
    "                       'salud_mental_time','salud_mental_count_15min','labs_priv_time','labs_priv_count_15min','residencia_adumayor_time','residencia_adumayor_count_15min',\n",
    "                       'eq_deportivo_priv_time','eq_deportivo_priv_count_15min','eq_deportivo_pub_time','eq_deportivo_pub_count_15min','club_deportivo_time','club_deportivo_count_15min',\n",
    "                       'civic_office_time','civic_office_count_15min','tax_collection_time','tax_collection_count_15min','social_security_time','social_security_count_15min',\n",
    "                       'police_time','police_count_15min','bomberos_time','bomberos_count_15min','museos_priv_time','museos_priv_count_15min','museos_pub_time','museos_pub_count_15min',\n",
    "                       'cines_time','cines_count_15min','sitios_historicos_time','sitios_historicos_count_15min','restaurantes_bar_cafe_time','restaurantes_bar_cafe_count_15min',\n",
    "                       'librerias_time','librerias_count_15min','ep_plaza_small_time','ep_plaza_small_count_15min','ep_plaza_big_time','ep_plaza_big_count_15min',\n",
    "                       'edu_basica_pub_time','edu_basica_pub_count_15min','edu_media_pub_time','edu_media_pub_count_15min','jardin_inf_pub_time','jardin_inf_pub_count_15min',\n",
    "                       'universidad_time','universidad_count_15min','edu_tecnica_time','edu_tecnica_count_15min','edu_adultos_pub_time','edu_adultos_pub_count_15min',\n",
    "                       'edu_especial_pub_time','edu_especial_pub_count_15min','bibliotecas_time','bibliotecas_count_15min','centro_edu_amb_time','centro_edu_amb_count_15min',\n",
    "                       'paradas_tp_ruta_time','paradas_tp_ruta_count_15min','paradas_tp_metro_time','paradas_tp_metro_count_15min','paradas_tp_tren_time','paradas_tp_tren_count_15min',\n",
    "                       'ciclovias_time','ciclovias_count_15min']\n",
    "\n",
    "# 499 items\n",
    "#short_list = attributes_list.copy()\n",
    "#short_list.remove('ciclovias_count_15min')\n",
    "#attributes_list = (attributes_list*4)\n",
    "#attributes_list.extend(short_list)\n",
    "\n",
    "# 500 items\n",
    "#attributes_list = attributes_list*5\n",
    "\n",
    "# 501 items\n",
    "#attributes_list = attributes_list*5+['test']\n",
    "print(len(attributes_list))"
   ]
  },
  {
   "cell_type": "code",
   "execution_count": 157,
   "id": "80cf274a-f7bf-4b36-b804-7acee76edf42",
   "metadata": {},
   "outputs": [
    {
     "name": "stdout",
     "output_type": "stream",
     "text": [
      "1486\n"
     ]
    }
   ],
   "source": [
    "# 1486 items\n",
    "extended_list = (attributes_list*15)\n",
    "short_list = extended_list.copy()\n",
    "remove_items = ['edu_especial_pub_time','edu_especial_pub_count_15min','bibliotecas_time','bibliotecas_count_15min','centro_edu_amb_time','centro_edu_amb_count_15min',\n",
    "                'paradas_tp_ruta_time','paradas_tp_ruta_count_15min','paradas_tp_metro_time','paradas_tp_metro_count_15min','paradas_tp_tren_time','paradas_tp_tren_count_15min',\n",
    "                'ciclovias_time','ciclovias_count_15min']\n",
    "for item in remove_items:\n",
    "    short_list.remove(item)\n",
    "test_list = short_list.copy()\n",
    "print(len(test_list))"
   ]
  },
  {
   "cell_type": "code",
   "execution_count": 156,
   "id": "6b303a3a-1cec-4f68-a5a8-7bc18438394d",
   "metadata": {},
   "outputs": [
    {
     "name": "stdout",
     "output_type": "stream",
     "text": [
      "1490\n"
     ]
    }
   ],
   "source": [
    "# 1490 items\n",
    "extended_list = (attributes_list*15)\n",
    "short_list = extended_list.copy()\n",
    "remove_items = ['edu_especial_pub_time','edu_especial_pub_count_15min','bibliotecas_time','bibliotecas_count_15min','centro_edu_amb_time','centro_edu_amb_count_15min',\n",
    "                'paradas_tp_ruta_time','paradas_tp_ruta_count_15min','paradas_tp_metro_time','paradas_tp_metro_count_15min']\n",
    "for item in remove_items:\n",
    "    short_list.remove(item)\n",
    "test_list = short_list.copy()\n",
    "print(len(test_list))"
   ]
  },
  {
   "cell_type": "code",
   "execution_count": 154,
   "id": "0caf74c3-98ca-48db-bd8a-2f88fef992d9",
   "metadata": {},
   "outputs": [
    {
     "name": "stdout",
     "output_type": "stream",
     "text": [
      "Escenario 2\n",
      "6 batches\n",
      "Iteración 0\n",
      "Analysing from 0 to 250. (250 datas).\n",
      "Iteración 1\n",
      "Analysing from 250 to 500. (250 datas).\n",
      "Iteración 2\n",
      "Analysing from 500 to 750. (250 datas).\n",
      "Iteración 3\n",
      "Analysing from 750 to 1000. (250 datas).\n",
      "Iteración 4\n",
      "Analysing from 1000 to 1250. (250 datas).\n",
      "Iteración 5\n",
      "Analysing from 1250 to 1500. (240 datas).\n"
     ]
    }
   ],
   "source": [
    "# If possible, analyses by batches of 200 pois.\n",
    "if (len(test_list) % 250) == 0:\n",
    "    print(\"Escenario 1\")\n",
    "    batch_size = len(test_list)/200\n",
    "    print(f\"{int(batch_size)+1} batches\")\n",
    "    for k in range(int(batch_size)+1):\n",
    "        \n",
    "        print(f\"Iteración {k}\")\n",
    "        source_process = test_list[int(200*k):int(200*(1+k))]\n",
    "        print(f\"Analysing from {int(200*k)} to {int(200*(1+k))}. ({len(source_process)} datas).\")\n",
    "        \n",
    "else:\n",
    "    print(\"Escenario 2\")\n",
    "    batch_size = len(test_list)/250\n",
    "    print(f\"{int(batch_size)+1} batches\")\n",
    "    for k in range(int(batch_size)+1):\n",
    "        \n",
    "        print(f\"Iteración {k}\")\n",
    "        source_process = test_list[int(250*k):int(250*(1+k))]\n",
    "        print(f\"Analysing from {int(250*k)} to {int(250*(1+k))}. ({len(source_process)} datas).\")"
   ]
  },
  {
   "cell_type": "code",
   "execution_count": 158,
   "id": "7468eb0b-bf55-45d5-b34a-890b549486a7",
   "metadata": {},
   "outputs": [
    {
     "name": "stdout",
     "output_type": "stream",
     "text": [
      "8 batches\n",
      "Iteración 0\n",
      "Analysing from 0 to 200. (200 datas).\n",
      "Iteración 1\n",
      "Analysing from 200 to 400. (200 datas).\n",
      "Iteración 2\n",
      "Analysing from 400 to 600. (200 datas).\n",
      "Iteración 3\n",
      "Analysing from 600 to 800. (200 datas).\n",
      "Iteración 4\n",
      "Analysing from 800 to 1000. (200 datas).\n",
      "Iteración 5\n",
      "Analysing from 1000 to 1200. (200 datas).\n",
      "Iteración 6\n",
      "Analysing from 1200 to 1400. (200 datas).\n",
      "Iteración 7\n",
      "Analysing from 1400 to 1600. (86 datas).\n"
     ]
    }
   ],
   "source": [
    "# If possible, analyses by batches of 200 pois.\n",
    "if len(test_list) % 250:\n",
    "    batch_size = len(test_list)/201 # <----------- ADDED +1\n",
    "    print(f\"{int(batch_size)+1} batches\")\n",
    "    for k in range(int(batch_size)+1):\n",
    "        \n",
    "        print(f\"Iteración {k}\")\n",
    "        source_process = test_list[int(200*k):int(200*(1+k))]\n",
    "        print(f\"Analysing from {int(200*k)} to {int(200*(1+k))}. ({len(source_process)} datas).\")\n",
    "        \n",
    "else:\n",
    "    batch_size = len(test_list)/251 # <----------- ADDED +1\n",
    "    print(f\"{int(batch_size)+1} batches\")\n",
    "    for k in range(int(batch_size)+1):\n",
    "        \n",
    "        print(f\"Iteración {k}\")\n",
    "        source_process = test_list[int(250*k):int(250*(1+k))]\n",
    "        print(f\"Analysing from {int(250*k)} to {int(250*(1+k))}. ({len(source_process)} datas).\")"
   ]
  },
  {
   "cell_type": "markdown",
   "id": "7b403adf-c516-4f16-9a18-e435cdb9fec6",
   "metadata": {
    "jp-MarkdownHeadingCollapsed": true
   },
   "source": [
    "### Script 27b debugging - Exploration 2: Restaurantes bar cafe batches\n",
    "* The batches created were extracted and analysed until the set() solution was discovered.\n",
    "* __In order to replicate results__ it would be necessary to save the nearest and nodes_distance_prep (batches) used inside pois_time() for each source."
   ]
  },
  {
   "cell_type": "markdown",
   "id": "44364e8a-e869-4fd7-9ca9-00f67972252a",
   "metadata": {
    "jp-MarkdownHeadingCollapsed": true
   },
   "source": [
    "#### Precalculated nearest"
   ]
  },
  {
   "cell_type": "code",
   "execution_count": 216,
   "id": "2bc3aa0c-1d0c-4be7-9cba-bca9bc16b77a",
   "metadata": {},
   "outputs": [
    {
     "name": "stdout",
     "output_type": "stream",
     "text": [
      "(2370, 20)\n",
      "(1486, 20)\n"
     ]
    },
    {
     "data": {
      "text/html": [
       "<div>\n",
       "<style scoped>\n",
       "    .dataframe tbody tr th:only-of-type {\n",
       "        vertical-align: middle;\n",
       "    }\n",
       "\n",
       "    .dataframe tbody tr th {\n",
       "        vertical-align: top;\n",
       "    }\n",
       "\n",
       "    .dataframe thead th {\n",
       "        text-align: right;\n",
       "    }\n",
       "</style>\n",
       "<table border=\"1\" class=\"dataframe\">\n",
       "  <thead>\n",
       "    <tr style=\"text-align: right;\">\n",
       "      <th></th>\n",
       "      <th>rut</th>\n",
       "      <th>dv</th>\n",
       "      <th>vigenci</th>\n",
       "      <th>fecha</th>\n",
       "      <th>tipo_di</th>\n",
       "      <th>calle</th>\n",
       "      <th>numero</th>\n",
       "      <th>bloque</th>\n",
       "      <th>departa</th>\n",
       "      <th>villa_p</th>\n",
       "      <th>ciudad</th>\n",
       "      <th>comuna</th>\n",
       "      <th>region</th>\n",
       "      <th>sngldrs</th>\n",
       "      <th>empresa</th>\n",
       "      <th>index_right</th>\n",
       "      <th>city</th>\n",
       "      <th>osmid</th>\n",
       "      <th>distance_node</th>\n",
       "      <th>geometry</th>\n",
       "    </tr>\n",
       "  </thead>\n",
       "  <tbody>\n",
       "    <tr>\n",
       "      <th>2367</th>\n",
       "      <td>99533970</td>\n",
       "      <td>6</td>\n",
       "      <td>N</td>\n",
       "      <td>2015-12-24</td>\n",
       "      <td>SUCURSAL</td>\n",
       "      <td>SANCHEZ FONTECILLA</td>\n",
       "      <td>310</td>\n",
       "      <td>None</td>\n",
       "      <td>None</td>\n",
       "      <td>None</td>\n",
       "      <td>SANTIAGO</td>\n",
       "      <td>LAS CONDES</td>\n",
       "      <td>XIII REGION METROPOLITANA</td>\n",
       "      <td>SANCHEZ FONTECILLA 310, LAS CONDES, Chile</td>\n",
       "      <td>INVERSIONES GRS S A</td>\n",
       "      <td>0</td>\n",
       "      <td>alamedabuffer_4500m</td>\n",
       "      <td>2910188259</td>\n",
       "      <td>55.432913</td>\n",
       "      <td>POINT (-70.59839 -33.41998)</td>\n",
       "    </tr>\n",
       "    <tr>\n",
       "      <th>2368</th>\n",
       "      <td>99546720</td>\n",
       "      <td>8</td>\n",
       "      <td>N</td>\n",
       "      <td>2013-05-20</td>\n",
       "      <td>SUCURSAL</td>\n",
       "      <td>COMPANIA DE JESUS</td>\n",
       "      <td>2217</td>\n",
       "      <td>None</td>\n",
       "      <td>None</td>\n",
       "      <td>None</td>\n",
       "      <td>SANTIAGO</td>\n",
       "      <td>SANTIAGO</td>\n",
       "      <td>XIII REGION METROPOLITANA</td>\n",
       "      <td>COMPANIA DE JESUS 2217, SANTIAGO, Chile</td>\n",
       "      <td>COMERCIAL BARRERA HERMANOS SPA</td>\n",
       "      <td>0</td>\n",
       "      <td>alamedabuffer_4500m</td>\n",
       "      <td>253411470</td>\n",
       "      <td>42.685830</td>\n",
       "      <td>POINT (-70.66729 -33.44010)</td>\n",
       "    </tr>\n",
       "  </tbody>\n",
       "</table>\n",
       "</div>"
      ],
      "text/plain": [
       "           rut dv vigenci       fecha   tipo_di               calle numero   \n",
       "2367  99533970  6       N  2015-12-24  SUCURSAL  SANCHEZ FONTECILLA    310  \\\n",
       "2368  99546720  8       N  2013-05-20  SUCURSAL   COMPANIA DE JESUS   2217   \n",
       "\n",
       "     bloque departa villa_p    ciudad      comuna                     region   \n",
       "2367   None    None    None  SANTIAGO  LAS CONDES  XIII REGION METROPOLITANA  \\\n",
       "2368   None    None    None  SANTIAGO    SANTIAGO  XIII REGION METROPOLITANA   \n",
       "\n",
       "                                        sngldrs   \n",
       "2367  SANCHEZ FONTECILLA 310, LAS CONDES, Chile  \\\n",
       "2368    COMPANIA DE JESUS 2217, SANTIAGO, Chile   \n",
       "\n",
       "                             empresa  index_right                 city   \n",
       "2367             INVERSIONES GRS S A            0  alamedabuffer_4500m  \\\n",
       "2368  COMERCIAL BARRERA HERMANOS SPA            0  alamedabuffer_4500m   \n",
       "\n",
       "           osmid  distance_node                     geometry  \n",
       "2367  2910188259      55.432913  POINT (-70.59839 -33.41998)  \n",
       "2368   253411470      42.685830  POINT (-70.66729 -33.44010)  "
      ]
     },
     "execution_count": 216,
     "metadata": {},
     "output_type": "execute_result"
    }
   ],
   "source": [
    "nearest_dir = accesibilidad_urbana + \"data/external/santiago/nearest/\"\n",
    "original_nearest = gpd.read_file(nearest_dir + \"nearest_restaurantes_bar_cafe.gpkg\")\n",
    "print(original_nearest.shape)\n",
    "\n",
    "osmid_check_list = list(red_buena_calidad_nearest.reset_index().osmid.unique())\n",
    "original_nearest = original_nearest.loc[original_nearest.osmid.isin(osmid_check_list)]\n",
    "\n",
    "print(original_nearest.shape)\n",
    "original_nearest.tail(2)"
   ]
  },
  {
   "cell_type": "code",
   "execution_count": 226,
   "id": "3980d732-413b-478e-8db4-04b665c4fa78",
   "metadata": {},
   "outputs": [
    {
     "name": "stdout",
     "output_type": "stream",
     "text": [
      "(250, 20)\n"
     ]
    },
    {
     "data": {
      "text/html": [
       "<div>\n",
       "<style scoped>\n",
       "    .dataframe tbody tr th:only-of-type {\n",
       "        vertical-align: middle;\n",
       "    }\n",
       "\n",
       "    .dataframe tbody tr th {\n",
       "        vertical-align: top;\n",
       "    }\n",
       "\n",
       "    .dataframe thead th {\n",
       "        text-align: right;\n",
       "    }\n",
       "</style>\n",
       "<table border=\"1\" class=\"dataframe\">\n",
       "  <thead>\n",
       "    <tr style=\"text-align: right;\">\n",
       "      <th></th>\n",
       "      <th>rut</th>\n",
       "      <th>dv</th>\n",
       "      <th>vigenci</th>\n",
       "      <th>fecha</th>\n",
       "      <th>tipo_di</th>\n",
       "      <th>calle</th>\n",
       "      <th>numero</th>\n",
       "      <th>bloque</th>\n",
       "      <th>departa</th>\n",
       "      <th>villa_p</th>\n",
       "      <th>ciudad</th>\n",
       "      <th>comuna</th>\n",
       "      <th>region</th>\n",
       "      <th>sngldrs</th>\n",
       "      <th>empresa</th>\n",
       "      <th>index_right</th>\n",
       "      <th>city</th>\n",
       "      <th>osmid</th>\n",
       "      <th>distance_node</th>\n",
       "      <th>geometry</th>\n",
       "    </tr>\n",
       "  </thead>\n",
       "  <tbody>\n",
       "    <tr>\n",
       "      <th>366</th>\n",
       "      <td>76152699</td>\n",
       "      <td>5</td>\n",
       "      <td>S</td>\n",
       "      <td>2016-02-02</td>\n",
       "      <td>SUCURSAL</td>\n",
       "      <td>AV PAJARITOS</td>\n",
       "      <td>4500</td>\n",
       "      <td>None</td>\n",
       "      <td>9</td>\n",
       "      <td>None</td>\n",
       "      <td>SANTIAGO</td>\n",
       "      <td>MAIPU</td>\n",
       "      <td>XIII REGION METROPOLITANA</td>\n",
       "      <td>AV PAJARITOS 4500, MAIPU, Chile</td>\n",
       "      <td>PJ  CHILE SPA</td>\n",
       "      <td>0</td>\n",
       "      <td>alamedabuffer_4500m</td>\n",
       "      <td>443979608</td>\n",
       "      <td>37.375551</td>\n",
       "      <td>POINT (-70.74829 -33.48022)</td>\n",
       "    </tr>\n",
       "  </tbody>\n",
       "</table>\n",
       "</div>"
      ],
      "text/plain": [
       "          rut dv vigenci       fecha   tipo_di         calle numero bloque   \n",
       "366  76152699  5       S  2016-02-02  SUCURSAL  AV PAJARITOS   4500   None  \\\n",
       "\n",
       "    departa villa_p    ciudad comuna                     region   \n",
       "366       9    None  SANTIAGO  MAIPU  XIII REGION METROPOLITANA  \\\n",
       "\n",
       "                             sngldrs        empresa  index_right   \n",
       "366  AV PAJARITOS 4500, MAIPU, Chile  PJ  CHILE SPA            0  \\\n",
       "\n",
       "                    city      osmid  distance_node   \n",
       "366  alamedabuffer_4500m  443979608      37.375551  \\\n",
       "\n",
       "                        geometry  \n",
       "366  POINT (-70.74829 -33.48022)  "
      ]
     },
     "execution_count": 226,
     "metadata": {},
     "output_type": "execute_result"
    }
   ],
   "source": [
    "test = original_nearest.iloc[0:250]\n",
    "print(test.shape)\n",
    "test.tail(1)"
   ]
  },
  {
   "cell_type": "markdown",
   "id": "fdafa5ed-a06f-4274-ab3f-0508f5b7e3ec",
   "metadata": {},
   "source": [
    "#### Red buena calidad"
   ]
  },
  {
   "cell_type": "code",
   "execution_count": 327,
   "id": "2ec1d3e4-6b41-4dee-a4bc-dbfa64214c7a",
   "metadata": {},
   "outputs": [],
   "source": [
    "osmid = 254346788\n",
    "network = 'testarea' #alamedabuffer or testarea"
   ]
  },
  {
   "cell_type": "code",
   "execution_count": 323,
   "id": "bd809a38-e632-4ca5-9bc4-5b410eb61452",
   "metadata": {},
   "outputs": [
    {
     "name": "stdout",
     "output_type": "stream",
     "text": [
      "Batch 0: 1.\n"
     ]
    }
   ],
   "source": [
    "red_buena_calidad_nearest = gpd.read_file(script27_output_dir + f\"red_buena_calidad_batches_{network}/restaurantes_nearest.gpkg\")\n",
    "red_buena_calidad_batch_0 = gpd.read_file(script27_output_dir + f\"red_buena_calidad_batches_{network}/restaurantes_batch0.gpkg\")\n",
    "print(f\"Batch 0: {len(red_buena_calidad_batch_0.loc[red_buena_calidad_batch_0.osmid==osmid])}.\")\n",
    "\n",
    "if network == 'alamedabuffer':\n",
    "    red_buena_calidad_batch_1 = gpd.read_file(script27_output_dir + f\"red_buena_calidad_batches_{network}/restaurantes_batch1.gpkg\")\n",
    "    print(f\"Batch 1: {len(red_buena_calidad_batch_1.loc[red_buena_calidad_batch_1.osmid==osmid])}.\")\n",
    "    red_buena_calidad_batch_2 = gpd.read_file(script27_output_dir + f\"red_buena_calidad_batches_{network}/restaurantes_batch2.gpkg\")\n",
    "    print(f\"Batch 2: {len(red_buena_calidad_batch_2.loc[red_buena_calidad_batch_2.osmid==osmid])}.\")\n",
    "    red_buena_calidad_batch_3 = gpd.read_file(script27_output_dir + f\"red_buena_calidad_batches_{network}/restaurantes_batch3.gpkg\")\n",
    "    print(f\"Batch 3: {len(red_buena_calidad_batch_3.loc[red_buena_calidad_batch_3.osmid==osmid])}.\")\n",
    "    red_buena_calidad_batch_4 = gpd.read_file(script27_output_dir + f\"red_buena_calidad_batches_{network}/restaurantes_batch4.gpkg\")\n",
    "    print(f\"Batch 4: {len(red_buena_calidad_batch_4.loc[red_buena_calidad_batch_4.osmid==osmid])}.\")\n",
    "    red_buena_calidad_batch_5 = gpd.read_file(script27_output_dir + f\"red_buena_calidad_batches_{network}/restaurantes_batch5.gpkg\")\n",
    "    print(f\"Batch 5: {len(red_buena_calidad_batch_5.loc[red_buena_calidad_batch_5.osmid==osmid])}.\")"
   ]
  },
  {
   "cell_type": "code",
   "execution_count": 328,
   "id": "e4d912a0-b687-4542-be77-1fce0f0847a2",
   "metadata": {},
   "outputs": [
    {
     "data": {
      "text/html": [
       "<div>\n",
       "<style scoped>\n",
       "    .dataframe tbody tr th:only-of-type {\n",
       "        vertical-align: middle;\n",
       "    }\n",
       "\n",
       "    .dataframe tbody tr th {\n",
       "        vertical-align: top;\n",
       "    }\n",
       "\n",
       "    .dataframe thead th {\n",
       "        text-align: right;\n",
       "    }\n",
       "</style>\n",
       "<table border=\"1\" class=\"dataframe\">\n",
       "  <thead>\n",
       "    <tr style=\"text-align: right;\">\n",
       "      <th></th>\n",
       "      <th>osmid</th>\n",
       "      <th>index</th>\n",
       "      <th>x</th>\n",
       "      <th>y</th>\n",
       "      <th>street_count</th>\n",
       "      <th>dist_restaurantes_bar_cafe</th>\n",
       "      <th>restaurantes_bar_cafe_15min</th>\n",
       "      <th>geometry</th>\n",
       "    </tr>\n",
       "  </thead>\n",
       "  <tbody>\n",
       "    <tr>\n",
       "      <th>2</th>\n",
       "      <td>254346788</td>\n",
       "      <td>2</td>\n",
       "      <td>-70.674783</td>\n",
       "      <td>-33.434185</td>\n",
       "      <td>4</td>\n",
       "      <td>3.61636</td>\n",
       "      <td>5</td>\n",
       "      <td>POINT (-70.67478 -33.43419)</td>\n",
       "    </tr>\n",
       "  </tbody>\n",
       "</table>\n",
       "</div>"
      ],
      "text/plain": [
       "       osmid  index          x          y  street_count   \n",
       "2  254346788      2 -70.674783 -33.434185             4  \\\n",
       "\n",
       "   dist_restaurantes_bar_cafe  restaurantes_bar_cafe_15min   \n",
       "2                     3.61636                            5  \\\n",
       "\n",
       "                      geometry  \n",
       "2  POINT (-70.67478 -33.43419)  "
      ]
     },
     "execution_count": 328,
     "metadata": {},
     "output_type": "execute_result"
    }
   ],
   "source": [
    "red_buena_calidad_batch_0.loc[red_buena_calidad_batch_0.osmid==osmid]"
   ]
  },
  {
   "cell_type": "code",
   "execution_count": 329,
   "id": "2db21ddd-7e5d-4815-953a-6d09909e5da0",
   "metadata": {},
   "outputs": [
    {
     "data": {
      "text/html": [
       "<div>\n",
       "<style scoped>\n",
       "    .dataframe tbody tr th:only-of-type {\n",
       "        vertical-align: middle;\n",
       "    }\n",
       "\n",
       "    .dataframe tbody tr th {\n",
       "        vertical-align: top;\n",
       "    }\n",
       "\n",
       "    .dataframe thead th {\n",
       "        text-align: right;\n",
       "    }\n",
       "</style>\n",
       "<table border=\"1\" class=\"dataframe\">\n",
       "  <thead>\n",
       "    <tr style=\"text-align: right;\">\n",
       "      <th></th>\n",
       "      <th>osmid</th>\n",
       "      <th>index</th>\n",
       "      <th>x</th>\n",
       "      <th>y</th>\n",
       "      <th>street_count</th>\n",
       "      <th>dist_restaurantes_bar_cafe</th>\n",
       "      <th>restaurantes_bar_cafe_15min</th>\n",
       "      <th>geometry</th>\n",
       "    </tr>\n",
       "  </thead>\n",
       "  <tbody>\n",
       "  </tbody>\n",
       "</table>\n",
       "</div>"
      ],
      "text/plain": [
       "Empty GeoDataFrame\n",
       "Columns: [osmid, index, x, y, street_count, dist_restaurantes_bar_cafe, restaurantes_bar_cafe_15min, geometry]\n",
       "Index: []"
      ]
     },
     "execution_count": 329,
     "metadata": {},
     "output_type": "execute_result"
    }
   ],
   "source": [
    "red_buena_calidad_batch_1.loc[red_buena_calidad_batch_1.osmid==osmid]"
   ]
  },
  {
   "cell_type": "code",
   "execution_count": 317,
   "id": "2f565f00-7b59-46e9-bef5-fa0a5b9f3bc7",
   "metadata": {},
   "outputs": [
    {
     "data": {
      "text/html": [
       "<div>\n",
       "<style scoped>\n",
       "    .dataframe tbody tr th:only-of-type {\n",
       "        vertical-align: middle;\n",
       "    }\n",
       "\n",
       "    .dataframe tbody tr th {\n",
       "        vertical-align: top;\n",
       "    }\n",
       "\n",
       "    .dataframe thead th {\n",
       "        text-align: right;\n",
       "    }\n",
       "</style>\n",
       "<table border=\"1\" class=\"dataframe\">\n",
       "  <thead>\n",
       "    <tr style=\"text-align: right;\">\n",
       "      <th></th>\n",
       "      <th>osmid</th>\n",
       "      <th>index</th>\n",
       "      <th>x</th>\n",
       "      <th>y</th>\n",
       "      <th>street_count</th>\n",
       "      <th>dist_restaurantes_bar_cafe</th>\n",
       "      <th>restaurantes_bar_cafe_15min</th>\n",
       "      <th>geometry</th>\n",
       "    </tr>\n",
       "  </thead>\n",
       "  <tbody>\n",
       "    <tr>\n",
       "      <th>1256</th>\n",
       "      <td>254343802</td>\n",
       "      <td>1522</td>\n",
       "      <td>-70.672945</td>\n",
       "      <td>-33.435041</td>\n",
       "      <td>4</td>\n",
       "      <td>0.0</td>\n",
       "      <td>1</td>\n",
       "      <td>POINT (-70.67295 -33.43504)</td>\n",
       "    </tr>\n",
       "  </tbody>\n",
       "</table>\n",
       "</div>"
      ],
      "text/plain": [
       "          osmid  index          x          y  street_count   \n",
       "1256  254343802   1522 -70.672945 -33.435041             4  \\\n",
       "\n",
       "      dist_restaurantes_bar_cafe  restaurantes_bar_cafe_15min   \n",
       "1256                         0.0                            1  \\\n",
       "\n",
       "                         geometry  \n",
       "1256  POINT (-70.67295 -33.43504)  "
      ]
     },
     "execution_count": 317,
     "metadata": {},
     "output_type": "execute_result"
    }
   ],
   "source": [
    "red_buena_calidad_batch_2.loc[red_buena_calidad_batch_2.osmid==osmid]"
   ]
  },
  {
   "cell_type": "code",
   "execution_count": 318,
   "id": "7ed9feef-6c86-4387-b366-bd25adb24165",
   "metadata": {},
   "outputs": [
    {
     "data": {
      "text/html": [
       "<div>\n",
       "<style scoped>\n",
       "    .dataframe tbody tr th:only-of-type {\n",
       "        vertical-align: middle;\n",
       "    }\n",
       "\n",
       "    .dataframe tbody tr th {\n",
       "        vertical-align: top;\n",
       "    }\n",
       "\n",
       "    .dataframe thead th {\n",
       "        text-align: right;\n",
       "    }\n",
       "</style>\n",
       "<table border=\"1\" class=\"dataframe\">\n",
       "  <thead>\n",
       "    <tr style=\"text-align: right;\">\n",
       "      <th></th>\n",
       "      <th>osmid</th>\n",
       "      <th>index</th>\n",
       "      <th>x</th>\n",
       "      <th>y</th>\n",
       "      <th>street_count</th>\n",
       "      <th>dist_restaurantes_bar_cafe</th>\n",
       "      <th>restaurantes_bar_cafe_15min</th>\n",
       "      <th>geometry</th>\n",
       "    </tr>\n",
       "  </thead>\n",
       "  <tbody>\n",
       "    <tr>\n",
       "      <th>1255</th>\n",
       "      <td>254343802</td>\n",
       "      <td>1522</td>\n",
       "      <td>-70.672945</td>\n",
       "      <td>-33.435041</td>\n",
       "      <td>4</td>\n",
       "      <td>0.0</td>\n",
       "      <td>2</td>\n",
       "      <td>POINT (-70.67295 -33.43504)</td>\n",
       "    </tr>\n",
       "  </tbody>\n",
       "</table>\n",
       "</div>"
      ],
      "text/plain": [
       "          osmid  index          x          y  street_count   \n",
       "1255  254343802   1522 -70.672945 -33.435041             4  \\\n",
       "\n",
       "      dist_restaurantes_bar_cafe  restaurantes_bar_cafe_15min   \n",
       "1255                         0.0                            2  \\\n",
       "\n",
       "                         geometry  \n",
       "1255  POINT (-70.67295 -33.43504)  "
      ]
     },
     "execution_count": 318,
     "metadata": {},
     "output_type": "execute_result"
    }
   ],
   "source": [
    "red_buena_calidad_batch_3.loc[red_buena_calidad_batch_3.osmid==osmid]"
   ]
  },
  {
   "cell_type": "code",
   "execution_count": 330,
   "id": "61a905c5-9e82-436b-a5ef-6be7395441b5",
   "metadata": {},
   "outputs": [
    {
     "data": {
      "text/html": [
       "<div>\n",
       "<style scoped>\n",
       "    .dataframe tbody tr th:only-of-type {\n",
       "        vertical-align: middle;\n",
       "    }\n",
       "\n",
       "    .dataframe tbody tr th {\n",
       "        vertical-align: top;\n",
       "    }\n",
       "\n",
       "    .dataframe thead th {\n",
       "        text-align: right;\n",
       "    }\n",
       "</style>\n",
       "<table border=\"1\" class=\"dataframe\">\n",
       "  <thead>\n",
       "    <tr style=\"text-align: right;\">\n",
       "      <th></th>\n",
       "      <th>osmid</th>\n",
       "      <th>index</th>\n",
       "      <th>x</th>\n",
       "      <th>y</th>\n",
       "      <th>street_count</th>\n",
       "      <th>dist_restaurantes_bar_cafe</th>\n",
       "      <th>restaurantes_bar_cafe_15min</th>\n",
       "      <th>geometry</th>\n",
       "    </tr>\n",
       "  </thead>\n",
       "  <tbody>\n",
       "  </tbody>\n",
       "</table>\n",
       "</div>"
      ],
      "text/plain": [
       "Empty GeoDataFrame\n",
       "Columns: [osmid, index, x, y, street_count, dist_restaurantes_bar_cafe, restaurantes_bar_cafe_15min, geometry]\n",
       "Index: []"
      ]
     },
     "execution_count": 330,
     "metadata": {},
     "output_type": "execute_result"
    }
   ],
   "source": [
    "red_buena_calidad_batch_4.loc[red_buena_calidad_batch_4.osmid==osmid]"
   ]
  },
  {
   "cell_type": "code",
   "execution_count": 331,
   "id": "cd01365d-0c06-4dc0-b7b8-4c8da67d9e99",
   "metadata": {},
   "outputs": [
    {
     "data": {
      "text/html": [
       "<div>\n",
       "<style scoped>\n",
       "    .dataframe tbody tr th:only-of-type {\n",
       "        vertical-align: middle;\n",
       "    }\n",
       "\n",
       "    .dataframe tbody tr th {\n",
       "        vertical-align: top;\n",
       "    }\n",
       "\n",
       "    .dataframe thead th {\n",
       "        text-align: right;\n",
       "    }\n",
       "</style>\n",
       "<table border=\"1\" class=\"dataframe\">\n",
       "  <thead>\n",
       "    <tr style=\"text-align: right;\">\n",
       "      <th></th>\n",
       "      <th>osmid</th>\n",
       "      <th>index</th>\n",
       "      <th>x</th>\n",
       "      <th>y</th>\n",
       "      <th>street_count</th>\n",
       "      <th>dist_restaurantes_bar_cafe</th>\n",
       "      <th>restaurantes_bar_cafe_15min</th>\n",
       "      <th>geometry</th>\n",
       "    </tr>\n",
       "  </thead>\n",
       "  <tbody>\n",
       "  </tbody>\n",
       "</table>\n",
       "</div>"
      ],
      "text/plain": [
       "Empty GeoDataFrame\n",
       "Columns: [osmid, index, x, y, street_count, dist_restaurantes_bar_cafe, restaurantes_bar_cafe_15min, geometry]\n",
       "Index: []"
      ]
     },
     "execution_count": 331,
     "metadata": {},
     "output_type": "execute_result"
    }
   ],
   "source": [
    "red_buena_calidad_batch_5.loc[red_buena_calidad_batch_5.osmid==osmid]"
   ]
  },
  {
   "cell_type": "code",
   "execution_count": 304,
   "id": "645185dd-c18b-47bf-b07c-5cd2ed664d2b",
   "metadata": {},
   "outputs": [
    {
     "name": "stdout",
     "output_type": "stream",
     "text": [
      "4\n",
      "[1176 1468 1497 1585]\n"
     ]
    }
   ],
   "source": [
    "nearest_in_node = red_buena_calidad_nearest.loc[red_buena_calidad_nearest.osmid==osmid]\n",
    "print(len(nearest_in_node))\n",
    "print(nearest_in_node.original_id.unique())"
   ]
  },
  {
   "cell_type": "markdown",
   "id": "c5b6bd78-879c-449c-a41d-93dc7c816cd0",
   "metadata": {
    "jp-MarkdownHeadingCollapsed": true
   },
   "source": [
    "#### Norte sur"
   ]
  },
  {
   "cell_type": "code",
   "execution_count": 187,
   "id": "0e0caa6c-d3af-4c6e-b251-16c62e48b06b",
   "metadata": {},
   "outputs": [],
   "source": [
    "norte_sur_batch_0 = gpd.read_file(script27_output_dir + \"norte_sur_batches/restaurantes_batch0.gpkg\")\n",
    "norte_sur_batch_1 = gpd.read_file(script27_output_dir + \"norte_sur_batches/restaurantes_batch1.gpkg\")\n",
    "norte_sur_batch_2 = gpd.read_file(script27_output_dir + \"norte_sur_batches/restaurantes_batch2.gpkg\")\n",
    "norte_sur_batch_3 = gpd.read_file(script27_output_dir + \"norte_sur_batches/restaurantes_batch3.gpkg\")\n",
    "norte_sur_batch_4 = gpd.read_file(script27_output_dir + \"norte_sur_batches/restaurantes_batch4.gpkg\")\n",
    "norte_sur_batch_5 = gpd.read_file(script27_output_dir + \"norte_sur_batches/restaurantes_batch5.gpkg\")\n",
    "norte_sur_nearest = gpd.read_file(script27_output_dir + \"norte_sur_batches/restaurantes_nearest.gpkg\")"
   ]
  },
  {
   "cell_type": "code",
   "execution_count": 204,
   "id": "d5de2e98-fd84-4fbe-85c7-f076a8b68114",
   "metadata": {},
   "outputs": [
    {
     "name": "stdout",
     "output_type": "stream",
     "text": [
      "4\n",
      "[1176 1468 1497 1585]\n"
     ]
    }
   ],
   "source": [
    "nearest_in_node = norte_sur_nearest.loc[norte_sur_nearest.osmid==osmid]\n",
    "print(len(nearest_in_node))\n",
    "print(nearest_in_node.original_id.unique())"
   ]
  },
  {
   "cell_type": "code",
   "execution_count": 241,
   "id": "8113ff90-e266-46b6-8825-f1a9364cba56",
   "metadata": {},
   "outputs": [
    {
     "name": "stdout",
     "output_type": "stream",
     "text": [
      "0\n",
      "0\n",
      "0\n",
      "1\n",
      "0\n",
      "0\n"
     ]
    }
   ],
   "source": [
    "print(len(norte_sur_batch_0.loc[norte_sur_batch_0.osmid==osmid]))\n",
    "print(len(norte_sur_batch_1.loc[norte_sur_batch_1.osmid==osmid]))\n",
    "print(len(norte_sur_batch_2.loc[norte_sur_batch_2.osmid==osmid]))\n",
    "print(len(norte_sur_batch_3.loc[norte_sur_batch_3.osmid==osmid]))\n",
    "print(len(norte_sur_batch_4.loc[norte_sur_batch_4.osmid==osmid]))\n",
    "print(len(norte_sur_batch_5.loc[norte_sur_batch_5.osmid==osmid]))"
   ]
  },
  {
   "cell_type": "code",
   "execution_count": 242,
   "id": "c81dfa57-539f-4ae0-a1c8-a9e17959f6cc",
   "metadata": {},
   "outputs": [
    {
     "data": {
      "text/html": [
       "<div>\n",
       "<style scoped>\n",
       "    .dataframe tbody tr th:only-of-type {\n",
       "        vertical-align: middle;\n",
       "    }\n",
       "\n",
       "    .dataframe tbody tr th {\n",
       "        vertical-align: top;\n",
       "    }\n",
       "\n",
       "    .dataframe thead th {\n",
       "        text-align: right;\n",
       "    }\n",
       "</style>\n",
       "<table border=\"1\" class=\"dataframe\">\n",
       "  <thead>\n",
       "    <tr style=\"text-align: right;\">\n",
       "      <th></th>\n",
       "      <th>osmid</th>\n",
       "      <th>index</th>\n",
       "      <th>x</th>\n",
       "      <th>y</th>\n",
       "      <th>street_count</th>\n",
       "      <th>dist_restaurantes_bar_cafe</th>\n",
       "      <th>restaurantes_bar_cafe_15min</th>\n",
       "      <th>geometry</th>\n",
       "    </tr>\n",
       "  </thead>\n",
       "  <tbody>\n",
       "    <tr>\n",
       "      <th>1290</th>\n",
       "      <td>254346790</td>\n",
       "      <td>1581</td>\n",
       "      <td>-70.673038</td>\n",
       "      <td>-33.434066</td>\n",
       "      <td>4</td>\n",
       "      <td>1.45068</td>\n",
       "      <td>2</td>\n",
       "      <td>POINT (-70.67304 -33.43407)</td>\n",
       "    </tr>\n",
       "  </tbody>\n",
       "</table>\n",
       "</div>"
      ],
      "text/plain": [
       "          osmid  index          x          y  street_count   \n",
       "1290  254346790   1581 -70.673038 -33.434066             4  \\\n",
       "\n",
       "      dist_restaurantes_bar_cafe  restaurantes_bar_cafe_15min   \n",
       "1290                     1.45068                            2  \\\n",
       "\n",
       "                         geometry  \n",
       "1290  POINT (-70.67304 -33.43407)  "
      ]
     },
     "execution_count": 242,
     "metadata": {},
     "output_type": "execute_result"
    }
   ],
   "source": [
    "norte_sur_batch_3.loc[norte_sur_batch_3.osmid==osmid]"
   ]
  },
  {
   "cell_type": "markdown",
   "id": "344471b1-aa78-462b-80b9-8573db463244",
   "metadata": {
    "jp-MarkdownHeadingCollapsed": true
   },
   "source": [
    "## Script 27b debugging - Null and ceros in data problem"
   ]
  },
  {
   "cell_type": "markdown",
   "id": "90dd7590-7e55-4354-adf7-42ff3ecc7150",
   "metadata": {},
   "source": [
    "#### * __Problem:__ After implementing aup.get_seeds() solution, final data of function pois_time() has NaNs in time and ceros in count.\n",
    "#### * __Approach:__ Running farmacias only in red_completa only and inspect pois_time() outputs -->\n",
    "#### * __Result:__ Batch analysis to all batches analysis (merge) inside pois_time() was done incorrectly. Fixed."
   ]
  },
  {
   "cell_type": "code",
   "execution_count": 7,
   "id": "52079725-99af-4121-8fdf-6948acc865f4",
   "metadata": {},
   "outputs": [],
   "source": [
    "test_dir = accesibilidad_urbana + \"data/external/debugging/pois_time/\""
   ]
  },
  {
   "cell_type": "markdown",
   "id": "22bd4aa5-4381-4e1d-ac11-4d0f850310d1",
   "metadata": {},
   "source": [
    "### Approach 1: Running farmacias only in red_completa only and inspect pois_time() outputs"
   ]
  },
  {
   "cell_type": "markdown",
   "id": "12b0672d-e81b-4e47-ba2f-e4686e978c61",
   "metadata": {},
   "source": [
    "#### __Problem 1:__ Batches add up to null in nodes_time"
   ]
  },
  {
   "cell_type": "code",
   "execution_count": 19,
   "id": "d1c90d9a-16b8-4a4a-bb23-3aebf794d882",
   "metadata": {},
   "outputs": [],
   "source": [
    "farmacias_batch0 = gpd.read_file(test_dir + \"01_current_situation/nodes_distance_prep_farmacia_250batch0.gpkg\")\n",
    "farmacias_batch1 = gpd.read_file(test_dir + \"01_current_situation/nodes_distance_prep_farmacia_250batch1.gpkg\")\n",
    "farmacias_batch2 = gpd.read_file(test_dir + \"01_current_situation/nodes_distance_prep_farmacia_250batch2.gpkg\")\n",
    "farmacias_batch3 = gpd.read_file(test_dir + \"01_current_situation/nodes_distance_prep_farmacia_250batch3.gpkg\")"
   ]
  },
  {
   "cell_type": "code",
   "execution_count": 9,
   "id": "20ae6954-faf5-4fc5-802e-becd8f2b188f",
   "metadata": {},
   "outputs": [],
   "source": [
    "# Node that should be assigned to a farmacia\n",
    "farmacia_osmid = 6067607409\n",
    "# Node that's very close to that farmacia\n",
    "near_osmid = 4764330555"
   ]
  },
  {
   "cell_type": "code",
   "execution_count": 10,
   "id": "349d92c8-7dec-4383-b4bb-49f479e1a167",
   "metadata": {},
   "outputs": [
    {
     "name": "stdout",
     "output_type": "stream",
     "text": [
      "Batch 0: 1.\n",
      "Batch 1: 1.\n",
      "Batch 2: 1.\n",
      "Batch 3: 1.\n"
     ]
    }
   ],
   "source": [
    "print(f\"Batch 0: {len(farmacias_batch0.loc[farmacias_batch0.osmid==farmacia_osmid])}.\")\n",
    "print(f\"Batch 1: {len(farmacias_batch1.loc[farmacias_batch1.osmid==farmacia_osmid])}.\")\n",
    "print(f\"Batch 2: {len(farmacias_batch2.loc[farmacias_batch2.osmid==farmacia_osmid])}.\")\n",
    "print(f\"Batch 3: {len(farmacias_batch3.loc[farmacias_batch3.osmid==farmacia_osmid])}.\")"
   ]
  },
  {
   "cell_type": "code",
   "execution_count": 25,
   "id": "c7c49dbb-692c-4b5b-8e3d-5a033d3fd095",
   "metadata": {},
   "outputs": [
    {
     "data": {
      "text/html": [
       "<div>\n",
       "<style scoped>\n",
       "    .dataframe tbody tr th:only-of-type {\n",
       "        vertical-align: middle;\n",
       "    }\n",
       "\n",
       "    .dataframe tbody tr th {\n",
       "        vertical-align: top;\n",
       "    }\n",
       "\n",
       "    .dataframe thead th {\n",
       "        text-align: right;\n",
       "    }\n",
       "</style>\n",
       "<table border=\"1\" class=\"dataframe\">\n",
       "  <thead>\n",
       "    <tr style=\"text-align: right;\">\n",
       "      <th></th>\n",
       "      <th>osmid</th>\n",
       "      <th>index</th>\n",
       "      <th>x</th>\n",
       "      <th>y</th>\n",
       "      <th>street_count</th>\n",
       "      <th>dist_farmacia</th>\n",
       "      <th>farmacia_15min</th>\n",
       "      <th>geometry</th>\n",
       "    </tr>\n",
       "  </thead>\n",
       "  <tbody>\n",
       "    <tr>\n",
       "      <th>29587</th>\n",
       "      <td>6067607409</td>\n",
       "      <td>29696</td>\n",
       "      <td>-70.712556</td>\n",
       "      <td>-33.457744</td>\n",
       "      <td>3</td>\n",
       "      <td>6.958944</td>\n",
       "      <td>3</td>\n",
       "      <td>POINT (-70.71256 -33.45774)</td>\n",
       "    </tr>\n",
       "  </tbody>\n",
       "</table>\n",
       "</div>"
      ],
      "text/plain": [
       "            osmid  index          x          y  street_count  dist_farmacia   \n",
       "29587  6067607409  29696 -70.712556 -33.457744             3       6.958944  \\\n",
       "\n",
       "       farmacia_15min                     geometry  \n",
       "29587               3  POINT (-70.71256 -33.45774)  "
      ]
     },
     "execution_count": 25,
     "metadata": {},
     "output_type": "execute_result"
    }
   ],
   "source": [
    "farmacias_batch0.loc[farmacias_batch0.osmid==farmacia_osmid]"
   ]
  },
  {
   "cell_type": "code",
   "execution_count": 26,
   "id": "f716d556-7ef9-4447-ba65-3d102530f7c5",
   "metadata": {},
   "outputs": [
    {
     "data": {
      "text/html": [
       "<div>\n",
       "<style scoped>\n",
       "    .dataframe tbody tr th:only-of-type {\n",
       "        vertical-align: middle;\n",
       "    }\n",
       "\n",
       "    .dataframe tbody tr th {\n",
       "        vertical-align: top;\n",
       "    }\n",
       "\n",
       "    .dataframe thead th {\n",
       "        text-align: right;\n",
       "    }\n",
       "</style>\n",
       "<table border=\"1\" class=\"dataframe\">\n",
       "  <thead>\n",
       "    <tr style=\"text-align: right;\">\n",
       "      <th></th>\n",
       "      <th>osmid</th>\n",
       "      <th>index</th>\n",
       "      <th>x</th>\n",
       "      <th>y</th>\n",
       "      <th>street_count</th>\n",
       "      <th>dist_farmacia</th>\n",
       "      <th>farmacia_15min</th>\n",
       "      <th>geometry</th>\n",
       "    </tr>\n",
       "  </thead>\n",
       "  <tbody>\n",
       "    <tr>\n",
       "      <th>29587</th>\n",
       "      <td>6067607409</td>\n",
       "      <td>29696</td>\n",
       "      <td>-70.712556</td>\n",
       "      <td>-33.457744</td>\n",
       "      <td>3</td>\n",
       "      <td>14.6326</td>\n",
       "      <td>1</td>\n",
       "      <td>POINT (-70.71256 -33.45774)</td>\n",
       "    </tr>\n",
       "  </tbody>\n",
       "</table>\n",
       "</div>"
      ],
      "text/plain": [
       "            osmid  index          x          y  street_count  dist_farmacia   \n",
       "29587  6067607409  29696 -70.712556 -33.457744             3        14.6326  \\\n",
       "\n",
       "       farmacia_15min                     geometry  \n",
       "29587               1  POINT (-70.71256 -33.45774)  "
      ]
     },
     "execution_count": 26,
     "metadata": {},
     "output_type": "execute_result"
    }
   ],
   "source": [
    "farmacias_batch1.loc[farmacias_batch1.osmid==farmacia_osmid]"
   ]
  },
  {
   "cell_type": "code",
   "execution_count": 27,
   "id": "2c04e967-0dc6-4661-871a-36f3aa909651",
   "metadata": {},
   "outputs": [
    {
     "data": {
      "text/html": [
       "<div>\n",
       "<style scoped>\n",
       "    .dataframe tbody tr th:only-of-type {\n",
       "        vertical-align: middle;\n",
       "    }\n",
       "\n",
       "    .dataframe tbody tr th {\n",
       "        vertical-align: top;\n",
       "    }\n",
       "\n",
       "    .dataframe thead th {\n",
       "        text-align: right;\n",
       "    }\n",
       "</style>\n",
       "<table border=\"1\" class=\"dataframe\">\n",
       "  <thead>\n",
       "    <tr style=\"text-align: right;\">\n",
       "      <th></th>\n",
       "      <th>osmid</th>\n",
       "      <th>index</th>\n",
       "      <th>x</th>\n",
       "      <th>y</th>\n",
       "      <th>street_count</th>\n",
       "      <th>dist_farmacia</th>\n",
       "      <th>farmacia_15min</th>\n",
       "      <th>geometry</th>\n",
       "    </tr>\n",
       "  </thead>\n",
       "  <tbody>\n",
       "    <tr>\n",
       "      <th>29587</th>\n",
       "      <td>6067607409</td>\n",
       "      <td>29696</td>\n",
       "      <td>-70.712556</td>\n",
       "      <td>-33.457744</td>\n",
       "      <td>3</td>\n",
       "      <td>0.0</td>\n",
       "      <td>3</td>\n",
       "      <td>POINT (-70.71256 -33.45774)</td>\n",
       "    </tr>\n",
       "  </tbody>\n",
       "</table>\n",
       "</div>"
      ],
      "text/plain": [
       "            osmid  index          x          y  street_count  dist_farmacia   \n",
       "29587  6067607409  29696 -70.712556 -33.457744             3            0.0  \\\n",
       "\n",
       "       farmacia_15min                     geometry  \n",
       "29587               3  POINT (-70.71256 -33.45774)  "
      ]
     },
     "execution_count": 27,
     "metadata": {},
     "output_type": "execute_result"
    }
   ],
   "source": [
    "farmacias_batch2.loc[farmacias_batch2.osmid==farmacia_osmid]"
   ]
  },
  {
   "cell_type": "code",
   "execution_count": 28,
   "id": "c42a1c83-4e92-495c-b990-8de2c4e593bd",
   "metadata": {},
   "outputs": [
    {
     "data": {
      "text/html": [
       "<div>\n",
       "<style scoped>\n",
       "    .dataframe tbody tr th:only-of-type {\n",
       "        vertical-align: middle;\n",
       "    }\n",
       "\n",
       "    .dataframe tbody tr th {\n",
       "        vertical-align: top;\n",
       "    }\n",
       "\n",
       "    .dataframe thead th {\n",
       "        text-align: right;\n",
       "    }\n",
       "</style>\n",
       "<table border=\"1\" class=\"dataframe\">\n",
       "  <thead>\n",
       "    <tr style=\"text-align: right;\">\n",
       "      <th></th>\n",
       "      <th>osmid</th>\n",
       "      <th>index</th>\n",
       "      <th>x</th>\n",
       "      <th>y</th>\n",
       "      <th>street_count</th>\n",
       "      <th>dist_farmacia</th>\n",
       "      <th>farmacia_15min</th>\n",
       "      <th>geometry</th>\n",
       "    </tr>\n",
       "  </thead>\n",
       "  <tbody>\n",
       "    <tr>\n",
       "      <th>29587</th>\n",
       "      <td>6067607409</td>\n",
       "      <td>29696</td>\n",
       "      <td>-70.712556</td>\n",
       "      <td>-33.457744</td>\n",
       "      <td>3</td>\n",
       "      <td>0.0</td>\n",
       "      <td>1</td>\n",
       "      <td>POINT (-70.71256 -33.45774)</td>\n",
       "    </tr>\n",
       "  </tbody>\n",
       "</table>\n",
       "</div>"
      ],
      "text/plain": [
       "            osmid  index          x          y  street_count  dist_farmacia   \n",
       "29587  6067607409  29696 -70.712556 -33.457744             3            0.0  \\\n",
       "\n",
       "       farmacia_15min                     geometry  \n",
       "29587               1  POINT (-70.71256 -33.45774)  "
      ]
     },
     "execution_count": 28,
     "metadata": {},
     "output_type": "execute_result"
    }
   ],
   "source": [
    "farmacias_batch3.loc[farmacias_batch3.osmid==farmacia_osmid]"
   ]
  },
  {
   "cell_type": "code",
   "execution_count": 29,
   "id": "3af44722-27b9-455f-bc86-501ef68fa145",
   "metadata": {},
   "outputs": [
    {
     "data": {
      "text/html": [
       "<div>\n",
       "<style scoped>\n",
       "    .dataframe tbody tr th:only-of-type {\n",
       "        vertical-align: middle;\n",
       "    }\n",
       "\n",
       "    .dataframe tbody tr th {\n",
       "        vertical-align: top;\n",
       "    }\n",
       "\n",
       "    .dataframe thead th {\n",
       "        text-align: right;\n",
       "    }\n",
       "</style>\n",
       "<table border=\"1\" class=\"dataframe\">\n",
       "  <thead>\n",
       "    <tr style=\"text-align: right;\">\n",
       "      <th></th>\n",
       "      <th>osmid</th>\n",
       "      <th>x</th>\n",
       "      <th>y</th>\n",
       "      <th>street_count</th>\n",
       "      <th>time_0farmacia</th>\n",
       "      <th>farmacia_0_15min</th>\n",
       "      <th>time_1farmacia</th>\n",
       "      <th>farmacia_1_15min</th>\n",
       "      <th>time_2farmacia</th>\n",
       "      <th>farmacia_2_15min</th>\n",
       "      <th>time_3farmacia</th>\n",
       "      <th>farmacia_3_15min</th>\n",
       "      <th>time_farmacia</th>\n",
       "      <th>farmacia_15min</th>\n",
       "      <th>geometry</th>\n",
       "    </tr>\n",
       "  </thead>\n",
       "  <tbody>\n",
       "    <tr>\n",
       "      <th>29696</th>\n",
       "      <td>6067607409</td>\n",
       "      <td>-70.712556</td>\n",
       "      <td>-33.457744</td>\n",
       "      <td>3</td>\n",
       "      <td>None</td>\n",
       "      <td>None</td>\n",
       "      <td>None</td>\n",
       "      <td>None</td>\n",
       "      <td>None</td>\n",
       "      <td>None</td>\n",
       "      <td>None</td>\n",
       "      <td>None</td>\n",
       "      <td>None</td>\n",
       "      <td>0.0</td>\n",
       "      <td>POINT (-70.71256 -33.45774)</td>\n",
       "    </tr>\n",
       "  </tbody>\n",
       "</table>\n",
       "</div>"
      ],
      "text/plain": [
       "            osmid          x          y  street_count time_0farmacia   \n",
       "29696  6067607409 -70.712556 -33.457744             3           None  \\\n",
       "\n",
       "      farmacia_0_15min time_1farmacia farmacia_1_15min time_2farmacia   \n",
       "29696             None           None             None           None  \\\n",
       "\n",
       "      farmacia_2_15min time_3farmacia farmacia_3_15min time_farmacia   \n",
       "29696             None           None             None          None  \\\n",
       "\n",
       "       farmacia_15min                     geometry  \n",
       "29696             0.0  POINT (-70.71256 -33.45774)  "
      ]
     },
     "execution_count": 29,
     "metadata": {},
     "output_type": "execute_result"
    }
   ],
   "source": [
    "farmacias_allbatches = gpd.read_file(test_dir + \"01_current_situation/nodes_time_farmacia.gpkg\")\n",
    "farmacias_allbatches.loc[farmacias_allbatches.osmid==farmacia_osmid]"
   ]
  },
  {
   "cell_type": "code",
   "execution_count": 36,
   "id": "a779eb5c-4ddd-4f5f-a250-e135dc39fc6c",
   "metadata": {},
   "outputs": [
    {
     "data": {
      "text/html": [
       "<div>\n",
       "<style scoped>\n",
       "    .dataframe tbody tr th:only-of-type {\n",
       "        vertical-align: middle;\n",
       "    }\n",
       "\n",
       "    .dataframe tbody tr th {\n",
       "        vertical-align: top;\n",
       "    }\n",
       "\n",
       "    .dataframe thead th {\n",
       "        text-align: right;\n",
       "    }\n",
       "</style>\n",
       "<table border=\"1\" class=\"dataframe\">\n",
       "  <thead>\n",
       "    <tr style=\"text-align: right;\">\n",
       "      <th></th>\n",
       "      <th>osmid</th>\n",
       "      <th>x</th>\n",
       "      <th>y</th>\n",
       "      <th>street_count</th>\n",
       "      <th>time_0farmacia</th>\n",
       "      <th>farmacia_0_15min</th>\n",
       "      <th>time_1farmacia</th>\n",
       "      <th>farmacia_1_15min</th>\n",
       "      <th>time_2farmacia</th>\n",
       "      <th>farmacia_2_15min</th>\n",
       "      <th>time_3farmacia</th>\n",
       "      <th>farmacia_3_15min</th>\n",
       "      <th>time_farmacia</th>\n",
       "      <th>farmacia_15min</th>\n",
       "      <th>geometry</th>\n",
       "    </tr>\n",
       "  </thead>\n",
       "  <tbody>\n",
       "    <tr>\n",
       "      <th>29696</th>\n",
       "      <td>6067607409</td>\n",
       "      <td>-70.712556</td>\n",
       "      <td>-33.457744</td>\n",
       "      <td>3</td>\n",
       "      <td>33.781947</td>\n",
       "      <td>0.0</td>\n",
       "      <td>17.6998</td>\n",
       "      <td>0.0</td>\n",
       "      <td>14.497853</td>\n",
       "      <td>1.0</td>\n",
       "      <td>11.07956</td>\n",
       "      <td>1.0</td>\n",
       "      <td>11.07956</td>\n",
       "      <td>2.0</td>\n",
       "      <td>POINT (-70.71256 -33.45774)</td>\n",
       "    </tr>\n",
       "  </tbody>\n",
       "</table>\n",
       "</div>"
      ],
      "text/plain": [
       "            osmid          x          y  street_count  time_0farmacia   \n",
       "29696  6067607409 -70.712556 -33.457744             3       33.781947  \\\n",
       "\n",
       "       farmacia_0_15min  time_1farmacia  farmacia_1_15min  time_2farmacia   \n",
       "29696               0.0         17.6998               0.0       14.497853  \\\n",
       "\n",
       "       farmacia_2_15min  time_3farmacia  farmacia_3_15min  time_farmacia   \n",
       "29696               1.0        11.07956               1.0       11.07956  \\\n",
       "\n",
       "       farmacia_15min                     geometry  \n",
       "29696             2.0  POINT (-70.71256 -33.45774)  "
      ]
     },
     "execution_count": 36,
     "metadata": {},
     "output_type": "execute_result"
    }
   ],
   "source": [
    "# Problem 1 was in how batches and nodes_time was merged. Solved.\n",
    "farmacias_allbatches = gpd.read_file(test_dir + \"02_changing_merge/nodes_time_farmacia.gpkg\")\n",
    "farmacias_allbatches.loc[farmacias_allbatches.osmid==farmacia_osmid]"
   ]
  },
  {
   "cell_type": "markdown",
   "id": "d02da382-7642-45f3-b562-830e29d60427",
   "metadata": {
    "jp-MarkdownHeadingCollapsed": true
   },
   "source": [
    "#### __Problem 2:__ amount of farmacia_15min is bigger on batches than it is on col."
   ]
  },
  {
   "cell_type": "code",
   "execution_count": 81,
   "id": "ac2c69f4-789b-44f7-a45a-fc0eb108c6c5",
   "metadata": {},
   "outputs": [],
   "source": [
    "farmacias_batch0 = gpd.read_file(test_dir + \"02_changing_merge/nodes_distance_prep_farmacia_250batch0.gpkg\")\n",
    "farmacias_batch1 = gpd.read_file(test_dir + \"02_changing_merge/nodes_distance_prep_farmacia_250batch1.gpkg\")\n",
    "farmacias_batch2 = gpd.read_file(test_dir + \"02_changing_merge/nodes_distance_prep_farmacia_250batch2.gpkg\")\n",
    "farmacias_batch3 = gpd.read_file(test_dir + \"02_changing_merge/nodes_distance_prep_farmacia_250batch3.gpkg\")"
   ]
  },
  {
   "cell_type": "code",
   "execution_count": 82,
   "id": "f5c20b6d-e417-4e61-82d1-29beadc85d65",
   "metadata": {},
   "outputs": [
    {
     "data": {
      "text/html": [
       "<div>\n",
       "<style scoped>\n",
       "    .dataframe tbody tr th:only-of-type {\n",
       "        vertical-align: middle;\n",
       "    }\n",
       "\n",
       "    .dataframe tbody tr th {\n",
       "        vertical-align: top;\n",
       "    }\n",
       "\n",
       "    .dataframe thead th {\n",
       "        text-align: right;\n",
       "    }\n",
       "</style>\n",
       "<table border=\"1\" class=\"dataframe\">\n",
       "  <thead>\n",
       "    <tr style=\"text-align: right;\">\n",
       "      <th></th>\n",
       "      <th>osmid</th>\n",
       "      <th>index</th>\n",
       "      <th>x</th>\n",
       "      <th>y</th>\n",
       "      <th>street_count</th>\n",
       "      <th>dist_farmacia</th>\n",
       "      <th>farmacia_15min</th>\n",
       "      <th>geometry</th>\n",
       "    </tr>\n",
       "  </thead>\n",
       "  <tbody>\n",
       "    <tr>\n",
       "      <th>29587</th>\n",
       "      <td>6067607409</td>\n",
       "      <td>29696</td>\n",
       "      <td>-70.712556</td>\n",
       "      <td>-33.457744</td>\n",
       "      <td>3</td>\n",
       "      <td>6.958944</td>\n",
       "      <td>3</td>\n",
       "      <td>POINT (-70.71256 -33.45774)</td>\n",
       "    </tr>\n",
       "  </tbody>\n",
       "</table>\n",
       "</div>"
      ],
      "text/plain": [
       "            osmid  index          x          y  street_count  dist_farmacia   \n",
       "29587  6067607409  29696 -70.712556 -33.457744             3       6.958944  \\\n",
       "\n",
       "       farmacia_15min                     geometry  \n",
       "29587               3  POINT (-70.71256 -33.45774)  "
      ]
     },
     "execution_count": 82,
     "metadata": {},
     "output_type": "execute_result"
    }
   ],
   "source": [
    "farmacias_batch0.loc[farmacias_batch0.osmid==farmacia_osmid]"
   ]
  },
  {
   "cell_type": "code",
   "execution_count": 83,
   "id": "4e7ff493-9576-44d6-9597-e8f1db0a1a03",
   "metadata": {},
   "outputs": [
    {
     "data": {
      "text/html": [
       "<div>\n",
       "<style scoped>\n",
       "    .dataframe tbody tr th:only-of-type {\n",
       "        vertical-align: middle;\n",
       "    }\n",
       "\n",
       "    .dataframe tbody tr th {\n",
       "        vertical-align: top;\n",
       "    }\n",
       "\n",
       "    .dataframe thead th {\n",
       "        text-align: right;\n",
       "    }\n",
       "</style>\n",
       "<table border=\"1\" class=\"dataframe\">\n",
       "  <thead>\n",
       "    <tr style=\"text-align: right;\">\n",
       "      <th></th>\n",
       "      <th>osmid</th>\n",
       "      <th>index</th>\n",
       "      <th>x</th>\n",
       "      <th>y</th>\n",
       "      <th>street_count</th>\n",
       "      <th>dist_farmacia</th>\n",
       "      <th>farmacia_15min</th>\n",
       "      <th>geometry</th>\n",
       "    </tr>\n",
       "  </thead>\n",
       "  <tbody>\n",
       "    <tr>\n",
       "      <th>29587</th>\n",
       "      <td>6067607409</td>\n",
       "      <td>29696</td>\n",
       "      <td>-70.712556</td>\n",
       "      <td>-33.457744</td>\n",
       "      <td>3</td>\n",
       "      <td>14.6326</td>\n",
       "      <td>1</td>\n",
       "      <td>POINT (-70.71256 -33.45774)</td>\n",
       "    </tr>\n",
       "  </tbody>\n",
       "</table>\n",
       "</div>"
      ],
      "text/plain": [
       "            osmid  index          x          y  street_count  dist_farmacia   \n",
       "29587  6067607409  29696 -70.712556 -33.457744             3        14.6326  \\\n",
       "\n",
       "       farmacia_15min                     geometry  \n",
       "29587               1  POINT (-70.71256 -33.45774)  "
      ]
     },
     "execution_count": 83,
     "metadata": {},
     "output_type": "execute_result"
    }
   ],
   "source": [
    "farmacias_batch1.loc[farmacias_batch1.osmid==farmacia_osmid]"
   ]
  },
  {
   "cell_type": "code",
   "execution_count": 84,
   "id": "7cc03df9-11c2-49ac-9cd8-d024a377fe0b",
   "metadata": {},
   "outputs": [
    {
     "data": {
      "text/html": [
       "<div>\n",
       "<style scoped>\n",
       "    .dataframe tbody tr th:only-of-type {\n",
       "        vertical-align: middle;\n",
       "    }\n",
       "\n",
       "    .dataframe tbody tr th {\n",
       "        vertical-align: top;\n",
       "    }\n",
       "\n",
       "    .dataframe thead th {\n",
       "        text-align: right;\n",
       "    }\n",
       "</style>\n",
       "<table border=\"1\" class=\"dataframe\">\n",
       "  <thead>\n",
       "    <tr style=\"text-align: right;\">\n",
       "      <th></th>\n",
       "      <th>osmid</th>\n",
       "      <th>index</th>\n",
       "      <th>x</th>\n",
       "      <th>y</th>\n",
       "      <th>street_count</th>\n",
       "      <th>dist_farmacia</th>\n",
       "      <th>farmacia_15min</th>\n",
       "      <th>geometry</th>\n",
       "    </tr>\n",
       "  </thead>\n",
       "  <tbody>\n",
       "    <tr>\n",
       "      <th>29587</th>\n",
       "      <td>6067607409</td>\n",
       "      <td>29696</td>\n",
       "      <td>-70.712556</td>\n",
       "      <td>-33.457744</td>\n",
       "      <td>3</td>\n",
       "      <td>0.0</td>\n",
       "      <td>3</td>\n",
       "      <td>POINT (-70.71256 -33.45774)</td>\n",
       "    </tr>\n",
       "  </tbody>\n",
       "</table>\n",
       "</div>"
      ],
      "text/plain": [
       "            osmid  index          x          y  street_count  dist_farmacia   \n",
       "29587  6067607409  29696 -70.712556 -33.457744             3            0.0  \\\n",
       "\n",
       "       farmacia_15min                     geometry  \n",
       "29587               3  POINT (-70.71256 -33.45774)  "
      ]
     },
     "execution_count": 84,
     "metadata": {},
     "output_type": "execute_result"
    }
   ],
   "source": [
    "farmacias_batch2.loc[farmacias_batch2.osmid==farmacia_osmid]"
   ]
  },
  {
   "cell_type": "code",
   "execution_count": 85,
   "id": "87bf3b76-2139-4328-92a3-346c0c144332",
   "metadata": {},
   "outputs": [
    {
     "data": {
      "text/html": [
       "<div>\n",
       "<style scoped>\n",
       "    .dataframe tbody tr th:only-of-type {\n",
       "        vertical-align: middle;\n",
       "    }\n",
       "\n",
       "    .dataframe tbody tr th {\n",
       "        vertical-align: top;\n",
       "    }\n",
       "\n",
       "    .dataframe thead th {\n",
       "        text-align: right;\n",
       "    }\n",
       "</style>\n",
       "<table border=\"1\" class=\"dataframe\">\n",
       "  <thead>\n",
       "    <tr style=\"text-align: right;\">\n",
       "      <th></th>\n",
       "      <th>osmid</th>\n",
       "      <th>index</th>\n",
       "      <th>x</th>\n",
       "      <th>y</th>\n",
       "      <th>street_count</th>\n",
       "      <th>dist_farmacia</th>\n",
       "      <th>farmacia_15min</th>\n",
       "      <th>geometry</th>\n",
       "    </tr>\n",
       "  </thead>\n",
       "  <tbody>\n",
       "    <tr>\n",
       "      <th>29587</th>\n",
       "      <td>6067607409</td>\n",
       "      <td>29696</td>\n",
       "      <td>-70.712556</td>\n",
       "      <td>-33.457744</td>\n",
       "      <td>3</td>\n",
       "      <td>0.0</td>\n",
       "      <td>1</td>\n",
       "      <td>POINT (-70.71256 -33.45774)</td>\n",
       "    </tr>\n",
       "  </tbody>\n",
       "</table>\n",
       "</div>"
      ],
      "text/plain": [
       "            osmid  index          x          y  street_count  dist_farmacia   \n",
       "29587  6067607409  29696 -70.712556 -33.457744             3            0.0  \\\n",
       "\n",
       "       farmacia_15min                     geometry  \n",
       "29587               1  POINT (-70.71256 -33.45774)  "
      ]
     },
     "execution_count": 85,
     "metadata": {},
     "output_type": "execute_result"
    }
   ],
   "source": [
    "farmacias_batch3.loc[farmacias_batch3.osmid==farmacia_osmid]"
   ]
  },
  {
   "cell_type": "code",
   "execution_count": 86,
   "id": "666eacf4-63b2-40c5-ba2d-33d2e6e1eaff",
   "metadata": {},
   "outputs": [
    {
     "data": {
      "text/html": [
       "<div>\n",
       "<style scoped>\n",
       "    .dataframe tbody tr th:only-of-type {\n",
       "        vertical-align: middle;\n",
       "    }\n",
       "\n",
       "    .dataframe tbody tr th {\n",
       "        vertical-align: top;\n",
       "    }\n",
       "\n",
       "    .dataframe thead th {\n",
       "        text-align: right;\n",
       "    }\n",
       "</style>\n",
       "<table border=\"1\" class=\"dataframe\">\n",
       "  <thead>\n",
       "    <tr style=\"text-align: right;\">\n",
       "      <th></th>\n",
       "      <th>osmid</th>\n",
       "      <th>x</th>\n",
       "      <th>y</th>\n",
       "      <th>street_count</th>\n",
       "      <th>time_0farmacia</th>\n",
       "      <th>farmacia_0_15min</th>\n",
       "      <th>time_1farmacia</th>\n",
       "      <th>farmacia_1_15min</th>\n",
       "      <th>time_2farmacia</th>\n",
       "      <th>farmacia_2_15min</th>\n",
       "      <th>time_3farmacia</th>\n",
       "      <th>farmacia_3_15min</th>\n",
       "      <th>time_farmacia</th>\n",
       "      <th>farmacia_15min</th>\n",
       "      <th>geometry</th>\n",
       "    </tr>\n",
       "  </thead>\n",
       "  <tbody>\n",
       "    <tr>\n",
       "      <th>29696</th>\n",
       "      <td>6067607409</td>\n",
       "      <td>-70.712556</td>\n",
       "      <td>-33.457744</td>\n",
       "      <td>3</td>\n",
       "      <td>33.781947</td>\n",
       "      <td>0.0</td>\n",
       "      <td>17.6998</td>\n",
       "      <td>0.0</td>\n",
       "      <td>14.497853</td>\n",
       "      <td>1.0</td>\n",
       "      <td>11.07956</td>\n",
       "      <td>1.0</td>\n",
       "      <td>11.07956</td>\n",
       "      <td>2.0</td>\n",
       "      <td>POINT (-70.71256 -33.45774)</td>\n",
       "    </tr>\n",
       "  </tbody>\n",
       "</table>\n",
       "</div>"
      ],
      "text/plain": [
       "            osmid          x          y  street_count  time_0farmacia   \n",
       "29696  6067607409 -70.712556 -33.457744             3       33.781947  \\\n",
       "\n",
       "       farmacia_0_15min  time_1farmacia  farmacia_1_15min  time_2farmacia   \n",
       "29696               0.0         17.6998               0.0       14.497853  \\\n",
       "\n",
       "       farmacia_2_15min  time_3farmacia  farmacia_3_15min  time_farmacia   \n",
       "29696               1.0        11.07956               1.0       11.07956  \\\n",
       "\n",
       "       farmacia_15min                     geometry  \n",
       "29696             2.0  POINT (-70.71256 -33.45774)  "
      ]
     },
     "execution_count": 86,
     "metadata": {},
     "output_type": "execute_result"
    }
   ],
   "source": [
    "# Problem 1 was in how batches and nodes_time was merged. Solved.\n",
    "farmacias_allbatches = gpd.read_file(test_dir + \"02_changing_merge/nodes_time_farmacia.gpkg\")\n",
    "farmacias_allbatches.loc[farmacias_allbatches.osmid==farmacia_osmid]"
   ]
  },
  {
   "cell_type": "code",
   "execution_count": 90,
   "id": "29e2ebfc-c44b-4e58-a2a1-692a727606a0",
   "metadata": {},
   "outputs": [
    {
     "data": {
      "text/html": [
       "<div>\n",
       "<style scoped>\n",
       "    .dataframe tbody tr th:only-of-type {\n",
       "        vertical-align: middle;\n",
       "    }\n",
       "\n",
       "    .dataframe tbody tr th {\n",
       "        vertical-align: top;\n",
       "    }\n",
       "\n",
       "    .dataframe thead th {\n",
       "        text-align: right;\n",
       "    }\n",
       "</style>\n",
       "<table border=\"1\" class=\"dataframe\">\n",
       "  <thead>\n",
       "    <tr style=\"text-align: right;\">\n",
       "      <th></th>\n",
       "      <th>osmid</th>\n",
       "      <th>x</th>\n",
       "      <th>y</th>\n",
       "      <th>street_count</th>\n",
       "      <th>geometry</th>\n",
       "    </tr>\n",
       "  </thead>\n",
       "  <tbody>\n",
       "    <tr>\n",
       "      <th>0</th>\n",
       "      <td>386138</td>\n",
       "      <td>-70.646254</td>\n",
       "      <td>-33.442901</td>\n",
       "      <td>4</td>\n",
       "      <td>POINT (-70.64625 -33.44290)</td>\n",
       "    </tr>\n",
       "  </tbody>\n",
       "</table>\n",
       "</div>"
      ],
      "text/plain": [
       "    osmid          x          y  street_count                     geometry\n",
       "0  386138 -70.646254 -33.442901             4  POINT (-70.64625 -33.44290)"
      ]
     },
     "execution_count": 90,
     "metadata": {},
     "output_type": "execute_result"
    }
   ],
   "source": [
    "nodes = gpd.read_file(test_dir + \"02_changing_merge/nodes_farmacia.gpkg\")\n",
    "# Show\n",
    "nodes.head(1)"
   ]
  },
  {
   "cell_type": "code",
   "execution_count": 91,
   "id": "8896f343-0ecd-44c5-897f-36c760883093",
   "metadata": {},
   "outputs": [
    {
     "data": {
      "text/html": [
       "<div>\n",
       "<style scoped>\n",
       "    .dataframe tbody tr th:only-of-type {\n",
       "        vertical-align: middle;\n",
       "    }\n",
       "\n",
       "    .dataframe tbody tr th {\n",
       "        vertical-align: top;\n",
       "    }\n",
       "\n",
       "    .dataframe thead th {\n",
       "        text-align: right;\n",
       "    }\n",
       "</style>\n",
       "<table border=\"1\" class=\"dataframe\">\n",
       "  <thead>\n",
       "    <tr style=\"text-align: right;\">\n",
       "      <th></th>\n",
       "      <th>osmid</th>\n",
       "      <th>x</th>\n",
       "      <th>y</th>\n",
       "      <th>street_count</th>\n",
       "      <th>geometry</th>\n",
       "    </tr>\n",
       "  </thead>\n",
       "  <tbody>\n",
       "    <tr>\n",
       "      <th>0</th>\n",
       "      <td>386138</td>\n",
       "      <td>-70.646254</td>\n",
       "      <td>-33.442901</td>\n",
       "      <td>4</td>\n",
       "      <td>POINT (-70.64625 -33.44290)</td>\n",
       "    </tr>\n",
       "  </tbody>\n",
       "</table>\n",
       "</div>"
      ],
      "text/plain": [
       "    osmid          x          y  street_count                     geometry\n",
       "0  386138 -70.646254 -33.442901             4  POINT (-70.64625 -33.44290)"
      ]
     },
     "execution_count": 91,
     "metadata": {},
     "output_type": "execute_result"
    }
   ],
   "source": [
    "empty_nodes_analysis = gpd.read_file(test_dir + \"02_changing_merge/empty_nodes_analysis_farmacia.gpkg\")\n",
    "# Show\n",
    "empty_nodes_analysis.head(1)"
   ]
  },
  {
   "cell_type": "code",
   "execution_count": 71,
   "id": "c49bbe04-fe66-4d3a-908d-0e5ddc96eab4",
   "metadata": {},
   "outputs": [
    {
     "name": "stdout",
     "output_type": "stream",
     "text": [
      "(43734, 5)\n"
     ]
    },
    {
     "data": {
      "text/html": [
       "<div>\n",
       "<style scoped>\n",
       "    .dataframe tbody tr th:only-of-type {\n",
       "        vertical-align: middle;\n",
       "    }\n",
       "\n",
       "    .dataframe tbody tr th {\n",
       "        vertical-align: top;\n",
       "    }\n",
       "\n",
       "    .dataframe thead th {\n",
       "        text-align: right;\n",
       "    }\n",
       "</style>\n",
       "<table border=\"1\" class=\"dataframe\">\n",
       "  <thead>\n",
       "    <tr style=\"text-align: right;\">\n",
       "      <th></th>\n",
       "      <th>osmid</th>\n",
       "      <th>x</th>\n",
       "      <th>y</th>\n",
       "      <th>street_count</th>\n",
       "      <th>geometry</th>\n",
       "    </tr>\n",
       "  </thead>\n",
       "  <tbody>\n",
       "    <tr>\n",
       "      <th>0</th>\n",
       "      <td>386138</td>\n",
       "      <td>-70.646254</td>\n",
       "      <td>-33.442901</td>\n",
       "      <td>4</td>\n",
       "      <td>POINT (-70.64625 -33.44290)</td>\n",
       "    </tr>\n",
       "  </tbody>\n",
       "</table>\n",
       "</div>"
      ],
      "text/plain": [
       "    osmid          x          y  street_count                     geometry\n",
       "0  386138 -70.646254 -33.442901             4  POINT (-70.64625 -33.44290)"
      ]
     },
     "execution_count": 71,
     "metadata": {},
     "output_type": "execute_result"
    }
   ],
   "source": [
    "empty_nodes_time = gpd.read_file(test_dir + \"empty_nodes_time_farmacia.gpkg\")\n",
    "# Show\n",
    "print(empty_nodes_time.shape)\n",
    "empty_nodes_time.head(1)"
   ]
  },
  {
   "cell_type": "markdown",
   "id": "a774641a-ec95-4744-9ad0-3403f2b2eb71",
   "metadata": {},
   "source": [
    "##### Problem 2 was that merge and column assignment was being done at the same time. Solution: Split in merge, then rename col."
   ]
  },
  {
   "cell_type": "code",
   "execution_count": 92,
   "id": "ca8a6980-99ed-485c-ad44-de3f1e1941d6",
   "metadata": {},
   "outputs": [
    {
     "data": {
      "text/html": [
       "<div>\n",
       "<style scoped>\n",
       "    .dataframe tbody tr th:only-of-type {\n",
       "        vertical-align: middle;\n",
       "    }\n",
       "\n",
       "    .dataframe tbody tr th {\n",
       "        vertical-align: top;\n",
       "    }\n",
       "\n",
       "    .dataframe thead th {\n",
       "        text-align: right;\n",
       "    }\n",
       "</style>\n",
       "<table border=\"1\" class=\"dataframe\">\n",
       "  <thead>\n",
       "    <tr style=\"text-align: right;\">\n",
       "      <th></th>\n",
       "      <th>osmid</th>\n",
       "      <th>x</th>\n",
       "      <th>y</th>\n",
       "      <th>street_count</th>\n",
       "      <th>geometry</th>\n",
       "      <th>time_0farmacia</th>\n",
       "    </tr>\n",
       "  </thead>\n",
       "  <tbody>\n",
       "    <tr>\n",
       "      <th>29587</th>\n",
       "      <td>6067607409</td>\n",
       "      <td>-70.712556</td>\n",
       "      <td>-33.457744</td>\n",
       "      <td>3</td>\n",
       "      <td>POINT (-70.71256 -33.45774)</td>\n",
       "      <td>6.958944</td>\n",
       "    </tr>\n",
       "  </tbody>\n",
       "</table>\n",
       "</div>"
      ],
      "text/plain": [
       "            osmid          x          y  street_count   \n",
       "29587  6067607409 -70.712556 -33.457744             3  \\\n",
       "\n",
       "                          geometry  time_0farmacia  \n",
       "29587  POINT (-70.71256 -33.45774)        6.958944  "
      ]
     },
     "execution_count": 92,
     "metadata": {},
     "output_type": "execute_result"
    }
   ],
   "source": [
    "# Problem 2 was that merge and column assignment was being done at the same time.\n",
    "test = empty_nodes_time.copy()\n",
    "poi_name = 'farmacia'\n",
    "batch_time_col = 'time_'+str(0)+poi_name \n",
    "\n",
    "test = pd.merge(test,farmacias_batch0[['osmid','dist_'+poi_name]],on='osmid')\n",
    "test.rename(columns={f\"dist_{poi_name}\":'time_'+str(0)+poi_name},inplace=True)\n",
    "test.loc[test.osmid==farmacia_osmid]"
   ]
  },
  {
   "cell_type": "code",
   "execution_count": 75,
   "id": "82add240-2e6f-4545-891d-c612cddf6449",
   "metadata": {},
   "outputs": [],
   "source": [
    "farmacias_batch0 = gpd.read_file(test_dir + \"03_splitting_merge_rename_col/nodes_distance_prep_farmacia_250batch0.gpkg\")\n",
    "farmacias_batch1 = gpd.read_file(test_dir + \"03_splitting_merge_rename_col/nodes_distance_prep_farmacia_250batch1.gpkg\")\n",
    "farmacias_batch2 = gpd.read_file(test_dir + \"03_splitting_merge_rename_col/nodes_distance_prep_farmacia_250batch2.gpkg\")\n",
    "farmacias_batch3 = gpd.read_file(test_dir + \"03_splitting_merge_rename_col/nodes_distance_prep_farmacia_250batch3.gpkg\")"
   ]
  },
  {
   "cell_type": "code",
   "execution_count": 76,
   "id": "0651a6b5-2e19-46e3-9910-c0f7967025c7",
   "metadata": {},
   "outputs": [
    {
     "data": {
      "text/html": [
       "<div>\n",
       "<style scoped>\n",
       "    .dataframe tbody tr th:only-of-type {\n",
       "        vertical-align: middle;\n",
       "    }\n",
       "\n",
       "    .dataframe tbody tr th {\n",
       "        vertical-align: top;\n",
       "    }\n",
       "\n",
       "    .dataframe thead th {\n",
       "        text-align: right;\n",
       "    }\n",
       "</style>\n",
       "<table border=\"1\" class=\"dataframe\">\n",
       "  <thead>\n",
       "    <tr style=\"text-align: right;\">\n",
       "      <th></th>\n",
       "      <th>osmid</th>\n",
       "      <th>index</th>\n",
       "      <th>x</th>\n",
       "      <th>y</th>\n",
       "      <th>street_count</th>\n",
       "      <th>dist_farmacia</th>\n",
       "      <th>farmacia_15min</th>\n",
       "      <th>geometry</th>\n",
       "    </tr>\n",
       "  </thead>\n",
       "  <tbody>\n",
       "    <tr>\n",
       "      <th>29587</th>\n",
       "      <td>6067607409</td>\n",
       "      <td>29696</td>\n",
       "      <td>-70.712556</td>\n",
       "      <td>-33.457744</td>\n",
       "      <td>3</td>\n",
       "      <td>6.958944</td>\n",
       "      <td>3</td>\n",
       "      <td>POINT (-70.71256 -33.45774)</td>\n",
       "    </tr>\n",
       "  </tbody>\n",
       "</table>\n",
       "</div>"
      ],
      "text/plain": [
       "            osmid  index          x          y  street_count  dist_farmacia   \n",
       "29587  6067607409  29696 -70.712556 -33.457744             3       6.958944  \\\n",
       "\n",
       "       farmacia_15min                     geometry  \n",
       "29587               3  POINT (-70.71256 -33.45774)  "
      ]
     },
     "execution_count": 76,
     "metadata": {},
     "output_type": "execute_result"
    }
   ],
   "source": [
    "farmacias_batch0.loc[farmacias_batch0.osmid==farmacia_osmid]"
   ]
  },
  {
   "cell_type": "code",
   "execution_count": 77,
   "id": "17b2483d-9623-4f1d-834a-06a95ae5c61c",
   "metadata": {},
   "outputs": [
    {
     "data": {
      "text/html": [
       "<div>\n",
       "<style scoped>\n",
       "    .dataframe tbody tr th:only-of-type {\n",
       "        vertical-align: middle;\n",
       "    }\n",
       "\n",
       "    .dataframe tbody tr th {\n",
       "        vertical-align: top;\n",
       "    }\n",
       "\n",
       "    .dataframe thead th {\n",
       "        text-align: right;\n",
       "    }\n",
       "</style>\n",
       "<table border=\"1\" class=\"dataframe\">\n",
       "  <thead>\n",
       "    <tr style=\"text-align: right;\">\n",
       "      <th></th>\n",
       "      <th>osmid</th>\n",
       "      <th>index</th>\n",
       "      <th>x</th>\n",
       "      <th>y</th>\n",
       "      <th>street_count</th>\n",
       "      <th>dist_farmacia</th>\n",
       "      <th>farmacia_15min</th>\n",
       "      <th>geometry</th>\n",
       "    </tr>\n",
       "  </thead>\n",
       "  <tbody>\n",
       "    <tr>\n",
       "      <th>29587</th>\n",
       "      <td>6067607409</td>\n",
       "      <td>29696</td>\n",
       "      <td>-70.712556</td>\n",
       "      <td>-33.457744</td>\n",
       "      <td>3</td>\n",
       "      <td>14.6326</td>\n",
       "      <td>1</td>\n",
       "      <td>POINT (-70.71256 -33.45774)</td>\n",
       "    </tr>\n",
       "  </tbody>\n",
       "</table>\n",
       "</div>"
      ],
      "text/plain": [
       "            osmid  index          x          y  street_count  dist_farmacia   \n",
       "29587  6067607409  29696 -70.712556 -33.457744             3        14.6326  \\\n",
       "\n",
       "       farmacia_15min                     geometry  \n",
       "29587               1  POINT (-70.71256 -33.45774)  "
      ]
     },
     "execution_count": 77,
     "metadata": {},
     "output_type": "execute_result"
    }
   ],
   "source": [
    "farmacias_batch1.loc[farmacias_batch1.osmid==farmacia_osmid]"
   ]
  },
  {
   "cell_type": "code",
   "execution_count": 78,
   "id": "240e05e0-d31d-44bb-926c-ef8984b12b3a",
   "metadata": {},
   "outputs": [
    {
     "data": {
      "text/html": [
       "<div>\n",
       "<style scoped>\n",
       "    .dataframe tbody tr th:only-of-type {\n",
       "        vertical-align: middle;\n",
       "    }\n",
       "\n",
       "    .dataframe tbody tr th {\n",
       "        vertical-align: top;\n",
       "    }\n",
       "\n",
       "    .dataframe thead th {\n",
       "        text-align: right;\n",
       "    }\n",
       "</style>\n",
       "<table border=\"1\" class=\"dataframe\">\n",
       "  <thead>\n",
       "    <tr style=\"text-align: right;\">\n",
       "      <th></th>\n",
       "      <th>osmid</th>\n",
       "      <th>index</th>\n",
       "      <th>x</th>\n",
       "      <th>y</th>\n",
       "      <th>street_count</th>\n",
       "      <th>dist_farmacia</th>\n",
       "      <th>farmacia_15min</th>\n",
       "      <th>geometry</th>\n",
       "    </tr>\n",
       "  </thead>\n",
       "  <tbody>\n",
       "    <tr>\n",
       "      <th>29587</th>\n",
       "      <td>6067607409</td>\n",
       "      <td>29696</td>\n",
       "      <td>-70.712556</td>\n",
       "      <td>-33.457744</td>\n",
       "      <td>3</td>\n",
       "      <td>0.0</td>\n",
       "      <td>3</td>\n",
       "      <td>POINT (-70.71256 -33.45774)</td>\n",
       "    </tr>\n",
       "  </tbody>\n",
       "</table>\n",
       "</div>"
      ],
      "text/plain": [
       "            osmid  index          x          y  street_count  dist_farmacia   \n",
       "29587  6067607409  29696 -70.712556 -33.457744             3            0.0  \\\n",
       "\n",
       "       farmacia_15min                     geometry  \n",
       "29587               3  POINT (-70.71256 -33.45774)  "
      ]
     },
     "execution_count": 78,
     "metadata": {},
     "output_type": "execute_result"
    }
   ],
   "source": [
    "farmacias_batch2.loc[farmacias_batch2.osmid==farmacia_osmid]"
   ]
  },
  {
   "cell_type": "code",
   "execution_count": 79,
   "id": "968405b1-0933-4662-9d26-b7b089d254ae",
   "metadata": {},
   "outputs": [
    {
     "data": {
      "text/html": [
       "<div>\n",
       "<style scoped>\n",
       "    .dataframe tbody tr th:only-of-type {\n",
       "        vertical-align: middle;\n",
       "    }\n",
       "\n",
       "    .dataframe tbody tr th {\n",
       "        vertical-align: top;\n",
       "    }\n",
       "\n",
       "    .dataframe thead th {\n",
       "        text-align: right;\n",
       "    }\n",
       "</style>\n",
       "<table border=\"1\" class=\"dataframe\">\n",
       "  <thead>\n",
       "    <tr style=\"text-align: right;\">\n",
       "      <th></th>\n",
       "      <th>osmid</th>\n",
       "      <th>index</th>\n",
       "      <th>x</th>\n",
       "      <th>y</th>\n",
       "      <th>street_count</th>\n",
       "      <th>dist_farmacia</th>\n",
       "      <th>farmacia_15min</th>\n",
       "      <th>geometry</th>\n",
       "    </tr>\n",
       "  </thead>\n",
       "  <tbody>\n",
       "    <tr>\n",
       "      <th>29587</th>\n",
       "      <td>6067607409</td>\n",
       "      <td>29696</td>\n",
       "      <td>-70.712556</td>\n",
       "      <td>-33.457744</td>\n",
       "      <td>3</td>\n",
       "      <td>0.0</td>\n",
       "      <td>1</td>\n",
       "      <td>POINT (-70.71256 -33.45774)</td>\n",
       "    </tr>\n",
       "  </tbody>\n",
       "</table>\n",
       "</div>"
      ],
      "text/plain": [
       "            osmid  index          x          y  street_count  dist_farmacia   \n",
       "29587  6067607409  29696 -70.712556 -33.457744             3            0.0  \\\n",
       "\n",
       "       farmacia_15min                     geometry  \n",
       "29587               1  POINT (-70.71256 -33.45774)  "
      ]
     },
     "execution_count": 79,
     "metadata": {},
     "output_type": "execute_result"
    }
   ],
   "source": [
    "farmacias_batch3.loc[farmacias_batch3.osmid==farmacia_osmid]"
   ]
  },
  {
   "cell_type": "code",
   "execution_count": 80,
   "id": "827e176e-b649-490a-a8a9-fda19f44196a",
   "metadata": {},
   "outputs": [
    {
     "data": {
      "text/html": [
       "<div>\n",
       "<style scoped>\n",
       "    .dataframe tbody tr th:only-of-type {\n",
       "        vertical-align: middle;\n",
       "    }\n",
       "\n",
       "    .dataframe tbody tr th {\n",
       "        vertical-align: top;\n",
       "    }\n",
       "\n",
       "    .dataframe thead th {\n",
       "        text-align: right;\n",
       "    }\n",
       "</style>\n",
       "<table border=\"1\" class=\"dataframe\">\n",
       "  <thead>\n",
       "    <tr style=\"text-align: right;\">\n",
       "      <th></th>\n",
       "      <th>osmid</th>\n",
       "      <th>x</th>\n",
       "      <th>y</th>\n",
       "      <th>street_count</th>\n",
       "      <th>time_0farmacia</th>\n",
       "      <th>farmacia_0_15min</th>\n",
       "      <th>time_1farmacia</th>\n",
       "      <th>farmacia_1_15min</th>\n",
       "      <th>time_2farmacia</th>\n",
       "      <th>farmacia_2_15min</th>\n",
       "      <th>time_3farmacia</th>\n",
       "      <th>farmacia_3_15min</th>\n",
       "      <th>time_farmacia</th>\n",
       "      <th>farmacia_15min</th>\n",
       "      <th>geometry</th>\n",
       "    </tr>\n",
       "  </thead>\n",
       "  <tbody>\n",
       "    <tr>\n",
       "      <th>29587</th>\n",
       "      <td>6067607409</td>\n",
       "      <td>-70.712556</td>\n",
       "      <td>-33.457744</td>\n",
       "      <td>3</td>\n",
       "      <td>6.958944</td>\n",
       "      <td>3</td>\n",
       "      <td>14.6326</td>\n",
       "      <td>1</td>\n",
       "      <td>0.0</td>\n",
       "      <td>3</td>\n",
       "      <td>0.0</td>\n",
       "      <td>1</td>\n",
       "      <td>0.0</td>\n",
       "      <td>8</td>\n",
       "      <td>POINT (-70.71256 -33.45774)</td>\n",
       "    </tr>\n",
       "  </tbody>\n",
       "</table>\n",
       "</div>"
      ],
      "text/plain": [
       "            osmid          x          y  street_count  time_0farmacia   \n",
       "29587  6067607409 -70.712556 -33.457744             3        6.958944  \\\n",
       "\n",
       "       farmacia_0_15min  time_1farmacia  farmacia_1_15min  time_2farmacia   \n",
       "29587                 3         14.6326                 1             0.0  \\\n",
       "\n",
       "       farmacia_2_15min  time_3farmacia  farmacia_3_15min  time_farmacia   \n",
       "29587                 3             0.0                 1            0.0  \\\n",
       "\n",
       "       farmacia_15min                     geometry  \n",
       "29587               8  POINT (-70.71256 -33.45774)  "
      ]
     },
     "execution_count": 80,
     "metadata": {},
     "output_type": "execute_result"
    }
   ],
   "source": [
    "farmacias_allbatches = gpd.read_file(test_dir + \"03_splitting_merge_rename_col/nodes_time_farmacia.gpkg\")\n",
    "farmacias_allbatches.loc[farmacias_allbatches.osmid==farmacia_osmid]"
   ]
  },
  {
   "cell_type": "markdown",
   "id": "0fc4cf8c-e7ca-489f-93ac-d4a2815ca464",
   "metadata": {},
   "source": [
    "#### __Final test:__ Is the result correctly saved __(0.0 in time, 8 in count)__ in the project's (Script27b) nodes_analysis? (Success)"
   ]
  },
  {
   "cell_type": "code",
   "execution_count": 94,
   "id": "84a35900-0f7a-4901-85f6-cd834ea2b847",
   "metadata": {},
   "outputs": [
    {
     "data": {
      "text/html": [
       "<div>\n",
       "<style scoped>\n",
       "    .dataframe tbody tr th:only-of-type {\n",
       "        vertical-align: middle;\n",
       "    }\n",
       "\n",
       "    .dataframe tbody tr th {\n",
       "        vertical-align: top;\n",
       "    }\n",
       "\n",
       "    .dataframe thead th {\n",
       "        text-align: right;\n",
       "    }\n",
       "</style>\n",
       "<table border=\"1\" class=\"dataframe\">\n",
       "  <thead>\n",
       "    <tr style=\"text-align: right;\">\n",
       "      <th></th>\n",
       "      <th>osmid</th>\n",
       "      <th>farmacia_time</th>\n",
       "      <th>farmacia_count_15min</th>\n",
       "      <th>geometry</th>\n",
       "    </tr>\n",
       "  </thead>\n",
       "  <tbody>\n",
       "    <tr>\n",
       "      <th>29587</th>\n",
       "      <td>6067607409</td>\n",
       "      <td>0.0</td>\n",
       "      <td>8</td>\n",
       "      <td>POINT (-70.71256 -33.45774)</td>\n",
       "    </tr>\n",
       "  </tbody>\n",
       "</table>\n",
       "</div>"
      ],
      "text/plain": [
       "            osmid  farmacia_time  farmacia_count_15min   \n",
       "29587  6067607409            0.0                     8  \\\n",
       "\n",
       "                          geometry  \n",
       "29587  POINT (-70.71256 -33.45774)  "
      ]
     },
     "execution_count": 94,
     "metadata": {},
     "output_type": "execute_result"
    }
   ],
   "source": [
    "p_code = '00'\n",
    "nodes_analysis_project = gpd.read_file(accesibilidad_urbana+f\"data/external/santiago/output/project_{p_code}_osmnx/santiago_nodesanalysis_project_{p_code}.gpkg\")\n",
    "nodes_analysis_project.loc[nodes_analysis_project.osmid==farmacia_osmid]"
   ]
  },
  {
   "cell_type": "markdown",
   "id": "057bf9c5-0e74-4e70-92a3-8456c5b28381",
   "metadata": {
    "jp-MarkdownHeadingCollapsed": true
   },
   "source": [
    "## Script 27b debugging - Project's data only available in certain zones."
   ]
  },
  {
   "cell_type": "markdown",
   "id": "151ce62d-c734-49b1-a668-3d0adb5a36e3",
   "metadata": {},
   "source": [
    "#### * __Problem:__ When running not only farmacias, but other amenities, data is not available in a lot of zones. (NULLs, 0s).\n",
    "#### * __Approach:__ Run farmacias only. Analyse pois_time() test outputs and Script 27b test outputs untill nodes_analysis.\n",
    "#### * __Solution:__ Merge needed to be __<how='left'>__. Fixed."
   ]
  },
  {
   "cell_type": "code",
   "execution_count": null,
   "id": "179320ae-fa60-414d-b4fb-1bc19c01f4da",
   "metadata": {},
   "outputs": [],
   "source": []
  }
 ],
 "metadata": {
  "kernelspec": {
   "display_name": "GDS-10.0",
   "language": "python",
   "name": "gds"
  },
  "language_info": {
   "codemirror_mode": {
    "name": "ipython",
    "version": 3
   },
   "file_extension": ".py",
   "mimetype": "text/x-python",
   "name": "python",
   "nbconvert_exporter": "python",
   "pygments_lexer": "ipython3",
   "version": "3.9.18"
  }
 },
 "nbformat": 4,
 "nbformat_minor": 5
}
