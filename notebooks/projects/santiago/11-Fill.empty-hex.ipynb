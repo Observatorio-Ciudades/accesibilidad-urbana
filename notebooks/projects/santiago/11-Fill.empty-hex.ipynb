{
 "cells": [
  {
   "cell_type": "code",
   "execution_count": 1,
   "id": "85a88cbc-f1db-4175-ad58-5f043e569b65",
   "metadata": {},
   "outputs": [
    {
     "name": "stderr",
     "output_type": "stream",
     "text": [
      "/home/edgaregurrola/Repos/observatorio-ciudades/accesibilidad-urbana/aup/data.py:24: UserWarning: The `utils.config` function is deprecated and will be removed in a future release. Instead, use the `settings` module directly to configure a global setting's value. For example, `ox.settings.log_console=True`.\n",
      "  ox.config(\n"
     ]
    }
   ],
   "source": [
    "import geopandas as gpd\n",
    "import pandas as pd\n",
    "import numpy as np\n",
    "\n",
    "import warnings\n",
    "warnings.simplefilter(action='ignore', category=FutureWarning)\n",
    "\n",
    "import os\n",
    "import sys\n",
    "module_path = os.path.abspath(os.path.join('../../../'))\n",
    "if module_path not in sys.path:\n",
    "    sys.path.append(module_path)\n",
    "    import aup"
   ]
  },
  {
   "cell_type": "code",
   "execution_count": 2,
   "id": "4f48afba-1885-418a-9630-e2b4a5fc80e7",
   "metadata": {},
   "outputs": [],
   "source": [
    "# Compu Edgar\n",
    "grl_dir = \"../../../data/processed/santiago/\""
   ]
  },
  {
   "cell_type": "code",
   "execution_count": 3,
   "id": "c4869ba9-716a-4dc9-ad63-aca16ed3b4ca",
   "metadata": {},
   "outputs": [],
   "source": [
    "alameda = gpd.read_file(grl_dir + \"buffer 800m nueva alameda.shp\")"
   ]
  },
  {
   "cell_type": "code",
   "execution_count": 4,
   "id": "17cf1bae-0c08-4bca-9400-7c9847ec0a7e",
   "metadata": {},
   "outputs": [
    {
     "name": "stdout",
     "output_type": "stream",
     "text": [
      "(1096, 2)\n"
     ]
    },
    {
     "data": {
      "text/html": [
       "<div>\n",
       "<style scoped>\n",
       "    .dataframe tbody tr th:only-of-type {\n",
       "        vertical-align: middle;\n",
       "    }\n",
       "\n",
       "    .dataframe tbody tr th {\n",
       "        vertical-align: top;\n",
       "    }\n",
       "\n",
       "    .dataframe thead th {\n",
       "        text-align: right;\n",
       "    }\n",
       "</style>\n",
       "<table border=\"1\" class=\"dataframe\">\n",
       "  <thead>\n",
       "    <tr style=\"text-align: right;\">\n",
       "      <th></th>\n",
       "      <th>hex_id_10</th>\n",
       "      <th>geometry</th>\n",
       "    </tr>\n",
       "  </thead>\n",
       "  <tbody>\n",
       "    <tr>\n",
       "      <th>0</th>\n",
       "      <td>8ab2c556a677fff</td>\n",
       "      <td>POLYGON ((-70.63450 -33.43576, -70.63513 -33.4...</td>\n",
       "    </tr>\n",
       "    <tr>\n",
       "      <th>1</th>\n",
       "      <td>8ab2c556a0c7fff</td>\n",
       "      <td>POLYGON ((-70.63315 -33.43086, -70.63378 -33.4...</td>\n",
       "    </tr>\n",
       "  </tbody>\n",
       "</table>\n",
       "</div>"
      ],
      "text/plain": [
       "         hex_id_10                                           geometry\n",
       "0  8ab2c556a677fff  POLYGON ((-70.63450 -33.43576, -70.63513 -33.4...\n",
       "1  8ab2c556a0c7fff  POLYGON ((-70.63315 -33.43086, -70.63378 -33.4..."
      ]
     },
     "execution_count": 4,
     "metadata": {},
     "output_type": "execute_result"
    }
   ],
   "source": [
    "alameda = alameda.to_crs(\"EPSG:4326\")\n",
    "hex_gdf = aup.create_hexgrid(alameda, 10)\n",
    "print(hex_gdf.shape)\n",
    "hex_gdf.head(2)"
   ]
  },
  {
   "cell_type": "code",
   "execution_count": 5,
   "id": "55f48e2c-fdc5-4d16-8ae2-dcaaa43e736a",
   "metadata": {},
   "outputs": [
    {
     "data": {
      "text/plain": [
       "'schema = \\'projects_research\\'\\ntable = \\'santiago_nodesproximity_4_5_kmh\\'\\nsource = \\'edu_basica_pub\\'\\npoly_wkt = alameda.dissolve().geometry.to_wkt()[0]\\nquery = f\"SELECT * FROM {schema}.{table} WHERE ST_Intersects(geometry, \\'SRID=4326;{poly_wkt}\\') AND \"source\" = \\'{source}\\'\"\\ngdf_download = aup.gdf_from_query(query)'"
      ]
     },
     "execution_count": 5,
     "metadata": {},
     "output_type": "execute_result"
    }
   ],
   "source": [
    "'''schema = 'projects_research'\n",
    "table = 'santiago_nodesproximity_4_5_kmh'\n",
    "source = 'edu_basica_pub'\n",
    "poly_wkt = alameda.dissolve().geometry.to_wkt()[0]\n",
    "query = f\"SELECT * FROM {schema}.{table} WHERE ST_Intersects(geometry, 'SRID=4326;{poly_wkt}') AND \\\"source\\\" = \\'{source}\\'\"\n",
    "gdf_download = aup.gdf_from_query(query)'''"
   ]
  },
  {
   "cell_type": "code",
   "execution_count": 6,
   "id": "1e7c3aef-759c-40e1-b00f-170fe51c6cd8",
   "metadata": {},
   "outputs": [
    {
     "data": {
      "text/html": [
       "<div>\n",
       "<style scoped>\n",
       "    .dataframe tbody tr th:only-of-type {\n",
       "        vertical-align: middle;\n",
       "    }\n",
       "\n",
       "    .dataframe tbody tr th {\n",
       "        vertical-align: top;\n",
       "    }\n",
       "\n",
       "    .dataframe thead th {\n",
       "        text-align: right;\n",
       "    }\n",
       "</style>\n",
       "<table border=\"1\" class=\"dataframe\">\n",
       "  <thead>\n",
       "    <tr style=\"text-align: right;\">\n",
       "      <th></th>\n",
       "      <th>osmid</th>\n",
       "      <th>supermercado_time</th>\n",
       "      <th>supermercado_count_15min</th>\n",
       "      <th>clinica_priv_time</th>\n",
       "      <th>clinica_priv_count_15min</th>\n",
       "      <th>clinica_pub_time</th>\n",
       "      <th>clinica_pub_count_15min</th>\n",
       "      <th>hospital_priv_time</th>\n",
       "      <th>hospital_priv_count_15min</th>\n",
       "      <th>hospital_pub_time</th>\n",
       "      <th>...</th>\n",
       "      <th>librerias_time</th>\n",
       "      <th>librerias_count_15min</th>\n",
       "      <th>local_mini_market_time</th>\n",
       "      <th>local_mini_market_count_15min</th>\n",
       "      <th>bakeries_time</th>\n",
       "      <th>bakeries_count_15min</th>\n",
       "      <th>restaurantes_bar_cafe_time</th>\n",
       "      <th>restaurantes_bar_cafe_count_15min</th>\n",
       "      <th>city</th>\n",
       "      <th>geometry</th>\n",
       "    </tr>\n",
       "  </thead>\n",
       "  <tbody>\n",
       "    <tr>\n",
       "      <th>0</th>\n",
       "      <td>386138</td>\n",
       "      <td>5.337897</td>\n",
       "      <td>8</td>\n",
       "      <td>0.416410</td>\n",
       "      <td>19</td>\n",
       "      <td>24.706454</td>\n",
       "      <td>0</td>\n",
       "      <td>6.773174</td>\n",
       "      <td>1</td>\n",
       "      <td>12.855830</td>\n",
       "      <td>...</td>\n",
       "      <td>2.862839</td>\n",
       "      <td>21</td>\n",
       "      <td>2.206940</td>\n",
       "      <td>79</td>\n",
       "      <td>0.415357</td>\n",
       "      <td>38</td>\n",
       "      <td>0.415357</td>\n",
       "      <td>153</td>\n",
       "      <td>Santiago</td>\n",
       "      <td>POINT (-70.64625 -33.44290)</td>\n",
       "    </tr>\n",
       "    <tr>\n",
       "      <th>1</th>\n",
       "      <td>386139</td>\n",
       "      <td>4.304996</td>\n",
       "      <td>10</td>\n",
       "      <td>0.525741</td>\n",
       "      <td>21</td>\n",
       "      <td>23.598733</td>\n",
       "      <td>0</td>\n",
       "      <td>8.051900</td>\n",
       "      <td>1</td>\n",
       "      <td>14.134556</td>\n",
       "      <td>...</td>\n",
       "      <td>2.665707</td>\n",
       "      <td>22</td>\n",
       "      <td>2.221295</td>\n",
       "      <td>83</td>\n",
       "      <td>1.300392</td>\n",
       "      <td>42</td>\n",
       "      <td>1.694083</td>\n",
       "      <td>155</td>\n",
       "      <td>Santiago</td>\n",
       "      <td>POINT (-70.64725 -33.44313)</td>\n",
       "    </tr>\n",
       "  </tbody>\n",
       "</table>\n",
       "<p>2 rows × 81 columns</p>\n",
       "</div>"
      ],
      "text/plain": [
       "    osmid  supermercado_time  supermercado_count_15min  clinica_priv_time  \\\n",
       "0  386138           5.337897                         8           0.416410   \n",
       "1  386139           4.304996                        10           0.525741   \n",
       "\n",
       "   clinica_priv_count_15min  clinica_pub_time  clinica_pub_count_15min  \\\n",
       "0                        19         24.706454                        0   \n",
       "1                        21         23.598733                        0   \n",
       "\n",
       "   hospital_priv_time  hospital_priv_count_15min  hospital_pub_time  ...  \\\n",
       "0            6.773174                          1          12.855830  ...   \n",
       "1            8.051900                          1          14.134556  ...   \n",
       "\n",
       "   librerias_time  librerias_count_15min  local_mini_market_time  \\\n",
       "0        2.862839                     21                2.206940   \n",
       "1        2.665707                     22                2.221295   \n",
       "\n",
       "   local_mini_market_count_15min  bakeries_time  bakeries_count_15min  \\\n",
       "0                             79       0.415357                    38   \n",
       "1                             83       1.300392                    42   \n",
       "\n",
       "   restaurantes_bar_cafe_time  restaurantes_bar_cafe_count_15min      city  \\\n",
       "0                    0.415357                                153  Santiago   \n",
       "1                    1.694083                                155  Santiago   \n",
       "\n",
       "                      geometry  \n",
       "0  POINT (-70.64625 -33.44290)  \n",
       "1  POINT (-70.64725 -33.44313)  \n",
       "\n",
       "[2 rows x 81 columns]"
      ]
     },
     "execution_count": 6,
     "metadata": {},
     "output_type": "execute_result"
    }
   ],
   "source": [
    "nodes_prox = gpd.read_file(grl_dir + 'santiago_nodesproximity_format_4_5_kmh.gpkg')\n",
    "nodes_prox.head(2) "
   ]
  },
  {
   "cell_type": "code",
   "execution_count": 7,
   "id": "3e602748-0767-46a3-a52c-508ec5dc93be",
   "metadata": {},
   "outputs": [],
   "source": [
    "nodes_prox = nodes_prox[['osmid','supermercado_time','supermercado_count_15min','geometry']].copy()"
   ]
  },
  {
   "cell_type": "code",
   "execution_count": 65,
   "id": "d40d553e-5fec-4800-b3c9-57bf57954909",
   "metadata": {},
   "outputs": [],
   "source": [
    "hex_prox = aup.group_by_hex_mean(nodes_prox, hex_gdf, 10, \n",
    "                                 ['supermercado_time','supermercado_count_15min'],'hex_id_10', osmid=True)\n",
    "hex_prox.loc[hex_prox.supermercado_time==0,'supermercado_count_15min'] = np.nan\n",
    "hex_prox.loc[hex_prox.supermercado_time==0,'supermercado_time'] = np.nan"
   ]
  },
  {
   "cell_type": "code",
   "execution_count": 66,
   "id": "da62c56b-e85d-4d64-a1c5-3693cb0dfdd2",
   "metadata": {},
   "outputs": [],
   "source": [
    "import h3\n",
    "def neighbour_mean(hex_id, hex_id_name, hex_bins, col_name):\n",
    "    return hex_bins.loc[hex_bins[hex_id_name].isin(h3.k_ring(hex_id,1)),col_name].mean()"
   ]
  },
  {
   "cell_type": "code",
   "execution_count": 67,
   "id": "1c15ef5d-8d80-49ed-bdb5-665e4e475257",
   "metadata": {},
   "outputs": [],
   "source": [
    "hex_idxs = h3.k_ring(hex_prox.loc[pd.isna(hex_prox.supermercado_time),'hex_id_10'].sample(1).iloc[0],1)\n",
    "# hex_prox.loc[hex_prox.hex_id_10.isin(hex_idxs)].supermercado_count_15min.mean()"
   ]
  },
  {
   "cell_type": "code",
   "execution_count": 73,
   "id": "bded87e5-9a0f-47b3-aa7d-235fa7f7a6d8",
   "metadata": {},
   "outputs": [
    {
     "data": {
      "text/html": [
       "<div>\n",
       "<style scoped>\n",
       "    .dataframe tbody tr th:only-of-type {\n",
       "        vertical-align: middle;\n",
       "    }\n",
       "\n",
       "    .dataframe tbody tr th {\n",
       "        vertical-align: top;\n",
       "    }\n",
       "\n",
       "    .dataframe thead th {\n",
       "        text-align: right;\n",
       "    }\n",
       "</style>\n",
       "<table border=\"1\" class=\"dataframe\">\n",
       "  <thead>\n",
       "    <tr style=\"text-align: right;\">\n",
       "      <th></th>\n",
       "      <th>hex_id_10</th>\n",
       "      <th>geometry</th>\n",
       "      <th>supermercado_time</th>\n",
       "      <th>supermercado_count_15min</th>\n",
       "    </tr>\n",
       "  </thead>\n",
       "  <tbody>\n",
       "    <tr>\n",
       "      <th>188</th>\n",
       "      <td>8ab2c55512c7fff</td>\n",
       "      <td>POLYGON ((-70.71644 -33.45783, -70.71708 -33.4...</td>\n",
       "      <td>6.016352</td>\n",
       "      <td>1.0</td>\n",
       "    </tr>\n",
       "    <tr>\n",
       "      <th>448</th>\n",
       "      <td>8ab2c55512cffff</td>\n",
       "      <td>POLYGON ((-70.71563 -33.45863, -70.71626 -33.4...</td>\n",
       "      <td>NaN</td>\n",
       "      <td>1.0</td>\n",
       "    </tr>\n",
       "    <tr>\n",
       "      <th>1039</th>\n",
       "      <td>8ab2c55512dffff</td>\n",
       "      <td>POLYGON ((-70.71699 -33.45886, -70.71762 -33.4...</td>\n",
       "      <td>7.897747</td>\n",
       "      <td>1.0</td>\n",
       "    </tr>\n",
       "    <tr>\n",
       "      <th>716</th>\n",
       "      <td>8ab2c55512effff</td>\n",
       "      <td>POLYGON ((-70.71509 -33.45761, -70.71572 -33.4...</td>\n",
       "      <td>4.819466</td>\n",
       "      <td>1.0</td>\n",
       "    </tr>\n",
       "    <tr>\n",
       "      <th>60</th>\n",
       "      <td>8ab2c555c597fff</td>\n",
       "      <td>POLYGON ((-70.71482 -33.45943, -70.71545 -33.4...</td>\n",
       "      <td>5.955766</td>\n",
       "      <td>1.0</td>\n",
       "    </tr>\n",
       "    <tr>\n",
       "      <th>699</th>\n",
       "      <td>8ab2c555c5b7fff</td>\n",
       "      <td>POLYGON ((-70.71428 -33.45841, -70.71491 -33.4...</td>\n",
       "      <td>6.295298</td>\n",
       "      <td>1.0</td>\n",
       "    </tr>\n",
       "    <tr>\n",
       "      <th>127</th>\n",
       "      <td>8ab2c555e967fff</td>\n",
       "      <td>POLYGON ((-70.71617 -33.45966, -70.71681 -33.4...</td>\n",
       "      <td>5.863535</td>\n",
       "      <td>1.0</td>\n",
       "    </tr>\n",
       "  </tbody>\n",
       "</table>\n",
       "</div>"
      ],
      "text/plain": [
       "            hex_id_10                                           geometry  \\\n",
       "188   8ab2c55512c7fff  POLYGON ((-70.71644 -33.45783, -70.71708 -33.4...   \n",
       "448   8ab2c55512cffff  POLYGON ((-70.71563 -33.45863, -70.71626 -33.4...   \n",
       "1039  8ab2c55512dffff  POLYGON ((-70.71699 -33.45886, -70.71762 -33.4...   \n",
       "716   8ab2c55512effff  POLYGON ((-70.71509 -33.45761, -70.71572 -33.4...   \n",
       "60    8ab2c555c597fff  POLYGON ((-70.71482 -33.45943, -70.71545 -33.4...   \n",
       "699   8ab2c555c5b7fff  POLYGON ((-70.71428 -33.45841, -70.71491 -33.4...   \n",
       "127   8ab2c555e967fff  POLYGON ((-70.71617 -33.45966, -70.71681 -33.4...   \n",
       "\n",
       "      supermercado_time  supermercado_count_15min  \n",
       "188            6.016352                       1.0  \n",
       "448                 NaN                       1.0  \n",
       "1039           7.897747                       1.0  \n",
       "716            4.819466                       1.0  \n",
       "60             5.955766                       1.0  \n",
       "699            6.295298                       1.0  \n",
       "127            5.863535                       1.0  "
      ]
     },
     "execution_count": 73,
     "metadata": {},
     "output_type": "execute_result"
    }
   ],
   "source": [
    "hex_prox.loc[hex_prox.hex_id_10.isin(hex_idxs)]"
   ]
  },
  {
   "cell_type": "code",
   "execution_count": 69,
   "id": "4c2eeaff-78ab-40f5-a908-e2243a2c8667",
   "metadata": {},
   "outputs": [
    {
     "data": {
      "text/plain": [
       "1.0"
      ]
     },
     "execution_count": 69,
     "metadata": {},
     "output_type": "execute_result"
    }
   ],
   "source": [
    "hex_prox.loc[hex_prox.hex_id_10.isin(hex_idxs)].supermercado_count_15min.mean()"
   ]
  },
  {
   "cell_type": "code",
   "execution_count": 70,
   "id": "f7603648-2e4d-4c14-8032-0a3d5401d344",
   "metadata": {},
   "outputs": [
    {
     "data": {
      "text/html": [
       "<div>\n",
       "<style scoped>\n",
       "    .dataframe tbody tr th:only-of-type {\n",
       "        vertical-align: middle;\n",
       "    }\n",
       "\n",
       "    .dataframe tbody tr th {\n",
       "        vertical-align: top;\n",
       "    }\n",
       "\n",
       "    .dataframe thead th {\n",
       "        text-align: right;\n",
       "    }\n",
       "</style>\n",
       "<table border=\"1\" class=\"dataframe\">\n",
       "  <thead>\n",
       "    <tr style=\"text-align: right;\">\n",
       "      <th></th>\n",
       "      <th>hex_id_10</th>\n",
       "      <th>geometry</th>\n",
       "      <th>supermercado_time</th>\n",
       "      <th>supermercado_count_15min</th>\n",
       "    </tr>\n",
       "  </thead>\n",
       "  <tbody>\n",
       "    <tr>\n",
       "      <th>363</th>\n",
       "      <td>8ab2c554121ffff</td>\n",
       "      <td>POLYGON ((-70.65045 -33.44496, -70.65108 -33.4...</td>\n",
       "      <td>NaN</td>\n",
       "      <td>NaN</td>\n",
       "    </tr>\n",
       "    <tr>\n",
       "      <th>242</th>\n",
       "      <td>8ab2c55412d7fff</td>\n",
       "      <td>POLYGON ((-70.65153 -33.44700, -70.65216 -33.4...</td>\n",
       "      <td>NaN</td>\n",
       "      <td>NaN</td>\n",
       "    </tr>\n",
       "    <tr>\n",
       "      <th>992</th>\n",
       "      <td>8ab2c554142ffff</td>\n",
       "      <td>POLYGON ((-70.66370 -33.43970, -70.66434 -33.4...</td>\n",
       "      <td>NaN</td>\n",
       "      <td>NaN</td>\n",
       "    </tr>\n",
       "    <tr>\n",
       "      <th>173</th>\n",
       "      <td>8ab2c5541477fff</td>\n",
       "      <td>POLYGON ((-70.66289 -33.44050, -70.66352 -33.4...</td>\n",
       "      <td>NaN</td>\n",
       "      <td>NaN</td>\n",
       "    </tr>\n",
       "    <tr>\n",
       "      <th>326</th>\n",
       "      <td>8ab2c5541497fff</td>\n",
       "      <td>POLYGON ((-70.66965 -33.44163, -70.67028 -33.4...</td>\n",
       "      <td>NaN</td>\n",
       "      <td>NaN</td>\n",
       "    </tr>\n",
       "    <tr>\n",
       "      <th>...</th>\n",
       "      <td>...</td>\n",
       "      <td>...</td>\n",
       "      <td>...</td>\n",
       "      <td>...</td>\n",
       "    </tr>\n",
       "    <tr>\n",
       "      <th>1070</th>\n",
       "      <td>8ab2c555e867fff</td>\n",
       "      <td>POLYGON ((-70.71644 -33.46250, -70.71708 -33.4...</td>\n",
       "      <td>NaN</td>\n",
       "      <td>NaN</td>\n",
       "    </tr>\n",
       "    <tr>\n",
       "      <th>746</th>\n",
       "      <td>8ab2c555e937fff</td>\n",
       "      <td>POLYGON ((-70.72050 -33.45851, -70.72113 -33.4...</td>\n",
       "      <td>NaN</td>\n",
       "      <td>NaN</td>\n",
       "    </tr>\n",
       "    <tr>\n",
       "      <th>819</th>\n",
       "      <td>8ab2c555e94ffff</td>\n",
       "      <td>POLYGON ((-70.71590 -33.46148, -70.71653 -33.4...</td>\n",
       "      <td>NaN</td>\n",
       "      <td>NaN</td>\n",
       "    </tr>\n",
       "    <tr>\n",
       "      <th>1090</th>\n",
       "      <td>8ab2c556a2effff</td>\n",
       "      <td>POLYGON ((-70.62612 -33.43622, -70.62675 -33.4...</td>\n",
       "      <td>NaN</td>\n",
       "      <td>NaN</td>\n",
       "    </tr>\n",
       "    <tr>\n",
       "      <th>85</th>\n",
       "      <td>8ab2c556a707fff</td>\n",
       "      <td>POLYGON ((-70.63640 -33.43234, -70.63703 -33.4...</td>\n",
       "      <td>NaN</td>\n",
       "      <td>NaN</td>\n",
       "    </tr>\n",
       "  </tbody>\n",
       "</table>\n",
       "<p>85 rows × 4 columns</p>\n",
       "</div>"
      ],
      "text/plain": [
       "            hex_id_10                                           geometry  \\\n",
       "363   8ab2c554121ffff  POLYGON ((-70.65045 -33.44496, -70.65108 -33.4...   \n",
       "242   8ab2c55412d7fff  POLYGON ((-70.65153 -33.44700, -70.65216 -33.4...   \n",
       "992   8ab2c554142ffff  POLYGON ((-70.66370 -33.43970, -70.66434 -33.4...   \n",
       "173   8ab2c5541477fff  POLYGON ((-70.66289 -33.44050, -70.66352 -33.4...   \n",
       "326   8ab2c5541497fff  POLYGON ((-70.66965 -33.44163, -70.67028 -33.4...   \n",
       "...               ...                                                ...   \n",
       "1070  8ab2c555e867fff  POLYGON ((-70.71644 -33.46250, -70.71708 -33.4...   \n",
       "746   8ab2c555e937fff  POLYGON ((-70.72050 -33.45851, -70.72113 -33.4...   \n",
       "819   8ab2c555e94ffff  POLYGON ((-70.71590 -33.46148, -70.71653 -33.4...   \n",
       "1090  8ab2c556a2effff  POLYGON ((-70.62612 -33.43622, -70.62675 -33.4...   \n",
       "85    8ab2c556a707fff  POLYGON ((-70.63640 -33.43234, -70.63703 -33.4...   \n",
       "\n",
       "      supermercado_time  supermercado_count_15min  \n",
       "363                 NaN                       NaN  \n",
       "242                 NaN                       NaN  \n",
       "992                 NaN                       NaN  \n",
       "173                 NaN                       NaN  \n",
       "326                 NaN                       NaN  \n",
       "...                 ...                       ...  \n",
       "1070                NaN                       NaN  \n",
       "746                 NaN                       NaN  \n",
       "819                 NaN                       NaN  \n",
       "1090                NaN                       NaN  \n",
       "85                  NaN                       NaN  \n",
       "\n",
       "[85 rows x 4 columns]"
      ]
     },
     "execution_count": 70,
     "metadata": {},
     "output_type": "execute_result"
    }
   ],
   "source": [
    "hex_prox.loc[pd.isna(hex_prox.supermercado_count_15min)]"
   ]
  },
  {
   "cell_type": "code",
   "execution_count": 71,
   "id": "a7c2590e-11f5-49b4-9698-ffc9e936c3b6",
   "metadata": {},
   "outputs": [],
   "source": [
    "hex_prox.loc[pd.isna(hex_prox.supermercado_count_15min),'supermercado_count_15min'] = hex_prox.loc[pd.isna(hex_prox.supermercado_count_15min)].apply(lambda x: neighbour_mean(x['hex_id_10'],\n",
    "                                                                                                                                                   'hex_id_10',\n",
    "                                                                                                                                                   hex_prox,\n",
    "                                                                                                                                                   'supermercado_count_15min'), axis=1)"
   ]
  },
  {
   "cell_type": "code",
   "execution_count": 72,
   "id": "a8bfe7a4-295d-4e2a-8419-f4fdceefefb8",
   "metadata": {},
   "outputs": [
    {
     "data": {
      "text/plain": [
       "Series([], Name: supermercado_count_15min, dtype: float64)"
      ]
     },
     "execution_count": 72,
     "metadata": {},
     "output_type": "execute_result"
    }
   ],
   "source": [
    "hex_prox.loc[pd.isna(hex_prox.supermercado_count_15min),'supermercado_count_15min']"
   ]
  },
  {
   "cell_type": "code",
   "execution_count": null,
   "id": "ffc31923-90dc-4820-be68-23b3fe9ac984",
   "metadata": {},
   "outputs": [],
   "source": []
  }
 ],
 "metadata": {
  "kernelspec": {
   "display_name": "odc",
   "language": "python",
   "name": "odc"
  },
  "language_info": {
   "codemirror_mode": {
    "name": "ipython",
    "version": 3
   },
   "file_extension": ".py",
   "mimetype": "text/x-python",
   "name": "python",
   "nbconvert_exporter": "python",
   "pygments_lexer": "ipython3",
   "version": "3.10.4"
  }
 },
 "nbformat": 4,
 "nbformat_minor": 5
}
