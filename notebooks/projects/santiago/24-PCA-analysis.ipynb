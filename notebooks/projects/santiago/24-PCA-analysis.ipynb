{
 "cells": [
  {
   "cell_type": "markdown",
   "id": "6559f56d-63a1-4541-a123-ce7b53dd20c2",
   "metadata": {},
   "source": [
    "# 24 - PCA analysis"
   ]
  },
  {
   "cell_type": "markdown",
   "id": "e4fc9455-7cac-4738-a9a5-33e77829febd",
   "metadata": {},
   "source": [
    "ANOVA - Analysis of variance"
   ]
  },
  {
   "cell_type": "markdown",
   "id": "039230f6-19d6-4cef-9353-ab876e35dc4b",
   "metadata": {},
   "source": [
    "## Import libraries"
   ]
  },
  {
   "cell_type": "code",
   "execution_count": 13,
   "id": "cb40ad7a-c2af-475f-a403-ae51994b6207",
   "metadata": {},
   "outputs": [],
   "source": [
    "import geopandas as gpd\n",
    "import pandas as pd\n",
    "import numpy as np\n",
    "\n",
    "import warnings\n",
    "warnings.simplefilter(action='ignore', category=FutureWarning)\n",
    "\n",
    "import seaborn as sns\n",
    "from sklearn.decomposition import PCA\n",
    "from sklearn.preprocessing import StandardScaler\n",
    "\n",
    "import numpy as np\n",
    "import pandas as pd\n",
    "import matplotlib.pyplot as plt\n",
    "\n",
    "import matplotlib.pyplot as plt\n",
    "\n",
    "import os\n",
    "import sys\n",
    "module_path = os.path.abspath(os.path.join('../../../'))\n",
    "if module_path not in sys.path:\n",
    "    sys.path.append(module_path)\n",
    "    import aup"
   ]
  },
  {
   "cell_type": "markdown",
   "id": "f258ea8f-e2d6-4aeb-8377-e501e81d2319",
   "metadata": {},
   "source": [
    "## Config notebook"
   ]
  },
  {
   "cell_type": "markdown",
   "id": "952a8293-5c38-4feb-a662-b8b609aa4372",
   "metadata": {},
   "source": [
    "## Config notebook"
   ]
  },
  {
   "cell_type": "code",
   "execution_count": 2,
   "id": "c29dac68-86ee-4e88-b3b5-765d11a69bc3",
   "metadata": {},
   "outputs": [],
   "source": [
    "##### WARNING ##### WARNING ##### WARNING ##### WARNING ##### WARNING #####\n",
    "\n",
    "# save output to database?\n",
    "save = False\n",
    "# How to save?\n",
    "if_exists='append'\n",
    "# save to local?\n",
    "save_local = False\n",
    "# use local data?\n",
    "local_data = False\n",
    "##### WARNING ##### WARNING ##### WARNING ##### WARNING ##### WARNING #####"
   ]
  },
  {
   "cell_type": "code",
   "execution_count": 3,
   "id": "4a3241da-204a-4813-856d-99a646fae428",
   "metadata": {},
   "outputs": [],
   "source": [
    "# 'alex' or 'edgar'\n",
    "all_local_dirs = 'edgar'\n",
    "# Output hexs resolution\n",
    "res = 10\n",
    "# Persona speed\n",
    "walk_speed = 4.5\n",
    "speed_name = str(walk_speed).replace('.','_')"
   ]
  },
  {
   "cell_type": "code",
   "execution_count": 4,
   "id": "2de61e2c-a864-47c8-bb9e-b8fdcd87c905",
   "metadata": {
    "scrolled": true
   },
   "outputs": [],
   "source": [
    "if all_local_dirs == 'alex':\n",
    "    grl_dir = \"../../../data/external/temporal_todocker/santiago/proximidad/\"\n",
    "elif all_local_dirs == 'edgar':\n",
    "    grl_dir = \"../../../data/processed/santiago/\"\n",
    "else:\n",
    "    print(\"WARNING: Fix all_local_dirs variable\")"
   ]
  },
  {
   "cell_type": "markdown",
   "id": "78bba360-a124-4d20-9820-e3a4d0b62765",
   "metadata": {},
   "source": [
    "## __Load data__"
   ]
  },
  {
   "cell_type": "markdown",
   "id": "0c42b7d5-3fec-4ce5-8271-8bcf1aea6256",
   "metadata": {},
   "source": [
    "### __Load data__ - Pois proximity (regular and unique ID pois)"
   ]
  },
  {
   "cell_type": "code",
   "execution_count": 5,
   "id": "d13896ec-7f19-49c6-b5b7-ea434c1ef50e",
   "metadata": {},
   "outputs": [
    {
     "name": "stdout",
     "output_type": "stream",
     "text": [
      "(58695, 31)\n"
     ]
    },
    {
     "data": {
      "text/html": [
       "<div>\n",
       "<style scoped>\n",
       "    .dataframe tbody tr th:only-of-type {\n",
       "        vertical-align: middle;\n",
       "    }\n",
       "\n",
       "    .dataframe tbody tr th {\n",
       "        vertical-align: top;\n",
       "    }\n",
       "\n",
       "    .dataframe thead th {\n",
       "        text-align: right;\n",
       "    }\n",
       "</style>\n",
       "<table border=\"1\" class=\"dataframe\">\n",
       "  <thead>\n",
       "    <tr style=\"text-align: right;\">\n",
       "      <th></th>\n",
       "      <th>wellbeing_supplying</th>\n",
       "      <th>wellbeing_caring</th>\n",
       "      <th>wellbeing_living</th>\n",
       "      <th>wellbeing_enjoying</th>\n",
       "      <th>wellbeing_learning</th>\n",
       "      <th>wellbeing_working</th>\n",
       "      <th>wellbeing</th>\n",
       "      <th>sociability_supplying</th>\n",
       "      <th>sociability_caring</th>\n",
       "      <th>sociability_living</th>\n",
       "      <th>...</th>\n",
       "      <th>hex_id</th>\n",
       "      <th>geometry</th>\n",
       "      <th>supplying</th>\n",
       "      <th>caring</th>\n",
       "      <th>living</th>\n",
       "      <th>enjoying</th>\n",
       "      <th>learning</th>\n",
       "      <th>working</th>\n",
       "      <th>hqsl</th>\n",
       "      <th>res</th>\n",
       "    </tr>\n",
       "  </thead>\n",
       "  <tbody>\n",
       "    <tr>\n",
       "      <th>0</th>\n",
       "      <td>5.833333</td>\n",
       "      <td>5.833333</td>\n",
       "      <td>5.0</td>\n",
       "      <td>5.638199</td>\n",
       "      <td>7.5</td>\n",
       "      <td>4.166667</td>\n",
       "      <td>33.971533</td>\n",
       "      <td>4.583333</td>\n",
       "      <td>1.875</td>\n",
       "      <td>0.543189</td>\n",
       "      <td>...</td>\n",
       "      <td>8ab2c5540647fff</td>\n",
       "      <td>POLYGON ((-70.67723 -33.43729, -70.67786 -33.4...</td>\n",
       "      <td>5.87963</td>\n",
       "      <td>5.25712</td>\n",
       "      <td>3.59773</td>\n",
       "      <td>4.894993</td>\n",
       "      <td>5.833333</td>\n",
       "      <td>4.943534</td>\n",
       "      <td>30.406339</td>\n",
       "      <td>10</td>\n",
       "    </tr>\n",
       "  </tbody>\n",
       "</table>\n",
       "<p>1 rows × 31 columns</p>\n",
       "</div>"
      ],
      "text/plain": [
       "   wellbeing_supplying  wellbeing_caring  wellbeing_living  \\\n",
       "0             5.833333          5.833333               5.0   \n",
       "\n",
       "   wellbeing_enjoying  wellbeing_learning  wellbeing_working  wellbeing  \\\n",
       "0            5.638199                 7.5           4.166667  33.971533   \n",
       "\n",
       "   sociability_supplying  sociability_caring  sociability_living  ...  \\\n",
       "0               4.583333               1.875            0.543189  ...   \n",
       "\n",
       "            hex_id                                           geometry  \\\n",
       "0  8ab2c5540647fff  POLYGON ((-70.67723 -33.43729, -70.67786 -33.4...   \n",
       "\n",
       "   supplying   caring   living  enjoying  learning   working       hqsl  res  \n",
       "0    5.87963  5.25712  3.59773  4.894993  5.833333  4.943534  30.406339   10  \n",
       "\n",
       "[1 rows x 31 columns]"
      ]
     },
     "execution_count": 5,
     "metadata": {},
     "output_type": "execute_result"
    }
   ],
   "source": [
    "if local_data:\n",
    "    hex_gdf = gpd.read_file(grl_dir + f'santiago_hexanalysis_{speed_name}_kmh_res{res}.gpkg')\n",
    "else:\n",
    "    query = f'SELECT * FROM projects_research.santiago_hexanalysis_{speed_name}_kmh WHERE res = {res}'\n",
    "    hex_gdf = aup.gdf_from_query(query)\n",
    "\n",
    "# Show\n",
    "print(hex_gdf.shape)\n",
    "hex_gdf.head(1)"
   ]
  },
  {
   "cell_type": "markdown",
   "id": "35e20360-e0ae-43ef-94d5-c4c516a4b8ea",
   "metadata": {},
   "source": [
    "### __Load data__ - Comunas"
   ]
  },
  {
   "cell_type": "code",
   "execution_count": 6,
   "id": "3086c704-84bc-40a9-aa74-276439720e08",
   "metadata": {
    "scrolled": true
   },
   "outputs": [
    {
     "name": "stdout",
     "output_type": "stream",
     "text": [
      "(36, 3)\n"
     ]
    },
    {
     "data": {
      "text/html": [
       "<div>\n",
       "<style scoped>\n",
       "    .dataframe tbody tr th:only-of-type {\n",
       "        vertical-align: middle;\n",
       "    }\n",
       "\n",
       "    .dataframe tbody tr th {\n",
       "        vertical-align: top;\n",
       "    }\n",
       "\n",
       "    .dataframe thead th {\n",
       "        text-align: right;\n",
       "    }\n",
       "</style>\n",
       "<table border=\"1\" class=\"dataframe\">\n",
       "  <thead>\n",
       "    <tr style=\"text-align: right;\">\n",
       "      <th></th>\n",
       "      <th>Nombre</th>\n",
       "      <th>area_ha</th>\n",
       "      <th>geometry</th>\n",
       "    </tr>\n",
       "  </thead>\n",
       "  <tbody>\n",
       "    <tr>\n",
       "      <th>0</th>\n",
       "      <td>San Joaquín</td>\n",
       "      <td>987.687671</td>\n",
       "      <td>POLYGON ((-70.62342 -33.47338, -70.62292 -33.4...</td>\n",
       "    </tr>\n",
       "  </tbody>\n",
       "</table>\n",
       "</div>"
      ],
      "text/plain": [
       "        Nombre     area_ha                                           geometry\n",
       "0  San Joaquín  987.687671  POLYGON ((-70.62342 -33.47338, -70.62292 -33.4..."
      ]
     },
     "execution_count": 6,
     "metadata": {},
     "output_type": "execute_result"
    }
   ],
   "source": [
    "# From notebook 12-Areal-data-to-hex.ipynb\n",
    "if all_local_dirs == 'alex':\n",
    "    comuna_gdf = gpd.read_file(grl_dir + 'santiago_comunas.geojson')\n",
    "elif all_local_dirs == 'edgar':\n",
    "    comuna_gdf = gpd.read_file(grl_dir + 'santiago_comunas.geojson')\n",
    "\n",
    "# Show\n",
    "comuna_gdf = comuna_gdf.explode()\n",
    "comuna_gdf['area_ha'] = comuna_gdf.to_crs(\"EPSG:32719\").area/10000\n",
    "comuna_gdf = comuna_gdf[['Comuna','area_ha','geometry']]\n",
    "comuna_gdf = comuna_gdf.rename(columns={'Comuna':'Nombre'})\n",
    "comuna_gdf = comuna_gdf.reset_index(drop=True)\n",
    "print(comuna_gdf.shape)\n",
    "comuna_gdf.head(1)"
   ]
  },
  {
   "cell_type": "markdown",
   "id": "f16c5619-6fc8-45cb-9a66-22dd82aa3f25",
   "metadata": {},
   "source": [
    "### __Load data__ - Buffer Alameda"
   ]
  },
  {
   "cell_type": "code",
   "execution_count": 7,
   "id": "cf1e528d-e24d-44c3-81c4-58bce48ed499",
   "metadata": {},
   "outputs": [
    {
     "name": "stdout",
     "output_type": "stream",
     "text": [
      "(1, 3)\n"
     ]
    },
    {
     "data": {
      "text/html": [
       "<div>\n",
       "<style scoped>\n",
       "    .dataframe tbody tr th:only-of-type {\n",
       "        vertical-align: middle;\n",
       "    }\n",
       "\n",
       "    .dataframe tbody tr th {\n",
       "        vertical-align: top;\n",
       "    }\n",
       "\n",
       "    .dataframe thead th {\n",
       "        text-align: right;\n",
       "    }\n",
       "</style>\n",
       "<table border=\"1\" class=\"dataframe\">\n",
       "  <thead>\n",
       "    <tr style=\"text-align: right;\">\n",
       "      <th></th>\n",
       "      <th>Nombre</th>\n",
       "      <th>area_ha</th>\n",
       "      <th>geometry</th>\n",
       "    </tr>\n",
       "  </thead>\n",
       "  <tbody>\n",
       "    <tr>\n",
       "      <th>0</th>\n",
       "      <td>Nueva Alameda</td>\n",
       "      <td>2266.840098</td>\n",
       "      <td>POLYGON ((-70.71634 -33.46959, -70.71651 -33.4...</td>\n",
       "    </tr>\n",
       "  </tbody>\n",
       "</table>\n",
       "</div>"
      ],
      "text/plain": [
       "          Nombre      area_ha  \\\n",
       "0  Nueva Alameda  2266.840098   \n",
       "\n",
       "                                            geometry  \n",
       "0  POLYGON ((-70.71634 -33.46959, -70.71651 -33.4...  "
      ]
     },
     "execution_count": 7,
     "metadata": {},
     "output_type": "execute_result"
    }
   ],
   "source": [
    "# From notebook 12-Areal-data-to-hex.ipynb\n",
    "if all_local_dirs == 'alex':\n",
    "    alameda_gdf = gpd.read_file(grl_dir + 'unidades_vecinales_buffer800m_alameda_v2.gpkg')\n",
    "elif all_local_dirs == 'edgar':\n",
    "    alameda_gdf = gpd.read_file(grl_dir + 'unidades_vecinales_buffer800m_alameda_v2.gpkg')\n",
    "\n",
    "# Show\n",
    "alameda_gdf = alameda_gdf.dissolve()\n",
    "alameda_gdf['area_ha'] = alameda_gdf.to_crs(\"EPSG:32719\").area/10000\n",
    "alameda_gdf['Nombre'] = 'Nueva Alameda'\n",
    "alameda_gdf = alameda_gdf[['Nombre','area_ha','geometry']]\n",
    "print(alameda_gdf.shape)\n",
    "alameda_gdf.head(1)"
   ]
  },
  {
   "cell_type": "markdown",
   "id": "382aecec-fd2f-4dfe-8184-0c1dd06efbe0",
   "metadata": {},
   "source": [
    "## PCA"
   ]
  },
  {
   "cell_type": "markdown",
   "id": "4e53f5b0-bf8a-47d4-a39e-7880c103177d",
   "metadata": {},
   "source": [
    "### Data by area of analysis"
   ]
  },
  {
   "cell_type": "code",
   "execution_count": 48,
   "id": "441ed42b-5c9d-4e0b-b91d-79161db7555f",
   "metadata": {},
   "outputs": [
    {
     "data": {
      "text/html": [
       "<div>\n",
       "<style scoped>\n",
       "    .dataframe tbody tr th:only-of-type {\n",
       "        vertical-align: middle;\n",
       "    }\n",
       "\n",
       "    .dataframe tbody tr th {\n",
       "        vertical-align: top;\n",
       "    }\n",
       "\n",
       "    .dataframe thead th {\n",
       "        text-align: right;\n",
       "    }\n",
       "</style>\n",
       "<table border=\"1\" class=\"dataframe\">\n",
       "  <thead>\n",
       "    <tr style=\"text-align: right;\">\n",
       "      <th></th>\n",
       "      <th>Nombre</th>\n",
       "      <th>area_ha</th>\n",
       "      <th>geometry</th>\n",
       "    </tr>\n",
       "  </thead>\n",
       "  <tbody>\n",
       "    <tr>\n",
       "      <th>1</th>\n",
       "      <td>San Miguel</td>\n",
       "      <td>963.502832</td>\n",
       "      <td>POLYGON ((-70.63659 -33.51873, -70.63740 -33.5...</td>\n",
       "    </tr>\n",
       "    <tr>\n",
       "      <th>6</th>\n",
       "      <td>Providencia</td>\n",
       "      <td>1439.652277</td>\n",
       "      <td>POLYGON ((-70.58484 -33.43126, -70.58445 -33.4...</td>\n",
       "    </tr>\n",
       "    <tr>\n",
       "      <th>17</th>\n",
       "      <td>Conchalí</td>\n",
       "      <td>1098.672380</td>\n",
       "      <td>POLYGON ((-70.66314 -33.39923, -70.66400 -33.3...</td>\n",
       "    </tr>\n",
       "    <tr>\n",
       "      <th>18</th>\n",
       "      <td>El Bosque</td>\n",
       "      <td>1426.967489</td>\n",
       "      <td>POLYGON ((-70.66324 -33.58516, -70.66340 -33.5...</td>\n",
       "    </tr>\n",
       "    <tr>\n",
       "      <th>23</th>\n",
       "      <td>Las Condes</td>\n",
       "      <td>9839.607402</td>\n",
       "      <td>POLYGON ((-70.53235 -33.38217, -70.53235 -33.3...</td>\n",
       "    </tr>\n",
       "    <tr>\n",
       "      <th>28</th>\n",
       "      <td>Maipú</td>\n",
       "      <td>13803.803111</td>\n",
       "      <td>POLYGON ((-70.76505 -33.45926, -70.76505 -33.4...</td>\n",
       "    </tr>\n",
       "    <tr>\n",
       "      <th>30</th>\n",
       "      <td>Pedro Aguirre Cerda</td>\n",
       "      <td>850.130544</td>\n",
       "      <td>POLYGON ((-70.67123 -33.51069, -70.67179 -33.5...</td>\n",
       "    </tr>\n",
       "    <tr>\n",
       "      <th>33</th>\n",
       "      <td>Quinta Normal</td>\n",
       "      <td>1186.605299</td>\n",
       "      <td>POLYGON ((-70.70527 -33.40762, -70.70463 -33.4...</td>\n",
       "    </tr>\n",
       "    <tr>\n",
       "      <th>0</th>\n",
       "      <td>Nueva Alameda</td>\n",
       "      <td>2266.840098</td>\n",
       "      <td>POLYGON ((-70.71634 -33.46959, -70.71651 -33.4...</td>\n",
       "    </tr>\n",
       "  </tbody>\n",
       "</table>\n",
       "</div>"
      ],
      "text/plain": [
       "                 Nombre       area_ha  \\\n",
       "1            San Miguel    963.502832   \n",
       "6           Providencia   1439.652277   \n",
       "17             Conchalí   1098.672380   \n",
       "18            El Bosque   1426.967489   \n",
       "23           Las Condes   9839.607402   \n",
       "28                Maipú  13803.803111   \n",
       "30  Pedro Aguirre Cerda    850.130544   \n",
       "33        Quinta Normal   1186.605299   \n",
       "0         Nueva Alameda   2266.840098   \n",
       "\n",
       "                                             geometry  \n",
       "1   POLYGON ((-70.63659 -33.51873, -70.63740 -33.5...  \n",
       "6   POLYGON ((-70.58484 -33.43126, -70.58445 -33.4...  \n",
       "17  POLYGON ((-70.66314 -33.39923, -70.66400 -33.3...  \n",
       "18  POLYGON ((-70.66324 -33.58516, -70.66340 -33.5...  \n",
       "23  POLYGON ((-70.53235 -33.38217, -70.53235 -33.3...  \n",
       "28  POLYGON ((-70.76505 -33.45926, -70.76505 -33.4...  \n",
       "30  POLYGON ((-70.67123 -33.51069, -70.67179 -33.5...  \n",
       "33  POLYGON ((-70.70527 -33.40762, -70.70463 -33.4...  \n",
       "0   POLYGON ((-70.71634 -33.46959, -70.71651 -33.4...  "
      ]
     },
     "execution_count": 48,
     "metadata": {},
     "output_type": "execute_result"
    }
   ],
   "source": [
    "nombre_comuna = ['Las Condes','Pedro Aguirre Cerda',\n",
    "                'Quinta Normal','San Miguel',\n",
    "                'Maipú','Conchalí','El Bosque',\n",
    "                'Providencia']\n",
    "comuna_analysis = comuna_gdf.loc[comuna_gdf.Nombre.isin(nombre_comuna)].copy()\n",
    "comparison_gdf = pd.concat([comuna_analysis,alameda_gdf])\n",
    "comparison_gdf"
   ]
  },
  {
   "cell_type": "markdown",
   "id": "9ed28e6b-2f75-4543-9d1d-bb8fb16cc8f4",
   "metadata": {},
   "source": [
    "### Spatial intersection"
   ]
  },
  {
   "cell_type": "code",
   "execution_count": 49,
   "id": "dcc907e5-ec5b-46f4-a996-8f0028a0392e",
   "metadata": {},
   "outputs": [
    {
     "name": "stdout",
     "output_type": "stream",
     "text": [
      "(15694, 32)\n"
     ]
    },
    {
     "data": {
      "text/html": [
       "<div>\n",
       "<style scoped>\n",
       "    .dataframe tbody tr th:only-of-type {\n",
       "        vertical-align: middle;\n",
       "    }\n",
       "\n",
       "    .dataframe tbody tr th {\n",
       "        vertical-align: top;\n",
       "    }\n",
       "\n",
       "    .dataframe thead th {\n",
       "        text-align: right;\n",
       "    }\n",
       "</style>\n",
       "<table border=\"1\" class=\"dataframe\">\n",
       "  <thead>\n",
       "    <tr style=\"text-align: right;\">\n",
       "      <th></th>\n",
       "      <th>wellbeing_supplying</th>\n",
       "      <th>wellbeing_caring</th>\n",
       "      <th>wellbeing_living</th>\n",
       "      <th>wellbeing_enjoying</th>\n",
       "      <th>wellbeing_learning</th>\n",
       "      <th>wellbeing_working</th>\n",
       "      <th>wellbeing</th>\n",
       "      <th>sociability_supplying</th>\n",
       "      <th>sociability_caring</th>\n",
       "      <th>sociability_living</th>\n",
       "      <th>...</th>\n",
       "      <th>geometry</th>\n",
       "      <th>supplying</th>\n",
       "      <th>caring</th>\n",
       "      <th>living</th>\n",
       "      <th>enjoying</th>\n",
       "      <th>learning</th>\n",
       "      <th>working</th>\n",
       "      <th>hqsl</th>\n",
       "      <th>res</th>\n",
       "      <th>Nombre</th>\n",
       "    </tr>\n",
       "  </thead>\n",
       "  <tbody>\n",
       "    <tr>\n",
       "      <th>0</th>\n",
       "      <td>5.833333</td>\n",
       "      <td>5.833333</td>\n",
       "      <td>5.000000</td>\n",
       "      <td>5.638199</td>\n",
       "      <td>7.500000</td>\n",
       "      <td>4.166667</td>\n",
       "      <td>33.971533</td>\n",
       "      <td>4.583333</td>\n",
       "      <td>1.875000</td>\n",
       "      <td>0.543189</td>\n",
       "      <td>...</td>\n",
       "      <td>POLYGON ((-70.67723 -33.43729, -70.67786 -33.4...</td>\n",
       "      <td>5.879630</td>\n",
       "      <td>5.257120</td>\n",
       "      <td>3.597730</td>\n",
       "      <td>4.894993</td>\n",
       "      <td>5.833333</td>\n",
       "      <td>4.943534</td>\n",
       "      <td>30.406339</td>\n",
       "      <td>10</td>\n",
       "      <td>Nueva Alameda</td>\n",
       "    </tr>\n",
       "    <tr>\n",
       "      <th>1</th>\n",
       "      <td>2.845833</td>\n",
       "      <td>2.532738</td>\n",
       "      <td>2.836364</td>\n",
       "      <td>4.570114</td>\n",
       "      <td>1.393876</td>\n",
       "      <td>3.750000</td>\n",
       "      <td>17.928926</td>\n",
       "      <td>3.202652</td>\n",
       "      <td>3.052083</td>\n",
       "      <td>0.134702</td>\n",
       "      <td>...</td>\n",
       "      <td>POLYGON ((-70.54047 -33.41159, -70.54110 -33.4...</td>\n",
       "      <td>3.512286</td>\n",
       "      <td>3.050925</td>\n",
       "      <td>2.731769</td>\n",
       "      <td>5.760304</td>\n",
       "      <td>1.046366</td>\n",
       "      <td>2.500000</td>\n",
       "      <td>18.601651</td>\n",
       "      <td>10</td>\n",
       "      <td>Las Condes</td>\n",
       "    </tr>\n",
       "    <tr>\n",
       "      <th>2</th>\n",
       "      <td>0.729167</td>\n",
       "      <td>1.497396</td>\n",
       "      <td>0.000000</td>\n",
       "      <td>2.500000</td>\n",
       "      <td>2.173611</td>\n",
       "      <td>3.333333</td>\n",
       "      <td>10.233507</td>\n",
       "      <td>1.250000</td>\n",
       "      <td>4.479167</td>\n",
       "      <td>0.116598</td>\n",
       "      <td>...</td>\n",
       "      <td>POLYGON ((-70.69534 -33.46458, -70.69597 -33.4...</td>\n",
       "      <td>0.914352</td>\n",
       "      <td>2.983119</td>\n",
       "      <td>0.969422</td>\n",
       "      <td>2.403274</td>\n",
       "      <td>1.890432</td>\n",
       "      <td>1.732263</td>\n",
       "      <td>10.892862</td>\n",
       "      <td>10</td>\n",
       "      <td>Nueva Alameda</td>\n",
       "    </tr>\n",
       "    <tr>\n",
       "      <th>3</th>\n",
       "      <td>1.250000</td>\n",
       "      <td>3.080357</td>\n",
       "      <td>4.250000</td>\n",
       "      <td>0.406806</td>\n",
       "      <td>3.952381</td>\n",
       "      <td>4.166667</td>\n",
       "      <td>17.106211</td>\n",
       "      <td>2.678571</td>\n",
       "      <td>5.000000</td>\n",
       "      <td>0.543317</td>\n",
       "      <td>...</td>\n",
       "      <td>POLYGON ((-70.67531 -33.57591, -70.67594 -33.5...</td>\n",
       "      <td>2.248677</td>\n",
       "      <td>3.723022</td>\n",
       "      <td>3.653328</td>\n",
       "      <td>2.227213</td>\n",
       "      <td>3.141534</td>\n",
       "      <td>2.916667</td>\n",
       "      <td>17.910441</td>\n",
       "      <td>10</td>\n",
       "      <td>El Bosque</td>\n",
       "    </tr>\n",
       "  </tbody>\n",
       "</table>\n",
       "<p>4 rows × 32 columns</p>\n",
       "</div>"
      ],
      "text/plain": [
       "   wellbeing_supplying  wellbeing_caring  wellbeing_living  \\\n",
       "0             5.833333          5.833333          5.000000   \n",
       "1             2.845833          2.532738          2.836364   \n",
       "2             0.729167          1.497396          0.000000   \n",
       "3             1.250000          3.080357          4.250000   \n",
       "\n",
       "   wellbeing_enjoying  wellbeing_learning  wellbeing_working  wellbeing  \\\n",
       "0            5.638199            7.500000           4.166667  33.971533   \n",
       "1            4.570114            1.393876           3.750000  17.928926   \n",
       "2            2.500000            2.173611           3.333333  10.233507   \n",
       "3            0.406806            3.952381           4.166667  17.106211   \n",
       "\n",
       "   sociability_supplying  sociability_caring  sociability_living  ...  \\\n",
       "0               4.583333            1.875000            0.543189  ...   \n",
       "1               3.202652            3.052083            0.134702  ...   \n",
       "2               1.250000            4.479167            0.116598  ...   \n",
       "3               2.678571            5.000000            0.543317  ...   \n",
       "\n",
       "                                            geometry  supplying    caring  \\\n",
       "0  POLYGON ((-70.67723 -33.43729, -70.67786 -33.4...   5.879630  5.257120   \n",
       "1  POLYGON ((-70.54047 -33.41159, -70.54110 -33.4...   3.512286  3.050925   \n",
       "2  POLYGON ((-70.69534 -33.46458, -70.69597 -33.4...   0.914352  2.983119   \n",
       "3  POLYGON ((-70.67531 -33.57591, -70.67594 -33.5...   2.248677  3.723022   \n",
       "\n",
       "     living  enjoying  learning   working       hqsl  res         Nombre  \n",
       "0  3.597730  4.894993  5.833333  4.943534  30.406339   10  Nueva Alameda  \n",
       "1  2.731769  5.760304  1.046366  2.500000  18.601651   10     Las Condes  \n",
       "2  0.969422  2.403274  1.890432  1.732263  10.892862   10  Nueva Alameda  \n",
       "3  3.653328  2.227213  3.141534  2.916667  17.910441   10      El Bosque  \n",
       "\n",
       "[4 rows x 32 columns]"
      ]
     },
     "execution_count": 49,
     "metadata": {},
     "output_type": "execute_result"
    }
   ],
   "source": [
    "hex_analysis = hex_gdf.merge(hex_gdf.sjoin(comparison_gdf)[['hex_id','Nombre']], on='hex_id',\n",
    "                             how='right')\n",
    "print(hex_analysis.shape)\n",
    "hex_analysis.head(4)"
   ]
  },
  {
   "cell_type": "markdown",
   "id": "25c782ca-66b8-4ac4-a3e3-305fd81e58df",
   "metadata": {},
   "source": [
    "### Select specific location"
   ]
  },
  {
   "cell_type": "code",
   "execution_count": 109,
   "id": "e518ded2-749a-40c1-b58f-61c179029fee",
   "metadata": {},
   "outputs": [],
   "source": [
    "sitio_analysis = 'Nueva Alameda'"
   ]
  },
  {
   "cell_type": "code",
   "execution_count": 110,
   "id": "b2f9fb77-8468-484e-bdc0-5ea986fceb81",
   "metadata": {
    "scrolled": true
   },
   "outputs": [
    {
     "name": "stdout",
     "output_type": "stream",
     "text": [
      "(1931, 11)\n"
     ]
    },
    {
     "data": {
      "text/html": [
       "<div>\n",
       "<style scoped>\n",
       "    .dataframe tbody tr th:only-of-type {\n",
       "        vertical-align: middle;\n",
       "    }\n",
       "\n",
       "    .dataframe tbody tr th {\n",
       "        vertical-align: top;\n",
       "    }\n",
       "\n",
       "    .dataframe thead th {\n",
       "        text-align: right;\n",
       "    }\n",
       "</style>\n",
       "<table border=\"1\" class=\"dataframe\">\n",
       "  <thead>\n",
       "    <tr style=\"text-align: right;\">\n",
       "      <th></th>\n",
       "      <th>Nombre</th>\n",
       "      <th>sociability</th>\n",
       "      <th>wellbeing</th>\n",
       "      <th>environmental_impact</th>\n",
       "      <th>supplying</th>\n",
       "      <th>caring</th>\n",
       "      <th>living</th>\n",
       "      <th>enjoying</th>\n",
       "      <th>working</th>\n",
       "      <th>learning</th>\n",
       "      <th>hqsl</th>\n",
       "    </tr>\n",
       "  </thead>\n",
       "  <tbody>\n",
       "    <tr>\n",
       "      <th>0</th>\n",
       "      <td>Nueva Alameda</td>\n",
       "      <td>17.198441</td>\n",
       "      <td>33.971533</td>\n",
       "      <td>32.917721</td>\n",
       "      <td>5.87963</td>\n",
       "      <td>5.25712</td>\n",
       "      <td>3.59773</td>\n",
       "      <td>4.894993</td>\n",
       "      <td>4.943534</td>\n",
       "      <td>5.833333</td>\n",
       "      <td>30.406339</td>\n",
       "    </tr>\n",
       "  </tbody>\n",
       "</table>\n",
       "</div>"
      ],
      "text/plain": [
       "          Nombre  sociability  wellbeing  environmental_impact  supplying  \\\n",
       "0  Nueva Alameda    17.198441  33.971533             32.917721    5.87963   \n",
       "\n",
       "    caring   living  enjoying   working  learning       hqsl  \n",
       "0  5.25712  3.59773  4.894993  4.943534  5.833333  30.406339  "
      ]
     },
     "execution_count": 110,
     "metadata": {},
     "output_type": "execute_result"
    }
   ],
   "source": [
    "col_analysis = ['Nombre','sociability','wellbeing','environmental_impact',\n",
    "                  'supplying','caring','living',\n",
    "                  'enjoying','working','learning',\n",
    "                  'hqsl']\n",
    "\n",
    "hex_pca = hex_analysis.loc[hex_analysis.Nombre==sitio_analysis,col_analysis].copy()\n",
    "print(hex_pca.shape)\n",
    "hex_pca.head(1)"
   ]
  },
  {
   "cell_type": "markdown",
   "id": "e23a2e42-50d1-456d-8bfd-f2d32b89cd44",
   "metadata": {},
   "source": [
    "### Data transformation"
   ]
  },
  {
   "cell_type": "code",
   "execution_count": 111,
   "id": "28f09c74-228b-4aa3-ab83-089010f51fbc",
   "metadata": {},
   "outputs": [],
   "source": [
    "X = np.array(hex_pca.drop(columns='Nombre'))\n",
    "y = hex_pca.Nombre\n",
    "scaler = StandardScaler()\n",
    "scaler.fit(X)\n",
    "X = scaler.transform(X)  "
   ]
  },
  {
   "cell_type": "markdown",
   "id": "a042e615-4b77-4d1c-898f-d8cc866d7b58",
   "metadata": {},
   "source": [
    "### PCA"
   ]
  },
  {
   "cell_type": "code",
   "execution_count": 112,
   "id": "d2660fbc-570b-4e1f-b0de-bac244cdab90",
   "metadata": {},
   "outputs": [],
   "source": [
    "pca = PCA()\n",
    "x_new = pca.fit_transform(X)"
   ]
  },
  {
   "cell_type": "code",
   "execution_count": 113,
   "id": "1aeb4611-53d4-4b23-9076-0c0085a9fdf4",
   "metadata": {},
   "outputs": [
    {
     "data": {
      "image/png": "[encoded data removed]",
      "text/plain": [
       "<Figure size 640x480 with 1 Axes>"
      ]
     },
     "metadata": {},
     "output_type": "display_data"
    }
   ],
   "source": [
    "def myplot(score,coeff,labels=None):\n",
    "    xs = score[:,0]\n",
    "    ys = score[:,1]\n",
    "    n = coeff.shape[0]\n",
    "    scalex = 1.0/(xs.max() - xs.min())\n",
    "    scaley = 1.0/(ys.max() - ys.min())\n",
    "    plt.scatter(xs * scalex,ys * scaley)\n",
    "    for i in range(n):\n",
    "        plt.arrow(0, 0, coeff[i,0], coeff[i,1],color = 'r',alpha = 0.5)\n",
    "        if labels is None:\n",
    "            plt.text(coeff[i,0]* 1.15, coeff[i,1] * 1.15, \"Var\"+str(i+1), color = 'black', ha = 'center', va = 'center')\n",
    "        else:\n",
    "            plt.text(coeff[i,0]* 1.15, coeff[i,1] * 1.15, labels[i], color = 'black', ha = 'center', va = 'center')\n",
    "plt.xlim(-1,1)\n",
    "plt.ylim(-1,1)\n",
    "plt.xlabel(\"PC{}\".format(1))\n",
    "plt.ylabel(\"PC{}\".format(2))\n",
    "plt.grid()\n",
    "\n",
    "#Call the function. Use only the 2 PCs.\n",
    "myplot(x_new[:,0:2],np.transpose(pca.components_[0:2, :]))\n",
    "plt.show()"
   ]
  },
  {
   "cell_type": "code",
   "execution_count": 114,
   "id": "bbe10d59-e529-4e48-aeb8-d8ce9d33d80e",
   "metadata": {},
   "outputs": [
    {
     "data": {
      "text/plain": [
       "array([0.80135914, 0.07288856, 0.04028129, 0.02478421, 0.0197337 ,\n",
       "       0.01776121, 0.01327474, 0.00968051, 0.00023664, 0.        ])"
      ]
     },
     "execution_count": 114,
     "metadata": {},
     "output_type": "execute_result"
    }
   ],
   "source": [
    "np.set_printoptions(suppress=True)\n",
    "pca.explained_variance_ratio_"
   ]
  },
  {
   "cell_type": "code",
   "execution_count": 115,
   "id": "58a086af-95c3-454f-a835-2a073bf8f761",
   "metadata": {},
   "outputs": [],
   "source": [
    "col_analysis = ['sociability','wellbeing','environmental_impact',\n",
    "                  'supplying','caring','living',\n",
    "                  'enjoying','working','learning',\n",
    "                  'hqsl']"
   ]
  },
  {
   "cell_type": "code",
   "execution_count": 116,
   "id": "7e5ea7a5-f0e0-4a20-91b2-10fc31c3d2ef",
   "metadata": {},
   "outputs": [
    {
     "name": "stdout",
     "output_type": "stream",
     "text": [
      "[[0.31427484 0.34558462 0.30013076 0.33121189 0.30852356 0.31014769\n",
      "  0.31992543 0.31844389 0.25000569 0.35267944]\n",
      " [0.26521096 0.00434671 0.3007347  0.06981045 0.34970996 0.13526065\n",
      "  0.21266511 0.24305636 0.76773043 0.00490299]\n",
      " [0.12329966 0.20480981 0.57406039 0.21884813 0.00610046 0.57265413\n",
      "  0.18111827 0.43841875 0.08887427 0.06728199]\n",
      " [0.46371238 0.03989351 0.3164268  0.00600399 0.51764131 0.34007668\n",
      "  0.24482834 0.17678384 0.45628363 0.01498309]\n",
      " [0.38612327 0.09875834 0.29885054 0.21486318 0.49511457 0.0736239\n",
      "  0.63670943 0.05389954 0.21611075 0.01053303]\n",
      " [0.58614237 0.27167822 0.04271201 0.4263694  0.27521309 0.4074749\n",
      "  0.35355929 0.13587123 0.10694095 0.04830441]\n",
      " [0.23048303 0.25954578 0.52330239 0.37671928 0.38484155 0.40405335\n",
      "  0.26123223 0.27955523 0.00510451 0.0772603 ]\n",
      " [0.04597689 0.0210694  0.05696273 0.62412011 0.03540082 0.16761788\n",
      "  0.27622046 0.68064869 0.18847738 0.01478063]\n",
      " [0.22972184 0.828036   0.14691088 0.20450511 0.12555571 0.2194204\n",
      "  0.2142566  0.164757   0.1366288  0.20627983]\n",
      " [0.         0.         0.         0.19045184 0.16889422 0.17598755\n",
      "  0.19704706 0.16158214 0.14012965 0.90534997]]\n"
     ]
    }
   ],
   "source": [
    "print(abs( pca.components_ ))"
   ]
  },
  {
   "cell_type": "code",
   "execution_count": 117,
   "id": "f7226399-91d1-4c7e-aeea-cff14939b522",
   "metadata": {},
   "outputs": [
    {
     "data": {
      "text/plain": [
       "<AxesSubplot: >"
      ]
     },
     "execution_count": 117,
     "metadata": {},
     "output_type": "execute_result"
    },
    {
     "data": {
      "image/png": "[encoded data removed]",
      "text/plain": [
       "<Figure size 1200x400 with 1 Axes>"
      ]
     },
     "metadata": {},
     "output_type": "display_data"
    }
   ],
   "source": [
    "fig, ax = plt.subplots(1, 1, figsize=(12, 4))\n",
    "hex_plot = hex_pca.drop(columns='Nombre').copy()\n",
    "hex_plot[['sociability','wellbeing','environmental_impact','hqsl']].plot(kind='box', ax=ax)"
   ]
  },
  {
   "cell_type": "code",
   "execution_count": 118,
   "id": "7bf929dc-326e-4dd1-ae4e-569fdf36e15b",
   "metadata": {},
   "outputs": [
    {
     "data": {
      "text/plain": [
       "<AxesSubplot: >"
      ]
     },
     "execution_count": 118,
     "metadata": {},
     "output_type": "execute_result"
    },
    {
     "data": {
      "image/png": "[encoded data removed]",
      "text/plain": [
       "<Figure size 1200x400 with 1 Axes>"
      ]
     },
     "metadata": {},
     "output_type": "display_data"
    }
   ],
   "source": [
    "fig, ax = plt.subplots(1, 1, figsize=(12, 4))\n",
    "hex_plot = hex_pca.drop(columns='Nombre').copy()\n",
    "hex_plot[['supplying','caring','living',\n",
    "                  'enjoying','working','learning']].plot(kind='box', ax=ax)"
   ]
  },
  {
   "cell_type": "code",
   "execution_count": null,
   "id": "5543f597-f21b-49f9-b95c-472cf0299af2",
   "metadata": {},
   "outputs": [],
   "source": []
  },
  {
   "cell_type": "code",
   "execution_count": null,
   "id": "ea7791f0-3877-4cc0-80ae-222dedf42f2f",
   "metadata": {},
   "outputs": [],
   "source": []
  }
 ],
 "metadata": {
  "kernelspec": {
   "display_name": "odc",
   "language": "python",
   "name": "odc"
  },
  "language_info": {
   "codemirror_mode": {
    "name": "ipython",
    "version": 3
   },
   "file_extension": ".py",
   "mimetype": "text/x-python",
   "name": "python",
   "nbconvert_exporter": "python",
   "pygments_lexer": "ipython3",
   "version": "3.10.4"
  }
 },
 "nbformat": 4,
 "nbformat_minor": 5
}
