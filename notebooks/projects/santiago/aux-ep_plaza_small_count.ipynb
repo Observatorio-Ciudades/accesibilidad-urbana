{
 "cells": [
  {
   "cell_type": "code",
   "execution_count": 1,
   "id": "2d7002da-7a73-4666-8a6f-c04242ae298f",
   "metadata": {},
   "outputs": [],
   "source": [
    "import os\n",
    "import sys\n",
    "\n",
    "import pandas as pd\n",
    "import geopandas as gpd\n",
    "import osmnx as ox\n",
    "import numpy as np\n",
    "\n",
    "import matplotlib.pyplot as plt\n",
    "import seaborn as sns\n",
    "\n",
    "import warnings\n",
    "warnings.simplefilter(action='ignore', category=FutureWarning)\n",
    "\n",
    "module_path = os.path.abspath(os.path.join('../../../'))\n",
    "if module_path not in sys.path:\n",
    "    sys.path.append(module_path)\n",
    "    import aup"
   ]
  },
  {
   "cell_type": "markdown",
   "id": "ff7767e1-783e-4cc1-bf46-e094a7a75633",
   "metadata": {
    "jp-MarkdownHeadingCollapsed": true
   },
   "source": [
    "## About amount (count) and how to divide ep_plaza_small pois"
   ]
  },
  {
   "cell_type": "code",
   "execution_count": 16,
   "id": "f2756815-afea-49d5-8530-b2d22f057d9a",
   "metadata": {},
   "outputs": [],
   "source": [
    "ep_plaza_small_dir = '../../../data/external/temporal_fromjupyter/santiago/pois/ep_plaza_small.gpkg'\n",
    "ep_plaza_small = gpd.read_file(ep_plaza_small_dir)"
   ]
  },
  {
   "cell_type": "code",
   "execution_count": 28,
   "id": "f5c3a894-06cd-43b7-88d4-f5d31656da9c",
   "metadata": {},
   "outputs": [
    {
     "data": {
      "text/html": [
       "<div>\n",
       "<style scoped>\n",
       "    .dataframe tbody tr th:only-of-type {\n",
       "        vertical-align: middle;\n",
       "    }\n",
       "\n",
       "    .dataframe tbody tr th {\n",
       "        vertical-align: top;\n",
       "    }\n",
       "\n",
       "    .dataframe thead th {\n",
       "        text-align: right;\n",
       "    }\n",
       "</style>\n",
       "<table border=\"1\" class=\"dataframe\">\n",
       "  <thead>\n",
       "    <tr style=\"text-align: right;\">\n",
       "      <th></th>\n",
       "      <th>area_ha</th>\n",
       "      <th>ID</th>\n",
       "      <th>geometry</th>\n",
       "    </tr>\n",
       "  </thead>\n",
       "  <tbody>\n",
       "    <tr>\n",
       "      <th>0</th>\n",
       "      <td>0.106</td>\n",
       "      <td>1</td>\n",
       "      <td>POINT (-70.87655 -33.29737)</td>\n",
       "    </tr>\n",
       "  </tbody>\n",
       "</table>\n",
       "</div>"
      ],
      "text/plain": [
       "   area_ha  ID                     geometry\n",
       "0    0.106   1  POINT (-70.87655 -33.29737)"
      ]
     },
     "execution_count": 28,
     "metadata": {},
     "output_type": "execute_result"
    }
   ],
   "source": [
    "ep_plaza_small = ep_plaza_small[['area_ha','ID','geometry']].copy()\n",
    "ep_plaza_small.head(1)"
   ]
  },
  {
   "cell_type": "code",
   "execution_count": 29,
   "id": "421d6c65-b65e-4932-8326-e7e10d5dcc76",
   "metadata": {},
   "outputs": [
    {
     "name": "stdout",
     "output_type": "stream",
     "text": [
      "166287\n",
      "9442\n"
     ]
    }
   ],
   "source": [
    "print(len(ep_plaza_small))\n",
    "print(len(ep_plaza_small.ID.unique()))"
   ]
  },
  {
   "cell_type": "code",
   "execution_count": 30,
   "id": "c4bdbd4b-19bd-4c58-b2c8-05c35648f54b",
   "metadata": {},
   "outputs": [
    {
     "name": "stdout",
     "output_type": "stream",
     "text": [
      "112410\n",
      "7533\n"
     ]
    }
   ],
   "source": [
    "very_small_source_pois = ep_plaza_small.loc[ep_plaza_small['area_ha']<0.2].copy()\n",
    "print(len(very_small_source_pois))\n",
    "print(len(very_small_source_pois.ID.unique()))"
   ]
  },
  {
   "cell_type": "code",
   "execution_count": 31,
   "id": "6ffeccd7-5a17-4412-a623-a1cb12000951",
   "metadata": {},
   "outputs": [
    {
     "name": "stdout",
     "output_type": "stream",
     "text": [
      "53877\n",
      "1909\n"
     ]
    }
   ],
   "source": [
    "small_source_pois = ep_plaza_small.loc[ep_plaza_small['area_ha']>=0.2].copy()\n",
    "print(len(small_source_pois))\n",
    "print(len(small_source_pois.ID.unique()))"
   ]
  },
  {
   "cell_type": "code",
   "execution_count": 32,
   "id": "79b056e4-9b5b-4004-99a1-b50e20eda227",
   "metadata": {},
   "outputs": [
    {
     "name": "stdout",
     "output_type": "stream",
     "text": [
      "166287\n",
      "9442\n"
     ]
    }
   ],
   "source": [
    "print((len(very_small_source_pois))+(len(small_source_pois)))\n",
    "print((len(very_small_source_pois.ID.unique()))+(len(small_source_pois.ID.unique())))"
   ]
  },
  {
   "cell_type": "code",
   "execution_count": 33,
   "id": "caa81268-fd0d-427b-bb91-a6b023a9becf",
   "metadata": {},
   "outputs": [
    {
     "name": "stdout",
     "output_type": "stream",
     "text": [
      "7533\n",
      "7533\n"
     ]
    }
   ],
   "source": [
    "very_small_source_pois_uniqueid = very_small_source_pois.drop_duplicates(subset='ID')\n",
    "print(len(very_small_source_pois_uniqueid))\n",
    "print(len(very_small_source_pois_uniqueid.ID.unique()))"
   ]
  },
  {
   "cell_type": "code",
   "execution_count": 34,
   "id": "075474c8-7cd8-43c6-a337-97c426097908",
   "metadata": {},
   "outputs": [
    {
     "data": {
      "text/html": [
       "<div>\n",
       "<style scoped>\n",
       "    .dataframe tbody tr th:only-of-type {\n",
       "        vertical-align: middle;\n",
       "    }\n",
       "\n",
       "    .dataframe tbody tr th {\n",
       "        vertical-align: top;\n",
       "    }\n",
       "\n",
       "    .dataframe thead th {\n",
       "        text-align: right;\n",
       "    }\n",
       "</style>\n",
       "<table border=\"1\" class=\"dataframe\">\n",
       "  <thead>\n",
       "    <tr style=\"text-align: right;\">\n",
       "      <th></th>\n",
       "      <th>area_ha</th>\n",
       "      <th>ID</th>\n",
       "      <th>geometry</th>\n",
       "    </tr>\n",
       "  </thead>\n",
       "  <tbody>\n",
       "    <tr>\n",
       "      <th>0</th>\n",
       "      <td>0.106</td>\n",
       "      <td>1</td>\n",
       "      <td>POINT (-70.87655 -33.29737)</td>\n",
       "    </tr>\n",
       "    <tr>\n",
       "      <th>13</th>\n",
       "      <td>0.096</td>\n",
       "      <td>2</td>\n",
       "      <td>POINT (-70.88429 -33.29738)</td>\n",
       "    </tr>\n",
       "    <tr>\n",
       "      <th>25</th>\n",
       "      <td>0.114</td>\n",
       "      <td>3</td>\n",
       "      <td>POINT (-70.87039 -33.29725)</td>\n",
       "    </tr>\n",
       "    <tr>\n",
       "      <th>42</th>\n",
       "      <td>0.052</td>\n",
       "      <td>4</td>\n",
       "      <td>POINT (-70.86971 -33.29773)</td>\n",
       "    </tr>\n",
       "    <tr>\n",
       "      <th>53</th>\n",
       "      <td>0.053</td>\n",
       "      <td>5</td>\n",
       "      <td>POINT (-70.88295 -33.29735)</td>\n",
       "    </tr>\n",
       "  </tbody>\n",
       "</table>\n",
       "</div>"
      ],
      "text/plain": [
       "    area_ha  ID                     geometry\n",
       "0     0.106   1  POINT (-70.87655 -33.29737)\n",
       "13    0.096   2  POINT (-70.88429 -33.29738)\n",
       "25    0.114   3  POINT (-70.87039 -33.29725)\n",
       "42    0.052   4  POINT (-70.86971 -33.29773)\n",
       "53    0.053   5  POINT (-70.88295 -33.29735)"
      ]
     },
     "execution_count": 34,
     "metadata": {},
     "output_type": "execute_result"
    }
   ],
   "source": [
    "very_small_source_pois_uniqueid.head(5)"
   ]
  },
  {
   "cell_type": "code",
   "execution_count": 36,
   "id": "0911efcc-1d24-4e80-9509-b79fd5cc504b",
   "metadata": {},
   "outputs": [
    {
     "name": "stdout",
     "output_type": "stream",
     "text": [
      "7533\n",
      "7533\n"
     ]
    }
   ],
   "source": [
    "very_small_source_pois_2 = ep_plaza_small.loc[ep_plaza_small['area_ha']<0.2].copy().drop_duplicates(subset='ID')\n",
    "\n",
    "print(len(very_small_source_pois_2))\n",
    "print(len(very_small_source_pois_2.ID.unique()))"
   ]
  },
  {
   "cell_type": "markdown",
   "id": "d3c6ac20-85a8-4455-b4f6-47b37558c3f7",
   "metadata": {
    "jp-MarkdownHeadingCollapsed": true
   },
   "source": [
    "## About how to merge resulting source_pois"
   ]
  },
  {
   "cell_type": "code",
   "execution_count": 8,
   "id": "c854b99e-aced-4903-8c1c-2167f771504a",
   "metadata": {},
   "outputs": [
    {
     "name": "stdout",
     "output_type": "stream",
     "text": [
      "(257999, 7)\n"
     ]
    },
    {
     "data": {
      "text/html": [
       "<div>\n",
       "<style scoped>\n",
       "    .dataframe tbody tr th:only-of-type {\n",
       "        vertical-align: middle;\n",
       "    }\n",
       "\n",
       "    .dataframe tbody tr th {\n",
       "        vertical-align: top;\n",
       "    }\n",
       "\n",
       "    .dataframe thead th {\n",
       "        text-align: right;\n",
       "    }\n",
       "</style>\n",
       "<table border=\"1\" class=\"dataframe\">\n",
       "  <thead>\n",
       "    <tr style=\"text-align: right;\">\n",
       "      <th></th>\n",
       "      <th>osmid</th>\n",
       "      <th>ciclovias</th>\n",
       "      <th>ciclovias_15min</th>\n",
       "      <th>x</th>\n",
       "      <th>y</th>\n",
       "      <th>city</th>\n",
       "      <th>geometry</th>\n",
       "    </tr>\n",
       "  </thead>\n",
       "  <tbody>\n",
       "    <tr>\n",
       "      <th>0</th>\n",
       "      <td>386138</td>\n",
       "      <td>6.325455</td>\n",
       "      <td>16</td>\n",
       "      <td>-70.646254</td>\n",
       "      <td>-33.442901</td>\n",
       "      <td>AM_Santiago</td>\n",
       "      <td>POINT (-70.64625 -33.44290)</td>\n",
       "    </tr>\n",
       "  </tbody>\n",
       "</table>\n",
       "</div>"
      ],
      "text/plain": [
       "    osmid  ciclovias  ciclovias_15min          x          y         city   \n",
       "0  386138   6.325455               16 -70.646254 -33.442901  AM_Santiago  \\\n",
       "\n",
       "                      geometry  \n",
       "0  POINT (-70.64625 -33.44290)  "
      ]
     },
     "execution_count": 8,
     "metadata": {},
     "output_type": "execute_result"
    }
   ],
   "source": [
    "proximity_ciclovias_dir = '../../../data/processed/santiago/santiago_nodesproximity.gpkg'\n",
    "proximity_ciclovias = gpd.read_file(proximity_ciclovias_dir)\n",
    "\n",
    "# Format as source_nodes_time\n",
    "source='ciclovias'\n",
    "count_pois=(True,15)\n",
    "\n",
    "source_nodes_time = proximity_ciclovias.copy()\n",
    "source_nodes_time.drop(columns=['source'],inplace=True)\n",
    "source_nodes_time.rename(columns={'source_time':source,\n",
    "                                   'source_15min':f'{source}_{count_pois[1]}min'},inplace=True)\n",
    "\n",
    "# Show\n",
    "print(source_nodes_time.shape)\n",
    "source_nodes_time.head(1)"
   ]
  },
  {
   "cell_type": "code",
   "execution_count": 14,
   "id": "e91e607b-02a2-444c-8232-ca79bed8c49b",
   "metadata": {},
   "outputs": [
    {
     "name": "stdout",
     "output_type": "stream",
     "text": [
      "(257999, 7)\n"
     ]
    },
    {
     "data": {
      "text/html": [
       "<div>\n",
       "<style scoped>\n",
       "    .dataframe tbody tr th:only-of-type {\n",
       "        vertical-align: middle;\n",
       "    }\n",
       "\n",
       "    .dataframe tbody tr th {\n",
       "        vertical-align: top;\n",
       "    }\n",
       "\n",
       "    .dataframe thead th {\n",
       "        text-align: right;\n",
       "    }\n",
       "</style>\n",
       "<table border=\"1\" class=\"dataframe\">\n",
       "  <thead>\n",
       "    <tr style=\"text-align: right;\">\n",
       "      <th></th>\n",
       "      <th>osmid</th>\n",
       "      <th>ciclovias</th>\n",
       "      <th>ciclovias_15min</th>\n",
       "      <th>x</th>\n",
       "      <th>y</th>\n",
       "      <th>city</th>\n",
       "      <th>geometry</th>\n",
       "    </tr>\n",
       "  </thead>\n",
       "  <tbody>\n",
       "    <tr>\n",
       "      <th>0</th>\n",
       "      <td>386138</td>\n",
       "      <td>6.325455</td>\n",
       "      <td>16</td>\n",
       "      <td>-70.646254</td>\n",
       "      <td>-33.442901</td>\n",
       "      <td>AM_Santiago</td>\n",
       "      <td>POINT (-70.64625 -33.44290)</td>\n",
       "    </tr>\n",
       "  </tbody>\n",
       "</table>\n",
       "</div>"
      ],
      "text/plain": [
       "    osmid  ciclovias  ciclovias_15min          x          y         city   \n",
       "0  386138   6.325455               16 -70.646254 -33.442901  AM_Santiago  \\\n",
       "\n",
       "                      geometry  \n",
       "0  POINT (-70.64625 -33.44290)  "
      ]
     },
     "execution_count": 14,
     "metadata": {},
     "output_type": "execute_result"
    }
   ],
   "source": [
    "source_nodes_time_2 = source_nodes_time.copy()\n",
    "\n",
    "# Show\n",
    "print(source_nodes_time_2.shape)\n",
    "source_nodes_time_2.head(1)"
   ]
  },
  {
   "cell_type": "code",
   "execution_count": 19,
   "id": "d11cf35b-4ae6-4576-974c-e3e3d440e5dc",
   "metadata": {},
   "outputs": [
    {
     "name": "stdout",
     "output_type": "stream",
     "text": [
      "(257999, 7)\n"
     ]
    },
    {
     "data": {
      "text/html": [
       "<div>\n",
       "<style scoped>\n",
       "    .dataframe tbody tr th:only-of-type {\n",
       "        vertical-align: middle;\n",
       "    }\n",
       "\n",
       "    .dataframe tbody tr th {\n",
       "        vertical-align: top;\n",
       "    }\n",
       "\n",
       "    .dataframe thead th {\n",
       "        text-align: right;\n",
       "    }\n",
       "</style>\n",
       "<table border=\"1\" class=\"dataframe\">\n",
       "  <thead>\n",
       "    <tr style=\"text-align: right;\">\n",
       "      <th></th>\n",
       "      <th>osmid</th>\n",
       "      <th>x</th>\n",
       "      <th>y</th>\n",
       "      <th>city</th>\n",
       "      <th>geometry</th>\n",
       "      <th>ciclovias</th>\n",
       "      <th>ciclovias_15min</th>\n",
       "    </tr>\n",
       "  </thead>\n",
       "  <tbody>\n",
       "    <tr>\n",
       "      <th>0</th>\n",
       "      <td>386138</td>\n",
       "      <td>-70.646254</td>\n",
       "      <td>-33.442901</td>\n",
       "      <td>AM_Santiago</td>\n",
       "      <td>POINT (-70.64625 -33.44290)</td>\n",
       "      <td>6.325455</td>\n",
       "      <td>32</td>\n",
       "    </tr>\n",
       "    <tr>\n",
       "      <th>1</th>\n",
       "      <td>386139</td>\n",
       "      <td>-70.647249</td>\n",
       "      <td>-33.443129</td>\n",
       "      <td>AM_Santiago</td>\n",
       "      <td>POINT (-70.64725 -33.44313)</td>\n",
       "      <td>4.889325</td>\n",
       "      <td>28</td>\n",
       "    </tr>\n",
       "    <tr>\n",
       "      <th>2</th>\n",
       "      <td>386140</td>\n",
       "      <td>-70.647670</td>\n",
       "      <td>-33.443035</td>\n",
       "      <td>AM_Santiago</td>\n",
       "      <td>POINT (-70.64767 -33.44304)</td>\n",
       "      <td>4.592370</td>\n",
       "      <td>32</td>\n",
       "    </tr>\n",
       "    <tr>\n",
       "      <th>3</th>\n",
       "      <td>386145</td>\n",
       "      <td>-70.648970</td>\n",
       "      <td>-33.443343</td>\n",
       "      <td>AM_Santiago</td>\n",
       "      <td>POINT (-70.64897 -33.44334)</td>\n",
       "      <td>2.753970</td>\n",
       "      <td>34</td>\n",
       "    </tr>\n",
       "    <tr>\n",
       "      <th>4</th>\n",
       "      <td>386147</td>\n",
       "      <td>-70.650375</td>\n",
       "      <td>-33.443669</td>\n",
       "      <td>AM_Santiago</td>\n",
       "      <td>POINT (-70.65038 -33.44367)</td>\n",
       "      <td>0.812610</td>\n",
       "      <td>22</td>\n",
       "    </tr>\n",
       "  </tbody>\n",
       "</table>\n",
       "</div>"
      ],
      "text/plain": [
       "    osmid          x          y         city                     geometry   \n",
       "0  386138 -70.646254 -33.442901  AM_Santiago  POINT (-70.64625 -33.44290)  \\\n",
       "1  386139 -70.647249 -33.443129  AM_Santiago  POINT (-70.64725 -33.44313)   \n",
       "2  386140 -70.647670 -33.443035  AM_Santiago  POINT (-70.64767 -33.44304)   \n",
       "3  386145 -70.648970 -33.443343  AM_Santiago  POINT (-70.64897 -33.44334)   \n",
       "4  386147 -70.650375 -33.443669  AM_Santiago  POINT (-70.65038 -33.44367)   \n",
       "\n",
       "   ciclovias  ciclovias_15min  \n",
       "0   6.325455               32  \n",
       "1   4.889325               28  \n",
       "2   4.592370               32  \n",
       "3   2.753970               34  \n",
       "4   0.812610               22  "
      ]
     },
     "execution_count": 19,
     "metadata": {},
     "output_type": "execute_result"
    }
   ],
   "source": [
    "source_nodes_time_all = source_nodes_time.merge(source_nodes_time_2[['osmid',source, f'{source}_{count_pois[1]}min']],on='osmid')\n",
    "\n",
    "time_cols = [f'{source}_x', f'{source}_y']\n",
    "source_nodes_time_all[source] = source_nodes_time_all[time_cols].min(axis=1)\n",
    "source_nodes_time_all.drop(columns=time_cols,inplace=True)\n",
    "\n",
    "count_cols = [f'{source}_{count_pois[1]}min_x',f'{source}_{count_pois[1]}min_y']\n",
    "source_nodes_time_all[f'{source}_{count_pois[1]}min'] = source_nodes_time_all[count_cols].sum(axis=1)\n",
    "source_nodes_time_all.drop(columns=count_cols,inplace=True)\n",
    "\n",
    "# Show\n",
    "print(source_nodes_time_all.shape)\n",
    "source_nodes_time_all.head(5)"
   ]
  },
  {
   "cell_type": "markdown",
   "id": "419ebb4b-bb30-4d7f-a6e2-8051a4d11a9c",
   "metadata": {},
   "source": [
    "## About error in Script (Saved to local partial results, finding error)"
   ]
  },
  {
   "cell_type": "code",
   "execution_count": 8,
   "id": "fed17548-7460-4bb5-a970-744c7fef438a",
   "metadata": {},
   "outputs": [],
   "source": [
    "#Traceback (most recent call last):\n",
    "#  File \"/home/jovyan/accesibilidad-urbana/scripts/23b-proximity-analysis-progressive_smallep_plazas.py\", line 237, in <module>\n",
    "#    main(source_list, aoi, nodes, edges, G, walking_speed, local_save, save)\n",
    "#  File \"/home/jovyan/accesibilidad-urbana/scripts/23b-proximity-analysis-progressive_smallep_plazas.py\", line 108, in main\n",
    "#--> nodes_analysis = nodes_analysis[column_order] <--\n",
    "#  File \"/opt/conda/envs/gds/lib/python3.9/site-packages/geopandas/geodataframe.py\", line 1456, in __getitem__\n",
    "#    result = super().__getitem__(key)\n",
    "#  File \"/opt/conda/envs/gds/lib/python3.9/site-packages/pandas/core/frame.py\", line 3766, in __getitem__\n",
    "#    indexer = self.columns._get_indexer_strict(key, \"columns\")[1]\n",
    "#  File \"/opt/conda/envs/gds/lib/python3.9/site-packages/pandas/core/indexes/base.py\", line 5876, in _get_indexer_strict\n",
    "#    self._raise_if_missing(keyarr, indexer, axis_name)\n",
    "#  File \"/opt/conda/envs/gds/lib/python3.9/site-packages/pandas/core/indexes/base.py\", line 5938, in _raise_if_missing\n",
    "#    raise KeyError(f\"{not_found} not in index\")\n",
    "#KeyError: \"['ep_plaza_small'] not in index\""
   ]
  },
  {
   "cell_type": "code",
   "execution_count": 5,
   "id": "05cf1411-58fc-4a43-a983-3e3cbd5eb2ec",
   "metadata": {},
   "outputs": [
    {
     "name": "stdout",
     "output_type": "stream",
     "text": [
      "(257999, 6)\n"
     ]
    },
    {
     "data": {
      "text/html": [
       "<div>\n",
       "<style scoped>\n",
       "    .dataframe tbody tr th:only-of-type {\n",
       "        vertical-align: middle;\n",
       "    }\n",
       "\n",
       "    .dataframe tbody tr th {\n",
       "        vertical-align: top;\n",
       "    }\n",
       "\n",
       "    .dataframe thead th {\n",
       "        text-align: right;\n",
       "    }\n",
       "</style>\n",
       "<table border=\"1\" class=\"dataframe\">\n",
       "  <thead>\n",
       "    <tr style=\"text-align: right;\">\n",
       "      <th></th>\n",
       "      <th>osmid</th>\n",
       "      <th>time_ep_plaza_small</th>\n",
       "      <th>ep_plaza_small_15min</th>\n",
       "      <th>x</th>\n",
       "      <th>y</th>\n",
       "      <th>geometry</th>\n",
       "    </tr>\n",
       "  </thead>\n",
       "  <tbody>\n",
       "    <tr>\n",
       "      <th>0</th>\n",
       "      <td>386138</td>\n",
       "      <td>5.122773</td>\n",
       "      <td>15.0</td>\n",
       "      <td>-70.646254</td>\n",
       "      <td>-33.442901</td>\n",
       "      <td>POINT (-70.64625 -33.44290)</td>\n",
       "    </tr>\n",
       "  </tbody>\n",
       "</table>\n",
       "</div>"
      ],
      "text/plain": [
       "    osmid  time_ep_plaza_small  ep_plaza_small_15min          x          y   \n",
       "0  386138             5.122773                  15.0 -70.646254 -33.442901  \\\n",
       "\n",
       "                      geometry  \n",
       "0  POINT (-70.64625 -33.44290)  "
      ]
     },
     "execution_count": 5,
     "metadata": {},
     "output_type": "execute_result"
    }
   ],
   "source": [
    "source_nodes_time_1_dir = \"../../../data/processed/santiago/source_nodes_time_1.gpkg\"\n",
    "source_nodes_time_1 = gpd.read_file(source_nodes_time_1_dir)\n",
    "\n",
    "# Show\n",
    "print(source_nodes_time_1.shape)\n",
    "source_nodes_time_1.head(1)"
   ]
  },
  {
   "cell_type": "code",
   "execution_count": 15,
   "id": "45fd929a-0812-4bb0-84f2-b45f2c87bd64",
   "metadata": {},
   "outputs": [
    {
     "data": {
      "text/html": [
       "<div>\n",
       "<style scoped>\n",
       "    .dataframe tbody tr th:only-of-type {\n",
       "        vertical-align: middle;\n",
       "    }\n",
       "\n",
       "    .dataframe tbody tr th {\n",
       "        vertical-align: top;\n",
       "    }\n",
       "\n",
       "    .dataframe thead th {\n",
       "        text-align: right;\n",
       "    }\n",
       "</style>\n",
       "<table border=\"1\" class=\"dataframe\">\n",
       "  <thead>\n",
       "    <tr style=\"text-align: right;\">\n",
       "      <th></th>\n",
       "      <th>osmid</th>\n",
       "      <th>time_ep_plaza_small</th>\n",
       "      <th>ep_plaza_small_15min</th>\n",
       "      <th>x</th>\n",
       "      <th>y</th>\n",
       "      <th>geometry</th>\n",
       "    </tr>\n",
       "  </thead>\n",
       "  <tbody>\n",
       "    <tr>\n",
       "      <th>127569</th>\n",
       "      <td>4362364454</td>\n",
       "      <td>0.291627</td>\n",
       "      <td>1.0</td>\n",
       "      <td>-70.871831</td>\n",
       "      <td>-33.401831</td>\n",
       "      <td>POINT (-70.87183 -33.40183)</td>\n",
       "    </tr>\n",
       "  </tbody>\n",
       "</table>\n",
       "</div>"
      ],
      "text/plain": [
       "             osmid  time_ep_plaza_small  ep_plaza_small_15min          x   \n",
       "127569  4362364454             0.291627                   1.0 -70.871831  \\\n",
       "\n",
       "                y                     geometry  \n",
       "127569 -33.401831  POINT (-70.87183 -33.40183)  "
      ]
     },
     "execution_count": 15,
     "metadata": {},
     "output_type": "execute_result"
    }
   ],
   "source": [
    "# Specific test\n",
    "source_nodes_time_1.loc[source_nodes_time_1.osmid==4362364454]"
   ]
  },
  {
   "cell_type": "code",
   "execution_count": 17,
   "id": "1b6ce1c9-0d60-4444-8bfb-94467f176e73",
   "metadata": {},
   "outputs": [
    {
     "name": "stdout",
     "output_type": "stream",
     "text": [
      "(257999, 6)\n"
     ]
    },
    {
     "data": {
      "text/html": [
       "<div>\n",
       "<style scoped>\n",
       "    .dataframe tbody tr th:only-of-type {\n",
       "        vertical-align: middle;\n",
       "    }\n",
       "\n",
       "    .dataframe tbody tr th {\n",
       "        vertical-align: top;\n",
       "    }\n",
       "\n",
       "    .dataframe thead th {\n",
       "        text-align: right;\n",
       "    }\n",
       "</style>\n",
       "<table border=\"1\" class=\"dataframe\">\n",
       "  <thead>\n",
       "    <tr style=\"text-align: right;\">\n",
       "      <th></th>\n",
       "      <th>osmid</th>\n",
       "      <th>time_ep_plaza_small</th>\n",
       "      <th>ep_plaza_small_15min</th>\n",
       "      <th>x</th>\n",
       "      <th>y</th>\n",
       "      <th>geometry</th>\n",
       "    </tr>\n",
       "  </thead>\n",
       "  <tbody>\n",
       "    <tr>\n",
       "      <th>0</th>\n",
       "      <td>386138</td>\n",
       "      <td>9.526093</td>\n",
       "      <td>9</td>\n",
       "      <td>-70.646254</td>\n",
       "      <td>-33.442901</td>\n",
       "      <td>POINT (-70.64625 -33.44290)</td>\n",
       "    </tr>\n",
       "  </tbody>\n",
       "</table>\n",
       "</div>"
      ],
      "text/plain": [
       "    osmid  time_ep_plaza_small  ep_plaza_small_15min          x          y   \n",
       "0  386138             9.526093                     9 -70.646254 -33.442901  \\\n",
       "\n",
       "                      geometry  \n",
       "0  POINT (-70.64625 -33.44290)  "
      ]
     },
     "execution_count": 17,
     "metadata": {},
     "output_type": "execute_result"
    }
   ],
   "source": [
    "source_nodes_time_2_dir = \"../../../data/processed/santiago/source_nodes_time_2.gpkg\"\n",
    "source_nodes_time_2 = gpd.read_file(source_nodes_time_2_dir)\n",
    "\n",
    "# Show\n",
    "print(source_nodes_time_2.shape)\n",
    "source_nodes_time_2.head(1)"
   ]
  },
  {
   "cell_type": "code",
   "execution_count": 18,
   "id": "1e0a5b13-54f5-4fdb-92ba-533ea732692c",
   "metadata": {},
   "outputs": [
    {
     "data": {
      "text/html": [
       "<div>\n",
       "<style scoped>\n",
       "    .dataframe tbody tr th:only-of-type {\n",
       "        vertical-align: middle;\n",
       "    }\n",
       "\n",
       "    .dataframe tbody tr th {\n",
       "        vertical-align: top;\n",
       "    }\n",
       "\n",
       "    .dataframe thead th {\n",
       "        text-align: right;\n",
       "    }\n",
       "</style>\n",
       "<table border=\"1\" class=\"dataframe\">\n",
       "  <thead>\n",
       "    <tr style=\"text-align: right;\">\n",
       "      <th></th>\n",
       "      <th>osmid</th>\n",
       "      <th>time_ep_plaza_small</th>\n",
       "      <th>ep_plaza_small_15min</th>\n",
       "      <th>x</th>\n",
       "      <th>y</th>\n",
       "      <th>geometry</th>\n",
       "    </tr>\n",
       "  </thead>\n",
       "  <tbody>\n",
       "    <tr>\n",
       "      <th>127569</th>\n",
       "      <td>4362364454</td>\n",
       "      <td>86.03664</td>\n",
       "      <td>0</td>\n",
       "      <td>-70.871831</td>\n",
       "      <td>-33.401831</td>\n",
       "      <td>POINT (-70.87183 -33.40183)</td>\n",
       "    </tr>\n",
       "  </tbody>\n",
       "</table>\n",
       "</div>"
      ],
      "text/plain": [
       "             osmid  time_ep_plaza_small  ep_plaza_small_15min          x   \n",
       "127569  4362364454             86.03664                     0 -70.871831  \\\n",
       "\n",
       "                y                     geometry  \n",
       "127569 -33.401831  POINT (-70.87183 -33.40183)  "
      ]
     },
     "execution_count": 18,
     "metadata": {},
     "output_type": "execute_result"
    }
   ],
   "source": [
    "# Specific test\n",
    "source_nodes_time_2.loc[source_nodes_time_2.osmid==4362364454]"
   ]
  },
  {
   "cell_type": "code",
   "execution_count": 23,
   "id": "1758c1ab-bf90-4994-a622-97a8e7d62b58",
   "metadata": {},
   "outputs": [
    {
     "name": "stdout",
     "output_type": "stream",
     "text": [
      "(257999, 6)\n"
     ]
    },
    {
     "data": {
      "text/html": [
       "<div>\n",
       "<style scoped>\n",
       "    .dataframe tbody tr th:only-of-type {\n",
       "        vertical-align: middle;\n",
       "    }\n",
       "\n",
       "    .dataframe tbody tr th {\n",
       "        vertical-align: top;\n",
       "    }\n",
       "\n",
       "    .dataframe thead th {\n",
       "        text-align: right;\n",
       "    }\n",
       "</style>\n",
       "<table border=\"1\" class=\"dataframe\">\n",
       "  <thead>\n",
       "    <tr style=\"text-align: right;\">\n",
       "      <th></th>\n",
       "      <th>osmid</th>\n",
       "      <th>x</th>\n",
       "      <th>y</th>\n",
       "      <th>geometry</th>\n",
       "      <th>time_ep_plaza_small</th>\n",
       "      <th>ep_plaza_small_15min</th>\n",
       "    </tr>\n",
       "  </thead>\n",
       "  <tbody>\n",
       "    <tr>\n",
       "      <th>0</th>\n",
       "      <td>386138</td>\n",
       "      <td>-70.646254</td>\n",
       "      <td>-33.442901</td>\n",
       "      <td>POINT (-70.64625 -33.44290)</td>\n",
       "      <td>5.122773</td>\n",
       "      <td>24.0</td>\n",
       "    </tr>\n",
       "  </tbody>\n",
       "</table>\n",
       "</div>"
      ],
      "text/plain": [
       "    osmid          x          y                     geometry   \n",
       "0  386138 -70.646254 -33.442901  POINT (-70.64625 -33.44290)  \\\n",
       "\n",
       "   time_ep_plaza_small  ep_plaza_small_15min  \n",
       "0             5.122773                  24.0  "
      ]
     },
     "execution_count": 23,
     "metadata": {},
     "output_type": "execute_result"
    }
   ],
   "source": [
    "source = 'ep_plaza_small'\n",
    "count_pois = (True,15)\n",
    "\n",
    "# Merge source_nodes_time_1 results with source_nodes_time_2 results\n",
    "source_nodes_time_all = source_nodes_time_1.merge(source_nodes_time_2[['osmid', 'time_'+source, f'{source}_{count_pois[1]}min']],on='osmid')\n",
    "\n",
    "# Find min time between both source_nodes_time\n",
    "time_cols = [f'time_{source}_x', f'time_{source}_y']\n",
    "source_nodes_time_all[f'time_{source}'] = source_nodes_time_all[time_cols].min(axis=1)\n",
    "source_nodes_time_all.drop(columns=time_cols,inplace=True)\n",
    "\n",
    "# Find sum of counted pois at {count_pois[1]} distance (minutes) for both source_nodes_time\n",
    "count_cols = [f'{source}_{count_pois[1]}min_x',f'{source}_{count_pois[1]}min_y']\n",
    "source_nodes_time_all[f'{source}_{count_pois[1]}min'] = source_nodes_time_all[count_cols].sum(axis=1)\n",
    "source_nodes_time_all.drop(columns=count_cols,inplace=True)\n",
    "\n",
    "# Show\n",
    "print(source_nodes_time_all.shape)\n",
    "source_nodes_time_all.head(1)"
   ]
  },
  {
   "cell_type": "code",
   "execution_count": 24,
   "id": "0a10fab5-243b-4341-bd19-fb60825e1220",
   "metadata": {},
   "outputs": [
    {
     "data": {
      "text/html": [
       "<div>\n",
       "<style scoped>\n",
       "    .dataframe tbody tr th:only-of-type {\n",
       "        vertical-align: middle;\n",
       "    }\n",
       "\n",
       "    .dataframe tbody tr th {\n",
       "        vertical-align: top;\n",
       "    }\n",
       "\n",
       "    .dataframe thead th {\n",
       "        text-align: right;\n",
       "    }\n",
       "</style>\n",
       "<table border=\"1\" class=\"dataframe\">\n",
       "  <thead>\n",
       "    <tr style=\"text-align: right;\">\n",
       "      <th></th>\n",
       "      <th>osmid</th>\n",
       "      <th>x</th>\n",
       "      <th>y</th>\n",
       "      <th>geometry</th>\n",
       "      <th>time_ep_plaza_small</th>\n",
       "      <th>ep_plaza_small_15min</th>\n",
       "    </tr>\n",
       "  </thead>\n",
       "  <tbody>\n",
       "    <tr>\n",
       "      <th>127569</th>\n",
       "      <td>4362364454</td>\n",
       "      <td>-70.871831</td>\n",
       "      <td>-33.401831</td>\n",
       "      <td>POINT (-70.87183 -33.40183)</td>\n",
       "      <td>0.291627</td>\n",
       "      <td>1.0</td>\n",
       "    </tr>\n",
       "  </tbody>\n",
       "</table>\n",
       "</div>"
      ],
      "text/plain": [
       "             osmid          x          y                     geometry   \n",
       "127569  4362364454 -70.871831 -33.401831  POINT (-70.87183 -33.40183)  \\\n",
       "\n",
       "        time_ep_plaza_small  ep_plaza_small_15min  \n",
       "127569             0.291627                   1.0  "
      ]
     },
     "execution_count": 24,
     "metadata": {},
     "output_type": "execute_result"
    }
   ],
   "source": [
    "# Specific test\n",
    "source_nodes_time_all.loc[source_nodes_time_all.osmid==4362364454]"
   ]
  },
  {
   "cell_type": "markdown",
   "id": "67b194ec-f791-4e0a-a9a3-7bcf8f15b20b",
   "metadata": {},
   "source": [
    "#### __The error was here__"
   ]
  },
  {
   "cell_type": "code",
   "execution_count": 25,
   "id": "364b025d-3d01-4cab-abe4-dc0adb883382",
   "metadata": {},
   "outputs": [
    {
     "name": "stdout",
     "output_type": "stream",
     "text": [
      "(257999, 6)\n"
     ]
    },
    {
     "data": {
      "text/html": [
       "<div>\n",
       "<style scoped>\n",
       "    .dataframe tbody tr th:only-of-type {\n",
       "        vertical-align: middle;\n",
       "    }\n",
       "\n",
       "    .dataframe tbody tr th {\n",
       "        vertical-align: top;\n",
       "    }\n",
       "\n",
       "    .dataframe thead th {\n",
       "        text-align: right;\n",
       "    }\n",
       "</style>\n",
       "<table border=\"1\" class=\"dataframe\">\n",
       "  <thead>\n",
       "    <tr style=\"text-align: right;\">\n",
       "      <th></th>\n",
       "      <th>osmid</th>\n",
       "      <th>x</th>\n",
       "      <th>y</th>\n",
       "      <th>geometry</th>\n",
       "      <th>ep_plaza_small</th>\n",
       "      <th>ep_plaza_small_15min</th>\n",
       "    </tr>\n",
       "  </thead>\n",
       "  <tbody>\n",
       "    <tr>\n",
       "      <th>0</th>\n",
       "      <td>386138</td>\n",
       "      <td>-70.646254</td>\n",
       "      <td>-33.442901</td>\n",
       "      <td>POINT (-70.64625 -33.44290)</td>\n",
       "      <td>5.122773</td>\n",
       "      <td>24.0</td>\n",
       "    </tr>\n",
       "  </tbody>\n",
       "</table>\n",
       "</div>"
      ],
      "text/plain": [
       "    osmid          x          y                     geometry  ep_plaza_small   \n",
       "0  386138 -70.646254 -33.442901  POINT (-70.64625 -33.44290)        5.122773  \\\n",
       "\n",
       "   ep_plaza_small_15min  \n",
       "0                  24.0  "
      ]
     },
     "execution_count": 25,
     "metadata": {},
     "output_type": "execute_result"
    }
   ],
   "source": [
    "# 1.1d) Nodes_analysis format\n",
    "source_nodes_time_all.rename(columns={'time_'+source:source},inplace=True)\n",
    "nodes_analysis = source_nodes_time_all.copy()\n",
    "\n",
    "# ERROR FOUND: On Script I wrote:\n",
    "# nodes_analysis = source_nodes_time_2.copy()\n",
    "\n",
    "# Show\n",
    "print(nodes_analysis.shape)\n",
    "nodes_analysis.head(1)"
   ]
  },
  {
   "cell_type": "code",
   "execution_count": 26,
   "id": "8474b185-e28d-463c-92b1-de62c6ed657b",
   "metadata": {},
   "outputs": [
    {
     "name": "stdout",
     "output_type": "stream",
     "text": [
      "(257999, 6)\n"
     ]
    },
    {
     "data": {
      "text/html": [
       "<div>\n",
       "<style scoped>\n",
       "    .dataframe tbody tr th:only-of-type {\n",
       "        vertical-align: middle;\n",
       "    }\n",
       "\n",
       "    .dataframe tbody tr th {\n",
       "        vertical-align: top;\n",
       "    }\n",
       "\n",
       "    .dataframe thead th {\n",
       "        text-align: right;\n",
       "    }\n",
       "</style>\n",
       "<table border=\"1\" class=\"dataframe\">\n",
       "  <thead>\n",
       "    <tr style=\"text-align: right;\">\n",
       "      <th></th>\n",
       "      <th>osmid</th>\n",
       "      <th>ep_plaza_small</th>\n",
       "      <th>ep_plaza_small_15min</th>\n",
       "      <th>x</th>\n",
       "      <th>y</th>\n",
       "      <th>geometry</th>\n",
       "    </tr>\n",
       "  </thead>\n",
       "  <tbody>\n",
       "    <tr>\n",
       "      <th>0</th>\n",
       "      <td>386138</td>\n",
       "      <td>5.122773</td>\n",
       "      <td>24.0</td>\n",
       "      <td>-70.646254</td>\n",
       "      <td>-33.442901</td>\n",
       "      <td>POINT (-70.64625 -33.44290)</td>\n",
       "    </tr>\n",
       "  </tbody>\n",
       "</table>\n",
       "</div>"
      ],
      "text/plain": [
       "    osmid  ep_plaza_small  ep_plaza_small_15min          x          y   \n",
       "0  386138        5.122773                  24.0 -70.646254 -33.442901  \\\n",
       "\n",
       "                      geometry  \n",
       "0  POINT (-70.64625 -33.44290)  "
      ]
     },
     "execution_count": 26,
     "metadata": {},
     "output_type": "execute_result"
    }
   ],
   "source": [
    "# if count_pois, include generated col\n",
    "if count_pois[0]:\n",
    "    column_order = ['osmid'] + [source, f'{source}_{count_pois[1]}min'] + ['x','y','geometry']\n",
    "else:\n",
    "    column_order = ['osmid'] + [source] + ['x','y','geometry']\n",
    "nodes_analysis = nodes_analysis[column_order]\n",
    "\n",
    "# Show\n",
    "print(nodes_analysis.shape)\n",
    "nodes_analysis.head(1)"
   ]
  },
  {
   "cell_type": "code",
   "execution_count": 27,
   "id": "7b8610b0-fd43-44e8-a6bf-d6f83005ffb7",
   "metadata": {},
   "outputs": [
    {
     "name": "stdout",
     "output_type": "stream",
     "text": [
      "--- Reordering datased as tidy data format.\n",
      "(257999, 8)\n"
     ]
    },
    {
     "data": {
      "text/html": [
       "<div>\n",
       "<style scoped>\n",
       "    .dataframe tbody tr th:only-of-type {\n",
       "        vertical-align: middle;\n",
       "    }\n",
       "\n",
       "    .dataframe tbody tr th {\n",
       "        vertical-align: top;\n",
       "    }\n",
       "\n",
       "    .dataframe thead th {\n",
       "        text-align: right;\n",
       "    }\n",
       "</style>\n",
       "<table border=\"1\" class=\"dataframe\">\n",
       "  <thead>\n",
       "    <tr style=\"text-align: right;\">\n",
       "      <th></th>\n",
       "      <th>osmid</th>\n",
       "      <th>source</th>\n",
       "      <th>source_time</th>\n",
       "      <th>source_15min</th>\n",
       "      <th>x</th>\n",
       "      <th>y</th>\n",
       "      <th>geometry</th>\n",
       "      <th>city</th>\n",
       "    </tr>\n",
       "  </thead>\n",
       "  <tbody>\n",
       "    <tr>\n",
       "      <th>0</th>\n",
       "      <td>386138</td>\n",
       "      <td>ep_plaza_small</td>\n",
       "      <td>5.122773</td>\n",
       "      <td>24.0</td>\n",
       "      <td>-70.646254</td>\n",
       "      <td>-33.442901</td>\n",
       "      <td>POINT (-70.64625 -33.44290)</td>\n",
       "      <td>AM_Santiago</td>\n",
       "    </tr>\n",
       "  </tbody>\n",
       "</table>\n",
       "</div>"
      ],
      "text/plain": [
       "    osmid          source  source_time  source_15min          x          y   \n",
       "0  386138  ep_plaza_small     5.122773          24.0 -70.646254 -33.442901  \\\n",
       "\n",
       "                      geometry         city  \n",
       "0  POINT (-70.64625 -33.44290)  AM_Santiago  "
      ]
     },
     "execution_count": 27,
     "metadata": {},
     "output_type": "execute_result"
    }
   ],
   "source": [
    "city = 'AM_Santiago'\n",
    "\n",
    "# 1.1e) Tidy data format (Allows loop-upload)\n",
    "print(f\"--- Reordering datased as tidy data format.\")\n",
    "# Add source column to be able to extract source proximity data. Fill with current source.\n",
    "nodes_analysis['source'] = source\n",
    "# Rename source-specific column names as name that apply to all sources (source_time, source_15min)\n",
    "nodes_analysis.rename(columns={source:'source_time'},inplace=True)\n",
    "if count_pois[0]:\n",
    "    nodes_analysis.rename(columns={f'{source}_{count_pois[1]}min':f'source_{count_pois[1]}min'},inplace=True)\n",
    "# Set column order\n",
    "if count_pois[0]:\n",
    "    nodes_analysis = nodes_analysis[['osmid','source','source_time',f'source_{count_pois[1]}min','x','y','geometry']]\n",
    "else:\n",
    "    nodes_analysis = nodes_analysis[['osmid','source','source_time','x','y','geometry']]\n",
    "# Add city data\n",
    "nodes_analysis['city'] = city\n",
    "\n",
    "# Show\n",
    "print(nodes_analysis.shape)\n",
    "nodes_analysis.head(1)"
   ]
  },
  {
   "cell_type": "code",
   "execution_count": 34,
   "id": "a8325b30-fe33-432b-9bd9-2eecebb17bb8",
   "metadata": {},
   "outputs": [
    {
     "name": "stdout",
     "output_type": "stream",
     "text": [
      "santiago_nodesproximity_4_5_kmh\n",
      "--- Saving nodes proximity to ep_plaza_small.\n"
     ]
    }
   ],
   "source": [
    "save = False\n",
    "save_schema = 'projects_research'\n",
    "walking_speed = 4.5\n",
    "str_walk_speed = str(walking_speed).replace('.','_')\n",
    "nodes_save_table = f'santiago_nodesproximity_{str_walk_speed}_kmh'\n",
    "print(nodes_save_table)\n",
    "\n",
    "local_save = False\n",
    "nodes_local_save_dir = f\"../../../data/processed/santiago/santiago_nodesproximity_ep_plaza_small.gpkg\"\n",
    "\n",
    "# 1.1f) Save output\n",
    "print(f\"--- Saving nodes proximity to {source}.\")\n",
    "if save:\n",
    "    nodes_analysis['source_15min'] = nodes_analysis['source_15min'].astype(int)\n",
    "    aup.gdf_to_db_slow(nodes_analysis, nodes_save_table, save_schema, if_exists='append')\n",
    "    print(f\"--- Saved nodes proximity to {source} in database.\")\n",
    "\n",
    "if local_save:\n",
    "    nodes_analysis.to_file(nodes_local_save_dir, driver='GPKG')\n",
    "    print(f\"--- Saved nodes proximity to {source} locally.\")"
   ]
  },
  {
   "cell_type": "code",
   "execution_count": null,
   "id": "46c4d9ee-f968-464c-ac46-92d3b517614a",
   "metadata": {},
   "outputs": [],
   "source": []
  }
 ],
 "metadata": {
  "kernelspec": {
   "display_name": "GDS-10.0",
   "language": "python",
   "name": "gds"
  },
  "language_info": {
   "codemirror_mode": {
    "name": "ipython",
    "version": 3
   },
   "file_extension": ".py",
   "mimetype": "text/x-python",
   "name": "python",
   "nbconvert_exporter": "python",
   "pygments_lexer": "ipython3",
   "version": "3.9.18"
  }
 },
 "nbformat": 4,
 "nbformat_minor": 5
}
