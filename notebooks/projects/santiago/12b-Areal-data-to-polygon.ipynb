{
 "cells": [
  {
   "cell_type": "markdown",
   "id": "66169fe0-5ab4-42e1-8c6b-accce2628c23",
   "metadata": {},
   "source": [
    "# Aereal data to hex"
   ]
  },
  {
   "cell_type": "markdown",
   "id": "fa2679ee-82e5-4868-ba76-739343c5ecd5",
   "metadata": {},
   "source": [
    "This notebook __creates tables 'hex_aereal_res{res}.gpkg'__, used in notebooks that calculate HQSL and notebook aux17."
   ]
  },
  {
   "cell_type": "markdown",
   "id": "afcc309c-9edf-43da-a4d2-ba3ef37ea1ba",
   "metadata": {},
   "source": [
    "## Import libraries"
   ]
  },
  {
   "cell_type": "code",
   "execution_count": 1,
   "id": "4a0e542f-b87a-423a-b603-cb82a44404e0",
   "metadata": {
    "scrolled": true
   },
   "outputs": [
    {
     "name": "stderr",
     "output_type": "stream",
     "text": [
      "/home/edgaregurrola/Repos/observatorio-ciudades/accesibilidad-urbana/aup/data.py:24: UserWarning: The `utils.config` function is deprecated and will be removed in a future release. Instead, use the `settings` module directly to configure a global setting's value. For example, `ox.settings.log_console=True`.\n",
      "  ox.config(\n"
     ]
    }
   ],
   "source": [
    "import geopandas as gpd\n",
    "import pandas as pd\n",
    "import numpy as np\n",
    "\n",
    "import warnings\n",
    "warnings.simplefilter(action='ignore', category=FutureWarning)\n",
    "\n",
    "import os\n",
    "import sys\n",
    "module_path = os.path.abspath(os.path.join('../../../'))\n",
    "if module_path not in sys.path:\n",
    "    sys.path.append(module_path)\n",
    "    import aup"
   ]
  },
  {
   "cell_type": "markdown",
   "id": "6a931bf1-9026-4cfb-b0b5-8389943ed6df",
   "metadata": {},
   "source": [
    "## Config notebook"
   ]
  },
  {
   "cell_type": "code",
   "execution_count": 2,
   "id": "18d575de-76bc-47c6-9bd8-31f21e293262",
   "metadata": {},
   "outputs": [],
   "source": [
    "import h3\n",
    "def neighbour_mean(hex_id, hex_id_name, hex_bins, col_name):\n",
    "    return hex_bins.loc[hex_bins[hex_id_name].isin(h3.k_ring(hex_id,1)),col_name].mean()"
   ]
  },
  {
   "cell_type": "code",
   "execution_count": 3,
   "id": "699b477b-2e75-4fe8-b2fe-57bcb39111e4",
   "metadata": {},
   "outputs": [],
   "source": [
    "# 'alex' or 'edgar'\n",
    "all_local_dirs = 'edgar'\n",
    "# Output hexs resolution           \n",
    "res = 9\n",
    "# save output to local?\n",
    "save = True"
   ]
  },
  {
   "cell_type": "code",
   "execution_count": 4,
   "id": "a09426f1-d4ac-4e42-92ce-3851ad48974e",
   "metadata": {},
   "outputs": [],
   "source": [
    "if all_local_dirs == 'alex':\n",
    "    grl_dir = \"../../../data/processed/santiago/areal_data/\"\n",
    "    count_pois_dir = \"../../../data/external/temporal_fromjupyter/santiago/pois/\"\n",
    "    ndvi_dir = \"../../../data/external/temporal_todocker/santiago/ndvi_santiago/\"\n",
    "elif all_local_dirs == 'edgar':\n",
    "    grl_dir = \"../../../data/processed/00_pois_formated/aereal_data/\"\n",
    "    count_pois_dir = grl_dir\n",
    "    ndvi_dir = grl_dir\n",
    "else:\n",
    "    print(\"WARNING: Fix all_local_dirs variable\")"
   ]
  },
  {
   "cell_type": "markdown",
   "id": "5f36012f-3242-45c0-86c7-35d54ba2aaf6",
   "metadata": {},
   "source": [
    "## Create hexgrid from area of interest"
   ]
  },
  {
   "cell_type": "code",
   "execution_count": 5,
   "id": "d3c101b4-98e1-4b72-9cac-1ba49536558b",
   "metadata": {},
   "outputs": [],
   "source": [
    "area_dict = {'unidadesvecinales':'COD_UNICO_',\n",
    "            'zonascensales':'GEOCODI',\n",
    "            'alameda':'name',\n",
    "            'comunas':'Comuna',\n",
    "            'hex':'hex_id',\n",
    "            'santiago':'nom_region'}"
   ]
  },
  {
   "cell_type": "code",
   "execution_count": 6,
   "id": "b2dac2b4-4ad8-451e-9832-f5baf9439f8e",
   "metadata": {},
   "outputs": [],
   "source": [
    "area_analysis = 'hex' # unidadesvecinales, zonascensales, alameda, comunas\n",
    "code_column = area_dict[area_analysis] # COD_UNICO_ - GEOCODI , name, Comuna"
   ]
  },
  {
   "cell_type": "code",
   "execution_count": 7,
   "id": "09598479-da31-41b8-8846-8d1ab997a320",
   "metadata": {},
   "outputs": [
    {
     "name": "stdout",
     "output_type": "stream",
     "text": [
      "(30073, 2)\n"
     ]
    },
    {
     "data": {
      "text/html": [
       "<div>\n",
       "<style scoped>\n",
       "    .dataframe tbody tr th:only-of-type {\n",
       "        vertical-align: middle;\n",
       "    }\n",
       "\n",
       "    .dataframe tbody tr th {\n",
       "        vertical-align: top;\n",
       "    }\n",
       "\n",
       "    .dataframe thead th {\n",
       "        text-align: right;\n",
       "    }\n",
       "</style>\n",
       "<table border=\"1\" class=\"dataframe\">\n",
       "  <thead>\n",
       "    <tr style=\"text-align: right;\">\n",
       "      <th></th>\n",
       "      <th>hex_id</th>\n",
       "      <th>geometry</th>\n",
       "    </tr>\n",
       "  </thead>\n",
       "  <tbody>\n",
       "    <tr>\n",
       "      <th>0</th>\n",
       "      <td>89b2c0b0003ffff</td>\n",
       "      <td>POLYGON ((-71.00923 -33.71126, -71.01041 -33.7...</td>\n",
       "    </tr>\n",
       "    <tr>\n",
       "      <th>1</th>\n",
       "      <td>89b2c0b0007ffff</td>\n",
       "      <td>POLYGON ((-71.00625 -33.71263, -71.00742 -33.7...</td>\n",
       "    </tr>\n",
       "  </tbody>\n",
       "</table>\n",
       "</div>"
      ],
      "text/plain": [
       "            hex_id                                           geometry\n",
       "0  89b2c0b0003ffff  POLYGON ((-71.00923 -33.71126, -71.01041 -33.7...\n",
       "1  89b2c0b0007ffff  POLYGON ((-71.00625 -33.71263, -71.00742 -33.7..."
      ]
     },
     "execution_count": 7,
     "metadata": {},
     "output_type": "execute_result"
    }
   ],
   "source": [
    "if area_analysis == 'unidadesvecinales':\n",
    "    gdf = gpd.read_file('../../../data/processed/santiago/santiago_unidadesvecinales_zonaurbana.geojson')\n",
    "    gdf = gdf[[code_column,'geometry']].copy()\n",
    "    \n",
    "elif area_analysis == 'zonascensales':\n",
    "    gdf = gpd.read_file('../../../data/processed/santiago/santiago_zonascensalesanalysis_4_5_kmh.geojson')\n",
    "    gdf = gdf[['GEOCODI','geometry']].copy()\n",
    "    \n",
    "elif area_analysis == 'alameda':\n",
    "    gdf = gpd.read_file('../../../data/processed/santiago/alameda_all_buffer800m_gcs_v1.geojson')\n",
    "    gdf = gdf[[code_column,'geometry']].copy()\n",
    "    \n",
    "elif area_analysis == 'comunas':\n",
    "    gdf = gpd.read_file('../../../data/processed/santiago/santiago_comunas_zonaurbana.geojson')\n",
    "    gdf = gdf[[code_column,'geometry']].copy()\n",
    "\n",
    "elif area_analysis == 'santiago':\n",
    "    gdf = gpd.read_file('../../../data/processed/santiago/zonaurbana_zonascensales.gpkg')\n",
    "    gdf = gdf[[code_column,'geometry']].copy()\n",
    "\n",
    "elif area_analysis == 'hex':\n",
    "    query = 'SELECT * FROM projects_research.santiago_aoi'\n",
    "    aoi = aup.gdf_from_query(query)\n",
    "    \n",
    "    # When working without internet connection:\n",
    "    #aoi = gpd.read_file(\"../../../data/processed/santiago/santiago_aoi.gpkg\")\n",
    "    #aoi = gpd.read_file(\"../../../data/external/temporal_todocker/santiago/proximidad/santiago_odc_aoi_32719.gpkg\")\n",
    "    \n",
    "    try:\n",
    "        aoi = aoi.set_crs(\"EPSG:4326\")\n",
    "    except:\n",
    "        aoi = aoi.to_crs(\"EPSG:4326\")\n",
    "    \n",
    "    gdf = aup.create_hexgrid(aoi, res)\n",
    "    \n",
    "    gdf.rename(columns={f'hex_id_{res}':'hex_id'},inplace=True)\n",
    "\n",
    "\n",
    "gdf = gdf.explode(ignore_index=True)\n",
    "gdf = gdf.loc[~((gdf.to_crs(\"EPSG:32719\").area/10000)<0.5)]\n",
    "gdf = gdf.dissolve(by=code_column)\n",
    "gdf = gdf.reset_index()\n",
    "\n",
    "print(gdf.shape)\n",
    "gdf.head(2)"
   ]
  },
  {
   "cell_type": "code",
   "execution_count": 8,
   "id": "d1c1d018-6e7c-4513-a1a7-b33c998fe8c3",
   "metadata": {},
   "outputs": [
    {
     "data": {
      "text/plain": [
       "<AxesSubplot: >"
      ]
     },
     "execution_count": 8,
     "metadata": {},
     "output_type": "execute_result"
    },
    {
     "data": {
      "image/png": "[encoded data removed]",
      "text/plain": [
       "<Figure size 640x480 with 1 Axes>"
      ]
     },
     "metadata": {},
     "output_type": "display_data"
    }
   ],
   "source": [
    "gdf.plot()"
   ]
  },
  {
   "cell_type": "markdown",
   "id": "48d86275-4a11-428a-906c-85b1ad48a04c",
   "metadata": {},
   "source": [
    "## __Housing__"
   ]
  },
  {
   "cell_type": "markdown",
   "id": "c98083fc-6141-4dbc-8312-b871ee469376",
   "metadata": {},
   "source": [
    "### __Housing__ - Load data"
   ]
  },
  {
   "cell_type": "code",
   "execution_count": 9,
   "id": "ee2521a8-79e3-4c17-a7e2-fb6c8a214ffe",
   "metadata": {},
   "outputs": [
    {
     "name": "stdout",
     "output_type": "stream",
     "text": [
      "(214430, 3)\n"
     ]
    },
    {
     "data": {
      "text/html": [
       "<div>\n",
       "<style scoped>\n",
       "    .dataframe tbody tr th:only-of-type {\n",
       "        vertical-align: middle;\n",
       "    }\n",
       "\n",
       "    .dataframe tbody tr th {\n",
       "        vertical-align: top;\n",
       "    }\n",
       "\n",
       "    .dataframe thead th {\n",
       "        text-align: right;\n",
       "    }\n",
       "</style>\n",
       "<table border=\"1\" class=\"dataframe\">\n",
       "  <thead>\n",
       "    <tr style=\"text-align: right;\">\n",
       "      <th></th>\n",
       "      <th>osmid</th>\n",
       "      <th>viv_sum</th>\n",
       "      <th>geometry</th>\n",
       "    </tr>\n",
       "  </thead>\n",
       "  <tbody>\n",
       "    <tr>\n",
       "      <th>0</th>\n",
       "      <td>14609420</td>\n",
       "      <td>20.126666</td>\n",
       "      <td>POINT (-70.75478 -33.51598)</td>\n",
       "    </tr>\n",
       "    <tr>\n",
       "      <th>1</th>\n",
       "      <td>266255164</td>\n",
       "      <td>21.028271</td>\n",
       "      <td>POINT (-70.79327 -33.52609)</td>\n",
       "    </tr>\n",
       "  </tbody>\n",
       "</table>\n",
       "</div>"
      ],
      "text/plain": [
       "       osmid    viv_sum                     geometry\n",
       "0   14609420  20.126666  POINT (-70.75478 -33.51598)\n",
       "1  266255164  21.028271  POINT (-70.79327 -33.52609)"
      ]
     },
     "execution_count": 9,
     "metadata": {},
     "output_type": "execute_result"
    }
   ],
   "source": [
    "viv_nodes = gpd.read_file(count_pois_dir + 'casas_deptos_mzn.gpkg')\n",
    "viv_nodes = viv_nodes[['osmid','total_viv','geometry']]\n",
    "viv_nodes = viv_nodes.rename(columns={'total_viv':'viv_sum'})\n",
    "# Show\n",
    "print(viv_nodes.shape)\n",
    "viv_nodes.head(2)"
   ]
  },
  {
   "cell_type": "markdown",
   "id": "7b1a1780-b67d-4591-8b05-8e92e8afaae8",
   "metadata": {},
   "source": [
    "### __Housing__ - Sum all viv by hexagon"
   ]
  },
  {
   "cell_type": "code",
   "execution_count": 10,
   "id": "af76952c-b15c-48e6-8cc2-1467f033fa5f",
   "metadata": {},
   "outputs": [
    {
     "name": "stdout",
     "output_type": "stream",
     "text": [
      "(10105, 2)\n",
      "NaNs in viv_sum: 0.\n"
     ]
    },
    {
     "data": {
      "text/html": [
       "<div>\n",
       "<style scoped>\n",
       "    .dataframe tbody tr th:only-of-type {\n",
       "        vertical-align: middle;\n",
       "    }\n",
       "\n",
       "    .dataframe tbody tr th {\n",
       "        vertical-align: top;\n",
       "    }\n",
       "\n",
       "    .dataframe thead th {\n",
       "        text-align: right;\n",
       "    }\n",
       "</style>\n",
       "<table border=\"1\" class=\"dataframe\">\n",
       "  <thead>\n",
       "    <tr style=\"text-align: right;\">\n",
       "      <th></th>\n",
       "      <th>hex_id</th>\n",
       "      <th>viv_sum</th>\n",
       "    </tr>\n",
       "  </thead>\n",
       "  <tbody>\n",
       "    <tr>\n",
       "      <th>0</th>\n",
       "      <td>89b2c0b00d7ffff</td>\n",
       "      <td>2.086578e-08</td>\n",
       "    </tr>\n",
       "    <tr>\n",
       "      <th>1</th>\n",
       "      <td>89b2c0b0427ffff</td>\n",
       "      <td>8.541227e-08</td>\n",
       "    </tr>\n",
       "  </tbody>\n",
       "</table>\n",
       "</div>"
      ],
      "text/plain": [
       "            hex_id       viv_sum\n",
       "0  89b2c0b00d7ffff  2.086578e-08\n",
       "1  89b2c0b0427ffff  8.541227e-08"
      ]
     },
     "execution_count": 10,
     "metadata": {},
     "output_type": "execute_result"
    }
   ],
   "source": [
    "viv_hexs = gpd.sjoin(viv_nodes, gdf)\n",
    "grouped_by = viv_hexs.groupby(code_column).agg({'viv_sum':np.sum})\n",
    "viv_gdf = grouped_by.reset_index().copy()\n",
    "viv_tot = viv_gdf.copy()\n",
    "\n",
    "# calcuate density\n",
    "viv_gdf = gdf.merge(viv_gdf, on=code_column)\n",
    "viv_gdf['viv_sum'] = viv_gdf['viv_sum'] / (viv_gdf.to_crs(\"EPSG:32719\").area/10000)\n",
    "viv_gdf = viv_gdf.drop(columns='geometry')\n",
    "# Show\n",
    "print(viv_gdf.shape)\n",
    "print(f\"NaNs in viv_sum: {viv_gdf.loc[viv_gdf.viv_sum.isna()].shape[0]}.\")\n",
    "viv_gdf.head(2)"
   ]
  },
  {
   "cell_type": "markdown",
   "id": "e2e69038-9d4f-49f2-b3b9-3e8fa22e49ca",
   "metadata": {},
   "source": [
    "## __Social housing__"
   ]
  },
  {
   "cell_type": "markdown",
   "id": "2490ffa5-abb0-47d7-89a7-245720b5f768",
   "metadata": {},
   "source": [
    "### __Social housing__ - Load data"
   ]
  },
  {
   "cell_type": "code",
   "execution_count": 11,
   "id": "42729ccd-0a8f-4c2a-b412-e2b6776f51cd",
   "metadata": {},
   "outputs": [
    {
     "name": "stdout",
     "output_type": "stream",
     "text": [
      "(34639, 3)\n"
     ]
    },
    {
     "data": {
      "text/html": [
       "<div>\n",
       "<style scoped>\n",
       "    .dataframe tbody tr th:only-of-type {\n",
       "        vertical-align: middle;\n",
       "    }\n",
       "\n",
       "    .dataframe tbody tr th {\n",
       "        vertical-align: top;\n",
       "    }\n",
       "\n",
       "    .dataframe thead th {\n",
       "        text-align: right;\n",
       "    }\n",
       "</style>\n",
       "<table border=\"1\" class=\"dataframe\">\n",
       "  <thead>\n",
       "    <tr style=\"text-align: right;\">\n",
       "      <th></th>\n",
       "      <th>osmid</th>\n",
       "      <th>viv_social_count</th>\n",
       "      <th>geometry</th>\n",
       "    </tr>\n",
       "  </thead>\n",
       "  <tbody>\n",
       "    <tr>\n",
       "      <th>0</th>\n",
       "      <td>14528355</td>\n",
       "      <td>0.662426</td>\n",
       "      <td>POINT (-70.69014 -33.45685)</td>\n",
       "    </tr>\n",
       "    <tr>\n",
       "      <th>1</th>\n",
       "      <td>14805060</td>\n",
       "      <td>1.897061</td>\n",
       "      <td>POINT (-70.58526 -33.47253)</td>\n",
       "    </tr>\n",
       "  </tbody>\n",
       "</table>\n",
       "</div>"
      ],
      "text/plain": [
       "      osmid  viv_social_count                     geometry\n",
       "0  14528355          0.662426  POINT (-70.69014 -33.45685)\n",
       "1  14805060          1.897061  POINT (-70.58526 -33.47253)"
      ]
     },
     "execution_count": 11,
     "metadata": {},
     "output_type": "execute_result"
    }
   ],
   "source": [
    "socviv_nodes = gpd.read_file(count_pois_dir + 'viv_social.gpkg')\n",
    "socviv_nodes = socviv_nodes.rename(columns={'housing':'viv_social_count'})\n",
    "# Show\n",
    "print(socviv_nodes.shape)\n",
    "socviv_nodes.head(2)"
   ]
  },
  {
   "cell_type": "markdown",
   "id": "9ccb8d85-39e8-40df-980f-2c42c28076f6",
   "metadata": {},
   "source": [
    "### __Social housing__ - Calculate percentage of viv that belong to social housing by hex"
   ]
  },
  {
   "cell_type": "code",
   "execution_count": 12,
   "id": "bbe9d4cc-545f-4512-a38e-62059874b65f",
   "metadata": {},
   "outputs": [
    {
     "name": "stdout",
     "output_type": "stream",
     "text": [
      "NaNs in pct_social_viv: 31.\n",
      "NaNs in pct_social_viv: 0.\n",
      "(10076, 3)\n"
     ]
    },
    {
     "data": {
      "text/html": [
       "<div>\n",
       "<style scoped>\n",
       "    .dataframe tbody tr th:only-of-type {\n",
       "        vertical-align: middle;\n",
       "    }\n",
       "\n",
       "    .dataframe tbody tr th {\n",
       "        vertical-align: top;\n",
       "    }\n",
       "\n",
       "    .dataframe thead th {\n",
       "        text-align: right;\n",
       "    }\n",
       "</style>\n",
       "<table border=\"1\" class=\"dataframe\">\n",
       "  <thead>\n",
       "    <tr style=\"text-align: right;\">\n",
       "      <th></th>\n",
       "      <th>hex_id</th>\n",
       "      <th>pct_social_viv</th>\n",
       "      <th>viv_sum</th>\n",
       "    </tr>\n",
       "  </thead>\n",
       "  <tbody>\n",
       "    <tr>\n",
       "      <th>0</th>\n",
       "      <td>89b2c0b00d7ffff</td>\n",
       "      <td>0.0</td>\n",
       "      <td>2.086578e-08</td>\n",
       "    </tr>\n",
       "    <tr>\n",
       "      <th>1</th>\n",
       "      <td>89b2c0b0427ffff</td>\n",
       "      <td>0.0</td>\n",
       "      <td>8.541227e-08</td>\n",
       "    </tr>\n",
       "  </tbody>\n",
       "</table>\n",
       "</div>"
      ],
      "text/plain": [
       "            hex_id  pct_social_viv       viv_sum\n",
       "0  89b2c0b00d7ffff             0.0  2.086578e-08\n",
       "1  89b2c0b0427ffff             0.0  8.541227e-08"
      ]
     },
     "execution_count": 12,
     "metadata": {},
     "output_type": "execute_result"
    }
   ],
   "source": [
    "# Sum social housing by hex\n",
    "socviv_hex = gpd.sjoin(socviv_nodes, gdf)\n",
    "grouped_by = socviv_hex.groupby(code_column).agg({'viv_social_count':np.sum})\n",
    "socviv_gdf = grouped_by.reset_index().copy()\n",
    "\n",
    "# Merge with previously calculated viv_hex\n",
    "both_viv_gdf = pd.merge(viv_tot,socviv_gdf,on=code_column, how='outer')\n",
    "# Fill NaNs in social viv with 0s and \n",
    "both_viv_gdf['viv_social_count'].fillna(0,inplace=True)\n",
    "# Calculate pct of viv that are social viv\n",
    "both_viv_gdf['pct_social_viv'] = (both_viv_gdf['viv_social_count'] / both_viv_gdf['viv_sum'])*100\n",
    "\n",
    "# Filter and format\n",
    "both_viv_gdf = both_viv_gdf[[code_column,'viv_sum','pct_social_viv']]\n",
    "\n",
    "# Drop pct_social_viv NaNs (0/0 or NaN/something)\n",
    "print(f\"NaNs in pct_social_viv: {both_viv_gdf.loc[both_viv_gdf.pct_social_viv.isna()].shape[0]}.\")\n",
    "both_viv_gdf.dropna(subset = [\"pct_social_viv\"], inplace=True)\n",
    "print(f\"NaNs in pct_social_viv: {both_viv_gdf.loc[both_viv_gdf.pct_social_viv.isna()].shape[0]}.\")\n",
    "\n",
    "# join processed data\n",
    "both_viv_gdf = both_viv_gdf.drop(columns=['viv_sum'])\n",
    "both_viv_gdf = both_viv_gdf.merge(viv_gdf, on=code_column)\n",
    "\n",
    "\n",
    "# Show\n",
    "print(both_viv_gdf.shape)\n",
    "both_viv_gdf.head(2)"
   ]
  },
  {
   "cell_type": "markdown",
   "id": "02272f91-d526-414a-bff6-7e39aa230060",
   "metadata": {},
   "source": [
    "## __Hotels__"
   ]
  },
  {
   "cell_type": "markdown",
   "id": "2ed4af26-6b89-4a11-a37d-6e4c76e7d4b2",
   "metadata": {},
   "source": [
    "### __Hotels__ - Load usos de suelo data"
   ]
  },
  {
   "cell_type": "code",
   "execution_count": 13,
   "id": "5545731f-519c-4bee-a17c-3e3a41202a1b",
   "metadata": {},
   "outputs": [
    {
     "name": "stdout",
     "output_type": "stream",
     "text": [
      "(229965, 21)\n"
     ]
    },
    {
     "data": {
      "text/html": [
       "<div>\n",
       "<style scoped>\n",
       "    .dataframe tbody tr th:only-of-type {\n",
       "        vertical-align: middle;\n",
       "    }\n",
       "\n",
       "    .dataframe tbody tr th {\n",
       "        vertical-align: top;\n",
       "    }\n",
       "\n",
       "    .dataframe thead th {\n",
       "        text-align: right;\n",
       "    }\n",
       "</style>\n",
       "<table border=\"1\" class=\"dataframe\">\n",
       "  <thead>\n",
       "    <tr style=\"text-align: right;\">\n",
       "      <th></th>\n",
       "      <th>osmid</th>\n",
       "      <th>ADMIN</th>\n",
       "      <th>AGR</th>\n",
       "      <th>BBCC</th>\n",
       "      <th>BODEG</th>\n",
       "      <th>COM</th>\n",
       "      <th>CULT</th>\n",
       "      <th>DEPOR</th>\n",
       "      <th>EDUC</th>\n",
       "      <th>ERIAZO</th>\n",
       "      <th>...</th>\n",
       "      <th>HABIT</th>\n",
       "      <th>HOTEL</th>\n",
       "      <th>INDUS</th>\n",
       "      <th>MIN</th>\n",
       "      <th>OFIC</th>\n",
       "      <th>OTROS</th>\n",
       "      <th>SALUD</th>\n",
       "      <th>TPTE</th>\n",
       "      <th>geometry</th>\n",
       "      <th>tot_area</th>\n",
       "    </tr>\n",
       "  </thead>\n",
       "  <tbody>\n",
       "    <tr>\n",
       "      <th>0</th>\n",
       "      <td>386139</td>\n",
       "      <td>0.0</td>\n",
       "      <td>0.0</td>\n",
       "      <td>0.520425</td>\n",
       "      <td>163.909199</td>\n",
       "      <td>769.964416</td>\n",
       "      <td>27.715437</td>\n",
       "      <td>0.0</td>\n",
       "      <td>13.781373</td>\n",
       "      <td>0.0</td>\n",
       "      <td>...</td>\n",
       "      <td>203.073595</td>\n",
       "      <td>14.213205</td>\n",
       "      <td>0.107459</td>\n",
       "      <td>0.0</td>\n",
       "      <td>887.353986</td>\n",
       "      <td>30.780062</td>\n",
       "      <td>0.199923</td>\n",
       "      <td>0.0</td>\n",
       "      <td>POINT (-70.64725 -33.44313)</td>\n",
       "      <td>2111.619078</td>\n",
       "    </tr>\n",
       "    <tr>\n",
       "      <th>1</th>\n",
       "      <td>386140</td>\n",
       "      <td>0.0</td>\n",
       "      <td>0.0</td>\n",
       "      <td>0.000000</td>\n",
       "      <td>0.114390</td>\n",
       "      <td>0.532323</td>\n",
       "      <td>0.000000</td>\n",
       "      <td>0.0</td>\n",
       "      <td>0.000000</td>\n",
       "      <td>0.0</td>\n",
       "      <td>...</td>\n",
       "      <td>0.130597</td>\n",
       "      <td>0.000000</td>\n",
       "      <td>0.000000</td>\n",
       "      <td>0.0</td>\n",
       "      <td>0.618872</td>\n",
       "      <td>0.021155</td>\n",
       "      <td>0.000000</td>\n",
       "      <td>0.0</td>\n",
       "      <td>POINT (-70.64767 -33.44304)</td>\n",
       "      <td>1.417338</td>\n",
       "    </tr>\n",
       "  </tbody>\n",
       "</table>\n",
       "<p>2 rows × 21 columns</p>\n",
       "</div>"
      ],
      "text/plain": [
       "    osmid  ADMIN  AGR      BBCC       BODEG         COM       CULT  DEPOR  \\\n",
       "0  386139    0.0  0.0  0.520425  163.909199  769.964416  27.715437    0.0   \n",
       "1  386140    0.0  0.0  0.000000    0.114390    0.532323   0.000000    0.0   \n",
       "\n",
       "        EDUC  ERIAZO  ...       HABIT      HOTEL     INDUS  MIN        OFIC  \\\n",
       "0  13.781373     0.0  ...  203.073595  14.213205  0.107459  0.0  887.353986   \n",
       "1   0.000000     0.0  ...    0.130597   0.000000  0.000000  0.0    0.618872   \n",
       "\n",
       "       OTROS     SALUD  TPTE                     geometry     tot_area  \n",
       "0  30.780062  0.199923   0.0  POINT (-70.64725 -33.44313)  2111.619078  \n",
       "1   0.021155  0.000000   0.0  POINT (-70.64767 -33.44304)     1.417338  \n",
       "\n",
       "[2 rows x 21 columns]"
      ]
     },
     "execution_count": 13,
     "metadata": {},
     "output_type": "execute_result"
    }
   ],
   "source": [
    "# Load node data\n",
    "uso_suelo_nodes = gpd.read_file(count_pois_dir + 'usos_de_suelo.gpkg')\n",
    "\n",
    "# Calculate total area by node\n",
    "all_uses = ['ADMIN','AGR','BBCC','BODEG','COM','CULT','DEPOR','EDUC','ERIAZO',\n",
    "            'ESTAC','HABIT','HOTEL','INDUS','MIN','OFIC','OTROS','SALUD','TPTE']\n",
    "uso_suelo_nodes['tot_area'] = uso_suelo_nodes[all_uses].sum(axis=1)\n",
    "\n",
    "# Show\n",
    "print(uso_suelo_nodes.shape)\n",
    "uso_suelo_nodes.head(2)"
   ]
  },
  {
   "cell_type": "markdown",
   "id": "f8892016-8241-491d-90e6-8efb429c8f89",
   "metadata": {},
   "source": [
    "### __Hotels__ - Calculate built percentage that belongs to hotels"
   ]
  },
  {
   "cell_type": "code",
   "execution_count": 14,
   "id": "a7acf819-ebc5-4afd-aa94-e126085f9185",
   "metadata": {},
   "outputs": [
    {
     "name": "stdout",
     "output_type": "stream",
     "text": [
      "NaNs in pct_hotel: 1021.\n",
      "NaNs in pct_hotel: 0.\n",
      "(13855, 2)\n"
     ]
    },
    {
     "data": {
      "text/html": [
       "<div>\n",
       "<style scoped>\n",
       "    .dataframe tbody tr th:only-of-type {\n",
       "        vertical-align: middle;\n",
       "    }\n",
       "\n",
       "    .dataframe tbody tr th {\n",
       "        vertical-align: top;\n",
       "    }\n",
       "\n",
       "    .dataframe thead th {\n",
       "        text-align: right;\n",
       "    }\n",
       "</style>\n",
       "<table border=\"1\" class=\"dataframe\">\n",
       "  <thead>\n",
       "    <tr style=\"text-align: right;\">\n",
       "      <th></th>\n",
       "      <th>hex_id</th>\n",
       "      <th>pct_hotel</th>\n",
       "    </tr>\n",
       "  </thead>\n",
       "  <tbody>\n",
       "    <tr>\n",
       "      <th>0</th>\n",
       "      <td>89b2c0b0083ffff</td>\n",
       "      <td>0.0</td>\n",
       "    </tr>\n",
       "    <tr>\n",
       "      <th>1</th>\n",
       "      <td>89b2c0b0087ffff</td>\n",
       "      <td>0.0</td>\n",
       "    </tr>\n",
       "  </tbody>\n",
       "</table>\n",
       "</div>"
      ],
      "text/plain": [
       "            hex_id  pct_hotel\n",
       "0  89b2c0b0083ffff        0.0\n",
       "1  89b2c0b0087ffff        0.0"
      ]
     },
     "execution_count": 14,
     "metadata": {},
     "output_type": "execute_result"
    }
   ],
   "source": [
    "# Sum all data (all usos de suelo) by hex\n",
    "uso_suelo_hex = gpd.sjoin(uso_suelo_nodes, gdf)\n",
    "grouped_by = uso_suelo_hex.groupby(code_column).agg({'HOTEL':np.sum,'tot_area':np.sum})\n",
    "uso_suelo_gdf = grouped_by.reset_index().copy()\n",
    "\n",
    "# Calculate percentage of total area that belongs to hotels by hex\n",
    "uso_suelo_gdf['pct_hotel'] = (uso_suelo_gdf['HOTEL']/uso_suelo_gdf['tot_area'])*100\n",
    "\n",
    "# Filter and format\n",
    "hotel_gdf = uso_suelo_gdf[[code_column,'pct_hotel']].copy()\n",
    "\n",
    "# Drop pct_hotel NaNs (0/0 or NaN/something)\n",
    "print(f\"NaNs in pct_hotel: {hotel_gdf.loc[hotel_gdf.pct_hotel.isna()].shape[0]}.\")\n",
    "hotel_gdf.fillna(0, inplace=True)\n",
    "print(f\"NaNs in pct_hotel: {hotel_gdf.loc[hotel_gdf.pct_hotel.isna()].shape[0]}.\")\n",
    "\n",
    "# Show\n",
    "print(hotel_gdf.shape)\n",
    "hotel_gdf.head(2)"
   ]
  },
  {
   "cell_type": "markdown",
   "id": "d584be3b-fbb6-42c8-b983-148b1c16bc09",
   "metadata": {},
   "source": [
    "## __NDVI__"
   ]
  },
  {
   "cell_type": "markdown",
   "id": "b515cf05-1adb-4c5f-a8c6-1e1872338bfb",
   "metadata": {},
   "source": [
    "### __NDVI__ - Load data (Already processed to hexs)"
   ]
  },
  {
   "cell_type": "code",
   "execution_count": 15,
   "id": "6fff612b-28b1-4d8e-bd2e-7d41503bdd02",
   "metadata": {},
   "outputs": [
    {
     "name": "stdout",
     "output_type": "stream",
     "text": [
      "(9170, 11)\n"
     ]
    },
    {
     "data": {
      "text/html": [
       "<div>\n",
       "<style scoped>\n",
       "    .dataframe tbody tr th:only-of-type {\n",
       "        vertical-align: middle;\n",
       "    }\n",
       "\n",
       "    .dataframe tbody tr th {\n",
       "        vertical-align: top;\n",
       "    }\n",
       "\n",
       "    .dataframe thead th {\n",
       "        text-align: right;\n",
       "    }\n",
       "</style>\n",
       "<table border=\"1\" class=\"dataframe\">\n",
       "  <thead>\n",
       "    <tr style=\"text-align: right;\">\n",
       "      <th></th>\n",
       "      <th>hex_id</th>\n",
       "      <th>res</th>\n",
       "      <th>ndvi_mean</th>\n",
       "      <th>ndvi_std</th>\n",
       "      <th>ndvi_median</th>\n",
       "      <th>ndvi_max</th>\n",
       "      <th>ndvi_min</th>\n",
       "      <th>ndvi_diff</th>\n",
       "      <th>ndvi_tend</th>\n",
       "      <th>city</th>\n",
       "      <th>geometry</th>\n",
       "    </tr>\n",
       "  </thead>\n",
       "  <tbody>\n",
       "    <tr>\n",
       "      <th>0</th>\n",
       "      <td>89b2c55085bffff</td>\n",
       "      <td>9</td>\n",
       "      <td>0.018576</td>\n",
       "      <td>0.010166</td>\n",
       "      <td>0.015034</td>\n",
       "      <td>0.028624</td>\n",
       "      <td>0.005130</td>\n",
       "      <td>0.023493</td>\n",
       "      <td>-0.000404</td>\n",
       "      <td>Santiago</td>\n",
       "      <td>POLYGON ((-70.79572 -33.40004, -70.79689 -33.4...</td>\n",
       "    </tr>\n",
       "    <tr>\n",
       "      <th>1</th>\n",
       "      <td>89b2c509dc7ffff</td>\n",
       "      <td>9</td>\n",
       "      <td>0.302082</td>\n",
       "      <td>0.166934</td>\n",
       "      <td>0.247760</td>\n",
       "      <td>0.639392</td>\n",
       "      <td>0.114962</td>\n",
       "      <td>0.524430</td>\n",
       "      <td>-0.000667</td>\n",
       "      <td>Santiago</td>\n",
       "      <td>POLYGON ((-70.53795 -33.53054, -70.53912 -33.5...</td>\n",
       "    </tr>\n",
       "  </tbody>\n",
       "</table>\n",
       "</div>"
      ],
      "text/plain": [
       "            hex_id  res  ndvi_mean  ndvi_std  ndvi_median  ndvi_max  ndvi_min  \\\n",
       "0  89b2c55085bffff    9   0.018576  0.010166     0.015034  0.028624  0.005130   \n",
       "1  89b2c509dc7ffff    9   0.302082  0.166934     0.247760  0.639392  0.114962   \n",
       "\n",
       "   ndvi_diff  ndvi_tend      city  \\\n",
       "0   0.023493  -0.000404  Santiago   \n",
       "1   0.524430  -0.000667  Santiago   \n",
       "\n",
       "                                            geometry  \n",
       "0  POLYGON ((-70.79572 -33.40004, -70.79689 -33.4...  \n",
       "1  POLYGON ((-70.53795 -33.53054, -70.53912 -33.5...  "
      ]
     },
     "execution_count": 15,
     "metadata": {},
     "output_type": "execute_result"
    }
   ],
   "source": [
    "ndvi_gdf = gpd.read_file(ndvi_dir + f'Santiago_ndvi_HexRes{res}_v0.geojson')\n",
    "\n",
    "# Show\n",
    "print(ndvi_gdf.shape)\n",
    "ndvi_gdf.head(2)"
   ]
  },
  {
   "cell_type": "markdown",
   "id": "074aeb63-92b2-4168-a12b-befe579c4431",
   "metadata": {},
   "source": [
    "### NDVI - Translate to polygon"
   ]
  },
  {
   "cell_type": "code",
   "execution_count": 16,
   "id": "9e1ded67-8861-4312-a3b3-bef990ef85b8",
   "metadata": {},
   "outputs": [
    {
     "name": "stdout",
     "output_type": "stream",
     "text": [
      "(9170, 2)\n",
      "NaNs in viv_sum: 0.\n"
     ]
    },
    {
     "data": {
      "text/html": [
       "<div>\n",
       "<style scoped>\n",
       "    .dataframe tbody tr th:only-of-type {\n",
       "        vertical-align: middle;\n",
       "    }\n",
       "\n",
       "    .dataframe tbody tr th {\n",
       "        vertical-align: top;\n",
       "    }\n",
       "\n",
       "    .dataframe thead th {\n",
       "        text-align: right;\n",
       "    }\n",
       "</style>\n",
       "<table border=\"1\" class=\"dataframe\">\n",
       "  <thead>\n",
       "    <tr style=\"text-align: right;\">\n",
       "      <th></th>\n",
       "      <th>hex_id</th>\n",
       "      <th>ndvi_mean</th>\n",
       "    </tr>\n",
       "  </thead>\n",
       "  <tbody>\n",
       "    <tr>\n",
       "      <th>0</th>\n",
       "      <td>89b2c55085bffff</td>\n",
       "      <td>0.018576</td>\n",
       "    </tr>\n",
       "    <tr>\n",
       "      <th>1</th>\n",
       "      <td>89b2c509dc7ffff</td>\n",
       "      <td>0.302082</td>\n",
       "    </tr>\n",
       "  </tbody>\n",
       "</table>\n",
       "</div>"
      ],
      "text/plain": [
       "            hex_id  ndvi_mean\n",
       "0  89b2c55085bffff   0.018576\n",
       "1  89b2c509dc7ffff   0.302082"
      ]
     },
     "execution_count": 16,
     "metadata": {},
     "output_type": "execute_result"
    }
   ],
   "source": [
    "if area_analysis != 'hex':\n",
    "    ndvi_poly = gpd.sjoin(ndvi_gdf[['ndvi_mean','geometry']], gdf)\n",
    "    grouped_by = ndvi_poly.groupby(code_column).agg({'ndvi_mean':np.mean})\n",
    "    ndvi_gdf = grouped_by.reset_index().copy()\n",
    "elif area_analysis == 'hex':\n",
    "    ndvi_gdf = ndvi_gdf[['hex_id','ndvi_mean']]\n",
    "    \n",
    "# Show\n",
    "print(ndvi_gdf.shape)\n",
    "print(f\"NaNs in viv_sum: {ndvi_gdf.loc[ndvi_gdf.ndvi_mean.isna()].shape[0]}.\")\n",
    "ndvi_gdf.head(2)"
   ]
  },
  {
   "cell_type": "markdown",
   "id": "8193c1fe-8a06-47c6-ba6e-e0996b233532",
   "metadata": {},
   "source": [
    "## __Offices__"
   ]
  },
  {
   "cell_type": "markdown",
   "id": "95c9595c-ff5f-4f3c-af9f-55296363e68c",
   "metadata": {},
   "source": [
    "### __Offices__ - Load data"
   ]
  },
  {
   "cell_type": "code",
   "execution_count": 17,
   "id": "e303d3a9-12d9-41bf-b0f7-987989d34789",
   "metadata": {},
   "outputs": [
    {
     "name": "stdout",
     "output_type": "stream",
     "text": [
      "(229965, 3)\n"
     ]
    },
    {
     "data": {
      "text/html": [
       "<div>\n",
       "<style scoped>\n",
       "    .dataframe tbody tr th:only-of-type {\n",
       "        vertical-align: middle;\n",
       "    }\n",
       "\n",
       "    .dataframe tbody tr th {\n",
       "        vertical-align: top;\n",
       "    }\n",
       "\n",
       "    .dataframe thead th {\n",
       "        text-align: right;\n",
       "    }\n",
       "</style>\n",
       "<table border=\"1\" class=\"dataframe\">\n",
       "  <thead>\n",
       "    <tr style=\"text-align: right;\">\n",
       "      <th></th>\n",
       "      <th>osmid</th>\n",
       "      <th>oficinas_sum</th>\n",
       "      <th>geometry</th>\n",
       "    </tr>\n",
       "  </thead>\n",
       "  <tbody>\n",
       "    <tr>\n",
       "      <th>0</th>\n",
       "      <td>386139</td>\n",
       "      <td>12.820194</td>\n",
       "      <td>POINT (-70.64725 -33.44313)</td>\n",
       "    </tr>\n",
       "    <tr>\n",
       "      <th>1</th>\n",
       "      <td>386140</td>\n",
       "      <td>0.008953</td>\n",
       "      <td>POINT (-70.64767 -33.44304)</td>\n",
       "    </tr>\n",
       "  </tbody>\n",
       "</table>\n",
       "</div>"
      ],
      "text/plain": [
       "    osmid  oficinas_sum                     geometry\n",
       "0  386139     12.820194  POINT (-70.64725 -33.44313)\n",
       "1  386140      0.008953  POINT (-70.64767 -33.44304)"
      ]
     },
     "execution_count": 17,
     "metadata": {},
     "output_type": "execute_result"
    }
   ],
   "source": [
    "oficina_nodes = gpd.read_file(count_pois_dir + 'oficinas.gpkg')\n",
    "oficina_nodes = oficina_nodes.rename(columns={'Oficinas':'oficinas_sum'})\n",
    "# Show\n",
    "print(oficina_nodes.shape)\n",
    "oficina_nodes.head(2)"
   ]
  },
  {
   "cell_type": "markdown",
   "id": "07600c67-eaa0-4b41-bf9f-61d6fc7aadc1",
   "metadata": {},
   "source": [
    "### __Offices__ - Sum all offices by hexagon"
   ]
  },
  {
   "cell_type": "code",
   "execution_count": 18,
   "id": "f8acd497-5132-455a-ac5b-37fe6990e9e1",
   "metadata": {},
   "outputs": [
    {
     "name": "stdout",
     "output_type": "stream",
     "text": [
      "(13855, 2)\n",
      "NaNs in oficinas_sum: 0.\n"
     ]
    },
    {
     "data": {
      "text/html": [
       "<div>\n",
       "<style scoped>\n",
       "    .dataframe tbody tr th:only-of-type {\n",
       "        vertical-align: middle;\n",
       "    }\n",
       "\n",
       "    .dataframe tbody tr th {\n",
       "        vertical-align: top;\n",
       "    }\n",
       "\n",
       "    .dataframe thead th {\n",
       "        text-align: right;\n",
       "    }\n",
       "</style>\n",
       "<table border=\"1\" class=\"dataframe\">\n",
       "  <thead>\n",
       "    <tr style=\"text-align: right;\">\n",
       "      <th></th>\n",
       "      <th>hex_id</th>\n",
       "      <th>oficinas_sum</th>\n",
       "    </tr>\n",
       "  </thead>\n",
       "  <tbody>\n",
       "    <tr>\n",
       "      <th>0</th>\n",
       "      <td>89b2c0b0083ffff</td>\n",
       "      <td>0.031580</td>\n",
       "    </tr>\n",
       "    <tr>\n",
       "      <th>1</th>\n",
       "      <td>89b2c0b0087ffff</td>\n",
       "      <td>0.005063</td>\n",
       "    </tr>\n",
       "  </tbody>\n",
       "</table>\n",
       "</div>"
      ],
      "text/plain": [
       "            hex_id  oficinas_sum\n",
       "0  89b2c0b0083ffff      0.031580\n",
       "1  89b2c0b0087ffff      0.005063"
      ]
     },
     "execution_count": 18,
     "metadata": {},
     "output_type": "execute_result"
    }
   ],
   "source": [
    "oficina_hexs = gpd.sjoin(oficina_nodes, gdf)\n",
    "grouped_by = oficina_hexs.groupby(code_column).agg({'oficinas_sum':np.sum})\n",
    "oficina_gdf = grouped_by.reset_index().copy()\n",
    "\n",
    "# calcuate density\n",
    "oficina_gdf = gdf.merge(oficina_gdf, on=code_column)\n",
    "oficina_gdf['oficinas_sum'] = oficina_gdf['oficinas_sum'] / (oficina_gdf.to_crs(\"EPSG:32719\").area/10000)\n",
    "oficina_gdf = oficina_gdf.drop(columns='geometry')\n",
    "\n",
    "# Show\n",
    "print(oficina_gdf.shape)\n",
    "print(f\"NaNs in oficinas_sum: {oficina_gdf.loc[oficina_gdf.oficinas_sum.isna()].shape[0]}.\")\n",
    "oficina_gdf.head(2)"
   ]
  },
  {
   "cell_type": "code",
   "execution_count": 19,
   "id": "10bc1324-d10b-46b3-b54f-9357f8083a5b",
   "metadata": {},
   "outputs": [
    {
     "data": {
      "text/plain": [
       "0.6443416424856647"
      ]
     },
     "execution_count": 19,
     "metadata": {},
     "output_type": "execute_result"
    }
   ],
   "source": [
    "oficina_gdf.oficinas_sum.mean()"
   ]
  },
  {
   "cell_type": "markdown",
   "id": "b4c20e90-8352-49de-85c7-0d33090fcf9f",
   "metadata": {},
   "source": [
    "## Noise"
   ]
  },
  {
   "cell_type": "markdown",
   "id": "17d34092-5565-49c8-b9c1-16fb0a0e51e9",
   "metadata": {},
   "source": [
    "### Noise - load data"
   ]
  },
  {
   "cell_type": "code",
   "execution_count": 20,
   "id": "f81f1eda-4e22-4036-aa30-ec10d3f99ac5",
   "metadata": {},
   "outputs": [
    {
     "name": "stdout",
     "output_type": "stream",
     "text": [
      "(398, 11)\n"
     ]
    },
    {
     "data": {
      "text/html": [
       "<div>\n",
       "<style scoped>\n",
       "    .dataframe tbody tr th:only-of-type {\n",
       "        vertical-align: middle;\n",
       "    }\n",
       "\n",
       "    .dataframe tbody tr th {\n",
       "        vertical-align: top;\n",
       "    }\n",
       "\n",
       "    .dataframe thead th {\n",
       "        text-align: right;\n",
       "    }\n",
       "</style>\n",
       "<table border=\"1\" class=\"dataframe\">\n",
       "  <thead>\n",
       "    <tr style=\"text-align: right;\">\n",
       "      <th></th>\n",
       "      <th>objectid</th>\n",
       "      <th>cod_region</th>\n",
       "      <th>nom_region</th>\n",
       "      <th>db_lo</th>\n",
       "      <th>db_hi</th>\n",
       "      <th>shape_st_a</th>\n",
       "      <th>shape_st_l</th>\n",
       "      <th>st_area_sh</th>\n",
       "      <th>st_length_</th>\n",
       "      <th>geometry</th>\n",
       "      <th>noise_count</th>\n",
       "    </tr>\n",
       "  </thead>\n",
       "  <tbody>\n",
       "    <tr>\n",
       "      <th>0</th>\n",
       "      <td>1</td>\n",
       "      <td>13</td>\n",
       "      <td>Metropolitana de Santiago</td>\n",
       "      <td>35.0</td>\n",
       "      <td>40.0</td>\n",
       "      <td>148.017871</td>\n",
       "      <td>242.675290</td>\n",
       "      <td>148.017871</td>\n",
       "      <td>242.675290</td>\n",
       "      <td>MULTIPOLYGON (((-70.71167 -33.48831, -70.71178...</td>\n",
       "      <td>37.5</td>\n",
       "    </tr>\n",
       "    <tr>\n",
       "      <th>1</th>\n",
       "      <td>2</td>\n",
       "      <td>13</td>\n",
       "      <td>Metropolitana de Santiago</td>\n",
       "      <td>40.0</td>\n",
       "      <td>45.0</td>\n",
       "      <td>8978.943460</td>\n",
       "      <td>6995.965866</td>\n",
       "      <td>8978.943460</td>\n",
       "      <td>6995.965866</td>\n",
       "      <td>MULTIPOLYGON (((-70.70945 -33.49508, -70.70837...</td>\n",
       "      <td>42.5</td>\n",
       "    </tr>\n",
       "  </tbody>\n",
       "</table>\n",
       "</div>"
      ],
      "text/plain": [
       "   objectid cod_region                 nom_region  db_lo  db_hi   shape_st_a  \\\n",
       "0         1         13  Metropolitana de Santiago   35.0   40.0   148.017871   \n",
       "1         2         13  Metropolitana de Santiago   40.0   45.0  8978.943460   \n",
       "\n",
       "    shape_st_l   st_area_sh   st_length_  \\\n",
       "0   242.675290   148.017871   242.675290   \n",
       "1  6995.965866  8978.943460  6995.965866   \n",
       "\n",
       "                                            geometry  noise_count  \n",
       "0  MULTIPOLYGON (((-70.71167 -33.48831, -70.71178...         37.5  \n",
       "1  MULTIPOLYGON (((-70.70945 -33.49508, -70.70837...         42.5  "
      ]
     },
     "execution_count": 20,
     "metadata": {},
     "output_type": "execute_result"
    }
   ],
   "source": [
    "noise_gdf = gpd.read_file(count_pois_dir + 'noise_map.gpkg')\n",
    "noise_gdf['noise_count'] = (noise_gdf['db_hi'] + noise_gdf['db_lo']) / 2\n",
    "# Show\n",
    "print(noise_gdf.shape)\n",
    "noise_gdf.head(2)"
   ]
  },
  {
   "cell_type": "markdown",
   "id": "79e3b412-a68c-4234-ad6f-bba16b7d04de",
   "metadata": {},
   "source": [
    "### Noise - data to hex"
   ]
  },
  {
   "cell_type": "code",
   "execution_count": 21,
   "id": "dc59d2b0-5ece-47cb-9df0-4c25c5593d38",
   "metadata": {
    "scrolled": true
   },
   "outputs": [
    {
     "name": "stdout",
     "output_type": "stream",
     "text": [
      "(9142, 2)\n"
     ]
    },
    {
     "data": {
      "text/html": [
       "<div>\n",
       "<style scoped>\n",
       "    .dataframe tbody tr th:only-of-type {\n",
       "        vertical-align: middle;\n",
       "    }\n",
       "\n",
       "    .dataframe tbody tr th {\n",
       "        vertical-align: top;\n",
       "    }\n",
       "\n",
       "    .dataframe thead th {\n",
       "        text-align: right;\n",
       "    }\n",
       "</style>\n",
       "<table border=\"1\" class=\"dataframe\">\n",
       "  <thead>\n",
       "    <tr style=\"text-align: right;\">\n",
       "      <th></th>\n",
       "      <th>hex_id</th>\n",
       "      <th>noise_count</th>\n",
       "    </tr>\n",
       "  </thead>\n",
       "  <tbody>\n",
       "    <tr>\n",
       "      <th>0</th>\n",
       "      <td>89b2c508003ffff</td>\n",
       "      <td>67.500000</td>\n",
       "    </tr>\n",
       "    <tr>\n",
       "      <th>1</th>\n",
       "      <td>89b2c508007ffff</td>\n",
       "      <td>66.602564</td>\n",
       "    </tr>\n",
       "  </tbody>\n",
       "</table>\n",
       "</div>"
      ],
      "text/plain": [
       "            hex_id  noise_count\n",
       "0  89b2c508003ffff    67.500000\n",
       "1  89b2c508007ffff    66.602564"
      ]
     },
     "execution_count": 21,
     "metadata": {},
     "output_type": "execute_result"
    }
   ],
   "source": [
    "noise_gdf = noise_gdf.explode().reset_index().drop(columns=['level_0','level_1'])[['noise_count','geometry']]\n",
    "# Sum social housing by hex\n",
    "noise_hex = gpd.sjoin(noise_gdf, gdf)\n",
    "grouped_by = noise_hex.groupby(code_column).agg({'noise_count':np.mean})\n",
    "hex_noise = grouped_by.reset_index().copy()\n",
    "\n",
    "hex_noise.loc[np.isnan(noise_gdf.noise_count), 'noise_count'] = hex_noise.loc[np.isnan(noise_gdf.noise_count)].apply(lambda x: neighbour_mean(x['hex_id'],\n",
    "                                                                            'hex_id',\n",
    "                                                                            hex_noise,\n",
    "                                                                            'noise_count'), axis=1)\n",
    "# Show\n",
    "print(hex_noise.shape)\n",
    "hex_noise.head(2)"
   ]
  },
  {
   "cell_type": "markdown",
   "id": "a1824274-1c72-4bc0-80c1-3602a3f3baa6",
   "metadata": {},
   "source": [
    "## Intersection density"
   ]
  },
  {
   "cell_type": "code",
   "execution_count": 22,
   "id": "c43e792a-30a6-49ac-9a2f-114cd0594025",
   "metadata": {
    "scrolled": true
   },
   "outputs": [
    {
     "name": "stdout",
     "output_type": "stream",
     "text": [
      "(824949, 2)\n"
     ]
    },
    {
     "data": {
      "text/html": [
       "<div>\n",
       "<style scoped>\n",
       "    .dataframe tbody tr th:only-of-type {\n",
       "        vertical-align: middle;\n",
       "    }\n",
       "\n",
       "    .dataframe tbody tr th {\n",
       "        vertical-align: top;\n",
       "    }\n",
       "\n",
       "    .dataframe thead th {\n",
       "        text-align: right;\n",
       "    }\n",
       "</style>\n",
       "<table border=\"1\" class=\"dataframe\">\n",
       "  <thead>\n",
       "    <tr style=\"text-align: right;\">\n",
       "      <th></th>\n",
       "      <th>inter_count</th>\n",
       "      <th>geometry</th>\n",
       "    </tr>\n",
       "  </thead>\n",
       "  <tbody>\n",
       "    <tr>\n",
       "      <th>0</th>\n",
       "      <td>6</td>\n",
       "      <td>POLYGON ((-70.82959 -33.15898, -70.82959 -33.1...</td>\n",
       "    </tr>\n",
       "    <tr>\n",
       "      <th>1</th>\n",
       "      <td>4</td>\n",
       "      <td>POLYGON ((-70.82719 -33.15898, -70.82719 -33.1...</td>\n",
       "    </tr>\n",
       "  </tbody>\n",
       "</table>\n",
       "</div>"
      ],
      "text/plain": [
       "   inter_count                                           geometry\n",
       "0            6  POLYGON ((-70.82959 -33.15898, -70.82959 -33.1...\n",
       "1            4  POLYGON ((-70.82719 -33.15898, -70.82719 -33.1..."
      ]
     },
     "execution_count": 22,
     "metadata": {},
     "output_type": "execute_result"
    }
   ],
   "source": [
    "inter_gdf = gpd.read_file(count_pois_dir + 'inter_count.gpkg')\n",
    "# Show\n",
    "print(inter_gdf.shape)\n",
    "inter_gdf.head(2)"
   ]
  },
  {
   "cell_type": "markdown",
   "id": "330a38e7-e4a0-4fa0-8e45-e7da48913547",
   "metadata": {},
   "source": [
    "### Intersections - data to hex"
   ]
  },
  {
   "cell_type": "code",
   "execution_count": 23,
   "id": "431112c0-c537-4f3b-b098-ba5181bf8c58",
   "metadata": {
    "scrolled": true
   },
   "outputs": [
    {
     "name": "stdout",
     "output_type": "stream",
     "text": [
      "(20083, 2)\n"
     ]
    },
    {
     "data": {
      "text/html": [
       "<div>\n",
       "<style scoped>\n",
       "    .dataframe tbody tr th:only-of-type {\n",
       "        vertical-align: middle;\n",
       "    }\n",
       "\n",
       "    .dataframe tbody tr th {\n",
       "        vertical-align: top;\n",
       "    }\n",
       "\n",
       "    .dataframe thead th {\n",
       "        text-align: right;\n",
       "    }\n",
       "</style>\n",
       "<table border=\"1\" class=\"dataframe\">\n",
       "  <thead>\n",
       "    <tr style=\"text-align: right;\">\n",
       "      <th></th>\n",
       "      <th>hex_id</th>\n",
       "      <th>inter_count</th>\n",
       "    </tr>\n",
       "  </thead>\n",
       "  <tbody>\n",
       "    <tr>\n",
       "      <th>0</th>\n",
       "      <td>89b2c0b0003ffff</td>\n",
       "      <td>0.0</td>\n",
       "    </tr>\n",
       "    <tr>\n",
       "      <th>1</th>\n",
       "      <td>89b2c0b0013ffff</td>\n",
       "      <td>0.5</td>\n",
       "    </tr>\n",
       "  </tbody>\n",
       "</table>\n",
       "</div>"
      ],
      "text/plain": [
       "            hex_id  inter_count\n",
       "0  89b2c0b0003ffff          0.0\n",
       "1  89b2c0b0013ffff          0.5"
      ]
     },
     "execution_count": 23,
     "metadata": {},
     "output_type": "execute_result"
    }
   ],
   "source": [
    "# inter_gdf = inter_gdf.explode().reset_index().drop(columns=['level_0','level_1'])[['inter_count','geometry']]\n",
    "# Sum social housing by hex\n",
    "inter_hex = gpd.sjoin(inter_gdf, gdf)\n",
    "grouped_by = inter_hex.groupby(code_column).agg({'inter_count':np.mean})\n",
    "hex_inter = grouped_by.reset_index().copy()\n",
    "\n",
    "hex_inter.loc[np.isnan(hex_inter.inter_count), 'inter_count'] = hex_inter.loc[np.isnan(hex_inter.inter_count)].apply(lambda x: neighbour_mean(x['hex_id'],\n",
    "                                                                            'hex_id',\n",
    "                                                                            hex_inter,\n",
    "                                                                            'inter_count'), axis=1)\n",
    "# Show\n",
    "print(hex_inter.shape)\n",
    "hex_inter.head(2)"
   ]
  },
  {
   "cell_type": "markdown",
   "id": "0e151acd-5d1c-4f43-a362-4e919a27bc72",
   "metadata": {},
   "source": [
    "## Heat Islands"
   ]
  },
  {
   "cell_type": "code",
   "execution_count": 24,
   "id": "12d1e4e2-9b1a-4a04-bec6-d18269629645",
   "metadata": {},
   "outputs": [
    {
     "ename": "DriverError",
     "evalue": "../../../data/processed/00_pois_formated/aereal_data/Santiago_temperature_HexRes9_v0.gpkg: No such file or directory",
     "output_type": "error",
     "traceback": [
      "\u001b[0;31m---------------------------------------------------------------------------\u001b[0m",
      "\u001b[0;31mCPLE_OpenFailedError\u001b[0m                      Traceback (most recent call last)",
      "File \u001b[0;32mfiona/_shim.pyx:83\u001b[0m, in \u001b[0;36mfiona._shim.gdal_open_vector\u001b[0;34m()\u001b[0m\n",
      "File \u001b[0;32mfiona/_err.pyx:291\u001b[0m, in \u001b[0;36mfiona._err.exc_wrap_pointer\u001b[0;34m()\u001b[0m\n",
      "\u001b[0;31mCPLE_OpenFailedError\u001b[0m: ../../../data/processed/00_pois_formated/aereal_data/Santiago_temperature_HexRes9_v0.gpkg: No such file or directory",
      "\nDuring handling of the above exception, another exception occurred:\n",
      "\u001b[0;31mDriverError\u001b[0m                               Traceback (most recent call last)",
      "Cell \u001b[0;32mIn[24], line 1\u001b[0m\n\u001b[0;32m----> 1\u001b[0m temp_gdf \u001b[38;5;241m=\u001b[39m \u001b[43mgpd\u001b[49m\u001b[38;5;241;43m.\u001b[39;49m\u001b[43mread_file\u001b[49m\u001b[43m(\u001b[49m\u001b[43mgrl_dir\u001b[49m\u001b[43m \u001b[49m\u001b[38;5;241;43m+\u001b[39;49m\u001b[43m \u001b[49m\u001b[38;5;124;43mf\u001b[39;49m\u001b[38;5;124;43m'\u001b[39;49m\u001b[38;5;124;43mSantiago_temperature_HexRes\u001b[39;49m\u001b[38;5;132;43;01m{\u001b[39;49;00m\u001b[43mres\u001b[49m\u001b[38;5;132;43;01m}\u001b[39;49;00m\u001b[38;5;124;43m_v0.gpkg\u001b[39;49m\u001b[38;5;124;43m'\u001b[39;49m\u001b[43m)\u001b[49m\n\u001b[1;32m      2\u001b[0m temp_gdf \u001b[38;5;241m=\u001b[39m temp_gdf\u001b[38;5;241m.\u001b[39mloc[temp_gdf\u001b[38;5;241m.\u001b[39mhex_id\u001b[38;5;241m.\u001b[39misin(\u001b[38;5;28mlist\u001b[39m(temp_gdf\u001b[38;5;241m.\u001b[39mhex_id\u001b[38;5;241m.\u001b[39munique()))]\n\u001b[1;32m      3\u001b[0m temp_gdf[\u001b[38;5;124m'\u001b[39m\u001b[38;5;124mtemp_count\u001b[39m\u001b[38;5;124m'\u001b[39m] \u001b[38;5;241m=\u001b[39m temp_gdf[\u001b[38;5;124m'\u001b[39m\u001b[38;5;124mtemperature_mean\u001b[39m\u001b[38;5;124m'\u001b[39m] \u001b[38;5;241m-\u001b[39m temp_gdf[\u001b[38;5;124m'\u001b[39m\u001b[38;5;124mtemperature_mean\u001b[39m\u001b[38;5;124m'\u001b[39m]\u001b[38;5;241m.\u001b[39mmean()\n",
      "File \u001b[0;32m~/anaconda3/envs/odc/lib/python3.10/site-packages/geopandas/io/file.py:297\u001b[0m, in \u001b[0;36m_read_file\u001b[0;34m(filename, bbox, mask, rows, engine, **kwargs)\u001b[0m\n\u001b[1;32m    294\u001b[0m     \u001b[38;5;28;01melse\u001b[39;00m:\n\u001b[1;32m    295\u001b[0m         path_or_bytes \u001b[38;5;241m=\u001b[39m filename\n\u001b[0;32m--> 297\u001b[0m     \u001b[38;5;28;01mreturn\u001b[39;00m \u001b[43m_read_file_fiona\u001b[49m\u001b[43m(\u001b[49m\n\u001b[1;32m    298\u001b[0m \u001b[43m        \u001b[49m\u001b[43mpath_or_bytes\u001b[49m\u001b[43m,\u001b[49m\u001b[43m \u001b[49m\u001b[43mfrom_bytes\u001b[49m\u001b[43m,\u001b[49m\u001b[43m \u001b[49m\u001b[43mbbox\u001b[49m\u001b[38;5;241;43m=\u001b[39;49m\u001b[43mbbox\u001b[49m\u001b[43m,\u001b[49m\u001b[43m \u001b[49m\u001b[43mmask\u001b[49m\u001b[38;5;241;43m=\u001b[39;49m\u001b[43mmask\u001b[49m\u001b[43m,\u001b[49m\u001b[43m \u001b[49m\u001b[43mrows\u001b[49m\u001b[38;5;241;43m=\u001b[39;49m\u001b[43mrows\u001b[49m\u001b[43m,\u001b[49m\u001b[43m \u001b[49m\u001b[38;5;241;43m*\u001b[39;49m\u001b[38;5;241;43m*\u001b[39;49m\u001b[43mkwargs\u001b[49m\n\u001b[1;32m    299\u001b[0m \u001b[43m    \u001b[49m\u001b[43m)\u001b[49m\n\u001b[1;32m    301\u001b[0m \u001b[38;5;28;01melse\u001b[39;00m:\n\u001b[1;32m    302\u001b[0m     \u001b[38;5;28;01mraise\u001b[39;00m \u001b[38;5;167;01mValueError\u001b[39;00m(\u001b[38;5;124mf\u001b[39m\u001b[38;5;124m\"\u001b[39m\u001b[38;5;124munknown engine \u001b[39m\u001b[38;5;124m'\u001b[39m\u001b[38;5;132;01m{\u001b[39;00mengine\u001b[38;5;132;01m}\u001b[39;00m\u001b[38;5;124m'\u001b[39m\u001b[38;5;124m\"\u001b[39m)\n",
      "File \u001b[0;32m~/anaconda3/envs/odc/lib/python3.10/site-packages/geopandas/io/file.py:338\u001b[0m, in \u001b[0;36m_read_file_fiona\u001b[0;34m(path_or_bytes, from_bytes, bbox, mask, rows, where, **kwargs)\u001b[0m\n\u001b[1;32m    335\u001b[0m     reader \u001b[38;5;241m=\u001b[39m fiona\u001b[38;5;241m.\u001b[39mopen\n\u001b[1;32m    337\u001b[0m \u001b[38;5;28;01mwith\u001b[39;00m fiona_env():\n\u001b[0;32m--> 338\u001b[0m     \u001b[38;5;28;01mwith\u001b[39;00m \u001b[43mreader\u001b[49m\u001b[43m(\u001b[49m\u001b[43mpath_or_bytes\u001b[49m\u001b[43m,\u001b[49m\u001b[43m \u001b[49m\u001b[38;5;241;43m*\u001b[39;49m\u001b[38;5;241;43m*\u001b[39;49m\u001b[43mkwargs\u001b[49m\u001b[43m)\u001b[49m \u001b[38;5;28;01mas\u001b[39;00m features:\n\u001b[1;32m    339\u001b[0m         crs \u001b[38;5;241m=\u001b[39m features\u001b[38;5;241m.\u001b[39mcrs_wkt\n\u001b[1;32m    340\u001b[0m         \u001b[38;5;66;03m# attempt to get EPSG code\u001b[39;00m\n",
      "File \u001b[0;32m~/.local/lib/python3.10/site-packages/fiona/env.py:408\u001b[0m, in \u001b[0;36mensure_env_with_credentials.<locals>.wrapper\u001b[0;34m(*args, **kwargs)\u001b[0m\n\u001b[1;32m    405\u001b[0m \u001b[38;5;129m@wraps\u001b[39m(f)\n\u001b[1;32m    406\u001b[0m \u001b[38;5;28;01mdef\u001b[39;00m \u001b[38;5;21mwrapper\u001b[39m(\u001b[38;5;241m*\u001b[39margs, \u001b[38;5;241m*\u001b[39m\u001b[38;5;241m*\u001b[39mkwargs):\n\u001b[1;32m    407\u001b[0m     \u001b[38;5;28;01mif\u001b[39;00m local\u001b[38;5;241m.\u001b[39m_env:\n\u001b[0;32m--> 408\u001b[0m         \u001b[38;5;28;01mreturn\u001b[39;00m \u001b[43mf\u001b[49m\u001b[43m(\u001b[49m\u001b[38;5;241;43m*\u001b[39;49m\u001b[43margs\u001b[49m\u001b[43m,\u001b[49m\u001b[43m \u001b[49m\u001b[38;5;241;43m*\u001b[39;49m\u001b[38;5;241;43m*\u001b[39;49m\u001b[43mkwargs\u001b[49m\u001b[43m)\u001b[49m\n\u001b[1;32m    409\u001b[0m     \u001b[38;5;28;01melse\u001b[39;00m:\n\u001b[1;32m    410\u001b[0m         \u001b[38;5;28;01mif\u001b[39;00m \u001b[38;5;28misinstance\u001b[39m(args[\u001b[38;5;241m0\u001b[39m], \u001b[38;5;28mstr\u001b[39m):\n",
      "File \u001b[0;32m~/.local/lib/python3.10/site-packages/fiona/__init__.py:264\u001b[0m, in \u001b[0;36mopen\u001b[0;34m(fp, mode, driver, schema, crs, encoding, layer, vfs, enabled_drivers, crs_wkt, **kwargs)\u001b[0m\n\u001b[1;32m    261\u001b[0m     path \u001b[38;5;241m=\u001b[39m parse_path(fp)\n\u001b[1;32m    263\u001b[0m \u001b[38;5;28;01mif\u001b[39;00m mode \u001b[38;5;129;01min\u001b[39;00m (\u001b[38;5;124m'\u001b[39m\u001b[38;5;124ma\u001b[39m\u001b[38;5;124m'\u001b[39m, \u001b[38;5;124m'\u001b[39m\u001b[38;5;124mr\u001b[39m\u001b[38;5;124m'\u001b[39m):\n\u001b[0;32m--> 264\u001b[0m     c \u001b[38;5;241m=\u001b[39m \u001b[43mCollection\u001b[49m\u001b[43m(\u001b[49m\u001b[43mpath\u001b[49m\u001b[43m,\u001b[49m\u001b[43m \u001b[49m\u001b[43mmode\u001b[49m\u001b[43m,\u001b[49m\u001b[43m \u001b[49m\u001b[43mdriver\u001b[49m\u001b[38;5;241;43m=\u001b[39;49m\u001b[43mdriver\u001b[49m\u001b[43m,\u001b[49m\u001b[43m \u001b[49m\u001b[43mencoding\u001b[49m\u001b[38;5;241;43m=\u001b[39;49m\u001b[43mencoding\u001b[49m\u001b[43m,\u001b[49m\n\u001b[1;32m    265\u001b[0m \u001b[43m                   \u001b[49m\u001b[43mlayer\u001b[49m\u001b[38;5;241;43m=\u001b[39;49m\u001b[43mlayer\u001b[49m\u001b[43m,\u001b[49m\u001b[43m \u001b[49m\u001b[43menabled_drivers\u001b[49m\u001b[38;5;241;43m=\u001b[39;49m\u001b[43menabled_drivers\u001b[49m\u001b[43m,\u001b[49m\u001b[43m \u001b[49m\u001b[38;5;241;43m*\u001b[39;49m\u001b[38;5;241;43m*\u001b[39;49m\u001b[43mkwargs\u001b[49m\u001b[43m)\u001b[49m\n\u001b[1;32m    266\u001b[0m \u001b[38;5;28;01melif\u001b[39;00m mode \u001b[38;5;241m==\u001b[39m \u001b[38;5;124m'\u001b[39m\u001b[38;5;124mw\u001b[39m\u001b[38;5;124m'\u001b[39m:\n\u001b[1;32m    267\u001b[0m     \u001b[38;5;28;01mif\u001b[39;00m schema:\n\u001b[1;32m    268\u001b[0m         \u001b[38;5;66;03m# Make an ordered dict of schema properties.\u001b[39;00m\n",
      "File \u001b[0;32m~/.local/lib/python3.10/site-packages/fiona/collection.py:162\u001b[0m, in \u001b[0;36mCollection.__init__\u001b[0;34m(self, path, mode, driver, schema, crs, encoding, layer, vsi, archive, enabled_drivers, crs_wkt, ignore_fields, ignore_geometry, **kwargs)\u001b[0m\n\u001b[1;32m    160\u001b[0m \u001b[38;5;28;01mif\u001b[39;00m \u001b[38;5;28mself\u001b[39m\u001b[38;5;241m.\u001b[39mmode \u001b[38;5;241m==\u001b[39m \u001b[38;5;124m'\u001b[39m\u001b[38;5;124mr\u001b[39m\u001b[38;5;124m'\u001b[39m:\n\u001b[1;32m    161\u001b[0m     \u001b[38;5;28mself\u001b[39m\u001b[38;5;241m.\u001b[39msession \u001b[38;5;241m=\u001b[39m Session()\n\u001b[0;32m--> 162\u001b[0m     \u001b[38;5;28;43mself\u001b[39;49m\u001b[38;5;241;43m.\u001b[39;49m\u001b[43msession\u001b[49m\u001b[38;5;241;43m.\u001b[39;49m\u001b[43mstart\u001b[49m\u001b[43m(\u001b[49m\u001b[38;5;28;43mself\u001b[39;49m\u001b[43m,\u001b[49m\u001b[43m \u001b[49m\u001b[38;5;241;43m*\u001b[39;49m\u001b[38;5;241;43m*\u001b[39;49m\u001b[43mkwargs\u001b[49m\u001b[43m)\u001b[49m\n\u001b[1;32m    163\u001b[0m \u001b[38;5;28;01melif\u001b[39;00m \u001b[38;5;28mself\u001b[39m\u001b[38;5;241m.\u001b[39mmode \u001b[38;5;129;01min\u001b[39;00m (\u001b[38;5;124m'\u001b[39m\u001b[38;5;124ma\u001b[39m\u001b[38;5;124m'\u001b[39m, \u001b[38;5;124m'\u001b[39m\u001b[38;5;124mw\u001b[39m\u001b[38;5;124m'\u001b[39m):\n\u001b[1;32m    164\u001b[0m     \u001b[38;5;28mself\u001b[39m\u001b[38;5;241m.\u001b[39msession \u001b[38;5;241m=\u001b[39m WritingSession()\n",
      "File \u001b[0;32mfiona/ogrext.pyx:540\u001b[0m, in \u001b[0;36mfiona.ogrext.Session.start\u001b[0;34m()\u001b[0m\n",
      "File \u001b[0;32mfiona/_shim.pyx:90\u001b[0m, in \u001b[0;36mfiona._shim.gdal_open_vector\u001b[0;34m()\u001b[0m\n",
      "\u001b[0;31mDriverError\u001b[0m: ../../../data/processed/00_pois_formated/aereal_data/Santiago_temperature_HexRes9_v0.gpkg: No such file or directory"
     ]
    }
   ],
   "source": [
    "temp_gdf = gpd.read_file(grl_dir + f'Santiago_temperature_HexRes{res}_v0.gpkg')\n",
    "temp_gdf = temp_gdf.loc[temp_gdf.hex_id.isin(list(temp_gdf.hex_id.unique()))]\n",
    "temp_gdf['temp_count'] = temp_gdf['temperature_mean'] - temp_gdf['temperature_mean'].mean()\n",
    "\n",
    "# temp_gdf = temp_gdf[['hex_id','ndvi_mean']]\n",
    "# Show\n",
    "print(temp_gdf.shape)\n",
    "temp_gdf.head(2)"
   ]
  },
  {
   "cell_type": "markdown",
   "id": "ea7839c0-22ed-412e-9cab-2e7b72557fe9",
   "metadata": {},
   "source": [
    "#### Temperature - translate to polygon"
   ]
  },
  {
   "cell_type": "code",
   "execution_count": null,
   "id": "2a242591-ec1c-4271-8725-456ec4d3f57d",
   "metadata": {},
   "outputs": [],
   "source": [
    "if area_analysis != 'hex':\n",
    "    temp_poly = gpd.sjoin(temp_gdf[['temp_count','geometry']], gdf)\n",
    "    grouped_by = temp_poly.groupby(code_column).agg({'temp_count':np.mean})\n",
    "    temp_gdf = grouped_by.reset_index().copy()\n",
    "elif area_analysis == 'hex':\n",
    "    temp_gdf = temp_gdf[['hex_id','temp_count']].copy()\n",
    "# Show\n",
    "print(temp_gdf.shape)\n",
    "print(f\"NaNs in viv_sum: {temp_gdf.loc[temp_gdf.temp_count.isna()].shape[0]}.\")\n",
    "temp_gdf.head(2)"
   ]
  },
  {
   "cell_type": "markdown",
   "id": "a0b5f065-d402-4498-9156-655d8b8f88d5",
   "metadata": {},
   "source": [
    "## Merge"
   ]
  },
  {
   "cell_type": "code",
   "execution_count": null,
   "id": "2a0675f8-8b48-4b97-b7e2-1eb03cd116fc",
   "metadata": {},
   "outputs": [],
   "source": [
    "print(f\"Viv:{viv_gdf.shape}.\")\n",
    "print(f\"Social viv:{socviv_gdf.shape}.\")\n",
    "print(f\"Both viv:{both_viv_gdf.shape}.\")\n",
    "print(f\"Hotels:{hotel_gdf.shape}.\")\n",
    "print(f\"NDVI:{ndvi_gdf.shape}.\")\n",
    "print(f\"Oficina:{oficina_gdf.shape}.\")\n",
    "# print(f\"Compactness:{compact_gdf.shape}.\")\n",
    "print(f\"Temperature:{temp_gdf.shape}.\")\n",
    "print(f\"Intersections:{hex_inter.shape}.\")\n",
    "print(f\"Noise:{hex_noise.shape}.\")"
   ]
  },
  {
   "cell_type": "code",
   "execution_count": null,
   "id": "29b9f514-5d12-4624-86bb-168488b7b31c",
   "metadata": {
    "scrolled": true
   },
   "outputs": [],
   "source": [
    "# Merge all areal data\n",
    "hex_aereal = gdf.merge(oficina_gdf, on=code_column, how='outer')\n",
    "hex_aereal = hex_aereal.merge(hotel_gdf,on=code_column, how='outer')\n",
    "hex_aereal = hex_aereal.merge(both_viv_gdf,on=code_column, how='outer')\n",
    "# hex_aereal = hex_aereal.merge(compact_gdf,on=code_column, how='outer')\n",
    "hex_aereal = hex_aereal.merge(temp_gdf,on=code_column, how='outer')\n",
    "hex_aereal = hex_aereal.merge(hex_inter,on=code_column, how='outer')\n",
    "hex_aereal = hex_aereal.merge(hex_noise,on=code_column, how='outer')\n",
    "# Merge with ndvi is left because some hexs exist in ndvi, but not in hex_gdf from santiago aoi.\n",
    "hex_aereal = hex_aereal.merge(ndvi_gdf,on=code_column,how='right')\n",
    "# Fill NaNs\n",
    "hex_aereal = hex_aereal.dropna(subset='geometry')\n",
    "hex_aereal = hex_aereal.fillna(0)\n",
    "\n",
    "# Show\n",
    "print(hex_aereal.shape)\n",
    "hex_aereal.head(2)"
   ]
  },
  {
   "cell_type": "code",
   "execution_count": null,
   "id": "1129742c-d3c3-4969-b3d1-67ec58cf93ec",
   "metadata": {},
   "outputs": [],
   "source": [
    "hex_aereal.oficinas_sum.mean()"
   ]
  },
  {
   "cell_type": "code",
   "execution_count": null,
   "id": "70023791-3129-4683-9dfb-6f985cdc60a2",
   "metadata": {},
   "outputs": [],
   "source": [
    "# hex_aereal.plot('')"
   ]
  },
  {
   "cell_type": "code",
   "execution_count": null,
   "id": "a2727787-aa07-4d2f-bef7-c2fb2ba63fb6",
   "metadata": {},
   "outputs": [],
   "source": [
    "# hex_aereal['res']=res\n",
    "\n",
    "# Show\n",
    "# print(hex_aereal.shape)\n",
    "# hex_aereal.head(2)"
   ]
  },
  {
   "cell_type": "markdown",
   "id": "cb90e3b4-a5e6-4631-8ea4-21d7e113cb76",
   "metadata": {},
   "source": [
    "## Save to local"
   ]
  },
  {
   "cell_type": "code",
   "execution_count": null,
   "id": "66915752-3e90-440a-a1ce-943041b03a3c",
   "metadata": {},
   "outputs": [],
   "source": [
    "if save:\n",
    "    if area_analysis == 'hex':\n",
    "        hex_aereal.to_file(grl_dir + f'{area_analysis}_areal_res{res}.gpkg')\n",
    "    else:\n",
    "       hex_aereal.to_file(grl_dir + f'{area_analysis}_areal.gpkg')\n",
    "    print(f\"Saved {area_analysis}_areal.gpkg to local.\")"
   ]
  },
  {
   "cell_type": "code",
   "execution_count": null,
   "id": "e16e029e-fe37-4a90-9563-689aaaab4d0f",
   "metadata": {},
   "outputs": [],
   "source": []
  }
 ],
 "metadata": {
  "kernelspec": {
   "display_name": "odc",
   "language": "python",
   "name": "odc"
  },
  "language_info": {
   "codemirror_mode": {
    "name": "ipython",
    "version": 3
   },
   "file_extension": ".py",
   "mimetype": "text/x-python",
   "name": "python",
   "nbconvert_exporter": "python",
   "pygments_lexer": "ipython3",
   "version": "3.10.4"
  }
 },
 "nbformat": 4,
 "nbformat_minor": 5
}
