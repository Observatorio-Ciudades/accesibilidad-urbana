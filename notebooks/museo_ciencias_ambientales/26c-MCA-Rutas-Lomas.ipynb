{
 "cells": [
  {
   "cell_type": "code",
   "execution_count": 1,
   "metadata": {},
   "outputs": [
    {
     "name": "stderr",
     "output_type": "stream",
     "text": [
      "/home/edgar/anaconda3/envs/geo_env/lib/python3.8/site-packages/geopandas/_compat.py:111: UserWarning: The Shapely GEOS version (3.10.1-CAPI-1.16.0) is incompatible with the GEOS version PyGEOS was compiled with (3.9.1-CAPI-1.14.2). Conversions between both will be slow.\n",
      "  warnings.warn(\n"
     ]
    }
   ],
   "source": [
    "import pandas as pd\n",
    "import numpy as np\n",
    "import geopandas as gpd\n",
    "import matplotlib.pyplot as plt\n",
    "from shapely.geometry import Point\n",
    "\n",
    "import os\n",
    "import sys\n",
    "module_path = os.path.abspath(os.path.join('..'))\n",
    "if module_path not in sys.path:\n",
    "    sys.path.append(module_path)\n",
    "    import aup"
   ]
  },
  {
   "cell_type": "code",
   "execution_count": 2,
   "metadata": {},
   "outputs": [],
   "source": [
    "rutas_gdf = gpd.read_file('/home/edgar/SIG/ObsCds/'+\n",
    "                          'Proyectos/Museo_CienciasAmbientales'+\n",
    "                          '/Medio_Urbano/Transporte_Publico/'+\n",
    "                          'Ruta400m_LomasDelCentinela_MCA_ITESM22_UTM_v1.geojson',\n",
    "                         driver='GeoJSON')\n",
    "paradas_gdf = gpd.read_file('/home/edgar/SIG/ObsCds/'+\n",
    "                          'Proyectos/Museo_CienciasAmbientales'+\n",
    "                          '/Medio_Urbano/Transporte_Publico/'+\n",
    "                            'ParadasRuta400m_LomasDelCentinela_MCA_ITESM22_UTM_v1.geojson',\n",
    "                         driver='GeoJSON')"
   ]
  },
  {
   "cell_type": "code",
   "execution_count": 3,
   "metadata": {},
   "outputs": [
    {
     "name": "stdout",
     "output_type": "stream",
     "text": [
      "(12, 3)\n"
     ]
    },
    {
     "data": {
      "text/html": [
       "<div>\n",
       "<style scoped>\n",
       "    .dataframe tbody tr th:only-of-type {\n",
       "        vertical-align: middle;\n",
       "    }\n",
       "\n",
       "    .dataframe tbody tr th {\n",
       "        vertical-align: top;\n",
       "    }\n",
       "\n",
       "    .dataframe thead th {\n",
       "        text-align: right;\n",
       "    }\n",
       "</style>\n",
       "<table border=\"1\" class=\"dataframe\">\n",
       "  <thead>\n",
       "    <tr style=\"text-align: right;\">\n",
       "      <th></th>\n",
       "      <th>fid</th>\n",
       "      <th>cat</th>\n",
       "      <th>geometry</th>\n",
       "    </tr>\n",
       "  </thead>\n",
       "  <tbody>\n",
       "    <tr>\n",
       "      <th>0</th>\n",
       "      <td>1</td>\n",
       "      <td>1</td>\n",
       "      <td>LINESTRING (668812.682 2294039.439, 668850.215...</td>\n",
       "    </tr>\n",
       "    <tr>\n",
       "      <th>1</th>\n",
       "      <td>2</td>\n",
       "      <td>1</td>\n",
       "      <td>LINESTRING (668890.039 2294405.657, 668894.307...</td>\n",
       "    </tr>\n",
       "  </tbody>\n",
       "</table>\n",
       "</div>"
      ],
      "text/plain": [
       "   fid  cat                                           geometry\n",
       "0    1    1  LINESTRING (668812.682 2294039.439, 668850.215...\n",
       "1    2    1  LINESTRING (668890.039 2294405.657, 668894.307..."
      ]
     },
     "execution_count": 3,
     "metadata": {},
     "output_type": "execute_result"
    }
   ],
   "source": [
    "print(rutas_gdf.shape)\n",
    "rutas_gdf.head(2)"
   ]
  },
  {
   "cell_type": "code",
   "execution_count": 4,
   "metadata": {},
   "outputs": [
    {
     "name": "stdout",
     "output_type": "stream",
     "text": [
      "(13, 5)\n"
     ]
    },
    {
     "data": {
      "text/html": [
       "<div>\n",
       "<style scoped>\n",
       "    .dataframe tbody tr th:only-of-type {\n",
       "        vertical-align: middle;\n",
       "    }\n",
       "\n",
       "    .dataframe tbody tr th {\n",
       "        vertical-align: top;\n",
       "    }\n",
       "\n",
       "    .dataframe thead th {\n",
       "        text-align: right;\n",
       "    }\n",
       "</style>\n",
       "<table border=\"1\" class=\"dataframe\">\n",
       "  <thead>\n",
       "    <tr style=\"text-align: right;\">\n",
       "      <th></th>\n",
       "      <th>fid</th>\n",
       "      <th>cat</th>\n",
       "      <th>fid_2</th>\n",
       "      <th>cat_2</th>\n",
       "      <th>geometry</th>\n",
       "    </tr>\n",
       "  </thead>\n",
       "  <tbody>\n",
       "    <tr>\n",
       "      <th>0</th>\n",
       "      <td>1.0</td>\n",
       "      <td>1.0</td>\n",
       "      <td>2.0</td>\n",
       "      <td>1.0</td>\n",
       "      <td>POINT (668890.039 2294405.657)</td>\n",
       "    </tr>\n",
       "    <tr>\n",
       "      <th>1</th>\n",
       "      <td>2.0</td>\n",
       "      <td>1.0</td>\n",
       "      <td>3.0</td>\n",
       "      <td>1.0</td>\n",
       "      <td>POINT (668982.942 2294765.483)</td>\n",
       "    </tr>\n",
       "  </tbody>\n",
       "</table>\n",
       "</div>"
      ],
      "text/plain": [
       "   fid  cat  fid_2  cat_2                        geometry\n",
       "0  1.0  1.0    2.0    1.0  POINT (668890.039 2294405.657)\n",
       "1  2.0  1.0    3.0    1.0  POINT (668982.942 2294765.483)"
      ]
     },
     "execution_count": 4,
     "metadata": {},
     "output_type": "execute_result"
    }
   ],
   "source": [
    "print(paradas_gdf.shape)\n",
    "paradas_gdf.head(2)"
   ]
  },
  {
   "cell_type": "code",
   "execution_count": 5,
   "metadata": {},
   "outputs": [],
   "source": [
    "import osmnx as ox"
   ]
  },
  {
   "cell_type": "code",
   "execution_count": 6,
   "metadata": {},
   "outputs": [
    {
     "name": "stdout",
     "output_type": "stream",
     "text": [
      "(414773, 16)\n"
     ]
    },
    {
     "data": {
      "text/html": [
       "<div>\n",
       "<style scoped>\n",
       "    .dataframe tbody tr th:only-of-type {\n",
       "        vertical-align: middle;\n",
       "    }\n",
       "\n",
       "    .dataframe tbody tr th {\n",
       "        vertical-align: top;\n",
       "    }\n",
       "\n",
       "    .dataframe thead th {\n",
       "        text-align: right;\n",
       "    }\n",
       "</style>\n",
       "<table border=\"1\" class=\"dataframe\">\n",
       "  <thead>\n",
       "    <tr style=\"text-align: right;\">\n",
       "      <th></th>\n",
       "      <th>id</th>\n",
       "      <th>u</th>\n",
       "      <th>v</th>\n",
       "      <th>key</th>\n",
       "      <th>osmid</th>\n",
       "      <th>oneway</th>\n",
       "      <th>length</th>\n",
       "      <th>grade</th>\n",
       "      <th>grade_abs</th>\n",
       "      <th>bridge</th>\n",
       "      <th>junction</th>\n",
       "      <th>service</th>\n",
       "      <th>tunnel</th>\n",
       "      <th>walkspeed</th>\n",
       "      <th>time_min</th>\n",
       "      <th>geometry</th>\n",
       "    </tr>\n",
       "  </thead>\n",
       "  <tbody>\n",
       "    <tr>\n",
       "      <th>0</th>\n",
       "      <td>-1.922695e+09</td>\n",
       "      <td>1.680913e+09</td>\n",
       "      <td>1.680913e+09</td>\n",
       "      <td>0.0</td>\n",
       "      <td>155732288</td>\n",
       "      <td>False</td>\n",
       "      <td>45.603</td>\n",
       "      <td>0.022</td>\n",
       "      <td>0.022</td>\n",
       "      <td>None</td>\n",
       "      <td>None</td>\n",
       "      <td>None</td>\n",
       "      <td>None</td>\n",
       "      <td>3.703559</td>\n",
       "      <td>0.738797</td>\n",
       "      <td>LINESTRING (-103.25834 20.68905, -103.25844 20...</td>\n",
       "    </tr>\n",
       "    <tr>\n",
       "      <th>1</th>\n",
       "      <td>-1.922105e+09</td>\n",
       "      <td>4.343498e+09</td>\n",
       "      <td>4.343498e+09</td>\n",
       "      <td>0.0</td>\n",
       "      <td>436461417</td>\n",
       "      <td>False</td>\n",
       "      <td>141.661</td>\n",
       "      <td>0.042</td>\n",
       "      <td>0.042</td>\n",
       "      <td>None</td>\n",
       "      <td>None</td>\n",
       "      <td>None</td>\n",
       "      <td>None</td>\n",
       "      <td>3.453176</td>\n",
       "      <td>2.461404</td>\n",
       "      <td>LINESTRING (-103.19724 20.66496, -103.19742 20...</td>\n",
       "    </tr>\n",
       "  </tbody>\n",
       "</table>\n",
       "</div>"
      ],
      "text/plain": [
       "             id             u             v  key      osmid oneway   length  \\\n",
       "0 -1.922695e+09  1.680913e+09  1.680913e+09  0.0  155732288  False   45.603   \n",
       "1 -1.922105e+09  4.343498e+09  4.343498e+09  0.0  436461417  False  141.661   \n",
       "\n",
       "   grade  grade_abs bridge junction service tunnel  walkspeed  time_min  \\\n",
       "0  0.022      0.022   None     None    None   None   3.703559  0.738797   \n",
       "1  0.042      0.042   None     None    None   None   3.453176  2.461404   \n",
       "\n",
       "                                            geometry  \n",
       "0  LINESTRING (-103.25834 20.68905, -103.25844 20...  \n",
       "1  LINESTRING (-103.19724 20.66496, -103.19742 20...  "
      ]
     },
     "execution_count": 6,
     "metadata": {},
     "output_type": "execute_result"
    }
   ],
   "source": [
    "edges = gpd.read_file('/home/edgar/SIG/ObsCds/Proyectos/Museo_CienciasAmbientales/Medio_Urbano/Vias_Transporte/edges_speed_AMG.geojson', driver='GeoJSON')\n",
    "print(edges.shape)\n",
    "edges.head(2)"
   ]
  },
  {
   "cell_type": "code",
   "execution_count": 25,
   "metadata": {},
   "outputs": [],
   "source": [
    "idx = edges.u.isna()\n",
    "edges = edges.loc[~idx]\n",
    "idx = edges.v.isna()\n",
    "edges = edges.loc[~idx]"
   ]
  },
  {
   "cell_type": "code",
   "execution_count": 7,
   "metadata": {},
   "outputs": [
    {
     "name": "stdout",
     "output_type": "stream",
     "text": [
      "(172090, 5)\n"
     ]
    },
    {
     "data": {
      "text/html": [
       "<div>\n",
       "<style scoped>\n",
       "    .dataframe tbody tr th:only-of-type {\n",
       "        vertical-align: middle;\n",
       "    }\n",
       "\n",
       "    .dataframe tbody tr th {\n",
       "        vertical-align: top;\n",
       "    }\n",
       "\n",
       "    .dataframe thead th {\n",
       "        text-align: right;\n",
       "    }\n",
       "</style>\n",
       "<table border=\"1\" class=\"dataframe\">\n",
       "  <thead>\n",
       "    <tr style=\"text-align: right;\">\n",
       "      <th></th>\n",
       "      <th>osmid</th>\n",
       "      <th>x</th>\n",
       "      <th>y</th>\n",
       "      <th>street_count</th>\n",
       "      <th>geometry</th>\n",
       "    </tr>\n",
       "  </thead>\n",
       "  <tbody>\n",
       "    <tr>\n",
       "      <th>0</th>\n",
       "      <td>28751344</td>\n",
       "      <td>-103.306309</td>\n",
       "      <td>20.711533</td>\n",
       "      <td>3.0</td>\n",
       "      <td>POINT (-103.30631 20.71153)</td>\n",
       "    </tr>\n",
       "    <tr>\n",
       "      <th>1</th>\n",
       "      <td>28753224</td>\n",
       "      <td>-103.316645</td>\n",
       "      <td>20.700650</td>\n",
       "      <td>3.0</td>\n",
       "      <td>POINT (-103.31665 20.70065)</td>\n",
       "    </tr>\n",
       "  </tbody>\n",
       "</table>\n",
       "</div>"
      ],
      "text/plain": [
       "      osmid           x          y  street_count                     geometry\n",
       "0  28751344 -103.306309  20.711533           3.0  POINT (-103.30631 20.71153)\n",
       "1  28753224 -103.316645  20.700650           3.0  POINT (-103.31665 20.70065)"
      ]
     },
     "execution_count": 7,
     "metadata": {},
     "output_type": "execute_result"
    }
   ],
   "source": [
    "nodes = gpd.read_file('/home/edgar/SIG/ObsCds/Proyectos/Museo_CienciasAmbientales/Medio_Urbano/Vias_Transporte/nodes_AMG.geojson', driver='GeoJSON')\n",
    "print(nodes.shape)\n",
    "nodes.head(2)"
   ]
  },
  {
   "cell_type": "code",
   "execution_count": 8,
   "metadata": {},
   "outputs": [
    {
     "name": "stderr",
     "output_type": "stream",
     "text": [
      "/home/edgar/anaconda3/envs/geo_env/lib/python3.8/site-packages/osmnx/utils_graph.py:155: UserWarning: discarding the gdf_nodes geometry column, though its values differ from the coordinates in the x and y columns\n",
      "  warnings.warn(\n"
     ]
    }
   ],
   "source": [
    "G = ox.graph_from_gdfs(nodes.set_index('osmid'), edges.set_index(['u','v','key']))"
   ]
  },
  {
   "cell_type": "code",
   "execution_count": 34,
   "metadata": {},
   "outputs": [
    {
     "name": "stdout",
     "output_type": "stream",
     "text": [
      "(13, 7)\n"
     ]
    },
    {
     "data": {
      "text/html": [
       "<div>\n",
       "<style scoped>\n",
       "    .dataframe tbody tr th:only-of-type {\n",
       "        vertical-align: middle;\n",
       "    }\n",
       "\n",
       "    .dataframe tbody tr th {\n",
       "        vertical-align: top;\n",
       "    }\n",
       "\n",
       "    .dataframe thead th {\n",
       "        text-align: right;\n",
       "    }\n",
       "</style>\n",
       "<table border=\"1\" class=\"dataframe\">\n",
       "  <thead>\n",
       "    <tr style=\"text-align: right;\">\n",
       "      <th></th>\n",
       "      <th>fid</th>\n",
       "      <th>cat</th>\n",
       "      <th>fid_2</th>\n",
       "      <th>cat_2</th>\n",
       "      <th>geometry</th>\n",
       "      <th>osmid</th>\n",
       "      <th>distance_node</th>\n",
       "    </tr>\n",
       "  </thead>\n",
       "  <tbody>\n",
       "    <tr>\n",
       "      <th>0</th>\n",
       "      <td>1.0</td>\n",
       "      <td>1.0</td>\n",
       "      <td>2.0</td>\n",
       "      <td>1.0</td>\n",
       "      <td>POINT (-103.37788 20.74168)</td>\n",
       "      <td>1945345211</td>\n",
       "      <td>20.955469</td>\n",
       "    </tr>\n",
       "    <tr>\n",
       "      <th>1</th>\n",
       "      <td>2.0</td>\n",
       "      <td>1.0</td>\n",
       "      <td>3.0</td>\n",
       "      <td>1.0</td>\n",
       "      <td>POINT (-103.37696 20.74492)</td>\n",
       "      <td>1689004521</td>\n",
       "      <td>39.486632</td>\n",
       "    </tr>\n",
       "  </tbody>\n",
       "</table>\n",
       "</div>"
      ],
      "text/plain": [
       "   fid  cat  fid_2  cat_2                     geometry       osmid  \\\n",
       "0  1.0  1.0    2.0    1.0  POINT (-103.37788 20.74168)  1945345211   \n",
       "1  2.0  1.0    3.0    1.0  POINT (-103.37696 20.74492)  1689004521   \n",
       "\n",
       "   distance_node  \n",
       "0      20.955469  \n",
       "1      39.486632  "
      ]
     },
     "execution_count": 34,
     "metadata": {},
     "output_type": "execute_result"
    }
   ],
   "source": [
    "paradas_gdf = paradas_gdf.to_crs(\"EPSG:4326\")\n",
    "paradas_osmid = aup.find_nearest(G, nodes.set_index('osmid'), paradas_gdf, return_distance= True)\n",
    "print(paradas_osmid.shape)\n",
    "paradas_osmid.head(2)"
   ]
  },
  {
   "cell_type": "code",
   "execution_count": 35,
   "metadata": {},
   "outputs": [],
   "source": [
    "paradas_dist = aup.calculate_distance_nearest_poi(paradas_osmid, nodes.set_index('osmid'), \n",
    "                edges.set_index(['u','v','key']), 'parada', 'osmid', wght='time_min')"
   ]
  },
  {
   "cell_type": "code",
   "execution_count": 36,
   "metadata": {},
   "outputs": [
    {
     "data": {
      "text/html": [
       "<div>\n",
       "<style scoped>\n",
       "    .dataframe tbody tr th:only-of-type {\n",
       "        vertical-align: middle;\n",
       "    }\n",
       "\n",
       "    .dataframe tbody tr th {\n",
       "        vertical-align: top;\n",
       "    }\n",
       "\n",
       "    .dataframe thead th {\n",
       "        text-align: right;\n",
       "    }\n",
       "</style>\n",
       "<table border=\"1\" class=\"dataframe\">\n",
       "  <thead>\n",
       "    <tr style=\"text-align: right;\">\n",
       "      <th></th>\n",
       "      <th>x</th>\n",
       "      <th>y</th>\n",
       "      <th>street_count</th>\n",
       "      <th>geometry</th>\n",
       "      <th>dist_parada</th>\n",
       "    </tr>\n",
       "    <tr>\n",
       "      <th>osmid</th>\n",
       "      <th></th>\n",
       "      <th></th>\n",
       "      <th></th>\n",
       "      <th></th>\n",
       "      <th></th>\n",
       "    </tr>\n",
       "  </thead>\n",
       "  <tbody>\n",
       "    <tr>\n",
       "      <th>960922318</th>\n",
       "      <td>-103.379216</td>\n",
       "      <td>20.735972</td>\n",
       "      <td>3.0</td>\n",
       "      <td>POINT (-103.37922 20.73597)</td>\n",
       "      <td>3.804792</td>\n",
       "    </tr>\n",
       "    <tr>\n",
       "      <th>1180211158</th>\n",
       "      <td>-103.379289</td>\n",
       "      <td>20.749854</td>\n",
       "      <td>1.0</td>\n",
       "      <td>POINT (-103.37929 20.74985)</td>\n",
       "      <td>14.675713</td>\n",
       "    </tr>\n",
       "    <tr>\n",
       "      <th>1380480800</th>\n",
       "      <td>-103.382586</td>\n",
       "      <td>20.732598</td>\n",
       "      <td>3.0</td>\n",
       "      <td>POINT (-103.38259 20.73260)</td>\n",
       "      <td>13.009162</td>\n",
       "    </tr>\n",
       "    <tr>\n",
       "      <th>1514364069</th>\n",
       "      <td>-103.376040</td>\n",
       "      <td>20.734786</td>\n",
       "      <td>4.0</td>\n",
       "      <td>POINT (-103.37604 20.73479)</td>\n",
       "      <td>9.922780</td>\n",
       "    </tr>\n",
       "    <tr>\n",
       "      <th>1624212739</th>\n",
       "      <td>-103.381845</td>\n",
       "      <td>20.732342</td>\n",
       "      <td>3.0</td>\n",
       "      <td>POINT (-103.38184 20.73234)</td>\n",
       "      <td>14.300416</td>\n",
       "    </tr>\n",
       "    <tr>\n",
       "      <th>...</th>\n",
       "      <td>...</td>\n",
       "      <td>...</td>\n",
       "      <td>...</td>\n",
       "      <td>...</td>\n",
       "      <td>...</td>\n",
       "    </tr>\n",
       "    <tr>\n",
       "      <th>8821632141</th>\n",
       "      <td>-103.373730</td>\n",
       "      <td>20.748891</td>\n",
       "      <td>3.0</td>\n",
       "      <td>POINT (-103.37373 20.74889)</td>\n",
       "      <td>6.646185</td>\n",
       "    </tr>\n",
       "    <tr>\n",
       "      <th>8821632142</th>\n",
       "      <td>-103.373221</td>\n",
       "      <td>20.748718</td>\n",
       "      <td>3.0</td>\n",
       "      <td>POINT (-103.37322 20.74872)</td>\n",
       "      <td>5.553961</td>\n",
       "    </tr>\n",
       "    <tr>\n",
       "      <th>8821632156</th>\n",
       "      <td>-103.372836</td>\n",
       "      <td>20.750636</td>\n",
       "      <td>4.0</td>\n",
       "      <td>POINT (-103.37284 20.75064)</td>\n",
       "      <td>4.490105</td>\n",
       "    </tr>\n",
       "    <tr>\n",
       "      <th>8821632159</th>\n",
       "      <td>-103.372509</td>\n",
       "      <td>20.750962</td>\n",
       "      <td>3.0</td>\n",
       "      <td>POINT (-103.37251 20.75096)</td>\n",
       "      <td>4.765129</td>\n",
       "    </tr>\n",
       "    <tr>\n",
       "      <th>999999</th>\n",
       "      <td>-103.380963</td>\n",
       "      <td>20.735599</td>\n",
       "      <td>NaN</td>\n",
       "      <td>POINT (-103.38122 20.73521)</td>\n",
       "      <td>9.025800</td>\n",
       "    </tr>\n",
       "  </tbody>\n",
       "</table>\n",
       "<p>1980 rows × 5 columns</p>\n",
       "</div>"
      ],
      "text/plain": [
       "                     x          y  street_count                     geometry  \\\n",
       "osmid                                                                          \n",
       "960922318  -103.379216  20.735972           3.0  POINT (-103.37922 20.73597)   \n",
       "1180211158 -103.379289  20.749854           1.0  POINT (-103.37929 20.74985)   \n",
       "1380480800 -103.382586  20.732598           3.0  POINT (-103.38259 20.73260)   \n",
       "1514364069 -103.376040  20.734786           4.0  POINT (-103.37604 20.73479)   \n",
       "1624212739 -103.381845  20.732342           3.0  POINT (-103.38184 20.73234)   \n",
       "...                ...        ...           ...                          ...   \n",
       "8821632141 -103.373730  20.748891           3.0  POINT (-103.37373 20.74889)   \n",
       "8821632142 -103.373221  20.748718           3.0  POINT (-103.37322 20.74872)   \n",
       "8821632156 -103.372836  20.750636           4.0  POINT (-103.37284 20.75064)   \n",
       "8821632159 -103.372509  20.750962           3.0  POINT (-103.37251 20.75096)   \n",
       "999999     -103.380963  20.735599           NaN  POINT (-103.38122 20.73521)   \n",
       "\n",
       "            dist_parada  \n",
       "osmid                    \n",
       "960922318      3.804792  \n",
       "1180211158    14.675713  \n",
       "1380480800    13.009162  \n",
       "1514364069     9.922780  \n",
       "1624212739    14.300416  \n",
       "...                 ...  \n",
       "8821632141     6.646185  \n",
       "8821632142     5.553961  \n",
       "8821632156     4.490105  \n",
       "8821632159     4.765129  \n",
       "999999         9.025800  \n",
       "\n",
       "[1980 rows x 5 columns]"
      ]
     },
     "execution_count": 36,
     "metadata": {},
     "output_type": "execute_result"
    }
   ],
   "source": [
    "paradas_dist.loc[paradas_dist.dist_parada<=15]"
   ]
  },
  {
   "cell_type": "code",
   "execution_count": 45,
   "metadata": {},
   "outputs": [
    {
     "data": {
      "text/plain": [
       "<AxesSubplot:>"
      ]
     },
     "execution_count": 45,
     "metadata": {},
     "output_type": "execute_result"
    },
    {
     "data": {
      "image/png": "[encoded data removed]",
      "text/plain": [
       "<Figure size 720x720 with 1 Axes>"
      ]
     },
     "metadata": {
      "needs_background": "light"
     },
     "output_type": "display_data"
    }
   ],
   "source": [
    "fig,ax = plt.subplots(figsize=(10,10))\n",
    "ax.axes.get_xaxis().set_visible(False)\n",
    "ax.axes.get_yaxis().set_visible(False)\n",
    "\n",
    "paradas_osmid.plot(color='red', markersize=20, ax=ax, zorder=2)\n",
    "paradas_dist.loc[paradas_dist.dist_parada<=15].plot('dist_parada', markersize=3, ax=ax)"
   ]
  },
  {
   "cell_type": "code",
   "execution_count": 54,
   "metadata": {},
   "outputs": [
    {
     "name": "stdout",
     "output_type": "stream",
     "text": [
      "(220, 2)\n"
     ]
    },
    {
     "data": {
      "text/plain": [
       "<AxesSubplot:>"
      ]
     },
     "execution_count": 54,
     "metadata": {},
     "output_type": "execute_result"
    },
    {
     "data": {
      "image/png": "[encoded data removed]",
      "text/plain": [
       "<Figure size 432x288 with 1 Axes>"
      ]
     },
     "metadata": {
      "needs_background": "light"
     },
     "output_type": "display_data"
    }
   ],
   "source": [
    "res = 9\n",
    "buffer_ruta = gpd.GeoDataFrame(rutas_gdf.buffer(2000).to_crs(\"EPSG:4326\"))\n",
    "buffer_ruta = buffer_ruta.rename(columns={0:'geometry'})\n",
    "hex_gdf = aup.create_hexgrid(buffer_ruta, res)\n",
    "hex_gdf = hex_gdf.set_crs(\"EPSG:4326\")\n",
    "print(hex_gdf.shape)\n",
    "hex_gdf.plot()"
   ]
  },
  {
   "cell_type": "code",
   "execution_count": 58,
   "metadata": {},
   "outputs": [
    {
     "name": "stdout",
     "output_type": "stream",
     "text": [
      "(220, 6)\n"
     ]
    },
    {
     "data": {
      "text/html": [
       "<div>\n",
       "<style scoped>\n",
       "    .dataframe tbody tr th:only-of-type {\n",
       "        vertical-align: middle;\n",
       "    }\n",
       "\n",
       "    .dataframe tbody tr th {\n",
       "        vertical-align: top;\n",
       "    }\n",
       "\n",
       "    .dataframe thead th {\n",
       "        text-align: right;\n",
       "    }\n",
       "</style>\n",
       "<table border=\"1\" class=\"dataframe\">\n",
       "  <thead>\n",
       "    <tr style=\"text-align: right;\">\n",
       "      <th></th>\n",
       "      <th>hex_id_9</th>\n",
       "      <th>geometry</th>\n",
       "      <th>x</th>\n",
       "      <th>y</th>\n",
       "      <th>street_count</th>\n",
       "      <th>dist_parada</th>\n",
       "    </tr>\n",
       "  </thead>\n",
       "  <tbody>\n",
       "    <tr>\n",
       "      <th>0</th>\n",
       "      <td>89498c9490fffff</td>\n",
       "      <td>POLYGON ((-103.36938 20.75489, -103.36816 20.7...</td>\n",
       "      <td>-103.370512</td>\n",
       "      <td>20.756784</td>\n",
       "      <td>3.285714</td>\n",
       "      <td>7.553768</td>\n",
       "    </tr>\n",
       "    <tr>\n",
       "      <th>1</th>\n",
       "      <td>89498c948afffff</td>\n",
       "      <td>POLYGON ((-103.35814 20.74022, -103.35692 20.7...</td>\n",
       "      <td>-103.358931</td>\n",
       "      <td>20.741588</td>\n",
       "      <td>2.450000</td>\n",
       "      <td>26.814827</td>\n",
       "    </tr>\n",
       "    <tr>\n",
       "      <th>2</th>\n",
       "      <td>8949ab4b26fffff</td>\n",
       "      <td>POLYGON ((-103.38863 20.75304, -103.38741 20.7...</td>\n",
       "      <td>-103.389186</td>\n",
       "      <td>20.754612</td>\n",
       "      <td>2.775000</td>\n",
       "      <td>34.190455</td>\n",
       "    </tr>\n",
       "    <tr>\n",
       "      <th>3</th>\n",
       "      <td>89498c94d87ffff</td>\n",
       "      <td>POLYGON ((-103.37907 20.72134, -103.37786 20.7...</td>\n",
       "      <td>-103.379919</td>\n",
       "      <td>20.723082</td>\n",
       "      <td>3.750000</td>\n",
       "      <td>34.307661</td>\n",
       "    </tr>\n",
       "  </tbody>\n",
       "</table>\n",
       "</div>"
      ],
      "text/plain": [
       "          hex_id_9                                           geometry  \\\n",
       "0  89498c9490fffff  POLYGON ((-103.36938 20.75489, -103.36816 20.7...   \n",
       "1  89498c948afffff  POLYGON ((-103.35814 20.74022, -103.35692 20.7...   \n",
       "2  8949ab4b26fffff  POLYGON ((-103.38863 20.75304, -103.38741 20.7...   \n",
       "3  89498c94d87ffff  POLYGON ((-103.37907 20.72134, -103.37786 20.7...   \n",
       "\n",
       "            x          y  street_count  dist_parada  \n",
       "0 -103.370512  20.756784      3.285714     7.553768  \n",
       "1 -103.358931  20.741588      2.450000    26.814827  \n",
       "2 -103.389186  20.754612      2.775000    34.190455  \n",
       "3 -103.379919  20.723082      3.750000    34.307661  "
      ]
     },
     "execution_count": 58,
     "metadata": {},
     "output_type": "execute_result"
    }
   ],
   "source": [
    "hex_time = aup.group_by_hex_mean(paradas_dist.reset_index(), hex_gdf, 9, 'dist_parada')\n",
    "print(hex_time.shape)\n",
    "hex_time.head(4)"
   ]
  },
  {
   "cell_type": "code",
   "execution_count": 60,
   "metadata": {},
   "outputs": [
    {
     "data": {
      "text/plain": [
       "<AxesSubplot:>"
      ]
     },
     "execution_count": 60,
     "metadata": {},
     "output_type": "execute_result"
    },
    {
     "data": {
      "image/png": "[encoded data removed]",
      "text/plain": [
       "<Figure size 720x720 with 1 Axes>"
      ]
     },
     "metadata": {
      "needs_background": "light"
     },
     "output_type": "display_data"
    }
   ],
   "source": [
    "fig,ax = plt.subplots(figsize=(10,10))\n",
    "ax.axes.get_xaxis().set_visible(False)\n",
    "ax.axes.get_yaxis().set_visible(False)\n",
    "\n",
    "paradas_osmid.plot(color='red', markersize=20, ax=ax, zorder=2)\n",
    "hex_time.plot('dist_parada', ax=ax)"
   ]
  },
  {
   "cell_type": "code",
   "execution_count": 63,
   "metadata": {},
   "outputs": [],
   "source": [
    "hex_time.to_file('/home/edgar/SIG/ObsCds/Proyectos/'+\n",
    "                        'Museo_CienciasAmbientales/Medio_Urbano/Analisis/'+\n",
    "                        'HexCobertura_RutaLomasCentinela_v1.geojson',\n",
    "                    driver='GeoJSON')"
   ]
  },
  {
   "cell_type": "code",
   "execution_count": 62,
   "metadata": {},
   "outputs": [],
   "source": [
    "paradas_dist.loc[paradas_dist.dist_parada<=30].to_file('/home/edgar/SIG/ObsCds/Proyectos/'+\n",
    "                        'Museo_CienciasAmbientales/Medio_Urbano/Analisis/'+\n",
    "                        'NodosDistanciaParada_RutaLomasCentinela_v1.geojson',\n",
    "                    driver='GeoJSON')"
   ]
  },
  {
   "cell_type": "code",
   "execution_count": 64,
   "metadata": {},
   "outputs": [
    {
     "name": "stdout",
     "output_type": "stream",
     "text": [
      "(60121, 239)\n"
     ]
    },
    {
     "data": {
      "text/html": [
       "<div>\n",
       "<style scoped>\n",
       "    .dataframe tbody tr th:only-of-type {\n",
       "        vertical-align: middle;\n",
       "    }\n",
       "\n",
       "    .dataframe tbody tr th {\n",
       "        vertical-align: top;\n",
       "    }\n",
       "\n",
       "    .dataframe thead th {\n",
       "        text-align: right;\n",
       "    }\n",
       "</style>\n",
       "<table border=\"1\" class=\"dataframe\">\n",
       "  <thead>\n",
       "    <tr style=\"text-align: right;\">\n",
       "      <th></th>\n",
       "      <th>CVEGEO</th>\n",
       "      <th>CVE_ENT</th>\n",
       "      <th>CVE_MUN</th>\n",
       "      <th>CVE_LOC</th>\n",
       "      <th>CVE_AGEB</th>\n",
       "      <th>CVE_MZA</th>\n",
       "      <th>AMBITO</th>\n",
       "      <th>TIPOMZA</th>\n",
       "      <th>field_1</th>\n",
       "      <th>ENTIDAD</th>\n",
       "      <th>...</th>\n",
       "      <th>VPH_CEL</th>\n",
       "      <th>VPH_INTER</th>\n",
       "      <th>VPH_STVP</th>\n",
       "      <th>VPH_SPMVPI</th>\n",
       "      <th>VPH_CVJ</th>\n",
       "      <th>VPH_SINRTV</th>\n",
       "      <th>VPH_SINLTC</th>\n",
       "      <th>VPH_SINCIN</th>\n",
       "      <th>VPH_SINTIC</th>\n",
       "      <th>geometry</th>\n",
       "    </tr>\n",
       "  </thead>\n",
       "  <tbody>\n",
       "    <tr>\n",
       "      <th>0</th>\n",
       "      <td>1400900690031005</td>\n",
       "      <td>14</td>\n",
       "      <td>009</td>\n",
       "      <td>0069</td>\n",
       "      <td>0031</td>\n",
       "      <td>005</td>\n",
       "      <td>Rural</td>\n",
       "      <td>Típica</td>\n",
       "      <td>NaN</td>\n",
       "      <td>NaN</td>\n",
       "      <td>...</td>\n",
       "      <td>NaN</td>\n",
       "      <td>NaN</td>\n",
       "      <td>NaN</td>\n",
       "      <td>NaN</td>\n",
       "      <td>NaN</td>\n",
       "      <td>NaN</td>\n",
       "      <td>NaN</td>\n",
       "      <td>NaN</td>\n",
       "      <td>NaN</td>\n",
       "      <td>POINT (643034.793 2291337.416)</td>\n",
       "    </tr>\n",
       "    <tr>\n",
       "      <th>1</th>\n",
       "      <td>1400900060243020</td>\n",
       "      <td>14</td>\n",
       "      <td>009</td>\n",
       "      <td>0006</td>\n",
       "      <td>0243</td>\n",
       "      <td>020</td>\n",
       "      <td>Urbana</td>\n",
       "      <td>Típica</td>\n",
       "      <td>NaN</td>\n",
       "      <td>NaN</td>\n",
       "      <td>...</td>\n",
       "      <td>NaN</td>\n",
       "      <td>NaN</td>\n",
       "      <td>NaN</td>\n",
       "      <td>NaN</td>\n",
       "      <td>NaN</td>\n",
       "      <td>NaN</td>\n",
       "      <td>NaN</td>\n",
       "      <td>NaN</td>\n",
       "      <td>NaN</td>\n",
       "      <td>POINT (642012.719 2294073.386)</td>\n",
       "    </tr>\n",
       "  </tbody>\n",
       "</table>\n",
       "<p>2 rows × 239 columns</p>\n",
       "</div>"
      ],
      "text/plain": [
       "             CVEGEO CVE_ENT CVE_MUN CVE_LOC CVE_AGEB CVE_MZA  AMBITO TIPOMZA  \\\n",
       "0  1400900690031005      14     009    0069     0031     005   Rural  Típica   \n",
       "1  1400900060243020      14     009    0006     0243     020  Urbana  Típica   \n",
       "\n",
       "   field_1  ENTIDAD  ... VPH_CEL  VPH_INTER VPH_STVP  VPH_SPMVPI VPH_CVJ  \\\n",
       "0      NaN      NaN  ...     NaN        NaN      NaN         NaN     NaN   \n",
       "1      NaN      NaN  ...     NaN        NaN      NaN         NaN     NaN   \n",
       "\n",
       "  VPH_SINRTV  VPH_SINLTC  VPH_SINCIN  VPH_SINTIC  \\\n",
       "0        NaN         NaN         NaN         NaN   \n",
       "1        NaN         NaN         NaN         NaN   \n",
       "\n",
       "                         geometry  \n",
       "0  POINT (643034.793 2291337.416)  \n",
       "1  POINT (642012.719 2294073.386)  \n",
       "\n",
       "[2 rows x 239 columns]"
      ]
     },
     "execution_count": 64,
     "metadata": {},
     "output_type": "execute_result"
    }
   ],
   "source": [
    "block = gpd.read_file('/home/edgar/SIG/Info_Grl/'+\n",
    "                      'Info_Sociodemografica/Censo/2020/'+\n",
    "                      'CntMnzCPyV_AMG_INEGI20_UTM_v1.shp', driver='ESRIShapefile')\n",
    "print(block.shape)\n",
    "block.head(2)"
   ]
  },
  {
   "cell_type": "code",
   "execution_count": 66,
   "metadata": {},
   "outputs": [
    {
     "name": "stdout",
     "output_type": "stream",
     "text": [
      "(33, 2)\n"
     ]
    },
    {
     "data": {
      "text/html": [
       "<div>\n",
       "<style scoped>\n",
       "    .dataframe tbody tr th:only-of-type {\n",
       "        vertical-align: middle;\n",
       "    }\n",
       "\n",
       "    .dataframe tbody tr th {\n",
       "        vertical-align: top;\n",
       "    }\n",
       "\n",
       "    .dataframe thead th {\n",
       "        text-align: right;\n",
       "    }\n",
       "</style>\n",
       "<table border=\"1\" class=\"dataframe\">\n",
       "  <thead>\n",
       "    <tr style=\"text-align: right;\">\n",
       "      <th></th>\n",
       "      <th>hex_id_9</th>\n",
       "      <th>geometry</th>\n",
       "    </tr>\n",
       "  </thead>\n",
       "  <tbody>\n",
       "    <tr>\n",
       "      <th>0</th>\n",
       "      <td>89498c9490fffff</td>\n",
       "      <td>POLYGON ((-103.36938 20.75489, -103.36816 20.7...</td>\n",
       "    </tr>\n",
       "    <tr>\n",
       "      <th>5</th>\n",
       "      <td>89498c94993ffff</td>\n",
       "      <td>POLYGON ((-103.37406 20.73982, -103.37284 20.7...</td>\n",
       "    </tr>\n",
       "  </tbody>\n",
       "</table>\n",
       "</div>"
      ],
      "text/plain": [
       "          hex_id_9                                           geometry\n",
       "0  89498c9490fffff  POLYGON ((-103.36938 20.75489, -103.36816 20.7...\n",
       "5  89498c94993ffff  POLYGON ((-103.37406 20.73982, -103.37284 20.7..."
      ]
     },
     "execution_count": 66,
     "metadata": {},
     "output_type": "execute_result"
    }
   ],
   "source": [
    "hex_group = hex_time.loc[hex_time.dist_parada<=10]\n",
    "hex_group = hex_group[['hex_id_9','geometry']].copy()\n",
    "print(hex_group.shape)\n",
    "hex_group.head(2)"
   ]
  },
  {
   "cell_type": "code",
   "execution_count": 88,
   "metadata": {
    "collapsed": true,
    "jupyter": {
     "outputs_hidden": true
    },
    "tags": []
   },
   "outputs": [
    {
     "data": {
      "text/plain": [
       "['cvegeo',\n",
       " 'cve_ent',\n",
       " 'cve_mun',\n",
       " 'cve_loc',\n",
       " 'cve_ageb',\n",
       " 'cve_mza',\n",
       " 'ambito',\n",
       " 'tipomza',\n",
       " 'field_1',\n",
       " 'entidad',\n",
       " 'nom_ent',\n",
       " 'mun',\n",
       " 'nom_mun',\n",
       " 'loc',\n",
       " 'nom_loc',\n",
       " 'ageb',\n",
       " 'mza',\n",
       " 'pobtot',\n",
       " 'pobfem',\n",
       " 'pobmas',\n",
       " 'p_0a2',\n",
       " 'p_0a2_f',\n",
       " 'p_0a2_m',\n",
       " 'p_3ymas',\n",
       " 'p_3ymas_f',\n",
       " 'p_3ymas_m',\n",
       " 'p_5ymas',\n",
       " 'p_5ymas_f',\n",
       " 'p_5ymas_m',\n",
       " 'p_12ymas',\n",
       " 'p_12ymas_f',\n",
       " 'p_12ymas_m',\n",
       " 'p_15ymas',\n",
       " 'p_15ymas_f',\n",
       " 'p_15ymas_m',\n",
       " 'p_18ymas',\n",
       " 'p_18ymas_f',\n",
       " 'p_18ymas_m',\n",
       " 'p_3a5',\n",
       " 'p_3a5_f',\n",
       " 'p_3a5_m',\n",
       " 'p_6a11',\n",
       " 'p_6a11_f',\n",
       " 'p_6a11_m',\n",
       " 'p_8a14',\n",
       " 'p_8a14_f',\n",
       " 'p_8a14_m',\n",
       " 'p_12a14',\n",
       " 'p_12a14_f',\n",
       " 'p_12a14_m',\n",
       " 'p_15a17',\n",
       " 'p_15a17_f',\n",
       " 'p_15a17_m',\n",
       " 'p_18a24',\n",
       " 'p_18a24_f',\n",
       " 'p_18a24_m',\n",
       " 'p_15a49_f',\n",
       " 'p_60ymas',\n",
       " 'p_60ymas_f',\n",
       " 'p_60ymas_m',\n",
       " 'rel_h_m',\n",
       " 'pob0_14',\n",
       " 'pob15_64',\n",
       " 'pob65_mas',\n",
       " 'prom_hnv',\n",
       " 'pnacent',\n",
       " 'pnacent_f',\n",
       " 'pnacent_m',\n",
       " 'pnacoe',\n",
       " 'pnacoe_f',\n",
       " 'pnacoe_m',\n",
       " 'pres2015',\n",
       " 'pres2015_f',\n",
       " 'pres2015_m',\n",
       " 'presoe15',\n",
       " 'presoe15_f',\n",
       " 'presoe15_m',\n",
       " 'p3ym_hli',\n",
       " 'p3ym_hli_f',\n",
       " 'p3ym_hli_m',\n",
       " 'p3hlinhe',\n",
       " 'p3hlinhe_f',\n",
       " 'p3hlinhe_m',\n",
       " 'p3hli_he',\n",
       " 'p3hli_he_f',\n",
       " 'p3hli_he_m',\n",
       " 'p5_hli',\n",
       " 'p5_hli_nhe',\n",
       " 'p5_hli_he',\n",
       " 'phog_ind',\n",
       " 'pob_afro',\n",
       " 'pob_afro_f',\n",
       " 'pob_afro_m',\n",
       " 'pcon_disc',\n",
       " 'pcdisc_mot',\n",
       " 'pcdisc_vis',\n",
       " 'pcdisc_len',\n",
       " 'pcdisc_aud',\n",
       " 'pcdisc_m_1',\n",
       " 'pcdisc_men',\n",
       " 'pcon_limi',\n",
       " 'pclim_csb',\n",
       " 'pclim_vis',\n",
       " 'pclim_haco',\n",
       " 'pclim_oaud',\n",
       " 'pclim_mot2',\n",
       " 'pclim_re_c',\n",
       " 'pclim_pmen',\n",
       " 'psind_lim',\n",
       " 'p3a5_noa',\n",
       " 'p3a5_noa_f',\n",
       " 'p3a5_noa_m',\n",
       " 'p6a11_noa',\n",
       " 'p6a11_noaf',\n",
       " 'p6a11_noam',\n",
       " 'p12a14noa',\n",
       " 'p12a14noaf',\n",
       " 'p12a14noam',\n",
       " 'p15a17a',\n",
       " 'p15a17a_f',\n",
       " 'p15a17a_m',\n",
       " 'p18a24a',\n",
       " 'p18a24a_f',\n",
       " 'p18a24a_m',\n",
       " 'p8a14an',\n",
       " 'p8a14an_f',\n",
       " 'p8a14an_m',\n",
       " 'p15ym_an',\n",
       " 'p15ym_an_f',\n",
       " 'p15ym_an_m',\n",
       " 'p15ym_se',\n",
       " 'p15ym_se_f',\n",
       " 'p15ym_se_m',\n",
       " 'p15pri_in',\n",
       " 'p15pri_inf',\n",
       " 'p15pri_inm',\n",
       " 'p15pri_co',\n",
       " 'p15pri_cof',\n",
       " 'p15pri_com',\n",
       " 'p15sec_in',\n",
       " 'p15sec_inf',\n",
       " 'p15sec_inm',\n",
       " 'p15sec_co',\n",
       " 'p15sec_cof',\n",
       " 'p15sec_com',\n",
       " 'p18ym_pb',\n",
       " 'p18ym_pb_f',\n",
       " 'p18ym_pb_m',\n",
       " 'graproes',\n",
       " 'graproes_f',\n",
       " 'graproes_m',\n",
       " 'pea',\n",
       " 'pea_f',\n",
       " 'pea_m',\n",
       " 'pe_inac',\n",
       " 'pe_inac_f',\n",
       " 'pe_inac_m',\n",
       " 'pocupada',\n",
       " 'pocupada_f',\n",
       " 'pocupada_m',\n",
       " 'pdesocup',\n",
       " 'pdesocup_f',\n",
       " 'pdesocup_m',\n",
       " 'psinder',\n",
       " 'pder_ss',\n",
       " 'pder_imss',\n",
       " 'pder_iste',\n",
       " 'pder_istee',\n",
       " 'pafil_pdom',\n",
       " 'pder_segp',\n",
       " 'pder_imssb',\n",
       " 'pafil_ipri',\n",
       " 'pafil_otra',\n",
       " 'p12ym_solt',\n",
       " 'p12ym_casa',\n",
       " 'p12ym_sepa',\n",
       " 'pcatolica',\n",
       " 'pro_crieva',\n",
       " 'potras_rel',\n",
       " 'psin_relig',\n",
       " 'tothog',\n",
       " 'hogjef_f',\n",
       " 'hogjef_m',\n",
       " 'pobhog',\n",
       " 'phogjef_f',\n",
       " 'phogjef_m',\n",
       " 'vivtot',\n",
       " 'tvivhab',\n",
       " 'tvivpar',\n",
       " 'vivpar_hab',\n",
       " 'tvivparhab',\n",
       " 'vivpar_des',\n",
       " 'vivpar_ut',\n",
       " 'ocupvivpar',\n",
       " 'prom_ocup',\n",
       " 'pro_ocup_c',\n",
       " 'vph_pisodt',\n",
       " 'vph_pisoti',\n",
       " 'vph_1dor',\n",
       " 'vph_2ymasd',\n",
       " 'vph_1cuart',\n",
       " 'vph_2cuart',\n",
       " 'vph_3ymasc',\n",
       " 'vph_c_elec',\n",
       " 'vph_s_elec',\n",
       " 'vph_aguadv',\n",
       " 'vph_aeasp',\n",
       " 'vph_aguafv',\n",
       " 'vph_tinaco',\n",
       " 'vph_cister',\n",
       " 'vph_excsa',\n",
       " 'vph_letr',\n",
       " 'vph_drenaj',\n",
       " 'vph_nodren',\n",
       " 'vph_c_serv',\n",
       " 'vph_ndeaed',\n",
       " 'vph_dsadma',\n",
       " 'vph_ndacmm',\n",
       " 'vph_snbien',\n",
       " 'vph_refri',\n",
       " 'vph_lavad',\n",
       " 'vph_hmicro',\n",
       " 'vph_autom',\n",
       " 'vph_moto',\n",
       " 'vph_bici',\n",
       " 'vph_radio',\n",
       " 'vph_tv',\n",
       " 'vph_pc',\n",
       " 'vph_telef',\n",
       " 'vph_cel',\n",
       " 'vph_inter',\n",
       " 'vph_stvp',\n",
       " 'vph_spmvpi',\n",
       " 'vph_cvj',\n",
       " 'vph_sinrtv',\n",
       " 'vph_sinltc',\n",
       " 'vph_sincin',\n",
       " 'vph_sintic',\n",
       " 'geometry']"
      ]
     },
     "execution_count": 88,
     "metadata": {},
     "output_type": "execute_result"
    }
   ],
   "source": [
    "block.columns.to_list()"
   ]
  },
  {
   "cell_type": "code",
   "execution_count": 107,
   "metadata": {},
   "outputs": [],
   "source": [
    "block = block.to_crs(\"EPSG:4326\")\n",
    "block.columns = map(str.lower, block.columns)\n",
    "socio_columns = ['pobtot','pobfem','pobmas','p_0a2',\n",
    "                 'p_3a5','p_6a11','p_12a14','p_15a17','p_18a24',\n",
    "                 'p_18ymas','p_60ymas','vivtot','tvivparhab',\n",
    "                 'vivpar_des','tothog','hogjef_f','geometry']\n",
    "hex_pop = aup.socio_points_to_polygon(hex_group, block[socio_columns],'hex_id_9',\n",
    "                                     string_columns=[])"
   ]
  },
  {
   "cell_type": "code",
   "execution_count": 108,
   "metadata": {},
   "outputs": [
    {
     "data": {
      "text/plain": [
       "20786.0"
      ]
     },
     "execution_count": 108,
     "metadata": {},
     "output_type": "execute_result"
    }
   ],
   "source": [
    "hex_pop.pobtot.sum()"
   ]
  },
  {
   "cell_type": "code",
   "execution_count": 109,
   "metadata": {},
   "outputs": [
    {
     "data": {
      "text/plain": [
       "<AxesSubplot:>"
      ]
     },
     "execution_count": 109,
     "metadata": {},
     "output_type": "execute_result"
    },
    {
     "data": {
      "image/png": "[encoded data removed]",
      "text/plain": [
       "<Figure size 432x288 with 1 Axes>"
      ]
     },
     "metadata": {
      "needs_background": "light"
     },
     "output_type": "display_data"
    }
   ],
   "source": [
    "hex_mrg = hex_gdf.merge(hex_pop, on='hex_id_9')\n",
    "hex_mrg = hex_mrg.to_crs(\"EPSG:32613\")\n",
    "hex_mrg['dens_pobha'] = hex_mrg.pobtot / (hex_mrg.area / 10000)\n",
    "hex_mrg.plot('dens_pobha', 'viridis')"
   ]
  },
  {
   "cell_type": "code",
   "execution_count": 110,
   "metadata": {},
   "outputs": [],
   "source": [
    "gdf_tmp = hex_gdf.copy()\n",
    "gdf_tmp = gdf_tmp.to_crs(\"EPSG:6372\")\n",
    "gdf_tmp = gdf_tmp.buffer(1).reset_index().rename(columns={0:'geometry'})\n",
    "gdf_tmp = gdf_tmp.to_crs(\"EPSG:4326\")\n",
    "poly_wkt = gdf_tmp.dissolve().geometry.to_wkt()[0]"
   ]
  },
  {
   "cell_type": "code",
   "execution_count": 111,
   "metadata": {},
   "outputs": [
    {
     "name": "stdout",
     "output_type": "stream",
     "text": [
      "(7023, 31)\n"
     ]
    },
    {
     "data": {
      "text/html": [
       "<div>\n",
       "<style scoped>\n",
       "    .dataframe tbody tr th:only-of-type {\n",
       "        vertical-align: middle;\n",
       "    }\n",
       "\n",
       "    .dataframe tbody tr th {\n",
       "        vertical-align: top;\n",
       "    }\n",
       "\n",
       "    .dataframe thead th {\n",
       "        text-align: right;\n",
       "    }\n",
       "</style>\n",
       "<table border=\"1\" class=\"dataframe\">\n",
       "  <thead>\n",
       "    <tr style=\"text-align: right;\">\n",
       "      <th></th>\n",
       "      <th>x</th>\n",
       "      <th>y</th>\n",
       "      <th>street_count</th>\n",
       "      <th>geometry</th>\n",
       "      <th>cve_geo_ageb</th>\n",
       "      <th>cve_ent</th>\n",
       "      <th>cve_mun</th>\n",
       "      <th>cve_loc</th>\n",
       "      <th>cve_ageb</th>\n",
       "      <th>CVE_AGEB</th>\n",
       "      <th>...</th>\n",
       "      <th>ovsde</th>\n",
       "      <th>ovsee</th>\n",
       "      <th>ovsae</th>\n",
       "      <th>ovpt</th>\n",
       "      <th>ovsref</th>\n",
       "      <th>ovsint</th>\n",
       "      <th>ovscel</th>\n",
       "      <th>ovhac</th>\n",
       "      <th>im_2020</th>\n",
       "      <th>imn_2020</th>\n",
       "    </tr>\n",
       "  </thead>\n",
       "  <tbody>\n",
       "    <tr>\n",
       "      <th>0</th>\n",
       "      <td>-103.390163</td>\n",
       "      <td>20.729463</td>\n",
       "      <td>0</td>\n",
       "      <td>POINT (-103.39016 20.72946)</td>\n",
       "      <td>1412000011009</td>\n",
       "      <td>14</td>\n",
       "      <td>120</td>\n",
       "      <td>0001</td>\n",
       "      <td>1009</td>\n",
       "      <td>1412000011009</td>\n",
       "      <td>...</td>\n",
       "      <td>0.0</td>\n",
       "      <td>0.0</td>\n",
       "      <td>0.0</td>\n",
       "      <td>0.0</td>\n",
       "      <td>0.0</td>\n",
       "      <td>0.065945</td>\n",
       "      <td>0.01293</td>\n",
       "      <td>0.041377</td>\n",
       "      <td>123.6562</td>\n",
       "      <td>0.965956</td>\n",
       "    </tr>\n",
       "    <tr>\n",
       "      <th>1</th>\n",
       "      <td>-103.390221</td>\n",
       "      <td>20.728953</td>\n",
       "      <td>0</td>\n",
       "      <td>POINT (-103.39022 20.72895)</td>\n",
       "      <td>1412000011009</td>\n",
       "      <td>14</td>\n",
       "      <td>120</td>\n",
       "      <td>0001</td>\n",
       "      <td>1009</td>\n",
       "      <td>1412000011009</td>\n",
       "      <td>...</td>\n",
       "      <td>0.0</td>\n",
       "      <td>0.0</td>\n",
       "      <td>0.0</td>\n",
       "      <td>0.0</td>\n",
       "      <td>0.0</td>\n",
       "      <td>0.065945</td>\n",
       "      <td>0.01293</td>\n",
       "      <td>0.041377</td>\n",
       "      <td>123.6562</td>\n",
       "      <td>0.965956</td>\n",
       "    </tr>\n",
       "  </tbody>\n",
       "</table>\n",
       "<p>2 rows × 31 columns</p>\n",
       "</div>"
      ],
      "text/plain": [
       "            x          y  street_count                     geometry  \\\n",
       "0 -103.390163  20.729463             0  POINT (-103.39016 20.72946)   \n",
       "1 -103.390221  20.728953             0  POINT (-103.39022 20.72895)   \n",
       "\n",
       "    cve_geo_ageb cve_ent cve_mun cve_loc cve_ageb       CVE_AGEB  ...  ovsde  \\\n",
       "0  1412000011009      14     120    0001     1009  1412000011009  ...    0.0   \n",
       "1  1412000011009      14     120    0001     1009  1412000011009  ...    0.0   \n",
       "\n",
       "  ovsee  ovsae ovpt  ovsref    ovsint   ovscel     ovhac   im_2020  imn_2020  \n",
       "0   0.0    0.0  0.0     0.0  0.065945  0.01293  0.041377  123.6562  0.965956  \n",
       "1   0.0    0.0  0.0     0.0  0.065945  0.01293  0.041377  123.6562  0.965956  \n",
       "\n",
       "[2 rows x 31 columns]"
      ]
     },
     "execution_count": 111,
     "metadata": {},
     "output_type": "execute_result"
    }
   ],
   "source": [
    "query = f\"SELECT * FROM censo.nodes_marg_2020 WHERE (ST_Intersects(geometry, \\'SRID=4326; {poly_wkt}\\'))\"\n",
    "nodes_marg = aup.gdf_from_query(query, geometry_col='geometry')\n",
    "print(nodes_marg.shape)\n",
    "nodes_marg.head(2)"
   ]
  },
  {
   "cell_type": "code",
   "execution_count": 112,
   "metadata": {},
   "outputs": [
    {
     "data": {
      "text/plain": [
       "<AxesSubplot:>"
      ]
     },
     "execution_count": 112,
     "metadata": {},
     "output_type": "execute_result"
    },
    {
     "data": {
      "image/png": "[encoded data removed]",
      "text/plain": [
       "<Figure size 432x288 with 1 Axes>"
      ]
     },
     "metadata": {
      "needs_background": "light"
     },
     "output_type": "display_data"
    }
   ],
   "source": [
    "nodes_marg.plot('im_2020')"
   ]
  },
  {
   "cell_type": "code",
   "execution_count": 113,
   "metadata": {},
   "outputs": [],
   "source": [
    "avg_column = [\n",
    "    \"imn_2020\",\n",
    "    \"im_2020\",\n",
    "]\n",
    "# sum data for weighted averaged\n",
    "avg_dict = {\n",
    "    \"imn_2020\":\"pobtot\",\n",
    "    \"im_2020\":\"pobtot\",\n",
    "}\n",
    "\n",
    "string_columns = []"
   ]
  },
  {
   "cell_type": "code",
   "execution_count": 114,
   "metadata": {},
   "outputs": [],
   "source": [
    "hex_group = hex_group.to_crs(\"EPSG:4326\")\n",
    "\n",
    "hex_marg = aup.socio_points_to_polygon(hex_group, nodes_marg[['pobtot','imn_2020',\n",
    "                                                             'im_2020','geometry']],\n",
    "                                        'hex_id_9',\n",
    "                                     string_columns=[],\n",
    "                                       wgt_dict=avg_dict,\n",
    "                                       avg_column=avg_column)\n",
    "hex_marg.drop(columns='pobtot', inplace=True)"
   ]
  },
  {
   "cell_type": "code",
   "execution_count": 115,
   "metadata": {},
   "outputs": [
    {
     "name": "stdout",
     "output_type": "stream",
     "text": [
      "(28, 21)\n"
     ]
    },
    {
     "data": {
      "text/html": [
       "<div>\n",
       "<style scoped>\n",
       "    .dataframe tbody tr th:only-of-type {\n",
       "        vertical-align: middle;\n",
       "    }\n",
       "\n",
       "    .dataframe tbody tr th {\n",
       "        vertical-align: top;\n",
       "    }\n",
       "\n",
       "    .dataframe thead th {\n",
       "        text-align: right;\n",
       "    }\n",
       "</style>\n",
       "<table border=\"1\" class=\"dataframe\">\n",
       "  <thead>\n",
       "    <tr style=\"text-align: right;\">\n",
       "      <th></th>\n",
       "      <th>hex_id_9</th>\n",
       "      <th>geometry</th>\n",
       "      <th>pobtot</th>\n",
       "      <th>pobfem</th>\n",
       "      <th>pobmas</th>\n",
       "      <th>p_0a2</th>\n",
       "      <th>p_3a5</th>\n",
       "      <th>p_6a11</th>\n",
       "      <th>p_12a14</th>\n",
       "      <th>p_15a17</th>\n",
       "      <th>...</th>\n",
       "      <th>p_18ymas</th>\n",
       "      <th>p_60ymas</th>\n",
       "      <th>vivtot</th>\n",
       "      <th>tvivparhab</th>\n",
       "      <th>vivpar_des</th>\n",
       "      <th>tothog</th>\n",
       "      <th>hogjef_f</th>\n",
       "      <th>dens_pobha</th>\n",
       "      <th>imn_2020</th>\n",
       "      <th>im_2020</th>\n",
       "    </tr>\n",
       "  </thead>\n",
       "  <tbody>\n",
       "    <tr>\n",
       "      <th>0</th>\n",
       "      <td>89498c9490fffff</td>\n",
       "      <td>POLYGON ((669760.776 2295877.063, 669886.017 2...</td>\n",
       "      <td>393.0</td>\n",
       "      <td>167.0</td>\n",
       "      <td>178.0</td>\n",
       "      <td>-12.0</td>\n",
       "      <td>-10.0</td>\n",
       "      <td>30.0</td>\n",
       "      <td>-6.0</td>\n",
       "      <td>3.0</td>\n",
       "      <td>...</td>\n",
       "      <td>231.0</td>\n",
       "      <td>19.0</td>\n",
       "      <td>123.0</td>\n",
       "      <td>89.0</td>\n",
       "      <td>0.0</td>\n",
       "      <td>89.0</td>\n",
       "      <td>5.0</td>\n",
       "      <td>31.498239</td>\n",
       "      <td>0.972287</td>\n",
       "      <td>124.46669</td>\n",
       "    </tr>\n",
       "    <tr>\n",
       "      <th>1</th>\n",
       "      <td>89498c94993ffff</td>\n",
       "      <td>POLYGON ((669290.411 2294203.919, 669415.651 2...</td>\n",
       "      <td>354.0</td>\n",
       "      <td>200.0</td>\n",
       "      <td>154.0</td>\n",
       "      <td>12.0</td>\n",
       "      <td>17.0</td>\n",
       "      <td>30.0</td>\n",
       "      <td>13.0</td>\n",
       "      <td>24.0</td>\n",
       "      <td>...</td>\n",
       "      <td>258.0</td>\n",
       "      <td>40.0</td>\n",
       "      <td>96.0</td>\n",
       "      <td>92.0</td>\n",
       "      <td>3.0</td>\n",
       "      <td>92.0</td>\n",
       "      <td>40.0</td>\n",
       "      <td>28.373627</td>\n",
       "      <td>0.966689</td>\n",
       "      <td>123.750034</td>\n",
       "    </tr>\n",
       "  </tbody>\n",
       "</table>\n",
       "<p>2 rows × 21 columns</p>\n",
       "</div>"
      ],
      "text/plain": [
       "          hex_id_9                                           geometry pobtot  \\\n",
       "0  89498c9490fffff  POLYGON ((669760.776 2295877.063, 669886.017 2...  393.0   \n",
       "1  89498c94993ffff  POLYGON ((669290.411 2294203.919, 669415.651 2...  354.0   \n",
       "\n",
       "  pobfem pobmas p_0a2 p_3a5 p_6a11 p_12a14 p_15a17  ... p_18ymas p_60ymas  \\\n",
       "0  167.0  178.0 -12.0 -10.0   30.0    -6.0     3.0  ...    231.0     19.0   \n",
       "1  200.0  154.0  12.0  17.0   30.0    13.0    24.0  ...    258.0     40.0   \n",
       "\n",
       "  vivtot tvivparhab vivpar_des tothog hogjef_f dens_pobha  imn_2020  \\\n",
       "0  123.0       89.0        0.0   89.0      5.0  31.498239  0.972287   \n",
       "1   96.0       92.0        3.0   92.0     40.0  28.373627  0.966689   \n",
       "\n",
       "      im_2020  \n",
       "0   124.46669  \n",
       "1  123.750034  \n",
       "\n",
       "[2 rows x 21 columns]"
      ]
     },
     "execution_count": 115,
     "metadata": {},
     "output_type": "execute_result"
    }
   ],
   "source": [
    "hex_socio = hex_mrg.merge(hex_marg, on='hex_id_9')\n",
    "print(hex_socio.shape)\n",
    "hex_socio.head(2)"
   ]
  },
  {
   "cell_type": "code",
   "execution_count": 116,
   "metadata": {},
   "outputs": [
    {
     "data": {
      "text/plain": [
       "<AxesSubplot:>"
      ]
     },
     "execution_count": 116,
     "metadata": {},
     "output_type": "execute_result"
    },
    {
     "data": {
      "image/png": "[encoded data removed]",
      "text/plain": [
       "<Figure size 432x288 with 1 Axes>"
      ]
     },
     "metadata": {
      "needs_background": "light"
     },
     "output_type": "display_data"
    }
   ],
   "source": [
    "hex_socio.plot(\"im_2020\", \"viridis\")"
   ]
  },
  {
   "cell_type": "code",
   "execution_count": 117,
   "metadata": {},
   "outputs": [],
   "source": [
    "marg_limits = {'Muy alto':[115.212, 53.445],\n",
    "'Alto':[118.609,115.212],\n",
    "'Medio':[121.157, 118.609],\n",
    "'Bajo':[123.705, 121.157],\n",
    "'Muy bajo':[127.951, 123.705]}\n",
    "\n",
    "\n",
    "#nse to hex bins\n",
    "hex_socio['gm_2020'] = np.nan\n",
    "for n in list(marg_limits.keys()):\n",
    "    upper_marg = marg_limits[n][0]\n",
    "    lower_marg = marg_limits[n][1]\n",
    "    hex_socio.loc[(hex_socio['im_2020']>lower_marg)&\n",
    "                (hex_socio['im_2020']<=upper_marg),'gm_2020'] = n"
   ]
  },
  {
   "cell_type": "code",
   "execution_count": 119,
   "metadata": {},
   "outputs": [],
   "source": [
    "type_dict = {'string':['hex_id_9','gm_2020'],\n",
    "             'integer':['pobtot','pobfem','pobmas','p_0a2',\n",
    "                 'p_3a5','p_6a11','p_12a14','p_15a17','p_18a24',\n",
    "                 'p_18ymas','p_60ymas','vivtot','tvivparhab',\n",
    "                 'vivpar_des','tothog','hogjef_f'],\n",
    "             'float':['im_2020','imn_2020']  \n",
    "}\n",
    "hex_socio = aup.convert_type(hex_socio, type_dict)"
   ]
  },
  {
   "cell_type": "code",
   "execution_count": 120,
   "metadata": {},
   "outputs": [],
   "source": [
    "hex_socio.to_file('/home/edgar/SIG/ObsCds/'+\n",
    "                   'Proyectos/Museo_CienciasAmbientales/Info_Sociodemografica/'+\n",
    "                   'hexSocio_10min_RutasLomasCentinela_v1.geojson',\n",
    "                    driver='GeoJSON')"
   ]
  },
  {
   "cell_type": "code",
   "execution_count": null,
   "metadata": {},
   "outputs": [],
   "source": []
  }
 ],
 "metadata": {
  "kernelspec": {
   "display_name": "Python 3",
   "language": "python",
   "name": "python3"
  },
  "language_info": {
   "codemirror_mode": {
    "name": "ipython",
    "version": 3
   },
   "file_extension": ".py",
   "mimetype": "text/x-python",
   "name": "python",
   "nbconvert_exporter": "python",
   "pygments_lexer": "ipython3",
   "version": "3.8.12"
  }
 },
 "nbformat": 4,
 "nbformat_minor": 4
}
