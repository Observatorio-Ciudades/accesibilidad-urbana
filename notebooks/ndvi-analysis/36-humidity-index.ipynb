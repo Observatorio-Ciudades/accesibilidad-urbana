{
 "cells": [
  {
   "cell_type": "code",
   "execution_count": 1,
   "id": "d50e81ae-9919-435f-aef4-a63443ffe38e",
   "metadata": {},
   "outputs": [
    {
     "name": "stderr",
     "output_type": "stream",
     "text": [
      "/home/edgaregurrola/.local/lib/python3.10/site-packages/geopandas/_compat.py:112: UserWarning: The Shapely GEOS version (3.10.2-CAPI-1.16.0) is incompatible with the GEOS version PyGEOS was compiled with (3.10.1-CAPI-1.16.0). Conversions between both will be slow.\n",
      "  warnings.warn(\n",
      "/home/edgaregurrola/.local/lib/python3.10/site-packages/osmnx/utils.py:192: UserWarning: The `utils.config` function is deprecated and will be removed in a future release. Instead, use the `settings` module directly to configure a global setting's value. For example, `ox.settings.log_console=True`.\n",
      "  warnings.warn(\n"
     ]
    }
   ],
   "source": [
    "from pystac_client import Client\n",
    "from pystac.extensions.eo import EOExtension as eo\n",
    "import planetary_computer as pc\n",
    "import geopandas as gpd\n",
    "import h3\n",
    "import pandas as pd\n",
    "\n",
    "import rasterio\n",
    "from rasterio import windows\n",
    "from rasterio import features\n",
    "from rasterio import warp\n",
    "import rasterio.mask\n",
    "\n",
    "import numpy as np\n",
    "from PIL import Image\n",
    "\n",
    "from shapely.geometry import Point\n",
    "\n",
    "from tqdm import tqdm\n",
    "\n",
    "import os\n",
    "import sys\n",
    "module_path = os.path.abspath(os.path.join('../../'))\n",
    "if module_path not in sys.path:\n",
    "    sys.path.append(module_path)\n",
    "    import aup"
   ]
  },
  {
   "cell_type": "markdown",
   "id": "141445a8-4634-4b3f-8ffd-9621771efd32",
   "metadata": {},
   "source": [
    "## Download data"
   ]
  },
  {
   "cell_type": "markdown",
   "id": "d746130b-7882-4a25-a429-3208af045713",
   "metadata": {},
   "source": [
    "### Municipality GeoDataFrame"
   ]
  },
  {
   "cell_type": "code",
   "execution_count": 4,
   "id": "e600f7db-06cc-417b-b6aa-25a51a357fea",
   "metadata": {},
   "outputs": [
    {
     "name": "stdout",
     "output_type": "stream",
     "text": [
      "(10, 6)\n"
     ]
    },
    {
     "data": {
      "text/plain": [
       "<AxesSubplot:>"
      ]
     },
     "execution_count": 4,
     "metadata": {},
     "output_type": "execute_result"
    },
    {
     "data": {
      "image/png": "[encoded data removed]",
      "text/plain": [
       "<Figure size 432x288 with 1 Axes>"
      ]
     },
     "metadata": {
      "needs_background": "light"
     },
     "output_type": "display_data"
    }
   ],
   "source": [
    "city = 'Guadalajara'\n",
    "query = f\"SELECT * FROM metropolis.metro_list WHERE \\\"city\\\" LIKE \\'{city}\\'\"\n",
    "mun_gdf = aup.gdf_from_query(query, geometry_col='geometry')\n",
    "print(mun_gdf.shape)\n",
    "mun_gdf.plot()"
   ]
  },
  {
   "cell_type": "markdown",
   "id": "822c3c2d-d368-493c-8787-4bd4201a0c56",
   "metadata": {},
   "source": [
    "### Hex-bins GeoDataFrame"
   ]
  },
  {
   "cell_type": "code",
   "execution_count": null,
   "id": "5c4a3d93-48c9-4a14-8b6f-3b96163b6c97",
   "metadata": {
    "tags": []
   },
   "outputs": [],
   "source": [
    "mpos = list(mun_gdf.CVEGEO.unique())\n",
    "\n",
    "hex_ageb = gpd.GeoDataFrame()\n",
    "\n",
    "schema = 'censo'\n",
    "folder = 'hex_bins_pop_2020'\n",
    "\n",
    "for m in mpos:\n",
    "    query = f\"SELECT hex_id_8,geometry FROM {schema}.{folder} WHERE \\\"CVEGEO\\\" LIKE \\'{m}%%\\'\"\n",
    "    hex_ageb = pd.concat([hex_ageb, \n",
    "                          aup.gdf_from_query(query, geometry_col='geometry')], \n",
    "                         ignore_index = True, axis = 0)\n",
    "\n",
    "print(hex_ageb.shape)\n",
    "hex_ageb.plot()"
   ]
  },
  {
   "cell_type": "markdown",
   "id": "f8a0785c-8ba8-4e48-9a3b-65e3bee71286",
   "metadata": {},
   "source": [
    "## Humidity index analysis"
   ]
  },
  {
   "cell_type": "markdown",
   "id": "35e3b32f-eab7-4d91-8b45-9dbcac79c5cd",
   "metadata": {},
   "source": [
    "### Gather random hex-bin"
   ]
  },
  {
   "cell_type": "code",
   "execution_count": 4,
   "id": "1f1e11cc-fd80-442e-acf1-083e690d2fef",
   "metadata": {},
   "outputs": [],
   "source": [
    "hex_analysis = hex_ageb.sample(1)"
   ]
  },
  {
   "cell_type": "code",
   "execution_count": null,
   "id": "9e3a5a87-c90c-4c95-b562-996be50fb42f",
   "metadata": {},
   "outputs": [],
   "source": [
    "hex_analysis = hex_ageb.loc[hex_ageb.hex_id_8 == '8849ab4b6dfffff']"
   ]
  },
  {
   "cell_type": "code",
   "execution_count": null,
   "id": "eee17f0d-9a05-4af7-b66a-21e12b8151c4",
   "metadata": {},
   "outputs": [],
   "source": [
    "hex_indexes = str(tuple(h3.h3_to_children(hex_analysis.hex_id_8.values[0], 9)))\n",
    "schema = 'hexgrid' \n",
    "table = 'hexgrid_9'\n",
    "query = f'SELECT hex_id_9,geometry FROM {schema}.{table} WHERE \"hex_id_9\" IN {hex_indexes}'\n",
    "hex_analysis_res9 = aup.gdf_from_query(query, geometry_col='geometry')\n",
    "print(hex_analysis_res9.shape)\n",
    "hex_analysis_res9.plot()"
   ]
  },
  {
   "cell_type": "markdown",
   "id": "74b2b894-6fd4-402f-b042-37258b33e25d",
   "metadata": {},
   "source": [
    "### Create boundaries for imagery download"
   ]
  },
  {
   "cell_type": "code",
   "execution_count": null,
   "id": "8c04cf2a-b32f-4257-9364-c7f41544f82d",
   "metadata": {},
   "outputs": [],
   "source": [
    "# Reads mun_gdf GeoDataFrame as polygon\n",
    "poly = hex_analysis.geometry\n",
    "# Extracts coordinates from polygon as DataFrame\n",
    "coord_val = poly.bounds\n",
    "# Gets coordinates for bounding box\n",
    "n = coord_val.maxy.max()\n",
    "s = coord_val.miny.min()\n",
    "e = coord_val.maxx.max()\n",
    "w = coord_val.minx.min()"
   ]
  },
  {
   "cell_type": "markdown",
   "id": "f804edae-8a43-499c-b95d-4c9f66b4a77f",
   "metadata": {},
   "source": [
    "#### Generate polygon dictionary"
   ]
  },
  {
   "cell_type": "code",
   "execution_count": null,
   "id": "4d5f1e8f-2bea-4d5c-8ac9-45483647d313",
   "metadata": {},
   "outputs": [],
   "source": [
    "area_of_interest = {\n",
    "    \"type\": \"Polygon\",\n",
    "    \"coordinates\": [\n",
    "        [\n",
    "            [e, s],\n",
    "            [w, s],\n",
    "            [w, n],\n",
    "            [e, n],\n",
    "            [e, s],\n",
    "        ]\n",
    "    ],\n",
    "}"
   ]
  },
  {
   "cell_type": "markdown",
   "id": "c31974b7-9337-4a01-9193-53b3c5f6a3f3",
   "metadata": {},
   "source": [
    "### Define time period for imagery"
   ]
  },
  {
   "cell_type": "code",
   "execution_count": null,
   "id": "8de2afd9-fcc8-42e5-801f-da913187e4ad",
   "metadata": {},
   "outputs": [],
   "source": [
    "time_of_interest = \"2020-01-01/2021-12-31\""
   ]
  },
  {
   "cell_type": "markdown",
   "id": "fb21cb02-d1aa-457b-a690-d44b01f4db2d",
   "metadata": {},
   "source": [
    "### Identify imagery"
   ]
  },
  {
   "cell_type": "markdown",
   "id": "69506556-6367-4d19-93a1-b49b427a161e",
   "metadata": {},
   "source": [
    "This section identifies satellite imagery that meets the requeirments for the Satellite (sentinel-2-l2a), area_of_interest, time_of_interest and limit for cloud cover (10%)."
   ]
  },
  {
   "cell_type": "code",
   "execution_count": null,
   "id": "83edff9d-b92b-4deb-beea-aaa259dfb516",
   "metadata": {},
   "outputs": [],
   "source": [
    "catalog = Client.open(\"https://planetarycomputer.microsoft.com/api/stac/v1\")\n",
    "\n",
    "search = catalog.search(\n",
    "    collections=[\"sentinel-2-l2a\"],\n",
    "    intersects=area_of_interest,\n",
    "    datetime=time_of_interest,\n",
    "    query={\"eo:cloud_cover\": {\"lt\": 10}},\n",
    ")\n",
    "\n",
    "# Check how many items were returned\n",
    "items = list(search.get_items())\n",
    "print(f\"Returned {len(items)} Items\")"
   ]
  },
  {
   "cell_type": "markdown",
   "id": "1f7ff18b-dbc3-48a6-b6ff-8976ec22771c",
   "metadata": {},
   "source": [
    "### Gather links for imagery bands"
   ]
  },
  {
   "cell_type": "markdown",
   "id": "fd416285-c15a-4b18-9c3c-6d3b8f71b087",
   "metadata": {},
   "source": [
    "Identify download links for Near Infrared (nir) and Green bands for each date that meets the requierments."
   ]
  },
  {
   "cell_type": "code",
   "execution_count": null,
   "id": "7b0e53fa-adcc-476b-985a-4e82a0ddc813",
   "metadata": {},
   "outputs": [],
   "source": [
    "def find_asset_by_band_common_name(item, common_name):\n",
    "    for asset in item.assets.values():\n",
    "        asset_bands = eo.ext(asset).bands\n",
    "        if asset_bands and asset_bands[0].common_name == common_name:\n",
    "            return asset\n",
    "    raise KeyError(f\"{common_name} band not found\")"
   ]
  },
  {
   "cell_type": "code",
   "execution_count": null,
   "id": "6e680e6f-166f-4ac6-a3fd-d0cd6378be9e",
   "metadata": {},
   "outputs": [],
   "source": [
    "assets_hrefs = {}\n",
    "\n",
    "for i in items:\n",
    "    assets_hrefs[i.datetime.date()] = [pc.sign(find_asset_by_band_common_name(i,\"rededge\").href)]\n",
    "    assets_hrefs[i.datetime.date()].append(pc.sign(find_asset_by_band_common_name(i,\"swir16\").href))"
   ]
  },
  {
   "cell_type": "markdown",
   "id": "f0709ea4-23c9-4842-bf0c-0daf64228e10",
   "metadata": {},
   "source": [
    "## Raster to points"
   ]
  },
  {
   "cell_type": "markdown",
   "id": "2104bd95-958d-4f70-abc1-0fb5857d77be",
   "metadata": {},
   "source": [
    "Transform pixel from raster to points with NDVI values."
   ]
  },
  {
   "cell_type": "code",
   "execution_count": 12,
   "id": "bd22a229-ac58-4b19-a28e-4c6ef8503266",
   "metadata": {},
   "outputs": [],
   "source": [
    "def raster_to_point(href, gdf):\n",
    "    \n",
    "    with rasterio.open(href) as ds:\n",
    "\n",
    "        gdf_tmp = gdf.copy()\n",
    "        gdf_tmp = gdf_tmp.to_crs(\"EPSG:\"+str(ds.crs.to_epsg()))\n",
    "        gdf_tmp = gdf_tmp.buffer(1).reset_index().rename(columns={0:'geometry'})\n",
    "        poly_mask = gdf_tmp.dissolve().geometry\n",
    "\n",
    "        out_mask, out_transform = rasterio.mask.mask(ds, poly_mask, crop=True)\n",
    "        out_meta = ds.meta\n",
    "        \n",
    "        ds.close()\n",
    "\n",
    "    out_meta.update({\"driver\": \"GTiff\",\n",
    "                     \"height\": out_mask.shape[1],\n",
    "                     \"width\": out_mask.shape[2],\n",
    "                     \"transform\": out_transform})\n",
    "\n",
    "    with rasterio.open(\"tmp/masked.tif\", \"w\", **out_meta) as dest:\n",
    "        dest.write(out_mask)\n",
    "        \n",
    "        dest.close()\n",
    "\n",
    "    with rasterio.open(\"tmp/masked.tif\", \"r\", **out_meta) as src:\n",
    "\n",
    "        val = src.read(1)\n",
    "        no_data=src.nodata\n",
    "        geometry = [Point(src.xy(x,y)[0],src.xy(x,y)[1]) \n",
    "                    for x,y in np.ndindex(val.shape) if val[x,y] != no_data]\n",
    "        v = [val[x,y] for x,y in np.ndindex(val.shape) if val[x,y] != no_data]\n",
    "        gdf = gpd.GeoDataFrame({'geometry':geometry,'data':v})\n",
    "        gdf.crs = src.crs\n",
    "        \n",
    "        src.close()\n",
    "        \n",
    "    return gdf"
   ]
  },
  {
   "cell_type": "code",
   "execution_count": 158,
   "id": "40d84544-3e48-41ea-a6ed-03eb845ce954",
   "metadata": {
    "tags": []
   },
   "outputs": [
    {
     "name": "stderr",
     "output_type": "stream",
     "text": [
      "100%|████████████████████████████████████████████████████████████████████████████████████████████████████████████████████| 72/72 [04:52<00:00,  4.06s/it]\n"
     ]
    }
   ],
   "source": [
    "ndvi_dict = {}\n",
    "\n",
    "for k in tqdm(assets_hrefs.keys(), position=0, leave=True):\n",
    "    g = raster_to_point(assets_hrefs[k][0], hex_analysis) # green band\n",
    "    nir = raster_to_point(assets_hrefs[k][1], hex_analysis) # near-infrared band\n",
    "    ndvi_gdf = g.merge(nir[['data']], left_index=True, right_index=True)\n",
    "    ndvi_gdf.rename(columns={'data_x':'rededge','data_y':'swir16'}, inplace=True)\n",
    "    ndvi_gdf['humidity_idx'] = (ndvi_gdf['rededge']-ndvi_gdf['swir16'])/(ndvi_gdf['rededge']+ndvi_gdf['swir16'])\n",
    "    ndvi_gdf = ndvi_gdf.to_crs(\"EPSG:4326\")\n",
    "    \n",
    "    for hex_idx in hex_analysis_res9.hex_id_9:\n",
    "        hex_tmp = hex_analysis_res9.loc[hex_analysis_res9.hex_id_9==hex_idx]\n",
    "        clipped_ndvi = gpd.clip(ndvi_gdf_tmp, hex_tmp)\n",
    "        \n",
    "        if hex_idx in ndvi_dict.keys():\n",
    "            ndvi_dict[hex_idx].append(clipped_ndvi.ndvi.mean())\n",
    "        else:\n",
    "            ndvi_dict[hex_idx] = []\n",
    "            ndvi_dict[hex_idx].append(clipped_ndvi.ndvi.mean())"
   ]
  },
  {
   "cell_type": "code",
   "execution_count": 159,
   "id": "4000ad35-e404-4863-8ecf-c3e01bb27401",
   "metadata": {},
   "outputs": [],
   "source": [
    "for hex_idx in ndvi_dict.keys():\n",
    "    ndvi_dict[hex_idx] = sum(ndvi_dict[hex_idx]) / len(ndvi_dict[hex_idx])"
   ]
  },
  {
   "cell_type": "code",
   "execution_count": 162,
   "id": "f1e15a9c-0dd0-4fad-9257-33b5030b8233",
   "metadata": {},
   "outputs": [
    {
     "data": {
      "text/plain": [
       "{'8949aa2c233ffff': 0.508688197942885,\n",
       " '8949aa2c22fffff': 0.4667339273457528,\n",
       " '8949aa2c223ffff': 0.4946046939660508,\n",
       " '8949aa2c23bffff': 0.43145972525365317,\n",
       " '8949aa2c237ffff': 0.5032111018116076,\n",
       " '8949aa2c22bffff': 0.3621553174656935,\n",
       " '8949aa2c227ffff': 0.47060359360140347}"
      ]
     },
     "execution_count": 162,
     "metadata": {},
     "output_type": "execute_result"
    }
   ],
   "source": [
    "ndvi_dict"
   ]
  },
  {
   "cell_type": "code",
   "execution_count": 167,
   "id": "4e47b2fc-d129-43fd-887d-26bce60d44bb",
   "metadata": {},
   "outputs": [],
   "source": [
    "hex_ndvi_res9 = pd.DataFrame.from_dict(ndvi_dict, \n",
    "                       orient='index').reset_index().rename(\n",
    "    columns={'index':'hex_id_9', 0:'ndvi'})\n",
    "hex_ndvi_res9 = pd.merge(hex_analysis_res9, hex_ndvi_res9, on='hex_id_9')"
   ]
  },
  {
   "cell_type": "code",
   "execution_count": 168,
   "id": "311b8bb5-6fff-496c-9b8d-268826e15acb",
   "metadata": {},
   "outputs": [
    {
     "data": {
      "text/plain": [
       "<AxesSubplot:>"
      ]
     },
     "execution_count": 168,
     "metadata": {},
     "output_type": "execute_result"
    },
    {
     "data": {
      "image/png": "[encoded data removed]",
      "text/plain": [
       "<Figure size 432x288 with 1 Axes>"
      ]
     },
     "metadata": {
      "needs_background": "light"
     },
     "output_type": "display_data"
    }
   ],
   "source": [
    "hex_ndvi_res9.plot('ndvi')"
   ]
  },
  {
   "cell_type": "code",
   "execution_count": 173,
   "id": "9b994e49-b717-4dce-8483-994980f01c54",
   "metadata": {},
   "outputs": [
    {
     "data": {
      "text/plain": [
       "0.4624937939124351"
      ]
     },
     "execution_count": 173,
     "metadata": {},
     "output_type": "execute_result"
    }
   ],
   "source": [
    "sum(ndvi_dict.values()) /len(ndvi_dict.values())"
   ]
  },
  {
   "cell_type": "code",
   "execution_count": null,
   "id": "e3061908-81ed-4394-b397-275f51780c30",
   "metadata": {},
   "outputs": [],
   "source": []
  }
 ],
 "metadata": {
  "kernelspec": {
   "display_name": "Python 3 (ipykernel)",
   "language": "python",
   "name": "python3"
  },
  "language_info": {
   "codemirror_mode": {
    "name": "ipython",
    "version": 3
   },
   "file_extension": ".py",
   "mimetype": "text/x-python",
   "name": "python",
   "nbconvert_exporter": "python",
   "pygments_lexer": "ipython3",
   "version": "3.10.4"
  }
 },
 "nbformat": 4,
 "nbformat_minor": 5
}
