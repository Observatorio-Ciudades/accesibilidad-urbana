{
 "cells": [
  {
   "cell_type": "code",
   "execution_count": 1,
   "id": "f55b84c5-7713-4937-badd-8f84bfdf74c5",
   "metadata": {},
   "outputs": [
    {
     "name": "stderr",
     "output_type": "stream",
     "text": [
      "/home/edgar/anaconda3/envs/geo_env/lib/python3.8/site-packages/geopandas/_compat.py:111: UserWarning: The Shapely GEOS version (3.10.1-CAPI-1.16.0) is incompatible with the GEOS version PyGEOS was compiled with (3.9.1-CAPI-1.14.2). Conversions between both will be slow.\n",
      "  warnings.warn(\n"
     ]
    }
   ],
   "source": [
    "import geopandas as gpd\n",
    "import pandas as pd\n",
    "import numpy as np\n",
    "import osmnx as ox\n",
    "import igraph as ig\n",
    "import matplotlib.pyplot as plt\n",
    "from shapely.geometry import Polygon\n",
    "import random\n",
    "import h3\n",
    "from tqdm import tqdm\n",
    "\n",
    "\n",
    "import os\n",
    "import sys\n",
    "module_path = os.path.abspath(os.path.join('..'))\n",
    "if module_path not in sys.path:\n",
    "    sys.path.append(module_path)\n",
    "    import aup"
   ]
  },
  {
   "cell_type": "markdown",
   "id": "88013576-5bf7-4b0c-b80b-3a98b9a2e2b2",
   "metadata": {
    "tags": []
   },
   "source": [
    "## Urban centralities"
   ]
  },
  {
   "cell_type": "markdown",
   "id": "1f443ab4-d5aa-4c68-9103-3da2c919de2f",
   "metadata": {
    "tags": []
   },
   "source": [
    "### AMG"
   ]
  },
  {
   "cell_type": "code",
   "execution_count": 2,
   "id": "4bd2a586-b870-4184-9b80-b6243855a052",
   "metadata": {},
   "outputs": [
    {
     "name": "stdout",
     "output_type": "stream",
     "text": [
      "(10, 4)\n"
     ]
    },
    {
     "data": {
      "text/html": [
       "<div>\n",
       "<style scoped>\n",
       "    .dataframe tbody tr th:only-of-type {\n",
       "        vertical-align: middle;\n",
       "    }\n",
       "\n",
       "    .dataframe tbody tr th {\n",
       "        vertical-align: top;\n",
       "    }\n",
       "\n",
       "    .dataframe thead th {\n",
       "        text-align: right;\n",
       "    }\n",
       "</style>\n",
       "<table border=\"1\" class=\"dataframe\">\n",
       "  <thead>\n",
       "    <tr style=\"text-align: right;\">\n",
       "      <th></th>\n",
       "      <th>year</th>\n",
       "      <th>layer</th>\n",
       "      <th>path</th>\n",
       "      <th>geometry</th>\n",
       "    </tr>\n",
       "  </thead>\n",
       "  <tbody>\n",
       "    <tr>\n",
       "      <th>0</th>\n",
       "      <td>1980</td>\n",
       "      <td>1902-1940</td>\n",
       "      <td>/home/edgar/SIG/ObsCds/Proyectos/Guggenheim/Me...</td>\n",
       "      <td>MULTIPOLYGON (((684400.887 2265337.193, 683917...</td>\n",
       "    </tr>\n",
       "  </tbody>\n",
       "</table>\n",
       "</div>"
      ],
      "text/plain": [
       "   year      layer                                               path  \\\n",
       "0  1980  1902-1940  /home/edgar/SIG/ObsCds/Proyectos/Guggenheim/Me...   \n",
       "\n",
       "                                            geometry  \n",
       "0  MULTIPOLYGON (((684400.887 2265337.193, 683917...  "
      ]
     },
     "execution_count": 2,
     "metadata": {},
     "output_type": "execute_result"
    }
   ],
   "source": [
    "gdf = gpd.read_file('../data/external/Mancha_Urbana/ManchaUrbana_AMG_1902_2020.geojson', driver='GeoJSON')\n",
    "gdf = gdf.to_crs(\"EPSG:32613\")\n",
    "gdf.rename(columns={'A�o':'year'}, inplace=True)\n",
    "print(gdf.shape)\n",
    "gdf.head(1)"
   ]
  },
  {
   "cell_type": "code",
   "execution_count": 3,
   "id": "909d8e31-264d-4cfa-9240-cfa7915c8399",
   "metadata": {},
   "outputs": [
    {
     "data": {
      "text/plain": [
       "<AxesSubplot:>"
      ]
     },
     "execution_count": 3,
     "metadata": {},
     "output_type": "execute_result"
    },
    {
     "data": {
      "image/png": "[encoded data removed]",
      "text/plain": [
       "<Figure size 432x288 with 1 Axes>"
      ]
     },
     "metadata": {
      "needs_background": "light"
     },
     "output_type": "display_data"
    }
   ],
   "source": [
    "gdf.plot()"
   ]
  },
  {
   "cell_type": "markdown",
   "id": "421a420d-20d4-4cfe-a353-885943a6697d",
   "metadata": {},
   "source": [
    "## Municipalities"
   ]
  },
  {
   "cell_type": "markdown",
   "id": "9feb5f35-8430-47ca-86f3-2f2ec0ec66e9",
   "metadata": {},
   "source": [
    "### AMG"
   ]
  },
  {
   "cell_type": "code",
   "execution_count": 7,
   "id": "6c477273-8538-4a6d-aa6d-a7aaf78c1500",
   "metadata": {},
   "outputs": [
    {
     "data": {
      "text/html": [
       "<div>\n",
       "<style scoped>\n",
       "    .dataframe tbody tr th:only-of-type {\n",
       "        vertical-align: middle;\n",
       "    }\n",
       "\n",
       "    .dataframe tbody tr th {\n",
       "        vertical-align: top;\n",
       "    }\n",
       "\n",
       "    .dataframe thead th {\n",
       "        text-align: right;\n",
       "    }\n",
       "</style>\n",
       "<table border=\"1\" class=\"dataframe\">\n",
       "  <thead>\n",
       "    <tr style=\"text-align: right;\">\n",
       "      <th></th>\n",
       "      <th>Guadalajara</th>\n",
       "    </tr>\n",
       "  </thead>\n",
       "  <tbody>\n",
       "    <tr>\n",
       "      <th>edo</th>\n",
       "      <td>[14]</td>\n",
       "    </tr>\n",
       "  </tbody>\n",
       "</table>\n",
       "</div>"
      ],
      "text/plain": [
       "    Guadalajara\n",
       "edo        [14]"
      ]
     },
     "execution_count": 7,
     "metadata": {},
     "output_type": "execute_result"
    }
   ],
   "source": [
    "amg = {\"Guadalajara\":{\"mpos\":[\"14039\", \"14044\", \"14051\", \n",
    "                              \"14070\", \"14097\", \"14098\", \"14101\", \n",
    "                              \"14120\", \"14124\"],\"edo\":[\"14\"]}}\n",
    "df_amg = pd.DataFrame(amg)\n",
    "df_amg.head(1)"
   ]
  },
  {
   "cell_type": "code",
   "execution_count": 8,
   "id": "a9a37528-65e3-4aa8-afdc-21b8d7c8be29",
   "metadata": {},
   "outputs": [
    {
     "name": "stdout",
     "output_type": "stream",
     "text": [
      "(9, 5)\n"
     ]
    },
    {
     "data": {
      "text/html": [
       "<div>\n",
       "<style scoped>\n",
       "    .dataframe tbody tr th:only-of-type {\n",
       "        vertical-align: middle;\n",
       "    }\n",
       "\n",
       "    .dataframe tbody tr th {\n",
       "        vertical-align: top;\n",
       "    }\n",
       "\n",
       "    .dataframe thead th {\n",
       "        text-align: right;\n",
       "    }\n",
       "</style>\n",
       "<table border=\"1\" class=\"dataframe\">\n",
       "  <thead>\n",
       "    <tr style=\"text-align: right;\">\n",
       "      <th></th>\n",
       "      <th>CVEGEO</th>\n",
       "      <th>CVE_ENT</th>\n",
       "      <th>CVE_MUN</th>\n",
       "      <th>NOMGEO</th>\n",
       "      <th>geometry</th>\n",
       "    </tr>\n",
       "  </thead>\n",
       "  <tbody>\n",
       "    <tr>\n",
       "      <th>0</th>\n",
       "      <td>14039</td>\n",
       "      <td>14</td>\n",
       "      <td>039</td>\n",
       "      <td>Guadalajara</td>\n",
       "      <td>POLYGON ((-103.31164 20.75098, -103.31014 20.7...</td>\n",
       "    </tr>\n",
       "  </tbody>\n",
       "</table>\n",
       "</div>"
      ],
      "text/plain": [
       "  CVEGEO CVE_ENT CVE_MUN       NOMGEO  \\\n",
       "0  14039      14     039  Guadalajara   \n",
       "\n",
       "                                            geometry  \n",
       "0  POLYGON ((-103.31164 20.75098, -103.31014 20.7...  "
      ]
     },
     "execution_count": 8,
     "metadata": {},
     "output_type": "execute_result"
    }
   ],
   "source": [
    "mun_gdf = gpd.GeoDataFrame()\n",
    "\n",
    "for m in df_amg.loc['mpos'][0]:\n",
    "    query = f\"SELECT * FROM marco.mpos_2020 WHERE \\\"CVEGEO\\\" LIKE \\'{m}\\'\"\n",
    "    mun_gdf = mun_gdf.append(aup.gdf_from_query(query, geometry_col='geometry'))\n",
    "print(mun_gdf.shape)\n",
    "mun_gdf.head(1)"
   ]
  },
  {
   "cell_type": "code",
   "execution_count": 9,
   "id": "db4b03af-60cb-4981-b86a-743cf8a7f95c",
   "metadata": {},
   "outputs": [
    {
     "data": {
      "text/plain": [
       "<AxesSubplot:>"
      ]
     },
     "execution_count": 9,
     "metadata": {},
     "output_type": "execute_result"
    },
    {
     "data": {
      "image/png": "[encoded data removed]",
      "text/plain": [
       "<Figure size 432x288 with 1 Axes>"
      ]
     },
     "metadata": {
      "needs_background": "light"
     },
     "output_type": "display_data"
    }
   ],
   "source": [
    "mun_gdf.plot()"
   ]
  },
  {
   "cell_type": "code",
   "execution_count": 10,
   "id": "9f7cc315-d0b9-4dbc-a443-5cb2ecbea98f",
   "metadata": {},
   "outputs": [],
   "source": [
    "mun_gdf = mun_gdf.reset_index().drop(columns='index')\n",
    "mun_gdf = mun_gdf.to_crs(\"EPSG:4326\")"
   ]
  },
  {
   "cell_type": "markdown",
   "id": "08b1fe64-8e78-4535-bc23-194974ed1b26",
   "metadata": {},
   "source": [
    "## Hex-bins"
   ]
  },
  {
   "cell_type": "code",
   "execution_count": 11,
   "id": "8a4edf3b-c09c-4baa-9032-7bdc08a8c5ed",
   "metadata": {},
   "outputs": [
    {
     "name": "stderr",
     "output_type": "stream",
     "text": [
      "/home/edgar/Repos/Observatorio-ciudades/accesibilidad-urbana/aup/utils.py:335: FutureWarning: Currently, index_parts defaults to True, but in the future, it will default to False to be consistent with Pandas. Use `index_parts=True` to keep the current behavior and True/False to silence the warning.\n",
      "  exploded = polygon.explode().reset_index(drop=True)\n"
     ]
    }
   ],
   "source": [
    "res = 9\n",
    "hex_gdf = aup.create_hexgrid(mun_gdf, res)"
   ]
  },
  {
   "cell_type": "code",
   "execution_count": 12,
   "id": "619d7cdc-3b3b-4542-b2ed-1712d21edae3",
   "metadata": {},
   "outputs": [
    {
     "name": "stdout",
     "output_type": "stream",
     "text": [
      "(27320, 2)\n"
     ]
    },
    {
     "data": {
      "text/html": [
       "<div>\n",
       "<style scoped>\n",
       "    .dataframe tbody tr th:only-of-type {\n",
       "        vertical-align: middle;\n",
       "    }\n",
       "\n",
       "    .dataframe tbody tr th {\n",
       "        vertical-align: top;\n",
       "    }\n",
       "\n",
       "    .dataframe thead th {\n",
       "        text-align: right;\n",
       "    }\n",
       "</style>\n",
       "<table border=\"1\" class=\"dataframe\">\n",
       "  <thead>\n",
       "    <tr style=\"text-align: right;\">\n",
       "      <th></th>\n",
       "      <th>geometry</th>\n",
       "      <th>hex_id_9</th>\n",
       "    </tr>\n",
       "  </thead>\n",
       "  <tbody>\n",
       "    <tr>\n",
       "      <th>0</th>\n",
       "      <td>POLYGON ((-103.35553 20.62840, -103.35343 20.6...</td>\n",
       "      <td>89498c9656bffff</td>\n",
       "    </tr>\n",
       "    <tr>\n",
       "      <th>1</th>\n",
       "      <td>POLYGON ((-103.35689 20.61478, -103.35776 20.6...</td>\n",
       "      <td>89498c965c7ffff</td>\n",
       "    </tr>\n",
       "  </tbody>\n",
       "</table>\n",
       "</div>"
      ],
      "text/plain": [
       "                                            geometry         hex_id_9\n",
       "0  POLYGON ((-103.35553 20.62840, -103.35343 20.6...  89498c9656bffff\n",
       "1  POLYGON ((-103.35689 20.61478, -103.35776 20.6...  89498c965c7ffff"
      ]
     },
     "execution_count": 12,
     "metadata": {},
     "output_type": "execute_result"
    }
   ],
   "source": [
    "print(hex_gdf.shape)\n",
    "hex_gdf.head(2)"
   ]
  },
  {
   "cell_type": "code",
   "execution_count": 13,
   "id": "0bece2f1-7a8f-45bb-9149-0380098a15c9",
   "metadata": {},
   "outputs": [
    {
     "data": {
      "text/plain": [
       "<AxesSubplot:>"
      ]
     },
     "execution_count": 13,
     "metadata": {},
     "output_type": "execute_result"
    },
    {
     "data": {
      "image/png": "[encoded data removed]",
      "text/plain": [
       "<Figure size 432x288 with 1 Axes>"
      ]
     },
     "metadata": {
      "needs_background": "light"
     },
     "output_type": "display_data"
    }
   ],
   "source": [
    "hex_gdf = hex_gdf.to_crs(\"EPSG:32613\")\n",
    "hex_gdf.plot()"
   ]
  },
  {
   "cell_type": "markdown",
   "id": "e2a228bb-dcd3-45a5-a327-c97d4196cefd",
   "metadata": {},
   "source": [
    "## Intersect"
   ]
  },
  {
   "cell_type": "markdown",
   "id": "579039a4-34b7-44af-a4bf-8ceb26349017",
   "metadata": {
    "tags": []
   },
   "source": [
    "### Urban area for specific year t=0"
   ]
  },
  {
   "cell_type": "code",
   "execution_count": 14,
   "id": "e5101ec5-4257-4390-8006-ecf2fd44373a",
   "metadata": {},
   "outputs": [
    {
     "data": {
      "text/plain": [
       "[1980, 1940, 1970, 1902, 2000, 2005, 2010, 2015, 2020, 1990]"
      ]
     },
     "execution_count": 14,
     "metadata": {},
     "output_type": "execute_result"
    }
   ],
   "source": [
    "list(gdf.year.unique())"
   ]
  },
  {
   "cell_type": "code",
   "execution_count": 15,
   "id": "fda95ad8-1711-4abc-b98d-8b8ba9462bd1",
   "metadata": {},
   "outputs": [
    {
     "name": "stderr",
     "output_type": "stream",
     "text": [
      "100%|██████████| 17/17 [01:05<00:00,  3.85s/it]\n"
     ]
    },
    {
     "name": "stdout",
     "output_type": "stream",
     "text": [
      "Finished year 1980\n"
     ]
    },
    {
     "name": "stderr",
     "output_type": "stream",
     "text": [
      "100%|██████████| 10/10 [00:05<00:00,  1.76it/s]\n",
      "  0%|          | 0/38 [00:00<?, ?it/s]"
     ]
    },
    {
     "name": "stdout",
     "output_type": "stream",
     "text": [
      "Finished year 1940\n"
     ]
    },
    {
     "name": "stderr",
     "output_type": "stream",
     "text": [
      "100%|██████████| 38/38 [00:29<00:00,  1.31it/s]\n"
     ]
    },
    {
     "name": "stdout",
     "output_type": "stream",
     "text": [
      "Finished year 1970\n"
     ]
    },
    {
     "name": "stderr",
     "output_type": "stream",
     "text": [
      "100%|██████████| 8/8 [00:02<00:00,  2.90it/s]\n"
     ]
    },
    {
     "name": "stdout",
     "output_type": "stream",
     "text": [
      "Finished year 1902\n"
     ]
    },
    {
     "name": "stderr",
     "output_type": "stream",
     "text": [
      "100%|██████████| 21/21 [02:26<00:00,  6.99s/it]\n"
     ]
    },
    {
     "name": "stdout",
     "output_type": "stream",
     "text": [
      "Finished year 2000\n"
     ]
    },
    {
     "name": "stderr",
     "output_type": "stream",
     "text": [
      "100%|██████████| 26/26 [05:30<00:00, 12.72s/it]\n"
     ]
    },
    {
     "name": "stdout",
     "output_type": "stream",
     "text": [
      "Finished year 2005\n"
     ]
    },
    {
     "name": "stderr",
     "output_type": "stream",
     "text": [
      "100%|██████████| 36/36 [02:50<00:00,  4.75s/it]\n"
     ]
    },
    {
     "name": "stdout",
     "output_type": "stream",
     "text": [
      "Finished year 2010\n"
     ]
    },
    {
     "name": "stderr",
     "output_type": "stream",
     "text": [
      "100%|██████████| 30/30 [03:08<00:00,  6.29s/it]\n"
     ]
    },
    {
     "name": "stdout",
     "output_type": "stream",
     "text": [
      "Finished year 2015\n"
     ]
    },
    {
     "name": "stderr",
     "output_type": "stream",
     "text": [
      "100%|██████████| 51/51 [03:35<00:00,  4.22s/it]\n"
     ]
    },
    {
     "name": "stdout",
     "output_type": "stream",
     "text": [
      "Finished year 2020\n"
     ]
    },
    {
     "name": "stderr",
     "output_type": "stream",
     "text": [
      "100%|██████████| 9/9 [01:38<00:00, 10.93s/it]\n"
     ]
    },
    {
     "name": "stdout",
     "output_type": "stream",
     "text": [
      "Finished year 1990\n"
     ]
    }
   ],
   "source": [
    "res_union = gpd.GeoDataFrame()\n",
    "\n",
    "gdf = gdf.to_crs(\"EPSG:4326\")\n",
    "\n",
    "hex_12_mean_area = 363.5469406551828 #calculated previously\n",
    "#hex_10_mean_area = 17813.347045541726 #calculated previously\n",
    "hex_10_mean_area = hex_gdf.area.mean()\n",
    "\n",
    "year_list = ['1990','2000','2010','2015']\n",
    "\n",
    "for y in list(gdf.year.unique()):\n",
    "    #filter urban area by year\n",
    "    gdf_year = gdf.loc[(gdf.year==y)].copy()\n",
    "    gdf_year = gdf_year.dissolve(by='year')\n",
    "    gdf_year.reset_index(drop=True, inplace=True)\n",
    "    \n",
    "    #multiploygon to polygon\n",
    "    polygons = gdf_year.geometry.explode(index_parts=True)\n",
    "    \n",
    "    all_polys = gpd.GeoDataFrame()\n",
    "    \n",
    "    #create hex grid for urban area\n",
    "    for i in tqdm(range(len(polygons[0])), position=0, leave=True):\n",
    "        dict_poly = polygons[0][i].__geo_interface__\n",
    "        hexs = h3.polyfill(dict_poly, 12, geo_json_conformant = True)\n",
    "        polygonise = lambda hex_id: Polygon(\n",
    "                                    h3.h3_to_geo_boundary(\n",
    "                                        hex_id, geo_json=True)\n",
    "                                        )\n",
    "\n",
    "        poly_tmp = gpd.GeoSeries(list(map(polygonise, hexs)), \\\n",
    "                                              index=hexs, \\\n",
    "                                              crs=\"EPSG:4326\" \\\n",
    "                                             )\n",
    "        gdf_tmp = gpd.GeoDataFrame(poly_tmp.reset_index()).rename(columns={'index':'hex_id_12',0:'geometry'})\n",
    "\n",
    "        all_polys = all_polys.append(gdf_tmp, ignore_index=True)\n",
    "\n",
    "    all_polys = all_polys.drop_duplicates()\n",
    "    \n",
    "    #group by parent hexagon\n",
    "    all_polys['hex_id_9'] = np.nan\n",
    "    all_polys['hex_id_9'] = all_polys.apply(lambda row: h3.h3_to_parent(row.hex_id_12, 9), axis=1)\n",
    "    group_urb = all_polys.groupby('hex_id_9').count()\n",
    "    group_urb['area'] = group_urb['hex_id_12']*hex_12_mean_area #calculate urban area\n",
    "    group_urb.reset_index(inplace=True)\n",
    "    group_urb.drop(columns=['hex_id_12','geometry'], inplace=True)\n",
    "    \n",
    "    #merge dataframes\n",
    "    hex_urb = hex_gdf.merge(group_urb, on='hex_id_9', how='left')\n",
    "    \n",
    "    #calculate urban percentage\n",
    "    hex_urb['urb_pct'] = round(hex_urb['area']/hex_10_mean_area, 5)\n",
    "    hex_urb['urb_pct'].fillna(0, inplace=True)\n",
    "    \n",
    "    hex_urb['year'] = y\n",
    "    \n",
    "    res_union = res_union.append(hex_urb)\n",
    "    \n",
    "    print(f\"Finished year {y}\")"
   ]
  },
  {
   "cell_type": "code",
   "execution_count": 16,
   "id": "bc272ad3-c740-47ca-8599-4d392eaa761a",
   "metadata": {},
   "outputs": [
    {
     "name": "stdout",
     "output_type": "stream",
     "text": [
      "(273200, 5)\n"
     ]
    },
    {
     "data": {
      "text/html": [
       "<div>\n",
       "<style scoped>\n",
       "    .dataframe tbody tr th:only-of-type {\n",
       "        vertical-align: middle;\n",
       "    }\n",
       "\n",
       "    .dataframe tbody tr th {\n",
       "        vertical-align: top;\n",
       "    }\n",
       "\n",
       "    .dataframe thead th {\n",
       "        text-align: right;\n",
       "    }\n",
       "</style>\n",
       "<table border=\"1\" class=\"dataframe\">\n",
       "  <thead>\n",
       "    <tr style=\"text-align: right;\">\n",
       "      <th></th>\n",
       "      <th>geometry</th>\n",
       "      <th>hex_id_9</th>\n",
       "      <th>area</th>\n",
       "      <th>urb_pct</th>\n",
       "      <th>year</th>\n",
       "    </tr>\n",
       "  </thead>\n",
       "  <tbody>\n",
       "    <tr>\n",
       "      <th>0</th>\n",
       "      <td>POLYGON ((671345.303 2281889.224, 671564.195 2...</td>\n",
       "      <td>89498c9656bffff</td>\n",
       "      <td>124696.600645</td>\n",
       "      <td>1.00003</td>\n",
       "      <td>1980</td>\n",
       "    </tr>\n",
       "    <tr>\n",
       "      <th>1</th>\n",
       "      <td>POLYGON ((671219.018 2280379.816, 671125.359 2...</td>\n",
       "      <td>89498c965c7ffff</td>\n",
       "      <td>NaN</td>\n",
       "      <td>0.00000</td>\n",
       "      <td>1980</td>\n",
       "    </tr>\n",
       "    <tr>\n",
       "      <th>2</th>\n",
       "      <td>POLYGON ((674262.460 2293058.515, 674481.366 2...</td>\n",
       "      <td>89498c94e73ffff</td>\n",
       "      <td>22176.363380</td>\n",
       "      <td>0.17785</td>\n",
       "      <td>1980</td>\n",
       "    </tr>\n",
       "    <tr>\n",
       "      <th>3</th>\n",
       "      <td>POLYGON ((672134.450 2291324.108, 672353.362 2...</td>\n",
       "      <td>89498c94c57ffff</td>\n",
       "      <td>124696.600645</td>\n",
       "      <td>1.00003</td>\n",
       "      <td>1980</td>\n",
       "    </tr>\n",
       "  </tbody>\n",
       "</table>\n",
       "</div>"
      ],
      "text/plain": [
       "                                            geometry         hex_id_9  \\\n",
       "0  POLYGON ((671345.303 2281889.224, 671564.195 2...  89498c9656bffff   \n",
       "1  POLYGON ((671219.018 2280379.816, 671125.359 2...  89498c965c7ffff   \n",
       "2  POLYGON ((674262.460 2293058.515, 674481.366 2...  89498c94e73ffff   \n",
       "3  POLYGON ((672134.450 2291324.108, 672353.362 2...  89498c94c57ffff   \n",
       "\n",
       "            area  urb_pct  year  \n",
       "0  124696.600645  1.00003  1980  \n",
       "1            NaN  0.00000  1980  \n",
       "2   22176.363380  0.17785  1980  \n",
       "3  124696.600645  1.00003  1980  "
      ]
     },
     "execution_count": 16,
     "metadata": {},
     "output_type": "execute_result"
    }
   ],
   "source": [
    "print(res_union.shape)\n",
    "res_union.head(4)"
   ]
  },
  {
   "cell_type": "code",
   "execution_count": null,
   "id": "92f137e1-9efd-41a3-a6b8-dad3f6b3844b",
   "metadata": {
    "jupyter": {
     "source_hidden": true
    },
    "tags": []
   },
   "outputs": [],
   "source": [
    "res_union.drop(columns=['area'], inplace=True)"
   ]
  },
  {
   "cell_type": "code",
   "execution_count": null,
   "id": "e1919fae-03e1-4b9f-83e8-4f169c412940",
   "metadata": {
    "jupyter": {
     "source_hidden": true
    },
    "tags": []
   },
   "outputs": [],
   "source": [
    "res_union = gpd.GeoDataFrame()\n",
    "\n",
    "for y in list(gdf.year.unique()):\n",
    "    \n",
    "    gdf_year = gdf.loc[(gdf.year==y)].copy()\n",
    "    gdf_year = gdf_year.dissolve(by='year')\n",
    "    gdf_year.reset_index(drop=True, inplace=True)\n",
    "    gdf_year['uso'] = 'urbano'\n",
    "    gdf_intersect = hex_gdf.overlay(gdf_year, how='intersection')\n",
    "    gdf_intersect['year'] = int(y)\n",
    "    \n",
    "    gdf_intersect['area'] = gdf_intersect.area/10000\n",
    "    hex_area = np.mean(hex_gdf.area/10000)\n",
    "    gdf_intersect['urb_pct'] = round(gdf_intersect['area'] / hex_area, 5)\n",
    "    \n",
    "    hex_mrg = hex_gdf.merge(gdf_intersect[['hex_id_7','urb_pct','year']], on='hex_id_7', how='left')\n",
    "    hex_mrg['urb_pct'].fillna(0, inplace=True)\n",
    "    hex_mrg['year'].fillna(y, inplace=True)\n",
    "\n",
    "    \n",
    "    res_union = res_union.append(hex_mrg)\n",
    "\n",
    "    \n",
    "    print(f\"Finished year {y}\")\n"
   ]
  },
  {
   "cell_type": "code",
   "execution_count": 60,
   "id": "d92e1b1c-a479-490f-a635-b26dedf78e4a",
   "metadata": {
    "collapsed": true,
    "jupyter": {
     "outputs_hidden": true,
     "source_hidden": true
    },
    "tags": []
   },
   "outputs": [
    {
     "data": {
      "text/html": [
       "<div>\n",
       "<style scoped>\n",
       "    .dataframe tbody tr th:only-of-type {\n",
       "        vertical-align: middle;\n",
       "    }\n",
       "\n",
       "    .dataframe tbody tr th {\n",
       "        vertical-align: top;\n",
       "    }\n",
       "\n",
       "    .dataframe thead th {\n",
       "        text-align: right;\n",
       "    }\n",
       "</style>\n",
       "<table border=\"1\" class=\"dataframe\">\n",
       "  <thead>\n",
       "    <tr style=\"text-align: right;\">\n",
       "      <th></th>\n",
       "      <th>geometry</th>\n",
       "      <th>uso</th>\n",
       "    </tr>\n",
       "  </thead>\n",
       "  <tbody>\n",
       "    <tr>\n",
       "      <th>0</th>\n",
       "      <td>MULTIPOLYGON (((687688.422 2251148.068, 687687...</td>\n",
       "      <td>urbano</td>\n",
       "    </tr>\n",
       "  </tbody>\n",
       "</table>\n",
       "</div>"
      ],
      "text/plain": [
       "                                            geometry     uso\n",
       "0  MULTIPOLYGON (((687688.422 2251148.068, 687687...  urbano"
      ]
     },
     "execution_count": 60,
     "metadata": {},
     "output_type": "execute_result"
    }
   ],
   "source": [
    "gdf_year = gdf.loc[(gdf.year=='2010')].copy()\n",
    "gdf_year = gdf_year.dissolve(by='year')\n",
    "gdf_year.reset_index(drop=True, inplace=True)\n",
    "gdf_year['uso'] = 'urbano'\n",
    "gdf_year"
   ]
  },
  {
   "cell_type": "markdown",
   "id": "490a1d5d-b069-4fbf-8cd0-d1199debbc9e",
   "metadata": {
    "tags": []
   },
   "source": [
    "### Spatial index"
   ]
  },
  {
   "cell_type": "code",
   "execution_count": 12,
   "id": "ce482868-ac8e-4157-bf84-98cd5414c407",
   "metadata": {
    "jupyter": {
     "source_hidden": true
    },
    "tags": []
   },
   "outputs": [],
   "source": [
    "\n",
    "\n",
    "gdf_year = gdf.loc[(gdf.year=='2010')].copy()\n",
    "gdf_year = gdf_year.dissolve(by='year')\n",
    "gdf_year = gdf_year.to_crs(\"EPSG:4326\")\n",
    "gdf_year.reset_index(drop=True, inplace=True)"
   ]
  },
  {
   "cell_type": "code",
   "execution_count": 13,
   "id": "12747853-4b1f-4c09-bbdd-b82769b18762",
   "metadata": {
    "jupyter": {
     "source_hidden": true
    },
    "tags": []
   },
   "outputs": [],
   "source": [
    "polygons = gdf_year.geometry.explode(index_parts=True)"
   ]
  },
  {
   "cell_type": "code",
   "execution_count": 15,
   "id": "6936e783-9434-499b-af2a-d438bd8df8f5",
   "metadata": {
    "collapsed": true,
    "jupyter": {
     "outputs_hidden": true,
     "source_hidden": true
    },
    "tags": []
   },
   "outputs": [
    {
     "name": "stderr",
     "output_type": "stream",
     "text": [
      "100%|██████████| 296/296 [06:55<00:00,  1.40s/it]\n"
     ]
    }
   ],
   "source": [
    "from tqdm import tqdm\n",
    "\n",
    "all_polys = gpd.GeoDataFrame()\n",
    "\n",
    "for i in tqdm(range(len(polygons[0])), position=0, leave=True):\n",
    "    dict_poly = polygons[0][i].__geo_interface__\n",
    "    hexs = h3.polyfill(dict_poly, 12, geo_json_conformant = True)\n",
    "    polygonise = lambda hex_id: Polygon(\n",
    "                                h3.h3_to_geo_boundary(\n",
    "                                    hex_id, geo_json=True)\n",
    "                                    )\n",
    "\n",
    "    poly_tmp = gpd.GeoSeries(list(map(polygonise, hexs)), \\\n",
    "                                          index=hexs, \\\n",
    "                                          crs=\"EPSG:4326\" \\\n",
    "                                         )\n",
    "    gdf_tmp = gpd.GeoDataFrame(poly_tmp.reset_index()).rename(columns={'index':'hex_id_12',0:'geometry'})\n",
    "    \n",
    "    all_polys = all_polys.append(gdf_tmp, ignore_index=True)\n",
    "    \n",
    "all_polys = all_polys.drop_duplicates()"
   ]
  },
  {
   "cell_type": "code",
   "execution_count": 16,
   "id": "96dd158b-0df6-4ff9-9e47-abe3be8e501f",
   "metadata": {
    "collapsed": true,
    "jupyter": {
     "outputs_hidden": true,
     "source_hidden": true
    },
    "tags": []
   },
   "outputs": [
    {
     "name": "stdout",
     "output_type": "stream",
     "text": [
      "(2266880, 2)\n"
     ]
    },
    {
     "data": {
      "text/html": [
       "<div>\n",
       "<style scoped>\n",
       "    .dataframe tbody tr th:only-of-type {\n",
       "        vertical-align: middle;\n",
       "    }\n",
       "\n",
       "    .dataframe tbody tr th {\n",
       "        vertical-align: top;\n",
       "    }\n",
       "\n",
       "    .dataframe thead th {\n",
       "        text-align: right;\n",
       "    }\n",
       "</style>\n",
       "<table border=\"1\" class=\"dataframe\">\n",
       "  <thead>\n",
       "    <tr style=\"text-align: right;\">\n",
       "      <th></th>\n",
       "      <th>hex_id_12</th>\n",
       "      <th>geometry</th>\n",
       "    </tr>\n",
       "  </thead>\n",
       "  <tbody>\n",
       "    <tr>\n",
       "      <th>0</th>\n",
       "      <td>8c49aa2a6b6c9ff</td>\n",
       "      <td>POLYGON ((-103.20305 20.35048, -103.20296 20.3...</td>\n",
       "    </tr>\n",
       "    <tr>\n",
       "      <th>1</th>\n",
       "      <td>8c49aa2a47805ff</td>\n",
       "      <td>POLYGON ((-103.20466 20.34984, -103.20457 20.3...</td>\n",
       "    </tr>\n",
       "    <tr>\n",
       "      <th>2</th>\n",
       "      <td>8c49aa2a47827ff</td>\n",
       "      <td>POLYGON ((-103.20431 20.35020, -103.20421 20.3...</td>\n",
       "    </tr>\n",
       "    <tr>\n",
       "      <th>3</th>\n",
       "      <td>8c49aa2a6b753ff</td>\n",
       "      <td>POLYGON ((-103.20134 20.35016, -103.20125 20.3...</td>\n",
       "    </tr>\n",
       "  </tbody>\n",
       "</table>\n",
       "</div>"
      ],
      "text/plain": [
       "         hex_id_12                                           geometry\n",
       "0  8c49aa2a6b6c9ff  POLYGON ((-103.20305 20.35048, -103.20296 20.3...\n",
       "1  8c49aa2a47805ff  POLYGON ((-103.20466 20.34984, -103.20457 20.3...\n",
       "2  8c49aa2a47827ff  POLYGON ((-103.20431 20.35020, -103.20421 20.3...\n",
       "3  8c49aa2a6b753ff  POLYGON ((-103.20134 20.35016, -103.20125 20.3..."
      ]
     },
     "execution_count": 16,
     "metadata": {},
     "output_type": "execute_result"
    }
   ],
   "source": [
    "print(all_polys.shape)\n",
    "all_polys.head(4)"
   ]
  },
  {
   "cell_type": "code",
   "execution_count": 21,
   "id": "3dffcbbb-2a3f-4f4f-8a28-35e2802032f7",
   "metadata": {
    "jupyter": {
     "source_hidden": true
    },
    "tags": []
   },
   "outputs": [],
   "source": [
    "all_polys['hex_id_10'] = np.nan\n",
    "all_polys['hex_id_10'] = all_polys.apply(lambda row: h3.h3_to_parent(row.hex_id_12, 10), axis=1)"
   ]
  },
  {
   "cell_type": "code",
   "execution_count": 29,
   "id": "be728820-c8fc-408f-8ec9-ff17ce86a364",
   "metadata": {
    "collapsed": true,
    "jupyter": {
     "outputs_hidden": true,
     "source_hidden": true
    },
    "tags": []
   },
   "outputs": [
    {
     "data": {
      "text/plain": [
       "363.5469406551828"
      ]
     },
     "execution_count": 29,
     "metadata": {},
     "output_type": "execute_result"
    }
   ],
   "source": [
    "hex_12_mean_area = all_polys.to_crs(\"EPSG:32613\").area.mean()\n",
    "hex_12_mean_area"
   ]
  },
  {
   "cell_type": "code",
   "execution_count": 33,
   "id": "742673b0-8747-4b25-a566-f3e8c9259ec5",
   "metadata": {
    "jupyter": {
     "source_hidden": true
    },
    "tags": []
   },
   "outputs": [],
   "source": [
    "group_urb = all_polys.groupby('hex_id_10').count()\n",
    "group_urb['area'] = group_urb['hex_id_12']*hex_12_mean_area\n",
    "group_urb.reset_index(inplace=True)\n",
    "group_urb.drop(columns=['hex_id_12','geometry'], inplace=True)"
   ]
  },
  {
   "cell_type": "code",
   "execution_count": 35,
   "id": "4e88c9e7-e65b-404b-8cf9-8d96913e9b17",
   "metadata": {
    "jupyter": {
     "source_hidden": true
    },
    "tags": []
   },
   "outputs": [],
   "source": [
    "hex_10_mean_area = hex_gdf.area.mean()\n",
    "hex_urb = hex_gdf.merge(group_urb, on='hex_id_10', how='left')"
   ]
  },
  {
   "cell_type": "code",
   "execution_count": 46,
   "id": "a553c34b-8872-4166-8af5-e227210b9613",
   "metadata": {
    "collapsed": true,
    "jupyter": {
     "outputs_hidden": true,
     "source_hidden": true
    },
    "tags": []
   },
   "outputs": [
    {
     "data": {
      "text/plain": [
       "17813.347045541726"
      ]
     },
     "execution_count": 46,
     "metadata": {},
     "output_type": "execute_result"
    }
   ],
   "source": [
    "hex_10_mean_area"
   ]
  },
  {
   "cell_type": "code",
   "execution_count": 38,
   "id": "3f851f07-6e5d-48b2-b01a-ee093edf6920",
   "metadata": {
    "jupyter": {
     "source_hidden": true
    },
    "tags": []
   },
   "outputs": [],
   "source": [
    "hex_urb['urb_pct'] = round(hex_urb['area']/hex_10_mean_area, 5)\n",
    "hex_urb['urb_pct'].fillna(0, inplace=True)"
   ]
  },
  {
   "cell_type": "code",
   "execution_count": 45,
   "id": "c0085536-3f4e-4506-8d87-7b04984dd67c",
   "metadata": {
    "collapsed": true,
    "jupyter": {
     "outputs_hidden": true,
     "source_hidden": true
    },
    "tags": []
   },
   "outputs": [
    {
     "data": {
      "text/plain": [
       "<AxesSubplot:>"
      ]
     },
     "execution_count": 45,
     "metadata": {},
     "output_type": "execute_result"
    },
    {
     "data": {
      "image/png": "[encoded data removed]",
      "text/plain": [
       "<Figure size 432x288 with 1 Axes>"
      ]
     },
     "metadata": {
      "needs_background": "light"
     },
     "output_type": "display_data"
    }
   ],
   "source": [
    "hex_urb[hex_urb.urb_pct>0].plot('urb_pct')"
   ]
  },
  {
   "cell_type": "code",
   "execution_count": 26,
   "id": "7f30f12f-2769-4e4d-a4a1-fc2cc8ff2fb5",
   "metadata": {
    "collapsed": true,
    "jupyter": {
     "outputs_hidden": true,
     "source_hidden": true
    },
    "tags": []
   },
   "outputs": [
    {
     "name": "stdout",
     "output_type": "stream",
     "text": [
      "0    0.000092\n",
      "dtype: float64\n",
      "0    0.005982\n",
      "dtype: float64\n",
      "0    0.007224\n",
      "dtype: float64\n",
      "0    0.008097\n",
      "dtype: float64\n",
      "0    0.009302\n",
      "dtype: float64\n",
      "0    0.009731\n",
      "dtype: float64\n",
      "0    0.010493\n",
      "dtype: float64\n",
      "0    0.010495\n",
      "dtype: float64\n",
      "0    0.010647\n",
      "dtype: float64\n",
      "0    0.011427\n",
      "dtype: float64\n",
      "0    0.011472\n",
      "dtype: float64\n",
      "0    0.011472\n",
      "dtype: float64\n",
      "0    0.013124\n",
      "dtype: float64\n",
      "0    0.013124\n",
      "dtype: float64\n",
      "0    0.013125\n",
      "dtype: float64\n",
      "0    0.013129\n",
      "dtype: float64\n",
      "0    0.013853\n",
      "dtype: float64\n",
      "0    0.013858\n",
      "dtype: float64\n",
      "0    0.013862\n",
      "dtype: float64\n",
      "0    0.015346\n",
      "dtype: float64\n",
      "0    0.015346\n",
      "dtype: float64\n",
      "0    0.019834\n",
      "dtype: float64\n",
      "0    0.019886\n",
      "dtype: float64\n",
      "0    0.020388\n",
      "dtype: float64\n",
      "0    0.020389\n",
      "dtype: float64\n",
      "0    0.020389\n",
      "dtype: float64\n",
      "0    0.020909\n",
      "dtype: float64\n",
      "0    0.020967\n",
      "dtype: float64\n",
      "0    0.020968\n",
      "dtype: float64\n",
      "0    0.020968\n",
      "dtype: float64\n",
      "0    0.020968\n",
      "dtype: float64\n",
      "0    0.02097\n",
      "dtype: float64\n",
      "0    0.024203\n",
      "dtype: float64\n",
      "0    0.024203\n",
      "dtype: float64\n",
      "0    0.024203\n",
      "dtype: float64\n",
      "0    0.024817\n",
      "dtype: float64\n",
      "0    0.024956\n",
      "dtype: float64\n",
      "0    0.025007\n",
      "dtype: float64\n",
      "0    0.025008\n",
      "dtype: float64\n",
      "0    0.02506\n",
      "dtype: float64\n",
      "0    0.025066\n",
      "dtype: float64\n",
      "0    0.025067\n",
      "dtype: float64\n",
      "0    0.025153\n",
      "dtype: float64\n",
      "0    0.025153\n",
      "dtype: float64\n",
      "0    0.025537\n",
      "dtype: float64\n",
      "0    0.025631\n",
      "dtype: float64\n",
      "0    0.025631\n",
      "dtype: float64\n",
      "0    0.025683\n",
      "dtype: float64\n",
      "0    0.025683\n",
      "dtype: float64\n",
      "0    0.042717\n",
      "dtype: float64\n",
      "0    0.042777\n",
      "dtype: float64\n",
      "0    0.042827\n",
      "dtype: float64\n",
      "0    0.044451\n",
      "dtype: float64\n",
      "0    0.044451\n",
      "dtype: float64\n",
      "0    0.044453\n",
      "dtype: float64\n",
      "0    0.044453\n",
      "dtype: float64\n",
      "0    0.044561\n",
      "dtype: float64\n",
      "0    0.04461\n",
      "dtype: float64\n",
      "0    0.044662\n",
      "dtype: float64\n",
      "0    0.044662\n",
      "dtype: float64\n",
      "0    0.046317\n",
      "dtype: float64\n",
      "0    0.04636\n",
      "dtype: float64\n",
      "0    0.046401\n",
      "dtype: float64\n",
      "0    0.046436\n",
      "dtype: float64\n",
      "0    0.046443\n",
      "dtype: float64\n",
      "0    0.046486\n",
      "dtype: float64\n",
      "0    0.04656\n",
      "dtype: float64\n",
      "0    0.046564\n",
      "dtype: float64\n",
      "0    0.052859\n",
      "dtype: float64\n",
      "0    0.052859\n",
      "dtype: float64\n",
      "0    0.052864\n",
      "dtype: float64\n",
      "0    0.053006\n",
      "dtype: float64\n",
      "0    0.053007\n",
      "dtype: float64\n",
      "0    0.053007\n",
      "dtype: float64\n",
      "0    0.053052\n",
      "dtype: float64\n",
      "0    0.053469\n",
      "dtype: float64\n",
      "0    0.054246\n",
      "dtype: float64\n",
      "0    0.056077\n",
      "dtype: float64\n",
      "0    0.056129\n",
      "dtype: float64\n",
      "0    0.05613\n",
      "dtype: float64\n",
      "0    0.056462\n",
      "dtype: float64\n",
      "0    0.056464\n",
      "dtype: float64\n",
      "0    0.056464\n",
      "dtype: float64\n",
      "0    0.056464\n",
      "dtype: float64\n",
      "0    0.05659\n",
      "dtype: float64\n",
      "0    0.056642\n",
      "dtype: float64\n",
      "0    0.056695\n",
      "dtype: float64\n",
      "0    0.058924\n",
      "dtype: float64\n",
      "0    0.058925\n",
      "dtype: float64\n",
      "0    0.058926\n",
      "dtype: float64\n",
      "0    0.058927\n",
      "dtype: float64\n",
      "0    0.058927\n",
      "dtype: float64\n",
      "0    0.058928\n",
      "dtype: float64\n",
      "0    0.074159\n",
      "dtype: float64\n",
      "0    0.074169\n",
      "dtype: float64\n",
      "0    0.074169\n",
      "dtype: float64\n",
      "0    0.074286\n",
      "dtype: float64\n",
      "0    0.085133\n",
      "dtype: float64\n",
      "0    0.086466\n",
      "dtype: float64\n",
      "0    0.086576\n",
      "dtype: float64\n",
      "0    0.086631\n",
      "dtype: float64\n",
      "0    0.086631\n",
      "dtype: float64\n",
      "0    0.086682\n",
      "dtype: float64\n",
      "0    0.086683\n",
      "dtype: float64\n",
      "0    0.086837\n",
      "dtype: float64\n",
      "0    0.086837\n",
      "dtype: float64\n",
      "0    0.08684\n",
      "dtype: float64\n",
      "0    0.086841\n",
      "dtype: float64\n",
      "0    0.086841\n",
      "dtype: float64\n",
      "0    0.086846\n",
      "dtype: float64\n",
      "0    0.086851\n",
      "dtype: float64\n",
      "0    0.087339\n",
      "dtype: float64\n",
      "0    0.087427\n",
      "dtype: float64\n",
      "0    0.087428\n",
      "dtype: float64\n",
      "0    0.088181\n",
      "dtype: float64\n",
      "0    0.088552\n",
      "dtype: float64\n",
      "0    0.089691\n",
      "dtype: float64\n",
      "0    0.089708\n",
      "dtype: float64\n",
      "0    0.089708\n",
      "dtype: float64\n",
      "0    0.089759\n",
      "dtype: float64\n",
      "0    0.089759\n",
      "dtype: float64\n",
      "0    0.089766\n",
      "dtype: float64\n",
      "0    0.093565\n",
      "dtype: float64\n",
      "0    0.094485\n",
      "dtype: float64\n",
      "0    0.096901\n",
      "dtype: float64\n",
      "0    0.096903\n",
      "dtype: float64\n",
      "0    0.096985\n",
      "dtype: float64\n",
      "0    0.097026\n",
      "dtype: float64\n",
      "0    0.099426\n",
      "dtype: float64\n",
      "0    0.099428\n",
      "dtype: float64\n",
      "0    0.099473\n",
      "dtype: float64\n",
      "0    0.099474\n",
      "dtype: float64\n",
      "0    0.099476\n",
      "dtype: float64\n",
      "0    0.099476\n",
      "dtype: float64\n",
      "0    0.099477\n",
      "dtype: float64\n",
      "0    0.099477\n",
      "dtype: float64\n",
      "0    0.099477\n",
      "dtype: float64\n",
      "0    0.101286\n",
      "dtype: float64\n",
      "0    0.101374\n",
      "dtype: float64\n",
      "0    0.115242\n",
      "dtype: float64\n",
      "0    0.11668\n",
      "dtype: float64\n",
      "0    0.116682\n",
      "dtype: float64\n",
      "0    0.116745\n",
      "dtype: float64\n",
      "0    0.116802\n",
      "dtype: float64\n",
      "0    0.117501\n",
      "dtype: float64\n",
      "0    0.118138\n",
      "dtype: float64\n",
      "0    0.118893\n",
      "dtype: float64\n",
      "0    0.118893\n",
      "dtype: float64\n",
      "0    0.11892\n",
      "dtype: float64\n",
      "0    0.120093\n",
      "dtype: float64\n",
      "0    0.121018\n",
      "dtype: float64\n",
      "0    0.121021\n",
      "dtype: float64\n",
      "0    0.121113\n",
      "dtype: float64\n",
      "0    0.121396\n",
      "dtype: float64\n",
      "0    0.121419\n",
      "dtype: float64\n",
      "0    0.12549\n",
      "dtype: float64\n",
      "0    0.125556\n",
      "dtype: float64\n",
      "0    0.125556\n",
      "dtype: float64\n",
      "0    0.125556\n",
      "dtype: float64\n",
      "0    0.125556\n",
      "dtype: float64\n",
      "0    0.125556\n",
      "dtype: float64\n",
      "0    0.125652\n",
      "dtype: float64\n",
      "0    0.125652\n",
      "dtype: float64\n",
      "0    0.126506\n",
      "dtype: float64\n",
      "0    0.126506\n",
      "dtype: float64\n",
      "0    0.126508\n",
      "dtype: float64\n",
      "0    0.138335\n",
      "dtype: float64\n",
      "0    0.138396\n",
      "dtype: float64\n",
      "0    0.138447\n",
      "dtype: float64\n",
      "0    0.13851\n",
      "dtype: float64\n",
      "0    0.138511\n",
      "dtype: float64\n",
      "0    0.13865\n",
      "dtype: float64\n",
      "0    0.138651\n",
      "dtype: float64\n",
      "0    0.138651\n",
      "dtype: float64\n",
      "0    0.138652\n",
      "dtype: float64\n",
      "0    0.138655\n",
      "dtype: float64\n",
      "0    0.138658\n",
      "dtype: float64\n",
      "0    0.138663\n",
      "dtype: float64\n",
      "0    0.139037\n",
      "dtype: float64\n",
      "0    0.139098\n",
      "dtype: float64\n",
      "0    0.139098\n",
      "dtype: float64\n",
      "0    0.139098\n",
      "dtype: float64\n",
      "0    0.139149\n",
      "dtype: float64\n",
      "0    0.139199\n",
      "dtype: float64\n",
      "0    0.139202\n",
      "dtype: float64\n",
      "0    0.139205\n",
      "dtype: float64\n",
      "0    0.139791\n",
      "dtype: float64\n",
      "0    0.139848\n",
      "dtype: float64\n",
      "0    0.140445\n",
      "dtype: float64\n",
      "0    0.140445\n",
      "dtype: float64\n",
      "0    0.140454\n",
      "dtype: float64\n",
      "0    0.140454\n",
      "dtype: float64\n",
      "0    0.140484\n",
      "dtype: float64\n",
      "0    0.140486\n",
      "dtype: float64\n",
      "0    0.143921\n",
      "dtype: float64\n",
      "0    0.143921\n",
      "dtype: float64\n",
      "0    0.149255\n",
      "dtype: float64\n",
      "0    0.149255\n",
      "dtype: float64\n",
      "0    0.150064\n",
      "dtype: float64\n",
      "0    0.150073\n",
      "dtype: float64\n",
      "0    0.150532\n",
      "dtype: float64\n",
      "0    0.150533\n",
      "dtype: float64\n",
      "0    0.150533\n",
      "dtype: float64\n",
      "0    0.150533\n",
      "dtype: float64\n",
      "0    0.150533\n",
      "dtype: float64\n",
      "0    0.150533\n",
      "dtype: float64\n",
      "0    0.150533\n",
      "dtype: float64\n",
      "0    0.150534\n",
      "dtype: float64\n",
      "0    0.150534\n",
      "dtype: float64\n",
      "0    0.150534\n",
      "dtype: float64\n",
      "0    0.150534\n",
      "dtype: float64\n",
      "0    0.150534\n",
      "dtype: float64\n",
      "0    0.150585\n",
      "dtype: float64\n",
      "0    0.150586\n",
      "dtype: float64\n",
      "0    0.150637\n",
      "dtype: float64\n",
      "0    0.150695\n",
      "dtype: float64\n",
      "0    0.151141\n",
      "dtype: float64\n",
      "0    0.151142\n",
      "dtype: float64\n"
     ]
    },
    {
     "ename": "KeyboardInterrupt",
     "evalue": "",
     "output_type": "error",
     "traceback": [
      "\u001b[0;31m---------------------------------------------------------------------------\u001b[0m",
      "\u001b[0;31mKeyboardInterrupt\u001b[0m                         Traceback (most recent call last)",
      "\u001b[0;32m<ipython-input-26-10a328101025>\u001b[0m in \u001b[0;36m<module>\u001b[0;34m\u001b[0m\n\u001b[1;32m     17\u001b[0m     \u001b[0mall_polys\u001b[0m \u001b[0;34m=\u001b[0m \u001b[0mall_polys\u001b[0m\u001b[0;34m.\u001b[0m\u001b[0mappend\u001b[0m\u001b[0;34m(\u001b[0m\u001b[0mgdf_tmp\u001b[0m\u001b[0;34m,\u001b[0m \u001b[0mignore_index\u001b[0m\u001b[0;34m=\u001b[0m\u001b[0;32mTrue\u001b[0m\u001b[0;34m)\u001b[0m\u001b[0;34m\u001b[0m\u001b[0;34m\u001b[0m\u001b[0m\n\u001b[1;32m     18\u001b[0m \u001b[0;34m\u001b[0m\u001b[0m\n\u001b[0;32m---> 19\u001b[0;31m     \u001b[0mprint\u001b[0m\u001b[0;34m(\u001b[0m\u001b[0;34m(\u001b[0m\u001b[0mall_polys\u001b[0m\u001b[0;34m.\u001b[0m\u001b[0mto_crs\u001b[0m\u001b[0;34m(\u001b[0m\u001b[0;34m\"EPSG:32613\"\u001b[0m\u001b[0;34m)\u001b[0m\u001b[0;34m.\u001b[0m\u001b[0marea\u001b[0m\u001b[0;34m.\u001b[0m\u001b[0msum\u001b[0m\u001b[0;34m(\u001b[0m\u001b[0;34m)\u001b[0m\u001b[0;34m/\u001b[0m\u001b[0;36m10000\u001b[0m\u001b[0;34m)\u001b[0m\u001b[0;34m/\u001b[0m\u001b[0mtotal_urban\u001b[0m\u001b[0;34m)\u001b[0m\u001b[0;34m\u001b[0m\u001b[0;34m\u001b[0m\u001b[0m\n\u001b[0m",
      "\u001b[0;32m~/anaconda3/envs/geo_env/lib/python3.8/site-packages/geopandas/geodataframe.py\u001b[0m in \u001b[0;36mto_crs\u001b[0;34m(self, crs, epsg, inplace)\u001b[0m\n\u001b[1;32m   1273\u001b[0m         \u001b[0;32melse\u001b[0m\u001b[0;34m:\u001b[0m\u001b[0;34m\u001b[0m\u001b[0;34m\u001b[0m\u001b[0m\n\u001b[1;32m   1274\u001b[0m             \u001b[0mdf\u001b[0m \u001b[0;34m=\u001b[0m \u001b[0mself\u001b[0m\u001b[0;34m.\u001b[0m\u001b[0mcopy\u001b[0m\u001b[0;34m(\u001b[0m\u001b[0;34m)\u001b[0m\u001b[0;34m\u001b[0m\u001b[0;34m\u001b[0m\u001b[0m\n\u001b[0;32m-> 1275\u001b[0;31m         \u001b[0mgeom\u001b[0m \u001b[0;34m=\u001b[0m \u001b[0mdf\u001b[0m\u001b[0;34m.\u001b[0m\u001b[0mgeometry\u001b[0m\u001b[0;34m.\u001b[0m\u001b[0mto_crs\u001b[0m\u001b[0;34m(\u001b[0m\u001b[0mcrs\u001b[0m\u001b[0;34m=\u001b[0m\u001b[0mcrs\u001b[0m\u001b[0;34m,\u001b[0m \u001b[0mepsg\u001b[0m\u001b[0;34m=\u001b[0m\u001b[0mepsg\u001b[0m\u001b[0;34m)\u001b[0m\u001b[0;34m\u001b[0m\u001b[0;34m\u001b[0m\u001b[0m\n\u001b[0m\u001b[1;32m   1276\u001b[0m         \u001b[0mdf\u001b[0m\u001b[0;34m.\u001b[0m\u001b[0mgeometry\u001b[0m \u001b[0;34m=\u001b[0m \u001b[0mgeom\u001b[0m\u001b[0;34m\u001b[0m\u001b[0;34m\u001b[0m\u001b[0m\n\u001b[1;32m   1277\u001b[0m         \u001b[0mdf\u001b[0m\u001b[0;34m.\u001b[0m\u001b[0mcrs\u001b[0m \u001b[0;34m=\u001b[0m \u001b[0mgeom\u001b[0m\u001b[0;34m.\u001b[0m\u001b[0mcrs\u001b[0m\u001b[0;34m\u001b[0m\u001b[0;34m\u001b[0m\u001b[0m\n",
      "\u001b[0;32m~/anaconda3/envs/geo_env/lib/python3.8/site-packages/geopandas/geoseries.py\u001b[0m in \u001b[0;36mto_crs\u001b[0;34m(self, crs, epsg)\u001b[0m\n\u001b[1;32m   1118\u001b[0m         \"\"\"\n\u001b[1;32m   1119\u001b[0m         return GeoSeries(\n\u001b[0;32m-> 1120\u001b[0;31m             \u001b[0mself\u001b[0m\u001b[0;34m.\u001b[0m\u001b[0mvalues\u001b[0m\u001b[0;34m.\u001b[0m\u001b[0mto_crs\u001b[0m\u001b[0;34m(\u001b[0m\u001b[0mcrs\u001b[0m\u001b[0;34m=\u001b[0m\u001b[0mcrs\u001b[0m\u001b[0;34m,\u001b[0m \u001b[0mepsg\u001b[0m\u001b[0;34m=\u001b[0m\u001b[0mepsg\u001b[0m\u001b[0;34m)\u001b[0m\u001b[0;34m,\u001b[0m \u001b[0mindex\u001b[0m\u001b[0;34m=\u001b[0m\u001b[0mself\u001b[0m\u001b[0;34m.\u001b[0m\u001b[0mindex\u001b[0m\u001b[0;34m,\u001b[0m \u001b[0mname\u001b[0m\u001b[0;34m=\u001b[0m\u001b[0mself\u001b[0m\u001b[0;34m.\u001b[0m\u001b[0mname\u001b[0m\u001b[0;34m\u001b[0m\u001b[0;34m\u001b[0m\u001b[0m\n\u001b[0m\u001b[1;32m   1121\u001b[0m         )\n\u001b[1;32m   1122\u001b[0m \u001b[0;34m\u001b[0m\u001b[0m\n",
      "\u001b[0;32m~/anaconda3/envs/geo_env/lib/python3.8/site-packages/geopandas/array.py\u001b[0m in \u001b[0;36mto_crs\u001b[0;34m(self, crs, epsg)\u001b[0m\n\u001b[1;32m    778\u001b[0m         \u001b[0mtransformer\u001b[0m \u001b[0;34m=\u001b[0m \u001b[0mTransformer\u001b[0m\u001b[0;34m.\u001b[0m\u001b[0mfrom_crs\u001b[0m\u001b[0;34m(\u001b[0m\u001b[0mself\u001b[0m\u001b[0;34m.\u001b[0m\u001b[0mcrs\u001b[0m\u001b[0;34m,\u001b[0m \u001b[0mcrs\u001b[0m\u001b[0;34m,\u001b[0m \u001b[0malways_xy\u001b[0m\u001b[0;34m=\u001b[0m\u001b[0;32mTrue\u001b[0m\u001b[0;34m)\u001b[0m\u001b[0;34m\u001b[0m\u001b[0;34m\u001b[0m\u001b[0m\n\u001b[1;32m    779\u001b[0m \u001b[0;34m\u001b[0m\u001b[0m\n\u001b[0;32m--> 780\u001b[0;31m         \u001b[0mnew_data\u001b[0m \u001b[0;34m=\u001b[0m \u001b[0mvectorized\u001b[0m\u001b[0;34m.\u001b[0m\u001b[0mtransform\u001b[0m\u001b[0;34m(\u001b[0m\u001b[0mself\u001b[0m\u001b[0;34m.\u001b[0m\u001b[0mdata\u001b[0m\u001b[0;34m,\u001b[0m \u001b[0mtransformer\u001b[0m\u001b[0;34m.\u001b[0m\u001b[0mtransform\u001b[0m\u001b[0;34m)\u001b[0m\u001b[0;34m\u001b[0m\u001b[0;34m\u001b[0m\u001b[0m\n\u001b[0m\u001b[1;32m    781\u001b[0m         \u001b[0;32mreturn\u001b[0m \u001b[0mGeometryArray\u001b[0m\u001b[0;34m(\u001b[0m\u001b[0mnew_data\u001b[0m\u001b[0;34m,\u001b[0m \u001b[0mcrs\u001b[0m\u001b[0;34m=\u001b[0m\u001b[0mcrs\u001b[0m\u001b[0;34m)\u001b[0m\u001b[0;34m\u001b[0m\u001b[0;34m\u001b[0m\u001b[0m\n\u001b[1;32m    782\u001b[0m \u001b[0;34m\u001b[0m\u001b[0m\n",
      "\u001b[0;32m~/anaconda3/envs/geo_env/lib/python3.8/site-packages/geopandas/_vectorized.py\u001b[0m in \u001b[0;36mtransform\u001b[0;34m(data, func)\u001b[0m\n\u001b[1;32m    953\u001b[0m     \u001b[0;32mif\u001b[0m \u001b[0mcompat\u001b[0m\u001b[0;34m.\u001b[0m\u001b[0mUSE_PYGEOS\u001b[0m\u001b[0;34m:\u001b[0m\u001b[0;34m\u001b[0m\u001b[0;34m\u001b[0m\u001b[0m\n\u001b[1;32m    954\u001b[0m         \u001b[0mcoords\u001b[0m \u001b[0;34m=\u001b[0m \u001b[0mpygeos\u001b[0m\u001b[0;34m.\u001b[0m\u001b[0mget_coordinates\u001b[0m\u001b[0;34m(\u001b[0m\u001b[0mdata\u001b[0m\u001b[0;34m)\u001b[0m\u001b[0;34m\u001b[0m\u001b[0;34m\u001b[0m\u001b[0m\n\u001b[0;32m--> 955\u001b[0;31m         \u001b[0mnew_coords\u001b[0m \u001b[0;34m=\u001b[0m \u001b[0mfunc\u001b[0m\u001b[0;34m(\u001b[0m\u001b[0mcoords\u001b[0m\u001b[0;34m[\u001b[0m\u001b[0;34m:\u001b[0m\u001b[0;34m,\u001b[0m \u001b[0;36m0\u001b[0m\u001b[0;34m]\u001b[0m\u001b[0;34m,\u001b[0m \u001b[0mcoords\u001b[0m\u001b[0;34m[\u001b[0m\u001b[0;34m:\u001b[0m\u001b[0;34m,\u001b[0m \u001b[0;36m1\u001b[0m\u001b[0;34m]\u001b[0m\u001b[0;34m)\u001b[0m\u001b[0;34m\u001b[0m\u001b[0;34m\u001b[0m\u001b[0m\n\u001b[0m\u001b[1;32m    956\u001b[0m         \u001b[0mresult\u001b[0m \u001b[0;34m=\u001b[0m \u001b[0mpygeos\u001b[0m\u001b[0;34m.\u001b[0m\u001b[0mset_coordinates\u001b[0m\u001b[0;34m(\u001b[0m\u001b[0mdata\u001b[0m\u001b[0;34m.\u001b[0m\u001b[0mcopy\u001b[0m\u001b[0;34m(\u001b[0m\u001b[0;34m)\u001b[0m\u001b[0;34m,\u001b[0m \u001b[0mnp\u001b[0m\u001b[0;34m.\u001b[0m\u001b[0marray\u001b[0m\u001b[0;34m(\u001b[0m\u001b[0mnew_coords\u001b[0m\u001b[0;34m)\u001b[0m\u001b[0;34m.\u001b[0m\u001b[0mT\u001b[0m\u001b[0;34m)\u001b[0m\u001b[0;34m\u001b[0m\u001b[0;34m\u001b[0m\u001b[0m\n\u001b[1;32m    957\u001b[0m         \u001b[0;32mreturn\u001b[0m \u001b[0mresult\u001b[0m\u001b[0;34m\u001b[0m\u001b[0;34m\u001b[0m\u001b[0m\n",
      "\u001b[0;32m~/anaconda3/envs/geo_env/lib/python3.8/site-packages/pyproj/transformer.py\u001b[0m in \u001b[0;36mtransform\u001b[0;34m(self, xx, yy, zz, tt, radians, errcheck, direction, inplace)\u001b[0m\n\u001b[1;32m    746\u001b[0m             \u001b[0mintime\u001b[0m \u001b[0;34m=\u001b[0m \u001b[0;32mNone\u001b[0m\u001b[0;34m\u001b[0m\u001b[0;34m\u001b[0m\u001b[0m\n\u001b[1;32m    747\u001b[0m         \u001b[0;31m# call pj_transform.  inx,iny,inz buffers modified in place.\u001b[0m\u001b[0;34m\u001b[0m\u001b[0;34m\u001b[0m\u001b[0;34m\u001b[0m\u001b[0m\n\u001b[0;32m--> 748\u001b[0;31m         self._transformer._transform(\n\u001b[0m\u001b[1;32m    749\u001b[0m             \u001b[0minx\u001b[0m\u001b[0;34m,\u001b[0m\u001b[0;34m\u001b[0m\u001b[0;34m\u001b[0m\u001b[0m\n\u001b[1;32m    750\u001b[0m             \u001b[0miny\u001b[0m\u001b[0;34m,\u001b[0m\u001b[0;34m\u001b[0m\u001b[0;34m\u001b[0m\u001b[0m\n",
      "\u001b[0;32mpyproj/_transformer.pyx\u001b[0m in \u001b[0;36mpyproj._transformer._Transformer._transform\u001b[0;34m()\u001b[0m\n",
      "\u001b[0;32m~/anaconda3/envs/geo_env/lib/python3.8/site-packages/pyproj/exceptions.py\u001b[0m in \u001b[0;36mclear\u001b[0;34m()\u001b[0m\n\u001b[1;32m     17\u001b[0m         \u001b[0msuper\u001b[0m\u001b[0;34m(\u001b[0m\u001b[0;34m)\u001b[0m\u001b[0;34m.\u001b[0m\u001b[0m__init__\u001b[0m\u001b[0;34m(\u001b[0m\u001b[0merror_message\u001b[0m\u001b[0;34m)\u001b[0m\u001b[0;34m\u001b[0m\u001b[0;34m\u001b[0m\u001b[0m\n\u001b[1;32m     18\u001b[0m \u001b[0;34m\u001b[0m\u001b[0m\n\u001b[0;32m---> 19\u001b[0;31m     \u001b[0;34m@\u001b[0m\u001b[0mstaticmethod\u001b[0m\u001b[0;34m\u001b[0m\u001b[0;34m\u001b[0m\u001b[0m\n\u001b[0m\u001b[1;32m     20\u001b[0m     \u001b[0;32mdef\u001b[0m \u001b[0mclear\u001b[0m\u001b[0;34m(\u001b[0m\u001b[0;34m)\u001b[0m \u001b[0;34m->\u001b[0m \u001b[0;32mNone\u001b[0m\u001b[0;34m:\u001b[0m\u001b[0;34m\u001b[0m\u001b[0;34m\u001b[0m\u001b[0m\n\u001b[1;32m     21\u001b[0m         \"\"\"\n",
      "\u001b[0;31mKeyboardInterrupt\u001b[0m: "
     ]
    }
   ],
   "source": [
    "all_polys = gpd.GeoDataFrame()\n",
    "\n",
    "for g in gdf_year.geometry.__geo_interface__['features'][0]['geometry']['coordinates']:\n",
    "    dict_poly = {'type':'Polygon', 'coordinates':g}\n",
    "    hexs = h3.polyfill(dict_poly, 12, geo_json_conformant = True)\n",
    "    polygonise = lambda hex_id: Polygon(\n",
    "                                h3.h3_to_geo_boundary(\n",
    "                                    hex_id, geo_json=True)\n",
    "                                    )\n",
    "\n",
    "    poly_tmp = gpd.GeoSeries(list(map(polygonise, hexs)), \\\n",
    "                                          index=hexs, \\\n",
    "                                          crs=\"EPSG:4326\" \\\n",
    "                                         )\n",
    "    gdf_tmp = gpd.GeoDataFrame(poly_tmp.reset_index()).rename(columns={'index':'hex_id_12',0:'geometry'})\n",
    "    \n",
    "    all_polys = all_polys.append(gdf_tmp, ignore_index=True)\n",
    "    \n",
    "    print((all_polys.to_crs(\"EPSG:32613\").area.sum()/10000)/total_urban)"
   ]
  },
  {
   "cell_type": "code",
   "execution_count": 30,
   "id": "23f349fa-5d8d-4b45-bfe2-370a20d0c191",
   "metadata": {
    "collapsed": true,
    "jupyter": {
     "outputs_hidden": true,
     "source_hidden": true
    },
    "tags": []
   },
   "outputs": [
    {
     "name": "stderr",
     "output_type": "stream",
     "text": [
      "/home/edgar/Repos/Observatorio-ciudades/accesibilidad-urbana/aup/utils.py:335: FutureWarning: Currently, index_parts defaults to True, but in the future, it will default to False to be consistent with Pandas. Use `index_parts=True` to keep the current behavior and True/False to silence the warning.\n",
      "  exploded = polygon.explode().reset_index(drop=True)\n"
     ]
    }
   ],
   "source": [
    "res = 12\n",
    "hex_intersect = aup.create_hexgrid(gdf_year, res)"
   ]
  },
  {
   "cell_type": "code",
   "execution_count": 31,
   "id": "60c6a03e-a08e-4845-82d0-d567c254dac9",
   "metadata": {
    "collapsed": true,
    "jupyter": {
     "outputs_hidden": true,
     "source_hidden": true
    },
    "tags": []
   },
   "outputs": [
    {
     "name": "stdout",
     "output_type": "stream",
     "text": [
      "(2351802, 2)\n"
     ]
    },
    {
     "data": {
      "text/html": [
       "<div>\n",
       "<style scoped>\n",
       "    .dataframe tbody tr th:only-of-type {\n",
       "        vertical-align: middle;\n",
       "    }\n",
       "\n",
       "    .dataframe tbody tr th {\n",
       "        vertical-align: top;\n",
       "    }\n",
       "\n",
       "    .dataframe thead th {\n",
       "        text-align: right;\n",
       "    }\n",
       "</style>\n",
       "<table border=\"1\" class=\"dataframe\">\n",
       "  <thead>\n",
       "    <tr style=\"text-align: right;\">\n",
       "      <th></th>\n",
       "      <th>geometry</th>\n",
       "      <th>hex_id_12</th>\n",
       "    </tr>\n",
       "  </thead>\n",
       "  <tbody>\n",
       "    <tr>\n",
       "      <th>0</th>\n",
       "      <td>POLYGON ((-103.20237 20.34958, -103.20227 20.3...</td>\n",
       "      <td>8c49aa2a6b64bff</td>\n",
       "    </tr>\n",
       "    <tr>\n",
       "      <th>1</th>\n",
       "      <td>POLYGON ((-103.20245 20.34941, -103.20235 20.3...</td>\n",
       "      <td>8c49aa2a44cb5ff</td>\n",
       "    </tr>\n",
       "  </tbody>\n",
       "</table>\n",
       "</div>"
      ],
      "text/plain": [
       "                                            geometry        hex_id_12\n",
       "0  POLYGON ((-103.20237 20.34958, -103.20227 20.3...  8c49aa2a6b64bff\n",
       "1  POLYGON ((-103.20245 20.34941, -103.20235 20.3...  8c49aa2a44cb5ff"
      ]
     },
     "execution_count": 31,
     "metadata": {},
     "output_type": "execute_result"
    }
   ],
   "source": [
    "print(hex_intersect.shape)\n",
    "hex_intersect.head(2)"
   ]
  },
  {
   "cell_type": "code",
   "execution_count": 33,
   "id": "7f483ca4-8564-435e-a3d6-357d46562c19",
   "metadata": {
    "collapsed": true,
    "jupyter": {
     "outputs_hidden": true,
     "source_hidden": true
    },
    "tags": []
   },
   "outputs": [
    {
     "ename": "KeyError",
     "evalue": "0",
     "output_type": "error",
     "traceback": [
      "\u001b[0;31m---------------------------------------------------------------------------\u001b[0m",
      "\u001b[0;31mAttributeError\u001b[0m                            Traceback (most recent call last)",
      "\u001b[0;32m~/anaconda3/envs/geo_env/lib/python3.8/site-packages/shapely/speedups/_speedups.pyx\u001b[0m in \u001b[0;36mshapely.speedups._speedups.geos_linearring_from_py\u001b[0;34m()\u001b[0m\n",
      "\u001b[0;31mAttributeError\u001b[0m: 'dict' object has no attribute '__array_interface__'",
      "\nDuring handling of the above exception, another exception occurred:\n",
      "\u001b[0;31mKeyError\u001b[0m                                  Traceback (most recent call last)",
      "\u001b[0;32m<ipython-input-34-59ec79c53e84>\u001b[0m in \u001b[0;36m<module>\u001b[0;34m\u001b[0m\n\u001b[1;32m      3\u001b[0m \u001b[0;34m\u001b[0m\u001b[0m\n\u001b[1;32m      4\u001b[0m \u001b[0;34m\u001b[0m\u001b[0m\n\u001b[0;32m----> 5\u001b[0;31m \u001b[0mhexs\u001b[0m \u001b[0;34m=\u001b[0m \u001b[0mh3\u001b[0m\u001b[0;34m.\u001b[0m\u001b[0mpolyfill\u001b[0m\u001b[0;34m(\u001b[0m\u001b[0mPolygon\u001b[0m\u001b[0;34m(\u001b[0m\u001b[0mgdf_year\u001b[0m\u001b[0;34m.\u001b[0m\u001b[0mgeometry\u001b[0m\u001b[0;34m.\u001b[0m\u001b[0m__geo_interface__\u001b[0m\u001b[0;34m[\u001b[0m\u001b[0;34m'features'\u001b[0m\u001b[0;34m]\u001b[0m\u001b[0;34m[\u001b[0m\u001b[0;36m0\u001b[0m\u001b[0;34m]\u001b[0m\u001b[0;34m[\u001b[0m\u001b[0;34m'geometry'\u001b[0m\u001b[0;34m]\u001b[0m\u001b[0;34m)\u001b[0m\u001b[0;34m,\u001b[0m \u001b[0;36m12\u001b[0m\u001b[0;34m,\u001b[0m \u001b[0mgeo_json_conformant\u001b[0m \u001b[0;34m=\u001b[0m \u001b[0;32mTrue\u001b[0m\u001b[0;34m)\u001b[0m\u001b[0;34m\u001b[0m\u001b[0;34m\u001b[0m\u001b[0m\n\u001b[0m",
      "\u001b[0;32m~/anaconda3/envs/geo_env/lib/python3.8/site-packages/shapely/geometry/polygon.py\u001b[0m in \u001b[0;36m__init__\u001b[0;34m(self, shell, holes)\u001b[0m\n\u001b[1;32m    259\u001b[0m \u001b[0;34m\u001b[0m\u001b[0m\n\u001b[1;32m    260\u001b[0m         \u001b[0;32mif\u001b[0m \u001b[0mshell\u001b[0m \u001b[0;32mis\u001b[0m \u001b[0;32mnot\u001b[0m \u001b[0;32mNone\u001b[0m\u001b[0;34m:\u001b[0m\u001b[0;34m\u001b[0m\u001b[0;34m\u001b[0m\u001b[0m\n\u001b[0;32m--> 261\u001b[0;31m             \u001b[0mret\u001b[0m \u001b[0;34m=\u001b[0m \u001b[0mgeos_polygon_from_py\u001b[0m\u001b[0;34m(\u001b[0m\u001b[0mshell\u001b[0m\u001b[0;34m,\u001b[0m \u001b[0mholes\u001b[0m\u001b[0;34m)\u001b[0m\u001b[0;34m\u001b[0m\u001b[0;34m\u001b[0m\u001b[0m\n\u001b[0m\u001b[1;32m    262\u001b[0m             \u001b[0;32mif\u001b[0m \u001b[0mret\u001b[0m \u001b[0;32mis\u001b[0m \u001b[0;32mnot\u001b[0m \u001b[0;32mNone\u001b[0m\u001b[0;34m:\u001b[0m\u001b[0;34m\u001b[0m\u001b[0;34m\u001b[0m\u001b[0m\n\u001b[1;32m    263\u001b[0m                 \u001b[0mgeom\u001b[0m\u001b[0;34m,\u001b[0m \u001b[0mn\u001b[0m \u001b[0;34m=\u001b[0m \u001b[0mret\u001b[0m\u001b[0;34m\u001b[0m\u001b[0;34m\u001b[0m\u001b[0m\n",
      "\u001b[0;32m~/anaconda3/envs/geo_env/lib/python3.8/site-packages/shapely/geometry/polygon.py\u001b[0m in \u001b[0;36mgeos_polygon_from_py\u001b[0;34m(shell, holes)\u001b[0m\n\u001b[1;32m    537\u001b[0m \u001b[0;34m\u001b[0m\u001b[0m\n\u001b[1;32m    538\u001b[0m     \u001b[0;32mif\u001b[0m \u001b[0mshell\u001b[0m \u001b[0;32mis\u001b[0m \u001b[0;32mnot\u001b[0m \u001b[0;32mNone\u001b[0m\u001b[0;34m:\u001b[0m\u001b[0;34m\u001b[0m\u001b[0;34m\u001b[0m\u001b[0m\n\u001b[0;32m--> 539\u001b[0;31m         \u001b[0mret\u001b[0m \u001b[0;34m=\u001b[0m \u001b[0mgeos_linearring_from_py\u001b[0m\u001b[0;34m(\u001b[0m\u001b[0mshell\u001b[0m\u001b[0;34m)\u001b[0m\u001b[0;34m\u001b[0m\u001b[0;34m\u001b[0m\u001b[0m\n\u001b[0m\u001b[1;32m    540\u001b[0m         \u001b[0;32mif\u001b[0m \u001b[0mret\u001b[0m \u001b[0;32mis\u001b[0m \u001b[0;32mNone\u001b[0m\u001b[0;34m:\u001b[0m\u001b[0;34m\u001b[0m\u001b[0;34m\u001b[0m\u001b[0m\n\u001b[1;32m    541\u001b[0m             \u001b[0;32mreturn\u001b[0m \u001b[0;32mNone\u001b[0m\u001b[0;34m\u001b[0m\u001b[0;34m\u001b[0m\u001b[0m\n",
      "\u001b[0;32m~/anaconda3/envs/geo_env/lib/python3.8/site-packages/shapely/speedups/_speedups.pyx\u001b[0m in \u001b[0;36mshapely.speedups._speedups.geos_linearring_from_py\u001b[0;34m()\u001b[0m\n",
      "\u001b[0;31mKeyError\u001b[0m: 0"
     ]
    }
   ],
   "source": [
    "hexs = h3.polyfill(gdf_year.geometry.__geo_interface__['features'][0]['geometry'], 12, geo_json_conformant = True)"
   ]
  },
  {
   "cell_type": "markdown",
   "id": "21b578fe-da82-48a9-acc1-c9e634853dcf",
   "metadata": {
    "tags": []
   },
   "source": [
    "### Intersection"
   ]
  },
  {
   "cell_type": "code",
   "execution_count": null,
   "id": "9c387d61-af8f-45a0-b087-485b250c6a14",
   "metadata": {
    "jupyter": {
     "source_hidden": true
    },
    "tags": []
   },
   "outputs": [],
   "source": [
    "res_union = hex_gdf.overlay(gdf_year, how='intersection')\n",
    "res_union"
   ]
  },
  {
   "cell_type": "markdown",
   "id": "aa5d8a9c-df01-4226-8ef4-2e546ca92bab",
   "metadata": {
    "tags": []
   },
   "source": [
    "### Percentage of urbanization"
   ]
  },
  {
   "cell_type": "code",
   "execution_count": 14,
   "id": "b6c49c3f-4480-40f8-80fc-773462fc1ee1",
   "metadata": {
    "collapsed": true,
    "jupyter": {
     "outputs_hidden": true,
     "source_hidden": true
    },
    "tags": []
   },
   "outputs": [
    {
     "name": "stdout",
     "output_type": "stream",
     "text": [
      "(1156, 5)\n"
     ]
    },
    {
     "data": {
      "text/html": [
       "<div>\n",
       "<style scoped>\n",
       "    .dataframe tbody tr th:only-of-type {\n",
       "        vertical-align: middle;\n",
       "    }\n",
       "\n",
       "    .dataframe tbody tr th {\n",
       "        vertical-align: top;\n",
       "    }\n",
       "\n",
       "    .dataframe thead th {\n",
       "        text-align: right;\n",
       "    }\n",
       "</style>\n",
       "<table border=\"1\" class=\"dataframe\">\n",
       "  <thead>\n",
       "    <tr style=\"text-align: right;\">\n",
       "      <th></th>\n",
       "      <th>hex_id_7</th>\n",
       "      <th>uso</th>\n",
       "      <th>geometry</th>\n",
       "      <th>year</th>\n",
       "      <th>area</th>\n",
       "    </tr>\n",
       "  </thead>\n",
       "  <tbody>\n",
       "    <tr>\n",
       "      <th>0</th>\n",
       "      <td>87498c971ffffff</td>\n",
       "      <td>urbano</td>\n",
       "      <td>POLYGON ((677290.003 2285796.523, 678822.104 2...</td>\n",
       "      <td>2015</td>\n",
       "      <td>610.98887</td>\n",
       "    </tr>\n",
       "    <tr>\n",
       "      <th>1</th>\n",
       "      <td>8749ab596ffffff</td>\n",
       "      <td>urbano</td>\n",
       "      <td>POLYGON ((669186.861 2281106.879, 669842.524 2...</td>\n",
       "      <td>2015</td>\n",
       "      <td>611.06254</td>\n",
       "    </tr>\n",
       "  </tbody>\n",
       "</table>\n",
       "</div>"
      ],
      "text/plain": [
       "          hex_id_7     uso                                           geometry  \\\n",
       "0  87498c971ffffff  urbano  POLYGON ((677290.003 2285796.523, 678822.104 2...   \n",
       "1  8749ab596ffffff  urbano  POLYGON ((669186.861 2281106.879, 669842.524 2...   \n",
       "\n",
       "   year       area  \n",
       "0  2015  610.98887  \n",
       "1  2015  611.06254  "
      ]
     },
     "execution_count": 14,
     "metadata": {},
     "output_type": "execute_result"
    }
   ],
   "source": [
    "res_union['area'] = res_union.area/10000\n",
    "print(res_union.shape)\n",
    "res_union.head(2)"
   ]
  },
  {
   "cell_type": "code",
   "execution_count": 15,
   "id": "7c5daf98-2912-4600-bd14-166387c53eff",
   "metadata": {
    "collapsed": true,
    "jupyter": {
     "outputs_hidden": true,
     "source_hidden": true
    },
    "tags": []
   },
   "outputs": [
    {
     "data": {
      "text/html": [
       "<div>\n",
       "<style scoped>\n",
       "    .dataframe tbody tr th:only-of-type {\n",
       "        vertical-align: middle;\n",
       "    }\n",
       "\n",
       "    .dataframe tbody tr th {\n",
       "        vertical-align: top;\n",
       "    }\n",
       "\n",
       "    .dataframe thead th {\n",
       "        text-align: right;\n",
       "    }\n",
       "</style>\n",
       "<table border=\"1\" class=\"dataframe\">\n",
       "  <thead>\n",
       "    <tr style=\"text-align: right;\">\n",
       "      <th></th>\n",
       "      <th>hex_id_7</th>\n",
       "      <th>uso</th>\n",
       "      <th>geometry</th>\n",
       "      <th>year</th>\n",
       "      <th>area</th>\n",
       "      <th>urb_pct</th>\n",
       "    </tr>\n",
       "  </thead>\n",
       "  <tbody>\n",
       "    <tr>\n",
       "      <th>0</th>\n",
       "      <td>87498c971ffffff</td>\n",
       "      <td>urbano</td>\n",
       "      <td>POLYGON ((677290.003 2285796.523, 678822.104 2...</td>\n",
       "      <td>2015</td>\n",
       "      <td>610.98887</td>\n",
       "      <td>0.99999</td>\n",
       "    </tr>\n",
       "    <tr>\n",
       "      <th>1</th>\n",
       "      <td>8749ab596ffffff</td>\n",
       "      <td>urbano</td>\n",
       "      <td>POLYGON ((669186.861 2281106.879, 669842.524 2...</td>\n",
       "      <td>2015</td>\n",
       "      <td>611.06254</td>\n",
       "      <td>1.00011</td>\n",
       "    </tr>\n",
       "  </tbody>\n",
       "</table>\n",
       "</div>"
      ],
      "text/plain": [
       "          hex_id_7     uso                                           geometry  \\\n",
       "0  87498c971ffffff  urbano  POLYGON ((677290.003 2285796.523, 678822.104 2...   \n",
       "1  8749ab596ffffff  urbano  POLYGON ((669186.861 2281106.879, 669842.524 2...   \n",
       "\n",
       "   year       area  urb_pct  \n",
       "0  2015  610.98887  0.99999  \n",
       "1  2015  611.06254  1.00011  "
      ]
     },
     "execution_count": 15,
     "metadata": {},
     "output_type": "execute_result"
    }
   ],
   "source": [
    "hex_area = np.mean(hex_gdf.area/10000)\n",
    "res_union['urb_pct'] = round(res_union['area'] / hex_area, 5)\n",
    "res_union.head(2)"
   ]
  },
  {
   "cell_type": "markdown",
   "id": "1ea437fb-6c41-4ddc-bc8e-6b1dbf78d15f",
   "metadata": {
    "jupyter": {
     "source_hidden": true
    },
    "tags": []
   },
   "source": [
    "### Merge with all hexagons"
   ]
  },
  {
   "cell_type": "code",
   "execution_count": 17,
   "id": "b74749f2-937a-424d-9790-1a472c758ae3",
   "metadata": {
    "collapsed": true,
    "jupyter": {
     "outputs_hidden": true,
     "source_hidden": true
    },
    "tags": []
   },
   "outputs": [
    {
     "name": "stdout",
     "output_type": "stream",
     "text": [
      "(1367, 4)\n"
     ]
    },
    {
     "data": {
      "text/html": [
       "<div>\n",
       "<style scoped>\n",
       "    .dataframe tbody tr th:only-of-type {\n",
       "        vertical-align: middle;\n",
       "    }\n",
       "\n",
       "    .dataframe tbody tr th {\n",
       "        vertical-align: top;\n",
       "    }\n",
       "\n",
       "    .dataframe thead th {\n",
       "        text-align: right;\n",
       "    }\n",
       "</style>\n",
       "<table border=\"1\" class=\"dataframe\">\n",
       "  <thead>\n",
       "    <tr style=\"text-align: right;\">\n",
       "      <th></th>\n",
       "      <th>geometry</th>\n",
       "      <th>hex_id_7</th>\n",
       "      <th>urb_pct</th>\n",
       "      <th>year</th>\n",
       "    </tr>\n",
       "  </thead>\n",
       "  <tbody>\n",
       "    <tr>\n",
       "      <th>0</th>\n",
       "      <td>POLYGON ((649466.557 2257379.960, 648810.594 2...</td>\n",
       "      <td>8749abc93ffffff</td>\n",
       "      <td>0.0</td>\n",
       "      <td>NaN</td>\n",
       "    </tr>\n",
       "    <tr>\n",
       "      <th>1</th>\n",
       "      <td>POLYGON ((649025.275 2252099.238, 648369.367 2...</td>\n",
       "      <td>8749abc94ffffff</td>\n",
       "      <td>0.0</td>\n",
       "      <td>NaN</td>\n",
       "    </tr>\n",
       "    <tr>\n",
       "      <th>2</th>\n",
       "      <td>POLYGON ((642244.161 2263253.432, 643120.788 2...</td>\n",
       "      <td>8749ab526ffffff</td>\n",
       "      <td>0.0</td>\n",
       "      <td>NaN</td>\n",
       "    </tr>\n",
       "    <tr>\n",
       "      <th>3</th>\n",
       "      <td>POLYGON ((644648.271 2255094.427, 643771.702 2...</td>\n",
       "      <td>8749abc95ffffff</td>\n",
       "      <td>0.0</td>\n",
       "      <td>NaN</td>\n",
       "    </tr>\n",
       "  </tbody>\n",
       "</table>\n",
       "</div>"
      ],
      "text/plain": [
       "                                            geometry         hex_id_7  \\\n",
       "0  POLYGON ((649466.557 2257379.960, 648810.594 2...  8749abc93ffffff   \n",
       "1  POLYGON ((649025.275 2252099.238, 648369.367 2...  8749abc94ffffff   \n",
       "2  POLYGON ((642244.161 2263253.432, 643120.788 2...  8749ab526ffffff   \n",
       "3  POLYGON ((644648.271 2255094.427, 643771.702 2...  8749abc95ffffff   \n",
       "\n",
       "   urb_pct  year  \n",
       "0      0.0   NaN  \n",
       "1      0.0   NaN  \n",
       "2      0.0   NaN  \n",
       "3      0.0   NaN  "
      ]
     },
     "execution_count": 17,
     "metadata": {},
     "output_type": "execute_result"
    }
   ],
   "source": [
    "hex_mrg = hex_gdf.merge(res_union[['hex_id_7','urb_pct','year']], on='hex_id_7', how='left')\n",
    "hex_mrg['urb_pct'].fillna(0, inplace=True)\n",
    "print(hex_mrg.shape)\n",
    "hex_mrg.head(4)"
   ]
  },
  {
   "cell_type": "code",
   "execution_count": null,
   "id": "6270cce0-3a99-473c-b659-d8f141e54228",
   "metadata": {
    "jupyter": {
     "source_hidden": true
    },
    "tags": []
   },
   "outputs": [],
   "source": [
    "hex_mrg.plot('urb_pct')"
   ]
  },
  {
   "cell_type": "markdown",
   "id": "797fa263-cd1d-4b15-87e1-5352f7fa2c3b",
   "metadata": {},
   "source": [
    "## Distance to urbanization"
   ]
  },
  {
   "cell_type": "markdown",
   "id": "d689a01d-52b4-4853-bad6-87657be22afd",
   "metadata": {},
   "source": [
    "### Centroids from hexagons"
   ]
  },
  {
   "cell_type": "code",
   "execution_count": 17,
   "id": "70dfad3f-6167-4696-b801-d46743a0a398",
   "metadata": {},
   "outputs": [],
   "source": [
    "G,_,_ = aup.graph_from_hippo(mun_gdf, 'osmnx')"
   ]
  },
  {
   "cell_type": "code",
   "execution_count": 82,
   "id": "1947dd86-044f-4ec0-ab6b-106824705827",
   "metadata": {},
   "outputs": [],
   "source": [
    "#hex_analysis = res_union.copy()\n",
    "#hex_analysis['year'] = pd.to_numeric(hex_analysis['year'], downcast='integer')\n",
    "#hex_analysis['distance_urb'] = np.nan\n",
    "#hex_analysis['prev_year_urb'] = np.nan"
   ]
  },
  {
   "cell_type": "code",
   "execution_count": 18,
   "id": "e52645f7-f404-4b2e-bf4b-f0979d07be7d",
   "metadata": {},
   "outputs": [],
   "source": [
    "year_prev = {2000:1990,\n",
    "            2010:2005,\n",
    "            2005:2000,\n",
    "            2015:2010,\n",
    "            2020:2015,\n",
    "            1990:1980,\n",
    "            1980:1970,\n",
    "            1970:1940,\n",
    "            1940:1902}\n",
    "\n",
    "res_union['year'] = pd.to_numeric(res_union['year'], downcast='integer')"
   ]
  },
  {
   "cell_type": "code",
   "execution_count": 19,
   "id": "ac5e24ca-6894-418f-8ca0-a500e9271553",
   "metadata": {
    "tags": []
   },
   "outputs": [
    {
     "name": "stdout",
     "output_type": "stream",
     "text": [
      "Finished year 1940\n",
      "Finished year 1970\n",
      "Finished year 1980\n",
      "Finished year 1990\n",
      "Finished year 2000\n",
      "Finished year 2005\n",
      "Finished year 2010\n",
      "Finished year 2015\n"
     ]
    }
   ],
   "source": [
    "years = [1940,1970,1980,1990,2000,2005,2010,2015]\n",
    "\n",
    "hex_urb_analysis = gpd.GeoDataFrame()\n",
    "\n",
    "for y in years:\n",
    "    #extract hexagons centroids for specific year\n",
    "    hex_tmp = res_union.loc[res_union['year']==y].copy()\n",
    "    hex_cnt = hex_tmp.centroid\n",
    "    df_tmp = pd.DataFrame(hex_cnt, columns=['geometry'])\n",
    "    hex_cnt = gpd.GeoDataFrame(df_tmp, geometry='geometry')\n",
    "        \n",
    "    #gather centroid from highly urbanized hexagons form a previous year\n",
    "    hex_urb = res_union.loc[res_union['year']==year_prev[y]].copy()\n",
    "    cnt_urb = hex_urb.loc[hex_urb.urb_pct>=0.8].centroid\n",
    "    df_tmp = pd.DataFrame(cnt_urb, columns=['geometry'])\n",
    "    cnt_urb = gpd.GeoDataFrame(df_tmp, geometry='geometry')\n",
    "    \n",
    "    #set crs and get coordinates\n",
    "    hex_cnt = hex_cnt.set_crs(\"EPSG:32613\")\n",
    "    cnt_urb = cnt_urb.set_crs(\"EPSG:32613\")\n",
    "    hex_tmp = hex_tmp.to_crs(\"EPSG:32613\")\n",
    "\n",
    "    hex_cnt = hex_cnt.to_crs(\"EPSG:4326\")\n",
    "    cnt_urb = cnt_urb.to_crs(\"EPSG:4326\")\n",
    "    \n",
    "    cnt_urb['x'] = cnt_urb.geometry.x\n",
    "    cnt_urb['y'] = cnt_urb.geometry.y\n",
    "    hex_cnt['x'] = hex_cnt.geometry.x\n",
    "    hex_cnt['y'] = hex_cnt.geometry.y\n",
    "    \n",
    "    #calculate distance to previous year highly urbanized hexagos\n",
    "    dist_node = aup.find_nearest(G, cnt_urb, hex_cnt, return_distance=True)\n",
    "    dist_node = dist_node.to_crs(\"EPSG:32613\")\n",
    "    hex_dist_urb = hex_tmp.sjoin(dist_node[['geometry','distance_node']])[['geometry','hex_id_9','urb_pct','distance_node']].copy()\n",
    "    hex_dist_urb.rename(columns={'distance_node':'distance_urb'}, inplace=True)\n",
    "    \n",
    "    hex_mrg = res_union.loc[res_union.year==y].merge(hex_dist_urb[['hex_id_9','distance_urb']], on='hex_id_9', how='left')\n",
    "    hex_mrg['year'] = y\n",
    "    \n",
    "    hex_urb_analysis = hex_urb_analysis.append(hex_mrg)\n",
    "        \n",
    "    print(f\"Finished year {y}\")"
   ]
  },
  {
   "cell_type": "code",
   "execution_count": 20,
   "id": "817867fe-b4e4-4727-b203-40bd019f4010",
   "metadata": {},
   "outputs": [
    {
     "data": {
      "text/html": [
       "<div>\n",
       "<style scoped>\n",
       "    .dataframe tbody tr th:only-of-type {\n",
       "        vertical-align: middle;\n",
       "    }\n",
       "\n",
       "    .dataframe tbody tr th {\n",
       "        vertical-align: top;\n",
       "    }\n",
       "\n",
       "    .dataframe thead th {\n",
       "        text-align: right;\n",
       "    }\n",
       "</style>\n",
       "<table border=\"1\" class=\"dataframe\">\n",
       "  <thead>\n",
       "    <tr style=\"text-align: right;\">\n",
       "      <th></th>\n",
       "      <th>geometry</th>\n",
       "      <th>hex_id_9</th>\n",
       "      <th>area</th>\n",
       "      <th>urb_pct</th>\n",
       "      <th>year</th>\n",
       "      <th>distance_urb</th>\n",
       "    </tr>\n",
       "  </thead>\n",
       "  <tbody>\n",
       "    <tr>\n",
       "      <th>0</th>\n",
       "      <td>POLYGON ((671345.303 2281889.224, 671564.195 2...</td>\n",
       "      <td>89498c9656bffff</td>\n",
       "      <td>NaN</td>\n",
       "      <td>0.0</td>\n",
       "      <td>1940</td>\n",
       "      <td>3863.100157</td>\n",
       "    </tr>\n",
       "    <tr>\n",
       "      <th>1</th>\n",
       "      <td>POLYGON ((671219.018 2280379.816, 671125.359 2...</td>\n",
       "      <td>89498c965c7ffff</td>\n",
       "      <td>NaN</td>\n",
       "      <td>0.0</td>\n",
       "      <td>1940</td>\n",
       "      <td>5151.182489</td>\n",
       "    </tr>\n",
       "    <tr>\n",
       "      <th>2</th>\n",
       "      <td>POLYGON ((674262.460 2293058.515, 674481.366 2...</td>\n",
       "      <td>89498c94e73ffff</td>\n",
       "      <td>NaN</td>\n",
       "      <td>0.0</td>\n",
       "      <td>1940</td>\n",
       "      <td>4682.547826</td>\n",
       "    </tr>\n",
       "    <tr>\n",
       "      <th>3</th>\n",
       "      <td>POLYGON ((672134.450 2291324.108, 672353.362 2...</td>\n",
       "      <td>89498c94c57ffff</td>\n",
       "      <td>NaN</td>\n",
       "      <td>0.0</td>\n",
       "      <td>1940</td>\n",
       "      <td>1979.995447</td>\n",
       "    </tr>\n",
       "  </tbody>\n",
       "</table>\n",
       "</div>"
      ],
      "text/plain": [
       "                                            geometry         hex_id_9  area  \\\n",
       "0  POLYGON ((671345.303 2281889.224, 671564.195 2...  89498c9656bffff   NaN   \n",
       "1  POLYGON ((671219.018 2280379.816, 671125.359 2...  89498c965c7ffff   NaN   \n",
       "2  POLYGON ((674262.460 2293058.515, 674481.366 2...  89498c94e73ffff   NaN   \n",
       "3  POLYGON ((672134.450 2291324.108, 672353.362 2...  89498c94c57ffff   NaN   \n",
       "\n",
       "   urb_pct  year  distance_urb  \n",
       "0      0.0  1940   3863.100157  \n",
       "1      0.0  1940   5151.182489  \n",
       "2      0.0  1940   4682.547826  \n",
       "3      0.0  1940   1979.995447  "
      ]
     },
     "execution_count": 20,
     "metadata": {},
     "output_type": "execute_result"
    }
   ],
   "source": [
    "hex_urb_analysis.head(4)"
   ]
  },
  {
   "cell_type": "markdown",
   "id": "6730840d-f797-4b92-acb3-13e33ffe0220",
   "metadata": {
    "tags": []
   },
   "source": [
    "## Urbanization percentage previous year"
   ]
  },
  {
   "cell_type": "code",
   "execution_count": 21,
   "id": "281375b9-c733-481a-8070-ddbc6b4060a4",
   "metadata": {
    "tags": []
   },
   "outputs": [
    {
     "name": "stdout",
     "output_type": "stream",
     "text": [
      "Finished year 1940\n",
      "Finished year 1970\n",
      "Finished year 1980\n",
      "Finished year 1990\n",
      "Finished year 2000\n",
      "Finished year 2005\n",
      "Finished year 2010\n",
      "Finished year 2015\n"
     ]
    }
   ],
   "source": [
    "hex_analysis = gpd.GeoDataFrame()\n",
    "\n",
    "for y in years:\n",
    "    \n",
    "    hex_mrg = hex_urb_analysis.loc[hex_urb_analysis.year==y].merge(res_union.loc[\n",
    "        res_union.year==year_prev[y]][['hex_id_9','urb_pct']], on='hex_id_9', how='left')\n",
    "    \n",
    "    hex_analysis = hex_analysis.append(hex_mrg)\n",
    "    \n",
    "    print(f\"Finished year {y}\")"
   ]
  },
  {
   "cell_type": "code",
   "execution_count": 22,
   "id": "b13cb988-f0cd-40a9-b4a5-1b5209448c03",
   "metadata": {},
   "outputs": [
    {
     "data": {
      "text/html": [
       "<div>\n",
       "<style scoped>\n",
       "    .dataframe tbody tr th:only-of-type {\n",
       "        vertical-align: middle;\n",
       "    }\n",
       "\n",
       "    .dataframe tbody tr th {\n",
       "        vertical-align: top;\n",
       "    }\n",
       "\n",
       "    .dataframe thead th {\n",
       "        text-align: right;\n",
       "    }\n",
       "</style>\n",
       "<table border=\"1\" class=\"dataframe\">\n",
       "  <thead>\n",
       "    <tr style=\"text-align: right;\">\n",
       "      <th></th>\n",
       "      <th>geometry</th>\n",
       "      <th>hex_id_9</th>\n",
       "      <th>area</th>\n",
       "      <th>urb_pct_x</th>\n",
       "      <th>year</th>\n",
       "      <th>distance_urb</th>\n",
       "      <th>urb_pct_y</th>\n",
       "    </tr>\n",
       "  </thead>\n",
       "  <tbody>\n",
       "    <tr>\n",
       "      <th>0</th>\n",
       "      <td>POLYGON ((671345.303 2281889.224, 671564.195 2...</td>\n",
       "      <td>89498c9656bffff</td>\n",
       "      <td>NaN</td>\n",
       "      <td>0.0</td>\n",
       "      <td>1940</td>\n",
       "      <td>3863.100157</td>\n",
       "      <td>0.0</td>\n",
       "    </tr>\n",
       "    <tr>\n",
       "      <th>1</th>\n",
       "      <td>POLYGON ((671219.018 2280379.816, 671125.359 2...</td>\n",
       "      <td>89498c965c7ffff</td>\n",
       "      <td>NaN</td>\n",
       "      <td>0.0</td>\n",
       "      <td>1940</td>\n",
       "      <td>5151.182489</td>\n",
       "      <td>0.0</td>\n",
       "    </tr>\n",
       "    <tr>\n",
       "      <th>2</th>\n",
       "      <td>POLYGON ((674262.460 2293058.515, 674481.366 2...</td>\n",
       "      <td>89498c94e73ffff</td>\n",
       "      <td>NaN</td>\n",
       "      <td>0.0</td>\n",
       "      <td>1940</td>\n",
       "      <td>4682.547826</td>\n",
       "      <td>0.0</td>\n",
       "    </tr>\n",
       "    <tr>\n",
       "      <th>3</th>\n",
       "      <td>POLYGON ((672134.450 2291324.108, 672353.362 2...</td>\n",
       "      <td>89498c94c57ffff</td>\n",
       "      <td>NaN</td>\n",
       "      <td>0.0</td>\n",
       "      <td>1940</td>\n",
       "      <td>1979.995447</td>\n",
       "      <td>0.0</td>\n",
       "    </tr>\n",
       "  </tbody>\n",
       "</table>\n",
       "</div>"
      ],
      "text/plain": [
       "                                            geometry         hex_id_9  area  \\\n",
       "0  POLYGON ((671345.303 2281889.224, 671564.195 2...  89498c9656bffff   NaN   \n",
       "1  POLYGON ((671219.018 2280379.816, 671125.359 2...  89498c965c7ffff   NaN   \n",
       "2  POLYGON ((674262.460 2293058.515, 674481.366 2...  89498c94e73ffff   NaN   \n",
       "3  POLYGON ((672134.450 2291324.108, 672353.362 2...  89498c94c57ffff   NaN   \n",
       "\n",
       "   urb_pct_x  year  distance_urb  urb_pct_y  \n",
       "0        0.0  1940   3863.100157        0.0  \n",
       "1        0.0  1940   5151.182489        0.0  \n",
       "2        0.0  1940   4682.547826        0.0  \n",
       "3        0.0  1940   1979.995447        0.0  "
      ]
     },
     "execution_count": 22,
     "metadata": {},
     "output_type": "execute_result"
    }
   ],
   "source": [
    "hex_analysis.head(4)"
   ]
  },
  {
   "cell_type": "code",
   "execution_count": 23,
   "id": "58d05c59-7c53-4984-b081-eb1b23bc1801",
   "metadata": {},
   "outputs": [],
   "source": [
    "hex_analysis = hex_analysis.rename(columns={'urb_pct_x':'urb_pct',\n",
    "                                                              'urb_pct_y':'prev_year_urb'})"
   ]
  },
  {
   "cell_type": "markdown",
   "id": "6eb055ab-1660-4106-b6d1-9fcb50c320a8",
   "metadata": {},
   "source": [
    "## Urbanization percentage next year"
   ]
  },
  {
   "cell_type": "code",
   "execution_count": 24,
   "id": "dfd3d3e3-beca-4761-a8ae-fa7902eebb32",
   "metadata": {},
   "outputs": [],
   "source": [
    "year_next = {1990:2000,\n",
    "            2000:2005,\n",
    "            2005:2010,\n",
    "            2010:2015,\n",
    "            1940:1970,\n",
    "            1970:1980,\n",
    "            1980:1990,\n",
    "            2015:2020}"
   ]
  },
  {
   "cell_type": "code",
   "execution_count": 25,
   "id": "4d251c52-1529-4d5b-89db-4e63b2bbf929",
   "metadata": {},
   "outputs": [
    {
     "name": "stdout",
     "output_type": "stream",
     "text": [
      "Finished year 1940\n",
      "Finished year 1970\n",
      "Finished year 1980\n",
      "Finished year 1990\n",
      "Finished year 2000\n",
      "Finished year 2005\n",
      "Finished year 2010\n",
      "Finished year 2015\n"
     ]
    }
   ],
   "source": [
    "hex_tmp = gpd.GeoDataFrame()\n",
    "years = [1940,1970,1980,1990,2000,2005,2010,2015]\n",
    "\n",
    "\n",
    "for y in years:\n",
    "    \n",
    "    hex_mrg = hex_analysis.loc[hex_analysis.year==y].merge(res_union.loc[\n",
    "        res_union.year==year_next[y]][['hex_id_9','urb_pct']], on='hex_id_9', how='left')\n",
    "    \n",
    "    hex_tmp = hex_tmp.append(hex_mrg)\n",
    "    \n",
    "    print(f\"Finished year {y}\")\n",
    "\n",
    "hex_analysis = hex_tmp.copy()"
   ]
  },
  {
   "cell_type": "code",
   "execution_count": 26,
   "id": "b90b25cc-65b0-42d7-86c9-2450e149cde6",
   "metadata": {},
   "outputs": [
    {
     "data": {
      "text/html": [
       "<div>\n",
       "<style scoped>\n",
       "    .dataframe tbody tr th:only-of-type {\n",
       "        vertical-align: middle;\n",
       "    }\n",
       "\n",
       "    .dataframe tbody tr th {\n",
       "        vertical-align: top;\n",
       "    }\n",
       "\n",
       "    .dataframe thead th {\n",
       "        text-align: right;\n",
       "    }\n",
       "</style>\n",
       "<table border=\"1\" class=\"dataframe\">\n",
       "  <thead>\n",
       "    <tr style=\"text-align: right;\">\n",
       "      <th></th>\n",
       "      <th>geometry</th>\n",
       "      <th>hex_id_9</th>\n",
       "      <th>area</th>\n",
       "      <th>urb_pct_x</th>\n",
       "      <th>year</th>\n",
       "      <th>distance_urb</th>\n",
       "      <th>prev_year_urb</th>\n",
       "      <th>urb_pct_y</th>\n",
       "    </tr>\n",
       "  </thead>\n",
       "  <tbody>\n",
       "    <tr>\n",
       "      <th>0</th>\n",
       "      <td>POLYGON ((671345.303 2281889.224, 671564.195 2...</td>\n",
       "      <td>89498c9656bffff</td>\n",
       "      <td>NaN</td>\n",
       "      <td>0.0</td>\n",
       "      <td>1940</td>\n",
       "      <td>3863.100157</td>\n",
       "      <td>0.0</td>\n",
       "      <td>1.00003</td>\n",
       "    </tr>\n",
       "    <tr>\n",
       "      <th>1</th>\n",
       "      <td>POLYGON ((671219.018 2280379.816, 671125.359 2...</td>\n",
       "      <td>89498c965c7ffff</td>\n",
       "      <td>NaN</td>\n",
       "      <td>0.0</td>\n",
       "      <td>1940</td>\n",
       "      <td>5151.182489</td>\n",
       "      <td>0.0</td>\n",
       "      <td>0.00000</td>\n",
       "    </tr>\n",
       "    <tr>\n",
       "      <th>2</th>\n",
       "      <td>POLYGON ((674262.460 2293058.515, 674481.366 2...</td>\n",
       "      <td>89498c94e73ffff</td>\n",
       "      <td>NaN</td>\n",
       "      <td>0.0</td>\n",
       "      <td>1940</td>\n",
       "      <td>4682.547826</td>\n",
       "      <td>0.0</td>\n",
       "      <td>0.00000</td>\n",
       "    </tr>\n",
       "    <tr>\n",
       "      <th>3</th>\n",
       "      <td>POLYGON ((672134.450 2291324.108, 672353.362 2...</td>\n",
       "      <td>89498c94c57ffff</td>\n",
       "      <td>NaN</td>\n",
       "      <td>0.0</td>\n",
       "      <td>1940</td>\n",
       "      <td>1979.995447</td>\n",
       "      <td>0.0</td>\n",
       "      <td>0.56561</td>\n",
       "    </tr>\n",
       "  </tbody>\n",
       "</table>\n",
       "</div>"
      ],
      "text/plain": [
       "                                            geometry         hex_id_9  area  \\\n",
       "0  POLYGON ((671345.303 2281889.224, 671564.195 2...  89498c9656bffff   NaN   \n",
       "1  POLYGON ((671219.018 2280379.816, 671125.359 2...  89498c965c7ffff   NaN   \n",
       "2  POLYGON ((674262.460 2293058.515, 674481.366 2...  89498c94e73ffff   NaN   \n",
       "3  POLYGON ((672134.450 2291324.108, 672353.362 2...  89498c94c57ffff   NaN   \n",
       "\n",
       "   urb_pct_x  year  distance_urb  prev_year_urb  urb_pct_y  \n",
       "0        0.0  1940   3863.100157            0.0    1.00003  \n",
       "1        0.0  1940   5151.182489            0.0    0.00000  \n",
       "2        0.0  1940   4682.547826            0.0    0.00000  \n",
       "3        0.0  1940   1979.995447            0.0    0.56561  "
      ]
     },
     "execution_count": 26,
     "metadata": {},
     "output_type": "execute_result"
    }
   ],
   "source": [
    "hex_analysis.head(4)"
   ]
  },
  {
   "cell_type": "code",
   "execution_count": 27,
   "id": "469260f8-4230-49e5-80f5-485e0f68bb1b",
   "metadata": {},
   "outputs": [],
   "source": [
    "hex_analysis = hex_analysis.rename(columns={'urb_pct_x':'urb_pct',\n",
    "                                                              'urb_pct_y':'next_year_urb'})"
   ]
  },
  {
   "cell_type": "markdown",
   "id": "67281e13-7363-4bd6-a9aa-1f604a46e4c4",
   "metadata": {
    "jp-MarkdownHeadingCollapsed": true,
    "tags": []
   },
   "source": [
    "### Download Graph from hippo"
   ]
  },
  {
   "cell_type": "code",
   "execution_count": null,
   "id": "60ca93d6-9558-4b6a-b004-6d61b79ff8ac",
   "metadata": {},
   "outputs": [],
   "source": [
    "hex_cnt = hex_mrg.centroid\n",
    "df_tmp = pd.DataFrame(hex_cnt, columns=['geometry'])\n",
    "hex_cnt = gpd.GeoDataFrame(df_tmp, geometry='geometry')\n",
    "cnt_urb = hex_mrg.loc[hex_mrg.urb_pct>=0.9].centroid\n",
    "df_tmp = pd.DataFrame(cnt_urb, columns=['geometry'])\n",
    "cnt_urb = gpd.GeoDataFrame(df_tmp, geometry='geometry')"
   ]
  },
  {
   "cell_type": "code",
   "execution_count": null,
   "id": "f6bb66a4-59ba-4b69-806d-5beb403527cd",
   "metadata": {},
   "outputs": [],
   "source": [
    "hex_cnt = hex_cnt.to_crs(\"EPSG:4326\")\n",
    "cnt_urb = cnt_urb.to_crs(\"EPSG:4326\")"
   ]
  },
  {
   "cell_type": "code",
   "execution_count": null,
   "id": "8df7e4fd-e2bd-48fb-9667-6d26b4b88e87",
   "metadata": {},
   "outputs": [],
   "source": [
    "cnt_urb['x'] = cnt_urb.geometry.x\n",
    "cnt_urb['y'] = cnt_urb.geometry.y\n",
    "hex_cnt['x'] = hex_cnt.geometry.x\n",
    "hex_cnt['y'] = hex_cnt.geometry.y"
   ]
  },
  {
   "cell_type": "code",
   "execution_count": null,
   "id": "198327bc-5973-4a23-aa16-7fa0895eaebb",
   "metadata": {},
   "outputs": [],
   "source": [
    "dist_node = aup.find_nearest(G, cnt_urb, hex_cnt, return_distance=True)\n",
    "dist_node = dist_node.to_crs(\"EPSG:32613\")\n",
    "hex_dist_urb = hex_mrg.sjoin(dist_node[['geometry','distance_node']])[['geometry','hex_id_7','urb_pct','distance_node']].copy()\n",
    "hex_dist_urb.rename(columns={'distance_node':'distance_urb'}, inplace=True)"
   ]
  },
  {
   "cell_type": "code",
   "execution_count": null,
   "id": "64d29dc2-aea8-41ab-a667-a14cfa07c8d2",
   "metadata": {},
   "outputs": [],
   "source": [
    "hex_dist_urb.plot('distance_urb')"
   ]
  },
  {
   "cell_type": "markdown",
   "id": "db5273e8-d03d-4e25-afdf-3313a10fd19a",
   "metadata": {},
   "source": [
    "## Distance to urban Guadalajara center"
   ]
  },
  {
   "cell_type": "code",
   "execution_count": 28,
   "id": "5526e550-0989-4d54-846f-1a931c6dbeaf",
   "metadata": {},
   "outputs": [],
   "source": [
    "hex_analysis = hex_analysis.set_crs(\"EPSG:32613\")"
   ]
  },
  {
   "cell_type": "code",
   "execution_count": 29,
   "id": "0d4a6c11-1df5-4a8f-bce6-95e5e5ee287b",
   "metadata": {},
   "outputs": [
    {
     "name": "stdout",
     "output_type": "stream",
     "text": [
      "(27, 41)\n"
     ]
    },
    {
     "data": {
      "text/html": [
       "<div>\n",
       "<style scoped>\n",
       "    .dataframe tbody tr th:only-of-type {\n",
       "        vertical-align: middle;\n",
       "    }\n",
       "\n",
       "    .dataframe tbody tr th {\n",
       "        vertical-align: top;\n",
       "    }\n",
       "\n",
       "    .dataframe thead th {\n",
       "        text-align: right;\n",
       "    }\n",
       "</style>\n",
       "<table border=\"1\" class=\"dataframe\">\n",
       "  <thead>\n",
       "    <tr style=\"text-align: right;\">\n",
       "      <th></th>\n",
       "      <th>fid</th>\n",
       "      <th>nombre</th>\n",
       "      <th>clasif</th>\n",
       "      <th>can_rut_tp</th>\n",
       "      <th>cap_rut_tp</th>\n",
       "      <th>dens_pob</th>\n",
       "      <th>pers_ocupa</th>\n",
       "      <th>equipamien</th>\n",
       "      <th>l_tp_masiv</th>\n",
       "      <th>uni_econ</th>\n",
       "      <th>...</th>\n",
       "      <th>auxiliar17</th>\n",
       "      <th>auxiliar18</th>\n",
       "      <th>auxiliar19</th>\n",
       "      <th>auxiliar20</th>\n",
       "      <th>numero</th>\n",
       "      <th>n_centrali</th>\n",
       "      <th>RmvCnt</th>\n",
       "      <th>Tiempo</th>\n",
       "      <th>Cnt_Route</th>\n",
       "      <th>geometry</th>\n",
       "    </tr>\n",
       "  </thead>\n",
       "  <tbody>\n",
       "    <tr>\n",
       "      <th>0</th>\n",
       "      <td>11.0</td>\n",
       "      <td>Centro Tlaquepaque</td>\n",
       "      <td>Centralidad Metropolitana</td>\n",
       "      <td>0.69</td>\n",
       "      <td>0.32</td>\n",
       "      <td>1.0</td>\n",
       "      <td>0.48</td>\n",
       "      <td>0.94</td>\n",
       "      <td>0.5</td>\n",
       "      <td>0.58</td>\n",
       "      <td>...</td>\n",
       "      <td>None</td>\n",
       "      <td>1.0</td>\n",
       "      <td>675392.648633</td>\n",
       "      <td>2.283998e+06</td>\n",
       "      <td>3.0</td>\n",
       "      <td>Centro &amp;Tlaquepaque</td>\n",
       "      <td>2</td>\n",
       "      <td>2040</td>\n",
       "      <td>1</td>\n",
       "      <td>POINT (-103.31079 20.63935)</td>\n",
       "    </tr>\n",
       "  </tbody>\n",
       "</table>\n",
       "<p>1 rows × 41 columns</p>\n",
       "</div>"
      ],
      "text/plain": [
       "    fid              nombre                     clasif  can_rut_tp  \\\n",
       "0  11.0  Centro Tlaquepaque  Centralidad Metropolitana        0.69   \n",
       "\n",
       "   cap_rut_tp  dens_pob  pers_ocupa  equipamien  l_tp_masiv  uni_econ  ...  \\\n",
       "0        0.32       1.0        0.48        0.94         0.5      0.58  ...   \n",
       "\n",
       "   auxiliar17  auxiliar18     auxiliar19    auxiliar20 numero  \\\n",
       "0        None         1.0  675392.648633  2.283998e+06    3.0   \n",
       "\n",
       "            n_centrali RmvCnt Tiempo Cnt_Route                     geometry  \n",
       "0  Centro &Tlaquepaque      2   2040         1  POINT (-103.31079 20.63935)  \n",
       "\n",
       "[1 rows x 41 columns]"
      ]
     },
     "execution_count": 29,
     "metadata": {},
     "output_type": "execute_result"
    }
   ],
   "source": [
    "gdf_cnt = gpd.read_file('../data/processed/Centralidades/Centralidades_AMG_2020-2040_UTM_v1.geojson', driver='GeoJSON')\n",
    "gdf_cnt = gdf_cnt.to_crs(\"EPSG:4326\")\n",
    "print(gdf_cnt.shape)\n",
    "gdf_cnt.head(1)"
   ]
  },
  {
   "cell_type": "code",
   "execution_count": 30,
   "id": "bdb307a3-306c-41bd-9821-a89a06e78884",
   "metadata": {},
   "outputs": [
    {
     "data": {
      "text/plain": [
       "<AxesSubplot:>"
      ]
     },
     "execution_count": 30,
     "metadata": {},
     "output_type": "execute_result"
    },
    {
     "data": {
      "image/png": "[encoded data removed]",
      "text/plain": [
       "<Figure size 432x288 with 1 Axes>"
      ]
     },
     "metadata": {
      "needs_background": "light"
     },
     "output_type": "display_data"
    }
   ],
   "source": [
    "gdf_cnt = gdf_cnt[gdf_cnt['numero'].isin([2])]\n",
    "gdf_cnt.plot()"
   ]
  },
  {
   "cell_type": "code",
   "execution_count": 31,
   "id": "ff38a63e-9550-4ebd-a537-dc20f3ae1309",
   "metadata": {},
   "outputs": [],
   "source": [
    "gdf_cnt['x'] = gdf_cnt.geometry.x\n",
    "gdf_cnt['y'] = gdf_cnt.geometry.y"
   ]
  },
  {
   "cell_type": "code",
   "execution_count": 32,
   "id": "5b098504-8f7f-424d-8d39-70f207119739",
   "metadata": {},
   "outputs": [],
   "source": [
    "dist_node = aup.find_nearest(G, gdf_cnt, hex_cnt, return_distance=True)\n",
    "dist_node = dist_node.to_crs(\"EPSG:32613\")\n",
    "hex_analysis = hex_analysis.sjoin(dist_node[['geometry','distance_node']])[['geometry','hex_id_9','urb_pct','distance_urb',\n",
    "                                                                            'distance_node','year','prev_year_urb','next_year_urb']].copy()\n",
    "hex_analysis.rename(columns={'distance_node':'distance_centro'}, inplace=True)"
   ]
  },
  {
   "cell_type": "code",
   "execution_count": 33,
   "id": "4df14555-8b70-4e10-97bb-42b4d4ff79c8",
   "metadata": {},
   "outputs": [
    {
     "name": "stdout",
     "output_type": "stream",
     "text": [
      "(218560, 8)\n"
     ]
    },
    {
     "data": {
      "text/html": [
       "<div>\n",
       "<style scoped>\n",
       "    .dataframe tbody tr th:only-of-type {\n",
       "        vertical-align: middle;\n",
       "    }\n",
       "\n",
       "    .dataframe tbody tr th {\n",
       "        vertical-align: top;\n",
       "    }\n",
       "\n",
       "    .dataframe thead th {\n",
       "        text-align: right;\n",
       "    }\n",
       "</style>\n",
       "<table border=\"1\" class=\"dataframe\">\n",
       "  <thead>\n",
       "    <tr style=\"text-align: right;\">\n",
       "      <th></th>\n",
       "      <th>geometry</th>\n",
       "      <th>hex_id_9</th>\n",
       "      <th>urb_pct</th>\n",
       "      <th>distance_urb</th>\n",
       "      <th>distance_centro</th>\n",
       "      <th>year</th>\n",
       "      <th>prev_year_urb</th>\n",
       "      <th>next_year_urb</th>\n",
       "    </tr>\n",
       "  </thead>\n",
       "  <tbody>\n",
       "    <tr>\n",
       "      <th>0</th>\n",
       "      <td>POLYGON ((671345.303 2281889.224, 671564.195 2...</td>\n",
       "      <td>89498c9656bffff</td>\n",
       "      <td>0.00000</td>\n",
       "      <td>3863.100157</td>\n",
       "      <td>5266.45257</td>\n",
       "      <td>1940</td>\n",
       "      <td>0.00000</td>\n",
       "      <td>1.00003</td>\n",
       "    </tr>\n",
       "    <tr>\n",
       "      <th>0</th>\n",
       "      <td>POLYGON ((671345.303 2281889.224, 671564.195 2...</td>\n",
       "      <td>89498c9656bffff</td>\n",
       "      <td>1.00003</td>\n",
       "      <td>2662.331610</td>\n",
       "      <td>5266.45257</td>\n",
       "      <td>1970</td>\n",
       "      <td>0.00000</td>\n",
       "      <td>1.00003</td>\n",
       "    </tr>\n",
       "    <tr>\n",
       "      <th>0</th>\n",
       "      <td>POLYGON ((671345.303 2281889.224, 671564.195 2...</td>\n",
       "      <td>89498c9656bffff</td>\n",
       "      <td>1.00003</td>\n",
       "      <td>0.000000</td>\n",
       "      <td>5266.45257</td>\n",
       "      <td>1980</td>\n",
       "      <td>1.00003</td>\n",
       "      <td>1.00003</td>\n",
       "    </tr>\n",
       "    <tr>\n",
       "      <th>0</th>\n",
       "      <td>POLYGON ((671345.303 2281889.224, 671564.195 2...</td>\n",
       "      <td>89498c9656bffff</td>\n",
       "      <td>1.00003</td>\n",
       "      <td>0.000000</td>\n",
       "      <td>5266.45257</td>\n",
       "      <td>1990</td>\n",
       "      <td>1.00003</td>\n",
       "      <td>1.00003</td>\n",
       "    </tr>\n",
       "  </tbody>\n",
       "</table>\n",
       "</div>"
      ],
      "text/plain": [
       "                                            geometry         hex_id_9  \\\n",
       "0  POLYGON ((671345.303 2281889.224, 671564.195 2...  89498c9656bffff   \n",
       "0  POLYGON ((671345.303 2281889.224, 671564.195 2...  89498c9656bffff   \n",
       "0  POLYGON ((671345.303 2281889.224, 671564.195 2...  89498c9656bffff   \n",
       "0  POLYGON ((671345.303 2281889.224, 671564.195 2...  89498c9656bffff   \n",
       "\n",
       "   urb_pct  distance_urb  distance_centro  year  prev_year_urb  next_year_urb  \n",
       "0  0.00000   3863.100157       5266.45257  1940        0.00000        1.00003  \n",
       "0  1.00003   2662.331610       5266.45257  1970        0.00000        1.00003  \n",
       "0  1.00003      0.000000       5266.45257  1980        1.00003        1.00003  \n",
       "0  1.00003      0.000000       5266.45257  1990        1.00003        1.00003  "
      ]
     },
     "execution_count": 33,
     "metadata": {},
     "output_type": "execute_result"
    }
   ],
   "source": [
    "print(hex_analysis.shape)\n",
    "hex_analysis.head(4)"
   ]
  },
  {
   "cell_type": "code",
   "execution_count": 34,
   "id": "eecae51a-3bc6-4cc5-8917-583a3176f8b2",
   "metadata": {},
   "outputs": [
    {
     "data": {
      "text/plain": [
       "<AxesSubplot:>"
      ]
     },
     "execution_count": 34,
     "metadata": {},
     "output_type": "execute_result"
    },
    {
     "data": {
      "image/png": "[encoded data removed]",
      "text/plain": [
       "<Figure size 432x288 with 1 Axes>"
      ]
     },
     "metadata": {
      "needs_background": "light"
     },
     "output_type": "display_data"
    }
   ],
   "source": [
    "hex_analysis.loc[hex_analysis.year==2000].plot('distance_centro')"
   ]
  },
  {
   "cell_type": "markdown",
   "id": "76a5d79d-8229-4b08-95e2-964f9099b1ee",
   "metadata": {},
   "source": [
    "## Distance to centralities"
   ]
  },
  {
   "cell_type": "code",
   "execution_count": 35,
   "id": "c2e86a62-817a-4bb2-950d-bf190628c5fa",
   "metadata": {},
   "outputs": [
    {
     "name": "stdout",
     "output_type": "stream",
     "text": [
      "(27, 41)\n"
     ]
    },
    {
     "data": {
      "text/html": [
       "<div>\n",
       "<style scoped>\n",
       "    .dataframe tbody tr th:only-of-type {\n",
       "        vertical-align: middle;\n",
       "    }\n",
       "\n",
       "    .dataframe tbody tr th {\n",
       "        vertical-align: top;\n",
       "    }\n",
       "\n",
       "    .dataframe thead th {\n",
       "        text-align: right;\n",
       "    }\n",
       "</style>\n",
       "<table border=\"1\" class=\"dataframe\">\n",
       "  <thead>\n",
       "    <tr style=\"text-align: right;\">\n",
       "      <th></th>\n",
       "      <th>fid</th>\n",
       "      <th>nombre</th>\n",
       "      <th>clasif</th>\n",
       "      <th>can_rut_tp</th>\n",
       "      <th>cap_rut_tp</th>\n",
       "      <th>dens_pob</th>\n",
       "      <th>pers_ocupa</th>\n",
       "      <th>equipamien</th>\n",
       "      <th>l_tp_masiv</th>\n",
       "      <th>uni_econ</th>\n",
       "      <th>...</th>\n",
       "      <th>auxiliar17</th>\n",
       "      <th>auxiliar18</th>\n",
       "      <th>auxiliar19</th>\n",
       "      <th>auxiliar20</th>\n",
       "      <th>numero</th>\n",
       "      <th>n_centrali</th>\n",
       "      <th>RmvCnt</th>\n",
       "      <th>Tiempo</th>\n",
       "      <th>Cnt_Route</th>\n",
       "      <th>geometry</th>\n",
       "    </tr>\n",
       "  </thead>\n",
       "  <tbody>\n",
       "    <tr>\n",
       "      <th>0</th>\n",
       "      <td>11.0</td>\n",
       "      <td>Centro Tlaquepaque</td>\n",
       "      <td>Centralidad Metropolitana</td>\n",
       "      <td>0.69</td>\n",
       "      <td>0.32</td>\n",
       "      <td>1.0</td>\n",
       "      <td>0.48</td>\n",
       "      <td>0.94</td>\n",
       "      <td>0.5</td>\n",
       "      <td>0.58</td>\n",
       "      <td>...</td>\n",
       "      <td>None</td>\n",
       "      <td>1.0</td>\n",
       "      <td>675392.648633</td>\n",
       "      <td>2.283998e+06</td>\n",
       "      <td>3.0</td>\n",
       "      <td>Centro &amp;Tlaquepaque</td>\n",
       "      <td>2</td>\n",
       "      <td>2040</td>\n",
       "      <td>1</td>\n",
       "      <td>POINT (-103.31079 20.63935)</td>\n",
       "    </tr>\n",
       "  </tbody>\n",
       "</table>\n",
       "<p>1 rows × 41 columns</p>\n",
       "</div>"
      ],
      "text/plain": [
       "    fid              nombre                     clasif  can_rut_tp  \\\n",
       "0  11.0  Centro Tlaquepaque  Centralidad Metropolitana        0.69   \n",
       "\n",
       "   cap_rut_tp  dens_pob  pers_ocupa  equipamien  l_tp_masiv  uni_econ  ...  \\\n",
       "0        0.32       1.0        0.48        0.94         0.5      0.58  ...   \n",
       "\n",
       "   auxiliar17  auxiliar18     auxiliar19    auxiliar20 numero  \\\n",
       "0        None         1.0  675392.648633  2.283998e+06    3.0   \n",
       "\n",
       "            n_centrali RmvCnt Tiempo Cnt_Route                     geometry  \n",
       "0  Centro &Tlaquepaque      2   2040         1  POINT (-103.31079 20.63935)  \n",
       "\n",
       "[1 rows x 41 columns]"
      ]
     },
     "execution_count": 35,
     "metadata": {},
     "output_type": "execute_result"
    }
   ],
   "source": [
    "gdf_cnt = gpd.read_file('../data/processed/Centralidades/Centralidades_AMG_2020-2040_UTM_v1.geojson', driver='GeoJSON')\n",
    "gdf_cnt = gdf_cnt.to_crs(\"EPSG:4326\")\n",
    "print(gdf_cnt.shape)\n",
    "gdf_cnt.head(1)"
   ]
  },
  {
   "cell_type": "code",
   "execution_count": 36,
   "id": "dd9d2c43-c48d-439d-85d3-ec3b74343d93",
   "metadata": {},
   "outputs": [
    {
     "data": {
      "text/plain": [
       "<AxesSubplot:>"
      ]
     },
     "execution_count": 36,
     "metadata": {},
     "output_type": "execute_result"
    },
    {
     "data": {
      "image/png": "[encoded data removed]",
      "text/plain": [
       "<Figure size 432x288 with 1 Axes>"
      ]
     },
     "metadata": {
      "needs_background": "light"
     },
     "output_type": "display_data"
    }
   ],
   "source": [
    "gdf_cnt = gdf_cnt[gdf_cnt['numero'].isin([1,2,3,6,21,23,24,25])]\n",
    "gdf_cnt.plot()"
   ]
  },
  {
   "cell_type": "code",
   "execution_count": 37,
   "id": "c6eec9f4-5638-45bc-83a6-0fa1a4599892",
   "metadata": {},
   "outputs": [],
   "source": [
    "gdf_cnt['x'] = gdf_cnt.geometry.x\n",
    "gdf_cnt['y'] = gdf_cnt.geometry.y"
   ]
  },
  {
   "cell_type": "code",
   "execution_count": 38,
   "id": "c56b3e40-6c53-4113-beea-04df2866c371",
   "metadata": {},
   "outputs": [],
   "source": [
    "dist_node = aup.find_nearest(G, gdf_cnt, hex_cnt, return_distance=True)\n",
    "dist_node = dist_node.to_crs(\"EPSG:32613\")\n",
    "hex_analysis = hex_analysis.sjoin(dist_node[['geometry','distance_node']])[['geometry','hex_id_9','urb_pct','distance_urb',\n",
    "                                                                            'distance_centro','year','prev_year_urb','distance_node','next_year_urb']].copy()\n",
    "hex_analysis.rename(columns={'distance_node':'distance_centralities'}, inplace=True)"
   ]
  },
  {
   "cell_type": "code",
   "execution_count": 39,
   "id": "b876ba3b-6338-4fb0-83cd-f59fda482332",
   "metadata": {},
   "outputs": [
    {
     "name": "stdout",
     "output_type": "stream",
     "text": [
      "(218560, 9)\n"
     ]
    },
    {
     "data": {
      "text/html": [
       "<div>\n",
       "<style scoped>\n",
       "    .dataframe tbody tr th:only-of-type {\n",
       "        vertical-align: middle;\n",
       "    }\n",
       "\n",
       "    .dataframe tbody tr th {\n",
       "        vertical-align: top;\n",
       "    }\n",
       "\n",
       "    .dataframe thead th {\n",
       "        text-align: right;\n",
       "    }\n",
       "</style>\n",
       "<table border=\"1\" class=\"dataframe\">\n",
       "  <thead>\n",
       "    <tr style=\"text-align: right;\">\n",
       "      <th></th>\n",
       "      <th>geometry</th>\n",
       "      <th>hex_id_9</th>\n",
       "      <th>urb_pct</th>\n",
       "      <th>distance_urb</th>\n",
       "      <th>distance_centro</th>\n",
       "      <th>year</th>\n",
       "      <th>prev_year_urb</th>\n",
       "      <th>distance_centralities</th>\n",
       "      <th>next_year_urb</th>\n",
       "    </tr>\n",
       "  </thead>\n",
       "  <tbody>\n",
       "    <tr>\n",
       "      <th>0</th>\n",
       "      <td>POLYGON ((671345.303 2281889.224, 671564.195 2...</td>\n",
       "      <td>89498c9656bffff</td>\n",
       "      <td>0.00000</td>\n",
       "      <td>3863.100157</td>\n",
       "      <td>5266.45257</td>\n",
       "      <td>1940</td>\n",
       "      <td>0.00000</td>\n",
       "      <td>4645.733722</td>\n",
       "      <td>1.00003</td>\n",
       "    </tr>\n",
       "    <tr>\n",
       "      <th>0</th>\n",
       "      <td>POLYGON ((671345.303 2281889.224, 671564.195 2...</td>\n",
       "      <td>89498c9656bffff</td>\n",
       "      <td>1.00003</td>\n",
       "      <td>2662.331610</td>\n",
       "      <td>5266.45257</td>\n",
       "      <td>1970</td>\n",
       "      <td>0.00000</td>\n",
       "      <td>4645.733722</td>\n",
       "      <td>1.00003</td>\n",
       "    </tr>\n",
       "    <tr>\n",
       "      <th>0</th>\n",
       "      <td>POLYGON ((671345.303 2281889.224, 671564.195 2...</td>\n",
       "      <td>89498c9656bffff</td>\n",
       "      <td>1.00003</td>\n",
       "      <td>0.000000</td>\n",
       "      <td>5266.45257</td>\n",
       "      <td>1980</td>\n",
       "      <td>1.00003</td>\n",
       "      <td>4645.733722</td>\n",
       "      <td>1.00003</td>\n",
       "    </tr>\n",
       "    <tr>\n",
       "      <th>0</th>\n",
       "      <td>POLYGON ((671345.303 2281889.224, 671564.195 2...</td>\n",
       "      <td>89498c9656bffff</td>\n",
       "      <td>1.00003</td>\n",
       "      <td>0.000000</td>\n",
       "      <td>5266.45257</td>\n",
       "      <td>1990</td>\n",
       "      <td>1.00003</td>\n",
       "      <td>4645.733722</td>\n",
       "      <td>1.00003</td>\n",
       "    </tr>\n",
       "  </tbody>\n",
       "</table>\n",
       "</div>"
      ],
      "text/plain": [
       "                                            geometry         hex_id_9  \\\n",
       "0  POLYGON ((671345.303 2281889.224, 671564.195 2...  89498c9656bffff   \n",
       "0  POLYGON ((671345.303 2281889.224, 671564.195 2...  89498c9656bffff   \n",
       "0  POLYGON ((671345.303 2281889.224, 671564.195 2...  89498c9656bffff   \n",
       "0  POLYGON ((671345.303 2281889.224, 671564.195 2...  89498c9656bffff   \n",
       "\n",
       "   urb_pct  distance_urb  distance_centro  year  prev_year_urb  \\\n",
       "0  0.00000   3863.100157       5266.45257  1940        0.00000   \n",
       "0  1.00003   2662.331610       5266.45257  1970        0.00000   \n",
       "0  1.00003      0.000000       5266.45257  1980        1.00003   \n",
       "0  1.00003      0.000000       5266.45257  1990        1.00003   \n",
       "\n",
       "   distance_centralities  next_year_urb  \n",
       "0            4645.733722        1.00003  \n",
       "0            4645.733722        1.00003  \n",
       "0            4645.733722        1.00003  \n",
       "0            4645.733722        1.00003  "
      ]
     },
     "execution_count": 39,
     "metadata": {},
     "output_type": "execute_result"
    }
   ],
   "source": [
    "print(hex_analysis.shape)\n",
    "hex_analysis.head(4)"
   ]
  },
  {
   "cell_type": "code",
   "execution_count": 40,
   "id": "002264f4-5200-4ff6-b900-8f540a8fad0f",
   "metadata": {},
   "outputs": [
    {
     "data": {
      "text/plain": [
       "<AxesSubplot:>"
      ]
     },
     "execution_count": 40,
     "metadata": {},
     "output_type": "execute_result"
    },
    {
     "data": {
      "image/png": "[encoded data removed]",
      "text/plain": [
       "<Figure size 432x288 with 1 Axes>"
      ]
     },
     "metadata": {
      "needs_background": "light"
     },
     "output_type": "display_data"
    }
   ],
   "source": [
    "hex_analysis.loc[hex_analysis.year==1970].plot('distance_centralities')"
   ]
  },
  {
   "cell_type": "markdown",
   "id": "303a804d-0260-4079-8481-0db0c3fb8ace",
   "metadata": {},
   "source": [
    "## Year difference"
   ]
  },
  {
   "cell_type": "code",
   "execution_count": 42,
   "id": "727213ef-a12d-45ee-826d-604625162667",
   "metadata": {},
   "outputs": [],
   "source": [
    "hex_analysis['year_dif'] = hex_analysis['year'] - 1902"
   ]
  },
  {
   "cell_type": "markdown",
   "id": "1ba4c021-91a5-4f35-b51e-8e8a78d09ca4",
   "metadata": {
    "jp-MarkdownHeadingCollapsed": true,
    "tags": []
   },
   "source": [
    "## Urbanization t+1"
   ]
  },
  {
   "cell_type": "code",
   "execution_count": null,
   "id": "13b1ba1d-f1e3-48e9-b648-bbe30de44276",
   "metadata": {},
   "outputs": [],
   "source": [
    "gdf_year = gdf.loc[(gdf.year=='2015')].copy()\n",
    "gdf_year = gdf_year.dissolve(by='year')\n",
    "gdf_year.reset_index(drop=True, inplace=True)\n",
    "gdf_year['uso'] = 'urbano'\n",
    "gdf_year"
   ]
  },
  {
   "cell_type": "code",
   "execution_count": null,
   "id": "16f98221-c571-43c2-9639-408795ce88b5",
   "metadata": {},
   "outputs": [],
   "source": [
    "res_union = hex_gdf.overlay(gdf_year, how='intersection')\n",
    "res_union"
   ]
  },
  {
   "cell_type": "code",
   "execution_count": null,
   "id": "1d0fc903-7bf0-47f5-8926-dc3a0ad2e7dc",
   "metadata": {},
   "outputs": [],
   "source": [
    "res_union['area'] = res_union.area/10000\n",
    "print(res_union.shape)\n",
    "res_union.head(2)"
   ]
  },
  {
   "cell_type": "code",
   "execution_count": null,
   "id": "ea6d5c0b-a211-4a9c-9ea0-2a4231e5216c",
   "metadata": {},
   "outputs": [],
   "source": [
    "hex_area = np.mean(hex_gdf.area/10000)\n",
    "res_union['urb_pct'] = round(res_union['area'] / hex_area, 5)\n",
    "res_union.head(2)"
   ]
  },
  {
   "cell_type": "code",
   "execution_count": null,
   "id": "6206c6c4-f60b-410a-9f19-f35f4b7465dd",
   "metadata": {},
   "outputs": [],
   "source": [
    "hex_mrg = hex_gdf.merge(res_union[['hex_id_7','urb_pct']], on='hex_id_7', how='left')\n",
    "hex_mrg['urb_pct'].fillna(0, inplace=True)\n",
    "print(hex_mrg.shape)\n",
    "hex_mrg.head(4)"
   ]
  },
  {
   "cell_type": "code",
   "execution_count": null,
   "id": "5cc638de-e905-41f3-943d-a9377f0c4110",
   "metadata": {},
   "outputs": [],
   "source": [
    "hex_mrg.rename(columns={'urb_pct':'urb_pct_15'}, inplace=True)\n",
    "hex_for_pred = hex_dist_urb.merge(hex_mrg[['hex_id_7','urb_pct_15']], on='hex_id_7')\n",
    "hex_for_pred['time_dif'] = 5\n",
    "print(hex_for_pred.shape)\n",
    "hex_for_pred.head(2)"
   ]
  },
  {
   "cell_type": "markdown",
   "id": "ddcc7674-f61d-4274-9e96-2c8f8fd3c6a6",
   "metadata": {},
   "source": [
    "## Model"
   ]
  },
  {
   "cell_type": "code",
   "execution_count": 77,
   "id": "73dc7331-0828-4838-bd9c-a73abd3bd2d6",
   "metadata": {},
   "outputs": [
    {
     "name": "stdout",
     "output_type": "stream",
     "text": [
      "(218560, 10)\n"
     ]
    },
    {
     "data": {
      "text/html": [
       "<div>\n",
       "<style scoped>\n",
       "    .dataframe tbody tr th:only-of-type {\n",
       "        vertical-align: middle;\n",
       "    }\n",
       "\n",
       "    .dataframe tbody tr th {\n",
       "        vertical-align: top;\n",
       "    }\n",
       "\n",
       "    .dataframe thead th {\n",
       "        text-align: right;\n",
       "    }\n",
       "</style>\n",
       "<table border=\"1\" class=\"dataframe\">\n",
       "  <thead>\n",
       "    <tr style=\"text-align: right;\">\n",
       "      <th></th>\n",
       "      <th>geometry</th>\n",
       "      <th>hex_id_9</th>\n",
       "      <th>urb_pct</th>\n",
       "      <th>distance_urb</th>\n",
       "      <th>distance_centro</th>\n",
       "      <th>year</th>\n",
       "      <th>prev_year_urb</th>\n",
       "      <th>distance_centralities</th>\n",
       "      <th>next_year_urb</th>\n",
       "      <th>year_dif</th>\n",
       "    </tr>\n",
       "  </thead>\n",
       "  <tbody>\n",
       "    <tr>\n",
       "      <th>0</th>\n",
       "      <td>POLYGON ((671345.303 2281889.224, 671564.195 2...</td>\n",
       "      <td>89498c9656bffff</td>\n",
       "      <td>0.00000</td>\n",
       "      <td>3863.100157</td>\n",
       "      <td>5266.45257</td>\n",
       "      <td>1940</td>\n",
       "      <td>0.00000</td>\n",
       "      <td>4645.733722</td>\n",
       "      <td>1.00003</td>\n",
       "      <td>38</td>\n",
       "    </tr>\n",
       "    <tr>\n",
       "      <th>0</th>\n",
       "      <td>POLYGON ((671345.303 2281889.224, 671564.195 2...</td>\n",
       "      <td>89498c9656bffff</td>\n",
       "      <td>1.00003</td>\n",
       "      <td>2662.331610</td>\n",
       "      <td>5266.45257</td>\n",
       "      <td>1970</td>\n",
       "      <td>0.00000</td>\n",
       "      <td>4645.733722</td>\n",
       "      <td>1.00003</td>\n",
       "      <td>68</td>\n",
       "    </tr>\n",
       "    <tr>\n",
       "      <th>0</th>\n",
       "      <td>POLYGON ((671345.303 2281889.224, 671564.195 2...</td>\n",
       "      <td>89498c9656bffff</td>\n",
       "      <td>1.00003</td>\n",
       "      <td>0.000000</td>\n",
       "      <td>5266.45257</td>\n",
       "      <td>1980</td>\n",
       "      <td>1.00003</td>\n",
       "      <td>4645.733722</td>\n",
       "      <td>1.00003</td>\n",
       "      <td>78</td>\n",
       "    </tr>\n",
       "    <tr>\n",
       "      <th>0</th>\n",
       "      <td>POLYGON ((671345.303 2281889.224, 671564.195 2...</td>\n",
       "      <td>89498c9656bffff</td>\n",
       "      <td>1.00003</td>\n",
       "      <td>0.000000</td>\n",
       "      <td>5266.45257</td>\n",
       "      <td>1990</td>\n",
       "      <td>1.00003</td>\n",
       "      <td>4645.733722</td>\n",
       "      <td>1.00003</td>\n",
       "      <td>88</td>\n",
       "    </tr>\n",
       "  </tbody>\n",
       "</table>\n",
       "</div>"
      ],
      "text/plain": [
       "                                            geometry         hex_id_9  \\\n",
       "0  POLYGON ((671345.303 2281889.224, 671564.195 2...  89498c9656bffff   \n",
       "0  POLYGON ((671345.303 2281889.224, 671564.195 2...  89498c9656bffff   \n",
       "0  POLYGON ((671345.303 2281889.224, 671564.195 2...  89498c9656bffff   \n",
       "0  POLYGON ((671345.303 2281889.224, 671564.195 2...  89498c9656bffff   \n",
       "\n",
       "   urb_pct  distance_urb  distance_centro  year  prev_year_urb  \\\n",
       "0  0.00000   3863.100157       5266.45257  1940        0.00000   \n",
       "0  1.00003   2662.331610       5266.45257  1970        0.00000   \n",
       "0  1.00003      0.000000       5266.45257  1980        1.00003   \n",
       "0  1.00003      0.000000       5266.45257  1990        1.00003   \n",
       "\n",
       "   distance_centralities  next_year_urb  year_dif  \n",
       "0            4645.733722        1.00003        38  \n",
       "0            4645.733722        1.00003        68  \n",
       "0            4645.733722        1.00003        78  \n",
       "0            4645.733722        1.00003        88  "
      ]
     },
     "execution_count": 77,
     "metadata": {},
     "output_type": "execute_result"
    }
   ],
   "source": [
    "hex_for_pred = hex_analysis.dropna().copy()\n",
    "print(hex_for_pred.shape)\n",
    "hex_for_pred.head(4)"
   ]
  },
  {
   "cell_type": "code",
   "execution_count": 78,
   "id": "30dfe4da-01cc-4887-b1dd-f9c358884aaa",
   "metadata": {},
   "outputs": [
    {
     "name": "stderr",
     "output_type": "stream",
     "text": [
      "/home/edgar/anaconda3/envs/geo_env/lib/python3.8/site-packages/pandas/core/indexing.py:1732: SettingWithCopyWarning: \n",
      "A value is trying to be set on a copy of a slice from a DataFrame\n",
      "\n",
      "See the caveats in the documentation: https://pandas.pydata.org/pandas-docs/stable/user_guide/indexing.html#returning-a-view-versus-a-copy\n",
      "  self._setitem_single_block(indexer, value, name)\n"
     ]
    }
   ],
   "source": [
    "hex_for_pred['urb'] = np.nan\n",
    "hex_for_pred['urb'].loc[hex_for_pred.urb_pct>=0.7] = 1\n",
    "hex_for_pred['urb'].loc[hex_for_pred.urb_pct<0.7] = 0"
   ]
  },
  {
   "cell_type": "code",
   "execution_count": 79,
   "id": "ac0736ff-0a0e-464d-bc56-acda9b8f8e12",
   "metadata": {
    "tags": []
   },
   "outputs": [],
   "source": [
    "from sklearn.model_selection import train_test_split\n",
    "from sklearn.preprocessing import MinMaxScaler\n",
    "from sklearn.linear_model import LinearRegression\n",
    "\n",
    "scaler = MinMaxScaler()\n",
    "\n",
    "X = hex_for_pred[['prev_year_urb','distance_urb','distance_centro',\n",
    "                  'year_dif','distance_centralities','year','next_year_urb']].to_numpy()\n",
    "Y = hex_for_pred[['urb_pct']].to_numpy()\n",
    "\n",
    "X_train, X_test, y_train, y_test = (\n",
    "train_test_split(X,\n",
    "                Y,\n",
    "                random_state=0))\n",
    "\n",
    "X_train_scaled = scaler.fit_transform(X_train)\n",
    "X_test_scaled = scaler.transform(X_test)"
   ]
  },
  {
   "cell_type": "markdown",
   "id": "cf7a4ea7-5e04-4cf8-901c-a9ea4d5fd611",
   "metadata": {
    "tags": []
   },
   "source": [
    "## Linear regression"
   ]
  },
  {
   "cell_type": "code",
   "execution_count": 98,
   "id": "29cdf69b-9e32-44d1-b936-391aa9628703",
   "metadata": {},
   "outputs": [
    {
     "data": {
      "text/plain": [
       "array([1940, 1970, 1980, 1990, 2000, 2005, 2010, 2015])"
      ]
     },
     "execution_count": 98,
     "metadata": {},
     "output_type": "execute_result"
    }
   ],
   "source": [
    "hex_for_pred.year.unique()"
   ]
  },
  {
   "cell_type": "code",
   "execution_count": 160,
   "id": "7cbae32c-424e-4fc4-9f05-00fe19229eaf",
   "metadata": {},
   "outputs": [],
   "source": [
    "clf = LinearRegression().fit(X_train_scaled, y_train)\n"
   ]
  },
  {
   "cell_type": "code",
   "execution_count": 161,
   "id": "d39d1f95-a16c-4f32-9cbc-742462a76e83",
   "metadata": {},
   "outputs": [
    {
     "data": {
      "text/plain": [
       "0.8988180420729107"
      ]
     },
     "execution_count": 161,
     "metadata": {},
     "output_type": "execute_result"
    }
   ],
   "source": [
    "clf.score(X_train_scaled, y_train)"
   ]
  },
  {
   "cell_type": "code",
   "execution_count": 162,
   "id": "fe84eb94-8662-4698-a9bc-e9a5f7bb7553",
   "metadata": {},
   "outputs": [
    {
     "data": {
      "text/plain": [
       "0.8940889208717642"
      ]
     },
     "execution_count": 162,
     "metadata": {},
     "output_type": "execute_result"
    }
   ],
   "source": [
    "clf.score(X_test_scaled, y_test)"
   ]
  },
  {
   "cell_type": "markdown",
   "id": "4ba16687-29ed-42ec-aca7-70981d6f6d1b",
   "metadata": {},
   "source": [
    "### Result analysis for 2015"
   ]
  },
  {
   "cell_type": "code",
   "execution_count": 188,
   "id": "cf59e15a-b1a9-428f-a9a6-043376ea03c3",
   "metadata": {},
   "outputs": [],
   "source": [
    "hex_15 = hex_for_pred.loc[hex_for_pred.year==1970].copy()\n",
    "X_15 = hex_15[['prev_year_urb','distance_urb','distance_centro',\n",
    "                  'year_dif','distance_centralities','year','next_year_urb']].to_numpy()\n",
    "X_15_scaled = scaler.fit_transform(X_15)"
   ]
  },
  {
   "cell_type": "code",
   "execution_count": 189,
   "id": "204568b1-1baa-4420-ba94-94ad16f4cb6c",
   "metadata": {},
   "outputs": [],
   "source": [
    "hex_15['predicted_15'] = clf.predict(X_15_scaled)"
   ]
  },
  {
   "cell_type": "code",
   "execution_count": 190,
   "id": "2d20bca1-6119-4922-951b-9a82e026cb0e",
   "metadata": {},
   "outputs": [
    {
     "data": {
      "text/plain": [
       "<AxesSubplot:>"
      ]
     },
     "execution_count": 190,
     "metadata": {},
     "output_type": "execute_result"
    },
    {
     "data": {
      "image/png": "[encoded data removed]",
      "text/plain": [
       "<Figure size 432x288 with 1 Axes>"
      ]
     },
     "metadata": {
      "needs_background": "light"
     },
     "output_type": "display_data"
    }
   ],
   "source": [
    "hex_15.loc[hex_15.urb_pct>=0.7].plot('urb_pct')"
   ]
  },
  {
   "cell_type": "code",
   "execution_count": 193,
   "id": "7a8443ee-e647-41e1-bdee-32a78bd9814b",
   "metadata": {},
   "outputs": [
    {
     "data": {
      "text/plain": [
       "<AxesSubplot:>"
      ]
     },
     "execution_count": 193,
     "metadata": {},
     "output_type": "execute_result"
    },
    {
     "data": {
      "image/png": "[encoded data removed]",
      "text/plain": [
       "<Figure size 432x288 with 1 Axes>"
      ]
     },
     "metadata": {
      "needs_background": "light"
     },
     "output_type": "display_data"
    }
   ],
   "source": [
    "hex_15.loc[hex_15.predicted_15>=0.7].plot('predicted_15')"
   ]
  },
  {
   "cell_type": "code",
   "execution_count": 194,
   "id": "46049ad3-96d0-48e5-8aa8-5c30f5e90745",
   "metadata": {},
   "outputs": [
    {
     "data": {
      "text/plain": [
       "11524.41332434724"
      ]
     },
     "execution_count": 194,
     "metadata": {},
     "output_type": "execute_result"
    }
   ],
   "source": [
    "hex_15.loc[hex_15.urb>=0.7].area.sum()/10000"
   ]
  },
  {
   "cell_type": "code",
   "execution_count": 195,
   "id": "4285e94f-7e0a-4438-bc30-2af452aa4a5a",
   "metadata": {},
   "outputs": [
    {
     "data": {
      "text/plain": [
       "2681.4913244554564"
      ]
     },
     "execution_count": 195,
     "metadata": {},
     "output_type": "execute_result"
    }
   ],
   "source": [
    "hex_15.loc[hex_15.predicted_15>=0.7].area.sum()/10000"
   ]
  },
  {
   "cell_type": "markdown",
   "id": "f3eae8f3-4292-4870-8655-6615f0a89c06",
   "metadata": {},
   "source": [
    "## Neural network"
   ]
  },
  {
   "cell_type": "code",
   "execution_count": 80,
   "id": "da386cca-65e6-4082-8c95-693068e0505f",
   "metadata": {},
   "outputs": [
    {
     "data": {
      "text/plain": [
       "(218560, 7)"
      ]
     },
     "execution_count": 80,
     "metadata": {},
     "output_type": "execute_result"
    }
   ],
   "source": [
    "X.shape"
   ]
  },
  {
   "cell_type": "code",
   "execution_count": 81,
   "id": "b7925669-5626-4ebf-b7d0-f325e4f3f1b1",
   "metadata": {},
   "outputs": [],
   "source": [
    "from sklearn.metrics import r2_score, mean_squared_error, mean_absolute_error\n",
    "from tensorflow.python.keras.models import Sequential\n",
    "from tensorflow.python.keras.layers import Dense\n",
    "from tensorflow.python.keras.wrappers.scikit_learn import KerasRegressor\n",
    "from tensorflow.keras import regularizers\n",
    "import tensorflow as tf"
   ]
  },
  {
   "cell_type": "code",
   "execution_count": 82,
   "id": "972d1b43-666b-45bf-8165-251ffbcc9c08",
   "metadata": {},
   "outputs": [],
   "source": [
    "def neuron_layers(nx, nh, ny, hl, act, r, seed=None):\n",
    "    \n",
    "    tf.keras.regularizers.l1(l1=r)\n",
    "    \n",
    "    initializer = tf.keras.initializers.RandomNormal(seed=seed)\n",
    "    \n",
    "    model = Sequential()\n",
    "    \n",
    "    for i in range(1, 3+hl):\n",
    "        \n",
    "        if i == 1:\n",
    "            model.add(Dense(nx, input_dim=7, kernel_initializer=initializer,\n",
    "                            activation=act,kernel_regularizer='l1'))\n",
    "            \n",
    "        elif i == (2+hl):\n",
    "            model.add(Dense(ny, activation='linear'))\n",
    "            \n",
    "        else:\n",
    "            model.add(Dense(nh, activation=act))\n",
    "            \n",
    "    return model"
   ]
  },
  {
   "cell_type": "code",
   "execution_count": 108,
   "id": "2e8006f3-2771-4a0d-897b-47b1b6242f39",
   "metadata": {},
   "outputs": [],
   "source": [
    "nh = 10\n",
    "hl = 5\n",
    "r = 0.01\n",
    "a = 'relu'\n",
    "e = 200\n",
    "\n",
    "model = neuron_layers(8, nh, 1, hl, a, r)\n",
    "\n",
    "model.compile(loss='mse', optimizer='adam', metrics=['mse','mae'])\n",
    "\n",
    "history = model.fit(X_train_scaled, y_train, epochs=e, batch_size=50,  verbose=0, validation_split=0.2)"
   ]
  },
  {
   "cell_type": "code",
   "execution_count": 109,
   "id": "69463b93-33ff-47d0-9bf2-7f6f41452098",
   "metadata": {},
   "outputs": [
    {
     "name": "stdout",
     "output_type": "stream",
     "text": [
      "Train: 0.908 0.009 0.024 \n",
      " Test: 0.905 0.009 0.024\n"
     ]
    }
   ],
   "source": [
    "y_hat= model.predict(X_train_scaled)\n",
    "acc_train = round(r2_score(y_train, y_hat),3)\n",
    "mse_train = round(mean_squared_error(y_train, y_hat),3)\n",
    "mae_train = round(mean_absolute_error(y_train, y_hat),3)\n",
    "\n",
    "y_hat = model.predict(X_test_scaled)\n",
    "acc_test = round(r2_score(y_test, y_hat),3)\n",
    "mse_test = round(mean_squared_error(y_test, y_hat),3)\n",
    "mae_test = round(mean_absolute_error(y_test, y_hat),3)\n",
    "\n",
    "print('Train:',str(acc_train),str(mse_train),str(mae_train),'\\n',\n",
    "     'Test:',str(acc_test),str(mse_test),str(mae_test))"
   ]
  },
  {
   "cell_type": "code",
   "execution_count": 220,
   "id": "355f0d38-57f6-4e79-b39b-4e06089f0c1c",
   "metadata": {},
   "outputs": [],
   "source": [
    "hex_15 = hex_for_pred.loc[hex_for_pred.year==2015].copy()\n",
    "X_15 = hex_15[['prev_year_urb','distance_urb','distance_centro',\n",
    "                  'year_dif','distance_centralities','year','next_year_urb']].to_numpy()\n",
    "X_15_scaled = scaler.fit_transform(X_15)"
   ]
  },
  {
   "cell_type": "code",
   "execution_count": 221,
   "id": "cedfb01e-adba-4b05-85dd-d47a027ff261",
   "metadata": {},
   "outputs": [],
   "source": [
    "hex_15['predicted_15'] = model.predict(X_15_scaled)"
   ]
  },
  {
   "cell_type": "code",
   "execution_count": 222,
   "id": "cad56d3a-96e3-44c2-a4aa-90150e8d4e86",
   "metadata": {},
   "outputs": [
    {
     "data": {
      "text/plain": [
       "<AxesSubplot:>"
      ]
     },
     "execution_count": 222,
     "metadata": {},
     "output_type": "execute_result"
    },
    {
     "data": {
      "image/png": "[encoded data removed]",
      "text/plain": [
       "<Figure size 432x288 with 1 Axes>"
      ]
     },
     "metadata": {
      "needs_background": "light"
     },
     "output_type": "display_data"
    }
   ],
   "source": [
    "hex_15.loc[hex_15.urb_pct>=0.7].plot()"
   ]
  },
  {
   "cell_type": "code",
   "execution_count": 223,
   "id": "a48ddb41-d08e-4ebb-bc69-268536b9c94e",
   "metadata": {},
   "outputs": [
    {
     "data": {
      "text/plain": [
       "<AxesSubplot:>"
      ]
     },
     "execution_count": 223,
     "metadata": {},
     "output_type": "execute_result"
    },
    {
     "data": {
      "image/png": "[encoded data removed]",
      "text/plain": [
       "<Figure size 432x288 with 1 Axes>"
      ]
     },
     "metadata": {
      "needs_background": "light"
     },
     "output_type": "display_data"
    }
   ],
   "source": [
    "hex_15.loc[hex_15.predicted_15>=0.2].plot()"
   ]
  },
  {
   "cell_type": "code",
   "execution_count": 224,
   "id": "c3be85ca-ff3c-41a2-9bc4-657e87c26925",
   "metadata": {},
   "outputs": [
    {
     "data": {
      "text/plain": [
       "62952.18163327111"
      ]
     },
     "execution_count": 224,
     "metadata": {},
     "output_type": "execute_result"
    }
   ],
   "source": [
    "hex_15.loc[hex_15.urb_pct>=0.7].area.sum()/10000"
   ]
  },
  {
   "cell_type": "code",
   "execution_count": 225,
   "id": "b1344f95-430a-4ad8-a61d-73bea6817890",
   "metadata": {},
   "outputs": [
    {
     "data": {
      "text/plain": [
       "62840.66986813236"
      ]
     },
     "execution_count": 225,
     "metadata": {},
     "output_type": "execute_result"
    }
   ],
   "source": [
    "hex_15.loc[hex_15.predicted_15>=0.2].area.sum()/10000"
   ]
  },
  {
   "cell_type": "code",
   "execution_count": 196,
   "id": "a5fa59ac-771f-48ee-a662-4420bbb9c5df",
   "metadata": {},
   "outputs": [],
   "source": [
    "hex_15 = hex_for_pred.loc[(hex_for_pred.year==1980)&(hex_for_pred.prev_year_urb<0.8)].copy()\n",
    "X_15 = hex_15[['prev_year_urb','distance_urb','distance_centro',\n",
    "                  'year_dif','distance_centralities','year','next_year_urb']].to_numpy()\n",
    "X_15_scaled = scaler.fit_transform(X_15)"
   ]
  },
  {
   "cell_type": "code",
   "execution_count": 197,
   "id": "cd434cd3-cc38-45b7-b55e-afae404b3da6",
   "metadata": {},
   "outputs": [],
   "source": [
    "hex_15['predicted_15'] = model.predict(X_15_scaled)"
   ]
  },
  {
   "cell_type": "code",
   "execution_count": 198,
   "id": "ab3fab44-bb76-4445-8af1-83ca9da12351",
   "metadata": {},
   "outputs": [],
   "source": [
    "y_hat_15 = hex_15['predicted_15'].to_numpy()\n",
    "y_test_15 = hex_15['urb_pct'].to_numpy()"
   ]
  },
  {
   "cell_type": "code",
   "execution_count": 199,
   "id": "4f730d8f-26fd-4623-afc5-187cc19934e5",
   "metadata": {},
   "outputs": [
    {
     "name": "stdout",
     "output_type": "stream",
     "text": [
      "Train: 0.428 0.013 0.029\n"
     ]
    }
   ],
   "source": [
    "acc_train = round(r2_score(y_test_15, y_hat_15),3)\n",
    "mse_train = round(mean_squared_error(y_test_15, y_hat_15),3)\n",
    "mae_train = round(mean_absolute_error(y_test_15, y_hat_15),3)\n",
    "print('Train:',str(acc_train),str(mse_train),str(mae_train))"
   ]
  },
  {
   "cell_type": "code",
   "execution_count": 200,
   "id": "783aa936-d9dd-438a-92f4-75e834a47511",
   "metadata": {},
   "outputs": [
    {
     "data": {
      "text/plain": [
       "<AxesSubplot:>"
      ]
     },
     "execution_count": 200,
     "metadata": {},
     "output_type": "execute_result"
    },
    {
     "data": {
      "image/png": "[encoded data removed]",
      "text/plain": [
       "<Figure size 432x288 with 1 Axes>"
      ]
     },
     "metadata": {
      "needs_background": "light"
     },
     "output_type": "display_data"
    }
   ],
   "source": [
    "hex_15.loc[hex_15.urb_pct>=0.7].plot('urb_pct')"
   ]
  },
  {
   "cell_type": "code",
   "execution_count": 201,
   "id": "65fc864d-44ef-4267-a955-f26ee1376455",
   "metadata": {},
   "outputs": [
    {
     "data": {
      "text/plain": [
       "<AxesSubplot:>"
      ]
     },
     "execution_count": 201,
     "metadata": {},
     "output_type": "execute_result"
    },
    {
     "data": {
      "image/png": "[encoded data removed]",
      "text/plain": [
       "<Figure size 432x288 with 1 Axes>"
      ]
     },
     "metadata": {
      "needs_background": "light"
     },
     "output_type": "display_data"
    }
   ],
   "source": [
    "hex_15.loc[hex_15.predicted_15>=0.2].plot('predicted_15')"
   ]
  },
  {
   "cell_type": "code",
   "execution_count": null,
   "id": "125a1cf9-53d0-49b3-ab89-cbcc448c6ad3",
   "metadata": {},
   "outputs": [],
   "source": []
  },
  {
   "cell_type": "code",
   "execution_count": null,
   "id": "4e4b88ae-73d1-4126-bedc-9472e6e85e59",
   "metadata": {},
   "outputs": [],
   "source": []
  },
  {
   "cell_type": "code",
   "execution_count": null,
   "id": "619c19aa-7bee-4cf4-b0e0-5ec99518f46b",
   "metadata": {},
   "outputs": [],
   "source": []
  }
 ],
 "metadata": {
  "kernelspec": {
   "display_name": "Python 3",
   "language": "python",
   "name": "python3"
  },
  "language_info": {
   "codemirror_mode": {
    "name": "ipython",
    "version": 3
   },
   "file_extension": ".py",
   "mimetype": "text/x-python",
   "name": "python",
   "nbconvert_exporter": "python",
   "pygments_lexer": "ipython3",
   "version": "3.8.12"
  }
 },
 "nbformat": 4,
 "nbformat_minor": 5
}
