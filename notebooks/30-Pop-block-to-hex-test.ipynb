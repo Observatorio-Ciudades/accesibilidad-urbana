{
 "cells": [
  {
   "cell_type": "code",
   "execution_count": 1,
   "id": "12419988-e0c2-41a7-8923-fb475930616e",
   "metadata": {},
   "outputs": [
    {
     "name": "stderr",
     "output_type": "stream",
     "text": [
      "/home/edgar/anaconda3/envs/geo_env/lib/python3.8/site-packages/geopandas/_compat.py:111: UserWarning: The Shapely GEOS version (3.10.1-CAPI-1.16.0) is incompatible with the GEOS version PyGEOS was compiled with (3.9.1-CAPI-1.14.2). Conversions between both will be slow.\n",
      "  warnings.warn(\n"
     ]
    }
   ],
   "source": [
    "import os\n",
    "import sys\n",
    "\n",
    "import pandas as pd\n",
    "import geopandas as gpd\n",
    "import numpy as np\n",
    "\n",
    "\n",
    "import warnings\n",
    "warnings.simplefilter(action='ignore', category=FutureWarning)\n",
    "\n",
    "import matplotlib.pyplot as plt\n",
    "\n",
    "module_path = os.path.abspath(os.path.join('..'))\n",
    "if module_path not in sys.path:\n",
    "    sys.path.append(module_path)\n",
    "    import aup"
   ]
  },
  {
   "cell_type": "markdown",
   "id": "783b4c91-33d6-44e9-b52b-07261e15cdb9",
   "metadata": {
    "jp-MarkdownHeadingCollapsed": true,
    "tags": []
   },
   "source": [
    "# V1"
   ]
  },
  {
   "cell_type": "markdown",
   "id": "27e245aa-e79f-4acf-811d-99e1094002fa",
   "metadata": {},
   "source": [
    "## Download block polygons with census data"
   ]
  },
  {
   "cell_type": "code",
   "execution_count": null,
   "id": "fb476a83-0273-4e91-9fb8-b836b0b8c034",
   "metadata": {},
   "outputs": [],
   "source": [
    "year = 2010\n",
    "state_id = '14'\n",
    "folder_name = 'censo_mza'\n",
    "table_name = f'censo_mza_{year}'\n",
    "query = f\"SELECT * FROM {folder_name}.{table_name} WHERE \\\"CVEGEO\\\" LIKE \\'{state_id}%%\\'\"\n",
    "block_pop = aup.gdf_from_query(query, geometry_col='geometry')\n",
    "print(block_pop.shape)\n",
    "block_pop.head(2)"
   ]
  },
  {
   "cell_type": "code",
   "execution_count": null,
   "id": "29a30244-a8b2-4382-a75e-0f1accdfca7f",
   "metadata": {},
   "outputs": [],
   "source": [
    "block_pop = block_pop.to_crs(\"EPSG:6372\")\n",
    "block_pop.columns = block_pop.columns.str.lower()"
   ]
  },
  {
   "cell_type": "code",
   "execution_count": null,
   "id": "622d81f5-2889-4c7a-a7fb-32f77c53c991",
   "metadata": {},
   "outputs": [],
   "source": [
    "block_pop.plot()"
   ]
  },
  {
   "cell_type": "markdown",
   "id": "c02d54cb-cdae-43f0-99db-f634ffaf1aac",
   "metadata": {
    "tags": []
   },
   "source": [
    "## Generate \"centroids\" with census data"
   ]
  },
  {
   "cell_type": "code",
   "execution_count": null,
   "id": "82002b33-d24e-4e9b-bffe-08067f6626f9",
   "metadata": {},
   "outputs": [],
   "source": [
    "block_pop = block_pop.set_index('cvegeo')\n",
    "real_not_centroid = gpd.GeoDataFrame(geometry=block_pop.representative_point())\n",
    "centroid_block_pop = real_not_centroid.merge(block_pop, right_index=True, left_index=True)\n",
    "centroid_block_pop.drop(columns=['geometry_y'], inplace=True)\n",
    "centroid_block_pop.rename(columns={'geometry_x':'geometry'}, inplace=True)\n",
    "centroid_block_pop = gpd.GeoDataFrame(centroid_block_pop, geometry='geometry')\n",
    "print(centroid_block_pop.shape)\n",
    "centroid_block_pop.head(2)"
   ]
  },
  {
   "cell_type": "markdown",
   "id": "b90e7863-9db2-4448-a1e6-2755d7b4591b",
   "metadata": {},
   "source": [
    "#### Revision"
   ]
  },
  {
   "cell_type": "code",
   "execution_count": null,
   "id": "cf1451d3-1b1c-4e4a-961a-1ad482c3dc0d",
   "metadata": {},
   "outputs": [],
   "source": [
    "centroid_block_pop.pobtot.sum()"
   ]
  },
  {
   "cell_type": "code",
   "execution_count": null,
   "id": "d9f735c7-3949-4974-9bbf-08f6ce0112c4",
   "metadata": {},
   "outputs": [],
   "source": [
    "block_pop.pobtot.sum()"
   ]
  },
  {
   "cell_type": "markdown",
   "id": "80717a80-fc1f-4d3e-ba28-d9fc1291388e",
   "metadata": {},
   "source": [
    "## Centroid to hex"
   ]
  },
  {
   "cell_type": "markdown",
   "id": "0eb1b22d-e8b7-4715-a804-c81e6220538e",
   "metadata": {},
   "source": [
    "### Download state municipalities"
   ]
  },
  {
   "cell_type": "code",
   "execution_count": null,
   "id": "85278cb5-c5af-41dd-a51a-ce971cc6ac9a",
   "metadata": {},
   "outputs": [],
   "source": [
    "state_id = '14'\n",
    "folder_name = 'marco'\n",
    "table_name = 'mpos_2020'\n",
    "query = f\"SELECT * FROM {folder_name}.{table_name} WHERE \\\"CVEGEO\\\" LIKE \\'{state_id}%%\\'\"\n",
    "mun_gdf = aup.gdf_from_query(query, geometry_col='geometry')\n",
    "print(mun_gdf.shape)\n",
    "mun_gdf.head(2)"
   ]
  },
  {
   "cell_type": "code",
   "execution_count": null,
   "id": "8248ebf3-4116-4ee7-83d8-cf87536ea4bb",
   "metadata": {},
   "outputs": [],
   "source": [
    "mun_gdf = mun_gdf.dissolve()"
   ]
  },
  {
   "cell_type": "code",
   "execution_count": null,
   "id": "3e596b9c-b1a7-4094-93f8-07922c0c5b17",
   "metadata": {},
   "outputs": [],
   "source": [
    "res = 8\n",
    "hex_gdf_8 = aup.create_hexgrid(block_pop[['geometry']], res)\n",
    "hex_gdf_8 = hex_gdf_8.set_crs(\"EPSG:4326\")\n",
    "print(hex_gdf_8.shape)\n",
    "hex_gdf_8.head(2)"
   ]
  },
  {
   "cell_type": "code",
   "execution_count": null,
   "id": "e20fed82-b660-4db7-990b-23a7576c8a98",
   "metadata": {},
   "outputs": [],
   "source": [
    "res = 9\n",
    "hex_gdf_9 = aup.create_hexgrid(mun_gdf, res)\n",
    "hex_gdf_9 = hex_gdf_9.set_crs(\"EPSG:4326\")\n",
    "print(hex_gdf_9.shape)\n",
    "hex_gdf_9.head(2)"
   ]
  },
  {
   "cell_type": "markdown",
   "id": "aee9392c-628a-4d85-b07c-0c2b8c1ba23c",
   "metadata": {},
   "source": [
    "### Group data"
   ]
  },
  {
   "cell_type": "markdown",
   "id": "6954422e-1127-4169-8a29-6dbba6518a9b",
   "metadata": {},
   "source": [
    "#### Delete filler columns"
   ]
  },
  {
   "cell_type": "code",
   "execution_count": 12,
   "id": "bd1cc742-3ff0-4f8a-bf57-59ebb23c2f69",
   "metadata": {
    "tags": []
   },
   "outputs": [],
   "source": [
    "dlt_col = {2020:['cve_ent','cve_mun','cve_loc','cve_ageb',\n",
    "           'cve_mza','ambito','tipomza','entidad',\n",
    "           'nom_ent','mun','nom_mun','loc','ageb','mza'],\n",
    "          2010:['codigo','geografico',\n",
    "                'fechaact','geometria','institucio',\n",
    "                'oid','entidad','nom_ent','mun','nom_mun',\n",
    "                'loc','nom_loc','ageb','mza']}\n",
    "centroid_block_pop.drop(columns=dlt_col[year], inplace=True)"
   ]
  },
  {
   "cell_type": "code",
   "execution_count": 13,
   "id": "85d6053d-0ce1-4ba9-b8bc-8e107d883b3d",
   "metadata": {},
   "outputs": [],
   "source": [
    "centroid_block_pop = centroid_block_pop.to_crs(\"EPSG:4326\")\n",
    "centroid_block_pop = centroid_block_pop.reset_index()"
   ]
  },
  {
   "cell_type": "code",
   "execution_count": 14,
   "id": "e82c9829-d38e-4d75-9ec1-16348b3cfa63",
   "metadata": {
    "tags": []
   },
   "outputs": [],
   "source": [
    "string_columns = ['cvegeo']\n",
    "avg_column = [\n",
    "            \"prom_hnv\",\n",
    "            \"graproes\",\n",
    "            \"graproes_f\",\n",
    "            \"graproes_m\",\n",
    "            \"prom_ocup\",\n",
    "            \"pro_ocup_c\",\n",
    "        ]\n",
    "\n",
    "wgt_dict = { \"prom_hnv\":'pobtot',\n",
    "            \"graproes\":'pobtot',\n",
    "            \"graproes_f\":'pobfem',\n",
    "            \"graproes_m\":'pobmas',\n",
    "            \"prom_ocup\":'tvivparhab',\n",
    "            \"pro_ocup_c\":'tvivparhab'\n",
    "           }"
   ]
  },
  {
   "cell_type": "code",
   "execution_count": 15,
   "id": "79bb5264-65f0-4c88-8846-6e1d2340e2ca",
   "metadata": {
    "tags": []
   },
   "outputs": [
    {
     "name": "stdout",
     "output_type": "stream",
     "text": [
      "(1176, 191)\n"
     ]
    },
    {
     "data": {
      "text/html": [
       "<div>\n",
       "<style scoped>\n",
       "    .dataframe tbody tr th:only-of-type {\n",
       "        vertical-align: middle;\n",
       "    }\n",
       "\n",
       "    .dataframe tbody tr th {\n",
       "        vertical-align: top;\n",
       "    }\n",
       "\n",
       "    .dataframe thead th {\n",
       "        text-align: right;\n",
       "    }\n",
       "</style>\n",
       "<table border=\"1\" class=\"dataframe\">\n",
       "  <thead>\n",
       "    <tr style=\"text-align: right;\">\n",
       "      <th></th>\n",
       "      <th>pobtot</th>\n",
       "      <th>pobmas</th>\n",
       "      <th>pobfem</th>\n",
       "      <th>p_0a2</th>\n",
       "      <th>p_0a2_m</th>\n",
       "      <th>p_0a2_f</th>\n",
       "      <th>p_3ymas</th>\n",
       "      <th>p_3ymas_m</th>\n",
       "      <th>p_3ymas_f</th>\n",
       "      <th>p_5ymas</th>\n",
       "      <th>...</th>\n",
       "      <th>vph_radio</th>\n",
       "      <th>vph_tv</th>\n",
       "      <th>vph_refri</th>\n",
       "      <th>vph_lavad</th>\n",
       "      <th>vph_autom</th>\n",
       "      <th>vph_pc</th>\n",
       "      <th>vph_telef</th>\n",
       "      <th>vph_cel</th>\n",
       "      <th>vph_inter</th>\n",
       "      <th>hex_id_8</th>\n",
       "    </tr>\n",
       "  </thead>\n",
       "  <tbody>\n",
       "    <tr>\n",
       "      <th>0</th>\n",
       "      <td>4899.0</td>\n",
       "      <td>2416.0</td>\n",
       "      <td>2483.0</td>\n",
       "      <td>169.0</td>\n",
       "      <td>49.0</td>\n",
       "      <td>46.0</td>\n",
       "      <td>4626.0</td>\n",
       "      <td>2279.0</td>\n",
       "      <td>2347.0</td>\n",
       "      <td>4449.0</td>\n",
       "      <td>...</td>\n",
       "      <td>1162.0</td>\n",
       "      <td>1305.0</td>\n",
       "      <td>1264.0</td>\n",
       "      <td>1158.0</td>\n",
       "      <td>977.0</td>\n",
       "      <td>612.0</td>\n",
       "      <td>759.0</td>\n",
       "      <td>1124.0</td>\n",
       "      <td>507.0</td>\n",
       "      <td>88484a481dfffff</td>\n",
       "    </tr>\n",
       "    <tr>\n",
       "      <th>1</th>\n",
       "      <td>3484.0</td>\n",
       "      <td>1698.0</td>\n",
       "      <td>1770.0</td>\n",
       "      <td>225.0</td>\n",
       "      <td>88.0</td>\n",
       "      <td>89.0</td>\n",
       "      <td>3071.0</td>\n",
       "      <td>1493.0</td>\n",
       "      <td>1576.0</td>\n",
       "      <td>2863.0</td>\n",
       "      <td>...</td>\n",
       "      <td>815.0</td>\n",
       "      <td>967.0</td>\n",
       "      <td>968.0</td>\n",
       "      <td>903.0</td>\n",
       "      <td>907.0</td>\n",
       "      <td>671.0</td>\n",
       "      <td>623.0</td>\n",
       "      <td>929.0</td>\n",
       "      <td>570.0</td>\n",
       "      <td>88485bb2d7fffff</td>\n",
       "    </tr>\n",
       "  </tbody>\n",
       "</table>\n",
       "<p>2 rows × 191 columns</p>\n",
       "</div>"
      ],
      "text/plain": [
       "   pobtot  pobmas  pobfem  p_0a2  p_0a2_m  p_0a2_f  p_3ymas  p_3ymas_m  \\\n",
       "0  4899.0  2416.0  2483.0  169.0     49.0     46.0   4626.0     2279.0   \n",
       "1  3484.0  1698.0  1770.0  225.0     88.0     89.0   3071.0     1493.0   \n",
       "\n",
       "   p_3ymas_f  p_5ymas  ...  vph_radio  vph_tv  vph_refri  vph_lavad  \\\n",
       "0     2347.0   4449.0  ...     1162.0  1305.0     1264.0     1158.0   \n",
       "1     1576.0   2863.0  ...      815.0   967.0      968.0      903.0   \n",
       "\n",
       "   vph_autom  vph_pc  vph_telef  vph_cel  vph_inter         hex_id_8  \n",
       "0      977.0   612.0      759.0   1124.0      507.0  88484a481dfffff  \n",
       "1      907.0   671.0      623.0    929.0      570.0  88485bb2d7fffff  \n",
       "\n",
       "[2 rows x 191 columns]"
      ]
     },
     "execution_count": 15,
     "metadata": {},
     "output_type": "execute_result"
    }
   ],
   "source": [
    "res = 8\n",
    "\n",
    "hex_socio_df = aup.socio_points_to_polygon(\n",
    "    hex_gdf_8,\n",
    "    centroid_block_pop,\n",
    "    f'hex_id_{res}',\n",
    "    string_columns,\n",
    "    wgt_dict=wgt_dict,\n",
    "    avg_column=avg_column,\n",
    ")\n",
    "print(hex_socio_df.shape)\n",
    "hex_socio_df.head(2)"
   ]
  },
  {
   "cell_type": "code",
   "execution_count": 16,
   "id": "b29afbad-6676-4568-bf58-6bfee6fb06bd",
   "metadata": {},
   "outputs": [
    {
     "data": {
      "text/plain": [
       "2893127.0"
      ]
     },
     "execution_count": 16,
     "metadata": {},
     "output_type": "execute_result"
    }
   ],
   "source": [
    "hex_socio_df.pobtot.sum()"
   ]
  },
  {
   "cell_type": "code",
   "execution_count": 19,
   "id": "99895d04-9834-4fc5-ac8c-88e6720a92c0",
   "metadata": {},
   "outputs": [
    {
     "data": {
      "text/html": [
       "<div>\n",
       "<style scoped>\n",
       "    .dataframe tbody tr th:only-of-type {\n",
       "        vertical-align: middle;\n",
       "    }\n",
       "\n",
       "    .dataframe tbody tr th {\n",
       "        vertical-align: top;\n",
       "    }\n",
       "\n",
       "    .dataframe thead th {\n",
       "        text-align: right;\n",
       "    }\n",
       "</style>\n",
       "<table border=\"1\" class=\"dataframe\">\n",
       "  <thead>\n",
       "    <tr style=\"text-align: right;\">\n",
       "      <th></th>\n",
       "      <th>hex_id_9</th>\n",
       "      <th>geometry</th>\n",
       "      <th>nom_loc</th>\n",
       "      <th>pobtot</th>\n",
       "      <th>pobfem</th>\n",
       "      <th>pobmas</th>\n",
       "      <th>p_0a2</th>\n",
       "      <th>p_0a2_f</th>\n",
       "      <th>p_0a2_m</th>\n",
       "      <th>p_3ymas</th>\n",
       "      <th>...</th>\n",
       "      <th>vph_telef</th>\n",
       "      <th>vph_cel</th>\n",
       "      <th>vph_inter</th>\n",
       "      <th>vph_stvp</th>\n",
       "      <th>vph_spmvpi</th>\n",
       "      <th>vph_cvj</th>\n",
       "      <th>vph_sinrtv</th>\n",
       "      <th>vph_sinltc</th>\n",
       "      <th>vph_sincint</th>\n",
       "      <th>vph_sintic</th>\n",
       "    </tr>\n",
       "  </thead>\n",
       "  <tbody>\n",
       "    <tr>\n",
       "      <th>0</th>\n",
       "      <td>894988d9347ffff</td>\n",
       "      <td>POLYGON ((-102.32849 21.90442, -102.32725 21.9...</td>\n",
       "      <td>AguascalientesAguascalientesAguascalientes</td>\n",
       "      <td>101.0</td>\n",
       "      <td>48.0</td>\n",
       "      <td>53.0</td>\n",
       "      <td>4.0</td>\n",
       "      <td>3.0</td>\n",
       "      <td>0.0</td>\n",
       "      <td>96.0</td>\n",
       "      <td>...</td>\n",
       "      <td>21.0</td>\n",
       "      <td>32.0</td>\n",
       "      <td>32.0</td>\n",
       "      <td>21.0</td>\n",
       "      <td>26.0</td>\n",
       "      <td>14.0</td>\n",
       "      <td>0.0</td>\n",
       "      <td>0.0</td>\n",
       "      <td>0.0</td>\n",
       "      <td>0.0</td>\n",
       "    </tr>\n",
       "    <tr>\n",
       "      <th>1</th>\n",
       "      <td>89498e22b93ffff</td>\n",
       "      <td>POLYGON ((-102.14663 22.01696, -102.14538 22.0...</td>\n",
       "      <td>JaltomateJaltomate</td>\n",
       "      <td>131.0</td>\n",
       "      <td>72.0</td>\n",
       "      <td>59.0</td>\n",
       "      <td>7.0</td>\n",
       "      <td>4.0</td>\n",
       "      <td>3.0</td>\n",
       "      <td>124.0</td>\n",
       "      <td>...</td>\n",
       "      <td>0.0</td>\n",
       "      <td>30.0</td>\n",
       "      <td>11.0</td>\n",
       "      <td>10.0</td>\n",
       "      <td>0.0</td>\n",
       "      <td>3.0</td>\n",
       "      <td>0.0</td>\n",
       "      <td>0.0</td>\n",
       "      <td>21.0</td>\n",
       "      <td>0.0</td>\n",
       "    </tr>\n",
       "  </tbody>\n",
       "</table>\n",
       "<p>2 rows × 225 columns</p>\n",
       "</div>"
      ],
      "text/plain": [
       "          hex_id_9                                           geometry  \\\n",
       "0  894988d9347ffff  POLYGON ((-102.32849 21.90442, -102.32725 21.9...   \n",
       "1  89498e22b93ffff  POLYGON ((-102.14663 22.01696, -102.14538 22.0...   \n",
       "\n",
       "                                      nom_loc pobtot pobfem pobmas p_0a2  \\\n",
       "0  AguascalientesAguascalientesAguascalientes  101.0   48.0   53.0   4.0   \n",
       "1                          JaltomateJaltomate  131.0   72.0   59.0   7.0   \n",
       "\n",
       "  p_0a2_f p_0a2_m p_3ymas  ... vph_telef vph_cel vph_inter vph_stvp  \\\n",
       "0     3.0     0.0    96.0  ...      21.0    32.0      32.0     21.0   \n",
       "1     4.0     3.0   124.0  ...       0.0    30.0      11.0     10.0   \n",
       "\n",
       "  vph_spmvpi vph_cvj vph_sinrtv vph_sinltc vph_sincint vph_sintic  \n",
       "0       26.0    14.0        0.0        0.0         0.0        0.0  \n",
       "1        0.0     3.0        0.0        0.0        21.0        0.0  \n",
       "\n",
       "[2 rows x 225 columns]"
      ]
     },
     "execution_count": 19,
     "metadata": {},
     "output_type": "execute_result"
    }
   ],
   "source": [
    "hex_gdf_socio = hex_gdf_9.merge(hex_socio_df, on=f'hex_id_{res}')\n",
    "hex_gdf_socio.head(2)"
   ]
  },
  {
   "cell_type": "code",
   "execution_count": 20,
   "id": "25d85568-3832-47c5-8801-984ff7ed90f0",
   "metadata": {},
   "outputs": [],
   "source": [
    "hex_gdf_socio['dens_pob_ha'] = hex_gdf_socio.pobtot / (hex_gdf_socio.to_crs(\"EPSG:6372\").area)"
   ]
  },
  {
   "cell_type": "code",
   "execution_count": 23,
   "id": "d9383851-a7a9-4de7-a33d-a81a35749ac7",
   "metadata": {},
   "outputs": [
    {
     "data": {
      "text/plain": [
       "<AxesSubplot:>"
      ]
     },
     "execution_count": 23,
     "metadata": {},
     "output_type": "execute_result"
    },
    {
     "data": {
      "image/png": "[encoded data removed]",
      "text/plain": [
       "<Figure size 432x288 with 1 Axes>"
      ]
     },
     "metadata": {
      "needs_background": "light"
     },
     "output_type": "display_data"
    }
   ],
   "source": [
    "hex_gdf_socio.plot('dens_pob_ha', 'viridis')"
   ]
  },
  {
   "cell_type": "markdown",
   "id": "ac61636e-c29f-40c8-908e-acf38275957a",
   "metadata": {
    "tags": []
   },
   "source": [
    "# V2"
   ]
  },
  {
   "cell_type": "markdown",
   "id": "dbe730dd-a7bf-4cb4-9a46-65b9d2337e78",
   "metadata": {},
   "source": [
    "## Download municipality polygons and census data at block level from database"
   ]
  },
  {
   "cell_type": "code",
   "execution_count": 2,
   "id": "71c30df5-818d-4dd2-990e-a53b0f682bfe",
   "metadata": {},
   "outputs": [],
   "source": [
    "df = pd.read_json(\"../scripts/Metropolis_CVE.json\")\n",
    "\n",
    "year = 2010\n",
    "\n",
    "#Folder names from database\n",
    "block_schema = 'censo_mza'\n",
    "block_folder = f'censo_mza_{year}'\n",
    "mpos_schema = 'marco'\n",
    "mpos_folder = f'mpos_{year}'\n",
    "\n",
    "c = 'Laguna'\n",
    "# Creates empty GeoDataFrame to store specified municipality polygons, infonavit_grid and hexbins\n",
    "mun_gdf = gpd.GeoDataFrame()\n",
    "block_pop = gpd.GeoDataFrame()\n",
    "# Iterates over municipality codes for each metropolitan area or capital\n",
    "for i in range(len(df.loc[\"mpos\", c])):\n",
    "    # Extracts specific municipality code\n",
    "    m = df.loc[\"mpos\", c][i]\n",
    "    # Downloads municipality polygon according to code\n",
    "    query = f\"SELECT * FROM {mpos_schema}.{mpos_folder} WHERE \\\"CVEGEO\\\" LIKE \\'{m}\\'\"\n",
    "    mun_gdf = mun_gdf.append(aup.gdf_from_query(query, geometry_col='geometry'))\n",
    "    #Creates query to download block data\n",
    "    query = f\"SELECT * FROM {block_schema}.{block_folder} WHERE \\\"CVEGEO\\\" LIKE \\'{m}%%\\'\"\n",
    "    block_pop = block_pop.append(aup.gdf_from_query(query, geometry_col='geometry'))\n",
    "    \n",
    "mun_gdf = mun_gdf.to_crs(\"EPSG:4326\")\n",
    "block_pop = block_pop.to_crs(\"EPSG:4326\")"
   ]
  },
  {
   "cell_type": "code",
   "execution_count": 3,
   "id": "400ef884-37a1-4569-ae23-72e8feb1f6ca",
   "metadata": {},
   "outputs": [
    {
     "name": "stdout",
     "output_type": "stream",
     "text": [
      "(5, 6)\n"
     ]
    },
    {
     "data": {
      "text/html": [
       "<div>\n",
       "<style scoped>\n",
       "    .dataframe tbody tr th:only-of-type {\n",
       "        vertical-align: middle;\n",
       "    }\n",
       "\n",
       "    .dataframe tbody tr th {\n",
       "        vertical-align: top;\n",
       "    }\n",
       "\n",
       "    .dataframe thead th {\n",
       "        text-align: right;\n",
       "    }\n",
       "</style>\n",
       "<table border=\"1\" class=\"dataframe\">\n",
       "  <thead>\n",
       "    <tr style=\"text-align: right;\">\n",
       "      <th></th>\n",
       "      <th>CVE_ENT</th>\n",
       "      <th>CVE_MUN</th>\n",
       "      <th>NOM_MUN</th>\n",
       "      <th>OID</th>\n",
       "      <th>geometry</th>\n",
       "      <th>CVEGEO</th>\n",
       "    </tr>\n",
       "  </thead>\n",
       "  <tbody>\n",
       "    <tr>\n",
       "      <th>0</th>\n",
       "      <td>05</td>\n",
       "      <td>009</td>\n",
       "      <td>Francisco I. Madero</td>\n",
       "      <td>2279</td>\n",
       "      <td>POLYGON ((-103.13447 26.72362, -103.05045 26.6...</td>\n",
       "      <td>05009</td>\n",
       "    </tr>\n",
       "    <tr>\n",
       "      <th>0</th>\n",
       "      <td>05</td>\n",
       "      <td>017</td>\n",
       "      <td>Matamoros</td>\n",
       "      <td>2252</td>\n",
       "      <td>POLYGON ((-103.22252 25.75687, -103.22099 25.7...</td>\n",
       "      <td>05017</td>\n",
       "    </tr>\n",
       "  </tbody>\n",
       "</table>\n",
       "</div>"
      ],
      "text/plain": [
       "  CVE_ENT CVE_MUN              NOM_MUN   OID  \\\n",
       "0      05     009  Francisco I. Madero  2279   \n",
       "0      05     017            Matamoros  2252   \n",
       "\n",
       "                                            geometry CVEGEO  \n",
       "0  POLYGON ((-103.13447 26.72362, -103.05045 26.6...  05009  \n",
       "0  POLYGON ((-103.22252 25.75687, -103.22099 25.7...  05017  "
      ]
     },
     "execution_count": 3,
     "metadata": {},
     "output_type": "execute_result"
    }
   ],
   "source": [
    "print(mun_gdf.shape)\n",
    "mun_gdf.head(2)"
   ]
  },
  {
   "cell_type": "code",
   "execution_count": 4,
   "id": "923024d0-066a-40d5-ac4f-8e73f46cded6",
   "metadata": {},
   "outputs": [
    {
     "name": "stdout",
     "output_type": "stream",
     "text": [
      "(20798, 206)\n"
     ]
    },
    {
     "data": {
      "text/html": [
       "<div>\n",
       "<style scoped>\n",
       "    .dataframe tbody tr th:only-of-type {\n",
       "        vertical-align: middle;\n",
       "    }\n",
       "\n",
       "    .dataframe tbody tr th {\n",
       "        vertical-align: top;\n",
       "    }\n",
       "\n",
       "    .dataframe thead th {\n",
       "        text-align: right;\n",
       "    }\n",
       "</style>\n",
       "<table border=\"1\" class=\"dataframe\">\n",
       "  <thead>\n",
       "    <tr style=\"text-align: right;\">\n",
       "      <th></th>\n",
       "      <th>CVEGEO</th>\n",
       "      <th>CODIGO</th>\n",
       "      <th>GEOGRAFICO</th>\n",
       "      <th>FECHAACT</th>\n",
       "      <th>GEOMETRIA</th>\n",
       "      <th>INSTITUCIO</th>\n",
       "      <th>OID</th>\n",
       "      <th>geometry</th>\n",
       "      <th>entidad</th>\n",
       "      <th>nom_ent</th>\n",
       "      <th>...</th>\n",
       "      <th>vph_snbien</th>\n",
       "      <th>vph_radio</th>\n",
       "      <th>vph_tv</th>\n",
       "      <th>vph_refri</th>\n",
       "      <th>vph_lavad</th>\n",
       "      <th>vph_autom</th>\n",
       "      <th>vph_pc</th>\n",
       "      <th>vph_telef</th>\n",
       "      <th>vph_cel</th>\n",
       "      <th>vph_inter</th>\n",
       "    </tr>\n",
       "  </thead>\n",
       "  <tbody>\n",
       "    <tr>\n",
       "      <th>0</th>\n",
       "      <td>0500900010954035</td>\n",
       "      <td>LA_6635</td>\n",
       "      <td>MANZANA</td>\n",
       "      <td>12/2007</td>\n",
       "      <td>ÁREA</td>\n",
       "      <td>INEGI</td>\n",
       "      <td>None</td>\n",
       "      <td>POLYGON ((-103.25942 25.77848, -103.25890 25.7...</td>\n",
       "      <td>5</td>\n",
       "      <td>Coahuila de Zaragoza</td>\n",
       "      <td>...</td>\n",
       "      <td>0</td>\n",
       "      <td>5</td>\n",
       "      <td>6</td>\n",
       "      <td>4</td>\n",
       "      <td>5</td>\n",
       "      <td>3</td>\n",
       "      <td>0</td>\n",
       "      <td>0</td>\n",
       "      <td>5</td>\n",
       "      <td>0</td>\n",
       "    </tr>\n",
       "    <tr>\n",
       "      <th>1</th>\n",
       "      <td>0500900010583056</td>\n",
       "      <td>LA_6635</td>\n",
       "      <td>MANZANA</td>\n",
       "      <td>06/2009</td>\n",
       "      <td>ÁREA</td>\n",
       "      <td>INEGI</td>\n",
       "      <td>None</td>\n",
       "      <td>POLYGON ((-103.26480 25.76425, -103.26442 25.7...</td>\n",
       "      <td>5</td>\n",
       "      <td>Coahuila de Zaragoza</td>\n",
       "      <td>...</td>\n",
       "      <td>0</td>\n",
       "      <td>0</td>\n",
       "      <td>3</td>\n",
       "      <td>3</td>\n",
       "      <td>0</td>\n",
       "      <td>3</td>\n",
       "      <td>0</td>\n",
       "      <td>0</td>\n",
       "      <td>0</td>\n",
       "      <td>0</td>\n",
       "    </tr>\n",
       "  </tbody>\n",
       "</table>\n",
       "<p>2 rows × 206 columns</p>\n",
       "</div>"
      ],
      "text/plain": [
       "             CVEGEO   CODIGO GEOGRAFICO FECHAACT GEOMETRIA INSTITUCIO   OID  \\\n",
       "0  0500900010954035  LA_6635    MANZANA  12/2007      ÁREA      INEGI  None   \n",
       "1  0500900010583056  LA_6635    MANZANA  06/2009      ÁREA      INEGI  None   \n",
       "\n",
       "                                            geometry  entidad  \\\n",
       "0  POLYGON ((-103.25942 25.77848, -103.25890 25.7...        5   \n",
       "1  POLYGON ((-103.26480 25.76425, -103.26442 25.7...        5   \n",
       "\n",
       "                nom_ent  ...  vph_snbien vph_radio  vph_tv vph_refri  \\\n",
       "0  Coahuila de Zaragoza  ...           0         5       6         4   \n",
       "1  Coahuila de Zaragoza  ...           0         0       3         3   \n",
       "\n",
       "  vph_lavad  vph_autom  vph_pc vph_telef vph_cel vph_inter  \n",
       "0         5          3       0         0       5         0  \n",
       "1         0          3       0         0       0         0  \n",
       "\n",
       "[2 rows x 206 columns]"
      ]
     },
     "execution_count": 4,
     "metadata": {},
     "output_type": "execute_result"
    }
   ],
   "source": [
    "print(block_pop.shape)\n",
    "block_pop.head(2)"
   ]
  },
  {
   "cell_type": "code",
   "execution_count": 5,
   "id": "507b2099-7663-44af-8c4b-7db491c6bb90",
   "metadata": {},
   "outputs": [],
   "source": [
    "block_pop = block_pop.to_crs(\"EPSG:6372\")\n",
    "block_pop.columns = block_pop.columns.str.lower()\n",
    "block_pop = block_pop.replace('N/D',np.nan)"
   ]
  },
  {
   "cell_type": "code",
   "execution_count": 6,
   "id": "fc8fdf47-cf27-4728-bc83-5c4d63aa4f8d",
   "metadata": {},
   "outputs": [
    {
     "data": {
      "text/plain": [
       "<AxesSubplot:>"
      ]
     },
     "execution_count": 6,
     "metadata": {},
     "output_type": "execute_result"
    },
    {
     "data": {
      "image/png": "[encoded data removed]",
      "text/plain": [
       "<Figure size 432x288 with 1 Axes>"
      ]
     },
     "metadata": {
      "needs_background": "light"
     },
     "output_type": "display_data"
    }
   ],
   "source": [
    "block_pop.plot()"
   ]
  },
  {
   "cell_type": "markdown",
   "id": "f8aa7941-20e3-4123-afad-39349d8e7ade",
   "metadata": {},
   "source": [
    "## Calculate centroid"
   ]
  },
  {
   "cell_type": "code",
   "execution_count": 7,
   "id": "bb5e75a9-ce26-4ae1-8fa4-0f08c470c8d7",
   "metadata": {},
   "outputs": [
    {
     "name": "stdout",
     "output_type": "stream",
     "text": [
      "(20798, 205)\n"
     ]
    },
    {
     "data": {
      "text/html": [
       "<div>\n",
       "<style scoped>\n",
       "    .dataframe tbody tr th:only-of-type {\n",
       "        vertical-align: middle;\n",
       "    }\n",
       "\n",
       "    .dataframe tbody tr th {\n",
       "        vertical-align: top;\n",
       "    }\n",
       "\n",
       "    .dataframe thead th {\n",
       "        text-align: right;\n",
       "    }\n",
       "</style>\n",
       "<table border=\"1\" class=\"dataframe\">\n",
       "  <thead>\n",
       "    <tr style=\"text-align: right;\">\n",
       "      <th></th>\n",
       "      <th>geometry</th>\n",
       "      <th>codigo</th>\n",
       "      <th>geografico</th>\n",
       "      <th>fechaact</th>\n",
       "      <th>geometria</th>\n",
       "      <th>institucio</th>\n",
       "      <th>oid</th>\n",
       "      <th>entidad</th>\n",
       "      <th>nom_ent</th>\n",
       "      <th>mun</th>\n",
       "      <th>...</th>\n",
       "      <th>vph_snbien</th>\n",
       "      <th>vph_radio</th>\n",
       "      <th>vph_tv</th>\n",
       "      <th>vph_refri</th>\n",
       "      <th>vph_lavad</th>\n",
       "      <th>vph_autom</th>\n",
       "      <th>vph_pc</th>\n",
       "      <th>vph_telef</th>\n",
       "      <th>vph_cel</th>\n",
       "      <th>vph_inter</th>\n",
       "    </tr>\n",
       "    <tr>\n",
       "      <th>cvegeo</th>\n",
       "      <th></th>\n",
       "      <th></th>\n",
       "      <th></th>\n",
       "      <th></th>\n",
       "      <th></th>\n",
       "      <th></th>\n",
       "      <th></th>\n",
       "      <th></th>\n",
       "      <th></th>\n",
       "      <th></th>\n",
       "      <th></th>\n",
       "      <th></th>\n",
       "      <th></th>\n",
       "      <th></th>\n",
       "      <th></th>\n",
       "      <th></th>\n",
       "      <th></th>\n",
       "      <th></th>\n",
       "      <th></th>\n",
       "      <th></th>\n",
       "      <th></th>\n",
       "    </tr>\n",
       "  </thead>\n",
       "  <tbody>\n",
       "    <tr>\n",
       "      <th>0500900010954035</th>\n",
       "      <td>POINT (2374277.594 1525911.015)</td>\n",
       "      <td>LA_6635</td>\n",
       "      <td>MANZANA</td>\n",
       "      <td>12/2007</td>\n",
       "      <td>ÁREA</td>\n",
       "      <td>INEGI</td>\n",
       "      <td>None</td>\n",
       "      <td>5</td>\n",
       "      <td>Coahuila de Zaragoza</td>\n",
       "      <td>9</td>\n",
       "      <td>...</td>\n",
       "      <td>0</td>\n",
       "      <td>5</td>\n",
       "      <td>6</td>\n",
       "      <td>4</td>\n",
       "      <td>5</td>\n",
       "      <td>3</td>\n",
       "      <td>0</td>\n",
       "      <td>0</td>\n",
       "      <td>5</td>\n",
       "      <td>0</td>\n",
       "    </tr>\n",
       "    <tr>\n",
       "      <th>0500900010583056</th>\n",
       "      <td>POINT (2373734.444 1524353.561)</td>\n",
       "      <td>LA_6635</td>\n",
       "      <td>MANZANA</td>\n",
       "      <td>06/2009</td>\n",
       "      <td>ÁREA</td>\n",
       "      <td>INEGI</td>\n",
       "      <td>None</td>\n",
       "      <td>5</td>\n",
       "      <td>Coahuila de Zaragoza</td>\n",
       "      <td>9</td>\n",
       "      <td>...</td>\n",
       "      <td>0</td>\n",
       "      <td>0</td>\n",
       "      <td>3</td>\n",
       "      <td>3</td>\n",
       "      <td>0</td>\n",
       "      <td>3</td>\n",
       "      <td>0</td>\n",
       "      <td>0</td>\n",
       "      <td>0</td>\n",
       "      <td>0</td>\n",
       "    </tr>\n",
       "  </tbody>\n",
       "</table>\n",
       "<p>2 rows × 205 columns</p>\n",
       "</div>"
      ],
      "text/plain": [
       "                                         geometry   codigo geografico  \\\n",
       "cvegeo                                                                  \n",
       "0500900010954035  POINT (2374277.594 1525911.015)  LA_6635    MANZANA   \n",
       "0500900010583056  POINT (2373734.444 1524353.561)  LA_6635    MANZANA   \n",
       "\n",
       "                 fechaact geometria institucio   oid  entidad  \\\n",
       "cvegeo                                                          \n",
       "0500900010954035  12/2007      ÁREA      INEGI  None        5   \n",
       "0500900010583056  06/2009      ÁREA      INEGI  None        5   \n",
       "\n",
       "                               nom_ent  mun  ... vph_snbien  vph_radio vph_tv  \\\n",
       "cvegeo                                       ...                                \n",
       "0500900010954035  Coahuila de Zaragoza    9  ...          0          5      6   \n",
       "0500900010583056  Coahuila de Zaragoza    9  ...          0          0      3   \n",
       "\n",
       "                 vph_refri  vph_lavad  vph_autom vph_pc vph_telef vph_cel  \\\n",
       "cvegeo                                                                      \n",
       "0500900010954035         4          5          3      0         0       5   \n",
       "0500900010583056         3          0          3      0         0       0   \n",
       "\n",
       "                 vph_inter  \n",
       "cvegeo                      \n",
       "0500900010954035         0  \n",
       "0500900010583056         0  \n",
       "\n",
       "[2 rows x 205 columns]"
      ]
     },
     "execution_count": 7,
     "metadata": {},
     "output_type": "execute_result"
    }
   ],
   "source": [
    "block_pop = block_pop.set_index('cvegeo')\n",
    "real_not_centroid = gpd.GeoDataFrame(geometry=block_pop.representative_point())\n",
    "centroid_block_pop = real_not_centroid.merge(block_pop, right_index=True, left_index=True)\n",
    "centroid_block_pop.drop(columns=['geometry_y'], inplace=True)\n",
    "centroid_block_pop.rename(columns={'geometry_x':'geometry'}, inplace=True)\n",
    "centroid_block_pop = gpd.GeoDataFrame(centroid_block_pop, geometry='geometry')\n",
    "print(centroid_block_pop.shape)\n",
    "centroid_block_pop.head(2)"
   ]
  },
  {
   "cell_type": "markdown",
   "id": "90b1c51f-724f-41ce-a76f-6b1b51b4455d",
   "metadata": {},
   "source": [
    "### Checking for lost population data in centroid"
   ]
  },
  {
   "cell_type": "code",
   "execution_count": 8,
   "id": "32839332-f444-4b2f-b1c6-543845b5024a",
   "metadata": {},
   "outputs": [
    {
     "data": {
      "text/plain": [
       "1097873"
      ]
     },
     "execution_count": 8,
     "metadata": {},
     "output_type": "execute_result"
    }
   ],
   "source": [
    "centroid_block_pop.pobtot.sum()"
   ]
  },
  {
   "cell_type": "code",
   "execution_count": 9,
   "id": "02b34039-b79e-41fe-99fe-8ce821fdca31",
   "metadata": {},
   "outputs": [
    {
     "data": {
      "text/plain": [
       "1097873"
      ]
     },
     "execution_count": 9,
     "metadata": {},
     "output_type": "execute_result"
    }
   ],
   "source": [
    "block_pop.pobtot.sum()"
   ]
  },
  {
   "cell_type": "markdown",
   "id": "c5ee728b-28d3-4742-a7df-2db7fd3bdf2b",
   "metadata": {},
   "source": [
    "## Group census data at hexagons"
   ]
  },
  {
   "cell_type": "markdown",
   "id": "a9736fd9-7b80-4edb-b8f1-b96d37a8f9d3",
   "metadata": {},
   "source": [
    "### Create hexagons for municipality polygons"
   ]
  },
  {
   "cell_type": "code",
   "execution_count": 10,
   "id": "5a4b641a-8158-4738-9d8a-20d2114bcd76",
   "metadata": {},
   "outputs": [
    {
     "name": "stdout",
     "output_type": "stream",
     "text": [
      "(11420, 2)\n"
     ]
    },
    {
     "data": {
      "text/html": [
       "<div>\n",
       "<style scoped>\n",
       "    .dataframe tbody tr th:only-of-type {\n",
       "        vertical-align: middle;\n",
       "    }\n",
       "\n",
       "    .dataframe tbody tr th {\n",
       "        vertical-align: top;\n",
       "    }\n",
       "\n",
       "    .dataframe thead th {\n",
       "        text-align: right;\n",
       "    }\n",
       "</style>\n",
       "<table border=\"1\" class=\"dataframe\">\n",
       "  <thead>\n",
       "    <tr style=\"text-align: right;\">\n",
       "      <th></th>\n",
       "      <th>hex_id_8</th>\n",
       "      <th>geometry</th>\n",
       "    </tr>\n",
       "  </thead>\n",
       "  <tbody>\n",
       "    <tr>\n",
       "      <th>0</th>\n",
       "      <td>8848acc2b3fffff</td>\n",
       "      <td>POLYGON ((-103.30007 26.18839, -103.29533 26.1...</td>\n",
       "    </tr>\n",
       "    <tr>\n",
       "      <th>1</th>\n",
       "      <td>8848acc2a5fffff</td>\n",
       "      <td>POLYGON ((-103.26239 26.16790, -103.25765 26.1...</td>\n",
       "    </tr>\n",
       "  </tbody>\n",
       "</table>\n",
       "</div>"
      ],
      "text/plain": [
       "          hex_id_8                                           geometry\n",
       "0  8848acc2b3fffff  POLYGON ((-103.30007 26.18839, -103.29533 26.1...\n",
       "1  8848acc2a5fffff  POLYGON ((-103.26239 26.16790, -103.25765 26.1..."
      ]
     },
     "execution_count": 10,
     "metadata": {},
     "output_type": "execute_result"
    }
   ],
   "source": [
    "res = 8\n",
    "mun_buffer = gpd.GeoDataFrame(geometry=mun_gdf.to_crs(\"EPSG:6372\").dissolve().buffer(2500))\n",
    "mun_buffer = mun_buffer.to_crs(\"EPSG:4326\")\n",
    "hex_gdf_8 = aup.create_hexgrid(mun_buffer, res)\n",
    "hex_gdf_8 = hex_gdf_8.to_crs(\"EPSG:4326\")\n",
    "print(hex_gdf_8.shape)\n",
    "hex_gdf_8.head(2)"
   ]
  },
  {
   "cell_type": "code",
   "execution_count": 11,
   "id": "feda962a-3df9-4d92-adc8-48acdaab0b14",
   "metadata": {
    "tags": []
   },
   "outputs": [],
   "source": [
    "dlt_col = {2020:['cve_ent','cve_mun','cve_loc','cve_ageb',\n",
    "           'cve_mza','ambito','tipomza','entidad','nom_loc',\n",
    "           'nom_ent','mun','nom_mun','loc','ageb','mza'],\n",
    "          2010:['codigo','geografico',\n",
    "                'fechaact','geometria','institucio',\n",
    "                'oid','entidad','nom_ent','mun','nom_mun',\n",
    "                'loc','nom_loc','ageb','mza']}\n",
    "centroid_block_pop.drop(columns=dlt_col[year], inplace=True)"
   ]
  },
  {
   "cell_type": "code",
   "execution_count": 12,
   "id": "221ac98f-65cd-4f5a-9ab9-4764b4edcafa",
   "metadata": {},
   "outputs": [],
   "source": [
    "centroid_block_pop = centroid_block_pop.to_crs(\"EPSG:4326\")\n",
    "centroid_block_pop = centroid_block_pop.reset_index()"
   ]
  },
  {
   "cell_type": "code",
   "execution_count": 13,
   "id": "20b7e2d4-8588-433e-99b0-e6bbd2833957",
   "metadata": {},
   "outputs": [],
   "source": [
    "string_columns = ['cvegeo']\n",
    "avg_column = [\n",
    "            \"prom_hnv\",\n",
    "            \"graproes\",\n",
    "            \"graproes_f\",\n",
    "            \"graproes_m\",\n",
    "            \"prom_ocup\",\n",
    "            \"pro_ocup_c\",\n",
    "        ]\n",
    "\n",
    "wgt_dict = { \"prom_hnv\":'pobtot',\n",
    "            \"graproes\":'pobtot',\n",
    "            \"graproes_f\":'pobfem',\n",
    "            \"graproes_m\":'pobmas',\n",
    "            \"prom_ocup\":'tvivparhab',\n",
    "            \"pro_ocup_c\":'tvivparhab'\n",
    "           }"
   ]
  },
  {
   "cell_type": "code",
   "execution_count": 14,
   "id": "c39e3a6d-91d6-4adb-951e-8dd67fd3965b",
   "metadata": {
    "tags": []
   },
   "outputs": [
    {
     "name": "stdout",
     "output_type": "stream",
     "text": [
      "(454, 191)\n"
     ]
    },
    {
     "data": {
      "text/html": [
       "<div>\n",
       "<style scoped>\n",
       "    .dataframe tbody tr th:only-of-type {\n",
       "        vertical-align: middle;\n",
       "    }\n",
       "\n",
       "    .dataframe tbody tr th {\n",
       "        vertical-align: top;\n",
       "    }\n",
       "\n",
       "    .dataframe thead th {\n",
       "        text-align: right;\n",
       "    }\n",
       "</style>\n",
       "<table border=\"1\" class=\"dataframe\">\n",
       "  <thead>\n",
       "    <tr style=\"text-align: right;\">\n",
       "      <th></th>\n",
       "      <th>pobtot</th>\n",
       "      <th>pobmas</th>\n",
       "      <th>pobfem</th>\n",
       "      <th>p_0a2</th>\n",
       "      <th>p_0a2_m</th>\n",
       "      <th>p_0a2_f</th>\n",
       "      <th>p_3ymas</th>\n",
       "      <th>p_3ymas_m</th>\n",
       "      <th>p_3ymas_f</th>\n",
       "      <th>p_5ymas</th>\n",
       "      <th>...</th>\n",
       "      <th>vph_radio</th>\n",
       "      <th>vph_tv</th>\n",
       "      <th>vph_refri</th>\n",
       "      <th>vph_lavad</th>\n",
       "      <th>vph_autom</th>\n",
       "      <th>vph_pc</th>\n",
       "      <th>vph_telef</th>\n",
       "      <th>vph_cel</th>\n",
       "      <th>vph_inter</th>\n",
       "      <th>hex_id_8</th>\n",
       "    </tr>\n",
       "  </thead>\n",
       "  <tbody>\n",
       "    <tr>\n",
       "      <th>0</th>\n",
       "      <td>3974.0</td>\n",
       "      <td>1918.0</td>\n",
       "      <td>1946.0</td>\n",
       "      <td>200.0</td>\n",
       "      <td>71.0</td>\n",
       "      <td>54.0</td>\n",
       "      <td>3585.0</td>\n",
       "      <td>1772.0</td>\n",
       "      <td>1813.0</td>\n",
       "      <td>3437.0</td>\n",
       "      <td>...</td>\n",
       "      <td>733.0</td>\n",
       "      <td>907.0</td>\n",
       "      <td>840.0</td>\n",
       "      <td>710.0</td>\n",
       "      <td>428.0</td>\n",
       "      <td>175.0</td>\n",
       "      <td>176.0</td>\n",
       "      <td>659.0</td>\n",
       "      <td>88.0</td>\n",
       "      <td>8848126a2dfffff</td>\n",
       "    </tr>\n",
       "    <tr>\n",
       "      <th>1</th>\n",
       "      <td>2262.0</td>\n",
       "      <td>1059.0</td>\n",
       "      <td>1149.0</td>\n",
       "      <td>152.0</td>\n",
       "      <td>58.0</td>\n",
       "      <td>59.0</td>\n",
       "      <td>2033.0</td>\n",
       "      <td>972.0</td>\n",
       "      <td>1061.0</td>\n",
       "      <td>1935.0</td>\n",
       "      <td>...</td>\n",
       "      <td>440.0</td>\n",
       "      <td>537.0</td>\n",
       "      <td>518.0</td>\n",
       "      <td>434.0</td>\n",
       "      <td>321.0</td>\n",
       "      <td>120.0</td>\n",
       "      <td>114.0</td>\n",
       "      <td>423.0</td>\n",
       "      <td>39.0</td>\n",
       "      <td>8848126a61fffff</td>\n",
       "    </tr>\n",
       "  </tbody>\n",
       "</table>\n",
       "<p>2 rows × 191 columns</p>\n",
       "</div>"
      ],
      "text/plain": [
       "   pobtot  pobmas  pobfem  p_0a2  p_0a2_m  p_0a2_f  p_3ymas  p_3ymas_m  \\\n",
       "0  3974.0  1918.0  1946.0  200.0     71.0     54.0   3585.0     1772.0   \n",
       "1  2262.0  1059.0  1149.0  152.0     58.0     59.0   2033.0      972.0   \n",
       "\n",
       "   p_3ymas_f  p_5ymas  ...  vph_radio  vph_tv  vph_refri  vph_lavad  \\\n",
       "0     1813.0   3437.0  ...      733.0   907.0      840.0      710.0   \n",
       "1     1061.0   1935.0  ...      440.0   537.0      518.0      434.0   \n",
       "\n",
       "   vph_autom  vph_pc  vph_telef  vph_cel  vph_inter         hex_id_8  \n",
       "0      428.0   175.0      176.0    659.0       88.0  8848126a2dfffff  \n",
       "1      321.0   120.0      114.0    423.0       39.0  8848126a61fffff  \n",
       "\n",
       "[2 rows x 191 columns]"
      ]
     },
     "execution_count": 14,
     "metadata": {},
     "output_type": "execute_result"
    }
   ],
   "source": [
    "res = 8\n",
    "\n",
    "hex_socio_df = aup.socio_points_to_polygon(\n",
    "    hex_gdf_8,\n",
    "    centroid_block_pop,\n",
    "    f'hex_id_{res}',\n",
    "    string_columns,\n",
    "    wgt_dict=wgt_dict,\n",
    "    avg_column=avg_column,\n",
    ")\n",
    "print(hex_socio_df.shape)\n",
    "hex_socio_df.head(2)"
   ]
  },
  {
   "cell_type": "code",
   "execution_count": 15,
   "id": "7165d0fb-8653-4033-955c-fb731ecf8709",
   "metadata": {},
   "outputs": [
    {
     "data": {
      "text/plain": [
       "1097873.0"
      ]
     },
     "execution_count": 15,
     "metadata": {},
     "output_type": "execute_result"
    }
   ],
   "source": [
    "hex_socio_df.pobtot.sum()"
   ]
  },
  {
   "cell_type": "code",
   "execution_count": null,
   "id": "daa79291-86fa-45b4-b1fc-a4910cabbfed",
   "metadata": {},
   "outputs": [],
   "source": []
  }
 ],
 "metadata": {
  "kernelspec": {
   "display_name": "Python 3",
   "language": "python",
   "name": "python3"
  },
  "language_info": {
   "codemirror_mode": {
    "name": "ipython",
    "version": 3
   },
   "file_extension": ".py",
   "mimetype": "text/x-python",
   "name": "python",
   "nbconvert_exporter": "python",
   "pygments_lexer": "ipython3",
   "version": "3.8.12"
  }
 },
 "nbformat": 4,
 "nbformat_minor": 5
}
