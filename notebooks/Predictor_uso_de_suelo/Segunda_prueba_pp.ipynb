{
 "cells": [
  {
   "cell_type": "code",
   "execution_count": 1,
   "id": "a7675bb0-d6af-4f65-98e9-e02e55bca55d",
   "metadata": {},
   "outputs": [],
   "source": [
    "import geopandas as gpd\n",
    "import pandas as pd\n",
    "import numpy as np\n",
    "import seaborn as sns\n",
    "import matplotlib.pyplot as plt\n",
    "\n",
    "import warnings\n",
    "warnings.simplefilter(action='ignore', category=FutureWarning)\n",
    "\n",
    "import os\n",
    "import sys\n",
    "module_path = os.path.abspath(os.path.join('../../'))\n",
    "if module_path not in sys.path:\n",
    "    sys.path.append(module_path)\n",
    "    import aup"
   ]
  },
  {
   "cell_type": "markdown",
   "id": "6aa739a9-9911-49af-9ff3-6dddfa069a37",
   "metadata": {},
   "source": [
    "## Downloading network"
   ]
  },
  {
   "cell_type": "code",
   "execution_count": 2,
   "id": "3f8637f8-cac1-4214-a0af-cf4ff1aadab1",
   "metadata": {},
   "outputs": [],
   "source": [
    "USOS_ZONA_7 = gpd.read_file(\"USOS_ZONA_7.shp\")"
   ]
  },
  {
   "cell_type": "code",
   "execution_count": 3,
   "id": "e2dec1eb-aea1-4b6a-97b6-abf1ad173bb8",
   "metadata": {},
   "outputs": [
    {
     "name": "stdout",
     "output_type": "stream",
     "text": [
      "(5528698, 10)\n"
     ]
    },
    {
     "data": {
      "text/html": [
       "<div>\n",
       "<style scoped>\n",
       "    .dataframe tbody tr th:only-of-type {\n",
       "        vertical-align: middle;\n",
       "    }\n",
       "\n",
       "    .dataframe tbody tr th {\n",
       "        vertical-align: top;\n",
       "    }\n",
       "\n",
       "    .dataframe thead th {\n",
       "        text-align: right;\n",
       "    }\n",
       "</style>\n",
       "<table border=\"1\" class=\"dataframe\">\n",
       "  <thead>\n",
       "    <tr style=\"text-align: right;\">\n",
       "      <th></th>\n",
       "      <th>cve_ent</th>\n",
       "      <th>cve_loc</th>\n",
       "      <th>manzana</th>\n",
       "      <th>cve_mun</th>\n",
       "      <th>latitud</th>\n",
       "      <th>longitud</th>\n",
       "      <th>codigo_act</th>\n",
       "      <th>ageb</th>\n",
       "      <th>per_ocu</th>\n",
       "      <th>geometry</th>\n",
       "    </tr>\n",
       "  </thead>\n",
       "  <tbody>\n",
       "    <tr>\n",
       "      <th>0</th>\n",
       "      <td>01</td>\n",
       "      <td>0001</td>\n",
       "      <td>056</td>\n",
       "      <td>001</td>\n",
       "      <td>21.901488</td>\n",
       "      <td>-102.289962</td>\n",
       "      <td>436112</td>\n",
       "      <td>198A</td>\n",
       "      <td>0 a 5 personas</td>\n",
       "      <td>POINT (-102.28996 21.90149)</td>\n",
       "    </tr>\n",
       "    <tr>\n",
       "      <th>1</th>\n",
       "      <td>01</td>\n",
       "      <td>0041</td>\n",
       "      <td>030</td>\n",
       "      <td>005</td>\n",
       "      <td>21.992029</td>\n",
       "      <td>-102.288802</td>\n",
       "      <td>436112</td>\n",
       "      <td>0463</td>\n",
       "      <td>0 a 5 personas</td>\n",
       "      <td>POINT (-102.28880 21.99203)</td>\n",
       "    </tr>\n",
       "  </tbody>\n",
       "</table>\n",
       "</div>"
      ],
      "text/plain": [
       "  cve_ent cve_loc manzana cve_mun    latitud    longitud codigo_act  ageb  \\\n",
       "0      01    0001     056     001  21.901488 -102.289962     436112  198A   \n",
       "1      01    0041     030     005  21.992029 -102.288802     436112  0463   \n",
       "\n",
       "          per_ocu                     geometry  \n",
       "0  0 a 5 personas  POINT (-102.28996 21.90149)  \n",
       "1  0 a 5 personas  POINT (-102.28880 21.99203)  "
      ]
     },
     "execution_count": 3,
     "metadata": {},
     "output_type": "execute_result"
    }
   ],
   "source": [
    "schema = \"denue\"\n",
    "table = \"denue_2022\"\n",
    "\n",
    "entidad = \"cve_ent\"\n",
    "localidad = \"cve_loc\"\n",
    "manzana = \"manzana\"\n",
    "municipio = \"cve_mun\"\n",
    "# id = \"id\"\n",
    "latitud = \"latitud\"\n",
    "longitud = \"longitud\"\n",
    "codigo_act = \"codigo_act\"\n",
    "ageb = \"ageb\"\n",
    "per_ocu = \"per_ocu\"\n",
    "\n",
    "query_censo = f\"\"\"\n",
    "SELECT \n",
    "  \"{entidad}\",\n",
    "  \"{localidad}\",\n",
    "  \"{manzana}\",\n",
    "  \"{municipio}\",\n",
    "  \"{latitud}\",\n",
    "  \"{longitud}\",\n",
    "  \"{codigo_act}\",\n",
    "  \"{ageb}\",\n",
    "  \"{per_ocu}\",\n",
    "  \"geometry\"\n",
    "FROM {schema}.{table}\"\"\"\n",
    "\n",
    "Denue = aup.gdf_from_query(query_censo, geometry_col='geometry')\n",
    "print(Denue.shape)\n",
    "Denue.head(2)"
   ]
  },
  {
   "cell_type": "markdown",
   "id": "aef70eb9-ec59-4093-b34f-bc033d26bdce",
   "metadata": {},
   "source": [
    "## Clasificar las distintas actividades económicas con base en su terminación en \"codigo_act\" basándonos en el Directorio Estadístico Nacional de Unidades Económicas"
   ]
  },
  {
   "cell_type": "code",
   "execution_count": 4,
   "id": "87b05149-1bb9-4a0a-a93c-3d56dd74fd00",
   "metadata": {},
   "outputs": [],
   "source": [
    "# Función para clasificar según la terminación de codigo_act\n",
    "def asignar_tipo(codigo):\n",
    "    if pd.isna(codigo):  # Si está vacío\n",
    "        return 'Sin código'\n",
    "    \n",
    "    # Asegurar que sea string para evaluar el código\n",
    "    codigo_str = str(codigo).strip()\n",
    "\n",
    "    if not codigo_str.isdigit():\n",
    "        return 'Código inválido'\n",
    "    \n",
    "    # Define tus conjuntos de códigos\n",
    "    industria = {'111', '112', '113', '114', '115', '211', '212', '236', '237', '238',\n",
    "                 '311', '312', '313', '314', '315', '316', '317', '318', '319', '320',\n",
    "                 '321', '322', '323', '324', '325', '326', '327', '328', '329', '330',\n",
    "                 '331', '332', '333', '334', '335', '336', '337', '338', '339', '551'}\n",
    "    \n",
    "    servicios = {'213', '221', '222', '481', '482', '483', '484', '485', '486',\n",
    "                 '487', '488', '489', '490', '491', '492', '493', '521', '522', '523',\n",
    "                 '524', '525', '531', '532', '533', '541', '561', '562', '721', '722',\n",
    "                 '811', '812', '813', '814'}\n",
    "    \n",
    "    comercio = {'431', '432', '433', '434', '435', '436', '437', '461', '462',\n",
    "                '463', '464', '465', '466', '467'}\n",
    "    \n",
    "    cultural_recreativo = {'511', '512', '513', '514', '515', '516', '517', '518', '519',\n",
    "                           '711', '712', '713'}\n",
    "    \n",
    "    educacion = {'611'}\n",
    "    \n",
    "    salud = {'621', '622', '623', '624'}\n",
    "    \n",
    "    # Verificar si el código está en alguno de los conjuntos\n",
    "    if codigo_str[-3:] in industria:\n",
    "        return 'Industria'\n",
    "    elif codigo_str[-3:] in servicios:\n",
    "        return 'Servicios'\n",
    "    elif codigo_str[-3:] in comercio:\n",
    "        return 'Comercio'\n",
    "    elif codigo_str[-3:] in cultural_recreativo:\n",
    "        return 'Cultural/Recreativo'\n",
    "    elif codigo_str[-3:] in educacion:\n",
    "        return 'Educación'\n",
    "    elif codigo_str[-3:] in salud:\n",
    "        return 'Salud'\n",
    "    else:\n",
    "        return 'Desconocido'\n",
    "\n",
    "# Aplica la función al DataFrame\n",
    "Denue['tipo_act'] = Denue['codigo_act'].apply(asignar_tipo)"
   ]
  },
  {
   "cell_type": "code",
   "execution_count": 5,
   "id": "20ee14e3-923d-44f1-91b2-05d69b4688b4",
   "metadata": {},
   "outputs": [
    {
     "data": {
      "text/html": [
       "<div>\n",
       "<style scoped>\n",
       "    .dataframe tbody tr th:only-of-type {\n",
       "        vertical-align: middle;\n",
       "    }\n",
       "\n",
       "    .dataframe tbody tr th {\n",
       "        vertical-align: top;\n",
       "    }\n",
       "\n",
       "    .dataframe thead th {\n",
       "        text-align: right;\n",
       "    }\n",
       "</style>\n",
       "<table border=\"1\" class=\"dataframe\">\n",
       "  <thead>\n",
       "    <tr style=\"text-align: right;\">\n",
       "      <th></th>\n",
       "      <th>cve_ent</th>\n",
       "      <th>cve_loc</th>\n",
       "      <th>manzana</th>\n",
       "      <th>cve_mun</th>\n",
       "      <th>latitud</th>\n",
       "      <th>longitud</th>\n",
       "      <th>codigo_act</th>\n",
       "      <th>ageb</th>\n",
       "      <th>per_ocu</th>\n",
       "      <th>geometry</th>\n",
       "      <th>tipo_act</th>\n",
       "    </tr>\n",
       "  </thead>\n",
       "  <tbody>\n",
       "    <tr>\n",
       "      <th>0</th>\n",
       "      <td>01</td>\n",
       "      <td>0001</td>\n",
       "      <td>056</td>\n",
       "      <td>001</td>\n",
       "      <td>21.901488</td>\n",
       "      <td>-102.289962</td>\n",
       "      <td>436112</td>\n",
       "      <td>198A</td>\n",
       "      <td>0 a 5 personas</td>\n",
       "      <td>POINT (-102.28996 21.90149)</td>\n",
       "      <td>Industria</td>\n",
       "    </tr>\n",
       "    <tr>\n",
       "      <th>1</th>\n",
       "      <td>01</td>\n",
       "      <td>0041</td>\n",
       "      <td>030</td>\n",
       "      <td>005</td>\n",
       "      <td>21.992029</td>\n",
       "      <td>-102.288802</td>\n",
       "      <td>436112</td>\n",
       "      <td>0463</td>\n",
       "      <td>0 a 5 personas</td>\n",
       "      <td>POINT (-102.28880 21.99203)</td>\n",
       "      <td>Industria</td>\n",
       "    </tr>\n",
       "    <tr>\n",
       "      <th>2</th>\n",
       "      <td>01</td>\n",
       "      <td>0001</td>\n",
       "      <td>015</td>\n",
       "      <td>001</td>\n",
       "      <td>21.851988</td>\n",
       "      <td>-102.319345</td>\n",
       "      <td>433312</td>\n",
       "      <td>1439</td>\n",
       "      <td>0 a 5 personas</td>\n",
       "      <td>POINT (-102.31934 21.85199)</td>\n",
       "      <td>Industria</td>\n",
       "    </tr>\n",
       "  </tbody>\n",
       "</table>\n",
       "</div>"
      ],
      "text/plain": [
       "  cve_ent cve_loc manzana cve_mun    latitud    longitud codigo_act  ageb  \\\n",
       "0      01    0001     056     001  21.901488 -102.289962     436112  198A   \n",
       "1      01    0041     030     005  21.992029 -102.288802     436112  0463   \n",
       "2      01    0001     015     001  21.851988 -102.319345     433312  1439   \n",
       "\n",
       "          per_ocu                     geometry   tipo_act  \n",
       "0  0 a 5 personas  POINT (-102.28996 21.90149)  Industria  \n",
       "1  0 a 5 personas  POINT (-102.28880 21.99203)  Industria  \n",
       "2  0 a 5 personas  POINT (-102.31934 21.85199)  Industria  "
      ]
     },
     "execution_count": 5,
     "metadata": {},
     "output_type": "execute_result"
    }
   ],
   "source": [
    "Denue.head(3)"
   ]
  },
  {
   "cell_type": "code",
   "execution_count": 20,
   "id": "5620a0eb-5c8f-4f0a-b832-c5bf8c66d697",
   "metadata": {},
   "outputs": [
    {
     "data": {
      "text/plain": [
       "(5528698, 11)"
      ]
     },
     "execution_count": 20,
     "metadata": {},
     "output_type": "execute_result"
    }
   ],
   "source": [
    "Denue.shape"
   ]
  },
  {
   "cell_type": "code",
   "execution_count": 22,
   "id": "13d9cc9e-79f1-45c0-8bfa-c7235a196810",
   "metadata": {},
   "outputs": [
    {
     "data": {
      "text/plain": [
       "Index(['cve_ent', 'cve_loc', 'manzana', 'cve_mun', 'id', 'latitud', 'longitud',\n",
       "       'codigo_act', 'ageb', 'geometry', 'tipo_act'],\n",
       "      dtype='object')"
      ]
     },
     "execution_count": 22,
     "metadata": {},
     "output_type": "execute_result"
    }
   ],
   "source": [
    "Denue.columns"
   ]
  },
  {
   "cell_type": "code",
   "execution_count": 13,
   "id": "90ceaa81-fc13-4b4a-a290-15ccd56e7a59",
   "metadata": {},
   "outputs": [
    {
     "data": {
      "text/plain": [
       "array(['Industria', 'Desconocido', 'Servicios', 'Cultural/Recreativo',\n",
       "       'Educación', 'Comercio', 'Salud'], dtype=object)"
      ]
     },
     "execution_count": 13,
     "metadata": {},
     "output_type": "execute_result"
    }
   ],
   "source": [
    "Denue[\"tipo_act\"].unique()"
   ]
  },
  {
   "cell_type": "code",
   "execution_count": 17,
   "id": "6eb138af-5c44-47e2-8156-478a6e0b6195",
   "metadata": {},
   "outputs": [
    {
     "name": "stdout",
     "output_type": "stream",
     "text": [
      "Códigos que quedaron como 'Desconocido':\n",
      "['435220' '435210' '434225' '434226' '433510' '434223' '431130' '435110'\n",
      " '435419' '431199' '434229' '434219' '432119' '432130' '431160' '431192'\n",
      " '431122' '431110' '431140' '433220' '435411' '431121' '434224' '433110'\n",
      " '433210' '461110' '431150' '435412' '431180' '461130' '321910' '332310'\n",
      " '321920' '337120' '315223' '315999' '311110' '311820' '315224' '313230'\n",
      " '311993' '315229' '311520' '316991' '311910' '311614' '316999' '311422'\n",
      " '311613' '311421' '311423' '312149' '311230' '311340' '311999' '314120'\n",
      " '314912' '314991' '431193' '431170' '431191' '434240' '432120' '433410'\n",
      " '434227' '433430' '321999' '315225' '315192' '321992' '315210' '315110'\n",
      " '434230' '431220' '332710' '339999' '333999' '336390' '337110' '333610'\n",
      " '339930' '331510' '339950' '333411' '333510' '336370' '336310' '339940'\n",
      " '331220' '332110' '339913' '336991' '337210' '323119' '326191' '325510'\n",
      " '325620' '326199' '325610' '326150' '322299' '326130' '323120' '326220'\n",
      " '327215' '326110' '327420' '327399' '322210' '326140' '325110' '316214'\n",
      " '313220' '324191' '311940' '327310' '326193' '325993' '326120' '322220'\n",
      " '326192' '313310' '333920' '332810' '336110' '333991' '331520' '336360'\n",
      " '332420' '332999' '339912' '337920' '339991' '335220' '327991' '321993'\n",
      " '336210' '332610' '333412' '325412' '326290' '311830' '327219' '313240'\n",
      " '313210' '316219' '311922' '325999' '461190' '311350' '311612' '311930'\n",
      " '314911' '312120' '314992' '312142' '431123' '332430' '336350' '326198'\n",
      " '327121' '327123' '326194' '325310' '322132' '339920' '325411' '335920'\n",
      " '331310' '333993' '334310' '336999' '336992' '333243' '332720' '334410'\n",
      " '335120' '334110' '327391' '311411' '333130' '331420' '332910' '332510'\n",
      " '333245' '312131' '334220' '339914' '339993' '322230' '327410' '238121'\n",
      " '238130' '238210' '238390' '238190' '238910' '238350' '238990' '437210'\n",
      " '238290' '237131' '434228' '339994' '331210' '314993' '335930' '321210'\n",
      " '327999' '336340' '461122' '467117' '465215' '333249' '221210' '115119'\n",
      " '114119' '115210' '212399' '213119' '221123' '464121' '463310' '465216'\n",
      " '462210' '221121' '238340' '431194' '335999' '333910' '334290' '237999'\n",
      " '237994' '237121' '433420' '333244' '315991' '237993' '238122' '311214'\n",
      " '238110' '461160' '332410' '461121' '461170' '468411' '465919' '465914'\n",
      " '468420' '468419' '461150' '461140' '464122' '466410' '463217' '463216'\n",
      " '465912' '463215' '468413' '468412' '463214' '465915' '463218' '468414'\n",
      " '461123' '465911' '461220' '465214' '469110' '465913' '467116' '522110'\n",
      " '484210' '484231' '484129' '484239' '484121' '485410' '484233' '484223'\n",
      " '484234' '621391' '621610' '624191' '523122' '621341' '621910' '487110'\n",
      " '624411' '532110' '621398' '531210' '624412' '531116' '532310' '485510'\n",
      " '484119' '484232' '541110' '541610' '541190' '485990' '485210' '524210'\n",
      " '541510' '524110' '522460' '524220' '522452' '541990' '523110' '522310'\n",
      " '488410' '541810' '541430' '522390' '541310' '541219' '541340' '541890'\n",
      " '541920' '541941' '541840' '541850' '541690' '541380' '522210' '488190'\n",
      " '522451' '483210' '623991' '623992' '624198' '523990' '484229' '532122'\n",
      " '611631' '541360' '541350' '541910' '532289' '532281' '532282' '532411'\n",
      " '541120' '541620' '611122' '522440' '522220' '488990' '541820' '541860'\n",
      " '541870' '541420' '541410' '611161' '611162' '611121' '611182' '611171'\n",
      " '611132' '532420' '541830' '541930' '611691' '611142' '611421' '611698'\n",
      " '621116' '611131' '531119' '624199' '621422' '621992' '624122' '621399'\n",
      " '621421' '621342' '561720' '561510' '561110' '562921' '562121' '561790'\n",
      " '561620' '561740' '562911' '561310' '561610' '524130' '624231' '561520'\n",
      " '561920' '561210' '541943' '561710' '561422' '561421' '561440' '561730'\n",
      " '562998' '611151' '611172' '541370' '561910' '561990' '561450' '561590'\n",
      " '611710' '532121' '621411' '532412' '517910' '511121' '518210' '515110'\n",
      " '511210' '611612' '611181' '519121' '519122' '512240' '515120' '512130'\n",
      " '511131' '517410' '519130' '611141' '611699' '532210' '511192' '533110'\n",
      " '491110' '492110' '493120' '519110' '493119' '493190' '562922' '713291'\n",
      " '713943' '711510' '711131' '713910' '713120' '713991' '713941' '713942'\n",
      " '713944' '713998' '722310' '722411' '722412' '713299' '711132' '713992'\n",
      " '621991' '721210' '624121' '721190' '711121' '713950' '712131' '812130'\n",
      " '811121' '812110' '811420' '811119' '811219' '811191' '812410' '813230'\n",
      " '811410' '811199' '812210' '811499' '813210' '811192' '812310' '813110'\n",
      " '811430' '812910' '811129' '811116' '812990' '813130' '811122' '811123'\n",
      " '813120' '812120' '931510' '931210' '931410' '931610' '931310' '931710'\n",
      " '931110' '931810' '311710' '311215' '335110' '336410' '336610' '237132'\n",
      " '324120' '326160' '327122' '322122' '314999' '335910' '237992' '337910'\n",
      " '327214' '237991' '335210' '325992' '325910' '322131' '334610' '327910'\n",
      " '325520' '314110' '312139' '321991' '322291' '325180' '325120' '336510'\n",
      " '325190' '339995' '332991' '336120' '212391' '212210' '212291' '212110'\n",
      " '316110' '312141' '325130' '487210' '488310' '488390' '519190' '511122'\n",
      " '512230' '482110' '511141' '486210' '522510' '523910' '515210' '492210'\n",
      " '493130' '524120' '541942' '523121' '611411' '562122' '611152' '611412'\n",
      " '624232' '561410' '611422' '713999' '711410' '813140' '311412' '212231'\n",
      " '212392' '212394' '311923' '115310' '713930' '712190' '611632' '237122'\n",
      " '237123' '311924' '481210' '711122' '712132' '711191' '525210' '512190'\n",
      " '712120' '331419' '334210' '333120' '333242' '324199' '312132' '327216'\n",
      " '324110' '322110' '331412' '212393' '212395' '212232' '322121' '221119'\n",
      " '325920' '335991' '339992' '511191' '488210' '512120' '511142' '486990'\n",
      " '487990' '525110' '311991' '333246' '512290' '315191' '311921' '237133'\n",
      " '333241' '511132' '512250' '562999' '932110' '325220' '312143' '331411'\n",
      " '212299' '221122' '484224' '541944' '621392' '311992' '325991' '333992'\n",
      " '486910' '486110' '523210' '521110' '562912' '621412' '212397' '312210'\n",
      " '713210' '212398' '212292' '339911' '212396']\n"
     ]
    }
   ],
   "source": [
    "desconocidos = Denue[Denue['tipo_act'] == 'Desconocido']\n",
    "\n",
    "# Mostrar los valores únicos de codigo_act que no clasificaron\n",
    "desconocidos_codigos = desconocidos['codigo_act'].unique()\n",
    "\n",
    "print(\"Códigos que quedaron como 'Desconocido':\")\n",
    "print(desconocidos_codigos)"
   ]
  },
  {
   "cell_type": "code",
   "execution_count": 18,
   "id": "4d5fd6e0-d8ae-4a5c-821c-278f51eaff71",
   "metadata": {},
   "outputs": [
    {
     "data": {
      "text/plain": [
       "codigo_act\n",
       "461110    604289\n",
       "812110    223088\n",
       "311830    110131\n",
       "461130     94157\n",
       "813210     86481\n",
       "           ...  \n",
       "212292         2\n",
       "339911         2\n",
       "486110         1\n",
       "486990         1\n",
       "212397         1\n",
       "Name: count, Length: 645, dtype: int64"
      ]
     },
     "execution_count": 18,
     "metadata": {},
     "output_type": "execute_result"
    }
   ],
   "source": [
    "# Contar cuántas veces aparece cada código no reconocido\n",
    "desconocidos['codigo_act'].value_counts()"
   ]
  },
  {
   "cell_type": "code",
   "execution_count": 21,
   "id": "50750211-bb93-49c8-82d8-5ec5b3b7494e",
   "metadata": {},
   "outputs": [
    {
     "name": "stdout",
     "output_type": "stream",
     "text": [
      "Total de 'Desconocido': 2999365\n"
     ]
    }
   ],
   "source": [
    "# Total de registros marcados como 'Desconocido'\n",
    "total_desconocidos = (Denue['tipo_act'] == 'Desconocido').sum()\n",
    "\n",
    "print(f\"Total de 'Desconocido': {total_desconocidos}\")"
   ]
  },
  {
   "cell_type": "markdown",
   "id": "051a8c30-de10-447e-a387-e9b547a5c579",
   "metadata": {},
   "source": [
    "### Relación espacio -> espacio"
   ]
  },
  {
   "cell_type": "code",
   "execution_count": 23,
   "id": "be623601-e458-44f8-a5d3-8b4d6a2f147e",
   "metadata": {},
   "outputs": [
    {
     "data": {
      "text/html": [
       "<div>\n",
       "<style scoped>\n",
       "    .dataframe tbody tr th:only-of-type {\n",
       "        vertical-align: middle;\n",
       "    }\n",
       "\n",
       "    .dataframe tbody tr th {\n",
       "        vertical-align: top;\n",
       "    }\n",
       "\n",
       "    .dataframe thead th {\n",
       "        text-align: right;\n",
       "    }\n",
       "</style>\n",
       "<table border=\"1\" class=\"dataframe\">\n",
       "  <thead>\n",
       "    <tr style=\"text-align: right;\">\n",
       "      <th></th>\n",
       "      <th>ageb</th>\n",
       "      <th>total_manzanas</th>\n",
       "    </tr>\n",
       "  </thead>\n",
       "  <tbody>\n",
       "    <tr>\n",
       "      <th>0</th>\n",
       "      <td>0010</td>\n",
       "      <td>69</td>\n",
       "    </tr>\n",
       "    <tr>\n",
       "      <th>1</th>\n",
       "      <td>0011</td>\n",
       "      <td>80</td>\n",
       "    </tr>\n",
       "    <tr>\n",
       "      <th>2</th>\n",
       "      <td>0012</td>\n",
       "      <td>63</td>\n",
       "    </tr>\n",
       "    <tr>\n",
       "      <th>3</th>\n",
       "      <td>0013</td>\n",
       "      <td>85</td>\n",
       "    </tr>\n",
       "    <tr>\n",
       "      <th>4</th>\n",
       "      <td>0014</td>\n",
       "      <td>83</td>\n",
       "    </tr>\n",
       "  </tbody>\n",
       "</table>\n",
       "</div>"
      ],
      "text/plain": [
       "   ageb  total_manzanas\n",
       "0  0010              69\n",
       "1  0011              80\n",
       "2  0012              63\n",
       "3  0013              85\n",
       "4  0014              83"
      ]
     },
     "execution_count": 23,
     "metadata": {},
     "output_type": "execute_result"
    }
   ],
   "source": [
    "# Relación manzana -> ageb\n",
    "manzana_por_ageb = Denue[['manzana', 'ageb']].drop_duplicates().sort_values(by=['ageb', 'manzana'])\n",
    "\n",
    "# ¿Cuántas manzanas por ageb?\n",
    "conteo_manzanas_por_ageb = manzana_por_ageb.groupby('ageb').size().reset_index(name='total_manzanas')\n",
    "\n",
    "conteo_manzanas_por_ageb.head()"
   ]
  },
  {
   "cell_type": "code",
   "execution_count": 26,
   "id": "4e314b04-a443-4324-aee0-70c6f6d25184",
   "metadata": {},
   "outputs": [
    {
     "data": {
      "text/plain": [
       "ageb              0\n",
       "total_manzanas    0\n",
       "dtype: int64"
      ]
     },
     "execution_count": 26,
     "metadata": {},
     "output_type": "execute_result"
    }
   ],
   "source": [
    "conteo_manzanas_por_ageb.isna().sum()"
   ]
  },
  {
   "cell_type": "code",
   "execution_count": 24,
   "id": "105fee68-99d2-4f17-bee9-c98a465ae92b",
   "metadata": {},
   "outputs": [
    {
     "data": {
      "text/html": [
       "<div>\n",
       "<style scoped>\n",
       "    .dataframe tbody tr th:only-of-type {\n",
       "        vertical-align: middle;\n",
       "    }\n",
       "\n",
       "    .dataframe tbody tr th {\n",
       "        vertical-align: top;\n",
       "    }\n",
       "\n",
       "    .dataframe thead th {\n",
       "        text-align: right;\n",
       "    }\n",
       "</style>\n",
       "<table border=\"1\" class=\"dataframe\">\n",
       "  <thead>\n",
       "    <tr style=\"text-align: right;\">\n",
       "      <th></th>\n",
       "      <th>cve_loc</th>\n",
       "      <th>total_agebs</th>\n",
       "    </tr>\n",
       "  </thead>\n",
       "  <tbody>\n",
       "    <tr>\n",
       "      <th>0</th>\n",
       "      <td>0001</td>\n",
       "      <td>7375</td>\n",
       "    </tr>\n",
       "    <tr>\n",
       "      <th>1</th>\n",
       "      <td>0002</td>\n",
       "      <td>333</td>\n",
       "    </tr>\n",
       "    <tr>\n",
       "      <th>2</th>\n",
       "      <td>0003</td>\n",
       "      <td>373</td>\n",
       "    </tr>\n",
       "    <tr>\n",
       "      <th>3</th>\n",
       "      <td>0004</td>\n",
       "      <td>245</td>\n",
       "    </tr>\n",
       "    <tr>\n",
       "      <th>4</th>\n",
       "      <td>0005</td>\n",
       "      <td>301</td>\n",
       "    </tr>\n",
       "  </tbody>\n",
       "</table>\n",
       "</div>"
      ],
      "text/plain": [
       "  cve_loc  total_agebs\n",
       "0    0001         7375\n",
       "1    0002          333\n",
       "2    0003          373\n",
       "3    0004          245\n",
       "4    0005          301"
      ]
     },
     "execution_count": 24,
     "metadata": {},
     "output_type": "execute_result"
    }
   ],
   "source": [
    "# Relación ageb -> localidad\n",
    "ageb_por_localidad = Denue[['ageb', 'cve_loc']].drop_duplicates().sort_values(by=['cve_loc', 'ageb'])\n",
    "\n",
    "# ¿Cuántos agebs por localidad?\n",
    "conteo_agebs_por_localidad = ageb_por_localidad.groupby('cve_loc').size().reset_index(name='total_agebs')\n",
    "\n",
    "conteo_agebs_por_localidad.head()"
   ]
  },
  {
   "cell_type": "code",
   "execution_count": 27,
   "id": "69353f68-3b46-409a-88a6-e0f5a827be78",
   "metadata": {},
   "outputs": [
    {
     "data": {
      "text/plain": [
       "cve_loc        0\n",
       "total_agebs    0\n",
       "dtype: int64"
      ]
     },
     "execution_count": 27,
     "metadata": {},
     "output_type": "execute_result"
    }
   ],
   "source": [
    "conteo_agebs_por_localidad.isna().sum()"
   ]
  },
  {
   "cell_type": "code",
   "execution_count": 25,
   "id": "3c099c4a-9616-4d9b-a268-8fc2472a03fb",
   "metadata": {},
   "outputs": [
    {
     "data": {
      "text/html": [
       "<div>\n",
       "<style scoped>\n",
       "    .dataframe tbody tr th:only-of-type {\n",
       "        vertical-align: middle;\n",
       "    }\n",
       "\n",
       "    .dataframe tbody tr th {\n",
       "        vertical-align: top;\n",
       "    }\n",
       "\n",
       "    .dataframe thead th {\n",
       "        text-align: right;\n",
       "    }\n",
       "</style>\n",
       "<table border=\"1\" class=\"dataframe\">\n",
       "  <thead>\n",
       "    <tr style=\"text-align: right;\">\n",
       "      <th></th>\n",
       "      <th>cve_mun</th>\n",
       "      <th>total_localidades</th>\n",
       "    </tr>\n",
       "  </thead>\n",
       "  <tbody>\n",
       "    <tr>\n",
       "      <th>0</th>\n",
       "      <td>001</td>\n",
       "      <td>609</td>\n",
       "    </tr>\n",
       "    <tr>\n",
       "      <th>1</th>\n",
       "      <td>002</td>\n",
       "      <td>385</td>\n",
       "    </tr>\n",
       "    <tr>\n",
       "      <th>2</th>\n",
       "      <td>003</td>\n",
       "      <td>425</td>\n",
       "    </tr>\n",
       "    <tr>\n",
       "      <th>3</th>\n",
       "      <td>004</td>\n",
       "      <td>435</td>\n",
       "    </tr>\n",
       "    <tr>\n",
       "      <th>4</th>\n",
       "      <td>005</td>\n",
       "      <td>333</td>\n",
       "    </tr>\n",
       "  </tbody>\n",
       "</table>\n",
       "</div>"
      ],
      "text/plain": [
       "  cve_mun  total_localidades\n",
       "0     001                609\n",
       "1     002                385\n",
       "2     003                425\n",
       "3     004                435\n",
       "4     005                333"
      ]
     },
     "execution_count": 25,
     "metadata": {},
     "output_type": "execute_result"
    }
   ],
   "source": [
    "# Relación localidad -> municipio\n",
    "localidad_por_municipio = Denue[['cve_loc', 'cve_mun']].drop_duplicates().sort_values(by=['cve_mun', 'cve_loc'])\n",
    "\n",
    "# ¿Cuántas localidades por municipio?\n",
    "conteo_localidades_por_municipio = localidad_por_municipio.groupby('cve_mun').size().reset_index(name='total_localidades')\n",
    "\n",
    "conteo_localidades_por_municipio.head()"
   ]
  },
  {
   "cell_type": "code",
   "execution_count": 28,
   "id": "37b98b47-2dd7-48eb-8533-03980a12a3a3",
   "metadata": {},
   "outputs": [
    {
     "data": {
      "text/plain": [
       "cve_mun              0\n",
       "total_localidades    0\n",
       "dtype: int64"
      ]
     },
     "execution_count": 28,
     "metadata": {},
     "output_type": "execute_result"
    }
   ],
   "source": [
    "conteo_localidades_por_municipio.isna().sum()"
   ]
  },
  {
   "cell_type": "code",
   "execution_count": 29,
   "id": "9c0df563-f5c0-4462-872f-144931eeb557",
   "metadata": {},
   "outputs": [
    {
     "data": {
      "text/html": [
       "<div>\n",
       "<style scoped>\n",
       "    .dataframe tbody tr th:only-of-type {\n",
       "        vertical-align: middle;\n",
       "    }\n",
       "\n",
       "    .dataframe tbody tr th {\n",
       "        vertical-align: top;\n",
       "    }\n",
       "\n",
       "    .dataframe thead th {\n",
       "        text-align: right;\n",
       "    }\n",
       "</style>\n",
       "<table border=\"1\" class=\"dataframe\">\n",
       "  <thead>\n",
       "    <tr style=\"text-align: right;\">\n",
       "      <th></th>\n",
       "      <th>cve_ent</th>\n",
       "      <th>total_municipios</th>\n",
       "    </tr>\n",
       "  </thead>\n",
       "  <tbody>\n",
       "    <tr>\n",
       "      <th>0</th>\n",
       "      <td>01</td>\n",
       "      <td>11</td>\n",
       "    </tr>\n",
       "    <tr>\n",
       "      <th>1</th>\n",
       "      <td>02</td>\n",
       "      <td>6</td>\n",
       "    </tr>\n",
       "    <tr>\n",
       "      <th>2</th>\n",
       "      <td>03</td>\n",
       "      <td>5</td>\n",
       "    </tr>\n",
       "    <tr>\n",
       "      <th>3</th>\n",
       "      <td>04</td>\n",
       "      <td>12</td>\n",
       "    </tr>\n",
       "    <tr>\n",
       "      <th>4</th>\n",
       "      <td>05</td>\n",
       "      <td>38</td>\n",
       "    </tr>\n",
       "  </tbody>\n",
       "</table>\n",
       "</div>"
      ],
      "text/plain": [
       "  cve_ent  total_municipios\n",
       "0      01                11\n",
       "1      02                 6\n",
       "2      03                 5\n",
       "3      04                12\n",
       "4      05                38"
      ]
     },
     "execution_count": 29,
     "metadata": {},
     "output_type": "execute_result"
    }
   ],
   "source": [
    "# Relación municipio -> estado\n",
    "municipio_por_estado = Denue[['cve_mun', 'cve_ent']].drop_duplicates().sort_values(by=['cve_ent', 'cve_mun'])\n",
    "\n",
    "# ¿Cuántos municipios por estado?\n",
    "conteo_municipios_por_estado = municipio_por_estado.groupby('cve_ent').size().reset_index(name='total_municipios')\n",
    "\n",
    "conteo_municipios_por_estado.head()"
   ]
  },
  {
   "cell_type": "code",
   "execution_count": 30,
   "id": "8de8a65e-c936-49bd-8d3d-295d3ef9239e",
   "metadata": {},
   "outputs": [
    {
     "data": {
      "text/plain": [
       "cve_ent             0\n",
       "total_municipios    0\n",
       "dtype: int64"
      ]
     },
     "execution_count": 30,
     "metadata": {},
     "output_type": "execute_result"
    }
   ],
   "source": [
    "conteo_municipios_por_estado.isna().sum()"
   ]
  },
  {
   "cell_type": "markdown",
   "id": "8ca87dc8-fd63-4847-a620-35f005a31095",
   "metadata": {},
   "source": [
    "#### Mostrar de manera completa las relaciones y jerarquías entre los distintos espacios"
   ]
  },
  {
   "cell_type": "code",
   "execution_count": 6,
   "id": "3144e319-3d49-47d1-81c4-286f7443a35f",
   "metadata": {},
   "outputs": [
    {
     "data": {
      "text/html": [
       "<div>\n",
       "<style scoped>\n",
       "    .dataframe tbody tr th:only-of-type {\n",
       "        vertical-align: middle;\n",
       "    }\n",
       "\n",
       "    .dataframe tbody tr th {\n",
       "        vertical-align: top;\n",
       "    }\n",
       "\n",
       "    .dataframe thead th {\n",
       "        text-align: right;\n",
       "    }\n",
       "</style>\n",
       "<table border=\"1\" class=\"dataframe\">\n",
       "  <thead>\n",
       "    <tr style=\"text-align: right;\">\n",
       "      <th></th>\n",
       "      <th>cve_ent</th>\n",
       "      <th>cve_mun</th>\n",
       "      <th>cve_loc</th>\n",
       "      <th>ageb</th>\n",
       "      <th>manzana</th>\n",
       "    </tr>\n",
       "  </thead>\n",
       "  <tbody>\n",
       "    <tr>\n",
       "      <th>5644</th>\n",
       "      <td>01</td>\n",
       "      <td>001</td>\n",
       "      <td>0001</td>\n",
       "      <td>006A</td>\n",
       "      <td>003</td>\n",
       "    </tr>\n",
       "    <tr>\n",
       "      <th>8878</th>\n",
       "      <td>01</td>\n",
       "      <td>001</td>\n",
       "      <td>0001</td>\n",
       "      <td>006A</td>\n",
       "      <td>009</td>\n",
       "    </tr>\n",
       "    <tr>\n",
       "      <th>88</th>\n",
       "      <td>01</td>\n",
       "      <td>001</td>\n",
       "      <td>0001</td>\n",
       "      <td>0106</td>\n",
       "      <td>009</td>\n",
       "    </tr>\n",
       "    <tr>\n",
       "      <th>3760</th>\n",
       "      <td>01</td>\n",
       "      <td>001</td>\n",
       "      <td>0001</td>\n",
       "      <td>0106</td>\n",
       "      <td>011</td>\n",
       "    </tr>\n",
       "    <tr>\n",
       "      <th>9766</th>\n",
       "      <td>01</td>\n",
       "      <td>001</td>\n",
       "      <td>0001</td>\n",
       "      <td>0182</td>\n",
       "      <td>031</td>\n",
       "    </tr>\n",
       "    <tr>\n",
       "      <th>2381</th>\n",
       "      <td>01</td>\n",
       "      <td>001</td>\n",
       "      <td>0001</td>\n",
       "      <td>0229</td>\n",
       "      <td>001</td>\n",
       "    </tr>\n",
       "    <tr>\n",
       "      <th>817</th>\n",
       "      <td>01</td>\n",
       "      <td>001</td>\n",
       "      <td>0001</td>\n",
       "      <td>0229</td>\n",
       "      <td>002</td>\n",
       "    </tr>\n",
       "    <tr>\n",
       "      <th>11524</th>\n",
       "      <td>01</td>\n",
       "      <td>001</td>\n",
       "      <td>0001</td>\n",
       "      <td>0229</td>\n",
       "      <td>003</td>\n",
       "    </tr>\n",
       "    <tr>\n",
       "      <th>1532</th>\n",
       "      <td>01</td>\n",
       "      <td>001</td>\n",
       "      <td>0001</td>\n",
       "      <td>0229</td>\n",
       "      <td>004</td>\n",
       "    </tr>\n",
       "    <tr>\n",
       "      <th>45897</th>\n",
       "      <td>01</td>\n",
       "      <td>001</td>\n",
       "      <td>0001</td>\n",
       "      <td>0229</td>\n",
       "      <td>007</td>\n",
       "    </tr>\n",
       "  </tbody>\n",
       "</table>\n",
       "</div>"
      ],
      "text/plain": [
       "      cve_ent cve_mun cve_loc  ageb manzana\n",
       "5644       01     001    0001  006A     003\n",
       "8878       01     001    0001  006A     009\n",
       "88         01     001    0001  0106     009\n",
       "3760       01     001    0001  0106     011\n",
       "9766       01     001    0001  0182     031\n",
       "2381       01     001    0001  0229     001\n",
       "817        01     001    0001  0229     002\n",
       "11524      01     001    0001  0229     003\n",
       "1532       01     001    0001  0229     004\n",
       "45897      01     001    0001  0229     007"
      ]
     },
     "execution_count": 6,
     "metadata": {},
     "output_type": "execute_result"
    }
   ],
   "source": [
    "jerarquia_completa = Denue[['cve_ent', 'cve_mun', 'cve_loc', 'ageb', 'manzana']].drop_duplicates().sort_values(by=['cve_ent', 'cve_mun', 'cve_loc', 'ageb', 'manzana'])\n",
    "\n",
    "jerarquia_completa.head(10)"
   ]
  },
  {
   "cell_type": "code",
   "execution_count": 7,
   "id": "c8502344-e2f4-49f3-bde1-46d4c6f8ba6b",
   "metadata": {},
   "outputs": [],
   "source": [
    "conteo_manzanas = jerarquia_completa.groupby(['cve_ent', 'cve_mun', 'cve_loc', 'ageb', 'manzana']) \\\n",
    "    .size().reset_index(name='valor') # Contar cuántas manzanas hay por agrupación"
   ]
  },
  {
   "cell_type": "code",
   "execution_count": 8,
   "id": "1c343a1f-c119-4fa4-b3b6-084806e4c220",
   "metadata": {},
   "outputs": [
    {
     "data": {
      "text/html": [
       "<div>\n",
       "<style scoped>\n",
       "    .dataframe tbody tr th:only-of-type {\n",
       "        vertical-align: middle;\n",
       "    }\n",
       "\n",
       "    .dataframe tbody tr th {\n",
       "        vertical-align: top;\n",
       "    }\n",
       "\n",
       "    .dataframe thead th {\n",
       "        text-align: right;\n",
       "    }\n",
       "</style>\n",
       "<table border=\"1\" class=\"dataframe\">\n",
       "  <thead>\n",
       "    <tr style=\"text-align: right;\">\n",
       "      <th></th>\n",
       "      <th>cve_ent</th>\n",
       "      <th>cve_mun</th>\n",
       "      <th>cve_loc</th>\n",
       "      <th>ageb</th>\n",
       "      <th>manzana</th>\n",
       "      <th>valor</th>\n",
       "    </tr>\n",
       "  </thead>\n",
       "  <tbody>\n",
       "    <tr>\n",
       "      <th>0</th>\n",
       "      <td>01</td>\n",
       "      <td>001</td>\n",
       "      <td>0001</td>\n",
       "      <td>006A</td>\n",
       "      <td>003</td>\n",
       "      <td>1</td>\n",
       "    </tr>\n",
       "    <tr>\n",
       "      <th>1</th>\n",
       "      <td>01</td>\n",
       "      <td>001</td>\n",
       "      <td>0001</td>\n",
       "      <td>006A</td>\n",
       "      <td>009</td>\n",
       "      <td>1</td>\n",
       "    </tr>\n",
       "    <tr>\n",
       "      <th>2</th>\n",
       "      <td>01</td>\n",
       "      <td>001</td>\n",
       "      <td>0001</td>\n",
       "      <td>0106</td>\n",
       "      <td>009</td>\n",
       "      <td>1</td>\n",
       "    </tr>\n",
       "    <tr>\n",
       "      <th>3</th>\n",
       "      <td>01</td>\n",
       "      <td>001</td>\n",
       "      <td>0001</td>\n",
       "      <td>0106</td>\n",
       "      <td>011</td>\n",
       "      <td>1</td>\n",
       "    </tr>\n",
       "    <tr>\n",
       "      <th>4</th>\n",
       "      <td>01</td>\n",
       "      <td>001</td>\n",
       "      <td>0001</td>\n",
       "      <td>0182</td>\n",
       "      <td>031</td>\n",
       "      <td>1</td>\n",
       "    </tr>\n",
       "    <tr>\n",
       "      <th>...</th>\n",
       "      <td>...</td>\n",
       "      <td>...</td>\n",
       "      <td>...</td>\n",
       "      <td>...</td>\n",
       "      <td>...</td>\n",
       "      <td>...</td>\n",
       "    </tr>\n",
       "    <tr>\n",
       "      <th>975144</th>\n",
       "      <td>32</td>\n",
       "      <td>058</td>\n",
       "      <td>0001</td>\n",
       "      <td>0123</td>\n",
       "      <td>007</td>\n",
       "      <td>1</td>\n",
       "    </tr>\n",
       "    <tr>\n",
       "      <th>975145</th>\n",
       "      <td>32</td>\n",
       "      <td>058</td>\n",
       "      <td>0001</td>\n",
       "      <td>0123</td>\n",
       "      <td>009</td>\n",
       "      <td>1</td>\n",
       "    </tr>\n",
       "    <tr>\n",
       "      <th>975146</th>\n",
       "      <td>32</td>\n",
       "      <td>058</td>\n",
       "      <td>0001</td>\n",
       "      <td>0123</td>\n",
       "      <td>013</td>\n",
       "      <td>1</td>\n",
       "    </tr>\n",
       "    <tr>\n",
       "      <th>975147</th>\n",
       "      <td>32</td>\n",
       "      <td>058</td>\n",
       "      <td>0001</td>\n",
       "      <td>0123</td>\n",
       "      <td>020</td>\n",
       "      <td>1</td>\n",
       "    </tr>\n",
       "    <tr>\n",
       "      <th>975148</th>\n",
       "      <td>32</td>\n",
       "      <td>058</td>\n",
       "      <td>0001</td>\n",
       "      <td>0123</td>\n",
       "      <td>021</td>\n",
       "      <td>1</td>\n",
       "    </tr>\n",
       "  </tbody>\n",
       "</table>\n",
       "<p>975149 rows × 6 columns</p>\n",
       "</div>"
      ],
      "text/plain": [
       "       cve_ent cve_mun cve_loc  ageb manzana  valor\n",
       "0           01     001    0001  006A     003      1\n",
       "1           01     001    0001  006A     009      1\n",
       "2           01     001    0001  0106     009      1\n",
       "3           01     001    0001  0106     011      1\n",
       "4           01     001    0001  0182     031      1\n",
       "...        ...     ...     ...   ...     ...    ...\n",
       "975144      32     058    0001  0123     007      1\n",
       "975145      32     058    0001  0123     009      1\n",
       "975146      32     058    0001  0123     013      1\n",
       "975147      32     058    0001  0123     020      1\n",
       "975148      32     058    0001  0123     021      1\n",
       "\n",
       "[975149 rows x 6 columns]"
      ]
     },
     "execution_count": 8,
     "metadata": {},
     "output_type": "execute_result"
    }
   ],
   "source": [
    "conteo_manzanas"
   ]
  },
  {
   "cell_type": "markdown",
   "id": "7f8de599-0908-4ec8-aa59-6db9e4526857",
   "metadata": {},
   "source": [
    "## Crear centroides"
   ]
  },
  {
   "cell_type": "code",
   "execution_count": 9,
   "id": "0480bd7e-f12f-467e-9ed9-0c94f3a630f6",
   "metadata": {},
   "outputs": [
    {
     "name": "stdout",
     "output_type": "stream",
     "text": [
      "epsg:4326\n"
     ]
    }
   ],
   "source": [
    "print(Denue.crs)"
   ]
  },
  {
   "cell_type": "code",
   "execution_count": null,
   "id": "7036acb2-dfa0-4e4e-a6d9-45ff2dbee0e2",
   "metadata": {},
   "outputs": [],
   "source": [
    "jerarquia_completa = jerarquia_completa.merge(\n",
    "    Denue[['manzana', 'geometry', 'per_ocu']],\n",
    "    on='manzana', \n",
    "    how='left'\n",
    ")\n",
    "\n",
    "# Convertir en GeoDataFrame\n",
    "jerarquia_completa = gpd.GeoDataFrame(jerarquia_completa, geometry='geometry')\n",
    "\n",
    "jerarquia_completa.set_crs(epsg=4326, inplace=True)"
   ]
  },
  {
   "cell_type": "code",
   "execution_count": 12,
   "id": "fdbbcc1a-7064-48a0-8cb3-7866d5c62377",
   "metadata": {},
   "outputs": [
    {
     "ename": "KeyError",
     "evalue": "'geometry'",
     "output_type": "error",
     "traceback": [
      "\u001b[0;31m---------------------------------------------------------------------------\u001b[0m",
      "\u001b[0;31mKeyError\u001b[0m                                  Traceback (most recent call last)",
      "File \u001b[0;32m/opt/conda/envs/gds/lib/python3.9/site-packages/pandas/core/indexes/base.py:3653\u001b[0m, in \u001b[0;36mIndex.get_loc\u001b[0;34m(self, key)\u001b[0m\n\u001b[1;32m   3652\u001b[0m \u001b[38;5;28;01mtry\u001b[39;00m:\n\u001b[0;32m-> 3653\u001b[0m     \u001b[38;5;28;01mreturn\u001b[39;00m \u001b[38;5;28;43mself\u001b[39;49m\u001b[38;5;241;43m.\u001b[39;49m\u001b[43m_engine\u001b[49m\u001b[38;5;241;43m.\u001b[39;49m\u001b[43mget_loc\u001b[49m\u001b[43m(\u001b[49m\u001b[43mcasted_key\u001b[49m\u001b[43m)\u001b[49m\n\u001b[1;32m   3654\u001b[0m \u001b[38;5;28;01mexcept\u001b[39;00m \u001b[38;5;167;01mKeyError\u001b[39;00m \u001b[38;5;28;01mas\u001b[39;00m err:\n",
      "File \u001b[0;32m/opt/conda/envs/gds/lib/python3.9/site-packages/pandas/_libs/index.pyx:147\u001b[0m, in \u001b[0;36mpandas._libs.index.IndexEngine.get_loc\u001b[0;34m()\u001b[0m\n",
      "File \u001b[0;32m/opt/conda/envs/gds/lib/python3.9/site-packages/pandas/_libs/index.pyx:176\u001b[0m, in \u001b[0;36mpandas._libs.index.IndexEngine.get_loc\u001b[0;34m()\u001b[0m\n",
      "File \u001b[0;32mpandas/_libs/hashtable_class_helper.pxi:7080\u001b[0m, in \u001b[0;36mpandas._libs.hashtable.PyObjectHashTable.get_item\u001b[0;34m()\u001b[0m\n",
      "File \u001b[0;32mpandas/_libs/hashtable_class_helper.pxi:7088\u001b[0m, in \u001b[0;36mpandas._libs.hashtable.PyObjectHashTable.get_item\u001b[0;34m()\u001b[0m\n",
      "\u001b[0;31mKeyError\u001b[0m: 'geometry'",
      "\nThe above exception was the direct cause of the following exception:\n",
      "\u001b[0;31mKeyError\u001b[0m                                  Traceback (most recent call last)",
      "Cell \u001b[0;32mIn[12], line 5\u001b[0m\n\u001b[1;32m      2\u001b[0m jerarquia_completa\u001b[38;5;241m.\u001b[39mset_crs \u001b[38;5;241m=\u001b[39m \u001b[38;5;241m32614\u001b[39m\n\u001b[1;32m      4\u001b[0m \u001b[38;5;66;03m# Calcular el centroide\u001b[39;00m\n\u001b[0;32m----> 5\u001b[0m jerarquia_completa[\u001b[38;5;124m'\u001b[39m\u001b[38;5;124mcentroide\u001b[39m\u001b[38;5;124m'\u001b[39m] \u001b[38;5;241m=\u001b[39m \u001b[43mjerarquia_completa\u001b[49m\u001b[43m[\u001b[49m\u001b[38;5;124;43m'\u001b[39;49m\u001b[38;5;124;43mgeometry\u001b[39;49m\u001b[38;5;124;43m'\u001b[39;49m\u001b[43m]\u001b[49m\u001b[38;5;241m.\u001b[39mcentroid\n\u001b[1;32m      7\u001b[0m \u001b[38;5;66;03m# Generar un buffer de 500 metros\u001b[39;00m\n\u001b[1;32m      8\u001b[0m jerarquia_completa[\u001b[38;5;124m'\u001b[39m\u001b[38;5;124mbuffer_500m\u001b[39m\u001b[38;5;124m'\u001b[39m] \u001b[38;5;241m=\u001b[39m jerarquia_completa[\u001b[38;5;124m'\u001b[39m\u001b[38;5;124mcentroide\u001b[39m\u001b[38;5;124m'\u001b[39m]\u001b[38;5;241m.\u001b[39mbuffer(\u001b[38;5;241m500\u001b[39m)\n",
      "File \u001b[0;32m/opt/conda/envs/gds/lib/python3.9/site-packages/pandas/core/frame.py:3761\u001b[0m, in \u001b[0;36mDataFrame.__getitem__\u001b[0;34m(self, key)\u001b[0m\n\u001b[1;32m   3759\u001b[0m \u001b[38;5;28;01mif\u001b[39;00m \u001b[38;5;28mself\u001b[39m\u001b[38;5;241m.\u001b[39mcolumns\u001b[38;5;241m.\u001b[39mnlevels \u001b[38;5;241m>\u001b[39m \u001b[38;5;241m1\u001b[39m:\n\u001b[1;32m   3760\u001b[0m     \u001b[38;5;28;01mreturn\u001b[39;00m \u001b[38;5;28mself\u001b[39m\u001b[38;5;241m.\u001b[39m_getitem_multilevel(key)\n\u001b[0;32m-> 3761\u001b[0m indexer \u001b[38;5;241m=\u001b[39m \u001b[38;5;28;43mself\u001b[39;49m\u001b[38;5;241;43m.\u001b[39;49m\u001b[43mcolumns\u001b[49m\u001b[38;5;241;43m.\u001b[39;49m\u001b[43mget_loc\u001b[49m\u001b[43m(\u001b[49m\u001b[43mkey\u001b[49m\u001b[43m)\u001b[49m\n\u001b[1;32m   3762\u001b[0m \u001b[38;5;28;01mif\u001b[39;00m is_integer(indexer):\n\u001b[1;32m   3763\u001b[0m     indexer \u001b[38;5;241m=\u001b[39m [indexer]\n",
      "File \u001b[0;32m/opt/conda/envs/gds/lib/python3.9/site-packages/pandas/core/indexes/base.py:3655\u001b[0m, in \u001b[0;36mIndex.get_loc\u001b[0;34m(self, key)\u001b[0m\n\u001b[1;32m   3653\u001b[0m     \u001b[38;5;28;01mreturn\u001b[39;00m \u001b[38;5;28mself\u001b[39m\u001b[38;5;241m.\u001b[39m_engine\u001b[38;5;241m.\u001b[39mget_loc(casted_key)\n\u001b[1;32m   3654\u001b[0m \u001b[38;5;28;01mexcept\u001b[39;00m \u001b[38;5;167;01mKeyError\u001b[39;00m \u001b[38;5;28;01mas\u001b[39;00m err:\n\u001b[0;32m-> 3655\u001b[0m     \u001b[38;5;28;01mraise\u001b[39;00m \u001b[38;5;167;01mKeyError\u001b[39;00m(key) \u001b[38;5;28;01mfrom\u001b[39;00m \u001b[38;5;21;01merr\u001b[39;00m\n\u001b[1;32m   3656\u001b[0m \u001b[38;5;28;01mexcept\u001b[39;00m \u001b[38;5;167;01mTypeError\u001b[39;00m:\n\u001b[1;32m   3657\u001b[0m     \u001b[38;5;66;03m# If we have a listlike key, _check_indexing_error will raise\u001b[39;00m\n\u001b[1;32m   3658\u001b[0m     \u001b[38;5;66;03m#  InvalidIndexError. Otherwise we fall through and re-raise\u001b[39;00m\n\u001b[1;32m   3659\u001b[0m     \u001b[38;5;66;03m#  the TypeError.\u001b[39;00m\n\u001b[1;32m   3660\u001b[0m     \u001b[38;5;28mself\u001b[39m\u001b[38;5;241m.\u001b[39m_check_indexing_error(key)\n",
      "\u001b[0;31mKeyError\u001b[0m: 'geometry'"
     ]
    }
   ],
   "source": [
    "# Reproyectar\n",
    "jerarquia_completa.set_crs = 32614\n",
    "\n",
    "# Calcular el centroide\n",
    "jerarquia_completa['centroide'] = jerarquia_completa['geometry'].centroid\n",
    "\n",
    "# Generar un buffer de 500 metros\n",
    "jerarquia_completa['buffer_500m'] = jerarquia_completa['centroide'].buffer(500)\n",
    "\n",
    "# Visualizar en el sistema original EPSG:4326 para mapas web\n",
    "jerarquia_completa_buffers = jerarquia_completa.set_geometry('buffer_500m')\n",
    "jerarquia_completa_buffers = jerarquia_completa_buffers.to_crs(epsg=4326)"
   ]
  },
  {
   "cell_type": "code",
   "execution_count": null,
   "id": "2b51314e-1d15-4195-a06c-bd7c59f2b3e3",
   "metadata": {},
   "outputs": [],
   "source": [
    "# Visualiza en geopandas\n",
    "jerarquia_completa_buffers.plot()"
   ]
  }
 ],
 "metadata": {
  "kernelspec": {
   "display_name": "GDS-10.0",
   "language": "python",
   "name": "gds"
  },
  "language_info": {
   "codemirror_mode": {
    "name": "ipython",
    "version": 3
   },
   "file_extension": ".py",
   "mimetype": "text/x-python",
   "name": "python",
   "nbconvert_exporter": "python",
   "pygments_lexer": "ipython3",
   "version": "3.9.18"
  }
 },
 "nbformat": 4,
 "nbformat_minor": 5
}
