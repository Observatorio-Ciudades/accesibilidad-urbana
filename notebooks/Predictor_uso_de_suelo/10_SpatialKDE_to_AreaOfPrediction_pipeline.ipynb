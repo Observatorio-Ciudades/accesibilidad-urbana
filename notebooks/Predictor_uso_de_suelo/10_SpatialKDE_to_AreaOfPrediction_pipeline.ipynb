{
 "cells": [
  {
   "cell_type": "markdown",
   "id": "a6b3cd26-0eb5-4f77-8f7c-7c516f77c472",
   "metadata": {},
   "source": [
    "# Spatial KDE to Area of Prediction"
   ]
  },
  {
   "cell_type": "markdown",
   "id": "37e57381-fe8f-41dd-a4cf-7a92f1e67e9a",
   "metadata": {},
   "source": [
    "This notebook integrates the outputs from notebook 01 and 02. In it, the Spatial KDE raster data for each block and economic activity is integrated to the Area of prediction generated through the morphology analysis generated for each block using Google buildings."
   ]
  },
  {
   "cell_type": "markdown",
   "id": "a029e731-f5e3-48b3-9520-1daa11b6cdce",
   "metadata": {},
   "source": [
    "## Import libraries"
   ]
  },
  {
   "cell_type": "code",
   "execution_count": 1,
   "id": "58e03313-3f29-4fec-9f8b-afd87d9aff04",
   "metadata": {},
   "outputs": [],
   "source": [
    "import geopandas as gpd\n",
    "import pandas as pd\n",
    "import numpy as np\n",
    "# import odc\n",
    "import rasterio as ro\n",
    "\n",
    "from shapely.geometry import Point, Polygon\n",
    "\n",
    "import seaborn as sns\n",
    "import matplotlib.pyplot as plt\n",
    "\n",
    "# from typing import Optional\n",
    "from spatial_kde import spatial_kernel_density\n",
    "\n",
    "import warnings\n",
    "warnings.simplefilter(action='ignore', category=FutureWarning)\n",
    "\n",
    "import os\n",
    "import sys\n",
    "\n",
    "module_path = os.path.abspath(os.path.join('../../'))\n",
    "if module_path not in sys.path:\n",
    "    sys.path.append(module_path)\n",
    "    import aup\n",
    "else:\n",
    "    import aup"
   ]
  },
  {
   "cell_type": "markdown",
   "id": "5947b54c-d4f7-455c-b2c7-7a696cd7f0a7",
   "metadata": {},
   "source": [
    "## Data download/read and preprocessing"
   ]
  },
  {
   "cell_type": "markdown",
   "id": "84158367-7d58-40d8-84b2-a09501178762",
   "metadata": {},
   "source": [
    "### Area of analysis"
   ]
  },
  {
   "cell_type": "code",
   "execution_count": 2,
   "id": "4f9f0284-939a-4e5e-bf70-c2ad4e5318ec",
   "metadata": {},
   "outputs": [
    {
     "name": "stdout",
     "output_type": "stream",
     "text": [
      "(1, 2)\n"
     ]
    },
    {
     "data": {
      "text/html": [
       "<div>\n",
       "<style scoped>\n",
       "    .dataframe tbody tr th:only-of-type {\n",
       "        vertical-align: middle;\n",
       "    }\n",
       "\n",
       "    .dataframe tbody tr th {\n",
       "        vertical-align: top;\n",
       "    }\n",
       "\n",
       "    .dataframe thead th {\n",
       "        text-align: right;\n",
       "    }\n",
       "</style>\n",
       "<table border=\"1\" class=\"dataframe\">\n",
       "  <thead>\n",
       "    <tr style=\"text-align: right;\">\n",
       "      <th></th>\n",
       "      <th>id</th>\n",
       "      <th>geometry</th>\n",
       "    </tr>\n",
       "  </thead>\n",
       "  <tbody>\n",
       "    <tr>\n",
       "      <th>0</th>\n",
       "      <td>1</td>\n",
       "      <td>POLYGON ((2352585.333 989767.702, 2352711.427 ...</td>\n",
       "    </tr>\n",
       "  </tbody>\n",
       "</table>\n",
       "</div>"
      ],
      "text/plain": [
       "   id                                           geometry\n",
       "0   1  POLYGON ((2352585.333 989767.702, 2352711.427 ..."
      ]
     },
     "execution_count": 2,
     "metadata": {},
     "output_type": "execute_result"
    }
   ],
   "source": [
    "aoa_gdf = gpd.read_file(\"../../data/processed/prediccion_uso_suelo/Distrito/distrito.shp\")\n",
    "aoa_gdf = aoa_gdf.to_crs(\"EPSG:6372\")\n",
    "print(aoa_gdf.shape)\n",
    "aoa_gdf.head(2)"
   ]
  },
  {
   "cell_type": "markdown",
   "id": "85a0d04f-b344-4c15-bd04-e52dfcea3091",
   "metadata": {},
   "source": [
    "### Spatial KDE directory"
   ]
  },
  {
   "cell_type": "code",
   "execution_count": 3,
   "id": "dda9f9f2-beae-4f78-ae92-e8fe19992b66",
   "metadata": {},
   "outputs": [],
   "source": [
    "kde_dir = '../../data/processed/prediccion_uso_suelo/kde_output/'"
   ]
  },
  {
   "cell_type": "markdown",
   "id": "fc4f1d76-7fb9-4500-92d9-435c2531d38d",
   "metadata": {},
   "source": [
    "### Area of prediction"
   ]
  },
  {
   "cell_type": "code",
   "execution_count": 4,
   "id": "bdf2596f-4ce3-4c54-8def-697b1bf51a97",
   "metadata": {
    "scrolled": true
   },
   "outputs": [
    {
     "name": "stdout",
     "output_type": "stream",
     "text": [
      "(702476, 10)\n"
     ]
    },
    {
     "data": {
      "text/html": [
       "<div>\n",
       "<style scoped>\n",
       "    .dataframe tbody tr th:only-of-type {\n",
       "        vertical-align: middle;\n",
       "    }\n",
       "\n",
       "    .dataframe tbody tr th {\n",
       "        vertical-align: top;\n",
       "    }\n",
       "\n",
       "    .dataframe thead th {\n",
       "        text-align: right;\n",
       "    }\n",
       "</style>\n",
       "<table border=\"1\" class=\"dataframe\">\n",
       "  <thead>\n",
       "    <tr style=\"text-align: right;\">\n",
       "      <th></th>\n",
       "      <th>uso_suelo</th>\n",
       "      <th>area_m2</th>\n",
       "      <th>full_plus_code</th>\n",
       "      <th>CVEGEO</th>\n",
       "      <th>bld_area_m2</th>\n",
       "      <th>block_area_m2</th>\n",
       "      <th>pred_area_m2</th>\n",
       "      <th>pred_area_pct</th>\n",
       "      <th>bld_pred_area_pct</th>\n",
       "      <th>geometry</th>\n",
       "    </tr>\n",
       "  </thead>\n",
       "  <tbody>\n",
       "    <tr>\n",
       "      <th>0</th>\n",
       "      <td>Sin dato</td>\n",
       "      <td>67.279056</td>\n",
       "      <td>75GRMGQW+89PG</td>\n",
       "      <td>1412000011206018</td>\n",
       "      <td>12.438638</td>\n",
       "      <td>278416.454431</td>\n",
       "      <td>67.279056</td>\n",
       "      <td>0.000242</td>\n",
       "      <td>0.184881</td>\n",
       "      <td>MULTIPOLYGON (((2349152.724 965335.704, 234914...</td>\n",
       "    </tr>\n",
       "    <tr>\n",
       "      <th>1</th>\n",
       "      <td>Sin dato</td>\n",
       "      <td>45.355545</td>\n",
       "      <td>75GRMGQW+8CFP</td>\n",
       "      <td>1412000011206018</td>\n",
       "      <td>4.482118</td>\n",
       "      <td>278416.454431</td>\n",
       "      <td>45.355545</td>\n",
       "      <td>0.000163</td>\n",
       "      <td>0.098822</td>\n",
       "      <td>MULTIPOLYGON (((2349168.91 965335.176, 2349157...</td>\n",
       "    </tr>\n",
       "  </tbody>\n",
       "</table>\n",
       "</div>"
      ],
      "text/plain": [
       "  uso_suelo    area_m2 full_plus_code            CVEGEO  bld_area_m2  \\\n",
       "0  Sin dato  67.279056  75GRMGQW+89PG  1412000011206018    12.438638   \n",
       "1  Sin dato  45.355545  75GRMGQW+8CFP  1412000011206018     4.482118   \n",
       "\n",
       "   block_area_m2  pred_area_m2  pred_area_pct  bld_pred_area_pct  \\\n",
       "0  278416.454431     67.279056       0.000242           0.184881   \n",
       "1  278416.454431     45.355545       0.000163           0.098822   \n",
       "\n",
       "                                            geometry  \n",
       "0  MULTIPOLYGON (((2349152.724 965335.704, 234914...  \n",
       "1  MULTIPOLYGON (((2349168.91 965335.176, 2349157...  "
      ]
     },
     "execution_count": 4,
     "metadata": {},
     "output_type": "execute_result"
    }
   ],
   "source": [
    "aop_gdf = gpd.read_file('../../data/processed/prediccion_uso_suelo/complete_model/area_of_prediction_uso_suelo.gpkg')\n",
    "aop_gdf = aop_gdf.to_crs(\"EPSG:6372\")\n",
    "print(aop_gdf.shape)\n",
    "aop_gdf.head(2)"
   ]
  },
  {
   "cell_type": "code",
   "execution_count": 5,
   "id": "8f87b29f-f71c-4771-9586-4d8158673572",
   "metadata": {},
   "outputs": [],
   "source": [
    "if 'fid' not in list(aop_gdf.columns):\n",
    "    aop_gdf = aop_gdf.reset_index().rename(columns={'index':'fid'})"
   ]
  },
  {
   "cell_type": "markdown",
   "id": "8d001b62-484a-4a15-b7d1-97398189cdfe",
   "metadata": {},
   "source": [
    "### Census data"
   ]
  },
  {
   "cell_type": "code",
   "execution_count": 6,
   "id": "4a21cf61-48ff-4db8-bcad-891ef74763f4",
   "metadata": {},
   "outputs": [],
   "source": [
    "poly_wkt = aoa_gdf.to_crs(\"EPSG:4326\").dissolve().geometry.to_wkt()[0]"
   ]
  },
  {
   "cell_type": "code",
   "execution_count": 7,
   "id": "db63197b-b617-4f1a-a42e-af44cd0250b2",
   "metadata": {
    "scrolled": true
   },
   "outputs": [
    {
     "name": "stdout",
     "output_type": "stream",
     "text": [
      "(15505, 3)\n"
     ]
    },
    {
     "data": {
      "text/html": [
       "<div>\n",
       "<style scoped>\n",
       "    .dataframe tbody tr th:only-of-type {\n",
       "        vertical-align: middle;\n",
       "    }\n",
       "\n",
       "    .dataframe tbody tr th {\n",
       "        vertical-align: top;\n",
       "    }\n",
       "\n",
       "    .dataframe thead th {\n",
       "        text-align: right;\n",
       "    }\n",
       "</style>\n",
       "<table border=\"1\" class=\"dataframe\">\n",
       "  <thead>\n",
       "    <tr style=\"text-align: right;\">\n",
       "      <th></th>\n",
       "      <th>cvegeo_mza</th>\n",
       "      <th>pobtot</th>\n",
       "      <th>geometry</th>\n",
       "    </tr>\n",
       "  </thead>\n",
       "  <tbody>\n",
       "    <tr>\n",
       "      <th>0</th>\n",
       "      <td>1412002312079001</td>\n",
       "      <td>581</td>\n",
       "      <td>POLYGON ((-103.50348 20.80092, -103.50348 20.8...</td>\n",
       "    </tr>\n",
       "    <tr>\n",
       "      <th>1</th>\n",
       "      <td>1412002312079005</td>\n",
       "      <td>80</td>\n",
       "      <td>POLYGON ((-103.50516 20.8007, -103.5055 20.799...</td>\n",
       "    </tr>\n",
       "  </tbody>\n",
       "</table>\n",
       "</div>"
      ],
      "text/plain": [
       "         cvegeo_mza  pobtot                                           geometry\n",
       "0  1412002312079001     581  POLYGON ((-103.50348 20.80092, -103.50348 20.8...\n",
       "1  1412002312079005      80  POLYGON ((-103.50516 20.8007, -103.5055 20.799..."
      ]
     },
     "execution_count": 7,
     "metadata": {},
     "output_type": "execute_result"
    }
   ],
   "source": [
    "schema = \"sociodemografico\"\n",
    "table = \"censo_inegi_20_mza\"\n",
    "\n",
    "# Consulta que devuelve WKT en lugar de geometría nativa\n",
    "query_censo = f\"\"\"\n",
    "SELECT \n",
    "\"cvegeo_mza\",\n",
    "\"pobtot\",\"geometry\" FROM {schema}.{table}\n",
    "WHERE ST_Intersects(geometry, \\'SRID=4326;{poly_wkt}\\')\n",
    "\"\"\"\n",
    "\n",
    "block_gdf = aup.gdf_from_query(query_censo)\n",
    "\n",
    "print(block_gdf.shape)\n",
    "block_gdf.head(2)"
   ]
  },
  {
   "cell_type": "markdown",
   "id": "9c8bf26e-db4a-4709-a0f4-d0eaa465fa70",
   "metadata": {},
   "source": [
    "## Data to Area of prediction"
   ]
  },
  {
   "cell_type": "markdown",
   "id": "51f65238-d7b6-4113-957d-a0d3da52eaaf",
   "metadata": {},
   "source": [
    "Test"
   ]
  },
  {
   "cell_type": "code",
   "execution_count": 8,
   "id": "d7023940-f464-4127-925a-79394a6a9188",
   "metadata": {},
   "outputs": [
    {
     "data": {
      "text/html": [
       "<div>\n",
       "<style scoped>\n",
       "    .dataframe tbody tr th:only-of-type {\n",
       "        vertical-align: middle;\n",
       "    }\n",
       "\n",
       "    .dataframe tbody tr th {\n",
       "        vertical-align: top;\n",
       "    }\n",
       "\n",
       "    .dataframe thead th {\n",
       "        text-align: right;\n",
       "    }\n",
       "</style>\n",
       "<table border=\"1\" class=\"dataframe\">\n",
       "  <thead>\n",
       "    <tr style=\"text-align: right;\">\n",
       "      <th></th>\n",
       "      <th>fid</th>\n",
       "      <th>uso_suelo</th>\n",
       "      <th>area_m2</th>\n",
       "      <th>full_plus_code</th>\n",
       "      <th>CVEGEO</th>\n",
       "      <th>bld_area_m2</th>\n",
       "      <th>block_area_m2</th>\n",
       "      <th>pred_area_m2</th>\n",
       "      <th>pred_area_pct</th>\n",
       "      <th>bld_pred_area_pct</th>\n",
       "      <th>geometry</th>\n",
       "      <th>otros</th>\n",
       "      <th>servicios</th>\n",
       "      <th>alojamiento</th>\n",
       "    </tr>\n",
       "  </thead>\n",
       "  <tbody>\n",
       "    <tr>\n",
       "      <th>86552</th>\n",
       "      <td>86552</td>\n",
       "      <td>Habitacional</td>\n",
       "      <td>191.585370</td>\n",
       "      <td>75GRMH5P+H69M</td>\n",
       "      <td>1412000011282017</td>\n",
       "      <td>94.267886</td>\n",
       "      <td>8533.619833</td>\n",
       "      <td>223.148307</td>\n",
       "      <td>0.026149</td>\n",
       "      <td>0.422445</td>\n",
       "      <td>MULTIPOLYGON (((2353228.246 962059.297, 235322...</td>\n",
       "      <td>0.0</td>\n",
       "      <td>0.457019</td>\n",
       "      <td>0.000000</td>\n",
       "    </tr>\n",
       "    <tr>\n",
       "      <th>86553</th>\n",
       "      <td>86553</td>\n",
       "      <td>Habitacional</td>\n",
       "      <td>112.671188</td>\n",
       "      <td>75GRMH5P+H7FX</td>\n",
       "      <td>1412000011282017</td>\n",
       "      <td>107.629722</td>\n",
       "      <td>8533.619833</td>\n",
       "      <td>124.529714</td>\n",
       "      <td>0.014593</td>\n",
       "      <td>0.864289</td>\n",
       "      <td>MULTIPOLYGON (((2353240.829 962050.305, 235324...</td>\n",
       "      <td>0.0</td>\n",
       "      <td>1.459889</td>\n",
       "      <td>0.078945</td>\n",
       "    </tr>\n",
       "    <tr>\n",
       "      <th>86554</th>\n",
       "      <td>86554</td>\n",
       "      <td>Habitacional</td>\n",
       "      <td>27.487486</td>\n",
       "      <td>75GRMH5P+H868</td>\n",
       "      <td>1412000011282017</td>\n",
       "      <td>7.256291</td>\n",
       "      <td>8533.619833</td>\n",
       "      <td>53.317703</td>\n",
       "      <td>0.006248</td>\n",
       "      <td>0.136095</td>\n",
       "      <td>MULTIPOLYGON (((2353247.513 962047.608, 235324...</td>\n",
       "      <td>0.0</td>\n",
       "      <td>2.571383</td>\n",
       "      <td>1.691838</td>\n",
       "    </tr>\n",
       "    <tr>\n",
       "      <th>86555</th>\n",
       "      <td>86555</td>\n",
       "      <td>Sin dato</td>\n",
       "      <td>64.063258</td>\n",
       "      <td>75GRMH5P+HCRJ</td>\n",
       "      <td>1412000011282017</td>\n",
       "      <td>190.626808</td>\n",
       "      <td>8533.619833</td>\n",
       "      <td>163.816848</td>\n",
       "      <td>0.019197</td>\n",
       "      <td>1.163658</td>\n",
       "      <td>MULTIPOLYGON (((2353269.935 962059.791, 235327...</td>\n",
       "      <td>0.0</td>\n",
       "      <td>1.164802</td>\n",
       "      <td>16.913717</td>\n",
       "    </tr>\n",
       "  </tbody>\n",
       "</table>\n",
       "</div>"
      ],
      "text/plain": [
       "         fid     uso_suelo     area_m2 full_plus_code            CVEGEO  \\\n",
       "86552  86552  Habitacional  191.585370  75GRMH5P+H69M  1412000011282017   \n",
       "86553  86553  Habitacional  112.671188  75GRMH5P+H7FX  1412000011282017   \n",
       "86554  86554  Habitacional   27.487486  75GRMH5P+H868  1412000011282017   \n",
       "86555  86555      Sin dato   64.063258  75GRMH5P+HCRJ  1412000011282017   \n",
       "\n",
       "       bld_area_m2  block_area_m2  pred_area_m2  pred_area_pct  \\\n",
       "86552    94.267886    8533.619833    223.148307       0.026149   \n",
       "86553   107.629722    8533.619833    124.529714       0.014593   \n",
       "86554     7.256291    8533.619833     53.317703       0.006248   \n",
       "86555   190.626808    8533.619833    163.816848       0.019197   \n",
       "\n",
       "       bld_pred_area_pct                                           geometry  \\\n",
       "86552           0.422445  MULTIPOLYGON (((2353228.246 962059.297, 235322...   \n",
       "86553           0.864289  MULTIPOLYGON (((2353240.829 962050.305, 235324...   \n",
       "86554           0.136095  MULTIPOLYGON (((2353247.513 962047.608, 235324...   \n",
       "86555           1.163658  MULTIPOLYGON (((2353269.935 962059.791, 235327...   \n",
       "\n",
       "       otros  servicios  alojamiento  \n",
       "86552    0.0   0.457019     0.000000  \n",
       "86553    0.0   1.459889     0.078945  \n",
       "86554    0.0   2.571383     1.691838  \n",
       "86555    0.0   1.164802    16.913717  "
      ]
     },
     "execution_count": 8,
     "metadata": {},
     "output_type": "execute_result"
    }
   ],
   "source": [
    "cvegeo_mza = '1412000011282017'\n",
    "kde_block = f'kde_mnz_{cvegeo_mza}'\n",
    "aop_tmp = aop_gdf.loc[aop_gdf.CVEGEO==cvegeo_mza].copy()\n",
    "\n",
    "# iterate over every file\n",
    "for filename in os.listdir(kde_dir):\n",
    "\n",
    "    # gather those corresponding to the specific block\n",
    "    if filename.startswith(kde_block):\n",
    "\n",
    "        # skip complementary raster files\n",
    "        if filename.endswith('.aux.xml'):\n",
    "            continue\n",
    "\n",
    "        kde_act = filename.replace(kde_block+'_',\"\").replace('.tif',\"\").lower()\n",
    "\n",
    "        # read file\n",
    "        raster_kde = ro.open(kde_dir+filename)\n",
    "\n",
    "        aop_tmp[kde_act] = aop_tmp.geometry.apply(\n",
    "            lambda geom: aup.clean_mask(geom, raster_kde)).apply(np.ma.mean)\n",
    "aop_tmp.head(4)"
   ]
  },
  {
   "cell_type": "markdown",
   "id": "d1c694b6-db76-483e-b0e0-4990b1f3d3f8",
   "metadata": {},
   "source": [
    "Population data"
   ]
  },
  {
   "cell_type": "code",
   "execution_count": 9,
   "id": "c953dadd-c8e4-4f37-9eaa-1575f1ce5a8c",
   "metadata": {},
   "outputs": [
    {
     "name": "stdout",
     "output_type": "stream",
     "text": [
      "(682605, 12)\n"
     ]
    },
    {
     "data": {
      "text/html": [
       "<div>\n",
       "<style scoped>\n",
       "    .dataframe tbody tr th:only-of-type {\n",
       "        vertical-align: middle;\n",
       "    }\n",
       "\n",
       "    .dataframe tbody tr th {\n",
       "        vertical-align: top;\n",
       "    }\n",
       "\n",
       "    .dataframe thead th {\n",
       "        text-align: right;\n",
       "    }\n",
       "</style>\n",
       "<table border=\"1\" class=\"dataframe\">\n",
       "  <thead>\n",
       "    <tr style=\"text-align: right;\">\n",
       "      <th></th>\n",
       "      <th>fid</th>\n",
       "      <th>uso_suelo</th>\n",
       "      <th>area_m2</th>\n",
       "      <th>full_plus_code</th>\n",
       "      <th>CVEGEO</th>\n",
       "      <th>bld_area_m2</th>\n",
       "      <th>block_area_m2</th>\n",
       "      <th>pred_area_m2</th>\n",
       "      <th>pred_area_pct</th>\n",
       "      <th>bld_pred_area_pct</th>\n",
       "      <th>geometry</th>\n",
       "      <th>pobtot</th>\n",
       "    </tr>\n",
       "  </thead>\n",
       "  <tbody>\n",
       "    <tr>\n",
       "      <th>0</th>\n",
       "      <td>0</td>\n",
       "      <td>Sin dato</td>\n",
       "      <td>67.279056</td>\n",
       "      <td>75GRMGQW+89PG</td>\n",
       "      <td>1412000011206018</td>\n",
       "      <td>12.438638</td>\n",
       "      <td>278416.454431</td>\n",
       "      <td>67.279056</td>\n",
       "      <td>0.000242</td>\n",
       "      <td>0.184881</td>\n",
       "      <td>MULTIPOLYGON (((2349152.724 965335.704, 234914...</td>\n",
       "      <td>0</td>\n",
       "    </tr>\n",
       "    <tr>\n",
       "      <th>1</th>\n",
       "      <td>1</td>\n",
       "      <td>Sin dato</td>\n",
       "      <td>45.355545</td>\n",
       "      <td>75GRMGQW+8CFP</td>\n",
       "      <td>1412000011206018</td>\n",
       "      <td>4.482118</td>\n",
       "      <td>278416.454431</td>\n",
       "      <td>45.355545</td>\n",
       "      <td>0.000163</td>\n",
       "      <td>0.098822</td>\n",
       "      <td>MULTIPOLYGON (((2349168.91 965335.176, 2349157...</td>\n",
       "      <td>0</td>\n",
       "    </tr>\n",
       "  </tbody>\n",
       "</table>\n",
       "</div>"
      ],
      "text/plain": [
       "   fid uso_suelo    area_m2 full_plus_code            CVEGEO  bld_area_m2  \\\n",
       "0    0  Sin dato  67.279056  75GRMGQW+89PG  1412000011206018    12.438638   \n",
       "1    1  Sin dato  45.355545  75GRMGQW+8CFP  1412000011206018     4.482118   \n",
       "\n",
       "   block_area_m2  pred_area_m2  pred_area_pct  bld_pred_area_pct  \\\n",
       "0  278416.454431     67.279056       0.000242           0.184881   \n",
       "1  278416.454431     45.355545       0.000163           0.098822   \n",
       "\n",
       "                                            geometry  pobtot  \n",
       "0  MULTIPOLYGON (((2349152.724 965335.704, 234914...       0  \n",
       "1  MULTIPOLYGON (((2349168.91 965335.176, 2349157...       0  "
      ]
     },
     "execution_count": 9,
     "metadata": {},
     "output_type": "execute_result"
    }
   ],
   "source": [
    "aop_data = aop_gdf.merge(block_gdf[['cvegeo_mza','pobtot']], left_on='CVEGEO',\n",
    "                        right_on='cvegeo_mza')\n",
    "aop_data = aop_data.drop(columns=['cvegeo_mza'])\n",
    "print(aop_data.shape)\n",
    "aop_data.head(2)"
   ]
  },
  {
   "cell_type": "markdown",
   "id": "9f217676-4b75-4fd4-ace3-eb4966c57d62",
   "metadata": {},
   "source": [
    "**WARNING** Parallel processing"
   ]
  },
  {
   "cell_type": "code",
   "execution_count": 10,
   "id": "1cdfc2e2-92a1-4978-a701-b0c176a9f15f",
   "metadata": {},
   "outputs": [],
   "source": [
    "from joblib import Parallel, delayed\n",
    "from tqdm import tqdm"
   ]
  },
  {
   "cell_type": "code",
   "execution_count": 11,
   "id": "d4076ad4-4d12-4630-8388-15bce9221c02",
   "metadata": {},
   "outputs": [],
   "source": [
    "parallel_processing = False"
   ]
  },
  {
   "cell_type": "code",
   "execution_count": 12,
   "id": "eadd5c3a-fb1d-4d50-811e-917a81fb5e88",
   "metadata": {},
   "outputs": [],
   "source": [
    "def kde_to_area_of_prediction(cvegeo, aop_gdf, kde_dir):\n",
    "    \"\"\"Process to transfer data from kde raster to area of prediction tesselations by block\"\"\"\n",
    "    kde_block = f'kde_mnz_{cvegeo}'\n",
    "    aop_tmp = aop_gdf.loc[aop_gdf.CVEGEO==cvegeo].copy()\n",
    "\n",
    "    # iterate over every file\n",
    "    for filename in os.listdir(kde_dir):\n",
    "\n",
    "        # gather those corresponding to the specific block\n",
    "        if filename.startswith(kde_block):\n",
    "\n",
    "            # skip complementary raster files\n",
    "            if filename.endswith('.aux.xml'):\n",
    "                continue\n",
    "\n",
    "            kde_act = filename.replace(kde_block+'_',\"\").replace('.tif',\"\").lower()\n",
    "\n",
    "            # read file\n",
    "            raster_kde = ro.open(kde_dir+filename)\n",
    "\n",
    "            aop_tmp[kde_act] = aop_tmp.geometry.apply(\n",
    "                lambda geom: aup.clean_mask(geom, raster_kde)).apply(np.ma.mean)\n",
    "    return aop_tmp"
   ]
  },
  {
   "cell_type": "code",
   "execution_count": 13,
   "id": "03da561f-4d71-4ee3-b6b4-928ff6c3de2b",
   "metadata": {
    "scrolled": true
   },
   "outputs": [],
   "source": [
    "if parallel_processing:\n",
    "    # Execute in parallel\n",
    "\n",
    "    # Get unique CVEGEOs to process\n",
    "    unique_cvegeos = aop_gdf.CVEGEO.unique()\n",
    "    \n",
    "    # Execute in parallel - FIXED: Remove extra brackets and pass correct parameters\n",
    "    results = Parallel(n_jobs=4, verbose=1)(\n",
    "        delayed(kde_to_area_of_prediction)(cvegeo, aop_gdf, kde_dir)\n",
    "        for cvegeo in tqdm(unique_cvegeos, desc=\"Processing blocks\")\n",
    "    )\n",
    "    \n",
    "    print(\"Processing complete!\")\n",
    "\n",
    "    # Filter out None results and concatenate all DataFrames\n",
    "    valid_results = [result for result in results if result is not None]\n",
    "    aop_kde = pd.concat(valid_results, ignore_index=True)\n",
    "    aop_kde = aop_kde.fillna(0)"
   ]
  },
  {
   "cell_type": "code",
   "execution_count": 14,
   "id": "050e4a6a-0b3d-45f5-83ce-2abcd22d1035",
   "metadata": {
    "scrolled": true
   },
   "outputs": [
    {
     "name": "stderr",
     "output_type": "stream",
     "text": [
      "Processing blocks: 100%|█| 15681/15681 [18:37<00:00,\n"
     ]
    }
   ],
   "source": [
    "if not parallel_processing:\n",
    "    aop_kde = gpd.GeoDataFrame()\n",
    "\n",
    "    cvegeo_list = list(aop_gdf.CVEGEO.unique())\n",
    "    \n",
    "    for cvegeo in tqdm(cvegeo_list, total=len(cvegeo_list), desc=\"Processing blocks\"):\n",
    "        kde_block = f'kde_mnz_{cvegeo}'\n",
    "        aop_tmp = aop_gdf.loc[aop_gdf.CVEGEO==cvegeo].copy()\n",
    "    \n",
    "        # iterate over every file\n",
    "        for filename in os.listdir(kde_dir):\n",
    "    \n",
    "            # gather those corresponding to the specific block\n",
    "            if filename.startswith(kde_block):\n",
    "    \n",
    "                # skip complementary raster files\n",
    "                if filename.endswith('.aux.xml'):\n",
    "                    continue\n",
    "    \n",
    "                kde_act = filename.replace(kde_block+'_',\"\").replace('.tif',\"\").lower()\n",
    "    \n",
    "                # read file\n",
    "                raster_kde = ro.open(kde_dir+filename)\n",
    "    \n",
    "                aop_tmp[kde_act] = aop_tmp.geometry.apply(lambda geom: aup.clean_mask(geom, raster_kde)).apply(np.ma.mean)\n",
    "    \n",
    "        aop_kde = pd.concat([aop_kde, aop_tmp])\n",
    "    \n",
    "    aop_kde = aop_kde.fillna(0)"
   ]
  },
  {
   "cell_type": "code",
   "execution_count": 15,
   "id": "4981dffe-8bdc-41df-8a8d-68e3a6b061fd",
   "metadata": {},
   "outputs": [
    {
     "name": "stdout",
     "output_type": "stream",
     "text": [
      "(702476, 21)\n"
     ]
    },
    {
     "data": {
      "text/html": [
       "<div>\n",
       "<style scoped>\n",
       "    .dataframe tbody tr th:only-of-type {\n",
       "        vertical-align: middle;\n",
       "    }\n",
       "\n",
       "    .dataframe tbody tr th {\n",
       "        vertical-align: top;\n",
       "    }\n",
       "\n",
       "    .dataframe thead th {\n",
       "        text-align: right;\n",
       "    }\n",
       "</style>\n",
       "<table border=\"1\" class=\"dataframe\">\n",
       "  <thead>\n",
       "    <tr style=\"text-align: right;\">\n",
       "      <th></th>\n",
       "      <th>fid</th>\n",
       "      <th>uso_suelo</th>\n",
       "      <th>area_m2</th>\n",
       "      <th>full_plus_code</th>\n",
       "      <th>CVEGEO</th>\n",
       "      <th>bld_area_m2</th>\n",
       "      <th>block_area_m2</th>\n",
       "      <th>pred_area_m2</th>\n",
       "      <th>pred_area_pct</th>\n",
       "      <th>bld_pred_area_pct</th>\n",
       "      <th>...</th>\n",
       "      <th>servicios</th>\n",
       "      <th>alojamiento</th>\n",
       "      <th>otros</th>\n",
       "      <th>industria</th>\n",
       "      <th>comercio</th>\n",
       "      <th>educacion</th>\n",
       "      <th>gobierno</th>\n",
       "      <th>salud</th>\n",
       "      <th>cultural_recreativo</th>\n",
       "      <th>agropecuario</th>\n",
       "    </tr>\n",
       "  </thead>\n",
       "  <tbody>\n",
       "    <tr>\n",
       "      <th>0</th>\n",
       "      <td>0</td>\n",
       "      <td>Sin dato</td>\n",
       "      <td>67.279056</td>\n",
       "      <td>75GRMGQW+89PG</td>\n",
       "      <td>1412000011206018</td>\n",
       "      <td>12.438638</td>\n",
       "      <td>278416.454431</td>\n",
       "      <td>67.279056</td>\n",
       "      <td>0.000242</td>\n",
       "      <td>0.184881</td>\n",
       "      <td>...</td>\n",
       "      <td>0.0</td>\n",
       "      <td>0.0</td>\n",
       "      <td>0.0</td>\n",
       "      <td>0.0</td>\n",
       "      <td>0.0</td>\n",
       "      <td>0.0</td>\n",
       "      <td>0.0</td>\n",
       "      <td>0.0</td>\n",
       "      <td>0.0</td>\n",
       "      <td>0.0</td>\n",
       "    </tr>\n",
       "    <tr>\n",
       "      <th>1</th>\n",
       "      <td>1</td>\n",
       "      <td>Sin dato</td>\n",
       "      <td>45.355545</td>\n",
       "      <td>75GRMGQW+8CFP</td>\n",
       "      <td>1412000011206018</td>\n",
       "      <td>4.482118</td>\n",
       "      <td>278416.454431</td>\n",
       "      <td>45.355545</td>\n",
       "      <td>0.000163</td>\n",
       "      <td>0.098822</td>\n",
       "      <td>...</td>\n",
       "      <td>0.0</td>\n",
       "      <td>0.0</td>\n",
       "      <td>0.0</td>\n",
       "      <td>0.0</td>\n",
       "      <td>0.0</td>\n",
       "      <td>0.0</td>\n",
       "      <td>0.0</td>\n",
       "      <td>0.0</td>\n",
       "      <td>0.0</td>\n",
       "      <td>0.0</td>\n",
       "    </tr>\n",
       "    <tr>\n",
       "      <th>2</th>\n",
       "      <td>2</td>\n",
       "      <td>Sin dato</td>\n",
       "      <td>18.488100</td>\n",
       "      <td>75GRMGQW+8CHQ</td>\n",
       "      <td>1412000011206018</td>\n",
       "      <td>4.482118</td>\n",
       "      <td>278416.454431</td>\n",
       "      <td>18.488100</td>\n",
       "      <td>0.000066</td>\n",
       "      <td>0.242433</td>\n",
       "      <td>...</td>\n",
       "      <td>0.0</td>\n",
       "      <td>0.0</td>\n",
       "      <td>0.0</td>\n",
       "      <td>0.0</td>\n",
       "      <td>0.0</td>\n",
       "      <td>0.0</td>\n",
       "      <td>0.0</td>\n",
       "      <td>0.0</td>\n",
       "      <td>0.0</td>\n",
       "      <td>0.0</td>\n",
       "    </tr>\n",
       "    <tr>\n",
       "      <th>3</th>\n",
       "      <td>3</td>\n",
       "      <td>Sin dato</td>\n",
       "      <td>4.936089</td>\n",
       "      <td>75GRMGQW+8GCG</td>\n",
       "      <td>1412000011206018</td>\n",
       "      <td>42.992618</td>\n",
       "      <td>278416.454431</td>\n",
       "      <td>4.936089</td>\n",
       "      <td>0.000018</td>\n",
       "      <td>8.709855</td>\n",
       "      <td>...</td>\n",
       "      <td>0.0</td>\n",
       "      <td>0.0</td>\n",
       "      <td>0.0</td>\n",
       "      <td>0.0</td>\n",
       "      <td>0.0</td>\n",
       "      <td>0.0</td>\n",
       "      <td>0.0</td>\n",
       "      <td>0.0</td>\n",
       "      <td>0.0</td>\n",
       "      <td>0.0</td>\n",
       "    </tr>\n",
       "    <tr>\n",
       "      <th>4</th>\n",
       "      <td>4</td>\n",
       "      <td>Sin dato</td>\n",
       "      <td>44.120982</td>\n",
       "      <td>75GRMGQW+8GQQ</td>\n",
       "      <td>1412000011206018</td>\n",
       "      <td>31.304495</td>\n",
       "      <td>278416.454431</td>\n",
       "      <td>44.120982</td>\n",
       "      <td>0.000158</td>\n",
       "      <td>0.709515</td>\n",
       "      <td>...</td>\n",
       "      <td>0.0</td>\n",
       "      <td>0.0</td>\n",
       "      <td>0.0</td>\n",
       "      <td>0.0</td>\n",
       "      <td>0.0</td>\n",
       "      <td>0.0</td>\n",
       "      <td>0.0</td>\n",
       "      <td>0.0</td>\n",
       "      <td>0.0</td>\n",
       "      <td>0.0</td>\n",
       "    </tr>\n",
       "  </tbody>\n",
       "</table>\n",
       "<p>5 rows × 21 columns</p>\n",
       "</div>"
      ],
      "text/plain": [
       "   fid uso_suelo    area_m2 full_plus_code            CVEGEO  bld_area_m2  \\\n",
       "0    0  Sin dato  67.279056  75GRMGQW+89PG  1412000011206018    12.438638   \n",
       "1    1  Sin dato  45.355545  75GRMGQW+8CFP  1412000011206018     4.482118   \n",
       "2    2  Sin dato  18.488100  75GRMGQW+8CHQ  1412000011206018     4.482118   \n",
       "3    3  Sin dato   4.936089  75GRMGQW+8GCG  1412000011206018    42.992618   \n",
       "4    4  Sin dato  44.120982  75GRMGQW+8GQQ  1412000011206018    31.304495   \n",
       "\n",
       "   block_area_m2  pred_area_m2  pred_area_pct  bld_pred_area_pct  ...  \\\n",
       "0  278416.454431     67.279056       0.000242           0.184881  ...   \n",
       "1  278416.454431     45.355545       0.000163           0.098822  ...   \n",
       "2  278416.454431     18.488100       0.000066           0.242433  ...   \n",
       "3  278416.454431      4.936089       0.000018           8.709855  ...   \n",
       "4  278416.454431     44.120982       0.000158           0.709515  ...   \n",
       "\n",
       "  servicios  alojamiento  otros  industria  comercio  educacion  gobierno  \\\n",
       "0       0.0          0.0    0.0        0.0       0.0        0.0       0.0   \n",
       "1       0.0          0.0    0.0        0.0       0.0        0.0       0.0   \n",
       "2       0.0          0.0    0.0        0.0       0.0        0.0       0.0   \n",
       "3       0.0          0.0    0.0        0.0       0.0        0.0       0.0   \n",
       "4       0.0          0.0    0.0        0.0       0.0        0.0       0.0   \n",
       "\n",
       "   salud  cultural_recreativo  agropecuario  \n",
       "0    0.0                  0.0           0.0  \n",
       "1    0.0                  0.0           0.0  \n",
       "2    0.0                  0.0           0.0  \n",
       "3    0.0                  0.0           0.0  \n",
       "4    0.0                  0.0           0.0  \n",
       "\n",
       "[5 rows x 21 columns]"
      ]
     },
     "execution_count": 15,
     "metadata": {},
     "output_type": "execute_result"
    }
   ],
   "source": [
    "print(aop_kde.shape)\n",
    "aop_kde.head(5)"
   ]
  },
  {
   "cell_type": "code",
   "execution_count": 16,
   "id": "a5c12a6c-42d6-448b-af18-e86fcd245980",
   "metadata": {},
   "outputs": [
    {
     "data": {
      "text/plain": [
       "np.float64(1.2174120459928712)"
      ]
     },
     "execution_count": 16,
     "metadata": {},
     "output_type": "execute_result"
    }
   ],
   "source": [
    "aop_kde.comercio.mean()"
   ]
  },
  {
   "cell_type": "code",
   "execution_count": 17,
   "id": "8ed8e703-238b-4a02-af35-5be0a4aaabad",
   "metadata": {},
   "outputs": [
    {
     "data": {
      "text/plain": [
       "<Axes: >"
      ]
     },
     "execution_count": 17,
     "metadata": {},
     "output_type": "execute_result"
    },
    {
     "data": {
      "image/png": "[encoded data removed]",
      "text/plain": [
       "<Figure size 640x480 with 1 Axes>"
      ]
     },
     "metadata": {},
     "output_type": "display_data"
    }
   ],
   "source": [
    "aop_kde.plot('comercio')"
   ]
  },
  {
   "cell_type": "markdown",
   "id": "eeb741cf-e227-4b52-aa12-545897138d00",
   "metadata": {},
   "source": [
    "Merge data"
   ]
  },
  {
   "cell_type": "code",
   "execution_count": 18,
   "id": "52c3ad54-bd80-40d6-904f-3ae8ba06acad",
   "metadata": {},
   "outputs": [],
   "source": [
    "if 'fid' not in list(aop_kde.columns):\n",
    "    aop_kde = aop_kde.reset_index().rename(columns={'index':'fid'})"
   ]
  },
  {
   "cell_type": "code",
   "execution_count": 19,
   "id": "ed053720-3195-4fb4-8c71-b53a3a19e72f",
   "metadata": {},
   "outputs": [
    {
     "name": "stdout",
     "output_type": "stream",
     "text": [
      "(682605, 19)\n"
     ]
    },
    {
     "data": {
      "text/html": [
       "<div>\n",
       "<style scoped>\n",
       "    .dataframe tbody tr th:only-of-type {\n",
       "        vertical-align: middle;\n",
       "    }\n",
       "\n",
       "    .dataframe tbody tr th {\n",
       "        vertical-align: top;\n",
       "    }\n",
       "\n",
       "    .dataframe thead th {\n",
       "        text-align: right;\n",
       "    }\n",
       "</style>\n",
       "<table border=\"1\" class=\"dataframe\">\n",
       "  <thead>\n",
       "    <tr style=\"text-align: right;\">\n",
       "      <th></th>\n",
       "      <th>fid</th>\n",
       "      <th>uso_suelo</th>\n",
       "      <th>area_m2</th>\n",
       "      <th>full_plus_code</th>\n",
       "      <th>CVEGEO</th>\n",
       "      <th>bld_area_m2</th>\n",
       "      <th>block_area_m2</th>\n",
       "      <th>pred_area_m2</th>\n",
       "      <th>pred_area_pct</th>\n",
       "      <th>bld_pred_area_pct</th>\n",
       "      <th>geometry</th>\n",
       "      <th>pobtot</th>\n",
       "      <th>cultural_recreativo</th>\n",
       "      <th>servicios</th>\n",
       "      <th>comercio</th>\n",
       "      <th>salud</th>\n",
       "      <th>educacion</th>\n",
       "      <th>gobierno</th>\n",
       "      <th>industria</th>\n",
       "    </tr>\n",
       "  </thead>\n",
       "  <tbody>\n",
       "    <tr>\n",
       "      <th>0</th>\n",
       "      <td>0</td>\n",
       "      <td>Sin dato</td>\n",
       "      <td>67.279056</td>\n",
       "      <td>75GRMGQW+89PG</td>\n",
       "      <td>1412000011206018</td>\n",
       "      <td>12.438638</td>\n",
       "      <td>278416.454431</td>\n",
       "      <td>67.279056</td>\n",
       "      <td>0.000242</td>\n",
       "      <td>0.184881</td>\n",
       "      <td>MULTIPOLYGON (((2349152.724 965335.704, 234914...</td>\n",
       "      <td>0</td>\n",
       "      <td>0.0</td>\n",
       "      <td>0.0</td>\n",
       "      <td>0.0</td>\n",
       "      <td>0.0</td>\n",
       "      <td>0.0</td>\n",
       "      <td>0.0</td>\n",
       "      <td>0.0</td>\n",
       "    </tr>\n",
       "    <tr>\n",
       "      <th>1</th>\n",
       "      <td>1</td>\n",
       "      <td>Sin dato</td>\n",
       "      <td>45.355545</td>\n",
       "      <td>75GRMGQW+8CFP</td>\n",
       "      <td>1412000011206018</td>\n",
       "      <td>4.482118</td>\n",
       "      <td>278416.454431</td>\n",
       "      <td>45.355545</td>\n",
       "      <td>0.000163</td>\n",
       "      <td>0.098822</td>\n",
       "      <td>MULTIPOLYGON (((2349168.91 965335.176, 2349157...</td>\n",
       "      <td>0</td>\n",
       "      <td>0.0</td>\n",
       "      <td>0.0</td>\n",
       "      <td>0.0</td>\n",
       "      <td>0.0</td>\n",
       "      <td>0.0</td>\n",
       "      <td>0.0</td>\n",
       "      <td>0.0</td>\n",
       "    </tr>\n",
       "  </tbody>\n",
       "</table>\n",
       "</div>"
      ],
      "text/plain": [
       "   fid uso_suelo    area_m2 full_plus_code            CVEGEO  bld_area_m2  \\\n",
       "0    0  Sin dato  67.279056  75GRMGQW+89PG  1412000011206018    12.438638   \n",
       "1    1  Sin dato  45.355545  75GRMGQW+8CFP  1412000011206018     4.482118   \n",
       "\n",
       "   block_area_m2  pred_area_m2  pred_area_pct  bld_pred_area_pct  \\\n",
       "0  278416.454431     67.279056       0.000242           0.184881   \n",
       "1  278416.454431     45.355545       0.000163           0.098822   \n",
       "\n",
       "                                            geometry  pobtot  \\\n",
       "0  MULTIPOLYGON (((2349152.724 965335.704, 234914...       0   \n",
       "1  MULTIPOLYGON (((2349168.91 965335.176, 2349157...       0   \n",
       "\n",
       "   cultural_recreativo  servicios  comercio  salud  educacion  gobierno  \\\n",
       "0                  0.0        0.0       0.0    0.0        0.0       0.0   \n",
       "1                  0.0        0.0       0.0    0.0        0.0       0.0   \n",
       "\n",
       "   industria  \n",
       "0        0.0  \n",
       "1        0.0  "
      ]
     },
     "execution_count": 19,
     "metadata": {},
     "output_type": "execute_result"
    }
   ],
   "source": [
    "aop_data = aop_data.merge(aop_kde[['fid','cultural_recreativo',\n",
    "                                  'servicios','comercio','salud',\n",
    "                                  'educacion','gobierno','industria']])\n",
    "print(aop_data.shape)\n",
    "aop_data.head(2)"
   ]
  },
  {
   "cell_type": "markdown",
   "id": "96477390-40cc-46fe-8276-f3fd0982feae",
   "metadata": {},
   "source": [
    "Calculate land use and population percentages"
   ]
  },
  {
   "cell_type": "code",
   "execution_count": 20,
   "id": "fe16abcd-82b5-441d-8d42-5ec61ffe9d75",
   "metadata": {
    "scrolled": true
   },
   "outputs": [
    {
     "data": {
      "text/html": [
       "<div>\n",
       "<style scoped>\n",
       "    .dataframe tbody tr th:only-of-type {\n",
       "        vertical-align: middle;\n",
       "    }\n",
       "\n",
       "    .dataframe tbody tr th {\n",
       "        vertical-align: top;\n",
       "    }\n",
       "\n",
       "    .dataframe thead th {\n",
       "        text-align: right;\n",
       "    }\n",
       "</style>\n",
       "<table border=\"1\" class=\"dataframe\">\n",
       "  <thead>\n",
       "    <tr style=\"text-align: right;\">\n",
       "      <th></th>\n",
       "      <th>fid</th>\n",
       "      <th>uso_suelo</th>\n",
       "      <th>area_m2</th>\n",
       "      <th>full_plus_code</th>\n",
       "      <th>CVEGEO</th>\n",
       "      <th>bld_area_m2</th>\n",
       "      <th>block_area_m2</th>\n",
       "      <th>pred_area_m2</th>\n",
       "      <th>pred_area_pct</th>\n",
       "      <th>bld_pred_area_pct</th>\n",
       "      <th>...</th>\n",
       "      <th>pobtot</th>\n",
       "      <th>cultural_recreativo</th>\n",
       "      <th>servicios</th>\n",
       "      <th>comercio</th>\n",
       "      <th>salud</th>\n",
       "      <th>educacion</th>\n",
       "      <th>gobierno</th>\n",
       "      <th>industria</th>\n",
       "      <th>area_m2_tot</th>\n",
       "      <th>pobtot_relative</th>\n",
       "    </tr>\n",
       "  </thead>\n",
       "  <tbody>\n",
       "    <tr>\n",
       "      <th>0</th>\n",
       "      <td>0</td>\n",
       "      <td>Sin dato</td>\n",
       "      <td>67.279056</td>\n",
       "      <td>75GRMGQW+89PG</td>\n",
       "      <td>1412000011206018</td>\n",
       "      <td>12.438638</td>\n",
       "      <td>278416.454431</td>\n",
       "      <td>67.279056</td>\n",
       "      <td>0.000242</td>\n",
       "      <td>0.184881</td>\n",
       "      <td>...</td>\n",
       "      <td>0</td>\n",
       "      <td>0.0</td>\n",
       "      <td>0.0</td>\n",
       "      <td>0.0</td>\n",
       "      <td>0.0</td>\n",
       "      <td>0.0</td>\n",
       "      <td>0.0</td>\n",
       "      <td>0.0</td>\n",
       "      <td>265377.009117</td>\n",
       "      <td>0.0</td>\n",
       "    </tr>\n",
       "    <tr>\n",
       "      <th>1</th>\n",
       "      <td>1</td>\n",
       "      <td>Sin dato</td>\n",
       "      <td>45.355545</td>\n",
       "      <td>75GRMGQW+8CFP</td>\n",
       "      <td>1412000011206018</td>\n",
       "      <td>4.482118</td>\n",
       "      <td>278416.454431</td>\n",
       "      <td>45.355545</td>\n",
       "      <td>0.000163</td>\n",
       "      <td>0.098822</td>\n",
       "      <td>...</td>\n",
       "      <td>0</td>\n",
       "      <td>0.0</td>\n",
       "      <td>0.0</td>\n",
       "      <td>0.0</td>\n",
       "      <td>0.0</td>\n",
       "      <td>0.0</td>\n",
       "      <td>0.0</td>\n",
       "      <td>0.0</td>\n",
       "      <td>265377.009117</td>\n",
       "      <td>0.0</td>\n",
       "    </tr>\n",
       "  </tbody>\n",
       "</table>\n",
       "<p>2 rows × 21 columns</p>\n",
       "</div>"
      ],
      "text/plain": [
       "   fid uso_suelo    area_m2 full_plus_code            CVEGEO  bld_area_m2  \\\n",
       "0    0  Sin dato  67.279056  75GRMGQW+89PG  1412000011206018    12.438638   \n",
       "1    1  Sin dato  45.355545  75GRMGQW+8CFP  1412000011206018     4.482118   \n",
       "\n",
       "   block_area_m2  pred_area_m2  pred_area_pct  bld_pred_area_pct  ... pobtot  \\\n",
       "0  278416.454431     67.279056       0.000242           0.184881  ...      0   \n",
       "1  278416.454431     45.355545       0.000163           0.098822  ...      0   \n",
       "\n",
       "   cultural_recreativo  servicios  comercio  salud  educacion  gobierno  \\\n",
       "0                  0.0        0.0       0.0    0.0        0.0       0.0   \n",
       "1                  0.0        0.0       0.0    0.0        0.0       0.0   \n",
       "\n",
       "   industria    area_m2_tot  pobtot_relative  \n",
       "0        0.0  265377.009117              0.0  \n",
       "1        0.0  265377.009117              0.0  \n",
       "\n",
       "[2 rows x 21 columns]"
      ]
     },
     "execution_count": 20,
     "metadata": {},
     "output_type": "execute_result"
    }
   ],
   "source": [
    "# divide total population by area\n",
    "aop_area = aop_data[['CVEGEO','area_m2']].groupby('CVEGEO').sum().reset_index().rename(columns={'area_m2':'area_m2_tot'})\n",
    "aop_data = aop_data.merge(aop_area, on='CVEGEO')\n",
    "aop_data['pobtot_relative'] = aop_data['pobtot'] * (aop_data['area_m2']/aop_data['area_m2_tot'])\n",
    "aop_data.head(2)"
   ]
  },
  {
   "cell_type": "code",
   "execution_count": 21,
   "id": "6e225524-20a2-47e3-a622-f7080b26355a",
   "metadata": {},
   "outputs": [],
   "source": [
    "aop_data = aop_data.rename(columns={'pobtot_relative':'habitacional',\n",
    "                                   'educación':'educacion'})"
   ]
  },
  {
   "cell_type": "code",
   "execution_count": 22,
   "id": "4ab2a4c9-e805-4948-aab8-0521f66eba12",
   "metadata": {},
   "outputs": [],
   "source": [
    "uso_list = ['habitacional','cultural_recreativo','servicios',\n",
    "           'comercio','salud','educacion','gobierno',\n",
    "           'industria']"
   ]
  },
  {
   "cell_type": "code",
   "execution_count": 23,
   "id": "9e254ef9-5888-4ffe-8628-8c7e74e882d8",
   "metadata": {},
   "outputs": [],
   "source": [
    "aop_data['uso_tot'] = aop_data[uso_list].sum(axis=1)"
   ]
  },
  {
   "cell_type": "code",
   "execution_count": 24,
   "id": "68bb5957-5df8-445d-adc6-2d95001757fa",
   "metadata": {},
   "outputs": [],
   "source": [
    "for us in uso_list:\n",
    "    aop_data['pct_'+us] = aop_data[us]/aop_data['uso_tot']"
   ]
  },
  {
   "cell_type": "code",
   "execution_count": 25,
   "id": "e2bf895a-66c2-41d1-8f8d-92b162031d12",
   "metadata": {
    "scrolled": true
   },
   "outputs": [
    {
     "data": {
      "text/html": [
       "<div>\n",
       "<style scoped>\n",
       "    .dataframe tbody tr th:only-of-type {\n",
       "        vertical-align: middle;\n",
       "    }\n",
       "\n",
       "    .dataframe tbody tr th {\n",
       "        vertical-align: top;\n",
       "    }\n",
       "\n",
       "    .dataframe thead th {\n",
       "        text-align: right;\n",
       "    }\n",
       "</style>\n",
       "<table border=\"1\" class=\"dataframe\">\n",
       "  <thead>\n",
       "    <tr style=\"text-align: right;\">\n",
       "      <th></th>\n",
       "      <th>fid</th>\n",
       "      <th>uso_suelo</th>\n",
       "      <th>area_m2</th>\n",
       "      <th>full_plus_code</th>\n",
       "      <th>CVEGEO</th>\n",
       "      <th>bld_area_m2</th>\n",
       "      <th>block_area_m2</th>\n",
       "      <th>pred_area_m2</th>\n",
       "      <th>pred_area_pct</th>\n",
       "      <th>bld_pred_area_pct</th>\n",
       "      <th>...</th>\n",
       "      <th>habitacional</th>\n",
       "      <th>uso_tot</th>\n",
       "      <th>pct_habitacional</th>\n",
       "      <th>pct_cultural_recreativo</th>\n",
       "      <th>pct_servicios</th>\n",
       "      <th>pct_comercio</th>\n",
       "      <th>pct_salud</th>\n",
       "      <th>pct_educacion</th>\n",
       "      <th>pct_gobierno</th>\n",
       "      <th>pct_industria</th>\n",
       "    </tr>\n",
       "  </thead>\n",
       "  <tbody>\n",
       "    <tr>\n",
       "      <th>0</th>\n",
       "      <td>0</td>\n",
       "      <td>Sin dato</td>\n",
       "      <td>67.279056</td>\n",
       "      <td>75GRMGQW+89PG</td>\n",
       "      <td>1412000011206018</td>\n",
       "      <td>12.438638</td>\n",
       "      <td>278416.454431</td>\n",
       "      <td>67.279056</td>\n",
       "      <td>0.000242</td>\n",
       "      <td>0.184881</td>\n",
       "      <td>...</td>\n",
       "      <td>0.0</td>\n",
       "      <td>0.0</td>\n",
       "      <td>0.0</td>\n",
       "      <td>0.0</td>\n",
       "      <td>0.0</td>\n",
       "      <td>0.0</td>\n",
       "      <td>0.0</td>\n",
       "      <td>0.0</td>\n",
       "      <td>0.0</td>\n",
       "      <td>0.0</td>\n",
       "    </tr>\n",
       "    <tr>\n",
       "      <th>1</th>\n",
       "      <td>1</td>\n",
       "      <td>Sin dato</td>\n",
       "      <td>45.355545</td>\n",
       "      <td>75GRMGQW+8CFP</td>\n",
       "      <td>1412000011206018</td>\n",
       "      <td>4.482118</td>\n",
       "      <td>278416.454431</td>\n",
       "      <td>45.355545</td>\n",
       "      <td>0.000163</td>\n",
       "      <td>0.098822</td>\n",
       "      <td>...</td>\n",
       "      <td>0.0</td>\n",
       "      <td>0.0</td>\n",
       "      <td>0.0</td>\n",
       "      <td>0.0</td>\n",
       "      <td>0.0</td>\n",
       "      <td>0.0</td>\n",
       "      <td>0.0</td>\n",
       "      <td>0.0</td>\n",
       "      <td>0.0</td>\n",
       "      <td>0.0</td>\n",
       "    </tr>\n",
       "  </tbody>\n",
       "</table>\n",
       "<p>2 rows × 30 columns</p>\n",
       "</div>"
      ],
      "text/plain": [
       "   fid uso_suelo    area_m2 full_plus_code            CVEGEO  bld_area_m2  \\\n",
       "0    0  Sin dato  67.279056  75GRMGQW+89PG  1412000011206018    12.438638   \n",
       "1    1  Sin dato  45.355545  75GRMGQW+8CFP  1412000011206018     4.482118   \n",
       "\n",
       "   block_area_m2  pred_area_m2  pred_area_pct  bld_pred_area_pct  ...  \\\n",
       "0  278416.454431     67.279056       0.000242           0.184881  ...   \n",
       "1  278416.454431     45.355545       0.000163           0.098822  ...   \n",
       "\n",
       "  habitacional  uso_tot  pct_habitacional  pct_cultural_recreativo  \\\n",
       "0          0.0      0.0               0.0                      0.0   \n",
       "1          0.0      0.0               0.0                      0.0   \n",
       "\n",
       "   pct_servicios  pct_comercio  pct_salud  pct_educacion  pct_gobierno  \\\n",
       "0            0.0           0.0        0.0            0.0           0.0   \n",
       "1            0.0           0.0        0.0            0.0           0.0   \n",
       "\n",
       "   pct_industria  \n",
       "0            0.0  \n",
       "1            0.0  \n",
       "\n",
       "[2 rows x 30 columns]"
      ]
     },
     "execution_count": 25,
     "metadata": {},
     "output_type": "execute_result"
    }
   ],
   "source": [
    "aop_data = aop_data.fillna(0)\n",
    "aop_data.head(2)"
   ]
  },
  {
   "cell_type": "markdown",
   "id": "944940b4-4b35-4f7f-acf7-709fa278b253",
   "metadata": {},
   "source": [
    "Save data"
   ]
  },
  {
   "cell_type": "code",
   "execution_count": 26,
   "id": "0fb95b56-fa47-4eb6-bc10-aa53614c16b2",
   "metadata": {},
   "outputs": [],
   "source": [
    "aop_data.to_file('../../data/processed/prediccion_uso_suelo/complete_model/tess_kde.gpkg')"
   ]
  },
  {
   "cell_type": "code",
   "execution_count": null,
   "id": "1fc504ea-f624-471e-a71f-36f57b37e3a2",
   "metadata": {},
   "outputs": [],
   "source": []
  }
 ],
 "metadata": {
  "kernelspec": {
   "display_name": "Python 3 (ipykernel)",
   "language": "python",
   "name": "python3"
  },
  "language_info": {
   "codemirror_mode": {
    "name": "ipython",
    "version": 3
   },
   "file_extension": ".py",
   "mimetype": "text/x-python",
   "name": "python",
   "nbconvert_exporter": "python",
   "pygments_lexer": "ipython3",
   "version": "3.11.11"
  }
 },
 "nbformat": 4,
 "nbformat_minor": 5
}
