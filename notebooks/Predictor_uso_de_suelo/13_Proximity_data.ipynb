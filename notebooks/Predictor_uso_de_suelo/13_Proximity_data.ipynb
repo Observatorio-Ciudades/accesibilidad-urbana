{
 "cells": [
  {
   "cell_type": "markdown",
   "id": "963673fb-a792-4a0e-9955-5f9984425432",
   "metadata": {},
   "source": [
    "# Proximity data to Area of Prediction"
   ]
  },
  {
   "cell_type": "markdown",
   "id": "920ccfd1-08a1-4241-8405-1943e7552684",
   "metadata": {},
   "source": [
    "This notebook contains the processes that interpolate proximity to certain amenities to the are of prediction."
   ]
  },
  {
   "cell_type": "markdown",
   "id": "fa6ee1db-7422-47af-aa73-566fdad549b4",
   "metadata": {},
   "source": [
    "## Import libraries"
   ]
  },
  {
   "cell_type": "code",
   "execution_count": 1,
   "id": "5ea3f32e-2869-4fe8-b01d-739254641f79",
   "metadata": {},
   "outputs": [],
   "source": [
    "import geopandas as gpd\n",
    "import pandas as pd\n",
    "import numpy as np\n",
    "\n",
    "import matplotlib.pyplot as plt\n",
    "import seaborn as sns\n",
    "\n",
    "import aup"
   ]
  },
  {
   "cell_type": "markdown",
   "id": "e68edde5-197b-4009-b0cb-e001f869185a",
   "metadata": {},
   "source": [
    "## Data download/read and preprocessing"
   ]
  },
  {
   "cell_type": "markdown",
   "id": "24c53c07-fabb-426c-855b-ea32656a7fb3",
   "metadata": {},
   "source": [
    "### Area of analysis"
   ]
  },
  {
   "cell_type": "code",
   "execution_count": 2,
   "id": "a33986db-d148-4b53-8250-b4f2a23438a6",
   "metadata": {},
   "outputs": [
    {
     "name": "stdout",
     "output_type": "stream",
     "text": [
      "(1, 4)\n"
     ]
    },
    {
     "data": {
      "text/html": [
       "<div>\n",
       "<style scoped>\n",
       "    .dataframe tbody tr th:only-of-type {\n",
       "        vertical-align: middle;\n",
       "    }\n",
       "\n",
       "    .dataframe tbody tr th {\n",
       "        vertical-align: top;\n",
       "    }\n",
       "\n",
       "    .dataframe thead th {\n",
       "        text-align: right;\n",
       "    }\n",
       "</style>\n",
       "<table border=\"1\" class=\"dataframe\">\n",
       "  <thead>\n",
       "    <tr style=\"text-align: right;\">\n",
       "      <th></th>\n",
       "      <th>id</th>\n",
       "      <th>area</th>\n",
       "      <th>perimeter</th>\n",
       "      <th>geometry</th>\n",
       "    </tr>\n",
       "  </thead>\n",
       "  <tbody>\n",
       "    <tr>\n",
       "      <th>0</th>\n",
       "      <td>0</td>\n",
       "      <td>3.456908e+07</td>\n",
       "      <td>22034.335455</td>\n",
       "      <td>POLYGON ((662437.93 2284457.02, 662421.516 228...</td>\n",
       "    </tr>\n",
       "  </tbody>\n",
       "</table>\n",
       "</div>"
      ],
      "text/plain": [
       "   id          area     perimeter  \\\n",
       "0   0  3.456908e+07  22034.335455   \n",
       "\n",
       "                                            geometry  \n",
       "0  POLYGON ((662437.93 2284457.02, 662421.516 228...  "
      ]
     },
     "execution_count": 2,
     "metadata": {},
     "output_type": "execute_result"
    }
   ],
   "source": [
    "aoa_gdf = gpd.read_file(\"../../data/processed/prediccion_uso_suelo/Distrito_Zona5.geojson\")\n",
    "print(aoa_gdf.shape)\n",
    "aoa_gdf.head(2)"
   ]
  },
  {
   "cell_type": "markdown",
   "id": "8ba5d68d-864a-4d2f-abb8-3faf4778002a",
   "metadata": {},
   "source": [
    "### Area of prediction with variables"
   ]
  },
  {
   "cell_type": "code",
   "execution_count": 3,
   "id": "c6841e1a-c4dd-452f-b6ec-40e64163c911",
   "metadata": {},
   "outputs": [
    {
     "name": "stdout",
     "output_type": "stream",
     "text": [
      "(37061, 32)\n"
     ]
    },
    {
     "data": {
      "text/html": [
       "<div>\n",
       "<style scoped>\n",
       "    .dataframe tbody tr th:only-of-type {\n",
       "        vertical-align: middle;\n",
       "    }\n",
       "\n",
       "    .dataframe tbody tr th {\n",
       "        vertical-align: top;\n",
       "    }\n",
       "\n",
       "    .dataframe thead th {\n",
       "        text-align: right;\n",
       "    }\n",
       "</style>\n",
       "<table border=\"1\" class=\"dataframe\">\n",
       "  <thead>\n",
       "    <tr style=\"text-align: right;\">\n",
       "      <th></th>\n",
       "      <th>uso_suelo</th>\n",
       "      <th>area_m2</th>\n",
       "      <th>full_plus_code</th>\n",
       "      <th>CVEGEO</th>\n",
       "      <th>bld_area_m2</th>\n",
       "      <th>block_area_m2</th>\n",
       "      <th>pred_area_m2</th>\n",
       "      <th>pred_area_pct</th>\n",
       "      <th>bld_pred_area_pct</th>\n",
       "      <th>pobtot</th>\n",
       "      <th>...</th>\n",
       "      <th>pct_servicios</th>\n",
       "      <th>pct_comercio</th>\n",
       "      <th>pct_salud</th>\n",
       "      <th>pct_educacion</th>\n",
       "      <th>pct_gobierno</th>\n",
       "      <th>pct_industria</th>\n",
       "      <th>temperature_mean_diff</th>\n",
       "      <th>ndvi_mean</th>\n",
       "      <th>ndmi_diff</th>\n",
       "      <th>geometry</th>\n",
       "    </tr>\n",
       "  </thead>\n",
       "  <tbody>\n",
       "    <tr>\n",
       "      <th>0</th>\n",
       "      <td>Servicio</td>\n",
       "      <td>2257.817773</td>\n",
       "      <td>75GRMHR2+458V</td>\n",
       "      <td>1412000011206018</td>\n",
       "      <td>173.7348</td>\n",
       "      <td>278416.454431</td>\n",
       "      <td>2747.599834</td>\n",
       "      <td>0.009869</td>\n",
       "      <td>0.063231</td>\n",
       "      <td>0</td>\n",
       "      <td>...</td>\n",
       "      <td>0.740466</td>\n",
       "      <td>0.231342</td>\n",
       "      <td>0.0</td>\n",
       "      <td>0.0</td>\n",
       "      <td>0.0</td>\n",
       "      <td>0.028192</td>\n",
       "      <td>1.425273</td>\n",
       "      <td>0.254363</td>\n",
       "      <td>0.085301</td>\n",
       "      <td>MULTIPOLYGON (((2349620.239 965525.905, 234961...</td>\n",
       "    </tr>\n",
       "    <tr>\n",
       "      <th>1</th>\n",
       "      <td>Sin dato</td>\n",
       "      <td>711.098560</td>\n",
       "      <td>75GRMGRX+GQP3</td>\n",
       "      <td>1412000011206018</td>\n",
       "      <td>81.7922</td>\n",
       "      <td>278416.454431</td>\n",
       "      <td>900.765482</td>\n",
       "      <td>0.003235</td>\n",
       "      <td>0.090803</td>\n",
       "      <td>0</td>\n",
       "      <td>...</td>\n",
       "      <td>0.586683</td>\n",
       "      <td>0.354285</td>\n",
       "      <td>0.0</td>\n",
       "      <td>0.0</td>\n",
       "      <td>0.0</td>\n",
       "      <td>0.059033</td>\n",
       "      <td>2.330655</td>\n",
       "      <td>0.280296</td>\n",
       "      <td>0.070458</td>\n",
       "      <td>MULTIPOLYGON (((2349506.214 965639.352, 234950...</td>\n",
       "    </tr>\n",
       "  </tbody>\n",
       "</table>\n",
       "<p>2 rows × 32 columns</p>\n",
       "</div>"
      ],
      "text/plain": [
       "  uso_suelo      area_m2 full_plus_code            CVEGEO  bld_area_m2  \\\n",
       "0  Servicio  2257.817773  75GRMHR2+458V  1412000011206018     173.7348   \n",
       "1  Sin dato   711.098560  75GRMGRX+GQP3  1412000011206018      81.7922   \n",
       "\n",
       "   block_area_m2  pred_area_m2  pred_area_pct  bld_pred_area_pct  pobtot  ...  \\\n",
       "0  278416.454431   2747.599834       0.009869           0.063231       0  ...   \n",
       "1  278416.454431    900.765482       0.003235           0.090803       0  ...   \n",
       "\n",
       "   pct_servicios  pct_comercio  pct_salud  pct_educacion  pct_gobierno  \\\n",
       "0       0.740466      0.231342        0.0            0.0           0.0   \n",
       "1       0.586683      0.354285        0.0            0.0           0.0   \n",
       "\n",
       "   pct_industria  temperature_mean_diff  ndvi_mean  ndmi_diff  \\\n",
       "0       0.028192               1.425273   0.254363   0.085301   \n",
       "1       0.059033               2.330655   0.280296   0.070458   \n",
       "\n",
       "                                            geometry  \n",
       "0  MULTIPOLYGON (((2349620.239 965525.905, 234961...  \n",
       "1  MULTIPOLYGON (((2349506.214 965639.352, 234950...  \n",
       "\n",
       "[2 rows x 32 columns]"
      ]
     },
     "execution_count": 3,
     "metadata": {},
     "output_type": "execute_result"
    }
   ],
   "source": [
    "gdf = gpd.read_file('../../data/processed/prediccion_uso_suelo/test/area_of_prediction_env.gpkg')\n",
    "print(gdf.shape)\n",
    "gdf.head(2)"
   ]
  },
  {
   "cell_type": "markdown",
   "id": "4906019c-d87a-4897-917a-9df958cc98b3",
   "metadata": {},
   "source": [
    "### Proximity data"
   ]
  },
  {
   "cell_type": "code",
   "execution_count": 4,
   "id": "5b3a58e2-d337-4a72-8c18-c6846cdb48f9",
   "metadata": {},
   "outputs": [
    {
     "data": {
      "text/html": [
       "<div>\n",
       "<style scoped>\n",
       "    .dataframe tbody tr th:only-of-type {\n",
       "        vertical-align: middle;\n",
       "    }\n",
       "\n",
       "    .dataframe tbody tr th {\n",
       "        vertical-align: top;\n",
       "    }\n",
       "\n",
       "    .dataframe thead th {\n",
       "        text-align: right;\n",
       "    }\n",
       "</style>\n",
       "<table border=\"1\" class=\"dataframe\">\n",
       "  <thead>\n",
       "    <tr style=\"text-align: right;\">\n",
       "      <th></th>\n",
       "      <th>geometry</th>\n",
       "    </tr>\n",
       "  </thead>\n",
       "  <tbody>\n",
       "    <tr>\n",
       "      <th>0</th>\n",
       "      <td>POLYGON ((-103.4407 20.65148, -103.44079 20.65...</td>\n",
       "    </tr>\n",
       "  </tbody>\n",
       "</table>\n",
       "</div>"
      ],
      "text/plain": [
       "                                            geometry\n",
       "0  POLYGON ((-103.4407 20.65148, -103.44079 20.65..."
      ]
     },
     "execution_count": 4,
     "metadata": {},
     "output_type": "execute_result"
    }
   ],
   "source": [
    "buffer = aoa_gdf.to_crs(\"EPSG:6372\").buffer(100)\n",
    "buffer = gpd.GeoDataFrame(geometry = buffer)\n",
    "buffer = buffer.to_crs(\"EPSG:4326\")\n",
    "buffer"
   ]
  },
  {
   "cell_type": "code",
   "execution_count": 5,
   "id": "14ccab30-5141-4e80-a758-91c27d08d0b8",
   "metadata": {},
   "outputs": [
    {
     "name": "stdout",
     "output_type": "stream",
     "text": [
      "(9575, 69)\n"
     ]
    },
    {
     "data": {
      "text/html": [
       "<div>\n",
       "<style scoped>\n",
       "    .dataframe tbody tr th:only-of-type {\n",
       "        vertical-align: middle;\n",
       "    }\n",
       "\n",
       "    .dataframe tbody tr th {\n",
       "        vertical-align: top;\n",
       "    }\n",
       "\n",
       "    .dataframe thead th {\n",
       "        text-align: right;\n",
       "    }\n",
       "</style>\n",
       "<table border=\"1\" class=\"dataframe\">\n",
       "  <thead>\n",
       "    <tr style=\"text-align: right;\">\n",
       "      <th></th>\n",
       "      <th>osmid</th>\n",
       "      <th>denue_preescolar</th>\n",
       "      <th>denue_preescolar_15min</th>\n",
       "      <th>denue_primaria</th>\n",
       "      <th>denue_primaria_15min</th>\n",
       "      <th>denue_secundaria</th>\n",
       "      <th>denue_secundaria_15min</th>\n",
       "      <th>clues_primer_nivel</th>\n",
       "      <th>clues_primer_nivel_15min</th>\n",
       "      <th>denue_guarderias</th>\n",
       "      <th>...</th>\n",
       "      <th>denue_museos</th>\n",
       "      <th>denue_museos_15min</th>\n",
       "      <th>denue_bibliotecas</th>\n",
       "      <th>denue_bibliotecas_15min</th>\n",
       "      <th>denue_centrocultural</th>\n",
       "      <th>denue_centrocultural_15min</th>\n",
       "      <th>x</th>\n",
       "      <th>y</th>\n",
       "      <th>geometry</th>\n",
       "      <th>city</th>\n",
       "    </tr>\n",
       "  </thead>\n",
       "  <tbody>\n",
       "    <tr>\n",
       "      <th>0</th>\n",
       "      <td>28791518</td>\n",
       "      <td>7.341088</td>\n",
       "      <td>6</td>\n",
       "      <td>7.777907</td>\n",
       "      <td>4</td>\n",
       "      <td>26.270394</td>\n",
       "      <td>0</td>\n",
       "      <td>8.583527</td>\n",
       "      <td>9</td>\n",
       "      <td>10.816726</td>\n",
       "      <td>...</td>\n",
       "      <td>29.825454</td>\n",
       "      <td>0</td>\n",
       "      <td>24.933597</td>\n",
       "      <td>0</td>\n",
       "      <td>88.667714</td>\n",
       "      <td>0</td>\n",
       "      <td>-103.402947</td>\n",
       "      <td>20.674933</td>\n",
       "      <td>POINT (-103.40295 20.67493)</td>\n",
       "      <td>Guadalajara</td>\n",
       "    </tr>\n",
       "    <tr>\n",
       "      <th>1</th>\n",
       "      <td>28791819</td>\n",
       "      <td>14.330918</td>\n",
       "      <td>2</td>\n",
       "      <td>15.698086</td>\n",
       "      <td>0</td>\n",
       "      <td>18.886949</td>\n",
       "      <td>0</td>\n",
       "      <td>21.883063</td>\n",
       "      <td>0</td>\n",
       "      <td>11.384115</td>\n",
       "      <td>...</td>\n",
       "      <td>79.918412</td>\n",
       "      <td>0</td>\n",
       "      <td>32.323755</td>\n",
       "      <td>0</td>\n",
       "      <td>91.512585</td>\n",
       "      <td>0</td>\n",
       "      <td>-103.454766</td>\n",
       "      <td>20.695994</td>\n",
       "      <td>POINT (-103.45477 20.69599)</td>\n",
       "      <td>Guadalajara</td>\n",
       "    </tr>\n",
       "  </tbody>\n",
       "</table>\n",
       "<p>2 rows × 69 columns</p>\n",
       "</div>"
      ],
      "text/plain": [
       "      osmid  denue_preescolar  denue_preescolar_15min  denue_primaria  \\\n",
       "0  28791518          7.341088                       6        7.777907   \n",
       "1  28791819         14.330918                       2       15.698086   \n",
       "\n",
       "   denue_primaria_15min  denue_secundaria  denue_secundaria_15min  \\\n",
       "0                     4         26.270394                       0   \n",
       "1                     0         18.886949                       0   \n",
       "\n",
       "   clues_primer_nivel  clues_primer_nivel_15min  denue_guarderias  ...  \\\n",
       "0            8.583527                         9         10.816726  ...   \n",
       "1           21.883063                         0         11.384115  ...   \n",
       "\n",
       "   denue_museos  denue_museos_15min  denue_bibliotecas  \\\n",
       "0     29.825454                   0          24.933597   \n",
       "1     79.918412                   0          32.323755   \n",
       "\n",
       "   denue_bibliotecas_15min  denue_centrocultural  denue_centrocultural_15min  \\\n",
       "0                        0             88.667714                           0   \n",
       "1                        0             91.512585                           0   \n",
       "\n",
       "            x          y                     geometry         city  \n",
       "0 -103.402947  20.674933  POINT (-103.40295 20.67493)  Guadalajara  \n",
       "1 -103.454766  20.695994  POINT (-103.45477 20.69599)  Guadalajara  \n",
       "\n",
       "[2 rows x 69 columns]"
      ]
     },
     "execution_count": 5,
     "metadata": {},
     "output_type": "execute_result"
    }
   ],
   "source": [
    "table = 'proximity_v2_23_point'\n",
    "schema = 'prox_analysis'\n",
    "\n",
    "prox_nodes = aup.gdf_from_polygon(buffer, schema, table)\n",
    "\n",
    "print(prox_nodes.shape)\n",
    "prox_nodes.head(2)"
   ]
  },
  {
   "cell_type": "markdown",
   "id": "02dd29e5-0a9f-4452-b2ff-18c556df339d",
   "metadata": {},
   "source": [
    "Filter proximity elements"
   ]
  },
  {
   "cell_type": "code",
   "execution_count": 6,
   "id": "686a1af2-6a2a-4c64-9755-dddb941c0be1",
   "metadata": {},
   "outputs": [
    {
     "name": "stdout",
     "output_type": "stream",
     "text": [
      "(9575, 12)\n"
     ]
    },
    {
     "data": {
      "text/html": [
       "<div>\n",
       "<style scoped>\n",
       "    .dataframe tbody tr th:only-of-type {\n",
       "        vertical-align: middle;\n",
       "    }\n",
       "\n",
       "    .dataframe tbody tr th {\n",
       "        vertical-align: top;\n",
       "    }\n",
       "\n",
       "    .dataframe thead th {\n",
       "        text-align: right;\n",
       "    }\n",
       "</style>\n",
       "<table border=\"1\" class=\"dataframe\">\n",
       "  <thead>\n",
       "    <tr style=\"text-align: right;\">\n",
       "      <th></th>\n",
       "      <th>osmid</th>\n",
       "      <th>denue_primaria</th>\n",
       "      <th>denue_primaria_15min</th>\n",
       "      <th>denue_abarrotes</th>\n",
       "      <th>denue_abarrotes_15min</th>\n",
       "      <th>denue_peluqueria</th>\n",
       "      <th>denue_peluqueria_15min</th>\n",
       "      <th>denue_lavanderia</th>\n",
       "      <th>denue_lavanderia_15min</th>\n",
       "      <th>clues_primer_nivel</th>\n",
       "      <th>clues_primer_nivel_15min</th>\n",
       "      <th>geometry</th>\n",
       "    </tr>\n",
       "  </thead>\n",
       "  <tbody>\n",
       "    <tr>\n",
       "      <th>0</th>\n",
       "      <td>28791518</td>\n",
       "      <td>7.777907</td>\n",
       "      <td>4</td>\n",
       "      <td>4.427983</td>\n",
       "      <td>9</td>\n",
       "      <td>5.178137</td>\n",
       "      <td>46</td>\n",
       "      <td>6.701719</td>\n",
       "      <td>7</td>\n",
       "      <td>8.583527</td>\n",
       "      <td>9</td>\n",
       "      <td>POINT (-103.40295 20.67493)</td>\n",
       "    </tr>\n",
       "    <tr>\n",
       "      <th>1</th>\n",
       "      <td>28791819</td>\n",
       "      <td>15.698086</td>\n",
       "      <td>0</td>\n",
       "      <td>8.995115</td>\n",
       "      <td>7</td>\n",
       "      <td>8.995115</td>\n",
       "      <td>4</td>\n",
       "      <td>8.995115</td>\n",
       "      <td>1</td>\n",
       "      <td>21.883063</td>\n",
       "      <td>0</td>\n",
       "      <td>POINT (-103.45477 20.69599)</td>\n",
       "    </tr>\n",
       "  </tbody>\n",
       "</table>\n",
       "</div>"
      ],
      "text/plain": [
       "      osmid  denue_primaria  denue_primaria_15min  denue_abarrotes  \\\n",
       "0  28791518        7.777907                     4         4.427983   \n",
       "1  28791819       15.698086                     0         8.995115   \n",
       "\n",
       "   denue_abarrotes_15min  denue_peluqueria  denue_peluqueria_15min  \\\n",
       "0                      9          5.178137                      46   \n",
       "1                      7          8.995115                       4   \n",
       "\n",
       "   denue_lavanderia  denue_lavanderia_15min  clues_primer_nivel  \\\n",
       "0          6.701719                       7            8.583527   \n",
       "1          8.995115                       1           21.883063   \n",
       "\n",
       "   clues_primer_nivel_15min                     geometry  \n",
       "0                         9  POINT (-103.40295 20.67493)  \n",
       "1                         0  POINT (-103.45477 20.69599)  "
      ]
     },
     "execution_count": 6,
     "metadata": {},
     "output_type": "execute_result"
    }
   ],
   "source": [
    "cols = ['osmid','denue_primaria','denue_primaria_15min',\n",
    "       'denue_abarrotes','denue_abarrotes_15min','denue_peluqueria',\n",
    "       'denue_peluqueria_15min','denue_lavanderia','denue_lavanderia_15min',\n",
    "       'clues_primer_nivel','clues_primer_nivel_15min','geometry']\n",
    "prox_nodes = prox_nodes[cols].copy()\n",
    "\n",
    "print(prox_nodes.shape)\n",
    "prox_nodes.head(2)"
   ]
  },
  {
   "cell_type": "markdown",
   "id": "f8667899-1a83-4db8-b6f7-f5c92f6bbf38",
   "metadata": {},
   "source": [
    "## Proximity to area of analysis"
   ]
  },
  {
   "cell_type": "markdown",
   "id": "8bb87aa9-5e91-41b3-826c-16e47db45ed6",
   "metadata": {},
   "source": [
    "Set CRS"
   ]
  },
  {
   "cell_type": "code",
   "execution_count": 7,
   "id": "73b4bf28-ad0b-46eb-8029-76910e0c09ea",
   "metadata": {},
   "outputs": [],
   "source": [
    "prox_nodes = prox_nodes.to_crs(\"EPSG:6372\")\n",
    "gdf = gdf.to_crs(\"EPSG:6372\")"
   ]
  },
  {
   "cell_type": "markdown",
   "id": "243f3e91-e2fc-4906-a62e-6f6610bcbdbb",
   "metadata": {},
   "source": [
    "Create centroids with unique id"
   ]
  },
  {
   "cell_type": "code",
   "execution_count": 8,
   "id": "965e9021-e463-4500-85e8-cb275f02d69a",
   "metadata": {},
   "outputs": [],
   "source": [
    "if 'fid' not in gdf.columns:\n",
    "    gdf = gdf.reset_index().rename(columns={'index':'fid'})"
   ]
  },
  {
   "cell_type": "code",
   "execution_count": 21,
   "id": "49ccc59e-f184-44f2-875c-dc78db460bde",
   "metadata": {},
   "outputs": [],
   "source": [
    "gdf_cnt = gdf[['fid','geometry']].copy()\n",
    "gdf_cnt['geometry'] = gdf_cnt.centroid"
   ]
  },
  {
   "cell_type": "markdown",
   "id": "e83190e9-763e-4d18-955a-ac4c2f7d4260",
   "metadata": {},
   "source": [
    "Interpolate proximity data"
   ]
  },
  {
   "cell_type": "code",
   "execution_count": 22,
   "id": "4f224873-3f83-4c95-8d84-85e1f740a48b",
   "metadata": {},
   "outputs": [
    {
     "name": "stdout",
     "output_type": "stream",
     "text": [
      "Finished processing denue_primaria\n",
      "Finished processing denue_primaria_15min\n",
      "Finished processing denue_abarrotes\n",
      "Finished processing denue_abarrotes_15min\n",
      "Finished processing denue_peluqueria\n",
      "Finished processing denue_peluqueria_15min\n",
      "Finished processing denue_lavanderia\n",
      "Finished processing denue_lavanderia_15min\n",
      "Finished processing clues_primer_nivel\n",
      "Finished processing clues_primer_nivel_15min\n"
     ]
    }
   ],
   "source": [
    "for col in cols:\n",
    "    if (col != 'osmid') and (col != 'geometry'):\n",
    "        int_vals = aup.interpolate_at_points(prox_nodes.centroid.x,\n",
    "                                         prox_nodes.centroid.y, \n",
    "                                         prox_nodes[col],\n",
    "                                         gdf_cnt.geometry.x, \n",
    "                                         gdf_cnt.geometry.y,\n",
    "                                        power=2,\n",
    "                                        search_radius=300)\n",
    "        \n",
    "        gdf_cnt[col] = int_vals\n",
    "        print('Finished processing',col)\n",
    "        "
   ]
  },
  {
   "cell_type": "markdown",
   "id": "67b495d8-fb62-4c9e-9255-c7130ad12c19",
   "metadata": {},
   "source": [
    "Merge data"
   ]
  },
  {
   "cell_type": "code",
   "execution_count": 23,
   "id": "25a6878b-9d83-438d-a8cf-31edc8710033",
   "metadata": {},
   "outputs": [
    {
     "name": "stdout",
     "output_type": "stream",
     "text": [
      "(37061, 43)\n"
     ]
    },
    {
     "data": {
      "text/html": [
       "<div>\n",
       "<style scoped>\n",
       "    .dataframe tbody tr th:only-of-type {\n",
       "        vertical-align: middle;\n",
       "    }\n",
       "\n",
       "    .dataframe tbody tr th {\n",
       "        vertical-align: top;\n",
       "    }\n",
       "\n",
       "    .dataframe thead th {\n",
       "        text-align: right;\n",
       "    }\n",
       "</style>\n",
       "<table border=\"1\" class=\"dataframe\">\n",
       "  <thead>\n",
       "    <tr style=\"text-align: right;\">\n",
       "      <th></th>\n",
       "      <th>fid</th>\n",
       "      <th>uso_suelo</th>\n",
       "      <th>area_m2</th>\n",
       "      <th>full_plus_code</th>\n",
       "      <th>CVEGEO</th>\n",
       "      <th>bld_area_m2</th>\n",
       "      <th>block_area_m2</th>\n",
       "      <th>pred_area_m2</th>\n",
       "      <th>pred_area_pct</th>\n",
       "      <th>bld_pred_area_pct</th>\n",
       "      <th>...</th>\n",
       "      <th>denue_primaria</th>\n",
       "      <th>denue_primaria_15min</th>\n",
       "      <th>denue_abarrotes</th>\n",
       "      <th>denue_abarrotes_15min</th>\n",
       "      <th>denue_peluqueria</th>\n",
       "      <th>denue_peluqueria_15min</th>\n",
       "      <th>denue_lavanderia</th>\n",
       "      <th>denue_lavanderia_15min</th>\n",
       "      <th>clues_primer_nivel</th>\n",
       "      <th>clues_primer_nivel_15min</th>\n",
       "    </tr>\n",
       "  </thead>\n",
       "  <tbody>\n",
       "    <tr>\n",
       "      <th>0</th>\n",
       "      <td>0</td>\n",
       "      <td>Servicio</td>\n",
       "      <td>2257.817773</td>\n",
       "      <td>75GRMHR2+458V</td>\n",
       "      <td>1412000011206018</td>\n",
       "      <td>173.7348</td>\n",
       "      <td>278416.454431</td>\n",
       "      <td>2747.599834</td>\n",
       "      <td>0.009869</td>\n",
       "      <td>0.063231</td>\n",
       "      <td>...</td>\n",
       "      <td>22.802883</td>\n",
       "      <td>0.0</td>\n",
       "      <td>7.696036</td>\n",
       "      <td>5.772197</td>\n",
       "      <td>8.017103</td>\n",
       "      <td>7.950595</td>\n",
       "      <td>8.005108</td>\n",
       "      <td>3.557762</td>\n",
       "      <td>16.196502</td>\n",
       "      <td>0.555897</td>\n",
       "    </tr>\n",
       "    <tr>\n",
       "      <th>1</th>\n",
       "      <td>1</td>\n",
       "      <td>Sin dato</td>\n",
       "      <td>711.098560</td>\n",
       "      <td>75GRMGRX+GQP3</td>\n",
       "      <td>1412000011206018</td>\n",
       "      <td>81.7922</td>\n",
       "      <td>278416.454431</td>\n",
       "      <td>900.765482</td>\n",
       "      <td>0.003235</td>\n",
       "      <td>0.090803</td>\n",
       "      <td>...</td>\n",
       "      <td>22.885795</td>\n",
       "      <td>0.0</td>\n",
       "      <td>6.115355</td>\n",
       "      <td>3.994591</td>\n",
       "      <td>6.128543</td>\n",
       "      <td>6.752205</td>\n",
       "      <td>6.148625</td>\n",
       "      <td>2.126203</td>\n",
       "      <td>18.010403</td>\n",
       "      <td>0.042501</td>\n",
       "    </tr>\n",
       "  </tbody>\n",
       "</table>\n",
       "<p>2 rows × 43 columns</p>\n",
       "</div>"
      ],
      "text/plain": [
       "   fid uso_suelo      area_m2 full_plus_code            CVEGEO  bld_area_m2  \\\n",
       "0    0  Servicio  2257.817773  75GRMHR2+458V  1412000011206018     173.7348   \n",
       "1    1  Sin dato   711.098560  75GRMGRX+GQP3  1412000011206018      81.7922   \n",
       "\n",
       "   block_area_m2  pred_area_m2  pred_area_pct  bld_pred_area_pct  ...  \\\n",
       "0  278416.454431   2747.599834       0.009869           0.063231  ...   \n",
       "1  278416.454431    900.765482       0.003235           0.090803  ...   \n",
       "\n",
       "   denue_primaria  denue_primaria_15min  denue_abarrotes  \\\n",
       "0       22.802883                   0.0         7.696036   \n",
       "1       22.885795                   0.0         6.115355   \n",
       "\n",
       "   denue_abarrotes_15min  denue_peluqueria  denue_peluqueria_15min  \\\n",
       "0               5.772197          8.017103                7.950595   \n",
       "1               3.994591          6.128543                6.752205   \n",
       "\n",
       "   denue_lavanderia  denue_lavanderia_15min  clues_primer_nivel  \\\n",
       "0          8.005108                3.557762           16.196502   \n",
       "1          6.148625                2.126203           18.010403   \n",
       "\n",
       "   clues_primer_nivel_15min  \n",
       "0                  0.555897  \n",
       "1                  0.042501  \n",
       "\n",
       "[2 rows x 43 columns]"
      ]
     },
     "execution_count": 23,
     "metadata": {},
     "output_type": "execute_result"
    }
   ],
   "source": [
    "gdf = gdf.merge(gdf_cnt.drop(columns=['geometry']),\n",
    "               on='fid')\n",
    "print(gdf.shape)\n",
    "gdf.head(2)"
   ]
  },
  {
   "cell_type": "markdown",
   "id": "f421b8c6-1496-48be-b7f0-772bb66d412b",
   "metadata": {},
   "source": [
    "## Save"
   ]
  },
  {
   "cell_type": "code",
   "execution_count": 24,
   "id": "cd7cd68f-5edd-4f05-9bcd-04792e747050",
   "metadata": {},
   "outputs": [],
   "source": [
    "gdf.to_file('../../data/processed/prediccion_uso_suelo/test/area_of_prediction_prox.gpkg')"
   ]
  },
  {
   "cell_type": "code",
   "execution_count": null,
   "id": "8b5cffe6-f3eb-47c0-91c4-aadbca104adc",
   "metadata": {},
   "outputs": [],
   "source": []
  }
 ],
 "metadata": {
  "kernelspec": {
   "display_name": "Python 3 (ipykernel)",
   "language": "python",
   "name": "python3"
  },
  "language_info": {
   "codemirror_mode": {
    "name": "ipython",
    "version": 3
   },
   "file_extension": ".py",
   "mimetype": "text/x-python",
   "name": "python",
   "nbconvert_exporter": "python",
   "pygments_lexer": "ipython3",
   "version": "3.11.11"
  }
 },
 "nbformat": 4,
 "nbformat_minor": 5
}
