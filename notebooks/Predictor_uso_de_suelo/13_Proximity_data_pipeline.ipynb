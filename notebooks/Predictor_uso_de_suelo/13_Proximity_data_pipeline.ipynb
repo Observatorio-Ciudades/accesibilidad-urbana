{
 "cells": [
  {
   "cell_type": "markdown",
   "id": "963673fb-a792-4a0e-9955-5f9984425432",
   "metadata": {},
   "source": [
    "# Proximity data to Area of Prediction"
   ]
  },
  {
   "cell_type": "markdown",
   "id": "920ccfd1-08a1-4241-8405-1943e7552684",
   "metadata": {},
   "source": [
    "This notebook contains the processes that interpolate proximity to certain amenities to the are of prediction."
   ]
  },
  {
   "cell_type": "markdown",
   "id": "fa6ee1db-7422-47af-aa73-566fdad549b4",
   "metadata": {},
   "source": [
    "## Import libraries"
   ]
  },
  {
   "cell_type": "code",
   "execution_count": 1,
   "id": "5ea3f32e-2869-4fe8-b01d-739254641f79",
   "metadata": {},
   "outputs": [],
   "source": [
    "import geopandas as gpd\n",
    "import pandas as pd\n",
    "import numpy as np\n",
    "\n",
    "import matplotlib.pyplot as plt\n",
    "import seaborn as sns\n",
    "\n",
    "import aup"
   ]
  },
  {
   "cell_type": "markdown",
   "id": "e68edde5-197b-4009-b0cb-e001f869185a",
   "metadata": {},
   "source": [
    "## Data download/read and preprocessing"
   ]
  },
  {
   "cell_type": "markdown",
   "id": "24c53c07-fabb-426c-855b-ea32656a7fb3",
   "metadata": {},
   "source": [
    "### Area of analysis"
   ]
  },
  {
   "cell_type": "code",
   "execution_count": 2,
   "id": "a33986db-d148-4b53-8250-b4f2a23438a6",
   "metadata": {},
   "outputs": [
    {
     "name": "stdout",
     "output_type": "stream",
     "text": [
      "(1, 2)\n"
     ]
    },
    {
     "data": {
      "text/html": [
       "<div>\n",
       "<style scoped>\n",
       "    .dataframe tbody tr th:only-of-type {\n",
       "        vertical-align: middle;\n",
       "    }\n",
       "\n",
       "    .dataframe tbody tr th {\n",
       "        vertical-align: top;\n",
       "    }\n",
       "\n",
       "    .dataframe thead th {\n",
       "        text-align: right;\n",
       "    }\n",
       "</style>\n",
       "<table border=\"1\" class=\"dataframe\">\n",
       "  <thead>\n",
       "    <tr style=\"text-align: right;\">\n",
       "      <th></th>\n",
       "      <th>id</th>\n",
       "      <th>geometry</th>\n",
       "    </tr>\n",
       "  </thead>\n",
       "  <tbody>\n",
       "    <tr>\n",
       "      <th>0</th>\n",
       "      <td>1</td>\n",
       "      <td>POLYGON ((-103.4233 20.91026, -103.42209 20.91...</td>\n",
       "    </tr>\n",
       "  </tbody>\n",
       "</table>\n",
       "</div>"
      ],
      "text/plain": [
       "   id                                           geometry\n",
       "0   1  POLYGON ((-103.4233 20.91026, -103.42209 20.91..."
      ]
     },
     "execution_count": 2,
     "metadata": {},
     "output_type": "execute_result"
    }
   ],
   "source": [
    "aoa_gdf = gpd.read_file(\"../../data/processed/prediccion_uso_suelo/Distrito/distrito.shp\")\n",
    "print(aoa_gdf.shape)\n",
    "aoa_gdf.head(2)"
   ]
  },
  {
   "cell_type": "markdown",
   "id": "8ba5d68d-864a-4d2f-abb8-3faf4778002a",
   "metadata": {},
   "source": [
    "### Area of prediction with variables"
   ]
  },
  {
   "cell_type": "code",
   "execution_count": 3,
   "id": "c6841e1a-c4dd-452f-b6ec-40e64163c911",
   "metadata": {},
   "outputs": [
    {
     "name": "stdout",
     "output_type": "stream",
     "text": [
      "(682585, 43)\n"
     ]
    },
    {
     "data": {
      "text/html": [
       "<div>\n",
       "<style scoped>\n",
       "    .dataframe tbody tr th:only-of-type {\n",
       "        vertical-align: middle;\n",
       "    }\n",
       "\n",
       "    .dataframe tbody tr th {\n",
       "        vertical-align: top;\n",
       "    }\n",
       "\n",
       "    .dataframe thead th {\n",
       "        text-align: right;\n",
       "    }\n",
       "</style>\n",
       "<table border=\"1\" class=\"dataframe\">\n",
       "  <thead>\n",
       "    <tr style=\"text-align: right;\">\n",
       "      <th></th>\n",
       "      <th>uso_suelo</th>\n",
       "      <th>area_m2</th>\n",
       "      <th>full_plus_code</th>\n",
       "      <th>CVEGEO</th>\n",
       "      <th>bld_area_m2</th>\n",
       "      <th>block_area_m2</th>\n",
       "      <th>pred_area_m2</th>\n",
       "      <th>pred_area_pct</th>\n",
       "      <th>bld_pred_area_pct</th>\n",
       "      <th>pobtot</th>\n",
       "      <th>...</th>\n",
       "      <th>temperature_mean_diff</th>\n",
       "      <th>ndvi_mean</th>\n",
       "      <th>ndmi_diff</th>\n",
       "      <th>motorway_distance</th>\n",
       "      <th>primary_distance</th>\n",
       "      <th>secondary_distance</th>\n",
       "      <th>tertiary_distance</th>\n",
       "      <th>residential_distance</th>\n",
       "      <th>other_distance</th>\n",
       "      <th>geometry</th>\n",
       "    </tr>\n",
       "  </thead>\n",
       "  <tbody>\n",
       "    <tr>\n",
       "      <th>0</th>\n",
       "      <td>Sin dato</td>\n",
       "      <td>67.279056</td>\n",
       "      <td>75GRMGQW+89PG</td>\n",
       "      <td>1412000011206018</td>\n",
       "      <td>12.438638</td>\n",
       "      <td>278416.454431</td>\n",
       "      <td>67.279056</td>\n",
       "      <td>0.000242</td>\n",
       "      <td>0.184881</td>\n",
       "      <td>0</td>\n",
       "      <td>...</td>\n",
       "      <td>1.787026</td>\n",
       "      <td>0.084339</td>\n",
       "      <td>0.045966</td>\n",
       "      <td>173.493879</td>\n",
       "      <td>346.922028</td>\n",
       "      <td>83.7398</td>\n",
       "      <td>480.266657</td>\n",
       "      <td>24.764744</td>\n",
       "      <td>12.801915</td>\n",
       "      <td>MULTIPOLYGON (((-103.45405 20.68833, -103.4541...</td>\n",
       "    </tr>\n",
       "    <tr>\n",
       "      <th>1</th>\n",
       "      <td>Sin dato</td>\n",
       "      <td>45.355545</td>\n",
       "      <td>75GRMGQW+8CFP</td>\n",
       "      <td>1412000011206018</td>\n",
       "      <td>4.482118</td>\n",
       "      <td>278416.454431</td>\n",
       "      <td>45.355545</td>\n",
       "      <td>0.000163</td>\n",
       "      <td>0.098822</td>\n",
       "      <td>0</td>\n",
       "      <td>...</td>\n",
       "      <td>1.649216</td>\n",
       "      <td>0.109751</td>\n",
       "      <td>0.045719</td>\n",
       "      <td>173.493879</td>\n",
       "      <td>346.922028</td>\n",
       "      <td>83.7398</td>\n",
       "      <td>480.266657</td>\n",
       "      <td>24.764744</td>\n",
       "      <td>12.801915</td>\n",
       "      <td>MULTIPOLYGON (((-103.4539 20.68833, -103.454 2...</td>\n",
       "    </tr>\n",
       "  </tbody>\n",
       "</table>\n",
       "<p>2 rows × 43 columns</p>\n",
       "</div>"
      ],
      "text/plain": [
       "  uso_suelo    area_m2 full_plus_code            CVEGEO  bld_area_m2  \\\n",
       "0  Sin dato  67.279056  75GRMGQW+89PG  1412000011206018    12.438638   \n",
       "1  Sin dato  45.355545  75GRMGQW+8CFP  1412000011206018     4.482118   \n",
       "\n",
       "   block_area_m2  pred_area_m2  pred_area_pct  bld_pred_area_pct  pobtot  ...  \\\n",
       "0  278416.454431     67.279056       0.000242           0.184881       0  ...   \n",
       "1  278416.454431     45.355545       0.000163           0.098822       0  ...   \n",
       "\n",
       "   temperature_mean_diff  ndvi_mean  ndmi_diff  motorway_distance  \\\n",
       "0               1.787026   0.084339   0.045966         173.493879   \n",
       "1               1.649216   0.109751   0.045719         173.493879   \n",
       "\n",
       "   primary_distance  secondary_distance  tertiary_distance  \\\n",
       "0        346.922028             83.7398         480.266657   \n",
       "1        346.922028             83.7398         480.266657   \n",
       "\n",
       "   residential_distance  other_distance  \\\n",
       "0             24.764744       12.801915   \n",
       "1             24.764744       12.801915   \n",
       "\n",
       "                                            geometry  \n",
       "0  MULTIPOLYGON (((-103.45405 20.68833, -103.4541...  \n",
       "1  MULTIPOLYGON (((-103.4539 20.68833, -103.454 2...  \n",
       "\n",
       "[2 rows x 43 columns]"
      ]
     },
     "execution_count": 3,
     "metadata": {},
     "output_type": "execute_result"
    }
   ],
   "source": [
    "gdf = gpd.read_file('../../data/processed/prediccion_uso_suelo/complete_model/area_of_prediction_roads.gpkg')\n",
    "print(gdf.shape)\n",
    "gdf.head(2)"
   ]
  },
  {
   "cell_type": "markdown",
   "id": "4906019c-d87a-4897-917a-9df958cc98b3",
   "metadata": {},
   "source": [
    "### Proximity data"
   ]
  },
  {
   "cell_type": "code",
   "execution_count": 4,
   "id": "5b3a58e2-d337-4a72-8c18-c6846cdb48f9",
   "metadata": {},
   "outputs": [
    {
     "data": {
      "text/html": [
       "<div>\n",
       "<style scoped>\n",
       "    .dataframe tbody tr th:only-of-type {\n",
       "        vertical-align: middle;\n",
       "    }\n",
       "\n",
       "    .dataframe tbody tr th {\n",
       "        vertical-align: top;\n",
       "    }\n",
       "\n",
       "    .dataframe thead th {\n",
       "        text-align: right;\n",
       "    }\n",
       "</style>\n",
       "<table border=\"1\" class=\"dataframe\">\n",
       "  <thead>\n",
       "    <tr style=\"text-align: right;\">\n",
       "      <th></th>\n",
       "      <th>geometry</th>\n",
       "    </tr>\n",
       "  </thead>\n",
       "  <tbody>\n",
       "    <tr>\n",
       "      <th>0</th>\n",
       "      <td>POLYGON ((-103.592 20.74856, -103.59219 20.748...</td>\n",
       "    </tr>\n",
       "  </tbody>\n",
       "</table>\n",
       "</div>"
      ],
      "text/plain": [
       "                                            geometry\n",
       "0  POLYGON ((-103.592 20.74856, -103.59219 20.748..."
      ]
     },
     "execution_count": 4,
     "metadata": {},
     "output_type": "execute_result"
    }
   ],
   "source": [
    "buffer = aoa_gdf.to_crs(\"EPSG:6372\").buffer(100)\n",
    "buffer = gpd.GeoDataFrame(geometry = buffer)\n",
    "buffer = buffer.to_crs(\"EPSG:4326\")\n",
    "buffer"
   ]
  },
  {
   "cell_type": "code",
   "execution_count": 5,
   "id": "14ccab30-5141-4e80-a758-91c27d08d0b8",
   "metadata": {},
   "outputs": [
    {
     "name": "stdout",
     "output_type": "stream",
     "text": [
      "(63320, 69)\n"
     ]
    },
    {
     "data": {
      "text/html": [
       "<div>\n",
       "<style scoped>\n",
       "    .dataframe tbody tr th:only-of-type {\n",
       "        vertical-align: middle;\n",
       "    }\n",
       "\n",
       "    .dataframe tbody tr th {\n",
       "        vertical-align: top;\n",
       "    }\n",
       "\n",
       "    .dataframe thead th {\n",
       "        text-align: right;\n",
       "    }\n",
       "</style>\n",
       "<table border=\"1\" class=\"dataframe\">\n",
       "  <thead>\n",
       "    <tr style=\"text-align: right;\">\n",
       "      <th></th>\n",
       "      <th>osmid</th>\n",
       "      <th>denue_preescolar</th>\n",
       "      <th>denue_preescolar_15min</th>\n",
       "      <th>denue_primaria</th>\n",
       "      <th>denue_primaria_15min</th>\n",
       "      <th>denue_secundaria</th>\n",
       "      <th>denue_secundaria_15min</th>\n",
       "      <th>clues_primer_nivel</th>\n",
       "      <th>clues_primer_nivel_15min</th>\n",
       "      <th>denue_guarderias</th>\n",
       "      <th>...</th>\n",
       "      <th>denue_museos</th>\n",
       "      <th>denue_museos_15min</th>\n",
       "      <th>denue_bibliotecas</th>\n",
       "      <th>denue_bibliotecas_15min</th>\n",
       "      <th>denue_centrocultural</th>\n",
       "      <th>denue_centrocultural_15min</th>\n",
       "      <th>x</th>\n",
       "      <th>y</th>\n",
       "      <th>geometry</th>\n",
       "      <th>city</th>\n",
       "    </tr>\n",
       "  </thead>\n",
       "  <tbody>\n",
       "    <tr>\n",
       "      <th>0</th>\n",
       "      <td>273146454</td>\n",
       "      <td>2.454897</td>\n",
       "      <td>4</td>\n",
       "      <td>4.260768</td>\n",
       "      <td>1</td>\n",
       "      <td>15.860206</td>\n",
       "      <td>0</td>\n",
       "      <td>3.041695</td>\n",
       "      <td>11</td>\n",
       "      <td>17.525910</td>\n",
       "      <td>...</td>\n",
       "      <td>39.703464</td>\n",
       "      <td>0</td>\n",
       "      <td>17.089605</td>\n",
       "      <td>0</td>\n",
       "      <td>81.541184</td>\n",
       "      <td>0</td>\n",
       "      <td>-103.406217</td>\n",
       "      <td>20.671926</td>\n",
       "      <td>POINT (-103.40622 20.67193)</td>\n",
       "      <td>Guadalajara</td>\n",
       "    </tr>\n",
       "    <tr>\n",
       "      <th>1</th>\n",
       "      <td>273146456</td>\n",
       "      <td>8.036414</td>\n",
       "      <td>3</td>\n",
       "      <td>13.708478</td>\n",
       "      <td>1</td>\n",
       "      <td>15.150906</td>\n",
       "      <td>0</td>\n",
       "      <td>7.928151</td>\n",
       "      <td>5</td>\n",
       "      <td>20.507703</td>\n",
       "      <td>...</td>\n",
       "      <td>47.302564</td>\n",
       "      <td>0</td>\n",
       "      <td>27.638295</td>\n",
       "      <td>0</td>\n",
       "      <td>85.996093</td>\n",
       "      <td>0</td>\n",
       "      <td>-103.411528</td>\n",
       "      <td>20.674774</td>\n",
       "      <td>POINT (-103.41153 20.67477)</td>\n",
       "      <td>Guadalajara</td>\n",
       "    </tr>\n",
       "  </tbody>\n",
       "</table>\n",
       "<p>2 rows × 69 columns</p>\n",
       "</div>"
      ],
      "text/plain": [
       "       osmid  denue_preescolar  denue_preescolar_15min  denue_primaria  \\\n",
       "0  273146454          2.454897                       4        4.260768   \n",
       "1  273146456          8.036414                       3       13.708478   \n",
       "\n",
       "   denue_primaria_15min  denue_secundaria  denue_secundaria_15min  \\\n",
       "0                     1         15.860206                       0   \n",
       "1                     1         15.150906                       0   \n",
       "\n",
       "   clues_primer_nivel  clues_primer_nivel_15min  denue_guarderias  ...  \\\n",
       "0            3.041695                        11         17.525910  ...   \n",
       "1            7.928151                         5         20.507703  ...   \n",
       "\n",
       "   denue_museos  denue_museos_15min  denue_bibliotecas  \\\n",
       "0     39.703464                   0          17.089605   \n",
       "1     47.302564                   0          27.638295   \n",
       "\n",
       "   denue_bibliotecas_15min  denue_centrocultural  denue_centrocultural_15min  \\\n",
       "0                        0             81.541184                           0   \n",
       "1                        0             85.996093                           0   \n",
       "\n",
       "            x          y                     geometry         city  \n",
       "0 -103.406217  20.671926  POINT (-103.40622 20.67193)  Guadalajara  \n",
       "1 -103.411528  20.674774  POINT (-103.41153 20.67477)  Guadalajara  \n",
       "\n",
       "[2 rows x 69 columns]"
      ]
     },
     "execution_count": 5,
     "metadata": {},
     "output_type": "execute_result"
    }
   ],
   "source": [
    "table = 'proximity_v2_23_point'\n",
    "schema = 'prox_analysis'\n",
    "\n",
    "prox_nodes = aup.gdf_from_polygon(buffer, schema, table)\n",
    "\n",
    "print(prox_nodes.shape)\n",
    "prox_nodes.head(2)"
   ]
  },
  {
   "cell_type": "markdown",
   "id": "02dd29e5-0a9f-4452-b2ff-18c556df339d",
   "metadata": {},
   "source": [
    "Filter proximity elements"
   ]
  },
  {
   "cell_type": "code",
   "execution_count": 6,
   "id": "686a1af2-6a2a-4c64-9755-dddb941c0be1",
   "metadata": {},
   "outputs": [
    {
     "name": "stdout",
     "output_type": "stream",
     "text": [
      "(63320, 12)\n"
     ]
    },
    {
     "data": {
      "text/html": [
       "<div>\n",
       "<style scoped>\n",
       "    .dataframe tbody tr th:only-of-type {\n",
       "        vertical-align: middle;\n",
       "    }\n",
       "\n",
       "    .dataframe tbody tr th {\n",
       "        vertical-align: top;\n",
       "    }\n",
       "\n",
       "    .dataframe thead th {\n",
       "        text-align: right;\n",
       "    }\n",
       "</style>\n",
       "<table border=\"1\" class=\"dataframe\">\n",
       "  <thead>\n",
       "    <tr style=\"text-align: right;\">\n",
       "      <th></th>\n",
       "      <th>osmid</th>\n",
       "      <th>denue_primaria</th>\n",
       "      <th>denue_primaria_15min</th>\n",
       "      <th>denue_abarrotes</th>\n",
       "      <th>denue_abarrotes_15min</th>\n",
       "      <th>denue_peluqueria</th>\n",
       "      <th>denue_peluqueria_15min</th>\n",
       "      <th>denue_lavanderia</th>\n",
       "      <th>denue_lavanderia_15min</th>\n",
       "      <th>clues_primer_nivel</th>\n",
       "      <th>clues_primer_nivel_15min</th>\n",
       "      <th>geometry</th>\n",
       "    </tr>\n",
       "  </thead>\n",
       "  <tbody>\n",
       "    <tr>\n",
       "      <th>0</th>\n",
       "      <td>273146454</td>\n",
       "      <td>4.260768</td>\n",
       "      <td>1</td>\n",
       "      <td>3.563373</td>\n",
       "      <td>6</td>\n",
       "      <td>2.454897</td>\n",
       "      <td>36</td>\n",
       "      <td>9.127368</td>\n",
       "      <td>8</td>\n",
       "      <td>3.041695</td>\n",
       "      <td>11</td>\n",
       "      <td>POINT (-103.40622 20.67193)</td>\n",
       "    </tr>\n",
       "    <tr>\n",
       "      <th>1</th>\n",
       "      <td>273146456</td>\n",
       "      <td>13.708478</td>\n",
       "      <td>1</td>\n",
       "      <td>6.549081</td>\n",
       "      <td>5</td>\n",
       "      <td>6.014812</td>\n",
       "      <td>26</td>\n",
       "      <td>13.846584</td>\n",
       "      <td>2</td>\n",
       "      <td>7.928151</td>\n",
       "      <td>5</td>\n",
       "      <td>POINT (-103.41153 20.67477)</td>\n",
       "    </tr>\n",
       "  </tbody>\n",
       "</table>\n",
       "</div>"
      ],
      "text/plain": [
       "       osmid  denue_primaria  denue_primaria_15min  denue_abarrotes  \\\n",
       "0  273146454        4.260768                     1         3.563373   \n",
       "1  273146456       13.708478                     1         6.549081   \n",
       "\n",
       "   denue_abarrotes_15min  denue_peluqueria  denue_peluqueria_15min  \\\n",
       "0                      6          2.454897                      36   \n",
       "1                      5          6.014812                      26   \n",
       "\n",
       "   denue_lavanderia  denue_lavanderia_15min  clues_primer_nivel  \\\n",
       "0          9.127368                       8            3.041695   \n",
       "1         13.846584                       2            7.928151   \n",
       "\n",
       "   clues_primer_nivel_15min                     geometry  \n",
       "0                        11  POINT (-103.40622 20.67193)  \n",
       "1                         5  POINT (-103.41153 20.67477)  "
      ]
     },
     "execution_count": 6,
     "metadata": {},
     "output_type": "execute_result"
    }
   ],
   "source": [
    "cols = ['osmid','denue_primaria','denue_primaria_15min',\n",
    "       'denue_abarrotes','denue_abarrotes_15min','denue_peluqueria',\n",
    "       'denue_peluqueria_15min','denue_lavanderia','denue_lavanderia_15min',\n",
    "       'clues_primer_nivel','clues_primer_nivel_15min','geometry']\n",
    "prox_nodes = prox_nodes[cols].copy()\n",
    "\n",
    "print(prox_nodes.shape)\n",
    "prox_nodes.head(2)"
   ]
  },
  {
   "cell_type": "markdown",
   "id": "f8667899-1a83-4db8-b6f7-f5c92f6bbf38",
   "metadata": {},
   "source": [
    "## Proximity to area of analysis"
   ]
  },
  {
   "cell_type": "markdown",
   "id": "8bb87aa9-5e91-41b3-826c-16e47db45ed6",
   "metadata": {},
   "source": [
    "Set CRS"
   ]
  },
  {
   "cell_type": "code",
   "execution_count": 7,
   "id": "73b4bf28-ad0b-46eb-8029-76910e0c09ea",
   "metadata": {},
   "outputs": [],
   "source": [
    "prox_nodes = prox_nodes.to_crs(\"EPSG:6372\")\n",
    "gdf = gdf.to_crs(\"EPSG:6372\")"
   ]
  },
  {
   "cell_type": "markdown",
   "id": "243f3e91-e2fc-4906-a62e-6f6610bcbdbb",
   "metadata": {},
   "source": [
    "Create centroids with unique id"
   ]
  },
  {
   "cell_type": "code",
   "execution_count": 8,
   "id": "965e9021-e463-4500-85e8-cb275f02d69a",
   "metadata": {},
   "outputs": [],
   "source": [
    "if 'fid' not in gdf.columns:\n",
    "    gdf = gdf.reset_index().rename(columns={'index':'fid'})"
   ]
  },
  {
   "cell_type": "code",
   "execution_count": 9,
   "id": "49ccc59e-f184-44f2-875c-dc78db460bde",
   "metadata": {},
   "outputs": [],
   "source": [
    "gdf_cnt = gdf[['fid','geometry']].copy()\n",
    "gdf_cnt['geometry'] = gdf_cnt.centroid"
   ]
  },
  {
   "cell_type": "markdown",
   "id": "e83190e9-763e-4d18-955a-ac4c2f7d4260",
   "metadata": {},
   "source": [
    "Interpolate proximity data"
   ]
  },
  {
   "cell_type": "code",
   "execution_count": 10,
   "id": "4f224873-3f83-4c95-8d84-85e1f740a48b",
   "metadata": {},
   "outputs": [
    {
     "name": "stdout",
     "output_type": "stream",
     "text": [
      "Finished processing denue_primaria\n",
      "Finished processing denue_primaria_15min\n",
      "Finished processing denue_abarrotes\n",
      "Finished processing denue_abarrotes_15min\n",
      "Finished processing denue_peluqueria\n",
      "Finished processing denue_peluqueria_15min\n",
      "Finished processing denue_lavanderia\n",
      "Finished processing denue_lavanderia_15min\n",
      "Finished processing clues_primer_nivel\n",
      "Finished processing clues_primer_nivel_15min\n"
     ]
    }
   ],
   "source": [
    "for col in cols:\n",
    "    \n",
    "    if (col != 'osmid') and (col != 'geometry'):\n",
    "\n",
    "        division_value = 10000\n",
    "\n",
    "        gdf_int = gpd.GeoDataFrame()\n",
    "        \n",
    "        for i in range(round(len(gdf_cnt)/division_value)):\n",
    "            \n",
    "            gdf_tmp = gdf_cnt.iloc[i*division_value:\n",
    "            (i+1)*division_value].copy()\n",
    "            \n",
    "            int_vals = aup.interpolate_at_points(prox_nodes.centroid.x,\n",
    "                                             prox_nodes.centroid.y, \n",
    "                                             prox_nodes[col],\n",
    "                                             gdf_tmp.geometry.x, \n",
    "                                             gdf_tmp.geometry.y,\n",
    "                                            power=2,\n",
    "                                            search_radius=300)\n",
    "            gdf_tmp[col] = int_vals\n",
    "\n",
    "            gdf_int = pd.concat([gdf_int,gdf_tmp])\n",
    "        \n",
    "        gdf_cnt = gdf_cnt.merge(gdf_int[['fid',col]], on='fid')\n",
    "        print('Finished processing',col)\n",
    "        "
   ]
  },
  {
   "cell_type": "markdown",
   "id": "67b495d8-fb62-4c9e-9255-c7130ad12c19",
   "metadata": {},
   "source": [
    "Merge data"
   ]
  },
  {
   "cell_type": "code",
   "execution_count": 13,
   "id": "25a6878b-9d83-438d-a8cf-31edc8710033",
   "metadata": {},
   "outputs": [
    {
     "name": "stdout",
     "output_type": "stream",
     "text": [
      "(680000, 64)\n"
     ]
    },
    {
     "data": {
      "text/html": [
       "<div>\n",
       "<style scoped>\n",
       "    .dataframe tbody tr th:only-of-type {\n",
       "        vertical-align: middle;\n",
       "    }\n",
       "\n",
       "    .dataframe tbody tr th {\n",
       "        vertical-align: top;\n",
       "    }\n",
       "\n",
       "    .dataframe thead th {\n",
       "        text-align: right;\n",
       "    }\n",
       "</style>\n",
       "<table border=\"1\" class=\"dataframe\">\n",
       "  <thead>\n",
       "    <tr style=\"text-align: right;\">\n",
       "      <th></th>\n",
       "      <th>fid</th>\n",
       "      <th>uso_suelo</th>\n",
       "      <th>area_m2</th>\n",
       "      <th>full_plus_code</th>\n",
       "      <th>CVEGEO</th>\n",
       "      <th>bld_area_m2</th>\n",
       "      <th>block_area_m2</th>\n",
       "      <th>pred_area_m2</th>\n",
       "      <th>pred_area_pct</th>\n",
       "      <th>bld_pred_area_pct</th>\n",
       "      <th>...</th>\n",
       "      <th>denue_primaria_y</th>\n",
       "      <th>denue_primaria_15min_y</th>\n",
       "      <th>denue_abarrotes_y</th>\n",
       "      <th>denue_abarrotes_15min_y</th>\n",
       "      <th>denue_peluqueria_y</th>\n",
       "      <th>denue_peluqueria_15min_y</th>\n",
       "      <th>denue_lavanderia_y</th>\n",
       "      <th>denue_lavanderia_15min_y</th>\n",
       "      <th>clues_primer_nivel_y</th>\n",
       "      <th>clues_primer_nivel_15min_y</th>\n",
       "    </tr>\n",
       "  </thead>\n",
       "  <tbody>\n",
       "    <tr>\n",
       "      <th>0</th>\n",
       "      <td>0</td>\n",
       "      <td>Sin dato</td>\n",
       "      <td>67.279056</td>\n",
       "      <td>75GRMGQW+89PG</td>\n",
       "      <td>1412000011206018</td>\n",
       "      <td>12.438638</td>\n",
       "      <td>278416.454431</td>\n",
       "      <td>67.279056</td>\n",
       "      <td>0.000242</td>\n",
       "      <td>0.184881</td>\n",
       "      <td>...</td>\n",
       "      <td>21.278480</td>\n",
       "      <td>0.688413</td>\n",
       "      <td>11.817491</td>\n",
       "      <td>3.199180</td>\n",
       "      <td>12.878340</td>\n",
       "      <td>3.440951</td>\n",
       "      <td>13.706626</td>\n",
       "      <td>1.476592</td>\n",
       "      <td>18.913284</td>\n",
       "      <td>0.358167</td>\n",
       "    </tr>\n",
       "    <tr>\n",
       "      <th>1</th>\n",
       "      <td>1</td>\n",
       "      <td>Sin dato</td>\n",
       "      <td>45.355545</td>\n",
       "      <td>75GRMGQW+8CFP</td>\n",
       "      <td>1412000011206018</td>\n",
       "      <td>4.482118</td>\n",
       "      <td>278416.454431</td>\n",
       "      <td>45.355545</td>\n",
       "      <td>0.000163</td>\n",
       "      <td>0.098822</td>\n",
       "      <td>...</td>\n",
       "      <td>19.011938</td>\n",
       "      <td>0.890523</td>\n",
       "      <td>11.070963</td>\n",
       "      <td>3.913038</td>\n",
       "      <td>12.435124</td>\n",
       "      <td>4.003971</td>\n",
       "      <td>13.505759</td>\n",
       "      <td>1.676774</td>\n",
       "      <td>16.916017</td>\n",
       "      <td>0.468920</td>\n",
       "    </tr>\n",
       "  </tbody>\n",
       "</table>\n",
       "<p>2 rows × 64 columns</p>\n",
       "</div>"
      ],
      "text/plain": [
       "   fid uso_suelo    area_m2 full_plus_code            CVEGEO  bld_area_m2  \\\n",
       "0    0  Sin dato  67.279056  75GRMGQW+89PG  1412000011206018    12.438638   \n",
       "1    1  Sin dato  45.355545  75GRMGQW+8CFP  1412000011206018     4.482118   \n",
       "\n",
       "   block_area_m2  pred_area_m2  pred_area_pct  bld_pred_area_pct  ...  \\\n",
       "0  278416.454431     67.279056       0.000242           0.184881  ...   \n",
       "1  278416.454431     45.355545       0.000163           0.098822  ...   \n",
       "\n",
       "   denue_primaria_y  denue_primaria_15min_y  denue_abarrotes_y  \\\n",
       "0         21.278480                0.688413          11.817491   \n",
       "1         19.011938                0.890523          11.070963   \n",
       "\n",
       "   denue_abarrotes_15min_y  denue_peluqueria_y  denue_peluqueria_15min_y  \\\n",
       "0                 3.199180           12.878340                  3.440951   \n",
       "1                 3.913038           12.435124                  4.003971   \n",
       "\n",
       "   denue_lavanderia_y  denue_lavanderia_15min_y  clues_primer_nivel_y  \\\n",
       "0           13.706626                  1.476592             18.913284   \n",
       "1           13.505759                  1.676774             16.916017   \n",
       "\n",
       "   clues_primer_nivel_15min_y  \n",
       "0                    0.358167  \n",
       "1                    0.468920  \n",
       "\n",
       "[2 rows x 64 columns]"
      ]
     },
     "execution_count": 13,
     "metadata": {},
     "output_type": "execute_result"
    }
   ],
   "source": [
    "gdf = gdf.merge(gdf_cnt.drop(columns=['geometry']),\n",
    "               on='fid')\n",
    "print(gdf.shape)\n",
    "gdf.head(2)"
   ]
  },
  {
   "cell_type": "markdown",
   "id": "f421b8c6-1496-48be-b7f0-772bb66d412b",
   "metadata": {},
   "source": [
    "## Save"
   ]
  },
  {
   "cell_type": "code",
   "execution_count": 12,
   "id": "cd7cd68f-5edd-4f05-9bcd-04792e747050",
   "metadata": {},
   "outputs": [],
   "source": [
    "gdf.to_file('../../data/processed/prediccion_uso_suelo/complete_model/area_of_prediction_prox.gpkg')"
   ]
  },
  {
   "cell_type": "code",
   "execution_count": null,
   "id": "8b5cffe6-f3eb-47c0-91c4-aadbca104adc",
   "metadata": {},
   "outputs": [],
   "source": []
  }
 ],
 "metadata": {
  "kernelspec": {
   "display_name": "Python 3 (ipykernel)",
   "language": "python",
   "name": "python3"
  },
  "language_info": {
   "codemirror_mode": {
    "name": "ipython",
    "version": 3
   },
   "file_extension": ".py",
   "mimetype": "text/x-python",
   "name": "python",
   "nbconvert_exporter": "python",
   "pygments_lexer": "ipython3",
   "version": "3.11.11"
  }
 },
 "nbformat": 4,
 "nbformat_minor": 5
}
