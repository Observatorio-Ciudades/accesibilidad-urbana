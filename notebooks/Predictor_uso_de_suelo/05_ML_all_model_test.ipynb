{
 "cells": [
  {
   "cell_type": "markdown",
   "id": "72c6c7a5-86d6-4770-807b-b3686944267c",
   "metadata": {},
   "source": [
    "# Landuse machine learning model -test-"
   ]
  },
  {
   "cell_type": "markdown",
   "id": "b6b25ea6-6203-41bf-ad5a-02b83d15cf19",
   "metadata": {},
   "source": [
    "This notebook integrates the first steps towards the development of a machine learning model for urban landuse prediction."
   ]
  },
  {
   "cell_type": "markdown",
   "id": "89a9447c-5c11-4cb4-9dac-f54cab2d7fe9",
   "metadata": {},
   "source": [
    "## Import libraries"
   ]
  },
  {
   "cell_type": "code",
   "execution_count": 9,
   "id": "e25dc53d-00e4-412e-a982-2911ca738145",
   "metadata": {},
   "outputs": [
    {
     "name": "stdout",
     "output_type": "stream",
     "text": [
      "Collecting tensorflow\n",
      "  Downloading tensorflow-2.19.0-cp39-cp39-manylinux_2_17_x86_64.manylinux2014_x86_64.whl.metadata (4.1 kB)\n",
      "Requirement already satisfied: absl-py>=1.0.0 in /opt/conda/envs/gds/lib/python3.9/site-packages (from tensorflow) (2.2.2)\n",
      "Collecting astunparse>=1.6.0 (from tensorflow)\n",
      "  Downloading astunparse-1.6.3-py2.py3-none-any.whl.metadata (4.4 kB)\n",
      "Collecting flatbuffers>=24.3.25 (from tensorflow)\n",
      "  Downloading flatbuffers-25.2.10-py2.py3-none-any.whl.metadata (875 bytes)\n",
      "Collecting gast!=0.5.0,!=0.5.1,!=0.5.2,>=0.2.1 (from tensorflow)\n",
      "  Downloading gast-0.6.0-py3-none-any.whl.metadata (1.3 kB)\n",
      "Collecting google-pasta>=0.1.1 (from tensorflow)\n",
      "  Downloading google_pasta-0.2.0-py3-none-any.whl.metadata (814 bytes)\n",
      "Collecting libclang>=13.0.0 (from tensorflow)\n",
      "  Downloading libclang-18.1.1-py2.py3-none-manylinux2010_x86_64.whl.metadata (5.2 kB)\n",
      "Collecting opt-einsum>=2.3.2 (from tensorflow)\n",
      "  Downloading opt_einsum-3.4.0-py3-none-any.whl.metadata (6.3 kB)\n",
      "Requirement already satisfied: packaging in /opt/conda/envs/gds/lib/python3.9/site-packages (from tensorflow) (23.2)\n",
      "Requirement already satisfied: protobuf!=4.21.0,!=4.21.1,!=4.21.2,!=4.21.3,!=4.21.4,!=4.21.5,<6.0.0dev,>=3.20.3 in /opt/conda/envs/gds/lib/python3.9/site-packages (from tensorflow) (4.24.3)\n",
      "Requirement already satisfied: requests<3,>=2.21.0 in /opt/conda/envs/gds/lib/python3.9/site-packages (from tensorflow) (2.31.0)\n",
      "Requirement already satisfied: setuptools in /opt/conda/envs/gds/lib/python3.9/site-packages (from tensorflow) (68.2.2)\n",
      "Requirement already satisfied: six>=1.12.0 in /opt/conda/envs/gds/lib/python3.9/site-packages (from tensorflow) (1.16.0)\n",
      "Collecting termcolor>=1.1.0 (from tensorflow)\n",
      "  Downloading termcolor-3.1.0-py3-none-any.whl.metadata (6.4 kB)\n",
      "Requirement already satisfied: typing-extensions>=3.6.6 in /opt/conda/envs/gds/lib/python3.9/site-packages (from tensorflow) (4.13.2)\n",
      "Collecting wrapt>=1.11.0 (from tensorflow)\n",
      "  Downloading wrapt-1.17.2-cp39-cp39-manylinux_2_5_x86_64.manylinux1_x86_64.manylinux_2_17_x86_64.manylinux2014_x86_64.whl.metadata (6.4 kB)\n",
      "Collecting grpcio<2.0,>=1.24.3 (from tensorflow)\n",
      "  Downloading grpcio-1.71.0-cp39-cp39-manylinux_2_17_x86_64.manylinux2014_x86_64.whl.metadata (3.8 kB)\n",
      "Collecting tensorboard~=2.19.0 (from tensorflow)\n",
      "  Downloading tensorboard-2.19.0-py3-none-any.whl.metadata (1.8 kB)\n",
      "Requirement already satisfied: keras>=3.5.0 in /opt/conda/envs/gds/lib/python3.9/site-packages (from tensorflow) (3.10.0)\n",
      "Requirement already satisfied: numpy<2.2.0,>=1.26.0 in /opt/conda/envs/gds/lib/python3.9/site-packages (from tensorflow) (1.26.0)\n",
      "Collecting h5py>=3.11.0 (from tensorflow)\n",
      "  Downloading h5py-3.13.0-cp39-cp39-manylinux_2_17_x86_64.manylinux2014_x86_64.whl.metadata (2.5 kB)\n",
      "Requirement already satisfied: ml-dtypes<1.0.0,>=0.5.1 in /opt/conda/envs/gds/lib/python3.9/site-packages (from tensorflow) (0.5.1)\n",
      "Collecting tensorflow-io-gcs-filesystem>=0.23.1 (from tensorflow)\n",
      "  Downloading tensorflow_io_gcs_filesystem-0.37.1-cp39-cp39-manylinux_2_17_x86_64.manylinux2014_x86_64.whl.metadata (14 kB)\n",
      "Requirement already satisfied: wheel<1.0,>=0.23.0 in /opt/conda/envs/gds/lib/python3.9/site-packages (from astunparse>=1.6.0->tensorflow) (0.41.2)\n",
      "Requirement already satisfied: rich in /opt/conda/envs/gds/lib/python3.9/site-packages (from keras>=3.5.0->tensorflow) (13.6.0)\n",
      "Requirement already satisfied: namex in /opt/conda/envs/gds/lib/python3.9/site-packages (from keras>=3.5.0->tensorflow) (0.0.9)\n",
      "Requirement already satisfied: optree in /opt/conda/envs/gds/lib/python3.9/site-packages (from keras>=3.5.0->tensorflow) (0.15.0)\n",
      "Requirement already satisfied: charset-normalizer<4,>=2 in /opt/conda/envs/gds/lib/python3.9/site-packages (from requests<3,>=2.21.0->tensorflow) (3.3.0)\n",
      "Requirement already satisfied: idna<4,>=2.5 in /opt/conda/envs/gds/lib/python3.9/site-packages (from requests<3,>=2.21.0->tensorflow) (3.4)\n",
      "Requirement already satisfied: urllib3<3,>=1.21.1 in /opt/conda/envs/gds/lib/python3.9/site-packages (from requests<3,>=2.21.0->tensorflow) (1.26.17)\n",
      "Requirement already satisfied: certifi>=2017.4.17 in /opt/conda/envs/gds/lib/python3.9/site-packages (from requests<3,>=2.21.0->tensorflow) (2023.7.22)\n",
      "Collecting markdown>=2.6.8 (from tensorboard~=2.19.0->tensorflow)\n",
      "  Downloading markdown-3.8-py3-none-any.whl.metadata (5.1 kB)\n",
      "Collecting tensorboard-data-server<0.8.0,>=0.7.0 (from tensorboard~=2.19.0->tensorflow)\n",
      "  Downloading tensorboard_data_server-0.7.2-py3-none-manylinux_2_31_x86_64.whl.metadata (1.1 kB)\n",
      "Collecting werkzeug>=1.0.1 (from tensorboard~=2.19.0->tensorflow)\n",
      "  Downloading werkzeug-3.1.3-py3-none-any.whl.metadata (3.7 kB)\n",
      "Requirement already satisfied: importlib-metadata>=4.4 in /opt/conda/envs/gds/lib/python3.9/site-packages (from markdown>=2.6.8->tensorboard~=2.19.0->tensorflow) (6.8.0)\n",
      "Requirement already satisfied: MarkupSafe>=2.1.1 in /opt/conda/envs/gds/lib/python3.9/site-packages (from werkzeug>=1.0.1->tensorboard~=2.19.0->tensorflow) (2.1.3)\n",
      "Requirement already satisfied: markdown-it-py>=2.2.0 in /opt/conda/envs/gds/lib/python3.9/site-packages (from rich->keras>=3.5.0->tensorflow) (2.2.0)\n",
      "Requirement already satisfied: pygments<3.0.0,>=2.13.0 in /opt/conda/envs/gds/lib/python3.9/site-packages (from rich->keras>=3.5.0->tensorflow) (2.16.1)\n",
      "Requirement already satisfied: zipp>=0.5 in /opt/conda/envs/gds/lib/python3.9/site-packages (from importlib-metadata>=4.4->markdown>=2.6.8->tensorboard~=2.19.0->tensorflow) (3.17.0)\n",
      "Requirement already satisfied: mdurl~=0.1 in /opt/conda/envs/gds/lib/python3.9/site-packages (from markdown-it-py>=2.2.0->rich->keras>=3.5.0->tensorflow) (0.1.0)\n",
      "Downloading tensorflow-2.19.0-cp39-cp39-manylinux_2_17_x86_64.manylinux2014_x86_64.whl (644.8 MB)\n",
      "\u001b[2K   \u001b[38;2;114;156;31m━━━━━━━━━━━━━━━━━━━━━━━━━━━━━━━━━━━━━━━━\u001b[0m \u001b[32m644.8/644.8 MB\u001b[0m \u001b[31m2.2 MB/s\u001b[0m eta \u001b[36m0:00:00\u001b[0m0m eta \u001b[36m0:00:01\u001b[0m[36m0:00:01\u001b[0m\n",
      "\u001b[?25hDownloading astunparse-1.6.3-py2.py3-none-any.whl (12 kB)\n",
      "Downloading flatbuffers-25.2.10-py2.py3-none-any.whl (30 kB)\n",
      "Downloading gast-0.6.0-py3-none-any.whl (21 kB)\n",
      "Downloading google_pasta-0.2.0-py3-none-any.whl (57 kB)\n",
      "\u001b[2K   \u001b[38;2;114;156;31m━━━━━━━━━━━━━━━━━━━━━━━━━━━━━━━━━━━━━━━━\u001b[0m \u001b[32m57.5/57.5 kB\u001b[0m \u001b[31m435.0 kB/s\u001b[0m eta \u001b[36m0:00:00\u001b[0m kB/s\u001b[0m eta \u001b[36m0:00:01\u001b[0m\n",
      "\u001b[?25hDownloading grpcio-1.71.0-cp39-cp39-manylinux_2_17_x86_64.manylinux2014_x86_64.whl (5.9 MB)\n",
      "\u001b[2K   \u001b[38;2;114;156;31m━━━━━━━━━━━━━━━━━━━━━━━━━━━━━━━━━━━━━━━━\u001b[0m \u001b[32m5.9/5.9 MB\u001b[0m \u001b[31m6.0 MB/s\u001b[0m eta \u001b[36m0:00:00\u001b[0mm eta \u001b[36m0:00:01\u001b[0m0:01\u001b[0m:01\u001b[0m\n",
      "\u001b[?25hDownloading h5py-3.13.0-cp39-cp39-manylinux_2_17_x86_64.manylinux2014_x86_64.whl (4.6 MB)\n",
      "\u001b[2K   \u001b[38;2;114;156;31m━━━━━━━━━━━━━━━━━━━━━━━━━━━━━━━━━━━━━━━━\u001b[0m \u001b[32m4.6/4.6 MB\u001b[0m \u001b[31m3.1 MB/s\u001b[0m eta \u001b[36m0:00:00\u001b[0mm eta \u001b[36m0:00:01\u001b[0m[36m0:00:01\u001b[0m\n",
      "\u001b[?25hDownloading libclang-18.1.1-py2.py3-none-manylinux2010_x86_64.whl (24.5 MB)\n",
      "\u001b[2K   \u001b[38;2;114;156;31m━━━━━━━━━━━━━━━━━━━━━━━━━━━━━━━━━━━━━━━━\u001b[0m \u001b[32m24.5/24.5 MB\u001b[0m \u001b[31m19.9 MB/s\u001b[0m eta \u001b[36m0:00:00\u001b[0mm eta \u001b[36m0:00:01\u001b[0m[36m0:00:01\u001b[0m\n",
      "\u001b[?25hDownloading opt_einsum-3.4.0-py3-none-any.whl (71 kB)\n",
      "\u001b[2K   \u001b[38;2;114;156;31m━━━━━━━━━━━━━━━━━━━━━━━━━━━━━━━━━━━━━━━━\u001b[0m \u001b[32m71.9/71.9 kB\u001b[0m \u001b[31m1.0 MB/s\u001b[0m eta \u001b[36m0:00:00\u001b[0m0m eta \u001b[36m0:00:01\u001b[0m\n",
      "\u001b[?25hDownloading tensorboard-2.19.0-py3-none-any.whl (5.5 MB)\n",
      "\u001b[2K   \u001b[38;2;114;156;31m━━━━━━━━━━━━━━━━━━━━━━━━━━━━━━━━━━━━━━━━\u001b[0m \u001b[32m5.5/5.5 MB\u001b[0m \u001b[31m13.8 MB/s\u001b[0m eta \u001b[36m0:00:00\u001b[0mm eta \u001b[36m0:00:01\u001b[0m[36m0:00:01\u001b[0m\n",
      "\u001b[?25hDownloading tensorflow_io_gcs_filesystem-0.37.1-cp39-cp39-manylinux_2_17_x86_64.manylinux2014_x86_64.whl (5.1 MB)\n",
      "\u001b[2K   \u001b[38;2;114;156;31m━━━━━━━━━━━━━━━━━━━━━━━━━━━━━━━━━━━━━━━━\u001b[0m \u001b[32m5.1/5.1 MB\u001b[0m \u001b[31m16.6 MB/s\u001b[0m eta \u001b[36m0:00:00\u001b[0mm eta \u001b[36m0:00:01\u001b[0m[36m0:00:01\u001b[0m\n",
      "\u001b[?25hDownloading termcolor-3.1.0-py3-none-any.whl (7.7 kB)\n",
      "Downloading wrapt-1.17.2-cp39-cp39-manylinux_2_5_x86_64.manylinux1_x86_64.manylinux_2_17_x86_64.manylinux2014_x86_64.whl (82 kB)\n",
      "\u001b[2K   \u001b[38;2;114;156;31m━━━━━━━━━━━━━━━━━━━━━━━━━━━━━━━━━━━━━━━━\u001b[0m \u001b[32m82.6/82.6 kB\u001b[0m \u001b[31m1.2 MB/s\u001b[0m eta \u001b[36m0:00:00\u001b[0m0m eta \u001b[36m0:00:01\u001b[0m\n",
      "\u001b[?25hDownloading markdown-3.8-py3-none-any.whl (106 kB)\n",
      "\u001b[2K   \u001b[38;2;114;156;31m━━━━━━━━━━━━━━━━━━━━━━━━━━━━━━━━━━━━━━━━\u001b[0m \u001b[32m106.2/106.2 kB\u001b[0m \u001b[31m3.4 MB/s\u001b[0m eta \u001b[36m0:00:00\u001b[0m\n",
      "\u001b[?25hDownloading tensorboard_data_server-0.7.2-py3-none-manylinux_2_31_x86_64.whl (6.6 MB)\n",
      "\u001b[2K   \u001b[38;2;114;156;31m━━━━━━━━━━━━━━━━━━━━━━━━━━━━━━━━━━━━━━━━\u001b[0m \u001b[32m6.6/6.6 MB\u001b[0m \u001b[31m13.1 MB/s\u001b[0m eta \u001b[36m0:00:00\u001b[0mm eta \u001b[36m0:00:01\u001b[0m0:01\u001b[0m:01\u001b[0m\n",
      "\u001b[?25hDownloading werkzeug-3.1.3-py3-none-any.whl (224 kB)\n",
      "\u001b[2K   \u001b[38;2;114;156;31m━━━━━━━━━━━━━━━━━━━━━━━━━━━━━━━━━━━━━━━━\u001b[0m \u001b[32m224.5/224.5 kB\u001b[0m \u001b[31m2.9 MB/s\u001b[0m eta \u001b[36m0:00:00\u001b[0m8 MB/s\u001b[0m eta \u001b[36m0:00:01\u001b[0m\n",
      "\u001b[?25hInstalling collected packages: libclang, flatbuffers, wrapt, werkzeug, termcolor, tensorflow-io-gcs-filesystem, tensorboard-data-server, opt-einsum, h5py, grpcio, google-pasta, gast, astunparse, markdown, tensorboard, tensorflow\n",
      "  Attempting uninstall: h5py\n",
      "    Found existing installation: h5py 3.10.0\n",
      "    Uninstalling h5py-3.10.0:\n",
      "      Successfully uninstalled h5py-3.10.0\n",
      "Successfully installed astunparse-1.6.3 flatbuffers-25.2.10 gast-0.6.0 google-pasta-0.2.0 grpcio-1.71.0 h5py-3.13.0 libclang-18.1.1 markdown-3.8 opt-einsum-3.4.0 tensorboard-2.19.0 tensorboard-data-server-0.7.2 tensorflow-2.19.0 tensorflow-io-gcs-filesystem-0.37.1 termcolor-3.1.0 werkzeug-3.1.3 wrapt-1.17.2\n",
      "Note: you may need to restart the kernel to use updated packages.\n"
     ]
    }
   ],
   "source": [
    "pip install tensorflow"
   ]
  },
  {
   "cell_type": "code",
   "execution_count": 1,
   "id": "4bfed30a-cc4c-467d-8775-eab5f4395250",
   "metadata": {
    "scrolled": true
   },
   "outputs": [
    {
     "name": "stderr",
     "output_type": "stream",
     "text": [
      "2025-05-24 08:01:26.295674: I tensorflow/core/util/port.cc:153] oneDNN custom operations are on. You may see slightly different numerical results due to floating-point round-off errors from different computation orders. To turn them off, set the environment variable `TF_ENABLE_ONEDNN_OPTS=0`.\n",
      "2025-05-24 08:01:26.309168: I external/local_xla/xla/tsl/cuda/cudart_stub.cc:32] Could not find cuda drivers on your machine, GPU will not be used.\n",
      "2025-05-24 08:01:26.319419: I external/local_xla/xla/tsl/cuda/cudart_stub.cc:32] Could not find cuda drivers on your machine, GPU will not be used.\n",
      "2025-05-24 08:01:26.333959: E external/local_xla/xla/stream_executor/cuda/cuda_fft.cc:467] Unable to register cuFFT factory: Attempting to register factory for plugin cuFFT when one has already been registered\n",
      "WARNING: All log messages before absl::InitializeLog() is called are written to STDERR\n",
      "E0000 00:00:1748073686.355852   12509 cuda_dnn.cc:8579] Unable to register cuDNN factory: Attempting to register factory for plugin cuDNN when one has already been registered\n",
      "E0000 00:00:1748073686.362392   12509 cuda_blas.cc:1407] Unable to register cuBLAS factory: Attempting to register factory for plugin cuBLAS when one has already been registered\n",
      "W0000 00:00:1748073686.384248   12509 computation_placer.cc:177] computation placer already registered. Please check linkage and avoid linking the same target more than once.\n",
      "W0000 00:00:1748073686.384298   12509 computation_placer.cc:177] computation placer already registered. Please check linkage and avoid linking the same target more than once.\n",
      "W0000 00:00:1748073686.384302   12509 computation_placer.cc:177] computation placer already registered. Please check linkage and avoid linking the same target more than once.\n",
      "W0000 00:00:1748073686.384305   12509 computation_placer.cc:177] computation placer already registered. Please check linkage and avoid linking the same target more than once.\n",
      "2025-05-24 08:01:26.401286: I tensorflow/core/platform/cpu_feature_guard.cc:210] This TensorFlow binary is optimized to use available CPU instructions in performance-critical operations.\n",
      "To enable the following instructions: AVX2 AVX_VNNI FMA, in other operations, rebuild TensorFlow with the appropriate compiler flags.\n"
     ]
    }
   ],
   "source": [
    "import geopandas as gpd\n",
    "import pandas as pd\n",
    "import numpy as np\n",
    "import os\n",
    "import sys\n",
    "import matplotlib.pyplot as plt\n",
    "import seaborn as sns\n",
    "import scipy\n",
    "\n",
    "module_path = os.path.abspath(os.path.join('../../'))\n",
    "if module_path not in sys.path:\n",
    "    sys.path.append(module_path)\n",
    "    import aup\n",
    "else:\n",
    "    import aup\n",
    "\n",
    "from sklearn.model_selection import train_test_split\n",
    "from sklearn.preprocessing import StandardScaler\n",
    "from imblearn.over_sampling import SMOTE  \n",
    "\n",
    "\n",
    "\n",
    "from keras import utils                                   # tools for creating one-hot encoding\n",
    "from keras.models import Sequential                       # Type of model we wish to use\n",
    "from keras.layers import Dense, Dropout, Activation  \n",
    "from sklearn.preprocessing import LabelEncoder\n",
    "# from scikeras.wrappers import KerasClassifier, KerasRegressor\n",
    "from keras import utils  \n",
    "from sklearn.model_selection import cross_val_score\n",
    "from sklearn.model_selection import KFold\n",
    "from sklearn.preprocessing import LabelEncoder\n",
    "# from sklearn.pipeline import Pipeline\n",
    "\n",
    "from sklearn.metrics import r2_score, mean_squared_error, mean_absolute_error,confusion_matrix"
   ]
  },
  {
   "cell_type": "markdown",
   "id": "e7a8c8ea-516f-4b4f-8df5-f17a8f17e6ec",
   "metadata": {},
   "source": [
    "## Data for model training"
   ]
  },
  {
   "cell_type": "code",
   "execution_count": 2,
   "id": "bbef554c-59c0-4fba-b604-82ad1d0274c9",
   "metadata": {},
   "outputs": [
    {
     "name": "stdout",
     "output_type": "stream",
     "text": [
      "(467839, 9)\n"
     ]
    },
    {
     "data": {
      "text/html": [
       "<div>\n",
       "<style scoped>\n",
       "    .dataframe tbody tr th:only-of-type {\n",
       "        vertical-align: middle;\n",
       "    }\n",
       "\n",
       "    .dataframe tbody tr th {\n",
       "        vertical-align: top;\n",
       "    }\n",
       "\n",
       "    .dataframe thead th {\n",
       "        text-align: right;\n",
       "    }\n",
       "</style>\n",
       "<table border=\"1\" class=\"dataframe\">\n",
       "  <thead>\n",
       "    <tr style=\"text-align: right;\">\n",
       "      <th></th>\n",
       "      <th>gid</th>\n",
       "      <th>id</th>\n",
       "      <th>distrito</th>\n",
       "      <th>shape_leng</th>\n",
       "      <th>shape_area</th>\n",
       "      <th>layer</th>\n",
       "      <th>path</th>\n",
       "      <th>UNuso</th>\n",
       "      <th>geometry</th>\n",
       "    </tr>\n",
       "  </thead>\n",
       "  <tbody>\n",
       "    <tr>\n",
       "      <th>0</th>\n",
       "      <td>119895</td>\n",
       "      <td>95475.0</td>\n",
       "      <td>2.0</td>\n",
       "      <td>54.193112</td>\n",
       "      <td>130.922608</td>\n",
       "      <td>USOS_DE_SUELO_Z2</td>\n",
       "      <td>/Users/eileenyuen/Downloads/OneDrive_1_30-4-20...</td>\n",
       "      <td>Habitacional</td>\n",
       "      <td>MULTIPOLYGON (((672237.33 2295207.029, 672235....</td>\n",
       "    </tr>\n",
       "    <tr>\n",
       "      <th>1</th>\n",
       "      <td>119896</td>\n",
       "      <td>471562.0</td>\n",
       "      <td>2.0</td>\n",
       "      <td>47.842126</td>\n",
       "      <td>112.073148</td>\n",
       "      <td>USOS_DE_SUELO_Z2</td>\n",
       "      <td>/Users/eileenyuen/Downloads/OneDrive_1_30-4-20...</td>\n",
       "      <td>Habitacional</td>\n",
       "      <td>MULTIPOLYGON (((669537.234 2295451.983, 669520...</td>\n",
       "    </tr>\n",
       "  </tbody>\n",
       "</table>\n",
       "</div>"
      ],
      "text/plain": [
       "      gid        id  distrito  shape_leng  shape_area             layer  \\\n",
       "0  119895   95475.0       2.0   54.193112  130.922608  USOS_DE_SUELO_Z2   \n",
       "1  119896  471562.0       2.0   47.842126  112.073148  USOS_DE_SUELO_Z2   \n",
       "\n",
       "                                                path         UNuso  \\\n",
       "0  /Users/eileenyuen/Downloads/OneDrive_1_30-4-20...  Habitacional   \n",
       "1  /Users/eileenyuen/Downloads/OneDrive_1_30-4-20...  Habitacional   \n",
       "\n",
       "                                            geometry  \n",
       "0  MULTIPOLYGON (((672237.33 2295207.029, 672235....  \n",
       "1  MULTIPOLYGON (((669537.234 2295451.983, 669520...  "
      ]
     },
     "execution_count": 2,
     "metadata": {},
     "output_type": "execute_result"
    }
   ],
   "source": [
    "gdf = gpd.read_file('all_places_cleaned.geojson')\n",
    "print(gdf.shape)\n",
    "gdf.head(2)"
   ]
  },
  {
   "cell_type": "code",
   "execution_count": 3,
   "id": "e6ba8d67-9bb4-4ebc-819b-98b4161becef",
   "metadata": {},
   "outputs": [
    {
     "data": {
      "text/plain": [
       "Index(['gid', 'id', 'distrito', 'shape_leng', 'shape_area', 'layer', 'path',\n",
       "       'UNuso', 'geometry'],\n",
       "      dtype='object')"
      ]
     },
     "execution_count": 3,
     "metadata": {},
     "output_type": "execute_result"
    }
   ],
   "source": [
    "gdf.columns"
   ]
  },
  {
   "cell_type": "markdown",
   "id": "1619a22f-4f60-42e0-9157-6c5602deb545",
   "metadata": {},
   "source": [
    "## We only use district 5 "
   ]
  },
  {
   "cell_type": "code",
   "execution_count": 5,
   "id": "faf8d01c-d714-4f8a-b320-b494114ad21f",
   "metadata": {},
   "outputs": [
    {
     "data": {
      "text/plain": [
       "array(['USOS_DE_SUELO_Z2', 'USOS_DE_SUELO_Z4', 'USOS_Z11', 'USOS_ZONA_10',\n",
       "       'USOS_ZONA_5', 'USOS_ZONA_6', 'USOS_ZONA_7', 'USOS_ZONA_8',\n",
       "       'USOS_ZONA_9', 'Z_12_USOS_DE_SUELO', 'Z1', 'Z3'], dtype=object)"
      ]
     },
     "execution_count": 5,
     "metadata": {},
     "output_type": "execute_result"
    }
   ],
   "source": [
    "gdf[\"layer\"].unique()"
   ]
  },
  {
   "cell_type": "code",
   "execution_count": 7,
   "id": "b9cb38b1-097f-4eaf-85f4-305cfd61cb48",
   "metadata": {},
   "outputs": [
    {
     "data": {
      "text/html": [
       "<div>\n",
       "<style scoped>\n",
       "    .dataframe tbody tr th:only-of-type {\n",
       "        vertical-align: middle;\n",
       "    }\n",
       "\n",
       "    .dataframe tbody tr th {\n",
       "        vertical-align: top;\n",
       "    }\n",
       "\n",
       "    .dataframe thead th {\n",
       "        text-align: right;\n",
       "    }\n",
       "</style>\n",
       "<table border=\"1\" class=\"dataframe\">\n",
       "  <thead>\n",
       "    <tr style=\"text-align: right;\">\n",
       "      <th></th>\n",
       "      <th>gid</th>\n",
       "      <th>id</th>\n",
       "      <th>distrito</th>\n",
       "      <th>shape_leng</th>\n",
       "      <th>shape_area</th>\n",
       "      <th>layer</th>\n",
       "      <th>path</th>\n",
       "      <th>UNuso</th>\n",
       "      <th>geometry</th>\n",
       "    </tr>\n",
       "  </thead>\n",
       "  <tbody>\n",
       "    <tr>\n",
       "      <th>176598</th>\n",
       "      <td>383802</td>\n",
       "      <td>225938.0</td>\n",
       "      <td>5.0</td>\n",
       "      <td>87.833373</td>\n",
       "      <td>372.671854</td>\n",
       "      <td>USOS_ZONA_5</td>\n",
       "      <td>/Users/eileenyuen/Downloads/OneDrive_1_30-4-20...</td>\n",
       "      <td>Baldio</td>\n",
       "      <td>MULTIPOLYGON (((663603.887 2289224.482, 663592...</td>\n",
       "    </tr>\n",
       "    <tr>\n",
       "      <th>176599</th>\n",
       "      <td>383514</td>\n",
       "      <td>465151.0</td>\n",
       "      <td>5.0</td>\n",
       "      <td>156.734778</td>\n",
       "      <td>1505.830715</td>\n",
       "      <td>USOS_ZONA_5</td>\n",
       "      <td>/Users/eileenyuen/Downloads/OneDrive_1_30-4-20...</td>\n",
       "      <td>None</td>\n",
       "      <td>MULTIPOLYGON (((661583.201 2289149.452, 661563...</td>\n",
       "    </tr>\n",
       "    <tr>\n",
       "      <th>176600</th>\n",
       "      <td>383647</td>\n",
       "      <td>465323.0</td>\n",
       "      <td>5.0</td>\n",
       "      <td>102.854373</td>\n",
       "      <td>577.067362</td>\n",
       "      <td>USOS_ZONA_5</td>\n",
       "      <td>/Users/eileenyuen/Downloads/OneDrive_1_30-4-20...</td>\n",
       "      <td>Baldio</td>\n",
       "      <td>MULTIPOLYGON (((663882.141 2291543.517, 663858...</td>\n",
       "    </tr>\n",
       "    <tr>\n",
       "      <th>176601</th>\n",
       "      <td>383515</td>\n",
       "      <td>465183.0</td>\n",
       "      <td>5.0</td>\n",
       "      <td>389.147415</td>\n",
       "      <td>6545.629993</td>\n",
       "      <td>USOS_ZONA_5</td>\n",
       "      <td>/Users/eileenyuen/Downloads/OneDrive_1_30-4-20...</td>\n",
       "      <td>Comercial</td>\n",
       "      <td>MULTIPOLYGON (((663075.532 2287066.125, 663077...</td>\n",
       "    </tr>\n",
       "    <tr>\n",
       "      <th>176602</th>\n",
       "      <td>383516</td>\n",
       "      <td>465188.0</td>\n",
       "      <td>5.0</td>\n",
       "      <td>2338.338291</td>\n",
       "      <td>110638.820370</td>\n",
       "      <td>USOS_ZONA_5</td>\n",
       "      <td>/Users/eileenyuen/Downloads/OneDrive_1_30-4-20...</td>\n",
       "      <td>Baldio</td>\n",
       "      <td>MULTIPOLYGON (((663416.134 2290742.644, 663416...</td>\n",
       "    </tr>\n",
       "    <tr>\n",
       "      <th>...</th>\n",
       "      <td>...</td>\n",
       "      <td>...</td>\n",
       "      <td>...</td>\n",
       "      <td>...</td>\n",
       "      <td>...</td>\n",
       "      <td>...</td>\n",
       "      <td>...</td>\n",
       "      <td>...</td>\n",
       "      <td>...</td>\n",
       "    </tr>\n",
       "    <tr>\n",
       "      <th>221520</th>\n",
       "      <td>467228</td>\n",
       "      <td>NaN</td>\n",
       "      <td>5.0</td>\n",
       "      <td>NaN</td>\n",
       "      <td>NaN</td>\n",
       "      <td>USOS_ZONA_5</td>\n",
       "      <td>/Users/eileenyuen/Downloads/OneDrive_1_30-4-20...</td>\n",
       "      <td>Turistico</td>\n",
       "      <td>MULTIPOLYGON (((661786.023 2290340.715, 661846...</td>\n",
       "    </tr>\n",
       "    <tr>\n",
       "      <th>221521</th>\n",
       "      <td>467229</td>\n",
       "      <td>NaN</td>\n",
       "      <td>5.0</td>\n",
       "      <td>NaN</td>\n",
       "      <td>NaN</td>\n",
       "      <td>USOS_ZONA_5</td>\n",
       "      <td>/Users/eileenyuen/Downloads/OneDrive_1_30-4-20...</td>\n",
       "      <td>Habitacional</td>\n",
       "      <td>MULTIPOLYGON (((661908.505 2289978.212, 661908...</td>\n",
       "    </tr>\n",
       "    <tr>\n",
       "      <th>221522</th>\n",
       "      <td>467230</td>\n",
       "      <td>NaN</td>\n",
       "      <td>5.0</td>\n",
       "      <td>NaN</td>\n",
       "      <td>NaN</td>\n",
       "      <td>USOS_ZONA_5</td>\n",
       "      <td>/Users/eileenyuen/Downloads/OneDrive_1_30-4-20...</td>\n",
       "      <td>Habitacional</td>\n",
       "      <td>MULTIPOLYGON (((661904.541 2289924.284, 661904...</td>\n",
       "    </tr>\n",
       "    <tr>\n",
       "      <th>221523</th>\n",
       "      <td>467231</td>\n",
       "      <td>NaN</td>\n",
       "      <td>5.0</td>\n",
       "      <td>NaN</td>\n",
       "      <td>NaN</td>\n",
       "      <td>USOS_ZONA_5</td>\n",
       "      <td>/Users/eileenyuen/Downloads/OneDrive_1_30-4-20...</td>\n",
       "      <td>Habitacional</td>\n",
       "      <td>MULTIPOLYGON (((661934.366 2289948.246, 661942...</td>\n",
       "    </tr>\n",
       "    <tr>\n",
       "      <th>221524</th>\n",
       "      <td>467275</td>\n",
       "      <td>0.0</td>\n",
       "      <td>5.0</td>\n",
       "      <td>0.000000</td>\n",
       "      <td>0.000000</td>\n",
       "      <td>USOS_ZONA_5</td>\n",
       "      <td>/Users/eileenyuen/Downloads/OneDrive_1_30-4-20...</td>\n",
       "      <td>Habitacional</td>\n",
       "      <td>MULTIPOLYGON (((661775.189 2288254.053, 661778...</td>\n",
       "    </tr>\n",
       "  </tbody>\n",
       "</table>\n",
       "<p>44927 rows × 9 columns</p>\n",
       "</div>"
      ],
      "text/plain": [
       "           gid        id  distrito   shape_leng     shape_area        layer  \\\n",
       "176598  383802  225938.0       5.0    87.833373     372.671854  USOS_ZONA_5   \n",
       "176599  383514  465151.0       5.0   156.734778    1505.830715  USOS_ZONA_5   \n",
       "176600  383647  465323.0       5.0   102.854373     577.067362  USOS_ZONA_5   \n",
       "176601  383515  465183.0       5.0   389.147415    6545.629993  USOS_ZONA_5   \n",
       "176602  383516  465188.0       5.0  2338.338291  110638.820370  USOS_ZONA_5   \n",
       "...        ...       ...       ...          ...            ...          ...   \n",
       "221520  467228       NaN       5.0          NaN            NaN  USOS_ZONA_5   \n",
       "221521  467229       NaN       5.0          NaN            NaN  USOS_ZONA_5   \n",
       "221522  467230       NaN       5.0          NaN            NaN  USOS_ZONA_5   \n",
       "221523  467231       NaN       5.0          NaN            NaN  USOS_ZONA_5   \n",
       "221524  467275       0.0       5.0     0.000000       0.000000  USOS_ZONA_5   \n",
       "\n",
       "                                                     path         UNuso  \\\n",
       "176598  /Users/eileenyuen/Downloads/OneDrive_1_30-4-20...        Baldio   \n",
       "176599  /Users/eileenyuen/Downloads/OneDrive_1_30-4-20...          None   \n",
       "176600  /Users/eileenyuen/Downloads/OneDrive_1_30-4-20...        Baldio   \n",
       "176601  /Users/eileenyuen/Downloads/OneDrive_1_30-4-20...     Comercial   \n",
       "176602  /Users/eileenyuen/Downloads/OneDrive_1_30-4-20...        Baldio   \n",
       "...                                                   ...           ...   \n",
       "221520  /Users/eileenyuen/Downloads/OneDrive_1_30-4-20...     Turistico   \n",
       "221521  /Users/eileenyuen/Downloads/OneDrive_1_30-4-20...  Habitacional   \n",
       "221522  /Users/eileenyuen/Downloads/OneDrive_1_30-4-20...  Habitacional   \n",
       "221523  /Users/eileenyuen/Downloads/OneDrive_1_30-4-20...  Habitacional   \n",
       "221524  /Users/eileenyuen/Downloads/OneDrive_1_30-4-20...  Habitacional   \n",
       "\n",
       "                                                 geometry  \n",
       "176598  MULTIPOLYGON (((663603.887 2289224.482, 663592...  \n",
       "176599  MULTIPOLYGON (((661583.201 2289149.452, 661563...  \n",
       "176600  MULTIPOLYGON (((663882.141 2291543.517, 663858...  \n",
       "176601  MULTIPOLYGON (((663075.532 2287066.125, 663077...  \n",
       "176602  MULTIPOLYGON (((663416.134 2290742.644, 663416...  \n",
       "...                                                   ...  \n",
       "221520  MULTIPOLYGON (((661786.023 2290340.715, 661846...  \n",
       "221521  MULTIPOLYGON (((661908.505 2289978.212, 661908...  \n",
       "221522  MULTIPOLYGON (((661904.541 2289924.284, 661904...  \n",
       "221523  MULTIPOLYGON (((661934.366 2289948.246, 661942...  \n",
       "221524  MULTIPOLYGON (((661775.189 2288254.053, 661778...  \n",
       "\n",
       "[44927 rows x 9 columns]"
      ]
     },
     "execution_count": 7,
     "metadata": {},
     "output_type": "execute_result"
    }
   ],
   "source": [
    "gdf_district_5 = gdf.copy()\n",
    "gdf_district_5[gdf_district_5[\"layer\"] == \"USOS_ZONA_5\"]"
   ]
  },
  {
   "cell_type": "code",
   "execution_count": 12,
   "id": "7918a946-e478-4a69-a446-0840cae15ac8",
   "metadata": {},
   "outputs": [
    {
     "data": {
      "text/plain": [
       "gid             0\n",
       "id            105\n",
       "distrito        1\n",
       "shape_leng    105\n",
       "shape_area    105\n",
       "layer           0\n",
       "path            0\n",
       "UNuso           0\n",
       "geometry        1\n",
       "dtype: int64"
      ]
     },
     "execution_count": 12,
     "metadata": {},
     "output_type": "execute_result"
    }
   ],
   "source": [
    "gdf_district_5.isna().sum() # Searching for NA values"
   ]
  },
  {
   "cell_type": "code",
   "execution_count": 10,
   "id": "19ac1e77-f4c5-4300-bce7-bb7b2664ea32",
   "metadata": {},
   "outputs": [],
   "source": [
    "gdf_district_5[\"UNuso\"] = gdf_district_5[\"UNuso\"].fillna(\"Sin_datos\")"
   ]
  },
  {
   "cell_type": "code",
   "execution_count": 11,
   "id": "14ff0079-56f6-4253-88f6-60ea46e6e6de",
   "metadata": {},
   "outputs": [
    {
     "data": {
      "text/plain": [
       "gid             0\n",
       "id            105\n",
       "distrito        1\n",
       "shape_leng    105\n",
       "shape_area    105\n",
       "layer           0\n",
       "path            0\n",
       "UNuso           0\n",
       "geometry        1\n",
       "dtype: int64"
      ]
     },
     "execution_count": 11,
     "metadata": {},
     "output_type": "execute_result"
    }
   ],
   "source": [
    "gdf_district_5.isna().sum()"
   ]
  },
  {
   "cell_type": "code",
   "execution_count": 13,
   "id": "de691d03-88f6-4823-b253-f613f990a92f",
   "metadata": {},
   "outputs": [
    {
     "data": {
      "text/plain": [
       "(467839, 9)"
      ]
     },
     "execution_count": 13,
     "metadata": {},
     "output_type": "execute_result"
    }
   ],
   "source": [
    "gdf_district_5.shape"
   ]
  },
  {
   "cell_type": "code",
   "execution_count": null,
   "id": "eae5003f-1490-4d58-abed-4d1ead9d2174",
   "metadata": {},
   "outputs": [],
   "source": []
  },
  {
   "cell_type": "markdown",
   "id": "4c867dd3-eed8-4f39-894f-08dbc0f11266",
   "metadata": {},
   "source": [
    "## Machine learning model"
   ]
  },
  {
   "cell_type": "markdown",
   "id": "46e56e8a-cf6a-4903-b377-3d533ee14f36",
   "metadata": {},
   "source": [
    "### Data preprocessing"
   ]
  },
  {
   "cell_type": "markdown",
   "id": "404fffb4-0dae-4a6d-b803-8a59e8d6f38a",
   "metadata": {},
   "source": [
    "Divide X and Y data"
   ]
  },
  {
   "cell_type": "code",
   "execution_count": 4,
   "id": "fa4380e9-357d-4e00-9769-40c8c0cebc41",
   "metadata": {},
   "outputs": [],
   "source": [
    "X = gdf[['area_m2','bld_area_m2','pobtot','uso_tot',\n",
    "                 'pct_habitacional','pct_servicios','pct_comercio',\n",
    "                 'pct_salud','pct_educacion','pct_gobierno','pct_industria',\n",
    "        'block_area_m2','pred_area_pct','temperature_mean_diff',\n",
    "        'ndvi_mean','ndmi_diff']].to_numpy()\n",
    "Y = gdf[['UNUSO']].to_numpy()\n",
    "Y = np.reshape(Y, shape=(Y.shape[0],))"
   ]
  },
  {
   "cell_type": "markdown",
   "id": "df1e46b8-1eaa-44d7-900c-2a6f768a90b5",
   "metadata": {},
   "source": [
    "Standarize and encode data"
   ]
  },
  {
   "cell_type": "code",
   "execution_count": 5,
   "id": "3f06d04f-a832-4c05-9a08-9f0e616b444f",
   "metadata": {},
   "outputs": [],
   "source": [
    "scaler = StandardScaler()\n",
    "X_scaled = scaler.fit_transform(X)\n",
    "\n",
    "encoder = LabelEncoder()\n",
    "encoder.fit(Y)\n",
    "encoded_Y = encoder.transform(Y)"
   ]
  },
  {
   "cell_type": "markdown",
   "id": "9dbfb3d4-6910-46c5-99cf-4dbbf5e88c9b",
   "metadata": {},
   "source": [
    "Divide training, validation and testing data"
   ]
  },
  {
   "cell_type": "code",
   "execution_count": 6,
   "id": "f9797b9d-ac16-4aaa-8ea3-c3091ea21ee8",
   "metadata": {},
   "outputs": [],
   "source": [
    "X_model, X_test, y_model, y_test = (train_test_split(X_scaled, encoded_Y, test_size=0.2, random_state=0))"
   ]
  },
  {
   "cell_type": "code",
   "execution_count": 8,
   "id": "3cc9fb5c-b1c7-4ff5-8b03-911be6b6945c",
   "metadata": {},
   "outputs": [],
   "source": [
    "smote = SMOTE()  \n",
    "X_resampled, y_resampled = smote.fit_resample(X_model, y_model)  "
   ]
  },
  {
   "cell_type": "code",
   "execution_count": 9,
   "id": "47bccdc0-6859-416f-951f-96474f6877e5",
   "metadata": {},
   "outputs": [],
   "source": [
    "X_train, X_val, y_train, y_val = (train_test_split(X_resampled, y_resampled, test_size=0.2, random_state=0))"
   ]
  },
  {
   "cell_type": "markdown",
   "id": "2c7831e0-c32a-43d9-8d12-48376bbaa159",
   "metadata": {},
   "source": [
    "Y data to categorical"
   ]
  },
  {
   "cell_type": "code",
   "execution_count": 10,
   "id": "1096d345-b301-4f9b-9f9c-f0c03151b510",
   "metadata": {},
   "outputs": [],
   "source": [
    "# encode class values as integers\n",
    "num_classes = len(gdf.UNUSO.unique())\n",
    "\n",
    "# convert integers to dummy variables (i.e. one hot encoded)\n",
    "y_train = utils.to_categorical(y_train, num_classes)\n",
    "\n",
    "# convert integers to dummy variables (i.e. one hot encoded)\n",
    "y_val = utils.to_categorical(y_val, num_classes)\n",
    "\n",
    "# convert integers to dummy variables (i.e. one hot encoded)\n",
    "y_test = utils.to_categorical(y_test, num_classes)"
   ]
  },
  {
   "cell_type": "markdown",
   "id": "cf34f006-a5f2-40f7-84b5-6fe5fa00a520",
   "metadata": {},
   "source": [
    "### Model construction -- Classification Neural network"
   ]
  },
  {
   "cell_type": "markdown",
   "id": "fe8bf42a-4c24-4006-8e96-4c27a480a4ba",
   "metadata": {},
   "source": [
    "Model parameters"
   ]
  },
  {
   "cell_type": "code",
   "execution_count": 11,
   "id": "9993a00b-b33e-4a12-b5d9-b2452f27f248",
   "metadata": {},
   "outputs": [],
   "source": [
    "input_shape = (X_train.shape[1],)"
   ]
  },
  {
   "cell_type": "code",
   "execution_count": 12,
   "id": "043870aa-55dc-4e8d-a224-3d949b3a0a30",
   "metadata": {},
   "outputs": [
    {
     "name": "stderr",
     "output_type": "stream",
     "text": [
      "/home/edgaregurrola/.cache/pypoetry/virtualenvs/aup-qDsIK5d5-py3.11/lib/python3.11/site-packages/keras/src/layers/core/dense.py:87: UserWarning: Do not pass an `input_shape`/`input_dim` argument to a layer. When using Sequential models, prefer using an `Input(shape)` object as the first layer in the model instead.\n",
      "  super().__init__(activity_regularizer=activity_regularizer, **kwargs)\n",
      "I0000 00:00:1745593913.493267   16678 gpu_device.cc:2019] Created device /job:localhost/replica:0/task:0/device:GPU:0 with 4581 MB memory:  -> device: 0, name: NVIDIA GeForce RTX 4060 Ti, pci bus id: 0000:01:00.0, compute capability: 8.9\n"
     ]
    },
    {
     "data": {
      "text/html": [
       "<pre style=\"white-space:pre;overflow-x:auto;line-height:normal;font-family:Menlo,'DejaVu Sans Mono',consolas,'Courier New',monospace\"><span style=\"font-weight: bold\">Model: \"sequential\"</span>\n",
       "</pre>\n"
      ],
      "text/plain": [
       "\u001b[1mModel: \"sequential\"\u001b[0m\n"
      ]
     },
     "metadata": {},
     "output_type": "display_data"
    },
    {
     "data": {
      "text/html": [
       "<pre style=\"white-space:pre;overflow-x:auto;line-height:normal;font-family:Menlo,'DejaVu Sans Mono',consolas,'Courier New',monospace\">┏━━━━━━━━━━━━━━━━━━━━━━━━━━━━━━━━━┳━━━━━━━━━━━━━━━━━━━━━━━━┳━━━━━━━━━━━━━━━┓\n",
       "┃<span style=\"font-weight: bold\"> Layer (type)                    </span>┃<span style=\"font-weight: bold\"> Output Shape           </span>┃<span style=\"font-weight: bold\">       Param # </span>┃\n",
       "┡━━━━━━━━━━━━━━━━━━━━━━━━━━━━━━━━━╇━━━━━━━━━━━━━━━━━━━━━━━━╇━━━━━━━━━━━━━━━┩\n",
       "│ dense (<span style=\"color: #0087ff; text-decoration-color: #0087ff\">Dense</span>)                   │ (<span style=\"color: #00d7ff; text-decoration-color: #00d7ff\">None</span>, <span style=\"color: #00af00; text-decoration-color: #00af00\">64</span>)             │         <span style=\"color: #00af00; text-decoration-color: #00af00\">1,088</span> │\n",
       "├─────────────────────────────────┼────────────────────────┼───────────────┤\n",
       "│ activation (<span style=\"color: #0087ff; text-decoration-color: #0087ff\">Activation</span>)         │ (<span style=\"color: #00d7ff; text-decoration-color: #00d7ff\">None</span>, <span style=\"color: #00af00; text-decoration-color: #00af00\">64</span>)             │             <span style=\"color: #00af00; text-decoration-color: #00af00\">0</span> │\n",
       "├─────────────────────────────────┼────────────────────────┼───────────────┤\n",
       "│ dropout (<span style=\"color: #0087ff; text-decoration-color: #0087ff\">Dropout</span>)               │ (<span style=\"color: #00d7ff; text-decoration-color: #00d7ff\">None</span>, <span style=\"color: #00af00; text-decoration-color: #00af00\">64</span>)             │             <span style=\"color: #00af00; text-decoration-color: #00af00\">0</span> │\n",
       "├─────────────────────────────────┼────────────────────────┼───────────────┤\n",
       "│ dense_1 (<span style=\"color: #0087ff; text-decoration-color: #0087ff\">Dense</span>)                 │ (<span style=\"color: #00d7ff; text-decoration-color: #00d7ff\">None</span>, <span style=\"color: #00af00; text-decoration-color: #00af00\">64</span>)             │         <span style=\"color: #00af00; text-decoration-color: #00af00\">4,160</span> │\n",
       "├─────────────────────────────────┼────────────────────────┼───────────────┤\n",
       "│ activation_1 (<span style=\"color: #0087ff; text-decoration-color: #0087ff\">Activation</span>)       │ (<span style=\"color: #00d7ff; text-decoration-color: #00d7ff\">None</span>, <span style=\"color: #00af00; text-decoration-color: #00af00\">64</span>)             │             <span style=\"color: #00af00; text-decoration-color: #00af00\">0</span> │\n",
       "├─────────────────────────────────┼────────────────────────┼───────────────┤\n",
       "│ dropout_1 (<span style=\"color: #0087ff; text-decoration-color: #0087ff\">Dropout</span>)             │ (<span style=\"color: #00d7ff; text-decoration-color: #00d7ff\">None</span>, <span style=\"color: #00af00; text-decoration-color: #00af00\">64</span>)             │             <span style=\"color: #00af00; text-decoration-color: #00af00\">0</span> │\n",
       "├─────────────────────────────────┼────────────────────────┼───────────────┤\n",
       "│ dense_2 (<span style=\"color: #0087ff; text-decoration-color: #0087ff\">Dense</span>)                 │ (<span style=\"color: #00d7ff; text-decoration-color: #00d7ff\">None</span>, <span style=\"color: #00af00; text-decoration-color: #00af00\">11</span>)             │           <span style=\"color: #00af00; text-decoration-color: #00af00\">715</span> │\n",
       "├─────────────────────────────────┼────────────────────────┼───────────────┤\n",
       "│ activation_2 (<span style=\"color: #0087ff; text-decoration-color: #0087ff\">Activation</span>)       │ (<span style=\"color: #00d7ff; text-decoration-color: #00d7ff\">None</span>, <span style=\"color: #00af00; text-decoration-color: #00af00\">11</span>)             │             <span style=\"color: #00af00; text-decoration-color: #00af00\">0</span> │\n",
       "└─────────────────────────────────┴────────────────────────┴───────────────┘\n",
       "</pre>\n"
      ],
      "text/plain": [
       "┏━━━━━━━━━━━━━━━━━━━━━━━━━━━━━━━━━┳━━━━━━━━━━━━━━━━━━━━━━━━┳━━━━━━━━━━━━━━━┓\n",
       "┃\u001b[1m \u001b[0m\u001b[1mLayer (type)                   \u001b[0m\u001b[1m \u001b[0m┃\u001b[1m \u001b[0m\u001b[1mOutput Shape          \u001b[0m\u001b[1m \u001b[0m┃\u001b[1m \u001b[0m\u001b[1m      Param #\u001b[0m\u001b[1m \u001b[0m┃\n",
       "┡━━━━━━━━━━━━━━━━━━━━━━━━━━━━━━━━━╇━━━━━━━━━━━━━━━━━━━━━━━━╇━━━━━━━━━━━━━━━┩\n",
       "│ dense (\u001b[38;5;33mDense\u001b[0m)                   │ (\u001b[38;5;45mNone\u001b[0m, \u001b[38;5;34m64\u001b[0m)             │         \u001b[38;5;34m1,088\u001b[0m │\n",
       "├─────────────────────────────────┼────────────────────────┼───────────────┤\n",
       "│ activation (\u001b[38;5;33mActivation\u001b[0m)         │ (\u001b[38;5;45mNone\u001b[0m, \u001b[38;5;34m64\u001b[0m)             │             \u001b[38;5;34m0\u001b[0m │\n",
       "├─────────────────────────────────┼────────────────────────┼───────────────┤\n",
       "│ dropout (\u001b[38;5;33mDropout\u001b[0m)               │ (\u001b[38;5;45mNone\u001b[0m, \u001b[38;5;34m64\u001b[0m)             │             \u001b[38;5;34m0\u001b[0m │\n",
       "├─────────────────────────────────┼────────────────────────┼───────────────┤\n",
       "│ dense_1 (\u001b[38;5;33mDense\u001b[0m)                 │ (\u001b[38;5;45mNone\u001b[0m, \u001b[38;5;34m64\u001b[0m)             │         \u001b[38;5;34m4,160\u001b[0m │\n",
       "├─────────────────────────────────┼────────────────────────┼───────────────┤\n",
       "│ activation_1 (\u001b[38;5;33mActivation\u001b[0m)       │ (\u001b[38;5;45mNone\u001b[0m, \u001b[38;5;34m64\u001b[0m)             │             \u001b[38;5;34m0\u001b[0m │\n",
       "├─────────────────────────────────┼────────────────────────┼───────────────┤\n",
       "│ dropout_1 (\u001b[38;5;33mDropout\u001b[0m)             │ (\u001b[38;5;45mNone\u001b[0m, \u001b[38;5;34m64\u001b[0m)             │             \u001b[38;5;34m0\u001b[0m │\n",
       "├─────────────────────────────────┼────────────────────────┼───────────────┤\n",
       "│ dense_2 (\u001b[38;5;33mDense\u001b[0m)                 │ (\u001b[38;5;45mNone\u001b[0m, \u001b[38;5;34m11\u001b[0m)             │           \u001b[38;5;34m715\u001b[0m │\n",
       "├─────────────────────────────────┼────────────────────────┼───────────────┤\n",
       "│ activation_2 (\u001b[38;5;33mActivation\u001b[0m)       │ (\u001b[38;5;45mNone\u001b[0m, \u001b[38;5;34m11\u001b[0m)             │             \u001b[38;5;34m0\u001b[0m │\n",
       "└─────────────────────────────────┴────────────────────────┴───────────────┘\n"
      ]
     },
     "metadata": {},
     "output_type": "display_data"
    },
    {
     "data": {
      "text/html": [
       "<pre style=\"white-space:pre;overflow-x:auto;line-height:normal;font-family:Menlo,'DejaVu Sans Mono',consolas,'Courier New',monospace\"><span style=\"font-weight: bold\"> Total params: </span><span style=\"color: #00af00; text-decoration-color: #00af00\">5,963</span> (23.29 KB)\n",
       "</pre>\n"
      ],
      "text/plain": [
       "\u001b[1m Total params: \u001b[0m\u001b[38;5;34m5,963\u001b[0m (23.29 KB)\n"
      ]
     },
     "metadata": {},
     "output_type": "display_data"
    },
    {
     "data": {
      "text/html": [
       "<pre style=\"white-space:pre;overflow-x:auto;line-height:normal;font-family:Menlo,'DejaVu Sans Mono',consolas,'Courier New',monospace\"><span style=\"font-weight: bold\"> Trainable params: </span><span style=\"color: #00af00; text-decoration-color: #00af00\">5,963</span> (23.29 KB)\n",
       "</pre>\n"
      ],
      "text/plain": [
       "\u001b[1m Trainable params: \u001b[0m\u001b[38;5;34m5,963\u001b[0m (23.29 KB)\n"
      ]
     },
     "metadata": {},
     "output_type": "display_data"
    },
    {
     "data": {
      "text/html": [
       "<pre style=\"white-space:pre;overflow-x:auto;line-height:normal;font-family:Menlo,'DejaVu Sans Mono',consolas,'Courier New',monospace\"><span style=\"font-weight: bold\"> Non-trainable params: </span><span style=\"color: #00af00; text-decoration-color: #00af00\">0</span> (0.00 B)\n",
       "</pre>\n"
      ],
      "text/plain": [
       "\u001b[1m Non-trainable params: \u001b[0m\u001b[38;5;34m0\u001b[0m (0.00 B)\n"
      ]
     },
     "metadata": {},
     "output_type": "display_data"
    },
    {
     "name": "stdout",
     "output_type": "stream",
     "text": [
      "None\n"
     ]
    }
   ],
   "source": [
    "### Construct Keras model\n",
    "\n",
    "# A sequential model is a linear stack of layers\n",
    "model = Sequential()\n",
    "\n",
    "# First layer: fully-connected with relu activation\n",
    "model.add(Dense(64, input_shape=input_shape))\n",
    "model.add(Activation('relu'))\n",
    "model.add(Dropout(0.25))\n",
    "\n",
    "# Second layer: fully-connected with relu activation\n",
    "model.add(Dense(64))   # Input shape is determined automatically from previous layer\n",
    "model.add(Activation('relu'))\n",
    "model.add(Dropout(0.25))\n",
    "\n",
    "# Third layer: 10 nodes, one for each class, and softmax activation\n",
    "model.add(Dense(num_classes))\n",
    "model.add(Activation('softmax'))\n",
    "\n",
    "# Configure the model's training settings\n",
    "model.compile(loss='categorical_crossentropy', optimizer='adam', metrics=['acc'])\n",
    "\n",
    "# Print out model summary\n",
    "print(model.summary())\n",
    "    "
   ]
  },
  {
   "cell_type": "markdown",
   "id": "4c26e080-97a6-4cba-9f4d-0819e4d63d2b",
   "metadata": {},
   "source": [
    "Model training"
   ]
  },
  {
   "cell_type": "code",
   "execution_count": 13,
   "id": "99d97ff7-8e43-4e5a-b07c-c86c87af4ddc",
   "metadata": {
    "scrolled": true
   },
   "outputs": [
    {
     "name": "stdout",
     "output_type": "stream",
     "text": [
      "Epoch 1/200\n"
     ]
    },
    {
     "name": "stderr",
     "output_type": "stream",
     "text": [
      "WARNING: All log messages before absl::InitializeLog() is called are written to STDERR\n",
      "I0000 00:00:1745593915.627850   17212 service.cc:152] XLA service 0x7fe3b0009ed0 initialized for platform CUDA (this does not guarantee that XLA will be used). Devices:\n",
      "I0000 00:00:1745593915.627871   17212 service.cc:160]   StreamExecutor device (0): NVIDIA GeForce RTX 4060 Ti, Compute Capability 8.9\n",
      "2025-04-25 09:11:55.641493: I tensorflow/compiler/mlir/tensorflow/utils/dump_mlir_util.cc:269] disabling MLIR crash reproducer, set env var `MLIR_CRASH_REPRODUCER_DIRECTORY` to enable.\n",
      "I0000 00:00:1745593915.710203   17212 cuda_dnn.cc:529] Loaded cuDNN version 90300\n"
     ]
    },
    {
     "name": "stdout",
     "output_type": "stream",
     "text": [
      "\u001b[1m 284/4344\u001b[0m \u001b[32m━\u001b[0m\u001b[37m━━━━━━━━━━━━━━━━━━━\u001b[0m \u001b[1m2s\u001b[0m 534us/step - acc: 0.2404 - loss: 2.1819"
     ]
    },
    {
     "name": "stderr",
     "output_type": "stream",
     "text": [
      "I0000 00:00:1745593916.371148   17212 device_compiler.h:188] Compiled cluster using XLA!  This line is logged at most once for the lifetime of the process.\n"
     ]
    },
    {
     "name": "stdout",
     "output_type": "stream",
     "text": [
      "\u001b[1m4344/4344\u001b[0m \u001b[32m━━━━━━━━━━━━━━━━━━━━\u001b[0m\u001b[37m\u001b[0m \u001b[1m5s\u001b[0m 975us/step - acc: 0.4904 - loss: 1.5107 - val_acc: 0.6885 - val_loss: 0.9136\n",
      "Epoch 2/200\n",
      "\u001b[1m4344/4344\u001b[0m \u001b[32m━━━━━━━━━━━━━━━━━━━━\u001b[0m\u001b[37m\u001b[0m \u001b[1m3s\u001b[0m 633us/step - acc: 0.6483 - loss: 1.0216 - val_acc: 0.7206 - val_loss: 0.7929\n",
      "Epoch 3/200\n",
      "\u001b[1m4344/4344\u001b[0m \u001b[32m━━━━━━━━━━━━━━━━━━━━\u001b[0m\u001b[37m\u001b[0m \u001b[1m3s\u001b[0m 598us/step - acc: 0.6731 - loss: 0.9363 - val_acc: 0.7377 - val_loss: 0.7376\n",
      "Epoch 4/200\n",
      "\u001b[1m4344/4344\u001b[0m \u001b[32m━━━━━━━━━━━━━━━━━━━━\u001b[0m\u001b[37m\u001b[0m \u001b[1m3s\u001b[0m 587us/step - acc: 0.6886 - loss: 0.8834 - val_acc: 0.7524 - val_loss: 0.7053\n",
      "Epoch 5/200\n",
      "\u001b[1m4344/4344\u001b[0m \u001b[32m━━━━━━━━━━━━━━━━━━━━\u001b[0m\u001b[37m\u001b[0m \u001b[1m3s\u001b[0m 616us/step - acc: 0.6984 - loss: 0.8559 - val_acc: 0.7603 - val_loss: 0.6776\n",
      "Epoch 6/200\n",
      "\u001b[1m4344/4344\u001b[0m \u001b[32m━━━━━━━━━━━━━━━━━━━━\u001b[0m\u001b[37m\u001b[0m \u001b[1m3s\u001b[0m 620us/step - acc: 0.7025 - loss: 0.8336 - val_acc: 0.7725 - val_loss: 0.6547\n",
      "Epoch 7/200\n",
      "\u001b[1m4344/4344\u001b[0m \u001b[32m━━━━━━━━━━━━━━━━━━━━\u001b[0m\u001b[37m\u001b[0m \u001b[1m3s\u001b[0m 606us/step - acc: 0.7078 - loss: 0.8222 - val_acc: 0.7720 - val_loss: 0.6463\n",
      "Epoch 8/200\n",
      "\u001b[1m4344/4344\u001b[0m \u001b[32m━━━━━━━━━━━━━━━━━━━━\u001b[0m\u001b[37m\u001b[0m \u001b[1m3s\u001b[0m 609us/step - acc: 0.7128 - loss: 0.8076 - val_acc: 0.7801 - val_loss: 0.6234\n",
      "Epoch 9/200\n",
      "\u001b[1m4344/4344\u001b[0m \u001b[32m━━━━━━━━━━━━━━━━━━━━\u001b[0m\u001b[37m\u001b[0m \u001b[1m3s\u001b[0m 598us/step - acc: 0.7156 - loss: 0.7964 - val_acc: 0.7795 - val_loss: 0.6192\n",
      "Epoch 10/200\n",
      "\u001b[1m4344/4344\u001b[0m \u001b[32m━━━━━━━━━━━━━━━━━━━━\u001b[0m\u001b[37m\u001b[0m \u001b[1m3s\u001b[0m 596us/step - acc: 0.7164 - loss: 0.7925 - val_acc: 0.7901 - val_loss: 0.6064\n",
      "Epoch 11/200\n",
      "\u001b[1m4344/4344\u001b[0m \u001b[32m━━━━━━━━━━━━━━━━━━━━\u001b[0m\u001b[37m\u001b[0m \u001b[1m3s\u001b[0m 608us/step - acc: 0.7225 - loss: 0.7810 - val_acc: 0.7829 - val_loss: 0.6060\n",
      "Epoch 12/200\n",
      "\u001b[1m4344/4344\u001b[0m \u001b[32m━━━━━━━━━━━━━━━━━━━━\u001b[0m\u001b[37m\u001b[0m \u001b[1m3s\u001b[0m 602us/step - acc: 0.7232 - loss: 0.7722 - val_acc: 0.7873 - val_loss: 0.5943\n",
      "Epoch 13/200\n",
      "\u001b[1m4344/4344\u001b[0m \u001b[32m━━━━━━━━━━━━━━━━━━━━\u001b[0m\u001b[37m\u001b[0m \u001b[1m3s\u001b[0m 603us/step - acc: 0.7270 - loss: 0.7631 - val_acc: 0.7955 - val_loss: 0.5819\n",
      "Epoch 14/200\n",
      "\u001b[1m4344/4344\u001b[0m \u001b[32m━━━━━━━━━━━━━━━━━━━━\u001b[0m\u001b[37m\u001b[0m \u001b[1m3s\u001b[0m 614us/step - acc: 0.7254 - loss: 0.7683 - val_acc: 0.7907 - val_loss: 0.5893\n",
      "Epoch 15/200\n",
      "\u001b[1m4344/4344\u001b[0m \u001b[32m━━━━━━━━━━━━━━━━━━━━\u001b[0m\u001b[37m\u001b[0m \u001b[1m3s\u001b[0m 599us/step - acc: 0.7300 - loss: 0.7592 - val_acc: 0.7937 - val_loss: 0.5806\n",
      "Epoch 16/200\n",
      "\u001b[1m4344/4344\u001b[0m \u001b[32m━━━━━━━━━━━━━━━━━━━━\u001b[0m\u001b[37m\u001b[0m \u001b[1m3s\u001b[0m 598us/step - acc: 0.7331 - loss: 0.7522 - val_acc: 0.7966 - val_loss: 0.5712\n",
      "Epoch 17/200\n",
      "\u001b[1m4344/4344\u001b[0m \u001b[32m━━━━━━━━━━━━━━━━━━━━\u001b[0m\u001b[37m\u001b[0m \u001b[1m3s\u001b[0m 597us/step - acc: 0.7317 - loss: 0.7493 - val_acc: 0.7956 - val_loss: 0.5729\n",
      "Epoch 18/200\n",
      "\u001b[1m4344/4344\u001b[0m \u001b[32m━━━━━━━━━━━━━━━━━━━━\u001b[0m\u001b[37m\u001b[0m \u001b[1m3s\u001b[0m 610us/step - acc: 0.7334 - loss: 0.7466 - val_acc: 0.8006 - val_loss: 0.5678\n",
      "Epoch 19/200\n",
      "\u001b[1m4344/4344\u001b[0m \u001b[32m━━━━━━━━━━━━━━━━━━━━\u001b[0m\u001b[37m\u001b[0m \u001b[1m3s\u001b[0m 596us/step - acc: 0.7370 - loss: 0.7401 - val_acc: 0.8006 - val_loss: 0.5578\n",
      "Epoch 20/200\n",
      "\u001b[1m4344/4344\u001b[0m \u001b[32m━━━━━━━━━━━━━━━━━━━━\u001b[0m\u001b[37m\u001b[0m \u001b[1m3s\u001b[0m 609us/step - acc: 0.7363 - loss: 0.7448 - val_acc: 0.8006 - val_loss: 0.5621\n",
      "Epoch 21/200\n",
      "\u001b[1m4344/4344\u001b[0m \u001b[32m━━━━━━━━━━━━━━━━━━━━\u001b[0m\u001b[37m\u001b[0m \u001b[1m3s\u001b[0m 607us/step - acc: 0.7377 - loss: 0.7371 - val_acc: 0.8012 - val_loss: 0.5591\n",
      "Epoch 22/200\n",
      "\u001b[1m4344/4344\u001b[0m \u001b[32m━━━━━━━━━━━━━━━━━━━━\u001b[0m\u001b[37m\u001b[0m \u001b[1m3s\u001b[0m 634us/step - acc: 0.7363 - loss: 0.7388 - val_acc: 0.8054 - val_loss: 0.5532\n",
      "Epoch 23/200\n",
      "\u001b[1m4344/4344\u001b[0m \u001b[32m━━━━━━━━━━━━━━━━━━━━\u001b[0m\u001b[37m\u001b[0m \u001b[1m3s\u001b[0m 624us/step - acc: 0.7408 - loss: 0.7325 - val_acc: 0.8061 - val_loss: 0.5490\n",
      "Epoch 24/200\n",
      "\u001b[1m4344/4344\u001b[0m \u001b[32m━━━━━━━━━━━━━━━━━━━━\u001b[0m\u001b[37m\u001b[0m \u001b[1m3s\u001b[0m 627us/step - acc: 0.7403 - loss: 0.7277 - val_acc: 0.8058 - val_loss: 0.5502\n",
      "Epoch 25/200\n",
      "\u001b[1m4344/4344\u001b[0m \u001b[32m━━━━━━━━━━━━━━━━━━━━\u001b[0m\u001b[37m\u001b[0m \u001b[1m3s\u001b[0m 617us/step - acc: 0.7402 - loss: 0.7290 - val_acc: 0.8069 - val_loss: 0.5482\n",
      "Epoch 26/200\n",
      "\u001b[1m4344/4344\u001b[0m \u001b[32m━━━━━━━━━━━━━━━━━━━━\u001b[0m\u001b[37m\u001b[0m \u001b[1m3s\u001b[0m 614us/step - acc: 0.7373 - loss: 0.7328 - val_acc: 0.8070 - val_loss: 0.5467\n",
      "Epoch 27/200\n",
      "\u001b[1m4344/4344\u001b[0m \u001b[32m━━━━━━━━━━━━━━━━━━━━\u001b[0m\u001b[37m\u001b[0m \u001b[1m3s\u001b[0m 603us/step - acc: 0.7404 - loss: 0.7278 - val_acc: 0.8043 - val_loss: 0.5538\n",
      "Epoch 28/200\n",
      "\u001b[1m4344/4344\u001b[0m \u001b[32m━━━━━━━━━━━━━━━━━━━━\u001b[0m\u001b[37m\u001b[0m \u001b[1m3s\u001b[0m 627us/step - acc: 0.7410 - loss: 0.7313 - val_acc: 0.8080 - val_loss: 0.5407\n",
      "Epoch 29/200\n",
      "\u001b[1m4344/4344\u001b[0m \u001b[32m━━━━━━━━━━━━━━━━━━━━\u001b[0m\u001b[37m\u001b[0m \u001b[1m3s\u001b[0m 642us/step - acc: 0.7418 - loss: 0.7201 - val_acc: 0.8103 - val_loss: 0.5425\n",
      "Epoch 30/200\n",
      "\u001b[1m4344/4344\u001b[0m \u001b[32m━━━━━━━━━━━━━━━━━━━━\u001b[0m\u001b[37m\u001b[0m \u001b[1m3s\u001b[0m 621us/step - acc: 0.7433 - loss: 0.7235 - val_acc: 0.8075 - val_loss: 0.5437\n",
      "Epoch 31/200\n",
      "\u001b[1m4344/4344\u001b[0m \u001b[32m━━━━━━━━━━━━━━━━━━━━\u001b[0m\u001b[37m\u001b[0m \u001b[1m3s\u001b[0m 625us/step - acc: 0.7454 - loss: 0.7208 - val_acc: 0.8067 - val_loss: 0.5394\n",
      "Epoch 32/200\n",
      "\u001b[1m4344/4344\u001b[0m \u001b[32m━━━━━━━━━━━━━━━━━━━━\u001b[0m\u001b[37m\u001b[0m \u001b[1m3s\u001b[0m 639us/step - acc: 0.7421 - loss: 0.7258 - val_acc: 0.8085 - val_loss: 0.5355\n",
      "Epoch 33/200\n",
      "\u001b[1m4344/4344\u001b[0m \u001b[32m━━━━━━━━━━━━━━━━━━━━\u001b[0m\u001b[37m\u001b[0m \u001b[1m3s\u001b[0m 640us/step - acc: 0.7422 - loss: 0.7183 - val_acc: 0.8069 - val_loss: 0.5372\n",
      "Epoch 34/200\n",
      "\u001b[1m4344/4344\u001b[0m \u001b[32m━━━━━━━━━━━━━━━━━━━━\u001b[0m\u001b[37m\u001b[0m \u001b[1m3s\u001b[0m 574us/step - acc: 0.7476 - loss: 0.7134 - val_acc: 0.8101 - val_loss: 0.5361\n",
      "Epoch 35/200\n",
      "\u001b[1m4344/4344\u001b[0m \u001b[32m━━━━━━━━━━━━━━━━━━━━\u001b[0m\u001b[37m\u001b[0m \u001b[1m2s\u001b[0m 565us/step - acc: 0.7429 - loss: 0.7216 - val_acc: 0.8120 - val_loss: 0.5288\n",
      "Epoch 36/200\n",
      "\u001b[1m4344/4344\u001b[0m \u001b[32m━━━━━━━━━━━━━━━━━━━━\u001b[0m\u001b[37m\u001b[0m \u001b[1m2s\u001b[0m 566us/step - acc: 0.7473 - loss: 0.7117 - val_acc: 0.8128 - val_loss: 0.5291\n",
      "Epoch 37/200\n",
      "\u001b[1m4344/4344\u001b[0m \u001b[32m━━━━━━━━━━━━━━━━━━━━\u001b[0m\u001b[37m\u001b[0m \u001b[1m2s\u001b[0m 564us/step - acc: 0.7448 - loss: 0.7179 - val_acc: 0.8130 - val_loss: 0.5322\n",
      "Epoch 38/200\n",
      "\u001b[1m4344/4344\u001b[0m \u001b[32m━━━━━━━━━━━━━━━━━━━━\u001b[0m\u001b[37m\u001b[0m \u001b[1m2s\u001b[0m 567us/step - acc: 0.7455 - loss: 0.7175 - val_acc: 0.8154 - val_loss: 0.5268\n",
      "Epoch 39/200\n",
      "\u001b[1m4344/4344\u001b[0m \u001b[32m━━━━━━━━━━━━━━━━━━━━\u001b[0m\u001b[37m\u001b[0m \u001b[1m2s\u001b[0m 566us/step - acc: 0.7472 - loss: 0.7138 - val_acc: 0.8113 - val_loss: 0.5279\n",
      "Epoch 40/200\n",
      "\u001b[1m4344/4344\u001b[0m \u001b[32m━━━━━━━━━━━━━━━━━━━━\u001b[0m\u001b[37m\u001b[0m \u001b[1m2s\u001b[0m 569us/step - acc: 0.7447 - loss: 0.7155 - val_acc: 0.8131 - val_loss: 0.5290\n",
      "Epoch 41/200\n",
      "\u001b[1m4344/4344\u001b[0m \u001b[32m━━━━━━━━━━━━━━━━━━━━\u001b[0m\u001b[37m\u001b[0m \u001b[1m3s\u001b[0m 581us/step - acc: 0.7494 - loss: 0.7097 - val_acc: 0.8131 - val_loss: 0.5276\n",
      "Epoch 42/200\n",
      "\u001b[1m4344/4344\u001b[0m \u001b[32m━━━━━━━━━━━━━━━━━━━━\u001b[0m\u001b[37m\u001b[0m \u001b[1m2s\u001b[0m 569us/step - acc: 0.7455 - loss: 0.7153 - val_acc: 0.8118 - val_loss: 0.5269\n",
      "Epoch 43/200\n",
      "\u001b[1m4344/4344\u001b[0m \u001b[32m━━━━━━━━━━━━━━━━━━━━\u001b[0m\u001b[37m\u001b[0m \u001b[1m2s\u001b[0m 572us/step - acc: 0.7491 - loss: 0.7072 - val_acc: 0.8111 - val_loss: 0.5246\n",
      "Epoch 44/200\n",
      "\u001b[1m4344/4344\u001b[0m \u001b[32m━━━━━━━━━━━━━━━━━━━━\u001b[0m\u001b[37m\u001b[0m \u001b[1m2s\u001b[0m 572us/step - acc: 0.7483 - loss: 0.7108 - val_acc: 0.8116 - val_loss: 0.5283\n",
      "Epoch 45/200\n",
      "\u001b[1m4344/4344\u001b[0m \u001b[32m━━━━━━━━━━━━━━━━━━━━\u001b[0m\u001b[37m\u001b[0m \u001b[1m3s\u001b[0m 584us/step - acc: 0.7465 - loss: 0.7155 - val_acc: 0.8090 - val_loss: 0.5293\n",
      "Epoch 46/200\n",
      "\u001b[1m4344/4344\u001b[0m \u001b[32m━━━━━━━━━━━━━━━━━━━━\u001b[0m\u001b[37m\u001b[0m \u001b[1m3s\u001b[0m 579us/step - acc: 0.7492 - loss: 0.7085 - val_acc: 0.8133 - val_loss: 0.5264\n",
      "Epoch 47/200\n",
      "\u001b[1m4344/4344\u001b[0m \u001b[32m━━━━━━━━━━━━━━━━━━━━\u001b[0m\u001b[37m\u001b[0m \u001b[1m2s\u001b[0m 564us/step - acc: 0.7454 - loss: 0.7114 - val_acc: 0.8145 - val_loss: 0.5258\n",
      "Epoch 48/200\n",
      "\u001b[1m4344/4344\u001b[0m \u001b[32m━━━━━━━━━━━━━━━━━━━━\u001b[0m\u001b[37m\u001b[0m \u001b[1m2s\u001b[0m 571us/step - acc: 0.7455 - loss: 0.7114 - val_acc: 0.8176 - val_loss: 0.5236\n",
      "Epoch 49/200\n",
      "\u001b[1m4344/4344\u001b[0m \u001b[32m━━━━━━━━━━━━━━━━━━━━\u001b[0m\u001b[37m\u001b[0m \u001b[1m3s\u001b[0m 572us/step - acc: 0.7469 - loss: 0.7086 - val_acc: 0.8169 - val_loss: 0.5219\n",
      "Epoch 50/200\n",
      "\u001b[1m4344/4344\u001b[0m \u001b[32m━━━━━━━━━━━━━━━━━━━━\u001b[0m\u001b[37m\u001b[0m \u001b[1m3s\u001b[0m 577us/step - acc: 0.7507 - loss: 0.7040 - val_acc: 0.8146 - val_loss: 0.5235\n",
      "Epoch 51/200\n",
      "\u001b[1m4344/4344\u001b[0m \u001b[32m━━━━━━━━━━━━━━━━━━━━\u001b[0m\u001b[37m\u001b[0m \u001b[1m3s\u001b[0m 593us/step - acc: 0.7498 - loss: 0.7027 - val_acc: 0.8168 - val_loss: 0.5171\n",
      "Epoch 52/200\n",
      "\u001b[1m4344/4344\u001b[0m \u001b[32m━━━━━━━━━━━━━━━━━━━━\u001b[0m\u001b[37m\u001b[0m \u001b[1m3s\u001b[0m 573us/step - acc: 0.7482 - loss: 0.7087 - val_acc: 0.8138 - val_loss: 0.5251\n",
      "Epoch 53/200\n",
      "\u001b[1m4344/4344\u001b[0m \u001b[32m━━━━━━━━━━━━━━━━━━━━\u001b[0m\u001b[37m\u001b[0m \u001b[1m3s\u001b[0m 606us/step - acc: 0.7476 - loss: 0.7077 - val_acc: 0.8124 - val_loss: 0.5239\n",
      "Epoch 54/200\n",
      "\u001b[1m4344/4344\u001b[0m \u001b[32m━━━━━━━━━━━━━━━━━━━━\u001b[0m\u001b[37m\u001b[0m \u001b[1m3s\u001b[0m 581us/step - acc: 0.7494 - loss: 0.7061 - val_acc: 0.8146 - val_loss: 0.5170\n",
      "Epoch 55/200\n",
      "\u001b[1m4344/4344\u001b[0m \u001b[32m━━━━━━━━━━━━━━━━━━━━\u001b[0m\u001b[37m\u001b[0m \u001b[1m3s\u001b[0m 574us/step - acc: 0.7499 - loss: 0.7031 - val_acc: 0.8162 - val_loss: 0.5203\n",
      "Epoch 56/200\n",
      "\u001b[1m4344/4344\u001b[0m \u001b[32m━━━━━━━━━━━━━━━━━━━━\u001b[0m\u001b[37m\u001b[0m \u001b[1m2s\u001b[0m 563us/step - acc: 0.7472 - loss: 0.7067 - val_acc: 0.8180 - val_loss: 0.5187\n",
      "Epoch 57/200\n",
      "\u001b[1m4344/4344\u001b[0m \u001b[32m━━━━━━━━━━━━━━━━━━━━\u001b[0m\u001b[37m\u001b[0m \u001b[1m3s\u001b[0m 589us/step - acc: 0.7501 - loss: 0.7042 - val_acc: 0.8123 - val_loss: 0.5213\n",
      "Epoch 58/200\n",
      "\u001b[1m4344/4344\u001b[0m \u001b[32m━━━━━━━━━━━━━━━━━━━━\u001b[0m\u001b[37m\u001b[0m \u001b[1m2s\u001b[0m 570us/step - acc: 0.7522 - loss: 0.6990 - val_acc: 0.8166 - val_loss: 0.5208\n",
      "Epoch 59/200\n",
      "\u001b[1m4344/4344\u001b[0m \u001b[32m━━━━━━━━━━━━━━━━━━━━\u001b[0m\u001b[37m\u001b[0m \u001b[1m2s\u001b[0m 568us/step - acc: 0.7528 - loss: 0.6939 - val_acc: 0.8166 - val_loss: 0.5190\n",
      "Epoch 60/200\n",
      "\u001b[1m4344/4344\u001b[0m \u001b[32m━━━━━━━━━━━━━━━━━━━━\u001b[0m\u001b[37m\u001b[0m \u001b[1m2s\u001b[0m 564us/step - acc: 0.7495 - loss: 0.7060 - val_acc: 0.8157 - val_loss: 0.5160\n",
      "Epoch 61/200\n",
      "\u001b[1m4344/4344\u001b[0m \u001b[32m━━━━━━━━━━━━━━━━━━━━\u001b[0m\u001b[37m\u001b[0m \u001b[1m3s\u001b[0m 584us/step - acc: 0.7473 - loss: 0.7096 - val_acc: 0.8184 - val_loss: 0.5170\n",
      "Epoch 62/200\n",
      "\u001b[1m4344/4344\u001b[0m \u001b[32m━━━━━━━━━━━━━━━━━━━━\u001b[0m\u001b[37m\u001b[0m \u001b[1m3s\u001b[0m 581us/step - acc: 0.7508 - loss: 0.7025 - val_acc: 0.8168 - val_loss: 0.5172\n",
      "Epoch 63/200\n",
      "\u001b[1m4344/4344\u001b[0m \u001b[32m━━━━━━━━━━━━━━━━━━━━\u001b[0m\u001b[37m\u001b[0m \u001b[1m3s\u001b[0m 592us/step - acc: 0.7482 - loss: 0.7037 - val_acc: 0.8139 - val_loss: 0.5197\n",
      "Epoch 64/200\n",
      "\u001b[1m4344/4344\u001b[0m \u001b[32m━━━━━━━━━━━━━━━━━━━━\u001b[0m\u001b[37m\u001b[0m \u001b[1m2s\u001b[0m 566us/step - acc: 0.7481 - loss: 0.7042 - val_acc: 0.8184 - val_loss: 0.5138\n",
      "Epoch 65/200\n",
      "\u001b[1m4344/4344\u001b[0m \u001b[32m━━━━━━━━━━━━━━━━━━━━\u001b[0m\u001b[37m\u001b[0m \u001b[1m2s\u001b[0m 563us/step - acc: 0.7509 - loss: 0.6971 - val_acc: 0.8170 - val_loss: 0.5168\n",
      "Epoch 66/200\n",
      "\u001b[1m4344/4344\u001b[0m \u001b[32m━━━━━━━━━━━━━━━━━━━━\u001b[0m\u001b[37m\u001b[0m \u001b[1m3s\u001b[0m 588us/step - acc: 0.7512 - loss: 0.6992 - val_acc: 0.8170 - val_loss: 0.5184\n",
      "Epoch 67/200\n",
      "\u001b[1m4344/4344\u001b[0m \u001b[32m━━━━━━━━━━━━━━━━━━━━\u001b[0m\u001b[37m\u001b[0m \u001b[1m3s\u001b[0m 578us/step - acc: 0.7530 - loss: 0.6937 - val_acc: 0.8181 - val_loss: 0.5158\n",
      "Epoch 68/200\n",
      "\u001b[1m4344/4344\u001b[0m \u001b[32m━━━━━━━━━━━━━━━━━━━━\u001b[0m\u001b[37m\u001b[0m \u001b[1m2s\u001b[0m 571us/step - acc: 0.7520 - loss: 0.6994 - val_acc: 0.8141 - val_loss: 0.5194\n",
      "Epoch 69/200\n",
      "\u001b[1m4344/4344\u001b[0m \u001b[32m━━━━━━━━━━━━━━━━━━━━\u001b[0m\u001b[37m\u001b[0m \u001b[1m2s\u001b[0m 564us/step - acc: 0.7526 - loss: 0.6955 - val_acc: 0.8150 - val_loss: 0.5172\n",
      "Epoch 70/200\n",
      "\u001b[1m4344/4344\u001b[0m \u001b[32m━━━━━━━━━━━━━━━━━━━━\u001b[0m\u001b[37m\u001b[0m \u001b[1m2s\u001b[0m 570us/step - acc: 0.7504 - loss: 0.6984 - val_acc: 0.8205 - val_loss: 0.5108\n",
      "Epoch 71/200\n",
      "\u001b[1m4344/4344\u001b[0m \u001b[32m━━━━━━━━━━━━━━━━━━━━\u001b[0m\u001b[37m\u001b[0m \u001b[1m2s\u001b[0m 560us/step - acc: 0.7516 - loss: 0.6969 - val_acc: 0.8160 - val_loss: 0.5133\n",
      "Epoch 72/200\n",
      "\u001b[1m4344/4344\u001b[0m \u001b[32m━━━━━━━━━━━━━━━━━━━━\u001b[0m\u001b[37m\u001b[0m \u001b[1m2s\u001b[0m 558us/step - acc: 0.7529 - loss: 0.6913 - val_acc: 0.8176 - val_loss: 0.5115\n",
      "Epoch 73/200\n",
      "\u001b[1m4344/4344\u001b[0m \u001b[32m━━━━━━━━━━━━━━━━━━━━\u001b[0m\u001b[37m\u001b[0m \u001b[1m3s\u001b[0m 579us/step - acc: 0.7524 - loss: 0.6912 - val_acc: 0.8182 - val_loss: 0.5147\n",
      "Epoch 74/200\n",
      "\u001b[1m4344/4344\u001b[0m \u001b[32m━━━━━━━━━━━━━━━━━━━━\u001b[0m\u001b[37m\u001b[0m \u001b[1m2s\u001b[0m 568us/step - acc: 0.7528 - loss: 0.6948 - val_acc: 0.8223 - val_loss: 0.5085\n",
      "Epoch 75/200\n",
      "\u001b[1m4344/4344\u001b[0m \u001b[32m━━━━━━━━━━━━━━━━━━━━\u001b[0m\u001b[37m\u001b[0m \u001b[1m2s\u001b[0m 560us/step - acc: 0.7519 - loss: 0.7000 - val_acc: 0.8178 - val_loss: 0.5081\n",
      "Epoch 76/200\n",
      "\u001b[1m4344/4344\u001b[0m \u001b[32m━━━━━━━━━━━━━━━━━━━━\u001b[0m\u001b[37m\u001b[0m \u001b[1m3s\u001b[0m 574us/step - acc: 0.7500 - loss: 0.6978 - val_acc: 0.8176 - val_loss: 0.5124\n",
      "Epoch 77/200\n",
      "\u001b[1m4344/4344\u001b[0m \u001b[32m━━━━━━━━━━━━━━━━━━━━\u001b[0m\u001b[37m\u001b[0m \u001b[1m3s\u001b[0m 589us/step - acc: 0.7513 - loss: 0.6938 - val_acc: 0.8195 - val_loss: 0.5083\n",
      "Epoch 78/200\n",
      "\u001b[1m4344/4344\u001b[0m \u001b[32m━━━━━━━━━━━━━━━━━━━━\u001b[0m\u001b[37m\u001b[0m \u001b[1m2s\u001b[0m 570us/step - acc: 0.7537 - loss: 0.6943 - val_acc: 0.8183 - val_loss: 0.5123\n",
      "Epoch 79/200\n",
      "\u001b[1m4344/4344\u001b[0m \u001b[32m━━━━━━━━━━━━━━━━━━━━\u001b[0m\u001b[37m\u001b[0m \u001b[1m3s\u001b[0m 578us/step - acc: 0.7533 - loss: 0.6940 - val_acc: 0.8174 - val_loss: 0.5100\n",
      "Epoch 80/200\n",
      "\u001b[1m4344/4344\u001b[0m \u001b[32m━━━━━━━━━━━━━━━━━━━━\u001b[0m\u001b[37m\u001b[0m \u001b[1m2s\u001b[0m 565us/step - acc: 0.7525 - loss: 0.6931 - val_acc: 0.8205 - val_loss: 0.5134\n",
      "Epoch 81/200\n",
      "\u001b[1m4344/4344\u001b[0m \u001b[32m━━━━━━━━━━━━━━━━━━━━\u001b[0m\u001b[37m\u001b[0m \u001b[1m2s\u001b[0m 571us/step - acc: 0.7531 - loss: 0.6934 - val_acc: 0.8187 - val_loss: 0.5115\n",
      "Epoch 82/200\n",
      "\u001b[1m4344/4344\u001b[0m \u001b[32m━━━━━━━━━━━━━━━━━━━━\u001b[0m\u001b[37m\u001b[0m \u001b[1m3s\u001b[0m 593us/step - acc: 0.7539 - loss: 0.6901 - val_acc: 0.8189 - val_loss: 0.5086\n",
      "Epoch 83/200\n",
      "\u001b[1m4344/4344\u001b[0m \u001b[32m━━━━━━━━━━━━━━━━━━━━\u001b[0m\u001b[37m\u001b[0m \u001b[1m2s\u001b[0m 567us/step - acc: 0.7543 - loss: 0.6940 - val_acc: 0.8156 - val_loss: 0.5150\n",
      "Epoch 84/200\n",
      "\u001b[1m4344/4344\u001b[0m \u001b[32m━━━━━━━━━━━━━━━━━━━━\u001b[0m\u001b[37m\u001b[0m \u001b[1m2s\u001b[0m 568us/step - acc: 0.7528 - loss: 0.6957 - val_acc: 0.8192 - val_loss: 0.5108\n",
      "Epoch 85/200\n",
      "\u001b[1m4344/4344\u001b[0m \u001b[32m━━━━━━━━━━━━━━━━━━━━\u001b[0m\u001b[37m\u001b[0m \u001b[1m2s\u001b[0m 561us/step - acc: 0.7524 - loss: 0.6941 - val_acc: 0.8164 - val_loss: 0.5113\n",
      "Epoch 86/200\n",
      "\u001b[1m4344/4344\u001b[0m \u001b[32m━━━━━━━━━━━━━━━━━━━━\u001b[0m\u001b[37m\u001b[0m \u001b[1m2s\u001b[0m 569us/step - acc: 0.7541 - loss: 0.6945 - val_acc: 0.8225 - val_loss: 0.5050\n",
      "Epoch 87/200\n",
      "\u001b[1m4344/4344\u001b[0m \u001b[32m━━━━━━━━━━━━━━━━━━━━\u001b[0m\u001b[37m\u001b[0m \u001b[1m3s\u001b[0m 573us/step - acc: 0.7539 - loss: 0.6929 - val_acc: 0.8227 - val_loss: 0.5085\n",
      "Epoch 88/200\n",
      "\u001b[1m4344/4344\u001b[0m \u001b[32m━━━━━━━━━━━━━━━━━━━━\u001b[0m\u001b[37m\u001b[0m \u001b[1m3s\u001b[0m 576us/step - acc: 0.7515 - loss: 0.6968 - val_acc: 0.8125 - val_loss: 0.5166\n",
      "Epoch 89/200\n",
      "\u001b[1m4344/4344\u001b[0m \u001b[32m━━━━━━━━━━━━━━━━━━━━\u001b[0m\u001b[37m\u001b[0m \u001b[1m3s\u001b[0m 582us/step - acc: 0.7561 - loss: 0.6910 - val_acc: 0.8189 - val_loss: 0.5098\n",
      "Epoch 90/200\n",
      "\u001b[1m4344/4344\u001b[0m \u001b[32m━━━━━━━━━━━━━━━━━━━━\u001b[0m\u001b[37m\u001b[0m \u001b[1m2s\u001b[0m 566us/step - acc: 0.7544 - loss: 0.6917 - val_acc: 0.8216 - val_loss: 0.5096\n",
      "Epoch 91/200\n",
      "\u001b[1m4344/4344\u001b[0m \u001b[32m━━━━━━━━━━━━━━━━━━━━\u001b[0m\u001b[37m\u001b[0m \u001b[1m2s\u001b[0m 567us/step - acc: 0.7526 - loss: 0.6902 - val_acc: 0.8199 - val_loss: 0.5100\n",
      "Epoch 92/200\n",
      "\u001b[1m4344/4344\u001b[0m \u001b[32m━━━━━━━━━━━━━━━━━━━━\u001b[0m\u001b[37m\u001b[0m \u001b[1m2s\u001b[0m 567us/step - acc: 0.7539 - loss: 0.6926 - val_acc: 0.8235 - val_loss: 0.5078\n",
      "Epoch 93/200\n",
      "\u001b[1m4344/4344\u001b[0m \u001b[32m━━━━━━━━━━━━━━━━━━━━\u001b[0m\u001b[37m\u001b[0m \u001b[1m2s\u001b[0m 567us/step - acc: 0.7531 - loss: 0.6951 - val_acc: 0.8236 - val_loss: 0.5095\n",
      "Epoch 94/200\n",
      "\u001b[1m4344/4344\u001b[0m \u001b[32m━━━━━━━━━━━━━━━━━━━━\u001b[0m\u001b[37m\u001b[0m \u001b[1m3s\u001b[0m 573us/step - acc: 0.7533 - loss: 0.6935 - val_acc: 0.8194 - val_loss: 0.5079\n",
      "Epoch 95/200\n",
      "\u001b[1m4344/4344\u001b[0m \u001b[32m━━━━━━━━━━━━━━━━━━━━\u001b[0m\u001b[37m\u001b[0m \u001b[1m2s\u001b[0m 572us/step - acc: 0.7548 - loss: 0.6895 - val_acc: 0.8217 - val_loss: 0.5098\n",
      "Epoch 96/200\n",
      "\u001b[1m4344/4344\u001b[0m \u001b[32m━━━━━━━━━━━━━━━━━━━━\u001b[0m\u001b[37m\u001b[0m \u001b[1m3s\u001b[0m 574us/step - acc: 0.7573 - loss: 0.6829 - val_acc: 0.8234 - val_loss: 0.5022\n",
      "Epoch 97/200\n",
      "\u001b[1m4344/4344\u001b[0m \u001b[32m━━━━━━━━━━━━━━━━━━━━\u001b[0m\u001b[37m\u001b[0m \u001b[1m2s\u001b[0m 563us/step - acc: 0.7559 - loss: 0.6842 - val_acc: 0.8233 - val_loss: 0.5108\n",
      "Epoch 98/200\n",
      "\u001b[1m4344/4344\u001b[0m \u001b[32m━━━━━━━━━━━━━━━━━━━━\u001b[0m\u001b[37m\u001b[0m \u001b[1m2s\u001b[0m 569us/step - acc: 0.7521 - loss: 0.6952 - val_acc: 0.8191 - val_loss: 0.5065\n",
      "Epoch 99/200\n",
      "\u001b[1m4344/4344\u001b[0m \u001b[32m━━━━━━━━━━━━━━━━━━━━\u001b[0m\u001b[37m\u001b[0m \u001b[1m2s\u001b[0m 566us/step - acc: 0.7520 - loss: 0.6906 - val_acc: 0.8215 - val_loss: 0.5088\n",
      "Epoch 100/200\n",
      "\u001b[1m4344/4344\u001b[0m \u001b[32m━━━━━━━━━━━━━━━━━━━━\u001b[0m\u001b[37m\u001b[0m \u001b[1m3s\u001b[0m 576us/step - acc: 0.7544 - loss: 0.6903 - val_acc: 0.8231 - val_loss: 0.5076\n",
      "Epoch 101/200\n",
      "\u001b[1m4344/4344\u001b[0m \u001b[32m━━━━━━━━━━━━━━━━━━━━\u001b[0m\u001b[37m\u001b[0m \u001b[1m3s\u001b[0m 575us/step - acc: 0.7555 - loss: 0.6883 - val_acc: 0.8215 - val_loss: 0.5078\n",
      "Epoch 102/200\n",
      "\u001b[1m4344/4344\u001b[0m \u001b[32m━━━━━━━━━━━━━━━━━━━━\u001b[0m\u001b[37m\u001b[0m \u001b[1m2s\u001b[0m 562us/step - acc: 0.7539 - loss: 0.6958 - val_acc: 0.8196 - val_loss: 0.5073\n",
      "Epoch 103/200\n",
      "\u001b[1m4344/4344\u001b[0m \u001b[32m━━━━━━━━━━━━━━━━━━━━\u001b[0m\u001b[37m\u001b[0m \u001b[1m2s\u001b[0m 557us/step - acc: 0.7554 - loss: 0.6840 - val_acc: 0.8215 - val_loss: 0.5093\n",
      "Epoch 104/200\n",
      "\u001b[1m4344/4344\u001b[0m \u001b[32m━━━━━━━━━━━━━━━━━━━━\u001b[0m\u001b[37m\u001b[0m \u001b[1m2s\u001b[0m 563us/step - acc: 0.7568 - loss: 0.6869 - val_acc: 0.8214 - val_loss: 0.5114\n",
      "Epoch 105/200\n",
      "\u001b[1m4344/4344\u001b[0m \u001b[32m━━━━━━━━━━━━━━━━━━━━\u001b[0m\u001b[37m\u001b[0m \u001b[1m3s\u001b[0m 573us/step - acc: 0.7554 - loss: 0.6907 - val_acc: 0.8198 - val_loss: 0.5058\n",
      "Epoch 106/200\n",
      "\u001b[1m4344/4344\u001b[0m \u001b[32m━━━━━━━━━━━━━━━━━━━━\u001b[0m\u001b[37m\u001b[0m \u001b[1m2s\u001b[0m 570us/step - acc: 0.7556 - loss: 0.6904 - val_acc: 0.8228 - val_loss: 0.5059\n",
      "Epoch 107/200\n",
      "\u001b[1m4344/4344\u001b[0m \u001b[32m━━━━━━━━━━━━━━━━━━━━\u001b[0m\u001b[37m\u001b[0m \u001b[1m3s\u001b[0m 590us/step - acc: 0.7533 - loss: 0.6938 - val_acc: 0.8269 - val_loss: 0.5065\n",
      "Epoch 108/200\n",
      "\u001b[1m4344/4344\u001b[0m \u001b[32m━━━━━━━━━━━━━━━━━━━━\u001b[0m\u001b[37m\u001b[0m \u001b[1m3s\u001b[0m 589us/step - acc: 0.7572 - loss: 0.6857 - val_acc: 0.8232 - val_loss: 0.5054\n",
      "Epoch 109/200\n",
      "\u001b[1m4344/4344\u001b[0m \u001b[32m━━━━━━━━━━━━━━━━━━━━\u001b[0m\u001b[37m\u001b[0m \u001b[1m3s\u001b[0m 577us/step - acc: 0.7562 - loss: 0.6885 - val_acc: 0.8227 - val_loss: 0.5058\n",
      "Epoch 110/200\n",
      "\u001b[1m4344/4344\u001b[0m \u001b[32m━━━━━━━━━━━━━━━━━━━━\u001b[0m\u001b[37m\u001b[0m \u001b[1m3s\u001b[0m 592us/step - acc: 0.7567 - loss: 0.6881 - val_acc: 0.8215 - val_loss: 0.5064\n",
      "Epoch 111/200\n",
      "\u001b[1m4344/4344\u001b[0m \u001b[32m━━━━━━━━━━━━━━━━━━━━\u001b[0m\u001b[37m\u001b[0m \u001b[1m2s\u001b[0m 568us/step - acc: 0.7555 - loss: 0.6856 - val_acc: 0.8239 - val_loss: 0.5040\n",
      "Epoch 112/200\n",
      "\u001b[1m4344/4344\u001b[0m \u001b[32m━━━━━━━━━━━━━━━━━━━━\u001b[0m\u001b[37m\u001b[0m \u001b[1m2s\u001b[0m 566us/step - acc: 0.7550 - loss: 0.6885 - val_acc: 0.8220 - val_loss: 0.5070\n",
      "Epoch 113/200\n",
      "\u001b[1m4344/4344\u001b[0m \u001b[32m━━━━━━━━━━━━━━━━━━━━\u001b[0m\u001b[37m\u001b[0m \u001b[1m3s\u001b[0m 587us/step - acc: 0.7562 - loss: 0.6888 - val_acc: 0.8257 - val_loss: 0.5019\n",
      "Epoch 114/200\n",
      "\u001b[1m4344/4344\u001b[0m \u001b[32m━━━━━━━━━━━━━━━━━━━━\u001b[0m\u001b[37m\u001b[0m \u001b[1m2s\u001b[0m 570us/step - acc: 0.7573 - loss: 0.6831 - val_acc: 0.8242 - val_loss: 0.5038\n",
      "Epoch 115/200\n",
      "\u001b[1m4344/4344\u001b[0m \u001b[32m━━━━━━━━━━━━━━━━━━━━\u001b[0m\u001b[37m\u001b[0m \u001b[1m2s\u001b[0m 565us/step - acc: 0.7565 - loss: 0.6858 - val_acc: 0.8236 - val_loss: 0.4990\n",
      "Epoch 116/200\n",
      "\u001b[1m4344/4344\u001b[0m \u001b[32m━━━━━━━━━━━━━━━━━━━━\u001b[0m\u001b[37m\u001b[0m \u001b[1m2s\u001b[0m 560us/step - acc: 0.7558 - loss: 0.6830 - val_acc: 0.8225 - val_loss: 0.5031\n",
      "Epoch 117/200\n",
      "\u001b[1m4344/4344\u001b[0m \u001b[32m━━━━━━━━━━━━━━━━━━━━\u001b[0m\u001b[37m\u001b[0m \u001b[1m3s\u001b[0m 579us/step - acc: 0.7578 - loss: 0.6826 - val_acc: 0.8247 - val_loss: 0.5018\n",
      "Epoch 118/200\n",
      "\u001b[1m4344/4344\u001b[0m \u001b[32m━━━━━━━━━━━━━━━━━━━━\u001b[0m\u001b[37m\u001b[0m \u001b[1m3s\u001b[0m 584us/step - acc: 0.7566 - loss: 0.6850 - val_acc: 0.8261 - val_loss: 0.5017\n",
      "Epoch 119/200\n",
      "\u001b[1m4344/4344\u001b[0m \u001b[32m━━━━━━━━━━━━━━━━━━━━\u001b[0m\u001b[37m\u001b[0m \u001b[1m2s\u001b[0m 572us/step - acc: 0.7579 - loss: 0.6821 - val_acc: 0.8244 - val_loss: 0.5027\n",
      "Epoch 120/200\n",
      "\u001b[1m4344/4344\u001b[0m \u001b[32m━━━━━━━━━━━━━━━━━━━━\u001b[0m\u001b[37m\u001b[0m \u001b[1m3s\u001b[0m 573us/step - acc: 0.7559 - loss: 0.6886 - val_acc: 0.8250 - val_loss: 0.5056\n",
      "Epoch 121/200\n",
      "\u001b[1m4344/4344\u001b[0m \u001b[32m━━━━━━━━━━━━━━━━━━━━\u001b[0m\u001b[37m\u001b[0m \u001b[1m2s\u001b[0m 570us/step - acc: 0.7576 - loss: 0.6817 - val_acc: 0.8238 - val_loss: 0.5085\n",
      "Epoch 122/200\n",
      "\u001b[1m4344/4344\u001b[0m \u001b[32m━━━━━━━━━━━━━━━━━━━━\u001b[0m\u001b[37m\u001b[0m \u001b[1m2s\u001b[0m 560us/step - acc: 0.7594 - loss: 0.6841 - val_acc: 0.8229 - val_loss: 0.5023\n",
      "Epoch 123/200\n",
      "\u001b[1m4344/4344\u001b[0m \u001b[32m━━━━━━━━━━━━━━━━━━━━\u001b[0m\u001b[37m\u001b[0m \u001b[1m2s\u001b[0m 560us/step - acc: 0.7575 - loss: 0.6864 - val_acc: 0.8242 - val_loss: 0.5040\n",
      "Epoch 124/200\n",
      "\u001b[1m4344/4344\u001b[0m \u001b[32m━━━━━━━━━━━━━━━━━━━━\u001b[0m\u001b[37m\u001b[0m \u001b[1m2s\u001b[0m 569us/step - acc: 0.7546 - loss: 0.6889 - val_acc: 0.8260 - val_loss: 0.5029\n",
      "Epoch 125/200\n",
      "\u001b[1m4344/4344\u001b[0m \u001b[32m━━━━━━━━━━━━━━━━━━━━\u001b[0m\u001b[37m\u001b[0m \u001b[1m3s\u001b[0m 578us/step - acc: 0.7559 - loss: 0.6860 - val_acc: 0.8226 - val_loss: 0.5040\n",
      "Epoch 126/200\n",
      "\u001b[1m4344/4344\u001b[0m \u001b[32m━━━━━━━━━━━━━━━━━━━━\u001b[0m\u001b[37m\u001b[0m \u001b[1m3s\u001b[0m 574us/step - acc: 0.7577 - loss: 0.6827 - val_acc: 0.8238 - val_loss: 0.4985\n",
      "Epoch 127/200\n",
      "\u001b[1m4344/4344\u001b[0m \u001b[32m━━━━━━━━━━━━━━━━━━━━\u001b[0m\u001b[37m\u001b[0m \u001b[1m3s\u001b[0m 572us/step - acc: 0.7563 - loss: 0.6835 - val_acc: 0.8221 - val_loss: 0.5053\n",
      "Epoch 128/200\n",
      "\u001b[1m4344/4344\u001b[0m \u001b[32m━━━━━━━━━━━━━━━━━━━━\u001b[0m\u001b[37m\u001b[0m \u001b[1m2s\u001b[0m 563us/step - acc: 0.7565 - loss: 0.6845 - val_acc: 0.8246 - val_loss: 0.5023\n",
      "Epoch 129/200\n",
      "\u001b[1m4344/4344\u001b[0m \u001b[32m━━━━━━━━━━━━━━━━━━━━\u001b[0m\u001b[37m\u001b[0m \u001b[1m2s\u001b[0m 566us/step - acc: 0.7591 - loss: 0.6833 - val_acc: 0.8270 - val_loss: 0.4999\n",
      "Epoch 130/200\n",
      "\u001b[1m4344/4344\u001b[0m \u001b[32m━━━━━━━━━━━━━━━━━━━━\u001b[0m\u001b[37m\u001b[0m \u001b[1m3s\u001b[0m 587us/step - acc: 0.7587 - loss: 0.6792 - val_acc: 0.8237 - val_loss: 0.5008\n",
      "Epoch 131/200\n",
      "\u001b[1m4344/4344\u001b[0m \u001b[32m━━━━━━━━━━━━━━━━━━━━\u001b[0m\u001b[37m\u001b[0m \u001b[1m2s\u001b[0m 568us/step - acc: 0.7579 - loss: 0.6822 - val_acc: 0.8201 - val_loss: 0.5044\n",
      "Epoch 132/200\n",
      "\u001b[1m4344/4344\u001b[0m \u001b[32m━━━━━━━━━━━━━━━━━━━━\u001b[0m\u001b[37m\u001b[0m \u001b[1m2s\u001b[0m 567us/step - acc: 0.7592 - loss: 0.6824 - val_acc: 0.8229 - val_loss: 0.5008\n",
      "Epoch 133/200\n",
      "\u001b[1m4344/4344\u001b[0m \u001b[32m━━━━━━━━━━━━━━━━━━━━\u001b[0m\u001b[37m\u001b[0m \u001b[1m3s\u001b[0m 577us/step - acc: 0.7559 - loss: 0.6822 - val_acc: 0.8241 - val_loss: 0.5021\n",
      "Epoch 134/200\n",
      "\u001b[1m4344/4344\u001b[0m \u001b[32m━━━━━━━━━━━━━━━━━━━━\u001b[0m\u001b[37m\u001b[0m \u001b[1m2s\u001b[0m 559us/step - acc: 0.7570 - loss: 0.6830 - val_acc: 0.8262 - val_loss: 0.5008\n",
      "Epoch 135/200\n",
      "\u001b[1m4344/4344\u001b[0m \u001b[32m━━━━━━━━━━━━━━━━━━━━\u001b[0m\u001b[37m\u001b[0m \u001b[1m2s\u001b[0m 566us/step - acc: 0.7571 - loss: 0.6816 - val_acc: 0.8241 - val_loss: 0.5021\n",
      "Epoch 136/200\n",
      "\u001b[1m4344/4344\u001b[0m \u001b[32m━━━━━━━━━━━━━━━━━━━━\u001b[0m\u001b[37m\u001b[0m \u001b[1m2s\u001b[0m 569us/step - acc: 0.7555 - loss: 0.6813 - val_acc: 0.8246 - val_loss: 0.5006\n",
      "Epoch 137/200\n",
      "\u001b[1m4344/4344\u001b[0m \u001b[32m━━━━━━━━━━━━━━━━━━━━\u001b[0m\u001b[37m\u001b[0m \u001b[1m2s\u001b[0m 563us/step - acc: 0.7611 - loss: 0.6764 - val_acc: 0.8254 - val_loss: 0.5009\n",
      "Epoch 138/200\n",
      "\u001b[1m4344/4344\u001b[0m \u001b[32m━━━━━━━━━━━━━━━━━━━━\u001b[0m\u001b[37m\u001b[0m \u001b[1m2s\u001b[0m 570us/step - acc: 0.7575 - loss: 0.6853 - val_acc: 0.8205 - val_loss: 0.5029\n",
      "Epoch 139/200\n",
      "\u001b[1m4344/4344\u001b[0m \u001b[32m━━━━━━━━━━━━━━━━━━━━\u001b[0m\u001b[37m\u001b[0m \u001b[1m2s\u001b[0m 572us/step - acc: 0.7549 - loss: 0.6848 - val_acc: 0.8246 - val_loss: 0.5034\n",
      "Epoch 140/200\n",
      "\u001b[1m4344/4344\u001b[0m \u001b[32m━━━━━━━━━━━━━━━━━━━━\u001b[0m\u001b[37m\u001b[0m \u001b[1m2s\u001b[0m 566us/step - acc: 0.7590 - loss: 0.6828 - val_acc: 0.8267 - val_loss: 0.4968\n",
      "Epoch 141/200\n",
      "\u001b[1m4344/4344\u001b[0m \u001b[32m━━━━━━━━━━━━━━━━━━━━\u001b[0m\u001b[37m\u001b[0m \u001b[1m3s\u001b[0m 573us/step - acc: 0.7601 - loss: 0.6779 - val_acc: 0.8268 - val_loss: 0.4960\n",
      "Epoch 142/200\n",
      "\u001b[1m4344/4344\u001b[0m \u001b[32m━━━━━━━━━━━━━━━━━━━━\u001b[0m\u001b[37m\u001b[0m \u001b[1m3s\u001b[0m 586us/step - acc: 0.7600 - loss: 0.6788 - val_acc: 0.8266 - val_loss: 0.4976\n",
      "Epoch 143/200\n",
      "\u001b[1m4344/4344\u001b[0m \u001b[32m━━━━━━━━━━━━━━━━━━━━\u001b[0m\u001b[37m\u001b[0m \u001b[1m3s\u001b[0m 581us/step - acc: 0.7599 - loss: 0.6773 - val_acc: 0.8269 - val_loss: 0.4985\n",
      "Epoch 144/200\n",
      "\u001b[1m4344/4344\u001b[0m \u001b[32m━━━━━━━━━━━━━━━━━━━━\u001b[0m\u001b[37m\u001b[0m \u001b[1m3s\u001b[0m 577us/step - acc: 0.7575 - loss: 0.6826 - val_acc: 0.8222 - val_loss: 0.5022\n",
      "Epoch 145/200\n",
      "\u001b[1m4344/4344\u001b[0m \u001b[32m━━━━━━━━━━━━━━━━━━━━\u001b[0m\u001b[37m\u001b[0m \u001b[1m3s\u001b[0m 603us/step - acc: 0.7603 - loss: 0.6750 - val_acc: 0.8237 - val_loss: 0.4989\n",
      "Epoch 146/200\n",
      "\u001b[1m4344/4344\u001b[0m \u001b[32m━━━━━━━━━━━━━━━━━━━━\u001b[0m\u001b[37m\u001b[0m \u001b[1m3s\u001b[0m 620us/step - acc: 0.7579 - loss: 0.6810 - val_acc: 0.8242 - val_loss: 0.4989\n",
      "Epoch 147/200\n",
      "\u001b[1m4344/4344\u001b[0m \u001b[32m━━━━━━━━━━━━━━━━━━━━\u001b[0m\u001b[37m\u001b[0m \u001b[1m3s\u001b[0m 608us/step - acc: 0.7576 - loss: 0.6823 - val_acc: 0.8233 - val_loss: 0.5017\n",
      "Epoch 148/200\n",
      "\u001b[1m4344/4344\u001b[0m \u001b[32m━━━━━━━━━━━━━━━━━━━━\u001b[0m\u001b[37m\u001b[0m \u001b[1m3s\u001b[0m 598us/step - acc: 0.7591 - loss: 0.6781 - val_acc: 0.8226 - val_loss: 0.5021\n",
      "Epoch 149/200\n",
      "\u001b[1m4344/4344\u001b[0m \u001b[32m━━━━━━━━━━━━━━━━━━━━\u001b[0m\u001b[37m\u001b[0m \u001b[1m3s\u001b[0m 594us/step - acc: 0.7575 - loss: 0.6805 - val_acc: 0.8234 - val_loss: 0.5022\n",
      "Epoch 150/200\n",
      "\u001b[1m4344/4344\u001b[0m \u001b[32m━━━━━━━━━━━━━━━━━━━━\u001b[0m\u001b[37m\u001b[0m \u001b[1m3s\u001b[0m 626us/step - acc: 0.7576 - loss: 0.6808 - val_acc: 0.8203 - val_loss: 0.5003\n",
      "Epoch 151/200\n",
      "\u001b[1m4344/4344\u001b[0m \u001b[32m━━━━━━━━━━━━━━━━━━━━\u001b[0m\u001b[37m\u001b[0m \u001b[1m3s\u001b[0m 638us/step - acc: 0.7618 - loss: 0.6732 - val_acc: 0.8295 - val_loss: 0.4940\n",
      "Epoch 152/200\n",
      "\u001b[1m4344/4344\u001b[0m \u001b[32m━━━━━━━━━━━━━━━━━━━━\u001b[0m\u001b[37m\u001b[0m \u001b[1m3s\u001b[0m 591us/step - acc: 0.7587 - loss: 0.6774 - val_acc: 0.8253 - val_loss: 0.4970\n",
      "Epoch 153/200\n",
      "\u001b[1m4344/4344\u001b[0m \u001b[32m━━━━━━━━━━━━━━━━━━━━\u001b[0m\u001b[37m\u001b[0m \u001b[1m3s\u001b[0m 594us/step - acc: 0.7600 - loss: 0.6773 - val_acc: 0.8248 - val_loss: 0.4990\n",
      "Epoch 154/200\n",
      "\u001b[1m4344/4344\u001b[0m \u001b[32m━━━━━━━━━━━━━━━━━━━━\u001b[0m\u001b[37m\u001b[0m \u001b[1m3s\u001b[0m 601us/step - acc: 0.7579 - loss: 0.6811 - val_acc: 0.8237 - val_loss: 0.4981\n",
      "Epoch 155/200\n",
      "\u001b[1m4344/4344\u001b[0m \u001b[32m━━━━━━━━━━━━━━━━━━━━\u001b[0m\u001b[37m\u001b[0m \u001b[1m3s\u001b[0m 576us/step - acc: 0.7562 - loss: 0.6832 - val_acc: 0.8245 - val_loss: 0.4978\n",
      "Epoch 156/200\n",
      "\u001b[1m4344/4344\u001b[0m \u001b[32m━━━━━━━━━━━━━━━━━━━━\u001b[0m\u001b[37m\u001b[0m \u001b[1m3s\u001b[0m 582us/step - acc: 0.7601 - loss: 0.6756 - val_acc: 0.8248 - val_loss: 0.4993\n",
      "Epoch 157/200\n",
      "\u001b[1m4344/4344\u001b[0m \u001b[32m━━━━━━━━━━━━━━━━━━━━\u001b[0m\u001b[37m\u001b[0m \u001b[1m3s\u001b[0m 589us/step - acc: 0.7597 - loss: 0.6773 - val_acc: 0.8242 - val_loss: 0.4990\n",
      "Epoch 158/200\n",
      "\u001b[1m4344/4344\u001b[0m \u001b[32m━━━━━━━━━━━━━━━━━━━━\u001b[0m\u001b[37m\u001b[0m \u001b[1m3s\u001b[0m 593us/step - acc: 0.7591 - loss: 0.6838 - val_acc: 0.8213 - val_loss: 0.4982\n",
      "Epoch 159/200\n",
      "\u001b[1m4344/4344\u001b[0m \u001b[32m━━━━━━━━━━━━━━━━━━━━\u001b[0m\u001b[37m\u001b[0m \u001b[1m3s\u001b[0m 586us/step - acc: 0.7586 - loss: 0.6790 - val_acc: 0.8266 - val_loss: 0.4994\n",
      "Epoch 160/200\n",
      "\u001b[1m4344/4344\u001b[0m \u001b[32m━━━━━━━━━━━━━━━━━━━━\u001b[0m\u001b[37m\u001b[0m \u001b[1m3s\u001b[0m 601us/step - acc: 0.7606 - loss: 0.6772 - val_acc: 0.8217 - val_loss: 0.4998\n",
      "Epoch 161/200\n",
      "\u001b[1m4344/4344\u001b[0m \u001b[32m━━━━━━━━━━━━━━━━━━━━\u001b[0m\u001b[37m\u001b[0m \u001b[1m3s\u001b[0m 596us/step - acc: 0.7595 - loss: 0.6809 - val_acc: 0.8266 - val_loss: 0.4979\n",
      "Epoch 162/200\n",
      "\u001b[1m4344/4344\u001b[0m \u001b[32m━━━━━━━━━━━━━━━━━━━━\u001b[0m\u001b[37m\u001b[0m \u001b[1m3s\u001b[0m 585us/step - acc: 0.7593 - loss: 0.6767 - val_acc: 0.8217 - val_loss: 0.4994\n",
      "Epoch 163/200\n",
      "\u001b[1m4344/4344\u001b[0m \u001b[32m━━━━━━━━━━━━━━━━━━━━\u001b[0m\u001b[37m\u001b[0m \u001b[1m3s\u001b[0m 581us/step - acc: 0.7594 - loss: 0.6825 - val_acc: 0.8267 - val_loss: 0.4968\n",
      "Epoch 164/200\n",
      "\u001b[1m4344/4344\u001b[0m \u001b[32m━━━━━━━━━━━━━━━━━━━━\u001b[0m\u001b[37m\u001b[0m \u001b[1m3s\u001b[0m 579us/step - acc: 0.7578 - loss: 0.6791 - val_acc: 0.8248 - val_loss: 0.4960\n",
      "Epoch 165/200\n",
      "\u001b[1m4344/4344\u001b[0m \u001b[32m━━━━━━━━━━━━━━━━━━━━\u001b[0m\u001b[37m\u001b[0m \u001b[1m3s\u001b[0m 586us/step - acc: 0.7586 - loss: 0.6777 - val_acc: 0.8249 - val_loss: 0.4980\n",
      "Epoch 166/200\n",
      "\u001b[1m4344/4344\u001b[0m \u001b[32m━━━━━━━━━━━━━━━━━━━━\u001b[0m\u001b[37m\u001b[0m \u001b[1m3s\u001b[0m 604us/step - acc: 0.7602 - loss: 0.6779 - val_acc: 0.8284 - val_loss: 0.4963\n",
      "Epoch 167/200\n",
      "\u001b[1m4344/4344\u001b[0m \u001b[32m━━━━━━━━━━━━━━━━━━━━\u001b[0m\u001b[37m\u001b[0m \u001b[1m3s\u001b[0m 615us/step - acc: 0.7604 - loss: 0.6779 - val_acc: 0.8261 - val_loss: 0.4945\n",
      "Epoch 168/200\n",
      "\u001b[1m4344/4344\u001b[0m \u001b[32m━━━━━━━━━━━━━━━━━━━━\u001b[0m\u001b[37m\u001b[0m \u001b[1m3s\u001b[0m 583us/step - acc: 0.7594 - loss: 0.6745 - val_acc: 0.8263 - val_loss: 0.4935\n",
      "Epoch 169/200\n",
      "\u001b[1m4344/4344\u001b[0m \u001b[32m━━━━━━━━━━━━━━━━━━━━\u001b[0m\u001b[37m\u001b[0m \u001b[1m3s\u001b[0m 582us/step - acc: 0.7596 - loss: 0.6784 - val_acc: 0.8261 - val_loss: 0.5003\n",
      "Epoch 170/200\n",
      "\u001b[1m4344/4344\u001b[0m \u001b[32m━━━━━━━━━━━━━━━━━━━━\u001b[0m\u001b[37m\u001b[0m \u001b[1m3s\u001b[0m 603us/step - acc: 0.7563 - loss: 0.6855 - val_acc: 0.8230 - val_loss: 0.5014\n",
      "Epoch 171/200\n",
      "\u001b[1m4344/4344\u001b[0m \u001b[32m━━━━━━━━━━━━━━━━━━━━\u001b[0m\u001b[37m\u001b[0m \u001b[1m3s\u001b[0m 603us/step - acc: 0.7588 - loss: 0.6811 - val_acc: 0.8275 - val_loss: 0.4982\n",
      "Epoch 172/200\n",
      "\u001b[1m4344/4344\u001b[0m \u001b[32m━━━━━━━━━━━━━━━━━━━━\u001b[0m\u001b[37m\u001b[0m \u001b[1m3s\u001b[0m 608us/step - acc: 0.7591 - loss: 0.6787 - val_acc: 0.8269 - val_loss: 0.4964\n",
      "Epoch 173/200\n",
      "\u001b[1m4344/4344\u001b[0m \u001b[32m━━━━━━━━━━━━━━━━━━━━\u001b[0m\u001b[37m\u001b[0m \u001b[1m3s\u001b[0m 618us/step - acc: 0.7577 - loss: 0.6815 - val_acc: 0.8239 - val_loss: 0.4991\n",
      "Epoch 174/200\n",
      "\u001b[1m4344/4344\u001b[0m \u001b[32m━━━━━━━━━━━━━━━━━━━━\u001b[0m\u001b[37m\u001b[0m \u001b[1m3s\u001b[0m 591us/step - acc: 0.7598 - loss: 0.6761 - val_acc: 0.8278 - val_loss: 0.4932\n",
      "Epoch 175/200\n",
      "\u001b[1m4344/4344\u001b[0m \u001b[32m━━━━━━━━━━━━━━━━━━━━\u001b[0m\u001b[37m\u001b[0m \u001b[1m3s\u001b[0m 590us/step - acc: 0.7618 - loss: 0.6717 - val_acc: 0.8250 - val_loss: 0.5003\n",
      "Epoch 176/200\n",
      "\u001b[1m4344/4344\u001b[0m \u001b[32m━━━━━━━━━━━━━━━━━━━━\u001b[0m\u001b[37m\u001b[0m \u001b[1m3s\u001b[0m 610us/step - acc: 0.7597 - loss: 0.6794 - val_acc: 0.8279 - val_loss: 0.4953\n",
      "Epoch 177/200\n",
      "\u001b[1m4344/4344\u001b[0m \u001b[32m━━━━━━━━━━━━━━━━━━━━\u001b[0m\u001b[37m\u001b[0m \u001b[1m3s\u001b[0m 588us/step - acc: 0.7577 - loss: 0.6845 - val_acc: 0.8257 - val_loss: 0.4953\n",
      "Epoch 178/200\n",
      "\u001b[1m4344/4344\u001b[0m \u001b[32m━━━━━━━━━━━━━━━━━━━━\u001b[0m\u001b[37m\u001b[0m \u001b[1m3s\u001b[0m 596us/step - acc: 0.7578 - loss: 0.6810 - val_acc: 0.8267 - val_loss: 0.4913\n",
      "Epoch 179/200\n",
      "\u001b[1m4344/4344\u001b[0m \u001b[32m━━━━━━━━━━━━━━━━━━━━\u001b[0m\u001b[37m\u001b[0m \u001b[1m3s\u001b[0m 608us/step - acc: 0.7606 - loss: 0.6702 - val_acc: 0.8268 - val_loss: 0.4962\n",
      "Epoch 180/200\n",
      "\u001b[1m4344/4344\u001b[0m \u001b[32m━━━━━━━━━━━━━━━━━━━━\u001b[0m\u001b[37m\u001b[0m \u001b[1m3s\u001b[0m 593us/step - acc: 0.7618 - loss: 0.6753 - val_acc: 0.8284 - val_loss: 0.4938\n",
      "Epoch 181/200\n",
      "\u001b[1m4344/4344\u001b[0m \u001b[32m━━━━━━━━━━━━━━━━━━━━\u001b[0m\u001b[37m\u001b[0m \u001b[1m3s\u001b[0m 595us/step - acc: 0.7588 - loss: 0.6797 - val_acc: 0.8301 - val_loss: 0.4910\n",
      "Epoch 182/200\n",
      "\u001b[1m4344/4344\u001b[0m \u001b[32m━━━━━━━━━━━━━━━━━━━━\u001b[0m\u001b[37m\u001b[0m \u001b[1m3s\u001b[0m 602us/step - acc: 0.7587 - loss: 0.6846 - val_acc: 0.8258 - val_loss: 0.4970\n",
      "Epoch 183/200\n",
      "\u001b[1m4344/4344\u001b[0m \u001b[32m━━━━━━━━━━━━━━━━━━━━\u001b[0m\u001b[37m\u001b[0m \u001b[1m3s\u001b[0m 596us/step - acc: 0.7608 - loss: 0.6781 - val_acc: 0.8265 - val_loss: 0.4976\n",
      "Epoch 184/200\n",
      "\u001b[1m4344/4344\u001b[0m \u001b[32m━━━━━━━━━━━━━━━━━━━━\u001b[0m\u001b[37m\u001b[0m \u001b[1m3s\u001b[0m 616us/step - acc: 0.7608 - loss: 0.6738 - val_acc: 0.8269 - val_loss: 0.4927\n",
      "Epoch 185/200\n",
      "\u001b[1m4344/4344\u001b[0m \u001b[32m━━━━━━━━━━━━━━━━━━━━\u001b[0m\u001b[37m\u001b[0m \u001b[1m3s\u001b[0m 615us/step - acc: 0.7608 - loss: 0.6741 - val_acc: 0.8262 - val_loss: 0.5015\n",
      "Epoch 186/200\n",
      "\u001b[1m4344/4344\u001b[0m \u001b[32m━━━━━━━━━━━━━━━━━━━━\u001b[0m\u001b[37m\u001b[0m \u001b[1m3s\u001b[0m 602us/step - acc: 0.7607 - loss: 0.6718 - val_acc: 0.8308 - val_loss: 0.4913\n",
      "Epoch 187/200\n",
      "\u001b[1m4344/4344\u001b[0m \u001b[32m━━━━━━━━━━━━━━━━━━━━\u001b[0m\u001b[37m\u001b[0m \u001b[1m3s\u001b[0m 590us/step - acc: 0.7600 - loss: 0.6747 - val_acc: 0.8270 - val_loss: 0.4906\n",
      "Epoch 188/200\n",
      "\u001b[1m4344/4344\u001b[0m \u001b[32m━━━━━━━━━━━━━━━━━━━━\u001b[0m\u001b[37m\u001b[0m \u001b[1m3s\u001b[0m 608us/step - acc: 0.7614 - loss: 0.6760 - val_acc: 0.8258 - val_loss: 0.4955\n",
      "Epoch 189/200\n",
      "\u001b[1m4344/4344\u001b[0m \u001b[32m━━━━━━━━━━━━━━━━━━━━\u001b[0m\u001b[37m\u001b[0m \u001b[1m3s\u001b[0m 609us/step - acc: 0.7592 - loss: 0.6774 - val_acc: 0.8272 - val_loss: 0.4965\n",
      "Epoch 190/200\n",
      "\u001b[1m4344/4344\u001b[0m \u001b[32m━━━━━━━━━━━━━━━━━━━━\u001b[0m\u001b[37m\u001b[0m \u001b[1m3s\u001b[0m 606us/step - acc: 0.7616 - loss: 0.6754 - val_acc: 0.8276 - val_loss: 0.4931\n",
      "Epoch 191/200\n",
      "\u001b[1m4344/4344\u001b[0m \u001b[32m━━━━━━━━━━━━━━━━━━━━\u001b[0m\u001b[37m\u001b[0m \u001b[1m3s\u001b[0m 600us/step - acc: 0.7611 - loss: 0.6729 - val_acc: 0.8277 - val_loss: 0.4921\n",
      "Epoch 192/200\n",
      "\u001b[1m4344/4344\u001b[0m \u001b[32m━━━━━━━━━━━━━━━━━━━━\u001b[0m\u001b[37m\u001b[0m \u001b[1m3s\u001b[0m 601us/step - acc: 0.7613 - loss: 0.6744 - val_acc: 0.8303 - val_loss: 0.4927\n",
      "Epoch 193/200\n",
      "\u001b[1m4344/4344\u001b[0m \u001b[32m━━━━━━━━━━━━━━━━━━━━\u001b[0m\u001b[37m\u001b[0m \u001b[1m3s\u001b[0m 596us/step - acc: 0.7602 - loss: 0.6727 - val_acc: 0.8280 - val_loss: 0.4920\n",
      "Epoch 194/200\n",
      "\u001b[1m4344/4344\u001b[0m \u001b[32m━━━━━━━━━━━━━━━━━━━━\u001b[0m\u001b[37m\u001b[0m \u001b[1m3s\u001b[0m 603us/step - acc: 0.7623 - loss: 0.6761 - val_acc: 0.8263 - val_loss: 0.4956\n",
      "Epoch 195/200\n",
      "\u001b[1m4344/4344\u001b[0m \u001b[32m━━━━━━━━━━━━━━━━━━━━\u001b[0m\u001b[37m\u001b[0m \u001b[1m3s\u001b[0m 599us/step - acc: 0.7622 - loss: 0.6728 - val_acc: 0.8300 - val_loss: 0.4924\n",
      "Epoch 196/200\n",
      "\u001b[1m4344/4344\u001b[0m \u001b[32m━━━━━━━━━━━━━━━━━━━━\u001b[0m\u001b[37m\u001b[0m \u001b[1m3s\u001b[0m 597us/step - acc: 0.7611 - loss: 0.6752 - val_acc: 0.8272 - val_loss: 0.4963\n",
      "Epoch 197/200\n",
      "\u001b[1m4344/4344\u001b[0m \u001b[32m━━━━━━━━━━━━━━━━━━━━\u001b[0m\u001b[37m\u001b[0m \u001b[1m3s\u001b[0m 607us/step - acc: 0.7608 - loss: 0.6754 - val_acc: 0.8280 - val_loss: 0.4949\n",
      "Epoch 198/200\n",
      "\u001b[1m4344/4344\u001b[0m \u001b[32m━━━━━━━━━━━━━━━━━━━━\u001b[0m\u001b[37m\u001b[0m \u001b[1m3s\u001b[0m 612us/step - acc: 0.7610 - loss: 0.6770 - val_acc: 0.8259 - val_loss: 0.4957\n",
      "Epoch 199/200\n",
      "\u001b[1m4344/4344\u001b[0m \u001b[32m━━━━━━━━━━━━━━━━━━━━\u001b[0m\u001b[37m\u001b[0m \u001b[1m3s\u001b[0m 621us/step - acc: 0.7602 - loss: 0.6764 - val_acc: 0.8264 - val_loss: 0.4922\n",
      "Epoch 200/200\n",
      "\u001b[1m4344/4344\u001b[0m \u001b[32m━━━━━━━━━━━━━━━━━━━━\u001b[0m\u001b[37m\u001b[0m \u001b[1m3s\u001b[0m 628us/step - acc: 0.7620 - loss: 0.6759 - val_acc: 0.8267 - val_loss: 0.4926\n"
     ]
    }
   ],
   "source": [
    "### Train the model\n",
    "history = model.fit(X_train,\n",
    "                    y_train,\n",
    "                    batch_size=32,\n",
    "                    epochs=200,\n",
    "                    verbose=1,\n",
    "                    validation_data=(X_val, y_val)\n",
    "                   )"
   ]
  },
  {
   "cell_type": "markdown",
   "id": "fe785364-a10d-438c-8d65-0e833745e292",
   "metadata": {},
   "source": [
    "Evaluate model"
   ]
  },
  {
   "cell_type": "code",
   "execution_count": 14,
   "id": "326cc23e-300e-4fe7-80ec-a50263541c4f",
   "metadata": {},
   "outputs": [
    {
     "data": {
      "image/png": "[encoded data removed]",
      "text/plain": [
       "<Figure size 640x480 with 1 Axes>"
      ]
     },
     "metadata": {},
     "output_type": "display_data"
    },
    {
     "data": {
      "image/png": "[encoded data removed]",
      "text/plain": [
       "<Figure size 640x480 with 1 Axes>"
      ]
     },
     "metadata": {},
     "output_type": "display_data"
    }
   ],
   "source": [
    "### Plot training and validation accuracy and loss over time\n",
    "\n",
    "# Extract accuracy and loss values (in list form) from the history\n",
    "acc = history.history['acc']\n",
    "val_acc = history.history['val_acc']\n",
    "loss = history.history['loss']\n",
    "val_loss = history.history['val_loss']\n",
    "\n",
    "# Create a list of epoch numbers\n",
    "epochs = range(1, len(acc) + 1)\n",
    "\n",
    "# Plot training and validation loss values over time\n",
    "plt.figure()\n",
    "plt.plot(epochs, loss, color='blue', marker='.', label='Training loss')\n",
    "plt.plot(epochs, val_loss, color='orange', marker='.', label='Validation loss')\n",
    "plt.title('Training and validation loss')\n",
    "plt.legend()\n",
    "\n",
    "# Plot training and validation accuracies over time\n",
    "plt.figure()\n",
    "plt.plot(epochs, acc, color='blue', marker='.', label='Training acc')\n",
    "plt.plot(epochs, val_acc, color='orange', marker='.', label='Validation acc')\n",
    "plt.title('Training and validation accuracy')\n",
    "plt.legend()\n",
    "plt.show()"
   ]
  },
  {
   "cell_type": "code",
   "execution_count": 15,
   "id": "9a4c5361-5ec8-4257-a6d3-70eb1107ab7f",
   "metadata": {},
   "outputs": [
    {
     "name": "stdout",
     "output_type": "stream",
     "text": [
      "\u001b[1m1086/1086\u001b[0m \u001b[32m━━━━━━━━━━━━━━━━━━━━\u001b[0m\u001b[37m\u001b[0m \u001b[1m1s\u001b[0m 416us/step\n",
      "Validation output shape: (34747, 11)\n",
      "Actual validation labels:\t [ 9  7  8  3 10  2  8  0  3 10  7  5  6  1  5  2  3  5  7  6  6 10  9  3\n",
      "  3  5  8  7  8  3  3  7  3  5  9  8  2 10  8  0  7  2  3  8  5  6  2  6\n",
      "  9  4]\n",
      "Predicted validation labels:\t [ 9  7  8  3 10  2  3  3  3 10  7  5  6  1  5  2  3  5  7  6  6 10  9  3\n",
      "  3  5  8  7  0  3  3  7  4  5  9  8  2 10  8  4  7  2  3  7  5  6  8  6\n",
      "  9  8]\n",
      "\n",
      " ---> Predicted labels\n",
      "|\n",
      "v Actual labels\n",
      "\t\t\t(0)    (1)    (2)    (3)    (4)    (5)    (6)    (7)    (8)    (9)    (10)  \n",
      "           0 (0):  [  1756     18     12    184    343     13      0      7    162      0      0]\n",
      "           1 (1):  [   122   2658     93     26    158     17      0     28    642      0      0]\n",
      "           2 (2):  [    71     35   2738    107    155      0      0      0    192      0      0]\n",
      "           3 (3):  [   296     20     54   2599    269     29      0      4    156      0      0]\n",
      "           4 (4):  [   502     94     74    188   1704     28      0      9    205      0      0]\n",
      "           5 (5):  [   100     14      5     51    113   2979      0      3     47      0      0]\n",
      "           6 (6):  [    21      5      2      3      2      0   3163      0      1      0      0]\n",
      "           7 (7):  [   120    134     52     26    191     60      0   3118    133      0      3]\n",
      "           8 (8):  [   179    122     35     36    172     14      0      0   1699      0      0]\n",
      "           9 (9):  [     7      1      4      0      6      1      0      0      3   3188      0]\n",
      "          10 (10):  [     5     10      1      2      3      0      0     13     10      0   3122]\n"
     ]
    }
   ],
   "source": [
    "### Create confusion matrix from validation set\n",
    "\n",
    "# Find predictions from all validation samples\n",
    "y_pred = model.predict(X_val)\n",
    "print(\"Validation output shape:\", y_pred.shape)\n",
    "\n",
    "# Convert actual and predicted validation one-hot encoding to numerical labels\n",
    "y_val_trans = np.argmax(y_val, axis=1)\n",
    "y_pred_trans = np.argmax(y_pred, axis=1)\n",
    "\n",
    "# Print some values from actual and predicted validation sets (first 50 samples)\n",
    "print(\"Actual validation labels:\\t\", y_val_trans[:50])\n",
    "print(\"Predicted validation labels:\\t\", y_pred_trans[:50])\n",
    "\n",
    "# Compute confusion matrix (note: we need to transpose SKLearn matrix to make it match Edge Impulse)\n",
    "cm = confusion_matrix(y_val_trans, y_pred_trans)\n",
    "cm = np.transpose(cm)\n",
    "\n",
    "labels = range(len(gdf['UNUSO'].unique()))\n",
    "\n",
    "# Print confusion matrix\n",
    "print()\n",
    "print(\" ---> Predicted labels\")\n",
    "print(\"|\")\n",
    "print(\"v Actual labels\")\n",
    "print(\"\\t\\t\\t\" + ' '.join(\"{!s:6}\".format('(' + str(i) + ')') for i in range(num_classes)))\n",
    "for row in range(num_classes):\n",
    "  print(\"{:>12} ({}):  [{}]\".format(labels[row], row, ' '.join(\"{:6}\".format(i) for i in cm[row])))\n",
    "    "
   ]
  },
  {
   "cell_type": "markdown",
   "id": "8be37c16-612e-40bd-a52c-5c29f82d7a49",
   "metadata": {},
   "source": [
    "Predict landuse for every element"
   ]
  },
  {
   "cell_type": "code",
   "execution_count": 16,
   "id": "c0a037f4-092d-48ad-978e-153eab95c3f0",
   "metadata": {},
   "outputs": [
    {
     "name": "stdout",
     "output_type": "stream",
     "text": [
      "\u001b[1m836/836\u001b[0m \u001b[32m━━━━━━━━━━━━━━━━━━━━\u001b[0m\u001b[37m\u001b[0m \u001b[1m1s\u001b[0m 694us/step\n"
     ]
    },
    {
     "name": "stderr",
     "output_type": "stream",
     "text": [
      "2025-04-25 09:21:04.340275: I external/local_xla/xla/stream_executor/cuda/subprocess_compilation.cc:346] ptxas warning : Registers are spilled to local memory in function 'gemm_fusion_dot_16', 8 bytes spill stores, 8 bytes spill loads\n",
      "\n"
     ]
    }
   ],
   "source": [
    "y_hat = model.predict(X_scaled)"
   ]
  },
  {
   "cell_type": "markdown",
   "id": "0b261529-9bc7-4797-96c3-11250d8a057f",
   "metadata": {},
   "source": [
    "Assign data to polygons"
   ]
  },
  {
   "cell_type": "code",
   "execution_count": 17,
   "id": "531318ae-91e3-4725-a6aa-695604f5cc84",
   "metadata": {},
   "outputs": [],
   "source": [
    "gdf['pred'] = y_hat.argmax(axis=1)"
   ]
  },
  {
   "cell_type": "markdown",
   "id": "d5231504-e17c-4156-a19c-091e8269682c",
   "metadata": {},
   "source": [
    "### Save output"
   ]
  },
  {
   "cell_type": "code",
   "execution_count": 18,
   "id": "60141096-5433-421e-8f2f-4ad293ac4d6b",
   "metadata": {},
   "outputs": [],
   "source": [
    "gdf.to_file('../../data/processed/prediccion_uso_suelo/tess_pred_test.geojson')"
   ]
  },
  {
   "cell_type": "code",
   "execution_count": null,
   "id": "1cb336fd-8ac2-47ad-bc50-3778f3b88e07",
   "metadata": {},
   "outputs": [],
   "source": []
  }
 ],
 "metadata": {
  "kernelspec": {
   "display_name": "GDS-10.0",
   "language": "python",
   "name": "gds"
  },
  "language_info": {
   "codemirror_mode": {
    "name": "ipython",
    "version": 3
   },
   "file_extension": ".py",
   "mimetype": "text/x-python",
   "name": "python",
   "nbconvert_exporter": "python",
   "pygments_lexer": "ipython3",
   "version": "3.9.18"
  }
 },
 "nbformat": 4,
 "nbformat_minor": 5
}
