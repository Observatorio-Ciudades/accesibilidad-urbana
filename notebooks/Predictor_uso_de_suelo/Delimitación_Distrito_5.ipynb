{
 "cells": [
  {
   "cell_type": "code",
   "execution_count": 2,
   "id": "d3837ca5-cf02-48c5-8db7-5edcc6a28a21",
   "metadata": {},
   "outputs": [],
   "source": [
    "import geopandas as gpd\n",
    "import pandas as pd\n",
    "import numpy as np\n",
    "import os\n",
    "import sys\n",
    "import matplotlib.pyplot as plt\n",
    "import seaborn as sns\n",
    "import scipy\n",
    "\n",
    "module_path = os.path.abspath(os.path.join('../../'))\n",
    "if module_path not in sys.path:\n",
    "    sys.path.append(module_path)\n",
    "    import aup\n",
    "else:\n",
    "    import aup\n",
    "\n",
    "# from sklearn.model_selection import train_test_split\n",
    "# from sklearn.preprocessing import StandardScaler\n",
    "# from imblearn.over_sampling import SMOTE  \n",
    "\n",
    "\n",
    "\n",
    "# from keras import utils                                   # tools for creating one-hot encoding\n",
    "# from keras.models import Sequential                       # Type of model we wish to use\n",
    "# from keras.layers import Dense, Dropout, Activation  \n",
    "from sklearn.preprocessing import LabelEncoder\n",
    "# from scikeras.wrappers import KerasClassifier, KerasRegressor\n",
    "from keras import utils  \n",
    "from sklearn.model_selection import cross_val_score\n",
    "from sklearn.model_selection import KFold\n",
    "from sklearn.preprocessing import LabelEncoder\n",
    "# from sklearn.pipeline import Pipeline\n",
    "\n",
    "from sklearn.metrics import r2_score, mean_squared_error, mean_absolute_error,confusion_matrix"
   ]
  },
  {
   "cell_type": "code",
   "execution_count": 3,
   "id": "99fdba5e-0abb-48f1-80ca-04d01bf720eb",
   "metadata": {},
   "outputs": [
    {
     "data": {
      "text/html": [
       "<div>\n",
       "<style scoped>\n",
       "    .dataframe tbody tr th:only-of-type {\n",
       "        vertical-align: middle;\n",
       "    }\n",
       "\n",
       "    .dataframe tbody tr th {\n",
       "        vertical-align: top;\n",
       "    }\n",
       "\n",
       "    .dataframe thead th {\n",
       "        text-align: right;\n",
       "    }\n",
       "</style>\n",
       "<table border=\"1\" class=\"dataframe\">\n",
       "  <thead>\n",
       "    <tr style=\"text-align: right;\">\n",
       "      <th></th>\n",
       "      <th>id</th>\n",
       "      <th>Area_m2</th>\n",
       "      <th>Area_ha</th>\n",
       "      <th>geometry</th>\n",
       "    </tr>\n",
       "  </thead>\n",
       "  <tbody>\n",
       "    <tr>\n",
       "      <th>0</th>\n",
       "      <td>None</td>\n",
       "      <td>None</td>\n",
       "      <td>None</td>\n",
       "      <td>MULTIPOLYGON (((660394.592 2284246.741, 660558...</td>\n",
       "    </tr>\n",
       "  </tbody>\n",
       "</table>\n",
       "</div>"
      ],
      "text/plain": [
       "     id Area_m2 Area_ha                                           geometry\n",
       "0  None    None    None  MULTIPOLYGON (((660394.592 2284246.741, 660558..."
      ]
     },
     "execution_count": 3,
     "metadata": {},
     "output_type": "execute_result"
    }
   ],
   "source": [
    "data_example_d7 = gpd.read_file(\"Distrito_Zona7.geojson\")\n",
    "data_example_d7.head(4)"
   ]
  },
  {
   "cell_type": "code",
   "execution_count": 11,
   "id": "9f1aecc2-0cfc-4ff6-a424-20c20599653d",
   "metadata": {},
   "outputs": [
    {
     "data": {
      "text/plain": [
       "Index(['id', 'Area_m2', 'Area_ha', 'geometry'], dtype='object')"
      ]
     },
     "execution_count": 11,
     "metadata": {},
     "output_type": "execute_result"
    }
   ],
   "source": [
    "data_example_d7.columns"
   ]
  },
  {
   "cell_type": "code",
   "execution_count": 13,
   "id": "8695d25e-6f1d-40e6-b840-81bce49ecdf1",
   "metadata": {},
   "outputs": [
    {
     "data": {
      "text/plain": [
       "<Projected CRS: EPSG:32613>\n",
       "Name: WGS 84 / UTM zone 13N\n",
       "Axis Info [cartesian]:\n",
       "- E[east]: Easting (metre)\n",
       "- N[north]: Northing (metre)\n",
       "Area of Use:\n",
       "- name: Between 108°W and 102°W, northern hemisphere between equator and 84°N, onshore and offshore. Canada - Northwest Territories (NWT); Nunavut; Saskatchewan. Mexico. United States (USA).\n",
       "- bounds: (-108.0, 0.0, -102.0, 84.0)\n",
       "Coordinate Operation:\n",
       "- name: UTM zone 13N\n",
       "- method: Transverse Mercator\n",
       "Datum: World Geodetic System 1984 ensemble\n",
       "- Ellipsoid: WGS 84\n",
       "- Prime Meridian: Greenwich"
      ]
     },
     "execution_count": 13,
     "metadata": {},
     "output_type": "execute_result"
    }
   ],
   "source": [
    "data_example_d7.crs"
   ]
  },
  {
   "cell_type": "code",
   "execution_count": 5,
   "id": "0f5fe24f-0194-4839-86a8-2b3bcc038ece",
   "metadata": {},
   "outputs": [
    {
     "name": "stdout",
     "output_type": "stream",
     "text": [
      "Archivos extraídos: ['USOS_ZONA_5/USOS_ZONA_5.cpg', 'USOS_ZONA_5/USOS_ZONA_5.dbf', 'USOS_ZONA_5/USOS_ZONA_5.prj', 'USOS_ZONA_5/USOS_ZONA_5.qmd', 'USOS_ZONA_5/USOS_ZONA_5.shp', 'USOS_ZONA_5/USOS_ZONA_5.shx']\n"
     ]
    }
   ],
   "source": [
    "# Unzip \"Distrito\":\n",
    "import zipfile\n",
    "zip_path = \"USOS_ZONA_5.zip\"\n",
    "\n",
    "with zipfile.ZipFile(zip_path, 'r') as zip_ref:\n",
    "    zip_ref.extractall()\n",
    "    print(\"Archivos extraídos:\", zip_ref.namelist())"
   ]
  },
  {
   "cell_type": "code",
   "execution_count": 8,
   "id": "094601a2-edb0-4583-96c8-6e92426b6b86",
   "metadata": {},
   "outputs": [
    {
     "data": {
      "text/html": [
       "<div>\n",
       "<style scoped>\n",
       "    .dataframe tbody tr th:only-of-type {\n",
       "        vertical-align: middle;\n",
       "    }\n",
       "\n",
       "    .dataframe tbody tr th {\n",
       "        vertical-align: top;\n",
       "    }\n",
       "\n",
       "    .dataframe thead th {\n",
       "        text-align: right;\n",
       "    }\n",
       "</style>\n",
       "<table border=\"1\" class=\"dataframe\">\n",
       "  <thead>\n",
       "    <tr style=\"text-align: right;\">\n",
       "      <th></th>\n",
       "      <th>gid</th>\n",
       "      <th>id</th>\n",
       "      <th>distrito</th>\n",
       "      <th>shape_leng</th>\n",
       "      <th>shape_area</th>\n",
       "      <th>UNUSO</th>\n",
       "      <th>geometry</th>\n",
       "    </tr>\n",
       "  </thead>\n",
       "  <tbody>\n",
       "    <tr>\n",
       "      <th>0</th>\n",
       "      <td>383802</td>\n",
       "      <td>225938.0</td>\n",
       "      <td>5.0</td>\n",
       "      <td>87.833373</td>\n",
       "      <td>372.671854</td>\n",
       "      <td>Baldio</td>\n",
       "      <td>POLYGON ((663603.887 2289224.482, 663592.822 2...</td>\n",
       "    </tr>\n",
       "    <tr>\n",
       "      <th>1</th>\n",
       "      <td>383514</td>\n",
       "      <td>465151.0</td>\n",
       "      <td>5.0</td>\n",
       "      <td>156.734778</td>\n",
       "      <td>1505.830715</td>\n",
       "      <td>None</td>\n",
       "      <td>POLYGON ((661583.201 2289149.452, 661563.62 22...</td>\n",
       "    </tr>\n",
       "    <tr>\n",
       "      <th>2</th>\n",
       "      <td>383647</td>\n",
       "      <td>465323.0</td>\n",
       "      <td>5.0</td>\n",
       "      <td>102.854373</td>\n",
       "      <td>577.067362</td>\n",
       "      <td>Baldio</td>\n",
       "      <td>POLYGON ((663882.141 2291543.517, 663858.079 2...</td>\n",
       "    </tr>\n",
       "    <tr>\n",
       "      <th>3</th>\n",
       "      <td>383515</td>\n",
       "      <td>465183.0</td>\n",
       "      <td>5.0</td>\n",
       "      <td>389.147415</td>\n",
       "      <td>6545.629993</td>\n",
       "      <td>Comercio</td>\n",
       "      <td>POLYGON ((663075.532 2287066.125, 663077.287 2...</td>\n",
       "    </tr>\n",
       "  </tbody>\n",
       "</table>\n",
       "</div>"
      ],
      "text/plain": [
       "      gid        id  distrito  shape_leng   shape_area     UNUSO  \\\n",
       "0  383802  225938.0       5.0   87.833373   372.671854    Baldio   \n",
       "1  383514  465151.0       5.0  156.734778  1505.830715      None   \n",
       "2  383647  465323.0       5.0  102.854373   577.067362    Baldio   \n",
       "3  383515  465183.0       5.0  389.147415  6545.629993  Comercio   \n",
       "\n",
       "                                            geometry  \n",
       "0  POLYGON ((663603.887 2289224.482, 663592.822 2...  \n",
       "1  POLYGON ((661583.201 2289149.452, 661563.62 22...  \n",
       "2  POLYGON ((663882.141 2291543.517, 663858.079 2...  \n",
       "3  POLYGON ((663075.532 2287066.125, 663077.287 2...  "
      ]
     },
     "execution_count": 8,
     "metadata": {},
     "output_type": "execute_result"
    }
   ],
   "source": [
    "d5 = gpd.read_file(\"USOS_ZONA_5.shp\")\n",
    "d5.head(4)"
   ]
  },
  {
   "cell_type": "code",
   "execution_count": 10,
   "id": "5a568564-bab2-4b14-82bd-c43647f74ba2",
   "metadata": {},
   "outputs": [
    {
     "data": {
      "text/plain": [
       "Index(['gid', 'id', 'distrito', 'shape_leng', 'shape_area', 'UNUSO',\n",
       "       'geometry'],\n",
       "      dtype='object')"
      ]
     },
     "execution_count": 10,
     "metadata": {},
     "output_type": "execute_result"
    }
   ],
   "source": [
    "d5.columns"
   ]
  },
  {
   "cell_type": "code",
   "execution_count": 14,
   "id": "1d083d16-9a00-481e-8cd2-e5b7d4aacd89",
   "metadata": {},
   "outputs": [],
   "source": [
    "# Disolver todos los polígonos en uno solo\n",
    "distrito_unido = d5.dissolve()\n",
    "\n",
    "# Calcular área total\n",
    "distrito_unido['Area_m2'] = distrito_unido.geometry.area\n",
    "distrito_unido['Area_ha'] = distrito_unido['Area_m2'] / 10000\n",
    "\n",
    "# Reordenar columnas \n",
    "distrito_unido = distrito_unido[['id', 'Area_m2', 'Area_ha', 'geometry']]\n",
    "\n",
    "# Exportar a GeoJSON\n",
    "#distrito_unido.to_file(\"distrito_total.geojson\", driver=\"GeoJSON\")"
   ]
  },
  {
   "cell_type": "code",
   "execution_count": 15,
   "id": "d25d7019-4b02-4616-b0dc-819ef5ecd3da",
   "metadata": {},
   "outputs": [
    {
     "data": {
      "text/html": [
       "<div>\n",
       "<style scoped>\n",
       "    .dataframe tbody tr th:only-of-type {\n",
       "        vertical-align: middle;\n",
       "    }\n",
       "\n",
       "    .dataframe tbody tr th {\n",
       "        vertical-align: top;\n",
       "    }\n",
       "\n",
       "    .dataframe thead th {\n",
       "        text-align: right;\n",
       "    }\n",
       "</style>\n",
       "<table border=\"1\" class=\"dataframe\">\n",
       "  <thead>\n",
       "    <tr style=\"text-align: right;\">\n",
       "      <th></th>\n",
       "      <th>id</th>\n",
       "      <th>Area_m2</th>\n",
       "      <th>Area_ha</th>\n",
       "      <th>geometry</th>\n",
       "    </tr>\n",
       "  </thead>\n",
       "  <tbody>\n",
       "    <tr>\n",
       "      <th>0</th>\n",
       "      <td>225938.0</td>\n",
       "      <td>2.537728e+07</td>\n",
       "      <td>2537.727586</td>\n",
       "      <td>MULTIPOLYGON (((661081.14 2286674.47, 661088.5...</td>\n",
       "    </tr>\n",
       "  </tbody>\n",
       "</table>\n",
       "</div>"
      ],
      "text/plain": [
       "         id       Area_m2      Area_ha  \\\n",
       "0  225938.0  2.537728e+07  2537.727586   \n",
       "\n",
       "                                            geometry  \n",
       "0  MULTIPOLYGON (((661081.14 2286674.47, 661088.5...  "
      ]
     },
     "execution_count": 15,
     "metadata": {},
     "output_type": "execute_result"
    }
   ],
   "source": [
    "distrito_unido.head()"
   ]
  }
 ],
 "metadata": {
  "kernelspec": {
   "display_name": "GDS-10.0",
   "language": "python",
   "name": "gds"
  },
  "language_info": {
   "codemirror_mode": {
    "name": "ipython",
    "version": 3
   },
   "file_extension": ".py",
   "mimetype": "text/x-python",
   "name": "python",
   "nbconvert_exporter": "python",
   "pygments_lexer": "ipython3",
   "version": "3.9.18"
  }
 },
 "nbformat": 4,
 "nbformat_minor": 5
}
