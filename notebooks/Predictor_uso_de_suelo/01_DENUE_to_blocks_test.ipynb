{
 "cells": [
  {
   "cell_type": "markdown",
   "id": "7a972d1c-2416-4e62-9d8e-de21bf683d49",
   "metadata": {},
   "source": [
    "# DENUE analysis my block -test-"
   ]
  },
  {
   "cell_type": "markdown",
   "id": "71bffbf4-1030-4d71-a7e4-aa551949d058",
   "metadata": {},
   "source": [
    "This notebook covers the first steps towards an urban land use classifier. In it:\n",
    "1. The DENUE database is downloaded for a specific area\n",
    "2. A classification of the DENUE by activity is assigned to each point\n",
    "3. Each DENUE point gets assigned to an urban block\n",
    "4. An iterative process produces a Kernel Density Estimation for each activity classification and each block"
   ]
  },
  {
   "cell_type": "markdown",
   "id": "94b20c07-8afb-4716-bf45-f9344027b311",
   "metadata": {},
   "source": [
    "## Import libraries"
   ]
  },
  {
   "cell_type": "code",
   "execution_count": 1,
   "id": "a7675bb0-d6af-4f65-98e9-e02e55bca55d",
   "metadata": {},
   "outputs": [],
   "source": [
    "import geopandas as gpd\n",
    "import pandas as pd\n",
    "import numpy as np\n",
    "# import odc\n",
    "\n",
    "from shapely.geometry import Point, Polygon\n",
    "\n",
    "import seaborn as sns\n",
    "import matplotlib.pyplot as plt\n",
    "\n",
    "# from typing import Optional\n",
    "from spatial_kde import spatial_kernel_density\n",
    "\n",
    "import warnings\n",
    "warnings.simplefilter(action='ignore', category=FutureWarning)\n",
    "\n",
    "import os\n",
    "import sys\n",
    "\n",
    "module_path = os.path.abspath(os.path.join('../../'))\n",
    "if module_path not in sys.path:\n",
    "    sys.path.append(module_path)\n",
    "    import aup\n",
    "else:\n",
    "    import aup"
   ]
  },
  {
   "cell_type": "markdown",
   "id": "6aa739a9-9911-49af-9ff3-6dddfa069a37",
   "metadata": {},
   "source": [
    "## Download and read data"
   ]
  },
  {
   "cell_type": "markdown",
   "id": "41009559-50e9-47d3-9df7-244c0abd37ef",
   "metadata": {},
   "source": [
    "### Area of analysis"
   ]
  },
  {
   "cell_type": "code",
   "execution_count": 2,
   "id": "3f8637f8-cac1-4214-a0af-cf4ff1aadab1",
   "metadata": {},
   "outputs": [
    {
     "name": "stdout",
     "output_type": "stream",
     "text": [
      "(1, 4)\n"
     ]
    },
    {
     "data": {
      "text/html": [
       "<div>\n",
       "<style scoped>\n",
       "    .dataframe tbody tr th:only-of-type {\n",
       "        vertical-align: middle;\n",
       "    }\n",
       "\n",
       "    .dataframe tbody tr th {\n",
       "        vertical-align: top;\n",
       "    }\n",
       "\n",
       "    .dataframe thead th {\n",
       "        text-align: right;\n",
       "    }\n",
       "</style>\n",
       "<table border=\"1\" class=\"dataframe\">\n",
       "  <thead>\n",
       "    <tr style=\"text-align: right;\">\n",
       "      <th></th>\n",
       "      <th>id</th>\n",
       "      <th>area</th>\n",
       "      <th>perimeter</th>\n",
       "      <th>geometry</th>\n",
       "    </tr>\n",
       "  </thead>\n",
       "  <tbody>\n",
       "    <tr>\n",
       "      <th>0</th>\n",
       "      <td>0</td>\n",
       "      <td>3.456908e+07</td>\n",
       "      <td>22034.335455</td>\n",
       "      <td>POLYGON ((662437.93 2284457.02, 662421.516 228...</td>\n",
       "    </tr>\n",
       "  </tbody>\n",
       "</table>\n",
       "</div>"
      ],
      "text/plain": [
       "   id          area     perimeter  \\\n",
       "0   0  3.456908e+07  22034.335455   \n",
       "\n",
       "                                            geometry  \n",
       "0  POLYGON ((662437.93 2284457.02, 662421.516 228...  "
      ]
     },
     "execution_count": 2,
     "metadata": {},
     "output_type": "execute_result"
    }
   ],
   "source": [
    "aoa_gdf = gpd.read_file(\"../../data/processed/prediccion_uso_suelo/Distrito_Zona5.geojson\")\n",
    "print(aoa_gdf.shape)\n",
    "aoa_gdf.head(2)"
   ]
  },
  {
   "cell_type": "code",
   "execution_count": 3,
   "id": "0e7f7d1e-f39f-4c73-8917-62be69ee2f64",
   "metadata": {},
   "outputs": [
    {
     "name": "stdout",
     "output_type": "stream",
     "text": [
      "EPSG:32613\n"
     ]
    }
   ],
   "source": [
    "print(aoa_gdf.crs)"
   ]
  },
  {
   "cell_type": "code",
   "execution_count": 4,
   "id": "fdb4a1fc-b136-4381-bd0c-f025a0f494e8",
   "metadata": {},
   "outputs": [
    {
     "data": {
      "text/plain": [
       "<Axes: >"
      ]
     },
     "execution_count": 4,
     "metadata": {},
     "output_type": "execute_result"
    },
    {
     "data": {
      "image/png": "[encoded data removed]",
      "text/plain": [
       "<Figure size 640x480 with 1 Axes>"
      ]
     },
     "metadata": {},
     "output_type": "display_data"
    }
   ],
   "source": [
    "aoa_gdf.plot()"
   ]
  },
  {
   "cell_type": "markdown",
   "id": "769b9900-8d59-4652-b9f4-d43c40694b10",
   "metadata": {},
   "source": [
    "### DENUE"
   ]
  },
  {
   "cell_type": "code",
   "execution_count": 5,
   "id": "a0ad3b1b-c1a0-46df-900c-6fa8a6f5c590",
   "metadata": {},
   "outputs": [],
   "source": [
    "poly_wkt = aoa_gdf.dissolve().geometry.to_wkt()[0]"
   ]
  },
  {
   "cell_type": "code",
   "execution_count": 6,
   "id": "e2dec1eb-aea1-4b6a-97b6-abf1ad173bb8",
   "metadata": {
    "scrolled": true
   },
   "outputs": [
    {
     "name": "stdout",
     "output_type": "stream",
     "text": [
      "(7353, 11)\n"
     ]
    },
    {
     "data": {
      "text/html": [
       "<div>\n",
       "<style scoped>\n",
       "    .dataframe tbody tr th:only-of-type {\n",
       "        vertical-align: middle;\n",
       "    }\n",
       "\n",
       "    .dataframe tbody tr th {\n",
       "        vertical-align: top;\n",
       "    }\n",
       "\n",
       "    .dataframe thead th {\n",
       "        text-align: right;\n",
       "    }\n",
       "</style>\n",
       "<table border=\"1\" class=\"dataframe\">\n",
       "  <thead>\n",
       "    <tr style=\"text-align: right;\">\n",
       "      <th></th>\n",
       "      <th>id</th>\n",
       "      <th>cve_ent</th>\n",
       "      <th>cve_loc</th>\n",
       "      <th>manzana</th>\n",
       "      <th>cve_mun</th>\n",
       "      <th>latitud</th>\n",
       "      <th>longitud</th>\n",
       "      <th>codigo_act</th>\n",
       "      <th>ageb</th>\n",
       "      <th>per_ocu</th>\n",
       "      <th>geometry</th>\n",
       "    </tr>\n",
       "  </thead>\n",
       "  <tbody>\n",
       "    <tr>\n",
       "      <th>0</th>\n",
       "      <td>1699006</td>\n",
       "      <td>14</td>\n",
       "      <td>0001</td>\n",
       "      <td>010</td>\n",
       "      <td>120</td>\n",
       "      <td>20.677705</td>\n",
       "      <td>-103.447473</td>\n",
       "      <td>237131</td>\n",
       "      <td>3575</td>\n",
       "      <td>6 a 10 personas</td>\n",
       "      <td>POINT (661711.071 2287252.757)</td>\n",
       "    </tr>\n",
       "    <tr>\n",
       "      <th>1</th>\n",
       "      <td>1639611</td>\n",
       "      <td>14</td>\n",
       "      <td>0001</td>\n",
       "      <td>018</td>\n",
       "      <td>120</td>\n",
       "      <td>20.694152</td>\n",
       "      <td>-103.453771</td>\n",
       "      <td>314991</td>\n",
       "      <td>1206</td>\n",
       "      <td>6 a 10 personas</td>\n",
       "      <td>POINT (661037.629 2289067.252)</td>\n",
       "    </tr>\n",
       "    <tr>\n",
       "      <th>2</th>\n",
       "      <td>1698378</td>\n",
       "      <td>14</td>\n",
       "      <td>0001</td>\n",
       "      <td>020</td>\n",
       "      <td>120</td>\n",
       "      <td>20.675783</td>\n",
       "      <td>-103.418001</td>\n",
       "      <td>311830</td>\n",
       "      <td>2952</td>\n",
       "      <td>0 a 5 personas</td>\n",
       "      <td>POINT (664783.488 2287069.746)</td>\n",
       "    </tr>\n",
       "    <tr>\n",
       "      <th>3</th>\n",
       "      <td>8305530</td>\n",
       "      <td>14</td>\n",
       "      <td>0001</td>\n",
       "      <td>027</td>\n",
       "      <td>120</td>\n",
       "      <td>20.679851</td>\n",
       "      <td>-103.425109</td>\n",
       "      <td>311213</td>\n",
       "      <td>2416</td>\n",
       "      <td>11 a 30 personas</td>\n",
       "      <td>POINT (664038.607 2287512.869)</td>\n",
       "    </tr>\n",
       "    <tr>\n",
       "      <th>4</th>\n",
       "      <td>8649571</td>\n",
       "      <td>14</td>\n",
       "      <td>0001</td>\n",
       "      <td>016</td>\n",
       "      <td>120</td>\n",
       "      <td>20.664372</td>\n",
       "      <td>-103.413526</td>\n",
       "      <td>311421</td>\n",
       "      <td>4732</td>\n",
       "      <td>0 a 5 personas</td>\n",
       "      <td>POINT (665262.043 2285810.999)</td>\n",
       "    </tr>\n",
       "  </tbody>\n",
       "</table>\n",
       "</div>"
      ],
      "text/plain": [
       "        id cve_ent cve_loc manzana cve_mun    latitud    longitud codigo_act  \\\n",
       "0  1699006      14    0001     010     120  20.677705 -103.447473     237131   \n",
       "1  1639611      14    0001     018     120  20.694152 -103.453771     314991   \n",
       "2  1698378      14    0001     020     120  20.675783 -103.418001     311830   \n",
       "3  8305530      14    0001     027     120  20.679851 -103.425109     311213   \n",
       "4  8649571      14    0001     016     120  20.664372 -103.413526     311421   \n",
       "\n",
       "   ageb           per_ocu                        geometry  \n",
       "0  3575   6 a 10 personas  POINT (661711.071 2287252.757)  \n",
       "1  1206   6 a 10 personas  POINT (661037.629 2289067.252)  \n",
       "2  2952    0 a 5 personas  POINT (664783.488 2287069.746)  \n",
       "3  2416  11 a 30 personas  POINT (664038.607 2287512.869)  \n",
       "4  4732    0 a 5 personas  POINT (665262.043 2285810.999)  "
      ]
     },
     "execution_count": 6,
     "metadata": {},
     "output_type": "execute_result"
    }
   ],
   "source": [
    "schema = \"denue\"\n",
    "table = \"denue_2022\"\n",
    "\n",
    "manzana = \"manzana\"\n",
    "entidad = \"cve_ent\"\n",
    "localidad = \"cve_loc\"\n",
    "municipio = \"cve_mun\"\n",
    "id = \"id\"\n",
    "latitud = \"latitud\"\n",
    "longitud = \"longitud\"\n",
    "codigo_act = \"codigo_act\"\n",
    "ageb = \"ageb\"\n",
    "per_ocu = \"per_ocu\"\n",
    "\n",
    "\n",
    "# Crear la consulta manteniendo el mismo CRS\n",
    "query_censo = f\"\"\"\n",
    "SELECT \n",
    "  \"{id}\", \n",
    "  \"{entidad}\",\n",
    "  \"{localidad}\",\n",
    "  \"{manzana}\",\n",
    "  \"{municipio}\",\n",
    "  \"{latitud}\",\n",
    "  \"{longitud}\",\n",
    "  \"{codigo_act}\",\n",
    "  \"{ageb}\",\n",
    "  \"{per_ocu}\",\n",
    "  \"geometry\"\n",
    "FROM {schema}.{table}\n",
    "WHERE ST_Intersects(\n",
    "  ST_Transform(geometry, 32613),  -- Transformar geometría de DENUE a 32613 \n",
    "  ST_GeomFromText('{poly_wkt}', 32613)  -- Usar el polígono en 32613\n",
    ")\n",
    "\"\"\"\n",
    "\n",
    "# Ejecutar la consulta\n",
    "denue_gdf = aup.gdf_from_query(query_censo, geometry_col='geometry')\n",
    "\n",
    "# Asegurar que el GeoDataFrame resultante tenga el CRS correcto\n",
    "denue_gdf = denue_gdf.to_crs(\"EPSG:32613\")\n",
    "\n",
    "\n",
    "print(denue_gdf.shape)\n",
    "denue_gdf.head()"
   ]
  },
  {
   "cell_type": "markdown",
   "id": "bef2a81c-d788-4748-9a4d-aa9965c50cf7",
   "metadata": {},
   "source": [
    "### Census blocks"
   ]
  },
  {
   "cell_type": "code",
   "execution_count": 7,
   "id": "6d1b26a1-0db8-4b58-95d2-977474405d13",
   "metadata": {},
   "outputs": [
    {
     "name": "stdout",
     "output_type": "stream",
     "text": [
      "(1826, 3)\n"
     ]
    },
    {
     "data": {
      "text/html": [
       "<div>\n",
       "<style scoped>\n",
       "    .dataframe tbody tr th:only-of-type {\n",
       "        vertical-align: middle;\n",
       "    }\n",
       "\n",
       "    .dataframe tbody tr th {\n",
       "        vertical-align: top;\n",
       "    }\n",
       "\n",
       "    .dataframe thead th {\n",
       "        text-align: right;\n",
       "    }\n",
       "</style>\n",
       "<table border=\"1\" class=\"dataframe\">\n",
       "  <thead>\n",
       "    <tr style=\"text-align: right;\">\n",
       "      <th></th>\n",
       "      <th>cvegeo_mza</th>\n",
       "      <th>pobtot</th>\n",
       "      <th>geometry</th>\n",
       "    </tr>\n",
       "  </thead>\n",
       "  <tbody>\n",
       "    <tr>\n",
       "      <th>0</th>\n",
       "      <td>1403900011274036</td>\n",
       "      <td>384</td>\n",
       "      <td>POLYGON ((666477.605 2287242.897, 666485.728 2...</td>\n",
       "    </tr>\n",
       "    <tr>\n",
       "      <th>1</th>\n",
       "      <td>1403900011274035</td>\n",
       "      <td>368</td>\n",
       "      <td>POLYGON ((666580.993 2287272.531, 666604.924 2...</td>\n",
       "    </tr>\n",
       "    <tr>\n",
       "      <th>2</th>\n",
       "      <td>1403900010562001</td>\n",
       "      <td>235</td>\n",
       "      <td>POLYGON ((666978.885 2288708.665, 667009.74 22...</td>\n",
       "    </tr>\n",
       "    <tr>\n",
       "      <th>3</th>\n",
       "      <td>1403900010562026</td>\n",
       "      <td>34</td>\n",
       "      <td>POLYGON ((666644.174 2288436.014, 666667.842 2...</td>\n",
       "    </tr>\n",
       "    <tr>\n",
       "      <th>4</th>\n",
       "      <td>1403900010562027</td>\n",
       "      <td>58</td>\n",
       "      <td>POLYGON ((666582.8 2288243.358, 666525.87 2288...</td>\n",
       "    </tr>\n",
       "  </tbody>\n",
       "</table>\n",
       "</div>"
      ],
      "text/plain": [
       "         cvegeo_mza  pobtot                                           geometry\n",
       "0  1403900011274036     384  POLYGON ((666477.605 2287242.897, 666485.728 2...\n",
       "1  1403900011274035     368  POLYGON ((666580.993 2287272.531, 666604.924 2...\n",
       "2  1403900010562001     235  POLYGON ((666978.885 2288708.665, 667009.74 22...\n",
       "3  1403900010562026      34  POLYGON ((666644.174 2288436.014, 666667.842 2...\n",
       "4  1403900010562027      58  POLYGON ((666582.8 2288243.358, 666525.87 2288..."
      ]
     },
     "execution_count": 7,
     "metadata": {},
     "output_type": "execute_result"
    }
   ],
   "source": [
    "schema = \"sociodemografico\"\n",
    "table = \"censo_inegi_20_mza\"\n",
    "\n",
    "\n",
    "query_censo = f\"\"\"\n",
    "SELECT \n",
    "\"cvegeo_mza\",\n",
    "\"pobtot\",\n",
    "\"geometry\"\n",
    "FROM {schema}.{table}\n",
    "WHERE ST_Intersects(\n",
    "  ST_Transform(geometry, 32613),  -- Transformar geometría de DENUE a 32613 \n",
    "  ST_GeomFromText('{poly_wkt}', 32613)  -- Usar el polígono en 32613\n",
    ")\n",
    "\"\"\"\n",
    "\n",
    "# Ejecutar la consulta y cargar los datos en un GeoDataFrame\n",
    "block_gdf = aup.gdf_from_query(query_censo, geometry_col='geometry')\n",
    "block_gdf = block_gdf.to_crs(\"EPSG:32613\")\n",
    "\n",
    "print(block_gdf.shape)\n",
    "block_gdf.head()"
   ]
  },
  {
   "cell_type": "markdown",
   "id": "7b57bb9e-7b27-4486-b3f7-c7a24d517f25",
   "metadata": {},
   "source": [
    "## Data treatment and preprocessing"
   ]
  },
  {
   "cell_type": "markdown",
   "id": "442bb9b9-51b2-40cb-bdc6-1cfefddb4a29",
   "metadata": {},
   "source": [
    "### DENUE classification by activity"
   ]
  },
  {
   "cell_type": "markdown",
   "id": "aef70eb9-ec59-4093-b34f-bc033d26bdce",
   "metadata": {},
   "source": [
    "Clasificar las distintas actividades económicas con base en su terminación en \"codigo_act\" basándonos en el Directorio Estadístico Nacional de Unidades Económicas"
   ]
  },
  {
   "cell_type": "code",
   "execution_count": 8,
   "id": "87b05149-1bb9-4a0a-a93c-3d56dd74fd00",
   "metadata": {},
   "outputs": [],
   "source": [
    "# Función para clasificar según la terminación de codigo_act\n",
    "def asignar_tipo(codigo):\n",
    "    if pd.isna(codigo):  # Si está vacío\n",
    "        return 'Sin código'\n",
    "    \n",
    "    # Asegurar que sea string para evaluar el código\n",
    "    codigo_str = str(codigo).strip()\n",
    "\n",
    "    if not codigo_str.isdigit():\n",
    "        return 'Código inválido'\n",
    "    \n",
    "    # Define tus conjuntos de códigos\n",
    "    industria = {'11', '21', '23', '31', '32', '33', '55'}\n",
    "    \n",
    "    servicios = {'22', '48', '49', '52', '53', '54', '56', '72',\n",
    "                 '81'}\n",
    "    \n",
    "    comercio = {'43', '46'}\n",
    "    \n",
    "    cultural_recreativo = {'51','71'}\n",
    "    \n",
    "    educacion = {'61'}\n",
    "    \n",
    "    salud = {'62'}\n",
    "\n",
    "    gobierno = {'93'}\n",
    "    \n",
    "    # Verificar si el código está en alguno de los conjuntos\n",
    "    if codigo_str[:2] in industria:\n",
    "        return 'Industria'\n",
    "    elif codigo_str[:2] in servicios:\n",
    "        return 'Servicios'\n",
    "    elif codigo_str[:2] in comercio:\n",
    "        return 'Comercio'\n",
    "    elif codigo_str[:2] in cultural_recreativo:\n",
    "        return 'Cultural_Recreativo'\n",
    "    elif codigo_str[:2] in educacion:\n",
    "        return 'Educación'\n",
    "    elif codigo_str[:2] in salud:\n",
    "        return 'Salud'\n",
    "    elif codigo_str[:2] in gobierno:\n",
    "        return 'Gobierno'\n",
    "    else:\n",
    "        return 'Desconocido'\n",
    "\n",
    "# Aplica la función al DataFrame\n",
    "denue_gdf['tipo_act'] = denue_gdf['codigo_act'].apply(asignar_tipo)"
   ]
  },
  {
   "cell_type": "code",
   "execution_count": 9,
   "id": "20ee14e3-923d-44f1-91b2-05d69b4688b4",
   "metadata": {},
   "outputs": [
    {
     "data": {
      "text/html": [
       "<div>\n",
       "<style scoped>\n",
       "    .dataframe tbody tr th:only-of-type {\n",
       "        vertical-align: middle;\n",
       "    }\n",
       "\n",
       "    .dataframe tbody tr th {\n",
       "        vertical-align: top;\n",
       "    }\n",
       "\n",
       "    .dataframe thead th {\n",
       "        text-align: right;\n",
       "    }\n",
       "</style>\n",
       "<table border=\"1\" class=\"dataframe\">\n",
       "  <thead>\n",
       "    <tr style=\"text-align: right;\">\n",
       "      <th></th>\n",
       "      <th>id</th>\n",
       "      <th>cve_ent</th>\n",
       "      <th>cve_loc</th>\n",
       "      <th>manzana</th>\n",
       "      <th>cve_mun</th>\n",
       "      <th>latitud</th>\n",
       "      <th>longitud</th>\n",
       "      <th>codigo_act</th>\n",
       "      <th>ageb</th>\n",
       "      <th>per_ocu</th>\n",
       "      <th>geometry</th>\n",
       "      <th>tipo_act</th>\n",
       "    </tr>\n",
       "  </thead>\n",
       "  <tbody>\n",
       "    <tr>\n",
       "      <th>0</th>\n",
       "      <td>1699006</td>\n",
       "      <td>14</td>\n",
       "      <td>0001</td>\n",
       "      <td>010</td>\n",
       "      <td>120</td>\n",
       "      <td>20.677705</td>\n",
       "      <td>-103.447473</td>\n",
       "      <td>237131</td>\n",
       "      <td>3575</td>\n",
       "      <td>6 a 10 personas</td>\n",
       "      <td>POINT (661711.071 2287252.757)</td>\n",
       "      <td>Industria</td>\n",
       "    </tr>\n",
       "    <tr>\n",
       "      <th>1</th>\n",
       "      <td>1639611</td>\n",
       "      <td>14</td>\n",
       "      <td>0001</td>\n",
       "      <td>018</td>\n",
       "      <td>120</td>\n",
       "      <td>20.694152</td>\n",
       "      <td>-103.453771</td>\n",
       "      <td>314991</td>\n",
       "      <td>1206</td>\n",
       "      <td>6 a 10 personas</td>\n",
       "      <td>POINT (661037.629 2289067.252)</td>\n",
       "      <td>Industria</td>\n",
       "    </tr>\n",
       "    <tr>\n",
       "      <th>2</th>\n",
       "      <td>1698378</td>\n",
       "      <td>14</td>\n",
       "      <td>0001</td>\n",
       "      <td>020</td>\n",
       "      <td>120</td>\n",
       "      <td>20.675783</td>\n",
       "      <td>-103.418001</td>\n",
       "      <td>311830</td>\n",
       "      <td>2952</td>\n",
       "      <td>0 a 5 personas</td>\n",
       "      <td>POINT (664783.488 2287069.746)</td>\n",
       "      <td>Industria</td>\n",
       "    </tr>\n",
       "  </tbody>\n",
       "</table>\n",
       "</div>"
      ],
      "text/plain": [
       "        id cve_ent cve_loc manzana cve_mun    latitud    longitud codigo_act  \\\n",
       "0  1699006      14    0001     010     120  20.677705 -103.447473     237131   \n",
       "1  1639611      14    0001     018     120  20.694152 -103.453771     314991   \n",
       "2  1698378      14    0001     020     120  20.675783 -103.418001     311830   \n",
       "\n",
       "   ageb          per_ocu                        geometry   tipo_act  \n",
       "0  3575  6 a 10 personas  POINT (661711.071 2287252.757)  Industria  \n",
       "1  1206  6 a 10 personas  POINT (661037.629 2289067.252)  Industria  \n",
       "2  2952   0 a 5 personas  POINT (664783.488 2287069.746)  Industria  "
      ]
     },
     "execution_count": 9,
     "metadata": {},
     "output_type": "execute_result"
    }
   ],
   "source": [
    "denue_gdf.head(3)"
   ]
  },
  {
   "cell_type": "code",
   "execution_count": 10,
   "id": "90ceaa81-fc13-4b4a-a290-15ccd56e7a59",
   "metadata": {},
   "outputs": [
    {
     "data": {
      "text/plain": [
       "array(['Industria', 'Servicios', 'Comercio', 'Cultural_Recreativo',\n",
       "       'Educación', 'Salud', 'Gobierno'], dtype=object)"
      ]
     },
     "execution_count": 10,
     "metadata": {},
     "output_type": "execute_result"
    }
   ],
   "source": [
    "denue_gdf[\"tipo_act\"].unique()"
   ]
  },
  {
   "cell_type": "code",
   "execution_count": 11,
   "id": "31a12665-8bea-4d5a-9aad-7b813d89fb3d",
   "metadata": {},
   "outputs": [
    {
     "data": {
      "text/plain": [
       "0"
      ]
     },
     "execution_count": 11,
     "metadata": {},
     "output_type": "execute_result"
    }
   ],
   "source": [
    "len(denue_gdf[denue_gdf['tipo_act'] == 'Desconocido'])"
   ]
  },
  {
   "cell_type": "markdown",
   "id": "aab02123-e358-4e47-81ea-786690adc5a7",
   "metadata": {},
   "source": [
    "### DENUE occupied personel"
   ]
  },
  {
   "cell_type": "markdown",
   "id": "fd4a577d-3eec-485c-aa0c-1143ce52bc8e",
   "metadata": {},
   "source": [
    "Contabilizar cuántas personas hay ejerciendo cada actividad económica"
   ]
  },
  {
   "cell_type": "code",
   "execution_count": 12,
   "id": "6f2e42ba-ede8-423a-b256-4614b94e6e80",
   "metadata": {},
   "outputs": [],
   "source": [
    "def number_of_jobs(per_ocu):\n",
    "    jobs_dict = {'0 a 5 personas':3,\n",
    "                '6 a 10 personas':8,\n",
    "                '11 a 30 personas':20,\n",
    "                '31 a 50 personas':40,\n",
    "                '51 a 100 personas':75,\n",
    "                '101 a 250 personas':175,\n",
    "                '251 y más personas':325}\n",
    "    per_ocu_num = jobs_dict[per_ocu]\n",
    "    return per_ocu_num"
   ]
  },
  {
   "cell_type": "code",
   "execution_count": 13,
   "id": "e8f9c7c1-50c0-4dd6-9fa9-c5afc00f82fb",
   "metadata": {},
   "outputs": [
    {
     "data": {
      "text/html": [
       "<div>\n",
       "<style scoped>\n",
       "    .dataframe tbody tr th:only-of-type {\n",
       "        vertical-align: middle;\n",
       "    }\n",
       "\n",
       "    .dataframe tbody tr th {\n",
       "        vertical-align: top;\n",
       "    }\n",
       "\n",
       "    .dataframe thead th {\n",
       "        text-align: right;\n",
       "    }\n",
       "</style>\n",
       "<table border=\"1\" class=\"dataframe\">\n",
       "  <thead>\n",
       "    <tr style=\"text-align: right;\">\n",
       "      <th></th>\n",
       "      <th>id</th>\n",
       "      <th>cve_ent</th>\n",
       "      <th>cve_loc</th>\n",
       "      <th>manzana</th>\n",
       "      <th>cve_mun</th>\n",
       "      <th>latitud</th>\n",
       "      <th>longitud</th>\n",
       "      <th>codigo_act</th>\n",
       "      <th>ageb</th>\n",
       "      <th>per_ocu</th>\n",
       "      <th>geometry</th>\n",
       "      <th>tipo_act</th>\n",
       "      <th>per_ocu_num</th>\n",
       "    </tr>\n",
       "  </thead>\n",
       "  <tbody>\n",
       "    <tr>\n",
       "      <th>0</th>\n",
       "      <td>1699006</td>\n",
       "      <td>14</td>\n",
       "      <td>0001</td>\n",
       "      <td>010</td>\n",
       "      <td>120</td>\n",
       "      <td>20.677705</td>\n",
       "      <td>-103.447473</td>\n",
       "      <td>237131</td>\n",
       "      <td>3575</td>\n",
       "      <td>6 a 10 personas</td>\n",
       "      <td>POINT (661711.071 2287252.757)</td>\n",
       "      <td>Industria</td>\n",
       "      <td>8</td>\n",
       "    </tr>\n",
       "    <tr>\n",
       "      <th>1</th>\n",
       "      <td>1639611</td>\n",
       "      <td>14</td>\n",
       "      <td>0001</td>\n",
       "      <td>018</td>\n",
       "      <td>120</td>\n",
       "      <td>20.694152</td>\n",
       "      <td>-103.453771</td>\n",
       "      <td>314991</td>\n",
       "      <td>1206</td>\n",
       "      <td>6 a 10 personas</td>\n",
       "      <td>POINT (661037.629 2289067.252)</td>\n",
       "      <td>Industria</td>\n",
       "      <td>8</td>\n",
       "    </tr>\n",
       "  </tbody>\n",
       "</table>\n",
       "</div>"
      ],
      "text/plain": [
       "        id cve_ent cve_loc manzana cve_mun    latitud    longitud codigo_act  \\\n",
       "0  1699006      14    0001     010     120  20.677705 -103.447473     237131   \n",
       "1  1639611      14    0001     018     120  20.694152 -103.453771     314991   \n",
       "\n",
       "   ageb          per_ocu                        geometry   tipo_act  \\\n",
       "0  3575  6 a 10 personas  POINT (661711.071 2287252.757)  Industria   \n",
       "1  1206  6 a 10 personas  POINT (661037.629 2289067.252)  Industria   \n",
       "\n",
       "   per_ocu_num  \n",
       "0            8  \n",
       "1            8  "
      ]
     },
     "execution_count": 13,
     "metadata": {},
     "output_type": "execute_result"
    }
   ],
   "source": [
    "denue_gdf['per_ocu_num'] = denue_gdf.per_ocu.apply(lambda per_ocu: number_of_jobs(per_ocu))\n",
    "denue_gdf.head(2)"
   ]
  },
  {
   "cell_type": "markdown",
   "id": "051a8c30-de10-447e-a387-e9b547a5c579",
   "metadata": {},
   "source": [
    "### DENUE to blocks"
   ]
  },
  {
   "cell_type": "markdown",
   "id": "8ca87dc8-fd63-4847-a620-35f005a31095",
   "metadata": {},
   "source": [
    "Create CVEGEO code for each DENUE"
   ]
  },
  {
   "cell_type": "code",
   "execution_count": 14,
   "id": "663f4898-25ad-46c6-8a62-ceb621ca4f95",
   "metadata": {
    "scrolled": true
   },
   "outputs": [
    {
     "name": "stdout",
     "output_type": "stream",
     "text": [
      "(7353, 14)\n"
     ]
    },
    {
     "data": {
      "text/html": [
       "<div>\n",
       "<style scoped>\n",
       "    .dataframe tbody tr th:only-of-type {\n",
       "        vertical-align: middle;\n",
       "    }\n",
       "\n",
       "    .dataframe tbody tr th {\n",
       "        vertical-align: top;\n",
       "    }\n",
       "\n",
       "    .dataframe thead th {\n",
       "        text-align: right;\n",
       "    }\n",
       "</style>\n",
       "<table border=\"1\" class=\"dataframe\">\n",
       "  <thead>\n",
       "    <tr style=\"text-align: right;\">\n",
       "      <th></th>\n",
       "      <th>id</th>\n",
       "      <th>cve_ent</th>\n",
       "      <th>cve_loc</th>\n",
       "      <th>manzana</th>\n",
       "      <th>cve_mun</th>\n",
       "      <th>latitud</th>\n",
       "      <th>longitud</th>\n",
       "      <th>codigo_act</th>\n",
       "      <th>ageb</th>\n",
       "      <th>per_ocu</th>\n",
       "      <th>geometry</th>\n",
       "      <th>tipo_act</th>\n",
       "      <th>per_ocu_num</th>\n",
       "      <th>cvegeo_mza</th>\n",
       "    </tr>\n",
       "  </thead>\n",
       "  <tbody>\n",
       "    <tr>\n",
       "      <th>0</th>\n",
       "      <td>1699006</td>\n",
       "      <td>14</td>\n",
       "      <td>0001</td>\n",
       "      <td>010</td>\n",
       "      <td>120</td>\n",
       "      <td>20.677705</td>\n",
       "      <td>-103.447473</td>\n",
       "      <td>237131</td>\n",
       "      <td>3575</td>\n",
       "      <td>6 a 10 personas</td>\n",
       "      <td>POINT (661711.071 2287252.757)</td>\n",
       "      <td>Industria</td>\n",
       "      <td>8</td>\n",
       "      <td>1412000013575010</td>\n",
       "    </tr>\n",
       "    <tr>\n",
       "      <th>1</th>\n",
       "      <td>1639611</td>\n",
       "      <td>14</td>\n",
       "      <td>0001</td>\n",
       "      <td>018</td>\n",
       "      <td>120</td>\n",
       "      <td>20.694152</td>\n",
       "      <td>-103.453771</td>\n",
       "      <td>314991</td>\n",
       "      <td>1206</td>\n",
       "      <td>6 a 10 personas</td>\n",
       "      <td>POINT (661037.629 2289067.252)</td>\n",
       "      <td>Industria</td>\n",
       "      <td>8</td>\n",
       "      <td>1412000011206018</td>\n",
       "    </tr>\n",
       "  </tbody>\n",
       "</table>\n",
       "</div>"
      ],
      "text/plain": [
       "        id cve_ent cve_loc manzana cve_mun    latitud    longitud codigo_act  \\\n",
       "0  1699006      14    0001     010     120  20.677705 -103.447473     237131   \n",
       "1  1639611      14    0001     018     120  20.694152 -103.453771     314991   \n",
       "\n",
       "   ageb          per_ocu                        geometry   tipo_act  \\\n",
       "0  3575  6 a 10 personas  POINT (661711.071 2287252.757)  Industria   \n",
       "1  1206  6 a 10 personas  POINT (661037.629 2289067.252)  Industria   \n",
       "\n",
       "   per_ocu_num        cvegeo_mza  \n",
       "0            8  1412000013575010  \n",
       "1            8  1412000011206018  "
      ]
     },
     "execution_count": 14,
     "metadata": {},
     "output_type": "execute_result"
    }
   ],
   "source": [
    "denue_gdf['cvegeo_mza'] = (\n",
    "    denue_gdf['cve_ent'].astype(str).str[:2] +\n",
    "    denue_gdf['cve_mun'].astype(str).str[:3] +\n",
    "    denue_gdf['cve_loc'].astype(str).str[:4] +\n",
    "    denue_gdf['ageb'].astype(str).str[:4] +\n",
    "    denue_gdf['manzana'].astype(str).str[:3]\n",
    ")\n",
    "print(denue_gdf.shape)\n",
    "denue_gdf.head(2)"
   ]
  },
  {
   "cell_type": "code",
   "execution_count": 15,
   "id": "d94fd256-6f14-4ff0-843c-615ae8c3097f",
   "metadata": {},
   "outputs": [
    {
     "data": {
      "text/plain": [
       "np.int64(16)"
      ]
     },
     "execution_count": 15,
     "metadata": {},
     "output_type": "execute_result"
    }
   ],
   "source": [
    "denue_gdf.cvegeo_mza.apply(len).min() # checks if every element has a 16 character length"
   ]
  },
  {
   "cell_type": "markdown",
   "id": "0e8e4be2-89ad-482a-8441-9a724c629662",
   "metadata": {},
   "source": [
    "Test if every DENUE is assigned to a block"
   ]
  },
  {
   "cell_type": "code",
   "execution_count": 16,
   "id": "8a57373b-a43b-456c-9a23-43467e736107",
   "metadata": {},
   "outputs": [
    {
     "data": {
      "text/plain": [
       "np.int64(0)"
      ]
     },
     "execution_count": 16,
     "metadata": {},
     "output_type": "execute_result"
    }
   ],
   "source": [
    "denue_gdf.merge(block_gdf[['cvegeo_mza','pobtot']], on='cvegeo_mza', how='inner').pobtot.isna().sum()"
   ]
  },
  {
   "cell_type": "markdown",
   "id": "7f8de599-0908-4ec8-aa59-6db9e4526857",
   "metadata": {},
   "source": [
    "### Distance from DENUE to block centroids"
   ]
  },
  {
   "cell_type": "code",
   "execution_count": 17,
   "id": "ecb25d22-9ab4-42db-9e9d-c853e2331f31",
   "metadata": {},
   "outputs": [],
   "source": [
    "# 1. Crear GeoDataFrame de manzanas con centroides únicos\n",
    "block_cnt = block_gdf.copy()\n",
    "block_cnt['cnt_geometry'] = block_cnt['geometry'].centroid"
   ]
  },
  {
   "cell_type": "code",
   "execution_count": 18,
   "id": "803c0d46-3d3b-40b0-8f2b-cd0f069cdc81",
   "metadata": {},
   "outputs": [
    {
     "name": "stdout",
     "output_type": "stream",
     "text": [
      "(7353, 15)\n"
     ]
    },
    {
     "data": {
      "text/html": [
       "<div>\n",
       "<style scoped>\n",
       "    .dataframe tbody tr th:only-of-type {\n",
       "        vertical-align: middle;\n",
       "    }\n",
       "\n",
       "    .dataframe tbody tr th {\n",
       "        vertical-align: top;\n",
       "    }\n",
       "\n",
       "    .dataframe thead th {\n",
       "        text-align: right;\n",
       "    }\n",
       "</style>\n",
       "<table border=\"1\" class=\"dataframe\">\n",
       "  <thead>\n",
       "    <tr style=\"text-align: right;\">\n",
       "      <th></th>\n",
       "      <th>id</th>\n",
       "      <th>cve_ent</th>\n",
       "      <th>cve_loc</th>\n",
       "      <th>manzana</th>\n",
       "      <th>cve_mun</th>\n",
       "      <th>latitud</th>\n",
       "      <th>longitud</th>\n",
       "      <th>codigo_act</th>\n",
       "      <th>ageb</th>\n",
       "      <th>per_ocu</th>\n",
       "      <th>geometry</th>\n",
       "      <th>tipo_act</th>\n",
       "      <th>per_ocu_num</th>\n",
       "      <th>cvegeo_mza</th>\n",
       "      <th>cnt_geometry</th>\n",
       "    </tr>\n",
       "  </thead>\n",
       "  <tbody>\n",
       "    <tr>\n",
       "      <th>0</th>\n",
       "      <td>1699006</td>\n",
       "      <td>14</td>\n",
       "      <td>0001</td>\n",
       "      <td>010</td>\n",
       "      <td>120</td>\n",
       "      <td>20.677705</td>\n",
       "      <td>-103.447473</td>\n",
       "      <td>237131</td>\n",
       "      <td>3575</td>\n",
       "      <td>6 a 10 personas</td>\n",
       "      <td>POINT (661711.071 2287252.757)</td>\n",
       "      <td>Industria</td>\n",
       "      <td>8</td>\n",
       "      <td>1412000013575010</td>\n",
       "      <td>POINT (661673.303 2287384.863)</td>\n",
       "    </tr>\n",
       "    <tr>\n",
       "      <th>1</th>\n",
       "      <td>1639611</td>\n",
       "      <td>14</td>\n",
       "      <td>0001</td>\n",
       "      <td>018</td>\n",
       "      <td>120</td>\n",
       "      <td>20.694152</td>\n",
       "      <td>-103.453771</td>\n",
       "      <td>314991</td>\n",
       "      <td>1206</td>\n",
       "      <td>6 a 10 personas</td>\n",
       "      <td>POINT (661037.629 2289067.252)</td>\n",
       "      <td>Industria</td>\n",
       "      <td>8</td>\n",
       "      <td>1412000011206018</td>\n",
       "      <td>POINT (661169.341 2288689.642)</td>\n",
       "    </tr>\n",
       "  </tbody>\n",
       "</table>\n",
       "</div>"
      ],
      "text/plain": [
       "        id cve_ent cve_loc manzana cve_mun    latitud    longitud codigo_act  \\\n",
       "0  1699006      14    0001     010     120  20.677705 -103.447473     237131   \n",
       "1  1639611      14    0001     018     120  20.694152 -103.453771     314991   \n",
       "\n",
       "   ageb          per_ocu                        geometry   tipo_act  \\\n",
       "0  3575  6 a 10 personas  POINT (661711.071 2287252.757)  Industria   \n",
       "1  1206  6 a 10 personas  POINT (661037.629 2289067.252)  Industria   \n",
       "\n",
       "   per_ocu_num        cvegeo_mza                    cnt_geometry  \n",
       "0            8  1412000013575010  POINT (661673.303 2287384.863)  \n",
       "1            8  1412000011206018  POINT (661169.341 2288689.642)  "
      ]
     },
     "execution_count": 18,
     "metadata": {},
     "output_type": "execute_result"
    }
   ],
   "source": [
    "# 2. Merge block centroid geometry to DENUE gdf\n",
    "denue_gdf = pd.merge(\n",
    "    denue_gdf,\n",
    "    block_cnt[['cvegeo_mza', 'cnt_geometry']],\n",
    "    on=['cvegeo_mza'],\n",
    "    how='inner'\n",
    ")\n",
    "print(denue_gdf.shape)\n",
    "denue_gdf.head(2)"
   ]
  },
  {
   "cell_type": "code",
   "execution_count": 19,
   "id": "0de145e9-b314-485c-8a3b-27eb0367ef22",
   "metadata": {},
   "outputs": [],
   "source": [
    "# 3. Calcular la distancia de cada punto al centroide de su manzana\n",
    "denue_gdf['distancia'] = denue_gdf['geometry'].distance(denue_gdf['cnt_geometry'])"
   ]
  },
  {
   "cell_type": "code",
   "execution_count": 20,
   "id": "ebddc33a-4b4f-4a40-806b-7027ca0f92bb",
   "metadata": {},
   "outputs": [
    {
     "name": "stdout",
     "output_type": "stream",
     "text": [
      "(800, 2)\n"
     ]
    },
    {
     "data": {
      "text/html": [
       "<div>\n",
       "<style scoped>\n",
       "    .dataframe tbody tr th:only-of-type {\n",
       "        vertical-align: middle;\n",
       "    }\n",
       "\n",
       "    .dataframe tbody tr th {\n",
       "        vertical-align: top;\n",
       "    }\n",
       "\n",
       "    .dataframe thead th {\n",
       "        text-align: right;\n",
       "    }\n",
       "</style>\n",
       "<table border=\"1\" class=\"dataframe\">\n",
       "  <thead>\n",
       "    <tr style=\"text-align: right;\">\n",
       "      <th></th>\n",
       "      <th>cvegeo_mza</th>\n",
       "      <th>d_mean</th>\n",
       "    </tr>\n",
       "  </thead>\n",
       "  <tbody>\n",
       "    <tr>\n",
       "      <th>0</th>\n",
       "      <td>1403900010562024</td>\n",
       "      <td>103.408153</td>\n",
       "    </tr>\n",
       "    <tr>\n",
       "      <th>1</th>\n",
       "      <td>1403900010562025</td>\n",
       "      <td>244.817595</td>\n",
       "    </tr>\n",
       "  </tbody>\n",
       "</table>\n",
       "</div>"
      ],
      "text/plain": [
       "         cvegeo_mza      d_mean\n",
       "0  1403900010562024  103.408153\n",
       "1  1403900010562025  244.817595"
      ]
     },
     "execution_count": 20,
     "metadata": {},
     "output_type": "execute_result"
    }
   ],
   "source": [
    "# 4. Calcular d_mean por manzana\n",
    "denue_to_cnt = denue_gdf.groupby(\n",
    "    ['cvegeo_mza']\n",
    ")['distancia'].mean().reset_index(name='d_mean')\n",
    "print(denue_to_cnt.shape)\n",
    "denue_to_cnt.head(2)"
   ]
  },
  {
   "cell_type": "code",
   "execution_count": 21,
   "id": "2db68f2e-a8fc-463f-bdec-7cb4156d15f0",
   "metadata": {},
   "outputs": [
    {
     "name": "stdout",
     "output_type": "stream",
     "text": [
      "(7353, 17)\n"
     ]
    },
    {
     "data": {
      "text/html": [
       "<div>\n",
       "<style scoped>\n",
       "    .dataframe tbody tr th:only-of-type {\n",
       "        vertical-align: middle;\n",
       "    }\n",
       "\n",
       "    .dataframe tbody tr th {\n",
       "        vertical-align: top;\n",
       "    }\n",
       "\n",
       "    .dataframe thead th {\n",
       "        text-align: right;\n",
       "    }\n",
       "</style>\n",
       "<table border=\"1\" class=\"dataframe\">\n",
       "  <thead>\n",
       "    <tr style=\"text-align: right;\">\n",
       "      <th></th>\n",
       "      <th>id</th>\n",
       "      <th>cve_ent</th>\n",
       "      <th>cve_loc</th>\n",
       "      <th>manzana</th>\n",
       "      <th>cve_mun</th>\n",
       "      <th>latitud</th>\n",
       "      <th>longitud</th>\n",
       "      <th>codigo_act</th>\n",
       "      <th>ageb</th>\n",
       "      <th>per_ocu</th>\n",
       "      <th>geometry</th>\n",
       "      <th>tipo_act</th>\n",
       "      <th>per_ocu_num</th>\n",
       "      <th>cvegeo_mza</th>\n",
       "      <th>cnt_geometry</th>\n",
       "      <th>distancia</th>\n",
       "      <th>d_mean</th>\n",
       "    </tr>\n",
       "  </thead>\n",
       "  <tbody>\n",
       "    <tr>\n",
       "      <th>0</th>\n",
       "      <td>1699006</td>\n",
       "      <td>14</td>\n",
       "      <td>0001</td>\n",
       "      <td>010</td>\n",
       "      <td>120</td>\n",
       "      <td>20.677705</td>\n",
       "      <td>-103.447473</td>\n",
       "      <td>237131</td>\n",
       "      <td>3575</td>\n",
       "      <td>6 a 10 personas</td>\n",
       "      <td>POINT (661711.071 2287252.757)</td>\n",
       "      <td>Industria</td>\n",
       "      <td>8</td>\n",
       "      <td>1412000013575010</td>\n",
       "      <td>POINT (661673.303 2287384.863)</td>\n",
       "      <td>137.398385</td>\n",
       "      <td>128.665528</td>\n",
       "    </tr>\n",
       "    <tr>\n",
       "      <th>1</th>\n",
       "      <td>1639611</td>\n",
       "      <td>14</td>\n",
       "      <td>0001</td>\n",
       "      <td>018</td>\n",
       "      <td>120</td>\n",
       "      <td>20.694152</td>\n",
       "      <td>-103.453771</td>\n",
       "      <td>314991</td>\n",
       "      <td>1206</td>\n",
       "      <td>6 a 10 personas</td>\n",
       "      <td>POINT (661037.629 2289067.252)</td>\n",
       "      <td>Industria</td>\n",
       "      <td>8</td>\n",
       "      <td>1412000011206018</td>\n",
       "      <td>POINT (661169.341 2288689.642)</td>\n",
       "      <td>399.921166</td>\n",
       "      <td>359.041401</td>\n",
       "    </tr>\n",
       "  </tbody>\n",
       "</table>\n",
       "</div>"
      ],
      "text/plain": [
       "        id cve_ent cve_loc manzana cve_mun    latitud    longitud codigo_act  \\\n",
       "0  1699006      14    0001     010     120  20.677705 -103.447473     237131   \n",
       "1  1639611      14    0001     018     120  20.694152 -103.453771     314991   \n",
       "\n",
       "   ageb          per_ocu                        geometry   tipo_act  \\\n",
       "0  3575  6 a 10 personas  POINT (661711.071 2287252.757)  Industria   \n",
       "1  1206  6 a 10 personas  POINT (661037.629 2289067.252)  Industria   \n",
       "\n",
       "   per_ocu_num        cvegeo_mza                    cnt_geometry   distancia  \\\n",
       "0            8  1412000013575010  POINT (661673.303 2287384.863)  137.398385   \n",
       "1            8  1412000011206018  POINT (661169.341 2288689.642)  399.921166   \n",
       "\n",
       "       d_mean  \n",
       "0  128.665528  \n",
       "1  359.041401  "
      ]
     },
     "execution_count": 21,
     "metadata": {},
     "output_type": "execute_result"
    }
   ],
   "source": [
    "# Add average distance to each block centroid\n",
    "denue_gdf = denue_gdf.merge(denue_to_cnt, on='cvegeo_mza')\n",
    "print(denue_gdf.shape)\n",
    "denue_gdf.head(2)"
   ]
  },
  {
   "cell_type": "code",
   "execution_count": 22,
   "id": "4348ef90-f68f-4843-b3a0-8ff24bd78d35",
   "metadata": {},
   "outputs": [
    {
     "data": {
      "text/plain": [
       "<Axes: >"
      ]
     },
     "execution_count": 22,
     "metadata": {},
     "output_type": "execute_result"
    },
    {
     "data": {
      "image/png": "[encoded data removed]",
      "text/plain": [
       "<Figure size 640x480 with 1 Axes>"
      ]
     },
     "metadata": {},
     "output_type": "display_data"
    }
   ],
   "source": [
    "denue_gdf.plot('d_mean')"
   ]
  },
  {
   "cell_type": "markdown",
   "id": "6ae96528-1948-411c-91ac-041e5797ed8b",
   "metadata": {},
   "source": [
    "## Kernel density analysis"
   ]
  },
  {
   "cell_type": "markdown",
   "id": "7618fe3c-5221-442a-844c-e368bcaa0c9d",
   "metadata": {},
   "source": [
    "#### Single block test"
   ]
  },
  {
   "cell_type": "code",
   "execution_count": 23,
   "id": "8c85e7eb-7a81-4ea2-b971-98cbc72123c0",
   "metadata": {},
   "outputs": [
    {
     "data": {
      "text/plain": [
       "'1412000011189001'"
      ]
     },
     "execution_count": 23,
     "metadata": {},
     "output_type": "execute_result"
    }
   ],
   "source": [
    "idx_max = denue_gdf.groupby('cvegeo_mza').count().reset_index().idxmax().id\n",
    "cvegeo_max = denue_gdf.groupby('cvegeo_mza').count().reset_index().iloc[idx_max].cvegeo_mza # gather the block with the most denue points\n",
    "cvegeo_max"
   ]
  },
  {
   "cell_type": "code",
   "execution_count": 24,
   "id": "88f73301-92c2-4e85-938c-ab32905ddb78",
   "metadata": {},
   "outputs": [
    {
     "name": "stdout",
     "output_type": "stream",
     "text": [
      "(256, 17)\n"
     ]
    },
    {
     "data": {
      "text/html": [
       "<div>\n",
       "<style scoped>\n",
       "    .dataframe tbody tr th:only-of-type {\n",
       "        vertical-align: middle;\n",
       "    }\n",
       "\n",
       "    .dataframe tbody tr th {\n",
       "        vertical-align: top;\n",
       "    }\n",
       "\n",
       "    .dataframe thead th {\n",
       "        text-align: right;\n",
       "    }\n",
       "</style>\n",
       "<table border=\"1\" class=\"dataframe\">\n",
       "  <thead>\n",
       "    <tr style=\"text-align: right;\">\n",
       "      <th></th>\n",
       "      <th>id</th>\n",
       "      <th>cve_ent</th>\n",
       "      <th>cve_loc</th>\n",
       "      <th>manzana</th>\n",
       "      <th>cve_mun</th>\n",
       "      <th>latitud</th>\n",
       "      <th>longitud</th>\n",
       "      <th>codigo_act</th>\n",
       "      <th>ageb</th>\n",
       "      <th>per_ocu</th>\n",
       "      <th>geometry</th>\n",
       "      <th>tipo_act</th>\n",
       "      <th>per_ocu_num</th>\n",
       "      <th>cvegeo_mza</th>\n",
       "      <th>cnt_geometry</th>\n",
       "      <th>distancia</th>\n",
       "      <th>d_mean</th>\n",
       "    </tr>\n",
       "  </thead>\n",
       "  <tbody>\n",
       "    <tr>\n",
       "      <th>0</th>\n",
       "      <td>1703164</td>\n",
       "      <td>14</td>\n",
       "      <td>0001</td>\n",
       "      <td>001</td>\n",
       "      <td>120</td>\n",
       "      <td>20.675187</td>\n",
       "      <td>-103.404924</td>\n",
       "      <td>311520</td>\n",
       "      <td>1189</td>\n",
       "      <td>0 a 5 personas</td>\n",
       "      <td>POINT (666146.614 2287017.031)</td>\n",
       "      <td>Industria</td>\n",
       "      <td>3</td>\n",
       "      <td>1412000011189001</td>\n",
       "      <td>POINT (666134.393 2286859.171)</td>\n",
       "      <td>158.332429</td>\n",
       "      <td>165.229558</td>\n",
       "    </tr>\n",
       "    <tr>\n",
       "      <th>1</th>\n",
       "      <td>1655423</td>\n",
       "      <td>14</td>\n",
       "      <td>0001</td>\n",
       "      <td>001</td>\n",
       "      <td>120</td>\n",
       "      <td>20.675187</td>\n",
       "      <td>-103.404924</td>\n",
       "      <td>323119</td>\n",
       "      <td>1189</td>\n",
       "      <td>0 a 5 personas</td>\n",
       "      <td>POINT (666146.614 2287017.031)</td>\n",
       "      <td>Industria</td>\n",
       "      <td>3</td>\n",
       "      <td>1412000011189001</td>\n",
       "      <td>POINT (666134.393 2286859.171)</td>\n",
       "      <td>158.332429</td>\n",
       "      <td>165.229558</td>\n",
       "    </tr>\n",
       "  </tbody>\n",
       "</table>\n",
       "</div>"
      ],
      "text/plain": [
       "        id cve_ent cve_loc manzana cve_mun    latitud    longitud codigo_act  \\\n",
       "0  1703164      14    0001     001     120  20.675187 -103.404924     311520   \n",
       "1  1655423      14    0001     001     120  20.675187 -103.404924     323119   \n",
       "\n",
       "   ageb         per_ocu                        geometry   tipo_act  \\\n",
       "0  1189  0 a 5 personas  POINT (666146.614 2287017.031)  Industria   \n",
       "1  1189  0 a 5 personas  POINT (666146.614 2287017.031)  Industria   \n",
       "\n",
       "   per_ocu_num        cvegeo_mza                    cnt_geometry   distancia  \\\n",
       "0            3  1412000011189001  POINT (666134.393 2286859.171)  158.332429   \n",
       "1            3  1412000011189001  POINT (666134.393 2286859.171)  158.332429   \n",
       "\n",
       "       d_mean  \n",
       "0  165.229558  \n",
       "1  165.229558  "
      ]
     },
     "execution_count": 24,
     "metadata": {},
     "output_type": "execute_result"
    }
   ],
   "source": [
    "block_test = block_gdf.loc[block_gdf.cvegeo_mza==cvegeo_max].copy()\n",
    "\n",
    "denue_test = denue_gdf.loc[denue_gdf.cvegeo_mza==cvegeo_max].copy()\n",
    "denue_test = denue_test.reset_index(drop=True)\n",
    "\n",
    "print(denue_test.shape)\n",
    "denue_test.head(2)"
   ]
  },
  {
   "cell_type": "code",
   "execution_count": 25,
   "id": "f3ad73ae-0215-46cc-be41-8006169fd4e2",
   "metadata": {},
   "outputs": [
    {
     "data": {
      "text/plain": [
       "array([  3,  40,   8,  20, 175,  75])"
      ]
     },
     "execution_count": 25,
     "metadata": {},
     "output_type": "execute_result"
    }
   ],
   "source": [
    "denue_test.per_ocu_num.unique()"
   ]
  },
  {
   "cell_type": "code",
   "execution_count": 26,
   "id": "7fef48ad-7ceb-4a41-b138-423a3a992e75",
   "metadata": {},
   "outputs": [],
   "source": [
    "# Ejecutar el KDE solo sobre esos puntos\n",
    "spatial_kernel_density(\n",
    "    points=denue_test,\n",
    "    radius = denue_test['d_mean'].mean()/2,\n",
    "    output_path=\"../../data/processed/prediccion_uso_suelo/figureskde_manzana_prueba.tif\",\n",
    "    output_pixel_size=5,\n",
    "    output_driver=\"GTiff\",\n",
    "    weight_col=\"per_ocu_num\", # Número de personas por ocupación\n",
    ")"
   ]
  },
  {
   "cell_type": "markdown",
   "id": "52b7ec06-d1f5-400e-8bf0-4c0a5f465536",
   "metadata": {},
   "source": [
    "### Iterative analysis"
   ]
  },
  {
   "cell_type": "markdown",
   "id": "258f513e-9839-479f-a402-83e52618a2bd",
   "metadata": {},
   "source": [
    "Analysis for every block and economic activity classification"
   ]
  },
  {
   "cell_type": "code",
   "execution_count": null,
   "id": "ede5e6e0-f1d8-45d2-a10e-e4d2a082a691",
   "metadata": {
    "scrolled": true
   },
   "outputs": [],
   "source": [
    "output_dir = '../../data/processed/prediccion_uso_suelo/kde_output/'\n",
    "for idx, manzana in block_gdf.iterrows():\n",
    "    # Filtrar puntos DENUE dentro de la manzana y con la actividad deseada\n",
    "    cvegeo_mza = block_gdf.loc[idx].cvegeo_mza\n",
    "    denue_block = denue_gdf.loc[denue_gdf.cvegeo_mza == cvegeo_mza].copy()\n",
    "\n",
    "    # Saltar si no hay puntos que cumplan ambos criterios\n",
    "    if denue_block.empty:\n",
    "        continue\n",
    "\n",
    "    # Nombre de salida con ID y nombre de actividad\n",
    "    for act in denue_block.tipo_act.unique():\n",
    "        output_file = f\"{output_dir}kde_mnz_{cvegeo_mza}_{act}.tif\"\n",
    "        denue_act = denue_block.loc[denue_block.tipo_act==act].copy()\n",
    "        denue_act = denue_act.reset_index(drop=True)\n",
    "\n",
    "    \n",
    "        # Ejecutar el KDE\n",
    "        spatial_kernel_density(\n",
    "            points=denue_act,\n",
    "            radius = (denue_block['d_mean'].mean() / 2),\n",
    "            output_path=output_file,\n",
    "            output_pixel_size=1.0,\n",
    "            output_driver=\"GTiff\",\n",
    "            weight_col=\"per_ocu_num\",\n",
    "        )\n"
   ]
  },
  {
   "cell_type": "code",
   "execution_count": null,
   "id": "da36921b-1993-4286-aa9e-28d2a2554515",
   "metadata": {},
   "outputs": [],
   "source": []
  }
 ],
 "metadata": {
  "kernelspec": {
   "display_name": "Python 3 (ipykernel)",
   "language": "python",
   "name": "python3"
  },
  "language_info": {
   "codemirror_mode": {
    "name": "ipython",
    "version": 3
   },
   "file_extension": ".py",
   "mimetype": "text/x-python",
   "name": "python",
   "nbconvert_exporter": "python",
   "pygments_lexer": "ipython3",
   "version": "3.13.2"
  }
 },
 "nbformat": 4,
 "nbformat_minor": 5
}
