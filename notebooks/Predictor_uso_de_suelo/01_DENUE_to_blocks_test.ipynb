{
 "cells": [
  {
   "cell_type": "markdown",
   "id": "7a972d1c-2416-4e62-9d8e-de21bf683d49",
   "metadata": {},
   "source": [
    "# DENUE analysis my block -test-"
   ]
  },
  {
   "cell_type": "markdown",
   "id": "71bffbf4-1030-4d71-a7e4-aa551949d058",
   "metadata": {},
   "source": [
    "This notebook covers the first steps towards an urban land use classifier. In it:\n",
    "1. The DENUE database is downloaded for a specific area\n",
    "2. A classification of the DENUE by activity is assigned to each point\n",
    "3. Each DENUE point gets assigned to an urban block\n",
    "4. An iterative process produces a Kernel Density Estimation for each activity classification and each block"
   ]
  },
  {
   "cell_type": "markdown",
   "id": "94b20c07-8afb-4716-bf45-f9344027b311",
   "metadata": {},
   "source": [
    "## Import libraries"
   ]
  },
  {
   "cell_type": "code",
   "execution_count": 1,
   "id": "a7675bb0-d6af-4f65-98e9-e02e55bca55d",
   "metadata": {},
   "outputs": [],
   "source": [
    "import geopandas as gpd\n",
    "import pandas as pd\n",
    "import numpy as np\n",
    "# import odc\n",
    "import zipfile\n",
    "\n",
    "from shapely.geometry import Point, Polygon\n",
    "\n",
    "import seaborn as sns\n",
    "import matplotlib.pyplot as plt\n",
    "\n",
    "# from typing import Optional\n",
    "from spatial_kde import spatial_kernel_density\n",
    "\n",
    "import warnings\n",
    "warnings.simplefilter(action='ignore', category=FutureWarning)\n",
    "\n",
    "import os\n",
    "import sys\n",
    "\n",
    "module_path = os.path.abspath(os.path.join('../../'))\n",
    "if module_path not in sys.path:\n",
    "    sys.path.append(module_path)\n",
    "    import aup\n",
    "else:\n",
    "    import aup"
   ]
  },
  {
   "cell_type": "markdown",
   "id": "6aa739a9-9911-49af-9ff3-6dddfa069a37",
   "metadata": {},
   "source": [
    "## Download and read data"
   ]
  },
  {
   "cell_type": "markdown",
   "id": "41009559-50e9-47d3-9df7-244c0abd37ef",
   "metadata": {},
   "source": [
    "### Area of analysis"
   ]
  },
  {
   "cell_type": "code",
   "execution_count": 8,
   "id": "94ca5773-1acc-4868-bca4-a0068aff8ae7",
   "metadata": {},
   "outputs": [
    {
     "name": "stdout",
     "output_type": "stream",
     "text": [
      "Archivos extraídos: ['Distrito/distrito.cpg', 'Distrito/distrito.dbf', 'Distrito/distrito.prj', 'Distrito/distrito.shp', 'Distrito/distrito.shx']\n"
     ]
    }
   ],
   "source": [
    "# Unzip \"Distrito\":\n",
    "zip_path = \"Distrito.zip\"\n",
    "\n",
    "with zipfile.ZipFile(zip_path, 'r') as zip_ref:\n",
    "    zip_ref.extractall()\n",
    "    print(\"Archivos extraídos:\", zip_ref.namelist())"
   ]
  },
  {
   "cell_type": "code",
   "execution_count": 2,
   "id": "3f8637f8-cac1-4214-a0af-cf4ff1aadab1",
   "metadata": {},
   "outputs": [
    {
     "name": "stdout",
     "output_type": "stream",
     "text": [
      "(1, 2)\n"
     ]
    },
    {
     "data": {
      "text/html": [
       "<div>\n",
       "<style scoped>\n",
       "    .dataframe tbody tr th:only-of-type {\n",
       "        vertical-align: middle;\n",
       "    }\n",
       "\n",
       "    .dataframe tbody tr th {\n",
       "        vertical-align: top;\n",
       "    }\n",
       "\n",
       "    .dataframe thead th {\n",
       "        text-align: right;\n",
       "    }\n",
       "</style>\n",
       "<table border=\"1\" class=\"dataframe\">\n",
       "  <thead>\n",
       "    <tr style=\"text-align: right;\">\n",
       "      <th></th>\n",
       "      <th>id</th>\n",
       "      <th>geometry</th>\n",
       "    </tr>\n",
       "  </thead>\n",
       "  <tbody>\n",
       "    <tr>\n",
       "      <th>0</th>\n",
       "      <td>1</td>\n",
       "      <td>POLYGON ((-103.4233 20.91026, -103.42209 20.91...</td>\n",
       "    </tr>\n",
       "  </tbody>\n",
       "</table>\n",
       "</div>"
      ],
      "text/plain": [
       "   id                                           geometry\n",
       "0   1  POLYGON ((-103.4233 20.91026, -103.42209 20.91..."
      ]
     },
     "execution_count": 2,
     "metadata": {},
     "output_type": "execute_result"
    }
   ],
   "source": [
    "aoa_gdf = gpd.read_file(\"distrito.shp\")\n",
    "print(aoa_gdf.shape)\n",
    "aoa_gdf.head(2)"
   ]
  },
  {
   "cell_type": "code",
   "execution_count": 3,
   "id": "0e7f7d1e-f39f-4c73-8917-62be69ee2f64",
   "metadata": {},
   "outputs": [
    {
     "name": "stdout",
     "output_type": "stream",
     "text": [
      "EPSG:4326\n"
     ]
    }
   ],
   "source": [
    "print(aoa_gdf.crs)"
   ]
  },
  {
   "cell_type": "code",
   "execution_count": 4,
   "id": "ea321f48-8d9a-49f2-af2f-3a5cba7b0ea0",
   "metadata": {},
   "outputs": [
    {
     "data": {
      "text/plain": [
       "['id', 'geometry']"
      ]
     },
     "execution_count": 4,
     "metadata": {},
     "output_type": "execute_result"
    }
   ],
   "source": [
    "aoa_gdf.columns.tolist()"
   ]
  },
  {
   "cell_type": "code",
   "execution_count": 58,
   "id": "fdb4a1fc-b136-4381-bd0c-f025a0f494e8",
   "metadata": {
    "scrolled": true
   },
   "outputs": [
    {
     "data": {
      "text/plain": [
       "<Axes: >"
      ]
     },
     "execution_count": 58,
     "metadata": {},
     "output_type": "execute_result"
    },
    {
     "data": {
      "image/png": "[encoded data removed]",
      "text/plain": [
       "<Figure size 640x480 with 1 Axes>"
      ]
     },
     "metadata": {},
     "output_type": "display_data"
    }
   ],
   "source": [
    "aoa_gdf.plot()"
   ]
  },
  {
   "cell_type": "code",
   "execution_count": 4,
   "id": "aa03d6fd-8a78-4782-b568-b0bf8cbff2ff",
   "metadata": {},
   "outputs": [],
   "source": [
    "aoa_gdf = aoa_gdf.to_crs(\"EPSG:4326\")"
   ]
  },
  {
   "cell_type": "markdown",
   "id": "769b9900-8d59-4652-b9f4-d43c40694b10",
   "metadata": {},
   "source": [
    "### DENUE"
   ]
  },
  {
   "cell_type": "code",
   "execution_count": 5,
   "id": "a0ad3b1b-c1a0-46df-900c-6fa8a6f5c590",
   "metadata": {},
   "outputs": [],
   "source": [
    "# Disolver\n",
    "\n",
    "# 2. Unir geometrías y obtener WKT como string\n",
    "poly_geom = aoa_gdf.dissolve().geometry.iloc[0]\n",
    "poly_wkt = poly_geom.wkt  # Este sí es un string"
   ]
  },
  {
   "cell_type": "code",
   "execution_count": 6,
   "id": "bd83d8e3-6897-495a-af70-239f6ded7f90",
   "metadata": {
    "scrolled": true
   },
   "outputs": [
    {
     "name": "stdout",
     "output_type": "stream",
     "text": [
      "<class 'str'>\n"
     ]
    }
   ],
   "source": [
    "print(type(poly_wkt))  # Debe ser <class 'str'>"
   ]
  },
  {
   "cell_type": "code",
   "execution_count": 7,
   "id": "1c3dc8d2-0632-40b2-8fa8-549c80e27845",
   "metadata": {},
   "outputs": [
    {
     "name": "stdout",
     "output_type": "stream",
     "text": [
      "Tipo de geometría: Polygon\n"
     ]
    }
   ],
   "source": [
    "print(f\"Tipo de geometría: {aoa_gdf.dissolve().geometry.type.iloc[0]}\")"
   ]
  },
  {
   "cell_type": "code",
   "execution_count": 24,
   "id": "e2dec1eb-aea1-4b6a-97b6-abf1ad173bb8",
   "metadata": {},
   "outputs": [
    {
     "name": "stdout",
     "output_type": "stream",
     "text": [
      "(52127, 11)\n",
      "        id entidad localidad manzana municipio    latitud    longitud  \\\n",
      "0  1829669      14      0001     040       120  20.777288 -103.445935   \n",
      "1  1829668      14      0001     038       120  20.779729 -103.446429   \n",
      "2  1704486      14      0001     005       120  20.773346 -103.446032   \n",
      "3  7625437      14      0001     003       120  20.773177 -103.444999   \n",
      "4  6340430      14      0001     014       120  20.775201 -103.445398   \n",
      "\n",
      "  codigo_act  ageb            per_ocu                     geometry  \n",
      "0     312112  6635     0 a 5 personas  POINT (-103.44593 20.77729)  \n",
      "1     312112  6635     0 a 5 personas  POINT (-103.44643 20.77973)  \n",
      "2     311830  6705     0 a 5 personas  POINT (-103.44603 20.77335)  \n",
      "3     321910  6705     0 a 5 personas    POINT (-103.445 20.77318)  \n",
      "4     326290  6705  51 a 100 personas    POINT (-103.4454 20.7752)  \n"
     ]
    }
   ],
   "source": [
    "from shapely import wkb\n",
    "import binascii\n",
    "from sqlalchemy import text\n",
    "from aup import utils\n",
    "\n",
    "# Consulta que devuelve WKT en lugar de geometría nativa\n",
    "query_censo = f\"\"\"\n",
    "SELECT\n",
    "    id,\n",
    "    cve_ent as entidad,\n",
    "    cve_loc as localidad,\n",
    "    manzana,\n",
    "    cve_mun as municipio,\n",
    "    latitud,\n",
    "    longitud,\n",
    "    codigo_act,\n",
    "    ageb,\n",
    "    per_ocu,\n",
    "    ST_AsText(geometry) as geometry_wkt\n",
    "FROM {schema}.{table}\n",
    "WHERE ST_Intersects(\n",
    "    geometry, \n",
    "    ST_SetSRID(ST_MakeValid(ST_GeomFromText('{poly_wkt}')), 4326)\n",
    ")\n",
    "\"\"\"\n",
    "\n",
    "engine = utils.db_engine()\n",
    "conn = engine.connect()\n",
    "\n",
    "try:\n",
    "    # Obtener datos como DataFrame de pandas\n",
    "    df = pd.read_sql_query(text(query_censo), conn)\n",
    "    \n",
    "    # Convertir WKT a geometrías shapely\n",
    "    from shapely import wkt\n",
    "    df['geometry'] = df['geometry_wkt'].apply(wkt.loads)\n",
    "    df = df.drop('geometry_wkt', axis=1)\n",
    "    \n",
    "    # Crear GeoDataFrame\n",
    "    denue_gdf = gpd.GeoDataFrame(df, geometry='geometry', crs=\"EPSG:4326\")\n",
    "    \n",
    "    print(denue_gdf.shape)\n",
    "    print(denue_gdf.head())\n",
    "\n",
    "finally:\n",
    "    conn.close()\n",
    "    engine.dispose()"
   ]
  },
  {
   "cell_type": "markdown",
   "id": "bef2a81c-d788-4748-9a4d-aa9965c50cf7",
   "metadata": {},
   "source": [
    "### Census blocks"
   ]
  },
  {
   "cell_type": "code",
   "execution_count": 41,
   "id": "6d1b26a1-0db8-4b58-95d2-977474405d13",
   "metadata": {},
   "outputs": [
    {
     "name": "stdout",
     "output_type": "stream",
     "text": [
      "(15505, 3)\n",
      "         cvegeo_mza  pobtot                                           geometry\n",
      "0  1412002312079001     581  POLYGON ((-103.50348 20.80092, -103.50348 20.8...\n",
      "1  1412002312079005      80  POLYGON ((-103.50516 20.8007, -103.5055 20.799...\n",
      "2  1412002312079007      29  POLYGON ((-103.50674 20.80092, -103.50568 20.8...\n",
      "3  1412002312079012      91  POLYGON ((-103.50683 20.80155, -103.50726 20.8...\n",
      "4  1412002312079013      80  POLYGON ((-103.50773 20.7997, -103.50775 20.80...\n",
      "Sí hay datos.\n"
     ]
    }
   ],
   "source": [
    "import pandas as pd\n",
    "import geopandas as gpd\n",
    "from shapely import wkt\n",
    "from sqlalchemy import text\n",
    "from aup import utils\n",
    "\n",
    "schema = \"sociodemografico\"\n",
    "table = \"censo_inegi_20_mza\"\n",
    "\n",
    "# Consulta que devuelve WKT en lugar de geometría nativa\n",
    "query_censo = f\"\"\"\n",
    "SELECT \n",
    "\"cvegeo_mza\",\n",
    "\"pobtot\",\n",
    "ST_AsText(geometry) as geometry_wkt\n",
    "FROM {schema}.{table}\n",
    "WHERE ST_Intersects(\n",
    "  geometry,\n",
    "  ST_SetSRID(ST_MakeValid(ST_GeomFromText('{poly_wkt}')), 4326)\n",
    ")\n",
    "\"\"\"\n",
    "\n",
    "engine = utils.db_engine()\n",
    "conn = engine.connect()\n",
    "\n",
    "try:\n",
    "    # Obtener datos como DataFrame de pandas\n",
    "    df = pd.read_sql_query(text(query_censo), conn)\n",
    "       \n",
    "    # Convertir WKT a geometrías shapely (si hay datos)\n",
    "    if len(df) > 0:\n",
    "        df['geometry'] = df['geometry_wkt'].apply(wkt.loads)\n",
    "        df = df.drop('geometry_wkt', axis=1)\n",
    "        \n",
    "        # Crear GeoDataFrame\n",
    "        block_gdf = gpd.GeoDataFrame(df, geometry='geometry', crs=\"EPSG:4326\")\n",
    "        \n",
    "        # Transformar al CRS deseado\n",
    "        block_gdf = block_gdf.to_crs(\"EPSG:4326\")\n",
    "        \n",
    "        print(block_gdf.shape)\n",
    "        print(block_gdf.head())\n",
    "        print(\"Sí hay datos.\")\n",
    "    else:\n",
    "        print(\"No se encontraron datos que coincidan con el polígono, incluso con buffer.\")\n",
    "        \n",
    "        # Obtener solo algunos registros para verificar que podemos acceder a la tabla\n",
    "        check_query = f\"\"\"\n",
    "        SELECT \n",
    "        \"cvegeo_mza\",\n",
    "        \"pobtot\",\n",
    "        ST_AsText(geometry) as geometry_wkt\n",
    "        FROM {schema}.{table}\n",
    "        LIMIT 5\n",
    "        \"\"\"\n",
    "        check_df = pd.read_sql_query(text(check_query), conn)\n",
    "        if len(check_df) > 0:\n",
    "            check_df['geometry'] = check_df['geometry_wkt'].apply(wkt.loads)\n",
    "            check_df = check_df.drop('geometry_wkt', axis=1)\n",
    "            check_gdf = gpd.GeoDataFrame(check_df, geometry='geometry', crs=\"EPSG:4326\")\n",
    "            print(\"\\nMuestra de algunos registros disponibles en la tabla:\")\n",
    "            print(check_gdf.head())\n",
    "finally:\n",
    "    conn.close()\n",
    "    engine.dispose()"
   ]
  },
  {
   "cell_type": "markdown",
   "id": "7b57bb9e-7b27-4486-b3f7-c7a24d517f25",
   "metadata": {},
   "source": [
    "## Data treatment and preprocessing"
   ]
  },
  {
   "cell_type": "markdown",
   "id": "442bb9b9-51b2-40cb-bdc6-1cfefddb4a29",
   "metadata": {},
   "source": [
    "### DENUE classification by activity"
   ]
  },
  {
   "cell_type": "markdown",
   "id": "aef70eb9-ec59-4093-b34f-bc033d26bdce",
   "metadata": {},
   "source": [
    "Clasificar las distintas actividades económicas con base en su terminación en \"codigo_act\" basándonos en el Directorio Estadístico Nacional de Unidades Económicas"
   ]
  },
  {
   "cell_type": "code",
   "execution_count": 42,
   "id": "87b05149-1bb9-4a0a-a93c-3d56dd74fd00",
   "metadata": {},
   "outputs": [],
   "source": [
    "# Función para clasificar según la terminación de codigo_act\n",
    "def asignar_tipo(codigo):\n",
    "    if pd.isna(codigo):  # Si está vacío\n",
    "        return 'Sin código'\n",
    "    \n",
    "    # Asegurar que sea string para evaluar el código\n",
    "    codigo_str = str(codigo).strip()\n",
    "\n",
    "    if not codigo_str.isdigit():\n",
    "        return 'Código inválido'\n",
    "    \n",
    "    # Define tus conjuntos de códigos\n",
    "    industria = {'11', '21', '23', '31', '32', '33', '55'}\n",
    "    \n",
    "    servicios = {'22', '48', '49', '52', '53', '54', '56', '72',\n",
    "                 '81'}\n",
    "    \n",
    "    comercio = {'43', '46'}\n",
    "    \n",
    "    cultural_recreativo = {'51','71'}\n",
    "    \n",
    "    educacion = {'61'}\n",
    "    \n",
    "    salud = {'62'}\n",
    "\n",
    "    gobierno = {'93'}\n",
    "    \n",
    "    # Verificar si el código está en alguno de los conjuntos\n",
    "    if codigo_str[:2] in industria:\n",
    "        return 'Industria'\n",
    "    elif codigo_str[:2] in servicios:\n",
    "        return 'Servicios'\n",
    "    elif codigo_str[:2] in comercio:\n",
    "        return 'Comercio'\n",
    "    elif codigo_str[:2] in cultural_recreativo:\n",
    "        return 'Cultural_Recreativo'\n",
    "    elif codigo_str[:2] in educacion:\n",
    "        return 'Educación'\n",
    "    elif codigo_str[:2] in salud:\n",
    "        return 'Salud'\n",
    "    elif codigo_str[:2] in gobierno:\n",
    "        return 'Gobierno'\n",
    "    else:\n",
    "        return 'Desconocido'\n",
    "\n",
    "# Aplica la función al DataFrame\n",
    "denue_gdf['tipo_act'] = denue_gdf['codigo_act'].apply(asignar_tipo)"
   ]
  },
  {
   "cell_type": "code",
   "execution_count": 43,
   "id": "20ee14e3-923d-44f1-91b2-05d69b4688b4",
   "metadata": {},
   "outputs": [
    {
     "data": {
      "text/html": [
       "<div>\n",
       "<style scoped>\n",
       "    .dataframe tbody tr th:only-of-type {\n",
       "        vertical-align: middle;\n",
       "    }\n",
       "\n",
       "    .dataframe tbody tr th {\n",
       "        vertical-align: top;\n",
       "    }\n",
       "\n",
       "    .dataframe thead th {\n",
       "        text-align: right;\n",
       "    }\n",
       "</style>\n",
       "<table border=\"1\" class=\"dataframe\">\n",
       "  <thead>\n",
       "    <tr style=\"text-align: right;\">\n",
       "      <th></th>\n",
       "      <th>id</th>\n",
       "      <th>entidad</th>\n",
       "      <th>localidad</th>\n",
       "      <th>manzana</th>\n",
       "      <th>municipio</th>\n",
       "      <th>latitud</th>\n",
       "      <th>longitud</th>\n",
       "      <th>codigo_act</th>\n",
       "      <th>ageb</th>\n",
       "      <th>per_ocu</th>\n",
       "      <th>geometry</th>\n",
       "      <th>tipo_act</th>\n",
       "      <th>per_ocu_num</th>\n",
       "    </tr>\n",
       "  </thead>\n",
       "  <tbody>\n",
       "    <tr>\n",
       "      <th>0</th>\n",
       "      <td>1829669</td>\n",
       "      <td>14</td>\n",
       "      <td>0001</td>\n",
       "      <td>040</td>\n",
       "      <td>120</td>\n",
       "      <td>20.777288</td>\n",
       "      <td>-103.445935</td>\n",
       "      <td>312112</td>\n",
       "      <td>6635</td>\n",
       "      <td>0 a 5 personas</td>\n",
       "      <td>POINT (-103.44593 20.77729)</td>\n",
       "      <td>Industria</td>\n",
       "      <td>3</td>\n",
       "    </tr>\n",
       "    <tr>\n",
       "      <th>1</th>\n",
       "      <td>1829668</td>\n",
       "      <td>14</td>\n",
       "      <td>0001</td>\n",
       "      <td>038</td>\n",
       "      <td>120</td>\n",
       "      <td>20.779729</td>\n",
       "      <td>-103.446429</td>\n",
       "      <td>312112</td>\n",
       "      <td>6635</td>\n",
       "      <td>0 a 5 personas</td>\n",
       "      <td>POINT (-103.44643 20.77973)</td>\n",
       "      <td>Industria</td>\n",
       "      <td>3</td>\n",
       "    </tr>\n",
       "    <tr>\n",
       "      <th>2</th>\n",
       "      <td>1704486</td>\n",
       "      <td>14</td>\n",
       "      <td>0001</td>\n",
       "      <td>005</td>\n",
       "      <td>120</td>\n",
       "      <td>20.773346</td>\n",
       "      <td>-103.446032</td>\n",
       "      <td>311830</td>\n",
       "      <td>6705</td>\n",
       "      <td>0 a 5 personas</td>\n",
       "      <td>POINT (-103.44603 20.77335)</td>\n",
       "      <td>Industria</td>\n",
       "      <td>3</td>\n",
       "    </tr>\n",
       "  </tbody>\n",
       "</table>\n",
       "</div>"
      ],
      "text/plain": [
       "        id entidad localidad manzana municipio    latitud    longitud  \\\n",
       "0  1829669      14      0001     040       120  20.777288 -103.445935   \n",
       "1  1829668      14      0001     038       120  20.779729 -103.446429   \n",
       "2  1704486      14      0001     005       120  20.773346 -103.446032   \n",
       "\n",
       "  codigo_act  ageb         per_ocu                     geometry   tipo_act  \\\n",
       "0     312112  6635  0 a 5 personas  POINT (-103.44593 20.77729)  Industria   \n",
       "1     312112  6635  0 a 5 personas  POINT (-103.44643 20.77973)  Industria   \n",
       "2     311830  6705  0 a 5 personas  POINT (-103.44603 20.77335)  Industria   \n",
       "\n",
       "   per_ocu_num  \n",
       "0            3  \n",
       "1            3  \n",
       "2            3  "
      ]
     },
     "execution_count": 43,
     "metadata": {},
     "output_type": "execute_result"
    }
   ],
   "source": [
    "denue_gdf.head(3)"
   ]
  },
  {
   "cell_type": "code",
   "execution_count": 44,
   "id": "90ceaa81-fc13-4b4a-a290-15ccd56e7a59",
   "metadata": {},
   "outputs": [
    {
     "data": {
      "text/plain": [
       "array(['Industria', 'Comercio', 'Servicios', 'Educación', 'Salud',\n",
       "       'Cultural_Recreativo', 'Gobierno'], dtype=object)"
      ]
     },
     "execution_count": 44,
     "metadata": {},
     "output_type": "execute_result"
    }
   ],
   "source": [
    "denue_gdf[\"tipo_act\"].unique()"
   ]
  },
  {
   "cell_type": "code",
   "execution_count": 45,
   "id": "31a12665-8bea-4d5a-9aad-7b813d89fb3d",
   "metadata": {},
   "outputs": [
    {
     "data": {
      "text/plain": [
       "0"
      ]
     },
     "execution_count": 45,
     "metadata": {},
     "output_type": "execute_result"
    }
   ],
   "source": [
    "len(denue_gdf[denue_gdf['tipo_act'] == 'Desconocido'])"
   ]
  },
  {
   "cell_type": "markdown",
   "id": "aab02123-e358-4e47-81ea-786690adc5a7",
   "metadata": {},
   "source": [
    "### DENUE occupied personel"
   ]
  },
  {
   "cell_type": "markdown",
   "id": "fd4a577d-3eec-485c-aa0c-1143ce52bc8e",
   "metadata": {},
   "source": [
    "Contabilizar cuántas personas hay ejerciendo cada actividad económica"
   ]
  },
  {
   "cell_type": "code",
   "execution_count": 46,
   "id": "6f2e42ba-ede8-423a-b256-4614b94e6e80",
   "metadata": {},
   "outputs": [],
   "source": [
    "def number_of_jobs(per_ocu):\n",
    "    jobs_dict = {'0 a 5 personas':3,\n",
    "                '6 a 10 personas':8,\n",
    "                '11 a 30 personas':20,\n",
    "                '31 a 50 personas':40,\n",
    "                '51 a 100 personas':75,\n",
    "                '101 a 250 personas':175,\n",
    "                '251 y más personas':325}\n",
    "    per_ocu_num = jobs_dict[per_ocu]\n",
    "    return per_ocu_num"
   ]
  },
  {
   "cell_type": "code",
   "execution_count": 47,
   "id": "e8f9c7c1-50c0-4dd6-9fa9-c5afc00f82fb",
   "metadata": {},
   "outputs": [
    {
     "data": {
      "text/html": [
       "<div>\n",
       "<style scoped>\n",
       "    .dataframe tbody tr th:only-of-type {\n",
       "        vertical-align: middle;\n",
       "    }\n",
       "\n",
       "    .dataframe tbody tr th {\n",
       "        vertical-align: top;\n",
       "    }\n",
       "\n",
       "    .dataframe thead th {\n",
       "        text-align: right;\n",
       "    }\n",
       "</style>\n",
       "<table border=\"1\" class=\"dataframe\">\n",
       "  <thead>\n",
       "    <tr style=\"text-align: right;\">\n",
       "      <th></th>\n",
       "      <th>id</th>\n",
       "      <th>entidad</th>\n",
       "      <th>localidad</th>\n",
       "      <th>manzana</th>\n",
       "      <th>municipio</th>\n",
       "      <th>latitud</th>\n",
       "      <th>longitud</th>\n",
       "      <th>codigo_act</th>\n",
       "      <th>ageb</th>\n",
       "      <th>per_ocu</th>\n",
       "      <th>geometry</th>\n",
       "      <th>tipo_act</th>\n",
       "      <th>per_ocu_num</th>\n",
       "    </tr>\n",
       "  </thead>\n",
       "  <tbody>\n",
       "    <tr>\n",
       "      <th>0</th>\n",
       "      <td>1829669</td>\n",
       "      <td>14</td>\n",
       "      <td>0001</td>\n",
       "      <td>040</td>\n",
       "      <td>120</td>\n",
       "      <td>20.777288</td>\n",
       "      <td>-103.445935</td>\n",
       "      <td>312112</td>\n",
       "      <td>6635</td>\n",
       "      <td>0 a 5 personas</td>\n",
       "      <td>POINT (-103.44593 20.77729)</td>\n",
       "      <td>Industria</td>\n",
       "      <td>3</td>\n",
       "    </tr>\n",
       "    <tr>\n",
       "      <th>1</th>\n",
       "      <td>1829668</td>\n",
       "      <td>14</td>\n",
       "      <td>0001</td>\n",
       "      <td>038</td>\n",
       "      <td>120</td>\n",
       "      <td>20.779729</td>\n",
       "      <td>-103.446429</td>\n",
       "      <td>312112</td>\n",
       "      <td>6635</td>\n",
       "      <td>0 a 5 personas</td>\n",
       "      <td>POINT (-103.44643 20.77973)</td>\n",
       "      <td>Industria</td>\n",
       "      <td>3</td>\n",
       "    </tr>\n",
       "  </tbody>\n",
       "</table>\n",
       "</div>"
      ],
      "text/plain": [
       "        id entidad localidad manzana municipio    latitud    longitud  \\\n",
       "0  1829669      14      0001     040       120  20.777288 -103.445935   \n",
       "1  1829668      14      0001     038       120  20.779729 -103.446429   \n",
       "\n",
       "  codigo_act  ageb         per_ocu                     geometry   tipo_act  \\\n",
       "0     312112  6635  0 a 5 personas  POINT (-103.44593 20.77729)  Industria   \n",
       "1     312112  6635  0 a 5 personas  POINT (-103.44643 20.77973)  Industria   \n",
       "\n",
       "   per_ocu_num  \n",
       "0            3  \n",
       "1            3  "
      ]
     },
     "execution_count": 47,
     "metadata": {},
     "output_type": "execute_result"
    }
   ],
   "source": [
    "denue_gdf['per_ocu_num'] = denue_gdf.per_ocu.apply(lambda per_ocu: number_of_jobs(per_ocu))\n",
    "denue_gdf.head(2)"
   ]
  },
  {
   "cell_type": "markdown",
   "id": "051a8c30-de10-447e-a387-e9b547a5c579",
   "metadata": {},
   "source": [
    "### DENUE to blocks"
   ]
  },
  {
   "cell_type": "markdown",
   "id": "8ca87dc8-fd63-4847-a620-35f005a31095",
   "metadata": {},
   "source": [
    "Create CVEGEO code for each DENUE"
   ]
  },
  {
   "cell_type": "code",
   "execution_count": 49,
   "id": "663f4898-25ad-46c6-8a62-ceb621ca4f95",
   "metadata": {
    "scrolled": true
   },
   "outputs": [
    {
     "name": "stdout",
     "output_type": "stream",
     "text": [
      "(52127, 14)\n"
     ]
    },
    {
     "data": {
      "text/html": [
       "<div>\n",
       "<style scoped>\n",
       "    .dataframe tbody tr th:only-of-type {\n",
       "        vertical-align: middle;\n",
       "    }\n",
       "\n",
       "    .dataframe tbody tr th {\n",
       "        vertical-align: top;\n",
       "    }\n",
       "\n",
       "    .dataframe thead th {\n",
       "        text-align: right;\n",
       "    }\n",
       "</style>\n",
       "<table border=\"1\" class=\"dataframe\">\n",
       "  <thead>\n",
       "    <tr style=\"text-align: right;\">\n",
       "      <th></th>\n",
       "      <th>id</th>\n",
       "      <th>entidad</th>\n",
       "      <th>localidad</th>\n",
       "      <th>manzana</th>\n",
       "      <th>municipio</th>\n",
       "      <th>latitud</th>\n",
       "      <th>longitud</th>\n",
       "      <th>codigo_act</th>\n",
       "      <th>ageb</th>\n",
       "      <th>per_ocu</th>\n",
       "      <th>geometry</th>\n",
       "      <th>tipo_act</th>\n",
       "      <th>per_ocu_num</th>\n",
       "      <th>cvegeo_mza</th>\n",
       "    </tr>\n",
       "  </thead>\n",
       "  <tbody>\n",
       "    <tr>\n",
       "      <th>0</th>\n",
       "      <td>1829669</td>\n",
       "      <td>14</td>\n",
       "      <td>0001</td>\n",
       "      <td>040</td>\n",
       "      <td>120</td>\n",
       "      <td>20.777288</td>\n",
       "      <td>-103.445935</td>\n",
       "      <td>312112</td>\n",
       "      <td>6635</td>\n",
       "      <td>0 a 5 personas</td>\n",
       "      <td>POINT (-103.44593 20.77729)</td>\n",
       "      <td>Industria</td>\n",
       "      <td>3</td>\n",
       "      <td>1412000016635040</td>\n",
       "    </tr>\n",
       "    <tr>\n",
       "      <th>1</th>\n",
       "      <td>1829668</td>\n",
       "      <td>14</td>\n",
       "      <td>0001</td>\n",
       "      <td>038</td>\n",
       "      <td>120</td>\n",
       "      <td>20.779729</td>\n",
       "      <td>-103.446429</td>\n",
       "      <td>312112</td>\n",
       "      <td>6635</td>\n",
       "      <td>0 a 5 personas</td>\n",
       "      <td>POINT (-103.44643 20.77973)</td>\n",
       "      <td>Industria</td>\n",
       "      <td>3</td>\n",
       "      <td>1412000016635038</td>\n",
       "    </tr>\n",
       "  </tbody>\n",
       "</table>\n",
       "</div>"
      ],
      "text/plain": [
       "        id entidad localidad manzana municipio    latitud    longitud  \\\n",
       "0  1829669      14      0001     040       120  20.777288 -103.445935   \n",
       "1  1829668      14      0001     038       120  20.779729 -103.446429   \n",
       "\n",
       "  codigo_act  ageb         per_ocu                     geometry   tipo_act  \\\n",
       "0     312112  6635  0 a 5 personas  POINT (-103.44593 20.77729)  Industria   \n",
       "1     312112  6635  0 a 5 personas  POINT (-103.44643 20.77973)  Industria   \n",
       "\n",
       "   per_ocu_num        cvegeo_mza  \n",
       "0            3  1412000016635040  \n",
       "1            3  1412000016635038  "
      ]
     },
     "execution_count": 49,
     "metadata": {},
     "output_type": "execute_result"
    }
   ],
   "source": [
    "denue_gdf['cvegeo_mza'] = (\n",
    "    denue_gdf['entidad'].astype(str).str[:2] +\n",
    "    denue_gdf['municipio'].astype(str).str[:3] +\n",
    "    denue_gdf['localidad'].astype(str).str[:4] +\n",
    "    denue_gdf['ageb'].astype(str).str[:4] +\n",
    "    denue_gdf['manzana'].astype(str).str[:3]\n",
    ")\n",
    "print(denue_gdf.shape)\n",
    "denue_gdf.head(2)"
   ]
  },
  {
   "cell_type": "code",
   "execution_count": 50,
   "id": "d94fd256-6f14-4ff0-843c-615ae8c3097f",
   "metadata": {},
   "outputs": [
    {
     "data": {
      "text/plain": [
       "16"
      ]
     },
     "execution_count": 50,
     "metadata": {},
     "output_type": "execute_result"
    }
   ],
   "source": [
    "denue_gdf.cvegeo_mza.apply(len).min() # checks if every element has a 16 character length"
   ]
  },
  {
   "cell_type": "markdown",
   "id": "0e8e4be2-89ad-482a-8441-9a724c629662",
   "metadata": {},
   "source": [
    "Test if every DENUE is assigned to a block"
   ]
  },
  {
   "cell_type": "code",
   "execution_count": 51,
   "id": "8a57373b-a43b-456c-9a23-43467e736107",
   "metadata": {},
   "outputs": [
    {
     "data": {
      "text/plain": [
       "0"
      ]
     },
     "execution_count": 51,
     "metadata": {},
     "output_type": "execute_result"
    }
   ],
   "source": [
    "denue_gdf.merge(block_gdf[['cvegeo_mza','pobtot']], on='cvegeo_mza', how='inner').pobtot.isna().sum()"
   ]
  },
  {
   "cell_type": "markdown",
   "id": "7f8de599-0908-4ec8-aa59-6db9e4526857",
   "metadata": {},
   "source": [
    "### Distance from DENUE to block centroids"
   ]
  },
  {
   "cell_type": "code",
   "execution_count": 52,
   "id": "ecb25d22-9ab4-42db-9e9d-c853e2331f31",
   "metadata": {},
   "outputs": [
    {
     "name": "stderr",
     "output_type": "stream",
     "text": [
      "/tmp/ipykernel_14988/3273052898.py:3: UserWarning: Geometry is in a geographic CRS. Results from 'centroid' are likely incorrect. Use 'GeoSeries.to_crs()' to re-project geometries to a projected CRS before this operation.\n",
      "\n",
      "  block_cnt['cnt_geometry'] = block_cnt['geometry'].centroid\n"
     ]
    }
   ],
   "source": [
    "# 1. Crear GeoDataFrame de manzanas con centroides únicos\n",
    "block_cnt = block_gdf.copy()\n",
    "block_cnt['cnt_geometry'] = block_cnt['geometry'].centroid"
   ]
  },
  {
   "cell_type": "code",
   "execution_count": 53,
   "id": "803c0d46-3d3b-40b0-8f2b-cd0f069cdc81",
   "metadata": {},
   "outputs": [
    {
     "name": "stdout",
     "output_type": "stream",
     "text": [
      "(51885, 15)\n"
     ]
    },
    {
     "data": {
      "text/html": [
       "<div>\n",
       "<style scoped>\n",
       "    .dataframe tbody tr th:only-of-type {\n",
       "        vertical-align: middle;\n",
       "    }\n",
       "\n",
       "    .dataframe tbody tr th {\n",
       "        vertical-align: top;\n",
       "    }\n",
       "\n",
       "    .dataframe thead th {\n",
       "        text-align: right;\n",
       "    }\n",
       "</style>\n",
       "<table border=\"1\" class=\"dataframe\">\n",
       "  <thead>\n",
       "    <tr style=\"text-align: right;\">\n",
       "      <th></th>\n",
       "      <th>id</th>\n",
       "      <th>entidad</th>\n",
       "      <th>localidad</th>\n",
       "      <th>manzana</th>\n",
       "      <th>municipio</th>\n",
       "      <th>latitud</th>\n",
       "      <th>longitud</th>\n",
       "      <th>codigo_act</th>\n",
       "      <th>ageb</th>\n",
       "      <th>per_ocu</th>\n",
       "      <th>geometry</th>\n",
       "      <th>tipo_act</th>\n",
       "      <th>per_ocu_num</th>\n",
       "      <th>cvegeo_mza</th>\n",
       "      <th>cnt_geometry</th>\n",
       "    </tr>\n",
       "  </thead>\n",
       "  <tbody>\n",
       "    <tr>\n",
       "      <th>0</th>\n",
       "      <td>1829669</td>\n",
       "      <td>14</td>\n",
       "      <td>0001</td>\n",
       "      <td>040</td>\n",
       "      <td>120</td>\n",
       "      <td>20.777288</td>\n",
       "      <td>-103.445935</td>\n",
       "      <td>312112</td>\n",
       "      <td>6635</td>\n",
       "      <td>0 a 5 personas</td>\n",
       "      <td>POINT (-103.44593 20.77729)</td>\n",
       "      <td>Industria</td>\n",
       "      <td>3</td>\n",
       "      <td>1412000016635040</td>\n",
       "      <td>POINT (-103.44613 20.77705)</td>\n",
       "    </tr>\n",
       "    <tr>\n",
       "      <th>1</th>\n",
       "      <td>9013984</td>\n",
       "      <td>14</td>\n",
       "      <td>0001</td>\n",
       "      <td>040</td>\n",
       "      <td>120</td>\n",
       "      <td>20.776958</td>\n",
       "      <td>-103.445862</td>\n",
       "      <td>465111</td>\n",
       "      <td>6635</td>\n",
       "      <td>0 a 5 personas</td>\n",
       "      <td>POINT (-103.44586 20.77696)</td>\n",
       "      <td>Comercio</td>\n",
       "      <td>3</td>\n",
       "      <td>1412000016635040</td>\n",
       "      <td>POINT (-103.44613 20.77705)</td>\n",
       "    </tr>\n",
       "  </tbody>\n",
       "</table>\n",
       "</div>"
      ],
      "text/plain": [
       "        id entidad localidad manzana municipio    latitud    longitud  \\\n",
       "0  1829669      14      0001     040       120  20.777288 -103.445935   \n",
       "1  9013984      14      0001     040       120  20.776958 -103.445862   \n",
       "\n",
       "  codigo_act  ageb         per_ocu                     geometry   tipo_act  \\\n",
       "0     312112  6635  0 a 5 personas  POINT (-103.44593 20.77729)  Industria   \n",
       "1     465111  6635  0 a 5 personas  POINT (-103.44586 20.77696)   Comercio   \n",
       "\n",
       "   per_ocu_num        cvegeo_mza                 cnt_geometry  \n",
       "0            3  1412000016635040  POINT (-103.44613 20.77705)  \n",
       "1            3  1412000016635040  POINT (-103.44613 20.77705)  "
      ]
     },
     "execution_count": 53,
     "metadata": {},
     "output_type": "execute_result"
    }
   ],
   "source": [
    "# 2. Merge block centroid geometry to DENUE gdf\n",
    "denue_gdf = pd.merge(\n",
    "    denue_gdf,\n",
    "    block_cnt[['cvegeo_mza', 'cnt_geometry']],\n",
    "    on=['cvegeo_mza'],\n",
    "    how='inner'\n",
    ")\n",
    "print(denue_gdf.shape)\n",
    "denue_gdf.head(2)"
   ]
  },
  {
   "cell_type": "code",
   "execution_count": 54,
   "id": "0de145e9-b314-485c-8a3b-27eb0367ef22",
   "metadata": {},
   "outputs": [
    {
     "name": "stderr",
     "output_type": "stream",
     "text": [
      "/tmp/ipykernel_14988/4255178002.py:2: UserWarning: Geometry is in a geographic CRS. Results from 'distance' are likely incorrect. Use 'GeoSeries.to_crs()' to re-project geometries to a projected CRS before this operation.\n",
      "\n",
      "  denue_gdf['distancia'] = denue_gdf['geometry'].distance(denue_gdf['cnt_geometry'])\n"
     ]
    }
   ],
   "source": [
    "# 3. Calcular la distancia de cada punto al centroide de su manzana\n",
    "denue_gdf['distancia'] = denue_gdf['geometry'].distance(denue_gdf['cnt_geometry'])"
   ]
  },
  {
   "cell_type": "code",
   "execution_count": 55,
   "id": "ebddc33a-4b4f-4a40-806b-7027ca0f92bb",
   "metadata": {},
   "outputs": [
    {
     "name": "stdout",
     "output_type": "stream",
     "text": [
      "(8061, 2)\n"
     ]
    },
    {
     "data": {
      "text/html": [
       "<div>\n",
       "<style scoped>\n",
       "    .dataframe tbody tr th:only-of-type {\n",
       "        vertical-align: middle;\n",
       "    }\n",
       "\n",
       "    .dataframe tbody tr th {\n",
       "        vertical-align: top;\n",
       "    }\n",
       "\n",
       "    .dataframe thead th {\n",
       "        text-align: right;\n",
       "    }\n",
       "</style>\n",
       "<table border=\"1\" class=\"dataframe\">\n",
       "  <thead>\n",
       "    <tr style=\"text-align: right;\">\n",
       "      <th></th>\n",
       "      <th>cvegeo_mza</th>\n",
       "      <th>d_mean</th>\n",
       "    </tr>\n",
       "  </thead>\n",
       "  <tbody>\n",
       "    <tr>\n",
       "      <th>0</th>\n",
       "      <td>1409704240975002</td>\n",
       "      <td>0.000824</td>\n",
       "    </tr>\n",
       "    <tr>\n",
       "      <th>1</th>\n",
       "      <td>1409704240975028</td>\n",
       "      <td>0.000608</td>\n",
       "    </tr>\n",
       "  </tbody>\n",
       "</table>\n",
       "</div>"
      ],
      "text/plain": [
       "         cvegeo_mza    d_mean\n",
       "0  1409704240975002  0.000824\n",
       "1  1409704240975028  0.000608"
      ]
     },
     "execution_count": 55,
     "metadata": {},
     "output_type": "execute_result"
    }
   ],
   "source": [
    "# 4. Calcular d_mean por manzana\n",
    "denue_to_cnt = denue_gdf.groupby(\n",
    "    ['cvegeo_mza']\n",
    ")['distancia'].mean().reset_index(name='d_mean')\n",
    "print(denue_to_cnt.shape)\n",
    "denue_to_cnt.head(2)"
   ]
  },
  {
   "cell_type": "code",
   "execution_count": 56,
   "id": "2db68f2e-a8fc-463f-bdec-7cb4156d15f0",
   "metadata": {},
   "outputs": [
    {
     "name": "stdout",
     "output_type": "stream",
     "text": [
      "(51885, 17)\n"
     ]
    },
    {
     "data": {
      "text/html": [
       "<div>\n",
       "<style scoped>\n",
       "    .dataframe tbody tr th:only-of-type {\n",
       "        vertical-align: middle;\n",
       "    }\n",
       "\n",
       "    .dataframe tbody tr th {\n",
       "        vertical-align: top;\n",
       "    }\n",
       "\n",
       "    .dataframe thead th {\n",
       "        text-align: right;\n",
       "    }\n",
       "</style>\n",
       "<table border=\"1\" class=\"dataframe\">\n",
       "  <thead>\n",
       "    <tr style=\"text-align: right;\">\n",
       "      <th></th>\n",
       "      <th>id</th>\n",
       "      <th>entidad</th>\n",
       "      <th>localidad</th>\n",
       "      <th>manzana</th>\n",
       "      <th>municipio</th>\n",
       "      <th>latitud</th>\n",
       "      <th>longitud</th>\n",
       "      <th>codigo_act</th>\n",
       "      <th>ageb</th>\n",
       "      <th>per_ocu</th>\n",
       "      <th>geometry</th>\n",
       "      <th>tipo_act</th>\n",
       "      <th>per_ocu_num</th>\n",
       "      <th>cvegeo_mza</th>\n",
       "      <th>cnt_geometry</th>\n",
       "      <th>distancia</th>\n",
       "      <th>d_mean</th>\n",
       "    </tr>\n",
       "  </thead>\n",
       "  <tbody>\n",
       "    <tr>\n",
       "      <th>0</th>\n",
       "      <td>1829669</td>\n",
       "      <td>14</td>\n",
       "      <td>0001</td>\n",
       "      <td>040</td>\n",
       "      <td>120</td>\n",
       "      <td>20.777288</td>\n",
       "      <td>-103.445935</td>\n",
       "      <td>312112</td>\n",
       "      <td>6635</td>\n",
       "      <td>0 a 5 personas</td>\n",
       "      <td>POINT (-103.44593 20.77729)</td>\n",
       "      <td>Industria</td>\n",
       "      <td>3</td>\n",
       "      <td>1412000016635040</td>\n",
       "      <td>POINT (-103.44613 20.77705)</td>\n",
       "      <td>0.000307</td>\n",
       "      <td>0.000278</td>\n",
       "    </tr>\n",
       "    <tr>\n",
       "      <th>1</th>\n",
       "      <td>9013984</td>\n",
       "      <td>14</td>\n",
       "      <td>0001</td>\n",
       "      <td>040</td>\n",
       "      <td>120</td>\n",
       "      <td>20.776958</td>\n",
       "      <td>-103.445862</td>\n",
       "      <td>465111</td>\n",
       "      <td>6635</td>\n",
       "      <td>0 a 5 personas</td>\n",
       "      <td>POINT (-103.44586 20.77696)</td>\n",
       "      <td>Comercio</td>\n",
       "      <td>3</td>\n",
       "      <td>1412000016635040</td>\n",
       "      <td>POINT (-103.44613 20.77705)</td>\n",
       "      <td>0.000286</td>\n",
       "      <td>0.000278</td>\n",
       "    </tr>\n",
       "  </tbody>\n",
       "</table>\n",
       "</div>"
      ],
      "text/plain": [
       "        id entidad localidad manzana municipio    latitud    longitud  \\\n",
       "0  1829669      14      0001     040       120  20.777288 -103.445935   \n",
       "1  9013984      14      0001     040       120  20.776958 -103.445862   \n",
       "\n",
       "  codigo_act  ageb         per_ocu                     geometry   tipo_act  \\\n",
       "0     312112  6635  0 a 5 personas  POINT (-103.44593 20.77729)  Industria   \n",
       "1     465111  6635  0 a 5 personas  POINT (-103.44586 20.77696)   Comercio   \n",
       "\n",
       "   per_ocu_num        cvegeo_mza                 cnt_geometry  distancia  \\\n",
       "0            3  1412000016635040  POINT (-103.44613 20.77705)   0.000307   \n",
       "1            3  1412000016635040  POINT (-103.44613 20.77705)   0.000286   \n",
       "\n",
       "     d_mean  \n",
       "0  0.000278  \n",
       "1  0.000278  "
      ]
     },
     "execution_count": 56,
     "metadata": {},
     "output_type": "execute_result"
    }
   ],
   "source": [
    "# Add average distance to each block centroid\n",
    "denue_gdf = denue_gdf.merge(denue_to_cnt, on='cvegeo_mza')\n",
    "print(denue_gdf.shape)\n",
    "denue_gdf.head(2)"
   ]
  },
  {
   "cell_type": "code",
   "execution_count": 57,
   "id": "4348ef90-f68f-4843-b3a0-8ff24bd78d35",
   "metadata": {},
   "outputs": [
    {
     "data": {
      "text/plain": [
       "<Axes: >"
      ]
     },
     "execution_count": 57,
     "metadata": {},
     "output_type": "execute_result"
    },
    {
     "data": {
      "image/png": "[encoded data removed]",
      "text/plain": [
       "<Figure size 640x480 with 1 Axes>"
      ]
     },
     "metadata": {},
     "output_type": "display_data"
    }
   ],
   "source": [
    "denue_gdf.plot('d_mean')"
   ]
  },
  {
   "cell_type": "markdown",
   "id": "6ae96528-1948-411c-91ac-041e5797ed8b",
   "metadata": {},
   "source": [
    "## Kernel density analysis"
   ]
  },
  {
   "cell_type": "markdown",
   "id": "7618fe3c-5221-442a-844c-e368bcaa0c9d",
   "metadata": {},
   "source": [
    "#### Single block test"
   ]
  },
  {
   "cell_type": "code",
   "execution_count": 60,
   "id": "8c85e7eb-7a81-4ea2-b971-98cbc72123c0",
   "metadata": {},
   "outputs": [],
   "source": [
    "# Obtener el conteo por manzana\n",
    "conteo_por_manzana = denue_gdf.groupby('cvegeo_mza').size().reset_index(name='conteo')\n",
    "\n",
    "# Encontrar la manzana con máximo conteo\n",
    "max_row = conteo_por_manzana.loc[conteo_por_manzana['conteo'].idxmax()]\n",
    "cvegeo_max = max_row['cvegeo_mza']"
   ]
  },
  {
   "cell_type": "code",
   "execution_count": 61,
   "id": "88f73301-92c2-4e85-938c-ab32905ddb78",
   "metadata": {},
   "outputs": [
    {
     "name": "stdout",
     "output_type": "stream",
     "text": [
      "(298, 17)\n"
     ]
    },
    {
     "data": {
      "text/html": [
       "<div>\n",
       "<style scoped>\n",
       "    .dataframe tbody tr th:only-of-type {\n",
       "        vertical-align: middle;\n",
       "    }\n",
       "\n",
       "    .dataframe tbody tr th {\n",
       "        vertical-align: top;\n",
       "    }\n",
       "\n",
       "    .dataframe thead th {\n",
       "        text-align: right;\n",
       "    }\n",
       "</style>\n",
       "<table border=\"1\" class=\"dataframe\">\n",
       "  <thead>\n",
       "    <tr style=\"text-align: right;\">\n",
       "      <th></th>\n",
       "      <th>id</th>\n",
       "      <th>entidad</th>\n",
       "      <th>localidad</th>\n",
       "      <th>manzana</th>\n",
       "      <th>municipio</th>\n",
       "      <th>latitud</th>\n",
       "      <th>longitud</th>\n",
       "      <th>codigo_act</th>\n",
       "      <th>ageb</th>\n",
       "      <th>per_ocu</th>\n",
       "      <th>geometry</th>\n",
       "      <th>tipo_act</th>\n",
       "      <th>per_ocu_num</th>\n",
       "      <th>cvegeo_mza</th>\n",
       "      <th>cnt_geometry</th>\n",
       "      <th>distancia</th>\n",
       "      <th>d_mean</th>\n",
       "    </tr>\n",
       "  </thead>\n",
       "  <tbody>\n",
       "    <tr>\n",
       "      <th>0</th>\n",
       "      <td>6873851</td>\n",
       "      <td>14</td>\n",
       "      <td>0001</td>\n",
       "      <td>015</td>\n",
       "      <td>120</td>\n",
       "      <td>20.651590</td>\n",
       "      <td>-103.402214</td>\n",
       "      <td>713299</td>\n",
       "      <td>066A</td>\n",
       "      <td>51 a 100 personas</td>\n",
       "      <td>POINT (-103.40221 20.65159)</td>\n",
       "      <td>Cultural_Recreativo</td>\n",
       "      <td>75</td>\n",
       "      <td>141200001066A015</td>\n",
       "      <td>POINT (-103.40176 20.65035)</td>\n",
       "      <td>0.001320</td>\n",
       "      <td>0.001378</td>\n",
       "    </tr>\n",
       "    <tr>\n",
       "      <th>1</th>\n",
       "      <td>1811329</td>\n",
       "      <td>14</td>\n",
       "      <td>0001</td>\n",
       "      <td>015</td>\n",
       "      <td>120</td>\n",
       "      <td>20.651738</td>\n",
       "      <td>-103.402117</td>\n",
       "      <td>722511</td>\n",
       "      <td>066A</td>\n",
       "      <td>6 a 10 personas</td>\n",
       "      <td>POINT (-103.40212 20.65174)</td>\n",
       "      <td>Servicios</td>\n",
       "      <td>8</td>\n",
       "      <td>141200001066A015</td>\n",
       "      <td>POINT (-103.40176 20.65035)</td>\n",
       "      <td>0.001432</td>\n",
       "      <td>0.001378</td>\n",
       "    </tr>\n",
       "  </tbody>\n",
       "</table>\n",
       "</div>"
      ],
      "text/plain": [
       "        id entidad localidad manzana municipio    latitud    longitud  \\\n",
       "0  6873851      14      0001     015       120  20.651590 -103.402214   \n",
       "1  1811329      14      0001     015       120  20.651738 -103.402117   \n",
       "\n",
       "  codigo_act  ageb            per_ocu                     geometry  \\\n",
       "0     713299  066A  51 a 100 personas  POINT (-103.40221 20.65159)   \n",
       "1     722511  066A    6 a 10 personas  POINT (-103.40212 20.65174)   \n",
       "\n",
       "              tipo_act  per_ocu_num        cvegeo_mza  \\\n",
       "0  Cultural_Recreativo           75  141200001066A015   \n",
       "1            Servicios            8  141200001066A015   \n",
       "\n",
       "                  cnt_geometry  distancia    d_mean  \n",
       "0  POINT (-103.40176 20.65035)   0.001320  0.001378  \n",
       "1  POINT (-103.40176 20.65035)   0.001432  0.001378  "
      ]
     },
     "execution_count": 61,
     "metadata": {},
     "output_type": "execute_result"
    }
   ],
   "source": [
    "block_test = block_gdf.loc[block_gdf.cvegeo_mza==cvegeo_max].copy()\n",
    "\n",
    "denue_test = denue_gdf.loc[denue_gdf.cvegeo_mza==cvegeo_max].copy()\n",
    "denue_test = denue_test.reset_index(drop=True)\n",
    "\n",
    "print(denue_test.shape)\n",
    "denue_test.head(2)"
   ]
  },
  {
   "cell_type": "code",
   "execution_count": 62,
   "id": "f3ad73ae-0215-46cc-be41-8006169fd4e2",
   "metadata": {},
   "outputs": [
    {
     "data": {
      "text/plain": [
       "array([ 75,   8,   3,  20,  40, 175])"
      ]
     },
     "execution_count": 62,
     "metadata": {},
     "output_type": "execute_result"
    }
   ],
   "source": [
    "denue_test.per_ocu_num.unique()"
   ]
  },
  {
   "cell_type": "code",
   "execution_count": 65,
   "id": "7fef48ad-7ceb-4a41-b138-423a3a992e75",
   "metadata": {},
   "outputs": [],
   "source": [
    "# Ejecutar el KDE solo sobre esos puntos\n",
    "spatial_kernel_density(\n",
    "    points=denue_test,\n",
    "    radius = denue_test['d_mean'].mean()/2,\n",
    "    output_path=\"figureskde_manzana_prueba_todos_los_predios.tif\",\n",
    "    output_pixel_size=5,\n",
    "    output_driver=\"GTiff\",\n",
    "    weight_col=\"per_ocu_num\", # Número de personas por ocupación\n",
    ")"
   ]
  },
  {
   "cell_type": "markdown",
   "id": "52b7ec06-d1f5-400e-8bf0-4c0a5f465536",
   "metadata": {},
   "source": [
    "### Iterative analysis"
   ]
  },
  {
   "cell_type": "markdown",
   "id": "258f513e-9839-479f-a402-83e52618a2bd",
   "metadata": {},
   "source": [
    "Analysis for every block and economic activity classification"
   ]
  },
  {
   "cell_type": "code",
   "execution_count": null,
   "id": "ede5e6e0-f1d8-45d2-a10e-e4d2a082a691",
   "metadata": {
    "scrolled": true
   },
   "outputs": [],
   "source": [
    "output_dir = 'figureskde_manzana_prueba_todos_los_predios.tif'\n",
    "for idx, manzana in block_gdf.iterrows():\n",
    "    # Filtrar puntos DENUE dentro de la manzana y con la actividad deseada\n",
    "    cvegeo_mza = block_gdf.loc[idx].cvegeo_mza\n",
    "    denue_block = denue_gdf.loc[denue_gdf.cvegeo_mza == cvegeo_mza].copy()\n",
    "\n",
    "    # Saltar si no hay puntos que cumplan ambos criterios\n",
    "    if denue_block.empty:\n",
    "        continue\n",
    "\n",
    "    # Nombre de salida con ID y nombre de actividad\n",
    "    for act in denue_block.tipo_act.unique():\n",
    "        output_file = f\"{output_dir}kde_mnz_{cvegeo_mza}_{act}.tif\"\n",
    "        denue_act = denue_block.loc[denue_block.tipo_act==act].copy()\n",
    "        denue_act = denue_act.reset_index(drop=True)\n",
    "\n",
    "    \n",
    "        # Ejecutar el KDE\n",
    "        spatial_kernel_density(\n",
    "            points=denue_act,\n",
    "            radius = (denue_block['d_mean'].mean() / 2),\n",
    "            output_path=output_file,\n",
    "            output_pixel_size=1.0,\n",
    "            output_driver=\"GTiff\",\n",
    "            weight_col=\"per_ocu_num\",\n",
    "        )\n"
   ]
  }
 ],
 "metadata": {
  "kernelspec": {
   "display_name": "GDS-10.0",
   "language": "python",
   "name": "gds"
  },
  "language_info": {
   "codemirror_mode": {
    "name": "ipython",
    "version": 3
   },
   "file_extension": ".py",
   "mimetype": "text/x-python",
   "name": "python",
   "nbconvert_exporter": "python",
   "pygments_lexer": "ipython3",
   "version": "3.9.18"
  }
 },
 "nbformat": 4,
 "nbformat_minor": 5
}
