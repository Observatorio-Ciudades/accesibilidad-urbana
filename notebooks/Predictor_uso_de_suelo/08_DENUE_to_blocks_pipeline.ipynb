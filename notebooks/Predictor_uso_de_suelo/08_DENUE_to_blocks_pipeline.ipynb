{
 "cells": [
  {
   "cell_type": "markdown",
   "id": "7a972d1c-2416-4e62-9d8e-de21bf683d49",
   "metadata": {},
   "source": [
    "# DENUE analysis my block -test-"
   ]
  },
  {
   "cell_type": "markdown",
   "id": "71bffbf4-1030-4d71-a7e4-aa551949d058",
   "metadata": {},
   "source": [
    "This notebook covers the first steps towards an urban land use classifier. In it:\n",
    "1. The DENUE database is downloaded for a specific area\n",
    "2. A classification of the DENUE by activity is assigned to each point\n",
    "3. Each DENUE point gets assigned to an urban block\n",
    "4. An iterative process produces a Kernel Density Estimation for each activity classification and each block"
   ]
  },
  {
   "cell_type": "markdown",
   "id": "94b20c07-8afb-4716-bf45-f9344027b311",
   "metadata": {},
   "source": [
    "## Import libraries"
   ]
  },
  {
   "cell_type": "code",
   "execution_count": 1,
   "id": "a7675bb0-d6af-4f65-98e9-e02e55bca55d",
   "metadata": {},
   "outputs": [],
   "source": [
    "import geopandas as gpd\n",
    "import pandas as pd\n",
    "import numpy as np\n",
    "# import odc\n",
    "import zipfile\n",
    "\n",
    "from shapely.geometry import Point, Polygon\n",
    "\n",
    "import seaborn as sns\n",
    "import matplotlib.pyplot as plt\n",
    "\n",
    "# from typing import Optional\n",
    "from spatial_kde import spatial_kernel_density\n",
    "\n",
    "import warnings\n",
    "warnings.simplefilter(action='ignore', category=FutureWarning)\n",
    "\n",
    "import os\n",
    "import sys\n",
    "\n",
    "from shapely import wkb\n",
    "import binascii\n",
    "from sqlalchemy import text\n",
    "\n",
    "module_path = os.path.abspath(os.path.join('../../'))\n",
    "if module_path not in sys.path:\n",
    "    sys.path.append(module_path)\n",
    "    import aup\n",
    "else:\n",
    "    import aup"
   ]
  },
  {
   "cell_type": "markdown",
   "id": "6aa739a9-9911-49af-9ff3-6dddfa069a37",
   "metadata": {},
   "source": [
    "## Download and read data"
   ]
  },
  {
   "cell_type": "markdown",
   "id": "41009559-50e9-47d3-9df7-244c0abd37ef",
   "metadata": {},
   "source": [
    "### Area of analysis"
   ]
  },
  {
   "cell_type": "code",
   "execution_count": 3,
   "id": "db3e7e06-5bb8-48c8-9fc7-20166bb9aa64",
   "metadata": {},
   "outputs": [],
   "source": [
    "schema = 'metropolis'\n",
    "table = 'metro_gdf_2020'\n",
    "city = 'Monterrey'\n",
    "query = f\"SELECT * FROM {schema}.{table} WHERE city = \\'{city}\\'\"\n",
    "\n",
    "aoa_gdf = aup.gdf_from_query(query)\n",
    "aoa_gdf = aoa_gdf.to_crs('EPSG:4326')"
   ]
  },
  {
   "cell_type": "code",
   "execution_count": 5,
   "id": "88b4d04c-773b-4e1e-a895-f057bc98f8aa",
   "metadata": {},
   "outputs": [],
   "source": [
    "aoa_gdf = aoa_gdf.loc[aoa_gdf.NOMGEO=='Apodaca'].copy()"
   ]
  },
  {
   "cell_type": "code",
   "execution_count": 6,
   "id": "3f8637f8-cac1-4214-a0af-cf4ff1aadab1",
   "metadata": {},
   "outputs": [
    {
     "name": "stdout",
     "output_type": "stream",
     "text": [
      "(1, 6)\n"
     ]
    },
    {
     "data": {
      "text/html": [
       "<div>\n",
       "<style scoped>\n",
       "    .dataframe tbody tr th:only-of-type {\n",
       "        vertical-align: middle;\n",
       "    }\n",
       "\n",
       "    .dataframe tbody tr th {\n",
       "        vertical-align: top;\n",
       "    }\n",
       "\n",
       "    .dataframe thead th {\n",
       "        text-align: right;\n",
       "    }\n",
       "</style>\n",
       "<table border=\"1\" class=\"dataframe\">\n",
       "  <thead>\n",
       "    <tr style=\"text-align: right;\">\n",
       "      <th></th>\n",
       "      <th>CVEGEO</th>\n",
       "      <th>CVE_ENT</th>\n",
       "      <th>CVE_MUN</th>\n",
       "      <th>NOMGEO</th>\n",
       "      <th>geometry</th>\n",
       "      <th>city</th>\n",
       "    </tr>\n",
       "  </thead>\n",
       "  <tbody>\n",
       "    <tr>\n",
       "      <th>0</th>\n",
       "      <td>19006</td>\n",
       "      <td>19</td>\n",
       "      <td>006</td>\n",
       "      <td>Apodaca</td>\n",
       "      <td>POLYGON ((-100.24794 25.86462, -100.24672 25.8...</td>\n",
       "      <td>Monterrey</td>\n",
       "    </tr>\n",
       "  </tbody>\n",
       "</table>\n",
       "</div>"
      ],
      "text/plain": [
       "  CVEGEO CVE_ENT CVE_MUN   NOMGEO  \\\n",
       "0  19006      19     006  Apodaca   \n",
       "\n",
       "                                            geometry       city  \n",
       "0  POLYGON ((-100.24794 25.86462, -100.24672 25.8...  Monterrey  "
      ]
     },
     "execution_count": 6,
     "metadata": {},
     "output_type": "execute_result"
    }
   ],
   "source": [
    "# aoa_gdf = gpd.read_file(\"../../data/processed/prediccion_uso_suelo/Distrito/distrito.shp\")\n",
    "print(aoa_gdf.shape)\n",
    "aoa_gdf.head(2)"
   ]
  },
  {
   "cell_type": "code",
   "execution_count": 7,
   "id": "0e7f7d1e-f39f-4c73-8917-62be69ee2f64",
   "metadata": {},
   "outputs": [
    {
     "name": "stdout",
     "output_type": "stream",
     "text": [
      "EPSG:4326\n"
     ]
    }
   ],
   "source": [
    "print(aoa_gdf.crs)"
   ]
  },
  {
   "cell_type": "code",
   "execution_count": 8,
   "id": "fdb4a1fc-b136-4381-bd0c-f025a0f494e8",
   "metadata": {
    "scrolled": true
   },
   "outputs": [
    {
     "data": {
      "text/plain": [
       "<Axes: >"
      ]
     },
     "execution_count": 8,
     "metadata": {},
     "output_type": "execute_result"
    },
    {
     "data": {
      "image/png": "[encoded data removed]",
      "text/plain": [
       "<Figure size 640x480 with 1 Axes>"
      ]
     },
     "metadata": {},
     "output_type": "display_data"
    }
   ],
   "source": [
    "aoa_gdf.plot()"
   ]
  },
  {
   "cell_type": "code",
   "execution_count": 9,
   "id": "aa03d6fd-8a78-4782-b568-b0bf8cbff2ff",
   "metadata": {},
   "outputs": [],
   "source": [
    "aoa_gdf = aoa_gdf.to_crs(\"EPSG:4326\")"
   ]
  },
  {
   "cell_type": "markdown",
   "id": "769b9900-8d59-4652-b9f4-d43c40694b10",
   "metadata": {},
   "source": [
    "### DENUE"
   ]
  },
  {
   "cell_type": "code",
   "execution_count": 10,
   "id": "a0ad3b1b-c1a0-46df-900c-6fa8a6f5c590",
   "metadata": {},
   "outputs": [],
   "source": [
    "poly_geom = aoa_gdf.dissolve().geometry.iloc[0]\n",
    "poly_wkt = poly_geom.wkt  # Este sí es un string"
   ]
  },
  {
   "cell_type": "code",
   "execution_count": 11,
   "id": "1c3dc8d2-0632-40b2-8fa8-549c80e27845",
   "metadata": {},
   "outputs": [
    {
     "name": "stdout",
     "output_type": "stream",
     "text": [
      "Tipo de geometría: Polygon\n"
     ]
    }
   ],
   "source": [
    "print(f\"Tipo de geometría: {aoa_gdf.dissolve().geometry.type.iloc[0]}\")"
   ]
  },
  {
   "cell_type": "code",
   "execution_count": 12,
   "id": "e2dec1eb-aea1-4b6a-97b6-abf1ad173bb8",
   "metadata": {},
   "outputs": [
    {
     "name": "stdout",
     "output_type": "stream",
     "text": [
      "(15385, 8)\n"
     ]
    },
    {
     "data": {
      "text/html": [
       "<div>\n",
       "<style scoped>\n",
       "    .dataframe tbody tr th:only-of-type {\n",
       "        vertical-align: middle;\n",
       "    }\n",
       "\n",
       "    .dataframe tbody tr th {\n",
       "        vertical-align: top;\n",
       "    }\n",
       "\n",
       "    .dataframe thead th {\n",
       "        text-align: right;\n",
       "    }\n",
       "</style>\n",
       "<table border=\"1\" class=\"dataframe\">\n",
       "  <thead>\n",
       "    <tr style=\"text-align: right;\">\n",
       "      <th></th>\n",
       "      <th>cve_ent</th>\n",
       "      <th>cve_mun</th>\n",
       "      <th>cve_loc</th>\n",
       "      <th>ageb</th>\n",
       "      <th>manzana</th>\n",
       "      <th>codigo_act</th>\n",
       "      <th>per_ocu</th>\n",
       "      <th>geometry</th>\n",
       "    </tr>\n",
       "  </thead>\n",
       "  <tbody>\n",
       "    <tr>\n",
       "      <th>0</th>\n",
       "      <td>19</td>\n",
       "      <td>006</td>\n",
       "      <td>0001</td>\n",
       "      <td>0348</td>\n",
       "      <td>002</td>\n",
       "      <td>311813</td>\n",
       "      <td>0 a 5 personas</td>\n",
       "      <td>POINT (-100.18049 25.71861)</td>\n",
       "    </tr>\n",
       "    <tr>\n",
       "      <th>1</th>\n",
       "      <td>19</td>\n",
       "      <td>006</td>\n",
       "      <td>0001</td>\n",
       "      <td>0348</td>\n",
       "      <td>082</td>\n",
       "      <td>311830</td>\n",
       "      <td>0 a 5 personas</td>\n",
       "      <td>POINT (-100.18273 25.71683)</td>\n",
       "    </tr>\n",
       "  </tbody>\n",
       "</table>\n",
       "</div>"
      ],
      "text/plain": [
       "  cve_ent cve_mun cve_loc  ageb manzana codigo_act         per_ocu  \\\n",
       "0      19     006    0001  0348     002     311813  0 a 5 personas   \n",
       "1      19     006    0001  0348     082     311830  0 a 5 personas   \n",
       "\n",
       "                      geometry  \n",
       "0  POINT (-100.18049 25.71861)  \n",
       "1  POINT (-100.18273 25.71683)  "
      ]
     },
     "execution_count": 12,
     "metadata": {},
     "output_type": "execute_result"
    }
   ],
   "source": [
    "schema = \"denue\"\n",
    "table = \"denue_2022\"\n",
    "\n",
    "denue_gdf = aup.gdf_from_polygon(aoa_gdf, schema, table)\n",
    "\n",
    "denue_gdf = denue_gdf[['cve_ent','cve_mun','cve_loc',\n",
    "                       'ageb','manzana',\n",
    "                       'codigo_act','per_ocu','geometry']].copy()\n",
    "\n",
    "print(denue_gdf.shape)\n",
    "denue_gdf.head(2)"
   ]
  },
  {
   "cell_type": "markdown",
   "id": "bef2a81c-d788-4748-9a4d-aa9965c50cf7",
   "metadata": {},
   "source": [
    "### Census blocks"
   ]
  },
  {
   "cell_type": "code",
   "execution_count": 13,
   "id": "6d1b26a1-0db8-4b58-95d2-977474405d13",
   "metadata": {},
   "outputs": [
    {
     "name": "stdout",
     "output_type": "stream",
     "text": [
      "(7306, 3)\n"
     ]
    },
    {
     "data": {
      "text/html": [
       "<div>\n",
       "<style scoped>\n",
       "    .dataframe tbody tr th:only-of-type {\n",
       "        vertical-align: middle;\n",
       "    }\n",
       "\n",
       "    .dataframe tbody tr th {\n",
       "        vertical-align: top;\n",
       "    }\n",
       "\n",
       "    .dataframe thead th {\n",
       "        text-align: right;\n",
       "    }\n",
       "</style>\n",
       "<table border=\"1\" class=\"dataframe\">\n",
       "  <thead>\n",
       "    <tr style=\"text-align: right;\">\n",
       "      <th></th>\n",
       "      <th>cvegeo_mza</th>\n",
       "      <th>pobtot</th>\n",
       "      <th>geometry</th>\n",
       "    </tr>\n",
       "  </thead>\n",
       "  <tbody>\n",
       "    <tr>\n",
       "      <th>0</th>\n",
       "      <td>1900600010865031</td>\n",
       "      <td>136</td>\n",
       "      <td>POLYGON ((-100.24253 25.80111, -100.24179 25.7...</td>\n",
       "    </tr>\n",
       "    <tr>\n",
       "      <th>1</th>\n",
       "      <td>1900600010850007</td>\n",
       "      <td>0</td>\n",
       "      <td>POLYGON ((-100.24866 25.79842, -100.24866 25.7...</td>\n",
       "    </tr>\n",
       "  </tbody>\n",
       "</table>\n",
       "</div>"
      ],
      "text/plain": [
       "         cvegeo_mza  pobtot                                           geometry\n",
       "0  1900600010865031     136  POLYGON ((-100.24253 25.80111, -100.24179 25.7...\n",
       "1  1900600010850007       0  POLYGON ((-100.24866 25.79842, -100.24866 25.7..."
      ]
     },
     "execution_count": 13,
     "metadata": {},
     "output_type": "execute_result"
    }
   ],
   "source": [
    "schema = \"sociodemografico\"\n",
    "table = \"censo_inegi_20_mza\"\n",
    "\n",
    "# Consulta que devuelve WKT en lugar de geometría nativa\n",
    "query_censo = f\"\"\"\n",
    "SELECT \n",
    "\"cvegeo_mza\",\n",
    "\"pobtot\",\"geometry\" FROM {schema}.{table}\n",
    "WHERE ST_Intersects(geometry, \\'SRID=4326;{poly_wkt}\\')\n",
    "\"\"\"\n",
    "\n",
    "block_gdf = aup.gdf_from_query(query_censo)\n",
    "\n",
    "print(block_gdf.shape)\n",
    "block_gdf.head(2)"
   ]
  },
  {
   "cell_type": "markdown",
   "id": "7b57bb9e-7b27-4486-b3f7-c7a24d517f25",
   "metadata": {},
   "source": [
    "## Data treatment and preprocessing"
   ]
  },
  {
   "cell_type": "markdown",
   "id": "3f68418a-0bf2-44f5-b791-b61dd45a4b14",
   "metadata": {},
   "source": [
    "### Change CRS"
   ]
  },
  {
   "cell_type": "code",
   "execution_count": 14,
   "id": "f030cf66-daec-44bd-831a-8917f2bc622b",
   "metadata": {},
   "outputs": [],
   "source": [
    "aoa_gdf = aoa_gdf.to_crs(\"EPSG:6372\")\n",
    "denue_gdf = denue_gdf.to_crs(\"EPSG:6372\")\n",
    "block_gdf = block_gdf.to_crs(\"EPSG:6372\")"
   ]
  },
  {
   "cell_type": "markdown",
   "id": "442bb9b9-51b2-40cb-bdc6-1cfefddb4a29",
   "metadata": {},
   "source": [
    "### DENUE classification by activity"
   ]
  },
  {
   "cell_type": "markdown",
   "id": "aef70eb9-ec59-4093-b34f-bc033d26bdce",
   "metadata": {},
   "source": [
    "Clasificar las distintas actividades económicas con base en su terminación en \"codigo_act\" basándonos en el Directorio Estadístico Nacional de Unidades Económicas"
   ]
  },
  {
   "cell_type": "code",
   "execution_count": 15,
   "id": "87b05149-1bb9-4a0a-a93c-3d56dd74fd00",
   "metadata": {},
   "outputs": [],
   "source": [
    "# Función para clasificar según la terminación de codigo_act\n",
    "def asignar_tipo(codigo):\n",
    "    if pd.isna(codigo):  # Si está vacío\n",
    "        return 'Sin código'\n",
    "    \n",
    "    # Asegurar que sea string para evaluar el código\n",
    "    codigo_str = str(codigo).strip()\n",
    "\n",
    "    if not codigo_str.isdigit():\n",
    "        return 'Código inválido'\n",
    "    \n",
    "    # Define tus conjuntos de códigos\n",
    "    categorias = {\n",
    "        'agropecuario': ['11'],\n",
    "        \n",
    "        'industria': {'31', '32', '33'},\n",
    "        \n",
    "        'servicios':{'48', '49','51', '52', '53', '54',\n",
    "                     '55','56','81'},\n",
    "    \n",
    "        'alojamiento': {'72'},\n",
    "        \n",
    "        'comercio': {'43', '46'},\n",
    "        \n",
    "        'cultural_recreativo': {'71'},\n",
    "        \n",
    "        'educacion': {'61'},\n",
    "        \n",
    "        'salud': {'62'},\n",
    "    \n",
    "        'gobierno': {'93'},\n",
    "    \n",
    "        'otros': {'21','22','23'} }\n",
    "\n",
    "    for k in categorias.keys():\n",
    "        if codigo_str[:2] in categorias[k]:\n",
    "            return k\n",
    "\n",
    "# Aplica la función al DataFrame\n",
    "denue_gdf['tipo_act'] = denue_gdf['codigo_act'].apply(asignar_tipo)"
   ]
  },
  {
   "cell_type": "code",
   "execution_count": 16,
   "id": "20ee14e3-923d-44f1-91b2-05d69b4688b4",
   "metadata": {},
   "outputs": [
    {
     "data": {
      "text/html": [
       "<div>\n",
       "<style scoped>\n",
       "    .dataframe tbody tr th:only-of-type {\n",
       "        vertical-align: middle;\n",
       "    }\n",
       "\n",
       "    .dataframe tbody tr th {\n",
       "        vertical-align: top;\n",
       "    }\n",
       "\n",
       "    .dataframe thead th {\n",
       "        text-align: right;\n",
       "    }\n",
       "</style>\n",
       "<table border=\"1\" class=\"dataframe\">\n",
       "  <thead>\n",
       "    <tr style=\"text-align: right;\">\n",
       "      <th></th>\n",
       "      <th>cve_ent</th>\n",
       "      <th>cve_mun</th>\n",
       "      <th>cve_loc</th>\n",
       "      <th>ageb</th>\n",
       "      <th>manzana</th>\n",
       "      <th>codigo_act</th>\n",
       "      <th>per_ocu</th>\n",
       "      <th>geometry</th>\n",
       "      <th>tipo_act</th>\n",
       "    </tr>\n",
       "  </thead>\n",
       "  <tbody>\n",
       "    <tr>\n",
       "      <th>0</th>\n",
       "      <td>19</td>\n",
       "      <td>006</td>\n",
       "      <td>0001</td>\n",
       "      <td>0348</td>\n",
       "      <td>002</td>\n",
       "      <td>311813</td>\n",
       "      <td>0 a 5 personas</td>\n",
       "      <td>POINT (2681728.085 1519964.526)</td>\n",
       "      <td>industria</td>\n",
       "    </tr>\n",
       "    <tr>\n",
       "      <th>1</th>\n",
       "      <td>19</td>\n",
       "      <td>006</td>\n",
       "      <td>0001</td>\n",
       "      <td>0348</td>\n",
       "      <td>082</td>\n",
       "      <td>311830</td>\n",
       "      <td>0 a 5 personas</td>\n",
       "      <td>POINT (2681506.859 1519765.873)</td>\n",
       "      <td>industria</td>\n",
       "    </tr>\n",
       "    <tr>\n",
       "      <th>2</th>\n",
       "      <td>19</td>\n",
       "      <td>006</td>\n",
       "      <td>0001</td>\n",
       "      <td>0348</td>\n",
       "      <td>087</td>\n",
       "      <td>315229</td>\n",
       "      <td>0 a 5 personas</td>\n",
       "      <td>POINT (2681408.6 1519446.47)</td>\n",
       "      <td>industria</td>\n",
       "    </tr>\n",
       "  </tbody>\n",
       "</table>\n",
       "</div>"
      ],
      "text/plain": [
       "  cve_ent cve_mun cve_loc  ageb manzana codigo_act         per_ocu  \\\n",
       "0      19     006    0001  0348     002     311813  0 a 5 personas   \n",
       "1      19     006    0001  0348     082     311830  0 a 5 personas   \n",
       "2      19     006    0001  0348     087     315229  0 a 5 personas   \n",
       "\n",
       "                          geometry   tipo_act  \n",
       "0  POINT (2681728.085 1519964.526)  industria  \n",
       "1  POINT (2681506.859 1519765.873)  industria  \n",
       "2     POINT (2681408.6 1519446.47)  industria  "
      ]
     },
     "execution_count": 16,
     "metadata": {},
     "output_type": "execute_result"
    }
   ],
   "source": [
    "denue_gdf.head(3)"
   ]
  },
  {
   "cell_type": "code",
   "execution_count": 17,
   "id": "90ceaa81-fc13-4b4a-a290-15ccd56e7a59",
   "metadata": {},
   "outputs": [
    {
     "data": {
      "text/plain": [
       "array(['industria', 'comercio', 'servicios', 'educacion', 'salud',\n",
       "       'cultural_recreativo', 'alojamiento', 'gobierno', 'otros',\n",
       "       'agropecuario'], dtype=object)"
      ]
     },
     "execution_count": 17,
     "metadata": {},
     "output_type": "execute_result"
    }
   ],
   "source": [
    "denue_gdf[\"tipo_act\"].unique()"
   ]
  },
  {
   "cell_type": "code",
   "execution_count": 18,
   "id": "31a12665-8bea-4d5a-9aad-7b813d89fb3d",
   "metadata": {},
   "outputs": [
    {
     "data": {
      "text/plain": [
       "0"
      ]
     },
     "execution_count": 18,
     "metadata": {},
     "output_type": "execute_result"
    }
   ],
   "source": [
    "len(denue_gdf[denue_gdf['tipo_act'].isnull()])"
   ]
  },
  {
   "cell_type": "markdown",
   "id": "aab02123-e358-4e47-81ea-786690adc5a7",
   "metadata": {},
   "source": [
    "### DENUE occupied personel"
   ]
  },
  {
   "cell_type": "markdown",
   "id": "fd4a577d-3eec-485c-aa0c-1143ce52bc8e",
   "metadata": {},
   "source": [
    "Contabilizar cuántas personas hay ejerciendo cada actividad económica"
   ]
  },
  {
   "cell_type": "code",
   "execution_count": 19,
   "id": "6f2e42ba-ede8-423a-b256-4614b94e6e80",
   "metadata": {},
   "outputs": [],
   "source": [
    "def number_of_jobs(per_ocu):\n",
    "    jobs_dict = {'0 a 5 personas':3,\n",
    "                '6 a 10 personas':8,\n",
    "                '11 a 30 personas':20,\n",
    "                '31 a 50 personas':40,\n",
    "                '51 a 100 personas':75,\n",
    "                '101 a 250 personas':175,\n",
    "                '251 y más personas':325}\n",
    "    per_ocu_num = jobs_dict[per_ocu]\n",
    "    return per_ocu_num"
   ]
  },
  {
   "cell_type": "code",
   "execution_count": 20,
   "id": "e8f9c7c1-50c0-4dd6-9fa9-c5afc00f82fb",
   "metadata": {},
   "outputs": [
    {
     "data": {
      "text/html": [
       "<div>\n",
       "<style scoped>\n",
       "    .dataframe tbody tr th:only-of-type {\n",
       "        vertical-align: middle;\n",
       "    }\n",
       "\n",
       "    .dataframe tbody tr th {\n",
       "        vertical-align: top;\n",
       "    }\n",
       "\n",
       "    .dataframe thead th {\n",
       "        text-align: right;\n",
       "    }\n",
       "</style>\n",
       "<table border=\"1\" class=\"dataframe\">\n",
       "  <thead>\n",
       "    <tr style=\"text-align: right;\">\n",
       "      <th></th>\n",
       "      <th>cve_ent</th>\n",
       "      <th>cve_mun</th>\n",
       "      <th>cve_loc</th>\n",
       "      <th>ageb</th>\n",
       "      <th>manzana</th>\n",
       "      <th>codigo_act</th>\n",
       "      <th>per_ocu</th>\n",
       "      <th>geometry</th>\n",
       "      <th>tipo_act</th>\n",
       "      <th>per_ocu_num</th>\n",
       "    </tr>\n",
       "  </thead>\n",
       "  <tbody>\n",
       "    <tr>\n",
       "      <th>0</th>\n",
       "      <td>19</td>\n",
       "      <td>006</td>\n",
       "      <td>0001</td>\n",
       "      <td>0348</td>\n",
       "      <td>002</td>\n",
       "      <td>311813</td>\n",
       "      <td>0 a 5 personas</td>\n",
       "      <td>POINT (2681728.085 1519964.526)</td>\n",
       "      <td>industria</td>\n",
       "      <td>3</td>\n",
       "    </tr>\n",
       "    <tr>\n",
       "      <th>1</th>\n",
       "      <td>19</td>\n",
       "      <td>006</td>\n",
       "      <td>0001</td>\n",
       "      <td>0348</td>\n",
       "      <td>082</td>\n",
       "      <td>311830</td>\n",
       "      <td>0 a 5 personas</td>\n",
       "      <td>POINT (2681506.859 1519765.873)</td>\n",
       "      <td>industria</td>\n",
       "      <td>3</td>\n",
       "    </tr>\n",
       "  </tbody>\n",
       "</table>\n",
       "</div>"
      ],
      "text/plain": [
       "  cve_ent cve_mun cve_loc  ageb manzana codigo_act         per_ocu  \\\n",
       "0      19     006    0001  0348     002     311813  0 a 5 personas   \n",
       "1      19     006    0001  0348     082     311830  0 a 5 personas   \n",
       "\n",
       "                          geometry   tipo_act  per_ocu_num  \n",
       "0  POINT (2681728.085 1519964.526)  industria            3  \n",
       "1  POINT (2681506.859 1519765.873)  industria            3  "
      ]
     },
     "execution_count": 20,
     "metadata": {},
     "output_type": "execute_result"
    }
   ],
   "source": [
    "denue_gdf['per_ocu_num'] = denue_gdf.per_ocu.apply(lambda per_ocu: number_of_jobs(per_ocu))\n",
    "denue_gdf.head(2)"
   ]
  },
  {
   "cell_type": "code",
   "execution_count": 21,
   "id": "1f126c72-4fcb-4512-9f85-fddc47a14677",
   "metadata": {},
   "outputs": [
    {
     "data": {
      "text/plain": [
       "array([  3,   8, 175,  20,  40,  75, 325])"
      ]
     },
     "execution_count": 21,
     "metadata": {},
     "output_type": "execute_result"
    }
   ],
   "source": [
    "denue_gdf.per_ocu_num.unique()"
   ]
  },
  {
   "cell_type": "markdown",
   "id": "051a8c30-de10-447e-a387-e9b547a5c579",
   "metadata": {},
   "source": [
    "### DENUE to blocks"
   ]
  },
  {
   "cell_type": "markdown",
   "id": "8ca87dc8-fd63-4847-a620-35f005a31095",
   "metadata": {},
   "source": [
    "Create CVEGEO code for each DENUE"
   ]
  },
  {
   "cell_type": "code",
   "execution_count": 22,
   "id": "663f4898-25ad-46c6-8a62-ceb621ca4f95",
   "metadata": {
    "scrolled": true
   },
   "outputs": [
    {
     "name": "stdout",
     "output_type": "stream",
     "text": [
      "(15385, 11)\n"
     ]
    },
    {
     "data": {
      "text/html": [
       "<div>\n",
       "<style scoped>\n",
       "    .dataframe tbody tr th:only-of-type {\n",
       "        vertical-align: middle;\n",
       "    }\n",
       "\n",
       "    .dataframe tbody tr th {\n",
       "        vertical-align: top;\n",
       "    }\n",
       "\n",
       "    .dataframe thead th {\n",
       "        text-align: right;\n",
       "    }\n",
       "</style>\n",
       "<table border=\"1\" class=\"dataframe\">\n",
       "  <thead>\n",
       "    <tr style=\"text-align: right;\">\n",
       "      <th></th>\n",
       "      <th>cve_ent</th>\n",
       "      <th>cve_mun</th>\n",
       "      <th>cve_loc</th>\n",
       "      <th>ageb</th>\n",
       "      <th>manzana</th>\n",
       "      <th>codigo_act</th>\n",
       "      <th>per_ocu</th>\n",
       "      <th>geometry</th>\n",
       "      <th>tipo_act</th>\n",
       "      <th>per_ocu_num</th>\n",
       "      <th>cvegeo_mza</th>\n",
       "    </tr>\n",
       "  </thead>\n",
       "  <tbody>\n",
       "    <tr>\n",
       "      <th>0</th>\n",
       "      <td>19</td>\n",
       "      <td>006</td>\n",
       "      <td>0001</td>\n",
       "      <td>0348</td>\n",
       "      <td>002</td>\n",
       "      <td>311813</td>\n",
       "      <td>0 a 5 personas</td>\n",
       "      <td>POINT (2681728.085 1519964.526)</td>\n",
       "      <td>industria</td>\n",
       "      <td>3</td>\n",
       "      <td>1900600010348002</td>\n",
       "    </tr>\n",
       "    <tr>\n",
       "      <th>1</th>\n",
       "      <td>19</td>\n",
       "      <td>006</td>\n",
       "      <td>0001</td>\n",
       "      <td>0348</td>\n",
       "      <td>082</td>\n",
       "      <td>311830</td>\n",
       "      <td>0 a 5 personas</td>\n",
       "      <td>POINT (2681506.859 1519765.873)</td>\n",
       "      <td>industria</td>\n",
       "      <td>3</td>\n",
       "      <td>1900600010348082</td>\n",
       "    </tr>\n",
       "  </tbody>\n",
       "</table>\n",
       "</div>"
      ],
      "text/plain": [
       "  cve_ent cve_mun cve_loc  ageb manzana codigo_act         per_ocu  \\\n",
       "0      19     006    0001  0348     002     311813  0 a 5 personas   \n",
       "1      19     006    0001  0348     082     311830  0 a 5 personas   \n",
       "\n",
       "                          geometry   tipo_act  per_ocu_num        cvegeo_mza  \n",
       "0  POINT (2681728.085 1519964.526)  industria            3  1900600010348002  \n",
       "1  POINT (2681506.859 1519765.873)  industria            3  1900600010348082  "
      ]
     },
     "execution_count": 22,
     "metadata": {},
     "output_type": "execute_result"
    }
   ],
   "source": [
    "denue_gdf['cvegeo_mza'] = (\n",
    "    denue_gdf['cve_ent'].astype(str).str[:2] +\n",
    "    denue_gdf['cve_mun'].astype(str).str[:3] +\n",
    "    denue_gdf['cve_loc'].astype(str).str[:4] +\n",
    "    denue_gdf['ageb'].astype(str).str[:4] +\n",
    "    denue_gdf['manzana'].astype(str).str[:3]\n",
    ")\n",
    "print(denue_gdf.shape)\n",
    "denue_gdf.head(2)"
   ]
  },
  {
   "cell_type": "code",
   "execution_count": 23,
   "id": "d94fd256-6f14-4ff0-843c-615ae8c3097f",
   "metadata": {},
   "outputs": [
    {
     "data": {
      "text/plain": [
       "np.int64(16)"
      ]
     },
     "execution_count": 23,
     "metadata": {},
     "output_type": "execute_result"
    }
   ],
   "source": [
    "denue_gdf.cvegeo_mza.apply(len).min() # checks if every element has a 16 character length"
   ]
  },
  {
   "cell_type": "markdown",
   "id": "0e8e4be2-89ad-482a-8441-9a724c629662",
   "metadata": {},
   "source": [
    "Test if every DENUE is assigned to a block"
   ]
  },
  {
   "cell_type": "code",
   "execution_count": 24,
   "id": "8a57373b-a43b-456c-9a23-43467e736107",
   "metadata": {},
   "outputs": [
    {
     "data": {
      "text/plain": [
       "np.int64(0)"
      ]
     },
     "execution_count": 24,
     "metadata": {},
     "output_type": "execute_result"
    }
   ],
   "source": [
    "denue_gdf.merge(block_gdf[['cvegeo_mza','pobtot']], on='cvegeo_mza', how='inner').pobtot.isna().sum()"
   ]
  },
  {
   "cell_type": "markdown",
   "id": "7f8de599-0908-4ec8-aa59-6db9e4526857",
   "metadata": {},
   "source": [
    "### Distance from DENUE to block centroids"
   ]
  },
  {
   "cell_type": "code",
   "execution_count": 25,
   "id": "ecb25d22-9ab4-42db-9e9d-c853e2331f31",
   "metadata": {},
   "outputs": [],
   "source": [
    "# 1. Crear GeoDataFrame de manzanas con centroides únicos\n",
    "block_cnt = block_gdf.copy()\n",
    "block_cnt['cnt_geometry'] = block_cnt['geometry'].centroid"
   ]
  },
  {
   "cell_type": "code",
   "execution_count": 26,
   "id": "803c0d46-3d3b-40b0-8f2b-cd0f069cdc81",
   "metadata": {},
   "outputs": [
    {
     "name": "stdout",
     "output_type": "stream",
     "text": [
      "(15121, 12)\n"
     ]
    },
    {
     "data": {
      "text/html": [
       "<div>\n",
       "<style scoped>\n",
       "    .dataframe tbody tr th:only-of-type {\n",
       "        vertical-align: middle;\n",
       "    }\n",
       "\n",
       "    .dataframe tbody tr th {\n",
       "        vertical-align: top;\n",
       "    }\n",
       "\n",
       "    .dataframe thead th {\n",
       "        text-align: right;\n",
       "    }\n",
       "</style>\n",
       "<table border=\"1\" class=\"dataframe\">\n",
       "  <thead>\n",
       "    <tr style=\"text-align: right;\">\n",
       "      <th></th>\n",
       "      <th>cve_ent</th>\n",
       "      <th>cve_mun</th>\n",
       "      <th>cve_loc</th>\n",
       "      <th>ageb</th>\n",
       "      <th>manzana</th>\n",
       "      <th>codigo_act</th>\n",
       "      <th>per_ocu</th>\n",
       "      <th>geometry</th>\n",
       "      <th>tipo_act</th>\n",
       "      <th>per_ocu_num</th>\n",
       "      <th>cvegeo_mza</th>\n",
       "      <th>cnt_geometry</th>\n",
       "    </tr>\n",
       "  </thead>\n",
       "  <tbody>\n",
       "    <tr>\n",
       "      <th>0</th>\n",
       "      <td>19</td>\n",
       "      <td>006</td>\n",
       "      <td>0001</td>\n",
       "      <td>0348</td>\n",
       "      <td>002</td>\n",
       "      <td>311813</td>\n",
       "      <td>0 a 5 personas</td>\n",
       "      <td>POINT (2681728.085 1519964.526)</td>\n",
       "      <td>industria</td>\n",
       "      <td>3</td>\n",
       "      <td>1900600010348002</td>\n",
       "      <td>POINT (2681706.193 1519881.68)</td>\n",
       "    </tr>\n",
       "    <tr>\n",
       "      <th>1</th>\n",
       "      <td>19</td>\n",
       "      <td>006</td>\n",
       "      <td>0001</td>\n",
       "      <td>0348</td>\n",
       "      <td>082</td>\n",
       "      <td>311830</td>\n",
       "      <td>0 a 5 personas</td>\n",
       "      <td>POINT (2681506.859 1519765.873)</td>\n",
       "      <td>industria</td>\n",
       "      <td>3</td>\n",
       "      <td>1900600010348082</td>\n",
       "      <td>POINT (2681451.76 1519752.358)</td>\n",
       "    </tr>\n",
       "  </tbody>\n",
       "</table>\n",
       "</div>"
      ],
      "text/plain": [
       "  cve_ent cve_mun cve_loc  ageb manzana codigo_act         per_ocu  \\\n",
       "0      19     006    0001  0348     002     311813  0 a 5 personas   \n",
       "1      19     006    0001  0348     082     311830  0 a 5 personas   \n",
       "\n",
       "                          geometry   tipo_act  per_ocu_num        cvegeo_mza  \\\n",
       "0  POINT (2681728.085 1519964.526)  industria            3  1900600010348002   \n",
       "1  POINT (2681506.859 1519765.873)  industria            3  1900600010348082   \n",
       "\n",
       "                     cnt_geometry  \n",
       "0  POINT (2681706.193 1519881.68)  \n",
       "1  POINT (2681451.76 1519752.358)  "
      ]
     },
     "execution_count": 26,
     "metadata": {},
     "output_type": "execute_result"
    }
   ],
   "source": [
    "# 2. Merge block centroid geometry to DENUE gdf\n",
    "denue_gdf = pd.merge(\n",
    "    denue_gdf,\n",
    "    block_cnt[['cvegeo_mza', 'cnt_geometry']],\n",
    "    on=['cvegeo_mza'],\n",
    "    how='inner'\n",
    ")\n",
    "print(denue_gdf.shape)\n",
    "denue_gdf.head(2)"
   ]
  },
  {
   "cell_type": "code",
   "execution_count": 27,
   "id": "0de145e9-b314-485c-8a3b-27eb0367ef22",
   "metadata": {},
   "outputs": [],
   "source": [
    "# 3. Calcular la distancia de cada punto al centroide de su manzana\n",
    "denue_gdf['distancia'] = denue_gdf['geometry'].distance(denue_gdf['cnt_geometry'])"
   ]
  },
  {
   "cell_type": "code",
   "execution_count": 28,
   "id": "ebddc33a-4b4f-4a40-806b-7027ca0f92bb",
   "metadata": {},
   "outputs": [
    {
     "name": "stdout",
     "output_type": "stream",
     "text": [
      "(3863, 2)\n"
     ]
    },
    {
     "data": {
      "text/html": [
       "<div>\n",
       "<style scoped>\n",
       "    .dataframe tbody tr th:only-of-type {\n",
       "        vertical-align: middle;\n",
       "    }\n",
       "\n",
       "    .dataframe tbody tr th {\n",
       "        vertical-align: top;\n",
       "    }\n",
       "\n",
       "    .dataframe thead th {\n",
       "        text-align: right;\n",
       "    }\n",
       "</style>\n",
       "<table border=\"1\" class=\"dataframe\">\n",
       "  <thead>\n",
       "    <tr style=\"text-align: right;\">\n",
       "      <th></th>\n",
       "      <th>cvegeo_mza</th>\n",
       "      <th>d_mean</th>\n",
       "    </tr>\n",
       "  </thead>\n",
       "  <tbody>\n",
       "    <tr>\n",
       "      <th>0</th>\n",
       "      <td>1900600010051001</td>\n",
       "      <td>54.964183</td>\n",
       "    </tr>\n",
       "    <tr>\n",
       "      <th>1</th>\n",
       "      <td>1900600010051002</td>\n",
       "      <td>64.589154</td>\n",
       "    </tr>\n",
       "  </tbody>\n",
       "</table>\n",
       "</div>"
      ],
      "text/plain": [
       "         cvegeo_mza     d_mean\n",
       "0  1900600010051001  54.964183\n",
       "1  1900600010051002  64.589154"
      ]
     },
     "execution_count": 28,
     "metadata": {},
     "output_type": "execute_result"
    }
   ],
   "source": [
    "# 4. Calcular d_mean por manzana\n",
    "denue_to_cnt = denue_gdf.groupby(\n",
    "    ['cvegeo_mza']\n",
    ")['distancia'].mean().reset_index(name='d_mean')\n",
    "print(denue_to_cnt.shape)\n",
    "denue_to_cnt.head(2)"
   ]
  },
  {
   "cell_type": "code",
   "execution_count": 29,
   "id": "2db68f2e-a8fc-463f-bdec-7cb4156d15f0",
   "metadata": {},
   "outputs": [
    {
     "name": "stdout",
     "output_type": "stream",
     "text": [
      "(15121, 14)\n"
     ]
    },
    {
     "data": {
      "text/html": [
       "<div>\n",
       "<style scoped>\n",
       "    .dataframe tbody tr th:only-of-type {\n",
       "        vertical-align: middle;\n",
       "    }\n",
       "\n",
       "    .dataframe tbody tr th {\n",
       "        vertical-align: top;\n",
       "    }\n",
       "\n",
       "    .dataframe thead th {\n",
       "        text-align: right;\n",
       "    }\n",
       "</style>\n",
       "<table border=\"1\" class=\"dataframe\">\n",
       "  <thead>\n",
       "    <tr style=\"text-align: right;\">\n",
       "      <th></th>\n",
       "      <th>cve_ent</th>\n",
       "      <th>cve_mun</th>\n",
       "      <th>cve_loc</th>\n",
       "      <th>ageb</th>\n",
       "      <th>manzana</th>\n",
       "      <th>codigo_act</th>\n",
       "      <th>per_ocu</th>\n",
       "      <th>geometry</th>\n",
       "      <th>tipo_act</th>\n",
       "      <th>per_ocu_num</th>\n",
       "      <th>cvegeo_mza</th>\n",
       "      <th>cnt_geometry</th>\n",
       "      <th>distancia</th>\n",
       "      <th>d_mean</th>\n",
       "    </tr>\n",
       "  </thead>\n",
       "  <tbody>\n",
       "    <tr>\n",
       "      <th>0</th>\n",
       "      <td>19</td>\n",
       "      <td>006</td>\n",
       "      <td>0001</td>\n",
       "      <td>0348</td>\n",
       "      <td>002</td>\n",
       "      <td>311813</td>\n",
       "      <td>0 a 5 personas</td>\n",
       "      <td>POINT (2681728.085 1519964.526)</td>\n",
       "      <td>industria</td>\n",
       "      <td>3</td>\n",
       "      <td>1900600010348002</td>\n",
       "      <td>POINT (2681706.193 1519881.68)</td>\n",
       "      <td>85.689876</td>\n",
       "      <td>44.122786</td>\n",
       "    </tr>\n",
       "    <tr>\n",
       "      <th>1</th>\n",
       "      <td>19</td>\n",
       "      <td>006</td>\n",
       "      <td>0001</td>\n",
       "      <td>0348</td>\n",
       "      <td>082</td>\n",
       "      <td>311830</td>\n",
       "      <td>0 a 5 personas</td>\n",
       "      <td>POINT (2681506.859 1519765.873)</td>\n",
       "      <td>industria</td>\n",
       "      <td>3</td>\n",
       "      <td>1900600010348082</td>\n",
       "      <td>POINT (2681451.76 1519752.358)</td>\n",
       "      <td>56.732526</td>\n",
       "      <td>48.186616</td>\n",
       "    </tr>\n",
       "  </tbody>\n",
       "</table>\n",
       "</div>"
      ],
      "text/plain": [
       "  cve_ent cve_mun cve_loc  ageb manzana codigo_act         per_ocu  \\\n",
       "0      19     006    0001  0348     002     311813  0 a 5 personas   \n",
       "1      19     006    0001  0348     082     311830  0 a 5 personas   \n",
       "\n",
       "                          geometry   tipo_act  per_ocu_num        cvegeo_mza  \\\n",
       "0  POINT (2681728.085 1519964.526)  industria            3  1900600010348002   \n",
       "1  POINT (2681506.859 1519765.873)  industria            3  1900600010348082   \n",
       "\n",
       "                     cnt_geometry  distancia     d_mean  \n",
       "0  POINT (2681706.193 1519881.68)  85.689876  44.122786  \n",
       "1  POINT (2681451.76 1519752.358)  56.732526  48.186616  "
      ]
     },
     "execution_count": 29,
     "metadata": {},
     "output_type": "execute_result"
    }
   ],
   "source": [
    "# Add average distance to each block centroid\n",
    "denue_gdf = denue_gdf.merge(denue_to_cnt, on='cvegeo_mza')\n",
    "print(denue_gdf.shape)\n",
    "denue_gdf.head(2)"
   ]
  },
  {
   "cell_type": "code",
   "execution_count": 30,
   "id": "4348ef90-f68f-4843-b3a0-8ff24bd78d35",
   "metadata": {},
   "outputs": [
    {
     "data": {
      "text/plain": [
       "<Axes: >"
      ]
     },
     "execution_count": 30,
     "metadata": {},
     "output_type": "execute_result"
    },
    {
     "data": {
      "image/png": "[encoded data removed]",
      "text/plain": [
       "<Figure size 640x480 with 1 Axes>"
      ]
     },
     "metadata": {},
     "output_type": "display_data"
    }
   ],
   "source": [
    "denue_gdf.plot('d_mean')"
   ]
  },
  {
   "cell_type": "markdown",
   "id": "6ae96528-1948-411c-91ac-041e5797ed8b",
   "metadata": {},
   "source": [
    "## Kernel density analysis"
   ]
  },
  {
   "cell_type": "markdown",
   "id": "7618fe3c-5221-442a-844c-e368bcaa0c9d",
   "metadata": {},
   "source": [
    "#### Single block test"
   ]
  },
  {
   "cell_type": "code",
   "execution_count": 31,
   "id": "8c85e7eb-7a81-4ea2-b971-98cbc72123c0",
   "metadata": {},
   "outputs": [],
   "source": [
    "# Obtener el conteo por manzana\n",
    "conteo_por_manzana = denue_gdf.groupby('cvegeo_mza').size().reset_index(name='conteo')\n",
    "\n",
    "# Encontrar la manzana con máximo conteo\n",
    "max_row = conteo_por_manzana.loc[conteo_por_manzana['conteo'].idxmax()]\n",
    "cvegeo_max = max_row['cvegeo_mza']"
   ]
  },
  {
   "cell_type": "code",
   "execution_count": 32,
   "id": "88f73301-92c2-4e85-938c-ab32905ddb78",
   "metadata": {},
   "outputs": [
    {
     "name": "stdout",
     "output_type": "stream",
     "text": [
      "(175, 14)\n"
     ]
    },
    {
     "data": {
      "text/html": [
       "<div>\n",
       "<style scoped>\n",
       "    .dataframe tbody tr th:only-of-type {\n",
       "        vertical-align: middle;\n",
       "    }\n",
       "\n",
       "    .dataframe tbody tr th {\n",
       "        vertical-align: top;\n",
       "    }\n",
       "\n",
       "    .dataframe thead th {\n",
       "        text-align: right;\n",
       "    }\n",
       "</style>\n",
       "<table border=\"1\" class=\"dataframe\">\n",
       "  <thead>\n",
       "    <tr style=\"text-align: right;\">\n",
       "      <th></th>\n",
       "      <th>cve_ent</th>\n",
       "      <th>cve_mun</th>\n",
       "      <th>cve_loc</th>\n",
       "      <th>ageb</th>\n",
       "      <th>manzana</th>\n",
       "      <th>codigo_act</th>\n",
       "      <th>per_ocu</th>\n",
       "      <th>geometry</th>\n",
       "      <th>tipo_act</th>\n",
       "      <th>per_ocu_num</th>\n",
       "      <th>cvegeo_mza</th>\n",
       "      <th>cnt_geometry</th>\n",
       "      <th>distancia</th>\n",
       "      <th>d_mean</th>\n",
       "    </tr>\n",
       "  </thead>\n",
       "  <tbody>\n",
       "    <tr>\n",
       "      <th>0</th>\n",
       "      <td>19</td>\n",
       "      <td>006</td>\n",
       "      <td>0001</td>\n",
       "      <td>2255</td>\n",
       "      <td>001</td>\n",
       "      <td>462112</td>\n",
       "      <td>6 a 10 personas</td>\n",
       "      <td>POINT (2675878.25 1526911.451)</td>\n",
       "      <td>comercio</td>\n",
       "      <td>8</td>\n",
       "      <td>1900600012255001</td>\n",
       "      <td>POINT (2676163.718 1526949.407)</td>\n",
       "      <td>287.979736</td>\n",
       "      <td>157.430439</td>\n",
       "    </tr>\n",
       "    <tr>\n",
       "      <th>1</th>\n",
       "      <td>19</td>\n",
       "      <td>006</td>\n",
       "      <td>0001</td>\n",
       "      <td>2255</td>\n",
       "      <td>001</td>\n",
       "      <td>464121</td>\n",
       "      <td>0 a 5 personas</td>\n",
       "      <td>POINT (2675930.186 1527084.545)</td>\n",
       "      <td>comercio</td>\n",
       "      <td>3</td>\n",
       "      <td>1900600012255001</td>\n",
       "      <td>POINT (2676163.718 1526949.407)</td>\n",
       "      <td>269.814187</td>\n",
       "      <td>157.430439</td>\n",
       "    </tr>\n",
       "  </tbody>\n",
       "</table>\n",
       "</div>"
      ],
      "text/plain": [
       "  cve_ent cve_mun cve_loc  ageb manzana codigo_act          per_ocu  \\\n",
       "0      19     006    0001  2255     001     462112  6 a 10 personas   \n",
       "1      19     006    0001  2255     001     464121   0 a 5 personas   \n",
       "\n",
       "                          geometry  tipo_act  per_ocu_num        cvegeo_mza  \\\n",
       "0   POINT (2675878.25 1526911.451)  comercio            8  1900600012255001   \n",
       "1  POINT (2675930.186 1527084.545)  comercio            3  1900600012255001   \n",
       "\n",
       "                      cnt_geometry   distancia      d_mean  \n",
       "0  POINT (2676163.718 1526949.407)  287.979736  157.430439  \n",
       "1  POINT (2676163.718 1526949.407)  269.814187  157.430439  "
      ]
     },
     "execution_count": 32,
     "metadata": {},
     "output_type": "execute_result"
    }
   ],
   "source": [
    "block_test = block_gdf.loc[block_gdf.cvegeo_mza==cvegeo_max].copy()\n",
    "\n",
    "denue_test = denue_gdf.loc[denue_gdf.cvegeo_mza==cvegeo_max].copy()\n",
    "denue_test = denue_test.reset_index(drop=True)\n",
    "\n",
    "print(denue_test.shape)\n",
    "denue_test.head(2)"
   ]
  },
  {
   "cell_type": "code",
   "execution_count": 33,
   "id": "f3ad73ae-0215-46cc-be41-8006169fd4e2",
   "metadata": {},
   "outputs": [
    {
     "data": {
      "text/plain": [
       "array([  8,   3, 175,  20,  75,  40])"
      ]
     },
     "execution_count": 33,
     "metadata": {},
     "output_type": "execute_result"
    }
   ],
   "source": [
    "denue_test.per_ocu_num.unique()"
   ]
  },
  {
   "cell_type": "code",
   "execution_count": 34,
   "id": "7fef48ad-7ceb-4a41-b138-423a3a992e75",
   "metadata": {},
   "outputs": [],
   "source": [
    "# Ejecutar el KDE solo sobre esos puntos\n",
    "spatial_kernel_density(\n",
    "    points=denue_test,\n",
    "    radius = denue_test['d_mean'].mean()/2,\n",
    "    output_path=\"../../data/processed/prediccion_uso_suelo/figureskde_manzana_prueba.tif\",\n",
    "    output_pixel_size=5,\n",
    "    output_driver=\"GTiff\",\n",
    "    weight_col=\"per_ocu_num\", # Número de personas por ocupación\n",
    ")"
   ]
  },
  {
   "cell_type": "markdown",
   "id": "52b7ec06-d1f5-400e-8bf0-4c0a5f465536",
   "metadata": {},
   "source": [
    "### Iterative analysis"
   ]
  },
  {
   "cell_type": "markdown",
   "id": "258f513e-9839-479f-a402-83e52618a2bd",
   "metadata": {},
   "source": [
    "Analysis for every block and economic activity classification"
   ]
  },
  {
   "cell_type": "code",
   "execution_count": 35,
   "id": "2caf6f5f-bcdf-4a8e-9f89-aaba82831a38",
   "metadata": {},
   "outputs": [],
   "source": [
    "from joblib import Parallel, delayed\n",
    "from tqdm import tqdm"
   ]
  },
  {
   "cell_type": "markdown",
   "id": "e7829c9e-dd77-4494-87bb-612d1a38c255",
   "metadata": {},
   "source": [
    "**WARNING** Parallel processing"
   ]
  },
  {
   "cell_type": "code",
   "execution_count": 36,
   "id": "b94209ab-c402-43e8-8568-a0c2812d9206",
   "metadata": {},
   "outputs": [],
   "source": [
    "\n",
    "def process_block_activities(idx, block_gdf, denue_gdf, output_dir):\n",
    "    \"\"\"Process all activities for a single block\"\"\"\n",
    "    cvegeo_mza = block_gdf.cvegeo_mza\n",
    "    denue_block = denue_gdf.loc[denue_gdf.cvegeo_mza == cvegeo_mza].copy()\n",
    "    \n",
    "    if denue_block.empty:\n",
    "        return f\"Skipped {cvegeo_mza} - no data\"\n",
    "    \n",
    "    results = []\n",
    "    for act in denue_block.tipo_act.unique():\n",
    "        output_file = f\"{output_dir}kde_mnz_{cvegeo_mza}_{act}.tif\"\n",
    "        denue_act = denue_block.loc[denue_block.tipo_act==act].copy()\n",
    "        denue_act = denue_act.reset_index(drop=True)\n",
    "        \n",
    "        try:\n",
    "            spatial_kernel_density(\n",
    "                points=denue_act,\n",
    "                radius=(denue_block['d_mean'].mean() / 2),\n",
    "                output_path=output_file,\n",
    "                output_pixel_size=1.0,\n",
    "                output_driver=\"GTiff\",\n",
    "                weight_col=\"per_ocu_num\",\n",
    "            )\n",
    "            results.append(f\"Completed {cvegeo_mza}_{act}\")\n",
    "        except Exception as e:\n",
    "            results.append(f\"Failed {cvegeo_mza}_{act}: {str(e)}\")\n",
    "    \n",
    "    return results\n"
   ]
  },
  {
   "cell_type": "code",
   "execution_count": 37,
   "id": "2cb2aaf7-f5c8-4626-9cac-15d1644a3f69",
   "metadata": {},
   "outputs": [
    {
     "name": "stderr",
     "output_type": "stream",
     "text": [
      "Preparing tasks: 0it [00:00, ?it/s][Parallel(n_jobs=16)]: Using backend LokyBackend with 16 concurrent workers.\n",
      "Preparing tasks: 48it [00:00, 54.22it/s][Parallel(n_jobs=16)]: Done  18 tasks      | elapsed:    0.9s\n",
      "Preparing tasks: 192it [00:03, 41.24it/s][Parallel(n_jobs=16)]: Done 168 tasks      | elapsed:    4.1s\n",
      "Preparing tasks: 448it [00:09, 49.33it/s][Parallel(n_jobs=16)]: Done 418 tasks      | elapsed:    9.3s\n",
      "Preparing tasks: 784it [00:16, 50.14it/s][Parallel(n_jobs=16)]: Done 768 tasks      | elapsed:   16.8s\n",
      "Preparing tasks: 1248it [00:27, 32.43it/s][Parallel(n_jobs=16)]: Done 1218 tasks      | elapsed:   27.6s\n",
      "Preparing tasks: 1792it [00:39, 48.79it/s][Parallel(n_jobs=16)]: Done 1768 tasks      | elapsed:   39.7s\n",
      "Preparing tasks: 2448it [01:01, 37.11it/s][Parallel(n_jobs=16)]: Done 2418 tasks      | elapsed:  1.0min\n",
      "Preparing tasks: 3184it [01:26, 33.92it/s][Parallel(n_jobs=16)]: Done 3168 tasks      | elapsed:  1.4min\n",
      "Preparing tasks: 4048it [01:59,  5.67it/s][Parallel(n_jobs=16)]: Done 4018 tasks      | elapsed:  2.0min\n",
      "Preparing tasks: 4992it [02:41,  8.16it/s][Parallel(n_jobs=16)]: Done 4968 tasks      | elapsed:  2.7min\n",
      "Preparing tasks: 6048it [03:32, 23.74it/s][Parallel(n_jobs=16)]: Done 6018 tasks      | elapsed:  3.5min\n",
      "Preparing tasks: 7184it [04:12, 33.26it/s][Parallel(n_jobs=16)]: Done 7168 tasks      | elapsed:  4.2min\n",
      "Preparing tasks: 7306it [04:15, 28.56it/s]\n"
     ]
    },
    {
     "name": "stdout",
     "output_type": "stream",
     "text": [
      "Processing complete!\n"
     ]
    },
    {
     "name": "stderr",
     "output_type": "stream",
     "text": [
      "[Parallel(n_jobs=16)]: Done 7306 out of 7306 | elapsed:  7.5min finished\n"
     ]
    }
   ],
   "source": [
    "# Execute in parallel\n",
    "output_dir = '../../data/processed/prediccion_uso_suelo/complete_model/kde_output/'\n",
    "\n",
    "results = Parallel(n_jobs=16, verbose=1)(\n",
    "    delayed(process_block_activities)(idx, manzana, denue_gdf, output_dir)\n",
    "    for idx, manzana in tqdm(block_gdf.iterrows(), desc=\"Preparing tasks\")\n",
    ")\n",
    "\n",
    "print(\"Processing complete!\")"
   ]
  },
  {
   "cell_type": "markdown",
   "id": "2b01f27d-07d7-4e40-b526-d8272973f2be",
   "metadata": {},
   "source": [
    "Single process"
   ]
  },
  {
   "cell_type": "code",
   "execution_count": null,
   "id": "ede5e6e0-f1d8-45d2-a10e-e4d2a082a691",
   "metadata": {
    "scrolled": true
   },
   "outputs": [],
   "source": [
    "output_dir = '../../data/processed/prediccion_uso_suelo/kde_output/'\n",
    "\n",
    "for idx, manzana in tqdm(block_gdf.iterrows(), total=len(block_gdf), desc=\"Processing blocks\"):\n",
    "    \n",
    "    # Filtrar puntos DENUE dentro de la manzana y con la actividad deseada\n",
    "    cvegeo_mza = block_gdf.loc[idx].cvegeo_mza\n",
    "    denue_block = denue_gdf.loc[denue_gdf.cvegeo_mza == cvegeo_mza].copy()\n",
    "\n",
    "    # Saltar si no hay puntos que cumplan ambos criterios\n",
    "    if denue_block.empty:\n",
    "        continue\n",
    "\n",
    "    # Nombre de salida con ID y nombre de actividad\n",
    "    for act in denue_block.tipo_act.unique():\n",
    "        output_file = f\"{output_dir}kde_mnz_{cvegeo_mza}_{act}.tif\"\n",
    "        denue_act = denue_block.loc[denue_block.tipo_act==act].copy()\n",
    "        denue_act = denue_act.reset_index(drop=True)\n",
    "\n",
    "    \n",
    "        # Ejecutar el KDE\n",
    "        spatial_kernel_density(\n",
    "            points=denue_act,\n",
    "            radius = (denue_block['d_mean'].mean() / 2),\n",
    "            output_path=output_file,\n",
    "            output_pixel_size=1.0,\n",
    "            output_driver=\"GTiff\",\n",
    "            weight_col=\"per_ocu_num\",\n",
    "        )\n"
   ]
  },
  {
   "cell_type": "code",
   "execution_count": null,
   "id": "1c6a3b02-8c64-4763-87f4-e85570f4d56b",
   "metadata": {},
   "outputs": [],
   "source": []
  }
 ],
 "metadata": {
  "kernelspec": {
   "display_name": "Python 3 (ipykernel)",
   "language": "python",
   "name": "python3"
  },
  "language_info": {
   "codemirror_mode": {
    "name": "ipython",
    "version": 3
   },
   "file_extension": ".py",
   "mimetype": "text/x-python",
   "name": "python",
   "nbconvert_exporter": "python",
   "pygments_lexer": "ipython3",
   "version": "3.11.11"
  }
 },
 "nbformat": 4,
 "nbformat_minor": 5
}
