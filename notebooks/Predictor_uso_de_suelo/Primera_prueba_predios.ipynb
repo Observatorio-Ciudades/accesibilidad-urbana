{
 "cells": [
  {
   "cell_type": "code",
   "execution_count": 1,
   "id": "9eef3581-e663-485d-b197-b58e378245c4",
   "metadata": {},
   "outputs": [],
   "source": [
    "import geopandas as gpd\n",
    "import pandas as pd\n",
    "import numpy as np\n",
    "import seaborn as sns\n",
    "import matplotlib.pyplot as plt\n",
    "\n",
    "import warnings\n",
    "warnings.simplefilter(action='ignore', category=FutureWarning)\n",
    "\n",
    "import os\n",
    "import sys\n",
    "module_path = os.path.abspath(os.path.join('../../'))\n",
    "if module_path not in sys.path:\n",
    "    sys.path.append(module_path)\n",
    "    import aup"
   ]
  },
  {
   "cell_type": "markdown",
   "id": "271e9cdb-5c65-4240-8c40-569ee1f054d8",
   "metadata": {},
   "source": [
    "## Downloading the info"
   ]
  },
  {
   "cell_type": "markdown",
   "id": "c7d089e8-300e-4230-9963-10cad34076cb",
   "metadata": {},
   "source": [
    "#### USOS_ZONAS_6_7"
   ]
  },
  {
   "cell_type": "code",
   "execution_count": 2,
   "id": "1bf134d6-4f41-4407-8b3b-75af3fa109eb",
   "metadata": {},
   "outputs": [],
   "source": [
    "USOS_ZONA_7 = gpd.read_file(\"USOS_ZONA_7.shp\")\n",
    "USOS_ZONA_6 = gpd.read_file(\"USOS_ZONA_6.shp\")"
   ]
  },
  {
   "cell_type": "code",
   "execution_count": 5,
   "id": "40f9fbf1-9119-4291-a17c-afe93cef8e86",
   "metadata": {},
   "outputs": [
    {
     "data": {
      "text/plain": [
       "Index(['gid', 'id', 'distrito', 'shape_leng', 'shape_area', 'UNuso',\n",
       "       'geometry'],\n",
       "      dtype='object')"
      ]
     },
     "execution_count": 5,
     "metadata": {},
     "output_type": "execute_result"
    }
   ],
   "source": [
    "USOS_ZONA_7.columns"
   ]
  },
  {
   "cell_type": "markdown",
   "id": "d46422a2-3c20-4ac8-9e0e-1ed3c1769652",
   "metadata": {},
   "source": [
    "#### DENUE"
   ]
  },
  {
   "cell_type": "code",
   "execution_count": 4,
   "id": "2bba49e4-a019-48ae-9c39-68341e68df36",
   "metadata": {},
   "outputs": [
    {
     "name": "stdout",
     "output_type": "stream",
     "text": [
      "(5528698, 10)\n"
     ]
    },
    {
     "data": {
      "text/html": [
       "<div>\n",
       "<style scoped>\n",
       "    .dataframe tbody tr th:only-of-type {\n",
       "        vertical-align: middle;\n",
       "    }\n",
       "\n",
       "    .dataframe tbody tr th {\n",
       "        vertical-align: top;\n",
       "    }\n",
       "\n",
       "    .dataframe thead th {\n",
       "        text-align: right;\n",
       "    }\n",
       "</style>\n",
       "<table border=\"1\" class=\"dataframe\">\n",
       "  <thead>\n",
       "    <tr style=\"text-align: right;\">\n",
       "      <th></th>\n",
       "      <th>manzana</th>\n",
       "      <th>municipio</th>\n",
       "      <th>id</th>\n",
       "      <th>latitud</th>\n",
       "      <th>longitud</th>\n",
       "      <th>tipoCenCom</th>\n",
       "      <th>edificio</th>\n",
       "      <th>edificio_e</th>\n",
       "      <th>nom_CenCom</th>\n",
       "      <th>geometry</th>\n",
       "    </tr>\n",
       "  </thead>\n",
       "  <tbody>\n",
       "    <tr>\n",
       "      <th>0</th>\n",
       "      <td>056</td>\n",
       "      <td>Aguascalientes</td>\n",
       "      <td>18016</td>\n",
       "      <td>21.901488</td>\n",
       "      <td>-102.289962</td>\n",
       "      <td>None</td>\n",
       "      <td>None</td>\n",
       "      <td>None</td>\n",
       "      <td>None</td>\n",
       "      <td>POINT (-102.28996 21.90149)</td>\n",
       "    </tr>\n",
       "    <tr>\n",
       "      <th>1</th>\n",
       "      <td>030</td>\n",
       "      <td>Jesús María</td>\n",
       "      <td>49318</td>\n",
       "      <td>21.992029</td>\n",
       "      <td>-102.288802</td>\n",
       "      <td>None</td>\n",
       "      <td>None</td>\n",
       "      <td>None</td>\n",
       "      <td>None</td>\n",
       "      <td>POINT (-102.28880 21.99203)</td>\n",
       "    </tr>\n",
       "  </tbody>\n",
       "</table>\n",
       "</div>"
      ],
      "text/plain": [
       "  manzana       municipio     id    latitud    longitud tipoCenCom edificio  \\\n",
       "0     056  Aguascalientes  18016  21.901488 -102.289962       None     None   \n",
       "1     030     Jesús María  49318  21.992029 -102.288802       None     None   \n",
       "\n",
       "  edificio_e nom_CenCom                     geometry  \n",
       "0       None       None  POINT (-102.28996 21.90149)  \n",
       "1       None       None  POINT (-102.28880 21.99203)  "
      ]
     },
     "execution_count": 4,
     "metadata": {},
     "output_type": "execute_result"
    }
   ],
   "source": [
    "schema = \"denue\"\n",
    "table = \"denue_2022\"\n",
    "\n",
    "manzana = \"manzana\"\n",
    "municipio = \"municipio\"\n",
    "id = \"id\"\n",
    "latitud = \"latitud\"\n",
    "longitud = \"longitud\"\n",
    "tipoCenCom = \"tipoCenCom\"\n",
    "edificio = \"edificio\"\n",
    "edificio_e = \"edificio_e\"\n",
    "nom_CenCom = \"nom_CenCom\"\n",
    "\n",
    "query_censo = f\"\"\"\n",
    "SELECT \n",
    "  \"{manzana}\",\n",
    "  \"{municipio}\",\n",
    "  \"{id}\",\n",
    "  \"{latitud}\",\n",
    "  \"{longitud}\",\n",
    "  \"{tipoCenCom}\",\n",
    "  \"{edificio}\",\n",
    "  \"{edificio_e}\",\n",
    "  \"{nom_CenCom}\",\n",
    "  \"geometry\"\n",
    "FROM {schema}.{table}\"\"\"\n",
    "\n",
    "Denue = aup.gdf_from_query(query_censo, geometry_col='geometry')\n",
    "print(Denue.shape)\n",
    "Denue.head(2)"
   ]
  },
  {
   "cell_type": "code",
   "execution_count": 4,
   "id": "877fec56-ece2-40df-8cb9-f61c3f1249a7",
   "metadata": {},
   "outputs": [
    {
     "data": {
      "text/plain": [
       "Index(['manzana', 'municipio', 'id', 'latitud', 'longitud', 'tipoCenCom',\n",
       "       'edificio', 'edificio_e', 'nom_CenCom', 'geometry'],\n",
       "      dtype='object')"
      ]
     },
     "execution_count": 4,
     "metadata": {},
     "output_type": "execute_result"
    }
   ],
   "source": [
    "Denue.columns"
   ]
  },
  {
   "cell_type": "code",
   "execution_count": 5,
   "id": "5c1ce5ab-1a13-450f-b332-5d1408ed2306",
   "metadata": {},
   "outputs": [
    {
     "data": {
      "text/plain": [
       "manzana             0\n",
       "municipio           0\n",
       "id                  0\n",
       "latitud             0\n",
       "longitud            0\n",
       "tipoCenCom    5115339\n",
       "edificio      5094025\n",
       "edificio_e    5082311\n",
       "nom_CenCom    5115452\n",
       "geometry            0\n",
       "dtype: int64"
      ]
     },
     "execution_count": 5,
     "metadata": {},
     "output_type": "execute_result"
    }
   ],
   "source": [
    "Denue.isna().sum()"
   ]
  },
  {
   "cell_type": "code",
   "execution_count": 4,
   "id": "0ab28efa-979c-4263-8b19-3f898fc7aea5",
   "metadata": {},
   "outputs": [
    {
     "data": {
      "text/plain": [
       "array([None, 'CENTRO Y PLAZA COMERCIAL', 'OTRO CONGLOMERADO',\n",
       "       'HOSPITAL, CENTRO MEDICO O CLIN', 'EDIFICIO COMERCIAL Y DE SERVIC',\n",
       "       'CENTRAL DE ABASTO', 'MERCADO PUBLICO', 'PARQUE INDUSTRIAL',\n",
       "       'CIUDAD INDUSTRIAL', 'AEROPUERTO', 'TIANGUIS, BAZAR O PULGA',\n",
       "       'PASAJE Y ANDADOR COMERCIAL', 'CORREDOR INDUSTRIAL',\n",
       "       'PARQUE RECREATIVO', 'CENTRAL CAMIONERA', 'ZONA INDUSTRIAL',\n",
       "       'EDIFICIO HABITACIONAL Y MIXTO', 'CORREDORES TURÍSTICOS',\n",
       "       'ESCUELAS', 'HOTELES', 'OTROS CONJUNTOS COMERCIALES'], dtype=object)"
      ]
     },
     "execution_count": 4,
     "metadata": {},
     "output_type": "execute_result"
    }
   ],
   "source": [
    "Denue[\"tipoCenCom\"].unique()"
   ]
  },
  {
   "cell_type": "code",
   "execution_count": 11,
   "id": "bc1c901e-ca59-45d7-b4e7-ad428901c0f2",
   "metadata": {},
   "outputs": [
    {
     "data": {
      "text/plain": [
       "array([None, 'TORRE PLAZA BOSQUES', 'DEL VALLE DE AGUASCALIENTES', ...,\n",
       "       'SERVICIO LUFER', 'CIUDAD ADMINISTRATIVO', 'RECAUDACION DE RENTAS'],\n",
       "      dtype=object)"
      ]
     },
     "execution_count": 11,
     "metadata": {},
     "output_type": "execute_result"
    }
   ],
   "source": [
    "Denue[\"nom_CenCom\"].unique()"
   ]
  },
  {
   "cell_type": "markdown",
   "id": "3d7b82ca-4864-4a0a-98ce-3149f60277fd",
   "metadata": {},
   "source": [
    "#### BUILDINGS"
   ]
  },
  {
   "cell_type": "code",
   "execution_count": null,
   "id": "1187e8b8-47a7-40c2-98cf-2b672114a682",
   "metadata": {},
   "outputs": [],
   "source": [
    "import gzip ## No temgo RAM Suficiente.\n",
    "\n",
    "with gzip.open(\"843_buildings.csv.gz\", 'rt') as f:\n",
    "    df = pd.read_csv(f)\n",
    "\n",
    "df.head(3)"
   ]
  },
  {
   "cell_type": "markdown",
   "id": "3b95abfb-3ad2-4e5b-8626-6954e4f11ede",
   "metadata": {},
   "source": [
    "### Pruebas de conteo de actividades "
   ]
  },
  {
   "cell_type": "code",
   "execution_count": 5,
   "id": "113aea78-87f5-46f3-aa5c-d92e940a7e25",
   "metadata": {},
   "outputs": [
    {
     "data": {
      "text/html": [
       "<div>\n",
       "<style scoped>\n",
       "    .dataframe tbody tr th:only-of-type {\n",
       "        vertical-align: middle;\n",
       "    }\n",
       "\n",
       "    .dataframe tbody tr th {\n",
       "        vertical-align: top;\n",
       "    }\n",
       "\n",
       "    .dataframe thead th {\n",
       "        text-align: right;\n",
       "    }\n",
       "</style>\n",
       "<table border=\"1\" class=\"dataframe\">\n",
       "  <thead>\n",
       "    <tr style=\"text-align: right;\">\n",
       "      <th></th>\n",
       "      <th>manzana</th>\n",
       "      <th>tipoCenCom</th>\n",
       "    </tr>\n",
       "  </thead>\n",
       "  <tbody>\n",
       "    <tr>\n",
       "      <th>0</th>\n",
       "      <td>001</td>\n",
       "      <td>MERCADO PUBLICO</td>\n",
       "    </tr>\n",
       "    <tr>\n",
       "      <th>1</th>\n",
       "      <td>002</td>\n",
       "      <td>MERCADO PUBLICO</td>\n",
       "    </tr>\n",
       "    <tr>\n",
       "      <th>2</th>\n",
       "      <td>003</td>\n",
       "      <td>MERCADO PUBLICO</td>\n",
       "    </tr>\n",
       "    <tr>\n",
       "      <th>3</th>\n",
       "      <td>004</td>\n",
       "      <td>MERCADO PUBLICO</td>\n",
       "    </tr>\n",
       "    <tr>\n",
       "      <th>4</th>\n",
       "      <td>005</td>\n",
       "      <td>MERCADO PUBLICO</td>\n",
       "    </tr>\n",
       "  </tbody>\n",
       "</table>\n",
       "</div>"
      ],
      "text/plain": [
       "  manzana       tipoCenCom\n",
       "0     001  MERCADO PUBLICO\n",
       "1     002  MERCADO PUBLICO\n",
       "2     003  MERCADO PUBLICO\n",
       "3     004  MERCADO PUBLICO\n",
       "4     005  MERCADO PUBLICO"
      ]
     },
     "execution_count": 5,
     "metadata": {},
     "output_type": "execute_result"
    }
   ],
   "source": [
    "# Función para obtener el tipoCenCom más común, manejando vacíos\n",
    "def tipoCenCom_predominante(x):\n",
    "    if x.dropna().empty:\n",
    "        return None  # O puedes poner 'Sin datos', 'Desconocido', etc.\n",
    "    else:\n",
    "        return x.value_counts().idxmax()\n",
    "\n",
    "# Ahora agrupamos usando la función segura\n",
    "grupo_manzana = Denue.groupby('manzana')['tipoCenCom'] \\\n",
    "    .agg(tipoCenCom_predominante) \\\n",
    "    .reset_index()\n",
    "\n",
    "grupo_manzana.head()"
   ]
  },
  {
   "cell_type": "code",
   "execution_count": 6,
   "id": "33afeb6f-a1f2-4580-bf01-812e1ca3c7fe",
   "metadata": {},
   "outputs": [
    {
     "name": "stdout",
     "output_type": "stream",
     "text": [
      "Manzanas con datos de tipoCenCom: 136 de 314\n"
     ]
    }
   ],
   "source": [
    "# Cuántas manzanas tienen al menos un tipoCenCom no nulo\n",
    "manzanas_con_datos = Denue.dropna(subset=['tipoCenCom'])['manzana'].nunique()\n",
    "\n",
    "# Cuántas manzanas en total\n",
    "total_manzanas = Denue['manzana'].nunique()\n",
    "\n",
    "print(f\"Manzanas con datos de tipoCenCom: {manzanas_con_datos} de {total_manzanas}\")"
   ]
  },
  {
   "cell_type": "code",
   "execution_count": 7,
   "id": "c646bbf6-5526-48a4-a102-2c5882aa6150",
   "metadata": {},
   "outputs": [
    {
     "name": "stdout",
     "output_type": "stream",
     "text": [
      "EPSG:32613\n",
      "epsg:4326\n"
     ]
    }
   ],
   "source": [
    "# Ver qué sistema de refrencia tiene cada uno:\n",
    "print(USOS_ZONA_7.crs) \n",
    "print(Denue.crs)"
   ]
  },
  {
   "cell_type": "code",
   "execution_count": null,
   "id": "bc00cb38-4fce-4199-9b05-3399e85a4a36",
   "metadata": {},
   "outputs": [],
   "source": [
    "Denue = Denue.to_crs(USOS_ZONA_7.crs) # Reproyectar"
   ]
  },
  {
   "cell_type": "code",
   "execution_count": null,
   "id": "87b8ef86-165d-4cfb-8657-6ca07c026eac",
   "metadata": {},
   "outputs": [],
   "source": [
    "# Join espacial de Denue (puntos) dentro de USOS_ZONA_7 (polígonos)\n",
    "interseccion_7 = gpd.sjoin(Denue, USOS_ZONA_7, how='left', predicate='within')\n",
    "\n",
    "interseccion_7.head(3)"
   ]
  }
 ],
 "metadata": {
  "kernelspec": {
   "display_name": "GDS-10.0",
   "language": "python",
   "name": "gds"
  },
  "language_info": {
   "codemirror_mode": {
    "name": "ipython",
    "version": 3
   },
   "file_extension": ".py",
   "mimetype": "text/x-python",
   "name": "python",
   "nbconvert_exporter": "python",
   "pygments_lexer": "ipython3",
   "version": "3.9.18"
  }
 },
 "nbformat": 4,
 "nbformat_minor": 5
}
