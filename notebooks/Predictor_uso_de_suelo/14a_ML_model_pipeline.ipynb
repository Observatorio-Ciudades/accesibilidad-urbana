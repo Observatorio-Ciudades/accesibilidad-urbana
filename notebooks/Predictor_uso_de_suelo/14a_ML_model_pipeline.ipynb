{
 "cells": [
  {
   "cell_type": "markdown",
   "id": "72c6c7a5-86d6-4770-807b-b3686944267c",
   "metadata": {},
   "source": [
    "# Landuse machine learning model -test-"
   ]
  },
  {
   "cell_type": "markdown",
   "id": "b6b25ea6-6203-41bf-ad5a-02b83d15cf19",
   "metadata": {},
   "source": [
    "This notebook integrates the first steps towards the development of a machine learning model for urban landuse prediction."
   ]
  },
  {
   "cell_type": "markdown",
   "id": "89a9447c-5c11-4cb4-9dac-f54cab2d7fe9",
   "metadata": {},
   "source": [
    "## Import libraries"
   ]
  },
  {
   "cell_type": "code",
   "execution_count": 1,
   "id": "4bfed30a-cc4c-467d-8775-eab5f4395250",
   "metadata": {
    "scrolled": true
   },
   "outputs": [
    {
     "name": "stderr",
     "output_type": "stream",
     "text": [
      "2025-07-29 16:27:42.286040: I tensorflow/core/util/port.cc:153] oneDNN custom operations are on. You may see slightly different numerical results due to floating-point round-off errors from different computation orders. To turn them off, set the environment variable `TF_ENABLE_ONEDNN_OPTS=0`.\n",
      "2025-07-29 16:27:42.341109: E external/local_xla/xla/stream_executor/cuda/cuda_fft.cc:467] Unable to register cuFFT factory: Attempting to register factory for plugin cuFFT when one has already been registered\n",
      "WARNING: All log messages before absl::InitializeLog() is called are written to STDERR\n",
      "E0000 00:00:1753828062.371190    9608 cuda_dnn.cc:8579] Unable to register cuDNN factory: Attempting to register factory for plugin cuDNN when one has already been registered\n",
      "E0000 00:00:1753828062.379183    9608 cuda_blas.cc:1407] Unable to register cuBLAS factory: Attempting to register factory for plugin cuBLAS when one has already been registered\n",
      "W0000 00:00:1753828062.422798    9608 computation_placer.cc:177] computation placer already registered. Please check linkage and avoid linking the same target more than once.\n",
      "W0000 00:00:1753828062.422815    9608 computation_placer.cc:177] computation placer already registered. Please check linkage and avoid linking the same target more than once.\n",
      "W0000 00:00:1753828062.422816    9608 computation_placer.cc:177] computation placer already registered. Please check linkage and avoid linking the same target more than once.\n",
      "W0000 00:00:1753828062.422817    9608 computation_placer.cc:177] computation placer already registered. Please check linkage and avoid linking the same target more than once.\n",
      "2025-07-29 16:27:42.426215: I tensorflow/core/platform/cpu_feature_guard.cc:210] This TensorFlow binary is optimized to use available CPU instructions in performance-critical operations.\n",
      "To enable the following instructions: AVX2 AVX512F AVX512_VNNI AVX512_BF16 AVX_VNNI FMA, in other operations, rebuild TensorFlow with the appropriate compiler flags.\n"
     ]
    }
   ],
   "source": [
    "import geopandas as gpd\n",
    "import pandas as pd\n",
    "import numpy as np\n",
    "\n",
    "import matplotlib.pyplot as plt\n",
    "import seaborn as sns\n",
    "import scipy\n",
    "\n",
    "import aup\n",
    "\n",
    "from sklearn.model_selection import train_test_split\n",
    "from sklearn.preprocessing import StandardScaler\n",
    "from imblearn.over_sampling import SMOTE\n",
    "from sklearn.decomposition import PCA\n",
    "\n",
    "\n",
    "\n",
    "from keras import utils                                   # tools for creating one-hot encoding\n",
    "from keras.models import Sequential                       # Type of model we wish to use\n",
    "from keras.layers import Dense, Dropout, Activation  \n",
    "from sklearn.preprocessing import LabelEncoder\n",
    "# from scikeras.wrappers import KerasClassifier, KerasRegressor\n",
    "from keras import utils  \n",
    "from sklearn.model_selection import cross_val_score\n",
    "from sklearn.model_selection import KFold\n",
    "from sklearn.preprocessing import LabelEncoder\n",
    "# from sklearn.pipeline import Pipeline\n",
    "\n",
    "from sklearn.metrics import r2_score, mean_squared_error, mean_absolute_error,confusion_matrix"
   ]
  },
  {
   "cell_type": "markdown",
   "id": "e7a8c8ea-516f-4b4f-8df5-f17a8f17e6ec",
   "metadata": {},
   "source": [
    "## Data for model training"
   ]
  },
  {
   "cell_type": "code",
   "execution_count": 2,
   "id": "bbef554c-59c0-4fba-b604-82ad1d0274c9",
   "metadata": {},
   "outputs": [
    {
     "name": "stdout",
     "output_type": "stream",
     "text": [
      "(680000, 53)\n"
     ]
    },
    {
     "data": {
      "text/html": [
       "<div>\n",
       "<style scoped>\n",
       "    .dataframe tbody tr th:only-of-type {\n",
       "        vertical-align: middle;\n",
       "    }\n",
       "\n",
       "    .dataframe tbody tr th {\n",
       "        vertical-align: top;\n",
       "    }\n",
       "\n",
       "    .dataframe thead th {\n",
       "        text-align: right;\n",
       "    }\n",
       "</style>\n",
       "<table border=\"1\" class=\"dataframe\">\n",
       "  <thead>\n",
       "    <tr style=\"text-align: right;\">\n",
       "      <th></th>\n",
       "      <th>uso_suelo</th>\n",
       "      <th>area_m2</th>\n",
       "      <th>full_plus_code</th>\n",
       "      <th>CVEGEO</th>\n",
       "      <th>bld_area_m2</th>\n",
       "      <th>block_area_m2</th>\n",
       "      <th>pred_area_m2</th>\n",
       "      <th>pred_area_pct</th>\n",
       "      <th>bld_pred_area_pct</th>\n",
       "      <th>pobtot</th>\n",
       "      <th>...</th>\n",
       "      <th>denue_primaria_15min</th>\n",
       "      <th>denue_abarrotes</th>\n",
       "      <th>denue_abarrotes_15min</th>\n",
       "      <th>denue_peluqueria</th>\n",
       "      <th>denue_peluqueria_15min</th>\n",
       "      <th>denue_lavanderia</th>\n",
       "      <th>denue_lavanderia_15min</th>\n",
       "      <th>clues_primer_nivel</th>\n",
       "      <th>clues_primer_nivel_15min</th>\n",
       "      <th>geometry</th>\n",
       "    </tr>\n",
       "  </thead>\n",
       "  <tbody>\n",
       "    <tr>\n",
       "      <th>0</th>\n",
       "      <td>Sin dato</td>\n",
       "      <td>67.279056</td>\n",
       "      <td>75GRMGQW+89PG</td>\n",
       "      <td>1412000011206018</td>\n",
       "      <td>12.438638</td>\n",
       "      <td>278416.454431</td>\n",
       "      <td>67.279056</td>\n",
       "      <td>0.000242</td>\n",
       "      <td>0.184881</td>\n",
       "      <td>0</td>\n",
       "      <td>...</td>\n",
       "      <td>0.688413</td>\n",
       "      <td>11.817491</td>\n",
       "      <td>3.199180</td>\n",
       "      <td>12.878340</td>\n",
       "      <td>3.440951</td>\n",
       "      <td>13.706626</td>\n",
       "      <td>1.476592</td>\n",
       "      <td>18.913284</td>\n",
       "      <td>0.358167</td>\n",
       "      <td>MULTIPOLYGON (((2349152.724 965335.704, 234914...</td>\n",
       "    </tr>\n",
       "    <tr>\n",
       "      <th>1</th>\n",
       "      <td>Sin dato</td>\n",
       "      <td>45.355545</td>\n",
       "      <td>75GRMGQW+8CFP</td>\n",
       "      <td>1412000011206018</td>\n",
       "      <td>4.482118</td>\n",
       "      <td>278416.454431</td>\n",
       "      <td>45.355545</td>\n",
       "      <td>0.000163</td>\n",
       "      <td>0.098822</td>\n",
       "      <td>0</td>\n",
       "      <td>...</td>\n",
       "      <td>0.890523</td>\n",
       "      <td>11.070963</td>\n",
       "      <td>3.913038</td>\n",
       "      <td>12.435124</td>\n",
       "      <td>4.003971</td>\n",
       "      <td>13.505759</td>\n",
       "      <td>1.676774</td>\n",
       "      <td>16.916017</td>\n",
       "      <td>0.468920</td>\n",
       "      <td>MULTIPOLYGON (((2349168.91 965335.176, 2349157...</td>\n",
       "    </tr>\n",
       "  </tbody>\n",
       "</table>\n",
       "<p>2 rows × 53 columns</p>\n",
       "</div>"
      ],
      "text/plain": [
       "  uso_suelo    area_m2 full_plus_code            CVEGEO  bld_area_m2  \\\n",
       "0  Sin dato  67.279056  75GRMGQW+89PG  1412000011206018    12.438638   \n",
       "1  Sin dato  45.355545  75GRMGQW+8CFP  1412000011206018     4.482118   \n",
       "\n",
       "   block_area_m2  pred_area_m2  pred_area_pct  bld_pred_area_pct  pobtot  ...  \\\n",
       "0  278416.454431     67.279056       0.000242           0.184881       0  ...   \n",
       "1  278416.454431     45.355545       0.000163           0.098822       0  ...   \n",
       "\n",
       "   denue_primaria_15min  denue_abarrotes  denue_abarrotes_15min  \\\n",
       "0              0.688413        11.817491               3.199180   \n",
       "1              0.890523        11.070963               3.913038   \n",
       "\n",
       "   denue_peluqueria  denue_peluqueria_15min  denue_lavanderia  \\\n",
       "0         12.878340                3.440951         13.706626   \n",
       "1         12.435124                4.003971         13.505759   \n",
       "\n",
       "   denue_lavanderia_15min  clues_primer_nivel  clues_primer_nivel_15min  \\\n",
       "0                1.476592           18.913284                  0.358167   \n",
       "1                1.676774           16.916017                  0.468920   \n",
       "\n",
       "                                            geometry  \n",
       "0  MULTIPOLYGON (((2349152.724 965335.704, 234914...  \n",
       "1  MULTIPOLYGON (((2349168.91 965335.176, 2349157...  \n",
       "\n",
       "[2 rows x 53 columns]"
      ]
     },
     "execution_count": 2,
     "metadata": {},
     "output_type": "execute_result"
    }
   ],
   "source": [
    "gdf = gpd.read_file('../../data/processed/prediccion_uso_suelo/complete_model/area_of_prediction_prox.gpkg')\n",
    "print(gdf.shape)\n",
    "gdf.head(2)"
   ]
  },
  {
   "cell_type": "code",
   "execution_count": 3,
   "id": "a0845b46-a724-422c-b86b-b7afa89e6cb1",
   "metadata": {},
   "outputs": [],
   "source": [
    "if 'fid' not in gdf.columns:\n",
    "    gdf = gdf.reset_index().rename(columns={'index':'fid'})"
   ]
  },
  {
   "cell_type": "code",
   "execution_count": 4,
   "id": "e6ba8d67-9bb4-4ebc-819b-98b4161becef",
   "metadata": {},
   "outputs": [
    {
     "data": {
      "text/plain": [
       "Index(['fid', 'uso_suelo', 'area_m2', 'full_plus_code', 'CVEGEO',\n",
       "       'bld_area_m2', 'block_area_m2', 'pred_area_m2', 'pred_area_pct',\n",
       "       'bld_pred_area_pct', 'pobtot', 'agropecuario', 'industria', 'servicios',\n",
       "       'alojamiento', 'comercio', 'cultural_recreativo', 'educacion', 'salud',\n",
       "       'gobierno', 'otros', 'area_m2_tot', 'habitacional', 'uso_tot',\n",
       "       'pct_agropecuario', 'pct_industria', 'pct_servicios', 'pct_alojamiento',\n",
       "       'pct_comercio', 'pct_cultural_recreativo', 'pct_educacion', 'pct_salud',\n",
       "       'pct_gobierno', 'pct_otros', 'temperature_mean_diff', 'ndvi_mean',\n",
       "       'ndmi_diff', 'motorway_distance', 'primary_distance',\n",
       "       'secondary_distance', 'tertiary_distance', 'residential_distance',\n",
       "       'other_distance', 'denue_primaria', 'denue_primaria_15min',\n",
       "       'denue_abarrotes', 'denue_abarrotes_15min', 'denue_peluqueria',\n",
       "       'denue_peluqueria_15min', 'denue_lavanderia', 'denue_lavanderia_15min',\n",
       "       'clues_primer_nivel', 'clues_primer_nivel_15min', 'geometry'],\n",
       "      dtype='object')"
      ]
     },
     "execution_count": 4,
     "metadata": {},
     "output_type": "execute_result"
    }
   ],
   "source": [
    "gdf.columns"
   ]
  },
  {
   "cell_type": "markdown",
   "id": "4c867dd3-eed8-4f39-894f-08dbc0f11266",
   "metadata": {},
   "source": [
    "## Machine learning model"
   ]
  },
  {
   "cell_type": "markdown",
   "id": "46e56e8a-cf6a-4903-b377-3d533ee14f36",
   "metadata": {},
   "source": [
    "### Data preprocessing"
   ]
  },
  {
   "cell_type": "markdown",
   "id": "404fffb4-0dae-4a6d-b803-8a59e8d6f38a",
   "metadata": {},
   "source": [
    "Divide X and Y data"
   ]
  },
  {
   "cell_type": "code",
   "execution_count": 5,
   "id": "fa4380e9-357d-4e00-9769-40c8c0cebc41",
   "metadata": {},
   "outputs": [],
   "source": [
    "X = gdf[['bld_area_m2', 'block_area_m2', 'pred_area_m2', 'pred_area_pct',\n",
    "       'bld_pred_area_pct','area_m2_tot',\n",
    "        'pobtot', 'agropecuario', 'industria', 'servicios',\n",
    "       'alojamiento', 'comercio', 'cultural_recreativo', 'educacion', 'salud',\n",
    "       'gobierno', 'otros',  'habitacional', \n",
    "        'uso_tot',\n",
    "       'pct_agropecuario', 'pct_industria', 'pct_servicios', 'pct_alojamiento',\n",
    "       'pct_comercio', 'pct_cultural_recreativo', 'pct_educacion', 'pct_salud',\n",
    "       'pct_gobierno', 'pct_otros', \n",
    "        'temperature_mean_diff', 'ndvi_mean',\n",
    "       'ndmi_diff', \n",
    "        'motorway_distance', 'primary_distance',\n",
    "       'secondary_distance', 'tertiary_distance', 'residential_distance',\n",
    "       'other_distance', \n",
    "        'denue_primaria', 'denue_primaria_15min',\n",
    "       'denue_abarrotes', 'denue_abarrotes_15min', 'denue_peluqueria',\n",
    "       'denue_peluqueria_15min', 'denue_lavanderia', 'denue_lavanderia_15min',\n",
    "       'clues_primer_nivel', 'clues_primer_nivel_15min'\n",
    "    ]].to_numpy()\n",
    "\n",
    "Y = gdf[['uso_suelo']].to_numpy()\n",
    "Y = np.reshape(Y, shape=(Y.shape[0],))"
   ]
  },
  {
   "cell_type": "markdown",
   "id": "df1e46b8-1eaa-44d7-900c-2a6f768a90b5",
   "metadata": {},
   "source": [
    "Standarize and encode data"
   ]
  },
  {
   "cell_type": "code",
   "execution_count": 6,
   "id": "3f06d04f-a832-4c05-9a08-9f0e616b444f",
   "metadata": {},
   "outputs": [],
   "source": [
    "scaler = StandardScaler()\n",
    "X_scaled = scaler.fit_transform(X)\n",
    "\n",
    "encoder = LabelEncoder()\n",
    "encoder.fit(Y)\n",
    "encoded_Y = encoder.transform(Y)"
   ]
  },
  {
   "cell_type": "markdown",
   "id": "9dbfb3d4-6910-46c5-99cf-4dbbf5e88c9b",
   "metadata": {},
   "source": [
    "Divide training, validation and testing data"
   ]
  },
  {
   "cell_type": "code",
   "execution_count": 7,
   "id": "f9797b9d-ac16-4aaa-8ea3-c3091ea21ee8",
   "metadata": {},
   "outputs": [],
   "source": [
    "X_model, X_test, y_model, y_test = (train_test_split(X_scaled, encoded_Y, test_size=0.2, random_state=0))"
   ]
  },
  {
   "cell_type": "code",
   "execution_count": 8,
   "id": "3cc9fb5c-b1c7-4ff5-8b03-911be6b6945c",
   "metadata": {},
   "outputs": [],
   "source": [
    "smote = SMOTE()  \n",
    "X_resampled, y_resampled = smote.fit_resample(X_model, y_model)  "
   ]
  },
  {
   "cell_type": "code",
   "execution_count": 14,
   "id": "47bccdc0-6859-416f-951f-96474f6877e5",
   "metadata": {},
   "outputs": [],
   "source": [
    "# X_train, X_val, y_train, y_val = (train_test_split(X_resampled, y_resampled, test_size=0.2, random_state=0))\n",
    "X_train, X_val, y_train, y_val = (train_test_split(X_model, y_model, test_size=0.2, random_state=0))"
   ]
  },
  {
   "cell_type": "markdown",
   "id": "2c7831e0-c32a-43d9-8d12-48376bbaa159",
   "metadata": {},
   "source": [
    "Y data to categorical"
   ]
  },
  {
   "cell_type": "code",
   "execution_count": 15,
   "id": "1096d345-b301-4f9b-9f9c-f0c03151b510",
   "metadata": {},
   "outputs": [],
   "source": [
    "# encode class values as integers\n",
    "num_classes = len(gdf.uso_suelo.unique())\n",
    "\n",
    "# convert integers to dummy variables (i.e. one hot encoded)\n",
    "y_train = utils.to_categorical(y_train, num_classes)\n",
    "\n",
    "# convert integers to dummy variables (i.e. one hot encoded)\n",
    "y_val = utils.to_categorical(y_val, num_classes)\n",
    "\n",
    "# convert integers to dummy variables (i.e. one hot encoded)\n",
    "y_test = utils.to_categorical(y_test, num_classes)"
   ]
  },
  {
   "cell_type": "markdown",
   "id": "cf34f006-a5f2-40f7-84b5-6fe5fa00a520",
   "metadata": {},
   "source": [
    "### Model construction -- Classification Neural network"
   ]
  },
  {
   "cell_type": "markdown",
   "id": "fe8bf42a-4c24-4006-8e96-4c27a480a4ba",
   "metadata": {},
   "source": [
    "Model parameters"
   ]
  },
  {
   "cell_type": "code",
   "execution_count": 16,
   "id": "9993a00b-b33e-4a12-b5d9-b2452f27f248",
   "metadata": {},
   "outputs": [],
   "source": [
    "input_shape = (X_train.shape[1],)"
   ]
  },
  {
   "cell_type": "code",
   "execution_count": 17,
   "id": "043870aa-55dc-4e8d-a224-3d949b3a0a30",
   "metadata": {},
   "outputs": [
    {
     "data": {
      "text/html": [
       "<pre style=\"white-space:pre;overflow-x:auto;line-height:normal;font-family:Menlo,'DejaVu Sans Mono',consolas,'Courier New',monospace\"><span style=\"font-weight: bold\">Model: \"sequential_1\"</span>\n",
       "</pre>\n"
      ],
      "text/plain": [
       "\u001b[1mModel: \"sequential_1\"\u001b[0m\n"
      ]
     },
     "metadata": {},
     "output_type": "display_data"
    },
    {
     "data": {
      "text/html": [
       "<pre style=\"white-space:pre;overflow-x:auto;line-height:normal;font-family:Menlo,'DejaVu Sans Mono',consolas,'Courier New',monospace\">┏━━━━━━━━━━━━━━━━━━━━━━━━━━━━━━━━━┳━━━━━━━━━━━━━━━━━━━━━━━━┳━━━━━━━━━━━━━━━┓\n",
       "┃<span style=\"font-weight: bold\"> Layer (type)                    </span>┃<span style=\"font-weight: bold\"> Output Shape           </span>┃<span style=\"font-weight: bold\">       Param # </span>┃\n",
       "┡━━━━━━━━━━━━━━━━━━━━━━━━━━━━━━━━━╇━━━━━━━━━━━━━━━━━━━━━━━━╇━━━━━━━━━━━━━━━┩\n",
       "│ dense_3 (<span style=\"color: #0087ff; text-decoration-color: #0087ff\">Dense</span>)                 │ (<span style=\"color: #00d7ff; text-decoration-color: #00d7ff\">None</span>, <span style=\"color: #00af00; text-decoration-color: #00af00\">64</span>)             │         <span style=\"color: #00af00; text-decoration-color: #00af00\">3,136</span> │\n",
       "├─────────────────────────────────┼────────────────────────┼───────────────┤\n",
       "│ activation_3 (<span style=\"color: #0087ff; text-decoration-color: #0087ff\">Activation</span>)       │ (<span style=\"color: #00d7ff; text-decoration-color: #00d7ff\">None</span>, <span style=\"color: #00af00; text-decoration-color: #00af00\">64</span>)             │             <span style=\"color: #00af00; text-decoration-color: #00af00\">0</span> │\n",
       "├─────────────────────────────────┼────────────────────────┼───────────────┤\n",
       "│ dropout_2 (<span style=\"color: #0087ff; text-decoration-color: #0087ff\">Dropout</span>)             │ (<span style=\"color: #00d7ff; text-decoration-color: #00d7ff\">None</span>, <span style=\"color: #00af00; text-decoration-color: #00af00\">64</span>)             │             <span style=\"color: #00af00; text-decoration-color: #00af00\">0</span> │\n",
       "├─────────────────────────────────┼────────────────────────┼───────────────┤\n",
       "│ dense_4 (<span style=\"color: #0087ff; text-decoration-color: #0087ff\">Dense</span>)                 │ (<span style=\"color: #00d7ff; text-decoration-color: #00d7ff\">None</span>, <span style=\"color: #00af00; text-decoration-color: #00af00\">64</span>)             │         <span style=\"color: #00af00; text-decoration-color: #00af00\">4,160</span> │\n",
       "├─────────────────────────────────┼────────────────────────┼───────────────┤\n",
       "│ activation_4 (<span style=\"color: #0087ff; text-decoration-color: #0087ff\">Activation</span>)       │ (<span style=\"color: #00d7ff; text-decoration-color: #00d7ff\">None</span>, <span style=\"color: #00af00; text-decoration-color: #00af00\">64</span>)             │             <span style=\"color: #00af00; text-decoration-color: #00af00\">0</span> │\n",
       "├─────────────────────────────────┼────────────────────────┼───────────────┤\n",
       "│ dropout_3 (<span style=\"color: #0087ff; text-decoration-color: #0087ff\">Dropout</span>)             │ (<span style=\"color: #00d7ff; text-decoration-color: #00d7ff\">None</span>, <span style=\"color: #00af00; text-decoration-color: #00af00\">64</span>)             │             <span style=\"color: #00af00; text-decoration-color: #00af00\">0</span> │\n",
       "├─────────────────────────────────┼────────────────────────┼───────────────┤\n",
       "│ dense_5 (<span style=\"color: #0087ff; text-decoration-color: #0087ff\">Dense</span>)                 │ (<span style=\"color: #00d7ff; text-decoration-color: #00d7ff\">None</span>, <span style=\"color: #00af00; text-decoration-color: #00af00\">15</span>)             │           <span style=\"color: #00af00; text-decoration-color: #00af00\">975</span> │\n",
       "├─────────────────────────────────┼────────────────────────┼───────────────┤\n",
       "│ activation_5 (<span style=\"color: #0087ff; text-decoration-color: #0087ff\">Activation</span>)       │ (<span style=\"color: #00d7ff; text-decoration-color: #00d7ff\">None</span>, <span style=\"color: #00af00; text-decoration-color: #00af00\">15</span>)             │             <span style=\"color: #00af00; text-decoration-color: #00af00\">0</span> │\n",
       "└─────────────────────────────────┴────────────────────────┴───────────────┘\n",
       "</pre>\n"
      ],
      "text/plain": [
       "┏━━━━━━━━━━━━━━━━━━━━━━━━━━━━━━━━━┳━━━━━━━━━━━━━━━━━━━━━━━━┳━━━━━━━━━━━━━━━┓\n",
       "┃\u001b[1m \u001b[0m\u001b[1mLayer (type)                   \u001b[0m\u001b[1m \u001b[0m┃\u001b[1m \u001b[0m\u001b[1mOutput Shape          \u001b[0m\u001b[1m \u001b[0m┃\u001b[1m \u001b[0m\u001b[1m      Param #\u001b[0m\u001b[1m \u001b[0m┃\n",
       "┡━━━━━━━━━━━━━━━━━━━━━━━━━━━━━━━━━╇━━━━━━━━━━━━━━━━━━━━━━━━╇━━━━━━━━━━━━━━━┩\n",
       "│ dense_3 (\u001b[38;5;33mDense\u001b[0m)                 │ (\u001b[38;5;45mNone\u001b[0m, \u001b[38;5;34m64\u001b[0m)             │         \u001b[38;5;34m3,136\u001b[0m │\n",
       "├─────────────────────────────────┼────────────────────────┼───────────────┤\n",
       "│ activation_3 (\u001b[38;5;33mActivation\u001b[0m)       │ (\u001b[38;5;45mNone\u001b[0m, \u001b[38;5;34m64\u001b[0m)             │             \u001b[38;5;34m0\u001b[0m │\n",
       "├─────────────────────────────────┼────────────────────────┼───────────────┤\n",
       "│ dropout_2 (\u001b[38;5;33mDropout\u001b[0m)             │ (\u001b[38;5;45mNone\u001b[0m, \u001b[38;5;34m64\u001b[0m)             │             \u001b[38;5;34m0\u001b[0m │\n",
       "├─────────────────────────────────┼────────────────────────┼───────────────┤\n",
       "│ dense_4 (\u001b[38;5;33mDense\u001b[0m)                 │ (\u001b[38;5;45mNone\u001b[0m, \u001b[38;5;34m64\u001b[0m)             │         \u001b[38;5;34m4,160\u001b[0m │\n",
       "├─────────────────────────────────┼────────────────────────┼───────────────┤\n",
       "│ activation_4 (\u001b[38;5;33mActivation\u001b[0m)       │ (\u001b[38;5;45mNone\u001b[0m, \u001b[38;5;34m64\u001b[0m)             │             \u001b[38;5;34m0\u001b[0m │\n",
       "├─────────────────────────────────┼────────────────────────┼───────────────┤\n",
       "│ dropout_3 (\u001b[38;5;33mDropout\u001b[0m)             │ (\u001b[38;5;45mNone\u001b[0m, \u001b[38;5;34m64\u001b[0m)             │             \u001b[38;5;34m0\u001b[0m │\n",
       "├─────────────────────────────────┼────────────────────────┼───────────────┤\n",
       "│ dense_5 (\u001b[38;5;33mDense\u001b[0m)                 │ (\u001b[38;5;45mNone\u001b[0m, \u001b[38;5;34m15\u001b[0m)             │           \u001b[38;5;34m975\u001b[0m │\n",
       "├─────────────────────────────────┼────────────────────────┼───────────────┤\n",
       "│ activation_5 (\u001b[38;5;33mActivation\u001b[0m)       │ (\u001b[38;5;45mNone\u001b[0m, \u001b[38;5;34m15\u001b[0m)             │             \u001b[38;5;34m0\u001b[0m │\n",
       "└─────────────────────────────────┴────────────────────────┴───────────────┘\n"
      ]
     },
     "metadata": {},
     "output_type": "display_data"
    },
    {
     "data": {
      "text/html": [
       "<pre style=\"white-space:pre;overflow-x:auto;line-height:normal;font-family:Menlo,'DejaVu Sans Mono',consolas,'Courier New',monospace\"><span style=\"font-weight: bold\"> Total params: </span><span style=\"color: #00af00; text-decoration-color: #00af00\">8,271</span> (32.31 KB)\n",
       "</pre>\n"
      ],
      "text/plain": [
       "\u001b[1m Total params: \u001b[0m\u001b[38;5;34m8,271\u001b[0m (32.31 KB)\n"
      ]
     },
     "metadata": {},
     "output_type": "display_data"
    },
    {
     "data": {
      "text/html": [
       "<pre style=\"white-space:pre;overflow-x:auto;line-height:normal;font-family:Menlo,'DejaVu Sans Mono',consolas,'Courier New',monospace\"><span style=\"font-weight: bold\"> Trainable params: </span><span style=\"color: #00af00; text-decoration-color: #00af00\">8,271</span> (32.31 KB)\n",
       "</pre>\n"
      ],
      "text/plain": [
       "\u001b[1m Trainable params: \u001b[0m\u001b[38;5;34m8,271\u001b[0m (32.31 KB)\n"
      ]
     },
     "metadata": {},
     "output_type": "display_data"
    },
    {
     "data": {
      "text/html": [
       "<pre style=\"white-space:pre;overflow-x:auto;line-height:normal;font-family:Menlo,'DejaVu Sans Mono',consolas,'Courier New',monospace\"><span style=\"font-weight: bold\"> Non-trainable params: </span><span style=\"color: #00af00; text-decoration-color: #00af00\">0</span> (0.00 B)\n",
       "</pre>\n"
      ],
      "text/plain": [
       "\u001b[1m Non-trainable params: \u001b[0m\u001b[38;5;34m0\u001b[0m (0.00 B)\n"
      ]
     },
     "metadata": {},
     "output_type": "display_data"
    },
    {
     "name": "stdout",
     "output_type": "stream",
     "text": [
      "None\n"
     ]
    }
   ],
   "source": [
    "### Construct Keras model\n",
    "\n",
    "# A sequential model is a linear stack of layers\n",
    "model = Sequential()\n",
    "\n",
    "# First layer: fully-connected with relu activation\n",
    "model.add(Dense(64, input_shape=input_shape))\n",
    "model.add(Activation('relu'))\n",
    "model.add(Dropout(0.25))\n",
    "\n",
    "# Second layer: fully-connected with relu activation\n",
    "model.add(Dense(64))   # Input shape is determined automatically from previous layer\n",
    "model.add(Activation('relu'))\n",
    "model.add(Dropout(0.25))\n",
    "\n",
    "# Third layer: 10 nodes, one for each class, and softmax activation\n",
    "model.add(Dense(num_classes))\n",
    "model.add(Activation('softmax'))\n",
    "\n",
    "# Configure the model's training settings\n",
    "model.compile(loss='categorical_crossentropy', optimizer='adam', metrics=['acc'])\n",
    "\n",
    "# Print out model summary\n",
    "print(model.summary())\n",
    "    "
   ]
  },
  {
   "cell_type": "markdown",
   "id": "4c26e080-97a6-4cba-9f4d-0819e4d63d2b",
   "metadata": {},
   "source": [
    "Model training"
   ]
  },
  {
   "cell_type": "code",
   "execution_count": 18,
   "id": "99d97ff7-8e43-4e5a-b07c-c86c87af4ddc",
   "metadata": {
    "scrolled": true
   },
   "outputs": [
    {
     "name": "stdout",
     "output_type": "stream",
     "text": [
      "Epoch 1/200\n",
      "\u001b[1m13600/13600\u001b[0m \u001b[32m━━━━━━━━━━━━━━━━━━━━\u001b[0m\u001b[37m\u001b[0m \u001b[1m9s\u001b[0m 596us/step - acc: 0.7474 - loss: 0.9262 - val_acc: 0.7690 - val_loss: 0.7799\n",
      "Epoch 2/200\n",
      "\u001b[1m13600/13600\u001b[0m \u001b[32m━━━━━━━━━━━━━━━━━━━━\u001b[0m\u001b[37m\u001b[0m \u001b[1m8s\u001b[0m 561us/step - acc: 0.7634 - loss: 0.8094 - val_acc: 0.7716 - val_loss: 0.7643\n",
      "Epoch 3/200\n",
      "\u001b[1m13600/13600\u001b[0m \u001b[32m━━━━━━━━━━━━━━━━━━━━\u001b[0m\u001b[37m\u001b[0m \u001b[1m8s\u001b[0m 569us/step - acc: 0.7670 - loss: 0.7951 - val_acc: 0.7729 - val_loss: 0.7572\n",
      "Epoch 4/200\n",
      "\u001b[1m13600/13600\u001b[0m \u001b[32m━━━━━━━━━━━━━━━━━━━━\u001b[0m\u001b[37m\u001b[0m \u001b[1m8s\u001b[0m 583us/step - acc: 0.7662 - loss: 0.7887 - val_acc: 0.7754 - val_loss: 0.7496\n",
      "Epoch 5/200\n",
      "\u001b[1m13600/13600\u001b[0m \u001b[32m━━━━━━━━━━━━━━━━━━━━\u001b[0m\u001b[37m\u001b[0m \u001b[1m8s\u001b[0m 575us/step - acc: 0.7683 - loss: 0.7846 - val_acc: 0.7761 - val_loss: 0.7456\n",
      "Epoch 6/200\n",
      "\u001b[1m13600/13600\u001b[0m \u001b[32m━━━━━━━━━━━━━━━━━━━━\u001b[0m\u001b[37m\u001b[0m \u001b[1m8s\u001b[0m 575us/step - acc: 0.7678 - loss: 0.7837 - val_acc: 0.7766 - val_loss: 0.7433\n",
      "Epoch 7/200\n",
      "\u001b[1m13600/13600\u001b[0m \u001b[32m━━━━━━━━━━━━━━━━━━━━\u001b[0m\u001b[37m\u001b[0m \u001b[1m8s\u001b[0m 591us/step - acc: 0.7682 - loss: 0.7817 - val_acc: 0.7785 - val_loss: 0.7378\n",
      "Epoch 8/200\n",
      "\u001b[1m13600/13600\u001b[0m \u001b[32m━━━━━━━━━━━━━━━━━━━━\u001b[0m\u001b[37m\u001b[0m \u001b[1m8s\u001b[0m 574us/step - acc: 0.7699 - loss: 0.7762 - val_acc: 0.7765 - val_loss: 0.7396\n",
      "Epoch 9/200\n",
      "\u001b[1m13600/13600\u001b[0m \u001b[32m━━━━━━━━━━━━━━━━━━━━\u001b[0m\u001b[37m\u001b[0m \u001b[1m8s\u001b[0m 605us/step - acc: 0.7689 - loss: 0.7768 - val_acc: 0.7769 - val_loss: 0.7412\n",
      "Epoch 10/200\n",
      "\u001b[1m13600/13600\u001b[0m \u001b[32m━━━━━━━━━━━━━━━━━━━━\u001b[0m\u001b[37m\u001b[0m \u001b[1m8s\u001b[0m 588us/step - acc: 0.7708 - loss: 0.7728 - val_acc: 0.7777 - val_loss: 0.7381\n",
      "Epoch 11/200\n",
      "\u001b[1m13600/13600\u001b[0m \u001b[32m━━━━━━━━━━━━━━━━━━━━\u001b[0m\u001b[37m\u001b[0m \u001b[1m8s\u001b[0m 585us/step - acc: 0.7704 - loss: 0.7736 - val_acc: 0.7791 - val_loss: 0.7352\n",
      "Epoch 12/200\n",
      "\u001b[1m13600/13600\u001b[0m \u001b[32m━━━━━━━━━━━━━━━━━━━━\u001b[0m\u001b[37m\u001b[0m \u001b[1m8s\u001b[0m 585us/step - acc: 0.7701 - loss: 0.7726 - val_acc: 0.7801 - val_loss: 0.7333\n",
      "Epoch 13/200\n",
      "\u001b[1m13600/13600\u001b[0m \u001b[32m━━━━━━━━━━━━━━━━━━━━\u001b[0m\u001b[37m\u001b[0m \u001b[1m8s\u001b[0m 574us/step - acc: 0.7704 - loss: 0.7739 - val_acc: 0.7793 - val_loss: 0.7344\n",
      "Epoch 14/200\n",
      "\u001b[1m13600/13600\u001b[0m \u001b[32m━━━━━━━━━━━━━━━━━━━━\u001b[0m\u001b[37m\u001b[0m \u001b[1m8s\u001b[0m 594us/step - acc: 0.7709 - loss: 0.7713 - val_acc: 0.7801 - val_loss: 0.7319\n",
      "Epoch 15/200\n",
      "\u001b[1m13600/13600\u001b[0m \u001b[32m━━━━━━━━━━━━━━━━━━━━\u001b[0m\u001b[37m\u001b[0m \u001b[1m8s\u001b[0m 597us/step - acc: 0.7721 - loss: 0.7696 - val_acc: 0.7791 - val_loss: 0.7340\n",
      "Epoch 16/200\n",
      "\u001b[1m13600/13600\u001b[0m \u001b[32m━━━━━━━━━━━━━━━━━━━━\u001b[0m\u001b[37m\u001b[0m \u001b[1m8s\u001b[0m 598us/step - acc: 0.7710 - loss: 0.7713 - val_acc: 0.7796 - val_loss: 0.7306\n",
      "Epoch 17/200\n",
      "\u001b[1m13600/13600\u001b[0m \u001b[32m━━━━━━━━━━━━━━━━━━━━\u001b[0m\u001b[37m\u001b[0m \u001b[1m8s\u001b[0m 580us/step - acc: 0.7708 - loss: 0.7707 - val_acc: 0.7796 - val_loss: 0.7306\n",
      "Epoch 18/200\n",
      "\u001b[1m13600/13600\u001b[0m \u001b[32m━━━━━━━━━━━━━━━━━━━━\u001b[0m\u001b[37m\u001b[0m \u001b[1m8s\u001b[0m 557us/step - acc: 0.7709 - loss: 0.7696 - val_acc: 0.7805 - val_loss: 0.7275\n",
      "Epoch 19/200\n",
      "\u001b[1m13600/13600\u001b[0m \u001b[32m━━━━━━━━━━━━━━━━━━━━\u001b[0m\u001b[37m\u001b[0m \u001b[1m8s\u001b[0m 565us/step - acc: 0.7700 - loss: 0.7700 - val_acc: 0.7797 - val_loss: 0.7288\n",
      "Epoch 20/200\n",
      "\u001b[1m13600/13600\u001b[0m \u001b[32m━━━━━━━━━━━━━━━━━━━━\u001b[0m\u001b[37m\u001b[0m \u001b[1m8s\u001b[0m 571us/step - acc: 0.7709 - loss: 0.7704 - val_acc: 0.7791 - val_loss: 0.7320\n",
      "Epoch 21/200\n",
      "\u001b[1m13600/13600\u001b[0m \u001b[32m━━━━━━━━━━━━━━━━━━━━\u001b[0m\u001b[37m\u001b[0m \u001b[1m8s\u001b[0m 570us/step - acc: 0.7716 - loss: 0.7683 - val_acc: 0.7788 - val_loss: 0.7305\n",
      "Epoch 22/200\n",
      "\u001b[1m13600/13600\u001b[0m \u001b[32m━━━━━━━━━━━━━━━━━━━━\u001b[0m\u001b[37m\u001b[0m \u001b[1m8s\u001b[0m 570us/step - acc: 0.7694 - loss: 0.7719 - val_acc: 0.7805 - val_loss: 0.7273\n",
      "Epoch 23/200\n",
      "\u001b[1m13600/13600\u001b[0m \u001b[32m━━━━━━━━━━━━━━━━━━━━\u001b[0m\u001b[37m\u001b[0m \u001b[1m8s\u001b[0m 572us/step - acc: 0.7716 - loss: 0.7699 - val_acc: 0.7811 - val_loss: 0.7248\n",
      "Epoch 24/200\n",
      "\u001b[1m13600/13600\u001b[0m \u001b[32m━━━━━━━━━━━━━━━━━━━━\u001b[0m\u001b[37m\u001b[0m \u001b[1m8s\u001b[0m 571us/step - acc: 0.7714 - loss: 0.7672 - val_acc: 0.7808 - val_loss: 0.7279\n",
      "Epoch 25/200\n",
      "\u001b[1m13600/13600\u001b[0m \u001b[32m━━━━━━━━━━━━━━━━━━━━\u001b[0m\u001b[37m\u001b[0m \u001b[1m8s\u001b[0m 579us/step - acc: 0.7708 - loss: 0.7697 - val_acc: 0.7812 - val_loss: 0.7273\n",
      "Epoch 26/200\n",
      "\u001b[1m13600/13600\u001b[0m \u001b[32m━━━━━━━━━━━━━━━━━━━━\u001b[0m\u001b[37m\u001b[0m \u001b[1m8s\u001b[0m 568us/step - acc: 0.7725 - loss: 0.7643 - val_acc: 0.7809 - val_loss: 0.7306\n",
      "Epoch 27/200\n",
      "\u001b[1m13600/13600\u001b[0m \u001b[32m━━━━━━━━━━━━━━━━━━━━\u001b[0m\u001b[37m\u001b[0m \u001b[1m8s\u001b[0m 568us/step - acc: 0.7716 - loss: 0.7683 - val_acc: 0.7799 - val_loss: 0.7272\n",
      "Epoch 28/200\n",
      "\u001b[1m13600/13600\u001b[0m \u001b[32m━━━━━━━━━━━━━━━━━━━━\u001b[0m\u001b[37m\u001b[0m \u001b[1m8s\u001b[0m 576us/step - acc: 0.7713 - loss: 0.7679 - val_acc: 0.7787 - val_loss: 0.7296\n",
      "Epoch 29/200\n",
      "\u001b[1m13600/13600\u001b[0m \u001b[32m━━━━━━━━━━━━━━━━━━━━\u001b[0m\u001b[37m\u001b[0m \u001b[1m8s\u001b[0m 581us/step - acc: 0.7721 - loss: 0.7683 - val_acc: 0.7784 - val_loss: 0.7280\n",
      "Epoch 30/200\n",
      "\u001b[1m13600/13600\u001b[0m \u001b[32m━━━━━━━━━━━━━━━━━━━━\u001b[0m\u001b[37m\u001b[0m \u001b[1m8s\u001b[0m 572us/step - acc: 0.7719 - loss: 0.7648 - val_acc: 0.7791 - val_loss: 0.7283\n",
      "Epoch 31/200\n",
      "\u001b[1m13600/13600\u001b[0m \u001b[32m━━━━━━━━━━━━━━━━━━━━\u001b[0m\u001b[37m\u001b[0m \u001b[1m8s\u001b[0m 571us/step - acc: 0.7716 - loss: 0.7684 - val_acc: 0.7807 - val_loss: 0.7251\n",
      "Epoch 32/200\n",
      "\u001b[1m13600/13600\u001b[0m \u001b[32m━━━━━━━━━━━━━━━━━━━━\u001b[0m\u001b[37m\u001b[0m \u001b[1m8s\u001b[0m 570us/step - acc: 0.7712 - loss: 0.7678 - val_acc: 0.7799 - val_loss: 0.7291\n",
      "Epoch 33/200\n",
      "\u001b[1m13600/13600\u001b[0m \u001b[32m━━━━━━━━━━━━━━━━━━━━\u001b[0m\u001b[37m\u001b[0m \u001b[1m8s\u001b[0m 567us/step - acc: 0.7724 - loss: 0.7650 - val_acc: 0.7799 - val_loss: 0.7260\n",
      "Epoch 34/200\n",
      "\u001b[1m13600/13600\u001b[0m \u001b[32m━━━━━━━━━━━━━━━━━━━━\u001b[0m\u001b[37m\u001b[0m \u001b[1m8s\u001b[0m 560us/step - acc: 0.7725 - loss: 0.7689 - val_acc: 0.7795 - val_loss: 0.7277\n",
      "Epoch 35/200\n",
      "\u001b[1m13600/13600\u001b[0m \u001b[32m━━━━━━━━━━━━━━━━━━━━\u001b[0m\u001b[37m\u001b[0m \u001b[1m8s\u001b[0m 575us/step - acc: 0.7707 - loss: 0.7713 - val_acc: 0.7803 - val_loss: 0.7259\n",
      "Epoch 36/200\n",
      "\u001b[1m13600/13600\u001b[0m \u001b[32m━━━━━━━━━━━━━━━━━━━━\u001b[0m\u001b[37m\u001b[0m \u001b[1m8s\u001b[0m 575us/step - acc: 0.7721 - loss: 0.7670 - val_acc: 0.7822 - val_loss: 0.7254\n",
      "Epoch 37/200\n",
      "\u001b[1m13600/13600\u001b[0m \u001b[32m━━━━━━━━━━━━━━━━━━━━\u001b[0m\u001b[37m\u001b[0m \u001b[1m8s\u001b[0m 554us/step - acc: 0.7716 - loss: 0.7673 - val_acc: 0.7803 - val_loss: 0.7252\n",
      "Epoch 38/200\n",
      "\u001b[1m13600/13600\u001b[0m \u001b[32m━━━━━━━━━━━━━━━━━━━━\u001b[0m\u001b[37m\u001b[0m \u001b[1m8s\u001b[0m 562us/step - acc: 0.7723 - loss: 0.7654 - val_acc: 0.7806 - val_loss: 0.7255\n",
      "Epoch 39/200\n",
      "\u001b[1m13600/13600\u001b[0m \u001b[32m━━━━━━━━━━━━━━━━━━━━\u001b[0m\u001b[37m\u001b[0m \u001b[1m8s\u001b[0m 559us/step - acc: 0.7722 - loss: 0.7659 - val_acc: 0.7787 - val_loss: 0.7291\n",
      "Epoch 40/200\n",
      "\u001b[1m13600/13600\u001b[0m \u001b[32m━━━━━━━━━━━━━━━━━━━━\u001b[0m\u001b[37m\u001b[0m \u001b[1m8s\u001b[0m 557us/step - acc: 0.7726 - loss: 0.7656 - val_acc: 0.7810 - val_loss: 0.7246\n",
      "Epoch 41/200\n",
      "\u001b[1m13600/13600\u001b[0m \u001b[32m━━━━━━━━━━━━━━━━━━━━\u001b[0m\u001b[37m\u001b[0m \u001b[1m8s\u001b[0m 556us/step - acc: 0.7727 - loss: 0.7628 - val_acc: 0.7808 - val_loss: 0.7258\n",
      "Epoch 42/200\n",
      "\u001b[1m13600/13600\u001b[0m \u001b[32m━━━━━━━━━━━━━━━━━━━━\u001b[0m\u001b[37m\u001b[0m \u001b[1m8s\u001b[0m 576us/step - acc: 0.7720 - loss: 0.7639 - val_acc: 0.7805 - val_loss: 0.7248\n",
      "Epoch 43/200\n",
      "\u001b[1m13600/13600\u001b[0m \u001b[32m━━━━━━━━━━━━━━━━━━━━\u001b[0m\u001b[37m\u001b[0m \u001b[1m8s\u001b[0m 584us/step - acc: 0.7728 - loss: 0.7668 - val_acc: 0.7803 - val_loss: 0.7230\n",
      "Epoch 44/200\n",
      "\u001b[1m13600/13600\u001b[0m \u001b[32m━━━━━━━━━━━━━━━━━━━━\u001b[0m\u001b[37m\u001b[0m \u001b[1m8s\u001b[0m 597us/step - acc: 0.7735 - loss: 0.7625 - val_acc: 0.7810 - val_loss: 0.7245\n",
      "Epoch 45/200\n",
      "\u001b[1m13600/13600\u001b[0m \u001b[32m━━━━━━━━━━━━━━━━━━━━\u001b[0m\u001b[37m\u001b[0m \u001b[1m8s\u001b[0m 564us/step - acc: 0.7720 - loss: 0.7675 - val_acc: 0.7806 - val_loss: 0.7246\n",
      "Epoch 46/200\n",
      "\u001b[1m13600/13600\u001b[0m \u001b[32m━━━━━━━━━━━━━━━━━━━━\u001b[0m\u001b[37m\u001b[0m \u001b[1m8s\u001b[0m 588us/step - acc: 0.7725 - loss: 0.7634 - val_acc: 0.7808 - val_loss: 0.7239\n",
      "Epoch 47/200\n",
      "\u001b[1m13600/13600\u001b[0m \u001b[32m━━━━━━━━━━━━━━━━━━━━\u001b[0m\u001b[37m\u001b[0m \u001b[1m8s\u001b[0m 597us/step - acc: 0.7714 - loss: 0.7677 - val_acc: 0.7803 - val_loss: 0.7240\n",
      "Epoch 48/200\n",
      "\u001b[1m13600/13600\u001b[0m \u001b[32m━━━━━━━━━━━━━━━━━━━━\u001b[0m\u001b[37m\u001b[0m \u001b[1m8s\u001b[0m 577us/step - acc: 0.7721 - loss: 0.7657 - val_acc: 0.7805 - val_loss: 0.7246\n",
      "Epoch 49/200\n",
      "\u001b[1m13600/13600\u001b[0m \u001b[32m━━━━━━━━━━━━━━━━━━━━\u001b[0m\u001b[37m\u001b[0m \u001b[1m8s\u001b[0m 593us/step - acc: 0.7717 - loss: 0.7686 - val_acc: 0.7799 - val_loss: 0.7259\n",
      "Epoch 50/200\n",
      "\u001b[1m13600/13600\u001b[0m \u001b[32m━━━━━━━━━━━━━━━━━━━━\u001b[0m\u001b[37m\u001b[0m \u001b[1m8s\u001b[0m 605us/step - acc: 0.7717 - loss: 0.7659 - val_acc: 0.7814 - val_loss: 0.7238\n",
      "Epoch 51/200\n",
      "\u001b[1m13600/13600\u001b[0m \u001b[32m━━━━━━━━━━━━━━━━━━━━\u001b[0m\u001b[37m\u001b[0m \u001b[1m8s\u001b[0m 612us/step - acc: 0.7726 - loss: 0.7645 - val_acc: 0.7797 - val_loss: 0.7272\n",
      "Epoch 52/200\n",
      "\u001b[1m13600/13600\u001b[0m \u001b[32m━━━━━━━━━━━━━━━━━━━━\u001b[0m\u001b[37m\u001b[0m \u001b[1m8s\u001b[0m 588us/step - acc: 0.7718 - loss: 0.7667 - val_acc: 0.7801 - val_loss: 0.7256\n",
      "Epoch 53/200\n",
      "\u001b[1m13600/13600\u001b[0m \u001b[32m━━━━━━━━━━━━━━━━━━━━\u001b[0m\u001b[37m\u001b[0m \u001b[1m8s\u001b[0m 592us/step - acc: 0.7719 - loss: 0.7654 - val_acc: 0.7820 - val_loss: 0.7244\n",
      "Epoch 54/200\n",
      "\u001b[1m13600/13600\u001b[0m \u001b[32m━━━━━━━━━━━━━━━━━━━━\u001b[0m\u001b[37m\u001b[0m \u001b[1m8s\u001b[0m 589us/step - acc: 0.7722 - loss: 0.7642 - val_acc: 0.7800 - val_loss: 0.7241\n",
      "Epoch 55/200\n",
      "\u001b[1m13600/13600\u001b[0m \u001b[32m━━━━━━━━━━━━━━━━━━━━\u001b[0m\u001b[37m\u001b[0m \u001b[1m8s\u001b[0m 582us/step - acc: 0.7722 - loss: 0.7647 - val_acc: 0.7811 - val_loss: 0.7243\n",
      "Epoch 56/200\n",
      "\u001b[1m13600/13600\u001b[0m \u001b[32m━━━━━━━━━━━━━━━━━━━━\u001b[0m\u001b[37m\u001b[0m \u001b[1m8s\u001b[0m 572us/step - acc: 0.7732 - loss: 0.7628 - val_acc: 0.7819 - val_loss: 0.7246\n",
      "Epoch 57/200\n",
      "\u001b[1m13600/13600\u001b[0m \u001b[32m━━━━━━━━━━━━━━━━━━━━\u001b[0m\u001b[37m\u001b[0m \u001b[1m8s\u001b[0m 582us/step - acc: 0.7721 - loss: 0.7651 - val_acc: 0.7791 - val_loss: 0.7257\n",
      "Epoch 58/200\n",
      "\u001b[1m13600/13600\u001b[0m \u001b[32m━━━━━━━━━━━━━━━━━━━━\u001b[0m\u001b[37m\u001b[0m \u001b[1m8s\u001b[0m 595us/step - acc: 0.7720 - loss: 0.7657 - val_acc: 0.7808 - val_loss: 0.7233\n",
      "Epoch 59/200\n",
      "\u001b[1m13600/13600\u001b[0m \u001b[32m━━━━━━━━━━━━━━━━━━━━\u001b[0m\u001b[37m\u001b[0m \u001b[1m8s\u001b[0m 597us/step - acc: 0.7748 - loss: 0.7619 - val_acc: 0.7823 - val_loss: 0.7220\n",
      "Epoch 60/200\n",
      "\u001b[1m13600/13600\u001b[0m \u001b[32m━━━━━━━━━━━━━━━━━━━━\u001b[0m\u001b[37m\u001b[0m \u001b[1m8s\u001b[0m 570us/step - acc: 0.7726 - loss: 0.7630 - val_acc: 0.7799 - val_loss: 0.7247\n",
      "Epoch 61/200\n",
      "\u001b[1m13600/13600\u001b[0m \u001b[32m━━━━━━━━━━━━━━━━━━━━\u001b[0m\u001b[37m\u001b[0m \u001b[1m8s\u001b[0m 575us/step - acc: 0.7735 - loss: 0.7632 - val_acc: 0.7818 - val_loss: 0.7222\n",
      "Epoch 62/200\n",
      "\u001b[1m13600/13600\u001b[0m \u001b[32m━━━━━━━━━━━━━━━━━━━━\u001b[0m\u001b[37m\u001b[0m \u001b[1m8s\u001b[0m 579us/step - acc: 0.7741 - loss: 0.7619 - val_acc: 0.7821 - val_loss: 0.7215\n",
      "Epoch 63/200\n",
      "\u001b[1m13600/13600\u001b[0m \u001b[32m━━━━━━━━━━━━━━━━━━━━\u001b[0m\u001b[37m\u001b[0m \u001b[1m8s\u001b[0m 584us/step - acc: 0.7731 - loss: 0.7635 - val_acc: 0.7807 - val_loss: 0.7228\n",
      "Epoch 64/200\n",
      "\u001b[1m13600/13600\u001b[0m \u001b[32m━━━━━━━━━━━━━━━━━━━━\u001b[0m\u001b[37m\u001b[0m \u001b[1m8s\u001b[0m 594us/step - acc: 0.7723 - loss: 0.7645 - val_acc: 0.7817 - val_loss: 0.7215\n",
      "Epoch 65/200\n",
      "\u001b[1m13600/13600\u001b[0m \u001b[32m━━━━━━━━━━━━━━━━━━━━\u001b[0m\u001b[37m\u001b[0m \u001b[1m8s\u001b[0m 565us/step - acc: 0.7722 - loss: 0.7664 - val_acc: 0.7798 - val_loss: 0.7234\n",
      "Epoch 66/200\n",
      "\u001b[1m13600/13600\u001b[0m \u001b[32m━━━━━━━━━━━━━━━━━━━━\u001b[0m\u001b[37m\u001b[0m \u001b[1m8s\u001b[0m 587us/step - acc: 0.7728 - loss: 0.7630 - val_acc: 0.7815 - val_loss: 0.7231\n",
      "Epoch 67/200\n",
      "\u001b[1m13600/13600\u001b[0m \u001b[32m━━━━━━━━━━━━━━━━━━━━\u001b[0m\u001b[37m\u001b[0m \u001b[1m8s\u001b[0m 580us/step - acc: 0.7731 - loss: 0.7647 - val_acc: 0.7807 - val_loss: 0.7237\n",
      "Epoch 68/200\n",
      "\u001b[1m13600/13600\u001b[0m \u001b[32m━━━━━━━━━━━━━━━━━━━━\u001b[0m\u001b[37m\u001b[0m \u001b[1m8s\u001b[0m 576us/step - acc: 0.7736 - loss: 0.7604 - val_acc: 0.7801 - val_loss: 0.7239\n",
      "Epoch 69/200\n",
      "\u001b[1m13600/13600\u001b[0m \u001b[32m━━━━━━━━━━━━━━━━━━━━\u001b[0m\u001b[37m\u001b[0m \u001b[1m8s\u001b[0m 579us/step - acc: 0.7725 - loss: 0.7631 - val_acc: 0.7810 - val_loss: 0.7236\n",
      "Epoch 70/200\n",
      "\u001b[1m13600/13600\u001b[0m \u001b[32m━━━━━━━━━━━━━━━━━━━━\u001b[0m\u001b[37m\u001b[0m \u001b[1m8s\u001b[0m 586us/step - acc: 0.7731 - loss: 0.7635 - val_acc: 0.7809 - val_loss: 0.7244\n",
      "Epoch 71/200\n",
      "\u001b[1m13600/13600\u001b[0m \u001b[32m━━━━━━━━━━━━━━━━━━━━\u001b[0m\u001b[37m\u001b[0m \u001b[1m8s\u001b[0m 578us/step - acc: 0.7729 - loss: 0.7613 - val_acc: 0.7809 - val_loss: 0.7228\n",
      "Epoch 72/200\n",
      "\u001b[1m13600/13600\u001b[0m \u001b[32m━━━━━━━━━━━━━━━━━━━━\u001b[0m\u001b[37m\u001b[0m \u001b[1m8s\u001b[0m 595us/step - acc: 0.7725 - loss: 0.7649 - val_acc: 0.7795 - val_loss: 0.7264\n",
      "Epoch 73/200\n",
      "\u001b[1m13600/13600\u001b[0m \u001b[32m━━━━━━━━━━━━━━━━━━━━\u001b[0m\u001b[37m\u001b[0m \u001b[1m8s\u001b[0m 614us/step - acc: 0.7729 - loss: 0.7681 - val_acc: 0.7817 - val_loss: 0.7236\n",
      "Epoch 74/200\n",
      "\u001b[1m13600/13600\u001b[0m \u001b[32m━━━━━━━━━━━━━━━━━━━━\u001b[0m\u001b[37m\u001b[0m \u001b[1m8s\u001b[0m 586us/step - acc: 0.7732 - loss: 0.7625 - val_acc: 0.7812 - val_loss: 0.7227\n",
      "Epoch 75/200\n",
      "\u001b[1m13600/13600\u001b[0m \u001b[32m━━━━━━━━━━━━━━━━━━━━\u001b[0m\u001b[37m\u001b[0m \u001b[1m8s\u001b[0m 572us/step - acc: 0.7727 - loss: 0.7632 - val_acc: 0.7800 - val_loss: 0.7250\n",
      "Epoch 76/200\n",
      "\u001b[1m13600/13600\u001b[0m \u001b[32m━━━━━━━━━━━━━━━━━━━━\u001b[0m\u001b[37m\u001b[0m \u001b[1m8s\u001b[0m 569us/step - acc: 0.7728 - loss: 0.7651 - val_acc: 0.7828 - val_loss: 0.7215\n",
      "Epoch 77/200\n",
      "\u001b[1m13600/13600\u001b[0m \u001b[32m━━━━━━━━━━━━━━━━━━━━\u001b[0m\u001b[37m\u001b[0m \u001b[1m8s\u001b[0m 566us/step - acc: 0.7733 - loss: 0.7598 - val_acc: 0.7822 - val_loss: 0.7221\n",
      "Epoch 78/200\n",
      "\u001b[1m13600/13600\u001b[0m \u001b[32m━━━━━━━━━━━━━━━━━━━━\u001b[0m\u001b[37m\u001b[0m \u001b[1m8s\u001b[0m 572us/step - acc: 0.7731 - loss: 0.7629 - val_acc: 0.7808 - val_loss: 0.7222\n",
      "Epoch 79/200\n",
      "\u001b[1m13600/13600\u001b[0m \u001b[32m━━━━━━━━━━━━━━━━━━━━\u001b[0m\u001b[37m\u001b[0m \u001b[1m8s\u001b[0m 564us/step - acc: 0.7748 - loss: 0.7602 - val_acc: 0.7825 - val_loss: 0.7222\n",
      "Epoch 80/200\n",
      "\u001b[1m13600/13600\u001b[0m \u001b[32m━━━━━━━━━━━━━━━━━━━━\u001b[0m\u001b[37m\u001b[0m \u001b[1m8s\u001b[0m 568us/step - acc: 0.7731 - loss: 0.7638 - val_acc: 0.7815 - val_loss: 0.7201\n",
      "Epoch 81/200\n",
      "\u001b[1m13600/13600\u001b[0m \u001b[32m━━━━━━━━━━━━━━━━━━━━\u001b[0m\u001b[37m\u001b[0m \u001b[1m8s\u001b[0m 568us/step - acc: 0.7724 - loss: 0.7629 - val_acc: 0.7824 - val_loss: 0.7222\n",
      "Epoch 82/200\n",
      "\u001b[1m13600/13600\u001b[0m \u001b[32m━━━━━━━━━━━━━━━━━━━━\u001b[0m\u001b[37m\u001b[0m \u001b[1m8s\u001b[0m 575us/step - acc: 0.7743 - loss: 0.7614 - val_acc: 0.7820 - val_loss: 0.7202\n",
      "Epoch 83/200\n",
      "\u001b[1m13600/13600\u001b[0m \u001b[32m━━━━━━━━━━━━━━━━━━━━\u001b[0m\u001b[37m\u001b[0m \u001b[1m8s\u001b[0m 570us/step - acc: 0.7735 - loss: 0.7619 - val_acc: 0.7816 - val_loss: 0.7212\n",
      "Epoch 84/200\n",
      "\u001b[1m13600/13600\u001b[0m \u001b[32m━━━━━━━━━━━━━━━━━━━━\u001b[0m\u001b[37m\u001b[0m \u001b[1m8s\u001b[0m 569us/step - acc: 0.7722 - loss: 0.7658 - val_acc: 0.7821 - val_loss: 0.7240\n",
      "Epoch 85/200\n",
      "\u001b[1m13600/13600\u001b[0m \u001b[32m━━━━━━━━━━━━━━━━━━━━\u001b[0m\u001b[37m\u001b[0m \u001b[1m8s\u001b[0m 573us/step - acc: 0.7729 - loss: 0.7636 - val_acc: 0.7823 - val_loss: 0.7208\n",
      "Epoch 86/200\n",
      "\u001b[1m13600/13600\u001b[0m \u001b[32m━━━━━━━━━━━━━━━━━━━━\u001b[0m\u001b[37m\u001b[0m \u001b[1m8s\u001b[0m 598us/step - acc: 0.7743 - loss: 0.7582 - val_acc: 0.7824 - val_loss: 0.7198\n",
      "Epoch 87/200\n",
      "\u001b[1m13600/13600\u001b[0m \u001b[32m━━━━━━━━━━━━━━━━━━━━\u001b[0m\u001b[37m\u001b[0m \u001b[1m8s\u001b[0m 567us/step - acc: 0.7733 - loss: 0.7642 - val_acc: 0.7796 - val_loss: 0.7244\n",
      "Epoch 88/200\n",
      "\u001b[1m13600/13600\u001b[0m \u001b[32m━━━━━━━━━━━━━━━━━━━━\u001b[0m\u001b[37m\u001b[0m \u001b[1m8s\u001b[0m 566us/step - acc: 0.7733 - loss: 0.7609 - val_acc: 0.7815 - val_loss: 0.7237\n",
      "Epoch 89/200\n",
      "\u001b[1m13600/13600\u001b[0m \u001b[32m━━━━━━━━━━━━━━━━━━━━\u001b[0m\u001b[37m\u001b[0m \u001b[1m8s\u001b[0m 568us/step - acc: 0.7717 - loss: 0.7652 - val_acc: 0.7827 - val_loss: 0.7195\n",
      "Epoch 90/200\n",
      "\u001b[1m13600/13600\u001b[0m \u001b[32m━━━━━━━━━━━━━━━━━━━━\u001b[0m\u001b[37m\u001b[0m \u001b[1m8s\u001b[0m 573us/step - acc: 0.7730 - loss: 0.7645 - val_acc: 0.7816 - val_loss: 0.7210\n",
      "Epoch 91/200\n",
      "\u001b[1m13600/13600\u001b[0m \u001b[32m━━━━━━━━━━━━━━━━━━━━\u001b[0m\u001b[37m\u001b[0m \u001b[1m8s\u001b[0m 567us/step - acc: 0.7729 - loss: 0.7668 - val_acc: 0.7810 - val_loss: 0.7224\n",
      "Epoch 92/200\n",
      "\u001b[1m13600/13600\u001b[0m \u001b[32m━━━━━━━━━━━━━━━━━━━━\u001b[0m\u001b[37m\u001b[0m \u001b[1m8s\u001b[0m 581us/step - acc: 0.7734 - loss: 0.7635 - val_acc: 0.7817 - val_loss: 0.7235\n",
      "Epoch 93/200\n",
      "\u001b[1m13600/13600\u001b[0m \u001b[32m━━━━━━━━━━━━━━━━━━━━\u001b[0m\u001b[37m\u001b[0m \u001b[1m8s\u001b[0m 620us/step - acc: 0.7736 - loss: 0.7614 - val_acc: 0.7806 - val_loss: 0.7220\n",
      "Epoch 94/200\n",
      "\u001b[1m13600/13600\u001b[0m \u001b[32m━━━━━━━━━━━━━━━━━━━━\u001b[0m\u001b[37m\u001b[0m \u001b[1m8s\u001b[0m 611us/step - acc: 0.7729 - loss: 0.7645 - val_acc: 0.7824 - val_loss: 0.7205\n",
      "Epoch 95/200\n",
      "\u001b[1m13600/13600\u001b[0m \u001b[32m━━━━━━━━━━━━━━━━━━━━\u001b[0m\u001b[37m\u001b[0m \u001b[1m8s\u001b[0m 596us/step - acc: 0.7730 - loss: 0.7654 - val_acc: 0.7822 - val_loss: 0.7213\n",
      "Epoch 96/200\n",
      "\u001b[1m13600/13600\u001b[0m \u001b[32m━━━━━━━━━━━━━━━━━━━━\u001b[0m\u001b[37m\u001b[0m \u001b[1m8s\u001b[0m 602us/step - acc: 0.7719 - loss: 0.7653 - val_acc: 0.7814 - val_loss: 0.7226\n",
      "Epoch 97/200\n",
      "\u001b[1m13600/13600\u001b[0m \u001b[32m━━━━━━━━━━━━━━━━━━━━\u001b[0m\u001b[37m\u001b[0m \u001b[1m8s\u001b[0m 592us/step - acc: 0.7740 - loss: 0.7597 - val_acc: 0.7827 - val_loss: 0.7179\n",
      "Epoch 98/200\n",
      "\u001b[1m13600/13600\u001b[0m \u001b[32m━━━━━━━━━━━━━━━━━━━━\u001b[0m\u001b[37m\u001b[0m \u001b[1m8s\u001b[0m 587us/step - acc: 0.7728 - loss: 0.7643 - val_acc: 0.7813 - val_loss: 0.7222\n",
      "Epoch 99/200\n",
      "\u001b[1m13600/13600\u001b[0m \u001b[32m━━━━━━━━━━━━━━━━━━━━\u001b[0m\u001b[37m\u001b[0m \u001b[1m8s\u001b[0m 602us/step - acc: 0.7736 - loss: 0.7613 - val_acc: 0.7830 - val_loss: 0.7193\n",
      "Epoch 100/200\n",
      "\u001b[1m13600/13600\u001b[0m \u001b[32m━━━━━━━━━━━━━━━━━━━━\u001b[0m\u001b[37m\u001b[0m \u001b[1m8s\u001b[0m 615us/step - acc: 0.7721 - loss: 0.7630 - val_acc: 0.7827 - val_loss: 0.7211\n",
      "Epoch 101/200\n",
      "\u001b[1m13600/13600\u001b[0m \u001b[32m━━━━━━━━━━━━━━━━━━━━\u001b[0m\u001b[37m\u001b[0m \u001b[1m8s\u001b[0m 596us/step - acc: 0.7732 - loss: 0.7630 - val_acc: 0.7804 - val_loss: 0.7249\n",
      "Epoch 102/200\n",
      "\u001b[1m13600/13600\u001b[0m \u001b[32m━━━━━━━━━━━━━━━━━━━━\u001b[0m\u001b[37m\u001b[0m \u001b[1m8s\u001b[0m 592us/step - acc: 0.7731 - loss: 0.7621 - val_acc: 0.7818 - val_loss: 0.7241\n",
      "Epoch 103/200\n",
      "\u001b[1m13600/13600\u001b[0m \u001b[32m━━━━━━━━━━━━━━━━━━━━\u001b[0m\u001b[37m\u001b[0m \u001b[1m8s\u001b[0m 612us/step - acc: 0.7729 - loss: 0.7620 - val_acc: 0.7793 - val_loss: 0.7250\n",
      "Epoch 104/200\n",
      "\u001b[1m13600/13600\u001b[0m \u001b[32m━━━━━━━━━━━━━━━━━━━━\u001b[0m\u001b[37m\u001b[0m \u001b[1m8s\u001b[0m 599us/step - acc: 0.7723 - loss: 0.7655 - val_acc: 0.7811 - val_loss: 0.7238\n",
      "Epoch 105/200\n",
      "\u001b[1m13600/13600\u001b[0m \u001b[32m━━━━━━━━━━━━━━━━━━━━\u001b[0m\u001b[37m\u001b[0m \u001b[1m9s\u001b[0m 626us/step - acc: 0.7730 - loss: 0.7643 - val_acc: 0.7819 - val_loss: 0.7200\n",
      "Epoch 106/200\n",
      "\u001b[1m13600/13600\u001b[0m \u001b[32m━━━━━━━━━━━━━━━━━━━━\u001b[0m\u001b[37m\u001b[0m \u001b[1m9s\u001b[0m 648us/step - acc: 0.7731 - loss: 0.7602 - val_acc: 0.7810 - val_loss: 0.7227\n",
      "Epoch 107/200\n",
      "\u001b[1m13600/13600\u001b[0m \u001b[32m━━━━━━━━━━━━━━━━━━━━\u001b[0m\u001b[37m\u001b[0m \u001b[1m9s\u001b[0m 639us/step - acc: 0.7732 - loss: 0.7628 - val_acc: 0.7821 - val_loss: 0.7202\n",
      "Epoch 108/200\n",
      "\u001b[1m13600/13600\u001b[0m \u001b[32m━━━━━━━━━━━━━━━━━━━━\u001b[0m\u001b[37m\u001b[0m \u001b[1m9s\u001b[0m 636us/step - acc: 0.7732 - loss: 0.7632 - val_acc: 0.7821 - val_loss: 0.7200\n",
      "Epoch 109/200\n",
      "\u001b[1m13600/13600\u001b[0m \u001b[32m━━━━━━━━━━━━━━━━━━━━\u001b[0m\u001b[37m\u001b[0m \u001b[1m9s\u001b[0m 633us/step - acc: 0.7732 - loss: 0.7644 - val_acc: 0.7810 - val_loss: 0.7215\n",
      "Epoch 110/200\n",
      "\u001b[1m13600/13600\u001b[0m \u001b[32m━━━━━━━━━━━━━━━━━━━━\u001b[0m\u001b[37m\u001b[0m \u001b[1m9s\u001b[0m 638us/step - acc: 0.7731 - loss: 0.7625 - val_acc: 0.7817 - val_loss: 0.7221\n",
      "Epoch 111/200\n",
      "\u001b[1m13600/13600\u001b[0m \u001b[32m━━━━━━━━━━━━━━━━━━━━\u001b[0m\u001b[37m\u001b[0m \u001b[1m8s\u001b[0m 615us/step - acc: 0.7730 - loss: 0.7638 - val_acc: 0.7823 - val_loss: 0.7211\n",
      "Epoch 112/200\n",
      "\u001b[1m13600/13600\u001b[0m \u001b[32m━━━━━━━━━━━━━━━━━━━━\u001b[0m\u001b[37m\u001b[0m \u001b[1m8s\u001b[0m 589us/step - acc: 0.7734 - loss: 0.7624 - val_acc: 0.7825 - val_loss: 0.7222\n",
      "Epoch 113/200\n",
      "\u001b[1m13600/13600\u001b[0m \u001b[32m━━━━━━━━━━━━━━━━━━━━\u001b[0m\u001b[37m\u001b[0m \u001b[1m9s\u001b[0m 625us/step - acc: 0.7726 - loss: 0.7644 - val_acc: 0.7824 - val_loss: 0.7207\n",
      "Epoch 114/200\n",
      "\u001b[1m13600/13600\u001b[0m \u001b[32m━━━━━━━━━━━━━━━━━━━━\u001b[0m\u001b[37m\u001b[0m \u001b[1m8s\u001b[0m 566us/step - acc: 0.7731 - loss: 0.7638 - val_acc: 0.7821 - val_loss: 0.7219\n",
      "Epoch 115/200\n",
      "\u001b[1m13600/13600\u001b[0m \u001b[32m━━━━━━━━━━━━━━━━━━━━\u001b[0m\u001b[37m\u001b[0m \u001b[1m8s\u001b[0m 593us/step - acc: 0.7733 - loss: 0.7654 - val_acc: 0.7821 - val_loss: 0.7226\n",
      "Epoch 116/200\n",
      "\u001b[1m13600/13600\u001b[0m \u001b[32m━━━━━━━━━━━━━━━━━━━━\u001b[0m\u001b[37m\u001b[0m \u001b[1m8s\u001b[0m 594us/step - acc: 0.7734 - loss: 0.7620 - val_acc: 0.7817 - val_loss: 0.7224\n",
      "Epoch 117/200\n",
      "\u001b[1m13600/13600\u001b[0m \u001b[32m━━━━━━━━━━━━━━━━━━━━\u001b[0m\u001b[37m\u001b[0m \u001b[1m8s\u001b[0m 594us/step - acc: 0.7736 - loss: 0.7622 - val_acc: 0.7819 - val_loss: 0.7205\n",
      "Epoch 118/200\n",
      "\u001b[1m13600/13600\u001b[0m \u001b[32m━━━━━━━━━━━━━━━━━━━━\u001b[0m\u001b[37m\u001b[0m \u001b[1m8s\u001b[0m 581us/step - acc: 0.7728 - loss: 0.7635 - val_acc: 0.7818 - val_loss: 0.7189\n",
      "Epoch 119/200\n",
      "\u001b[1m13600/13600\u001b[0m \u001b[32m━━━━━━━━━━━━━━━━━━━━\u001b[0m\u001b[37m\u001b[0m \u001b[1m8s\u001b[0m 592us/step - acc: 0.7743 - loss: 0.7605 - val_acc: 0.7815 - val_loss: 0.7223\n",
      "Epoch 120/200\n",
      "\u001b[1m13600/13600\u001b[0m \u001b[32m━━━━━━━━━━━━━━━━━━━━\u001b[0m\u001b[37m\u001b[0m \u001b[1m8s\u001b[0m 588us/step - acc: 0.7732 - loss: 0.7619 - val_acc: 0.7821 - val_loss: 0.7207\n",
      "Epoch 121/200\n",
      "\u001b[1m13600/13600\u001b[0m \u001b[32m━━━━━━━━━━━━━━━━━━━━\u001b[0m\u001b[37m\u001b[0m \u001b[1m8s\u001b[0m 604us/step - acc: 0.7734 - loss: 0.7630 - val_acc: 0.7805 - val_loss: 0.7225\n",
      "Epoch 122/200\n",
      "\u001b[1m13600/13600\u001b[0m \u001b[32m━━━━━━━━━━━━━━━━━━━━\u001b[0m\u001b[37m\u001b[0m \u001b[1m8s\u001b[0m 600us/step - acc: 0.7732 - loss: 0.7604 - val_acc: 0.7809 - val_loss: 0.7221\n",
      "Epoch 123/200\n",
      "\u001b[1m13600/13600\u001b[0m \u001b[32m━━━━━━━━━━━━━━━━━━━━\u001b[0m\u001b[37m\u001b[0m \u001b[1m8s\u001b[0m 595us/step - acc: 0.7734 - loss: 0.7652 - val_acc: 0.7814 - val_loss: 0.7230\n",
      "Epoch 124/200\n",
      "\u001b[1m13600/13600\u001b[0m \u001b[32m━━━━━━━━━━━━━━━━━━━━\u001b[0m\u001b[37m\u001b[0m \u001b[1m8s\u001b[0m 598us/step - acc: 0.7734 - loss: 0.7609 - val_acc: 0.7825 - val_loss: 0.7196\n",
      "Epoch 125/200\n",
      "\u001b[1m13600/13600\u001b[0m \u001b[32m━━━━━━━━━━━━━━━━━━━━\u001b[0m\u001b[37m\u001b[0m \u001b[1m8s\u001b[0m 600us/step - acc: 0.7742 - loss: 0.7624 - val_acc: 0.7823 - val_loss: 0.7193\n",
      "Epoch 126/200\n",
      "\u001b[1m13600/13600\u001b[0m \u001b[32m━━━━━━━━━━━━━━━━━━━━\u001b[0m\u001b[37m\u001b[0m \u001b[1m8s\u001b[0m 596us/step - acc: 0.7732 - loss: 0.7626 - val_acc: 0.7825 - val_loss: 0.7243\n",
      "Epoch 127/200\n",
      "\u001b[1m13600/13600\u001b[0m \u001b[32m━━━━━━━━━━━━━━━━━━━━\u001b[0m\u001b[37m\u001b[0m \u001b[1m8s\u001b[0m 597us/step - acc: 0.7727 - loss: 0.7650 - val_acc: 0.7799 - val_loss: 0.7241\n",
      "Epoch 128/200\n",
      "\u001b[1m13600/13600\u001b[0m \u001b[32m━━━━━━━━━━━━━━━━━━━━\u001b[0m\u001b[37m\u001b[0m \u001b[1m8s\u001b[0m 597us/step - acc: 0.7736 - loss: 0.7629 - val_acc: 0.7817 - val_loss: 0.7211\n",
      "Epoch 129/200\n",
      "\u001b[1m13600/13600\u001b[0m \u001b[32m━━━━━━━━━━━━━━━━━━━━\u001b[0m\u001b[37m\u001b[0m \u001b[1m8s\u001b[0m 568us/step - acc: 0.7738 - loss: 0.7614 - val_acc: 0.7803 - val_loss: 0.7233\n",
      "Epoch 130/200\n",
      "\u001b[1m13600/13600\u001b[0m \u001b[32m━━━━━━━━━━━━━━━━━━━━\u001b[0m\u001b[37m\u001b[0m \u001b[1m8s\u001b[0m 574us/step - acc: 0.7716 - loss: 0.7657 - val_acc: 0.7819 - val_loss: 0.7232\n",
      "Epoch 131/200\n",
      "\u001b[1m13600/13600\u001b[0m \u001b[32m━━━━━━━━━━━━━━━━━━━━\u001b[0m\u001b[37m\u001b[0m \u001b[1m8s\u001b[0m 598us/step - acc: 0.7724 - loss: 0.7643 - val_acc: 0.7816 - val_loss: 0.7220\n",
      "Epoch 132/200\n",
      "\u001b[1m13600/13600\u001b[0m \u001b[32m━━━━━━━━━━━━━━━━━━━━\u001b[0m\u001b[37m\u001b[0m \u001b[1m8s\u001b[0m 575us/step - acc: 0.7725 - loss: 0.7659 - val_acc: 0.7811 - val_loss: 0.7206\n",
      "Epoch 133/200\n",
      "\u001b[1m13600/13600\u001b[0m \u001b[32m━━━━━━━━━━━━━━━━━━━━\u001b[0m\u001b[37m\u001b[0m \u001b[1m8s\u001b[0m 578us/step - acc: 0.7722 - loss: 0.7655 - val_acc: 0.7798 - val_loss: 0.7264\n",
      "Epoch 134/200\n",
      "\u001b[1m13600/13600\u001b[0m \u001b[32m━━━━━━━━━━━━━━━━━━━━\u001b[0m\u001b[37m\u001b[0m \u001b[1m8s\u001b[0m 566us/step - acc: 0.7722 - loss: 0.7638 - val_acc: 0.7819 - val_loss: 0.7216\n",
      "Epoch 135/200\n",
      "\u001b[1m13600/13600\u001b[0m \u001b[32m━━━━━━━━━━━━━━━━━━━━\u001b[0m\u001b[37m\u001b[0m \u001b[1m8s\u001b[0m 573us/step - acc: 0.7714 - loss: 0.7679 - val_acc: 0.7814 - val_loss: 0.7221\n",
      "Epoch 136/200\n",
      "\u001b[1m13600/13600\u001b[0m \u001b[32m━━━━━━━━━━━━━━━━━━━━\u001b[0m\u001b[37m\u001b[0m \u001b[1m8s\u001b[0m 571us/step - acc: 0.7739 - loss: 0.7646 - val_acc: 0.7807 - val_loss: 0.7227\n",
      "Epoch 137/200\n",
      "\u001b[1m13600/13600\u001b[0m \u001b[32m━━━━━━━━━━━━━━━━━━━━\u001b[0m\u001b[37m\u001b[0m \u001b[1m8s\u001b[0m 572us/step - acc: 0.7722 - loss: 0.7643 - val_acc: 0.7807 - val_loss: 0.7219\n",
      "Epoch 138/200\n",
      "\u001b[1m13600/13600\u001b[0m \u001b[32m━━━━━━━━━━━━━━━━━━━━\u001b[0m\u001b[37m\u001b[0m \u001b[1m8s\u001b[0m 574us/step - acc: 0.7731 - loss: 0.7649 - val_acc: 0.7801 - val_loss: 0.7247\n",
      "Epoch 139/200\n",
      "\u001b[1m13600/13600\u001b[0m \u001b[32m━━━━━━━━━━━━━━━━━━━━\u001b[0m\u001b[37m\u001b[0m \u001b[1m8s\u001b[0m 563us/step - acc: 0.7730 - loss: 0.7684 - val_acc: 0.7815 - val_loss: 0.7227\n",
      "Epoch 140/200\n",
      "\u001b[1m13600/13600\u001b[0m \u001b[32m━━━━━━━━━━━━━━━━━━━━\u001b[0m\u001b[37m\u001b[0m \u001b[1m8s\u001b[0m 593us/step - acc: 0.7727 - loss: 0.7654 - val_acc: 0.7808 - val_loss: 0.7228\n",
      "Epoch 141/200\n",
      "\u001b[1m13600/13600\u001b[0m \u001b[32m━━━━━━━━━━━━━━━━━━━━\u001b[0m\u001b[37m\u001b[0m \u001b[1m8s\u001b[0m 574us/step - acc: 0.7726 - loss: 0.7657 - val_acc: 0.7818 - val_loss: 0.7221\n",
      "Epoch 142/200\n",
      "\u001b[1m13600/13600\u001b[0m \u001b[32m━━━━━━━━━━━━━━━━━━━━\u001b[0m\u001b[37m\u001b[0m \u001b[1m9s\u001b[0m 656us/step - acc: 0.7733 - loss: 0.7622 - val_acc: 0.7817 - val_loss: 0.7206\n",
      "Epoch 143/200\n",
      "\u001b[1m13600/13600\u001b[0m \u001b[32m━━━━━━━━━━━━━━━━━━━━\u001b[0m\u001b[37m\u001b[0m \u001b[1m8s\u001b[0m 587us/step - acc: 0.7732 - loss: 0.7632 - val_acc: 0.7801 - val_loss: 0.7235\n",
      "Epoch 144/200\n",
      "\u001b[1m13600/13600\u001b[0m \u001b[32m━━━━━━━━━━━━━━━━━━━━\u001b[0m\u001b[37m\u001b[0m \u001b[1m8s\u001b[0m 575us/step - acc: 0.7731 - loss: 0.7654 - val_acc: 0.7820 - val_loss: 0.7219\n",
      "Epoch 145/200\n",
      "\u001b[1m13600/13600\u001b[0m \u001b[32m━━━━━━━━━━━━━━━━━━━━\u001b[0m\u001b[37m\u001b[0m \u001b[1m8s\u001b[0m 568us/step - acc: 0.7738 - loss: 0.7622 - val_acc: 0.7774 - val_loss: 0.7259\n",
      "Epoch 146/200\n",
      "\u001b[1m13600/13600\u001b[0m \u001b[32m━━━━━━━━━━━━━━━━━━━━\u001b[0m\u001b[37m\u001b[0m \u001b[1m8s\u001b[0m 569us/step - acc: 0.7738 - loss: 0.7602 - val_acc: 0.7825 - val_loss: 0.7184\n",
      "Epoch 147/200\n",
      "\u001b[1m13600/13600\u001b[0m \u001b[32m━━━━━━━━━━━━━━━━━━━━\u001b[0m\u001b[37m\u001b[0m \u001b[1m8s\u001b[0m 568us/step - acc: 0.7718 - loss: 0.7684 - val_acc: 0.7808 - val_loss: 0.7228\n",
      "Epoch 148/200\n",
      "\u001b[1m13600/13600\u001b[0m \u001b[32m━━━━━━━━━━━━━━━━━━━━\u001b[0m\u001b[37m\u001b[0m \u001b[1m8s\u001b[0m 569us/step - acc: 0.7728 - loss: 0.7636 - val_acc: 0.7799 - val_loss: 0.7261\n",
      "Epoch 149/200\n",
      "\u001b[1m13600/13600\u001b[0m \u001b[32m━━━━━━━━━━━━━━━━━━━━\u001b[0m\u001b[37m\u001b[0m \u001b[1m8s\u001b[0m 567us/step - acc: 0.7730 - loss: 0.7651 - val_acc: 0.7815 - val_loss: 0.7221\n",
      "Epoch 150/200\n",
      "\u001b[1m13600/13600\u001b[0m \u001b[32m━━━━━━━━━━━━━━━━━━━━\u001b[0m\u001b[37m\u001b[0m \u001b[1m8s\u001b[0m 568us/step - acc: 0.7723 - loss: 0.7662 - val_acc: 0.7817 - val_loss: 0.7213\n",
      "Epoch 151/200\n",
      "\u001b[1m13600/13600\u001b[0m \u001b[32m━━━━━━━━━━━━━━━━━━━━\u001b[0m\u001b[37m\u001b[0m \u001b[1m8s\u001b[0m 571us/step - acc: 0.7734 - loss: 0.7659 - val_acc: 0.7809 - val_loss: 0.7227\n",
      "Epoch 152/200\n",
      "\u001b[1m13600/13600\u001b[0m \u001b[32m━━━━━━━━━━━━━━━━━━━━\u001b[0m\u001b[37m\u001b[0m \u001b[1m8s\u001b[0m 583us/step - acc: 0.7727 - loss: 0.7641 - val_acc: 0.7825 - val_loss: 0.7213\n",
      "Epoch 153/200\n",
      "\u001b[1m13600/13600\u001b[0m \u001b[32m━━━━━━━━━━━━━━━━━━━━\u001b[0m\u001b[37m\u001b[0m \u001b[1m8s\u001b[0m 573us/step - acc: 0.7724 - loss: 0.7646 - val_acc: 0.7815 - val_loss: 0.7221\n",
      "Epoch 154/200\n",
      "\u001b[1m13600/13600\u001b[0m \u001b[32m━━━━━━━━━━━━━━━━━━━━\u001b[0m\u001b[37m\u001b[0m \u001b[1m8s\u001b[0m 579us/step - acc: 0.7743 - loss: 0.7633 - val_acc: 0.7816 - val_loss: 0.7201\n",
      "Epoch 155/200\n",
      "\u001b[1m13600/13600\u001b[0m \u001b[32m━━━━━━━━━━━━━━━━━━━━\u001b[0m\u001b[37m\u001b[0m \u001b[1m8s\u001b[0m 596us/step - acc: 0.7729 - loss: 0.7643 - val_acc: 0.7811 - val_loss: 0.7227\n",
      "Epoch 156/200\n",
      "\u001b[1m13600/13600\u001b[0m \u001b[32m━━━━━━━━━━━━━━━━━━━━\u001b[0m\u001b[37m\u001b[0m \u001b[1m8s\u001b[0m 571us/step - acc: 0.7727 - loss: 0.7655 - val_acc: 0.7799 - val_loss: 0.7255\n",
      "Epoch 157/200\n",
      "\u001b[1m13600/13600\u001b[0m \u001b[32m━━━━━━━━━━━━━━━━━━━━\u001b[0m\u001b[37m\u001b[0m \u001b[1m8s\u001b[0m 568us/step - acc: 0.7726 - loss: 0.7657 - val_acc: 0.7828 - val_loss: 0.7217\n",
      "Epoch 158/200\n",
      "\u001b[1m13600/13600\u001b[0m \u001b[32m━━━━━━━━━━━━━━━━━━━━\u001b[0m\u001b[37m\u001b[0m \u001b[1m8s\u001b[0m 590us/step - acc: 0.7735 - loss: 0.7623 - val_acc: 0.7807 - val_loss: 0.7222\n",
      "Epoch 159/200\n",
      "\u001b[1m13600/13600\u001b[0m \u001b[32m━━━━━━━━━━━━━━━━━━━━\u001b[0m\u001b[37m\u001b[0m \u001b[1m8s\u001b[0m 595us/step - acc: 0.7723 - loss: 0.7672 - val_acc: 0.7825 - val_loss: 0.7187\n",
      "Epoch 160/200\n",
      "\u001b[1m13600/13600\u001b[0m \u001b[32m━━━━━━━━━━━━━━━━━━━━\u001b[0m\u001b[37m\u001b[0m \u001b[1m8s\u001b[0m 582us/step - acc: 0.7731 - loss: 0.7644 - val_acc: 0.7823 - val_loss: 0.7213\n",
      "Epoch 161/200\n",
      "\u001b[1m13600/13600\u001b[0m \u001b[32m━━━━━━━━━━━━━━━━━━━━\u001b[0m\u001b[37m\u001b[0m \u001b[1m8s\u001b[0m 587us/step - acc: 0.7722 - loss: 0.7654 - val_acc: 0.7819 - val_loss: 0.7228\n",
      "Epoch 162/200\n",
      "\u001b[1m13600/13600\u001b[0m \u001b[32m━━━━━━━━━━━━━━━━━━━━\u001b[0m\u001b[37m\u001b[0m \u001b[1m8s\u001b[0m 582us/step - acc: 0.7731 - loss: 0.7659 - val_acc: 0.7816 - val_loss: 0.7226\n",
      "Epoch 163/200\n",
      "\u001b[1m13600/13600\u001b[0m \u001b[32m━━━━━━━━━━━━━━━━━━━━\u001b[0m\u001b[37m\u001b[0m \u001b[1m8s\u001b[0m 598us/step - acc: 0.7733 - loss: 0.7641 - val_acc: 0.7812 - val_loss: 0.7216\n",
      "Epoch 164/200\n",
      "\u001b[1m13600/13600\u001b[0m \u001b[32m━━━━━━━━━━━━━━━━━━━━\u001b[0m\u001b[37m\u001b[0m \u001b[1m9s\u001b[0m 635us/step - acc: 0.7728 - loss: 0.7683 - val_acc: 0.7814 - val_loss: 0.7219\n",
      "Epoch 165/200\n",
      "\u001b[1m13600/13600\u001b[0m \u001b[32m━━━━━━━━━━━━━━━━━━━━\u001b[0m\u001b[37m\u001b[0m \u001b[1m8s\u001b[0m 602us/step - acc: 0.7729 - loss: 0.7679 - val_acc: 0.7815 - val_loss: 0.7238\n",
      "Epoch 166/200\n",
      "\u001b[1m13600/13600\u001b[0m \u001b[32m━━━━━━━━━━━━━━━━━━━━\u001b[0m\u001b[37m\u001b[0m \u001b[1m8s\u001b[0m 589us/step - acc: 0.7739 - loss: 0.7621 - val_acc: 0.7805 - val_loss: 0.7249\n",
      "Epoch 167/200\n",
      "\u001b[1m13600/13600\u001b[0m \u001b[32m━━━━━━━━━━━━━━━━━━━━\u001b[0m\u001b[37m\u001b[0m \u001b[1m8s\u001b[0m 574us/step - acc: 0.7723 - loss: 0.7670 - val_acc: 0.7816 - val_loss: 0.7244\n",
      "Epoch 168/200\n",
      "\u001b[1m13600/13600\u001b[0m \u001b[32m━━━━━━━━━━━━━━━━━━━━\u001b[0m\u001b[37m\u001b[0m \u001b[1m8s\u001b[0m 566us/step - acc: 0.7730 - loss: 0.7638 - val_acc: 0.7793 - val_loss: 0.7253\n",
      "Epoch 169/200\n",
      "\u001b[1m13600/13600\u001b[0m \u001b[32m━━━━━━━━━━━━━━━━━━━━\u001b[0m\u001b[37m\u001b[0m \u001b[1m8s\u001b[0m 571us/step - acc: 0.7729 - loss: 0.7643 - val_acc: 0.7810 - val_loss: 0.7231\n",
      "Epoch 170/200\n",
      "\u001b[1m13600/13600\u001b[0m \u001b[32m━━━━━━━━━━━━━━━━━━━━\u001b[0m\u001b[37m\u001b[0m \u001b[1m8s\u001b[0m 571us/step - acc: 0.7712 - loss: 0.7708 - val_acc: 0.7813 - val_loss: 0.7198\n",
      "Epoch 171/200\n",
      "\u001b[1m13600/13600\u001b[0m \u001b[32m━━━━━━━━━━━━━━━━━━━━\u001b[0m\u001b[37m\u001b[0m \u001b[1m8s\u001b[0m 572us/step - acc: 0.7743 - loss: 0.7603 - val_acc: 0.7806 - val_loss: 0.7220\n",
      "Epoch 172/200\n",
      "\u001b[1m13600/13600\u001b[0m \u001b[32m━━━━━━━━━━━━━━━━━━━━\u001b[0m\u001b[37m\u001b[0m \u001b[1m8s\u001b[0m 583us/step - acc: 0.7730 - loss: 0.7661 - val_acc: 0.7814 - val_loss: 0.7213\n",
      "Epoch 173/200\n",
      "\u001b[1m13600/13600\u001b[0m \u001b[32m━━━━━━━━━━━━━━━━━━━━\u001b[0m\u001b[37m\u001b[0m \u001b[1m8s\u001b[0m 585us/step - acc: 0.7723 - loss: 0.7686 - val_acc: 0.7831 - val_loss: 0.7219\n",
      "Epoch 174/200\n",
      "\u001b[1m13600/13600\u001b[0m \u001b[32m━━━━━━━━━━━━━━━━━━━━\u001b[0m\u001b[37m\u001b[0m \u001b[1m8s\u001b[0m 574us/step - acc: 0.7740 - loss: 0.7634 - val_acc: 0.7814 - val_loss: 0.7219\n",
      "Epoch 175/200\n",
      "\u001b[1m13600/13600\u001b[0m \u001b[32m━━━━━━━━━━━━━━━━━━━━\u001b[0m\u001b[37m\u001b[0m \u001b[1m8s\u001b[0m 579us/step - acc: 0.7722 - loss: 0.7681 - val_acc: 0.7811 - val_loss: 0.7234\n",
      "Epoch 176/200\n",
      "\u001b[1m13600/13600\u001b[0m \u001b[32m━━━━━━━━━━━━━━━━━━━━\u001b[0m\u001b[37m\u001b[0m \u001b[1m8s\u001b[0m 585us/step - acc: 0.7733 - loss: 0.7663 - val_acc: 0.7803 - val_loss: 0.7227\n",
      "Epoch 177/200\n",
      "\u001b[1m13600/13600\u001b[0m \u001b[32m━━━━━━━━━━━━━━━━━━━━\u001b[0m\u001b[37m\u001b[0m \u001b[1m8s\u001b[0m 588us/step - acc: 0.7720 - loss: 0.7657 - val_acc: 0.7805 - val_loss: 0.7213\n",
      "Epoch 178/200\n",
      "\u001b[1m13600/13600\u001b[0m \u001b[32m━━━━━━━━━━━━━━━━━━━━\u001b[0m\u001b[37m\u001b[0m \u001b[1m8s\u001b[0m 586us/step - acc: 0.7736 - loss: 0.7644 - val_acc: 0.7799 - val_loss: 0.7236\n",
      "Epoch 179/200\n",
      "\u001b[1m13600/13600\u001b[0m \u001b[32m━━━━━━━━━━━━━━━━━━━━\u001b[0m\u001b[37m\u001b[0m \u001b[1m8s\u001b[0m 592us/step - acc: 0.7726 - loss: 0.7647 - val_acc: 0.7822 - val_loss: 0.7227\n",
      "Epoch 180/200\n",
      "\u001b[1m13600/13600\u001b[0m \u001b[32m━━━━━━━━━━━━━━━━━━━━\u001b[0m\u001b[37m\u001b[0m \u001b[1m8s\u001b[0m 578us/step - acc: 0.7717 - loss: 0.7674 - val_acc: 0.7818 - val_loss: 0.7219\n",
      "Epoch 181/200\n",
      "\u001b[1m13600/13600\u001b[0m \u001b[32m━━━━━━━━━━━━━━━━━━━━\u001b[0m\u001b[37m\u001b[0m \u001b[1m8s\u001b[0m 565us/step - acc: 0.7735 - loss: 0.7603 - val_acc: 0.7793 - val_loss: 0.7260\n",
      "Epoch 182/200\n",
      "\u001b[1m13600/13600\u001b[0m \u001b[32m━━━━━━━━━━━━━━━━━━━━\u001b[0m\u001b[37m\u001b[0m \u001b[1m8s\u001b[0m 572us/step - acc: 0.7716 - loss: 0.7705 - val_acc: 0.7807 - val_loss: 0.7241\n",
      "Epoch 183/200\n",
      "\u001b[1m13600/13600\u001b[0m \u001b[32m━━━━━━━━━━━━━━━━━━━━\u001b[0m\u001b[37m\u001b[0m \u001b[1m8s\u001b[0m 573us/step - acc: 0.7730 - loss: 0.7652 - val_acc: 0.7826 - val_loss: 0.7201\n",
      "Epoch 184/200\n",
      "\u001b[1m13600/13600\u001b[0m \u001b[32m━━━━━━━━━━━━━━━━━━━━\u001b[0m\u001b[37m\u001b[0m \u001b[1m8s\u001b[0m 572us/step - acc: 0.7722 - loss: 0.7663 - val_acc: 0.7797 - val_loss: 0.7237\n",
      "Epoch 185/200\n",
      "\u001b[1m13600/13600\u001b[0m \u001b[32m━━━━━━━━━━━━━━━━━━━━\u001b[0m\u001b[37m\u001b[0m \u001b[1m8s\u001b[0m 574us/step - acc: 0.7719 - loss: 0.7708 - val_acc: 0.7814 - val_loss: 0.7219\n",
      "Epoch 186/200\n",
      "\u001b[1m13600/13600\u001b[0m \u001b[32m━━━━━━━━━━━━━━━━━━━━\u001b[0m\u001b[37m\u001b[0m \u001b[1m8s\u001b[0m 578us/step - acc: 0.7724 - loss: 0.7664 - val_acc: 0.7815 - val_loss: 0.7229\n",
      "Epoch 187/200\n",
      "\u001b[1m13600/13600\u001b[0m \u001b[32m━━━━━━━━━━━━━━━━━━━━\u001b[0m\u001b[37m\u001b[0m \u001b[1m8s\u001b[0m 584us/step - acc: 0.7727 - loss: 0.7662 - val_acc: 0.7790 - val_loss: 0.7237\n",
      "Epoch 188/200\n",
      "\u001b[1m13600/13600\u001b[0m \u001b[32m━━━━━━━━━━━━━━━━━━━━\u001b[0m\u001b[37m\u001b[0m \u001b[1m8s\u001b[0m 587us/step - acc: 0.7741 - loss: 0.7629 - val_acc: 0.7805 - val_loss: 0.7246\n",
      "Epoch 189/200\n",
      "\u001b[1m13600/13600\u001b[0m \u001b[32m━━━━━━━━━━━━━━━━━━━━\u001b[0m\u001b[37m\u001b[0m \u001b[1m8s\u001b[0m 588us/step - acc: 0.7731 - loss: 0.7637 - val_acc: 0.7812 - val_loss: 0.7224\n",
      "Epoch 190/200\n",
      "\u001b[1m13600/13600\u001b[0m \u001b[32m━━━━━━━━━━━━━━━━━━━━\u001b[0m\u001b[37m\u001b[0m \u001b[1m8s\u001b[0m 575us/step - acc: 0.7729 - loss: 0.7672 - val_acc: 0.7806 - val_loss: 0.7218\n",
      "Epoch 191/200\n",
      "\u001b[1m13600/13600\u001b[0m \u001b[32m━━━━━━━━━━━━━━━━━━━━\u001b[0m\u001b[37m\u001b[0m \u001b[1m8s\u001b[0m 596us/step - acc: 0.7723 - loss: 0.7692 - val_acc: 0.7799 - val_loss: 0.7253\n",
      "Epoch 192/200\n",
      "\u001b[1m13600/13600\u001b[0m \u001b[32m━━━━━━━━━━━━━━━━━━━━\u001b[0m\u001b[37m\u001b[0m \u001b[1m8s\u001b[0m 596us/step - acc: 0.7739 - loss: 0.7639 - val_acc: 0.7818 - val_loss: 0.7199\n",
      "Epoch 193/200\n",
      "\u001b[1m13600/13600\u001b[0m \u001b[32m━━━━━━━━━━━━━━━━━━━━\u001b[0m\u001b[37m\u001b[0m \u001b[1m8s\u001b[0m 593us/step - acc: 0.7723 - loss: 0.7665 - val_acc: 0.7807 - val_loss: 0.7245\n",
      "Epoch 194/200\n",
      "\u001b[1m13600/13600\u001b[0m \u001b[32m━━━━━━━━━━━━━━━━━━━━\u001b[0m\u001b[37m\u001b[0m \u001b[1m8s\u001b[0m 603us/step - acc: 0.7730 - loss: 0.7668 - val_acc: 0.7801 - val_loss: 0.7236\n",
      "Epoch 195/200\n",
      "\u001b[1m13600/13600\u001b[0m \u001b[32m━━━━━━━━━━━━━━━━━━━━\u001b[0m\u001b[37m\u001b[0m \u001b[1m8s\u001b[0m 586us/step - acc: 0.7724 - loss: 0.7695 - val_acc: 0.7808 - val_loss: 0.7241\n",
      "Epoch 196/200\n",
      "\u001b[1m13600/13600\u001b[0m \u001b[32m━━━━━━━━━━━━━━━━━━━━\u001b[0m\u001b[37m\u001b[0m \u001b[1m8s\u001b[0m 584us/step - acc: 0.7731 - loss: 0.7667 - val_acc: 0.7815 - val_loss: 0.7204\n",
      "Epoch 197/200\n",
      "\u001b[1m13600/13600\u001b[0m \u001b[32m━━━━━━━━━━━━━━━━━━━━\u001b[0m\u001b[37m\u001b[0m \u001b[1m8s\u001b[0m 583us/step - acc: 0.7739 - loss: 0.7639 - val_acc: 0.7805 - val_loss: 0.7225\n",
      "Epoch 198/200\n",
      "\u001b[1m13600/13600\u001b[0m \u001b[32m━━━━━━━━━━━━━━━━━━━━\u001b[0m\u001b[37m\u001b[0m \u001b[1m8s\u001b[0m 571us/step - acc: 0.7736 - loss: 0.7614 - val_acc: 0.7793 - val_loss: 0.7225\n",
      "Epoch 199/200\n",
      "\u001b[1m13600/13600\u001b[0m \u001b[32m━━━━━━━━━━━━━━━━━━━━\u001b[0m\u001b[37m\u001b[0m \u001b[1m8s\u001b[0m 606us/step - acc: 0.7741 - loss: 0.7656 - val_acc: 0.7820 - val_loss: 0.7220\n",
      "Epoch 200/200\n",
      "\u001b[1m13600/13600\u001b[0m \u001b[32m━━━━━━━━━━━━━━━━━━━━\u001b[0m\u001b[37m\u001b[0m \u001b[1m8s\u001b[0m 583us/step - acc: 0.7724 - loss: 0.7668 - val_acc: 0.7801 - val_loss: 0.7236\n"
     ]
    }
   ],
   "source": [
    "### Train the model\n",
    "history = model.fit(X_train,\n",
    "                    y_train,\n",
    "                    batch_size=32,\n",
    "                    epochs=200,\n",
    "                    verbose=1,\n",
    "                    validation_data=(X_val, y_val)\n",
    "                   )"
   ]
  },
  {
   "cell_type": "markdown",
   "id": "fe785364-a10d-438c-8d65-0e833745e292",
   "metadata": {},
   "source": [
    "Evaluate model"
   ]
  },
  {
   "cell_type": "code",
   "execution_count": 19,
   "id": "326cc23e-300e-4fe7-80ec-a50263541c4f",
   "metadata": {},
   "outputs": [
    {
     "data": {
      "image/png": "[encoded data removed]",
      "text/plain": [
       "<Figure size 640x480 with 1 Axes>"
      ]
     },
     "metadata": {},
     "output_type": "display_data"
    },
    {
     "data": {
      "image/png": "[encoded data removed]",
      "text/plain": [
       "<Figure size 640x480 with 1 Axes>"
      ]
     },
     "metadata": {},
     "output_type": "display_data"
    }
   ],
   "source": [
    "### Plot training and validation accuracy and loss over time\n",
    "\n",
    "# Extract accuracy and loss values (in list form) from the history\n",
    "acc = history.history['acc']\n",
    "val_acc = history.history['val_acc']\n",
    "loss = history.history['loss']\n",
    "val_loss = history.history['val_loss']\n",
    "\n",
    "# Create a list of epoch numbers\n",
    "epochs = range(1, len(acc) + 1)\n",
    "\n",
    "# Plot training and validation loss values over time\n",
    "plt.figure()\n",
    "plt.plot(epochs, loss, color='blue', marker='.', label='Training loss')\n",
    "plt.plot(epochs, val_loss, color='orange', marker='.', label='Validation loss')\n",
    "plt.title('Training and validation loss')\n",
    "plt.legend()\n",
    "\n",
    "# Plot training and validation accuracies over time\n",
    "plt.figure()\n",
    "plt.plot(epochs, acc, color='blue', marker='.', label='Training acc')\n",
    "plt.plot(epochs, val_acc, color='orange', marker='.', label='Validation acc')\n",
    "plt.title('Training and validation accuracy')\n",
    "plt.legend()\n",
    "plt.show()"
   ]
  },
  {
   "cell_type": "code",
   "execution_count": 20,
   "id": "9a4c5361-5ec8-4257-a6d3-70eb1107ab7f",
   "metadata": {},
   "outputs": [
    {
     "name": "stdout",
     "output_type": "stream",
     "text": [
      "\u001b[1m3400/3400\u001b[0m \u001b[32m━━━━━━━━━━━━━━━━━━━━\u001b[0m\u001b[37m\u001b[0m \u001b[1m1s\u001b[0m 250us/step\n",
      "Validation output shape: (108800, 15)\n",
      "Actual validation labels:\t [ 8  8  8 13  8  8  8  8  8  8  8  8  4  8 10  8  8  8  8  8  8  8 14  8\n",
      "  5  8  8  8  8  6  8  8  8  8  4  4  8  8  9  8  8  8  8  8  4  8  8  8\n",
      "  8  7]\n",
      "Predicted validation labels:\t [8 8 8 8 8 8 8 8 8 8 8 8 8 4 8 8 8 8 8 8 8 8 8 8 8 8 8 8 8 6 8 8 8 8 8 8 8\n",
      " 8 8 8 8 8 8 8 8 8 8 8 8 4]\n",
      "\n",
      " ---> Predicted labels\n",
      "|\n",
      "v Actual labels\n",
      "\t\t\t(0)    (1)    (2)    (3)    (4)    (5)    (6)    (7)    (8)    (9)    (10)   (11)   (12)   (13)   (14)  \n",
      "           0 (0):  [   399      0      2      1     84      8      0     13     24      7      2      2     12      4      3]\n",
      "           1 (1):  [     0     22      0      0      0      1      0      0      0      1      0      0      2      3      0]\n",
      "           2 (2):  [     0      0     14      0      2      0      0      1      0      0      0      0      0      0      0]\n",
      "           3 (3):  [     0      0      0     75     20      0      1      0      4      0      0      0      2      0      0]\n",
      "           4 (4):  [   392      3     51      9   3522     53     90    153   1153    116     32      7     47    115     71]\n",
      "           5 (5):  [     6      3      0      0     26    134     16      4     24     26      0     10      3     65      2]\n",
      "           6 (6):  [    24      2      2      0     51     22    622    100    109     18      7     10      4     50      5]\n",
      "           7 (7):  [     6      2      2      0     38      2     20    210     23      0      0      1      3      1      3]\n",
      "           8 (8):  [   818     59     78     92   8456   2056   1095   1189  79185    602    117   2138    144   2244    767]\n",
      "           9 (9):  [    23      1      0      2     30     43     14      3     23    286     16      3      7     46      1]\n",
      "          10 (10):  [     0      0      0      0      0      0      0      0      0      0      0      0      0      0      0]\n",
      "          11 (11):  [     1      0      0      0      0      0      0      0      0      0      0      0      0      1      0]\n",
      "          12 (12):  [     0      0      0      0      0      0      0      0      0      1      0      0      8      0      0]\n",
      "          13 (13):  [     7     13      2      0     83    181     38     11     95    186     22     19      5    349      6]\n",
      "          14 (14):  [     0      0      0      0      2      1      0      0      1      0      0      0      0      2     49]\n"
     ]
    }
   ],
   "source": [
    "### Create confusion matrix from validation set\n",
    "\n",
    "# Find predictions from all validation samples\n",
    "y_pred = model.predict(X_val)\n",
    "print(\"Validation output shape:\", y_pred.shape)\n",
    "\n",
    "# Convert actual and predicted validation one-hot encoding to numerical labels\n",
    "y_val_trans = np.argmax(y_val, axis=1)\n",
    "y_pred_trans = np.argmax(y_pred, axis=1)\n",
    "\n",
    "# Print some values from actual and predicted validation sets (first 50 samples)\n",
    "print(\"Actual validation labels:\\t\", y_val_trans[:50])\n",
    "print(\"Predicted validation labels:\\t\", y_pred_trans[:50])\n",
    "\n",
    "# Compute confusion matrix (note: we need to transpose SKLearn matrix to make it match Edge Impulse)\n",
    "cm = confusion_matrix(y_val_trans, y_pred_trans)\n",
    "cm = np.transpose(cm)\n",
    "\n",
    "labels = range(len(gdf['uso_suelo'].unique()))\n",
    "\n",
    "# Print confusion matrix\n",
    "print()\n",
    "print(\" ---> Predicted labels\")\n",
    "print(\"|\")\n",
    "print(\"v Actual labels\")\n",
    "print(\"\\t\\t\\t\" + ' '.join(\"{!s:6}\".format('(' + str(i) + ')') for i in range(num_classes)))\n",
    "for row in range(num_classes):\n",
    "  print(\"{:>12} ({}):  [{}]\".format(labels[row], row, ' '.join(\"{:6}\".format(i) for i in cm[row])))\n",
    "    "
   ]
  },
  {
   "cell_type": "markdown",
   "id": "4d296dd7-70f5-40af-8ae0-4f634a3209f1",
   "metadata": {},
   "source": [
    "## Apply model to the full dataset"
   ]
  },
  {
   "cell_type": "markdown",
   "id": "8be37c16-612e-40bd-a52c-5c29f82d7a49",
   "metadata": {},
   "source": [
    "Predict landuse for every element"
   ]
  },
  {
   "cell_type": "code",
   "execution_count": 21,
   "id": "c0a037f4-092d-48ad-978e-153eab95c3f0",
   "metadata": {},
   "outputs": [
    {
     "name": "stdout",
     "output_type": "stream",
     "text": [
      "\u001b[1m21250/21250\u001b[0m \u001b[32m━━━━━━━━━━━━━━━━━━━━\u001b[0m\u001b[37m\u001b[0m \u001b[1m6s\u001b[0m 260us/step\n"
     ]
    }
   ],
   "source": [
    "y_hat = model.predict(X_scaled)"
   ]
  },
  {
   "cell_type": "markdown",
   "id": "b69dc84b-22a3-4948-a79c-b4007dcab56b",
   "metadata": {},
   "source": [
    "Create prediction variables"
   ]
  },
  {
   "cell_type": "code",
   "execution_count": 22,
   "id": "6b5f3d58-8f71-451f-a172-fd55b84ac5a8",
   "metadata": {},
   "outputs": [
    {
     "data": {
      "text/plain": [
       "['pct_pred_agropecuario',\n",
       " 'pct_pred_alojamiento_temporal',\n",
       " 'pct_pred_area_libre',\n",
       " 'pct_pred_area_natural',\n",
       " 'pct_pred_baldio',\n",
       " 'pct_pred_comercio',\n",
       " 'pct_pred_equipamiento',\n",
       " 'pct_pred_espacio_verde',\n",
       " 'pct_pred_habitacional',\n",
       " 'pct_pred_industria',\n",
       " 'pct_pred_infraestructura',\n",
       " 'pct_pred_mixto',\n",
       " 'pct_pred_otros',\n",
       " 'pct_pred_servicio',\n",
       " 'pct_pred_sin_dato']"
      ]
     },
     "execution_count": 22,
     "metadata": {},
     "output_type": "execute_result"
    }
   ],
   "source": [
    "category_list = ['agropecuario','alojamiento_temporal',\n",
    "                 'area_libre','area_natural','baldio','comercio',\n",
    "                'equipamiento','espacio_verde','habitacional',\n",
    "                'industria','infraestructura','mixto','otros',\n",
    "                 'servicio','sin_dato']\n",
    "\n",
    "prefix = 'pct_pred_'\n",
    "\n",
    "category_list = [prefix+cl for cl in category_list]\n",
    "category_list"
   ]
  },
  {
   "cell_type": "code",
   "execution_count": 23,
   "id": "c05c7649-5f94-4e02-83dd-ae0a3009c8a7",
   "metadata": {},
   "outputs": [
    {
     "name": "stdout",
     "output_type": "stream",
     "text": [
      "(680000, 69)\n"
     ]
    },
    {
     "data": {
      "text/html": [
       "<div>\n",
       "<style scoped>\n",
       "    .dataframe tbody tr th:only-of-type {\n",
       "        vertical-align: middle;\n",
       "    }\n",
       "\n",
       "    .dataframe tbody tr th {\n",
       "        vertical-align: top;\n",
       "    }\n",
       "\n",
       "    .dataframe thead th {\n",
       "        text-align: right;\n",
       "    }\n",
       "</style>\n",
       "<table border=\"1\" class=\"dataframe\">\n",
       "  <thead>\n",
       "    <tr style=\"text-align: right;\">\n",
       "      <th></th>\n",
       "      <th>fid</th>\n",
       "      <th>uso_suelo</th>\n",
       "      <th>area_m2</th>\n",
       "      <th>full_plus_code</th>\n",
       "      <th>CVEGEO</th>\n",
       "      <th>bld_area_m2</th>\n",
       "      <th>block_area_m2</th>\n",
       "      <th>pred_area_m2</th>\n",
       "      <th>pred_area_pct</th>\n",
       "      <th>bld_pred_area_pct</th>\n",
       "      <th>...</th>\n",
       "      <th>pct_pred_comercio</th>\n",
       "      <th>pct_pred_equipamiento</th>\n",
       "      <th>pct_pred_espacio_verde</th>\n",
       "      <th>pct_pred_habitacional</th>\n",
       "      <th>pct_pred_industria</th>\n",
       "      <th>pct_pred_infraestructura</th>\n",
       "      <th>pct_pred_mixto</th>\n",
       "      <th>pct_pred_otros</th>\n",
       "      <th>pct_pred_servicio</th>\n",
       "      <th>pct_pred_sin_dato</th>\n",
       "    </tr>\n",
       "  </thead>\n",
       "  <tbody>\n",
       "    <tr>\n",
       "      <th>0</th>\n",
       "      <td>0</td>\n",
       "      <td>Sin dato</td>\n",
       "      <td>67.279056</td>\n",
       "      <td>75GRMGQW+89PG</td>\n",
       "      <td>1412000011206018</td>\n",
       "      <td>12.438638</td>\n",
       "      <td>278416.454431</td>\n",
       "      <td>67.279056</td>\n",
       "      <td>0.000242</td>\n",
       "      <td>0.184881</td>\n",
       "      <td>...</td>\n",
       "      <td>0.048883</td>\n",
       "      <td>0.015125</td>\n",
       "      <td>0.009697</td>\n",
       "      <td>0.124909</td>\n",
       "      <td>0.037659</td>\n",
       "      <td>0.000532</td>\n",
       "      <td>0.000438</td>\n",
       "      <td>0.000965</td>\n",
       "      <td>0.131072</td>\n",
       "      <td>0.474832</td>\n",
       "    </tr>\n",
       "    <tr>\n",
       "      <th>1</th>\n",
       "      <td>1</td>\n",
       "      <td>Sin dato</td>\n",
       "      <td>45.355545</td>\n",
       "      <td>75GRMGQW+8CFP</td>\n",
       "      <td>1412000011206018</td>\n",
       "      <td>4.482118</td>\n",
       "      <td>278416.454431</td>\n",
       "      <td>45.355545</td>\n",
       "      <td>0.000163</td>\n",
       "      <td>0.098822</td>\n",
       "      <td>...</td>\n",
       "      <td>0.044894</td>\n",
       "      <td>0.039779</td>\n",
       "      <td>0.014653</td>\n",
       "      <td>0.224876</td>\n",
       "      <td>0.049750</td>\n",
       "      <td>0.000727</td>\n",
       "      <td>0.000704</td>\n",
       "      <td>0.001601</td>\n",
       "      <td>0.147022</td>\n",
       "      <td>0.363340</td>\n",
       "    </tr>\n",
       "    <tr>\n",
       "      <th>2</th>\n",
       "      <td>2</td>\n",
       "      <td>Sin dato</td>\n",
       "      <td>18.488100</td>\n",
       "      <td>75GRMGQW+8CHQ</td>\n",
       "      <td>1412000011206018</td>\n",
       "      <td>4.482118</td>\n",
       "      <td>278416.454431</td>\n",
       "      <td>18.488100</td>\n",
       "      <td>0.000066</td>\n",
       "      <td>0.242433</td>\n",
       "      <td>...</td>\n",
       "      <td>0.035207</td>\n",
       "      <td>0.075801</td>\n",
       "      <td>0.021603</td>\n",
       "      <td>0.356099</td>\n",
       "      <td>0.043229</td>\n",
       "      <td>0.000845</td>\n",
       "      <td>0.000879</td>\n",
       "      <td>0.002238</td>\n",
       "      <td>0.132652</td>\n",
       "      <td>0.234027</td>\n",
       "    </tr>\n",
       "    <tr>\n",
       "      <th>3</th>\n",
       "      <td>3</td>\n",
       "      <td>Sin dato</td>\n",
       "      <td>4.936089</td>\n",
       "      <td>75GRMGQW+8GCG</td>\n",
       "      <td>1412000011206018</td>\n",
       "      <td>42.992618</td>\n",
       "      <td>278416.454431</td>\n",
       "      <td>4.936089</td>\n",
       "      <td>0.000018</td>\n",
       "      <td>8.709855</td>\n",
       "      <td>...</td>\n",
       "      <td>0.035848</td>\n",
       "      <td>0.077465</td>\n",
       "      <td>0.021523</td>\n",
       "      <td>0.371731</td>\n",
       "      <td>0.043021</td>\n",
       "      <td>0.000862</td>\n",
       "      <td>0.001012</td>\n",
       "      <td>0.002396</td>\n",
       "      <td>0.132439</td>\n",
       "      <td>0.217409</td>\n",
       "    </tr>\n",
       "  </tbody>\n",
       "</table>\n",
       "<p>4 rows × 69 columns</p>\n",
       "</div>"
      ],
      "text/plain": [
       "   fid uso_suelo    area_m2 full_plus_code            CVEGEO  bld_area_m2  \\\n",
       "0    0  Sin dato  67.279056  75GRMGQW+89PG  1412000011206018    12.438638   \n",
       "1    1  Sin dato  45.355545  75GRMGQW+8CFP  1412000011206018     4.482118   \n",
       "2    2  Sin dato  18.488100  75GRMGQW+8CHQ  1412000011206018     4.482118   \n",
       "3    3  Sin dato   4.936089  75GRMGQW+8GCG  1412000011206018    42.992618   \n",
       "\n",
       "   block_area_m2  pred_area_m2  pred_area_pct  bld_pred_area_pct  ...  \\\n",
       "0  278416.454431     67.279056       0.000242           0.184881  ...   \n",
       "1  278416.454431     45.355545       0.000163           0.098822  ...   \n",
       "2  278416.454431     18.488100       0.000066           0.242433  ...   \n",
       "3  278416.454431      4.936089       0.000018           8.709855  ...   \n",
       "\n",
       "   pct_pred_comercio  pct_pred_equipamiento  pct_pred_espacio_verde  \\\n",
       "0           0.048883               0.015125                0.009697   \n",
       "1           0.044894               0.039779                0.014653   \n",
       "2           0.035207               0.075801                0.021603   \n",
       "3           0.035848               0.077465                0.021523   \n",
       "\n",
       "   pct_pred_habitacional  pct_pred_industria  pct_pred_infraestructura  \\\n",
       "0               0.124909            0.037659                  0.000532   \n",
       "1               0.224876            0.049750                  0.000727   \n",
       "2               0.356099            0.043229                  0.000845   \n",
       "3               0.371731            0.043021                  0.000862   \n",
       "\n",
       "   pct_pred_mixto  pct_pred_otros  pct_pred_servicio  pct_pred_sin_dato  \n",
       "0        0.000438        0.000965           0.131072           0.474832  \n",
       "1        0.000704        0.001601           0.147022           0.363340  \n",
       "2        0.000879        0.002238           0.132652           0.234027  \n",
       "3        0.001012        0.002396           0.132439           0.217409  \n",
       "\n",
       "[4 rows x 69 columns]"
      ]
     },
     "execution_count": 23,
     "metadata": {},
     "output_type": "execute_result"
    }
   ],
   "source": [
    "gdf[category_list] = y_hat\n",
    "print(gdf.shape)\n",
    "gdf.head(4)"
   ]
  },
  {
   "cell_type": "markdown",
   "id": "0b261529-9bc7-4797-96c3-11250d8a057f",
   "metadata": {},
   "source": [
    "Assign data to polygons"
   ]
  },
  {
   "cell_type": "code",
   "execution_count": null,
   "id": "531318ae-91e3-4725-a6aa-695604f5cc84",
   "metadata": {},
   "outputs": [],
   "source": [
    "# gdf['pred'] = y_hat.argmax(axis=1)"
   ]
  },
  {
   "cell_type": "markdown",
   "id": "56532a5d-3cf3-4124-a7d5-f3aa870157ba",
   "metadata": {},
   "source": [
    "### Save model"
   ]
  },
  {
   "cell_type": "code",
   "execution_count": null,
   "id": "03fcb381-7f06-4f35-8a53-e1acf40d37f2",
   "metadata": {},
   "outputs": [],
   "source": [
    "import pickle"
   ]
  },
  {
   "cell_type": "code",
   "execution_count": 31,
   "id": "a644f589-1616-4021-9bf9-324411c2b818",
   "metadata": {},
   "outputs": [],
   "source": [
    "model_name = 'landuse_nn_ModelSmote'\n",
    "# pickle.dump(model, open(f\"../../data/processed/prediccion_uso_suelo/complete_model/{model_name}.pkl\", \"wb\"))"
   ]
  },
  {
   "cell_type": "markdown",
   "id": "d5231504-e17c-4156-a19c-091e8269682c",
   "metadata": {},
   "source": [
    "### Save output"
   ]
  },
  {
   "cell_type": "code",
   "execution_count": 32,
   "id": "60141096-5433-421e-8f2f-4ad293ac4d6b",
   "metadata": {},
   "outputs": [],
   "source": [
    "# gdf.to_file('../../data/processed/prediccion_uso_suelo/complete_model/area_of_prediction_primera_pred.gpkg')"
   ]
  },
  {
   "cell_type": "code",
   "execution_count": 24,
   "id": "1cb336fd-8ac2-47ad-bc50-3778f3b88e07",
   "metadata": {},
   "outputs": [],
   "source": [
    "gdf.to_file('../../data/processed/prediccion_uso_suelo/complete_model/area_of_prediction_primera_pred_tmp.gpkg')"
   ]
  },
  {
   "cell_type": "code",
   "execution_count": null,
   "id": "11691d38-33b4-4f25-9341-47e8c4fb4bb0",
   "metadata": {},
   "outputs": [],
   "source": []
  }
 ],
 "metadata": {
  "kernelspec": {
   "display_name": "Python 3 (ipykernel)",
   "language": "python",
   "name": "python3"
  },
  "language_info": {
   "codemirror_mode": {
    "name": "ipython",
    "version": 3
   },
   "file_extension": ".py",
   "mimetype": "text/x-python",
   "name": "python",
   "nbconvert_exporter": "python",
   "pygments_lexer": "ipython3",
   "version": "3.11.11"
  }
 },
 "nbformat": 4,
 "nbformat_minor": 5
}
