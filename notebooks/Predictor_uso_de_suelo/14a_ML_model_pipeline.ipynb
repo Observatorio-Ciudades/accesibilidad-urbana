{
 "cells": [
  {
   "cell_type": "markdown",
   "id": "72c6c7a5-86d6-4770-807b-b3686944267c",
   "metadata": {},
   "source": [
    "# Landuse machine learning model -test-"
   ]
  },
  {
   "cell_type": "markdown",
   "id": "b6b25ea6-6203-41bf-ad5a-02b83d15cf19",
   "metadata": {},
   "source": [
    "This notebook integrates the first steps towards the development of a machine learning model for urban landuse prediction."
   ]
  },
  {
   "cell_type": "markdown",
   "id": "89a9447c-5c11-4cb4-9dac-f54cab2d7fe9",
   "metadata": {},
   "source": [
    "## Import libraries"
   ]
  },
  {
   "cell_type": "code",
   "execution_count": 1,
   "id": "4bfed30a-cc4c-467d-8775-eab5f4395250",
   "metadata": {
    "scrolled": true
   },
   "outputs": [
    {
     "name": "stderr",
     "output_type": "stream",
     "text": [
      "2025-07-24 07:04:56.214368: I tensorflow/core/util/port.cc:153] oneDNN custom operations are on. You may see slightly different numerical results due to floating-point round-off errors from different computation orders. To turn them off, set the environment variable `TF_ENABLE_ONEDNN_OPTS=0`.\n",
      "2025-07-24 07:04:56.269699: E external/local_xla/xla/stream_executor/cuda/cuda_fft.cc:467] Unable to register cuFFT factory: Attempting to register factory for plugin cuFFT when one has already been registered\n",
      "WARNING: All log messages before absl::InitializeLog() is called are written to STDERR\n",
      "E0000 00:00:1753362296.300764  440730 cuda_dnn.cc:8579] Unable to register cuDNN factory: Attempting to register factory for plugin cuDNN when one has already been registered\n",
      "E0000 00:00:1753362296.308831  440730 cuda_blas.cc:1407] Unable to register cuBLAS factory: Attempting to register factory for plugin cuBLAS when one has already been registered\n",
      "W0000 00:00:1753362296.354097  440730 computation_placer.cc:177] computation placer already registered. Please check linkage and avoid linking the same target more than once.\n",
      "W0000 00:00:1753362296.354115  440730 computation_placer.cc:177] computation placer already registered. Please check linkage and avoid linking the same target more than once.\n",
      "W0000 00:00:1753362296.354116  440730 computation_placer.cc:177] computation placer already registered. Please check linkage and avoid linking the same target more than once.\n",
      "W0000 00:00:1753362296.354116  440730 computation_placer.cc:177] computation placer already registered. Please check linkage and avoid linking the same target more than once.\n",
      "2025-07-24 07:04:56.357227: I tensorflow/core/platform/cpu_feature_guard.cc:210] This TensorFlow binary is optimized to use available CPU instructions in performance-critical operations.\n",
      "To enable the following instructions: AVX2 AVX512F AVX512_VNNI AVX512_BF16 AVX_VNNI FMA, in other operations, rebuild TensorFlow with the appropriate compiler flags.\n"
     ]
    }
   ],
   "source": [
    "import geopandas as gpd\n",
    "import pandas as pd\n",
    "import numpy as np\n",
    "\n",
    "import matplotlib.pyplot as plt\n",
    "import seaborn as sns\n",
    "import scipy\n",
    "\n",
    "import aup\n",
    "\n",
    "from sklearn.model_selection import train_test_split\n",
    "from sklearn.preprocessing import StandardScaler\n",
    "from imblearn.over_sampling import SMOTE\n",
    "from sklearn.decomposition import PCA\n",
    "\n",
    "\n",
    "\n",
    "from keras import utils                                   # tools for creating one-hot encoding\n",
    "from keras.models import Sequential                       # Type of model we wish to use\n",
    "from keras.layers import Dense, Dropout, Activation  \n",
    "from sklearn.preprocessing import LabelEncoder\n",
    "# from scikeras.wrappers import KerasClassifier, KerasRegressor\n",
    "from keras import utils  \n",
    "from sklearn.model_selection import cross_val_score\n",
    "from sklearn.model_selection import KFold\n",
    "from sklearn.preprocessing import LabelEncoder\n",
    "# from sklearn.pipeline import Pipeline\n",
    "\n",
    "from sklearn.metrics import r2_score, mean_squared_error, mean_absolute_error,confusion_matrix"
   ]
  },
  {
   "cell_type": "markdown",
   "id": "e7a8c8ea-516f-4b4f-8df5-f17a8f17e6ec",
   "metadata": {},
   "source": [
    "## Data for model training"
   ]
  },
  {
   "cell_type": "code",
   "execution_count": 2,
   "id": "bbef554c-59c0-4fba-b604-82ad1d0274c9",
   "metadata": {},
   "outputs": [
    {
     "name": "stdout",
     "output_type": "stream",
     "text": [
      "(680000, 60)\n"
     ]
    },
    {
     "data": {
      "text/html": [
       "<div>\n",
       "<style scoped>\n",
       "    .dataframe tbody tr th:only-of-type {\n",
       "        vertical-align: middle;\n",
       "    }\n",
       "\n",
       "    .dataframe tbody tr th {\n",
       "        vertical-align: top;\n",
       "    }\n",
       "\n",
       "    .dataframe thead th {\n",
       "        text-align: right;\n",
       "    }\n",
       "</style>\n",
       "<table border=\"1\" class=\"dataframe\">\n",
       "  <thead>\n",
       "    <tr style=\"text-align: right;\">\n",
       "      <th></th>\n",
       "      <th>uso_suelo</th>\n",
       "      <th>area_m2</th>\n",
       "      <th>full_plus_code</th>\n",
       "      <th>CVEGEO</th>\n",
       "      <th>bld_area_m2</th>\n",
       "      <th>block_area_m2</th>\n",
       "      <th>pred_area_m2</th>\n",
       "      <th>pred_area_pct</th>\n",
       "      <th>bld_pred_area_pct</th>\n",
       "      <th>pobtot</th>\n",
       "      <th>...</th>\n",
       "      <th>denue_primaria_15min</th>\n",
       "      <th>denue_abarrotes</th>\n",
       "      <th>denue_abarrotes_15min</th>\n",
       "      <th>denue_peluqueria</th>\n",
       "      <th>denue_peluqueria_15min</th>\n",
       "      <th>denue_lavanderia</th>\n",
       "      <th>denue_lavanderia_15min</th>\n",
       "      <th>clues_primer_nivel</th>\n",
       "      <th>clues_primer_nivel_15min</th>\n",
       "      <th>geometry</th>\n",
       "    </tr>\n",
       "  </thead>\n",
       "  <tbody>\n",
       "    <tr>\n",
       "      <th>0</th>\n",
       "      <td>Sin dato</td>\n",
       "      <td>67.279056</td>\n",
       "      <td>75GRMGQW+89PG</td>\n",
       "      <td>1412000011206018</td>\n",
       "      <td>12.438638</td>\n",
       "      <td>278416.454431</td>\n",
       "      <td>67.279056</td>\n",
       "      <td>0.000242</td>\n",
       "      <td>0.184881</td>\n",
       "      <td>0</td>\n",
       "      <td>...</td>\n",
       "      <td>0.688413</td>\n",
       "      <td>11.817491</td>\n",
       "      <td>3.199180</td>\n",
       "      <td>12.878340</td>\n",
       "      <td>3.440951</td>\n",
       "      <td>13.706626</td>\n",
       "      <td>1.476592</td>\n",
       "      <td>18.913284</td>\n",
       "      <td>0.358167</td>\n",
       "      <td>MULTIPOLYGON (((2349152.724 965335.704, 234914...</td>\n",
       "    </tr>\n",
       "    <tr>\n",
       "      <th>1</th>\n",
       "      <td>Sin dato</td>\n",
       "      <td>45.355545</td>\n",
       "      <td>75GRMGQW+8CFP</td>\n",
       "      <td>1412000011206018</td>\n",
       "      <td>4.482118</td>\n",
       "      <td>278416.454431</td>\n",
       "      <td>45.355545</td>\n",
       "      <td>0.000163</td>\n",
       "      <td>0.098822</td>\n",
       "      <td>0</td>\n",
       "      <td>...</td>\n",
       "      <td>0.890523</td>\n",
       "      <td>11.070963</td>\n",
       "      <td>3.913038</td>\n",
       "      <td>12.435124</td>\n",
       "      <td>4.003971</td>\n",
       "      <td>13.505759</td>\n",
       "      <td>1.676774</td>\n",
       "      <td>16.916017</td>\n",
       "      <td>0.468920</td>\n",
       "      <td>MULTIPOLYGON (((2349168.91 965335.176, 2349157...</td>\n",
       "    </tr>\n",
       "  </tbody>\n",
       "</table>\n",
       "<p>2 rows × 60 columns</p>\n",
       "</div>"
      ],
      "text/plain": [
       "  uso_suelo    area_m2 full_plus_code            CVEGEO  bld_area_m2  \\\n",
       "0  Sin dato  67.279056  75GRMGQW+89PG  1412000011206018    12.438638   \n",
       "1  Sin dato  45.355545  75GRMGQW+8CFP  1412000011206018     4.482118   \n",
       "\n",
       "   block_area_m2  pred_area_m2  pred_area_pct  bld_pred_area_pct  pobtot  ...  \\\n",
       "0  278416.454431     67.279056       0.000242           0.184881       0  ...   \n",
       "1  278416.454431     45.355545       0.000163           0.098822       0  ...   \n",
       "\n",
       "   denue_primaria_15min  denue_abarrotes  denue_abarrotes_15min  \\\n",
       "0              0.688413        11.817491               3.199180   \n",
       "1              0.890523        11.070963               3.913038   \n",
       "\n",
       "   denue_peluqueria  denue_peluqueria_15min  denue_lavanderia  \\\n",
       "0         12.878340                3.440951         13.706626   \n",
       "1         12.435124                4.003971         13.505759   \n",
       "\n",
       "   denue_lavanderia_15min  clues_primer_nivel  clues_primer_nivel_15min  \\\n",
       "0                1.476592           18.913284                  0.358167   \n",
       "1                1.676774           16.916017                  0.468920   \n",
       "\n",
       "                                            geometry  \n",
       "0  MULTIPOLYGON (((2349152.724 965335.704, 234914...  \n",
       "1  MULTIPOLYGON (((2349168.91 965335.176, 2349157...  \n",
       "\n",
       "[2 rows x 60 columns]"
      ]
     },
     "execution_count": 2,
     "metadata": {},
     "output_type": "execute_result"
    }
   ],
   "source": [
    "gdf = gpd.read_file('../../data/processed/prediccion_uso_suelo/complete_model/area_of_prediction_prox.gpkg')\n",
    "print(gdf.shape)\n",
    "gdf.head(2)"
   ]
  },
  {
   "cell_type": "code",
   "execution_count": 3,
   "id": "a0845b46-a724-422c-b86b-b7afa89e6cb1",
   "metadata": {},
   "outputs": [],
   "source": [
    "if 'fid' not in gdf.columns:\n",
    "    gdf = gdf.reset_index().rename(columns={'index':'fid'})"
   ]
  },
  {
   "cell_type": "code",
   "execution_count": 4,
   "id": "e6ba8d67-9bb4-4ebc-819b-98b4161becef",
   "metadata": {},
   "outputs": [
    {
     "data": {
      "text/plain": [
       "Index(['fid', 'uso_suelo', 'area_m2', 'full_plus_code', 'CVEGEO',\n",
       "       'bld_area_m2', 'block_area_m2', 'pred_area_m2', 'pred_area_pct',\n",
       "       'bld_pred_area_pct', 'pobtot', 'cultural_recreativo', 'servicios',\n",
       "       'comercio', 'salud', 'educacion', 'gobierno', 'industria',\n",
       "       'area_m2_tot', 'habitacional', 'uso_tot', 'pct_habitacional',\n",
       "       'pct_cultural_recreativo', 'pct_servicios', 'pct_comercio', 'pct_salud',\n",
       "       'pct_educacion', 'pct_gobierno', 'pct_industria',\n",
       "       'temperature_mean_diff', 'ndvi_mean', 'ndmi_diff',\n",
       "       'residential_distance', 'primary_distance', 'service_distance',\n",
       "       'track_distance', 'path_distance', 'tertiary_distance',\n",
       "       'living_street_distance', 'footway_distance', 'cycleway_distance',\n",
       "       'secondary_distance', 'steps_distance', 'pedestrian_distance',\n",
       "       'trunk_distance', 'unclassified_distance', 'motorway_distance',\n",
       "       'corridor_distance', 'bridleway_distance', 'residential_distance_y',\n",
       "       'denue_primaria', 'denue_primaria_15min', 'denue_abarrotes',\n",
       "       'denue_abarrotes_15min', 'denue_peluqueria', 'denue_peluqueria_15min',\n",
       "       'denue_lavanderia', 'denue_lavanderia_15min', 'clues_primer_nivel',\n",
       "       'clues_primer_nivel_15min', 'geometry'],\n",
       "      dtype='object')"
      ]
     },
     "execution_count": 4,
     "metadata": {},
     "output_type": "execute_result"
    }
   ],
   "source": [
    "gdf.columns"
   ]
  },
  {
   "cell_type": "markdown",
   "id": "4c867dd3-eed8-4f39-894f-08dbc0f11266",
   "metadata": {},
   "source": [
    "## Machine learning model"
   ]
  },
  {
   "cell_type": "markdown",
   "id": "46e56e8a-cf6a-4903-b377-3d533ee14f36",
   "metadata": {},
   "source": [
    "### Data preprocessing"
   ]
  },
  {
   "cell_type": "markdown",
   "id": "404fffb4-0dae-4a6d-b803-8a59e8d6f38a",
   "metadata": {},
   "source": [
    "Divide X and Y data"
   ]
  },
  {
   "cell_type": "code",
   "execution_count": 5,
   "id": "fa4380e9-357d-4e00-9769-40c8c0cebc41",
   "metadata": {},
   "outputs": [],
   "source": [
    "X = gdf[['area_m2','bld_area_m2','block_area_m2',\n",
    "    'pred_area_m2', 'pred_area_pct', 'bld_pred_area_pct',\n",
    "    'uso_tot','pobtot','pct_habitacional', 'pct_cultural_recreativo',\n",
    "    'pct_servicios', 'pct_comercio', 'pct_salud', 'pct_educacion',\n",
    "    'pct_gobierno', 'pct_industria',\n",
    "    'temperature_mean_diff','ndvi_mean','ndmi_diff',\n",
    "    'tertiary_distance','residential_distance', 'secondary_distance', \n",
    "    'footway_distance','path_distance', 'service_distance',\n",
    "    'living_street_distance','primary_distance', 'trunk_distance', \n",
    "    'pedestrian_distance','cycleway_distance', 'unclassified_distance', \n",
    "    'motorway_distance','steps_distance',\n",
    "    'denue_primaria', 'denue_primaria_15min',\n",
    "    'denue_abarrotes', 'denue_abarrotes_15min', 'denue_peluqueria',\n",
    "    'denue_peluqueria_15min', 'denue_lavanderia', 'denue_lavanderia_15min',\n",
    "    'clues_primer_nivel', 'clues_primer_nivel_15min'\n",
    "    ]].to_numpy()\n",
    "\n",
    "Y = gdf[['uso_suelo']].to_numpy()\n",
    "Y = np.reshape(Y, shape=(Y.shape[0],))"
   ]
  },
  {
   "cell_type": "markdown",
   "id": "df1e46b8-1eaa-44d7-900c-2a6f768a90b5",
   "metadata": {},
   "source": [
    "Standarize and encode data"
   ]
  },
  {
   "cell_type": "code",
   "execution_count": 6,
   "id": "3f06d04f-a832-4c05-9a08-9f0e616b444f",
   "metadata": {},
   "outputs": [],
   "source": [
    "scaler = StandardScaler()\n",
    "X_scaled = scaler.fit_transform(X)\n",
    "\n",
    "encoder = LabelEncoder()\n",
    "encoder.fit(Y)\n",
    "encoded_Y = encoder.transform(Y)"
   ]
  },
  {
   "cell_type": "markdown",
   "id": "9dbfb3d4-6910-46c5-99cf-4dbbf5e88c9b",
   "metadata": {},
   "source": [
    "Divide training, validation and testing data"
   ]
  },
  {
   "cell_type": "code",
   "execution_count": 7,
   "id": "f9797b9d-ac16-4aaa-8ea3-c3091ea21ee8",
   "metadata": {},
   "outputs": [],
   "source": [
    "X_model, X_test, y_model, y_test = (train_test_split(X_scaled, encoded_Y, test_size=0.2, random_state=0))"
   ]
  },
  {
   "cell_type": "code",
   "execution_count": 8,
   "id": "3cc9fb5c-b1c7-4ff5-8b03-911be6b6945c",
   "metadata": {},
   "outputs": [],
   "source": [
    "smote = SMOTE()  \n",
    "X_resampled, y_resampled = smote.fit_resample(X_model, y_model)  "
   ]
  },
  {
   "cell_type": "code",
   "execution_count": 29,
   "id": "47bccdc0-6859-416f-951f-96474f6877e5",
   "metadata": {},
   "outputs": [],
   "source": [
    "X_train, X_val, y_train, y_val = (train_test_split(X_resampled, y_resampled, test_size=0.2, random_state=0))\n",
    "# X_train, X_val, y_train, y_val = (train_test_split(X_model, y_model, test_size=0.2, random_state=0))"
   ]
  },
  {
   "cell_type": "markdown",
   "id": "2c7831e0-c32a-43d9-8d12-48376bbaa159",
   "metadata": {},
   "source": [
    "Y data to categorical"
   ]
  },
  {
   "cell_type": "code",
   "execution_count": 30,
   "id": "1096d345-b301-4f9b-9f9c-f0c03151b510",
   "metadata": {},
   "outputs": [],
   "source": [
    "# encode class values as integers\n",
    "num_classes = len(gdf.uso_suelo.unique())\n",
    "\n",
    "# convert integers to dummy variables (i.e. one hot encoded)\n",
    "y_train = utils.to_categorical(y_train, num_classes)\n",
    "\n",
    "# convert integers to dummy variables (i.e. one hot encoded)\n",
    "y_val = utils.to_categorical(y_val, num_classes)\n",
    "\n",
    "# convert integers to dummy variables (i.e. one hot encoded)\n",
    "y_test = utils.to_categorical(y_test, num_classes)"
   ]
  },
  {
   "cell_type": "markdown",
   "id": "cf34f006-a5f2-40f7-84b5-6fe5fa00a520",
   "metadata": {},
   "source": [
    "### Model construction -- Classification Neural network"
   ]
  },
  {
   "cell_type": "markdown",
   "id": "fe8bf42a-4c24-4006-8e96-4c27a480a4ba",
   "metadata": {},
   "source": [
    "Model parameters"
   ]
  },
  {
   "cell_type": "code",
   "execution_count": 31,
   "id": "9993a00b-b33e-4a12-b5d9-b2452f27f248",
   "metadata": {},
   "outputs": [],
   "source": [
    "input_shape = (X_train.shape[1],)"
   ]
  },
  {
   "cell_type": "code",
   "execution_count": 32,
   "id": "043870aa-55dc-4e8d-a224-3d949b3a0a30",
   "metadata": {},
   "outputs": [
    {
     "name": "stderr",
     "output_type": "stream",
     "text": [
      "/home/edgaregurrola/.cache/pypoetry/virtualenvs/aup-qDsIK5d5-py3.11/lib/python3.11/site-packages/keras/src/layers/core/dense.py:87: UserWarning: Do not pass an `input_shape`/`input_dim` argument to a layer. When using Sequential models, prefer using an `Input(shape)` object as the first layer in the model instead.\n",
      "  super().__init__(activity_regularizer=activity_regularizer, **kwargs)\n"
     ]
    },
    {
     "data": {
      "text/html": [
       "<pre style=\"white-space:pre;overflow-x:auto;line-height:normal;font-family:Menlo,'DejaVu Sans Mono',consolas,'Courier New',monospace\"><span style=\"font-weight: bold\">Model: \"sequential_1\"</span>\n",
       "</pre>\n"
      ],
      "text/plain": [
       "\u001b[1mModel: \"sequential_1\"\u001b[0m\n"
      ]
     },
     "metadata": {},
     "output_type": "display_data"
    },
    {
     "data": {
      "text/html": [
       "<pre style=\"white-space:pre;overflow-x:auto;line-height:normal;font-family:Menlo,'DejaVu Sans Mono',consolas,'Courier New',monospace\">┏━━━━━━━━━━━━━━━━━━━━━━━━━━━━━━━━━┳━━━━━━━━━━━━━━━━━━━━━━━━┳━━━━━━━━━━━━━━━┓\n",
       "┃<span style=\"font-weight: bold\"> Layer (type)                    </span>┃<span style=\"font-weight: bold\"> Output Shape           </span>┃<span style=\"font-weight: bold\">       Param # </span>┃\n",
       "┡━━━━━━━━━━━━━━━━━━━━━━━━━━━━━━━━━╇━━━━━━━━━━━━━━━━━━━━━━━━╇━━━━━━━━━━━━━━━┩\n",
       "│ dense_3 (<span style=\"color: #0087ff; text-decoration-color: #0087ff\">Dense</span>)                 │ (<span style=\"color: #00d7ff; text-decoration-color: #00d7ff\">None</span>, <span style=\"color: #00af00; text-decoration-color: #00af00\">64</span>)             │         <span style=\"color: #00af00; text-decoration-color: #00af00\">2,816</span> │\n",
       "├─────────────────────────────────┼────────────────────────┼───────────────┤\n",
       "│ activation_3 (<span style=\"color: #0087ff; text-decoration-color: #0087ff\">Activation</span>)       │ (<span style=\"color: #00d7ff; text-decoration-color: #00d7ff\">None</span>, <span style=\"color: #00af00; text-decoration-color: #00af00\">64</span>)             │             <span style=\"color: #00af00; text-decoration-color: #00af00\">0</span> │\n",
       "├─────────────────────────────────┼────────────────────────┼───────────────┤\n",
       "│ dropout_2 (<span style=\"color: #0087ff; text-decoration-color: #0087ff\">Dropout</span>)             │ (<span style=\"color: #00d7ff; text-decoration-color: #00d7ff\">None</span>, <span style=\"color: #00af00; text-decoration-color: #00af00\">64</span>)             │             <span style=\"color: #00af00; text-decoration-color: #00af00\">0</span> │\n",
       "├─────────────────────────────────┼────────────────────────┼───────────────┤\n",
       "│ dense_4 (<span style=\"color: #0087ff; text-decoration-color: #0087ff\">Dense</span>)                 │ (<span style=\"color: #00d7ff; text-decoration-color: #00d7ff\">None</span>, <span style=\"color: #00af00; text-decoration-color: #00af00\">64</span>)             │         <span style=\"color: #00af00; text-decoration-color: #00af00\">4,160</span> │\n",
       "├─────────────────────────────────┼────────────────────────┼───────────────┤\n",
       "│ activation_4 (<span style=\"color: #0087ff; text-decoration-color: #0087ff\">Activation</span>)       │ (<span style=\"color: #00d7ff; text-decoration-color: #00d7ff\">None</span>, <span style=\"color: #00af00; text-decoration-color: #00af00\">64</span>)             │             <span style=\"color: #00af00; text-decoration-color: #00af00\">0</span> │\n",
       "├─────────────────────────────────┼────────────────────────┼───────────────┤\n",
       "│ dropout_3 (<span style=\"color: #0087ff; text-decoration-color: #0087ff\">Dropout</span>)             │ (<span style=\"color: #00d7ff; text-decoration-color: #00d7ff\">None</span>, <span style=\"color: #00af00; text-decoration-color: #00af00\">64</span>)             │             <span style=\"color: #00af00; text-decoration-color: #00af00\">0</span> │\n",
       "├─────────────────────────────────┼────────────────────────┼───────────────┤\n",
       "│ dense_5 (<span style=\"color: #0087ff; text-decoration-color: #0087ff\">Dense</span>)                 │ (<span style=\"color: #00d7ff; text-decoration-color: #00d7ff\">None</span>, <span style=\"color: #00af00; text-decoration-color: #00af00\">15</span>)             │           <span style=\"color: #00af00; text-decoration-color: #00af00\">975</span> │\n",
       "├─────────────────────────────────┼────────────────────────┼───────────────┤\n",
       "│ activation_5 (<span style=\"color: #0087ff; text-decoration-color: #0087ff\">Activation</span>)       │ (<span style=\"color: #00d7ff; text-decoration-color: #00d7ff\">None</span>, <span style=\"color: #00af00; text-decoration-color: #00af00\">15</span>)             │             <span style=\"color: #00af00; text-decoration-color: #00af00\">0</span> │\n",
       "└─────────────────────────────────┴────────────────────────┴───────────────┘\n",
       "</pre>\n"
      ],
      "text/plain": [
       "┏━━━━━━━━━━━━━━━━━━━━━━━━━━━━━━━━━┳━━━━━━━━━━━━━━━━━━━━━━━━┳━━━━━━━━━━━━━━━┓\n",
       "┃\u001b[1m \u001b[0m\u001b[1mLayer (type)                   \u001b[0m\u001b[1m \u001b[0m┃\u001b[1m \u001b[0m\u001b[1mOutput Shape          \u001b[0m\u001b[1m \u001b[0m┃\u001b[1m \u001b[0m\u001b[1m      Param #\u001b[0m\u001b[1m \u001b[0m┃\n",
       "┡━━━━━━━━━━━━━━━━━━━━━━━━━━━━━━━━━╇━━━━━━━━━━━━━━━━━━━━━━━━╇━━━━━━━━━━━━━━━┩\n",
       "│ dense_3 (\u001b[38;5;33mDense\u001b[0m)                 │ (\u001b[38;5;45mNone\u001b[0m, \u001b[38;5;34m64\u001b[0m)             │         \u001b[38;5;34m2,816\u001b[0m │\n",
       "├─────────────────────────────────┼────────────────────────┼───────────────┤\n",
       "│ activation_3 (\u001b[38;5;33mActivation\u001b[0m)       │ (\u001b[38;5;45mNone\u001b[0m, \u001b[38;5;34m64\u001b[0m)             │             \u001b[38;5;34m0\u001b[0m │\n",
       "├─────────────────────────────────┼────────────────────────┼───────────────┤\n",
       "│ dropout_2 (\u001b[38;5;33mDropout\u001b[0m)             │ (\u001b[38;5;45mNone\u001b[0m, \u001b[38;5;34m64\u001b[0m)             │             \u001b[38;5;34m0\u001b[0m │\n",
       "├─────────────────────────────────┼────────────────────────┼───────────────┤\n",
       "│ dense_4 (\u001b[38;5;33mDense\u001b[0m)                 │ (\u001b[38;5;45mNone\u001b[0m, \u001b[38;5;34m64\u001b[0m)             │         \u001b[38;5;34m4,160\u001b[0m │\n",
       "├─────────────────────────────────┼────────────────────────┼───────────────┤\n",
       "│ activation_4 (\u001b[38;5;33mActivation\u001b[0m)       │ (\u001b[38;5;45mNone\u001b[0m, \u001b[38;5;34m64\u001b[0m)             │             \u001b[38;5;34m0\u001b[0m │\n",
       "├─────────────────────────────────┼────────────────────────┼───────────────┤\n",
       "│ dropout_3 (\u001b[38;5;33mDropout\u001b[0m)             │ (\u001b[38;5;45mNone\u001b[0m, \u001b[38;5;34m64\u001b[0m)             │             \u001b[38;5;34m0\u001b[0m │\n",
       "├─────────────────────────────────┼────────────────────────┼───────────────┤\n",
       "│ dense_5 (\u001b[38;5;33mDense\u001b[0m)                 │ (\u001b[38;5;45mNone\u001b[0m, \u001b[38;5;34m15\u001b[0m)             │           \u001b[38;5;34m975\u001b[0m │\n",
       "├─────────────────────────────────┼────────────────────────┼───────────────┤\n",
       "│ activation_5 (\u001b[38;5;33mActivation\u001b[0m)       │ (\u001b[38;5;45mNone\u001b[0m, \u001b[38;5;34m15\u001b[0m)             │             \u001b[38;5;34m0\u001b[0m │\n",
       "└─────────────────────────────────┴────────────────────────┴───────────────┘\n"
      ]
     },
     "metadata": {},
     "output_type": "display_data"
    },
    {
     "data": {
      "text/html": [
       "<pre style=\"white-space:pre;overflow-x:auto;line-height:normal;font-family:Menlo,'DejaVu Sans Mono',consolas,'Courier New',monospace\"><span style=\"font-weight: bold\"> Total params: </span><span style=\"color: #00af00; text-decoration-color: #00af00\">7,951</span> (31.06 KB)\n",
       "</pre>\n"
      ],
      "text/plain": [
       "\u001b[1m Total params: \u001b[0m\u001b[38;5;34m7,951\u001b[0m (31.06 KB)\n"
      ]
     },
     "metadata": {},
     "output_type": "display_data"
    },
    {
     "data": {
      "text/html": [
       "<pre style=\"white-space:pre;overflow-x:auto;line-height:normal;font-family:Menlo,'DejaVu Sans Mono',consolas,'Courier New',monospace\"><span style=\"font-weight: bold\"> Trainable params: </span><span style=\"color: #00af00; text-decoration-color: #00af00\">7,951</span> (31.06 KB)\n",
       "</pre>\n"
      ],
      "text/plain": [
       "\u001b[1m Trainable params: \u001b[0m\u001b[38;5;34m7,951\u001b[0m (31.06 KB)\n"
      ]
     },
     "metadata": {},
     "output_type": "display_data"
    },
    {
     "data": {
      "text/html": [
       "<pre style=\"white-space:pre;overflow-x:auto;line-height:normal;font-family:Menlo,'DejaVu Sans Mono',consolas,'Courier New',monospace\"><span style=\"font-weight: bold\"> Non-trainable params: </span><span style=\"color: #00af00; text-decoration-color: #00af00\">0</span> (0.00 B)\n",
       "</pre>\n"
      ],
      "text/plain": [
       "\u001b[1m Non-trainable params: \u001b[0m\u001b[38;5;34m0\u001b[0m (0.00 B)\n"
      ]
     },
     "metadata": {},
     "output_type": "display_data"
    },
    {
     "name": "stdout",
     "output_type": "stream",
     "text": [
      "None\n"
     ]
    }
   ],
   "source": [
    "### Construct Keras model\n",
    "\n",
    "# A sequential model is a linear stack of layers\n",
    "model = Sequential()\n",
    "\n",
    "# First layer: fully-connected with relu activation\n",
    "model.add(Dense(64, input_shape=input_shape))\n",
    "model.add(Activation('relu'))\n",
    "model.add(Dropout(0.25))\n",
    "\n",
    "# Second layer: fully-connected with relu activation\n",
    "model.add(Dense(64))   # Input shape is determined automatically from previous layer\n",
    "model.add(Activation('relu'))\n",
    "model.add(Dropout(0.25))\n",
    "\n",
    "# Third layer: 10 nodes, one for each class, and softmax activation\n",
    "model.add(Dense(num_classes))\n",
    "model.add(Activation('softmax'))\n",
    "\n",
    "# Configure the model's training settings\n",
    "model.compile(loss='categorical_crossentropy', optimizer='adam', metrics=['acc'])\n",
    "\n",
    "# Print out model summary\n",
    "print(model.summary())\n",
    "    "
   ]
  },
  {
   "cell_type": "markdown",
   "id": "4c26e080-97a6-4cba-9f4d-0819e4d63d2b",
   "metadata": {},
   "source": [
    "Model training"
   ]
  },
  {
   "cell_type": "code",
   "execution_count": 33,
   "id": "99d97ff7-8e43-4e5a-b07c-c86c87af4ddc",
   "metadata": {
    "scrolled": true
   },
   "outputs": [
    {
     "name": "stdout",
     "output_type": "stream",
     "text": [
      "Epoch 1/200\n",
      "\u001b[1m151271/151271\u001b[0m \u001b[32m━━━━━━━━━━━━━━━━━━━━\u001b[0m\u001b[37m\u001b[0m \u001b[1m87s\u001b[0m 572us/step - acc: 0.5140 - loss: 1.4557 - val_acc: 0.6288 - val_loss: 1.0919\n",
      "Epoch 2/200\n",
      "\u001b[1m151271/151271\u001b[0m \u001b[32m━━━━━━━━━━━━━━━━━━━━\u001b[0m\u001b[37m\u001b[0m \u001b[1m88s\u001b[0m 580us/step - acc: 0.5644 - loss: 1.2876 - val_acc: 0.6343 - val_loss: 1.0712\n",
      "Epoch 3/200\n",
      "\u001b[1m151271/151271\u001b[0m \u001b[32m━━━━━━━━━━━━━━━━━━━━\u001b[0m\u001b[37m\u001b[0m \u001b[1m86s\u001b[0m 571us/step - acc: 0.5706 - loss: 1.2695 - val_acc: 0.6386 - val_loss: 1.0608\n",
      "Epoch 4/200\n",
      "\u001b[1m151271/151271\u001b[0m \u001b[32m━━━━━━━━━━━━━━━━━━━━\u001b[0m\u001b[37m\u001b[0m \u001b[1m88s\u001b[0m 578us/step - acc: 0.5735 - loss: 1.2606 - val_acc: 0.6444 - val_loss: 1.0514\n",
      "Epoch 5/200\n",
      "\u001b[1m151271/151271\u001b[0m \u001b[32m━━━━━━━━━━━━━━━━━━━━\u001b[0m\u001b[37m\u001b[0m \u001b[1m86s\u001b[0m 571us/step - acc: 0.5752 - loss: 1.2563 - val_acc: 0.6437 - val_loss: 1.0520\n",
      "Epoch 6/200\n",
      "\u001b[1m151271/151271\u001b[0m \u001b[32m━━━━━━━━━━━━━━━━━━━━\u001b[0m\u001b[37m\u001b[0m \u001b[1m86s\u001b[0m 567us/step - acc: 0.5756 - loss: 1.2533 - val_acc: 0.6464 - val_loss: 1.0411\n",
      "Epoch 7/200\n",
      "\u001b[1m151271/151271\u001b[0m \u001b[32m━━━━━━━━━━━━━━━━━━━━\u001b[0m\u001b[37m\u001b[0m \u001b[1m88s\u001b[0m 579us/step - acc: 0.5772 - loss: 1.2500 - val_acc: 0.6466 - val_loss: 1.0435\n",
      "Epoch 8/200\n",
      "\u001b[1m151271/151271\u001b[0m \u001b[32m━━━━━━━━━━━━━━━━━━━━\u001b[0m\u001b[37m\u001b[0m \u001b[1m87s\u001b[0m 573us/step - acc: 0.5775 - loss: 1.2489 - val_acc: 0.6461 - val_loss: 1.0416\n",
      "Epoch 9/200\n",
      "\u001b[1m151271/151271\u001b[0m \u001b[32m━━━━━━━━━━━━━━━━━━━━\u001b[0m\u001b[37m\u001b[0m \u001b[1m89s\u001b[0m 585us/step - acc: 0.5786 - loss: 1.2463 - val_acc: 0.6449 - val_loss: 1.0446\n",
      "Epoch 10/200\n",
      "\u001b[1m151271/151271\u001b[0m \u001b[32m━━━━━━━━━━━━━━━━━━━━\u001b[0m\u001b[37m\u001b[0m \u001b[1m87s\u001b[0m 572us/step - acc: 0.5781 - loss: 1.2460 - val_acc: 0.6438 - val_loss: 1.0415\n",
      "Epoch 11/200\n",
      "\u001b[1m151271/151271\u001b[0m \u001b[32m━━━━━━━━━━━━━━━━━━━━\u001b[0m\u001b[37m\u001b[0m \u001b[1m104s\u001b[0m 690us/step - acc: 0.5791 - loss: 1.2436 - val_acc: 0.6453 - val_loss: 1.0380\n",
      "Epoch 12/200\n",
      "\u001b[1m151271/151271\u001b[0m \u001b[32m━━━━━━━━━━━━━━━━━━━━\u001b[0m\u001b[37m\u001b[0m \u001b[1m95s\u001b[0m 628us/step - acc: 0.5792 - loss: 1.2433 - val_acc: 0.6469 - val_loss: 1.0387\n",
      "Epoch 13/200\n",
      "\u001b[1m151271/151271\u001b[0m \u001b[32m━━━━━━━━━━━━━━━━━━━━\u001b[0m\u001b[37m\u001b[0m \u001b[1m86s\u001b[0m 569us/step - acc: 0.5800 - loss: 1.2427 - val_acc: 0.6478 - val_loss: 1.0394\n",
      "Epoch 14/200\n",
      "\u001b[1m151271/151271\u001b[0m \u001b[32m━━━━━━━━━━━━━━━━━━━━\u001b[0m\u001b[37m\u001b[0m \u001b[1m86s\u001b[0m 571us/step - acc: 0.5796 - loss: 1.2425 - val_acc: 0.6506 - val_loss: 1.0306\n",
      "Epoch 15/200\n",
      "\u001b[1m151271/151271\u001b[0m \u001b[32m━━━━━━━━━━━━━━━━━━━━\u001b[0m\u001b[37m\u001b[0m \u001b[1m86s\u001b[0m 570us/step - acc: 0.5803 - loss: 1.2409 - val_acc: 0.6462 - val_loss: 1.0403\n",
      "Epoch 16/200\n",
      "\u001b[1m151271/151271\u001b[0m \u001b[32m━━━━━━━━━━━━━━━━━━━━\u001b[0m\u001b[37m\u001b[0m \u001b[1m86s\u001b[0m 570us/step - acc: 0.5799 - loss: 1.2414 - val_acc: 0.6479 - val_loss: 1.0368\n",
      "Epoch 17/200\n",
      "\u001b[1m151271/151271\u001b[0m \u001b[32m━━━━━━━━━━━━━━━━━━━━\u001b[0m\u001b[37m\u001b[0m \u001b[1m87s\u001b[0m 572us/step - acc: 0.5811 - loss: 1.2395 - val_acc: 0.6479 - val_loss: 1.0354\n",
      "Epoch 18/200\n",
      "\u001b[1m151271/151271\u001b[0m \u001b[32m━━━━━━━━━━━━━━━━━━━━\u001b[0m\u001b[37m\u001b[0m \u001b[1m86s\u001b[0m 571us/step - acc: 0.5806 - loss: 1.2409 - val_acc: 0.6481 - val_loss: 1.0336\n",
      "Epoch 19/200\n",
      "\u001b[1m151271/151271\u001b[0m \u001b[32m━━━━━━━━━━━━━━━━━━━━\u001b[0m\u001b[37m\u001b[0m \u001b[1m87s\u001b[0m 572us/step - acc: 0.5811 - loss: 1.2389 - val_acc: 0.6519 - val_loss: 1.0318\n",
      "Epoch 20/200\n",
      "\u001b[1m151271/151271\u001b[0m \u001b[32m━━━━━━━━━━━━━━━━━━━━\u001b[0m\u001b[37m\u001b[0m \u001b[1m87s\u001b[0m 572us/step - acc: 0.5815 - loss: 1.2385 - val_acc: 0.6501 - val_loss: 1.0354\n",
      "Epoch 21/200\n",
      "\u001b[1m151271/151271\u001b[0m \u001b[32m━━━━━━━━━━━━━━━━━━━━\u001b[0m\u001b[37m\u001b[0m \u001b[1m87s\u001b[0m 572us/step - acc: 0.5808 - loss: 1.2396 - val_acc: 0.6476 - val_loss: 1.0358\n",
      "Epoch 22/200\n",
      "\u001b[1m151271/151271\u001b[0m \u001b[32m━━━━━━━━━━━━━━━━━━━━\u001b[0m\u001b[37m\u001b[0m \u001b[1m87s\u001b[0m 575us/step - acc: 0.5819 - loss: 1.2378 - val_acc: 0.6517 - val_loss: 1.0297\n",
      "Epoch 23/200\n",
      "\u001b[1m151271/151271\u001b[0m \u001b[32m━━━━━━━━━━━━━━━━━━━━\u001b[0m\u001b[37m\u001b[0m \u001b[1m87s\u001b[0m 574us/step - acc: 0.5820 - loss: 1.2369 - val_acc: 0.6525 - val_loss: 1.0320\n",
      "Epoch 24/200\n",
      "\u001b[1m151271/151271\u001b[0m \u001b[32m━━━━━━━━━━━━━━━━━━━━\u001b[0m\u001b[37m\u001b[0m \u001b[1m90s\u001b[0m 596us/step - acc: 0.5821 - loss: 1.2357 - val_acc: 0.6487 - val_loss: 1.0351\n",
      "Epoch 25/200\n",
      "\u001b[1m151271/151271\u001b[0m \u001b[32m━━━━━━━━━━━━━━━━━━━━\u001b[0m\u001b[37m\u001b[0m \u001b[1m91s\u001b[0m 599us/step - acc: 0.5821 - loss: 1.2363 - val_acc: 0.6509 - val_loss: 1.0296\n",
      "Epoch 26/200\n",
      "\u001b[1m151271/151271\u001b[0m \u001b[32m━━━━━━━━━━━━━━━━━━━━\u001b[0m\u001b[37m\u001b[0m \u001b[1m88s\u001b[0m 578us/step - acc: 0.5821 - loss: 1.2367 - val_acc: 0.6508 - val_loss: 1.0354\n",
      "Epoch 27/200\n",
      "\u001b[1m151271/151271\u001b[0m \u001b[32m━━━━━━━━━━━━━━━━━━━━\u001b[0m\u001b[37m\u001b[0m \u001b[1m87s\u001b[0m 578us/step - acc: 0.5827 - loss: 1.2348 - val_acc: 0.6460 - val_loss: 1.0359\n",
      "Epoch 28/200\n",
      "\u001b[1m151271/151271\u001b[0m \u001b[32m━━━━━━━━━━━━━━━━━━━━\u001b[0m\u001b[37m\u001b[0m \u001b[1m88s\u001b[0m 582us/step - acc: 0.5818 - loss: 1.2367 - val_acc: 0.6484 - val_loss: 1.0310\n",
      "Epoch 29/200\n",
      "\u001b[1m151271/151271\u001b[0m \u001b[32m━━━━━━━━━━━━━━━━━━━━\u001b[0m\u001b[37m\u001b[0m \u001b[1m88s\u001b[0m 581us/step - acc: 0.5823 - loss: 1.2359 - val_acc: 0.6516 - val_loss: 1.0300\n",
      "Epoch 30/200\n",
      "\u001b[1m151271/151271\u001b[0m \u001b[32m━━━━━━━━━━━━━━━━━━━━\u001b[0m\u001b[37m\u001b[0m \u001b[1m88s\u001b[0m 582us/step - acc: 0.5825 - loss: 1.2356 - val_acc: 0.6493 - val_loss: 1.0361\n",
      "Epoch 31/200\n",
      "\u001b[1m151271/151271\u001b[0m \u001b[32m━━━━━━━━━━━━━━━━━━━━\u001b[0m\u001b[37m\u001b[0m \u001b[1m88s\u001b[0m 583us/step - acc: 0.5828 - loss: 1.2352 - val_acc: 0.6515 - val_loss: 1.0258\n",
      "Epoch 32/200\n",
      "\u001b[1m151271/151271\u001b[0m \u001b[32m━━━━━━━━━━━━━━━━━━━━\u001b[0m\u001b[37m\u001b[0m \u001b[1m88s\u001b[0m 584us/step - acc: 0.5826 - loss: 1.2358 - val_acc: 0.6491 - val_loss: 1.0308\n",
      "Epoch 33/200\n",
      "\u001b[1m151271/151271\u001b[0m \u001b[32m━━━━━━━━━━━━━━━━━━━━\u001b[0m\u001b[37m\u001b[0m \u001b[1m88s\u001b[0m 583us/step - acc: 0.5828 - loss: 1.2355 - val_acc: 0.6449 - val_loss: 1.0272\n",
      "Epoch 34/200\n",
      "\u001b[1m151271/151271\u001b[0m \u001b[32m━━━━━━━━━━━━━━━━━━━━\u001b[0m\u001b[37m\u001b[0m \u001b[1m88s\u001b[0m 584us/step - acc: 0.5829 - loss: 1.2339 - val_acc: 0.6517 - val_loss: 1.0314\n",
      "Epoch 35/200\n",
      "\u001b[1m151271/151271\u001b[0m \u001b[32m━━━━━━━━━━━━━━━━━━━━\u001b[0m\u001b[37m\u001b[0m \u001b[1m88s\u001b[0m 584us/step - acc: 0.5831 - loss: 1.2346 - val_acc: 0.6511 - val_loss: 1.0303\n",
      "Epoch 36/200\n",
      "\u001b[1m151271/151271\u001b[0m \u001b[32m━━━━━━━━━━━━━━━━━━━━\u001b[0m\u001b[37m\u001b[0m \u001b[1m88s\u001b[0m 584us/step - acc: 0.5825 - loss: 1.2353 - val_acc: 0.6506 - val_loss: 1.0215\n",
      "Epoch 37/200\n",
      "\u001b[1m151271/151271\u001b[0m \u001b[32m━━━━━━━━━━━━━━━━━━━━\u001b[0m\u001b[37m\u001b[0m \u001b[1m89s\u001b[0m 585us/step - acc: 0.5831 - loss: 1.2339 - val_acc: 0.6496 - val_loss: 1.0241\n",
      "Epoch 38/200\n",
      "\u001b[1m151271/151271\u001b[0m \u001b[32m━━━━━━━━━━━━━━━━━━━━\u001b[0m\u001b[37m\u001b[0m \u001b[1m89s\u001b[0m 585us/step - acc: 0.5830 - loss: 1.2347 - val_acc: 0.6505 - val_loss: 1.0300\n",
      "Epoch 39/200\n",
      "\u001b[1m151271/151271\u001b[0m \u001b[32m━━━━━━━━━━━━━━━━━━━━\u001b[0m\u001b[37m\u001b[0m \u001b[1m89s\u001b[0m 589us/step - acc: 0.5828 - loss: 1.2349 - val_acc: 0.6526 - val_loss: 1.0279\n",
      "Epoch 40/200\n",
      "\u001b[1m151271/151271\u001b[0m \u001b[32m━━━━━━━━━━━━━━━━━━━━\u001b[0m\u001b[37m\u001b[0m \u001b[1m89s\u001b[0m 587us/step - acc: 0.5830 - loss: 1.2348 - val_acc: 0.6520 - val_loss: 1.0266\n",
      "Epoch 41/200\n",
      "\u001b[1m151271/151271\u001b[0m \u001b[32m━━━━━━━━━━━━━━━━━━━━\u001b[0m\u001b[37m\u001b[0m \u001b[1m89s\u001b[0m 588us/step - acc: 0.5831 - loss: 1.2336 - val_acc: 0.6518 - val_loss: 1.0274\n",
      "Epoch 42/200\n",
      "\u001b[1m151271/151271\u001b[0m \u001b[32m━━━━━━━━━━━━━━━━━━━━\u001b[0m\u001b[37m\u001b[0m \u001b[1m90s\u001b[0m 591us/step - acc: 0.5832 - loss: 1.2338 - val_acc: 0.6520 - val_loss: 1.0315\n",
      "Epoch 43/200\n",
      "\u001b[1m151271/151271\u001b[0m \u001b[32m━━━━━━━━━━━━━━━━━━━━\u001b[0m\u001b[37m\u001b[0m \u001b[1m90s\u001b[0m 591us/step - acc: 0.5835 - loss: 1.2340 - val_acc: 0.6526 - val_loss: 1.0277\n",
      "Epoch 44/200\n",
      "\u001b[1m151271/151271\u001b[0m \u001b[32m━━━━━━━━━━━━━━━━━━━━\u001b[0m\u001b[37m\u001b[0m \u001b[1m89s\u001b[0m 590us/step - acc: 0.5836 - loss: 1.2339 - val_acc: 0.6524 - val_loss: 1.0280\n",
      "Epoch 45/200\n",
      "\u001b[1m151271/151271\u001b[0m \u001b[32m━━━━━━━━━━━━━━━━━━━━\u001b[0m\u001b[37m\u001b[0m \u001b[1m89s\u001b[0m 590us/step - acc: 0.5842 - loss: 1.2323 - val_acc: 0.6523 - val_loss: 1.0244\n",
      "Epoch 46/200\n",
      "\u001b[1m151271/151271\u001b[0m \u001b[32m━━━━━━━━━━━━━━━━━━━━\u001b[0m\u001b[37m\u001b[0m \u001b[1m89s\u001b[0m 586us/step - acc: 0.5842 - loss: 1.2322 - val_acc: 0.6523 - val_loss: 1.0291\n",
      "Epoch 47/200\n",
      "\u001b[1m151271/151271\u001b[0m \u001b[32m━━━━━━━━━━━━━━━━━━━━\u001b[0m\u001b[37m\u001b[0m \u001b[1m88s\u001b[0m 584us/step - acc: 0.5842 - loss: 1.2318 - val_acc: 0.6513 - val_loss: 1.0275\n",
      "Epoch 48/200\n",
      "\u001b[1m151271/151271\u001b[0m \u001b[32m━━━━━━━━━━━━━━━━━━━━\u001b[0m\u001b[37m\u001b[0m \u001b[1m89s\u001b[0m 587us/step - acc: 0.5841 - loss: 1.2326 - val_acc: 0.6515 - val_loss: 1.0255\n",
      "Epoch 49/200\n",
      "\u001b[1m151271/151271\u001b[0m \u001b[32m━━━━━━━━━━━━━━━━━━━━\u001b[0m\u001b[37m\u001b[0m \u001b[1m88s\u001b[0m 584us/step - acc: 0.5846 - loss: 1.2322 - val_acc: 0.6506 - val_loss: 1.0284\n",
      "Epoch 50/200\n",
      "\u001b[1m151271/151271\u001b[0m \u001b[32m━━━━━━━━━━━━━━━━━━━━\u001b[0m\u001b[37m\u001b[0m \u001b[1m89s\u001b[0m 586us/step - acc: 0.5844 - loss: 1.2323 - val_acc: 0.6539 - val_loss: 1.0252\n",
      "Epoch 51/200\n",
      "\u001b[1m151271/151271\u001b[0m \u001b[32m━━━━━━━━━━━━━━━━━━━━\u001b[0m\u001b[37m\u001b[0m \u001b[1m89s\u001b[0m 586us/step - acc: 0.5847 - loss: 1.2312 - val_acc: 0.6527 - val_loss: 1.0242\n",
      "Epoch 52/200\n",
      "\u001b[1m151271/151271\u001b[0m \u001b[32m━━━━━━━━━━━━━━━━━━━━\u001b[0m\u001b[37m\u001b[0m \u001b[1m94s\u001b[0m 621us/step - acc: 0.5845 - loss: 1.2315 - val_acc: 0.6545 - val_loss: 1.0242\n",
      "Epoch 53/200\n",
      "\u001b[1m151271/151271\u001b[0m \u001b[32m━━━━━━━━━━━━━━━━━━━━\u001b[0m\u001b[37m\u001b[0m \u001b[1m94s\u001b[0m 623us/step - acc: 0.5852 - loss: 1.2310 - val_acc: 0.6533 - val_loss: 1.0260\n",
      "Epoch 54/200\n",
      "\u001b[1m151271/151271\u001b[0m \u001b[32m━━━━━━━━━━━━━━━━━━━━\u001b[0m\u001b[37m\u001b[0m \u001b[1m94s\u001b[0m 622us/step - acc: 0.5848 - loss: 1.2321 - val_acc: 0.6524 - val_loss: 1.0217\n",
      "Epoch 55/200\n",
      "\u001b[1m151271/151271\u001b[0m \u001b[32m━━━━━━━━━━━━━━━━━━━━\u001b[0m\u001b[37m\u001b[0m \u001b[1m89s\u001b[0m 587us/step - acc: 0.5847 - loss: 1.2313 - val_acc: 0.6513 - val_loss: 1.0259\n",
      "Epoch 56/200\n",
      "\u001b[1m151271/151271\u001b[0m \u001b[32m━━━━━━━━━━━━━━━━━━━━\u001b[0m\u001b[37m\u001b[0m \u001b[1m94s\u001b[0m 621us/step - acc: 0.5848 - loss: 1.2315 - val_acc: 0.6539 - val_loss: 1.0236\n",
      "Epoch 57/200\n",
      "\u001b[1m151271/151271\u001b[0m \u001b[32m━━━━━━━━━━━━━━━━━━━━\u001b[0m\u001b[37m\u001b[0m \u001b[1m94s\u001b[0m 624us/step - acc: 0.5848 - loss: 1.2316 - val_acc: 0.6524 - val_loss: 1.0245\n",
      "Epoch 58/200\n",
      "\u001b[1m151271/151271\u001b[0m \u001b[32m━━━━━━━━━━━━━━━━━━━━\u001b[0m\u001b[37m\u001b[0m \u001b[1m95s\u001b[0m 626us/step - acc: 0.5846 - loss: 1.2324 - val_acc: 0.6526 - val_loss: 1.0254\n",
      "Epoch 59/200\n",
      "\u001b[1m151271/151271\u001b[0m \u001b[32m━━━━━━━━━━━━━━━━━━━━\u001b[0m\u001b[37m\u001b[0m \u001b[1m89s\u001b[0m 586us/step - acc: 0.5851 - loss: 1.2300 - val_acc: 0.6539 - val_loss: 1.0238\n",
      "Epoch 60/200\n",
      "\u001b[1m151271/151271\u001b[0m \u001b[32m━━━━━━━━━━━━━━━━━━━━\u001b[0m\u001b[37m\u001b[0m \u001b[1m90s\u001b[0m 593us/step - acc: 0.5844 - loss: 1.2318 - val_acc: 0.6530 - val_loss: 1.0209\n",
      "Epoch 61/200\n",
      "\u001b[1m151271/151271\u001b[0m \u001b[32m━━━━━━━━━━━━━━━━━━━━\u001b[0m\u001b[37m\u001b[0m \u001b[1m94s\u001b[0m 619us/step - acc: 0.5854 - loss: 1.2305 - val_acc: 0.6539 - val_loss: 1.0229\n",
      "Epoch 62/200\n",
      "\u001b[1m151271/151271\u001b[0m \u001b[32m━━━━━━━━━━━━━━━━━━━━\u001b[0m\u001b[37m\u001b[0m \u001b[1m94s\u001b[0m 619us/step - acc: 0.5849 - loss: 1.2315 - val_acc: 0.6529 - val_loss: 1.0290\n",
      "Epoch 63/200\n",
      "\u001b[1m151271/151271\u001b[0m \u001b[32m━━━━━━━━━━━━━━━━━━━━\u001b[0m\u001b[37m\u001b[0m \u001b[1m94s\u001b[0m 622us/step - acc: 0.5845 - loss: 1.2317 - val_acc: 0.6548 - val_loss: 1.0232\n",
      "Epoch 64/200\n",
      "\u001b[1m151271/151271\u001b[0m \u001b[32m━━━━━━━━━━━━━━━━━━━━\u001b[0m\u001b[37m\u001b[0m \u001b[1m94s\u001b[0m 619us/step - acc: 0.5851 - loss: 1.2311 - val_acc: 0.6567 - val_loss: 1.0228\n",
      "Epoch 65/200\n",
      "\u001b[1m151271/151271\u001b[0m \u001b[32m━━━━━━━━━━━━━━━━━━━━\u001b[0m\u001b[37m\u001b[0m \u001b[1m94s\u001b[0m 622us/step - acc: 0.5846 - loss: 1.2321 - val_acc: 0.6524 - val_loss: 1.0244\n",
      "Epoch 66/200\n",
      "\u001b[1m151271/151271\u001b[0m \u001b[32m━━━━━━━━━━━━━━━━━━━━\u001b[0m\u001b[37m\u001b[0m \u001b[1m94s\u001b[0m 622us/step - acc: 0.5847 - loss: 1.2307 - val_acc: 0.6546 - val_loss: 1.0281\n",
      "Epoch 67/200\n",
      "\u001b[1m151271/151271\u001b[0m \u001b[32m━━━━━━━━━━━━━━━━━━━━\u001b[0m\u001b[37m\u001b[0m \u001b[1m95s\u001b[0m 625us/step - acc: 0.5856 - loss: 1.2299 - val_acc: 0.6541 - val_loss: 1.0223\n",
      "Epoch 68/200\n",
      "\u001b[1m151271/151271\u001b[0m \u001b[32m━━━━━━━━━━━━━━━━━━━━\u001b[0m\u001b[37m\u001b[0m \u001b[1m95s\u001b[0m 625us/step - acc: 0.5847 - loss: 1.2320 - val_acc: 0.6553 - val_loss: 1.0238\n",
      "Epoch 69/200\n",
      "\u001b[1m151271/151271\u001b[0m \u001b[32m━━━━━━━━━━━━━━━━━━━━\u001b[0m\u001b[37m\u001b[0m \u001b[1m95s\u001b[0m 625us/step - acc: 0.5850 - loss: 1.2314 - val_acc: 0.6532 - val_loss: 1.0231\n",
      "Epoch 70/200\n",
      "\u001b[1m151271/151271\u001b[0m \u001b[32m━━━━━━━━━━━━━━━━━━━━\u001b[0m\u001b[37m\u001b[0m \u001b[1m95s\u001b[0m 627us/step - acc: 0.5855 - loss: 1.2307 - val_acc: 0.6511 - val_loss: 1.0296\n",
      "Epoch 71/200\n",
      "\u001b[1m151271/151271\u001b[0m \u001b[32m━━━━━━━━━━━━━━━━━━━━\u001b[0m\u001b[37m\u001b[0m \u001b[1m95s\u001b[0m 627us/step - acc: 0.5851 - loss: 1.2308 - val_acc: 0.6539 - val_loss: 1.0241\n",
      "Epoch 72/200\n",
      "\u001b[1m151271/151271\u001b[0m \u001b[32m━━━━━━━━━━━━━━━━━━━━\u001b[0m\u001b[37m\u001b[0m \u001b[1m95s\u001b[0m 626us/step - acc: 0.5851 - loss: 1.2316 - val_acc: 0.6560 - val_loss: 1.0180\n",
      "Epoch 73/200\n",
      "\u001b[1m151271/151271\u001b[0m \u001b[32m━━━━━━━━━━━━━━━━━━━━\u001b[0m\u001b[37m\u001b[0m \u001b[1m95s\u001b[0m 631us/step - acc: 0.5854 - loss: 1.2304 - val_acc: 0.6523 - val_loss: 1.0236\n",
      "Epoch 74/200\n",
      "\u001b[1m151271/151271\u001b[0m \u001b[32m━━━━━━━━━━━━━━━━━━━━\u001b[0m\u001b[37m\u001b[0m \u001b[1m96s\u001b[0m 634us/step - acc: 0.5856 - loss: 1.2305 - val_acc: 0.6549 - val_loss: 1.0179\n",
      "Epoch 75/200\n",
      "\u001b[1m151271/151271\u001b[0m \u001b[32m━━━━━━━━━━━━━━━━━━━━\u001b[0m\u001b[37m\u001b[0m \u001b[1m96s\u001b[0m 633us/step - acc: 0.5858 - loss: 1.2290 - val_acc: 0.6557 - val_loss: 1.0204\n",
      "Epoch 76/200\n",
      "\u001b[1m151271/151271\u001b[0m \u001b[32m━━━━━━━━━━━━━━━━━━━━\u001b[0m\u001b[37m\u001b[0m \u001b[1m96s\u001b[0m 634us/step - acc: 0.5850 - loss: 1.2310 - val_acc: 0.6552 - val_loss: 1.0186\n",
      "Epoch 77/200\n",
      "\u001b[1m151271/151271\u001b[0m \u001b[32m━━━━━━━━━━━━━━━━━━━━\u001b[0m\u001b[37m\u001b[0m \u001b[1m96s\u001b[0m 637us/step - acc: 0.5855 - loss: 1.2302 - val_acc: 0.6532 - val_loss: 1.0233\n",
      "Epoch 78/200\n",
      "\u001b[1m151271/151271\u001b[0m \u001b[32m━━━━━━━━━━━━━━━━━━━━\u001b[0m\u001b[37m\u001b[0m \u001b[1m97s\u001b[0m 638us/step - acc: 0.5855 - loss: 1.2302 - val_acc: 0.6499 - val_loss: 1.0291\n",
      "Epoch 79/200\n",
      "\u001b[1m151271/151271\u001b[0m \u001b[32m━━━━━━━━━━━━━━━━━━━━\u001b[0m\u001b[37m\u001b[0m \u001b[1m96s\u001b[0m 637us/step - acc: 0.5852 - loss: 1.2316 - val_acc: 0.6543 - val_loss: 1.0236\n",
      "Epoch 80/200\n",
      "\u001b[1m151271/151271\u001b[0m \u001b[32m━━━━━━━━━━━━━━━━━━━━\u001b[0m\u001b[37m\u001b[0m \u001b[1m97s\u001b[0m 639us/step - acc: 0.5854 - loss: 1.2308 - val_acc: 0.6555 - val_loss: 1.0262\n",
      "Epoch 81/200\n",
      "\u001b[1m151271/151271\u001b[0m \u001b[32m━━━━━━━━━━━━━━━━━━━━\u001b[0m\u001b[37m\u001b[0m \u001b[1m97s\u001b[0m 641us/step - acc: 0.5852 - loss: 1.2305 - val_acc: 0.6561 - val_loss: 1.0212\n",
      "Epoch 82/200\n",
      "\u001b[1m151271/151271\u001b[0m \u001b[32m━━━━━━━━━━━━━━━━━━━━\u001b[0m\u001b[37m\u001b[0m \u001b[1m97s\u001b[0m 641us/step - acc: 0.5854 - loss: 1.2313 - val_acc: 0.6528 - val_loss: 1.0244\n",
      "Epoch 83/200\n",
      "\u001b[1m151271/151271\u001b[0m \u001b[32m━━━━━━━━━━━━━━━━━━━━\u001b[0m\u001b[37m\u001b[0m \u001b[1m97s\u001b[0m 644us/step - acc: 0.5854 - loss: 1.2312 - val_acc: 0.6526 - val_loss: 1.0162\n",
      "Epoch 84/200\n",
      "\u001b[1m151271/151271\u001b[0m \u001b[32m━━━━━━━━━━━━━━━━━━━━\u001b[0m\u001b[37m\u001b[0m \u001b[1m105s\u001b[0m 693us/step - acc: 0.5856 - loss: 1.2303 - val_acc: 0.6537 - val_loss: 1.0244\n",
      "Epoch 85/200\n",
      "\u001b[1m151271/151271\u001b[0m \u001b[32m━━━━━━━━━━━━━━━━━━━━\u001b[0m\u001b[37m\u001b[0m \u001b[1m97s\u001b[0m 644us/step - acc: 0.5851 - loss: 1.2311 - val_acc: 0.6524 - val_loss: 1.0287\n",
      "Epoch 86/200\n",
      "\u001b[1m151271/151271\u001b[0m \u001b[32m━━━━━━━━━━━━━━━━━━━━\u001b[0m\u001b[37m\u001b[0m \u001b[1m98s\u001b[0m 645us/step - acc: 0.5863 - loss: 1.2288 - val_acc: 0.6558 - val_loss: 1.0196\n",
      "Epoch 87/200\n",
      "\u001b[1m151271/151271\u001b[0m \u001b[32m━━━━━━━━━━━━━━━━━━━━\u001b[0m\u001b[37m\u001b[0m \u001b[1m98s\u001b[0m 649us/step - acc: 0.5859 - loss: 1.2308 - val_acc: 0.6535 - val_loss: 1.0240\n",
      "Epoch 88/200\n",
      "\u001b[1m151271/151271\u001b[0m \u001b[32m━━━━━━━━━━━━━━━━━━━━\u001b[0m\u001b[37m\u001b[0m \u001b[1m105s\u001b[0m 694us/step - acc: 0.5858 - loss: 1.2298 - val_acc: 0.6539 - val_loss: 1.0189\n",
      "Epoch 89/200\n",
      "\u001b[1m151271/151271\u001b[0m \u001b[32m━━━━━━━━━━━━━━━━━━━━\u001b[0m\u001b[37m\u001b[0m \u001b[1m107s\u001b[0m 706us/step - acc: 0.5859 - loss: 1.2302 - val_acc: 0.6556 - val_loss: 1.0205\n",
      "Epoch 90/200\n",
      "\u001b[1m151271/151271\u001b[0m \u001b[32m━━━━━━━━━━━━━━━━━━━━\u001b[0m\u001b[37m\u001b[0m \u001b[1m107s\u001b[0m 709us/step - acc: 0.5857 - loss: 1.2296 - val_acc: 0.6542 - val_loss: 1.0222\n",
      "Epoch 91/200\n",
      "\u001b[1m151271/151271\u001b[0m \u001b[32m━━━━━━━━━━━━━━━━━━━━\u001b[0m\u001b[37m\u001b[0m \u001b[1m108s\u001b[0m 714us/step - acc: 0.5856 - loss: 1.2310 - val_acc: 0.6587 - val_loss: 1.0208\n",
      "Epoch 92/200\n",
      "\u001b[1m151271/151271\u001b[0m \u001b[32m━━━━━━━━━━━━━━━━━━━━\u001b[0m\u001b[37m\u001b[0m \u001b[1m108s\u001b[0m 714us/step - acc: 0.5861 - loss: 1.2297 - val_acc: 0.6554 - val_loss: 1.0199\n",
      "Epoch 93/200\n",
      "\u001b[1m151271/151271\u001b[0m \u001b[32m━━━━━━━━━━━━━━━━━━━━\u001b[0m\u001b[37m\u001b[0m \u001b[1m109s\u001b[0m 717us/step - acc: 0.5859 - loss: 1.2308 - val_acc: 0.6543 - val_loss: 1.0241\n",
      "Epoch 94/200\n",
      "\u001b[1m151271/151271\u001b[0m \u001b[32m━━━━━━━━━━━━━━━━━━━━\u001b[0m\u001b[37m\u001b[0m \u001b[1m109s\u001b[0m 720us/step - acc: 0.5857 - loss: 1.2302 - val_acc: 0.6548 - val_loss: 1.0233\n",
      "Epoch 95/200\n",
      "\u001b[1m151271/151271\u001b[0m \u001b[32m━━━━━━━━━━━━━━━━━━━━\u001b[0m\u001b[37m\u001b[0m \u001b[1m109s\u001b[0m 721us/step - acc: 0.5861 - loss: 1.2304 - val_acc: 0.6548 - val_loss: 1.0239\n",
      "Epoch 96/200\n",
      "\u001b[1m151271/151271\u001b[0m \u001b[32m━━━━━━━━━━━━━━━━━━━━\u001b[0m\u001b[37m\u001b[0m \u001b[1m110s\u001b[0m 727us/step - acc: 0.5863 - loss: 1.2301 - val_acc: 0.6561 - val_loss: 1.0206\n",
      "Epoch 97/200\n",
      "\u001b[1m151271/151271\u001b[0m \u001b[32m━━━━━━━━━━━━━━━━━━━━\u001b[0m\u001b[37m\u001b[0m \u001b[1m110s\u001b[0m 729us/step - acc: 0.5860 - loss: 1.2303 - val_acc: 0.6541 - val_loss: 1.0222\n",
      "Epoch 98/200\n",
      "\u001b[1m151271/151271\u001b[0m \u001b[32m━━━━━━━━━━━━━━━━━━━━\u001b[0m\u001b[37m\u001b[0m \u001b[1m111s\u001b[0m 731us/step - acc: 0.5856 - loss: 1.2298 - val_acc: 0.6560 - val_loss: 1.0163\n",
      "Epoch 99/200\n",
      "\u001b[1m151271/151271\u001b[0m \u001b[32m━━━━━━━━━━━━━━━━━━━━\u001b[0m\u001b[37m\u001b[0m \u001b[1m111s\u001b[0m 734us/step - acc: 0.5860 - loss: 1.2295 - val_acc: 0.6559 - val_loss: 1.0145\n",
      "Epoch 100/200\n",
      "\u001b[1m151271/151271\u001b[0m \u001b[32m━━━━━━━━━━━━━━━━━━━━\u001b[0m\u001b[37m\u001b[0m \u001b[1m111s\u001b[0m 736us/step - acc: 0.5867 - loss: 1.2286 - val_acc: 0.6545 - val_loss: 1.0201\n",
      "Epoch 101/200\n",
      "\u001b[1m151271/151271\u001b[0m \u001b[32m━━━━━━━━━━━━━━━━━━━━\u001b[0m\u001b[37m\u001b[0m \u001b[1m112s\u001b[0m 738us/step - acc: 0.5861 - loss: 1.2308 - val_acc: 0.6525 - val_loss: 1.0204\n",
      "Epoch 102/200\n",
      "\u001b[1m151271/151271\u001b[0m \u001b[32m━━━━━━━━━━━━━━━━━━━━\u001b[0m\u001b[37m\u001b[0m \u001b[1m113s\u001b[0m 744us/step - acc: 0.5862 - loss: 1.2292 - val_acc: 0.6557 - val_loss: 1.0258\n",
      "Epoch 103/200\n",
      "\u001b[1m151271/151271\u001b[0m \u001b[32m━━━━━━━━━━━━━━━━━━━━\u001b[0m\u001b[37m\u001b[0m \u001b[1m113s\u001b[0m 748us/step - acc: 0.5864 - loss: 1.2291 - val_acc: 0.6547 - val_loss: 1.0183\n",
      "Epoch 104/200\n",
      "\u001b[1m151271/151271\u001b[0m \u001b[32m━━━━━━━━━━━━━━━━━━━━\u001b[0m\u001b[37m\u001b[0m \u001b[1m114s\u001b[0m 750us/step - acc: 0.5870 - loss: 1.2282 - val_acc: 0.6556 - val_loss: 1.0215\n",
      "Epoch 105/200\n",
      "\u001b[1m151271/151271\u001b[0m \u001b[32m━━━━━━━━━━━━━━━━━━━━\u001b[0m\u001b[37m\u001b[0m \u001b[1m114s\u001b[0m 752us/step - acc: 0.5868 - loss: 1.2286 - val_acc: 0.6543 - val_loss: 1.0194\n",
      "Epoch 106/200\n",
      "\u001b[1m151271/151271\u001b[0m \u001b[32m━━━━━━━━━━━━━━━━━━━━\u001b[0m\u001b[37m\u001b[0m \u001b[1m115s\u001b[0m 758us/step - acc: 0.5862 - loss: 1.2297 - val_acc: 0.6576 - val_loss: 1.0200\n",
      "Epoch 107/200\n",
      "\u001b[1m151271/151271\u001b[0m \u001b[32m━━━━━━━━━━━━━━━━━━━━\u001b[0m\u001b[37m\u001b[0m \u001b[1m115s\u001b[0m 757us/step - acc: 0.5864 - loss: 1.2297 - val_acc: 0.6578 - val_loss: 1.0158\n",
      "Epoch 108/200\n",
      "\u001b[1m151271/151271\u001b[0m \u001b[32m━━━━━━━━━━━━━━━━━━━━\u001b[0m\u001b[37m\u001b[0m \u001b[1m115s\u001b[0m 761us/step - acc: 0.5864 - loss: 1.2294 - val_acc: 0.6552 - val_loss: 1.0246\n",
      "Epoch 109/200\n",
      "\u001b[1m151271/151271\u001b[0m \u001b[32m━━━━━━━━━━━━━━━━━━━━\u001b[0m\u001b[37m\u001b[0m \u001b[1m116s\u001b[0m 765us/step - acc: 0.5867 - loss: 1.2285 - val_acc: 0.6552 - val_loss: 1.0206\n",
      "Epoch 110/200\n",
      "\u001b[1m151271/151271\u001b[0m \u001b[32m━━━━━━━━━━━━━━━━━━━━\u001b[0m\u001b[37m\u001b[0m \u001b[1m114s\u001b[0m 751us/step - acc: 0.5865 - loss: 1.2282 - val_acc: 0.6551 - val_loss: 1.0208\n",
      "Epoch 111/200\n",
      "\u001b[1m151271/151271\u001b[0m \u001b[32m━━━━━━━━━━━━━━━━━━━━\u001b[0m\u001b[37m\u001b[0m \u001b[1m115s\u001b[0m 756us/step - acc: 0.5865 - loss: 1.2289 - val_acc: 0.6557 - val_loss: 1.0212\n",
      "Epoch 112/200\n",
      "\u001b[1m151271/151271\u001b[0m \u001b[32m━━━━━━━━━━━━━━━━━━━━\u001b[0m\u001b[37m\u001b[0m \u001b[1m116s\u001b[0m 765us/step - acc: 0.5863 - loss: 1.2295 - val_acc: 0.6546 - val_loss: 1.0196\n",
      "Epoch 113/200\n",
      "\u001b[1m151271/151271\u001b[0m \u001b[32m━━━━━━━━━━━━━━━━━━━━\u001b[0m\u001b[37m\u001b[0m \u001b[1m117s\u001b[0m 773us/step - acc: 0.5860 - loss: 1.2287 - val_acc: 0.6578 - val_loss: 1.0194\n",
      "Epoch 114/200\n",
      "\u001b[1m151271/151271\u001b[0m \u001b[32m━━━━━━━━━━━━━━━━━━━━\u001b[0m\u001b[37m\u001b[0m \u001b[1m117s\u001b[0m 774us/step - acc: 0.5863 - loss: 1.2293 - val_acc: 0.6549 - val_loss: 1.0220\n",
      "Epoch 115/200\n",
      "\u001b[1m151271/151271\u001b[0m \u001b[32m━━━━━━━━━━━━━━━━━━━━\u001b[0m\u001b[37m\u001b[0m \u001b[1m118s\u001b[0m 780us/step - acc: 0.5866 - loss: 1.2284 - val_acc: 0.6544 - val_loss: 1.0207\n",
      "Epoch 116/200\n",
      "\u001b[1m151271/151271\u001b[0m \u001b[32m━━━━━━━━━━━━━━━━━━━━\u001b[0m\u001b[37m\u001b[0m \u001b[1m120s\u001b[0m 791us/step - acc: 0.5862 - loss: 1.2287 - val_acc: 0.6544 - val_loss: 1.0240\n",
      "Epoch 117/200\n",
      "\u001b[1m151271/151271\u001b[0m \u001b[32m━━━━━━━━━━━━━━━━━━━━\u001b[0m\u001b[37m\u001b[0m \u001b[1m120s\u001b[0m 792us/step - acc: 0.5858 - loss: 1.2287 - val_acc: 0.6579 - val_loss: 1.0152\n",
      "Epoch 118/200\n",
      "\u001b[1m151271/151271\u001b[0m \u001b[32m━━━━━━━━━━━━━━━━━━━━\u001b[0m\u001b[37m\u001b[0m \u001b[1m121s\u001b[0m 800us/step - acc: 0.5861 - loss: 1.2290 - val_acc: 0.6556 - val_loss: 1.0179\n",
      "Epoch 119/200\n",
      "\u001b[1m151271/151271\u001b[0m \u001b[32m━━━━━━━━━━━━━━━━━━━━\u001b[0m\u001b[37m\u001b[0m \u001b[1m121s\u001b[0m 802us/step - acc: 0.5857 - loss: 1.2291 - val_acc: 0.6554 - val_loss: 1.0217\n",
      "Epoch 120/200\n",
      "\u001b[1m151271/151271\u001b[0m \u001b[32m━━━━━━━━━━━━━━━━━━━━\u001b[0m\u001b[37m\u001b[0m \u001b[1m122s\u001b[0m 806us/step - acc: 0.5859 - loss: 1.2294 - val_acc: 0.6539 - val_loss: 1.0235\n",
      "Epoch 121/200\n",
      "\u001b[1m151271/151271\u001b[0m \u001b[32m━━━━━━━━━━━━━━━━━━━━\u001b[0m\u001b[37m\u001b[0m \u001b[1m122s\u001b[0m 806us/step - acc: 0.5869 - loss: 1.2265 - val_acc: 0.6523 - val_loss: 1.0207\n",
      "Epoch 122/200\n",
      "\u001b[1m151271/151271\u001b[0m \u001b[32m━━━━━━━━━━━━━━━━━━━━\u001b[0m\u001b[37m\u001b[0m \u001b[1m123s\u001b[0m 812us/step - acc: 0.5864 - loss: 1.2281 - val_acc: 0.6574 - val_loss: 1.0136\n",
      "Epoch 123/200\n",
      "\u001b[1m151271/151271\u001b[0m \u001b[32m━━━━━━━━━━━━━━━━━━━━\u001b[0m\u001b[37m\u001b[0m \u001b[1m123s\u001b[0m 814us/step - acc: 0.5863 - loss: 1.2276 - val_acc: 0.6576 - val_loss: 1.0210\n",
      "Epoch 124/200\n",
      "\u001b[1m151271/151271\u001b[0m \u001b[32m━━━━━━━━━━━━━━━━━━━━\u001b[0m\u001b[37m\u001b[0m \u001b[1m124s\u001b[0m 818us/step - acc: 0.5860 - loss: 1.2284 - val_acc: 0.6544 - val_loss: 1.0210\n",
      "Epoch 125/200\n",
      "\u001b[1m151271/151271\u001b[0m \u001b[32m━━━━━━━━━━━━━━━━━━━━\u001b[0m\u001b[37m\u001b[0m \u001b[1m124s\u001b[0m 820us/step - acc: 0.5857 - loss: 1.2288 - val_acc: 0.6568 - val_loss: 1.0221\n",
      "Epoch 126/200\n",
      "\u001b[1m151271/151271\u001b[0m \u001b[32m━━━━━━━━━━━━━━━━━━━━\u001b[0m\u001b[37m\u001b[0m \u001b[1m125s\u001b[0m 825us/step - acc: 0.5859 - loss: 1.2280 - val_acc: 0.6556 - val_loss: 1.0187\n",
      "Epoch 127/200\n",
      "\u001b[1m151271/151271\u001b[0m \u001b[32m━━━━━━━━━━━━━━━━━━━━\u001b[0m\u001b[37m\u001b[0m \u001b[1m126s\u001b[0m 830us/step - acc: 0.5861 - loss: 1.2285 - val_acc: 0.6557 - val_loss: 1.0189\n",
      "Epoch 128/200\n",
      "\u001b[1m151271/151271\u001b[0m \u001b[32m━━━━━━━━━━━━━━━━━━━━\u001b[0m\u001b[37m\u001b[0m \u001b[1m126s\u001b[0m 831us/step - acc: 0.5858 - loss: 1.2285 - val_acc: 0.6540 - val_loss: 1.0214\n",
      "Epoch 129/200\n",
      "\u001b[1m151271/151271\u001b[0m \u001b[32m━━━━━━━━━━━━━━━━━━━━\u001b[0m\u001b[37m\u001b[0m \u001b[1m127s\u001b[0m 836us/step - acc: 0.5860 - loss: 1.2278 - val_acc: 0.6518 - val_loss: 1.0238\n",
      "Epoch 130/200\n",
      "\u001b[1m151271/151271\u001b[0m \u001b[32m━━━━━━━━━━━━━━━━━━━━\u001b[0m\u001b[37m\u001b[0m \u001b[1m128s\u001b[0m 844us/step - acc: 0.5861 - loss: 1.2282 - val_acc: 0.6562 - val_loss: 1.0163\n",
      "Epoch 131/200\n",
      "\u001b[1m151271/151271\u001b[0m \u001b[32m━━━━━━━━━━━━━━━━━━━━\u001b[0m\u001b[37m\u001b[0m \u001b[1m128s\u001b[0m 847us/step - acc: 0.5860 - loss: 1.2284 - val_acc: 0.6535 - val_loss: 1.0211\n",
      "Epoch 132/200\n",
      "\u001b[1m151271/151271\u001b[0m \u001b[32m━━━━━━━━━━━━━━━━━━━━\u001b[0m\u001b[37m\u001b[0m \u001b[1m129s\u001b[0m 851us/step - acc: 0.5861 - loss: 1.2282 - val_acc: 0.6553 - val_loss: 1.0166\n",
      "Epoch 133/200\n",
      "\u001b[1m151271/151271\u001b[0m \u001b[32m━━━━━━━━━━━━━━━━━━━━\u001b[0m\u001b[37m\u001b[0m \u001b[1m129s\u001b[0m 855us/step - acc: 0.5862 - loss: 1.2285 - val_acc: 0.6535 - val_loss: 1.0230\n",
      "Epoch 134/200\n",
      "\u001b[1m151271/151271\u001b[0m \u001b[32m━━━━━━━━━━━━━━━━━━━━\u001b[0m\u001b[37m\u001b[0m \u001b[1m131s\u001b[0m 866us/step - acc: 0.5858 - loss: 1.2284 - val_acc: 0.6563 - val_loss: 1.0225\n",
      "Epoch 135/200\n",
      "\u001b[1m151271/151271\u001b[0m \u001b[32m━━━━━━━━━━━━━━━━━━━━\u001b[0m\u001b[37m\u001b[0m \u001b[1m131s\u001b[0m 866us/step - acc: 0.5859 - loss: 1.2284 - val_acc: 0.6543 - val_loss: 1.0224\n",
      "Epoch 136/200\n",
      "\u001b[1m151271/151271\u001b[0m \u001b[32m━━━━━━━━━━━━━━━━━━━━\u001b[0m\u001b[37m\u001b[0m \u001b[1m131s\u001b[0m 868us/step - acc: 0.5866 - loss: 1.2269 - val_acc: 0.6528 - val_loss: 1.0293\n",
      "Epoch 137/200\n",
      "\u001b[1m151271/151271\u001b[0m \u001b[32m━━━━━━━━━━━━━━━━━━━━\u001b[0m\u001b[37m\u001b[0m \u001b[1m133s\u001b[0m 876us/step - acc: 0.5861 - loss: 1.2277 - val_acc: 0.6534 - val_loss: 1.0205\n",
      "Epoch 138/200\n",
      "\u001b[1m151271/151271\u001b[0m \u001b[32m━━━━━━━━━━━━━━━━━━━━\u001b[0m\u001b[37m\u001b[0m \u001b[1m133s\u001b[0m 878us/step - acc: 0.5861 - loss: 1.2278 - val_acc: 0.6562 - val_loss: 1.0169\n",
      "Epoch 139/200\n",
      "\u001b[1m151271/151271\u001b[0m \u001b[32m━━━━━━━━━━━━━━━━━━━━\u001b[0m\u001b[37m\u001b[0m \u001b[1m133s\u001b[0m 877us/step - acc: 0.5866 - loss: 1.2273 - val_acc: 0.6556 - val_loss: 1.0243\n",
      "Epoch 140/200\n",
      "\u001b[1m151271/151271\u001b[0m \u001b[32m━━━━━━━━━━━━━━━━━━━━\u001b[0m\u001b[37m\u001b[0m \u001b[1m134s\u001b[0m 884us/step - acc: 0.5861 - loss: 1.2276 - val_acc: 0.6530 - val_loss: 1.0222\n",
      "Epoch 141/200\n",
      "\u001b[1m151271/151271\u001b[0m \u001b[32m━━━━━━━━━━━━━━━━━━━━\u001b[0m\u001b[37m\u001b[0m \u001b[1m135s\u001b[0m 889us/step - acc: 0.5862 - loss: 1.2279 - val_acc: 0.6562 - val_loss: 1.0266\n",
      "Epoch 142/200\n",
      "\u001b[1m151271/151271\u001b[0m \u001b[32m━━━━━━━━━━━━━━━━━━━━\u001b[0m\u001b[37m\u001b[0m \u001b[1m136s\u001b[0m 896us/step - acc: 0.5861 - loss: 1.2275 - val_acc: 0.6534 - val_loss: 1.0240\n",
      "Epoch 143/200\n",
      "\u001b[1m151271/151271\u001b[0m \u001b[32m━━━━━━━━━━━━━━━━━━━━\u001b[0m\u001b[37m\u001b[0m \u001b[1m137s\u001b[0m 905us/step - acc: 0.5866 - loss: 1.2272 - val_acc: 0.6533 - val_loss: 1.0189\n",
      "Epoch 144/200\n",
      "\u001b[1m151271/151271\u001b[0m \u001b[32m━━━━━━━━━━━━━━━━━━━━\u001b[0m\u001b[37m\u001b[0m \u001b[1m137s\u001b[0m 904us/step - acc: 0.5865 - loss: 1.2272 - val_acc: 0.6538 - val_loss: 1.0214\n",
      "Epoch 145/200\n",
      "\u001b[1m151271/151271\u001b[0m \u001b[32m━━━━━━━━━━━━━━━━━━━━\u001b[0m\u001b[37m\u001b[0m \u001b[1m138s\u001b[0m 913us/step - acc: 0.5865 - loss: 1.2271 - val_acc: 0.6567 - val_loss: 1.0144\n",
      "Epoch 146/200\n",
      "\u001b[1m151271/151271\u001b[0m \u001b[32m━━━━━━━━━━━━━━━━━━━━\u001b[0m\u001b[37m\u001b[0m \u001b[1m139s\u001b[0m 918us/step - acc: 0.5862 - loss: 1.2276 - val_acc: 0.6540 - val_loss: 1.0188\n",
      "Epoch 147/200\n",
      "\u001b[1m151271/151271\u001b[0m \u001b[32m━━━━━━━━━━━━━━━━━━━━\u001b[0m\u001b[37m\u001b[0m \u001b[1m140s\u001b[0m 924us/step - acc: 0.5859 - loss: 1.2281 - val_acc: 0.6545 - val_loss: 1.0166\n",
      "Epoch 148/200\n",
      "\u001b[1m151271/151271\u001b[0m \u001b[32m━━━━━━━━━━━━━━━━━━━━\u001b[0m\u001b[37m\u001b[0m \u001b[1m141s\u001b[0m 931us/step - acc: 0.5866 - loss: 1.2267 - val_acc: 0.6550 - val_loss: 1.0222\n",
      "Epoch 149/200\n",
      "\u001b[1m151271/151271\u001b[0m \u001b[32m━━━━━━━━━━━━━━━━━━━━\u001b[0m\u001b[37m\u001b[0m \u001b[1m142s\u001b[0m 935us/step - acc: 0.5866 - loss: 1.2271 - val_acc: 0.6572 - val_loss: 1.0230\n",
      "Epoch 150/200\n",
      "\u001b[1m151271/151271\u001b[0m \u001b[32m━━━━━━━━━━━━━━━━━━━━\u001b[0m\u001b[37m\u001b[0m \u001b[1m142s\u001b[0m 940us/step - acc: 0.5867 - loss: 1.2270 - val_acc: 0.6539 - val_loss: 1.0242\n",
      "Epoch 151/200\n",
      "\u001b[1m151271/151271\u001b[0m \u001b[32m━━━━━━━━━━━━━━━━━━━━\u001b[0m\u001b[37m\u001b[0m \u001b[1m144s\u001b[0m 948us/step - acc: 0.5863 - loss: 1.2273 - val_acc: 0.6545 - val_loss: 1.0244\n",
      "Epoch 152/200\n",
      "\u001b[1m151271/151271\u001b[0m \u001b[32m━━━━━━━━━━━━━━━━━━━━\u001b[0m\u001b[37m\u001b[0m \u001b[1m145s\u001b[0m 957us/step - acc: 0.5864 - loss: 1.2273 - val_acc: 0.6549 - val_loss: 1.0170\n",
      "Epoch 153/200\n",
      "\u001b[1m151271/151271\u001b[0m \u001b[32m━━━━━━━━━━━━━━━━━━━━\u001b[0m\u001b[37m\u001b[0m \u001b[1m146s\u001b[0m 961us/step - acc: 0.5864 - loss: 1.2271 - val_acc: 0.6555 - val_loss: 1.0171\n",
      "Epoch 154/200\n",
      "\u001b[1m151271/151271\u001b[0m \u001b[32m━━━━━━━━━━━━━━━━━━━━\u001b[0m\u001b[37m\u001b[0m \u001b[1m147s\u001b[0m 974us/step - acc: 0.5863 - loss: 1.2261 - val_acc: 0.6520 - val_loss: 1.0207\n",
      "Epoch 155/200\n",
      "\u001b[1m151271/151271\u001b[0m \u001b[32m━━━━━━━━━━━━━━━━━━━━\u001b[0m\u001b[37m\u001b[0m \u001b[1m147s\u001b[0m 974us/step - acc: 0.5864 - loss: 1.2274 - val_acc: 0.6551 - val_loss: 1.0219\n",
      "Epoch 156/200\n",
      "\u001b[1m151271/151271\u001b[0m \u001b[32m━━━━━━━━━━━━━━━━━━━━\u001b[0m\u001b[37m\u001b[0m \u001b[1m150s\u001b[0m 992us/step - acc: 0.5863 - loss: 1.2277 - val_acc: 0.6544 - val_loss: 1.0227\n",
      "Epoch 157/200\n",
      "\u001b[1m151271/151271\u001b[0m \u001b[32m━━━━━━━━━━━━━━━━━━━━\u001b[0m\u001b[37m\u001b[0m \u001b[1m151s\u001b[0m 996us/step - acc: 0.5861 - loss: 1.2275 - val_acc: 0.6531 - val_loss: 1.0226\n",
      "Epoch 158/200\n",
      "\u001b[1m151271/151271\u001b[0m \u001b[32m━━━━━━━━━━━━━━━━━━━━\u001b[0m\u001b[37m\u001b[0m \u001b[1m151s\u001b[0m 998us/step - acc: 0.5862 - loss: 1.2275 - val_acc: 0.6544 - val_loss: 1.0216\n",
      "Epoch 159/200\n",
      "\u001b[1m151271/151271\u001b[0m \u001b[32m━━━━━━━━━━━━━━━━━━━━\u001b[0m\u001b[37m\u001b[0m \u001b[1m153s\u001b[0m 1ms/step - acc: 0.5868 - loss: 1.2268 - val_acc: 0.6519 - val_loss: 1.0193\n",
      "Epoch 160/200\n",
      "\u001b[1m151271/151271\u001b[0m \u001b[32m━━━━━━━━━━━━━━━━━━━━\u001b[0m\u001b[37m\u001b[0m \u001b[1m156s\u001b[0m 1ms/step - acc: 0.5863 - loss: 1.2274 - val_acc: 0.6532 - val_loss: 1.0202\n",
      "Epoch 161/200\n",
      "\u001b[1m151271/151271\u001b[0m \u001b[32m━━━━━━━━━━━━━━━━━━━━\u001b[0m\u001b[37m\u001b[0m \u001b[1m155s\u001b[0m 1ms/step - acc: 0.5863 - loss: 1.2275 - val_acc: 0.6517 - val_loss: 1.0183\n",
      "Epoch 162/200\n",
      "\u001b[1m151271/151271\u001b[0m \u001b[32m━━━━━━━━━━━━━━━━━━━━\u001b[0m\u001b[37m\u001b[0m \u001b[1m156s\u001b[0m 1ms/step - acc: 0.5860 - loss: 1.2274 - val_acc: 0.6514 - val_loss: 1.0238\n",
      "Epoch 163/200\n",
      "\u001b[1m151271/151271\u001b[0m \u001b[32m━━━━━━━━━━━━━━━━━━━━\u001b[0m\u001b[37m\u001b[0m \u001b[1m157s\u001b[0m 1ms/step - acc: 0.5866 - loss: 1.2262 - val_acc: 0.6526 - val_loss: 1.0219\n",
      "Epoch 164/200\n",
      "\u001b[1m151271/151271\u001b[0m \u001b[32m━━━━━━━━━━━━━━━━━━━━\u001b[0m\u001b[37m\u001b[0m \u001b[1m159s\u001b[0m 1ms/step - acc: 0.5863 - loss: 1.2272 - val_acc: 0.6535 - val_loss: 1.0187\n",
      "Epoch 165/200\n",
      "\u001b[1m151271/151271\u001b[0m \u001b[32m━━━━━━━━━━━━━━━━━━━━\u001b[0m\u001b[37m\u001b[0m \u001b[1m159s\u001b[0m 1ms/step - acc: 0.5863 - loss: 1.2272 - val_acc: 0.6552 - val_loss: 1.0175\n",
      "Epoch 166/200\n",
      "\u001b[1m151271/151271\u001b[0m \u001b[32m━━━━━━━━━━━━━━━━━━━━\u001b[0m\u001b[37m\u001b[0m \u001b[1m162s\u001b[0m 1ms/step - acc: 0.5860 - loss: 1.2269 - val_acc: 0.6572 - val_loss: 1.0122\n",
      "Epoch 167/200\n",
      "\u001b[1m151271/151271\u001b[0m \u001b[32m━━━━━━━━━━━━━━━━━━━━\u001b[0m\u001b[37m\u001b[0m \u001b[1m164s\u001b[0m 1ms/step - acc: 0.5869 - loss: 1.2261 - val_acc: 0.6505 - val_loss: 1.0211\n",
      "Epoch 168/200\n",
      "\u001b[1m151271/151271\u001b[0m \u001b[32m━━━━━━━━━━━━━━━━━━━━\u001b[0m\u001b[37m\u001b[0m \u001b[1m165s\u001b[0m 1ms/step - acc: 0.5861 - loss: 1.2270 - val_acc: 0.6545 - val_loss: 1.0230\n",
      "Epoch 169/200\n",
      "\u001b[1m151271/151271\u001b[0m \u001b[32m━━━━━━━━━━━━━━━━━━━━\u001b[0m\u001b[37m\u001b[0m \u001b[1m165s\u001b[0m 1ms/step - acc: 0.5865 - loss: 1.2259 - val_acc: 0.6534 - val_loss: 1.0181\n",
      "Epoch 170/200\n",
      "\u001b[1m151271/151271\u001b[0m \u001b[32m━━━━━━━━━━━━━━━━━━━━\u001b[0m\u001b[37m\u001b[0m \u001b[1m168s\u001b[0m 1ms/step - acc: 0.5864 - loss: 1.2262 - val_acc: 0.6548 - val_loss: 1.0217\n",
      "Epoch 171/200\n",
      "\u001b[1m151271/151271\u001b[0m \u001b[32m━━━━━━━━━━━━━━━━━━━━\u001b[0m\u001b[37m\u001b[0m \u001b[1m170s\u001b[0m 1ms/step - acc: 0.5860 - loss: 1.2270 - val_acc: 0.6551 - val_loss: 1.0188\n",
      "Epoch 172/200\n",
      "\u001b[1m151271/151271\u001b[0m \u001b[32m━━━━━━━━━━━━━━━━━━━━\u001b[0m\u001b[37m\u001b[0m \u001b[1m170s\u001b[0m 1ms/step - acc: 0.5861 - loss: 1.2278 - val_acc: 0.6548 - val_loss: 1.0225\n",
      "Epoch 173/200\n",
      "\u001b[1m151271/151271\u001b[0m \u001b[32m━━━━━━━━━━━━━━━━━━━━\u001b[0m\u001b[37m\u001b[0m \u001b[1m173s\u001b[0m 1ms/step - acc: 0.5864 - loss: 1.2272 - val_acc: 0.6562 - val_loss: 1.0153\n",
      "Epoch 174/200\n",
      "\u001b[1m151271/151271\u001b[0m \u001b[32m━━━━━━━━━━━━━━━━━━━━\u001b[0m\u001b[37m\u001b[0m \u001b[1m174s\u001b[0m 1ms/step - acc: 0.5863 - loss: 1.2273 - val_acc: 0.6532 - val_loss: 1.0216\n",
      "Epoch 175/200\n",
      "\u001b[1m151271/151271\u001b[0m \u001b[32m━━━━━━━━━━━━━━━━━━━━\u001b[0m\u001b[37m\u001b[0m \u001b[1m175s\u001b[0m 1ms/step - acc: 0.5867 - loss: 1.2263 - val_acc: 0.6534 - val_loss: 1.0196\n",
      "Epoch 176/200\n",
      "\u001b[1m151271/151271\u001b[0m \u001b[32m━━━━━━━━━━━━━━━━━━━━\u001b[0m\u001b[37m\u001b[0m \u001b[1m177s\u001b[0m 1ms/step - acc: 0.5863 - loss: 1.2270 - val_acc: 0.6510 - val_loss: 1.0233\n",
      "Epoch 177/200\n",
      "\u001b[1m151271/151271\u001b[0m \u001b[32m━━━━━━━━━━━━━━━━━━━━\u001b[0m\u001b[37m\u001b[0m \u001b[1m179s\u001b[0m 1ms/step - acc: 0.5859 - loss: 1.2269 - val_acc: 0.6561 - val_loss: 1.0182\n",
      "Epoch 178/200\n",
      "\u001b[1m151271/151271\u001b[0m \u001b[32m━━━━━━━━━━━━━━━━━━━━\u001b[0m\u001b[37m\u001b[0m \u001b[1m180s\u001b[0m 1ms/step - acc: 0.5867 - loss: 1.2255 - val_acc: 0.6549 - val_loss: 1.0163\n",
      "Epoch 179/200\n",
      "\u001b[1m151271/151271\u001b[0m \u001b[32m━━━━━━━━━━━━━━━━━━━━\u001b[0m\u001b[37m\u001b[0m \u001b[1m183s\u001b[0m 1ms/step - acc: 0.5862 - loss: 1.2270 - val_acc: 0.6540 - val_loss: 1.0234\n",
      "Epoch 180/200\n",
      "\u001b[1m151271/151271\u001b[0m \u001b[32m━━━━━━━━━━━━━━━━━━━━\u001b[0m\u001b[37m\u001b[0m \u001b[1m186s\u001b[0m 1ms/step - acc: 0.5860 - loss: 1.2278 - val_acc: 0.6559 - val_loss: 1.0202\n",
      "Epoch 181/200\n",
      "\u001b[1m151271/151271\u001b[0m \u001b[32m━━━━━━━━━━━━━━━━━━━━\u001b[0m\u001b[37m\u001b[0m \u001b[1m188s\u001b[0m 1ms/step - acc: 0.5864 - loss: 1.2271 - val_acc: 0.6576 - val_loss: 1.0162\n",
      "Epoch 182/200\n",
      "\u001b[1m151271/151271\u001b[0m \u001b[32m━━━━━━━━━━━━━━━━━━━━\u001b[0m\u001b[37m\u001b[0m \u001b[1m189s\u001b[0m 1ms/step - acc: 0.5870 - loss: 1.2257 - val_acc: 0.6525 - val_loss: 1.0247\n",
      "Epoch 183/200\n",
      "\u001b[1m151271/151271\u001b[0m \u001b[32m━━━━━━━━━━━━━━━━━━━━\u001b[0m\u001b[37m\u001b[0m \u001b[1m192s\u001b[0m 1ms/step - acc: 0.5865 - loss: 1.2262 - val_acc: 0.6545 - val_loss: 1.0243\n",
      "Epoch 184/200\n",
      "\u001b[1m151271/151271\u001b[0m \u001b[32m━━━━━━━━━━━━━━━━━━━━\u001b[0m\u001b[37m\u001b[0m \u001b[1m195s\u001b[0m 1ms/step - acc: 0.5867 - loss: 1.2271 - val_acc: 0.6527 - val_loss: 1.0232\n",
      "Epoch 185/200\n",
      "\u001b[1m151271/151271\u001b[0m \u001b[32m━━━━━━━━━━━━━━━━━━━━\u001b[0m\u001b[37m\u001b[0m \u001b[1m197s\u001b[0m 1ms/step - acc: 0.5871 - loss: 1.2262 - val_acc: 0.6535 - val_loss: 1.0233\n",
      "Epoch 186/200\n",
      "\u001b[1m151271/151271\u001b[0m \u001b[32m━━━━━━━━━━━━━━━━━━━━\u001b[0m\u001b[37m\u001b[0m \u001b[1m199s\u001b[0m 1ms/step - acc: 0.5862 - loss: 1.2272 - val_acc: 0.6546 - val_loss: 1.0196\n",
      "Epoch 187/200\n",
      "\u001b[1m151271/151271\u001b[0m \u001b[32m━━━━━━━━━━━━━━━━━━━━\u001b[0m\u001b[37m\u001b[0m \u001b[1m201s\u001b[0m 1ms/step - acc: 0.5863 - loss: 1.2272 - val_acc: 0.6588 - val_loss: 1.0161\n",
      "Epoch 188/200\n",
      "\u001b[1m151271/151271\u001b[0m \u001b[32m━━━━━━━━━━━━━━━━━━━━\u001b[0m\u001b[37m\u001b[0m \u001b[1m204s\u001b[0m 1ms/step - acc: 0.5864 - loss: 1.2267 - val_acc: 0.6549 - val_loss: 1.0227\n",
      "Epoch 189/200\n",
      "\u001b[1m151271/151271\u001b[0m \u001b[32m━━━━━━━━━━━━━━━━━━━━\u001b[0m\u001b[37m\u001b[0m \u001b[1m208s\u001b[0m 1ms/step - acc: 0.5866 - loss: 1.2267 - val_acc: 0.6551 - val_loss: 1.0226\n",
      "Epoch 190/200\n",
      "\u001b[1m151271/151271\u001b[0m \u001b[32m━━━━━━━━━━━━━━━━━━━━\u001b[0m\u001b[37m\u001b[0m \u001b[1m211s\u001b[0m 1ms/step - acc: 0.5864 - loss: 1.2267 - val_acc: 0.6521 - val_loss: 1.0261\n",
      "Epoch 191/200\n",
      "\u001b[1m151271/151271\u001b[0m \u001b[32m━━━━━━━━━━━━━━━━━━━━\u001b[0m\u001b[37m\u001b[0m \u001b[1m215s\u001b[0m 1ms/step - acc: 0.5864 - loss: 1.2272 - val_acc: 0.6533 - val_loss: 1.0231\n",
      "Epoch 192/200\n",
      "\u001b[1m151271/151271\u001b[0m \u001b[32m━━━━━━━━━━━━━━━━━━━━\u001b[0m\u001b[37m\u001b[0m \u001b[1m218s\u001b[0m 1ms/step - acc: 0.5864 - loss: 1.2270 - val_acc: 0.6534 - val_loss: 1.0214\n",
      "Epoch 193/200\n",
      "\u001b[1m151271/151271\u001b[0m \u001b[32m━━━━━━━━━━━━━━━━━━━━\u001b[0m\u001b[37m\u001b[0m \u001b[1m219s\u001b[0m 1ms/step - acc: 0.5865 - loss: 1.2262 - val_acc: 0.6537 - val_loss: 1.0202\n",
      "Epoch 194/200\n",
      "\u001b[1m151271/151271\u001b[0m \u001b[32m━━━━━━━━━━━━━━━━━━━━\u001b[0m\u001b[37m\u001b[0m \u001b[1m225s\u001b[0m 1ms/step - acc: 0.5865 - loss: 1.2268 - val_acc: 0.6556 - val_loss: 1.0181\n",
      "Epoch 195/200\n",
      "\u001b[1m151271/151271\u001b[0m \u001b[32m━━━━━━━━━━━━━━━━━━━━\u001b[0m\u001b[37m\u001b[0m \u001b[1m227s\u001b[0m 2ms/step - acc: 0.5868 - loss: 1.2261 - val_acc: 0.6534 - val_loss: 1.0206\n",
      "Epoch 196/200\n",
      "\u001b[1m151271/151271\u001b[0m \u001b[32m━━━━━━━━━━━━━━━━━━━━\u001b[0m\u001b[37m\u001b[0m \u001b[1m230s\u001b[0m 2ms/step - acc: 0.5861 - loss: 1.2278 - val_acc: 0.6551 - val_loss: 1.0220\n",
      "Epoch 197/200\n",
      "\u001b[1m151271/151271\u001b[0m \u001b[32m━━━━━━━━━━━━━━━━━━━━\u001b[0m\u001b[37m\u001b[0m \u001b[1m235s\u001b[0m 2ms/step - acc: 0.5866 - loss: 1.2265 - val_acc: 0.6534 - val_loss: 1.0205\n",
      "Epoch 198/200\n",
      "\u001b[1m151271/151271\u001b[0m \u001b[32m━━━━━━━━━━━━━━━━━━━━\u001b[0m\u001b[37m\u001b[0m \u001b[1m239s\u001b[0m 2ms/step - acc: 0.5866 - loss: 1.2269 - val_acc: 0.6548 - val_loss: 1.0177\n",
      "Epoch 199/200\n",
      "\u001b[1m151271/151271\u001b[0m \u001b[32m━━━━━━━━━━━━━━━━━━━━\u001b[0m\u001b[37m\u001b[0m \u001b[1m243s\u001b[0m 2ms/step - acc: 0.5865 - loss: 1.2270 - val_acc: 0.6566 - val_loss: 1.0195\n",
      "Epoch 200/200\n",
      "\u001b[1m151271/151271\u001b[0m \u001b[32m━━━━━━━━━━━━━━━━━━━━\u001b[0m\u001b[37m\u001b[0m \u001b[1m250s\u001b[0m 2ms/step - acc: 0.5863 - loss: 1.2278 - val_acc: 0.6527 - val_loss: 1.0229\n"
     ]
    }
   ],
   "source": [
    "### Train the model\n",
    "history = model.fit(X_train,\n",
    "                    y_train,\n",
    "                    batch_size=32,\n",
    "                    epochs=200,\n",
    "                    verbose=1,\n",
    "                    validation_data=(X_val, y_val)\n",
    "                   )"
   ]
  },
  {
   "cell_type": "markdown",
   "id": "fe785364-a10d-438c-8d65-0e833745e292",
   "metadata": {},
   "source": [
    "Evaluate model"
   ]
  },
  {
   "cell_type": "code",
   "execution_count": 34,
   "id": "326cc23e-300e-4fe7-80ec-a50263541c4f",
   "metadata": {},
   "outputs": [
    {
     "data": {
      "image/png": "[encoded data removed]",
      "text/plain": [
       "<Figure size 640x480 with 1 Axes>"
      ]
     },
     "metadata": {},
     "output_type": "display_data"
    },
    {
     "data": {
      "image/png": "[encoded data removed]",
      "text/plain": [
       "<Figure size 640x480 with 1 Axes>"
      ]
     },
     "metadata": {},
     "output_type": "display_data"
    }
   ],
   "source": [
    "### Plot training and validation accuracy and loss over time\n",
    "\n",
    "# Extract accuracy and loss values (in list form) from the history\n",
    "acc = history.history['acc']\n",
    "val_acc = history.history['val_acc']\n",
    "loss = history.history['loss']\n",
    "val_loss = history.history['val_loss']\n",
    "\n",
    "# Create a list of epoch numbers\n",
    "epochs = range(1, len(acc) + 1)\n",
    "\n",
    "# Plot training and validation loss values over time\n",
    "plt.figure()\n",
    "plt.plot(epochs, loss, color='blue', marker='.', label='Training loss')\n",
    "plt.plot(epochs, val_loss, color='orange', marker='.', label='Validation loss')\n",
    "plt.title('Training and validation loss')\n",
    "plt.legend()\n",
    "\n",
    "# Plot training and validation accuracies over time\n",
    "plt.figure()\n",
    "plt.plot(epochs, acc, color='blue', marker='.', label='Training acc')\n",
    "plt.plot(epochs, val_acc, color='orange', marker='.', label='Validation acc')\n",
    "plt.title('Training and validation accuracy')\n",
    "plt.legend()\n",
    "plt.show()"
   ]
  },
  {
   "cell_type": "code",
   "execution_count": 35,
   "id": "9a4c5361-5ec8-4257-a6d3-70eb1107ab7f",
   "metadata": {},
   "outputs": [
    {
     "name": "stdout",
     "output_type": "stream",
     "text": [
      "\u001b[1m37818/37818\u001b[0m \u001b[32m━━━━━━━━━━━━━━━━━━━━\u001b[0m\u001b[37m\u001b[0m \u001b[1m10s\u001b[0m 263us/step\n",
      "Validation output shape: (1210161, 15)\n",
      "Actual validation labels:\t [ 1 10  6 10  6 10 10  7  1  2 12  5  0 13  4  1  6 12 14  8  6 14  7  1\n",
      "  6 10  9  1  3 11 13  0  8  2  8  5  7  4  9 10  4 11  6 11  3 10  7 12\n",
      "  9  2]\n",
      "Predicted validation labels:\t [ 1 13 13 10  6 11 10  6  1  2 12 13  0 13 11  1  6 12 12  4  4 11  6  1\n",
      "  6 10  9  1  3  9 14  0  9  2 11  6  7  4  9 10 12 11  6 11  3 10  7 12\n",
      "  9  2]\n",
      "\n",
      " ---> Predicted labels\n",
      "|\n",
      "v Actual labels\n",
      "\t\t\t(0)    (1)    (2)    (3)    (4)    (5)    (6)    (7)    (8)    (9)    (10)   (11)   (12)   (13)   (14)  \n",
      "           0 (0):  [ 50312     14      5     22   5191   1759   1033   2457   1421   1047   1217   1303    228    909   1397]\n",
      "           1 (1):  [   194  80567      0      0    302   1024    357     86    310    390    296    358     15   1523     63]\n",
      "           2 (2):  [  1398      0  80347      0   1347    175    266   1597    384    289    353     75    873    504    100]\n",
      "           3 (3):  [   150      0      1  80752    402     39    581    266    480     40      0     15     75     10     33]\n",
      "           4 (4):  [  7293     69      0      0  32865   2314   1837   2890   8319   1357   4618   2066    153   1211   7321]\n",
      "           5 (5):  [   949     58      0      0    765  12780   1998    476   2024    470    434   3440     36   6103   2471]\n",
      "           6 (6):  [  1154      0      1      6   1491   2877  47145   5441   2316    995   1041   1192     10   4387    912]\n",
      "           7 (7):  [  2206      0     16     40   6857   1034   4226  50375   5364    428   1759    429    148   2406   1736]\n",
      "           8 (8):  [   898      0      0      0   7159   4752   3567   3776  27090    729   2051   4726    153   4674   7648]\n",
      "           9 (9):  [  3665     62      1      9   3022   6415   2411   2634   1893  61953    853   2200    175  13028   1368]\n",
      "          10 (10):  [   174      1      0      0   1421    537    339    674   1066    179  56520    362      0    500    231]\n",
      "          11 (11):  [  3824     84      0      3   6436  27558   7359   2217  16239   4213   7185  56870    435  15334   5971]\n",
      "          12 (12):  [  4466    102    113     39   3573   1879   1238   2362   1872   2246    959   1381  78312   1695    884]\n",
      "          13 (13):  [   608     61      0      0   3806  12495   7060   2649   4670   5336   2493   4187     73  26633   3224]\n",
      "          14 (14):  [  3288      7      0     15   6049   5095   1690   2772   7088    946    593   1918     13   1662  47304]\n"
     ]
    }
   ],
   "source": [
    "### Create confusion matrix from validation set\n",
    "\n",
    "# Find predictions from all validation samples\n",
    "y_pred = model.predict(X_val)\n",
    "print(\"Validation output shape:\", y_pred.shape)\n",
    "\n",
    "# Convert actual and predicted validation one-hot encoding to numerical labels\n",
    "y_val_trans = np.argmax(y_val, axis=1)\n",
    "y_pred_trans = np.argmax(y_pred, axis=1)\n",
    "\n",
    "# Print some values from actual and predicted validation sets (first 50 samples)\n",
    "print(\"Actual validation labels:\\t\", y_val_trans[:50])\n",
    "print(\"Predicted validation labels:\\t\", y_pred_trans[:50])\n",
    "\n",
    "# Compute confusion matrix (note: we need to transpose SKLearn matrix to make it match Edge Impulse)\n",
    "cm = confusion_matrix(y_val_trans, y_pred_trans)\n",
    "cm = np.transpose(cm)\n",
    "\n",
    "labels = range(len(gdf['uso_suelo'].unique()))\n",
    "\n",
    "# Print confusion matrix\n",
    "print()\n",
    "print(\" ---> Predicted labels\")\n",
    "print(\"|\")\n",
    "print(\"v Actual labels\")\n",
    "print(\"\\t\\t\\t\" + ' '.join(\"{!s:6}\".format('(' + str(i) + ')') for i in range(num_classes)))\n",
    "for row in range(num_classes):\n",
    "  print(\"{:>12} ({}):  [{}]\".format(labels[row], row, ' '.join(\"{:6}\".format(i) for i in cm[row])))\n",
    "    "
   ]
  },
  {
   "cell_type": "markdown",
   "id": "4d296dd7-70f5-40af-8ae0-4f634a3209f1",
   "metadata": {},
   "source": [
    "## Apply model to the full dataset"
   ]
  },
  {
   "cell_type": "markdown",
   "id": "8be37c16-612e-40bd-a52c-5c29f82d7a49",
   "metadata": {},
   "source": [
    "Predict landuse for every element"
   ]
  },
  {
   "cell_type": "code",
   "execution_count": 36,
   "id": "c0a037f4-092d-48ad-978e-153eab95c3f0",
   "metadata": {},
   "outputs": [
    {
     "name": "stdout",
     "output_type": "stream",
     "text": [
      "\u001b[1m21250/21250\u001b[0m \u001b[32m━━━━━━━━━━━━━━━━━━━━\u001b[0m\u001b[37m\u001b[0m \u001b[1m6s\u001b[0m 267us/step\n"
     ]
    }
   ],
   "source": [
    "y_hat = model.predict(X_scaled)"
   ]
  },
  {
   "cell_type": "markdown",
   "id": "b69dc84b-22a3-4948-a79c-b4007dcab56b",
   "metadata": {},
   "source": [
    "Create prediction variables"
   ]
  },
  {
   "cell_type": "code",
   "execution_count": 37,
   "id": "6b5f3d58-8f71-451f-a172-fd55b84ac5a8",
   "metadata": {},
   "outputs": [
    {
     "data": {
      "text/plain": [
       "['pct_smote_agropecuario',\n",
       " 'pct_smote_alojamiento_temporal',\n",
       " 'pct_smote_area_libre',\n",
       " 'pct_smote_area_natural',\n",
       " 'pct_smote_baldio',\n",
       " 'pct_smote_comercio',\n",
       " 'pct_smote_equipamiento',\n",
       " 'pct_smote_espacio_verde',\n",
       " 'pct_smote_habitacional',\n",
       " 'pct_smote_industria',\n",
       " 'pct_smote_infraestructura',\n",
       " 'pct_smote_mixto',\n",
       " 'pct_smote_otros',\n",
       " 'pct_smote_servicio',\n",
       " 'pct_smote_sin_dato']"
      ]
     },
     "execution_count": 37,
     "metadata": {},
     "output_type": "execute_result"
    }
   ],
   "source": [
    "category_list = ['agropecuario','alojamiento_temporal',\n",
    "                 'area_libre','area_natural','baldio','comercio',\n",
    "                'equipamiento','espacio_verde','habitacional',\n",
    "                'industria','infraestructura','mixto','otros',\n",
    "                 'servicio','sin_dato']\n",
    "\n",
    "prefix = 'pct_smote_'\n",
    "\n",
    "category_list = [prefix+cl for cl in category_list]\n",
    "category_list"
   ]
  },
  {
   "cell_type": "code",
   "execution_count": 38,
   "id": "c05c7649-5f94-4e02-83dd-ae0a3009c8a7",
   "metadata": {},
   "outputs": [
    {
     "name": "stdout",
     "output_type": "stream",
     "text": [
      "(680000, 88)\n"
     ]
    },
    {
     "data": {
      "text/html": [
       "<div>\n",
       "<style scoped>\n",
       "    .dataframe tbody tr th:only-of-type {\n",
       "        vertical-align: middle;\n",
       "    }\n",
       "\n",
       "    .dataframe tbody tr th {\n",
       "        vertical-align: top;\n",
       "    }\n",
       "\n",
       "    .dataframe thead th {\n",
       "        text-align: right;\n",
       "    }\n",
       "</style>\n",
       "<table border=\"1\" class=\"dataframe\">\n",
       "  <thead>\n",
       "    <tr style=\"text-align: right;\">\n",
       "      <th></th>\n",
       "      <th>fid</th>\n",
       "      <th>uso_suelo</th>\n",
       "      <th>area_m2</th>\n",
       "      <th>full_plus_code</th>\n",
       "      <th>CVEGEO</th>\n",
       "      <th>bld_area_m2</th>\n",
       "      <th>block_area_m2</th>\n",
       "      <th>pred_area_m2</th>\n",
       "      <th>pred_area_pct</th>\n",
       "      <th>bld_pred_area_pct</th>\n",
       "      <th>...</th>\n",
       "      <th>pct_smote_comercio</th>\n",
       "      <th>pct_smote_equipamiento</th>\n",
       "      <th>pct_smote_espacio_verde</th>\n",
       "      <th>pct_smote_habitacional</th>\n",
       "      <th>pct_smote_industria</th>\n",
       "      <th>pct_smote_infraestructura</th>\n",
       "      <th>pct_smote_mixto</th>\n",
       "      <th>pct_smote_otros</th>\n",
       "      <th>pct_smote_servicio</th>\n",
       "      <th>pct_smote_sin_dato</th>\n",
       "    </tr>\n",
       "  </thead>\n",
       "  <tbody>\n",
       "    <tr>\n",
       "      <th>0</th>\n",
       "      <td>0</td>\n",
       "      <td>Sin dato</td>\n",
       "      <td>67.279056</td>\n",
       "      <td>75GRMGQW+89PG</td>\n",
       "      <td>1412000011206018</td>\n",
       "      <td>12.438638</td>\n",
       "      <td>278416.454431</td>\n",
       "      <td>67.279056</td>\n",
       "      <td>0.000242</td>\n",
       "      <td>0.184881</td>\n",
       "      <td>...</td>\n",
       "      <td>0.002586</td>\n",
       "      <td>0.002415</td>\n",
       "      <td>0.000182</td>\n",
       "      <td>0.005375</td>\n",
       "      <td>0.003722</td>\n",
       "      <td>2.180515e-07</td>\n",
       "      <td>0.000374</td>\n",
       "      <td>5.108383e-08</td>\n",
       "      <td>0.015768</td>\n",
       "      <td>0.965275</td>\n",
       "    </tr>\n",
       "    <tr>\n",
       "      <th>1</th>\n",
       "      <td>1</td>\n",
       "      <td>Sin dato</td>\n",
       "      <td>45.355545</td>\n",
       "      <td>75GRMGQW+8CFP</td>\n",
       "      <td>1412000011206018</td>\n",
       "      <td>4.482118</td>\n",
       "      <td>278416.454431</td>\n",
       "      <td>45.355545</td>\n",
       "      <td>0.000163</td>\n",
       "      <td>0.098822</td>\n",
       "      <td>...</td>\n",
       "      <td>0.001507</td>\n",
       "      <td>0.002098</td>\n",
       "      <td>0.000268</td>\n",
       "      <td>0.005907</td>\n",
       "      <td>0.003418</td>\n",
       "      <td>1.469073e-07</td>\n",
       "      <td>0.000301</td>\n",
       "      <td>5.026721e-08</td>\n",
       "      <td>0.010871</td>\n",
       "      <td>0.970650</td>\n",
       "    </tr>\n",
       "    <tr>\n",
       "      <th>2</th>\n",
       "      <td>2</td>\n",
       "      <td>Sin dato</td>\n",
       "      <td>18.488100</td>\n",
       "      <td>75GRMGQW+8CHQ</td>\n",
       "      <td>1412000011206018</td>\n",
       "      <td>4.482118</td>\n",
       "      <td>278416.454431</td>\n",
       "      <td>18.488100</td>\n",
       "      <td>0.000066</td>\n",
       "      <td>0.242433</td>\n",
       "      <td>...</td>\n",
       "      <td>0.001891</td>\n",
       "      <td>0.003173</td>\n",
       "      <td>0.000494</td>\n",
       "      <td>0.008634</td>\n",
       "      <td>0.003767</td>\n",
       "      <td>2.103852e-07</td>\n",
       "      <td>0.000403</td>\n",
       "      <td>2.000117e-08</td>\n",
       "      <td>0.013063</td>\n",
       "      <td>0.962016</td>\n",
       "    </tr>\n",
       "    <tr>\n",
       "      <th>3</th>\n",
       "      <td>3</td>\n",
       "      <td>Sin dato</td>\n",
       "      <td>4.936089</td>\n",
       "      <td>75GRMGQW+8GCG</td>\n",
       "      <td>1412000011206018</td>\n",
       "      <td>42.992618</td>\n",
       "      <td>278416.454431</td>\n",
       "      <td>4.936089</td>\n",
       "      <td>0.000018</td>\n",
       "      <td>8.709855</td>\n",
       "      <td>...</td>\n",
       "      <td>0.001958</td>\n",
       "      <td>0.003411</td>\n",
       "      <td>0.000518</td>\n",
       "      <td>0.009182</td>\n",
       "      <td>0.003848</td>\n",
       "      <td>2.116490e-07</td>\n",
       "      <td>0.000417</td>\n",
       "      <td>1.588573e-08</td>\n",
       "      <td>0.013686</td>\n",
       "      <td>0.960146</td>\n",
       "    </tr>\n",
       "  </tbody>\n",
       "</table>\n",
       "<p>4 rows × 88 columns</p>\n",
       "</div>"
      ],
      "text/plain": [
       "   fid uso_suelo    area_m2 full_plus_code            CVEGEO  bld_area_m2  \\\n",
       "0    0  Sin dato  67.279056  75GRMGQW+89PG  1412000011206018    12.438638   \n",
       "1    1  Sin dato  45.355545  75GRMGQW+8CFP  1412000011206018     4.482118   \n",
       "2    2  Sin dato  18.488100  75GRMGQW+8CHQ  1412000011206018     4.482118   \n",
       "3    3  Sin dato   4.936089  75GRMGQW+8GCG  1412000011206018    42.992618   \n",
       "\n",
       "   block_area_m2  pred_area_m2  pred_area_pct  bld_pred_area_pct  ...  \\\n",
       "0  278416.454431     67.279056       0.000242           0.184881  ...   \n",
       "1  278416.454431     45.355545       0.000163           0.098822  ...   \n",
       "2  278416.454431     18.488100       0.000066           0.242433  ...   \n",
       "3  278416.454431      4.936089       0.000018           8.709855  ...   \n",
       "\n",
       "   pct_smote_comercio  pct_smote_equipamiento  pct_smote_espacio_verde  \\\n",
       "0            0.002586                0.002415                 0.000182   \n",
       "1            0.001507                0.002098                 0.000268   \n",
       "2            0.001891                0.003173                 0.000494   \n",
       "3            0.001958                0.003411                 0.000518   \n",
       "\n",
       "   pct_smote_habitacional  pct_smote_industria  pct_smote_infraestructura  \\\n",
       "0                0.005375             0.003722               2.180515e-07   \n",
       "1                0.005907             0.003418               1.469073e-07   \n",
       "2                0.008634             0.003767               2.103852e-07   \n",
       "3                0.009182             0.003848               2.116490e-07   \n",
       "\n",
       "   pct_smote_mixto  pct_smote_otros  pct_smote_servicio  pct_smote_sin_dato  \n",
       "0         0.000374     5.108383e-08            0.015768            0.965275  \n",
       "1         0.000301     5.026721e-08            0.010871            0.970650  \n",
       "2         0.000403     2.000117e-08            0.013063            0.962016  \n",
       "3         0.000417     1.588573e-08            0.013686            0.960146  \n",
       "\n",
       "[4 rows x 88 columns]"
      ]
     },
     "execution_count": 38,
     "metadata": {},
     "output_type": "execute_result"
    }
   ],
   "source": [
    "gdf[category_list] = y_hat\n",
    "print(gdf.shape)\n",
    "gdf.head(4)"
   ]
  },
  {
   "cell_type": "markdown",
   "id": "0b261529-9bc7-4797-96c3-11250d8a057f",
   "metadata": {},
   "source": [
    "Assign data to polygons"
   ]
  },
  {
   "cell_type": "code",
   "execution_count": 26,
   "id": "531318ae-91e3-4725-a6aa-695604f5cc84",
   "metadata": {},
   "outputs": [],
   "source": [
    "# gdf['pred'] = y_hat.argmax(axis=1)"
   ]
  },
  {
   "cell_type": "markdown",
   "id": "56532a5d-3cf3-4124-a7d5-f3aa870157ba",
   "metadata": {},
   "source": [
    "### Save model"
   ]
  },
  {
   "cell_type": "code",
   "execution_count": 27,
   "id": "03fcb381-7f06-4f35-8a53-e1acf40d37f2",
   "metadata": {},
   "outputs": [],
   "source": [
    "import pickle"
   ]
  },
  {
   "cell_type": "code",
   "execution_count": 39,
   "id": "a644f589-1616-4021-9bf9-324411c2b818",
   "metadata": {},
   "outputs": [],
   "source": [
    "model_name = 'landuse_nn_ModelSmote'\n",
    "pickle.dump(model, open(f\"../../data/processed/prediccion_uso_suelo/complete_model/{model_name}.pkl\", \"wb\"))"
   ]
  },
  {
   "cell_type": "markdown",
   "id": "d5231504-e17c-4156-a19c-091e8269682c",
   "metadata": {},
   "source": [
    "### Save output"
   ]
  },
  {
   "cell_type": "code",
   "execution_count": 40,
   "id": "60141096-5433-421e-8f2f-4ad293ac4d6b",
   "metadata": {},
   "outputs": [],
   "source": [
    "gdf.to_file('../../data/processed/prediccion_uso_suelo/complete_model/area_of_prediction_primera_pred.gpkg')"
   ]
  },
  {
   "cell_type": "code",
   "execution_count": null,
   "id": "1cb336fd-8ac2-47ad-bc50-3778f3b88e07",
   "metadata": {},
   "outputs": [],
   "source": []
  },
  {
   "cell_type": "code",
   "execution_count": null,
   "id": "11691d38-33b4-4f25-9341-47e8c4fb4bb0",
   "metadata": {},
   "outputs": [],
   "source": []
  }
 ],
 "metadata": {
  "kernelspec": {
   "display_name": "Python 3 (ipykernel)",
   "language": "python",
   "name": "python3"
  },
  "language_info": {
   "codemirror_mode": {
    "name": "ipython",
    "version": 3
   },
   "file_extension": ".py",
   "mimetype": "text/x-python",
   "name": "python",
   "nbconvert_exporter": "python",
   "pygments_lexer": "ipython3",
   "version": "3.11.11"
  }
 },
 "nbformat": 4,
 "nbformat_minor": 5
}
