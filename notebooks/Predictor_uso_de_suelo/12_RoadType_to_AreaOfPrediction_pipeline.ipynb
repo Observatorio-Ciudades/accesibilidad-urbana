{
 "cells": [
  {
   "cell_type": "markdown",
   "id": "a8af0840-2b14-4f93-83bf-61de9eeaf89b",
   "metadata": {},
   "source": [
    "# Road type data to area of prediction"
   ]
  },
  {
   "cell_type": "markdown",
   "id": "43d674fd-d98c-43eb-9944-bfd989a7a96f",
   "metadata": {},
   "source": [
    "This notebooks integrates proximity to different road types to the area of prediction"
   ]
  },
  {
   "cell_type": "markdown",
   "id": "fa19daef-662d-40c0-8ec1-a88cda125e88",
   "metadata": {},
   "source": [
    "## Import libraries"
   ]
  },
  {
   "cell_type": "code",
   "execution_count": 1,
   "id": "7fe61409-5888-4436-b34f-ae7b33bacee8",
   "metadata": {},
   "outputs": [],
   "source": [
    "import geopandas as gpd\n",
    "import pandas as pd\n",
    "import numpy as np\n",
    "\n",
    "import rasterio\n",
    "import distancerasters as dr\n",
    "\n",
    "from joblib import Parallel, delayed\n",
    "from tqdm import tqdm\n",
    "\n",
    "import matplotlib.pyplot as plt\n",
    "import seaborn as sns\n",
    "\n",
    "import aup"
   ]
  },
  {
   "cell_type": "markdown",
   "id": "82b0ee52-c78f-4b5a-96ac-628244dcbb6e",
   "metadata": {},
   "source": [
    "## Data download/read and preprocessing"
   ]
  },
  {
   "cell_type": "markdown",
   "id": "15d05cc9-16bb-4678-a043-466cc8a22040",
   "metadata": {},
   "source": [
    "### Area of prediction with variables"
   ]
  },
  {
   "cell_type": "code",
   "execution_count": 2,
   "id": "588aff78-3171-4b64-8aff-0b68113aa29b",
   "metadata": {},
   "outputs": [
    {
     "name": "stdout",
     "output_type": "stream",
     "text": [
      "(682585, 37)\n"
     ]
    },
    {
     "data": {
      "text/html": [
       "<div>\n",
       "<style scoped>\n",
       "    .dataframe tbody tr th:only-of-type {\n",
       "        vertical-align: middle;\n",
       "    }\n",
       "\n",
       "    .dataframe tbody tr th {\n",
       "        vertical-align: top;\n",
       "    }\n",
       "\n",
       "    .dataframe thead th {\n",
       "        text-align: right;\n",
       "    }\n",
       "</style>\n",
       "<table border=\"1\" class=\"dataframe\">\n",
       "  <thead>\n",
       "    <tr style=\"text-align: right;\">\n",
       "      <th></th>\n",
       "      <th>uso_suelo</th>\n",
       "      <th>area_m2</th>\n",
       "      <th>full_plus_code</th>\n",
       "      <th>CVEGEO</th>\n",
       "      <th>bld_area_m2</th>\n",
       "      <th>block_area_m2</th>\n",
       "      <th>pred_area_m2</th>\n",
       "      <th>pred_area_pct</th>\n",
       "      <th>bld_pred_area_pct</th>\n",
       "      <th>pobtot</th>\n",
       "      <th>...</th>\n",
       "      <th>pct_comercio</th>\n",
       "      <th>pct_cultural_recreativo</th>\n",
       "      <th>pct_educacion</th>\n",
       "      <th>pct_salud</th>\n",
       "      <th>pct_gobierno</th>\n",
       "      <th>pct_otros</th>\n",
       "      <th>temperature_mean_diff</th>\n",
       "      <th>ndvi_mean</th>\n",
       "      <th>ndmi_diff</th>\n",
       "      <th>geometry</th>\n",
       "    </tr>\n",
       "  </thead>\n",
       "  <tbody>\n",
       "    <tr>\n",
       "      <th>0</th>\n",
       "      <td>Sin dato</td>\n",
       "      <td>67.279056</td>\n",
       "      <td>75GRMGQW+89PG</td>\n",
       "      <td>1412000011206018</td>\n",
       "      <td>12.438638</td>\n",
       "      <td>278416.454431</td>\n",
       "      <td>67.279056</td>\n",
       "      <td>0.000242</td>\n",
       "      <td>0.184881</td>\n",
       "      <td>0</td>\n",
       "      <td>...</td>\n",
       "      <td>0.0</td>\n",
       "      <td>0.0</td>\n",
       "      <td>0.0</td>\n",
       "      <td>0.0</td>\n",
       "      <td>0.0</td>\n",
       "      <td>0.0</td>\n",
       "      <td>1.787026</td>\n",
       "      <td>0.084339</td>\n",
       "      <td>0.045966</td>\n",
       "      <td>MULTIPOLYGON (((2349152.724 965335.704, 234914...</td>\n",
       "    </tr>\n",
       "    <tr>\n",
       "      <th>1</th>\n",
       "      <td>Sin dato</td>\n",
       "      <td>45.355545</td>\n",
       "      <td>75GRMGQW+8CFP</td>\n",
       "      <td>1412000011206018</td>\n",
       "      <td>4.482118</td>\n",
       "      <td>278416.454431</td>\n",
       "      <td>45.355545</td>\n",
       "      <td>0.000163</td>\n",
       "      <td>0.098822</td>\n",
       "      <td>0</td>\n",
       "      <td>...</td>\n",
       "      <td>0.0</td>\n",
       "      <td>0.0</td>\n",
       "      <td>0.0</td>\n",
       "      <td>0.0</td>\n",
       "      <td>0.0</td>\n",
       "      <td>0.0</td>\n",
       "      <td>1.649216</td>\n",
       "      <td>0.109751</td>\n",
       "      <td>0.045719</td>\n",
       "      <td>MULTIPOLYGON (((2349168.91 965335.176, 2349157...</td>\n",
       "    </tr>\n",
       "  </tbody>\n",
       "</table>\n",
       "<p>2 rows × 37 columns</p>\n",
       "</div>"
      ],
      "text/plain": [
       "  uso_suelo    area_m2 full_plus_code            CVEGEO  bld_area_m2  \\\n",
       "0  Sin dato  67.279056  75GRMGQW+89PG  1412000011206018    12.438638   \n",
       "1  Sin dato  45.355545  75GRMGQW+8CFP  1412000011206018     4.482118   \n",
       "\n",
       "   block_area_m2  pred_area_m2  pred_area_pct  bld_pred_area_pct  pobtot  ...  \\\n",
       "0  278416.454431     67.279056       0.000242           0.184881       0  ...   \n",
       "1  278416.454431     45.355545       0.000163           0.098822       0  ...   \n",
       "\n",
       "   pct_comercio  pct_cultural_recreativo  pct_educacion  pct_salud  \\\n",
       "0           0.0                      0.0            0.0        0.0   \n",
       "1           0.0                      0.0            0.0        0.0   \n",
       "\n",
       "   pct_gobierno  pct_otros  temperature_mean_diff  ndvi_mean  ndmi_diff  \\\n",
       "0           0.0        0.0               1.787026   0.084339   0.045966   \n",
       "1           0.0        0.0               1.649216   0.109751   0.045719   \n",
       "\n",
       "                                            geometry  \n",
       "0  MULTIPOLYGON (((2349152.724 965335.704, 234914...  \n",
       "1  MULTIPOLYGON (((2349168.91 965335.176, 2349157...  \n",
       "\n",
       "[2 rows x 37 columns]"
      ]
     },
     "execution_count": 2,
     "metadata": {},
     "output_type": "execute_result"
    }
   ],
   "source": [
    "aop_gdf = gpd.read_file('../../data/processed/prediccion_uso_suelo/complete_model/area_of_prediction_env.gpkg')\n",
    "print(aop_gdf.shape)\n",
    "aop_gdf.head(2)"
   ]
  },
  {
   "cell_type": "markdown",
   "id": "1791f469-fe67-47d0-9fd7-cb199a1a8758",
   "metadata": {},
   "source": [
    "### Area of analysis"
   ]
  },
  {
   "cell_type": "code",
   "execution_count": 3,
   "id": "12e8ecb2-667b-4c34-a0e3-7b6d59e1463c",
   "metadata": {},
   "outputs": [
    {
     "name": "stdout",
     "output_type": "stream",
     "text": [
      "(1, 2)\n"
     ]
    },
    {
     "data": {
      "text/html": [
       "<div>\n",
       "<style scoped>\n",
       "    .dataframe tbody tr th:only-of-type {\n",
       "        vertical-align: middle;\n",
       "    }\n",
       "\n",
       "    .dataframe tbody tr th {\n",
       "        vertical-align: top;\n",
       "    }\n",
       "\n",
       "    .dataframe thead th {\n",
       "        text-align: right;\n",
       "    }\n",
       "</style>\n",
       "<table border=\"1\" class=\"dataframe\">\n",
       "  <thead>\n",
       "    <tr style=\"text-align: right;\">\n",
       "      <th></th>\n",
       "      <th>id</th>\n",
       "      <th>geometry</th>\n",
       "    </tr>\n",
       "  </thead>\n",
       "  <tbody>\n",
       "    <tr>\n",
       "      <th>0</th>\n",
       "      <td>1</td>\n",
       "      <td>POLYGON ((-103.4233 20.91026, -103.42209 20.91...</td>\n",
       "    </tr>\n",
       "  </tbody>\n",
       "</table>\n",
       "</div>"
      ],
      "text/plain": [
       "   id                                           geometry\n",
       "0   1  POLYGON ((-103.4233 20.91026, -103.42209 20.91..."
      ]
     },
     "execution_count": 3,
     "metadata": {},
     "output_type": "execute_result"
    }
   ],
   "source": [
    "aoa_gdf = gpd.read_file(\"../../data/processed/prediccion_uso_suelo/Distrito/distrito.shp\")\n",
    "aoa_gdf = aoa_gdf.to_crs(\"EPSG:4326\")\n",
    "print(aoa_gdf.shape)\n",
    "aoa_gdf.head(2)"
   ]
  },
  {
   "cell_type": "markdown",
   "id": "f27f5d9e-7d74-43a7-b7e5-9c614bfd2744",
   "metadata": {},
   "source": [
    "### Edges"
   ]
  },
  {
   "cell_type": "code",
   "execution_count": 4,
   "id": "588f70a8-778c-4eff-a890-3553b8eaad3e",
   "metadata": {},
   "outputs": [
    {
     "name": "stdout",
     "output_type": "stream",
     "text": [
      "(146103, 19)\n"
     ]
    },
    {
     "data": {
      "text/html": [
       "<div>\n",
       "<style scoped>\n",
       "    .dataframe tbody tr th:only-of-type {\n",
       "        vertical-align: middle;\n",
       "    }\n",
       "\n",
       "    .dataframe tbody tr th {\n",
       "        vertical-align: top;\n",
       "    }\n",
       "\n",
       "    .dataframe thead th {\n",
       "        text-align: right;\n",
       "    }\n",
       "</style>\n",
       "<table border=\"1\" class=\"dataframe\">\n",
       "  <thead>\n",
       "    <tr style=\"text-align: right;\">\n",
       "      <th></th>\n",
       "      <th>osmid</th>\n",
       "      <th>v</th>\n",
       "      <th>u</th>\n",
       "      <th>key</th>\n",
       "      <th>oneway</th>\n",
       "      <th>lanes</th>\n",
       "      <th>name</th>\n",
       "      <th>highway</th>\n",
       "      <th>maxspeed</th>\n",
       "      <th>length</th>\n",
       "      <th>geometry</th>\n",
       "      <th>bridge</th>\n",
       "      <th>ref</th>\n",
       "      <th>junction</th>\n",
       "      <th>tunnel</th>\n",
       "      <th>access</th>\n",
       "      <th>width</th>\n",
       "      <th>service</th>\n",
       "      <th>city</th>\n",
       "    </tr>\n",
       "  </thead>\n",
       "  <tbody>\n",
       "    <tr>\n",
       "      <th>0</th>\n",
       "      <td>701379894</td>\n",
       "      <td>1742199439</td>\n",
       "      <td>1665230207</td>\n",
       "      <td>0</td>\n",
       "      <td>False</td>\n",
       "      <td>None</td>\n",
       "      <td>Privada Fresno</td>\n",
       "      <td>residential</td>\n",
       "      <td>None</td>\n",
       "      <td>85.256</td>\n",
       "      <td>LINESTRING (-103.42168 20.58715, -103.42172 20...</td>\n",
       "      <td>None</td>\n",
       "      <td>None</td>\n",
       "      <td>None</td>\n",
       "      <td>None</td>\n",
       "      <td>None</td>\n",
       "      <td>None</td>\n",
       "      <td>None</td>\n",
       "      <td>Guadalajara</td>\n",
       "    </tr>\n",
       "    <tr>\n",
       "      <th>1</th>\n",
       "      <td>467372703</td>\n",
       "      <td>1873910987</td>\n",
       "      <td>1665442630</td>\n",
       "      <td>0</td>\n",
       "      <td>False</td>\n",
       "      <td>None</td>\n",
       "      <td>Avenida Los Cajetes</td>\n",
       "      <td>residential</td>\n",
       "      <td>None</td>\n",
       "      <td>68.582</td>\n",
       "      <td>LINESTRING (-103.42383 20.58681, -103.42389 20...</td>\n",
       "      <td>None</td>\n",
       "      <td>None</td>\n",
       "      <td>None</td>\n",
       "      <td>None</td>\n",
       "      <td>None</td>\n",
       "      <td>None</td>\n",
       "      <td>None</td>\n",
       "      <td>Guadalajara</td>\n",
       "    </tr>\n",
       "  </tbody>\n",
       "</table>\n",
       "</div>"
      ],
      "text/plain": [
       "       osmid           v           u  key  oneway lanes                 name  \\\n",
       "0  701379894  1742199439  1665230207    0   False  None       Privada Fresno   \n",
       "1  467372703  1873910987  1665442630    0   False  None  Avenida Los Cajetes   \n",
       "\n",
       "       highway maxspeed  length  \\\n",
       "0  residential     None  85.256   \n",
       "1  residential     None  68.582   \n",
       "\n",
       "                                            geometry bridge   ref junction  \\\n",
       "0  LINESTRING (-103.42168 20.58715, -103.42172 20...   None  None     None   \n",
       "1  LINESTRING (-103.42383 20.58681, -103.42389 20...   None  None     None   \n",
       "\n",
       "  tunnel access width service         city  \n",
       "0   None   None  None    None  Guadalajara  \n",
       "1   None   None  None    None  Guadalajara  "
      ]
     },
     "execution_count": 4,
     "metadata": {},
     "output_type": "execute_result"
    }
   ],
   "source": [
    "schema = \"osmnx\"\n",
    "table = \"edges_osmnx_23_line\"\n",
    "\n",
    "edges = aup.gdf_from_polygon(aoa_gdf, schema, table)\n",
    "print(edges.shape)\n",
    "edges.head(2)"
   ]
  },
  {
   "cell_type": "markdown",
   "id": "19a87e9f-1098-4f67-80f7-7bcde5deb73d",
   "metadata": {},
   "source": [
    "#### Road type processing"
   ]
  },
  {
   "cell_type": "markdown",
   "id": "17b7fb20-fd6f-47ed-b3bf-94b819268986",
   "metadata": {},
   "source": [
    "Transform lists stored as strings to list"
   ]
  },
  {
   "cell_type": "code",
   "execution_count": 5,
   "id": "3e1199bf-ea47-4dc4-a032-46d7576a6831",
   "metadata": {},
   "outputs": [],
   "source": [
    "from ast import literal_eval"
   ]
  },
  {
   "cell_type": "code",
   "execution_count": 6,
   "id": "dbbb5da5-d254-4ed1-8721-01b3f338ac69",
   "metadata": {},
   "outputs": [],
   "source": [
    "def check_for_lists(val):\n",
    "    try:\n",
    "        val = literal_eval(val)\n",
    "        return val\n",
    "    except:\n",
    "        return val"
   ]
  },
  {
   "cell_type": "code",
   "execution_count": 7,
   "id": "2af61866-5921-4780-92a3-065677b12b35",
   "metadata": {
    "scrolled": true
   },
   "outputs": [],
   "source": [
    "edges['highway'] = edges.highway.apply(lambda row: check_for_lists(row))"
   ]
  },
  {
   "cell_type": "code",
   "execution_count": 8,
   "id": "fa5539fb-adfc-44b0-8a73-0ce5f30dde4f",
   "metadata": {},
   "outputs": [],
   "source": [
    "edges.loc[edges.highway.map(lambda x: \n",
    "                            isinstance(x, list)),'highway'] = edges.loc[\n",
    "    edges.highway.map(lambda x: isinstance(x, list))].apply(\n",
    "        lambda row: row['highway'][0], axis=1)"
   ]
  },
  {
   "cell_type": "markdown",
   "id": "f732e8fc-e114-4dac-80a2-d5c5d4808705",
   "metadata": {},
   "source": [
    "Check process"
   ]
  },
  {
   "cell_type": "code",
   "execution_count": 9,
   "id": "bdaa34ba-d56a-4274-8784-fa9ce886bd0a",
   "metadata": {},
   "outputs": [
    {
     "data": {
      "text/plain": [
       "0"
      ]
     },
     "execution_count": 9,
     "metadata": {},
     "output_type": "execute_result"
    }
   ],
   "source": [
    "len(edges.loc[edges.highway.map(lambda x: \n",
    "                            isinstance(x, list))])"
   ]
  },
  {
   "cell_type": "markdown",
   "id": "485cbcb6-8603-47ce-9faf-a69e3c27798a",
   "metadata": {},
   "source": [
    "#### Remove link sections"
   ]
  },
  {
   "cell_type": "code",
   "execution_count": 10,
   "id": "bde1fc0a-1133-4616-9fba-cf2684ecdc5b",
   "metadata": {},
   "outputs": [],
   "source": [
    "edges.loc[edges['highway'].str.contains(\n",
    "    \"_link\"),'highway'] = edges[edges['highway'].str.contains(\n",
    "    \"_link\")].highway.apply(lambda x: x.replace('_link',''))"
   ]
  },
  {
   "cell_type": "markdown",
   "id": "45313532-e398-4c3b-8ec8-6280d2f959b5",
   "metadata": {},
   "source": [
    "Check result"
   ]
  },
  {
   "cell_type": "code",
   "execution_count": 11,
   "id": "e90161a0-0d5c-4208-a53d-08fdba2d2829",
   "metadata": {},
   "outputs": [
    {
     "data": {
      "text/plain": [
       "0"
      ]
     },
     "execution_count": 11,
     "metadata": {},
     "output_type": "execute_result"
    }
   ],
   "source": [
    "len(edges.loc[edges['highway'].str.contains(\n",
    "    \"_link\"),'highway'])"
   ]
  },
  {
   "cell_type": "code",
   "execution_count": 12,
   "id": "860d534d-b4dc-49c7-b60a-ee866fdb6fe2",
   "metadata": {},
   "outputs": [
    {
     "data": {
      "text/plain": [
       "array(['residential', 'primary', 'service', 'track', 'path', 'tertiary',\n",
       "       'living_street', 'footway', 'cycleway', 'secondary', 'steps',\n",
       "       'pedestrian', 'trunk', 'unclassified', 'motorway', 'corridor',\n",
       "       'bridleway'], dtype=object)"
      ]
     },
     "execution_count": 12,
     "metadata": {},
     "output_type": "execute_result"
    }
   ],
   "source": [
    "edges.highway.unique()"
   ]
  },
  {
   "cell_type": "markdown",
   "id": "c67c4e80-43ae-4e51-83d4-d76f48a29975",
   "metadata": {},
   "source": [
    "## Road type proximity to area of analysis"
   ]
  },
  {
   "cell_type": "markdown",
   "id": "32409c2f-a5a4-41f3-8459-d10d34cda369",
   "metadata": {},
   "source": [
    "Create road categories"
   ]
  },
  {
   "cell_type": "code",
   "execution_count": 13,
   "id": "6e69af12-69c6-43c0-ba34-bc89762c706a",
   "metadata": {},
   "outputs": [],
   "source": [
    "road_dict = {\n",
    "    'motorway':['motorway'],\n",
    "    'primary':['primary'],\n",
    "    'secondary':['secondary'],\n",
    "    'tertiary':['tertiary'],\n",
    "    'residential':['residential','living_street'],\n",
    "    'other':[]\n",
    "}"
   ]
  },
  {
   "cell_type": "code",
   "execution_count": 22,
   "id": "c77f3119-7042-4a61-86ce-da199fd67d43",
   "metadata": {},
   "outputs": [],
   "source": [
    "road_list = ['motorway','primary','secondary',\n",
    "            'tertiary','residential','living_street']    "
   ]
  },
  {
   "cell_type": "code",
   "execution_count": 24,
   "id": "323f9657-2c56-4894-91c3-8bf7cdb12ba7",
   "metadata": {},
   "outputs": [],
   "source": [
    "for road in edges.highway.unique():\n",
    "    if road not in road_list:\n",
    "        road_dict['other'].append(road)"
   ]
  },
  {
   "cell_type": "code",
   "execution_count": 36,
   "id": "bccbd9fe-c654-4c91-b99e-da71e18ccb56",
   "metadata": {},
   "outputs": [
    {
     "data": {
      "text/plain": [
       "(146103, 19)"
      ]
     },
     "execution_count": 36,
     "metadata": {},
     "output_type": "execute_result"
    }
   ],
   "source": [
    "edges.shape"
   ]
  },
  {
   "cell_type": "code",
   "execution_count": 35,
   "id": "6b327bd2-c8bf-4dcd-9ea5-2576d127785b",
   "metadata": {},
   "outputs": [
    {
     "data": {
      "text/plain": [
       "(38618, 19)"
      ]
     },
     "execution_count": 35,
     "metadata": {},
     "output_type": "execute_result"
    }
   ],
   "source": [
    "edges.loc[edges.highway.isin(road_dict['other'])].shape"
   ]
  },
  {
   "cell_type": "code",
   "execution_count": 26,
   "id": "965097d7-dc2f-4a14-b9d8-08a085f8866d",
   "metadata": {},
   "outputs": [],
   "source": [
    "edges = edges.to_crs(\"EPSG:4326\")\n",
    "aop_gdf = aop_gdf.to_crs(\"EPSG:4326\")"
   ]
  },
  {
   "cell_type": "code",
   "execution_count": 27,
   "id": "93b7abf2-6545-4aac-89bf-105cadf516c2",
   "metadata": {},
   "outputs": [],
   "source": [
    "pixel_size = 0.00023 # 0.00023° -> 25m"
   ]
  },
  {
   "cell_type": "code",
   "execution_count": 28,
   "id": "c5d05882-054a-4a3a-a89e-6894e2840459",
   "metadata": {},
   "outputs": [],
   "source": [
    "output_dir = '../../data/processed/prediccion_uso_suelo/complete_model/prox_vialidades/'"
   ]
  },
  {
   "cell_type": "code",
   "execution_count": 29,
   "id": "484c61ab-c1ac-4f44-a8e6-4cdb661c2702",
   "metadata": {},
   "outputs": [],
   "source": [
    "if 'fid' not in list(aop_gdf.columns):\n",
    "    aop_gdf = aop_gdf.reset_index().rename(columns={'index':'fid'})"
   ]
  },
  {
   "cell_type": "code",
   "execution_count": 30,
   "id": "59c9532b-cd6e-4c39-8fd1-5adbf222538a",
   "metadata": {},
   "outputs": [
    {
     "data": {
      "text/plain": [
       "(-103.60543607998213,\n",
       " 20.53493855031059,\n",
       " -103.27083786014029,\n",
       " 20.909713137410954)"
      ]
     },
     "execution_count": 30,
     "metadata": {},
     "output_type": "execute_result"
    }
   ],
   "source": [
    "# define bounds according to area of prediction\n",
    "bounds = []\n",
    "for c in aop_gdf.bounds:\n",
    "    if 'min' in c:\n",
    "        bounds.append(aop_gdf.bounds[c].min().item()-0.05)\n",
    "    else:\n",
    "        bounds.append(aop_gdf.bounds[c].max().item()+0.05)\n",
    "bounds = tuple(bounds)\n",
    "bounds"
   ]
  },
  {
   "cell_type": "code",
   "execution_count": 31,
   "id": "7fa4abc5-f2b3-4617-9d67-16eef4348047",
   "metadata": {},
   "outputs": [],
   "source": [
    "parallel_processing = False"
   ]
  },
  {
   "cell_type": "code",
   "execution_count": 32,
   "id": "454c9dc9-6927-4071-8b9f-f8016b54091b",
   "metadata": {},
   "outputs": [],
   "source": [
    "def raster_conditional(rarray):\n",
    "    return (rarray == 1)"
   ]
  },
  {
   "cell_type": "code",
   "execution_count": 37,
   "id": "e4ef82fd-22ac-4583-a04d-3df2c7aa5d2e",
   "metadata": {},
   "outputs": [],
   "source": [
    "def road_type_to_area_of_prediction(aop_road, edges, road_class, road_type, pixel_size, bounds, output_dir):\n",
    "    \n",
    "    edges_road_type = edges.loc[edges.highway.isin(road_type)].copy()\n",
    "\n",
    "    rv_array, affine = dr.rasterize(edges_road_type, \n",
    "                                    pixel_size=pixel_size,\n",
    "                                    bounds=bounds, \n",
    "                                    output=output_dir+f\"{road_class}_rasterized.tif\")\n",
    "\n",
    "    # generate distance array and output to geotiff\n",
    "    my_dr = dr.DistanceRaster(rv_array, affine=affine,\n",
    "                          output_path=output_dir+f\"{road_class}_distance.tif\",\n",
    "                          conditional=raster_conditional)\n",
    "\n",
    "    raster_distance = rasterio.open(output_dir+f\"{road_class}_distance.tif\")\n",
    "\n",
    "    aop_road[road_class+'_distance'] = aop_road.geometry.apply(\n",
    "                lambda geom: aup.clean_mask(geom, raster_distance)).apply(np.ma.mean)\n",
    "\n",
    "    aop_road = aop_road[['fid',road_class+'_distance']].copy()\n",
    "\n",
    "    return aop_road\n"
   ]
  },
  {
   "cell_type": "code",
   "execution_count": 21,
   "id": "23ed1cc4-44e7-4456-b104-d47377349529",
   "metadata": {},
   "outputs": [
    {
     "name": "stdout",
     "output_type": "stream",
     "text": [
      "Processing complete!\n"
     ]
    }
   ],
   "source": [
    "if parallel_processing:\n",
    "    road_types = edges.highway.unique()\n",
    "\n",
    "    results = Parallel(n_jobs=20, verbose=3)(\n",
    "        delayed(road_type_to_area_of_prediction)(\n",
    "            aop_gdf, edges, road_type, pixel_size, bounds, output_dir)\n",
    "        for road_type in tqdm(road_types, desc=\"Processing roads\")\n",
    "    )\n",
    "\n",
    "    for results_df in results:\n",
    "        aop_gdf = aop_gdf.merge(results_df, on='fid', how='left')\n",
    "        \n",
    "print(\"Processing complete!\")"
   ]
  },
  {
   "cell_type": "code",
   "execution_count": 39,
   "id": "2e45f992-6db8-48a3-a597-27f7d436591b",
   "metadata": {},
   "outputs": [
    {
     "name": "stderr",
     "output_type": "stream",
     "text": [
      "Processing blocks:   0%|                                                                                               | 0/6 [00:00<?, ?it/s]"
     ]
    },
    {
     "name": "stdout",
     "output_type": "stream",
     "text": [
      "Tree build time: 0.0039 seconds\n",
      "Distance calc run time: 24.6686 seconds\n"
     ]
    },
    {
     "name": "stderr",
     "output_type": "stream",
     "text": [
      "Processing blocks:  17%|██████████████▎                                                                       | 1/6 [04:15<21:18, 255.78s/it]"
     ]
    },
    {
     "name": "stdout",
     "output_type": "stream",
     "text": [
      "Tree build time: 0.0037 seconds\n",
      "Distance calc run time: 24.2663 seconds\n"
     ]
    },
    {
     "name": "stderr",
     "output_type": "stream",
     "text": [
      "Processing blocks:  33%|████████████████████████████▋                                                         | 2/6 [08:31<17:03, 255.89s/it]"
     ]
    },
    {
     "name": "stdout",
     "output_type": "stream",
     "text": [
      "Tree build time: 0.0039 seconds\n",
      "Distance calc run time: 23.9721 seconds\n"
     ]
    },
    {
     "name": "stderr",
     "output_type": "stream",
     "text": [
      "Processing blocks:  50%|███████████████████████████████████████████                                           | 3/6 [12:46<12:45, 255.30s/it]"
     ]
    },
    {
     "name": "stdout",
     "output_type": "stream",
     "text": [
      "Tree build time: 0.0044 seconds\n",
      "Distance calc run time: 23.5332 seconds\n"
     ]
    },
    {
     "name": "stderr",
     "output_type": "stream",
     "text": [
      "Processing blocks:  67%|█████████████████████████████████████████████████████████▎                            | 4/6 [17:01<08:30, 255.34s/it]"
     ]
    },
    {
     "name": "stdout",
     "output_type": "stream",
     "text": [
      "Tree build time: 0.0227 seconds\n",
      "Distance calc run time: 24.5945 seconds\n"
     ]
    },
    {
     "name": "stderr",
     "output_type": "stream",
     "text": [
      "Processing blocks:  83%|███████████████████████████████████████████████████████████████████████▋              | 5/6 [21:21<04:16, 256.90s/it]"
     ]
    },
    {
     "name": "stdout",
     "output_type": "stream",
     "text": [
      "Tree build time: 0.0116 seconds\n",
      "Distance calc run time: 24.0373 seconds\n"
     ]
    },
    {
     "name": "stderr",
     "output_type": "stream",
     "text": [
      "Processing blocks: 100%|██████████████████████████████████████████████████████████████████████████████████████| 6/6 [25:38<00:00, 256.36s/it]\n"
     ]
    },
    {
     "name": "stdout",
     "output_type": "stream",
     "text": [
      "Processing complete!\n"
     ]
    }
   ],
   "source": [
    "if not parallel_processing:\n",
    "    results = []\n",
    "    \n",
    "    for road_class in tqdm(road_dict.keys(), total=len(road_dict.keys()), desc=\"Processing blocks\"):\n",
    "\n",
    "        road_type = road_dict[road_class]\n",
    "\n",
    "        results.append(road_type_to_area_of_prediction(aop_gdf, edges,\n",
    "                                                       road_class, road_type, \n",
    "                                                       pixel_size, bounds, output_dir)\n",
    "                      )\n",
    "\n",
    "    for results_df in results:\n",
    "        aop_gdf = aop_gdf.merge(results_df, on='fid', how='left')\n",
    "        \n",
    "print(\"Processing complete!\")"
   ]
  },
  {
   "cell_type": "code",
   "execution_count": 40,
   "id": "21ee17e9-3859-4605-b6da-ba38787abd0b",
   "metadata": {},
   "outputs": [
    {
     "data": {
      "text/plain": [
       "Index(['fid', 'uso_suelo', 'area_m2', 'full_plus_code', 'CVEGEO',\n",
       "       'bld_area_m2', 'block_area_m2', 'pred_area_m2', 'pred_area_pct',\n",
       "       'bld_pred_area_pct', 'pobtot', 'agropecuario', 'industria', 'servicios',\n",
       "       'alojamiento', 'comercio', 'cultural_recreativo', 'educacion', 'salud',\n",
       "       'gobierno', 'otros', 'area_m2_tot', 'habitacional', 'uso_tot',\n",
       "       'pct_agropecuario', 'pct_industria', 'pct_servicios', 'pct_alojamiento',\n",
       "       'pct_comercio', 'pct_cultural_recreativo', 'pct_educacion', 'pct_salud',\n",
       "       'pct_gobierno', 'pct_otros', 'temperature_mean_diff', 'ndvi_mean',\n",
       "       'ndmi_diff', 'geometry', 'motorway_distance_x', 'primary_distance_x',\n",
       "       'secondary_distance_x', 'tertiary_distance_x', 'residential_distance_x',\n",
       "       'other_distance_x', 'motorway_distance_y', 'primary_distance_y',\n",
       "       'secondary_distance_y', 'tertiary_distance_y', 'residential_distance_y',\n",
       "       'other_distance_y'],\n",
       "      dtype='object')"
      ]
     },
     "execution_count": 40,
     "metadata": {},
     "output_type": "execute_result"
    }
   ],
   "source": [
    "aop_gdf.columns"
   ]
  },
  {
   "cell_type": "code",
   "execution_count": 43,
   "id": "89405f43-f246-4367-9298-ccbd078bb15f",
   "metadata": {},
   "outputs": [],
   "source": [
    "aop_gdf = aop_gdf.drop(columns=['motorway_distance_y', 'primary_distance_y',\n",
    "       'secondary_distance_y', 'tertiary_distance_y', 'residential_distance_y',\n",
    "       'other_distance_y'])\n",
    "\n",
    "aop_gdf = aop_gdf.rename(columns={'residential_distance_x':'residential_distance',\n",
    "                       'primary_distance_x':'primary_distance',\n",
    "                       'tertiary_distance_x':'tertiary_distance',\n",
    "                       'secondary_distance_x':'secondary_distance',\n",
    "                       'motorway_distance_x':'motorway_distance',\n",
    "                                  'other_distance_x':'other_distance'\n",
    "                       })"
   ]
  },
  {
   "cell_type": "code",
   "execution_count": 44,
   "id": "7cf1653f-ac0a-4f2d-a48e-1acb80984855",
   "metadata": {},
   "outputs": [
    {
     "data": {
      "text/plain": [
       "<Axes: >"
      ]
     },
     "execution_count": 44,
     "metadata": {},
     "output_type": "execute_result"
    },
    {
     "data": {
      "image/png": "[encoded data removed]",
      "text/plain": [
       "<Figure size 640x480 with 1 Axes>"
      ]
     },
     "metadata": {},
     "output_type": "display_data"
    }
   ],
   "source": [
    "aop_gdf.plot('secondary_distance')"
   ]
  },
  {
   "cell_type": "code",
   "execution_count": 45,
   "id": "71bc6504-b5b0-4e0c-b6eb-1268e5bb711e",
   "metadata": {},
   "outputs": [
    {
     "name": "stdout",
     "output_type": "stream",
     "text": [
      "(682585, 44)\n"
     ]
    },
    {
     "data": {
      "text/html": [
       "<div>\n",
       "<style scoped>\n",
       "    .dataframe tbody tr th:only-of-type {\n",
       "        vertical-align: middle;\n",
       "    }\n",
       "\n",
       "    .dataframe tbody tr th {\n",
       "        vertical-align: top;\n",
       "    }\n",
       "\n",
       "    .dataframe thead th {\n",
       "        text-align: right;\n",
       "    }\n",
       "</style>\n",
       "<table border=\"1\" class=\"dataframe\">\n",
       "  <thead>\n",
       "    <tr style=\"text-align: right;\">\n",
       "      <th></th>\n",
       "      <th>fid</th>\n",
       "      <th>uso_suelo</th>\n",
       "      <th>area_m2</th>\n",
       "      <th>full_plus_code</th>\n",
       "      <th>CVEGEO</th>\n",
       "      <th>bld_area_m2</th>\n",
       "      <th>block_area_m2</th>\n",
       "      <th>pred_area_m2</th>\n",
       "      <th>pred_area_pct</th>\n",
       "      <th>bld_pred_area_pct</th>\n",
       "      <th>...</th>\n",
       "      <th>temperature_mean_diff</th>\n",
       "      <th>ndvi_mean</th>\n",
       "      <th>ndmi_diff</th>\n",
       "      <th>geometry</th>\n",
       "      <th>motorway_distance</th>\n",
       "      <th>primary_distance</th>\n",
       "      <th>secondary_distance</th>\n",
       "      <th>tertiary_distance</th>\n",
       "      <th>residential_distance</th>\n",
       "      <th>other_distance</th>\n",
       "    </tr>\n",
       "  </thead>\n",
       "  <tbody>\n",
       "    <tr>\n",
       "      <th>0</th>\n",
       "      <td>0</td>\n",
       "      <td>Sin dato</td>\n",
       "      <td>67.279056</td>\n",
       "      <td>75GRMGQW+89PG</td>\n",
       "      <td>1412000011206018</td>\n",
       "      <td>12.438638</td>\n",
       "      <td>278416.454431</td>\n",
       "      <td>67.279056</td>\n",
       "      <td>0.000242</td>\n",
       "      <td>0.184881</td>\n",
       "      <td>...</td>\n",
       "      <td>1.787026</td>\n",
       "      <td>0.084339</td>\n",
       "      <td>0.045966</td>\n",
       "      <td>MULTIPOLYGON (((-103.45405 20.68833, -103.4541...</td>\n",
       "      <td>173.493879</td>\n",
       "      <td>346.922028</td>\n",
       "      <td>83.739800</td>\n",
       "      <td>480.266657</td>\n",
       "      <td>24.764744</td>\n",
       "      <td>12.801915</td>\n",
       "    </tr>\n",
       "    <tr>\n",
       "      <th>1</th>\n",
       "      <td>1</td>\n",
       "      <td>Sin dato</td>\n",
       "      <td>45.355545</td>\n",
       "      <td>75GRMGQW+8CFP</td>\n",
       "      <td>1412000011206018</td>\n",
       "      <td>4.482118</td>\n",
       "      <td>278416.454431</td>\n",
       "      <td>45.355545</td>\n",
       "      <td>0.000163</td>\n",
       "      <td>0.098822</td>\n",
       "      <td>...</td>\n",
       "      <td>1.649216</td>\n",
       "      <td>0.109751</td>\n",
       "      <td>0.045719</td>\n",
       "      <td>MULTIPOLYGON (((-103.4539 20.68833, -103.454 2...</td>\n",
       "      <td>173.493879</td>\n",
       "      <td>346.922028</td>\n",
       "      <td>83.739800</td>\n",
       "      <td>480.266657</td>\n",
       "      <td>24.764744</td>\n",
       "      <td>12.801915</td>\n",
       "    </tr>\n",
       "    <tr>\n",
       "      <th>2</th>\n",
       "      <td>2</td>\n",
       "      <td>Sin dato</td>\n",
       "      <td>18.488100</td>\n",
       "      <td>75GRMGQW+8CHQ</td>\n",
       "      <td>1412000011206018</td>\n",
       "      <td>4.482118</td>\n",
       "      <td>278416.454431</td>\n",
       "      <td>18.488100</td>\n",
       "      <td>0.000066</td>\n",
       "      <td>0.242433</td>\n",
       "      <td>...</td>\n",
       "      <td>1.511405</td>\n",
       "      <td>0.135162</td>\n",
       "      <td>0.045472</td>\n",
       "      <td>MULTIPOLYGON (((-103.45387 20.68833, -103.4539...</td>\n",
       "      <td>184.217094</td>\n",
       "      <td>358.884856</td>\n",
       "      <td>95.702628</td>\n",
       "      <td>474.009254</td>\n",
       "      <td>25.603830</td>\n",
       "      <td>25.603830</td>\n",
       "    </tr>\n",
       "    <tr>\n",
       "      <th>3</th>\n",
       "      <td>3</td>\n",
       "      <td>Sin dato</td>\n",
       "      <td>4.936089</td>\n",
       "      <td>75GRMGQW+8GCG</td>\n",
       "      <td>1412000011206018</td>\n",
       "      <td>42.992618</td>\n",
       "      <td>278416.454431</td>\n",
       "      <td>4.936089</td>\n",
       "      <td>0.000018</td>\n",
       "      <td>8.709855</td>\n",
       "      <td>...</td>\n",
       "      <td>1.511405</td>\n",
       "      <td>0.135162</td>\n",
       "      <td>0.045472</td>\n",
       "      <td>MULTIPOLYGON (((-103.45381 20.68832, -103.4538...</td>\n",
       "      <td>195.213414</td>\n",
       "      <td>370.847685</td>\n",
       "      <td>107.665457</td>\n",
       "      <td>468.201909</td>\n",
       "      <td>25.603830</td>\n",
       "      <td>25.603830</td>\n",
       "    </tr>\n",
       "  </tbody>\n",
       "</table>\n",
       "<p>4 rows × 44 columns</p>\n",
       "</div>"
      ],
      "text/plain": [
       "   fid uso_suelo    area_m2 full_plus_code            CVEGEO  bld_area_m2  \\\n",
       "0    0  Sin dato  67.279056  75GRMGQW+89PG  1412000011206018    12.438638   \n",
       "1    1  Sin dato  45.355545  75GRMGQW+8CFP  1412000011206018     4.482118   \n",
       "2    2  Sin dato  18.488100  75GRMGQW+8CHQ  1412000011206018     4.482118   \n",
       "3    3  Sin dato   4.936089  75GRMGQW+8GCG  1412000011206018    42.992618   \n",
       "\n",
       "   block_area_m2  pred_area_m2  pred_area_pct  bld_pred_area_pct  ...  \\\n",
       "0  278416.454431     67.279056       0.000242           0.184881  ...   \n",
       "1  278416.454431     45.355545       0.000163           0.098822  ...   \n",
       "2  278416.454431     18.488100       0.000066           0.242433  ...   \n",
       "3  278416.454431      4.936089       0.000018           8.709855  ...   \n",
       "\n",
       "   temperature_mean_diff  ndvi_mean  ndmi_diff  \\\n",
       "0               1.787026   0.084339   0.045966   \n",
       "1               1.649216   0.109751   0.045719   \n",
       "2               1.511405   0.135162   0.045472   \n",
       "3               1.511405   0.135162   0.045472   \n",
       "\n",
       "                                            geometry  motorway_distance  \\\n",
       "0  MULTIPOLYGON (((-103.45405 20.68833, -103.4541...         173.493879   \n",
       "1  MULTIPOLYGON (((-103.4539 20.68833, -103.454 2...         173.493879   \n",
       "2  MULTIPOLYGON (((-103.45387 20.68833, -103.4539...         184.217094   \n",
       "3  MULTIPOLYGON (((-103.45381 20.68832, -103.4538...         195.213414   \n",
       "\n",
       "   primary_distance  secondary_distance  tertiary_distance  \\\n",
       "0        346.922028           83.739800         480.266657   \n",
       "1        346.922028           83.739800         480.266657   \n",
       "2        358.884856           95.702628         474.009254   \n",
       "3        370.847685          107.665457         468.201909   \n",
       "\n",
       "   residential_distance  other_distance  \n",
       "0             24.764744       12.801915  \n",
       "1             24.764744       12.801915  \n",
       "2             25.603830       25.603830  \n",
       "3             25.603830       25.603830  \n",
       "\n",
       "[4 rows x 44 columns]"
      ]
     },
     "execution_count": 45,
     "metadata": {},
     "output_type": "execute_result"
    }
   ],
   "source": [
    "print(aop_gdf.shape)\n",
    "aop_gdf.head(4)"
   ]
  },
  {
   "cell_type": "markdown",
   "id": "80e0b5be-9026-4031-b715-5395ce455e29",
   "metadata": {},
   "source": [
    "## Save data"
   ]
  },
  {
   "cell_type": "code",
   "execution_count": 46,
   "id": "d0a3ad97-3e47-487f-be6b-3ef30714ee95",
   "metadata": {},
   "outputs": [],
   "source": [
    "aop_gdf.to_file('../../data/processed/prediccion_uso_suelo/complete_model/area_of_prediction_roads.gpkg')"
   ]
  },
  {
   "cell_type": "code",
   "execution_count": null,
   "id": "6241228c-8a3a-4628-975a-9a374489b0c8",
   "metadata": {},
   "outputs": [],
   "source": []
  }
 ],
 "metadata": {
  "kernelspec": {
   "display_name": "Python 3 (ipykernel)",
   "language": "python",
   "name": "python3"
  },
  "language_info": {
   "codemirror_mode": {
    "name": "ipython",
    "version": 3
   },
   "file_extension": ".py",
   "mimetype": "text/x-python",
   "name": "python",
   "nbconvert_exporter": "python",
   "pygments_lexer": "ipython3",
   "version": "3.11.11"
  }
 },
 "nbformat": 4,
 "nbformat_minor": 5
}
