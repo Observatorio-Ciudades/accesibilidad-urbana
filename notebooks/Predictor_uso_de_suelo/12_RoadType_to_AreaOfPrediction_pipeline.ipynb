{
 "cells": [
  {
   "cell_type": "markdown",
   "id": "a8af0840-2b14-4f93-83bf-61de9eeaf89b",
   "metadata": {},
   "source": [
    "# Road type data to area of prediction"
   ]
  },
  {
   "cell_type": "markdown",
   "id": "43d674fd-d98c-43eb-9944-bfd989a7a96f",
   "metadata": {},
   "source": [
    "This notebooks integrates proximity to different road types to the area of prediction"
   ]
  },
  {
   "cell_type": "markdown",
   "id": "fa19daef-662d-40c0-8ec1-a88cda125e88",
   "metadata": {},
   "source": [
    "## Import libraries"
   ]
  },
  {
   "cell_type": "code",
   "execution_count": 1,
   "id": "7fe61409-5888-4436-b34f-ae7b33bacee8",
   "metadata": {},
   "outputs": [],
   "source": [
    "import geopandas as gpd\n",
    "import pandas as pd\n",
    "import numpy as np\n",
    "\n",
    "import distancerasters as dr\n",
    "\n",
    "import matplotlib.pyplot as plt\n",
    "import seaborn as sns\n",
    "\n",
    "import aup"
   ]
  },
  {
   "cell_type": "markdown",
   "id": "82b0ee52-c78f-4b5a-96ac-628244dcbb6e",
   "metadata": {},
   "source": [
    "## Data download/read and preprocessing"
   ]
  },
  {
   "cell_type": "markdown",
   "id": "15d05cc9-16bb-4678-a043-466cc8a22040",
   "metadata": {},
   "source": [
    "### Area of prediction with variables"
   ]
  },
  {
   "cell_type": "code",
   "execution_count": 2,
   "id": "588aff78-3171-4b64-8aff-0b68113aa29b",
   "metadata": {},
   "outputs": [
    {
     "name": "stdout",
     "output_type": "stream",
     "text": [
      "(294835, 28)\n"
     ]
    },
    {
     "data": {
      "text/html": [
       "<div>\n",
       "<style scoped>\n",
       "    .dataframe tbody tr th:only-of-type {\n",
       "        vertical-align: middle;\n",
       "    }\n",
       "\n",
       "    .dataframe tbody tr th {\n",
       "        vertical-align: top;\n",
       "    }\n",
       "\n",
       "    .dataframe thead th {\n",
       "        text-align: right;\n",
       "    }\n",
       "</style>\n",
       "<table border=\"1\" class=\"dataframe\">\n",
       "  <thead>\n",
       "    <tr style=\"text-align: right;\">\n",
       "      <th></th>\n",
       "      <th>fid</th>\n",
       "      <th>uso_suelo</th>\n",
       "      <th>area_m2</th>\n",
       "      <th>full_plus_code</th>\n",
       "      <th>CVEGEO</th>\n",
       "      <th>bld_area_m2</th>\n",
       "      <th>block_area_m2</th>\n",
       "      <th>pred_area_pct</th>\n",
       "      <th>pobtot</th>\n",
       "      <th>cultural_recreativo</th>\n",
       "      <th>...</th>\n",
       "      <th>uso_tot</th>\n",
       "      <th>pct_habitacional</th>\n",
       "      <th>pct_cultural_recreativo</th>\n",
       "      <th>pct_servicios</th>\n",
       "      <th>pct_comercio</th>\n",
       "      <th>pct_salud</th>\n",
       "      <th>pct_educacion</th>\n",
       "      <th>pct_gobierno</th>\n",
       "      <th>pct_industria</th>\n",
       "      <th>geometry</th>\n",
       "    </tr>\n",
       "  </thead>\n",
       "  <tbody>\n",
       "    <tr>\n",
       "      <th>0</th>\n",
       "      <td>0</td>\n",
       "      <td>Servicio</td>\n",
       "      <td>2747.599834</td>\n",
       "      <td>75GRMHR2+458V</td>\n",
       "      <td>1412000011206018</td>\n",
       "      <td>173.7348</td>\n",
       "      <td>278416.454431</td>\n",
       "      <td>0.009869</td>\n",
       "      <td>0</td>\n",
       "      <td>0.0</td>\n",
       "      <td>...</td>\n",
       "      <td>4.926511</td>\n",
       "      <td>0.0</td>\n",
       "      <td>0.0</td>\n",
       "      <td>0.740466</td>\n",
       "      <td>0.231342</td>\n",
       "      <td>0.0</td>\n",
       "      <td>0.0</td>\n",
       "      <td>0.0</td>\n",
       "      <td>0.028192</td>\n",
       "      <td>POLYGON ((2349620.239 965525.905, 2349619.865 ...</td>\n",
       "    </tr>\n",
       "    <tr>\n",
       "      <th>1</th>\n",
       "      <td>1</td>\n",
       "      <td>Sin dato</td>\n",
       "      <td>900.765482</td>\n",
       "      <td>75GRMGRX+GQP3</td>\n",
       "      <td>1412000011206018</td>\n",
       "      <td>81.7922</td>\n",
       "      <td>278416.454431</td>\n",
       "      <td>0.003235</td>\n",
       "      <td>0</td>\n",
       "      <td>0.0</td>\n",
       "      <td>...</td>\n",
       "      <td>58.144456</td>\n",
       "      <td>0.0</td>\n",
       "      <td>0.0</td>\n",
       "      <td>0.586683</td>\n",
       "      <td>0.354285</td>\n",
       "      <td>0.0</td>\n",
       "      <td>0.0</td>\n",
       "      <td>0.0</td>\n",
       "      <td>0.059033</td>\n",
       "      <td>POLYGON ((2349506.214 965639.352, 2349505.838 ...</td>\n",
       "    </tr>\n",
       "  </tbody>\n",
       "</table>\n",
       "<p>2 rows × 28 columns</p>\n",
       "</div>"
      ],
      "text/plain": [
       "   fid uso_suelo      area_m2 full_plus_code            CVEGEO  bld_area_m2  \\\n",
       "0    0  Servicio  2747.599834  75GRMHR2+458V  1412000011206018     173.7348   \n",
       "1    1  Sin dato   900.765482  75GRMGRX+GQP3  1412000011206018      81.7922   \n",
       "\n",
       "   block_area_m2  pred_area_pct  pobtot  cultural_recreativo  ...    uso_tot  \\\n",
       "0  278416.454431       0.009869       0                  0.0  ...   4.926511   \n",
       "1  278416.454431       0.003235       0                  0.0  ...  58.144456   \n",
       "\n",
       "   pct_habitacional  pct_cultural_recreativo  pct_servicios  pct_comercio  \\\n",
       "0               0.0                      0.0       0.740466      0.231342   \n",
       "1               0.0                      0.0       0.586683      0.354285   \n",
       "\n",
       "   pct_salud  pct_educacion  pct_gobierno  pct_industria  \\\n",
       "0        0.0            0.0           0.0       0.028192   \n",
       "1        0.0            0.0           0.0       0.059033   \n",
       "\n",
       "                                            geometry  \n",
       "0  POLYGON ((2349620.239 965525.905, 2349619.865 ...  \n",
       "1  POLYGON ((2349506.214 965639.352, 2349505.838 ...  \n",
       "\n",
       "[2 rows x 28 columns]"
      ]
     },
     "execution_count": 2,
     "metadata": {},
     "output_type": "execute_result"
    }
   ],
   "source": [
    "aop_gdf = gpd.read_file('../../data/processed/prediccion_uso_suelo/tess_kde.geojson')\n",
    "print(aop_gdf.shape)\n",
    "aop_gdf.head(2)"
   ]
  },
  {
   "cell_type": "markdown",
   "id": "1791f469-fe67-47d0-9fd7-cb199a1a8758",
   "metadata": {},
   "source": [
    "### Area of analysis"
   ]
  },
  {
   "cell_type": "code",
   "execution_count": 3,
   "id": "12e8ecb2-667b-4c34-a0e3-7b6d59e1463c",
   "metadata": {},
   "outputs": [
    {
     "name": "stdout",
     "output_type": "stream",
     "text": [
      "(1, 2)\n"
     ]
    },
    {
     "data": {
      "text/html": [
       "<div>\n",
       "<style scoped>\n",
       "    .dataframe tbody tr th:only-of-type {\n",
       "        vertical-align: middle;\n",
       "    }\n",
       "\n",
       "    .dataframe tbody tr th {\n",
       "        vertical-align: top;\n",
       "    }\n",
       "\n",
       "    .dataframe thead th {\n",
       "        text-align: right;\n",
       "    }\n",
       "</style>\n",
       "<table border=\"1\" class=\"dataframe\">\n",
       "  <thead>\n",
       "    <tr style=\"text-align: right;\">\n",
       "      <th></th>\n",
       "      <th>id</th>\n",
       "      <th>geometry</th>\n",
       "    </tr>\n",
       "  </thead>\n",
       "  <tbody>\n",
       "    <tr>\n",
       "      <th>0</th>\n",
       "      <td>1</td>\n",
       "      <td>POLYGON ((-103.4233 20.91026, -103.42209 20.91...</td>\n",
       "    </tr>\n",
       "  </tbody>\n",
       "</table>\n",
       "</div>"
      ],
      "text/plain": [
       "   id                                           geometry\n",
       "0   1  POLYGON ((-103.4233 20.91026, -103.42209 20.91..."
      ]
     },
     "execution_count": 3,
     "metadata": {},
     "output_type": "execute_result"
    }
   ],
   "source": [
    "aoa_gdf = gpd.read_file(\"../../data/processed/prediccion_uso_suelo/Distrito/distrito.shp\")\n",
    "aoa_gdf = aoa_gdf.to_crs(\"EPSG:4326\")\n",
    "print(aoa_gdf.shape)\n",
    "aoa_gdf.head(2)"
   ]
  },
  {
   "cell_type": "markdown",
   "id": "f27f5d9e-7d74-43a7-b7e5-9c614bfd2744",
   "metadata": {},
   "source": [
    "### Edges"
   ]
  },
  {
   "cell_type": "code",
   "execution_count": 4,
   "id": "588f70a8-778c-4eff-a890-3553b8eaad3e",
   "metadata": {},
   "outputs": [
    {
     "name": "stdout",
     "output_type": "stream",
     "text": [
      "(146103, 19)\n"
     ]
    },
    {
     "data": {
      "text/html": [
       "<div>\n",
       "<style scoped>\n",
       "    .dataframe tbody tr th:only-of-type {\n",
       "        vertical-align: middle;\n",
       "    }\n",
       "\n",
       "    .dataframe tbody tr th {\n",
       "        vertical-align: top;\n",
       "    }\n",
       "\n",
       "    .dataframe thead th {\n",
       "        text-align: right;\n",
       "    }\n",
       "</style>\n",
       "<table border=\"1\" class=\"dataframe\">\n",
       "  <thead>\n",
       "    <tr style=\"text-align: right;\">\n",
       "      <th></th>\n",
       "      <th>osmid</th>\n",
       "      <th>v</th>\n",
       "      <th>u</th>\n",
       "      <th>key</th>\n",
       "      <th>oneway</th>\n",
       "      <th>lanes</th>\n",
       "      <th>name</th>\n",
       "      <th>highway</th>\n",
       "      <th>maxspeed</th>\n",
       "      <th>length</th>\n",
       "      <th>geometry</th>\n",
       "      <th>bridge</th>\n",
       "      <th>ref</th>\n",
       "      <th>junction</th>\n",
       "      <th>tunnel</th>\n",
       "      <th>access</th>\n",
       "      <th>width</th>\n",
       "      <th>service</th>\n",
       "      <th>city</th>\n",
       "    </tr>\n",
       "  </thead>\n",
       "  <tbody>\n",
       "    <tr>\n",
       "      <th>0</th>\n",
       "      <td>701379894</td>\n",
       "      <td>1742199439</td>\n",
       "      <td>1665230207</td>\n",
       "      <td>0</td>\n",
       "      <td>False</td>\n",
       "      <td>None</td>\n",
       "      <td>Privada Fresno</td>\n",
       "      <td>residential</td>\n",
       "      <td>None</td>\n",
       "      <td>85.256</td>\n",
       "      <td>LINESTRING (-103.42168 20.58715, -103.42172 20...</td>\n",
       "      <td>None</td>\n",
       "      <td>None</td>\n",
       "      <td>None</td>\n",
       "      <td>None</td>\n",
       "      <td>None</td>\n",
       "      <td>None</td>\n",
       "      <td>None</td>\n",
       "      <td>Guadalajara</td>\n",
       "    </tr>\n",
       "    <tr>\n",
       "      <th>1</th>\n",
       "      <td>467372703</td>\n",
       "      <td>1873910987</td>\n",
       "      <td>1665442630</td>\n",
       "      <td>0</td>\n",
       "      <td>False</td>\n",
       "      <td>None</td>\n",
       "      <td>Avenida Los Cajetes</td>\n",
       "      <td>residential</td>\n",
       "      <td>None</td>\n",
       "      <td>68.582</td>\n",
       "      <td>LINESTRING (-103.42383 20.58681, -103.42389 20...</td>\n",
       "      <td>None</td>\n",
       "      <td>None</td>\n",
       "      <td>None</td>\n",
       "      <td>None</td>\n",
       "      <td>None</td>\n",
       "      <td>None</td>\n",
       "      <td>None</td>\n",
       "      <td>Guadalajara</td>\n",
       "    </tr>\n",
       "  </tbody>\n",
       "</table>\n",
       "</div>"
      ],
      "text/plain": [
       "       osmid           v           u  key  oneway lanes                 name  \\\n",
       "0  701379894  1742199439  1665230207    0   False  None       Privada Fresno   \n",
       "1  467372703  1873910987  1665442630    0   False  None  Avenida Los Cajetes   \n",
       "\n",
       "       highway maxspeed  length  \\\n",
       "0  residential     None  85.256   \n",
       "1  residential     None  68.582   \n",
       "\n",
       "                                            geometry bridge   ref junction  \\\n",
       "0  LINESTRING (-103.42168 20.58715, -103.42172 20...   None  None     None   \n",
       "1  LINESTRING (-103.42383 20.58681, -103.42389 20...   None  None     None   \n",
       "\n",
       "  tunnel access width service         city  \n",
       "0   None   None  None    None  Guadalajara  \n",
       "1   None   None  None    None  Guadalajara  "
      ]
     },
     "execution_count": 4,
     "metadata": {},
     "output_type": "execute_result"
    }
   ],
   "source": [
    "schema = \"osmnx\"\n",
    "table = \"edges_osmnx_23_line\"\n",
    "\n",
    "edges = aup.gdf_from_polygon(aoa_gdf, schema, table)\n",
    "print(edges.shape)\n",
    "edges.head(2)"
   ]
  },
  {
   "cell_type": "markdown",
   "id": "19a87e9f-1098-4f67-80f7-7bcde5deb73d",
   "metadata": {},
   "source": [
    "#### Road type processing"
   ]
  },
  {
   "cell_type": "markdown",
   "id": "17b7fb20-fd6f-47ed-b3bf-94b819268986",
   "metadata": {},
   "source": [
    "Transform lists stored as strings to list"
   ]
  },
  {
   "cell_type": "code",
   "execution_count": 5,
   "id": "3e1199bf-ea47-4dc4-a032-46d7576a6831",
   "metadata": {},
   "outputs": [],
   "source": [
    "from ast import literal_eval"
   ]
  },
  {
   "cell_type": "code",
   "execution_count": 6,
   "id": "dbbb5da5-d254-4ed1-8721-01b3f338ac69",
   "metadata": {},
   "outputs": [],
   "source": [
    "def check_for_lists(val):\n",
    "    try:\n",
    "        val = literal_eval(val)\n",
    "        return val\n",
    "    except:\n",
    "        return val"
   ]
  },
  {
   "cell_type": "code",
   "execution_count": 7,
   "id": "2af61866-5921-4780-92a3-065677b12b35",
   "metadata": {
    "scrolled": true
   },
   "outputs": [],
   "source": [
    "edges['highway'] = edges.highway.apply(lambda row: check_for_lists(row))"
   ]
  },
  {
   "cell_type": "code",
   "execution_count": 8,
   "id": "fa5539fb-adfc-44b0-8a73-0ce5f30dde4f",
   "metadata": {},
   "outputs": [],
   "source": [
    "edges.loc[edges.highway.map(lambda x: \n",
    "                            isinstance(x, list)),'highway'] = edges.loc[\n",
    "    edges.highway.map(lambda x: isinstance(x, list))].apply(\n",
    "        lambda row: row['highway'][0], axis=1)"
   ]
  },
  {
   "cell_type": "markdown",
   "id": "f732e8fc-e114-4dac-80a2-d5c5d4808705",
   "metadata": {},
   "source": [
    "Check process"
   ]
  },
  {
   "cell_type": "code",
   "execution_count": 9,
   "id": "bdaa34ba-d56a-4274-8784-fa9ce886bd0a",
   "metadata": {},
   "outputs": [
    {
     "data": {
      "text/plain": [
       "0"
      ]
     },
     "execution_count": 9,
     "metadata": {},
     "output_type": "execute_result"
    }
   ],
   "source": [
    "len(edges.loc[edges.highway.map(lambda x: \n",
    "                            isinstance(x, list))])"
   ]
  },
  {
   "cell_type": "markdown",
   "id": "485cbcb6-8603-47ce-9faf-a69e3c27798a",
   "metadata": {},
   "source": [
    "#### Remove link sections"
   ]
  },
  {
   "cell_type": "code",
   "execution_count": 10,
   "id": "bde1fc0a-1133-4616-9fba-cf2684ecdc5b",
   "metadata": {},
   "outputs": [],
   "source": [
    "edges.loc[edges['highway'].str.contains(\n",
    "    \"_link\"),'highway'] = edges[edges['highway'].str.contains(\n",
    "    \"_link\")].highway.apply(lambda x: x.replace('_link',''))"
   ]
  },
  {
   "cell_type": "markdown",
   "id": "45313532-e398-4c3b-8ec8-6280d2f959b5",
   "metadata": {},
   "source": [
    "Check result"
   ]
  },
  {
   "cell_type": "code",
   "execution_count": 11,
   "id": "e90161a0-0d5c-4208-a53d-08fdba2d2829",
   "metadata": {},
   "outputs": [
    {
     "data": {
      "text/plain": [
       "0"
      ]
     },
     "execution_count": 11,
     "metadata": {},
     "output_type": "execute_result"
    }
   ],
   "source": [
    "len(edges.loc[edges['highway'].str.contains(\n",
    "    \"_link\"),'highway'])"
   ]
  },
  {
   "cell_type": "markdown",
   "id": "c67c4e80-43ae-4e51-83d4-d76f48a29975",
   "metadata": {},
   "source": [
    "## Road type proximity to area of analysis"
   ]
  },
  {
   "cell_type": "markdown",
   "id": "2a37e11a-41ba-4c17-b35b-b0bbe9ca7028",
   "metadata": {},
   "source": [
    "#### Test the algorithm"
   ]
  },
  {
   "cell_type": "markdown",
   "id": "8d20af5f-4e4e-4e0e-b361-85d504549082",
   "metadata": {},
   "source": [
    "Rasterize road data"
   ]
  },
  {
   "cell_type": "code",
   "execution_count": 12,
   "id": "965097d7-dc2f-4a14-b9d8-08a085f8866d",
   "metadata": {},
   "outputs": [],
   "source": [
    "edges = edges.to_crs(\"EPSG:4326\")"
   ]
  },
  {
   "cell_type": "code",
   "execution_count": 13,
   "id": "e4ef82fd-22ac-4583-a04d-3df2c7aa5d2e",
   "metadata": {},
   "outputs": [
    {
     "name": "stdout",
     "output_type": "stream",
     "text": [
      "(2455, 19)\n"
     ]
    },
    {
     "data": {
      "text/html": [
       "<div>\n",
       "<style scoped>\n",
       "    .dataframe tbody tr th:only-of-type {\n",
       "        vertical-align: middle;\n",
       "    }\n",
       "\n",
       "    .dataframe tbody tr th {\n",
       "        vertical-align: top;\n",
       "    }\n",
       "\n",
       "    .dataframe thead th {\n",
       "        text-align: right;\n",
       "    }\n",
       "</style>\n",
       "<table border=\"1\" class=\"dataframe\">\n",
       "  <thead>\n",
       "    <tr style=\"text-align: right;\">\n",
       "      <th></th>\n",
       "      <th>osmid</th>\n",
       "      <th>v</th>\n",
       "      <th>u</th>\n",
       "      <th>key</th>\n",
       "      <th>oneway</th>\n",
       "      <th>lanes</th>\n",
       "      <th>name</th>\n",
       "      <th>highway</th>\n",
       "      <th>maxspeed</th>\n",
       "      <th>length</th>\n",
       "      <th>geometry</th>\n",
       "      <th>bridge</th>\n",
       "      <th>ref</th>\n",
       "      <th>junction</th>\n",
       "      <th>tunnel</th>\n",
       "      <th>access</th>\n",
       "      <th>width</th>\n",
       "      <th>service</th>\n",
       "      <th>city</th>\n",
       "    </tr>\n",
       "  </thead>\n",
       "  <tbody>\n",
       "    <tr>\n",
       "      <th>54</th>\n",
       "      <td>653450225</td>\n",
       "      <td>6148237946</td>\n",
       "      <td>4620035014</td>\n",
       "      <td>0</td>\n",
       "      <td>True</td>\n",
       "      <td>3</td>\n",
       "      <td>Antiguo Camino Real a Colima</td>\n",
       "      <td>primary</td>\n",
       "      <td>None</td>\n",
       "      <td>16.516</td>\n",
       "      <td>LINESTRING (-103.42038 20.58717, -103.4205 20....</td>\n",
       "      <td>None</td>\n",
       "      <td>None</td>\n",
       "      <td>None</td>\n",
       "      <td>None</td>\n",
       "      <td>None</td>\n",
       "      <td>None</td>\n",
       "      <td>None</td>\n",
       "      <td>Guadalajara</td>\n",
       "    </tr>\n",
       "    <tr>\n",
       "      <th>65</th>\n",
       "      <td>653450225</td>\n",
       "      <td>8694189056</td>\n",
       "      <td>6148237946</td>\n",
       "      <td>0</td>\n",
       "      <td>True</td>\n",
       "      <td>3</td>\n",
       "      <td>Antiguo Camino Real a Colima</td>\n",
       "      <td>primary</td>\n",
       "      <td>None</td>\n",
       "      <td>241.384</td>\n",
       "      <td>LINESTRING (-103.4205 20.58707, -103.42231 20....</td>\n",
       "      <td>None</td>\n",
       "      <td>None</td>\n",
       "      <td>None</td>\n",
       "      <td>None</td>\n",
       "      <td>None</td>\n",
       "      <td>None</td>\n",
       "      <td>None</td>\n",
       "      <td>Guadalajara</td>\n",
       "    </tr>\n",
       "  </tbody>\n",
       "</table>\n",
       "</div>"
      ],
      "text/plain": [
       "        osmid           v           u  key  oneway lanes  \\\n",
       "54  653450225  6148237946  4620035014    0    True     3   \n",
       "65  653450225  8694189056  6148237946    0    True     3   \n",
       "\n",
       "                            name  highway maxspeed   length  \\\n",
       "54  Antiguo Camino Real a Colima  primary     None   16.516   \n",
       "65  Antiguo Camino Real a Colima  primary     None  241.384   \n",
       "\n",
       "                                             geometry bridge   ref junction  \\\n",
       "54  LINESTRING (-103.42038 20.58717, -103.4205 20....   None  None     None   \n",
       "65  LINESTRING (-103.4205 20.58707, -103.42231 20....   None  None     None   \n",
       "\n",
       "   tunnel access width service         city  \n",
       "54   None   None  None    None  Guadalajara  \n",
       "65   None   None  None    None  Guadalajara  "
      ]
     },
     "execution_count": 13,
     "metadata": {},
     "output_type": "execute_result"
    }
   ],
   "source": [
    "edges_test = edges.loc[edges.highway=='primary'].copy()\n",
    "print(edges_test.shape)\n",
    "edges_test.head(2)"
   ]
  },
  {
   "cell_type": "code",
   "execution_count": 14,
   "id": "ab77cfec-26e7-42b1-81a8-9c4df3af3b61",
   "metadata": {},
   "outputs": [],
   "source": [
    "pixel_size = 0.00023 # 0.00023° -> 25m"
   ]
  },
  {
   "cell_type": "code",
   "execution_count": 15,
   "id": "6900d298-f215-4b9b-ac8d-88d075ab4d61",
   "metadata": {},
   "outputs": [
    {
     "data": {
      "text/plain": [
       "(-103.5399068, 20.5841918, -103.3371528, 20.9004883)"
      ]
     },
     "execution_count": 15,
     "metadata": {},
     "output_type": "execute_result"
    }
   ],
   "source": [
    "bounds = []\n",
    "for c in edges_test.bounds:\n",
    "    if 'min' in c:\n",
    "        bounds.append(edges_test.bounds[c].min().item())\n",
    "    else:\n",
    "        bounds.append(edges_test.bounds[c].max().item())\n",
    "bounds = tuple(bounds)\n",
    "bounds"
   ]
  },
  {
   "cell_type": "code",
   "execution_count": 16,
   "id": "c712ec0a-2499-4f55-afb5-b77b14980311",
   "metadata": {},
   "outputs": [],
   "source": [
    "output_dir = '../../data/processed/prediccion_uso_suelo/prox_vialidades/'\n",
    "rv_array, affine = dr.rasterize(edges_test, pixel_size=pixel_size,\n",
    "                                bounds=bounds, \n",
    "                                output=output_dir+\"primary_rasterized_binary.tif\")"
   ]
  },
  {
   "cell_type": "code",
   "execution_count": 17,
   "id": "7019f56b-c1aa-4a46-a177-b0c94aca5e5b",
   "metadata": {},
   "outputs": [
    {
     "data": {
      "text/plain": [
       "Affine(0.00023, 0.0, -103.54002,\n",
       "       0.0, -0.00023, 20.90056)"
      ]
     },
     "execution_count": 17,
     "metadata": {},
     "output_type": "execute_result"
    }
   ],
   "source": [
    "affine"
   ]
  },
  {
   "cell_type": "markdown",
   "id": "b5d3a728-4cc7-4126-bfa3-f58891643a51",
   "metadata": {},
   "source": [
    "Proximity raster"
   ]
  },
  {
   "cell_type": "code",
   "execution_count": 18,
   "id": "d1f16384-9c84-4c7c-be70-7bccd820a86e",
   "metadata": {},
   "outputs": [
    {
     "name": "stdout",
     "output_type": "stream",
     "text": [
      "Tree build time: 0.003 seconds\n",
      "Distance calc run time: 12.075 seconds\n"
     ]
    }
   ],
   "source": [
    "def raster_conditional(rarray):\n",
    "    return (rarray == 1)\n",
    "\n",
    "# generate distance array and output to geotiff\n",
    "my_dr = dr.DistanceRaster(rv_array, affine=affine,\n",
    "                          output_path=output_dir+\"linestrings_distance_raster.tif\",\n",
    "                          conditional=raster_conditional)"
   ]
  },
  {
   "cell_type": "code",
   "execution_count": 19,
   "id": "353a7848-8b5b-4dd3-8dd9-503469840eea",
   "metadata": {},
   "outputs": [
    {
     "data": {
      "text/plain": [
       "<distancerasters.main.DistanceRaster at 0x7fd37fd5e2d0>"
      ]
     },
     "execution_count": 19,
     "metadata": {},
     "output_type": "execute_result"
    }
   ],
   "source": [
    "my_dr"
   ]
  },
  {
   "cell_type": "code",
   "execution_count": 21,
   "id": "80ac320c-1e76-436f-969e-079788881d34",
   "metadata": {},
   "outputs": [],
   "source": [
    "import rasterio"
   ]
  },
  {
   "cell_type": "code",
   "execution_count": 23,
   "id": "e9586d77-8e5e-4ad7-95d9-c51f66620b1d",
   "metadata": {},
   "outputs": [],
   "source": [
    "with rasterio.open(output_dir+\"linestrings_distance_raster.tif\") as src:\n",
    "    affine = src.transform\n",
    "    distance_raster = src.read(1)"
   ]
  },
  {
   "cell_type": "code",
   "execution_count": 24,
   "id": "9766dce3-e732-4005-a3b1-227d7fb6012f",
   "metadata": {},
   "outputs": [
    {
     "data": {
      "text/plain": [
       "array([[10892.08162625, 10869.12487121, 10846.1721656 , ...,\n",
       "         9868.65606056,  9892.54534059,  9916.4346345 ],\n",
       "       [10885.03114575, 10862.05945444, 10839.09175198, ...,\n",
       "         9868.29908858,  9892.18926726,  9916.07945559],\n",
       "       [10878.03622343, 10855.04969406, 10832.06709326, ...,\n",
       "         9868.00838593,  9891.89930328,  9915.79022679],\n",
       "       ...,\n",
       "       [11181.69454695, 11160.32909789, 11138.97411331, ...,\n",
       "         8273.07995895,  8292.62491198,  8312.19284929],\n",
       "       [11193.24804307, 11171.90465701, 11150.57180914, ...,\n",
       "         8287.8946538 ,  8307.40478155,  8326.93801632],\n",
       "       [11204.84800027, 11183.52672017, 11162.21605183, ...,\n",
       "         8302.76169244,  8322.23699625,  8341.73552896]],\n",
       "      shape=(1375, 883))"
      ]
     },
     "execution_count": 24,
     "metadata": {},
     "output_type": "execute_result"
    }
   ],
   "source": [
    "distance_raster"
   ]
  },
  {
   "cell_type": "code",
   "execution_count": null,
   "id": "ab6a8d2a-d69f-4371-863f-34b146d00144",
   "metadata": {},
   "outputs": [],
   "source": []
  }
 ],
 "metadata": {
  "kernelspec": {
   "display_name": "Python 3 (ipykernel)",
   "language": "python",
   "name": "python3"
  },
  "language_info": {
   "codemirror_mode": {
    "name": "ipython",
    "version": 3
   },
   "file_extension": ".py",
   "mimetype": "text/x-python",
   "name": "python",
   "nbconvert_exporter": "python",
   "pygments_lexer": "ipython3",
   "version": "3.11.11"
  }
 },
 "nbformat": 4,
 "nbformat_minor": 5
}
