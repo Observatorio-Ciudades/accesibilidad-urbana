{
 "cells": [
  {
   "cell_type": "code",
   "execution_count": 1,
   "id": "a7675bb0-d6af-4f65-98e9-e02e55bca55d",
   "metadata": {},
   "outputs": [
    {
     "ename": "ImportError",
     "evalue": "cannot import name 'GEOSException' from 'shapely.errors' (/opt/conda/envs/gds/lib/python3.9/site-packages/shapely/errors.py)",
     "output_type": "error",
     "traceback": [
      "\u001b[0;31m---------------------------------------------------------------------------\u001b[0m",
      "\u001b[0;31mImportError\u001b[0m                               Traceback (most recent call last)",
      "Cell \u001b[0;32mIn[1], line 16\u001b[0m\n\u001b[1;32m     14\u001b[0m \u001b[38;5;28;01mif\u001b[39;00m module_path \u001b[38;5;129;01mnot\u001b[39;00m \u001b[38;5;129;01min\u001b[39;00m sys\u001b[38;5;241m.\u001b[39mpath:\n\u001b[1;32m     15\u001b[0m     sys\u001b[38;5;241m.\u001b[39mpath\u001b[38;5;241m.\u001b[39mappend(module_path)\n\u001b[0;32m---> 16\u001b[0m     \u001b[38;5;28;01mimport\u001b[39;00m \u001b[38;5;21;01maup\u001b[39;00m\n",
      "File \u001b[0;32m~/accesibilidad-urbana/aup/__init__.py:1\u001b[0m\n\u001b[0;32m----> 1\u001b[0m \u001b[38;5;28;01mfrom\u001b[39;00m \u001b[38;5;21;01m.\u001b[39;00m\u001b[38;5;21;01mdata\u001b[39;00m \u001b[38;5;28;01mimport\u001b[39;00m \u001b[38;5;241m*\u001b[39m\n\u001b[1;32m      2\u001b[0m \u001b[38;5;28;01mfrom\u001b[39;00m \u001b[38;5;21;01m.\u001b[39;00m\u001b[38;5;21;01mutils\u001b[39;00m \u001b[38;5;28;01mimport\u001b[39;00m \u001b[38;5;241m*\u001b[39m\n\u001b[1;32m      3\u001b[0m \u001b[38;5;28;01mfrom\u001b[39;00m \u001b[38;5;21;01m.\u001b[39;00m\u001b[38;5;21;01manalysis\u001b[39;00m \u001b[38;5;28;01mimport\u001b[39;00m \u001b[38;5;241m*\u001b[39m\n",
      "File \u001b[0;32m~/accesibilidad-urbana/aup/data.py:12\u001b[0m\n\u001b[1;32m      9\u001b[0m \u001b[38;5;28;01mfrom\u001b[39;00m \u001b[38;5;21;01mio\u001b[39;00m \u001b[38;5;28;01mimport\u001b[39;00m StringIO\n\u001b[1;32m     11\u001b[0m \u001b[38;5;28;01mimport\u001b[39;00m \u001b[38;5;21;01mgeopandas\u001b[39;00m \u001b[38;5;28;01mas\u001b[39;00m \u001b[38;5;21;01mgpd\u001b[39;00m\n\u001b[0;32m---> 12\u001b[0m \u001b[38;5;28;01mimport\u001b[39;00m \u001b[38;5;21;01mosmnx\u001b[39;00m \u001b[38;5;28;01mas\u001b[39;00m \u001b[38;5;21;01mox\u001b[39;00m\n\u001b[1;32m     13\u001b[0m \u001b[38;5;28;01mimport\u001b[39;00m \u001b[38;5;21;01mpandas\u001b[39;00m \u001b[38;5;28;01mas\u001b[39;00m \u001b[38;5;21;01mpd\u001b[39;00m\n\u001b[1;32m     14\u001b[0m \u001b[38;5;28;01mimport\u001b[39;00m \u001b[38;5;21;01mnumpy\u001b[39;00m \u001b[38;5;28;01mas\u001b[39;00m \u001b[38;5;21;01mnp\u001b[39;00m\n",
      "File \u001b[0;32m/opt/conda/envs/gds/lib/python3.9/site-packages/osmnx/__init__.py:3\u001b[0m\n\u001b[1;32m      1\u001b[0m \u001b[38;5;124;03m\"\"\"OSMnx init.\"\"\"\u001b[39;00m\n\u001b[0;32m----> 3\u001b[0m \u001b[38;5;28;01mfrom\u001b[39;00m \u001b[38;5;21;01m.\u001b[39;00m\u001b[38;5;21;01m_api\u001b[39;00m \u001b[38;5;28;01mimport\u001b[39;00m \u001b[38;5;241m*\u001b[39m  \u001b[38;5;66;03m# noqa: F401, F403\u001b[39;00m\n\u001b[1;32m      4\u001b[0m \u001b[38;5;28;01mfrom\u001b[39;00m \u001b[38;5;21;01m.\u001b[39;00m\u001b[38;5;21;01m_version\u001b[39;00m \u001b[38;5;28;01mimport\u001b[39;00m __version__  \u001b[38;5;66;03m# noqa: F401\u001b[39;00m\n",
      "File \u001b[0;32m/opt/conda/envs/gds/lib/python3.9/site-packages/osmnx/_api.py:10\u001b[0m\n\u001b[1;32m      8\u001b[0m \u001b[38;5;28;01mfrom\u001b[39;00m \u001b[38;5;21;01m.\u001b[39;00m\u001b[38;5;21;01melevation\u001b[39;00m \u001b[38;5;28;01mimport\u001b[39;00m add_node_elevations_google\n\u001b[1;32m      9\u001b[0m \u001b[38;5;28;01mfrom\u001b[39;00m \u001b[38;5;21;01m.\u001b[39;00m\u001b[38;5;21;01melevation\u001b[39;00m \u001b[38;5;28;01mimport\u001b[39;00m add_node_elevations_raster\n\u001b[0;32m---> 10\u001b[0m \u001b[38;5;28;01mfrom\u001b[39;00m \u001b[38;5;21;01m.\u001b[39;00m\u001b[38;5;21;01mfeatures\u001b[39;00m \u001b[38;5;28;01mimport\u001b[39;00m features_from_address\n\u001b[1;32m     11\u001b[0m \u001b[38;5;28;01mfrom\u001b[39;00m \u001b[38;5;21;01m.\u001b[39;00m\u001b[38;5;21;01mfeatures\u001b[39;00m \u001b[38;5;28;01mimport\u001b[39;00m features_from_bbox\n\u001b[1;32m     12\u001b[0m \u001b[38;5;28;01mfrom\u001b[39;00m \u001b[38;5;21;01m.\u001b[39;00m\u001b[38;5;21;01mfeatures\u001b[39;00m \u001b[38;5;28;01mimport\u001b[39;00m features_from_place\n",
      "File \u001b[0;32m/opt/conda/envs/gds/lib/python3.9/site-packages/osmnx/features.py:20\u001b[0m\n\u001b[1;32m     18\u001b[0m \u001b[38;5;28;01mimport\u001b[39;00m \u001b[38;5;21;01mgeopandas\u001b[39;00m \u001b[38;5;28;01mas\u001b[39;00m \u001b[38;5;21;01mgpd\u001b[39;00m\n\u001b[1;32m     19\u001b[0m \u001b[38;5;28;01mimport\u001b[39;00m \u001b[38;5;21;01mpandas\u001b[39;00m \u001b[38;5;28;01mas\u001b[39;00m \u001b[38;5;21;01mpd\u001b[39;00m\n\u001b[0;32m---> 20\u001b[0m \u001b[38;5;28;01mfrom\u001b[39;00m \u001b[38;5;21;01mshapely\u001b[39;00m\u001b[38;5;21;01m.\u001b[39;00m\u001b[38;5;21;01merrors\u001b[39;00m \u001b[38;5;28;01mimport\u001b[39;00m GEOSException\n\u001b[1;32m     21\u001b[0m \u001b[38;5;28;01mfrom\u001b[39;00m \u001b[38;5;21;01mshapely\u001b[39;00m\u001b[38;5;21;01m.\u001b[39;00m\u001b[38;5;21;01merrors\u001b[39;00m \u001b[38;5;28;01mimport\u001b[39;00m TopologicalError\n\u001b[1;32m     22\u001b[0m \u001b[38;5;28;01mfrom\u001b[39;00m \u001b[38;5;21;01mshapely\u001b[39;00m\u001b[38;5;21;01m.\u001b[39;00m\u001b[38;5;21;01mgeometry\u001b[39;00m \u001b[38;5;28;01mimport\u001b[39;00m LineString\n",
      "\u001b[0;31mImportError\u001b[0m: cannot import name 'GEOSException' from 'shapely.errors' (/opt/conda/envs/gds/lib/python3.9/site-packages/shapely/errors.py)"
     ]
    }
   ],
   "source": [
    "import geopandas as gpd\n",
    "import pandas as pd\n",
    "import numpy as np\n",
    "import seaborn as sns\n",
    "import matplotlib.pyplot as plt\n",
    "from shapely.geometry import Point, Polygon\n",
    "\n",
    "import warnings\n",
    "warnings.simplefilter(action='ignore', category=FutureWarning)\n",
    "\n",
    "import os\n",
    "import sys\n",
    "module_path = os.path.abspath(os.path.join('../../'))\n",
    "if module_path not in sys.path:\n",
    "    sys.path.append(module_path)\n",
    "    import aup"
   ]
  },
  {
   "cell_type": "markdown",
   "id": "6aa739a9-9911-49af-9ff3-6dddfa069a37",
   "metadata": {},
   "source": [
    "## Downloading network"
   ]
  },
  {
   "cell_type": "code",
   "execution_count": null,
   "id": "3f8637f8-cac1-4214-a0af-cf4ff1aadab1",
   "metadata": {},
   "outputs": [],
   "source": [
    "USOS_ZONA_7 = gpd.read_file(\"Distrito_Zona7.geojson\")"
   ]
  },
  {
   "cell_type": "code",
   "execution_count": null,
   "id": "0e7f7d1e-f39f-4c73-8917-62be69ee2f64",
   "metadata": {},
   "outputs": [],
   "source": [
    "print(USOS_ZONA_7.crs)"
   ]
  },
  {
   "cell_type": "code",
   "execution_count": null,
   "id": "13650ea1-142e-4620-bfff-4dc4d13194f5",
   "metadata": {},
   "outputs": [],
   "source": [
    "USOS_ZONA_7.shape"
   ]
  },
  {
   "cell_type": "code",
   "execution_count": null,
   "id": "fdb4a1fc-b136-4381-bd0c-f025a0f494e8",
   "metadata": {},
   "outputs": [],
   "source": [
    "USOS_ZONA_7.plot()"
   ]
  },
  {
   "cell_type": "code",
   "execution_count": null,
   "id": "814d0330-6caa-43f8-98bf-3e65e72f705c",
   "metadata": {
    "scrolled": true
   },
   "outputs": [],
   "source": [
    "# Convertir la geometría del polígono en WKT (para usar SQL en la query)\n",
    "poly_wkt = USOS_ZONA_7.dissolve().geometry.iloc[0].wkt\n",
    "# print(poly_wkt)  # Verificar si genera un WKT válido"
   ]
  },
  {
   "cell_type": "code",
   "execution_count": null,
   "id": "e2dec1eb-aea1-4b6a-97b6-abf1ad173bb8",
   "metadata": {},
   "outputs": [],
   "source": [
    "schema = \"denue\"\n",
    "table = \"denue_2022\"\n",
    "\n",
    "manzana = \"manzana\"\n",
    "entidad = \"cve_ent\"\n",
    "localidad = \"cve_loc\"\n",
    "municipio = \"cve_mun\"\n",
    "id = \"id\"\n",
    "latitud = \"latitud\"\n",
    "longitud = \"longitud\"\n",
    "codigo_act = \"codigo_act\"\n",
    "ageb = \"ageb\"\n",
    "per_ocu = \"per_ocu\"\n",
    "\n",
    "\n",
    "# Crear la consulta manteniendo el mismo CRS\n",
    "query_censo = f\"\"\"\n",
    "SELECT \n",
    "  \"{id}\", \n",
    "  \"{entidad}\",\n",
    "  \"{localidad}\",\n",
    "  \"{manzana}\",\n",
    "  \"{municipio}\",\n",
    "  \"{latitud}\",\n",
    "  \"{longitud}\",\n",
    "  \"{codigo_act}\",\n",
    "  \"{ageb}\",\n",
    "  \"{per_ocu}\",\n",
    "  \"geometry\"\n",
    "FROM {schema}.{table}\n",
    "WHERE ST_Intersects(\n",
    "  ST_Transform(geometry, 32613),  -- Transformar geometría de DENUE a 32613 \n",
    "  ST_GeomFromText('{poly_wkt}', 32613)  -- Usar el polígono en 32613\n",
    ")\n",
    "\"\"\"\n",
    "\n",
    "# Ejecutar la consulta\n",
    "Denue = aup.gdf_from_query(query_censo, geometry_col='geometry')\n",
    "\n",
    "# Asegurar que el GeoDataFrame resultante tenga el CRS correcto\n",
    "Denue = Denue.to_crs(\"EPSG:32613\")\n",
    "\n",
    "\n",
    "print(Denue.shape)\n",
    "Denue.head()\n"
   ]
  },
  {
   "cell_type": "code",
   "execution_count": null,
   "id": "792f6d88-b77a-455b-b467-32c476aed78b",
   "metadata": {},
   "outputs": [],
   "source": [
    "print(Denue.is_valid.sum())  # Geometrías válidas\n",
    "print(Denue.geometry.is_empty.sum())  # Geometrías vacías"
   ]
  },
  {
   "cell_type": "code",
   "execution_count": null,
   "id": "04df8bb1-74c3-4a52-8302-c2140fd9bad7",
   "metadata": {},
   "outputs": [],
   "source": [
    "# Verificar coordenadas extremas\n",
    "print(\"\\nRango de coordenadas USOS_ZONA_7:\")\n",
    "print(USOS_ZONA_7.total_bounds)\n",
    "print(\"\\nRango de coordenadas Denue:\")\n",
    "print(Denue.total_bounds)"
   ]
  },
  {
   "cell_type": "markdown",
   "id": "aef70eb9-ec59-4093-b34f-bc033d26bdce",
   "metadata": {},
   "source": [
    "## Clasificar las distintas actividades económicas con base en su terminación en \"codigo_act\" basándonos en el Directorio Estadístico Nacional de Unidades Económicas"
   ]
  },
  {
   "cell_type": "code",
   "execution_count": null,
   "id": "87b05149-1bb9-4a0a-a93c-3d56dd74fd00",
   "metadata": {},
   "outputs": [],
   "source": [
    "# Función para clasificar según la terminación de codigo_act\n",
    "def asignar_tipo(codigo):\n",
    "    if pd.isna(codigo):  # Si está vacío\n",
    "        return 'Sin código'\n",
    "    \n",
    "    # Asegurar que sea string para evaluar el código\n",
    "    codigo_str = str(codigo).strip()\n",
    "\n",
    "    if not codigo_str.isdigit():\n",
    "        return 'Código inválido'\n",
    "    \n",
    "    # Define tus conjuntos de códigos\n",
    "    industria = {'11', '21', '23', '31', '32', '33', '55'}\n",
    "    \n",
    "    servicios = {'22', '48', '49', '52', '53', '54', '56', '72',\n",
    "                 '81'}\n",
    "    \n",
    "    comercio = {'43', '46'}\n",
    "    \n",
    "    cultural_recreativo = {'51','71'}\n",
    "    \n",
    "    educacion = {'61'}\n",
    "    \n",
    "    salud = {'62'}\n",
    "\n",
    "    gobierno = {'93'}\n",
    "    \n",
    "    # Verificar si el código está en alguno de los conjuntos\n",
    "    if codigo_str[:2] in industria:\n",
    "        return 'Industria'\n",
    "    elif codigo_str[:2] in servicios:\n",
    "        return 'Servicios'\n",
    "    elif codigo_str[:2] in comercio:\n",
    "        return 'Comercio'\n",
    "    elif codigo_str[:2] in cultural_recreativo:\n",
    "        return 'Cultural/Recreativo'\n",
    "    elif codigo_str[:2] in educacion:\n",
    "        return 'Educación'\n",
    "    elif codigo_str[:2] in salud:\n",
    "        return 'Salud'\n",
    "    elif codigo_str[:2] in gobierno:\n",
    "        return 'Gobierno'\n",
    "    else:\n",
    "        return 'Desconocido'\n",
    "\n",
    "# Aplica la función al DataFrame\n",
    "Denue['tipo_act'] = Denue['codigo_act'].apply(asignar_tipo)"
   ]
  },
  {
   "cell_type": "code",
   "execution_count": null,
   "id": "20ee14e3-923d-44f1-91b2-05d69b4688b4",
   "metadata": {},
   "outputs": [],
   "source": [
    "Denue.head(3)"
   ]
  },
  {
   "cell_type": "code",
   "execution_count": null,
   "id": "90ceaa81-fc13-4b4a-a290-15ccd56e7a59",
   "metadata": {},
   "outputs": [],
   "source": [
    "Denue[\"tipo_act\"].unique()"
   ]
  },
  {
   "cell_type": "code",
   "execution_count": null,
   "id": "31a12665-8bea-4d5a-9aad-7b813d89fb3d",
   "metadata": {},
   "outputs": [],
   "source": [
    "desconocidos = Denue[Denue['tipo_act'] == 'Desconocido']\n",
    "desconocidos"
   ]
  },
  {
   "cell_type": "markdown",
   "id": "051a8c30-de10-447e-a387-e9b547a5c579",
   "metadata": {},
   "source": [
    "### Relación espacio -> espacio"
   ]
  },
  {
   "cell_type": "markdown",
   "id": "8ca87dc8-fd63-4847-a620-35f005a31095",
   "metadata": {},
   "source": [
    "#### Mostrar de manera completa las relaciones y jerarquías entre los distintos espacios"
   ]
  },
  {
   "cell_type": "code",
   "execution_count": null,
   "id": "3144e319-3d49-47d1-81c4-286f7443a35f",
   "metadata": {},
   "outputs": [],
   "source": [
    "jerarquia_completa = Denue[['cve_ent', 'cve_mun', 'cve_loc', 'ageb', 'manzana']].sort_values(by=['cve_ent', 'cve_mun', 'cve_loc', 'ageb', 'manzana'])\n",
    "jerarquia_completa.head(10)"
   ]
  },
  {
   "cell_type": "code",
   "execution_count": null,
   "id": "64afc339-82c8-4b86-b905-24f3bed8c6cc",
   "metadata": {},
   "outputs": [],
   "source": [
    "jerarquia_completa.shape"
   ]
  },
  {
   "cell_type": "code",
   "execution_count": null,
   "id": "c8502344-e2f4-49f3-bde1-46d4c6f8ba6b",
   "metadata": {},
   "outputs": [],
   "source": [
    "conteo_manzanas = jerarquia_completa.groupby(['cve_ent', 'cve_mun', 'cve_loc', 'ageb', 'manzana']) \\\n",
    "    .size().reset_index(name='cont_manzanas') #  Contar cuántas manzanas hay por agrupación y convertimos a string"
   ]
  },
  {
   "cell_type": "code",
   "execution_count": null,
   "id": "1c343a1f-c119-4fa4-b3b6-084806e4c220",
   "metadata": {},
   "outputs": [],
   "source": [
    "conteo_manzanas.head(5)"
   ]
  },
  {
   "cell_type": "code",
   "execution_count": null,
   "id": "8298bf2f-a8e7-44f3-a236-f075b9b133c1",
   "metadata": {},
   "outputs": [],
   "source": [
    "conteo_manzanas[\"cont_manzanas\"].unique()"
   ]
  },
  {
   "cell_type": "code",
   "execution_count": null,
   "id": "663f4898-25ad-46c6-8a62-ceb621ca4f95",
   "metadata": {},
   "outputs": [],
   "source": [
    "jerarquia_completa['cod_16d'] = (\n",
    "    jerarquia_completa['cve_ent'].astype(str).str[:2] + \n",
    "    jerarquia_completa['cve_mun'].astype(str).str[:3] + \n",
    "    jerarquia_completa['cve_loc'].astype(str).str[:4] + \n",
    "    jerarquia_completa['ageb'].astype(str).str[:4] + \n",
    "    jerarquia_completa['manzana'].astype(str).str[:3]\n",
    ")"
   ]
  },
  {
   "cell_type": "code",
   "execution_count": null,
   "id": "bbe3fcdd-0a1a-4b5b-be12-b7ce8afbe552",
   "metadata": {},
   "outputs": [],
   "source": [
    "jerarquia_completa"
   ]
  },
  {
   "cell_type": "code",
   "execution_count": null,
   "id": "ee319900-c25d-4834-a712-11e1ab45380a",
   "metadata": {},
   "outputs": [],
   "source": [
    "Denue_completo = Denue.merge(\n",
    "    jerarquia_completa)\n",
    "\n",
    "Denue_completo.head(3)"
   ]
  },
  {
   "cell_type": "code",
   "execution_count": null,
   "id": "ea53210e-c88d-44be-9398-faebae28a40f",
   "metadata": {},
   "outputs": [],
   "source": [
    "Denue_completo.shape"
   ]
  },
  {
   "cell_type": "markdown",
   "id": "bef2a81c-d788-4748-9a4d-aa9965c50cf7",
   "metadata": {},
   "source": [
    "## Importar las manzanas de censo"
   ]
  },
  {
   "cell_type": "code",
   "execution_count": null,
   "id": "6d1b26a1-0db8-4b58-95d2-977474405d13",
   "metadata": {},
   "outputs": [],
   "source": [
    "schema = \"sociodemografico\"\n",
    "table = \"censo_inegi_20_mza\"\n",
    "\n",
    "entidad = \"cve_ent\"\n",
    "localidad = \"cve_loc\"\n",
    "municipio = \"cve_mun\"\n",
    "manzana = \"cvegeo_mza\"\n",
    "ageb = \"cve_ageb\"\n",
    "ambito = \"ambito\"\n",
    "tipomza = \"tipomza\"\n",
    "pobtot = \"pobtot\"\n",
    "\n",
    "query_censo = f\"\"\"\n",
    "SELECT \n",
    "\"{entidad}\",\n",
    "\"{manzana}\",\n",
    "\"{localidad}\",\n",
    "\"{municipio}\",\n",
    "\"{ageb}\",\n",
    "\"{ambito}\",\n",
    "\"{tipomza}\",\n",
    "\"{pobtot}\",\n",
    "\"geometry\"\n",
    "FROM {schema}.{table}\n",
    "WHERE ST_Intersects(\n",
    "  ST_Transform(geometry, 32613),  -- Transformar geometría de DENUE a 32613 \n",
    "  ST_GeomFromText('{poly_wkt}', 32613)  -- Usar el polígono en 32613\n",
    ")\n",
    "\"\"\"\n",
    "\n",
    "# Ejecutar la consulta y cargar los datos en un GeoDataFrame\n",
    "censo_denue = aup.gdf_from_query(query_censo, geometry_col='geometry')\n",
    "censo_denue = censo_denue.to_crs(\"EPSG:32613\")\n",
    "\n",
    "print(censo_denue.shape)\n",
    "censo_denue.head()"
   ]
  },
  {
   "cell_type": "markdown",
   "id": "93815436-2873-4871-a121-327b11d13351",
   "metadata": {},
   "source": [
    "### Contabilizar cuántas personas hay ejerciendo cada actividad económica"
   ]
  },
  {
   "cell_type": "code",
   "execution_count": null,
   "id": "3c79b505-ec13-46f8-989a-bbfd1bd077aa",
   "metadata": {},
   "outputs": [],
   "source": [
    "def number_of_jobs(per_ocu):\n",
    "    jobs_dict = {'0 a 5 personas':3,\n",
    "                '6 a 10 personas':8,\n",
    "                '11 a 30 personas':20,\n",
    "                '31 a 50 personas':40,\n",
    "                '51 a 100 personas':75,\n",
    "                '101 a 250 personas':175,\n",
    "                '251 y más personas':325}\n",
    "    per_ocu_num = jobs_dict[per_ocu]\n",
    "    return per_ocu_num"
   ]
  },
  {
   "cell_type": "code",
   "execution_count": null,
   "id": "8b0dd67e-dac3-48b3-8e86-f64ed629a56f",
   "metadata": {},
   "outputs": [],
   "source": [
    "Denue_completo['per_ocu_num'] = Denue_completo.per_ocu.apply(lambda per_ocu: number_of_jobs(per_ocu))\n",
    "Denue_completo.head(2)"
   ]
  },
  {
   "cell_type": "markdown",
   "id": "0e8e4be2-89ad-482a-8441-9a724c629662",
   "metadata": {},
   "source": [
    "### Hacer el match entre las manzanas del denue y las manzanas del censo"
   ]
  },
  {
   "cell_type": "code",
   "execution_count": null,
   "id": "c52e5012-1ac3-445e-84ea-a54e1b54a748",
   "metadata": {},
   "outputs": [],
   "source": [
    "censo_denue.rename(columns = {\"cve_ageb\": \"ageb\"} , inplace = True)\n",
    "censo_denue.rename(columns = {\"cvegeo_mza\": \"manzana\"} , inplace = True)"
   ]
  },
  {
   "cell_type": "code",
   "execution_count": null,
   "id": "6042a327-d2de-4380-ab56-1d11be18d87f",
   "metadata": {},
   "outputs": [],
   "source": [
    "# Claves únicas del DENUE (para verificar coincidencias)\n",
    "claves_denue = Denue_completo[\n",
    "    ['cve_ent', 'cve_mun', 'cve_loc', 'ageb', 'manzana', 'cod_16d]]"
   ]
  },
  {
   "cell_type": "code",
   "execution_count": null,
   "id": "96669ee1-c3b5-495a-910e-70499c90e23e",
   "metadata": {},
   "outputs": [],
   "source": [
    "claves_denue"
   ]
  },
  {
   "cell_type": "code",
   "execution_count": null,
   "id": "37b43693-bf6e-4ab2-a2f0-e43efdd25138",
   "metadata": {},
   "outputs": [],
   "source": [
    "# Añadir columna binaria (1 si existe en DENUE, 0 si no)\n",
    "censo_denue['tiene_denue'] = censo_denue.apply(\n",
    "    lambda row: 1 if (\n",
    "        (claves_denue['cod_16d'] == row['manzana'])\n",
    "    ).any() else 0,\n",
    "    axis=1\n",
    ")"
   ]
  },
  {
   "cell_type": "code",
   "execution_count": null,
   "id": "3ca02e85-0957-4b7f-8926-5ecd6f07f96c",
   "metadata": {},
   "outputs": [],
   "source": [
    "censo_denue.head(2)"
   ]
  },
  {
   "cell_type": "code",
   "execution_count": null,
   "id": "d74cc5a6-6444-4ace-a6c1-d9c6a3410376",
   "metadata": {},
   "outputs": [],
   "source": [
    "(censo_denue[\"tiene_denue\"] == 0).sum() # Manzanas sin denue"
   ]
  },
  {
   "cell_type": "code",
   "execution_count": null,
   "id": "5c8f095d-4c50-4b30-b0c7-2c9d624c8bef",
   "metadata": {},
   "outputs": [],
   "source": [
    "censo_con_denue = censo_denue[censo_denue['tiene_denue'] != 0] \n",
    "# Nos quedamos únicamente con aquellas manzanas que sí encontraron coincidencia con Denue\n",
    "print(censo_con_denue.shape)\n",
    "censo_con_denue.head(2)"
   ]
  },
  {
   "cell_type": "markdown",
   "id": "7f8de599-0908-4ec8-aa59-6db9e4526857",
   "metadata": {},
   "source": [
    "## Crear centroides"
   ]
  },
  {
   "cell_type": "code",
   "execution_count": null,
   "id": "96663949-ef71-45d5-9b57-888097271ab7",
   "metadata": {},
   "outputs": [],
   "source": [
    "print(\"Columnas en Denue_completo:\", Denue_completo.columns.tolist())"
   ]
  },
  {
   "cell_type": "code",
   "execution_count": null,
   "id": "7b368164-bc30-4a83-8eef-38a83ee0c7a0",
   "metadata": {},
   "outputs": [],
   "source": [
    "censo_con_denue.columns"
   ]
  },
  {
   "cell_type": "code",
   "execution_count": null,
   "id": "a13cde57-5966-4f38-8195-479522b720f3",
   "metadata": {},
   "outputs": [],
   "source": [
    "print(censo_con_denue[['cve_ent']].isnull().sum())"
   ]
  },
  {
   "cell_type": "code",
   "execution_count": null,
   "id": "e93475c3-886f-4ac5-b054-c2f6c65d9983",
   "metadata": {},
   "outputs": [],
   "source": [
    "censo_con_denue.info()"
   ]
  },
  {
   "cell_type": "code",
   "execution_count": null,
   "id": "c64c6def-0f33-4662-8274-29450bd41d2a",
   "metadata": {},
   "outputs": [],
   "source": [
    "print(censo_denue.columns[censo_denue.columns.duplicated()])"
   ]
  },
  {
   "cell_type": "code",
   "execution_count": null,
   "id": "1f3468e8-8480-4c30-931d-cf0e3ae12e48",
   "metadata": {},
   "outputs": [],
   "source": [
    "# Calcular centroides de manzanas\n",
    "manzanas_gdf = (\n",
    "    censo_con_denue[['cve_ent', 'cve_mun', 'cve_loc', 'ageb', 'manzana', 'geometry']]\n",
    "    .drop_duplicates()\n",
    "    .assign(centroide=lambda df: df.geometry.centroid)\n",
    ")\n",
    "\n",
    "# Calcular distancias entre establecimientos y centroides\n",
    "denue_con_distancias = (\n",
    "    Denue_completo[['cve_ent', 'cve_mun', 'cve_loc', 'ageb', 'cod_16d', 'geometry', 'codigo_act', 'per_ocu_num']]\n",
    "    .merge(manzanas_gdf[['cve_ent', 'cve_mun', 'cve_loc', 'ageb', 'manzana', 'centroide']],\n",
    "           on=['cve_ent', 'cve_mun', 'cve_loc', 'ageb'])\n",
    "    .assign(distancia=lambda df: df.geometry.distance(df.centroide))\n",
    ")\n",
    "\n",
    "# Calcular d_mean directamente\n",
    "d_mean_por_manzana = denue_con_distancias.groupby( # distancia promedio entre los establecimientos del DENUE y el centroide de su manzana.\n",
    "    ['cve_ent', 'cve_mun', 'cve_loc', 'ageb', 'manzana']\n",
    ")['distancia'].mean().reset_index(name = 'd_mean')\n",
    "\n",
    "\n",
    "# Asegurar que d_mean esté en manzanas_gdf\n",
    "manzanas_gdf = manzanas_gdf.merge(d_mean_por_manzana, on=['cve_ent', 'cve_mun', 'cve_loc', 'ageb', 'manzana'], how='left')\n",
    "\n",
    "resultados = []\n",
    "for _, manzana in manzanas_gdf.iterrows():\n",
    "    dentro_manzana = Denue_completo[\n",
    "        Denue_completo['geometry'].within(manzana['geometry'])\n",
    "    ]\n",
    "    \n",
    "    resultados.append({\n",
    "        'cve_ent': manzana['cve_ent'],\n",
    "        'cve_mun': manzana['cve_mun'],\n",
    "        'cve_loc': manzana['cve_loc'],\n",
    "        'ageb': manzana['ageb'],\n",
    "        'manzana': manzana['manzana'],\n",
    "        'd_mean': manzana['d_mean'], \n",
    "        'total_actividades': len(dentro_manzana),\n",
    "        'actividades_diferentes': dentro_manzana['codigo_act'].nunique(), # Conteo de actividades por mza\n",
    "        'per_ocu_total': dentro_manzana['per_ocu_num'].sum(),\n",
    "        'geometry': manzana['geometry']\n",
    "    })\n",
    "\n",
    "# Confirmamos que d_mean no tiene valores nulos\n",
    "# print(analisis_final[['d_mean']].isna().sum())  \n",
    "#  Resumen\n",
    "print(\"Resumen del análisis:\")\n",
    "print(f\"- Manzanas analizadas: {len(analisis_final)}\")\n",
    "print(f\"- Distancia media promedio: {analisis_final['d_mean'].mean():.2f} metros\")\n",
    "print(f\"- Número de actividades promedio por manzana: {analisis_final['total_actividades'].mean():.2f}\")\n",
    "print(f\"- Actividades económicas únicas por manzana: {analisis_final['actividades_diferentes'].mean():.2f}\")\n"
   ]
  },
  {
   "cell_type": "code",
   "execution_count": null,
   "id": "5768866e-6799-49d5-a327-c0d02b2aae7f",
   "metadata": {},
   "outputs": [],
   "source": [
    "analisis_final.shape"
   ]
  },
  {
   "cell_type": "code",
   "execution_count": null,
   "id": "8e9074ca-af45-47f5-8686-b331af3b9bb9",
   "metadata": {},
   "outputs": [],
   "source": [
    "analisis_final.head(2)"
   ]
  },
  {
   "cell_type": "code",
   "execution_count": null,
   "id": "ea7c1f8f-7b43-4bae-91f4-d74c59dbc08f",
   "metadata": {},
   "outputs": [],
   "source": [
    "fig, ax = plt.subplots(figsize=(10, 8))\n",
    "manzanas_gdf.plot(ax=ax, color='none', edgecolor='gray', label=\"Manzanas\")\n",
    "Denue_completo.plot(ax=ax, color='red', markersize=5, label=\"Actividad\")\n",
    "manzanas_gdf['centroide'].plot(ax=ax, color='blue', markersize=10, label=\"Centroides\")\n",
    "\n",
    "plt.title(\"Centroides de Manzanas y Establecimientos DENUE\")\n",
    "plt.legend()\n",
    "plt.show()"
   ]
  },
  {
   "cell_type": "code",
   "execution_count": null,
   "id": "bd2c7fc0-7bc8-4880-8e12-3a12d49f581f",
   "metadata": {},
   "outputs": [],
   "source": [
    "plt.figure(figsize=(8, 5))\n",
    "plt.hist(d_mean_por_manzana['d_mean'], bins=30, color='orchid', alpha=0.7, edgecolor='black')\n",
    "plt.xlabel(\"Distancia Media (d_mean)\")\n",
    "plt.ylabel(\"Frecuencia\")\n",
    "plt.title(\"Distribución de Distancia Media a Centroides\")\n",
    "plt.grid()\n",
    "plt.show()"
   ]
  },
  {
   "cell_type": "markdown",
   "id": "91d935e8-1bc7-4e50-8055-16d126b7b632",
   "metadata": {},
   "source": [
    "# Spatial-kde"
   ]
  },
  {
   "cell_type": "code",
   "execution_count": null,
   "id": "cfd74ed6-2ed0-4c42-b000-77b615fd1a1c",
   "metadata": {
    "scrolled": true
   },
   "outputs": [],
   "source": [
    "!pip install spatial-kde"
   ]
  },
  {
   "cell_type": "code",
   "execution_count": null,
   "id": "59a59653-8fe7-40a5-b112-2d7967f2c0f7",
   "metadata": {},
   "outputs": [],
   "source": [
    "from typing import Optional\n",
    "from spatial_kde import spatial_kernel_density\n",
    "\n",
    "\n",
    "spatial_kernel_density(\n",
    "    points: gpd.GeoDataFrame = gdf,\n",
    "    radius: float = 1.0,\n",
    "    output_path: str = \"/output/path.tif\",\n",
    "    output_pixel_size: float = 1.0,\n",
    "    output_driver: str = \"GTiff\",\n",
    "    weight_col: Optional[str] = None,\n",
    "    scaled: bool = False,\n",
    ")\n",
    "\n",
    "    \"\"\"Calculate Kernel Density / heatmap from ``points``\n",
    "\n",
    "    .. note:: Distance calculations are planar so care should be taken with data\n",
    "              that is in geographic coordinate systems\n",
    "\n",
    "    Parameters\n",
    "    ----------\n",
    "    points : gpd.GeoDataFrame\n",
    "        Input GeoDataFrame of points to generate a KDE from\n",
    "    radius : float\n",
    "        Radius of KDE, same units as the coordinate reference system of ``points``\n",
    "        Sometimes referred to as search radius or bandwidth\n",
    "    output_path : str\n",
    "        Path to write output raster to\n",
    "    output_pixel_size : float\n",
    "        Output cell/pixel size of the created array. Same units as the coordinate\n",
    "        reference system of ``points``\n",
    "    output_driver : str\n",
    "        Output format (driver) used to create image. See also\n",
    "        https://rasterio.readthedocs.io/en/latest/api/rasterio.drivers.html\n",
    "    weight_col : Optional[str], optional\n",
    "        A column in ``points`` to weight the kernel density by, any points that\n",
    "        are NaN in this field will not contribute to the KDE.\n",
    "        If None, the all points will have uniform weight of 1.\n",
    "    scaled : bool\n",
    "        If True will output mathematically scaled values, else will output raw\n",
    "        values.\n",
    "    \"\"\""
   ]
  }
 ],
 "metadata": {
  "kernelspec": {
   "display_name": "GDS-10.0",
   "language": "python",
   "name": "gds"
  },
  "language_info": {
   "codemirror_mode": {
    "name": "ipython",
    "version": 3
   },
   "file_extension": ".py",
   "mimetype": "text/x-python",
   "name": "python",
   "nbconvert_exporter": "python",
   "pygments_lexer": "ipython3",
   "version": "3.9.18"
  }
 },
 "nbformat": 4,
 "nbformat_minor": 5
}
