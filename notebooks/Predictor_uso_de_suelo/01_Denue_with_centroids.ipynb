{
 "cells": [
  {
   "cell_type": "code",
   "execution_count": 1,
   "id": "ae8c6a41-6fee-4d82-87e2-0de82fa28433",
   "metadata": {
    "scrolled": true
   },
   "outputs": [
    {
     "name": "stdout",
     "output_type": "stream",
     "text": [
      "Requirement already satisfied: spatial_kde in /opt/conda/envs/gds/lib/python3.9/site-packages (0.1.0)\n",
      "Collecting Shapely<2.0.0,>=1.8.0 (from spatial_kde)\n",
      "  Using cached Shapely-1.8.5.post1-cp39-cp39-manylinux_2_12_x86_64.manylinux2010_x86_64.whl.metadata (43 kB)\n",
      "Collecting geopandas<0.11.0,>=0.10.2 (from spatial_kde)\n",
      "  Using cached geopandas-0.10.2-py2.py3-none-any.whl.metadata (935 bytes)\n",
      "Requirement already satisfied: numpy<2.0.0,>=1.22.1 in /opt/conda/envs/gds/lib/python3.9/site-packages (from spatial_kde) (1.26.0)\n",
      "Requirement already satisfied: pandarallel<2.0.0,>=1.5.4 in /opt/conda/envs/gds/lib/python3.9/site-packages (from spatial_kde) (1.6.5)\n",
      "Requirement already satisfied: pandas<2.0.0,>=1.4.0 in /opt/conda/envs/gds/lib/python3.9/site-packages (from spatial_kde) (1.5.3)\n",
      "Requirement already satisfied: pyproj<4.0.0,>=3.3.0 in /opt/conda/envs/gds/lib/python3.9/site-packages (from spatial_kde) (3.6.1)\n",
      "Requirement already satisfied: rasterio<2.0.0,>=1.2.10 in /opt/conda/envs/gds/lib/python3.9/site-packages (from spatial_kde) (1.3.8)\n",
      "Requirement already satisfied: scipy<2.0.0,>=1.7.3 in /opt/conda/envs/gds/lib/python3.9/site-packages (from spatial_kde) (1.13.1)\n",
      "Requirement already satisfied: typer<0.5.0,>=0.4.0 in /opt/conda/envs/gds/lib/python3.9/site-packages (from spatial_kde) (0.4.2)\n",
      "Requirement already satisfied: fiona>=1.8 in /opt/conda/envs/gds/lib/python3.9/site-packages (from geopandas<0.11.0,>=0.10.2->spatial_kde) (1.9.5)\n",
      "Requirement already satisfied: dill>=0.3.1 in /opt/conda/envs/gds/lib/python3.9/site-packages (from pandarallel<2.0.0,>=1.5.4->spatial_kde) (0.3.8)\n",
      "Requirement already satisfied: psutil in /opt/conda/envs/gds/lib/python3.9/site-packages (from pandarallel<2.0.0,>=1.5.4->spatial_kde) (5.9.5)\n",
      "Requirement already satisfied: python-dateutil>=2.8.1 in /opt/conda/envs/gds/lib/python3.9/site-packages (from pandas<2.0.0,>=1.4.0->spatial_kde) (2.8.2)\n",
      "Requirement already satisfied: pytz>=2020.1 in /opt/conda/envs/gds/lib/python3.9/site-packages (from pandas<2.0.0,>=1.4.0->spatial_kde) (2023.3.post1)\n",
      "Requirement already satisfied: certifi in /opt/conda/envs/gds/lib/python3.9/site-packages (from pyproj<4.0.0,>=3.3.0->spatial_kde) (2023.7.22)\n",
      "Requirement already satisfied: affine in /opt/conda/envs/gds/lib/python3.9/site-packages (from rasterio<2.0.0,>=1.2.10->spatial_kde) (2.4.0)\n",
      "Requirement already satisfied: attrs in /opt/conda/envs/gds/lib/python3.9/site-packages (from rasterio<2.0.0,>=1.2.10->spatial_kde) (23.1.0)\n",
      "Requirement already satisfied: click>=4.0 in /opt/conda/envs/gds/lib/python3.9/site-packages (from rasterio<2.0.0,>=1.2.10->spatial_kde) (8.1.7)\n",
      "Requirement already satisfied: cligj>=0.5 in /opt/conda/envs/gds/lib/python3.9/site-packages (from rasterio<2.0.0,>=1.2.10->spatial_kde) (0.7.2)\n",
      "Requirement already satisfied: snuggs>=1.4.1 in /opt/conda/envs/gds/lib/python3.9/site-packages (from rasterio<2.0.0,>=1.2.10->spatial_kde) (1.4.7)\n",
      "Requirement already satisfied: click-plugins in /opt/conda/envs/gds/lib/python3.9/site-packages (from rasterio<2.0.0,>=1.2.10->spatial_kde) (1.1.1)\n",
      "Requirement already satisfied: setuptools in /opt/conda/envs/gds/lib/python3.9/site-packages (from rasterio<2.0.0,>=1.2.10->spatial_kde) (68.2.2)\n",
      "Requirement already satisfied: six in /opt/conda/envs/gds/lib/python3.9/site-packages (from fiona>=1.8->geopandas<0.11.0,>=0.10.2->spatial_kde) (1.16.0)\n",
      "Requirement already satisfied: importlib-metadata in /opt/conda/envs/gds/lib/python3.9/site-packages (from fiona>=1.8->geopandas<0.11.0,>=0.10.2->spatial_kde) (6.8.0)\n",
      "Requirement already satisfied: pyparsing>=2.1.6 in /opt/conda/envs/gds/lib/python3.9/site-packages (from snuggs>=1.4.1->rasterio<2.0.0,>=1.2.10->spatial_kde) (3.1.1)\n",
      "Requirement already satisfied: zipp>=0.5 in /opt/conda/envs/gds/lib/python3.9/site-packages (from importlib-metadata->fiona>=1.8->geopandas<0.11.0,>=0.10.2->spatial_kde) (3.17.0)\n",
      "Using cached geopandas-0.10.2-py2.py3-none-any.whl (1.0 MB)\n",
      "Using cached Shapely-1.8.5.post1-cp39-cp39-manylinux_2_12_x86_64.manylinux2010_x86_64.whl (2.1 MB)\n",
      "Installing collected packages: Shapely, geopandas\n",
      "  Attempting uninstall: Shapely\n",
      "    Found existing installation: shapely 2.0.1\n",
      "    Uninstalling shapely-2.0.1:\n",
      "      Successfully uninstalled shapely-2.0.1\n",
      "  Attempting uninstall: geopandas\n",
      "    Found existing installation: geopandas 1.0.1\n",
      "    Uninstalling geopandas-1.0.1:\n",
      "      Successfully uninstalled geopandas-1.0.1\n",
      "\u001b[31mERROR: pip's dependency resolver does not currently take into account all the packages that are installed. This behaviour is the source of the following dependency conflicts.\n",
      "scikit-mobility 1.3.1 requires python-igraph<0.10.0,>=0.9.1, which is not installed.\n",
      "libpysal 4.8.0 requires shapely>=2, but you have shapely 1.8.5.post1 which is incompatible.\n",
      "momepy 0.6.0 requires shapely>=2, but you have shapely 1.8.5.post1 which is incompatible.\n",
      "osmnet 0.1.7 requires geopandas>=0.11, but you have geopandas 0.10.2 which is incompatible.\n",
      "osmnx 1.7.0 requires geopandas>=0.12, but you have geopandas 0.10.2 which is incompatible.\n",
      "osmnx 1.7.0 requires shapely>=2.0, but you have shapely 1.8.5.post1 which is incompatible.\n",
      "scikit-mobility 1.3.1 requires folium==0.12.1.post1, but you have folium 0.14.0 which is incompatible.\n",
      "scikit-mobility 1.3.1 requires geojson<3.0.0,>=2.5.0, but you have geojson 3.0.1 which is incompatible.\n",
      "scikit-mobility 1.3.1 requires statsmodels<0.14.0,>=0.13.0, but you have statsmodels 0.14.0 which is incompatible.\n",
      "tobler 0.11.2 requires geopandas>=0.13, but you have geopandas 0.10.2 which is incompatible.\n",
      "xvec 0.1.0 requires shapely>=2.0b1, but you have shapely 1.8.5.post1 which is incompatible.\u001b[0m\u001b[31m\n",
      "\u001b[0mSuccessfully installed Shapely-1.8.5.post1 geopandas-0.10.2\n"
     ]
    }
   ],
   "source": [
    "!pip install spatial_kde"
   ]
  },
  {
   "cell_type": "code",
   "execution_count": 2,
   "id": "f978767e-fc71-4df6-a7ac-b3882c064461",
   "metadata": {},
   "outputs": [
    {
     "name": "stdout",
     "output_type": "stream",
     "text": [
      "/opt/conda/envs/gds/bin/python\n"
     ]
    }
   ],
   "source": [
    "import sys\n",
    "print(sys.executable)"
   ]
  },
  {
   "cell_type": "code",
   "execution_count": 3,
   "id": "31d4f56a-9e5e-438a-89e2-6500764b389c",
   "metadata": {
    "scrolled": true
   },
   "outputs": [
    {
     "name": "stdout",
     "output_type": "stream",
     "text": [
      "Collecting shapely==2.0.1\n",
      "  Using cached shapely-2.0.1-cp39-cp39-manylinux_2_17_x86_64.manylinux2014_x86_64.whl.metadata (7.0 kB)\n",
      "Requirement already satisfied: osmnx==1.7.0 in /opt/conda/envs/gds/lib/python3.9/site-packages (1.7.0)\n",
      "Requirement already satisfied: numpy>=1.14 in /opt/conda/envs/gds/lib/python3.9/site-packages (from shapely==2.0.1) (1.26.0)\n",
      "Collecting geopandas>=0.12 (from osmnx==1.7.0)\n",
      "  Using cached geopandas-1.0.1-py3-none-any.whl.metadata (2.2 kB)\n",
      "Requirement already satisfied: networkx>=2.5 in /opt/conda/envs/gds/lib/python3.9/site-packages (from osmnx==1.7.0) (3.2)\n",
      "Requirement already satisfied: pandas>=1.1 in /opt/conda/envs/gds/lib/python3.9/site-packages (from osmnx==1.7.0) (1.5.3)\n",
      "Requirement already satisfied: requests>=2.27 in /opt/conda/envs/gds/lib/python3.9/site-packages (from osmnx==1.7.0) (2.31.0)\n",
      "Requirement already satisfied: pyogrio>=0.7.2 in /opt/conda/envs/gds/lib/python3.9/site-packages (from geopandas>=0.12->osmnx==1.7.0) (0.10.0)\n",
      "Requirement already satisfied: packaging in /opt/conda/envs/gds/lib/python3.9/site-packages (from geopandas>=0.12->osmnx==1.7.0) (23.2)\n",
      "Requirement already satisfied: pyproj>=3.3.0 in /opt/conda/envs/gds/lib/python3.9/site-packages (from geopandas>=0.12->osmnx==1.7.0) (3.6.1)\n",
      "Requirement already satisfied: python-dateutil>=2.8.1 in /opt/conda/envs/gds/lib/python3.9/site-packages (from pandas>=1.1->osmnx==1.7.0) (2.8.2)\n",
      "Requirement already satisfied: pytz>=2020.1 in /opt/conda/envs/gds/lib/python3.9/site-packages (from pandas>=1.1->osmnx==1.7.0) (2023.3.post1)\n",
      "Requirement already satisfied: charset-normalizer<4,>=2 in /opt/conda/envs/gds/lib/python3.9/site-packages (from requests>=2.27->osmnx==1.7.0) (3.3.0)\n",
      "Requirement already satisfied: idna<4,>=2.5 in /opt/conda/envs/gds/lib/python3.9/site-packages (from requests>=2.27->osmnx==1.7.0) (3.4)\n",
      "Requirement already satisfied: urllib3<3,>=1.21.1 in /opt/conda/envs/gds/lib/python3.9/site-packages (from requests>=2.27->osmnx==1.7.0) (1.26.17)\n",
      "Requirement already satisfied: certifi>=2017.4.17 in /opt/conda/envs/gds/lib/python3.9/site-packages (from requests>=2.27->osmnx==1.7.0) (2023.7.22)\n",
      "Requirement already satisfied: six>=1.5 in /opt/conda/envs/gds/lib/python3.9/site-packages (from python-dateutil>=2.8.1->pandas>=1.1->osmnx==1.7.0) (1.16.0)\n",
      "Using cached shapely-2.0.1-cp39-cp39-manylinux_2_17_x86_64.manylinux2014_x86_64.whl (2.3 MB)\n",
      "Using cached geopandas-1.0.1-py3-none-any.whl (323 kB)\n",
      "Installing collected packages: shapely, geopandas\n",
      "  Attempting uninstall: shapely\n",
      "    Found existing installation: Shapely 1.8.5.post1\n",
      "    Uninstalling Shapely-1.8.5.post1:\n",
      "      Successfully uninstalled Shapely-1.8.5.post1\n",
      "  Attempting uninstall: geopandas\n",
      "    Found existing installation: geopandas 0.10.2\n",
      "    Uninstalling geopandas-0.10.2:\n",
      "      Successfully uninstalled geopandas-0.10.2\n",
      "\u001b[31mERROR: pip's dependency resolver does not currently take into account all the packages that are installed. This behaviour is the source of the following dependency conflicts.\n",
      "scikit-mobility 1.3.1 requires python-igraph<0.10.0,>=0.9.1, which is not installed.\n",
      "scikit-mobility 1.3.1 requires folium==0.12.1.post1, but you have folium 0.14.0 which is incompatible.\n",
      "scikit-mobility 1.3.1 requires geojson<3.0.0,>=2.5.0, but you have geojson 3.0.1 which is incompatible.\n",
      "scikit-mobility 1.3.1 requires geopandas<0.11.0,>=0.10.2, but you have geopandas 1.0.1 which is incompatible.\n",
      "scikit-mobility 1.3.1 requires statsmodels<0.14.0,>=0.13.0, but you have statsmodels 0.14.0 which is incompatible.\n",
      "spatial-kde 0.1.0 requires geopandas<0.11.0,>=0.10.2, but you have geopandas 1.0.1 which is incompatible.\n",
      "spatial-kde 0.1.0 requires Shapely<2.0.0,>=1.8.0, but you have shapely 2.0.1 which is incompatible.\u001b[0m\u001b[31m\n",
      "\u001b[0mSuccessfully installed geopandas-1.0.1 shapely-2.0.1\n",
      "Note: you may need to restart the kernel to use updated packages.\n"
     ]
    }
   ],
   "source": [
    "pip install shapely==2.0.1 osmnx==1.7.0"
   ]
  },
  {
   "cell_type": "code",
   "execution_count": 1,
   "id": "a7675bb0-d6af-4f65-98e9-e02e55bca55d",
   "metadata": {},
   "outputs": [],
   "source": [
    "import geopandas as gpd\n",
    "import pandas as pd\n",
    "import numpy as np\n",
    "import seaborn as sns\n",
    "import matplotlib.pyplot as plt\n",
    "from shapely.geometry import Point, Polygon\n",
    "\n",
    "from typing import Optional\n",
    "from spatial_kde import spatial_kernel_density\n",
    "\n",
    "import warnings\n",
    "warnings.simplefilter(action='ignore', category=FutureWarning)\n",
    "\n",
    "import os\n",
    "import sys\n",
    "module_path = os.path.abspath(os.path.join('../../'))\n",
    "if module_path not in sys.path:\n",
    "    sys.path.append(module_path)\n",
    "    import aup"
   ]
  },
  {
   "cell_type": "markdown",
   "id": "6aa739a9-9911-49af-9ff3-6dddfa069a37",
   "metadata": {},
   "source": [
    "## Downloading network"
   ]
  },
  {
   "cell_type": "code",
   "execution_count": 2,
   "id": "3f8637f8-cac1-4214-a0af-cf4ff1aadab1",
   "metadata": {},
   "outputs": [],
   "source": [
    "USOS_ZONA_7 = gpd.read_file(\"Distrito_Zona7.geojson\")"
   ]
  },
  {
   "cell_type": "code",
   "execution_count": 6,
   "id": "0e7f7d1e-f39f-4c73-8917-62be69ee2f64",
   "metadata": {},
   "outputs": [
    {
     "name": "stdout",
     "output_type": "stream",
     "text": [
      "EPSG:32613\n"
     ]
    }
   ],
   "source": [
    "print(USOS_ZONA_7.crs)"
   ]
  },
  {
   "cell_type": "code",
   "execution_count": 7,
   "id": "13650ea1-142e-4620-bfff-4dc4d13194f5",
   "metadata": {},
   "outputs": [
    {
     "data": {
      "text/plain": [
       "(1, 4)"
      ]
     },
     "execution_count": 7,
     "metadata": {},
     "output_type": "execute_result"
    }
   ],
   "source": [
    "USOS_ZONA_7.shape"
   ]
  },
  {
   "cell_type": "code",
   "execution_count": 8,
   "id": "fdb4a1fc-b136-4381-bd0c-f025a0f494e8",
   "metadata": {},
   "outputs": [
    {
     "data": {
      "text/plain": [
       "<Axes: >"
      ]
     },
     "execution_count": 8,
     "metadata": {},
     "output_type": "execute_result"
    },
    {
     "data": {
      "image/png": "[encoded data removed]",
      "text/plain": [
       "<Figure size 640x480 with 1 Axes>"
      ]
     },
     "metadata": {},
     "output_type": "display_data"
    }
   ],
   "source": [
    "USOS_ZONA_7.plot()"
   ]
  },
  {
   "cell_type": "code",
   "execution_count": 7,
   "id": "c578440d-8ea4-4b57-9e2b-34dc4200500b",
   "metadata": {},
   "outputs": [],
   "source": [
    "from aup import utils\n",
    "import geopandas as gpd\n",
    "from sqlalchemy import text\n",
    "\n",
    "def gdf_from_query(query, geometry_col=\"geometry\", index_col=None):\n",
    "    \"\"\"\n",
    "    Versión mejorada de la función original que maneja correctamente las geometrías WKB\n",
    "    \n",
    "    Arguments:\n",
    "        query (str): SQL query to get the data\n",
    "        geometry_col (str): Name of the geometry column\n",
    "        index_col (str): Name of the index column\n",
    "        \n",
    "    Returns:\n",
    "        df (geoPandas.GeoDataFrame): GeoDataFrame with the table from the database.\n",
    "    \"\"\"\n",
    "    engine = utils.db_engine()\n",
    "    utils.log(\"Getting data from DB\")\n",
    "    \n",
    "    try:\n",
    "        # Usar text() para asegurar que la consulta sea ejecutable\n",
    "        df = gpd.GeoDataFrame.from_postgis(\n",
    "            text(query),  # Convertir la consulta a objeto ejecutable\n",
    "            engine,\n",
    "            geom_col=geometry_col,\n",
    "            index_col=index_col\n",
    "        )\n",
    "        utils.log(\"Data retrieved successfully\")\n",
    "        return df\n",
    "        \n",
    "    except Exception as e:\n",
    "        utils.log(f\"Error retrieving data: {str(e)}\", level=\"ERROR\")\n",
    "        raise\n",
    "    finally:\n",
    "        engine.dispose()"
   ]
  },
  {
   "cell_type": "code",
   "execution_count": 8,
   "id": "814d0330-6caa-43f8-98bf-3e65e72f705c",
   "metadata": {
    "scrolled": true
   },
   "outputs": [],
   "source": [
    "# Convertir la geometría del polígono en WKT (para usar SQL en la query)\n",
    "poly_wkt = USOS_ZONA_7.dissolve().geometry.iloc[0].wkt\n",
    "# print(poly_wkt)  # Verificar si genera un WKT válido"
   ]
  },
  {
   "cell_type": "code",
   "execution_count": 9,
   "id": "e2dec1eb-aea1-4b6a-97b6-abf1ad173bb8",
   "metadata": {},
   "outputs": [
    {
     "name": "stdout",
     "output_type": "stream",
     "text": [
      "Error ejecutando consulta: ParseException: Unknown type: '0101000020E6100000C9D4345A94DC59C03C8176A822A53440'\n"
     ]
    },
    {
     "ename": "GEOSException",
     "evalue": "ParseException: Unknown type: '0101000020E6100000C9D4345A94DC59C03C8176A822A53440'",
     "output_type": "error",
     "traceback": [
      "\u001b[0;31m---------------------------------------------------------------------------\u001b[0m",
      "\u001b[0;31mGEOSException\u001b[0m                             Traceback (most recent call last)",
      "Cell \u001b[0;32mIn[9], line 38\u001b[0m\n\u001b[1;32m     17\u001b[0m query_censo \u001b[38;5;241m=\u001b[39m \u001b[38;5;124mf\u001b[39m\u001b[38;5;124m\"\"\"\u001b[39m\n\u001b[1;32m     18\u001b[0m \u001b[38;5;124mSELECT \u001b[39m\n\u001b[1;32m     19\u001b[0m \u001b[38;5;124m  \u001b[39m\u001b[38;5;124m\"\u001b[39m\u001b[38;5;132;01m{\u001b[39;00m\u001b[38;5;28mid\u001b[39m\u001b[38;5;132;01m}\u001b[39;00m\u001b[38;5;124m\"\u001b[39m\u001b[38;5;124m, \u001b[39m\n\u001b[0;32m   (...)\u001b[0m\n\u001b[1;32m     34\u001b[0m \u001b[38;5;124m)\u001b[39m\n\u001b[1;32m     35\u001b[0m \u001b[38;5;124m\"\"\"\u001b[39m\n\u001b[1;32m     37\u001b[0m \u001b[38;5;66;03m# Ejecutar la consulta\u001b[39;00m\n\u001b[0;32m---> 38\u001b[0m Denue \u001b[38;5;241m=\u001b[39m \u001b[43mgdf_from_query_wkt\u001b[49m\u001b[43m(\u001b[49m\u001b[43mquery_censo\u001b[49m\u001b[43m,\u001b[49m\u001b[43m \u001b[49m\u001b[43mgeometry_col\u001b[49m\u001b[38;5;241;43m=\u001b[39;49m\u001b[38;5;124;43m'\u001b[39;49m\u001b[38;5;124;43mgeometry\u001b[39;49m\u001b[38;5;124;43m'\u001b[39;49m\u001b[43m)\u001b[49m\n\u001b[1;32m     40\u001b[0m \u001b[38;5;66;03m# Asegurar que el GeoDataFrame resultante tenga el CRS correcto\u001b[39;00m\n\u001b[1;32m     41\u001b[0m Denue \u001b[38;5;241m=\u001b[39m Denue\u001b[38;5;241m.\u001b[39mto_crs(\u001b[38;5;124m\"\u001b[39m\u001b[38;5;124mEPSG:32613\u001b[39m\u001b[38;5;124m\"\u001b[39m)\n",
      "Cell \u001b[0;32mIn[3], line 30\u001b[0m, in \u001b[0;36mgdf_from_query_wkt\u001b[0;34m(query, geometry_col, crs, index_col)\u001b[0m\n\u001b[1;32m     25\u001b[0m         \u001b[38;5;28;01mraise\u001b[39;00m \u001b[38;5;167;01mValueError\u001b[39;00m(\u001b[38;5;124mf\u001b[39m\u001b[38;5;124m\"\u001b[39m\u001b[38;5;124mColumna geometry \u001b[39m\u001b[38;5;124m'\u001b[39m\u001b[38;5;132;01m{\u001b[39;00mgeometry_col\u001b[38;5;132;01m}\u001b[39;00m\u001b[38;5;124m'\u001b[39m\u001b[38;5;124m no encontrada en los resultados\u001b[39m\u001b[38;5;124m\"\u001b[39m)\n\u001b[1;32m     27\u001b[0m     \u001b[38;5;66;03m# 3. Convertir a GeoDataFrame usando WKT\u001b[39;00m\n\u001b[1;32m     28\u001b[0m     gdf \u001b[38;5;241m=\u001b[39m gpd\u001b[38;5;241m.\u001b[39mGeoDataFrame(\n\u001b[1;32m     29\u001b[0m         df\u001b[38;5;241m.\u001b[39mdrop(columns\u001b[38;5;241m=\u001b[39m[geometry_col]),\n\u001b[0;32m---> 30\u001b[0m         geometry\u001b[38;5;241m=\u001b[39m\u001b[43mgpd\u001b[49m\u001b[38;5;241;43m.\u001b[39;49m\u001b[43mGeoSeries\u001b[49m\u001b[38;5;241;43m.\u001b[39;49m\u001b[43mfrom_wkt\u001b[49m\u001b[43m(\u001b[49m\u001b[43mdf\u001b[49m\u001b[43m[\u001b[49m\u001b[43mgeometry_col\u001b[49m\u001b[43m]\u001b[49m\u001b[43m)\u001b[49m,\n\u001b[1;32m     31\u001b[0m         crs\u001b[38;5;241m=\u001b[39mcrs\n\u001b[1;32m     32\u001b[0m     )\n\u001b[1;32m     34\u001b[0m     \u001b[38;5;28;01mreturn\u001b[39;00m gdf\n\u001b[1;32m     36\u001b[0m \u001b[38;5;28;01mexcept\u001b[39;00m \u001b[38;5;167;01mException\u001b[39;00m \u001b[38;5;28;01mas\u001b[39;00m e:\n",
      "File \u001b[0;32m/opt/conda/envs/gds/lib/python3.9/site-packages/geopandas/geoseries.py:477\u001b[0m, in \u001b[0;36mGeoSeries.from_wkt\u001b[0;34m(cls, data, index, crs, on_invalid, **kwargs)\u001b[0m\n\u001b[1;32m    424\u001b[0m \u001b[38;5;129m@classmethod\u001b[39m\n\u001b[1;32m    425\u001b[0m \u001b[38;5;28;01mdef\u001b[39;00m \u001b[38;5;21mfrom_wkt\u001b[39m(\n\u001b[1;32m    426\u001b[0m     \u001b[38;5;28mcls\u001b[39m, data, index\u001b[38;5;241m=\u001b[39m\u001b[38;5;28;01mNone\u001b[39;00m, crs: Optional[Any] \u001b[38;5;241m=\u001b[39m \u001b[38;5;28;01mNone\u001b[39;00m, on_invalid\u001b[38;5;241m=\u001b[39m\u001b[38;5;124m\"\u001b[39m\u001b[38;5;124mraise\u001b[39m\u001b[38;5;124m\"\u001b[39m, \u001b[38;5;241m*\u001b[39m\u001b[38;5;241m*\u001b[39mkwargs\n\u001b[1;32m    427\u001b[0m ) \u001b[38;5;241m-\u001b[39m\u001b[38;5;241m>\u001b[39m GeoSeries:\n\u001b[1;32m    428\u001b[0m \u001b[38;5;250m    \u001b[39m\u001b[38;5;124;03m\"\"\"\u001b[39;00m\n\u001b[1;32m    429\u001b[0m \u001b[38;5;124;03m    Alternate constructor to create a ``GeoSeries``\u001b[39;00m\n\u001b[1;32m    430\u001b[0m \u001b[38;5;124;03m    from a list or array of WKT objects\u001b[39;00m\n\u001b[0;32m   (...)\u001b[0m\n\u001b[1;32m    475\u001b[0m \u001b[38;5;124;03m    dtype: geometry\u001b[39;00m\n\u001b[1;32m    476\u001b[0m \u001b[38;5;124;03m    \"\"\"\u001b[39;00m\n\u001b[0;32m--> 477\u001b[0m     \u001b[38;5;28;01mreturn\u001b[39;00m \u001b[38;5;28;43mcls\u001b[39;49m\u001b[38;5;241;43m.\u001b[39;49m\u001b[43m_from_wkb_or_wkt\u001b[49m\u001b[43m(\u001b[49m\n\u001b[1;32m    478\u001b[0m \u001b[43m        \u001b[49m\u001b[43mfrom_wkt\u001b[49m\u001b[43m,\u001b[49m\u001b[43m \u001b[49m\u001b[43mdata\u001b[49m\u001b[43m,\u001b[49m\u001b[43m \u001b[49m\u001b[43mindex\u001b[49m\u001b[38;5;241;43m=\u001b[39;49m\u001b[43mindex\u001b[49m\u001b[43m,\u001b[49m\u001b[43m \u001b[49m\u001b[43mcrs\u001b[49m\u001b[38;5;241;43m=\u001b[39;49m\u001b[43mcrs\u001b[49m\u001b[43m,\u001b[49m\u001b[43m \u001b[49m\u001b[43mon_invalid\u001b[49m\u001b[38;5;241;43m=\u001b[39;49m\u001b[43mon_invalid\u001b[49m\u001b[43m,\u001b[49m\u001b[43m \u001b[49m\u001b[38;5;241;43m*\u001b[39;49m\u001b[38;5;241;43m*\u001b[39;49m\u001b[43mkwargs\u001b[49m\n\u001b[1;32m    479\u001b[0m \u001b[43m    \u001b[49m\u001b[43m)\u001b[49m\n",
      "File \u001b[0;32m/opt/conda/envs/gds/lib/python3.9/site-packages/geopandas/geoseries.py:554\u001b[0m, in \u001b[0;36mGeoSeries._from_wkb_or_wkt\u001b[0;34m(cls, from_wkb_or_wkt_function, data, index, crs, on_invalid, **kwargs)\u001b[0m\n\u001b[1;32m    551\u001b[0m         index \u001b[38;5;241m=\u001b[39m data\u001b[38;5;241m.\u001b[39mindex\n\u001b[1;32m    552\u001b[0m     data \u001b[38;5;241m=\u001b[39m data\u001b[38;5;241m.\u001b[39mvalues\n\u001b[1;32m    553\u001b[0m \u001b[38;5;28;01mreturn\u001b[39;00m \u001b[38;5;28mcls\u001b[39m(\n\u001b[0;32m--> 554\u001b[0m     \u001b[43mfrom_wkb_or_wkt_function\u001b[49m\u001b[43m(\u001b[49m\u001b[43mdata\u001b[49m\u001b[43m,\u001b[49m\u001b[43m \u001b[49m\u001b[43mcrs\u001b[49m\u001b[38;5;241;43m=\u001b[39;49m\u001b[43mcrs\u001b[49m\u001b[43m,\u001b[49m\u001b[43m \u001b[49m\u001b[43mon_invalid\u001b[49m\u001b[38;5;241;43m=\u001b[39;49m\u001b[43mon_invalid\u001b[49m\u001b[43m)\u001b[49m,\n\u001b[1;32m    555\u001b[0m     index\u001b[38;5;241m=\u001b[39mindex,\n\u001b[1;32m    556\u001b[0m     \u001b[38;5;241m*\u001b[39m\u001b[38;5;241m*\u001b[39mkwargs,\n\u001b[1;32m    557\u001b[0m )\n",
      "File \u001b[0;32m/opt/conda/envs/gds/lib/python3.9/site-packages/geopandas/array.py:246\u001b[0m, in \u001b[0;36mfrom_wkt\u001b[0;34m(data, crs, on_invalid)\u001b[0m\n\u001b[1;32m    227\u001b[0m \u001b[38;5;28;01mdef\u001b[39;00m \u001b[38;5;21mfrom_wkt\u001b[39m(data, crs\u001b[38;5;241m=\u001b[39m\u001b[38;5;28;01mNone\u001b[39;00m, on_invalid\u001b[38;5;241m=\u001b[39m\u001b[38;5;124m\"\u001b[39m\u001b[38;5;124mraise\u001b[39m\u001b[38;5;124m\"\u001b[39m):\n\u001b[1;32m    228\u001b[0m \u001b[38;5;250m    \u001b[39m\u001b[38;5;124;03m\"\"\"\u001b[39;00m\n\u001b[1;32m    229\u001b[0m \u001b[38;5;124;03m    Convert a list or array of WKT objects to a GeometryArray.\u001b[39;00m\n\u001b[1;32m    230\u001b[0m \n\u001b[0;32m   (...)\u001b[0m\n\u001b[1;32m    244\u001b[0m \n\u001b[1;32m    245\u001b[0m \u001b[38;5;124;03m    \"\"\"\u001b[39;00m\n\u001b[0;32m--> 246\u001b[0m     \u001b[38;5;28;01mreturn\u001b[39;00m GeometryArray(\u001b[43mshapely\u001b[49m\u001b[38;5;241;43m.\u001b[39;49m\u001b[43mfrom_wkt\u001b[49m\u001b[43m(\u001b[49m\u001b[43mdata\u001b[49m\u001b[43m,\u001b[49m\u001b[43m \u001b[49m\u001b[43mon_invalid\u001b[49m\u001b[38;5;241;43m=\u001b[39;49m\u001b[43mon_invalid\u001b[49m\u001b[43m)\u001b[49m, crs\u001b[38;5;241m=\u001b[39mcrs)\n",
      "File \u001b[0;32m/opt/conda/envs/gds/lib/python3.9/site-packages/shapely/io.py:286\u001b[0m, in \u001b[0;36mfrom_wkt\u001b[0;34m(geometry, on_invalid, **kwargs)\u001b[0m\n\u001b[1;32m    282\u001b[0m     \u001b[38;5;28;01mraise\u001b[39;00m \u001b[38;5;167;01mTypeError\u001b[39;00m(\u001b[38;5;124m\"\u001b[39m\u001b[38;5;124mon_invalid only accepts scalar values\u001b[39m\u001b[38;5;124m\"\u001b[39m)\n\u001b[1;32m    284\u001b[0m invalid_handler \u001b[38;5;241m=\u001b[39m np\u001b[38;5;241m.\u001b[39muint8(DecodingErrorOptions\u001b[38;5;241m.\u001b[39mget_value(on_invalid))\n\u001b[0;32m--> 286\u001b[0m \u001b[38;5;28;01mreturn\u001b[39;00m \u001b[43mlib\u001b[49m\u001b[38;5;241;43m.\u001b[39;49m\u001b[43mfrom_wkt\u001b[49m\u001b[43m(\u001b[49m\u001b[43mgeometry\u001b[49m\u001b[43m,\u001b[49m\u001b[43m \u001b[49m\u001b[43minvalid_handler\u001b[49m\u001b[43m,\u001b[49m\u001b[43m \u001b[49m\u001b[38;5;241;43m*\u001b[39;49m\u001b[38;5;241;43m*\u001b[39;49m\u001b[43mkwargs\u001b[49m\u001b[43m)\u001b[49m\n",
      "\u001b[0;31mGEOSException\u001b[0m: ParseException: Unknown type: '0101000020E6100000C9D4345A94DC59C03C8176A822A53440'"
     ]
    }
   ],
   "source": [
    "schema = \"denue\"\n",
    "table = \"denue_2022\"\n",
    "\n",
    "manzana = \"manzana\"\n",
    "entidad = \"cve_ent\"\n",
    "localidad = \"cve_loc\"\n",
    "municipio = \"cve_mun\"\n",
    "id = \"id\"\n",
    "latitud = \"latitud\"\n",
    "longitud = \"longitud\"\n",
    "codigo_act = \"codigo_act\"\n",
    "ageb = \"ageb\"\n",
    "per_ocu = \"per_ocu\"\n",
    "\n",
    "\n",
    "# Crear la consulta manteniendo el mismo CRS\n",
    "query_censo = f\"\"\"\n",
    "SELECT \n",
    "  \"{id}\", \n",
    "  \"{entidad}\",\n",
    "  \"{localidad}\",\n",
    "  \"{manzana}\",\n",
    "  \"{municipio}\",\n",
    "  \"{latitud}\",\n",
    "  \"{longitud}\",\n",
    "  \"{codigo_act}\",\n",
    "  \"{ageb}\",\n",
    "  \"{per_ocu}\",\n",
    "  \"geometry\"\n",
    "FROM {schema}.{table}\n",
    "WHERE ST_Intersects(\n",
    "  ST_Transform(geometry, 32613),  -- Transformar geometría de DENUE a 32613 \n",
    "  ST_GeomFromText('{poly_wkt}', 32613)  -- Usar el polígono en 32613\n",
    ")\n",
    "\"\"\"\n",
    "\n",
    "# Ejecutar la consulta\n",
    "Denue = gdf_from_query_wkt(query_censo, geometry_col='geometry')\n",
    "\n",
    "# Asegurar que el GeoDataFrame resultante tenga el CRS correcto\n",
    "Denue = Denue.to_crs(\"EPSG:32613\")\n",
    "\n",
    "\n",
    "print(Denue.shape)\n",
    "Denue.head()"
   ]
  },
  {
   "cell_type": "code",
   "execution_count": null,
   "id": "792f6d88-b77a-455b-b467-32c476aed78b",
   "metadata": {},
   "outputs": [],
   "source": [
    "print(Denue.is_valid.sum())  # Geometrías válidas\n",
    "print(Denue.geometry.is_empty.sum())  # Geometrías vacías"
   ]
  },
  {
   "cell_type": "code",
   "execution_count": null,
   "id": "04df8bb1-74c3-4a52-8302-c2140fd9bad7",
   "metadata": {},
   "outputs": [],
   "source": [
    "# Verificar coordenadas extremas\n",
    "print(\"\\nRango de coordenadas USOS_ZONA_7:\")\n",
    "print(USOS_ZONA_7.total_bounds)\n",
    "print(\"\\nRango de coordenadas Denue:\")\n",
    "print(Denue.total_bounds)"
   ]
  },
  {
   "cell_type": "markdown",
   "id": "aef70eb9-ec59-4093-b34f-bc033d26bdce",
   "metadata": {},
   "source": [
    "## Clasificar las distintas actividades económicas con base en su terminación en \"codigo_act\" basándonos en el Directorio Estadístico Nacional de Unidades Económicas"
   ]
  },
  {
   "cell_type": "code",
   "execution_count": null,
   "id": "87b05149-1bb9-4a0a-a93c-3d56dd74fd00",
   "metadata": {},
   "outputs": [],
   "source": [
    "# Función para clasificar según la terminación de codigo_act\n",
    "def asignar_tipo(codigo):\n",
    "    if pd.isna(codigo):  # Si está vacío\n",
    "        return 'Sin código'\n",
    "    \n",
    "    # Asegurar que sea string para evaluar el código\n",
    "    codigo_str = str(codigo).strip()\n",
    "\n",
    "    if not codigo_str.isdigit():\n",
    "        return 'Código inválido'\n",
    "    \n",
    "    # Define tus conjuntos de códigos\n",
    "    industria = {'11', '21', '23', '31', '32', '33', '55'}\n",
    "    \n",
    "    servicios = {'22', '48', '49', '52', '53', '54', '56', '72',\n",
    "                 '81'}\n",
    "    \n",
    "    comercio = {'43', '46'}\n",
    "    \n",
    "    cultural_recreativo = {'51','71'}\n",
    "    \n",
    "    educacion = {'61'}\n",
    "    \n",
    "    salud = {'62'}\n",
    "\n",
    "    gobierno = {'93'}\n",
    "    \n",
    "    # Verificar si el código está en alguno de los conjuntos\n",
    "    if codigo_str[:2] in industria:\n",
    "        return 'Industria'\n",
    "    elif codigo_str[:2] in servicios:\n",
    "        return 'Servicios'\n",
    "    elif codigo_str[:2] in comercio:\n",
    "        return 'Comercio'\n",
    "    elif codigo_str[:2] in cultural_recreativo:\n",
    "        return 'Cultural/Recreativo'\n",
    "    elif codigo_str[:2] in educacion:\n",
    "        return 'Educación'\n",
    "    elif codigo_str[:2] in salud:\n",
    "        return 'Salud'\n",
    "    elif codigo_str[:2] in gobierno:\n",
    "        return 'Gobierno'\n",
    "    else:\n",
    "        return 'Desconocido'\n",
    "\n",
    "# Aplica la función al DataFrame\n",
    "Denue['tipo_act'] = Denue['codigo_act'].apply(asignar_tipo)"
   ]
  },
  {
   "cell_type": "code",
   "execution_count": null,
   "id": "20ee14e3-923d-44f1-91b2-05d69b4688b4",
   "metadata": {},
   "outputs": [],
   "source": [
    "Denue.head(3)"
   ]
  },
  {
   "cell_type": "code",
   "execution_count": null,
   "id": "90ceaa81-fc13-4b4a-a290-15ccd56e7a59",
   "metadata": {},
   "outputs": [],
   "source": [
    "Denue[\"tipo_act\"].unique()"
   ]
  },
  {
   "cell_type": "code",
   "execution_count": null,
   "id": "31a12665-8bea-4d5a-9aad-7b813d89fb3d",
   "metadata": {},
   "outputs": [],
   "source": [
    "desconocidos = Denue[Denue['tipo_act'] == 'Desconocido']\n",
    "desconocidos"
   ]
  },
  {
   "cell_type": "markdown",
   "id": "051a8c30-de10-447e-a387-e9b547a5c579",
   "metadata": {},
   "source": [
    "### Relación espacio -> espacio"
   ]
  },
  {
   "cell_type": "markdown",
   "id": "8ca87dc8-fd63-4847-a620-35f005a31095",
   "metadata": {},
   "source": [
    "#### Mostrar de manera completa las relaciones y jerarquías entre los distintos espacios"
   ]
  },
  {
   "cell_type": "code",
   "execution_count": null,
   "id": "3144e319-3d49-47d1-81c4-286f7443a35f",
   "metadata": {},
   "outputs": [],
   "source": [
    "jerarquia_completa = Denue[['cve_ent', 'cve_mun', 'cve_loc', 'ageb', 'manzana']].sort_values(by=['cve_ent', 'cve_mun', 'cve_loc', 'ageb', 'manzana'])\n",
    "jerarquia_completa.head(10)"
   ]
  },
  {
   "cell_type": "code",
   "execution_count": null,
   "id": "64afc339-82c8-4b86-b905-24f3bed8c6cc",
   "metadata": {},
   "outputs": [],
   "source": [
    "jerarquia_completa.shape"
   ]
  },
  {
   "cell_type": "code",
   "execution_count": null,
   "id": "c8502344-e2f4-49f3-bde1-46d4c6f8ba6b",
   "metadata": {},
   "outputs": [],
   "source": [
    "conteo_manzanas = jerarquia_completa.groupby(['cve_ent', 'cve_mun', 'cve_loc', 'ageb', 'manzana']) \\\n",
    "    .size().reset_index(name='cont_manzanas') #  Contar cuántas manzanas hay por agrupación y convertimos a string"
   ]
  },
  {
   "cell_type": "code",
   "execution_count": null,
   "id": "1c343a1f-c119-4fa4-b3b6-084806e4c220",
   "metadata": {},
   "outputs": [],
   "source": [
    "conteo_manzanas.head(5)"
   ]
  },
  {
   "cell_type": "code",
   "execution_count": null,
   "id": "8298bf2f-a8e7-44f3-a236-f075b9b133c1",
   "metadata": {},
   "outputs": [],
   "source": [
    "conteo_manzanas[\"cont_manzanas\"].unique()"
   ]
  },
  {
   "cell_type": "code",
   "execution_count": null,
   "id": "663f4898-25ad-46c6-8a62-ceb621ca4f95",
   "metadata": {},
   "outputs": [],
   "source": [
    "jerarquia_completa['cod_16d'] = (\n",
    "    jerarquia_completa['cve_ent'].astype(str).str[:2] +\n",
    "    jerarquia_completa['cve_mun'].astype(str).str[:3] +\n",
    "    jerarquia_completa['cve_loc'].astype(str).str[:4] +\n",
    "    jerarquia_completa['ageb'].astype(str).str[:4] +\n",
    "    jerarquia_completa['manzana'].astype(str).str[:3]\n",
    ")"
   ]
  },
  {
   "cell_type": "code",
   "execution_count": null,
   "id": "bbe3fcdd-0a1a-4b5b-be12-b7ce8afbe552",
   "metadata": {},
   "outputs": [],
   "source": [
    "jerarquia_completa"
   ]
  },
  {
   "cell_type": "code",
   "execution_count": null,
   "id": "ee319900-c25d-4834-a712-11e1ab45380a",
   "metadata": {},
   "outputs": [],
   "source": [
    "Denue_completo = Denue.merge(\n",
    "    jerarquia_completa)\n",
    "\n",
    "Denue_completo.head(3)"
   ]
  },
  {
   "cell_type": "code",
   "execution_count": null,
   "id": "ea53210e-c88d-44be-9398-faebae28a40f",
   "metadata": {},
   "outputs": [],
   "source": [
    "Denue_completo.shape"
   ]
  },
  {
   "cell_type": "markdown",
   "id": "bef2a81c-d788-4748-9a4d-aa9965c50cf7",
   "metadata": {},
   "source": [
    "## Importar las manzanas de censo"
   ]
  },
  {
   "cell_type": "code",
   "execution_count": null,
   "id": "6d1b26a1-0db8-4b58-95d2-977474405d13",
   "metadata": {},
   "outputs": [],
   "source": [
    "schema = \"sociodemografico\"\n",
    "table = \"censo_inegi_20_mza\"\n",
    "\n",
    "entidad = \"cve_ent\"\n",
    "localidad = \"cve_loc\"\n",
    "municipio = \"cve_mun\"\n",
    "manzana = \"cvegeo_mza\"\n",
    "ageb = \"cve_ageb\"\n",
    "ambito = \"ambito\"\n",
    "tipomza = \"tipomza\"\n",
    "pobtot = \"pobtot\"\n",
    "\n",
    "query_censo = f\"\"\"\n",
    "SELECT \n",
    "\"{entidad}\",\n",
    "\"{manzana}\",\n",
    "\"{localidad}\",\n",
    "\"{municipio}\",\n",
    "\"{ageb}\",\n",
    "\"{ambito}\",\n",
    "\"{tipomza}\",\n",
    "\"{pobtot}\",\n",
    "\"geometry\"\n",
    "FROM {schema}.{table}\n",
    "WHERE ST_Intersects(\n",
    "  ST_Transform(geometry, 32613),  -- Transformar geometría de DENUE a 32613 \n",
    "  ST_GeomFromText('{poly_wkt}', 32613)  -- Usar el polígono en 32613\n",
    ")\n",
    "\"\"\"\n",
    "\n",
    "# Ejecutar la consulta y cargar los datos en un GeoDataFrame\n",
    "censo_denue = aup.gdf_from_query(query_censo, geometry_col='geometry')\n",
    "censo_denue = censo_denue.to_crs(\"EPSG:32613\")\n",
    "\n",
    "print(censo_denue.shape)\n",
    "censo_denue.head()"
   ]
  },
  {
   "cell_type": "markdown",
   "id": "93815436-2873-4871-a121-327b11d13351",
   "metadata": {},
   "source": [
    "### Contabilizar cuántas personas hay ejerciendo cada actividad económica"
   ]
  },
  {
   "cell_type": "code",
   "execution_count": null,
   "id": "3c79b505-ec13-46f8-989a-bbfd1bd077aa",
   "metadata": {},
   "outputs": [],
   "source": [
    "def number_of_jobs(per_ocu):\n",
    "    jobs_dict = {'0 a 5 personas':3,\n",
    "                '6 a 10 personas':8,\n",
    "                '11 a 30 personas':20,\n",
    "                '31 a 50 personas':40,\n",
    "                '51 a 100 personas':75,\n",
    "                '101 a 250 personas':175,\n",
    "                '251 y más personas':325}\n",
    "    per_ocu_num = jobs_dict[per_ocu]\n",
    "    return per_ocu_num"
   ]
  },
  {
   "cell_type": "code",
   "execution_count": null,
   "id": "8b0dd67e-dac3-48b3-8e86-f64ed629a56f",
   "metadata": {},
   "outputs": [],
   "source": [
    "Denue_completo['per_ocu_num'] = Denue_completo.per_ocu.apply(lambda per_ocu: number_of_jobs(per_ocu))\n",
    "Denue_completo.head(2)"
   ]
  },
  {
   "cell_type": "markdown",
   "id": "0e8e4be2-89ad-482a-8441-9a724c629662",
   "metadata": {},
   "source": [
    "### Hacer el match entre las manzanas del denue y las manzanas del censo"
   ]
  },
  {
   "cell_type": "code",
   "execution_count": null,
   "id": "c52e5012-1ac3-445e-84ea-a54e1b54a748",
   "metadata": {},
   "outputs": [],
   "source": [
    "censo_denue.rename(columns = {\"cve_ageb\": \"ageb\"} , inplace = True)\n",
    "censo_denue.rename(columns = {\"cvegeo_mza\": \"manzana\"} , inplace = True)"
   ]
  },
  {
   "cell_type": "code",
   "execution_count": null,
   "id": "6042a327-d2de-4380-ab56-1d11be18d87f",
   "metadata": {},
   "outputs": [],
   "source": [
    "# Claves únicas del DENUE (para verificar coincidencias)\n",
    "claves_denue = Denue_completo[\n",
    "    ['cve_ent', 'cve_mun', 'cve_loc', 'ageb', 'manzana']]"
   ]
  },
  {
   "cell_type": "code",
   "execution_count": null,
   "id": "37b43693-bf6e-4ab2-a2f0-e43efdd25138",
   "metadata": {},
   "outputs": [],
   "source": [
    "# Añadir columna binaria (1 si existe en DENUE, 0 si no)\n",
    "censo_denue['tiene_denue'] = censo_denue.apply(\n",
    "    lambda row: 1 if (\n",
    "        (claves_denue['cod_16d'] == row['manzana'])\n",
    "    ).any() else 0,\n",
    "    axis=1\n",
    ")"
   ]
  },
  {
   "cell_type": "code",
   "execution_count": null,
   "id": "3ca02e85-0957-4b7f-8926-5ecd6f07f96c",
   "metadata": {},
   "outputs": [],
   "source": [
    "censo_denue.head(2)"
   ]
  },
  {
   "cell_type": "code",
   "execution_count": null,
   "id": "5c8f095d-4c50-4b30-b0c7-2c9d624c8bef",
   "metadata": {},
   "outputs": [],
   "source": [
    "censo_sin_denue = censo_denue[censo_denue['tiene_denue'] == 0]\n",
    "print(censo_sin_denue.shape)\n",
    "censo_sin_denue.head(2)"
   ]
  },
  {
   "cell_type": "markdown",
   "id": "7f8de599-0908-4ec8-aa59-6db9e4526857",
   "metadata": {},
   "source": [
    "## Crear centroides"
   ]
  },
  {
   "cell_type": "code",
   "execution_count": null,
   "id": "96663949-ef71-45d5-9b57-888097271ab7",
   "metadata": {},
   "outputs": [],
   "source": [
    "print(\"Columnas en Denue_completo:\", Denue_completo.columns.tolist())\n",
    "print(\"CRS de los datos:\", manzanas_gdf.crs == Denue_completo.crs)"
   ]
  },
  {
   "cell_type": "code",
   "execution_count": null,
   "id": "fcfb6798-7b46-4e4e-a172-786e32121c7d",
   "metadata": {},
   "outputs": [],
   "source": [
    "# 1. Crear GeoDataFrame de manzanas con centroides únicos\n",
    "manzanas_gdf = censo_con_denue[\n",
    "    ['cve_ent', 'cve_mun', 'cve_loc', 'ageb', 'manzana', 'geometry']\n",
    "].drop_duplicates()\n",
    "manzanas_gdf['centroide'] = manzanas_gdf['geometry'].centroid\n",
    "\n",
    "# 2. Calcular distancia entre cada establecimiento y su manzana correspondiente\n",
    "denue_con_distancias = pd.merge(\n",
    "    Denue_completo[['cve_ent', 'cve_mun', 'cve_loc', 'ageb', 'manzana', 'geometry', 'codigo_act', 'per_ocu_num']],\n",
    "    manzanas_gdf[['cve_ent', 'cve_mun', 'cve_loc', 'ageb', 'manzana', 'centroide']],\n",
    "    on=['cve_ent', 'cve_mun', 'cve_loc', 'ageb', 'manzana'],\n",
    "    how='inner'\n",
    ")\n",
    "\n",
    "# 3. Calcular la distancia de cada punto al centroide de su manzana\n",
    "denue_con_distancias['distancia'] = denue_con_distancias['geometry'].distance(denue_con_distancias['centroide'])\n",
    "\n",
    "# 4. Calcular d_mean por manzana\n",
    "d_mean_por_manzana = denue_con_distancias.groupby(\n",
    "    ['cve_ent', 'cve_mun', 'cve_loc', 'ageb', 'manzana']\n",
    ")['distancia'].mean().reset_index(name='d_mean')\n",
    "\n",
    "# 5. Agregar d_mean a manzanas_gdf\n",
    "manzanas_gdf = manzanas_gdf.merge(d_mean_por_manzana, on=['cve_ent', 'cve_mun', 'cve_loc', 'ageb', 'manzana'], how='left')\n",
    "\n",
    "# 6. Análisis final: por manzana, usando intersección espacial\n",
    "resultados = []\n",
    "for _, manzana in manzanas_gdf.iterrows():\n",
    "    establecimientos = Denue_completo[\n",
    "        Denue_completo['geometry'].within(manzana['geometry'])\n",
    "    ]\n",
    "    \n",
    "    resultados.append({\n",
    "        'cve_ent': manzana['cve_ent'],\n",
    "        'cve_mun': manzana['cve_mun'],\n",
    "        'cve_loc': manzana['cve_loc'],\n",
    "        'ageb': manzana['ageb'],\n",
    "        'manzana': manzana['manzana'],\n",
    "        'd_mean': manzana['d_mean'],\n",
    "        'total_establecimientos': len(establecimientos),\n",
    "        'actividades_diferentes': establecimientos['codigo_act'].nunique(),\n",
    "        'per_ocu_total': establecimientos['per_ocu_num'].sum(),\n",
    "        'geometry': manzana['geometry']\n",
    "    })\n",
    "\n",
    "# 7. Crear GeoDataFrame final\n",
    "analisis_final = gpd.GeoDataFrame(resultados, geometry='geometry', crs=manzanas_gdf.crs)\n",
    "\n",
    "# 8. Estadísticas generales\n",
    "print(\"\\nResumen de análisis:\")\n",
    "print(f\"- Total de manzanas analizadas: {len(analisis_final)}\")\n",
    "print(f\"- Promedio d_mean: {analisis_final['d_mean'].mean():.2f} m\")\n",
    "print(f\"- Establecimientos promedio por manzana: {analisis_final['total_establecimientos'].mean():.2f}\")\n",
    "print(f\"- Actividades económicas promedio por manzana: {analisis_final['actividades_diferentes'].mean():.2f}\")\n",
    "print(f\"- Personal ocupado promedio por manzana: {analisis_final['per_ocu_total'].mean():.2f}\")"
   ]
  },
  {
   "cell_type": "markdown",
   "id": "6ae96528-1948-411c-91ac-041e5797ed8b",
   "metadata": {},
   "source": [
    "## Spatial-kde"
   ]
  },
  {
   "cell_type": "code",
   "execution_count": null,
   "id": "7fef48ad-7ceb-4a41-b138-423a3a992e75",
   "metadata": {},
   "outputs": [],
   "source": [
    "manzana_prueba = manzanas_gdf.iloc[0]\n",
    "\n",
    "# Filtrar los puntos del DENUE que caen dentro de esa manzana\n",
    "denue_en_manzana = Denue_completo[\n",
    "    Denue_completo.within(manzana_prueba['geometry'])\n",
    "].copy()\n",
    "\n",
    "# Asegurar que el CRS sea proyectado (no en grados, tipo EPSG:4326)\n",
    "if denue_en_manzana.crs.is_geographic:\n",
    "    denue_en_manzana = denue_en_manzana.to_crs(epsg=32613)\n",
    "    manzana_prueba = gpd.GeoSeries([manzana_prueba['geometry']], crs=manzana_prueba.geometry.crs).to_crs(epsg=32614)\n",
    "\n",
    "# Ejecutar el KDE solo sobre esos puntos\n",
    "spatial_kernel_density(\n",
    "    points=denue_en_manzana,\n",
    "    radius= (analisis_final['d_mean']/2),\n",
    "    output_path=os.path.join(output_dir, \"kde_manzana_prueba.tif\"),\n",
    "    output_pixel_size=1.0,\n",
    "    output_driver=\"GTiff\",\n",
    "    weight_col=\"per_ocu_num\", # Número de personas por ocupación\n",
    "    scaled=True\n",
    ")"
   ]
  }
 ],
 "metadata": {
  "kernelspec": {
   "display_name": "GDS-10.0",
   "language": "python",
   "name": "gds"
  },
  "language_info": {
   "codemirror_mode": {
    "name": "ipython",
    "version": 3
   },
   "file_extension": ".py",
   "mimetype": "text/x-python",
   "name": "python",
   "nbconvert_exporter": "python",
   "pygments_lexer": "ipython3",
   "version": "3.9.18"
  }
 },
 "nbformat": 4,
 "nbformat_minor": 5
}
