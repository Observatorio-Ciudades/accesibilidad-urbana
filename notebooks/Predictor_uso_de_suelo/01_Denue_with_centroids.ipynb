{
 "cells": [
  {
   "cell_type": "code",
   "execution_count": 1,
<<<<<<< HEAD
   "id": "ae8c6a41-6fee-4d82-87e2-0de82fa28433",
   "metadata": {},
   "outputs": [
    {
     "name": "stdout",
     "output_type": "stream",
     "text": [
      "\u001b[33mWARNING: Skipping spatial_kde as it is not installed.\u001b[0m\u001b[33m\n",
      "\u001b[0m"
     ]
    }
   ],
   "source": [
    "!pip uninstall spatial_kde -y"
   ]
  },
  {
   "cell_type": "code",
   "execution_count": 2,
   "id": "f978767e-fc71-4df6-a7ac-b3882c064461",
   "metadata": {},
   "outputs": [
    {
     "name": "stdout",
     "output_type": "stream",
     "text": [
      "/opt/conda/envs/gds/bin/python\n"
     ]
    }
   ],
   "source": [
    "import sys\n",
    "print(sys.executable)"
   ]
  },
  {
   "cell_type": "code",
   "execution_count": 4,
   "id": "6cc3d7bb-fcaf-4672-b739-80d67e6f55d3",
   "metadata": {},
   "outputs": [
    {
     "name": "stdout",
     "output_type": "stream",
     "text": [
      "Collecting shapely==1.7.1\n",
      "  Using cached Shapely-1.7.1-1-cp39-cp39-manylinux1_x86_64.whl.metadata (34 kB)\n",
      "Using cached Shapely-1.7.1-1-cp39-cp39-manylinux1_x86_64.whl (1.0 MB)\n",
      "Installing collected packages: shapely\n",
      "  Attempting uninstall: shapely\n",
      "    Found existing installation: Shapely 1.7.1\n",
      "    Uninstalling Shapely-1.7.1:\n",
      "      Successfully uninstalled Shapely-1.7.1\n",
      "\u001b[31mERROR: pip's dependency resolver does not currently take into account all the packages that are installed. This behaviour is the source of the following dependency conflicts.\n",
      "scikit-mobility 1.3.1 requires python-igraph<0.10.0,>=0.9.1, which is not installed.\n",
      "libpysal 4.8.0 requires shapely>=2, but you have shapely 1.7.1 which is incompatible.\n",
      "momepy 0.6.0 requires shapely>=2, but you have shapely 1.7.1 which is incompatible.\n",
      "osmnet 0.1.7 requires geopandas>=0.11, but you have geopandas 0.10.2 which is incompatible.\n",
      "osmnet 0.1.7 requires shapely>=1.8, but you have shapely 1.7.1 which is incompatible.\n",
      "osmnx 1.7.0 requires geopandas>=0.12, but you have geopandas 0.10.2 which is incompatible.\n",
      "osmnx 1.7.0 requires shapely>=2.0, but you have shapely 1.7.1 which is incompatible.\n",
      "scikit-mobility 1.3.1 requires folium==0.12.1.post1, but you have folium 0.14.0 which is incompatible.\n",
      "scikit-mobility 1.3.1 requires geojson<3.0.0,>=2.5.0, but you have geojson 3.0.1 which is incompatible.\n",
      "scikit-mobility 1.3.1 requires statsmodels<0.14.0,>=0.13.0, but you have statsmodels 0.14.0 which is incompatible.\n",
      "spatial-kde 0.1.0 requires Shapely<2.0.0,>=1.8.0, but you have shapely 1.7.1 which is incompatible.\n",
      "tobler 0.11.2 requires geopandas>=0.13, but you have geopandas 0.10.2 which is incompatible.\n",
      "xvec 0.1.0 requires shapely>=2.0b1, but you have shapely 1.7.1 which is incompatible.\u001b[0m\u001b[31m\n",
      "\u001b[0mSuccessfully installed shapely-1.7.1\n"
     ]
    }
   ],
   "source": [
    "!{sys.executable} -m pip install shapely==1.7.1 --force-reinstall\n"
   ]
  },
  {
   "cell_type": "code",
   "execution_count": 4,
   "id": "a7675bb0-d6af-4f65-98e9-e02e55bca55d",
   "metadata": {},
   "outputs": [
    {
     "ename": "ImportError",
     "evalue": "cannot import name 'GEOSException' from 'shapely.errors' (/opt/conda/envs/gds/lib/python3.9/site-packages/shapely/errors.py)",
     "output_type": "error",
     "traceback": [
      "\u001b[0;31m---------------------------------------------------------------------------\u001b[0m",
      "\u001b[0;31mImportError\u001b[0m                               Traceback (most recent call last)",
      "Cell \u001b[0;32mIn[4], line 19\u001b[0m\n\u001b[1;32m     17\u001b[0m \u001b[38;5;28;01mif\u001b[39;00m module_path \u001b[38;5;129;01mnot\u001b[39;00m \u001b[38;5;129;01min\u001b[39;00m sys\u001b[38;5;241m.\u001b[39mpath:\n\u001b[1;32m     18\u001b[0m     sys\u001b[38;5;241m.\u001b[39mpath\u001b[38;5;241m.\u001b[39mappend(module_path)\n\u001b[0;32m---> 19\u001b[0m     \u001b[38;5;28;01mimport\u001b[39;00m \u001b[38;5;21;01maup\u001b[39;00m\n",
      "File \u001b[0;32m~/accesibilidad-urbana/aup/__init__.py:1\u001b[0m\n\u001b[0;32m----> 1\u001b[0m \u001b[38;5;28;01mfrom\u001b[39;00m \u001b[38;5;21;01m.\u001b[39;00m\u001b[38;5;21;01mdata\u001b[39;00m \u001b[38;5;28;01mimport\u001b[39;00m \u001b[38;5;241m*\u001b[39m\n\u001b[1;32m      2\u001b[0m \u001b[38;5;28;01mfrom\u001b[39;00m \u001b[38;5;21;01m.\u001b[39;00m\u001b[38;5;21;01mutils\u001b[39;00m \u001b[38;5;28;01mimport\u001b[39;00m \u001b[38;5;241m*\u001b[39m\n\u001b[1;32m      3\u001b[0m \u001b[38;5;28;01mfrom\u001b[39;00m \u001b[38;5;21;01m.\u001b[39;00m\u001b[38;5;21;01manalysis\u001b[39;00m \u001b[38;5;28;01mimport\u001b[39;00m \u001b[38;5;241m*\u001b[39m\n",
      "File \u001b[0;32m~/accesibilidad-urbana/aup/data.py:12\u001b[0m\n\u001b[1;32m      9\u001b[0m \u001b[38;5;28;01mfrom\u001b[39;00m \u001b[38;5;21;01mio\u001b[39;00m \u001b[38;5;28;01mimport\u001b[39;00m StringIO\n\u001b[1;32m     11\u001b[0m \u001b[38;5;28;01mimport\u001b[39;00m \u001b[38;5;21;01mgeopandas\u001b[39;00m \u001b[38;5;28;01mas\u001b[39;00m \u001b[38;5;21;01mgpd\u001b[39;00m\n\u001b[0;32m---> 12\u001b[0m \u001b[38;5;28;01mimport\u001b[39;00m \u001b[38;5;21;01mosmnx\u001b[39;00m \u001b[38;5;28;01mas\u001b[39;00m \u001b[38;5;21;01mox\u001b[39;00m\n\u001b[1;32m     13\u001b[0m \u001b[38;5;28;01mimport\u001b[39;00m \u001b[38;5;21;01mpandas\u001b[39;00m \u001b[38;5;28;01mas\u001b[39;00m \u001b[38;5;21;01mpd\u001b[39;00m\n\u001b[1;32m     14\u001b[0m \u001b[38;5;28;01mimport\u001b[39;00m \u001b[38;5;21;01mnumpy\u001b[39;00m \u001b[38;5;28;01mas\u001b[39;00m \u001b[38;5;21;01mnp\u001b[39;00m\n",
      "File \u001b[0;32m/opt/conda/envs/gds/lib/python3.9/site-packages/osmnx/__init__.py:3\u001b[0m\n\u001b[1;32m      1\u001b[0m \u001b[38;5;124;03m\"\"\"OSMnx init.\"\"\"\u001b[39;00m\n\u001b[0;32m----> 3\u001b[0m \u001b[38;5;28;01mfrom\u001b[39;00m \u001b[38;5;21;01m.\u001b[39;00m\u001b[38;5;21;01m_api\u001b[39;00m \u001b[38;5;28;01mimport\u001b[39;00m \u001b[38;5;241m*\u001b[39m  \u001b[38;5;66;03m# noqa: F401, F403\u001b[39;00m\n\u001b[1;32m      4\u001b[0m \u001b[38;5;28;01mfrom\u001b[39;00m \u001b[38;5;21;01m.\u001b[39;00m\u001b[38;5;21;01m_version\u001b[39;00m \u001b[38;5;28;01mimport\u001b[39;00m __version__  \u001b[38;5;66;03m# noqa: F401\u001b[39;00m\n",
      "File \u001b[0;32m/opt/conda/envs/gds/lib/python3.9/site-packages/osmnx/_api.py:10\u001b[0m\n\u001b[1;32m      8\u001b[0m \u001b[38;5;28;01mfrom\u001b[39;00m \u001b[38;5;21;01m.\u001b[39;00m\u001b[38;5;21;01melevation\u001b[39;00m \u001b[38;5;28;01mimport\u001b[39;00m add_node_elevations_google\n\u001b[1;32m      9\u001b[0m \u001b[38;5;28;01mfrom\u001b[39;00m \u001b[38;5;21;01m.\u001b[39;00m\u001b[38;5;21;01melevation\u001b[39;00m \u001b[38;5;28;01mimport\u001b[39;00m add_node_elevations_raster\n\u001b[0;32m---> 10\u001b[0m \u001b[38;5;28;01mfrom\u001b[39;00m \u001b[38;5;21;01m.\u001b[39;00m\u001b[38;5;21;01mfeatures\u001b[39;00m \u001b[38;5;28;01mimport\u001b[39;00m features_from_address\n\u001b[1;32m     11\u001b[0m \u001b[38;5;28;01mfrom\u001b[39;00m \u001b[38;5;21;01m.\u001b[39;00m\u001b[38;5;21;01mfeatures\u001b[39;00m \u001b[38;5;28;01mimport\u001b[39;00m features_from_bbox\n\u001b[1;32m     12\u001b[0m \u001b[38;5;28;01mfrom\u001b[39;00m \u001b[38;5;21;01m.\u001b[39;00m\u001b[38;5;21;01mfeatures\u001b[39;00m \u001b[38;5;28;01mimport\u001b[39;00m features_from_place\n",
      "File \u001b[0;32m/opt/conda/envs/gds/lib/python3.9/site-packages/osmnx/features.py:20\u001b[0m\n\u001b[1;32m     18\u001b[0m \u001b[38;5;28;01mimport\u001b[39;00m \u001b[38;5;21;01mgeopandas\u001b[39;00m \u001b[38;5;28;01mas\u001b[39;00m \u001b[38;5;21;01mgpd\u001b[39;00m\n\u001b[1;32m     19\u001b[0m \u001b[38;5;28;01mimport\u001b[39;00m \u001b[38;5;21;01mpandas\u001b[39;00m \u001b[38;5;28;01mas\u001b[39;00m \u001b[38;5;21;01mpd\u001b[39;00m\n\u001b[0;32m---> 20\u001b[0m \u001b[38;5;28;01mfrom\u001b[39;00m \u001b[38;5;21;01mshapely\u001b[39;00m\u001b[38;5;21;01m.\u001b[39;00m\u001b[38;5;21;01merrors\u001b[39;00m \u001b[38;5;28;01mimport\u001b[39;00m GEOSException\n\u001b[1;32m     21\u001b[0m \u001b[38;5;28;01mfrom\u001b[39;00m \u001b[38;5;21;01mshapely\u001b[39;00m\u001b[38;5;21;01m.\u001b[39;00m\u001b[38;5;21;01merrors\u001b[39;00m \u001b[38;5;28;01mimport\u001b[39;00m TopologicalError\n\u001b[1;32m     22\u001b[0m \u001b[38;5;28;01mfrom\u001b[39;00m \u001b[38;5;21;01mshapely\u001b[39;00m\u001b[38;5;21;01m.\u001b[39;00m\u001b[38;5;21;01mgeometry\u001b[39;00m \u001b[38;5;28;01mimport\u001b[39;00m LineString\n",
      "\u001b[0;31mImportError\u001b[0m: cannot import name 'GEOSException' from 'shapely.errors' (/opt/conda/envs/gds/lib/python3.9/site-packages/shapely/errors.py)"
     ]
    }
   ],
=======
   "id": "a7675bb0-d6af-4f65-98e9-e02e55bca55d",
   "metadata": {},
   "outputs": [],
>>>>>>> 1a332bbab5f5c27d0639afbd859c4ec088640fe3
   "source": [
    "import geopandas as gpd\n",
    "import pandas as pd\n",
    "import numpy as np\n",
    "import seaborn as sns\n",
    "import matplotlib.pyplot as plt\n",
    "from shapely.geometry import Point, Polygon\n",
    "\n",
<<<<<<< HEAD
    "from typing import Optional\n",
    "#from spatial_kde import spatial_kernel_density\n",
    "\n",
=======
>>>>>>> 1a332bbab5f5c27d0639afbd859c4ec088640fe3
    "import warnings\n",
    "warnings.simplefilter(action='ignore', category=FutureWarning)\n",
    "\n",
    "import os\n",
    "import sys\n",
    "module_path = os.path.abspath(os.path.join('../../'))\n",
    "if module_path not in sys.path:\n",
    "    sys.path.append(module_path)\n",
    "    import aup"
   ]
  },
  {
   "cell_type": "markdown",
   "id": "6aa739a9-9911-49af-9ff3-6dddfa069a37",
   "metadata": {},
   "source": [
    "## Downloading network"
   ]
  },
  {
   "cell_type": "code",
<<<<<<< HEAD
   "execution_count": 5,
=======
   "execution_count": 2,
>>>>>>> 1a332bbab5f5c27d0639afbd859c4ec088640fe3
   "id": "3f8637f8-cac1-4214-a0af-cf4ff1aadab1",
   "metadata": {},
   "outputs": [],
   "source": [
    "USOS_ZONA_7 = gpd.read_file(\"Distrito_Zona7.geojson\")"
   ]
  },
  {
   "cell_type": "code",
<<<<<<< HEAD
   "execution_count": 6,
=======
   "execution_count": 3,
>>>>>>> 1a332bbab5f5c27d0639afbd859c4ec088640fe3
   "id": "0e7f7d1e-f39f-4c73-8917-62be69ee2f64",
   "metadata": {},
   "outputs": [
    {
     "name": "stdout",
     "output_type": "stream",
     "text": [
<<<<<<< HEAD
      "epsg:32613\n"
=======
      "EPSG:32613\n"
>>>>>>> 1a332bbab5f5c27d0639afbd859c4ec088640fe3
     ]
    }
   ],
   "source": [
    "print(USOS_ZONA_7.crs)"
   ]
  },
  {
   "cell_type": "code",
<<<<<<< HEAD
   "execution_count": 8,
=======
   "execution_count": 4,
>>>>>>> 1a332bbab5f5c27d0639afbd859c4ec088640fe3
   "id": "13650ea1-142e-4620-bfff-4dc4d13194f5",
   "metadata": {},
   "outputs": [
    {
     "data": {
      "text/plain": [
       "(1, 4)"
      ]
     },
<<<<<<< HEAD
     "execution_count": 8,
=======
     "execution_count": 4,
>>>>>>> 1a332bbab5f5c27d0639afbd859c4ec088640fe3
     "metadata": {},
     "output_type": "execute_result"
    }
   ],
   "source": [
    "USOS_ZONA_7.shape"
   ]
  },
  {
   "cell_type": "code",
<<<<<<< HEAD
   "execution_count": 9,
=======
   "execution_count": 5,
>>>>>>> 1a332bbab5f5c27d0639afbd859c4ec088640fe3
   "id": "fdb4a1fc-b136-4381-bd0c-f025a0f494e8",
   "metadata": {},
   "outputs": [
    {
     "data": {
      "text/plain": [
       "<Axes: >"
      ]
     },
<<<<<<< HEAD
     "execution_count": 9,
=======
     "execution_count": 5,
>>>>>>> 1a332bbab5f5c27d0639afbd859c4ec088640fe3
     "metadata": {},
     "output_type": "execute_result"
    },
    {
     "data": {
      "image/png": "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",
      "text/plain": [
       "<Figure size 640x480 with 1 Axes>"
      ]
     },
     "metadata": {},
     "output_type": "display_data"
    }
   ],
   "source": [
    "USOS_ZONA_7.plot()"
   ]
  },
  {
   "cell_type": "code",
<<<<<<< HEAD
   "execution_count": 10,
=======
   "execution_count": 6,
>>>>>>> 1a332bbab5f5c27d0639afbd859c4ec088640fe3
   "id": "814d0330-6caa-43f8-98bf-3e65e72f705c",
   "metadata": {
    "scrolled": true
   },
   "outputs": [],
   "source": [
    "# Convertir la geometría del polígono en WKT (para usar SQL en la query)\n",
    "poly_wkt = USOS_ZONA_7.dissolve().geometry.iloc[0].wkt\n",
    "# print(poly_wkt)  # Verificar si genera un WKT válido"
   ]
  },
  {
   "cell_type": "code",
<<<<<<< HEAD
   "execution_count": 11,
=======
   "execution_count": 7,
>>>>>>> 1a332bbab5f5c27d0639afbd859c4ec088640fe3
   "id": "e2dec1eb-aea1-4b6a-97b6-abf1ad173bb8",
   "metadata": {},
   "outputs": [
    {
<<<<<<< HEAD
     "ename": "NameError",
     "evalue": "name 'aup' is not defined",
     "output_type": "error",
     "traceback": [
      "\u001b[0;31m---------------------------------------------------------------------------\u001b[0m",
      "\u001b[0;31mNameError\u001b[0m                                 Traceback (most recent call last)",
      "Cell \u001b[0;32mIn[11], line 38\u001b[0m\n\u001b[1;32m     17\u001b[0m query_censo \u001b[38;5;241m=\u001b[39m \u001b[38;5;124mf\u001b[39m\u001b[38;5;124m\"\"\"\u001b[39m\n\u001b[1;32m     18\u001b[0m \u001b[38;5;124mSELECT \u001b[39m\n\u001b[1;32m     19\u001b[0m \u001b[38;5;124m  \u001b[39m\u001b[38;5;124m\"\u001b[39m\u001b[38;5;132;01m{\u001b[39;00m\u001b[38;5;28mid\u001b[39m\u001b[38;5;132;01m}\u001b[39;00m\u001b[38;5;124m\"\u001b[39m\u001b[38;5;124m, \u001b[39m\n\u001b[0;32m   (...)\u001b[0m\n\u001b[1;32m     34\u001b[0m \u001b[38;5;124m)\u001b[39m\n\u001b[1;32m     35\u001b[0m \u001b[38;5;124m\"\"\"\u001b[39m\n\u001b[1;32m     37\u001b[0m \u001b[38;5;66;03m# Ejecutar la consulta\u001b[39;00m\n\u001b[0;32m---> 38\u001b[0m Denue \u001b[38;5;241m=\u001b[39m \u001b[43maup\u001b[49m\u001b[38;5;241m.\u001b[39mgdf_from_query(query_censo, geometry_col\u001b[38;5;241m=\u001b[39m\u001b[38;5;124m'\u001b[39m\u001b[38;5;124mgeometry\u001b[39m\u001b[38;5;124m'\u001b[39m)\n\u001b[1;32m     40\u001b[0m \u001b[38;5;66;03m# Asegurar que el GeoDataFrame resultante tenga el CRS correcto\u001b[39;00m\n\u001b[1;32m     41\u001b[0m Denue \u001b[38;5;241m=\u001b[39m Denue\u001b[38;5;241m.\u001b[39mto_crs(\u001b[38;5;124m\"\u001b[39m\u001b[38;5;124mEPSG:32613\u001b[39m\u001b[38;5;124m\"\u001b[39m)\n",
      "\u001b[0;31mNameError\u001b[0m: name 'aup' is not defined"
     ]
=======
     "name": "stdout",
     "output_type": "stream",
     "text": [
      "(5716, 11)\n"
     ]
    },
    {
     "data": {
      "text/html": [
       "<div>\n",
       "<style scoped>\n",
       "    .dataframe tbody tr th:only-of-type {\n",
       "        vertical-align: middle;\n",
       "    }\n",
       "\n",
       "    .dataframe tbody tr th {\n",
       "        vertical-align: top;\n",
       "    }\n",
       "\n",
       "    .dataframe thead th {\n",
       "        text-align: right;\n",
       "    }\n",
       "</style>\n",
       "<table border=\"1\" class=\"dataframe\">\n",
       "  <thead>\n",
       "    <tr style=\"text-align: right;\">\n",
       "      <th></th>\n",
       "      <th>id</th>\n",
       "      <th>cve_ent</th>\n",
       "      <th>cve_loc</th>\n",
       "      <th>manzana</th>\n",
       "      <th>cve_mun</th>\n",
       "      <th>latitud</th>\n",
       "      <th>longitud</th>\n",
       "      <th>codigo_act</th>\n",
       "      <th>ageb</th>\n",
       "      <th>per_ocu</th>\n",
       "      <th>geometry</th>\n",
       "    </tr>\n",
       "  </thead>\n",
       "  <tbody>\n",
       "    <tr>\n",
       "      <th>0</th>\n",
       "      <td>6146774</td>\n",
       "      <td>14</td>\n",
       "      <td>0001</td>\n",
       "      <td>025</td>\n",
       "      <td>120</td>\n",
       "      <td>20.645060</td>\n",
       "      <td>-103.446555</td>\n",
       "      <td>236211</td>\n",
       "      <td>1691</td>\n",
       "      <td>11 a 30 personas</td>\n",
       "      <td>POINT (661841.315 2283639.961)</td>\n",
       "    </tr>\n",
       "    <tr>\n",
       "      <th>1</th>\n",
       "      <td>6146645</td>\n",
       "      <td>14</td>\n",
       "      <td>0001</td>\n",
       "      <td>008</td>\n",
       "      <td>120</td>\n",
       "      <td>20.655170</td>\n",
       "      <td>-103.451927</td>\n",
       "      <td>236111</td>\n",
       "      <td>3503</td>\n",
       "      <td>31 a 50 personas</td>\n",
       "      <td>POINT (661270.810 2284753.740)</td>\n",
       "    </tr>\n",
       "    <tr>\n",
       "      <th>2</th>\n",
       "      <td>1661305</td>\n",
       "      <td>14</td>\n",
       "      <td>0001</td>\n",
       "      <td>020</td>\n",
       "      <td>120</td>\n",
       "      <td>20.650230</td>\n",
       "      <td>-103.453850</td>\n",
       "      <td>312112</td>\n",
       "      <td>4535</td>\n",
       "      <td>6 a 10 personas</td>\n",
       "      <td>POINT (661075.689 2284205.018)</td>\n",
       "    </tr>\n",
       "    <tr>\n",
       "      <th>3</th>\n",
       "      <td>9020895</td>\n",
       "      <td>14</td>\n",
       "      <td>0001</td>\n",
       "      <td>017</td>\n",
       "      <td>120</td>\n",
       "      <td>20.650728</td>\n",
       "      <td>-103.451387</td>\n",
       "      <td>315229</td>\n",
       "      <td>4535</td>\n",
       "      <td>6 a 10 personas</td>\n",
       "      <td>POINT (661331.803 2284262.569)</td>\n",
       "    </tr>\n",
       "    <tr>\n",
       "      <th>4</th>\n",
       "      <td>7151634</td>\n",
       "      <td>14</td>\n",
       "      <td>0001</td>\n",
       "      <td>014</td>\n",
       "      <td>120</td>\n",
       "      <td>20.627766</td>\n",
       "      <td>-103.460495</td>\n",
       "      <td>115111</td>\n",
       "      <td>5340</td>\n",
       "      <td>0 a 5 personas</td>\n",
       "      <td>POINT (660406.873 2281711.725)</td>\n",
       "    </tr>\n",
       "  </tbody>\n",
       "</table>\n",
       "</div>"
      ],
      "text/plain": [
       "        id cve_ent cve_loc manzana cve_mun    latitud    longitud codigo_act  \\\n",
       "0  6146774      14    0001     025     120  20.645060 -103.446555     236211   \n",
       "1  6146645      14    0001     008     120  20.655170 -103.451927     236111   \n",
       "2  1661305      14    0001     020     120  20.650230 -103.453850     312112   \n",
       "3  9020895      14    0001     017     120  20.650728 -103.451387     315229   \n",
       "4  7151634      14    0001     014     120  20.627766 -103.460495     115111   \n",
       "\n",
       "   ageb           per_ocu                        geometry  \n",
       "0  1691  11 a 30 personas  POINT (661841.315 2283639.961)  \n",
       "1  3503  31 a 50 personas  POINT (661270.810 2284753.740)  \n",
       "2  4535   6 a 10 personas  POINT (661075.689 2284205.018)  \n",
       "3  4535   6 a 10 personas  POINT (661331.803 2284262.569)  \n",
       "4  5340    0 a 5 personas  POINT (660406.873 2281711.725)  "
      ]
     },
     "execution_count": 7,
     "metadata": {},
     "output_type": "execute_result"
>>>>>>> 1a332bbab5f5c27d0639afbd859c4ec088640fe3
    }
   ],
   "source": [
    "schema = \"denue\"\n",
    "table = \"denue_2022\"\n",
    "\n",
    "manzana = \"manzana\"\n",
    "entidad = \"cve_ent\"\n",
    "localidad = \"cve_loc\"\n",
    "municipio = \"cve_mun\"\n",
    "id = \"id\"\n",
    "latitud = \"latitud\"\n",
    "longitud = \"longitud\"\n",
    "codigo_act = \"codigo_act\"\n",
    "ageb = \"ageb\"\n",
    "per_ocu = \"per_ocu\"\n",
    "\n",
    "\n",
    "# Crear la consulta manteniendo el mismo CRS\n",
    "query_censo = f\"\"\"\n",
    "SELECT \n",
    "  \"{id}\", \n",
    "  \"{entidad}\",\n",
    "  \"{localidad}\",\n",
    "  \"{manzana}\",\n",
    "  \"{municipio}\",\n",
    "  \"{latitud}\",\n",
    "  \"{longitud}\",\n",
    "  \"{codigo_act}\",\n",
    "  \"{ageb}\",\n",
    "  \"{per_ocu}\",\n",
    "  \"geometry\"\n",
    "FROM {schema}.{table}\n",
    "WHERE ST_Intersects(\n",
    "  ST_Transform(geometry, 32613),  -- Transformar geometría de DENUE a 32613 \n",
    "  ST_GeomFromText('{poly_wkt}', 32613)  -- Usar el polígono en 32613\n",
    ")\n",
    "\"\"\"\n",
    "\n",
    "# Ejecutar la consulta\n",
    "Denue = aup.gdf_from_query(query_censo, geometry_col='geometry')\n",
    "\n",
    "# Asegurar que el GeoDataFrame resultante tenga el CRS correcto\n",
    "Denue = Denue.to_crs(\"EPSG:32613\")\n",
    "\n",
    "\n",
    "print(Denue.shape)\n",
    "Denue.head()\n"
   ]
  },
  {
   "cell_type": "code",
   "execution_count": 8,
   "id": "792f6d88-b77a-455b-b467-32c476aed78b",
   "metadata": {},
   "outputs": [
    {
     "name": "stdout",
     "output_type": "stream",
     "text": [
      "5716\n",
      "0\n"
     ]
    }
   ],
   "source": [
    "print(Denue.is_valid.sum())  # Geometrías válidas\n",
    "print(Denue.geometry.is_empty.sum())  # Geometrías vacías"
   ]
  },
  {
   "cell_type": "code",
   "execution_count": 9,
   "id": "04df8bb1-74c3-4a52-8302-c2140fd9bad7",
   "metadata": {},
   "outputs": [
    {
     "name": "stdout",
     "output_type": "stream",
     "text": [
      "\n",
      "Rango de coordenadas USOS_ZONA_7:\n",
      "[ 657271.71368846 2280096.60048675  663024.38381093 2288828.33192265]\n",
      "\n",
      "Rango de coordenadas Denue:\n",
      "[ 658047.41138693 2280906.5234886   662957.5283568  2288593.6120817 ]\n"
     ]
    }
   ],
   "source": [
    "# Verificar coordenadas extremas\n",
    "print(\"\\nRango de coordenadas USOS_ZONA_7:\")\n",
    "print(USOS_ZONA_7.total_bounds)\n",
    "print(\"\\nRango de coordenadas Denue:\")\n",
    "print(Denue.total_bounds)"
   ]
  },
  {
   "cell_type": "markdown",
   "id": "aef70eb9-ec59-4093-b34f-bc033d26bdce",
   "metadata": {},
   "source": [
    "## Clasificar las distintas actividades económicas con base en su terminación en \"codigo_act\" basándonos en el Directorio Estadístico Nacional de Unidades Económicas"
   ]
  },
  {
   "cell_type": "code",
   "execution_count": 10,
   "id": "87b05149-1bb9-4a0a-a93c-3d56dd74fd00",
   "metadata": {},
   "outputs": [],
   "source": [
    "# Función para clasificar según la terminación de codigo_act\n",
    "def asignar_tipo(codigo):\n",
    "    if pd.isna(codigo):  # Si está vacío\n",
    "        return 'Sin código'\n",
    "    \n",
    "    # Asegurar que sea string para evaluar el código\n",
    "    codigo_str = str(codigo).strip()\n",
    "\n",
    "    if not codigo_str.isdigit():\n",
    "        return 'Código inválido'\n",
    "    \n",
    "    # Define tus conjuntos de códigos\n",
    "    industria = {'11', '21', '23', '31', '32', '33', '55'}\n",
    "    \n",
    "    servicios = {'22', '48', '49', '52', '53', '54', '56', '72',\n",
    "                 '81'}\n",
    "    \n",
    "    comercio = {'43', '46'}\n",
    "    \n",
    "    cultural_recreativo = {'51','71'}\n",
    "    \n",
    "    educacion = {'61'}\n",
    "    \n",
    "    salud = {'62'}\n",
    "\n",
    "    gobierno = {'93'}\n",
    "    \n",
    "    # Verificar si el código está en alguno de los conjuntos\n",
    "    if codigo_str[:2] in industria:\n",
    "        return 'Industria'\n",
    "    elif codigo_str[:2] in servicios:\n",
    "        return 'Servicios'\n",
    "    elif codigo_str[:2] in comercio:\n",
    "        return 'Comercio'\n",
    "    elif codigo_str[:2] in cultural_recreativo:\n",
    "        return 'Cultural/Recreativo'\n",
    "    elif codigo_str[:2] in educacion:\n",
    "        return 'Educación'\n",
    "    elif codigo_str[:2] in salud:\n",
    "        return 'Salud'\n",
    "    elif codigo_str[:2] in gobierno:\n",
    "        return 'Gobierno'\n",
    "    else:\n",
    "        return 'Desconocido'\n",
    "\n",
    "# Aplica la función al DataFrame\n",
    "Denue['tipo_act'] = Denue['codigo_act'].apply(asignar_tipo)"
   ]
  },
  {
   "cell_type": "code",
   "execution_count": 11,
   "id": "20ee14e3-923d-44f1-91b2-05d69b4688b4",
   "metadata": {},
   "outputs": [
    {
     "data": {
      "text/html": [
       "<div>\n",
       "<style scoped>\n",
       "    .dataframe tbody tr th:only-of-type {\n",
       "        vertical-align: middle;\n",
       "    }\n",
       "\n",
       "    .dataframe tbody tr th {\n",
       "        vertical-align: top;\n",
       "    }\n",
       "\n",
       "    .dataframe thead th {\n",
       "        text-align: right;\n",
       "    }\n",
       "</style>\n",
       "<table border=\"1\" class=\"dataframe\">\n",
       "  <thead>\n",
       "    <tr style=\"text-align: right;\">\n",
       "      <th></th>\n",
       "      <th>id</th>\n",
       "      <th>cve_ent</th>\n",
       "      <th>cve_loc</th>\n",
       "      <th>manzana</th>\n",
       "      <th>cve_mun</th>\n",
       "      <th>latitud</th>\n",
       "      <th>longitud</th>\n",
       "      <th>codigo_act</th>\n",
       "      <th>ageb</th>\n",
       "      <th>per_ocu</th>\n",
       "      <th>geometry</th>\n",
       "      <th>tipo_act</th>\n",
       "    </tr>\n",
       "  </thead>\n",
       "  <tbody>\n",
       "    <tr>\n",
       "      <th>0</th>\n",
       "      <td>6146774</td>\n",
       "      <td>14</td>\n",
       "      <td>0001</td>\n",
       "      <td>025</td>\n",
       "      <td>120</td>\n",
       "      <td>20.64506</td>\n",
       "      <td>-103.446555</td>\n",
       "      <td>236211</td>\n",
       "      <td>1691</td>\n",
       "      <td>11 a 30 personas</td>\n",
       "      <td>POINT (661841.315 2283639.961)</td>\n",
       "      <td>Industria</td>\n",
       "    </tr>\n",
       "    <tr>\n",
       "      <th>1</th>\n",
       "      <td>6146645</td>\n",
       "      <td>14</td>\n",
       "      <td>0001</td>\n",
       "      <td>008</td>\n",
       "      <td>120</td>\n",
       "      <td>20.65517</td>\n",
       "      <td>-103.451927</td>\n",
       "      <td>236111</td>\n",
       "      <td>3503</td>\n",
       "      <td>31 a 50 personas</td>\n",
       "      <td>POINT (661270.810 2284753.740)</td>\n",
       "      <td>Industria</td>\n",
       "    </tr>\n",
       "    <tr>\n",
       "      <th>2</th>\n",
       "      <td>1661305</td>\n",
       "      <td>14</td>\n",
       "      <td>0001</td>\n",
       "      <td>020</td>\n",
       "      <td>120</td>\n",
       "      <td>20.65023</td>\n",
       "      <td>-103.453850</td>\n",
       "      <td>312112</td>\n",
       "      <td>4535</td>\n",
       "      <td>6 a 10 personas</td>\n",
       "      <td>POINT (661075.689 2284205.018)</td>\n",
       "      <td>Industria</td>\n",
       "    </tr>\n",
       "  </tbody>\n",
       "</table>\n",
       "</div>"
      ],
      "text/plain": [
       "        id cve_ent cve_loc manzana cve_mun   latitud    longitud codigo_act  \\\n",
       "0  6146774      14    0001     025     120  20.64506 -103.446555     236211   \n",
       "1  6146645      14    0001     008     120  20.65517 -103.451927     236111   \n",
       "2  1661305      14    0001     020     120  20.65023 -103.453850     312112   \n",
       "\n",
       "   ageb           per_ocu                        geometry   tipo_act  \n",
       "0  1691  11 a 30 personas  POINT (661841.315 2283639.961)  Industria  \n",
       "1  3503  31 a 50 personas  POINT (661270.810 2284753.740)  Industria  \n",
       "2  4535   6 a 10 personas  POINT (661075.689 2284205.018)  Industria  "
      ]
     },
     "execution_count": 11,
     "metadata": {},
     "output_type": "execute_result"
    }
   ],
   "source": [
    "Denue.head(3)"
   ]
  },
  {
   "cell_type": "code",
   "execution_count": 12,
   "id": "90ceaa81-fc13-4b4a-a290-15ccd56e7a59",
   "metadata": {},
   "outputs": [
    {
     "data": {
      "text/plain": [
       "array(['Industria', 'Servicios', 'Comercio', 'Cultural/Recreativo',\n",
       "       'Educación', 'Salud', 'Gobierno'], dtype=object)"
      ]
     },
     "execution_count": 12,
     "metadata": {},
     "output_type": "execute_result"
    }
   ],
   "source": [
    "Denue[\"tipo_act\"].unique()"
   ]
  },
  {
   "cell_type": "code",
   "execution_count": 13,
   "id": "31a12665-8bea-4d5a-9aad-7b813d89fb3d",
   "metadata": {},
   "outputs": [
    {
     "data": {
      "text/html": [
       "<div>\n",
       "<style scoped>\n",
       "    .dataframe tbody tr th:only-of-type {\n",
       "        vertical-align: middle;\n",
       "    }\n",
       "\n",
       "    .dataframe tbody tr th {\n",
       "        vertical-align: top;\n",
       "    }\n",
       "\n",
       "    .dataframe thead th {\n",
       "        text-align: right;\n",
       "    }\n",
       "</style>\n",
       "<table border=\"1\" class=\"dataframe\">\n",
       "  <thead>\n",
       "    <tr style=\"text-align: right;\">\n",
       "      <th></th>\n",
       "      <th>id</th>\n",
       "      <th>cve_ent</th>\n",
       "      <th>cve_loc</th>\n",
       "      <th>manzana</th>\n",
       "      <th>cve_mun</th>\n",
       "      <th>latitud</th>\n",
       "      <th>longitud</th>\n",
       "      <th>codigo_act</th>\n",
       "      <th>ageb</th>\n",
       "      <th>per_ocu</th>\n",
       "      <th>geometry</th>\n",
       "      <th>tipo_act</th>\n",
       "    </tr>\n",
       "  </thead>\n",
       "  <tbody>\n",
       "  </tbody>\n",
       "</table>\n",
       "</div>"
      ],
      "text/plain": [
       "Empty GeoDataFrame\n",
       "Columns: [id, cve_ent, cve_loc, manzana, cve_mun, latitud, longitud, codigo_act, ageb, per_ocu, geometry, tipo_act]\n",
       "Index: []"
      ]
     },
     "execution_count": 13,
     "metadata": {},
     "output_type": "execute_result"
    }
   ],
   "source": [
    "desconocidos = Denue[Denue['tipo_act'] == 'Desconocido']\n",
    "desconocidos"
   ]
  },
  {
   "cell_type": "markdown",
   "id": "051a8c30-de10-447e-a387-e9b547a5c579",
   "metadata": {},
   "source": [
    "### Relación espacio -> espacio"
   ]
  },
  {
   "cell_type": "markdown",
   "id": "8ca87dc8-fd63-4847-a620-35f005a31095",
   "metadata": {},
   "source": [
    "#### Mostrar de manera completa las relaciones y jerarquías entre los distintos espacios"
   ]
  },
  {
   "cell_type": "code",
   "execution_count": 14,
   "id": "3144e319-3d49-47d1-81c4-286f7443a35f",
   "metadata": {},
   "outputs": [
    {
     "data": {
      "text/html": [
       "<div>\n",
       "<style scoped>\n",
       "    .dataframe tbody tr th:only-of-type {\n",
       "        vertical-align: middle;\n",
       "    }\n",
       "\n",
       "    .dataframe tbody tr th {\n",
       "        vertical-align: top;\n",
       "    }\n",
       "\n",
       "    .dataframe thead th {\n",
       "        text-align: right;\n",
       "    }\n",
       "</style>\n",
       "<table border=\"1\" class=\"dataframe\">\n",
       "  <thead>\n",
       "    <tr style=\"text-align: right;\">\n",
       "      <th></th>\n",
       "      <th>cve_ent</th>\n",
       "      <th>cve_mun</th>\n",
       "      <th>cve_loc</th>\n",
       "      <th>ageb</th>\n",
       "      <th>manzana</th>\n",
       "    </tr>\n",
       "  </thead>\n",
       "  <tbody>\n",
       "    <tr>\n",
       "      <th>135</th>\n",
       "      <td>14</td>\n",
       "      <td>120</td>\n",
       "      <td>0001</td>\n",
       "      <td>1206</td>\n",
       "      <td>005</td>\n",
       "    </tr>\n",
       "    <tr>\n",
       "      <th>778</th>\n",
       "      <td>14</td>\n",
       "      <td>120</td>\n",
       "      <td>0001</td>\n",
       "      <td>1206</td>\n",
       "      <td>005</td>\n",
       "    </tr>\n",
       "    <tr>\n",
       "      <th>779</th>\n",
       "      <td>14</td>\n",
       "      <td>120</td>\n",
       "      <td>0001</td>\n",
       "      <td>1206</td>\n",
       "      <td>005</td>\n",
       "    </tr>\n",
       "    <tr>\n",
       "      <th>3429</th>\n",
       "      <td>14</td>\n",
       "      <td>120</td>\n",
       "      <td>0001</td>\n",
       "      <td>1206</td>\n",
       "      <td>005</td>\n",
       "    </tr>\n",
       "    <tr>\n",
       "      <th>3593</th>\n",
       "      <td>14</td>\n",
       "      <td>120</td>\n",
       "      <td>0001</td>\n",
       "      <td>1206</td>\n",
       "      <td>005</td>\n",
       "    </tr>\n",
       "    <tr>\n",
       "      <th>3607</th>\n",
       "      <td>14</td>\n",
       "      <td>120</td>\n",
       "      <td>0001</td>\n",
       "      <td>1206</td>\n",
       "      <td>005</td>\n",
       "    </tr>\n",
       "    <tr>\n",
       "      <th>3641</th>\n",
       "      <td>14</td>\n",
       "      <td>120</td>\n",
       "      <td>0001</td>\n",
       "      <td>1206</td>\n",
       "      <td>005</td>\n",
       "    </tr>\n",
       "    <tr>\n",
       "      <th>4130</th>\n",
       "      <td>14</td>\n",
       "      <td>120</td>\n",
       "      <td>0001</td>\n",
       "      <td>1206</td>\n",
       "      <td>005</td>\n",
       "    </tr>\n",
       "    <tr>\n",
       "      <th>4347</th>\n",
       "      <td>14</td>\n",
       "      <td>120</td>\n",
       "      <td>0001</td>\n",
       "      <td>1206</td>\n",
       "      <td>005</td>\n",
       "    </tr>\n",
       "    <tr>\n",
       "      <th>5567</th>\n",
       "      <td>14</td>\n",
       "      <td>120</td>\n",
       "      <td>0001</td>\n",
       "      <td>1206</td>\n",
       "      <td>005</td>\n",
       "    </tr>\n",
       "  </tbody>\n",
       "</table>\n",
       "</div>"
      ],
      "text/plain": [
       "     cve_ent cve_mun cve_loc  ageb manzana\n",
       "135       14     120    0001  1206     005\n",
       "778       14     120    0001  1206     005\n",
       "779       14     120    0001  1206     005\n",
       "3429      14     120    0001  1206     005\n",
       "3593      14     120    0001  1206     005\n",
       "3607      14     120    0001  1206     005\n",
       "3641      14     120    0001  1206     005\n",
       "4130      14     120    0001  1206     005\n",
       "4347      14     120    0001  1206     005\n",
       "5567      14     120    0001  1206     005"
      ]
     },
     "execution_count": 14,
     "metadata": {},
     "output_type": "execute_result"
    }
   ],
   "source": [
    "jerarquia_completa = Denue[['cve_ent', 'cve_mun', 'cve_loc', 'ageb', 'manzana']].sort_values(by=['cve_ent', 'cve_mun', 'cve_loc', 'ageb', 'manzana'])\n",
    "jerarquia_completa.head(10)"
   ]
  },
  {
   "cell_type": "code",
   "execution_count": 15,
   "id": "64afc339-82c8-4b86-b905-24f3bed8c6cc",
   "metadata": {},
   "outputs": [
    {
     "data": {
      "text/plain": [
       "(5716, 5)"
      ]
     },
     "execution_count": 15,
     "metadata": {},
     "output_type": "execute_result"
    }
   ],
   "source": [
    "jerarquia_completa.shape"
   ]
  },
  {
   "cell_type": "code",
   "execution_count": 16,
   "id": "c8502344-e2f4-49f3-bde1-46d4c6f8ba6b",
   "metadata": {},
   "outputs": [],
   "source": [
    "conteo_manzanas = jerarquia_completa.groupby(['cve_ent', 'cve_mun', 'cve_loc', 'ageb', 'manzana']) \\\n",
    "    .size().reset_index(name='cont_manzanas') #  Contar cuántas manzanas hay por agrupación y convertimos a string"
   ]
  },
  {
   "cell_type": "code",
   "execution_count": 17,
   "id": "1c343a1f-c119-4fa4-b3b6-084806e4c220",
   "metadata": {},
   "outputs": [
    {
     "data": {
      "text/html": [
       "<div>\n",
       "<style scoped>\n",
       "    .dataframe tbody tr th:only-of-type {\n",
       "        vertical-align: middle;\n",
       "    }\n",
       "\n",
       "    .dataframe tbody tr th {\n",
       "        vertical-align: top;\n",
       "    }\n",
       "\n",
       "    .dataframe thead th {\n",
       "        text-align: right;\n",
       "    }\n",
       "</style>\n",
       "<table border=\"1\" class=\"dataframe\">\n",
       "  <thead>\n",
       "    <tr style=\"text-align: right;\">\n",
       "      <th></th>\n",
       "      <th>cve_ent</th>\n",
       "      <th>cve_mun</th>\n",
       "      <th>cve_loc</th>\n",
       "      <th>ageb</th>\n",
       "      <th>manzana</th>\n",
       "      <th>cont_manzanas</th>\n",
       "    </tr>\n",
       "  </thead>\n",
       "  <tbody>\n",
       "    <tr>\n",
       "      <th>0</th>\n",
       "      <td>14</td>\n",
       "      <td>120</td>\n",
       "      <td>0001</td>\n",
       "      <td>1206</td>\n",
       "      <td>005</td>\n",
       "      <td>10</td>\n",
       "    </tr>\n",
       "    <tr>\n",
       "      <th>1</th>\n",
       "      <td>14</td>\n",
       "      <td>120</td>\n",
       "      <td>0001</td>\n",
       "      <td>1206</td>\n",
       "      <td>006</td>\n",
       "      <td>13</td>\n",
       "    </tr>\n",
       "    <tr>\n",
       "      <th>2</th>\n",
       "      <td>14</td>\n",
       "      <td>120</td>\n",
       "      <td>0001</td>\n",
       "      <td>1206</td>\n",
       "      <td>007</td>\n",
       "      <td>3</td>\n",
       "    </tr>\n",
       "    <tr>\n",
       "      <th>3</th>\n",
       "      <td>14</td>\n",
       "      <td>120</td>\n",
       "      <td>0001</td>\n",
       "      <td>1206</td>\n",
       "      <td>008</td>\n",
       "      <td>4</td>\n",
       "    </tr>\n",
       "    <tr>\n",
       "      <th>4</th>\n",
       "      <td>14</td>\n",
       "      <td>120</td>\n",
       "      <td>0001</td>\n",
       "      <td>1206</td>\n",
       "      <td>016</td>\n",
       "      <td>5</td>\n",
       "    </tr>\n",
       "  </tbody>\n",
       "</table>\n",
       "</div>"
      ],
      "text/plain": [
       "  cve_ent cve_mun cve_loc  ageb manzana  cont_manzanas\n",
       "0      14     120    0001  1206     005             10\n",
       "1      14     120    0001  1206     006             13\n",
       "2      14     120    0001  1206     007              3\n",
       "3      14     120    0001  1206     008              4\n",
       "4      14     120    0001  1206     016              5"
      ]
     },
     "execution_count": 17,
     "metadata": {},
     "output_type": "execute_result"
    }
   ],
   "source": [
    "conteo_manzanas.head(5)"
   ]
  },
  {
   "cell_type": "code",
   "execution_count": 18,
   "id": "8298bf2f-a8e7-44f3-a236-f075b9b133c1",
   "metadata": {},
   "outputs": [
    {
     "data": {
      "text/plain": [
       "array([10, 13,  3,  4,  5,  2, 12, 11,  1,  9, 17, 27, 18, 32,  6,  7,  8,\n",
       "       20, 15, 16, 28, 14, 26, 45, 25, 21, 51, 24, 50, 42, 19, 41, 22, 23,\n",
       "       34])"
      ]
     },
     "execution_count": 18,
     "metadata": {},
     "output_type": "execute_result"
    }
   ],
   "source": [
    "conteo_manzanas[\"cont_manzanas\"].unique()"
   ]
  },
  {
   "cell_type": "code",
   "execution_count": 19,
   "id": "663f4898-25ad-46c6-8a62-ceb621ca4f95",
   "metadata": {},
   "outputs": [],
   "source": [
    "jerarquia_completa['cod_16d'] = (\n",
<<<<<<< HEAD
    "    jerarquia_completa['cve_ent'].astype(str).str[:2] +\n",
    "    jerarquia_completa['cve_mun'].astype(str).str[:3] +\n",
    "    jerarquia_completa['cve_loc'].astype(str).str[:4] +\n",
    "    jerarquia_completa['ageb'].astype(str).str[:4] +\n",
=======
    "    jerarquia_completa['cve_ent'].astype(str).str[:2] + '-' +\n",
    "    jerarquia_completa['cve_mun'].astype(str).str[:3] + '-' +\n",
    "    jerarquia_completa['cve_loc'].astype(str).str[:4] + '-' +\n",
    "    jerarquia_completa['ageb'].astype(str).str[:4] + '-' +\n",
>>>>>>> 1a332bbab5f5c27d0639afbd859c4ec088640fe3
    "    jerarquia_completa['manzana'].astype(str).str[:3]\n",
    ")"
   ]
  },
  {
   "cell_type": "code",
   "execution_count": 20,
   "id": "bbe3fcdd-0a1a-4b5b-be12-b7ce8afbe552",
   "metadata": {},
   "outputs": [
    {
     "data": {
      "text/html": [
       "<div>\n",
       "<style scoped>\n",
       "    .dataframe tbody tr th:only-of-type {\n",
       "        vertical-align: middle;\n",
       "    }\n",
       "\n",
       "    .dataframe tbody tr th {\n",
       "        vertical-align: top;\n",
       "    }\n",
       "\n",
       "    .dataframe thead th {\n",
       "        text-align: right;\n",
       "    }\n",
       "</style>\n",
       "<table border=\"1\" class=\"dataframe\">\n",
       "  <thead>\n",
       "    <tr style=\"text-align: right;\">\n",
       "      <th></th>\n",
       "      <th>cve_ent</th>\n",
       "      <th>cve_mun</th>\n",
       "      <th>cve_loc</th>\n",
       "      <th>ageb</th>\n",
       "      <th>manzana</th>\n",
       "      <th>cod_16d</th>\n",
       "    </tr>\n",
       "  </thead>\n",
       "  <tbody>\n",
       "    <tr>\n",
       "      <th>135</th>\n",
       "      <td>14</td>\n",
       "      <td>120</td>\n",
       "      <td>0001</td>\n",
       "      <td>1206</td>\n",
       "      <td>005</td>\n",
       "      <td>14-120-0001-1206-005</td>\n",
       "    </tr>\n",
       "    <tr>\n",
       "      <th>778</th>\n",
       "      <td>14</td>\n",
       "      <td>120</td>\n",
       "      <td>0001</td>\n",
       "      <td>1206</td>\n",
       "      <td>005</td>\n",
       "      <td>14-120-0001-1206-005</td>\n",
       "    </tr>\n",
       "    <tr>\n",
       "      <th>779</th>\n",
       "      <td>14</td>\n",
       "      <td>120</td>\n",
       "      <td>0001</td>\n",
       "      <td>1206</td>\n",
       "      <td>005</td>\n",
       "      <td>14-120-0001-1206-005</td>\n",
       "    </tr>\n",
       "    <tr>\n",
       "      <th>3429</th>\n",
       "      <td>14</td>\n",
       "      <td>120</td>\n",
       "      <td>0001</td>\n",
       "      <td>1206</td>\n",
       "      <td>005</td>\n",
       "      <td>14-120-0001-1206-005</td>\n",
       "    </tr>\n",
       "    <tr>\n",
       "      <th>3593</th>\n",
       "      <td>14</td>\n",
       "      <td>120</td>\n",
       "      <td>0001</td>\n",
       "      <td>1206</td>\n",
       "      <td>005</td>\n",
       "      <td>14-120-0001-1206-005</td>\n",
       "    </tr>\n",
       "    <tr>\n",
       "      <th>...</th>\n",
       "      <td>...</td>\n",
       "      <td>...</td>\n",
       "      <td>...</td>\n",
       "      <td>...</td>\n",
       "      <td>...</td>\n",
       "      <td>...</td>\n",
       "    </tr>\n",
       "    <tr>\n",
       "      <th>2973</th>\n",
       "      <td>14</td>\n",
       "      <td>120</td>\n",
       "      <td>0001</td>\n",
       "      <td>7309</td>\n",
       "      <td>023</td>\n",
       "      <td>14-120-0001-7309-023</td>\n",
       "    </tr>\n",
       "    <tr>\n",
       "      <th>3071</th>\n",
       "      <td>14</td>\n",
       "      <td>120</td>\n",
       "      <td>0001</td>\n",
       "      <td>7309</td>\n",
       "      <td>023</td>\n",
       "      <td>14-120-0001-7309-023</td>\n",
       "    </tr>\n",
       "    <tr>\n",
       "      <th>450</th>\n",
       "      <td>14</td>\n",
       "      <td>120</td>\n",
       "      <td>0001</td>\n",
       "      <td>7309</td>\n",
       "      <td>025</td>\n",
       "      <td>14-120-0001-7309-025</td>\n",
       "    </tr>\n",
       "    <tr>\n",
       "      <th>1536</th>\n",
       "      <td>14</td>\n",
       "      <td>120</td>\n",
       "      <td>0001</td>\n",
       "      <td>7309</td>\n",
       "      <td>025</td>\n",
       "      <td>14-120-0001-7309-025</td>\n",
       "    </tr>\n",
       "    <tr>\n",
       "      <th>2804</th>\n",
       "      <td>14</td>\n",
       "      <td>120</td>\n",
       "      <td>0001</td>\n",
       "      <td>7309</td>\n",
       "      <td>033</td>\n",
       "      <td>14-120-0001-7309-033</td>\n",
       "    </tr>\n",
       "  </tbody>\n",
       "</table>\n",
       "<p>5716 rows × 6 columns</p>\n",
       "</div>"
      ],
      "text/plain": [
       "     cve_ent cve_mun cve_loc  ageb manzana               cod_16d\n",
       "135       14     120    0001  1206     005  14-120-0001-1206-005\n",
       "778       14     120    0001  1206     005  14-120-0001-1206-005\n",
       "779       14     120    0001  1206     005  14-120-0001-1206-005\n",
       "3429      14     120    0001  1206     005  14-120-0001-1206-005\n",
       "3593      14     120    0001  1206     005  14-120-0001-1206-005\n",
       "...      ...     ...     ...   ...     ...                   ...\n",
       "2973      14     120    0001  7309     023  14-120-0001-7309-023\n",
       "3071      14     120    0001  7309     023  14-120-0001-7309-023\n",
       "450       14     120    0001  7309     025  14-120-0001-7309-025\n",
       "1536      14     120    0001  7309     025  14-120-0001-7309-025\n",
       "2804      14     120    0001  7309     033  14-120-0001-7309-033\n",
       "\n",
       "[5716 rows x 6 columns]"
      ]
     },
     "execution_count": 20,
     "metadata": {},
     "output_type": "execute_result"
    }
   ],
   "source": [
    "jerarquia_completa"
   ]
  },
  {
   "cell_type": "code",
   "execution_count": 21,
   "id": "ee319900-c25d-4834-a712-11e1ab45380a",
   "metadata": {},
   "outputs": [
    {
     "data": {
      "text/html": [
       "<div>\n",
       "<style scoped>\n",
       "    .dataframe tbody tr th:only-of-type {\n",
       "        vertical-align: middle;\n",
       "    }\n",
       "\n",
       "    .dataframe tbody tr th {\n",
       "        vertical-align: top;\n",
       "    }\n",
       "\n",
       "    .dataframe thead th {\n",
       "        text-align: right;\n",
       "    }\n",
       "</style>\n",
       "<table border=\"1\" class=\"dataframe\">\n",
       "  <thead>\n",
       "    <tr style=\"text-align: right;\">\n",
       "      <th></th>\n",
       "      <th>id</th>\n",
       "      <th>cve_ent</th>\n",
       "      <th>cve_loc</th>\n",
       "      <th>manzana</th>\n",
       "      <th>cve_mun</th>\n",
       "      <th>latitud</th>\n",
       "      <th>longitud</th>\n",
       "      <th>codigo_act</th>\n",
       "      <th>ageb</th>\n",
       "      <th>per_ocu</th>\n",
       "      <th>geometry</th>\n",
       "      <th>tipo_act</th>\n",
       "      <th>cod_16d</th>\n",
       "    </tr>\n",
       "  </thead>\n",
       "  <tbody>\n",
       "    <tr>\n",
       "      <th>0</th>\n",
       "      <td>6146774</td>\n",
       "      <td>14</td>\n",
       "      <td>0001</td>\n",
       "      <td>025</td>\n",
       "      <td>120</td>\n",
       "      <td>20.64506</td>\n",
       "      <td>-103.446555</td>\n",
       "      <td>236211</td>\n",
       "      <td>1691</td>\n",
       "      <td>11 a 30 personas</td>\n",
       "      <td>POINT (661841.315 2283639.961)</td>\n",
       "      <td>Industria</td>\n",
       "      <td>14-120-0001-1691-025</td>\n",
       "    </tr>\n",
       "    <tr>\n",
       "      <th>1</th>\n",
       "      <td>6146774</td>\n",
       "      <td>14</td>\n",
       "      <td>0001</td>\n",
       "      <td>025</td>\n",
       "      <td>120</td>\n",
       "      <td>20.64506</td>\n",
       "      <td>-103.446555</td>\n",
       "      <td>236211</td>\n",
       "      <td>1691</td>\n",
       "      <td>11 a 30 personas</td>\n",
       "      <td>POINT (661841.315 2283639.961)</td>\n",
       "      <td>Industria</td>\n",
       "      <td>14-120-0001-1691-025</td>\n",
       "    </tr>\n",
       "    <tr>\n",
       "      <th>2</th>\n",
       "      <td>6146774</td>\n",
       "      <td>14</td>\n",
       "      <td>0001</td>\n",
       "      <td>025</td>\n",
       "      <td>120</td>\n",
       "      <td>20.64506</td>\n",
       "      <td>-103.446555</td>\n",
       "      <td>236211</td>\n",
       "      <td>1691</td>\n",
       "      <td>11 a 30 personas</td>\n",
       "      <td>POINT (661841.315 2283639.961)</td>\n",
       "      <td>Industria</td>\n",
       "      <td>14-120-0001-1691-025</td>\n",
       "    </tr>\n",
       "  </tbody>\n",
       "</table>\n",
       "</div>"
      ],
      "text/plain": [
       "        id cve_ent cve_loc manzana cve_mun   latitud    longitud codigo_act  \\\n",
       "0  6146774      14    0001     025     120  20.64506 -103.446555     236211   \n",
       "1  6146774      14    0001     025     120  20.64506 -103.446555     236211   \n",
       "2  6146774      14    0001     025     120  20.64506 -103.446555     236211   \n",
       "\n",
       "   ageb           per_ocu                        geometry   tipo_act  \\\n",
       "0  1691  11 a 30 personas  POINT (661841.315 2283639.961)  Industria   \n",
       "1  1691  11 a 30 personas  POINT (661841.315 2283639.961)  Industria   \n",
       "2  1691  11 a 30 personas  POINT (661841.315 2283639.961)  Industria   \n",
       "\n",
       "                cod_16d  \n",
       "0  14-120-0001-1691-025  \n",
       "1  14-120-0001-1691-025  \n",
       "2  14-120-0001-1691-025  "
      ]
     },
     "execution_count": 21,
     "metadata": {},
     "output_type": "execute_result"
    }
   ],
   "source": [
    "Denue_completo = Denue.merge(\n",
    "    jerarquia_completa)\n",
    "\n",
    "Denue_completo.head(3)"
   ]
  },
  {
   "cell_type": "code",
   "execution_count": 22,
   "id": "ea53210e-c88d-44be-9398-faebae28a40f",
   "metadata": {},
   "outputs": [
    {
     "data": {
      "text/plain": [
       "(60784, 13)"
      ]
     },
     "execution_count": 22,
     "metadata": {},
     "output_type": "execute_result"
    }
   ],
   "source": [
    "Denue_completo.shape"
   ]
  },
  {
   "cell_type": "markdown",
   "id": "bef2a81c-d788-4748-9a4d-aa9965c50cf7",
   "metadata": {},
   "source": [
    "## Importar las manzanas de censo"
   ]
  },
  {
   "cell_type": "code",
   "execution_count": 32,
   "id": "6d1b26a1-0db8-4b58-95d2-977474405d13",
   "metadata": {},
   "outputs": [
    {
     "name": "stdout",
     "output_type": "stream",
     "text": [
      "(1771, 9)\n"
     ]
    },
    {
     "data": {
      "text/html": [
       "<div>\n",
       "<style scoped>\n",
       "    .dataframe tbody tr th:only-of-type {\n",
       "        vertical-align: middle;\n",
       "    }\n",
       "\n",
       "    .dataframe tbody tr th {\n",
       "        vertical-align: top;\n",
       "    }\n",
       "\n",
       "    .dataframe thead th {\n",
       "        text-align: right;\n",
       "    }\n",
       "</style>\n",
       "<table border=\"1\" class=\"dataframe\">\n",
       "  <thead>\n",
       "    <tr style=\"text-align: right;\">\n",
       "      <th></th>\n",
       "      <th>cve_ent</th>\n",
       "      <th>cvegeo_mza</th>\n",
       "      <th>cve_loc</th>\n",
       "      <th>cve_mun</th>\n",
       "      <th>cve_ageb</th>\n",
       "      <th>ambito</th>\n",
       "      <th>tipomza</th>\n",
       "      <th>pobtot</th>\n",
       "      <th>geometry</th>\n",
       "    </tr>\n",
       "  </thead>\n",
       "  <tbody>\n",
       "    <tr>\n",
       "      <th>0</th>\n",
       "      <td>14</td>\n",
       "      <td>1412000017281012</td>\n",
       "      <td>0001</td>\n",
       "      <td>120</td>\n",
       "      <td>7281</td>\n",
       "      <td>Urbana</td>\n",
       "      <td>Típica</td>\n",
       "      <td>12</td>\n",
       "      <td>POLYGON ((657972.987 2284179.200, 657966.813 2...</td>\n",
       "    </tr>\n",
       "    <tr>\n",
       "      <th>1</th>\n",
       "      <td>14</td>\n",
       "      <td>1412000017309035</td>\n",
       "      <td>0001</td>\n",
       "      <td>120</td>\n",
       "      <td>7309</td>\n",
       "      <td>Urbana</td>\n",
       "      <td>Típica</td>\n",
       "      <td>16</td>\n",
       "      <td>POLYGON ((658109.884 2282416.965, 658167.300 2...</td>\n",
       "    </tr>\n",
       "    <tr>\n",
       "      <th>2</th>\n",
       "      <td>14</td>\n",
       "      <td>1412000017281017</td>\n",
       "      <td>0001</td>\n",
       "      <td>120</td>\n",
       "      <td>7281</td>\n",
       "      <td>Urbana</td>\n",
       "      <td>Típica</td>\n",
       "      <td>3</td>\n",
       "      <td>POLYGON ((658172.834 2284308.737, 658187.787 2...</td>\n",
       "    </tr>\n",
       "    <tr>\n",
       "      <th>3</th>\n",
       "      <td>14</td>\n",
       "      <td>1412000017281018</td>\n",
       "      <td>0001</td>\n",
       "      <td>120</td>\n",
       "      <td>7281</td>\n",
       "      <td>Urbana</td>\n",
       "      <td>Típica</td>\n",
       "      <td>6</td>\n",
       "      <td>POLYGON ((658122.348 2284303.687, 658124.738 2...</td>\n",
       "    </tr>\n",
       "    <tr>\n",
       "      <th>4</th>\n",
       "      <td>14</td>\n",
       "      <td>141200001707A006</td>\n",
       "      <td>0001</td>\n",
       "      <td>120</td>\n",
       "      <td>707A</td>\n",
       "      <td>Urbana</td>\n",
       "      <td>Típica</td>\n",
       "      <td>41</td>\n",
       "      <td>POLYGON ((658532.268 2281188.589, 658490.299 2...</td>\n",
       "    </tr>\n",
       "  </tbody>\n",
       "</table>\n",
       "</div>"
      ],
      "text/plain": [
       "  cve_ent        cvegeo_mza cve_loc cve_mun cve_ageb  ambito tipomza  pobtot  \\\n",
       "0      14  1412000017281012    0001     120     7281  Urbana  Típica      12   \n",
       "1      14  1412000017309035    0001     120     7309  Urbana  Típica      16   \n",
       "2      14  1412000017281017    0001     120     7281  Urbana  Típica       3   \n",
       "3      14  1412000017281018    0001     120     7281  Urbana  Típica       6   \n",
       "4      14  141200001707A006    0001     120     707A  Urbana  Típica      41   \n",
       "\n",
       "                                            geometry  \n",
       "0  POLYGON ((657972.987 2284179.200, 657966.813 2...  \n",
       "1  POLYGON ((658109.884 2282416.965, 658167.300 2...  \n",
       "2  POLYGON ((658172.834 2284308.737, 658187.787 2...  \n",
       "3  POLYGON ((658122.348 2284303.687, 658124.738 2...  \n",
       "4  POLYGON ((658532.268 2281188.589, 658490.299 2...  "
      ]
     },
     "execution_count": 32,
     "metadata": {},
     "output_type": "execute_result"
    }
   ],
   "source": [
    "schema = \"sociodemografico\"\n",
    "table = \"censo_inegi_20_mza\"\n",
    "\n",
    "entidad = \"cve_ent\"\n",
    "localidad = \"cve_loc\"\n",
    "municipio = \"cve_mun\"\n",
    "manzana = \"cvegeo_mza\"\n",
    "ageb = \"cve_ageb\"\n",
    "ambito = \"ambito\"\n",
    "tipomza = \"tipomza\"\n",
    "pobtot = \"pobtot\"\n",
    "\n",
    "query_censo = f\"\"\"\n",
    "SELECT \n",
    "\"{entidad}\",\n",
    "\"{manzana}\",\n",
    "\"{localidad}\",\n",
    "\"{municipio}\",\n",
    "\"{ageb}\",\n",
    "\"{ambito}\",\n",
    "\"{tipomza}\",\n",
    "\"{pobtot}\",\n",
    "\"geometry\"\n",
    "FROM {schema}.{table}\n",
    "WHERE ST_Intersects(\n",
    "  ST_Transform(geometry, 32613),  -- Transformar geometría de DENUE a 32613 \n",
    "  ST_GeomFromText('{poly_wkt}', 32613)  -- Usar el polígono en 32613\n",
    ")\n",
    "\"\"\"\n",
    "\n",
    "# Ejecutar la consulta y cargar los datos en un GeoDataFrame\n",
    "censo_denue = aup.gdf_from_query(query_censo, geometry_col='geometry')\n",
    "censo_denue = censo_denue.to_crs(\"EPSG:32613\")\n",
    "\n",
    "print(censo_denue.shape)\n",
    "censo_denue.head()"
   ]
  },
  {
   "cell_type": "markdown",
   "id": "93815436-2873-4871-a121-327b11d13351",
   "metadata": {},
   "source": [
    "### Contabilizar cuántas personas hay ejerciendo cada actividad económica"
   ]
  },
  {
   "cell_type": "code",
   "execution_count": 33,
   "id": "3c79b505-ec13-46f8-989a-bbfd1bd077aa",
   "metadata": {},
   "outputs": [],
   "source": [
    "def number_of_jobs(per_ocu):\n",
    "    jobs_dict = {'0 a 5 personas':3,\n",
    "                '6 a 10 personas':8,\n",
    "                '11 a 30 personas':20,\n",
    "                '31 a 50 personas':40,\n",
    "                '51 a 100 personas':75,\n",
    "                '101 a 250 personas':175,\n",
    "                '251 y más personas':325}\n",
    "    per_ocu_num = jobs_dict[per_ocu]\n",
    "    return per_ocu_num"
   ]
  },
  {
   "cell_type": "code",
   "execution_count": 34,
   "id": "8b0dd67e-dac3-48b3-8e86-f64ed629a56f",
   "metadata": {},
   "outputs": [
    {
     "data": {
      "text/html": [
       "<div>\n",
       "<style scoped>\n",
       "    .dataframe tbody tr th:only-of-type {\n",
       "        vertical-align: middle;\n",
       "    }\n",
       "\n",
       "    .dataframe tbody tr th {\n",
       "        vertical-align: top;\n",
       "    }\n",
       "\n",
       "    .dataframe thead th {\n",
       "        text-align: right;\n",
       "    }\n",
       "</style>\n",
       "<table border=\"1\" class=\"dataframe\">\n",
       "  <thead>\n",
       "    <tr style=\"text-align: right;\">\n",
       "      <th></th>\n",
       "      <th>id</th>\n",
       "      <th>cve_ent</th>\n",
       "      <th>cve_loc</th>\n",
       "      <th>manzana</th>\n",
       "      <th>cve_mun</th>\n",
       "      <th>latitud</th>\n",
       "      <th>longitud</th>\n",
       "      <th>codigo_act</th>\n",
       "      <th>ageb</th>\n",
       "      <th>per_ocu</th>\n",
       "      <th>geometry</th>\n",
       "      <th>tipo_act</th>\n",
       "      <th>cod_16d</th>\n",
       "      <th>per_ocu_num</th>\n",
       "    </tr>\n",
       "  </thead>\n",
       "  <tbody>\n",
       "    <tr>\n",
       "      <th>0</th>\n",
       "      <td>6146774</td>\n",
       "      <td>14</td>\n",
       "      <td>0001</td>\n",
       "      <td>025</td>\n",
       "      <td>120</td>\n",
       "      <td>20.64506</td>\n",
       "      <td>-103.446555</td>\n",
       "      <td>236211</td>\n",
       "      <td>1691</td>\n",
       "      <td>11 a 30 personas</td>\n",
       "      <td>POINT (661841.315 2283639.961)</td>\n",
       "      <td>Industria</td>\n",
       "      <td>14-120-0001-1691-025</td>\n",
       "      <td>20</td>\n",
       "    </tr>\n",
       "    <tr>\n",
       "      <th>1</th>\n",
       "      <td>6146774</td>\n",
       "      <td>14</td>\n",
       "      <td>0001</td>\n",
       "      <td>025</td>\n",
       "      <td>120</td>\n",
       "      <td>20.64506</td>\n",
       "      <td>-103.446555</td>\n",
       "      <td>236211</td>\n",
       "      <td>1691</td>\n",
       "      <td>11 a 30 personas</td>\n",
       "      <td>POINT (661841.315 2283639.961)</td>\n",
       "      <td>Industria</td>\n",
       "      <td>14-120-0001-1691-025</td>\n",
       "      <td>20</td>\n",
       "    </tr>\n",
       "  </tbody>\n",
       "</table>\n",
       "</div>"
      ],
      "text/plain": [
       "        id cve_ent cve_loc manzana cve_mun   latitud    longitud codigo_act  \\\n",
       "0  6146774      14    0001     025     120  20.64506 -103.446555     236211   \n",
       "1  6146774      14    0001     025     120  20.64506 -103.446555     236211   \n",
       "\n",
       "   ageb           per_ocu                        geometry   tipo_act  \\\n",
       "0  1691  11 a 30 personas  POINT (661841.315 2283639.961)  Industria   \n",
       "1  1691  11 a 30 personas  POINT (661841.315 2283639.961)  Industria   \n",
       "\n",
       "                cod_16d  per_ocu_num  \n",
       "0  14-120-0001-1691-025           20  \n",
       "1  14-120-0001-1691-025           20  "
      ]
     },
     "execution_count": 34,
     "metadata": {},
     "output_type": "execute_result"
    }
   ],
   "source": [
    "Denue_completo['per_ocu_num'] = Denue_completo.per_ocu.apply(lambda per_ocu: number_of_jobs(per_ocu))\n",
    "Denue_completo.head(2)"
   ]
  },
  {
   "cell_type": "markdown",
   "id": "0e8e4be2-89ad-482a-8441-9a724c629662",
   "metadata": {},
   "source": [
    "### Hacer el match entre las manzanas del denue y las manzanas del censo"
   ]
  },
  {
   "cell_type": "code",
   "execution_count": 36,
   "id": "c52e5012-1ac3-445e-84ea-a54e1b54a748",
   "metadata": {},
   "outputs": [],
   "source": [
    "censo_denue.rename(columns = {\"cve_ageb\": \"ageb\"} , inplace = True)\n",
    "censo_denue.rename(columns = {\"cvegeo_mza\": \"manzana\"} , inplace = True)"
   ]
  },
  {
   "cell_type": "code",
   "execution_count": 55,
   "id": "6042a327-d2de-4380-ab56-1d11be18d87f",
   "metadata": {},
   "outputs": [],
   "source": [
    "# Claves únicas del DENUE (para verificar coincidencias)\n",
    "claves_denue = Denue_completo[\n",
    "    ['cve_ent', 'cve_mun', 'cve_loc', 'ageb', 'manzana']]"
   ]
  },
  {
   "cell_type": "code",
   "execution_count": 59,
   "id": "37b43693-bf6e-4ab2-a2f0-e43efdd25138",
   "metadata": {},
   "outputs": [],
   "source": [
    "# Añadir columna binaria (1 si existe en DENUE, 0 si no)\n",
    "censo_denue['tiene_denue'] = censo_denue.apply(\n",
    "    lambda row: 1 if (\n",
<<<<<<< HEAD
    "        (claves_denue['cod_16d'] == row['manzana'])\n",
=======
    "        (claves_denue['manzana'] == row['manzana'])\n",
>>>>>>> 1a332bbab5f5c27d0639afbd859c4ec088640fe3
    "    ).any() else 0,\n",
    "    axis=1\n",
    ")"
   ]
  },
  {
   "cell_type": "code",
   "execution_count": 60,
   "id": "3ca02e85-0957-4b7f-8926-5ecd6f07f96c",
   "metadata": {},
   "outputs": [
    {
     "data": {
      "text/html": [
       "<div>\n",
       "<style scoped>\n",
       "    .dataframe tbody tr th:only-of-type {\n",
       "        vertical-align: middle;\n",
       "    }\n",
       "\n",
       "    .dataframe tbody tr th {\n",
       "        vertical-align: top;\n",
       "    }\n",
       "\n",
       "    .dataframe thead th {\n",
       "        text-align: right;\n",
       "    }\n",
       "</style>\n",
       "<table border=\"1\" class=\"dataframe\">\n",
       "  <thead>\n",
       "    <tr style=\"text-align: right;\">\n",
       "      <th></th>\n",
       "      <th>cve_ent</th>\n",
       "      <th>manzana</th>\n",
       "      <th>cve_loc</th>\n",
       "      <th>cve_mun</th>\n",
       "      <th>ageb</th>\n",
       "      <th>ambito</th>\n",
       "      <th>tipomza</th>\n",
       "      <th>pobtot</th>\n",
       "      <th>geometry</th>\n",
       "      <th>tiene_denue</th>\n",
       "    </tr>\n",
       "  </thead>\n",
       "  <tbody>\n",
       "    <tr>\n",
       "      <th>0</th>\n",
       "      <td>14</td>\n",
       "      <td>1412000017281012</td>\n",
       "      <td>0001</td>\n",
       "      <td>120</td>\n",
       "      <td>7281</td>\n",
       "      <td>Urbana</td>\n",
       "      <td>Típica</td>\n",
       "      <td>12</td>\n",
       "      <td>POLYGON ((657972.987 2284179.200, 657966.813 2...</td>\n",
       "      <td>0</td>\n",
       "    </tr>\n",
       "    <tr>\n",
       "      <th>1</th>\n",
       "      <td>14</td>\n",
       "      <td>1412000017309035</td>\n",
       "      <td>0001</td>\n",
       "      <td>120</td>\n",
       "      <td>7309</td>\n",
       "      <td>Urbana</td>\n",
       "      <td>Típica</td>\n",
       "      <td>16</td>\n",
       "      <td>POLYGON ((658109.884 2282416.965, 658167.300 2...</td>\n",
       "      <td>0</td>\n",
       "    </tr>\n",
       "  </tbody>\n",
       "</table>\n",
       "</div>"
      ],
      "text/plain": [
       "  cve_ent           manzana cve_loc cve_mun  ageb  ambito tipomza  pobtot  \\\n",
       "0      14  1412000017281012    0001     120  7281  Urbana  Típica      12   \n",
       "1      14  1412000017309035    0001     120  7309  Urbana  Típica      16   \n",
       "\n",
       "                                            geometry  tiene_denue  \n",
       "0  POLYGON ((657972.987 2284179.200, 657966.813 2...            0  \n",
       "1  POLYGON ((658109.884 2282416.965, 658167.300 2...            0  "
      ]
     },
     "execution_count": 60,
     "metadata": {},
     "output_type": "execute_result"
    }
   ],
   "source": [
    "censo_denue.head(2)"
   ]
  },
  {
   "cell_type": "code",
   "execution_count": 65,
   "id": "5c8f095d-4c50-4b30-b0c7-2c9d624c8bef",
   "metadata": {},
   "outputs": [
    {
     "name": "stdout",
     "output_type": "stream",
     "text": [
      "(1771, 10)\n"
     ]
    },
    {
     "data": {
      "text/html": [
       "<div>\n",
       "<style scoped>\n",
       "    .dataframe tbody tr th:only-of-type {\n",
       "        vertical-align: middle;\n",
       "    }\n",
       "\n",
       "    .dataframe tbody tr th {\n",
       "        vertical-align: top;\n",
       "    }\n",
       "\n",
       "    .dataframe thead th {\n",
       "        text-align: right;\n",
       "    }\n",
       "</style>\n",
       "<table border=\"1\" class=\"dataframe\">\n",
       "  <thead>\n",
       "    <tr style=\"text-align: right;\">\n",
       "      <th></th>\n",
       "      <th>cve_ent</th>\n",
       "      <th>manzana</th>\n",
       "      <th>cve_loc</th>\n",
       "      <th>cve_mun</th>\n",
       "      <th>ageb</th>\n",
       "      <th>ambito</th>\n",
       "      <th>tipomza</th>\n",
       "      <th>pobtot</th>\n",
       "      <th>geometry</th>\n",
       "      <th>tiene_denue</th>\n",
       "    </tr>\n",
       "  </thead>\n",
       "  <tbody>\n",
       "    <tr>\n",
       "      <th>0</th>\n",
       "      <td>14</td>\n",
       "      <td>1412000017281012</td>\n",
       "      <td>0001</td>\n",
       "      <td>120</td>\n",
       "      <td>7281</td>\n",
       "      <td>Urbana</td>\n",
       "      <td>Típica</td>\n",
       "      <td>12</td>\n",
       "      <td>POLYGON ((657972.987 2284179.200, 657966.813 2...</td>\n",
       "      <td>0</td>\n",
       "    </tr>\n",
       "    <tr>\n",
       "      <th>1</th>\n",
       "      <td>14</td>\n",
       "      <td>1412000017309035</td>\n",
       "      <td>0001</td>\n",
       "      <td>120</td>\n",
       "      <td>7309</td>\n",
       "      <td>Urbana</td>\n",
       "      <td>Típica</td>\n",
       "      <td>16</td>\n",
       "      <td>POLYGON ((658109.884 2282416.965, 658167.300 2...</td>\n",
       "      <td>0</td>\n",
       "    </tr>\n",
       "  </tbody>\n",
       "</table>\n",
       "</div>"
      ],
      "text/plain": [
       "  cve_ent           manzana cve_loc cve_mun  ageb  ambito tipomza  pobtot  \\\n",
       "0      14  1412000017281012    0001     120  7281  Urbana  Típica      12   \n",
       "1      14  1412000017309035    0001     120  7309  Urbana  Típica      16   \n",
       "\n",
       "                                            geometry  tiene_denue  \n",
       "0  POLYGON ((657972.987 2284179.200, 657966.813 2...            0  \n",
       "1  POLYGON ((658109.884 2282416.965, 658167.300 2...            0  "
      ]
     },
     "execution_count": 65,
     "metadata": {},
     "output_type": "execute_result"
    }
   ],
   "source": [
    "censo_sin_denue = censo_denue[censo_denue['tiene_denue'] == 0]\n",
    "print(censo_sin_denue.shape)\n",
    "censo_sin_denue.head(2)"
   ]
  },
  {
   "cell_type": "markdown",
   "id": "7f8de599-0908-4ec8-aa59-6db9e4526857",
   "metadata": {},
   "source": [
    "## Crear centroides"
   ]
  },
  {
   "cell_type": "code",
   "execution_count": 77,
   "id": "96663949-ef71-45d5-9b57-888097271ab7",
   "metadata": {},
   "outputs": [
    {
     "name": "stdout",
     "output_type": "stream",
     "text": [
      "Columnas en Denue_completo: ['id', 'cve_ent', 'cve_loc', 'manzana', 'cve_mun', 'latitud', 'longitud', 'codigo_act', 'ageb', 'per_ocu', 'geometry', 'tipo_act', 'cod_16d', 'per_ocu_num']\n",
      "CRS de los datos: True\n"
     ]
    }
   ],
   "source": [
    "print(\"Columnas en Denue_completo:\", Denue_completo.columns.tolist())\n",
    "print(\"CRS de los datos:\", manzanas_gdf.crs == Denue_completo.crs)"
   ]
  },
  {
   "cell_type": "code",
<<<<<<< HEAD
   "execution_count": null,
   "id": "fcfb6798-7b46-4e4e-a172-786e32121c7d",
   "metadata": {},
   "outputs": [],
   "source": [
    "# 1. Crear GeoDataFrame de manzanas con centroides únicos\n",
    "manzanas_gdf = censo_con_denue[\n",
=======
   "execution_count": 79,
   "id": "1f3468e8-8480-4c30-931d-cf0e3ae12e48",
   "metadata": {},
   "outputs": [
    {
     "ename": "KeyError",
     "evalue": "\"['geometry'] not in index\"",
     "output_type": "error",
     "traceback": [
      "\u001b[0;31m---------------------------------------------------------------------------\u001b[0m",
      "\u001b[0;31mKeyError\u001b[0m                                  Traceback (most recent call last)",
      "Cell \u001b[0;32mIn[79], line 2\u001b[0m\n\u001b[1;32m      1\u001b[0m \u001b[38;5;66;03m# 1. Calcular centroides de manzanas (usando censo_denue_filtrado)\u001b[39;00m\n\u001b[0;32m----> 2\u001b[0m manzanas_gdf \u001b[38;5;241m=\u001b[39m \u001b[43mcenso_denue_filtrado\u001b[49m\u001b[43m[\u001b[49m\n\u001b[1;32m      3\u001b[0m \u001b[43m    \u001b[49m\u001b[43m[\u001b[49m\u001b[38;5;124;43m'\u001b[39;49m\u001b[38;5;124;43mcve_ent\u001b[39;49m\u001b[38;5;124;43m'\u001b[39;49m\u001b[43m,\u001b[49m\u001b[43m \u001b[49m\u001b[38;5;124;43m'\u001b[39;49m\u001b[38;5;124;43mcve_mun\u001b[39;49m\u001b[38;5;124;43m'\u001b[39;49m\u001b[43m,\u001b[49m\u001b[43m \u001b[49m\u001b[38;5;124;43m'\u001b[39;49m\u001b[38;5;124;43mcve_loc\u001b[39;49m\u001b[38;5;124;43m'\u001b[39;49m\u001b[43m,\u001b[49m\u001b[43m \u001b[49m\u001b[38;5;124;43m'\u001b[39;49m\u001b[38;5;124;43mageb\u001b[39;49m\u001b[38;5;124;43m'\u001b[39;49m\u001b[43m,\u001b[49m\u001b[43m \u001b[49m\u001b[38;5;124;43m'\u001b[39;49m\u001b[38;5;124;43mmanzana\u001b[39;49m\u001b[38;5;124;43m'\u001b[39;49m\u001b[43m,\u001b[49m\u001b[43m \u001b[49m\u001b[38;5;124;43m'\u001b[39;49m\u001b[38;5;124;43mgeometry\u001b[39;49m\u001b[38;5;124;43m'\u001b[39;49m\u001b[43m]\u001b[49m\n\u001b[1;32m      4\u001b[0m \u001b[43m]\u001b[49m\u001b[38;5;241m.\u001b[39mdrop_duplicates()\n\u001b[1;32m      5\u001b[0m manzanas_gdf[\u001b[38;5;124m'\u001b[39m\u001b[38;5;124mcentroide\u001b[39m\u001b[38;5;124m'\u001b[39m] \u001b[38;5;241m=\u001b[39m manzanas_gdf[\u001b[38;5;124m'\u001b[39m\u001b[38;5;124mgeometry\u001b[39m\u001b[38;5;124m'\u001b[39m]\u001b[38;5;241m.\u001b[39mcentroid\n\u001b[1;32m      7\u001b[0m \u001b[38;5;66;03m# 2. Calcular distancias entre establecimientos DENUE y centroides\u001b[39;00m\n",
      "File \u001b[0;32m/opt/conda/envs/gds/lib/python3.9/site-packages/pandas/core/frame.py:3767\u001b[0m, in \u001b[0;36mDataFrame.__getitem__\u001b[0;34m(self, key)\u001b[0m\n\u001b[1;32m   3765\u001b[0m     \u001b[38;5;28;01mif\u001b[39;00m is_iterator(key):\n\u001b[1;32m   3766\u001b[0m         key \u001b[38;5;241m=\u001b[39m \u001b[38;5;28mlist\u001b[39m(key)\n\u001b[0;32m-> 3767\u001b[0m     indexer \u001b[38;5;241m=\u001b[39m \u001b[38;5;28;43mself\u001b[39;49m\u001b[38;5;241;43m.\u001b[39;49m\u001b[43mcolumns\u001b[49m\u001b[38;5;241;43m.\u001b[39;49m\u001b[43m_get_indexer_strict\u001b[49m\u001b[43m(\u001b[49m\u001b[43mkey\u001b[49m\u001b[43m,\u001b[49m\u001b[43m \u001b[49m\u001b[38;5;124;43m\"\u001b[39;49m\u001b[38;5;124;43mcolumns\u001b[39;49m\u001b[38;5;124;43m\"\u001b[39;49m\u001b[43m)\u001b[49m[\u001b[38;5;241m1\u001b[39m]\n\u001b[1;32m   3769\u001b[0m \u001b[38;5;66;03m# take() does not accept boolean indexers\u001b[39;00m\n\u001b[1;32m   3770\u001b[0m \u001b[38;5;28;01mif\u001b[39;00m \u001b[38;5;28mgetattr\u001b[39m(indexer, \u001b[38;5;124m\"\u001b[39m\u001b[38;5;124mdtype\u001b[39m\u001b[38;5;124m\"\u001b[39m, \u001b[38;5;28;01mNone\u001b[39;00m) \u001b[38;5;241m==\u001b[39m \u001b[38;5;28mbool\u001b[39m:\n",
      "File \u001b[0;32m/opt/conda/envs/gds/lib/python3.9/site-packages/pandas/core/indexes/base.py:5877\u001b[0m, in \u001b[0;36mIndex._get_indexer_strict\u001b[0;34m(self, key, axis_name)\u001b[0m\n\u001b[1;32m   5874\u001b[0m \u001b[38;5;28;01melse\u001b[39;00m:\n\u001b[1;32m   5875\u001b[0m     keyarr, indexer, new_indexer \u001b[38;5;241m=\u001b[39m \u001b[38;5;28mself\u001b[39m\u001b[38;5;241m.\u001b[39m_reindex_non_unique(keyarr)\n\u001b[0;32m-> 5877\u001b[0m \u001b[38;5;28;43mself\u001b[39;49m\u001b[38;5;241;43m.\u001b[39;49m\u001b[43m_raise_if_missing\u001b[49m\u001b[43m(\u001b[49m\u001b[43mkeyarr\u001b[49m\u001b[43m,\u001b[49m\u001b[43m \u001b[49m\u001b[43mindexer\u001b[49m\u001b[43m,\u001b[49m\u001b[43m \u001b[49m\u001b[43maxis_name\u001b[49m\u001b[43m)\u001b[49m\n\u001b[1;32m   5879\u001b[0m keyarr \u001b[38;5;241m=\u001b[39m \u001b[38;5;28mself\u001b[39m\u001b[38;5;241m.\u001b[39mtake(indexer)\n\u001b[1;32m   5880\u001b[0m \u001b[38;5;28;01mif\u001b[39;00m \u001b[38;5;28misinstance\u001b[39m(key, Index):\n\u001b[1;32m   5881\u001b[0m     \u001b[38;5;66;03m# GH 42790 - Preserve name from an Index\u001b[39;00m\n",
      "File \u001b[0;32m/opt/conda/envs/gds/lib/python3.9/site-packages/pandas/core/indexes/base.py:5941\u001b[0m, in \u001b[0;36mIndex._raise_if_missing\u001b[0;34m(self, key, indexer, axis_name)\u001b[0m\n\u001b[1;32m   5938\u001b[0m     \u001b[38;5;28;01mraise\u001b[39;00m \u001b[38;5;167;01mKeyError\u001b[39;00m(\u001b[38;5;124mf\u001b[39m\u001b[38;5;124m\"\u001b[39m\u001b[38;5;124mNone of [\u001b[39m\u001b[38;5;132;01m{\u001b[39;00mkey\u001b[38;5;132;01m}\u001b[39;00m\u001b[38;5;124m] are in the [\u001b[39m\u001b[38;5;132;01m{\u001b[39;00maxis_name\u001b[38;5;132;01m}\u001b[39;00m\u001b[38;5;124m]\u001b[39m\u001b[38;5;124m\"\u001b[39m)\n\u001b[1;32m   5940\u001b[0m not_found \u001b[38;5;241m=\u001b[39m \u001b[38;5;28mlist\u001b[39m(ensure_index(key)[missing_mask\u001b[38;5;241m.\u001b[39mnonzero()[\u001b[38;5;241m0\u001b[39m]]\u001b[38;5;241m.\u001b[39munique())\n\u001b[0;32m-> 5941\u001b[0m \u001b[38;5;28;01mraise\u001b[39;00m \u001b[38;5;167;01mKeyError\u001b[39;00m(\u001b[38;5;124mf\u001b[39m\u001b[38;5;124m\"\u001b[39m\u001b[38;5;132;01m{\u001b[39;00mnot_found\u001b[38;5;132;01m}\u001b[39;00m\u001b[38;5;124m not in index\u001b[39m\u001b[38;5;124m\"\u001b[39m)\n",
      "\u001b[0;31mKeyError\u001b[0m: \"['geometry'] not in index\""
     ]
    }
   ],
   "source": [
    "# 1. Calcular centroides de manzanas (usando censo_denue_filtrado)\n",
    "manzanas_gdf = censo_denue_filtrado[\n",
>>>>>>> 1a332bbab5f5c27d0639afbd859c4ec088640fe3
    "    ['cve_ent', 'cve_mun', 'cve_loc', 'ageb', 'manzana', 'geometry']\n",
    "].drop_duplicates()\n",
    "manzanas_gdf['centroide'] = manzanas_gdf['geometry'].centroid\n",
    "\n",
<<<<<<< HEAD
    "# 2. Calcular distancia entre cada establecimiento y su manzana correspondiente\n",
    "denue_con_distancias = pd.merge(\n",
    "    Denue_completo[['cve_ent', 'cve_mun', 'cve_loc', 'ageb', 'manzana', 'geometry', 'codigo_act', 'per_ocu_num']],\n",
    "    manzanas_gdf[['cve_ent', 'cve_mun', 'cve_loc', 'ageb', 'manzana', 'centroide']],\n",
    "    on=['cve_ent', 'cve_mun', 'cve_loc', 'ageb', 'manzana'],\n",
    "    how='inner'\n",
    ")\n",
    "\n",
    "# 3. Calcular la distancia de cada punto al centroide de su manzana\n",
    "denue_con_distancias['distancia'] = denue_con_distancias['geometry'].distance(denue_con_distancias['centroide'])\n",
    "\n",
    "# 4. Calcular d_mean por manzana\n",
=======
    "# 2. Calcular distancias entre establecimientos DENUE y centroides\n",
    "denue_con_distancias = gpd.sjoin(\n",
    "    Denue_completo[['cve_ent', 'cve_mun', 'cve_loc', 'ageb', 'manzana', 'geometry', 'codigo_act', 'per_ocu_num']],\n",
    "    manzanas_gdf[['cve_ent', 'cve_mun', 'cve_loc', 'ageb', 'manzana', 'centroide', 'geometry']],\n",
    "    how='left',\n",
    "    predicate='within'\n",
    ")\n",
    "\n",
    "# Calcular distancia (en metros si el CRS es proyectado)\n",
    "denue_con_distancias['distancia'] = denue_con_distancias['geometry'].distance(denue_con_distancias['centroide'])\n",
    "\n",
    "# 3. Calcular d_mean (promedio simple por manzana)\n",
>>>>>>> 1a332bbab5f5c27d0639afbd859c4ec088640fe3
    "d_mean_por_manzana = denue_con_distancias.groupby(\n",
    "    ['cve_ent', 'cve_mun', 'cve_loc', 'ageb', 'manzana']\n",
    ")['distancia'].mean().reset_index(name='d_mean')\n",
    "\n",
<<<<<<< HEAD
    "# 5. Agregar d_mean a manzanas_gdf\n",
    "manzanas_gdf = manzanas_gdf.merge(d_mean_por_manzana, on=['cve_ent', 'cve_mun', 'cve_loc', 'ageb', 'manzana'], how='left')\n",
    "\n",
    "# 6. Análisis final: por manzana, usando intersección espacial\n",
    "resultados = []\n",
    "for _, manzana in manzanas_gdf.iterrows():\n",
    "    establecimientos = Denue_completo[\n",
    "        Denue_completo['geometry'].within(manzana['geometry'])\n",
=======
    "# 4. Generar buffers (radio = d_mean/2)\n",
    "manzanas_con_buffer = manzanas_gdf.merge(\n",
    "    d_mean_por_manzana,\n",
    "    on=['cve_ent', 'cve_mun', 'cve_loc', 'ageb', 'manzana'],\n",
    "    how='left'\n",
    ")\n",
    "\n",
    "manzanas_con_buffer['buffer'] = manzanas_con_buffer.apply(\n",
    "    lambda row: row['centroide'].buffer(row['d_mean']/2) if not pd.isna(row['d_mean']) else None,\n",
    "    axis=1\n",
    ")\n",
    "\n",
    "# Filtrar manzanas con buffer válido\n",
    "manzanas_con_buffer = manzanas_con_buffer[manzanas_con_buffer['buffer'].notna()].copy()\n",
    "\n",
    "# 5. Analizar establecimientos dentro de cada buffer\n",
    "resultados = []\n",
    "for _, manzana in manzanas_con_buffer.iterrows():\n",
    "    dentro_buffer = Denue_completo[\n",
    "        Denue_completo['geometry'].within(manzana['buffer'])\n",
>>>>>>> 1a332bbab5f5c27d0639afbd859c4ec088640fe3
    "    ]\n",
    "    \n",
    "    resultados.append({\n",
    "        'cve_ent': manzana['cve_ent'],\n",
    "        'cve_mun': manzana['cve_mun'],\n",
    "        'cve_loc': manzana['cve_loc'],\n",
    "        'ageb': manzana['ageb'],\n",
    "        'manzana': manzana['manzana'],\n",
    "        'd_mean': manzana['d_mean'],\n",
<<<<<<< HEAD
    "        'total_establecimientos': len(establecimientos),\n",
    "        'actividades_diferentes': establecimientos['codigo_act'].nunique(),\n",
    "        'per_ocu_total': establecimientos['per_ocu_num'].sum(),\n",
    "        'geometry': manzana['geometry']\n",
    "    })\n",
    "\n",
    "# 7. Crear GeoDataFrame final\n",
    "analisis_final = gpd.GeoDataFrame(resultados, geometry='geometry', crs=manzanas_gdf.crs)\n",
    "\n",
    "# 8. Estadísticas generales\n",
    "print(\"\\nResumen de análisis:\")\n",
    "print(f\"- Total de manzanas analizadas: {len(analisis_final)}\")\n",
    "print(f\"- Promedio d_mean: {analisis_final['d_mean'].mean():.2f} m\")\n",
    "print(f\"- Establecimientos promedio por manzana: {analisis_final['total_establecimientos'].mean():.2f}\")\n",
    "print(f\"- Actividades económicas promedio por manzana: {analisis_final['actividades_diferentes'].mean():.2f}\")\n",
    "print(f\"- Personal ocupado promedio por manzana: {analisis_final['per_ocu_total'].mean():.2f}\")"
=======
    "        'radio_buffer': manzana['d_mean']/2,\n",
    "        'total_establecimientos': len(dentro_buffer),\n",
    "        'actividades_diferentes': dentro_buffer['codigo_act'].nunique(),\n",
    "        'geometry': manzana['buffer']  # Columna geométrica\n",
    "    })\n",
    "\n",
    "# 6. Crear GeoDataFrame final\n",
    "analisis_buffers = gpd.GeoDataFrame(\n",
    "    resultados,\n",
    "    geometry='geometry',\n",
    "    crs=manzanas_gdf.crs\n",
    ")\n",
    "\n",
    "# 7. Resultados y estadísticas\n",
    "print(\"\\nResumen de análisis:\")\n",
    "print(f\"- Manzanas con buffers válidos: {len(analisis_buffers)}\")\n",
    "print(f\"- Radio promedio de buffers: {analisis_buffers['radio_buffer'].mean():.2f} metros\")\n",
    "print(f\"- Establecimientos promedio por buffer: {analisis_buffers['total_establecimientos'].mean():.2f}\")\n",
    "print(f\"- Actividades económicas únicas por buffer: {analisis_buffers['actividades_diferentes'].mean():.2f}\")"
   ]
  },
  {
   "cell_type": "code",
   "execution_count": null,
   "id": "5768866e-6799-49d5-a327-c0d02b2aae7f",
   "metadata": {},
   "outputs": [],
   "source": [
    "analisis_buffers.head(3)"
   ]
  },
  {
   "cell_type": "code",
   "execution_count": null,
   "id": "e6a5fb9f-378a-49a7-bcc3-20336c3e1539",
   "metadata": {},
   "outputs": [],
   "source": [
    "analisis_buffers[\"total_establecimientos\"].unique()"
   ]
  },
  {
   "cell_type": "code",
   "execution_count": null,
   "id": "c0808851-cfc6-4d29-ad04-822f3df63574",
   "metadata": {},
   "outputs": [],
   "source": [
    "analisis_buffers[\"actividades_diferentes\"].unique"
   ]
  },
  {
   "cell_type": "code",
   "execution_count": null,
   "id": "268b94e6-0a01-47e8-b8ae-11ff51080bc1",
   "metadata": {},
   "outputs": [],
   "source": [
    "# Visualización de muestra\n",
    "\n",
    "if not analisis_buffers.empty:\n",
    "    muestra = analisis_buffers.iloc[0] # Visualizamos la primera manzana\n",
    "    \n",
    "    fig, ax = plt.subplots(figsize=(10, 10))\n",
    "    manzanas_gdf[manzanas_gdf['manzana'] == muestra['manzana']].plot(ax=ax, color='lightblue')\n",
    "    gpd.GeoDataFrame(geometry=[muestra['geometria_buffer']]).plot(ax=ax, color='red', alpha=0.3)\n",
    "    Denue_completo_filtrado[\n",
    "        Denue_completo_filtrado['geometry'].within(muestra['geometria_buffer'])\n",
    "    ].plot(ax=ax, color='green', markersize=50)\n",
    "    \n",
    "    plt.title(f\"Manzana {muestra['manzana']}\\nBuffer de radio {muestra['radio_buffer']:.2f}\")\n",
    "    plt.show()"
   ]
  },
  {
   "cell_type": "code",
   "execution_count": null,
   "id": "1d88d7d5-e742-4194-a59d-b5b307061202",
   "metadata": {},
   "outputs": [],
   "source": [
    "# 7. Visualización de relación entre d_mean y per_ocu_num\n",
    "if not censo_denue_final.empty:\n",
    "    import matplotlib.pyplot as plt\n",
    "    plt.figure(figsize=(10, 6))\n",
    "    plt.scatter(censo_denue_final['d_mean'], censo_denue_final['per_ocu_num'], alpha=0.5)\n",
    "    plt.xlabel('Distancia Media Ponderada (d_mean)')\n",
    "    plt.ylabel('Número de Personas Ocupadas (per_ocu_num)')\n",
    "    plt.title('Relación entre Distancia Media y Personas Ocupadas')\n",
    "    plt.show()"
>>>>>>> 1a332bbab5f5c27d0639afbd859c4ec088640fe3
   ]
  }
 ],
 "metadata": {
  "kernelspec": {
   "display_name": "GDS-10.0",
   "language": "python",
   "name": "gds"
  },
  "language_info": {
   "codemirror_mode": {
    "name": "ipython",
    "version": 3
   },
   "file_extension": ".py",
   "mimetype": "text/x-python",
   "name": "python",
   "nbconvert_exporter": "python",
   "pygments_lexer": "ipython3",
   "version": "3.9.18"
  }
 },
 "nbformat": 4,
 "nbformat_minor": 5
}
