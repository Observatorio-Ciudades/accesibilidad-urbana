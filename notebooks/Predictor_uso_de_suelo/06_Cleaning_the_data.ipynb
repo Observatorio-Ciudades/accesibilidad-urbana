{
 "cells": [
  {
   "cell_type": "markdown",
   "id": "aa1a307f-4298-47e5-90c7-a00e58b40840",
   "metadata": {},
   "source": [
    "# Import Libraries"
   ]
  },
  {
   "cell_type": "code",
   "execution_count": 1,
   "id": "3df96cee-5bca-4170-86f6-74d179c16283",
   "metadata": {},
   "outputs": [],
   "source": [
    "import pandas as pd\n",
    "import numpy as np\n",
    "import geopandas as gpd\n",
    "import zipfile"
   ]
  },
  {
   "cell_type": "markdown",
   "id": "908c7ea3-8c6c-42a1-ba2a-2662ed9f3066",
   "metadata": {},
   "source": [
    "# Load the data"
   ]
  },
  {
   "cell_type": "code",
   "execution_count": null,
   "id": "72b8ecd6-ae83-454f-b3bf-0792c9c7b2ff",
   "metadata": {},
   "outputs": [],
   "source": [
    "# Unzip \"Predios_Completos\":\n",
    "zip_path = \"Predios_Completos.zip\"\n",
    "\n",
    "with zipfile.ZipFile(zip_path, 'r') as zip_ref:\n",
    "    zip_ref.extractall()\n",
    "    print(\"Archivos extraídos:\", zip_ref.namelist())"
   ]
  },
  {
   "cell_type": "code",
   "execution_count": 2,
   "id": "f7edb6e9-1619-4278-997c-26cc1adb888f",
   "metadata": {},
   "outputs": [
    {
     "data": {
      "text/html": [
       "<div>\n",
       "<style scoped>\n",
       "    .dataframe tbody tr th:only-of-type {\n",
       "        vertical-align: middle;\n",
       "    }\n",
       "\n",
       "    .dataframe tbody tr th {\n",
       "        vertical-align: top;\n",
       "    }\n",
       "\n",
       "    .dataframe thead th {\n",
       "        text-align: right;\n",
       "    }\n",
       "</style>\n",
       "<table border=\"1\" class=\"dataframe\">\n",
       "  <thead>\n",
       "    <tr style=\"text-align: right;\">\n",
       "      <th></th>\n",
       "      <th>gid</th>\n",
       "      <th>id</th>\n",
       "      <th>distrito</th>\n",
       "      <th>shape_leng</th>\n",
       "      <th>shape_area</th>\n",
       "      <th>UNuso</th>\n",
       "      <th>layer</th>\n",
       "      <th>path</th>\n",
       "      <th>geometry</th>\n",
       "    </tr>\n",
       "  </thead>\n",
       "  <tbody>\n",
       "    <tr>\n",
       "      <th>0</th>\n",
       "      <td>119895</td>\n",
       "      <td>95475.0</td>\n",
       "      <td>2.0</td>\n",
       "      <td>54.193112</td>\n",
       "      <td>130.922608</td>\n",
       "      <td>Habitacional</td>\n",
       "      <td>USOS_DE_SUELO_Z2</td>\n",
       "      <td>/Users/eileenyuen/Downloads/OneDrive_1_30-4-20...</td>\n",
       "      <td>MULTIPOLYGON (((672237.33 2295207.029, 672235....</td>\n",
       "    </tr>\n",
       "    <tr>\n",
       "      <th>1</th>\n",
       "      <td>119896</td>\n",
       "      <td>471562.0</td>\n",
       "      <td>2.0</td>\n",
       "      <td>47.842126</td>\n",
       "      <td>112.073148</td>\n",
       "      <td>Habitacional</td>\n",
       "      <td>USOS_DE_SUELO_Z2</td>\n",
       "      <td>/Users/eileenyuen/Downloads/OneDrive_1_30-4-20...</td>\n",
       "      <td>MULTIPOLYGON (((669537.234 2295451.983, 669520...</td>\n",
       "    </tr>\n",
       "    <tr>\n",
       "      <th>2</th>\n",
       "      <td>119897</td>\n",
       "      <td>53588.0</td>\n",
       "      <td>2.0</td>\n",
       "      <td>54.517475</td>\n",
       "      <td>144.209492</td>\n",
       "      <td>Habitacional</td>\n",
       "      <td>USOS_DE_SUELO_Z2</td>\n",
       "      <td>/Users/eileenyuen/Downloads/OneDrive_1_30-4-20...</td>\n",
       "      <td>MULTIPOLYGON (((671188.527 2293497.949, 671187...</td>\n",
       "    </tr>\n",
       "  </tbody>\n",
       "</table>\n",
       "</div>"
      ],
      "text/plain": [
       "      gid        id  distrito  shape_leng  shape_area         UNuso  \\\n",
       "0  119895   95475.0       2.0   54.193112  130.922608  Habitacional   \n",
       "1  119896  471562.0       2.0   47.842126  112.073148  Habitacional   \n",
       "2  119897   53588.0       2.0   54.517475  144.209492  Habitacional   \n",
       "\n",
       "              layer                                               path  \\\n",
       "0  USOS_DE_SUELO_Z2  /Users/eileenyuen/Downloads/OneDrive_1_30-4-20...   \n",
       "1  USOS_DE_SUELO_Z2  /Users/eileenyuen/Downloads/OneDrive_1_30-4-20...   \n",
       "2  USOS_DE_SUELO_Z2  /Users/eileenyuen/Downloads/OneDrive_1_30-4-20...   \n",
       "\n",
       "                                            geometry  \n",
       "0  MULTIPOLYGON (((672237.33 2295207.029, 672235....  \n",
       "1  MULTIPOLYGON (((669537.234 2295451.983, 669520...  \n",
       "2  MULTIPOLYGON (((671188.527 2293497.949, 671187...  "
      ]
     },
     "execution_count": 2,
     "metadata": {},
     "output_type": "execute_result"
    }
   ],
   "source": [
    "data_all_properties = gpd.read_file(\"predios_completos.gpkg\")\n",
    "data_all_properties.head(3)"
   ]
  },
  {
   "cell_type": "markdown",
   "id": "748936ac-86a7-41c2-845c-b658994d591a",
   "metadata": {},
   "source": [
    "# Checking the \"UNuso\" variable"
   ]
  },
  {
   "cell_type": "code",
   "execution_count": 3,
   "id": "ef5f25ab-a712-4d95-9f2a-08c2fad60304",
   "metadata": {},
   "outputs": [
    {
     "data": {
      "text/plain": [
       "array(['Habitacional', 'Mixto', 'Baldio', None,\n",
       "       'Espacios_verdes_abiertos_y_recreativos',\n",
       "       'Granjas_huertos_y_servicios', 'Sin_dato', 'Comercio',\n",
       "       'Equipamiento_institucional', 'Agropecuario',\n",
       "       'Manufacturas_e_industria', 'Infraestructura',\n",
       "       'Servicios_a_la_industria', 'Forestal', 'Alojamiento_temporal',\n",
       "       'Servicios', 'Area_libre', 'Comercios', 'Industria',\n",
       "       'Servicios_a_la_industria_y_al_comercio', 'Turistico_hotelero',\n",
       "       'Granjas_y_huertos', 'Instalaciones_especiales',\n",
       "       'Actividad_silvestre', 'Sin_uso', 'Actividades_extractivas',\n",
       "       'Comercial', 'Espacios_verdes', 'Turistico_campestre',\n",
       "       'Manufacturas_menores', 'Turistico_ecologico', 'Piscicola',\n",
       "       'Areas_agricolas', 'Servicio',\n",
       "       'Instalaciones_especiales_e_infraestructura_urbana', 'Sin_datos',\n",
       "       'Area_silvestre', 'Areas_silvestres', 'Area_natural_protegida',\n",
       "       'Espacio_verde', 'Area_natural_protegida_nixticuil',\n",
       "       'Sin_datos_o_baldio', 'Cuerpo_de_agua', 'Equipamiento',\n",
       "       'Instalacion_especial', 'Manufacturas_domiciliarias',\n",
       "       'Servicio_a_la_industria'], dtype=object)"
      ]
     },
     "execution_count": 3,
     "metadata": {},
     "output_type": "execute_result"
    }
   ],
   "source": [
    "data_all_properties[\"UNuso\"].unique()"
   ]
  },
  {
   "cell_type": "markdown",
   "id": "7aa3da6d-f782-4d40-9446-f07f1c43260d",
   "metadata": {},
   "source": [
    "### There are many labels that have smilar names to each other. So the ones that share similarity in their names, we are going to join them on a single label"
   ]
  },
  {
   "cell_type": "code",
   "execution_count": 13,
   "id": "b3bf4ca9-52d6-4c8c-a0e7-a325579de4c3",
   "metadata": {},
   "outputs": [
    {
     "name": "stdout",
     "output_type": "stream",
     "text": [
      "Habitacional                                         360723\n",
      "Baldio                                                52839\n",
      "Agropecuario                                          10720\n",
      "Mixto                                                  7178\n",
      "Comercio                                               5116\n",
      "Servicio                                               3580\n",
      "Sin_uso                                                3230\n",
      "Actividades_extractivas                                2458\n",
      "Espacios_verdes_abiertos_y_recreativos                 2372\n",
      "None                                                   2244\n",
      "Servicios                                              1969\n",
      "Area_natural_protegida                                 1908\n",
      "Equipamiento_institucional                             1791\n",
      "Industria                                              1376\n",
      "Comercial                                              1195\n",
      "Espacios_verdes                                        1175\n",
      "Areas_agricolas                                        1122\n",
      "Granjas_y_huertos                                      1014\n",
      "Sin_dato                                                846\n",
      "Actividad_silvestre                                     818\n",
      "Granjas_huertos_y_servicios                             648\n",
      "Sin_datos_o_baldio                                      624\n",
      "Comercios                                               595\n",
      "Turistico_campestre                                     553\n",
      "Infraestructura                                         547\n",
      "Espacio_verde                                           239\n",
      "Equipamiento                                            188\n",
      "Instalaciones_especiales                                178\n",
      "Servicios_a_la_industria                                139\n",
      "Area_natural_protegida_nixticuil                        107\n",
      "Manufacturas_e_industria                                 93\n",
      "Turistico_hotelero                                       62\n",
      "Servicios_a_la_industria_y_al_comercio                   43\n",
      "Area_silvestre                                           32\n",
      "Forestal                                                 19\n",
      "Area_libre                                               19\n",
      "Areas_silvestres                                         17\n",
      "Manufacturas_menores                                     16\n",
      "Instalaciones_especiales_e_infraestructura_urbana        15\n",
      "Servicio_a_la_industria                                  15\n",
      "Alojamiento_temporal                                      6\n",
      "Sin_datos                                                 3\n",
      "Piscicola                                                 2\n",
      "Instalacion_especial                                      2\n",
      "Turistico_ecologico                                       1\n",
      "Cuerpo_de_agua                                            1\n",
      "Manufacturas_domiciliarias                                1\n",
      "Name: UNuso, dtype: int64\n"
     ]
    }
   ],
   "source": [
    "# Ver todas las categorías únicas y su frecuencia\n",
    "print(data_all_properties[\"UNuso\"].value_counts(dropna=False))"
   ]
  },
  {
   "cell_type": "markdown",
   "id": "bc3c5b8b-73b8-4b72-a26a-55a6fb779310",
   "metadata": {},
   "source": [
    "#### Checking the frequency of certain labels (and also their complete names) that have similar meaning"
   ]
  },
  {
   "cell_type": "code",
   "execution_count": 4,
   "id": "c5dfcdda-8905-46d0-b5d9-f74ede875f13",
   "metadata": {},
   "outputs": [
    {
     "name": "stdout",
     "output_type": "stream",
     "text": [
      "['Comercio', 'Comercios', 'Servicios_a_la_industria_y_al_comercio', 'Comercial']\n"
     ]
    }
   ],
   "source": [
    "# Encontrar todas las categorías que contengan \"comer\"\n",
    "comercial_pattern = [x for x in data_all_properties[\"UNuso\"].unique() \n",
    "                    if x and any(word in str(x).lower() for word in ['comer', 'comerc'])]\n",
    "print(comercial_pattern)"
   ]
  },
  {
   "cell_type": "code",
   "execution_count": 5,
   "id": "4df75e3d-6804-4212-b2bd-ba6e4dd3608e",
   "metadata": {},
   "outputs": [
    {
     "name": "stdout",
     "output_type": "stream",
     "text": [
      "['Comercio', 'Comercios', 'Servicios_a_la_industria_y_al_comercio', 'Comercial']\n"
     ]
    }
   ],
   "source": [
    "# Encontrar todas las categorías que contengan \"comer\"\n",
    "services_pattern = [x for x in data_all_properties[\"UNuso\"].unique() \n",
    "                    if x and any(word in str(x).lower() for word in ['serv', 'servi'])]\n",
    "print(comercial_pattern)"
   ]
  },
  {
   "cell_type": "code",
   "execution_count": 6,
   "id": "f3b24afe-487d-4584-b846-c5b9db23b74d",
   "metadata": {},
   "outputs": [
    {
     "name": "stdout",
     "output_type": "stream",
     "text": [
      "['Comercio', 'Comercios', 'Servicios_a_la_industria_y_al_comercio', 'Comercial']\n"
     ]
    }
   ],
   "source": [
    "# Encontrar todas las categorías que contengan \"comer\"\n",
    "turism_pattern = [x for x in data_all_properties[\"UNuso\"].unique() \n",
    "                    if x and any(word in str(x).lower() for word in ['turi'])]\n",
    "print(comercial_pattern)"
   ]
  },
  {
   "cell_type": "code",
   "execution_count": 7,
   "id": "81ac9055-ad1f-4c1e-adf1-2448388538e8",
   "metadata": {},
   "outputs": [
    {
     "name": "stdout",
     "output_type": "stream",
     "text": [
      "['Comercio', 'Comercios', 'Servicios_a_la_industria_y_al_comercio', 'Comercial']\n"
     ]
    }
   ],
   "source": [
    "# Encontrar todas las categorías que contengan \"comer\"\n",
    "green_pattern = [x for x in data_all_properties[\"UNuso\"].unique() \n",
    "                    if x and any(word in str(x).lower() for word in ['verde'])]\n",
    "print(comercial_pattern)"
   ]
  },
  {
   "cell_type": "code",
   "execution_count": 8,
   "id": "d27889fe-7f26-4476-aad5-c07970765606",
   "metadata": {},
   "outputs": [
    {
     "name": "stdout",
     "output_type": "stream",
     "text": [
      "['Comercio', 'Comercios', 'Servicios_a_la_industria_y_al_comercio', 'Comercial']\n"
     ]
    }
   ],
   "source": [
    "# Encontrar todas las categorías que contengan \"comer\"\n",
    "natural_area_pattern = [x for x in data_all_properties[\"UNuso\"].unique() \n",
    "                    if x and any(word in str(x).lower() for word in ['natural'])]\n",
    "print(comercial_pattern)"
   ]
  },
  {
   "cell_type": "code",
   "execution_count": 11,
   "id": "d0590ddd-0bce-4a8a-a4fb-96d061f8226b",
   "metadata": {},
   "outputs": [],
   "source": [
    "# Diccionario de mapeo para consolidar categorías\n",
    "mapeo = {\n",
    "    # Consolidación de categorías comerciales\n",
    "    'Comercio': 'Comercial',\n",
    "    'Comercios': 'Comercial',\n",
    "    \n",
    "    # Consolidación de categorías de servicios\n",
    "    'Servicios': 'Servicio',\n",
    "    'Servicios_a_la_industria': 'Servicio_a_la_industria',\n",
    "    'Servicios_a_la_industria_y_al_comercio': 'Servicio_a_la_industria',\n",
    "    \n",
    "    # Consolidación de categorías de espacios verdes\n",
    "    'Espacios_verdes': 'Espacio_verde',\n",
    "    'Espacios_verdes_abiertos_y_recreativos': 'Espacio_verde',\n",
    "    \n",
    "    # Consolidación de categorías de granjas/huertos\n",
    "    'Granjas_huertos_y_servicios': 'Granjas_y_huertos',\n",
    "    'Agropecuario': 'Granjas_y_huertos',\n",
    "    'Areas_agrícolas': 'Granjas_y_huertos',\n",
    "    'Piscicola': 'Granjas_y_huertos',\n",
    "    'Forestal': 'Granjas_y_huertos',\n",
    "    \n",
    "    \n",
    "    # Consolidación de categorías silvestres\n",
    "    'Area_silvestre': 'Areas_silvestres',\n",
    "    'Actividad_silvestre': 'Areas_silvestres',\n",
    "    \n",
    "    # Consolidación de categorías de sin dato\n",
    "    'Sin_dato': 'Sin_datos',\n",
    "\n",
    "    # Baldio\n",
    "    'Sin_datos_o_baldio': 'Baldio',\n",
    "    \n",
    "    # Consolidación de categorías de instalaciones\n",
    "    'Instalacion_especial': 'Instalaciones_especiales',\n",
    "    'Instalaciones_especiales_e_infraestructura_urbana': 'Instalaciones_especiales',\n",
    "    \n",
    "    # Consolidación de categorías manufactureras\n",
    "    'Manufacturas_e_industria': 'Manufacturas', # Renombrar a \"manufacturas\"\n",
    "    'Manufacturas_domiciliarias': 'Manufacturas',\n",
    "    'Manufacturas_menores': 'Manufacturas',\n",
    "    \n",
    "    # Consolidación de categorías turísticas\n",
    "    'Turistico_hotelero': 'Turistico',\n",
    "    'Turistico_campestre': 'Turistico',\n",
    "    'Turistico_ecologico': 'Turistico',\n",
    "\n",
    "    # Consolidación de áreas naturales protegidas\n",
    "    'Area_natural_protegida_nixticuil': 'Area_natural_protegida'\n",
    "}"
   ]
  },
  {
   "cell_type": "code",
   "execution_count": 18,
   "id": "faa0a874-f7a9-4647-b823-87acef1ad5d8",
   "metadata": {},
   "outputs": [
    {
     "name": "stdout",
     "output_type": "stream",
     "text": [
      "['Habitacional' 'Mixto' 'Baldio' None 'Espacio_verde' 'Granjas_y_huertos'\n",
      " 'Sin_datos' 'Comercial' 'Equipamiento_institucional' 'Manufacturas'\n",
      " 'Infraestructura' 'Servicio_a_la_industria' 'Alojamiento_temporal'\n",
      " 'Servicio' 'Area_libre' 'Industria' 'Turistico'\n",
      " 'Instalaciones_especiales' 'Areas_silvestres' 'Sin_uso'\n",
      " 'Actividades_extractivas' 'Areas_agricolas' 'Area_natural_protegida'\n",
      " 'Cuerpo_de_agua' 'Equipamiento']\n"
     ]
    }
   ],
   "source": [
    "# Usando el mismo diccionario de mapeo que definimos antes\n",
    "# Mantiene los valores originales para los casos donde no hay coincidencia en el mapeo\n",
    "data_all_properties[\"UNuso_consolidado\"] = data_all_properties[\"UNuso\"].map(mapeo).fillna(data_all_properties[\"UNuso\"]) \n",
    "\n",
    "# Verificar los resultados\n",
    "print(data_all_properties[\"UNuso_consolidado\"].unique())"
   ]
  },
  {
   "cell_type": "code",
   "execution_count": 21,
   "id": "80a5b9dc-77c4-424d-8272-3f48fd548647",
   "metadata": {},
   "outputs": [
    {
     "data": {
      "text/plain": [
       "['gid',\n",
       " 'id',\n",
       " 'distrito',\n",
       " 'shape_leng',\n",
       " 'shape_area',\n",
       " 'UNuso',\n",
       " 'layer',\n",
       " 'path',\n",
       " 'geometry',\n",
       " 'UNuso_consolidado']"
      ]
     },
     "execution_count": 21,
     "metadata": {},
     "output_type": "execute_result"
    }
   ],
   "source": [
    "data_cleaned = data_all_properties.copy()\n",
    "data_cleaned.columns.tolist()"
   ]
  },
  {
   "cell_type": "code",
   "execution_count": 31,
   "id": "fe7fe852-4f1a-480c-8aff-cc66d0de78ea",
   "metadata": {},
   "outputs": [],
   "source": [
    "data_cleaned.drop(columns = ['UNuso'], inplace = True) # Eliminar la antigua columna con los datos desagregados\n",
    "data_cleaned.rename(columns = {'UNuso_consolidado': 'UNuso'}, inplace = True)"
   ]
  },
  {
   "cell_type": "code",
   "execution_count": 32,
   "id": "40a2c36b-67ca-4f4b-8c45-cbd4fb90da1b",
   "metadata": {},
   "outputs": [
    {
     "data": {
      "text/plain": [
       "['gid',\n",
       " 'id',\n",
       " 'distrito',\n",
       " 'shape_leng',\n",
       " 'shape_area',\n",
       " 'layer',\n",
       " 'path',\n",
       " 'geometry',\n",
       " 'UNuso']"
      ]
     },
     "execution_count": 32,
     "metadata": {},
     "output_type": "execute_result"
    }
   ],
   "source": [
    "data_cleaned.columns.to_list() # Comprobar resultado"
   ]
  },
  {
   "cell_type": "code",
   "execution_count": 33,
   "id": "a0745433-5ad4-4484-aa94-be6ee28ded6f",
   "metadata": {},
   "outputs": [
    {
     "name": "stdout",
     "output_type": "stream",
     "text": [
      "Nulos: 2244\n",
      "Valores 'Sin sin uso': 3230\n"
     ]
    }
   ],
   "source": [
    "# Verificar datos faltantes y valores especiales\n",
    "print(f\"Nulos: {data_all_properties['UNuso'].isna().sum()}\")\n",
    "print(f\"Valores 'Sin sin uso': {(data_all_properties['UNuso'] == 'Sin_uso').sum()}\")"
   ]
  }
 ],
 "metadata": {
  "kernelspec": {
   "display_name": "GDS-10.0",
   "language": "python",
   "name": "gds"
  },
  "language_info": {
   "codemirror_mode": {
    "name": "ipython",
    "version": 3
   },
   "file_extension": ".py",
   "mimetype": "text/x-python",
   "name": "python",
   "nbconvert_exporter": "python",
   "pygments_lexer": "ipython3",
   "version": "3.9.18"
  }
 },
 "nbformat": 4,
 "nbformat_minor": 5
}
