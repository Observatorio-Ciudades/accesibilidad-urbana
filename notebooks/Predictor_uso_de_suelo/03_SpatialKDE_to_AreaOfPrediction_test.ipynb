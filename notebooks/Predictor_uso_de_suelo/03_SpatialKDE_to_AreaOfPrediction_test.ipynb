{
 "cells": [
  {
   "cell_type": "markdown",
   "id": "a6b3cd26-0eb5-4f77-8f7c-7c516f77c472",
   "metadata": {},
   "source": [
    "# Spatial KDE to Area of Prediction"
   ]
  },
  {
   "cell_type": "markdown",
   "id": "37e57381-fe8f-41dd-a4cf-7a92f1e67e9a",
   "metadata": {},
   "source": [
    "This notebook integrates the outputs from notebook 01 and 02. In it, the Spatial KDE raster data for each block and economic activity is integrated to the Area of prediction generated through the morphology analysis generated for each block using Google buildings."
   ]
  },
  {
   "cell_type": "markdown",
   "id": "a029e731-f5e3-48b3-9520-1daa11b6cdce",
   "metadata": {},
   "source": [
    "## Import libraries"
   ]
  },
  {
   "cell_type": "code",
   "execution_count": 1,
   "id": "58e03313-3f29-4fec-9f8b-afd87d9aff04",
   "metadata": {},
   "outputs": [],
   "source": [
    "import geopandas as gpd\n",
    "import pandas as pd\n",
    "import numpy as np\n",
    "# import odc\n",
    "import rasterio as ro\n",
    "\n",
    "from shapely.geometry import Point, Polygon\n",
    "\n",
    "import seaborn as sns\n",
    "import matplotlib.pyplot as plt\n",
    "\n",
    "# from typing import Optional\n",
    "from spatial_kde import spatial_kernel_density\n",
    "\n",
    "import warnings\n",
    "warnings.simplefilter(action='ignore', category=FutureWarning)\n",
    "\n",
    "import os\n",
    "import sys\n",
    "\n",
    "module_path = os.path.abspath(os.path.join('../../'))\n",
    "if module_path not in sys.path:\n",
    "    sys.path.append(module_path)\n",
    "    import aup\n",
    "else:\n",
    "    import aup"
   ]
  },
  {
   "cell_type": "markdown",
   "id": "5947b54c-d4f7-455c-b2c7-7a696cd7f0a7",
   "metadata": {},
   "source": [
    "## Data download/read and preprocessing"
   ]
  },
  {
   "cell_type": "markdown",
   "id": "84158367-7d58-40d8-84b2-a09501178762",
   "metadata": {},
   "source": [
    "### Area of analysis"
   ]
  },
  {
   "cell_type": "code",
   "execution_count": 2,
   "id": "4f9f0284-939a-4e5e-bf70-c2ad4e5318ec",
   "metadata": {},
   "outputs": [
    {
     "name": "stdout",
     "output_type": "stream",
     "text": [
      "(1, 4)\n"
     ]
    },
    {
     "data": {
      "text/html": [
       "<div>\n",
       "<style scoped>\n",
       "    .dataframe tbody tr th:only-of-type {\n",
       "        vertical-align: middle;\n",
       "    }\n",
       "\n",
       "    .dataframe tbody tr th {\n",
       "        vertical-align: top;\n",
       "    }\n",
       "\n",
       "    .dataframe thead th {\n",
       "        text-align: right;\n",
       "    }\n",
       "</style>\n",
       "<table border=\"1\" class=\"dataframe\">\n",
       "  <thead>\n",
       "    <tr style=\"text-align: right;\">\n",
       "      <th></th>\n",
       "      <th>id</th>\n",
       "      <th>area</th>\n",
       "      <th>perimeter</th>\n",
       "      <th>geometry</th>\n",
       "    </tr>\n",
       "  </thead>\n",
       "  <tbody>\n",
       "    <tr>\n",
       "      <th>0</th>\n",
       "      <td>0</td>\n",
       "      <td>3.456908e+07</td>\n",
       "      <td>22034.335455</td>\n",
       "      <td>POLYGON ((662437.93 2284457.02, 662421.516 228...</td>\n",
       "    </tr>\n",
       "  </tbody>\n",
       "</table>\n",
       "</div>"
      ],
      "text/plain": [
       "   id          area     perimeter  \\\n",
       "0   0  3.456908e+07  22034.335455   \n",
       "\n",
       "                                            geometry  \n",
       "0  POLYGON ((662437.93 2284457.02, 662421.516 228...  "
      ]
     },
     "execution_count": 2,
     "metadata": {},
     "output_type": "execute_result"
    }
   ],
   "source": [
    "aoa_gdf = gpd.read_file(\"../../data/processed/prediccion_uso_suelo/Distrito_Zona5.geojson\")\n",
    "print(aoa_gdf.shape)\n",
    "aoa_gdf.head(2)"
   ]
  },
  {
   "cell_type": "markdown",
   "id": "85a0d04f-b344-4c15-bd04-e52dfcea3091",
   "metadata": {},
   "source": [
    "### Spatial KDE directory"
   ]
  },
  {
   "cell_type": "code",
   "execution_count": 3,
   "id": "dda9f9f2-beae-4f78-ae92-e8fe19992b66",
   "metadata": {},
   "outputs": [],
   "source": [
    "kde_dir = '../../data/processed/prediccion_uso_suelo/kde_output/'"
   ]
  },
  {
   "cell_type": "markdown",
   "id": "fc4f1d76-7fb9-4500-92d9-435c2531d38d",
   "metadata": {},
   "source": [
    "### Area of prediction"
   ]
  },
  {
   "cell_type": "code",
   "execution_count": 4,
   "id": "bdf2596f-4ce3-4c54-8def-697b1bf51a97",
   "metadata": {},
   "outputs": [
    {
     "name": "stdout",
     "output_type": "stream",
     "text": [
      "(64788, 7)\n"
     ]
    },
    {
     "data": {
      "text/html": [
       "<div>\n",
       "<style scoped>\n",
       "    .dataframe tbody tr th:only-of-type {\n",
       "        vertical-align: middle;\n",
       "    }\n",
       "\n",
       "    .dataframe tbody tr th {\n",
       "        vertical-align: top;\n",
       "    }\n",
       "\n",
       "    .dataframe thead th {\n",
       "        text-align: right;\n",
       "    }\n",
       "</style>\n",
       "<table border=\"1\" class=\"dataframe\">\n",
       "  <thead>\n",
       "    <tr style=\"text-align: right;\">\n",
       "      <th></th>\n",
       "      <th>fid</th>\n",
       "      <th>UNUSO</th>\n",
       "      <th>area_m2</th>\n",
       "      <th>full_plus_code</th>\n",
       "      <th>CVEGEO</th>\n",
       "      <th>bld_area_m2</th>\n",
       "      <th>geometry</th>\n",
       "    </tr>\n",
       "  </thead>\n",
       "  <tbody>\n",
       "    <tr>\n",
       "      <th>0</th>\n",
       "      <td>359</td>\n",
       "      <td>Habitacional</td>\n",
       "      <td>808.230624</td>\n",
       "      <td>75GRMHVR+HHRX</td>\n",
       "      <td>141200001116A008</td>\n",
       "      <td>105.0053</td>\n",
       "      <td>POLYGON ((665738.958 2289088.14, 665738.935 22...</td>\n",
       "    </tr>\n",
       "    <tr>\n",
       "      <th>1</th>\n",
       "      <td>360</td>\n",
       "      <td>Habitacional</td>\n",
       "      <td>439.648229</td>\n",
       "      <td>75GRMHXX+W5F8</td>\n",
       "      <td>141200001116A008</td>\n",
       "      <td>80.8571</td>\n",
       "      <td>POLYGON ((666412.897 2289726.843, 666412.614 2...</td>\n",
       "    </tr>\n",
       "  </tbody>\n",
       "</table>\n",
       "</div>"
      ],
      "text/plain": [
       "   fid         UNUSO     area_m2 full_plus_code            CVEGEO  \\\n",
       "0  359  Habitacional  808.230624  75GRMHVR+HHRX  141200001116A008   \n",
       "1  360  Habitacional  439.648229  75GRMHXX+W5F8  141200001116A008   \n",
       "\n",
       "   bld_area_m2                                           geometry  \n",
       "0     105.0053  POLYGON ((665738.958 2289088.14, 665738.935 22...  \n",
       "1      80.8571  POLYGON ((666412.897 2289726.843, 666412.614 2...  "
      ]
     },
     "execution_count": 4,
     "metadata": {},
     "output_type": "execute_result"
    }
   ],
   "source": [
    "aop_gdf = gpd.read_file('../../data/processed/prediccion_uso_suelo/tess_uso_test.geojson')\n",
    "print(aop_gdf.shape)\n",
    "aop_gdf.head(2)"
   ]
  },
  {
   "cell_type": "markdown",
   "id": "8d001b62-484a-4a15-b7d1-97398189cdfe",
   "metadata": {},
   "source": [
    "### Census data"
   ]
  },
  {
   "cell_type": "code",
   "execution_count": 5,
   "id": "4a21cf61-48ff-4db8-bcad-891ef74763f4",
   "metadata": {},
   "outputs": [],
   "source": [
    "poly_wkt = aoa_gdf.dissolve().geometry.to_wkt()[0]"
   ]
  },
  {
   "cell_type": "code",
   "execution_count": 6,
   "id": "db63197b-b617-4f1a-a42e-af44cd0250b2",
   "metadata": {
    "scrolled": true
   },
   "outputs": [
    {
     "name": "stdout",
     "output_type": "stream",
     "text": [
      "(1826, 3)\n"
     ]
    },
    {
     "data": {
      "text/html": [
       "<div>\n",
       "<style scoped>\n",
       "    .dataframe tbody tr th:only-of-type {\n",
       "        vertical-align: middle;\n",
       "    }\n",
       "\n",
       "    .dataframe tbody tr th {\n",
       "        vertical-align: top;\n",
       "    }\n",
       "\n",
       "    .dataframe thead th {\n",
       "        text-align: right;\n",
       "    }\n",
       "</style>\n",
       "<table border=\"1\" class=\"dataframe\">\n",
       "  <thead>\n",
       "    <tr style=\"text-align: right;\">\n",
       "      <th></th>\n",
       "      <th>cvegeo_mza</th>\n",
       "      <th>pobtot</th>\n",
       "      <th>geometry</th>\n",
       "    </tr>\n",
       "  </thead>\n",
       "  <tbody>\n",
       "    <tr>\n",
       "      <th>0</th>\n",
       "      <td>1403900011274035</td>\n",
       "      <td>368</td>\n",
       "      <td>POLYGON ((666580.993 2287272.531, 666604.924 2...</td>\n",
       "    </tr>\n",
       "    <tr>\n",
       "      <th>1</th>\n",
       "      <td>1403900011274036</td>\n",
       "      <td>384</td>\n",
       "      <td>POLYGON ((666477.605 2287242.897, 666485.728 2...</td>\n",
       "    </tr>\n",
       "    <tr>\n",
       "      <th>2</th>\n",
       "      <td>1403900011043008</td>\n",
       "      <td>136</td>\n",
       "      <td>POLYGON ((666790.839 2287931.492, 666776.664 2...</td>\n",
       "    </tr>\n",
       "    <tr>\n",
       "      <th>3</th>\n",
       "      <td>1403900010562026</td>\n",
       "      <td>34</td>\n",
       "      <td>POLYGON ((666644.174 2288436.014, 666667.842 2...</td>\n",
       "    </tr>\n",
       "    <tr>\n",
       "      <th>4</th>\n",
       "      <td>1403900010562027</td>\n",
       "      <td>58</td>\n",
       "      <td>POLYGON ((666582.8 2288243.358, 666525.87 2288...</td>\n",
       "    </tr>\n",
       "  </tbody>\n",
       "</table>\n",
       "</div>"
      ],
      "text/plain": [
       "         cvegeo_mza  pobtot                                           geometry\n",
       "0  1403900011274035     368  POLYGON ((666580.993 2287272.531, 666604.924 2...\n",
       "1  1403900011274036     384  POLYGON ((666477.605 2287242.897, 666485.728 2...\n",
       "2  1403900011043008     136  POLYGON ((666790.839 2287931.492, 666776.664 2...\n",
       "3  1403900010562026      34  POLYGON ((666644.174 2288436.014, 666667.842 2...\n",
       "4  1403900010562027      58  POLYGON ((666582.8 2288243.358, 666525.87 2288..."
      ]
     },
     "execution_count": 6,
     "metadata": {},
     "output_type": "execute_result"
    }
   ],
   "source": [
    "schema = \"sociodemografico\"\n",
    "table = \"censo_inegi_20_mza\"\n",
    "\n",
    "\n",
    "query_censo = f\"\"\"\n",
    "SELECT \n",
    "\"cvegeo_mza\",\n",
    "\"pobtot\",\n",
    "\"geometry\"\n",
    "FROM {schema}.{table}\n",
    "WHERE ST_Intersects(\n",
    "  ST_Transform(geometry, 32613),  -- Transformar geometría de DENUE a 32613 \n",
    "  ST_GeomFromText('{poly_wkt}', 32613)  -- Usar el polígono en 32613\n",
    ")\n",
    "\"\"\"\n",
    "\n",
    "# Ejecutar la consulta y cargar los datos en un GeoDataFrame\n",
    "block_gdf = aup.gdf_from_query(query_censo, geometry_col='geometry')\n",
    "block_gdf = block_gdf.to_crs(\"EPSG:32613\")\n",
    "\n",
    "print(block_gdf.shape)\n",
    "block_gdf.head()"
   ]
  },
  {
   "cell_type": "markdown",
   "id": "9c8bf26e-db4a-4709-a0f4-d0eaa465fa70",
   "metadata": {},
   "source": [
    "## Data to Area of prediction"
   ]
  },
  {
   "cell_type": "markdown",
   "id": "d1c694b6-db76-483e-b0e0-4990b1f3d3f8",
   "metadata": {},
   "source": [
    "Population data"
   ]
  },
  {
   "cell_type": "code",
   "execution_count": 7,
   "id": "c953dadd-c8e4-4f37-9eaa-1575f1ce5a8c",
   "metadata": {},
   "outputs": [
    {
     "name": "stdout",
     "output_type": "stream",
     "text": [
      "(64788, 8)\n"
     ]
    },
    {
     "data": {
      "text/html": [
       "<div>\n",
       "<style scoped>\n",
       "    .dataframe tbody tr th:only-of-type {\n",
       "        vertical-align: middle;\n",
       "    }\n",
       "\n",
       "    .dataframe tbody tr th {\n",
       "        vertical-align: top;\n",
       "    }\n",
       "\n",
       "    .dataframe thead th {\n",
       "        text-align: right;\n",
       "    }\n",
       "</style>\n",
       "<table border=\"1\" class=\"dataframe\">\n",
       "  <thead>\n",
       "    <tr style=\"text-align: right;\">\n",
       "      <th></th>\n",
       "      <th>fid</th>\n",
       "      <th>UNUSO</th>\n",
       "      <th>area_m2</th>\n",
       "      <th>full_plus_code</th>\n",
       "      <th>CVEGEO</th>\n",
       "      <th>bld_area_m2</th>\n",
       "      <th>geometry</th>\n",
       "      <th>pobtot</th>\n",
       "    </tr>\n",
       "  </thead>\n",
       "  <tbody>\n",
       "    <tr>\n",
       "      <th>0</th>\n",
       "      <td>359</td>\n",
       "      <td>Habitacional</td>\n",
       "      <td>808.230624</td>\n",
       "      <td>75GRMHVR+HHRX</td>\n",
       "      <td>141200001116A008</td>\n",
       "      <td>105.0053</td>\n",
       "      <td>POLYGON ((665738.958 2289088.14, 665738.935 22...</td>\n",
       "      <td>277</td>\n",
       "    </tr>\n",
       "    <tr>\n",
       "      <th>1</th>\n",
       "      <td>360</td>\n",
       "      <td>Habitacional</td>\n",
       "      <td>439.648229</td>\n",
       "      <td>75GRMHXX+W5F8</td>\n",
       "      <td>141200001116A008</td>\n",
       "      <td>80.8571</td>\n",
       "      <td>POLYGON ((666412.897 2289726.843, 666412.614 2...</td>\n",
       "      <td>277</td>\n",
       "    </tr>\n",
       "  </tbody>\n",
       "</table>\n",
       "</div>"
      ],
      "text/plain": [
       "   fid         UNUSO     area_m2 full_plus_code            CVEGEO  \\\n",
       "0  359  Habitacional  808.230624  75GRMHVR+HHRX  141200001116A008   \n",
       "1  360  Habitacional  439.648229  75GRMHXX+W5F8  141200001116A008   \n",
       "\n",
       "   bld_area_m2                                           geometry  pobtot  \n",
       "0     105.0053  POLYGON ((665738.958 2289088.14, 665738.935 22...     277  \n",
       "1      80.8571  POLYGON ((666412.897 2289726.843, 666412.614 2...     277  "
      ]
     },
     "execution_count": 7,
     "metadata": {},
     "output_type": "execute_result"
    }
   ],
   "source": [
    "aop_data = aop_gdf.merge(block_gdf[['cvegeo_mza','pobtot']], left_on='CVEGEO',\n",
    "                        right_on='cvegeo_mza')\n",
    "aop_data = aop_data.drop(columns=['cvegeo_mza'])\n",
    "print(aop_data.shape)\n",
    "aop_data.head(2)"
   ]
  },
  {
   "cell_type": "code",
   "execution_count": 8,
   "id": "050e4a6a-0b3d-45f5-83ce-2abcd22d1035",
   "metadata": {
    "scrolled": true
   },
   "outputs": [
    {
     "name": "stdout",
     "output_type": "stream",
     "text": [
      "(64788, 14)\n"
     ]
    },
    {
     "data": {
      "text/html": [
       "<div>\n",
       "<style scoped>\n",
       "    .dataframe tbody tr th:only-of-type {\n",
       "        vertical-align: middle;\n",
       "    }\n",
       "\n",
       "    .dataframe tbody tr th {\n",
       "        vertical-align: top;\n",
       "    }\n",
       "\n",
       "    .dataframe thead th {\n",
       "        text-align: right;\n",
       "    }\n",
       "</style>\n",
       "<table border=\"1\" class=\"dataframe\">\n",
       "  <thead>\n",
       "    <tr style=\"text-align: right;\">\n",
       "      <th></th>\n",
       "      <th>fid</th>\n",
       "      <th>UNUSO</th>\n",
       "      <th>area_m2</th>\n",
       "      <th>full_plus_code</th>\n",
       "      <th>CVEGEO</th>\n",
       "      <th>bld_area_m2</th>\n",
       "      <th>geometry</th>\n",
       "      <th>cultural_recreativo</th>\n",
       "      <th>servicios</th>\n",
       "      <th>comercio</th>\n",
       "      <th>salud</th>\n",
       "      <th>educación</th>\n",
       "      <th>gobierno</th>\n",
       "      <th>industria</th>\n",
       "    </tr>\n",
       "  </thead>\n",
       "  <tbody>\n",
       "    <tr>\n",
       "      <th>0</th>\n",
       "      <td>359</td>\n",
       "      <td>Habitacional</td>\n",
       "      <td>808.230624</td>\n",
       "      <td>75GRMHVR+HHRX</td>\n",
       "      <td>141200001116A008</td>\n",
       "      <td>105.0053</td>\n",
       "      <td>POLYGON ((665738.958 2289088.14, 665738.935 22...</td>\n",
       "      <td>0.00000</td>\n",
       "      <td>0.0</td>\n",
       "      <td>0.0</td>\n",
       "      <td>0.0</td>\n",
       "      <td>0.0</td>\n",
       "      <td>0.0</td>\n",
       "      <td>0.0</td>\n",
       "    </tr>\n",
       "    <tr>\n",
       "      <th>1</th>\n",
       "      <td>360</td>\n",
       "      <td>Habitacional</td>\n",
       "      <td>439.648229</td>\n",
       "      <td>75GRMHXX+W5F8</td>\n",
       "      <td>141200001116A008</td>\n",
       "      <td>80.8571</td>\n",
       "      <td>POLYGON ((666412.897 2289726.843, 666412.614 2...</td>\n",
       "      <td>0.71869</td>\n",
       "      <td>0.0</td>\n",
       "      <td>0.0</td>\n",
       "      <td>0.0</td>\n",
       "      <td>0.0</td>\n",
       "      <td>0.0</td>\n",
       "      <td>0.0</td>\n",
       "    </tr>\n",
       "    <tr>\n",
       "      <th>2</th>\n",
       "      <td>361</td>\n",
       "      <td>Habitacional</td>\n",
       "      <td>319.166968</td>\n",
       "      <td>75GRMHWW+MCCG</td>\n",
       "      <td>141200001116A008</td>\n",
       "      <td>200.1187</td>\n",
       "      <td>POLYGON ((666216.483 2289377.905, 666216.266 2...</td>\n",
       "      <td>0.00000</td>\n",
       "      <td>0.0</td>\n",
       "      <td>0.0</td>\n",
       "      <td>0.0</td>\n",
       "      <td>0.0</td>\n",
       "      <td>0.0</td>\n",
       "      <td>0.0</td>\n",
       "    </tr>\n",
       "    <tr>\n",
       "      <th>3</th>\n",
       "      <td>362</td>\n",
       "      <td>Espacios_verdes</td>\n",
       "      <td>370.156524</td>\n",
       "      <td>75GRMHWV+HFRH</td>\n",
       "      <td>141200001116A008</td>\n",
       "      <td>219.0486</td>\n",
       "      <td>POLYGON ((665976.886 2289358.227, 665976.25 22...</td>\n",
       "      <td>0.00000</td>\n",
       "      <td>0.0</td>\n",
       "      <td>0.0</td>\n",
       "      <td>0.0</td>\n",
       "      <td>0.0</td>\n",
       "      <td>0.0</td>\n",
       "      <td>0.0</td>\n",
       "    </tr>\n",
       "    <tr>\n",
       "      <th>4</th>\n",
       "      <td>363</td>\n",
       "      <td>Habitacional</td>\n",
       "      <td>431.937230</td>\n",
       "      <td>75GRMHWR+6R4F</td>\n",
       "      <td>141200001116A008</td>\n",
       "      <td>178.5266</td>\n",
       "      <td>POLYGON ((665801.968 2289254.541, 665801.757 2...</td>\n",
       "      <td>0.00000</td>\n",
       "      <td>0.0</td>\n",
       "      <td>0.0</td>\n",
       "      <td>0.0</td>\n",
       "      <td>0.0</td>\n",
       "      <td>0.0</td>\n",
       "      <td>0.0</td>\n",
       "    </tr>\n",
       "  </tbody>\n",
       "</table>\n",
       "</div>"
      ],
      "text/plain": [
       "   fid            UNUSO     area_m2 full_plus_code            CVEGEO  \\\n",
       "0  359     Habitacional  808.230624  75GRMHVR+HHRX  141200001116A008   \n",
       "1  360     Habitacional  439.648229  75GRMHXX+W5F8  141200001116A008   \n",
       "2  361     Habitacional  319.166968  75GRMHWW+MCCG  141200001116A008   \n",
       "3  362  Espacios_verdes  370.156524  75GRMHWV+HFRH  141200001116A008   \n",
       "4  363     Habitacional  431.937230  75GRMHWR+6R4F  141200001116A008   \n",
       "\n",
       "   bld_area_m2                                           geometry  \\\n",
       "0     105.0053  POLYGON ((665738.958 2289088.14, 665738.935 22...   \n",
       "1      80.8571  POLYGON ((666412.897 2289726.843, 666412.614 2...   \n",
       "2     200.1187  POLYGON ((666216.483 2289377.905, 666216.266 2...   \n",
       "3     219.0486  POLYGON ((665976.886 2289358.227, 665976.25 22...   \n",
       "4     178.5266  POLYGON ((665801.968 2289254.541, 665801.757 2...   \n",
       "\n",
       "   cultural_recreativo  servicios  comercio  salud  educación  gobierno  \\\n",
       "0              0.00000        0.0       0.0    0.0        0.0       0.0   \n",
       "1              0.71869        0.0       0.0    0.0        0.0       0.0   \n",
       "2              0.00000        0.0       0.0    0.0        0.0       0.0   \n",
       "3              0.00000        0.0       0.0    0.0        0.0       0.0   \n",
       "4              0.00000        0.0       0.0    0.0        0.0       0.0   \n",
       "\n",
       "   industria  \n",
       "0        0.0  \n",
       "1        0.0  \n",
       "2        0.0  \n",
       "3        0.0  \n",
       "4        0.0  "
      ]
     },
     "execution_count": 8,
     "metadata": {},
     "output_type": "execute_result"
    }
   ],
   "source": [
    "aop_kde = gpd.GeoDataFrame()\n",
    "\n",
    "for cvegeo in aop_gdf.CVEGEO.unique():\n",
    "    kde_block = f'kde_mnz_{cvegeo}'\n",
    "    aop_tmp = aop_gdf.loc[aop_gdf.CVEGEO==cvegeo].copy()\n",
    "\n",
    "    # iterate over every file\n",
    "    for filename in os.listdir(kde_dir):\n",
    "\n",
    "        # gather those corresponding to the specific block\n",
    "        if filename.startswith(kde_block):\n",
    "\n",
    "            # skip complementary raster files\n",
    "            if filename.endswith('.aux.xml'):\n",
    "                continue\n",
    "\n",
    "            kde_act = filename.replace(kde_block+'_',\"\").replace('.tif',\"\").lower()\n",
    "\n",
    "            # read file\n",
    "            raster_kde = ro.open(kde_dir+filename)\n",
    "\n",
    "            aop_tmp[kde_act] = aop_tmp.geometry.apply(lambda geom: aup.clean_mask(geom, raster_kde)).apply(np.ma.mean)\n",
    "\n",
    "    aop_kde = pd.concat([aop_kde, aop_tmp])\n",
    "\n",
    "aop_kde = aop_kde.fillna(0)\n",
    "print(aop_kde.shape)\n",
    "aop_kde.head(5)"
   ]
  },
  {
   "cell_type": "code",
   "execution_count": 9,
   "id": "8ed8e703-238b-4a02-af35-5be0a4aaabad",
   "metadata": {},
   "outputs": [
    {
     "data": {
      "text/plain": [
       "<Axes: >"
      ]
     },
     "execution_count": 9,
     "metadata": {},
     "output_type": "execute_result"
    },
    {
     "data": {
      "image/png": "[encoded data removed]",
      "text/plain": [
       "<Figure size 640x480 with 1 Axes>"
      ]
     },
     "metadata": {},
     "output_type": "display_data"
    }
   ],
   "source": [
    "aop_kde.plot('servicios')"
   ]
  },
  {
   "cell_type": "markdown",
   "id": "eeb741cf-e227-4b52-aa12-545897138d00",
   "metadata": {},
   "source": [
    "Merge data"
   ]
  },
  {
   "cell_type": "code",
   "execution_count": 10,
   "id": "ed053720-3195-4fb4-8c71-b53a3a19e72f",
   "metadata": {},
   "outputs": [
    {
     "name": "stdout",
     "output_type": "stream",
     "text": [
      "(64788, 15)\n"
     ]
    },
    {
     "data": {
      "text/html": [
       "<div>\n",
       "<style scoped>\n",
       "    .dataframe tbody tr th:only-of-type {\n",
       "        vertical-align: middle;\n",
       "    }\n",
       "\n",
       "    .dataframe tbody tr th {\n",
       "        vertical-align: top;\n",
       "    }\n",
       "\n",
       "    .dataframe thead th {\n",
       "        text-align: right;\n",
       "    }\n",
       "</style>\n",
       "<table border=\"1\" class=\"dataframe\">\n",
       "  <thead>\n",
       "    <tr style=\"text-align: right;\">\n",
       "      <th></th>\n",
       "      <th>fid</th>\n",
       "      <th>UNUSO</th>\n",
       "      <th>area_m2</th>\n",
       "      <th>full_plus_code</th>\n",
       "      <th>CVEGEO</th>\n",
       "      <th>bld_area_m2</th>\n",
       "      <th>geometry</th>\n",
       "      <th>pobtot</th>\n",
       "      <th>cultural_recreativo</th>\n",
       "      <th>servicios</th>\n",
       "      <th>comercio</th>\n",
       "      <th>salud</th>\n",
       "      <th>educación</th>\n",
       "      <th>gobierno</th>\n",
       "      <th>industria</th>\n",
       "    </tr>\n",
       "  </thead>\n",
       "  <tbody>\n",
       "    <tr>\n",
       "      <th>0</th>\n",
       "      <td>359</td>\n",
       "      <td>Habitacional</td>\n",
       "      <td>808.230624</td>\n",
       "      <td>75GRMHVR+HHRX</td>\n",
       "      <td>141200001116A008</td>\n",
       "      <td>105.0053</td>\n",
       "      <td>POLYGON ((665738.958 2289088.14, 665738.935 22...</td>\n",
       "      <td>277</td>\n",
       "      <td>0.00000</td>\n",
       "      <td>0.0</td>\n",
       "      <td>0.0</td>\n",
       "      <td>0.0</td>\n",
       "      <td>0.0</td>\n",
       "      <td>0.0</td>\n",
       "      <td>0.0</td>\n",
       "    </tr>\n",
       "    <tr>\n",
       "      <th>1</th>\n",
       "      <td>360</td>\n",
       "      <td>Habitacional</td>\n",
       "      <td>439.648229</td>\n",
       "      <td>75GRMHXX+W5F8</td>\n",
       "      <td>141200001116A008</td>\n",
       "      <td>80.8571</td>\n",
       "      <td>POLYGON ((666412.897 2289726.843, 666412.614 2...</td>\n",
       "      <td>277</td>\n",
       "      <td>0.71869</td>\n",
       "      <td>0.0</td>\n",
       "      <td>0.0</td>\n",
       "      <td>0.0</td>\n",
       "      <td>0.0</td>\n",
       "      <td>0.0</td>\n",
       "      <td>0.0</td>\n",
       "    </tr>\n",
       "  </tbody>\n",
       "</table>\n",
       "</div>"
      ],
      "text/plain": [
       "   fid         UNUSO     area_m2 full_plus_code            CVEGEO  \\\n",
       "0  359  Habitacional  808.230624  75GRMHVR+HHRX  141200001116A008   \n",
       "1  360  Habitacional  439.648229  75GRMHXX+W5F8  141200001116A008   \n",
       "\n",
       "   bld_area_m2                                           geometry  pobtot  \\\n",
       "0     105.0053  POLYGON ((665738.958 2289088.14, 665738.935 22...     277   \n",
       "1      80.8571  POLYGON ((666412.897 2289726.843, 666412.614 2...     277   \n",
       "\n",
       "   cultural_recreativo  servicios  comercio  salud  educación  gobierno  \\\n",
       "0              0.00000        0.0       0.0    0.0        0.0       0.0   \n",
       "1              0.71869        0.0       0.0    0.0        0.0       0.0   \n",
       "\n",
       "   industria  \n",
       "0        0.0  \n",
       "1        0.0  "
      ]
     },
     "execution_count": 10,
     "metadata": {},
     "output_type": "execute_result"
    }
   ],
   "source": [
    "aop_data = aop_data.merge(aop_kde[['fid','cultural_recreativo',\n",
    "                                  'servicios','comercio','salud',\n",
    "                                  'educación','gobierno','industria']])\n",
    "print(aop_data.shape)\n",
    "aop_data.head(2)"
   ]
  },
  {
   "cell_type": "markdown",
   "id": "96477390-40cc-46fe-8276-f3fd0982feae",
   "metadata": {},
   "source": [
    "Calculate land use and population percentages"
   ]
  },
  {
   "cell_type": "code",
   "execution_count": 11,
   "id": "fe16abcd-82b5-441d-8d42-5ec61ffe9d75",
   "metadata": {
    "scrolled": true
   },
   "outputs": [
    {
     "data": {
      "text/html": [
       "<div>\n",
       "<style scoped>\n",
       "    .dataframe tbody tr th:only-of-type {\n",
       "        vertical-align: middle;\n",
       "    }\n",
       "\n",
       "    .dataframe tbody tr th {\n",
       "        vertical-align: top;\n",
       "    }\n",
       "\n",
       "    .dataframe thead th {\n",
       "        text-align: right;\n",
       "    }\n",
       "</style>\n",
       "<table border=\"1\" class=\"dataframe\">\n",
       "  <thead>\n",
       "    <tr style=\"text-align: right;\">\n",
       "      <th></th>\n",
       "      <th>fid</th>\n",
       "      <th>UNUSO</th>\n",
       "      <th>area_m2</th>\n",
       "      <th>full_plus_code</th>\n",
       "      <th>CVEGEO</th>\n",
       "      <th>bld_area_m2</th>\n",
       "      <th>geometry</th>\n",
       "      <th>pobtot</th>\n",
       "      <th>cultural_recreativo</th>\n",
       "      <th>servicios</th>\n",
       "      <th>comercio</th>\n",
       "      <th>salud</th>\n",
       "      <th>educación</th>\n",
       "      <th>gobierno</th>\n",
       "      <th>industria</th>\n",
       "      <th>area_m2_tot</th>\n",
       "      <th>pobtot_relative</th>\n",
       "    </tr>\n",
       "  </thead>\n",
       "  <tbody>\n",
       "    <tr>\n",
       "      <th>0</th>\n",
       "      <td>359</td>\n",
       "      <td>Habitacional</td>\n",
       "      <td>808.230624</td>\n",
       "      <td>75GRMHVR+HHRX</td>\n",
       "      <td>141200001116A008</td>\n",
       "      <td>105.0053</td>\n",
       "      <td>POLYGON ((665738.958 2289088.14, 665738.935 22...</td>\n",
       "      <td>277</td>\n",
       "      <td>0.00000</td>\n",
       "      <td>0.0</td>\n",
       "      <td>0.0</td>\n",
       "      <td>0.0</td>\n",
       "      <td>0.0</td>\n",
       "      <td>0.0</td>\n",
       "      <td>0.0</td>\n",
       "      <td>164117.214173</td>\n",
       "      <td>1.364146</td>\n",
       "    </tr>\n",
       "    <tr>\n",
       "      <th>1</th>\n",
       "      <td>360</td>\n",
       "      <td>Habitacional</td>\n",
       "      <td>439.648229</td>\n",
       "      <td>75GRMHXX+W5F8</td>\n",
       "      <td>141200001116A008</td>\n",
       "      <td>80.8571</td>\n",
       "      <td>POLYGON ((666412.897 2289726.843, 666412.614 2...</td>\n",
       "      <td>277</td>\n",
       "      <td>0.71869</td>\n",
       "      <td>0.0</td>\n",
       "      <td>0.0</td>\n",
       "      <td>0.0</td>\n",
       "      <td>0.0</td>\n",
       "      <td>0.0</td>\n",
       "      <td>0.0</td>\n",
       "      <td>164117.214173</td>\n",
       "      <td>0.742046</td>\n",
       "    </tr>\n",
       "  </tbody>\n",
       "</table>\n",
       "</div>"
      ],
      "text/plain": [
       "   fid         UNUSO     area_m2 full_plus_code            CVEGEO  \\\n",
       "0  359  Habitacional  808.230624  75GRMHVR+HHRX  141200001116A008   \n",
       "1  360  Habitacional  439.648229  75GRMHXX+W5F8  141200001116A008   \n",
       "\n",
       "   bld_area_m2                                           geometry  pobtot  \\\n",
       "0     105.0053  POLYGON ((665738.958 2289088.14, 665738.935 22...     277   \n",
       "1      80.8571  POLYGON ((666412.897 2289726.843, 666412.614 2...     277   \n",
       "\n",
       "   cultural_recreativo  servicios  comercio  salud  educación  gobierno  \\\n",
       "0              0.00000        0.0       0.0    0.0        0.0       0.0   \n",
       "1              0.71869        0.0       0.0    0.0        0.0       0.0   \n",
       "\n",
       "   industria    area_m2_tot  pobtot_relative  \n",
       "0        0.0  164117.214173         1.364146  \n",
       "1        0.0  164117.214173         0.742046  "
      ]
     },
     "execution_count": 11,
     "metadata": {},
     "output_type": "execute_result"
    }
   ],
   "source": [
    "# divide total population by area\n",
    "aop_area = aop_data[['CVEGEO','area_m2']].groupby('CVEGEO').sum().reset_index().rename(columns={'area_m2':'area_m2_tot'})\n",
    "aop_data = aop_data.merge(aop_area, on='CVEGEO')\n",
    "aop_data['pobtot_relative'] = aop_data['pobtot'] * (aop_data['area_m2']/aop_data['area_m2_tot'])\n",
    "aop_data.head(2)"
   ]
  },
  {
   "cell_type": "code",
   "execution_count": 12,
   "id": "6e225524-20a2-47e3-a622-f7080b26355a",
   "metadata": {},
   "outputs": [],
   "source": [
    "aop_data = aop_data.rename(columns={'pobtot_relative':'habitacional',\n",
    "                                   'educación':'educacion'})"
   ]
  },
  {
   "cell_type": "code",
   "execution_count": 13,
   "id": "4ab2a4c9-e805-4948-aab8-0521f66eba12",
   "metadata": {},
   "outputs": [],
   "source": [
    "uso_list = ['habitacional','cultural_recreativo','servicios',\n",
    "           'comercio','salud','educacion','gobierno',\n",
    "           'industria']"
   ]
  },
  {
   "cell_type": "code",
   "execution_count": 14,
   "id": "9e254ef9-5888-4ffe-8628-8c7e74e882d8",
   "metadata": {},
   "outputs": [],
   "source": [
    "aop_data['uso_tot'] = aop_data[uso_list].sum(axis=1)"
   ]
  },
  {
   "cell_type": "code",
   "execution_count": 15,
   "id": "68bb5957-5df8-445d-adc6-2d95001757fa",
   "metadata": {},
   "outputs": [],
   "source": [
    "for us in uso_list:\n",
    "    aop_data['pct_'+us] = aop_data[us]/aop_data['uso_tot']"
   ]
  },
  {
   "cell_type": "code",
   "execution_count": 17,
   "id": "e2bf895a-66c2-41d1-8f8d-92b162031d12",
   "metadata": {
    "scrolled": true
   },
   "outputs": [
    {
     "data": {
      "text/html": [
       "<div>\n",
       "<style scoped>\n",
       "    .dataframe tbody tr th:only-of-type {\n",
       "        vertical-align: middle;\n",
       "    }\n",
       "\n",
       "    .dataframe tbody tr th {\n",
       "        vertical-align: top;\n",
       "    }\n",
       "\n",
       "    .dataframe thead th {\n",
       "        text-align: right;\n",
       "    }\n",
       "</style>\n",
       "<table border=\"1\" class=\"dataframe\">\n",
       "  <thead>\n",
       "    <tr style=\"text-align: right;\">\n",
       "      <th></th>\n",
       "      <th>fid</th>\n",
       "      <th>UNUSO</th>\n",
       "      <th>area_m2</th>\n",
       "      <th>full_plus_code</th>\n",
       "      <th>CVEGEO</th>\n",
       "      <th>bld_area_m2</th>\n",
       "      <th>geometry</th>\n",
       "      <th>pobtot</th>\n",
       "      <th>cultural_recreativo</th>\n",
       "      <th>servicios</th>\n",
       "      <th>...</th>\n",
       "      <th>habitacional</th>\n",
       "      <th>uso_tot</th>\n",
       "      <th>pct_habitacional</th>\n",
       "      <th>pct_cultural_recreativo</th>\n",
       "      <th>pct_servicios</th>\n",
       "      <th>pct_comercio</th>\n",
       "      <th>pct_salud</th>\n",
       "      <th>pct_educacion</th>\n",
       "      <th>pct_gobierno</th>\n",
       "      <th>pct_industria</th>\n",
       "    </tr>\n",
       "  </thead>\n",
       "  <tbody>\n",
       "    <tr>\n",
       "      <th>0</th>\n",
       "      <td>359</td>\n",
       "      <td>Habitacional</td>\n",
       "      <td>808.230624</td>\n",
       "      <td>75GRMHVR+HHRX</td>\n",
       "      <td>141200001116A008</td>\n",
       "      <td>105.0053</td>\n",
       "      <td>POLYGON ((665738.958 2289088.14, 665738.935 22...</td>\n",
       "      <td>277</td>\n",
       "      <td>0.00000</td>\n",
       "      <td>0.0</td>\n",
       "      <td>...</td>\n",
       "      <td>1.364146</td>\n",
       "      <td>1.364146</td>\n",
       "      <td>1.000000</td>\n",
       "      <td>0.000000</td>\n",
       "      <td>0.0</td>\n",
       "      <td>0.0</td>\n",
       "      <td>0.0</td>\n",
       "      <td>0.0</td>\n",
       "      <td>0.0</td>\n",
       "      <td>0.0</td>\n",
       "    </tr>\n",
       "    <tr>\n",
       "      <th>1</th>\n",
       "      <td>360</td>\n",
       "      <td>Habitacional</td>\n",
       "      <td>439.648229</td>\n",
       "      <td>75GRMHXX+W5F8</td>\n",
       "      <td>141200001116A008</td>\n",
       "      <td>80.8571</td>\n",
       "      <td>POLYGON ((666412.897 2289726.843, 666412.614 2...</td>\n",
       "      <td>277</td>\n",
       "      <td>0.71869</td>\n",
       "      <td>0.0</td>\n",
       "      <td>...</td>\n",
       "      <td>0.742046</td>\n",
       "      <td>1.460736</td>\n",
       "      <td>0.507995</td>\n",
       "      <td>0.492005</td>\n",
       "      <td>0.0</td>\n",
       "      <td>0.0</td>\n",
       "      <td>0.0</td>\n",
       "      <td>0.0</td>\n",
       "      <td>0.0</td>\n",
       "      <td>0.0</td>\n",
       "    </tr>\n",
       "  </tbody>\n",
       "</table>\n",
       "<p>2 rows × 26 columns</p>\n",
       "</div>"
      ],
      "text/plain": [
       "   fid         UNUSO     area_m2 full_plus_code            CVEGEO  \\\n",
       "0  359  Habitacional  808.230624  75GRMHVR+HHRX  141200001116A008   \n",
       "1  360  Habitacional  439.648229  75GRMHXX+W5F8  141200001116A008   \n",
       "\n",
       "   bld_area_m2                                           geometry  pobtot  \\\n",
       "0     105.0053  POLYGON ((665738.958 2289088.14, 665738.935 22...     277   \n",
       "1      80.8571  POLYGON ((666412.897 2289726.843, 666412.614 2...     277   \n",
       "\n",
       "   cultural_recreativo  servicios  ...  habitacional   uso_tot  \\\n",
       "0              0.00000        0.0  ...      1.364146  1.364146   \n",
       "1              0.71869        0.0  ...      0.742046  1.460736   \n",
       "\n",
       "   pct_habitacional  pct_cultural_recreativo  pct_servicios  pct_comercio  \\\n",
       "0          1.000000                 0.000000            0.0           0.0   \n",
       "1          0.507995                 0.492005            0.0           0.0   \n",
       "\n",
       "   pct_salud  pct_educacion  pct_gobierno  pct_industria  \n",
       "0        0.0            0.0           0.0            0.0  \n",
       "1        0.0            0.0           0.0            0.0  \n",
       "\n",
       "[2 rows x 26 columns]"
      ]
     },
     "execution_count": 17,
     "metadata": {},
     "output_type": "execute_result"
    }
   ],
   "source": [
    "aop_data = aop_data.fillna(0)\n",
    "aop_data.head(2)"
   ]
  },
  {
   "cell_type": "markdown",
   "id": "944940b4-4b35-4f7f-acf7-709fa278b253",
   "metadata": {},
   "source": [
    "Save data"
   ]
  },
  {
   "cell_type": "code",
   "execution_count": 18,
   "id": "0fb95b56-fa47-4eb6-bc10-aa53614c16b2",
   "metadata": {},
   "outputs": [],
   "source": [
    "aop_data.to_file('../../data/processed/prediccion_uso_suelo/tess_kde.geojson')"
   ]
  },
  {
   "cell_type": "code",
   "execution_count": null,
   "id": "1fc504ea-f624-471e-a71f-36f57b37e3a2",
   "metadata": {},
   "outputs": [],
   "source": []
  }
 ],
 "metadata": {
  "kernelspec": {
   "display_name": "Python 3 (ipykernel)",
   "language": "python",
   "name": "python3"
  },
  "language_info": {
   "codemirror_mode": {
    "name": "ipython",
    "version": 3
   },
   "file_extension": ".py",
   "mimetype": "text/x-python",
   "name": "python",
   "nbconvert_exporter": "python",
   "pygments_lexer": "ipython3",
   "version": "3.13.2"
  }
 },
 "nbformat": 4,
 "nbformat_minor": 5
}
