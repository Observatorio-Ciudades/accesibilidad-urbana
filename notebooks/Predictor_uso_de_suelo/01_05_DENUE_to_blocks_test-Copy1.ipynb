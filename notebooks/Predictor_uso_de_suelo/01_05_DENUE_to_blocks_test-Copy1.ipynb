{
 "cells": [
  {
   "cell_type": "markdown",
   "id": "7a972d1c-2416-4e62-9d8e-de21bf683d49",
   "metadata": {},
   "source": [
    "# DENUE analysis my block -test-"
   ]
  },
  {
   "cell_type": "markdown",
   "id": "71bffbf4-1030-4d71-a7e4-aa551949d058",
   "metadata": {},
   "source": [
    "This notebook covers the first steps towards an urban land use classifier. In it:\n",
    "1. The DENUE database is downloaded for a specific area\n",
    "2. A classification of the DENUE by activity is assigned to each point\n",
    "3. Each DENUE point gets assigned to an urban block\n",
    "4. An iterative process produces a Kernel Density Estimation for each activity classification and each block"
   ]
  },
  {
   "cell_type": "markdown",
   "id": "94b20c07-8afb-4716-bf45-f9344027b311",
   "metadata": {},
   "source": [
    "## Import libraries"
   ]
  },
  {
   "cell_type": "code",
   "execution_count": 1,
   "id": "a7675bb0-d6af-4f65-98e9-e02e55bca55d",
   "metadata": {},
   "outputs": [],
   "source": [
    "import geopandas as gpd\n",
    "import pandas as pd\n",
    "import numpy as np\n",
    "# import odc\n",
    "import zipfile\n",
    "\n",
    "from shapely.geometry import Point, Polygon\n",
    "\n",
    "import seaborn as sns\n",
    "import matplotlib.pyplot as plt\n",
    "\n",
    "# from typing import Optional\n",
    "from spatial_kde import spatial_kernel_density\n",
    "\n",
    "import warnings\n",
    "warnings.simplefilter(action='ignore', category=FutureWarning)\n",
    "\n",
    "import os\n",
    "import sys\n",
    "\n",
    "from shapely import wkb\n",
    "import binascii\n",
    "from sqlalchemy import text\n",
    "\n",
    "module_path = os.path.abspath(os.path.join('../../'))\n",
    "if module_path not in sys.path:\n",
    "    sys.path.append(module_path)\n",
    "    import aup\n",
    "else:\n",
    "    import aup"
   ]
  },
  {
   "cell_type": "markdown",
   "id": "6aa739a9-9911-49af-9ff3-6dddfa069a37",
   "metadata": {},
   "source": [
    "## Download and read data"
   ]
  },
  {
   "cell_type": "markdown",
   "id": "41009559-50e9-47d3-9df7-244c0abd37ef",
   "metadata": {},
   "source": [
    "### Area of analysis"
   ]
  },
  {
   "cell_type": "code",
   "execution_count": 2,
   "id": "bf2e92d8-f180-44c4-b129-b17df12185c6",
   "metadata": {},
   "outputs": [],
   "source": [
    "aoa_gdf_all = gpd.read_file('all_places_cleaned.geojson')"
   ]
  },
  {
   "cell_type": "code",
   "execution_count": 3,
   "id": "83f17e95-51e8-4a0c-a920-7f2e3d302e97",
   "metadata": {},
   "outputs": [
    {
     "data": {
      "text/html": [
       "<div>\n",
       "<style scoped>\n",
       "    .dataframe tbody tr th:only-of-type {\n",
       "        vertical-align: middle;\n",
       "    }\n",
       "\n",
       "    .dataframe tbody tr th {\n",
       "        vertical-align: top;\n",
       "    }\n",
       "\n",
       "    .dataframe thead th {\n",
       "        text-align: right;\n",
       "    }\n",
       "</style>\n",
       "<table border=\"1\" class=\"dataframe\">\n",
       "  <thead>\n",
       "    <tr style=\"text-align: right;\">\n",
       "      <th></th>\n",
       "      <th>gid</th>\n",
       "      <th>id</th>\n",
       "      <th>distrito</th>\n",
       "      <th>shape_leng</th>\n",
       "      <th>shape_area</th>\n",
       "      <th>layer</th>\n",
       "      <th>path</th>\n",
       "      <th>UNuso</th>\n",
       "      <th>geometry</th>\n",
       "    </tr>\n",
       "  </thead>\n",
       "  <tbody>\n",
       "    <tr>\n",
       "      <th>0</th>\n",
       "      <td>119895</td>\n",
       "      <td>95475.0</td>\n",
       "      <td>2.0</td>\n",
       "      <td>54.193112</td>\n",
       "      <td>130.922608</td>\n",
       "      <td>USOS_DE_SUELO_Z2</td>\n",
       "      <td>/Users/eileenyuen/Downloads/OneDrive_1_30-4-20...</td>\n",
       "      <td>Habitacional</td>\n",
       "      <td>MULTIPOLYGON (((672237.33 2295207.029, 672235....</td>\n",
       "    </tr>\n",
       "    <tr>\n",
       "      <th>1</th>\n",
       "      <td>119896</td>\n",
       "      <td>471562.0</td>\n",
       "      <td>2.0</td>\n",
       "      <td>47.842126</td>\n",
       "      <td>112.073148</td>\n",
       "      <td>USOS_DE_SUELO_Z2</td>\n",
       "      <td>/Users/eileenyuen/Downloads/OneDrive_1_30-4-20...</td>\n",
       "      <td>Habitacional</td>\n",
       "      <td>MULTIPOLYGON (((669537.234 2295451.983, 669520...</td>\n",
       "    </tr>\n",
       "    <tr>\n",
       "      <th>2</th>\n",
       "      <td>119897</td>\n",
       "      <td>53588.0</td>\n",
       "      <td>2.0</td>\n",
       "      <td>54.517475</td>\n",
       "      <td>144.209492</td>\n",
       "      <td>USOS_DE_SUELO_Z2</td>\n",
       "      <td>/Users/eileenyuen/Downloads/OneDrive_1_30-4-20...</td>\n",
       "      <td>Habitacional</td>\n",
       "      <td>MULTIPOLYGON (((671188.527 2293497.949, 671187...</td>\n",
       "    </tr>\n",
       "    <tr>\n",
       "      <th>3</th>\n",
       "      <td>119898</td>\n",
       "      <td>70650.0</td>\n",
       "      <td>2.0</td>\n",
       "      <td>52.319930</td>\n",
       "      <td>134.514816</td>\n",
       "      <td>USOS_DE_SUELO_Z2</td>\n",
       "      <td>/Users/eileenyuen/Downloads/OneDrive_1_30-4-20...</td>\n",
       "      <td>Habitacional</td>\n",
       "      <td>MULTIPOLYGON (((671684.857 2295182.66, 671684....</td>\n",
       "    </tr>\n",
       "  </tbody>\n",
       "</table>\n",
       "</div>"
      ],
      "text/plain": [
       "      gid        id  distrito  shape_leng  shape_area             layer  \\\n",
       "0  119895   95475.0       2.0   54.193112  130.922608  USOS_DE_SUELO_Z2   \n",
       "1  119896  471562.0       2.0   47.842126  112.073148  USOS_DE_SUELO_Z2   \n",
       "2  119897   53588.0       2.0   54.517475  144.209492  USOS_DE_SUELO_Z2   \n",
       "3  119898   70650.0       2.0   52.319930  134.514816  USOS_DE_SUELO_Z2   \n",
       "\n",
       "                                                path         UNuso  \\\n",
       "0  /Users/eileenyuen/Downloads/OneDrive_1_30-4-20...  Habitacional   \n",
       "1  /Users/eileenyuen/Downloads/OneDrive_1_30-4-20...  Habitacional   \n",
       "2  /Users/eileenyuen/Downloads/OneDrive_1_30-4-20...  Habitacional   \n",
       "3  /Users/eileenyuen/Downloads/OneDrive_1_30-4-20...  Habitacional   \n",
       "\n",
       "                                            geometry  \n",
       "0  MULTIPOLYGON (((672237.33 2295207.029, 672235....  \n",
       "1  MULTIPOLYGON (((669537.234 2295451.983, 669520...  \n",
       "2  MULTIPOLYGON (((671188.527 2293497.949, 671187...  \n",
       "3  MULTIPOLYGON (((671684.857 2295182.66, 671684....  "
      ]
     },
     "execution_count": 3,
     "metadata": {},
     "output_type": "execute_result"
    }
   ],
   "source": [
    "aoa_gdf_all.head(4)"
   ]
  },
  {
   "cell_type": "code",
   "execution_count": 4,
   "id": "53450c0d-da2a-4413-9490-016654b3a116",
   "metadata": {},
   "outputs": [],
   "source": [
    "aoa_gdf_district_5 = aoa_gdf_all.copy()\n",
    "aoa_gdf_district_5 = aoa_gdf_district_5[aoa_gdf_district_5[\"layer\"] == \"USOS_ZONA_5\"]"
   ]
  },
  {
   "cell_type": "code",
   "execution_count": 5,
   "id": "9ebb17fb-487d-4163-8843-9cc08ba6b5ac",
   "metadata": {},
   "outputs": [
    {
     "data": {
      "text/plain": [
       "array(['USOS_ZONA_5'], dtype=object)"
      ]
     },
     "execution_count": 5,
     "metadata": {},
     "output_type": "execute_result"
    }
   ],
   "source": [
    "aoa_gdf_district_5[\"layer\"].unique()"
   ]
  },
  {
   "cell_type": "code",
   "execution_count": 6,
   "id": "0e7f7d1e-f39f-4c73-8917-62be69ee2f64",
   "metadata": {},
   "outputs": [
    {
     "name": "stdout",
     "output_type": "stream",
     "text": [
      "EPSG:32613\n"
     ]
    }
   ],
   "source": [
    "print(aoa_gdf_district_5.crs)"
   ]
  },
  {
   "cell_type": "code",
   "execution_count": 7,
   "id": "21bb2931-a83b-4ce4-83c0-31543a882b3b",
   "metadata": {},
   "outputs": [],
   "source": [
    "aoa_gdf_district_5[\"UNuso\"] = aoa_gdf_district_5[\"UNuso\"].fillna(\"Sin_datos\")"
   ]
  },
  {
   "cell_type": "code",
   "execution_count": 8,
   "id": "40e4b45d-4de5-46c1-abb6-4c6145692af4",
   "metadata": {},
   "outputs": [
    {
     "data": {
      "text/plain": [
       "gid           0\n",
       "id            4\n",
       "distrito      0\n",
       "shape_leng    4\n",
       "shape_area    4\n",
       "layer         0\n",
       "path          0\n",
       "UNuso         0\n",
       "geometry      0\n",
       "dtype: int64"
      ]
     },
     "execution_count": 8,
     "metadata": {},
     "output_type": "execute_result"
    }
   ],
   "source": [
    "aoa_gdf_district_5.isna().sum()"
   ]
  },
  {
   "cell_type": "code",
   "execution_count": 9,
   "id": "b4ab6108-b218-4598-bbe3-96e2e4eb1381",
   "metadata": {},
   "outputs": [
    {
     "data": {
      "text/plain": [
       "['gid',\n",
       " 'id',\n",
       " 'distrito',\n",
       " 'shape_leng',\n",
       " 'shape_area',\n",
       " 'layer',\n",
       " 'path',\n",
       " 'UNuso',\n",
       " 'geometry']"
      ]
     },
     "execution_count": 9,
     "metadata": {},
     "output_type": "execute_result"
    }
   ],
   "source": [
    "aoa_gdf_district_5.columns.tolist()"
   ]
  },
  {
   "cell_type": "markdown",
   "id": "b52c34d7-7662-4622-b7da-6702d0b6602f",
   "metadata": {},
   "source": [
    "### Calculating centroids and intersecting with \"Zona5\""
   ]
  },
  {
   "cell_type": "code",
   "execution_count": 11,
   "id": "53151782-4d33-431e-a7f7-902e5facc12b",
   "metadata": {},
   "outputs": [],
   "source": [
    "poly_d5 = gpd.read_file(\"Distrito_Zona5.geojson\")"
   ]
  },
  {
   "cell_type": "code",
   "execution_count": 13,
   "id": "a36743de-411f-4e91-99fb-e539c108a66b",
   "metadata": {},
   "outputs": [],
   "source": [
    "aoa_gdf_d5 = gpd.read_file(\"aoa_d5_centroids.geojson\")"
   ]
  },
  {
   "cell_type": "code",
   "execution_count": 26,
   "id": "c1070d24-500e-4268-bfc8-50d76d9cc485",
   "metadata": {},
   "outputs": [
    {
     "data": {
      "image/png": "[encoded data removed]",
      "text/plain": [
       "<Figure size 640x480 with 1 Axes>"
      ]
     },
     "metadata": {},
     "output_type": "display_data"
    }
   ],
   "source": [
    "# Ontaining the centroids \n",
    "aoa_centroids = aoa_gdf_district_5.copy()\n",
    "aoa_centroids[\"geometry\"] = aoa_centroids.centroid\n",
    "\n",
    "# poly_d5 only has one geometry\n",
    "poly_geom = poly_d5.geometry.iloc[0]\n",
    "\n",
    "# Filtering the centroids that are only in the polygon\n",
    "centroids_in_poly = aoa_centroids[aoa_centroids.within(poly_geom)]\n",
    "\n",
    "# Obtainin unique ids\n",
    "ids_in_poly = centroids_in_poly[\"id\"].unique()\n",
    "\n",
    "# Filter the original gdf\n",
    "aoa_gdf_filtered = aoa_gdf_d5[aoa_gdf_d5[\"id\"].isin(ids_in_poly)]\n",
    "\n",
    "# Plot thee result\n",
    "aoa_gdf_filtered.plot()\n",
    "plt.title(\"Properties within District 5 (by centroids)\")\n",
    "plt.show()"
   ]
  },
  {
   "cell_type": "code",
   "execution_count": 15,
   "id": "1f7f3606-efe6-45be-ad89-d2618afb9326",
   "metadata": {},
   "outputs": [
    {
     "data": {
      "text/html": [
       "<div>\n",
       "<style scoped>\n",
       "    .dataframe tbody tr th:only-of-type {\n",
       "        vertical-align: middle;\n",
       "    }\n",
       "\n",
       "    .dataframe tbody tr th {\n",
       "        vertical-align: top;\n",
       "    }\n",
       "\n",
       "    .dataframe thead th {\n",
       "        text-align: right;\n",
       "    }\n",
       "</style>\n",
       "<table border=\"1\" class=\"dataframe\">\n",
       "  <thead>\n",
       "    <tr style=\"text-align: right;\">\n",
       "      <th></th>\n",
       "      <th>gid</th>\n",
       "      <th>id</th>\n",
       "      <th>distrito</th>\n",
       "      <th>shape_leng</th>\n",
       "      <th>shape_area</th>\n",
       "      <th>layer</th>\n",
       "      <th>path</th>\n",
       "      <th>UNuso</th>\n",
       "      <th>geometry</th>\n",
       "    </tr>\n",
       "  </thead>\n",
       "  <tbody>\n",
       "    <tr>\n",
       "      <th>0</th>\n",
       "      <td>383802</td>\n",
       "      <td>225938.0</td>\n",
       "      <td>5.0</td>\n",
       "      <td>87.833373</td>\n",
       "      <td>372.671854</td>\n",
       "      <td>USOS_ZONA_5</td>\n",
       "      <td>/Users/eileenyuen/Downloads/OneDrive_1_30-4-20...</td>\n",
       "      <td>Baldio</td>\n",
       "      <td>POINT (663592.931 2289238.144)</td>\n",
       "    </tr>\n",
       "    <tr>\n",
       "      <th>1</th>\n",
       "      <td>383514</td>\n",
       "      <td>465151.0</td>\n",
       "      <td>5.0</td>\n",
       "      <td>156.734778</td>\n",
       "      <td>1505.830715</td>\n",
       "      <td>USOS_ZONA_5</td>\n",
       "      <td>/Users/eileenyuen/Downloads/OneDrive_1_30-4-20...</td>\n",
       "      <td>Sin_datos</td>\n",
       "      <td>POINT (661577.052 2289177.523)</td>\n",
       "    </tr>\n",
       "    <tr>\n",
       "      <th>2</th>\n",
       "      <td>383647</td>\n",
       "      <td>465323.0</td>\n",
       "      <td>5.0</td>\n",
       "      <td>102.854373</td>\n",
       "      <td>577.067362</td>\n",
       "      <td>USOS_ZONA_5</td>\n",
       "      <td>/Users/eileenyuen/Downloads/OneDrive_1_30-4-20...</td>\n",
       "      <td>Baldio</td>\n",
       "      <td>POINT (663863.97 2291536.278)</td>\n",
       "    </tr>\n",
       "    <tr>\n",
       "      <th>3</th>\n",
       "      <td>383515</td>\n",
       "      <td>465183.0</td>\n",
       "      <td>5.0</td>\n",
       "      <td>389.147415</td>\n",
       "      <td>6545.629993</td>\n",
       "      <td>USOS_ZONA_5</td>\n",
       "      <td>/Users/eileenyuen/Downloads/OneDrive_1_30-4-20...</td>\n",
       "      <td>Comercial</td>\n",
       "      <td>POINT (663128.973 2287036.845)</td>\n",
       "    </tr>\n",
       "    <tr>\n",
       "      <th>4</th>\n",
       "      <td>383516</td>\n",
       "      <td>465188.0</td>\n",
       "      <td>5.0</td>\n",
       "      <td>2338.338291</td>\n",
       "      <td>110638.820370</td>\n",
       "      <td>USOS_ZONA_5</td>\n",
       "      <td>/Users/eileenyuen/Downloads/OneDrive_1_30-4-20...</td>\n",
       "      <td>Baldio</td>\n",
       "      <td>POINT (662892.634 2290798.717)</td>\n",
       "    </tr>\n",
       "  </tbody>\n",
       "</table>\n",
       "</div>"
      ],
      "text/plain": [
       "      gid        id  distrito   shape_leng     shape_area        layer  \\\n",
       "0  383802  225938.0       5.0    87.833373     372.671854  USOS_ZONA_5   \n",
       "1  383514  465151.0       5.0   156.734778    1505.830715  USOS_ZONA_5   \n",
       "2  383647  465323.0       5.0   102.854373     577.067362  USOS_ZONA_5   \n",
       "3  383515  465183.0       5.0   389.147415    6545.629993  USOS_ZONA_5   \n",
       "4  383516  465188.0       5.0  2338.338291  110638.820370  USOS_ZONA_5   \n",
       "\n",
       "                                                path      UNuso  \\\n",
       "0  /Users/eileenyuen/Downloads/OneDrive_1_30-4-20...     Baldio   \n",
       "1  /Users/eileenyuen/Downloads/OneDrive_1_30-4-20...  Sin_datos   \n",
       "2  /Users/eileenyuen/Downloads/OneDrive_1_30-4-20...     Baldio   \n",
       "3  /Users/eileenyuen/Downloads/OneDrive_1_30-4-20...  Comercial   \n",
       "4  /Users/eileenyuen/Downloads/OneDrive_1_30-4-20...     Baldio   \n",
       "\n",
       "                         geometry  \n",
       "0  POINT (663592.931 2289238.144)  \n",
       "1  POINT (661577.052 2289177.523)  \n",
       "2   POINT (663863.97 2291536.278)  \n",
       "3  POINT (663128.973 2287036.845)  \n",
       "4  POINT (662892.634 2290798.717)  "
      ]
     },
     "execution_count": 15,
     "metadata": {},
     "output_type": "execute_result"
    }
   ],
   "source": [
    "aoa_gdf_filtered.head()"
   ]
  },
  {
   "cell_type": "code",
   "execution_count": 16,
   "id": "19f8a74b-335f-4ec9-b420-318870ff0284",
   "metadata": {},
   "outputs": [
    {
     "data": {
      "text/plain": [
       "array(['USOS_ZONA_5'], dtype=object)"
      ]
     },
     "execution_count": 16,
     "metadata": {},
     "output_type": "execute_result"
    }
   ],
   "source": [
    "aoa_gdf_filtered[\"layer\"].unique()"
   ]
  },
  {
   "cell_type": "code",
   "execution_count": 17,
   "id": "a4d0079c-ab2d-43a8-865f-cecab4e05d5c",
   "metadata": {},
   "outputs": [
    {
     "data": {
      "text/plain": [
       "gid           0\n",
       "id            4\n",
       "distrito      0\n",
       "shape_leng    4\n",
       "shape_area    4\n",
       "layer         0\n",
       "path          0\n",
       "UNuso         0\n",
       "geometry      0\n",
       "dtype: int64"
      ]
     },
     "execution_count": 17,
     "metadata": {},
     "output_type": "execute_result"
    }
   ],
   "source": [
    "aoa_gdf_filtered.isna().sum()"
   ]
  },
  {
   "cell_type": "code",
   "execution_count": 18,
   "id": "48cf2fea-ef84-44b3-840f-18a6e6fbf3ae",
   "metadata": {},
   "outputs": [
    {
     "data": {
      "text/plain": [
       "(44927, 9)"
      ]
     },
     "execution_count": 18,
     "metadata": {},
     "output_type": "execute_result"
    }
   ],
   "source": [
    "aoa_gdf_filtered.shape"
   ]
  },
  {
   "cell_type": "code",
   "execution_count": 19,
   "id": "15139def-9884-4a98-9997-5d70df7f9e02",
   "metadata": {},
   "outputs": [
    {
     "data": {
      "text/plain": [
       "<Projected CRS: EPSG:32613>\n",
       "Name: WGS 84 / UTM zone 13N\n",
       "Axis Info [cartesian]:\n",
       "- E[east]: Easting (metre)\n",
       "- N[north]: Northing (metre)\n",
       "Area of Use:\n",
       "- name: Between 108°W and 102°W, northern hemisphere between equator and 84°N, onshore and offshore. Canada - Northwest Territories (NWT); Nunavut; Saskatchewan. Mexico. United States (USA).\n",
       "- bounds: (-108.0, 0.0, -102.0, 84.0)\n",
       "Coordinate Operation:\n",
       "- name: UTM zone 13N\n",
       "- method: Transverse Mercator\n",
       "Datum: World Geodetic System 1984 ensemble\n",
       "- Ellipsoid: WGS 84\n",
       "- Prime Meridian: Greenwich"
      ]
     },
     "execution_count": 19,
     "metadata": {},
     "output_type": "execute_result"
    }
   ],
   "source": [
    "aoa_gdf_filtered.crs"
   ]
  },
  {
   "cell_type": "markdown",
   "id": "769b9900-8d59-4652-b9f4-d43c40694b10",
   "metadata": {},
   "source": [
    "### DENUE"
   ]
  },
  {
   "cell_type": "code",
   "execution_count": 21,
   "id": "43dff8e4-9749-4ac3-b824-bd7414521b6a",
   "metadata": {},
   "outputs": [],
   "source": [
    "aoa_gdf = aoa_gdf_filtered.copy()"
   ]
  },
  {
   "cell_type": "code",
   "execution_count": 22,
   "id": "aa03d6fd-8a78-4782-b568-b0bf8cbff2ff",
   "metadata": {},
   "outputs": [
    {
     "name": "stdout",
     "output_type": "stream",
     "text": [
      "EPSG:32613\n"
     ]
    }
   ],
   "source": [
    "aoa_gdf = aoa_gdf.to_crs(\"EPSG:32613\")\n",
    "\n",
    "print(aoa_gdf.crs)  \n",
    "\n",
    "if aoa_gdf.crs.to_epsg() != 32613:\n",
    "    aoa_gdf = aoa_gdf.to_crs(\"EPSG:32613\")\n",
    "\n",
    "# Converting to WKT\n",
    "poly_wkt = aoa_gdf.geometry.iloc[0].wkt"
   ]
  },
  {
   "cell_type": "code",
   "execution_count": 23,
   "id": "bd83d8e3-6897-495a-af70-239f6ded7f90",
   "metadata": {
    "scrolled": true
   },
   "outputs": [
    {
     "name": "stdout",
     "output_type": "stream",
     "text": [
      "<class 'str'>\n"
     ]
    }
   ],
   "source": [
    "print(type(poly_wkt))  # Debe ser <class 'str'>"
   ]
  },
  {
   "cell_type": "code",
   "execution_count": 24,
   "id": "727ec89f-82be-49c0-824a-ee8f20e12fa4",
   "metadata": {},
   "outputs": [
    {
     "name": "stdout",
     "output_type": "stream",
     "text": [
      "0\n",
      "44927\n"
     ]
    }
   ],
   "source": [
    "print(aoa_gdf.is_empty.sum())  # Empty geometries\n",
    "print(aoa_gdf.geometry.is_valid.sum())  # Valid geometries"
   ]
  },
  {
   "cell_type": "code",
   "execution_count": 27,
   "id": "96d6f8e1-82ca-4ea2-aadd-a327ad04a6b8",
   "metadata": {},
   "outputs": [
    {
     "name": "stdout",
     "output_type": "stream",
     "text": [
      "POINT (663592.9313066297 2289238.144367153)\n"
     ]
    }
   ],
   "source": [
    "print(poly_wkt)"
   ]
  },
  {
   "cell_type": "code",
   "execution_count": 30,
   "id": "e2dec1eb-aea1-4b6a-97b6-abf1ad173bb8",
   "metadata": {
    "scrolled": true
   },
   "outputs": [
    {
     "name": "stdout",
     "output_type": "stream",
     "text": [
      "(0, 11)\n",
      "Empty GeoDataFrame\n",
      "Columns: [id, entidad, localidad, manzana, municipio, latitud, longitud, codigo_act, ageb, per_ocu, geometry]\n",
      "Index: []\n"
     ]
    }
   ],
   "source": [
    "schema = \"denue\"\n",
    "table = \"denue_2022\"\n",
    "\n",
    "query_censo = f\"\"\"\n",
    "SELECT\n",
    "    id,\n",
    "    cve_ent AS entidad,\n",
    "    cve_loc AS localidad,\n",
    "    manzana,\n",
    "    cve_mun AS municipio,\n",
    "    latitud,\n",
    "    longitud,\n",
    "    codigo_act,\n",
    "    ageb,\n",
    "    per_ocu,\n",
    "    ST_AsText(geometry) AS geometry\n",
    "FROM {schema}.{table}\n",
    "WHERE ST_Intersects(\n",
    "    geometry,\n",
    "    ST_Buffer(ST_GeomFromText('{poly_wkt}', 32613), 100)\n",
    ")\n",
    "\"\"\"\n",
    " \n",
    "denue_gdf = aup.gdf_from_query(query_censo, geometry_col='geometry')\n",
    "denue_gdf['geometry'] = denue_gdf['geometry'].apply(wkt.loads)\n",
    "denue_gdf = gpd.GeoDataFrame(denue_gdf, geometry='geometry', crs='EPSG:32613')\n",
    "\n",
    "print(denue_gdf.shape)\n",
    "print(denue_gdf.head())"
   ]
  },
  {
   "cell_type": "markdown",
   "id": "bef2a81c-d788-4748-9a4d-aa9965c50cf7",
   "metadata": {},
   "source": [
    "### Census blocks"
   ]
  },
  {
   "cell_type": "code",
   "execution_count": 39,
   "id": "6d1b26a1-0db8-4b58-95d2-977474405d13",
   "metadata": {},
   "outputs": [
    {
     "name": "stdout",
     "output_type": "stream",
     "text": [
      "(0, 3)\n",
      "Empty GeoDataFrame\n",
      "Columns: [cvegeo_mza, pobtot, geometry]\n",
      "Index: []\n"
     ]
    }
   ],
   "source": [
    "schema = \"sociodemografico\"\n",
    "table = \"censo_inegi_20_mza\"\n",
    "\n",
    "# Consulta SQL\n",
    "query_censo = f\"\"\"\n",
    "SELECT \n",
    "  cvegeo_mza,\n",
    "  pobtot,\n",
    "  ST_AsText(geometry) AS geometry\n",
    "FROM {schema}.{table}\n",
    "WHERE ST_Intersects(\n",
    "  geometry,\n",
    "  ST_SetSRID(ST_MakeValid(ST_GeomFromText('{poly_wkt}')), 32613)\n",
    ")\n",
    "\"\"\"\n",
    "\n",
    "censo_gdf = aup.gdf_from_query(query_censo, geometry_col=\"geometry\")\n",
    "\n",
    "# Result\n",
    "print(censo_gdf.shape)\n",
    "print(censo_gdf.head())"
   ]
  },
  {
   "cell_type": "markdown",
   "id": "7b57bb9e-7b27-4486-b3f7-c7a24d517f25",
   "metadata": {},
   "source": [
    "## Data treatment and preprocessing"
   ]
  },
  {
   "cell_type": "markdown",
   "id": "442bb9b9-51b2-40cb-bdc6-1cfefddb4a29",
   "metadata": {},
   "source": [
    "### DENUE classification by activity"
   ]
  },
  {
   "cell_type": "markdown",
   "id": "aef70eb9-ec59-4093-b34f-bc033d26bdce",
   "metadata": {},
   "source": [
    "Clasificar las distintas actividades económicas con base en su terminación en \"codigo_act\" basándonos en el Directorio Estadístico Nacional de Unidades Económicas"
   ]
  },
  {
   "cell_type": "code",
   "execution_count": 14,
   "id": "87b05149-1bb9-4a0a-a93c-3d56dd74fd00",
   "metadata": {},
   "outputs": [],
   "source": [
    "# Función para clasificar según la terminación de codigo_act\n",
    "def asignar_tipo(codigo):\n",
    "    if pd.isna(codigo):  # Si está vacío\n",
    "        return 'Sin código'\n",
    "    \n",
    "    # Asegurar que sea string para evaluar el código\n",
    "    codigo_str = str(codigo).strip()\n",
    "\n",
    "    if not codigo_str.isdigit():\n",
    "        return 'Código inválido'\n",
    "    \n",
    "    # Define tus conjuntos de códigos\n",
    "    industria = {'11', '21', '23', '31', '32', '33', '55'}\n",
    "    \n",
    "    servicios = {'22', '48', '49', '52', '53', '54', '56', '72',\n",
    "                 '81'}\n",
    "    \n",
    "    comercio = {'43', '46'}\n",
    "    \n",
    "    cultural_recreativo = {'51','71'}\n",
    "    \n",
    "    educacion = {'61'}\n",
    "    \n",
    "    salud = {'62'}\n",
    "\n",
    "    gobierno = {'93'}\n",
    "    \n",
    "    # Verificar si el código está en alguno de los conjuntos\n",
    "    if codigo_str[:2] in industria:\n",
    "        return 'Industria'\n",
    "    elif codigo_str[:2] in servicios:\n",
    "        return 'Servicios'\n",
    "    elif codigo_str[:2] in comercio:\n",
    "        return 'Comercio'\n",
    "    elif codigo_str[:2] in cultural_recreativo:\n",
    "        return 'Cultural_Recreativo'\n",
    "    elif codigo_str[:2] in educacion:\n",
    "        return 'Educación'\n",
    "    elif codigo_str[:2] in salud:\n",
    "        return 'Salud'\n",
    "    elif codigo_str[:2] in gobierno:\n",
    "        return 'Gobierno'\n",
    "    else:\n",
    "        return 'Desconocido'\n",
    "\n",
    "# Aplica la función al DataFrame\n",
    "denue_gdf['tipo_act'] = denue_gdf['codigo_act'].apply(asignar_tipo)"
   ]
  },
  {
   "cell_type": "code",
   "execution_count": 15,
   "id": "20ee14e3-923d-44f1-91b2-05d69b4688b4",
   "metadata": {},
   "outputs": [
    {
     "data": {
      "text/html": [
       "<div>\n",
       "<style scoped>\n",
       "    .dataframe tbody tr th:only-of-type {\n",
       "        vertical-align: middle;\n",
       "    }\n",
       "\n",
       "    .dataframe tbody tr th {\n",
       "        vertical-align: top;\n",
       "    }\n",
       "\n",
       "    .dataframe thead th {\n",
       "        text-align: right;\n",
       "    }\n",
       "</style>\n",
       "<table border=\"1\" class=\"dataframe\">\n",
       "  <thead>\n",
       "    <tr style=\"text-align: right;\">\n",
       "      <th></th>\n",
       "      <th>id</th>\n",
       "      <th>entidad</th>\n",
       "      <th>localidad</th>\n",
       "      <th>manzana</th>\n",
       "      <th>municipio</th>\n",
       "      <th>latitud</th>\n",
       "      <th>longitud</th>\n",
       "      <th>codigo_act</th>\n",
       "      <th>ageb</th>\n",
       "      <th>per_ocu</th>\n",
       "      <th>geometry</th>\n",
       "      <th>tipo_act</th>\n",
       "    </tr>\n",
       "  </thead>\n",
       "  <tbody>\n",
       "    <tr>\n",
       "      <th>0</th>\n",
       "      <td>1829669</td>\n",
       "      <td>14</td>\n",
       "      <td>0001</td>\n",
       "      <td>040</td>\n",
       "      <td>120</td>\n",
       "      <td>20.777288</td>\n",
       "      <td>-103.445935</td>\n",
       "      <td>312112</td>\n",
       "      <td>6635</td>\n",
       "      <td>0 a 5 personas</td>\n",
       "      <td>POINT (-103.44593 20.77729)</td>\n",
       "      <td>Industria</td>\n",
       "    </tr>\n",
       "    <tr>\n",
       "      <th>1</th>\n",
       "      <td>1829668</td>\n",
       "      <td>14</td>\n",
       "      <td>0001</td>\n",
       "      <td>038</td>\n",
       "      <td>120</td>\n",
       "      <td>20.779729</td>\n",
       "      <td>-103.446429</td>\n",
       "      <td>312112</td>\n",
       "      <td>6635</td>\n",
       "      <td>0 a 5 personas</td>\n",
       "      <td>POINT (-103.44643 20.77973)</td>\n",
       "      <td>Industria</td>\n",
       "    </tr>\n",
       "    <tr>\n",
       "      <th>2</th>\n",
       "      <td>1704486</td>\n",
       "      <td>14</td>\n",
       "      <td>0001</td>\n",
       "      <td>005</td>\n",
       "      <td>120</td>\n",
       "      <td>20.773346</td>\n",
       "      <td>-103.446032</td>\n",
       "      <td>311830</td>\n",
       "      <td>6705</td>\n",
       "      <td>0 a 5 personas</td>\n",
       "      <td>POINT (-103.44603 20.77335)</td>\n",
       "      <td>Industria</td>\n",
       "    </tr>\n",
       "  </tbody>\n",
       "</table>\n",
       "</div>"
      ],
      "text/plain": [
       "        id entidad localidad manzana municipio    latitud    longitud  \\\n",
       "0  1829669      14      0001     040       120  20.777288 -103.445935   \n",
       "1  1829668      14      0001     038       120  20.779729 -103.446429   \n",
       "2  1704486      14      0001     005       120  20.773346 -103.446032   \n",
       "\n",
       "  codigo_act  ageb         per_ocu                     geometry   tipo_act  \n",
       "0     312112  6635  0 a 5 personas  POINT (-103.44593 20.77729)  Industria  \n",
       "1     312112  6635  0 a 5 personas  POINT (-103.44643 20.77973)  Industria  \n",
       "2     311830  6705  0 a 5 personas  POINT (-103.44603 20.77335)  Industria  "
      ]
     },
     "execution_count": 15,
     "metadata": {},
     "output_type": "execute_result"
    }
   ],
   "source": [
    "denue_gdf.head(3)"
   ]
  },
  {
   "cell_type": "code",
   "execution_count": 16,
   "id": "90ceaa81-fc13-4b4a-a290-15ccd56e7a59",
   "metadata": {},
   "outputs": [
    {
     "data": {
      "text/plain": [
       "array(['Industria', 'Comercio', 'Servicios', 'Educación', 'Salud',\n",
       "       'Cultural_Recreativo', 'Gobierno'], dtype=object)"
      ]
     },
     "execution_count": 16,
     "metadata": {},
     "output_type": "execute_result"
    }
   ],
   "source": [
    "denue_gdf[\"tipo_act\"].unique()"
   ]
  },
  {
   "cell_type": "code",
   "execution_count": 17,
   "id": "31a12665-8bea-4d5a-9aad-7b813d89fb3d",
   "metadata": {},
   "outputs": [
    {
     "data": {
      "text/plain": [
       "0"
      ]
     },
     "execution_count": 17,
     "metadata": {},
     "output_type": "execute_result"
    }
   ],
   "source": [
    "len(denue_gdf[denue_gdf['tipo_act'] == 'Desconocido'])"
   ]
  },
  {
   "cell_type": "markdown",
   "id": "aab02123-e358-4e47-81ea-786690adc5a7",
   "metadata": {},
   "source": [
    "### DENUE occupied personel"
   ]
  },
  {
   "cell_type": "markdown",
   "id": "fd4a577d-3eec-485c-aa0c-1143ce52bc8e",
   "metadata": {},
   "source": [
    "Contabilizar cuántas personas hay ejerciendo cada actividad económica"
   ]
  },
  {
   "cell_type": "code",
   "execution_count": 18,
   "id": "6f2e42ba-ede8-423a-b256-4614b94e6e80",
   "metadata": {},
   "outputs": [],
   "source": [
    "def number_of_jobs(per_ocu):\n",
    "    jobs_dict = {'0 a 5 personas':3,\n",
    "                '6 a 10 personas':8,\n",
    "                '11 a 30 personas':20,\n",
    "                '31 a 50 personas':40,\n",
    "                '51 a 100 personas':75,\n",
    "                '101 a 250 personas':175,\n",
    "                '251 y más personas':325}\n",
    "    per_ocu_num = jobs_dict[per_ocu]\n",
    "    return per_ocu_num"
   ]
  },
  {
   "cell_type": "code",
   "execution_count": 19,
   "id": "e8f9c7c1-50c0-4dd6-9fa9-c5afc00f82fb",
   "metadata": {},
   "outputs": [
    {
     "data": {
      "text/html": [
       "<div>\n",
       "<style scoped>\n",
       "    .dataframe tbody tr th:only-of-type {\n",
       "        vertical-align: middle;\n",
       "    }\n",
       "\n",
       "    .dataframe tbody tr th {\n",
       "        vertical-align: top;\n",
       "    }\n",
       "\n",
       "    .dataframe thead th {\n",
       "        text-align: right;\n",
       "    }\n",
       "</style>\n",
       "<table border=\"1\" class=\"dataframe\">\n",
       "  <thead>\n",
       "    <tr style=\"text-align: right;\">\n",
       "      <th></th>\n",
       "      <th>id</th>\n",
       "      <th>entidad</th>\n",
       "      <th>localidad</th>\n",
       "      <th>manzana</th>\n",
       "      <th>municipio</th>\n",
       "      <th>latitud</th>\n",
       "      <th>longitud</th>\n",
       "      <th>codigo_act</th>\n",
       "      <th>ageb</th>\n",
       "      <th>per_ocu</th>\n",
       "      <th>geometry</th>\n",
       "      <th>tipo_act</th>\n",
       "      <th>per_ocu_num</th>\n",
       "    </tr>\n",
       "  </thead>\n",
       "  <tbody>\n",
       "    <tr>\n",
       "      <th>0</th>\n",
       "      <td>1829669</td>\n",
       "      <td>14</td>\n",
       "      <td>0001</td>\n",
       "      <td>040</td>\n",
       "      <td>120</td>\n",
       "      <td>20.777288</td>\n",
       "      <td>-103.445935</td>\n",
       "      <td>312112</td>\n",
       "      <td>6635</td>\n",
       "      <td>0 a 5 personas</td>\n",
       "      <td>POINT (-103.44593 20.77729)</td>\n",
       "      <td>Industria</td>\n",
       "      <td>3</td>\n",
       "    </tr>\n",
       "    <tr>\n",
       "      <th>1</th>\n",
       "      <td>1829668</td>\n",
       "      <td>14</td>\n",
       "      <td>0001</td>\n",
       "      <td>038</td>\n",
       "      <td>120</td>\n",
       "      <td>20.779729</td>\n",
       "      <td>-103.446429</td>\n",
       "      <td>312112</td>\n",
       "      <td>6635</td>\n",
       "      <td>0 a 5 personas</td>\n",
       "      <td>POINT (-103.44643 20.77973)</td>\n",
       "      <td>Industria</td>\n",
       "      <td>3</td>\n",
       "    </tr>\n",
       "  </tbody>\n",
       "</table>\n",
       "</div>"
      ],
      "text/plain": [
       "        id entidad localidad manzana municipio    latitud    longitud  \\\n",
       "0  1829669      14      0001     040       120  20.777288 -103.445935   \n",
       "1  1829668      14      0001     038       120  20.779729 -103.446429   \n",
       "\n",
       "  codigo_act  ageb         per_ocu                     geometry   tipo_act  \\\n",
       "0     312112  6635  0 a 5 personas  POINT (-103.44593 20.77729)  Industria   \n",
       "1     312112  6635  0 a 5 personas  POINT (-103.44643 20.77973)  Industria   \n",
       "\n",
       "   per_ocu_num  \n",
       "0            3  \n",
       "1            3  "
      ]
     },
     "execution_count": 19,
     "metadata": {},
     "output_type": "execute_result"
    }
   ],
   "source": [
    "denue_gdf['per_ocu_num'] = denue_gdf.per_ocu.apply(lambda per_ocu: number_of_jobs(per_ocu))\n",
    "denue_gdf.head(2)"
   ]
  },
  {
   "cell_type": "markdown",
   "id": "051a8c30-de10-447e-a387-e9b547a5c579",
   "metadata": {},
   "source": [
    "### DENUE to blocks"
   ]
  },
  {
   "cell_type": "markdown",
   "id": "8ca87dc8-fd63-4847-a620-35f005a31095",
   "metadata": {},
   "source": [
    "Create CVEGEO code for each DENUE"
   ]
  },
  {
   "cell_type": "code",
   "execution_count": 20,
   "id": "663f4898-25ad-46c6-8a62-ceb621ca4f95",
   "metadata": {
    "scrolled": true
   },
   "outputs": [
    {
     "name": "stdout",
     "output_type": "stream",
     "text": [
      "(52127, 14)\n"
     ]
    },
    {
     "data": {
      "text/html": [
       "<div>\n",
       "<style scoped>\n",
       "    .dataframe tbody tr th:only-of-type {\n",
       "        vertical-align: middle;\n",
       "    }\n",
       "\n",
       "    .dataframe tbody tr th {\n",
       "        vertical-align: top;\n",
       "    }\n",
       "\n",
       "    .dataframe thead th {\n",
       "        text-align: right;\n",
       "    }\n",
       "</style>\n",
       "<table border=\"1\" class=\"dataframe\">\n",
       "  <thead>\n",
       "    <tr style=\"text-align: right;\">\n",
       "      <th></th>\n",
       "      <th>id</th>\n",
       "      <th>entidad</th>\n",
       "      <th>localidad</th>\n",
       "      <th>manzana</th>\n",
       "      <th>municipio</th>\n",
       "      <th>latitud</th>\n",
       "      <th>longitud</th>\n",
       "      <th>codigo_act</th>\n",
       "      <th>ageb</th>\n",
       "      <th>per_ocu</th>\n",
       "      <th>geometry</th>\n",
       "      <th>tipo_act</th>\n",
       "      <th>per_ocu_num</th>\n",
       "      <th>cvegeo_mza</th>\n",
       "    </tr>\n",
       "  </thead>\n",
       "  <tbody>\n",
       "    <tr>\n",
       "      <th>0</th>\n",
       "      <td>1829669</td>\n",
       "      <td>14</td>\n",
       "      <td>0001</td>\n",
       "      <td>040</td>\n",
       "      <td>120</td>\n",
       "      <td>20.777288</td>\n",
       "      <td>-103.445935</td>\n",
       "      <td>312112</td>\n",
       "      <td>6635</td>\n",
       "      <td>0 a 5 personas</td>\n",
       "      <td>POINT (-103.44593 20.77729)</td>\n",
       "      <td>Industria</td>\n",
       "      <td>3</td>\n",
       "      <td>1412000016635040</td>\n",
       "    </tr>\n",
       "    <tr>\n",
       "      <th>1</th>\n",
       "      <td>1829668</td>\n",
       "      <td>14</td>\n",
       "      <td>0001</td>\n",
       "      <td>038</td>\n",
       "      <td>120</td>\n",
       "      <td>20.779729</td>\n",
       "      <td>-103.446429</td>\n",
       "      <td>312112</td>\n",
       "      <td>6635</td>\n",
       "      <td>0 a 5 personas</td>\n",
       "      <td>POINT (-103.44643 20.77973)</td>\n",
       "      <td>Industria</td>\n",
       "      <td>3</td>\n",
       "      <td>1412000016635038</td>\n",
       "    </tr>\n",
       "  </tbody>\n",
       "</table>\n",
       "</div>"
      ],
      "text/plain": [
       "        id entidad localidad manzana municipio    latitud    longitud  \\\n",
       "0  1829669      14      0001     040       120  20.777288 -103.445935   \n",
       "1  1829668      14      0001     038       120  20.779729 -103.446429   \n",
       "\n",
       "  codigo_act  ageb         per_ocu                     geometry   tipo_act  \\\n",
       "0     312112  6635  0 a 5 personas  POINT (-103.44593 20.77729)  Industria   \n",
       "1     312112  6635  0 a 5 personas  POINT (-103.44643 20.77973)  Industria   \n",
       "\n",
       "   per_ocu_num        cvegeo_mza  \n",
       "0            3  1412000016635040  \n",
       "1            3  1412000016635038  "
      ]
     },
     "execution_count": 20,
     "metadata": {},
     "output_type": "execute_result"
    }
   ],
   "source": [
    "denue_gdf['cvegeo_mza'] = (\n",
    "    denue_gdf['entidad'].astype(str).str[:2] +\n",
    "    denue_gdf['municipio'].astype(str).str[:3] +\n",
    "    denue_gdf['localidad'].astype(str).str[:4] +\n",
    "    denue_gdf['ageb'].astype(str).str[:4] +\n",
    "    denue_gdf['manzana'].astype(str).str[:3]\n",
    ")\n",
    "print(denue_gdf.shape)\n",
    "denue_gdf.head(2)"
   ]
  },
  {
   "cell_type": "code",
   "execution_count": 21,
   "id": "d94fd256-6f14-4ff0-843c-615ae8c3097f",
   "metadata": {},
   "outputs": [
    {
     "data": {
      "text/plain": [
       "16"
      ]
     },
     "execution_count": 21,
     "metadata": {},
     "output_type": "execute_result"
    }
   ],
   "source": [
    "denue_gdf.cvegeo_mza.apply(len).min() # checks if every element has a 16 character length"
   ]
  },
  {
   "cell_type": "markdown",
   "id": "0e8e4be2-89ad-482a-8441-9a724c629662",
   "metadata": {},
   "source": [
    "Test if every DENUE is assigned to a block"
   ]
  },
  {
   "cell_type": "code",
   "execution_count": 22,
   "id": "8a57373b-a43b-456c-9a23-43467e736107",
   "metadata": {},
   "outputs": [
    {
     "data": {
      "text/plain": [
       "0"
      ]
     },
     "execution_count": 22,
     "metadata": {},
     "output_type": "execute_result"
    }
   ],
   "source": [
    "denue_gdf.merge(block_gdf[['cvegeo_mza','pobtot']], on='cvegeo_mza', how='inner').pobtot.isna().sum()"
   ]
  },
  {
   "cell_type": "markdown",
   "id": "7f8de599-0908-4ec8-aa59-6db9e4526857",
   "metadata": {},
   "source": [
    "### Distance from DENUE to block centroids"
   ]
  },
  {
   "cell_type": "code",
   "execution_count": 23,
   "id": "ecb25d22-9ab4-42db-9e9d-c853e2331f31",
   "metadata": {},
   "outputs": [
    {
     "name": "stderr",
     "output_type": "stream",
     "text": [
      "/tmp/ipykernel_70229/3273052898.py:3: UserWarning: Geometry is in a geographic CRS. Results from 'centroid' are likely incorrect. Use 'GeoSeries.to_crs()' to re-project geometries to a projected CRS before this operation.\n",
      "\n",
      "  block_cnt['cnt_geometry'] = block_cnt['geometry'].centroid\n"
     ]
    }
   ],
   "source": [
    "# 1. Crear GeoDataFrame de manzanas con centroides únicos\n",
    "block_cnt = block_gdf.copy()\n",
    "block_cnt['cnt_geometry'] = block_cnt['geometry'].centroid"
   ]
  },
  {
   "cell_type": "code",
   "execution_count": 24,
   "id": "803c0d46-3d3b-40b0-8f2b-cd0f069cdc81",
   "metadata": {},
   "outputs": [
    {
     "name": "stdout",
     "output_type": "stream",
     "text": [
      "(51885, 15)\n"
     ]
    },
    {
     "data": {
      "text/html": [
       "<div>\n",
       "<style scoped>\n",
       "    .dataframe tbody tr th:only-of-type {\n",
       "        vertical-align: middle;\n",
       "    }\n",
       "\n",
       "    .dataframe tbody tr th {\n",
       "        vertical-align: top;\n",
       "    }\n",
       "\n",
       "    .dataframe thead th {\n",
       "        text-align: right;\n",
       "    }\n",
       "</style>\n",
       "<table border=\"1\" class=\"dataframe\">\n",
       "  <thead>\n",
       "    <tr style=\"text-align: right;\">\n",
       "      <th></th>\n",
       "      <th>id</th>\n",
       "      <th>entidad</th>\n",
       "      <th>localidad</th>\n",
       "      <th>manzana</th>\n",
       "      <th>municipio</th>\n",
       "      <th>latitud</th>\n",
       "      <th>longitud</th>\n",
       "      <th>codigo_act</th>\n",
       "      <th>ageb</th>\n",
       "      <th>per_ocu</th>\n",
       "      <th>geometry</th>\n",
       "      <th>tipo_act</th>\n",
       "      <th>per_ocu_num</th>\n",
       "      <th>cvegeo_mza</th>\n",
       "      <th>cnt_geometry</th>\n",
       "    </tr>\n",
       "  </thead>\n",
       "  <tbody>\n",
       "    <tr>\n",
       "      <th>0</th>\n",
       "      <td>1829669</td>\n",
       "      <td>14</td>\n",
       "      <td>0001</td>\n",
       "      <td>040</td>\n",
       "      <td>120</td>\n",
       "      <td>20.777288</td>\n",
       "      <td>-103.445935</td>\n",
       "      <td>312112</td>\n",
       "      <td>6635</td>\n",
       "      <td>0 a 5 personas</td>\n",
       "      <td>POINT (-103.44593 20.77729)</td>\n",
       "      <td>Industria</td>\n",
       "      <td>3</td>\n",
       "      <td>1412000016635040</td>\n",
       "      <td>POINT (-103.44613 20.77705)</td>\n",
       "    </tr>\n",
       "    <tr>\n",
       "      <th>1</th>\n",
       "      <td>9013984</td>\n",
       "      <td>14</td>\n",
       "      <td>0001</td>\n",
       "      <td>040</td>\n",
       "      <td>120</td>\n",
       "      <td>20.776958</td>\n",
       "      <td>-103.445862</td>\n",
       "      <td>465111</td>\n",
       "      <td>6635</td>\n",
       "      <td>0 a 5 personas</td>\n",
       "      <td>POINT (-103.44586 20.77696)</td>\n",
       "      <td>Comercio</td>\n",
       "      <td>3</td>\n",
       "      <td>1412000016635040</td>\n",
       "      <td>POINT (-103.44613 20.77705)</td>\n",
       "    </tr>\n",
       "  </tbody>\n",
       "</table>\n",
       "</div>"
      ],
      "text/plain": [
       "        id entidad localidad manzana municipio    latitud    longitud  \\\n",
       "0  1829669      14      0001     040       120  20.777288 -103.445935   \n",
       "1  9013984      14      0001     040       120  20.776958 -103.445862   \n",
       "\n",
       "  codigo_act  ageb         per_ocu                     geometry   tipo_act  \\\n",
       "0     312112  6635  0 a 5 personas  POINT (-103.44593 20.77729)  Industria   \n",
       "1     465111  6635  0 a 5 personas  POINT (-103.44586 20.77696)   Comercio   \n",
       "\n",
       "   per_ocu_num        cvegeo_mza                 cnt_geometry  \n",
       "0            3  1412000016635040  POINT (-103.44613 20.77705)  \n",
       "1            3  1412000016635040  POINT (-103.44613 20.77705)  "
      ]
     },
     "execution_count": 24,
     "metadata": {},
     "output_type": "execute_result"
    }
   ],
   "source": [
    "# 2. Merge block centroid geometry to DENUE gdf\n",
    "denue_gdf = pd.merge(\n",
    "    denue_gdf,\n",
    "    block_cnt[['cvegeo_mza', 'cnt_geometry']],\n",
    "    on=['cvegeo_mza'],\n",
    "    how='inner'\n",
    ")\n",
    "print(denue_gdf.shape)\n",
    "denue_gdf.head(2)"
   ]
  },
  {
   "cell_type": "code",
   "execution_count": 25,
   "id": "0de145e9-b314-485c-8a3b-27eb0367ef22",
   "metadata": {},
   "outputs": [
    {
     "name": "stderr",
     "output_type": "stream",
     "text": [
      "/tmp/ipykernel_70229/4255178002.py:2: UserWarning: Geometry is in a geographic CRS. Results from 'distance' are likely incorrect. Use 'GeoSeries.to_crs()' to re-project geometries to a projected CRS before this operation.\n",
      "\n",
      "  denue_gdf['distancia'] = denue_gdf['geometry'].distance(denue_gdf['cnt_geometry'])\n"
     ]
    }
   ],
   "source": [
    "# 3. Calcular la distancia de cada punto al centroide de su manzana\n",
    "denue_gdf['distancia'] = denue_gdf['geometry'].distance(denue_gdf['cnt_geometry'])"
   ]
  },
  {
   "cell_type": "code",
   "execution_count": 26,
   "id": "ebddc33a-4b4f-4a40-806b-7027ca0f92bb",
   "metadata": {},
   "outputs": [
    {
     "name": "stdout",
     "output_type": "stream",
     "text": [
      "(8061, 2)\n"
     ]
    },
    {
     "data": {
      "text/html": [
       "<div>\n",
       "<style scoped>\n",
       "    .dataframe tbody tr th:only-of-type {\n",
       "        vertical-align: middle;\n",
       "    }\n",
       "\n",
       "    .dataframe tbody tr th {\n",
       "        vertical-align: top;\n",
       "    }\n",
       "\n",
       "    .dataframe thead th {\n",
       "        text-align: right;\n",
       "    }\n",
       "</style>\n",
       "<table border=\"1\" class=\"dataframe\">\n",
       "  <thead>\n",
       "    <tr style=\"text-align: right;\">\n",
       "      <th></th>\n",
       "      <th>cvegeo_mza</th>\n",
       "      <th>d_mean</th>\n",
       "    </tr>\n",
       "  </thead>\n",
       "  <tbody>\n",
       "    <tr>\n",
       "      <th>0</th>\n",
       "      <td>1409704240975002</td>\n",
       "      <td>0.000824</td>\n",
       "    </tr>\n",
       "    <tr>\n",
       "      <th>1</th>\n",
       "      <td>1409704240975028</td>\n",
       "      <td>0.000608</td>\n",
       "    </tr>\n",
       "  </tbody>\n",
       "</table>\n",
       "</div>"
      ],
      "text/plain": [
       "         cvegeo_mza    d_mean\n",
       "0  1409704240975002  0.000824\n",
       "1  1409704240975028  0.000608"
      ]
     },
     "execution_count": 26,
     "metadata": {},
     "output_type": "execute_result"
    }
   ],
   "source": [
    "# 4. Calcular d_mean por manzana\n",
    "denue_to_cnt = denue_gdf.groupby(\n",
    "    ['cvegeo_mza']\n",
    ")['distancia'].mean().reset_index(name='d_mean')\n",
    "print(denue_to_cnt.shape)\n",
    "denue_to_cnt.head(2)"
   ]
  },
  {
   "cell_type": "code",
   "execution_count": 27,
   "id": "2db68f2e-a8fc-463f-bdec-7cb4156d15f0",
   "metadata": {},
   "outputs": [
    {
     "name": "stdout",
     "output_type": "stream",
     "text": [
      "(51885, 17)\n"
     ]
    },
    {
     "data": {
      "text/html": [
       "<div>\n",
       "<style scoped>\n",
       "    .dataframe tbody tr th:only-of-type {\n",
       "        vertical-align: middle;\n",
       "    }\n",
       "\n",
       "    .dataframe tbody tr th {\n",
       "        vertical-align: top;\n",
       "    }\n",
       "\n",
       "    .dataframe thead th {\n",
       "        text-align: right;\n",
       "    }\n",
       "</style>\n",
       "<table border=\"1\" class=\"dataframe\">\n",
       "  <thead>\n",
       "    <tr style=\"text-align: right;\">\n",
       "      <th></th>\n",
       "      <th>id</th>\n",
       "      <th>entidad</th>\n",
       "      <th>localidad</th>\n",
       "      <th>manzana</th>\n",
       "      <th>municipio</th>\n",
       "      <th>latitud</th>\n",
       "      <th>longitud</th>\n",
       "      <th>codigo_act</th>\n",
       "      <th>ageb</th>\n",
       "      <th>per_ocu</th>\n",
       "      <th>geometry</th>\n",
       "      <th>tipo_act</th>\n",
       "      <th>per_ocu_num</th>\n",
       "      <th>cvegeo_mza</th>\n",
       "      <th>cnt_geometry</th>\n",
       "      <th>distancia</th>\n",
       "      <th>d_mean</th>\n",
       "    </tr>\n",
       "  </thead>\n",
       "  <tbody>\n",
       "    <tr>\n",
       "      <th>0</th>\n",
       "      <td>1829669</td>\n",
       "      <td>14</td>\n",
       "      <td>0001</td>\n",
       "      <td>040</td>\n",
       "      <td>120</td>\n",
       "      <td>20.777288</td>\n",
       "      <td>-103.445935</td>\n",
       "      <td>312112</td>\n",
       "      <td>6635</td>\n",
       "      <td>0 a 5 personas</td>\n",
       "      <td>POINT (-103.44593 20.77729)</td>\n",
       "      <td>Industria</td>\n",
       "      <td>3</td>\n",
       "      <td>1412000016635040</td>\n",
       "      <td>POINT (-103.44613 20.77705)</td>\n",
       "      <td>0.000307</td>\n",
       "      <td>0.000278</td>\n",
       "    </tr>\n",
       "    <tr>\n",
       "      <th>1</th>\n",
       "      <td>9013984</td>\n",
       "      <td>14</td>\n",
       "      <td>0001</td>\n",
       "      <td>040</td>\n",
       "      <td>120</td>\n",
       "      <td>20.776958</td>\n",
       "      <td>-103.445862</td>\n",
       "      <td>465111</td>\n",
       "      <td>6635</td>\n",
       "      <td>0 a 5 personas</td>\n",
       "      <td>POINT (-103.44586 20.77696)</td>\n",
       "      <td>Comercio</td>\n",
       "      <td>3</td>\n",
       "      <td>1412000016635040</td>\n",
       "      <td>POINT (-103.44613 20.77705)</td>\n",
       "      <td>0.000286</td>\n",
       "      <td>0.000278</td>\n",
       "    </tr>\n",
       "  </tbody>\n",
       "</table>\n",
       "</div>"
      ],
      "text/plain": [
       "        id entidad localidad manzana municipio    latitud    longitud  \\\n",
       "0  1829669      14      0001     040       120  20.777288 -103.445935   \n",
       "1  9013984      14      0001     040       120  20.776958 -103.445862   \n",
       "\n",
       "  codigo_act  ageb         per_ocu                     geometry   tipo_act  \\\n",
       "0     312112  6635  0 a 5 personas  POINT (-103.44593 20.77729)  Industria   \n",
       "1     465111  6635  0 a 5 personas  POINT (-103.44586 20.77696)   Comercio   \n",
       "\n",
       "   per_ocu_num        cvegeo_mza                 cnt_geometry  distancia  \\\n",
       "0            3  1412000016635040  POINT (-103.44613 20.77705)   0.000307   \n",
       "1            3  1412000016635040  POINT (-103.44613 20.77705)   0.000286   \n",
       "\n",
       "     d_mean  \n",
       "0  0.000278  \n",
       "1  0.000278  "
      ]
     },
     "execution_count": 27,
     "metadata": {},
     "output_type": "execute_result"
    }
   ],
   "source": [
    "# Add average distance to each block centroid\n",
    "denue_gdf = denue_gdf.merge(denue_to_cnt, on='cvegeo_mza')\n",
    "print(denue_gdf.shape)\n",
    "denue_gdf.head(2)"
   ]
  },
  {
   "cell_type": "code",
   "execution_count": 28,
   "id": "4348ef90-f68f-4843-b3a0-8ff24bd78d35",
   "metadata": {},
   "outputs": [
    {
     "data": {
      "text/plain": [
       "<Axes: >"
      ]
     },
     "execution_count": 28,
     "metadata": {},
     "output_type": "execute_result"
    },
    {
     "data": {
      "image/png": "[encoded data removed]",
      "text/plain": [
       "<Figure size 640x480 with 1 Axes>"
      ]
     },
     "metadata": {},
     "output_type": "display_data"
    }
   ],
   "source": [
    "denue_gdf.plot('d_mean')"
   ]
  },
  {
   "cell_type": "markdown",
   "id": "6ae96528-1948-411c-91ac-041e5797ed8b",
   "metadata": {},
   "source": [
    "## Kernel density analysis"
   ]
  },
  {
   "cell_type": "markdown",
   "id": "7618fe3c-5221-442a-844c-e368bcaa0c9d",
   "metadata": {},
   "source": [
    "#### Single block test"
   ]
  },
  {
   "cell_type": "code",
   "execution_count": 29,
   "id": "8c85e7eb-7a81-4ea2-b971-98cbc72123c0",
   "metadata": {},
   "outputs": [],
   "source": [
    "# Obtener el conteo por manzana\n",
    "conteo_por_manzana = denue_gdf.groupby('cvegeo_mza').size().reset_index(name='conteo')\n",
    "\n",
    "# Encontrar la manzana con máximo conteo\n",
    "max_row = conteo_por_manzana.loc[conteo_por_manzana['conteo'].idxmax()]\n",
    "cvegeo_max = max_row['cvegeo_mza']"
   ]
  },
  {
   "cell_type": "code",
   "execution_count": 30,
   "id": "88f73301-92c2-4e85-938c-ab32905ddb78",
   "metadata": {},
   "outputs": [
    {
     "name": "stdout",
     "output_type": "stream",
     "text": [
      "(298, 17)\n"
     ]
    },
    {
     "data": {
      "text/html": [
       "<div>\n",
       "<style scoped>\n",
       "    .dataframe tbody tr th:only-of-type {\n",
       "        vertical-align: middle;\n",
       "    }\n",
       "\n",
       "    .dataframe tbody tr th {\n",
       "        vertical-align: top;\n",
       "    }\n",
       "\n",
       "    .dataframe thead th {\n",
       "        text-align: right;\n",
       "    }\n",
       "</style>\n",
       "<table border=\"1\" class=\"dataframe\">\n",
       "  <thead>\n",
       "    <tr style=\"text-align: right;\">\n",
       "      <th></th>\n",
       "      <th>id</th>\n",
       "      <th>entidad</th>\n",
       "      <th>localidad</th>\n",
       "      <th>manzana</th>\n",
       "      <th>municipio</th>\n",
       "      <th>latitud</th>\n",
       "      <th>longitud</th>\n",
       "      <th>codigo_act</th>\n",
       "      <th>ageb</th>\n",
       "      <th>per_ocu</th>\n",
       "      <th>geometry</th>\n",
       "      <th>tipo_act</th>\n",
       "      <th>per_ocu_num</th>\n",
       "      <th>cvegeo_mza</th>\n",
       "      <th>cnt_geometry</th>\n",
       "      <th>distancia</th>\n",
       "      <th>d_mean</th>\n",
       "    </tr>\n",
       "  </thead>\n",
       "  <tbody>\n",
       "    <tr>\n",
       "      <th>0</th>\n",
       "      <td>6873851</td>\n",
       "      <td>14</td>\n",
       "      <td>0001</td>\n",
       "      <td>015</td>\n",
       "      <td>120</td>\n",
       "      <td>20.651590</td>\n",
       "      <td>-103.402214</td>\n",
       "      <td>713299</td>\n",
       "      <td>066A</td>\n",
       "      <td>51 a 100 personas</td>\n",
       "      <td>POINT (-103.40221 20.65159)</td>\n",
       "      <td>Cultural_Recreativo</td>\n",
       "      <td>75</td>\n",
       "      <td>141200001066A015</td>\n",
       "      <td>POINT (-103.40176 20.65035)</td>\n",
       "      <td>0.001320</td>\n",
       "      <td>0.001378</td>\n",
       "    </tr>\n",
       "    <tr>\n",
       "      <th>1</th>\n",
       "      <td>1811329</td>\n",
       "      <td>14</td>\n",
       "      <td>0001</td>\n",
       "      <td>015</td>\n",
       "      <td>120</td>\n",
       "      <td>20.651738</td>\n",
       "      <td>-103.402117</td>\n",
       "      <td>722511</td>\n",
       "      <td>066A</td>\n",
       "      <td>6 a 10 personas</td>\n",
       "      <td>POINT (-103.40212 20.65174)</td>\n",
       "      <td>Servicios</td>\n",
       "      <td>8</td>\n",
       "      <td>141200001066A015</td>\n",
       "      <td>POINT (-103.40176 20.65035)</td>\n",
       "      <td>0.001432</td>\n",
       "      <td>0.001378</td>\n",
       "    </tr>\n",
       "  </tbody>\n",
       "</table>\n",
       "</div>"
      ],
      "text/plain": [
       "        id entidad localidad manzana municipio    latitud    longitud  \\\n",
       "0  6873851      14      0001     015       120  20.651590 -103.402214   \n",
       "1  1811329      14      0001     015       120  20.651738 -103.402117   \n",
       "\n",
       "  codigo_act  ageb            per_ocu                     geometry  \\\n",
       "0     713299  066A  51 a 100 personas  POINT (-103.40221 20.65159)   \n",
       "1     722511  066A    6 a 10 personas  POINT (-103.40212 20.65174)   \n",
       "\n",
       "              tipo_act  per_ocu_num        cvegeo_mza  \\\n",
       "0  Cultural_Recreativo           75  141200001066A015   \n",
       "1            Servicios            8  141200001066A015   \n",
       "\n",
       "                  cnt_geometry  distancia    d_mean  \n",
       "0  POINT (-103.40176 20.65035)   0.001320  0.001378  \n",
       "1  POINT (-103.40176 20.65035)   0.001432  0.001378  "
      ]
     },
     "execution_count": 30,
     "metadata": {},
     "output_type": "execute_result"
    }
   ],
   "source": [
    "block_test = block_gdf.loc[block_gdf.cvegeo_mza==cvegeo_max].copy()\n",
    "\n",
    "denue_test = denue_gdf.loc[denue_gdf.cvegeo_mza==cvegeo_max].copy()\n",
    "denue_test = denue_test.reset_index(drop=True)\n",
    "\n",
    "print(denue_test.shape)\n",
    "denue_test.head(2)"
   ]
  },
  {
   "cell_type": "code",
   "execution_count": 32,
   "id": "f3ad73ae-0215-46cc-be41-8006169fd4e2",
   "metadata": {},
   "outputs": [
    {
     "data": {
      "text/plain": [
       "array([ 75,   8,   3,  20,  40, 175])"
      ]
     },
     "execution_count": 32,
     "metadata": {},
     "output_type": "execute_result"
    }
   ],
   "source": [
    "denue_test.per_ocu_num.unique()"
   ]
  },
  {
   "cell_type": "code",
   "execution_count": 31,
   "id": "7fef48ad-7ceb-4a41-b138-423a3a992e75",
   "metadata": {},
   "outputs": [],
   "source": [
    "# Ejecutar el KDE solo sobre esos puntos\n",
    "spatial_kernel_density(\n",
    "    points=denue_test,\n",
    "    radius = denue_test['d_mean'].mean()/2,\n",
    "    output_path=\"figureskde_manzana_prueba_todos_los_predios.tif\",\n",
    "    output_pixel_size=5,\n",
    "    output_driver=\"GTiff\",\n",
    "    weight_col=\"per_ocu_num\", # Número de personas por ocupación\n",
    ")"
   ]
  },
  {
   "cell_type": "markdown",
   "id": "52b7ec06-d1f5-400e-8bf0-4c0a5f465536",
   "metadata": {},
   "source": [
    "### Iterative analysis"
   ]
  },
  {
   "cell_type": "markdown",
   "id": "258f513e-9839-479f-a402-83e52618a2bd",
   "metadata": {},
   "source": [
    "Analysis for every block and economic activity classification"
   ]
  },
  {
   "cell_type": "code",
   "execution_count": null,
   "id": "ede5e6e0-f1d8-45d2-a10e-e4d2a082a691",
   "metadata": {
    "scrolled": true
   },
   "outputs": [],
   "source": [
    "output_dir = 'figureskde_manzana_prueba_todos_los_predios.tif'\n",
    "for idx, manzana in block_gdf.iterrows():\n",
    "    # Filtrar puntos DENUE dentro de la manzana y con la actividad deseada\n",
    "    cvegeo_mza = block_gdf.loc[idx].cvegeo_mza\n",
    "    denue_block = denue_gdf.loc[denue_gdf.cvegeo_mza == cvegeo_mza].copy()\n",
    "\n",
    "    # Saltar si no hay puntos que cumplan ambos criterios\n",
    "    if denue_block.empty:\n",
    "        continue\n",
    "\n",
    "    # Nombre de salida con ID y nombre de actividad\n",
    "    for act in denue_block.tipo_act.unique():\n",
    "        output_file = f\"{output_dir}kde_mnz_{cvegeo_mza}_{act}.tif\"\n",
    "        denue_act = denue_block.loc[denue_block.tipo_act==act].copy()\n",
    "        denue_act = denue_act.reset_index(drop=True)\n",
    "\n",
    "    \n",
    "        # Ejecutar el KDE\n",
    "        spatial_kernel_density(\n",
    "            points=denue_act,\n",
    "            radius = (denue_block['d_mean'].mean() / 2),\n",
    "            output_path=output_file,\n",
    "            output_pixel_size=1.0,\n",
    "            output_driver=\"GTiff\",\n",
    "            weight_col=\"per_ocu_num\",\n",
    "        )\n"
   ]
  }
 ],
 "metadata": {
  "kernelspec": {
   "display_name": "GDS-10.0",
   "language": "python",
   "name": "gds"
  },
  "language_info": {
   "codemirror_mode": {
    "name": "ipython",
    "version": 3
   },
   "file_extension": ".py",
   "mimetype": "text/x-python",
   "name": "python",
   "nbconvert_exporter": "python",
   "pygments_lexer": "ipython3",
   "version": "3.9.18"
  }
 },
 "nbformat": 4,
 "nbformat_minor": 5
}
