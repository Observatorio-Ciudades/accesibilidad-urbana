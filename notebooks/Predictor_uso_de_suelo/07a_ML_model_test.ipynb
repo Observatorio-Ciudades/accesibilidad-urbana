{
 "cells": [
  {
   "cell_type": "markdown",
   "id": "72c6c7a5-86d6-4770-807b-b3686944267c",
   "metadata": {},
   "source": [
    "# Landuse machine learning model -test-"
   ]
  },
  {
   "cell_type": "markdown",
   "id": "b6b25ea6-6203-41bf-ad5a-02b83d15cf19",
   "metadata": {},
   "source": [
    "This notebook integrates the first steps towards the development of a machine learning model for urban landuse prediction."
   ]
  },
  {
   "cell_type": "markdown",
   "id": "89a9447c-5c11-4cb4-9dac-f54cab2d7fe9",
   "metadata": {},
   "source": [
    "## Import libraries"
   ]
  },
  {
   "cell_type": "code",
   "execution_count": 1,
   "id": "4bfed30a-cc4c-467d-8775-eab5f4395250",
   "metadata": {
    "scrolled": true
   },
   "outputs": [
    {
     "name": "stderr",
     "output_type": "stream",
     "text": [
      "2025-07-22 09:48:33.794561: I tensorflow/core/util/port.cc:153] oneDNN custom operations are on. You may see slightly different numerical results due to floating-point round-off errors from different computation orders. To turn them off, set the environment variable `TF_ENABLE_ONEDNN_OPTS=0`.\n",
      "2025-07-22 09:48:33.849098: E external/local_xla/xla/stream_executor/cuda/cuda_fft.cc:467] Unable to register cuFFT factory: Attempting to register factory for plugin cuFFT when one has already been registered\n",
      "WARNING: All log messages before absl::InitializeLog() is called are written to STDERR\n",
      "E0000 00:00:1753199313.879722   14012 cuda_dnn.cc:8579] Unable to register cuDNN factory: Attempting to register factory for plugin cuDNN when one has already been registered\n",
      "E0000 00:00:1753199313.887673   14012 cuda_blas.cc:1407] Unable to register cuBLAS factory: Attempting to register factory for plugin cuBLAS when one has already been registered\n",
      "W0000 00:00:1753199313.931475   14012 computation_placer.cc:177] computation placer already registered. Please check linkage and avoid linking the same target more than once.\n",
      "W0000 00:00:1753199313.931492   14012 computation_placer.cc:177] computation placer already registered. Please check linkage and avoid linking the same target more than once.\n",
      "W0000 00:00:1753199313.931493   14012 computation_placer.cc:177] computation placer already registered. Please check linkage and avoid linking the same target more than once.\n",
      "W0000 00:00:1753199313.931494   14012 computation_placer.cc:177] computation placer already registered. Please check linkage and avoid linking the same target more than once.\n",
      "2025-07-22 09:48:33.934594: I tensorflow/core/platform/cpu_feature_guard.cc:210] This TensorFlow binary is optimized to use available CPU instructions in performance-critical operations.\n",
      "To enable the following instructions: AVX2 AVX512F AVX512_VNNI AVX512_BF16 AVX_VNNI FMA, in other operations, rebuild TensorFlow with the appropriate compiler flags.\n"
     ]
    }
   ],
   "source": [
    "import geopandas as gpd\n",
    "import pandas as pd\n",
    "import numpy as np\n",
    "\n",
    "import matplotlib.pyplot as plt\n",
    "import seaborn as sns\n",
    "import scipy\n",
    "\n",
    "import aup\n",
    "\n",
    "from sklearn.model_selection import train_test_split\n",
    "from sklearn.preprocessing import StandardScaler\n",
    "from imblearn.over_sampling import SMOTE\n",
    "from sklearn.decomposition import PCA\n",
    "\n",
    "\n",
    "\n",
    "from keras import utils                                   # tools for creating one-hot encoding\n",
    "from keras.models import Sequential                       # Type of model we wish to use\n",
    "from keras.layers import Dense, Dropout, Activation  \n",
    "from sklearn.preprocessing import LabelEncoder\n",
    "# from scikeras.wrappers import KerasClassifier, KerasRegressor\n",
    "from keras import utils  \n",
    "from sklearn.model_selection import cross_val_score\n",
    "from sklearn.model_selection import KFold\n",
    "from sklearn.preprocessing import LabelEncoder\n",
    "# from sklearn.pipeline import Pipeline\n",
    "\n",
    "from sklearn.metrics import r2_score, mean_squared_error, mean_absolute_error,confusion_matrix"
   ]
  },
  {
   "cell_type": "markdown",
   "id": "e7a8c8ea-516f-4b4f-8df5-f17a8f17e6ec",
   "metadata": {},
   "source": [
    "## Data for model training"
   ]
  },
  {
   "cell_type": "code",
   "execution_count": 2,
   "id": "bbef554c-59c0-4fba-b604-82ad1d0274c9",
   "metadata": {},
   "outputs": [
    {
     "name": "stdout",
     "output_type": "stream",
     "text": [
      "(88061, 56)\n"
     ]
    },
    {
     "data": {
      "text/html": [
       "<div>\n",
       "<style scoped>\n",
       "    .dataframe tbody tr th:only-of-type {\n",
       "        vertical-align: middle;\n",
       "    }\n",
       "\n",
       "    .dataframe tbody tr th {\n",
       "        vertical-align: top;\n",
       "    }\n",
       "\n",
       "    .dataframe thead th {\n",
       "        text-align: right;\n",
       "    }\n",
       "</style>\n",
       "<table border=\"1\" class=\"dataframe\">\n",
       "  <thead>\n",
       "    <tr style=\"text-align: right;\">\n",
       "      <th></th>\n",
       "      <th>uso_suelo</th>\n",
       "      <th>area_m2</th>\n",
       "      <th>full_plus_code</th>\n",
       "      <th>CVEGEO</th>\n",
       "      <th>bld_area_m2</th>\n",
       "      <th>block_area_m2</th>\n",
       "      <th>pred_area_m2</th>\n",
       "      <th>pred_area_pct</th>\n",
       "      <th>bld_pred_area_pct</th>\n",
       "      <th>pobtot</th>\n",
       "      <th>...</th>\n",
       "      <th>denue_primaria_15min</th>\n",
       "      <th>denue_abarrotes</th>\n",
       "      <th>denue_abarrotes_15min</th>\n",
       "      <th>denue_peluqueria</th>\n",
       "      <th>denue_peluqueria_15min</th>\n",
       "      <th>denue_lavanderia</th>\n",
       "      <th>denue_lavanderia_15min</th>\n",
       "      <th>clues_primer_nivel</th>\n",
       "      <th>clues_primer_nivel_15min</th>\n",
       "      <th>geometry</th>\n",
       "    </tr>\n",
       "  </thead>\n",
       "  <tbody>\n",
       "    <tr>\n",
       "      <th>0</th>\n",
       "      <td>Sin dato</td>\n",
       "      <td>67.279056</td>\n",
       "      <td>75GRMGQW+89PG</td>\n",
       "      <td>1412000011206018</td>\n",
       "      <td>12.438638</td>\n",
       "      <td>278416.454431</td>\n",
       "      <td>67.279056</td>\n",
       "      <td>0.000242</td>\n",
       "      <td>0.184881</td>\n",
       "      <td>0</td>\n",
       "      <td>...</td>\n",
       "      <td>0.686290</td>\n",
       "      <td>11.815648</td>\n",
       "      <td>3.201121</td>\n",
       "      <td>12.873068</td>\n",
       "      <td>3.446521</td>\n",
       "      <td>13.698224</td>\n",
       "      <td>1.478983</td>\n",
       "      <td>18.924816</td>\n",
       "      <td>0.357128</td>\n",
       "      <td>MULTIPOLYGON (((2349152.724 965335.704, 234914...</td>\n",
       "    </tr>\n",
       "    <tr>\n",
       "      <th>1</th>\n",
       "      <td>Sin dato</td>\n",
       "      <td>45.355545</td>\n",
       "      <td>75GRMGQW+8CFP</td>\n",
       "      <td>1412000011206018</td>\n",
       "      <td>4.482118</td>\n",
       "      <td>278416.454431</td>\n",
       "      <td>45.355545</td>\n",
       "      <td>0.000163</td>\n",
       "      <td>0.098822</td>\n",
       "      <td>0</td>\n",
       "      <td>...</td>\n",
       "      <td>0.888095</td>\n",
       "      <td>11.066837</td>\n",
       "      <td>3.917225</td>\n",
       "      <td>12.427027</td>\n",
       "      <td>4.012734</td>\n",
       "      <td>13.493960</td>\n",
       "      <td>1.680444</td>\n",
       "      <td>16.927238</td>\n",
       "      <td>0.467758</td>\n",
       "      <td>MULTIPOLYGON (((2349168.91 965335.176, 2349157...</td>\n",
       "    </tr>\n",
       "  </tbody>\n",
       "</table>\n",
       "<p>2 rows × 56 columns</p>\n",
       "</div>"
      ],
      "text/plain": [
       "  uso_suelo    area_m2 full_plus_code            CVEGEO  bld_area_m2  \\\n",
       "0  Sin dato  67.279056  75GRMGQW+89PG  1412000011206018    12.438638   \n",
       "1  Sin dato  45.355545  75GRMGQW+8CFP  1412000011206018     4.482118   \n",
       "\n",
       "   block_area_m2  pred_area_m2  pred_area_pct  bld_pred_area_pct  pobtot  ...  \\\n",
       "0  278416.454431     67.279056       0.000242           0.184881       0  ...   \n",
       "1  278416.454431     45.355545       0.000163           0.098822       0  ...   \n",
       "\n",
       "   denue_primaria_15min  denue_abarrotes  denue_abarrotes_15min  \\\n",
       "0              0.686290        11.815648               3.201121   \n",
       "1              0.888095        11.066837               3.917225   \n",
       "\n",
       "   denue_peluqueria  denue_peluqueria_15min  denue_lavanderia  \\\n",
       "0         12.873068                3.446521         13.698224   \n",
       "1         12.427027                4.012734         13.493960   \n",
       "\n",
       "   denue_lavanderia_15min  clues_primer_nivel  clues_primer_nivel_15min  \\\n",
       "0                1.478983           18.924816                  0.357128   \n",
       "1                1.680444           16.927238                  0.467758   \n",
       "\n",
       "                                            geometry  \n",
       "0  MULTIPOLYGON (((2349152.724 965335.704, 234914...  \n",
       "1  MULTIPOLYGON (((2349168.91 965335.176, 2349157...  \n",
       "\n",
       "[2 rows x 56 columns]"
      ]
     },
     "execution_count": 2,
     "metadata": {},
     "output_type": "execute_result"
    }
   ],
   "source": [
    "gdf = gpd.read_file('../../data/processed/prediccion_uso_suelo/test/area_of_prediction_prox.gpkg')\n",
    "print(gdf.shape)\n",
    "gdf.head(2)"
   ]
  },
  {
   "cell_type": "code",
   "execution_count": 3,
   "id": "a0845b46-a724-422c-b86b-b7afa89e6cb1",
   "metadata": {},
   "outputs": [],
   "source": [
    "if 'fid' not in gdf.columns:\n",
    "    gdf = gdf.reset_index().rename(columns={'index':'fid'})"
   ]
  },
  {
   "cell_type": "code",
   "execution_count": 4,
   "id": "e6ba8d67-9bb4-4ebc-819b-98b4161becef",
   "metadata": {},
   "outputs": [
    {
     "data": {
      "text/plain": [
       "Index(['fid', 'uso_suelo', 'area_m2', 'full_plus_code', 'CVEGEO',\n",
       "       'bld_area_m2', 'block_area_m2', 'pred_area_m2', 'pred_area_pct',\n",
       "       'bld_pred_area_pct', 'pobtot', 'cultural_recreativo', 'servicios',\n",
       "       'comercio', 'salud', 'educacion', 'gobierno', 'industria',\n",
       "       'area_m2_tot', 'habitacional', 'uso_tot', 'pct_habitacional',\n",
       "       'pct_cultural_recreativo', 'pct_servicios', 'pct_comercio', 'pct_salud',\n",
       "       'pct_educacion', 'pct_gobierno', 'pct_industria',\n",
       "       'temperature_mean_diff', 'ndvi_mean', 'ndmi_diff', 'tertiary_distance',\n",
       "       'residential_distance', 'secondary_distance', 'footway_distance',\n",
       "       'path_distance', 'service_distance', 'living_street_distance',\n",
       "       'primary_distance', 'trunk_distance', 'pedestrian_distance',\n",
       "       'cycleway_distance', 'unclassified_distance', 'motorway_distance',\n",
       "       'steps_distance', 'denue_primaria', 'denue_primaria_15min',\n",
       "       'denue_abarrotes', 'denue_abarrotes_15min', 'denue_peluqueria',\n",
       "       'denue_peluqueria_15min', 'denue_lavanderia', 'denue_lavanderia_15min',\n",
       "       'clues_primer_nivel', 'clues_primer_nivel_15min', 'geometry'],\n",
       "      dtype='object')"
      ]
     },
     "execution_count": 4,
     "metadata": {},
     "output_type": "execute_result"
    }
   ],
   "source": [
    "gdf.columns"
   ]
  },
  {
   "cell_type": "markdown",
   "id": "4c867dd3-eed8-4f39-894f-08dbc0f11266",
   "metadata": {},
   "source": [
    "## Machine learning model"
   ]
  },
  {
   "cell_type": "markdown",
   "id": "46e56e8a-cf6a-4903-b377-3d533ee14f36",
   "metadata": {},
   "source": [
    "### Data preprocessing"
   ]
  },
  {
   "cell_type": "markdown",
   "id": "404fffb4-0dae-4a6d-b803-8a59e8d6f38a",
   "metadata": {},
   "source": [
    "Divide X and Y data"
   ]
  },
  {
   "cell_type": "code",
   "execution_count": 5,
   "id": "fa4380e9-357d-4e00-9769-40c8c0cebc41",
   "metadata": {},
   "outputs": [],
   "source": [
    "X = gdf[['area_m2','bld_area_m2','block_area_m2',\n",
    "    'pred_area_m2', 'pred_area_pct', 'bld_pred_area_pct',\n",
    "    'uso_tot','pobtot','pct_habitacional', 'pct_cultural_recreativo',\n",
    "    'pct_servicios', 'pct_comercio', 'pct_salud', 'pct_educacion',\n",
    "    'pct_gobierno', 'pct_industria',\n",
    "    'temperature_mean_diff','ndvi_mean','ndmi_diff',\n",
    "    'tertiary_distance','residential_distance', 'secondary_distance', \n",
    "    'footway_distance','path_distance', 'service_distance',\n",
    "    'living_street_distance','primary_distance', 'trunk_distance', \n",
    "    'pedestrian_distance','cycleway_distance', 'unclassified_distance', \n",
    "    'motorway_distance','steps_distance',\n",
    "    'denue_primaria', 'denue_primaria_15min',\n",
    "    'denue_abarrotes', 'denue_abarrotes_15min', 'denue_peluqueria',\n",
    "    'denue_peluqueria_15min', 'denue_lavanderia', 'denue_lavanderia_15min',\n",
    "    'clues_primer_nivel', 'clues_primer_nivel_15min'\n",
    "    ]].to_numpy()\n",
    "\n",
    "Y = gdf[['uso_suelo']].to_numpy()\n",
    "Y = np.reshape(Y, shape=(Y.shape[0],))"
   ]
  },
  {
   "cell_type": "markdown",
   "id": "df1e46b8-1eaa-44d7-900c-2a6f768a90b5",
   "metadata": {},
   "source": [
    "Standarize and encode data"
   ]
  },
  {
   "cell_type": "code",
   "execution_count": 6,
   "id": "3f06d04f-a832-4c05-9a08-9f0e616b444f",
   "metadata": {},
   "outputs": [],
   "source": [
    "scaler = StandardScaler()\n",
    "X_scaled = scaler.fit_transform(X)\n",
    "\n",
    "encoder = LabelEncoder()\n",
    "encoder.fit(Y)\n",
    "encoded_Y = encoder.transform(Y)"
   ]
  },
  {
   "cell_type": "markdown",
   "id": "9dbfb3d4-6910-46c5-99cf-4dbbf5e88c9b",
   "metadata": {},
   "source": [
    "Divide training, validation and testing data"
   ]
  },
  {
   "cell_type": "code",
   "execution_count": 7,
   "id": "f9797b9d-ac16-4aaa-8ea3-c3091ea21ee8",
   "metadata": {},
   "outputs": [],
   "source": [
    "X_model, X_test, y_model, y_test = (train_test_split(X_scaled, encoded_Y, test_size=0.2, random_state=0))"
   ]
  },
  {
   "cell_type": "code",
   "execution_count": 8,
   "id": "3cc9fb5c-b1c7-4ff5-8b03-911be6b6945c",
   "metadata": {},
   "outputs": [],
   "source": [
    "smote = SMOTE()  \n",
    "X_resampled, y_resampled = smote.fit_resample(X_model, y_model)  "
   ]
  },
  {
   "cell_type": "code",
   "execution_count": 24,
   "id": "47bccdc0-6859-416f-951f-96474f6877e5",
   "metadata": {},
   "outputs": [],
   "source": [
    "X_train, X_val, y_train, y_val = (train_test_split(X_resampled, y_resampled, test_size=0.2, random_state=0))\n",
    "# X_train, X_val, y_train, y_val = (train_test_split(X_model, y_model, test_size=0.2, random_state=0))"
   ]
  },
  {
   "cell_type": "markdown",
   "id": "2c7831e0-c32a-43d9-8d12-48376bbaa159",
   "metadata": {},
   "source": [
    "Y data to categorical"
   ]
  },
  {
   "cell_type": "code",
   "execution_count": 25,
   "id": "1096d345-b301-4f9b-9f9c-f0c03151b510",
   "metadata": {},
   "outputs": [],
   "source": [
    "# encode class values as integers\n",
    "num_classes = len(gdf.uso_suelo.unique())\n",
    "\n",
    "# convert integers to dummy variables (i.e. one hot encoded)\n",
    "y_train = utils.to_categorical(y_train, num_classes)\n",
    "\n",
    "# convert integers to dummy variables (i.e. one hot encoded)\n",
    "y_val = utils.to_categorical(y_val, num_classes)\n",
    "\n",
    "# convert integers to dummy variables (i.e. one hot encoded)\n",
    "y_test = utils.to_categorical(y_test, num_classes)"
   ]
  },
  {
   "cell_type": "markdown",
   "id": "cf34f006-a5f2-40f7-84b5-6fe5fa00a520",
   "metadata": {},
   "source": [
    "### Model construction -- Classification Neural network"
   ]
  },
  {
   "cell_type": "markdown",
   "id": "fe8bf42a-4c24-4006-8e96-4c27a480a4ba",
   "metadata": {},
   "source": [
    "Model parameters"
   ]
  },
  {
   "cell_type": "code",
   "execution_count": 26,
   "id": "9993a00b-b33e-4a12-b5d9-b2452f27f248",
   "metadata": {},
   "outputs": [],
   "source": [
    "input_shape = (X_train.shape[1],)"
   ]
  },
  {
   "cell_type": "code",
   "execution_count": 27,
   "id": "043870aa-55dc-4e8d-a224-3d949b3a0a30",
   "metadata": {},
   "outputs": [
    {
     "name": "stderr",
     "output_type": "stream",
     "text": [
      "/home/edgaregurrola/.cache/pypoetry/virtualenvs/aup-qDsIK5d5-py3.11/lib/python3.11/site-packages/keras/src/layers/core/dense.py:87: UserWarning: Do not pass an `input_shape`/`input_dim` argument to a layer. When using Sequential models, prefer using an `Input(shape)` object as the first layer in the model instead.\n",
      "  super().__init__(activity_regularizer=activity_regularizer, **kwargs)\n"
     ]
    },
    {
     "data": {
      "text/html": [
       "<pre style=\"white-space:pre;overflow-x:auto;line-height:normal;font-family:Menlo,'DejaVu Sans Mono',consolas,'Courier New',monospace\"><span style=\"font-weight: bold\">Model: \"sequential_1\"</span>\n",
       "</pre>\n"
      ],
      "text/plain": [
       "\u001b[1mModel: \"sequential_1\"\u001b[0m\n"
      ]
     },
     "metadata": {},
     "output_type": "display_data"
    },
    {
     "data": {
      "text/html": [
       "<pre style=\"white-space:pre;overflow-x:auto;line-height:normal;font-family:Menlo,'DejaVu Sans Mono',consolas,'Courier New',monospace\">┏━━━━━━━━━━━━━━━━━━━━━━━━━━━━━━━━━┳━━━━━━━━━━━━━━━━━━━━━━━━┳━━━━━━━━━━━━━━━┓\n",
       "┃<span style=\"font-weight: bold\"> Layer (type)                    </span>┃<span style=\"font-weight: bold\"> Output Shape           </span>┃<span style=\"font-weight: bold\">       Param # </span>┃\n",
       "┡━━━━━━━━━━━━━━━━━━━━━━━━━━━━━━━━━╇━━━━━━━━━━━━━━━━━━━━━━━━╇━━━━━━━━━━━━━━━┩\n",
       "│ dense_3 (<span style=\"color: #0087ff; text-decoration-color: #0087ff\">Dense</span>)                 │ (<span style=\"color: #00d7ff; text-decoration-color: #00d7ff\">None</span>, <span style=\"color: #00af00; text-decoration-color: #00af00\">64</span>)             │         <span style=\"color: #00af00; text-decoration-color: #00af00\">2,816</span> │\n",
       "├─────────────────────────────────┼────────────────────────┼───────────────┤\n",
       "│ activation_3 (<span style=\"color: #0087ff; text-decoration-color: #0087ff\">Activation</span>)       │ (<span style=\"color: #00d7ff; text-decoration-color: #00d7ff\">None</span>, <span style=\"color: #00af00; text-decoration-color: #00af00\">64</span>)             │             <span style=\"color: #00af00; text-decoration-color: #00af00\">0</span> │\n",
       "├─────────────────────────────────┼────────────────────────┼───────────────┤\n",
       "│ dropout_2 (<span style=\"color: #0087ff; text-decoration-color: #0087ff\">Dropout</span>)             │ (<span style=\"color: #00d7ff; text-decoration-color: #00d7ff\">None</span>, <span style=\"color: #00af00; text-decoration-color: #00af00\">64</span>)             │             <span style=\"color: #00af00; text-decoration-color: #00af00\">0</span> │\n",
       "├─────────────────────────────────┼────────────────────────┼───────────────┤\n",
       "│ dense_4 (<span style=\"color: #0087ff; text-decoration-color: #0087ff\">Dense</span>)                 │ (<span style=\"color: #00d7ff; text-decoration-color: #00d7ff\">None</span>, <span style=\"color: #00af00; text-decoration-color: #00af00\">64</span>)             │         <span style=\"color: #00af00; text-decoration-color: #00af00\">4,160</span> │\n",
       "├─────────────────────────────────┼────────────────────────┼───────────────┤\n",
       "│ activation_4 (<span style=\"color: #0087ff; text-decoration-color: #0087ff\">Activation</span>)       │ (<span style=\"color: #00d7ff; text-decoration-color: #00d7ff\">None</span>, <span style=\"color: #00af00; text-decoration-color: #00af00\">64</span>)             │             <span style=\"color: #00af00; text-decoration-color: #00af00\">0</span> │\n",
       "├─────────────────────────────────┼────────────────────────┼───────────────┤\n",
       "│ dropout_3 (<span style=\"color: #0087ff; text-decoration-color: #0087ff\">Dropout</span>)             │ (<span style=\"color: #00d7ff; text-decoration-color: #00d7ff\">None</span>, <span style=\"color: #00af00; text-decoration-color: #00af00\">64</span>)             │             <span style=\"color: #00af00; text-decoration-color: #00af00\">0</span> │\n",
       "├─────────────────────────────────┼────────────────────────┼───────────────┤\n",
       "│ dense_5 (<span style=\"color: #0087ff; text-decoration-color: #0087ff\">Dense</span>)                 │ (<span style=\"color: #00d7ff; text-decoration-color: #00d7ff\">None</span>, <span style=\"color: #00af00; text-decoration-color: #00af00\">11</span>)             │           <span style=\"color: #00af00; text-decoration-color: #00af00\">715</span> │\n",
       "├─────────────────────────────────┼────────────────────────┼───────────────┤\n",
       "│ activation_5 (<span style=\"color: #0087ff; text-decoration-color: #0087ff\">Activation</span>)       │ (<span style=\"color: #00d7ff; text-decoration-color: #00d7ff\">None</span>, <span style=\"color: #00af00; text-decoration-color: #00af00\">11</span>)             │             <span style=\"color: #00af00; text-decoration-color: #00af00\">0</span> │\n",
       "└─────────────────────────────────┴────────────────────────┴───────────────┘\n",
       "</pre>\n"
      ],
      "text/plain": [
       "┏━━━━━━━━━━━━━━━━━━━━━━━━━━━━━━━━━┳━━━━━━━━━━━━━━━━━━━━━━━━┳━━━━━━━━━━━━━━━┓\n",
       "┃\u001b[1m \u001b[0m\u001b[1mLayer (type)                   \u001b[0m\u001b[1m \u001b[0m┃\u001b[1m \u001b[0m\u001b[1mOutput Shape          \u001b[0m\u001b[1m \u001b[0m┃\u001b[1m \u001b[0m\u001b[1m      Param #\u001b[0m\u001b[1m \u001b[0m┃\n",
       "┡━━━━━━━━━━━━━━━━━━━━━━━━━━━━━━━━━╇━━━━━━━━━━━━━━━━━━━━━━━━╇━━━━━━━━━━━━━━━┩\n",
       "│ dense_3 (\u001b[38;5;33mDense\u001b[0m)                 │ (\u001b[38;5;45mNone\u001b[0m, \u001b[38;5;34m64\u001b[0m)             │         \u001b[38;5;34m2,816\u001b[0m │\n",
       "├─────────────────────────────────┼────────────────────────┼───────────────┤\n",
       "│ activation_3 (\u001b[38;5;33mActivation\u001b[0m)       │ (\u001b[38;5;45mNone\u001b[0m, \u001b[38;5;34m64\u001b[0m)             │             \u001b[38;5;34m0\u001b[0m │\n",
       "├─────────────────────────────────┼────────────────────────┼───────────────┤\n",
       "│ dropout_2 (\u001b[38;5;33mDropout\u001b[0m)             │ (\u001b[38;5;45mNone\u001b[0m, \u001b[38;5;34m64\u001b[0m)             │             \u001b[38;5;34m0\u001b[0m │\n",
       "├─────────────────────────────────┼────────────────────────┼───────────────┤\n",
       "│ dense_4 (\u001b[38;5;33mDense\u001b[0m)                 │ (\u001b[38;5;45mNone\u001b[0m, \u001b[38;5;34m64\u001b[0m)             │         \u001b[38;5;34m4,160\u001b[0m │\n",
       "├─────────────────────────────────┼────────────────────────┼───────────────┤\n",
       "│ activation_4 (\u001b[38;5;33mActivation\u001b[0m)       │ (\u001b[38;5;45mNone\u001b[0m, \u001b[38;5;34m64\u001b[0m)             │             \u001b[38;5;34m0\u001b[0m │\n",
       "├─────────────────────────────────┼────────────────────────┼───────────────┤\n",
       "│ dropout_3 (\u001b[38;5;33mDropout\u001b[0m)             │ (\u001b[38;5;45mNone\u001b[0m, \u001b[38;5;34m64\u001b[0m)             │             \u001b[38;5;34m0\u001b[0m │\n",
       "├─────────────────────────────────┼────────────────────────┼───────────────┤\n",
       "│ dense_5 (\u001b[38;5;33mDense\u001b[0m)                 │ (\u001b[38;5;45mNone\u001b[0m, \u001b[38;5;34m11\u001b[0m)             │           \u001b[38;5;34m715\u001b[0m │\n",
       "├─────────────────────────────────┼────────────────────────┼───────────────┤\n",
       "│ activation_5 (\u001b[38;5;33mActivation\u001b[0m)       │ (\u001b[38;5;45mNone\u001b[0m, \u001b[38;5;34m11\u001b[0m)             │             \u001b[38;5;34m0\u001b[0m │\n",
       "└─────────────────────────────────┴────────────────────────┴───────────────┘\n"
      ]
     },
     "metadata": {},
     "output_type": "display_data"
    },
    {
     "data": {
      "text/html": [
       "<pre style=\"white-space:pre;overflow-x:auto;line-height:normal;font-family:Menlo,'DejaVu Sans Mono',consolas,'Courier New',monospace\"><span style=\"font-weight: bold\"> Total params: </span><span style=\"color: #00af00; text-decoration-color: #00af00\">7,691</span> (30.04 KB)\n",
       "</pre>\n"
      ],
      "text/plain": [
       "\u001b[1m Total params: \u001b[0m\u001b[38;5;34m7,691\u001b[0m (30.04 KB)\n"
      ]
     },
     "metadata": {},
     "output_type": "display_data"
    },
    {
     "data": {
      "text/html": [
       "<pre style=\"white-space:pre;overflow-x:auto;line-height:normal;font-family:Menlo,'DejaVu Sans Mono',consolas,'Courier New',monospace\"><span style=\"font-weight: bold\"> Trainable params: </span><span style=\"color: #00af00; text-decoration-color: #00af00\">7,691</span> (30.04 KB)\n",
       "</pre>\n"
      ],
      "text/plain": [
       "\u001b[1m Trainable params: \u001b[0m\u001b[38;5;34m7,691\u001b[0m (30.04 KB)\n"
      ]
     },
     "metadata": {},
     "output_type": "display_data"
    },
    {
     "data": {
      "text/html": [
       "<pre style=\"white-space:pre;overflow-x:auto;line-height:normal;font-family:Menlo,'DejaVu Sans Mono',consolas,'Courier New',monospace\"><span style=\"font-weight: bold\"> Non-trainable params: </span><span style=\"color: #00af00; text-decoration-color: #00af00\">0</span> (0.00 B)\n",
       "</pre>\n"
      ],
      "text/plain": [
       "\u001b[1m Non-trainable params: \u001b[0m\u001b[38;5;34m0\u001b[0m (0.00 B)\n"
      ]
     },
     "metadata": {},
     "output_type": "display_data"
    },
    {
     "name": "stdout",
     "output_type": "stream",
     "text": [
      "None\n"
     ]
    }
   ],
   "source": [
    "### Construct Keras model\n",
    "\n",
    "# A sequential model is a linear stack of layers\n",
    "model = Sequential()\n",
    "\n",
    "# First layer: fully-connected with relu activation\n",
    "model.add(Dense(64, input_shape=input_shape))\n",
    "model.add(Activation('relu'))\n",
    "model.add(Dropout(0.25))\n",
    "\n",
    "# Second layer: fully-connected with relu activation\n",
    "model.add(Dense(64))   # Input shape is determined automatically from previous layer\n",
    "model.add(Activation('relu'))\n",
    "model.add(Dropout(0.25))\n",
    "\n",
    "# Third layer: 10 nodes, one for each class, and softmax activation\n",
    "model.add(Dense(num_classes))\n",
    "model.add(Activation('softmax'))\n",
    "\n",
    "# Configure the model's training settings\n",
    "model.compile(loss='categorical_crossentropy', optimizer='adam', metrics=['acc'])\n",
    "\n",
    "# Print out model summary\n",
    "print(model.summary())\n",
    "    "
   ]
  },
  {
   "cell_type": "markdown",
   "id": "4c26e080-97a6-4cba-9f4d-0819e4d63d2b",
   "metadata": {},
   "source": [
    "Model training"
   ]
  },
  {
   "cell_type": "code",
   "execution_count": 28,
   "id": "99d97ff7-8e43-4e5a-b07c-c86c87af4ddc",
   "metadata": {
    "scrolled": true
   },
   "outputs": [
    {
     "name": "stdout",
     "output_type": "stream",
     "text": [
      "Epoch 1/200\n",
      "\u001b[1m14792/14792\u001b[0m \u001b[32m━━━━━━━━━━━━━━━━━━━━\u001b[0m\u001b[37m\u001b[0m \u001b[1m11s\u001b[0m 658us/step - acc: 0.5653 - loss: 1.2643 - val_acc: 0.7631 - val_loss: 0.7016\n",
      "Epoch 2/200\n",
      "\u001b[1m14792/14792\u001b[0m \u001b[32m━━━━━━━━━━━━━━━━━━━━\u001b[0m\u001b[37m\u001b[0m \u001b[1m9s\u001b[0m 575us/step - acc: 0.6925 - loss: 0.8763 - val_acc: 0.7885 - val_loss: 0.6225\n",
      "Epoch 3/200\n",
      "\u001b[1m14792/14792\u001b[0m \u001b[32m━━━━━━━━━━━━━━━━━━━━\u001b[0m\u001b[37m\u001b[0m \u001b[1m9s\u001b[0m 588us/step - acc: 0.7128 - loss: 0.8209 - val_acc: 0.7996 - val_loss: 0.5852\n",
      "Epoch 4/200\n",
      "\u001b[1m14792/14792\u001b[0m \u001b[32m━━━━━━━━━━━━━━━━━━━━\u001b[0m\u001b[37m\u001b[0m \u001b[1m9s\u001b[0m 592us/step - acc: 0.7228 - loss: 0.7885 - val_acc: 0.8085 - val_loss: 0.5602\n",
      "Epoch 5/200\n",
      "\u001b[1m14792/14792\u001b[0m \u001b[32m━━━━━━━━━━━━━━━━━━━━\u001b[0m\u001b[37m\u001b[0m \u001b[1m8s\u001b[0m 572us/step - acc: 0.7306 - loss: 0.7700 - val_acc: 0.8127 - val_loss: 0.5567\n",
      "Epoch 6/200\n",
      "\u001b[1m14792/14792\u001b[0m \u001b[32m━━━━━━━━━━━━━━━━━━━━\u001b[0m\u001b[37m\u001b[0m \u001b[1m8s\u001b[0m 573us/step - acc: 0.7339 - loss: 0.7548 - val_acc: 0.8148 - val_loss: 0.5388\n",
      "Epoch 7/200\n",
      "\u001b[1m14792/14792\u001b[0m \u001b[32m━━━━━━━━━━━━━━━━━━━━\u001b[0m\u001b[37m\u001b[0m \u001b[1m9s\u001b[0m 592us/step - acc: 0.7395 - loss: 0.7451 - val_acc: 0.8197 - val_loss: 0.5318\n",
      "Epoch 8/200\n",
      "\u001b[1m14792/14792\u001b[0m \u001b[32m━━━━━━━━━━━━━━━━━━━━\u001b[0m\u001b[37m\u001b[0m \u001b[1m9s\u001b[0m 576us/step - acc: 0.7433 - loss: 0.7331 - val_acc: 0.8213 - val_loss: 0.5282\n",
      "Epoch 9/200\n",
      "\u001b[1m14792/14792\u001b[0m \u001b[32m━━━━━━━━━━━━━━━━━━━━\u001b[0m\u001b[37m\u001b[0m \u001b[1m8s\u001b[0m 556us/step - acc: 0.7445 - loss: 0.7296 - val_acc: 0.8231 - val_loss: 0.5177\n",
      "Epoch 10/200\n",
      "\u001b[1m14792/14792\u001b[0m \u001b[32m━━━━━━━━━━━━━━━━━━━━\u001b[0m\u001b[37m\u001b[0m \u001b[1m8s\u001b[0m 549us/step - acc: 0.7462 - loss: 0.7226 - val_acc: 0.8243 - val_loss: 0.5187\n",
      "Epoch 11/200\n",
      "\u001b[1m14792/14792\u001b[0m \u001b[32m━━━━━━━━━━━━━━━━━━━━\u001b[0m\u001b[37m\u001b[0m \u001b[1m8s\u001b[0m 543us/step - acc: 0.7486 - loss: 0.7194 - val_acc: 0.8284 - val_loss: 0.5058\n",
      "Epoch 12/200\n",
      "\u001b[1m14792/14792\u001b[0m \u001b[32m━━━━━━━━━━━━━━━━━━━━\u001b[0m\u001b[37m\u001b[0m \u001b[1m8s\u001b[0m 547us/step - acc: 0.7489 - loss: 0.7150 - val_acc: 0.8295 - val_loss: 0.4998\n",
      "Epoch 13/200\n",
      "\u001b[1m14792/14792\u001b[0m \u001b[32m━━━━━━━━━━━━━━━━━━━━\u001b[0m\u001b[37m\u001b[0m \u001b[1m8s\u001b[0m 548us/step - acc: 0.7521 - loss: 0.7064 - val_acc: 0.8226 - val_loss: 0.5084\n",
      "Epoch 14/200\n",
      "\u001b[1m14792/14792\u001b[0m \u001b[32m━━━━━━━━━━━━━━━━━━━━\u001b[0m\u001b[37m\u001b[0m \u001b[1m8s\u001b[0m 555us/step - acc: 0.7507 - loss: 0.7066 - val_acc: 0.8301 - val_loss: 0.4996\n",
      "Epoch 15/200\n",
      "\u001b[1m14792/14792\u001b[0m \u001b[32m━━━━━━━━━━━━━━━━━━━━\u001b[0m\u001b[37m\u001b[0m \u001b[1m9s\u001b[0m 599us/step - acc: 0.7537 - loss: 0.7035 - val_acc: 0.8308 - val_loss: 0.4950\n",
      "Epoch 16/200\n",
      "\u001b[1m14792/14792\u001b[0m \u001b[32m━━━━━━━━━━━━━━━━━━━━\u001b[0m\u001b[37m\u001b[0m \u001b[1m9s\u001b[0m 611us/step - acc: 0.7529 - loss: 0.7016 - val_acc: 0.8322 - val_loss: 0.4877\n",
      "Epoch 17/200\n",
      "\u001b[1m14792/14792\u001b[0m \u001b[32m━━━━━━━━━━━━━━━━━━━━\u001b[0m\u001b[37m\u001b[0m \u001b[1m9s\u001b[0m 585us/step - acc: 0.7548 - loss: 0.6969 - val_acc: 0.8352 - val_loss: 0.4890\n",
      "Epoch 18/200\n",
      "\u001b[1m14792/14792\u001b[0m \u001b[32m━━━━━━━━━━━━━━━━━━━━\u001b[0m\u001b[37m\u001b[0m \u001b[1m9s\u001b[0m 597us/step - acc: 0.7567 - loss: 0.6929 - val_acc: 0.8344 - val_loss: 0.4866\n",
      "Epoch 19/200\n",
      "\u001b[1m14792/14792\u001b[0m \u001b[32m━━━━━━━━━━━━━━━━━━━━\u001b[0m\u001b[37m\u001b[0m \u001b[1m9s\u001b[0m 579us/step - acc: 0.7567 - loss: 0.6912 - val_acc: 0.8327 - val_loss: 0.4881\n",
      "Epoch 20/200\n",
      "\u001b[1m14792/14792\u001b[0m \u001b[32m━━━━━━━━━━━━━━━━━━━━\u001b[0m\u001b[37m\u001b[0m \u001b[1m9s\u001b[0m 606us/step - acc: 0.7585 - loss: 0.6886 - val_acc: 0.8357 - val_loss: 0.4837\n",
      "Epoch 21/200\n",
      "\u001b[1m14792/14792\u001b[0m \u001b[32m━━━━━━━━━━━━━━━━━━━━\u001b[0m\u001b[37m\u001b[0m \u001b[1m9s\u001b[0m 594us/step - acc: 0.7569 - loss: 0.6914 - val_acc: 0.8368 - val_loss: 0.4790\n",
      "Epoch 22/200\n",
      "\u001b[1m14792/14792\u001b[0m \u001b[32m━━━━━━━━━━━━━━━━━━━━\u001b[0m\u001b[37m\u001b[0m \u001b[1m8s\u001b[0m 571us/step - acc: 0.7588 - loss: 0.6868 - val_acc: 0.8336 - val_loss: 0.4831\n",
      "Epoch 23/200\n",
      "\u001b[1m14792/14792\u001b[0m \u001b[32m━━━━━━━━━━━━━━━━━━━━\u001b[0m\u001b[37m\u001b[0m \u001b[1m9s\u001b[0m 584us/step - acc: 0.7594 - loss: 0.6846 - val_acc: 0.8384 - val_loss: 0.4793\n",
      "Epoch 24/200\n",
      "\u001b[1m14792/14792\u001b[0m \u001b[32m━━━━━━━━━━━━━━━━━━━━\u001b[0m\u001b[37m\u001b[0m \u001b[1m9s\u001b[0m 576us/step - acc: 0.7610 - loss: 0.6826 - val_acc: 0.8356 - val_loss: 0.4772\n",
      "Epoch 25/200\n",
      "\u001b[1m14792/14792\u001b[0m \u001b[32m━━━━━━━━━━━━━━━━━━━━\u001b[0m\u001b[37m\u001b[0m \u001b[1m9s\u001b[0m 575us/step - acc: 0.7593 - loss: 0.6826 - val_acc: 0.8363 - val_loss: 0.4760\n",
      "Epoch 26/200\n",
      "\u001b[1m14792/14792\u001b[0m \u001b[32m━━━━━━━━━━━━━━━━━━━━\u001b[0m\u001b[37m\u001b[0m \u001b[1m9s\u001b[0m 579us/step - acc: 0.7603 - loss: 0.6822 - val_acc: 0.8399 - val_loss: 0.4736\n",
      "Epoch 27/200\n",
      "\u001b[1m14792/14792\u001b[0m \u001b[32m━━━━━━━━━━━━━━━━━━━━\u001b[0m\u001b[37m\u001b[0m \u001b[1m9s\u001b[0m 590us/step - acc: 0.7622 - loss: 0.6789 - val_acc: 0.8413 - val_loss: 0.4704\n",
      "Epoch 28/200\n",
      "\u001b[1m14792/14792\u001b[0m \u001b[32m━━━━━━━━━━━━━━━━━━━━\u001b[0m\u001b[37m\u001b[0m \u001b[1m9s\u001b[0m 599us/step - acc: 0.7603 - loss: 0.6806 - val_acc: 0.8383 - val_loss: 0.4712\n",
      "Epoch 29/200\n",
      "\u001b[1m14792/14792\u001b[0m \u001b[32m━━━━━━━━━━━━━━━━━━━━\u001b[0m\u001b[37m\u001b[0m \u001b[1m9s\u001b[0m 587us/step - acc: 0.7623 - loss: 0.6777 - val_acc: 0.8403 - val_loss: 0.4714\n",
      "Epoch 30/200\n",
      "\u001b[1m14792/14792\u001b[0m \u001b[32m━━━━━━━━━━━━━━━━━━━━\u001b[0m\u001b[37m\u001b[0m \u001b[1m9s\u001b[0m 607us/step - acc: 0.7632 - loss: 0.6757 - val_acc: 0.8411 - val_loss: 0.4678\n",
      "Epoch 31/200\n",
      "\u001b[1m14792/14792\u001b[0m \u001b[32m━━━━━━━━━━━━━━━━━━━━\u001b[0m\u001b[37m\u001b[0m \u001b[1m9s\u001b[0m 595us/step - acc: 0.7635 - loss: 0.6771 - val_acc: 0.8411 - val_loss: 0.4664\n",
      "Epoch 32/200\n",
      "\u001b[1m14792/14792\u001b[0m \u001b[32m━━━━━━━━━━━━━━━━━━━━\u001b[0m\u001b[37m\u001b[0m \u001b[1m9s\u001b[0m 597us/step - acc: 0.7646 - loss: 0.6725 - val_acc: 0.8390 - val_loss: 0.4722\n",
      "Epoch 33/200\n",
      "\u001b[1m14792/14792\u001b[0m \u001b[32m━━━━━━━━━━━━━━━━━━━━\u001b[0m\u001b[37m\u001b[0m \u001b[1m9s\u001b[0m 586us/step - acc: 0.7644 - loss: 0.6713 - val_acc: 0.8400 - val_loss: 0.4695\n",
      "Epoch 34/200\n",
      "\u001b[1m14792/14792\u001b[0m \u001b[32m━━━━━━━━━━━━━━━━━━━━\u001b[0m\u001b[37m\u001b[0m \u001b[1m9s\u001b[0m 598us/step - acc: 0.7649 - loss: 0.6705 - val_acc: 0.8407 - val_loss: 0.4671\n",
      "Epoch 35/200\n",
      "\u001b[1m14792/14792\u001b[0m \u001b[32m━━━━━━━━━━━━━━━━━━━━\u001b[0m\u001b[37m\u001b[0m \u001b[1m9s\u001b[0m 589us/step - acc: 0.7630 - loss: 0.6731 - val_acc: 0.8397 - val_loss: 0.4660\n",
      "Epoch 36/200\n",
      "\u001b[1m14792/14792\u001b[0m \u001b[32m━━━━━━━━━━━━━━━━━━━━\u001b[0m\u001b[37m\u001b[0m \u001b[1m9s\u001b[0m 589us/step - acc: 0.7643 - loss: 0.6714 - val_acc: 0.8410 - val_loss: 0.4651\n",
      "Epoch 37/200\n",
      "\u001b[1m14792/14792\u001b[0m \u001b[32m━━━━━━━━━━━━━━━━━━━━\u001b[0m\u001b[37m\u001b[0m \u001b[1m9s\u001b[0m 593us/step - acc: 0.7647 - loss: 0.6702 - val_acc: 0.8419 - val_loss: 0.4627\n",
      "Epoch 38/200\n",
      "\u001b[1m14792/14792\u001b[0m \u001b[32m━━━━━━━━━━━━━━━━━━━━\u001b[0m\u001b[37m\u001b[0m \u001b[1m9s\u001b[0m 599us/step - acc: 0.7657 - loss: 0.6676 - val_acc: 0.8393 - val_loss: 0.4691\n",
      "Epoch 39/200\n",
      "\u001b[1m14792/14792\u001b[0m \u001b[32m━━━━━━━━━━━━━━━━━━━━\u001b[0m\u001b[37m\u001b[0m \u001b[1m9s\u001b[0m 596us/step - acc: 0.7656 - loss: 0.6662 - val_acc: 0.8423 - val_loss: 0.4621\n",
      "Epoch 40/200\n",
      "\u001b[1m14792/14792\u001b[0m \u001b[32m━━━━━━━━━━━━━━━━━━━━\u001b[0m\u001b[37m\u001b[0m \u001b[1m9s\u001b[0m 593us/step - acc: 0.7641 - loss: 0.6697 - val_acc: 0.8399 - val_loss: 0.4680\n",
      "Epoch 41/200\n",
      "\u001b[1m14792/14792\u001b[0m \u001b[32m━━━━━━━━━━━━━━━━━━━━\u001b[0m\u001b[37m\u001b[0m \u001b[1m9s\u001b[0m 603us/step - acc: 0.7674 - loss: 0.6641 - val_acc: 0.8429 - val_loss: 0.4633\n",
      "Epoch 42/200\n",
      "\u001b[1m14792/14792\u001b[0m \u001b[32m━━━━━━━━━━━━━━━━━━━━\u001b[0m\u001b[37m\u001b[0m \u001b[1m9s\u001b[0m 592us/step - acc: 0.7672 - loss: 0.6637 - val_acc: 0.8410 - val_loss: 0.4610\n",
      "Epoch 43/200\n",
      "\u001b[1m14792/14792\u001b[0m \u001b[32m━━━━━━━━━━━━━━━━━━━━\u001b[0m\u001b[37m\u001b[0m \u001b[1m9s\u001b[0m 600us/step - acc: 0.7673 - loss: 0.6639 - val_acc: 0.8400 - val_loss: 0.4698\n",
      "Epoch 44/200\n",
      "\u001b[1m14792/14792\u001b[0m \u001b[32m━━━━━━━━━━━━━━━━━━━━\u001b[0m\u001b[37m\u001b[0m \u001b[1m9s\u001b[0m 618us/step - acc: 0.7685 - loss: 0.6623 - val_acc: 0.8432 - val_loss: 0.4606\n",
      "Epoch 45/200\n",
      "\u001b[1m14792/14792\u001b[0m \u001b[32m━━━━━━━━━━━━━━━━━━━━\u001b[0m\u001b[37m\u001b[0m \u001b[1m9s\u001b[0m 598us/step - acc: 0.7672 - loss: 0.6628 - val_acc: 0.8402 - val_loss: 0.4600\n",
      "Epoch 46/200\n",
      "\u001b[1m14792/14792\u001b[0m \u001b[32m━━━━━━━━━━━━━━━━━━━━\u001b[0m\u001b[37m\u001b[0m \u001b[1m9s\u001b[0m 597us/step - acc: 0.7668 - loss: 0.6643 - val_acc: 0.8437 - val_loss: 0.4567\n",
      "Epoch 47/200\n",
      "\u001b[1m14792/14792\u001b[0m \u001b[32m━━━━━━━━━━━━━━━━━━━━\u001b[0m\u001b[37m\u001b[0m \u001b[1m9s\u001b[0m 604us/step - acc: 0.7688 - loss: 0.6611 - val_acc: 0.8415 - val_loss: 0.4594\n",
      "Epoch 48/200\n",
      "\u001b[1m14792/14792\u001b[0m \u001b[32m━━━━━━━━━━━━━━━━━━━━\u001b[0m\u001b[37m\u001b[0m \u001b[1m9s\u001b[0m 621us/step - acc: 0.7684 - loss: 0.6614 - val_acc: 0.8400 - val_loss: 0.4616\n",
      "Epoch 49/200\n",
      "\u001b[1m14792/14792\u001b[0m \u001b[32m━━━━━━━━━━━━━━━━━━━━\u001b[0m\u001b[37m\u001b[0m \u001b[1m9s\u001b[0m 594us/step - acc: 0.7686 - loss: 0.6580 - val_acc: 0.8413 - val_loss: 0.4571\n",
      "Epoch 50/200\n",
      "\u001b[1m14792/14792\u001b[0m \u001b[32m━━━━━━━━━━━━━━━━━━━━\u001b[0m\u001b[37m\u001b[0m \u001b[1m9s\u001b[0m 585us/step - acc: 0.7696 - loss: 0.6586 - val_acc: 0.8450 - val_loss: 0.4569\n",
      "Epoch 51/200\n",
      "\u001b[1m14792/14792\u001b[0m \u001b[32m━━━━━━━━━━━━━━━━━━━━\u001b[0m\u001b[37m\u001b[0m \u001b[1m9s\u001b[0m 589us/step - acc: 0.7687 - loss: 0.6609 - val_acc: 0.8436 - val_loss: 0.4560\n",
      "Epoch 52/200\n",
      "\u001b[1m14792/14792\u001b[0m \u001b[32m━━━━━━━━━━━━━━━━━━━━\u001b[0m\u001b[37m\u001b[0m \u001b[1m9s\u001b[0m 613us/step - acc: 0.7693 - loss: 0.6591 - val_acc: 0.8448 - val_loss: 0.4576\n",
      "Epoch 53/200\n",
      "\u001b[1m14792/14792\u001b[0m \u001b[32m━━━━━━━━━━━━━━━━━━━━\u001b[0m\u001b[37m\u001b[0m \u001b[1m9s\u001b[0m 604us/step - acc: 0.7705 - loss: 0.6558 - val_acc: 0.8424 - val_loss: 0.4612\n",
      "Epoch 54/200\n",
      "\u001b[1m14792/14792\u001b[0m \u001b[32m━━━━━━━━━━━━━━━━━━━━\u001b[0m\u001b[37m\u001b[0m \u001b[1m9s\u001b[0m 606us/step - acc: 0.7692 - loss: 0.6607 - val_acc: 0.8454 - val_loss: 0.4516\n",
      "Epoch 55/200\n",
      "\u001b[1m14792/14792\u001b[0m \u001b[32m━━━━━━━━━━━━━━━━━━━━\u001b[0m\u001b[37m\u001b[0m \u001b[1m9s\u001b[0m 594us/step - acc: 0.7696 - loss: 0.6578 - val_acc: 0.8471 - val_loss: 0.4483\n",
      "Epoch 56/200\n",
      "\u001b[1m14792/14792\u001b[0m \u001b[32m━━━━━━━━━━━━━━━━━━━━\u001b[0m\u001b[37m\u001b[0m \u001b[1m9s\u001b[0m 599us/step - acc: 0.7707 - loss: 0.6551 - val_acc: 0.8432 - val_loss: 0.4537\n",
      "Epoch 57/200\n",
      "\u001b[1m14792/14792\u001b[0m \u001b[32m━━━━━━━━━━━━━━━━━━━━\u001b[0m\u001b[37m\u001b[0m \u001b[1m9s\u001b[0m 596us/step - acc: 0.7707 - loss: 0.6537 - val_acc: 0.8423 - val_loss: 0.4522\n",
      "Epoch 58/200\n",
      "\u001b[1m14792/14792\u001b[0m \u001b[32m━━━━━━━━━━━━━━━━━━━━\u001b[0m\u001b[37m\u001b[0m \u001b[1m9s\u001b[0m 598us/step - acc: 0.7699 - loss: 0.6556 - val_acc: 0.8472 - val_loss: 0.4449\n",
      "Epoch 59/200\n",
      "\u001b[1m14792/14792\u001b[0m \u001b[32m━━━━━━━━━━━━━━━━━━━━\u001b[0m\u001b[37m\u001b[0m \u001b[1m9s\u001b[0m 585us/step - acc: 0.7701 - loss: 0.6539 - val_acc: 0.8435 - val_loss: 0.4525\n",
      "Epoch 60/200\n",
      "\u001b[1m14792/14792\u001b[0m \u001b[32m━━━━━━━━━━━━━━━━━━━━\u001b[0m\u001b[37m\u001b[0m \u001b[1m9s\u001b[0m 591us/step - acc: 0.7712 - loss: 0.6517 - val_acc: 0.8462 - val_loss: 0.4518\n",
      "Epoch 61/200\n",
      "\u001b[1m14792/14792\u001b[0m \u001b[32m━━━━━━━━━━━━━━━━━━━━\u001b[0m\u001b[37m\u001b[0m \u001b[1m9s\u001b[0m 594us/step - acc: 0.7715 - loss: 0.6527 - val_acc: 0.8476 - val_loss: 0.4470\n",
      "Epoch 62/200\n",
      "\u001b[1m14792/14792\u001b[0m \u001b[32m━━━━━━━━━━━━━━━━━━━━\u001b[0m\u001b[37m\u001b[0m \u001b[1m9s\u001b[0m 613us/step - acc: 0.7716 - loss: 0.6500 - val_acc: 0.8467 - val_loss: 0.4460\n",
      "Epoch 63/200\n",
      "\u001b[1m14792/14792\u001b[0m \u001b[32m━━━━━━━━━━━━━━━━━━━━\u001b[0m\u001b[37m\u001b[0m \u001b[1m9s\u001b[0m 602us/step - acc: 0.7714 - loss: 0.6526 - val_acc: 0.8465 - val_loss: 0.4444\n",
      "Epoch 64/200\n",
      "\u001b[1m14792/14792\u001b[0m \u001b[32m━━━━━━━━━━━━━━━━━━━━\u001b[0m\u001b[37m\u001b[0m \u001b[1m9s\u001b[0m 613us/step - acc: 0.7711 - loss: 0.6507 - val_acc: 0.8414 - val_loss: 0.4562\n",
      "Epoch 65/200\n",
      "\u001b[1m14792/14792\u001b[0m \u001b[32m━━━━━━━━━━━━━━━━━━━━\u001b[0m\u001b[37m\u001b[0m \u001b[1m9s\u001b[0m 584us/step - acc: 0.7726 - loss: 0.6494 - val_acc: 0.8473 - val_loss: 0.4470\n",
      "Epoch 66/200\n",
      "\u001b[1m14792/14792\u001b[0m \u001b[32m━━━━━━━━━━━━━━━━━━━━\u001b[0m\u001b[37m\u001b[0m \u001b[1m9s\u001b[0m 581us/step - acc: 0.7742 - loss: 0.6460 - val_acc: 0.8492 - val_loss: 0.4432\n",
      "Epoch 67/200\n",
      "\u001b[1m14792/14792\u001b[0m \u001b[32m━━━━━━━━━━━━━━━━━━━━\u001b[0m\u001b[37m\u001b[0m \u001b[1m9s\u001b[0m 576us/step - acc: 0.7733 - loss: 0.6448 - val_acc: 0.8504 - val_loss: 0.4411\n",
      "Epoch 68/200\n",
      "\u001b[1m14792/14792\u001b[0m \u001b[32m━━━━━━━━━━━━━━━━━━━━\u001b[0m\u001b[37m\u001b[0m \u001b[1m9s\u001b[0m 600us/step - acc: 0.7740 - loss: 0.6445 - val_acc: 0.8506 - val_loss: 0.4413\n",
      "Epoch 69/200\n",
      "\u001b[1m14792/14792\u001b[0m \u001b[32m━━━━━━━━━━━━━━━━━━━━\u001b[0m\u001b[37m\u001b[0m \u001b[1m9s\u001b[0m 620us/step - acc: 0.7733 - loss: 0.6467 - val_acc: 0.8497 - val_loss: 0.4374\n",
      "Epoch 70/200\n",
      "\u001b[1m14792/14792\u001b[0m \u001b[32m━━━━━━━━━━━━━━━━━━━━\u001b[0m\u001b[37m\u001b[0m \u001b[1m9s\u001b[0m 602us/step - acc: 0.7733 - loss: 0.6455 - val_acc: 0.8461 - val_loss: 0.4443\n",
      "Epoch 71/200\n",
      "\u001b[1m14792/14792\u001b[0m \u001b[32m━━━━━━━━━━━━━━━━━━━━\u001b[0m\u001b[37m\u001b[0m \u001b[1m9s\u001b[0m 596us/step - acc: 0.7727 - loss: 0.6501 - val_acc: 0.8474 - val_loss: 0.4494\n",
      "Epoch 72/200\n",
      "\u001b[1m14792/14792\u001b[0m \u001b[32m━━━━━━━━━━━━━━━━━━━━\u001b[0m\u001b[37m\u001b[0m \u001b[1m9s\u001b[0m 584us/step - acc: 0.7738 - loss: 0.6449 - val_acc: 0.8461 - val_loss: 0.4515\n",
      "Epoch 73/200\n",
      "\u001b[1m14792/14792\u001b[0m \u001b[32m━━━━━━━━━━━━━━━━━━━━\u001b[0m\u001b[37m\u001b[0m \u001b[1m9s\u001b[0m 601us/step - acc: 0.7724 - loss: 0.6486 - val_acc: 0.8408 - val_loss: 0.4514\n",
      "Epoch 74/200\n",
      "\u001b[1m14792/14792\u001b[0m \u001b[32m━━━━━━━━━━━━━━━━━━━━\u001b[0m\u001b[37m\u001b[0m \u001b[1m9s\u001b[0m 600us/step - acc: 0.7743 - loss: 0.6447 - val_acc: 0.8474 - val_loss: 0.4445\n",
      "Epoch 75/200\n",
      "\u001b[1m14792/14792\u001b[0m \u001b[32m━━━━━━━━━━━━━━━━━━━━\u001b[0m\u001b[37m\u001b[0m \u001b[1m9s\u001b[0m 614us/step - acc: 0.7750 - loss: 0.6420 - val_acc: 0.8511 - val_loss: 0.4449\n",
      "Epoch 76/200\n",
      "\u001b[1m14792/14792\u001b[0m \u001b[32m━━━━━━━━━━━━━━━━━━━━\u001b[0m\u001b[37m\u001b[0m \u001b[1m9s\u001b[0m 600us/step - acc: 0.7743 - loss: 0.6447 - val_acc: 0.8449 - val_loss: 0.4518\n",
      "Epoch 77/200\n",
      "\u001b[1m14792/14792\u001b[0m \u001b[32m━━━━━━━━━━━━━━━━━━━━\u001b[0m\u001b[37m\u001b[0m \u001b[1m9s\u001b[0m 598us/step - acc: 0.7746 - loss: 0.6424 - val_acc: 0.8464 - val_loss: 0.4449\n",
      "Epoch 78/200\n",
      "\u001b[1m14792/14792\u001b[0m \u001b[32m━━━━━━━━━━━━━━━━━━━━\u001b[0m\u001b[37m\u001b[0m \u001b[1m9s\u001b[0m 599us/step - acc: 0.7733 - loss: 0.6448 - val_acc: 0.8517 - val_loss: 0.4379\n",
      "Epoch 79/200\n",
      "\u001b[1m14792/14792\u001b[0m \u001b[32m━━━━━━━━━━━━━━━━━━━━\u001b[0m\u001b[37m\u001b[0m \u001b[1m9s\u001b[0m 614us/step - acc: 0.7734 - loss: 0.6465 - val_acc: 0.8518 - val_loss: 0.4383\n",
      "Epoch 80/200\n",
      "\u001b[1m14792/14792\u001b[0m \u001b[32m━━━━━━━━━━━━━━━━━━━━\u001b[0m\u001b[37m\u001b[0m \u001b[1m9s\u001b[0m 601us/step - acc: 0.7753 - loss: 0.6422 - val_acc: 0.8421 - val_loss: 0.4492\n",
      "Epoch 81/200\n",
      "\u001b[1m14792/14792\u001b[0m \u001b[32m━━━━━━━━━━━━━━━━━━━━\u001b[0m\u001b[37m\u001b[0m \u001b[1m9s\u001b[0m 598us/step - acc: 0.7745 - loss: 0.6423 - val_acc: 0.8500 - val_loss: 0.4388\n",
      "Epoch 82/200\n",
      "\u001b[1m14792/14792\u001b[0m \u001b[32m━━━━━━━━━━━━━━━━━━━━\u001b[0m\u001b[37m\u001b[0m \u001b[1m9s\u001b[0m 620us/step - acc: 0.7732 - loss: 0.6451 - val_acc: 0.8473 - val_loss: 0.4445\n",
      "Epoch 83/200\n",
      "\u001b[1m14792/14792\u001b[0m \u001b[32m━━━━━━━━━━━━━━━━━━━━\u001b[0m\u001b[37m\u001b[0m \u001b[1m9s\u001b[0m 596us/step - acc: 0.7761 - loss: 0.6409 - val_acc: 0.8512 - val_loss: 0.4393\n",
      "Epoch 84/200\n",
      "\u001b[1m14792/14792\u001b[0m \u001b[32m━━━━━━━━━━━━━━━━━━━━\u001b[0m\u001b[37m\u001b[0m \u001b[1m9s\u001b[0m 606us/step - acc: 0.7749 - loss: 0.6427 - val_acc: 0.8509 - val_loss: 0.4390\n",
      "Epoch 85/200\n",
      "\u001b[1m14792/14792\u001b[0m \u001b[32m━━━━━━━━━━━━━━━━━━━━\u001b[0m\u001b[37m\u001b[0m \u001b[1m9s\u001b[0m 612us/step - acc: 0.7762 - loss: 0.6411 - val_acc: 0.8486 - val_loss: 0.4422\n",
      "Epoch 86/200\n",
      "\u001b[1m14792/14792\u001b[0m \u001b[32m━━━━━━━━━━━━━━━━━━━━\u001b[0m\u001b[37m\u001b[0m \u001b[1m9s\u001b[0m 607us/step - acc: 0.7759 - loss: 0.6391 - val_acc: 0.8493 - val_loss: 0.4385\n",
      "Epoch 87/200\n",
      "\u001b[1m14792/14792\u001b[0m \u001b[32m━━━━━━━━━━━━━━━━━━━━\u001b[0m\u001b[37m\u001b[0m \u001b[1m9s\u001b[0m 583us/step - acc: 0.7758 - loss: 0.6391 - val_acc: 0.8495 - val_loss: 0.4413\n",
      "Epoch 88/200\n",
      "\u001b[1m14792/14792\u001b[0m \u001b[32m━━━━━━━━━━━━━━━━━━━━\u001b[0m\u001b[37m\u001b[0m \u001b[1m9s\u001b[0m 581us/step - acc: 0.7758 - loss: 0.6395 - val_acc: 0.8462 - val_loss: 0.4399\n",
      "Epoch 89/200\n",
      "\u001b[1m14792/14792\u001b[0m \u001b[32m━━━━━━━━━━━━━━━━━━━━\u001b[0m\u001b[37m\u001b[0m \u001b[1m9s\u001b[0m 594us/step - acc: 0.7769 - loss: 0.6378 - val_acc: 0.8523 - val_loss: 0.4381\n",
      "Epoch 90/200\n",
      "\u001b[1m14792/14792\u001b[0m \u001b[32m━━━━━━━━━━━━━━━━━━━━\u001b[0m\u001b[37m\u001b[0m \u001b[1m9s\u001b[0m 587us/step - acc: 0.7753 - loss: 0.6404 - val_acc: 0.8510 - val_loss: 0.4371\n",
      "Epoch 91/200\n",
      "\u001b[1m14792/14792\u001b[0m \u001b[32m━━━━━━━━━━━━━━━━━━━━\u001b[0m\u001b[37m\u001b[0m \u001b[1m9s\u001b[0m 592us/step - acc: 0.7771 - loss: 0.6385 - val_acc: 0.8521 - val_loss: 0.4368\n",
      "Epoch 92/200\n",
      "\u001b[1m14792/14792\u001b[0m \u001b[32m━━━━━━━━━━━━━━━━━━━━\u001b[0m\u001b[37m\u001b[0m \u001b[1m9s\u001b[0m 583us/step - acc: 0.7755 - loss: 0.6379 - val_acc: 0.8513 - val_loss: 0.4388\n",
      "Epoch 93/200\n",
      "\u001b[1m14792/14792\u001b[0m \u001b[32m━━━━━━━━━━━━━━━━━━━━\u001b[0m\u001b[37m\u001b[0m \u001b[1m8s\u001b[0m 570us/step - acc: 0.7749 - loss: 0.6420 - val_acc: 0.8494 - val_loss: 0.4353\n",
      "Epoch 94/200\n",
      "\u001b[1m14792/14792\u001b[0m \u001b[32m━━━━━━━━━━━━━━━━━━━━\u001b[0m\u001b[37m\u001b[0m \u001b[1m9s\u001b[0m 591us/step - acc: 0.7755 - loss: 0.6401 - val_acc: 0.8533 - val_loss: 0.4347\n",
      "Epoch 95/200\n",
      "\u001b[1m14792/14792\u001b[0m \u001b[32m━━━━━━━━━━━━━━━━━━━━\u001b[0m\u001b[37m\u001b[0m \u001b[1m9s\u001b[0m 584us/step - acc: 0.7757 - loss: 0.6404 - val_acc: 0.8506 - val_loss: 0.4329\n",
      "Epoch 96/200\n",
      "\u001b[1m14792/14792\u001b[0m \u001b[32m━━━━━━━━━━━━━━━━━━━━\u001b[0m\u001b[37m\u001b[0m \u001b[1m9s\u001b[0m 597us/step - acc: 0.7764 - loss: 0.6396 - val_acc: 0.8507 - val_loss: 0.4368\n",
      "Epoch 97/200\n",
      "\u001b[1m14792/14792\u001b[0m \u001b[32m━━━━━━━━━━━━━━━━━━━━\u001b[0m\u001b[37m\u001b[0m \u001b[1m9s\u001b[0m 614us/step - acc: 0.7751 - loss: 0.6406 - val_acc: 0.8520 - val_loss: 0.4342\n",
      "Epoch 98/200\n",
      "\u001b[1m14792/14792\u001b[0m \u001b[32m━━━━━━━━━━━━━━━━━━━━\u001b[0m\u001b[37m\u001b[0m \u001b[1m9s\u001b[0m 579us/step - acc: 0.7764 - loss: 0.6390 - val_acc: 0.8547 - val_loss: 0.4341\n",
      "Epoch 99/200\n",
      "\u001b[1m14792/14792\u001b[0m \u001b[32m━━━━━━━━━━━━━━━━━━━━\u001b[0m\u001b[37m\u001b[0m \u001b[1m9s\u001b[0m 577us/step - acc: 0.7767 - loss: 0.6372 - val_acc: 0.8547 - val_loss: 0.4312\n",
      "Epoch 100/200\n",
      "\u001b[1m14792/14792\u001b[0m \u001b[32m━━━━━━━━━━━━━━━━━━━━\u001b[0m\u001b[37m\u001b[0m \u001b[1m9s\u001b[0m 597us/step - acc: 0.7748 - loss: 0.6423 - val_acc: 0.8520 - val_loss: 0.4347\n",
      "Epoch 101/200\n",
      "\u001b[1m14792/14792\u001b[0m \u001b[32m━━━━━━━━━━━━━━━━━━━━\u001b[0m\u001b[37m\u001b[0m \u001b[1m9s\u001b[0m 594us/step - acc: 0.7760 - loss: 0.6373 - val_acc: 0.8528 - val_loss: 0.4321\n",
      "Epoch 102/200\n",
      "\u001b[1m14792/14792\u001b[0m \u001b[32m━━━━━━━━━━━━━━━━━━━━\u001b[0m\u001b[37m\u001b[0m \u001b[1m9s\u001b[0m 587us/step - acc: 0.7776 - loss: 0.6343 - val_acc: 0.8516 - val_loss: 0.4349\n",
      "Epoch 103/200\n",
      "\u001b[1m14792/14792\u001b[0m \u001b[32m━━━━━━━━━━━━━━━━━━━━\u001b[0m\u001b[37m\u001b[0m \u001b[1m9s\u001b[0m 584us/step - acc: 0.7770 - loss: 0.6365 - val_acc: 0.8523 - val_loss: 0.4338\n",
      "Epoch 104/200\n",
      "\u001b[1m14792/14792\u001b[0m \u001b[32m━━━━━━━━━━━━━━━━━━━━\u001b[0m\u001b[37m\u001b[0m \u001b[1m9s\u001b[0m 588us/step - acc: 0.7763 - loss: 0.6394 - val_acc: 0.8529 - val_loss: 0.4364\n",
      "Epoch 105/200\n",
      "\u001b[1m14792/14792\u001b[0m \u001b[32m━━━━━━━━━━━━━━━━━━━━\u001b[0m\u001b[37m\u001b[0m \u001b[1m9s\u001b[0m 586us/step - acc: 0.7777 - loss: 0.6329 - val_acc: 0.8534 - val_loss: 0.4321\n",
      "Epoch 106/200\n",
      "\u001b[1m14792/14792\u001b[0m \u001b[32m━━━━━━━━━━━━━━━━━━━━\u001b[0m\u001b[37m\u001b[0m \u001b[1m9s\u001b[0m 582us/step - acc: 0.7790 - loss: 0.6328 - val_acc: 0.8515 - val_loss: 0.4328\n",
      "Epoch 107/200\n",
      "\u001b[1m14792/14792\u001b[0m \u001b[32m━━━━━━━━━━━━━━━━━━━━\u001b[0m\u001b[37m\u001b[0m \u001b[1m9s\u001b[0m 590us/step - acc: 0.7772 - loss: 0.6352 - val_acc: 0.8538 - val_loss: 0.4317\n",
      "Epoch 108/200\n",
      "\u001b[1m14792/14792\u001b[0m \u001b[32m━━━━━━━━━━━━━━━━━━━━\u001b[0m\u001b[37m\u001b[0m \u001b[1m9s\u001b[0m 592us/step - acc: 0.7776 - loss: 0.6362 - val_acc: 0.8524 - val_loss: 0.4337\n",
      "Epoch 109/200\n",
      "\u001b[1m14792/14792\u001b[0m \u001b[32m━━━━━━━━━━━━━━━━━━━━\u001b[0m\u001b[37m\u001b[0m \u001b[1m9s\u001b[0m 626us/step - acc: 0.7768 - loss: 0.6344 - val_acc: 0.8523 - val_loss: 0.4312\n",
      "Epoch 110/200\n",
      "\u001b[1m14792/14792\u001b[0m \u001b[32m━━━━━━━━━━━━━━━━━━━━\u001b[0m\u001b[37m\u001b[0m \u001b[1m9s\u001b[0m 604us/step - acc: 0.7779 - loss: 0.6338 - val_acc: 0.8506 - val_loss: 0.4347\n",
      "Epoch 111/200\n",
      "\u001b[1m14792/14792\u001b[0m \u001b[32m━━━━━━━━━━━━━━━━━━━━\u001b[0m\u001b[37m\u001b[0m \u001b[1m9s\u001b[0m 588us/step - acc: 0.7771 - loss: 0.6336 - val_acc: 0.8527 - val_loss: 0.4323\n",
      "Epoch 112/200\n",
      "\u001b[1m14792/14792\u001b[0m \u001b[32m━━━━━━━━━━━━━━━━━━━━\u001b[0m\u001b[37m\u001b[0m \u001b[1m9s\u001b[0m 597us/step - acc: 0.7781 - loss: 0.6319 - val_acc: 0.8521 - val_loss: 0.4318\n",
      "Epoch 113/200\n",
      "\u001b[1m14792/14792\u001b[0m \u001b[32m━━━━━━━━━━━━━━━━━━━━\u001b[0m\u001b[37m\u001b[0m \u001b[1m9s\u001b[0m 581us/step - acc: 0.7788 - loss: 0.6329 - val_acc: 0.8556 - val_loss: 0.4274\n",
      "Epoch 114/200\n",
      "\u001b[1m14792/14792\u001b[0m \u001b[32m━━━━━━━━━━━━━━━━━━━━\u001b[0m\u001b[37m\u001b[0m \u001b[1m9s\u001b[0m 578us/step - acc: 0.7782 - loss: 0.6331 - val_acc: 0.8523 - val_loss: 0.4331\n",
      "Epoch 115/200\n",
      "\u001b[1m14792/14792\u001b[0m \u001b[32m━━━━━━━━━━━━━━━━━━━━\u001b[0m\u001b[37m\u001b[0m \u001b[1m8s\u001b[0m 565us/step - acc: 0.7781 - loss: 0.6331 - val_acc: 0.8518 - val_loss: 0.4364\n",
      "Epoch 116/200\n",
      "\u001b[1m14792/14792\u001b[0m \u001b[32m━━━━━━━━━━━━━━━━━━━━\u001b[0m\u001b[37m\u001b[0m \u001b[1m9s\u001b[0m 617us/step - acc: 0.7785 - loss: 0.6335 - val_acc: 0.8574 - val_loss: 0.4243\n",
      "Epoch 117/200\n",
      "\u001b[1m14792/14792\u001b[0m \u001b[32m━━━━━━━━━━━━━━━━━━━━\u001b[0m\u001b[37m\u001b[0m \u001b[1m9s\u001b[0m 614us/step - acc: 0.7782 - loss: 0.6325 - val_acc: 0.8563 - val_loss: 0.4269\n",
      "Epoch 118/200\n",
      "\u001b[1m14792/14792\u001b[0m \u001b[32m━━━━━━━━━━━━━━━━━━━━\u001b[0m\u001b[37m\u001b[0m \u001b[1m9s\u001b[0m 603us/step - acc: 0.7780 - loss: 0.6340 - val_acc: 0.8525 - val_loss: 0.4309\n",
      "Epoch 119/200\n",
      "\u001b[1m14792/14792\u001b[0m \u001b[32m━━━━━━━━━━━━━━━━━━━━\u001b[0m\u001b[37m\u001b[0m \u001b[1m9s\u001b[0m 587us/step - acc: 0.7788 - loss: 0.6309 - val_acc: 0.8528 - val_loss: 0.4318\n",
      "Epoch 120/200\n",
      "\u001b[1m14792/14792\u001b[0m \u001b[32m━━━━━━━━━━━━━━━━━━━━\u001b[0m\u001b[37m\u001b[0m \u001b[1m8s\u001b[0m 572us/step - acc: 0.7779 - loss: 0.6343 - val_acc: 0.8532 - val_loss: 0.4318\n",
      "Epoch 121/200\n",
      "\u001b[1m14792/14792\u001b[0m \u001b[32m━━━━━━━━━━━━━━━━━━━━\u001b[0m\u001b[37m\u001b[0m \u001b[1m9s\u001b[0m 587us/step - acc: 0.7778 - loss: 0.6339 - val_acc: 0.8518 - val_loss: 0.4326\n",
      "Epoch 122/200\n",
      "\u001b[1m14792/14792\u001b[0m \u001b[32m━━━━━━━━━━━━━━━━━━━━\u001b[0m\u001b[37m\u001b[0m \u001b[1m9s\u001b[0m 595us/step - acc: 0.7793 - loss: 0.6293 - val_acc: 0.8513 - val_loss: 0.4335\n",
      "Epoch 123/200\n",
      "\u001b[1m14792/14792\u001b[0m \u001b[32m━━━━━━━━━━━━━━━━━━━━\u001b[0m\u001b[37m\u001b[0m \u001b[1m9s\u001b[0m 607us/step - acc: 0.7808 - loss: 0.6293 - val_acc: 0.8541 - val_loss: 0.4285\n",
      "Epoch 124/200\n",
      "\u001b[1m14792/14792\u001b[0m \u001b[32m━━━━━━━━━━━━━━━━━━━━\u001b[0m\u001b[37m\u001b[0m \u001b[1m9s\u001b[0m 620us/step - acc: 0.7811 - loss: 0.6266 - val_acc: 0.8517 - val_loss: 0.4346\n",
      "Epoch 125/200\n",
      "\u001b[1m14792/14792\u001b[0m \u001b[32m━━━━━━━━━━━━━━━━━━━━\u001b[0m\u001b[37m\u001b[0m \u001b[1m9s\u001b[0m 602us/step - acc: 0.7785 - loss: 0.6336 - val_acc: 0.8547 - val_loss: 0.4286\n",
      "Epoch 126/200\n",
      "\u001b[1m14792/14792\u001b[0m \u001b[32m━━━━━━━━━━━━━━━━━━━━\u001b[0m\u001b[37m\u001b[0m \u001b[1m9s\u001b[0m 597us/step - acc: 0.7800 - loss: 0.6316 - val_acc: 0.8538 - val_loss: 0.4268\n",
      "Epoch 127/200\n",
      "\u001b[1m14792/14792\u001b[0m \u001b[32m━━━━━━━━━━━━━━━━━━━━\u001b[0m\u001b[37m\u001b[0m \u001b[1m9s\u001b[0m 610us/step - acc: 0.7763 - loss: 0.6359 - val_acc: 0.8518 - val_loss: 0.4306\n",
      "Epoch 128/200\n",
      "\u001b[1m14792/14792\u001b[0m \u001b[32m━━━━━━━━━━━━━━━━━━━━\u001b[0m\u001b[37m\u001b[0m \u001b[1m9s\u001b[0m 610us/step - acc: 0.7804 - loss: 0.6284 - val_acc: 0.8520 - val_loss: 0.4298\n",
      "Epoch 129/200\n",
      "\u001b[1m14792/14792\u001b[0m \u001b[32m━━━━━━━━━━━━━━━━━━━━\u001b[0m\u001b[37m\u001b[0m \u001b[1m9s\u001b[0m 613us/step - acc: 0.7810 - loss: 0.6298 - val_acc: 0.8532 - val_loss: 0.4301\n",
      "Epoch 130/200\n",
      "\u001b[1m14792/14792\u001b[0m \u001b[32m━━━━━━━━━━━━━━━━━━━━\u001b[0m\u001b[37m\u001b[0m \u001b[1m10s\u001b[0m 647us/step - acc: 0.7797 - loss: 0.6304 - val_acc: 0.8518 - val_loss: 0.4320\n",
      "Epoch 131/200\n",
      "\u001b[1m14792/14792\u001b[0m \u001b[32m━━━━━━━━━━━━━━━━━━━━\u001b[0m\u001b[37m\u001b[0m \u001b[1m9s\u001b[0m 613us/step - acc: 0.7786 - loss: 0.6325 - val_acc: 0.8515 - val_loss: 0.4324\n",
      "Epoch 132/200\n",
      "\u001b[1m14792/14792\u001b[0m \u001b[32m━━━━━━━━━━━━━━━━━━━━\u001b[0m\u001b[37m\u001b[0m \u001b[1m9s\u001b[0m 606us/step - acc: 0.7785 - loss: 0.6314 - val_acc: 0.8545 - val_loss: 0.4300\n",
      "Epoch 133/200\n",
      "\u001b[1m14792/14792\u001b[0m \u001b[32m━━━━━━━━━━━━━━━━━━━━\u001b[0m\u001b[37m\u001b[0m \u001b[1m9s\u001b[0m 585us/step - acc: 0.7806 - loss: 0.6272 - val_acc: 0.8521 - val_loss: 0.4319\n",
      "Epoch 134/200\n",
      "\u001b[1m14792/14792\u001b[0m \u001b[32m━━━━━━━━━━━━━━━━━━━━\u001b[0m\u001b[37m\u001b[0m \u001b[1m9s\u001b[0m 615us/step - acc: 0.7821 - loss: 0.6265 - val_acc: 0.8561 - val_loss: 0.4269\n",
      "Epoch 135/200\n",
      "\u001b[1m14792/14792\u001b[0m \u001b[32m━━━━━━━━━━━━━━━━━━━━\u001b[0m\u001b[37m\u001b[0m \u001b[1m9s\u001b[0m 584us/step - acc: 0.7796 - loss: 0.6300 - val_acc: 0.8511 - val_loss: 0.4317\n",
      "Epoch 136/200\n",
      "\u001b[1m14792/14792\u001b[0m \u001b[32m━━━━━━━━━━━━━━━━━━━━\u001b[0m\u001b[37m\u001b[0m \u001b[1m9s\u001b[0m 594us/step - acc: 0.7811 - loss: 0.6260 - val_acc: 0.8532 - val_loss: 0.4289\n",
      "Epoch 137/200\n",
      "\u001b[1m14792/14792\u001b[0m \u001b[32m━━━━━━━━━━━━━━━━━━━━\u001b[0m\u001b[37m\u001b[0m \u001b[1m9s\u001b[0m 598us/step - acc: 0.7792 - loss: 0.6303 - val_acc: 0.8544 - val_loss: 0.4292\n",
      "Epoch 138/200\n",
      "\u001b[1m14792/14792\u001b[0m \u001b[32m━━━━━━━━━━━━━━━━━━━━\u001b[0m\u001b[37m\u001b[0m \u001b[1m10s\u001b[0m 656us/step - acc: 0.7804 - loss: 0.6276 - val_acc: 0.8529 - val_loss: 0.4288\n",
      "Epoch 139/200\n",
      "\u001b[1m14792/14792\u001b[0m \u001b[32m━━━━━━━━━━━━━━━━━━━━\u001b[0m\u001b[37m\u001b[0m \u001b[1m9s\u001b[0m 597us/step - acc: 0.7791 - loss: 0.6286 - val_acc: 0.8536 - val_loss: 0.4300\n",
      "Epoch 140/200\n",
      "\u001b[1m14792/14792\u001b[0m \u001b[32m━━━━━━━━━━━━━━━━━━━━\u001b[0m\u001b[37m\u001b[0m \u001b[1m9s\u001b[0m 595us/step - acc: 0.7806 - loss: 0.6260 - val_acc: 0.8519 - val_loss: 0.4299\n",
      "Epoch 141/200\n",
      "\u001b[1m14792/14792\u001b[0m \u001b[32m━━━━━━━━━━━━━━━━━━━━\u001b[0m\u001b[37m\u001b[0m \u001b[1m9s\u001b[0m 595us/step - acc: 0.7807 - loss: 0.6255 - val_acc: 0.8560 - val_loss: 0.4284\n",
      "Epoch 142/200\n",
      "\u001b[1m14792/14792\u001b[0m \u001b[32m━━━━━━━━━━━━━━━━━━━━\u001b[0m\u001b[37m\u001b[0m \u001b[1m9s\u001b[0m 618us/step - acc: 0.7795 - loss: 0.6271 - val_acc: 0.8546 - val_loss: 0.4307\n",
      "Epoch 143/200\n",
      "\u001b[1m14792/14792\u001b[0m \u001b[32m━━━━━━━━━━━━━━━━━━━━\u001b[0m\u001b[37m\u001b[0m \u001b[1m9s\u001b[0m 616us/step - acc: 0.7797 - loss: 0.6292 - val_acc: 0.8539 - val_loss: 0.4284\n",
      "Epoch 144/200\n",
      "\u001b[1m14792/14792\u001b[0m \u001b[32m━━━━━━━━━━━━━━━━━━━━\u001b[0m\u001b[37m\u001b[0m \u001b[1m9s\u001b[0m 610us/step - acc: 0.7808 - loss: 0.6295 - val_acc: 0.8536 - val_loss: 0.4312\n",
      "Epoch 145/200\n",
      "\u001b[1m14792/14792\u001b[0m \u001b[32m━━━━━━━━━━━━━━━━━━━━\u001b[0m\u001b[37m\u001b[0m \u001b[1m9s\u001b[0m 594us/step - acc: 0.7802 - loss: 0.6298 - val_acc: 0.8548 - val_loss: 0.4274\n",
      "Epoch 146/200\n",
      "\u001b[1m14792/14792\u001b[0m \u001b[32m━━━━━━━━━━━━━━━━━━━━\u001b[0m\u001b[37m\u001b[0m \u001b[1m9s\u001b[0m 601us/step - acc: 0.7805 - loss: 0.6271 - val_acc: 0.8560 - val_loss: 0.4303\n",
      "Epoch 147/200\n",
      "\u001b[1m14792/14792\u001b[0m \u001b[32m━━━━━━━━━━━━━━━━━━━━\u001b[0m\u001b[37m\u001b[0m \u001b[1m9s\u001b[0m 592us/step - acc: 0.7808 - loss: 0.6267 - val_acc: 0.8545 - val_loss: 0.4261\n",
      "Epoch 148/200\n",
      "\u001b[1m14792/14792\u001b[0m \u001b[32m━━━━━━━━━━━━━━━━━━━━\u001b[0m\u001b[37m\u001b[0m \u001b[1m9s\u001b[0m 618us/step - acc: 0.7792 - loss: 0.6293 - val_acc: 0.8534 - val_loss: 0.4270\n",
      "Epoch 149/200\n",
      "\u001b[1m14792/14792\u001b[0m \u001b[32m━━━━━━━━━━━━━━━━━━━━\u001b[0m\u001b[37m\u001b[0m \u001b[1m9s\u001b[0m 589us/step - acc: 0.7804 - loss: 0.6259 - val_acc: 0.8559 - val_loss: 0.4256\n",
      "Epoch 150/200\n",
      "\u001b[1m14792/14792\u001b[0m \u001b[32m━━━━━━━━━━━━━━━━━━━━\u001b[0m\u001b[37m\u001b[0m \u001b[1m9s\u001b[0m 613us/step - acc: 0.7784 - loss: 0.6327 - val_acc: 0.8536 - val_loss: 0.4298\n",
      "Epoch 151/200\n",
      "\u001b[1m14792/14792\u001b[0m \u001b[32m━━━━━━━━━━━━━━━━━━━━\u001b[0m\u001b[37m\u001b[0m \u001b[1m9s\u001b[0m 601us/step - acc: 0.7803 - loss: 0.6293 - val_acc: 0.8539 - val_loss: 0.4255\n",
      "Epoch 152/200\n",
      "\u001b[1m14792/14792\u001b[0m \u001b[32m━━━━━━━━━━━━━━━━━━━━\u001b[0m\u001b[37m\u001b[0m \u001b[1m9s\u001b[0m 599us/step - acc: 0.7806 - loss: 0.6252 - val_acc: 0.8544 - val_loss: 0.4260\n",
      "Epoch 153/200\n",
      "\u001b[1m14792/14792\u001b[0m \u001b[32m━━━━━━━━━━━━━━━━━━━━\u001b[0m\u001b[37m\u001b[0m \u001b[1m9s\u001b[0m 594us/step - acc: 0.7815 - loss: 0.6241 - val_acc: 0.8527 - val_loss: 0.4276\n",
      "Epoch 154/200\n",
      "\u001b[1m14792/14792\u001b[0m \u001b[32m━━━━━━━━━━━━━━━━━━━━\u001b[0m\u001b[37m\u001b[0m \u001b[1m9s\u001b[0m 596us/step - acc: 0.7802 - loss: 0.6280 - val_acc: 0.8553 - val_loss: 0.4239\n",
      "Epoch 155/200\n",
      "\u001b[1m14792/14792\u001b[0m \u001b[32m━━━━━━━━━━━━━━━━━━━━\u001b[0m\u001b[37m\u001b[0m \u001b[1m9s\u001b[0m 591us/step - acc: 0.7802 - loss: 0.6251 - val_acc: 0.8552 - val_loss: 0.4251\n",
      "Epoch 156/200\n",
      "\u001b[1m14792/14792\u001b[0m \u001b[32m━━━━━━━━━━━━━━━━━━━━\u001b[0m\u001b[37m\u001b[0m \u001b[1m9s\u001b[0m 590us/step - acc: 0.7810 - loss: 0.6238 - val_acc: 0.8507 - val_loss: 0.4300\n",
      "Epoch 157/200\n",
      "\u001b[1m14792/14792\u001b[0m \u001b[32m━━━━━━━━━━━━━━━━━━━━\u001b[0m\u001b[37m\u001b[0m \u001b[1m9s\u001b[0m 584us/step - acc: 0.7810 - loss: 0.6271 - val_acc: 0.8555 - val_loss: 0.4245\n",
      "Epoch 158/200\n",
      "\u001b[1m14792/14792\u001b[0m \u001b[32m━━━━━━━━━━━━━━━━━━━━\u001b[0m\u001b[37m\u001b[0m \u001b[1m9s\u001b[0m 589us/step - acc: 0.7801 - loss: 0.6262 - val_acc: 0.8548 - val_loss: 0.4202\n",
      "Epoch 159/200\n",
      "\u001b[1m14792/14792\u001b[0m \u001b[32m━━━━━━━━━━━━━━━━━━━━\u001b[0m\u001b[37m\u001b[0m \u001b[1m9s\u001b[0m 615us/step - acc: 0.7806 - loss: 0.6248 - val_acc: 0.8556 - val_loss: 0.4186\n",
      "Epoch 160/200\n",
      "\u001b[1m14792/14792\u001b[0m \u001b[32m━━━━━━━━━━━━━━━━━━━━\u001b[0m\u001b[37m\u001b[0m \u001b[1m9s\u001b[0m 601us/step - acc: 0.7797 - loss: 0.6282 - val_acc: 0.8560 - val_loss: 0.4212\n",
      "Epoch 161/200\n",
      "\u001b[1m14792/14792\u001b[0m \u001b[32m━━━━━━━━━━━━━━━━━━━━\u001b[0m\u001b[37m\u001b[0m \u001b[1m9s\u001b[0m 608us/step - acc: 0.7808 - loss: 0.6291 - val_acc: 0.8539 - val_loss: 0.4234\n",
      "Epoch 162/200\n",
      "\u001b[1m14792/14792\u001b[0m \u001b[32m━━━━━━━━━━━━━━━━━━━━\u001b[0m\u001b[37m\u001b[0m \u001b[1m9s\u001b[0m 600us/step - acc: 0.7813 - loss: 0.6242 - val_acc: 0.8549 - val_loss: 0.4211\n",
      "Epoch 163/200\n",
      "\u001b[1m14792/14792\u001b[0m \u001b[32m━━━━━━━━━━━━━━━━━━━━\u001b[0m\u001b[37m\u001b[0m \u001b[1m9s\u001b[0m 598us/step - acc: 0.7817 - loss: 0.6247 - val_acc: 0.8550 - val_loss: 0.4226\n",
      "Epoch 164/200\n",
      "\u001b[1m14792/14792\u001b[0m \u001b[32m━━━━━━━━━━━━━━━━━━━━\u001b[0m\u001b[37m\u001b[0m \u001b[1m9s\u001b[0m 604us/step - acc: 0.7821 - loss: 0.6241 - val_acc: 0.8532 - val_loss: 0.4306\n",
      "Epoch 165/200\n",
      "\u001b[1m14792/14792\u001b[0m \u001b[32m━━━━━━━━━━━━━━━━━━━━\u001b[0m\u001b[37m\u001b[0m \u001b[1m9s\u001b[0m 595us/step - acc: 0.7821 - loss: 0.6234 - val_acc: 0.8525 - val_loss: 0.4233\n",
      "Epoch 166/200\n",
      "\u001b[1m14792/14792\u001b[0m \u001b[32m━━━━━━━━━━━━━━━━━━━━\u001b[0m\u001b[37m\u001b[0m \u001b[1m9s\u001b[0m 586us/step - acc: 0.7813 - loss: 0.6256 - val_acc: 0.8528 - val_loss: 0.4268\n",
      "Epoch 167/200\n",
      "\u001b[1m14792/14792\u001b[0m \u001b[32m━━━━━━━━━━━━━━━━━━━━\u001b[0m\u001b[37m\u001b[0m \u001b[1m9s\u001b[0m 587us/step - acc: 0.7796 - loss: 0.6280 - val_acc: 0.8548 - val_loss: 0.4259\n",
      "Epoch 168/200\n",
      "\u001b[1m14792/14792\u001b[0m \u001b[32m━━━━━━━━━━━━━━━━━━━━\u001b[0m\u001b[37m\u001b[0m \u001b[1m9s\u001b[0m 590us/step - acc: 0.7818 - loss: 0.6245 - val_acc: 0.8529 - val_loss: 0.4238\n",
      "Epoch 169/200\n",
      "\u001b[1m14792/14792\u001b[0m \u001b[32m━━━━━━━━━━━━━━━━━━━━\u001b[0m\u001b[37m\u001b[0m \u001b[1m9s\u001b[0m 581us/step - acc: 0.7816 - loss: 0.6243 - val_acc: 0.8524 - val_loss: 0.4301\n",
      "Epoch 170/200\n",
      "\u001b[1m14792/14792\u001b[0m \u001b[32m━━━━━━━━━━━━━━━━━━━━\u001b[0m\u001b[37m\u001b[0m \u001b[1m9s\u001b[0m 578us/step - acc: 0.7803 - loss: 0.6234 - val_acc: 0.8554 - val_loss: 0.4216\n",
      "Epoch 171/200\n",
      "\u001b[1m14792/14792\u001b[0m \u001b[32m━━━━━━━━━━━━━━━━━━━━\u001b[0m\u001b[37m\u001b[0m \u001b[1m9s\u001b[0m 606us/step - acc: 0.7812 - loss: 0.6252 - val_acc: 0.8534 - val_loss: 0.4245\n",
      "Epoch 172/200\n",
      "\u001b[1m14792/14792\u001b[0m \u001b[32m━━━━━━━━━━━━━━━━━━━━\u001b[0m\u001b[37m\u001b[0m \u001b[1m9s\u001b[0m 588us/step - acc: 0.7799 - loss: 0.6262 - val_acc: 0.8547 - val_loss: 0.4207\n",
      "Epoch 173/200\n",
      "\u001b[1m14792/14792\u001b[0m \u001b[32m━━━━━━━━━━━━━━━━━━━━\u001b[0m\u001b[37m\u001b[0m \u001b[1m9s\u001b[0m 594us/step - acc: 0.7809 - loss: 0.6243 - val_acc: 0.8525 - val_loss: 0.4277\n",
      "Epoch 174/200\n",
      "\u001b[1m14792/14792\u001b[0m \u001b[32m━━━━━━━━━━━━━━━━━━━━\u001b[0m\u001b[37m\u001b[0m \u001b[1m9s\u001b[0m 599us/step - acc: 0.7805 - loss: 0.6252 - val_acc: 0.8566 - val_loss: 0.4216\n",
      "Epoch 175/200\n",
      "\u001b[1m14792/14792\u001b[0m \u001b[32m━━━━━━━━━━━━━━━━━━━━\u001b[0m\u001b[37m\u001b[0m \u001b[1m9s\u001b[0m 605us/step - acc: 0.7810 - loss: 0.6260 - val_acc: 0.8537 - val_loss: 0.4249\n",
      "Epoch 176/200\n",
      "\u001b[1m14792/14792\u001b[0m \u001b[32m━━━━━━━━━━━━━━━━━━━━\u001b[0m\u001b[37m\u001b[0m \u001b[1m9s\u001b[0m 599us/step - acc: 0.7819 - loss: 0.6228 - val_acc: 0.8547 - val_loss: 0.4249\n",
      "Epoch 177/200\n",
      "\u001b[1m14792/14792\u001b[0m \u001b[32m━━━━━━━━━━━━━━━━━━━━\u001b[0m\u001b[37m\u001b[0m \u001b[1m9s\u001b[0m 601us/step - acc: 0.7826 - loss: 0.6192 - val_acc: 0.8558 - val_loss: 0.4241\n",
      "Epoch 178/200\n",
      "\u001b[1m14792/14792\u001b[0m \u001b[32m━━━━━━━━━━━━━━━━━━━━\u001b[0m\u001b[37m\u001b[0m \u001b[1m9s\u001b[0m 601us/step - acc: 0.7820 - loss: 0.6228 - val_acc: 0.8521 - val_loss: 0.4253\n",
      "Epoch 179/200\n",
      "\u001b[1m14792/14792\u001b[0m \u001b[32m━━━━━━━━━━━━━━━━━━━━\u001b[0m\u001b[37m\u001b[0m \u001b[1m9s\u001b[0m 604us/step - acc: 0.7822 - loss: 0.6230 - val_acc: 0.8553 - val_loss: 0.4206\n",
      "Epoch 180/200\n",
      "\u001b[1m14792/14792\u001b[0m \u001b[32m━━━━━━━━━━━━━━━━━━━━\u001b[0m\u001b[37m\u001b[0m \u001b[1m9s\u001b[0m 603us/step - acc: 0.7825 - loss: 0.6194 - val_acc: 0.8548 - val_loss: 0.4245\n",
      "Epoch 181/200\n",
      "\u001b[1m14792/14792\u001b[0m \u001b[32m━━━━━━━━━━━━━━━━━━━━\u001b[0m\u001b[37m\u001b[0m \u001b[1m9s\u001b[0m 592us/step - acc: 0.7801 - loss: 0.6261 - val_acc: 0.8516 - val_loss: 0.4308\n",
      "Epoch 182/200\n",
      "\u001b[1m14792/14792\u001b[0m \u001b[32m━━━━━━━━━━━━━━━━━━━━\u001b[0m\u001b[37m\u001b[0m \u001b[1m9s\u001b[0m 590us/step - acc: 0.7831 - loss: 0.6215 - val_acc: 0.8532 - val_loss: 0.4237\n",
      "Epoch 183/200\n",
      "\u001b[1m14792/14792\u001b[0m \u001b[32m━━━━━━━━━━━━━━━━━━━━\u001b[0m\u001b[37m\u001b[0m \u001b[1m8s\u001b[0m 546us/step - acc: 0.7833 - loss: 0.6198 - val_acc: 0.8562 - val_loss: 0.4218\n",
      "Epoch 184/200\n",
      "\u001b[1m14792/14792\u001b[0m \u001b[32m━━━━━━━━━━━━━━━━━━━━\u001b[0m\u001b[37m\u001b[0m \u001b[1m8s\u001b[0m 551us/step - acc: 0.7812 - loss: 0.6217 - val_acc: 0.8539 - val_loss: 0.4231\n",
      "Epoch 185/200\n",
      "\u001b[1m14792/14792\u001b[0m \u001b[32m━━━━━━━━━━━━━━━━━━━━\u001b[0m\u001b[37m\u001b[0m \u001b[1m8s\u001b[0m 551us/step - acc: 0.7810 - loss: 0.6215 - val_acc: 0.8532 - val_loss: 0.4241\n",
      "Epoch 186/200\n",
      "\u001b[1m14792/14792\u001b[0m \u001b[32m━━━━━━━━━━━━━━━━━━━━\u001b[0m\u001b[37m\u001b[0m \u001b[1m8s\u001b[0m 552us/step - acc: 0.7815 - loss: 0.6236 - val_acc: 0.8539 - val_loss: 0.4256\n",
      "Epoch 187/200\n",
      "\u001b[1m14792/14792\u001b[0m \u001b[32m━━━━━━━━━━━━━━━━━━━━\u001b[0m\u001b[37m\u001b[0m \u001b[1m8s\u001b[0m 547us/step - acc: 0.7841 - loss: 0.6171 - val_acc: 0.8551 - val_loss: 0.4163\n",
      "Epoch 188/200\n",
      "\u001b[1m14792/14792\u001b[0m \u001b[32m━━━━━━━━━━━━━━━━━━━━\u001b[0m\u001b[37m\u001b[0m \u001b[1m8s\u001b[0m 553us/step - acc: 0.7804 - loss: 0.6251 - val_acc: 0.8561 - val_loss: 0.4251\n",
      "Epoch 189/200\n",
      "\u001b[1m14792/14792\u001b[0m \u001b[32m━━━━━━━━━━━━━━━━━━━━\u001b[0m\u001b[37m\u001b[0m \u001b[1m8s\u001b[0m 560us/step - acc: 0.7821 - loss: 0.6243 - val_acc: 0.8566 - val_loss: 0.4221\n",
      "Epoch 190/200\n",
      "\u001b[1m14792/14792\u001b[0m \u001b[32m━━━━━━━━━━━━━━━━━━━━\u001b[0m\u001b[37m\u001b[0m \u001b[1m8s\u001b[0m 561us/step - acc: 0.7813 - loss: 0.6235 - val_acc: 0.8538 - val_loss: 0.4242\n",
      "Epoch 191/200\n",
      "\u001b[1m14792/14792\u001b[0m \u001b[32m━━━━━━━━━━━━━━━━━━━━\u001b[0m\u001b[37m\u001b[0m \u001b[1m8s\u001b[0m 571us/step - acc: 0.7822 - loss: 0.6217 - val_acc: 0.8549 - val_loss: 0.4233\n",
      "Epoch 192/200\n",
      "\u001b[1m14792/14792\u001b[0m \u001b[32m━━━━━━━━━━━━━━━━━━━━\u001b[0m\u001b[37m\u001b[0m \u001b[1m9s\u001b[0m 574us/step - acc: 0.7829 - loss: 0.6192 - val_acc: 0.8550 - val_loss: 0.4220\n",
      "Epoch 193/200\n",
      "\u001b[1m14792/14792\u001b[0m \u001b[32m━━━━━━━━━━━━━━━━━━━━\u001b[0m\u001b[37m\u001b[0m \u001b[1m8s\u001b[0m 566us/step - acc: 0.7821 - loss: 0.6209 - val_acc: 0.8553 - val_loss: 0.4202\n",
      "Epoch 194/200\n",
      "\u001b[1m14792/14792\u001b[0m \u001b[32m━━━━━━━━━━━━━━━━━━━━\u001b[0m\u001b[37m\u001b[0m \u001b[1m8s\u001b[0m 558us/step - acc: 0.7823 - loss: 0.6205 - val_acc: 0.8572 - val_loss: 0.4237\n",
      "Epoch 195/200\n",
      "\u001b[1m14792/14792\u001b[0m \u001b[32m━━━━━━━━━━━━━━━━━━━━\u001b[0m\u001b[37m\u001b[0m \u001b[1m9s\u001b[0m 596us/step - acc: 0.7820 - loss: 0.6220 - val_acc: 0.8582 - val_loss: 0.4164\n",
      "Epoch 196/200\n",
      "\u001b[1m14792/14792\u001b[0m \u001b[32m━━━━━━━━━━━━━━━━━━━━\u001b[0m\u001b[37m\u001b[0m \u001b[1m9s\u001b[0m 630us/step - acc: 0.7824 - loss: 0.6229 - val_acc: 0.8577 - val_loss: 0.4191\n",
      "Epoch 197/200\n",
      "\u001b[1m14792/14792\u001b[0m \u001b[32m━━━━━━━━━━━━━━━━━━━━\u001b[0m\u001b[37m\u001b[0m \u001b[1m9s\u001b[0m 594us/step - acc: 0.7820 - loss: 0.6219 - val_acc: 0.8490 - val_loss: 0.4331\n",
      "Epoch 198/200\n",
      "\u001b[1m14792/14792\u001b[0m \u001b[32m━━━━━━━━━━━━━━━━━━━━\u001b[0m\u001b[37m\u001b[0m \u001b[1m9s\u001b[0m 623us/step - acc: 0.7820 - loss: 0.6214 - val_acc: 0.8555 - val_loss: 0.4243\n",
      "Epoch 199/200\n",
      "\u001b[1m14792/14792\u001b[0m \u001b[32m━━━━━━━━━━━━━━━━━━━━\u001b[0m\u001b[37m\u001b[0m \u001b[1m9s\u001b[0m 598us/step - acc: 0.7825 - loss: 0.6207 - val_acc: 0.8545 - val_loss: 0.4205\n",
      "Epoch 200/200\n",
      "\u001b[1m14792/14792\u001b[0m \u001b[32m━━━━━━━━━━━━━━━━━━━━\u001b[0m\u001b[37m\u001b[0m \u001b[1m9s\u001b[0m 614us/step - acc: 0.7820 - loss: 0.6243 - val_acc: 0.8556 - val_loss: 0.4183\n"
     ]
    }
   ],
   "source": [
    "### Train the model\n",
    "history = model.fit(X_train,\n",
    "                    y_train,\n",
    "                    batch_size=32,\n",
    "                    epochs=200,\n",
    "                    verbose=1,\n",
    "                    validation_data=(X_val, y_val)\n",
    "                   )"
   ]
  },
  {
   "cell_type": "markdown",
   "id": "fe785364-a10d-438c-8d65-0e833745e292",
   "metadata": {},
   "source": [
    "Evaluate model"
   ]
  },
  {
   "cell_type": "code",
   "execution_count": 29,
   "id": "326cc23e-300e-4fe7-80ec-a50263541c4f",
   "metadata": {},
   "outputs": [
    {
     "data": {
      "image/png": "[encoded data removed]",
      "text/plain": [
       "<Figure size 640x480 with 1 Axes>"
      ]
     },
     "metadata": {},
     "output_type": "display_data"
    },
    {
     "data": {
      "image/png": "[encoded data removed]",
      "text/plain": [
       "<Figure size 640x480 with 1 Axes>"
      ]
     },
     "metadata": {},
     "output_type": "display_data"
    }
   ],
   "source": [
    "### Plot training and validation accuracy and loss over time\n",
    "\n",
    "# Extract accuracy and loss values (in list form) from the history\n",
    "acc = history.history['acc']\n",
    "val_acc = history.history['val_acc']\n",
    "loss = history.history['loss']\n",
    "val_loss = history.history['val_loss']\n",
    "\n",
    "# Create a list of epoch numbers\n",
    "epochs = range(1, len(acc) + 1)\n",
    "\n",
    "# Plot training and validation loss values over time\n",
    "plt.figure()\n",
    "plt.plot(epochs, loss, color='blue', marker='.', label='Training loss')\n",
    "plt.plot(epochs, val_loss, color='orange', marker='.', label='Validation loss')\n",
    "plt.title('Training and validation loss')\n",
    "plt.legend()\n",
    "\n",
    "# Plot training and validation accuracies over time\n",
    "plt.figure()\n",
    "plt.plot(epochs, acc, color='blue', marker='.', label='Training acc')\n",
    "plt.plot(epochs, val_acc, color='orange', marker='.', label='Validation acc')\n",
    "plt.title('Training and validation accuracy')\n",
    "plt.legend()\n",
    "plt.show()"
   ]
  },
  {
   "cell_type": "code",
   "execution_count": 30,
   "id": "9a4c5361-5ec8-4257-a6d3-70eb1107ab7f",
   "metadata": {},
   "outputs": [
    {
     "name": "stdout",
     "output_type": "stream",
     "text": [
      "\u001b[1m3698/3698\u001b[0m \u001b[32m━━━━━━━━━━━━━━━━━━━━\u001b[0m\u001b[37m\u001b[0m \u001b[1m1s\u001b[0m 301us/step\n",
      "Validation output shape: (118330, 11)\n",
      "Actual validation labels:\t [ 2  0  9  4  2  9  5  3  9  4  1  2 10  2  7  3  9  7 10  1 10  7  9  6\n",
      "  8  7  3 10 10  1  0  3 10  3  8  9  4  6 10 10  3  5  8  7  5  8  4  5\n",
      "  1 10]\n",
      "Predicted validation labels:\t [ 2  0  9  4  2  9  9  3  9  4  1  2 10  2  7  3  9  7 10  1 10  7  9  6\n",
      "  8  7  3 10 10  4  0  3 10  3  8  9  4  6 10 10  3  5  8  7  3  8  4  4\n",
      "  1 10]\n",
      "\n",
      " ---> Predicted labels\n",
      "|\n",
      "v Actual labels\n",
      "\t\t\t(0)    (1)    (2)    (3)    (4)    (5)    (6)    (7)    (8)    (9)    (10)  \n",
      "           0 (0):  [ 10753     19     37      7      0     11      5      0     10      7      0]\n",
      "           1 (1):  [     0   6518     16     14     43   1267      1      0      0     59     29]\n",
      "           2 (2):  [     0    390   9090    201     72    656     98      0     15   1437    107]\n",
      "           3 (3):  [     0    312    245   9955    119    556     18      0     24    401     55]\n",
      "           4 (4):  [     0    723     52    128  10327    742      8      0      0     69     78]\n",
      "           5 (5):  [     0   1844    104    106    115   5786      7      0      3    380    462]\n",
      "           6 (6):  [     0     73    102     30      5    128  10404      0      9    270     25]\n",
      "           7 (7):  [     0     27      5      0      7     26      1  10700      0     12      2]\n",
      "           8 (8):  [     0    118    380    158     16    504    183      0  10710    511    303]\n",
      "           9 (9):  [     0    611    717    137     49    792     89      0      8   7364     98]\n",
      "          10 (10):  [     0    149     57     23     14    283     22      0      6     79   9642]\n"
     ]
    }
   ],
   "source": [
    "### Create confusion matrix from validation set\n",
    "\n",
    "# Find predictions from all validation samples\n",
    "y_pred = model.predict(X_val)\n",
    "print(\"Validation output shape:\", y_pred.shape)\n",
    "\n",
    "# Convert actual and predicted validation one-hot encoding to numerical labels\n",
    "y_val_trans = np.argmax(y_val, axis=1)\n",
    "y_pred_trans = np.argmax(y_pred, axis=1)\n",
    "\n",
    "# Print some values from actual and predicted validation sets (first 50 samples)\n",
    "print(\"Actual validation labels:\\t\", y_val_trans[:50])\n",
    "print(\"Predicted validation labels:\\t\", y_pred_trans[:50])\n",
    "\n",
    "# Compute confusion matrix (note: we need to transpose SKLearn matrix to make it match Edge Impulse)\n",
    "cm = confusion_matrix(y_val_trans, y_pred_trans)\n",
    "cm = np.transpose(cm)\n",
    "\n",
    "labels = range(len(gdf['uso_suelo'].unique()))\n",
    "\n",
    "# Print confusion matrix\n",
    "print()\n",
    "print(\" ---> Predicted labels\")\n",
    "print(\"|\")\n",
    "print(\"v Actual labels\")\n",
    "print(\"\\t\\t\\t\" + ' '.join(\"{!s:6}\".format('(' + str(i) + ')') for i in range(num_classes)))\n",
    "for row in range(num_classes):\n",
    "  print(\"{:>12} ({}):  [{}]\".format(labels[row], row, ' '.join(\"{:6}\".format(i) for i in cm[row])))\n",
    "    "
   ]
  },
  {
   "cell_type": "markdown",
   "id": "4d296dd7-70f5-40af-8ae0-4f634a3209f1",
   "metadata": {},
   "source": [
    "## Apply model to the full dataset"
   ]
  },
  {
   "cell_type": "markdown",
   "id": "8be37c16-612e-40bd-a52c-5c29f82d7a49",
   "metadata": {},
   "source": [
    "Predict landuse for every element"
   ]
  },
  {
   "cell_type": "code",
   "execution_count": 31,
   "id": "c0a037f4-092d-48ad-978e-153eab95c3f0",
   "metadata": {},
   "outputs": [
    {
     "name": "stdout",
     "output_type": "stream",
     "text": [
      "\u001b[1m2752/2752\u001b[0m \u001b[32m━━━━━━━━━━━━━━━━━━━━\u001b[0m\u001b[37m\u001b[0m \u001b[1m1s\u001b[0m 315us/step\n"
     ]
    }
   ],
   "source": [
    "y_hat = model.predict(X_scaled)"
   ]
  },
  {
   "cell_type": "markdown",
   "id": "b69dc84b-22a3-4948-a79c-b4007dcab56b",
   "metadata": {},
   "source": [
    "Create prediction variables"
   ]
  },
  {
   "cell_type": "code",
   "execution_count": 33,
   "id": "6b5f3d58-8f71-451f-a172-fd55b84ac5a8",
   "metadata": {},
   "outputs": [
    {
     "data": {
      "text/plain": [
       "['pct_smote_alojamiento_temporal',\n",
       " 'pct_smote_baldio',\n",
       " 'pct_smote_comercio',\n",
       " 'pct_smote_equipamiento',\n",
       " 'pct_smote_espacio_verde',\n",
       " 'pct_smote_habitacional',\n",
       " 'pct_smote_industria',\n",
       " 'pct_smote_infraestructura',\n",
       " 'pct_smote_mixto',\n",
       " 'pct_smote_servicio',\n",
       " 'pct_smote_sin_dato']"
      ]
     },
     "execution_count": 33,
     "metadata": {},
     "output_type": "execute_result"
    }
   ],
   "source": [
    "category_list = ['alojamiento_temporal','baldio','comercio',\n",
    "                'equipamiento','espacio_verde','habitacional',\n",
    "                'industria','infraestructura','mixto','servicio',\n",
    "                'sin_dato']\n",
    "\n",
    "prefix = 'pct_smote_'\n",
    "\n",
    "category_list = [prefix+cl for cl in category_list]\n",
    "category_list"
   ]
  },
  {
   "cell_type": "code",
   "execution_count": 34,
   "id": "c05c7649-5f94-4e02-83dd-ae0a3009c8a7",
   "metadata": {},
   "outputs": [
    {
     "name": "stdout",
     "output_type": "stream",
     "text": [
      "(88061, 76)\n"
     ]
    },
    {
     "data": {
      "text/html": [
       "<div>\n",
       "<style scoped>\n",
       "    .dataframe tbody tr th:only-of-type {\n",
       "        vertical-align: middle;\n",
       "    }\n",
       "\n",
       "    .dataframe tbody tr th {\n",
       "        vertical-align: top;\n",
       "    }\n",
       "\n",
       "    .dataframe thead th {\n",
       "        text-align: right;\n",
       "    }\n",
       "</style>\n",
       "<table border=\"1\" class=\"dataframe\">\n",
       "  <thead>\n",
       "    <tr style=\"text-align: right;\">\n",
       "      <th></th>\n",
       "      <th>fid</th>\n",
       "      <th>uso_suelo</th>\n",
       "      <th>area_m2</th>\n",
       "      <th>full_plus_code</th>\n",
       "      <th>CVEGEO</th>\n",
       "      <th>bld_area_m2</th>\n",
       "      <th>block_area_m2</th>\n",
       "      <th>pred_area_m2</th>\n",
       "      <th>pred_area_pct</th>\n",
       "      <th>bld_pred_area_pct</th>\n",
       "      <th>...</th>\n",
       "      <th>pct_smote_baldio</th>\n",
       "      <th>pct_smote_comercio</th>\n",
       "      <th>pct_smote_equipamiento</th>\n",
       "      <th>pct_smote_espacio_verde</th>\n",
       "      <th>pct_smote_habitacional</th>\n",
       "      <th>pct_smote_industria</th>\n",
       "      <th>pct_smote_infraestructura</th>\n",
       "      <th>pct_smote_mixto</th>\n",
       "      <th>pct_smote_servicio</th>\n",
       "      <th>pct_smote_sin_dato</th>\n",
       "    </tr>\n",
       "  </thead>\n",
       "  <tbody>\n",
       "    <tr>\n",
       "      <th>0</th>\n",
       "      <td>0</td>\n",
       "      <td>Sin dato</td>\n",
       "      <td>67.279056</td>\n",
       "      <td>75GRMGQW+89PG</td>\n",
       "      <td>1412000011206018</td>\n",
       "      <td>12.438638</td>\n",
       "      <td>278416.454431</td>\n",
       "      <td>67.279056</td>\n",
       "      <td>0.000242</td>\n",
       "      <td>0.184881</td>\n",
       "      <td>...</td>\n",
       "      <td>0.000002</td>\n",
       "      <td>3.705982e-09</td>\n",
       "      <td>1.238207e-11</td>\n",
       "      <td>1.459788e-11</td>\n",
       "      <td>7.209011e-07</td>\n",
       "      <td>4.337737e-12</td>\n",
       "      <td>0.0</td>\n",
       "      <td>4.721963e-22</td>\n",
       "      <td>1.322631e-07</td>\n",
       "      <td>0.999997</td>\n",
       "    </tr>\n",
       "    <tr>\n",
       "      <th>1</th>\n",
       "      <td>1</td>\n",
       "      <td>Sin dato</td>\n",
       "      <td>45.355545</td>\n",
       "      <td>75GRMGQW+8CFP</td>\n",
       "      <td>1412000011206018</td>\n",
       "      <td>4.482118</td>\n",
       "      <td>278416.454431</td>\n",
       "      <td>45.355545</td>\n",
       "      <td>0.000163</td>\n",
       "      <td>0.098822</td>\n",
       "      <td>...</td>\n",
       "      <td>0.000005</td>\n",
       "      <td>1.188032e-08</td>\n",
       "      <td>1.260674e-10</td>\n",
       "      <td>7.887108e-11</td>\n",
       "      <td>2.782248e-06</td>\n",
       "      <td>3.838243e-11</td>\n",
       "      <td>0.0</td>\n",
       "      <td>1.907046e-19</td>\n",
       "      <td>3.001367e-07</td>\n",
       "      <td>0.999992</td>\n",
       "    </tr>\n",
       "    <tr>\n",
       "      <th>2</th>\n",
       "      <td>2</td>\n",
       "      <td>Sin dato</td>\n",
       "      <td>18.488100</td>\n",
       "      <td>75GRMGQW+8CHQ</td>\n",
       "      <td>1412000011206018</td>\n",
       "      <td>4.482118</td>\n",
       "      <td>278416.454431</td>\n",
       "      <td>18.488100</td>\n",
       "      <td>0.000066</td>\n",
       "      <td>0.242433</td>\n",
       "      <td>...</td>\n",
       "      <td>0.000011</td>\n",
       "      <td>7.274897e-08</td>\n",
       "      <td>1.763290e-09</td>\n",
       "      <td>1.349478e-09</td>\n",
       "      <td>8.633957e-06</td>\n",
       "      <td>7.022289e-10</td>\n",
       "      <td>0.0</td>\n",
       "      <td>3.098674e-17</td>\n",
       "      <td>1.473708e-06</td>\n",
       "      <td>0.999979</td>\n",
       "    </tr>\n",
       "    <tr>\n",
       "      <th>3</th>\n",
       "      <td>3</td>\n",
       "      <td>Sin dato</td>\n",
       "      <td>4.936089</td>\n",
       "      <td>75GRMGQW+8GCG</td>\n",
       "      <td>1412000011206018</td>\n",
       "      <td>42.992618</td>\n",
       "      <td>278416.454431</td>\n",
       "      <td>4.936089</td>\n",
       "      <td>0.000018</td>\n",
       "      <td>8.709855</td>\n",
       "      <td>...</td>\n",
       "      <td>0.000014</td>\n",
       "      <td>1.267308e-07</td>\n",
       "      <td>3.289853e-09</td>\n",
       "      <td>2.621279e-09</td>\n",
       "      <td>1.172096e-05</td>\n",
       "      <td>1.769186e-09</td>\n",
       "      <td>0.0</td>\n",
       "      <td>7.086096e-17</td>\n",
       "      <td>2.273200e-06</td>\n",
       "      <td>0.999971</td>\n",
       "    </tr>\n",
       "  </tbody>\n",
       "</table>\n",
       "<p>4 rows × 76 columns</p>\n",
       "</div>"
      ],
      "text/plain": [
       "   fid uso_suelo    area_m2 full_plus_code            CVEGEO  bld_area_m2  \\\n",
       "0    0  Sin dato  67.279056  75GRMGQW+89PG  1412000011206018    12.438638   \n",
       "1    1  Sin dato  45.355545  75GRMGQW+8CFP  1412000011206018     4.482118   \n",
       "2    2  Sin dato  18.488100  75GRMGQW+8CHQ  1412000011206018     4.482118   \n",
       "3    3  Sin dato   4.936089  75GRMGQW+8GCG  1412000011206018    42.992618   \n",
       "\n",
       "   block_area_m2  pred_area_m2  pred_area_pct  bld_pred_area_pct  ...  \\\n",
       "0  278416.454431     67.279056       0.000242           0.184881  ...   \n",
       "1  278416.454431     45.355545       0.000163           0.098822  ...   \n",
       "2  278416.454431     18.488100       0.000066           0.242433  ...   \n",
       "3  278416.454431      4.936089       0.000018           8.709855  ...   \n",
       "\n",
       "   pct_smote_baldio  pct_smote_comercio  pct_smote_equipamiento  \\\n",
       "0          0.000002        3.705982e-09            1.238207e-11   \n",
       "1          0.000005        1.188032e-08            1.260674e-10   \n",
       "2          0.000011        7.274897e-08            1.763290e-09   \n",
       "3          0.000014        1.267308e-07            3.289853e-09   \n",
       "\n",
       "   pct_smote_espacio_verde  pct_smote_habitacional  pct_smote_industria  \\\n",
       "0             1.459788e-11            7.209011e-07         4.337737e-12   \n",
       "1             7.887108e-11            2.782248e-06         3.838243e-11   \n",
       "2             1.349478e-09            8.633957e-06         7.022289e-10   \n",
       "3             2.621279e-09            1.172096e-05         1.769186e-09   \n",
       "\n",
       "   pct_smote_infraestructura  pct_smote_mixto  pct_smote_servicio  \\\n",
       "0                        0.0     4.721963e-22        1.322631e-07   \n",
       "1                        0.0     1.907046e-19        3.001367e-07   \n",
       "2                        0.0     3.098674e-17        1.473708e-06   \n",
       "3                        0.0     7.086096e-17        2.273200e-06   \n",
       "\n",
       "   pct_smote_sin_dato  \n",
       "0            0.999997  \n",
       "1            0.999992  \n",
       "2            0.999979  \n",
       "3            0.999971  \n",
       "\n",
       "[4 rows x 76 columns]"
      ]
     },
     "execution_count": 34,
     "metadata": {},
     "output_type": "execute_result"
    }
   ],
   "source": [
    "gdf[category_list] = y_hat\n",
    "print(gdf.shape)\n",
    "gdf.head(4)"
   ]
  },
  {
   "cell_type": "markdown",
   "id": "0b261529-9bc7-4797-96c3-11250d8a057f",
   "metadata": {},
   "source": [
    "Assign data to polygons"
   ]
  },
  {
   "cell_type": "code",
   "execution_count": 35,
   "id": "531318ae-91e3-4725-a6aa-695604f5cc84",
   "metadata": {},
   "outputs": [],
   "source": [
    "# gdf['pred'] = y_hat.argmax(axis=1)"
   ]
  },
  {
   "cell_type": "markdown",
   "id": "d5231504-e17c-4156-a19c-091e8269682c",
   "metadata": {},
   "source": [
    "### Save output"
   ]
  },
  {
   "cell_type": "code",
   "execution_count": 36,
   "id": "60141096-5433-421e-8f2f-4ad293ac4d6b",
   "metadata": {},
   "outputs": [],
   "source": [
    "gdf.to_file('../../data/processed/prediccion_uso_suelo/test/area_of_prediction_primera_pred.gpkg')"
   ]
  },
  {
   "cell_type": "code",
   "execution_count": null,
   "id": "1cb336fd-8ac2-47ad-bc50-3778f3b88e07",
   "metadata": {},
   "outputs": [],
   "source": []
  }
 ],
 "metadata": {
  "kernelspec": {
   "display_name": "Python 3 (ipykernel)",
   "language": "python",
   "name": "python3"
  },
  "language_info": {
   "codemirror_mode": {
    "name": "ipython",
    "version": 3
   },
   "file_extension": ".py",
   "mimetype": "text/x-python",
   "name": "python",
   "nbconvert_exporter": "python",
   "pygments_lexer": "ipython3",
   "version": "3.11.11"
  }
 },
 "nbformat": 4,
 "nbformat_minor": 5
}
