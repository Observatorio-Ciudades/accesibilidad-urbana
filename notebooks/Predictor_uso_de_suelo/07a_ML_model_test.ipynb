{
 "cells": [
  {
   "cell_type": "markdown",
   "id": "72c6c7a5-86d6-4770-807b-b3686944267c",
   "metadata": {},
   "source": [
    "# Landuse machine learning model -test-"
   ]
  },
  {
   "cell_type": "markdown",
   "id": "b6b25ea6-6203-41bf-ad5a-02b83d15cf19",
   "metadata": {},
   "source": [
    "This notebook integrates the first steps towards the development of a machine learning model for urban landuse prediction."
   ]
  },
  {
   "cell_type": "markdown",
   "id": "89a9447c-5c11-4cb4-9dac-f54cab2d7fe9",
   "metadata": {},
   "source": [
    "## Import libraries"
   ]
  },
  {
   "cell_type": "code",
   "execution_count": 1,
   "id": "4bfed30a-cc4c-467d-8775-eab5f4395250",
   "metadata": {
    "scrolled": true
   },
   "outputs": [
    {
     "name": "stderr",
     "output_type": "stream",
     "text": [
      "2025-07-17 12:09:21.254653: I tensorflow/core/util/port.cc:153] oneDNN custom operations are on. You may see slightly different numerical results due to floating-point round-off errors from different computation orders. To turn them off, set the environment variable `TF_ENABLE_ONEDNN_OPTS=0`.\n",
      "2025-07-17 12:09:21.261145: E external/local_xla/xla/stream_executor/cuda/cuda_fft.cc:467] Unable to register cuFFT factory: Attempting to register factory for plugin cuFFT when one has already been registered\n",
      "WARNING: All log messages before absl::InitializeLog() is called are written to STDERR\n",
      "E0000 00:00:1752775761.268109   56276 cuda_dnn.cc:8579] Unable to register cuDNN factory: Attempting to register factory for plugin cuDNN when one has already been registered\n",
      "E0000 00:00:1752775761.270164   56276 cuda_blas.cc:1407] Unable to register cuBLAS factory: Attempting to register factory for plugin cuBLAS when one has already been registered\n",
      "W0000 00:00:1752775761.275763   56276 computation_placer.cc:177] computation placer already registered. Please check linkage and avoid linking the same target more than once.\n",
      "W0000 00:00:1752775761.275773   56276 computation_placer.cc:177] computation placer already registered. Please check linkage and avoid linking the same target more than once.\n",
      "W0000 00:00:1752775761.275774   56276 computation_placer.cc:177] computation placer already registered. Please check linkage and avoid linking the same target more than once.\n",
      "W0000 00:00:1752775761.275775   56276 computation_placer.cc:177] computation placer already registered. Please check linkage and avoid linking the same target more than once.\n",
      "2025-07-17 12:09:21.278163: I tensorflow/core/platform/cpu_feature_guard.cc:210] This TensorFlow binary is optimized to use available CPU instructions in performance-critical operations.\n",
      "To enable the following instructions: AVX2 AVX512F AVX512_VNNI AVX512_BF16 AVX_VNNI FMA, in other operations, rebuild TensorFlow with the appropriate compiler flags.\n"
     ]
    }
   ],
   "source": [
    "import geopandas as gpd\n",
    "import pandas as pd\n",
    "import numpy as np\n",
    "\n",
    "import matplotlib.pyplot as plt\n",
    "import seaborn as sns\n",
    "import scipy\n",
    "\n",
    "import aup\n",
    "\n",
    "from sklearn.model_selection import train_test_split\n",
    "from sklearn.preprocessing import StandardScaler\n",
    "from imblearn.over_sampling import SMOTE\n",
    "from sklearn.decomposition import PCA\n",
    "\n",
    "\n",
    "\n",
    "from keras import utils                                   # tools for creating one-hot encoding\n",
    "from keras.models import Sequential                       # Type of model we wish to use\n",
    "from keras.layers import Dense, Dropout, Activation  \n",
    "from sklearn.preprocessing import LabelEncoder\n",
    "# from scikeras.wrappers import KerasClassifier, KerasRegressor\n",
    "from keras import utils  \n",
    "from sklearn.model_selection import cross_val_score\n",
    "from sklearn.model_selection import KFold\n",
    "from sklearn.preprocessing import LabelEncoder\n",
    "# from sklearn.pipeline import Pipeline\n",
    "\n",
    "from sklearn.metrics import r2_score, mean_squared_error, mean_absolute_error,confusion_matrix"
   ]
  },
  {
   "cell_type": "markdown",
   "id": "e7a8c8ea-516f-4b4f-8df5-f17a8f17e6ec",
   "metadata": {},
   "source": [
    "## Data for model training"
   ]
  },
  {
   "cell_type": "code",
   "execution_count": 2,
   "id": "bbef554c-59c0-4fba-b604-82ad1d0274c9",
   "metadata": {},
   "outputs": [
    {
     "name": "stdout",
     "output_type": "stream",
     "text": [
      "(37061, 42)\n"
     ]
    },
    {
     "data": {
      "text/html": [
       "<div>\n",
       "<style scoped>\n",
       "    .dataframe tbody tr th:only-of-type {\n",
       "        vertical-align: middle;\n",
       "    }\n",
       "\n",
       "    .dataframe tbody tr th {\n",
       "        vertical-align: top;\n",
       "    }\n",
       "\n",
       "    .dataframe thead th {\n",
       "        text-align: right;\n",
       "    }\n",
       "</style>\n",
       "<table border=\"1\" class=\"dataframe\">\n",
       "  <thead>\n",
       "    <tr style=\"text-align: right;\">\n",
       "      <th></th>\n",
       "      <th>uso_suelo</th>\n",
       "      <th>area_m2</th>\n",
       "      <th>full_plus_code</th>\n",
       "      <th>CVEGEO</th>\n",
       "      <th>bld_area_m2</th>\n",
       "      <th>block_area_m2</th>\n",
       "      <th>pred_area_m2</th>\n",
       "      <th>pred_area_pct</th>\n",
       "      <th>bld_pred_area_pct</th>\n",
       "      <th>pobtot</th>\n",
       "      <th>...</th>\n",
       "      <th>denue_primaria_15min</th>\n",
       "      <th>denue_abarrotes</th>\n",
       "      <th>denue_abarrotes_15min</th>\n",
       "      <th>denue_peluqueria</th>\n",
       "      <th>denue_peluqueria_15min</th>\n",
       "      <th>denue_lavanderia</th>\n",
       "      <th>denue_lavanderia_15min</th>\n",
       "      <th>clues_primer_nivel</th>\n",
       "      <th>clues_primer_nivel_15min</th>\n",
       "      <th>geometry</th>\n",
       "    </tr>\n",
       "  </thead>\n",
       "  <tbody>\n",
       "    <tr>\n",
       "      <th>0</th>\n",
       "      <td>Servicio</td>\n",
       "      <td>2257.817773</td>\n",
       "      <td>75GRMHR2+458V</td>\n",
       "      <td>1412000011206018</td>\n",
       "      <td>173.7348</td>\n",
       "      <td>278416.454431</td>\n",
       "      <td>2747.599834</td>\n",
       "      <td>0.009869</td>\n",
       "      <td>0.063231</td>\n",
       "      <td>0</td>\n",
       "      <td>...</td>\n",
       "      <td>0.0</td>\n",
       "      <td>7.696036</td>\n",
       "      <td>5.772197</td>\n",
       "      <td>8.017103</td>\n",
       "      <td>7.950595</td>\n",
       "      <td>8.005108</td>\n",
       "      <td>3.557762</td>\n",
       "      <td>16.196502</td>\n",
       "      <td>0.555897</td>\n",
       "      <td>MULTIPOLYGON (((2349620.239 965525.905, 234961...</td>\n",
       "    </tr>\n",
       "    <tr>\n",
       "      <th>1</th>\n",
       "      <td>Sin dato</td>\n",
       "      <td>711.098560</td>\n",
       "      <td>75GRMGRX+GQP3</td>\n",
       "      <td>1412000011206018</td>\n",
       "      <td>81.7922</td>\n",
       "      <td>278416.454431</td>\n",
       "      <td>900.765482</td>\n",
       "      <td>0.003235</td>\n",
       "      <td>0.090803</td>\n",
       "      <td>0</td>\n",
       "      <td>...</td>\n",
       "      <td>0.0</td>\n",
       "      <td>6.115355</td>\n",
       "      <td>3.994591</td>\n",
       "      <td>6.128543</td>\n",
       "      <td>6.752205</td>\n",
       "      <td>6.148625</td>\n",
       "      <td>2.126203</td>\n",
       "      <td>18.010403</td>\n",
       "      <td>0.042501</td>\n",
       "      <td>MULTIPOLYGON (((2349506.214 965639.352, 234950...</td>\n",
       "    </tr>\n",
       "  </tbody>\n",
       "</table>\n",
       "<p>2 rows × 42 columns</p>\n",
       "</div>"
      ],
      "text/plain": [
       "  uso_suelo      area_m2 full_plus_code            CVEGEO  bld_area_m2  \\\n",
       "0  Servicio  2257.817773  75GRMHR2+458V  1412000011206018     173.7348   \n",
       "1  Sin dato   711.098560  75GRMGRX+GQP3  1412000011206018      81.7922   \n",
       "\n",
       "   block_area_m2  pred_area_m2  pred_area_pct  bld_pred_area_pct  pobtot  ...  \\\n",
       "0  278416.454431   2747.599834       0.009869           0.063231       0  ...   \n",
       "1  278416.454431    900.765482       0.003235           0.090803       0  ...   \n",
       "\n",
       "   denue_primaria_15min  denue_abarrotes  denue_abarrotes_15min  \\\n",
       "0                   0.0         7.696036               5.772197   \n",
       "1                   0.0         6.115355               3.994591   \n",
       "\n",
       "   denue_peluqueria  denue_peluqueria_15min  denue_lavanderia  \\\n",
       "0          8.017103                7.950595          8.005108   \n",
       "1          6.128543                6.752205          6.148625   \n",
       "\n",
       "   denue_lavanderia_15min  clues_primer_nivel  clues_primer_nivel_15min  \\\n",
       "0                3.557762           16.196502                  0.555897   \n",
       "1                2.126203           18.010403                  0.042501   \n",
       "\n",
       "                                            geometry  \n",
       "0  MULTIPOLYGON (((2349620.239 965525.905, 234961...  \n",
       "1  MULTIPOLYGON (((2349506.214 965639.352, 234950...  \n",
       "\n",
       "[2 rows x 42 columns]"
      ]
     },
     "execution_count": 2,
     "metadata": {},
     "output_type": "execute_result"
    }
   ],
   "source": [
    "gdf = gpd.read_file('../../data/processed/prediccion_uso_suelo/test/area_of_prediction_prox.gpkg')\n",
    "print(gdf.shape)\n",
    "gdf.head(2)"
   ]
  },
  {
   "cell_type": "code",
   "execution_count": 3,
   "id": "a0845b46-a724-422c-b86b-b7afa89e6cb1",
   "metadata": {},
   "outputs": [],
   "source": [
    "if 'fid' not in gdf.columns:\n",
    "    gdf = gdf.reset_index().rename(columns={'index':'fid'})"
   ]
  },
  {
   "cell_type": "code",
   "execution_count": 4,
   "id": "e6ba8d67-9bb4-4ebc-819b-98b4161becef",
   "metadata": {},
   "outputs": [
    {
     "data": {
      "text/plain": [
       "Index(['fid', 'uso_suelo', 'area_m2', 'full_plus_code', 'CVEGEO',\n",
       "       'bld_area_m2', 'block_area_m2', 'pred_area_m2', 'pred_area_pct',\n",
       "       'bld_pred_area_pct', 'pobtot', 'cultural_recreativo', 'servicios',\n",
       "       'comercio', 'salud', 'educacion', 'gobierno', 'industria',\n",
       "       'area_m2_tot', 'habitacional', 'uso_tot', 'pct_habitacional',\n",
       "       'pct_cultural_recreativo', 'pct_servicios', 'pct_comercio', 'pct_salud',\n",
       "       'pct_educacion', 'pct_gobierno', 'pct_industria',\n",
       "       'temperature_mean_diff', 'ndvi_mean', 'ndmi_diff', 'denue_primaria',\n",
       "       'denue_primaria_15min', 'denue_abarrotes', 'denue_abarrotes_15min',\n",
       "       'denue_peluqueria', 'denue_peluqueria_15min', 'denue_lavanderia',\n",
       "       'denue_lavanderia_15min', 'clues_primer_nivel',\n",
       "       'clues_primer_nivel_15min', 'geometry'],\n",
       "      dtype='object')"
      ]
     },
     "execution_count": 4,
     "metadata": {},
     "output_type": "execute_result"
    }
   ],
   "source": [
    "gdf.columns"
   ]
  },
  {
   "cell_type": "markdown",
   "id": "4c867dd3-eed8-4f39-894f-08dbc0f11266",
   "metadata": {},
   "source": [
    "## Machine learning model"
   ]
  },
  {
   "cell_type": "markdown",
   "id": "46e56e8a-cf6a-4903-b377-3d533ee14f36",
   "metadata": {},
   "source": [
    "### Data preprocessing"
   ]
  },
  {
   "cell_type": "markdown",
   "id": "8ca8ffd1-2706-4c0b-b1aa-b32b20c2395b",
   "metadata": {},
   "source": [
    "#### PCA"
   ]
  },
  {
   "cell_type": "code",
   "execution_count": 5,
   "id": "4ad5283f-c74b-48e8-aa3f-2ec90aa4b950",
   "metadata": {},
   "outputs": [],
   "source": [
    "cat_dict = {'edification':['area_m2','bld_area_m2','block_area_m2',\n",
    "    'pred_area_m2', 'pred_area_pct', 'bld_pred_area_pct'],\n",
    "           'landuse':['uso_tot','pobtot','pct_habitacional', 'pct_cultural_recreativo',\n",
    "    'pct_servicios', 'pct_comercio', 'pct_salud', 'pct_educacion',\n",
    "    'pct_gobierno', 'pct_industria'],\n",
    "           'environment':['temperature_mean_diff','ndvi_mean','ndmi_diff'],\n",
    "           'proximity':['denue_primaria', 'denue_primaria_15min',\n",
    "    'denue_abarrotes', 'denue_abarrotes_15min', 'denue_peluqueria',\n",
    "    'denue_peluqueria_15min', 'denue_lavanderia', 'denue_lavanderia_15min',\n",
    "    'clues_primer_nivel', 'clues_primer_nivel_15min']}"
   ]
  },
  {
   "cell_type": "markdown",
   "id": "936c8c8a-a355-44a7-9454-66f1092bd066",
   "metadata": {},
   "source": [
    "Edification"
   ]
  },
  {
   "cell_type": "code",
   "execution_count": 6,
   "id": "ddb75814-4ccb-4cb7-a94f-29b54e42376b",
   "metadata": {},
   "outputs": [
    {
     "name": "stdout",
     "output_type": "stream",
     "text": [
      "(37061, 6)\n"
     ]
    },
    {
     "data": {
      "text/html": [
       "<div>\n",
       "<style scoped>\n",
       "    .dataframe tbody tr th:only-of-type {\n",
       "        vertical-align: middle;\n",
       "    }\n",
       "\n",
       "    .dataframe tbody tr th {\n",
       "        vertical-align: top;\n",
       "    }\n",
       "\n",
       "    .dataframe thead th {\n",
       "        text-align: right;\n",
       "    }\n",
       "</style>\n",
       "<table border=\"1\" class=\"dataframe\">\n",
       "  <thead>\n",
       "    <tr style=\"text-align: right;\">\n",
       "      <th></th>\n",
       "      <th>area_m2</th>\n",
       "      <th>bld_area_m2</th>\n",
       "      <th>block_area_m2</th>\n",
       "      <th>pred_area_m2</th>\n",
       "      <th>pred_area_pct</th>\n",
       "      <th>bld_pred_area_pct</th>\n",
       "    </tr>\n",
       "  </thead>\n",
       "  <tbody>\n",
       "    <tr>\n",
       "      <th>0</th>\n",
       "      <td>0.808572</td>\n",
       "      <td>0.453670</td>\n",
       "      <td>1.937134</td>\n",
       "      <td>0.892706</td>\n",
       "      <td>-0.395654</td>\n",
       "      <td>-0.342286</td>\n",
       "    </tr>\n",
       "    <tr>\n",
       "      <th>1</th>\n",
       "      <td>0.065991</td>\n",
       "      <td>-0.019517</td>\n",
       "      <td>1.937134</td>\n",
       "      <td>0.090725</td>\n",
       "      <td>-0.472954</td>\n",
       "      <td>-0.287216</td>\n",
       "    </tr>\n",
       "  </tbody>\n",
       "</table>\n",
       "</div>"
      ],
      "text/plain": [
       "    area_m2  bld_area_m2  block_area_m2  pred_area_m2  pred_area_pct  \\\n",
       "0  0.808572     0.453670       1.937134      0.892706      -0.395654   \n",
       "1  0.065991    -0.019517       1.937134      0.090725      -0.472954   \n",
       "\n",
       "   bld_pred_area_pct  \n",
       "0          -0.342286  \n",
       "1          -0.287216  "
      ]
     },
     "execution_count": 6,
     "metadata": {},
     "output_type": "execute_result"
    }
   ],
   "source": [
    "category = 'edification'\n",
    "pca_cat_cols = cat_dict[category]\n",
    "gdf_category = gdf[pca_cat_cols].copy()\n",
    "\n",
    "gdf_category[pca_cat_cols] = StandardScaler().fit_transform(np.array(gdf_category[pca_cat_cols]))\n",
    "print(gdf_category.shape)\n",
    "gdf_category.head(2)"
   ]
  },
  {
   "cell_type": "code",
   "execution_count": 7,
   "id": "83bd652d-dafa-4a5f-80d9-421471a200d9",
   "metadata": {},
   "outputs": [],
   "source": [
    "num_comp = 4\n",
    "\n",
    "pca = PCA(n_components=num_comp)\n",
    "\n",
    "x = gdf_category.loc[:, pca_cat_cols].values\n",
    "\n",
    "principalComponents = pca.fit_transform(x)"
   ]
  },
  {
   "cell_type": "code",
   "execution_count": 8,
   "id": "0a85c08d-d581-4264-80b6-768afdb669c8",
   "metadata": {},
   "outputs": [
    {
     "name": "stdout",
     "output_type": "stream",
     "text": [
      "Explained ratio: [0.37276284 0.20153351 0.17243244 0.13192038] Explained variance: 0.8786491756444276\n"
     ]
    }
   ],
   "source": [
    "print('Explained ratio:',pca.explained_variance_ratio_,'Explained variance:',pca.explained_variance_ratio_.sum())"
   ]
  },
  {
   "cell_type": "code",
   "execution_count": 9,
   "id": "50c106ea-295f-43f5-b72b-84ec84d7dac1",
   "metadata": {},
   "outputs": [
    {
     "name": "stdout",
     "output_type": "stream",
     "text": [
      "(37061, 5)\n"
     ]
    },
    {
     "data": {
      "text/html": [
       "<div>\n",
       "<style scoped>\n",
       "    .dataframe tbody tr th:only-of-type {\n",
       "        vertical-align: middle;\n",
       "    }\n",
       "\n",
       "    .dataframe tbody tr th {\n",
       "        vertical-align: top;\n",
       "    }\n",
       "\n",
       "    .dataframe thead th {\n",
       "        text-align: right;\n",
       "    }\n",
       "</style>\n",
       "<table border=\"1\" class=\"dataframe\">\n",
       "  <thead>\n",
       "    <tr style=\"text-align: right;\">\n",
       "      <th></th>\n",
       "      <th>fid</th>\n",
       "      <th>ed_pc_1</th>\n",
       "      <th>ed_pc_2</th>\n",
       "      <th>ed_pc_3</th>\n",
       "      <th>ed_pc_4</th>\n",
       "    </tr>\n",
       "  </thead>\n",
       "  <tbody>\n",
       "    <tr>\n",
       "      <th>0</th>\n",
       "      <td>0</td>\n",
       "      <td>1.676070</td>\n",
       "      <td>-1.43937</td>\n",
       "      <td>0.374140</td>\n",
       "      <td>0.489116</td>\n",
       "    </tr>\n",
       "    <tr>\n",
       "      <th>1</th>\n",
       "      <td>1</td>\n",
       "      <td>0.531907</td>\n",
       "      <td>-1.58021</td>\n",
       "      <td>0.359315</td>\n",
       "      <td>0.492876</td>\n",
       "    </tr>\n",
       "  </tbody>\n",
       "</table>\n",
       "</div>"
      ],
      "text/plain": [
       "   fid   ed_pc_1  ed_pc_2   ed_pc_3   ed_pc_4\n",
       "0    0  1.676070 -1.43937  0.374140  0.489116\n",
       "1    1  0.531907 -1.58021  0.359315  0.492876"
      ]
     },
     "execution_count": 9,
     "metadata": {},
     "output_type": "execute_result"
    }
   ],
   "source": [
    "gdf_edif_pca = gdf[['fid']].copy()\n",
    "\n",
    "for nc in range(num_comp):\n",
    "    gdf_edif_pca.loc[:,[f'ed_pc_{nc+1}']] = np.nan\n",
    "    gdf_edif_pca.loc[:,f'ed_pc_{nc+1}'] = principalComponents[:,nc].copy()\n",
    "\n",
    "print(gdf_edif_pca.shape)\n",
    "gdf_edif_pca.head(2)"
   ]
  },
  {
   "cell_type": "markdown",
   "id": "1a5f38a0-f75f-47ff-bb56-4f3ea3d89bb8",
   "metadata": {},
   "source": [
    "Land use"
   ]
  },
  {
   "cell_type": "code",
   "execution_count": 10,
   "id": "5d6ea7bb-ac31-4c10-a7a0-cab684144788",
   "metadata": {},
   "outputs": [
    {
     "name": "stdout",
     "output_type": "stream",
     "text": [
      "(37061, 10)\n"
     ]
    },
    {
     "data": {
      "text/html": [
       "<div>\n",
       "<style scoped>\n",
       "    .dataframe tbody tr th:only-of-type {\n",
       "        vertical-align: middle;\n",
       "    }\n",
       "\n",
       "    .dataframe tbody tr th {\n",
       "        vertical-align: top;\n",
       "    }\n",
       "\n",
       "    .dataframe thead th {\n",
       "        text-align: right;\n",
       "    }\n",
       "</style>\n",
       "<table border=\"1\" class=\"dataframe\">\n",
       "  <thead>\n",
       "    <tr style=\"text-align: right;\">\n",
       "      <th></th>\n",
       "      <th>uso_tot</th>\n",
       "      <th>pobtot</th>\n",
       "      <th>pct_habitacional</th>\n",
       "      <th>pct_cultural_recreativo</th>\n",
       "      <th>pct_servicios</th>\n",
       "      <th>pct_comercio</th>\n",
       "      <th>pct_salud</th>\n",
       "      <th>pct_educacion</th>\n",
       "      <th>pct_gobierno</th>\n",
       "      <th>pct_industria</th>\n",
       "    </tr>\n",
       "  </thead>\n",
       "  <tbody>\n",
       "    <tr>\n",
       "      <th>0</th>\n",
       "      <td>-0.156381</td>\n",
       "      <td>-0.741551</td>\n",
       "      <td>-2.171355</td>\n",
       "      <td>-0.109823</td>\n",
       "      <td>3.302285</td>\n",
       "      <td>0.864476</td>\n",
       "      <td>-0.16301</td>\n",
       "      <td>-0.164679</td>\n",
       "      <td>-0.0592</td>\n",
       "      <td>0.140592</td>\n",
       "    </tr>\n",
       "    <tr>\n",
       "      <th>1</th>\n",
       "      <td>1.592420</td>\n",
       "      <td>-0.741551</td>\n",
       "      <td>-2.171355</td>\n",
       "      <td>-0.109823</td>\n",
       "      <td>2.532253</td>\n",
       "      <td>1.519257</td>\n",
       "      <td>-0.16301</td>\n",
       "      <td>-0.164679</td>\n",
       "      <td>-0.0592</td>\n",
       "      <td>0.489255</td>\n",
       "    </tr>\n",
       "  </tbody>\n",
       "</table>\n",
       "</div>"
      ],
      "text/plain": [
       "    uso_tot    pobtot  pct_habitacional  pct_cultural_recreativo  \\\n",
       "0 -0.156381 -0.741551         -2.171355                -0.109823   \n",
       "1  1.592420 -0.741551         -2.171355                -0.109823   \n",
       "\n",
       "   pct_servicios  pct_comercio  pct_salud  pct_educacion  pct_gobierno  \\\n",
       "0       3.302285      0.864476   -0.16301      -0.164679       -0.0592   \n",
       "1       2.532253      1.519257   -0.16301      -0.164679       -0.0592   \n",
       "\n",
       "   pct_industria  \n",
       "0       0.140592  \n",
       "1       0.489255  "
      ]
     },
     "execution_count": 10,
     "metadata": {},
     "output_type": "execute_result"
    }
   ],
   "source": [
    "category = 'landuse'\n",
    "pca_cat_cols = cat_dict[category]\n",
    "gdf_category = gdf[pca_cat_cols].copy()\n",
    "\n",
    "gdf_category[pca_cat_cols] = StandardScaler().fit_transform(np.array(gdf_category[pca_cat_cols]))\n",
    "print(gdf_category.shape)\n",
    "gdf_category.head(2)"
   ]
  },
  {
   "cell_type": "code",
   "execution_count": 19,
   "id": "9d94b209-7e6c-4e03-a505-88e3a706c969",
   "metadata": {},
   "outputs": [],
   "source": [
    "num_comp = 7\n",
    "\n",
    "pca = PCA(n_components=num_comp)\n",
    "\n",
    "x = gdf_category.loc[:, pca_cat_cols].values\n",
    "\n",
    "principalComponents = pca.fit_transform(x)"
   ]
  },
  {
   "cell_type": "code",
   "execution_count": 20,
   "id": "00818564-a79f-455e-8efe-a0e0c4644722",
   "metadata": {},
   "outputs": [
    {
     "name": "stdout",
     "output_type": "stream",
     "text": [
      "Explained ratio: [0.22470471 0.10902397 0.10090101 0.1005064  0.09920605 0.09907378\n",
      " 0.0916686 ] Explained variance: 0.8250845137158702\n"
     ]
    }
   ],
   "source": [
    "print('Explained ratio:',pca.explained_variance_ratio_,'Explained variance:',pca.explained_variance_ratio_.sum())"
   ]
  },
  {
   "cell_type": "code",
   "execution_count": 21,
   "id": "d2ce14b0-fdfb-4bd5-9ce7-adf869d3676d",
   "metadata": {},
   "outputs": [
    {
     "name": "stdout",
     "output_type": "stream",
     "text": [
      "(37061, 8)\n"
     ]
    },
    {
     "data": {
      "text/html": [
       "<div>\n",
       "<style scoped>\n",
       "    .dataframe tbody tr th:only-of-type {\n",
       "        vertical-align: middle;\n",
       "    }\n",
       "\n",
       "    .dataframe tbody tr th {\n",
       "        vertical-align: top;\n",
       "    }\n",
       "\n",
       "    .dataframe thead th {\n",
       "        text-align: right;\n",
       "    }\n",
       "</style>\n",
       "<table border=\"1\" class=\"dataframe\">\n",
       "  <thead>\n",
       "    <tr style=\"text-align: right;\">\n",
       "      <th></th>\n",
       "      <th>fid</th>\n",
       "      <th>ed_pc_1</th>\n",
       "      <th>ed_pc_2</th>\n",
       "      <th>ed_pc_3</th>\n",
       "      <th>ed_pc_4</th>\n",
       "      <th>ed_pc_5</th>\n",
       "      <th>ed_pc_6</th>\n",
       "      <th>ed_pc_7</th>\n",
       "    </tr>\n",
       "  </thead>\n",
       "  <tbody>\n",
       "    <tr>\n",
       "      <th>0</th>\n",
       "      <td>0</td>\n",
       "      <td>-2.740196</td>\n",
       "      <td>-0.544843</td>\n",
       "      <td>-2.220966</td>\n",
       "      <td>0.279865</td>\n",
       "      <td>-0.722421</td>\n",
       "      <td>-0.112818</td>\n",
       "      <td>-1.574062</td>\n",
       "    </tr>\n",
       "    <tr>\n",
       "      <th>1</th>\n",
       "      <td>1</td>\n",
       "      <td>-3.421711</td>\n",
       "      <td>-0.048898</td>\n",
       "      <td>-1.533175</td>\n",
       "      <td>0.009171</td>\n",
       "      <td>-0.636961</td>\n",
       "      <td>-0.420553</td>\n",
       "      <td>-0.815024</td>\n",
       "    </tr>\n",
       "  </tbody>\n",
       "</table>\n",
       "</div>"
      ],
      "text/plain": [
       "   fid   ed_pc_1   ed_pc_2   ed_pc_3   ed_pc_4   ed_pc_5   ed_pc_6   ed_pc_7\n",
       "0    0 -2.740196 -0.544843 -2.220966  0.279865 -0.722421 -0.112818 -1.574062\n",
       "1    1 -3.421711 -0.048898 -1.533175  0.009171 -0.636961 -0.420553 -0.815024"
      ]
     },
     "execution_count": 21,
     "metadata": {},
     "output_type": "execute_result"
    }
   ],
   "source": [
    "gdf_land_pca = gdf[['fid']].copy()\n",
    "\n",
    "for nc in range(num_comp):\n",
    "    gdf_land_pca.loc[:,[f'land_pc_{nc+1}']] = np.nan\n",
    "    gdf_land_pca.loc[:,f'land_pc_{nc+1}'] = principalComponents[:,nc].copy()\n",
    "\n",
    "print(gdf_land_pca.shape)\n",
    "gdf_land_pca.head(2)"
   ]
  },
  {
   "cell_type": "markdown",
   "id": "81d8aeed-2515-47d5-b80e-81364af69d5f",
   "metadata": {},
   "source": [
    "Environment"
   ]
  },
  {
   "cell_type": "code",
   "execution_count": 22,
   "id": "c08c8286-dd58-4159-a174-4fa8598fb069",
   "metadata": {},
   "outputs": [
    {
     "name": "stdout",
     "output_type": "stream",
     "text": [
      "(37061, 3)\n"
     ]
    },
    {
     "data": {
      "text/html": [
       "<div>\n",
       "<style scoped>\n",
       "    .dataframe tbody tr th:only-of-type {\n",
       "        vertical-align: middle;\n",
       "    }\n",
       "\n",
       "    .dataframe tbody tr th {\n",
       "        vertical-align: top;\n",
       "    }\n",
       "\n",
       "    .dataframe thead th {\n",
       "        text-align: right;\n",
       "    }\n",
       "</style>\n",
       "<table border=\"1\" class=\"dataframe\">\n",
       "  <thead>\n",
       "    <tr style=\"text-align: right;\">\n",
       "      <th></th>\n",
       "      <th>temperature_mean_diff</th>\n",
       "      <th>ndvi_mean</th>\n",
       "      <th>ndmi_diff</th>\n",
       "    </tr>\n",
       "  </thead>\n",
       "  <tbody>\n",
       "    <tr>\n",
       "      <th>0</th>\n",
       "      <td>0.351306</td>\n",
       "      <td>0.903285</td>\n",
       "      <td>0.838479</td>\n",
       "    </tr>\n",
       "    <tr>\n",
       "      <th>1</th>\n",
       "      <td>0.992280</td>\n",
       "      <td>1.212838</td>\n",
       "      <td>0.354323</td>\n",
       "    </tr>\n",
       "  </tbody>\n",
       "</table>\n",
       "</div>"
      ],
      "text/plain": [
       "   temperature_mean_diff  ndvi_mean  ndmi_diff\n",
       "0               0.351306   0.903285   0.838479\n",
       "1               0.992280   1.212838   0.354323"
      ]
     },
     "execution_count": 22,
     "metadata": {},
     "output_type": "execute_result"
    }
   ],
   "source": [
    "category = 'environment'\n",
    "pca_cat_cols = cat_dict[category]\n",
    "gdf_category = gdf[pca_cat_cols].copy()\n",
    "\n",
    "gdf_category[pca_cat_cols] = StandardScaler().fit_transform(np.array(gdf_category[pca_cat_cols]))\n",
    "print(gdf_category.shape)\n",
    "gdf_category.head(2)"
   ]
  },
  {
   "cell_type": "code",
   "execution_count": 23,
   "id": "d9e2d13b-567f-48af-a581-39c974bced34",
   "metadata": {},
   "outputs": [],
   "source": [
    "num_comp = 3\n",
    "\n",
    "pca = PCA(n_components=num_comp)\n",
    "\n",
    "x = gdf_category.loc[:, pca_cat_cols].values\n",
    "\n",
    "principalComponents = pca.fit_transform(x)"
   ]
  },
  {
   "cell_type": "code",
   "execution_count": 24,
   "id": "8ae1f605-60f9-4462-8437-de93c6371050",
   "metadata": {},
   "outputs": [
    {
     "name": "stdout",
     "output_type": "stream",
     "text": [
      "Explained ratio: [0.66310312 0.26154455 0.07535233] Explained variance: 1.0\n"
     ]
    }
   ],
   "source": [
    "print('Explained ratio:',pca.explained_variance_ratio_,'Explained variance:',pca.explained_variance_ratio_.sum())"
   ]
  },
  {
   "cell_type": "code",
   "execution_count": 25,
   "id": "dc0b560e-5a5a-4937-8669-9d95ec8bbd89",
   "metadata": {
    "scrolled": true
   },
   "outputs": [
    {
     "name": "stdout",
     "output_type": "stream",
     "text": [
      "(37061, 4)\n"
     ]
    },
    {
     "data": {
      "text/html": [
       "<div>\n",
       "<style scoped>\n",
       "    .dataframe tbody tr th:only-of-type {\n",
       "        vertical-align: middle;\n",
       "    }\n",
       "\n",
       "    .dataframe tbody tr th {\n",
       "        vertical-align: top;\n",
       "    }\n",
       "\n",
       "    .dataframe thead th {\n",
       "        text-align: right;\n",
       "    }\n",
       "</style>\n",
       "<table border=\"1\" class=\"dataframe\">\n",
       "  <thead>\n",
       "    <tr style=\"text-align: right;\">\n",
       "      <th></th>\n",
       "      <th>fid</th>\n",
       "      <th>ed_pc_1</th>\n",
       "      <th>ed_pc_2</th>\n",
       "      <th>ed_pc_3</th>\n",
       "    </tr>\n",
       "  </thead>\n",
       "  <tbody>\n",
       "    <tr>\n",
       "      <th>0</th>\n",
       "      <td>0</td>\n",
       "      <td>1.210008</td>\n",
       "      <td>0.387314</td>\n",
       "      <td>0.168089</td>\n",
       "    </tr>\n",
       "    <tr>\n",
       "      <th>1</th>\n",
       "      <td>1</td>\n",
       "      <td>1.537267</td>\n",
       "      <td>-0.406541</td>\n",
       "      <td>0.229506</td>\n",
       "    </tr>\n",
       "  </tbody>\n",
       "</table>\n",
       "</div>"
      ],
      "text/plain": [
       "   fid   ed_pc_1   ed_pc_2   ed_pc_3\n",
       "0    0  1.210008  0.387314  0.168089\n",
       "1    1  1.537267 -0.406541  0.229506"
      ]
     },
     "execution_count": 25,
     "metadata": {},
     "output_type": "execute_result"
    }
   ],
   "source": [
    "gdf_env_pca = gdf[['fid']].copy()\n",
    "\n",
    "for nc in range(num_comp):\n",
    "    gdf_env_pca.loc[:,[f'env_pc_{nc+1}']] = np.nan\n",
    "    gdf_env_pca.loc[:,f'env_pc_{nc+1}'] = principalComponents[:,nc].copy()\n",
    "\n",
    "print(gdf_env_pca.shape)\n",
    "gdf_env_pca.head(2)"
   ]
  },
  {
   "cell_type": "markdown",
   "id": "62935d2f-6c66-452b-a4f8-86349974c6e4",
   "metadata": {},
   "source": [
    "Proximity"
   ]
  },
  {
   "cell_type": "code",
   "execution_count": 26,
   "id": "9b0907b5-445e-4d64-87fa-96cfc74a324b",
   "metadata": {},
   "outputs": [
    {
     "name": "stdout",
     "output_type": "stream",
     "text": [
      "(37061, 10)\n"
     ]
    },
    {
     "data": {
      "text/html": [
       "<div>\n",
       "<style scoped>\n",
       "    .dataframe tbody tr th:only-of-type {\n",
       "        vertical-align: middle;\n",
       "    }\n",
       "\n",
       "    .dataframe tbody tr th {\n",
       "        vertical-align: top;\n",
       "    }\n",
       "\n",
       "    .dataframe thead th {\n",
       "        text-align: right;\n",
       "    }\n",
       "</style>\n",
       "<table border=\"1\" class=\"dataframe\">\n",
       "  <thead>\n",
       "    <tr style=\"text-align: right;\">\n",
       "      <th></th>\n",
       "      <th>denue_primaria</th>\n",
       "      <th>denue_primaria_15min</th>\n",
       "      <th>denue_abarrotes</th>\n",
       "      <th>denue_abarrotes_15min</th>\n",
       "      <th>denue_peluqueria</th>\n",
       "      <th>denue_peluqueria_15min</th>\n",
       "      <th>denue_lavanderia</th>\n",
       "      <th>denue_lavanderia_15min</th>\n",
       "      <th>clues_primer_nivel</th>\n",
       "      <th>clues_primer_nivel_15min</th>\n",
       "    </tr>\n",
       "  </thead>\n",
       "  <tbody>\n",
       "    <tr>\n",
       "      <th>0</th>\n",
       "      <td>0.449233</td>\n",
       "      <td>-0.939193</td>\n",
       "      <td>-0.003986</td>\n",
       "      <td>-0.440895</td>\n",
       "      <td>0.350071</td>\n",
       "      <td>-0.864776</td>\n",
       "      <td>0.028797</td>\n",
       "      <td>-0.641769</td>\n",
       "      <td>0.429168</td>\n",
       "      <td>-0.883059</td>\n",
       "    </tr>\n",
       "    <tr>\n",
       "      <th>1</th>\n",
       "      <td>0.455974</td>\n",
       "      <td>-0.939193</td>\n",
       "      <td>-0.227137</td>\n",
       "      <td>-0.662231</td>\n",
       "      <td>0.023828</td>\n",
       "      <td>-0.914549</td>\n",
       "      <td>-0.251831</td>\n",
       "      <td>-0.887676</td>\n",
       "      <td>0.627510</td>\n",
       "      <td>-1.103894</td>\n",
       "    </tr>\n",
       "  </tbody>\n",
       "</table>\n",
       "</div>"
      ],
      "text/plain": [
       "   denue_primaria  denue_primaria_15min  denue_abarrotes  \\\n",
       "0        0.449233             -0.939193        -0.003986   \n",
       "1        0.455974             -0.939193        -0.227137   \n",
       "\n",
       "   denue_abarrotes_15min  denue_peluqueria  denue_peluqueria_15min  \\\n",
       "0              -0.440895          0.350071               -0.864776   \n",
       "1              -0.662231          0.023828               -0.914549   \n",
       "\n",
       "   denue_lavanderia  denue_lavanderia_15min  clues_primer_nivel  \\\n",
       "0          0.028797               -0.641769            0.429168   \n",
       "1         -0.251831               -0.887676            0.627510   \n",
       "\n",
       "   clues_primer_nivel_15min  \n",
       "0                 -0.883059  \n",
       "1                 -1.103894  "
      ]
     },
     "execution_count": 26,
     "metadata": {},
     "output_type": "execute_result"
    }
   ],
   "source": [
    "category = 'proximity'\n",
    "pca_cat_cols = cat_dict[category]\n",
    "gdf_category = gdf[pca_cat_cols].copy()\n",
    "\n",
    "gdf_category[pca_cat_cols] = StandardScaler().fit_transform(np.array(gdf_category[pca_cat_cols]))\n",
    "print(gdf_category.shape)\n",
    "gdf_category.head(2)"
   ]
  },
  {
   "cell_type": "code",
   "execution_count": 27,
   "id": "6be6d2f0-44eb-4fd4-b95d-8d9c557bdf09",
   "metadata": {},
   "outputs": [],
   "source": [
    "num_comp = 5\n",
    "\n",
    "pca = PCA(n_components=num_comp)\n",
    "\n",
    "x = gdf_category.loc[:, pca_cat_cols].values\n",
    "\n",
    "principalComponents = pca.fit_transform(x)"
   ]
  },
  {
   "cell_type": "code",
   "execution_count": 28,
   "id": "d5de42e9-b58f-4a30-aeea-4d3fdabfad90",
   "metadata": {},
   "outputs": [
    {
     "name": "stdout",
     "output_type": "stream",
     "text": [
      "Explained ratio: [0.65691129 0.10455204 0.09342311 0.05668719 0.02637252] Explained variance: 0.9379461361521335\n"
     ]
    }
   ],
   "source": [
    "print('Explained ratio:',pca.explained_variance_ratio_,'Explained variance:',pca.explained_variance_ratio_.sum())"
   ]
  },
  {
   "cell_type": "code",
   "execution_count": 29,
   "id": "f4e7b3aa-e379-4714-a486-f7f43d338e16",
   "metadata": {
    "scrolled": true
   },
   "outputs": [
    {
     "name": "stdout",
     "output_type": "stream",
     "text": [
      "(37061, 6)\n"
     ]
    },
    {
     "data": {
      "text/html": [
       "<div>\n",
       "<style scoped>\n",
       "    .dataframe tbody tr th:only-of-type {\n",
       "        vertical-align: middle;\n",
       "    }\n",
       "\n",
       "    .dataframe tbody tr th {\n",
       "        vertical-align: top;\n",
       "    }\n",
       "\n",
       "    .dataframe thead th {\n",
       "        text-align: right;\n",
       "    }\n",
       "</style>\n",
       "<table border=\"1\" class=\"dataframe\">\n",
       "  <thead>\n",
       "    <tr style=\"text-align: right;\">\n",
       "      <th></th>\n",
       "      <th>fid</th>\n",
       "      <th>prox_pc_1</th>\n",
       "      <th>prox_pc_2</th>\n",
       "      <th>prox_pc_3</th>\n",
       "      <th>prox_pc_4</th>\n",
       "      <th>prox_pc_5</th>\n",
       "    </tr>\n",
       "  </thead>\n",
       "  <tbody>\n",
       "    <tr>\n",
       "      <th>0</th>\n",
       "      <td>0</td>\n",
       "      <td>1.539463</td>\n",
       "      <td>-0.508860</td>\n",
       "      <td>-0.826083</td>\n",
       "      <td>0.127111</td>\n",
       "      <td>-0.047013</td>\n",
       "    </tr>\n",
       "    <tr>\n",
       "      <th>1</th>\n",
       "      <td>1</td>\n",
       "      <td>1.550065</td>\n",
       "      <td>-0.779107</td>\n",
       "      <td>-1.310135</td>\n",
       "      <td>0.325811</td>\n",
       "      <td>0.040981</td>\n",
       "    </tr>\n",
       "  </tbody>\n",
       "</table>\n",
       "</div>"
      ],
      "text/plain": [
       "   fid  prox_pc_1  prox_pc_2  prox_pc_3  prox_pc_4  prox_pc_5\n",
       "0    0   1.539463  -0.508860  -0.826083   0.127111  -0.047013\n",
       "1    1   1.550065  -0.779107  -1.310135   0.325811   0.040981"
      ]
     },
     "execution_count": 29,
     "metadata": {},
     "output_type": "execute_result"
    }
   ],
   "source": [
    "gdf_prox_pca = gdf[['fid']].copy()\n",
    "\n",
    "for nc in range(num_comp):\n",
    "    gdf_prox_pca.loc[:,[f'prox_pc_{nc+1}']] = np.nan\n",
    "    gdf_prox_pca.loc[:,f'prox_pc_{nc+1}'] = principalComponents[:,nc].copy()\n",
    "\n",
    "print(gdf_prox_pca.shape)\n",
    "gdf_prox_pca.head(2)"
   ]
  },
  {
   "cell_type": "markdown",
   "id": "404fffb4-0dae-4a6d-b803-8a59e8d6f38a",
   "metadata": {},
   "source": [
    "Divide X and Y data"
   ]
  },
  {
   "cell_type": "code",
   "execution_count": 5,
   "id": "fa4380e9-357d-4e00-9769-40c8c0cebc41",
   "metadata": {},
   "outputs": [],
   "source": [
    "X = gdf[['area_m2','bld_area_m2','block_area_m2',\n",
    "    'pred_area_m2', 'pred_area_pct', 'bld_pred_area_pct',\n",
    "    'uso_tot','pobtot','pct_habitacional', 'pct_cultural_recreativo',\n",
    "    'pct_servicios', 'pct_comercio', 'pct_salud', 'pct_educacion',\n",
    "    'pct_gobierno', 'pct_industria',\n",
    "    'temperature_mean_diff','ndvi_mean','ndmi_diff',\n",
    "    'denue_primaria', 'denue_primaria_15min',\n",
    "    'denue_abarrotes', 'denue_abarrotes_15min', 'denue_peluqueria',\n",
    "    'denue_peluqueria_15min', 'denue_lavanderia', 'denue_lavanderia_15min',\n",
    "    'clues_primer_nivel', 'clues_primer_nivel_15min'\n",
    "    ]].to_numpy()\n",
    "\n",
    "Y = gdf[['uso_suelo']].to_numpy()\n",
    "Y = np.reshape(Y, shape=(Y.shape[0],))"
   ]
  },
  {
   "cell_type": "markdown",
   "id": "df1e46b8-1eaa-44d7-900c-2a6f768a90b5",
   "metadata": {},
   "source": [
    "Standarize and encode data"
   ]
  },
  {
   "cell_type": "code",
   "execution_count": 6,
   "id": "3f06d04f-a832-4c05-9a08-9f0e616b444f",
   "metadata": {},
   "outputs": [],
   "source": [
    "scaler = StandardScaler()\n",
    "X_scaled = scaler.fit_transform(X)\n",
    "\n",
    "encoder = LabelEncoder()\n",
    "encoder.fit(Y)\n",
    "encoded_Y = encoder.transform(Y)"
   ]
  },
  {
   "cell_type": "markdown",
   "id": "9dbfb3d4-6910-46c5-99cf-4dbbf5e88c9b",
   "metadata": {},
   "source": [
    "Divide training, validation and testing data"
   ]
  },
  {
   "cell_type": "code",
   "execution_count": 7,
   "id": "f9797b9d-ac16-4aaa-8ea3-c3091ea21ee8",
   "metadata": {},
   "outputs": [],
   "source": [
    "X_model, X_test, y_model, y_test = (train_test_split(X_scaled, encoded_Y, test_size=0.2, random_state=0))"
   ]
  },
  {
   "cell_type": "code",
   "execution_count": 8,
   "id": "3cc9fb5c-b1c7-4ff5-8b03-911be6b6945c",
   "metadata": {},
   "outputs": [],
   "source": [
    "smote = SMOTE()  \n",
    "X_resampled, y_resampled = smote.fit_resample(X_model, y_model)  "
   ]
  },
  {
   "cell_type": "code",
   "execution_count": 9,
   "id": "47bccdc0-6859-416f-951f-96474f6877e5",
   "metadata": {},
   "outputs": [],
   "source": [
    "X_train, X_val, y_train, y_val = (train_test_split(X_resampled, y_resampled, test_size=0.2, random_state=0))"
   ]
  },
  {
   "cell_type": "markdown",
   "id": "2c7831e0-c32a-43d9-8d12-48376bbaa159",
   "metadata": {},
   "source": [
    "Y data to categorical"
   ]
  },
  {
   "cell_type": "code",
   "execution_count": 10,
   "id": "1096d345-b301-4f9b-9f9c-f0c03151b510",
   "metadata": {},
   "outputs": [],
   "source": [
    "# encode class values as integers\n",
    "num_classes = len(gdf.uso_suelo.unique())\n",
    "\n",
    "# convert integers to dummy variables (i.e. one hot encoded)\n",
    "y_train = utils.to_categorical(y_train, num_classes)\n",
    "\n",
    "# convert integers to dummy variables (i.e. one hot encoded)\n",
    "y_val = utils.to_categorical(y_val, num_classes)\n",
    "\n",
    "# convert integers to dummy variables (i.e. one hot encoded)\n",
    "y_test = utils.to_categorical(y_test, num_classes)"
   ]
  },
  {
   "cell_type": "markdown",
   "id": "cf34f006-a5f2-40f7-84b5-6fe5fa00a520",
   "metadata": {},
   "source": [
    "### Model construction -- Classification Neural network"
   ]
  },
  {
   "cell_type": "markdown",
   "id": "fe8bf42a-4c24-4006-8e96-4c27a480a4ba",
   "metadata": {},
   "source": [
    "Model parameters"
   ]
  },
  {
   "cell_type": "code",
   "execution_count": 11,
   "id": "9993a00b-b33e-4a12-b5d9-b2452f27f248",
   "metadata": {},
   "outputs": [],
   "source": [
    "input_shape = (X_train.shape[1],)"
   ]
  },
  {
   "cell_type": "code",
   "execution_count": 12,
   "id": "043870aa-55dc-4e8d-a224-3d949b3a0a30",
   "metadata": {},
   "outputs": [
    {
     "name": "stderr",
     "output_type": "stream",
     "text": [
      "/home/edgaregurrola/.cache/pypoetry/virtualenvs/aup-qDsIK5d5-py3.11/lib/python3.11/site-packages/keras/src/layers/core/dense.py:87: UserWarning: Do not pass an `input_shape`/`input_dim` argument to a layer. When using Sequential models, prefer using an `Input(shape)` object as the first layer in the model instead.\n",
      "  super().__init__(activity_regularizer=activity_regularizer, **kwargs)\n",
      "I0000 00:00:1752773437.725027   25139 gpu_device.cc:2019] Created device /job:localhost/replica:0/task:0/device:GPU:0 with 4173 MB memory:  -> device: 0, name: NVIDIA GeForce RTX 4060 Ti, pci bus id: 0000:01:00.0, compute capability: 8.9\n"
     ]
    },
    {
     "data": {
      "text/html": [
       "<pre style=\"white-space:pre;overflow-x:auto;line-height:normal;font-family:Menlo,'DejaVu Sans Mono',consolas,'Courier New',monospace\"><span style=\"font-weight: bold\">Model: \"sequential\"</span>\n",
       "</pre>\n"
      ],
      "text/plain": [
       "\u001b[1mModel: \"sequential\"\u001b[0m\n"
      ]
     },
     "metadata": {},
     "output_type": "display_data"
    },
    {
     "data": {
      "text/html": [
       "<pre style=\"white-space:pre;overflow-x:auto;line-height:normal;font-family:Menlo,'DejaVu Sans Mono',consolas,'Courier New',monospace\">┏━━━━━━━━━━━━━━━━━━━━━━━━━━━━━━━━━┳━━━━━━━━━━━━━━━━━━━━━━━━┳━━━━━━━━━━━━━━━┓\n",
       "┃<span style=\"font-weight: bold\"> Layer (type)                    </span>┃<span style=\"font-weight: bold\"> Output Shape           </span>┃<span style=\"font-weight: bold\">       Param # </span>┃\n",
       "┡━━━━━━━━━━━━━━━━━━━━━━━━━━━━━━━━━╇━━━━━━━━━━━━━━━━━━━━━━━━╇━━━━━━━━━━━━━━━┩\n",
       "│ dense (<span style=\"color: #0087ff; text-decoration-color: #0087ff\">Dense</span>)                   │ (<span style=\"color: #00d7ff; text-decoration-color: #00d7ff\">None</span>, <span style=\"color: #00af00; text-decoration-color: #00af00\">64</span>)             │         <span style=\"color: #00af00; text-decoration-color: #00af00\">1,920</span> │\n",
       "├─────────────────────────────────┼────────────────────────┼───────────────┤\n",
       "│ activation (<span style=\"color: #0087ff; text-decoration-color: #0087ff\">Activation</span>)         │ (<span style=\"color: #00d7ff; text-decoration-color: #00d7ff\">None</span>, <span style=\"color: #00af00; text-decoration-color: #00af00\">64</span>)             │             <span style=\"color: #00af00; text-decoration-color: #00af00\">0</span> │\n",
       "├─────────────────────────────────┼────────────────────────┼───────────────┤\n",
       "│ dropout (<span style=\"color: #0087ff; text-decoration-color: #0087ff\">Dropout</span>)               │ (<span style=\"color: #00d7ff; text-decoration-color: #00d7ff\">None</span>, <span style=\"color: #00af00; text-decoration-color: #00af00\">64</span>)             │             <span style=\"color: #00af00; text-decoration-color: #00af00\">0</span> │\n",
       "├─────────────────────────────────┼────────────────────────┼───────────────┤\n",
       "│ dense_1 (<span style=\"color: #0087ff; text-decoration-color: #0087ff\">Dense</span>)                 │ (<span style=\"color: #00d7ff; text-decoration-color: #00d7ff\">None</span>, <span style=\"color: #00af00; text-decoration-color: #00af00\">64</span>)             │         <span style=\"color: #00af00; text-decoration-color: #00af00\">4,160</span> │\n",
       "├─────────────────────────────────┼────────────────────────┼───────────────┤\n",
       "│ activation_1 (<span style=\"color: #0087ff; text-decoration-color: #0087ff\">Activation</span>)       │ (<span style=\"color: #00d7ff; text-decoration-color: #00d7ff\">None</span>, <span style=\"color: #00af00; text-decoration-color: #00af00\">64</span>)             │             <span style=\"color: #00af00; text-decoration-color: #00af00\">0</span> │\n",
       "├─────────────────────────────────┼────────────────────────┼───────────────┤\n",
       "│ dropout_1 (<span style=\"color: #0087ff; text-decoration-color: #0087ff\">Dropout</span>)             │ (<span style=\"color: #00d7ff; text-decoration-color: #00d7ff\">None</span>, <span style=\"color: #00af00; text-decoration-color: #00af00\">64</span>)             │             <span style=\"color: #00af00; text-decoration-color: #00af00\">0</span> │\n",
       "├─────────────────────────────────┼────────────────────────┼───────────────┤\n",
       "│ dense_2 (<span style=\"color: #0087ff; text-decoration-color: #0087ff\">Dense</span>)                 │ (<span style=\"color: #00d7ff; text-decoration-color: #00d7ff\">None</span>, <span style=\"color: #00af00; text-decoration-color: #00af00\">11</span>)             │           <span style=\"color: #00af00; text-decoration-color: #00af00\">715</span> │\n",
       "├─────────────────────────────────┼────────────────────────┼───────────────┤\n",
       "│ activation_2 (<span style=\"color: #0087ff; text-decoration-color: #0087ff\">Activation</span>)       │ (<span style=\"color: #00d7ff; text-decoration-color: #00d7ff\">None</span>, <span style=\"color: #00af00; text-decoration-color: #00af00\">11</span>)             │             <span style=\"color: #00af00; text-decoration-color: #00af00\">0</span> │\n",
       "└─────────────────────────────────┴────────────────────────┴───────────────┘\n",
       "</pre>\n"
      ],
      "text/plain": [
       "┏━━━━━━━━━━━━━━━━━━━━━━━━━━━━━━━━━┳━━━━━━━━━━━━━━━━━━━━━━━━┳━━━━━━━━━━━━━━━┓\n",
       "┃\u001b[1m \u001b[0m\u001b[1mLayer (type)                   \u001b[0m\u001b[1m \u001b[0m┃\u001b[1m \u001b[0m\u001b[1mOutput Shape          \u001b[0m\u001b[1m \u001b[0m┃\u001b[1m \u001b[0m\u001b[1m      Param #\u001b[0m\u001b[1m \u001b[0m┃\n",
       "┡━━━━━━━━━━━━━━━━━━━━━━━━━━━━━━━━━╇━━━━━━━━━━━━━━━━━━━━━━━━╇━━━━━━━━━━━━━━━┩\n",
       "│ dense (\u001b[38;5;33mDense\u001b[0m)                   │ (\u001b[38;5;45mNone\u001b[0m, \u001b[38;5;34m64\u001b[0m)             │         \u001b[38;5;34m1,920\u001b[0m │\n",
       "├─────────────────────────────────┼────────────────────────┼───────────────┤\n",
       "│ activation (\u001b[38;5;33mActivation\u001b[0m)         │ (\u001b[38;5;45mNone\u001b[0m, \u001b[38;5;34m64\u001b[0m)             │             \u001b[38;5;34m0\u001b[0m │\n",
       "├─────────────────────────────────┼────────────────────────┼───────────────┤\n",
       "│ dropout (\u001b[38;5;33mDropout\u001b[0m)               │ (\u001b[38;5;45mNone\u001b[0m, \u001b[38;5;34m64\u001b[0m)             │             \u001b[38;5;34m0\u001b[0m │\n",
       "├─────────────────────────────────┼────────────────────────┼───────────────┤\n",
       "│ dense_1 (\u001b[38;5;33mDense\u001b[0m)                 │ (\u001b[38;5;45mNone\u001b[0m, \u001b[38;5;34m64\u001b[0m)             │         \u001b[38;5;34m4,160\u001b[0m │\n",
       "├─────────────────────────────────┼────────────────────────┼───────────────┤\n",
       "│ activation_1 (\u001b[38;5;33mActivation\u001b[0m)       │ (\u001b[38;5;45mNone\u001b[0m, \u001b[38;5;34m64\u001b[0m)             │             \u001b[38;5;34m0\u001b[0m │\n",
       "├─────────────────────────────────┼────────────────────────┼───────────────┤\n",
       "│ dropout_1 (\u001b[38;5;33mDropout\u001b[0m)             │ (\u001b[38;5;45mNone\u001b[0m, \u001b[38;5;34m64\u001b[0m)             │             \u001b[38;5;34m0\u001b[0m │\n",
       "├─────────────────────────────────┼────────────────────────┼───────────────┤\n",
       "│ dense_2 (\u001b[38;5;33mDense\u001b[0m)                 │ (\u001b[38;5;45mNone\u001b[0m, \u001b[38;5;34m11\u001b[0m)             │           \u001b[38;5;34m715\u001b[0m │\n",
       "├─────────────────────────────────┼────────────────────────┼───────────────┤\n",
       "│ activation_2 (\u001b[38;5;33mActivation\u001b[0m)       │ (\u001b[38;5;45mNone\u001b[0m, \u001b[38;5;34m11\u001b[0m)             │             \u001b[38;5;34m0\u001b[0m │\n",
       "└─────────────────────────────────┴────────────────────────┴───────────────┘\n"
      ]
     },
     "metadata": {},
     "output_type": "display_data"
    },
    {
     "data": {
      "text/html": [
       "<pre style=\"white-space:pre;overflow-x:auto;line-height:normal;font-family:Menlo,'DejaVu Sans Mono',consolas,'Courier New',monospace\"><span style=\"font-weight: bold\"> Total params: </span><span style=\"color: #00af00; text-decoration-color: #00af00\">6,795</span> (26.54 KB)\n",
       "</pre>\n"
      ],
      "text/plain": [
       "\u001b[1m Total params: \u001b[0m\u001b[38;5;34m6,795\u001b[0m (26.54 KB)\n"
      ]
     },
     "metadata": {},
     "output_type": "display_data"
    },
    {
     "data": {
      "text/html": [
       "<pre style=\"white-space:pre;overflow-x:auto;line-height:normal;font-family:Menlo,'DejaVu Sans Mono',consolas,'Courier New',monospace\"><span style=\"font-weight: bold\"> Trainable params: </span><span style=\"color: #00af00; text-decoration-color: #00af00\">6,795</span> (26.54 KB)\n",
       "</pre>\n"
      ],
      "text/plain": [
       "\u001b[1m Trainable params: \u001b[0m\u001b[38;5;34m6,795\u001b[0m (26.54 KB)\n"
      ]
     },
     "metadata": {},
     "output_type": "display_data"
    },
    {
     "data": {
      "text/html": [
       "<pre style=\"white-space:pre;overflow-x:auto;line-height:normal;font-family:Menlo,'DejaVu Sans Mono',consolas,'Courier New',monospace\"><span style=\"font-weight: bold\"> Non-trainable params: </span><span style=\"color: #00af00; text-decoration-color: #00af00\">0</span> (0.00 B)\n",
       "</pre>\n"
      ],
      "text/plain": [
       "\u001b[1m Non-trainable params: \u001b[0m\u001b[38;5;34m0\u001b[0m (0.00 B)\n"
      ]
     },
     "metadata": {},
     "output_type": "display_data"
    },
    {
     "name": "stdout",
     "output_type": "stream",
     "text": [
      "None\n"
     ]
    }
   ],
   "source": [
    "### Construct Keras model\n",
    "\n",
    "# A sequential model is a linear stack of layers\n",
    "model = Sequential()\n",
    "\n",
    "# First layer: fully-connected with relu activation\n",
    "model.add(Dense(64, input_shape=input_shape))\n",
    "model.add(Activation('relu'))\n",
    "model.add(Dropout(0.25))\n",
    "\n",
    "# Second layer: fully-connected with relu activation\n",
    "model.add(Dense(64))   # Input shape is determined automatically from previous layer\n",
    "model.add(Activation('relu'))\n",
    "model.add(Dropout(0.25))\n",
    "\n",
    "# Third layer: 10 nodes, one for each class, and softmax activation\n",
    "model.add(Dense(num_classes))\n",
    "model.add(Activation('softmax'))\n",
    "\n",
    "# Configure the model's training settings\n",
    "model.compile(loss='categorical_crossentropy', optimizer='adam', metrics=['acc'])\n",
    "\n",
    "# Print out model summary\n",
    "print(model.summary())\n",
    "    "
   ]
  },
  {
   "cell_type": "markdown",
   "id": "4c26e080-97a6-4cba-9f4d-0819e4d63d2b",
   "metadata": {},
   "source": [
    "Model training"
   ]
  },
  {
   "cell_type": "code",
   "execution_count": 13,
   "id": "99d97ff7-8e43-4e5a-b07c-c86c87af4ddc",
   "metadata": {
    "scrolled": true
   },
   "outputs": [
    {
     "name": "stdout",
     "output_type": "stream",
     "text": [
      "Epoch 1/200\n"
     ]
    },
    {
     "name": "stderr",
     "output_type": "stream",
     "text": [
      "WARNING: All log messages before absl::InitializeLog() is called are written to STDERR\n",
      "I0000 00:00:1752773462.863519   25845 service.cc:152] XLA service 0x7fa70000b050 initialized for platform CUDA (this does not guarantee that XLA will be used). Devices:\n",
      "I0000 00:00:1752773462.863533   25845 service.cc:160]   StreamExecutor device (0): NVIDIA GeForce RTX 4060 Ti, Compute Capability 8.9\n",
      "2025-07-17 11:31:02.875960: I tensorflow/compiler/mlir/tensorflow/utils/dump_mlir_util.cc:269] disabling MLIR crash reproducer, set env var `MLIR_CRASH_REPRODUCER_DIRECTORY` to enable.\n",
      "I0000 00:00:1752773462.946700   25845 cuda_dnn.cc:529] Loaded cuDNN version 90300\n"
     ]
    },
    {
     "name": "stdout",
     "output_type": "stream",
     "text": [
      "\u001b[1m 283/5859\u001b[0m \u001b[37m━━━━━━━━━━━━━━━━━━━━\u001b[0m \u001b[1m2s\u001b[0m 534us/step - acc: 0.2534 - loss: 2.1964"
     ]
    },
    {
     "name": "stderr",
     "output_type": "stream",
     "text": [
      "I0000 00:00:1752773463.596221   25845 device_compiler.h:188] Compiled cluster using XLA!  This line is logged at most once for the lifetime of the process.\n"
     ]
    },
    {
     "name": "stdout",
     "output_type": "stream",
     "text": [
      "\u001b[1m5859/5859\u001b[0m \u001b[32m━━━━━━━━━━━━━━━━━━━━\u001b[0m\u001b[37m\u001b[0m \u001b[1m6s\u001b[0m 867us/step - acc: 0.5222 - loss: 1.4294 - val_acc: 0.7283 - val_loss: 0.8079\n",
      "Epoch 2/200\n",
      "\u001b[1m5859/5859\u001b[0m \u001b[32m━━━━━━━━━━━━━━━━━━━━\u001b[0m\u001b[37m\u001b[0m \u001b[1m4s\u001b[0m 605us/step - acc: 0.6731 - loss: 0.9468 - val_acc: 0.7659 - val_loss: 0.6876\n",
      "Epoch 3/200\n",
      "\u001b[1m5859/5859\u001b[0m \u001b[32m━━━━━━━━━━━━━━━━━━━━\u001b[0m\u001b[37m\u001b[0m \u001b[1m4s\u001b[0m 602us/step - acc: 0.7046 - loss: 0.8509 - val_acc: 0.7845 - val_loss: 0.6263\n",
      "Epoch 4/200\n",
      "\u001b[1m5859/5859\u001b[0m \u001b[32m━━━━━━━━━━━━━━━━━━━━\u001b[0m\u001b[37m\u001b[0m \u001b[1m4s\u001b[0m 595us/step - acc: 0.7169 - loss: 0.8103 - val_acc: 0.7969 - val_loss: 0.5970\n",
      "Epoch 5/200\n",
      "\u001b[1m5859/5859\u001b[0m \u001b[32m━━━━━━━━━━━━━━━━━━━━\u001b[0m\u001b[37m\u001b[0m \u001b[1m3s\u001b[0m 591us/step - acc: 0.7255 - loss: 0.7822 - val_acc: 0.8031 - val_loss: 0.5726\n",
      "Epoch 6/200\n",
      "\u001b[1m5859/5859\u001b[0m \u001b[32m━━━━━━━━━━━━━━━━━━━━\u001b[0m\u001b[37m\u001b[0m \u001b[1m3s\u001b[0m 588us/step - acc: 0.7325 - loss: 0.7600 - val_acc: 0.8081 - val_loss: 0.5569\n",
      "Epoch 7/200\n",
      "\u001b[1m5859/5859\u001b[0m \u001b[32m━━━━━━━━━━━━━━━━━━━━\u001b[0m\u001b[37m\u001b[0m \u001b[1m4s\u001b[0m 609us/step - acc: 0.7371 - loss: 0.7451 - val_acc: 0.8163 - val_loss: 0.5331\n",
      "Epoch 8/200\n",
      "\u001b[1m5859/5859\u001b[0m \u001b[32m━━━━━━━━━━━━━━━━━━━━\u001b[0m\u001b[37m\u001b[0m \u001b[1m4s\u001b[0m 595us/step - acc: 0.7418 - loss: 0.7285 - val_acc: 0.8181 - val_loss: 0.5298\n",
      "Epoch 9/200\n",
      "\u001b[1m5859/5859\u001b[0m \u001b[32m━━━━━━━━━━━━━━━━━━━━\u001b[0m\u001b[37m\u001b[0m \u001b[1m4s\u001b[0m 612us/step - acc: 0.7452 - loss: 0.7245 - val_acc: 0.8241 - val_loss: 0.5148\n",
      "Epoch 10/200\n",
      "\u001b[1m5859/5859\u001b[0m \u001b[32m━━━━━━━━━━━━━━━━━━━━\u001b[0m\u001b[37m\u001b[0m \u001b[1m4s\u001b[0m 601us/step - acc: 0.7495 - loss: 0.7087 - val_acc: 0.8262 - val_loss: 0.5116\n",
      "Epoch 11/200\n",
      "\u001b[1m5859/5859\u001b[0m \u001b[32m━━━━━━━━━━━━━━━━━━━━\u001b[0m\u001b[37m\u001b[0m \u001b[1m4s\u001b[0m 628us/step - acc: 0.7533 - loss: 0.7019 - val_acc: 0.8276 - val_loss: 0.5005\n",
      "Epoch 12/200\n",
      "\u001b[1m5859/5859\u001b[0m \u001b[32m━━━━━━━━━━━━━━━━━━━━\u001b[0m\u001b[37m\u001b[0m \u001b[1m4s\u001b[0m 611us/step - acc: 0.7530 - loss: 0.7001 - val_acc: 0.8312 - val_loss: 0.4933\n",
      "Epoch 13/200\n",
      "\u001b[1m5859/5859\u001b[0m \u001b[32m━━━━━━━━━━━━━━━━━━━━\u001b[0m\u001b[37m\u001b[0m \u001b[1m4s\u001b[0m 605us/step - acc: 0.7557 - loss: 0.6948 - val_acc: 0.8338 - val_loss: 0.4889\n",
      "Epoch 14/200\n",
      "\u001b[1m5859/5859\u001b[0m \u001b[32m━━━━━━━━━━━━━━━━━━━━\u001b[0m\u001b[37m\u001b[0m \u001b[1m4s\u001b[0m 609us/step - acc: 0.7580 - loss: 0.6863 - val_acc: 0.8359 - val_loss: 0.4890\n",
      "Epoch 15/200\n",
      "\u001b[1m5859/5859\u001b[0m \u001b[32m━━━━━━━━━━━━━━━━━━━━\u001b[0m\u001b[37m\u001b[0m \u001b[1m4s\u001b[0m 601us/step - acc: 0.7584 - loss: 0.6876 - val_acc: 0.8331 - val_loss: 0.4819\n",
      "Epoch 16/200\n",
      "\u001b[1m5859/5859\u001b[0m \u001b[32m━━━━━━━━━━━━━━━━━━━━\u001b[0m\u001b[37m\u001b[0m \u001b[1m4s\u001b[0m 634us/step - acc: 0.7600 - loss: 0.6804 - val_acc: 0.8400 - val_loss: 0.4731\n",
      "Epoch 17/200\n",
      "\u001b[1m5859/5859\u001b[0m \u001b[32m━━━━━━━━━━━━━━━━━━━━\u001b[0m\u001b[37m\u001b[0m \u001b[1m4s\u001b[0m 597us/step - acc: 0.7613 - loss: 0.6755 - val_acc: 0.8394 - val_loss: 0.4716\n",
      "Epoch 18/200\n",
      "\u001b[1m5859/5859\u001b[0m \u001b[32m━━━━━━━━━━━━━━━━━━━━\u001b[0m\u001b[37m\u001b[0m \u001b[1m4s\u001b[0m 602us/step - acc: 0.7627 - loss: 0.6746 - val_acc: 0.8394 - val_loss: 0.4705\n",
      "Epoch 19/200\n",
      "\u001b[1m5859/5859\u001b[0m \u001b[32m━━━━━━━━━━━━━━━━━━━━\u001b[0m\u001b[37m\u001b[0m \u001b[1m3s\u001b[0m 591us/step - acc: 0.7625 - loss: 0.6731 - val_acc: 0.8404 - val_loss: 0.4674\n",
      "Epoch 20/200\n",
      "\u001b[1m5859/5859\u001b[0m \u001b[32m━━━━━━━━━━━━━━━━━━━━\u001b[0m\u001b[37m\u001b[0m \u001b[1m4s\u001b[0m 624us/step - acc: 0.7668 - loss: 0.6619 - val_acc: 0.8403 - val_loss: 0.4638\n",
      "Epoch 21/200\n",
      "\u001b[1m5859/5859\u001b[0m \u001b[32m━━━━━━━━━━━━━━━━━━━━\u001b[0m\u001b[37m\u001b[0m \u001b[1m4s\u001b[0m 609us/step - acc: 0.7680 - loss: 0.6558 - val_acc: 0.8411 - val_loss: 0.4676\n",
      "Epoch 22/200\n",
      "\u001b[1m5859/5859\u001b[0m \u001b[32m━━━━━━━━━━━━━━━━━━━━\u001b[0m\u001b[37m\u001b[0m \u001b[1m3s\u001b[0m 595us/step - acc: 0.7663 - loss: 0.6593 - val_acc: 0.8425 - val_loss: 0.4609\n",
      "Epoch 23/200\n",
      "\u001b[1m5859/5859\u001b[0m \u001b[32m━━━━━━━━━━━━━━━━━━━━\u001b[0m\u001b[37m\u001b[0m \u001b[1m3s\u001b[0m 594us/step - acc: 0.7670 - loss: 0.6555 - val_acc: 0.8449 - val_loss: 0.4606\n",
      "Epoch 24/200\n",
      "\u001b[1m5859/5859\u001b[0m \u001b[32m━━━━━━━━━━━━━━━━━━━━\u001b[0m\u001b[37m\u001b[0m \u001b[1m3s\u001b[0m 592us/step - acc: 0.7681 - loss: 0.6517 - val_acc: 0.8447 - val_loss: 0.4615\n",
      "Epoch 25/200\n",
      "\u001b[1m5859/5859\u001b[0m \u001b[32m━━━━━━━━━━━━━━━━━━━━\u001b[0m\u001b[37m\u001b[0m \u001b[1m4s\u001b[0m 603us/step - acc: 0.7687 - loss: 0.6568 - val_acc: 0.8446 - val_loss: 0.4561\n",
      "Epoch 26/200\n",
      "\u001b[1m5859/5859\u001b[0m \u001b[32m━━━━━━━━━━━━━━━━━━━━\u001b[0m\u001b[37m\u001b[0m \u001b[1m4s\u001b[0m 609us/step - acc: 0.7697 - loss: 0.6539 - val_acc: 0.8487 - val_loss: 0.4501\n",
      "Epoch 27/200\n",
      "\u001b[1m5859/5859\u001b[0m \u001b[32m━━━━━━━━━━━━━━━━━━━━\u001b[0m\u001b[37m\u001b[0m \u001b[1m4s\u001b[0m 607us/step - acc: 0.7688 - loss: 0.6526 - val_acc: 0.8439 - val_loss: 0.4530\n",
      "Epoch 28/200\n",
      "\u001b[1m5859/5859\u001b[0m \u001b[32m━━━━━━━━━━━━━━━━━━━━\u001b[0m\u001b[37m\u001b[0m \u001b[1m4s\u001b[0m 597us/step - acc: 0.7696 - loss: 0.6512 - val_acc: 0.8446 - val_loss: 0.4513\n",
      "Epoch 29/200\n",
      "\u001b[1m5859/5859\u001b[0m \u001b[32m━━━━━━━━━━━━━━━━━━━━\u001b[0m\u001b[37m\u001b[0m \u001b[1m4s\u001b[0m 604us/step - acc: 0.7698 - loss: 0.6485 - val_acc: 0.8510 - val_loss: 0.4444\n",
      "Epoch 30/200\n",
      "\u001b[1m5859/5859\u001b[0m \u001b[32m━━━━━━━━━━━━━━━━━━━━\u001b[0m\u001b[37m\u001b[0m \u001b[1m4s\u001b[0m 596us/step - acc: 0.7706 - loss: 0.6496 - val_acc: 0.8469 - val_loss: 0.4478\n",
      "Epoch 31/200\n",
      "\u001b[1m5859/5859\u001b[0m \u001b[32m━━━━━━━━━━━━━━━━━━━━\u001b[0m\u001b[37m\u001b[0m \u001b[1m4s\u001b[0m 603us/step - acc: 0.7715 - loss: 0.6459 - val_acc: 0.8483 - val_loss: 0.4455\n",
      "Epoch 32/200\n",
      "\u001b[1m5859/5859\u001b[0m \u001b[32m━━━━━━━━━━━━━━━━━━━━\u001b[0m\u001b[37m\u001b[0m \u001b[1m4s\u001b[0m 605us/step - acc: 0.7704 - loss: 0.6478 - val_acc: 0.8505 - val_loss: 0.4435\n",
      "Epoch 33/200\n",
      "\u001b[1m5859/5859\u001b[0m \u001b[32m━━━━━━━━━━━━━━━━━━━━\u001b[0m\u001b[37m\u001b[0m \u001b[1m4s\u001b[0m 614us/step - acc: 0.7716 - loss: 0.6438 - val_acc: 0.8500 - val_loss: 0.4417\n",
      "Epoch 34/200\n",
      "\u001b[1m5859/5859\u001b[0m \u001b[32m━━━━━━━━━━━━━━━━━━━━\u001b[0m\u001b[37m\u001b[0m \u001b[1m4s\u001b[0m 600us/step - acc: 0.7711 - loss: 0.6473 - val_acc: 0.8497 - val_loss: 0.4414\n",
      "Epoch 35/200\n",
      "\u001b[1m5859/5859\u001b[0m \u001b[32m━━━━━━━━━━━━━━━━━━━━\u001b[0m\u001b[37m\u001b[0m \u001b[1m4s\u001b[0m 602us/step - acc: 0.7761 - loss: 0.6337 - val_acc: 0.8549 - val_loss: 0.4389\n",
      "Epoch 36/200\n",
      "\u001b[1m5859/5859\u001b[0m \u001b[32m━━━━━━━━━━━━━━━━━━━━\u001b[0m\u001b[37m\u001b[0m \u001b[1m4s\u001b[0m 607us/step - acc: 0.7712 - loss: 0.6471 - val_acc: 0.8495 - val_loss: 0.4411\n",
      "Epoch 37/200\n",
      "\u001b[1m5859/5859\u001b[0m \u001b[32m━━━━━━━━━━━━━━━━━━━━\u001b[0m\u001b[37m\u001b[0m \u001b[1m4s\u001b[0m 595us/step - acc: 0.7723 - loss: 0.6419 - val_acc: 0.8511 - val_loss: 0.4359\n",
      "Epoch 38/200\n",
      "\u001b[1m5859/5859\u001b[0m \u001b[32m━━━━━━━━━━━━━━━━━━━━\u001b[0m\u001b[37m\u001b[0m \u001b[1m4s\u001b[0m 611us/step - acc: 0.7724 - loss: 0.6425 - val_acc: 0.8490 - val_loss: 0.4383\n",
      "Epoch 39/200\n",
      "\u001b[1m5859/5859\u001b[0m \u001b[32m━━━━━━━━━━━━━━━━━━━━\u001b[0m\u001b[37m\u001b[0m \u001b[1m4s\u001b[0m 616us/step - acc: 0.7736 - loss: 0.6396 - val_acc: 0.8529 - val_loss: 0.4318\n",
      "Epoch 40/200\n",
      "\u001b[1m5859/5859\u001b[0m \u001b[32m━━━━━━━━━━━━━━━━━━━━\u001b[0m\u001b[37m\u001b[0m \u001b[1m4s\u001b[0m 601us/step - acc: 0.7731 - loss: 0.6393 - val_acc: 0.8543 - val_loss: 0.4342\n",
      "Epoch 41/200\n",
      "\u001b[1m5859/5859\u001b[0m \u001b[32m━━━━━━━━━━━━━━━━━━━━\u001b[0m\u001b[37m\u001b[0m \u001b[1m4s\u001b[0m 595us/step - acc: 0.7739 - loss: 0.6361 - val_acc: 0.8518 - val_loss: 0.4360\n",
      "Epoch 42/200\n",
      "\u001b[1m5859/5859\u001b[0m \u001b[32m━━━━━━━━━━━━━━━━━━━━\u001b[0m\u001b[37m\u001b[0m \u001b[1m3s\u001b[0m 592us/step - acc: 0.7726 - loss: 0.6422 - val_acc: 0.8517 - val_loss: 0.4349\n",
      "Epoch 43/200\n",
      "\u001b[1m5859/5859\u001b[0m \u001b[32m━━━━━━━━━━━━━━━━━━━━\u001b[0m\u001b[37m\u001b[0m \u001b[1m3s\u001b[0m 592us/step - acc: 0.7770 - loss: 0.6323 - val_acc: 0.8530 - val_loss: 0.4367\n",
      "Epoch 44/200\n",
      "\u001b[1m5859/5859\u001b[0m \u001b[32m━━━━━━━━━━━━━━━━━━━━\u001b[0m\u001b[37m\u001b[0m \u001b[1m4s\u001b[0m 606us/step - acc: 0.7745 - loss: 0.6366 - val_acc: 0.8533 - val_loss: 0.4328\n",
      "Epoch 45/200\n",
      "\u001b[1m5859/5859\u001b[0m \u001b[32m━━━━━━━━━━━━━━━━━━━━\u001b[0m\u001b[37m\u001b[0m \u001b[1m4s\u001b[0m 603us/step - acc: 0.7737 - loss: 0.6375 - val_acc: 0.8563 - val_loss: 0.4301\n",
      "Epoch 46/200\n",
      "\u001b[1m5859/5859\u001b[0m \u001b[32m━━━━━━━━━━━━━━━━━━━━\u001b[0m\u001b[37m\u001b[0m \u001b[1m3s\u001b[0m 585us/step - acc: 0.7758 - loss: 0.6337 - val_acc: 0.8561 - val_loss: 0.4319\n",
      "Epoch 47/200\n",
      "\u001b[1m5859/5859\u001b[0m \u001b[32m━━━━━━━━━━━━━━━━━━━━\u001b[0m\u001b[37m\u001b[0m \u001b[1m4s\u001b[0m 600us/step - acc: 0.7763 - loss: 0.6319 - val_acc: 0.8542 - val_loss: 0.4303\n",
      "Epoch 48/200\n",
      "\u001b[1m5859/5859\u001b[0m \u001b[32m━━━━━━━━━━━━━━━━━━━━\u001b[0m\u001b[37m\u001b[0m \u001b[1m4s\u001b[0m 601us/step - acc: 0.7757 - loss: 0.6382 - val_acc: 0.8547 - val_loss: 0.4318\n",
      "Epoch 49/200\n",
      "\u001b[1m5859/5859\u001b[0m \u001b[32m━━━━━━━━━━━━━━━━━━━━\u001b[0m\u001b[37m\u001b[0m \u001b[1m4s\u001b[0m 602us/step - acc: 0.7776 - loss: 0.6327 - val_acc: 0.8552 - val_loss: 0.4285\n",
      "Epoch 50/200\n",
      "\u001b[1m5859/5859\u001b[0m \u001b[32m━━━━━━━━━━━━━━━━━━━━\u001b[0m\u001b[37m\u001b[0m \u001b[1m3s\u001b[0m 595us/step - acc: 0.7746 - loss: 0.6358 - val_acc: 0.8548 - val_loss: 0.4275\n",
      "Epoch 51/200\n",
      "\u001b[1m5859/5859\u001b[0m \u001b[32m━━━━━━━━━━━━━━━━━━━━\u001b[0m\u001b[37m\u001b[0m \u001b[1m4s\u001b[0m 601us/step - acc: 0.7763 - loss: 0.6322 - val_acc: 0.8555 - val_loss: 0.4264\n",
      "Epoch 52/200\n",
      "\u001b[1m5859/5859\u001b[0m \u001b[32m━━━━━━━━━━━━━━━━━━━━\u001b[0m\u001b[37m\u001b[0m \u001b[1m4s\u001b[0m 605us/step - acc: 0.7767 - loss: 0.6302 - val_acc: 0.8556 - val_loss: 0.4226\n",
      "Epoch 53/200\n",
      "\u001b[1m5859/5859\u001b[0m \u001b[32m━━━━━━━━━━━━━━━━━━━━\u001b[0m\u001b[37m\u001b[0m \u001b[1m4s\u001b[0m 613us/step - acc: 0.7765 - loss: 0.6290 - val_acc: 0.8558 - val_loss: 0.4286\n",
      "Epoch 54/200\n",
      "\u001b[1m5859/5859\u001b[0m \u001b[32m━━━━━━━━━━━━━━━━━━━━\u001b[0m\u001b[37m\u001b[0m \u001b[1m3s\u001b[0m 594us/step - acc: 0.7768 - loss: 0.6331 - val_acc: 0.8586 - val_loss: 0.4282\n",
      "Epoch 55/200\n",
      "\u001b[1m5859/5859\u001b[0m \u001b[32m━━━━━━━━━━━━━━━━━━━━\u001b[0m\u001b[37m\u001b[0m \u001b[1m4s\u001b[0m 605us/step - acc: 0.7777 - loss: 0.6282 - val_acc: 0.8582 - val_loss: 0.4234\n",
      "Epoch 56/200\n",
      "\u001b[1m5859/5859\u001b[0m \u001b[32m━━━━━━━━━━━━━━━━━━━━\u001b[0m\u001b[37m\u001b[0m \u001b[1m4s\u001b[0m 604us/step - acc: 0.7765 - loss: 0.6294 - val_acc: 0.8580 - val_loss: 0.4276\n",
      "Epoch 57/200\n",
      "\u001b[1m5859/5859\u001b[0m \u001b[32m━━━━━━━━━━━━━━━━━━━━\u001b[0m\u001b[37m\u001b[0m \u001b[1m4s\u001b[0m 596us/step - acc: 0.7780 - loss: 0.6294 - val_acc: 0.8581 - val_loss: 0.4242\n",
      "Epoch 58/200\n",
      "\u001b[1m5859/5859\u001b[0m \u001b[32m━━━━━━━━━━━━━━━━━━━━\u001b[0m\u001b[37m\u001b[0m \u001b[1m3s\u001b[0m 592us/step - acc: 0.7785 - loss: 0.6240 - val_acc: 0.8575 - val_loss: 0.4253\n",
      "Epoch 59/200\n",
      "\u001b[1m5859/5859\u001b[0m \u001b[32m━━━━━━━━━━━━━━━━━━━━\u001b[0m\u001b[37m\u001b[0m \u001b[1m4s\u001b[0m 607us/step - acc: 0.7780 - loss: 0.6252 - val_acc: 0.8559 - val_loss: 0.4228\n",
      "Epoch 60/200\n",
      "\u001b[1m5859/5859\u001b[0m \u001b[32m━━━━━━━━━━━━━━━━━━━━\u001b[0m\u001b[37m\u001b[0m \u001b[1m3s\u001b[0m 590us/step - acc: 0.7777 - loss: 0.6284 - val_acc: 0.8603 - val_loss: 0.4208\n",
      "Epoch 61/200\n",
      "\u001b[1m5859/5859\u001b[0m \u001b[32m━━━━━━━━━━━━━━━━━━━━\u001b[0m\u001b[37m\u001b[0m \u001b[1m3s\u001b[0m 593us/step - acc: 0.7778 - loss: 0.6297 - val_acc: 0.8578 - val_loss: 0.4237\n",
      "Epoch 62/200\n",
      "\u001b[1m5859/5859\u001b[0m \u001b[32m━━━━━━━━━━━━━━━━━━━━\u001b[0m\u001b[37m\u001b[0m \u001b[1m4s\u001b[0m 615us/step - acc: 0.7777 - loss: 0.6291 - val_acc: 0.8586 - val_loss: 0.4252\n",
      "Epoch 63/200\n",
      "\u001b[1m5859/5859\u001b[0m \u001b[32m━━━━━━━━━━━━━━━━━━━━\u001b[0m\u001b[37m\u001b[0m \u001b[1m4s\u001b[0m 611us/step - acc: 0.7796 - loss: 0.6285 - val_acc: 0.8572 - val_loss: 0.4226\n",
      "Epoch 64/200\n",
      "\u001b[1m5859/5859\u001b[0m \u001b[32m━━━━━━━━━━━━━━━━━━━━\u001b[0m\u001b[37m\u001b[0m \u001b[1m4s\u001b[0m 598us/step - acc: 0.7795 - loss: 0.6259 - val_acc: 0.8553 - val_loss: 0.4283\n",
      "Epoch 65/200\n",
      "\u001b[1m5859/5859\u001b[0m \u001b[32m━━━━━━━━━━━━━━━━━━━━\u001b[0m\u001b[37m\u001b[0m \u001b[1m4s\u001b[0m 605us/step - acc: 0.7781 - loss: 0.6293 - val_acc: 0.8597 - val_loss: 0.4200\n",
      "Epoch 66/200\n",
      "\u001b[1m5859/5859\u001b[0m \u001b[32m━━━━━━━━━━━━━━━━━━━━\u001b[0m\u001b[37m\u001b[0m \u001b[1m4s\u001b[0m 595us/step - acc: 0.7799 - loss: 0.6199 - val_acc: 0.8586 - val_loss: 0.4243\n",
      "Epoch 67/200\n",
      "\u001b[1m5859/5859\u001b[0m \u001b[32m━━━━━━━━━━━━━━━━━━━━\u001b[0m\u001b[37m\u001b[0m \u001b[1m4s\u001b[0m 600us/step - acc: 0.7802 - loss: 0.6265 - val_acc: 0.8602 - val_loss: 0.4208\n",
      "Epoch 68/200\n",
      "\u001b[1m5859/5859\u001b[0m \u001b[32m━━━━━━━━━━━━━━━━━━━━\u001b[0m\u001b[37m\u001b[0m \u001b[1m4s\u001b[0m 606us/step - acc: 0.7792 - loss: 0.6217 - val_acc: 0.8624 - val_loss: 0.4214\n",
      "Epoch 69/200\n",
      "\u001b[1m5859/5859\u001b[0m \u001b[32m━━━━━━━━━━━━━━━━━━━━\u001b[0m\u001b[37m\u001b[0m \u001b[1m4s\u001b[0m 617us/step - acc: 0.7811 - loss: 0.6185 - val_acc: 0.8608 - val_loss: 0.4228\n",
      "Epoch 70/200\n",
      "\u001b[1m5859/5859\u001b[0m \u001b[32m━━━━━━━━━━━━━━━━━━━━\u001b[0m\u001b[37m\u001b[0m \u001b[1m4s\u001b[0m 601us/step - acc: 0.7806 - loss: 0.6208 - val_acc: 0.8588 - val_loss: 0.4209\n",
      "Epoch 71/200\n",
      "\u001b[1m5859/5859\u001b[0m \u001b[32m━━━━━━━━━━━━━━━━━━━━\u001b[0m\u001b[37m\u001b[0m \u001b[1m4s\u001b[0m 599us/step - acc: 0.7786 - loss: 0.6291 - val_acc: 0.8606 - val_loss: 0.4204\n",
      "Epoch 72/200\n",
      "\u001b[1m5859/5859\u001b[0m \u001b[32m━━━━━━━━━━━━━━━━━━━━\u001b[0m\u001b[37m\u001b[0m \u001b[1m4s\u001b[0m 605us/step - acc: 0.7799 - loss: 0.6244 - val_acc: 0.8609 - val_loss: 0.4201\n",
      "Epoch 73/200\n",
      "\u001b[1m5859/5859\u001b[0m \u001b[32m━━━━━━━━━━━━━━━━━━━━\u001b[0m\u001b[37m\u001b[0m \u001b[1m4s\u001b[0m 631us/step - acc: 0.7813 - loss: 0.6193 - val_acc: 0.8604 - val_loss: 0.4180\n",
      "Epoch 74/200\n",
      "\u001b[1m5859/5859\u001b[0m \u001b[32m━━━━━━━━━━━━━━━━━━━━\u001b[0m\u001b[37m\u001b[0m \u001b[1m4s\u001b[0m 632us/step - acc: 0.7819 - loss: 0.6176 - val_acc: 0.8612 - val_loss: 0.4175\n",
      "Epoch 75/200\n",
      "\u001b[1m5859/5859\u001b[0m \u001b[32m━━━━━━━━━━━━━━━━━━━━\u001b[0m\u001b[37m\u001b[0m \u001b[1m4s\u001b[0m 621us/step - acc: 0.7797 - loss: 0.6211 - val_acc: 0.8606 - val_loss: 0.4139\n",
      "Epoch 76/200\n",
      "\u001b[1m5859/5859\u001b[0m \u001b[32m━━━━━━━━━━━━━━━━━━━━\u001b[0m\u001b[37m\u001b[0m \u001b[1m4s\u001b[0m 603us/step - acc: 0.7795 - loss: 0.6220 - val_acc: 0.8589 - val_loss: 0.4198\n",
      "Epoch 77/200\n",
      "\u001b[1m5859/5859\u001b[0m \u001b[32m━━━━━━━━━━━━━━━━━━━━\u001b[0m\u001b[37m\u001b[0m \u001b[1m4s\u001b[0m 616us/step - acc: 0.7824 - loss: 0.6165 - val_acc: 0.8611 - val_loss: 0.4174\n",
      "Epoch 78/200\n",
      "\u001b[1m5859/5859\u001b[0m \u001b[32m━━━━━━━━━━━━━━━━━━━━\u001b[0m\u001b[37m\u001b[0m \u001b[1m4s\u001b[0m 621us/step - acc: 0.7803 - loss: 0.6219 - val_acc: 0.8643 - val_loss: 0.4125\n",
      "Epoch 79/200\n",
      "\u001b[1m5859/5859\u001b[0m \u001b[32m━━━━━━━━━━━━━━━━━━━━\u001b[0m\u001b[37m\u001b[0m \u001b[1m4s\u001b[0m 618us/step - acc: 0.7797 - loss: 0.6223 - val_acc: 0.8611 - val_loss: 0.4193\n",
      "Epoch 80/200\n",
      "\u001b[1m5859/5859\u001b[0m \u001b[32m━━━━━━━━━━━━━━━━━━━━\u001b[0m\u001b[37m\u001b[0m \u001b[1m4s\u001b[0m 608us/step - acc: 0.7796 - loss: 0.6221 - val_acc: 0.8624 - val_loss: 0.4119\n",
      "Epoch 81/200\n",
      "\u001b[1m5859/5859\u001b[0m \u001b[32m━━━━━━━━━━━━━━━━━━━━\u001b[0m\u001b[37m\u001b[0m \u001b[1m4s\u001b[0m 617us/step - acc: 0.7835 - loss: 0.6164 - val_acc: 0.8630 - val_loss: 0.4148\n",
      "Epoch 82/200\n",
      "\u001b[1m5859/5859\u001b[0m \u001b[32m━━━━━━━━━━━━━━━━━━━━\u001b[0m\u001b[37m\u001b[0m \u001b[1m4s\u001b[0m 632us/step - acc: 0.7831 - loss: 0.6149 - val_acc: 0.8607 - val_loss: 0.4182\n",
      "Epoch 83/200\n",
      "\u001b[1m5859/5859\u001b[0m \u001b[32m━━━━━━━━━━━━━━━━━━━━\u001b[0m\u001b[37m\u001b[0m \u001b[1m4s\u001b[0m 625us/step - acc: 0.7816 - loss: 0.6198 - val_acc: 0.8650 - val_loss: 0.4116\n",
      "Epoch 84/200\n",
      "\u001b[1m5859/5859\u001b[0m \u001b[32m━━━━━━━━━━━━━━━━━━━━\u001b[0m\u001b[37m\u001b[0m \u001b[1m4s\u001b[0m 620us/step - acc: 0.7815 - loss: 0.6194 - val_acc: 0.8621 - val_loss: 0.4169\n",
      "Epoch 85/200\n",
      "\u001b[1m5859/5859\u001b[0m \u001b[32m━━━━━━━━━━━━━━━━━━━━\u001b[0m\u001b[37m\u001b[0m \u001b[1m4s\u001b[0m 613us/step - acc: 0.7810 - loss: 0.6184 - val_acc: 0.8631 - val_loss: 0.4125\n",
      "Epoch 86/200\n",
      "\u001b[1m5859/5859\u001b[0m \u001b[32m━━━━━━━━━━━━━━━━━━━━\u001b[0m\u001b[37m\u001b[0m \u001b[1m4s\u001b[0m 629us/step - acc: 0.7836 - loss: 0.6183 - val_acc: 0.8636 - val_loss: 0.4113\n",
      "Epoch 87/200\n",
      "\u001b[1m5859/5859\u001b[0m \u001b[32m━━━━━━━━━━━━━━━━━━━━\u001b[0m\u001b[37m\u001b[0m \u001b[1m4s\u001b[0m 618us/step - acc: 0.7824 - loss: 0.6144 - val_acc: 0.8600 - val_loss: 0.4135\n",
      "Epoch 88/200\n",
      "\u001b[1m5859/5859\u001b[0m \u001b[32m━━━━━━━━━━━━━━━━━━━━\u001b[0m\u001b[37m\u001b[0m \u001b[1m3s\u001b[0m 586us/step - acc: 0.7815 - loss: 0.6157 - val_acc: 0.8622 - val_loss: 0.4120\n",
      "Epoch 89/200\n",
      "\u001b[1m5859/5859\u001b[0m \u001b[32m━━━━━━━━━━━━━━━━━━━━\u001b[0m\u001b[37m\u001b[0m \u001b[1m4s\u001b[0m 617us/step - acc: 0.7818 - loss: 0.6144 - val_acc: 0.8604 - val_loss: 0.4148\n",
      "Epoch 90/200\n",
      "\u001b[1m5859/5859\u001b[0m \u001b[32m━━━━━━━━━━━━━━━━━━━━\u001b[0m\u001b[37m\u001b[0m \u001b[1m4s\u001b[0m 620us/step - acc: 0.7827 - loss: 0.6179 - val_acc: 0.8620 - val_loss: 0.4160\n",
      "Epoch 91/200\n",
      "\u001b[1m5859/5859\u001b[0m \u001b[32m━━━━━━━━━━━━━━━━━━━━\u001b[0m\u001b[37m\u001b[0m \u001b[1m4s\u001b[0m 608us/step - acc: 0.7819 - loss: 0.6181 - val_acc: 0.8632 - val_loss: 0.4114\n",
      "Epoch 92/200\n",
      "\u001b[1m5859/5859\u001b[0m \u001b[32m━━━━━━━━━━━━━━━━━━━━\u001b[0m\u001b[37m\u001b[0m \u001b[1m4s\u001b[0m 617us/step - acc: 0.7812 - loss: 0.6133 - val_acc: 0.8619 - val_loss: 0.4130\n",
      "Epoch 93/200\n",
      "\u001b[1m5859/5859\u001b[0m \u001b[32m━━━━━━━━━━━━━━━━━━━━\u001b[0m\u001b[37m\u001b[0m \u001b[1m4s\u001b[0m 621us/step - acc: 0.7842 - loss: 0.6105 - val_acc: 0.8650 - val_loss: 0.4100\n",
      "Epoch 94/200\n",
      "\u001b[1m5859/5859\u001b[0m \u001b[32m━━━━━━━━━━━━━━━━━━━━\u001b[0m\u001b[37m\u001b[0m \u001b[1m4s\u001b[0m 612us/step - acc: 0.7841 - loss: 0.6126 - val_acc: 0.8641 - val_loss: 0.4128\n",
      "Epoch 95/200\n",
      "\u001b[1m5859/5859\u001b[0m \u001b[32m━━━━━━━━━━━━━━━━━━━━\u001b[0m\u001b[37m\u001b[0m \u001b[1m4s\u001b[0m 612us/step - acc: 0.7800 - loss: 0.6228 - val_acc: 0.8653 - val_loss: 0.4101\n",
      "Epoch 96/200\n",
      "\u001b[1m5859/5859\u001b[0m \u001b[32m━━━━━━━━━━━━━━━━━━━━\u001b[0m\u001b[37m\u001b[0m \u001b[1m4s\u001b[0m 610us/step - acc: 0.7822 - loss: 0.6133 - val_acc: 0.8641 - val_loss: 0.4124\n",
      "Epoch 97/200\n",
      "\u001b[1m5859/5859\u001b[0m \u001b[32m━━━━━━━━━━━━━━━━━━━━\u001b[0m\u001b[37m\u001b[0m \u001b[1m4s\u001b[0m 627us/step - acc: 0.7831 - loss: 0.6166 - val_acc: 0.8609 - val_loss: 0.4108\n",
      "Epoch 98/200\n",
      "\u001b[1m5859/5859\u001b[0m \u001b[32m━━━━━━━━━━━━━━━━━━━━\u001b[0m\u001b[37m\u001b[0m \u001b[1m4s\u001b[0m 622us/step - acc: 0.7821 - loss: 0.6159 - val_acc: 0.8633 - val_loss: 0.4138\n",
      "Epoch 99/200\n",
      "\u001b[1m5859/5859\u001b[0m \u001b[32m━━━━━━━━━━━━━━━━━━━━\u001b[0m\u001b[37m\u001b[0m \u001b[1m4s\u001b[0m 617us/step - acc: 0.7817 - loss: 0.6157 - val_acc: 0.8636 - val_loss: 0.4110\n",
      "Epoch 100/200\n",
      "\u001b[1m5859/5859\u001b[0m \u001b[32m━━━━━━━━━━━━━━━━━━━━\u001b[0m\u001b[37m\u001b[0m \u001b[1m4s\u001b[0m 629us/step - acc: 0.7830 - loss: 0.6148 - val_acc: 0.8616 - val_loss: 0.4132\n",
      "Epoch 101/200\n",
      "\u001b[1m5859/5859\u001b[0m \u001b[32m━━━━━━━━━━━━━━━━━━━━\u001b[0m\u001b[37m\u001b[0m \u001b[1m4s\u001b[0m 597us/step - acc: 0.7814 - loss: 0.6163 - val_acc: 0.8629 - val_loss: 0.4146\n",
      "Epoch 102/200\n",
      "\u001b[1m5859/5859\u001b[0m \u001b[32m━━━━━━━━━━━━━━━━━━━━\u001b[0m\u001b[37m\u001b[0m \u001b[1m4s\u001b[0m 615us/step - acc: 0.7817 - loss: 0.6167 - val_acc: 0.8657 - val_loss: 0.4095\n",
      "Epoch 103/200\n",
      "\u001b[1m5859/5859\u001b[0m \u001b[32m━━━━━━━━━━━━━━━━━━━━\u001b[0m\u001b[37m\u001b[0m \u001b[1m4s\u001b[0m 623us/step - acc: 0.7809 - loss: 0.6186 - val_acc: 0.8645 - val_loss: 0.4149\n",
      "Epoch 104/200\n",
      "\u001b[1m5859/5859\u001b[0m \u001b[32m━━━━━━━━━━━━━━━━━━━━\u001b[0m\u001b[37m\u001b[0m \u001b[1m4s\u001b[0m 612us/step - acc: 0.7831 - loss: 0.6150 - val_acc: 0.8663 - val_loss: 0.4103\n",
      "Epoch 105/200\n",
      "\u001b[1m5859/5859\u001b[0m \u001b[32m━━━━━━━━━━━━━━━━━━━━\u001b[0m\u001b[37m\u001b[0m \u001b[1m3s\u001b[0m 592us/step - acc: 0.7836 - loss: 0.6120 - val_acc: 0.8651 - val_loss: 0.4077\n",
      "Epoch 106/200\n",
      "\u001b[1m5859/5859\u001b[0m \u001b[32m━━━━━━━━━━━━━━━━━━━━\u001b[0m\u001b[37m\u001b[0m \u001b[1m4s\u001b[0m 628us/step - acc: 0.7849 - loss: 0.6132 - val_acc: 0.8652 - val_loss: 0.4063\n",
      "Epoch 107/200\n",
      "\u001b[1m5859/5859\u001b[0m \u001b[32m━━━━━━━━━━━━━━━━━━━━\u001b[0m\u001b[37m\u001b[0m \u001b[1m4s\u001b[0m 626us/step - acc: 0.7833 - loss: 0.6162 - val_acc: 0.8645 - val_loss: 0.4160\n",
      "Epoch 108/200\n",
      "\u001b[1m5859/5859\u001b[0m \u001b[32m━━━━━━━━━━━━━━━━━━━━\u001b[0m\u001b[37m\u001b[0m \u001b[1m4s\u001b[0m 640us/step - acc: 0.7822 - loss: 0.6168 - val_acc: 0.8641 - val_loss: 0.4123\n",
      "Epoch 109/200\n",
      "\u001b[1m5859/5859\u001b[0m \u001b[32m━━━━━━━━━━━━━━━━━━━━\u001b[0m\u001b[37m\u001b[0m \u001b[1m4s\u001b[0m 612us/step - acc: 0.7830 - loss: 0.6155 - val_acc: 0.8664 - val_loss: 0.4062\n",
      "Epoch 110/200\n",
      "\u001b[1m5859/5859\u001b[0m \u001b[32m━━━━━━━━━━━━━━━━━━━━\u001b[0m\u001b[37m\u001b[0m \u001b[1m4s\u001b[0m 604us/step - acc: 0.7830 - loss: 0.6154 - val_acc: 0.8669 - val_loss: 0.4055\n",
      "Epoch 111/200\n",
      "\u001b[1m5859/5859\u001b[0m \u001b[32m━━━━━━━━━━━━━━━━━━━━\u001b[0m\u001b[37m\u001b[0m \u001b[1m4s\u001b[0m 629us/step - acc: 0.7822 - loss: 0.6167 - val_acc: 0.8639 - val_loss: 0.4086\n",
      "Epoch 112/200\n",
      "\u001b[1m5859/5859\u001b[0m \u001b[32m━━━━━━━━━━━━━━━━━━━━\u001b[0m\u001b[37m\u001b[0m \u001b[1m4s\u001b[0m 622us/step - acc: 0.7838 - loss: 0.6128 - val_acc: 0.8624 - val_loss: 0.4104\n",
      "Epoch 113/200\n",
      "\u001b[1m5859/5859\u001b[0m \u001b[32m━━━━━━━━━━━━━━━━━━━━\u001b[0m\u001b[37m\u001b[0m \u001b[1m4s\u001b[0m 617us/step - acc: 0.7839 - loss: 0.6152 - val_acc: 0.8629 - val_loss: 0.4125\n",
      "Epoch 114/200\n",
      "\u001b[1m5859/5859\u001b[0m \u001b[32m━━━━━━━━━━━━━━━━━━━━\u001b[0m\u001b[37m\u001b[0m \u001b[1m4s\u001b[0m 619us/step - acc: 0.7850 - loss: 0.6075 - val_acc: 0.8667 - val_loss: 0.4064\n",
      "Epoch 115/200\n",
      "\u001b[1m5859/5859\u001b[0m \u001b[32m━━━━━━━━━━━━━━━━━━━━\u001b[0m\u001b[37m\u001b[0m \u001b[1m4s\u001b[0m 597us/step - acc: 0.7826 - loss: 0.6141 - val_acc: 0.8639 - val_loss: 0.4083\n",
      "Epoch 116/200\n",
      "\u001b[1m5859/5859\u001b[0m \u001b[32m━━━━━━━━━━━━━━━━━━━━\u001b[0m\u001b[37m\u001b[0m \u001b[1m4s\u001b[0m 605us/step - acc: 0.7843 - loss: 0.6122 - val_acc: 0.8659 - val_loss: 0.4046\n",
      "Epoch 117/200\n",
      "\u001b[1m5859/5859\u001b[0m \u001b[32m━━━━━━━━━━━━━━━━━━━━\u001b[0m\u001b[37m\u001b[0m \u001b[1m4s\u001b[0m 599us/step - acc: 0.7839 - loss: 0.6131 - val_acc: 0.8667 - val_loss: 0.4079\n",
      "Epoch 118/200\n",
      "\u001b[1m5859/5859\u001b[0m \u001b[32m━━━━━━━━━━━━━━━━━━━━\u001b[0m\u001b[37m\u001b[0m \u001b[1m4s\u001b[0m 607us/step - acc: 0.7859 - loss: 0.6098 - val_acc: 0.8673 - val_loss: 0.4068\n",
      "Epoch 119/200\n",
      "\u001b[1m5859/5859\u001b[0m \u001b[32m━━━━━━━━━━━━━━━━━━━━\u001b[0m\u001b[37m\u001b[0m \u001b[1m4s\u001b[0m 611us/step - acc: 0.7836 - loss: 0.6130 - val_acc: 0.8668 - val_loss: 0.4078\n",
      "Epoch 120/200\n",
      "\u001b[1m5859/5859\u001b[0m \u001b[32m━━━━━━━━━━━━━━━━━━━━\u001b[0m\u001b[37m\u001b[0m \u001b[1m4s\u001b[0m 599us/step - acc: 0.7851 - loss: 0.6129 - val_acc: 0.8651 - val_loss: 0.4079\n",
      "Epoch 121/200\n",
      "\u001b[1m5859/5859\u001b[0m \u001b[32m━━━━━━━━━━━━━━━━━━━━\u001b[0m\u001b[37m\u001b[0m \u001b[1m4s\u001b[0m 596us/step - acc: 0.7835 - loss: 0.6152 - val_acc: 0.8646 - val_loss: 0.4107\n",
      "Epoch 122/200\n",
      "\u001b[1m5859/5859\u001b[0m \u001b[32m━━━━━━━━━━━━━━━━━━━━\u001b[0m\u001b[37m\u001b[0m \u001b[1m4s\u001b[0m 603us/step - acc: 0.7830 - loss: 0.6103 - val_acc: 0.8661 - val_loss: 0.4047\n",
      "Epoch 123/200\n",
      "\u001b[1m5859/5859\u001b[0m \u001b[32m━━━━━━━━━━━━━━━━━━━━\u001b[0m\u001b[37m\u001b[0m \u001b[1m4s\u001b[0m 609us/step - acc: 0.7857 - loss: 0.6099 - val_acc: 0.8656 - val_loss: 0.4075\n",
      "Epoch 124/200\n",
      "\u001b[1m5859/5859\u001b[0m \u001b[32m━━━━━━━━━━━━━━━━━━━━\u001b[0m\u001b[37m\u001b[0m \u001b[1m4s\u001b[0m 611us/step - acc: 0.7828 - loss: 0.6154 - val_acc: 0.8658 - val_loss: 0.4046\n",
      "Epoch 125/200\n",
      "\u001b[1m5859/5859\u001b[0m \u001b[32m━━━━━━━━━━━━━━━━━━━━\u001b[0m\u001b[37m\u001b[0m \u001b[1m4s\u001b[0m 621us/step - acc: 0.7881 - loss: 0.6041 - val_acc: 0.8681 - val_loss: 0.4039\n",
      "Epoch 126/200\n",
      "\u001b[1m5859/5859\u001b[0m \u001b[32m━━━━━━━━━━━━━━━━━━━━\u001b[0m\u001b[37m\u001b[0m \u001b[1m4s\u001b[0m 609us/step - acc: 0.7844 - loss: 0.6098 - val_acc: 0.8657 - val_loss: 0.4026\n",
      "Epoch 127/200\n",
      "\u001b[1m5859/5859\u001b[0m \u001b[32m━━━━━━━━━━━━━━━━━━━━\u001b[0m\u001b[37m\u001b[0m \u001b[1m4s\u001b[0m 612us/step - acc: 0.7851 - loss: 0.6111 - val_acc: 0.8669 - val_loss: 0.4073\n",
      "Epoch 128/200\n",
      "\u001b[1m5859/5859\u001b[0m \u001b[32m━━━━━━━━━━━━━━━━━━━━\u001b[0m\u001b[37m\u001b[0m \u001b[1m4s\u001b[0m 603us/step - acc: 0.7855 - loss: 0.6097 - val_acc: 0.8673 - val_loss: 0.4045\n",
      "Epoch 129/200\n",
      "\u001b[1m5859/5859\u001b[0m \u001b[32m━━━━━━━━━━━━━━━━━━━━\u001b[0m\u001b[37m\u001b[0m \u001b[1m4s\u001b[0m 597us/step - acc: 0.7856 - loss: 0.6083 - val_acc: 0.8651 - val_loss: 0.4069\n",
      "Epoch 130/200\n",
      "\u001b[1m5859/5859\u001b[0m \u001b[32m━━━━━━━━━━━━━━━━━━━━\u001b[0m\u001b[37m\u001b[0m \u001b[1m4s\u001b[0m 606us/step - acc: 0.7853 - loss: 0.6098 - val_acc: 0.8626 - val_loss: 0.4092\n",
      "Epoch 131/200\n",
      "\u001b[1m5859/5859\u001b[0m \u001b[32m━━━━━━━━━━━━━━━━━━━━\u001b[0m\u001b[37m\u001b[0m \u001b[1m4s\u001b[0m 603us/step - acc: 0.7851 - loss: 0.6085 - val_acc: 0.8667 - val_loss: 0.4049\n",
      "Epoch 132/200\n",
      "\u001b[1m5859/5859\u001b[0m \u001b[32m━━━━━━━━━━━━━━━━━━━━\u001b[0m\u001b[37m\u001b[0m \u001b[1m4s\u001b[0m 607us/step - acc: 0.7837 - loss: 0.6133 - val_acc: 0.8665 - val_loss: 0.4066\n",
      "Epoch 133/200\n",
      "\u001b[1m5859/5859\u001b[0m \u001b[32m━━━━━━━━━━━━━━━━━━━━\u001b[0m\u001b[37m\u001b[0m \u001b[1m4s\u001b[0m 609us/step - acc: 0.7847 - loss: 0.6104 - val_acc: 0.8659 - val_loss: 0.4065\n",
      "Epoch 134/200\n",
      "\u001b[1m5859/5859\u001b[0m \u001b[32m━━━━━━━━━━━━━━━━━━━━\u001b[0m\u001b[37m\u001b[0m \u001b[1m4s\u001b[0m 609us/step - acc: 0.7836 - loss: 0.6107 - val_acc: 0.8639 - val_loss: 0.4009\n",
      "Epoch 135/200\n",
      "\u001b[1m5859/5859\u001b[0m \u001b[32m━━━━━━━━━━━━━━━━━━━━\u001b[0m\u001b[37m\u001b[0m \u001b[1m4s\u001b[0m 628us/step - acc: 0.7863 - loss: 0.6055 - val_acc: 0.8690 - val_loss: 0.3994\n",
      "Epoch 136/200\n",
      "\u001b[1m5859/5859\u001b[0m \u001b[32m━━━━━━━━━━━━━━━━━━━━\u001b[0m\u001b[37m\u001b[0m \u001b[1m4s\u001b[0m 621us/step - acc: 0.7848 - loss: 0.6095 - val_acc: 0.8683 - val_loss: 0.4054\n",
      "Epoch 137/200\n",
      "\u001b[1m5859/5859\u001b[0m \u001b[32m━━━━━━━━━━━━━━━━━━━━\u001b[0m\u001b[37m\u001b[0m \u001b[1m4s\u001b[0m 609us/step - acc: 0.7845 - loss: 0.6137 - val_acc: 0.8663 - val_loss: 0.4087\n",
      "Epoch 138/200\n",
      "\u001b[1m5859/5859\u001b[0m \u001b[32m━━━━━━━━━━━━━━━━━━━━\u001b[0m\u001b[37m\u001b[0m \u001b[1m4s\u001b[0m 607us/step - acc: 0.7836 - loss: 0.6114 - val_acc: 0.8653 - val_loss: 0.4072\n",
      "Epoch 139/200\n",
      "\u001b[1m5859/5859\u001b[0m \u001b[32m━━━━━━━━━━━━━━━━━━━━\u001b[0m\u001b[37m\u001b[0m \u001b[1m4s\u001b[0m 600us/step - acc: 0.7855 - loss: 0.6116 - val_acc: 0.8676 - val_loss: 0.4062\n",
      "Epoch 140/200\n",
      "\u001b[1m5859/5859\u001b[0m \u001b[32m━━━━━━━━━━━━━━━━━━━━\u001b[0m\u001b[37m\u001b[0m \u001b[1m4s\u001b[0m 598us/step - acc: 0.7856 - loss: 0.6095 - val_acc: 0.8696 - val_loss: 0.4016\n",
      "Epoch 141/200\n",
      "\u001b[1m5859/5859\u001b[0m \u001b[32m━━━━━━━━━━━━━━━━━━━━\u001b[0m\u001b[37m\u001b[0m \u001b[1m4s\u001b[0m 609us/step - acc: 0.7850 - loss: 0.6081 - val_acc: 0.8687 - val_loss: 0.3977\n",
      "Epoch 142/200\n",
      "\u001b[1m5859/5859\u001b[0m \u001b[32m━━━━━━━━━━━━━━━━━━━━\u001b[0m\u001b[37m\u001b[0m \u001b[1m4s\u001b[0m 615us/step - acc: 0.7859 - loss: 0.6077 - val_acc: 0.8694 - val_loss: 0.3983\n",
      "Epoch 143/200\n",
      "\u001b[1m5859/5859\u001b[0m \u001b[32m━━━━━━━━━━━━━━━━━━━━\u001b[0m\u001b[37m\u001b[0m \u001b[1m3s\u001b[0m 594us/step - acc: 0.7846 - loss: 0.6098 - val_acc: 0.8644 - val_loss: 0.4017\n",
      "Epoch 144/200\n",
      "\u001b[1m5859/5859\u001b[0m \u001b[32m━━━━━━━━━━━━━━━━━━━━\u001b[0m\u001b[37m\u001b[0m \u001b[1m4s\u001b[0m 603us/step - acc: 0.7852 - loss: 0.6082 - val_acc: 0.8667 - val_loss: 0.4048\n",
      "Epoch 145/200\n",
      "\u001b[1m5859/5859\u001b[0m \u001b[32m━━━━━━━━━━━━━━━━━━━━\u001b[0m\u001b[37m\u001b[0m \u001b[1m4s\u001b[0m 611us/step - acc: 0.7857 - loss: 0.6087 - val_acc: 0.8692 - val_loss: 0.3984\n",
      "Epoch 146/200\n",
      "\u001b[1m5859/5859\u001b[0m \u001b[32m━━━━━━━━━━━━━━━━━━━━\u001b[0m\u001b[37m\u001b[0m \u001b[1m4s\u001b[0m 604us/step - acc: 0.7858 - loss: 0.6076 - val_acc: 0.8635 - val_loss: 0.4019\n",
      "Epoch 147/200\n",
      "\u001b[1m5859/5859\u001b[0m \u001b[32m━━━━━━━━━━━━━━━━━━━━\u001b[0m\u001b[37m\u001b[0m \u001b[1m4s\u001b[0m 613us/step - acc: 0.7847 - loss: 0.6080 - val_acc: 0.8682 - val_loss: 0.4017\n",
      "Epoch 148/200\n",
      "\u001b[1m5859/5859\u001b[0m \u001b[32m━━━━━━━━━━━━━━━━━━━━\u001b[0m\u001b[37m\u001b[0m \u001b[1m4s\u001b[0m 611us/step - acc: 0.7852 - loss: 0.6050 - val_acc: 0.8681 - val_loss: 0.4017\n",
      "Epoch 149/200\n",
      "\u001b[1m5859/5859\u001b[0m \u001b[32m━━━━━━━━━━━━━━━━━━━━\u001b[0m\u001b[37m\u001b[0m \u001b[1m4s\u001b[0m 606us/step - acc: 0.7869 - loss: 0.6068 - val_acc: 0.8678 - val_loss: 0.3995\n",
      "Epoch 150/200\n",
      "\u001b[1m5859/5859\u001b[0m \u001b[32m━━━━━━━━━━━━━━━━━━━━\u001b[0m\u001b[37m\u001b[0m \u001b[1m4s\u001b[0m 605us/step - acc: 0.7867 - loss: 0.6086 - val_acc: 0.8677 - val_loss: 0.4011\n",
      "Epoch 151/200\n",
      "\u001b[1m5859/5859\u001b[0m \u001b[32m━━━━━━━━━━━━━━━━━━━━\u001b[0m\u001b[37m\u001b[0m \u001b[1m4s\u001b[0m 606us/step - acc: 0.7868 - loss: 0.6043 - val_acc: 0.8658 - val_loss: 0.4000\n",
      "Epoch 152/200\n",
      "\u001b[1m5859/5859\u001b[0m \u001b[32m━━━━━━━━━━━━━━━━━━━━\u001b[0m\u001b[37m\u001b[0m \u001b[1m4s\u001b[0m 608us/step - acc: 0.7850 - loss: 0.6086 - val_acc: 0.8694 - val_loss: 0.3961\n",
      "Epoch 153/200\n",
      "\u001b[1m5859/5859\u001b[0m \u001b[32m━━━━━━━━━━━━━━━━━━━━\u001b[0m\u001b[37m\u001b[0m \u001b[1m4s\u001b[0m 612us/step - acc: 0.7872 - loss: 0.6039 - val_acc: 0.8673 - val_loss: 0.4028\n",
      "Epoch 154/200\n",
      "\u001b[1m5859/5859\u001b[0m \u001b[32m━━━━━━━━━━━━━━━━━━━━\u001b[0m\u001b[37m\u001b[0m \u001b[1m4s\u001b[0m 624us/step - acc: 0.7878 - loss: 0.6039 - val_acc: 0.8674 - val_loss: 0.4013\n",
      "Epoch 155/200\n",
      "\u001b[1m5859/5859\u001b[0m \u001b[32m━━━━━━━━━━━━━━━━━━━━\u001b[0m\u001b[37m\u001b[0m \u001b[1m4s\u001b[0m 635us/step - acc: 0.7858 - loss: 0.6056 - val_acc: 0.8654 - val_loss: 0.4071\n",
      "Epoch 156/200\n",
      "\u001b[1m5859/5859\u001b[0m \u001b[32m━━━━━━━━━━━━━━━━━━━━\u001b[0m\u001b[37m\u001b[0m \u001b[1m4s\u001b[0m 618us/step - acc: 0.7866 - loss: 0.6049 - val_acc: 0.8682 - val_loss: 0.3989\n",
      "Epoch 157/200\n",
      "\u001b[1m5859/5859\u001b[0m \u001b[32m━━━━━━━━━━━━━━━━━━━━\u001b[0m\u001b[37m\u001b[0m \u001b[1m4s\u001b[0m 615us/step - acc: 0.7857 - loss: 0.6059 - val_acc: 0.8682 - val_loss: 0.4040\n",
      "Epoch 158/200\n",
      "\u001b[1m5859/5859\u001b[0m \u001b[32m━━━━━━━━━━━━━━━━━━━━\u001b[0m\u001b[37m\u001b[0m \u001b[1m4s\u001b[0m 632us/step - acc: 0.7858 - loss: 0.6055 - val_acc: 0.8667 - val_loss: 0.4011\n",
      "Epoch 159/200\n",
      "\u001b[1m5859/5859\u001b[0m \u001b[32m━━━━━━━━━━━━━━━━━━━━\u001b[0m\u001b[37m\u001b[0m \u001b[1m4s\u001b[0m 637us/step - acc: 0.7870 - loss: 0.6021 - val_acc: 0.8692 - val_loss: 0.3974\n",
      "Epoch 160/200\n",
      "\u001b[1m5859/5859\u001b[0m \u001b[32m━━━━━━━━━━━━━━━━━━━━\u001b[0m\u001b[37m\u001b[0m \u001b[1m4s\u001b[0m 624us/step - acc: 0.7843 - loss: 0.6083 - val_acc: 0.8668 - val_loss: 0.4014\n",
      "Epoch 161/200\n",
      "\u001b[1m5859/5859\u001b[0m \u001b[32m━━━━━━━━━━━━━━━━━━━━\u001b[0m\u001b[37m\u001b[0m \u001b[1m4s\u001b[0m 632us/step - acc: 0.7862 - loss: 0.6084 - val_acc: 0.8689 - val_loss: 0.3957\n",
      "Epoch 162/200\n",
      "\u001b[1m5859/5859\u001b[0m \u001b[32m━━━━━━━━━━━━━━━━━━━━\u001b[0m\u001b[37m\u001b[0m \u001b[1m4s\u001b[0m 616us/step - acc: 0.7869 - loss: 0.6010 - val_acc: 0.8695 - val_loss: 0.4011\n",
      "Epoch 163/200\n",
      "\u001b[1m5859/5859\u001b[0m \u001b[32m━━━━━━━━━━━━━━━━━━━━\u001b[0m\u001b[37m\u001b[0m \u001b[1m4s\u001b[0m 643us/step - acc: 0.7865 - loss: 0.6071 - val_acc: 0.8692 - val_loss: 0.3979\n",
      "Epoch 164/200\n",
      "\u001b[1m5859/5859\u001b[0m \u001b[32m━━━━━━━━━━━━━━━━━━━━\u001b[0m\u001b[37m\u001b[0m \u001b[1m4s\u001b[0m 625us/step - acc: 0.7847 - loss: 0.6085 - val_acc: 0.8681 - val_loss: 0.4000\n",
      "Epoch 165/200\n",
      "\u001b[1m5859/5859\u001b[0m \u001b[32m━━━━━━━━━━━━━━━━━━━━\u001b[0m\u001b[37m\u001b[0m \u001b[1m4s\u001b[0m 620us/step - acc: 0.7888 - loss: 0.6021 - val_acc: 0.8671 - val_loss: 0.4030\n",
      "Epoch 166/200\n",
      "\u001b[1m5859/5859\u001b[0m \u001b[32m━━━━━━━━━━━━━━━━━━━━\u001b[0m\u001b[37m\u001b[0m \u001b[1m4s\u001b[0m 636us/step - acc: 0.7869 - loss: 0.6069 - val_acc: 0.8668 - val_loss: 0.4002\n",
      "Epoch 167/200\n",
      "\u001b[1m5859/5859\u001b[0m \u001b[32m━━━━━━━━━━━━━━━━━━━━\u001b[0m\u001b[37m\u001b[0m \u001b[1m4s\u001b[0m 625us/step - acc: 0.7868 - loss: 0.6055 - val_acc: 0.8681 - val_loss: 0.3981\n",
      "Epoch 168/200\n",
      "\u001b[1m5859/5859\u001b[0m \u001b[32m━━━━━━━━━━━━━━━━━━━━\u001b[0m\u001b[37m\u001b[0m \u001b[1m4s\u001b[0m 615us/step - acc: 0.7871 - loss: 0.6066 - val_acc: 0.8679 - val_loss: 0.4037\n",
      "Epoch 169/200\n",
      "\u001b[1m5859/5859\u001b[0m \u001b[32m━━━━━━━━━━━━━━━━━━━━\u001b[0m\u001b[37m\u001b[0m \u001b[1m4s\u001b[0m 627us/step - acc: 0.7870 - loss: 0.6036 - val_acc: 0.8705 - val_loss: 0.3995\n",
      "Epoch 170/200\n",
      "\u001b[1m5859/5859\u001b[0m \u001b[32m━━━━━━━━━━━━━━━━━━━━\u001b[0m\u001b[37m\u001b[0m \u001b[1m4s\u001b[0m 621us/step - acc: 0.7877 - loss: 0.6034 - val_acc: 0.8664 - val_loss: 0.4029\n",
      "Epoch 171/200\n",
      "\u001b[1m5859/5859\u001b[0m \u001b[32m━━━━━━━━━━━━━━━━━━━━\u001b[0m\u001b[37m\u001b[0m \u001b[1m4s\u001b[0m 604us/step - acc: 0.7863 - loss: 0.6050 - val_acc: 0.8655 - val_loss: 0.4031\n",
      "Epoch 172/200\n",
      "\u001b[1m5859/5859\u001b[0m \u001b[32m━━━━━━━━━━━━━━━━━━━━\u001b[0m\u001b[37m\u001b[0m \u001b[1m4s\u001b[0m 600us/step - acc: 0.7882 - loss: 0.5997 - val_acc: 0.8673 - val_loss: 0.4038\n",
      "Epoch 173/200\n",
      "\u001b[1m5859/5859\u001b[0m \u001b[32m━━━━━━━━━━━━━━━━━━━━\u001b[0m\u001b[37m\u001b[0m \u001b[1m4s\u001b[0m 602us/step - acc: 0.7874 - loss: 0.6026 - val_acc: 0.8679 - val_loss: 0.4031\n",
      "Epoch 174/200\n",
      "\u001b[1m5859/5859\u001b[0m \u001b[32m━━━━━━━━━━━━━━━━━━━━\u001b[0m\u001b[37m\u001b[0m \u001b[1m4s\u001b[0m 611us/step - acc: 0.7875 - loss: 0.6031 - val_acc: 0.8669 - val_loss: 0.4080\n",
      "Epoch 175/200\n",
      "\u001b[1m5859/5859\u001b[0m \u001b[32m━━━━━━━━━━━━━━━━━━━━\u001b[0m\u001b[37m\u001b[0m \u001b[1m4s\u001b[0m 600us/step - acc: 0.7867 - loss: 0.6001 - val_acc: 0.8673 - val_loss: 0.3966\n",
      "Epoch 176/200\n",
      "\u001b[1m5859/5859\u001b[0m \u001b[32m━━━━━━━━━━━━━━━━━━━━\u001b[0m\u001b[37m\u001b[0m \u001b[1m4s\u001b[0m 619us/step - acc: 0.7867 - loss: 0.6027 - val_acc: 0.8662 - val_loss: 0.3982\n",
      "Epoch 177/200\n",
      "\u001b[1m5859/5859\u001b[0m \u001b[32m━━━━━━━━━━━━━━━━━━━━\u001b[0m\u001b[37m\u001b[0m \u001b[1m4s\u001b[0m 631us/step - acc: 0.7870 - loss: 0.6073 - val_acc: 0.8667 - val_loss: 0.4066\n",
      "Epoch 178/200\n",
      "\u001b[1m5859/5859\u001b[0m \u001b[32m━━━━━━━━━━━━━━━━━━━━\u001b[0m\u001b[37m\u001b[0m \u001b[1m4s\u001b[0m 614us/step - acc: 0.7854 - loss: 0.6098 - val_acc: 0.8684 - val_loss: 0.4011\n",
      "Epoch 179/200\n",
      "\u001b[1m5859/5859\u001b[0m \u001b[32m━━━━━━━━━━━━━━━━━━━━\u001b[0m\u001b[37m\u001b[0m \u001b[1m4s\u001b[0m 611us/step - acc: 0.7859 - loss: 0.6064 - val_acc: 0.8693 - val_loss: 0.4004\n",
      "Epoch 180/200\n",
      "\u001b[1m5859/5859\u001b[0m \u001b[32m━━━━━━━━━━━━━━━━━━━━\u001b[0m\u001b[37m\u001b[0m \u001b[1m4s\u001b[0m 611us/step - acc: 0.7881 - loss: 0.6021 - val_acc: 0.8700 - val_loss: 0.4003\n",
      "Epoch 181/200\n",
      "\u001b[1m5859/5859\u001b[0m \u001b[32m━━━━━━━━━━━━━━━━━━━━\u001b[0m\u001b[37m\u001b[0m \u001b[1m4s\u001b[0m 615us/step - acc: 0.7859 - loss: 0.6049 - val_acc: 0.8676 - val_loss: 0.3974\n",
      "Epoch 182/200\n",
      "\u001b[1m5859/5859\u001b[0m \u001b[32m━━━━━━━━━━━━━━━━━━━━\u001b[0m\u001b[37m\u001b[0m \u001b[1m4s\u001b[0m 611us/step - acc: 0.7885 - loss: 0.6013 - val_acc: 0.8674 - val_loss: 0.3979\n",
      "Epoch 183/200\n",
      "\u001b[1m5859/5859\u001b[0m \u001b[32m━━━━━━━━━━━━━━━━━━━━\u001b[0m\u001b[37m\u001b[0m \u001b[1m4s\u001b[0m 604us/step - acc: 0.7887 - loss: 0.6009 - val_acc: 0.8692 - val_loss: 0.3990\n",
      "Epoch 184/200\n",
      "\u001b[1m5859/5859\u001b[0m \u001b[32m━━━━━━━━━━━━━━━━━━━━\u001b[0m\u001b[37m\u001b[0m \u001b[1m4s\u001b[0m 618us/step - acc: 0.7865 - loss: 0.6046 - val_acc: 0.8676 - val_loss: 0.4018\n",
      "Epoch 185/200\n",
      "\u001b[1m5859/5859\u001b[0m \u001b[32m━━━━━━━━━━━━━━━━━━━━\u001b[0m\u001b[37m\u001b[0m \u001b[1m4s\u001b[0m 608us/step - acc: 0.7872 - loss: 0.6030 - val_acc: 0.8717 - val_loss: 0.3949\n",
      "Epoch 186/200\n",
      "\u001b[1m5859/5859\u001b[0m \u001b[32m━━━━━━━━━━━━━━━━━━━━\u001b[0m\u001b[37m\u001b[0m \u001b[1m4s\u001b[0m 608us/step - acc: 0.7872 - loss: 0.6043 - val_acc: 0.8674 - val_loss: 0.3976\n",
      "Epoch 187/200\n",
      "\u001b[1m5859/5859\u001b[0m \u001b[32m━━━━━━━━━━━━━━━━━━━━\u001b[0m\u001b[37m\u001b[0m \u001b[1m4s\u001b[0m 605us/step - acc: 0.7882 - loss: 0.6003 - val_acc: 0.8687 - val_loss: 0.3982\n",
      "Epoch 188/200\n",
      "\u001b[1m5859/5859\u001b[0m \u001b[32m━━━━━━━━━━━━━━━━━━━━\u001b[0m\u001b[37m\u001b[0m \u001b[1m4s\u001b[0m 606us/step - acc: 0.7884 - loss: 0.6021 - val_acc: 0.8688 - val_loss: 0.4038\n",
      "Epoch 189/200\n",
      "\u001b[1m5859/5859\u001b[0m \u001b[32m━━━━━━━━━━━━━━━━━━━━\u001b[0m\u001b[37m\u001b[0m \u001b[1m4s\u001b[0m 615us/step - acc: 0.7854 - loss: 0.6079 - val_acc: 0.8668 - val_loss: 0.4020\n",
      "Epoch 190/200\n",
      "\u001b[1m5859/5859\u001b[0m \u001b[32m━━━━━━━━━━━━━━━━━━━━\u001b[0m\u001b[37m\u001b[0m \u001b[1m4s\u001b[0m 607us/step - acc: 0.7876 - loss: 0.5994 - val_acc: 0.8719 - val_loss: 0.3966\n",
      "Epoch 191/200\n",
      "\u001b[1m5859/5859\u001b[0m \u001b[32m━━━━━━━━━━━━━━━━━━━━\u001b[0m\u001b[37m\u001b[0m \u001b[1m4s\u001b[0m 610us/step - acc: 0.7881 - loss: 0.6025 - val_acc: 0.8668 - val_loss: 0.4013\n",
      "Epoch 192/200\n",
      "\u001b[1m5859/5859\u001b[0m \u001b[32m━━━━━━━━━━━━━━━━━━━━\u001b[0m\u001b[37m\u001b[0m \u001b[1m4s\u001b[0m 604us/step - acc: 0.7890 - loss: 0.6007 - val_acc: 0.8702 - val_loss: 0.4007\n",
      "Epoch 193/200\n",
      "\u001b[1m5859/5859\u001b[0m \u001b[32m━━━━━━━━━━━━━━━━━━━━\u001b[0m\u001b[37m\u001b[0m \u001b[1m4s\u001b[0m 619us/step - acc: 0.7879 - loss: 0.6089 - val_acc: 0.8679 - val_loss: 0.4010\n",
      "Epoch 194/200\n",
      "\u001b[1m5859/5859\u001b[0m \u001b[32m━━━━━━━━━━━━━━━━━━━━\u001b[0m\u001b[37m\u001b[0m \u001b[1m4s\u001b[0m 628us/step - acc: 0.7892 - loss: 0.5998 - val_acc: 0.8661 - val_loss: 0.3986\n",
      "Epoch 195/200\n",
      "\u001b[1m5859/5859\u001b[0m \u001b[32m━━━━━━━━━━━━━━━━━━━━\u001b[0m\u001b[37m\u001b[0m \u001b[1m4s\u001b[0m 612us/step - acc: 0.7882 - loss: 0.5977 - val_acc: 0.8675 - val_loss: 0.4008\n",
      "Epoch 196/200\n",
      "\u001b[1m5859/5859\u001b[0m \u001b[32m━━━━━━━━━━━━━━━━━━━━\u001b[0m\u001b[37m\u001b[0m \u001b[1m4s\u001b[0m 607us/step - acc: 0.7902 - loss: 0.6028 - val_acc: 0.8710 - val_loss: 0.4009\n",
      "Epoch 197/200\n",
      "\u001b[1m5859/5859\u001b[0m \u001b[32m━━━━━━━━━━━━━━━━━━━━\u001b[0m\u001b[37m\u001b[0m \u001b[1m3s\u001b[0m 594us/step - acc: 0.7876 - loss: 0.6030 - val_acc: 0.8698 - val_loss: 0.3968\n",
      "Epoch 198/200\n",
      "\u001b[1m5859/5859\u001b[0m \u001b[32m━━━━━━━━━━━━━━━━━━━━\u001b[0m\u001b[37m\u001b[0m \u001b[1m4s\u001b[0m 604us/step - acc: 0.7874 - loss: 0.6020 - val_acc: 0.8708 - val_loss: 0.3979\n",
      "Epoch 199/200\n",
      "\u001b[1m5859/5859\u001b[0m \u001b[32m━━━━━━━━━━━━━━━━━━━━\u001b[0m\u001b[37m\u001b[0m \u001b[1m4s\u001b[0m 618us/step - acc: 0.7899 - loss: 0.5999 - val_acc: 0.8682 - val_loss: 0.3944\n",
      "Epoch 200/200\n",
      "\u001b[1m5859/5859\u001b[0m \u001b[32m━━━━━━━━━━━━━━━━━━━━\u001b[0m\u001b[37m\u001b[0m \u001b[1m4s\u001b[0m 615us/step - acc: 0.7891 - loss: 0.6011 - val_acc: 0.8706 - val_loss: 0.3965\n"
     ]
    }
   ],
   "source": [
    "### Train the model\n",
    "history = model.fit(X_train,\n",
    "                    y_train,\n",
    "                    batch_size=32,\n",
    "                    epochs=200,\n",
    "                    verbose=1,\n",
    "                    validation_data=(X_val, y_val)\n",
    "                   )"
   ]
  },
  {
   "cell_type": "markdown",
   "id": "fe785364-a10d-438c-8d65-0e833745e292",
   "metadata": {},
   "source": [
    "Evaluate model"
   ]
  },
  {
   "cell_type": "code",
   "execution_count": 14,
   "id": "326cc23e-300e-4fe7-80ec-a50263541c4f",
   "metadata": {},
   "outputs": [
    {
     "data": {
      "image/png": "[encoded data removed]",
      "text/plain": [
       "<Figure size 640x480 with 1 Axes>"
      ]
     },
     "metadata": {},
     "output_type": "display_data"
    },
    {
     "data": {
      "image/png": "[encoded data removed]",
      "text/plain": [
       "<Figure size 640x480 with 1 Axes>"
      ]
     },
     "metadata": {},
     "output_type": "display_data"
    }
   ],
   "source": [
    "### Plot training and validation accuracy and loss over time\n",
    "\n",
    "# Extract accuracy and loss values (in list form) from the history\n",
    "acc = history.history['acc']\n",
    "val_acc = history.history['val_acc']\n",
    "loss = history.history['loss']\n",
    "val_loss = history.history['val_loss']\n",
    "\n",
    "# Create a list of epoch numbers\n",
    "epochs = range(1, len(acc) + 1)\n",
    "\n",
    "# Plot training and validation loss values over time\n",
    "plt.figure()\n",
    "plt.plot(epochs, loss, color='blue', marker='.', label='Training loss')\n",
    "plt.plot(epochs, val_loss, color='orange', marker='.', label='Validation loss')\n",
    "plt.title('Training and validation loss')\n",
    "plt.legend()\n",
    "\n",
    "# Plot training and validation accuracies over time\n",
    "plt.figure()\n",
    "plt.plot(epochs, acc, color='blue', marker='.', label='Training acc')\n",
    "plt.plot(epochs, val_acc, color='orange', marker='.', label='Validation acc')\n",
    "plt.title('Training and validation accuracy')\n",
    "plt.legend()\n",
    "plt.show()"
   ]
  },
  {
   "cell_type": "code",
   "execution_count": 16,
   "id": "9a4c5361-5ec8-4257-a6d3-70eb1107ab7f",
   "metadata": {},
   "outputs": [
    {
     "name": "stdout",
     "output_type": "stream",
     "text": [
      "\u001b[1m1465/1465\u001b[0m \u001b[32m━━━━━━━━━━━━━━━━━━━━\u001b[0m\u001b[37m\u001b[0m \u001b[1m0s\u001b[0m 294us/step\n",
      "Validation output shape: (46865, 11)\n",
      "Actual validation labels:\t [ 2 10  1  9  9  9  6  0  7  1 10  8 10  4  1  8  2  0  5  0  3  5  1  9\n",
      "  5  4  8 10  9  4  1  7  5  5  5  2  4  9  5  2  3  6  2  5 10  9  7  1\n",
      "  1  0]\n",
      "Predicted validation labels:\t [ 2 10  1  9  9  2  6  0  7  1 10  8 10  4  3  8  2  0  6  0  3  5  5  9\n",
      "  4  4  8 10  9  4  5  7  5  5  5  2  4  2  5  2  3  6  2  5 10  9  7  5\n",
      "  1  0]\n",
      "\n",
      " ---> Predicted labels\n",
      "|\n",
      "v Actual labels\n",
      "\t\t\t(0)    (1)    (2)    (3)    (4)    (5)    (6)    (7)    (8)    (9)    (10)  \n",
      "           0 (0):  [  4277      6     10      1      0      8      2      0      4     11      0]\n",
      "           1 (1):  [     0   2676      4      7    143    409      1      0      0     13     50]\n",
      "           2 (2):  [     0    154   3719     85     25    235     27      0      4    348     27]\n",
      "           3 (3):  [     0    111     43   3932     65    200      7      0      1    195      2]\n",
      "           4 (4):  [     0    223     13     35   3839    227      6      0      0     55     10]\n",
      "           5 (5):  [     0    638     47     52    165   2465      4      0      1    112    100]\n",
      "           6 (6):  [     0     27     33     50      5    105   4120      0      0     87      3]\n",
      "           7 (7):  [     0     14      7      0      4      7      4   4294      0      0      0]\n",
      "           8 (8):  [     0     16     68     51      8    112     40      0   4238     81     38]\n",
      "           9 (9):  [     0    326    342    129     26    369     75      0      0   3262     35]\n",
      "          10 (10):  [     0     30      5      4      4     61      1      0      0      9   3981]\n"
     ]
    }
   ],
   "source": [
    "### Create confusion matrix from validation set\n",
    "\n",
    "# Find predictions from all validation samples\n",
    "y_pred = model.predict(X_val)\n",
    "print(\"Validation output shape:\", y_pred.shape)\n",
    "\n",
    "# Convert actual and predicted validation one-hot encoding to numerical labels\n",
    "y_val_trans = np.argmax(y_val, axis=1)\n",
    "y_pred_trans = np.argmax(y_pred, axis=1)\n",
    "\n",
    "# Print some values from actual and predicted validation sets (first 50 samples)\n",
    "print(\"Actual validation labels:\\t\", y_val_trans[:50])\n",
    "print(\"Predicted validation labels:\\t\", y_pred_trans[:50])\n",
    "\n",
    "# Compute confusion matrix (note: we need to transpose SKLearn matrix to make it match Edge Impulse)\n",
    "cm = confusion_matrix(y_val_trans, y_pred_trans)\n",
    "cm = np.transpose(cm)\n",
    "\n",
    "labels = range(len(gdf['uso_suelo'].unique()))\n",
    "\n",
    "# Print confusion matrix\n",
    "print()\n",
    "print(\" ---> Predicted labels\")\n",
    "print(\"|\")\n",
    "print(\"v Actual labels\")\n",
    "print(\"\\t\\t\\t\" + ' '.join(\"{!s:6}\".format('(' + str(i) + ')') for i in range(num_classes)))\n",
    "for row in range(num_classes):\n",
    "  print(\"{:>12} ({}):  [{}]\".format(labels[row], row, ' '.join(\"{:6}\".format(i) for i in cm[row])))\n",
    "    "
   ]
  },
  {
   "cell_type": "markdown",
   "id": "8be37c16-612e-40bd-a52c-5c29f82d7a49",
   "metadata": {},
   "source": [
    "Predict landuse for every element"
   ]
  },
  {
   "cell_type": "code",
   "execution_count": 17,
   "id": "c0a037f4-092d-48ad-978e-153eab95c3f0",
   "metadata": {},
   "outputs": [
    {
     "name": "stdout",
     "output_type": "stream",
     "text": [
      "\u001b[1m1159/1159\u001b[0m \u001b[32m━━━━━━━━━━━━━━━━━━━━\u001b[0m\u001b[37m\u001b[0m \u001b[1m1s\u001b[0m 579us/step\n"
     ]
    },
    {
     "name": "stderr",
     "output_type": "stream",
     "text": [
      "2025-07-17 11:44:23.893242: I external/local_xla/xla/stream_executor/cuda/subprocess_compilation.cc:346] ptxas warning : Registers are spilled to local memory in function 'gemm_fusion_dot_16', 8 bytes spill stores, 8 bytes spill loads\n",
      "\n"
     ]
    }
   ],
   "source": [
    "y_hat = model.predict(X_scaled)"
   ]
  },
  {
   "cell_type": "markdown",
   "id": "0b261529-9bc7-4797-96c3-11250d8a057f",
   "metadata": {},
   "source": [
    "Assign data to polygons"
   ]
  },
  {
   "cell_type": "code",
   "execution_count": 18,
   "id": "531318ae-91e3-4725-a6aa-695604f5cc84",
   "metadata": {},
   "outputs": [],
   "source": [
    "gdf['pred'] = y_hat.argmax(axis=1)"
   ]
  },
  {
   "cell_type": "markdown",
   "id": "d5231504-e17c-4156-a19c-091e8269682c",
   "metadata": {},
   "source": [
    "### Save output"
   ]
  },
  {
   "cell_type": "code",
   "execution_count": 19,
   "id": "60141096-5433-421e-8f2f-4ad293ac4d6b",
   "metadata": {},
   "outputs": [],
   "source": [
    "gdf.to_file('../../data/processed/prediccion_uso_suelo/test/tess_pred.gpkg')"
   ]
  },
  {
   "cell_type": "code",
   "execution_count": null,
   "id": "1cb336fd-8ac2-47ad-bc50-3778f3b88e07",
   "metadata": {},
   "outputs": [],
   "source": []
  }
 ],
 "metadata": {
  "kernelspec": {
   "display_name": "Python 3 (ipykernel)",
   "language": "python",
   "name": "python3"
  },
  "language_info": {
   "codemirror_mode": {
    "name": "ipython",
    "version": 3
   },
   "file_extension": ".py",
   "mimetype": "text/x-python",
   "name": "python",
   "nbconvert_exporter": "python",
   "pygments_lexer": "ipython3",
   "version": "3.11.11"
  }
 },
 "nbformat": 4,
 "nbformat_minor": 5
}
