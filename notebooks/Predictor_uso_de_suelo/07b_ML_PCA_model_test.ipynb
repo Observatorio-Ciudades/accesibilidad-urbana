{
 "cells": [
  {
   "cell_type": "markdown",
   "id": "72c6c7a5-86d6-4770-807b-b3686944267c",
   "metadata": {},
   "source": [
    "# Landuse machine learning model -test-"
   ]
  },
  {
   "cell_type": "markdown",
   "id": "b6b25ea6-6203-41bf-ad5a-02b83d15cf19",
   "metadata": {},
   "source": [
    "This notebook integrates the first steps towards the development of a machine learning model for urban landuse prediction."
   ]
  },
  {
   "cell_type": "markdown",
   "id": "89a9447c-5c11-4cb4-9dac-f54cab2d7fe9",
   "metadata": {},
   "source": [
    "## Import libraries"
   ]
  },
  {
   "cell_type": "code",
   "execution_count": 1,
   "id": "4bfed30a-cc4c-467d-8775-eab5f4395250",
   "metadata": {
    "scrolled": true
   },
   "outputs": [
    {
     "name": "stderr",
     "output_type": "stream",
     "text": [
      "2025-07-17 12:34:12.359099: I tensorflow/core/util/port.cc:153] oneDNN custom operations are on. You may see slightly different numerical results due to floating-point round-off errors from different computation orders. To turn them off, set the environment variable `TF_ENABLE_ONEDNN_OPTS=0`.\n",
      "2025-07-17 12:34:12.365486: E external/local_xla/xla/stream_executor/cuda/cuda_fft.cc:467] Unable to register cuFFT factory: Attempting to register factory for plugin cuFFT when one has already been registered\n",
      "WARNING: All log messages before absl::InitializeLog() is called are written to STDERR\n",
      "E0000 00:00:1752777252.372454   96672 cuda_dnn.cc:8579] Unable to register cuDNN factory: Attempting to register factory for plugin cuDNN when one has already been registered\n",
      "E0000 00:00:1752777252.374607   96672 cuda_blas.cc:1407] Unable to register cuBLAS factory: Attempting to register factory for plugin cuBLAS when one has already been registered\n",
      "W0000 00:00:1752777252.380253   96672 computation_placer.cc:177] computation placer already registered. Please check linkage and avoid linking the same target more than once.\n",
      "W0000 00:00:1752777252.380264   96672 computation_placer.cc:177] computation placer already registered. Please check linkage and avoid linking the same target more than once.\n",
      "W0000 00:00:1752777252.380265   96672 computation_placer.cc:177] computation placer already registered. Please check linkage and avoid linking the same target more than once.\n",
      "W0000 00:00:1752777252.380265   96672 computation_placer.cc:177] computation placer already registered. Please check linkage and avoid linking the same target more than once.\n",
      "2025-07-17 12:34:12.382420: I tensorflow/core/platform/cpu_feature_guard.cc:210] This TensorFlow binary is optimized to use available CPU instructions in performance-critical operations.\n",
      "To enable the following instructions: AVX2 AVX512F AVX512_VNNI AVX512_BF16 AVX_VNNI FMA, in other operations, rebuild TensorFlow with the appropriate compiler flags.\n"
     ]
    }
   ],
   "source": [
    "import geopandas as gpd\n",
    "import pandas as pd\n",
    "import numpy as np\n",
    "\n",
    "import matplotlib.pyplot as plt\n",
    "import seaborn as sns\n",
    "import scipy\n",
    "\n",
    "import aup\n",
    "\n",
    "from sklearn.model_selection import train_test_split\n",
    "from sklearn.preprocessing import StandardScaler\n",
    "from imblearn.over_sampling import SMOTE\n",
    "from sklearn.decomposition import PCA\n",
    "\n",
    "\n",
    "\n",
    "from keras import utils                                   # tools for creating one-hot encoding\n",
    "from keras.models import Sequential                       # Type of model we wish to use\n",
    "from keras.layers import Dense, Dropout, Activation  \n",
    "from sklearn.preprocessing import LabelEncoder\n",
    "# from scikeras.wrappers import KerasClassifier, KerasRegressor\n",
    "from keras import utils  \n",
    "from sklearn.model_selection import cross_val_score\n",
    "from sklearn.model_selection import KFold\n",
    "from sklearn.preprocessing import LabelEncoder\n",
    "# from sklearn.pipeline import Pipeline\n",
    "\n",
    "from sklearn.metrics import r2_score, mean_squared_error, mean_absolute_error,confusion_matrix"
   ]
  },
  {
   "cell_type": "markdown",
   "id": "e7a8c8ea-516f-4b4f-8df5-f17a8f17e6ec",
   "metadata": {},
   "source": [
    "## Data for model training"
   ]
  },
  {
   "cell_type": "code",
   "execution_count": 2,
   "id": "bbef554c-59c0-4fba-b604-82ad1d0274c9",
   "metadata": {},
   "outputs": [
    {
     "name": "stdout",
     "output_type": "stream",
     "text": [
      "(37061, 42)\n"
     ]
    },
    {
     "data": {
      "text/html": [
       "<div>\n",
       "<style scoped>\n",
       "    .dataframe tbody tr th:only-of-type {\n",
       "        vertical-align: middle;\n",
       "    }\n",
       "\n",
       "    .dataframe tbody tr th {\n",
       "        vertical-align: top;\n",
       "    }\n",
       "\n",
       "    .dataframe thead th {\n",
       "        text-align: right;\n",
       "    }\n",
       "</style>\n",
       "<table border=\"1\" class=\"dataframe\">\n",
       "  <thead>\n",
       "    <tr style=\"text-align: right;\">\n",
       "      <th></th>\n",
       "      <th>uso_suelo</th>\n",
       "      <th>area_m2</th>\n",
       "      <th>full_plus_code</th>\n",
       "      <th>CVEGEO</th>\n",
       "      <th>bld_area_m2</th>\n",
       "      <th>block_area_m2</th>\n",
       "      <th>pred_area_m2</th>\n",
       "      <th>pred_area_pct</th>\n",
       "      <th>bld_pred_area_pct</th>\n",
       "      <th>pobtot</th>\n",
       "      <th>...</th>\n",
       "      <th>denue_primaria_15min</th>\n",
       "      <th>denue_abarrotes</th>\n",
       "      <th>denue_abarrotes_15min</th>\n",
       "      <th>denue_peluqueria</th>\n",
       "      <th>denue_peluqueria_15min</th>\n",
       "      <th>denue_lavanderia</th>\n",
       "      <th>denue_lavanderia_15min</th>\n",
       "      <th>clues_primer_nivel</th>\n",
       "      <th>clues_primer_nivel_15min</th>\n",
       "      <th>geometry</th>\n",
       "    </tr>\n",
       "  </thead>\n",
       "  <tbody>\n",
       "    <tr>\n",
       "      <th>0</th>\n",
       "      <td>Servicio</td>\n",
       "      <td>2257.817773</td>\n",
       "      <td>75GRMHR2+458V</td>\n",
       "      <td>1412000011206018</td>\n",
       "      <td>173.7348</td>\n",
       "      <td>278416.454431</td>\n",
       "      <td>2747.599834</td>\n",
       "      <td>0.009869</td>\n",
       "      <td>0.063231</td>\n",
       "      <td>0</td>\n",
       "      <td>...</td>\n",
       "      <td>0.0</td>\n",
       "      <td>7.696036</td>\n",
       "      <td>5.772197</td>\n",
       "      <td>8.017103</td>\n",
       "      <td>7.950595</td>\n",
       "      <td>8.005108</td>\n",
       "      <td>3.557762</td>\n",
       "      <td>16.196502</td>\n",
       "      <td>0.555897</td>\n",
       "      <td>MULTIPOLYGON (((2349620.239 965525.905, 234961...</td>\n",
       "    </tr>\n",
       "    <tr>\n",
       "      <th>1</th>\n",
       "      <td>Sin dato</td>\n",
       "      <td>711.098560</td>\n",
       "      <td>75GRMGRX+GQP3</td>\n",
       "      <td>1412000011206018</td>\n",
       "      <td>81.7922</td>\n",
       "      <td>278416.454431</td>\n",
       "      <td>900.765482</td>\n",
       "      <td>0.003235</td>\n",
       "      <td>0.090803</td>\n",
       "      <td>0</td>\n",
       "      <td>...</td>\n",
       "      <td>0.0</td>\n",
       "      <td>6.115355</td>\n",
       "      <td>3.994591</td>\n",
       "      <td>6.128543</td>\n",
       "      <td>6.752205</td>\n",
       "      <td>6.148625</td>\n",
       "      <td>2.126203</td>\n",
       "      <td>18.010403</td>\n",
       "      <td>0.042501</td>\n",
       "      <td>MULTIPOLYGON (((2349506.214 965639.352, 234950...</td>\n",
       "    </tr>\n",
       "  </tbody>\n",
       "</table>\n",
       "<p>2 rows × 42 columns</p>\n",
       "</div>"
      ],
      "text/plain": [
       "  uso_suelo      area_m2 full_plus_code            CVEGEO  bld_area_m2  \\\n",
       "0  Servicio  2257.817773  75GRMHR2+458V  1412000011206018     173.7348   \n",
       "1  Sin dato   711.098560  75GRMGRX+GQP3  1412000011206018      81.7922   \n",
       "\n",
       "   block_area_m2  pred_area_m2  pred_area_pct  bld_pred_area_pct  pobtot  ...  \\\n",
       "0  278416.454431   2747.599834       0.009869           0.063231       0  ...   \n",
       "1  278416.454431    900.765482       0.003235           0.090803       0  ...   \n",
       "\n",
       "   denue_primaria_15min  denue_abarrotes  denue_abarrotes_15min  \\\n",
       "0                   0.0         7.696036               5.772197   \n",
       "1                   0.0         6.115355               3.994591   \n",
       "\n",
       "   denue_peluqueria  denue_peluqueria_15min  denue_lavanderia  \\\n",
       "0          8.017103                7.950595          8.005108   \n",
       "1          6.128543                6.752205          6.148625   \n",
       "\n",
       "   denue_lavanderia_15min  clues_primer_nivel  clues_primer_nivel_15min  \\\n",
       "0                3.557762           16.196502                  0.555897   \n",
       "1                2.126203           18.010403                  0.042501   \n",
       "\n",
       "                                            geometry  \n",
       "0  MULTIPOLYGON (((2349620.239 965525.905, 234961...  \n",
       "1  MULTIPOLYGON (((2349506.214 965639.352, 234950...  \n",
       "\n",
       "[2 rows x 42 columns]"
      ]
     },
     "execution_count": 2,
     "metadata": {},
     "output_type": "execute_result"
    }
   ],
   "source": [
    "gdf = gpd.read_file('../../data/processed/prediccion_uso_suelo/test/area_of_prediction_prox.gpkg')\n",
    "print(gdf.shape)\n",
    "gdf.head(2)"
   ]
  },
  {
   "cell_type": "code",
   "execution_count": 3,
   "id": "a0845b46-a724-422c-b86b-b7afa89e6cb1",
   "metadata": {},
   "outputs": [],
   "source": [
    "if 'fid' not in gdf.columns:\n",
    "    gdf = gdf.reset_index().rename(columns={'index':'fid'})"
   ]
  },
  {
   "cell_type": "code",
   "execution_count": 4,
   "id": "e6ba8d67-9bb4-4ebc-819b-98b4161becef",
   "metadata": {},
   "outputs": [
    {
     "data": {
      "text/plain": [
       "Index(['fid', 'uso_suelo', 'area_m2', 'full_plus_code', 'CVEGEO',\n",
       "       'bld_area_m2', 'block_area_m2', 'pred_area_m2', 'pred_area_pct',\n",
       "       'bld_pred_area_pct', 'pobtot', 'cultural_recreativo', 'servicios',\n",
       "       'comercio', 'salud', 'educacion', 'gobierno', 'industria',\n",
       "       'area_m2_tot', 'habitacional', 'uso_tot', 'pct_habitacional',\n",
       "       'pct_cultural_recreativo', 'pct_servicios', 'pct_comercio', 'pct_salud',\n",
       "       'pct_educacion', 'pct_gobierno', 'pct_industria',\n",
       "       'temperature_mean_diff', 'ndvi_mean', 'ndmi_diff', 'denue_primaria',\n",
       "       'denue_primaria_15min', 'denue_abarrotes', 'denue_abarrotes_15min',\n",
       "       'denue_peluqueria', 'denue_peluqueria_15min', 'denue_lavanderia',\n",
       "       'denue_lavanderia_15min', 'clues_primer_nivel',\n",
       "       'clues_primer_nivel_15min', 'geometry'],\n",
       "      dtype='object')"
      ]
     },
     "execution_count": 4,
     "metadata": {},
     "output_type": "execute_result"
    }
   ],
   "source": [
    "gdf.columns"
   ]
  },
  {
   "cell_type": "markdown",
   "id": "4c867dd3-eed8-4f39-894f-08dbc0f11266",
   "metadata": {},
   "source": [
    "## Machine learning model"
   ]
  },
  {
   "cell_type": "markdown",
   "id": "46e56e8a-cf6a-4903-b377-3d533ee14f36",
   "metadata": {},
   "source": [
    "### Data preprocessing"
   ]
  },
  {
   "cell_type": "markdown",
   "id": "8ca8ffd1-2706-4c0b-b1aa-b32b20c2395b",
   "metadata": {},
   "source": [
    "#### PCA"
   ]
  },
  {
   "cell_type": "code",
   "execution_count": 5,
   "id": "4ad5283f-c74b-48e8-aa3f-2ec90aa4b950",
   "metadata": {},
   "outputs": [],
   "source": [
    "cat_dict = {'edification':['area_m2','bld_area_m2','block_area_m2',\n",
    "    'pred_area_m2', 'pred_area_pct', 'bld_pred_area_pct'],\n",
    "           'landuse':['uso_tot','pobtot','pct_habitacional', 'pct_cultural_recreativo',\n",
    "    'pct_servicios', 'pct_comercio', 'pct_salud', 'pct_educacion',\n",
    "    'pct_gobierno', 'pct_industria'],\n",
    "           'environment':['temperature_mean_diff','ndvi_mean','ndmi_diff'],\n",
    "           'proximity':['denue_primaria', 'denue_primaria_15min',\n",
    "    'denue_abarrotes', 'denue_abarrotes_15min', 'denue_peluqueria',\n",
    "    'denue_peluqueria_15min', 'denue_lavanderia', 'denue_lavanderia_15min',\n",
    "    'clues_primer_nivel', 'clues_primer_nivel_15min']}"
   ]
  },
  {
   "cell_type": "markdown",
   "id": "936c8c8a-a355-44a7-9454-66f1092bd066",
   "metadata": {},
   "source": [
    "Edification"
   ]
  },
  {
   "cell_type": "code",
   "execution_count": 6,
   "id": "ddb75814-4ccb-4cb7-a94f-29b54e42376b",
   "metadata": {},
   "outputs": [
    {
     "name": "stdout",
     "output_type": "stream",
     "text": [
      "(37061, 6)\n"
     ]
    },
    {
     "data": {
      "text/html": [
       "<div>\n",
       "<style scoped>\n",
       "    .dataframe tbody tr th:only-of-type {\n",
       "        vertical-align: middle;\n",
       "    }\n",
       "\n",
       "    .dataframe tbody tr th {\n",
       "        vertical-align: top;\n",
       "    }\n",
       "\n",
       "    .dataframe thead th {\n",
       "        text-align: right;\n",
       "    }\n",
       "</style>\n",
       "<table border=\"1\" class=\"dataframe\">\n",
       "  <thead>\n",
       "    <tr style=\"text-align: right;\">\n",
       "      <th></th>\n",
       "      <th>area_m2</th>\n",
       "      <th>bld_area_m2</th>\n",
       "      <th>block_area_m2</th>\n",
       "      <th>pred_area_m2</th>\n",
       "      <th>pred_area_pct</th>\n",
       "      <th>bld_pred_area_pct</th>\n",
       "    </tr>\n",
       "  </thead>\n",
       "  <tbody>\n",
       "    <tr>\n",
       "      <th>0</th>\n",
       "      <td>0.808572</td>\n",
       "      <td>0.453670</td>\n",
       "      <td>1.937134</td>\n",
       "      <td>0.892706</td>\n",
       "      <td>-0.395654</td>\n",
       "      <td>-0.342286</td>\n",
       "    </tr>\n",
       "    <tr>\n",
       "      <th>1</th>\n",
       "      <td>0.065991</td>\n",
       "      <td>-0.019517</td>\n",
       "      <td>1.937134</td>\n",
       "      <td>0.090725</td>\n",
       "      <td>-0.472954</td>\n",
       "      <td>-0.287216</td>\n",
       "    </tr>\n",
       "  </tbody>\n",
       "</table>\n",
       "</div>"
      ],
      "text/plain": [
       "    area_m2  bld_area_m2  block_area_m2  pred_area_m2  pred_area_pct  \\\n",
       "0  0.808572     0.453670       1.937134      0.892706      -0.395654   \n",
       "1  0.065991    -0.019517       1.937134      0.090725      -0.472954   \n",
       "\n",
       "   bld_pred_area_pct  \n",
       "0          -0.342286  \n",
       "1          -0.287216  "
      ]
     },
     "execution_count": 6,
     "metadata": {},
     "output_type": "execute_result"
    }
   ],
   "source": [
    "category = 'edification'\n",
    "pca_cat_cols = cat_dict[category]\n",
    "gdf_category = gdf[pca_cat_cols].copy()\n",
    "\n",
    "gdf_category[pca_cat_cols] = StandardScaler().fit_transform(np.array(gdf_category[pca_cat_cols]))\n",
    "print(gdf_category.shape)\n",
    "gdf_category.head(2)"
   ]
  },
  {
   "cell_type": "code",
   "execution_count": 7,
   "id": "83bd652d-dafa-4a5f-80d9-421471a200d9",
   "metadata": {},
   "outputs": [],
   "source": [
    "num_comp = 4\n",
    "\n",
    "pca = PCA(n_components=num_comp)\n",
    "\n",
    "x = gdf_category.loc[:, pca_cat_cols].values\n",
    "\n",
    "principalComponents = pca.fit_transform(x)"
   ]
  },
  {
   "cell_type": "code",
   "execution_count": 8,
   "id": "0a85c08d-d581-4264-80b6-768afdb669c8",
   "metadata": {},
   "outputs": [
    {
     "name": "stdout",
     "output_type": "stream",
     "text": [
      "Explained ratio: [0.37276284 0.20153351 0.17243244 0.13192038] Explained variance: 0.8786491756444276\n"
     ]
    }
   ],
   "source": [
    "print('Explained ratio:',pca.explained_variance_ratio_,'Explained variance:',pca.explained_variance_ratio_.sum())"
   ]
  },
  {
   "cell_type": "code",
   "execution_count": 9,
   "id": "50c106ea-295f-43f5-b72b-84ec84d7dac1",
   "metadata": {},
   "outputs": [
    {
     "name": "stdout",
     "output_type": "stream",
     "text": [
      "(37061, 5)\n"
     ]
    },
    {
     "data": {
      "text/html": [
       "<div>\n",
       "<style scoped>\n",
       "    .dataframe tbody tr th:only-of-type {\n",
       "        vertical-align: middle;\n",
       "    }\n",
       "\n",
       "    .dataframe tbody tr th {\n",
       "        vertical-align: top;\n",
       "    }\n",
       "\n",
       "    .dataframe thead th {\n",
       "        text-align: right;\n",
       "    }\n",
       "</style>\n",
       "<table border=\"1\" class=\"dataframe\">\n",
       "  <thead>\n",
       "    <tr style=\"text-align: right;\">\n",
       "      <th></th>\n",
       "      <th>fid</th>\n",
       "      <th>ed_pc_1</th>\n",
       "      <th>ed_pc_2</th>\n",
       "      <th>ed_pc_3</th>\n",
       "      <th>ed_pc_4</th>\n",
       "    </tr>\n",
       "  </thead>\n",
       "  <tbody>\n",
       "    <tr>\n",
       "      <th>0</th>\n",
       "      <td>0</td>\n",
       "      <td>1.676070</td>\n",
       "      <td>-1.43937</td>\n",
       "      <td>0.374140</td>\n",
       "      <td>0.489116</td>\n",
       "    </tr>\n",
       "    <tr>\n",
       "      <th>1</th>\n",
       "      <td>1</td>\n",
       "      <td>0.531907</td>\n",
       "      <td>-1.58021</td>\n",
       "      <td>0.359315</td>\n",
       "      <td>0.492876</td>\n",
       "    </tr>\n",
       "  </tbody>\n",
       "</table>\n",
       "</div>"
      ],
      "text/plain": [
       "   fid   ed_pc_1  ed_pc_2   ed_pc_3   ed_pc_4\n",
       "0    0  1.676070 -1.43937  0.374140  0.489116\n",
       "1    1  0.531907 -1.58021  0.359315  0.492876"
      ]
     },
     "execution_count": 9,
     "metadata": {},
     "output_type": "execute_result"
    }
   ],
   "source": [
    "gdf_edif_pca = gdf[['fid']].copy()\n",
    "\n",
    "for nc in range(num_comp):\n",
    "    gdf_edif_pca.loc[:,[f'ed_pc_{nc+1}']] = np.nan\n",
    "    gdf_edif_pca.loc[:,f'ed_pc_{nc+1}'] = principalComponents[:,nc].copy()\n",
    "\n",
    "print(gdf_edif_pca.shape)\n",
    "gdf_edif_pca.head(2)"
   ]
  },
  {
   "cell_type": "markdown",
   "id": "1a5f38a0-f75f-47ff-bb56-4f3ea3d89bb8",
   "metadata": {},
   "source": [
    "Land use"
   ]
  },
  {
   "cell_type": "code",
   "execution_count": 10,
   "id": "5d6ea7bb-ac31-4c10-a7a0-cab684144788",
   "metadata": {},
   "outputs": [
    {
     "name": "stdout",
     "output_type": "stream",
     "text": [
      "(37061, 10)\n"
     ]
    },
    {
     "data": {
      "text/html": [
       "<div>\n",
       "<style scoped>\n",
       "    .dataframe tbody tr th:only-of-type {\n",
       "        vertical-align: middle;\n",
       "    }\n",
       "\n",
       "    .dataframe tbody tr th {\n",
       "        vertical-align: top;\n",
       "    }\n",
       "\n",
       "    .dataframe thead th {\n",
       "        text-align: right;\n",
       "    }\n",
       "</style>\n",
       "<table border=\"1\" class=\"dataframe\">\n",
       "  <thead>\n",
       "    <tr style=\"text-align: right;\">\n",
       "      <th></th>\n",
       "      <th>uso_tot</th>\n",
       "      <th>pobtot</th>\n",
       "      <th>pct_habitacional</th>\n",
       "      <th>pct_cultural_recreativo</th>\n",
       "      <th>pct_servicios</th>\n",
       "      <th>pct_comercio</th>\n",
       "      <th>pct_salud</th>\n",
       "      <th>pct_educacion</th>\n",
       "      <th>pct_gobierno</th>\n",
       "      <th>pct_industria</th>\n",
       "    </tr>\n",
       "  </thead>\n",
       "  <tbody>\n",
       "    <tr>\n",
       "      <th>0</th>\n",
       "      <td>-0.156381</td>\n",
       "      <td>-0.741551</td>\n",
       "      <td>-2.171355</td>\n",
       "      <td>-0.109823</td>\n",
       "      <td>3.302285</td>\n",
       "      <td>0.864476</td>\n",
       "      <td>-0.16301</td>\n",
       "      <td>-0.164679</td>\n",
       "      <td>-0.0592</td>\n",
       "      <td>0.140592</td>\n",
       "    </tr>\n",
       "    <tr>\n",
       "      <th>1</th>\n",
       "      <td>1.592420</td>\n",
       "      <td>-0.741551</td>\n",
       "      <td>-2.171355</td>\n",
       "      <td>-0.109823</td>\n",
       "      <td>2.532253</td>\n",
       "      <td>1.519257</td>\n",
       "      <td>-0.16301</td>\n",
       "      <td>-0.164679</td>\n",
       "      <td>-0.0592</td>\n",
       "      <td>0.489255</td>\n",
       "    </tr>\n",
       "  </tbody>\n",
       "</table>\n",
       "</div>"
      ],
      "text/plain": [
       "    uso_tot    pobtot  pct_habitacional  pct_cultural_recreativo  \\\n",
       "0 -0.156381 -0.741551         -2.171355                -0.109823   \n",
       "1  1.592420 -0.741551         -2.171355                -0.109823   \n",
       "\n",
       "   pct_servicios  pct_comercio  pct_salud  pct_educacion  pct_gobierno  \\\n",
       "0       3.302285      0.864476   -0.16301      -0.164679       -0.0592   \n",
       "1       2.532253      1.519257   -0.16301      -0.164679       -0.0592   \n",
       "\n",
       "   pct_industria  \n",
       "0       0.140592  \n",
       "1       0.489255  "
      ]
     },
     "execution_count": 10,
     "metadata": {},
     "output_type": "execute_result"
    }
   ],
   "source": [
    "category = 'landuse'\n",
    "pca_cat_cols = cat_dict[category]\n",
    "gdf_category = gdf[pca_cat_cols].copy()\n",
    "\n",
    "gdf_category[pca_cat_cols] = StandardScaler().fit_transform(np.array(gdf_category[pca_cat_cols]))\n",
    "print(gdf_category.shape)\n",
    "gdf_category.head(2)"
   ]
  },
  {
   "cell_type": "code",
   "execution_count": 11,
   "id": "9d94b209-7e6c-4e03-a505-88e3a706c969",
   "metadata": {},
   "outputs": [],
   "source": [
    "num_comp = 10\n",
    "\n",
    "pca = PCA(n_components=num_comp)\n",
    "\n",
    "x = gdf_category.loc[:, pca_cat_cols].values\n",
    "\n",
    "principalComponents = pca.fit_transform(x)"
   ]
  },
  {
   "cell_type": "code",
   "execution_count": 12,
   "id": "00818564-a79f-455e-8efe-a0e0c4644722",
   "metadata": {},
   "outputs": [
    {
     "name": "stdout",
     "output_type": "stream",
     "text": [
      "Explained ratio: [0.22470471 0.10902397 0.10090101 0.1005064  0.09920605 0.09907378\n",
      " 0.0916686  0.08919888 0.07634324 0.00937337] Explained variance: 1.0\n"
     ]
    }
   ],
   "source": [
    "print('Explained ratio:',pca.explained_variance_ratio_,'Explained variance:',pca.explained_variance_ratio_.sum())"
   ]
  },
  {
   "cell_type": "code",
   "execution_count": 13,
   "id": "d2ce14b0-fdfb-4bd5-9ce7-adf869d3676d",
   "metadata": {},
   "outputs": [
    {
     "name": "stdout",
     "output_type": "stream",
     "text": [
      "(37061, 11)\n"
     ]
    },
    {
     "data": {
      "text/html": [
       "<div>\n",
       "<style scoped>\n",
       "    .dataframe tbody tr th:only-of-type {\n",
       "        vertical-align: middle;\n",
       "    }\n",
       "\n",
       "    .dataframe tbody tr th {\n",
       "        vertical-align: top;\n",
       "    }\n",
       "\n",
       "    .dataframe thead th {\n",
       "        text-align: right;\n",
       "    }\n",
       "</style>\n",
       "<table border=\"1\" class=\"dataframe\">\n",
       "  <thead>\n",
       "    <tr style=\"text-align: right;\">\n",
       "      <th></th>\n",
       "      <th>fid</th>\n",
       "      <th>land_pc_1</th>\n",
       "      <th>land_pc_2</th>\n",
       "      <th>land_pc_3</th>\n",
       "      <th>land_pc_4</th>\n",
       "      <th>land_pc_5</th>\n",
       "      <th>land_pc_6</th>\n",
       "      <th>land_pc_7</th>\n",
       "      <th>land_pc_8</th>\n",
       "      <th>land_pc_9</th>\n",
       "      <th>land_pc_10</th>\n",
       "    </tr>\n",
       "  </thead>\n",
       "  <tbody>\n",
       "    <tr>\n",
       "      <th>0</th>\n",
       "      <td>0</td>\n",
       "      <td>-2.740196</td>\n",
       "      <td>-0.544843</td>\n",
       "      <td>-2.220966</td>\n",
       "      <td>0.279865</td>\n",
       "      <td>-0.722421</td>\n",
       "      <td>-0.112818</td>\n",
       "      <td>-1.574062</td>\n",
       "      <td>-0.691726</td>\n",
       "      <td>-0.823506</td>\n",
       "      <td>0.212314</td>\n",
       "    </tr>\n",
       "    <tr>\n",
       "      <th>1</th>\n",
       "      <td>1</td>\n",
       "      <td>-3.421711</td>\n",
       "      <td>-0.048898</td>\n",
       "      <td>-1.533175</td>\n",
       "      <td>0.009171</td>\n",
       "      <td>-0.636961</td>\n",
       "      <td>-0.420553</td>\n",
       "      <td>-0.815024</td>\n",
       "      <td>-1.043645</td>\n",
       "      <td>0.639172</td>\n",
       "      <td>0.154155</td>\n",
       "    </tr>\n",
       "  </tbody>\n",
       "</table>\n",
       "</div>"
      ],
      "text/plain": [
       "   fid  land_pc_1  land_pc_2  land_pc_3  land_pc_4  land_pc_5  land_pc_6  \\\n",
       "0    0  -2.740196  -0.544843  -2.220966   0.279865  -0.722421  -0.112818   \n",
       "1    1  -3.421711  -0.048898  -1.533175   0.009171  -0.636961  -0.420553   \n",
       "\n",
       "   land_pc_7  land_pc_8  land_pc_9  land_pc_10  \n",
       "0  -1.574062  -0.691726  -0.823506    0.212314  \n",
       "1  -0.815024  -1.043645   0.639172    0.154155  "
      ]
     },
     "execution_count": 13,
     "metadata": {},
     "output_type": "execute_result"
    }
   ],
   "source": [
    "gdf_land_pca = gdf[['fid']].copy()\n",
    "\n",
    "for nc in range(num_comp):\n",
    "    gdf_land_pca.loc[:,[f'land_pc_{nc+1}']] = np.nan\n",
    "    gdf_land_pca.loc[:,f'land_pc_{nc+1}'] = principalComponents[:,nc].copy()\n",
    "\n",
    "print(gdf_land_pca.shape)\n",
    "gdf_land_pca.head(2)"
   ]
  },
  {
   "cell_type": "markdown",
   "id": "81d8aeed-2515-47d5-b80e-81364af69d5f",
   "metadata": {},
   "source": [
    "Environment"
   ]
  },
  {
   "cell_type": "code",
   "execution_count": 14,
   "id": "c08c8286-dd58-4159-a174-4fa8598fb069",
   "metadata": {},
   "outputs": [
    {
     "name": "stdout",
     "output_type": "stream",
     "text": [
      "(37061, 3)\n"
     ]
    },
    {
     "data": {
      "text/html": [
       "<div>\n",
       "<style scoped>\n",
       "    .dataframe tbody tr th:only-of-type {\n",
       "        vertical-align: middle;\n",
       "    }\n",
       "\n",
       "    .dataframe tbody tr th {\n",
       "        vertical-align: top;\n",
       "    }\n",
       "\n",
       "    .dataframe thead th {\n",
       "        text-align: right;\n",
       "    }\n",
       "</style>\n",
       "<table border=\"1\" class=\"dataframe\">\n",
       "  <thead>\n",
       "    <tr style=\"text-align: right;\">\n",
       "      <th></th>\n",
       "      <th>temperature_mean_diff</th>\n",
       "      <th>ndvi_mean</th>\n",
       "      <th>ndmi_diff</th>\n",
       "    </tr>\n",
       "  </thead>\n",
       "  <tbody>\n",
       "    <tr>\n",
       "      <th>0</th>\n",
       "      <td>0.351306</td>\n",
       "      <td>0.903285</td>\n",
       "      <td>0.838479</td>\n",
       "    </tr>\n",
       "    <tr>\n",
       "      <th>1</th>\n",
       "      <td>0.992280</td>\n",
       "      <td>1.212838</td>\n",
       "      <td>0.354323</td>\n",
       "    </tr>\n",
       "  </tbody>\n",
       "</table>\n",
       "</div>"
      ],
      "text/plain": [
       "   temperature_mean_diff  ndvi_mean  ndmi_diff\n",
       "0               0.351306   0.903285   0.838479\n",
       "1               0.992280   1.212838   0.354323"
      ]
     },
     "execution_count": 14,
     "metadata": {},
     "output_type": "execute_result"
    }
   ],
   "source": [
    "category = 'environment'\n",
    "pca_cat_cols = cat_dict[category]\n",
    "gdf_category = gdf[pca_cat_cols].copy()\n",
    "\n",
    "gdf_category[pca_cat_cols] = StandardScaler().fit_transform(np.array(gdf_category[pca_cat_cols]))\n",
    "print(gdf_category.shape)\n",
    "gdf_category.head(2)"
   ]
  },
  {
   "cell_type": "code",
   "execution_count": 15,
   "id": "d9e2d13b-567f-48af-a581-39c974bced34",
   "metadata": {},
   "outputs": [],
   "source": [
    "num_comp = 3\n",
    "\n",
    "pca = PCA(n_components=num_comp)\n",
    "\n",
    "x = gdf_category.loc[:, pca_cat_cols].values\n",
    "\n",
    "principalComponents = pca.fit_transform(x)"
   ]
  },
  {
   "cell_type": "code",
   "execution_count": 16,
   "id": "8ae1f605-60f9-4462-8437-de93c6371050",
   "metadata": {},
   "outputs": [
    {
     "name": "stdout",
     "output_type": "stream",
     "text": [
      "Explained ratio: [0.66310312 0.26154455 0.07535233] Explained variance: 1.0\n"
     ]
    }
   ],
   "source": [
    "print('Explained ratio:',pca.explained_variance_ratio_,'Explained variance:',pca.explained_variance_ratio_.sum())"
   ]
  },
  {
   "cell_type": "code",
   "execution_count": 17,
   "id": "dc0b560e-5a5a-4937-8669-9d95ec8bbd89",
   "metadata": {
    "scrolled": true
   },
   "outputs": [
    {
     "name": "stdout",
     "output_type": "stream",
     "text": [
      "(37061, 4)\n"
     ]
    },
    {
     "data": {
      "text/html": [
       "<div>\n",
       "<style scoped>\n",
       "    .dataframe tbody tr th:only-of-type {\n",
       "        vertical-align: middle;\n",
       "    }\n",
       "\n",
       "    .dataframe tbody tr th {\n",
       "        vertical-align: top;\n",
       "    }\n",
       "\n",
       "    .dataframe thead th {\n",
       "        text-align: right;\n",
       "    }\n",
       "</style>\n",
       "<table border=\"1\" class=\"dataframe\">\n",
       "  <thead>\n",
       "    <tr style=\"text-align: right;\">\n",
       "      <th></th>\n",
       "      <th>fid</th>\n",
       "      <th>env_pc_1</th>\n",
       "      <th>env_pc_2</th>\n",
       "      <th>env_pc_3</th>\n",
       "    </tr>\n",
       "  </thead>\n",
       "  <tbody>\n",
       "    <tr>\n",
       "      <th>0</th>\n",
       "      <td>0</td>\n",
       "      <td>1.210008</td>\n",
       "      <td>0.387314</td>\n",
       "      <td>0.168089</td>\n",
       "    </tr>\n",
       "    <tr>\n",
       "      <th>1</th>\n",
       "      <td>1</td>\n",
       "      <td>1.537267</td>\n",
       "      <td>-0.406541</td>\n",
       "      <td>0.229506</td>\n",
       "    </tr>\n",
       "  </tbody>\n",
       "</table>\n",
       "</div>"
      ],
      "text/plain": [
       "   fid  env_pc_1  env_pc_2  env_pc_3\n",
       "0    0  1.210008  0.387314  0.168089\n",
       "1    1  1.537267 -0.406541  0.229506"
      ]
     },
     "execution_count": 17,
     "metadata": {},
     "output_type": "execute_result"
    }
   ],
   "source": [
    "gdf_env_pca = gdf[['fid']].copy()\n",
    "\n",
    "for nc in range(num_comp):\n",
    "    gdf_env_pca.loc[:,[f'env_pc_{nc+1}']] = np.nan\n",
    "    gdf_env_pca.loc[:,f'env_pc_{nc+1}'] = principalComponents[:,nc].copy()\n",
    "\n",
    "print(gdf_env_pca.shape)\n",
    "gdf_env_pca.head(2)"
   ]
  },
  {
   "cell_type": "markdown",
   "id": "62935d2f-6c66-452b-a4f8-86349974c6e4",
   "metadata": {},
   "source": [
    "Proximity"
   ]
  },
  {
   "cell_type": "code",
   "execution_count": 18,
   "id": "9b0907b5-445e-4d64-87fa-96cfc74a324b",
   "metadata": {},
   "outputs": [
    {
     "name": "stdout",
     "output_type": "stream",
     "text": [
      "(37061, 10)\n"
     ]
    },
    {
     "data": {
      "text/html": [
       "<div>\n",
       "<style scoped>\n",
       "    .dataframe tbody tr th:only-of-type {\n",
       "        vertical-align: middle;\n",
       "    }\n",
       "\n",
       "    .dataframe tbody tr th {\n",
       "        vertical-align: top;\n",
       "    }\n",
       "\n",
       "    .dataframe thead th {\n",
       "        text-align: right;\n",
       "    }\n",
       "</style>\n",
       "<table border=\"1\" class=\"dataframe\">\n",
       "  <thead>\n",
       "    <tr style=\"text-align: right;\">\n",
       "      <th></th>\n",
       "      <th>denue_primaria</th>\n",
       "      <th>denue_primaria_15min</th>\n",
       "      <th>denue_abarrotes</th>\n",
       "      <th>denue_abarrotes_15min</th>\n",
       "      <th>denue_peluqueria</th>\n",
       "      <th>denue_peluqueria_15min</th>\n",
       "      <th>denue_lavanderia</th>\n",
       "      <th>denue_lavanderia_15min</th>\n",
       "      <th>clues_primer_nivel</th>\n",
       "      <th>clues_primer_nivel_15min</th>\n",
       "    </tr>\n",
       "  </thead>\n",
       "  <tbody>\n",
       "    <tr>\n",
       "      <th>0</th>\n",
       "      <td>0.449233</td>\n",
       "      <td>-0.939193</td>\n",
       "      <td>-0.003986</td>\n",
       "      <td>-0.440895</td>\n",
       "      <td>0.350071</td>\n",
       "      <td>-0.864776</td>\n",
       "      <td>0.028797</td>\n",
       "      <td>-0.641769</td>\n",
       "      <td>0.429168</td>\n",
       "      <td>-0.883059</td>\n",
       "    </tr>\n",
       "    <tr>\n",
       "      <th>1</th>\n",
       "      <td>0.455974</td>\n",
       "      <td>-0.939193</td>\n",
       "      <td>-0.227137</td>\n",
       "      <td>-0.662231</td>\n",
       "      <td>0.023828</td>\n",
       "      <td>-0.914549</td>\n",
       "      <td>-0.251831</td>\n",
       "      <td>-0.887676</td>\n",
       "      <td>0.627510</td>\n",
       "      <td>-1.103894</td>\n",
       "    </tr>\n",
       "  </tbody>\n",
       "</table>\n",
       "</div>"
      ],
      "text/plain": [
       "   denue_primaria  denue_primaria_15min  denue_abarrotes  \\\n",
       "0        0.449233             -0.939193        -0.003986   \n",
       "1        0.455974             -0.939193        -0.227137   \n",
       "\n",
       "   denue_abarrotes_15min  denue_peluqueria  denue_peluqueria_15min  \\\n",
       "0              -0.440895          0.350071               -0.864776   \n",
       "1              -0.662231          0.023828               -0.914549   \n",
       "\n",
       "   denue_lavanderia  denue_lavanderia_15min  clues_primer_nivel  \\\n",
       "0          0.028797               -0.641769            0.429168   \n",
       "1         -0.251831               -0.887676            0.627510   \n",
       "\n",
       "   clues_primer_nivel_15min  \n",
       "0                 -0.883059  \n",
       "1                 -1.103894  "
      ]
     },
     "execution_count": 18,
     "metadata": {},
     "output_type": "execute_result"
    }
   ],
   "source": [
    "category = 'proximity'\n",
    "pca_cat_cols = cat_dict[category]\n",
    "gdf_category = gdf[pca_cat_cols].copy()\n",
    "\n",
    "gdf_category[pca_cat_cols] = StandardScaler().fit_transform(np.array(gdf_category[pca_cat_cols]))\n",
    "print(gdf_category.shape)\n",
    "gdf_category.head(2)"
   ]
  },
  {
   "cell_type": "code",
   "execution_count": 19,
   "id": "6be6d2f0-44eb-4fd4-b95d-8d9c557bdf09",
   "metadata": {},
   "outputs": [],
   "source": [
    "num_comp = 5\n",
    "\n",
    "pca = PCA(n_components=num_comp)\n",
    "\n",
    "x = gdf_category.loc[:, pca_cat_cols].values\n",
    "\n",
    "principalComponents = pca.fit_transform(x)"
   ]
  },
  {
   "cell_type": "code",
   "execution_count": 20,
   "id": "d5de42e9-b58f-4a30-aeea-4d3fdabfad90",
   "metadata": {},
   "outputs": [
    {
     "name": "stdout",
     "output_type": "stream",
     "text": [
      "Explained ratio: [0.65691129 0.10455204 0.09342311 0.05668719 0.02637252] Explained variance: 0.9379461361521335\n"
     ]
    }
   ],
   "source": [
    "print('Explained ratio:',pca.explained_variance_ratio_,'Explained variance:',pca.explained_variance_ratio_.sum())"
   ]
  },
  {
   "cell_type": "code",
   "execution_count": 21,
   "id": "f4e7b3aa-e379-4714-a486-f7f43d338e16",
   "metadata": {
    "scrolled": true
   },
   "outputs": [
    {
     "name": "stdout",
     "output_type": "stream",
     "text": [
      "(37061, 6)\n"
     ]
    },
    {
     "data": {
      "text/html": [
       "<div>\n",
       "<style scoped>\n",
       "    .dataframe tbody tr th:only-of-type {\n",
       "        vertical-align: middle;\n",
       "    }\n",
       "\n",
       "    .dataframe tbody tr th {\n",
       "        vertical-align: top;\n",
       "    }\n",
       "\n",
       "    .dataframe thead th {\n",
       "        text-align: right;\n",
       "    }\n",
       "</style>\n",
       "<table border=\"1\" class=\"dataframe\">\n",
       "  <thead>\n",
       "    <tr style=\"text-align: right;\">\n",
       "      <th></th>\n",
       "      <th>fid</th>\n",
       "      <th>prox_pc_1</th>\n",
       "      <th>prox_pc_2</th>\n",
       "      <th>prox_pc_3</th>\n",
       "      <th>prox_pc_4</th>\n",
       "      <th>prox_pc_5</th>\n",
       "    </tr>\n",
       "  </thead>\n",
       "  <tbody>\n",
       "    <tr>\n",
       "      <th>0</th>\n",
       "      <td>0</td>\n",
       "      <td>1.539463</td>\n",
       "      <td>-0.508860</td>\n",
       "      <td>-0.826083</td>\n",
       "      <td>0.127111</td>\n",
       "      <td>-0.047013</td>\n",
       "    </tr>\n",
       "    <tr>\n",
       "      <th>1</th>\n",
       "      <td>1</td>\n",
       "      <td>1.550065</td>\n",
       "      <td>-0.779107</td>\n",
       "      <td>-1.310135</td>\n",
       "      <td>0.325811</td>\n",
       "      <td>0.040981</td>\n",
       "    </tr>\n",
       "  </tbody>\n",
       "</table>\n",
       "</div>"
      ],
      "text/plain": [
       "   fid  prox_pc_1  prox_pc_2  prox_pc_3  prox_pc_4  prox_pc_5\n",
       "0    0   1.539463  -0.508860  -0.826083   0.127111  -0.047013\n",
       "1    1   1.550065  -0.779107  -1.310135   0.325811   0.040981"
      ]
     },
     "execution_count": 21,
     "metadata": {},
     "output_type": "execute_result"
    }
   ],
   "source": [
    "gdf_prox_pca = gdf[['fid']].copy()\n",
    "\n",
    "for nc in range(num_comp):\n",
    "    gdf_prox_pca.loc[:,[f'prox_pc_{nc+1}']] = np.nan\n",
    "    gdf_prox_pca.loc[:,f'prox_pc_{nc+1}'] = principalComponents[:,nc].copy()\n",
    "\n",
    "print(gdf_prox_pca.shape)\n",
    "gdf_prox_pca.head(2)"
   ]
  },
  {
   "cell_type": "markdown",
   "id": "f59eea87-5055-467b-bff1-3f9dabb2e6a8",
   "metadata": {},
   "source": [
    "Merge PCA data"
   ]
  },
  {
   "cell_type": "code",
   "execution_count": 22,
   "id": "849c2033-e8d0-4009-a34d-b1c61898a5fd",
   "metadata": {},
   "outputs": [
    {
     "name": "stdout",
     "output_type": "stream",
     "text": [
      "(37061, 23)\n"
     ]
    },
    {
     "data": {
      "text/html": [
       "<div>\n",
       "<style scoped>\n",
       "    .dataframe tbody tr th:only-of-type {\n",
       "        vertical-align: middle;\n",
       "    }\n",
       "\n",
       "    .dataframe tbody tr th {\n",
       "        vertical-align: top;\n",
       "    }\n",
       "\n",
       "    .dataframe thead th {\n",
       "        text-align: right;\n",
       "    }\n",
       "</style>\n",
       "<table border=\"1\" class=\"dataframe\">\n",
       "  <thead>\n",
       "    <tr style=\"text-align: right;\">\n",
       "      <th></th>\n",
       "      <th>fid</th>\n",
       "      <th>ed_pc_1</th>\n",
       "      <th>ed_pc_2</th>\n",
       "      <th>ed_pc_3</th>\n",
       "      <th>ed_pc_4</th>\n",
       "      <th>land_pc_1</th>\n",
       "      <th>land_pc_2</th>\n",
       "      <th>land_pc_3</th>\n",
       "      <th>land_pc_4</th>\n",
       "      <th>land_pc_5</th>\n",
       "      <th>...</th>\n",
       "      <th>land_pc_9</th>\n",
       "      <th>land_pc_10</th>\n",
       "      <th>env_pc_1</th>\n",
       "      <th>env_pc_2</th>\n",
       "      <th>env_pc_3</th>\n",
       "      <th>prox_pc_1</th>\n",
       "      <th>prox_pc_2</th>\n",
       "      <th>prox_pc_3</th>\n",
       "      <th>prox_pc_4</th>\n",
       "      <th>prox_pc_5</th>\n",
       "    </tr>\n",
       "  </thead>\n",
       "  <tbody>\n",
       "    <tr>\n",
       "      <th>0</th>\n",
       "      <td>0</td>\n",
       "      <td>1.676070</td>\n",
       "      <td>-1.43937</td>\n",
       "      <td>0.374140</td>\n",
       "      <td>0.489116</td>\n",
       "      <td>-2.740196</td>\n",
       "      <td>-0.544843</td>\n",
       "      <td>-2.220966</td>\n",
       "      <td>0.279865</td>\n",
       "      <td>-0.722421</td>\n",
       "      <td>...</td>\n",
       "      <td>-0.823506</td>\n",
       "      <td>0.212314</td>\n",
       "      <td>1.210008</td>\n",
       "      <td>0.387314</td>\n",
       "      <td>0.168089</td>\n",
       "      <td>1.539463</td>\n",
       "      <td>-0.508860</td>\n",
       "      <td>-0.826083</td>\n",
       "      <td>0.127111</td>\n",
       "      <td>-0.047013</td>\n",
       "    </tr>\n",
       "    <tr>\n",
       "      <th>1</th>\n",
       "      <td>1</td>\n",
       "      <td>0.531907</td>\n",
       "      <td>-1.58021</td>\n",
       "      <td>0.359315</td>\n",
       "      <td>0.492876</td>\n",
       "      <td>-3.421711</td>\n",
       "      <td>-0.048898</td>\n",
       "      <td>-1.533175</td>\n",
       "      <td>0.009171</td>\n",
       "      <td>-0.636961</td>\n",
       "      <td>...</td>\n",
       "      <td>0.639172</td>\n",
       "      <td>0.154155</td>\n",
       "      <td>1.537267</td>\n",
       "      <td>-0.406541</td>\n",
       "      <td>0.229506</td>\n",
       "      <td>1.550065</td>\n",
       "      <td>-0.779107</td>\n",
       "      <td>-1.310135</td>\n",
       "      <td>0.325811</td>\n",
       "      <td>0.040981</td>\n",
       "    </tr>\n",
       "  </tbody>\n",
       "</table>\n",
       "<p>2 rows × 23 columns</p>\n",
       "</div>"
      ],
      "text/plain": [
       "   fid   ed_pc_1  ed_pc_2   ed_pc_3   ed_pc_4  land_pc_1  land_pc_2  \\\n",
       "0    0  1.676070 -1.43937  0.374140  0.489116  -2.740196  -0.544843   \n",
       "1    1  0.531907 -1.58021  0.359315  0.492876  -3.421711  -0.048898   \n",
       "\n",
       "   land_pc_3  land_pc_4  land_pc_5  ...  land_pc_9  land_pc_10  env_pc_1  \\\n",
       "0  -2.220966   0.279865  -0.722421  ...  -0.823506    0.212314  1.210008   \n",
       "1  -1.533175   0.009171  -0.636961  ...   0.639172    0.154155  1.537267   \n",
       "\n",
       "   env_pc_2  env_pc_3  prox_pc_1  prox_pc_2  prox_pc_3  prox_pc_4  prox_pc_5  \n",
       "0  0.387314  0.168089   1.539463  -0.508860  -0.826083   0.127111  -0.047013  \n",
       "1 -0.406541  0.229506   1.550065  -0.779107  -1.310135   0.325811   0.040981  \n",
       "\n",
       "[2 rows x 23 columns]"
      ]
     },
     "execution_count": 22,
     "metadata": {},
     "output_type": "execute_result"
    }
   ],
   "source": [
    "gdf_pca = gdf_edif_pca.merge(gdf_land_pca, on='fid')\n",
    "gdf_pca = gdf_pca.merge(gdf_env_pca, on='fid')\n",
    "gdf_pca = gdf_pca.merge(gdf_prox_pca, on='fid')\n",
    "\n",
    "print(gdf_pca.shape)\n",
    "gdf_pca.head(2)"
   ]
  },
  {
   "cell_type": "markdown",
   "id": "404fffb4-0dae-4a6d-b803-8a59e8d6f38a",
   "metadata": {},
   "source": [
    "Divide X and Y data"
   ]
  },
  {
   "cell_type": "code",
   "execution_count": 23,
   "id": "fa4380e9-357d-4e00-9769-40c8c0cebc41",
   "metadata": {},
   "outputs": [],
   "source": [
    "X = gdf_pca.drop(columns='fid').to_numpy()\n",
    "\n",
    "Y = gdf[['uso_suelo']].to_numpy()\n",
    "Y = np.reshape(Y, shape=(Y.shape[0],))"
   ]
  },
  {
   "cell_type": "markdown",
   "id": "df1e46b8-1eaa-44d7-900c-2a6f768a90b5",
   "metadata": {},
   "source": [
    "Standarize and encode data"
   ]
  },
  {
   "cell_type": "code",
   "execution_count": 24,
   "id": "3f06d04f-a832-4c05-9a08-9f0e616b444f",
   "metadata": {},
   "outputs": [],
   "source": [
    "encoder = LabelEncoder()\n",
    "encoder.fit(Y)\n",
    "encoded_Y = encoder.transform(Y)"
   ]
  },
  {
   "cell_type": "markdown",
   "id": "9dbfb3d4-6910-46c5-99cf-4dbbf5e88c9b",
   "metadata": {},
   "source": [
    "Divide training, validation and testing data"
   ]
  },
  {
   "cell_type": "code",
   "execution_count": 25,
   "id": "f9797b9d-ac16-4aaa-8ea3-c3091ea21ee8",
   "metadata": {},
   "outputs": [],
   "source": [
    "X_model, X_test, y_model, y_test = (train_test_split(X, encoded_Y, test_size=0.2, random_state=0))"
   ]
  },
  {
   "cell_type": "code",
   "execution_count": 26,
   "id": "3cc9fb5c-b1c7-4ff5-8b03-911be6b6945c",
   "metadata": {},
   "outputs": [],
   "source": [
    "smote = SMOTE()  \n",
    "X_resampled, y_resampled = smote.fit_resample(X_model, y_model)  "
   ]
  },
  {
   "cell_type": "code",
   "execution_count": 27,
   "id": "47bccdc0-6859-416f-951f-96474f6877e5",
   "metadata": {},
   "outputs": [],
   "source": [
    "X_train, X_val, y_train, y_val = (train_test_split(X_resampled, y_resampled, test_size=0.2, random_state=0))"
   ]
  },
  {
   "cell_type": "markdown",
   "id": "2c7831e0-c32a-43d9-8d12-48376bbaa159",
   "metadata": {},
   "source": [
    "Y data to categorical"
   ]
  },
  {
   "cell_type": "code",
   "execution_count": 28,
   "id": "1096d345-b301-4f9b-9f9c-f0c03151b510",
   "metadata": {},
   "outputs": [],
   "source": [
    "# encode class values as integers\n",
    "num_classes = len(gdf.uso_suelo.unique())\n",
    "\n",
    "# convert integers to dummy variables (i.e. one hot encoded)\n",
    "y_train = utils.to_categorical(y_train, num_classes)\n",
    "\n",
    "# convert integers to dummy variables (i.e. one hot encoded)\n",
    "y_val = utils.to_categorical(y_val, num_classes)\n",
    "\n",
    "# convert integers to dummy variables (i.e. one hot encoded)\n",
    "y_test = utils.to_categorical(y_test, num_classes)"
   ]
  },
  {
   "cell_type": "markdown",
   "id": "cf34f006-a5f2-40f7-84b5-6fe5fa00a520",
   "metadata": {},
   "source": [
    "### Model construction -- Classification Neural network"
   ]
  },
  {
   "cell_type": "markdown",
   "id": "fe8bf42a-4c24-4006-8e96-4c27a480a4ba",
   "metadata": {},
   "source": [
    "Model parameters"
   ]
  },
  {
   "cell_type": "code",
   "execution_count": 29,
   "id": "9993a00b-b33e-4a12-b5d9-b2452f27f248",
   "metadata": {},
   "outputs": [],
   "source": [
    "input_shape = (X_train.shape[1],)"
   ]
  },
  {
   "cell_type": "code",
   "execution_count": 30,
   "id": "043870aa-55dc-4e8d-a224-3d949b3a0a30",
   "metadata": {},
   "outputs": [
    {
     "name": "stderr",
     "output_type": "stream",
     "text": [
      "/home/edgaregurrola/.cache/pypoetry/virtualenvs/aup-qDsIK5d5-py3.11/lib/python3.11/site-packages/keras/src/layers/core/dense.py:87: UserWarning: Do not pass an `input_shape`/`input_dim` argument to a layer. When using Sequential models, prefer using an `Input(shape)` object as the first layer in the model instead.\n",
      "  super().__init__(activity_regularizer=activity_regularizer, **kwargs)\n",
      "I0000 00:00:1752777278.924924   96672 gpu_device.cc:2019] Created device /job:localhost/replica:0/task:0/device:GPU:0 with 4450 MB memory:  -> device: 0, name: NVIDIA GeForce RTX 4060 Ti, pci bus id: 0000:01:00.0, compute capability: 8.9\n"
     ]
    },
    {
     "data": {
      "text/html": [
       "<pre style=\"white-space:pre;overflow-x:auto;line-height:normal;font-family:Menlo,'DejaVu Sans Mono',consolas,'Courier New',monospace\"><span style=\"font-weight: bold\">Model: \"sequential\"</span>\n",
       "</pre>\n"
      ],
      "text/plain": [
       "\u001b[1mModel: \"sequential\"\u001b[0m\n"
      ]
     },
     "metadata": {},
     "output_type": "display_data"
    },
    {
     "data": {
      "text/html": [
       "<pre style=\"white-space:pre;overflow-x:auto;line-height:normal;font-family:Menlo,'DejaVu Sans Mono',consolas,'Courier New',monospace\">┏━━━━━━━━━━━━━━━━━━━━━━━━━━━━━━━━━┳━━━━━━━━━━━━━━━━━━━━━━━━┳━━━━━━━━━━━━━━━┓\n",
       "┃<span style=\"font-weight: bold\"> Layer (type)                    </span>┃<span style=\"font-weight: bold\"> Output Shape           </span>┃<span style=\"font-weight: bold\">       Param # </span>┃\n",
       "┡━━━━━━━━━━━━━━━━━━━━━━━━━━━━━━━━━╇━━━━━━━━━━━━━━━━━━━━━━━━╇━━━━━━━━━━━━━━━┩\n",
       "│ dense (<span style=\"color: #0087ff; text-decoration-color: #0087ff\">Dense</span>)                   │ (<span style=\"color: #00d7ff; text-decoration-color: #00d7ff\">None</span>, <span style=\"color: #00af00; text-decoration-color: #00af00\">64</span>)             │         <span style=\"color: #00af00; text-decoration-color: #00af00\">1,472</span> │\n",
       "├─────────────────────────────────┼────────────────────────┼───────────────┤\n",
       "│ activation (<span style=\"color: #0087ff; text-decoration-color: #0087ff\">Activation</span>)         │ (<span style=\"color: #00d7ff; text-decoration-color: #00d7ff\">None</span>, <span style=\"color: #00af00; text-decoration-color: #00af00\">64</span>)             │             <span style=\"color: #00af00; text-decoration-color: #00af00\">0</span> │\n",
       "├─────────────────────────────────┼────────────────────────┼───────────────┤\n",
       "│ dropout (<span style=\"color: #0087ff; text-decoration-color: #0087ff\">Dropout</span>)               │ (<span style=\"color: #00d7ff; text-decoration-color: #00d7ff\">None</span>, <span style=\"color: #00af00; text-decoration-color: #00af00\">64</span>)             │             <span style=\"color: #00af00; text-decoration-color: #00af00\">0</span> │\n",
       "├─────────────────────────────────┼────────────────────────┼───────────────┤\n",
       "│ dense_1 (<span style=\"color: #0087ff; text-decoration-color: #0087ff\">Dense</span>)                 │ (<span style=\"color: #00d7ff; text-decoration-color: #00d7ff\">None</span>, <span style=\"color: #00af00; text-decoration-color: #00af00\">64</span>)             │         <span style=\"color: #00af00; text-decoration-color: #00af00\">4,160</span> │\n",
       "├─────────────────────────────────┼────────────────────────┼───────────────┤\n",
       "│ activation_1 (<span style=\"color: #0087ff; text-decoration-color: #0087ff\">Activation</span>)       │ (<span style=\"color: #00d7ff; text-decoration-color: #00d7ff\">None</span>, <span style=\"color: #00af00; text-decoration-color: #00af00\">64</span>)             │             <span style=\"color: #00af00; text-decoration-color: #00af00\">0</span> │\n",
       "├─────────────────────────────────┼────────────────────────┼───────────────┤\n",
       "│ dropout_1 (<span style=\"color: #0087ff; text-decoration-color: #0087ff\">Dropout</span>)             │ (<span style=\"color: #00d7ff; text-decoration-color: #00d7ff\">None</span>, <span style=\"color: #00af00; text-decoration-color: #00af00\">64</span>)             │             <span style=\"color: #00af00; text-decoration-color: #00af00\">0</span> │\n",
       "├─────────────────────────────────┼────────────────────────┼───────────────┤\n",
       "│ dense_2 (<span style=\"color: #0087ff; text-decoration-color: #0087ff\">Dense</span>)                 │ (<span style=\"color: #00d7ff; text-decoration-color: #00d7ff\">None</span>, <span style=\"color: #00af00; text-decoration-color: #00af00\">11</span>)             │           <span style=\"color: #00af00; text-decoration-color: #00af00\">715</span> │\n",
       "├─────────────────────────────────┼────────────────────────┼───────────────┤\n",
       "│ activation_2 (<span style=\"color: #0087ff; text-decoration-color: #0087ff\">Activation</span>)       │ (<span style=\"color: #00d7ff; text-decoration-color: #00d7ff\">None</span>, <span style=\"color: #00af00; text-decoration-color: #00af00\">11</span>)             │             <span style=\"color: #00af00; text-decoration-color: #00af00\">0</span> │\n",
       "└─────────────────────────────────┴────────────────────────┴───────────────┘\n",
       "</pre>\n"
      ],
      "text/plain": [
       "┏━━━━━━━━━━━━━━━━━━━━━━━━━━━━━━━━━┳━━━━━━━━━━━━━━━━━━━━━━━━┳━━━━━━━━━━━━━━━┓\n",
       "┃\u001b[1m \u001b[0m\u001b[1mLayer (type)                   \u001b[0m\u001b[1m \u001b[0m┃\u001b[1m \u001b[0m\u001b[1mOutput Shape          \u001b[0m\u001b[1m \u001b[0m┃\u001b[1m \u001b[0m\u001b[1m      Param #\u001b[0m\u001b[1m \u001b[0m┃\n",
       "┡━━━━━━━━━━━━━━━━━━━━━━━━━━━━━━━━━╇━━━━━━━━━━━━━━━━━━━━━━━━╇━━━━━━━━━━━━━━━┩\n",
       "│ dense (\u001b[38;5;33mDense\u001b[0m)                   │ (\u001b[38;5;45mNone\u001b[0m, \u001b[38;5;34m64\u001b[0m)             │         \u001b[38;5;34m1,472\u001b[0m │\n",
       "├─────────────────────────────────┼────────────────────────┼───────────────┤\n",
       "│ activation (\u001b[38;5;33mActivation\u001b[0m)         │ (\u001b[38;5;45mNone\u001b[0m, \u001b[38;5;34m64\u001b[0m)             │             \u001b[38;5;34m0\u001b[0m │\n",
       "├─────────────────────────────────┼────────────────────────┼───────────────┤\n",
       "│ dropout (\u001b[38;5;33mDropout\u001b[0m)               │ (\u001b[38;5;45mNone\u001b[0m, \u001b[38;5;34m64\u001b[0m)             │             \u001b[38;5;34m0\u001b[0m │\n",
       "├─────────────────────────────────┼────────────────────────┼───────────────┤\n",
       "│ dense_1 (\u001b[38;5;33mDense\u001b[0m)                 │ (\u001b[38;5;45mNone\u001b[0m, \u001b[38;5;34m64\u001b[0m)             │         \u001b[38;5;34m4,160\u001b[0m │\n",
       "├─────────────────────────────────┼────────────────────────┼───────────────┤\n",
       "│ activation_1 (\u001b[38;5;33mActivation\u001b[0m)       │ (\u001b[38;5;45mNone\u001b[0m, \u001b[38;5;34m64\u001b[0m)             │             \u001b[38;5;34m0\u001b[0m │\n",
       "├─────────────────────────────────┼────────────────────────┼───────────────┤\n",
       "│ dropout_1 (\u001b[38;5;33mDropout\u001b[0m)             │ (\u001b[38;5;45mNone\u001b[0m, \u001b[38;5;34m64\u001b[0m)             │             \u001b[38;5;34m0\u001b[0m │\n",
       "├─────────────────────────────────┼────────────────────────┼───────────────┤\n",
       "│ dense_2 (\u001b[38;5;33mDense\u001b[0m)                 │ (\u001b[38;5;45mNone\u001b[0m, \u001b[38;5;34m11\u001b[0m)             │           \u001b[38;5;34m715\u001b[0m │\n",
       "├─────────────────────────────────┼────────────────────────┼───────────────┤\n",
       "│ activation_2 (\u001b[38;5;33mActivation\u001b[0m)       │ (\u001b[38;5;45mNone\u001b[0m, \u001b[38;5;34m11\u001b[0m)             │             \u001b[38;5;34m0\u001b[0m │\n",
       "└─────────────────────────────────┴────────────────────────┴───────────────┘\n"
      ]
     },
     "metadata": {},
     "output_type": "display_data"
    },
    {
     "data": {
      "text/html": [
       "<pre style=\"white-space:pre;overflow-x:auto;line-height:normal;font-family:Menlo,'DejaVu Sans Mono',consolas,'Courier New',monospace\"><span style=\"font-weight: bold\"> Total params: </span><span style=\"color: #00af00; text-decoration-color: #00af00\">6,347</span> (24.79 KB)\n",
       "</pre>\n"
      ],
      "text/plain": [
       "\u001b[1m Total params: \u001b[0m\u001b[38;5;34m6,347\u001b[0m (24.79 KB)\n"
      ]
     },
     "metadata": {},
     "output_type": "display_data"
    },
    {
     "data": {
      "text/html": [
       "<pre style=\"white-space:pre;overflow-x:auto;line-height:normal;font-family:Menlo,'DejaVu Sans Mono',consolas,'Courier New',monospace\"><span style=\"font-weight: bold\"> Trainable params: </span><span style=\"color: #00af00; text-decoration-color: #00af00\">6,347</span> (24.79 KB)\n",
       "</pre>\n"
      ],
      "text/plain": [
       "\u001b[1m Trainable params: \u001b[0m\u001b[38;5;34m6,347\u001b[0m (24.79 KB)\n"
      ]
     },
     "metadata": {},
     "output_type": "display_data"
    },
    {
     "data": {
      "text/html": [
       "<pre style=\"white-space:pre;overflow-x:auto;line-height:normal;font-family:Menlo,'DejaVu Sans Mono',consolas,'Courier New',monospace\"><span style=\"font-weight: bold\"> Non-trainable params: </span><span style=\"color: #00af00; text-decoration-color: #00af00\">0</span> (0.00 B)\n",
       "</pre>\n"
      ],
      "text/plain": [
       "\u001b[1m Non-trainable params: \u001b[0m\u001b[38;5;34m0\u001b[0m (0.00 B)\n"
      ]
     },
     "metadata": {},
     "output_type": "display_data"
    },
    {
     "name": "stdout",
     "output_type": "stream",
     "text": [
      "None\n"
     ]
    }
   ],
   "source": [
    "### Construct Keras model\n",
    "\n",
    "# A sequential model is a linear stack of layers\n",
    "model = Sequential()\n",
    "\n",
    "# First layer: fully-connected with relu activation\n",
    "model.add(Dense(64, input_shape=input_shape))\n",
    "model.add(Activation('relu'))\n",
    "model.add(Dropout(0.25))\n",
    "\n",
    "# Second layer: fully-connected with relu activation\n",
    "model.add(Dense(64))   # Input shape is determined automatically from previous layer\n",
    "model.add(Activation('relu'))\n",
    "model.add(Dropout(0.25))\n",
    "\n",
    "# Third layer: 10 nodes, one for each class, and softmax activation\n",
    "model.add(Dense(num_classes))\n",
    "model.add(Activation('softmax'))\n",
    "\n",
    "# Configure the model's training settings\n",
    "model.compile(loss='categorical_crossentropy', optimizer='adam', metrics=['acc'])\n",
    "\n",
    "# Print out model summary\n",
    "print(model.summary())\n",
    "    "
   ]
  },
  {
   "cell_type": "markdown",
   "id": "4c26e080-97a6-4cba-9f4d-0819e4d63d2b",
   "metadata": {},
   "source": [
    "Model training"
   ]
  },
  {
   "cell_type": "code",
   "execution_count": 31,
   "id": "99d97ff7-8e43-4e5a-b07c-c86c87af4ddc",
   "metadata": {},
   "outputs": [
    {
     "name": "stdout",
     "output_type": "stream",
     "text": [
      "Epoch 1/200\n"
     ]
    },
    {
     "name": "stderr",
     "output_type": "stream",
     "text": [
      "WARNING: All log messages before absl::InitializeLog() is called are written to STDERR\n",
      "I0000 00:00:1752777281.070097   97141 service.cc:152] XLA service 0x7fde9c016520 initialized for platform CUDA (this does not guarantee that XLA will be used). Devices:\n",
      "I0000 00:00:1752777281.070112   97141 service.cc:160]   StreamExecutor device (0): NVIDIA GeForce RTX 4060 Ti, Compute Capability 8.9\n",
      "2025-07-17 12:34:41.082390: I tensorflow/compiler/mlir/tensorflow/utils/dump_mlir_util.cc:269] disabling MLIR crash reproducer, set env var `MLIR_CRASH_REPRODUCER_DIRECTORY` to enable.\n",
      "I0000 00:00:1752777281.144032   97141 cuda_dnn.cc:529] Loaded cuDNN version 90300\n"
     ]
    },
    {
     "name": "stdout",
     "output_type": "stream",
     "text": [
      "\u001b[1m 294/5859\u001b[0m \u001b[32m━\u001b[0m\u001b[37m━━━━━━━━━━━━━━━━━━━\u001b[0m \u001b[1m2s\u001b[0m 516us/step - acc: 0.2177 - loss: 2.2551"
     ]
    },
    {
     "name": "stderr",
     "output_type": "stream",
     "text": [
      "I0000 00:00:1752777281.762670   97141 device_compiler.h:188] Compiled cluster using XLA!  This line is logged at most once for the lifetime of the process.\n"
     ]
    },
    {
     "name": "stdout",
     "output_type": "stream",
     "text": [
      "\u001b[1m5859/5859\u001b[0m \u001b[32m━━━━━━━━━━━━━━━━━━━━\u001b[0m\u001b[37m\u001b[0m \u001b[1m6s\u001b[0m 844us/step - acc: 0.4907 - loss: 1.5065 - val_acc: 0.7087 - val_loss: 0.8665\n",
      "Epoch 2/200\n",
      "\u001b[1m5859/5859\u001b[0m \u001b[32m━━━━━━━━━━━━━━━━━━━━\u001b[0m\u001b[37m\u001b[0m \u001b[1m3s\u001b[0m 552us/step - acc: 0.6449 - loss: 1.0289 - val_acc: 0.7427 - val_loss: 0.7617\n",
      "Epoch 3/200\n",
      "\u001b[1m5859/5859\u001b[0m \u001b[32m━━━━━━━━━━━━━━━━━━━━\u001b[0m\u001b[37m\u001b[0m \u001b[1m3s\u001b[0m 570us/step - acc: 0.6671 - loss: 0.9508 - val_acc: 0.7671 - val_loss: 0.7034\n",
      "Epoch 4/200\n",
      "\u001b[1m5859/5859\u001b[0m \u001b[32m━━━━━━━━━━━━━━━━━━━━\u001b[0m\u001b[37m\u001b[0m \u001b[1m3s\u001b[0m 551us/step - acc: 0.6844 - loss: 0.9029 - val_acc: 0.7741 - val_loss: 0.6694\n",
      "Epoch 5/200\n",
      "\u001b[1m5859/5859\u001b[0m \u001b[32m━━━━━━━━━━━━━━━━━━━━\u001b[0m\u001b[37m\u001b[0m \u001b[1m3s\u001b[0m 540us/step - acc: 0.6967 - loss: 0.8713 - val_acc: 0.7825 - val_loss: 0.6470\n",
      "Epoch 6/200\n",
      "\u001b[1m5859/5859\u001b[0m \u001b[32m━━━━━━━━━━━━━━━━━━━━\u001b[0m\u001b[37m\u001b[0m \u001b[1m3s\u001b[0m 544us/step - acc: 0.6972 - loss: 0.8585 - val_acc: 0.7892 - val_loss: 0.6228\n",
      "Epoch 7/200\n",
      "\u001b[1m5859/5859\u001b[0m \u001b[32m━━━━━━━━━━━━━━━━━━━━\u001b[0m\u001b[37m\u001b[0m \u001b[1m3s\u001b[0m 545us/step - acc: 0.7033 - loss: 0.8425 - val_acc: 0.7939 - val_loss: 0.6091\n",
      "Epoch 8/200\n",
      "\u001b[1m5859/5859\u001b[0m \u001b[32m━━━━━━━━━━━━━━━━━━━━\u001b[0m\u001b[37m\u001b[0m \u001b[1m3s\u001b[0m 544us/step - acc: 0.7087 - loss: 0.8281 - val_acc: 0.7967 - val_loss: 0.6018\n",
      "Epoch 9/200\n",
      "\u001b[1m5859/5859\u001b[0m \u001b[32m━━━━━━━━━━━━━━━━━━━━\u001b[0m\u001b[37m\u001b[0m \u001b[1m3s\u001b[0m 537us/step - acc: 0.7118 - loss: 0.8209 - val_acc: 0.7963 - val_loss: 0.5981\n",
      "Epoch 10/200\n",
      "\u001b[1m5859/5859\u001b[0m \u001b[32m━━━━━━━━━━━━━━━━━━━━\u001b[0m\u001b[37m\u001b[0m \u001b[1m3s\u001b[0m 543us/step - acc: 0.7126 - loss: 0.8137 - val_acc: 0.8000 - val_loss: 0.5839\n",
      "Epoch 11/200\n",
      "\u001b[1m5859/5859\u001b[0m \u001b[32m━━━━━━━━━━━━━━━━━━━━\u001b[0m\u001b[37m\u001b[0m \u001b[1m3s\u001b[0m 550us/step - acc: 0.7161 - loss: 0.8038 - val_acc: 0.8060 - val_loss: 0.5762\n",
      "Epoch 12/200\n",
      "\u001b[1m5859/5859\u001b[0m \u001b[32m━━━━━━━━━━━━━━━━━━━━\u001b[0m\u001b[37m\u001b[0m \u001b[1m3s\u001b[0m 545us/step - acc: 0.7181 - loss: 0.8009 - val_acc: 0.8042 - val_loss: 0.5784\n",
      "Epoch 13/200\n",
      "\u001b[1m5859/5859\u001b[0m \u001b[32m━━━━━━━━━━━━━━━━━━━━\u001b[0m\u001b[37m\u001b[0m \u001b[1m3s\u001b[0m 546us/step - acc: 0.7209 - loss: 0.7924 - val_acc: 0.8112 - val_loss: 0.5716\n",
      "Epoch 14/200\n",
      "\u001b[1m5859/5859\u001b[0m \u001b[32m━━━━━━━━━━━━━━━━━━━━\u001b[0m\u001b[37m\u001b[0m \u001b[1m3s\u001b[0m 546us/step - acc: 0.7226 - loss: 0.7863 - val_acc: 0.8096 - val_loss: 0.5614\n",
      "Epoch 15/200\n",
      "\u001b[1m5859/5859\u001b[0m \u001b[32m━━━━━━━━━━━━━━━━━━━━\u001b[0m\u001b[37m\u001b[0m \u001b[1m3s\u001b[0m 550us/step - acc: 0.7222 - loss: 0.7871 - val_acc: 0.8121 - val_loss: 0.5604\n",
      "Epoch 16/200\n",
      "\u001b[1m5859/5859\u001b[0m \u001b[32m━━━━━━━━━━━━━━━━━━━━\u001b[0m\u001b[37m\u001b[0m \u001b[1m3s\u001b[0m 542us/step - acc: 0.7235 - loss: 0.7891 - val_acc: 0.8120 - val_loss: 0.5547\n",
      "Epoch 17/200\n",
      "\u001b[1m5859/5859\u001b[0m \u001b[32m━━━━━━━━━━━━━━━━━━━━\u001b[0m\u001b[37m\u001b[0m \u001b[1m3s\u001b[0m 549us/step - acc: 0.7283 - loss: 0.7754 - val_acc: 0.8113 - val_loss: 0.5573\n",
      "Epoch 18/200\n",
      "\u001b[1m5859/5859\u001b[0m \u001b[32m━━━━━━━━━━━━━━━━━━━━\u001b[0m\u001b[37m\u001b[0m \u001b[1m3s\u001b[0m 542us/step - acc: 0.7276 - loss: 0.7769 - val_acc: 0.8142 - val_loss: 0.5510\n",
      "Epoch 19/200\n",
      "\u001b[1m5859/5859\u001b[0m \u001b[32m━━━━━━━━━━━━━━━━━━━━\u001b[0m\u001b[37m\u001b[0m \u001b[1m3s\u001b[0m 544us/step - acc: 0.7280 - loss: 0.7736 - val_acc: 0.8130 - val_loss: 0.5533\n",
      "Epoch 20/200\n",
      "\u001b[1m5859/5859\u001b[0m \u001b[32m━━━━━━━━━━━━━━━━━━━━\u001b[0m\u001b[37m\u001b[0m \u001b[1m3s\u001b[0m 538us/step - acc: 0.7308 - loss: 0.7703 - val_acc: 0.8135 - val_loss: 0.5507\n",
      "Epoch 21/200\n",
      "\u001b[1m5859/5859\u001b[0m \u001b[32m━━━━━━━━━━━━━━━━━━━━\u001b[0m\u001b[37m\u001b[0m \u001b[1m3s\u001b[0m 548us/step - acc: 0.7311 - loss: 0.7719 - val_acc: 0.8161 - val_loss: 0.5401\n",
      "Epoch 22/200\n",
      "\u001b[1m5859/5859\u001b[0m \u001b[32m━━━━━━━━━━━━━━━━━━━━\u001b[0m\u001b[37m\u001b[0m \u001b[1m3s\u001b[0m 545us/step - acc: 0.7309 - loss: 0.7675 - val_acc: 0.8171 - val_loss: 0.5405\n",
      "Epoch 23/200\n",
      "\u001b[1m5859/5859\u001b[0m \u001b[32m━━━━━━━━━━━━━━━━━━━━\u001b[0m\u001b[37m\u001b[0m \u001b[1m3s\u001b[0m 553us/step - acc: 0.7312 - loss: 0.7638 - val_acc: 0.8164 - val_loss: 0.5412\n",
      "Epoch 24/200\n",
      "\u001b[1m5859/5859\u001b[0m \u001b[32m━━━━━━━━━━━━━━━━━━━━\u001b[0m\u001b[37m\u001b[0m \u001b[1m3s\u001b[0m 549us/step - acc: 0.7370 - loss: 0.7585 - val_acc: 0.8201 - val_loss: 0.5388\n",
      "Epoch 25/200\n",
      "\u001b[1m5859/5859\u001b[0m \u001b[32m━━━━━━━━━━━━━━━━━━━━\u001b[0m\u001b[37m\u001b[0m \u001b[1m3s\u001b[0m 541us/step - acc: 0.7344 - loss: 0.7638 - val_acc: 0.8186 - val_loss: 0.5341\n",
      "Epoch 26/200\n",
      "\u001b[1m5859/5859\u001b[0m \u001b[32m━━━━━━━━━━━━━━━━━━━━\u001b[0m\u001b[37m\u001b[0m \u001b[1m3s\u001b[0m 543us/step - acc: 0.7349 - loss: 0.7606 - val_acc: 0.8153 - val_loss: 0.5390\n",
      "Epoch 27/200\n",
      "\u001b[1m5859/5859\u001b[0m \u001b[32m━━━━━━━━━━━━━━━━━━━━\u001b[0m\u001b[37m\u001b[0m \u001b[1m3s\u001b[0m 550us/step - acc: 0.7351 - loss: 0.7583 - val_acc: 0.8197 - val_loss: 0.5312\n",
      "Epoch 28/200\n",
      "\u001b[1m5859/5859\u001b[0m \u001b[32m━━━━━━━━━━━━━━━━━━━━\u001b[0m\u001b[37m\u001b[0m \u001b[1m3s\u001b[0m 540us/step - acc: 0.7351 - loss: 0.7588 - val_acc: 0.8217 - val_loss: 0.5286\n",
      "Epoch 29/200\n",
      "\u001b[1m5859/5859\u001b[0m \u001b[32m━━━━━━━━━━━━━━━━━━━━\u001b[0m\u001b[37m\u001b[0m \u001b[1m3s\u001b[0m 542us/step - acc: 0.7367 - loss: 0.7512 - val_acc: 0.8200 - val_loss: 0.5308\n",
      "Epoch 30/200\n",
      "\u001b[1m5859/5859\u001b[0m \u001b[32m━━━━━━━━━━━━━━━━━━━━\u001b[0m\u001b[37m\u001b[0m \u001b[1m3s\u001b[0m 537us/step - acc: 0.7331 - loss: 0.7659 - val_acc: 0.8211 - val_loss: 0.5303\n",
      "Epoch 31/200\n",
      "\u001b[1m5859/5859\u001b[0m \u001b[32m━━━━━━━━━━━━━━━━━━━━\u001b[0m\u001b[37m\u001b[0m \u001b[1m3s\u001b[0m 542us/step - acc: 0.7364 - loss: 0.7517 - val_acc: 0.8192 - val_loss: 0.5299\n",
      "Epoch 32/200\n",
      "\u001b[1m5859/5859\u001b[0m \u001b[32m━━━━━━━━━━━━━━━━━━━━\u001b[0m\u001b[37m\u001b[0m \u001b[1m3s\u001b[0m 550us/step - acc: 0.7358 - loss: 0.7567 - val_acc: 0.8221 - val_loss: 0.5279\n",
      "Epoch 33/200\n",
      "\u001b[1m5859/5859\u001b[0m \u001b[32m━━━━━━━━━━━━━━━━━━━━\u001b[0m\u001b[37m\u001b[0m \u001b[1m3s\u001b[0m 555us/step - acc: 0.7394 - loss: 0.7444 - val_acc: 0.8224 - val_loss: 0.5235\n",
      "Epoch 34/200\n",
      "\u001b[1m5859/5859\u001b[0m \u001b[32m━━━━━━━━━━━━━━━━━━━━\u001b[0m\u001b[37m\u001b[0m \u001b[1m3s\u001b[0m 540us/step - acc: 0.7363 - loss: 0.7528 - val_acc: 0.8299 - val_loss: 0.5167\n",
      "Epoch 35/200\n",
      "\u001b[1m5859/5859\u001b[0m \u001b[32m━━━━━━━━━━━━━━━━━━━━\u001b[0m\u001b[37m\u001b[0m \u001b[1m3s\u001b[0m 545us/step - acc: 0.7381 - loss: 0.7521 - val_acc: 0.8247 - val_loss: 0.5253\n",
      "Epoch 36/200\n",
      "\u001b[1m5859/5859\u001b[0m \u001b[32m━━━━━━━━━━━━━━━━━━━━\u001b[0m\u001b[37m\u001b[0m \u001b[1m3s\u001b[0m 549us/step - acc: 0.7376 - loss: 0.7494 - val_acc: 0.8267 - val_loss: 0.5229\n",
      "Epoch 37/200\n",
      "\u001b[1m5859/5859\u001b[0m \u001b[32m━━━━━━━━━━━━━━━━━━━━\u001b[0m\u001b[37m\u001b[0m \u001b[1m3s\u001b[0m 541us/step - acc: 0.7381 - loss: 0.7504 - val_acc: 0.8256 - val_loss: 0.5209\n",
      "Epoch 38/200\n",
      "\u001b[1m5859/5859\u001b[0m \u001b[32m━━━━━━━━━━━━━━━━━━━━\u001b[0m\u001b[37m\u001b[0m \u001b[1m3s\u001b[0m 540us/step - acc: 0.7376 - loss: 0.7500 - val_acc: 0.8256 - val_loss: 0.5222\n",
      "Epoch 39/200\n",
      "\u001b[1m5859/5859\u001b[0m \u001b[32m━━━━━━━━━━━━━━━━━━━━\u001b[0m\u001b[37m\u001b[0m \u001b[1m3s\u001b[0m 541us/step - acc: 0.7383 - loss: 0.7481 - val_acc: 0.8265 - val_loss: 0.5187\n",
      "Epoch 40/200\n",
      "\u001b[1m5859/5859\u001b[0m \u001b[32m━━━━━━━━━━━━━━━━━━━━\u001b[0m\u001b[37m\u001b[0m \u001b[1m3s\u001b[0m 549us/step - acc: 0.7402 - loss: 0.7451 - val_acc: 0.8265 - val_loss: 0.5210\n",
      "Epoch 41/200\n",
      "\u001b[1m5859/5859\u001b[0m \u001b[32m━━━━━━━━━━━━━━━━━━━━\u001b[0m\u001b[37m\u001b[0m \u001b[1m3s\u001b[0m 551us/step - acc: 0.7391 - loss: 0.7446 - val_acc: 0.8287 - val_loss: 0.5165\n",
      "Epoch 42/200\n",
      "\u001b[1m5859/5859\u001b[0m \u001b[32m━━━━━━━━━━━━━━━━━━━━\u001b[0m\u001b[37m\u001b[0m \u001b[1m3s\u001b[0m 536us/step - acc: 0.7402 - loss: 0.7449 - val_acc: 0.8256 - val_loss: 0.5144\n",
      "Epoch 43/200\n",
      "\u001b[1m5859/5859\u001b[0m \u001b[32m━━━━━━━━━━━━━━━━━━━━\u001b[0m\u001b[37m\u001b[0m \u001b[1m3s\u001b[0m 544us/step - acc: 0.7398 - loss: 0.7420 - val_acc: 0.8280 - val_loss: 0.5115\n",
      "Epoch 44/200\n",
      "\u001b[1m5859/5859\u001b[0m \u001b[32m━━━━━━━━━━━━━━━━━━━━\u001b[0m\u001b[37m\u001b[0m \u001b[1m3s\u001b[0m 548us/step - acc: 0.7375 - loss: 0.7465 - val_acc: 0.8261 - val_loss: 0.5184\n",
      "Epoch 45/200\n",
      "\u001b[1m5859/5859\u001b[0m \u001b[32m━━━━━━━━━━━━━━━━━━━━\u001b[0m\u001b[37m\u001b[0m \u001b[1m3s\u001b[0m 545us/step - acc: 0.7408 - loss: 0.7414 - val_acc: 0.8263 - val_loss: 0.5206\n",
      "Epoch 46/200\n",
      "\u001b[1m5859/5859\u001b[0m \u001b[32m━━━━━━━━━━━━━━━━━━━━\u001b[0m\u001b[37m\u001b[0m \u001b[1m3s\u001b[0m 537us/step - acc: 0.7401 - loss: 0.7460 - val_acc: 0.8244 - val_loss: 0.5155\n",
      "Epoch 47/200\n",
      "\u001b[1m5859/5859\u001b[0m \u001b[32m━━━━━━━━━━━━━━━━━━━━\u001b[0m\u001b[37m\u001b[0m \u001b[1m3s\u001b[0m 548us/step - acc: 0.7397 - loss: 0.7413 - val_acc: 0.8267 - val_loss: 0.5129\n",
      "Epoch 48/200\n",
      "\u001b[1m5859/5859\u001b[0m \u001b[32m━━━━━━━━━━━━━━━━━━━━\u001b[0m\u001b[37m\u001b[0m \u001b[1m3s\u001b[0m 543us/step - acc: 0.7408 - loss: 0.7382 - val_acc: 0.8279 - val_loss: 0.5120\n",
      "Epoch 49/200\n",
      "\u001b[1m5859/5859\u001b[0m \u001b[32m━━━━━━━━━━━━━━━━━━━━\u001b[0m\u001b[37m\u001b[0m \u001b[1m3s\u001b[0m 552us/step - acc: 0.7385 - loss: 0.7423 - val_acc: 0.8236 - val_loss: 0.5147\n",
      "Epoch 50/200\n",
      "\u001b[1m5859/5859\u001b[0m \u001b[32m━━━━━━━━━━━━━━━━━━━━\u001b[0m\u001b[37m\u001b[0m \u001b[1m3s\u001b[0m 542us/step - acc: 0.7413 - loss: 0.7382 - val_acc: 0.8283 - val_loss: 0.5117\n",
      "Epoch 51/200\n",
      "\u001b[1m5859/5859\u001b[0m \u001b[32m━━━━━━━━━━━━━━━━━━━━\u001b[0m\u001b[37m\u001b[0m \u001b[1m3s\u001b[0m 551us/step - acc: 0.7402 - loss: 0.7462 - val_acc: 0.8277 - val_loss: 0.5085\n",
      "Epoch 52/200\n",
      "\u001b[1m5859/5859\u001b[0m \u001b[32m━━━━━━━━━━━━━━━━━━━━\u001b[0m\u001b[37m\u001b[0m \u001b[1m3s\u001b[0m 554us/step - acc: 0.7384 - loss: 0.7428 - val_acc: 0.8319 - val_loss: 0.5106\n",
      "Epoch 53/200\n",
      "\u001b[1m5859/5859\u001b[0m \u001b[32m━━━━━━━━━━━━━━━━━━━━\u001b[0m\u001b[37m\u001b[0m \u001b[1m3s\u001b[0m 540us/step - acc: 0.7418 - loss: 0.7388 - val_acc: 0.8287 - val_loss: 0.5081\n",
      "Epoch 54/200\n",
      "\u001b[1m5859/5859\u001b[0m \u001b[32m━━━━━━━━━━━━━━━━━━━━\u001b[0m\u001b[37m\u001b[0m \u001b[1m3s\u001b[0m 538us/step - acc: 0.7440 - loss: 0.7360 - val_acc: 0.8270 - val_loss: 0.5136\n",
      "Epoch 55/200\n",
      "\u001b[1m5859/5859\u001b[0m \u001b[32m━━━━━━━━━━━━━━━━━━━━\u001b[0m\u001b[37m\u001b[0m \u001b[1m3s\u001b[0m 539us/step - acc: 0.7408 - loss: 0.7395 - val_acc: 0.8284 - val_loss: 0.5045\n",
      "Epoch 56/200\n",
      "\u001b[1m5859/5859\u001b[0m \u001b[32m━━━━━━━━━━━━━━━━━━━━\u001b[0m\u001b[37m\u001b[0m \u001b[1m3s\u001b[0m 542us/step - acc: 0.7420 - loss: 0.7346 - val_acc: 0.8292 - val_loss: 0.5079\n",
      "Epoch 57/200\n",
      "\u001b[1m5859/5859\u001b[0m \u001b[32m━━━━━━━━━━━━━━━━━━━━\u001b[0m\u001b[37m\u001b[0m \u001b[1m3s\u001b[0m 547us/step - acc: 0.7435 - loss: 0.7354 - val_acc: 0.8291 - val_loss: 0.5084\n",
      "Epoch 58/200\n",
      "\u001b[1m5859/5859\u001b[0m \u001b[32m━━━━━━━━━━━━━━━━━━━━\u001b[0m\u001b[37m\u001b[0m \u001b[1m3s\u001b[0m 545us/step - acc: 0.7419 - loss: 0.7363 - val_acc: 0.8279 - val_loss: 0.5063\n",
      "Epoch 59/200\n",
      "\u001b[1m5859/5859\u001b[0m \u001b[32m━━━━━━━━━━━━━━━━━━━━\u001b[0m\u001b[37m\u001b[0m \u001b[1m3s\u001b[0m 549us/step - acc: 0.7415 - loss: 0.7389 - val_acc: 0.8307 - val_loss: 0.5077\n",
      "Epoch 60/200\n",
      "\u001b[1m5859/5859\u001b[0m \u001b[32m━━━━━━━━━━━━━━━━━━━━\u001b[0m\u001b[37m\u001b[0m \u001b[1m3s\u001b[0m 562us/step - acc: 0.7404 - loss: 0.7400 - val_acc: 0.8269 - val_loss: 0.5129\n",
      "Epoch 61/200\n",
      "\u001b[1m5859/5859\u001b[0m \u001b[32m━━━━━━━━━━━━━━━━━━━━\u001b[0m\u001b[37m\u001b[0m \u001b[1m3s\u001b[0m 577us/step - acc: 0.7436 - loss: 0.7334 - val_acc: 0.8296 - val_loss: 0.5073\n",
      "Epoch 62/200\n",
      "\u001b[1m5859/5859\u001b[0m \u001b[32m━━━━━━━━━━━━━━━━━━━━\u001b[0m\u001b[37m\u001b[0m \u001b[1m3s\u001b[0m 561us/step - acc: 0.7423 - loss: 0.7363 - val_acc: 0.8319 - val_loss: 0.5087\n",
      "Epoch 63/200\n",
      "\u001b[1m5859/5859\u001b[0m \u001b[32m━━━━━━━━━━━━━━━━━━━━\u001b[0m\u001b[37m\u001b[0m \u001b[1m3s\u001b[0m 562us/step - acc: 0.7413 - loss: 0.7367 - val_acc: 0.8298 - val_loss: 0.5061\n",
      "Epoch 64/200\n",
      "\u001b[1m5859/5859\u001b[0m \u001b[32m━━━━━━━━━━━━━━━━━━━━\u001b[0m\u001b[37m\u001b[0m \u001b[1m3s\u001b[0m 573us/step - acc: 0.7408 - loss: 0.7425 - val_acc: 0.8305 - val_loss: 0.5035\n",
      "Epoch 65/200\n",
      "\u001b[1m5859/5859\u001b[0m \u001b[32m━━━━━━━━━━━━━━━━━━━━\u001b[0m\u001b[37m\u001b[0m \u001b[1m3s\u001b[0m 583us/step - acc: 0.7469 - loss: 0.7259 - val_acc: 0.8251 - val_loss: 0.5097\n",
      "Epoch 66/200\n",
      "\u001b[1m5859/5859\u001b[0m \u001b[32m━━━━━━━━━━━━━━━━━━━━\u001b[0m\u001b[37m\u001b[0m \u001b[1m3s\u001b[0m 556us/step - acc: 0.7431 - loss: 0.7378 - val_acc: 0.8299 - val_loss: 0.5070\n",
      "Epoch 67/200\n",
      "\u001b[1m5859/5859\u001b[0m \u001b[32m━━━━━━━━━━━━━━━━━━━━\u001b[0m\u001b[37m\u001b[0m \u001b[1m3s\u001b[0m 557us/step - acc: 0.7403 - loss: 0.7371 - val_acc: 0.8308 - val_loss: 0.5044\n",
      "Epoch 68/200\n",
      "\u001b[1m5859/5859\u001b[0m \u001b[32m━━━━━━━━━━━━━━━━━━━━\u001b[0m\u001b[37m\u001b[0m \u001b[1m3s\u001b[0m 550us/step - acc: 0.7433 - loss: 0.7306 - val_acc: 0.8308 - val_loss: 0.5020\n",
      "Epoch 69/200\n",
      "\u001b[1m5859/5859\u001b[0m \u001b[32m━━━━━━━━━━━━━━━━━━━━\u001b[0m\u001b[37m\u001b[0m \u001b[1m3s\u001b[0m 552us/step - acc: 0.7430 - loss: 0.7360 - val_acc: 0.8277 - val_loss: 0.5060\n",
      "Epoch 70/200\n",
      "\u001b[1m5859/5859\u001b[0m \u001b[32m━━━━━━━━━━━━━━━━━━━━\u001b[0m\u001b[37m\u001b[0m \u001b[1m3s\u001b[0m 556us/step - acc: 0.7439 - loss: 0.7331 - val_acc: 0.8243 - val_loss: 0.5056\n",
      "Epoch 71/200\n",
      "\u001b[1m5859/5859\u001b[0m \u001b[32m━━━━━━━━━━━━━━━━━━━━\u001b[0m\u001b[37m\u001b[0m \u001b[1m3s\u001b[0m 559us/step - acc: 0.7408 - loss: 0.7343 - val_acc: 0.8289 - val_loss: 0.5060\n",
      "Epoch 72/200\n",
      "\u001b[1m5859/5859\u001b[0m \u001b[32m━━━━━━━━━━━━━━━━━━━━\u001b[0m\u001b[37m\u001b[0m \u001b[1m3s\u001b[0m 556us/step - acc: 0.7441 - loss: 0.7293 - val_acc: 0.8285 - val_loss: 0.5076\n",
      "Epoch 73/200\n",
      "\u001b[1m5859/5859\u001b[0m \u001b[32m━━━━━━━━━━━━━━━━━━━━\u001b[0m\u001b[37m\u001b[0m \u001b[1m3s\u001b[0m 557us/step - acc: 0.7425 - loss: 0.7342 - val_acc: 0.8284 - val_loss: 0.5053\n",
      "Epoch 74/200\n",
      "\u001b[1m5859/5859\u001b[0m \u001b[32m━━━━━━━━━━━━━━━━━━━━\u001b[0m\u001b[37m\u001b[0m \u001b[1m3s\u001b[0m 552us/step - acc: 0.7452 - loss: 0.7272 - val_acc: 0.8307 - val_loss: 0.4997\n",
      "Epoch 75/200\n",
      "\u001b[1m5859/5859\u001b[0m \u001b[32m━━━━━━━━━━━━━━━━━━━━\u001b[0m\u001b[37m\u001b[0m \u001b[1m3s\u001b[0m 553us/step - acc: 0.7443 - loss: 0.7312 - val_acc: 0.8310 - val_loss: 0.5053\n",
      "Epoch 76/200\n",
      "\u001b[1m5859/5859\u001b[0m \u001b[32m━━━━━━━━━━━━━━━━━━━━\u001b[0m\u001b[37m\u001b[0m \u001b[1m3s\u001b[0m 554us/step - acc: 0.7452 - loss: 0.7298 - val_acc: 0.8320 - val_loss: 0.5031\n",
      "Epoch 77/200\n",
      "\u001b[1m5859/5859\u001b[0m \u001b[32m━━━━━━━━━━━━━━━━━━━━\u001b[0m\u001b[37m\u001b[0m \u001b[1m3s\u001b[0m 559us/step - acc: 0.7441 - loss: 0.7294 - val_acc: 0.8315 - val_loss: 0.5005\n",
      "Epoch 78/200\n",
      "\u001b[1m5859/5859\u001b[0m \u001b[32m━━━━━━━━━━━━━━━━━━━━\u001b[0m\u001b[37m\u001b[0m \u001b[1m3s\u001b[0m 561us/step - acc: 0.7439 - loss: 0.7279 - val_acc: 0.8290 - val_loss: 0.5019\n",
      "Epoch 79/200\n",
      "\u001b[1m5859/5859\u001b[0m \u001b[32m━━━━━━━━━━━━━━━━━━━━\u001b[0m\u001b[37m\u001b[0m \u001b[1m3s\u001b[0m 558us/step - acc: 0.7440 - loss: 0.7302 - val_acc: 0.8284 - val_loss: 0.5022\n",
      "Epoch 80/200\n",
      "\u001b[1m5859/5859\u001b[0m \u001b[32m━━━━━━━━━━━━━━━━━━━━\u001b[0m\u001b[37m\u001b[0m \u001b[1m3s\u001b[0m 557us/step - acc: 0.7433 - loss: 0.7337 - val_acc: 0.8296 - val_loss: 0.5039\n",
      "Epoch 81/200\n",
      "\u001b[1m5859/5859\u001b[0m \u001b[32m━━━━━━━━━━━━━━━━━━━━\u001b[0m\u001b[37m\u001b[0m \u001b[1m3s\u001b[0m 560us/step - acc: 0.7463 - loss: 0.7264 - val_acc: 0.8301 - val_loss: 0.4986\n",
      "Epoch 82/200\n",
      "\u001b[1m5859/5859\u001b[0m \u001b[32m━━━━━━━━━━━━━━━━━━━━\u001b[0m\u001b[37m\u001b[0m \u001b[1m3s\u001b[0m 555us/step - acc: 0.7436 - loss: 0.7285 - val_acc: 0.8281 - val_loss: 0.5008\n",
      "Epoch 83/200\n",
      "\u001b[1m5859/5859\u001b[0m \u001b[32m━━━━━━━━━━━━━━━━━━━━\u001b[0m\u001b[37m\u001b[0m \u001b[1m3s\u001b[0m 556us/step - acc: 0.7446 - loss: 0.7299 - val_acc: 0.8272 - val_loss: 0.5049\n",
      "Epoch 84/200\n",
      "\u001b[1m5859/5859\u001b[0m \u001b[32m━━━━━━━━━━━━━━━━━━━━\u001b[0m\u001b[37m\u001b[0m \u001b[1m3s\u001b[0m 558us/step - acc: 0.7441 - loss: 0.7278 - val_acc: 0.8290 - val_loss: 0.5005\n",
      "Epoch 85/200\n",
      "\u001b[1m5859/5859\u001b[0m \u001b[32m━━━━━━━━━━━━━━━━━━━━\u001b[0m\u001b[37m\u001b[0m \u001b[1m3s\u001b[0m 555us/step - acc: 0.7442 - loss: 0.7266 - val_acc: 0.8289 - val_loss: 0.4968\n",
      "Epoch 86/200\n",
      "\u001b[1m5859/5859\u001b[0m \u001b[32m━━━━━━━━━━━━━━━━━━━━\u001b[0m\u001b[37m\u001b[0m \u001b[1m3s\u001b[0m 560us/step - acc: 0.7456 - loss: 0.7275 - val_acc: 0.8328 - val_loss: 0.4954\n",
      "Epoch 87/200\n",
      "\u001b[1m5859/5859\u001b[0m \u001b[32m━━━━━━━━━━━━━━━━━━━━\u001b[0m\u001b[37m\u001b[0m \u001b[1m3s\u001b[0m 559us/step - acc: 0.7440 - loss: 0.7300 - val_acc: 0.8271 - val_loss: 0.5007\n",
      "Epoch 88/200\n",
      "\u001b[1m5859/5859\u001b[0m \u001b[32m━━━━━━━━━━━━━━━━━━━━\u001b[0m\u001b[37m\u001b[0m \u001b[1m3s\u001b[0m 558us/step - acc: 0.7459 - loss: 0.7230 - val_acc: 0.8275 - val_loss: 0.4997\n",
      "Epoch 89/200\n",
      "\u001b[1m5859/5859\u001b[0m \u001b[32m━━━━━━━━━━━━━━━━━━━━\u001b[0m\u001b[37m\u001b[0m \u001b[1m3s\u001b[0m 556us/step - acc: 0.7450 - loss: 0.7231 - val_acc: 0.8270 - val_loss: 0.5026\n",
      "Epoch 90/200\n",
      "\u001b[1m5859/5859\u001b[0m \u001b[32m━━━━━━━━━━━━━━━━━━━━\u001b[0m\u001b[37m\u001b[0m \u001b[1m3s\u001b[0m 570us/step - acc: 0.7443 - loss: 0.7284 - val_acc: 0.8259 - val_loss: 0.5033\n",
      "Epoch 91/200\n",
      "\u001b[1m5859/5859\u001b[0m \u001b[32m━━━━━━━━━━━━━━━━━━━━\u001b[0m\u001b[37m\u001b[0m \u001b[1m3s\u001b[0m 556us/step - acc: 0.7459 - loss: 0.7252 - val_acc: 0.8314 - val_loss: 0.4979\n",
      "Epoch 92/200\n",
      "\u001b[1m5859/5859\u001b[0m \u001b[32m━━━━━━━━━━━━━━━━━━━━\u001b[0m\u001b[37m\u001b[0m \u001b[1m3s\u001b[0m 556us/step - acc: 0.7448 - loss: 0.7239 - val_acc: 0.8327 - val_loss: 0.4999\n",
      "Epoch 93/200\n",
      "\u001b[1m5859/5859\u001b[0m \u001b[32m━━━━━━━━━━━━━━━━━━━━\u001b[0m\u001b[37m\u001b[0m \u001b[1m3s\u001b[0m 557us/step - acc: 0.7461 - loss: 0.7233 - val_acc: 0.8291 - val_loss: 0.4982\n",
      "Epoch 94/200\n",
      "\u001b[1m5859/5859\u001b[0m \u001b[32m━━━━━━━━━━━━━━━━━━━━\u001b[0m\u001b[37m\u001b[0m \u001b[1m3s\u001b[0m 565us/step - acc: 0.7445 - loss: 0.7281 - val_acc: 0.8322 - val_loss: 0.4954\n",
      "Epoch 95/200\n",
      "\u001b[1m5859/5859\u001b[0m \u001b[32m━━━━━━━━━━━━━━━━━━━━\u001b[0m\u001b[37m\u001b[0m \u001b[1m3s\u001b[0m 567us/step - acc: 0.7476 - loss: 0.7238 - val_acc: 0.8274 - val_loss: 0.5020\n",
      "Epoch 96/200\n",
      "\u001b[1m5859/5859\u001b[0m \u001b[32m━━━━━━━━━━━━━━━━━━━━\u001b[0m\u001b[37m\u001b[0m \u001b[1m3s\u001b[0m 556us/step - acc: 0.7461 - loss: 0.7228 - val_acc: 0.8281 - val_loss: 0.4996\n",
      "Epoch 97/200\n",
      "\u001b[1m5859/5859\u001b[0m \u001b[32m━━━━━━━━━━━━━━━━━━━━\u001b[0m\u001b[37m\u001b[0m \u001b[1m3s\u001b[0m 561us/step - acc: 0.7457 - loss: 0.7251 - val_acc: 0.8289 - val_loss: 0.4999\n",
      "Epoch 98/200\n",
      "\u001b[1m5859/5859\u001b[0m \u001b[32m━━━━━━━━━━━━━━━━━━━━\u001b[0m\u001b[37m\u001b[0m \u001b[1m3s\u001b[0m 556us/step - acc: 0.7471 - loss: 0.7238 - val_acc: 0.8321 - val_loss: 0.4958\n",
      "Epoch 99/200\n",
      "\u001b[1m5859/5859\u001b[0m \u001b[32m━━━━━━━━━━━━━━━━━━━━\u001b[0m\u001b[37m\u001b[0m \u001b[1m3s\u001b[0m 571us/step - acc: 0.7452 - loss: 0.7236 - val_acc: 0.8344 - val_loss: 0.4936\n",
      "Epoch 100/200\n",
      "\u001b[1m5859/5859\u001b[0m \u001b[32m━━━━━━━━━━━━━━━━━━━━\u001b[0m\u001b[37m\u001b[0m \u001b[1m3s\u001b[0m 567us/step - acc: 0.7455 - loss: 0.7241 - val_acc: 0.8287 - val_loss: 0.4954\n",
      "Epoch 101/200\n",
      "\u001b[1m5859/5859\u001b[0m \u001b[32m━━━━━━━━━━━━━━━━━━━━\u001b[0m\u001b[37m\u001b[0m \u001b[1m3s\u001b[0m 567us/step - acc: 0.7480 - loss: 0.7202 - val_acc: 0.8318 - val_loss: 0.4955\n",
      "Epoch 102/200\n",
      "\u001b[1m5859/5859\u001b[0m \u001b[32m━━━━━━━━━━━━━━━━━━━━\u001b[0m\u001b[37m\u001b[0m \u001b[1m3s\u001b[0m 561us/step - acc: 0.7442 - loss: 0.7239 - val_acc: 0.8271 - val_loss: 0.4968\n",
      "Epoch 103/200\n",
      "\u001b[1m5859/5859\u001b[0m \u001b[32m━━━━━━━━━━━━━━━━━━━━\u001b[0m\u001b[37m\u001b[0m \u001b[1m3s\u001b[0m 565us/step - acc: 0.7446 - loss: 0.7289 - val_acc: 0.8280 - val_loss: 0.4952\n",
      "Epoch 104/200\n",
      "\u001b[1m5859/5859\u001b[0m \u001b[32m━━━━━━━━━━━━━━━━━━━━\u001b[0m\u001b[37m\u001b[0m \u001b[1m3s\u001b[0m 556us/step - acc: 0.7481 - loss: 0.7169 - val_acc: 0.8352 - val_loss: 0.4926\n",
      "Epoch 105/200\n",
      "\u001b[1m5859/5859\u001b[0m \u001b[32m━━━━━━━━━━━━━━━━━━━━\u001b[0m\u001b[37m\u001b[0m \u001b[1m3s\u001b[0m 557us/step - acc: 0.7466 - loss: 0.7194 - val_acc: 0.8335 - val_loss: 0.4900\n",
      "Epoch 106/200\n",
      "\u001b[1m5859/5859\u001b[0m \u001b[32m━━━━━━━━━━━━━━━━━━━━\u001b[0m\u001b[37m\u001b[0m \u001b[1m3s\u001b[0m 558us/step - acc: 0.7509 - loss: 0.7122 - val_acc: 0.8313 - val_loss: 0.4937\n",
      "Epoch 107/200\n",
      "\u001b[1m5859/5859\u001b[0m \u001b[32m━━━━━━━━━━━━━━━━━━━━\u001b[0m\u001b[37m\u001b[0m \u001b[1m3s\u001b[0m 570us/step - acc: 0.7469 - loss: 0.7187 - val_acc: 0.8317 - val_loss: 0.4948\n",
      "Epoch 108/200\n",
      "\u001b[1m5859/5859\u001b[0m \u001b[32m━━━━━━━━━━━━━━━━━━━━\u001b[0m\u001b[37m\u001b[0m \u001b[1m3s\u001b[0m 548us/step - acc: 0.7444 - loss: 0.7218 - val_acc: 0.8291 - val_loss: 0.4947\n",
      "Epoch 109/200\n",
      "\u001b[1m5859/5859\u001b[0m \u001b[32m━━━━━━━━━━━━━━━━━━━━\u001b[0m\u001b[37m\u001b[0m \u001b[1m3s\u001b[0m 580us/step - acc: 0.7466 - loss: 0.7244 - val_acc: 0.8358 - val_loss: 0.4894\n",
      "Epoch 110/200\n",
      "\u001b[1m5859/5859\u001b[0m \u001b[32m━━━━━━━━━━━━━━━━━━━━\u001b[0m\u001b[37m\u001b[0m \u001b[1m3s\u001b[0m 554us/step - acc: 0.7456 - loss: 0.7203 - val_acc: 0.8277 - val_loss: 0.4925\n",
      "Epoch 111/200\n",
      "\u001b[1m5859/5859\u001b[0m \u001b[32m━━━━━━━━━━━━━━━━━━━━\u001b[0m\u001b[37m\u001b[0m \u001b[1m3s\u001b[0m 585us/step - acc: 0.7466 - loss: 0.7242 - val_acc: 0.8308 - val_loss: 0.4929\n",
      "Epoch 112/200\n",
      "\u001b[1m5859/5859\u001b[0m \u001b[32m━━━━━━━━━━━━━━━━━━━━\u001b[0m\u001b[37m\u001b[0m \u001b[1m4s\u001b[0m 598us/step - acc: 0.7496 - loss: 0.7137 - val_acc: 0.8294 - val_loss: 0.4959\n",
      "Epoch 113/200\n",
      "\u001b[1m5859/5859\u001b[0m \u001b[32m━━━━━━━━━━━━━━━━━━━━\u001b[0m\u001b[37m\u001b[0m \u001b[1m3s\u001b[0m 594us/step - acc: 0.7454 - loss: 0.7230 - val_acc: 0.8265 - val_loss: 0.4972\n",
      "Epoch 114/200\n",
      "\u001b[1m5859/5859\u001b[0m \u001b[32m━━━━━━━━━━━━━━━━━━━━\u001b[0m\u001b[37m\u001b[0m \u001b[1m3s\u001b[0m 578us/step - acc: 0.7445 - loss: 0.7250 - val_acc: 0.8314 - val_loss: 0.4903\n",
      "Epoch 115/200\n",
      "\u001b[1m5859/5859\u001b[0m \u001b[32m━━━━━━━━━━━━━━━━━━━━\u001b[0m\u001b[37m\u001b[0m \u001b[1m4s\u001b[0m 597us/step - acc: 0.7486 - loss: 0.7181 - val_acc: 0.8315 - val_loss: 0.4935\n",
      "Epoch 116/200\n",
      "\u001b[1m5859/5859\u001b[0m \u001b[32m━━━━━━━━━━━━━━━━━━━━\u001b[0m\u001b[37m\u001b[0m \u001b[1m4s\u001b[0m 624us/step - acc: 0.7456 - loss: 0.7233 - val_acc: 0.8289 - val_loss: 0.4916\n",
      "Epoch 117/200\n",
      "\u001b[1m5859/5859\u001b[0m \u001b[32m━━━━━━━━━━━━━━━━━━━━\u001b[0m\u001b[37m\u001b[0m \u001b[1m4s\u001b[0m 601us/step - acc: 0.7474 - loss: 0.7197 - val_acc: 0.8325 - val_loss: 0.4901\n",
      "Epoch 118/200\n",
      "\u001b[1m5859/5859\u001b[0m \u001b[32m━━━━━━━━━━━━━━━━━━━━\u001b[0m\u001b[37m\u001b[0m \u001b[1m4s\u001b[0m 610us/step - acc: 0.7459 - loss: 0.7214 - val_acc: 0.8300 - val_loss: 0.4916\n",
      "Epoch 119/200\n",
      "\u001b[1m5859/5859\u001b[0m \u001b[32m━━━━━━━━━━━━━━━━━━━━\u001b[0m\u001b[37m\u001b[0m \u001b[1m3s\u001b[0m 589us/step - acc: 0.7462 - loss: 0.7200 - val_acc: 0.8338 - val_loss: 0.4899\n",
      "Epoch 120/200\n",
      "\u001b[1m5859/5859\u001b[0m \u001b[32m━━━━━━━━━━━━━━━━━━━━\u001b[0m\u001b[37m\u001b[0m \u001b[1m3s\u001b[0m 572us/step - acc: 0.7452 - loss: 0.7220 - val_acc: 0.8309 - val_loss: 0.4897\n",
      "Epoch 121/200\n",
      "\u001b[1m5859/5859\u001b[0m \u001b[32m━━━━━━━━━━━━━━━━━━━━\u001b[0m\u001b[37m\u001b[0m \u001b[1m3s\u001b[0m 573us/step - acc: 0.7450 - loss: 0.7210 - val_acc: 0.8309 - val_loss: 0.4941\n",
      "Epoch 122/200\n",
      "\u001b[1m5859/5859\u001b[0m \u001b[32m━━━━━━━━━━━━━━━━━━━━\u001b[0m\u001b[37m\u001b[0m \u001b[1m3s\u001b[0m 574us/step - acc: 0.7458 - loss: 0.7226 - val_acc: 0.8332 - val_loss: 0.4906\n",
      "Epoch 123/200\n",
      "\u001b[1m5859/5859\u001b[0m \u001b[32m━━━━━━━━━━━━━━━━━━━━\u001b[0m\u001b[37m\u001b[0m \u001b[1m3s\u001b[0m 586us/step - acc: 0.7475 - loss: 0.7140 - val_acc: 0.8285 - val_loss: 0.4951\n",
      "Epoch 124/200\n",
      "\u001b[1m5859/5859\u001b[0m \u001b[32m━━━━━━━━━━━━━━━━━━━━\u001b[0m\u001b[37m\u001b[0m \u001b[1m3s\u001b[0m 573us/step - acc: 0.7468 - loss: 0.7184 - val_acc: 0.8307 - val_loss: 0.4920\n",
      "Epoch 125/200\n",
      "\u001b[1m5859/5859\u001b[0m \u001b[32m━━━━━━━━━━━━━━━━━━━━\u001b[0m\u001b[37m\u001b[0m \u001b[1m3s\u001b[0m 569us/step - acc: 0.7499 - loss: 0.7144 - val_acc: 0.8325 - val_loss: 0.4882\n",
      "Epoch 126/200\n",
      "\u001b[1m5859/5859\u001b[0m \u001b[32m━━━━━━━━━━━━━━━━━━━━\u001b[0m\u001b[37m\u001b[0m \u001b[1m3s\u001b[0m 565us/step - acc: 0.7493 - loss: 0.7124 - val_acc: 0.8303 - val_loss: 0.4919\n",
      "Epoch 127/200\n",
      "\u001b[1m5859/5859\u001b[0m \u001b[32m━━━━━━━━━━━━━━━━━━━━\u001b[0m\u001b[37m\u001b[0m \u001b[1m3s\u001b[0m 570us/step - acc: 0.7470 - loss: 0.7173 - val_acc: 0.8314 - val_loss: 0.4879\n",
      "Epoch 128/200\n",
      "\u001b[1m5859/5859\u001b[0m \u001b[32m━━━━━━━━━━━━━━━━━━━━\u001b[0m\u001b[37m\u001b[0m \u001b[1m3s\u001b[0m 567us/step - acc: 0.7476 - loss: 0.7186 - val_acc: 0.8329 - val_loss: 0.4936\n",
      "Epoch 129/200\n",
      "\u001b[1m5859/5859\u001b[0m \u001b[32m━━━━━━━━━━━━━━━━━━━━\u001b[0m\u001b[37m\u001b[0m \u001b[1m3s\u001b[0m 584us/step - acc: 0.7475 - loss: 0.7188 - val_acc: 0.8313 - val_loss: 0.4873\n",
      "Epoch 130/200\n",
      "\u001b[1m5859/5859\u001b[0m \u001b[32m━━━━━━━━━━━━━━━━━━━━\u001b[0m\u001b[37m\u001b[0m \u001b[1m3s\u001b[0m 589us/step - acc: 0.7494 - loss: 0.7108 - val_acc: 0.8287 - val_loss: 0.4932\n",
      "Epoch 131/200\n",
      "\u001b[1m5859/5859\u001b[0m \u001b[32m━━━━━━━━━━━━━━━━━━━━\u001b[0m\u001b[37m\u001b[0m \u001b[1m3s\u001b[0m 569us/step - acc: 0.7477 - loss: 0.7152 - val_acc: 0.8302 - val_loss: 0.4918\n",
      "Epoch 132/200\n",
      "\u001b[1m5859/5859\u001b[0m \u001b[32m━━━━━━━━━━━━━━━━━━━━\u001b[0m\u001b[37m\u001b[0m \u001b[1m3s\u001b[0m 551us/step - acc: 0.7466 - loss: 0.7193 - val_acc: 0.8337 - val_loss: 0.4906\n",
      "Epoch 133/200\n",
      "\u001b[1m5859/5859\u001b[0m \u001b[32m━━━━━━━━━━━━━━━━━━━━\u001b[0m\u001b[37m\u001b[0m \u001b[1m3s\u001b[0m 571us/step - acc: 0.7484 - loss: 0.7194 - val_acc: 0.8355 - val_loss: 0.4866\n",
      "Epoch 134/200\n",
      "\u001b[1m5859/5859\u001b[0m \u001b[32m━━━━━━━━━━━━━━━━━━━━\u001b[0m\u001b[37m\u001b[0m \u001b[1m3s\u001b[0m 573us/step - acc: 0.7488 - loss: 0.7139 - val_acc: 0.8289 - val_loss: 0.4935\n",
      "Epoch 135/200\n",
      "\u001b[1m5859/5859\u001b[0m \u001b[32m━━━━━━━━━━━━━━━━━━━━\u001b[0m\u001b[37m\u001b[0m \u001b[1m3s\u001b[0m 571us/step - acc: 0.7474 - loss: 0.7180 - val_acc: 0.8316 - val_loss: 0.4917\n",
      "Epoch 136/200\n",
      "\u001b[1m5859/5859\u001b[0m \u001b[32m━━━━━━━━━━━━━━━━━━━━\u001b[0m\u001b[37m\u001b[0m \u001b[1m3s\u001b[0m 572us/step - acc: 0.7466 - loss: 0.7180 - val_acc: 0.8316 - val_loss: 0.4912\n",
      "Epoch 137/200\n",
      "\u001b[1m5859/5859\u001b[0m \u001b[32m━━━━━━━━━━━━━━━━━━━━\u001b[0m\u001b[37m\u001b[0m \u001b[1m3s\u001b[0m 573us/step - acc: 0.7479 - loss: 0.7172 - val_acc: 0.8307 - val_loss: 0.4936\n",
      "Epoch 138/200\n",
      "\u001b[1m5859/5859\u001b[0m \u001b[32m━━━━━━━━━━━━━━━━━━━━\u001b[0m\u001b[37m\u001b[0m \u001b[1m3s\u001b[0m 580us/step - acc: 0.7479 - loss: 0.7188 - val_acc: 0.8339 - val_loss: 0.4855\n",
      "Epoch 139/200\n",
      "\u001b[1m5859/5859\u001b[0m \u001b[32m━━━━━━━━━━━━━━━━━━━━\u001b[0m\u001b[37m\u001b[0m \u001b[1m3s\u001b[0m 568us/step - acc: 0.7475 - loss: 0.7142 - val_acc: 0.8346 - val_loss: 0.4885\n",
      "Epoch 140/200\n",
      "\u001b[1m5859/5859\u001b[0m \u001b[32m━━━━━━━━━━━━━━━━━━━━\u001b[0m\u001b[37m\u001b[0m \u001b[1m3s\u001b[0m 584us/step - acc: 0.7489 - loss: 0.7147 - val_acc: 0.8331 - val_loss: 0.4910\n",
      "Epoch 141/200\n",
      "\u001b[1m5859/5859\u001b[0m \u001b[32m━━━━━━━━━━━━━━━━━━━━\u001b[0m\u001b[37m\u001b[0m \u001b[1m4s\u001b[0m 597us/step - acc: 0.7479 - loss: 0.7176 - val_acc: 0.8320 - val_loss: 0.4897\n",
      "Epoch 142/200\n",
      "\u001b[1m5859/5859\u001b[0m \u001b[32m━━━━━━━━━━━━━━━━━━━━\u001b[0m\u001b[37m\u001b[0m \u001b[1m4s\u001b[0m 600us/step - acc: 0.7489 - loss: 0.7158 - val_acc: 0.8324 - val_loss: 0.4878\n",
      "Epoch 143/200\n",
      "\u001b[1m5859/5859\u001b[0m \u001b[32m━━━━━━━━━━━━━━━━━━━━\u001b[0m\u001b[37m\u001b[0m \u001b[1m4s\u001b[0m 615us/step - acc: 0.7471 - loss: 0.7166 - val_acc: 0.8341 - val_loss: 0.4911\n",
      "Epoch 144/200\n",
      "\u001b[1m5859/5859\u001b[0m \u001b[32m━━━━━━━━━━━━━━━━━━━━\u001b[0m\u001b[37m\u001b[0m \u001b[1m4s\u001b[0m 629us/step - acc: 0.7494 - loss: 0.7138 - val_acc: 0.8303 - val_loss: 0.4908\n",
      "Epoch 145/200\n",
      "\u001b[1m5859/5859\u001b[0m \u001b[32m━━━━━━━━━━━━━━━━━━━━\u001b[0m\u001b[37m\u001b[0m \u001b[1m4s\u001b[0m 617us/step - acc: 0.7490 - loss: 0.7127 - val_acc: 0.8286 - val_loss: 0.4909\n",
      "Epoch 146/200\n",
      "\u001b[1m5859/5859\u001b[0m \u001b[32m━━━━━━━━━━━━━━━━━━━━\u001b[0m\u001b[37m\u001b[0m \u001b[1m3s\u001b[0m 569us/step - acc: 0.7492 - loss: 0.7139 - val_acc: 0.8326 - val_loss: 0.4895\n",
      "Epoch 147/200\n",
      "\u001b[1m5859/5859\u001b[0m \u001b[32m━━━━━━━━━━━━━━━━━━━━\u001b[0m\u001b[37m\u001b[0m \u001b[1m3s\u001b[0m 549us/step - acc: 0.7487 - loss: 0.7126 - val_acc: 0.8306 - val_loss: 0.4901\n",
      "Epoch 148/200\n",
      "\u001b[1m5859/5859\u001b[0m \u001b[32m━━━━━━━━━━━━━━━━━━━━\u001b[0m\u001b[37m\u001b[0m \u001b[1m3s\u001b[0m 556us/step - acc: 0.7481 - loss: 0.7142 - val_acc: 0.8321 - val_loss: 0.4868\n",
      "Epoch 149/200\n",
      "\u001b[1m5859/5859\u001b[0m \u001b[32m━━━━━━━━━━━━━━━━━━━━\u001b[0m\u001b[37m\u001b[0m \u001b[1m3s\u001b[0m 553us/step - acc: 0.7479 - loss: 0.7169 - val_acc: 0.8313 - val_loss: 0.4867\n",
      "Epoch 150/200\n",
      "\u001b[1m5859/5859\u001b[0m \u001b[32m━━━━━━━━━━━━━━━━━━━━\u001b[0m\u001b[37m\u001b[0m \u001b[1m3s\u001b[0m 560us/step - acc: 0.7481 - loss: 0.7177 - val_acc: 0.8320 - val_loss: 0.4852\n",
      "Epoch 151/200\n",
      "\u001b[1m5859/5859\u001b[0m \u001b[32m━━━━━━━━━━━━━━━━━━━━\u001b[0m\u001b[37m\u001b[0m \u001b[1m3s\u001b[0m 574us/step - acc: 0.7477 - loss: 0.7147 - val_acc: 0.8313 - val_loss: 0.4893\n",
      "Epoch 152/200\n",
      "\u001b[1m5859/5859\u001b[0m \u001b[32m━━━━━━━━━━━━━━━━━━━━\u001b[0m\u001b[37m\u001b[0m \u001b[1m3s\u001b[0m 591us/step - acc: 0.7479 - loss: 0.7145 - val_acc: 0.8316 - val_loss: 0.4876\n",
      "Epoch 153/200\n",
      "\u001b[1m5859/5859\u001b[0m \u001b[32m━━━━━━━━━━━━━━━━━━━━\u001b[0m\u001b[37m\u001b[0m \u001b[1m3s\u001b[0m 579us/step - acc: 0.7479 - loss: 0.7165 - val_acc: 0.8315 - val_loss: 0.4899\n",
      "Epoch 154/200\n",
      "\u001b[1m5859/5859\u001b[0m \u001b[32m━━━━━━━━━━━━━━━━━━━━\u001b[0m\u001b[37m\u001b[0m \u001b[1m3s\u001b[0m 573us/step - acc: 0.7494 - loss: 0.7129 - val_acc: 0.8321 - val_loss: 0.4855\n",
      "Epoch 155/200\n",
      "\u001b[1m5859/5859\u001b[0m \u001b[32m━━━━━━━━━━━━━━━━━━━━\u001b[0m\u001b[37m\u001b[0m \u001b[1m3s\u001b[0m 590us/step - acc: 0.7496 - loss: 0.7123 - val_acc: 0.8302 - val_loss: 0.4912\n",
      "Epoch 156/200\n",
      "\u001b[1m5859/5859\u001b[0m \u001b[32m━━━━━━━━━━━━━━━━━━━━\u001b[0m\u001b[37m\u001b[0m \u001b[1m3s\u001b[0m 576us/step - acc: 0.7492 - loss: 0.7150 - val_acc: 0.8304 - val_loss: 0.4894\n",
      "Epoch 157/200\n",
      "\u001b[1m5859/5859\u001b[0m \u001b[32m━━━━━━━━━━━━━━━━━━━━\u001b[0m\u001b[37m\u001b[0m \u001b[1m3s\u001b[0m 585us/step - acc: 0.7477 - loss: 0.7139 - val_acc: 0.8328 - val_loss: 0.4906\n",
      "Epoch 158/200\n",
      "\u001b[1m5859/5859\u001b[0m \u001b[32m━━━━━━━━━━━━━━━━━━━━\u001b[0m\u001b[37m\u001b[0m \u001b[1m3s\u001b[0m 576us/step - acc: 0.7480 - loss: 0.7166 - val_acc: 0.8325 - val_loss: 0.4877\n",
      "Epoch 159/200\n",
      "\u001b[1m5859/5859\u001b[0m \u001b[32m━━━━━━━━━━━━━━━━━━━━\u001b[0m\u001b[37m\u001b[0m \u001b[1m3s\u001b[0m 570us/step - acc: 0.7501 - loss: 0.7084 - val_acc: 0.8359 - val_loss: 0.4830\n",
      "Epoch 160/200\n",
      "\u001b[1m5859/5859\u001b[0m \u001b[32m━━━━━━━━━━━━━━━━━━━━\u001b[0m\u001b[37m\u001b[0m \u001b[1m3s\u001b[0m 573us/step - acc: 0.7476 - loss: 0.7159 - val_acc: 0.8302 - val_loss: 0.4916\n",
      "Epoch 161/200\n",
      "\u001b[1m5859/5859\u001b[0m \u001b[32m━━━━━━━━━━━━━━━━━━━━\u001b[0m\u001b[37m\u001b[0m \u001b[1m3s\u001b[0m 568us/step - acc: 0.7493 - loss: 0.7138 - val_acc: 0.8298 - val_loss: 0.4914\n",
      "Epoch 162/200\n",
      "\u001b[1m5859/5859\u001b[0m \u001b[32m━━━━━━━━━━━━━━━━━━━━\u001b[0m\u001b[37m\u001b[0m \u001b[1m3s\u001b[0m 572us/step - acc: 0.7497 - loss: 0.7097 - val_acc: 0.8333 - val_loss: 0.4874\n",
      "Epoch 163/200\n",
      "\u001b[1m5859/5859\u001b[0m \u001b[32m━━━━━━━━━━━━━━━━━━━━\u001b[0m\u001b[37m\u001b[0m \u001b[1m3s\u001b[0m 570us/step - acc: 0.7471 - loss: 0.7181 - val_acc: 0.8330 - val_loss: 0.4863\n",
      "Epoch 164/200\n",
      "\u001b[1m5859/5859\u001b[0m \u001b[32m━━━━━━━━━━━━━━━━━━━━\u001b[0m\u001b[37m\u001b[0m \u001b[1m3s\u001b[0m 565us/step - acc: 0.7491 - loss: 0.7143 - val_acc: 0.8313 - val_loss: 0.4887\n",
      "Epoch 165/200\n",
      "\u001b[1m5859/5859\u001b[0m \u001b[32m━━━━━━━━━━━━━━━━━━━━\u001b[0m\u001b[37m\u001b[0m \u001b[1m3s\u001b[0m 585us/step - acc: 0.7496 - loss: 0.7124 - val_acc: 0.8344 - val_loss: 0.4883\n",
      "Epoch 166/200\n",
      "\u001b[1m5859/5859\u001b[0m \u001b[32m━━━━━━━━━━━━━━━━━━━━\u001b[0m\u001b[37m\u001b[0m \u001b[1m3s\u001b[0m 590us/step - acc: 0.7455 - loss: 0.7176 - val_acc: 0.8311 - val_loss: 0.4878\n",
      "Epoch 167/200\n",
      "\u001b[1m5859/5859\u001b[0m \u001b[32m━━━━━━━━━━━━━━━━━━━━\u001b[0m\u001b[37m\u001b[0m \u001b[1m3s\u001b[0m 581us/step - acc: 0.7495 - loss: 0.7121 - val_acc: 0.8317 - val_loss: 0.4850\n",
      "Epoch 168/200\n",
      "\u001b[1m5859/5859\u001b[0m \u001b[32m━━━━━━━━━━━━━━━━━━━━\u001b[0m\u001b[37m\u001b[0m \u001b[1m3s\u001b[0m 576us/step - acc: 0.7500 - loss: 0.7115 - val_acc: 0.8338 - val_loss: 0.4811\n",
      "Epoch 169/200\n",
      "\u001b[1m5859/5859\u001b[0m \u001b[32m━━━━━━━━━━━━━━━━━━━━\u001b[0m\u001b[37m\u001b[0m \u001b[1m3s\u001b[0m 564us/step - acc: 0.7500 - loss: 0.7097 - val_acc: 0.8324 - val_loss: 0.4859\n",
      "Epoch 170/200\n",
      "\u001b[1m5859/5859\u001b[0m \u001b[32m━━━━━━━━━━━━━━━━━━━━\u001b[0m\u001b[37m\u001b[0m \u001b[1m3s\u001b[0m 578us/step - acc: 0.7471 - loss: 0.7174 - val_acc: 0.8309 - val_loss: 0.4904\n",
      "Epoch 171/200\n",
      "\u001b[1m5859/5859\u001b[0m \u001b[32m━━━━━━━━━━━━━━━━━━━━\u001b[0m\u001b[37m\u001b[0m \u001b[1m3s\u001b[0m 578us/step - acc: 0.7497 - loss: 0.7166 - val_acc: 0.8332 - val_loss: 0.4858\n",
      "Epoch 172/200\n",
      "\u001b[1m5859/5859\u001b[0m \u001b[32m━━━━━━━━━━━━━━━━━━━━\u001b[0m\u001b[37m\u001b[0m \u001b[1m3s\u001b[0m 581us/step - acc: 0.7509 - loss: 0.7043 - val_acc: 0.8341 - val_loss: 0.4876\n",
      "Epoch 173/200\n",
      "\u001b[1m5859/5859\u001b[0m \u001b[32m━━━━━━━━━━━━━━━━━━━━\u001b[0m\u001b[37m\u001b[0m \u001b[1m3s\u001b[0m 586us/step - acc: 0.7489 - loss: 0.7134 - val_acc: 0.8309 - val_loss: 0.4914\n",
      "Epoch 174/200\n",
      "\u001b[1m5859/5859\u001b[0m \u001b[32m━━━━━━━━━━━━━━━━━━━━\u001b[0m\u001b[37m\u001b[0m \u001b[1m3s\u001b[0m 573us/step - acc: 0.7497 - loss: 0.7107 - val_acc: 0.8322 - val_loss: 0.4898\n",
      "Epoch 175/200\n",
      "\u001b[1m5859/5859\u001b[0m \u001b[32m━━━━━━━━━━━━━━━━━━━━\u001b[0m\u001b[37m\u001b[0m \u001b[1m3s\u001b[0m 573us/step - acc: 0.7501 - loss: 0.7084 - val_acc: 0.8315 - val_loss: 0.4930\n",
      "Epoch 176/200\n",
      "\u001b[1m5859/5859\u001b[0m \u001b[32m━━━━━━━━━━━━━━━━━━━━\u001b[0m\u001b[37m\u001b[0m \u001b[1m3s\u001b[0m 577us/step - acc: 0.7509 - loss: 0.7091 - val_acc: 0.8331 - val_loss: 0.4893\n",
      "Epoch 177/200\n",
      "\u001b[1m5859/5859\u001b[0m \u001b[32m━━━━━━━━━━━━━━━━━━━━\u001b[0m\u001b[37m\u001b[0m \u001b[1m3s\u001b[0m 572us/step - acc: 0.7488 - loss: 0.7151 - val_acc: 0.8342 - val_loss: 0.4833\n",
      "Epoch 178/200\n",
      "\u001b[1m5859/5859\u001b[0m \u001b[32m━━━━━━━━━━━━━━━━━━━━\u001b[0m\u001b[37m\u001b[0m \u001b[1m3s\u001b[0m 573us/step - acc: 0.7488 - loss: 0.7146 - val_acc: 0.8352 - val_loss: 0.4813\n",
      "Epoch 179/200\n",
      "\u001b[1m5859/5859\u001b[0m \u001b[32m━━━━━━━━━━━━━━━━━━━━\u001b[0m\u001b[37m\u001b[0m \u001b[1m3s\u001b[0m 569us/step - acc: 0.7515 - loss: 0.7088 - val_acc: 0.8337 - val_loss: 0.4863\n",
      "Epoch 180/200\n",
      "\u001b[1m5859/5859\u001b[0m \u001b[32m━━━━━━━━━━━━━━━━━━━━\u001b[0m\u001b[37m\u001b[0m \u001b[1m3s\u001b[0m 567us/step - acc: 0.7514 - loss: 0.7067 - val_acc: 0.8360 - val_loss: 0.4820\n",
      "Epoch 181/200\n",
      "\u001b[1m5859/5859\u001b[0m \u001b[32m━━━━━━━━━━━━━━━━━━━━\u001b[0m\u001b[37m\u001b[0m \u001b[1m3s\u001b[0m 564us/step - acc: 0.7501 - loss: 0.7099 - val_acc: 0.8326 - val_loss: 0.4860\n",
      "Epoch 182/200\n",
      "\u001b[1m5859/5859\u001b[0m \u001b[32m━━━━━━━━━━━━━━━━━━━━\u001b[0m\u001b[37m\u001b[0m \u001b[1m3s\u001b[0m 576us/step - acc: 0.7492 - loss: 0.7126 - val_acc: 0.8334 - val_loss: 0.4868\n",
      "Epoch 183/200\n",
      "\u001b[1m5859/5859\u001b[0m \u001b[32m━━━━━━━━━━━━━━━━━━━━\u001b[0m\u001b[37m\u001b[0m \u001b[1m3s\u001b[0m 578us/step - acc: 0.7511 - loss: 0.7105 - val_acc: 0.8341 - val_loss: 0.4869\n",
      "Epoch 184/200\n",
      "\u001b[1m5859/5859\u001b[0m \u001b[32m━━━━━━━━━━━━━━━━━━━━\u001b[0m\u001b[37m\u001b[0m \u001b[1m3s\u001b[0m 577us/step - acc: 0.7496 - loss: 0.7143 - val_acc: 0.8355 - val_loss: 0.4879\n",
      "Epoch 185/200\n",
      "\u001b[1m5859/5859\u001b[0m \u001b[32m━━━━━━━━━━━━━━━━━━━━\u001b[0m\u001b[37m\u001b[0m \u001b[1m3s\u001b[0m 575us/step - acc: 0.7495 - loss: 0.7118 - val_acc: 0.8326 - val_loss: 0.4853\n",
      "Epoch 186/200\n",
      "\u001b[1m5859/5859\u001b[0m \u001b[32m━━━━━━━━━━━━━━━━━━━━\u001b[0m\u001b[37m\u001b[0m \u001b[1m3s\u001b[0m 577us/step - acc: 0.7499 - loss: 0.7121 - val_acc: 0.8325 - val_loss: 0.4870\n",
      "Epoch 187/200\n",
      "\u001b[1m5859/5859\u001b[0m \u001b[32m━━━━━━━━━━━━━━━━━━━━\u001b[0m\u001b[37m\u001b[0m \u001b[1m3s\u001b[0m 565us/step - acc: 0.7509 - loss: 0.7097 - val_acc: 0.8336 - val_loss: 0.4844\n",
      "Epoch 188/200\n",
      "\u001b[1m5859/5859\u001b[0m \u001b[32m━━━━━━━━━━━━━━━━━━━━\u001b[0m\u001b[37m\u001b[0m \u001b[1m3s\u001b[0m 576us/step - acc: 0.7507 - loss: 0.7081 - val_acc: 0.8317 - val_loss: 0.4891\n",
      "Epoch 189/200\n",
      "\u001b[1m5859/5859\u001b[0m \u001b[32m━━━━━━━━━━━━━━━━━━━━\u001b[0m\u001b[37m\u001b[0m \u001b[1m3s\u001b[0m 577us/step - acc: 0.7495 - loss: 0.7091 - val_acc: 0.8331 - val_loss: 0.4832\n",
      "Epoch 190/200\n",
      "\u001b[1m5859/5859\u001b[0m \u001b[32m━━━━━━━━━━━━━━━━━━━━\u001b[0m\u001b[37m\u001b[0m \u001b[1m3s\u001b[0m 570us/step - acc: 0.7496 - loss: 0.7113 - val_acc: 0.8334 - val_loss: 0.4885\n",
      "Epoch 191/200\n",
      "\u001b[1m5859/5859\u001b[0m \u001b[32m━━━━━━━━━━━━━━━━━━━━\u001b[0m\u001b[37m\u001b[0m \u001b[1m3s\u001b[0m 582us/step - acc: 0.7524 - loss: 0.7051 - val_acc: 0.8341 - val_loss: 0.4860\n",
      "Epoch 192/200\n",
      "\u001b[1m5859/5859\u001b[0m \u001b[32m━━━━━━━━━━━━━━━━━━━━\u001b[0m\u001b[37m\u001b[0m \u001b[1m3s\u001b[0m 569us/step - acc: 0.7499 - loss: 0.7136 - val_acc: 0.8339 - val_loss: 0.4883\n",
      "Epoch 193/200\n",
      "\u001b[1m5859/5859\u001b[0m \u001b[32m━━━━━━━━━━━━━━━━━━━━\u001b[0m\u001b[37m\u001b[0m \u001b[1m3s\u001b[0m 572us/step - acc: 0.7479 - loss: 0.7161 - val_acc: 0.8333 - val_loss: 0.4876\n",
      "Epoch 194/200\n",
      "\u001b[1m5859/5859\u001b[0m \u001b[32m━━━━━━━━━━━━━━━━━━━━\u001b[0m\u001b[37m\u001b[0m \u001b[1m3s\u001b[0m 575us/step - acc: 0.7483 - loss: 0.7125 - val_acc: 0.8365 - val_loss: 0.4851\n",
      "Epoch 195/200\n",
      "\u001b[1m5859/5859\u001b[0m \u001b[32m━━━━━━━━━━━━━━━━━━━━\u001b[0m\u001b[37m\u001b[0m \u001b[1m3s\u001b[0m 580us/step - acc: 0.7493 - loss: 0.7104 - val_acc: 0.8359 - val_loss: 0.4835\n",
      "Epoch 196/200\n",
      "\u001b[1m5859/5859\u001b[0m \u001b[32m━━━━━━━━━━━━━━━━━━━━\u001b[0m\u001b[37m\u001b[0m \u001b[1m3s\u001b[0m 571us/step - acc: 0.7496 - loss: 0.7112 - val_acc: 0.8341 - val_loss: 0.4889\n",
      "Epoch 197/200\n",
      "\u001b[1m5859/5859\u001b[0m \u001b[32m━━━━━━━━━━━━━━━━━━━━\u001b[0m\u001b[37m\u001b[0m \u001b[1m3s\u001b[0m 567us/step - acc: 0.7500 - loss: 0.7101 - val_acc: 0.8323 - val_loss: 0.4859\n",
      "Epoch 198/200\n",
      "\u001b[1m5859/5859\u001b[0m \u001b[32m━━━━━━━━━━━━━━━━━━━━\u001b[0m\u001b[37m\u001b[0m \u001b[1m3s\u001b[0m 567us/step - acc: 0.7514 - loss: 0.7067 - val_acc: 0.8370 - val_loss: 0.4802\n",
      "Epoch 199/200\n",
      "\u001b[1m5859/5859\u001b[0m \u001b[32m━━━━━━━━━━━━━━━━━━━━\u001b[0m\u001b[37m\u001b[0m \u001b[1m3s\u001b[0m 568us/step - acc: 0.7480 - loss: 0.7120 - val_acc: 0.8348 - val_loss: 0.4829\n",
      "Epoch 200/200\n",
      "\u001b[1m5859/5859\u001b[0m \u001b[32m━━━━━━━━━━━━━━━━━━━━\u001b[0m\u001b[37m\u001b[0m \u001b[1m3s\u001b[0m 579us/step - acc: 0.7512 - loss: 0.7087 - val_acc: 0.8350 - val_loss: 0.4863\n"
     ]
    }
   ],
   "source": [
    "### Train the model\n",
    "history = model.fit(X_train,\n",
    "                    y_train,\n",
    "                    batch_size=32,\n",
    "                    epochs=200,\n",
    "                    verbose=1,\n",
    "                    validation_data=(X_val, y_val)\n",
    "                   )"
   ]
  },
  {
   "cell_type": "markdown",
   "id": "fe785364-a10d-438c-8d65-0e833745e292",
   "metadata": {},
   "source": [
    "Evaluate model"
   ]
  },
  {
   "cell_type": "code",
   "execution_count": 32,
   "id": "326cc23e-300e-4fe7-80ec-a50263541c4f",
   "metadata": {},
   "outputs": [
    {
     "data": {
      "image/png": "[encoded data removed]",
      "text/plain": [
       "<Figure size 640x480 with 1 Axes>"
      ]
     },
     "metadata": {},
     "output_type": "display_data"
    },
    {
     "data": {
      "image/png": "[encoded data removed]",
      "text/plain": [
       "<Figure size 640x480 with 1 Axes>"
      ]
     },
     "metadata": {},
     "output_type": "display_data"
    }
   ],
   "source": [
    "### Plot training and validation accuracy and loss over time\n",
    "\n",
    "# Extract accuracy and loss values (in list form) from the history\n",
    "acc = history.history['acc']\n",
    "val_acc = history.history['val_acc']\n",
    "loss = history.history['loss']\n",
    "val_loss = history.history['val_loss']\n",
    "\n",
    "# Create a list of epoch numbers\n",
    "epochs = range(1, len(acc) + 1)\n",
    "\n",
    "# Plot training and validation loss values over time\n",
    "plt.figure()\n",
    "plt.plot(epochs, loss, color='blue', marker='.', label='Training loss')\n",
    "plt.plot(epochs, val_loss, color='orange', marker='.', label='Validation loss')\n",
    "plt.title('Training and validation loss')\n",
    "plt.legend()\n",
    "\n",
    "# Plot training and validation accuracies over time\n",
    "plt.figure()\n",
    "plt.plot(epochs, acc, color='blue', marker='.', label='Training acc')\n",
    "plt.plot(epochs, val_acc, color='orange', marker='.', label='Validation acc')\n",
    "plt.title('Training and validation accuracy')\n",
    "plt.legend()\n",
    "plt.show()"
   ]
  },
  {
   "cell_type": "code",
   "execution_count": 33,
   "id": "9a4c5361-5ec8-4257-a6d3-70eb1107ab7f",
   "metadata": {},
   "outputs": [
    {
     "name": "stdout",
     "output_type": "stream",
     "text": [
      "\u001b[1m1465/1465\u001b[0m \u001b[32m━━━━━━━━━━━━━━━━━━━━\u001b[0m\u001b[37m\u001b[0m \u001b[1m1s\u001b[0m 336us/step\n",
      "Validation output shape: (46865, 11)\n",
      "Actual validation labels:\t [ 2 10  1  9  9  9  6  0  7  1 10  8 10  4  1  8  2  0  5  0  3  5  1  9\n",
      "  5  4  8 10  9  4  1  7  5  5  5  2  4  9  5  2  3  6  2  5 10  9  7  1\n",
      "  1  0]\n",
      "Predicted validation labels:\t [ 8  1  4  9  2  9  6  0  7  1 10  8 10  4  3  8  6  0  6  0  3  1  1  9\n",
      "  2  4  8 10  9  4  1  7  5  5  5  2  4  5  5  2  8  6  2  5 10  8  7  5\n",
      "  1  0]\n",
      "\n",
      " ---> Predicted labels\n",
      "|\n",
      "v Actual labels\n",
      "\t\t\t(0)    (1)    (2)    (3)    (4)    (5)    (6)    (7)    (8)    (9)    (10)  \n",
      "           0 (0):  [  4277     10     15      0      2      8      7      0      8     18      0]\n",
      "           1 (1):  [     0   2671     17      9    256    436      1      0      0     34     55]\n",
      "           2 (2):  [     0    128   3428     90     26    212     26      0     32    576     53]\n",
      "           3 (3):  [     0    129    104   3903     72    272     10      0      2    245     18]\n",
      "           4 (4):  [     0    231     10     54   3717    305      3      0      0     60     13]\n",
      "           5 (5):  [     0    622     76     67    123   2182      3      0      3    201    181]\n",
      "           6 (6):  [     0     72     83     46     19    111   4092      0      1    163      7]\n",
      "           7 (7):  [     0     24      2      3      9     28      0   4294      0      4      5]\n",
      "           8 (8):  [     0     86    250    117     19    256     95      0   4195    273     85]\n",
      "           9 (9):  [     0    218    304     57     39    336     40      0      7   2588     45]\n",
      "          10 (10):  [     0     30      2      0      2     52     10      0      0     11   3784]\n"
     ]
    }
   ],
   "source": [
    "### Create confusion matrix from validation set\n",
    "\n",
    "# Find predictions from all validation samples\n",
    "y_pred = model.predict(X_val)\n",
    "print(\"Validation output shape:\", y_pred.shape)\n",
    "\n",
    "# Convert actual and predicted validation one-hot encoding to numerical labels\n",
    "y_val_trans = np.argmax(y_val, axis=1)\n",
    "y_pred_trans = np.argmax(y_pred, axis=1)\n",
    "\n",
    "# Print some values from actual and predicted validation sets (first 50 samples)\n",
    "print(\"Actual validation labels:\\t\", y_val_trans[:50])\n",
    "print(\"Predicted validation labels:\\t\", y_pred_trans[:50])\n",
    "\n",
    "# Compute confusion matrix (note: we need to transpose SKLearn matrix to make it match Edge Impulse)\n",
    "cm = confusion_matrix(y_val_trans, y_pred_trans)\n",
    "cm = np.transpose(cm)\n",
    "\n",
    "labels = range(len(gdf['uso_suelo'].unique()))\n",
    "\n",
    "# Print confusion matrix\n",
    "print()\n",
    "print(\" ---> Predicted labels\")\n",
    "print(\"|\")\n",
    "print(\"v Actual labels\")\n",
    "print(\"\\t\\t\\t\" + ' '.join(\"{!s:6}\".format('(' + str(i) + ')') for i in range(num_classes)))\n",
    "for row in range(num_classes):\n",
    "  print(\"{:>12} ({}):  [{}]\".format(labels[row], row, ' '.join(\"{:6}\".format(i) for i in cm[row])))\n",
    "    "
   ]
  },
  {
   "cell_type": "markdown",
   "id": "8be37c16-612e-40bd-a52c-5c29f82d7a49",
   "metadata": {},
   "source": [
    "Predict landuse for every element"
   ]
  },
  {
   "cell_type": "code",
   "execution_count": 35,
   "id": "c0a037f4-092d-48ad-978e-153eab95c3f0",
   "metadata": {},
   "outputs": [
    {
     "name": "stdout",
     "output_type": "stream",
     "text": [
      "\u001b[1m1159/1159\u001b[0m \u001b[32m━━━━━━━━━━━━━━━━━━━━\u001b[0m\u001b[37m\u001b[0m \u001b[1m1s\u001b[0m 572us/step\n"
     ]
    },
    {
     "name": "stderr",
     "output_type": "stream",
     "text": [
      "2025-07-17 12:46:18.346836: I external/local_xla/xla/stream_executor/cuda/subprocess_compilation.cc:346] ptxas warning : Registers are spilled to local memory in function 'gemm_fusion_dot_16', 8 bytes spill stores, 8 bytes spill loads\n",
      "\n"
     ]
    }
   ],
   "source": [
    "y_hat = model.predict(X)"
   ]
  },
  {
   "cell_type": "markdown",
   "id": "0b261529-9bc7-4797-96c3-11250d8a057f",
   "metadata": {},
   "source": [
    "Assign data to polygons"
   ]
  },
  {
   "cell_type": "code",
   "execution_count": 36,
   "id": "531318ae-91e3-4725-a6aa-695604f5cc84",
   "metadata": {},
   "outputs": [],
   "source": [
    "gdf['pred'] = y_hat.argmax(axis=1)"
   ]
  },
  {
   "cell_type": "markdown",
   "id": "d5231504-e17c-4156-a19c-091e8269682c",
   "metadata": {},
   "source": [
    "### Save output"
   ]
  },
  {
   "cell_type": "code",
   "execution_count": 37,
   "id": "60141096-5433-421e-8f2f-4ad293ac4d6b",
   "metadata": {},
   "outputs": [],
   "source": [
    "gdf.to_file('../../data/processed/prediccion_uso_suelo/test/tess_pca_pred.gpkg')"
   ]
  },
  {
   "cell_type": "code",
   "execution_count": null,
   "id": "1cb336fd-8ac2-47ad-bc50-3778f3b88e07",
   "metadata": {},
   "outputs": [],
   "source": []
  }
 ],
 "metadata": {
  "kernelspec": {
   "display_name": "Python 3 (ipykernel)",
   "language": "python",
   "name": "python3"
  },
  "language_info": {
   "codemirror_mode": {
    "name": "ipython",
    "version": 3
   },
   "file_extension": ".py",
   "mimetype": "text/x-python",
   "name": "python",
   "nbconvert_exporter": "python",
   "pygments_lexer": "ipython3",
   "version": "3.11.11"
  }
 },
 "nbformat": 4,
 "nbformat_minor": 5
}
