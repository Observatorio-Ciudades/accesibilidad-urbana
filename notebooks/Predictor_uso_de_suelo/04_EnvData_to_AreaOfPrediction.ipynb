{
 "cells": [
  {
   "cell_type": "markdown",
   "id": "6689ffaf-b37e-44c4-9a52-dca5830f340e",
   "metadata": {},
   "source": [
    "# Environmental data to area of prediction"
   ]
  },
  {
   "cell_type": "markdown",
   "id": "b6873b39-29d9-407b-a481-0315f033ff29",
   "metadata": {},
   "source": [
    "This notebook integrates environmental data from raster analysis to the area of prediction"
   ]
  },
  {
   "cell_type": "markdown",
   "id": "862e6673-8054-4898-ab38-d83cc3db4f46",
   "metadata": {},
   "source": [
    "## Import libraries"
   ]
  },
  {
   "cell_type": "code",
   "execution_count": 1,
   "id": "b6e04619-1299-4c0d-8a2f-ce48d2529624",
   "metadata": {},
   "outputs": [],
   "source": [
    "import geopandas as gpd\n",
    "import pandas as pd\n",
    "import numpy as np\n",
    "\n",
    "import matplotlib.pyplot as plt\n",
    "import seaborn as sns\n",
    "\n",
    "import aup"
   ]
  },
  {
   "cell_type": "markdown",
   "id": "f5bc20f4-99c4-402c-b3f0-65e41097c543",
   "metadata": {},
   "source": [
    "## Data download/read and preprocessing"
   ]
  },
  {
   "cell_type": "markdown",
   "id": "2b66ef40-cdb3-4a79-a877-6c212dc7acbf",
   "metadata": {},
   "source": [
    "### Area of prediction with variables"
   ]
  },
  {
   "cell_type": "code",
   "execution_count": 2,
   "id": "ebf1e696-f86c-47a9-a928-0f578cf7f674",
   "metadata": {},
   "outputs": [
    {
     "name": "stdout",
     "output_type": "stream",
     "text": [
      "(26735, 28)\n"
     ]
    },
    {
     "data": {
      "text/html": [
       "<div>\n",
       "<style scoped>\n",
       "    .dataframe tbody tr th:only-of-type {\n",
       "        vertical-align: middle;\n",
       "    }\n",
       "\n",
       "    .dataframe tbody tr th {\n",
       "        vertical-align: top;\n",
       "    }\n",
       "\n",
       "    .dataframe thead th {\n",
       "        text-align: right;\n",
       "    }\n",
       "</style>\n",
       "<table border=\"1\" class=\"dataframe\">\n",
       "  <thead>\n",
       "    <tr style=\"text-align: right;\">\n",
       "      <th></th>\n",
       "      <th>fid</th>\n",
       "      <th>UNUSO</th>\n",
       "      <th>area_m2</th>\n",
       "      <th>full_plus_code</th>\n",
       "      <th>CVEGEO</th>\n",
       "      <th>bld_area_m2</th>\n",
       "      <th>block_area_m2</th>\n",
       "      <th>pred_area_pct</th>\n",
       "      <th>pobtot</th>\n",
       "      <th>cultural_recreativo</th>\n",
       "      <th>...</th>\n",
       "      <th>uso_tot</th>\n",
       "      <th>pct_habitacional</th>\n",
       "      <th>pct_cultural_recreativo</th>\n",
       "      <th>pct_servicios</th>\n",
       "      <th>pct_comercio</th>\n",
       "      <th>pct_salud</th>\n",
       "      <th>pct_educacion</th>\n",
       "      <th>pct_gobierno</th>\n",
       "      <th>pct_industria</th>\n",
       "      <th>geometry</th>\n",
       "    </tr>\n",
       "  </thead>\n",
       "  <tbody>\n",
       "    <tr>\n",
       "      <th>0</th>\n",
       "      <td>263</td>\n",
       "      <td>Baldio</td>\n",
       "      <td>1492.077966</td>\n",
       "      <td>75GRMHVV+R4XJ</td>\n",
       "      <td>141200001116A008</td>\n",
       "      <td>82.3788</td>\n",
       "      <td>190471.939851</td>\n",
       "      <td>0.007834</td>\n",
       "      <td>277</td>\n",
       "      <td>0.0</td>\n",
       "      <td>...</td>\n",
       "      <td>2.151825</td>\n",
       "      <td>1.0</td>\n",
       "      <td>0.0</td>\n",
       "      <td>0.0</td>\n",
       "      <td>0.0</td>\n",
       "      <td>0.0</td>\n",
       "      <td>0.0</td>\n",
       "      <td>0.0</td>\n",
       "      <td>0.0</td>\n",
       "      <td>POLYGON ((665861.85 2289152.881, 665861.743 22...</td>\n",
       "    </tr>\n",
       "    <tr>\n",
       "      <th>1</th>\n",
       "      <td>264</td>\n",
       "      <td>Habitacional</td>\n",
       "      <td>192.276653</td>\n",
       "      <td>75GRMHVR+PR5P</td>\n",
       "      <td>141200001116A008</td>\n",
       "      <td>45.6562</td>\n",
       "      <td>190471.939851</td>\n",
       "      <td>0.001009</td>\n",
       "      <td>277</td>\n",
       "      <td>0.0</td>\n",
       "      <td>...</td>\n",
       "      <td>0.277295</td>\n",
       "      <td>1.0</td>\n",
       "      <td>0.0</td>\n",
       "      <td>0.0</td>\n",
       "      <td>0.0</td>\n",
       "      <td>0.0</td>\n",
       "      <td>0.0</td>\n",
       "      <td>0.0</td>\n",
       "      <td>0.0</td>\n",
       "      <td>POLYGON ((665814.876 2289122.473, 665814.781 2...</td>\n",
       "    </tr>\n",
       "  </tbody>\n",
       "</table>\n",
       "<p>2 rows × 28 columns</p>\n",
       "</div>"
      ],
      "text/plain": [
       "   fid         UNUSO      area_m2 full_plus_code            CVEGEO  \\\n",
       "0  263        Baldio  1492.077966  75GRMHVV+R4XJ  141200001116A008   \n",
       "1  264  Habitacional   192.276653  75GRMHVR+PR5P  141200001116A008   \n",
       "\n",
       "   bld_area_m2  block_area_m2  pred_area_pct  pobtot  cultural_recreativo  \\\n",
       "0      82.3788  190471.939851       0.007834     277                  0.0   \n",
       "1      45.6562  190471.939851       0.001009     277                  0.0   \n",
       "\n",
       "   ...   uso_tot  pct_habitacional  pct_cultural_recreativo  pct_servicios  \\\n",
       "0  ...  2.151825               1.0                      0.0            0.0   \n",
       "1  ...  0.277295               1.0                      0.0            0.0   \n",
       "\n",
       "   pct_comercio  pct_salud  pct_educacion  pct_gobierno  pct_industria  \\\n",
       "0           0.0        0.0            0.0           0.0            0.0   \n",
       "1           0.0        0.0            0.0           0.0            0.0   \n",
       "\n",
       "                                            geometry  \n",
       "0  POLYGON ((665861.85 2289152.881, 665861.743 22...  \n",
       "1  POLYGON ((665814.876 2289122.473, 665814.781 2...  \n",
       "\n",
       "[2 rows x 28 columns]"
      ]
     },
     "execution_count": 2,
     "metadata": {},
     "output_type": "execute_result"
    }
   ],
   "source": [
    "gdf = gpd.read_file('../../data/processed/prediccion_uso_suelo/tess_kde.geojson')\n",
    "print(gdf.shape)\n",
    "gdf.head(2)"
   ]
  },
  {
   "cell_type": "markdown",
   "id": "0fbb48a2-b625-4bcc-a79c-83ca511bc6bb",
   "metadata": {},
   "source": [
    "### Environmental data"
   ]
  },
  {
   "cell_type": "markdown",
   "id": "2f3b378a-e4bf-45d7-ad67-8ea5f217e33a",
   "metadata": {},
   "source": [
    "#### NDVI"
   ]
  },
  {
   "cell_type": "code",
   "execution_count": 3,
   "id": "083ab52f-4a60-4876-8b4c-1365796ca4a5",
   "metadata": {},
   "outputs": [
    {
     "name": "stdout",
     "output_type": "stream",
     "text": [
      "(480618, 2)\n"
     ]
    },
    {
     "data": {
      "text/html": [
       "<div>\n",
       "<style scoped>\n",
       "    .dataframe tbody tr th:only-of-type {\n",
       "        vertical-align: middle;\n",
       "    }\n",
       "\n",
       "    .dataframe tbody tr th {\n",
       "        vertical-align: top;\n",
       "    }\n",
       "\n",
       "    .dataframe thead th {\n",
       "        text-align: right;\n",
       "    }\n",
       "</style>\n",
       "<table border=\"1\" class=\"dataframe\">\n",
       "  <thead>\n",
       "    <tr style=\"text-align: right;\">\n",
       "      <th></th>\n",
       "      <th>hex_id</th>\n",
       "      <th>ndvi_mean</th>\n",
       "    </tr>\n",
       "  </thead>\n",
       "  <tbody>\n",
       "    <tr>\n",
       "      <th>0</th>\n",
       "      <td>8b49ab4b4858fff</td>\n",
       "      <td>0.131252</td>\n",
       "    </tr>\n",
       "    <tr>\n",
       "      <th>1</th>\n",
       "      <td>8b49ab593a93fff</td>\n",
       "      <td>0.199742</td>\n",
       "    </tr>\n",
       "  </tbody>\n",
       "</table>\n",
       "</div>"
      ],
      "text/plain": [
       "            hex_id  ndvi_mean\n",
       "0  8b49ab4b4858fff   0.131252\n",
       "1  8b49ab593a93fff   0.199742"
      ]
     },
     "execution_count": 3,
     "metadata": {},
     "output_type": "execute_result"
    }
   ],
   "source": [
    "schema = 'raster_analysis'\n",
    "table = 'ndvi_analysis_hex'\n",
    "city = 'Guadalajara'\n",
    "res = 11\n",
    "\n",
    "query = f'SELECT hex_id,ndvi_mean FROM {schema}.{table} WHERE \\\"city\\\" = \\'{city}\\' and \\\"res\\\"={res}'\n",
    "\n",
    "ndvi_gdf = aup.df_from_query(query)\n",
    "print(ndvi_gdf.shape)\n",
    "ndvi_gdf.head(2)"
   ]
  },
  {
   "cell_type": "markdown",
   "id": "a0812ae8-7945-48a6-a5cb-4c44689ebc10",
   "metadata": {},
   "source": [
    "#### NDMI"
   ]
  },
  {
   "cell_type": "code",
   "execution_count": 4,
   "id": "e570f872-1bd4-4b63-9c15-1a08f2a56e2f",
   "metadata": {},
   "outputs": [
    {
     "name": "stdout",
     "output_type": "stream",
     "text": [
      "(480618, 2)\n"
     ]
    },
    {
     "data": {
      "text/html": [
       "<div>\n",
       "<style scoped>\n",
       "    .dataframe tbody tr th:only-of-type {\n",
       "        vertical-align: middle;\n",
       "    }\n",
       "\n",
       "    .dataframe tbody tr th {\n",
       "        vertical-align: top;\n",
       "    }\n",
       "\n",
       "    .dataframe thead th {\n",
       "        text-align: right;\n",
       "    }\n",
       "</style>\n",
       "<table border=\"1\" class=\"dataframe\">\n",
       "  <thead>\n",
       "    <tr style=\"text-align: right;\">\n",
       "      <th></th>\n",
       "      <th>hex_id</th>\n",
       "      <th>ndmi_diff</th>\n",
       "    </tr>\n",
       "  </thead>\n",
       "  <tbody>\n",
       "    <tr>\n",
       "      <th>0</th>\n",
       "      <td>8b498c9442d5fff</td>\n",
       "      <td>0.037043</td>\n",
       "    </tr>\n",
       "    <tr>\n",
       "      <th>1</th>\n",
       "      <td>8b498c960081fff</td>\n",
       "      <td>0.036202</td>\n",
       "    </tr>\n",
       "  </tbody>\n",
       "</table>\n",
       "</div>"
      ],
      "text/plain": [
       "            hex_id  ndmi_diff\n",
       "0  8b498c9442d5fff   0.037043\n",
       "1  8b498c960081fff   0.036202"
      ]
     },
     "execution_count": 4,
     "metadata": {},
     "output_type": "execute_result"
    }
   ],
   "source": [
    "schema = 'raster_analysis'\n",
    "table = 'ndmi_analysis_hex'\n",
    "city = 'Guadalajara'\n",
    "res = 11\n",
    "\n",
    "query = f'SELECT hex_id,ndmi_diff FROM {schema}.{table} WHERE \\\"city\\\" = \\'{city}\\' and \\\"res\\\"={res}'\n",
    "\n",
    "ndmi_gdf = aup.df_from_query(query)\n",
    "print(ndmi_gdf.shape)\n",
    "ndmi_gdf.head(2)"
   ]
  },
  {
   "cell_type": "markdown",
   "id": "542bafc2-9881-4fc7-8e58-06e0375bcf97",
   "metadata": {},
   "source": [
    "#### Temperature"
   ]
  },
  {
   "cell_type": "code",
   "execution_count": 5,
   "id": "bea37283-5fcd-4546-9eea-0e70a07a783b",
   "metadata": {},
   "outputs": [
    {
     "name": "stdout",
     "output_type": "stream",
     "text": [
      "(480608, 3)\n"
     ]
    },
    {
     "data": {
      "text/html": [
       "<div>\n",
       "<style scoped>\n",
       "    .dataframe tbody tr th:only-of-type {\n",
       "        vertical-align: middle;\n",
       "    }\n",
       "\n",
       "    .dataframe tbody tr th {\n",
       "        vertical-align: top;\n",
       "    }\n",
       "\n",
       "    .dataframe thead th {\n",
       "        text-align: right;\n",
       "    }\n",
       "</style>\n",
       "<table border=\"1\" class=\"dataframe\">\n",
       "  <thead>\n",
       "    <tr style=\"text-align: right;\">\n",
       "      <th></th>\n",
       "      <th>hex_id</th>\n",
       "      <th>geometry</th>\n",
       "      <th>temperature_mean_diff</th>\n",
       "    </tr>\n",
       "  </thead>\n",
       "  <tbody>\n",
       "    <tr>\n",
       "      <th>0</th>\n",
       "      <td>8b498c96c82efff</td>\n",
       "      <td>POLYGON ((-103.38492 20.64897, -103.38474 20.6...</td>\n",
       "      <td>-1.168892</td>\n",
       "    </tr>\n",
       "    <tr>\n",
       "      <th>1</th>\n",
       "      <td>8b498c960081fff</td>\n",
       "      <td>POLYGON ((-103.33538 20.63189, -103.33521 20.6...</td>\n",
       "      <td>-1.392322</td>\n",
       "    </tr>\n",
       "  </tbody>\n",
       "</table>\n",
       "</div>"
      ],
      "text/plain": [
       "            hex_id                                           geometry  \\\n",
       "0  8b498c96c82efff  POLYGON ((-103.38492 20.64897, -103.38474 20.6...   \n",
       "1  8b498c960081fff  POLYGON ((-103.33538 20.63189, -103.33521 20.6...   \n",
       "\n",
       "   temperature_mean_diff  \n",
       "0              -1.168892  \n",
       "1              -1.392322  "
      ]
     },
     "execution_count": 5,
     "metadata": {},
     "output_type": "execute_result"
    }
   ],
   "source": [
    "schema = 'raster_analysis'\n",
    "table = 'temperature_analysis_hex'\n",
    "city = 'Guadalajara'\n",
    "res = 11\n",
    "\n",
    "query = f'SELECT hex_id,temperature_mean,geometry FROM {schema}.{table} WHERE \\\"city\\\" = \\'{city}\\' and \\\"res\\\"={res}'\n",
    "\n",
    "temp_gdf = aup.gdf_from_query(query, geometry_col='geometry')\n",
    "\n",
    "# calculate the variation from the mean\n",
    "temp_gdf = temp_gdf[~temp_gdf.temperature_mean.isin([float('inf')])].copy()\n",
    "temp_gdf['temperature_mean_diff'] = temp_gdf.temperature_mean.mean() - temp_gdf.temperature_mean\n",
    "temp_gdf = temp_gdf.drop(columns=['temperature_mean'])\n",
    "print(temp_gdf.shape)\n",
    "temp_gdf.head(2)"
   ]
  },
  {
   "cell_type": "markdown",
   "id": "58740309-e3dd-4e32-b5d3-75c2c4f9fcea",
   "metadata": {},
   "source": [
    "#### Merge environmental data"
   ]
  },
  {
   "cell_type": "code",
   "execution_count": 6,
   "id": "e2ae34fd-15d7-4268-87f1-925c37f5fc7e",
   "metadata": {},
   "outputs": [
    {
     "name": "stdout",
     "output_type": "stream",
     "text": [
      "(480608, 5)\n"
     ]
    },
    {
     "data": {
      "text/html": [
       "<div>\n",
       "<style scoped>\n",
       "    .dataframe tbody tr th:only-of-type {\n",
       "        vertical-align: middle;\n",
       "    }\n",
       "\n",
       "    .dataframe tbody tr th {\n",
       "        vertical-align: top;\n",
       "    }\n",
       "\n",
       "    .dataframe thead th {\n",
       "        text-align: right;\n",
       "    }\n",
       "</style>\n",
       "<table border=\"1\" class=\"dataframe\">\n",
       "  <thead>\n",
       "    <tr style=\"text-align: right;\">\n",
       "      <th></th>\n",
       "      <th>hex_id</th>\n",
       "      <th>geometry</th>\n",
       "      <th>temperature_mean_diff</th>\n",
       "      <th>ndvi_mean</th>\n",
       "      <th>ndmi_diff</th>\n",
       "    </tr>\n",
       "  </thead>\n",
       "  <tbody>\n",
       "    <tr>\n",
       "      <th>0</th>\n",
       "      <td>8b498c96c82efff</td>\n",
       "      <td>POLYGON ((-103.38492 20.64897, -103.38474 20.6...</td>\n",
       "      <td>-1.168892</td>\n",
       "      <td>0.019083</td>\n",
       "      <td>0.032225</td>\n",
       "    </tr>\n",
       "    <tr>\n",
       "      <th>1</th>\n",
       "      <td>8b498c960081fff</td>\n",
       "      <td>POLYGON ((-103.33538 20.63189, -103.33521 20.6...</td>\n",
       "      <td>-1.392322</td>\n",
       "      <td>0.108520</td>\n",
       "      <td>0.036202</td>\n",
       "    </tr>\n",
       "  </tbody>\n",
       "</table>\n",
       "</div>"
      ],
      "text/plain": [
       "            hex_id                                           geometry  \\\n",
       "0  8b498c96c82efff  POLYGON ((-103.38492 20.64897, -103.38474 20.6...   \n",
       "1  8b498c960081fff  POLYGON ((-103.33538 20.63189, -103.33521 20.6...   \n",
       "\n",
       "   temperature_mean_diff  ndvi_mean  ndmi_diff  \n",
       "0              -1.168892   0.019083   0.032225  \n",
       "1              -1.392322   0.108520   0.036202  "
      ]
     },
     "execution_count": 6,
     "metadata": {},
     "output_type": "execute_result"
    }
   ],
   "source": [
    "env_gdf = temp_gdf.copy()\n",
    "env_gdf = env_gdf.merge(ndvi_gdf, on='hex_id')\n",
    "env_gdf = env_gdf.merge(ndmi_gdf, on='hex_id')\n",
    "print(env_gdf.shape)\n",
    "env_gdf.head(2)"
   ]
  },
  {
   "cell_type": "markdown",
   "id": "6fa149e0-6ebe-41c3-92f0-2147cea57205",
   "metadata": {},
   "source": [
    "Delete unused data"
   ]
  },
  {
   "cell_type": "code",
   "execution_count": 7,
   "id": "309cb90d-455c-4358-a93b-c76d2bb08524",
   "metadata": {},
   "outputs": [],
   "source": [
    "del ndvi_gdf\n",
    "del ndmi_gdf\n",
    "del temp_gdf"
   ]
  },
  {
   "cell_type": "markdown",
   "id": "cc975324-9bc0-40a1-9a3e-58c61f81f7e3",
   "metadata": {},
   "source": [
    "## Environmental data to area of prediction"
   ]
  },
  {
   "cell_type": "code",
   "execution_count": 8,
   "id": "d0d9a325-4cf1-4dc6-9137-43369bca3807",
   "metadata": {},
   "outputs": [],
   "source": [
    "env_gdf = env_gdf.to_crs(\"EPSG:32613\")"
   ]
  },
  {
   "cell_type": "code",
   "execution_count": 9,
   "id": "b8191298-e22e-4d5f-8eea-100283eb857c",
   "metadata": {},
   "outputs": [
    {
     "name": "stdout",
     "output_type": "stream",
     "text": [
      "(62671, 4)\n"
     ]
    },
    {
     "data": {
      "text/html": [
       "<div>\n",
       "<style scoped>\n",
       "    .dataframe tbody tr th:only-of-type {\n",
       "        vertical-align: middle;\n",
       "    }\n",
       "\n",
       "    .dataframe tbody tr th {\n",
       "        vertical-align: top;\n",
       "    }\n",
       "\n",
       "    .dataframe thead th {\n",
       "        text-align: right;\n",
       "    }\n",
       "</style>\n",
       "<table border=\"1\" class=\"dataframe\">\n",
       "  <thead>\n",
       "    <tr style=\"text-align: right;\">\n",
       "      <th></th>\n",
       "      <th>full_plus_code</th>\n",
       "      <th>temperature_mean_diff</th>\n",
       "      <th>ndvi_mean</th>\n",
       "      <th>ndmi_diff</th>\n",
       "    </tr>\n",
       "  </thead>\n",
       "  <tbody>\n",
       "    <tr>\n",
       "      <th>0</th>\n",
       "      <td>75GRMHVV+R4XJ</td>\n",
       "      <td>4.570843</td>\n",
       "      <td>0.540453</td>\n",
       "      <td>0.098399</td>\n",
       "    </tr>\n",
       "    <tr>\n",
       "      <th>1</th>\n",
       "      <td>75GRMHVV+R4XJ</td>\n",
       "      <td>4.244152</td>\n",
       "      <td>0.239239</td>\n",
       "      <td>0.067320</td>\n",
       "    </tr>\n",
       "  </tbody>\n",
       "</table>\n",
       "</div>"
      ],
      "text/plain": [
       "  full_plus_code  temperature_mean_diff  ndvi_mean  ndmi_diff\n",
       "0  75GRMHVV+R4XJ               4.570843   0.540453   0.098399\n",
       "1  75GRMHVV+R4XJ               4.244152   0.239239   0.067320"
      ]
     },
     "execution_count": 9,
     "metadata": {},
     "output_type": "execute_result"
    }
   ],
   "source": [
    "gdf_int = gdf.overlay(env_gdf, how='intersection')\n",
    "gdf_int = gdf_int[['full_plus_code','temperature_mean_diff',\n",
    "        'ndvi_mean','ndmi_diff']].copy()\n",
    "print(gdf_int.shape)\n",
    "gdf_int.head(2)"
   ]
  },
  {
   "cell_type": "code",
   "execution_count": 10,
   "id": "acf7a637-40bd-4479-a742-5007f4f3e64e",
   "metadata": {},
   "outputs": [
    {
     "name": "stdout",
     "output_type": "stream",
     "text": [
      "(26616, 4)\n"
     ]
    },
    {
     "data": {
      "text/html": [
       "<div>\n",
       "<style scoped>\n",
       "    .dataframe tbody tr th:only-of-type {\n",
       "        vertical-align: middle;\n",
       "    }\n",
       "\n",
       "    .dataframe tbody tr th {\n",
       "        vertical-align: top;\n",
       "    }\n",
       "\n",
       "    .dataframe thead th {\n",
       "        text-align: right;\n",
       "    }\n",
       "</style>\n",
       "<table border=\"1\" class=\"dataframe\">\n",
       "  <thead>\n",
       "    <tr style=\"text-align: right;\">\n",
       "      <th></th>\n",
       "      <th>full_plus_code</th>\n",
       "      <th>temperature_mean_diff</th>\n",
       "      <th>ndvi_mean</th>\n",
       "      <th>ndmi_diff</th>\n",
       "    </tr>\n",
       "  </thead>\n",
       "  <tbody>\n",
       "    <tr>\n",
       "      <th>0</th>\n",
       "      <td>75GRMG9X+HGMQ</td>\n",
       "      <td>-1.593035</td>\n",
       "      <td>0.298389</td>\n",
       "      <td>0.257904</td>\n",
       "    </tr>\n",
       "    <tr>\n",
       "      <th>1</th>\n",
       "      <td>75GRMG9X+JFGQ</td>\n",
       "      <td>-2.460052</td>\n",
       "      <td>0.180289</td>\n",
       "      <td>0.166307</td>\n",
       "    </tr>\n",
       "  </tbody>\n",
       "</table>\n",
       "</div>"
      ],
      "text/plain": [
       "  full_plus_code  temperature_mean_diff  ndvi_mean  ndmi_diff\n",
       "0  75GRMG9X+HGMQ              -1.593035   0.298389   0.257904\n",
       "1  75GRMG9X+JFGQ              -2.460052   0.180289   0.166307"
      ]
     },
     "execution_count": 10,
     "metadata": {},
     "output_type": "execute_result"
    }
   ],
   "source": [
    "gdf_int = gdf_int.groupby('full_plus_code').mean().reset_index()\n",
    "print(gdf_int.shape)\n",
    "gdf_int.head(2)"
   ]
  },
  {
   "cell_type": "markdown",
   "id": "7261f495-9bd7-492c-908a-afa8ebc3e166",
   "metadata": {},
   "source": [
    "Merge data"
   ]
  },
  {
   "cell_type": "code",
   "execution_count": 11,
   "id": "71f5285f-3d1b-4559-832d-5751e794b1e7",
   "metadata": {},
   "outputs": [
    {
     "name": "stdout",
     "output_type": "stream",
     "text": [
      "(26735, 31)\n"
     ]
    },
    {
     "data": {
      "text/html": [
       "<div>\n",
       "<style scoped>\n",
       "    .dataframe tbody tr th:only-of-type {\n",
       "        vertical-align: middle;\n",
       "    }\n",
       "\n",
       "    .dataframe tbody tr th {\n",
       "        vertical-align: top;\n",
       "    }\n",
       "\n",
       "    .dataframe thead th {\n",
       "        text-align: right;\n",
       "    }\n",
       "</style>\n",
       "<table border=\"1\" class=\"dataframe\">\n",
       "  <thead>\n",
       "    <tr style=\"text-align: right;\">\n",
       "      <th></th>\n",
       "      <th>fid</th>\n",
       "      <th>UNUSO</th>\n",
       "      <th>area_m2</th>\n",
       "      <th>full_plus_code</th>\n",
       "      <th>CVEGEO</th>\n",
       "      <th>bld_area_m2</th>\n",
       "      <th>block_area_m2</th>\n",
       "      <th>pred_area_pct</th>\n",
       "      <th>pobtot</th>\n",
       "      <th>cultural_recreativo</th>\n",
       "      <th>...</th>\n",
       "      <th>pct_servicios</th>\n",
       "      <th>pct_comercio</th>\n",
       "      <th>pct_salud</th>\n",
       "      <th>pct_educacion</th>\n",
       "      <th>pct_gobierno</th>\n",
       "      <th>pct_industria</th>\n",
       "      <th>geometry</th>\n",
       "      <th>temperature_mean_diff</th>\n",
       "      <th>ndvi_mean</th>\n",
       "      <th>ndmi_diff</th>\n",
       "    </tr>\n",
       "  </thead>\n",
       "  <tbody>\n",
       "    <tr>\n",
       "      <th>0</th>\n",
       "      <td>263</td>\n",
       "      <td>Baldio</td>\n",
       "      <td>1492.077966</td>\n",
       "      <td>75GRMHVV+R4XJ</td>\n",
       "      <td>141200001116A008</td>\n",
       "      <td>82.3788</td>\n",
       "      <td>190471.939851</td>\n",
       "      <td>0.007834</td>\n",
       "      <td>277</td>\n",
       "      <td>0.0</td>\n",
       "      <td>...</td>\n",
       "      <td>0.0</td>\n",
       "      <td>0.0</td>\n",
       "      <td>0.0</td>\n",
       "      <td>0.0</td>\n",
       "      <td>0.0</td>\n",
       "      <td>0.0</td>\n",
       "      <td>POLYGON ((665861.85 2289152.881, 665861.743 22...</td>\n",
       "      <td>4.448344</td>\n",
       "      <td>0.365584</td>\n",
       "      <td>0.075350</td>\n",
       "    </tr>\n",
       "    <tr>\n",
       "      <th>1</th>\n",
       "      <td>264</td>\n",
       "      <td>Habitacional</td>\n",
       "      <td>192.276653</td>\n",
       "      <td>75GRMHVR+PR5P</td>\n",
       "      <td>141200001116A008</td>\n",
       "      <td>45.6562</td>\n",
       "      <td>190471.939851</td>\n",
       "      <td>0.001009</td>\n",
       "      <td>277</td>\n",
       "      <td>0.0</td>\n",
       "      <td>...</td>\n",
       "      <td>0.0</td>\n",
       "      <td>0.0</td>\n",
       "      <td>0.0</td>\n",
       "      <td>0.0</td>\n",
       "      <td>0.0</td>\n",
       "      <td>0.0</td>\n",
       "      <td>POLYGON ((665814.876 2289122.473, 665814.781 2...</td>\n",
       "      <td>3.326428</td>\n",
       "      <td>0.292687</td>\n",
       "      <td>0.066635</td>\n",
       "    </tr>\n",
       "  </tbody>\n",
       "</table>\n",
       "<p>2 rows × 31 columns</p>\n",
       "</div>"
      ],
      "text/plain": [
       "   fid         UNUSO      area_m2 full_plus_code            CVEGEO  \\\n",
       "0  263        Baldio  1492.077966  75GRMHVV+R4XJ  141200001116A008   \n",
       "1  264  Habitacional   192.276653  75GRMHVR+PR5P  141200001116A008   \n",
       "\n",
       "   bld_area_m2  block_area_m2  pred_area_pct  pobtot  cultural_recreativo  \\\n",
       "0      82.3788  190471.939851       0.007834     277                  0.0   \n",
       "1      45.6562  190471.939851       0.001009     277                  0.0   \n",
       "\n",
       "   ...  pct_servicios  pct_comercio  pct_salud  pct_educacion  pct_gobierno  \\\n",
       "0  ...            0.0           0.0        0.0            0.0           0.0   \n",
       "1  ...            0.0           0.0        0.0            0.0           0.0   \n",
       "\n",
       "   pct_industria                                           geometry  \\\n",
       "0            0.0  POLYGON ((665861.85 2289152.881, 665861.743 22...   \n",
       "1            0.0  POLYGON ((665814.876 2289122.473, 665814.781 2...   \n",
       "\n",
       "   temperature_mean_diff  ndvi_mean  ndmi_diff  \n",
       "0               4.448344   0.365584   0.075350  \n",
       "1               3.326428   0.292687   0.066635  \n",
       "\n",
       "[2 rows x 31 columns]"
      ]
     },
     "execution_count": 11,
     "metadata": {},
     "output_type": "execute_result"
    }
   ],
   "source": [
    "gdf = gdf.merge(gdf_int, on='full_plus_code')\n",
    "print(gdf.shape)\n",
    "gdf.head(2)"
   ]
  },
  {
   "cell_type": "markdown",
   "id": "0fb97150-961a-41b5-9bea-81eed0485b08",
   "metadata": {},
   "source": [
    "Save data"
   ]
  },
  {
   "cell_type": "code",
   "execution_count": 12,
   "id": "a0e7293a-f9c0-4978-aef5-20a7fd8be1b5",
   "metadata": {},
   "outputs": [],
   "source": [
    "gdf.to_file('../../data/processed/prediccion_uso_suelo/tess_kde_env.geojson')"
   ]
  }
 ],
 "metadata": {
  "kernelspec": {
   "display_name": "GDS-10.0",
   "language": "python",
   "name": "gds"
  },
  "language_info": {
   "codemirror_mode": {
    "name": "ipython",
    "version": 3
   },
   "file_extension": ".py",
   "mimetype": "text/x-python",
   "name": "python",
   "nbconvert_exporter": "python",
   "pygments_lexer": "ipython3",
   "version": "3.9.18"
  }
 },
 "nbformat": 4,
 "nbformat_minor": 5
}
