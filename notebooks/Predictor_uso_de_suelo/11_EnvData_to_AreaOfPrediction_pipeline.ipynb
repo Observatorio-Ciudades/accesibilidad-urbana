{
 "cells": [
  {
   "cell_type": "markdown",
   "id": "6689ffaf-b37e-44c4-9a52-dca5830f340e",
   "metadata": {},
   "source": [
    "# Environmental data to area of prediction"
   ]
  },
  {
   "cell_type": "markdown",
   "id": "b6873b39-29d9-407b-a481-0315f033ff29",
   "metadata": {},
   "source": [
    "This notebook integrates environmental data from raster analysis to the area of prediction"
   ]
  },
  {
   "cell_type": "markdown",
   "id": "862e6673-8054-4898-ab38-d83cc3db4f46",
   "metadata": {},
   "source": [
    "## Import libraries"
   ]
  },
  {
   "cell_type": "code",
   "execution_count": 1,
   "id": "b6e04619-1299-4c0d-8a2f-ce48d2529624",
   "metadata": {},
   "outputs": [],
   "source": [
    "import geopandas as gpd\n",
    "import pandas as pd\n",
    "import numpy as np\n",
    "\n",
    "import matplotlib.pyplot as plt\n",
    "import seaborn as sns\n",
    "\n",
    "import aup"
   ]
  },
  {
   "cell_type": "markdown",
   "id": "f5bc20f4-99c4-402c-b3f0-65e41097c543",
   "metadata": {},
   "source": [
    "## Data download/read and preprocessing"
   ]
  },
  {
   "cell_type": "markdown",
   "id": "2b66ef40-cdb3-4a79-a877-6c212dc7acbf",
   "metadata": {},
   "source": [
    "### Area of prediction with variables"
   ]
  },
  {
   "cell_type": "code",
   "execution_count": 2,
   "id": "ebf1e696-f86c-47a9-a928-0f578cf7f674",
   "metadata": {},
   "outputs": [
    {
     "name": "stdout",
     "output_type": "stream",
     "text": [
      "(682605, 34)\n"
     ]
    },
    {
     "data": {
      "text/html": [
       "<div>\n",
       "<style scoped>\n",
       "    .dataframe tbody tr th:only-of-type {\n",
       "        vertical-align: middle;\n",
       "    }\n",
       "\n",
       "    .dataframe tbody tr th {\n",
       "        vertical-align: top;\n",
       "    }\n",
       "\n",
       "    .dataframe thead th {\n",
       "        text-align: right;\n",
       "    }\n",
       "</style>\n",
       "<table border=\"1\" class=\"dataframe\">\n",
       "  <thead>\n",
       "    <tr style=\"text-align: right;\">\n",
       "      <th></th>\n",
       "      <th>uso_suelo</th>\n",
       "      <th>area_m2</th>\n",
       "      <th>full_plus_code</th>\n",
       "      <th>CVEGEO</th>\n",
       "      <th>bld_area_m2</th>\n",
       "      <th>block_area_m2</th>\n",
       "      <th>pred_area_m2</th>\n",
       "      <th>pred_area_pct</th>\n",
       "      <th>bld_pred_area_pct</th>\n",
       "      <th>pobtot</th>\n",
       "      <th>...</th>\n",
       "      <th>pct_industria</th>\n",
       "      <th>pct_servicios</th>\n",
       "      <th>pct_alojamiento</th>\n",
       "      <th>pct_comercio</th>\n",
       "      <th>pct_cultural_recreativo</th>\n",
       "      <th>pct_educacion</th>\n",
       "      <th>pct_salud</th>\n",
       "      <th>pct_gobierno</th>\n",
       "      <th>pct_otros</th>\n",
       "      <th>geometry</th>\n",
       "    </tr>\n",
       "  </thead>\n",
       "  <tbody>\n",
       "    <tr>\n",
       "      <th>0</th>\n",
       "      <td>Sin dato</td>\n",
       "      <td>67.279056</td>\n",
       "      <td>75GRMGQW+89PG</td>\n",
       "      <td>1412000011206018</td>\n",
       "      <td>12.438638</td>\n",
       "      <td>278416.454431</td>\n",
       "      <td>67.279056</td>\n",
       "      <td>0.000242</td>\n",
       "      <td>0.184881</td>\n",
       "      <td>0</td>\n",
       "      <td>...</td>\n",
       "      <td>0.0</td>\n",
       "      <td>0.0</td>\n",
       "      <td>0.0</td>\n",
       "      <td>0.0</td>\n",
       "      <td>0.0</td>\n",
       "      <td>0.0</td>\n",
       "      <td>0.0</td>\n",
       "      <td>0.0</td>\n",
       "      <td>0.0</td>\n",
       "      <td>MULTIPOLYGON (((2349152.724 965335.704, 234914...</td>\n",
       "    </tr>\n",
       "    <tr>\n",
       "      <th>1</th>\n",
       "      <td>Sin dato</td>\n",
       "      <td>45.355545</td>\n",
       "      <td>75GRMGQW+8CFP</td>\n",
       "      <td>1412000011206018</td>\n",
       "      <td>4.482118</td>\n",
       "      <td>278416.454431</td>\n",
       "      <td>45.355545</td>\n",
       "      <td>0.000163</td>\n",
       "      <td>0.098822</td>\n",
       "      <td>0</td>\n",
       "      <td>...</td>\n",
       "      <td>0.0</td>\n",
       "      <td>0.0</td>\n",
       "      <td>0.0</td>\n",
       "      <td>0.0</td>\n",
       "      <td>0.0</td>\n",
       "      <td>0.0</td>\n",
       "      <td>0.0</td>\n",
       "      <td>0.0</td>\n",
       "      <td>0.0</td>\n",
       "      <td>MULTIPOLYGON (((2349168.91 965335.176, 2349157...</td>\n",
       "    </tr>\n",
       "  </tbody>\n",
       "</table>\n",
       "<p>2 rows × 34 columns</p>\n",
       "</div>"
      ],
      "text/plain": [
       "  uso_suelo    area_m2 full_plus_code            CVEGEO  bld_area_m2  \\\n",
       "0  Sin dato  67.279056  75GRMGQW+89PG  1412000011206018    12.438638   \n",
       "1  Sin dato  45.355545  75GRMGQW+8CFP  1412000011206018     4.482118   \n",
       "\n",
       "   block_area_m2  pred_area_m2  pred_area_pct  bld_pred_area_pct  pobtot  ...  \\\n",
       "0  278416.454431     67.279056       0.000242           0.184881       0  ...   \n",
       "1  278416.454431     45.355545       0.000163           0.098822       0  ...   \n",
       "\n",
       "   pct_industria  pct_servicios  pct_alojamiento  pct_comercio  \\\n",
       "0            0.0            0.0              0.0           0.0   \n",
       "1            0.0            0.0              0.0           0.0   \n",
       "\n",
       "   pct_cultural_recreativo  pct_educacion  pct_salud  pct_gobierno  pct_otros  \\\n",
       "0                      0.0            0.0        0.0           0.0        0.0   \n",
       "1                      0.0            0.0        0.0           0.0        0.0   \n",
       "\n",
       "                                            geometry  \n",
       "0  MULTIPOLYGON (((2349152.724 965335.704, 234914...  \n",
       "1  MULTIPOLYGON (((2349168.91 965335.176, 2349157...  \n",
       "\n",
       "[2 rows x 34 columns]"
      ]
     },
     "execution_count": 2,
     "metadata": {},
     "output_type": "execute_result"
    }
   ],
   "source": [
    "gdf = gpd.read_file('../../data/processed/prediccion_uso_suelo/complete_model/area_of_prediction_kde.gpkg')\n",
    "print(gdf.shape)\n",
    "gdf.head(2)"
   ]
  },
  {
   "cell_type": "markdown",
   "id": "0fbb48a2-b625-4bcc-a79c-83ca511bc6bb",
   "metadata": {},
   "source": [
    "### Environmental data"
   ]
  },
  {
   "cell_type": "markdown",
   "id": "2f3b378a-e4bf-45d7-ad67-8ea5f217e33a",
   "metadata": {},
   "source": [
    "#### NDVI"
   ]
  },
  {
   "cell_type": "code",
   "execution_count": 3,
   "id": "083ab52f-4a60-4876-8b4c-1365796ca4a5",
   "metadata": {},
   "outputs": [
    {
     "name": "stdout",
     "output_type": "stream",
     "text": [
      "(480618, 2)\n"
     ]
    },
    {
     "data": {
      "text/html": [
       "<div>\n",
       "<style scoped>\n",
       "    .dataframe tbody tr th:only-of-type {\n",
       "        vertical-align: middle;\n",
       "    }\n",
       "\n",
       "    .dataframe tbody tr th {\n",
       "        vertical-align: top;\n",
       "    }\n",
       "\n",
       "    .dataframe thead th {\n",
       "        text-align: right;\n",
       "    }\n",
       "</style>\n",
       "<table border=\"1\" class=\"dataframe\">\n",
       "  <thead>\n",
       "    <tr style=\"text-align: right;\">\n",
       "      <th></th>\n",
       "      <th>hex_id</th>\n",
       "      <th>ndvi_mean</th>\n",
       "    </tr>\n",
       "  </thead>\n",
       "  <tbody>\n",
       "    <tr>\n",
       "      <th>0</th>\n",
       "      <td>8b49ab49876efff</td>\n",
       "      <td>0.123750</td>\n",
       "    </tr>\n",
       "    <tr>\n",
       "      <th>1</th>\n",
       "      <td>8b49ab583da8fff</td>\n",
       "      <td>0.096197</td>\n",
       "    </tr>\n",
       "  </tbody>\n",
       "</table>\n",
       "</div>"
      ],
      "text/plain": [
       "            hex_id  ndvi_mean\n",
       "0  8b49ab49876efff   0.123750\n",
       "1  8b49ab583da8fff   0.096197"
      ]
     },
     "execution_count": 3,
     "metadata": {},
     "output_type": "execute_result"
    }
   ],
   "source": [
    "schema = 'raster_analysis'\n",
    "table = 'ndvi_analysis_hex'\n",
    "city = 'Guadalajara'\n",
    "res = 11\n",
    "\n",
    "query = f'SELECT hex_id,ndvi_mean FROM {schema}.{table} WHERE \\\"city\\\" = \\'{city}\\' and \\\"res\\\"={res}'\n",
    "\n",
    "ndvi_gdf = aup.df_from_query(query)\n",
    "print(ndvi_gdf.shape)\n",
    "ndvi_gdf.head(2)"
   ]
  },
  {
   "cell_type": "markdown",
   "id": "a0812ae8-7945-48a6-a5cb-4c44689ebc10",
   "metadata": {},
   "source": [
    "#### NDMI"
   ]
  },
  {
   "cell_type": "code",
   "execution_count": 4,
   "id": "e570f872-1bd4-4b63-9c15-1a08f2a56e2f",
   "metadata": {},
   "outputs": [
    {
     "name": "stdout",
     "output_type": "stream",
     "text": [
      "(480618, 2)\n"
     ]
    },
    {
     "data": {
      "text/html": [
       "<div>\n",
       "<style scoped>\n",
       "    .dataframe tbody tr th:only-of-type {\n",
       "        vertical-align: middle;\n",
       "    }\n",
       "\n",
       "    .dataframe tbody tr th {\n",
       "        vertical-align: top;\n",
       "    }\n",
       "\n",
       "    .dataframe thead th {\n",
       "        text-align: right;\n",
       "    }\n",
       "</style>\n",
       "<table border=\"1\" class=\"dataframe\">\n",
       "  <thead>\n",
       "    <tr style=\"text-align: right;\">\n",
       "      <th></th>\n",
       "      <th>hex_id</th>\n",
       "      <th>ndmi_diff</th>\n",
       "    </tr>\n",
       "  </thead>\n",
       "  <tbody>\n",
       "    <tr>\n",
       "      <th>0</th>\n",
       "      <td>8b49ab58ad99fff</td>\n",
       "      <td>0.187656</td>\n",
       "    </tr>\n",
       "    <tr>\n",
       "      <th>1</th>\n",
       "      <td>8b49ab586b85fff</td>\n",
       "      <td>0.096924</td>\n",
       "    </tr>\n",
       "  </tbody>\n",
       "</table>\n",
       "</div>"
      ],
      "text/plain": [
       "            hex_id  ndmi_diff\n",
       "0  8b49ab58ad99fff   0.187656\n",
       "1  8b49ab586b85fff   0.096924"
      ]
     },
     "execution_count": 4,
     "metadata": {},
     "output_type": "execute_result"
    }
   ],
   "source": [
    "schema = 'raster_analysis'\n",
    "table = 'ndmi_analysis_hex'\n",
    "city = 'Guadalajara'\n",
    "res = 11\n",
    "\n",
    "query = f'SELECT hex_id,ndmi_diff FROM {schema}.{table} WHERE \\\"city\\\" = \\'{city}\\' and \\\"res\\\"={res}'\n",
    "\n",
    "ndmi_gdf = aup.df_from_query(query)\n",
    "print(ndmi_gdf.shape)\n",
    "ndmi_gdf.head(2)"
   ]
  },
  {
   "cell_type": "markdown",
   "id": "542bafc2-9881-4fc7-8e58-06e0375bcf97",
   "metadata": {},
   "source": [
    "#### Temperature"
   ]
  },
  {
   "cell_type": "code",
   "execution_count": 5,
   "id": "bea37283-5fcd-4546-9eea-0e70a07a783b",
   "metadata": {},
   "outputs": [
    {
     "name": "stdout",
     "output_type": "stream",
     "text": [
      "(480608, 3)\n"
     ]
    },
    {
     "data": {
      "text/html": [
       "<div>\n",
       "<style scoped>\n",
       "    .dataframe tbody tr th:only-of-type {\n",
       "        vertical-align: middle;\n",
       "    }\n",
       "\n",
       "    .dataframe tbody tr th {\n",
       "        vertical-align: top;\n",
       "    }\n",
       "\n",
       "    .dataframe thead th {\n",
       "        text-align: right;\n",
       "    }\n",
       "</style>\n",
       "<table border=\"1\" class=\"dataframe\">\n",
       "  <thead>\n",
       "    <tr style=\"text-align: right;\">\n",
       "      <th></th>\n",
       "      <th>hex_id</th>\n",
       "      <th>geometry</th>\n",
       "      <th>temperature_mean_diff</th>\n",
       "    </tr>\n",
       "  </thead>\n",
       "  <tbody>\n",
       "    <tr>\n",
       "      <th>0</th>\n",
       "      <td>8b498c944988fff</td>\n",
       "      <td>POLYGON ((-103.31449 20.65493, -103.31432 20.6...</td>\n",
       "      <td>-1.195990</td>\n",
       "    </tr>\n",
       "    <tr>\n",
       "      <th>1</th>\n",
       "      <td>8b498c960081fff</td>\n",
       "      <td>POLYGON ((-103.33538 20.63189, -103.33521 20.6...</td>\n",
       "      <td>-1.392322</td>\n",
       "    </tr>\n",
       "  </tbody>\n",
       "</table>\n",
       "</div>"
      ],
      "text/plain": [
       "            hex_id                                           geometry  \\\n",
       "0  8b498c944988fff  POLYGON ((-103.31449 20.65493, -103.31432 20.6...   \n",
       "1  8b498c960081fff  POLYGON ((-103.33538 20.63189, -103.33521 20.6...   \n",
       "\n",
       "   temperature_mean_diff  \n",
       "0              -1.195990  \n",
       "1              -1.392322  "
      ]
     },
     "execution_count": 5,
     "metadata": {},
     "output_type": "execute_result"
    }
   ],
   "source": [
    "schema = 'raster_analysis'\n",
    "table = 'temperature_analysis_hex'\n",
    "city = 'Guadalajara'\n",
    "res = 11\n",
    "\n",
    "query = f'SELECT hex_id,temperature_mean,geometry FROM {schema}.{table} WHERE \\\"city\\\" = \\'{city}\\' and \\\"res\\\"={res}'\n",
    "\n",
    "temp_gdf = aup.gdf_from_query(query, geometry_col='geometry')\n",
    "\n",
    "# calculate the variation from the mean\n",
    "temp_gdf = temp_gdf[~temp_gdf.temperature_mean.isin([float('inf')])].copy()\n",
    "temp_gdf['temperature_mean_diff'] = temp_gdf.temperature_mean.mean() - temp_gdf.temperature_mean\n",
    "temp_gdf = temp_gdf.drop(columns=['temperature_mean'])\n",
    "print(temp_gdf.shape)\n",
    "temp_gdf.head(2)"
   ]
  },
  {
   "cell_type": "markdown",
   "id": "58740309-e3dd-4e32-b5d3-75c2c4f9fcea",
   "metadata": {},
   "source": [
    "#### Merge environmental data"
   ]
  },
  {
   "cell_type": "code",
   "execution_count": 6,
   "id": "e2ae34fd-15d7-4268-87f1-925c37f5fc7e",
   "metadata": {},
   "outputs": [
    {
     "name": "stdout",
     "output_type": "stream",
     "text": [
      "(480608, 5)\n"
     ]
    },
    {
     "data": {
      "text/html": [
       "<div>\n",
       "<style scoped>\n",
       "    .dataframe tbody tr th:only-of-type {\n",
       "        vertical-align: middle;\n",
       "    }\n",
       "\n",
       "    .dataframe tbody tr th {\n",
       "        vertical-align: top;\n",
       "    }\n",
       "\n",
       "    .dataframe thead th {\n",
       "        text-align: right;\n",
       "    }\n",
       "</style>\n",
       "<table border=\"1\" class=\"dataframe\">\n",
       "  <thead>\n",
       "    <tr style=\"text-align: right;\">\n",
       "      <th></th>\n",
       "      <th>hex_id</th>\n",
       "      <th>geometry</th>\n",
       "      <th>temperature_mean_diff</th>\n",
       "      <th>ndvi_mean</th>\n",
       "      <th>ndmi_diff</th>\n",
       "    </tr>\n",
       "  </thead>\n",
       "  <tbody>\n",
       "    <tr>\n",
       "      <th>0</th>\n",
       "      <td>8b498c944988fff</td>\n",
       "      <td>POLYGON ((-103.31449 20.65493, -103.31432 20.6...</td>\n",
       "      <td>-1.195990</td>\n",
       "      <td>0.14399</td>\n",
       "      <td>0.036642</td>\n",
       "    </tr>\n",
       "    <tr>\n",
       "      <th>1</th>\n",
       "      <td>8b498c960081fff</td>\n",
       "      <td>POLYGON ((-103.33538 20.63189, -103.33521 20.6...</td>\n",
       "      <td>-1.392322</td>\n",
       "      <td>0.10852</td>\n",
       "      <td>0.036202</td>\n",
       "    </tr>\n",
       "  </tbody>\n",
       "</table>\n",
       "</div>"
      ],
      "text/plain": [
       "            hex_id                                           geometry  \\\n",
       "0  8b498c944988fff  POLYGON ((-103.31449 20.65493, -103.31432 20.6...   \n",
       "1  8b498c960081fff  POLYGON ((-103.33538 20.63189, -103.33521 20.6...   \n",
       "\n",
       "   temperature_mean_diff  ndvi_mean  ndmi_diff  \n",
       "0              -1.195990    0.14399   0.036642  \n",
       "1              -1.392322    0.10852   0.036202  "
      ]
     },
     "execution_count": 6,
     "metadata": {},
     "output_type": "execute_result"
    }
   ],
   "source": [
    "env_gdf = temp_gdf.copy()\n",
    "env_gdf = env_gdf.merge(ndvi_gdf, on='hex_id')\n",
    "env_gdf = env_gdf.merge(ndmi_gdf, on='hex_id')\n",
    "print(env_gdf.shape)\n",
    "env_gdf.head(2)"
   ]
  },
  {
   "cell_type": "markdown",
   "id": "6fa149e0-6ebe-41c3-92f0-2147cea57205",
   "metadata": {},
   "source": [
    "Delete unused data"
   ]
  },
  {
   "cell_type": "code",
   "execution_count": 7,
   "id": "309cb90d-455c-4358-a93b-c76d2bb08524",
   "metadata": {},
   "outputs": [],
   "source": [
    "del ndvi_gdf\n",
    "del ndmi_gdf\n",
    "del temp_gdf"
   ]
  },
  {
   "cell_type": "markdown",
   "id": "cc975324-9bc0-40a1-9a3e-58c61f81f7e3",
   "metadata": {},
   "source": [
    "## Environmental data to area of prediction"
   ]
  },
  {
   "cell_type": "code",
   "execution_count": 8,
   "id": "d0d9a325-4cf1-4dc6-9137-43369bca3807",
   "metadata": {},
   "outputs": [],
   "source": [
    "env_gdf = env_gdf.to_crs(\"EPSG:6372\")"
   ]
  },
  {
   "cell_type": "code",
   "execution_count": 9,
   "id": "b8191298-e22e-4d5f-8eea-100283eb857c",
   "metadata": {},
   "outputs": [
    {
     "name": "stderr",
     "output_type": "stream",
     "text": [
      "/home/edgaregurrola/.cache/pypoetry/virtualenvs/aup-qDsIK5d5-py3.11/lib/python3.11/site-packages/geopandas/geodataframe.py:2675: UserWarning: `keep_geom_type=True` in overlay resulted in 29036 dropped geometries of different geometry types than df1 has. Set `keep_geom_type=False` to retain all geometries\n",
      "  return geopandas.overlay(\n"
     ]
    },
    {
     "name": "stdout",
     "output_type": "stream",
     "text": [
      "(1175745, 4)\n"
     ]
    },
    {
     "data": {
      "text/html": [
       "<div>\n",
       "<style scoped>\n",
       "    .dataframe tbody tr th:only-of-type {\n",
       "        vertical-align: middle;\n",
       "    }\n",
       "\n",
       "    .dataframe tbody tr th {\n",
       "        vertical-align: top;\n",
       "    }\n",
       "\n",
       "    .dataframe thead th {\n",
       "        text-align: right;\n",
       "    }\n",
       "</style>\n",
       "<table border=\"1\" class=\"dataframe\">\n",
       "  <thead>\n",
       "    <tr style=\"text-align: right;\">\n",
       "      <th></th>\n",
       "      <th>full_plus_code</th>\n",
       "      <th>temperature_mean_diff</th>\n",
       "      <th>ndvi_mean</th>\n",
       "      <th>ndmi_diff</th>\n",
       "    </tr>\n",
       "  </thead>\n",
       "  <tbody>\n",
       "    <tr>\n",
       "      <th>0</th>\n",
       "      <td>75GRMGQW+89PG</td>\n",
       "      <td>1.787026</td>\n",
       "      <td>0.084339</td>\n",
       "      <td>0.045966</td>\n",
       "    </tr>\n",
       "    <tr>\n",
       "      <th>1</th>\n",
       "      <td>75GRMGQW+8CFP</td>\n",
       "      <td>1.787026</td>\n",
       "      <td>0.084339</td>\n",
       "      <td>0.045966</td>\n",
       "    </tr>\n",
       "  </tbody>\n",
       "</table>\n",
       "</div>"
      ],
      "text/plain": [
       "  full_plus_code  temperature_mean_diff  ndvi_mean  ndmi_diff\n",
       "0  75GRMGQW+89PG               1.787026   0.084339   0.045966\n",
       "1  75GRMGQW+8CFP               1.787026   0.084339   0.045966"
      ]
     },
     "execution_count": 9,
     "metadata": {},
     "output_type": "execute_result"
    }
   ],
   "source": [
    "gdf_int = gdf.overlay(env_gdf, how='intersection')\n",
    "gdf_int = gdf_int[['full_plus_code','temperature_mean_diff',\n",
    "        'ndvi_mean','ndmi_diff']].copy()\n",
    "print(gdf_int.shape)\n",
    "gdf_int.head(2)"
   ]
  },
  {
   "cell_type": "code",
   "execution_count": 10,
   "id": "acf7a637-40bd-4479-a742-5007f4f3e64e",
   "metadata": {},
   "outputs": [
    {
     "name": "stdout",
     "output_type": "stream",
     "text": [
      "(676931, 4)\n"
     ]
    },
    {
     "data": {
      "text/html": [
       "<div>\n",
       "<style scoped>\n",
       "    .dataframe tbody tr th:only-of-type {\n",
       "        vertical-align: middle;\n",
       "    }\n",
       "\n",
       "    .dataframe tbody tr th {\n",
       "        vertical-align: top;\n",
       "    }\n",
       "\n",
       "    .dataframe thead th {\n",
       "        text-align: right;\n",
       "    }\n",
       "</style>\n",
       "<table border=\"1\" class=\"dataframe\">\n",
       "  <thead>\n",
       "    <tr style=\"text-align: right;\">\n",
       "      <th></th>\n",
       "      <th>full_plus_code</th>\n",
       "      <th>temperature_mean_diff</th>\n",
       "      <th>ndvi_mean</th>\n",
       "      <th>ndmi_diff</th>\n",
       "    </tr>\n",
       "  </thead>\n",
       "  <tbody>\n",
       "    <tr>\n",
       "      <th>0</th>\n",
       "      <td>75GRHGWX+JV75</td>\n",
       "      <td>3.041140</td>\n",
       "      <td>0.291476</td>\n",
       "      <td>0.085328</td>\n",
       "    </tr>\n",
       "    <tr>\n",
       "      <th>1</th>\n",
       "      <td>75GRHGWX+JV95</td>\n",
       "      <td>2.774119</td>\n",
       "      <td>0.197240</td>\n",
       "      <td>0.065725</td>\n",
       "    </tr>\n",
       "  </tbody>\n",
       "</table>\n",
       "</div>"
      ],
      "text/plain": [
       "  full_plus_code  temperature_mean_diff  ndvi_mean  ndmi_diff\n",
       "0  75GRHGWX+JV75               3.041140   0.291476   0.085328\n",
       "1  75GRHGWX+JV95               2.774119   0.197240   0.065725"
      ]
     },
     "execution_count": 10,
     "metadata": {},
     "output_type": "execute_result"
    }
   ],
   "source": [
    "gdf_int = gdf_int.groupby('full_plus_code').mean().reset_index()\n",
    "print(gdf_int.shape)\n",
    "gdf_int.head(2)"
   ]
  },
  {
   "cell_type": "markdown",
   "id": "7261f495-9bd7-492c-908a-afa8ebc3e166",
   "metadata": {},
   "source": [
    "Merge data"
   ]
  },
  {
   "cell_type": "code",
   "execution_count": 11,
   "id": "71f5285f-3d1b-4559-832d-5751e794b1e7",
   "metadata": {},
   "outputs": [
    {
     "name": "stdout",
     "output_type": "stream",
     "text": [
      "(682585, 37)\n"
     ]
    },
    {
     "data": {
      "text/html": [
       "<div>\n",
       "<style scoped>\n",
       "    .dataframe tbody tr th:only-of-type {\n",
       "        vertical-align: middle;\n",
       "    }\n",
       "\n",
       "    .dataframe tbody tr th {\n",
       "        vertical-align: top;\n",
       "    }\n",
       "\n",
       "    .dataframe thead th {\n",
       "        text-align: right;\n",
       "    }\n",
       "</style>\n",
       "<table border=\"1\" class=\"dataframe\">\n",
       "  <thead>\n",
       "    <tr style=\"text-align: right;\">\n",
       "      <th></th>\n",
       "      <th>uso_suelo</th>\n",
       "      <th>area_m2</th>\n",
       "      <th>full_plus_code</th>\n",
       "      <th>CVEGEO</th>\n",
       "      <th>bld_area_m2</th>\n",
       "      <th>block_area_m2</th>\n",
       "      <th>pred_area_m2</th>\n",
       "      <th>pred_area_pct</th>\n",
       "      <th>bld_pred_area_pct</th>\n",
       "      <th>pobtot</th>\n",
       "      <th>...</th>\n",
       "      <th>pct_comercio</th>\n",
       "      <th>pct_cultural_recreativo</th>\n",
       "      <th>pct_educacion</th>\n",
       "      <th>pct_salud</th>\n",
       "      <th>pct_gobierno</th>\n",
       "      <th>pct_otros</th>\n",
       "      <th>geometry</th>\n",
       "      <th>temperature_mean_diff</th>\n",
       "      <th>ndvi_mean</th>\n",
       "      <th>ndmi_diff</th>\n",
       "    </tr>\n",
       "  </thead>\n",
       "  <tbody>\n",
       "    <tr>\n",
       "      <th>0</th>\n",
       "      <td>Sin dato</td>\n",
       "      <td>67.279056</td>\n",
       "      <td>75GRMGQW+89PG</td>\n",
       "      <td>1412000011206018</td>\n",
       "      <td>12.438638</td>\n",
       "      <td>278416.454431</td>\n",
       "      <td>67.279056</td>\n",
       "      <td>0.000242</td>\n",
       "      <td>0.184881</td>\n",
       "      <td>0</td>\n",
       "      <td>...</td>\n",
       "      <td>0.0</td>\n",
       "      <td>0.0</td>\n",
       "      <td>0.0</td>\n",
       "      <td>0.0</td>\n",
       "      <td>0.0</td>\n",
       "      <td>0.0</td>\n",
       "      <td>MULTIPOLYGON (((2349152.724 965335.704, 234914...</td>\n",
       "      <td>1.787026</td>\n",
       "      <td>0.084339</td>\n",
       "      <td>0.045966</td>\n",
       "    </tr>\n",
       "    <tr>\n",
       "      <th>1</th>\n",
       "      <td>Sin dato</td>\n",
       "      <td>45.355545</td>\n",
       "      <td>75GRMGQW+8CFP</td>\n",
       "      <td>1412000011206018</td>\n",
       "      <td>4.482118</td>\n",
       "      <td>278416.454431</td>\n",
       "      <td>45.355545</td>\n",
       "      <td>0.000163</td>\n",
       "      <td>0.098822</td>\n",
       "      <td>0</td>\n",
       "      <td>...</td>\n",
       "      <td>0.0</td>\n",
       "      <td>0.0</td>\n",
       "      <td>0.0</td>\n",
       "      <td>0.0</td>\n",
       "      <td>0.0</td>\n",
       "      <td>0.0</td>\n",
       "      <td>MULTIPOLYGON (((2349168.91 965335.176, 2349157...</td>\n",
       "      <td>1.649216</td>\n",
       "      <td>0.109751</td>\n",
       "      <td>0.045719</td>\n",
       "    </tr>\n",
       "  </tbody>\n",
       "</table>\n",
       "<p>2 rows × 37 columns</p>\n",
       "</div>"
      ],
      "text/plain": [
       "  uso_suelo    area_m2 full_plus_code            CVEGEO  bld_area_m2  \\\n",
       "0  Sin dato  67.279056  75GRMGQW+89PG  1412000011206018    12.438638   \n",
       "1  Sin dato  45.355545  75GRMGQW+8CFP  1412000011206018     4.482118   \n",
       "\n",
       "   block_area_m2  pred_area_m2  pred_area_pct  bld_pred_area_pct  pobtot  ...  \\\n",
       "0  278416.454431     67.279056       0.000242           0.184881       0  ...   \n",
       "1  278416.454431     45.355545       0.000163           0.098822       0  ...   \n",
       "\n",
       "   pct_comercio  pct_cultural_recreativo  pct_educacion  pct_salud  \\\n",
       "0           0.0                      0.0            0.0        0.0   \n",
       "1           0.0                      0.0            0.0        0.0   \n",
       "\n",
       "   pct_gobierno  pct_otros                                           geometry  \\\n",
       "0           0.0        0.0  MULTIPOLYGON (((2349152.724 965335.704, 234914...   \n",
       "1           0.0        0.0  MULTIPOLYGON (((2349168.91 965335.176, 2349157...   \n",
       "\n",
       "   temperature_mean_diff  ndvi_mean  ndmi_diff  \n",
       "0               1.787026   0.084339   0.045966  \n",
       "1               1.649216   0.109751   0.045719  \n",
       "\n",
       "[2 rows x 37 columns]"
      ]
     },
     "execution_count": 11,
     "metadata": {},
     "output_type": "execute_result"
    }
   ],
   "source": [
    "gdf = gdf.merge(gdf_int, on='full_plus_code')\n",
    "print(gdf.shape)\n",
    "gdf.head(2)"
   ]
  },
  {
   "cell_type": "markdown",
   "id": "0fb97150-961a-41b5-9bea-81eed0485b08",
   "metadata": {},
   "source": [
    "Save data"
   ]
  },
  {
   "cell_type": "code",
   "execution_count": 12,
   "id": "a0e7293a-f9c0-4978-aef5-20a7fd8be1b5",
   "metadata": {},
   "outputs": [],
   "source": [
    "gdf.to_file('../../data/processed/prediccion_uso_suelo/complete_model/area_of_prediction_env.gpkg')"
   ]
  },
  {
   "cell_type": "code",
   "execution_count": null,
   "id": "82d39182-5a05-42d9-bd4b-0308ab3c75eb",
   "metadata": {},
   "outputs": [],
   "source": []
  }
 ],
 "metadata": {
  "kernelspec": {
   "display_name": "Python 3 (ipykernel)",
   "language": "python",
   "name": "python3"
  },
  "language_info": {
   "codemirror_mode": {
    "name": "ipython",
    "version": 3
   },
   "file_extension": ".py",
   "mimetype": "text/x-python",
   "name": "python",
   "nbconvert_exporter": "python",
   "pygments_lexer": "ipython3",
   "version": "3.11.11"
  }
 },
 "nbformat": 4,
 "nbformat_minor": 5
}
