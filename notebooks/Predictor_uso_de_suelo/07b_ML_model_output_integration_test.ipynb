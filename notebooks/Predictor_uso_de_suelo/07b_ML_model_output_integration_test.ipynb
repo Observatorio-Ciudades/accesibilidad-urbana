{
 "cells": [
  {
   "cell_type": "markdown",
   "id": "72c6c7a5-86d6-4770-807b-b3686944267c",
   "metadata": {},
   "source": [
    "# Landuse machine learning model -test-"
   ]
  },
  {
   "cell_type": "markdown",
   "id": "b6b25ea6-6203-41bf-ad5a-02b83d15cf19",
   "metadata": {},
   "source": [
    "This notebook integrates the first steps towards the development of a machine learning model for urban landuse prediction."
   ]
  },
  {
   "cell_type": "markdown",
   "id": "89a9447c-5c11-4cb4-9dac-f54cab2d7fe9",
   "metadata": {},
   "source": [
    "## Import libraries"
   ]
  },
  {
   "cell_type": "code",
   "execution_count": 1,
   "id": "4bfed30a-cc4c-467d-8775-eab5f4395250",
   "metadata": {
    "scrolled": true
   },
   "outputs": [
    {
     "name": "stderr",
     "output_type": "stream",
     "text": [
      "2025-07-22 12:57:29.246535: I tensorflow/core/util/port.cc:153] oneDNN custom operations are on. You may see slightly different numerical results due to floating-point round-off errors from different computation orders. To turn them off, set the environment variable `TF_ENABLE_ONEDNN_OPTS=0`.\n",
      "2025-07-22 12:57:29.252904: E external/local_xla/xla/stream_executor/cuda/cuda_fft.cc:467] Unable to register cuFFT factory: Attempting to register factory for plugin cuFFT when one has already been registered\n",
      "WARNING: All log messages before absl::InitializeLog() is called are written to STDERR\n",
      "E0000 00:00:1753210649.259789  172624 cuda_dnn.cc:8579] Unable to register cuDNN factory: Attempting to register factory for plugin cuDNN when one has already been registered\n",
      "E0000 00:00:1753210649.261889  172624 cuda_blas.cc:1407] Unable to register cuBLAS factory: Attempting to register factory for plugin cuBLAS when one has already been registered\n",
      "W0000 00:00:1753210649.267633  172624 computation_placer.cc:177] computation placer already registered. Please check linkage and avoid linking the same target more than once.\n",
      "W0000 00:00:1753210649.267643  172624 computation_placer.cc:177] computation placer already registered. Please check linkage and avoid linking the same target more than once.\n",
      "W0000 00:00:1753210649.267644  172624 computation_placer.cc:177] computation placer already registered. Please check linkage and avoid linking the same target more than once.\n",
      "W0000 00:00:1753210649.267645  172624 computation_placer.cc:177] computation placer already registered. Please check linkage and avoid linking the same target more than once.\n",
      "2025-07-22 12:57:29.270140: I tensorflow/core/platform/cpu_feature_guard.cc:210] This TensorFlow binary is optimized to use available CPU instructions in performance-critical operations.\n",
      "To enable the following instructions: AVX2 AVX512F AVX512_VNNI AVX512_BF16 AVX_VNNI FMA, in other operations, rebuild TensorFlow with the appropriate compiler flags.\n"
     ]
    }
   ],
   "source": [
    "import geopandas as gpd\n",
    "import pandas as pd\n",
    "import numpy as np\n",
    "\n",
    "import matplotlib.pyplot as plt\n",
    "import seaborn as sns\n",
    "import scipy\n",
    "\n",
    "import aup\n",
    "\n",
    "from sklearn.model_selection import train_test_split\n",
    "from sklearn.preprocessing import StandardScaler\n",
    "from imblearn.over_sampling import SMOTE\n",
    "from sklearn.decomposition import PCA\n",
    "\n",
    "\n",
    "\n",
    "from keras import utils                                   # tools for creating one-hot encoding\n",
    "from keras.models import Sequential                       # Type of model we wish to use\n",
    "from keras.layers import Dense, Dropout, Activation  \n",
    "from sklearn.preprocessing import LabelEncoder\n",
    "# from scikeras.wrappers import KerasClassifier, KerasRegressor\n",
    "from keras import utils  \n",
    "from sklearn.model_selection import cross_val_score\n",
    "from sklearn.model_selection import KFold\n",
    "from sklearn.preprocessing import LabelEncoder\n",
    "# from sklearn.pipeline import Pipeline\n",
    "\n",
    "from sklearn.metrics import r2_score, mean_squared_error, mean_absolute_error,confusion_matrix"
   ]
  },
  {
   "cell_type": "markdown",
   "id": "e7a8c8ea-516f-4b4f-8df5-f17a8f17e6ec",
   "metadata": {},
   "source": [
    "## Data for model training"
   ]
  },
  {
   "cell_type": "code",
   "execution_count": 2,
   "id": "bbef554c-59c0-4fba-b604-82ad1d0274c9",
   "metadata": {},
   "outputs": [
    {
     "name": "stdout",
     "output_type": "stream",
     "text": [
      "(88061, 75)\n"
     ]
    },
    {
     "data": {
      "text/html": [
       "<div>\n",
       "<style scoped>\n",
       "    .dataframe tbody tr th:only-of-type {\n",
       "        vertical-align: middle;\n",
       "    }\n",
       "\n",
       "    .dataframe tbody tr th {\n",
       "        vertical-align: top;\n",
       "    }\n",
       "\n",
       "    .dataframe thead th {\n",
       "        text-align: right;\n",
       "    }\n",
       "</style>\n",
       "<table border=\"1\" class=\"dataframe\">\n",
       "  <thead>\n",
       "    <tr style=\"text-align: right;\">\n",
       "      <th></th>\n",
       "      <th>uso_suelo</th>\n",
       "      <th>area_m2</th>\n",
       "      <th>full_plus_code</th>\n",
       "      <th>CVEGEO</th>\n",
       "      <th>bld_area_m2</th>\n",
       "      <th>block_area_m2</th>\n",
       "      <th>pred_area_m2</th>\n",
       "      <th>pred_area_pct</th>\n",
       "      <th>bld_pred_area_pct</th>\n",
       "      <th>pobtot</th>\n",
       "      <th>...</th>\n",
       "      <th>pct_smote_comercio</th>\n",
       "      <th>pct_smote_equipamiento</th>\n",
       "      <th>pct_smote_espacio_verde</th>\n",
       "      <th>pct_smote_habitacional</th>\n",
       "      <th>pct_smote_industria</th>\n",
       "      <th>pct_smote_infraestructura</th>\n",
       "      <th>pct_smote_mixto</th>\n",
       "      <th>pct_smote_servicio</th>\n",
       "      <th>pct_smote_sin_dato</th>\n",
       "      <th>geometry</th>\n",
       "    </tr>\n",
       "  </thead>\n",
       "  <tbody>\n",
       "    <tr>\n",
       "      <th>0</th>\n",
       "      <td>Sin dato</td>\n",
       "      <td>67.279056</td>\n",
       "      <td>75GRMGQW+89PG</td>\n",
       "      <td>1412000011206018</td>\n",
       "      <td>12.438638</td>\n",
       "      <td>278416.454431</td>\n",
       "      <td>67.279056</td>\n",
       "      <td>0.000242</td>\n",
       "      <td>0.184881</td>\n",
       "      <td>0</td>\n",
       "      <td>...</td>\n",
       "      <td>3.705982e-09</td>\n",
       "      <td>1.238207e-11</td>\n",
       "      <td>1.459788e-11</td>\n",
       "      <td>7.209011e-07</td>\n",
       "      <td>4.337737e-12</td>\n",
       "      <td>0.0</td>\n",
       "      <td>4.721963e-22</td>\n",
       "      <td>1.322631e-07</td>\n",
       "      <td>0.999997</td>\n",
       "      <td>MULTIPOLYGON (((2349152.724 965335.704, 234914...</td>\n",
       "    </tr>\n",
       "    <tr>\n",
       "      <th>1</th>\n",
       "      <td>Sin dato</td>\n",
       "      <td>45.355545</td>\n",
       "      <td>75GRMGQW+8CFP</td>\n",
       "      <td>1412000011206018</td>\n",
       "      <td>4.482118</td>\n",
       "      <td>278416.454431</td>\n",
       "      <td>45.355545</td>\n",
       "      <td>0.000163</td>\n",
       "      <td>0.098822</td>\n",
       "      <td>0</td>\n",
       "      <td>...</td>\n",
       "      <td>1.188032e-08</td>\n",
       "      <td>1.260674e-10</td>\n",
       "      <td>7.887108e-11</td>\n",
       "      <td>2.782248e-06</td>\n",
       "      <td>3.838243e-11</td>\n",
       "      <td>0.0</td>\n",
       "      <td>1.907046e-19</td>\n",
       "      <td>3.001367e-07</td>\n",
       "      <td>0.999992</td>\n",
       "      <td>MULTIPOLYGON (((2349168.91 965335.176, 2349157...</td>\n",
       "    </tr>\n",
       "  </tbody>\n",
       "</table>\n",
       "<p>2 rows × 75 columns</p>\n",
       "</div>"
      ],
      "text/plain": [
       "  uso_suelo    area_m2 full_plus_code            CVEGEO  bld_area_m2  \\\n",
       "0  Sin dato  67.279056  75GRMGQW+89PG  1412000011206018    12.438638   \n",
       "1  Sin dato  45.355545  75GRMGQW+8CFP  1412000011206018     4.482118   \n",
       "\n",
       "   block_area_m2  pred_area_m2  pred_area_pct  bld_pred_area_pct  pobtot  ...  \\\n",
       "0  278416.454431     67.279056       0.000242           0.184881       0  ...   \n",
       "1  278416.454431     45.355545       0.000163           0.098822       0  ...   \n",
       "\n",
       "   pct_smote_comercio  pct_smote_equipamiento  pct_smote_espacio_verde  \\\n",
       "0        3.705982e-09            1.238207e-11             1.459788e-11   \n",
       "1        1.188032e-08            1.260674e-10             7.887108e-11   \n",
       "\n",
       "   pct_smote_habitacional  pct_smote_industria  pct_smote_infraestructura  \\\n",
       "0            7.209011e-07         4.337737e-12                        0.0   \n",
       "1            2.782248e-06         3.838243e-11                        0.0   \n",
       "\n",
       "   pct_smote_mixto  pct_smote_servicio  pct_smote_sin_dato  \\\n",
       "0     4.721963e-22        1.322631e-07            0.999997   \n",
       "1     1.907046e-19        3.001367e-07            0.999992   \n",
       "\n",
       "                                            geometry  \n",
       "0  MULTIPOLYGON (((2349152.724 965335.704, 234914...  \n",
       "1  MULTIPOLYGON (((2349168.91 965335.176, 2349157...  \n",
       "\n",
       "[2 rows x 75 columns]"
      ]
     },
     "execution_count": 2,
     "metadata": {},
     "output_type": "execute_result"
    }
   ],
   "source": [
    "gdf = gpd.read_file('../../data/processed/prediccion_uso_suelo/test/area_of_prediction_primera_pred.gpkg')\n",
    "print(gdf.shape)\n",
    "gdf.head(2)"
   ]
  },
  {
   "cell_type": "code",
   "execution_count": 3,
   "id": "a0845b46-a724-422c-b86b-b7afa89e6cb1",
   "metadata": {},
   "outputs": [],
   "source": [
    "if 'fid' not in gdf.columns:\n",
    "    gdf = gdf.reset_index().rename(columns={'index':'fid'})"
   ]
  },
  {
   "cell_type": "code",
   "execution_count": 4,
   "id": "e6ba8d67-9bb4-4ebc-819b-98b4161becef",
   "metadata": {},
   "outputs": [
    {
     "data": {
      "text/plain": [
       "Index(['fid', 'uso_suelo', 'area_m2', 'full_plus_code', 'CVEGEO',\n",
       "       'bld_area_m2', 'block_area_m2', 'pred_area_m2', 'pred_area_pct',\n",
       "       'bld_pred_area_pct', 'pobtot', 'cultural_recreativo', 'servicios',\n",
       "       'comercio', 'salud', 'educacion', 'gobierno', 'industria',\n",
       "       'area_m2_tot', 'habitacional', 'uso_tot', 'pct_habitacional',\n",
       "       'pct_cultural_recreativo', 'pct_servicios', 'pct_comercio', 'pct_salud',\n",
       "       'pct_educacion', 'pct_gobierno', 'pct_industria',\n",
       "       'temperature_mean_diff', 'ndvi_mean', 'ndmi_diff', 'tertiary_distance',\n",
       "       'residential_distance', 'secondary_distance', 'footway_distance',\n",
       "       'path_distance', 'service_distance', 'living_street_distance',\n",
       "       'primary_distance', 'trunk_distance', 'pedestrian_distance',\n",
       "       'cycleway_distance', 'unclassified_distance', 'motorway_distance',\n",
       "       'steps_distance', 'denue_primaria', 'denue_primaria_15min',\n",
       "       'denue_abarrotes', 'denue_abarrotes_15min', 'denue_peluqueria',\n",
       "       'denue_peluqueria_15min', 'denue_lavanderia', 'denue_lavanderia_15min',\n",
       "       'clues_primer_nivel', 'clues_primer_nivel_15min',\n",
       "       'pct_alojamiento_temporal', 'pct_baldio', 'pct_equipamiento',\n",
       "       'pct_espacio_verde', 'pct_infraestructura', 'pct_mixto', 'pct_servicio',\n",
       "       'pct_sin_dato', 'pct_smote_alojamiento_temporal', 'pct_smote_baldio',\n",
       "       'pct_smote_comercio', 'pct_smote_equipamiento',\n",
       "       'pct_smote_espacio_verde', 'pct_smote_habitacional',\n",
       "       'pct_smote_industria', 'pct_smote_infraestructura', 'pct_smote_mixto',\n",
       "       'pct_smote_servicio', 'pct_smote_sin_dato', 'geometry'],\n",
       "      dtype='object')"
      ]
     },
     "execution_count": 4,
     "metadata": {},
     "output_type": "execute_result"
    }
   ],
   "source": [
    "gdf.columns"
   ]
  },
  {
   "cell_type": "markdown",
   "id": "4c867dd3-eed8-4f39-894f-08dbc0f11266",
   "metadata": {},
   "source": [
    "## Machine learning model"
   ]
  },
  {
   "cell_type": "markdown",
   "id": "46e56e8a-cf6a-4903-b377-3d533ee14f36",
   "metadata": {},
   "source": [
    "### Data preprocessing"
   ]
  },
  {
   "cell_type": "markdown",
   "id": "404fffb4-0dae-4a6d-b803-8a59e8d6f38a",
   "metadata": {},
   "source": [
    "Divide X and Y data"
   ]
  },
  {
   "cell_type": "code",
   "execution_count": 5,
   "id": "fa4380e9-357d-4e00-9769-40c8c0cebc41",
   "metadata": {},
   "outputs": [],
   "source": [
    "X = gdf[['area_m2','bld_area_m2','block_area_m2',\n",
    "    'pred_area_m2', 'pred_area_pct', 'bld_pred_area_pct',\n",
    "    'uso_tot','pobtot','pct_habitacional', 'pct_cultural_recreativo',\n",
    "    'pct_servicios', 'pct_comercio', 'pct_salud', 'pct_educacion',\n",
    "    'pct_gobierno', 'pct_industria',\n",
    "    'temperature_mean_diff','ndvi_mean','ndmi_diff',\n",
    "    'tertiary_distance','residential_distance', 'secondary_distance', \n",
    "    'footway_distance','path_distance', 'service_distance',\n",
    "    'living_street_distance','primary_distance', 'trunk_distance', \n",
    "    'pedestrian_distance','cycleway_distance', 'unclassified_distance', \n",
    "    'motorway_distance','steps_distance',\n",
    "    'denue_primaria', 'denue_primaria_15min',\n",
    "    'denue_abarrotes', 'denue_abarrotes_15min', 'denue_peluqueria',\n",
    "    'denue_peluqueria_15min', 'denue_lavanderia', 'denue_lavanderia_15min',\n",
    "    'clues_primer_nivel', 'clues_primer_nivel_15min',\n",
    "    'pct_alojamiento_temporal', 'pct_baldio', 'pct_equipamiento',\n",
    "   'pct_espacio_verde', 'pct_infraestructura', 'pct_mixto', 'pct_servicio',\n",
    "   'pct_sin_dato', 'pct_smote_alojamiento_temporal', 'pct_smote_baldio',\n",
    "   'pct_smote_comercio', 'pct_smote_equipamiento',\n",
    "   'pct_smote_espacio_verde', 'pct_smote_habitacional',\n",
    "   'pct_smote_industria', 'pct_smote_infraestructura', 'pct_smote_mixto',\n",
    "   'pct_smote_servicio', 'pct_smote_sin_dato'\n",
    "    ]].to_numpy()\n",
    "\n",
    "Y = gdf[['uso_suelo']].to_numpy()\n",
    "Y = np.reshape(Y, shape=(Y.shape[0],))"
   ]
  },
  {
   "cell_type": "markdown",
   "id": "df1e46b8-1eaa-44d7-900c-2a6f768a90b5",
   "metadata": {},
   "source": [
    "Standarize and encode data"
   ]
  },
  {
   "cell_type": "code",
   "execution_count": 6,
   "id": "3f06d04f-a832-4c05-9a08-9f0e616b444f",
   "metadata": {},
   "outputs": [],
   "source": [
    "scaler = StandardScaler()\n",
    "X_scaled = scaler.fit_transform(X)\n",
    "\n",
    "encoder = LabelEncoder()\n",
    "encoder.fit(Y)\n",
    "encoded_Y = encoder.transform(Y)"
   ]
  },
  {
   "cell_type": "markdown",
   "id": "9dbfb3d4-6910-46c5-99cf-4dbbf5e88c9b",
   "metadata": {},
   "source": [
    "Divide training, validation and testing data"
   ]
  },
  {
   "cell_type": "code",
   "execution_count": 7,
   "id": "f9797b9d-ac16-4aaa-8ea3-c3091ea21ee8",
   "metadata": {},
   "outputs": [],
   "source": [
    "X_model, X_test, y_model, y_test = (train_test_split(X_scaled, encoded_Y, test_size=0.2, random_state=0))"
   ]
  },
  {
   "cell_type": "code",
   "execution_count": 8,
   "id": "3cc9fb5c-b1c7-4ff5-8b03-911be6b6945c",
   "metadata": {},
   "outputs": [],
   "source": [
    "smote = SMOTE()  \n",
    "X_resampled, y_resampled = smote.fit_resample(X_model, y_model)  "
   ]
  },
  {
   "cell_type": "code",
   "execution_count": 9,
   "id": "47bccdc0-6859-416f-951f-96474f6877e5",
   "metadata": {},
   "outputs": [],
   "source": [
    "X_train, X_val, y_train, y_val = (train_test_split(X_resampled, y_resampled, test_size=0.2, random_state=0))\n",
    "# X_train, X_val, y_train, y_val = (train_test_split(X_model, y_model, test_size=0.2, random_state=0))"
   ]
  },
  {
   "cell_type": "markdown",
   "id": "2c7831e0-c32a-43d9-8d12-48376bbaa159",
   "metadata": {},
   "source": [
    "Y data to categorical"
   ]
  },
  {
   "cell_type": "code",
   "execution_count": 10,
   "id": "1096d345-b301-4f9b-9f9c-f0c03151b510",
   "metadata": {},
   "outputs": [],
   "source": [
    "# encode class values as integers\n",
    "num_classes = len(gdf.uso_suelo.unique())\n",
    "\n",
    "# convert integers to dummy variables (i.e. one hot encoded)\n",
    "y_train = utils.to_categorical(y_train, num_classes)\n",
    "\n",
    "# convert integers to dummy variables (i.e. one hot encoded)\n",
    "y_val = utils.to_categorical(y_val, num_classes)\n",
    "\n",
    "# convert integers to dummy variables (i.e. one hot encoded)\n",
    "y_test = utils.to_categorical(y_test, num_classes)"
   ]
  },
  {
   "cell_type": "markdown",
   "id": "cf34f006-a5f2-40f7-84b5-6fe5fa00a520",
   "metadata": {},
   "source": [
    "### Model construction -- Classification Neural network"
   ]
  },
  {
   "cell_type": "markdown",
   "id": "fe8bf42a-4c24-4006-8e96-4c27a480a4ba",
   "metadata": {},
   "source": [
    "Model parameters"
   ]
  },
  {
   "cell_type": "code",
   "execution_count": 11,
   "id": "9993a00b-b33e-4a12-b5d9-b2452f27f248",
   "metadata": {},
   "outputs": [],
   "source": [
    "input_shape = (X_train.shape[1],)"
   ]
  },
  {
   "cell_type": "code",
   "execution_count": 12,
   "id": "043870aa-55dc-4e8d-a224-3d949b3a0a30",
   "metadata": {},
   "outputs": [
    {
     "name": "stderr",
     "output_type": "stream",
     "text": [
      "/home/edgaregurrola/.cache/pypoetry/virtualenvs/aup-qDsIK5d5-py3.11/lib/python3.11/site-packages/keras/src/layers/core/dense.py:87: UserWarning: Do not pass an `input_shape`/`input_dim` argument to a layer. When using Sequential models, prefer using an `Input(shape)` object as the first layer in the model instead.\n",
      "  super().__init__(activity_regularizer=activity_regularizer, **kwargs)\n",
      "I0000 00:00:1753210662.103951  172624 gpu_device.cc:2019] Created device /job:localhost/replica:0/task:0/device:GPU:0 with 4588 MB memory:  -> device: 0, name: NVIDIA GeForce RTX 4060 Ti, pci bus id: 0000:01:00.0, compute capability: 8.9\n"
     ]
    },
    {
     "data": {
      "text/html": [
       "<pre style=\"white-space:pre;overflow-x:auto;line-height:normal;font-family:Menlo,'DejaVu Sans Mono',consolas,'Courier New',monospace\"><span style=\"font-weight: bold\">Model: \"sequential\"</span>\n",
       "</pre>\n"
      ],
      "text/plain": [
       "\u001b[1mModel: \"sequential\"\u001b[0m\n"
      ]
     },
     "metadata": {},
     "output_type": "display_data"
    },
    {
     "data": {
      "text/html": [
       "<pre style=\"white-space:pre;overflow-x:auto;line-height:normal;font-family:Menlo,'DejaVu Sans Mono',consolas,'Courier New',monospace\">┏━━━━━━━━━━━━━━━━━━━━━━━━━━━━━━━━━┳━━━━━━━━━━━━━━━━━━━━━━━━┳━━━━━━━━━━━━━━━┓\n",
       "┃<span style=\"font-weight: bold\"> Layer (type)                    </span>┃<span style=\"font-weight: bold\"> Output Shape           </span>┃<span style=\"font-weight: bold\">       Param # </span>┃\n",
       "┡━━━━━━━━━━━━━━━━━━━━━━━━━━━━━━━━━╇━━━━━━━━━━━━━━━━━━━━━━━━╇━━━━━━━━━━━━━━━┩\n",
       "│ dense (<span style=\"color: #0087ff; text-decoration-color: #0087ff\">Dense</span>)                   │ (<span style=\"color: #00d7ff; text-decoration-color: #00d7ff\">None</span>, <span style=\"color: #00af00; text-decoration-color: #00af00\">64</span>)             │         <span style=\"color: #00af00; text-decoration-color: #00af00\">4,032</span> │\n",
       "├─────────────────────────────────┼────────────────────────┼───────────────┤\n",
       "│ activation (<span style=\"color: #0087ff; text-decoration-color: #0087ff\">Activation</span>)         │ (<span style=\"color: #00d7ff; text-decoration-color: #00d7ff\">None</span>, <span style=\"color: #00af00; text-decoration-color: #00af00\">64</span>)             │             <span style=\"color: #00af00; text-decoration-color: #00af00\">0</span> │\n",
       "├─────────────────────────────────┼────────────────────────┼───────────────┤\n",
       "│ dropout (<span style=\"color: #0087ff; text-decoration-color: #0087ff\">Dropout</span>)               │ (<span style=\"color: #00d7ff; text-decoration-color: #00d7ff\">None</span>, <span style=\"color: #00af00; text-decoration-color: #00af00\">64</span>)             │             <span style=\"color: #00af00; text-decoration-color: #00af00\">0</span> │\n",
       "├─────────────────────────────────┼────────────────────────┼───────────────┤\n",
       "│ dense_1 (<span style=\"color: #0087ff; text-decoration-color: #0087ff\">Dense</span>)                 │ (<span style=\"color: #00d7ff; text-decoration-color: #00d7ff\">None</span>, <span style=\"color: #00af00; text-decoration-color: #00af00\">64</span>)             │         <span style=\"color: #00af00; text-decoration-color: #00af00\">4,160</span> │\n",
       "├─────────────────────────────────┼────────────────────────┼───────────────┤\n",
       "│ activation_1 (<span style=\"color: #0087ff; text-decoration-color: #0087ff\">Activation</span>)       │ (<span style=\"color: #00d7ff; text-decoration-color: #00d7ff\">None</span>, <span style=\"color: #00af00; text-decoration-color: #00af00\">64</span>)             │             <span style=\"color: #00af00; text-decoration-color: #00af00\">0</span> │\n",
       "├─────────────────────────────────┼────────────────────────┼───────────────┤\n",
       "│ dropout_1 (<span style=\"color: #0087ff; text-decoration-color: #0087ff\">Dropout</span>)             │ (<span style=\"color: #00d7ff; text-decoration-color: #00d7ff\">None</span>, <span style=\"color: #00af00; text-decoration-color: #00af00\">64</span>)             │             <span style=\"color: #00af00; text-decoration-color: #00af00\">0</span> │\n",
       "├─────────────────────────────────┼────────────────────────┼───────────────┤\n",
       "│ dense_2 (<span style=\"color: #0087ff; text-decoration-color: #0087ff\">Dense</span>)                 │ (<span style=\"color: #00d7ff; text-decoration-color: #00d7ff\">None</span>, <span style=\"color: #00af00; text-decoration-color: #00af00\">11</span>)             │           <span style=\"color: #00af00; text-decoration-color: #00af00\">715</span> │\n",
       "├─────────────────────────────────┼────────────────────────┼───────────────┤\n",
       "│ activation_2 (<span style=\"color: #0087ff; text-decoration-color: #0087ff\">Activation</span>)       │ (<span style=\"color: #00d7ff; text-decoration-color: #00d7ff\">None</span>, <span style=\"color: #00af00; text-decoration-color: #00af00\">11</span>)             │             <span style=\"color: #00af00; text-decoration-color: #00af00\">0</span> │\n",
       "└─────────────────────────────────┴────────────────────────┴───────────────┘\n",
       "</pre>\n"
      ],
      "text/plain": [
       "┏━━━━━━━━━━━━━━━━━━━━━━━━━━━━━━━━━┳━━━━━━━━━━━━━━━━━━━━━━━━┳━━━━━━━━━━━━━━━┓\n",
       "┃\u001b[1m \u001b[0m\u001b[1mLayer (type)                   \u001b[0m\u001b[1m \u001b[0m┃\u001b[1m \u001b[0m\u001b[1mOutput Shape          \u001b[0m\u001b[1m \u001b[0m┃\u001b[1m \u001b[0m\u001b[1m      Param #\u001b[0m\u001b[1m \u001b[0m┃\n",
       "┡━━━━━━━━━━━━━━━━━━━━━━━━━━━━━━━━━╇━━━━━━━━━━━━━━━━━━━━━━━━╇━━━━━━━━━━━━━━━┩\n",
       "│ dense (\u001b[38;5;33mDense\u001b[0m)                   │ (\u001b[38;5;45mNone\u001b[0m, \u001b[38;5;34m64\u001b[0m)             │         \u001b[38;5;34m4,032\u001b[0m │\n",
       "├─────────────────────────────────┼────────────────────────┼───────────────┤\n",
       "│ activation (\u001b[38;5;33mActivation\u001b[0m)         │ (\u001b[38;5;45mNone\u001b[0m, \u001b[38;5;34m64\u001b[0m)             │             \u001b[38;5;34m0\u001b[0m │\n",
       "├─────────────────────────────────┼────────────────────────┼───────────────┤\n",
       "│ dropout (\u001b[38;5;33mDropout\u001b[0m)               │ (\u001b[38;5;45mNone\u001b[0m, \u001b[38;5;34m64\u001b[0m)             │             \u001b[38;5;34m0\u001b[0m │\n",
       "├─────────────────────────────────┼────────────────────────┼───────────────┤\n",
       "│ dense_1 (\u001b[38;5;33mDense\u001b[0m)                 │ (\u001b[38;5;45mNone\u001b[0m, \u001b[38;5;34m64\u001b[0m)             │         \u001b[38;5;34m4,160\u001b[0m │\n",
       "├─────────────────────────────────┼────────────────────────┼───────────────┤\n",
       "│ activation_1 (\u001b[38;5;33mActivation\u001b[0m)       │ (\u001b[38;5;45mNone\u001b[0m, \u001b[38;5;34m64\u001b[0m)             │             \u001b[38;5;34m0\u001b[0m │\n",
       "├─────────────────────────────────┼────────────────────────┼───────────────┤\n",
       "│ dropout_1 (\u001b[38;5;33mDropout\u001b[0m)             │ (\u001b[38;5;45mNone\u001b[0m, \u001b[38;5;34m64\u001b[0m)             │             \u001b[38;5;34m0\u001b[0m │\n",
       "├─────────────────────────────────┼────────────────────────┼───────────────┤\n",
       "│ dense_2 (\u001b[38;5;33mDense\u001b[0m)                 │ (\u001b[38;5;45mNone\u001b[0m, \u001b[38;5;34m11\u001b[0m)             │           \u001b[38;5;34m715\u001b[0m │\n",
       "├─────────────────────────────────┼────────────────────────┼───────────────┤\n",
       "│ activation_2 (\u001b[38;5;33mActivation\u001b[0m)       │ (\u001b[38;5;45mNone\u001b[0m, \u001b[38;5;34m11\u001b[0m)             │             \u001b[38;5;34m0\u001b[0m │\n",
       "└─────────────────────────────────┴────────────────────────┴───────────────┘\n"
      ]
     },
     "metadata": {},
     "output_type": "display_data"
    },
    {
     "data": {
      "text/html": [
       "<pre style=\"white-space:pre;overflow-x:auto;line-height:normal;font-family:Menlo,'DejaVu Sans Mono',consolas,'Courier New',monospace\"><span style=\"font-weight: bold\"> Total params: </span><span style=\"color: #00af00; text-decoration-color: #00af00\">8,907</span> (34.79 KB)\n",
       "</pre>\n"
      ],
      "text/plain": [
       "\u001b[1m Total params: \u001b[0m\u001b[38;5;34m8,907\u001b[0m (34.79 KB)\n"
      ]
     },
     "metadata": {},
     "output_type": "display_data"
    },
    {
     "data": {
      "text/html": [
       "<pre style=\"white-space:pre;overflow-x:auto;line-height:normal;font-family:Menlo,'DejaVu Sans Mono',consolas,'Courier New',monospace\"><span style=\"font-weight: bold\"> Trainable params: </span><span style=\"color: #00af00; text-decoration-color: #00af00\">8,907</span> (34.79 KB)\n",
       "</pre>\n"
      ],
      "text/plain": [
       "\u001b[1m Trainable params: \u001b[0m\u001b[38;5;34m8,907\u001b[0m (34.79 KB)\n"
      ]
     },
     "metadata": {},
     "output_type": "display_data"
    },
    {
     "data": {
      "text/html": [
       "<pre style=\"white-space:pre;overflow-x:auto;line-height:normal;font-family:Menlo,'DejaVu Sans Mono',consolas,'Courier New',monospace\"><span style=\"font-weight: bold\"> Non-trainable params: </span><span style=\"color: #00af00; text-decoration-color: #00af00\">0</span> (0.00 B)\n",
       "</pre>\n"
      ],
      "text/plain": [
       "\u001b[1m Non-trainable params: \u001b[0m\u001b[38;5;34m0\u001b[0m (0.00 B)\n"
      ]
     },
     "metadata": {},
     "output_type": "display_data"
    },
    {
     "name": "stdout",
     "output_type": "stream",
     "text": [
      "None\n"
     ]
    }
   ],
   "source": [
    "### Construct Keras model\n",
    "\n",
    "# A sequential model is a linear stack of layers\n",
    "model = Sequential()\n",
    "\n",
    "# First layer: fully-connected with relu activation\n",
    "model.add(Dense(64, input_shape=input_shape))\n",
    "model.add(Activation('relu'))\n",
    "model.add(Dropout(0.25))\n",
    "\n",
    "# Second layer: fully-connected with relu activation\n",
    "model.add(Dense(64))   # Input shape is determined automatically from previous layer\n",
    "model.add(Activation('relu'))\n",
    "model.add(Dropout(0.25))\n",
    "\n",
    "# Third layer: 10 nodes, one for each class, and softmax activation\n",
    "model.add(Dense(num_classes))\n",
    "model.add(Activation('softmax'))\n",
    "\n",
    "# Configure the model's training settings\n",
    "model.compile(loss='categorical_crossentropy', optimizer='adam', metrics=['acc'])\n",
    "\n",
    "# Print out model summary\n",
    "print(model.summary())\n",
    "    "
   ]
  },
  {
   "cell_type": "markdown",
   "id": "4c26e080-97a6-4cba-9f4d-0819e4d63d2b",
   "metadata": {},
   "source": [
    "Model training"
   ]
  },
  {
   "cell_type": "code",
   "execution_count": 13,
   "id": "99d97ff7-8e43-4e5a-b07c-c86c87af4ddc",
   "metadata": {
    "scrolled": true
   },
   "outputs": [
    {
     "name": "stdout",
     "output_type": "stream",
     "text": [
      "Epoch 1/200\n"
     ]
    },
    {
     "name": "stderr",
     "output_type": "stream",
     "text": [
      "WARNING: All log messages before absl::InitializeLog() is called are written to STDERR\n",
      "I0000 00:00:1753210664.726133  173204 service.cc:152] XLA service 0x7f392800b3f0 initialized for platform CUDA (this does not guarantee that XLA will be used). Devices:\n",
      "I0000 00:00:1753210664.726147  173204 service.cc:160]   StreamExecutor device (0): NVIDIA GeForce RTX 4060 Ti, Compute Capability 8.9\n",
      "2025-07-22 12:57:44.737835: I tensorflow/compiler/mlir/tensorflow/utils/dump_mlir_util.cc:269] disabling MLIR crash reproducer, set env var `MLIR_CRASH_REPRODUCER_DIRECTORY` to enable.\n",
      "I0000 00:00:1753210664.797655  173204 cuda_dnn.cc:529] Loaded cuDNN version 90300\n"
     ]
    },
    {
     "name": "stdout",
     "output_type": "stream",
     "text": [
      "\u001b[1m  290/14792\u001b[0m \u001b[37m━━━━━━━━━━━━━━━━━━━━\u001b[0m \u001b[1m7s\u001b[0m 523us/step - acc: 0.4941 - loss: 1.7153"
     ]
    },
    {
     "name": "stderr",
     "output_type": "stream",
     "text": [
      "I0000 00:00:1753210665.412940  173204 device_compiler.h:188] Compiled cluster using XLA!  This line is logged at most once for the lifetime of the process.\n"
     ]
    },
    {
     "name": "stdout",
     "output_type": "stream",
     "text": [
      "\u001b[1m14792/14792\u001b[0m \u001b[32m━━━━━━━━━━━━━━━━━━━━\u001b[0m\u001b[37m\u001b[0m \u001b[1m11s\u001b[0m 705us/step - acc: 0.8389 - loss: 0.5144 - val_acc: 0.8868 - val_loss: 0.3181\n",
      "Epoch 2/200\n",
      "\u001b[1m14792/14792\u001b[0m \u001b[32m━━━━━━━━━━━━━━━━━━━━\u001b[0m\u001b[37m\u001b[0m \u001b[1m9s\u001b[0m 595us/step - acc: 0.8790 - loss: 0.3533 - val_acc: 0.8949 - val_loss: 0.2934\n",
      "Epoch 3/200\n",
      "\u001b[1m14792/14792\u001b[0m \u001b[32m━━━━━━━━━━━━━━━━━━━━\u001b[0m\u001b[37m\u001b[0m \u001b[1m9s\u001b[0m 585us/step - acc: 0.8838 - loss: 0.3350 - val_acc: 0.9005 - val_loss: 0.2793\n",
      "Epoch 4/200\n",
      "\u001b[1m14792/14792\u001b[0m \u001b[32m━━━━━━━━━━━━━━━━━━━━\u001b[0m\u001b[37m\u001b[0m \u001b[1m9s\u001b[0m 583us/step - acc: 0.8886 - loss: 0.3197 - val_acc: 0.9040 - val_loss: 0.2692\n",
      "Epoch 5/200\n",
      "\u001b[1m14792/14792\u001b[0m \u001b[32m━━━━━━━━━━━━━━━━━━━━\u001b[0m\u001b[37m\u001b[0m \u001b[1m9s\u001b[0m 577us/step - acc: 0.8906 - loss: 0.3141 - val_acc: 0.9081 - val_loss: 0.2605\n",
      "Epoch 6/200\n",
      "\u001b[1m14792/14792\u001b[0m \u001b[32m━━━━━━━━━━━━━━━━━━━━\u001b[0m\u001b[37m\u001b[0m \u001b[1m9s\u001b[0m 578us/step - acc: 0.8918 - loss: 0.3082 - val_acc: 0.9077 - val_loss: 0.2574\n",
      "Epoch 7/200\n",
      "\u001b[1m14792/14792\u001b[0m \u001b[32m━━━━━━━━━━━━━━━━━━━━\u001b[0m\u001b[37m\u001b[0m \u001b[1m9s\u001b[0m 596us/step - acc: 0.8934 - loss: 0.3044 - val_acc: 0.9111 - val_loss: 0.2536\n",
      "Epoch 8/200\n",
      "\u001b[1m14792/14792\u001b[0m \u001b[32m━━━━━━━━━━━━━━━━━━━━\u001b[0m\u001b[37m\u001b[0m \u001b[1m9s\u001b[0m 578us/step - acc: 0.8956 - loss: 0.3007 - val_acc: 0.9107 - val_loss: 0.2521\n",
      "Epoch 9/200\n",
      "\u001b[1m14792/14792\u001b[0m \u001b[32m━━━━━━━━━━━━━━━━━━━━\u001b[0m\u001b[37m\u001b[0m \u001b[1m8s\u001b[0m 573us/step - acc: 0.8964 - loss: 0.2967 - val_acc: 0.9145 - val_loss: 0.2443\n",
      "Epoch 10/200\n",
      "\u001b[1m14792/14792\u001b[0m \u001b[32m━━━━━━━━━━━━━━━━━━━━\u001b[0m\u001b[37m\u001b[0m \u001b[1m9s\u001b[0m 612us/step - acc: 0.8981 - loss: 0.2923 - val_acc: 0.9136 - val_loss: 0.2441\n",
      "Epoch 11/200\n",
      "\u001b[1m14792/14792\u001b[0m \u001b[32m━━━━━━━━━━━━━━━━━━━━\u001b[0m\u001b[37m\u001b[0m \u001b[1m9s\u001b[0m 580us/step - acc: 0.8964 - loss: 0.2959 - val_acc: 0.9154 - val_loss: 0.2383\n",
      "Epoch 12/200\n",
      "\u001b[1m14792/14792\u001b[0m \u001b[32m━━━━━━━━━━━━━━━━━━━━\u001b[0m\u001b[37m\u001b[0m \u001b[1m9s\u001b[0m 583us/step - acc: 0.8973 - loss: 0.2951 - val_acc: 0.9136 - val_loss: 0.2428\n",
      "Epoch 13/200\n",
      "\u001b[1m14792/14792\u001b[0m \u001b[32m━━━━━━━━━━━━━━━━━━━━\u001b[0m\u001b[37m\u001b[0m \u001b[1m9s\u001b[0m 577us/step - acc: 0.8976 - loss: 0.2922 - val_acc: 0.9149 - val_loss: 0.2397\n",
      "Epoch 14/200\n",
      "\u001b[1m14792/14792\u001b[0m \u001b[32m━━━━━━━━━━━━━━━━━━━━\u001b[0m\u001b[37m\u001b[0m \u001b[1m9s\u001b[0m 581us/step - acc: 0.8993 - loss: 0.2885 - val_acc: 0.9194 - val_loss: 0.2340\n",
      "Epoch 15/200\n",
      "\u001b[1m14792/14792\u001b[0m \u001b[32m━━━━━━━━━━━━━━━━━━━━\u001b[0m\u001b[37m\u001b[0m \u001b[1m9s\u001b[0m 578us/step - acc: 0.9002 - loss: 0.2862 - val_acc: 0.9172 - val_loss: 0.2366\n",
      "Epoch 16/200\n",
      "\u001b[1m14792/14792\u001b[0m \u001b[32m━━━━━━━━━━━━━━━━━━━━\u001b[0m\u001b[37m\u001b[0m \u001b[1m9s\u001b[0m 580us/step - acc: 0.9006 - loss: 0.2843 - val_acc: 0.9208 - val_loss: 0.2300\n",
      "Epoch 17/200\n",
      "\u001b[1m14792/14792\u001b[0m \u001b[32m━━━━━━━━━━━━━━━━━━━━\u001b[0m\u001b[37m\u001b[0m \u001b[1m9s\u001b[0m 576us/step - acc: 0.9002 - loss: 0.2851 - val_acc: 0.9197 - val_loss: 0.2293\n",
      "Epoch 18/200\n",
      "\u001b[1m14792/14792\u001b[0m \u001b[32m━━━━━━━━━━━━━━━━━━━━\u001b[0m\u001b[37m\u001b[0m \u001b[1m9s\u001b[0m 583us/step - acc: 0.9014 - loss: 0.2827 - val_acc: 0.9185 - val_loss: 0.2315\n",
      "Epoch 19/200\n",
      "\u001b[1m14792/14792\u001b[0m \u001b[32m━━━━━━━━━━━━━━━━━━━━\u001b[0m\u001b[37m\u001b[0m \u001b[1m9s\u001b[0m 588us/step - acc: 0.9014 - loss: 0.2829 - val_acc: 0.9181 - val_loss: 0.2317\n",
      "Epoch 20/200\n",
      "\u001b[1m14792/14792\u001b[0m \u001b[32m━━━━━━━━━━━━━━━━━━━━\u001b[0m\u001b[37m\u001b[0m \u001b[1m9s\u001b[0m 579us/step - acc: 0.9009 - loss: 0.2826 - val_acc: 0.9190 - val_loss: 0.2311\n",
      "Epoch 21/200\n",
      "\u001b[1m14792/14792\u001b[0m \u001b[32m━━━━━━━━━━━━━━━━━━━━\u001b[0m\u001b[37m\u001b[0m \u001b[1m9s\u001b[0m 585us/step - acc: 0.9013 - loss: 0.2825 - val_acc: 0.9196 - val_loss: 0.2314\n",
      "Epoch 22/200\n",
      "\u001b[1m14792/14792\u001b[0m \u001b[32m━━━━━━━━━━━━━━━━━━━━\u001b[0m\u001b[37m\u001b[0m \u001b[1m9s\u001b[0m 594us/step - acc: 0.9018 - loss: 0.2818 - val_acc: 0.9201 - val_loss: 0.2283\n",
      "Epoch 23/200\n",
      "\u001b[1m14792/14792\u001b[0m \u001b[32m━━━━━━━━━━━━━━━━━━━━\u001b[0m\u001b[37m\u001b[0m \u001b[1m8s\u001b[0m 573us/step - acc: 0.9022 - loss: 0.2806 - val_acc: 0.9216 - val_loss: 0.2245\n",
      "Epoch 24/200\n",
      "\u001b[1m14792/14792\u001b[0m \u001b[32m━━━━━━━━━━━━━━━━━━━━\u001b[0m\u001b[37m\u001b[0m \u001b[1m9s\u001b[0m 586us/step - acc: 0.9015 - loss: 0.2818 - val_acc: 0.9212 - val_loss: 0.2262\n",
      "Epoch 25/200\n",
      "\u001b[1m14792/14792\u001b[0m \u001b[32m━━━━━━━━━━━━━━━━━━━━\u001b[0m\u001b[37m\u001b[0m \u001b[1m9s\u001b[0m 580us/step - acc: 0.9029 - loss: 0.2791 - val_acc: 0.9200 - val_loss: 0.2273\n",
      "Epoch 26/200\n",
      "\u001b[1m14792/14792\u001b[0m \u001b[32m━━━━━━━━━━━━━━━━━━━━\u001b[0m\u001b[37m\u001b[0m \u001b[1m9s\u001b[0m 617us/step - acc: 0.9025 - loss: 0.2792 - val_acc: 0.9212 - val_loss: 0.2249\n",
      "Epoch 27/200\n",
      "\u001b[1m14792/14792\u001b[0m \u001b[32m━━━━━━━━━━━━━━━━━━━━\u001b[0m\u001b[37m\u001b[0m \u001b[1m9s\u001b[0m 601us/step - acc: 0.9019 - loss: 0.2799 - val_acc: 0.9207 - val_loss: 0.2251\n",
      "Epoch 28/200\n",
      "\u001b[1m14792/14792\u001b[0m \u001b[32m━━━━━━━━━━━━━━━━━━━━\u001b[0m\u001b[37m\u001b[0m \u001b[1m9s\u001b[0m 614us/step - acc: 0.9032 - loss: 0.2772 - val_acc: 0.9207 - val_loss: 0.2260\n",
      "Epoch 29/200\n",
      "\u001b[1m14792/14792\u001b[0m \u001b[32m━━━━━━━━━━━━━━━━━━━━\u001b[0m\u001b[37m\u001b[0m \u001b[1m9s\u001b[0m 605us/step - acc: 0.9042 - loss: 0.2750 - val_acc: 0.9226 - val_loss: 0.2220\n",
      "Epoch 30/200\n",
      "\u001b[1m14792/14792\u001b[0m \u001b[32m━━━━━━━━━━━━━━━━━━━━\u001b[0m\u001b[37m\u001b[0m \u001b[1m9s\u001b[0m 639us/step - acc: 0.9038 - loss: 0.2765 - val_acc: 0.9219 - val_loss: 0.2218\n",
      "Epoch 31/200\n",
      "\u001b[1m14792/14792\u001b[0m \u001b[32m━━━━━━━━━━━━━━━━━━━━\u001b[0m\u001b[37m\u001b[0m \u001b[1m10s\u001b[0m 668us/step - acc: 0.9039 - loss: 0.2752 - val_acc: 0.9225 - val_loss: 0.2206\n",
      "Epoch 32/200\n",
      "\u001b[1m14792/14792\u001b[0m \u001b[32m━━━━━━━━━━━━━━━━━━━━\u001b[0m\u001b[37m\u001b[0m \u001b[1m9s\u001b[0m 597us/step - acc: 0.9027 - loss: 0.2782 - val_acc: 0.9241 - val_loss: 0.2189\n",
      "Epoch 33/200\n",
      "\u001b[1m14792/14792\u001b[0m \u001b[32m━━━━━━━━━━━━━━━━━━━━\u001b[0m\u001b[37m\u001b[0m \u001b[1m9s\u001b[0m 618us/step - acc: 0.9038 - loss: 0.2767 - val_acc: 0.9231 - val_loss: 0.2195\n",
      "Epoch 34/200\n",
      "\u001b[1m14792/14792\u001b[0m \u001b[32m━━━━━━━━━━━━━━━━━━━━\u001b[0m\u001b[37m\u001b[0m \u001b[1m9s\u001b[0m 607us/step - acc: 0.9040 - loss: 0.2757 - val_acc: 0.9231 - val_loss: 0.2218\n",
      "Epoch 35/200\n",
      "\u001b[1m14792/14792\u001b[0m \u001b[32m━━━━━━━━━━━━━━━━━━━━\u001b[0m\u001b[37m\u001b[0m \u001b[1m9s\u001b[0m 620us/step - acc: 0.9049 - loss: 0.2743 - val_acc: 0.9226 - val_loss: 0.2223\n",
      "Epoch 36/200\n",
      "\u001b[1m14792/14792\u001b[0m \u001b[32m━━━━━━━━━━━━━━━━━━━━\u001b[0m\u001b[37m\u001b[0m \u001b[1m9s\u001b[0m 636us/step - acc: 0.9037 - loss: 0.2766 - val_acc: 0.9221 - val_loss: 0.2206\n",
      "Epoch 37/200\n",
      "\u001b[1m14792/14792\u001b[0m \u001b[32m━━━━━━━━━━━━━━━━━━━━\u001b[0m\u001b[37m\u001b[0m \u001b[1m10s\u001b[0m 647us/step - acc: 0.9048 - loss: 0.2740 - val_acc: 0.9257 - val_loss: 0.2164\n",
      "Epoch 38/200\n",
      "\u001b[1m14792/14792\u001b[0m \u001b[32m━━━━━━━━━━━━━━━━━━━━\u001b[0m\u001b[37m\u001b[0m \u001b[1m9s\u001b[0m 618us/step - acc: 0.9044 - loss: 0.2750 - val_acc: 0.9225 - val_loss: 0.2187\n",
      "Epoch 39/200\n",
      "\u001b[1m14792/14792\u001b[0m \u001b[32m━━━━━━━━━━━━━━━━━━━━\u001b[0m\u001b[37m\u001b[0m \u001b[1m9s\u001b[0m 640us/step - acc: 0.9038 - loss: 0.2757 - val_acc: 0.9225 - val_loss: 0.2210\n",
      "Epoch 40/200\n",
      "\u001b[1m14792/14792\u001b[0m \u001b[32m━━━━━━━━━━━━━━━━━━━━\u001b[0m\u001b[37m\u001b[0m \u001b[1m9s\u001b[0m 639us/step - acc: 0.9044 - loss: 0.2758 - val_acc: 0.9238 - val_loss: 0.2191\n",
      "Epoch 41/200\n",
      "\u001b[1m14792/14792\u001b[0m \u001b[32m━━━━━━━━━━━━━━━━━━━━\u001b[0m\u001b[37m\u001b[0m \u001b[1m9s\u001b[0m 612us/step - acc: 0.9048 - loss: 0.2747 - val_acc: 0.9250 - val_loss: 0.2162\n",
      "Epoch 42/200\n",
      "\u001b[1m14792/14792\u001b[0m \u001b[32m━━━━━━━━━━━━━━━━━━━━\u001b[0m\u001b[37m\u001b[0m \u001b[1m9s\u001b[0m 605us/step - acc: 0.9047 - loss: 0.2736 - val_acc: 0.9251 - val_loss: 0.2160\n",
      "Epoch 43/200\n",
      "\u001b[1m14792/14792\u001b[0m \u001b[32m━━━━━━━━━━━━━━━━━━━━\u001b[0m\u001b[37m\u001b[0m \u001b[1m9s\u001b[0m 598us/step - acc: 0.9059 - loss: 0.2709 - val_acc: 0.9250 - val_loss: 0.2170\n",
      "Epoch 44/200\n",
      "\u001b[1m14792/14792\u001b[0m \u001b[32m━━━━━━━━━━━━━━━━━━━━\u001b[0m\u001b[37m\u001b[0m \u001b[1m9s\u001b[0m 638us/step - acc: 0.9053 - loss: 0.2729 - val_acc: 0.9217 - val_loss: 0.2221\n",
      "Epoch 45/200\n",
      "\u001b[1m14792/14792\u001b[0m \u001b[32m━━━━━━━━━━━━━━━━━━━━\u001b[0m\u001b[37m\u001b[0m \u001b[1m9s\u001b[0m 613us/step - acc: 0.9052 - loss: 0.2726 - val_acc: 0.9233 - val_loss: 0.2191\n",
      "Epoch 46/200\n",
      "\u001b[1m14792/14792\u001b[0m \u001b[32m━━━━━━━━━━━━━━━━━━━━\u001b[0m\u001b[37m\u001b[0m \u001b[1m9s\u001b[0m 619us/step - acc: 0.9048 - loss: 0.2742 - val_acc: 0.9234 - val_loss: 0.2189\n",
      "Epoch 47/200\n",
      "\u001b[1m14792/14792\u001b[0m \u001b[32m━━━━━━━━━━━━━━━━━━━━\u001b[0m\u001b[37m\u001b[0m \u001b[1m9s\u001b[0m 599us/step - acc: 0.9065 - loss: 0.2680 - val_acc: 0.9231 - val_loss: 0.2163\n",
      "Epoch 48/200\n",
      "\u001b[1m14792/14792\u001b[0m \u001b[32m━━━━━━━━━━━━━━━━━━━━\u001b[0m\u001b[37m\u001b[0m \u001b[1m9s\u001b[0m 602us/step - acc: 0.9056 - loss: 0.2708 - val_acc: 0.9256 - val_loss: 0.2152\n",
      "Epoch 49/200\n",
      "\u001b[1m14792/14792\u001b[0m \u001b[32m━━━━━━━━━━━━━━━━━━━━\u001b[0m\u001b[37m\u001b[0m \u001b[1m9s\u001b[0m 602us/step - acc: 0.9058 - loss: 0.2714 - val_acc: 0.9258 - val_loss: 0.2135\n",
      "Epoch 50/200\n",
      "\u001b[1m14792/14792\u001b[0m \u001b[32m━━━━━━━━━━━━━━━━━━━━\u001b[0m\u001b[37m\u001b[0m \u001b[1m9s\u001b[0m 597us/step - acc: 0.9059 - loss: 0.2705 - val_acc: 0.9260 - val_loss: 0.2125\n",
      "Epoch 51/200\n",
      "\u001b[1m14792/14792\u001b[0m \u001b[32m━━━━━━━━━━━━━━━━━━━━\u001b[0m\u001b[37m\u001b[0m \u001b[1m9s\u001b[0m 601us/step - acc: 0.9053 - loss: 0.2718 - val_acc: 0.9270 - val_loss: 0.2112\n",
      "Epoch 52/200\n",
      "\u001b[1m14792/14792\u001b[0m \u001b[32m━━━━━━━━━━━━━━━━━━━━\u001b[0m\u001b[37m\u001b[0m \u001b[1m9s\u001b[0m 603us/step - acc: 0.9050 - loss: 0.2719 - val_acc: 0.9261 - val_loss: 0.2139\n",
      "Epoch 53/200\n",
      "\u001b[1m14792/14792\u001b[0m \u001b[32m━━━━━━━━━━━━━━━━━━━━\u001b[0m\u001b[37m\u001b[0m \u001b[1m9s\u001b[0m 610us/step - acc: 0.9063 - loss: 0.2692 - val_acc: 0.9263 - val_loss: 0.2121\n",
      "Epoch 54/200\n",
      "\u001b[1m14792/14792\u001b[0m \u001b[32m━━━━━━━━━━━━━━━━━━━━\u001b[0m\u001b[37m\u001b[0m \u001b[1m9s\u001b[0m 600us/step - acc: 0.9057 - loss: 0.2722 - val_acc: 0.9261 - val_loss: 0.2135\n",
      "Epoch 55/200\n",
      "\u001b[1m14792/14792\u001b[0m \u001b[32m━━━━━━━━━━━━━━━━━━━━\u001b[0m\u001b[37m\u001b[0m \u001b[1m9s\u001b[0m 614us/step - acc: 0.9063 - loss: 0.2706 - val_acc: 0.9267 - val_loss: 0.2110\n",
      "Epoch 56/200\n",
      "\u001b[1m14792/14792\u001b[0m \u001b[32m━━━━━━━━━━━━━━━━━━━━\u001b[0m\u001b[37m\u001b[0m \u001b[1m9s\u001b[0m 615us/step - acc: 0.9059 - loss: 0.2700 - val_acc: 0.9265 - val_loss: 0.2110\n",
      "Epoch 57/200\n",
      "\u001b[1m14792/14792\u001b[0m \u001b[32m━━━━━━━━━━━━━━━━━━━━\u001b[0m\u001b[37m\u001b[0m \u001b[1m9s\u001b[0m 598us/step - acc: 0.9070 - loss: 0.2689 - val_acc: 0.9249 - val_loss: 0.2156\n",
      "Epoch 58/200\n",
      "\u001b[1m14792/14792\u001b[0m \u001b[32m━━━━━━━━━━━━━━━━━━━━\u001b[0m\u001b[37m\u001b[0m \u001b[1m9s\u001b[0m 590us/step - acc: 0.9068 - loss: 0.2678 - val_acc: 0.9268 - val_loss: 0.2107\n",
      "Epoch 59/200\n",
      "\u001b[1m14792/14792\u001b[0m \u001b[32m━━━━━━━━━━━━━━━━━━━━\u001b[0m\u001b[37m\u001b[0m \u001b[1m9s\u001b[0m 593us/step - acc: 0.9065 - loss: 0.2683 - val_acc: 0.9254 - val_loss: 0.2143\n",
      "Epoch 60/200\n",
      "\u001b[1m14792/14792\u001b[0m \u001b[32m━━━━━━━━━━━━━━━━━━━━\u001b[0m\u001b[37m\u001b[0m \u001b[1m9s\u001b[0m 617us/step - acc: 0.9072 - loss: 0.2676 - val_acc: 0.9254 - val_loss: 0.2153\n",
      "Epoch 61/200\n",
      "\u001b[1m14792/14792\u001b[0m \u001b[32m━━━━━━━━━━━━━━━━━━━━\u001b[0m\u001b[37m\u001b[0m \u001b[1m9s\u001b[0m 597us/step - acc: 0.9067 - loss: 0.2681 - val_acc: 0.9273 - val_loss: 0.2111\n",
      "Epoch 62/200\n",
      "\u001b[1m14792/14792\u001b[0m \u001b[32m━━━━━━━━━━━━━━━━━━━━\u001b[0m\u001b[37m\u001b[0m \u001b[1m9s\u001b[0m 593us/step - acc: 0.9066 - loss: 0.2685 - val_acc: 0.9270 - val_loss: 0.2095\n",
      "Epoch 63/200\n",
      "\u001b[1m14792/14792\u001b[0m \u001b[32m━━━━━━━━━━━━━━━━━━━━\u001b[0m\u001b[37m\u001b[0m \u001b[1m9s\u001b[0m 599us/step - acc: 0.9068 - loss: 0.2682 - val_acc: 0.9267 - val_loss: 0.2120\n",
      "Epoch 64/200\n",
      "\u001b[1m14792/14792\u001b[0m \u001b[32m━━━━━━━━━━━━━━━━━━━━\u001b[0m\u001b[37m\u001b[0m \u001b[1m9s\u001b[0m 618us/step - acc: 0.9068 - loss: 0.2689 - val_acc: 0.9279 - val_loss: 0.2086\n",
      "Epoch 65/200\n",
      "\u001b[1m14792/14792\u001b[0m \u001b[32m━━━━━━━━━━━━━━━━━━━━\u001b[0m\u001b[37m\u001b[0m \u001b[1m9s\u001b[0m 603us/step - acc: 0.9065 - loss: 0.2682 - val_acc: 0.9291 - val_loss: 0.2076\n",
      "Epoch 66/200\n",
      "\u001b[1m14792/14792\u001b[0m \u001b[32m━━━━━━━━━━━━━━━━━━━━\u001b[0m\u001b[37m\u001b[0m \u001b[1m9s\u001b[0m 591us/step - acc: 0.9074 - loss: 0.2683 - val_acc: 0.9275 - val_loss: 0.2103\n",
      "Epoch 67/200\n",
      "\u001b[1m14792/14792\u001b[0m \u001b[32m━━━━━━━━━━━━━━━━━━━━\u001b[0m\u001b[37m\u001b[0m \u001b[1m9s\u001b[0m 595us/step - acc: 0.9068 - loss: 0.2666 - val_acc: 0.9292 - val_loss: 0.2055\n",
      "Epoch 68/200\n",
      "\u001b[1m14792/14792\u001b[0m \u001b[32m━━━━━━━━━━━━━━━━━━━━\u001b[0m\u001b[37m\u001b[0m \u001b[1m9s\u001b[0m 599us/step - acc: 0.9072 - loss: 0.2688 - val_acc: 0.9272 - val_loss: 0.2102\n",
      "Epoch 69/200\n",
      "\u001b[1m14792/14792\u001b[0m \u001b[32m━━━━━━━━━━━━━━━━━━━━\u001b[0m\u001b[37m\u001b[0m \u001b[1m9s\u001b[0m 617us/step - acc: 0.9074 - loss: 0.2668 - val_acc: 0.9279 - val_loss: 0.2111\n",
      "Epoch 70/200\n",
      "\u001b[1m14792/14792\u001b[0m \u001b[32m━━━━━━━━━━━━━━━━━━━━\u001b[0m\u001b[37m\u001b[0m \u001b[1m9s\u001b[0m 617us/step - acc: 0.9074 - loss: 0.2661 - val_acc: 0.9289 - val_loss: 0.2085\n",
      "Epoch 71/200\n",
      "\u001b[1m14792/14792\u001b[0m \u001b[32m━━━━━━━━━━━━━━━━━━━━\u001b[0m\u001b[37m\u001b[0m \u001b[1m9s\u001b[0m 597us/step - acc: 0.9079 - loss: 0.2658 - val_acc: 0.9280 - val_loss: 0.2089\n",
      "Epoch 72/200\n",
      "\u001b[1m14792/14792\u001b[0m \u001b[32m━━━━━━━━━━━━━━━━━━━━\u001b[0m\u001b[37m\u001b[0m \u001b[1m9s\u001b[0m 598us/step - acc: 0.9075 - loss: 0.2666 - val_acc: 0.9278 - val_loss: 0.2107\n",
      "Epoch 73/200\n",
      "\u001b[1m14792/14792\u001b[0m \u001b[32m━━━━━━━━━━━━━━━━━━━━\u001b[0m\u001b[37m\u001b[0m \u001b[1m9s\u001b[0m 595us/step - acc: 0.9080 - loss: 0.2668 - val_acc: 0.9274 - val_loss: 0.2097\n",
      "Epoch 74/200\n",
      "\u001b[1m14792/14792\u001b[0m \u001b[32m━━━━━━━━━━━━━━━━━━━━\u001b[0m\u001b[37m\u001b[0m \u001b[1m9s\u001b[0m 607us/step - acc: 0.9071 - loss: 0.2682 - val_acc: 0.9269 - val_loss: 0.2082\n",
      "Epoch 75/200\n",
      "\u001b[1m14792/14792\u001b[0m \u001b[32m━━━━━━━━━━━━━━━━━━━━\u001b[0m\u001b[37m\u001b[0m \u001b[1m9s\u001b[0m 607us/step - acc: 0.9076 - loss: 0.2653 - val_acc: 0.9284 - val_loss: 0.2088\n",
      "Epoch 76/200\n",
      "\u001b[1m14792/14792\u001b[0m \u001b[32m━━━━━━━━━━━━━━━━━━━━\u001b[0m\u001b[37m\u001b[0m \u001b[1m9s\u001b[0m 610us/step - acc: 0.9072 - loss: 0.2667 - val_acc: 0.9214 - val_loss: 0.2177\n",
      "Epoch 77/200\n",
      "\u001b[1m14792/14792\u001b[0m \u001b[32m━━━━━━━━━━━━━━━━━━━━\u001b[0m\u001b[37m\u001b[0m \u001b[1m9s\u001b[0m 605us/step - acc: 0.9072 - loss: 0.2692 - val_acc: 0.9274 - val_loss: 0.2095\n",
      "Epoch 78/200\n",
      "\u001b[1m14792/14792\u001b[0m \u001b[32m━━━━━━━━━━━━━━━━━━━━\u001b[0m\u001b[37m\u001b[0m \u001b[1m9s\u001b[0m 606us/step - acc: 0.9073 - loss: 0.2678 - val_acc: 0.9267 - val_loss: 0.2110\n",
      "Epoch 79/200\n",
      "\u001b[1m14792/14792\u001b[0m \u001b[32m━━━━━━━━━━━━━━━━━━━━\u001b[0m\u001b[37m\u001b[0m \u001b[1m9s\u001b[0m 609us/step - acc: 0.9073 - loss: 0.2674 - val_acc: 0.9300 - val_loss: 0.2054\n",
      "Epoch 80/200\n",
      "\u001b[1m14792/14792\u001b[0m \u001b[32m━━━━━━━━━━━━━━━━━━━━\u001b[0m\u001b[37m\u001b[0m \u001b[1m9s\u001b[0m 600us/step - acc: 0.9077 - loss: 0.2668 - val_acc: 0.9277 - val_loss: 0.2094\n",
      "Epoch 81/200\n",
      "\u001b[1m14792/14792\u001b[0m \u001b[32m━━━━━━━━━━━━━━━━━━━━\u001b[0m\u001b[37m\u001b[0m \u001b[1m9s\u001b[0m 610us/step - acc: 0.9091 - loss: 0.2632 - val_acc: 0.9286 - val_loss: 0.2073\n",
      "Epoch 82/200\n",
      "\u001b[1m14792/14792\u001b[0m \u001b[32m━━━━━━━━━━━━━━━━━━━━\u001b[0m\u001b[37m\u001b[0m \u001b[1m9s\u001b[0m 610us/step - acc: 0.9074 - loss: 0.2648 - val_acc: 0.9282 - val_loss: 0.2105\n",
      "Epoch 83/200\n",
      "\u001b[1m14792/14792\u001b[0m \u001b[32m━━━━━━━━━━━━━━━━━━━━\u001b[0m\u001b[37m\u001b[0m \u001b[1m9s\u001b[0m 604us/step - acc: 0.9080 - loss: 0.2651 - val_acc: 0.9281 - val_loss: 0.2095\n",
      "Epoch 84/200\n",
      "\u001b[1m14792/14792\u001b[0m \u001b[32m━━━━━━━━━━━━━━━━━━━━\u001b[0m\u001b[37m\u001b[0m \u001b[1m9s\u001b[0m 622us/step - acc: 0.9072 - loss: 0.2657 - val_acc: 0.9294 - val_loss: 0.2061\n",
      "Epoch 85/200\n",
      "\u001b[1m14792/14792\u001b[0m \u001b[32m━━━━━━━━━━━━━━━━━━━━\u001b[0m\u001b[37m\u001b[0m \u001b[1m9s\u001b[0m 607us/step - acc: 0.9085 - loss: 0.2639 - val_acc: 0.9295 - val_loss: 0.2067\n",
      "Epoch 86/200\n",
      "\u001b[1m14792/14792\u001b[0m \u001b[32m━━━━━━━━━━━━━━━━━━━━\u001b[0m\u001b[37m\u001b[0m \u001b[1m9s\u001b[0m 600us/step - acc: 0.9071 - loss: 0.2680 - val_acc: 0.9290 - val_loss: 0.2070\n",
      "Epoch 87/200\n",
      "\u001b[1m14792/14792\u001b[0m \u001b[32m━━━━━━━━━━━━━━━━━━━━\u001b[0m\u001b[37m\u001b[0m \u001b[1m9s\u001b[0m 631us/step - acc: 0.9090 - loss: 0.2635 - val_acc: 0.9304 - val_loss: 0.2041\n",
      "Epoch 88/200\n",
      "\u001b[1m14792/14792\u001b[0m \u001b[32m━━━━━━━━━━━━━━━━━━━━\u001b[0m\u001b[37m\u001b[0m \u001b[1m9s\u001b[0m 611us/step - acc: 0.9081 - loss: 0.2646 - val_acc: 0.9279 - val_loss: 0.2079\n",
      "Epoch 89/200\n",
      "\u001b[1m14792/14792\u001b[0m \u001b[32m━━━━━━━━━━━━━━━━━━━━\u001b[0m\u001b[37m\u001b[0m \u001b[1m9s\u001b[0m 600us/step - acc: 0.9090 - loss: 0.2638 - val_acc: 0.9277 - val_loss: 0.2089\n",
      "Epoch 90/200\n",
      "\u001b[1m14792/14792\u001b[0m \u001b[32m━━━━━━━━━━━━━━━━━━━━\u001b[0m\u001b[37m\u001b[0m \u001b[1m9s\u001b[0m 635us/step - acc: 0.9085 - loss: 0.2640 - val_acc: 0.9297 - val_loss: 0.2051\n",
      "Epoch 91/200\n",
      "\u001b[1m14792/14792\u001b[0m \u001b[32m━━━━━━━━━━━━━━━━━━━━\u001b[0m\u001b[37m\u001b[0m \u001b[1m9s\u001b[0m 629us/step - acc: 0.9081 - loss: 0.2673 - val_acc: 0.9306 - val_loss: 0.2040\n",
      "Epoch 92/200\n",
      "\u001b[1m14792/14792\u001b[0m \u001b[32m━━━━━━━━━━━━━━━━━━━━\u001b[0m\u001b[37m\u001b[0m \u001b[1m9s\u001b[0m 617us/step - acc: 0.9085 - loss: 0.2648 - val_acc: 0.9268 - val_loss: 0.2115\n",
      "Epoch 93/200\n",
      "\u001b[1m14792/14792\u001b[0m \u001b[32m━━━━━━━━━━━━━━━━━━━━\u001b[0m\u001b[37m\u001b[0m \u001b[1m10s\u001b[0m 651us/step - acc: 0.9075 - loss: 0.2664 - val_acc: 0.9281 - val_loss: 0.2071\n",
      "Epoch 94/200\n",
      "\u001b[1m14792/14792\u001b[0m \u001b[32m━━━━━━━━━━━━━━━━━━━━\u001b[0m\u001b[37m\u001b[0m \u001b[1m9s\u001b[0m 602us/step - acc: 0.9086 - loss: 0.2643 - val_acc: 0.9300 - val_loss: 0.2051\n",
      "Epoch 95/200\n",
      "\u001b[1m14792/14792\u001b[0m \u001b[32m━━━━━━━━━━━━━━━━━━━━\u001b[0m\u001b[37m\u001b[0m \u001b[1m9s\u001b[0m 615us/step - acc: 0.9082 - loss: 0.2644 - val_acc: 0.9269 - val_loss: 0.2083\n",
      "Epoch 96/200\n",
      "\u001b[1m14792/14792\u001b[0m \u001b[32m━━━━━━━━━━━━━━━━━━━━\u001b[0m\u001b[37m\u001b[0m \u001b[1m9s\u001b[0m 602us/step - acc: 0.9099 - loss: 0.2615 - val_acc: 0.9296 - val_loss: 0.2050\n",
      "Epoch 97/200\n",
      "\u001b[1m14792/14792\u001b[0m \u001b[32m━━━━━━━━━━━━━━━━━━━━\u001b[0m\u001b[37m\u001b[0m \u001b[1m9s\u001b[0m 610us/step - acc: 0.9092 - loss: 0.2618 - val_acc: 0.9290 - val_loss: 0.2070\n",
      "Epoch 98/200\n",
      "\u001b[1m14792/14792\u001b[0m \u001b[32m━━━━━━━━━━━━━━━━━━━━\u001b[0m\u001b[37m\u001b[0m \u001b[1m9s\u001b[0m 617us/step - acc: 0.9084 - loss: 0.2645 - val_acc: 0.9296 - val_loss: 0.2058\n",
      "Epoch 99/200\n",
      "\u001b[1m14792/14792\u001b[0m \u001b[32m━━━━━━━━━━━━━━━━━━━━\u001b[0m\u001b[37m\u001b[0m \u001b[1m9s\u001b[0m 611us/step - acc: 0.9085 - loss: 0.2647 - val_acc: 0.9298 - val_loss: 0.2064\n",
      "Epoch 100/200\n",
      "\u001b[1m14792/14792\u001b[0m \u001b[32m━━━━━━━━━━━━━━━━━━━━\u001b[0m\u001b[37m\u001b[0m \u001b[1m9s\u001b[0m 602us/step - acc: 0.9073 - loss: 0.2675 - val_acc: 0.9304 - val_loss: 0.2041\n",
      "Epoch 101/200\n",
      "\u001b[1m14792/14792\u001b[0m \u001b[32m━━━━━━━━━━━━━━━━━━━━\u001b[0m\u001b[37m\u001b[0m \u001b[1m9s\u001b[0m 612us/step - acc: 0.9085 - loss: 0.2638 - val_acc: 0.9289 - val_loss: 0.2073\n",
      "Epoch 102/200\n",
      "\u001b[1m14792/14792\u001b[0m \u001b[32m━━━━━━━━━━━━━━━━━━━━\u001b[0m\u001b[37m\u001b[0m \u001b[1m9s\u001b[0m 610us/step - acc: 0.9091 - loss: 0.2641 - val_acc: 0.9294 - val_loss: 0.2060\n",
      "Epoch 103/200\n",
      "\u001b[1m14792/14792\u001b[0m \u001b[32m━━━━━━━━━━━━━━━━━━━━\u001b[0m\u001b[37m\u001b[0m \u001b[1m9s\u001b[0m 603us/step - acc: 0.9088 - loss: 0.2647 - val_acc: 0.9274 - val_loss: 0.2097\n",
      "Epoch 104/200\n",
      "\u001b[1m14792/14792\u001b[0m \u001b[32m━━━━━━━━━━━━━━━━━━━━\u001b[0m\u001b[37m\u001b[0m \u001b[1m9s\u001b[0m 629us/step - acc: 0.9081 - loss: 0.2651 - val_acc: 0.9305 - val_loss: 0.2072\n",
      "Epoch 105/200\n",
      "\u001b[1m14792/14792\u001b[0m \u001b[32m━━━━━━━━━━━━━━━━━━━━\u001b[0m\u001b[37m\u001b[0m \u001b[1m10s\u001b[0m 645us/step - acc: 0.9082 - loss: 0.2645 - val_acc: 0.9291 - val_loss: 0.2049\n",
      "Epoch 106/200\n",
      "\u001b[1m14792/14792\u001b[0m \u001b[32m━━━━━━━━━━━━━━━━━━━━\u001b[0m\u001b[37m\u001b[0m \u001b[1m9s\u001b[0m 639us/step - acc: 0.9092 - loss: 0.2623 - val_acc: 0.9310 - val_loss: 0.2028\n",
      "Epoch 107/200\n",
      "\u001b[1m14792/14792\u001b[0m \u001b[32m━━━━━━━━━━━━━━━━━━━━\u001b[0m\u001b[37m\u001b[0m \u001b[1m9s\u001b[0m 615us/step - acc: 0.9090 - loss: 0.2622 - val_acc: 0.9281 - val_loss: 0.2078\n",
      "Epoch 108/200\n",
      "\u001b[1m14792/14792\u001b[0m \u001b[32m━━━━━━━━━━━━━━━━━━━━\u001b[0m\u001b[37m\u001b[0m \u001b[1m9s\u001b[0m 611us/step - acc: 0.9086 - loss: 0.2654 - val_acc: 0.9300 - val_loss: 0.2038\n",
      "Epoch 109/200\n",
      "\u001b[1m14792/14792\u001b[0m \u001b[32m━━━━━━━━━━━━━━━━━━━━\u001b[0m\u001b[37m\u001b[0m \u001b[1m9s\u001b[0m 610us/step - acc: 0.9077 - loss: 0.2644 - val_acc: 0.9295 - val_loss: 0.2041\n",
      "Epoch 110/200\n",
      "\u001b[1m14792/14792\u001b[0m \u001b[32m━━━━━━━━━━━━━━━━━━━━\u001b[0m\u001b[37m\u001b[0m \u001b[1m9s\u001b[0m 620us/step - acc: 0.9089 - loss: 0.2644 - val_acc: 0.9288 - val_loss: 0.2080\n",
      "Epoch 111/200\n",
      "\u001b[1m14792/14792\u001b[0m \u001b[32m━━━━━━━━━━━━━━━━━━━━\u001b[0m\u001b[37m\u001b[0m \u001b[1m9s\u001b[0m 609us/step - acc: 0.9083 - loss: 0.2635 - val_acc: 0.9295 - val_loss: 0.2043\n",
      "Epoch 112/200\n",
      "\u001b[1m14792/14792\u001b[0m \u001b[32m━━━━━━━━━━━━━━━━━━━━\u001b[0m\u001b[37m\u001b[0m \u001b[1m9s\u001b[0m 611us/step - acc: 0.9091 - loss: 0.2636 - val_acc: 0.9295 - val_loss: 0.2046\n",
      "Epoch 113/200\n",
      "\u001b[1m14792/14792\u001b[0m \u001b[32m━━━━━━━━━━━━━━━━━━━━\u001b[0m\u001b[37m\u001b[0m \u001b[1m9s\u001b[0m 603us/step - acc: 0.9094 - loss: 0.2623 - val_acc: 0.9295 - val_loss: 0.2026\n",
      "Epoch 114/200\n",
      "\u001b[1m14792/14792\u001b[0m \u001b[32m━━━━━━━━━━━━━━━━━━━━\u001b[0m\u001b[37m\u001b[0m \u001b[1m9s\u001b[0m 604us/step - acc: 0.9091 - loss: 0.2630 - val_acc: 0.9293 - val_loss: 0.2050\n",
      "Epoch 115/200\n",
      "\u001b[1m14792/14792\u001b[0m \u001b[32m━━━━━━━━━━━━━━━━━━━━\u001b[0m\u001b[37m\u001b[0m \u001b[1m9s\u001b[0m 601us/step - acc: 0.9090 - loss: 0.2635 - val_acc: 0.9313 - val_loss: 0.2043\n",
      "Epoch 116/200\n",
      "\u001b[1m14792/14792\u001b[0m \u001b[32m━━━━━━━━━━━━━━━━━━━━\u001b[0m\u001b[37m\u001b[0m \u001b[1m9s\u001b[0m 606us/step - acc: 0.9082 - loss: 0.2650 - val_acc: 0.9292 - val_loss: 0.2040\n",
      "Epoch 117/200\n",
      "\u001b[1m14792/14792\u001b[0m \u001b[32m━━━━━━━━━━━━━━━━━━━━\u001b[0m\u001b[37m\u001b[0m \u001b[1m9s\u001b[0m 616us/step - acc: 0.9101 - loss: 0.2618 - val_acc: 0.9307 - val_loss: 0.2046\n",
      "Epoch 118/200\n",
      "\u001b[1m14792/14792\u001b[0m \u001b[32m━━━━━━━━━━━━━━━━━━━━\u001b[0m\u001b[37m\u001b[0m \u001b[1m9s\u001b[0m 628us/step - acc: 0.9086 - loss: 0.2635 - val_acc: 0.9313 - val_loss: 0.2019\n",
      "Epoch 119/200\n",
      "\u001b[1m14792/14792\u001b[0m \u001b[32m━━━━━━━━━━━━━━━━━━━━\u001b[0m\u001b[37m\u001b[0m \u001b[1m9s\u001b[0m 628us/step - acc: 0.9085 - loss: 0.2623 - val_acc: 0.9295 - val_loss: 0.2037\n",
      "Epoch 120/200\n",
      "\u001b[1m14792/14792\u001b[0m \u001b[32m━━━━━━━━━━━━━━━━━━━━\u001b[0m\u001b[37m\u001b[0m \u001b[1m9s\u001b[0m 637us/step - acc: 0.9098 - loss: 0.2613 - val_acc: 0.9296 - val_loss: 0.2067\n",
      "Epoch 121/200\n",
      "\u001b[1m14792/14792\u001b[0m \u001b[32m━━━━━━━━━━━━━━━━━━━━\u001b[0m\u001b[37m\u001b[0m \u001b[1m9s\u001b[0m 628us/step - acc: 0.9086 - loss: 0.2640 - val_acc: 0.9309 - val_loss: 0.2021\n",
      "Epoch 122/200\n",
      "\u001b[1m14792/14792\u001b[0m \u001b[32m━━━━━━━━━━━━━━━━━━━━\u001b[0m\u001b[37m\u001b[0m \u001b[1m9s\u001b[0m 637us/step - acc: 0.9100 - loss: 0.2611 - val_acc: 0.9302 - val_loss: 0.2015\n",
      "Epoch 123/200\n",
      "\u001b[1m14792/14792\u001b[0m \u001b[32m━━━━━━━━━━━━━━━━━━━━\u001b[0m\u001b[37m\u001b[0m \u001b[1m9s\u001b[0m 629us/step - acc: 0.9090 - loss: 0.2627 - val_acc: 0.9301 - val_loss: 0.2045\n",
      "Epoch 124/200\n",
      "\u001b[1m14792/14792\u001b[0m \u001b[32m━━━━━━━━━━━━━━━━━━━━\u001b[0m\u001b[37m\u001b[0m \u001b[1m9s\u001b[0m 634us/step - acc: 0.9090 - loss: 0.2629 - val_acc: 0.9294 - val_loss: 0.2035\n",
      "Epoch 125/200\n",
      "\u001b[1m14792/14792\u001b[0m \u001b[32m━━━━━━━━━━━━━━━━━━━━\u001b[0m\u001b[37m\u001b[0m \u001b[1m9s\u001b[0m 630us/step - acc: 0.9081 - loss: 0.2643 - val_acc: 0.9299 - val_loss: 0.2046\n",
      "Epoch 126/200\n",
      "\u001b[1m14792/14792\u001b[0m \u001b[32m━━━━━━━━━━━━━━━━━━━━\u001b[0m\u001b[37m\u001b[0m \u001b[1m9s\u001b[0m 628us/step - acc: 0.9080 - loss: 0.2642 - val_acc: 0.9294 - val_loss: 0.2060\n",
      "Epoch 127/200\n",
      "\u001b[1m14792/14792\u001b[0m \u001b[32m━━━━━━━━━━━━━━━━━━━━\u001b[0m\u001b[37m\u001b[0m \u001b[1m9s\u001b[0m 623us/step - acc: 0.9078 - loss: 0.2654 - val_acc: 0.9297 - val_loss: 0.2017\n",
      "Epoch 128/200\n",
      "\u001b[1m14792/14792\u001b[0m \u001b[32m━━━━━━━━━━━━━━━━━━━━\u001b[0m\u001b[37m\u001b[0m \u001b[1m9s\u001b[0m 622us/step - acc: 0.9085 - loss: 0.2636 - val_acc: 0.9257 - val_loss: 0.2081\n",
      "Epoch 129/200\n",
      "\u001b[1m14792/14792\u001b[0m \u001b[32m━━━━━━━━━━━━━━━━━━━━\u001b[0m\u001b[37m\u001b[0m \u001b[1m9s\u001b[0m 627us/step - acc: 0.9084 - loss: 0.2638 - val_acc: 0.9294 - val_loss: 0.2030\n",
      "Epoch 130/200\n",
      "\u001b[1m14792/14792\u001b[0m \u001b[32m━━━━━━━━━━━━━━━━━━━━\u001b[0m\u001b[37m\u001b[0m \u001b[1m9s\u001b[0m 622us/step - acc: 0.9101 - loss: 0.2606 - val_acc: 0.9311 - val_loss: 0.2000\n",
      "Epoch 131/200\n",
      "\u001b[1m14792/14792\u001b[0m \u001b[32m━━━━━━━━━━━━━━━━━━━━\u001b[0m\u001b[37m\u001b[0m \u001b[1m9s\u001b[0m 607us/step - acc: 0.9099 - loss: 0.2604 - val_acc: 0.9294 - val_loss: 0.2039\n",
      "Epoch 132/200\n",
      "\u001b[1m14792/14792\u001b[0m \u001b[32m━━━━━━━━━━━━━━━━━━━━\u001b[0m\u001b[37m\u001b[0m \u001b[1m9s\u001b[0m 607us/step - acc: 0.9086 - loss: 0.2641 - val_acc: 0.9296 - val_loss: 0.2031\n",
      "Epoch 133/200\n",
      "\u001b[1m14792/14792\u001b[0m \u001b[32m━━━━━━━━━━━━━━━━━━━━\u001b[0m\u001b[37m\u001b[0m \u001b[1m9s\u001b[0m 609us/step - acc: 0.9095 - loss: 0.2625 - val_acc: 0.9284 - val_loss: 0.2053\n",
      "Epoch 134/200\n",
      "\u001b[1m14792/14792\u001b[0m \u001b[32m━━━━━━━━━━━━━━━━━━━━\u001b[0m\u001b[37m\u001b[0m \u001b[1m9s\u001b[0m 619us/step - acc: 0.9092 - loss: 0.2610 - val_acc: 0.9310 - val_loss: 0.2018\n",
      "Epoch 135/200\n",
      "\u001b[1m14792/14792\u001b[0m \u001b[32m━━━━━━━━━━━━━━━━━━━━\u001b[0m\u001b[37m\u001b[0m \u001b[1m9s\u001b[0m 607us/step - acc: 0.9092 - loss: 0.2594 - val_acc: 0.9295 - val_loss: 0.2039\n",
      "Epoch 136/200\n",
      "\u001b[1m14792/14792\u001b[0m \u001b[32m━━━━━━━━━━━━━━━━━━━━\u001b[0m\u001b[37m\u001b[0m \u001b[1m9s\u001b[0m 610us/step - acc: 0.9098 - loss: 0.2609 - val_acc: 0.9290 - val_loss: 0.2049\n",
      "Epoch 137/200\n",
      "\u001b[1m14792/14792\u001b[0m \u001b[32m━━━━━━━━━━━━━━━━━━━━\u001b[0m\u001b[37m\u001b[0m \u001b[1m9s\u001b[0m 614us/step - acc: 0.9092 - loss: 0.2615 - val_acc: 0.9314 - val_loss: 0.2010\n",
      "Epoch 138/200\n",
      "\u001b[1m14792/14792\u001b[0m \u001b[32m━━━━━━━━━━━━━━━━━━━━\u001b[0m\u001b[37m\u001b[0m \u001b[1m9s\u001b[0m 614us/step - acc: 0.9095 - loss: 0.2604 - val_acc: 0.9302 - val_loss: 0.2036\n",
      "Epoch 139/200\n",
      "\u001b[1m14792/14792\u001b[0m \u001b[32m━━━━━━━━━━━━━━━━━━━━\u001b[0m\u001b[37m\u001b[0m \u001b[1m9s\u001b[0m 622us/step - acc: 0.9091 - loss: 0.2612 - val_acc: 0.9301 - val_loss: 0.2012\n",
      "Epoch 140/200\n",
      "\u001b[1m14792/14792\u001b[0m \u001b[32m━━━━━━━━━━━━━━━━━━━━\u001b[0m\u001b[37m\u001b[0m \u001b[1m9s\u001b[0m 624us/step - acc: 0.9090 - loss: 0.2621 - val_acc: 0.9315 - val_loss: 0.2015\n",
      "Epoch 141/200\n",
      "\u001b[1m14792/14792\u001b[0m \u001b[32m━━━━━━━━━━━━━━━━━━━━\u001b[0m\u001b[37m\u001b[0m \u001b[1m9s\u001b[0m 605us/step - acc: 0.9088 - loss: 0.2643 - val_acc: 0.9310 - val_loss: 0.2017\n",
      "Epoch 142/200\n",
      "\u001b[1m14792/14792\u001b[0m \u001b[32m━━━━━━━━━━━━━━━━━━━━\u001b[0m\u001b[37m\u001b[0m \u001b[1m9s\u001b[0m 604us/step - acc: 0.9096 - loss: 0.2615 - val_acc: 0.9298 - val_loss: 0.2021\n",
      "Epoch 143/200\n",
      "\u001b[1m14792/14792\u001b[0m \u001b[32m━━━━━━━━━━━━━━━━━━━━\u001b[0m\u001b[37m\u001b[0m \u001b[1m9s\u001b[0m 605us/step - acc: 0.9084 - loss: 0.2637 - val_acc: 0.9298 - val_loss: 0.2046\n",
      "Epoch 144/200\n",
      "\u001b[1m14792/14792\u001b[0m \u001b[32m━━━━━━━━━━━━━━━━━━━━\u001b[0m\u001b[37m\u001b[0m \u001b[1m9s\u001b[0m 608us/step - acc: 0.9090 - loss: 0.2630 - val_acc: 0.9318 - val_loss: 0.1990\n",
      "Epoch 145/200\n",
      "\u001b[1m14792/14792\u001b[0m \u001b[32m━━━━━━━━━━━━━━━━━━━━\u001b[0m\u001b[37m\u001b[0m \u001b[1m9s\u001b[0m 606us/step - acc: 0.9098 - loss: 0.2622 - val_acc: 0.9296 - val_loss: 0.2044\n",
      "Epoch 146/200\n",
      "\u001b[1m14792/14792\u001b[0m \u001b[32m━━━━━━━━━━━━━━━━━━━━\u001b[0m\u001b[37m\u001b[0m \u001b[1m9s\u001b[0m 603us/step - acc: 0.9091 - loss: 0.2627 - val_acc: 0.9312 - val_loss: 0.2029\n",
      "Epoch 147/200\n",
      "\u001b[1m14792/14792\u001b[0m \u001b[32m━━━━━━━━━━━━━━━━━━━━\u001b[0m\u001b[37m\u001b[0m \u001b[1m10s\u001b[0m 643us/step - acc: 0.9094 - loss: 0.2617 - val_acc: 0.9273 - val_loss: 0.2070\n",
      "Epoch 148/200\n",
      "\u001b[1m14792/14792\u001b[0m \u001b[32m━━━━━━━━━━━━━━━━━━━━\u001b[0m\u001b[37m\u001b[0m \u001b[1m9s\u001b[0m 632us/step - acc: 0.9096 - loss: 0.2609 - val_acc: 0.9288 - val_loss: 0.2074\n",
      "Epoch 149/200\n",
      "\u001b[1m14792/14792\u001b[0m \u001b[32m━━━━━━━━━━━━━━━━━━━━\u001b[0m\u001b[37m\u001b[0m \u001b[1m9s\u001b[0m 603us/step - acc: 0.9088 - loss: 0.2628 - val_acc: 0.9321 - val_loss: 0.2024\n",
      "Epoch 150/200\n",
      "\u001b[1m14792/14792\u001b[0m \u001b[32m━━━━━━━━━━━━━━━━━━━━\u001b[0m\u001b[37m\u001b[0m \u001b[1m9s\u001b[0m 617us/step - acc: 0.9090 - loss: 0.2607 - val_acc: 0.9296 - val_loss: 0.2034\n",
      "Epoch 151/200\n",
      "\u001b[1m14792/14792\u001b[0m \u001b[32m━━━━━━━━━━━━━━━━━━━━\u001b[0m\u001b[37m\u001b[0m \u001b[1m9s\u001b[0m 609us/step - acc: 0.9092 - loss: 0.2612 - val_acc: 0.9298 - val_loss: 0.2034\n",
      "Epoch 152/200\n",
      "\u001b[1m14792/14792\u001b[0m \u001b[32m━━━━━━━━━━━━━━━━━━━━\u001b[0m\u001b[37m\u001b[0m \u001b[1m9s\u001b[0m 599us/step - acc: 0.9091 - loss: 0.2628 - val_acc: 0.9286 - val_loss: 0.2071\n",
      "Epoch 153/200\n",
      "\u001b[1m14792/14792\u001b[0m \u001b[32m━━━━━━━━━━━━━━━━━━━━\u001b[0m\u001b[37m\u001b[0m \u001b[1m9s\u001b[0m 621us/step - acc: 0.9093 - loss: 0.2612 - val_acc: 0.9287 - val_loss: 0.2080\n",
      "Epoch 154/200\n",
      "\u001b[1m14792/14792\u001b[0m \u001b[32m━━━━━━━━━━━━━━━━━━━━\u001b[0m\u001b[37m\u001b[0m \u001b[1m9s\u001b[0m 605us/step - acc: 0.9097 - loss: 0.2609 - val_acc: 0.9288 - val_loss: 0.2030\n",
      "Epoch 155/200\n",
      "\u001b[1m14792/14792\u001b[0m \u001b[32m━━━━━━━━━━━━━━━━━━━━\u001b[0m\u001b[37m\u001b[0m \u001b[1m9s\u001b[0m 613us/step - acc: 0.9102 - loss: 0.2591 - val_acc: 0.9299 - val_loss: 0.2053\n",
      "Epoch 156/200\n",
      "\u001b[1m14792/14792\u001b[0m \u001b[32m━━━━━━━━━━━━━━━━━━━━\u001b[0m\u001b[37m\u001b[0m \u001b[1m9s\u001b[0m 607us/step - acc: 0.9098 - loss: 0.2612 - val_acc: 0.9326 - val_loss: 0.1997\n",
      "Epoch 157/200\n",
      "\u001b[1m14792/14792\u001b[0m \u001b[32m━━━━━━━━━━━━━━━━━━━━\u001b[0m\u001b[37m\u001b[0m \u001b[1m9s\u001b[0m 606us/step - acc: 0.9096 - loss: 0.2611 - val_acc: 0.9286 - val_loss: 0.2098\n",
      "Epoch 158/200\n",
      "\u001b[1m14792/14792\u001b[0m \u001b[32m━━━━━━━━━━━━━━━━━━━━\u001b[0m\u001b[37m\u001b[0m \u001b[1m9s\u001b[0m 608us/step - acc: 0.9101 - loss: 0.2616 - val_acc: 0.9309 - val_loss: 0.1998\n",
      "Epoch 159/200\n",
      "\u001b[1m14792/14792\u001b[0m \u001b[32m━━━━━━━━━━━━━━━━━━━━\u001b[0m\u001b[37m\u001b[0m \u001b[1m9s\u001b[0m 606us/step - acc: 0.9091 - loss: 0.2624 - val_acc: 0.9302 - val_loss: 0.2004\n",
      "Epoch 160/200\n",
      "\u001b[1m14792/14792\u001b[0m \u001b[32m━━━━━━━━━━━━━━━━━━━━\u001b[0m\u001b[37m\u001b[0m \u001b[1m9s\u001b[0m 610us/step - acc: 0.9098 - loss: 0.2616 - val_acc: 0.9304 - val_loss: 0.2046\n",
      "Epoch 161/200\n",
      "\u001b[1m14792/14792\u001b[0m \u001b[32m━━━━━━━━━━━━━━━━━━━━\u001b[0m\u001b[37m\u001b[0m \u001b[1m9s\u001b[0m 610us/step - acc: 0.9097 - loss: 0.2600 - val_acc: 0.9310 - val_loss: 0.2023\n",
      "Epoch 162/200\n",
      "\u001b[1m14792/14792\u001b[0m \u001b[32m━━━━━━━━━━━━━━━━━━━━\u001b[0m\u001b[37m\u001b[0m \u001b[1m9s\u001b[0m 608us/step - acc: 0.9096 - loss: 0.2613 - val_acc: 0.9314 - val_loss: 0.2003\n",
      "Epoch 163/200\n",
      "\u001b[1m14792/14792\u001b[0m \u001b[32m━━━━━━━━━━━━━━━━━━━━\u001b[0m\u001b[37m\u001b[0m \u001b[1m9s\u001b[0m 625us/step - acc: 0.9108 - loss: 0.2576 - val_acc: 0.9312 - val_loss: 0.2016\n",
      "Epoch 164/200\n",
      "\u001b[1m14792/14792\u001b[0m \u001b[32m━━━━━━━━━━━━━━━━━━━━\u001b[0m\u001b[37m\u001b[0m \u001b[1m9s\u001b[0m 608us/step - acc: 0.9093 - loss: 0.2616 - val_acc: 0.9303 - val_loss: 0.2031\n",
      "Epoch 165/200\n",
      "\u001b[1m14792/14792\u001b[0m \u001b[32m━━━━━━━━━━━━━━━━━━━━\u001b[0m\u001b[37m\u001b[0m \u001b[1m9s\u001b[0m 612us/step - acc: 0.9093 - loss: 0.2608 - val_acc: 0.9309 - val_loss: 0.2010\n",
      "Epoch 166/200\n",
      "\u001b[1m14792/14792\u001b[0m \u001b[32m━━━━━━━━━━━━━━━━━━━━\u001b[0m\u001b[37m\u001b[0m \u001b[1m9s\u001b[0m 620us/step - acc: 0.9097 - loss: 0.2614 - val_acc: 0.9303 - val_loss: 0.2020\n",
      "Epoch 167/200\n",
      "\u001b[1m14792/14792\u001b[0m \u001b[32m━━━━━━━━━━━━━━━━━━━━\u001b[0m\u001b[37m\u001b[0m \u001b[1m9s\u001b[0m 609us/step - acc: 0.9094 - loss: 0.2613 - val_acc: 0.9316 - val_loss: 0.2011\n",
      "Epoch 168/200\n",
      "\u001b[1m14792/14792\u001b[0m \u001b[32m━━━━━━━━━━━━━━━━━━━━\u001b[0m\u001b[37m\u001b[0m \u001b[1m9s\u001b[0m 613us/step - acc: 0.9095 - loss: 0.2609 - val_acc: 0.9323 - val_loss: 0.1991\n",
      "Epoch 169/200\n",
      "\u001b[1m14792/14792\u001b[0m \u001b[32m━━━━━━━━━━━━━━━━━━━━\u001b[0m\u001b[37m\u001b[0m \u001b[1m9s\u001b[0m 612us/step - acc: 0.9102 - loss: 0.2596 - val_acc: 0.9308 - val_loss: 0.1984\n",
      "Epoch 170/200\n",
      "\u001b[1m14792/14792\u001b[0m \u001b[32m━━━━━━━━━━━━━━━━━━━━\u001b[0m\u001b[37m\u001b[0m \u001b[1m9s\u001b[0m 611us/step - acc: 0.9104 - loss: 0.2599 - val_acc: 0.9310 - val_loss: 0.2010\n",
      "Epoch 171/200\n",
      "\u001b[1m14792/14792\u001b[0m \u001b[32m━━━━━━━━━━━━━━━━━━━━\u001b[0m\u001b[37m\u001b[0m \u001b[1m9s\u001b[0m 607us/step - acc: 0.9091 - loss: 0.2625 - val_acc: 0.9317 - val_loss: 0.2011\n",
      "Epoch 172/200\n",
      "\u001b[1m14792/14792\u001b[0m \u001b[32m━━━━━━━━━━━━━━━━━━━━\u001b[0m\u001b[37m\u001b[0m \u001b[1m9s\u001b[0m 621us/step - acc: 0.9106 - loss: 0.2596 - val_acc: 0.9316 - val_loss: 0.1985\n",
      "Epoch 173/200\n",
      "\u001b[1m14792/14792\u001b[0m \u001b[32m━━━━━━━━━━━━━━━━━━━━\u001b[0m\u001b[37m\u001b[0m \u001b[1m9s\u001b[0m 608us/step - acc: 0.9098 - loss: 0.2581 - val_acc: 0.9315 - val_loss: 0.1999\n",
      "Epoch 174/200\n",
      "\u001b[1m14792/14792\u001b[0m \u001b[32m━━━━━━━━━━━━━━━━━━━━\u001b[0m\u001b[37m\u001b[0m \u001b[1m9s\u001b[0m 610us/step - acc: 0.9099 - loss: 0.2589 - val_acc: 0.9310 - val_loss: 0.1996\n",
      "Epoch 175/200\n",
      "\u001b[1m14792/14792\u001b[0m \u001b[32m━━━━━━━━━━━━━━━━━━━━\u001b[0m\u001b[37m\u001b[0m \u001b[1m9s\u001b[0m 613us/step - acc: 0.9097 - loss: 0.2624 - val_acc: 0.9320 - val_loss: 0.1990\n",
      "Epoch 176/200\n",
      "\u001b[1m14792/14792\u001b[0m \u001b[32m━━━━━━━━━━━━━━━━━━━━\u001b[0m\u001b[37m\u001b[0m \u001b[1m9s\u001b[0m 611us/step - acc: 0.9104 - loss: 0.2588 - val_acc: 0.9309 - val_loss: 0.2018\n",
      "Epoch 177/200\n",
      "\u001b[1m14792/14792\u001b[0m \u001b[32m━━━━━━━━━━━━━━━━━━━━\u001b[0m\u001b[37m\u001b[0m \u001b[1m9s\u001b[0m 617us/step - acc: 0.9098 - loss: 0.2609 - val_acc: 0.9311 - val_loss: 0.2002\n",
      "Epoch 178/200\n",
      "\u001b[1m14792/14792\u001b[0m \u001b[32m━━━━━━━━━━━━━━━━━━━━\u001b[0m\u001b[37m\u001b[0m \u001b[1m10s\u001b[0m 645us/step - acc: 0.9101 - loss: 0.2614 - val_acc: 0.9307 - val_loss: 0.2007\n",
      "Epoch 179/200\n",
      "\u001b[1m14792/14792\u001b[0m \u001b[32m━━━━━━━━━━━━━━━━━━━━\u001b[0m\u001b[37m\u001b[0m \u001b[1m9s\u001b[0m 621us/step - acc: 0.9098 - loss: 0.2606 - val_acc: 0.9325 - val_loss: 0.1992\n",
      "Epoch 180/200\n",
      "\u001b[1m14792/14792\u001b[0m \u001b[32m━━━━━━━━━━━━━━━━━━━━\u001b[0m\u001b[37m\u001b[0m \u001b[1m10s\u001b[0m 688us/step - acc: 0.9097 - loss: 0.2599 - val_acc: 0.9321 - val_loss: 0.1992\n",
      "Epoch 181/200\n",
      "\u001b[1m14792/14792\u001b[0m \u001b[32m━━━━━━━━━━━━━━━━━━━━\u001b[0m\u001b[37m\u001b[0m \u001b[1m10s\u001b[0m 651us/step - acc: 0.9101 - loss: 0.2598 - val_acc: 0.9313 - val_loss: 0.2029\n",
      "Epoch 182/200\n",
      "\u001b[1m14792/14792\u001b[0m \u001b[32m━━━━━━━━━━━━━━━━━━━━\u001b[0m\u001b[37m\u001b[0m \u001b[1m9s\u001b[0m 606us/step - acc: 0.9089 - loss: 0.2611 - val_acc: 0.9286 - val_loss: 0.2053\n",
      "Epoch 183/200\n",
      "\u001b[1m14792/14792\u001b[0m \u001b[32m━━━━━━━━━━━━━━━━━━━━\u001b[0m\u001b[37m\u001b[0m \u001b[1m9s\u001b[0m 614us/step - acc: 0.9095 - loss: 0.2604 - val_acc: 0.9302 - val_loss: 0.2015\n",
      "Epoch 184/200\n",
      "\u001b[1m14792/14792\u001b[0m \u001b[32m━━━━━━━━━━━━━━━━━━━━\u001b[0m\u001b[37m\u001b[0m \u001b[1m9s\u001b[0m 614us/step - acc: 0.9101 - loss: 0.2593 - val_acc: 0.9305 - val_loss: 0.2022\n",
      "Epoch 185/200\n",
      "\u001b[1m14792/14792\u001b[0m \u001b[32m━━━━━━━━━━━━━━━━━━━━\u001b[0m\u001b[37m\u001b[0m \u001b[1m9s\u001b[0m 634us/step - acc: 0.9087 - loss: 0.2615 - val_acc: 0.9302 - val_loss: 0.2020\n",
      "Epoch 186/200\n",
      "\u001b[1m14792/14792\u001b[0m \u001b[32m━━━━━━━━━━━━━━━━━━━━\u001b[0m\u001b[37m\u001b[0m \u001b[1m10s\u001b[0m 649us/step - acc: 0.9104 - loss: 0.2596 - val_acc: 0.9307 - val_loss: 0.2009\n",
      "Epoch 187/200\n",
      "\u001b[1m14792/14792\u001b[0m \u001b[32m━━━━━━━━━━━━━━━━━━━━\u001b[0m\u001b[37m\u001b[0m \u001b[1m9s\u001b[0m 621us/step - acc: 0.9104 - loss: 0.2600 - val_acc: 0.9320 - val_loss: 0.2006\n",
      "Epoch 188/200\n",
      "\u001b[1m14792/14792\u001b[0m \u001b[32m━━━━━━━━━━━━━━━━━━━━\u001b[0m\u001b[37m\u001b[0m \u001b[1m10s\u001b[0m 667us/step - acc: 0.9113 - loss: 0.2585 - val_acc: 0.9315 - val_loss: 0.2005\n",
      "Epoch 189/200\n",
      "\u001b[1m14792/14792\u001b[0m \u001b[32m━━━━━━━━━━━━━━━━━━━━\u001b[0m\u001b[37m\u001b[0m \u001b[1m10s\u001b[0m 680us/step - acc: 0.9093 - loss: 0.2606 - val_acc: 0.9303 - val_loss: 0.2022\n",
      "Epoch 190/200\n",
      "\u001b[1m14792/14792\u001b[0m \u001b[32m━━━━━━━━━━━━━━━━━━━━\u001b[0m\u001b[37m\u001b[0m \u001b[1m9s\u001b[0m 628us/step - acc: 0.9103 - loss: 0.2597 - val_acc: 0.9323 - val_loss: 0.1987\n",
      "Epoch 191/200\n",
      "\u001b[1m14792/14792\u001b[0m \u001b[32m━━━━━━━━━━━━━━━━━━━━\u001b[0m\u001b[37m\u001b[0m \u001b[1m9s\u001b[0m 608us/step - acc: 0.9107 - loss: 0.2602 - val_acc: 0.9306 - val_loss: 0.2024\n",
      "Epoch 192/200\n",
      "\u001b[1m14792/14792\u001b[0m \u001b[32m━━━━━━━━━━━━━━━━━━━━\u001b[0m\u001b[37m\u001b[0m \u001b[1m9s\u001b[0m 615us/step - acc: 0.9099 - loss: 0.2607 - val_acc: 0.9309 - val_loss: 0.2014\n",
      "Epoch 193/200\n",
      "\u001b[1m14792/14792\u001b[0m \u001b[32m━━━━━━━━━━━━━━━━━━━━\u001b[0m\u001b[37m\u001b[0m \u001b[1m9s\u001b[0m 613us/step - acc: 0.9102 - loss: 0.2592 - val_acc: 0.9303 - val_loss: 0.1994\n",
      "Epoch 194/200\n",
      "\u001b[1m14792/14792\u001b[0m \u001b[32m━━━━━━━━━━━━━━━━━━━━\u001b[0m\u001b[37m\u001b[0m \u001b[1m9s\u001b[0m 635us/step - acc: 0.9095 - loss: 0.2608 - val_acc: 0.9303 - val_loss: 0.2039\n",
      "Epoch 195/200\n",
      "\u001b[1m14792/14792\u001b[0m \u001b[32m━━━━━━━━━━━━━━━━━━━━\u001b[0m\u001b[37m\u001b[0m \u001b[1m9s\u001b[0m 635us/step - acc: 0.9105 - loss: 0.2595 - val_acc: 0.9311 - val_loss: 0.1995\n",
      "Epoch 196/200\n",
      "\u001b[1m14792/14792\u001b[0m \u001b[32m━━━━━━━━━━━━━━━━━━━━\u001b[0m\u001b[37m\u001b[0m \u001b[1m9s\u001b[0m 619us/step - acc: 0.9096 - loss: 0.2627 - val_acc: 0.9326 - val_loss: 0.1990\n",
      "Epoch 197/200\n",
      "\u001b[1m14792/14792\u001b[0m \u001b[32m━━━━━━━━━━━━━━━━━━━━\u001b[0m\u001b[37m\u001b[0m \u001b[1m10s\u001b[0m 651us/step - acc: 0.9097 - loss: 0.2605 - val_acc: 0.9312 - val_loss: 0.1997\n",
      "Epoch 198/200\n",
      "\u001b[1m14792/14792\u001b[0m \u001b[32m━━━━━━━━━━━━━━━━━━━━\u001b[0m\u001b[37m\u001b[0m \u001b[1m10s\u001b[0m 656us/step - acc: 0.9100 - loss: 0.2618 - val_acc: 0.9316 - val_loss: 0.1986\n",
      "Epoch 199/200\n",
      "\u001b[1m14792/14792\u001b[0m \u001b[32m━━━━━━━━━━━━━━━━━━━━\u001b[0m\u001b[37m\u001b[0m \u001b[1m9s\u001b[0m 627us/step - acc: 0.9098 - loss: 0.2599 - val_acc: 0.9295 - val_loss: 0.2058\n",
      "Epoch 200/200\n",
      "\u001b[1m14792/14792\u001b[0m \u001b[32m━━━━━━━━━━━━━━━━━━━━\u001b[0m\u001b[37m\u001b[0m \u001b[1m9s\u001b[0m 637us/step - acc: 0.9091 - loss: 0.2625 - val_acc: 0.9328 - val_loss: 0.1957\n"
     ]
    }
   ],
   "source": [
    "### Train the model\n",
    "history = model.fit(X_train,\n",
    "                    y_train,\n",
    "                    batch_size=32,\n",
    "                    epochs=200,\n",
    "                    verbose=1,\n",
    "                    validation_data=(X_val, y_val)\n",
    "                   )"
   ]
  },
  {
   "cell_type": "markdown",
   "id": "fe785364-a10d-438c-8d65-0e833745e292",
   "metadata": {},
   "source": [
    "Evaluate model"
   ]
  },
  {
   "cell_type": "code",
   "execution_count": 14,
   "id": "326cc23e-300e-4fe7-80ec-a50263541c4f",
   "metadata": {},
   "outputs": [
    {
     "data": {
      "image/png": "[encoded data removed]",
      "text/plain": [
       "<Figure size 640x480 with 1 Axes>"
      ]
     },
     "metadata": {},
     "output_type": "display_data"
    },
    {
     "data": {
      "image/png": "[encoded data removed]",
      "text/plain": [
       "<Figure size 640x480 with 1 Axes>"
      ]
     },
     "metadata": {},
     "output_type": "display_data"
    }
   ],
   "source": [
    "### Plot training and validation accuracy and loss over time\n",
    "\n",
    "# Extract accuracy and loss values (in list form) from the history\n",
    "acc = history.history['acc']\n",
    "val_acc = history.history['val_acc']\n",
    "loss = history.history['loss']\n",
    "val_loss = history.history['val_loss']\n",
    "\n",
    "# Create a list of epoch numbers\n",
    "epochs = range(1, len(acc) + 1)\n",
    "\n",
    "# Plot training and validation loss values over time\n",
    "plt.figure()\n",
    "plt.plot(epochs, loss, color='blue', marker='.', label='Training loss')\n",
    "plt.plot(epochs, val_loss, color='orange', marker='.', label='Validation loss')\n",
    "plt.title('Training and validation loss')\n",
    "plt.legend()\n",
    "\n",
    "# Plot training and validation accuracies over time\n",
    "plt.figure()\n",
    "plt.plot(epochs, acc, color='blue', marker='.', label='Training acc')\n",
    "plt.plot(epochs, val_acc, color='orange', marker='.', label='Validation acc')\n",
    "plt.title('Training and validation accuracy')\n",
    "plt.legend()\n",
    "plt.show()"
   ]
  },
  {
   "cell_type": "code",
   "execution_count": 15,
   "id": "9a4c5361-5ec8-4257-a6d3-70eb1107ab7f",
   "metadata": {},
   "outputs": [
    {
     "name": "stdout",
     "output_type": "stream",
     "text": [
      "\u001b[1m3698/3698\u001b[0m \u001b[32m━━━━━━━━━━━━━━━━━━━━\u001b[0m\u001b[37m\u001b[0m \u001b[1m1s\u001b[0m 315us/step\n",
      "Validation output shape: (118330, 11)\n",
      "Actual validation labels:\t [ 2  0  9  4  2  9  5  3  9  4  1  2 10  2  7  3  9  7 10  1 10  7  9  6\n",
      "  8  7  3 10 10  1  0  3 10  3  8  9  4  6 10 10  3  5  8  7  5  8  4  5\n",
      "  1 10]\n",
      "Predicted validation labels:\t [ 4  0  9  4  2  6  5  8  9  4  1  2 10  2  7  3  9  7 10  5 10  7  9  6\n",
      "  8  7  3 10 10  1  0  3 10  3  8  9  4  6 10 10  3  5  8  7  3  8  4  5\n",
      "  1 10]\n",
      "\n",
      " ---> Predicted labels\n",
      "|\n",
      "v Actual labels\n",
      "\t\t\t(0)    (1)    (2)    (3)    (4)    (5)    (6)    (7)    (8)    (9)    (10)  \n",
      "           0 (0):  [ 10753      0     19      3      0      7      0      0      0      7      0]\n",
      "           1 (1):  [     0   8566     17      2     52   1480      0      0      0     28      4]\n",
      "           2 (2):  [     0    173  10184     15     27    373     14      0      1    359     15]\n",
      "           3 (3):  [     0    106     58  10688     47    263      0      0      0     89      3]\n",
      "           4 (4):  [     0    285     17      3  10576    345      0      0      0     34     15]\n",
      "           5 (5):  [     0   1003     44      3     31   7034      1      0      2    131      4]\n",
      "           6 (6):  [     0     25     18      0      3     75  10727      0      0    105      0]\n",
      "           7 (7):  [     0     19      0      0      0     19      0  10700      0      2      0]\n",
      "           8 (8):  [     0     32     53     20      0    226     83      0  10759     81     63]\n",
      "           9 (9):  [     0    447    378     25     28    703      5      0      4   9696      0]\n",
      "          10 (10):  [     0    128     17      0      3    226      6      0     19     57  10697]\n"
     ]
    }
   ],
   "source": [
    "### Create confusion matrix from validation set\n",
    "\n",
    "# Find predictions from all validation samples\n",
    "y_pred = model.predict(X_val)\n",
    "print(\"Validation output shape:\", y_pred.shape)\n",
    "\n",
    "# Convert actual and predicted validation one-hot encoding to numerical labels\n",
    "y_val_trans = np.argmax(y_val, axis=1)\n",
    "y_pred_trans = np.argmax(y_pred, axis=1)\n",
    "\n",
    "# Print some values from actual and predicted validation sets (first 50 samples)\n",
    "print(\"Actual validation labels:\\t\", y_val_trans[:50])\n",
    "print(\"Predicted validation labels:\\t\", y_pred_trans[:50])\n",
    "\n",
    "# Compute confusion matrix (note: we need to transpose SKLearn matrix to make it match Edge Impulse)\n",
    "cm = confusion_matrix(y_val_trans, y_pred_trans)\n",
    "cm = np.transpose(cm)\n",
    "\n",
    "labels = range(len(gdf['uso_suelo'].unique()))\n",
    "\n",
    "# Print confusion matrix\n",
    "print()\n",
    "print(\" ---> Predicted labels\")\n",
    "print(\"|\")\n",
    "print(\"v Actual labels\")\n",
    "print(\"\\t\\t\\t\" + ' '.join(\"{!s:6}\".format('(' + str(i) + ')') for i in range(num_classes)))\n",
    "for row in range(num_classes):\n",
    "  print(\"{:>12} ({}):  [{}]\".format(labels[row], row, ' '.join(\"{:6}\".format(i) for i in cm[row])))\n",
    "    "
   ]
  },
  {
   "cell_type": "markdown",
   "id": "4d296dd7-70f5-40af-8ae0-4f634a3209f1",
   "metadata": {},
   "source": [
    "## Apply model to the full dataset"
   ]
  },
  {
   "cell_type": "markdown",
   "id": "8be37c16-612e-40bd-a52c-5c29f82d7a49",
   "metadata": {},
   "source": [
    "Predict landuse for every element"
   ]
  },
  {
   "cell_type": "code",
   "execution_count": 16,
   "id": "c0a037f4-092d-48ad-978e-153eab95c3f0",
   "metadata": {},
   "outputs": [
    {
     "name": "stdout",
     "output_type": "stream",
     "text": [
      "\u001b[1m2752/2752\u001b[0m \u001b[32m━━━━━━━━━━━━━━━━━━━━\u001b[0m\u001b[37m\u001b[0m \u001b[1m1s\u001b[0m 433us/step\n"
     ]
    }
   ],
   "source": [
    "y_hat = model.predict(X_scaled)"
   ]
  },
  {
   "cell_type": "markdown",
   "id": "b69dc84b-22a3-4948-a79c-b4007dcab56b",
   "metadata": {},
   "source": [
    "Create prediction variables"
   ]
  },
  {
   "cell_type": "code",
   "execution_count": null,
   "id": "6b5f3d58-8f71-451f-a172-fd55b84ac5a8",
   "metadata": {},
   "outputs": [],
   "source": [
    "category_list = ['alojamiento_temporal','baldio','comercio',\n",
    "                'equipamiento','espacio_verde','habitacional',\n",
    "                'industria','infraestructura','mixto','servicio',\n",
    "                'sin_dato']\n",
    "\n",
    "prefix = 'pct_smote_'\n",
    "\n",
    "category_list = [prefix+cl for cl in category_list]\n",
    "category_list"
   ]
  },
  {
   "cell_type": "code",
   "execution_count": 23,
   "id": "c05c7649-5f94-4e02-83dd-ae0a3009c8a7",
   "metadata": {},
   "outputs": [
    {
     "name": "stdout",
     "output_type": "stream",
     "text": [
      "(88061, 65)\n"
     ]
    },
    {
     "data": {
      "text/html": [
       "<div>\n",
       "<style scoped>\n",
       "    .dataframe tbody tr th:only-of-type {\n",
       "        vertical-align: middle;\n",
       "    }\n",
       "\n",
       "    .dataframe tbody tr th {\n",
       "        vertical-align: top;\n",
       "    }\n",
       "\n",
       "    .dataframe thead th {\n",
       "        text-align: right;\n",
       "    }\n",
       "</style>\n",
       "<table border=\"1\" class=\"dataframe\">\n",
       "  <thead>\n",
       "    <tr style=\"text-align: right;\">\n",
       "      <th></th>\n",
       "      <th>fid</th>\n",
       "      <th>uso_suelo</th>\n",
       "      <th>area_m2</th>\n",
       "      <th>full_plus_code</th>\n",
       "      <th>CVEGEO</th>\n",
       "      <th>bld_area_m2</th>\n",
       "      <th>block_area_m2</th>\n",
       "      <th>pred_area_m2</th>\n",
       "      <th>pred_area_pct</th>\n",
       "      <th>bld_pred_area_pct</th>\n",
       "      <th>...</th>\n",
       "      <th>clues_primer_nivel_15min</th>\n",
       "      <th>geometry</th>\n",
       "      <th>pct_alojamiento_temporal</th>\n",
       "      <th>pct_baldio</th>\n",
       "      <th>pct_equipamiento</th>\n",
       "      <th>pct_espacio_verde</th>\n",
       "      <th>pct_infraestructura</th>\n",
       "      <th>pct_mixto</th>\n",
       "      <th>pct_servicio</th>\n",
       "      <th>pct_sin_dato</th>\n",
       "    </tr>\n",
       "  </thead>\n",
       "  <tbody>\n",
       "    <tr>\n",
       "      <th>0</th>\n",
       "      <td>0</td>\n",
       "      <td>Sin dato</td>\n",
       "      <td>67.279056</td>\n",
       "      <td>75GRMGQW+89PG</td>\n",
       "      <td>1412000011206018</td>\n",
       "      <td>12.438638</td>\n",
       "      <td>278416.454431</td>\n",
       "      <td>67.279056</td>\n",
       "      <td>0.000242</td>\n",
       "      <td>0.184881</td>\n",
       "      <td>...</td>\n",
       "      <td>0.357128</td>\n",
       "      <td>MULTIPOLYGON (((2349152.724 965335.704, 234914...</td>\n",
       "      <td>1.748608e-14</td>\n",
       "      <td>0.000011</td>\n",
       "      <td>0.000002</td>\n",
       "      <td>4.379457e-07</td>\n",
       "      <td>5.847440e-29</td>\n",
       "      <td>3.772351e-15</td>\n",
       "      <td>0.000017</td>\n",
       "      <td>0.999947</td>\n",
       "    </tr>\n",
       "    <tr>\n",
       "      <th>1</th>\n",
       "      <td>1</td>\n",
       "      <td>Sin dato</td>\n",
       "      <td>45.355545</td>\n",
       "      <td>75GRMGQW+8CFP</td>\n",
       "      <td>1412000011206018</td>\n",
       "      <td>4.482118</td>\n",
       "      <td>278416.454431</td>\n",
       "      <td>45.355545</td>\n",
       "      <td>0.000163</td>\n",
       "      <td>0.098822</td>\n",
       "      <td>...</td>\n",
       "      <td>0.467758</td>\n",
       "      <td>MULTIPOLYGON (((2349168.91 965335.176, 2349157...</td>\n",
       "      <td>3.732478e-13</td>\n",
       "      <td>0.000031</td>\n",
       "      <td>0.000025</td>\n",
       "      <td>2.459279e-06</td>\n",
       "      <td>1.588271e-26</td>\n",
       "      <td>1.713393e-13</td>\n",
       "      <td>0.000062</td>\n",
       "      <td>0.999730</td>\n",
       "    </tr>\n",
       "    <tr>\n",
       "      <th>2</th>\n",
       "      <td>2</td>\n",
       "      <td>Sin dato</td>\n",
       "      <td>18.488100</td>\n",
       "      <td>75GRMGQW+8CHQ</td>\n",
       "      <td>1412000011206018</td>\n",
       "      <td>4.482118</td>\n",
       "      <td>278416.454431</td>\n",
       "      <td>18.488100</td>\n",
       "      <td>0.000066</td>\n",
       "      <td>0.242433</td>\n",
       "      <td>...</td>\n",
       "      <td>0.498686</td>\n",
       "      <td>MULTIPOLYGON (((2349172.107 965335.071, 234916...</td>\n",
       "      <td>1.434685e-12</td>\n",
       "      <td>0.000034</td>\n",
       "      <td>0.000064</td>\n",
       "      <td>5.869093e-06</td>\n",
       "      <td>1.738778e-25</td>\n",
       "      <td>8.745152e-13</td>\n",
       "      <td>0.000081</td>\n",
       "      <td>0.999511</td>\n",
       "    </tr>\n",
       "    <tr>\n",
       "      <th>3</th>\n",
       "      <td>3</td>\n",
       "      <td>Sin dato</td>\n",
       "      <td>4.936089</td>\n",
       "      <td>75GRMGQW+8GCG</td>\n",
       "      <td>1412000011206018</td>\n",
       "      <td>42.992618</td>\n",
       "      <td>278416.454431</td>\n",
       "      <td>4.936089</td>\n",
       "      <td>0.000018</td>\n",
       "      <td>8.709855</td>\n",
       "      <td>...</td>\n",
       "      <td>0.518053</td>\n",
       "      <td>MULTIPOLYGON (((2349178.053 965334.877, 234917...</td>\n",
       "      <td>5.630012e-12</td>\n",
       "      <td>0.000045</td>\n",
       "      <td>0.000106</td>\n",
       "      <td>8.477879e-06</td>\n",
       "      <td>6.370064e-25</td>\n",
       "      <td>2.152743e-12</td>\n",
       "      <td>0.000107</td>\n",
       "      <td>0.999217</td>\n",
       "    </tr>\n",
       "  </tbody>\n",
       "</table>\n",
       "<p>4 rows × 65 columns</p>\n",
       "</div>"
      ],
      "text/plain": [
       "   fid uso_suelo    area_m2 full_plus_code            CVEGEO  bld_area_m2  \\\n",
       "0    0  Sin dato  67.279056  75GRMGQW+89PG  1412000011206018    12.438638   \n",
       "1    1  Sin dato  45.355545  75GRMGQW+8CFP  1412000011206018     4.482118   \n",
       "2    2  Sin dato  18.488100  75GRMGQW+8CHQ  1412000011206018     4.482118   \n",
       "3    3  Sin dato   4.936089  75GRMGQW+8GCG  1412000011206018    42.992618   \n",
       "\n",
       "   block_area_m2  pred_area_m2  pred_area_pct  bld_pred_area_pct  ...  \\\n",
       "0  278416.454431     67.279056       0.000242           0.184881  ...   \n",
       "1  278416.454431     45.355545       0.000163           0.098822  ...   \n",
       "2  278416.454431     18.488100       0.000066           0.242433  ...   \n",
       "3  278416.454431      4.936089       0.000018           8.709855  ...   \n",
       "\n",
       "   clues_primer_nivel_15min  \\\n",
       "0                  0.357128   \n",
       "1                  0.467758   \n",
       "2                  0.498686   \n",
       "3                  0.518053   \n",
       "\n",
       "                                            geometry  \\\n",
       "0  MULTIPOLYGON (((2349152.724 965335.704, 234914...   \n",
       "1  MULTIPOLYGON (((2349168.91 965335.176, 2349157...   \n",
       "2  MULTIPOLYGON (((2349172.107 965335.071, 234916...   \n",
       "3  MULTIPOLYGON (((2349178.053 965334.877, 234917...   \n",
       "\n",
       "   pct_alojamiento_temporal  pct_baldio  pct_equipamiento  pct_espacio_verde  \\\n",
       "0              1.748608e-14    0.000011          0.000002       4.379457e-07   \n",
       "1              3.732478e-13    0.000031          0.000025       2.459279e-06   \n",
       "2              1.434685e-12    0.000034          0.000064       5.869093e-06   \n",
       "3              5.630012e-12    0.000045          0.000106       8.477879e-06   \n",
       "\n",
       "   pct_infraestructura     pct_mixto  pct_servicio  pct_sin_dato  \n",
       "0         5.847440e-29  3.772351e-15      0.000017      0.999947  \n",
       "1         1.588271e-26  1.713393e-13      0.000062      0.999730  \n",
       "2         1.738778e-25  8.745152e-13      0.000081      0.999511  \n",
       "3         6.370064e-25  2.152743e-12      0.000107      0.999217  \n",
       "\n",
       "[4 rows x 65 columns]"
      ]
     },
     "execution_count": 23,
     "metadata": {},
     "output_type": "execute_result"
    }
   ],
   "source": [
    "gdf[category_list] = y_hat\n",
    "print(gdf.shape)\n",
    "gdf.head(4)"
   ]
  },
  {
   "cell_type": "markdown",
   "id": "0b261529-9bc7-4797-96c3-11250d8a057f",
   "metadata": {},
   "source": [
    "Assign data to polygons"
   ]
  },
  {
   "cell_type": "code",
   "execution_count": 17,
   "id": "531318ae-91e3-4725-a6aa-695604f5cc84",
   "metadata": {},
   "outputs": [],
   "source": [
    "gdf['pred'] = y_hat.argmax(axis=1)"
   ]
  },
  {
   "cell_type": "markdown",
   "id": "d5231504-e17c-4156-a19c-091e8269682c",
   "metadata": {},
   "source": [
    "### Save output"
   ]
  },
  {
   "cell_type": "markdown",
   "id": "582eab49-bc8c-4d1b-bfb9-9ecb3c6bd58f",
   "metadata": {},
   "source": [
    "### Save data for postprocessing"
   ]
  },
  {
   "cell_type": "code",
   "execution_count": 38,
   "id": "60141096-5433-421e-8f2f-4ad293ac4d6b",
   "metadata": {},
   "outputs": [],
   "source": [
    "# gdf.to_file('../../data/processed/prediccion_uso_suelo/test/tess_pred.gpkg')"
   ]
  },
  {
   "cell_type": "markdown",
   "id": "cf96e0c5-1829-4a4a-a332-8932c0812d5d",
   "metadata": {},
   "source": [
    "### Save data for output analysis"
   ]
  },
  {
   "cell_type": "code",
   "execution_count": 18,
   "id": "1cb336fd-8ac2-47ad-bc50-3778f3b88e07",
   "metadata": {},
   "outputs": [],
   "source": [
    "gdf[['fid','uso_suelo','pred','geometry']].to_file('../../data/processed/prediccion_uso_suelo/test/tess_pred_smote.gpkg')"
   ]
  },
  {
   "cell_type": "code",
   "execution_count": null,
   "id": "0111d82b-a023-4d83-b71e-d19b456c6b4d",
   "metadata": {},
   "outputs": [],
   "source": []
  }
 ],
 "metadata": {
  "kernelspec": {
   "display_name": "Python 3 (ipykernel)",
   "language": "python",
   "name": "python3"
  },
  "language_info": {
   "codemirror_mode": {
    "name": "ipython",
    "version": 3
   },
   "file_extension": ".py",
   "mimetype": "text/x-python",
   "name": "python",
   "nbconvert_exporter": "python",
   "pygments_lexer": "ipython3",
   "version": "3.11.11"
  }
 },
 "nbformat": 4,
 "nbformat_minor": 5
}
