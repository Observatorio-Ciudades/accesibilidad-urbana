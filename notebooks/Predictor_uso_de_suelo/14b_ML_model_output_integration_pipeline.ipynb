{
 "cells": [
  {
   "cell_type": "markdown",
   "id": "72c6c7a5-86d6-4770-807b-b3686944267c",
   "metadata": {},
   "source": [
    "# Landuse machine learning model -test-"
   ]
  },
  {
   "cell_type": "markdown",
   "id": "b6b25ea6-6203-41bf-ad5a-02b83d15cf19",
   "metadata": {},
   "source": [
    "This notebook integrates the first steps towards the development of a machine learning model for urban landuse prediction."
   ]
  },
  {
   "cell_type": "markdown",
   "id": "89a9447c-5c11-4cb4-9dac-f54cab2d7fe9",
   "metadata": {},
   "source": [
    "## Import libraries"
   ]
  },
  {
   "cell_type": "code",
   "execution_count": 1,
   "id": "4bfed30a-cc4c-467d-8775-eab5f4395250",
   "metadata": {
    "scrolled": true
   },
   "outputs": [
    {
     "name": "stderr",
     "output_type": "stream",
     "text": [
      "2025-07-29 19:20:22.029200: I tensorflow/core/util/port.cc:153] oneDNN custom operations are on. You may see slightly different numerical results due to floating-point round-off errors from different computation orders. To turn them off, set the environment variable `TF_ENABLE_ONEDNN_OPTS=0`.\n",
      "2025-07-29 19:20:22.035911: E external/local_xla/xla/stream_executor/cuda/cuda_fft.cc:467] Unable to register cuFFT factory: Attempting to register factory for plugin cuFFT when one has already been registered\n",
      "WARNING: All log messages before absl::InitializeLog() is called are written to STDERR\n",
      "E0000 00:00:1753838422.043214   75068 cuda_dnn.cc:8579] Unable to register cuDNN factory: Attempting to register factory for plugin cuDNN when one has already been registered\n",
      "E0000 00:00:1753838422.045333   75068 cuda_blas.cc:1407] Unable to register cuBLAS factory: Attempting to register factory for plugin cuBLAS when one has already been registered\n",
      "W0000 00:00:1753838422.051292   75068 computation_placer.cc:177] computation placer already registered. Please check linkage and avoid linking the same target more than once.\n",
      "W0000 00:00:1753838422.051303   75068 computation_placer.cc:177] computation placer already registered. Please check linkage and avoid linking the same target more than once.\n",
      "W0000 00:00:1753838422.051305   75068 computation_placer.cc:177] computation placer already registered. Please check linkage and avoid linking the same target more than once.\n",
      "W0000 00:00:1753838422.051305   75068 computation_placer.cc:177] computation placer already registered. Please check linkage and avoid linking the same target more than once.\n",
      "2025-07-29 19:20:22.053766: I tensorflow/core/platform/cpu_feature_guard.cc:210] This TensorFlow binary is optimized to use available CPU instructions in performance-critical operations.\n",
      "To enable the following instructions: AVX2 AVX512F AVX512_VNNI AVX512_BF16 AVX_VNNI FMA, in other operations, rebuild TensorFlow with the appropriate compiler flags.\n"
     ]
    }
   ],
   "source": [
    "import geopandas as gpd\n",
    "import pandas as pd\n",
    "import numpy as np\n",
    "\n",
    "import matplotlib.pyplot as plt\n",
    "import seaborn as sns\n",
    "import scipy\n",
    "\n",
    "import aup\n",
    "\n",
    "from sklearn.model_selection import train_test_split\n",
    "from sklearn.preprocessing import StandardScaler\n",
    "from imblearn.over_sampling import SMOTE\n",
    "from sklearn.decomposition import PCA\n",
    "\n",
    "\n",
    "\n",
    "from keras import utils                                   # tools for creating one-hot encoding\n",
    "from keras.models import Sequential                       # Type of model we wish to use\n",
    "from keras.layers import Dense, Dropout, Activation  \n",
    "from sklearn.preprocessing import LabelEncoder\n",
    "# from scikeras.wrappers import KerasClassifier, KerasRegressor\n",
    "from keras import utils  \n",
    "from sklearn.model_selection import cross_val_score\n",
    "from sklearn.model_selection import KFold\n",
    "from sklearn.preprocessing import LabelEncoder\n",
    "# from sklearn.pipeline import Pipeline\n",
    "\n",
    "from sklearn.metrics import r2_score, mean_squared_error, mean_absolute_error,confusion_matrix"
   ]
  },
  {
   "cell_type": "markdown",
   "id": "e7a8c8ea-516f-4b4f-8df5-f17a8f17e6ec",
   "metadata": {},
   "source": [
    "## Data for model training"
   ]
  },
  {
   "cell_type": "code",
   "execution_count": 2,
   "id": "bbef554c-59c0-4fba-b604-82ad1d0274c9",
   "metadata": {},
   "outputs": [
    {
     "name": "stdout",
     "output_type": "stream",
     "text": [
      "(680000, 83)\n"
     ]
    },
    {
     "data": {
      "text/html": [
       "<div>\n",
       "<style scoped>\n",
       "    .dataframe tbody tr th:only-of-type {\n",
       "        vertical-align: middle;\n",
       "    }\n",
       "\n",
       "    .dataframe tbody tr th {\n",
       "        vertical-align: top;\n",
       "    }\n",
       "\n",
       "    .dataframe thead th {\n",
       "        text-align: right;\n",
       "    }\n",
       "</style>\n",
       "<table border=\"1\" class=\"dataframe\">\n",
       "  <thead>\n",
       "    <tr style=\"text-align: right;\">\n",
       "      <th></th>\n",
       "      <th>uso_suelo</th>\n",
       "      <th>area_m2</th>\n",
       "      <th>full_plus_code</th>\n",
       "      <th>CVEGEO</th>\n",
       "      <th>bld_area_m2</th>\n",
       "      <th>block_area_m2</th>\n",
       "      <th>pred_area_m2</th>\n",
       "      <th>pred_area_pct</th>\n",
       "      <th>bld_pred_area_pct</th>\n",
       "      <th>pobtot</th>\n",
       "      <th>...</th>\n",
       "      <th>pct_smote_equipamiento</th>\n",
       "      <th>pct_smote_espacio_verde</th>\n",
       "      <th>pct_smote_habitacional</th>\n",
       "      <th>pct_smote_industria</th>\n",
       "      <th>pct_smote_infraestructura</th>\n",
       "      <th>pct_smote_mixto</th>\n",
       "      <th>pct_smote_otros</th>\n",
       "      <th>pct_smote_servicio</th>\n",
       "      <th>pct_smote_sin_dato</th>\n",
       "      <th>geometry</th>\n",
       "    </tr>\n",
       "  </thead>\n",
       "  <tbody>\n",
       "    <tr>\n",
       "      <th>0</th>\n",
       "      <td>Sin dato</td>\n",
       "      <td>67.279056</td>\n",
       "      <td>75GRMGQW+89PG</td>\n",
       "      <td>1412000011206018</td>\n",
       "      <td>12.438638</td>\n",
       "      <td>278416.454431</td>\n",
       "      <td>67.279056</td>\n",
       "      <td>0.000242</td>\n",
       "      <td>0.184881</td>\n",
       "      <td>0</td>\n",
       "      <td>...</td>\n",
       "      <td>0.001607</td>\n",
       "      <td>0.002559</td>\n",
       "      <td>0.002761</td>\n",
       "      <td>0.001610</td>\n",
       "      <td>0.000106</td>\n",
       "      <td>0.000769</td>\n",
       "      <td>3.047269e-08</td>\n",
       "      <td>0.008672</td>\n",
       "      <td>0.964328</td>\n",
       "      <td>MULTIPOLYGON (((2349152.724 965335.704, 234914...</td>\n",
       "    </tr>\n",
       "    <tr>\n",
       "      <th>1</th>\n",
       "      <td>Sin dato</td>\n",
       "      <td>45.355545</td>\n",
       "      <td>75GRMGQW+8CFP</td>\n",
       "      <td>1412000011206018</td>\n",
       "      <td>4.482118</td>\n",
       "      <td>278416.454431</td>\n",
       "      <td>45.355545</td>\n",
       "      <td>0.000163</td>\n",
       "      <td>0.098822</td>\n",
       "      <td>0</td>\n",
       "      <td>...</td>\n",
       "      <td>0.005558</td>\n",
       "      <td>0.008587</td>\n",
       "      <td>0.008867</td>\n",
       "      <td>0.003569</td>\n",
       "      <td>0.000371</td>\n",
       "      <td>0.001866</td>\n",
       "      <td>1.236006e-07</td>\n",
       "      <td>0.017841</td>\n",
       "      <td>0.924011</td>\n",
       "      <td>MULTIPOLYGON (((2349168.91 965335.176, 2349157...</td>\n",
       "    </tr>\n",
       "  </tbody>\n",
       "</table>\n",
       "<p>2 rows × 83 columns</p>\n",
       "</div>"
      ],
      "text/plain": [
       "  uso_suelo    area_m2 full_plus_code            CVEGEO  bld_area_m2  \\\n",
       "0  Sin dato  67.279056  75GRMGQW+89PG  1412000011206018    12.438638   \n",
       "1  Sin dato  45.355545  75GRMGQW+8CFP  1412000011206018     4.482118   \n",
       "\n",
       "   block_area_m2  pred_area_m2  pred_area_pct  bld_pred_area_pct  pobtot  ...  \\\n",
       "0  278416.454431     67.279056       0.000242           0.184881       0  ...   \n",
       "1  278416.454431     45.355545       0.000163           0.098822       0  ...   \n",
       "\n",
       "   pct_smote_equipamiento  pct_smote_espacio_verde  pct_smote_habitacional  \\\n",
       "0                0.001607                 0.002559                0.002761   \n",
       "1                0.005558                 0.008587                0.008867   \n",
       "\n",
       "   pct_smote_industria  pct_smote_infraestructura  pct_smote_mixto  \\\n",
       "0             0.001610                   0.000106         0.000769   \n",
       "1             0.003569                   0.000371         0.001866   \n",
       "\n",
       "   pct_smote_otros  pct_smote_servicio  pct_smote_sin_dato  \\\n",
       "0     3.047269e-08            0.008672            0.964328   \n",
       "1     1.236006e-07            0.017841            0.924011   \n",
       "\n",
       "                                            geometry  \n",
       "0  MULTIPOLYGON (((2349152.724 965335.704, 234914...  \n",
       "1  MULTIPOLYGON (((2349168.91 965335.176, 2349157...  \n",
       "\n",
       "[2 rows x 83 columns]"
      ]
     },
     "execution_count": 2,
     "metadata": {},
     "output_type": "execute_result"
    }
   ],
   "source": [
    "gdf = gpd.read_file('../../data/processed/prediccion_uso_suelo/complete_model/area_of_prediction_primera_pred.gpkg')\n",
    "print(gdf.shape)\n",
    "gdf.head(2)"
   ]
  },
  {
   "cell_type": "code",
   "execution_count": 3,
   "id": "a0845b46-a724-422c-b86b-b7afa89e6cb1",
   "metadata": {},
   "outputs": [],
   "source": [
    "if 'fid' not in gdf.columns:\n",
    "    gdf = gdf.reset_index().rename(columns={'index':'fid'})"
   ]
  },
  {
   "cell_type": "code",
   "execution_count": 4,
   "id": "e6ba8d67-9bb4-4ebc-819b-98b4161becef",
   "metadata": {},
   "outputs": [
    {
     "data": {
      "text/plain": [
       "Index(['fid', 'uso_suelo', 'area_m2', 'full_plus_code', 'CVEGEO',\n",
       "       'bld_area_m2', 'block_area_m2', 'pred_area_m2', 'pred_area_pct',\n",
       "       'bld_pred_area_pct', 'pobtot', 'agropecuario', 'industria', 'servicios',\n",
       "       'alojamiento', 'comercio', 'cultural_recreativo', 'educacion', 'salud',\n",
       "       'gobierno', 'otros', 'area_m2_tot', 'habitacional', 'uso_tot',\n",
       "       'pct_agropecuario', 'pct_industria', 'pct_servicios', 'pct_alojamiento',\n",
       "       'pct_comercio', 'pct_cultural_recreativo', 'pct_educacion', 'pct_salud',\n",
       "       'pct_gobierno', 'pct_otros', 'temperature_mean_diff', 'ndvi_mean',\n",
       "       'ndmi_diff', 'motorway_distance', 'primary_distance',\n",
       "       'secondary_distance', 'tertiary_distance', 'residential_distance',\n",
       "       'other_distance', 'denue_primaria', 'denue_primaria_15min',\n",
       "       'denue_abarrotes', 'denue_abarrotes_15min', 'denue_peluqueria',\n",
       "       'denue_peluqueria_15min', 'denue_lavanderia', 'denue_lavanderia_15min',\n",
       "       'clues_primer_nivel', 'clues_primer_nivel_15min',\n",
       "       'pct_pred_agropecuario', 'pct_pred_alojamiento_temporal',\n",
       "       'pct_pred_area_libre', 'pct_pred_area_natural', 'pct_pred_baldio',\n",
       "       'pct_pred_comercio', 'pct_pred_equipamiento', 'pct_pred_espacio_verde',\n",
       "       'pct_pred_habitacional', 'pct_pred_industria',\n",
       "       'pct_pred_infraestructura', 'pct_pred_mixto', 'pct_pred_otros',\n",
       "       'pct_pred_servicio', 'pct_pred_sin_dato', 'pct_smote_agropecuario',\n",
       "       'pct_smote_alojamiento_temporal', 'pct_smote_area_libre',\n",
       "       'pct_smote_area_natural', 'pct_smote_baldio', 'pct_smote_comercio',\n",
       "       'pct_smote_equipamiento', 'pct_smote_espacio_verde',\n",
       "       'pct_smote_habitacional', 'pct_smote_industria',\n",
       "       'pct_smote_infraestructura', 'pct_smote_mixto', 'pct_smote_otros',\n",
       "       'pct_smote_servicio', 'pct_smote_sin_dato', 'geometry'],\n",
       "      dtype='object')"
      ]
     },
     "execution_count": 4,
     "metadata": {},
     "output_type": "execute_result"
    }
   ],
   "source": [
    "gdf.columns"
   ]
  },
  {
   "cell_type": "markdown",
   "id": "4c867dd3-eed8-4f39-894f-08dbc0f11266",
   "metadata": {},
   "source": [
    "## Machine learning model"
   ]
  },
  {
   "cell_type": "markdown",
   "id": "46e56e8a-cf6a-4903-b377-3d533ee14f36",
   "metadata": {},
   "source": [
    "### Data preprocessing"
   ]
  },
  {
   "cell_type": "markdown",
   "id": "404fffb4-0dae-4a6d-b803-8a59e8d6f38a",
   "metadata": {},
   "source": [
    "Divide X and Y data"
   ]
  },
  {
   "cell_type": "code",
   "execution_count": 5,
   "id": "fa4380e9-357d-4e00-9769-40c8c0cebc41",
   "metadata": {},
   "outputs": [],
   "source": [
    "X = gdf[['bld_area_m2', 'block_area_m2', 'pred_area_m2', 'pred_area_pct',\n",
    "       'bld_pred_area_pct','area_m2_tot',\n",
    "        'pobtot', 'agropecuario', 'industria', 'servicios',\n",
    "       'alojamiento', 'comercio', 'cultural_recreativo', 'educacion', 'salud',\n",
    "       'gobierno', 'otros',  'habitacional', \n",
    "        'uso_tot',\n",
    "       'pct_agropecuario', 'pct_industria', 'pct_servicios', 'pct_alojamiento',\n",
    "       'pct_comercio', 'pct_cultural_recreativo', 'pct_educacion', 'pct_salud',\n",
    "       'pct_gobierno', 'pct_otros', \n",
    "        'temperature_mean_diff', 'ndvi_mean',\n",
    "       'ndmi_diff', \n",
    "        'motorway_distance', 'primary_distance',\n",
    "       'secondary_distance', 'tertiary_distance', 'residential_distance',\n",
    "       'other_distance', \n",
    "        'denue_primaria', 'denue_primaria_15min',\n",
    "       'denue_abarrotes', 'denue_abarrotes_15min', 'denue_peluqueria',\n",
    "       'denue_peluqueria_15min', 'denue_lavanderia', 'denue_lavanderia_15min',\n",
    "       'clues_primer_nivel', 'clues_primer_nivel_15min',\n",
    "    'pct_pred_agropecuario', 'pct_pred_alojamiento_temporal',\n",
    "       'pct_pred_area_libre', 'pct_pred_area_natural', 'pct_pred_baldio',\n",
    "       'pct_pred_comercio', 'pct_pred_equipamiento', 'pct_pred_espacio_verde',\n",
    "       'pct_pred_habitacional', 'pct_pred_industria',\n",
    "       'pct_pred_infraestructura', 'pct_pred_mixto', 'pct_pred_otros',\n",
    "       'pct_pred_servicio', 'pct_pred_sin_dato', \n",
    "   'pct_smote_agropecuario',\n",
    "   'pct_smote_alojamiento_temporal', 'pct_smote_area_libre',\n",
    "   'pct_smote_area_natural', 'pct_smote_baldio', 'pct_smote_comercio',\n",
    "   'pct_smote_equipamiento', 'pct_smote_espacio_verde',\n",
    "   'pct_smote_habitacional', 'pct_smote_industria',\n",
    "   'pct_smote_infraestructura', 'pct_smote_mixto', 'pct_smote_otros',\n",
    "   'pct_smote_servicio', 'pct_smote_sin_dato',\n",
    "    ]].to_numpy()\n",
    "\n",
    "Y = gdf[['uso_suelo']].to_numpy()\n",
    "Y = np.reshape(Y, shape=(Y.shape[0],))"
   ]
  },
  {
   "cell_type": "markdown",
   "id": "df1e46b8-1eaa-44d7-900c-2a6f768a90b5",
   "metadata": {},
   "source": [
    "Standarize and encode data"
   ]
  },
  {
   "cell_type": "code",
   "execution_count": 6,
   "id": "3f06d04f-a832-4c05-9a08-9f0e616b444f",
   "metadata": {},
   "outputs": [],
   "source": [
    "scaler = StandardScaler()\n",
    "X_scaled = scaler.fit_transform(X)\n",
    "\n",
    "encoder = LabelEncoder()\n",
    "encoder.fit(Y)\n",
    "encoded_Y = encoder.transform(Y)"
   ]
  },
  {
   "cell_type": "markdown",
   "id": "9dbfb3d4-6910-46c5-99cf-4dbbf5e88c9b",
   "metadata": {},
   "source": [
    "Divide training, validation and testing data"
   ]
  },
  {
   "cell_type": "code",
   "execution_count": 7,
   "id": "f9797b9d-ac16-4aaa-8ea3-c3091ea21ee8",
   "metadata": {},
   "outputs": [],
   "source": [
    "X_model, X_test, y_model, y_test = (train_test_split(X_scaled, encoded_Y, test_size=0.2, random_state=0))"
   ]
  },
  {
   "cell_type": "code",
   "execution_count": 8,
   "id": "3cc9fb5c-b1c7-4ff5-8b03-911be6b6945c",
   "metadata": {},
   "outputs": [],
   "source": [
    "smote = SMOTE()  \n",
    "X_resampled, y_resampled = smote.fit_resample(X_model, y_model)  "
   ]
  },
  {
   "cell_type": "code",
   "execution_count": 9,
   "id": "47bccdc0-6859-416f-951f-96474f6877e5",
   "metadata": {},
   "outputs": [],
   "source": [
    "# X_train, X_val, y_train, y_val = (train_test_split(X_resampled, y_resampled, test_size=0.2, random_state=0))\n",
    "X_train, X_val, y_train, y_val = (train_test_split(X_model, y_model, test_size=0.2, random_state=0))"
   ]
  },
  {
   "cell_type": "markdown",
   "id": "2c7831e0-c32a-43d9-8d12-48376bbaa159",
   "metadata": {},
   "source": [
    "Y data to categorical"
   ]
  },
  {
   "cell_type": "code",
   "execution_count": 10,
   "id": "1096d345-b301-4f9b-9f9c-f0c03151b510",
   "metadata": {},
   "outputs": [],
   "source": [
    "# encode class values as integers\n",
    "num_classes = len(gdf.uso_suelo.unique())\n",
    "\n",
    "# convert integers to dummy variables (i.e. one hot encoded)\n",
    "y_train = utils.to_categorical(y_train, num_classes)\n",
    "\n",
    "# convert integers to dummy variables (i.e. one hot encoded)\n",
    "y_val = utils.to_categorical(y_val, num_classes)\n",
    "\n",
    "# convert integers to dummy variables (i.e. one hot encoded)\n",
    "y_test = utils.to_categorical(y_test, num_classes)"
   ]
  },
  {
   "cell_type": "markdown",
   "id": "cf34f006-a5f2-40f7-84b5-6fe5fa00a520",
   "metadata": {},
   "source": [
    "### Model construction -- Classification Neural network"
   ]
  },
  {
   "cell_type": "markdown",
   "id": "fe8bf42a-4c24-4006-8e96-4c27a480a4ba",
   "metadata": {},
   "source": [
    "Model parameters"
   ]
  },
  {
   "cell_type": "code",
   "execution_count": 11,
   "id": "9993a00b-b33e-4a12-b5d9-b2452f27f248",
   "metadata": {},
   "outputs": [],
   "source": [
    "input_shape = (X_train.shape[1],)"
   ]
  },
  {
   "cell_type": "code",
   "execution_count": 12,
   "id": "043870aa-55dc-4e8d-a224-3d949b3a0a30",
   "metadata": {},
   "outputs": [
    {
     "name": "stderr",
     "output_type": "stream",
     "text": [
      "/home/edgaregurrola/.cache/pypoetry/virtualenvs/aup-qDsIK5d5-py3.11/lib/python3.11/site-packages/keras/src/layers/core/dense.py:87: UserWarning: Do not pass an `input_shape`/`input_dim` argument to a layer. When using Sequential models, prefer using an `Input(shape)` object as the first layer in the model instead.\n",
      "  super().__init__(activity_regularizer=activity_regularizer, **kwargs)\n",
      "I0000 00:00:1753838471.670371   75068 gpu_device.cc:2019] Created device /job:localhost/replica:0/task:0/device:GPU:0 with 4483 MB memory:  -> device: 0, name: NVIDIA GeForce RTX 4060 Ti, pci bus id: 0000:01:00.0, compute capability: 8.9\n"
     ]
    },
    {
     "data": {
      "text/html": [
       "<pre style=\"white-space:pre;overflow-x:auto;line-height:normal;font-family:Menlo,'DejaVu Sans Mono',consolas,'Courier New',monospace\"><span style=\"font-weight: bold\">Model: \"sequential\"</span>\n",
       "</pre>\n"
      ],
      "text/plain": [
       "\u001b[1mModel: \"sequential\"\u001b[0m\n"
      ]
     },
     "metadata": {},
     "output_type": "display_data"
    },
    {
     "data": {
      "text/html": [
       "<pre style=\"white-space:pre;overflow-x:auto;line-height:normal;font-family:Menlo,'DejaVu Sans Mono',consolas,'Courier New',monospace\">┏━━━━━━━━━━━━━━━━━━━━━━━━━━━━━━━━━┳━━━━━━━━━━━━━━━━━━━━━━━━┳━━━━━━━━━━━━━━━┓\n",
       "┃<span style=\"font-weight: bold\"> Layer (type)                    </span>┃<span style=\"font-weight: bold\"> Output Shape           </span>┃<span style=\"font-weight: bold\">       Param # </span>┃\n",
       "┡━━━━━━━━━━━━━━━━━━━━━━━━━━━━━━━━━╇━━━━━━━━━━━━━━━━━━━━━━━━╇━━━━━━━━━━━━━━━┩\n",
       "│ dense (<span style=\"color: #0087ff; text-decoration-color: #0087ff\">Dense</span>)                   │ (<span style=\"color: #00d7ff; text-decoration-color: #00d7ff\">None</span>, <span style=\"color: #00af00; text-decoration-color: #00af00\">64</span>)             │         <span style=\"color: #00af00; text-decoration-color: #00af00\">5,056</span> │\n",
       "├─────────────────────────────────┼────────────────────────┼───────────────┤\n",
       "│ activation (<span style=\"color: #0087ff; text-decoration-color: #0087ff\">Activation</span>)         │ (<span style=\"color: #00d7ff; text-decoration-color: #00d7ff\">None</span>, <span style=\"color: #00af00; text-decoration-color: #00af00\">64</span>)             │             <span style=\"color: #00af00; text-decoration-color: #00af00\">0</span> │\n",
       "├─────────────────────────────────┼────────────────────────┼───────────────┤\n",
       "│ dropout (<span style=\"color: #0087ff; text-decoration-color: #0087ff\">Dropout</span>)               │ (<span style=\"color: #00d7ff; text-decoration-color: #00d7ff\">None</span>, <span style=\"color: #00af00; text-decoration-color: #00af00\">64</span>)             │             <span style=\"color: #00af00; text-decoration-color: #00af00\">0</span> │\n",
       "├─────────────────────────────────┼────────────────────────┼───────────────┤\n",
       "│ dense_1 (<span style=\"color: #0087ff; text-decoration-color: #0087ff\">Dense</span>)                 │ (<span style=\"color: #00d7ff; text-decoration-color: #00d7ff\">None</span>, <span style=\"color: #00af00; text-decoration-color: #00af00\">64</span>)             │         <span style=\"color: #00af00; text-decoration-color: #00af00\">4,160</span> │\n",
       "├─────────────────────────────────┼────────────────────────┼───────────────┤\n",
       "│ activation_1 (<span style=\"color: #0087ff; text-decoration-color: #0087ff\">Activation</span>)       │ (<span style=\"color: #00d7ff; text-decoration-color: #00d7ff\">None</span>, <span style=\"color: #00af00; text-decoration-color: #00af00\">64</span>)             │             <span style=\"color: #00af00; text-decoration-color: #00af00\">0</span> │\n",
       "├─────────────────────────────────┼────────────────────────┼───────────────┤\n",
       "│ dropout_1 (<span style=\"color: #0087ff; text-decoration-color: #0087ff\">Dropout</span>)             │ (<span style=\"color: #00d7ff; text-decoration-color: #00d7ff\">None</span>, <span style=\"color: #00af00; text-decoration-color: #00af00\">64</span>)             │             <span style=\"color: #00af00; text-decoration-color: #00af00\">0</span> │\n",
       "├─────────────────────────────────┼────────────────────────┼───────────────┤\n",
       "│ dense_2 (<span style=\"color: #0087ff; text-decoration-color: #0087ff\">Dense</span>)                 │ (<span style=\"color: #00d7ff; text-decoration-color: #00d7ff\">None</span>, <span style=\"color: #00af00; text-decoration-color: #00af00\">15</span>)             │           <span style=\"color: #00af00; text-decoration-color: #00af00\">975</span> │\n",
       "├─────────────────────────────────┼────────────────────────┼───────────────┤\n",
       "│ activation_2 (<span style=\"color: #0087ff; text-decoration-color: #0087ff\">Activation</span>)       │ (<span style=\"color: #00d7ff; text-decoration-color: #00d7ff\">None</span>, <span style=\"color: #00af00; text-decoration-color: #00af00\">15</span>)             │             <span style=\"color: #00af00; text-decoration-color: #00af00\">0</span> │\n",
       "└─────────────────────────────────┴────────────────────────┴───────────────┘\n",
       "</pre>\n"
      ],
      "text/plain": [
       "┏━━━━━━━━━━━━━━━━━━━━━━━━━━━━━━━━━┳━━━━━━━━━━━━━━━━━━━━━━━━┳━━━━━━━━━━━━━━━┓\n",
       "┃\u001b[1m \u001b[0m\u001b[1mLayer (type)                   \u001b[0m\u001b[1m \u001b[0m┃\u001b[1m \u001b[0m\u001b[1mOutput Shape          \u001b[0m\u001b[1m \u001b[0m┃\u001b[1m \u001b[0m\u001b[1m      Param #\u001b[0m\u001b[1m \u001b[0m┃\n",
       "┡━━━━━━━━━━━━━━━━━━━━━━━━━━━━━━━━━╇━━━━━━━━━━━━━━━━━━━━━━━━╇━━━━━━━━━━━━━━━┩\n",
       "│ dense (\u001b[38;5;33mDense\u001b[0m)                   │ (\u001b[38;5;45mNone\u001b[0m, \u001b[38;5;34m64\u001b[0m)             │         \u001b[38;5;34m5,056\u001b[0m │\n",
       "├─────────────────────────────────┼────────────────────────┼───────────────┤\n",
       "│ activation (\u001b[38;5;33mActivation\u001b[0m)         │ (\u001b[38;5;45mNone\u001b[0m, \u001b[38;5;34m64\u001b[0m)             │             \u001b[38;5;34m0\u001b[0m │\n",
       "├─────────────────────────────────┼────────────────────────┼───────────────┤\n",
       "│ dropout (\u001b[38;5;33mDropout\u001b[0m)               │ (\u001b[38;5;45mNone\u001b[0m, \u001b[38;5;34m64\u001b[0m)             │             \u001b[38;5;34m0\u001b[0m │\n",
       "├─────────────────────────────────┼────────────────────────┼───────────────┤\n",
       "│ dense_1 (\u001b[38;5;33mDense\u001b[0m)                 │ (\u001b[38;5;45mNone\u001b[0m, \u001b[38;5;34m64\u001b[0m)             │         \u001b[38;5;34m4,160\u001b[0m │\n",
       "├─────────────────────────────────┼────────────────────────┼───────────────┤\n",
       "│ activation_1 (\u001b[38;5;33mActivation\u001b[0m)       │ (\u001b[38;5;45mNone\u001b[0m, \u001b[38;5;34m64\u001b[0m)             │             \u001b[38;5;34m0\u001b[0m │\n",
       "├─────────────────────────────────┼────────────────────────┼───────────────┤\n",
       "│ dropout_1 (\u001b[38;5;33mDropout\u001b[0m)             │ (\u001b[38;5;45mNone\u001b[0m, \u001b[38;5;34m64\u001b[0m)             │             \u001b[38;5;34m0\u001b[0m │\n",
       "├─────────────────────────────────┼────────────────────────┼───────────────┤\n",
       "│ dense_2 (\u001b[38;5;33mDense\u001b[0m)                 │ (\u001b[38;5;45mNone\u001b[0m, \u001b[38;5;34m15\u001b[0m)             │           \u001b[38;5;34m975\u001b[0m │\n",
       "├─────────────────────────────────┼────────────────────────┼───────────────┤\n",
       "│ activation_2 (\u001b[38;5;33mActivation\u001b[0m)       │ (\u001b[38;5;45mNone\u001b[0m, \u001b[38;5;34m15\u001b[0m)             │             \u001b[38;5;34m0\u001b[0m │\n",
       "└─────────────────────────────────┴────────────────────────┴───────────────┘\n"
      ]
     },
     "metadata": {},
     "output_type": "display_data"
    },
    {
     "data": {
      "text/html": [
       "<pre style=\"white-space:pre;overflow-x:auto;line-height:normal;font-family:Menlo,'DejaVu Sans Mono',consolas,'Courier New',monospace\"><span style=\"font-weight: bold\"> Total params: </span><span style=\"color: #00af00; text-decoration-color: #00af00\">10,191</span> (39.81 KB)\n",
       "</pre>\n"
      ],
      "text/plain": [
       "\u001b[1m Total params: \u001b[0m\u001b[38;5;34m10,191\u001b[0m (39.81 KB)\n"
      ]
     },
     "metadata": {},
     "output_type": "display_data"
    },
    {
     "data": {
      "text/html": [
       "<pre style=\"white-space:pre;overflow-x:auto;line-height:normal;font-family:Menlo,'DejaVu Sans Mono',consolas,'Courier New',monospace\"><span style=\"font-weight: bold\"> Trainable params: </span><span style=\"color: #00af00; text-decoration-color: #00af00\">10,191</span> (39.81 KB)\n",
       "</pre>\n"
      ],
      "text/plain": [
       "\u001b[1m Trainable params: \u001b[0m\u001b[38;5;34m10,191\u001b[0m (39.81 KB)\n"
      ]
     },
     "metadata": {},
     "output_type": "display_data"
    },
    {
     "data": {
      "text/html": [
       "<pre style=\"white-space:pre;overflow-x:auto;line-height:normal;font-family:Menlo,'DejaVu Sans Mono',consolas,'Courier New',monospace\"><span style=\"font-weight: bold\"> Non-trainable params: </span><span style=\"color: #00af00; text-decoration-color: #00af00\">0</span> (0.00 B)\n",
       "</pre>\n"
      ],
      "text/plain": [
       "\u001b[1m Non-trainable params: \u001b[0m\u001b[38;5;34m0\u001b[0m (0.00 B)\n"
      ]
     },
     "metadata": {},
     "output_type": "display_data"
    },
    {
     "name": "stdout",
     "output_type": "stream",
     "text": [
      "None\n"
     ]
    }
   ],
   "source": [
    "### Construct Keras model\n",
    "\n",
    "# A sequential model is a linear stack of layers\n",
    "model = Sequential()\n",
    "\n",
    "# First layer: fully-connected with relu activation\n",
    "model.add(Dense(64, input_shape=input_shape))\n",
    "model.add(Activation('relu'))\n",
    "model.add(Dropout(0.25))\n",
    "\n",
    "# Second layer: fully-connected with relu activation\n",
    "model.add(Dense(64))   # Input shape is determined automatically from previous layer\n",
    "model.add(Activation('relu'))\n",
    "model.add(Dropout(0.25))\n",
    "\n",
    "# Third layer: 10 nodes, one for each class, and softmax activation\n",
    "model.add(Dense(num_classes))\n",
    "model.add(Activation('softmax'))\n",
    "\n",
    "# Configure the model's training settings\n",
    "model.compile(loss='categorical_crossentropy', optimizer='adam', metrics=['acc'])\n",
    "\n",
    "# Print out model summary\n",
    "print(model.summary())\n",
    "    "
   ]
  },
  {
   "cell_type": "markdown",
   "id": "4c26e080-97a6-4cba-9f4d-0819e4d63d2b",
   "metadata": {},
   "source": [
    "Model training"
   ]
  },
  {
   "cell_type": "code",
   "execution_count": 13,
   "id": "99d97ff7-8e43-4e5a-b07c-c86c87af4ddc",
   "metadata": {
    "scrolled": true
   },
   "outputs": [
    {
     "name": "stdout",
     "output_type": "stream",
     "text": [
      "Epoch 1/200\n"
     ]
    },
    {
     "name": "stderr",
     "output_type": "stream",
     "text": [
      "WARNING: All log messages before absl::InitializeLog() is called are written to STDERR\n",
      "I0000 00:00:1753838473.333685   75968 service.cc:152] XLA service 0x7fe60c009fa0 initialized for platform CUDA (this does not guarantee that XLA will be used). Devices:\n",
      "I0000 00:00:1753838473.333700   75968 service.cc:160]   StreamExecutor device (0): NVIDIA GeForce RTX 4060 Ti, Compute Capability 8.9\n",
      "2025-07-29 19:21:13.346464: I tensorflow/compiler/mlir/tensorflow/utils/dump_mlir_util.cc:269] disabling MLIR crash reproducer, set env var `MLIR_CRASH_REPRODUCER_DIRECTORY` to enable.\n",
      "I0000 00:00:1753838473.412819   75968 cuda_dnn.cc:529] Loaded cuDNN version 90300\n"
     ]
    },
    {
     "name": "stdout",
     "output_type": "stream",
     "text": [
      "\u001b[1m  296/13600\u001b[0m \u001b[37m━━━━━━━━━━━━━━━━━━━━\u001b[0m \u001b[1m6s\u001b[0m 510us/step - acc: 0.6281 - loss: 1.5484"
     ]
    },
    {
     "name": "stderr",
     "output_type": "stream",
     "text": [
      "I0000 00:00:1753838474.083627   75968 device_compiler.h:188] Compiled cluster using XLA!  This line is logged at most once for the lifetime of the process.\n"
     ]
    },
    {
     "name": "stdout",
     "output_type": "stream",
     "text": [
      "\u001b[1m13600/13600\u001b[0m \u001b[32m━━━━━━━━━━━━━━━━━━━━\u001b[0m\u001b[37m\u001b[0m \u001b[1m10s\u001b[0m 642us/step - acc: 0.7704 - loss: 0.8145 - val_acc: 0.7897 - val_loss: 0.6913\n",
      "Epoch 2/200\n",
      "\u001b[1m13600/13600\u001b[0m \u001b[32m━━━━━━━━━━━━━━━━━━━━\u001b[0m\u001b[37m\u001b[0m \u001b[1m8s\u001b[0m 597us/step - acc: 0.7839 - loss: 0.7173 - val_acc: 0.7897 - val_loss: 0.6867\n",
      "Epoch 3/200\n",
      "\u001b[1m13600/13600\u001b[0m \u001b[32m━━━━━━━━━━━━━━━━━━━━\u001b[0m\u001b[37m\u001b[0m \u001b[1m8s\u001b[0m 587us/step - acc: 0.7844 - loss: 0.7093 - val_acc: 0.7886 - val_loss: 0.6872\n",
      "Epoch 4/200\n",
      "\u001b[1m13600/13600\u001b[0m \u001b[32m━━━━━━━━━━━━━━━━━━━━\u001b[0m\u001b[37m\u001b[0m \u001b[1m8s\u001b[0m 598us/step - acc: 0.7855 - loss: 0.7053 - val_acc: 0.7914 - val_loss: 0.6836\n",
      "Epoch 5/200\n",
      "\u001b[1m13600/13600\u001b[0m \u001b[32m━━━━━━━━━━━━━━━━━━━━\u001b[0m\u001b[37m\u001b[0m \u001b[1m8s\u001b[0m 597us/step - acc: 0.7860 - loss: 0.7035 - val_acc: 0.7905 - val_loss: 0.6815\n",
      "Epoch 6/200\n",
      "\u001b[1m13600/13600\u001b[0m \u001b[32m━━━━━━━━━━━━━━━━━━━━\u001b[0m\u001b[37m\u001b[0m \u001b[1m8s\u001b[0m 617us/step - acc: 0.7847 - loss: 0.7032 - val_acc: 0.7915 - val_loss: 0.6803\n",
      "Epoch 7/200\n",
      "\u001b[1m13600/13600\u001b[0m \u001b[32m━━━━━━━━━━━━━━━━━━━━\u001b[0m\u001b[37m\u001b[0m \u001b[1m8s\u001b[0m 582us/step - acc: 0.7862 - loss: 0.7007 - val_acc: 0.7896 - val_loss: 0.6811\n",
      "Epoch 8/200\n",
      "\u001b[1m13600/13600\u001b[0m \u001b[32m━━━━━━━━━━━━━━━━━━━━\u001b[0m\u001b[37m\u001b[0m \u001b[1m8s\u001b[0m 600us/step - acc: 0.7867 - loss: 0.6999 - val_acc: 0.7900 - val_loss: 0.6830\n",
      "Epoch 9/200\n",
      "\u001b[1m13600/13600\u001b[0m \u001b[32m━━━━━━━━━━━━━━━━━━━━\u001b[0m\u001b[37m\u001b[0m \u001b[1m8s\u001b[0m 601us/step - acc: 0.7849 - loss: 0.7019 - val_acc: 0.7901 - val_loss: 0.6808\n",
      "Epoch 10/200\n",
      "\u001b[1m13600/13600\u001b[0m \u001b[32m━━━━━━━━━━━━━━━━━━━━\u001b[0m\u001b[37m\u001b[0m \u001b[1m8s\u001b[0m 586us/step - acc: 0.7864 - loss: 0.6988 - val_acc: 0.7896 - val_loss: 0.6838\n",
      "Epoch 11/200\n",
      "\u001b[1m13600/13600\u001b[0m \u001b[32m━━━━━━━━━━━━━━━━━━━━\u001b[0m\u001b[37m\u001b[0m \u001b[1m8s\u001b[0m 591us/step - acc: 0.7870 - loss: 0.6988 - val_acc: 0.7906 - val_loss: 0.6776\n",
      "Epoch 12/200\n",
      "\u001b[1m13600/13600\u001b[0m \u001b[32m━━━━━━━━━━━━━━━━━━━━\u001b[0m\u001b[37m\u001b[0m \u001b[1m8s\u001b[0m 584us/step - acc: 0.7863 - loss: 0.7001 - val_acc: 0.7908 - val_loss: 0.6784\n",
      "Epoch 13/200\n",
      "\u001b[1m13600/13600\u001b[0m \u001b[32m━━━━━━━━━━━━━━━━━━━━\u001b[0m\u001b[37m\u001b[0m \u001b[1m8s\u001b[0m 577us/step - acc: 0.7866 - loss: 0.6985 - val_acc: 0.7916 - val_loss: 0.6795\n",
      "Epoch 14/200\n",
      "\u001b[1m13600/13600\u001b[0m \u001b[32m━━━━━━━━━━━━━━━━━━━━\u001b[0m\u001b[37m\u001b[0m \u001b[1m8s\u001b[0m 581us/step - acc: 0.7871 - loss: 0.6981 - val_acc: 0.7906 - val_loss: 0.6787\n",
      "Epoch 15/200\n",
      "\u001b[1m13600/13600\u001b[0m \u001b[32m━━━━━━━━━━━━━━━━━━━━\u001b[0m\u001b[37m\u001b[0m \u001b[1m8s\u001b[0m 581us/step - acc: 0.7869 - loss: 0.6965 - val_acc: 0.7909 - val_loss: 0.6803\n",
      "Epoch 16/200\n",
      "\u001b[1m13600/13600\u001b[0m \u001b[32m━━━━━━━━━━━━━━━━━━━━\u001b[0m\u001b[37m\u001b[0m \u001b[1m8s\u001b[0m 579us/step - acc: 0.7874 - loss: 0.6980 - val_acc: 0.7917 - val_loss: 0.6762\n",
      "Epoch 17/200\n",
      "\u001b[1m13600/13600\u001b[0m \u001b[32m━━━━━━━━━━━━━━━━━━━━\u001b[0m\u001b[37m\u001b[0m \u001b[1m8s\u001b[0m 582us/step - acc: 0.7867 - loss: 0.6990 - val_acc: 0.7919 - val_loss: 0.6779\n",
      "Epoch 18/200\n",
      "\u001b[1m13600/13600\u001b[0m \u001b[32m━━━━━━━━━━━━━━━━━━━━\u001b[0m\u001b[37m\u001b[0m \u001b[1m8s\u001b[0m 576us/step - acc: 0.7877 - loss: 0.6958 - val_acc: 0.7915 - val_loss: 0.6750\n",
      "Epoch 19/200\n",
      "\u001b[1m13600/13600\u001b[0m \u001b[32m━━━━━━━━━━━━━━━━━━━━\u001b[0m\u001b[37m\u001b[0m \u001b[1m8s\u001b[0m 579us/step - acc: 0.7874 - loss: 0.6990 - val_acc: 0.7908 - val_loss: 0.6795\n",
      "Epoch 20/200\n",
      "\u001b[1m13600/13600\u001b[0m \u001b[32m━━━━━━━━━━━━━━━━━━━━\u001b[0m\u001b[37m\u001b[0m \u001b[1m8s\u001b[0m 580us/step - acc: 0.7866 - loss: 0.6985 - val_acc: 0.7901 - val_loss: 0.6786\n",
      "Epoch 21/200\n",
      "\u001b[1m13600/13600\u001b[0m \u001b[32m━━━━━━━━━━━━━━━━━━━━\u001b[0m\u001b[37m\u001b[0m \u001b[1m8s\u001b[0m 601us/step - acc: 0.7872 - loss: 0.6972 - val_acc: 0.7922 - val_loss: 0.6759\n",
      "Epoch 22/200\n",
      "\u001b[1m13600/13600\u001b[0m \u001b[32m━━━━━━━━━━━━━━━━━━━━\u001b[0m\u001b[37m\u001b[0m \u001b[1m8s\u001b[0m 609us/step - acc: 0.7876 - loss: 0.6964 - val_acc: 0.7914 - val_loss: 0.6761\n",
      "Epoch 23/200\n",
      "\u001b[1m13600/13600\u001b[0m \u001b[32m━━━━━━━━━━━━━━━━━━━━\u001b[0m\u001b[37m\u001b[0m \u001b[1m8s\u001b[0m 592us/step - acc: 0.7860 - loss: 0.6999 - val_acc: 0.7918 - val_loss: 0.6748\n",
      "Epoch 24/200\n",
      "\u001b[1m13600/13600\u001b[0m \u001b[32m━━━━━━━━━━━━━━━━━━━━\u001b[0m\u001b[37m\u001b[0m \u001b[1m8s\u001b[0m 591us/step - acc: 0.7877 - loss: 0.6940 - val_acc: 0.7918 - val_loss: 0.6739\n",
      "Epoch 25/200\n",
      "\u001b[1m13600/13600\u001b[0m \u001b[32m━━━━━━━━━━━━━━━━━━━━\u001b[0m\u001b[37m\u001b[0m \u001b[1m8s\u001b[0m 580us/step - acc: 0.7867 - loss: 0.6968 - val_acc: 0.7922 - val_loss: 0.6757\n",
      "Epoch 26/200\n",
      "\u001b[1m13600/13600\u001b[0m \u001b[32m━━━━━━━━━━━━━━━━━━━━\u001b[0m\u001b[37m\u001b[0m \u001b[1m8s\u001b[0m 585us/step - acc: 0.7883 - loss: 0.6948 - val_acc: 0.7919 - val_loss: 0.6743\n",
      "Epoch 27/200\n",
      "\u001b[1m13600/13600\u001b[0m \u001b[32m━━━━━━━━━━━━━━━━━━━━\u001b[0m\u001b[37m\u001b[0m \u001b[1m8s\u001b[0m 582us/step - acc: 0.7865 - loss: 0.6973 - val_acc: 0.7922 - val_loss: 0.6749\n",
      "Epoch 28/200\n",
      "\u001b[1m13600/13600\u001b[0m \u001b[32m━━━━━━━━━━━━━━━━━━━━\u001b[0m\u001b[37m\u001b[0m \u001b[1m8s\u001b[0m 577us/step - acc: 0.7869 - loss: 0.6980 - val_acc: 0.7925 - val_loss: 0.6775\n",
      "Epoch 29/200\n",
      "\u001b[1m13600/13600\u001b[0m \u001b[32m━━━━━━━━━━━━━━━━━━━━\u001b[0m\u001b[37m\u001b[0m \u001b[1m8s\u001b[0m 593us/step - acc: 0.7876 - loss: 0.6951 - val_acc: 0.7922 - val_loss: 0.6754\n",
      "Epoch 30/200\n",
      "\u001b[1m13600/13600\u001b[0m \u001b[32m━━━━━━━━━━━━━━━━━━━━\u001b[0m\u001b[37m\u001b[0m \u001b[1m8s\u001b[0m 590us/step - acc: 0.7867 - loss: 0.6971 - val_acc: 0.7913 - val_loss: 0.6753\n",
      "Epoch 31/200\n",
      "\u001b[1m13600/13600\u001b[0m \u001b[32m━━━━━━━━━━━━━━━━━━━━\u001b[0m\u001b[37m\u001b[0m \u001b[1m8s\u001b[0m 587us/step - acc: 0.7862 - loss: 0.6951 - val_acc: 0.7923 - val_loss: 0.6747\n",
      "Epoch 32/200\n",
      "\u001b[1m13600/13600\u001b[0m \u001b[32m━━━━━━━━━━━━━━━━━━━━\u001b[0m\u001b[37m\u001b[0m \u001b[1m8s\u001b[0m 580us/step - acc: 0.7867 - loss: 0.6994 - val_acc: 0.7916 - val_loss: 0.6763\n",
      "Epoch 33/200\n",
      "\u001b[1m13600/13600\u001b[0m \u001b[32m━━━━━━━━━━━━━━━━━━━━\u001b[0m\u001b[37m\u001b[0m \u001b[1m8s\u001b[0m 582us/step - acc: 0.7874 - loss: 0.6955 - val_acc: 0.7911 - val_loss: 0.6771\n",
      "Epoch 34/200\n",
      "\u001b[1m13600/13600\u001b[0m \u001b[32m━━━━━━━━━━━━━━━━━━━━\u001b[0m\u001b[37m\u001b[0m \u001b[1m8s\u001b[0m 582us/step - acc: 0.7873 - loss: 0.6961 - val_acc: 0.7928 - val_loss: 0.6739\n",
      "Epoch 35/200\n",
      "\u001b[1m13600/13600\u001b[0m \u001b[32m━━━━━━━━━━━━━━━━━━━━\u001b[0m\u001b[37m\u001b[0m \u001b[1m8s\u001b[0m 587us/step - acc: 0.7880 - loss: 0.6941 - val_acc: 0.7922 - val_loss: 0.6736\n",
      "Epoch 36/200\n",
      "\u001b[1m13600/13600\u001b[0m \u001b[32m━━━━━━━━━━━━━━━━━━━━\u001b[0m\u001b[37m\u001b[0m \u001b[1m8s\u001b[0m 578us/step - acc: 0.7890 - loss: 0.6928 - val_acc: 0.7909 - val_loss: 0.6784\n",
      "Epoch 37/200\n",
      "\u001b[1m13600/13600\u001b[0m \u001b[32m━━━━━━━━━━━━━━━━━━━━\u001b[0m\u001b[37m\u001b[0m \u001b[1m8s\u001b[0m 576us/step - acc: 0.7877 - loss: 0.6944 - val_acc: 0.7904 - val_loss: 0.6777\n",
      "Epoch 38/200\n",
      "\u001b[1m13600/13600\u001b[0m \u001b[32m━━━━━━━━━━━━━━━━━━━━\u001b[0m\u001b[37m\u001b[0m \u001b[1m8s\u001b[0m 582us/step - acc: 0.7869 - loss: 0.6952 - val_acc: 0.7917 - val_loss: 0.6764\n",
      "Epoch 39/200\n",
      "\u001b[1m13600/13600\u001b[0m \u001b[32m━━━━━━━━━━━━━━━━━━━━\u001b[0m\u001b[37m\u001b[0m \u001b[1m8s\u001b[0m 579us/step - acc: 0.7863 - loss: 0.6964 - val_acc: 0.7914 - val_loss: 0.6780\n",
      "Epoch 40/200\n",
      "\u001b[1m13600/13600\u001b[0m \u001b[32m━━━━━━━━━━━━━━━━━━━━\u001b[0m\u001b[37m\u001b[0m \u001b[1m8s\u001b[0m 584us/step - acc: 0.7881 - loss: 0.6939 - val_acc: 0.7917 - val_loss: 0.6760\n",
      "Epoch 41/200\n",
      "\u001b[1m13600/13600\u001b[0m \u001b[32m━━━━━━━━━━━━━━━━━━━━\u001b[0m\u001b[37m\u001b[0m \u001b[1m8s\u001b[0m 577us/step - acc: 0.7873 - loss: 0.6956 - val_acc: 0.7925 - val_loss: 0.6741\n",
      "Epoch 42/200\n",
      "\u001b[1m13600/13600\u001b[0m \u001b[32m━━━━━━━━━━━━━━━━━━━━\u001b[0m\u001b[37m\u001b[0m \u001b[1m8s\u001b[0m 581us/step - acc: 0.7856 - loss: 0.6984 - val_acc: 0.7921 - val_loss: 0.6751\n",
      "Epoch 43/200\n",
      "\u001b[1m13600/13600\u001b[0m \u001b[32m━━━━━━━━━━━━━━━━━━━━\u001b[0m\u001b[37m\u001b[0m \u001b[1m8s\u001b[0m 584us/step - acc: 0.7872 - loss: 0.6937 - val_acc: 0.7920 - val_loss: 0.6739\n",
      "Epoch 44/200\n",
      "\u001b[1m13600/13600\u001b[0m \u001b[32m━━━━━━━━━━━━━━━━━━━━\u001b[0m\u001b[37m\u001b[0m \u001b[1m8s\u001b[0m 584us/step - acc: 0.7876 - loss: 0.6963 - val_acc: 0.7922 - val_loss: 0.6737\n",
      "Epoch 45/200\n",
      "\u001b[1m13600/13600\u001b[0m \u001b[32m━━━━━━━━━━━━━━━━━━━━\u001b[0m\u001b[37m\u001b[0m \u001b[1m8s\u001b[0m 592us/step - acc: 0.7870 - loss: 0.6963 - val_acc: 0.7926 - val_loss: 0.6733\n",
      "Epoch 46/200\n",
      "\u001b[1m13600/13600\u001b[0m \u001b[32m━━━━━━━━━━━━━━━━━━━━\u001b[0m\u001b[37m\u001b[0m \u001b[1m8s\u001b[0m 592us/step - acc: 0.7873 - loss: 0.6962 - val_acc: 0.7921 - val_loss: 0.6744\n",
      "Epoch 47/200\n",
      "\u001b[1m13600/13600\u001b[0m \u001b[32m━━━━━━━━━━━━━━━━━━━━\u001b[0m\u001b[37m\u001b[0m \u001b[1m9s\u001b[0m 626us/step - acc: 0.7866 - loss: 0.6956 - val_acc: 0.7926 - val_loss: 0.6734\n",
      "Epoch 48/200\n",
      "\u001b[1m13600/13600\u001b[0m \u001b[32m━━━━━━━━━━━━━━━━━━━━\u001b[0m\u001b[37m\u001b[0m \u001b[1m8s\u001b[0m 578us/step - acc: 0.7870 - loss: 0.6960 - val_acc: 0.7924 - val_loss: 0.6742\n",
      "Epoch 49/200\n",
      "\u001b[1m13600/13600\u001b[0m \u001b[32m━━━━━━━━━━━━━━━━━━━━\u001b[0m\u001b[37m\u001b[0m \u001b[1m8s\u001b[0m 584us/step - acc: 0.7873 - loss: 0.6959 - val_acc: 0.7907 - val_loss: 0.6757\n",
      "Epoch 50/200\n",
      "\u001b[1m13600/13600\u001b[0m \u001b[32m━━━━━━━━━━━━━━━━━━━━\u001b[0m\u001b[37m\u001b[0m \u001b[1m8s\u001b[0m 585us/step - acc: 0.7879 - loss: 0.6935 - val_acc: 0.7926 - val_loss: 0.6733\n",
      "Epoch 51/200\n",
      "\u001b[1m13600/13600\u001b[0m \u001b[32m━━━━━━━━━━━━━━━━━━━━\u001b[0m\u001b[37m\u001b[0m \u001b[1m8s\u001b[0m 577us/step - acc: 0.7888 - loss: 0.6920 - val_acc: 0.7916 - val_loss: 0.6751\n",
      "Epoch 52/200\n",
      "\u001b[1m13600/13600\u001b[0m \u001b[32m━━━━━━━━━━━━━━━━━━━━\u001b[0m\u001b[37m\u001b[0m \u001b[1m8s\u001b[0m 581us/step - acc: 0.7874 - loss: 0.6969 - val_acc: 0.7926 - val_loss: 0.6748\n",
      "Epoch 53/200\n",
      "\u001b[1m13600/13600\u001b[0m \u001b[32m━━━━━━━━━━━━━━━━━━━━\u001b[0m\u001b[37m\u001b[0m \u001b[1m8s\u001b[0m 582us/step - acc: 0.7879 - loss: 0.6929 - val_acc: 0.7913 - val_loss: 0.6740\n",
      "Epoch 54/200\n",
      "\u001b[1m13600/13600\u001b[0m \u001b[32m━━━━━━━━━━━━━━━━━━━━\u001b[0m\u001b[37m\u001b[0m \u001b[1m8s\u001b[0m 583us/step - acc: 0.7878 - loss: 0.6955 - val_acc: 0.7914 - val_loss: 0.6730\n",
      "Epoch 55/200\n",
      "\u001b[1m13600/13600\u001b[0m \u001b[32m━━━━━━━━━━━━━━━━━━━━\u001b[0m\u001b[37m\u001b[0m \u001b[1m8s\u001b[0m 587us/step - acc: 0.7874 - loss: 0.6986 - val_acc: 0.7929 - val_loss: 0.6739\n",
      "Epoch 56/200\n",
      "\u001b[1m13600/13600\u001b[0m \u001b[32m━━━━━━━━━━━━━━━━━━━━\u001b[0m\u001b[37m\u001b[0m \u001b[1m8s\u001b[0m 581us/step - acc: 0.7878 - loss: 0.6951 - val_acc: 0.7906 - val_loss: 0.6767\n",
      "Epoch 57/200\n",
      "\u001b[1m13600/13600\u001b[0m \u001b[32m━━━━━━━━━━━━━━━━━━━━\u001b[0m\u001b[37m\u001b[0m \u001b[1m8s\u001b[0m 595us/step - acc: 0.7883 - loss: 0.6934 - val_acc: 0.7909 - val_loss: 0.6750\n",
      "Epoch 58/200\n",
      "\u001b[1m13600/13600\u001b[0m \u001b[32m━━━━━━━━━━━━━━━━━━━━\u001b[0m\u001b[37m\u001b[0m \u001b[1m8s\u001b[0m 585us/step - acc: 0.7877 - loss: 0.6943 - val_acc: 0.7921 - val_loss: 0.6748\n",
      "Epoch 59/200\n",
      "\u001b[1m13600/13600\u001b[0m \u001b[32m━━━━━━━━━━━━━━━━━━━━\u001b[0m\u001b[37m\u001b[0m \u001b[1m8s\u001b[0m 590us/step - acc: 0.7884 - loss: 0.6927 - val_acc: 0.7921 - val_loss: 0.6755\n",
      "Epoch 60/200\n",
      "\u001b[1m13600/13600\u001b[0m \u001b[32m━━━━━━━━━━━━━━━━━━━━\u001b[0m\u001b[37m\u001b[0m \u001b[1m8s\u001b[0m 591us/step - acc: 0.7878 - loss: 0.6951 - val_acc: 0.7916 - val_loss: 0.6735\n",
      "Epoch 61/200\n",
      "\u001b[1m13600/13600\u001b[0m \u001b[32m━━━━━━━━━━━━━━━━━━━━\u001b[0m\u001b[37m\u001b[0m \u001b[1m8s\u001b[0m 585us/step - acc: 0.7879 - loss: 0.6931 - val_acc: 0.7935 - val_loss: 0.6726\n",
      "Epoch 62/200\n",
      "\u001b[1m13600/13600\u001b[0m \u001b[32m━━━━━━━━━━━━━━━━━━━━\u001b[0m\u001b[37m\u001b[0m \u001b[1m8s\u001b[0m 585us/step - acc: 0.7885 - loss: 0.6944 - val_acc: 0.7919 - val_loss: 0.6761\n",
      "Epoch 63/200\n",
      "\u001b[1m13600/13600\u001b[0m \u001b[32m━━━━━━━━━━━━━━━━━━━━\u001b[0m\u001b[37m\u001b[0m \u001b[1m8s\u001b[0m 581us/step - acc: 0.7868 - loss: 0.6951 - val_acc: 0.7922 - val_loss: 0.6744\n",
      "Epoch 64/200\n",
      "\u001b[1m13600/13600\u001b[0m \u001b[32m━━━━━━━━━━━━━━━━━━━━\u001b[0m\u001b[37m\u001b[0m \u001b[1m8s\u001b[0m 582us/step - acc: 0.7874 - loss: 0.6949 - val_acc: 0.7924 - val_loss: 0.6732\n",
      "Epoch 65/200\n",
      "\u001b[1m13600/13600\u001b[0m \u001b[32m━━━━━━━━━━━━━━━━━━━━\u001b[0m\u001b[37m\u001b[0m \u001b[1m8s\u001b[0m 583us/step - acc: 0.7864 - loss: 0.6932 - val_acc: 0.7922 - val_loss: 0.6725\n",
      "Epoch 66/200\n",
      "\u001b[1m13600/13600\u001b[0m \u001b[32m━━━━━━━━━━━━━━━━━━━━\u001b[0m\u001b[37m\u001b[0m \u001b[1m8s\u001b[0m 586us/step - acc: 0.7882 - loss: 0.6913 - val_acc: 0.7917 - val_loss: 0.6733\n",
      "Epoch 67/200\n",
      "\u001b[1m13600/13600\u001b[0m \u001b[32m━━━━━━━━━━━━━━━━━━━━\u001b[0m\u001b[37m\u001b[0m \u001b[1m8s\u001b[0m 587us/step - acc: 0.7884 - loss: 0.6946 - val_acc: 0.7927 - val_loss: 0.6714\n",
      "Epoch 68/200\n",
      "\u001b[1m13600/13600\u001b[0m \u001b[32m━━━━━━━━━━━━━━━━━━━━\u001b[0m\u001b[37m\u001b[0m \u001b[1m8s\u001b[0m 591us/step - acc: 0.7869 - loss: 0.6964 - val_acc: 0.7906 - val_loss: 0.6774\n",
      "Epoch 69/200\n",
      "\u001b[1m13600/13600\u001b[0m \u001b[32m━━━━━━━━━━━━━━━━━━━━\u001b[0m\u001b[37m\u001b[0m \u001b[1m8s\u001b[0m 588us/step - acc: 0.7877 - loss: 0.6942 - val_acc: 0.7916 - val_loss: 0.6742\n",
      "Epoch 70/200\n",
      "\u001b[1m13600/13600\u001b[0m \u001b[32m━━━━━━━━━━━━━━━━━━━━\u001b[0m\u001b[37m\u001b[0m \u001b[1m8s\u001b[0m 587us/step - acc: 0.7884 - loss: 0.6919 - val_acc: 0.7930 - val_loss: 0.6717\n",
      "Epoch 71/200\n",
      "\u001b[1m13600/13600\u001b[0m \u001b[32m━━━━━━━━━━━━━━━━━━━━\u001b[0m\u001b[37m\u001b[0m \u001b[1m8s\u001b[0m 587us/step - acc: 0.7870 - loss: 0.6955 - val_acc: 0.7937 - val_loss: 0.6727\n",
      "Epoch 72/200\n",
      "\u001b[1m13600/13600\u001b[0m \u001b[32m━━━━━━━━━━━━━━━━━━━━\u001b[0m\u001b[37m\u001b[0m \u001b[1m8s\u001b[0m 587us/step - acc: 0.7880 - loss: 0.6955 - val_acc: 0.7927 - val_loss: 0.6732\n",
      "Epoch 73/200\n",
      "\u001b[1m13600/13600\u001b[0m \u001b[32m━━━━━━━━━━━━━━━━━━━━\u001b[0m\u001b[37m\u001b[0m \u001b[1m8s\u001b[0m 578us/step - acc: 0.7873 - loss: 0.6941 - val_acc: 0.7926 - val_loss: 0.6739\n",
      "Epoch 74/200\n",
      "\u001b[1m13600/13600\u001b[0m \u001b[32m━━━━━━━━━━━━━━━━━━━━\u001b[0m\u001b[37m\u001b[0m \u001b[1m8s\u001b[0m 583us/step - acc: 0.7875 - loss: 0.6965 - val_acc: 0.7920 - val_loss: 0.6731\n",
      "Epoch 75/200\n",
      "\u001b[1m13600/13600\u001b[0m \u001b[32m━━━━━━━━━━━━━━━━━━━━\u001b[0m\u001b[37m\u001b[0m \u001b[1m8s\u001b[0m 580us/step - acc: 0.7875 - loss: 0.6964 - val_acc: 0.7926 - val_loss: 0.6734\n",
      "Epoch 76/200\n",
      "\u001b[1m13600/13600\u001b[0m \u001b[32m━━━━━━━━━━━━━━━━━━━━\u001b[0m\u001b[37m\u001b[0m \u001b[1m8s\u001b[0m 589us/step - acc: 0.7878 - loss: 0.6916 - val_acc: 0.7919 - val_loss: 0.6741\n",
      "Epoch 77/200\n",
      "\u001b[1m13600/13600\u001b[0m \u001b[32m━━━━━━━━━━━━━━━━━━━━\u001b[0m\u001b[37m\u001b[0m \u001b[1m8s\u001b[0m 582us/step - acc: 0.7877 - loss: 0.6943 - val_acc: 0.7919 - val_loss: 0.6738\n",
      "Epoch 78/200\n",
      "\u001b[1m13600/13600\u001b[0m \u001b[32m━━━━━━━━━━━━━━━━━━━━\u001b[0m\u001b[37m\u001b[0m \u001b[1m8s\u001b[0m 591us/step - acc: 0.7870 - loss: 0.6965 - val_acc: 0.7918 - val_loss: 0.6751\n",
      "Epoch 79/200\n",
      "\u001b[1m13600/13600\u001b[0m \u001b[32m━━━━━━━━━━━━━━━━━━━━\u001b[0m\u001b[37m\u001b[0m \u001b[1m8s\u001b[0m 590us/step - acc: 0.7876 - loss: 0.6954 - val_acc: 0.7905 - val_loss: 0.6741\n",
      "Epoch 80/200\n",
      "\u001b[1m13600/13600\u001b[0m \u001b[32m━━━━━━━━━━━━━━━━━━━━\u001b[0m\u001b[37m\u001b[0m \u001b[1m8s\u001b[0m 582us/step - acc: 0.7888 - loss: 0.6930 - val_acc: 0.7922 - val_loss: 0.6740\n",
      "Epoch 81/200\n",
      "\u001b[1m13600/13600\u001b[0m \u001b[32m━━━━━━━━━━━━━━━━━━━━\u001b[0m\u001b[37m\u001b[0m \u001b[1m8s\u001b[0m 582us/step - acc: 0.7877 - loss: 0.6944 - val_acc: 0.7922 - val_loss: 0.6735\n",
      "Epoch 82/200\n",
      "\u001b[1m13600/13600\u001b[0m \u001b[32m━━━━━━━━━━━━━━━━━━━━\u001b[0m\u001b[37m\u001b[0m \u001b[1m8s\u001b[0m 590us/step - acc: 0.7873 - loss: 0.6958 - val_acc: 0.7916 - val_loss: 0.6750\n",
      "Epoch 83/200\n",
      "\u001b[1m13600/13600\u001b[0m \u001b[32m━━━━━━━━━━━━━━━━━━━━\u001b[0m\u001b[37m\u001b[0m \u001b[1m8s\u001b[0m 589us/step - acc: 0.7874 - loss: 0.6948 - val_acc: 0.7929 - val_loss: 0.6725\n",
      "Epoch 84/200\n",
      "\u001b[1m13600/13600\u001b[0m \u001b[32m━━━━━━━━━━━━━━━━━━━━\u001b[0m\u001b[37m\u001b[0m \u001b[1m8s\u001b[0m 584us/step - acc: 0.7880 - loss: 0.6917 - val_acc: 0.7929 - val_loss: 0.6714\n",
      "Epoch 85/200\n",
      "\u001b[1m13600/13600\u001b[0m \u001b[32m━━━━━━━━━━━━━━━━━━━━\u001b[0m\u001b[37m\u001b[0m \u001b[1m8s\u001b[0m 583us/step - acc: 0.7870 - loss: 0.6945 - val_acc: 0.7928 - val_loss: 0.6724\n",
      "Epoch 86/200\n",
      "\u001b[1m13600/13600\u001b[0m \u001b[32m━━━━━━━━━━━━━━━━━━━━\u001b[0m\u001b[37m\u001b[0m \u001b[1m8s\u001b[0m 589us/step - acc: 0.7880 - loss: 0.6941 - val_acc: 0.7915 - val_loss: 0.6752\n",
      "Epoch 87/200\n",
      "\u001b[1m13600/13600\u001b[0m \u001b[32m━━━━━━━━━━━━━━━━━━━━\u001b[0m\u001b[37m\u001b[0m \u001b[1m8s\u001b[0m 587us/step - acc: 0.7867 - loss: 0.6974 - val_acc: 0.7922 - val_loss: 0.6747\n",
      "Epoch 88/200\n",
      "\u001b[1m13600/13600\u001b[0m \u001b[32m━━━━━━━━━━━━━━━━━━━━\u001b[0m\u001b[37m\u001b[0m \u001b[1m8s\u001b[0m 589us/step - acc: 0.7874 - loss: 0.6963 - val_acc: 0.7923 - val_loss: 0.6741\n",
      "Epoch 89/200\n",
      "\u001b[1m13600/13600\u001b[0m \u001b[32m━━━━━━━━━━━━━━━━━━━━\u001b[0m\u001b[37m\u001b[0m \u001b[1m8s\u001b[0m 587us/step - acc: 0.7872 - loss: 0.6974 - val_acc: 0.7933 - val_loss: 0.6718\n",
      "Epoch 90/200\n",
      "\u001b[1m13600/13600\u001b[0m \u001b[32m━━━━━━━━━━━━━━━━━━━━\u001b[0m\u001b[37m\u001b[0m \u001b[1m8s\u001b[0m 584us/step - acc: 0.7879 - loss: 0.6935 - val_acc: 0.7923 - val_loss: 0.6740\n",
      "Epoch 91/200\n",
      "\u001b[1m13600/13600\u001b[0m \u001b[32m━━━━━━━━━━━━━━━━━━━━\u001b[0m\u001b[37m\u001b[0m \u001b[1m8s\u001b[0m 589us/step - acc: 0.7874 - loss: 0.6957 - val_acc: 0.7927 - val_loss: 0.6722\n",
      "Epoch 92/200\n",
      "\u001b[1m13600/13600\u001b[0m \u001b[32m━━━━━━━━━━━━━━━━━━━━\u001b[0m\u001b[37m\u001b[0m \u001b[1m8s\u001b[0m 592us/step - acc: 0.7876 - loss: 0.6964 - val_acc: 0.7932 - val_loss: 0.6726\n",
      "Epoch 93/200\n",
      "\u001b[1m13600/13600\u001b[0m \u001b[32m━━━━━━━━━━━━━━━━━━━━\u001b[0m\u001b[37m\u001b[0m \u001b[1m8s\u001b[0m 589us/step - acc: 0.7872 - loss: 0.6978 - val_acc: 0.7937 - val_loss: 0.6729\n",
      "Epoch 94/200\n",
      "\u001b[1m13600/13600\u001b[0m \u001b[32m━━━━━━━━━━━━━━━━━━━━\u001b[0m\u001b[37m\u001b[0m \u001b[1m8s\u001b[0m 590us/step - acc: 0.7880 - loss: 0.6980 - val_acc: 0.7919 - val_loss: 0.6722\n",
      "Epoch 95/200\n",
      "\u001b[1m13600/13600\u001b[0m \u001b[32m━━━━━━━━━━━━━━━━━━━━\u001b[0m\u001b[37m\u001b[0m \u001b[1m8s\u001b[0m 592us/step - acc: 0.7865 - loss: 0.6948 - val_acc: 0.7926 - val_loss: 0.6736\n",
      "Epoch 96/200\n",
      "\u001b[1m13600/13600\u001b[0m \u001b[32m━━━━━━━━━━━━━━━━━━━━\u001b[0m\u001b[37m\u001b[0m \u001b[1m8s\u001b[0m 593us/step - acc: 0.7878 - loss: 0.6958 - val_acc: 0.7914 - val_loss: 0.6763\n",
      "Epoch 97/200\n",
      "\u001b[1m13600/13600\u001b[0m \u001b[32m━━━━━━━━━━━━━━━━━━━━\u001b[0m\u001b[37m\u001b[0m \u001b[1m8s\u001b[0m 582us/step - acc: 0.7884 - loss: 0.6947 - val_acc: 0.7924 - val_loss: 0.6752\n",
      "Epoch 98/200\n",
      "\u001b[1m13600/13600\u001b[0m \u001b[32m━━━━━━━━━━━━━━━━━━━━\u001b[0m\u001b[37m\u001b[0m \u001b[1m8s\u001b[0m 587us/step - acc: 0.7877 - loss: 0.6968 - val_acc: 0.7925 - val_loss: 0.6722\n",
      "Epoch 99/200\n",
      "\u001b[1m13600/13600\u001b[0m \u001b[32m━━━━━━━━━━━━━━━━━━━━\u001b[0m\u001b[37m\u001b[0m \u001b[1m8s\u001b[0m 591us/step - acc: 0.7872 - loss: 0.6962 - val_acc: 0.7911 - val_loss: 0.6743\n",
      "Epoch 100/200\n",
      "\u001b[1m13600/13600\u001b[0m \u001b[32m━━━━━━━━━━━━━━━━━━━━\u001b[0m\u001b[37m\u001b[0m \u001b[1m8s\u001b[0m 591us/step - acc: 0.7869 - loss: 0.6961 - val_acc: 0.7891 - val_loss: 0.6774\n",
      "Epoch 101/200\n",
      "\u001b[1m13600/13600\u001b[0m \u001b[32m━━━━━━━━━━━━━━━━━━━━\u001b[0m\u001b[37m\u001b[0m \u001b[1m8s\u001b[0m 591us/step - acc: 0.7873 - loss: 0.6946 - val_acc: 0.7900 - val_loss: 0.6784\n",
      "Epoch 102/200\n",
      "\u001b[1m13600/13600\u001b[0m \u001b[32m━━━━━━━━━━━━━━━━━━━━\u001b[0m\u001b[37m\u001b[0m \u001b[1m8s\u001b[0m 584us/step - acc: 0.7881 - loss: 0.6940 - val_acc: 0.7927 - val_loss: 0.6741\n",
      "Epoch 103/200\n",
      "\u001b[1m13600/13600\u001b[0m \u001b[32m━━━━━━━━━━━━━━━━━━━━\u001b[0m\u001b[37m\u001b[0m \u001b[1m8s\u001b[0m 586us/step - acc: 0.7877 - loss: 0.6960 - val_acc: 0.7900 - val_loss: 0.6757\n",
      "Epoch 104/200\n",
      "\u001b[1m13600/13600\u001b[0m \u001b[32m━━━━━━━━━━━━━━━━━━━━\u001b[0m\u001b[37m\u001b[0m \u001b[1m8s\u001b[0m 589us/step - acc: 0.7869 - loss: 0.6976 - val_acc: 0.7917 - val_loss: 0.6739\n",
      "Epoch 105/200\n",
      "\u001b[1m13600/13600\u001b[0m \u001b[32m━━━━━━━━━━━━━━━━━━━━\u001b[0m\u001b[37m\u001b[0m \u001b[1m8s\u001b[0m 584us/step - acc: 0.7876 - loss: 0.6995 - val_acc: 0.7935 - val_loss: 0.6714\n",
      "Epoch 106/200\n",
      "\u001b[1m13600/13600\u001b[0m \u001b[32m━━━━━━━━━━━━━━━━━━━━\u001b[0m\u001b[37m\u001b[0m \u001b[1m8s\u001b[0m 585us/step - acc: 0.7893 - loss: 0.6914 - val_acc: 0.7925 - val_loss: 0.6730\n",
      "Epoch 107/200\n",
      "\u001b[1m13600/13600\u001b[0m \u001b[32m━━━━━━━━━━━━━━━━━━━━\u001b[0m\u001b[37m\u001b[0m \u001b[1m8s\u001b[0m 586us/step - acc: 0.7873 - loss: 0.6953 - val_acc: 0.7911 - val_loss: 0.6772\n",
      "Epoch 108/200\n",
      "\u001b[1m13600/13600\u001b[0m \u001b[32m━━━━━━━━━━━━━━━━━━━━\u001b[0m\u001b[37m\u001b[0m \u001b[1m8s\u001b[0m 592us/step - acc: 0.7875 - loss: 0.6979 - val_acc: 0.7922 - val_loss: 0.6751\n",
      "Epoch 109/200\n",
      "\u001b[1m13600/13600\u001b[0m \u001b[32m━━━━━━━━━━━━━━━━━━━━\u001b[0m\u001b[37m\u001b[0m \u001b[1m8s\u001b[0m 582us/step - acc: 0.7883 - loss: 0.6939 - val_acc: 0.7936 - val_loss: 0.6722\n",
      "Epoch 110/200\n",
      "\u001b[1m13600/13600\u001b[0m \u001b[32m━━━━━━━━━━━━━━━━━━━━\u001b[0m\u001b[37m\u001b[0m \u001b[1m8s\u001b[0m 585us/step - acc: 0.7865 - loss: 0.6979 - val_acc: 0.7914 - val_loss: 0.6752\n",
      "Epoch 111/200\n",
      "\u001b[1m13600/13600\u001b[0m \u001b[32m━━━━━━━━━━━━━━━━━━━━\u001b[0m\u001b[37m\u001b[0m \u001b[1m8s\u001b[0m 594us/step - acc: 0.7881 - loss: 0.6929 - val_acc: 0.7919 - val_loss: 0.6737\n",
      "Epoch 112/200\n",
      "\u001b[1m13600/13600\u001b[0m \u001b[32m━━━━━━━━━━━━━━━━━━━━\u001b[0m\u001b[37m\u001b[0m \u001b[1m8s\u001b[0m 583us/step - acc: 0.7877 - loss: 0.6946 - val_acc: 0.7918 - val_loss: 0.6764\n",
      "Epoch 113/200\n",
      "\u001b[1m13600/13600\u001b[0m \u001b[32m━━━━━━━━━━━━━━━━━━━━\u001b[0m\u001b[37m\u001b[0m \u001b[1m8s\u001b[0m 581us/step - acc: 0.7864 - loss: 0.6967 - val_acc: 0.7919 - val_loss: 0.6753\n",
      "Epoch 114/200\n",
      "\u001b[1m13600/13600\u001b[0m \u001b[32m━━━━━━━━━━━━━━━━━━━━\u001b[0m\u001b[37m\u001b[0m \u001b[1m8s\u001b[0m 582us/step - acc: 0.7860 - loss: 0.6975 - val_acc: 0.7926 - val_loss: 0.6751\n",
      "Epoch 115/200\n",
      "\u001b[1m13600/13600\u001b[0m \u001b[32m━━━━━━━━━━━━━━━━━━━━\u001b[0m\u001b[37m\u001b[0m \u001b[1m8s\u001b[0m 590us/step - acc: 0.7878 - loss: 0.6939 - val_acc: 0.7930 - val_loss: 0.6735\n",
      "Epoch 116/200\n",
      "\u001b[1m13600/13600\u001b[0m \u001b[32m━━━━━━━━━━━━━━━━━━━━\u001b[0m\u001b[37m\u001b[0m \u001b[1m8s\u001b[0m 592us/step - acc: 0.7876 - loss: 0.6950 - val_acc: 0.7922 - val_loss: 0.6733\n",
      "Epoch 117/200\n",
      "\u001b[1m13600/13600\u001b[0m \u001b[32m━━━━━━━━━━━━━━━━━━━━\u001b[0m\u001b[37m\u001b[0m \u001b[1m8s\u001b[0m 594us/step - acc: 0.7887 - loss: 0.6915 - val_acc: 0.7920 - val_loss: 0.6752\n",
      "Epoch 118/200\n",
      "\u001b[1m13600/13600\u001b[0m \u001b[32m━━━━━━━━━━━━━━━━━━━━\u001b[0m\u001b[37m\u001b[0m \u001b[1m8s\u001b[0m 591us/step - acc: 0.7882 - loss: 0.6945 - val_acc: 0.7919 - val_loss: 0.6732\n",
      "Epoch 119/200\n",
      "\u001b[1m13600/13600\u001b[0m \u001b[32m━━━━━━━━━━━━━━━━━━━━\u001b[0m\u001b[37m\u001b[0m \u001b[1m8s\u001b[0m 589us/step - acc: 0.7870 - loss: 0.6967 - val_acc: 0.7908 - val_loss: 0.6779\n",
      "Epoch 120/200\n",
      "\u001b[1m13600/13600\u001b[0m \u001b[32m━━━━━━━━━━━━━━━━━━━━\u001b[0m\u001b[37m\u001b[0m \u001b[1m8s\u001b[0m 589us/step - acc: 0.7879 - loss: 0.6961 - val_acc: 0.7922 - val_loss: 0.6719\n",
      "Epoch 121/200\n",
      "\u001b[1m13600/13600\u001b[0m \u001b[32m━━━━━━━━━━━━━━━━━━━━\u001b[0m\u001b[37m\u001b[0m \u001b[1m8s\u001b[0m 588us/step - acc: 0.7884 - loss: 0.6942 - val_acc: 0.7917 - val_loss: 0.6774\n",
      "Epoch 122/200\n",
      "\u001b[1m13600/13600\u001b[0m \u001b[32m━━━━━━━━━━━━━━━━━━━━\u001b[0m\u001b[37m\u001b[0m \u001b[1m8s\u001b[0m 583us/step - acc: 0.7877 - loss: 0.6929 - val_acc: 0.7917 - val_loss: 0.6758\n",
      "Epoch 123/200\n",
      "\u001b[1m13600/13600\u001b[0m \u001b[32m━━━━━━━━━━━━━━━━━━━━\u001b[0m\u001b[37m\u001b[0m \u001b[1m8s\u001b[0m 593us/step - acc: 0.7884 - loss: 0.6941 - val_acc: 0.7922 - val_loss: 0.6741\n",
      "Epoch 124/200\n",
      "\u001b[1m13600/13600\u001b[0m \u001b[32m━━━━━━━━━━━━━━━━━━━━\u001b[0m\u001b[37m\u001b[0m \u001b[1m8s\u001b[0m 585us/step - acc: 0.7881 - loss: 0.6925 - val_acc: 0.7927 - val_loss: 0.6738\n",
      "Epoch 125/200\n",
      "\u001b[1m13600/13600\u001b[0m \u001b[32m━━━━━━━━━━━━━━━━━━━━\u001b[0m\u001b[37m\u001b[0m \u001b[1m8s\u001b[0m 592us/step - acc: 0.7875 - loss: 0.6964 - val_acc: 0.7921 - val_loss: 0.6735\n",
      "Epoch 126/200\n",
      "\u001b[1m13600/13600\u001b[0m \u001b[32m━━━━━━━━━━━━━━━━━━━━\u001b[0m\u001b[37m\u001b[0m \u001b[1m8s\u001b[0m 595us/step - acc: 0.7872 - loss: 0.6973 - val_acc: 0.7928 - val_loss: 0.6731\n",
      "Epoch 127/200\n",
      "\u001b[1m13600/13600\u001b[0m \u001b[32m━━━━━━━━━━━━━━━━━━━━\u001b[0m\u001b[37m\u001b[0m \u001b[1m8s\u001b[0m 584us/step - acc: 0.7875 - loss: 0.6967 - val_acc: 0.7925 - val_loss: 0.6726\n",
      "Epoch 128/200\n",
      "\u001b[1m13600/13600\u001b[0m \u001b[32m━━━━━━━━━━━━━━━━━━━━\u001b[0m\u001b[37m\u001b[0m \u001b[1m8s\u001b[0m 592us/step - acc: 0.7879 - loss: 0.6972 - val_acc: 0.7934 - val_loss: 0.6732\n",
      "Epoch 129/200\n",
      "\u001b[1m13600/13600\u001b[0m \u001b[32m━━━━━━━━━━━━━━━━━━━━\u001b[0m\u001b[37m\u001b[0m \u001b[1m8s\u001b[0m 588us/step - acc: 0.7874 - loss: 0.6964 - val_acc: 0.7922 - val_loss: 0.6739\n",
      "Epoch 130/200\n",
      "\u001b[1m13600/13600\u001b[0m \u001b[32m━━━━━━━━━━━━━━━━━━━━\u001b[0m\u001b[37m\u001b[0m \u001b[1m8s\u001b[0m 590us/step - acc: 0.7879 - loss: 0.6939 - val_acc: 0.7909 - val_loss: 0.6749\n",
      "Epoch 131/200\n",
      "\u001b[1m13600/13600\u001b[0m \u001b[32m━━━━━━━━━━━━━━━━━━━━\u001b[0m\u001b[37m\u001b[0m \u001b[1m8s\u001b[0m 585us/step - acc: 0.7875 - loss: 0.6962 - val_acc: 0.7927 - val_loss: 0.6730\n",
      "Epoch 132/200\n",
      "\u001b[1m13600/13600\u001b[0m \u001b[32m━━━━━━━━━━━━━━━━━━━━\u001b[0m\u001b[37m\u001b[0m \u001b[1m8s\u001b[0m 596us/step - acc: 0.7883 - loss: 0.6952 - val_acc: 0.7915 - val_loss: 0.6753\n",
      "Epoch 133/200\n",
      "\u001b[1m13600/13600\u001b[0m \u001b[32m━━━━━━━━━━━━━━━━━━━━\u001b[0m\u001b[37m\u001b[0m \u001b[1m8s\u001b[0m 590us/step - acc: 0.7871 - loss: 0.6970 - val_acc: 0.7925 - val_loss: 0.6740\n",
      "Epoch 134/200\n",
      "\u001b[1m13600/13600\u001b[0m \u001b[32m━━━━━━━━━━━━━━━━━━━━\u001b[0m\u001b[37m\u001b[0m \u001b[1m8s\u001b[0m 589us/step - acc: 0.7870 - loss: 0.6967 - val_acc: 0.7925 - val_loss: 0.6741\n",
      "Epoch 135/200\n",
      "\u001b[1m13600/13600\u001b[0m \u001b[32m━━━━━━━━━━━━━━━━━━━━\u001b[0m\u001b[37m\u001b[0m \u001b[1m8s\u001b[0m 588us/step - acc: 0.7881 - loss: 0.6944 - val_acc: 0.7927 - val_loss: 0.6732\n",
      "Epoch 136/200\n",
      "\u001b[1m13600/13600\u001b[0m \u001b[32m━━━━━━━━━━━━━━━━━━━━\u001b[0m\u001b[37m\u001b[0m \u001b[1m8s\u001b[0m 590us/step - acc: 0.7865 - loss: 0.6980 - val_acc: 0.7913 - val_loss: 0.6755\n",
      "Epoch 137/200\n",
      "\u001b[1m13600/13600\u001b[0m \u001b[32m━━━━━━━━━━━━━━━━━━━━\u001b[0m\u001b[37m\u001b[0m \u001b[1m8s\u001b[0m 588us/step - acc: 0.7880 - loss: 0.6960 - val_acc: 0.7917 - val_loss: 0.6727\n",
      "Epoch 138/200\n",
      "\u001b[1m13600/13600\u001b[0m \u001b[32m━━━━━━━━━━━━━━━━━━━━\u001b[0m\u001b[37m\u001b[0m \u001b[1m8s\u001b[0m 590us/step - acc: 0.7876 - loss: 0.6955 - val_acc: 0.7926 - val_loss: 0.6725\n",
      "Epoch 139/200\n",
      "\u001b[1m13600/13600\u001b[0m \u001b[32m━━━━━━━━━━━━━━━━━━━━\u001b[0m\u001b[37m\u001b[0m \u001b[1m8s\u001b[0m 584us/step - acc: 0.7872 - loss: 0.6981 - val_acc: 0.7926 - val_loss: 0.6722\n",
      "Epoch 140/200\n",
      "\u001b[1m13600/13600\u001b[0m \u001b[32m━━━━━━━━━━━━━━━━━━━━\u001b[0m\u001b[37m\u001b[0m \u001b[1m8s\u001b[0m 590us/step - acc: 0.7881 - loss: 0.6954 - val_acc: 0.7931 - val_loss: 0.6721\n",
      "Epoch 141/200\n",
      "\u001b[1m13600/13600\u001b[0m \u001b[32m━━━━━━━━━━━━━━━━━━━━\u001b[0m\u001b[37m\u001b[0m \u001b[1m8s\u001b[0m 586us/step - acc: 0.7879 - loss: 0.6945 - val_acc: 0.7923 - val_loss: 0.6752\n",
      "Epoch 142/200\n",
      "\u001b[1m13600/13600\u001b[0m \u001b[32m━━━━━━━━━━━━━━━━━━━━\u001b[0m\u001b[37m\u001b[0m \u001b[1m8s\u001b[0m 588us/step - acc: 0.7878 - loss: 0.6980 - val_acc: 0.7922 - val_loss: 0.6730\n",
      "Epoch 143/200\n",
      "\u001b[1m13600/13600\u001b[0m \u001b[32m━━━━━━━━━━━━━━━━━━━━\u001b[0m\u001b[37m\u001b[0m \u001b[1m8s\u001b[0m 588us/step - acc: 0.7866 - loss: 0.6999 - val_acc: 0.7931 - val_loss: 0.6725\n",
      "Epoch 144/200\n",
      "\u001b[1m13600/13600\u001b[0m \u001b[32m━━━━━━━━━━━━━━━━━━━━\u001b[0m\u001b[37m\u001b[0m \u001b[1m8s\u001b[0m 591us/step - acc: 0.7884 - loss: 0.6947 - val_acc: 0.7928 - val_loss: 0.6729\n",
      "Epoch 145/200\n",
      "\u001b[1m13600/13600\u001b[0m \u001b[32m━━━━━━━━━━━━━━━━━━━━\u001b[0m\u001b[37m\u001b[0m \u001b[1m8s\u001b[0m 588us/step - acc: 0.7886 - loss: 0.6935 - val_acc: 0.7924 - val_loss: 0.6727\n",
      "Epoch 146/200\n",
      "\u001b[1m13600/13600\u001b[0m \u001b[32m━━━━━━━━━━━━━━━━━━━━\u001b[0m\u001b[37m\u001b[0m \u001b[1m8s\u001b[0m 584us/step - acc: 0.7887 - loss: 0.6958 - val_acc: 0.7923 - val_loss: 0.6724\n",
      "Epoch 147/200\n",
      "\u001b[1m13600/13600\u001b[0m \u001b[32m━━━━━━━━━━━━━━━━━━━━\u001b[0m\u001b[37m\u001b[0m \u001b[1m8s\u001b[0m 588us/step - acc: 0.7872 - loss: 0.6969 - val_acc: 0.7927 - val_loss: 0.6723\n",
      "Epoch 148/200\n",
      "\u001b[1m13600/13600\u001b[0m \u001b[32m━━━━━━━━━━━━━━━━━━━━\u001b[0m\u001b[37m\u001b[0m \u001b[1m8s\u001b[0m 591us/step - acc: 0.7877 - loss: 0.6956 - val_acc: 0.7931 - val_loss: 0.6729\n",
      "Epoch 149/200\n",
      "\u001b[1m13600/13600\u001b[0m \u001b[32m━━━━━━━━━━━━━━━━━━━━\u001b[0m\u001b[37m\u001b[0m \u001b[1m8s\u001b[0m 592us/step - acc: 0.7883 - loss: 0.6929 - val_acc: 0.7924 - val_loss: 0.6728\n",
      "Epoch 150/200\n",
      "\u001b[1m13600/13600\u001b[0m \u001b[32m━━━━━━━━━━━━━━━━━━━━\u001b[0m\u001b[37m\u001b[0m \u001b[1m8s\u001b[0m 598us/step - acc: 0.7873 - loss: 0.6984 - val_acc: 0.7933 - val_loss: 0.6733\n",
      "Epoch 151/200\n",
      "\u001b[1m13600/13600\u001b[0m \u001b[32m━━━━━━━━━━━━━━━━━━━━\u001b[0m\u001b[37m\u001b[0m \u001b[1m8s\u001b[0m 594us/step - acc: 0.7872 - loss: 0.6967 - val_acc: 0.7916 - val_loss: 0.6743\n",
      "Epoch 152/200\n",
      "\u001b[1m13600/13600\u001b[0m \u001b[32m━━━━━━━━━━━━━━━━━━━━\u001b[0m\u001b[37m\u001b[0m \u001b[1m8s\u001b[0m 589us/step - acc: 0.7873 - loss: 0.6961 - val_acc: 0.7921 - val_loss: 0.6746\n",
      "Epoch 153/200\n",
      "\u001b[1m13600/13600\u001b[0m \u001b[32m━━━━━━━━━━━━━━━━━━━━\u001b[0m\u001b[37m\u001b[0m \u001b[1m8s\u001b[0m 594us/step - acc: 0.7882 - loss: 0.6954 - val_acc: 0.7933 - val_loss: 0.6730\n",
      "Epoch 154/200\n",
      "\u001b[1m13600/13600\u001b[0m \u001b[32m━━━━━━━━━━━━━━━━━━━━\u001b[0m\u001b[37m\u001b[0m \u001b[1m8s\u001b[0m 594us/step - acc: 0.7871 - loss: 0.6972 - val_acc: 0.7933 - val_loss: 0.6736\n",
      "Epoch 155/200\n",
      "\u001b[1m13600/13600\u001b[0m \u001b[32m━━━━━━━━━━━━━━━━━━━━\u001b[0m\u001b[37m\u001b[0m \u001b[1m8s\u001b[0m 590us/step - acc: 0.7867 - loss: 0.6985 - val_acc: 0.7919 - val_loss: 0.6740\n",
      "Epoch 156/200\n",
      "\u001b[1m13600/13600\u001b[0m \u001b[32m━━━━━━━━━━━━━━━━━━━━\u001b[0m\u001b[37m\u001b[0m \u001b[1m8s\u001b[0m 588us/step - acc: 0.7875 - loss: 0.6961 - val_acc: 0.7918 - val_loss: 0.6731\n",
      "Epoch 157/200\n",
      "\u001b[1m13600/13600\u001b[0m \u001b[32m━━━━━━━━━━━━━━━━━━━━\u001b[0m\u001b[37m\u001b[0m \u001b[1m8s\u001b[0m 594us/step - acc: 0.7881 - loss: 0.6940 - val_acc: 0.7924 - val_loss: 0.6746\n",
      "Epoch 158/200\n",
      "\u001b[1m13600/13600\u001b[0m \u001b[32m━━━━━━━━━━━━━━━━━━━━\u001b[0m\u001b[37m\u001b[0m \u001b[1m8s\u001b[0m 594us/step - acc: 0.7878 - loss: 0.6954 - val_acc: 0.7924 - val_loss: 0.6741\n",
      "Epoch 159/200\n",
      "\u001b[1m13600/13600\u001b[0m \u001b[32m━━━━━━━━━━━━━━━━━━━━\u001b[0m\u001b[37m\u001b[0m \u001b[1m8s\u001b[0m 593us/step - acc: 0.7880 - loss: 0.6965 - val_acc: 0.7929 - val_loss: 0.6733\n",
      "Epoch 160/200\n",
      "\u001b[1m13600/13600\u001b[0m \u001b[32m━━━━━━━━━━━━━━━━━━━━\u001b[0m\u001b[37m\u001b[0m \u001b[1m8s\u001b[0m 590us/step - acc: 0.7878 - loss: 0.6978 - val_acc: 0.7923 - val_loss: 0.6768\n",
      "Epoch 161/200\n",
      "\u001b[1m13600/13600\u001b[0m \u001b[32m━━━━━━━━━━━━━━━━━━━━\u001b[0m\u001b[37m\u001b[0m \u001b[1m8s\u001b[0m 596us/step - acc: 0.7877 - loss: 0.6947 - val_acc: 0.7915 - val_loss: 0.6742\n",
      "Epoch 162/200\n",
      "\u001b[1m13600/13600\u001b[0m \u001b[32m━━━━━━━━━━━━━━━━━━━━\u001b[0m\u001b[37m\u001b[0m \u001b[1m8s\u001b[0m 588us/step - acc: 0.7865 - loss: 0.6986 - val_acc: 0.7927 - val_loss: 0.6749\n",
      "Epoch 163/200\n",
      "\u001b[1m13600/13600\u001b[0m \u001b[32m━━━━━━━━━━━━━━━━━━━━\u001b[0m\u001b[37m\u001b[0m \u001b[1m8s\u001b[0m 587us/step - acc: 0.7868 - loss: 0.6984 - val_acc: 0.7927 - val_loss: 0.6725\n",
      "Epoch 164/200\n",
      "\u001b[1m13600/13600\u001b[0m \u001b[32m━━━━━━━━━━━━━━━━━━━━\u001b[0m\u001b[37m\u001b[0m \u001b[1m8s\u001b[0m 596us/step - acc: 0.7889 - loss: 0.6949 - val_acc: 0.7930 - val_loss: 0.6718\n",
      "Epoch 165/200\n",
      "\u001b[1m13600/13600\u001b[0m \u001b[32m━━━━━━━━━━━━━━━━━━━━\u001b[0m\u001b[37m\u001b[0m \u001b[1m8s\u001b[0m 590us/step - acc: 0.7888 - loss: 0.6941 - val_acc: 0.7905 - val_loss: 0.6764\n",
      "Epoch 166/200\n",
      "\u001b[1m13600/13600\u001b[0m \u001b[32m━━━━━━━━━━━━━━━━━━━━\u001b[0m\u001b[37m\u001b[0m \u001b[1m8s\u001b[0m 599us/step - acc: 0.7861 - loss: 0.6966 - val_acc: 0.7925 - val_loss: 0.6757\n",
      "Epoch 167/200\n",
      "\u001b[1m13600/13600\u001b[0m \u001b[32m━━━━━━━━━━━━━━━━━━━━\u001b[0m\u001b[37m\u001b[0m \u001b[1m8s\u001b[0m 602us/step - acc: 0.7882 - loss: 0.6989 - val_acc: 0.7925 - val_loss: 0.6728\n",
      "Epoch 168/200\n",
      "\u001b[1m13600/13600\u001b[0m \u001b[32m━━━━━━━━━━━━━━━━━━━━\u001b[0m\u001b[37m\u001b[0m \u001b[1m8s\u001b[0m 593us/step - acc: 0.7870 - loss: 0.6966 - val_acc: 0.7922 - val_loss: 0.6736\n",
      "Epoch 169/200\n",
      "\u001b[1m13600/13600\u001b[0m \u001b[32m━━━━━━━━━━━━━━━━━━━━\u001b[0m\u001b[37m\u001b[0m \u001b[1m8s\u001b[0m 591us/step - acc: 0.7873 - loss: 0.6969 - val_acc: 0.7925 - val_loss: 0.6742\n",
      "Epoch 170/200\n",
      "\u001b[1m13600/13600\u001b[0m \u001b[32m━━━━━━━━━━━━━━━━━━━━\u001b[0m\u001b[37m\u001b[0m \u001b[1m8s\u001b[0m 595us/step - acc: 0.7871 - loss: 0.6966 - val_acc: 0.7926 - val_loss: 0.6758\n",
      "Epoch 171/200\n",
      "\u001b[1m13600/13600\u001b[0m \u001b[32m━━━━━━━━━━━━━━━━━━━━\u001b[0m\u001b[37m\u001b[0m \u001b[1m8s\u001b[0m 598us/step - acc: 0.7873 - loss: 0.6996 - val_acc: 0.7920 - val_loss: 0.6745\n",
      "Epoch 172/200\n",
      "\u001b[1m13600/13600\u001b[0m \u001b[32m━━━━━━━━━━━━━━━━━━━━\u001b[0m\u001b[37m\u001b[0m \u001b[1m8s\u001b[0m 593us/step - acc: 0.7883 - loss: 0.6943 - val_acc: 0.7933 - val_loss: 0.6726\n",
      "Epoch 173/200\n",
      "\u001b[1m13600/13600\u001b[0m \u001b[32m━━━━━━━━━━━━━━━━━━━━\u001b[0m\u001b[37m\u001b[0m \u001b[1m8s\u001b[0m 597us/step - acc: 0.7878 - loss: 0.6961 - val_acc: 0.7933 - val_loss: 0.6738\n",
      "Epoch 174/200\n",
      "\u001b[1m13600/13600\u001b[0m \u001b[32m━━━━━━━━━━━━━━━━━━━━\u001b[0m\u001b[37m\u001b[0m \u001b[1m8s\u001b[0m 594us/step - acc: 0.7880 - loss: 0.6957 - val_acc: 0.7920 - val_loss: 0.6722\n",
      "Epoch 175/200\n",
      "\u001b[1m13600/13600\u001b[0m \u001b[32m━━━━━━━━━━━━━━━━━━━━\u001b[0m\u001b[37m\u001b[0m \u001b[1m8s\u001b[0m 596us/step - acc: 0.7875 - loss: 0.6952 - val_acc: 0.7924 - val_loss: 0.6721\n",
      "Epoch 176/200\n",
      "\u001b[1m13600/13600\u001b[0m \u001b[32m━━━━━━━━━━━━━━━━━━━━\u001b[0m\u001b[37m\u001b[0m \u001b[1m8s\u001b[0m 598us/step - acc: 0.7878 - loss: 0.6950 - val_acc: 0.7913 - val_loss: 0.6747\n",
      "Epoch 177/200\n",
      "\u001b[1m13600/13600\u001b[0m \u001b[32m━━━━━━━━━━━━━━━━━━━━\u001b[0m\u001b[37m\u001b[0m \u001b[1m8s\u001b[0m 597us/step - acc: 0.7876 - loss: 0.6961 - val_acc: 0.7935 - val_loss: 0.6735\n",
      "Epoch 178/200\n",
      "\u001b[1m13600/13600\u001b[0m \u001b[32m━━━━━━━━━━━━━━━━━━━━\u001b[0m\u001b[37m\u001b[0m \u001b[1m8s\u001b[0m 600us/step - acc: 0.7883 - loss: 0.6960 - val_acc: 0.7922 - val_loss: 0.6725\n",
      "Epoch 179/200\n",
      "\u001b[1m13600/13600\u001b[0m \u001b[32m━━━━━━━━━━━━━━━━━━━━\u001b[0m\u001b[37m\u001b[0m \u001b[1m8s\u001b[0m 596us/step - acc: 0.7877 - loss: 0.6993 - val_acc: 0.7928 - val_loss: 0.6732\n",
      "Epoch 180/200\n",
      "\u001b[1m13600/13600\u001b[0m \u001b[32m━━━━━━━━━━━━━━━━━━━━\u001b[0m\u001b[37m\u001b[0m \u001b[1m8s\u001b[0m 592us/step - acc: 0.7877 - loss: 0.6977 - val_acc: 0.7934 - val_loss: 0.6728\n",
      "Epoch 181/200\n",
      "\u001b[1m13600/13600\u001b[0m \u001b[32m━━━━━━━━━━━━━━━━━━━━\u001b[0m\u001b[37m\u001b[0m \u001b[1m8s\u001b[0m 594us/step - acc: 0.7876 - loss: 0.6982 - val_acc: 0.7925 - val_loss: 0.6739\n",
      "Epoch 182/200\n",
      "\u001b[1m13600/13600\u001b[0m \u001b[32m━━━━━━━━━━━━━━━━━━━━\u001b[0m\u001b[37m\u001b[0m \u001b[1m8s\u001b[0m 599us/step - acc: 0.7874 - loss: 0.6943 - val_acc: 0.7928 - val_loss: 0.6722\n",
      "Epoch 183/200\n",
      "\u001b[1m13600/13600\u001b[0m \u001b[32m━━━━━━━━━━━━━━━━━━━━\u001b[0m\u001b[37m\u001b[0m \u001b[1m8s\u001b[0m 590us/step - acc: 0.7879 - loss: 0.6980 - val_acc: 0.7925 - val_loss: 0.6742\n",
      "Epoch 184/200\n",
      "\u001b[1m13600/13600\u001b[0m \u001b[32m━━━━━━━━━━━━━━━━━━━━\u001b[0m\u001b[37m\u001b[0m \u001b[1m8s\u001b[0m 598us/step - acc: 0.7874 - loss: 0.6978 - val_acc: 0.7920 - val_loss: 0.6735\n",
      "Epoch 185/200\n",
      "\u001b[1m13600/13600\u001b[0m \u001b[32m━━━━━━━━━━━━━━━━━━━━\u001b[0m\u001b[37m\u001b[0m \u001b[1m8s\u001b[0m 596us/step - acc: 0.7868 - loss: 0.6995 - val_acc: 0.7928 - val_loss: 0.6720\n",
      "Epoch 186/200\n",
      "\u001b[1m13600/13600\u001b[0m \u001b[32m━━━━━━━━━━━━━━━━━━━━\u001b[0m\u001b[37m\u001b[0m \u001b[1m8s\u001b[0m 594us/step - acc: 0.7874 - loss: 0.6947 - val_acc: 0.7921 - val_loss: 0.6739\n",
      "Epoch 187/200\n",
      "\u001b[1m13600/13600\u001b[0m \u001b[32m━━━━━━━━━━━━━━━━━━━━\u001b[0m\u001b[37m\u001b[0m \u001b[1m8s\u001b[0m 599us/step - acc: 0.7875 - loss: 0.6986 - val_acc: 0.7930 - val_loss: 0.6717\n",
      "Epoch 188/200\n",
      "\u001b[1m13600/13600\u001b[0m \u001b[32m━━━━━━━━━━━━━━━━━━━━\u001b[0m\u001b[37m\u001b[0m \u001b[1m8s\u001b[0m 595us/step - acc: 0.7872 - loss: 0.6949 - val_acc: 0.7906 - val_loss: 0.6757\n",
      "Epoch 189/200\n",
      "\u001b[1m13600/13600\u001b[0m \u001b[32m━━━━━━━━━━━━━━━━━━━━\u001b[0m\u001b[37m\u001b[0m \u001b[1m8s\u001b[0m 597us/step - acc: 0.7873 - loss: 0.6986 - val_acc: 0.7913 - val_loss: 0.6758\n",
      "Epoch 190/200\n",
      "\u001b[1m13600/13600\u001b[0m \u001b[32m━━━━━━━━━━━━━━━━━━━━\u001b[0m\u001b[37m\u001b[0m \u001b[1m8s\u001b[0m 592us/step - acc: 0.7884 - loss: 0.6969 - val_acc: 0.7930 - val_loss: 0.6745\n",
      "Epoch 191/200\n",
      "\u001b[1m13600/13600\u001b[0m \u001b[32m━━━━━━━━━━━━━━━━━━━━\u001b[0m\u001b[37m\u001b[0m \u001b[1m8s\u001b[0m 596us/step - acc: 0.7876 - loss: 0.6975 - val_acc: 0.7928 - val_loss: 0.6714\n",
      "Epoch 192/200\n",
      "\u001b[1m13600/13600\u001b[0m \u001b[32m━━━━━━━━━━━━━━━━━━━━\u001b[0m\u001b[37m\u001b[0m \u001b[1m8s\u001b[0m 596us/step - acc: 0.7880 - loss: 0.6975 - val_acc: 0.7919 - val_loss: 0.6739\n",
      "Epoch 193/200\n",
      "\u001b[1m13600/13600\u001b[0m \u001b[32m━━━━━━━━━━━━━━━━━━━━\u001b[0m\u001b[37m\u001b[0m \u001b[1m8s\u001b[0m 592us/step - acc: 0.7888 - loss: 0.6958 - val_acc: 0.7913 - val_loss: 0.6765\n",
      "Epoch 194/200\n",
      "\u001b[1m13600/13600\u001b[0m \u001b[32m━━━━━━━━━━━━━━━━━━━━\u001b[0m\u001b[37m\u001b[0m \u001b[1m8s\u001b[0m 593us/step - acc: 0.7870 - loss: 0.6956 - val_acc: 0.7922 - val_loss: 0.6723\n",
      "Epoch 195/200\n",
      "\u001b[1m13600/13600\u001b[0m \u001b[32m━━━━━━━━━━━━━━━━━━━━\u001b[0m\u001b[37m\u001b[0m \u001b[1m8s\u001b[0m 596us/step - acc: 0.7873 - loss: 0.6963 - val_acc: 0.7928 - val_loss: 0.6746\n",
      "Epoch 196/200\n",
      "\u001b[1m13600/13600\u001b[0m \u001b[32m━━━━━━━━━━━━━━━━━━━━\u001b[0m\u001b[37m\u001b[0m \u001b[1m8s\u001b[0m 592us/step - acc: 0.7877 - loss: 0.7018 - val_acc: 0.7931 - val_loss: 0.6717\n",
      "Epoch 197/200\n",
      "\u001b[1m13600/13600\u001b[0m \u001b[32m━━━━━━━━━━━━━━━━━━━━\u001b[0m\u001b[37m\u001b[0m \u001b[1m8s\u001b[0m 594us/step - acc: 0.7886 - loss: 0.6953 - val_acc: 0.7929 - val_loss: 0.6721\n",
      "Epoch 198/200\n",
      "\u001b[1m13600/13600\u001b[0m \u001b[32m━━━━━━━━━━━━━━━━━━━━\u001b[0m\u001b[37m\u001b[0m \u001b[1m8s\u001b[0m 592us/step - acc: 0.7879 - loss: 0.6977 - val_acc: 0.7934 - val_loss: 0.6731\n",
      "Epoch 199/200\n",
      "\u001b[1m13600/13600\u001b[0m \u001b[32m━━━━━━━━━━━━━━━━━━━━\u001b[0m\u001b[37m\u001b[0m \u001b[1m8s\u001b[0m 593us/step - acc: 0.7875 - loss: 0.6971 - val_acc: 0.7925 - val_loss: 0.6729\n",
      "Epoch 200/200\n",
      "\u001b[1m13600/13600\u001b[0m \u001b[32m━━━━━━━━━━━━━━━━━━━━\u001b[0m\u001b[37m\u001b[0m \u001b[1m8s\u001b[0m 597us/step - acc: 0.7862 - loss: 0.6998 - val_acc: 0.7915 - val_loss: 0.6759\n"
     ]
    }
   ],
   "source": [
    "### Train the model\n",
    "history = model.fit(X_train,\n",
    "                    y_train,\n",
    "                    batch_size=32,\n",
    "                    epochs=200,\n",
    "                    verbose=1,\n",
    "                    validation_data=(X_val, y_val)\n",
    "                   )"
   ]
  },
  {
   "cell_type": "markdown",
   "id": "fe785364-a10d-438c-8d65-0e833745e292",
   "metadata": {},
   "source": [
    "Evaluate model"
   ]
  },
  {
   "cell_type": "code",
   "execution_count": 14,
   "id": "326cc23e-300e-4fe7-80ec-a50263541c4f",
   "metadata": {},
   "outputs": [
    {
     "data": {
      "image/png": "[encoded data removed]",
      "text/plain": [
       "<Figure size 640x480 with 1 Axes>"
      ]
     },
     "metadata": {},
     "output_type": "display_data"
    },
    {
     "data": {
      "image/png": "[encoded data removed]",
      "text/plain": [
       "<Figure size 640x480 with 1 Axes>"
      ]
     },
     "metadata": {},
     "output_type": "display_data"
    }
   ],
   "source": [
    "### Plot training and validation accuracy and loss over time\n",
    "\n",
    "# Extract accuracy and loss values (in list form) from the history\n",
    "acc = history.history['acc']\n",
    "val_acc = history.history['val_acc']\n",
    "loss = history.history['loss']\n",
    "val_loss = history.history['val_loss']\n",
    "\n",
    "# Create a list of epoch numbers\n",
    "epochs = range(1, len(acc) + 1)\n",
    "\n",
    "# Plot training and validation loss values over time\n",
    "plt.figure()\n",
    "plt.plot(epochs, loss, color='blue', marker='.', label='Training loss')\n",
    "plt.plot(epochs, val_loss, color='orange', marker='.', label='Validation loss')\n",
    "plt.title('Training and validation loss')\n",
    "plt.legend()\n",
    "\n",
    "# Plot training and validation accuracies over time\n",
    "plt.figure()\n",
    "plt.plot(epochs, acc, color='blue', marker='.', label='Training acc')\n",
    "plt.plot(epochs, val_acc, color='orange', marker='.', label='Validation acc')\n",
    "plt.title('Training and validation accuracy')\n",
    "plt.legend()\n",
    "plt.show()"
   ]
  },
  {
   "cell_type": "code",
   "execution_count": 15,
   "id": "9a4c5361-5ec8-4257-a6d3-70eb1107ab7f",
   "metadata": {},
   "outputs": [
    {
     "name": "stdout",
     "output_type": "stream",
     "text": [
      "\u001b[1m3400/3400\u001b[0m \u001b[32m━━━━━━━━━━━━━━━━━━━━\u001b[0m\u001b[37m\u001b[0m \u001b[1m1s\u001b[0m 286us/step\n",
      "Validation output shape: (108800, 15)\n",
      "Actual validation labels:\t [ 8  8  8 13  8  8  8  8  8  8  8  8  4  8 10  8  8  8  8  8  8  8 14  8\n",
      "  5  8  8  8  8  6  8  8  8  8  4  4  8  8  9  8  8  8  8  8  4  8  8  8\n",
      "  8  7]\n",
      "Predicted validation labels:\t [ 8  8  8  8  8  8  8  8  8  8  8  8  8  4 10  8  8  8  8  8  8  8  8  8\n",
      " 13  8  8  8  8  6  8  8  8  8  8  4  8  8  8  8  8  8  8  8  4  8  4  8\n",
      "  8  4]\n",
      "\n",
      " ---> Predicted labels\n",
      "|\n",
      "v Actual labels\n",
      "\t\t\t(0)    (1)    (2)    (3)    (4)    (5)    (6)    (7)    (8)    (9)    (10)   (11)   (12)   (13)   (14)  \n",
      "           0 (0):  [   743      0      0      0    186     14      5     14     84     16      2      2      1     11      5]\n",
      "           1 (1):  [     1     72      0      0      4      7      3      0     14      7      0      2      1     21      0]\n",
      "           2 (2):  [     2      0    115      0     35      1      3     10     35      5      0      0      3      6      0]\n",
      "           3 (3):  [     1      0      0    106     25      1      1      2      8      0      0      0      1      0      0]\n",
      "           4 (4):  [   244      2      8      5   4012     54     85    145   1409     67     17     10     35    139     60]\n",
      "           5 (5):  [     6      0      0      0     20    163     11      0     26      3      0     18      1     41      2]\n",
      "           6 (6):  [    12      0      0      0     38     16    625     71     72     13      0      9      1     40      3]\n",
      "           7 (7):  [     5      0      0      0     40      7     30    341     45      0      0      0      0      5      2]\n",
      "           8 (8):  [   632     30     28     68   7782   1970   1073   1069  78697    494    101   2094     78   2088    766]\n",
      "           9 (9):  [    22      0      0      0     50     46     18     13     50    514      0      1      5     67      1]\n",
      "          10 (10):  [     0      0      0      0     10      2      0      1      6      1     70      2      0      2      0]\n",
      "          11 (11):  [     0      0      0      0      4     14      2      0     26      0      0     36      0      3      0]\n",
      "          12 (12):  [     6      0      0      0      5      1      8      2      6      3      0      0    109      3      0]\n",
      "          13 (13):  [     2      1      0      0    103    204     32     16    160    119      6     16      2    453      5]\n",
      "          14 (14):  [     0      0      0      0      0      1      0      0      3      1      0      0      0      1     63]\n"
     ]
    }
   ],
   "source": [
    "### Create confusion matrix from validation set\n",
    "\n",
    "# Find predictions from all validation samples\n",
    "y_pred = model.predict(X_val)\n",
    "print(\"Validation output shape:\", y_pred.shape)\n",
    "\n",
    "# Convert actual and predicted validation one-hot encoding to numerical labels\n",
    "y_val_trans = np.argmax(y_val, axis=1)\n",
    "y_pred_trans = np.argmax(y_pred, axis=1)\n",
    "\n",
    "# Print some values from actual and predicted validation sets (first 50 samples)\n",
    "print(\"Actual validation labels:\\t\", y_val_trans[:50])\n",
    "print(\"Predicted validation labels:\\t\", y_pred_trans[:50])\n",
    "\n",
    "# Compute confusion matrix (note: we need to transpose SKLearn matrix to make it match Edge Impulse)\n",
    "cm = confusion_matrix(y_val_trans, y_pred_trans)\n",
    "cm = np.transpose(cm)\n",
    "\n",
    "labels = range(len(gdf['uso_suelo'].unique()))\n",
    "\n",
    "# Print confusion matrix\n",
    "print()\n",
    "print(\" ---> Predicted labels\")\n",
    "print(\"|\")\n",
    "print(\"v Actual labels\")\n",
    "print(\"\\t\\t\\t\" + ' '.join(\"{!s:6}\".format('(' + str(i) + ')') for i in range(num_classes)))\n",
    "for row in range(num_classes):\n",
    "  print(\"{:>12} ({}):  [{}]\".format(labels[row], row, ' '.join(\"{:6}\".format(i) for i in cm[row])))\n",
    "    "
   ]
  },
  {
   "cell_type": "markdown",
   "id": "4d296dd7-70f5-40af-8ae0-4f634a3209f1",
   "metadata": {},
   "source": [
    "## Apply model to the full dataset"
   ]
  },
  {
   "cell_type": "markdown",
   "id": "8be37c16-612e-40bd-a52c-5c29f82d7a49",
   "metadata": {},
   "source": [
    "Predict landuse for every element"
   ]
  },
  {
   "cell_type": "code",
   "execution_count": 16,
   "id": "c0a037f4-092d-48ad-978e-153eab95c3f0",
   "metadata": {},
   "outputs": [
    {
     "name": "stdout",
     "output_type": "stream",
     "text": [
      "\u001b[1m21250/21250\u001b[0m \u001b[32m━━━━━━━━━━━━━━━━━━━━\u001b[0m\u001b[37m\u001b[0m \u001b[1m6s\u001b[0m 278us/step\n"
     ]
    }
   ],
   "source": [
    "y_hat = model.predict(X_scaled)"
   ]
  },
  {
   "cell_type": "markdown",
   "id": "b69dc84b-22a3-4948-a79c-b4007dcab56b",
   "metadata": {},
   "source": [
    "Create prediction variables"
   ]
  },
  {
   "cell_type": "markdown",
   "id": "0b261529-9bc7-4797-96c3-11250d8a057f",
   "metadata": {},
   "source": [
    "Assign data to polygons"
   ]
  },
  {
   "cell_type": "code",
   "execution_count": 17,
   "id": "531318ae-91e3-4725-a6aa-695604f5cc84",
   "metadata": {},
   "outputs": [],
   "source": [
    "gdf['pred'] = y_hat.argmax(axis=1)"
   ]
  },
  {
   "cell_type": "markdown",
   "id": "d5231504-e17c-4156-a19c-091e8269682c",
   "metadata": {},
   "source": [
    "### Save output"
   ]
  },
  {
   "cell_type": "markdown",
   "id": "b19c9a2d-0337-409b-9b2e-65319b9f2a91",
   "metadata": {},
   "source": [
    "### Save model"
   ]
  },
  {
   "cell_type": "code",
   "execution_count": 18,
   "id": "6febcb39-d78f-4b68-8d44-4f2e311d8b36",
   "metadata": {},
   "outputs": [],
   "source": [
    "import pickle"
   ]
  },
  {
   "cell_type": "code",
   "execution_count": 19,
   "id": "dca63990-454c-4e05-ad95-62ab02c1eb41",
   "metadata": {},
   "outputs": [],
   "source": [
    "model_name = 'landuse_nn_PredictionModel'\n",
    "pickle.dump(model, open(f\"../../data/processed/prediccion_uso_suelo/complete_model/{model_name}.pkl\", \"wb\"))"
   ]
  },
  {
   "cell_type": "markdown",
   "id": "582eab49-bc8c-4d1b-bfb9-9ecb3c6bd58f",
   "metadata": {},
   "source": [
    "### Save data for postprocessing"
   ]
  },
  {
   "cell_type": "code",
   "execution_count": 38,
   "id": "60141096-5433-421e-8f2f-4ad293ac4d6b",
   "metadata": {},
   "outputs": [],
   "source": [
    "# gdf.to_file('../../data/processed/prediccion_uso_suelo/test/tess_pred.gpkg')"
   ]
  },
  {
   "cell_type": "markdown",
   "id": "cf96e0c5-1829-4a4a-a332-8932c0812d5d",
   "metadata": {},
   "source": [
    "### Save data for output analysis"
   ]
  },
  {
   "cell_type": "code",
   "execution_count": 20,
   "id": "1cb336fd-8ac2-47ad-bc50-3778f3b88e07",
   "metadata": {},
   "outputs": [],
   "source": [
    "gdf[['fid','uso_suelo','pred','geometry']].to_file('../../data/processed/prediccion_uso_suelo/complete_model/area_of_prediction_final_pred.gpkg')"
   ]
  },
  {
   "cell_type": "code",
   "execution_count": null,
   "id": "0111d82b-a023-4d83-b71e-d19b456c6b4d",
   "metadata": {},
   "outputs": [],
   "source": []
  }
 ],
 "metadata": {
  "kernelspec": {
   "display_name": "Python 3 (ipykernel)",
   "language": "python",
   "name": "python3"
  },
  "language_info": {
   "codemirror_mode": {
    "name": "ipython",
    "version": 3
   },
   "file_extension": ".py",
   "mimetype": "text/x-python",
   "name": "python",
   "nbconvert_exporter": "python",
   "pygments_lexer": "ipython3",
   "version": "3.11.11"
  }
 },
 "nbformat": 4,
 "nbformat_minor": 5
}
