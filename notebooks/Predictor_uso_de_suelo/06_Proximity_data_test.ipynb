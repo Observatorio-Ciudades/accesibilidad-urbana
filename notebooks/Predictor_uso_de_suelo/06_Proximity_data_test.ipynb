{
 "cells": [
  {
   "cell_type": "markdown",
   "id": "963673fb-a792-4a0e-9955-5f9984425432",
   "metadata": {},
   "source": [
    "# Proximity data to Area of Prediction"
   ]
  },
  {
   "cell_type": "markdown",
   "id": "920ccfd1-08a1-4241-8405-1943e7552684",
   "metadata": {},
   "source": [
    "This notebook contains the processes that interpolate proximity to certain amenities to the are of prediction."
   ]
  },
  {
   "cell_type": "markdown",
   "id": "fa6ee1db-7422-47af-aa73-566fdad549b4",
   "metadata": {},
   "source": [
    "## Import libraries"
   ]
  },
  {
   "cell_type": "code",
   "execution_count": 1,
   "id": "5ea3f32e-2869-4fe8-b01d-739254641f79",
   "metadata": {},
   "outputs": [],
   "source": [
    "import geopandas as gpd\n",
    "import pandas as pd\n",
    "import numpy as np\n",
    "\n",
    "import matplotlib.pyplot as plt\n",
    "import seaborn as sns\n",
    "\n",
    "import aup"
   ]
  },
  {
   "cell_type": "markdown",
   "id": "e68edde5-197b-4009-b0cb-e001f869185a",
   "metadata": {},
   "source": [
    "## Data download/read and preprocessing"
   ]
  },
  {
   "cell_type": "markdown",
   "id": "24c53c07-fabb-426c-855b-ea32656a7fb3",
   "metadata": {},
   "source": [
    "### Area of analysis"
   ]
  },
  {
   "cell_type": "code",
   "execution_count": 2,
   "id": "a33986db-d148-4b53-8250-b4f2a23438a6",
   "metadata": {},
   "outputs": [
    {
     "name": "stdout",
     "output_type": "stream",
     "text": [
      "(1, 4)\n"
     ]
    },
    {
     "data": {
      "text/html": [
       "<div>\n",
       "<style scoped>\n",
       "    .dataframe tbody tr th:only-of-type {\n",
       "        vertical-align: middle;\n",
       "    }\n",
       "\n",
       "    .dataframe tbody tr th {\n",
       "        vertical-align: top;\n",
       "    }\n",
       "\n",
       "    .dataframe thead th {\n",
       "        text-align: right;\n",
       "    }\n",
       "</style>\n",
       "<table border=\"1\" class=\"dataframe\">\n",
       "  <thead>\n",
       "    <tr style=\"text-align: right;\">\n",
       "      <th></th>\n",
       "      <th>id</th>\n",
       "      <th>area</th>\n",
       "      <th>perimeter</th>\n",
       "      <th>geometry</th>\n",
       "    </tr>\n",
       "  </thead>\n",
       "  <tbody>\n",
       "    <tr>\n",
       "      <th>0</th>\n",
       "      <td>0</td>\n",
       "      <td>3.456908e+07</td>\n",
       "      <td>22034.335455</td>\n",
       "      <td>POLYGON ((662437.93 2284457.02, 662421.516 228...</td>\n",
       "    </tr>\n",
       "  </tbody>\n",
       "</table>\n",
       "</div>"
      ],
      "text/plain": [
       "   id          area     perimeter  \\\n",
       "0   0  3.456908e+07  22034.335455   \n",
       "\n",
       "                                            geometry  \n",
       "0  POLYGON ((662437.93 2284457.02, 662421.516 228...  "
      ]
     },
     "execution_count": 2,
     "metadata": {},
     "output_type": "execute_result"
    }
   ],
   "source": [
    "aoa_gdf = gpd.read_file(\"../../data/processed/prediccion_uso_suelo/Distrito_Zona5.geojson\")\n",
    "print(aoa_gdf.shape)\n",
    "aoa_gdf.head(2)"
   ]
  },
  {
   "cell_type": "markdown",
   "id": "8ba5d68d-864a-4d2f-abb8-3faf4778002a",
   "metadata": {},
   "source": [
    "### Area of prediction with variables"
   ]
  },
  {
   "cell_type": "code",
   "execution_count": 3,
   "id": "c6841e1a-c4dd-452f-b6ec-40e64163c911",
   "metadata": {},
   "outputs": [
    {
     "name": "stdout",
     "output_type": "stream",
     "text": [
      "(88061, 46)\n"
     ]
    },
    {
     "data": {
      "text/html": [
       "<div>\n",
       "<style scoped>\n",
       "    .dataframe tbody tr th:only-of-type {\n",
       "        vertical-align: middle;\n",
       "    }\n",
       "\n",
       "    .dataframe tbody tr th {\n",
       "        vertical-align: top;\n",
       "    }\n",
       "\n",
       "    .dataframe thead th {\n",
       "        text-align: right;\n",
       "    }\n",
       "</style>\n",
       "<table border=\"1\" class=\"dataframe\">\n",
       "  <thead>\n",
       "    <tr style=\"text-align: right;\">\n",
       "      <th></th>\n",
       "      <th>uso_suelo</th>\n",
       "      <th>area_m2</th>\n",
       "      <th>full_plus_code</th>\n",
       "      <th>CVEGEO</th>\n",
       "      <th>bld_area_m2</th>\n",
       "      <th>block_area_m2</th>\n",
       "      <th>pred_area_m2</th>\n",
       "      <th>pred_area_pct</th>\n",
       "      <th>bld_pred_area_pct</th>\n",
       "      <th>pobtot</th>\n",
       "      <th>...</th>\n",
       "      <th>service_distance</th>\n",
       "      <th>living_street_distance</th>\n",
       "      <th>primary_distance</th>\n",
       "      <th>trunk_distance</th>\n",
       "      <th>pedestrian_distance</th>\n",
       "      <th>cycleway_distance</th>\n",
       "      <th>unclassified_distance</th>\n",
       "      <th>motorway_distance</th>\n",
       "      <th>steps_distance</th>\n",
       "      <th>geometry</th>\n",
       "    </tr>\n",
       "  </thead>\n",
       "  <tbody>\n",
       "    <tr>\n",
       "      <th>0</th>\n",
       "      <td>Sin dato</td>\n",
       "      <td>67.279056</td>\n",
       "      <td>75GRMGQW+89PG</td>\n",
       "      <td>1412000011206018</td>\n",
       "      <td>12.438638</td>\n",
       "      <td>278416.454431</td>\n",
       "      <td>67.279056</td>\n",
       "      <td>0.000242</td>\n",
       "      <td>0.184881</td>\n",
       "      <td>0</td>\n",
       "      <td>...</td>\n",
       "      <td>11.962829</td>\n",
       "      <td>51.20766</td>\n",
       "      <td>3329.005414</td>\n",
       "      <td>87.628973</td>\n",
       "      <td>2935.411316</td>\n",
       "      <td>1968.027137</td>\n",
       "      <td>673.709507</td>\n",
       "      <td>374.060135</td>\n",
       "      <td>1584.676445</td>\n",
       "      <td>MULTIPOLYGON (((-103.45405 20.68833, -103.4541...</td>\n",
       "    </tr>\n",
       "    <tr>\n",
       "      <th>1</th>\n",
       "      <td>Sin dato</td>\n",
       "      <td>45.355545</td>\n",
       "      <td>75GRMGQW+8CFP</td>\n",
       "      <td>1412000011206018</td>\n",
       "      <td>4.482118</td>\n",
       "      <td>278416.454431</td>\n",
       "      <td>45.355545</td>\n",
       "      <td>0.000163</td>\n",
       "      <td>0.098822</td>\n",
       "      <td>0</td>\n",
       "      <td>...</td>\n",
       "      <td>11.962829</td>\n",
       "      <td>51.20766</td>\n",
       "      <td>3329.005414</td>\n",
       "      <td>87.628973</td>\n",
       "      <td>2935.411316</td>\n",
       "      <td>1968.027137</td>\n",
       "      <td>673.709507</td>\n",
       "      <td>374.060135</td>\n",
       "      <td>1584.676445</td>\n",
       "      <td>MULTIPOLYGON (((-103.4539 20.68833, -103.454 2...</td>\n",
       "    </tr>\n",
       "  </tbody>\n",
       "</table>\n",
       "<p>2 rows × 46 columns</p>\n",
       "</div>"
      ],
      "text/plain": [
       "  uso_suelo    area_m2 full_plus_code            CVEGEO  bld_area_m2  \\\n",
       "0  Sin dato  67.279056  75GRMGQW+89PG  1412000011206018    12.438638   \n",
       "1  Sin dato  45.355545  75GRMGQW+8CFP  1412000011206018     4.482118   \n",
       "\n",
       "   block_area_m2  pred_area_m2  pred_area_pct  bld_pred_area_pct  pobtot  ...  \\\n",
       "0  278416.454431     67.279056       0.000242           0.184881       0  ...   \n",
       "1  278416.454431     45.355545       0.000163           0.098822       0  ...   \n",
       "\n",
       "   service_distance  living_street_distance  primary_distance  trunk_distance  \\\n",
       "0         11.962829                51.20766       3329.005414       87.628973   \n",
       "1         11.962829                51.20766       3329.005414       87.628973   \n",
       "\n",
       "   pedestrian_distance  cycleway_distance  unclassified_distance  \\\n",
       "0          2935.411316        1968.027137             673.709507   \n",
       "1          2935.411316        1968.027137             673.709507   \n",
       "\n",
       "   motorway_distance  steps_distance  \\\n",
       "0         374.060135     1584.676445   \n",
       "1         374.060135     1584.676445   \n",
       "\n",
       "                                            geometry  \n",
       "0  MULTIPOLYGON (((-103.45405 20.68833, -103.4541...  \n",
       "1  MULTIPOLYGON (((-103.4539 20.68833, -103.454 2...  \n",
       "\n",
       "[2 rows x 46 columns]"
      ]
     },
     "execution_count": 3,
     "metadata": {},
     "output_type": "execute_result"
    }
   ],
   "source": [
    "gdf = gpd.read_file('../../data/processed/prediccion_uso_suelo/test/area_of_prediction_roads.gpkg')\n",
    "print(gdf.shape)\n",
    "gdf.head(2)"
   ]
  },
  {
   "cell_type": "markdown",
   "id": "4906019c-d87a-4897-917a-9df958cc98b3",
   "metadata": {},
   "source": [
    "### Proximity data"
   ]
  },
  {
   "cell_type": "code",
   "execution_count": 4,
   "id": "5b3a58e2-d337-4a72-8c18-c6846cdb48f9",
   "metadata": {},
   "outputs": [
    {
     "data": {
      "text/html": [
       "<div>\n",
       "<style scoped>\n",
       "    .dataframe tbody tr th:only-of-type {\n",
       "        vertical-align: middle;\n",
       "    }\n",
       "\n",
       "    .dataframe tbody tr th {\n",
       "        vertical-align: top;\n",
       "    }\n",
       "\n",
       "    .dataframe thead th {\n",
       "        text-align: right;\n",
       "    }\n",
       "</style>\n",
       "<table border=\"1\" class=\"dataframe\">\n",
       "  <thead>\n",
       "    <tr style=\"text-align: right;\">\n",
       "      <th></th>\n",
       "      <th>geometry</th>\n",
       "    </tr>\n",
       "  </thead>\n",
       "  <tbody>\n",
       "    <tr>\n",
       "      <th>0</th>\n",
       "      <td>POLYGON ((-103.4407 20.65148, -103.44079 20.65...</td>\n",
       "    </tr>\n",
       "  </tbody>\n",
       "</table>\n",
       "</div>"
      ],
      "text/plain": [
       "                                            geometry\n",
       "0  POLYGON ((-103.4407 20.65148, -103.44079 20.65..."
      ]
     },
     "execution_count": 4,
     "metadata": {},
     "output_type": "execute_result"
    }
   ],
   "source": [
    "buffer = aoa_gdf.to_crs(\"EPSG:6372\").buffer(100)\n",
    "buffer = gpd.GeoDataFrame(geometry = buffer)\n",
    "buffer = buffer.to_crs(\"EPSG:4326\")\n",
    "buffer"
   ]
  },
  {
   "cell_type": "code",
   "execution_count": 5,
   "id": "14ccab30-5141-4e80-a758-91c27d08d0b8",
   "metadata": {},
   "outputs": [
    {
     "name": "stdout",
     "output_type": "stream",
     "text": [
      "(9575, 69)\n"
     ]
    },
    {
     "data": {
      "text/html": [
       "<div>\n",
       "<style scoped>\n",
       "    .dataframe tbody tr th:only-of-type {\n",
       "        vertical-align: middle;\n",
       "    }\n",
       "\n",
       "    .dataframe tbody tr th {\n",
       "        vertical-align: top;\n",
       "    }\n",
       "\n",
       "    .dataframe thead th {\n",
       "        text-align: right;\n",
       "    }\n",
       "</style>\n",
       "<table border=\"1\" class=\"dataframe\">\n",
       "  <thead>\n",
       "    <tr style=\"text-align: right;\">\n",
       "      <th></th>\n",
       "      <th>osmid</th>\n",
       "      <th>denue_preescolar</th>\n",
       "      <th>denue_preescolar_15min</th>\n",
       "      <th>denue_primaria</th>\n",
       "      <th>denue_primaria_15min</th>\n",
       "      <th>denue_secundaria</th>\n",
       "      <th>denue_secundaria_15min</th>\n",
       "      <th>clues_primer_nivel</th>\n",
       "      <th>clues_primer_nivel_15min</th>\n",
       "      <th>denue_guarderias</th>\n",
       "      <th>...</th>\n",
       "      <th>denue_museos</th>\n",
       "      <th>denue_museos_15min</th>\n",
       "      <th>denue_bibliotecas</th>\n",
       "      <th>denue_bibliotecas_15min</th>\n",
       "      <th>denue_centrocultural</th>\n",
       "      <th>denue_centrocultural_15min</th>\n",
       "      <th>x</th>\n",
       "      <th>y</th>\n",
       "      <th>geometry</th>\n",
       "      <th>city</th>\n",
       "    </tr>\n",
       "  </thead>\n",
       "  <tbody>\n",
       "    <tr>\n",
       "      <th>0</th>\n",
       "      <td>28791518</td>\n",
       "      <td>7.341088</td>\n",
       "      <td>6</td>\n",
       "      <td>7.777907</td>\n",
       "      <td>4</td>\n",
       "      <td>26.270394</td>\n",
       "      <td>0</td>\n",
       "      <td>8.583527</td>\n",
       "      <td>9</td>\n",
       "      <td>10.816726</td>\n",
       "      <td>...</td>\n",
       "      <td>29.825454</td>\n",
       "      <td>0</td>\n",
       "      <td>24.933597</td>\n",
       "      <td>0</td>\n",
       "      <td>88.667714</td>\n",
       "      <td>0</td>\n",
       "      <td>-103.402947</td>\n",
       "      <td>20.674933</td>\n",
       "      <td>POINT (-103.40295 20.67493)</td>\n",
       "      <td>Guadalajara</td>\n",
       "    </tr>\n",
       "    <tr>\n",
       "      <th>1</th>\n",
       "      <td>273146454</td>\n",
       "      <td>2.454897</td>\n",
       "      <td>4</td>\n",
       "      <td>4.260768</td>\n",
       "      <td>1</td>\n",
       "      <td>15.860206</td>\n",
       "      <td>0</td>\n",
       "      <td>3.041695</td>\n",
       "      <td>11</td>\n",
       "      <td>17.525910</td>\n",
       "      <td>...</td>\n",
       "      <td>39.703464</td>\n",
       "      <td>0</td>\n",
       "      <td>17.089605</td>\n",
       "      <td>0</td>\n",
       "      <td>81.541184</td>\n",
       "      <td>0</td>\n",
       "      <td>-103.406217</td>\n",
       "      <td>20.671926</td>\n",
       "      <td>POINT (-103.40622 20.67193)</td>\n",
       "      <td>Guadalajara</td>\n",
       "    </tr>\n",
       "  </tbody>\n",
       "</table>\n",
       "<p>2 rows × 69 columns</p>\n",
       "</div>"
      ],
      "text/plain": [
       "       osmid  denue_preescolar  denue_preescolar_15min  denue_primaria  \\\n",
       "0   28791518          7.341088                       6        7.777907   \n",
       "1  273146454          2.454897                       4        4.260768   \n",
       "\n",
       "   denue_primaria_15min  denue_secundaria  denue_secundaria_15min  \\\n",
       "0                     4         26.270394                       0   \n",
       "1                     1         15.860206                       0   \n",
       "\n",
       "   clues_primer_nivel  clues_primer_nivel_15min  denue_guarderias  ...  \\\n",
       "0            8.583527                         9         10.816726  ...   \n",
       "1            3.041695                        11         17.525910  ...   \n",
       "\n",
       "   denue_museos  denue_museos_15min  denue_bibliotecas  \\\n",
       "0     29.825454                   0          24.933597   \n",
       "1     39.703464                   0          17.089605   \n",
       "\n",
       "   denue_bibliotecas_15min  denue_centrocultural  denue_centrocultural_15min  \\\n",
       "0                        0             88.667714                           0   \n",
       "1                        0             81.541184                           0   \n",
       "\n",
       "            x          y                     geometry         city  \n",
       "0 -103.402947  20.674933  POINT (-103.40295 20.67493)  Guadalajara  \n",
       "1 -103.406217  20.671926  POINT (-103.40622 20.67193)  Guadalajara  \n",
       "\n",
       "[2 rows x 69 columns]"
      ]
     },
     "execution_count": 5,
     "metadata": {},
     "output_type": "execute_result"
    }
   ],
   "source": [
    "table = 'proximity_v2_23_point'\n",
    "schema = 'prox_analysis'\n",
    "\n",
    "prox_nodes = aup.gdf_from_polygon(buffer, schema, table)\n",
    "\n",
    "print(prox_nodes.shape)\n",
    "prox_nodes.head(2)"
   ]
  },
  {
   "cell_type": "markdown",
   "id": "02dd29e5-0a9f-4452-b2ff-18c556df339d",
   "metadata": {},
   "source": [
    "Filter proximity elements"
   ]
  },
  {
   "cell_type": "code",
   "execution_count": 6,
   "id": "686a1af2-6a2a-4c64-9755-dddb941c0be1",
   "metadata": {},
   "outputs": [
    {
     "name": "stdout",
     "output_type": "stream",
     "text": [
      "(9575, 12)\n"
     ]
    },
    {
     "data": {
      "text/html": [
       "<div>\n",
       "<style scoped>\n",
       "    .dataframe tbody tr th:only-of-type {\n",
       "        vertical-align: middle;\n",
       "    }\n",
       "\n",
       "    .dataframe tbody tr th {\n",
       "        vertical-align: top;\n",
       "    }\n",
       "\n",
       "    .dataframe thead th {\n",
       "        text-align: right;\n",
       "    }\n",
       "</style>\n",
       "<table border=\"1\" class=\"dataframe\">\n",
       "  <thead>\n",
       "    <tr style=\"text-align: right;\">\n",
       "      <th></th>\n",
       "      <th>osmid</th>\n",
       "      <th>denue_primaria</th>\n",
       "      <th>denue_primaria_15min</th>\n",
       "      <th>denue_abarrotes</th>\n",
       "      <th>denue_abarrotes_15min</th>\n",
       "      <th>denue_peluqueria</th>\n",
       "      <th>denue_peluqueria_15min</th>\n",
       "      <th>denue_lavanderia</th>\n",
       "      <th>denue_lavanderia_15min</th>\n",
       "      <th>clues_primer_nivel</th>\n",
       "      <th>clues_primer_nivel_15min</th>\n",
       "      <th>geometry</th>\n",
       "    </tr>\n",
       "  </thead>\n",
       "  <tbody>\n",
       "    <tr>\n",
       "      <th>0</th>\n",
       "      <td>28791518</td>\n",
       "      <td>7.777907</td>\n",
       "      <td>4</td>\n",
       "      <td>4.427983</td>\n",
       "      <td>9</td>\n",
       "      <td>5.178137</td>\n",
       "      <td>46</td>\n",
       "      <td>6.701719</td>\n",
       "      <td>7</td>\n",
       "      <td>8.583527</td>\n",
       "      <td>9</td>\n",
       "      <td>POINT (-103.40295 20.67493)</td>\n",
       "    </tr>\n",
       "    <tr>\n",
       "      <th>1</th>\n",
       "      <td>273146454</td>\n",
       "      <td>4.260768</td>\n",
       "      <td>1</td>\n",
       "      <td>3.563373</td>\n",
       "      <td>6</td>\n",
       "      <td>2.454897</td>\n",
       "      <td>36</td>\n",
       "      <td>9.127368</td>\n",
       "      <td>8</td>\n",
       "      <td>3.041695</td>\n",
       "      <td>11</td>\n",
       "      <td>POINT (-103.40622 20.67193)</td>\n",
       "    </tr>\n",
       "  </tbody>\n",
       "</table>\n",
       "</div>"
      ],
      "text/plain": [
       "       osmid  denue_primaria  denue_primaria_15min  denue_abarrotes  \\\n",
       "0   28791518        7.777907                     4         4.427983   \n",
       "1  273146454        4.260768                     1         3.563373   \n",
       "\n",
       "   denue_abarrotes_15min  denue_peluqueria  denue_peluqueria_15min  \\\n",
       "0                      9          5.178137                      46   \n",
       "1                      6          2.454897                      36   \n",
       "\n",
       "   denue_lavanderia  denue_lavanderia_15min  clues_primer_nivel  \\\n",
       "0          6.701719                       7            8.583527   \n",
       "1          9.127368                       8            3.041695   \n",
       "\n",
       "   clues_primer_nivel_15min                     geometry  \n",
       "0                         9  POINT (-103.40295 20.67493)  \n",
       "1                        11  POINT (-103.40622 20.67193)  "
      ]
     },
     "execution_count": 6,
     "metadata": {},
     "output_type": "execute_result"
    }
   ],
   "source": [
    "cols = ['osmid','denue_primaria','denue_primaria_15min',\n",
    "       'denue_abarrotes','denue_abarrotes_15min','denue_peluqueria',\n",
    "       'denue_peluqueria_15min','denue_lavanderia','denue_lavanderia_15min',\n",
    "       'clues_primer_nivel','clues_primer_nivel_15min','geometry']\n",
    "prox_nodes = prox_nodes[cols].copy()\n",
    "\n",
    "print(prox_nodes.shape)\n",
    "prox_nodes.head(2)"
   ]
  },
  {
   "cell_type": "markdown",
   "id": "f8667899-1a83-4db8-b6f7-f5c92f6bbf38",
   "metadata": {},
   "source": [
    "## Proximity to area of analysis"
   ]
  },
  {
   "cell_type": "markdown",
   "id": "8bb87aa9-5e91-41b3-826c-16e47db45ed6",
   "metadata": {},
   "source": [
    "Set CRS"
   ]
  },
  {
   "cell_type": "code",
   "execution_count": 7,
   "id": "73b4bf28-ad0b-46eb-8029-76910e0c09ea",
   "metadata": {},
   "outputs": [],
   "source": [
    "prox_nodes = prox_nodes.to_crs(\"EPSG:6372\")\n",
    "gdf = gdf.to_crs(\"EPSG:6372\")"
   ]
  },
  {
   "cell_type": "markdown",
   "id": "243f3e91-e2fc-4906-a62e-6f6610bcbdbb",
   "metadata": {},
   "source": [
    "Create centroids with unique id"
   ]
  },
  {
   "cell_type": "code",
   "execution_count": 8,
   "id": "965e9021-e463-4500-85e8-cb275f02d69a",
   "metadata": {},
   "outputs": [],
   "source": [
    "if 'fid' not in gdf.columns:\n",
    "    gdf = gdf.reset_index().rename(columns={'index':'fid'})"
   ]
  },
  {
   "cell_type": "code",
   "execution_count": 9,
   "id": "49ccc59e-f184-44f2-875c-dc78db460bde",
   "metadata": {},
   "outputs": [],
   "source": [
    "gdf_cnt = gdf[['fid','geometry']].copy()\n",
    "gdf_cnt['geometry'] = gdf_cnt.centroid"
   ]
  },
  {
   "cell_type": "markdown",
   "id": "e83190e9-763e-4d18-955a-ac4c2f7d4260",
   "metadata": {},
   "source": [
    "Interpolate proximity data"
   ]
  },
  {
   "cell_type": "code",
   "execution_count": 10,
   "id": "4f224873-3f83-4c95-8d84-85e1f740a48b",
   "metadata": {},
   "outputs": [
    {
     "name": "stdout",
     "output_type": "stream",
     "text": [
      "Finished processing denue_primaria\n",
      "Finished processing denue_primaria_15min\n",
      "Finished processing denue_abarrotes\n",
      "Finished processing denue_abarrotes_15min\n",
      "Finished processing denue_peluqueria\n",
      "Finished processing denue_peluqueria_15min\n",
      "Finished processing denue_lavanderia\n",
      "Finished processing denue_lavanderia_15min\n",
      "Finished processing clues_primer_nivel\n",
      "Finished processing clues_primer_nivel_15min\n"
     ]
    }
   ],
   "source": [
    "for col in cols:\n",
    "    if (col != 'osmid') and (col != 'geometry'):\n",
    "        int_vals = aup.interpolate_at_points(prox_nodes.centroid.x,\n",
    "                                         prox_nodes.centroid.y, \n",
    "                                         prox_nodes[col],\n",
    "                                         gdf_cnt.geometry.x, \n",
    "                                         gdf_cnt.geometry.y,\n",
    "                                        power=2,\n",
    "                                        search_radius=300)\n",
    "        \n",
    "        gdf_cnt[col] = int_vals\n",
    "        print('Finished processing',col)\n",
    "        "
   ]
  },
  {
   "cell_type": "markdown",
   "id": "67b495d8-fb62-4c9e-9255-c7130ad12c19",
   "metadata": {},
   "source": [
    "Merge data"
   ]
  },
  {
   "cell_type": "code",
   "execution_count": 11,
   "id": "25a6878b-9d83-438d-a8cf-31edc8710033",
   "metadata": {},
   "outputs": [
    {
     "name": "stdout",
     "output_type": "stream",
     "text": [
      "(88061, 57)\n"
     ]
    },
    {
     "data": {
      "text/html": [
       "<div>\n",
       "<style scoped>\n",
       "    .dataframe tbody tr th:only-of-type {\n",
       "        vertical-align: middle;\n",
       "    }\n",
       "\n",
       "    .dataframe tbody tr th {\n",
       "        vertical-align: top;\n",
       "    }\n",
       "\n",
       "    .dataframe thead th {\n",
       "        text-align: right;\n",
       "    }\n",
       "</style>\n",
       "<table border=\"1\" class=\"dataframe\">\n",
       "  <thead>\n",
       "    <tr style=\"text-align: right;\">\n",
       "      <th></th>\n",
       "      <th>fid</th>\n",
       "      <th>uso_suelo</th>\n",
       "      <th>area_m2</th>\n",
       "      <th>full_plus_code</th>\n",
       "      <th>CVEGEO</th>\n",
       "      <th>bld_area_m2</th>\n",
       "      <th>block_area_m2</th>\n",
       "      <th>pred_area_m2</th>\n",
       "      <th>pred_area_pct</th>\n",
       "      <th>bld_pred_area_pct</th>\n",
       "      <th>...</th>\n",
       "      <th>denue_primaria</th>\n",
       "      <th>denue_primaria_15min</th>\n",
       "      <th>denue_abarrotes</th>\n",
       "      <th>denue_abarrotes_15min</th>\n",
       "      <th>denue_peluqueria</th>\n",
       "      <th>denue_peluqueria_15min</th>\n",
       "      <th>denue_lavanderia</th>\n",
       "      <th>denue_lavanderia_15min</th>\n",
       "      <th>clues_primer_nivel</th>\n",
       "      <th>clues_primer_nivel_15min</th>\n",
       "    </tr>\n",
       "  </thead>\n",
       "  <tbody>\n",
       "    <tr>\n",
       "      <th>0</th>\n",
       "      <td>0</td>\n",
       "      <td>Sin dato</td>\n",
       "      <td>67.279056</td>\n",
       "      <td>75GRMGQW+89PG</td>\n",
       "      <td>1412000011206018</td>\n",
       "      <td>12.438638</td>\n",
       "      <td>278416.454431</td>\n",
       "      <td>67.279056</td>\n",
       "      <td>0.000242</td>\n",
       "      <td>0.184881</td>\n",
       "      <td>...</td>\n",
       "      <td>21.292222</td>\n",
       "      <td>0.686290</td>\n",
       "      <td>11.815648</td>\n",
       "      <td>3.201121</td>\n",
       "      <td>12.873068</td>\n",
       "      <td>3.446521</td>\n",
       "      <td>13.698224</td>\n",
       "      <td>1.478983</td>\n",
       "      <td>18.924816</td>\n",
       "      <td>0.357128</td>\n",
       "    </tr>\n",
       "    <tr>\n",
       "      <th>1</th>\n",
       "      <td>1</td>\n",
       "      <td>Sin dato</td>\n",
       "      <td>45.355545</td>\n",
       "      <td>75GRMGQW+8CFP</td>\n",
       "      <td>1412000011206018</td>\n",
       "      <td>4.482118</td>\n",
       "      <td>278416.454431</td>\n",
       "      <td>45.355545</td>\n",
       "      <td>0.000163</td>\n",
       "      <td>0.098822</td>\n",
       "      <td>...</td>\n",
       "      <td>19.025558</td>\n",
       "      <td>0.888095</td>\n",
       "      <td>11.066837</td>\n",
       "      <td>3.917225</td>\n",
       "      <td>12.427027</td>\n",
       "      <td>4.012734</td>\n",
       "      <td>13.493960</td>\n",
       "      <td>1.680444</td>\n",
       "      <td>16.927238</td>\n",
       "      <td>0.467758</td>\n",
       "    </tr>\n",
       "  </tbody>\n",
       "</table>\n",
       "<p>2 rows × 57 columns</p>\n",
       "</div>"
      ],
      "text/plain": [
       "   fid uso_suelo    area_m2 full_plus_code            CVEGEO  bld_area_m2  \\\n",
       "0    0  Sin dato  67.279056  75GRMGQW+89PG  1412000011206018    12.438638   \n",
       "1    1  Sin dato  45.355545  75GRMGQW+8CFP  1412000011206018     4.482118   \n",
       "\n",
       "   block_area_m2  pred_area_m2  pred_area_pct  bld_pred_area_pct  ...  \\\n",
       "0  278416.454431     67.279056       0.000242           0.184881  ...   \n",
       "1  278416.454431     45.355545       0.000163           0.098822  ...   \n",
       "\n",
       "   denue_primaria  denue_primaria_15min  denue_abarrotes  \\\n",
       "0       21.292222              0.686290        11.815648   \n",
       "1       19.025558              0.888095        11.066837   \n",
       "\n",
       "   denue_abarrotes_15min  denue_peluqueria  denue_peluqueria_15min  \\\n",
       "0               3.201121         12.873068                3.446521   \n",
       "1               3.917225         12.427027                4.012734   \n",
       "\n",
       "   denue_lavanderia  denue_lavanderia_15min  clues_primer_nivel  \\\n",
       "0         13.698224                1.478983           18.924816   \n",
       "1         13.493960                1.680444           16.927238   \n",
       "\n",
       "   clues_primer_nivel_15min  \n",
       "0                  0.357128  \n",
       "1                  0.467758  \n",
       "\n",
       "[2 rows x 57 columns]"
      ]
     },
     "execution_count": 11,
     "metadata": {},
     "output_type": "execute_result"
    }
   ],
   "source": [
    "gdf = gdf.merge(gdf_cnt.drop(columns=['geometry']),\n",
    "               on='fid')\n",
    "print(gdf.shape)\n",
    "gdf.head(2)"
   ]
  },
  {
   "cell_type": "markdown",
   "id": "f421b8c6-1496-48be-b7f0-772bb66d412b",
   "metadata": {},
   "source": [
    "## Save"
   ]
  },
  {
   "cell_type": "code",
   "execution_count": 12,
   "id": "cd7cd68f-5edd-4f05-9bcd-04792e747050",
   "metadata": {},
   "outputs": [],
   "source": [
    "gdf.to_file('../../data/processed/prediccion_uso_suelo/test/area_of_prediction_prox.gpkg')"
   ]
  },
  {
   "cell_type": "code",
   "execution_count": null,
   "id": "8b5cffe6-f3eb-47c0-91c4-aadbca104adc",
   "metadata": {},
   "outputs": [],
   "source": []
  }
 ],
 "metadata": {
  "kernelspec": {
   "display_name": "Python 3 (ipykernel)",
   "language": "python",
   "name": "python3"
  },
  "language_info": {
   "codemirror_mode": {
    "name": "ipython",
    "version": 3
   },
   "file_extension": ".py",
   "mimetype": "text/x-python",
   "name": "python",
   "nbconvert_exporter": "python",
   "pygments_lexer": "ipython3",
   "version": "3.11.11"
  }
 },
 "nbformat": 4,
 "nbformat_minor": 5
}
