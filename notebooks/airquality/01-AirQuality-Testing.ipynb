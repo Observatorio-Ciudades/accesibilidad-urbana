{
 "cells": [
  {
   "cell_type": "markdown",
   "id": "b2b7afd8-befa-408d-9850-be1ceac93c5d",
   "metadata": {},
   "source": [
    "# Air quality testing"
   ]
  },
  {
   "cell_type": "markdown",
   "id": "427a4a33-ebeb-4033-806f-5accee56bd0e",
   "metadata": {},
   "source": [
    "This notebook tests the functionality for the [rsinaica](https://github.com/diegovalle/rsinaica) and [googletraffic](https://github.com/dime-worldbank/googletraffic) for air quality research."
   ]
  },
  {
   "cell_type": "markdown",
   "id": "253d7fc3-5e18-403d-a5b9-85e5d1a81b5f",
   "metadata": {},
   "source": [
    "## Import libraries"
   ]
  },
  {
   "cell_type": "code",
   "execution_count": 1,
   "id": "5be2b756-02a4-4db3-9c77-08f380c7fd99",
   "metadata": {},
   "outputs": [],
   "source": [
    "library(\"rsinaica\")\n",
    "library(\"googletraffic\")"
   ]
  },
  {
   "cell_type": "markdown",
   "id": "74f4b146-611f-4bbc-b896-aec5b0cc6090",
   "metadata": {},
   "source": [
    "## RSinaica"
   ]
  },
  {
   "cell_type": "code",
   "execution_count": 2,
   "id": "931e54e5-e483-4d4c-bdae-2833584a0c95",
   "metadata": {},
   "outputs": [
    {
     "data": {
      "text/plain": [
       "\n",
       "\n",
       "|    | station_id|station_name |station_code | network_id|network_name                    |network_code |\n",
       "|:---|----------:|:------------|:------------|----------:|:-------------------------------|:------------|\n",
       "|12  |         33|Centro       |CEN          |         30|Aguascalientes                  |AGS          |\n",
       "|47  |         54|Centro       |CEN          |         38|Chihuahua                       |CHIH1        |\n",
       "|84  |        102|Centro       |CEN          |         63|Guadalajara                     |GDL          |\n",
       "|358 |        170|Centro       |CEN          |         78|Zona Metropolitana de Querétaro |ZMQ          |"
      ]
     },
     "metadata": {},
     "output_type": "display_data"
    }
   ],
   "source": [
    "knitr::kable(stations_sinaica[which(stations_sinaica$station_name == \"Centro\"), 1:6])"
   ]
  },
  {
   "cell_type": "markdown",
   "id": "c408be20-e55b-412b-b4e3-5f30f283bb2a",
   "metadata": {},
   "source": [
    "View available stations"
   ]
  },
  {
   "cell_type": "code",
   "execution_count": 3,
   "id": "7dd11359-33f3-4b79-8a1f-8e42d63f2058",
   "metadata": {
    "scrolled": true
   },
   "outputs": [
    {
     "data": {
      "text/plain": [
       "\n",
       "\n",
       "| station_id|station_name                                                                              |station_code | network_id|network_name                    |network_code |\n",
       "|----------:|:-----------------------------------------------------------------------------------------|:------------|----------:|:-------------------------------|:------------|\n",
       "|        397|CENICA 1, UAM Iztapalapa                                                                  |CEN          |        144|NA                              |ESTSP        |\n",
       "|        344|C. Salud Tlaxcoapán                                                                       |TCP          |        127|NA                              |TCP          |\n",
       "|        365|Costa Baja                                                                                |UM           |        140|NA                              |LAP          |\n",
       "|        393|Unidad Móvil de Hidalgo                                                                   |UMHI         |        143|NA                              |POP          |\n",
       "|        394|Unidad Móvil Iztapalapa                                                                   |UMIZ         |        143|NA                              |POP          |\n",
       "|        395|Unidad Móvil Tecamachalco                                                                 |UMTE         |        143|NA                              |POP          |\n",
       "|        396|Unidad Móvil Toluca                                                                       |UMTO         |        143|NA                              |POP          |\n",
       "|        356|Presidencia Municipal                                                                     |ABA          |        134|Abasolo                         |ABA          |\n",
       "|        353|Dirección de Ecología Municipal                                                           |ACAM         |        131|Acámbaro                        |ACA          |\n",
       "|        184|Instituto Tecnológico de Agua Prieta                                                      |TEC          |         85|Agua Prieta                     |AGP          |\n",
       "|         31|CBTIS                                                                                     |CBT          |         30|Aguascalientes                  |AGS          |\n",
       "|         33|Centro                                                                                    |CEN          |         30|Aguascalientes                  |AGS          |\n",
       "|        303|Instituto Educativo                                                                       |IED          |         30|Aguascalientes                  |AGS          |\n",
       "|         34|ISSSTE                                                                                    |ISSSTE       |         30|Aguascalientes                  |AGS          |\n",
       "|         30|Secundaria Leyes de Reforma                                                               |LEY          |         30|Aguascalientes                  |AGS          |\n",
       "|        310|Parque Landeros                                                                           |PAR          |         30|Aguascalientes                  |AGS          |\n",
       "|        311|PROFEPA                                                                                   |PROFEPA      |         30|Aguascalientes                  |AGS          |\n",
       "|         32|Secretaría de Medio Ambiente                                                              |SMA          |         30|Aguascalientes                  |AGS          |\n",
       "|         81|Presidencia Municipal                                                                     |AJA          |         50|Ajacuba                         |AJA          |\n",
       "|        200|Altamira1                                                                                 |ALT1         |         99|Altamira                        |ALT          |\n",
       "|        201|Altamira2                                                                                 |ALT2         |         99|Altamira                        |ALT          |\n",
       "|        223|Apizaco                                                                                   |APZ          |        110|Apizaco                         |APZ          |\n",
       "|        438|Centro de Salud                                                                           |CSA          |        110|Apizaco                         |APZ          |\n",
       "|         82|Centro de Salud                                                                           |ATI          |         51|Atitalaquia                     |ATI          |\n",
       "|         83|Primaria Revolución                                                                       |ATO          |         52|Atotonilco                      |ATO          |\n",
       "|        195|Instituto Tecnológico Superior de los Ríos                                                |ITSR         |         94|Balancán                        |BAL          |\n",
       "|        185|ITESC                                                                                     |TEC          |         86|Cajeme                          |CAJ          |\n",
       "|        221|Calpulalpan                                                                               |CAL          |        108|Calpulalpan                     |CAL          |\n",
       "|        455|Calpulalpan                                                                               |CALP         |        108|Calpulalpan                     |CAL          |\n",
       "|         49|Guadalupe                                                                                 |GPE          |         36|Campeche                        |CAMP         |\n",
       "|        435|Campus II Esc. Prep. Dr. Nazario Víctor Montejo Godoy - Universidad Autónoma de Campeche. |PRE          |         36|Campeche                        |CAMP         |\n",
       "|        382|CARDENAS                                                                                  |CA           |        141|Cardenas                        |CAR          |\n",
       "|        472|Centro Educativo Ecológico Ambiental                                                      |CEEA         |        147|Cd. Madero                      |CDM          |\n",
       "|        473|Centro Educativo Ecológico Ambiental                                                      |CEEA         |        147|Cd. Madero                      |CDM          |\n",
       "|        389|Presidencia                                                                               |PMNV         |        100|Cd. Victoria                    |CDV          |\n",
       "|        202|Tecnológico                                                                               |TECV         |        100|Cd. Victoria                    |CDV          |\n",
       "|         68|Policía                                                                                   |POL          |         45|Celaya                          |CEL          |\n",
       "|         70|San Juanico                                                                               |SJ           |         45|Celaya                          |CEL          |\n",
       "|         69|Tecnológico                                                                               |TEC          |         45|Celaya                          |CEL          |\n",
       "|        422|Instituto Tecnológico del Centla                                                          |ITCSE        |        148|Centla                          |CTA          |\n",
       "|        192|Instituto Tecnológico de Villahermosa                                                     |ITVH         |         93|Centro                          |CEN          |\n",
       "|        193|Plaza de Toro                                                                             |PTR          |         93|Centro                          |CEN          |\n",
       "|        194|Secretaria de Educación                                                                   |SE           |         93|Centro                          |CEN          |\n",
       "|        444|Universidad Juárez Autónoma de Tabasco-División Académica de Ciencias Biológicas          |UJDB         |         93|Centro                          |CEN          |\n",
       "|        421|Universidad Politécnica del Centro                                                        |UPC          |         93|Centro                          |CEN          |\n",
       "|        384|Villahermosa                                                                              |VHE          |         93|Centro                          |CEN          |\n",
       "|         54|Centro                                                                                    |CEN          |         38|Chihuahua                       |CHIH1        |\n",
       "|         53|SUR                                                                                       |SUR          |         38|Chihuahua                       |CHIH1        |\n",
       "|         55|CIMAV                                                                                     |CIMAV        |         39|Chihuahua - Municipal           |CHIH2        |\n",
       "|        428|Instituto de Ingeniería y Tecnología                                                      |IIT          |        150|Ciudad Juárez 2                 |CJU2         |\n",
       "|         57|Tecnologico                                                                               |TEC          |         41|Colima                          |COL          |\n",
       "|        433|Comalcalco Centro                                                                         |CO           |        142|Comalcalco                      |COM          |\n",
       "|        383|instituto Tecnológico Superior de Comalcalco                                              |ITSCO        |        142|Comalcalco                      |COM          |\n",
       "|        166|Corregidora                                                                               |COR          |         76|Corregidora                     |COR          |\n",
       "|        350|Presidencia Municipal                                                                     |COR          |        129|Cortazar                        |CTZ          |\n",
       "|        132|Palacio Municipal Cuautla                                                                 |PMNC         |         67|Cuautla                         |CUA          |\n",
       "|        134|Cuernavaca 01                                                                             |PGO          |         69|Cuernavaca                      |CUE          |\n",
       "|        411|Culiacan                                                                                  |ECLN1        |         80|Culiacán                        |CUL          |\n",
       "|        415|Culiacan                                                                                  |PM10CLN      |         80|Culiacán                        |CUL          |\n",
       "|        175|H. Ayuntamiento de Culiacán                                                               |PMN          |         80|Culiacán                        |CUL          |\n",
       "|        177|Edificio de SCT                                                                           |SCT          |         80|Culiacán                        |CUL          |\n",
       "|        176|Oficinas de la Secretaría                                                                 |SRIA         |         80|Culiacán                        |CUL          |\n",
       "|        445|Universidad Juárez Autónoma de Tabasco – División Académica de Ingeniería  y Arquitectura |DAIA         |        153|Cunduacán                       |CUN          |\n",
       "|        360|Mega Parque                                                                               |DH           |        138|Dolores Hidalgo                 |DHG          |\n",
       "|         62|CBTIS                                                                                     |CBTIS        |         42|Durango                         |DGO          |\n",
       "|         63|Cancún                                                                                    |CUN          |         42|Durango                         |DGO          |\n",
       "|         59|IPN                                                                                       |IPN          |         42|Durango                         |DGO          |\n",
       "|         58|ITD                                                                                       |ITD          |         42|Durango                         |DGO          |\n",
       "|         64|PROFEPA                                                                                   |PFP          |         42|Durango                         |DGO          |\n",
       "|         60|SRNyMA                                                                                    |SRN          |         42|Durango                         |DGO          |\n",
       "|         61|Zaragoza                                                                                  |ZAR          |         42|Durango                         |DGO          |\n",
       "|        206|CEEA                                                                                      |CEEA         |        102|El Mante                        |             |\n",
       "|        204|COBAT                                                                                     |COBAT        |        101|El Mante                        |MAN          |\n",
       "|        205|Presidencia                                                                               |PMNM         |        101|El Mante                        |MAN          |\n",
       "|        167|El Marqués                                                                                |EMA          |         77|El Marques                      |MAR          |\n",
       "|        373|Secundaria No. 9                                                                          |SPABC20      |         31|Ensenada                        |ENS          |\n",
       "|         65|Campestre                                                                                 |CAM          |         43|Gómez Palacio                   |GPD          |\n",
       "|        430|Parque La Esperanza                                                                       |ESP          |         43|Gómez Palacio                   |GPD          |\n",
       "|        439|Gómez Palacio                                                                             |GP           |         43|Gómez Palacio                   |GPD          |\n",
       "|         66|Universidad Juárez                                                                        |NUGP         |         43|Gómez Palacio                   |GPD          |\n",
       "|        341|SRNyMA Laguna                                                                             |SRNL         |         43|Gómez Palacio                   |GPD          |\n",
       "|        103|Las Águilas                                                                               |AGU          |         63|Guadalajara                     |GDL          |\n",
       "|        101|Atemajac                                                                                  |ATM          |         63|Guadalajara                     |GDL          |\n",
       "|        102|Centro                                                                                    |CEN          |         63|Guadalajara                     |GDL          |\n",
       "|        105|Loma Dorada                                                                               |LDO          |         63|Guadalajara                     |GDL          |\n",
       "|        106|Miravalle                                                                                 |MIR          |         63|Guadalajara                     |GDL          |\n",
       "|        107|Oblatos                                                                                   |OBL          |         63|Guadalajara                     |GDL          |\n",
       "|        104|Las Pintas                                                                                |PIN          |         63|Guadalajara                     |GDL          |\n",
       "|        108|Santa Fe                                                                                  |SFE          |         63|Guadalajara                     |GDL          |\n",
       "|        109|Tlaquepaque                                                                               |TLA          |         63|Guadalajara                     |GDL          |\n",
       "|        110|Vallarta                                                                                  |VAL          |         63|Guadalajara                     |GDL          |\n",
       "|        237|Guadalupe Zacatecas                                                                       |GPE          |        117|Guadalupe                       |GPE          |\n",
       "|        296|Presidencia Municipal                                                                     |PMN          |        117|Guadalupe                       |GPE          |\n",
       "|        359|Universidad Gto Sede Belen                                                                |UG-B         |        137|Guanajuato                      |GTO          |\n",
       "|        178|Edificio Carlone                                                                          |EC           |         81|Guasave                         |GUA          |\n",
       "|        416|Guasave                                                                                   |PM10GSVE     |         81|Guasave                         |GUA          |\n",
       "|        188|Guaymas                                                                                   |GYM          |         89|Guaymas                         |GYM          |\n",
       "|        293|Protección Civil                                                                          |PC           |        122|Guerrero                        |GUE          |\n",
       "|        186|Universidad de Sonora                                                                     |USO          |         87|Hermosillo                      |HER          |\n",
       "|        222|Huamantla                                                                                 |HUA          |        109|Huamantla                       |HUA          |\n",
       "|         85|Hospital                                                                                  |HUI          |         54|Huichapan                       |HUI          |\n",
       "|        196|Instituto Tecnológico Superior de la Venta                                                |ITSLV        |         95|Huimanguillo                    |HMG          |\n",
       "|         72|Bomberos                                                                                  |BOM          |         46|Irapuato                        |IRA          |\n",
       "|         71|Sec. Oficial                                                                              |SEC          |         46|Irapuato                        |IRA          |\n",
       "|         73|Teódula                                                                                   |TEO          |         46|Irapuato                        |IRA          |\n",
       "|        225|Ixtacuixtla-Panotla                                                                       |IXT          |        112|Ixtacuixtla-Panotla             |IXT          |\n",
       "|        349|Presidencia Municipal                                                                     |JR           |        128|Juventino Rosas                 |JVR          |\n",
       "|         74|CICEG - Bomberos                                                                          |CC           |         47|León                            |LEO          |\n",
       "|         75|Facultad de Medicina                                                                      |FM           |         47|León                            |LEO          |\n",
       "|        348|Zona Sur                                                                                  |LN-S         |         47|León                            |LEO          |\n",
       "|         76|T21                                                                                       |T21          |         47|León                            |LEO          |\n",
       "|        342|Tecnológico Lerdo                                                                         |LE           |         44|Lerdo                           |LER          |\n",
       "|        440|CONAGUA                                                                                   |LER          |         44|Lerdo                           |LER          |\n",
       "|         67|SAGARPA                                                                                   |SAG          |         44|Lerdo                           |LER          |\n",
       "|        100|Presidencia Municipal                                                                     |LOL          |         62|Lolotla                         |LOL          |\n",
       "|        181|DIF Municipal                                                                             |ELM1         |         83|Los Mochis (Ahome)              |AHO          |\n",
       "|        414|Ayuntamiento                                                                              |PM10LM       |         83|Los Mochis (Ahome)              |AHO          |\n",
       "|        182|Rectoría de Univ. de Occidente                                                            |UO           |         83|Los Mochis (Ahome)              |AHO          |\n",
       "|        474|Instituto Tecnológico Superior de Macuspana                                               |ITSM         |        157|Macuspana                       |MAC          |\n",
       "|        209|Bomberos Lauro Villar                                                                     |BOM          |        103|Matamoros                       |MAT          |\n",
       "|        207|DIF                                                                                       |DIF          |        103|Matamoros                       |MAT          |\n",
       "|        208|Quinto Real                                                                               |QRE          |        103|Matamoros                       |MAT          |\n",
       "|        210|Solidaridad                                                                               |SOL          |        103|Matamoros                       |MAT          |\n",
       "|        179|Junta Municipal de Agua Potable                                                           |EMZT1        |         82|Mazatlán                        |MZT          |\n",
       "|        413|Mazatlan                                                                                  |PM10MZT      |         82|Mazatlán                        |MZT          |\n",
       "|        180|Seguro Social                                                                             |SS           |         82|Mazatlán                        |MZT          |\n",
       "|        236|SDS01                                                                                     |CEN          |        116|Mérida                          |MID          |\n",
       "|        369|Instituto Tecnológico de Mexicali                                                         |SPABC10      |         32|Mexicali                        |MXC          |\n",
       "|         37|CONALEP                                                                                   |SPABC11      |         32|Mexicali                        |MXC          |\n",
       "|        371|UABC                                                                                      |SPABC12      |         32|Mexicali                        |MXC          |\n",
       "|        403|Centro de bachillerato                                                                    |SPABC13      |         32|Mexicali                        |MXC          |\n",
       "|         39|COBACH                                                                                    |SPABC14      |         32|Mexicali                        |MXC          |\n",
       "|         40|Progreso                                                                                  |SPABC15      |         32|Mexicali                        |MXC          |\n",
       "|        370|Centro de Salud                                                                           |SPABC15      |         32|Mexicali                        |MXC          |\n",
       "|        402|Campestre                                                                                 |SPABC18      |         32|Mexicali                        |MXC          |\n",
       "|         41|CESPM                                                                                     |SPABC19      |         32|Mexicali                        |MXC          |\n",
       "|         42|UPBC                                                                                      |SPABC22      |         32|Mexicali                        |MXC          |\n",
       "|        234|Tecnológico                                                                               |TEC          |        114|Minatitlán                      |MIN          |\n",
       "|        305|Jurisdicción Sanitaria                                                                    |JUR          |        124|Monclova                        |MON          |\n",
       "|        141|Obispado                                                                                  |CE           |         72|Monterrey                       |MTY          |\n",
       "|        144|Escobedo                                                                                  |N            |         72|Monterrey                       |MTY          |\n",
       "|        425|Universidad                                                                               |N2           |         72|Monterrey                       |MTY          |\n",
       "|        142|San Nicolás                                                                               |NE           |         72|Monterrey                       |MTY          |\n",
       "|        146|Apodaca                                                                                   |NE2          |         72|Monterrey                       |MTY          |\n",
       "|        446|Pesquería                                                                                 |NE3          |         72|Monterrey                       |MTY          |\n",
       "|        140|San Bernabé                                                                               |NO           |         72|Monterrey                       |MTY          |\n",
       "|        145|García                                                                                    |NO2          |         72|Monterrey                       |MTY          |\n",
       "|        143|La Pastora                                                                                |SE           |         72|Monterrey                       |MTY          |\n",
       "|        147|Juárez                                                                                    |SE2          |         72|Monterrey                       |MTY          |\n",
       "|        424|Cadereyta                                                                                 |SE3          |         72|Monterrey                       |MTY          |\n",
       "|        139|Santa Catarina                                                                            |SO           |         72|Monterrey                       |MTY          |\n",
       "|        148|San Pedro                                                                                 |SO2          |         72|Monterrey                       |MTY          |\n",
       "|        426|Pueblo Serena                                                                             |SUR          |         72|Monterrey                       |MTY          |\n",
       "|        388|Palacio Municipal                                                                         |ECH          |         66|Morelia                         |MRA          |\n",
       "|        129|Universidad Michoacana de San Nicolás Hidalgo                                             |ECU          |         66|Morelia                         |MRA          |\n",
       "|        131|Laboratorio de Salud                                                                      |LAB          |         66|Morelia                         |MRA          |\n",
       "|        354|Dirección de Ecología Municipal                                                           |MOR          |        132|Moroleon                        |MRL          |\n",
       "|        114|ACS                                                                                       |ACS          |         64|Municipio de Juárez             |CJU          |\n",
       "|        112|Advance                                                                                   |ADV          |         64|Municipio de Juárez             |CJU          |\n",
       "|        115|ANAPRA                                                                                    |ANA          |         64|Municipio de Juárez             |CJU          |\n",
       "|        118|BABICORA                                                                                  |BABI         |         64|Municipio de Juárez             |CJU          |\n",
       "|        119|BENITO JUÁREZ                                                                             |BEJ          |         64|Municipio de Juárez             |CJU          |\n",
       "|        120|CHAMIZAL                                                                                  |CHA          |         64|Municipio de Juárez             |CJU          |\n",
       "|        111|Canales Lira                                                                              |CLB          |         64|Municipio de Juárez             |CJU          |\n",
       "|        407|Delphi                                                                                    |DEL          |         64|Municipio de Juárez             |CJU          |\n",
       "|        387|Chihuahua                                                                                 |EPC          |         64|Municipio de Juárez             |CJU          |\n",
       "|        116|FEDERAL 3                                                                                 |FED3         |         64|Municipio de Juárez             |CJU          |\n",
       "|        117|NIÑEZ-MEXICANA                                                                            |NIM          |         64|Municipio de Juárez             |CJU          |\n",
       "|        386|Peztalozzi                                                                                |Pesta        |         64|Municipio de Juárez             |CJU          |\n",
       "|        448|Planta de Tratamiento de Aguas Residuales Norte                                           |PTN          |         64|Municipio de Juárez             |CJU          |\n",
       "|        121|TECNO                                                                                     |TEC          |         64|Municipio de Juárez             |CJU          |\n",
       "|        113|ZENCO                                                                                     |ZEN          |         64|Municipio de Juárez             |CJU          |\n",
       "|        437|Palacio Municipal                                                                         |PMN          |        152|Municipio de Mexicali           |MXCM         |\n",
       "|        197|Instituto Politécnico de la Chontalpa                                                     |IPC          |         96|Nacajuca                        |NAC          |\n",
       "|        189|Navojoa                                                                                   |NAV          |         90|Navojoa                         |NAV          |\n",
       "|        187|Instituto Tecnológico de Nogales                                                          |TEC          |         88|Nogales                         |NOG          |\n",
       "|        213|Bomberos                                                                                  |BOM          |        104|Nuevo Laredo                    |NLD          |\n",
       "|        212|CBTIS234                                                                                  |CBTIS        |        104|Nuevo Laredo                    |NLD          |\n",
       "|        214|IMSS Santa Fé                                                                             |IMSS         |        104|Nuevo Laredo                    |NLD          |\n",
       "|        211|Tecnológico                                                                               |TECNL        |        104|Nuevo Laredo                    |NLD          |\n",
       "|        160|Centro de Educación Artística                                                             |CED          |         73|Oaxaca                          |OAX          |\n",
       "|        297|Casa Hogar                                                                                |CHO          |         73|Oaxaca                          |OAX          |\n",
       "|        133|Palacio Municipal                                                                         |PMNO         |         68|Ocuituco                        |OCU          |\n",
       "|        412|Presidencia Municipal                                                                     |PMN          |        145|Ojinaga                         |OJI          |\n",
       "|        419|Protección Civil                                                                          |PTC          |        145|Ojinaga                         |OJI          |\n",
       "|        418|Taller de Obras Públicas                                                                  |TOP          |        145|Ojinaga                         |OJI          |\n",
       "|         94|Casa de la Mujer Hidalguense                                                              |CMH          |         59|Pachuca                         |PAC          |\n",
       "|        343|Cubitos                                                                                   |CUB          |         59|Pachuca                         |PAC          |\n",
       "|         95|Instituto Tecnológico de Pachuca                                                          |ITP          |         59|Pachuca                         |PAC          |\n",
       "|         92|Jardín del Maestro                                                                        |JDN          |         59|Pachuca                         |PAC          |\n",
       "|        441|Pachuca                                                                                   |PAC          |         59|Pachuca                         |PAC          |\n",
       "|         93|Museo del Rehilete                                                                        |REH          |         59|Pachuca                         |PAC          |\n",
       "|        198|Universidad Politécnica del Golfo de México                                               |UPGM         |         97|Paraíso                         |PAR          |\n",
       "|        306|Centro de Rehabilitación DIF                                                              |DIF          |        125|Piedras Negras                  |PDS          |\n",
       "|        291|Universidad Veracruzana                                                                   |PR-03        |        120|Poza Rica                       |POZ          |\n",
       "|        163|Benemérito Instituto Normal del Estado                                                    |BINE         |         74|Puebla                          |PUE          |\n",
       "|        162|Las Ninfas                                                                                |NIN          |         74|Puebla                          |PUE          |\n",
       "|        429|Serdán                                                                                    |SER          |         74|Puebla                          |PUE          |\n",
       "|        161|Agua Santa                                                                                |STA          |         74|Puebla                          |PUE          |\n",
       "|        164|Tecnológico                                                                               |TEC          |         74|Puebla                          |PUE          |\n",
       "|        406|Universidad Tecnológica de Puebla                                                         |UTP          |         74|Puebla                          |PUE          |\n",
       "|        165|Velódromo                                                                                 |VEL          |         74|Puebla                          |PUE          |\n",
       "|        191|Puerto Peñasco                                                                            |PPE          |         92|Puerto Peñasco                  |PPE          |\n",
       "|        423|Purísima del Rincón                                                                       |PUR          |        149|Purísima del Rincón             |PUR          |\n",
       "|        449|Estación uno dos tres cuatro                                                              |Est1234      |        156|Red uno dos tres cuatro         |Red1234      |\n",
       "|        215|Reynosa1                                                                                  |REY1         |        105|Reynosa                         |REY          |\n",
       "|        216|Reynosa2                                                                                  |REY2         |        105|Reynosa                         |REY          |\n",
       "|        217|Reynosa3                                                                                  |REY3         |        105|Reynosa                         |REY          |\n",
       "|        218|Reynosa4                                                                                  |REY4         |        105|Reynosa                         |REY          |\n",
       "|         43|Rosarito                                                                                  |SPABC04      |         33|Rosarito                        |ROS          |\n",
       "|         77|Cruz roja                                                                                 |CR           |         48|Salamanca                       |SAL          |\n",
       "|         78|DIF                                                                                       |DIF          |         48|Salamanca                       |SAL          |\n",
       "|         79|Nativitas                                                                                 |NAT          |         48|Salamanca                       |SAL          |\n",
       "|        304|Finanzas                                                                                  |FIN          |        123|Saltillo                        |SLW          |\n",
       "|        417|Salvador Alvarado                                                                         |PM10SA       |         84|Salvador Alvarado               |SAA          |\n",
       "|        183|Ayuntamiento                                                                              |PMN          |         84|Salvador Alvarado               |SAA          |\n",
       "|        357|Dirección de Ecología Municipal                                                           |SFR          |        135|San Francisco del Rincón        |SFR          |\n",
       "|        361|Presidencia Municipal                                                                     |SJI          |        139|San José Iturbide               |SJI          |\n",
       "|        410|San Juan del Río                                                                          |SJR          |        146|San Juan del Rio                |SJR          |\n",
       "|        358|Presidencia Municipal                                                                     |SLP          |        136|San Luis de la Paz              |SPZ          |\n",
       "|        174|Biblioteca                                                                                |BIB          |         79|San Luis Potosí Estatal         |SLP          |\n",
       "|        172|DIF                                                                                       |DIF          |         79|San Luis Potosí Estatal         |SLP          |\n",
       "|        173|Facultad Psicología                                                                       |FPS          |         79|San Luis Potosí Estatal         |SLP          |\n",
       "|        171|Industriales Potosinos Asociados                                                          |IPAC         |         79|San Luis Potosí Estatal         |SLP          |\n",
       "|        427|Escuela Primaria 1° de mayo                                                               |PRIM         |         79|San Luis Potosí Estatal         |SLP          |\n",
       "|        443|Escuela 1 de mayo                                                                         |PRIM         |         79|San Luis Potosí Estatal         |SLP          |\n",
       "|        190|San Luis Río Colorado                                                                     |SLR          |         91|San Luis Río Colorado           |SLR          |\n",
       "|        352|Presidencia Municipal                                                                     |PRE-SMA      |        130|San Miguel de Allende           |SMA          |\n",
       "|        351|CAISES                                                                                    |SMA          |        130|San Miguel de Allende           |SMA          |\n",
       "|        224|Quilehtla                                                                                 |SCQ          |        111|Santa Cruz Quilehtla            |SCQ          |\n",
       "|         80|Hospital General                                                                          |HG           |         49|Silao                           |SIL          |\n",
       "|        219|Estación de Policía                                                                       |POL          |        106|Tampico                         |TAM          |\n",
       "|        199|Universidad Politécnica del Centro                                                        |UPC2         |         98|Teapa                           |TPA          |\n",
       "|         44|Tecate                                                                                    |SPABC23      |         34|Tecate                          |TKT          |\n",
       "|        379|Tecate                                                                                    |SPABC23      |         34|Tecate                          |TKT          |\n",
       "|         84|Estación de Bomberos de Cd. Sahagún                                                       |TEP          |         53|Tepeapulco                      |TEP          |\n",
       "|         87|Primaria Melchor Ocampo                                                                   |TPJ          |         56|Tepeji                          |TPJ          |\n",
       "|         86|Presidencia Municipal Tepetitlán                                                          |TPT          |         55|Tepetitlán                      |TPT          |\n",
       "|        137|Primaria Julián Gascón Mercado                                                            |PRIM         |         71|Tepic                           |TPC          |\n",
       "|        136|Tecnológico de Tepic                                                                      |TEC          |         71|Tepic                           |TPC          |\n",
       "|         45|Tecnológico                                                                               |SPABC01      |         35|Tijuana                         |TIJ          |\n",
       "|        376|Instituto Tecnológico de Tijuana                                                          |SPABC01      |         35|Tijuana                         |TIJ          |\n",
       "|        434|Centro de Salud                                                                           |SPABC02      |         35|Tijuana                         |TIJ          |\n",
       "|         47|La Mesa                                                                                   |SPABC03      |         35|Tijuana                         |TIJ          |\n",
       "|        405|Las Playas                                                                                |SPABC05      |         35|Tijuana                         |TIJ          |\n",
       "|        375|Colegio de la Frontera                                                                    |SPABC16      |         35|Tijuana                         |TIJ          |\n",
       "|         46|Laboratorio                                                                               |SPABC21      |         35|Tijuana                         |TIJ          |\n",
       "|         96|Biblioteca                                                                                |TIZ          |         60|Tizayuca                        |TIZ          |\n",
       "|        220|Palacio de Gobierno                                                                       |PGO          |        107|Tlaxcala                        |TLAX         |\n",
       "|        456|Almoloya de Juárez                                                                        |AJ           |         65|Toluca                          |TLC          |\n",
       "|        122|Aeropuerto                                                                                |AP           |         65|Toluca                          |TLC          |\n",
       "|        459|Santa María Atarasquillo                                                                  |AT           |         65|Toluca                          |TLC          |\n",
       "|        458|Calimaya                                                                                  |CA           |         65|Toluca                          |TLC          |\n",
       "|        123|Ceboruco                                                                                  |CB           |         65|Toluca                          |TLC          |\n",
       "|        124|Toluca Centro                                                                             |CE           |         65|Toluca                          |TLC          |\n",
       "|        125|Metepec                                                                                   |MT           |         65|Toluca                          |TLC          |\n",
       "|        126|Oxtotitlán                                                                                |OX           |         65|Toluca                          |TLC          |\n",
       "|        127|San Cristobal                                                                             |SC           |         65|Toluca                          |TLC          |\n",
       "|        385|San Lorenzo Tepaltitlán                                                                   |SL           |         65|Toluca                          |TLC          |\n",
       "|        128|San Mateo Atenco                                                                          |SM           |         65|Toluca                          |TLC          |\n",
       "|        457|Xonacatlán                                                                                |XO           |         65|Toluca                          |TLC          |\n",
       "|         56|CONALEP                                                                                   |CNP          |         40|Torreón                         |TORR         |\n",
       "|        230|Capellania                                                                                |CAP          |        113|Torreón Municipal               |TOR          |\n",
       "|        226|Centro Cultural R. Mijares                                                                |CCRM         |        113|Torreón Municipal               |TOR          |\n",
       "|        227|DIF- Torreón                                                                              |DIFT         |        113|Torreón Municipal               |TOR          |\n",
       "|        420|HECAT                                                                                     |HECAT        |        113|Torreón Municipal               |TOR          |\n",
       "|        340|Hospital Infantil                                                                         |HOS          |        113|Torreón Municipal               |TOR          |\n",
       "|        231|Parroquia                                                                                 |IGLE         |        113|Torreón Municipal               |TOR          |\n",
       "|        233|Primaria                                                                                  |PRIM         |        113|Torreón Municipal               |TOR          |\n",
       "|        228|Secundaria Gral. 2                                                                        |SEC2         |        113|Torreón Municipal               |TOR          |\n",
       "|        229|Secundaria Gral. 3                                                                        |SEC3         |        113|Torreón Municipal               |TOR          |\n",
       "|        232|Secundaria Técnica 83                                                                     |SEC83        |        113|Torreón Municipal               |TOR          |\n",
       "|         90|Centro de Salud                                                                           |CSA          |         58|Tula                            |TUL          |\n",
       "|         89|Hospital Regional                                                                         |HRE          |         58|Tula                            |TUL          |\n",
       "|        309|Clínica de Salud                                                                          |TJU          |         58|Tula                            |TUL          |\n",
       "|         91|Oficinas Tula                                                                             |TOF          |         58|Tula                            |TUL          |\n",
       "|        307|Tula Centro                                                                               |TULA         |         58|Tula                            |TUL          |\n",
       "|        442|Universidad Tecnológica de Tula Tepeji                                                    |UTTT         |         58|Tula                            |TUL          |\n",
       "|        292|Tulancingo                                                                                |TLN          |        121|Tulancingo                      |TLN          |\n",
       "|         52|DIF                                                                                       |DIF          |         37|Tuxtla Gutiérrez                |TUX          |\n",
       "|         51|Delegación Terán                                                                          |DT           |         37|Tuxtla Gutiérrez                |TUX          |\n",
       "|        398|Palacio Municipal                                                                         |PM           |         37|Tuxtla Gutiérrez                |TUX          |\n",
       "|         50|Palacio Municipal                                                                         |PMN          |         37|Tuxtla Gutiérrez                |TUX          |\n",
       "|        475|                                                                                          |             |        119|Valle de México                 |CMX          |\n",
       "|        240|Acolman                                                                                   |ACO          |        119|Valle de México                 |CMX          |\n",
       "|        242|Ajusco Medio                                                                              |AJM          |        119|Valle de México                 |CMX          |\n",
       "|        241|Ajusco                                                                                    |AJU          |        119|Valle de México                 |CMX          |\n",
       "|        314|Aragón                                                                                    |ARA          |        119|Valle de México                 |CMX          |\n",
       "|        243|Atizapán                                                                                  |ATI          |        119|Valle de México                 |CMX          |\n",
       "|        315|Azcapotzalco                                                                              |AZC          |        119|Valle de México                 |CMX          |\n",
       "|        300|Benito Juárez                                                                             |BJU          |        119|Valle de México                 |CMX          |\n",
       "|        244|Camarones                                                                                 |CAM          |        119|Valle de México                 |CMX          |\n",
       "|        245|Centro de Ciencias de la Atmósfera                                                        |CCA          |        119|Valle de México                 |CMX          |\n",
       "|        317|Cerro de la estrella                                                                      |CES          |        119|Valle de México                 |CMX          |\n",
       "|        246|Chalco                                                                                    |CHO          |        119|Valle de México                 |CMX          |\n",
       "|        247|Coyoacán                                                                                  |COY          |        119|Valle de México                 |CMX          |\n",
       "|        248|Cuajimalpa                                                                                |CUA          |        119|Valle de México                 |CMX          |\n",
       "|        318|Cuitláhuac                                                                                |CUI          |        119|Valle de México                 |CMX          |\n",
       "|        249|Cuautitlán                                                                                |CUT          |        119|Valle de México                 |CMX          |\n",
       "|        250|FES Acatlán                                                                               |FAC          |        119|Valle de México                 |CMX          |\n",
       "|        431|FES Aragón                                                                                |FAR          |        119|Valle de México                 |CMX          |\n",
       "|        302|Gustavo A. Madero                                                                         |GAM          |        119|Valle de México                 |CMX          |\n",
       "|        320|Hangares                                                                                  |HAN          |        119|Valle de México                 |CMX          |\n",
       "|        251|Hospital General de México                                                                |HGM          |        119|Valle de México                 |CMX          |\n",
       "|        322|Instituto Mexicano del Petróleo                                                           |IMP          |        119|Valle de México                 |CMX          |\n",
       "|        301|Instituto Nacional de Investigaciones Nucleares                                           |INN          |        119|Valle de México                 |CMX          |\n",
       "|        252|Iztacalco                                                                                 |IZT          |        119|Valle de México                 |CMX          |\n",
       "|        324|Lagunilla                                                                                 |LAG          |        119|Valle de México                 |CMX          |\n",
       "|        254|Los Laureles                                                                              |LLA          |        119|Valle de México                 |CMX          |\n",
       "|        255|Lomas                                                                                     |LOM          |        119|Valle de México                 |CMX          |\n",
       "|        253|La Presa                                                                                  |LPR          |        119|Valle de México                 |CMX          |\n",
       "|        325|La Villa                                                                                  |LVI          |        119|Valle de México                 |CMX          |\n",
       "|        326|Museo de la Ciudad de México                                                              |MCM          |        119|Valle de México                 |CMX          |\n",
       "|        256|Merced                                                                                    |MER          |        119|Valle de México                 |CMX          |\n",
       "|        263|Miguel Hidalgo                                                                            |MGH          |        119|Valle de México                 |CMX          |\n",
       "|        399|Metro Insurgentes                                                                         |MIN          |        119|Valle de México                 |CMX          |\n",
       "|        257|Montecillo                                                                                |MON          |        119|Valle de México                 |CMX          |\n",
       "|        299|Milpa Alta                                                                                |MPA          |        119|Valle de México                 |CMX          |\n",
       "|        329|Netzahualcóyotl                                                                           |NET          |        119|Valle de México                 |CMX          |\n",
       "|        258|Nezahualcóyotl                                                                            |NEZ          |        119|Valle de México                 |CMX          |\n",
       "|        331|Netzahualcóyotl Sur                                                                       |NTS          |        119|Valle de México                 |CMX          |\n",
       "|        259|Pedregal                                                                                  |PED          |        119|Valle de México                 |CMX          |\n",
       "|        332|Plateros                                                                                  |PLA          |        119|Valle de México                 |CMX          |\n",
       "|        432|Santiago Acahualtepec                                                                     |SAC          |        119|Valle de México                 |CMX          |\n",
       "|        436|Santiago Acahualtepec                                                                     |SAC          |        119|Valle de México                 |CMX          |\n",
       "|        260|San Agustín                                                                               |SAG          |        119|Valle de México                 |CMX          |\n",
       "|        262|Santa Fe                                                                                  |SFE          |        119|Valle de México                 |CMX          |\n",
       "|        264|Secretaría de Hacienda                                                                    |SHA          |        119|Valle de México                 |CMX          |\n",
       "|        261|San Juan de Aragón                                                                        |SJA          |        119|Valle de México                 |CMX          |\n",
       "|        400|Santa Ursula                                                                              |SUR          |        119|Valle de México                 |CMX          |\n",
       "|        334|Tacuba                                                                                    |TAC          |        119|Valle de México                 |CMX          |\n",
       "|        265|Tlahuac                                                                                   |TAH          |        119|Valle de México                 |CMX          |\n",
       "|        335|Taxqueña                                                                                  |TAX          |        119|Valle de México                 |CMX          |\n",
       "|        266|Tlalnepantla                                                                              |TLA          |        119|Valle de México                 |CMX          |\n",
       "|        267|Tultitlán                                                                                 |TLI          |        119|Valle de México                 |CMX          |\n",
       "|        336|Tlalpan                                                                                   |TPN          |        119|Valle de México                 |CMX          |\n",
       "|        269|UAM Xochimilco                                                                            |UAX          |        119|Valle de México                 |CMX          |\n",
       "|        268|UAM Iztapalapa                                                                            |UIZ          |        119|Valle de México                 |CMX          |\n",
       "|        401|Vallejo                                                                                   |VAL          |        119|Valle de México                 |CMX          |\n",
       "|        270|Villa de las Flores                                                                       |VIF          |        119|Valle de México                 |CMX          |\n",
       "|        271|Xalostoc                                                                                  |XAL          |        119|Valle de México                 |CMX          |\n",
       "|        338|Xochimilco                                                                                |XCH          |        119|Valle de México                 |CMX          |\n",
       "|        447|Cruz Roja Mexicana                                                                        |VER-04       |        154|Veracruz                        |VER          |\n",
       "|        355|Presidencia Municipal                                                                     |VILL         |        133|Villagrán                       |VIG          |\n",
       "|        235|STPS                                                                                      |STP          |        115|Xalapa                          |XAL          |\n",
       "|         97|Delegación Municipal                                                                      |DEL          |         61|Xochicoatlán                    |XCT          |\n",
       "|         98|Escuela Primaria                                                                          |PRIM         |         61|Xochicoatlán                    |XCT          |\n",
       "|         99|Oficina de Correos                                                                        |XCT          |         61|Xochicoatlán                    |XCT          |\n",
       "|        294|Explanada del Congreso                                                                    |CDA          |        118|Zacatecas                       |ZAC          |\n",
       "|        239|IMSS Zac                                                                                  |IMSS         |        118|Zacatecas                       |ZAC          |\n",
       "|        295|Col. Minera                                                                               |MIN          |        118|Zacatecas                       |ZAC          |\n",
       "|        238|ZigZag                                                                                    |ZZZ          |        118|Zacatecas                       |ZAC          |\n",
       "|        135|Tecnológico de Zacatepec                                                                  |TEC          |         70|Zacatepec                       |ZAC          |\n",
       "|        308|Palacio Municipal                                                                         |ZAP          |        126|Zapotlán                        |ZAP          |\n",
       "|        409|Auditorio Josefa Ortíz                                                                    |AJO          |         78|Zona Metropolitana de Querétaro |ZMQ          |\n",
       "|        408|Carrillo Puerto                                                                           |CAP          |         78|Zona Metropolitana de Querétaro |ZMQ          |\n",
       "|        452|Carrillo Puerto Anterior                                                                  |CAP-O        |         78|Zona Metropolitana de Querétaro |ZMQ          |\n",
       "|        170|Centro                                                                                    |CEN          |         78|Zona Metropolitana de Querétaro |ZMQ          |\n",
       "|        450|Corregidora                                                                               |COR          |         78|Zona Metropolitana de Querétaro |ZMQ          |\n",
       "|        451|El Marqués                                                                                |EMA          |         78|Zona Metropolitana de Querétaro |ZMQ          |\n",
       "|        460|Epigmenio González                                                                        |EPG          |         78|Zona Metropolitana de Querétaro |ZMQ          |\n",
       "|        168|Epigmenio González Anterior                                                               |EPG-O        |         78|Zona Metropolitana de Querétaro |ZMQ          |\n",
       "|        169|Félix Osores                                                                              |FEO          |         78|Zona Metropolitana de Querétaro |ZMQ          |\n",
       "|        453|Felix Osores Anterior                                                                     |FEO-O        |         78|Zona Metropolitana de Querétaro |ZMQ          |\n",
       "|        454|Josefa Vergara                                                                            |JOV          |         78|Zona Metropolitana de Querétaro |ZMQ          |"
      ]
     },
     "metadata": {},
     "output_type": "display_data"
    }
   ],
   "source": [
    "knitr::kable(stations_sinaica[1:6])"
   ]
  },
  {
   "cell_type": "markdown",
   "id": "22a7ab26-ffba-45c9-85a7-616a6b3c8c16",
   "metadata": {},
   "source": [
    "Filter for Guadalajara"
   ]
  },
  {
   "cell_type": "code",
   "execution_count": 4,
   "id": "e10d0248-27d6-4428-93fc-f25177f5c0ea",
   "metadata": {
    "scrolled": true
   },
   "outputs": [
    {
     "data": {
      "text/plain": [
       "\n",
       "\n",
       "|   | station_id|station_name |station_code | network_id|network_name |network_code |\n",
       "|:--|----------:|:------------|:------------|----------:|:------------|:------------|\n",
       "|82 |        103|Las Águilas  |AGU          |         63|Guadalajara  |GDL          |\n",
       "|83 |        101|Atemajac     |ATM          |         63|Guadalajara  |GDL          |\n",
       "|84 |        102|Centro       |CEN          |         63|Guadalajara  |GDL          |\n",
       "|85 |        105|Loma Dorada  |LDO          |         63|Guadalajara  |GDL          |\n",
       "|86 |        106|Miravalle    |MIR          |         63|Guadalajara  |GDL          |\n",
       "|87 |        107|Oblatos      |OBL          |         63|Guadalajara  |GDL          |\n",
       "|88 |        104|Las Pintas   |PIN          |         63|Guadalajara  |GDL          |\n",
       "|89 |        108|Santa Fe     |SFE          |         63|Guadalajara  |GDL          |\n",
       "|90 |        109|Tlaquepaque  |TLA          |         63|Guadalajara  |GDL          |\n",
       "|91 |        110|Vallarta     |VAL          |         63|Guadalajara  |GDL          |"
      ]
     },
     "metadata": {},
     "output_type": "display_data"
    }
   ],
   "source": [
    "knitr::kable(stations_sinaica[which(stations_sinaica$network_name == \"Guadalajara\"), 1:6])"
   ]
  },
  {
   "cell_type": "markdown",
   "id": "8783c71d-df1d-4a0f-9fde-87bdb8eead9f",
   "metadata": {},
   "source": [
    "Filter data according to network name and check for available dates"
   ]
  },
  {
   "cell_type": "code",
   "execution_count": 5,
   "id": "a8700c22-fc85-4be9-a9d7-57fbd87c1dab",
   "metadata": {},
   "outputs": [
    {
     "name": "stdout",
     "output_type": "stream",
     "text": [
      "[1] \"Las Águilas 1997-01-01\" \"Las Águilas 2024-10-04\"\n",
      "[1] \"Atemajac 1997-01-01\" \"Atemajac 2024-11-23\"\n",
      "[1] \"Centro 1997-01-01\" \"Centro 2025-01-30\"\n",
      "[1] \"Loma Dorada 1997-01-01\" \"Loma Dorada 2025-01-29\"\n",
      "[1] \"Miravalle 1997-01-01\" \"Miravalle 2025-01-30\"\n",
      "[1] \"Oblatos 1997-01-01\" \"Oblatos 2025-01-30\"\n",
      "[1] \"Las Pintas 2010-12-31\" \"Las Pintas 2024-09-07\"\n",
      "[1] \"Santa Fe 2012-12-31\" \"Santa Fe 2025-01-06\"\n",
      "[1] \"Tlaquepaque 1997-01-01\" \"Tlaquepaque 2025-01-29\"\n",
      "[1] \"Vallarta 1997-01-01\" \"Vallarta 2025-01-30\"\n"
     ]
    }
   ],
   "source": [
    "for (value in stations_sinaica[stations_sinaica$network_name == 'Guadalajara', ]$station_id) {\n",
    "\n",
    "    if (is.na(value)) {\n",
    "    next  # Skip NA values\n",
    "  }\n",
    "  # print(sinaica_station_dates(value))\n",
    "    station_name = stations_sinaica[stations_sinaica$station_id == value, ]$station_name\n",
    "    print(paste(station_name, sinaica_station_dates(value)))\n",
    "}"
   ]
  },
  {
   "cell_type": "markdown",
   "id": "a3b51397-e445-4fbc-9e29-3db48f4fdee8",
   "metadata": {},
   "source": [
    "### Plot Guadalajara stations"
   ]
  },
  {
   "cell_type": "code",
   "execution_count": 6,
   "id": "18db7bea-37b9-474d-ae53-14a7ce3762b9",
   "metadata": {},
   "outputs": [
    {
     "name": "stderr",
     "output_type": "stream",
     "text": [
      "Linking to GEOS 3.12.2, GDAL 3.9.3, PROJ 9.4.1; sf_use_s2() is TRUE\n",
      "\n"
     ]
    }
   ],
   "source": [
    "library(sf)\n",
    "library(ggplot2)"
   ]
  },
  {
   "cell_type": "code",
   "execution_count": 7,
   "id": "5d009cab-2896-4bac-abb6-7245719aab29",
   "metadata": {},
   "outputs": [],
   "source": [
    "# filter data for Guadalajara\n",
    "stations_gdl = stations_sinaica[stations_sinaica$network_name == 'Guadalajara', ]\n",
    "# remove rows with NA values in lat and lon\n",
    "stations_gdl = stations_gdl[complete.cases(stations_gdl$lat, stations_gdl$lon), ]\n",
    "sf_df <- st_as_sf(stations_gdl, coords = c(\"lon\", \"lat\"), crs = 4326)"
   ]
  },
  {
   "cell_type": "code",
   "execution_count": 8,
   "id": "747d1b00-bc4e-44de-8926-e66836da1082",
   "metadata": {
    "scrolled": true
   },
   "outputs": [
    {
     "name": "stderr",
     "output_type": "stream",
     "text": [
      "ERROR while rich displaying an object: Error in loadNamespace(x): there is no package called ‘geojsonio’\n",
      "\n",
      "Traceback:\n",
      "1. sapply(x, f, simplify = simplify)\n",
      "2. lapply(X = X, FUN = FUN, ...)\n",
      "3. FUN(X[[i]], ...)\n",
      "4. tryCatch(withCallingHandlers({\n",
      " .     if (!mime %in% names(repr::mime2repr)) \n",
      " .         stop(\"No repr_* for mimetype \", mime, \" in repr::mime2repr\")\n",
      " .     rpr <- repr::mime2repr[[mime]](obj)\n",
      " .     if (is.null(rpr)) \n",
      " .         return(NULL)\n",
      " .     prepare_content(is.raw(rpr), rpr)\n",
      " . }, error = error_handler), error = outer_handler)\n",
      "5. tryCatchList(expr, classes, parentenv, handlers)\n",
      "6. tryCatchOne(expr, names, parentenv, handlers[[1L]])\n",
      "7. doTryCatch(return(expr), name, parentenv, handler)\n",
      "8. withCallingHandlers({\n",
      " .     if (!mime %in% names(repr::mime2repr)) \n",
      " .         stop(\"No repr_* for mimetype \", mime, \" in repr::mime2repr\")\n",
      " .     rpr <- repr::mime2repr[[mime]](obj)\n",
      " .     if (is.null(rpr)) \n",
      " .         return(NULL)\n",
      " .     prepare_content(is.raw(rpr), rpr)\n",
      " . }, error = error_handler)\n",
      "9. repr::mime2repr[[mime]](obj)\n",
      "10. repr_geojson.sf(obj)\n",
      "11. repr_geojson(geojsonio::geojson_list(obj), ...)\n",
      "12. loadNamespace(x)\n",
      "13. withRestarts(stop(cond), retry_loadNamespace = function() NULL)\n",
      "14. withOneRestart(expr, restarts[[1L]])\n",
      "15. doWithOneRestart(return(expr), restart)\n"
     ]
    },
    {
     "data": {
      "text/html": [
       "<table class=\"dataframe\">\n",
       "<caption>A sf: 2 × 25</caption>\n",
       "<thead>\n",
       "\t<tr><th></th><th scope=col>station_id</th><th scope=col>station_name</th><th scope=col>station_code</th><th scope=col>network_id</th><th scope=col>network_name</th><th scope=col>network_code</th><th scope=col>street</th><th scope=col>ext</th><th scope=col>interior</th><th scope=col>colonia</th><th scope=col>geometry</th><th scope=col>⋯</th><th scope=col>address</th><th scope=col>date_validated</th><th scope=col>date_validated2</th><th scope=col>passed_validation</th><th scope=col>video</th><th scope=col>date_started</th><th scope=col>timezone</th><th scope=col>street_view</th><th scope=col>video_interior</th><th scope=col>geometry</th></tr>\n",
       "\t<tr><th></th><th scope=col>&lt;int&gt;</th><th scope=col>&lt;chr&gt;</th><th scope=col>&lt;chr&gt;</th><th scope=col>&lt;int&gt;</th><th scope=col>&lt;chr&gt;</th><th scope=col>&lt;chr&gt;</th><th scope=col>&lt;chr&gt;</th><th scope=col>&lt;chr&gt;</th><th scope=col>&lt;chr&gt;</th><th scope=col>&lt;chr&gt;</th><th scope=col>⋯</th><th scope=col>&lt;chr&gt;</th><th scope=col>&lt;chr&gt;</th><th scope=col>&lt;chr&gt;</th><th scope=col>&lt;int&gt;</th><th scope=col>&lt;chr&gt;</th><th scope=col>&lt;chr&gt;</th><th scope=col>&lt;chr&gt;</th><th scope=col>&lt;chr&gt;</th><th scope=col>&lt;chr&gt;</th><th scope=col>&lt;POINT [°]&gt;</th></tr>\n",
       "</thead>\n",
       "<tbody>\n",
       "\t<tr><th scope=row>82</th><td>103</td><td>Las Águilas</td><td>AGU</td><td>63</td><td>Guadalajara</td><td>GDL</td><td>Avenida López Mateos                   </td><td>5250 </td><td></td><td>Las águilas</td><td>POINT (-103.4164 20.63127)</td><td>⋯</td><td>Avenida Adolfo López Mateos No. 5250 , Arboledas. Zapopan, 45070, Jalisco        </td><td>NA</td><td>2014-12-31</td><td>0</td><td></td><td>1997-01-01</td><td>Tiempo del centro, UTC-6 (UTC-5 en verano)</td><td></td><td></td><td>POINT (-103.4164 20.63127)</td></tr>\n",
       "\t<tr><th scope=row>83</th><td>101</td><td>Atemajac   </td><td>ATM</td><td>63</td><td>Guadalajara</td><td>GDL</td><td>Hidalgo, Unidad Administrativa Atemajac</td><td>Plaza</td><td></td><td>Atemajac   </td><td>POINT (-103.3554 20.71967)</td><td>⋯</td><td>Hidalgo No. 1 entre Cuauhtémoc y Ramón Corona , Atemajac. Zapopan, 45190, Jalisco</td><td>NA</td><td>2014-12-31</td><td>0</td><td></td><td>1997-01-01</td><td>Tiempo del centro, UTC-6 (UTC-5 en verano)</td><td></td><td></td><td>POINT (-103.3554 20.71967)</td></tr>\n",
       "</tbody>\n",
       "</table>\n"
      ],
      "text/latex": [
       "A sf: 2 × 25\n",
       "\\begin{tabular}{r|lllllllllllllllllllll}\n",
       "  & station\\_id & station\\_name & station\\_code & network\\_id & network\\_name & network\\_code & street & ext & interior & colonia & geometry & ⋯ & address & date\\_validated & date\\_validated2 & passed\\_validation & video & date\\_started & timezone & street\\_view & video\\_interior & geometry\\\\\n",
       "  & <int> & <chr> & <chr> & <int> & <chr> & <chr> & <chr> & <chr> & <chr> & <chr> & ⋯ & <chr> & <chr> & <chr> & <int> & <chr> & <chr> & <chr> & <chr> & <chr> & <POINT {[}°{]}>\\\\\n",
       "\\hline\n",
       "\t82 & 103 & Las Águilas & AGU & 63 & Guadalajara & GDL & Avenida López Mateos                    & 5250  &  & Las águilas & POINT (-103.4164 20.63127) & ⋯ & Avenida Adolfo López Mateos No. 5250 , Arboledas. Zapopan, 45070, Jalisco         & NA & 2014-12-31 & 0 &  & 1997-01-01 & Tiempo del centro, UTC-6 (UTC-5 en verano) &  &  & POINT (-103.4164 20.63127)\\\\\n",
       "\t83 & 101 & Atemajac    & ATM & 63 & Guadalajara & GDL & Hidalgo, Unidad Administrativa Atemajac & Plaza &  & Atemajac    & POINT (-103.3554 20.71967) & ⋯ & Hidalgo No. 1 entre Cuauhtémoc y Ramón Corona , Atemajac. Zapopan, 45190, Jalisco & NA & 2014-12-31 & 0 &  & 1997-01-01 & Tiempo del centro, UTC-6 (UTC-5 en verano) &  &  & POINT (-103.3554 20.71967)\\\\\n",
       "\\end{tabular}\n"
      ],
      "text/markdown": [
       "\n",
       "A sf: 2 × 25\n",
       "\n",
       "| <!--/--> | station_id &lt;int&gt; | station_name &lt;chr&gt; | station_code &lt;chr&gt; | network_id &lt;int&gt; | network_name &lt;chr&gt; | network_code &lt;chr&gt; | street &lt;chr&gt; | ext &lt;chr&gt; | interior &lt;chr&gt; | colonia &lt;chr&gt; | geometry ⋯ | ⋯ &lt;chr&gt; | address &lt;chr&gt; | date_validated &lt;chr&gt; | date_validated2 &lt;int&gt; | passed_validation &lt;chr&gt; | video &lt;chr&gt; | date_started &lt;chr&gt; | timezone &lt;chr&gt; | street_view &lt;chr&gt; | video_interior &lt;POINT [°]&gt; | geometry &lt;int&gt; |\n",
       "|---|---|---|---|---|---|---|---|---|---|---|---|---|---|---|---|---|---|---|---|---|---|\n",
       "| 82 | 103 | Las Águilas | AGU | 63 | Guadalajara | GDL | Avenida López Mateos                    | 5250  | <!----> | Las águilas | POINT (-103.4164 20.63127) | ⋯ | Avenida Adolfo López Mateos No. 5250 , Arboledas. Zapopan, 45070, Jalisco         | NA | 2014-12-31 | 0 | <!----> | 1997-01-01 | Tiempo del centro, UTC-6 (UTC-5 en verano) | <!----> | <!----> | POINT (-103.4164 20.63127) |\n",
       "| 83 | 101 | Atemajac    | ATM | 63 | Guadalajara | GDL | Hidalgo, Unidad Administrativa Atemajac | Plaza | <!----> | Atemajac    | POINT (-103.3554 20.71967) | ⋯ | Hidalgo No. 1 entre Cuauhtémoc y Ramón Corona , Atemajac. Zapopan, 45190, Jalisco | NA | 2014-12-31 | 0 | <!----> | 1997-01-01 | Tiempo del centro, UTC-6 (UTC-5 en verano) | <!----> | <!----> | POINT (-103.3554 20.71967) |\n",
       "\n"
      ],
      "text/plain": [
       "   station_id station_name station_code network_id network_name network_code\n",
       "82 103        Las Águilas  AGU          63         Guadalajara  GDL         \n",
       "83 101        Atemajac     ATM          63         Guadalajara  GDL         \n",
       "   street                                  ext   interior colonia    \n",
       "82 Avenida López Mateos                    5250           Las águilas\n",
       "83 Hidalgo, Unidad Administrativa Atemajac Plaza          Atemajac   \n",
       "   geometry                   ⋯\n",
       "82 POINT (-103.4164 20.63127) ⋯\n",
       "83 POINT (-103.3554 20.71967) ⋯\n",
       "   address                                                                          \n",
       "82 Avenida Adolfo López Mateos No. 5250 , Arboledas. Zapopan, 45070, Jalisco        \n",
       "83 Hidalgo No. 1 entre Cuauhtémoc y Ramón Corona , Atemajac. Zapopan, 45190, Jalisco\n",
       "   date_validated date_validated2 passed_validation video date_started\n",
       "82 NA             2014-12-31      0                       1997-01-01  \n",
       "83 NA             2014-12-31      0                       1997-01-01  \n",
       "   timezone                                   street_view video_interior\n",
       "82 Tiempo del centro, UTC-6 (UTC-5 en verano)                           \n",
       "83 Tiempo del centro, UTC-6 (UTC-5 en verano)                           \n",
       "   geometry                  \n",
       "82 POINT (-103.4164 20.63127)\n",
       "83 POINT (-103.3554 20.71967)"
      ]
     },
     "metadata": {},
     "output_type": "display_data"
    }
   ],
   "source": [
    "head(sf_df,2)"
   ]
  },
  {
   "cell_type": "code",
   "execution_count": 9,
   "id": "531d4969-3f44-44fe-bfcf-7868f6c55dc1",
   "metadata": {},
   "outputs": [
    {
     "data": {
      "image/png": "[encoded data removed]",
      "text/plain": [
       "plot without title"
      ]
     },
     "metadata": {
      "image/png": {
       "height": 420,
       "width": 420
      }
     },
     "output_type": "display_data"
    }
   ],
   "source": [
    "ggplot(data = sf_df) +\n",
    "  geom_sf(aes(color = station_name)) +\n",
    "  theme_minimal() +\n",
    "  labs(title = \"Geospatial Plot\", color = \"station_name\")"
   ]
  },
  {
   "cell_type": "markdown",
   "id": "f3c86e59-3ac4-4bb4-9f6a-5f133177e751",
   "metadata": {},
   "source": [
    "### Download pollutant data for a specific date"
   ]
  },
  {
   "cell_type": "code",
   "execution_count": 10,
   "id": "d0d206cb-3cbf-4f16-b4fc-4ce8d68ba73e",
   "metadata": {},
   "outputs": [
    {
     "data": {
      "text/html": [
       "<table class=\"dataframe\">\n",
       "<caption>A data.frame: 24 × 8</caption>\n",
       "<thead>\n",
       "\t<tr><th scope=col>id</th><th scope=col>date</th><th scope=col>hour</th><th scope=col>value</th><th scope=col>valid</th><th scope=col>unit</th><th scope=col>station_id</th><th scope=col>station_name</th></tr>\n",
       "\t<tr><th scope=col>&lt;chr&gt;</th><th scope=col>&lt;chr&gt;</th><th scope=col>&lt;int&gt;</th><th scope=col>&lt;dbl&gt;</th><th scope=col>&lt;int&gt;</th><th scope=col>&lt;chr&gt;</th><th scope=col>&lt;int&gt;</th><th scope=col>&lt;chr&gt;</th></tr>\n",
       "</thead>\n",
       "<tbody>\n",
       "\t<tr><td>103PM1024011500</td><td>2024-01-15</td><td> 0</td><td>15.311</td><td>1</td><td>µg/m³</td><td>103</td><td>Las Águilas</td></tr>\n",
       "\t<tr><td>103PM1024011501</td><td>2024-01-15</td><td> 1</td><td>15.308</td><td>1</td><td>µg/m³</td><td>103</td><td>Las Águilas</td></tr>\n",
       "\t<tr><td>103PM1024011502</td><td>2024-01-15</td><td> 2</td><td>15.308</td><td>1</td><td>µg/m³</td><td>103</td><td>Las Águilas</td></tr>\n",
       "\t<tr><td>103PM1024011503</td><td>2024-01-15</td><td> 3</td><td>15.319</td><td>1</td><td>µg/m³</td><td>103</td><td>Las Águilas</td></tr>\n",
       "\t<tr><td>103PM1024011504</td><td>2024-01-15</td><td> 4</td><td>15.315</td><td>1</td><td>µg/m³</td><td>103</td><td>Las Águilas</td></tr>\n",
       "\t<tr><td>103PM1024011505</td><td>2024-01-15</td><td> 5</td><td>15.312</td><td>1</td><td>µg/m³</td><td>103</td><td>Las Águilas</td></tr>\n",
       "\t<tr><td>103PM1024011506</td><td>2024-01-15</td><td> 6</td><td>15.313</td><td>1</td><td>µg/m³</td><td>103</td><td>Las Águilas</td></tr>\n",
       "\t<tr><td>103PM1024011507</td><td>2024-01-15</td><td> 7</td><td>15.325</td><td>1</td><td>µg/m³</td><td>103</td><td>Las Águilas</td></tr>\n",
       "\t<tr><td>103PM1024011508</td><td>2024-01-15</td><td> 8</td><td>15.299</td><td>1</td><td>µg/m³</td><td>103</td><td>Las Águilas</td></tr>\n",
       "\t<tr><td>103PM1024011509</td><td>2024-01-15</td><td> 9</td><td>15.319</td><td>1</td><td>µg/m³</td><td>103</td><td>Las Águilas</td></tr>\n",
       "\t<tr><td>103PM1024011510</td><td>2024-01-15</td><td>10</td><td>15.325</td><td>1</td><td>µg/m³</td><td>103</td><td>Las Águilas</td></tr>\n",
       "\t<tr><td>103PM1024011511</td><td>2024-01-15</td><td>11</td><td>15.319</td><td>1</td><td>µg/m³</td><td>103</td><td>Las Águilas</td></tr>\n",
       "\t<tr><td>103PM1024011512</td><td>2024-01-15</td><td>12</td><td>15.303</td><td>1</td><td>µg/m³</td><td>103</td><td>Las Águilas</td></tr>\n",
       "\t<tr><td>103PM1024011513</td><td>2024-01-15</td><td>13</td><td>15.314</td><td>1</td><td>µg/m³</td><td>103</td><td>Las Águilas</td></tr>\n",
       "\t<tr><td>103PM1024011514</td><td>2024-01-15</td><td>14</td><td>15.313</td><td>1</td><td>µg/m³</td><td>103</td><td>Las Águilas</td></tr>\n",
       "\t<tr><td>103PM1024011515</td><td>2024-01-15</td><td>15</td><td>15.298</td><td>1</td><td>µg/m³</td><td>103</td><td>Las Águilas</td></tr>\n",
       "\t<tr><td>103PM1024011516</td><td>2024-01-15</td><td>16</td><td>15.307</td><td>1</td><td>µg/m³</td><td>103</td><td>Las Águilas</td></tr>\n",
       "\t<tr><td>103PM1024011517</td><td>2024-01-15</td><td>17</td><td>15.297</td><td>1</td><td>µg/m³</td><td>103</td><td>Las Águilas</td></tr>\n",
       "\t<tr><td>103PM1024011518</td><td>2024-01-15</td><td>18</td><td>15.319</td><td>1</td><td>µg/m³</td><td>103</td><td>Las Águilas</td></tr>\n",
       "\t<tr><td>103PM1024011519</td><td>2024-01-15</td><td>19</td><td>15.316</td><td>1</td><td>µg/m³</td><td>103</td><td>Las Águilas</td></tr>\n",
       "\t<tr><td>103PM1024011520</td><td>2024-01-15</td><td>20</td><td>15.304</td><td>1</td><td>µg/m³</td><td>103</td><td>Las Águilas</td></tr>\n",
       "\t<tr><td>103PM1024011521</td><td>2024-01-15</td><td>21</td><td>15.298</td><td>1</td><td>µg/m³</td><td>103</td><td>Las Águilas</td></tr>\n",
       "\t<tr><td>103PM1024011522</td><td>2024-01-15</td><td>22</td><td>15.313</td><td>1</td><td>µg/m³</td><td>103</td><td>Las Águilas</td></tr>\n",
       "\t<tr><td>103PM1024011523</td><td>2024-01-15</td><td>23</td><td>15.311</td><td>1</td><td>µg/m³</td><td>103</td><td>Las Águilas</td></tr>\n",
       "</tbody>\n",
       "</table>\n"
      ],
      "text/latex": [
       "A data.frame: 24 × 8\n",
       "\\begin{tabular}{llllllll}\n",
       " id & date & hour & value & valid & unit & station\\_id & station\\_name\\\\\n",
       " <chr> & <chr> & <int> & <dbl> & <int> & <chr> & <int> & <chr>\\\\\n",
       "\\hline\n",
       "\t 103PM1024011500 & 2024-01-15 &  0 & 15.311 & 1 & µg/m³ & 103 & Las Águilas\\\\\n",
       "\t 103PM1024011501 & 2024-01-15 &  1 & 15.308 & 1 & µg/m³ & 103 & Las Águilas\\\\\n",
       "\t 103PM1024011502 & 2024-01-15 &  2 & 15.308 & 1 & µg/m³ & 103 & Las Águilas\\\\\n",
       "\t 103PM1024011503 & 2024-01-15 &  3 & 15.319 & 1 & µg/m³ & 103 & Las Águilas\\\\\n",
       "\t 103PM1024011504 & 2024-01-15 &  4 & 15.315 & 1 & µg/m³ & 103 & Las Águilas\\\\\n",
       "\t 103PM1024011505 & 2024-01-15 &  5 & 15.312 & 1 & µg/m³ & 103 & Las Águilas\\\\\n",
       "\t 103PM1024011506 & 2024-01-15 &  6 & 15.313 & 1 & µg/m³ & 103 & Las Águilas\\\\\n",
       "\t 103PM1024011507 & 2024-01-15 &  7 & 15.325 & 1 & µg/m³ & 103 & Las Águilas\\\\\n",
       "\t 103PM1024011508 & 2024-01-15 &  8 & 15.299 & 1 & µg/m³ & 103 & Las Águilas\\\\\n",
       "\t 103PM1024011509 & 2024-01-15 &  9 & 15.319 & 1 & µg/m³ & 103 & Las Águilas\\\\\n",
       "\t 103PM1024011510 & 2024-01-15 & 10 & 15.325 & 1 & µg/m³ & 103 & Las Águilas\\\\\n",
       "\t 103PM1024011511 & 2024-01-15 & 11 & 15.319 & 1 & µg/m³ & 103 & Las Águilas\\\\\n",
       "\t 103PM1024011512 & 2024-01-15 & 12 & 15.303 & 1 & µg/m³ & 103 & Las Águilas\\\\\n",
       "\t 103PM1024011513 & 2024-01-15 & 13 & 15.314 & 1 & µg/m³ & 103 & Las Águilas\\\\\n",
       "\t 103PM1024011514 & 2024-01-15 & 14 & 15.313 & 1 & µg/m³ & 103 & Las Águilas\\\\\n",
       "\t 103PM1024011515 & 2024-01-15 & 15 & 15.298 & 1 & µg/m³ & 103 & Las Águilas\\\\\n",
       "\t 103PM1024011516 & 2024-01-15 & 16 & 15.307 & 1 & µg/m³ & 103 & Las Águilas\\\\\n",
       "\t 103PM1024011517 & 2024-01-15 & 17 & 15.297 & 1 & µg/m³ & 103 & Las Águilas\\\\\n",
       "\t 103PM1024011518 & 2024-01-15 & 18 & 15.319 & 1 & µg/m³ & 103 & Las Águilas\\\\\n",
       "\t 103PM1024011519 & 2024-01-15 & 19 & 15.316 & 1 & µg/m³ & 103 & Las Águilas\\\\\n",
       "\t 103PM1024011520 & 2024-01-15 & 20 & 15.304 & 1 & µg/m³ & 103 & Las Águilas\\\\\n",
       "\t 103PM1024011521 & 2024-01-15 & 21 & 15.298 & 1 & µg/m³ & 103 & Las Águilas\\\\\n",
       "\t 103PM1024011522 & 2024-01-15 & 22 & 15.313 & 1 & µg/m³ & 103 & Las Águilas\\\\\n",
       "\t 103PM1024011523 & 2024-01-15 & 23 & 15.311 & 1 & µg/m³ & 103 & Las Águilas\\\\\n",
       "\\end{tabular}\n"
      ],
      "text/markdown": [
       "\n",
       "A data.frame: 24 × 8\n",
       "\n",
       "| id &lt;chr&gt; | date &lt;chr&gt; | hour &lt;int&gt; | value &lt;dbl&gt; | valid &lt;int&gt; | unit &lt;chr&gt; | station_id &lt;int&gt; | station_name &lt;chr&gt; |\n",
       "|---|---|---|---|---|---|---|---|\n",
       "| 103PM1024011500 | 2024-01-15 |  0 | 15.311 | 1 | µg/m³ | 103 | Las Águilas |\n",
       "| 103PM1024011501 | 2024-01-15 |  1 | 15.308 | 1 | µg/m³ | 103 | Las Águilas |\n",
       "| 103PM1024011502 | 2024-01-15 |  2 | 15.308 | 1 | µg/m³ | 103 | Las Águilas |\n",
       "| 103PM1024011503 | 2024-01-15 |  3 | 15.319 | 1 | µg/m³ | 103 | Las Águilas |\n",
       "| 103PM1024011504 | 2024-01-15 |  4 | 15.315 | 1 | µg/m³ | 103 | Las Águilas |\n",
       "| 103PM1024011505 | 2024-01-15 |  5 | 15.312 | 1 | µg/m³ | 103 | Las Águilas |\n",
       "| 103PM1024011506 | 2024-01-15 |  6 | 15.313 | 1 | µg/m³ | 103 | Las Águilas |\n",
       "| 103PM1024011507 | 2024-01-15 |  7 | 15.325 | 1 | µg/m³ | 103 | Las Águilas |\n",
       "| 103PM1024011508 | 2024-01-15 |  8 | 15.299 | 1 | µg/m³ | 103 | Las Águilas |\n",
       "| 103PM1024011509 | 2024-01-15 |  9 | 15.319 | 1 | µg/m³ | 103 | Las Águilas |\n",
       "| 103PM1024011510 | 2024-01-15 | 10 | 15.325 | 1 | µg/m³ | 103 | Las Águilas |\n",
       "| 103PM1024011511 | 2024-01-15 | 11 | 15.319 | 1 | µg/m³ | 103 | Las Águilas |\n",
       "| 103PM1024011512 | 2024-01-15 | 12 | 15.303 | 1 | µg/m³ | 103 | Las Águilas |\n",
       "| 103PM1024011513 | 2024-01-15 | 13 | 15.314 | 1 | µg/m³ | 103 | Las Águilas |\n",
       "| 103PM1024011514 | 2024-01-15 | 14 | 15.313 | 1 | µg/m³ | 103 | Las Águilas |\n",
       "| 103PM1024011515 | 2024-01-15 | 15 | 15.298 | 1 | µg/m³ | 103 | Las Águilas |\n",
       "| 103PM1024011516 | 2024-01-15 | 16 | 15.307 | 1 | µg/m³ | 103 | Las Águilas |\n",
       "| 103PM1024011517 | 2024-01-15 | 17 | 15.297 | 1 | µg/m³ | 103 | Las Águilas |\n",
       "| 103PM1024011518 | 2024-01-15 | 18 | 15.319 | 1 | µg/m³ | 103 | Las Águilas |\n",
       "| 103PM1024011519 | 2024-01-15 | 19 | 15.316 | 1 | µg/m³ | 103 | Las Águilas |\n",
       "| 103PM1024011520 | 2024-01-15 | 20 | 15.304 | 1 | µg/m³ | 103 | Las Águilas |\n",
       "| 103PM1024011521 | 2024-01-15 | 21 | 15.298 | 1 | µg/m³ | 103 | Las Águilas |\n",
       "| 103PM1024011522 | 2024-01-15 | 22 | 15.313 | 1 | µg/m³ | 103 | Las Águilas |\n",
       "| 103PM1024011523 | 2024-01-15 | 23 | 15.311 | 1 | µg/m³ | 103 | Las Águilas |\n",
       "\n"
      ],
      "text/plain": [
       "   id              date       hour value  valid unit  station_id station_name\n",
       "1  103PM1024011500 2024-01-15  0   15.311 1     µg/m³ 103        Las Águilas \n",
       "2  103PM1024011501 2024-01-15  1   15.308 1     µg/m³ 103        Las Águilas \n",
       "3  103PM1024011502 2024-01-15  2   15.308 1     µg/m³ 103        Las Águilas \n",
       "4  103PM1024011503 2024-01-15  3   15.319 1     µg/m³ 103        Las Águilas \n",
       "5  103PM1024011504 2024-01-15  4   15.315 1     µg/m³ 103        Las Águilas \n",
       "6  103PM1024011505 2024-01-15  5   15.312 1     µg/m³ 103        Las Águilas \n",
       "7  103PM1024011506 2024-01-15  6   15.313 1     µg/m³ 103        Las Águilas \n",
       "8  103PM1024011507 2024-01-15  7   15.325 1     µg/m³ 103        Las Águilas \n",
       "9  103PM1024011508 2024-01-15  8   15.299 1     µg/m³ 103        Las Águilas \n",
       "10 103PM1024011509 2024-01-15  9   15.319 1     µg/m³ 103        Las Águilas \n",
       "11 103PM1024011510 2024-01-15 10   15.325 1     µg/m³ 103        Las Águilas \n",
       "12 103PM1024011511 2024-01-15 11   15.319 1     µg/m³ 103        Las Águilas \n",
       "13 103PM1024011512 2024-01-15 12   15.303 1     µg/m³ 103        Las Águilas \n",
       "14 103PM1024011513 2024-01-15 13   15.314 1     µg/m³ 103        Las Águilas \n",
       "15 103PM1024011514 2024-01-15 14   15.313 1     µg/m³ 103        Las Águilas \n",
       "16 103PM1024011515 2024-01-15 15   15.298 1     µg/m³ 103        Las Águilas \n",
       "17 103PM1024011516 2024-01-15 16   15.307 1     µg/m³ 103        Las Águilas \n",
       "18 103PM1024011517 2024-01-15 17   15.297 1     µg/m³ 103        Las Águilas \n",
       "19 103PM1024011518 2024-01-15 18   15.319 1     µg/m³ 103        Las Águilas \n",
       "20 103PM1024011519 2024-01-15 19   15.316 1     µg/m³ 103        Las Águilas \n",
       "21 103PM1024011520 2024-01-15 20   15.304 1     µg/m³ 103        Las Águilas \n",
       "22 103PM1024011521 2024-01-15 21   15.298 1     µg/m³ 103        Las Águilas \n",
       "23 103PM1024011522 2024-01-15 22   15.313 1     µg/m³ 103        Las Águilas \n",
       "24 103PM1024011523 2024-01-15 23   15.311 1     µg/m³ 103        Las Águilas "
      ]
     },
     "metadata": {},
     "output_type": "display_data"
    }
   ],
   "source": [
    "df <-  sinaica_station_data(103, # station_id\n",
    "                         \"PM10\", # can be one of parameters$parameter_code\n",
    "                         \"2024-01-15\", \n",
    "                         \"2024-01-15\", # Maximum of one month\n",
    "                         \"Crude\" # Crude, Manual or Validated\n",
    "                         )\n",
    "df"
   ]
  },
  {
   "cell_type": "markdown",
   "id": "da505705-255c-415d-b5ea-13410ed0754b",
   "metadata": {},
   "source": [
    "## Google traffic"
   ]
  },
  {
   "cell_type": "code",
   "execution_count": 11,
   "id": "16e13f34-048e-47a7-aa52-f43aba6c5e30",
   "metadata": {},
   "outputs": [
    {
     "name": "stderr",
     "output_type": "stream",
     "text": [
      "\n",
      "Attaching package: ‘dplyr’\n",
      "\n",
      "\n",
      "The following objects are masked from ‘package:stats’:\n",
      "\n",
      "    filter, lag\n",
      "\n",
      "\n",
      "The following objects are masked from ‘package:base’:\n",
      "\n",
      "    intersect, setdiff, setequal, union\n",
      "\n",
      "\n",
      "Loading required package: sp\n",
      "\n",
      "\n",
      "Attaching package: ‘raster’\n",
      "\n",
      "\n",
      "The following object is masked from ‘package:dplyr’:\n",
      "\n",
      "    select\n",
      "\n",
      "\n"
     ]
    }
   ],
   "source": [
    "library(dplyr)\n",
    "library(raster)"
   ]
  },
  {
   "cell_type": "code",
   "execution_count": 23,
   "id": "77031a09-6883-43ac-90b4-f8927cc8473e",
   "metadata": {},
   "outputs": [],
   "source": [
    "google_key <- ####"
   ]
  },
  {
   "cell_type": "code",
   "execution_count": 24,
   "id": "21ded65b-123b-49c3-b968-c3a10ca4b53d",
   "metadata": {},
   "outputs": [
    {
     "name": "stdout",
     "output_type": "stream",
     "text": [
      "Pausing for 16 seconds to allow traffic data to render"
     ]
    },
    {
     "name": "stderr",
     "output_type": "stream",
     "text": [
      "Warning message in dir.create(filename_dir):\n",
      "“'/tmp/Rtmp18KAaz' already exists”\n",
      "file:////tmp/Rtmp18KAaz/filecb9e8c71476.html screenshot completed\n",
      "\n"
     ]
    },
    {
     "data": {
      "text/plain": [
       "class      : RasterLayer \n",
       "dimensions : 2010, 2006, 4032060  (nrow, ncol, ncell)\n",
       "resolution : 2.15e-05, 1.63e-05  (x, y)\n",
       "extent     : -74.02768, -73.98455, 40.69639, 40.72915  (xmin, xmax, ymin, ymax)\n",
       "crs        : +proj=longlat +datum=WGS84 +no_defs \n",
       "source     : memory\n",
       "names      : filecb9e8c71476_1 \n",
       "values     : NA, NA  (min, max)\n"
      ]
     },
     "metadata": {},
     "output_type": "display_data"
    }
   ],
   "source": [
    "## Make raster\n",
    " r <- gt_make_raster(location   = c(40.712778, -74.006111),\n",
    "                     height     = 2000,\n",
    "                     width      = 2000,\n",
    "                     zoom       = 16,\n",
    "                     google_key = google_key)\n",
    "r"
   ]
  },
  {
   "cell_type": "code",
   "execution_count": 25,
   "id": "febafeb3-e45c-432d-bca4-043afdca78fc",
   "metadata": {},
   "outputs": [
    {
     "data": {
      "image/png": "[encoded data removed]",
      "text/plain": [
       "plot without title"
      ]
     },
     "metadata": {
      "image/png": {
       "height": 420,
       "width": 420
      }
     },
     "output_type": "display_data"
    }
   ],
   "source": [
    "\n",
    "## Plot\n",
    "r_df <- rasterToPoints(r, spatial = TRUE) %>% as.data.frame()\n",
    "names(r_df) <- c(\"value\", \"x\", \"y\")\n",
    "\n",
    "ggplot() +\n",
    "  geom_raster(data = r_df, \n",
    "  aes(x = x, y = y, \n",
    "  fill = as.factor(value))) +\n",
    "  labs(fill = \"Traffic\\nLevel\") +\n",
    "  scale_fill_manual(values = c(\"green2\", \"orange\", \"red\", \"#660000\")) +\n",
    "  coord_quickmap() + \n",
    "  theme_void() +\n",
    "  theme(plot.background = element_rect(fill = \"white\", color=\"white\"))"
   ]
  },
  {
   "cell_type": "code",
   "execution_count": null,
   "id": "c098c219-6a9f-457d-9a74-7768c542ebfa",
   "metadata": {},
   "outputs": [],
   "source": []
  }
 ],
 "metadata": {
  "kernelspec": {
   "display_name": "R",
   "language": "R",
   "name": "ir"
  },
  "language_info": {
   "codemirror_mode": "r",
   "file_extension": ".r",
   "mimetype": "text/x-r-source",
   "name": "R",
   "pygments_lexer": "r",
   "version": "4.4.2"
  }
 },
 "nbformat": 4,
 "nbformat_minor": 5
}
