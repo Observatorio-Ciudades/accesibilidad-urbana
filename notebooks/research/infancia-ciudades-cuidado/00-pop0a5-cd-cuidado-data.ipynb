{
 "cells": [
  {
   "cell_type": "markdown",
   "id": "7db55075-da66-4ef4-af5d-0a58ec62f84d",
   "metadata": {},
   "source": [
    "# 00-pop-cd-cuidado-data"
   ]
  },
  {
   "cell_type": "markdown",
   "id": "0497cb70-47b5-46a0-b323-6906c6d140e5",
   "metadata": {},
   "source": [
    "This notebook creates the table \"cdcuidadoras_popageb_2020_hex\" on schema 'prox_analysis'. The new table differs from 'cd_cuidadoras_hexres8' because this notebook:\n",
    "- Adds 'pob_0a2','pob_3a5' and 'pob_0a5'data from 'censo'>'hex_bins_pop_2020' (by AGEB)\n",
    "- Removes _8 from hex_id name\n",
    "- Adds \"res\" column for resolution"
   ]
  },
  {
   "cell_type": "code",
   "execution_count": 1,
   "id": "00365aa3-5f66-4ad5-9510-c253b3520c28",
   "metadata": {
    "tags": []
   },
   "outputs": [
    {
     "name": "stderr",
     "output_type": "stream",
     "text": [
      "/usr/local/python/lib/python3.10/site-packages/osmnx/utils.py:192: UserWarning: The `utils.config` function is deprecated and will be removed in a future release. Instead, use the `settings` module directly to configure a global setting's value. For example, `ox.settings.log_console=True`.\n",
      "  warnings.warn(\n"
     ]
    }
   ],
   "source": [
    "import os\n",
    "import sys\n",
    "\n",
    "import pandas as pd\n",
    "import geopandas as gpd\n",
    "import osmnx as ox\n",
    "import numpy as np\n",
    "\n",
    "from shapely import wkt\n",
    "\n",
    "import matplotlib.pyplot as plt\n",
    "import seaborn as sns\n",
    "\n",
    "from pandas.api.types import CategoricalDtype\n",
    "\n",
    "import warnings\n",
    "warnings.simplefilter(action='ignore', category=FutureWarning)\n",
    "\n",
    "module_path = os.path.abspath(os.path.join('../../../'))\n",
    "if module_path not in sys.path:\n",
    "    sys.path.append(module_path)\n",
    "    import aup"
   ]
  },
  {
   "cell_type": "markdown",
   "id": "17b13334-2e05-4312-be30-4391b68335db",
   "metadata": {},
   "source": [
    "## Part 1: Create new gdf in db that contains pop data by city."
   ]
  },
  {
   "cell_type": "code",
   "execution_count": 2,
   "id": "ed67f2cc-5710-4291-8b4f-8c9b993e48bb",
   "metadata": {
    "tags": []
   },
   "outputs": [],
   "source": [
    "def main(city, cvegeo_list, save = True):\n",
    "    \n",
    "    print(f'STARTING ANALYSIS FOR {city}.')\n",
    "    print(f'{city} con {len(cvegeo_list)} cvegeos:')\n",
    "    print(cvegeo_list)\n",
    "    \n",
    "    #--------------- DOWNLOAD DATA ---------------\n",
    "    # Download cd_cuidadoras for city\n",
    "    schema = 'prox_analysis'\n",
    "    table = 'cd_cuidadoras_hexres8'\n",
    "    query = f\"SELECT * FROM {schema}.{table}  WHERE \\\"city\\\" LIKE \\'{city}\\'\"\n",
    "    cd_cuidadoras = aup.gdf_from_query(query, geometry_col='geometry')\n",
    "    \n",
    "    pob_tot = cd_cuidadoras.pobtot.sum()\n",
    "    \n",
    "    print(f'Downloaded cd_cuidadoras data with a total of {pob_tot} persons.')\n",
    "    \n",
    "    # Download hex_pop for city\n",
    "    schema = 'censo'\n",
    "    table = 'hex_bins_pop_2020'\n",
    "\n",
    "    hex_pop = gpd.GeoDataFrame()\n",
    "    i = 1\n",
    "    for cvegeo in cvegeo_list:\n",
    "        print(f'Downloading pop data for CVEGEO {cvegeo}, {i} of {len(cvegeo_list)}.')\n",
    "        \n",
    "        query = f\"SELECT * FROM {schema}.{table} WHERE \\\"CVEGEO\\\" LIKE \\'{cvegeo}%%\\'\"\n",
    "        hex_tmp = aup.gdf_from_query(query, geometry_col='geometry')\n",
    "        hex_pop = pd.concat([hex_pop, hex_tmp],\n",
    "        ignore_index = True, axis = 0)\n",
    "        i = i + 1\n",
    "        \n",
    "        \n",
    "    pob_tot = hex_pop.pobtot.sum()\n",
    "    \n",
    "    print(f'Downloaded hex_pop data for all cvegeos, with a total of {pob_tot} persons.')\n",
    "    \n",
    "    # Save disk space\n",
    "    del hex_tmp\n",
    "    \n",
    "    #--------------- PROCESS DATA ---------------\n",
    "    # Filter for data of interest\n",
    "    hex_pop_f = hex_pop[['hex_id_8','p_0a2','p_3a5']]\n",
    "    \n",
    "    # Save disk space\n",
    "    del hex_pop\n",
    "    \n",
    "    hex_pop_f.rename(columns={'p_0a2':'pob_0a2','p_3a5':'pob_3a5'},inplace=True)\n",
    "\n",
    "    # Calculate age groups\n",
    "    hex_pop_f['pob_0a5'] = hex_pop_f['pob_0a2'] + hex_pop_f['pob_3a5']\n",
    "\n",
    "    # Merge data\n",
    "    hex_cdcuidadoras_pop = pd.merge(cd_cuidadoras,hex_pop_f, on='hex_id_8')\n",
    "    \n",
    "    # Save disk space\n",
    "    del cd_cuidadoras\n",
    "    del hex_pop_f\n",
    "\n",
    "    # Add res data and remove res from hexid\n",
    "    hex_cdcuidadoras_pop['res'] = 8\n",
    "    hex_cdcuidadoras_pop.rename(columns={'hex_id_8':'hex_id'},inplace=True)\n",
    "\n",
    "    # Reorder columns\n",
    "    reordered_list = ['hex_id', 'res','geometry',\n",
    "                      'max_preescolar',\n",
    "                      'max_primaria',\n",
    "                      'max_secundaria',\n",
    "                      'max_salud',\n",
    "                      'max_guarderias',\n",
    "                      'max_alimentos',\n",
    "                      'max_personal',\n",
    "                      'max_parques',\n",
    "                      'max_idx_15_min',\n",
    "                      'pobtot',\n",
    "                      'pobfem',\n",
    "                      'pobmas',\n",
    "                      'pob_0a2',\n",
    "                      'pob_3a5',\n",
    "                      'pob_0a5',\n",
    "                      'pob_0a14',\n",
    "                      'pob_15a24',\n",
    "                      'pob_25a59',\n",
    "                      'p_60ymas',\n",
    "                      'dens_pobha',\n",
    "                      'city']\n",
    "\n",
    "    hex_cdcuidadoras_pop = hex_cdcuidadoras_pop[reordered_list]\n",
    "    \n",
    "    #--------------- UPLOAD DATA ---------------\n",
    "    if save:\n",
    "        aup.gdf_to_db_slow(hex_cdcuidadoras_pop, \"cdcuidadoras_popageb_2020_hex\", 'prox_analysis', if_exists='append')\n",
    "        print(f'Uploaded {city} data to db')\n",
    "    print('--'*20)"
   ]
  },
  {
   "cell_type": "code",
   "execution_count": null,
   "id": "1bf8d5b0-b864-480f-8079-1b1a7346268f",
   "metadata": {
    "tags": []
   },
   "outputs": [],
   "source": [
    "#Load mun data\n",
    "mun_schema = 'metropolis'\n",
    "mun_table = 'metro_gdf'\n",
    "query = f\"SELECT * FROM {mun_schema}.{mun_table}\" \n",
    "mun_gdf = aup.gdf_from_query(query, geometry_col='geometry')"
   ]
  },
  {
   "cell_type": "code",
   "execution_count": 4,
   "id": "d35e0259-3a1d-4e5d-ab6a-5b9ba5bfdc3c",
   "metadata": {
    "tags": []
   },
   "outputs": [
    {
     "name": "stdout",
     "output_type": "stream",
     "text": [
      "Already processed 73 cities:\n",
      "['Aguascalientes', 'Ensenada', 'Mexicali', 'Tijuana', 'La Paz', 'Campeche', 'Laguna', 'Monclova', 'Piedras Negras', 'Saltillo', 'Colima', 'Tecoman', 'Tapachula', 'Tuxtla', 'Chihuahua', 'Delicias', 'Juarez', 'Parral', 'Durango', 'Celaya', 'Guanajuato', 'Leon', 'Moroleon', 'San Francisco', 'Acapulco', 'Chilpancingo', 'Pachuca', 'Tula', 'Tulancingo', 'Guadalajara', 'Ocotlan', 'Vallarta', 'Tianguistenco', 'Toluca', 'Piedad', 'Morelia', 'Zamora', 'Cuautla', 'Cuernavaca', 'Tepic', 'Monterrey', 'Oaxaca', 'Tehuantepec', 'Puebla', 'Tehuacan', 'Teziutlan', 'Queretaro', 'Cancun', 'Chetumal', 'Rio Verde', 'SLP', 'Culiacan', 'Mazatlan', 'Guaymas', 'Hermosillo', 'Nogales', 'Villahermosa', 'Victoria', 'Matamoros', 'Nuevo Laredo', 'Reynosa', 'Tampico', 'Tlaxcala', 'Acayucan', 'Coatzacoalcos', 'Cordoba', 'Minatitlan', 'Orizaba', 'Poza Rica', 'Veracruz', 'Xalapa', 'Merida', 'Zacatecas']\n",
      "STARTING ANALYSIS FOR ZMVM.\n",
      "ZMVM con 75 cvegeos:\n",
      "['09002', '09003', '09004', '09005', '09006', '09007', '09008', '09009', '09010', '09011', '09012', '09013', '09014', '09015', '09016', '09017', '13069', '15002', '15009', '15010', '15011', '15013', '15015', '15016', '15017', '15020', '15022', '15023', '15024', '15025', '15028', '15029', '15030', '15031', '15033', '15034', '15035', '15036', '15037', '15038', '15039', '15044', '15046', '15050', '15053', '15057', '15058', '15059', '15060', '15061', '15065', '15068', '15069', '15070', '15075', '15081', '15083', '15084', '15089', '15091', '15092', '15093', '15094', '15096', '15099', '15100', '15103', '15104', '15108', '15109', '15112', '15120', '15121', '15122', '15125']\n",
      "Downloaded cd_cuidadoras data with a total of 20996445.9109602 persons.\n",
      "Downloading pop data for CVEGEO 09002, 1 of 75.\n",
      "Downloading pop data for CVEGEO 09003, 2 of 75.\n",
      "Downloading pop data for CVEGEO 09004, 3 of 75.\n",
      "Downloading pop data for CVEGEO 09005, 4 of 75.\n",
      "Downloading pop data for CVEGEO 09006, 5 of 75.\n",
      "Downloading pop data for CVEGEO 09007, 6 of 75.\n",
      "Downloading pop data for CVEGEO 09008, 7 of 75.\n",
      "Downloading pop data for CVEGEO 09009, 8 of 75.\n",
      "Downloading pop data for CVEGEO 09010, 9 of 75.\n",
      "Downloading pop data for CVEGEO 09011, 10 of 75.\n",
      "Downloading pop data for CVEGEO 09012, 11 of 75.\n",
      "Downloading pop data for CVEGEO 09013, 12 of 75.\n",
      "Downloading pop data for CVEGEO 09014, 13 of 75.\n",
      "Downloading pop data for CVEGEO 09015, 14 of 75.\n",
      "Downloading pop data for CVEGEO 09016, 15 of 75.\n",
      "Downloading pop data for CVEGEO 09017, 16 of 75.\n",
      "Downloading pop data for CVEGEO 13069, 17 of 75.\n",
      "Downloading pop data for CVEGEO 15002, 18 of 75.\n",
      "Downloading pop data for CVEGEO 15009, 19 of 75.\n",
      "Downloading pop data for CVEGEO 15010, 20 of 75.\n",
      "Downloading pop data for CVEGEO 15011, 21 of 75.\n",
      "Downloading pop data for CVEGEO 15013, 22 of 75.\n",
      "Downloading pop data for CVEGEO 15015, 23 of 75.\n",
      "Downloading pop data for CVEGEO 15016, 24 of 75.\n",
      "Downloading pop data for CVEGEO 15017, 25 of 75.\n",
      "Downloading pop data for CVEGEO 15020, 26 of 75.\n",
      "Downloading pop data for CVEGEO 15022, 27 of 75.\n",
      "Downloading pop data for CVEGEO 15023, 28 of 75.\n",
      "Downloading pop data for CVEGEO 15024, 29 of 75.\n",
      "Downloading pop data for CVEGEO 15025, 30 of 75.\n",
      "Downloading pop data for CVEGEO 15028, 31 of 75.\n",
      "Downloading pop data for CVEGEO 15029, 32 of 75.\n",
      "Downloading pop data for CVEGEO 15030, 33 of 75.\n",
      "Downloading pop data for CVEGEO 15031, 34 of 75.\n",
      "Downloading pop data for CVEGEO 15033, 35 of 75.\n",
      "Downloading pop data for CVEGEO 15034, 36 of 75.\n",
      "Downloading pop data for CVEGEO 15035, 37 of 75.\n",
      "Downloading pop data for CVEGEO 15036, 38 of 75.\n",
      "Downloading pop data for CVEGEO 15037, 39 of 75.\n",
      "Downloading pop data for CVEGEO 15038, 40 of 75.\n",
      "Downloading pop data for CVEGEO 15039, 41 of 75.\n",
      "Downloading pop data for CVEGEO 15044, 42 of 75.\n",
      "Downloading pop data for CVEGEO 15046, 43 of 75.\n",
      "Downloading pop data for CVEGEO 15050, 44 of 75.\n",
      "Downloading pop data for CVEGEO 15053, 45 of 75.\n",
      "Downloading pop data for CVEGEO 15057, 46 of 75.\n",
      "Downloading pop data for CVEGEO 15058, 47 of 75.\n",
      "Downloading pop data for CVEGEO 15059, 48 of 75.\n",
      "Downloading pop data for CVEGEO 15060, 49 of 75.\n",
      "Downloading pop data for CVEGEO 15061, 50 of 75.\n",
      "Downloading pop data for CVEGEO 15065, 51 of 75.\n",
      "Downloading pop data for CVEGEO 15068, 52 of 75.\n",
      "Downloading pop data for CVEGEO 15069, 53 of 75.\n",
      "Downloading pop data for CVEGEO 15070, 54 of 75.\n",
      "Downloading pop data for CVEGEO 15075, 55 of 75.\n",
      "Downloading pop data for CVEGEO 15081, 56 of 75.\n",
      "Downloading pop data for CVEGEO 15083, 57 of 75.\n",
      "Downloading pop data for CVEGEO 15084, 58 of 75.\n",
      "Downloading pop data for CVEGEO 15089, 59 of 75.\n",
      "Downloading pop data for CVEGEO 15091, 60 of 75.\n",
      "Downloading pop data for CVEGEO 15092, 61 of 75.\n",
      "Downloading pop data for CVEGEO 15093, 62 of 75.\n",
      "Downloading pop data for CVEGEO 15094, 63 of 75.\n",
      "Downloading pop data for CVEGEO 15096, 64 of 75.\n",
      "Downloading pop data for CVEGEO 15099, 65 of 75.\n",
      "Downloading pop data for CVEGEO 15100, 66 of 75.\n",
      "Downloading pop data for CVEGEO 15103, 67 of 75.\n",
      "Downloading pop data for CVEGEO 15104, 68 of 75.\n",
      "Downloading pop data for CVEGEO 15108, 69 of 75.\n",
      "Downloading pop data for CVEGEO 15109, 70 of 75.\n",
      "Downloading pop data for CVEGEO 15112, 71 of 75.\n",
      "Downloading pop data for CVEGEO 15120, 72 of 75.\n",
      "Downloading pop data for CVEGEO 15121, 73 of 75.\n",
      "Downloading pop data for CVEGEO 15122, 74 of 75.\n",
      "Downloading pop data for CVEGEO 15125, 75 of 75.\n",
      "Downloaded hex_pop data for all cvegeos, with a total of 20996445.9109602 persons.\n",
      "Uploaded ZMVM data to db\n",
      "----------------------------------------\n"
     ]
    }
   ],
   "source": [
    "#Find already processed cities\n",
    "prox_schema = 'prox_analysis'\n",
    "prox_table = 'cdcuidadoras_popageb_2020_hex'\n",
    "query = f\"SELECT * FROM {prox_schema}.{prox_table}\"\n",
    "prox_all = aup.gdf_from_query(query, geometry_col='geometry')\n",
    "processed_city_list = list(prox_all.city.unique())\n",
    "\n",
    "# Skip ZMVM due to size\n",
    "#processed_city_list.append('ZMVM')\n",
    "\n",
    "print(f\"Already processed {len(processed_city_list)} cities:\")\n",
    "print(processed_city_list)\n",
    "\n",
    "#Run main function\n",
    "for city in mun_gdf.city.unique():\n",
    "        if city not in processed_city_list:\n",
    "            cvegeo_list = list(mun_gdf.loc[mun_gdf.city==city][\"CVEGEO\"].unique())\n",
    "            main(city, cvegeo_list, save=True)"
   ]
  },
  {
   "cell_type": "markdown",
   "id": "d3d0a120-16c8-4554-943f-365ba380f2b2",
   "metadata": {},
   "source": [
    "## Data comparison"
   ]
  },
  {
   "cell_type": "markdown",
   "id": "55b156bb-53a4-47dc-b065-c3af399a9518",
   "metadata": {},
   "source": [
    "### Load both datasets"
   ]
  },
  {
   "cell_type": "markdown",
   "id": "38cc3ebc-be51-43c7-bf66-4e3e838b5e94",
   "metadata": {},
   "source": [
    "City"
   ]
  },
  {
   "cell_type": "code",
   "execution_count": 27,
   "id": "6075c43a-2e4a-4572-8d48-37fc109e1b53",
   "metadata": {
    "tags": []
   },
   "outputs": [],
   "source": [
    "city = 'Monterrey'"
   ]
  },
  {
   "cell_type": "markdown",
   "id": "6bd2130c-f61c-4037-a125-c292b6b58d84",
   "metadata": {},
   "source": [
    "Original data"
   ]
  },
  {
   "cell_type": "code",
   "execution_count": 28,
   "id": "62aea24b-106d-403d-9731-60d3b5cfdc90",
   "metadata": {
    "tags": []
   },
   "outputs": [],
   "source": [
    "# Download cd_cuidadoras for city\n",
    "schema = 'prox_analysis'\n",
    "table = 'cd_cuidadoras_hexres8'\n",
    "query = f\"SELECT * FROM {schema}.{table}  WHERE \\\"city\\\" LIKE \\'{city}\\'\"\n",
    "cd_cuidadoras = aup.gdf_from_query(query, geometry_col='geometry')"
   ]
  },
  {
   "cell_type": "markdown",
   "id": "8801ca3a-2313-4134-9f2b-8381e21ffa58",
   "metadata": {},
   "source": [
    "New data"
   ]
  },
  {
   "cell_type": "code",
   "execution_count": 29,
   "id": "673dc182-7943-48ca-bea8-0f70ee981c7e",
   "metadata": {},
   "outputs": [],
   "source": [
    "#Find already processed cities\n",
    "prox_schema = 'prox_analysis'\n",
    "prox_table = 'cdcuidadoras_popageb_2020_hex'\n",
    "query = f\"SELECT * FROM {prox_schema}.{prox_table}\"\n",
    "cd_cuidadoras_pop = aup.gdf_from_query(query, geometry_col='geometry')"
   ]
  },
  {
   "cell_type": "markdown",
   "id": "089e6ffc-2ce3-4242-a31f-02d91a775476",
   "metadata": {},
   "source": [
    "### Merge datasets"
   ]
  },
  {
   "cell_type": "code",
   "execution_count": 30,
   "id": "662da0c1-543b-4731-9435-45967d79b9d9",
   "metadata": {
    "tags": []
   },
   "outputs": [],
   "source": [
    "cd_cuidadoras_pop_new = cd_cuidadoras_pop.rename(columns={'hex_id':'hex_id_8'})\n",
    "merged_cd_cuidadoras = cd_cuidadoras.merge(cd_cuidadoras_pop_new, on='hex_id_8')"
   ]
  },
  {
   "cell_type": "code",
   "execution_count": 31,
   "id": "3645ab5a-8c44-4138-877f-72ad29aed781",
   "metadata": {
    "tags": []
   },
   "outputs": [
    {
     "data": {
      "text/html": [
       "<div>\n",
       "<style scoped>\n",
       "    .dataframe tbody tr th:only-of-type {\n",
       "        vertical-align: middle;\n",
       "    }\n",
       "\n",
       "    .dataframe tbody tr th {\n",
       "        vertical-align: top;\n",
       "    }\n",
       "\n",
       "    .dataframe thead th {\n",
       "        text-align: right;\n",
       "    }\n",
       "</style>\n",
       "<table border=\"1\" class=\"dataframe\">\n",
       "  <thead>\n",
       "    <tr style=\"text-align: right;\">\n",
       "      <th></th>\n",
       "      <th>hex_id_8</th>\n",
       "      <th>geometry_x</th>\n",
       "      <th>max_preescolar_x</th>\n",
       "      <th>max_primaria_x</th>\n",
       "      <th>max_secundaria_x</th>\n",
       "      <th>max_salud_x</th>\n",
       "      <th>max_guarderias_x</th>\n",
       "      <th>max_alimentos_x</th>\n",
       "      <th>max_personal_x</th>\n",
       "      <th>max_parques_x</th>\n",
       "      <th>...</th>\n",
       "      <th>pobmas_y</th>\n",
       "      <th>pob_0a2</th>\n",
       "      <th>pob_3a5</th>\n",
       "      <th>pob_0a5</th>\n",
       "      <th>pob_0a14_y</th>\n",
       "      <th>pob_15a24_y</th>\n",
       "      <th>pob_25a59_y</th>\n",
       "      <th>p_60ymas_y</th>\n",
       "      <th>dens_pobha_y</th>\n",
       "      <th>city_y</th>\n",
       "    </tr>\n",
       "  </thead>\n",
       "  <tbody>\n",
       "    <tr>\n",
       "      <th>0</th>\n",
       "      <td>8848a23881fffff</td>\n",
       "      <td>POLYGON ((-100.38026 25.93877, -100.38069 25.9...</td>\n",
       "      <td>24.460722</td>\n",
       "      <td>21.807982</td>\n",
       "      <td>9.385404</td>\n",
       "      <td>22.735261</td>\n",
       "      <td>44.928272</td>\n",
       "      <td>4.691355</td>\n",
       "      <td>45.801976</td>\n",
       "      <td>5.858094</td>\n",
       "      <td>...</td>\n",
       "      <td>123.34427</td>\n",
       "      <td>14.639343</td>\n",
       "      <td>11.836064</td>\n",
       "      <td>26.475407</td>\n",
       "      <td>65.098359</td>\n",
       "      <td>43.606558</td>\n",
       "      <td>109.950839</td>\n",
       "      <td>31.459015</td>\n",
       "      <td>2.970079</td>\n",
       "      <td>Monterrey</td>\n",
       "    </tr>\n",
       "    <tr>\n",
       "      <th>1</th>\n",
       "      <td>8848a23883fffff</td>\n",
       "      <td>POLYGON ((-100.38588 25.94625, -100.38631 25.9...</td>\n",
       "      <td>14.182725</td>\n",
       "      <td>12.408625</td>\n",
       "      <td>8.665118</td>\n",
       "      <td>12.251763</td>\n",
       "      <td>60.525388</td>\n",
       "      <td>1.979088</td>\n",
       "      <td>61.399092</td>\n",
       "      <td>3.506618</td>\n",
       "      <td>...</td>\n",
       "      <td>234.69318</td>\n",
       "      <td>26.695550</td>\n",
       "      <td>25.030443</td>\n",
       "      <td>51.725993</td>\n",
       "      <td>122.381728</td>\n",
       "      <td>78.758787</td>\n",
       "      <td>219.166333</td>\n",
       "      <td>65.829040</td>\n",
       "      <td>5.674415</td>\n",
       "      <td>Monterrey</td>\n",
       "    </tr>\n",
       "  </tbody>\n",
       "</table>\n",
       "<p>2 rows × 43 columns</p>\n",
       "</div>"
      ],
      "text/plain": [
       "          hex_id_8                                         geometry_x  \\\n",
       "0  8848a23881fffff  POLYGON ((-100.38026 25.93877, -100.38069 25.9...   \n",
       "1  8848a23883fffff  POLYGON ((-100.38588 25.94625, -100.38631 25.9...   \n",
       "\n",
       "   max_preescolar_x  max_primaria_x  max_secundaria_x  max_salud_x  \\\n",
       "0         24.460722       21.807982          9.385404    22.735261   \n",
       "1         14.182725       12.408625          8.665118    12.251763   \n",
       "\n",
       "   max_guarderias_x  max_alimentos_x  max_personal_x  max_parques_x  ...  \\\n",
       "0         44.928272         4.691355       45.801976       5.858094  ...   \n",
       "1         60.525388         1.979088       61.399092       3.506618  ...   \n",
       "\n",
       "    pobmas_y    pob_0a2    pob_3a5    pob_0a5  pob_0a14_y  pob_15a24_y  \\\n",
       "0  123.34427  14.639343  11.836064  26.475407   65.098359    43.606558   \n",
       "1  234.69318  26.695550  25.030443  51.725993  122.381728    78.758787   \n",
       "\n",
       "   pob_25a59_y  p_60ymas_y  dens_pobha_y     city_y  \n",
       "0   109.950839   31.459015      2.970079  Monterrey  \n",
       "1   219.166333   65.829040      5.674415  Monterrey  \n",
       "\n",
       "[2 rows x 43 columns]"
      ]
     },
     "execution_count": 31,
     "metadata": {},
     "output_type": "execute_result"
    }
   ],
   "source": [
    "merged_cd_cuidadoras.head(2)"
   ]
  },
  {
   "cell_type": "markdown",
   "id": "8b5fe5bc-d0fb-418a-b640-55a00c5fb29d",
   "metadata": {},
   "source": [
    "### Compare datasets columns"
   ]
  },
  {
   "cell_type": "code",
   "execution_count": 32,
   "id": "83c1ba64-ad01-4bd3-b445-8df2836d14c2",
   "metadata": {
    "tags": []
   },
   "outputs": [
    {
     "name": "stdout",
     "output_type": "stream",
     "text": [
      "Diferencia en diff_max_preescolar es de 0.0\n",
      "Diferencia en diff_max_primaria es de 0.0\n",
      "Diferencia en diff_max_secundaria es de 0.0\n",
      "Diferencia en diff_max_salud es de 0.0\n",
      "Diferencia en diff_max_guarderias es de 0.0\n",
      "Diferencia en diff_max_alimentos es de 0.0\n",
      "Diferencia en diff_max_personal es de 0.0\n",
      "Diferencia en diff_max_parques es de 0.0\n",
      "Diferencia en diff_max_idx_15_min es de 0.0\n",
      "Diferencia en diff_pobtot es de 0.0\n",
      "Diferencia en diff_pobfem es de 0.0\n",
      "Diferencia en diff_pobmas es de 0.0\n",
      "Diferencia en diff_pob_0a14 es de 0.0\n",
      "Diferencia en diff_pob_15a24 es de 0.0\n",
      "Diferencia en diff_pob_25a59 es de 0.0\n",
      "Diferencia en diff_p_60ymas es de 0.0\n",
      "Diferencia en diff_dens_pobha es de 0.0\n"
     ]
    }
   ],
   "source": [
    "compare_data_cols = [\n",
    " 'max_preescolar',\n",
    " 'max_primaria',\n",
    " 'max_secundaria',\n",
    " 'max_salud',\n",
    " 'max_guarderias',\n",
    " 'max_alimentos',\n",
    " 'max_personal',\n",
    " 'max_parques',\n",
    " 'max_idx_15_min',\n",
    " 'pobtot',\n",
    " 'pobfem',\n",
    " 'pobmas',\n",
    " 'pob_0a14',\n",
    " 'pob_15a24',\n",
    " 'pob_25a59',\n",
    " 'p_60ymas',\n",
    " 'dens_pobha']\n",
    "\n",
    "diff_cols = []\n",
    "\n",
    "for col in compare_data_cols:\n",
    "    original_col = col+'_x'\n",
    "    new_col = col+'_y'\n",
    "    diff_col = f'diff_{col}'\n",
    "    \n",
    "    merged_cd_cuidadoras[diff_col] = merged_cd_cuidadoras[original_col] - merged_cd_cuidadoras[new_col]\n",
    "    merged_cd_cuidadoras.drop(columns=[original_col, new_col],inplace=True)\n",
    "    \n",
    "    diff_cols.append(diff_col)\n",
    "    \n",
    "for col in diff_cols:\n",
    "    diff = merged_cd_cuidadoras[col].sum()\n",
    "    print(f'Diferencia en {col} es de {diff}')"
   ]
  },
  {
   "cell_type": "code",
   "execution_count": null,
   "id": "3c4ab979-4f08-4a7c-a0d4-bd1e98d03794",
   "metadata": {},
   "outputs": [],
   "source": []
  }
 ],
 "metadata": {
  "kernelspec": {
   "display_name": "Python 3 (ipykernel)",
   "language": "python",
   "name": "python3"
  },
  "language_info": {
   "codemirror_mode": {
    "name": "ipython",
    "version": 3
   },
   "file_extension": ".py",
   "mimetype": "text/x-python",
   "name": "python",
   "nbconvert_exporter": "python",
   "pygments_lexer": "ipython3",
   "version": "3.10.5"
  }
 },
 "nbformat": 4,
 "nbformat_minor": 5
}
