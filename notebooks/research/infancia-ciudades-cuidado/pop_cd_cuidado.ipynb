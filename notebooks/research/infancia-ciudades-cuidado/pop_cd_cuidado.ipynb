{
 "cells": [
  {
   "cell_type": "code",
   "execution_count": 1,
   "id": "00365aa3-5f66-4ad5-9510-c253b3520c28",
   "metadata": {
    "tags": []
   },
   "outputs": [
    {
     "name": "stderr",
     "output_type": "stream",
     "text": [
      "/usr/local/python/lib/python3.10/site-packages/osmnx/utils.py:192: UserWarning: The `utils.config` function is deprecated and will be removed in a future release. Instead, use the `settings` module directly to configure a global setting's value. For example, `ox.settings.log_console=True`.\n",
      "  warnings.warn(\n"
     ]
    }
   ],
   "source": [
    "import os\n",
    "import sys\n",
    "\n",
    "import pandas as pd\n",
    "import geopandas as gpd\n",
    "import osmnx as ox\n",
    "import numpy as np\n",
    "\n",
    "from shapely import wkt\n",
    "\n",
    "import matplotlib.pyplot as plt\n",
    "import seaborn as sns\n",
    "\n",
    "from pandas.api.types import CategoricalDtype\n",
    "\n",
    "import warnings\n",
    "warnings.simplefilter(action='ignore', category=FutureWarning)\n",
    "\n",
    "module_path = os.path.abspath(os.path.join('../../../'))\n",
    "if module_path not in sys.path:\n",
    "    sys.path.append(module_path)\n",
    "    import aup"
   ]
  },
  {
   "cell_type": "code",
   "execution_count": 2,
   "id": "ed67f2cc-5710-4291-8b4f-8c9b993e48bb",
   "metadata": {
    "tags": []
   },
   "outputs": [],
   "source": [
    "def main(city, cvegeo_list, save = True):\n",
    "    \n",
    "    print(F'STARTING ANALYSIS FOR {city}.')\n",
    "    \n",
    "    #--------------- DOWNLOAD DATA ---------------\n",
    "    # Download cd_cuidadoras for city\n",
    "    schema = 'prox_analysis'\n",
    "    table = 'cd_cuidadoras_hexres8'\n",
    "    query = f\"SELECT * FROM {schema}.{table}  WHERE \\\"city\\\" LIKE \\'{city}\\'\"\n",
    "    cd_cuidadoras = aup.gdf_from_query(query, geometry_col='geometry')\n",
    "    \n",
    "    pob_tot = cd_cuidadoras.pobtot.sum()\n",
    "    \n",
    "    print(f'Downloaded cd_cuidadoras data with a total of {pob_tot} persons.')\n",
    "    \n",
    "    # Download hex_pop for city\n",
    "    schema = 'censo'\n",
    "    table = 'hex_bins_pop_2020'\n",
    "\n",
    "    hex_pop = gpd.GeoDataFrame()\n",
    "    for cvegeo in cvegeo_list:\n",
    "        query = f\"SELECT * FROM {schema}.{table} WHERE \\\"CVEGEO\\\" LIKE \\'{cvegeo}%%\\'\"\n",
    "        hex_tmp = aup.gdf_from_query(query, geometry_col='geometry')\n",
    "        hex_pop = pd.concat([hex_pop, hex_tmp],\n",
    "        ignore_index = True, axis = 0)\n",
    "        \n",
    "    pob_tot = hex_pop.pobtot.sum()\n",
    "    \n",
    "    print(f'Downloaded hex_pop data with a total of {pob_tot} persons.')\n",
    "    \n",
    "    # Save disk space\n",
    "    del hex_tmp\n",
    "    \n",
    "    #--------------- PROCESS DATA ---------------\n",
    "    # Filter for data of interest\n",
    "    hex_pop_f = hex_pop[['hex_id_8','p_0a2','p_3a5']]\n",
    "    \n",
    "    # Save disk space\n",
    "    del hex_pop\n",
    "    \n",
    "    hex_pop_f.rename(columns={'p_0a2':'pob_0a2','p_3a5':'pob_3a5'},inplace=True)\n",
    "\n",
    "    # Calculate age groups\n",
    "    hex_pop_f['pob_0a5'] = hex_pop_f['pob_0a2'] + hex_pop_f['pob_3a5']\n",
    "\n",
    "    # Merge data\n",
    "    hex_cdcuidadoras_pop = pd.merge(cd_cuidadoras,hex_pop_f, on='hex_id_8')\n",
    "    \n",
    "    # Save disk space\n",
    "    del cd_cuidadoras\n",
    "    del hex_pop_f\n",
    "\n",
    "    # Add res data and remove res from hexid\n",
    "    hex_cdcuidadoras_pop['res'] = 8\n",
    "    hex_cdcuidadoras_pop.rename(columns={'hex_id_8':'hex_id'},inplace=True)\n",
    "\n",
    "    # Reorder columns\n",
    "    reordered_list = ['hex_id', 'res','geometry',\n",
    "                      'max_preescolar',\n",
    "                      'max_primaria',\n",
    "                      'max_secundaria',\n",
    "                      'max_salud',\n",
    "                      'max_guarderias',\n",
    "                      'max_alimentos',\n",
    "                      'max_personal',\n",
    "                      'max_parques',\n",
    "                      'max_idx_15_min',\n",
    "                      'pobtot',\n",
    "                      'pobfem',\n",
    "                      'pobmas',\n",
    "                      'pob_0a2',\n",
    "                      'pob_3a5',\n",
    "                      'pob_0a5',\n",
    "                      'pob_0a14',\n",
    "                      'pob_15a24',\n",
    "                      'pob_25a59',\n",
    "                      'p_60ymas',\n",
    "                      'dens_pobha',\n",
    "                      'city']\n",
    "\n",
    "    hex_cdcuidadoras_pop = hex_cdcuidadoras_pop[reordered_list]\n",
    "    \n",
    "    #--------------- UPLOAD DATA ---------------\n",
    "    if save:\n",
    "        aup.gdf_to_db_slow(hex_cdcuidadoras_pop, \"cdcuidadoras_popageb_2020_hex\", 'prox_analysis', if_exists='append')\n",
    "        print(f'Uploaded {city} data to db')"
   ]
  },
  {
   "cell_type": "code",
   "execution_count": null,
   "id": "d35e0259-3a1d-4e5d-ab6a-5b9ba5bfdc3c",
   "metadata": {
    "tags": []
   },
   "outputs": [
    {
     "name": "stdout",
     "output_type": "stream",
     "text": [
      "Already processed 18 cities:\n",
      "['Aguascalientes', 'Ensenada', 'Mexicali', 'Tijuana', 'La Paz', 'Campeche', 'Laguna', 'Monclova', 'Piedras Negras', 'Saltillo', 'Colima', 'Tecoman', 'Tapachula', 'Tuxtla', 'Chihuahua', 'Delicias', 'Juarez', 'Parral']\n",
      "STARTING ANALYSIS FOR ZMVM.\n",
      "Downloaded cd_cuidadoras data with a total of 20996445.9109602 persons.\n"
     ]
    }
   ],
   "source": [
    "#Load mun data\n",
    "mun_schema = 'metropolis'\n",
    "mun_table = 'metro_gdf'\n",
    "query = f\"SELECT * FROM {mun_schema}.{mun_table}\" \n",
    "mun_gdf = aup.gdf_from_query(query, geometry_col='geometry')\n",
    "\n",
    "#Find already processed cities\n",
    "prox_schema = 'prox_analysis'\n",
    "prox_table = 'cdcuidadoras_popageb_2020_hex'\n",
    "query = f\"SELECT * FROM {prox_schema}.{prox_table}\"\n",
    "prox_all = aup.gdf_from_query(query, geometry_col='geometry')\n",
    "processed_city_list = list(prox_all.city.unique())\n",
    "\n",
    "print(f\"Already processed {len(processed_city_list)} cities:\")\n",
    "print(processed_city_list)\n",
    "\n",
    "#Run main function\n",
    "for city in mun_gdf.city.unique():\n",
    "        if city not in processed_city_list:\n",
    "            cvegeo_list = list(mun_gdf.loc[mun_gdf.city==city][\"CVEGEO\"].unique())\n",
    "            main(city, cvegeo_list, save=True)"
   ]
  },
  {
   "cell_type": "code",
   "execution_count": null,
   "id": "b25e2384-1fb0-4c41-87c8-504b81f1635e",
   "metadata": {},
   "outputs": [],
   "source": []
  }
 ],
 "metadata": {
  "kernelspec": {
   "display_name": "Python 3 (ipykernel)",
   "language": "python",
   "name": "python3"
  },
  "language_info": {
   "codemirror_mode": {
    "name": "ipython",
    "version": 3
   },
   "file_extension": ".py",
   "mimetype": "text/x-python",
   "name": "python",
   "nbconvert_exporter": "python",
   "pygments_lexer": "ipython3",
   "version": "3.10.5"
  }
 },
 "nbformat": 4,
 "nbformat_minor": 5
}
