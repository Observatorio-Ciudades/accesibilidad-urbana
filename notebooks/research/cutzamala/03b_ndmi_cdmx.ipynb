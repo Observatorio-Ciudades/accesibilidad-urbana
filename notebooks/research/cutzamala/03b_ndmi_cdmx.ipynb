{
 "cells": [
  {
   "cell_type": "markdown",
   "id": "20e6602e-6463-49bb-ad45-ab7bada2ccd8",
   "metadata": {},
   "source": [
    "# 03_ndmi_cdmx_filtering_alcaldias"
   ]
  },
  {
   "cell_type": "markdown",
   "id": "3648838c-8ce7-4ac8-b142-625a13a28a9c",
   "metadata": {},
   "source": [
    "This notebook loads hexs with vegetation (NDVI) to plot NDMI values january-may for each year __in CDMX.__\n",
    "\n",
    "Note: Database has only data up until 2023. Data for __ene, feb, mar, aprl 2024__ (current date) was run using Script 17 and saved locally.\n",
    "*     band_name_dict = {'nir':[True],'swir16':[False], 'eq':[\"(nir-swir16)/(nir+swir16)\"]}\n",
    "*     start_date = '2024-01-01'\n",
    "*     end_date = '2024-03-19'\n",
    "*     save = False\n",
    "*     local_save = True"
   ]
  },
  {
   "cell_type": "markdown",
   "id": "6fc4f582-94ec-46fc-94b7-0fe0cd3791b1",
   "metadata": {},
   "source": [
    "## Import libraries"
   ]
  },
  {
   "cell_type": "code",
   "execution_count": 1,
   "id": "a974aa7f-fb72-42eb-8abf-5dce31633bcc",
   "metadata": {},
   "outputs": [],
   "source": [
    "import os\n",
    "import sys\n",
    "\n",
    "import pandas as pd\n",
    "import geopandas as gpd\n",
    "import numpy as np\n",
    "\n",
    "import matplotlib.pyplot as plt\n",
    "from matplotlib import colors\n",
    "import seaborn as sns\n",
    "\n",
    "from pandas.api.types import CategoricalDtype\n",
    "\n",
    "import warnings\n",
    "warnings.simplefilter(action='ignore', category=FutureWarning)\n",
    "\n",
    "module_path = os.path.abspath(os.path.join('../../../'))\n",
    "if module_path not in sys.path:\n",
    "    sys.path.append(module_path)\n",
    "    import aup"
   ]
  },
  {
   "cell_type": "code",
   "execution_count": 2,
   "id": "879d44d6-f02e-462b-9aff-42e66d799c1a",
   "metadata": {},
   "outputs": [],
   "source": [
    "city = 'CDMX'"
   ]
  },
  {
   "cell_type": "markdown",
   "id": "0e1fcd00-30fb-497b-b4c5-3aa46e84d1c4",
   "metadata": {},
   "source": [
    "## 1. Load hexs with vegetation in alcaldías of interest"
   ]
  },
  {
   "cell_type": "markdown",
   "id": "79d68b49-4885-4230-a558-e0d4e5dfc62d",
   "metadata": {},
   "source": [
    "### NDVI Load data - for city and res"
   ]
  },
  {
   "cell_type": "markdown",
   "id": "e2e2cc7d-ea4e-47f2-9bf7-6d7612fd9c31",
   "metadata": {},
   "source": [
    "NDVI's hex were processed using the correct urban+rural hexs configuration on Script 21."
   ]
  },
  {
   "cell_type": "code",
   "execution_count": 3,
   "id": "195d2679-bf9c-4940-acf5-7ff5a8425a11",
   "metadata": {},
   "outputs": [
    {
     "name": "stdout",
     "output_type": "stream",
     "text": [
      "(59557, 2)\n"
     ]
    },
    {
     "data": {
      "text/html": [
       "<div>\n",
       "<style scoped>\n",
       "    .dataframe tbody tr th:only-of-type {\n",
       "        vertical-align: middle;\n",
       "    }\n",
       "\n",
       "    .dataframe tbody tr th {\n",
       "        vertical-align: top;\n",
       "    }\n",
       "\n",
       "    .dataframe thead th {\n",
       "        text-align: right;\n",
       "    }\n",
       "</style>\n",
       "<table border=\"1\" class=\"dataframe\">\n",
       "  <thead>\n",
       "    <tr style=\"text-align: right;\">\n",
       "      <th></th>\n",
       "      <th>hex_id</th>\n",
       "      <th>ndvi_median</th>\n",
       "    </tr>\n",
       "  </thead>\n",
       "  <tbody>\n",
       "    <tr>\n",
       "      <th>0</th>\n",
       "      <td>8a4995b8cb57fff</td>\n",
       "      <td>0.10846</td>\n",
       "    </tr>\n",
       "    <tr>\n",
       "      <th>1</th>\n",
       "      <td>8a4995b88b4ffff</td>\n",
       "      <td>0.24483</td>\n",
       "    </tr>\n",
       "  </tbody>\n",
       "</table>\n",
       "</div>"
      ],
      "text/plain": [
       "            hex_id  ndvi_median\n",
       "0  8a4995b8cb57fff      0.10846\n",
       "1  8a4995b88b4ffff      0.24483"
      ]
     },
     "execution_count": 3,
     "metadata": {},
     "output_type": "execute_result"
    }
   ],
   "source": [
    "# Downloading NDVI res 10 data (aprox. 150-200s)\n",
    "ndvi_schema = 'raster_analysis'\n",
    "ndvi_table = 'ndvi_analysis_hex'\n",
    "res = 10\n",
    "query = f\"SELECT * FROM {ndvi_schema}.{ndvi_table} WHERE \\\"city\\\" LIKE \\'{city}\\' AND \\\"res\\\" = {res}\"\n",
    "ndvi_res10 = aup.gdf_from_query(query, geometry_col='geometry')\n",
    "\n",
    "# Shorten data\n",
    "ndvi_res10 = ndvi_res10[['hex_id','ndvi_median']]\n",
    "\n",
    "# Show\n",
    "print(ndvi_res10.shape)\n",
    "ndvi_res10.head(2)"
   ]
  },
  {
   "cell_type": "markdown",
   "id": "85b89e8d-8273-4cac-8816-b7a55392f0f8",
   "metadata": {},
   "source": [
    "### NDVI Data treatment - Create vegetation categories"
   ]
  },
  {
   "cell_type": "code",
   "execution_count": 4,
   "id": "8ef6c793-817f-4fd6-bab1-7817901c658e",
   "metadata": {},
   "outputs": [
    {
     "name": "stdout",
     "output_type": "stream",
     "text": [
      "(59557, 3)\n"
     ]
    },
    {
     "data": {
      "text/html": [
       "<div>\n",
       "<style scoped>\n",
       "    .dataframe tbody tr th:only-of-type {\n",
       "        vertical-align: middle;\n",
       "    }\n",
       "\n",
       "    .dataframe tbody tr th {\n",
       "        vertical-align: top;\n",
       "    }\n",
       "\n",
       "    .dataframe thead th {\n",
       "        text-align: right;\n",
       "    }\n",
       "</style>\n",
       "<table border=\"1\" class=\"dataframe\">\n",
       "  <thead>\n",
       "    <tr style=\"text-align: right;\">\n",
       "      <th></th>\n",
       "      <th>hex_id</th>\n",
       "      <th>ndvi_median</th>\n",
       "      <th>ndvi_median_rango</th>\n",
       "    </tr>\n",
       "  </thead>\n",
       "  <tbody>\n",
       "    <tr>\n",
       "      <th>0</th>\n",
       "      <td>8a4995b8cb57fff</td>\n",
       "      <td>0.10846</td>\n",
       "      <td>Suelo</td>\n",
       "    </tr>\n",
       "    <tr>\n",
       "      <th>1</th>\n",
       "      <td>8a4995b88b4ffff</td>\n",
       "      <td>0.24483</td>\n",
       "      <td>Mínima densidad vegetal</td>\n",
       "    </tr>\n",
       "  </tbody>\n",
       "</table>\n",
       "</div>"
      ],
      "text/plain": [
       "            hex_id  ndvi_median        ndvi_median_rango\n",
       "0  8a4995b8cb57fff      0.10846                    Suelo\n",
       "1  8a4995b88b4ffff      0.24483  Mínima densidad vegetal"
      ]
     },
     "execution_count": 4,
     "metadata": {},
     "output_type": "execute_result"
    }
   ],
   "source": [
    "# Create vegetation categories\n",
    "ndvi_res10['ndvi_median_rango'] = np.nan\n",
    "ndvi_res10.loc[ndvi_res10.ndvi_median>=0.6 , 'ndvi_median_rango'] = 'Alta densidad vegetal'\n",
    "ndvi_res10.loc[(ndvi_res10.ndvi_median>=0.4 )&\n",
    "                (ndvi_res10.ndvi_median<0.6), 'ndvi_median_rango'] = 'Moderada densidad vegetal'\n",
    "ndvi_res10.loc[(ndvi_res10.ndvi_median>=0.2)&\n",
    "                (ndvi_res10.ndvi_median<0.4), 'ndvi_median_rango'] = 'Mínima densidad vegetal'\n",
    "ndvi_res10.loc[(ndvi_res10.ndvi_median>=0.1)&\n",
    "                (ndvi_res10.ndvi_median<0.2), 'ndvi_median_rango'] = 'Suelo'\n",
    "ndvi_res10.loc[(ndvi_res10.ndvi_median<0.1), 'ndvi_median_rango'] = 'Suelo artificial/Agua/Piedra'\n",
    "\n",
    "# Ordering data\n",
    "categories = ['Suelo artificial/Agua/Piedra', 'Suelo', 'Mínima densidad vegetal', 'Moderada densidad vegetal', 'Alta densidad vegetal']\n",
    "ndvi_res10['ndvi_median_rango'] = pd.Categorical(ndvi_res10['ndvi_median_rango'], categories=categories, ordered=True)\n",
    "\n",
    "# Show\n",
    "print(ndvi_res10.shape)\n",
    "ndvi_res10.head(2)"
   ]
  },
  {
   "cell_type": "markdown",
   "id": "9aa4af54-f1df-403b-8c61-95874ff01582",
   "metadata": {},
   "source": [
    "### NDVI Data treatment - Filter for places with vegetation"
   ]
  },
  {
   "cell_type": "code",
   "execution_count": 5,
   "id": "7991a287-6e9c-4e93-afe5-02e80a926fd8",
   "metadata": {},
   "outputs": [
    {
     "name": "stdout",
     "output_type": "stream",
     "text": [
      "(35317, 3)\n"
     ]
    },
    {
     "data": {
      "text/html": [
       "<div>\n",
       "<style scoped>\n",
       "    .dataframe tbody tr th:only-of-type {\n",
       "        vertical-align: middle;\n",
       "    }\n",
       "\n",
       "    .dataframe tbody tr th {\n",
       "        vertical-align: top;\n",
       "    }\n",
       "\n",
       "    .dataframe thead th {\n",
       "        text-align: right;\n",
       "    }\n",
       "</style>\n",
       "<table border=\"1\" class=\"dataframe\">\n",
       "  <thead>\n",
       "    <tr style=\"text-align: right;\">\n",
       "      <th></th>\n",
       "      <th>hex_id</th>\n",
       "      <th>ndvi_median</th>\n",
       "      <th>ndvi_median_rango</th>\n",
       "    </tr>\n",
       "  </thead>\n",
       "  <tbody>\n",
       "    <tr>\n",
       "      <th>1</th>\n",
       "      <td>8a4995b88b4ffff</td>\n",
       "      <td>0.244830</td>\n",
       "      <td>Mínima densidad vegetal</td>\n",
       "    </tr>\n",
       "    <tr>\n",
       "      <th>4</th>\n",
       "      <td>8a4995b8881ffff</td>\n",
       "      <td>0.259619</td>\n",
       "      <td>Mínima densidad vegetal</td>\n",
       "    </tr>\n",
       "  </tbody>\n",
       "</table>\n",
       "</div>"
      ],
      "text/plain": [
       "            hex_id  ndvi_median        ndvi_median_rango\n",
       "1  8a4995b88b4ffff     0.244830  Mínima densidad vegetal\n",
       "4  8a4995b8881ffff     0.259619  Mínima densidad vegetal"
      ]
     },
     "execution_count": 5,
     "metadata": {},
     "output_type": "execute_result"
    }
   ],
   "source": [
    "#Keeping High-moderate-minimal vegetation density\n",
    "data_withveg = ndvi_res10.loc[(ndvi_res10.ndvi_median_rango == 'Alta densidad vegetal') |\n",
    "               (ndvi_res10.ndvi_median_rango == 'Moderada densidad vegetal')|\n",
    "               (ndvi_res10.ndvi_median_rango == 'Mínima densidad vegetal')].copy()\n",
    "\n",
    "# Show\n",
    "print(data_withveg.shape)\n",
    "data_withveg.head(2)"
   ]
  },
  {
   "cell_type": "markdown",
   "id": "7d0addaa-d6f7-412b-a81a-2fe9ce3143a7",
   "metadata": {},
   "source": [
    "### hex_gdf Load data - (Contiene alcaldías)"
   ]
  },
  {
   "cell_type": "code",
   "execution_count": 6,
   "id": "a0a7a4b4-3579-42fa-a584-b43dcb5871b5",
   "metadata": {},
   "outputs": [
    {
     "name": "stdout",
     "output_type": "stream",
     "text": [
      "(86349, 3)\n"
     ]
    },
    {
     "data": {
      "text/html": [
       "<div>\n",
       "<style scoped>\n",
       "    .dataframe tbody tr th:only-of-type {\n",
       "        vertical-align: middle;\n",
       "    }\n",
       "\n",
       "    .dataframe tbody tr th {\n",
       "        vertical-align: top;\n",
       "    }\n",
       "\n",
       "    .dataframe thead th {\n",
       "        text-align: right;\n",
       "    }\n",
       "</style>\n",
       "<table border=\"1\" class=\"dataframe\">\n",
       "  <thead>\n",
       "    <tr style=\"text-align: right;\">\n",
       "      <th></th>\n",
       "      <th>hex_id</th>\n",
       "      <th>NOMGEO</th>\n",
       "      <th>geometry</th>\n",
       "    </tr>\n",
       "  </thead>\n",
       "  <tbody>\n",
       "    <tr>\n",
       "      <th>0</th>\n",
       "      <td>8a4995b8cb57fff</td>\n",
       "      <td>Azcapotzalco</td>\n",
       "      <td>POLYGON ((-99.19358 19.48193, -99.19293 19.482...</td>\n",
       "    </tr>\n",
       "    <tr>\n",
       "      <th>1</th>\n",
       "      <td>8a4995b88d67fff</td>\n",
       "      <td>Azcapotzalco</td>\n",
       "      <td>POLYGON ((-99.17778 19.49754, -99.17713 19.497...</td>\n",
       "    </tr>\n",
       "  </tbody>\n",
       "</table>\n",
       "</div>"
      ],
      "text/plain": [
       "            hex_id        NOMGEO   \n",
       "0  8a4995b8cb57fff  Azcapotzalco  \\\n",
       "1  8a4995b88d67fff  Azcapotzalco   \n",
       "\n",
       "                                            geometry  \n",
       "0  POLYGON ((-99.19358 19.48193, -99.19293 19.482...  \n",
       "1  POLYGON ((-99.17778 19.49754, -99.17713 19.497...  "
      ]
     },
     "execution_count": 6,
     "metadata": {},
     "output_type": "execute_result"
    }
   ],
   "source": [
    "# Download hex_gdf  (aprox. 150-200s)\n",
    "hex_schema = 'hexgrid'\n",
    "hex_table = 'hexgrid_10_city_2020'\n",
    "query = f\"SELECT * FROM {hex_schema}.{hex_table} WHERE \\\"city\\\" LIKE \\'{city}\\'\"\n",
    "hex_gdf = aup.gdf_from_query(query, geometry_col='geometry')\n",
    "\n",
    "# Shorten data\n",
    "hex_gdf_f = hex_gdf[['hex_id_10','NOMGEO','geometry']].copy()\n",
    "hex_gdf_f.rename(columns={'hex_id_10':'hex_id'},inplace=True)\n",
    "\n",
    "# Show\n",
    "print(hex_gdf_f.shape)\n",
    "hex_gdf_f.head(2)"
   ]
  },
  {
   "cell_type": "markdown",
   "id": "5c7fc1f4-0729-46e8-89a7-eaa6c507d384",
   "metadata": {},
   "source": [
    "### Data with veg (NDVI) + alcaldías (hex_gdf)"
   ]
  },
  {
   "cell_type": "code",
   "execution_count": 7,
   "id": "273bae84-2f83-4e3d-8bb5-a184e3f90d8e",
   "metadata": {},
   "outputs": [
    {
     "name": "stdout",
     "output_type": "stream",
     "text": [
      "(35317, 5)\n"
     ]
    },
    {
     "data": {
      "text/html": [
       "<div>\n",
       "<style scoped>\n",
       "    .dataframe tbody tr th:only-of-type {\n",
       "        vertical-align: middle;\n",
       "    }\n",
       "\n",
       "    .dataframe tbody tr th {\n",
       "        vertical-align: top;\n",
       "    }\n",
       "\n",
       "    .dataframe thead th {\n",
       "        text-align: right;\n",
       "    }\n",
       "</style>\n",
       "<table border=\"1\" class=\"dataframe\">\n",
       "  <thead>\n",
       "    <tr style=\"text-align: right;\">\n",
       "      <th></th>\n",
       "      <th>hex_id</th>\n",
       "      <th>ndvi_median</th>\n",
       "      <th>ndvi_median_rango</th>\n",
       "      <th>NOMGEO</th>\n",
       "      <th>geometry</th>\n",
       "    </tr>\n",
       "  </thead>\n",
       "  <tbody>\n",
       "    <tr>\n",
       "      <th>0</th>\n",
       "      <td>8a4995b88b4ffff</td>\n",
       "      <td>0.244830</td>\n",
       "      <td>Mínima densidad vegetal</td>\n",
       "      <td>Azcapotzalco</td>\n",
       "      <td>POLYGON ((-99.19260 19.50640, -99.19195 19.506...</td>\n",
       "    </tr>\n",
       "    <tr>\n",
       "      <th>1</th>\n",
       "      <td>8a4995b8881ffff</td>\n",
       "      <td>0.259619</td>\n",
       "      <td>Mínima densidad vegetal</td>\n",
       "      <td>Azcapotzalco</td>\n",
       "      <td>POLYGON ((-99.18272 19.50049, -99.18207 19.500...</td>\n",
       "    </tr>\n",
       "  </tbody>\n",
       "</table>\n",
       "</div>"
      ],
      "text/plain": [
       "            hex_id  ndvi_median        ndvi_median_rango        NOMGEO   \n",
       "0  8a4995b88b4ffff     0.244830  Mínima densidad vegetal  Azcapotzalco  \\\n",
       "1  8a4995b8881ffff     0.259619  Mínima densidad vegetal  Azcapotzalco   \n",
       "\n",
       "                                            geometry  \n",
       "0  POLYGON ((-99.19260 19.50640, -99.19195 19.506...  \n",
       "1  POLYGON ((-99.18272 19.50049, -99.18207 19.500...  "
      ]
     },
     "execution_count": 7,
     "metadata": {},
     "output_type": "execute_result"
    }
   ],
   "source": [
    "# Inner join to keep data with veg of alcaldías of interest only\n",
    "data_withveg_alcaldias = data_withveg.merge(hex_gdf_f,on='hex_id',how='inner')\n",
    "\n",
    "# Show\n",
    "print(data_withveg_alcaldias.shape)\n",
    "data_withveg_alcaldias.head(2)"
   ]
  },
  {
   "cell_type": "markdown",
   "id": "73df385c-fe41-4dd6-a0a2-b35d5ff51750",
   "metadata": {},
   "source": [
    "## 2. Load NDMI"
   ]
  },
  {
   "cell_type": "markdown",
   "id": "224d6f20-5175-4d27-84d1-79a6245a6207",
   "metadata": {},
   "source": [
    "### Load NDMI db data (using city, res and tupple of months of analysis)"
   ]
  },
  {
   "cell_type": "code",
   "execution_count": 8,
   "id": "106f4ac2-9503-43da-ad11-8d66314a1255",
   "metadata": {},
   "outputs": [
    {
     "name": "stdout",
     "output_type": "stream",
     "text": [
      "(1902135, 6)\n"
     ]
    },
    {
     "data": {
      "text/html": [
       "<div>\n",
       "<style scoped>\n",
       "    .dataframe tbody tr th:only-of-type {\n",
       "        vertical-align: middle;\n",
       "    }\n",
       "\n",
       "    .dataframe tbody tr th {\n",
       "        vertical-align: top;\n",
       "    }\n",
       "\n",
       "    .dataframe thead th {\n",
       "        text-align: right;\n",
       "    }\n",
       "</style>\n",
       "<table border=\"1\" class=\"dataframe\">\n",
       "  <thead>\n",
       "    <tr style=\"text-align: right;\">\n",
       "      <th></th>\n",
       "      <th>hex_id</th>\n",
       "      <th>res</th>\n",
       "      <th>ndmi</th>\n",
       "      <th>month</th>\n",
       "      <th>year</th>\n",
       "      <th>city</th>\n",
       "    </tr>\n",
       "  </thead>\n",
       "  <tbody>\n",
       "    <tr>\n",
       "      <th>0</th>\n",
       "      <td>8a499595944ffff</td>\n",
       "      <td>10</td>\n",
       "      <td>-0.090000</td>\n",
       "      <td>1</td>\n",
       "      <td>2018</td>\n",
       "      <td>CDMX</td>\n",
       "    </tr>\n",
       "    <tr>\n",
       "      <th>1</th>\n",
       "      <td>8a4995862907fff</td>\n",
       "      <td>10</td>\n",
       "      <td>0.003396</td>\n",
       "      <td>1</td>\n",
       "      <td>2018</td>\n",
       "      <td>CDMX</td>\n",
       "    </tr>\n",
       "  </tbody>\n",
       "</table>\n",
       "</div>"
      ],
      "text/plain": [
       "            hex_id  res      ndmi  month  year  city\n",
       "0  8a499595944ffff   10 -0.090000      1  2018  CDMX\n",
       "1  8a4995862907fff   10  0.003396      1  2018  CDMX"
      ]
     },
     "execution_count": 8,
     "metadata": {},
     "output_type": "execute_result"
    }
   ],
   "source": [
    "# Complete dataset NDMI res 10 data \n",
    "complete_ndmi_schema = 'raster_analysis'\n",
    "complete_ndmi_table = 'ndmi_complete_dataset_hex'\n",
    "res = 10\n",
    "\n",
    "# OPTION A - Downloading complete dataset and then filtering for months of interest (aprox. 700-1000s)\n",
    "#query = f\"SELECT * FROM {complete_ndmi_schema}.{complete_ndmi_table} WHERE \\\"city\\\" LIKE \\'{city}\\' AND \\\"res\\\"={res}\"\n",
    "#complete_ndmi_res10 = aup.df_from_query(query)\n",
    "#months_ofinterest = [1,2,3,4,5]\n",
    "#complete_ndmi_res10_f = complete_ndmi_res10.loc[complete_ndmi_res10.month.isin(months_ofinterest)]\n",
    "\n",
    "# OPTION B - Using hex_lsts and quering with tupple (First time 3494s, second time 3409s)\n",
    "#hexs_lst = list(data_withveg_alcaldias.hex_id.unique())\n",
    "#query = f\"SELECT * FROM {complete_ndmi_schema}.{complete_ndmi_table} WHERE \\\"city\\\" LIKE \\'{city}\\' AND \\\"res\\\"={res} AND \\\"hex_id\\\" IN {str(tuple(hexs_lst))}\"\n",
    "#complete_ndmi_res10 = aup.df_from_query(query)\n",
    "\n",
    "# OPTION C - Downloading complete dataset filtering for months of interest in query (806s)\n",
    "months_ofinterest = [1,2,3,4,5]\n",
    "query = f\"SELECT * FROM {complete_ndmi_schema}.{complete_ndmi_table} WHERE \\\"city\\\" LIKE \\'{city}\\' AND \\\"res\\\"={res} AND \\\"month\\\" IN {str(tuple(months_ofinterest))}\"\n",
    "complete_ndmi_res10 = aup.df_from_query(query)\n",
    "\n",
    "# Show\n",
    "print(complete_ndmi_res10.shape)\n",
    "complete_ndmi_res10.head(2)"
   ]
  },
  {
   "cell_type": "markdown",
   "id": "4ab13f08-03e0-453a-a0e8-1f37d1ecf7ee",
   "metadata": {},
   "source": [
    "### Load NDMI local data (2024)"
   ]
  },
  {
   "cell_type": "code",
   "execution_count": 9,
   "id": "93d39c09-211d-4e3c-ae45-0cc60ab2378c",
   "metadata": {},
   "outputs": [
    {
     "name": "stdout",
     "output_type": "stream",
     "text": [
      "(2140363, 4)\n"
     ]
    },
    {
     "data": {
      "text/html": [
       "<div>\n",
       "<style scoped>\n",
       "    .dataframe tbody tr th:only-of-type {\n",
       "        vertical-align: middle;\n",
       "    }\n",
       "\n",
       "    .dataframe tbody tr th {\n",
       "        vertical-align: top;\n",
       "    }\n",
       "\n",
       "    .dataframe thead th {\n",
       "        text-align: right;\n",
       "    }\n",
       "</style>\n",
       "<table border=\"1\" class=\"dataframe\">\n",
       "  <thead>\n",
       "    <tr style=\"text-align: right;\">\n",
       "      <th></th>\n",
       "      <th>hex_id</th>\n",
       "      <th>ndmi</th>\n",
       "      <th>month</th>\n",
       "      <th>year</th>\n",
       "    </tr>\n",
       "  </thead>\n",
       "  <tbody>\n",
       "    <tr>\n",
       "      <th>0</th>\n",
       "      <td>8a499595944ffff</td>\n",
       "      <td>-0.090000</td>\n",
       "      <td>1</td>\n",
       "      <td>2018</td>\n",
       "    </tr>\n",
       "    <tr>\n",
       "      <th>1</th>\n",
       "      <td>8a4995862907fff</td>\n",
       "      <td>0.003396</td>\n",
       "      <td>1</td>\n",
       "      <td>2018</td>\n",
       "    </tr>\n",
       "  </tbody>\n",
       "</table>\n",
       "</div>"
      ],
      "text/plain": [
       "            hex_id      ndmi  month  year\n",
       "0  8a499595944ffff -0.090000      1  2018\n",
       "1  8a4995862907fff  0.003396      1  2018"
      ]
     },
     "execution_count": 9,
     "metadata": {},
     "output_type": "execute_result"
    }
   ],
   "source": [
    "# Load NDMI local data (2024)\n",
    "y2024_ndmi_res10 = pd.read_csv(\"../../../data/processed/tmp_ndmi/local_save/CDMX_ndmi_HexRes10_v0.csv\")\n",
    "\n",
    "# Merge with db data (2018-2023)\n",
    "complete_ndmi_res10_concat = pd.concat([complete_ndmi_res10,y2024_ndmi_res10])\n",
    "\n",
    "# Shorten data\n",
    "complete_ndmi_res10_f = complete_ndmi_res10_concat[['hex_id','ndmi','month','year']]\n",
    "\n",
    "# Show\n",
    "print(complete_ndmi_res10_f.shape)\n",
    "complete_ndmi_res10_f.head(2)"
   ]
  },
  {
   "cell_type": "markdown",
   "id": "f119a0c4-db41-4143-8ba6-237170965104",
   "metadata": {},
   "source": [
    "## Data treatment"
   ]
  },
  {
   "cell_type": "markdown",
   "id": "69247025-a525-406c-add5-5c377e13b08a",
   "metadata": {},
   "source": [
    "### Data treatment - Merge ndmi for places with Data with veg (NDVI) + alcaldías (hex_gdf)"
   ]
  },
  {
   "cell_type": "code",
   "execution_count": 12,
   "id": "125afd2e-cb26-422f-a748-e1857bc5ebaf",
   "metadata": {},
   "outputs": [
    {
     "name": "stdout",
     "output_type": "stream",
     "text": [
      "(1200778, 8)\n"
     ]
    },
    {
     "data": {
      "text/html": [
       "<div>\n",
       "<style scoped>\n",
       "    .dataframe tbody tr th:only-of-type {\n",
       "        vertical-align: middle;\n",
       "    }\n",
       "\n",
       "    .dataframe tbody tr th {\n",
       "        vertical-align: top;\n",
       "    }\n",
       "\n",
       "    .dataframe thead th {\n",
       "        text-align: right;\n",
       "    }\n",
       "</style>\n",
       "<table border=\"1\" class=\"dataframe\">\n",
       "  <thead>\n",
       "    <tr style=\"text-align: right;\">\n",
       "      <th></th>\n",
       "      <th>hex_id</th>\n",
       "      <th>ndvi_median</th>\n",
       "      <th>ndvi_median_rango</th>\n",
       "      <th>NOMGEO</th>\n",
       "      <th>geometry</th>\n",
       "      <th>ndmi</th>\n",
       "      <th>month</th>\n",
       "      <th>year</th>\n",
       "    </tr>\n",
       "  </thead>\n",
       "  <tbody>\n",
       "    <tr>\n",
       "      <th>0</th>\n",
       "      <td>8a4995b88b4ffff</td>\n",
       "      <td>0.24483</td>\n",
       "      <td>Mínima densidad vegetal</td>\n",
       "      <td>Azcapotzalco</td>\n",
       "      <td>POLYGON ((-99.19260 19.50640, -99.19195 19.506...</td>\n",
       "      <td>-0.000792</td>\n",
       "      <td>1</td>\n",
       "      <td>2018</td>\n",
       "    </tr>\n",
       "    <tr>\n",
       "      <th>1</th>\n",
       "      <td>8a4995b88b4ffff</td>\n",
       "      <td>0.24483</td>\n",
       "      <td>Mínima densidad vegetal</td>\n",
       "      <td>Azcapotzalco</td>\n",
       "      <td>POLYGON ((-99.19260 19.50640, -99.19195 19.506...</td>\n",
       "      <td>-0.014421</td>\n",
       "      <td>2</td>\n",
       "      <td>2018</td>\n",
       "    </tr>\n",
       "  </tbody>\n",
       "</table>\n",
       "</div>"
      ],
      "text/plain": [
       "            hex_id  ndvi_median        ndvi_median_rango        NOMGEO   \n",
       "0  8a4995b88b4ffff      0.24483  Mínima densidad vegetal  Azcapotzalco  \\\n",
       "1  8a4995b88b4ffff      0.24483  Mínima densidad vegetal  Azcapotzalco   \n",
       "\n",
       "                                            geometry      ndmi  month  year  \n",
       "0  POLYGON ((-99.19260 19.50640, -99.19195 19.506... -0.000792      1  2018  \n",
       "1  POLYGON ((-99.19260 19.50640, -99.19195 19.506... -0.014421      2  2018  "
      ]
     },
     "execution_count": 12,
     "metadata": {},
     "output_type": "execute_result"
    }
   ],
   "source": [
    "# Inner merge to keep ndmi data for hexs with vegetation only\n",
    "ndvi_ndmi_gdf = data_withveg_alcaldias.merge(complete_ndmi_res10_f, on='hex_id',how='inner')\n",
    "\n",
    "# Show\n",
    "print(ndvi_ndmi_gdf.shape)\n",
    "ndvi_ndmi_gdf.head(2)"
   ]
  },
  {
   "cell_type": "markdown",
   "id": "58dcaeb6-1803-4bfc-aae7-0964a2affeae",
   "metadata": {},
   "source": [
    "## Data analysis"
   ]
  },
  {
   "cell_type": "markdown",
   "id": "80d4181b-3ec3-4826-bdd8-aac6b1ce8904",
   "metadata": {},
   "source": [
    "### Método elegido - Group by + transform data"
   ]
  },
  {
   "cell_type": "code",
   "execution_count": 13,
   "id": "f30238a2-a44d-486b-96d8-23136d5d4921",
   "metadata": {},
   "outputs": [
    {
     "data": {
      "text/html": [
       "<div>\n",
       "<style scoped>\n",
       "    .dataframe tbody tr th:only-of-type {\n",
       "        vertical-align: middle;\n",
       "    }\n",
       "\n",
       "    .dataframe tbody tr th {\n",
       "        vertical-align: top;\n",
       "    }\n",
       "\n",
       "    .dataframe thead th {\n",
       "        text-align: right;\n",
       "    }\n",
       "</style>\n",
       "<table border=\"1\" class=\"dataframe\">\n",
       "  <thead>\n",
       "    <tr style=\"text-align: right;\">\n",
       "      <th></th>\n",
       "      <th>hex_id</th>\n",
       "      <th>NOMGEO</th>\n",
       "      <th>geometry</th>\n",
       "      <th>ene-may_2018</th>\n",
       "      <th>ene-may_2019</th>\n",
       "      <th>ene-may_2020</th>\n",
       "      <th>ene-may_2021</th>\n",
       "      <th>ene-may_2022</th>\n",
       "      <th>ene-may_2023</th>\n",
       "      <th>ene-abr_2024</th>\n",
       "    </tr>\n",
       "  </thead>\n",
       "  <tbody>\n",
       "    <tr>\n",
       "      <th>0</th>\n",
       "      <td>8a4995b88d67fff</td>\n",
       "      <td>Azcapotzalco</td>\n",
       "      <td>POLYGON ((-99.17778 19.49754, -99.17713 19.497...</td>\n",
       "      <td>0.105919</td>\n",
       "      <td>0.147756</td>\n",
       "      <td>0.087584</td>\n",
       "      <td>0.035289</td>\n",
       "      <td>0.086562</td>\n",
       "      <td>0.028519</td>\n",
       "      <td>0.033012</td>\n",
       "    </tr>\n",
       "    <tr>\n",
       "      <th>1</th>\n",
       "      <td>8a4995b81af7fff</td>\n",
       "      <td>Azcapotzalco</td>\n",
       "      <td>POLYGON ((-99.17055 19.47147, -99.16990 19.471...</td>\n",
       "      <td>0.037642</td>\n",
       "      <td>0.031787</td>\n",
       "      <td>0.044080</td>\n",
       "      <td>0.040128</td>\n",
       "      <td>0.033321</td>\n",
       "      <td>0.029482</td>\n",
       "      <td>0.032508</td>\n",
       "    </tr>\n",
       "    <tr>\n",
       "      <th>2</th>\n",
       "      <td>8a4995a36c9ffff</td>\n",
       "      <td>Azcapotzalco</td>\n",
       "      <td>POLYGON ((-99.21599 19.48356, -99.21535 19.483...</td>\n",
       "      <td>0.005989</td>\n",
       "      <td>-0.005167</td>\n",
       "      <td>-0.011358</td>\n",
       "      <td>-0.020786</td>\n",
       "      <td>0.002482</td>\n",
       "      <td>-0.007598</td>\n",
       "      <td>-0.006222</td>\n",
       "    </tr>\n",
       "    <tr>\n",
       "      <th>3</th>\n",
       "      <td>8a4995b8d1a7fff</td>\n",
       "      <td>Azcapotzalco</td>\n",
       "      <td>POLYGON ((-99.19989 19.49476, -99.19924 19.495...</td>\n",
       "      <td>0.104418</td>\n",
       "      <td>0.105524</td>\n",
       "      <td>0.125967</td>\n",
       "      <td>0.104106</td>\n",
       "      <td>0.086681</td>\n",
       "      <td>0.073300</td>\n",
       "      <td>0.091176</td>\n",
       "    </tr>\n",
       "    <tr>\n",
       "      <th>4</th>\n",
       "      <td>8a4995b818a7fff</td>\n",
       "      <td>Azcapotzalco</td>\n",
       "      <td>POLYGON ((-99.16380 19.46200, -99.16316 19.462...</td>\n",
       "      <td>0.017313</td>\n",
       "      <td>0.015597</td>\n",
       "      <td>0.027663</td>\n",
       "      <td>0.025225</td>\n",
       "      <td>0.015952</td>\n",
       "      <td>0.011709</td>\n",
       "      <td>0.021039</td>\n",
       "    </tr>\n",
       "    <tr>\n",
       "      <th>...</th>\n",
       "      <td>...</td>\n",
       "      <td>...</td>\n",
       "      <td>...</td>\n",
       "      <td>...</td>\n",
       "      <td>...</td>\n",
       "      <td>...</td>\n",
       "      <td>...</td>\n",
       "      <td>...</td>\n",
       "      <td>...</td>\n",
       "      <td>...</td>\n",
       "    </tr>\n",
       "    <tr>\n",
       "      <th>35312</th>\n",
       "      <td>8a4995b946b7fff</td>\n",
       "      <td>Venustiano Carranza</td>\n",
       "      <td>POLYGON ((-99.07150 19.44567, -99.07085 19.446...</td>\n",
       "      <td>0.113010</td>\n",
       "      <td>0.108066</td>\n",
       "      <td>0.080905</td>\n",
       "      <td>0.031761</td>\n",
       "      <td>0.079986</td>\n",
       "      <td>0.048547</td>\n",
       "      <td>0.052662</td>\n",
       "    </tr>\n",
       "    <tr>\n",
       "      <th>35313</th>\n",
       "      <td>8a4995b96d2ffff</td>\n",
       "      <td>Venustiano Carranza</td>\n",
       "      <td>POLYGON ((-99.05327 19.43595, -99.05263 19.436...</td>\n",
       "      <td>-0.010727</td>\n",
       "      <td>-0.034766</td>\n",
       "      <td>-0.071402</td>\n",
       "      <td>-0.097678</td>\n",
       "      <td>-0.039400</td>\n",
       "      <td>-0.079977</td>\n",
       "      <td>-0.051626</td>\n",
       "    </tr>\n",
       "    <tr>\n",
       "      <th>35314</th>\n",
       "      <td>8a4995bb2017fff</td>\n",
       "      <td>Venustiano Carranza</td>\n",
       "      <td>POLYGON ((-99.08144 19.41388, -99.08080 19.414...</td>\n",
       "      <td>0.020229</td>\n",
       "      <td>0.009981</td>\n",
       "      <td>0.027224</td>\n",
       "      <td>0.010948</td>\n",
       "      <td>0.017089</td>\n",
       "      <td>0.005639</td>\n",
       "      <td>0.009055</td>\n",
       "    </tr>\n",
       "    <tr>\n",
       "      <th>35315</th>\n",
       "      <td>8a4995bb231ffff</td>\n",
       "      <td>Venustiano Carranza</td>\n",
       "      <td>POLYGON ((-99.08787 19.41894, -99.08722 19.419...</td>\n",
       "      <td>-0.022538</td>\n",
       "      <td>-0.023175</td>\n",
       "      <td>0.006531</td>\n",
       "      <td>0.028634</td>\n",
       "      <td>0.019975</td>\n",
       "      <td>0.005070</td>\n",
       "      <td>0.011997</td>\n",
       "    </tr>\n",
       "    <tr>\n",
       "      <th>35316</th>\n",
       "      <td>8a49958c9667fff</td>\n",
       "      <td>Venustiano Carranza</td>\n",
       "      <td>POLYGON ((-99.05909 19.43219, -99.05844 19.432...</td>\n",
       "      <td>-0.071054</td>\n",
       "      <td>-0.083424</td>\n",
       "      <td>-0.094796</td>\n",
       "      <td>-0.103994</td>\n",
       "      <td>-0.060313</td>\n",
       "      <td>-0.087425</td>\n",
       "      <td>-0.062030</td>\n",
       "    </tr>\n",
       "  </tbody>\n",
       "</table>\n",
       "<p>35317 rows × 10 columns</p>\n",
       "</div>"
      ],
      "text/plain": [
       "                hex_id               NOMGEO   \n",
       "0      8a4995b88d67fff         Azcapotzalco  \\\n",
       "1      8a4995b81af7fff         Azcapotzalco   \n",
       "2      8a4995a36c9ffff         Azcapotzalco   \n",
       "3      8a4995b8d1a7fff         Azcapotzalco   \n",
       "4      8a4995b818a7fff         Azcapotzalco   \n",
       "...                ...                  ...   \n",
       "35312  8a4995b946b7fff  Venustiano Carranza   \n",
       "35313  8a4995b96d2ffff  Venustiano Carranza   \n",
       "35314  8a4995bb2017fff  Venustiano Carranza   \n",
       "35315  8a4995bb231ffff  Venustiano Carranza   \n",
       "35316  8a49958c9667fff  Venustiano Carranza   \n",
       "\n",
       "                                                geometry  ene-may_2018   \n",
       "0      POLYGON ((-99.17778 19.49754, -99.17713 19.497...      0.105919  \\\n",
       "1      POLYGON ((-99.17055 19.47147, -99.16990 19.471...      0.037642   \n",
       "2      POLYGON ((-99.21599 19.48356, -99.21535 19.483...      0.005989   \n",
       "3      POLYGON ((-99.19989 19.49476, -99.19924 19.495...      0.104418   \n",
       "4      POLYGON ((-99.16380 19.46200, -99.16316 19.462...      0.017313   \n",
       "...                                                  ...           ...   \n",
       "35312  POLYGON ((-99.07150 19.44567, -99.07085 19.446...      0.113010   \n",
       "35313  POLYGON ((-99.05327 19.43595, -99.05263 19.436...     -0.010727   \n",
       "35314  POLYGON ((-99.08144 19.41388, -99.08080 19.414...      0.020229   \n",
       "35315  POLYGON ((-99.08787 19.41894, -99.08722 19.419...     -0.022538   \n",
       "35316  POLYGON ((-99.05909 19.43219, -99.05844 19.432...     -0.071054   \n",
       "\n",
       "       ene-may_2019  ene-may_2020  ene-may_2021  ene-may_2022  ene-may_2023   \n",
       "0          0.147756      0.087584      0.035289      0.086562      0.028519  \\\n",
       "1          0.031787      0.044080      0.040128      0.033321      0.029482   \n",
       "2         -0.005167     -0.011358     -0.020786      0.002482     -0.007598   \n",
       "3          0.105524      0.125967      0.104106      0.086681      0.073300   \n",
       "4          0.015597      0.027663      0.025225      0.015952      0.011709   \n",
       "...             ...           ...           ...           ...           ...   \n",
       "35312      0.108066      0.080905      0.031761      0.079986      0.048547   \n",
       "35313     -0.034766     -0.071402     -0.097678     -0.039400     -0.079977   \n",
       "35314      0.009981      0.027224      0.010948      0.017089      0.005639   \n",
       "35315     -0.023175      0.006531      0.028634      0.019975      0.005070   \n",
       "35316     -0.083424     -0.094796     -0.103994     -0.060313     -0.087425   \n",
       "\n",
       "       ene-abr_2024  \n",
       "0          0.033012  \n",
       "1          0.032508  \n",
       "2         -0.006222  \n",
       "3          0.091176  \n",
       "4          0.021039  \n",
       "...             ...  \n",
       "35312      0.052662  \n",
       "35313     -0.051626  \n",
       "35314      0.009055  \n",
       "35315      0.011997  \n",
       "35316     -0.062030  \n",
       "\n",
       "[35317 rows x 10 columns]"
      ]
     },
     "execution_count": 13,
     "metadata": {},
     "output_type": "execute_result"
    }
   ],
   "source": [
    "# Isolate categories and data\n",
    "data_analysis = ndvi_ndmi_gdf[['hex_id','year','ndmi']].copy()\n",
    "\n",
    "# Group by\n",
    "grouped_by = data_analysis.groupby(['hex_id','year']).mean()\n",
    "grouped_by.reset_index(inplace=True)\n",
    "\n",
    "# Transform data\n",
    "# GDF with unique rows for each geometry (hex)\n",
    "mean_ndmi_bydate = hex_gdf_f.copy()\n",
    "\n",
    "# Loop that transforms data to columns\n",
    "for year in grouped_by.year.unique():\n",
    "    \n",
    "    # Isolate new column data (In this case, year)\n",
    "    idx = grouped_by.year == year\n",
    "    df_tmp = grouped_by.loc[idx,['hex_id','ndmi']].copy()\n",
    "    \n",
    "    # Assign as column name (In this case, year)\n",
    "    if year == 2024:\n",
    "        df_tmp = df_tmp.rename(columns={'ndmi':f\"ene-abr_{year}\"})\n",
    "    else:\n",
    "        df_tmp = df_tmp.rename(columns={'ndmi':f\"ene-may_{year}\"})\n",
    "    \n",
    "    # Merge to gdf with unique geometry IDs (In this case, hex_id)\n",
    "    mean_ndmi_bydate = mean_ndmi_bydate.merge(df_tmp, on='hex_id',how='inner')\n",
    "\n",
    "mean_ndmi_bydate"
   ]
  },
  {
   "cell_type": "markdown",
   "id": "e14a33cf-93ce-4c71-8a7c-a5c513b27e4a",
   "metadata": {
    "jp-MarkdownHeadingCollapsed": true
   },
   "source": [
    "### Método 1 - 1425s"
   ]
  },
  {
   "cell_type": "code",
   "execution_count": 12,
   "id": "a9819b42-2124-44b6-8c07-f7c3cff19b56",
   "metadata": {},
   "outputs": [],
   "source": [
    "metodo_1 = False"
   ]
  },
  {
   "cell_type": "code",
   "execution_count": 13,
   "id": "f8f4d8dd-254c-4fc1-879f-b50380265aa4",
   "metadata": {},
   "outputs": [],
   "source": [
    "if metodo_1:\n",
    "    mean_ndmi_bydate = hex_gdf_f.copy()\n",
    "    \n",
    "    i = 0\n",
    "    for year in data_withveg_alcaldias.year.unique():\n",
    "        for month in data_withveg_alcaldias.month.unique():\n",
    "            for alcaldia in data_withveg_alcaldias.NOMGEO.unique():\n",
    "    \n",
    "                print(f\"Calculating mean ndmi in {alcaldia} date {month}/{year}.\")\n",
    "                    \n",
    "                data_df = data_withveg_alcaldias.loc[(data_withveg_alcaldias.year == year) &\n",
    "                                                     (data_withveg_alcaldias.month == month) &\n",
    "                                                     (data_withveg_alcaldias.NOMGEO == alcaldia)].copy()\n",
    "    \n",
    "                for hex_id in data_df['hex_id'].unique():\n",
    "                    # Get each mean hex_id data for current year, month and alcaldía\n",
    "                    hex_data = data_df.loc[data_df['hex_id'] == hex_id].copy()\n",
    "                    mean_ndmi = hex_data['ndmi'].mean()\n",
    "                    # Register data\n",
    "                    idx = mean_ndmi_bydate['hex_id'] == hex_id\n",
    "                    mean_ndmi_bydate.loc[idx,f\"{year}_{month}\"] = mean_ndmi\n",
    "    \n",
    "    # Show\n",
    "    print(mean_ndmi_bydate.shape)\n",
    "    mean_ndmi_bydate.head(2)"
   ]
  },
  {
   "cell_type": "markdown",
   "id": "3784f15f-f651-4dee-8110-c538fe8597d9",
   "metadata": {
    "jp-MarkdownHeadingCollapsed": true
   },
   "source": [
    "### Método 2 - Transform data to columns and calculate mean on row axis (Canceled)"
   ]
  },
  {
   "cell_type": "code",
   "execution_count": 14,
   "id": "4578e3ed-6690-4890-a3bb-b7b62e8dc722",
   "metadata": {},
   "outputs": [],
   "source": [
    "metodo_2 = False"
   ]
  },
  {
   "cell_type": "code",
   "execution_count": 15,
   "id": "a2d2810e-5dc0-4955-8eae-e70ac9b0ab09",
   "metadata": {},
   "outputs": [],
   "source": [
    "if metodo_2:\n",
    "    data_analysis = data_withveg_alcaldias.copy()\n",
    "    # Create date column\n",
    "    data_analysis['year'] = data_analysis['year'].astype('str')\n",
    "    data_analysis['month'] = data_analysis['month'].astype('str') \n",
    "    data_analysis['date'] =  data_analysis['year'] + \"_\"+ data_analysis['month']\n",
    "    # Drop columns no longer in use\n",
    "    data_analysis.drop(columns=['ndvi_median','ndvi_median_rango','month','year'],inplace=True)\n",
    "    \n",
    "    # Show\n",
    "    print(data_analysis.shape)\n",
    "    data_analysis.head(2)"
   ]
  },
  {
   "cell_type": "code",
   "execution_count": 16,
   "id": "3af98ae8-b58f-4520-90ba-29956cfb2205",
   "metadata": {},
   "outputs": [],
   "source": [
    "if metodo_2:\n",
    "    # TRANSFORM DATA FROM MULTIPLE ROWS TO COLUMNS\n",
    "    ######################################################################### CÓDIGO BASE PARA REPOSICIONAR DATOS (Script 15-15min-cities)\n",
    "    # delete duplicates and keep only one point for each node\n",
    "    #nodes_geom = nodes.drop_duplicates(subset='osmid', keep=\"last\")[['osmid','geometry','metropolis']].copy()\n",
    "    #nodes_analysis = nodes_geom.copy()\n",
    "    \n",
    "    # relate time data to each point\n",
    "    #for amenidad in list(nodes.amenity.unique()):\n",
    "    \n",
    "    #    nodes_tmp = nodes.loc[nodes.amenity == amenidad,['osmid','time']]\n",
    "    #    nodes_tmp = nodes_tmp.rename(columns={'time':amenidad})\n",
    "    \n",
    "    #    if nodes_tmp[amenidad].mean() == 0:\n",
    "    #        nodes_tmp[amenidad] = np.nan\n",
    "    \n",
    "    #    nodes_analysis = nodes_analysis.merge(nodes_tmp, on='osmid')\n",
    "    \n",
    "    ######################################################################### PARA ESTE CÓDIGO\n",
    "    #nodes_analysis (gdf con 1 row para cada geometría) --> proviene de data_analysis \n",
    "    #amenidad --> date (lo que serán las columnas en el nuevo gdf)\n",
    "    #osmid --> hex_id (columna de ID de las geometrías)\n",
    "    #time --> ndmi (columna con datos a reposicionar)\n",
    "    \n",
    "    ######################################################################### APLICACIÓN\n",
    "    # GDF with unique rows for each geometry\n",
    "    mean_ndmi_bydate = data_analysis.drop_duplicates(subset='hex_id', keep='last')[['hex_id','geometry','NOMGEO']].copy()\n",
    "    \n",
    "    # Loop that transforms data\n",
    "    for date in data_analysis.date.unique():\n",
    "        \n",
    "        # Isolate new column data (In this case, date)\n",
    "        idx = data_analysis.date == date\n",
    "        df_tmp = data_analysis.loc[idx,['hex_id','ndmi']].copy()\n",
    "        \n",
    "        # Assign as column name (In this case, date)\n",
    "        df_tmp = df_tmp.rename(columns={'ndmi':date})\n",
    "        \n",
    "        # Merge to gdf with unique geometry IDs (In this case, hex_id)\n",
    "        mean_ndmi_bydate = mean_ndmi_bydate.merge(df_tmp, on='hex_id',how='inner')\n",
    "    \n",
    "    mean_ndmi_bydate"
   ]
  },
  {
   "cell_type": "markdown",
   "id": "6f0d9c24-e962-49c1-8926-3b96ede1d7e3",
   "metadata": {
    "jp-MarkdownHeadingCollapsed": true
   },
   "source": [
    "## Final processing (Canceled, categorizing NDMI from NDVI values is too complex)"
   ]
  },
  {
   "cell_type": "markdown",
   "id": "615ab0c8-292c-4a3c-af19-bc031943e6d9",
   "metadata": {},
   "source": [
    "NDMI Interpretation\n",
    "* -1 – -0.8 Bare soil,\n",
    "* -0.8 – -0.6 Almost absent canopy cover,\n",
    "* -0.6 – -0.4 Very low canopy cover,\n",
    "* -0.4 – -0.2 Low canopy cover, dry or very low canopy cover, wet,\n",
    "* -0.2 – 0 Mid-low canopy cover, high water stress or low canopy cover, low water stress,\n",
    "* 0 – 0.2 Average canopy cover, high water stress or mid-low canopy cover, low water stress,\n",
    "* 0.2 – 0.4 Mid-high canopy cover, high water stress or average canopy cover, low water stress,\n",
    "* 0.4 – 0.6 High canopy cover, no water stress,\n",
    "* 0.6 – 0.8 Very high canopy cover, no water stress,\n",
    "* 0.8 – 1 Total canopy cover, no water stress/waterlogging\n",
    "\n",
    "Current output_gdf canopy cover will be interpreted the following way:\n",
    "* 'Mínima densidad vegetal' --> Almost absent canopy cover, very low canopy cover, low canopy cover\n",
    "* 'Moderada densidad vegetal' --> Mid-low canopy cover, Average canopy cover, Mid-high canopy cover\n",
    "* ' Alta densidad vegetal' --> High canopy cover, very high canopy cover, Total canopy cover"
   ]
  },
  {
   "cell_type": "markdown",
   "id": "a91af724-346a-4114-b0cf-778194978cf6",
   "metadata": {},
   "source": [
    "### [Canceled] Create NDMI Categories - Merge NDVI categories data"
   ]
  },
  {
   "cell_type": "code",
   "execution_count": 41,
   "id": "edcfb116-fc1f-49cd-b565-039284b7e531",
   "metadata": {},
   "outputs": [],
   "source": [
    "#output_gdf = mean_ndmi_bydate.merge(data_withveg_alcaldias[['hex_id','ndvi_median_rango']],on='hex_id',how='inner')\n",
    "\n",
    "# Show\n",
    "#print(output_gdf.shape)\n",
    "#output_gdf.head(2)"
   ]
  },
  {
   "cell_type": "code",
   "execution_count": 42,
   "id": "a31f3575-f74f-4506-b5b9-2879c1c58783",
   "metadata": {},
   "outputs": [],
   "source": [
    "#analysis_cols = list(mean_ndmi_bydate.columns)\n",
    "#analysis_cols.remove('hex_id')\n",
    "#analysis_cols.remove('NOMGEO')\n",
    "#analysis_cols.remove('geometry')\n",
    "#analysis_cols"
   ]
  },
  {
   "cell_type": "code",
   "execution_count": 43,
   "id": "dae0df43-b448-4ce2-aea2-24721198e781",
   "metadata": {},
   "outputs": [],
   "source": [
    "# Test apply function\n",
    "#test_gdf = output_gdf.copy()\n",
    "\n",
    "### Create NDMI Categories b) apply function according to each value.\n",
    "#def splitname(row):\n",
    "#    row['First']=row['ndvi_median_rango'].split(\" \")[0]\n",
    "#    row['Second']=row['ndvi_median_rango'].split(\" \")[1]\n",
    "#    row['Last']=row['ndvi_median_rango'].split(\" \")[2]\n",
    "#    return row\n",
    "    \n",
    "#Aplicar la función\n",
    "#test_gdf = test_gdf.apply(splitname, axis='columns')\n",
    "#test_gdf"
   ]
  },
  {
   "cell_type": "code",
   "execution_count": 44,
   "id": "ad0ef1d8-fa24-497a-9fb3-c26c2926abb1",
   "metadata": {},
   "outputs": [],
   "source": [
    "# Apply function that categorizes NDMI\n",
    "#def categorize_ndmi(row):\n",
    "#    if row['ndvi_median_rango'] == 'Mínima densidad vegetal':\n",
    "#        if row[ndmi_col] < -0.4:\n",
    "#            row[f\"{ndmi_col}_cat\"] = 'Almost absent or very low canopy cover\"       "
   ]
  },
  {
   "cell_type": "markdown",
   "id": "7a3391f2-4449-4b37-b114-a6f63ae60def",
   "metadata": {},
   "source": [
    "## Save"
   ]
  },
  {
   "cell_type": "code",
   "execution_count": 14,
   "id": "e69c274d-09fc-410a-bcb7-b7a2fa017b57",
   "metadata": {},
   "outputs": [],
   "source": [
    "save_dir = f'../../../data/external/temporal_fromjupyter/'\n",
    "mean_ndmi_bydate.to_file(save_dir+\"cutzamala/cdmx_enemay_ndmi.gpkg\")"
   ]
  },
  {
   "cell_type": "code",
   "execution_count": null,
   "id": "9a99bd63-efab-4660-842e-3f07c6cb8e71",
   "metadata": {},
   "outputs": [],
   "source": []
  }
 ],
 "metadata": {
  "kernelspec": {
   "display_name": "GDS-10.0",
   "language": "python",
   "name": "gds"
  },
  "language_info": {
   "codemirror_mode": {
    "name": "ipython",
    "version": 3
   },
   "file_extension": ".py",
   "mimetype": "text/x-python",
   "name": "python",
   "nbconvert_exporter": "python",
   "pygments_lexer": "ipython3",
   "version": "3.9.18"
  }
 },
 "nbformat": 4,
 "nbformat_minor": 5
}
