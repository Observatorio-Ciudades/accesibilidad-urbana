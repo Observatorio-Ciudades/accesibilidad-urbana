{
 "cells": [
  {
   "cell_type": "markdown",
   "id": "39c3e5cf-a756-4423-a5d6-5230ef373954",
   "metadata": {},
   "source": [
    "# NDWI - Cutzamala (WIP)"
   ]
  },
  {
   "cell_type": "markdown",
   "id": "136a6cf4-5950-4f12-ac8b-9518bc38847c",
   "metadata": {},
   "source": [
    "* __presa_elbosque__ --> DONE. Run con cloud coverage 10\n",
    "* __presa_valledebravo__ --> Multiple missing months together en cloud coverage 10, 15 y 20.\n",
    "* __presa_villavictoria__ --> Multiple missing months together en cloud coverage 10, 15 y 20."
   ]
  },
  {
   "cell_type": "markdown",
   "id": "198bbe4c-7b78-4d79-9e28-2959d4e84ffe",
   "metadata": {},
   "source": [
    "## Import libraries"
   ]
  },
  {
   "cell_type": "code",
   "execution_count": 1,
   "id": "4dd49e1f-5f0a-4fd2-92b7-53628dd0e2a8",
   "metadata": {},
   "outputs": [
    {
     "name": "stderr",
     "output_type": "stream",
     "text": [
      "/home/jovyan/accesibilidad-urbana/aup/data.py:24: UserWarning: The `utils.config` function is deprecated and will be removed in a future release. Instead, use the `settings` module directly to configure a global setting's value. For example, `ox.settings.log_console=True`.\n",
      "  ox.config(\n"
     ]
    }
   ],
   "source": [
    "from pystac_client import Client\n",
    "from pystac.extensions.eo import EOExtension as eo\n",
    "import planetary_computer as pc\n",
    "import geopandas as gpd\n",
    "import h3\n",
    "import pandas as pd\n",
    "\n",
    "import rasterio\n",
    "from rasterio import windows\n",
    "from rasterio import features\n",
    "from rasterio import warp\n",
    "import rasterio.mask\n",
    "from rasterio.enums import Resampling\n",
    "from rasterio.merge import merge\n",
    "\n",
    "import numpy as np\n",
    "from PIL import Image\n",
    "\n",
    "import matplotlib.pyplot as plt\n",
    "\n",
    "from shapely.geometry import Point\n",
    "\n",
    "from tqdm import tqdm\n",
    "\n",
    "import os\n",
    "import sys\n",
    "module_path = os.path.abspath(os.path.join('../../../'))\n",
    "if module_path not in sys.path:\n",
    "    sys.path.append(module_path)\n",
    "    import aup"
   ]
  },
  {
   "cell_type": "markdown",
   "id": "74c6f2de-dc56-45f7-ad40-432ce26d7586",
   "metadata": {},
   "source": [
    "## Config notebook"
   ]
  },
  {
   "cell_type": "code",
   "execution_count": 23,
   "id": "96014f8b-1024-4653-b0c8-b38f8f52e34c",
   "metadata": {},
   "outputs": [],
   "source": [
    "# Set raster spectral bands and analysis equation\n",
    "band_name_dict = {'green':[False], #If GSD(resolution) of band is different, set True.\n",
    "                  'nir':[False], #If GSD(resolution) of band is different, set True.\n",
    "                  'eq':[\"(green-nir)/(green+nir)\"]}\n",
    "\n",
    "# Set analysis name\n",
    "index_analysis = 'ndwi'\n",
    "\n",
    "# Set directory to save analysed rasters\n",
    "tmp_dir = f'../../../data/processed/tmp_{index_analysis}/'\n",
    "\n",
    "# Set desired hex resolution\n",
    "res = [10,11]\n",
    "\n",
    "# Set frequency of search for rasters (MS = Month Start)\n",
    "freq = 'MS'\n",
    "\n",
    "# Set start and end date for search (Sentinel-2 2A has images since mids 2015)\n",
    "start_date = '2016-01-01'\n",
    "end_date = '2024-02-28'\n",
    "\n",
    "# Save?\n",
    "save = True # True\n",
    "\n",
    "# Del rasters after processing.\n",
    "del_data = False # True\n",
    "\n",
    "# city can be substituted by \"place\". (presa_laboca / presa_cerroprieto / presa_elcuchillo)\n",
    "city = 'presa_villavictoria'\n",
    "\n",
    "#Set filter if necessary. Defaults to \"{}\". Example: No images with cloud cover avobe 10%: {\"eo:cloud_cover\": {\"lt\": 10}}\n",
    "query = {\"eo:cloud_cover\": {\"lt\": 20}}\n",
    "\n",
    "# Set satellite. Defaults to \"sentinel-2-l2a\"\n",
    "satellite = 'sentinel-2-l2a'"
   ]
  },
  {
   "cell_type": "markdown",
   "id": "42966fbe-c610-4911-99ca-825b505e4c90",
   "metadata": {},
   "source": [
    "## Load data"
   ]
  },
  {
   "cell_type": "markdown",
   "id": "6cd72859-2eb1-4953-9263-2e112f95f01e",
   "metadata": {},
   "source": [
    "### Load data - Area of interest"
   ]
  },
  {
   "cell_type": "code",
   "execution_count": 18,
   "id": "e30c797b-82b5-4b15-a61a-1cb078e8b6bd",
   "metadata": {},
   "outputs": [
    {
     "data": {
      "text/plain": [
       "<Axes: >"
      ]
     },
     "execution_count": 18,
     "metadata": {},
     "output_type": "execute_result"
    },
    {
     "data": {
      "image/png": "[encoded data removed]",
      "text/plain": [
       "<Figure size 640x480 with 1 Axes>"
      ]
     },
     "metadata": {},
     "output_type": "display_data"
    }
   ],
   "source": [
    "#Load data\n",
    "presa_original = gpd.read_file(\"../../../data/external/temporal_todocker/{}.gpkg\".format(city))\n",
    "presa_original.plot()"
   ]
  },
  {
   "cell_type": "code",
   "execution_count": 19,
   "id": "947faece-7998-4be2-8533-3ad59d191975",
   "metadata": {},
   "outputs": [
    {
     "name": "stdout",
     "output_type": "stream",
     "text": [
      "(1,)\n"
     ]
    },
    {
     "data": {
      "text/plain": [
       "0    POLYGON ((-100.05907 19.47061, -100.05924 19.4...\n",
       "Name: geometry, dtype: geometry"
      ]
     },
     "execution_count": 19,
     "metadata": {},
     "output_type": "execute_result"
    }
   ],
   "source": [
    "#Filter for relevant data\n",
    "columns_tokeep = ['Name','geometry']\n",
    "presa = presa_original[columns_tokeep]\n",
    "\n",
    "#Create buffer for dam geometry\n",
    "polygon = presa.to_crs(\"EPSG:6372\").buffer(500)\n",
    "polygon = polygon.to_crs(\"EPSG:4326\")\n",
    "polygon = gpd.GeoDataFrame(geometry=polygon).dissolve().geometry\n",
    "\n",
    "#Review result\n",
    "print(polygon.shape)\n",
    "polygon.head(2)"
   ]
  },
  {
   "cell_type": "markdown",
   "id": "312f5c30-7099-4d97-9455-ea30b72647c2",
   "metadata": {},
   "source": [
    "### Load data - Download and process rasters"
   ]
  },
  {
   "cell_type": "code",
   "execution_count": 24,
   "id": "98ec86b8-fc47-4708-8756-e26ad7baafb4",
   "metadata": {},
   "outputs": [
    {
     "name": "stderr",
     "output_type": "stream",
     "text": [
      "/opt/conda/envs/gds/lib/python3.9/site-packages/pystac_client/item_search.py:835: FutureWarning: get_items() is deprecated, use items() instead\n",
      "  warnings.warn(\n"
     ]
    },
    {
     "ename": "AvailableData",
     "evalue": "Multiple missing months together",
     "output_type": "error",
     "traceback": [
      "\u001b[0;31m---------------------------------------------------------------------------\u001b[0m",
      "\u001b[0;31mAvailableData\u001b[0m                             Traceback (most recent call last)",
      "Cell \u001b[0;32mIn[24], line 2\u001b[0m\n\u001b[1;32m      1\u001b[0m \u001b[38;5;66;03m#download_raster_from_pc(gdf, index_analysis, city, freq, start_date, end_date, tmp_dir, band_name_dict, query={}, satellite=\"sentinel-2-l2a\"):\u001b[39;00m\n\u001b[0;32m----> 2\u001b[0m df_len \u001b[38;5;241m=\u001b[39m \u001b[43maup\u001b[49m\u001b[38;5;241;43m.\u001b[39;49m\u001b[43mdownload_raster_from_pc\u001b[49m\u001b[43m(\u001b[49m\u001b[43mpolygon\u001b[49m\u001b[43m,\u001b[49m\u001b[43m \u001b[49m\u001b[43mindex_analysis\u001b[49m\u001b[43m,\u001b[49m\u001b[43m \u001b[49m\u001b[43mcity\u001b[49m\u001b[43m,\u001b[49m\u001b[43m \u001b[49m\u001b[43mfreq\u001b[49m\u001b[43m,\u001b[49m\u001b[43m \u001b[49m\u001b[43mstart_date\u001b[49m\u001b[43m,\u001b[49m\u001b[43m \u001b[49m\u001b[43mend_date\u001b[49m\u001b[43m,\u001b[49m\u001b[43m \u001b[49m\u001b[43mtmp_dir\u001b[49m\u001b[43m,\u001b[49m\u001b[43m \u001b[49m\u001b[43mband_name_dict\u001b[49m\u001b[43m,\u001b[49m\u001b[43m \u001b[49m\u001b[43mquery\u001b[49m\u001b[43m \u001b[49m\u001b[38;5;241;43m=\u001b[39;49m\u001b[43m \u001b[49m\u001b[43mquery\u001b[49m\u001b[43m,\u001b[49m\u001b[43m \u001b[49m\u001b[43msatellite\u001b[49m\u001b[43m \u001b[49m\u001b[38;5;241;43m=\u001b[39;49m\u001b[43m \u001b[49m\u001b[43msatellite\u001b[49m\u001b[43m)\u001b[49m\n",
      "File \u001b[0;32m~/accesibilidad-urbana/aup/raster.py:127\u001b[0m, in \u001b[0;36mdownload_raster_from_pc\u001b[0;34m(gdf, index_analysis, city, freq, start_date, end_date, tmp_dir, band_name_dict, query, satellite)\u001b[0m\n\u001b[1;32m    123\u001b[0m \u001b[38;5;66;03m# analyze available data according to raster properties\u001b[39;00m\n\u001b[1;32m    124\u001b[0m df_len, missing_months \u001b[38;5;241m=\u001b[39m df_date_links(assets_hrefs, start_date, end_date, \n\u001b[1;32m    125\u001b[0m                                        band_name_list, freq)\n\u001b[0;32m--> 127\u001b[0m \u001b[43mavailable_data_check\u001b[49m\u001b[43m(\u001b[49m\u001b[43mdf_len\u001b[49m\u001b[43m,\u001b[49m\u001b[43m \u001b[49m\u001b[43mmissing_months\u001b[49m\u001b[43m)\u001b[49m \u001b[38;5;66;03m# test for missing months\u001b[39;00m\n\u001b[1;32m    129\u001b[0m \u001b[38;5;66;03m# creates raster and analyzes percentage of missing data points\u001b[39;00m\n\u001b[1;32m    130\u001b[0m df_len, missing_months \u001b[38;5;241m=\u001b[39m df_date_links(assets_hrefs, start_date, end_date, \n\u001b[1;32m    131\u001b[0m                                        band_name_list, freq)\n",
      "File \u001b[0;32m~/accesibilidad-urbana/aup/raster.py:54\u001b[0m, in \u001b[0;36mavailable_data_check\u001b[0;34m(df_len, missing_months, pct_limit, window_limit)\u001b[0m\n\u001b[1;32m     52\u001b[0m df_rol \u001b[38;5;241m=\u001b[39m df_len\u001b[38;5;241m.\u001b[39mrolling(window_limit)\u001b[38;5;241m.\u001b[39msum()\n\u001b[1;32m     53\u001b[0m \u001b[38;5;28;01mif\u001b[39;00m \u001b[38;5;28mlen\u001b[39m(df_rol\u001b[38;5;241m.\u001b[39mloc[df_rol\u001b[38;5;241m.\u001b[39mdata_id\u001b[38;5;241m==\u001b[39m\u001b[38;5;241m0\u001b[39m])\u001b[38;5;241m>\u001b[39m\u001b[38;5;241m0\u001b[39m:\n\u001b[0;32m---> 54\u001b[0m     \u001b[38;5;28;01mraise\u001b[39;00m AvailableData(\u001b[38;5;124m'\u001b[39m\u001b[38;5;124mMultiple missing months together\u001b[39m\u001b[38;5;124m'\u001b[39m)\n\u001b[1;32m     55\u001b[0m \u001b[38;5;28;01mdel\u001b[39;00m df_rol\n",
      "\u001b[0;31mAvailableData\u001b[0m: Multiple missing months together"
     ]
    }
   ],
   "source": [
    "#download_raster_from_pc(gdf, index_analysis, city, freq, start_date, end_date, tmp_dir, band_name_dict, query={}, satellite=\"sentinel-2-l2a\"):\n",
    "df_len = aup.download_raster_from_pc(polygon, index_analysis, city, freq, start_date, end_date, tmp_dir, band_name_dict, query = query, satellite = satellite)"
   ]
  },
  {
   "cell_type": "markdown",
   "id": "79d5dfe4-c832-4994-965d-848342634a03",
   "metadata": {},
   "source": [
    "## Create hexgrid"
   ]
  },
  {
   "cell_type": "code",
   "execution_count": 12,
   "id": "7870d54b-6fec-4908-bfdf-3f6ede3c65e9",
   "metadata": {},
   "outputs": [],
   "source": [
    "res = [11]"
   ]
  },
  {
   "cell_type": "code",
   "execution_count": 13,
   "id": "ab537c52-1afb-4dbe-a255-ddc94360b80a",
   "metadata": {},
   "outputs": [
    {
     "name": "stdout",
     "output_type": "stream",
     "text": [
      "(7569, 3)\n"
     ]
    },
    {
     "data": {
      "text/html": [
       "<div>\n",
       "<style scoped>\n",
       "    .dataframe tbody tr th:only-of-type {\n",
       "        vertical-align: middle;\n",
       "    }\n",
       "\n",
       "    .dataframe tbody tr th {\n",
       "        vertical-align: top;\n",
       "    }\n",
       "\n",
       "    .dataframe thead th {\n",
       "        text-align: right;\n",
       "    }\n",
       "</style>\n",
       "<table border=\"1\" class=\"dataframe\">\n",
       "  <thead>\n",
       "    <tr style=\"text-align: right;\">\n",
       "      <th></th>\n",
       "      <th>hex_id</th>\n",
       "      <th>geometry</th>\n",
       "      <th>res</th>\n",
       "    </tr>\n",
       "  </thead>\n",
       "  <tbody>\n",
       "    <tr>\n",
       "      <th>0</th>\n",
       "      <td>8b498636acb2fff</td>\n",
       "      <td>POLYGON ((-100.40059 19.41165, -100.40041 19.4...</td>\n",
       "      <td>11</td>\n",
       "    </tr>\n",
       "    <tr>\n",
       "      <th>1</th>\n",
       "      <td>8b498636e8defff</td>\n",
       "      <td>POLYGON ((-100.41602 19.39099, -100.41584 19.3...</td>\n",
       "      <td>11</td>\n",
       "    </tr>\n",
       "  </tbody>\n",
       "</table>\n",
       "</div>"
      ],
      "text/plain": [
       "            hex_id                                           geometry  res\n",
       "0  8b498636acb2fff  POLYGON ((-100.40059 19.41165, -100.40041 19.4...   11\n",
       "1  8b498636e8defff  POLYGON ((-100.41602 19.39099, -100.41584 19.3...   11"
      ]
     },
     "execution_count": 13,
     "metadata": {},
     "output_type": "execute_result"
    }
   ],
   "source": [
    "poly_gdf = gpd.GeoDataFrame(polygon)\n",
    "hex_gdf = gpd.GeoDataFrame()\n",
    "\n",
    "if len(res)>1: #If there is more than one resolution\n",
    "    for r in res:\n",
    "        hex_tmp = aup.create_hexgrid(poly_gdf, r)\n",
    "        hex_tmp.rename(columns={f'hex_id_{r}':'hex_id'}, inplace=True)\n",
    "        hex_tmp['res'] = r\n",
    "        hex_gdf = pd.concat([hex_gdf, hex_tmp], ignore_index=True, axis=0)\n",
    "        del hex_tmp\n",
    "\n",
    "else: #If there is only one resolution\n",
    "    hex_gdf = aup.create_hexgrid(poly_gdf, res[0])\n",
    "    hex_gdf.rename(columns={f'hex_id_{res[0]}':'hex_id'}, inplace=True)\n",
    "    hex_gdf['res'] = res[0]\n",
    "    \n",
    "#Show\n",
    "print(hex_gdf.shape)\n",
    "hex_gdf.head(2)"
   ]
  },
  {
   "cell_type": "code",
   "execution_count": 14,
   "id": "0315a54d-7a08-4ef2-95f8-c9ef0fc8663c",
   "metadata": {},
   "outputs": [],
   "source": [
    "def raster_to_hex_save(hex_gdf_i, df_len, index_analysis, tmp_dir, city, r, save, i=0):\n",
    "    hex_raster_analysis, df_raster_analysis = aup.raster_to_hex_analysis(hex_gdf_i, df_len, index_analysis,\n",
    "                                                                tmp_dir, city, r)\n",
    "\n",
    "    if save:\n",
    "        hex_raster_analysis.to_file(tmp_dir+'local_save/'+f'{city}_{index_analysis}_HexRes{r}_v{i}.geojson')\n",
    "        df_raster_analysis.to_csv(tmp_dir+'local_save/'+f'{city}_{index_analysis}_HexRes{r}_v{i}.csv')"
   ]
  },
  {
   "cell_type": "code",
   "execution_count": 16,
   "id": "2d67aa1f-40b4-4b2a-ae7d-280a2b0f155b",
   "metadata": {},
   "outputs": [
    {
     "name": "stderr",
     "output_type": "stream",
     "text": [
      "  0%|                                                                                                                                                                                                    | 0/9 [00:00<?, ?it/s]\n",
      " 11%|████████████████████▉                                                                                                                                                                       | 1/9 [00:20<02:45, 20.74s/it]\u001b[A\n",
      "\n",
      "  0%|                                                                                                                                                                                                   | 0/12 [00:20<?, ?it/s]\u001b[A\u001b[A\n",
      " 22%|█████████████████████████████████████████▊                                                                                                                                                  | 2/9 [00:46<02:46, 23.75s/it]\n",
      "  0%|                                                                                                                                                                                                   | 0/12 [00:25<?, ?it/s]\u001b[A\n",
      " 33%|██████████████████████████████████████████████████████████████▋                                                                                                                             | 3/9 [01:13<02:31, 25.32s/it]\n",
      "\n",
      "  0%|                                                                                                                                                                                                   | 0/12 [00:27<?, ?it/s]\u001b[A\u001b[A\n",
      " 44%|███████████████████████████████████████████████████████████████████████████████████▌                                                                                                        | 4/9 [01:42<02:12, 26.54s/it]\n",
      "  0%|                                                                                                                                                                                                   | 0/12 [00:28<?, ?it/s]\u001b[A\n",
      " 56%|████████████████████████████████████████████████████████████████████████████████████████████████████████▍                                                                                   | 5/9 [02:11<01:49, 27.36s/it]\n",
      "\n",
      "  0%|                                                                                                                                                                                                   | 0/12 [00:28<?, ?it/s]\u001b[A\u001b[A\n",
      " 67%|█████████████████████████████████████████████████████████████████████████████████████████████████████████████████████████████▎                                                              | 6/9 [02:39<01:23, 27.78s/it]\n",
      "  0%|                                                                                                                                                                                                   | 0/12 [00:28<?, ?it/s]\u001b[A\n",
      " 78%|██████████████████████████████████████████████████████████████████████████████████████████████████████████████████████████████████████████████████▏                                         | 7/9 [03:07<00:55, 27.94s/it]\n",
      "\n",
      "  0%|                                                                                                                                                                                                   | 0/12 [00:28<?, ?it/s]\u001b[A\u001b[A\n",
      " 89%|███████████████████████████████████████████████████████████████████████████████████████████████████████████████████████████████████████████████████████████████████████                     | 8/9 [03:36<00:28, 28.06s/it]\n",
      "  0%|                                                                                                                                                                                                   | 0/12 [00:28<?, ?it/s]\u001b[A\n",
      "100%|████████████████████████████████████████████████████████████████████████████████████████████████████████████████████████████████████████████████████████████████████████████████████████████| 9/9 [03:49<00:00, 25.49s/it]\n",
      "  0%|                                                                                                                                                                                                    | 0/2 [00:13<?, ?it/s]\n"
     ]
    }
   ],
   "source": [
    "for r in list(hex_gdf.res.unique()):\n",
    "\n",
    "    processing_chunk = 150000\n",
    "\n",
    "    # filters hexagons at specified resolution\n",
    "    hex_gdf_res = hex_gdf.loc[hex_gdf.res==r].copy()\n",
    "    hex_gdf_res = hex_gdf_res.reset_index(drop=True)\n",
    "    \n",
    "    if len(hex_gdf_res)>processing_chunk:\n",
    "        c_processing = len(hex_gdf_res)/processing_chunk\n",
    "        \n",
    "        for i in range(int(c_processing)):\n",
    "            hex_gdf_i = hex_gdf_res.iloc[int(processing_chunk*i):int(processing_chunk*(1+i))].copy()\n",
    "            raster_to_hex_save(hex_gdf_i, df_len, index_analysis, tmp_dir, city, r, save, i)\n",
    "    else:\n",
    "        hex_gdf_i = hex_gdf_res.copy()\n",
    "        raster_to_hex_save(hex_gdf_i, df_len, index_analysis, tmp_dir, city, r, save)"
   ]
  },
  {
   "cell_type": "code",
   "execution_count": null,
   "id": "7b774053-dc1a-4bd7-9532-7370e799899a",
   "metadata": {},
   "outputs": [],
   "source": []
  }
 ],
 "metadata": {
  "kernelspec": {
   "display_name": "GDS-10.0",
   "language": "python",
   "name": "gds"
  },
  "language_info": {
   "codemirror_mode": {
    "name": "ipython",
    "version": 3
   },
   "file_extension": ".py",
   "mimetype": "text/x-python",
   "name": "python",
   "nbconvert_exporter": "python",
   "pygments_lexer": "ipython3",
   "version": "3.9.18"
  }
 },
 "nbformat": 4,
 "nbformat_minor": 5
}
