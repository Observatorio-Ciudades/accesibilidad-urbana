{
 "cells": [
  {
   "cell_type": "markdown",
   "id": "6fc4f582-94ec-46fc-94b7-0fe0cd3791b1",
   "metadata": {},
   "source": [
    "## Import libraries"
   ]
  },
  {
   "cell_type": "code",
   "execution_count": 1,
   "id": "a974aa7f-fb72-42eb-8abf-5dce31633bcc",
   "metadata": {},
   "outputs": [
    {
     "name": "stderr",
     "output_type": "stream",
     "text": [
      "/home/jovyan/accesibilidad-urbana/aup/data.py:25: UserWarning: The `utils.config` function is deprecated and will be removed in a future release. Instead, use the `settings` module directly to configure a global setting's value. For example, `ox.settings.log_console=True`.\n",
      "  ox.config(\n"
     ]
    }
   ],
   "source": [
    "import os\n",
    "import sys\n",
    "\n",
    "import pandas as pd\n",
    "import geopandas as gpd\n",
    "import numpy as np\n",
    "\n",
    "import matplotlib.pyplot as plt\n",
    "from matplotlib import colors\n",
    "import seaborn as sns\n",
    "\n",
    "from pandas.api.types import CategoricalDtype\n",
    "\n",
    "import warnings\n",
    "warnings.simplefilter(action='ignore', category=FutureWarning)\n",
    "\n",
    "module_path = os.path.abspath(os.path.join('../../../'))\n",
    "if module_path not in sys.path:\n",
    "    sys.path.append(module_path)\n",
    "    import aup"
   ]
  },
  {
   "cell_type": "code",
   "execution_count": 2,
   "id": "879d44d6-f02e-462b-9aff-42e66d799c1a",
   "metadata": {},
   "outputs": [],
   "source": [
    "city = 'CDMX'"
   ]
  },
  {
   "cell_type": "markdown",
   "id": "0e1fcd00-30fb-497b-b4c5-3aa46e84d1c4",
   "metadata": {},
   "source": [
    "## Load data"
   ]
  },
  {
   "cell_type": "code",
   "execution_count": 3,
   "id": "a0a7a4b4-3579-42fa-a584-b43dcb5871b5",
   "metadata": {},
   "outputs": [
    {
     "name": "stdout",
     "output_type": "stream",
     "text": [
      "(16, 6)\n"
     ]
    },
    {
     "data": {
      "text/html": [
       "<div>\n",
       "<style scoped>\n",
       "    .dataframe tbody tr th:only-of-type {\n",
       "        vertical-align: middle;\n",
       "    }\n",
       "\n",
       "    .dataframe tbody tr th {\n",
       "        vertical-align: top;\n",
       "    }\n",
       "\n",
       "    .dataframe thead th {\n",
       "        text-align: right;\n",
       "    }\n",
       "</style>\n",
       "<table border=\"1\" class=\"dataframe\">\n",
       "  <thead>\n",
       "    <tr style=\"text-align: right;\">\n",
       "      <th></th>\n",
       "      <th>CVEGEO</th>\n",
       "      <th>CVE_ENT</th>\n",
       "      <th>CVE_MUN</th>\n",
       "      <th>NOMGEO</th>\n",
       "      <th>geometry</th>\n",
       "      <th>city</th>\n",
       "    </tr>\n",
       "  </thead>\n",
       "  <tbody>\n",
       "    <tr>\n",
       "      <th>0</th>\n",
       "      <td>09002</td>\n",
       "      <td>09</td>\n",
       "      <td>002</td>\n",
       "      <td>Azcapotzalco</td>\n",
       "      <td>POLYGON ((-99.18231 19.50748, -99.18229 19.507...</td>\n",
       "      <td>CDMX</td>\n",
       "    </tr>\n",
       "    <tr>\n",
       "      <th>1</th>\n",
       "      <td>09003</td>\n",
       "      <td>09</td>\n",
       "      <td>003</td>\n",
       "      <td>Coyoacán</td>\n",
       "      <td>POLYGON ((-99.13427 19.35654, -99.13397 19.356...</td>\n",
       "      <td>CDMX</td>\n",
       "    </tr>\n",
       "  </tbody>\n",
       "</table>\n",
       "</div>"
      ],
      "text/plain": [
       "  CVEGEO CVE_ENT CVE_MUN        NOMGEO  \\\n",
       "0  09002      09     002  Azcapotzalco   \n",
       "1  09003      09     003      Coyoacán   \n",
       "\n",
       "                                            geometry  city  \n",
       "0  POLYGON ((-99.18231 19.50748, -99.18229 19.507...  CDMX  \n",
       "1  POLYGON ((-99.13427 19.35654, -99.13397 19.356...  CDMX  "
      ]
     },
     "execution_count": 3,
     "metadata": {},
     "output_type": "execute_result"
    }
   ],
   "source": [
    "# Download mun_gdf\n",
    "mun_schema = 'metropolis'\n",
    "mun_table = 'metro_gdf_2020'\n",
    "\n",
    "query = f\"SELECT * FROM {mun_schema}.{mun_table} WHERE \\\"city\\\" LIKE \\'{city}\\'\"\n",
    "mun_gdf = aup.gdf_from_query(query, geometry_col='geometry')\n",
    "\n",
    "# Show\n",
    "print(mun_gdf.shape)\n",
    "mun_gdf.head(2)"
   ]
  },
  {
   "cell_type": "code",
   "execution_count": null,
   "id": "2c1f98d0-df43-475f-aad5-0d3d2bfb3d88",
   "metadata": {},
   "outputs": [],
   "source": [
    "### Create city area of interest with biggest hexs\n",
    "big_res = 8\n",
    "schema_hex = 'hexgrid'\n",
    "table_hex = f'hexgrid_{big_res}_city_2020'\n",
    "\n",
    "# Download hexagons with type=urban\n",
    "type = 'urban'\n",
    "query = f\"SELECT hex_id_{big_res},geometry FROM {schema_hex}.{table_hex} WHERE \\\"city\\\" = '{city}\\' AND \\\"type\\\" = '{type}\\'\"\n",
    "hex_urban = aup.gdf_from_query(query, geometry_col='geometry')"
   ]
  },
  {
   "cell_type": "code",
   "execution_count": null,
   "id": "195d2679-bf9c-4940-acf5-7ff5a8425a11",
   "metadata": {},
   "outputs": [],
   "source": [
    "# Downloading NDVI res 10 data\n",
    "ndvi_schema = 'raster_analysis'\n",
    "ndvi_table = 'ndvi_analysis_hex'\n",
    "\n",
    "res = 10\n",
    "\n",
    "query = f\"SELECT * FROM {ndvi_schema}.{ndvi_table} WHERE \\\"city\\\" LIKE \\'{city}\\' AND \\\"res\\\" = {res}\"\n",
    "ndvi_res10 = aup.gdf_from_query(query, geometry_col='geometry')\n",
    "\n",
    "print(ndvi_res10.shape)\n",
    "ndvi_res10.head(2)"
   ]
  },
  {
   "cell_type": "code",
   "execution_count": 4,
   "id": "8f8f401c-513c-4d19-acbf-06e0ce3f8512",
   "metadata": {},
   "outputs": [
    {
     "name": "stdout",
     "output_type": "stream",
     "text": [
      "(64174, 11)\n"
     ]
    },
    {
     "data": {
      "text/html": [
       "<div>\n",
       "<style scoped>\n",
       "    .dataframe tbody tr th:only-of-type {\n",
       "        vertical-align: middle;\n",
       "    }\n",
       "\n",
       "    .dataframe tbody tr th {\n",
       "        vertical-align: top;\n",
       "    }\n",
       "\n",
       "    .dataframe thead th {\n",
       "        text-align: right;\n",
       "    }\n",
       "</style>\n",
       "<table border=\"1\" class=\"dataframe\">\n",
       "  <thead>\n",
       "    <tr style=\"text-align: right;\">\n",
       "      <th></th>\n",
       "      <th>hex_id</th>\n",
       "      <th>geometry</th>\n",
       "      <th>res</th>\n",
       "      <th>ndmi_mean</th>\n",
       "      <th>ndmi_std</th>\n",
       "      <th>ndmi_median</th>\n",
       "      <th>ndmi_max</th>\n",
       "      <th>ndmi_min</th>\n",
       "      <th>ndmi_diff</th>\n",
       "      <th>ndmi_tend</th>\n",
       "      <th>city</th>\n",
       "    </tr>\n",
       "  </thead>\n",
       "  <tbody>\n",
       "    <tr>\n",
       "      <th>0</th>\n",
       "      <td>8a49958604d7fff</td>\n",
       "      <td>POLYGON ((-99.18192 19.23890, -99.18128 19.239...</td>\n",
       "      <td>10</td>\n",
       "      <td>0.052755</td>\n",
       "      <td>0.072827</td>\n",
       "      <td>0.039589</td>\n",
       "      <td>0.159344</td>\n",
       "      <td>-0.041157</td>\n",
       "      <td>0.200502</td>\n",
       "      <td>-0.000828</td>\n",
       "      <td>CDMX</td>\n",
       "    </tr>\n",
       "    <tr>\n",
       "      <th>1</th>\n",
       "      <td>8a4995862907fff</td>\n",
       "      <td>POLYGON ((-99.17475 19.23280, -99.17410 19.233...</td>\n",
       "      <td>10</td>\n",
       "      <td>0.037603</td>\n",
       "      <td>0.058714</td>\n",
       "      <td>0.023568</td>\n",
       "      <td>0.124295</td>\n",
       "      <td>-0.032202</td>\n",
       "      <td>0.156497</td>\n",
       "      <td>-0.000794</td>\n",
       "      <td>CDMX</td>\n",
       "    </tr>\n",
       "  </tbody>\n",
       "</table>\n",
       "</div>"
      ],
      "text/plain": [
       "            hex_id                                           geometry  res  \\\n",
       "0  8a49958604d7fff  POLYGON ((-99.18192 19.23890, -99.18128 19.239...   10   \n",
       "1  8a4995862907fff  POLYGON ((-99.17475 19.23280, -99.17410 19.233...   10   \n",
       "\n",
       "   ndmi_mean  ndmi_std  ndmi_median  ndmi_max  ndmi_min  ndmi_diff  ndmi_tend  \\\n",
       "0   0.052755  0.072827     0.039589  0.159344 -0.041157   0.200502  -0.000828   \n",
       "1   0.037603  0.058714     0.023568  0.124295 -0.032202   0.156497  -0.000794   \n",
       "\n",
       "   city  \n",
       "0  CDMX  \n",
       "1  CDMX  "
      ]
     },
     "execution_count": 4,
     "metadata": {},
     "output_type": "execute_result"
    }
   ],
   "source": [
    "# Downloading NDMI res 10 data\n",
    "ndmi_schema = 'raster_analysis'\n",
    "ndmi_table = 'ndmi_analysis_hex'\n",
    "\n",
    "res = 10\n",
    "\n",
    "query = f\"SELECT * FROM {ndmi_schema}.{ndmi_table} WHERE \\\"city\\\" LIKE \\'{city}\\' AND \\\"res\\\"={res}\"\n",
    "ndmi_res10 = aup.gdf_from_query(query, geometry_col='geometry')\n",
    "\n",
    "print(ndmi_res10.shape)\n",
    "ndmi_res10.head(2)"
   ]
  },
  {
   "cell_type": "markdown",
   "id": "f119a0c4-db41-4143-8ba6-237170965104",
   "metadata": {},
   "source": [
    "## Data treatment"
   ]
  },
  {
   "cell_type": "markdown",
   "id": "69247025-a525-406c-add5-5c377e13b08a",
   "metadata": {},
   "source": [
    "### Data treatment - Merge ndvi and ndmi"
   ]
  },
  {
   "cell_type": "code",
   "execution_count": null,
   "id": "125afd2e-cb26-422f-a748-e1857bc5ebaf",
   "metadata": {},
   "outputs": [],
   "source": [
    "ndvi_clean = ndmi_res10.drop(columns=['geometry','res','city'])\n",
    "ndvi_ndmi_gdf = ndvi_marg.merge(ndvi_clean, left_on='hex_id', right_on='hex_id')\n",
    "\n",
    "# Show\n",
    "print(ndvi_ndmi_gdf.shape)\n",
    "ndvi_ndmi_gdf.head(2)"
   ]
  },
  {
   "cell_type": "markdown",
   "id": "85b89e8d-8273-4cac-8816-b7a55392f0f8",
   "metadata": {},
   "source": [
    "### Data treatment - Create vegetation categories"
   ]
  },
  {
   "cell_type": "code",
   "execution_count": null,
   "id": "8ef6c793-817f-4fd6-bab1-7817901c658e",
   "metadata": {},
   "outputs": [],
   "source": [
    "# Create vegetation categories\n",
    "ndvi_ndmi_gdf['ndvi_median_rango'] = np.nan\n",
    "ndvi_ndmi_gdf.loc[ndvi_ndmi_gdf.ndvi_median>=0.6 , 'ndvi_median_rango'] = 'Alta densidad vegetal'\n",
    "ndvi_ndmi_gdf.loc[(ndvi_ndmi_gdf.ndvi_median>=0.4 )&\n",
    "                  (ndvi_ndmi_gdf.ndvi_median<0.6), 'ndvi_median_rango'] = 'Moderada densidad vegetal'\n",
    "ndvi_ndmi_gdf.loc[(ndvi_ndmi_gdf.ndvi_median>=0.2)&\n",
    "                  (ndvi_ndmi_gdf.ndvi_median<0.4), 'ndvi_median_rango'] = 'Mínima densidad vegetal'\n",
    "ndvi_ndmi_gdf.loc[(ndvi_ndmi_gdf.ndvi_median>=0.1)&\n",
    "                  (ndvi_ndmi_gdf.ndvi_median<0.2), 'ndvi_median_rango'] = 'Suelo'\n",
    "ndvi_ndmi_gdf.loc[(ndvi_ndmi_gdf.ndvi_median<0.1), 'ndvi_median_rango'] = 'Suelo artificial/Agua/Piedra'\n",
    "\n",
    "# Ordering data\n",
    "categories = ['Suelo artificial/Agua/Piedra', 'Suelo', 'Mínima densidad vegetal', 'Moderada densidad vegetal', 'Alta densidad vegetal']\n",
    "ndvi_ndmi_gdf['ndvi_median_rango'] = pd.Categorical(ndvi_ndmi_gdf['ndvi_median_rango'], categories=categories, ordered=True)\n",
    "\n",
    "# Reviewing process\n",
    "print(ndvi_ndmi_gdf.shape)\n",
    "ndvi_ndmi_gdf.head(2)"
   ]
  },
  {
   "cell_type": "markdown",
   "id": "060d98f2-3a0d-4b70-9d72-9e49377d8ce2",
   "metadata": {},
   "source": [
    "Show ndvi categorical distribution"
   ]
  },
  {
   "cell_type": "code",
   "execution_count": null,
   "id": "e28b5da2-36e8-43e5-8155-18a448a4e598",
   "metadata": {},
   "outputs": [],
   "source": [
    "ndviproportions = ndvi_ndmi_gdf.groupby('ndvi_median_rango').count()\n",
    "\n",
    "columns_tokeep = ['hex_id']\n",
    "ndviproportions = ndviproportions[columns_tokeep]\n",
    "\n",
    "ndviproportions = ndviproportions.rename(columns={'hex_id':'count'})\n",
    "ndviproportions['%'] = ndviproportions['count'].apply(lambda x: (x/(ndviproportions['count'].sum()))*100)\n",
    "\n",
    "ndviproportions"
   ]
  },
  {
   "cell_type": "markdown",
   "id": "9aa4af54-f1df-403b-8c61-95874ff01582",
   "metadata": {},
   "source": [
    "### Data treatment - Filter for places with vegetation"
   ]
  },
  {
   "cell_type": "code",
   "execution_count": null,
   "id": "7991a287-6e9c-4e93-afe5-02e80a926fd8",
   "metadata": {},
   "outputs": [],
   "source": [
    "#Keeping High-moderate-minimal vegetation density\n",
    "data_withveg = ndvi_ndmi_gdf.loc[(ndvi_ndmi_gdf.ndvi_median_rango == 'Alta densidad vegetal') |\n",
    "               (ndvi_ndmi_gdf.ndvi_median_rango == 'Moderada densidad vegetal')|\n",
    "               (ndvi_ndmi_gdf.ndvi_median_rango == 'Mínima densidad vegetal')]\n",
    "\n",
    "#Reviewing process\n",
    "print(data_withveg.shape)\n",
    "data_withveg.head(2)"
   ]
  },
  {
   "cell_type": "code",
   "execution_count": null,
   "id": "45c1570c-689b-483c-b00f-26f155d6216d",
   "metadata": {},
   "outputs": [],
   "source": []
  }
 ],
 "metadata": {
  "kernelspec": {
   "display_name": "GDS-10.0",
   "language": "python",
   "name": "gds"
  },
  "language_info": {
   "codemirror_mode": {
    "name": "ipython",
    "version": 3
   },
   "file_extension": ".py",
   "mimetype": "text/x-python",
   "name": "python",
   "nbconvert_exporter": "python",
   "pygments_lexer": "ipython3",
   "version": "3.9.18"
  }
 },
 "nbformat": 4,
 "nbformat_minor": 5
}
