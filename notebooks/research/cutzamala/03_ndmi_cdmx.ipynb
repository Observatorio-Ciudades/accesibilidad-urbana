{
 "cells": [
  {
   "cell_type": "markdown",
   "id": "20e6602e-6463-49bb-ad45-ab7bada2ccd8",
   "metadata": {},
   "source": [
    "# 03_ndmi_cdmx"
   ]
  },
  {
   "cell_type": "markdown",
   "id": "3648838c-8ce7-4ac8-b142-625a13a28a9c",
   "metadata": {},
   "source": [
    "This notebook loads hexs with vegetation (NDVI) within cutzamala alcaldías to plot NDMI values january-may for each year.\n",
    "\n",
    "Note: Database has only data up until 2023. Data for ene, feb, mar 2024 (current date) was run using Script 17 and saved locally.\n",
    "*     band_name_dict = {'nir':[True],'swir16':[False], 'eq':[\"(nir-swir16)/(nir+swir16)\"]}\n",
    "*     start_date = '2024-01-01'\n",
    "*     end_date = '2024-03-19'\n",
    "*     save = False\n",
    "*     local_save = True"
   ]
  },
  {
   "cell_type": "markdown",
   "id": "6fc4f582-94ec-46fc-94b7-0fe0cd3791b1",
   "metadata": {},
   "source": [
    "## Import libraries"
   ]
  },
  {
   "cell_type": "code",
   "execution_count": 22,
   "id": "a974aa7f-fb72-42eb-8abf-5dce31633bcc",
   "metadata": {},
   "outputs": [],
   "source": [
    "import os\n",
    "import sys\n",
    "\n",
    "import pandas as pd\n",
    "import geopandas as gpd\n",
    "import numpy as np\n",
    "\n",
    "import matplotlib.pyplot as plt\n",
    "from matplotlib import colors\n",
    "import seaborn as sns\n",
    "\n",
    "from pandas.api.types import CategoricalDtype\n",
    "\n",
    "import warnings\n",
    "warnings.simplefilter(action='ignore', category=FutureWarning)\n",
    "\n",
    "module_path = os.path.abspath(os.path.join('../../../'))\n",
    "if module_path not in sys.path:\n",
    "    sys.path.append(module_path)\n",
    "    import aup"
   ]
  },
  {
   "cell_type": "code",
   "execution_count": 23,
   "id": "879d44d6-f02e-462b-9aff-42e66d799c1a",
   "metadata": {},
   "outputs": [],
   "source": [
    "city = 'CDMX'"
   ]
  },
  {
   "cell_type": "markdown",
   "id": "0e1fcd00-30fb-497b-b4c5-3aa46e84d1c4",
   "metadata": {},
   "source": [
    "## 1. Load hexs with vegetation in alcaldías of interest"
   ]
  },
  {
   "cell_type": "markdown",
   "id": "79d68b49-4885-4230-a558-e0d4e5dfc62d",
   "metadata": {},
   "source": [
    "### NDVI Load data - for city and res"
   ]
  },
  {
   "cell_type": "markdown",
   "id": "e2e2cc7d-ea4e-47f2-9bf7-6d7612fd9c31",
   "metadata": {},
   "source": [
    "NDVI's hex were processed using the correct urban+rural hexs configuration on Script 21."
   ]
  },
  {
   "cell_type": "code",
   "execution_count": 24,
   "id": "195d2679-bf9c-4940-acf5-7ff5a8425a11",
   "metadata": {},
   "outputs": [
    {
     "name": "stdout",
     "output_type": "stream",
     "text": [
      "(59557, 2)\n"
     ]
    },
    {
     "data": {
      "text/html": [
       "<div>\n",
       "<style scoped>\n",
       "    .dataframe tbody tr th:only-of-type {\n",
       "        vertical-align: middle;\n",
       "    }\n",
       "\n",
       "    .dataframe tbody tr th {\n",
       "        vertical-align: top;\n",
       "    }\n",
       "\n",
       "    .dataframe thead th {\n",
       "        text-align: right;\n",
       "    }\n",
       "</style>\n",
       "<table border=\"1\" class=\"dataframe\">\n",
       "  <thead>\n",
       "    <tr style=\"text-align: right;\">\n",
       "      <th></th>\n",
       "      <th>hex_id</th>\n",
       "      <th>ndvi_median</th>\n",
       "    </tr>\n",
       "  </thead>\n",
       "  <tbody>\n",
       "    <tr>\n",
       "      <th>0</th>\n",
       "      <td>8a4995b8199ffff</td>\n",
       "      <td>0.173010</td>\n",
       "    </tr>\n",
       "    <tr>\n",
       "      <th>1</th>\n",
       "      <td>8a4995baa487fff</td>\n",
       "      <td>0.139817</td>\n",
       "    </tr>\n",
       "  </tbody>\n",
       "</table>\n",
       "</div>"
      ],
      "text/plain": [
       "            hex_id  ndvi_median\n",
       "0  8a4995b8199ffff     0.173010\n",
       "1  8a4995baa487fff     0.139817"
      ]
     },
     "execution_count": 24,
     "metadata": {},
     "output_type": "execute_result"
    }
   ],
   "source": [
    "# Downloading NDVI res 10 data (aprox. 150-200s)\n",
    "ndvi_schema = 'raster_analysis'\n",
    "ndvi_table = 'ndvi_analysis_hex'\n",
    "res = 10\n",
    "query = f\"SELECT * FROM {ndvi_schema}.{ndvi_table} WHERE \\\"city\\\" LIKE \\'{city}\\' AND \\\"res\\\" = {res}\"\n",
    "ndvi_res10 = aup.gdf_from_query(query, geometry_col='geometry')\n",
    "\n",
    "# Shorten data\n",
    "ndvi_res10 = ndvi_res10[['hex_id','ndvi_median']]\n",
    "\n",
    "# Show\n",
    "print(ndvi_res10.shape)\n",
    "ndvi_res10.head(2)"
   ]
  },
  {
   "cell_type": "markdown",
   "id": "85b89e8d-8273-4cac-8816-b7a55392f0f8",
   "metadata": {},
   "source": [
    "### NDVI Data treatment - Create vegetation categories"
   ]
  },
  {
   "cell_type": "code",
   "execution_count": 25,
   "id": "8ef6c793-817f-4fd6-bab1-7817901c658e",
   "metadata": {},
   "outputs": [
    {
     "name": "stdout",
     "output_type": "stream",
     "text": [
      "(59557, 3)\n"
     ]
    },
    {
     "data": {
      "text/html": [
       "<div>\n",
       "<style scoped>\n",
       "    .dataframe tbody tr th:only-of-type {\n",
       "        vertical-align: middle;\n",
       "    }\n",
       "\n",
       "    .dataframe tbody tr th {\n",
       "        vertical-align: top;\n",
       "    }\n",
       "\n",
       "    .dataframe thead th {\n",
       "        text-align: right;\n",
       "    }\n",
       "</style>\n",
       "<table border=\"1\" class=\"dataframe\">\n",
       "  <thead>\n",
       "    <tr style=\"text-align: right;\">\n",
       "      <th></th>\n",
       "      <th>hex_id</th>\n",
       "      <th>ndvi_median</th>\n",
       "      <th>ndvi_median_rango</th>\n",
       "    </tr>\n",
       "  </thead>\n",
       "  <tbody>\n",
       "    <tr>\n",
       "      <th>0</th>\n",
       "      <td>8a4995b8199ffff</td>\n",
       "      <td>0.173010</td>\n",
       "      <td>Suelo</td>\n",
       "    </tr>\n",
       "    <tr>\n",
       "      <th>1</th>\n",
       "      <td>8a4995baa487fff</td>\n",
       "      <td>0.139817</td>\n",
       "      <td>Suelo</td>\n",
       "    </tr>\n",
       "  </tbody>\n",
       "</table>\n",
       "</div>"
      ],
      "text/plain": [
       "            hex_id  ndvi_median ndvi_median_rango\n",
       "0  8a4995b8199ffff     0.173010             Suelo\n",
       "1  8a4995baa487fff     0.139817             Suelo"
      ]
     },
     "execution_count": 25,
     "metadata": {},
     "output_type": "execute_result"
    }
   ],
   "source": [
    "# Create vegetation categories\n",
    "ndvi_res10['ndvi_median_rango'] = np.nan\n",
    "ndvi_res10.loc[ndvi_res10.ndvi_median>=0.6 , 'ndvi_median_rango'] = 'Alta densidad vegetal'\n",
    "ndvi_res10.loc[(ndvi_res10.ndvi_median>=0.4 )&\n",
    "                (ndvi_res10.ndvi_median<0.6), 'ndvi_median_rango'] = 'Moderada densidad vegetal'\n",
    "ndvi_res10.loc[(ndvi_res10.ndvi_median>=0.2)&\n",
    "                (ndvi_res10.ndvi_median<0.4), 'ndvi_median_rango'] = 'Mínima densidad vegetal'\n",
    "ndvi_res10.loc[(ndvi_res10.ndvi_median>=0.1)&\n",
    "                (ndvi_res10.ndvi_median<0.2), 'ndvi_median_rango'] = 'Suelo'\n",
    "ndvi_res10.loc[(ndvi_res10.ndvi_median<0.1), 'ndvi_median_rango'] = 'Suelo artificial/Agua/Piedra'\n",
    "\n",
    "# Ordering data\n",
    "categories = ['Suelo artificial/Agua/Piedra', 'Suelo', 'Mínima densidad vegetal', 'Moderada densidad vegetal', 'Alta densidad vegetal']\n",
    "ndvi_res10['ndvi_median_rango'] = pd.Categorical(ndvi_res10['ndvi_median_rango'], categories=categories, ordered=True)\n",
    "\n",
    "# Show\n",
    "print(ndvi_res10.shape)\n",
    "ndvi_res10.head(2)"
   ]
  },
  {
   "cell_type": "markdown",
   "id": "9aa4af54-f1df-403b-8c61-95874ff01582",
   "metadata": {},
   "source": [
    "### NDVI Data treatment - Filter for places with vegetation"
   ]
  },
  {
   "cell_type": "code",
   "execution_count": 26,
   "id": "7991a287-6e9c-4e93-afe5-02e80a926fd8",
   "metadata": {},
   "outputs": [
    {
     "name": "stdout",
     "output_type": "stream",
     "text": [
      "(35317, 3)\n"
     ]
    },
    {
     "data": {
      "text/html": [
       "<div>\n",
       "<style scoped>\n",
       "    .dataframe tbody tr th:only-of-type {\n",
       "        vertical-align: middle;\n",
       "    }\n",
       "\n",
       "    .dataframe tbody tr th {\n",
       "        vertical-align: top;\n",
       "    }\n",
       "\n",
       "    .dataframe thead th {\n",
       "        text-align: right;\n",
       "    }\n",
       "</style>\n",
       "<table border=\"1\" class=\"dataframe\">\n",
       "  <thead>\n",
       "    <tr style=\"text-align: right;\">\n",
       "      <th></th>\n",
       "      <th>hex_id</th>\n",
       "      <th>ndvi_median</th>\n",
       "      <th>ndvi_median_rango</th>\n",
       "    </tr>\n",
       "  </thead>\n",
       "  <tbody>\n",
       "    <tr>\n",
       "      <th>8</th>\n",
       "      <td>8a4995baa54ffff</td>\n",
       "      <td>0.227384</td>\n",
       "      <td>Mínima densidad vegetal</td>\n",
       "    </tr>\n",
       "    <tr>\n",
       "      <th>9</th>\n",
       "      <td>8a4995b899a7fff</td>\n",
       "      <td>0.391476</td>\n",
       "      <td>Mínima densidad vegetal</td>\n",
       "    </tr>\n",
       "  </tbody>\n",
       "</table>\n",
       "</div>"
      ],
      "text/plain": [
       "            hex_id  ndvi_median        ndvi_median_rango\n",
       "8  8a4995baa54ffff     0.227384  Mínima densidad vegetal\n",
       "9  8a4995b899a7fff     0.391476  Mínima densidad vegetal"
      ]
     },
     "execution_count": 26,
     "metadata": {},
     "output_type": "execute_result"
    }
   ],
   "source": [
    "#Keeping High-moderate-minimal vegetation density\n",
    "data_withveg = ndvi_res10.loc[(ndvi_res10.ndvi_median_rango == 'Alta densidad vegetal') |\n",
    "               (ndvi_res10.ndvi_median_rango == 'Moderada densidad vegetal')|\n",
    "               (ndvi_res10.ndvi_median_rango == 'Mínima densidad vegetal')].copy()\n",
    "\n",
    "# Show\n",
    "print(data_withveg.shape)\n",
    "data_withveg.head(2)"
   ]
  },
  {
   "cell_type": "markdown",
   "id": "7d0addaa-d6f7-412b-a81a-2fe9ce3143a7",
   "metadata": {},
   "source": [
    "### hex_gdf Load data - (Contiene alcaldías)"
   ]
  },
  {
   "cell_type": "code",
   "execution_count": 27,
   "id": "a0a7a4b4-3579-42fa-a584-b43dcb5871b5",
   "metadata": {},
   "outputs": [
    {
     "name": "stdout",
     "output_type": "stream",
     "text": [
      "(86349, 6)\n"
     ]
    },
    {
     "data": {
      "text/html": [
       "<div>\n",
       "<style scoped>\n",
       "    .dataframe tbody tr th:only-of-type {\n",
       "        vertical-align: middle;\n",
       "    }\n",
       "\n",
       "    .dataframe tbody tr th {\n",
       "        vertical-align: top;\n",
       "    }\n",
       "\n",
       "    .dataframe thead th {\n",
       "        text-align: right;\n",
       "    }\n",
       "</style>\n",
       "<table border=\"1\" class=\"dataframe\">\n",
       "  <thead>\n",
       "    <tr style=\"text-align: right;\">\n",
       "      <th></th>\n",
       "      <th>hex_id_10</th>\n",
       "      <th>geometry</th>\n",
       "      <th>CVEGEO</th>\n",
       "      <th>NOMGEO</th>\n",
       "      <th>city</th>\n",
       "      <th>type</th>\n",
       "    </tr>\n",
       "  </thead>\n",
       "  <tbody>\n",
       "    <tr>\n",
       "      <th>0</th>\n",
       "      <td>8a4995b8cb57fff</td>\n",
       "      <td>POLYGON ((-99.19358 19.48193, -99.19293 19.482...</td>\n",
       "      <td>09002</td>\n",
       "      <td>Azcapotzalco</td>\n",
       "      <td>CDMX</td>\n",
       "      <td>urban</td>\n",
       "    </tr>\n",
       "    <tr>\n",
       "      <th>1</th>\n",
       "      <td>8a4995b814cffff</td>\n",
       "      <td>POLYGON ((-99.15323 19.47499, -99.15258 19.475...</td>\n",
       "      <td>09002</td>\n",
       "      <td>Azcapotzalco</td>\n",
       "      <td>CDMX</td>\n",
       "      <td>urban</td>\n",
       "    </tr>\n",
       "  </tbody>\n",
       "</table>\n",
       "</div>"
      ],
      "text/plain": [
       "         hex_id_10                                           geometry CVEGEO  \\\n",
       "0  8a4995b8cb57fff  POLYGON ((-99.19358 19.48193, -99.19293 19.482...  09002   \n",
       "1  8a4995b814cffff  POLYGON ((-99.15323 19.47499, -99.15258 19.475...  09002   \n",
       "\n",
       "         NOMGEO  city   type  \n",
       "0  Azcapotzalco  CDMX  urban  \n",
       "1  Azcapotzalco  CDMX  urban  "
      ]
     },
     "execution_count": 27,
     "metadata": {},
     "output_type": "execute_result"
    }
   ],
   "source": [
    "# Download hex_gdf  (aprox. 150-200s)\n",
    "hex_schema = 'hexgrid'\n",
    "hex_table = 'hexgrid_10_city_2020'\n",
    "query = f\"SELECT * FROM {hex_schema}.{hex_table} WHERE \\\"city\\\" LIKE \\'{city}\\'\"\n",
    "hex_gdf = aup.gdf_from_query(query, geometry_col='geometry')\n",
    "\n",
    "# Show\n",
    "print(hex_gdf.shape)\n",
    "hex_gdf.head(2)"
   ]
  },
  {
   "cell_type": "markdown",
   "id": "2f062a24-5881-47f0-8f77-943e67f12ddc",
   "metadata": {},
   "source": [
    "### hex_gdf Data treatment - Filter for alcaldías of interest"
   ]
  },
  {
   "cell_type": "code",
   "execution_count": 28,
   "id": "05bfbf81-f70d-4b62-9cfc-251b01c4bfb9",
   "metadata": {},
   "outputs": [
    {
     "name": "stdout",
     "output_type": "stream",
     "text": [
      "(52452, 3)\n"
     ]
    },
    {
     "data": {
      "text/html": [
       "<div>\n",
       "<style scoped>\n",
       "    .dataframe tbody tr th:only-of-type {\n",
       "        vertical-align: middle;\n",
       "    }\n",
       "\n",
       "    .dataframe tbody tr th {\n",
       "        vertical-align: top;\n",
       "    }\n",
       "\n",
       "    .dataframe thead th {\n",
       "        text-align: right;\n",
       "    }\n",
       "</style>\n",
       "<table border=\"1\" class=\"dataframe\">\n",
       "  <thead>\n",
       "    <tr style=\"text-align: right;\">\n",
       "      <th></th>\n",
       "      <th>hex_id</th>\n",
       "      <th>NOMGEO</th>\n",
       "      <th>geometry</th>\n",
       "    </tr>\n",
       "  </thead>\n",
       "  <tbody>\n",
       "    <tr>\n",
       "      <th>0</th>\n",
       "      <td>8a4995b8cb57fff</td>\n",
       "      <td>Azcapotzalco</td>\n",
       "      <td>POLYGON ((-99.19358 19.48193, -99.19293 19.482...</td>\n",
       "    </tr>\n",
       "    <tr>\n",
       "      <th>1</th>\n",
       "      <td>8a4995b814cffff</td>\n",
       "      <td>Azcapotzalco</td>\n",
       "      <td>POLYGON ((-99.15323 19.47499, -99.15258 19.475...</td>\n",
       "    </tr>\n",
       "  </tbody>\n",
       "</table>\n",
       "</div>"
      ],
      "text/plain": [
       "            hex_id        NOMGEO  \\\n",
       "0  8a4995b8cb57fff  Azcapotzalco   \n",
       "1  8a4995b814cffff  Azcapotzalco   \n",
       "\n",
       "                                            geometry  \n",
       "0  POLYGON ((-99.19358 19.48193, -99.19293 19.482...  \n",
       "1  POLYGON ((-99.15323 19.47499, -99.15258 19.475...  "
      ]
     },
     "execution_count": 28,
     "metadata": {},
     "output_type": "execute_result"
    }
   ],
   "source": [
    "# Filter hex_gdf for municipalities where Cutzamala system provides water\n",
    "alcaldias_cutzamala = ['Álvaro Obregón','Azcapotzalco', 'Cuajimalpa de Morelos','Iztacalco', \n",
    "                       'Iztapalapa','La Magdalena Contreras','Tlalpan', 'Benito Juárez', \n",
    "                       'Cuauhtémoc','Miguel Hidalgo', 'Venustiano Carranza','Coyoacán']\n",
    "hex_gdf_f = hex_gdf.loc[hex_gdf.NOMGEO.isin(alcaldias_cutzamala)]\n",
    "\n",
    "# Shorten data\n",
    "hex_gdf_f = hex_gdf_f[['hex_id_10','NOMGEO','geometry']]\n",
    "hex_gdf_f.rename(columns={'hex_id_10':'hex_id'},inplace=True)\n",
    "\n",
    "# Show\n",
    "print(hex_gdf_f.shape)\n",
    "hex_gdf_f.head(2)"
   ]
  },
  {
   "cell_type": "markdown",
   "id": "5c7fc1f4-0729-46e8-89a7-eaa6c507d384",
   "metadata": {},
   "source": [
    "### Data with veg (NDVI) + alcaldías (hex_gdf)"
   ]
  },
  {
   "cell_type": "code",
   "execution_count": 29,
   "id": "273bae84-2f83-4e3d-8bb5-a184e3f90d8e",
   "metadata": {},
   "outputs": [
    {
     "name": "stdout",
     "output_type": "stream",
     "text": [
      "(20701, 5)\n"
     ]
    },
    {
     "data": {
      "text/html": [
       "<div>\n",
       "<style scoped>\n",
       "    .dataframe tbody tr th:only-of-type {\n",
       "        vertical-align: middle;\n",
       "    }\n",
       "\n",
       "    .dataframe tbody tr th {\n",
       "        vertical-align: top;\n",
       "    }\n",
       "\n",
       "    .dataframe thead th {\n",
       "        text-align: right;\n",
       "    }\n",
       "</style>\n",
       "<table border=\"1\" class=\"dataframe\">\n",
       "  <thead>\n",
       "    <tr style=\"text-align: right;\">\n",
       "      <th></th>\n",
       "      <th>hex_id</th>\n",
       "      <th>ndvi_median</th>\n",
       "      <th>ndvi_median_rango</th>\n",
       "      <th>NOMGEO</th>\n",
       "      <th>geometry</th>\n",
       "    </tr>\n",
       "  </thead>\n",
       "  <tbody>\n",
       "    <tr>\n",
       "      <th>0</th>\n",
       "      <td>8a4995baa54ffff</td>\n",
       "      <td>0.227384</td>\n",
       "      <td>Mínima densidad vegetal</td>\n",
       "      <td>Azcapotzalco</td>\n",
       "      <td>POLYGON ((-99.17993 19.46078, -99.17929 19.461...</td>\n",
       "    </tr>\n",
       "    <tr>\n",
       "      <th>1</th>\n",
       "      <td>8a4995b899a7fff</td>\n",
       "      <td>0.391476</td>\n",
       "      <td>Mínima densidad vegetal</td>\n",
       "      <td>Azcapotzalco</td>\n",
       "      <td>POLYGON ((-99.20097 19.51021, -99.20033 19.510...</td>\n",
       "    </tr>\n",
       "  </tbody>\n",
       "</table>\n",
       "</div>"
      ],
      "text/plain": [
       "            hex_id  ndvi_median        ndvi_median_rango        NOMGEO  \\\n",
       "0  8a4995baa54ffff     0.227384  Mínima densidad vegetal  Azcapotzalco   \n",
       "1  8a4995b899a7fff     0.391476  Mínima densidad vegetal  Azcapotzalco   \n",
       "\n",
       "                                            geometry  \n",
       "0  POLYGON ((-99.17993 19.46078, -99.17929 19.461...  \n",
       "1  POLYGON ((-99.20097 19.51021, -99.20033 19.510...  "
      ]
     },
     "execution_count": 29,
     "metadata": {},
     "output_type": "execute_result"
    }
   ],
   "source": [
    "# Inner join to keep data with veg of alcaldías of interest only\n",
    "data_withveg_alcaldias = data_withveg.merge(hex_gdf_f,on='hex_id',how='inner')\n",
    "\n",
    "# Show\n",
    "print(data_withveg_alcaldias.shape)\n",
    "data_withveg_alcaldias.head(2)"
   ]
  },
  {
   "cell_type": "markdown",
   "id": "73df385c-fe41-4dd6-a0a2-b35d5ff51750",
   "metadata": {},
   "source": [
    "## 2. Load NDMI"
   ]
  },
  {
   "cell_type": "markdown",
   "id": "224d6f20-5175-4d27-84d1-79a6245a6207",
   "metadata": {},
   "source": [
    "### Load NDMI db data (using city, res and tupple of months of analysis)"
   ]
  },
  {
   "cell_type": "code",
   "execution_count": 20,
   "id": "106f4ac2-9503-43da-ad11-8d66314a1255",
   "metadata": {},
   "outputs": [
    {
     "name": "stdout",
     "output_type": "stream",
     "text": [
      "(1911910, 6)\n"
     ]
    },
    {
     "data": {
      "text/html": [
       "<div>\n",
       "<style scoped>\n",
       "    .dataframe tbody tr th:only-of-type {\n",
       "        vertical-align: middle;\n",
       "    }\n",
       "\n",
       "    .dataframe tbody tr th {\n",
       "        vertical-align: top;\n",
       "    }\n",
       "\n",
       "    .dataframe thead th {\n",
       "        text-align: right;\n",
       "    }\n",
       "</style>\n",
       "<table border=\"1\" class=\"dataframe\">\n",
       "  <thead>\n",
       "    <tr style=\"text-align: right;\">\n",
       "      <th></th>\n",
       "      <th>hex_id</th>\n",
       "      <th>res</th>\n",
       "      <th>ndmi</th>\n",
       "      <th>month</th>\n",
       "      <th>year</th>\n",
       "      <th>city</th>\n",
       "    </tr>\n",
       "  </thead>\n",
       "  <tbody>\n",
       "    <tr>\n",
       "      <th>0</th>\n",
       "      <td>8a4995840157fff</td>\n",
       "      <td>10</td>\n",
       "      <td>0.003095</td>\n",
       "      <td>1</td>\n",
       "      <td>2018</td>\n",
       "      <td>CDMX</td>\n",
       "    </tr>\n",
       "    <tr>\n",
       "      <th>1</th>\n",
       "      <td>8a4995862907fff</td>\n",
       "      <td>10</td>\n",
       "      <td>0.003396</td>\n",
       "      <td>1</td>\n",
       "      <td>2018</td>\n",
       "      <td>CDMX</td>\n",
       "    </tr>\n",
       "  </tbody>\n",
       "</table>\n",
       "</div>"
      ],
      "text/plain": [
       "            hex_id  res      ndmi  month  year  city\n",
       "0  8a4995840157fff   10  0.003095      1  2018  CDMX\n",
       "1  8a4995862907fff   10  0.003396      1  2018  CDMX"
      ]
     },
     "execution_count": 20,
     "metadata": {},
     "output_type": "execute_result"
    }
   ],
   "source": [
    "# Complete dataset NDMI res 10 data \n",
    "complete_ndmi_schema = 'raster_analysis'\n",
    "complete_ndmi_table = 'ndmi_complete_dataset_hex'\n",
    "res = 10\n",
    "\n",
    "# OPTION A - Downloading complete dataset and then filtering for months of interest (aprox. 700-1000s)\n",
    "#query = f\"SELECT * FROM {complete_ndmi_schema}.{complete_ndmi_table} WHERE \\\"city\\\" LIKE \\'{city}\\' AND \\\"res\\\"={res}\"\n",
    "#complete_ndmi_res10 = aup.df_from_query(query)\n",
    "#months_ofinterest = [1,2,3,4,5]\n",
    "#complete_ndmi_res10_f = complete_ndmi_res10.loc[complete_ndmi_res10.month.isin(months_ofinterest)]\n",
    "\n",
    "# OPTION B - Using hex_lsts and quering with tupple (First time 3494s, second time 3409s)\n",
    "#hexs_lst = list(data_withveg_alcaldias.hex_id.unique())\n",
    "#query = f\"SELECT * FROM {complete_ndmi_schema}.{complete_ndmi_table} WHERE \\\"city\\\" LIKE \\'{city}\\' AND \\\"res\\\"={res} AND \\\"hex_id\\\" IN {str(tuple(hexs_lst))}\"\n",
    "#complete_ndmi_res10 = aup.df_from_query(query)\n",
    "\n",
    "# OPTION C - Downloading complete dataset filtering for months of interest in query (806s)\n",
    "months_ofinterest = [1,2,3,4,5]\n",
    "query = f\"SELECT * FROM {complete_ndmi_schema}.{complete_ndmi_table} WHERE \\\"city\\\" LIKE \\'{city}\\' AND \\\"res\\\"={res} AND \\\"month\\\" IN {str(tuple(months_ofinterest))}\"\n",
    "complete_ndmi_res10 = aup.df_from_query(query)\n",
    "\n",
    "# Show\n",
    "print(complete_ndmi_res10.shape)\n",
    "complete_ndmi_res10.head(2)"
   ]
  },
  {
   "cell_type": "markdown",
   "id": "4ab13f08-03e0-453a-a0e8-1f37d1ecf7ee",
   "metadata": {},
   "source": [
    "### Load NDMI local data (2024)"
   ]
  },
  {
   "cell_type": "code",
   "execution_count": 21,
   "id": "93d39c09-211d-4e3c-ae45-0cc60ab2378c",
   "metadata": {},
   "outputs": [
    {
     "name": "stdout",
     "output_type": "stream",
     "text": [
      "(2090581, 4)\n"
     ]
    },
    {
     "data": {
      "text/html": [
       "<div>\n",
       "<style scoped>\n",
       "    .dataframe tbody tr th:only-of-type {\n",
       "        vertical-align: middle;\n",
       "    }\n",
       "\n",
       "    .dataframe tbody tr th {\n",
       "        vertical-align: top;\n",
       "    }\n",
       "\n",
       "    .dataframe thead th {\n",
       "        text-align: right;\n",
       "    }\n",
       "</style>\n",
       "<table border=\"1\" class=\"dataframe\">\n",
       "  <thead>\n",
       "    <tr style=\"text-align: right;\">\n",
       "      <th></th>\n",
       "      <th>hex_id</th>\n",
       "      <th>ndmi</th>\n",
       "      <th>month</th>\n",
       "      <th>year</th>\n",
       "    </tr>\n",
       "  </thead>\n",
       "  <tbody>\n",
       "    <tr>\n",
       "      <th>0</th>\n",
       "      <td>8a4995840157fff</td>\n",
       "      <td>0.003095</td>\n",
       "      <td>1</td>\n",
       "      <td>2018</td>\n",
       "    </tr>\n",
       "    <tr>\n",
       "      <th>1</th>\n",
       "      <td>8a4995862907fff</td>\n",
       "      <td>0.003396</td>\n",
       "      <td>1</td>\n",
       "      <td>2018</td>\n",
       "    </tr>\n",
       "  </tbody>\n",
       "</table>\n",
       "</div>"
      ],
      "text/plain": [
       "            hex_id      ndmi  month  year\n",
       "0  8a4995840157fff  0.003095      1  2018\n",
       "1  8a4995862907fff  0.003396      1  2018"
      ]
     },
     "execution_count": 21,
     "metadata": {},
     "output_type": "execute_result"
    }
   ],
   "source": [
    "# Load NDMI local data (2024)\n",
    "y2024_ndmi_res10 = pd.read_csv(\"../../../data/processed/tmp_ndmi/local_save/CDMX_ndmi_HexRes10_v0.csv\")\n",
    "\n",
    "# Merge with db data (2018-2023)\n",
    "complete_ndmi_res10_concat = pd.concat([complete_ndmi_res10,y2024_ndmi_res10])\n",
    "\n",
    "# Shorten data\n",
    "complete_ndmi_res10_f = complete_ndmi_res10_concat[['hex_id','ndmi','month','year']]\n",
    "\n",
    "# Show\n",
    "print(complete_ndmi_res10_f.shape)\n",
    "complete_ndmi_res10_f.head(2)"
   ]
  },
  {
   "cell_type": "markdown",
   "id": "f119a0c4-db41-4143-8ba6-237170965104",
   "metadata": {},
   "source": [
    "## Data treatment"
   ]
  },
  {
   "cell_type": "markdown",
   "id": "69247025-a525-406c-add5-5c377e13b08a",
   "metadata": {},
   "source": [
    "### Data treatment - Merge ndmi for places with Data with veg (NDVI) + alcaldías (hex_gdf)"
   ]
  },
  {
   "cell_type": "code",
   "execution_count": 30,
   "id": "125afd2e-cb26-422f-a748-e1857bc5ebaf",
   "metadata": {},
   "outputs": [
    {
     "name": "stdout",
     "output_type": "stream",
     "text": [
      "(685308, 8)\n"
     ]
    },
    {
     "data": {
      "text/html": [
       "<div>\n",
       "<style scoped>\n",
       "    .dataframe tbody tr th:only-of-type {\n",
       "        vertical-align: middle;\n",
       "    }\n",
       "\n",
       "    .dataframe tbody tr th {\n",
       "        vertical-align: top;\n",
       "    }\n",
       "\n",
       "    .dataframe thead th {\n",
       "        text-align: right;\n",
       "    }\n",
       "</style>\n",
       "<table border=\"1\" class=\"dataframe\">\n",
       "  <thead>\n",
       "    <tr style=\"text-align: right;\">\n",
       "      <th></th>\n",
       "      <th>hex_id</th>\n",
       "      <th>ndvi_median</th>\n",
       "      <th>ndvi_median_rango</th>\n",
       "      <th>NOMGEO</th>\n",
       "      <th>geometry</th>\n",
       "      <th>ndmi</th>\n",
       "      <th>month</th>\n",
       "      <th>year</th>\n",
       "    </tr>\n",
       "  </thead>\n",
       "  <tbody>\n",
       "    <tr>\n",
       "      <th>0</th>\n",
       "      <td>8a4995baa54ffff</td>\n",
       "      <td>0.227384</td>\n",
       "      <td>Mínima densidad vegetal</td>\n",
       "      <td>Azcapotzalco</td>\n",
       "      <td>POLYGON ((-99.17993 19.46078, -99.17929 19.461...</td>\n",
       "      <td>0.052318</td>\n",
       "      <td>1</td>\n",
       "      <td>2018</td>\n",
       "    </tr>\n",
       "    <tr>\n",
       "      <th>1</th>\n",
       "      <td>8a4995baa54ffff</td>\n",
       "      <td>0.227384</td>\n",
       "      <td>Mínima densidad vegetal</td>\n",
       "      <td>Azcapotzalco</td>\n",
       "      <td>POLYGON ((-99.17993 19.46078, -99.17929 19.461...</td>\n",
       "      <td>0.026677</td>\n",
       "      <td>2</td>\n",
       "      <td>2018</td>\n",
       "    </tr>\n",
       "  </tbody>\n",
       "</table>\n",
       "</div>"
      ],
      "text/plain": [
       "            hex_id  ndvi_median        ndvi_median_rango        NOMGEO  \\\n",
       "0  8a4995baa54ffff     0.227384  Mínima densidad vegetal  Azcapotzalco   \n",
       "1  8a4995baa54ffff     0.227384  Mínima densidad vegetal  Azcapotzalco   \n",
       "\n",
       "                                            geometry      ndmi  month  year  \n",
       "0  POLYGON ((-99.17993 19.46078, -99.17929 19.461...  0.052318      1  2018  \n",
       "1  POLYGON ((-99.17993 19.46078, -99.17929 19.461...  0.026677      2  2018  "
      ]
     },
     "execution_count": 30,
     "metadata": {},
     "output_type": "execute_result"
    }
   ],
   "source": [
    "# Inner merge to keep ndmi data for hexs with vegetation only\n",
    "ndvi_ndmi_gdf = data_withveg_alcaldias.merge(complete_ndmi_res10_f, on='hex_id',how='inner')\n",
    "\n",
    "# Show\n",
    "print(ndvi_ndmi_gdf.shape)\n",
    "ndvi_ndmi_gdf.head(2)"
   ]
  },
  {
   "cell_type": "markdown",
   "id": "58dcaeb6-1803-4bfc-aae7-0964a2affeae",
   "metadata": {},
   "source": [
    "## Data analysis"
   ]
  },
  {
   "cell_type": "markdown",
   "id": "80d4181b-3ec3-4826-bdd8-aac6b1ce8904",
   "metadata": {},
   "source": [
    "### Método elegido - Group by + transform data"
   ]
  },
  {
   "cell_type": "code",
   "execution_count": 33,
   "id": "f30238a2-a44d-486b-96d8-23136d5d4921",
   "metadata": {},
   "outputs": [
    {
     "data": {
      "text/html": [
       "<div>\n",
       "<style scoped>\n",
       "    .dataframe tbody tr th:only-of-type {\n",
       "        vertical-align: middle;\n",
       "    }\n",
       "\n",
       "    .dataframe tbody tr th {\n",
       "        vertical-align: top;\n",
       "    }\n",
       "\n",
       "    .dataframe thead th {\n",
       "        text-align: right;\n",
       "    }\n",
       "</style>\n",
       "<table border=\"1\" class=\"dataframe\">\n",
       "  <thead>\n",
       "    <tr style=\"text-align: right;\">\n",
       "      <th></th>\n",
       "      <th>hex_id</th>\n",
       "      <th>NOMGEO</th>\n",
       "      <th>geometry</th>\n",
       "      <th>ene-may_2018</th>\n",
       "      <th>ene-may_2019</th>\n",
       "      <th>ene-may_2020</th>\n",
       "      <th>ene-may_2021</th>\n",
       "      <th>ene-may_2022</th>\n",
       "      <th>ene-may_2023</th>\n",
       "      <th>ene-mar_2024</th>\n",
       "    </tr>\n",
       "  </thead>\n",
       "  <tbody>\n",
       "    <tr>\n",
       "      <th>0</th>\n",
       "      <td>8a4995baa717fff</td>\n",
       "      <td>Azcapotzalco</td>\n",
       "      <td>POLYGON ((-99.18024 19.46519, -99.17960 19.465...</td>\n",
       "      <td>-0.008770</td>\n",
       "      <td>-0.002428</td>\n",
       "      <td>0.008519</td>\n",
       "      <td>0.009721</td>\n",
       "      <td>0.007028</td>\n",
       "      <td>-0.004918</td>\n",
       "      <td>0.006914</td>\n",
       "    </tr>\n",
       "    <tr>\n",
       "      <th>1</th>\n",
       "      <td>8a4995b8d127fff</td>\n",
       "      <td>Azcapotzalco</td>\n",
       "      <td>POLYGON ((-99.20317 19.49340, -99.20252 19.493...</td>\n",
       "      <td>-0.006598</td>\n",
       "      <td>-0.012327</td>\n",
       "      <td>-0.003472</td>\n",
       "      <td>-0.002361</td>\n",
       "      <td>0.000324</td>\n",
       "      <td>-0.005756</td>\n",
       "      <td>0.008008</td>\n",
       "    </tr>\n",
       "    <tr>\n",
       "      <th>2</th>\n",
       "      <td>8a4995b8d6cffff</td>\n",
       "      <td>Azcapotzalco</td>\n",
       "      <td>POLYGON ((-99.19828 19.51041, -99.19764 19.510...</td>\n",
       "      <td>0.112508</td>\n",
       "      <td>0.101392</td>\n",
       "      <td>0.116706</td>\n",
       "      <td>0.088631</td>\n",
       "      <td>0.071353</td>\n",
       "      <td>0.044760</td>\n",
       "      <td>0.060282</td>\n",
       "    </tr>\n",
       "    <tr>\n",
       "      <th>3</th>\n",
       "      <td>8a4995b88917fff</td>\n",
       "      <td>Azcapotzalco</td>\n",
       "      <td>POLYGON ((-99.18241 19.49608, -99.18176 19.496...</td>\n",
       "      <td>0.005180</td>\n",
       "      <td>0.001407</td>\n",
       "      <td>0.022297</td>\n",
       "      <td>0.019935</td>\n",
       "      <td>0.019966</td>\n",
       "      <td>0.017149</td>\n",
       "      <td>0.036497</td>\n",
       "    </tr>\n",
       "    <tr>\n",
       "      <th>4</th>\n",
       "      <td>8a4995b8dc0ffff</td>\n",
       "      <td>Azcapotzalco</td>\n",
       "      <td>POLYGON ((-99.19764 19.49160, -99.19699 19.492...</td>\n",
       "      <td>0.054052</td>\n",
       "      <td>0.052798</td>\n",
       "      <td>0.077064</td>\n",
       "      <td>0.059224</td>\n",
       "      <td>0.048709</td>\n",
       "      <td>0.040947</td>\n",
       "      <td>0.061001</td>\n",
       "    </tr>\n",
       "    <tr>\n",
       "      <th>...</th>\n",
       "      <td>...</td>\n",
       "      <td>...</td>\n",
       "      <td>...</td>\n",
       "      <td>...</td>\n",
       "      <td>...</td>\n",
       "      <td>...</td>\n",
       "      <td>...</td>\n",
       "      <td>...</td>\n",
       "      <td>...</td>\n",
       "      <td>...</td>\n",
       "    </tr>\n",
       "    <tr>\n",
       "      <th>20696</th>\n",
       "      <td>8a4995b8640ffff</td>\n",
       "      <td>Venustiano Carranza</td>\n",
       "      <td>POLYGON ((-99.11389 19.44359, -99.11324 19.444...</td>\n",
       "      <td>0.028383</td>\n",
       "      <td>0.024993</td>\n",
       "      <td>0.037698</td>\n",
       "      <td>0.039310</td>\n",
       "      <td>0.035020</td>\n",
       "      <td>0.019361</td>\n",
       "      <td>0.029675</td>\n",
       "    </tr>\n",
       "    <tr>\n",
       "      <th>20697</th>\n",
       "      <td>8a4995bb3d57fff</td>\n",
       "      <td>Venustiano Carranza</td>\n",
       "      <td>POLYGON ((-99.09936 19.41918, -99.09872 19.419...</td>\n",
       "      <td>0.054442</td>\n",
       "      <td>0.058805</td>\n",
       "      <td>0.079736</td>\n",
       "      <td>0.076332</td>\n",
       "      <td>0.059195</td>\n",
       "      <td>0.041614</td>\n",
       "      <td>0.067589</td>\n",
       "    </tr>\n",
       "    <tr>\n",
       "      <th>20698</th>\n",
       "      <td>8a4995bb1597fff</td>\n",
       "      <td>Venustiano Carranza</td>\n",
       "      <td>POLYGON ((-99.11205 19.41712, -99.11140 19.417...</td>\n",
       "      <td>0.021455</td>\n",
       "      <td>0.009891</td>\n",
       "      <td>0.021921</td>\n",
       "      <td>0.022106</td>\n",
       "      <td>0.021361</td>\n",
       "      <td>0.007051</td>\n",
       "      <td>0.026583</td>\n",
       "    </tr>\n",
       "    <tr>\n",
       "      <th>20699</th>\n",
       "      <td>8a4995b9404ffff</td>\n",
       "      <td>Venustiano Carranza</td>\n",
       "      <td>POLYGON ((-99.08328 19.44035, -99.08263 19.440...</td>\n",
       "      <td>0.029761</td>\n",
       "      <td>0.022099</td>\n",
       "      <td>0.026645</td>\n",
       "      <td>-0.001299</td>\n",
       "      <td>0.018281</td>\n",
       "      <td>-0.005237</td>\n",
       "      <td>0.010217</td>\n",
       "    </tr>\n",
       "    <tr>\n",
       "      <th>20700</th>\n",
       "      <td>8a4995bb0317fff</td>\n",
       "      <td>Venustiano Carranza</td>\n",
       "      <td>POLYGON ((-99.11009 19.40839, -99.10944 19.408...</td>\n",
       "      <td>0.115661</td>\n",
       "      <td>0.105465</td>\n",
       "      <td>0.100974</td>\n",
       "      <td>0.039773</td>\n",
       "      <td>0.073669</td>\n",
       "      <td>0.024491</td>\n",
       "      <td>0.033611</td>\n",
       "    </tr>\n",
       "  </tbody>\n",
       "</table>\n",
       "<p>20701 rows × 10 columns</p>\n",
       "</div>"
      ],
      "text/plain": [
       "                hex_id               NOMGEO  \\\n",
       "0      8a4995baa717fff         Azcapotzalco   \n",
       "1      8a4995b8d127fff         Azcapotzalco   \n",
       "2      8a4995b8d6cffff         Azcapotzalco   \n",
       "3      8a4995b88917fff         Azcapotzalco   \n",
       "4      8a4995b8dc0ffff         Azcapotzalco   \n",
       "...                ...                  ...   \n",
       "20696  8a4995b8640ffff  Venustiano Carranza   \n",
       "20697  8a4995bb3d57fff  Venustiano Carranza   \n",
       "20698  8a4995bb1597fff  Venustiano Carranza   \n",
       "20699  8a4995b9404ffff  Venustiano Carranza   \n",
       "20700  8a4995bb0317fff  Venustiano Carranza   \n",
       "\n",
       "                                                geometry  ene-may_2018  \\\n",
       "0      POLYGON ((-99.18024 19.46519, -99.17960 19.465...     -0.008770   \n",
       "1      POLYGON ((-99.20317 19.49340, -99.20252 19.493...     -0.006598   \n",
       "2      POLYGON ((-99.19828 19.51041, -99.19764 19.510...      0.112508   \n",
       "3      POLYGON ((-99.18241 19.49608, -99.18176 19.496...      0.005180   \n",
       "4      POLYGON ((-99.19764 19.49160, -99.19699 19.492...      0.054052   \n",
       "...                                                  ...           ...   \n",
       "20696  POLYGON ((-99.11389 19.44359, -99.11324 19.444...      0.028383   \n",
       "20697  POLYGON ((-99.09936 19.41918, -99.09872 19.419...      0.054442   \n",
       "20698  POLYGON ((-99.11205 19.41712, -99.11140 19.417...      0.021455   \n",
       "20699  POLYGON ((-99.08328 19.44035, -99.08263 19.440...      0.029761   \n",
       "20700  POLYGON ((-99.11009 19.40839, -99.10944 19.408...      0.115661   \n",
       "\n",
       "       ene-may_2019  ene-may_2020  ene-may_2021  ene-may_2022  ene-may_2023  \\\n",
       "0         -0.002428      0.008519      0.009721      0.007028     -0.004918   \n",
       "1         -0.012327     -0.003472     -0.002361      0.000324     -0.005756   \n",
       "2          0.101392      0.116706      0.088631      0.071353      0.044760   \n",
       "3          0.001407      0.022297      0.019935      0.019966      0.017149   \n",
       "4          0.052798      0.077064      0.059224      0.048709      0.040947   \n",
       "...             ...           ...           ...           ...           ...   \n",
       "20696      0.024993      0.037698      0.039310      0.035020      0.019361   \n",
       "20697      0.058805      0.079736      0.076332      0.059195      0.041614   \n",
       "20698      0.009891      0.021921      0.022106      0.021361      0.007051   \n",
       "20699      0.022099      0.026645     -0.001299      0.018281     -0.005237   \n",
       "20700      0.105465      0.100974      0.039773      0.073669      0.024491   \n",
       "\n",
       "       ene-mar_2024  \n",
       "0          0.006914  \n",
       "1          0.008008  \n",
       "2          0.060282  \n",
       "3          0.036497  \n",
       "4          0.061001  \n",
       "...             ...  \n",
       "20696      0.029675  \n",
       "20697      0.067589  \n",
       "20698      0.026583  \n",
       "20699      0.010217  \n",
       "20700      0.033611  \n",
       "\n",
       "[20701 rows x 10 columns]"
      ]
     },
     "execution_count": 33,
     "metadata": {},
     "output_type": "execute_result"
    }
   ],
   "source": [
    "# Isolate categories and data\n",
    "data_analysis = ndvi_ndmi_gdf[['hex_id','year','ndmi']].copy()\n",
    "\n",
    "# Group by\n",
    "grouped_by = data_analysis.groupby(['hex_id','year']).mean()\n",
    "grouped_by.reset_index(inplace=True)\n",
    "\n",
    "# Transform data\n",
    "# GDF with unique rows for each geometry (hex)\n",
    "mean_ndmi_bydate = hex_gdf_f.copy()\n",
    "\n",
    "# Loop that transforms data to columns\n",
    "for year in grouped_by.year.unique():\n",
    "    \n",
    "    # Isolate new column data (In this case, year)\n",
    "    idx = grouped_by.year == year\n",
    "    df_tmp = grouped_by.loc[idx,['hex_id','ndmi']].copy()\n",
    "    \n",
    "    # Assign as column name (In this case, year)\n",
    "    if year == 2024:\n",
    "        df_tmp = df_tmp.rename(columns={'ndmi':f\"ene-mar_{year}\"})\n",
    "    else:\n",
    "        df_tmp = df_tmp.rename(columns={'ndmi':f\"ene-may_{year}\"})\n",
    "    \n",
    "    # Merge to gdf with unique geometry IDs (In this case, hex_id)\n",
    "    mean_ndmi_bydate = mean_ndmi_bydate.merge(df_tmp, on='hex_id',how='inner')\n",
    "\n",
    "mean_ndmi_bydate"
   ]
  },
  {
   "cell_type": "markdown",
   "id": "e14a33cf-93ce-4c71-8a7c-a5c513b27e4a",
   "metadata": {
    "jp-MarkdownHeadingCollapsed": true
   },
   "source": [
    "### Método 1 - 1425s"
   ]
  },
  {
   "cell_type": "code",
   "execution_count": 12,
   "id": "a9819b42-2124-44b6-8c07-f7c3cff19b56",
   "metadata": {},
   "outputs": [],
   "source": [
    "metodo_1 = False"
   ]
  },
  {
   "cell_type": "code",
   "execution_count": 13,
   "id": "f8f4d8dd-254c-4fc1-879f-b50380265aa4",
   "metadata": {},
   "outputs": [],
   "source": [
    "if metodo_1:\n",
    "    mean_ndmi_bydate = hex_gdf_f.copy()\n",
    "    \n",
    "    i = 0\n",
    "    for year in data_withveg_alcaldias.year.unique():\n",
    "        for month in data_withveg_alcaldias.month.unique():\n",
    "            for alcaldia in data_withveg_alcaldias.NOMGEO.unique():\n",
    "    \n",
    "                print(f\"Calculating mean ndmi in {alcaldia} date {month}/{year}.\")\n",
    "                    \n",
    "                data_df = data_withveg_alcaldias.loc[(data_withveg_alcaldias.year == year) &\n",
    "                                                     (data_withveg_alcaldias.month == month) &\n",
    "                                                     (data_withveg_alcaldias.NOMGEO == alcaldia)].copy()\n",
    "    \n",
    "                for hex_id in data_df['hex_id'].unique():\n",
    "                    # Get each mean hex_id data for current year, month and alcaldía\n",
    "                    hex_data = data_df.loc[data_df['hex_id'] == hex_id].copy()\n",
    "                    mean_ndmi = hex_data['ndmi'].mean()\n",
    "                    # Register data\n",
    "                    idx = mean_ndmi_bydate['hex_id'] == hex_id\n",
    "                    mean_ndmi_bydate.loc[idx,f\"{year}_{month}\"] = mean_ndmi\n",
    "    \n",
    "    # Show\n",
    "    print(mean_ndmi_bydate.shape)\n",
    "    mean_ndmi_bydate.head(2)"
   ]
  },
  {
   "cell_type": "markdown",
   "id": "3784f15f-f651-4dee-8110-c538fe8597d9",
   "metadata": {
    "jp-MarkdownHeadingCollapsed": true
   },
   "source": [
    "### Método 2 - Transform data to columns and calculate mean on row axis (Canceled)"
   ]
  },
  {
   "cell_type": "code",
   "execution_count": 14,
   "id": "4578e3ed-6690-4890-a3bb-b7b62e8dc722",
   "metadata": {},
   "outputs": [],
   "source": [
    "metodo_2 = False"
   ]
  },
  {
   "cell_type": "code",
   "execution_count": 15,
   "id": "a2d2810e-5dc0-4955-8eae-e70ac9b0ab09",
   "metadata": {},
   "outputs": [],
   "source": [
    "if metodo_2:\n",
    "    data_analysis = data_withveg_alcaldias.copy()\n",
    "    # Create date column\n",
    "    data_analysis['year'] = data_analysis['year'].astype('str')\n",
    "    data_analysis['month'] = data_analysis['month'].astype('str') \n",
    "    data_analysis['date'] =  data_analysis['year'] + \"_\"+ data_analysis['month']\n",
    "    # Drop columns no longer in use\n",
    "    data_analysis.drop(columns=['ndvi_median','ndvi_median_rango','month','year'],inplace=True)\n",
    "    \n",
    "    # Show\n",
    "    print(data_analysis.shape)\n",
    "    data_analysis.head(2)"
   ]
  },
  {
   "cell_type": "code",
   "execution_count": 16,
   "id": "3af98ae8-b58f-4520-90ba-29956cfb2205",
   "metadata": {},
   "outputs": [],
   "source": [
    "if metodo_2:\n",
    "    # TRANSFORM DATA FROM MULTIPLE ROWS TO COLUMNS\n",
    "    ######################################################################### CÓDIGO BASE PARA REPOSICIONAR DATOS (Script 15-15min-cities)\n",
    "    # delete duplicates and keep only one point for each node\n",
    "    #nodes_geom = nodes.drop_duplicates(subset='osmid', keep=\"last\")[['osmid','geometry','metropolis']].copy()\n",
    "    #nodes_analysis = nodes_geom.copy()\n",
    "    \n",
    "    # relate time data to each point\n",
    "    #for amenidad in list(nodes.amenity.unique()):\n",
    "    \n",
    "    #    nodes_tmp = nodes.loc[nodes.amenity == amenidad,['osmid','time']]\n",
    "    #    nodes_tmp = nodes_tmp.rename(columns={'time':amenidad})\n",
    "    \n",
    "    #    if nodes_tmp[amenidad].mean() == 0:\n",
    "    #        nodes_tmp[amenidad] = np.nan\n",
    "    \n",
    "    #    nodes_analysis = nodes_analysis.merge(nodes_tmp, on='osmid')\n",
    "    \n",
    "    ######################################################################### PARA ESTE CÓDIGO\n",
    "    #nodes_analysis (gdf con 1 row para cada geometría) --> proviene de data_analysis \n",
    "    #amenidad --> date (lo que serán las columnas en el nuevo gdf)\n",
    "    #osmid --> hex_id (columna de ID de las geometrías)\n",
    "    #time --> ndmi (columna con datos a reposicionar)\n",
    "    \n",
    "    ######################################################################### APLICACIÓN\n",
    "    # GDF with unique rows for each geometry\n",
    "    mean_ndmi_bydate = data_analysis.drop_duplicates(subset='hex_id', keep='last')[['hex_id','geometry','NOMGEO']].copy()\n",
    "    \n",
    "    # Loop that transforms data\n",
    "    for date in data_analysis.date.unique():\n",
    "        \n",
    "        # Isolate new column data (In this case, date)\n",
    "        idx = data_analysis.date == date\n",
    "        df_tmp = data_analysis.loc[idx,['hex_id','ndmi']].copy()\n",
    "        \n",
    "        # Assign as column name (In this case, date)\n",
    "        df_tmp = df_tmp.rename(columns={'ndmi':date})\n",
    "        \n",
    "        # Merge to gdf with unique geometry IDs (In this case, hex_id)\n",
    "        mean_ndmi_bydate = mean_ndmi_bydate.merge(df_tmp, on='hex_id',how='inner')\n",
    "    \n",
    "    mean_ndmi_bydate"
   ]
  },
  {
   "cell_type": "markdown",
   "id": "6f0d9c24-e962-49c1-8926-3b96ede1d7e3",
   "metadata": {
    "jp-MarkdownHeadingCollapsed": true
   },
   "source": [
    "## Final processing (Canceled, categorizing NDMI from NDVI values is too complex)"
   ]
  },
  {
   "cell_type": "markdown",
   "id": "615ab0c8-292c-4a3c-af19-bc031943e6d9",
   "metadata": {},
   "source": [
    "NDMI Interpretation\n",
    "* -1 – -0.8 Bare soil,\n",
    "* -0.8 – -0.6 Almost absent canopy cover,\n",
    "* -0.6 – -0.4 Very low canopy cover,\n",
    "* -0.4 – -0.2 Low canopy cover, dry or very low canopy cover, wet,\n",
    "* -0.2 – 0 Mid-low canopy cover, high water stress or low canopy cover, low water stress,\n",
    "* 0 – 0.2 Average canopy cover, high water stress or mid-low canopy cover, low water stress,\n",
    "* 0.2 – 0.4 Mid-high canopy cover, high water stress or average canopy cover, low water stress,\n",
    "* 0.4 – 0.6 High canopy cover, no water stress,\n",
    "* 0.6 – 0.8 Very high canopy cover, no water stress,\n",
    "* 0.8 – 1 Total canopy cover, no water stress/waterlogging\n",
    "\n",
    "Current output_gdf canopy cover will be interpreted the following way:\n",
    "* 'Mínima densidad vegetal' --> Almost absent canopy cover, very low canopy cover, low canopy cover\n",
    "* 'Moderada densidad vegetal' --> Mid-low canopy cover, Average canopy cover, Mid-high canopy cover\n",
    "* ' Alta densidad vegetal' --> High canopy cover, very high canopy cover, Total canopy cover"
   ]
  },
  {
   "cell_type": "markdown",
   "id": "a91af724-346a-4114-b0cf-778194978cf6",
   "metadata": {},
   "source": [
    "### [Canceled] Create NDMI Categories - Merge NDVI categories data"
   ]
  },
  {
   "cell_type": "code",
   "execution_count": 41,
   "id": "edcfb116-fc1f-49cd-b565-039284b7e531",
   "metadata": {},
   "outputs": [],
   "source": [
    "#output_gdf = mean_ndmi_bydate.merge(data_withveg_alcaldias[['hex_id','ndvi_median_rango']],on='hex_id',how='inner')\n",
    "\n",
    "# Show\n",
    "#print(output_gdf.shape)\n",
    "#output_gdf.head(2)"
   ]
  },
  {
   "cell_type": "code",
   "execution_count": 42,
   "id": "a31f3575-f74f-4506-b5b9-2879c1c58783",
   "metadata": {},
   "outputs": [],
   "source": [
    "#analysis_cols = list(mean_ndmi_bydate.columns)\n",
    "#analysis_cols.remove('hex_id')\n",
    "#analysis_cols.remove('NOMGEO')\n",
    "#analysis_cols.remove('geometry')\n",
    "#analysis_cols"
   ]
  },
  {
   "cell_type": "code",
   "execution_count": 43,
   "id": "dae0df43-b448-4ce2-aea2-24721198e781",
   "metadata": {},
   "outputs": [],
   "source": [
    "# Test apply function\n",
    "#test_gdf = output_gdf.copy()\n",
    "\n",
    "### Create NDMI Categories b) apply function according to each value.\n",
    "#def splitname(row):\n",
    "#    row['First']=row['ndvi_median_rango'].split(\" \")[0]\n",
    "#    row['Second']=row['ndvi_median_rango'].split(\" \")[1]\n",
    "#    row['Last']=row['ndvi_median_rango'].split(\" \")[2]\n",
    "#    return row\n",
    "    \n",
    "#Aplicar la función\n",
    "#test_gdf = test_gdf.apply(splitname, axis='columns')\n",
    "#test_gdf"
   ]
  },
  {
   "cell_type": "code",
   "execution_count": 44,
   "id": "ad0ef1d8-fa24-497a-9fb3-c26c2926abb1",
   "metadata": {},
   "outputs": [],
   "source": [
    "# Apply function that categorizes NDMI\n",
    "#def categorize_ndmi(row):\n",
    "#    if row['ndvi_median_rango'] == 'Mínima densidad vegetal':\n",
    "#        if row[ndmi_col] < -0.4:\n",
    "#            row[f\"{ndmi_col}_cat\"] = 'Almost absent or very low canopy cover\"       "
   ]
  },
  {
   "cell_type": "markdown",
   "id": "7a3391f2-4449-4b37-b114-a6f63ae60def",
   "metadata": {},
   "source": [
    "## Save"
   ]
  },
  {
   "cell_type": "code",
   "execution_count": 34,
   "id": "e69c274d-09fc-410a-bcb7-b7a2fa017b57",
   "metadata": {},
   "outputs": [],
   "source": [
    "save_dir = f'../../../data/external/temporal_fromjupyter/'\n",
    "mean_ndmi_bydate.to_file(save_dir+\"cutzamala/cdmx_enemay_ndmi.gpkg\")"
   ]
  },
  {
   "cell_type": "code",
   "execution_count": null,
   "id": "9a99bd63-efab-4660-842e-3f07c6cb8e71",
   "metadata": {},
   "outputs": [],
   "source": []
  }
 ],
 "metadata": {
  "kernelspec": {
   "display_name": "GDS-10.0",
   "language": "python",
   "name": "gds"
  },
  "language_info": {
   "codemirror_mode": {
    "name": "ipython",
    "version": 3
   },
   "file_extension": ".py",
   "mimetype": "text/x-python",
   "name": "python",
   "nbconvert_exporter": "python",
   "pygments_lexer": "ipython3",
   "version": "3.9.18"
  }
 },
 "nbformat": 4,
 "nbformat_minor": 5
}
