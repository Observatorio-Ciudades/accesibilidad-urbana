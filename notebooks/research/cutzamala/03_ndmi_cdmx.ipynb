{
 "cells": [
  {
   "cell_type": "markdown",
   "id": "6fc4f582-94ec-46fc-94b7-0fe0cd3791b1",
   "metadata": {},
   "source": [
    "## Import libraries"
   ]
  },
  {
   "cell_type": "code",
   "execution_count": 1,
   "id": "a974aa7f-fb72-42eb-8abf-5dce31633bcc",
   "metadata": {},
   "outputs": [
    {
     "name": "stderr",
     "output_type": "stream",
     "text": [
      "/home/jovyan/accesibilidad-urbana/aup/data.py:25: UserWarning: The `utils.config` function is deprecated and will be removed in a future release. Instead, use the `settings` module directly to configure a global setting's value. For example, `ox.settings.log_console=True`.\n",
      "  ox.config(\n"
     ]
    }
   ],
   "source": [
    "import os\n",
    "import sys\n",
    "\n",
    "import pandas as pd\n",
    "import geopandas as gpd\n",
    "import numpy as np\n",
    "\n",
    "import matplotlib.pyplot as plt\n",
    "from matplotlib import colors\n",
    "import seaborn as sns\n",
    "\n",
    "from pandas.api.types import CategoricalDtype\n",
    "\n",
    "import warnings\n",
    "warnings.simplefilter(action='ignore', category=FutureWarning)\n",
    "\n",
    "module_path = os.path.abspath(os.path.join('../../../'))\n",
    "if module_path not in sys.path:\n",
    "    sys.path.append(module_path)\n",
    "    import aup"
   ]
  },
  {
   "cell_type": "code",
   "execution_count": 2,
   "id": "879d44d6-f02e-462b-9aff-42e66d799c1a",
   "metadata": {},
   "outputs": [],
   "source": [
    "city = 'CDMX'"
   ]
  },
  {
   "cell_type": "markdown",
   "id": "0e1fcd00-30fb-497b-b4c5-3aa46e84d1c4",
   "metadata": {},
   "source": [
    "## Load NDVI, hex_gdf and create hexs of interest list (Hexs with vegetation in alcaldías of interest)"
   ]
  },
  {
   "cell_type": "markdown",
   "id": "79d68b49-4885-4230-a558-e0d4e5dfc62d",
   "metadata": {},
   "source": [
    "### Load data - Load NDVI"
   ]
  },
  {
   "cell_type": "code",
   "execution_count": 3,
   "id": "195d2679-bf9c-4940-acf5-7ff5a8425a11",
   "metadata": {},
   "outputs": [
    {
     "name": "stdout",
     "output_type": "stream",
     "text": [
      "(59557, 2)\n"
     ]
    },
    {
     "data": {
      "text/html": [
       "<div>\n",
       "<style scoped>\n",
       "    .dataframe tbody tr th:only-of-type {\n",
       "        vertical-align: middle;\n",
       "    }\n",
       "\n",
       "    .dataframe tbody tr th {\n",
       "        vertical-align: top;\n",
       "    }\n",
       "\n",
       "    .dataframe thead th {\n",
       "        text-align: right;\n",
       "    }\n",
       "</style>\n",
       "<table border=\"1\" class=\"dataframe\">\n",
       "  <thead>\n",
       "    <tr style=\"text-align: right;\">\n",
       "      <th></th>\n",
       "      <th>hex_id</th>\n",
       "      <th>ndvi_median</th>\n",
       "    </tr>\n",
       "  </thead>\n",
       "  <tbody>\n",
       "    <tr>\n",
       "      <th>0</th>\n",
       "      <td>8a4995b8cb57fff</td>\n",
       "      <td>0.108460</td>\n",
       "    </tr>\n",
       "    <tr>\n",
       "      <th>1</th>\n",
       "      <td>8a4995bab38ffff</td>\n",
       "      <td>0.149826</td>\n",
       "    </tr>\n",
       "  </tbody>\n",
       "</table>\n",
       "</div>"
      ],
      "text/plain": [
       "            hex_id  ndvi_median\n",
       "0  8a4995b8cb57fff     0.108460\n",
       "1  8a4995bab38ffff     0.149826"
      ]
     },
     "execution_count": 3,
     "metadata": {},
     "output_type": "execute_result"
    }
   ],
   "source": [
    "# Downloading NDVI res 10 data (aprox. 150-200s)\n",
    "ndvi_schema = 'raster_analysis'\n",
    "ndvi_table = 'ndvi_analysis_hex'\n",
    "res = 10\n",
    "\n",
    "query = f\"SELECT * FROM {ndvi_schema}.{ndvi_table} WHERE \\\"city\\\" LIKE \\'{city}\\' AND \\\"res\\\" = {res}\"\n",
    "ndvi_res10 = aup.gdf_from_query(query, geometry_col='geometry')\n",
    "\n",
    "# Shorten data\n",
    "ndvi_res10 = ndvi_res10[['hex_id','ndvi_median']]\n",
    "\n",
    "print(ndvi_res10.shape)\n",
    "ndvi_res10.head(2)"
   ]
  },
  {
   "cell_type": "markdown",
   "id": "85b89e8d-8273-4cac-8816-b7a55392f0f8",
   "metadata": {},
   "source": [
    "### NDVI Data treatment - Create vegetation categories"
   ]
  },
  {
   "cell_type": "code",
   "execution_count": 4,
   "id": "8ef6c793-817f-4fd6-bab1-7817901c658e",
   "metadata": {},
   "outputs": [
    {
     "name": "stdout",
     "output_type": "stream",
     "text": [
      "(59557, 3)\n"
     ]
    },
    {
     "data": {
      "text/html": [
       "<div>\n",
       "<style scoped>\n",
       "    .dataframe tbody tr th:only-of-type {\n",
       "        vertical-align: middle;\n",
       "    }\n",
       "\n",
       "    .dataframe tbody tr th {\n",
       "        vertical-align: top;\n",
       "    }\n",
       "\n",
       "    .dataframe thead th {\n",
       "        text-align: right;\n",
       "    }\n",
       "</style>\n",
       "<table border=\"1\" class=\"dataframe\">\n",
       "  <thead>\n",
       "    <tr style=\"text-align: right;\">\n",
       "      <th></th>\n",
       "      <th>hex_id</th>\n",
       "      <th>ndvi_median</th>\n",
       "      <th>ndvi_median_rango</th>\n",
       "    </tr>\n",
       "  </thead>\n",
       "  <tbody>\n",
       "    <tr>\n",
       "      <th>0</th>\n",
       "      <td>8a4995b8cb57fff</td>\n",
       "      <td>0.108460</td>\n",
       "      <td>Suelo</td>\n",
       "    </tr>\n",
       "    <tr>\n",
       "      <th>1</th>\n",
       "      <td>8a4995bab38ffff</td>\n",
       "      <td>0.149826</td>\n",
       "      <td>Suelo</td>\n",
       "    </tr>\n",
       "  </tbody>\n",
       "</table>\n",
       "</div>"
      ],
      "text/plain": [
       "            hex_id  ndvi_median ndvi_median_rango\n",
       "0  8a4995b8cb57fff     0.108460             Suelo\n",
       "1  8a4995bab38ffff     0.149826             Suelo"
      ]
     },
     "execution_count": 4,
     "metadata": {},
     "output_type": "execute_result"
    }
   ],
   "source": [
    "# Create vegetation categories\n",
    "ndvi_res10['ndvi_median_rango'] = np.nan\n",
    "ndvi_res10.loc[ndvi_res10.ndvi_median>=0.6 , 'ndvi_median_rango'] = 'Alta densidad vegetal'\n",
    "ndvi_res10.loc[(ndvi_res10.ndvi_median>=0.4 )&\n",
    "                (ndvi_res10.ndvi_median<0.6), 'ndvi_median_rango'] = 'Moderada densidad vegetal'\n",
    "ndvi_res10.loc[(ndvi_res10.ndvi_median>=0.2)&\n",
    "                (ndvi_res10.ndvi_median<0.4), 'ndvi_median_rango'] = 'Mínima densidad vegetal'\n",
    "ndvi_res10.loc[(ndvi_res10.ndvi_median>=0.1)&\n",
    "                (ndvi_res10.ndvi_median<0.2), 'ndvi_median_rango'] = 'Suelo'\n",
    "ndvi_res10.loc[(ndvi_res10.ndvi_median<0.1), 'ndvi_median_rango'] = 'Suelo artificial/Agua/Piedra'\n",
    "\n",
    "# Ordering data\n",
    "categories = ['Suelo artificial/Agua/Piedra', 'Suelo', 'Mínima densidad vegetal', 'Moderada densidad vegetal', 'Alta densidad vegetal']\n",
    "ndvi_res10['ndvi_median_rango'] = pd.Categorical(ndvi_res10['ndvi_median_rango'], categories=categories, ordered=True)\n",
    "\n",
    "# Reviewing process\n",
    "print(ndvi_res10.shape)\n",
    "ndvi_res10.head(2)"
   ]
  },
  {
   "cell_type": "markdown",
   "id": "9aa4af54-f1df-403b-8c61-95874ff01582",
   "metadata": {},
   "source": [
    "### NDVI Data treatment - Filter for places with vegetation"
   ]
  },
  {
   "cell_type": "code",
   "execution_count": 5,
   "id": "7991a287-6e9c-4e93-afe5-02e80a926fd8",
   "metadata": {},
   "outputs": [
    {
     "name": "stdout",
     "output_type": "stream",
     "text": [
      "(35317, 3)\n"
     ]
    },
    {
     "data": {
      "text/html": [
       "<div>\n",
       "<style scoped>\n",
       "    .dataframe tbody tr th:only-of-type {\n",
       "        vertical-align: middle;\n",
       "    }\n",
       "\n",
       "    .dataframe tbody tr th {\n",
       "        vertical-align: top;\n",
       "    }\n",
       "\n",
       "    .dataframe thead th {\n",
       "        text-align: right;\n",
       "    }\n",
       "</style>\n",
       "<table border=\"1\" class=\"dataframe\">\n",
       "  <thead>\n",
       "    <tr style=\"text-align: right;\">\n",
       "      <th></th>\n",
       "      <th>hex_id</th>\n",
       "      <th>ndvi_median</th>\n",
       "      <th>ndvi_median_rango</th>\n",
       "    </tr>\n",
       "  </thead>\n",
       "  <tbody>\n",
       "    <tr>\n",
       "      <th>7</th>\n",
       "      <td>8a4995b8d277fff</td>\n",
       "      <td>0.283320</td>\n",
       "      <td>Mínima densidad vegetal</td>\n",
       "    </tr>\n",
       "    <tr>\n",
       "      <th>10</th>\n",
       "      <td>8a4995b81107fff</td>\n",
       "      <td>0.215763</td>\n",
       "      <td>Mínima densidad vegetal</td>\n",
       "    </tr>\n",
       "  </tbody>\n",
       "</table>\n",
       "</div>"
      ],
      "text/plain": [
       "             hex_id  ndvi_median        ndvi_median_rango\n",
       "7   8a4995b8d277fff     0.283320  Mínima densidad vegetal\n",
       "10  8a4995b81107fff     0.215763  Mínima densidad vegetal"
      ]
     },
     "execution_count": 5,
     "metadata": {},
     "output_type": "execute_result"
    }
   ],
   "source": [
    "#Keeping High-moderate-minimal vegetation density\n",
    "data_withveg = ndvi_res10.loc[(ndvi_res10.ndvi_median_rango == 'Alta densidad vegetal') |\n",
    "               (ndvi_res10.ndvi_median_rango == 'Moderada densidad vegetal')|\n",
    "               (ndvi_res10.ndvi_median_rango == 'Mínima densidad vegetal')].copy()\n",
    "\n",
    "# Show\n",
    "print(data_withveg.shape)\n",
    "data_withveg.head(2)"
   ]
  },
  {
   "cell_type": "markdown",
   "id": "7d0addaa-d6f7-412b-a81a-2fe9ce3143a7",
   "metadata": {},
   "source": [
    "### Load data - Load hex_gdf (Contiene alcaldías)"
   ]
  },
  {
   "cell_type": "code",
   "execution_count": 6,
   "id": "a0a7a4b4-3579-42fa-a584-b43dcb5871b5",
   "metadata": {},
   "outputs": [
    {
     "name": "stdout",
     "output_type": "stream",
     "text": [
      "(86349, 6)\n"
     ]
    },
    {
     "data": {
      "text/html": [
       "<div>\n",
       "<style scoped>\n",
       "    .dataframe tbody tr th:only-of-type {\n",
       "        vertical-align: middle;\n",
       "    }\n",
       "\n",
       "    .dataframe tbody tr th {\n",
       "        vertical-align: top;\n",
       "    }\n",
       "\n",
       "    .dataframe thead th {\n",
       "        text-align: right;\n",
       "    }\n",
       "</style>\n",
       "<table border=\"1\" class=\"dataframe\">\n",
       "  <thead>\n",
       "    <tr style=\"text-align: right;\">\n",
       "      <th></th>\n",
       "      <th>hex_id_10</th>\n",
       "      <th>geometry</th>\n",
       "      <th>CVEGEO</th>\n",
       "      <th>NOMGEO</th>\n",
       "      <th>city</th>\n",
       "      <th>type</th>\n",
       "    </tr>\n",
       "  </thead>\n",
       "  <tbody>\n",
       "    <tr>\n",
       "      <th>0</th>\n",
       "      <td>8a4995b8cb57fff</td>\n",
       "      <td>POLYGON ((-99.19358 19.48193, -99.19293 19.482...</td>\n",
       "      <td>09002</td>\n",
       "      <td>Azcapotzalco</td>\n",
       "      <td>CDMX</td>\n",
       "      <td>urban</td>\n",
       "    </tr>\n",
       "    <tr>\n",
       "      <th>1</th>\n",
       "      <td>8a4995b88d67fff</td>\n",
       "      <td>POLYGON ((-99.17778 19.49754, -99.17713 19.497...</td>\n",
       "      <td>09002</td>\n",
       "      <td>Azcapotzalco</td>\n",
       "      <td>CDMX</td>\n",
       "      <td>urban</td>\n",
       "    </tr>\n",
       "  </tbody>\n",
       "</table>\n",
       "</div>"
      ],
      "text/plain": [
       "         hex_id_10                                           geometry CVEGEO  \\\n",
       "0  8a4995b8cb57fff  POLYGON ((-99.19358 19.48193, -99.19293 19.482...  09002   \n",
       "1  8a4995b88d67fff  POLYGON ((-99.17778 19.49754, -99.17713 19.497...  09002   \n",
       "\n",
       "         NOMGEO  city   type  \n",
       "0  Azcapotzalco  CDMX  urban  \n",
       "1  Azcapotzalco  CDMX  urban  "
      ]
     },
     "execution_count": 6,
     "metadata": {},
     "output_type": "execute_result"
    }
   ],
   "source": [
    "# Download hex_gdf  (aprox. 150-200s)\n",
    "hex_schema = 'hexgrid'\n",
    "hex_table = 'hexgrid_10_city_2020'\n",
    "query = f\"SELECT * FROM {hex_schema}.{hex_table} WHERE \\\"city\\\" LIKE \\'{city}\\'\"\n",
    "hex_gdf = aup.gdf_from_query(query, geometry_col='geometry')\n",
    "\n",
    "# Show\n",
    "print(hex_gdf.shape)\n",
    "hex_gdf.head(2)"
   ]
  },
  {
   "cell_type": "markdown",
   "id": "2f062a24-5881-47f0-8f77-943e67f12ddc",
   "metadata": {},
   "source": [
    "### Filter for alcaldías of interest"
   ]
  },
  {
   "cell_type": "code",
   "execution_count": 7,
   "id": "05bfbf81-f70d-4b62-9cfc-251b01c4bfb9",
   "metadata": {},
   "outputs": [
    {
     "name": "stdout",
     "output_type": "stream",
     "text": [
      "(49335, 3)\n"
     ]
    },
    {
     "data": {
      "text/html": [
       "<div>\n",
       "<style scoped>\n",
       "    .dataframe tbody tr th:only-of-type {\n",
       "        vertical-align: middle;\n",
       "    }\n",
       "\n",
       "    .dataframe tbody tr th {\n",
       "        vertical-align: top;\n",
       "    }\n",
       "\n",
       "    .dataframe thead th {\n",
       "        text-align: right;\n",
       "    }\n",
       "</style>\n",
       "<table border=\"1\" class=\"dataframe\">\n",
       "  <thead>\n",
       "    <tr style=\"text-align: right;\">\n",
       "      <th></th>\n",
       "      <th>hex_id</th>\n",
       "      <th>NOMGEO</th>\n",
       "      <th>geometry</th>\n",
       "    </tr>\n",
       "  </thead>\n",
       "  <tbody>\n",
       "    <tr>\n",
       "      <th>0</th>\n",
       "      <td>8a4995b8cb57fff</td>\n",
       "      <td>Azcapotzalco</td>\n",
       "      <td>POLYGON ((-99.19358 19.48193, -99.19293 19.482...</td>\n",
       "    </tr>\n",
       "    <tr>\n",
       "      <th>1</th>\n",
       "      <td>8a4995b88d67fff</td>\n",
       "      <td>Azcapotzalco</td>\n",
       "      <td>POLYGON ((-99.17778 19.49754, -99.17713 19.497...</td>\n",
       "    </tr>\n",
       "  </tbody>\n",
       "</table>\n",
       "</div>"
      ],
      "text/plain": [
       "            hex_id        NOMGEO  \\\n",
       "0  8a4995b8cb57fff  Azcapotzalco   \n",
       "1  8a4995b88d67fff  Azcapotzalco   \n",
       "\n",
       "                                            geometry  \n",
       "0  POLYGON ((-99.19358 19.48193, -99.19293 19.482...  \n",
       "1  POLYGON ((-99.17778 19.49754, -99.17713 19.497...  "
      ]
     },
     "execution_count": 7,
     "metadata": {},
     "output_type": "execute_result"
    }
   ],
   "source": [
    "# Filter hex_gdf for municipalities where Cutzamala system provides water\n",
    "alcaldias_cutzamala = ['Álvaro Obregón','Azcapotzalco', 'Cuajimalpa de Morelos','Iztacalco', \n",
    "                       'Iztapalapa','La Magdalena Contreras','Tlalpan', 'Benito Juárez', \n",
    "                       'Cuauhtémoc','Miguel Hidalgo', 'Venustiano Carranza']\n",
    "hex_gdf_f = hex_gdf.loc[hex_gdf.NOMGEO.isin(alcaldias_cutzamala)]\n",
    "\n",
    "# Shorten data\n",
    "hex_gdf_f = hex_gdf_f[['hex_id_10','NOMGEO','geometry']]\n",
    "hex_gdf_f.rename(columns={'hex_id_10':'hex_id'},inplace=True)\n",
    "\n",
    "# Show\n",
    "print(hex_gdf_f.shape)\n",
    "hex_gdf_f.head(2)"
   ]
  },
  {
   "cell_type": "code",
   "execution_count": 8,
   "id": "273bae84-2f83-4e3d-8bb5-a184e3f90d8e",
   "metadata": {},
   "outputs": [
    {
     "name": "stdout",
     "output_type": "stream",
     "text": [
      "(18981, 5)\n"
     ]
    },
    {
     "data": {
      "text/html": [
       "<div>\n",
       "<style scoped>\n",
       "    .dataframe tbody tr th:only-of-type {\n",
       "        vertical-align: middle;\n",
       "    }\n",
       "\n",
       "    .dataframe tbody tr th {\n",
       "        vertical-align: top;\n",
       "    }\n",
       "\n",
       "    .dataframe thead th {\n",
       "        text-align: right;\n",
       "    }\n",
       "</style>\n",
       "<table border=\"1\" class=\"dataframe\">\n",
       "  <thead>\n",
       "    <tr style=\"text-align: right;\">\n",
       "      <th></th>\n",
       "      <th>hex_id</th>\n",
       "      <th>ndvi_median</th>\n",
       "      <th>ndvi_median_rango</th>\n",
       "      <th>NOMGEO</th>\n",
       "      <th>geometry</th>\n",
       "    </tr>\n",
       "  </thead>\n",
       "  <tbody>\n",
       "    <tr>\n",
       "      <th>0</th>\n",
       "      <td>8a4995b8d277fff</td>\n",
       "      <td>0.283320</td>\n",
       "      <td>Mínima densidad vegetal</td>\n",
       "      <td>Azcapotzalco</td>\n",
       "      <td>POLYGON ((-99.20948 19.50623, -99.20883 19.506...</td>\n",
       "    </tr>\n",
       "    <tr>\n",
       "      <th>1</th>\n",
       "      <td>8a4995b81107fff</td>\n",
       "      <td>0.215763</td>\n",
       "      <td>Mínima densidad vegetal</td>\n",
       "      <td>Azcapotzalco</td>\n",
       "      <td>POLYGON ((-99.16277 19.46651, -99.16212 19.466...</td>\n",
       "    </tr>\n",
       "  </tbody>\n",
       "</table>\n",
       "</div>"
      ],
      "text/plain": [
       "            hex_id  ndvi_median        ndvi_median_rango        NOMGEO  \\\n",
       "0  8a4995b8d277fff     0.283320  Mínima densidad vegetal  Azcapotzalco   \n",
       "1  8a4995b81107fff     0.215763  Mínima densidad vegetal  Azcapotzalco   \n",
       "\n",
       "                                            geometry  \n",
       "0  POLYGON ((-99.20948 19.50623, -99.20883 19.506...  \n",
       "1  POLYGON ((-99.16277 19.46651, -99.16212 19.466...  "
      ]
     },
     "execution_count": 8,
     "metadata": {},
     "output_type": "execute_result"
    }
   ],
   "source": [
    "# Inner join to keep ndvi and ndmi data within alcaldías of interest only\n",
    "data_withveg_alcaldias = data_withveg.merge(hex_gdf_f,on='hex_id',how='inner')\n",
    "\n",
    "# Show\n",
    "print(data_withveg_alcaldias.shape)\n",
    "data_withveg_alcaldias.head(2)"
   ]
  },
  {
   "cell_type": "markdown",
   "id": "224d6f20-5175-4d27-84d1-79a6245a6207",
   "metadata": {},
   "source": [
    "## Load data - Load NDMI using city, res and tupple of previously filtered hexs"
   ]
  },
  {
   "cell_type": "code",
   "execution_count": null,
   "id": "106f4ac2-9503-43da-ad11-8d66314a1255",
   "metadata": {},
   "outputs": [],
   "source": [
    "# Hexs of interest (with vegetation and in alcaldias of interest)\n",
    "hexs_lst = list(data_withveg_alcaldias.hex_id.unique())\n",
    "\n",
    "# Downloading complete dataset NDMI res data (aprox. 700-1000s)\n",
    "complete_ndmi_schema = 'raster_analysis'\n",
    "complete_ndmi_table = 'ndmi_complete_dataset_hex'\n",
    "res = 10\n",
    "query = f\"SELECT * FROM {complete_ndmi_schema}.{complete_ndmi_table} WHERE \\\"city\\\" LIKE \\'{city}\\' AND \\\"res\\\"={res}\\' AND \\\"hex_id\\\" IN {str(tuple(hexs_lst))}\"\n",
    "complete_ndmi_res10 = aup.df_from_query(query)\n",
    "\n",
    "# Filter for dates of interest\n",
    "#months_ofinterest = [1,2,3,4,5]\n",
    "#years_ofinterest = [2018,2019,2020,2021,2022,2023]\n",
    "#complete_ndmi_res10_f = complete_ndmi_res10.loc[(complete_ndmi_res10.month.isin(months_ofinterest)) & (complete_ndmi_res10.year.isin(years_ofinterest))]\n",
    "# Shorten data\n",
    "complete_ndmi_res10_f = complete_ndmi_res10_f[['hex_id','ndmi','month','year']]\n",
    "\n",
    "# Show\n",
    "print(complete_ndmi_res10_f.shape)\n",
    "complete_ndmi_res10_f.head(2)"
   ]
  },
  {
   "cell_type": "markdown",
   "id": "f119a0c4-db41-4143-8ba6-237170965104",
   "metadata": {},
   "source": [
    "## Data treatment"
   ]
  },
  {
   "cell_type": "markdown",
   "id": "69247025-a525-406c-add5-5c377e13b08a",
   "metadata": {},
   "source": [
    "### Data treatment - Merge ndmi for places with vegetation"
   ]
  },
  {
   "cell_type": "code",
   "execution_count": 10,
   "id": "125afd2e-cb26-422f-a748-e1857bc5ebaf",
   "metadata": {},
   "outputs": [
    {
     "name": "stdout",
     "output_type": "stream",
     "text": [
      "(1063010, 6)\n"
     ]
    },
    {
     "data": {
      "text/html": [
       "<div>\n",
       "<style scoped>\n",
       "    .dataframe tbody tr th:only-of-type {\n",
       "        vertical-align: middle;\n",
       "    }\n",
       "\n",
       "    .dataframe tbody tr th {\n",
       "        vertical-align: top;\n",
       "    }\n",
       "\n",
       "    .dataframe thead th {\n",
       "        text-align: right;\n",
       "    }\n",
       "</style>\n",
       "<table border=\"1\" class=\"dataframe\">\n",
       "  <thead>\n",
       "    <tr style=\"text-align: right;\">\n",
       "      <th></th>\n",
       "      <th>hex_id</th>\n",
       "      <th>ndvi_median</th>\n",
       "      <th>ndvi_median_rango</th>\n",
       "      <th>ndmi</th>\n",
       "      <th>month</th>\n",
       "      <th>year</th>\n",
       "    </tr>\n",
       "  </thead>\n",
       "  <tbody>\n",
       "    <tr>\n",
       "      <th>0</th>\n",
       "      <td>8a4995b8d277fff</td>\n",
       "      <td>0.28332</td>\n",
       "      <td>Mínima densidad vegetal</td>\n",
       "      <td>0.025837</td>\n",
       "      <td>1</td>\n",
       "      <td>2023</td>\n",
       "    </tr>\n",
       "    <tr>\n",
       "      <th>1</th>\n",
       "      <td>8a4995b8d277fff</td>\n",
       "      <td>0.28332</td>\n",
       "      <td>Mínima densidad vegetal</td>\n",
       "      <td>0.006358</td>\n",
       "      <td>2</td>\n",
       "      <td>2023</td>\n",
       "    </tr>\n",
       "  </tbody>\n",
       "</table>\n",
       "</div>"
      ],
      "text/plain": [
       "            hex_id  ndvi_median        ndvi_median_rango      ndmi  month  \\\n",
       "0  8a4995b8d277fff      0.28332  Mínima densidad vegetal  0.025837      1   \n",
       "1  8a4995b8d277fff      0.28332  Mínima densidad vegetal  0.006358      2   \n",
       "\n",
       "   year  \n",
       "0  2023  \n",
       "1  2023  "
      ]
     },
     "execution_count": 10,
     "metadata": {},
     "output_type": "execute_result"
    }
   ],
   "source": [
    "# Inner merge to keep ndmi data for hexs with vegetation only\n",
    "ndvi_ndmi_gdf = data_withveg.merge(complete_ndmi_res10_f, on='hex_id',how='inner')\n",
    "\n",
    "# Show\n",
    "print(ndvi_ndmi_gdf.shape)\n",
    "ndvi_ndmi_gdf.head(2)"
   ]
  },
  {
   "cell_type": "markdown",
   "id": "58dcaeb6-1803-4bfc-aae7-0964a2affeae",
   "metadata": {},
   "source": [
    "## Data analysis"
   ]
  },
  {
   "cell_type": "markdown",
   "id": "e14a33cf-93ce-4c71-8a7c-a5c513b27e4a",
   "metadata": {},
   "source": [
    "### Método 1 - 1425s"
   ]
  },
  {
   "cell_type": "code",
   "execution_count": 12,
   "id": "a9819b42-2124-44b6-8c07-f7c3cff19b56",
   "metadata": {},
   "outputs": [],
   "source": [
    "metodo_1 = False"
   ]
  },
  {
   "cell_type": "code",
   "execution_count": 13,
   "id": "f8f4d8dd-254c-4fc1-879f-b50380265aa4",
   "metadata": {},
   "outputs": [],
   "source": [
    "if metodo_1:\n",
    "    mean_ndmi_bydate = hex_gdf_f.copy()\n",
    "    \n",
    "    i = 0\n",
    "    for year in data_withveg_alcaldias.year.unique():\n",
    "        for month in data_withveg_alcaldias.month.unique():\n",
    "            for alcaldia in data_withveg_alcaldias.NOMGEO.unique():\n",
    "    \n",
    "                print(f\"Calculating mean ndmi in {alcaldia} date {month}/{year}.\")\n",
    "                    \n",
    "                data_df = data_withveg_alcaldias.loc[(data_withveg_alcaldias.year == year) &\n",
    "                                                     (data_withveg_alcaldias.month == month) &\n",
    "                                                     (data_withveg_alcaldias.NOMGEO == alcaldia)].copy()\n",
    "    \n",
    "                for hex_id in data_df['hex_id'].unique():\n",
    "                    # Get each mean hex_id data for current year, month and alcaldía\n",
    "                    hex_data = data_df.loc[data_df['hex_id'] == hex_id].copy()\n",
    "                    mean_ndmi = hex_data['ndmi'].mean()\n",
    "                    # Register data\n",
    "                    idx = mean_ndmi_bydate['hex_id'] == hex_id\n",
    "                    mean_ndmi_bydate.loc[idx,f\"{year}_{month}\"] = mean_ndmi\n",
    "    \n",
    "    # Show\n",
    "    print(mean_ndmi_bydate.shape)\n",
    "    mean_ndmi_bydate.head(2)"
   ]
  },
  {
   "cell_type": "markdown",
   "id": "3784f15f-f651-4dee-8110-c538fe8597d9",
   "metadata": {},
   "source": [
    "### Método 2 - Transform data to columns and calculate mean on row axis (Work in progress)"
   ]
  },
  {
   "cell_type": "code",
   "execution_count": 14,
   "id": "a2d2810e-5dc0-4955-8eae-e70ac9b0ab09",
   "metadata": {},
   "outputs": [
    {
     "name": "stdout",
     "output_type": "stream",
     "text": [
      "(571605, 5)\n"
     ]
    },
    {
     "data": {
      "text/html": [
       "<div>\n",
       "<style scoped>\n",
       "    .dataframe tbody tr th:only-of-type {\n",
       "        vertical-align: middle;\n",
       "    }\n",
       "\n",
       "    .dataframe tbody tr th {\n",
       "        vertical-align: top;\n",
       "    }\n",
       "\n",
       "    .dataframe thead th {\n",
       "        text-align: right;\n",
       "    }\n",
       "</style>\n",
       "<table border=\"1\" class=\"dataframe\">\n",
       "  <thead>\n",
       "    <tr style=\"text-align: right;\">\n",
       "      <th></th>\n",
       "      <th>hex_id</th>\n",
       "      <th>ndmi</th>\n",
       "      <th>NOMGEO</th>\n",
       "      <th>geometry</th>\n",
       "      <th>date</th>\n",
       "    </tr>\n",
       "  </thead>\n",
       "  <tbody>\n",
       "    <tr>\n",
       "      <th>0</th>\n",
       "      <td>8a4995b8d277fff</td>\n",
       "      <td>0.025837</td>\n",
       "      <td>Azcapotzalco</td>\n",
       "      <td>POLYGON ((-99.20948 19.50623, -99.20883 19.506...</td>\n",
       "      <td>2023_1</td>\n",
       "    </tr>\n",
       "    <tr>\n",
       "      <th>1</th>\n",
       "      <td>8a4995b8d277fff</td>\n",
       "      <td>0.006358</td>\n",
       "      <td>Azcapotzalco</td>\n",
       "      <td>POLYGON ((-99.20948 19.50623, -99.20883 19.506...</td>\n",
       "      <td>2023_2</td>\n",
       "    </tr>\n",
       "  </tbody>\n",
       "</table>\n",
       "</div>"
      ],
      "text/plain": [
       "            hex_id      ndmi        NOMGEO  \\\n",
       "0  8a4995b8d277fff  0.025837  Azcapotzalco   \n",
       "1  8a4995b8d277fff  0.006358  Azcapotzalco   \n",
       "\n",
       "                                            geometry    date  \n",
       "0  POLYGON ((-99.20948 19.50623, -99.20883 19.506...  2023_1  \n",
       "1  POLYGON ((-99.20948 19.50623, -99.20883 19.506...  2023_2  "
      ]
     },
     "execution_count": 14,
     "metadata": {},
     "output_type": "execute_result"
    }
   ],
   "source": [
    "data_analysis = data_withveg_alcaldias.copy()\n",
    "# Create date column\n",
    "data_analysis['year'] = data_analysis['year'].astype('str')\n",
    "data_analysis['month'] = data_analysis['month'].astype('str') \n",
    "data_analysis['date'] =  data_analysis['year'] + \"_\"+ data_analysis['month']\n",
    "# Drop columns no longer in use\n",
    "data_analysis.drop(columns=['ndvi_median','ndvi_median_rango','month','year'],inplace=True)\n",
    "\n",
    "# Show\n",
    "print(data_analysis.shape)\n",
    "data_analysis.head(2)"
   ]
  },
  {
   "cell_type": "code",
   "execution_count": 18,
   "id": "b2909de3-3c30-4143-ba46-152d99665adb",
   "metadata": {},
   "outputs": [
    {
     "data": {
      "text/plain": [
       "array(['2023_1', '2023_2', '2023_3', '2023_4', '2023_5', '2018_1',\n",
       "       '2018_2', '2018_3', '2018_4', '2018_5', '2019_1', '2019_2',\n",
       "       '2019_3', '2019_4', '2019_5', '2020_1', '2020_2', '2020_3',\n",
       "       '2020_4', '2020_5', '2021_1', '2021_2', '2021_3', '2021_4',\n",
       "       '2021_5', '2022_1', '2022_2', '2022_3', '2022_4', '2022_5'],\n",
       "      dtype=object)"
      ]
     },
     "execution_count": 18,
     "metadata": {},
     "output_type": "execute_result"
    }
   ],
   "source": [
    "data_analysis.date.unique()"
   ]
  },
  {
   "cell_type": "code",
   "execution_count": null,
   "id": "3af98ae8-b58f-4520-90ba-29956cfb2205",
   "metadata": {},
   "outputs": [],
   "source": [
    "# TRANSFORM DATA FROM MULTIPLE ROWS TO COLUMNS\n",
    "######################################################################### CÓDIGO BASE PARA REPOSICIONAR DATOS (Script 15-15min-cities)\n",
    "# delete duplicates and keep only one point for each node\n",
    "#nodes_geom = nodes.drop_duplicates(subset='osmid', keep=\"last\")[['osmid','geometry','metropolis']].copy()\n",
    "#nodes_analysis = nodes_geom.copy()\n",
    "\n",
    "# relate time data to each point\n",
    "#for amenidad in list(nodes.amenity.unique()):\n",
    "\n",
    "#    nodes_tmp = nodes.loc[nodes.amenity == amenidad,['osmid','time']]\n",
    "#    nodes_tmp = nodes_tmp.rename(columns={'time':amenidad})\n",
    "\n",
    "#    if nodes_tmp[amenidad].mean() == 0:\n",
    "#        nodes_tmp[amenidad] = np.nan\n",
    "\n",
    "#    nodes_analysis = nodes_analysis.merge(nodes_tmp, on='osmid')\n",
    "\n",
    "######################################################################### PARA ESTE CÓDIGO\n",
    "#nodes_analysis (gdf con 1 row para cada geometría) --> proviene de data_analysis \n",
    "#amenidad --> date (lo que serán las columnas en el nuevo gdf)\n",
    "#osmid --> hex_id (columna de ID de las geometrías)\n",
    "#time --> ndmi (columna con datos a reposicionar)\n",
    "\n",
    "######################################################################### APLICACIÓN\n",
    "# GDF with unique rows for each geometry\n",
    "mean_ndmi_bydate = data_analysis.drop_duplicates(subset='hex_id', keep='last')[['hex_id','geometry','NOMGEO']].copy()\n",
    "\n",
    "# Loop that transforms data\n",
    "for date in data_analysis.date.unique():\n",
    "    \n",
    "    # Isolate new column data (In this case, date)\n",
    "    idx = data_analysis.date == date\n",
    "    df_tmp = data_analysis.loc[idx,['hex_id','ndmi']].copy()\n",
    "    \n",
    "    # Assign as column name (In this case, date)\n",
    "    df_tmp = df_tmp.rename(columns={'ndmi':date})\n",
    "    \n",
    "    # Merge to gdf with unique geometry IDs (In this case, hex_id)\n",
    "    mean_ndmi_bydate = mean_ndmi_bydate.merge(df_tmp, on='hex_id',how='inner')\n",
    "\n",
    "mean_ndmi_bydate"
   ]
  },
  {
   "cell_type": "code",
   "execution_count": 16,
   "id": "a3437272-ee46-4566-a481-3565c3c20459",
   "metadata": {},
   "outputs": [],
   "source": [
    "#mean_ndmi_bydate = gpd.GeoDataFrame(mean_ndmi_bydate, geometry='geometry')\n",
    "#mean_ndmi_bydate.plot()"
   ]
  },
  {
   "cell_type": "code",
   "execution_count": null,
   "id": "55f100bf-0ac8-4244-9c89-c9fc49232838",
   "metadata": {},
   "outputs": [],
   "source": []
  }
 ],
 "metadata": {
  "kernelspec": {
   "display_name": "GDS-10.0",
   "language": "python",
   "name": "gds"
  },
  "language_info": {
   "codemirror_mode": {
    "name": "ipython",
    "version": 3
   },
   "file_extension": ".py",
   "mimetype": "text/x-python",
   "name": "python",
   "nbconvert_exporter": "python",
   "pygments_lexer": "ipython3",
   "version": "3.9.18"
  }
 },
 "nbformat": 4,
 "nbformat_minor": 5
}
