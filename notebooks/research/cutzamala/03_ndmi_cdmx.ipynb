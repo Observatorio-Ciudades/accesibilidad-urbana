{
 "cells": [
  {
   "cell_type": "markdown",
   "id": "6fc4f582-94ec-46fc-94b7-0fe0cd3791b1",
   "metadata": {},
   "source": [
    "## Import libraries"
   ]
  },
  {
   "cell_type": "code",
   "execution_count": 1,
   "id": "a974aa7f-fb72-42eb-8abf-5dce31633bcc",
   "metadata": {},
   "outputs": [
    {
     "name": "stderr",
     "output_type": "stream",
     "text": [
      "/home/jovyan/accesibilidad-urbana/aup/data.py:25: UserWarning: The `utils.config` function is deprecated and will be removed in a future release. Instead, use the `settings` module directly to configure a global setting's value. For example, `ox.settings.log_console=True`.\n",
      "  ox.config(\n"
     ]
    }
   ],
   "source": [
    "import os\n",
    "import sys\n",
    "\n",
    "import pandas as pd\n",
    "import geopandas as gpd\n",
    "import numpy as np\n",
    "\n",
    "import matplotlib.pyplot as plt\n",
    "from matplotlib import colors\n",
    "import seaborn as sns\n",
    "\n",
    "from pandas.api.types import CategoricalDtype\n",
    "\n",
    "import warnings\n",
    "warnings.simplefilter(action='ignore', category=FutureWarning)\n",
    "\n",
    "module_path = os.path.abspath(os.path.join('../../../'))\n",
    "if module_path not in sys.path:\n",
    "    sys.path.append(module_path)\n",
    "    import aup"
   ]
  },
  {
   "cell_type": "code",
   "execution_count": 2,
   "id": "879d44d6-f02e-462b-9aff-42e66d799c1a",
   "metadata": {},
   "outputs": [],
   "source": [
    "city = 'CDMX'"
   ]
  },
  {
   "cell_type": "markdown",
   "id": "0e1fcd00-30fb-497b-b4c5-3aa46e84d1c4",
   "metadata": {},
   "source": [
    "## Load hexs with vegetation in alcaldías of interest"
   ]
  },
  {
   "cell_type": "markdown",
   "id": "79d68b49-4885-4230-a558-e0d4e5dfc62d",
   "metadata": {},
   "source": [
    "### NDVI Load data - for city and res"
   ]
  },
  {
   "cell_type": "markdown",
   "id": "e2e2cc7d-ea4e-47f2-9bf7-6d7612fd9c31",
   "metadata": {},
   "source": [
    "NDVI's hex were processed using the correct urban+rural hexs configuration on Script 21."
   ]
  },
  {
   "cell_type": "code",
   "execution_count": 3,
   "id": "195d2679-bf9c-4940-acf5-7ff5a8425a11",
   "metadata": {},
   "outputs": [
    {
     "name": "stdout",
     "output_type": "stream",
     "text": [
      "(59557, 2)\n"
     ]
    },
    {
     "data": {
      "text/html": [
       "<div>\n",
       "<style scoped>\n",
       "    .dataframe tbody tr th:only-of-type {\n",
       "        vertical-align: middle;\n",
       "    }\n",
       "\n",
       "    .dataframe tbody tr th {\n",
       "        vertical-align: top;\n",
       "    }\n",
       "\n",
       "    .dataframe thead th {\n",
       "        text-align: right;\n",
       "    }\n",
       "</style>\n",
       "<table border=\"1\" class=\"dataframe\">\n",
       "  <thead>\n",
       "    <tr style=\"text-align: right;\">\n",
       "      <th></th>\n",
       "      <th>hex_id</th>\n",
       "      <th>ndvi_median</th>\n",
       "    </tr>\n",
       "  </thead>\n",
       "  <tbody>\n",
       "    <tr>\n",
       "      <th>0</th>\n",
       "      <td>8a4995baa487fff</td>\n",
       "      <td>0.139817</td>\n",
       "    </tr>\n",
       "    <tr>\n",
       "      <th>1</th>\n",
       "      <td>8a4995b8cb57fff</td>\n",
       "      <td>0.108460</td>\n",
       "    </tr>\n",
       "  </tbody>\n",
       "</table>\n",
       "</div>"
      ],
      "text/plain": [
       "            hex_id  ndvi_median\n",
       "0  8a4995baa487fff     0.139817\n",
       "1  8a4995b8cb57fff     0.108460"
      ]
     },
     "execution_count": 3,
     "metadata": {},
     "output_type": "execute_result"
    }
   ],
   "source": [
    "# Downloading NDVI res 10 data (aprox. 150-200s)\n",
    "ndvi_schema = 'raster_analysis'\n",
    "ndvi_table = 'ndvi_analysis_hex'\n",
    "res = 10\n",
    "query = f\"SELECT * FROM {ndvi_schema}.{ndvi_table} WHERE \\\"city\\\" LIKE \\'{city}\\' AND \\\"res\\\" = {res}\"\n",
    "ndvi_res10 = aup.gdf_from_query(query, geometry_col='geometry')\n",
    "\n",
    "# Shorten data\n",
    "ndvi_res10 = ndvi_res10[['hex_id','ndvi_median']]\n",
    "\n",
    "# Show\n",
    "print(ndvi_res10.shape)\n",
    "ndvi_res10.head(2)"
   ]
  },
  {
   "cell_type": "markdown",
   "id": "85b89e8d-8273-4cac-8816-b7a55392f0f8",
   "metadata": {},
   "source": [
    "### NDVI Data treatment - Create vegetation categories"
   ]
  },
  {
   "cell_type": "code",
   "execution_count": 4,
   "id": "8ef6c793-817f-4fd6-bab1-7817901c658e",
   "metadata": {},
   "outputs": [
    {
     "name": "stdout",
     "output_type": "stream",
     "text": [
      "(59557, 3)\n"
     ]
    },
    {
     "data": {
      "text/html": [
       "<div>\n",
       "<style scoped>\n",
       "    .dataframe tbody tr th:only-of-type {\n",
       "        vertical-align: middle;\n",
       "    }\n",
       "\n",
       "    .dataframe tbody tr th {\n",
       "        vertical-align: top;\n",
       "    }\n",
       "\n",
       "    .dataframe thead th {\n",
       "        text-align: right;\n",
       "    }\n",
       "</style>\n",
       "<table border=\"1\" class=\"dataframe\">\n",
       "  <thead>\n",
       "    <tr style=\"text-align: right;\">\n",
       "      <th></th>\n",
       "      <th>hex_id</th>\n",
       "      <th>ndvi_median</th>\n",
       "      <th>ndvi_median_rango</th>\n",
       "    </tr>\n",
       "  </thead>\n",
       "  <tbody>\n",
       "    <tr>\n",
       "      <th>0</th>\n",
       "      <td>8a4995baa487fff</td>\n",
       "      <td>0.139817</td>\n",
       "      <td>Suelo</td>\n",
       "    </tr>\n",
       "    <tr>\n",
       "      <th>1</th>\n",
       "      <td>8a4995b8cb57fff</td>\n",
       "      <td>0.108460</td>\n",
       "      <td>Suelo</td>\n",
       "    </tr>\n",
       "  </tbody>\n",
       "</table>\n",
       "</div>"
      ],
      "text/plain": [
       "            hex_id  ndvi_median ndvi_median_rango\n",
       "0  8a4995baa487fff     0.139817             Suelo\n",
       "1  8a4995b8cb57fff     0.108460             Suelo"
      ]
     },
     "execution_count": 4,
     "metadata": {},
     "output_type": "execute_result"
    }
   ],
   "source": [
    "# Create vegetation categories\n",
    "ndvi_res10['ndvi_median_rango'] = np.nan\n",
    "ndvi_res10.loc[ndvi_res10.ndvi_median>=0.6 , 'ndvi_median_rango'] = 'Alta densidad vegetal'\n",
    "ndvi_res10.loc[(ndvi_res10.ndvi_median>=0.4 )&\n",
    "                (ndvi_res10.ndvi_median<0.6), 'ndvi_median_rango'] = 'Moderada densidad vegetal'\n",
    "ndvi_res10.loc[(ndvi_res10.ndvi_median>=0.2)&\n",
    "                (ndvi_res10.ndvi_median<0.4), 'ndvi_median_rango'] = 'Mínima densidad vegetal'\n",
    "ndvi_res10.loc[(ndvi_res10.ndvi_median>=0.1)&\n",
    "                (ndvi_res10.ndvi_median<0.2), 'ndvi_median_rango'] = 'Suelo'\n",
    "ndvi_res10.loc[(ndvi_res10.ndvi_median<0.1), 'ndvi_median_rango'] = 'Suelo artificial/Agua/Piedra'\n",
    "\n",
    "# Ordering data\n",
    "categories = ['Suelo artificial/Agua/Piedra', 'Suelo', 'Mínima densidad vegetal', 'Moderada densidad vegetal', 'Alta densidad vegetal']\n",
    "ndvi_res10['ndvi_median_rango'] = pd.Categorical(ndvi_res10['ndvi_median_rango'], categories=categories, ordered=True)\n",
    "\n",
    "# Show\n",
    "print(ndvi_res10.shape)\n",
    "ndvi_res10.head(2)"
   ]
  },
  {
   "cell_type": "markdown",
   "id": "9aa4af54-f1df-403b-8c61-95874ff01582",
   "metadata": {},
   "source": [
    "### NDVI Data treatment - Filter for places with vegetation"
   ]
  },
  {
   "cell_type": "code",
   "execution_count": 5,
   "id": "7991a287-6e9c-4e93-afe5-02e80a926fd8",
   "metadata": {},
   "outputs": [
    {
     "name": "stdout",
     "output_type": "stream",
     "text": [
      "(35317, 3)\n"
     ]
    },
    {
     "data": {
      "text/html": [
       "<div>\n",
       "<style scoped>\n",
       "    .dataframe tbody tr th:only-of-type {\n",
       "        vertical-align: middle;\n",
       "    }\n",
       "\n",
       "    .dataframe tbody tr th {\n",
       "        vertical-align: top;\n",
       "    }\n",
       "\n",
       "    .dataframe thead th {\n",
       "        text-align: right;\n",
       "    }\n",
       "</style>\n",
       "<table border=\"1\" class=\"dataframe\">\n",
       "  <thead>\n",
       "    <tr style=\"text-align: right;\">\n",
       "      <th></th>\n",
       "      <th>hex_id</th>\n",
       "      <th>ndvi_median</th>\n",
       "      <th>ndvi_median_rango</th>\n",
       "    </tr>\n",
       "  </thead>\n",
       "  <tbody>\n",
       "    <tr>\n",
       "      <th>8</th>\n",
       "      <td>8a4995b8d277fff</td>\n",
       "      <td>0.283320</td>\n",
       "      <td>Mínima densidad vegetal</td>\n",
       "    </tr>\n",
       "    <tr>\n",
       "      <th>11</th>\n",
       "      <td>8a4995b81107fff</td>\n",
       "      <td>0.215763</td>\n",
       "      <td>Mínima densidad vegetal</td>\n",
       "    </tr>\n",
       "  </tbody>\n",
       "</table>\n",
       "</div>"
      ],
      "text/plain": [
       "             hex_id  ndvi_median        ndvi_median_rango\n",
       "8   8a4995b8d277fff     0.283320  Mínima densidad vegetal\n",
       "11  8a4995b81107fff     0.215763  Mínima densidad vegetal"
      ]
     },
     "execution_count": 5,
     "metadata": {},
     "output_type": "execute_result"
    }
   ],
   "source": [
    "#Keeping High-moderate-minimal vegetation density\n",
    "data_withveg = ndvi_res10.loc[(ndvi_res10.ndvi_median_rango == 'Alta densidad vegetal') |\n",
    "               (ndvi_res10.ndvi_median_rango == 'Moderada densidad vegetal')|\n",
    "               (ndvi_res10.ndvi_median_rango == 'Mínima densidad vegetal')].copy()\n",
    "\n",
    "# Show\n",
    "print(data_withveg.shape)\n",
    "data_withveg.head(2)"
   ]
  },
  {
   "cell_type": "markdown",
   "id": "7d0addaa-d6f7-412b-a81a-2fe9ce3143a7",
   "metadata": {},
   "source": [
    "### hex_gdf Load data - (Contiene alcaldías)"
   ]
  },
  {
   "cell_type": "code",
   "execution_count": 7,
   "id": "a0a7a4b4-3579-42fa-a584-b43dcb5871b5",
   "metadata": {},
   "outputs": [
    {
     "name": "stdout",
     "output_type": "stream",
     "text": [
      "(86349, 6)\n"
     ]
    },
    {
     "data": {
      "text/html": [
       "<div>\n",
       "<style scoped>\n",
       "    .dataframe tbody tr th:only-of-type {\n",
       "        vertical-align: middle;\n",
       "    }\n",
       "\n",
       "    .dataframe tbody tr th {\n",
       "        vertical-align: top;\n",
       "    }\n",
       "\n",
       "    .dataframe thead th {\n",
       "        text-align: right;\n",
       "    }\n",
       "</style>\n",
       "<table border=\"1\" class=\"dataframe\">\n",
       "  <thead>\n",
       "    <tr style=\"text-align: right;\">\n",
       "      <th></th>\n",
       "      <th>hex_id_10</th>\n",
       "      <th>geometry</th>\n",
       "      <th>CVEGEO</th>\n",
       "      <th>NOMGEO</th>\n",
       "      <th>city</th>\n",
       "      <th>type</th>\n",
       "    </tr>\n",
       "  </thead>\n",
       "  <tbody>\n",
       "    <tr>\n",
       "      <th>0</th>\n",
       "      <td>8a4995b8cb57fff</td>\n",
       "      <td>POLYGON ((-99.19358 19.48193, -99.19293 19.482...</td>\n",
       "      <td>09002</td>\n",
       "      <td>Azcapotzalco</td>\n",
       "      <td>CDMX</td>\n",
       "      <td>urban</td>\n",
       "    </tr>\n",
       "    <tr>\n",
       "      <th>1</th>\n",
       "      <td>8a4995b83a4ffff</td>\n",
       "      <td>POLYGON ((-99.15235 19.48171, -99.15170 19.482...</td>\n",
       "      <td>09002</td>\n",
       "      <td>Azcapotzalco</td>\n",
       "      <td>CDMX</td>\n",
       "      <td>urban</td>\n",
       "    </tr>\n",
       "  </tbody>\n",
       "</table>\n",
       "</div>"
      ],
      "text/plain": [
       "         hex_id_10                                           geometry CVEGEO  \\\n",
       "0  8a4995b8cb57fff  POLYGON ((-99.19358 19.48193, -99.19293 19.482...  09002   \n",
       "1  8a4995b83a4ffff  POLYGON ((-99.15235 19.48171, -99.15170 19.482...  09002   \n",
       "\n",
       "         NOMGEO  city   type  \n",
       "0  Azcapotzalco  CDMX  urban  \n",
       "1  Azcapotzalco  CDMX  urban  "
      ]
     },
     "execution_count": 7,
     "metadata": {},
     "output_type": "execute_result"
    }
   ],
   "source": [
    "# Download hex_gdf  (aprox. 150-200s)\n",
    "hex_schema = 'hexgrid'\n",
    "hex_table = 'hexgrid_10_city_2020'\n",
    "query = f\"SELECT * FROM {hex_schema}.{hex_table} WHERE \\\"city\\\" LIKE \\'{city}\\'\"\n",
    "hex_gdf = aup.gdf_from_query(query, geometry_col='geometry')\n",
    "\n",
    "# Show\n",
    "print(hex_gdf.shape)\n",
    "hex_gdf.head(2)"
   ]
  },
  {
   "cell_type": "markdown",
   "id": "2f062a24-5881-47f0-8f77-943e67f12ddc",
   "metadata": {},
   "source": [
    "### hex_gdf Data treatment - Filter for alcaldías of interest"
   ]
  },
  {
   "cell_type": "code",
   "execution_count": 8,
   "id": "05bfbf81-f70d-4b62-9cfc-251b01c4bfb9",
   "metadata": {},
   "outputs": [
    {
     "name": "stdout",
     "output_type": "stream",
     "text": [
      "(49335, 3)\n"
     ]
    },
    {
     "data": {
      "text/html": [
       "<div>\n",
       "<style scoped>\n",
       "    .dataframe tbody tr th:only-of-type {\n",
       "        vertical-align: middle;\n",
       "    }\n",
       "\n",
       "    .dataframe tbody tr th {\n",
       "        vertical-align: top;\n",
       "    }\n",
       "\n",
       "    .dataframe thead th {\n",
       "        text-align: right;\n",
       "    }\n",
       "</style>\n",
       "<table border=\"1\" class=\"dataframe\">\n",
       "  <thead>\n",
       "    <tr style=\"text-align: right;\">\n",
       "      <th></th>\n",
       "      <th>hex_id</th>\n",
       "      <th>NOMGEO</th>\n",
       "      <th>geometry</th>\n",
       "    </tr>\n",
       "  </thead>\n",
       "  <tbody>\n",
       "    <tr>\n",
       "      <th>0</th>\n",
       "      <td>8a4995b8cb57fff</td>\n",
       "      <td>Azcapotzalco</td>\n",
       "      <td>POLYGON ((-99.19358 19.48193, -99.19293 19.482...</td>\n",
       "    </tr>\n",
       "    <tr>\n",
       "      <th>1</th>\n",
       "      <td>8a4995b83a4ffff</td>\n",
       "      <td>Azcapotzalco</td>\n",
       "      <td>POLYGON ((-99.15235 19.48171, -99.15170 19.482...</td>\n",
       "    </tr>\n",
       "  </tbody>\n",
       "</table>\n",
       "</div>"
      ],
      "text/plain": [
       "            hex_id        NOMGEO  \\\n",
       "0  8a4995b8cb57fff  Azcapotzalco   \n",
       "1  8a4995b83a4ffff  Azcapotzalco   \n",
       "\n",
       "                                            geometry  \n",
       "0  POLYGON ((-99.19358 19.48193, -99.19293 19.482...  \n",
       "1  POLYGON ((-99.15235 19.48171, -99.15170 19.482...  "
      ]
     },
     "execution_count": 8,
     "metadata": {},
     "output_type": "execute_result"
    }
   ],
   "source": [
    "# Filter hex_gdf for municipalities where Cutzamala system provides water\n",
    "alcaldias_cutzamala = ['Álvaro Obregón','Azcapotzalco', 'Cuajimalpa de Morelos','Iztacalco', \n",
    "                       'Iztapalapa','La Magdalena Contreras','Tlalpan', 'Benito Juárez', \n",
    "                       'Cuauhtémoc','Miguel Hidalgo', 'Venustiano Carranza']\n",
    "hex_gdf_f = hex_gdf.loc[hex_gdf.NOMGEO.isin(alcaldias_cutzamala)]\n",
    "\n",
    "# Shorten data\n",
    "hex_gdf_f = hex_gdf_f[['hex_id_10','NOMGEO','geometry']]\n",
    "hex_gdf_f.rename(columns={'hex_id_10':'hex_id'},inplace=True)\n",
    "\n",
    "# Show\n",
    "print(hex_gdf_f.shape)\n",
    "hex_gdf_f.head(2)"
   ]
  },
  {
   "cell_type": "markdown",
   "id": "5c7fc1f4-0729-46e8-89a7-eaa6c507d384",
   "metadata": {},
   "source": [
    "### Data with veg (NDVI) + alcaldías (hex_gdf)"
   ]
  },
  {
   "cell_type": "code",
   "execution_count": 9,
   "id": "273bae84-2f83-4e3d-8bb5-a184e3f90d8e",
   "metadata": {},
   "outputs": [
    {
     "name": "stdout",
     "output_type": "stream",
     "text": [
      "(18981, 5)\n"
     ]
    },
    {
     "data": {
      "text/html": [
       "<div>\n",
       "<style scoped>\n",
       "    .dataframe tbody tr th:only-of-type {\n",
       "        vertical-align: middle;\n",
       "    }\n",
       "\n",
       "    .dataframe tbody tr th {\n",
       "        vertical-align: top;\n",
       "    }\n",
       "\n",
       "    .dataframe thead th {\n",
       "        text-align: right;\n",
       "    }\n",
       "</style>\n",
       "<table border=\"1\" class=\"dataframe\">\n",
       "  <thead>\n",
       "    <tr style=\"text-align: right;\">\n",
       "      <th></th>\n",
       "      <th>hex_id</th>\n",
       "      <th>ndvi_median</th>\n",
       "      <th>ndvi_median_rango</th>\n",
       "      <th>NOMGEO</th>\n",
       "      <th>geometry</th>\n",
       "    </tr>\n",
       "  </thead>\n",
       "  <tbody>\n",
       "    <tr>\n",
       "      <th>0</th>\n",
       "      <td>8a4995b8d277fff</td>\n",
       "      <td>0.283320</td>\n",
       "      <td>Mínima densidad vegetal</td>\n",
       "      <td>Azcapotzalco</td>\n",
       "      <td>POLYGON ((-99.20948 19.50623, -99.20883 19.506...</td>\n",
       "    </tr>\n",
       "    <tr>\n",
       "      <th>1</th>\n",
       "      <td>8a4995b81107fff</td>\n",
       "      <td>0.215763</td>\n",
       "      <td>Mínima densidad vegetal</td>\n",
       "      <td>Azcapotzalco</td>\n",
       "      <td>POLYGON ((-99.16277 19.46651, -99.16212 19.466...</td>\n",
       "    </tr>\n",
       "  </tbody>\n",
       "</table>\n",
       "</div>"
      ],
      "text/plain": [
       "            hex_id  ndvi_median        ndvi_median_rango        NOMGEO  \\\n",
       "0  8a4995b8d277fff     0.283320  Mínima densidad vegetal  Azcapotzalco   \n",
       "1  8a4995b81107fff     0.215763  Mínima densidad vegetal  Azcapotzalco   \n",
       "\n",
       "                                            geometry  \n",
       "0  POLYGON ((-99.20948 19.50623, -99.20883 19.506...  \n",
       "1  POLYGON ((-99.16277 19.46651, -99.16212 19.466...  "
      ]
     },
     "execution_count": 9,
     "metadata": {},
     "output_type": "execute_result"
    }
   ],
   "source": [
    "# Inner join to keep data with veg of alcaldías of interest only\n",
    "data_withveg_alcaldias = data_withveg.merge(hex_gdf_f,on='hex_id',how='inner')\n",
    "\n",
    "# Show\n",
    "print(data_withveg_alcaldias.shape)\n",
    "data_withveg_alcaldias.head(2)"
   ]
  },
  {
   "cell_type": "markdown",
   "id": "224d6f20-5175-4d27-84d1-79a6245a6207",
   "metadata": {},
   "source": [
    "## NDMI Load data - Load using city, res and tupple of months of analysis"
   ]
  },
  {
   "cell_type": "code",
   "execution_count": 14,
   "id": "106f4ac2-9503-43da-ad11-8d66314a1255",
   "metadata": {},
   "outputs": [
    {
     "name": "stdout",
     "output_type": "stream",
     "text": [
      "(1911910, 4)\n"
     ]
    },
    {
     "data": {
      "text/html": [
       "<div>\n",
       "<style scoped>\n",
       "    .dataframe tbody tr th:only-of-type {\n",
       "        vertical-align: middle;\n",
       "    }\n",
       "\n",
       "    .dataframe tbody tr th {\n",
       "        vertical-align: top;\n",
       "    }\n",
       "\n",
       "    .dataframe thead th {\n",
       "        text-align: right;\n",
       "    }\n",
       "</style>\n",
       "<table border=\"1\" class=\"dataframe\">\n",
       "  <thead>\n",
       "    <tr style=\"text-align: right;\">\n",
       "      <th></th>\n",
       "      <th>hex_id</th>\n",
       "      <th>ndmi</th>\n",
       "      <th>month</th>\n",
       "      <th>year</th>\n",
       "    </tr>\n",
       "  </thead>\n",
       "  <tbody>\n",
       "    <tr>\n",
       "      <th>0</th>\n",
       "      <td>8a4995b8cb57fff</td>\n",
       "      <td>-0.048705</td>\n",
       "      <td>1</td>\n",
       "      <td>2023</td>\n",
       "    </tr>\n",
       "    <tr>\n",
       "      <th>1</th>\n",
       "      <td>8a4995b8dd07fff</td>\n",
       "      <td>-0.032961</td>\n",
       "      <td>1</td>\n",
       "      <td>2023</td>\n",
       "    </tr>\n",
       "  </tbody>\n",
       "</table>\n",
       "</div>"
      ],
      "text/plain": [
       "            hex_id      ndmi  month  year\n",
       "0  8a4995b8cb57fff -0.048705      1  2023\n",
       "1  8a4995b8dd07fff -0.032961      1  2023"
      ]
     },
     "execution_count": 14,
     "metadata": {},
     "output_type": "execute_result"
    }
   ],
   "source": [
    "# Hexs of interest (with vegetation and in alcaldias of interest)\n",
    "\n",
    "# Complete dataset NDMI res 10 data \n",
    "complete_ndmi_schema = 'raster_analysis'\n",
    "complete_ndmi_table = 'ndmi_complete_dataset_hex'\n",
    "res = 10\n",
    "\n",
    "# OPTION A - Downloading complete dataset and then filtering for months of interest (aprox. 700-1000s)\n",
    "#query = f\"SELECT * FROM {complete_ndmi_schema}.{complete_ndmi_table} WHERE \\\"city\\\" LIKE \\'{city}\\' AND \\\"res\\\"={res}\"\n",
    "#complete_ndmi_res10 = aup.df_from_query(query)\n",
    "#months_ofinterest = [1,2,3,4,5]\n",
    "#complete_ndmi_res10_f = complete_ndmi_res10.loc[complete_ndmi_res10.month.isin(months_ofinterest)]\n",
    "\n",
    "# OPTION B - Using hex_lsts and quering with tupple (First time 3494s, second time 3409s)\n",
    "#hexs_lst = list(data_withveg_alcaldias.hex_id.unique())\n",
    "#query = f\"SELECT * FROM {complete_ndmi_schema}.{complete_ndmi_table} WHERE \\\"city\\\" LIKE \\'{city}\\' AND \\\"res\\\"={res} AND \\\"hex_id\\\" IN {str(tuple(hexs_lst))}\"\n",
    "#complete_ndmi_res10 = aup.df_from_query(query)\n",
    "\n",
    "# OPTION C - Downloading complete dataset filtering for months of interest in query (806s)\n",
    "months_ofinterest = [1,2,3,4,5]\n",
    "query = f\"SELECT * FROM {complete_ndmi_schema}.{complete_ndmi_table} WHERE \\\"city\\\" LIKE \\'{city}\\' AND \\\"res\\\"={res} AND \\\"month\\\" IN {str(tuple(months_ofinterest))}\"\n",
    "complete_ndmi_res10 = aup.df_from_query(query)\n",
    "\n",
    "# Shorten data\n",
    "complete_ndmi_res10_f = complete_ndmi_res10[['hex_id','ndmi','month','year']]\n",
    "\n",
    "# Show\n",
    "print(complete_ndmi_res10_f.shape)\n",
    "complete_ndmi_res10_f.head(2)"
   ]
  },
  {
   "cell_type": "markdown",
   "id": "f119a0c4-db41-4143-8ba6-237170965104",
   "metadata": {},
   "source": [
    "## Data treatment"
   ]
  },
  {
   "cell_type": "markdown",
   "id": "69247025-a525-406c-add5-5c377e13b08a",
   "metadata": {},
   "source": [
    "### Data treatment - Merge ndmi for places with vegetation"
   ]
  },
  {
   "cell_type": "code",
   "execution_count": 17,
   "id": "125afd2e-cb26-422f-a748-e1857bc5ebaf",
   "metadata": {},
   "outputs": [
    {
     "name": "stdout",
     "output_type": "stream",
     "text": [
      "(1063010, 6)\n"
     ]
    },
    {
     "data": {
      "text/html": [
       "<div>\n",
       "<style scoped>\n",
       "    .dataframe tbody tr th:only-of-type {\n",
       "        vertical-align: middle;\n",
       "    }\n",
       "\n",
       "    .dataframe tbody tr th {\n",
       "        vertical-align: top;\n",
       "    }\n",
       "\n",
       "    .dataframe thead th {\n",
       "        text-align: right;\n",
       "    }\n",
       "</style>\n",
       "<table border=\"1\" class=\"dataframe\">\n",
       "  <thead>\n",
       "    <tr style=\"text-align: right;\">\n",
       "      <th></th>\n",
       "      <th>hex_id</th>\n",
       "      <th>ndvi_median</th>\n",
       "      <th>ndvi_median_rango</th>\n",
       "      <th>ndmi</th>\n",
       "      <th>month</th>\n",
       "      <th>year</th>\n",
       "    </tr>\n",
       "  </thead>\n",
       "  <tbody>\n",
       "    <tr>\n",
       "      <th>0</th>\n",
       "      <td>8a4995b8d277fff</td>\n",
       "      <td>0.28332</td>\n",
       "      <td>Mínima densidad vegetal</td>\n",
       "      <td>0.025837</td>\n",
       "      <td>1</td>\n",
       "      <td>2023</td>\n",
       "    </tr>\n",
       "    <tr>\n",
       "      <th>1</th>\n",
       "      <td>8a4995b8d277fff</td>\n",
       "      <td>0.28332</td>\n",
       "      <td>Mínima densidad vegetal</td>\n",
       "      <td>0.006358</td>\n",
       "      <td>2</td>\n",
       "      <td>2023</td>\n",
       "    </tr>\n",
       "  </tbody>\n",
       "</table>\n",
       "</div>"
      ],
      "text/plain": [
       "            hex_id  ndvi_median        ndvi_median_rango      ndmi  month  \\\n",
       "0  8a4995b8d277fff      0.28332  Mínima densidad vegetal  0.025837      1   \n",
       "1  8a4995b8d277fff      0.28332  Mínima densidad vegetal  0.006358      2   \n",
       "\n",
       "   year  \n",
       "0  2023  \n",
       "1  2023  "
      ]
     },
     "execution_count": 17,
     "metadata": {},
     "output_type": "execute_result"
    }
   ],
   "source": [
    "# Inner merge to keep ndmi data for hexs with vegetation only\n",
    "ndvi_ndmi_gdf = data_withveg.merge(complete_ndmi_res10_f, on='hex_id',how='inner')\n",
    "\n",
    "# Show\n",
    "print(ndvi_ndmi_gdf.shape)\n",
    "ndvi_ndmi_gdf.head(2)"
   ]
  },
  {
   "cell_type": "markdown",
   "id": "58dcaeb6-1803-4bfc-aae7-0964a2affeae",
   "metadata": {},
   "source": [
    "## Data analysis"
   ]
  },
  {
   "cell_type": "markdown",
   "id": "80d4181b-3ec3-4826-bdd8-aac6b1ce8904",
   "metadata": {},
   "source": [
    "### Método elegido - Group by + transform data"
   ]
  },
  {
   "cell_type": "code",
   "execution_count": 37,
   "id": "f30238a2-a44d-486b-96d8-23136d5d4921",
   "metadata": {},
   "outputs": [
    {
     "data": {
      "text/html": [
       "<div>\n",
       "<style scoped>\n",
       "    .dataframe tbody tr th:only-of-type {\n",
       "        vertical-align: middle;\n",
       "    }\n",
       "\n",
       "    .dataframe tbody tr th {\n",
       "        vertical-align: top;\n",
       "    }\n",
       "\n",
       "    .dataframe thead th {\n",
       "        text-align: right;\n",
       "    }\n",
       "</style>\n",
       "<table border=\"1\" class=\"dataframe\">\n",
       "  <thead>\n",
       "    <tr style=\"text-align: right;\">\n",
       "      <th></th>\n",
       "      <th>hex_id</th>\n",
       "      <th>NOMGEO</th>\n",
       "      <th>geometry</th>\n",
       "      <th>ene-may_2018</th>\n",
       "      <th>ene-may_2019</th>\n",
       "      <th>ene-may_2020</th>\n",
       "      <th>ene-may_2021</th>\n",
       "      <th>ene-may_2022</th>\n",
       "      <th>ene-may_2023</th>\n",
       "    </tr>\n",
       "  </thead>\n",
       "  <tbody>\n",
       "    <tr>\n",
       "      <th>0</th>\n",
       "      <td>8a4995b81b27fff</td>\n",
       "      <td>Azcapotzalco</td>\n",
       "      <td>POLYGON ((-99.17277 19.46465, -99.17213 19.465...</td>\n",
       "      <td>0.044359</td>\n",
       "      <td>0.042229</td>\n",
       "      <td>0.061561</td>\n",
       "      <td>0.056257</td>\n",
       "      <td>0.039622</td>\n",
       "      <td>0.024283</td>\n",
       "    </tr>\n",
       "    <tr>\n",
       "      <th>1</th>\n",
       "      <td>8a4995baa49ffff</td>\n",
       "      <td>Azcapotzalco</td>\n",
       "      <td>POLYGON ((-99.17202 19.46359, -99.17138 19.464...</td>\n",
       "      <td>0.036326</td>\n",
       "      <td>0.035393</td>\n",
       "      <td>0.055935</td>\n",
       "      <td>0.050881</td>\n",
       "      <td>0.037117</td>\n",
       "      <td>0.021332</td>\n",
       "    </tr>\n",
       "    <tr>\n",
       "      <th>2</th>\n",
       "      <td>8a4995baa6f7fff</td>\n",
       "      <td>Azcapotzalco</td>\n",
       "      <td>POLYGON ((-99.17996 19.47076, -99.17931 19.471...</td>\n",
       "      <td>0.063569</td>\n",
       "      <td>0.064508</td>\n",
       "      <td>0.089804</td>\n",
       "      <td>0.075977</td>\n",
       "      <td>0.051897</td>\n",
       "      <td>0.041203</td>\n",
       "    </tr>\n",
       "    <tr>\n",
       "      <th>3</th>\n",
       "      <td>8a4995b8da0ffff</td>\n",
       "      <td>Azcapotzalco</td>\n",
       "      <td>POLYGON ((-99.21230 19.49826, -99.21165 19.498...</td>\n",
       "      <td>0.047337</td>\n",
       "      <td>0.068382</td>\n",
       "      <td>0.027007</td>\n",
       "      <td>-0.003597</td>\n",
       "      <td>0.041621</td>\n",
       "      <td>-0.005511</td>\n",
       "    </tr>\n",
       "    <tr>\n",
       "      <th>4</th>\n",
       "      <td>8a4995bab7affff</td>\n",
       "      <td>Azcapotzalco</td>\n",
       "      <td>POLYGON ((-99.19955 19.48036, -99.19890 19.480...</td>\n",
       "      <td>0.018522</td>\n",
       "      <td>0.010196</td>\n",
       "      <td>0.018774</td>\n",
       "      <td>0.018388</td>\n",
       "      <td>0.017814</td>\n",
       "      <td>0.008704</td>\n",
       "    </tr>\n",
       "    <tr>\n",
       "      <th>...</th>\n",
       "      <td>...</td>\n",
       "      <td>...</td>\n",
       "      <td>...</td>\n",
       "      <td>...</td>\n",
       "      <td>...</td>\n",
       "      <td>...</td>\n",
       "      <td>...</td>\n",
       "      <td>...</td>\n",
       "      <td>...</td>\n",
       "    </tr>\n",
       "    <tr>\n",
       "      <th>18976</th>\n",
       "      <td>8a4995b8640ffff</td>\n",
       "      <td>Venustiano Carranza</td>\n",
       "      <td>POLYGON ((-99.11389 19.44359, -99.11324 19.444...</td>\n",
       "      <td>0.028383</td>\n",
       "      <td>0.024993</td>\n",
       "      <td>0.037698</td>\n",
       "      <td>0.039310</td>\n",
       "      <td>0.035020</td>\n",
       "      <td>0.019361</td>\n",
       "    </tr>\n",
       "    <tr>\n",
       "      <th>18977</th>\n",
       "      <td>8a4995bb3d57fff</td>\n",
       "      <td>Venustiano Carranza</td>\n",
       "      <td>POLYGON ((-99.09936 19.41918, -99.09872 19.419...</td>\n",
       "      <td>0.054442</td>\n",
       "      <td>0.058805</td>\n",
       "      <td>0.079736</td>\n",
       "      <td>0.076332</td>\n",
       "      <td>0.059195</td>\n",
       "      <td>0.041614</td>\n",
       "    </tr>\n",
       "    <tr>\n",
       "      <th>18978</th>\n",
       "      <td>8a4995bb1597fff</td>\n",
       "      <td>Venustiano Carranza</td>\n",
       "      <td>POLYGON ((-99.11205 19.41712, -99.11140 19.417...</td>\n",
       "      <td>0.021455</td>\n",
       "      <td>0.009891</td>\n",
       "      <td>0.021921</td>\n",
       "      <td>0.022106</td>\n",
       "      <td>0.021361</td>\n",
       "      <td>0.007051</td>\n",
       "    </tr>\n",
       "    <tr>\n",
       "      <th>18979</th>\n",
       "      <td>8a4995bb070ffff</td>\n",
       "      <td>Venustiano Carranza</td>\n",
       "      <td>POLYGON ((-99.10278 19.41005, -99.10213 19.410...</td>\n",
       "      <td>0.013737</td>\n",
       "      <td>0.005663</td>\n",
       "      <td>0.012716</td>\n",
       "      <td>0.019606</td>\n",
       "      <td>0.014213</td>\n",
       "      <td>0.011818</td>\n",
       "    </tr>\n",
       "    <tr>\n",
       "      <th>18980</th>\n",
       "      <td>8a4995b86997fff</td>\n",
       "      <td>Venustiano Carranza</td>\n",
       "      <td>POLYGON ((-99.12253 19.43185, -99.12188 19.432...</td>\n",
       "      <td>-0.011322</td>\n",
       "      <td>-0.010601</td>\n",
       "      <td>-0.007597</td>\n",
       "      <td>-0.004334</td>\n",
       "      <td>-0.006465</td>\n",
       "      <td>-0.016716</td>\n",
       "    </tr>\n",
       "  </tbody>\n",
       "</table>\n",
       "<p>18981 rows × 9 columns</p>\n",
       "</div>"
      ],
      "text/plain": [
       "                hex_id               NOMGEO  \\\n",
       "0      8a4995b81b27fff         Azcapotzalco   \n",
       "1      8a4995baa49ffff         Azcapotzalco   \n",
       "2      8a4995baa6f7fff         Azcapotzalco   \n",
       "3      8a4995b8da0ffff         Azcapotzalco   \n",
       "4      8a4995bab7affff         Azcapotzalco   \n",
       "...                ...                  ...   \n",
       "18976  8a4995b8640ffff  Venustiano Carranza   \n",
       "18977  8a4995bb3d57fff  Venustiano Carranza   \n",
       "18978  8a4995bb1597fff  Venustiano Carranza   \n",
       "18979  8a4995bb070ffff  Venustiano Carranza   \n",
       "18980  8a4995b86997fff  Venustiano Carranza   \n",
       "\n",
       "                                                geometry  ene-may_2018  \\\n",
       "0      POLYGON ((-99.17277 19.46465, -99.17213 19.465...      0.044359   \n",
       "1      POLYGON ((-99.17202 19.46359, -99.17138 19.464...      0.036326   \n",
       "2      POLYGON ((-99.17996 19.47076, -99.17931 19.471...      0.063569   \n",
       "3      POLYGON ((-99.21230 19.49826, -99.21165 19.498...      0.047337   \n",
       "4      POLYGON ((-99.19955 19.48036, -99.19890 19.480...      0.018522   \n",
       "...                                                  ...           ...   \n",
       "18976  POLYGON ((-99.11389 19.44359, -99.11324 19.444...      0.028383   \n",
       "18977  POLYGON ((-99.09936 19.41918, -99.09872 19.419...      0.054442   \n",
       "18978  POLYGON ((-99.11205 19.41712, -99.11140 19.417...      0.021455   \n",
       "18979  POLYGON ((-99.10278 19.41005, -99.10213 19.410...      0.013737   \n",
       "18980  POLYGON ((-99.12253 19.43185, -99.12188 19.432...     -0.011322   \n",
       "\n",
       "       ene-may_2019  ene-may_2020  ene-may_2021  ene-may_2022  ene-may_2023  \n",
       "0          0.042229      0.061561      0.056257      0.039622      0.024283  \n",
       "1          0.035393      0.055935      0.050881      0.037117      0.021332  \n",
       "2          0.064508      0.089804      0.075977      0.051897      0.041203  \n",
       "3          0.068382      0.027007     -0.003597      0.041621     -0.005511  \n",
       "4          0.010196      0.018774      0.018388      0.017814      0.008704  \n",
       "...             ...           ...           ...           ...           ...  \n",
       "18976      0.024993      0.037698      0.039310      0.035020      0.019361  \n",
       "18977      0.058805      0.079736      0.076332      0.059195      0.041614  \n",
       "18978      0.009891      0.021921      0.022106      0.021361      0.007051  \n",
       "18979      0.005663      0.012716      0.019606      0.014213      0.011818  \n",
       "18980     -0.010601     -0.007597     -0.004334     -0.006465     -0.016716  \n",
       "\n",
       "[18981 rows x 9 columns]"
      ]
     },
     "execution_count": 37,
     "metadata": {},
     "output_type": "execute_result"
    }
   ],
   "source": [
    "# Isolate categories and data\n",
    "data_analysis = ndvi_ndmi_gdf[['hex_id','year','ndmi']].copy()\n",
    "\n",
    "# Group by\n",
    "grouped_by = data_analysis.groupby(['hex_id','year']).mean()\n",
    "grouped_by.reset_index(inplace=True)\n",
    "\n",
    "# Transform data\n",
    "# GDF with unique rows for each geometry (hex)\n",
    "mean_ndmi_bydate = hex_gdf_f.copy()\n",
    "\n",
    "# Loop that transforms data to columns\n",
    "for year in grouped_by.year.unique():\n",
    "    \n",
    "    # Isolate new column data (In this case, year)\n",
    "    idx = grouped_by.year == year\n",
    "    df_tmp = grouped_by.loc[idx,['hex_id','ndmi']].copy()\n",
    "    \n",
    "    # Assign as column name (In this case, year)\n",
    "    df_tmp = df_tmp.rename(columns={'ndmi':f\"ene-may_{year}\"})\n",
    "    \n",
    "    # Merge to gdf with unique geometry IDs (In this case, hex_id)\n",
    "    mean_ndmi_bydate = mean_ndmi_bydate.merge(df_tmp, on='hex_id',how='inner')\n",
    "\n",
    "mean_ndmi_bydate"
   ]
  },
  {
   "cell_type": "markdown",
   "id": "e14a33cf-93ce-4c71-8a7c-a5c513b27e4a",
   "metadata": {
    "jp-MarkdownHeadingCollapsed": true
   },
   "source": [
    "### Método 1 - 1425s"
   ]
  },
  {
   "cell_type": "code",
   "execution_count": 18,
   "id": "a9819b42-2124-44b6-8c07-f7c3cff19b56",
   "metadata": {},
   "outputs": [],
   "source": [
    "metodo_1 = False"
   ]
  },
  {
   "cell_type": "code",
   "execution_count": 19,
   "id": "f8f4d8dd-254c-4fc1-879f-b50380265aa4",
   "metadata": {},
   "outputs": [],
   "source": [
    "if metodo_1:\n",
    "    mean_ndmi_bydate = hex_gdf_f.copy()\n",
    "    \n",
    "    i = 0\n",
    "    for year in data_withveg_alcaldias.year.unique():\n",
    "        for month in data_withveg_alcaldias.month.unique():\n",
    "            for alcaldia in data_withveg_alcaldias.NOMGEO.unique():\n",
    "    \n",
    "                print(f\"Calculating mean ndmi in {alcaldia} date {month}/{year}.\")\n",
    "                    \n",
    "                data_df = data_withveg_alcaldias.loc[(data_withveg_alcaldias.year == year) &\n",
    "                                                     (data_withveg_alcaldias.month == month) &\n",
    "                                                     (data_withveg_alcaldias.NOMGEO == alcaldia)].copy()\n",
    "    \n",
    "                for hex_id in data_df['hex_id'].unique():\n",
    "                    # Get each mean hex_id data for current year, month and alcaldía\n",
    "                    hex_data = data_df.loc[data_df['hex_id'] == hex_id].copy()\n",
    "                    mean_ndmi = hex_data['ndmi'].mean()\n",
    "                    # Register data\n",
    "                    idx = mean_ndmi_bydate['hex_id'] == hex_id\n",
    "                    mean_ndmi_bydate.loc[idx,f\"{year}_{month}\"] = mean_ndmi\n",
    "    \n",
    "    # Show\n",
    "    print(mean_ndmi_bydate.shape)\n",
    "    mean_ndmi_bydate.head(2)"
   ]
  },
  {
   "cell_type": "markdown",
   "id": "3784f15f-f651-4dee-8110-c538fe8597d9",
   "metadata": {
    "jp-MarkdownHeadingCollapsed": true
   },
   "source": [
    "### Método 2 - Transform data to columns and calculate mean on row axis (Canceled)"
   ]
  },
  {
   "cell_type": "code",
   "execution_count": 20,
   "id": "4578e3ed-6690-4890-a3bb-b7b62e8dc722",
   "metadata": {},
   "outputs": [],
   "source": [
    "metodo_2 = False"
   ]
  },
  {
   "cell_type": "code",
   "execution_count": 21,
   "id": "a2d2810e-5dc0-4955-8eae-e70ac9b0ab09",
   "metadata": {},
   "outputs": [],
   "source": [
    "if metodo_2:\n",
    "    data_analysis = data_withveg_alcaldias.copy()\n",
    "    # Create date column\n",
    "    data_analysis['year'] = data_analysis['year'].astype('str')\n",
    "    data_analysis['month'] = data_analysis['month'].astype('str') \n",
    "    data_analysis['date'] =  data_analysis['year'] + \"_\"+ data_analysis['month']\n",
    "    # Drop columns no longer in use\n",
    "    data_analysis.drop(columns=['ndvi_median','ndvi_median_rango','month','year'],inplace=True)\n",
    "    \n",
    "    # Show\n",
    "    print(data_analysis.shape)\n",
    "    data_analysis.head(2)"
   ]
  },
  {
   "cell_type": "code",
   "execution_count": 22,
   "id": "3af98ae8-b58f-4520-90ba-29956cfb2205",
   "metadata": {},
   "outputs": [],
   "source": [
    "if metodo_2:\n",
    "    # TRANSFORM DATA FROM MULTIPLE ROWS TO COLUMNS\n",
    "    ######################################################################### CÓDIGO BASE PARA REPOSICIONAR DATOS (Script 15-15min-cities)\n",
    "    # delete duplicates and keep only one point for each node\n",
    "    #nodes_geom = nodes.drop_duplicates(subset='osmid', keep=\"last\")[['osmid','geometry','metropolis']].copy()\n",
    "    #nodes_analysis = nodes_geom.copy()\n",
    "    \n",
    "    # relate time data to each point\n",
    "    #for amenidad in list(nodes.amenity.unique()):\n",
    "    \n",
    "    #    nodes_tmp = nodes.loc[nodes.amenity == amenidad,['osmid','time']]\n",
    "    #    nodes_tmp = nodes_tmp.rename(columns={'time':amenidad})\n",
    "    \n",
    "    #    if nodes_tmp[amenidad].mean() == 0:\n",
    "    #        nodes_tmp[amenidad] = np.nan\n",
    "    \n",
    "    #    nodes_analysis = nodes_analysis.merge(nodes_tmp, on='osmid')\n",
    "    \n",
    "    ######################################################################### PARA ESTE CÓDIGO\n",
    "    #nodes_analysis (gdf con 1 row para cada geometría) --> proviene de data_analysis \n",
    "    #amenidad --> date (lo que serán las columnas en el nuevo gdf)\n",
    "    #osmid --> hex_id (columna de ID de las geometrías)\n",
    "    #time --> ndmi (columna con datos a reposicionar)\n",
    "    \n",
    "    ######################################################################### APLICACIÓN\n",
    "    # GDF with unique rows for each geometry\n",
    "    mean_ndmi_bydate = data_analysis.drop_duplicates(subset='hex_id', keep='last')[['hex_id','geometry','NOMGEO']].copy()\n",
    "    \n",
    "    # Loop that transforms data\n",
    "    for date in data_analysis.date.unique():\n",
    "        \n",
    "        # Isolate new column data (In this case, date)\n",
    "        idx = data_analysis.date == date\n",
    "        df_tmp = data_analysis.loc[idx,['hex_id','ndmi']].copy()\n",
    "        \n",
    "        # Assign as column name (In this case, date)\n",
    "        df_tmp = df_tmp.rename(columns={'ndmi':date})\n",
    "        \n",
    "        # Merge to gdf with unique geometry IDs (In this case, hex_id)\n",
    "        mean_ndmi_bydate = mean_ndmi_bydate.merge(df_tmp, on='hex_id',how='inner')\n",
    "    \n",
    "    mean_ndmi_bydate"
   ]
  },
  {
   "cell_type": "markdown",
   "id": "7a3391f2-4449-4b37-b114-a6f63ae60def",
   "metadata": {},
   "source": [
    "## Save"
   ]
  },
  {
   "cell_type": "code",
   "execution_count": 40,
   "id": "e69c274d-09fc-410a-bcb7-b7a2fa017b57",
   "metadata": {},
   "outputs": [],
   "source": [
    "save_dir = f'../../../data/external/temporal_fromjupyter/'\n",
    "mean_ndmi_bydate.to_file(save_dir+\"cutzamala/cdmx_enemay_ndmi.gpkg\")"
   ]
  },
  {
   "cell_type": "code",
   "execution_count": null,
   "id": "9a99bd63-efab-4660-842e-3f07c6cb8e71",
   "metadata": {},
   "outputs": [],
   "source": []
  }
 ],
 "metadata": {
  "kernelspec": {
   "display_name": "GDS-10.0",
   "language": "python",
   "name": "gds"
  },
  "language_info": {
   "codemirror_mode": {
    "name": "ipython",
    "version": 3
   },
   "file_extension": ".py",
   "mimetype": "text/x-python",
   "name": "python",
   "nbconvert_exporter": "python",
   "pygments_lexer": "ipython3",
   "version": "3.9.18"
  }
 },
 "nbformat": 4,
 "nbformat_minor": 5
}
