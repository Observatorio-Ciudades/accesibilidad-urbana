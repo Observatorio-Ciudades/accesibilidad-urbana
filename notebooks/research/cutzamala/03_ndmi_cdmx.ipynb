{
 "cells": [
  {
   "cell_type": "markdown",
   "id": "6fc4f582-94ec-46fc-94b7-0fe0cd3791b1",
   "metadata": {},
   "source": [
    "## Import libraries"
   ]
  },
  {
   "cell_type": "code",
   "execution_count": 1,
   "id": "a974aa7f-fb72-42eb-8abf-5dce31633bcc",
   "metadata": {},
   "outputs": [
    {
     "name": "stderr",
     "output_type": "stream",
     "text": [
      "/home/jovyan/accesibilidad-urbana/aup/data.py:25: UserWarning: The `utils.config` function is deprecated and will be removed in a future release. Instead, use the `settings` module directly to configure a global setting's value. For example, `ox.settings.log_console=True`.\n",
      "  ox.config(\n"
     ]
    }
   ],
   "source": [
    "import os\n",
    "import sys\n",
    "\n",
    "import pandas as pd\n",
    "import geopandas as gpd\n",
    "import numpy as np\n",
    "\n",
    "import matplotlib.pyplot as plt\n",
    "from matplotlib import colors\n",
    "import seaborn as sns\n",
    "\n",
    "from pandas.api.types import CategoricalDtype\n",
    "\n",
    "import warnings\n",
    "warnings.simplefilter(action='ignore', category=FutureWarning)\n",
    "\n",
    "module_path = os.path.abspath(os.path.join('../../../'))\n",
    "if module_path not in sys.path:\n",
    "    sys.path.append(module_path)\n",
    "    import aup"
   ]
  },
  {
   "cell_type": "code",
   "execution_count": 2,
   "id": "879d44d6-f02e-462b-9aff-42e66d799c1a",
   "metadata": {},
   "outputs": [],
   "source": [
    "city = 'CDMX'"
   ]
  },
  {
   "cell_type": "markdown",
   "id": "0e1fcd00-30fb-497b-b4c5-3aa46e84d1c4",
   "metadata": {},
   "source": [
    "## Load data"
   ]
  },
  {
   "cell_type": "markdown",
   "id": "7d0addaa-d6f7-412b-a81a-2fe9ce3143a7",
   "metadata": {},
   "source": [
    "### Load data - Load hex_gdf (Contiene alcaldías)"
   ]
  },
  {
   "cell_type": "code",
   "execution_count": 13,
   "id": "a0a7a4b4-3579-42fa-a584-b43dcb5871b5",
   "metadata": {},
   "outputs": [
    {
     "name": "stdout",
     "output_type": "stream",
     "text": [
      "(49335, 6)\n"
     ]
    },
    {
     "data": {
      "text/html": [
       "<div>\n",
       "<style scoped>\n",
       "    .dataframe tbody tr th:only-of-type {\n",
       "        vertical-align: middle;\n",
       "    }\n",
       "\n",
       "    .dataframe tbody tr th {\n",
       "        vertical-align: top;\n",
       "    }\n",
       "\n",
       "    .dataframe thead th {\n",
       "        text-align: right;\n",
       "    }\n",
       "</style>\n",
       "<table border=\"1\" class=\"dataframe\">\n",
       "  <thead>\n",
       "    <tr style=\"text-align: right;\">\n",
       "      <th></th>\n",
       "      <th>hex_id_10</th>\n",
       "      <th>geometry</th>\n",
       "      <th>CVEGEO</th>\n",
       "      <th>NOMGEO</th>\n",
       "      <th>city</th>\n",
       "      <th>type</th>\n",
       "    </tr>\n",
       "  </thead>\n",
       "  <tbody>\n",
       "    <tr>\n",
       "      <th>0</th>\n",
       "      <td>8a4995b8cb57fff</td>\n",
       "      <td>POLYGON ((-99.19358 19.48193, -99.19293 19.482...</td>\n",
       "      <td>09002</td>\n",
       "      <td>Azcapotzalco</td>\n",
       "      <td>CDMX</td>\n",
       "      <td>urban</td>\n",
       "    </tr>\n",
       "    <tr>\n",
       "      <th>1</th>\n",
       "      <td>8a4995b88d67fff</td>\n",
       "      <td>POLYGON ((-99.17778 19.49754, -99.17713 19.497...</td>\n",
       "      <td>09002</td>\n",
       "      <td>Azcapotzalco</td>\n",
       "      <td>CDMX</td>\n",
       "      <td>urban</td>\n",
       "    </tr>\n",
       "  </tbody>\n",
       "</table>\n",
       "</div>"
      ],
      "text/plain": [
       "         hex_id_10                                           geometry CVEGEO  \\\n",
       "0  8a4995b8cb57fff  POLYGON ((-99.19358 19.48193, -99.19293 19.482...  09002   \n",
       "1  8a4995b88d67fff  POLYGON ((-99.17778 19.49754, -99.17713 19.497...  09002   \n",
       "\n",
       "         NOMGEO  city   type  \n",
       "0  Azcapotzalco  CDMX  urban  \n",
       "1  Azcapotzalco  CDMX  urban  "
      ]
     },
     "execution_count": 13,
     "metadata": {},
     "output_type": "execute_result"
    }
   ],
   "source": [
    "# Download hex_gdf\n",
    "hex_schema = 'hexgrid'\n",
    "hex_table = 'hexgrid_10_city_2020'\n",
    "query = f\"SELECT * FROM {hex_schema}.{hex_table} WHERE \\\"city\\\" LIKE \\'{city}\\'\"\n",
    "hex_gdf = aup.gdf_from_query(query, geometry_col='geometry')\n",
    "\n",
    "# Show\n",
    "print(hex_gdf.shape)\n",
    "hex_gdf.head(2)"
   ]
  },
  {
   "cell_type": "code",
   "execution_count": 30,
   "id": "05bfbf81-f70d-4b62-9cfc-251b01c4bfb9",
   "metadata": {},
   "outputs": [
    {
     "name": "stdout",
     "output_type": "stream",
     "text": [
      "(49335, 3)\n"
     ]
    },
    {
     "data": {
      "text/html": [
       "<div>\n",
       "<style scoped>\n",
       "    .dataframe tbody tr th:only-of-type {\n",
       "        vertical-align: middle;\n",
       "    }\n",
       "\n",
       "    .dataframe tbody tr th {\n",
       "        vertical-align: top;\n",
       "    }\n",
       "\n",
       "    .dataframe thead th {\n",
       "        text-align: right;\n",
       "    }\n",
       "</style>\n",
       "<table border=\"1\" class=\"dataframe\">\n",
       "  <thead>\n",
       "    <tr style=\"text-align: right;\">\n",
       "      <th></th>\n",
       "      <th>hex_id_10</th>\n",
       "      <th>NOMGEO</th>\n",
       "      <th>geometry</th>\n",
       "    </tr>\n",
       "  </thead>\n",
       "  <tbody>\n",
       "    <tr>\n",
       "      <th>0</th>\n",
       "      <td>8a4995b8cb57fff</td>\n",
       "      <td>Azcapotzalco</td>\n",
       "      <td>POLYGON ((-99.19358 19.48193, -99.19293 19.482...</td>\n",
       "    </tr>\n",
       "    <tr>\n",
       "      <th>1</th>\n",
       "      <td>8a4995b88d67fff</td>\n",
       "      <td>Azcapotzalco</td>\n",
       "      <td>POLYGON ((-99.17778 19.49754, -99.17713 19.497...</td>\n",
       "    </tr>\n",
       "  </tbody>\n",
       "</table>\n",
       "</div>"
      ],
      "text/plain": [
       "         hex_id_10        NOMGEO  \\\n",
       "0  8a4995b8cb57fff  Azcapotzalco   \n",
       "1  8a4995b88d67fff  Azcapotzalco   \n",
       "\n",
       "                                            geometry  \n",
       "0  POLYGON ((-99.19358 19.48193, -99.19293 19.482...  \n",
       "1  POLYGON ((-99.17778 19.49754, -99.17713 19.497...  "
      ]
     },
     "execution_count": 30,
     "metadata": {},
     "output_type": "execute_result"
    }
   ],
   "source": [
    "# Filter hex_gdf for municipalities where Cutzamala system provides water\n",
    "alcaldias_cutzamala = ['Álvaro Obregón','Azcapotzalco', 'Cuajimalpa de Morelos','Iztacalco', \n",
    "                       'Iztapalapa','La Magdalena Contreras','Tlalpan', 'Benito Juárez', \n",
    "                       'Cuauhtémoc','Miguel Hidalgo', 'Venustiano Carranza']\n",
    "hex_gdf_f = hex_gdf.loc[hex_gdf.NOMGEO.isin(alcaldias_cutzamala)]\n",
    "\n",
    "# Shorten data\n",
    "hex_gdf_f = hex_gdf_f[['hex_id_10','NOMGEO','geometry']]\n",
    "\n",
    "# Show\n",
    "print(hex_gdf_f.shape)\n",
    "hex_gdf_f.head(2)"
   ]
  },
  {
   "cell_type": "markdown",
   "id": "79d68b49-4885-4230-a558-e0d4e5dfc62d",
   "metadata": {},
   "source": [
    "### Load data - Load NDVI (To know where there's vegetation)"
   ]
  },
  {
   "cell_type": "code",
   "execution_count": null,
   "id": "195d2679-bf9c-4940-acf5-7ff5a8425a11",
   "metadata": {},
   "outputs": [],
   "source": [
    "# Downloading NDVI res 10 data ########################## When available\n",
    "ndvi_schema = 'raster_analysis'\n",
    "ndvi_table = 'ndvi_analysis_hex'\n",
    "res = 10\n",
    "\n",
    "query = f\"SELECT * FROM {ndvi_schema}.{ndvi_table} WHERE \\\"city\\\" LIKE \\'{city}\\' AND \\\"res\\\" = {res}\"\n",
    "ndvi_res10 = aup.gdf_from_query(query, geometry_col='geometry')\n",
    "\n",
    "# Shorten data\n",
    "ndvi_res10 = ndvi_res10[['hex_id','ndvi_median','geometry']]\n",
    "\n",
    "print(ndvi_res10.shape)\n",
    "ndvi_res10.head(2)"
   ]
  },
  {
   "cell_type": "markdown",
   "id": "224d6f20-5175-4d27-84d1-79a6245a6207",
   "metadata": {},
   "source": [
    "### Load data - Load NDMI"
   ]
  },
  {
   "cell_type": "code",
   "execution_count": 21,
   "id": "106f4ac2-9503-43da-ad11-8d66314a1255",
   "metadata": {},
   "outputs": [
    {
     "name": "stdout",
     "output_type": "stream",
     "text": [
      "(3873900, 6)\n"
     ]
    },
    {
     "data": {
      "text/html": [
       "<div>\n",
       "<style scoped>\n",
       "    .dataframe tbody tr th:only-of-type {\n",
       "        vertical-align: middle;\n",
       "    }\n",
       "\n",
       "    .dataframe tbody tr th {\n",
       "        vertical-align: top;\n",
       "    }\n",
       "\n",
       "    .dataframe thead th {\n",
       "        text-align: right;\n",
       "    }\n",
       "</style>\n",
       "<table border=\"1\" class=\"dataframe\">\n",
       "  <thead>\n",
       "    <tr style=\"text-align: right;\">\n",
       "      <th></th>\n",
       "      <th>hex_id</th>\n",
       "      <th>res</th>\n",
       "      <th>ndmi</th>\n",
       "      <th>month</th>\n",
       "      <th>year</th>\n",
       "      <th>city</th>\n",
       "    </tr>\n",
       "  </thead>\n",
       "  <tbody>\n",
       "    <tr>\n",
       "      <th>0</th>\n",
       "      <td>8a4995862907fff</td>\n",
       "      <td>10</td>\n",
       "      <td>0.003396</td>\n",
       "      <td>1</td>\n",
       "      <td>2018</td>\n",
       "      <td>CDMX</td>\n",
       "    </tr>\n",
       "    <tr>\n",
       "      <th>1</th>\n",
       "      <td>8a4995860517fff</td>\n",
       "      <td>10</td>\n",
       "      <td>0.070490</td>\n",
       "      <td>1</td>\n",
       "      <td>2018</td>\n",
       "      <td>CDMX</td>\n",
       "    </tr>\n",
       "  </tbody>\n",
       "</table>\n",
       "</div>"
      ],
      "text/plain": [
       "            hex_id  res      ndmi  month  year  city\n",
       "0  8a4995862907fff   10  0.003396      1  2018  CDMX\n",
       "1  8a4995860517fff   10  0.070490      1  2018  CDMX"
      ]
     },
     "execution_count": 21,
     "metadata": {},
     "output_type": "execute_result"
    }
   ],
   "source": [
    "# Downloading complete dataset NDMI res data (aprox. 700 s)\n",
    "complete_ndmi_schema = 'raster_analysis'\n",
    "complete_ndmi_table = 'ndmi_complete_dataset_hex'\n",
    "res = 10\n",
    "query = f\"SELECT * FROM {complete_ndmi_schema}.{complete_ndmi_table} WHERE \\\"city\\\" LIKE \\'{city}\\' AND \\\"res\\\"={res}\"\n",
    "complete_ndmi_res10 = aup.df_from_query(query)\n",
    "\n",
    "# Filter for dates of interest\n",
    "months_ofinterest = [1,2,3,4,5]\n",
    "years_ofinterest = [2018,2019,2020,2021,2022,2023]\n",
    "complete_ndmi_res10_f = complete_ndmi_res10.loc[(complete_ndmi_res10.month.isin(months_ofinterest)) & (complete_ndmi_res10.year.isin(years_ofinterest))]\n",
    "# Shorten data\n",
    "complete_ndmi_res10_f = complete_ndmi_res10_f[['hex_id','NOMGEO','ndmi','month','year']]\n",
    "\n",
    "# Show\n",
    "print(complete_ndmi_res10_f.shape)\n",
    "complete_ndmi_res10_f.head(2)"
   ]
  },
  {
   "cell_type": "markdown",
   "id": "f119a0c4-db41-4143-8ba6-237170965104",
   "metadata": {},
   "source": [
    "## Data treatment"
   ]
  },
  {
   "cell_type": "markdown",
   "id": "85b89e8d-8273-4cac-8816-b7a55392f0f8",
   "metadata": {},
   "source": [
    "### Data treatment - Create vegetation categories"
   ]
  },
  {
   "cell_type": "code",
   "execution_count": null,
   "id": "8ef6c793-817f-4fd6-bab1-7817901c658e",
   "metadata": {},
   "outputs": [],
   "source": [
    "# Create vegetation categories\n",
    "ndvi_res10['ndvi_median_rango'] = np.nan\n",
    "ndvi_res10.loc[ndvi_res10.ndvi_median>=0.6 , 'ndvi_median_rango'] = 'Alta densidad vegetal'\n",
    "ndvi_res10.loc[(ndvi_res10.ndvi_median>=0.4 )&\n",
    "                (ndvi_res10.ndvi_median<0.6), 'ndvi_median_rango'] = 'Moderada densidad vegetal'\n",
    "ndvi_res10.loc[(ndvi_res10.ndvi_median>=0.2)&\n",
    "                (ndvi_res10.ndvi_median<0.4), 'ndvi_median_rango'] = 'Mínima densidad vegetal'\n",
    "ndvi_res10.loc[(ndvi_res10.ndvi_median>=0.1)&\n",
    "                (ndvi_res10.ndvi_median<0.2), 'ndvi_median_rango'] = 'Suelo'\n",
    "ndvi_res10.loc[(ndvi_res10.ndvi_median<0.1), 'ndvi_median_rango'] = 'Suelo artificial/Agua/Piedra'\n",
    "\n",
    "# Ordering data\n",
    "categories = ['Suelo artificial/Agua/Piedra', 'Suelo', 'Mínima densidad vegetal', 'Moderada densidad vegetal', 'Alta densidad vegetal']\n",
    "ndvi_res10['ndvi_median_rango'] = pd.Categorical(ndvi_res10['ndvi_median_rango'], categories=categories, ordered=True)\n",
    "\n",
    "# Reviewing process\n",
    "print(ndvi_res10.shape)\n",
    "ndvi_res10.head(2)"
   ]
  },
  {
   "cell_type": "markdown",
   "id": "060d98f2-3a0d-4b70-9d72-9e49377d8ce2",
   "metadata": {},
   "source": [
    "Show ndvi categorical distribution"
   ]
  },
  {
   "cell_type": "code",
   "execution_count": null,
   "id": "e28b5da2-36e8-43e5-8155-18a448a4e598",
   "metadata": {},
   "outputs": [],
   "source": [
    "ndviproportions = ndvi_res10.groupby('ndvi_median_rango').count()\n",
    "\n",
    "columns_tokeep = ['hex_id']\n",
    "ndviproportions = ndviproportions[columns_tokeep]\n",
    "\n",
    "ndviproportions = ndviproportions.rename(columns={'hex_id':'count'})\n",
    "ndviproportions['%'] = ndviproportions['count'].apply(lambda x: (x/(ndviproportions['count'].sum()))*100)\n",
    "\n",
    "ndviproportions"
   ]
  },
  {
   "cell_type": "markdown",
   "id": "9aa4af54-f1df-403b-8c61-95874ff01582",
   "metadata": {},
   "source": [
    "### Data treatment - Filter for places with vegetation"
   ]
  },
  {
   "cell_type": "code",
   "execution_count": null,
   "id": "7991a287-6e9c-4e93-afe5-02e80a926fd8",
   "metadata": {},
   "outputs": [],
   "source": [
    "#Keeping High-moderate-minimal vegetation density\n",
    "data_withveg = ndvi_res10.loc[(ndvi_res10.ndvi_median_rango == 'Alta densidad vegetal') |\n",
    "               (ndvi_res10.ndvi_median_rango == 'Moderada densidad vegetal')|\n",
    "               (ndvi_res10.ndvi_median_rango == 'Mínima densidad vegetal')].copy()\n",
    "\n",
    "#Reviewing process\n",
    "print(data_withveg.shape)\n",
    "data_withveg.head(2)"
   ]
  },
  {
   "cell_type": "markdown",
   "id": "69247025-a525-406c-add5-5c377e13b08a",
   "metadata": {},
   "source": [
    "### Data treatment - Merge ndmi for places with vegetation"
   ]
  },
  {
   "cell_type": "code",
   "execution_count": null,
   "id": "125afd2e-cb26-422f-a748-e1857bc5ebaf",
   "metadata": {},
   "outputs": [],
   "source": [
    "ndvi_ndmi_gdf = data_withveg.merge(complete_ndmi_res10_f, on='hex_id_10',how='inner')\n",
    "\n",
    "# Show\n",
    "print(ndvi_ndmi_gdf.shape)\n",
    "ndvi_ndmi_gdf.head(2)"
   ]
  },
  {
   "cell_type": "markdown",
   "id": "2f062a24-5881-47f0-8f77-943e67f12ddc",
   "metadata": {},
   "source": [
    "### Data treatment - Filter for alcaldías of interest"
   ]
  },
  {
   "cell_type": "code",
   "execution_count": null,
   "id": "273bae84-2f83-4e3d-8bb5-a184e3f90d8e",
   "metadata": {},
   "outputs": [],
   "source": [
    "# Inner join to keep hexs that are in both hex_gdf_f and ndvi_res10\n",
    "data_withveg_alcaldias = ndvi_ndmi_gdf.merge(hex_gdf_f,left_on='hex_id', right_on='hex_id_10',how='inner')\n",
    "data_withveg_alcaldias.drop(columns=['hex_id'],inplace=True)"
   ]
  },
  {
   "cell_type": "markdown",
   "id": "58dcaeb6-1803-4bfc-aae7-0964a2affeae",
   "metadata": {},
   "source": [
    "## Data analysis"
   ]
  },
  {
   "cell_type": "code",
   "execution_count": null,
   "id": "f8f4d8dd-254c-4fc1-879f-b50380265aa4",
   "metadata": {},
   "outputs": [],
   "source": [
    "mean_ndmi_bydate = hex_gdf_f.copy()\n",
    "\n",
    "i = 0\n",
    "for year in data_withveg_alcaldias.year.unique()\n",
    "    for month in data_withveg_alcaldias.month.unique()\n",
    "        for alcaldia in data_withveg_alcaldias.NOMGEO.unique()\n",
    "\n",
    "            print(f\"Calculating mean ndmi for {alcaldia} date {month}/{year}.\")\n",
    "                \n",
    "            data_gdf = data_withveg_alcaldias.loc[(data_withveg_alcaldias.year == year) &\n",
    "                                                  (data_withveg_alcaldias.month == month) &\n",
    "                                                  (data_withveg_alcaldias.NOMGEO == alcaldia)].copy()\n",
    "\n",
    "            for hex_id in data_gdf['hex_id_10'].unique():\n",
    "                hex_data = data_gdf.loc[data_gdf['hex_id_10'] == hex_id].copy()\n",
    "                mean_ndmi = hex_data['ndmi'].mean()\n",
    "\n",
    "                idx = mean_ndmi_bydate['hex_id_10'] == hex_id\n",
    "                mean_ndmi_bydate.loc[idx,f\"{year}_{month}\"] = mean_ndmi"
   ]
  }
 ],
 "metadata": {
  "kernelspec": {
   "display_name": "GDS-10.0",
   "language": "python",
   "name": "gds"
  },
  "language_info": {
   "codemirror_mode": {
    "name": "ipython",
    "version": 3
   },
   "file_extension": ".py",
   "mimetype": "text/x-python",
   "name": "python",
   "nbconvert_exporter": "python",
   "pygments_lexer": "ipython3",
   "version": "3.9.18"
  }
 },
 "nbformat": 4,
 "nbformat_minor": 5
}
