{
 "cells": [
  {
   "cell_type": "code",
   "execution_count": 1,
   "id": "a45911ab-6109-4612-96fc-2366c941c075",
   "metadata": {},
   "outputs": [
    {
     "name": "stderr",
     "output_type": "stream",
     "text": [
      "/usr/local/python/lib/python3.10/site-packages/osmnx/utils.py:192: UserWarning: The `utils.config` function is deprecated and will be removed in a future release. Instead, use the `settings` module directly to configure a global setting's value. For example, `ox.settings.log_console=True`.\n",
      "  warnings.warn(\n"
     ]
    }
   ],
   "source": [
    "import os\n",
    "import sys\n",
    "\n",
    "import pandas as pd\n",
    "import geopandas as gpd\n",
    "import osmnx as ox\n",
    "import numpy as np\n",
    "\n",
    "import matplotlib.pyplot as plt\n",
    "import seaborn as sns\n",
    "\n",
    "from pandas.api.types import CategoricalDtype\n",
    "\n",
    "import warnings\n",
    "warnings.simplefilter(action='ignore', category=FutureWarning)\n",
    "\n",
    "module_path = os.path.abspath(os.path.join('../../../'))\n",
    "if module_path not in sys.path:\n",
    "    sys.path.append(module_path)\n",
    "    import aup"
   ]
  },
  {
   "cell_type": "markdown",
   "id": "27ad825b-d987-45c9-95ca-a49534d988bb",
   "metadata": {},
   "source": [
    "## Config notebook"
   ]
  },
  {
   "cell_type": "code",
   "execution_count": 2,
   "id": "cfc0404e-9b54-468a-9623-71fd4a6fd79e",
   "metadata": {},
   "outputs": [],
   "source": [
    "#---------- CHOOSE MUNICIPALITIES TO ANALISE (CVEGEO) ----------\n",
    "cvegeo_list = ['08051']\n",
    "#08019 - Chihuahua municipality ('Paso del Norte y 'Nuevas Delicias')\n",
    "#08038 y 08045 - Julimes + Meoqui municipalities ('La Regina')\n",
    "#08055 (Rosales) and 08004 (Aquiles Serdán) connect 'La Regina' with 'Paso del Norte' and 'Nueva Delicias' in case there is a reason for the whole network to be connected.\n",
    "#08054 (Riva Palacio) and 08002 (Aladama) must be added when calculating proximity to emergency equipment in 'Nuevas Delicias'\n",
    "\n",
    "#08051 - Ocampo municipality ('Basaseachi'),whose network is isolated\n",
    "\n",
    "#---------- SPECIFY AMENITY NAME CURRENTLY ANALIZED ----------\n",
    "a = str('emergencia') #a is the name of the amenity currently examined\n",
    "current_data = \"../../../data/external/temporal_todocker/proximity_pois_emergencia.gpkg\" #georeferenced file with points of interest\n",
    "correction = True #ONLY IF updating previously calculated proximity for specific amenity\n",
    "savetodb = True #Save to Data Base?"
   ]
  },
  {
   "cell_type": "markdown",
   "id": "e4498855-cc30-492e-8992-8e79026ddb92",
   "metadata": {},
   "source": [
    "## Data download"
   ]
  },
  {
   "cell_type": "code",
   "execution_count": 3,
   "id": "4b73a14d-d5a2-4e1b-9e40-663563c94f03",
   "metadata": {
    "tags": []
   },
   "outputs": [
    {
     "data": {
      "text/plain": [
       "<Axes: >"
      ]
     },
     "execution_count": 3,
     "metadata": {},
     "output_type": "execute_result"
    },
    {
     "data": {
      "image/png": "[encoded data removed]",
      "text/plain": [
       "<Figure size 640x480 with 1 Axes>"
      ]
     },
     "metadata": {},
     "output_type": "display_data"
    }
   ],
   "source": [
    "#Query municipalities\n",
    "mun_schema = 'marco'\n",
    "mun_table = 'mpos_2020'\n",
    "\n",
    "mun_gdf = gpd.GeoDataFrame()\n",
    "# Iterates over municipality codes for each metropolitan area or capital\n",
    "for cvegeo in cvegeo_list:\n",
    "    # Downloads municipality polygon according to code\n",
    "    query = f\"SELECT * FROM {mun_schema}.{mun_table} WHERE \\\"CVEGEO\\\" LIKE \\'{cvegeo}%%\\'\"\n",
    "    mun_tmp = aup.gdf_from_query(query, geometry_col='geometry')\n",
    "    mun_gdf = pd.concat([mun_gdf, mun_tmp],\n",
    "    ignore_index = True, axis = 0)\n",
    "\n",
    "#Define projections and plot\n",
    "mun_gdf = mun_gdf.set_crs(\"EPSG:4326\")\n",
    "mun_gdf.plot()"
   ]
  },
  {
   "cell_type": "code",
   "execution_count": 4,
   "id": "a60420e9-2569-4384-8d10-994613377ffc",
   "metadata": {
    "tags": []
   },
   "outputs": [
    {
     "name": "stdout",
     "output_type": "stream",
     "text": [
      "(23, 1)\n"
     ]
    },
    {
     "data": {
      "text/html": [
       "<div>\n",
       "<style scoped>\n",
       "    .dataframe tbody tr th:only-of-type {\n",
       "        vertical-align: middle;\n",
       "    }\n",
       "\n",
       "    .dataframe tbody tr th {\n",
       "        vertical-align: top;\n",
       "    }\n",
       "\n",
       "    .dataframe thead th {\n",
       "        text-align: right;\n",
       "    }\n",
       "</style>\n",
       "<table border=\"1\" class=\"dataframe\">\n",
       "  <thead>\n",
       "    <tr style=\"text-align: right;\">\n",
       "      <th></th>\n",
       "      <th>geometry</th>\n",
       "    </tr>\n",
       "  </thead>\n",
       "  <tbody>\n",
       "    <tr>\n",
       "      <th>0</th>\n",
       "      <td>POINT (-106.15315 28.73113)</td>\n",
       "    </tr>\n",
       "    <tr>\n",
       "      <th>1</th>\n",
       "      <td>POINT (-106.15337 28.73101)</td>\n",
       "    </tr>\n",
       "  </tbody>\n",
       "</table>\n",
       "</div>"
      ],
      "text/plain": [
       "                      geometry\n",
       "0  POINT (-106.15315 28.73113)\n",
       "1  POINT (-106.15337 28.73101)"
      ]
     },
     "execution_count": 4,
     "metadata": {},
     "output_type": "execute_result"
    }
   ],
   "source": [
    "#Load points of interest and filter for relevant data\n",
    "pois = gpd.read_file(current_data)\n",
    "points = pois[['geometry']]\n",
    "\n",
    "#Review result\n",
    "print(points.shape)\n",
    "points.head(2)"
   ]
  },
  {
   "cell_type": "markdown",
   "id": "3b3503c9-f034-45de-b610-ea9d6edf8f9f",
   "metadata": {},
   "source": [
    "## Proximity analysis"
   ]
  },
  {
   "cell_type": "markdown",
   "id": "a2d3ca83-f06c-4e15-aede-b41e1453db64",
   "metadata": {},
   "source": [
    "### Proximity analysis - 01 Find closest osmnx node to each point of interest"
   ]
  },
  {
   "cell_type": "markdown",
   "id": "34f71a37-6598-4a72-9408-be8a5fc97bf2",
   "metadata": {},
   "source": [
    "Create network"
   ]
  },
  {
   "cell_type": "code",
   "execution_count": 5,
   "id": "b6c8e390-4f48-498e-afb7-9f5db8f71de3",
   "metadata": {
    "tags": []
   },
   "outputs": [],
   "source": [
    "G, nodes, edges = aup.graph_from_hippo(mun_gdf,'osmnx',edges_folder='edges_basaseachi',nodes_folder='nodes_basaseachi')"
   ]
  },
  {
   "cell_type": "code",
   "execution_count": 6,
   "id": "0ddb49f7-e6c2-450d-bcf4-044e3b18f2f4",
   "metadata": {
    "tags": []
   },
   "outputs": [],
   "source": [
    "points = points.set_crs(\"EPSG:4326\")\n",
    "nodes = nodes.set_crs(\"EPSG:4326\")\n",
    "edges = edges.set_crs(\"EPSG:4326\")"
   ]
  },
  {
   "cell_type": "markdown",
   "id": "46532760-79f8-4adc-9cca-3e627e22efba",
   "metadata": {},
   "source": [
    "Find nearest node for each point (Returns points gdf with osmid and distance info)"
   ]
  },
  {
   "cell_type": "code",
   "execution_count": 7,
   "id": "34ea215f-6d09-48a6-b345-d2cc8264225a",
   "metadata": {},
   "outputs": [],
   "source": [
    "nearest = aup.find_nearest(G, nodes, points, return_distance= True)\n",
    "nearest = nearest.set_crs(\"EPSG:4326\")"
   ]
  },
  {
   "cell_type": "code",
   "execution_count": 8,
   "id": "4a1a14e2-9c95-4816-abc3-1ab5f74824ba",
   "metadata": {
    "tags": []
   },
   "outputs": [
    {
     "name": "stdout",
     "output_type": "stream",
     "text": [
      "(23, 3)\n"
     ]
    },
    {
     "data": {
      "text/html": [
       "<div>\n",
       "<style scoped>\n",
       "    .dataframe tbody tr th:only-of-type {\n",
       "        vertical-align: middle;\n",
       "    }\n",
       "\n",
       "    .dataframe tbody tr th {\n",
       "        vertical-align: top;\n",
       "    }\n",
       "\n",
       "    .dataframe thead th {\n",
       "        text-align: right;\n",
       "    }\n",
       "</style>\n",
       "<table border=\"1\" class=\"dataframe\">\n",
       "  <thead>\n",
       "    <tr style=\"text-align: right;\">\n",
       "      <th></th>\n",
       "      <th>geometry</th>\n",
       "      <th>osmid</th>\n",
       "      <th>distance_node</th>\n",
       "    </tr>\n",
       "  </thead>\n",
       "  <tbody>\n",
       "    <tr>\n",
       "      <th>0</th>\n",
       "      <td>POINT (-106.15315 28.73113)</td>\n",
       "      <td>4155999706</td>\n",
       "      <td>179870.234966</td>\n",
       "    </tr>\n",
       "    <tr>\n",
       "      <th>1</th>\n",
       "      <td>POINT (-106.15337 28.73101)</td>\n",
       "      <td>4155999706</td>\n",
       "      <td>179845.218208</td>\n",
       "    </tr>\n",
       "  </tbody>\n",
       "</table>\n",
       "</div>"
      ],
      "text/plain": [
       "                      geometry       osmid  distance_node\n",
       "0  POINT (-106.15315 28.73113)  4155999706  179870.234966\n",
       "1  POINT (-106.15337 28.73101)  4155999706  179845.218208"
      ]
     },
     "execution_count": 8,
     "metadata": {},
     "output_type": "execute_result"
    }
   ],
   "source": [
    "#Review result\n",
    "print(nearest.shape)\n",
    "nearest.head(2)"
   ]
  },
  {
   "cell_type": "markdown",
   "id": "f45912f3-7fe6-414d-955c-a066b34a22dd",
   "metadata": {},
   "source": [
    "Drop all points where its nearest node is more than 1 km away"
   ]
  },
  {
   "cell_type": "code",
   "execution_count": 9,
   "id": "909479c5-10bb-49c6-a16c-bbb6cf153390",
   "metadata": {
    "tags": []
   },
   "outputs": [
    {
     "name": "stdout",
     "output_type": "stream",
     "text": [
      "(1, 3)\n"
     ]
    },
    {
     "data": {
      "text/html": [
       "<div>\n",
       "<style scoped>\n",
       "    .dataframe tbody tr th:only-of-type {\n",
       "        vertical-align: middle;\n",
       "    }\n",
       "\n",
       "    .dataframe tbody tr th {\n",
       "        vertical-align: top;\n",
       "    }\n",
       "\n",
       "    .dataframe thead th {\n",
       "        text-align: right;\n",
       "    }\n",
       "</style>\n",
       "<table border=\"1\" class=\"dataframe\">\n",
       "  <thead>\n",
       "    <tr style=\"text-align: right;\">\n",
       "      <th></th>\n",
       "      <th>geometry</th>\n",
       "      <th>osmid</th>\n",
       "      <th>distance_node</th>\n",
       "    </tr>\n",
       "  </thead>\n",
       "  <tbody>\n",
       "    <tr>\n",
       "      <th>22</th>\n",
       "      <td>POINT (-108.21698 28.21138)</td>\n",
       "      <td>7489216953</td>\n",
       "      <td>21.005917</td>\n",
       "    </tr>\n",
       "  </tbody>\n",
       "</table>\n",
       "</div>"
      ],
      "text/plain": [
       "                       geometry       osmid  distance_node\n",
       "22  POINT (-108.21698 28.21138)  7489216953      21.005917"
      ]
     },
     "execution_count": 9,
     "metadata": {},
     "output_type": "execute_result"
    }
   ],
   "source": [
    "nearest = nearest.drop(nearest[nearest.distance_node > 1000].index)\n",
    "\n",
    "#Review result\n",
    "print(nearest.shape)\n",
    "nearest.head(2)"
   ]
  },
  {
   "cell_type": "markdown",
   "id": "caeeee95-b4a1-45e4-8ee8-8abf8f33ad10",
   "metadata": {},
   "source": [
    "### Proximity analysis - 02 Find min distance from nodes to points of interest (previously assigned node)"
   ]
  },
  {
   "cell_type": "markdown",
   "id": "6f9f88db-a6c3-4a24-aac2-b3ab61dd8f91",
   "metadata": {},
   "source": [
    "Data treatment for nodes and edges"
   ]
  },
  {
   "cell_type": "code",
   "execution_count": 10,
   "id": "be5b488f-4336-46cb-b5ec-ff3ac8ed77b3",
   "metadata": {
    "tags": []
   },
   "outputs": [],
   "source": [
    "#Nodes: Reset index\n",
    "nodes_analysis = nodes.reset_index().copy()\n",
    "\n",
    "#Nodes: Create df_temp, each column will be a batch of procesed nodes.\n",
    "df_temp = nodes.copy()\n",
    "\n",
    "#Nodes: Create nodes_distance. Minimum time/lenght found in all batches will be added from df_min to nodes_distance.\n",
    "nodes_distance = nodes.copy()"
   ]
  },
  {
   "cell_type": "markdown",
   "id": "fc83c155-9fff-4404-b7f6-d1d0292229f5",
   "metadata": {
    "tags": []
   },
   "source": [
    "Find distance to nearest point"
   ]
  },
  {
   "cell_type": "code",
   "execution_count": 11,
   "id": "73468194-60d5-44b2-86b9-f83f9e573c2f",
   "metadata": {
    "tags": []
   },
   "outputs": [
    {
     "name": "stdout",
     "output_type": "stream",
     "text": [
      "(926, 1)\n"
     ]
    },
    {
     "data": {
      "text/html": [
       "<div>\n",
       "<style scoped>\n",
       "    .dataframe tbody tr th:only-of-type {\n",
       "        vertical-align: middle;\n",
       "    }\n",
       "\n",
       "    .dataframe tbody tr th {\n",
       "        vertical-align: top;\n",
       "    }\n",
       "\n",
       "    .dataframe thead th {\n",
       "        text-align: right;\n",
       "    }\n",
       "</style>\n",
       "<table border=\"1\" class=\"dataframe\">\n",
       "  <thead>\n",
       "    <tr style=\"text-align: right;\">\n",
       "      <th></th>\n",
       "      <th>dist0emergencia</th>\n",
       "    </tr>\n",
       "    <tr>\n",
       "      <th>osmid</th>\n",
       "      <th></th>\n",
       "    </tr>\n",
       "  </thead>\n",
       "  <tbody>\n",
       "    <tr>\n",
       "      <th>2278700704</th>\n",
       "      <td>26120.271</td>\n",
       "    </tr>\n",
       "    <tr>\n",
       "      <th>2278700784</th>\n",
       "      <td>31830.408</td>\n",
       "    </tr>\n",
       "  </tbody>\n",
       "</table>\n",
       "</div>"
      ],
      "text/plain": [
       "            dist0emergencia\n",
       "osmid                      \n",
       "2278700704        26120.271\n",
       "2278700784        31830.408"
      ]
     },
     "execution_count": 11,
     "metadata": {},
     "output_type": "execute_result"
    }
   ],
   "source": [
    "#Set batch size\n",
    "batches = len(nearest)/250\n",
    "\n",
    "for k in range(int(batches)+1):\n",
    "            \n",
    "            #Divide points in batches\n",
    "            points_process = nearest.iloc[int(250*k):int(250*(1+k))].copy()\n",
    "            \n",
    "            #Calculate the distance of each node to currently examined amenity\n",
    "            nodes_distance_prep = aup.calculate_distance_nearest_poi(points_process, nodes_analysis, \n",
    "            edges, a, 'osmid', wght='length')\n",
    "            \n",
    "            #A middle gdf is created whose columns will be the name of the amenity and the group number it belongs to\n",
    "            df_int = pd.DataFrame()\n",
    "            df_int['dist'+str(k)+a] = nodes_distance_prep['dist_'+a]\n",
    "            \n",
    "            #The middle gdf is merged into the previously created temporary gdf to store the data\n",
    "            df_temp = df_temp.merge(df_int, left_index=True, right_index=True)\n",
    "\n",
    "#Drop the non-distance values from the temporary gdf\n",
    "df_temp.drop(['x', 'y', 'street_count','geometry'], inplace = True, axis=1)\n",
    "\n",
    "#Review result\n",
    "print(df_temp.shape)\n",
    "df_temp.head(2)"
   ]
  },
  {
   "cell_type": "markdown",
   "id": "dd078d0d-c7cb-43e8-8527-a6e5bdc4f75c",
   "metadata": {},
   "source": [
    "Find minimum value of all batches"
   ]
  },
  {
   "cell_type": "code",
   "execution_count": 12,
   "id": "75157683-332c-45a1-9cfb-bf2a49b4fcff",
   "metadata": {
    "tags": []
   },
   "outputs": [
    {
     "data": {
      "text/html": [
       "<div>\n",
       "<style scoped>\n",
       "    .dataframe tbody tr th:only-of-type {\n",
       "        vertical-align: middle;\n",
       "    }\n",
       "\n",
       "    .dataframe tbody tr th {\n",
       "        vertical-align: top;\n",
       "    }\n",
       "\n",
       "    .dataframe thead th {\n",
       "        text-align: right;\n",
       "    }\n",
       "</style>\n",
       "<table border=\"1\" class=\"dataframe\">\n",
       "  <thead>\n",
       "    <tr style=\"text-align: right;\">\n",
       "      <th></th>\n",
       "      <th>dist_emergencia</th>\n",
       "    </tr>\n",
       "    <tr>\n",
       "      <th>osmid</th>\n",
       "      <th></th>\n",
       "    </tr>\n",
       "  </thead>\n",
       "  <tbody>\n",
       "    <tr>\n",
       "      <th>2278700704</th>\n",
       "      <td>26120.271</td>\n",
       "    </tr>\n",
       "    <tr>\n",
       "      <th>2278700784</th>\n",
       "      <td>31830.408</td>\n",
       "    </tr>\n",
       "  </tbody>\n",
       "</table>\n",
       "</div>"
      ],
      "text/plain": [
       "            dist_emergencia\n",
       "osmid                      \n",
       "2278700704        26120.271\n",
       "2278700784        31830.408"
      ]
     },
     "execution_count": 12,
     "metadata": {},
     "output_type": "execute_result"
    }
   ],
   "source": [
    "df_min = pd.DataFrame()\n",
    "df_min['dist_'+a] = df_temp.min(axis=1)\n",
    "df_min.head(2)"
   ]
  },
  {
   "cell_type": "markdown",
   "id": "df8b9b86-a0a0-4c3f-b443-8291f5f644cd",
   "metadata": {},
   "source": [
    "Add minimum value to nodes (nodes_distance)"
   ]
  },
  {
   "cell_type": "code",
   "execution_count": 13,
   "id": "c267aaaa-5ae7-45e4-bb27-dd3aa98ca932",
   "metadata": {
    "tags": []
   },
   "outputs": [
    {
     "data": {
      "text/html": [
       "<div>\n",
       "<style scoped>\n",
       "    .dataframe tbody tr th:only-of-type {\n",
       "        vertical-align: middle;\n",
       "    }\n",
       "\n",
       "    .dataframe tbody tr th {\n",
       "        vertical-align: top;\n",
       "    }\n",
       "\n",
       "    .dataframe thead th {\n",
       "        text-align: right;\n",
       "    }\n",
       "</style>\n",
       "<table border=\"1\" class=\"dataframe\">\n",
       "  <thead>\n",
       "    <tr style=\"text-align: right;\">\n",
       "      <th></th>\n",
       "      <th>x</th>\n",
       "      <th>y</th>\n",
       "      <th>street_count</th>\n",
       "      <th>geometry</th>\n",
       "      <th>dist_emergencia</th>\n",
       "    </tr>\n",
       "    <tr>\n",
       "      <th>osmid</th>\n",
       "      <th></th>\n",
       "      <th></th>\n",
       "      <th></th>\n",
       "      <th></th>\n",
       "      <th></th>\n",
       "    </tr>\n",
       "  </thead>\n",
       "  <tbody>\n",
       "    <tr>\n",
       "      <th>2278700704</th>\n",
       "      <td>-108.161963</td>\n",
       "      <td>28.080634</td>\n",
       "      <td>3</td>\n",
       "      <td>POINT (-108.16196 28.08063)</td>\n",
       "      <td>26120.271</td>\n",
       "    </tr>\n",
       "    <tr>\n",
       "      <th>2278700784</th>\n",
       "      <td>-108.154343</td>\n",
       "      <td>28.041666</td>\n",
       "      <td>3</td>\n",
       "      <td>POINT (-108.15434 28.04167)</td>\n",
       "      <td>31830.408</td>\n",
       "    </tr>\n",
       "  </tbody>\n",
       "</table>\n",
       "</div>"
      ],
      "text/plain": [
       "                     x          y  street_count                     geometry  \\\n",
       "osmid                                                                          \n",
       "2278700704 -108.161963  28.080634             3  POINT (-108.16196 28.08063)   \n",
       "2278700784 -108.154343  28.041666             3  POINT (-108.15434 28.04167)   \n",
       "\n",
       "            dist_emergencia  \n",
       "osmid                        \n",
       "2278700704        26120.271  \n",
       "2278700784        31830.408  "
      ]
     },
     "execution_count": 13,
     "metadata": {},
     "output_type": "execute_result"
    }
   ],
   "source": [
    "nodes_distance = nodes_distance.merge(df_min, left_index=True, right_index=True)\n",
    "nodes_distance.head(2)"
   ]
  },
  {
   "cell_type": "markdown",
   "id": "a1162e9d-6144-4dca-ac2d-f900c73b8b00",
   "metadata": {},
   "source": [
    "Convert distance to time data (Walking speed = 4km/hr)"
   ]
  },
  {
   "cell_type": "code",
   "execution_count": 14,
   "id": "e4cf77da-79cf-465b-8e70-6c9930506fd7",
   "metadata": {
    "tags": []
   },
   "outputs": [
    {
     "data": {
      "text/html": [
       "<div>\n",
       "<style scoped>\n",
       "    .dataframe tbody tr th:only-of-type {\n",
       "        vertical-align: middle;\n",
       "    }\n",
       "\n",
       "    .dataframe tbody tr th {\n",
       "        vertical-align: top;\n",
       "    }\n",
       "\n",
       "    .dataframe thead th {\n",
       "        text-align: right;\n",
       "    }\n",
       "</style>\n",
       "<table border=\"1\" class=\"dataframe\">\n",
       "  <thead>\n",
       "    <tr style=\"text-align: right;\">\n",
       "      <th></th>\n",
       "      <th>x</th>\n",
       "      <th>y</th>\n",
       "      <th>street_count</th>\n",
       "      <th>geometry</th>\n",
       "      <th>dist_emergencia</th>\n",
       "      <th>time_emergencia</th>\n",
       "    </tr>\n",
       "    <tr>\n",
       "      <th>osmid</th>\n",
       "      <th></th>\n",
       "      <th></th>\n",
       "      <th></th>\n",
       "      <th></th>\n",
       "      <th></th>\n",
       "      <th></th>\n",
       "    </tr>\n",
       "  </thead>\n",
       "  <tbody>\n",
       "    <tr>\n",
       "      <th>2278700704</th>\n",
       "      <td>-108.161963</td>\n",
       "      <td>28.080634</td>\n",
       "      <td>3</td>\n",
       "      <td>POINT (-108.16196 28.08063)</td>\n",
       "      <td>26120.271</td>\n",
       "      <td>391.804065</td>\n",
       "    </tr>\n",
       "    <tr>\n",
       "      <th>2278700784</th>\n",
       "      <td>-108.154343</td>\n",
       "      <td>28.041666</td>\n",
       "      <td>3</td>\n",
       "      <td>POINT (-108.15434 28.04167)</td>\n",
       "      <td>31830.408</td>\n",
       "      <td>477.456120</td>\n",
       "    </tr>\n",
       "  </tbody>\n",
       "</table>\n",
       "</div>"
      ],
      "text/plain": [
       "                     x          y  street_count                     geometry  \\\n",
       "osmid                                                                          \n",
       "2278700704 -108.161963  28.080634             3  POINT (-108.16196 28.08063)   \n",
       "2278700784 -108.154343  28.041666             3  POINT (-108.15434 28.04167)   \n",
       "\n",
       "            dist_emergencia  time_emergencia  \n",
       "osmid                                         \n",
       "2278700704        26120.271       391.804065  \n",
       "2278700784        31830.408       477.456120  "
      ]
     },
     "execution_count": 14,
     "metadata": {},
     "output_type": "execute_result"
    }
   ],
   "source": [
    "nodes_time = nodes_distance.copy()\n",
    "nodes_time['time_'+a] = (nodes_time['dist_'+a]*60)/4000\n",
    "nodes_time.head(2)"
   ]
  },
  {
   "cell_type": "markdown",
   "id": "e19e6189-23db-4fee-9be0-9f1cb6bb4f10",
   "metadata": {},
   "source": [
    "### Proximity analysis - 03 Join data with existing data"
   ]
  },
  {
   "cell_type": "markdown",
   "id": "c74cf82d-c7ef-4e69-a941-f48ea32b1436",
   "metadata": {},
   "source": [
    "Create nodes_amenities from formated nodes_distance"
   ]
  },
  {
   "cell_type": "code",
   "execution_count": 15,
   "id": "0bcd1588-7df2-4d18-b8a6-08e5b2763d9a",
   "metadata": {
    "tags": []
   },
   "outputs": [
    {
     "name": "stdout",
     "output_type": "stream",
     "text": [
      "(926, 5)\n"
     ]
    },
    {
     "data": {
      "text/html": [
       "<div>\n",
       "<style scoped>\n",
       "    .dataframe tbody tr th:only-of-type {\n",
       "        vertical-align: middle;\n",
       "    }\n",
       "\n",
       "    .dataframe tbody tr th {\n",
       "        vertical-align: top;\n",
       "    }\n",
       "\n",
       "    .dataframe thead th {\n",
       "        text-align: right;\n",
       "    }\n",
       "</style>\n",
       "<table border=\"1\" class=\"dataframe\">\n",
       "  <thead>\n",
       "    <tr style=\"text-align: right;\">\n",
       "      <th></th>\n",
       "      <th>osmid</th>\n",
       "      <th>x</th>\n",
       "      <th>y</th>\n",
       "      <th>geometry</th>\n",
       "      <th>time_emergencia</th>\n",
       "    </tr>\n",
       "  </thead>\n",
       "  <tbody>\n",
       "    <tr>\n",
       "      <th>0</th>\n",
       "      <td>2278700704</td>\n",
       "      <td>-108.161963</td>\n",
       "      <td>28.080634</td>\n",
       "      <td>POINT (-108.16196 28.08063)</td>\n",
       "      <td>391.804065</td>\n",
       "    </tr>\n",
       "    <tr>\n",
       "      <th>1</th>\n",
       "      <td>2278700784</td>\n",
       "      <td>-108.154343</td>\n",
       "      <td>28.041666</td>\n",
       "      <td>POINT (-108.15434 28.04167)</td>\n",
       "      <td>477.456120</td>\n",
       "    </tr>\n",
       "  </tbody>\n",
       "</table>\n",
       "</div>"
      ],
      "text/plain": [
       "        osmid           x          y                     geometry  \\\n",
       "0  2278700704 -108.161963  28.080634  POINT (-108.16196 28.08063)   \n",
       "1  2278700784 -108.154343  28.041666  POINT (-108.15434 28.04167)   \n",
       "\n",
       "   time_emergencia  \n",
       "0       391.804065  \n",
       "1       477.456120  "
      ]
     },
     "execution_count": 15,
     "metadata": {},
     "output_type": "execute_result"
    }
   ],
   "source": [
    "nodes_time.reset_index(inplace=True)\n",
    "nodes_amenities = nodes_time[['osmid','x','y','geometry','time_'+a]]\n",
    "nodes_amenities = nodes_amenities.set_crs(\"EPSG:4326\")\n",
    "\n",
    "print(nodes_amenities.shape)\n",
    "nodes_amenities.head(2)"
   ]
  },
  {
   "cell_type": "markdown",
   "id": "f53c348f-53ae-4573-b93d-61859f9e6842",
   "metadata": {},
   "source": [
    "Add municipality info"
   ]
  },
  {
   "cell_type": "code",
   "execution_count": 16,
   "id": "7182e9e7-c0d2-48d5-b90c-28f193e0ec2e",
   "metadata": {
    "tags": []
   },
   "outputs": [
    {
     "name": "stdout",
     "output_type": "stream",
     "text": [
      "(918, 6)\n"
     ]
    },
    {
     "data": {
      "text/html": [
       "<div>\n",
       "<style scoped>\n",
       "    .dataframe tbody tr th:only-of-type {\n",
       "        vertical-align: middle;\n",
       "    }\n",
       "\n",
       "    .dataframe tbody tr th {\n",
       "        vertical-align: top;\n",
       "    }\n",
       "\n",
       "    .dataframe thead th {\n",
       "        text-align: right;\n",
       "    }\n",
       "</style>\n",
       "<table border=\"1\" class=\"dataframe\">\n",
       "  <thead>\n",
       "    <tr style=\"text-align: right;\">\n",
       "      <th></th>\n",
       "      <th>osmid</th>\n",
       "      <th>x</th>\n",
       "      <th>y</th>\n",
       "      <th>time_emergencia</th>\n",
       "      <th>mun</th>\n",
       "      <th>geometry</th>\n",
       "    </tr>\n",
       "  </thead>\n",
       "  <tbody>\n",
       "    <tr>\n",
       "      <th>0</th>\n",
       "      <td>2278700704</td>\n",
       "      <td>-108.161963</td>\n",
       "      <td>28.080634</td>\n",
       "      <td>391.804065</td>\n",
       "      <td>Ocampo</td>\n",
       "      <td>POINT (-108.16196 28.08063)</td>\n",
       "    </tr>\n",
       "    <tr>\n",
       "      <th>1</th>\n",
       "      <td>2278700784</td>\n",
       "      <td>-108.154343</td>\n",
       "      <td>28.041666</td>\n",
       "      <td>477.456120</td>\n",
       "      <td>Ocampo</td>\n",
       "      <td>POINT (-108.15434 28.04167)</td>\n",
       "    </tr>\n",
       "  </tbody>\n",
       "</table>\n",
       "</div>"
      ],
      "text/plain": [
       "        osmid           x          y  time_emergencia     mun  \\\n",
       "0  2278700704 -108.161963  28.080634       391.804065  Ocampo   \n",
       "1  2278700784 -108.154343  28.041666       477.456120  Ocampo   \n",
       "\n",
       "                      geometry  \n",
       "0  POINT (-108.16196 28.08063)  \n",
       "1  POINT (-108.15434 28.04167)  "
      ]
     },
     "execution_count": 16,
     "metadata": {},
     "output_type": "execute_result"
    }
   ],
   "source": [
    "#Overlay with mun_gdf\n",
    "municipalities = mun_gdf[['NOMGEO','geometry']]\n",
    "nodes_amenities = nodes_amenities.overlay(municipalities)\n",
    "\n",
    "#Change column name to mun\n",
    "nodes_amenities.rename(columns={'NOMGEO':'mun'},inplace=True)\n",
    "\n",
    "print(nodes_amenities.shape)\n",
    "nodes_amenities.head(2)"
   ]
  },
  {
   "cell_type": "markdown",
   "id": "283b7827-5e7b-4101-ad96-9c8e90d48184",
   "metadata": {},
   "source": [
    "Join currently examined nodes with previously examined nodes"
   ]
  },
  {
   "cell_type": "code",
   "execution_count": 17,
   "id": "d32b3177-ca68-4591-8e8b-6da9bc69fa43",
   "metadata": {
    "tags": []
   },
   "outputs": [
    {
     "name": "stdout",
     "output_type": "stream",
     "text": [
      "(66640, 12)\n"
     ]
    },
    {
     "data": {
      "text/html": [
       "<div>\n",
       "<style scoped>\n",
       "    .dataframe tbody tr th:only-of-type {\n",
       "        vertical-align: middle;\n",
       "    }\n",
       "\n",
       "    .dataframe tbody tr th {\n",
       "        vertical-align: top;\n",
       "    }\n",
       "\n",
       "    .dataframe thead th {\n",
       "        text-align: right;\n",
       "    }\n",
       "</style>\n",
       "<table border=\"1\" class=\"dataframe\">\n",
       "  <thead>\n",
       "    <tr style=\"text-align: right;\">\n",
       "      <th></th>\n",
       "      <th>osmid</th>\n",
       "      <th>time_salud</th>\n",
       "      <th>time_guarderias</th>\n",
       "      <th>time_paradas</th>\n",
       "      <th>time_espaciopublico</th>\n",
       "      <th>time_terminales</th>\n",
       "      <th>time_emergencia</th>\n",
       "      <th>time_asistenciasocial</th>\n",
       "      <th>mun</th>\n",
       "      <th>x</th>\n",
       "      <th>y</th>\n",
       "      <th>geometry</th>\n",
       "    </tr>\n",
       "  </thead>\n",
       "  <tbody>\n",
       "    <tr>\n",
       "      <th>0</th>\n",
       "      <td>230565134</td>\n",
       "      <td>14.854920</td>\n",
       "      <td>8.709600</td>\n",
       "      <td>164.560920</td>\n",
       "      <td>5.328240</td>\n",
       "      <td>4.946715</td>\n",
       "      <td>11.539980</td>\n",
       "      <td>155.864370</td>\n",
       "      <td>Chihuahua</td>\n",
       "      <td>-106.147366</td>\n",
       "      <td>28.728815</td>\n",
       "      <td>POINT (-106.14737 28.72881)</td>\n",
       "    </tr>\n",
       "    <tr>\n",
       "      <th>1</th>\n",
       "      <td>230565138</td>\n",
       "      <td>8.552025</td>\n",
       "      <td>7.431015</td>\n",
       "      <td>77.356365</td>\n",
       "      <td>5.196495</td>\n",
       "      <td>36.944310</td>\n",
       "      <td>39.736755</td>\n",
       "      <td>68.659815</td>\n",
       "      <td>Chihuahua</td>\n",
       "      <td>-106.110401</td>\n",
       "      <td>28.687995</td>\n",
       "      <td>POINT (-106.11040 28.68799)</td>\n",
       "    </tr>\n",
       "  </tbody>\n",
       "</table>\n",
       "</div>"
      ],
      "text/plain": [
       "       osmid  time_salud  time_guarderias  time_paradas  time_espaciopublico  \\\n",
       "0  230565134   14.854920         8.709600    164.560920             5.328240   \n",
       "1  230565138    8.552025         7.431015     77.356365             5.196495   \n",
       "\n",
       "   time_terminales  time_emergencia  time_asistenciasocial        mun  \\\n",
       "0         4.946715        11.539980             155.864370  Chihuahua   \n",
       "1        36.944310        39.736755              68.659815  Chihuahua   \n",
       "\n",
       "            x          y                     geometry  \n",
       "0 -106.147366  28.728815  POINT (-106.14737 28.72881)  \n",
       "1 -106.110401  28.687995  POINT (-106.11040 28.68799)  "
      ]
     },
     "execution_count": 17,
     "metadata": {},
     "output_type": "execute_result"
    }
   ],
   "source": [
    "mun_schema = 'projects_research'\n",
    "mun_table = 'nodes_proximity_dfv'\n",
    "\n",
    "query = f\"SELECT * FROM {mun_schema}.{mun_table}\"\n",
    "nodes_proximity_dfv = aup.gdf_from_query(query, geometry_col='geometry')\n",
    "\n",
    "print(nodes_proximity_dfv.shape)\n",
    "nodes_proximity_dfv.head(2)"
   ]
  },
  {
   "cell_type": "code",
   "execution_count": 18,
   "id": "4cade914-d8d7-4ddf-b2e7-c1645c704295",
   "metadata": {
    "tags": []
   },
   "outputs": [
    {
     "name": "stdout",
     "output_type": "stream",
     "text": [
      "(66640, 12)\n"
     ]
    },
    {
     "data": {
      "text/html": [
       "<div>\n",
       "<style scoped>\n",
       "    .dataframe tbody tr th:only-of-type {\n",
       "        vertical-align: middle;\n",
       "    }\n",
       "\n",
       "    .dataframe tbody tr th {\n",
       "        vertical-align: top;\n",
       "    }\n",
       "\n",
       "    .dataframe thead th {\n",
       "        text-align: right;\n",
       "    }\n",
       "</style>\n",
       "<table border=\"1\" class=\"dataframe\">\n",
       "  <thead>\n",
       "    <tr style=\"text-align: right;\">\n",
       "      <th></th>\n",
       "      <th>osmid</th>\n",
       "      <th>time_salud</th>\n",
       "      <th>time_guarderias</th>\n",
       "      <th>time_paradas</th>\n",
       "      <th>time_espaciopublico</th>\n",
       "      <th>time_terminales</th>\n",
       "      <th>time_emergencia</th>\n",
       "      <th>time_asistenciasocial</th>\n",
       "      <th>mun</th>\n",
       "      <th>x</th>\n",
       "      <th>y</th>\n",
       "      <th>geometry</th>\n",
       "    </tr>\n",
       "  </thead>\n",
       "  <tbody>\n",
       "    <tr>\n",
       "      <th>64907</th>\n",
       "      <td>2913160559</td>\n",
       "      <td>3.663015</td>\n",
       "      <td>333.993585</td>\n",
       "      <td>10.80585</td>\n",
       "      <td>9.723120</td>\n",
       "      <td>85.379040</td>\n",
       "      <td>21.038700</td>\n",
       "      <td>7.015125</td>\n",
       "      <td>Julimes</td>\n",
       "      <td>-105.423080</td>\n",
       "      <td>28.422915</td>\n",
       "      <td>POINT (-105.42308 28.42292)</td>\n",
       "    </tr>\n",
       "    <tr>\n",
       "      <th>64908</th>\n",
       "      <td>2913160575</td>\n",
       "      <td>51.032385</td>\n",
       "      <td>288.066990</td>\n",
       "      <td>4.74960</td>\n",
       "      <td>33.255615</td>\n",
       "      <td>42.389265</td>\n",
       "      <td>33.255615</td>\n",
       "      <td>33.255615</td>\n",
       "      <td>Julimes</td>\n",
       "      <td>-105.455249</td>\n",
       "      <td>28.425559</td>\n",
       "      <td>POINT (-105.45525 28.42556)</td>\n",
       "    </tr>\n",
       "  </tbody>\n",
       "</table>\n",
       "</div>"
      ],
      "text/plain": [
       "            osmid  time_salud  time_guarderias  time_paradas  \\\n",
       "64907  2913160559    3.663015       333.993585      10.80585   \n",
       "64908  2913160575   51.032385       288.066990       4.74960   \n",
       "\n",
       "       time_espaciopublico  time_terminales  time_emergencia  \\\n",
       "64907             9.723120        85.379040        21.038700   \n",
       "64908            33.255615        42.389265        33.255615   \n",
       "\n",
       "       time_asistenciasocial      mun           x          y  \\\n",
       "64907               7.015125  Julimes -105.423080  28.422915   \n",
       "64908              33.255615  Julimes -105.455249  28.425559   \n",
       "\n",
       "                          geometry  \n",
       "64907  POINT (-105.42308 28.42292)  \n",
       "64908  POINT (-105.45525 28.42556)  "
      ]
     },
     "execution_count": 18,
     "metadata": {},
     "output_type": "execute_result"
    }
   ],
   "source": [
    "nodes_amenities_mun =gpd.GeoDataFrame()\n",
    "\n",
    "#Add all municipalities in current analysis to new GDF:\n",
    "for municipality in nodes_amenities.mun.unique():\n",
    "    #Current analyisis in current mun\n",
    "    nodes_amenities_currentmun = nodes_amenities.loc[nodes_amenities.mun == municipality]\n",
    "    \n",
    "    #----------- MUNICIPALITY ANALYSED AND PREVIOUSLY PRESENT IN DATABASE -----------\n",
    "    if municipality in nodes_proximity_dfv.mun.unique(): \n",
    "        #Existing data in current mun\n",
    "        nodes_proximity_dfv_currentmun = nodes_proximity_dfv.loc[nodes_proximity_dfv.mun == municipality]\n",
    "        \n",
    "        #Join current mun data\n",
    "        nodes_amenities_currentmun = nodes_proximity_dfv_currentmun.merge(nodes_amenities_currentmun[['osmid','time_'+a]], on='osmid',how='outer')\n",
    "        nodes_amenities_currentmun = nodes_amenities_currentmun.set_crs(\"EPSG:4326\")\n",
    "        \n",
    "        #If this is not the first time the amenity has been analysed in the database:\n",
    "        if correction:\n",
    "            nodes_amenities_currentmun.drop(columns='time_{}_x'.format(a),inplace=True)\n",
    "            nodes_amenities_currentmun.rename(columns={'time_{}_y'.format(a):'time_{}'.format(a)},inplace=True)\n",
    "        \n",
    "        #Join current mun with all muns\n",
    "        nodes_amenities_mun = pd.concat([nodes_amenities_mun,nodes_amenities_currentmun])\n",
    "        \n",
    "    #----------- MUNICIPALITY ANALYSED AND NOT PREVIOUSLY PRESENT IN DATABASE -----------\n",
    "    else:\n",
    "        #Join current mun with all muns if this is the first time the municipality is analysed\n",
    "        nodes_amenities_mun = pd.concat([nodes_amenities_mun,nodes_amenities_currentmun])\n",
    "        \n",
    "#----------- MUNICIPALITY NOT ANALYSED BUT PREVIOUSLY PRESENT IN DATABASE -----------\n",
    "for municipality in nodes_proximity_dfv.mun.unique():\n",
    "    #Add all municipalities which were already in the database but not in the current analysis to new GDF:\n",
    "    if municipality not in nodes_amenities_mun.mun.unique():\n",
    "        nodes_proximity_dfv_currentmun = nodes_proximity_dfv.loc[nodes_proximity_dfv.mun == municipality]\n",
    "        nodes_amenities_mun = pd.concat([nodes_proximity_dfv_currentmun,nodes_amenities_mun])\n",
    "\n",
    "#Review results\n",
    "print(nodes_amenities_mun.shape)\n",
    "nodes_amenities_mun.head(2)"
   ]
  },
  {
   "cell_type": "markdown",
   "id": "ed81df66-130a-497d-ac9a-eea66028a551",
   "metadata": {},
   "source": [
    "Format"
   ]
  },
  {
   "cell_type": "code",
   "execution_count": 19,
   "id": "097e3251-2d9d-46cb-9c83-86bd54ab23b6",
   "metadata": {
    "tags": []
   },
   "outputs": [
    {
     "name": "stdout",
     "output_type": "stream",
     "text": [
      "(66640, 12)\n"
     ]
    },
    {
     "data": {
      "text/html": [
       "<div>\n",
       "<style scoped>\n",
       "    .dataframe tbody tr th:only-of-type {\n",
       "        vertical-align: middle;\n",
       "    }\n",
       "\n",
       "    .dataframe tbody tr th {\n",
       "        vertical-align: top;\n",
       "    }\n",
       "\n",
       "    .dataframe thead th {\n",
       "        text-align: right;\n",
       "    }\n",
       "</style>\n",
       "<table border=\"1\" class=\"dataframe\">\n",
       "  <thead>\n",
       "    <tr style=\"text-align: right;\">\n",
       "      <th></th>\n",
       "      <th>osmid</th>\n",
       "      <th>time_salud</th>\n",
       "      <th>time_guarderias</th>\n",
       "      <th>time_paradas</th>\n",
       "      <th>time_espaciopublico</th>\n",
       "      <th>time_terminales</th>\n",
       "      <th>time_emergencia</th>\n",
       "      <th>time_asistenciasocial</th>\n",
       "      <th>mun</th>\n",
       "      <th>x</th>\n",
       "      <th>y</th>\n",
       "      <th>geometry</th>\n",
       "    </tr>\n",
       "  </thead>\n",
       "  <tbody>\n",
       "    <tr>\n",
       "      <th>64907</th>\n",
       "      <td>2913160559</td>\n",
       "      <td>3.663015</td>\n",
       "      <td>333.993585</td>\n",
       "      <td>10.80585</td>\n",
       "      <td>9.723120</td>\n",
       "      <td>85.379040</td>\n",
       "      <td>21.038700</td>\n",
       "      <td>7.015125</td>\n",
       "      <td>Julimes</td>\n",
       "      <td>-105.423080</td>\n",
       "      <td>28.422915</td>\n",
       "      <td>POINT (-105.42308 28.42292)</td>\n",
       "    </tr>\n",
       "    <tr>\n",
       "      <th>64908</th>\n",
       "      <td>2913160575</td>\n",
       "      <td>51.032385</td>\n",
       "      <td>288.066990</td>\n",
       "      <td>4.74960</td>\n",
       "      <td>33.255615</td>\n",
       "      <td>42.389265</td>\n",
       "      <td>33.255615</td>\n",
       "      <td>33.255615</td>\n",
       "      <td>Julimes</td>\n",
       "      <td>-105.455249</td>\n",
       "      <td>28.425559</td>\n",
       "      <td>POINT (-105.45525 28.42556)</td>\n",
       "    </tr>\n",
       "  </tbody>\n",
       "</table>\n",
       "</div>"
      ],
      "text/plain": [
       "            osmid  time_salud  time_guarderias  time_paradas  \\\n",
       "64907  2913160559    3.663015       333.993585      10.80585   \n",
       "64908  2913160575   51.032385       288.066990       4.74960   \n",
       "\n",
       "       time_espaciopublico  time_terminales  time_emergencia  \\\n",
       "64907             9.723120        85.379040        21.038700   \n",
       "64908            33.255615        42.389265        33.255615   \n",
       "\n",
       "       time_asistenciasocial      mun           x          y  \\\n",
       "64907               7.015125  Julimes -105.423080  28.422915   \n",
       "64908              33.255615  Julimes -105.455249  28.425559   \n",
       "\n",
       "                          geometry  \n",
       "64907  POINT (-105.42308 28.42292)  \n",
       "64908  POINT (-105.45525 28.42556)  "
      ]
     },
     "execution_count": 19,
     "metadata": {},
     "output_type": "execute_result"
    }
   ],
   "source": [
    "#Find current available columns\n",
    "cols = nodes_amenities_mun.columns.tolist()\n",
    "\n",
    "#Remove base columns to reorder\n",
    "cols.remove('x')\n",
    "cols.remove('y')\n",
    "cols.remove('geometry')\n",
    "cols.remove('mun')\n",
    "\n",
    "#Add base columns to reorder\n",
    "cols.append('mun')\n",
    "cols.append('x')\n",
    "cols.append('y')\n",
    "cols.append('geometry')\n",
    "\n",
    "#Save new order\n",
    "nodes_format = nodes_amenities_mun[cols]\n",
    "\n",
    "#Review result\n",
    "print(nodes_format.shape)\n",
    "nodes_format.head(2)"
   ]
  },
  {
   "cell_type": "code",
   "execution_count": 20,
   "id": "18deb262-7c2c-4338-bedd-29c24c446bdc",
   "metadata": {
    "tags": []
   },
   "outputs": [],
   "source": [
    "nodes_proximity_dfv = gpd.GeoDataFrame(nodes_format, geometry='geometry')"
   ]
  },
  {
   "cell_type": "markdown",
   "id": "d89a4196-623b-4888-8125-d37b22367cad",
   "metadata": {
    "tags": []
   },
   "source": [
    "Save to db"
   ]
  },
  {
   "cell_type": "code",
   "execution_count": 21,
   "id": "684e7d09-0c92-49d1-8eb5-34366c84deec",
   "metadata": {
    "tags": []
   },
   "outputs": [],
   "source": [
    "if savetodb:\n",
    "    aup.gdf_to_db_slow(nodes_proximity_dfv,'nodes_proximity_dfv','projects_research',if_exists=\"replace\")"
   ]
  },
  {
   "cell_type": "markdown",
   "id": "28cf1522-8879-41fc-9675-348eab5829b0",
   "metadata": {},
   "source": [
    "### Corrección de un osmid errante"
   ]
  },
  {
   "cell_type": "code",
   "execution_count": 22,
   "id": "538c276f-43f4-490e-8b0f-01892ee841d3",
   "metadata": {
    "tags": []
   },
   "outputs": [],
   "source": [
    "#for osmid in nodes_proximity_dfv.osmid.unique(): #Previous faulty osmid:7375150468\n",
    "#    if osmid not in nodes_amenities.osmid.unique():\n",
    "#        print(osmid)"
   ]
  },
  {
   "cell_type": "code",
   "execution_count": 23,
   "id": "7bc0b86f-61a0-4020-aa1e-f689c6ec96eb",
   "metadata": {
    "tags": []
   },
   "outputs": [],
   "source": [
    "#nodes_proximity_dfv.loc[nodes_proximity_dfv.osmid==7375150468]"
   ]
  },
  {
   "cell_type": "code",
   "execution_count": 24,
   "id": "c2684145-3f12-45dd-8509-2a6f293b9a9e",
   "metadata": {
    "tags": []
   },
   "outputs": [],
   "source": [
    "#nodes_proximity_dfv.drop(index=1762,inplace=True)"
   ]
  },
  {
   "cell_type": "code",
   "execution_count": 25,
   "id": "5757e965-7cc8-411d-8723-8776e4577720",
   "metadata": {
    "tags": []
   },
   "outputs": [],
   "source": [
    "#print(nodes_proximity_dfv.shape)\n",
    "#nodes_proximity_dfv.head(2)"
   ]
  },
  {
   "cell_type": "markdown",
   "id": "e62bba3c-38ca-4351-b212-f09be330fb68",
   "metadata": {},
   "source": [
    "## Data analysis - Average times by location"
   ]
  },
  {
   "cell_type": "markdown",
   "id": "38dda162-fc68-43a4-84e7-0e6ec1f94e81",
   "metadata": {},
   "source": [
    "Load locations data"
   ]
  },
  {
   "cell_type": "code",
   "execution_count": 26,
   "id": "68669fa2-cbb4-4d26-a138-d6f87f30ef0f",
   "metadata": {
    "tags": []
   },
   "outputs": [
    {
     "name": "stdout",
     "output_type": "stream",
     "text": [
      "(4, 2)\n"
     ]
    },
    {
     "data": {
      "text/html": [
       "<div>\n",
       "<style scoped>\n",
       "    .dataframe tbody tr th:only-of-type {\n",
       "        vertical-align: middle;\n",
       "    }\n",
       "\n",
       "    .dataframe tbody tr th {\n",
       "        vertical-align: top;\n",
       "    }\n",
       "\n",
       "    .dataframe thead th {\n",
       "        text-align: right;\n",
       "    }\n",
       "</style>\n",
       "<table border=\"1\" class=\"dataframe\">\n",
       "  <thead>\n",
       "    <tr style=\"text-align: right;\">\n",
       "      <th></th>\n",
       "      <th>NOMGEO</th>\n",
       "      <th>geometry</th>\n",
       "    </tr>\n",
       "  </thead>\n",
       "  <tbody>\n",
       "    <tr>\n",
       "      <th>0</th>\n",
       "      <td>La Regina</td>\n",
       "      <td>MULTIPOLYGON (((-105.45640 28.42784, -105.4550...</td>\n",
       "    </tr>\n",
       "    <tr>\n",
       "      <th>1</th>\n",
       "      <td>Basaseachi</td>\n",
       "      <td>MULTIPOLYGON (((-108.21396 28.21203, -108.2138...</td>\n",
       "    </tr>\n",
       "    <tr>\n",
       "      <th>2</th>\n",
       "      <td>Ejido Nuevo Delicias y Anexas (Tierras Nuevas)</td>\n",
       "      <td>MULTIPOLYGON (((-106.25343 29.07574, -106.2534...</td>\n",
       "    </tr>\n",
       "    <tr>\n",
       "      <th>3</th>\n",
       "      <td>Paso del Norte</td>\n",
       "      <td>MULTIPOLYGON (((-106.07031 28.67533, -106.0706...</td>\n",
       "    </tr>\n",
       "  </tbody>\n",
       "</table>\n",
       "</div>"
      ],
      "text/plain": [
       "                                           NOMGEO  \\\n",
       "0                                       La Regina   \n",
       "1                                      Basaseachi   \n",
       "2  Ejido Nuevo Delicias y Anexas (Tierras Nuevas)   \n",
       "3                                  Paso del Norte   \n",
       "\n",
       "                                            geometry  \n",
       "0  MULTIPOLYGON (((-105.45640 28.42784, -105.4550...  \n",
       "1  MULTIPOLYGON (((-108.21396 28.21203, -108.2138...  \n",
       "2  MULTIPOLYGON (((-106.25343 29.07574, -106.2534...  \n",
       "3  MULTIPOLYGON (((-106.07031 28.67533, -106.0706...  "
      ]
     },
     "execution_count": 26,
     "metadata": {},
     "output_type": "execute_result"
    }
   ],
   "source": [
    "locations_data = \"../../../data/external/temporal_todocker/poligonos_localidades_6372.gpkg\"\n",
    "\n",
    "#Load points of interest and filter for relevant data\n",
    "locations = gpd.read_file(locations_data)\n",
    "locations = locations[['NOMGEO','geometry']]\n",
    "locations = locations.to_crs('4326')\n",
    "\n",
    "#Review result\n",
    "print(locations.shape)\n",
    "locations"
   ]
  },
  {
   "cell_type": "markdown",
   "id": "7efdda2f-acc2-4fa1-84a1-869aba5686c1",
   "metadata": {},
   "source": [
    "Overlay locations and nodes"
   ]
  },
  {
   "cell_type": "code",
   "execution_count": 27,
   "id": "1e726c1d-cb72-4774-baf4-2b3a2025c4a6",
   "metadata": {
    "tags": []
   },
   "outputs": [
    {
     "name": "stdout",
     "output_type": "stream",
     "text": [
      "(329, 13)\n"
     ]
    },
    {
     "data": {
      "text/html": [
       "<div>\n",
       "<style scoped>\n",
       "    .dataframe tbody tr th:only-of-type {\n",
       "        vertical-align: middle;\n",
       "    }\n",
       "\n",
       "    .dataframe tbody tr th {\n",
       "        vertical-align: top;\n",
       "    }\n",
       "\n",
       "    .dataframe thead th {\n",
       "        text-align: right;\n",
       "    }\n",
       "</style>\n",
       "<table border=\"1\" class=\"dataframe\">\n",
       "  <thead>\n",
       "    <tr style=\"text-align: right;\">\n",
       "      <th></th>\n",
       "      <th>osmid</th>\n",
       "      <th>time_salud</th>\n",
       "      <th>time_guarderias</th>\n",
       "      <th>time_paradas</th>\n",
       "      <th>time_espaciopublico</th>\n",
       "      <th>time_terminales</th>\n",
       "      <th>time_emergencia</th>\n",
       "      <th>time_asistenciasocial</th>\n",
       "      <th>mun</th>\n",
       "      <th>x</th>\n",
       "      <th>y</th>\n",
       "      <th>location</th>\n",
       "      <th>geometry</th>\n",
       "    </tr>\n",
       "  </thead>\n",
       "  <tbody>\n",
       "    <tr>\n",
       "      <th>0</th>\n",
       "      <td>2913161325</td>\n",
       "      <td>66.008745</td>\n",
       "      <td>273.09063</td>\n",
       "      <td>6.751725</td>\n",
       "      <td>24.07575</td>\n",
       "      <td>57.365625</td>\n",
       "      <td>48.231975</td>\n",
       "      <td>48.231975</td>\n",
       "      <td>Julimes</td>\n",
       "      <td>-105.453038</td>\n",
       "      <td>28.416800</td>\n",
       "      <td>La Regina</td>\n",
       "      <td>POINT (-105.45304 28.41680)</td>\n",
       "    </tr>\n",
       "    <tr>\n",
       "      <th>1</th>\n",
       "      <td>2913161328</td>\n",
       "      <td>81.370905</td>\n",
       "      <td>257.72847</td>\n",
       "      <td>8.610435</td>\n",
       "      <td>8.71359</td>\n",
       "      <td>72.727785</td>\n",
       "      <td>39.758400</td>\n",
       "      <td>63.594135</td>\n",
       "      <td>Julimes</td>\n",
       "      <td>-105.449051</td>\n",
       "      <td>28.408329</td>\n",
       "      <td>La Regina</td>\n",
       "      <td>POINT (-105.44905 28.40833)</td>\n",
       "    </tr>\n",
       "  </tbody>\n",
       "</table>\n",
       "</div>"
      ],
      "text/plain": [
       "        osmid  time_salud  time_guarderias  time_paradas  time_espaciopublico  \\\n",
       "0  2913161325   66.008745        273.09063      6.751725             24.07575   \n",
       "1  2913161328   81.370905        257.72847      8.610435              8.71359   \n",
       "\n",
       "   time_terminales  time_emergencia  time_asistenciasocial      mun  \\\n",
       "0        57.365625        48.231975              48.231975  Julimes   \n",
       "1        72.727785        39.758400              63.594135  Julimes   \n",
       "\n",
       "            x          y   location                     geometry  \n",
       "0 -105.453038  28.416800  La Regina  POINT (-105.45304 28.41680)  \n",
       "1 -105.449051  28.408329  La Regina  POINT (-105.44905 28.40833)  "
      ]
     },
     "execution_count": 27,
     "metadata": {},
     "output_type": "execute_result"
    }
   ],
   "source": [
    "#Overlay with locations\n",
    "nodes_location = nodes_proximity_dfv.overlay(locations)\n",
    "\n",
    "#Change column name to location\n",
    "nodes_location.rename(columns={'NOMGEO':'location'},inplace=True)\n",
    "\n",
    "#Review results\n",
    "print(nodes_location.shape)\n",
    "nodes_location.head(2)"
   ]
  },
  {
   "cell_type": "markdown",
   "id": "9d168d16-673e-4a8f-acb6-46becc478f7b",
   "metadata": {},
   "source": [
    "Group by results"
   ]
  },
  {
   "cell_type": "code",
   "execution_count": 28,
   "id": "698f4ef3-2d27-44a0-8178-4af29b5a067c",
   "metadata": {
    "tags": []
   },
   "outputs": [
    {
     "data": {
      "text/html": [
       "<div>\n",
       "<style scoped>\n",
       "    .dataframe tbody tr th:only-of-type {\n",
       "        vertical-align: middle;\n",
       "    }\n",
       "\n",
       "    .dataframe tbody tr th {\n",
       "        vertical-align: top;\n",
       "    }\n",
       "\n",
       "    .dataframe thead th {\n",
       "        text-align: right;\n",
       "    }\n",
       "</style>\n",
       "<table border=\"1\" class=\"dataframe\">\n",
       "  <thead>\n",
       "    <tr style=\"text-align: right;\">\n",
       "      <th></th>\n",
       "      <th>time_salud</th>\n",
       "      <th>time_guarderias</th>\n",
       "      <th>time_asistenciasocial</th>\n",
       "      <th>time_espaciopublico</th>\n",
       "      <th>time_paradas</th>\n",
       "      <th>time_terminales</th>\n",
       "      <th>time_emergencia</th>\n",
       "    </tr>\n",
       "    <tr>\n",
       "      <th>location</th>\n",
       "      <th></th>\n",
       "      <th></th>\n",
       "      <th></th>\n",
       "      <th></th>\n",
       "      <th></th>\n",
       "      <th></th>\n",
       "      <th></th>\n",
       "    </tr>\n",
       "  </thead>\n",
       "  <tbody>\n",
       "    <tr>\n",
       "      <th>Basaseachi</th>\n",
       "      <td>7.626439</td>\n",
       "      <td>NaN</td>\n",
       "      <td>11.401535</td>\n",
       "      <td>11.401535</td>\n",
       "      <td>14.466563</td>\n",
       "      <td>NaN</td>\n",
       "      <td>21.443454</td>\n",
       "    </tr>\n",
       "    <tr>\n",
       "      <th>Ejido Nuevo Delicias y Anexas (Tierras Nuevas)</th>\n",
       "      <td>7.538535</td>\n",
       "      <td>565.061201</td>\n",
       "      <td>7.538535</td>\n",
       "      <td>6.824974</td>\n",
       "      <td>42.162721</td>\n",
       "      <td>669.598346</td>\n",
       "      <td>664.007381</td>\n",
       "    </tr>\n",
       "    <tr>\n",
       "      <th>La Regina</th>\n",
       "      <td>80.399248</td>\n",
       "      <td>260.487398</td>\n",
       "      <td>62.722622</td>\n",
       "      <td>13.366165</td>\n",
       "      <td>11.766375</td>\n",
       "      <td>71.770430</td>\n",
       "      <td>38.509851</td>\n",
       "    </tr>\n",
       "    <tr>\n",
       "      <th>Paso del Norte</th>\n",
       "      <td>18.947567</td>\n",
       "      <td>28.148687</td>\n",
       "      <td>28.875632</td>\n",
       "      <td>4.548273</td>\n",
       "      <td>13.982837</td>\n",
       "      <td>69.913577</td>\n",
       "      <td>71.533517</td>\n",
       "    </tr>\n",
       "  </tbody>\n",
       "</table>\n",
       "</div>"
      ],
      "text/plain": [
       "                                                time_salud  time_guarderias  \\\n",
       "location                                                                      \n",
       "Basaseachi                                        7.626439              NaN   \n",
       "Ejido Nuevo Delicias y Anexas (Tierras Nuevas)    7.538535       565.061201   \n",
       "La Regina                                        80.399248       260.487398   \n",
       "Paso del Norte                                   18.947567        28.148687   \n",
       "\n",
       "                                                time_asistenciasocial  \\\n",
       "location                                                                \n",
       "Basaseachi                                                  11.401535   \n",
       "Ejido Nuevo Delicias y Anexas (Tierras Nuevas)               7.538535   \n",
       "La Regina                                                   62.722622   \n",
       "Paso del Norte                                              28.875632   \n",
       "\n",
       "                                                time_espaciopublico  \\\n",
       "location                                                              \n",
       "Basaseachi                                                11.401535   \n",
       "Ejido Nuevo Delicias y Anexas (Tierras Nuevas)             6.824974   \n",
       "La Regina                                                 13.366165   \n",
       "Paso del Norte                                             4.548273   \n",
       "\n",
       "                                                time_paradas  time_terminales  \\\n",
       "location                                                                        \n",
       "Basaseachi                                         14.466563              NaN   \n",
       "Ejido Nuevo Delicias y Anexas (Tierras Nuevas)     42.162721       669.598346   \n",
       "La Regina                                          11.766375        71.770430   \n",
       "Paso del Norte                                     13.982837        69.913577   \n",
       "\n",
       "                                                time_emergencia  \n",
       "location                                                         \n",
       "Basaseachi                                            21.443454  \n",
       "Ejido Nuevo Delicias y Anexas (Tierras Nuevas)       664.007381  \n",
       "La Regina                                             38.509851  \n",
       "Paso del Norte                                        71.533517  "
      ]
     },
     "execution_count": 28,
     "metadata": {},
     "output_type": "execute_result"
    }
   ],
   "source": [
    "summary = nodes_location.groupby('location').agg({'time_salud':np.average,\n",
    "                                                  'time_guarderias':np.average,\n",
    "                                                  'time_asistenciasocial':np.average,\n",
    "                                                  'time_espaciopublico':np.average,\n",
    "                                                  'time_paradas':np.average,\n",
    "                                                  'time_terminales':np.average,\n",
    "                                                  'time_emergencia':np.average})\n",
    "summary"
   ]
  },
  {
   "cell_type": "code",
   "execution_count": null,
   "id": "44214f10-6b30-47ca-bce8-6b0f582559fa",
   "metadata": {},
   "outputs": [],
   "source": []
  }
 ],
 "metadata": {
  "kernelspec": {
   "display_name": "Python 3 (ipykernel)",
   "language": "python",
   "name": "python3"
  },
  "language_info": {
   "codemirror_mode": {
    "name": "ipython",
    "version": 3
   },
   "file_extension": ".py",
   "mimetype": "text/x-python",
   "name": "python",
   "nbconvert_exporter": "python",
   "pygments_lexer": "ipython3",
   "version": "3.10.5"
  }
 },
 "nbformat": 4,
 "nbformat_minor": 5
}
