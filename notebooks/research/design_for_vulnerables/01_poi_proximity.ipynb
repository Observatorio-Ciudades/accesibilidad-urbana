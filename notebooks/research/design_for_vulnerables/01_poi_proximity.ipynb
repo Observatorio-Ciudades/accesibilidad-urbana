{
 "cells": [
  {
   "cell_type": "code",
   "execution_count": 1,
   "id": "a45911ab-6109-4612-96fc-2366c941c075",
   "metadata": {},
   "outputs": [
    {
     "name": "stderr",
     "output_type": "stream",
     "text": [
      "/usr/local/python/lib/python3.10/site-packages/osmnx/utils.py:192: UserWarning: The `utils.config` function is deprecated and will be removed in a future release. Instead, use the `settings` module directly to configure a global setting's value. For example, `ox.settings.log_console=True`.\n",
      "  warnings.warn(\n"
     ]
    }
   ],
   "source": [
    "import os\n",
    "import sys\n",
    "\n",
    "import pandas as pd\n",
    "import geopandas as gpd\n",
    "import osmnx as ox\n",
    "import numpy as np\n",
    "\n",
    "import matplotlib.pyplot as plt\n",
    "import seaborn as sns\n",
    "\n",
    "from pandas.api.types import CategoricalDtype\n",
    "\n",
    "import warnings\n",
    "warnings.simplefilter(action='ignore', category=FutureWarning)\n",
    "\n",
    "module_path = os.path.abspath(os.path.join('../../../'))\n",
    "if module_path not in sys.path:\n",
    "    sys.path.append(module_path)\n",
    "    import aup"
   ]
  },
  {
   "cell_type": "markdown",
   "id": "e4498855-cc30-492e-8992-8e79026ddb92",
   "metadata": {},
   "source": [
    "## Data download"
   ]
  },
  {
   "cell_type": "code",
   "execution_count": 2,
   "id": "cfc0404e-9b54-468a-9623-71fd4a6fd79e",
   "metadata": {},
   "outputs": [],
   "source": [
    "cvegeo = '08019'\n",
    "\n",
    "#08019 - Chihuahua\n",
    "#08038 y 08045 - Julimes + Meoqui\n",
    "#08051 - Ocampo"
   ]
  },
  {
   "cell_type": "code",
   "execution_count": 3,
   "id": "2581f5d2-b0a7-4d7f-bfa0-e7fbdc166168",
   "metadata": {},
   "outputs": [],
   "source": [
    "# Creates empty GeoDataFrame to store specified municipality polygons and hex grid\n",
    "mun_gdf = gpd.GeoDataFrame()\n",
    "hex_bins = gpd.GeoDataFrame()        "
   ]
  },
  {
   "cell_type": "code",
   "execution_count": 5,
   "id": "4b73a14d-d5a2-4e1b-9e40-663563c94f03",
   "metadata": {
    "tags": []
   },
   "outputs": [
    {
     "data": {
      "text/plain": [
       "<Axes: >"
      ]
     },
     "execution_count": 5,
     "metadata": {},
     "output_type": "execute_result"
    },
    {
     "data": {
      "image/png": "[encoded data removed]",
      "text/plain": [
       "<Figure size 640x480 with 1 Axes>"
      ]
     },
     "metadata": {},
     "output_type": "display_data"
    }
   ],
   "source": [
    "#Query municipalities\n",
    "mun_schema = 'marco'\n",
    "mun_table = 'mpos_2020'\n",
    "\n",
    "query = f\"SELECT * FROM {mun_schema}.{mun_table} WHERE \\\"CVEGEO\\\" LIKE \\'{cvegeo}\\'\"\n",
    "mun_gdf = aup.gdf_from_query(query, geometry_col='geometry')\n",
    "\n",
    "#Define projections and plot\n",
    "mun_gdf = mun_gdf.set_crs(\"EPSG:4326\")\n",
    "mun_gdf.plot()"
   ]
  },
  {
   "cell_type": "code",
   "execution_count": 13,
   "id": "a60420e9-2569-4384-8d10-994613377ffc",
   "metadata": {
    "tags": []
   },
   "outputs": [],
   "source": [
    "#Load points of interest and filter for relevant data\n",
    "pois = gpd.read_file(\"../../../data/external/temporal_todocker/prueba_pois.gpkg\")\n",
    "points = pois[['TIPO','geometry']]"
   ]
  },
  {
   "cell_type": "code",
   "execution_count": 14,
   "id": "9f4c1dea-6363-4a8a-a085-50adf3c25e7c",
   "metadata": {
    "tags": []
   },
   "outputs": [
    {
     "data": {
      "text/html": [
       "<div>\n",
       "<style scoped>\n",
       "    .dataframe tbody tr th:only-of-type {\n",
       "        vertical-align: middle;\n",
       "    }\n",
       "\n",
       "    .dataframe tbody tr th {\n",
       "        vertical-align: top;\n",
       "    }\n",
       "\n",
       "    .dataframe thead th {\n",
       "        text-align: right;\n",
       "    }\n",
       "</style>\n",
       "<table border=\"1\" class=\"dataframe\">\n",
       "  <thead>\n",
       "    <tr style=\"text-align: right;\">\n",
       "      <th></th>\n",
       "      <th>TIPO</th>\n",
       "      <th>geometry</th>\n",
       "    </tr>\n",
       "  </thead>\n",
       "  <tbody>\n",
       "    <tr>\n",
       "      <th>0</th>\n",
       "      <td>Tanque Elevado</td>\n",
       "      <td>POINT (-105.96279 28.73187)</td>\n",
       "    </tr>\n",
       "    <tr>\n",
       "      <th>1</th>\n",
       "      <td>Tanque Elevado</td>\n",
       "      <td>POINT (-105.97175 28.76084)</td>\n",
       "    </tr>\n",
       "    <tr>\n",
       "      <th>2</th>\n",
       "      <td>Tanque Elevado</td>\n",
       "      <td>POINT (-105.96671 28.77223)</td>\n",
       "    </tr>\n",
       "    <tr>\n",
       "      <th>3</th>\n",
       "      <td>Tanque Elevado</td>\n",
       "      <td>POINT (-106.00706 28.80750)</td>\n",
       "    </tr>\n",
       "    <tr>\n",
       "      <th>4</th>\n",
       "      <td>Tanque Elevado</td>\n",
       "      <td>POINT (-105.87540 28.60919)</td>\n",
       "    </tr>\n",
       "  </tbody>\n",
       "</table>\n",
       "</div>"
      ],
      "text/plain": [
       "             TIPO                     geometry\n",
       "0  Tanque Elevado  POINT (-105.96279 28.73187)\n",
       "1  Tanque Elevado  POINT (-105.97175 28.76084)\n",
       "2  Tanque Elevado  POINT (-105.96671 28.77223)\n",
       "3  Tanque Elevado  POINT (-106.00706 28.80750)\n",
       "4  Tanque Elevado  POINT (-105.87540 28.60919)"
      ]
     },
     "execution_count": 14,
     "metadata": {},
     "output_type": "execute_result"
    }
   ],
   "source": [
    "points.head()"
   ]
  },
  {
   "cell_type": "markdown",
   "id": "3b3503c9-f034-45de-b610-ea9d6edf8f9f",
   "metadata": {},
   "source": [
    "## Data treatment"
   ]
  },
  {
   "cell_type": "markdown",
   "id": "a2d3ca83-f06c-4e15-aede-b41e1453db64",
   "metadata": {},
   "source": [
    "### Data treatment - Create network"
   ]
  },
  {
   "cell_type": "code",
   "execution_count": 7,
   "id": "b6c8e390-4f48-498e-afb7-9f5db8f71de3",
   "metadata": {
    "tags": []
   },
   "outputs": [],
   "source": [
    "G, nodes, edges = aup.graph_from_hippo(mun_gdf, 'osmnx')"
   ]
  },
  {
   "cell_type": "code",
   "execution_count": 15,
   "id": "0ddb49f7-e6c2-450d-bcf4-044e3b18f2f4",
   "metadata": {
    "tags": []
   },
   "outputs": [],
   "source": [
    "points = points.set_crs(\"EPSG:4326\")\n",
    "nodes = nodes.set_crs(\"EPSG:4326\")\n",
    "edges = edges.set_crs(\"EPSG:4326\")"
   ]
  },
  {
   "cell_type": "markdown",
   "id": "46532760-79f8-4adc-9cca-3e627e22efba",
   "metadata": {},
   "source": [
    "### Data treatment - Find nearest node for each point"
   ]
  },
  {
   "cell_type": "code",
   "execution_count": null,
   "id": "34ea215f-6d09-48a6-b345-d2cc8264225a",
   "metadata": {},
   "outputs": [],
   "source": [
    "nearest = aup.find_nearest(G, nodes, points, return_distance= True)\n",
    "nearest = nearest.set_crs(\"EPSG:4326\")"
   ]
  },
  {
   "cell_type": "markdown",
   "id": "caeeee95-b4a1-45e4-8ee8-8abf8f33ad10",
   "metadata": {},
   "source": [
    "### Data treatment - Create edges_speed network for distance_nearest_poi analysis"
   ]
  },
  {
   "cell_type": "code",
   "execution_count": 9,
   "id": "3e6d2073-e254-4f0f-9ba7-c86aa203b724",
   "metadata": {
    "tags": []
   },
   "outputs": [],
   "source": [
    "_, nodes, edges = aup.graph_from_hippo(mun_gdf, 'osmnx', edges_folder='edges_speed')"
   ]
  },
  {
   "cell_type": "code",
   "execution_count": null,
   "id": "445959db-1516-4067-a634-9c96f6ffa628",
   "metadata": {},
   "outputs": [],
   "source": []
  }
 ],
 "metadata": {
  "kernelspec": {
   "display_name": "Python 3 (ipykernel)",
   "language": "python",
   "name": "python3"
  },
  "language_info": {
   "codemirror_mode": {
    "name": "ipython",
    "version": 3
   },
   "file_extension": ".py",
   "mimetype": "text/x-python",
   "name": "python",
   "nbconvert_exporter": "python",
   "pygments_lexer": "ipython3",
   "version": "3.10.5"
  }
 },
 "nbformat": 4,
 "nbformat_minor": 5
}
