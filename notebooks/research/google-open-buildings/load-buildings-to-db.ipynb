{
 "cells": [
  {
   "cell_type": "code",
   "execution_count": 1,
   "id": "acdf49c4-e043-42fe-b8d5-90cbb589e24e",
   "metadata": {
    "tags": []
   },
   "outputs": [
    {
     "name": "stderr",
     "output_type": "stream",
     "text": [
      "/home/edgaregurrola/anaconda3/envs/odc/lib/python3.10/site-packages/geopandas/_compat.py:123: UserWarning: The Shapely GEOS version (3.10.3-CAPI-1.16.1) is incompatible with the GEOS version PyGEOS was compiled with (3.10.1-CAPI-1.16.0). Conversions between both will be slow.\n",
      "  warnings.warn(\n",
      "/home/edgaregurrola/.local/lib/python3.10/site-packages/requests/__init__.py:109: RequestsDependencyWarning: urllib3 (1.26.9) or chardet (5.1.0)/charset_normalizer (2.0.12) doesn't match a supported version!\n",
      "  warnings.warn(\n"
     ]
    },
    {
     "name": "stdout",
     "output_type": "stream",
     "text": [
      "2023-12-05 11:10:09 Configured OSMnx 1.1.2\n",
      "2023-12-05 11:10:09 HTTP response caching is on\n"
     ]
    }
   ],
   "source": [
    "import os\n",
    "import sys\n",
    "\n",
    "import pandas as pd\n",
    "import geopandas as gpd\n",
    "import osmnx as ox\n",
    "import numpy as np\n",
    "\n",
    "from shapely import wkt\n",
    "\n",
    "import matplotlib.pyplot as plt\n",
    "import seaborn as sns\n",
    "\n",
    "from pandas.api.types import CategoricalDtype\n",
    "\n",
    "import warnings\n",
    "warnings.simplefilter(action='ignore', category=FutureWarning)\n",
    "\n",
    "module_path = os.path.abspath(os.path.join('../../../'))\n",
    "if module_path not in sys.path:\n",
    "    sys.path.append(module_path)\n",
    "    import aup"
   ]
  },
  {
   "cell_type": "code",
   "execution_count": null,
   "id": "b7fd6380-4ecc-40ed-94ee-1f5b44ecda9d",
   "metadata": {
    "tags": []
   },
   "outputs": [],
   "source": [
    "# Query municipalities\n",
    "mun_schema = 'marco'\n",
    "mun_table = 'mpos_2020'\n",
    "query = f\"SELECT * FROM {mun_schema}.{mun_table} \"\n",
    "mun_gdf = aup.gdf_from_query(query, geometry_col='geometry')\n",
    "\n",
    "# Create Mexico shape\n",
    "mun_gdf = mun_gdf.to_crs(\"EPSG:6372\")\n",
    "mun_buffer = mun_gdf.buffer(1)\n",
    "mun_gdf_buffer = gpd.GeoDataFrame(mun_buffer)\n",
    "mun_gdf_buffer.rename(columns={0:'geometry'},inplace=True)\n",
    "mexico = mun_gdf_buffer.dissolve()\n",
    "mexico = mexico.to_crs(\"EPSG:4326\")\n",
    "\n",
    "# Show\n",
    "mexico.plot()"
   ]
  },
  {
   "cell_type": "code",
   "execution_count": null,
   "id": "dd1ee304-8e6d-406f-adbb-94fd5e1f1d7f",
   "metadata": {
    "tags": []
   },
   "outputs": [],
   "source": [
    "cell = '85d'\n",
    "#next_cells = []\n",
    "#done_cells = ['80d','813','86d','815','83f','841','85b','86f','865','86b','8f5'(2522s),\n",
    "# '867','869','85f','859','843']\n",
    "#failed_cells = []\n",
    "\n",
    "chunksize = 5000000\n",
    "\n",
    "directory = f\"../../../data/external/building_footprints/{cell}_buildings.csv\"\n",
    "aup.log(f'Started reading file for cell {cell}')\n",
    "\n",
    "for buildings_tmp in pd.read_csv(directory, chunksize=chunksize):\n",
    "    # process each chunk here\n",
    "    aup.log('Finished reading file')\n",
    "\n",
    "    buildings_tmp['geometry'] = buildings_tmp['geometry'].apply(wkt.loads)\n",
    "    buildings_gdf = gpd.GeoDataFrame(buildings_tmp, crs='epsg:4326')\n",
    "    del buildings_tmp\n",
    "    buildings_gdf['cell'] = cell\n",
    "\n",
    "    aup.log('Finished assigning geometry')\n",
    "\n",
    "    limit_len = 500000\n",
    "    if len(buildings_gdf)>limit_len:\n",
    "        c_upload = len(buildings_gdf)/limit_len\n",
    "        for k in range(int(c_upload)+1):\n",
    "            aup.log(f\"Starting range k = {k} of {int(c_upload)}\")\n",
    "            gdf_inter_upload = buildings_gdf.iloc[int(limit_len*k):int(limit_len*(1+k))].copy()\n",
    "            aup.gdf_to_db_slow(gdf_inter_upload,'buildings_google_v3','google_buildings',if_exists=\"append\")\n",
    "    else:\n",
    "        aup.log('Starting upload of all data')\n",
    "        aup.gdf_to_db_slow(buildings_gdf,'buildings_google_v3','google_buildings',if_exists=\"append\")\n",
    "\n",
    "    del buildings_gdf\n",
    "    del gdf_inter_upload"
   ]
  },
  {
   "cell_type": "code",
   "execution_count": null,
   "id": "2a77b046-a383-4547-8aae-5364a3dff4c6",
   "metadata": {
    "tags": []
   },
   "outputs": [],
   "source": [
    "mexico_buildings = gpd.sjoin(buildings_gdf,mexico,how='inner')\n",
    "\n",
    "# Show\n",
    "print(mexico_buildings.shape)\n",
    "mexico_buildings.head(2)"
   ]
  },
  {
   "cell_type": "code",
   "execution_count": null,
   "id": "781a69f2-0384-4268-82c3-f8ba16d5647f",
   "metadata": {},
   "outputs": [],
   "source": []
  }
 ],
 "metadata": {
  "kernelspec": {
   "display_name": "odc",
   "language": "python",
   "name": "odc"
  },
  "language_info": {
   "codemirror_mode": {
    "name": "ipython",
    "version": 3
   },
   "file_extension": ".py",
   "mimetype": "text/x-python",
   "name": "python",
   "nbconvert_exporter": "python",
   "pygments_lexer": "ipython3",
   "version": "3.10.4"
  }
 },
 "nbformat": 4,
 "nbformat_minor": 5
}
