{
 "cells": [
  {
   "cell_type": "markdown",
   "id": "b7b494fc-2622-4711-a284-f08832c81baf",
   "metadata": {},
   "source": [
    "# 00a-polygon_pop_calc (Using blocks, CANCELED)"
   ]
  },
  {
   "cell_type": "markdown",
   "id": "31f5c998-5897-475a-887c-b1d318d36e23",
   "metadata": {},
   "source": [
    "This notebook takes a __polygon as input__ an calculates various demographic values using INEGI's __2010 and 2020 census data.__"
   ]
  },
  {
   "cell_type": "markdown",
   "id": "18ca348c-dc14-46ad-bb0e-bf7b622efa06",
   "metadata": {},
   "source": [
    "## Import libraries"
   ]
  },
  {
   "cell_type": "code",
   "execution_count": 1,
   "id": "738abf29-a3e2-408e-8556-0483c1aa7a91",
   "metadata": {},
   "outputs": [],
   "source": [
    "first_folder_path = '../../../'"
   ]
  },
  {
   "cell_type": "code",
   "execution_count": 2,
   "id": "9bd95d21-5e32-455f-a806-ca2d5c5d4851",
   "metadata": {},
   "outputs": [
    {
     "name": "stderr",
     "output_type": "stream",
     "text": [
      "\n",
      "KeyboardInterrupt\n",
      "\n"
     ]
    }
   ],
   "source": [
    "import os\n",
    "import sys\n",
    "\n",
    "import pandas as pd\n",
    "import geopandas as gpd\n",
    "import numpy as np\n",
    "\n",
    "import matplotlib.pyplot as plt\n",
    "import seaborn as sns\n",
    "\n",
    "from pandas.api.types import CategoricalDtype\n",
    "\n",
    "import warnings\n",
    "warnings.simplefilter(action='ignore', category=FutureWarning)\n",
    "\n",
    "module_path = os.path.abspath(os.path.join(first_folder_path))\n",
    "if module_path not in sys.path:\n",
    "    sys.path.append(module_path)\n",
    "    import aup"
   ]
  },
  {
   "cell_type": "markdown",
   "id": "5e881d56-d495-449d-b0d0-533f3893aab8",
   "metadata": {},
   "source": [
    "## Notebook config"
   ]
  },
  {
   "cell_type": "code",
   "execution_count": null,
   "id": "62689253-0722-4056-a0a9-80ea29ff46a1",
   "metadata": {},
   "outputs": [],
   "source": [
    "# ----- ----- ----- Input polygon ----- ----- ----- \n",
    "poly_dir = first_folder_path + \"data/external/temporal_todocker/c+lab/Poligono2_Area_de_influencia.gpkg\"\n",
    "\n",
    "\n",
    "# ----- ----- ----- Projection to be used when needed ----- ----- ----- \n",
    "projected_crs = \"EPSG:32614\" #Monterrey"
   ]
  },
  {
   "cell_type": "markdown",
   "id": "e43ceca1-6e0f-48ec-a536-05d8d4001ffa",
   "metadata": {},
   "source": [
    "## Load data"
   ]
  },
  {
   "cell_type": "code",
   "execution_count": null,
   "id": "763fedc0-d77b-4a69-b0e8-3c8064c96a5a",
   "metadata": {},
   "outputs": [],
   "source": [
    "# Load polygon\n",
    "poly_gdf = gpd.read_file(poly_dir)\n",
    "\n",
    "# Set CRS\n",
    "if poly_gdf.crs != projected_crs:\n",
    "    try:\n",
    "        poly_gdf = poly_gdf.set_crs(projected_crs)\n",
    "    except:\n",
    "        poly_gdf = poly_gdf.to_crs(projected_crs)\n",
    "\n",
    "# Filter and rename data\n",
    "poly_gdf.rename(columns={'Name':'name'},inplace=True)\n",
    "\n",
    "# Show\n",
    "print(poly_gdf.crs)\n",
    "print(poly_gdf.shape)\n",
    "poly_gdf.head(2)"
   ]
  },
  {
   "cell_type": "code",
   "execution_count": null,
   "id": "c2b770e8-94c5-46b7-88e4-0198e377d260",
   "metadata": {},
   "outputs": [],
   "source": [
    "# Load 2020 population\n",
    "pop_schema = 'censo'\n",
    "pop_table = 'censo_inegi_20_ageb'\n",
    "city = 'Monterrey'\n",
    "\n",
    "pob_query = f\"SELECT * FROM {pop_schema}.{pop_table} WHERE \\\"city\\\" = \\'{city}\\'\"\n",
    "pob_20_gdf = aup.gdf_from_query(pob_query, geometry_col='geometry')\n",
    "\n",
    "# Set CRS\n",
    "if pob_20_gdf.crs != projected_crs:\n",
    "    try:\n",
    "        pob_20_gdf = pob_20_gdf.set_crs(projected_crs)\n",
    "    except:\n",
    "        pob_20_gdf = pob_20_gdf.to_crs(projected_crs)\n",
    "\n",
    "# Show\n",
    "print(pob_20_gdf.crs)\n",
    "print(pob_20_gdf.shape)\n",
    "pob_20_gdf.head(2)"
   ]
  },
  {
   "cell_type": "code",
   "execution_count": null,
   "id": "970564e6-a497-4081-bdf1-73115cf25a40",
   "metadata": {},
   "outputs": [],
   "source": [
    "# Load 2010 population\n",
    "pop_schema = 'censo'\n",
    "pop_table = 'pobcenso_inegi_10_mzaageb_mza'\n",
    "city = 'Monterrey'\n",
    "\n",
    "pob_query = f\"SELECT * FROM {pop_schema}.{pop_table} WHERE \\\"city\\\" = \\'{city}\\'\"\n",
    "pob_10_gdf = aup.gdf_from_query(pob_query, geometry_col='geometry')\n",
    "\n",
    "# Set CRS\n",
    "if pob_10_gdf.crs != projected_crs:\n",
    "    try:\n",
    "        pob_10_gdf = pob_10_gdf.set_crs(projected_crs)\n",
    "    except:\n",
    "        pob_10_gdf = pob_10_gdf.to_crs(projected_crs)\n",
    "\n",
    "# Show\n",
    "print(pob_10_gdf.crs)\n",
    "print(pob_10_gdf.shape)\n",
    "pob_10_gdf.head(2)"
   ]
  },
  {
   "cell_type": "markdown",
   "id": "123c35b2-6f17-49e3-8d85-a8129ce425fe",
   "metadata": {},
   "source": [
    "## Clip data to polygon"
   ]
  },
  {
   "cell_type": "code",
   "execution_count": null,
   "id": "8bebf37f-3843-44ff-9172-f46ce8c30c25",
   "metadata": {},
   "outputs": [],
   "source": [
    "pob_20_polygon = pob_20_gdf.sjoin(poly_gdf)\n",
    "\n",
    "# Show\n",
    "print(pob_20_polygon.shape)\n",
    "pob_20_polygon.head(2)"
   ]
  },
  {
   "cell_type": "code",
   "execution_count": null,
   "id": "f8cd5dcd-5773-4201-9fa0-0694dcb2ac0b",
   "metadata": {},
   "outputs": [],
   "source": [
    "pob_10_polygon = pob_10_gdf.sjoin(poly_gdf)\n",
    "\n",
    "# Show\n",
    "print(pob_10_polygon.shape)\n",
    "pob_10_polygon.head(2)"
   ]
  },
  {
   "cell_type": "markdown",
   "id": "fc30c5e9-458a-4e10-a611-59233eff4492",
   "metadata": {},
   "source": [
    "## Agregate data of interest"
   ]
  },
  {
   "cell_type": "code",
   "execution_count": null,
   "id": "197e7042-5419-4b23-b8f2-2473b054e70a",
   "metadata": {},
   "outputs": [],
   "source": [
    "def agregate_census_data_of_interest(census_2010, census_2020):\n",
    "\n",
    "    ################################################################## SET FIELDS OF INTEREST\n",
    "    fields_of_interest = ['pobtot','pobfem','pobmas',\n",
    "                          'p_0a2','p_0a2_f','p_0a2_m',\n",
    "                          'p_3ymas','p_3ymas_f','p_3ymas_m',\n",
    "                          'p_5ymas','p_5ymas_f','p_5ymas_m',\n",
    "                          'p_12ymas','p_12ymas_f','p_12ymas_m',\n",
    "                          'p_15ymas','p_15ymas_f','p_15ymas_m',\n",
    "                          'p_18ymas','p_18ymas_f','p_18ymas_m',\n",
    "                          'p_3a5','p_3a5_f','p_3a5_m',\n",
    "                          'p_6a11','p_6a11_f','p_6a11_m',\n",
    "                          'p_8a14','p_8a14_f','p_8a14_m',\n",
    "                          'p_12a14','p_12a14_f','p_12a14_m',\n",
    "                          'p_15a17','p_15a17_f','p_15a17_m',\n",
    "                          'p_18a24','p_18a24_f','p_18a24_m',\n",
    "                          'p_15a49_f',\n",
    "                          'p_60ymas','p_60ymas_f','p_60ymas_m',\n",
    "                          'pob0_14','pob15_64','pob65_mas',\n",
    "                           # A PARTIR DE AQUÍ LOS VALORES SON APROXIMADOS PORQUE SON POR MANZANA Y NO ENTRAN EN calculate_censo_nan_values()\n",
    "                          'p3ym_hli', #Población de 3 años y más que habla una lengua indígena\n",
    "                          'p3a5_noa', #Población de 3 a 5 años que no asiste a la escuela\n",
    "                          'p6a11_noa', #Población de 6 a 11 años que no asiste a la escuela\n",
    "                          'p12a14noa', #Población de 12 a 14 años que no asiste a la escuela\n",
    "                          'p15a17a', #Población de 15 a 17 años que SÍ van a la escuela\n",
    "                          'p18a24a', #Población de 18 a 24 años que SÍ van a la escuela\n",
    "                          'p15ym_an', #Población de 15 años y más que no saben leer y escribir\n",
    "                          'p15sec_co', #Población de 15 años y más con secundaria completa\n",
    "                          'psinder', #Población sin afiliación a servicios de salud (IMSS, ISSSTE, PEMEX, SEDENA, SEMAR, INSABI u otro)\n",
    "                          'tvivpar', #Total de viviendas particulares\n",
    "                          'tvivparhab'] #Viviendas particulares habitadas\n",
    "    \n",
    "    # Dataframe that will store all processed data\n",
    "    summary_df = pd.DataFrame()\n",
    "    \n",
    "    ################################################################## CALCULATE TOTAL VALUES FOR EACH FIELD OF INTEREST\n",
    "    print(\"Columns 2010_value and 2020_value show total data in 2010 and 2020 for each field.\")\n",
    "    print(\"--\"*15)\n",
    "    \n",
    "    # Calculating total values for each field in fields_of_interest \n",
    "    #(Must adapt to each year)\n",
    "    years = ['2010','2020']\n",
    "    for year in years:\n",
    "        # Set data and fields of interest for current year\n",
    "        sum_fields = fields_of_interest.copy()\n",
    "        if year == '2010':\n",
    "            data_gdf = census_2010.copy()\n",
    "            sum_fields.append('pcon_lim') #pcon_lim won't appear in summary_df, it's name gets overwritten by pcon_disc\n",
    "        elif year == '2020':\n",
    "            data_gdf = census_2020.copy()\n",
    "            sum_fields.append('pcon_disc')\n",
    "        # Iterate over each field obtaining sum of data\n",
    "        idx = 0 #(Reset idx each year)\n",
    "        for field in sum_fields:\n",
    "            current_data = data_gdf[field].sum()        \n",
    "            summary_df.loc[idx, 'field'] = field\n",
    "            summary_df.loc[idx, f'{year}_value'] = int(current_data)\n",
    "            idx+=1\n",
    "    \n",
    "    # Data that is already an average (do not sum, calculate mean)\n",
    "    mean_fields = ['graproes',#Grado promedio de escolaridad\n",
    "                   'prom_ocup']#Promedio de ocupantes en viviendas particulares habitadas\n",
    "    \n",
    "    for year in years:\n",
    "        # Set data for current year\n",
    "        if year == '2010':\n",
    "            data_gdf = census_2010.copy()\n",
    "        elif year == '2020':\n",
    "            data_gdf = census_2020.copy()\n",
    "        # Iterate over each field obtaining nanmean of data\n",
    "        mean_idx = idx #(Assign idx as last idx used for fields that used sum of values\n",
    "        for field in mean_fields:\n",
    "            current_data = np.nanmean(data_gdf[field])\n",
    "            summary_df.loc[mean_idx, 'field'] = field\n",
    "            summary_df.loc[mean_idx, f'{year}_value'] = round(current_data,2)\n",
    "            mean_idx+=1\n",
    "    \n",
    "    ################################################################## CALCULATE CHANGE IN TOTAL VALUES BETWEEN 2010 AND 2020\n",
    "    print(\"Column diff_values shows change in total data between 2010 and 2020.\")\n",
    "    print(\"diff_values = 2020_value - 2010_value\")\n",
    "    print(\"--\"*15)\n",
    "    print(\"Column %diff_values shows percentage of change in total data between 2010 and 2020.\")\n",
    "    print(\"%diff_values = (diff_values / 2010_value)x100\")\n",
    "    print(\"--\"*15)\n",
    "    \n",
    "    # Calculate changes between 2010 values and 2020 values\n",
    "    summary_df['diff_values'] = summary_df['2020_value'] - summary_df['2010_value']\n",
    "    summary_df['%diff_values'] = round((summary_df['diff_values'] / summary_df['2010_value'])*100,2)\n",
    "    \n",
    "    ################################################################## CALCULATE DISTRIBUTION OF VALUES WITH REFERENCE TO A PARENT CATEGORY\n",
    "    print(\"Columns _dist shows the percentage that each field has with respect to it's parent category.\")\n",
    "    print(\"_dist changes depending on field. e.g.: pct_pobfem = pobfem/pobtot\")\n",
    "    print(\"--\"*15)\n",
    "    \n",
    "    # Calculate distribution data with reference to a parent category\n",
    "    # (e.g. pct_pobfem = pobfem/pobtot)\n",
    "    \n",
    "    # Fields whose reference is NOT pobtot\n",
    "    weight_dct = {'p3ym_hli':'p_3ymas',\n",
    "                  'p3a5_noa':'p_3a5',\n",
    "                  'p6a11_noa':'p_6a11',\n",
    "                  'p12a14noa':'p_12a14',\n",
    "                  'p15a17a':'p_15a17',\n",
    "                  'p18a24a':'p_18a24',\n",
    "                  'p15ym_an':'p_15ymas',\n",
    "                  'p15sec_co':'p_15ymas',\n",
    "                  'tvivparhab':'tvivpar'}\n",
    "    \n",
    "    # Fields that don't have a parent category\n",
    "    ignore_fields = ['psinder','tvivpar']\n",
    "    \n",
    "    for field in list(summary_df['field'].unique()):\n",
    "    \n",
    "        # Skip all fields in ignore_fields list\n",
    "        if field not in ignore_fields:\n",
    "            # Fields with 'pobtot' as weight\n",
    "            if field not in weight_dct.keys():\n",
    "        \n",
    "                # Register weight field as 'pobtot'\n",
    "                idx = summary_df['field']==field\n",
    "                summary_df.loc[idx,'weight'] = 'pobtot'\n",
    "                \n",
    "                # Calculate value of interest for 2010 --> (2010 value/2010 pobtot)*100\n",
    "                pobtot_idx = summary_df['field']=='pobtot'\n",
    "                value_2010 = (summary_df.loc[idx,'2010_value'] / summary_df.loc[pobtot_idx,'2010_value'][0])*100\n",
    "                # Register 2010 value\n",
    "                summary_df.loc[idx,'2010_dist'] = round(value_2010,2)\n",
    "                \n",
    "                # Calculate value of interest for 2020 --> (2020 value/2020 pobtot)*100\n",
    "                pobtot_idx = summary_df['field']=='pobtot'\n",
    "                value_2020 = (summary_df.loc[idx,'2020_value'] / summary_df.loc[pobtot_idx,'2020_value'][0])*100\n",
    "                # Register 2020 value\n",
    "                summary_df.loc[idx,'2020_dist'] = round(value_2020,2)    \n",
    "        \n",
    "            # Fields with another field as weight\n",
    "            if field in weight_dct.keys():\n",
    "        \n",
    "                # Register weight field as indicated in weight_dct\n",
    "                idx = summary_df['field']==field\n",
    "                summary_df.loc[idx,'weight'] = weight_dct[field]\n",
    "        \n",
    "                # Calculate value of interest for 2010 --> (2010 value/2010 weight_dct[field])*100\n",
    "                weight_idx = summary_df['field']==weight_dct[field]\n",
    "                value_2010 = (summary_df.loc[idx,'2010_value'] / summary_df.loc[weight_idx,'2010_value'].unique()[0])*100\n",
    "                # Register 2010 value\n",
    "                summary_df.loc[idx,'2010_dist'] = round(value_2010,2)\n",
    "        \n",
    "                # Calculate value of interest for 2020 --> (2020 value/2020 weight_dct[field])*100\n",
    "                weight_idx = summary_df['field']==weight_dct[field]\n",
    "                value_2020 = (summary_df.loc[idx,'2020_value'] / summary_df.loc[weight_idx,'2020_value'].unique()[0])*100\n",
    "                # Register 2020 value\n",
    "                summary_df.loc[idx,'2020_dist'] = round(value_2020,2)\n",
    "    \n",
    "    ################################################################## CALCULATE CHANGE IN DISTRIBUTION OF VALUES\n",
    "    print(\"Column diff_dist shows the change in distribution for each field\")\n",
    "    print(\"diff_dist = 2020_dist - 2010_dist\")\n",
    "    print(\"--\"*15)\n",
    "    \n",
    "    # Calculate changes between 2010 distributions and 2020 distributions\n",
    "    summary_df['diff_dist'] = summary_df['2020_dist'] - summary_df['2010_dist']\n",
    "    \n",
    "    return summary_df"
   ]
  },
  {
   "cell_type": "code",
   "execution_count": null,
   "id": "b7b8bcb7-1168-49d9-a4d8-51ab6bc95408",
   "metadata": {},
   "outputs": [],
   "source": [
    "polygon_summary = agregate_census_data_of_interest(pob_10_polygon, pob_20_polygon)\n",
    "# Show\n",
    "polygon_summary"
   ]
  },
  {
   "cell_type": "code",
   "execution_count": null,
   "id": "a91df810-605f-4765-90f2-180d1122248a",
   "metadata": {},
   "outputs": [],
   "source": [
    "metropolis_summary = agregate_census_data_of_interest(pob_10_gdf, pob_20_gdf)\n",
    "# Show\n",
    "metropolis_summary"
   ]
  },
  {
   "cell_type": "code",
   "execution_count": null,
   "id": "3f2d2fcf-f36d-489b-a90a-d94d7ebc3484",
   "metadata": {},
   "outputs": [],
   "source": []
  }
 ],
 "metadata": {
  "kernelspec": {
   "display_name": "GDS-10.0",
   "language": "python",
   "name": "gds"
  },
  "language_info": {
   "codemirror_mode": {
    "name": "ipython",
    "version": 3
   },
   "file_extension": ".py",
   "mimetype": "text/x-python",
   "name": "python",
   "nbconvert_exporter": "python",
   "pygments_lexer": "ipython3",
   "version": "3.9.18"
  }
 },
 "nbformat": 4,
 "nbformat_minor": 5
}
