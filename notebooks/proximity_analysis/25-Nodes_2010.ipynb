{
 "cells": [
  {
   "cell_type": "code",
   "execution_count": 1,
   "metadata": {},
   "outputs": [
    {
     "name": "stderr",
     "output_type": "stream",
     "text": [
      "/home/edgar/anaconda3/envs/geo_env/lib/python3.8/site-packages/geopandas/_compat.py:111: UserWarning: The Shapely GEOS version (3.10.1-CAPI-1.16.0) is incompatible with the GEOS version PyGEOS was compiled with (3.9.1-CAPI-1.14.2). Conversions between both will be slow.\n",
      "  warnings.warn(\n"
     ]
    }
   ],
   "source": [
    "import pandas as pd\n",
    "import numpy as np\n",
    "import geopandas as gpd\n",
    "\n",
    "import os\n",
    "import sys\n",
    "module_path = os.path.abspath(os.path.join('..'))\n",
    "if module_path not in sys.path:\n",
    "    sys.path.append(module_path)\n",
    "    import aup"
   ]
  },
  {
   "cell_type": "code",
   "execution_count": 2,
   "metadata": {},
   "outputs": [
    {
     "name": "stdout",
     "output_type": "stream",
     "text": [
      "(2888916, 23)\n"
     ]
    },
    {
     "data": {
      "text/html": [
       "<div>\n",
       "<style scoped>\n",
       "    .dataframe tbody tr th:only-of-type {\n",
       "        vertical-align: middle;\n",
       "    }\n",
       "\n",
       "    .dataframe tbody tr th {\n",
       "        vertical-align: top;\n",
       "    }\n",
       "\n",
       "    .dataframe thead th {\n",
       "        text-align: right;\n",
       "    }\n",
       "</style>\n",
       "<table border=\"1\" class=\"dataframe\">\n",
       "  <thead>\n",
       "    <tr style=\"text-align: right;\">\n",
       "      <th></th>\n",
       "      <th>ID</th>\n",
       "      <th>TIPOVIA</th>\n",
       "      <th>TIPO</th>\n",
       "      <th>NUMERO</th>\n",
       "      <th>DERE_TRAN</th>\n",
       "      <th>ADMINISTRA</th>\n",
       "      <th>NUME_CARR</th>\n",
       "      <th>CONDICION</th>\n",
       "      <th>ORIGEN</th>\n",
       "      <th>CALI_REPR</th>\n",
       "      <th>...</th>\n",
       "      <th>LONGITUD</th>\n",
       "      <th>UNIDAD</th>\n",
       "      <th>vertex_pos</th>\n",
       "      <th>vertex_ind</th>\n",
       "      <th>vertex_par</th>\n",
       "      <th>vertex_p_1</th>\n",
       "      <th>distance</th>\n",
       "      <th>angle</th>\n",
       "      <th>geometry</th>\n",
       "      <th>osmid</th>\n",
       "    </tr>\n",
       "  </thead>\n",
       "  <tbody>\n",
       "    <tr>\n",
       "      <th>0</th>\n",
       "      <td>3323880</td>\n",
       "      <td>PRIVADA</td>\n",
       "      <td>N/A</td>\n",
       "      <td>N/A</td>\n",
       "      <td>N/A</td>\n",
       "      <td>N/A</td>\n",
       "      <td>N/A</td>\n",
       "      <td>N/A</td>\n",
       "      <td>BCU</td>\n",
       "      <td>N/A</td>\n",
       "      <td>...</td>\n",
       "      <td>119.84</td>\n",
       "      <td>e22</td>\n",
       "      <td>0</td>\n",
       "      <td>0</td>\n",
       "      <td>0</td>\n",
       "      <td>0</td>\n",
       "      <td>0.000000</td>\n",
       "      <td>197.863721</td>\n",
       "      <td>POINT (-100.45353 20.70727)</td>\n",
       "      <td>2660412967523</td>\n",
       "    </tr>\n",
       "    <tr>\n",
       "      <th>1</th>\n",
       "      <td>3323880</td>\n",
       "      <td>PRIVADA</td>\n",
       "      <td>N/A</td>\n",
       "      <td>N/A</td>\n",
       "      <td>N/A</td>\n",
       "      <td>N/A</td>\n",
       "      <td>N/A</td>\n",
       "      <td>N/A</td>\n",
       "      <td>BCU</td>\n",
       "      <td>N/A</td>\n",
       "      <td>...</td>\n",
       "      <td>119.84</td>\n",
       "      <td>e22</td>\n",
       "      <td>-1</td>\n",
       "      <td>8</td>\n",
       "      <td>0</td>\n",
       "      <td>8</td>\n",
       "      <td>119.842941</td>\n",
       "      <td>247.230113</td>\n",
       "      <td>POINT (-100.45360 20.70634)</td>\n",
       "      <td>2660406967421</td>\n",
       "    </tr>\n",
       "  </tbody>\n",
       "</table>\n",
       "<p>2 rows × 23 columns</p>\n",
       "</div>"
      ],
      "text/plain": [
       "        ID  TIPOVIA TIPO NUMERO DERE_TRAN ADMINISTRA NUME_CARR CONDICION  \\\n",
       "0  3323880  PRIVADA  N/A    N/A       N/A        N/A       N/A       N/A   \n",
       "1  3323880  PRIVADA  N/A    N/A       N/A        N/A       N/A       N/A   \n",
       "\n",
       "  ORIGEN CALI_REPR  ... LONGITUD UNIDAD vertex_pos  vertex_ind vertex_par  \\\n",
       "0    BCU       N/A  ...   119.84    e22          0           0          0   \n",
       "1    BCU       N/A  ...   119.84    e22         -1           8          0   \n",
       "\n",
       "   vertex_p_1    distance       angle                     geometry  \\\n",
       "0           0    0.000000  197.863721  POINT (-100.45353 20.70727)   \n",
       "1           8  119.842941  247.230113  POINT (-100.45360 20.70634)   \n",
       "\n",
       "           osmid  \n",
       "0  2660412967523  \n",
       "1  2660406967421  \n",
       "\n",
       "[2 rows x 23 columns]"
      ]
     },
     "execution_count": 2,
     "metadata": {},
     "output_type": "execute_result"
    }
   ],
   "source": [
    "nodes = aup.gdf_from_db('nodes_2011','networks')\n",
    "print(nodes.shape)\n",
    "nodes.head(2)"
   ]
  },
  {
   "cell_type": "code",
   "execution_count": 3,
   "metadata": {},
   "outputs": [
    {
     "data": {
      "text/plain": [
       "<Geographic 2D CRS: EPSG:4326>\n",
       "Name: WGS 84\n",
       "Axis Info [ellipsoidal]:\n",
       "- Lat[north]: Geodetic latitude (degree)\n",
       "- Lon[east]: Geodetic longitude (degree)\n",
       "Area of Use:\n",
       "- name: World.\n",
       "- bounds: (-180.0, -90.0, 180.0, 90.0)\n",
       "Datum: World Geodetic System 1984 ensemble\n",
       "- Ellipsoid: WGS 84\n",
       "- Prime Meridian: Greenwich"
      ]
     },
     "execution_count": 3,
     "metadata": {},
     "output_type": "execute_result"
    }
   ],
   "source": [
    "nodes.crs"
   ]
  },
  {
   "cell_type": "code",
   "execution_count": 4,
   "metadata": {},
   "outputs": [],
   "source": [
    "nodes['x'] = nodes.geometry.x\n",
    "nodes['y'] = nodes.geometry.y"
   ]
  },
  {
   "cell_type": "code",
   "execution_count": 5,
   "metadata": {},
   "outputs": [
    {
     "data": {
      "text/html": [
       "<div>\n",
       "<style scoped>\n",
       "    .dataframe tbody tr th:only-of-type {\n",
       "        vertical-align: middle;\n",
       "    }\n",
       "\n",
       "    .dataframe tbody tr th {\n",
       "        vertical-align: top;\n",
       "    }\n",
       "\n",
       "    .dataframe thead th {\n",
       "        text-align: right;\n",
       "    }\n",
       "</style>\n",
       "<table border=\"1\" class=\"dataframe\">\n",
       "  <thead>\n",
       "    <tr style=\"text-align: right;\">\n",
       "      <th></th>\n",
       "      <th>ID</th>\n",
       "      <th>TIPOVIA</th>\n",
       "      <th>TIPO</th>\n",
       "      <th>NUMERO</th>\n",
       "      <th>DERE_TRAN</th>\n",
       "      <th>ADMINISTRA</th>\n",
       "      <th>NUME_CARR</th>\n",
       "      <th>CONDICION</th>\n",
       "      <th>ORIGEN</th>\n",
       "      <th>CALI_REPR</th>\n",
       "      <th>...</th>\n",
       "      <th>vertex_pos</th>\n",
       "      <th>vertex_ind</th>\n",
       "      <th>vertex_par</th>\n",
       "      <th>vertex_p_1</th>\n",
       "      <th>distance</th>\n",
       "      <th>angle</th>\n",
       "      <th>geometry</th>\n",
       "      <th>osmid</th>\n",
       "      <th>x</th>\n",
       "      <th>y</th>\n",
       "    </tr>\n",
       "  </thead>\n",
       "  <tbody>\n",
       "    <tr>\n",
       "      <th>0</th>\n",
       "      <td>3323880</td>\n",
       "      <td>PRIVADA</td>\n",
       "      <td>N/A</td>\n",
       "      <td>N/A</td>\n",
       "      <td>N/A</td>\n",
       "      <td>N/A</td>\n",
       "      <td>N/A</td>\n",
       "      <td>N/A</td>\n",
       "      <td>BCU</td>\n",
       "      <td>N/A</td>\n",
       "      <td>...</td>\n",
       "      <td>0</td>\n",
       "      <td>0</td>\n",
       "      <td>0</td>\n",
       "      <td>0</td>\n",
       "      <td>0.000000</td>\n",
       "      <td>197.863721</td>\n",
       "      <td>POINT (-100.45353 20.70727)</td>\n",
       "      <td>2660412967523</td>\n",
       "      <td>-100.453526</td>\n",
       "      <td>20.707269</td>\n",
       "    </tr>\n",
       "    <tr>\n",
       "      <th>1</th>\n",
       "      <td>3323880</td>\n",
       "      <td>PRIVADA</td>\n",
       "      <td>N/A</td>\n",
       "      <td>N/A</td>\n",
       "      <td>N/A</td>\n",
       "      <td>N/A</td>\n",
       "      <td>N/A</td>\n",
       "      <td>N/A</td>\n",
       "      <td>BCU</td>\n",
       "      <td>N/A</td>\n",
       "      <td>...</td>\n",
       "      <td>-1</td>\n",
       "      <td>8</td>\n",
       "      <td>0</td>\n",
       "      <td>8</td>\n",
       "      <td>119.842941</td>\n",
       "      <td>247.230113</td>\n",
       "      <td>POINT (-100.45360 20.70634)</td>\n",
       "      <td>2660406967421</td>\n",
       "      <td>-100.453597</td>\n",
       "      <td>20.706343</td>\n",
       "    </tr>\n",
       "  </tbody>\n",
       "</table>\n",
       "<p>2 rows × 25 columns</p>\n",
       "</div>"
      ],
      "text/plain": [
       "        ID  TIPOVIA TIPO NUMERO DERE_TRAN ADMINISTRA NUME_CARR CONDICION  \\\n",
       "0  3323880  PRIVADA  N/A    N/A       N/A        N/A       N/A       N/A   \n",
       "1  3323880  PRIVADA  N/A    N/A       N/A        N/A       N/A       N/A   \n",
       "\n",
       "  ORIGEN CALI_REPR  ... vertex_pos vertex_ind vertex_par  vertex_p_1  \\\n",
       "0    BCU       N/A  ...          0          0          0           0   \n",
       "1    BCU       N/A  ...         -1          8          0           8   \n",
       "\n",
       "     distance       angle                     geometry          osmid  \\\n",
       "0    0.000000  197.863721  POINT (-100.45353 20.70727)  2660412967523   \n",
       "1  119.842941  247.230113  POINT (-100.45360 20.70634)  2660406967421   \n",
       "\n",
       "            x          y  \n",
       "0 -100.453526  20.707269  \n",
       "1 -100.453597  20.706343  \n",
       "\n",
       "[2 rows x 25 columns]"
      ]
     },
     "execution_count": 5,
     "metadata": {},
     "output_type": "execute_result"
    }
   ],
   "source": [
    "nodes.head(2)"
   ]
  },
  {
   "cell_type": "code",
   "execution_count": 6,
   "metadata": {},
   "outputs": [],
   "source": [
    "aup.gdf_to_db_slow(nodes, \"nodes_2011\", schema='networks', if_exists=\"replace\")"
   ]
  },
  {
   "cell_type": "code",
   "execution_count": null,
   "metadata": {},
   "outputs": [],
   "source": []
  }
 ],
 "metadata": {
  "kernelspec": {
   "display_name": "Python 3",
   "language": "python",
   "name": "python3"
  },
  "language_info": {
   "codemirror_mode": {
    "name": "ipython",
    "version": 3
   },
   "file_extension": ".py",
   "mimetype": "text/x-python",
   "name": "python",
   "nbconvert_exporter": "python",
   "pygments_lexer": "ipython3",
   "version": "3.8.12"
  }
 },
 "nbformat": 4,
 "nbformat_minor": 4
}
