{
 "cells": [
  {
   "cell_type": "code",
   "execution_count": 10,
   "metadata": {},
   "outputs": [],
   "source": [
    "import pandas as pd\n",
    "import geopandas as gpd\n",
    "import matplotlib.pyplot as plt\n",
    "from sqlalchemy import create_engine\n",
    "import aup"
   ]
  },
  {
   "cell_type": "code",
   "execution_count": 11,
   "metadata": {},
   "outputs": [],
   "source": [
    "url = \"hippocampus.cswst4rid7eb.us-east-2.rds.amazonaws.com\"\n",
    "user = \"jane\"\n",
    "pw = \"jacobs1916\"\n",
    "db = \"postgres\""
   ]
  },
  {
   "cell_type": "code",
   "execution_count": 28,
   "metadata": {},
   "outputs": [],
   "source": [
    "category_code = '464111'\n",
    "category_name = 'Farmacias'\n",
    "year = 2020\n"
   ]
  },
  {
   "cell_type": "code",
   "execution_count": 36,
   "metadata": {},
   "outputs": [],
   "source": [
    "engine = create_engine(\"postgresql://{user}:{pw}@{url}/{db}\".format(user=str(user), pw=str(pw), url=str(url), db=str(db)))"
   ]
  },
  {
   "cell_type": "code",
   "execution_count": 37,
   "metadata": {},
   "outputs": [],
   "source": [
    "def gdf_hex(year, category_code, category_name):\n",
    "    query = f'SELECT\\\n",
    "            hex.hex_id_8 AS hex_id_8,\\\n",
    "            hex.geometry as geometry,\\\n",
    "            Count(denue.codigo_act) AS {category_name}\\\n",
    "            FROM \"hexgrid\".\"hexgrid_mx\" AS hex\\\n",
    "            JOIN denue.denue_{year} AS denue\\\n",
    "            ON ST_Intersects(hex.geometry, denue.geometry)\\\n",
    "            WHERE denue.codigo_act = {category_code}\\\n",
    "            GROUP BY hex.hex_id_8, hex.geometry;'\n",
    "    gdf = gpd.GeoDataFrame.from_postgis(query, engine, geom_col='geometry')\n",
    "    return gdf"
   ]
  },
  {
   "cell_type": "code",
   "execution_count": 38,
   "metadata": {},
   "outputs": [],
   "source": [
    "gdf10 = gdf_hex(2010,464111,'Farmacias')\n",
    "gdf20 = gdf_hex(2020,464111,'Farmacias')"
   ]
  },
  {
   "cell_type": "code",
   "execution_count": 44,
   "metadata": {},
   "outputs": [],
   "source": [
    "gdf = pd.merge(gdf10,gdf20,on=['hex_id_8','geometry'], suffixes=('_2010', '_2020'))\n",
    "gdf['cambio'] = gdf.farmacias_2020 - gdf.farmacias_2010"
   ]
  },
  {
   "cell_type": "code",
   "execution_count": 45,
   "metadata": {},
   "outputs": [
    {
     "data": {
      "text/html": [
       "<div>\n",
       "<style scoped>\n",
       "    .dataframe tbody tr th:only-of-type {\n",
       "        vertical-align: middle;\n",
       "    }\n",
       "\n",
       "    .dataframe tbody tr th {\n",
       "        vertical-align: top;\n",
       "    }\n",
       "\n",
       "    .dataframe thead th {\n",
       "        text-align: right;\n",
       "    }\n",
       "</style>\n",
       "<table border=\"1\" class=\"dataframe\">\n",
       "  <thead>\n",
       "    <tr style=\"text-align: right;\">\n",
       "      <th></th>\n",
       "      <th>hex_id_8</th>\n",
       "      <th>geometry</th>\n",
       "      <th>farmacias_2010</th>\n",
       "      <th>farmacias_2020</th>\n",
       "      <th>cambio</th>\n",
       "    </tr>\n",
       "  </thead>\n",
       "  <tbody>\n",
       "    <tr>\n",
       "      <th>0</th>\n",
       "      <td>8829a4c001fffff</td>\n",
       "      <td>POLYGON ((-116.90047 32.50220, -116.89472 32.5...</td>\n",
       "      <td>1</td>\n",
       "      <td>2</td>\n",
       "      <td>1</td>\n",
       "    </tr>\n",
       "    <tr>\n",
       "      <th>1</th>\n",
       "      <td>8829a4c003fffff</td>\n",
       "      <td>POLYGON ((-116.90857 32.51376, -116.90739 32.5...</td>\n",
       "      <td>4</td>\n",
       "      <td>1</td>\n",
       "      <td>-3</td>\n",
       "    </tr>\n",
       "    <tr>\n",
       "      <th>2</th>\n",
       "      <td>8829a4c005fffff</td>\n",
       "      <td>POLYGON ((-116.89134 32.50908, -116.89016 32.5...</td>\n",
       "      <td>3</td>\n",
       "      <td>1</td>\n",
       "      <td>-2</td>\n",
       "    </tr>\n",
       "    <tr>\n",
       "      <th>3</th>\n",
       "      <td>8829a4c007fffff</td>\n",
       "      <td>POLYGON ((-116.88795 32.51753, -116.89369 32.5...</td>\n",
       "      <td>4</td>\n",
       "      <td>3</td>\n",
       "      <td>-1</td>\n",
       "    </tr>\n",
       "    <tr>\n",
       "      <th>4</th>\n",
       "      <td>8829a4c00dfffff</td>\n",
       "      <td>POLYGON ((-116.88780 32.49408, -116.88324 32.4...</td>\n",
       "      <td>2</td>\n",
       "      <td>5</td>\n",
       "      <td>3</td>\n",
       "    </tr>\n",
       "  </tbody>\n",
       "</table>\n",
       "</div>"
      ],
      "text/plain": [
       "          hex_id_8                                           geometry  \\\n",
       "0  8829a4c001fffff  POLYGON ((-116.90047 32.50220, -116.89472 32.5...   \n",
       "1  8829a4c003fffff  POLYGON ((-116.90857 32.51376, -116.90739 32.5...   \n",
       "2  8829a4c005fffff  POLYGON ((-116.89134 32.50908, -116.89016 32.5...   \n",
       "3  8829a4c007fffff  POLYGON ((-116.88795 32.51753, -116.89369 32.5...   \n",
       "4  8829a4c00dfffff  POLYGON ((-116.88780 32.49408, -116.88324 32.4...   \n",
       "\n",
       "   farmacias_2010  farmacias_2020  cambio  \n",
       "0               1               2       1  \n",
       "1               4               1      -3  \n",
       "2               3               1      -2  \n",
       "3               4               3      -1  \n",
       "4               2               5       3  "
      ]
     },
     "execution_count": 45,
     "metadata": {},
     "output_type": "execute_result"
    }
   ],
   "source": [
    "gdf.head()"
   ]
  },
  {
   "cell_type": "code",
   "execution_count": 47,
   "metadata": {},
   "outputs": [
    {
     "data": {
      "text/html": [
       "<div>\n",
       "<style scoped>\n",
       "    .dataframe tbody tr th:only-of-type {\n",
       "        vertical-align: middle;\n",
       "    }\n",
       "\n",
       "    .dataframe tbody tr th {\n",
       "        vertical-align: top;\n",
       "    }\n",
       "\n",
       "    .dataframe thead th {\n",
       "        text-align: right;\n",
       "    }\n",
       "</style>\n",
       "<table border=\"1\" class=\"dataframe\">\n",
       "  <thead>\n",
       "    <tr style=\"text-align: right;\">\n",
       "      <th></th>\n",
       "      <th>hex_id_8</th>\n",
       "      <th>geometry</th>\n",
       "      <th>farmacias_2010</th>\n",
       "      <th>farmacias_2020</th>\n",
       "      <th>cambio</th>\n",
       "    </tr>\n",
       "  </thead>\n",
       "  <tbody>\n",
       "    <tr>\n",
       "      <th>8122</th>\n",
       "      <td>8849a96653fffff</td>\n",
       "      <td>POLYGON ((-105.23323 20.60116, -105.23385 20.6...</td>\n",
       "      <td>8</td>\n",
       "      <td>30</td>\n",
       "      <td>22</td>\n",
       "    </tr>\n",
       "    <tr>\n",
       "      <th>4647</th>\n",
       "      <td>884990c91bfffff</td>\n",
       "      <td>POLYGON ((-97.24500 19.76221, -97.24047 19.765...</td>\n",
       "      <td>18</td>\n",
       "      <td>38</td>\n",
       "      <td>20</td>\n",
       "    </tr>\n",
       "    <tr>\n",
       "      <th>3026</th>\n",
       "      <td>884982910dfffff</td>\n",
       "      <td>POLYGON ((-99.94864 19.71562, -99.95357 19.717...</td>\n",
       "      <td>1</td>\n",
       "      <td>21</td>\n",
       "      <td>20</td>\n",
       "    </tr>\n",
       "    <tr>\n",
       "      <th>4560</th>\n",
       "      <td>88499059b7fffff</td>\n",
       "      <td>POLYGON ((-97.05992 20.07002, -97.06446 20.067...</td>\n",
       "      <td>11</td>\n",
       "      <td>29</td>\n",
       "      <td>18</td>\n",
       "    </tr>\n",
       "    <tr>\n",
       "      <th>2874</th>\n",
       "      <td>8849819713fffff</td>\n",
       "      <td>POLYGON ((-102.28258 19.97783, -102.27805 19.9...</td>\n",
       "      <td>33</td>\n",
       "      <td>51</td>\n",
       "      <td>18</td>\n",
       "    </tr>\n",
       "    <tr>\n",
       "      <th>...</th>\n",
       "      <td>...</td>\n",
       "      <td>...</td>\n",
       "      <td>...</td>\n",
       "      <td>...</td>\n",
       "      <td>...</td>\n",
       "    </tr>\n",
       "    <tr>\n",
       "      <th>245</th>\n",
       "      <td>884509b15bfffff</td>\n",
       "      <td>POLYGON ((-89.61654 20.95896, -89.61207 20.961...</td>\n",
       "      <td>23</td>\n",
       "      <td>16</td>\n",
       "      <td>-7</td>\n",
       "    </tr>\n",
       "    <tr>\n",
       "      <th>7041</th>\n",
       "      <td>884995b1a5fffff</td>\n",
       "      <td>POLYGON ((-99.24218 19.46197, -99.24670 19.459...</td>\n",
       "      <td>17</td>\n",
       "      <td>10</td>\n",
       "      <td>-7</td>\n",
       "    </tr>\n",
       "    <tr>\n",
       "      <th>214</th>\n",
       "      <td>884509b067fffff</td>\n",
       "      <td>POLYGON ((-89.62094 20.96638, -89.62538 20.968...</td>\n",
       "      <td>29</td>\n",
       "      <td>19</td>\n",
       "      <td>-10</td>\n",
       "    </tr>\n",
       "    <tr>\n",
       "      <th>9973</th>\n",
       "      <td>886d34da43fffff</td>\n",
       "      <td>POLYGON ((-96.12994 19.18745, -96.13017 19.192...</td>\n",
       "      <td>32</td>\n",
       "      <td>16</td>\n",
       "      <td>-16</td>\n",
       "    </tr>\n",
       "    <tr>\n",
       "      <th>4218</th>\n",
       "      <td>88498c96adfffff</td>\n",
       "      <td>POLYGON ((-103.34833 20.67931, -103.34379 20.6...</td>\n",
       "      <td>117</td>\n",
       "      <td>60</td>\n",
       "      <td>-57</td>\n",
       "    </tr>\n",
       "  </tbody>\n",
       "</table>\n",
       "<p>10191 rows × 5 columns</p>\n",
       "</div>"
      ],
      "text/plain": [
       "             hex_id_8                                           geometry  \\\n",
       "8122  8849a96653fffff  POLYGON ((-105.23323 20.60116, -105.23385 20.6...   \n",
       "4647  884990c91bfffff  POLYGON ((-97.24500 19.76221, -97.24047 19.765...   \n",
       "3026  884982910dfffff  POLYGON ((-99.94864 19.71562, -99.95357 19.717...   \n",
       "4560  88499059b7fffff  POLYGON ((-97.05992 20.07002, -97.06446 20.067...   \n",
       "2874  8849819713fffff  POLYGON ((-102.28258 19.97783, -102.27805 19.9...   \n",
       "...               ...                                                ...   \n",
       "245   884509b15bfffff  POLYGON ((-89.61654 20.95896, -89.61207 20.961...   \n",
       "7041  884995b1a5fffff  POLYGON ((-99.24218 19.46197, -99.24670 19.459...   \n",
       "214   884509b067fffff  POLYGON ((-89.62094 20.96638, -89.62538 20.968...   \n",
       "9973  886d34da43fffff  POLYGON ((-96.12994 19.18745, -96.13017 19.192...   \n",
       "4218  88498c96adfffff  POLYGON ((-103.34833 20.67931, -103.34379 20.6...   \n",
       "\n",
       "      farmacias_2010  farmacias_2020  cambio  \n",
       "8122               8              30      22  \n",
       "4647              18              38      20  \n",
       "3026               1              21      20  \n",
       "4560              11              29      18  \n",
       "2874              33              51      18  \n",
       "...              ...             ...     ...  \n",
       "245               23              16      -7  \n",
       "7041              17              10      -7  \n",
       "214               29              19     -10  \n",
       "9973              32              16     -16  \n",
       "4218             117              60     -57  \n",
       "\n",
       "[10191 rows x 5 columns]"
      ]
     },
     "execution_count": 47,
     "metadata": {},
     "output_type": "execute_result"
    }
   ],
   "source": [
    "gdf.sort_values('cambio', ascending=False)"
   ]
  },
  {
   "cell_type": "code",
   "execution_count": 58,
   "metadata": {},
   "outputs": [
    {
     "name": "stdout",
     "output_type": "stream",
     "text": [
      "0.781335952848723\n"
     ]
    },
    {
     "data": {
      "text/plain": [
       "<matplotlib.axes._subplots.AxesSubplot at 0x7fdd1a3e6a00>"
      ]
     },
     "execution_count": 58,
     "metadata": {},
     "output_type": "execute_result"
    },
    {
     "data": {
      "image/png": "[encoded data removed]",
      "text/plain": [
       "<Figure size 432x288 with 1 Axes>"
      ]
     },
     "metadata": {
      "needs_background": "light"
     },
     "output_type": "display_data"
    }
   ],
   "source": [
    "print(gdf[(gdf['cambio']>-10) & (gdf['cambio']<15)].cambio.mean())\n",
    "gdf[(gdf['cambio']>-10) & (gdf['cambio']<15)].cambio.hist(bins=20)"
   ]
  },
  {
   "cell_type": "code",
   "execution_count": null,
   "metadata": {},
   "outputs": [],
   "source": [
    "fig, ax = plt.subplots(1,1,figsize=(30,15))\n",
    "gdf_hex.plot(color='grey',zorder=-1)\n",
    "gdf.plot(column='farmacias',ax=ax,zorder=1)"
   ]
  },
  {
   "cell_type": "code",
   "execution_count": 32,
   "metadata": {},
   "outputs": [
    {
     "data": {
      "text/plain": [
       "<matplotlib.axes._subplots.AxesSubplot at 0x7fdd3751df70>"
      ]
     },
     "execution_count": 32,
     "metadata": {},
     "output_type": "execute_result"
    },
    {
     "data": {
      "image/png": "[encoded data removed]",
      "text/plain": [
       "<Figure size 432x288 with 1 Axes>"
      ]
     },
     "metadata": {
      "needs_background": "light"
     },
     "output_type": "display_data"
    }
   ],
   "source": [
    "gdf.farmacias.hist(bins=20)"
   ]
  },
  {
   "cell_type": "code",
   "execution_count": 33,
   "metadata": {},
   "outputs": [
    {
     "data": {
      "text/html": [
       "<div>\n",
       "<style scoped>\n",
       "    .dataframe tbody tr th:only-of-type {\n",
       "        vertical-align: middle;\n",
       "    }\n",
       "\n",
       "    .dataframe tbody tr th {\n",
       "        vertical-align: top;\n",
       "    }\n",
       "\n",
       "    .dataframe thead th {\n",
       "        text-align: right;\n",
       "    }\n",
       "</style>\n",
       "<table border=\"1\" class=\"dataframe\">\n",
       "  <thead>\n",
       "    <tr style=\"text-align: right;\">\n",
       "      <th></th>\n",
       "      <th>hex_id_8</th>\n",
       "      <th>geometry</th>\n",
       "      <th>farmacias</th>\n",
       "    </tr>\n",
       "  </thead>\n",
       "  <tbody>\n",
       "    <tr>\n",
       "      <th>137</th>\n",
       "      <td>8829a4c757fffff</td>\n",
       "      <td>POLYGON ((-117.03592 32.52952, -117.03136 32.5...</td>\n",
       "      <td>90</td>\n",
       "    </tr>\n",
       "    <tr>\n",
       "      <th>6300</th>\n",
       "      <td>88498c96adfffff</td>\n",
       "      <td>POLYGON ((-103.34833 20.67931, -103.34379 20.6...</td>\n",
       "      <td>60</td>\n",
       "    </tr>\n",
       "    <tr>\n",
       "      <th>3374</th>\n",
       "      <td>8848b398c5fffff</td>\n",
       "      <td>POLYGON ((-97.94626 26.05510, -97.94658 26.060...</td>\n",
       "      <td>55</td>\n",
       "    </tr>\n",
       "    <tr>\n",
       "      <th>4361</th>\n",
       "      <td>8849819713fffff</td>\n",
       "      <td>POLYGON ((-102.28258 19.97783, -102.27805 19.9...</td>\n",
       "      <td>51</td>\n",
       "    </tr>\n",
       "    <tr>\n",
       "      <th>6915</th>\n",
       "      <td>884990c91bfffff</td>\n",
       "      <td>POLYGON ((-97.24500 19.76221, -97.24047 19.765...</td>\n",
       "      <td>38</td>\n",
       "    </tr>\n",
       "    <tr>\n",
       "      <th>...</th>\n",
       "      <td>...</td>\n",
       "      <td>...</td>\n",
       "      <td>...</td>\n",
       "    </tr>\n",
       "    <tr>\n",
       "      <th>3718</th>\n",
       "      <td>8848ec4581fffff</td>\n",
       "      <td>POLYGON ((-110.97515 31.30292, -110.97422 31.2...</td>\n",
       "      <td>1</td>\n",
       "    </tr>\n",
       "    <tr>\n",
       "      <th>10070</th>\n",
       "      <td>884995b28bfffff</td>\n",
       "      <td>POLYGON ((-99.37894 19.38939, -99.38346 19.386...</td>\n",
       "      <td>1</td>\n",
       "    </tr>\n",
       "    <tr>\n",
       "      <th>10069</th>\n",
       "      <td>884995b289fffff</td>\n",
       "      <td>POLYGON ((-99.37294 19.37174, -99.36842 19.374...</td>\n",
       "      <td>1</td>\n",
       "    </tr>\n",
       "    <tr>\n",
       "      <th>3720</th>\n",
       "      <td>8848ec458dfffff</td>\n",
       "      <td>POLYGON ((-110.96192 31.28897, -110.95716 31.2...</td>\n",
       "      <td>1</td>\n",
       "    </tr>\n",
       "    <tr>\n",
       "      <th>7202</th>\n",
       "      <td>88499404dbfffff</td>\n",
       "      <td>POLYGON ((-98.05607 19.03790, -98.05638 19.043...</td>\n",
       "      <td>1</td>\n",
       "    </tr>\n",
       "  </tbody>\n",
       "</table>\n",
       "<p>14404 rows × 3 columns</p>\n",
       "</div>"
      ],
      "text/plain": [
       "              hex_id_8                                           geometry  \\\n",
       "137    8829a4c757fffff  POLYGON ((-117.03592 32.52952, -117.03136 32.5...   \n",
       "6300   88498c96adfffff  POLYGON ((-103.34833 20.67931, -103.34379 20.6...   \n",
       "3374   8848b398c5fffff  POLYGON ((-97.94626 26.05510, -97.94658 26.060...   \n",
       "4361   8849819713fffff  POLYGON ((-102.28258 19.97783, -102.27805 19.9...   \n",
       "6915   884990c91bfffff  POLYGON ((-97.24500 19.76221, -97.24047 19.765...   \n",
       "...                ...                                                ...   \n",
       "3718   8848ec4581fffff  POLYGON ((-110.97515 31.30292, -110.97422 31.2...   \n",
       "10070  884995b28bfffff  POLYGON ((-99.37894 19.38939, -99.38346 19.386...   \n",
       "10069  884995b289fffff  POLYGON ((-99.37294 19.37174, -99.36842 19.374...   \n",
       "3720   8848ec458dfffff  POLYGON ((-110.96192 31.28897, -110.95716 31.2...   \n",
       "7202   88499404dbfffff  POLYGON ((-98.05607 19.03790, -98.05638 19.043...   \n",
       "\n",
       "       farmacias  \n",
       "137           90  \n",
       "6300          60  \n",
       "3374          55  \n",
       "4361          51  \n",
       "6915          38  \n",
       "...          ...  \n",
       "3718           1  \n",
       "10070          1  \n",
       "10069          1  \n",
       "3720           1  \n",
       "7202           1  \n",
       "\n",
       "[14404 rows x 3 columns]"
      ]
     },
     "execution_count": 33,
     "metadata": {},
     "output_type": "execute_result"
    }
   ],
   "source": [
    "gdf.sort_values('farmacias',ascending=False)"
   ]
  },
  {
   "cell_type": "code",
   "execution_count": null,
   "metadata": {},
   "outputs": [],
   "source": []
  }
 ],
 "metadata": {
  "kernelspec": {
   "display_name": "Python 3",
   "language": "python",
   "name": "python3"
  },
  "language_info": {
   "codemirror_mode": {
    "name": "ipython",
    "version": 3
   },
   "file_extension": ".py",
   "mimetype": "text/x-python",
   "name": "python",
   "nbconvert_exporter": "python",
   "pygments_lexer": "ipython3",
   "version": "3.8.6"
  }
 },
 "nbformat": 4,
 "nbformat_minor": 4
}
