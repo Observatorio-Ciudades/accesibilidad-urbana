{
 "cells": [
  {
   "cell_type": "markdown",
   "metadata": {},
   "source": [
    "## Covid city preparedness index"
   ]
  },
  {
   "cell_type": "markdown",
   "metadata": {},
   "source": [
    "This notebook shows how the Covid city preparedness index is calculated based on data from hex bins in several mexican metropolitan areas."
   ]
  },
  {
   "cell_type": "markdown",
   "metadata": {},
   "source": [
    "### Import modules"
   ]
  },
  {
   "cell_type": "code",
   "execution_count": 1,
   "metadata": {},
   "outputs": [],
   "source": [
    "import os\n",
    "import sys\n",
    "import pandas as pd\n",
    "import geopandas as gpd\n",
    "import numpy as np\n",
    "import math\n",
    "import matplotlib.pyplot as plt\n",
    "module_path = os.path.abspath(os.path.join('..'))\n",
    "if module_path not in sys.path:\n",
    "    sys.path.append(module_path)\n",
    "%matplotlib inline"
   ]
  },
  {
   "cell_type": "markdown",
   "metadata": {},
   "source": [
    "#### Tests the access to a single city gdf and caculates the index"
   ]
  },
  {
   "cell_type": "code",
   "execution_count": 2,
   "metadata": {},
   "outputs": [],
   "source": [
    "gdf = gpd.read_file('../data/processed/Aguascalientes_hex_bins.geojson')\n",
    "gdf = gdf.loc[(gdf['dist_supermercados'] > 0)]\n",
    "gdf_filter = gdf[['pobtot','dist_supermercados','dist_farmacias','dist_hospitales','geometry']].copy()"
   ]
  },
  {
   "cell_type": "code",
   "execution_count": 3,
   "metadata": {},
   "outputs": [],
   "source": [
    "gdf_filter['ind_supermercado0'] = gdf_filter.apply (lambda row: 1 / (1 + math.exp( 0.00627778 * (row.loc['dist_supermercados'] - 650 ))), axis=1)\n",
    "gdf_filter['ind_farmacias0'] = gdf_filter.apply (lambda row: 1 / (1 + math.exp( 0.00627778 * (row.loc['dist_farmacias'] - 650 ))), axis=1)\n",
    "gdf_filter['ind_hospitales'] = gdf_filter.apply (lambda row: 1 / (1 + math.exp( 0.00109861 * (row.loc['dist_hospitales'] - 3000 ))), axis=1)\n",
    "gdf_filter['ind_accesibilidad0'] = gdf_filter.apply (lambda row: (0.333*row.loc['ind_supermercado0']) + (0.334*row.loc['ind_farmacias0']) + (0.333*row.loc['ind_hospitales']), axis=1)"
   ]
  },
  {
   "cell_type": "markdown",
   "metadata": {},
   "source": [
    "#### Analyze the index results"
   ]
  },
  {
   "cell_type": "code",
   "execution_count": 8,
   "metadata": {},
   "outputs": [
    {
     "data": {
      "text/html": [
       "<div>\n",
       "<style scoped>\n",
       "    .dataframe tbody tr th:only-of-type {\n",
       "        vertical-align: middle;\n",
       "    }\n",
       "\n",
       "    .dataframe tbody tr th {\n",
       "        vertical-align: top;\n",
       "    }\n",
       "\n",
       "    .dataframe thead th {\n",
       "        text-align: right;\n",
       "    }\n",
       "</style>\n",
       "<table border=\"1\" class=\"dataframe\">\n",
       "  <thead>\n",
       "    <tr style=\"text-align: right;\">\n",
       "      <th></th>\n",
       "      <th>pobtot</th>\n",
       "      <th>dist_supermercados</th>\n",
       "      <th>dist_farmacias</th>\n",
       "      <th>dist_hospitales</th>\n",
       "      <th>geometry</th>\n",
       "      <th>ind_hospitales</th>\n",
       "      <th>ind_supermercado</th>\n",
       "      <th>ind_farmacias</th>\n",
       "      <th>ind_accesibilidad</th>\n",
       "    </tr>\n",
       "  </thead>\n",
       "  <tbody>\n",
       "    <tr>\n",
       "      <th>0</th>\n",
       "      <td>398.986753</td>\n",
       "      <td>509.233837</td>\n",
       "      <td>209.944628</td>\n",
       "      <td>473.581326</td>\n",
       "      <td>POLYGON ((-100.40181 20.57831, -100.40264 20.5...</td>\n",
       "      <td>0.941340</td>\n",
       "      <td>7.075882e-01</td>\n",
       "      <td>9.406194e-01</td>\n",
       "      <td>0.863260</td>\n",
       "    </tr>\n",
       "    <tr>\n",
       "      <th>1</th>\n",
       "      <td>292.959184</td>\n",
       "      <td>572.672222</td>\n",
       "      <td>474.344222</td>\n",
       "      <td>3825.985111</td>\n",
       "      <td>POLYGON ((-100.46397 20.53316, -100.46522 20.5...</td>\n",
       "      <td>0.287525</td>\n",
       "      <td>6.190332e-01</td>\n",
       "      <td>7.507710e-01</td>\n",
       "      <td>0.552641</td>\n",
       "    </tr>\n",
       "    <tr>\n",
       "      <th>2</th>\n",
       "      <td>0.000000</td>\n",
       "      <td>3509.067333</td>\n",
       "      <td>4590.333333</td>\n",
       "      <td>9607.037333</td>\n",
       "      <td>POLYGON ((-100.30321 20.49311, -100.30238 20.4...</td>\n",
       "      <td>0.000704</td>\n",
       "      <td>1.603334e-08</td>\n",
       "      <td>1.807402e-11</td>\n",
       "      <td>0.000234</td>\n",
       "    </tr>\n",
       "    <tr>\n",
       "      <th>6</th>\n",
       "      <td>0.000000</td>\n",
       "      <td>5431.323250</td>\n",
       "      <td>2079.017500</td>\n",
       "      <td>5589.903250</td>\n",
       "      <td>POLYGON ((-100.40185 20.73240, -100.39978 20.7...</td>\n",
       "      <td>0.054925</td>\n",
       "      <td>9.208213e-14</td>\n",
       "      <td>1.270176e-04</td>\n",
       "      <td>0.018332</td>\n",
       "    </tr>\n",
       "    <tr>\n",
       "      <th>7</th>\n",
       "      <td>444.780220</td>\n",
       "      <td>239.293588</td>\n",
       "      <td>482.307412</td>\n",
       "      <td>1951.419235</td>\n",
       "      <td>POLYGON ((-100.38938 20.62842, -100.39063 20.6...</td>\n",
       "      <td>0.759873</td>\n",
       "      <td>9.294535e-01</td>\n",
       "      <td>7.413002e-01</td>\n",
       "      <td>0.810140</td>\n",
       "    </tr>\n",
       "  </tbody>\n",
       "</table>\n",
       "</div>"
      ],
      "text/plain": [
       "       pobtot  dist_supermercados  dist_farmacias  dist_hospitales  \\\n",
       "0  398.986753          509.233837      209.944628       473.581326   \n",
       "1  292.959184          572.672222      474.344222      3825.985111   \n",
       "2    0.000000         3509.067333     4590.333333      9607.037333   \n",
       "6    0.000000         5431.323250     2079.017500      5589.903250   \n",
       "7  444.780220          239.293588      482.307412      1951.419235   \n",
       "\n",
       "                                            geometry  ind_hospitales  \\\n",
       "0  POLYGON ((-100.40181 20.57831, -100.40264 20.5...        0.941340   \n",
       "1  POLYGON ((-100.46397 20.53316, -100.46522 20.5...        0.287525   \n",
       "2  POLYGON ((-100.30321 20.49311, -100.30238 20.4...        0.000704   \n",
       "6  POLYGON ((-100.40185 20.73240, -100.39978 20.7...        0.054925   \n",
       "7  POLYGON ((-100.38938 20.62842, -100.39063 20.6...        0.759873   \n",
       "\n",
       "   ind_supermercado  ind_farmacias  ind_accesibilidad  \n",
       "0      7.075882e-01   9.406194e-01           0.863260  \n",
       "1      6.190332e-01   7.507710e-01           0.552641  \n",
       "2      1.603334e-08   1.807402e-11           0.000234  \n",
       "6      9.208213e-14   1.270176e-04           0.018332  \n",
       "7      9.294535e-01   7.413002e-01           0.810140  "
      ]
     },
     "execution_count": 8,
     "metadata": {},
     "output_type": "execute_result"
    }
   ],
   "source": [
    "gdf_filter.head(5)"
   ]
  },
  {
   "cell_type": "code",
   "execution_count": 5,
   "metadata": {},
   "outputs": [
    {
     "data": {
      "text/html": [
       "<div>\n",
       "<style scoped>\n",
       "    .dataframe tbody tr th:only-of-type {\n",
       "        vertical-align: middle;\n",
       "    }\n",
       "\n",
       "    .dataframe tbody tr th {\n",
       "        vertical-align: top;\n",
       "    }\n",
       "\n",
       "    .dataframe thead th {\n",
       "        text-align: right;\n",
       "    }\n",
       "</style>\n",
       "<table border=\"1\" class=\"dataframe\">\n",
       "  <thead>\n",
       "    <tr style=\"text-align: right;\">\n",
       "      <th></th>\n",
       "      <th>pobtot</th>\n",
       "      <th>dist_supermercados</th>\n",
       "      <th>dist_farmacias</th>\n",
       "      <th>dist_hospitales</th>\n",
       "      <th>geometry</th>\n",
       "      <th>ind_supermercado0</th>\n",
       "      <th>ind_farmacias0</th>\n",
       "      <th>ind_hospitales</th>\n",
       "      <th>ind_accesibilidad0</th>\n",
       "    </tr>\n",
       "  </thead>\n",
       "  <tbody>\n",
       "    <tr>\n",
       "      <th>5916</th>\n",
       "      <td>525.926136</td>\n",
       "      <td>47.92925</td>\n",
       "      <td>138.765</td>\n",
       "      <td>1127.501292</td>\n",
       "      <td>POLYGON ((-102.29481 21.88076, -102.29568 21.8...</td>\n",
       "      <td>0.977679</td>\n",
       "      <td>0.961187</td>\n",
       "      <td>0.886668</td>\n",
       "      <td>0.941864</td>\n",
       "    </tr>\n",
       "  </tbody>\n",
       "</table>\n",
       "</div>"
      ],
      "text/plain": [
       "          pobtot  dist_supermercados  dist_farmacias  dist_hospitales  \\\n",
       "5916  525.926136            47.92925         138.765      1127.501292   \n",
       "\n",
       "                                               geometry  ind_supermercado0  \\\n",
       "5916  POLYGON ((-102.29481 21.88076, -102.29568 21.8...           0.977679   \n",
       "\n",
       "      ind_farmacias0  ind_hospitales  ind_accesibilidad0  \n",
       "5916        0.961187        0.886668            0.941864  "
      ]
     },
     "execution_count": 5,
     "metadata": {},
     "output_type": "execute_result"
    }
   ],
   "source": [
    "gdf_filter.sort_values(by='dist_supermercados').head(1)"
   ]
  },
  {
   "cell_type": "code",
   "execution_count": 6,
   "metadata": {},
   "outputs": [
    {
     "data": {
      "text/html": [
       "<div>\n",
       "<style scoped>\n",
       "    .dataframe tbody tr th:only-of-type {\n",
       "        vertical-align: middle;\n",
       "    }\n",
       "\n",
       "    .dataframe tbody tr th {\n",
       "        vertical-align: top;\n",
       "    }\n",
       "\n",
       "    .dataframe thead th {\n",
       "        text-align: right;\n",
       "    }\n",
       "</style>\n",
       "<table border=\"1\" class=\"dataframe\">\n",
       "  <thead>\n",
       "    <tr style=\"text-align: right;\">\n",
       "      <th></th>\n",
       "      <th>pobtot</th>\n",
       "      <th>dist_supermercados</th>\n",
       "      <th>dist_farmacias</th>\n",
       "      <th>dist_hospitales</th>\n",
       "      <th>geometry</th>\n",
       "      <th>ind_supermercado0</th>\n",
       "      <th>ind_farmacias0</th>\n",
       "      <th>ind_hospitales</th>\n",
       "      <th>ind_accesibilidad0</th>\n",
       "    </tr>\n",
       "  </thead>\n",
       "  <tbody>\n",
       "    <tr>\n",
       "      <th>5272</th>\n",
       "      <td>0.0</td>\n",
       "      <td>2347.546</td>\n",
       "      <td>0.0</td>\n",
       "      <td>5105.5</td>\n",
       "      <td>POLYGON ((-102.21360 21.86310, -102.21447 21.8...</td>\n",
       "      <td>0.000024</td>\n",
       "      <td>0.983383</td>\n",
       "      <td>0.090042</td>\n",
       "      <td>0.358442</td>\n",
       "    </tr>\n",
       "  </tbody>\n",
       "</table>\n",
       "</div>"
      ],
      "text/plain": [
       "      pobtot  dist_supermercados  dist_farmacias  dist_hospitales  \\\n",
       "5272     0.0            2347.546             0.0           5105.5   \n",
       "\n",
       "                                               geometry  ind_supermercado0  \\\n",
       "5272  POLYGON ((-102.21360 21.86310, -102.21447 21.8...           0.000024   \n",
       "\n",
       "      ind_farmacias0  ind_hospitales  ind_accesibilidad0  \n",
       "5272        0.983383        0.090042            0.358442  "
      ]
     },
     "execution_count": 6,
     "metadata": {},
     "output_type": "execute_result"
    }
   ],
   "source": [
    "gdf_filter.sort_values(by='dist_farmacias').head(1)"
   ]
  },
  {
   "cell_type": "code",
   "execution_count": 7,
   "metadata": {},
   "outputs": [
    {
     "data": {
      "text/html": [
       "<div>\n",
       "<style scoped>\n",
       "    .dataframe tbody tr th:only-of-type {\n",
       "        vertical-align: middle;\n",
       "    }\n",
       "\n",
       "    .dataframe tbody tr th {\n",
       "        vertical-align: top;\n",
       "    }\n",
       "\n",
       "    .dataframe thead th {\n",
       "        text-align: right;\n",
       "    }\n",
       "</style>\n",
       "<table border=\"1\" class=\"dataframe\">\n",
       "  <thead>\n",
       "    <tr style=\"text-align: right;\">\n",
       "      <th></th>\n",
       "      <th>pobtot</th>\n",
       "      <th>dist_supermercados</th>\n",
       "      <th>dist_farmacias</th>\n",
       "      <th>dist_hospitales</th>\n",
       "      <th>geometry</th>\n",
       "      <th>ind_supermercado0</th>\n",
       "      <th>ind_farmacias0</th>\n",
       "      <th>ind_hospitales</th>\n",
       "      <th>ind_accesibilidad0</th>\n",
       "    </tr>\n",
       "  </thead>\n",
       "  <tbody>\n",
       "    <tr>\n",
       "      <th>980</th>\n",
       "      <td>11.566038</td>\n",
       "      <td>378.12925</td>\n",
       "      <td>953.6455</td>\n",
       "      <td>133.60725</td>\n",
       "      <td>POLYGON ((-102.28696 21.83533, -102.28820 21.8...</td>\n",
       "      <td>0.846414</td>\n",
       "      <td>0.129406</td>\n",
       "      <td>0.958871</td>\n",
       "      <td>0.644381</td>\n",
       "    </tr>\n",
       "  </tbody>\n",
       "</table>\n",
       "</div>"
      ],
      "text/plain": [
       "        pobtot  dist_supermercados  dist_farmacias  dist_hospitales  \\\n",
       "980  11.566038           378.12925        953.6455        133.60725   \n",
       "\n",
       "                                              geometry  ind_supermercado0  \\\n",
       "980  POLYGON ((-102.28696 21.83533, -102.28820 21.8...           0.846414   \n",
       "\n",
       "     ind_farmacias0  ind_hospitales  ind_accesibilidad0  \n",
       "980        0.129406        0.958871            0.644381  "
      ]
     },
     "execution_count": 7,
     "metadata": {},
     "output_type": "execute_result"
    }
   ],
   "source": [
    "gdf_filter.sort_values(by='dist_hospitales').head(1)"
   ]
  },
  {
   "cell_type": "markdown",
   "metadata": {},
   "source": [
    "#### Evaluate the inclusion of other ways to calculate the index, normal mean, mean for hex bins with population > 0, and weighted mean"
   ]
  },
  {
   "cell_type": "code",
   "execution_count": 8,
   "metadata": {},
   "outputs": [],
   "source": [
    "media_a = gdf_filter.ind_accesibilidad0.mean()\n",
    "media_a_pob = gdf_filter[gdf_filter['pobtot']>0].ind_accesibilidad0.mean()\n",
    "\n",
    "pobtot = gdf_filter.pobtot.sum()\n",
    "\n",
    "gdf_filter['w0'] = gdf_filter.ind_accesibilidad0 * gdf_filter.pobtot\n",
    "\n",
    "gdf_filter['ind_acc_media_pond0'] = gdf_filter.w0 / pobtot\n",
    "\n",
    "media_pond = gdf_filter.ind_acc_media_pond0.sum()"
   ]
  },
  {
   "cell_type": "code",
   "execution_count": 9,
   "metadata": {},
   "outputs": [
    {
     "data": {
      "text/html": [
       "<div>\n",
       "<style scoped>\n",
       "    .dataframe tbody tr th:only-of-type {\n",
       "        vertical-align: middle;\n",
       "    }\n",
       "\n",
       "    .dataframe tbody tr th {\n",
       "        vertical-align: top;\n",
       "    }\n",
       "\n",
       "    .dataframe thead th {\n",
       "        text-align: right;\n",
       "    }\n",
       "</style>\n",
       "<table border=\"1\" class=\"dataframe\">\n",
       "  <thead>\n",
       "    <tr style=\"text-align: right;\">\n",
       "      <th></th>\n",
       "      <th>city</th>\n",
       "      <th>ind_acc0</th>\n",
       "      <th>ind_acc_pond0</th>\n",
       "      <th>ind_acc1</th>\n",
       "      <th>ind_acc_pond1</th>\n",
       "      <th>ind_acc2</th>\n",
       "      <th>ind_acc_pond2</th>\n",
       "    </tr>\n",
       "  </thead>\n",
       "  <tbody>\n",
       "  </tbody>\n",
       "</table>\n",
       "</div>"
      ],
      "text/plain": [
       "Empty DataFrame\n",
       "Columns: [city, ind_acc0, ind_acc_pond0, ind_acc1, ind_acc_pond1, ind_acc2, ind_acc_pond2]\n",
       "Index: []"
      ]
     },
     "execution_count": 9,
     "metadata": {},
     "output_type": "execute_result"
    }
   ],
   "source": [
    "gdf_city = pd.DataFrame(columns=['city','ind_acc0','ind_acc_pond0','ind_acc1','ind_acc_pond1','ind_acc2','ind_acc_pond2'])\n",
    "gdf_city"
   ]
  },
  {
   "cell_type": "markdown",
   "metadata": {},
   "source": [
    "#### Tests the access to city names based on iteration over files in folder"
   ]
  },
  {
   "cell_type": "code",
   "execution_count": 10,
   "metadata": {},
   "outputs": [
    {
     "name": "stdout",
     "output_type": "stream",
     "text": [
      "Laguna\n",
      "Cuernavaca\n",
      "Toluca\n",
      "Aguascalientes\n",
      "Mexicali\n",
      "Merida\n",
      "Saltillo\n",
      "Monterrey\n",
      "SLP\n",
      "Mexico\n",
      "Puebla\n",
      "Guadalajara\n",
      "Querétaro\n"
     ]
    }
   ],
   "source": [
    "dir_gdf = '../data/processed/'\n",
    "\n",
    "for f in os.listdir(dir_gdf):\n",
    "    \n",
    "    if '_hex_bins' in f:\n",
    "        \n",
    "        print (f[0:f.find('_')])\n",
    "        #print (f.find('-'))"
   ]
  },
  {
   "cell_type": "markdown",
   "metadata": {},
   "source": [
    "### [OUTDATED] Calculate index based on different penalties for distance to services"
   ]
  },
  {
   "cell_type": "code",
   "execution_count": 5,
   "metadata": {
    "collapsed": true,
    "jupyter": {
     "outputs_hidden": true,
     "source_hidden": true
    }
   },
   "outputs": [
    {
     "name": "stdout",
     "output_type": "stream",
     "text": [
      "Laguna\n"
     ]
    },
    {
     "ename": "KeyboardInterrupt",
     "evalue": "",
     "output_type": "error",
     "traceback": [
      "\u001b[0;31m---------------------------------------------------------------------------\u001b[0m",
      "\u001b[0;31mKeyboardInterrupt\u001b[0m                         Traceback (most recent call last)",
      "\u001b[0;32m<ipython-input-5-5027a2bf093f>\u001b[0m in \u001b[0;36m<module>\u001b[0;34m\u001b[0m\n\u001b[1;32m     19\u001b[0m \u001b[0;34m\u001b[0m\u001b[0m\n\u001b[1;32m     20\u001b[0m         \u001b[0;31m#access and filter data\u001b[0m\u001b[0;34m\u001b[0m\u001b[0;34m\u001b[0m\u001b[0;34m\u001b[0m\u001b[0m\n\u001b[0;32m---> 21\u001b[0;31m         \u001b[0mgdf\u001b[0m \u001b[0;34m=\u001b[0m \u001b[0mgpd\u001b[0m\u001b[0;34m.\u001b[0m\u001b[0mread_file\u001b[0m\u001b[0;34m(\u001b[0m\u001b[0mdir_gdf\u001b[0m\u001b[0;34m+\u001b[0m\u001b[0mf\u001b[0m\u001b[0;34m)\u001b[0m\u001b[0;34m\u001b[0m\u001b[0;34m\u001b[0m\u001b[0m\n\u001b[0m\u001b[1;32m     22\u001b[0m         \u001b[0mgdf\u001b[0m \u001b[0;34m=\u001b[0m \u001b[0mgdf\u001b[0m\u001b[0;34m.\u001b[0m\u001b[0mloc\u001b[0m\u001b[0;34m[\u001b[0m\u001b[0;34m(\u001b[0m\u001b[0mgdf\u001b[0m\u001b[0;34m[\u001b[0m\u001b[0;34m'dist_supermercados'\u001b[0m\u001b[0;34m]\u001b[0m \u001b[0;34m>\u001b[0m \u001b[0;36m0\u001b[0m\u001b[0;34m)\u001b[0m\u001b[0;34m]\u001b[0m\u001b[0;34m\u001b[0m\u001b[0;34m\u001b[0m\u001b[0m\n\u001b[1;32m     23\u001b[0m         \u001b[0mgdf_filter\u001b[0m \u001b[0;34m=\u001b[0m \u001b[0mgdf\u001b[0m\u001b[0;34m[\u001b[0m\u001b[0;34m[\u001b[0m\u001b[0;34m'pobtot'\u001b[0m\u001b[0;34m,\u001b[0m\u001b[0;34m'dist_supermercados'\u001b[0m\u001b[0;34m,\u001b[0m\u001b[0;34m'dist_farmacias'\u001b[0m\u001b[0;34m,\u001b[0m\u001b[0;34m'dist_hospitales'\u001b[0m\u001b[0;34m,\u001b[0m\u001b[0;34m'geometry'\u001b[0m\u001b[0;34m]\u001b[0m\u001b[0;34m]\u001b[0m\u001b[0;34m.\u001b[0m\u001b[0mcopy\u001b[0m\u001b[0;34m(\u001b[0m\u001b[0;34m)\u001b[0m\u001b[0;34m\u001b[0m\u001b[0;34m\u001b[0m\u001b[0m\n",
      "\u001b[0;32m~/anaconda3/envs/geo_env/lib/python3.8/site-packages/geopandas/io/file.py\u001b[0m in \u001b[0;36m_read_file\u001b[0;34m(filename, bbox, mask, rows, **kwargs)\u001b[0m\n\u001b[1;32m     94\u001b[0m \u001b[0;34m\u001b[0m\u001b[0m\n\u001b[1;32m     95\u001b[0m     \u001b[0;32mwith\u001b[0m \u001b[0mfiona_env\u001b[0m\u001b[0;34m(\u001b[0m\u001b[0;34m)\u001b[0m\u001b[0;34m:\u001b[0m\u001b[0;34m\u001b[0m\u001b[0;34m\u001b[0m\u001b[0m\n\u001b[0;32m---> 96\u001b[0;31m         \u001b[0;32mwith\u001b[0m \u001b[0mreader\u001b[0m\u001b[0;34m(\u001b[0m\u001b[0mpath_or_bytes\u001b[0m\u001b[0;34m,\u001b[0m \u001b[0;34m**\u001b[0m\u001b[0mkwargs\u001b[0m\u001b[0;34m)\u001b[0m \u001b[0;32mas\u001b[0m \u001b[0mfeatures\u001b[0m\u001b[0;34m:\u001b[0m\u001b[0;34m\u001b[0m\u001b[0;34m\u001b[0m\u001b[0m\n\u001b[0m\u001b[1;32m     97\u001b[0m \u001b[0;34m\u001b[0m\u001b[0m\n\u001b[1;32m     98\u001b[0m             \u001b[0;31m# In a future Fiona release the crs attribute of features will\u001b[0m\u001b[0;34m\u001b[0m\u001b[0;34m\u001b[0m\u001b[0;34m\u001b[0m\u001b[0m\n",
      "\u001b[0;32m~/anaconda3/envs/geo_env/lib/python3.8/site-packages/fiona/env.py\u001b[0m in \u001b[0;36mwrapper\u001b[0;34m(*args, **kwargs)\u001b[0m\n\u001b[1;32m    396\u001b[0m     \u001b[0;32mdef\u001b[0m \u001b[0mwrapper\u001b[0m\u001b[0;34m(\u001b[0m\u001b[0;34m*\u001b[0m\u001b[0margs\u001b[0m\u001b[0;34m,\u001b[0m \u001b[0;34m**\u001b[0m\u001b[0mkwargs\u001b[0m\u001b[0;34m)\u001b[0m\u001b[0;34m:\u001b[0m\u001b[0;34m\u001b[0m\u001b[0;34m\u001b[0m\u001b[0m\n\u001b[1;32m    397\u001b[0m         \u001b[0;32mif\u001b[0m \u001b[0mlocal\u001b[0m\u001b[0;34m.\u001b[0m\u001b[0m_env\u001b[0m\u001b[0;34m:\u001b[0m\u001b[0;34m\u001b[0m\u001b[0;34m\u001b[0m\u001b[0m\n\u001b[0;32m--> 398\u001b[0;31m             \u001b[0;32mreturn\u001b[0m \u001b[0mf\u001b[0m\u001b[0;34m(\u001b[0m\u001b[0;34m*\u001b[0m\u001b[0margs\u001b[0m\u001b[0;34m,\u001b[0m \u001b[0;34m**\u001b[0m\u001b[0mkwargs\u001b[0m\u001b[0;34m)\u001b[0m\u001b[0;34m\u001b[0m\u001b[0;34m\u001b[0m\u001b[0m\n\u001b[0m\u001b[1;32m    399\u001b[0m         \u001b[0;32melse\u001b[0m\u001b[0;34m:\u001b[0m\u001b[0;34m\u001b[0m\u001b[0;34m\u001b[0m\u001b[0m\n\u001b[1;32m    400\u001b[0m             \u001b[0;32mif\u001b[0m \u001b[0misinstance\u001b[0m\u001b[0;34m(\u001b[0m\u001b[0margs\u001b[0m\u001b[0;34m[\u001b[0m\u001b[0;36m0\u001b[0m\u001b[0;34m]\u001b[0m\u001b[0;34m,\u001b[0m \u001b[0mstr\u001b[0m\u001b[0;34m)\u001b[0m\u001b[0;34m:\u001b[0m\u001b[0;34m\u001b[0m\u001b[0;34m\u001b[0m\u001b[0m\n",
      "\u001b[0;32m~/anaconda3/envs/geo_env/lib/python3.8/site-packages/fiona/__init__.py\u001b[0m in \u001b[0;36mopen\u001b[0;34m(fp, mode, driver, schema, crs, encoding, layer, vfs, enabled_drivers, crs_wkt, **kwargs)\u001b[0m\n\u001b[1;32m    251\u001b[0m \u001b[0;34m\u001b[0m\u001b[0m\n\u001b[1;32m    252\u001b[0m         \u001b[0;32mif\u001b[0m \u001b[0mmode\u001b[0m \u001b[0;32min\u001b[0m \u001b[0;34m(\u001b[0m\u001b[0;34m'a'\u001b[0m\u001b[0;34m,\u001b[0m \u001b[0;34m'r'\u001b[0m\u001b[0;34m)\u001b[0m\u001b[0;34m:\u001b[0m\u001b[0;34m\u001b[0m\u001b[0;34m\u001b[0m\u001b[0m\n\u001b[0;32m--> 253\u001b[0;31m             c = Collection(path, mode, driver=driver, encoding=encoding,\n\u001b[0m\u001b[1;32m    254\u001b[0m                            layer=layer, enabled_drivers=enabled_drivers, **kwargs)\n\u001b[1;32m    255\u001b[0m         \u001b[0;32melif\u001b[0m \u001b[0mmode\u001b[0m \u001b[0;34m==\u001b[0m \u001b[0;34m'w'\u001b[0m\u001b[0;34m:\u001b[0m\u001b[0;34m\u001b[0m\u001b[0;34m\u001b[0m\u001b[0m\n",
      "\u001b[0;32m~/anaconda3/envs/geo_env/lib/python3.8/site-packages/fiona/collection.py\u001b[0m in \u001b[0;36m__init__\u001b[0;34m(self, path, mode, driver, schema, crs, encoding, layer, vsi, archive, enabled_drivers, crs_wkt, ignore_fields, ignore_geometry, **kwargs)\u001b[0m\n\u001b[1;32m    152\u001b[0m             \u001b[0;32mif\u001b[0m \u001b[0mself\u001b[0m\u001b[0;34m.\u001b[0m\u001b[0mmode\u001b[0m \u001b[0;34m==\u001b[0m \u001b[0;34m'r'\u001b[0m\u001b[0;34m:\u001b[0m\u001b[0;34m\u001b[0m\u001b[0;34m\u001b[0m\u001b[0m\n\u001b[1;32m    153\u001b[0m                 \u001b[0mself\u001b[0m\u001b[0;34m.\u001b[0m\u001b[0msession\u001b[0m \u001b[0;34m=\u001b[0m \u001b[0mSession\u001b[0m\u001b[0;34m(\u001b[0m\u001b[0;34m)\u001b[0m\u001b[0;34m\u001b[0m\u001b[0;34m\u001b[0m\u001b[0m\n\u001b[0;32m--> 154\u001b[0;31m                 \u001b[0mself\u001b[0m\u001b[0;34m.\u001b[0m\u001b[0msession\u001b[0m\u001b[0;34m.\u001b[0m\u001b[0mstart\u001b[0m\u001b[0;34m(\u001b[0m\u001b[0mself\u001b[0m\u001b[0;34m,\u001b[0m \u001b[0;34m**\u001b[0m\u001b[0mkwargs\u001b[0m\u001b[0;34m)\u001b[0m\u001b[0;34m\u001b[0m\u001b[0;34m\u001b[0m\u001b[0m\n\u001b[0m\u001b[1;32m    155\u001b[0m             \u001b[0;32melif\u001b[0m \u001b[0mself\u001b[0m\u001b[0;34m.\u001b[0m\u001b[0mmode\u001b[0m \u001b[0;32min\u001b[0m \u001b[0;34m(\u001b[0m\u001b[0;34m'a'\u001b[0m\u001b[0;34m,\u001b[0m \u001b[0;34m'w'\u001b[0m\u001b[0;34m)\u001b[0m\u001b[0;34m:\u001b[0m\u001b[0;34m\u001b[0m\u001b[0;34m\u001b[0m\u001b[0m\n\u001b[1;32m    156\u001b[0m                 \u001b[0mself\u001b[0m\u001b[0;34m.\u001b[0m\u001b[0msession\u001b[0m \u001b[0;34m=\u001b[0m \u001b[0mWritingSession\u001b[0m\u001b[0;34m(\u001b[0m\u001b[0;34m)\u001b[0m\u001b[0;34m\u001b[0m\u001b[0;34m\u001b[0m\u001b[0m\n",
      "\u001b[0;31mKeyboardInterrupt\u001b[0m: "
     ]
    }
   ],
   "source": [
    "dir_gdf = '../data/processed/'\n",
    "\n",
    "i = 0\n",
    "\n",
    "#create new df\n",
    "gdf_city = pd.DataFrame(columns=['city','ind_acc0', 'ind_acc_pob0','ind_acc_pond0',\n",
    "                                 'ind_acc1','ind_acc_pob1','ind_acc_pond1',\n",
    "                                 'ind_acc2','ind_acc_pob2','ind_acc_pond2'])\n",
    "\n",
    "for f in os.listdir(dir_gdf):\n",
    "    \n",
    "    #only uses files that contain _hex_bins\n",
    "    if '_hex_bins' in f:\n",
    "        \n",
    "        #gets city name\n",
    "        city = (f[0:f.find('_')])\n",
    "        \n",
    "        print (city)\n",
    "        \n",
    "        #access and filter data\n",
    "        gdf = gpd.read_file(dir_gdf+f)\n",
    "        gdf = gdf.loc[(gdf['dist_supermercados'] > 0)]\n",
    "        gdf_filter = gdf[['pobtot','dist_supermercados','dist_farmacias','dist_hospitales','geometry']].copy()\n",
    "        \n",
    "        #removes big distance values to avoid errors\n",
    "        gdf_filter['dist_supermercados'] = gdf_filter['dist_supermercados'].apply(lambda x: x if x <= 10000 else 10000)\n",
    "        gdf_filter['dist_farmacias'] = gdf_filter['dist_farmacias'].apply(lambda x: x if x <= 10000 else 10000)\n",
    "        \n",
    "        #calculate index\n",
    "        #hospital index\n",
    "        gdf_filter['ind_hospitales'] = gdf_filter.apply (lambda row: 1 / (1 + math.exp( 0.00109861 * (row.loc['dist_hospitales'] - 3000 ))), axis=1)\n",
    "        \n",
    "        \n",
    "        #index0\n",
    "        gdf_filter['ind_supermercado0'] = gdf_filter.apply (lambda row: 1 / (1 + math.exp( 0.00627778 * (row.loc['dist_supermercados'] - 650 ))), axis=1)\n",
    "        gdf_filter['ind_farmacias0'] = gdf_filter.apply (lambda row: 1 / (1 + math.exp( 0.00627778 * (row.loc['dist_farmacias'] - 650 ))), axis=1)\n",
    "        gdf_filter['ind_accesibilidad0'] = gdf_filter.apply (lambda row: (0.333*row.loc['ind_supermercado0']) + (0.334*row.loc['ind_farmacias0']) + (0.333*row.loc['ind_hospitales']), axis=1)\n",
    "        \n",
    "        print ('check 0')\n",
    "        \n",
    "        #index1\n",
    "        gdf_filter['ind_supermercado1'] = gdf_filter.apply (lambda row: 1 / (1 + math.exp( 0.00439445 * (row.loc['dist_supermercados'] - 500 ))), axis=1)\n",
    "        gdf_filter['ind_farmacias1'] = gdf_filter.apply (lambda row: 1 / (1 + math.exp( 0.00627778 * (row.loc['dist_farmacias'] - 650 ))), axis=1)\n",
    "        gdf_filter['ind_accesibilidad1'] = gdf_filter.apply (lambda row: (0.333*row.loc['ind_supermercado1']) + (0.334*row.loc['ind_farmacias1']) + (0.333*row.loc['ind_hospitales']), axis=1)\n",
    "        \n",
    "        print ('check 1')\n",
    "        \n",
    "        #index2\n",
    "        gdf_filter['ind_supermercado2'] = gdf_filter.apply (lambda row: 1 / (1 + math.exp( 0.00439445 * (row.loc['dist_supermercados'] - 500 ))), axis=1)\n",
    "        gdf_filter['ind_farmacias2'] = gdf_filter.apply (lambda row: 1 / (1 + math.exp( 0.00439445 * (row.loc['dist_farmacias'] - 500 ))), axis=1)\n",
    "        gdf_filter['ind_accesibilidad2'] = gdf_filter.apply (lambda row: (0.333*row.loc['ind_supermercado2']) + (0.334*row.loc['ind_farmacias2']) + (0.333*row.loc['ind_hospitales']), axis=1)\n",
    "        \n",
    "        print ('check 2')\n",
    "        \n",
    "        #calculate means\n",
    "        #pobtot\n",
    "        pobtot = gdf_filter.pobtot.sum()\n",
    "\n",
    "        #index0\n",
    "        media_a0 = gdf_filter.ind_accesibilidad0.mean()\n",
    "        media_a_pob0 = gdf_filter[gdf_filter['pobtot']>0].ind_accesibilidad0.mean()\n",
    "\n",
    "        gdf_filter['w0'] = gdf_filter.ind_accesibilidad0 * gdf_filter.pobtot\n",
    "\n",
    "        gdf_filter['ind_acc_media_pond0'] = gdf_filter.w0 / pobtot\n",
    "\n",
    "        media_pond0 = gdf_filter.ind_acc_media_pond0.sum()\n",
    "        \n",
    "        #index1\n",
    "        media_a1 = gdf_filter.ind_accesibilidad1.mean()\n",
    "        media_a_pob1 = gdf_filter[gdf_filter['pobtot']>0].ind_accesibilidad1.mean()\n",
    "\n",
    "        gdf_filter['w1'] = gdf_filter.ind_accesibilidad1 * gdf_filter.pobtot\n",
    "\n",
    "        gdf_filter['ind_acc_media_pond1'] = gdf_filter.w1 / pobtot\n",
    "\n",
    "        media_pond1 = gdf_filter.ind_acc_media_pond1.sum()\n",
    "        \n",
    "        #index2\n",
    "        media_a2 = gdf_filter.ind_accesibilidad2.mean()\n",
    "        media_a_pob2 = gdf_filter[gdf_filter['pobtot']>0].ind_accesibilidad2.mean()\n",
    "\n",
    "        gdf_filter['w2'] = gdf_filter.ind_accesibilidad2 * gdf_filter.pobtot\n",
    "\n",
    "        gdf_filter['ind_acc_media_pond2'] = gdf_filter.w2 / pobtot\n",
    "\n",
    "        media_pond2 = gdf_filter.ind_acc_media_pond2.sum()\n",
    "        \n",
    "        #add data to df\n",
    "        \n",
    "        gdf_city.loc[i] = [city, media_a0, media_a_pob0, media_pond0,\n",
    "                           media_a1, media_a_pob1, media_pond1,\n",
    "                           media_a2, media_a_pob2, media_pond2]\n",
    "        \n",
    "        i += 1"
   ]
  },
  {
   "cell_type": "code",
   "execution_count": 13,
   "metadata": {
    "collapsed": true,
    "jupyter": {
     "outputs_hidden": true,
     "source_hidden": true
    }
   },
   "outputs": [
    {
     "data": {
      "text/html": [
       "<div>\n",
       "<style scoped>\n",
       "    .dataframe tbody tr th:only-of-type {\n",
       "        vertical-align: middle;\n",
       "    }\n",
       "\n",
       "    .dataframe tbody tr th {\n",
       "        vertical-align: top;\n",
       "    }\n",
       "\n",
       "    .dataframe thead th {\n",
       "        text-align: right;\n",
       "    }\n",
       "</style>\n",
       "<table border=\"1\" class=\"dataframe\">\n",
       "  <thead>\n",
       "    <tr style=\"text-align: right;\">\n",
       "      <th></th>\n",
       "      <th>city</th>\n",
       "      <th>ind_acc0</th>\n",
       "      <th>ind_acc_pob0</th>\n",
       "      <th>ind_acc_pond0</th>\n",
       "      <th>ind_acc1</th>\n",
       "      <th>ind_acc_pob1</th>\n",
       "      <th>ind_acc_pond1</th>\n",
       "      <th>ind_acc2</th>\n",
       "      <th>ind_acc_pob2</th>\n",
       "      <th>ind_acc_pond2</th>\n",
       "    </tr>\n",
       "  </thead>\n",
       "  <tbody>\n",
       "    <tr>\n",
       "      <th>0</th>\n",
       "      <td>Laguna</td>\n",
       "      <td>0.290679</td>\n",
       "      <td>0.599740</td>\n",
       "      <td>0.740344</td>\n",
       "      <td>0.268661</td>\n",
       "      <td>0.553390</td>\n",
       "      <td>0.686714</td>\n",
       "      <td>0.251316</td>\n",
       "      <td>0.516063</td>\n",
       "      <td>0.636098</td>\n",
       "    </tr>\n",
       "    <tr>\n",
       "      <th>1</th>\n",
       "      <td>Cuernavaca</td>\n",
       "      <td>0.375310</td>\n",
       "      <td>0.502817</td>\n",
       "      <td>0.619649</td>\n",
       "      <td>0.349588</td>\n",
       "      <td>0.467671</td>\n",
       "      <td>0.575664</td>\n",
       "      <td>0.323933</td>\n",
       "      <td>0.431693</td>\n",
       "      <td>0.529637</td>\n",
       "    </tr>\n",
       "    <tr>\n",
       "      <th>2</th>\n",
       "      <td>Toluca</td>\n",
       "      <td>0.240597</td>\n",
       "      <td>0.487547</td>\n",
       "      <td>0.641815</td>\n",
       "      <td>0.226381</td>\n",
       "      <td>0.456200</td>\n",
       "      <td>0.598376</td>\n",
       "      <td>0.209568</td>\n",
       "      <td>0.418025</td>\n",
       "      <td>0.547739</td>\n",
       "    </tr>\n",
       "    <tr>\n",
       "      <th>3</th>\n",
       "      <td>Aguascalientes</td>\n",
       "      <td>0.273947</td>\n",
       "      <td>0.614859</td>\n",
       "      <td>0.728603</td>\n",
       "      <td>0.251341</td>\n",
       "      <td>0.565159</td>\n",
       "      <td>0.671983</td>\n",
       "      <td>0.234459</td>\n",
       "      <td>0.523535</td>\n",
       "      <td>0.619616</td>\n",
       "    </tr>\n",
       "    <tr>\n",
       "      <th>4</th>\n",
       "      <td>Mexicali</td>\n",
       "      <td>0.185352</td>\n",
       "      <td>0.522136</td>\n",
       "      <td>0.635091</td>\n",
       "      <td>0.169388</td>\n",
       "      <td>0.475955</td>\n",
       "      <td>0.580848</td>\n",
       "      <td>0.158134</td>\n",
       "      <td>0.441214</td>\n",
       "      <td>0.535674</td>\n",
       "    </tr>\n",
       "    <tr>\n",
       "      <th>5</th>\n",
       "      <td>Merida</td>\n",
       "      <td>0.307317</td>\n",
       "      <td>0.539513</td>\n",
       "      <td>0.665150</td>\n",
       "      <td>0.281105</td>\n",
       "      <td>0.492565</td>\n",
       "      <td>0.609653</td>\n",
       "      <td>0.262592</td>\n",
       "      <td>0.457171</td>\n",
       "      <td>0.561418</td>\n",
       "    </tr>\n",
       "    <tr>\n",
       "      <th>6</th>\n",
       "      <td>Saltillo</td>\n",
       "      <td>0.304020</td>\n",
       "      <td>0.543941</td>\n",
       "      <td>0.703395</td>\n",
       "      <td>0.278703</td>\n",
       "      <td>0.499097</td>\n",
       "      <td>0.648764</td>\n",
       "      <td>0.260293</td>\n",
       "      <td>0.465598</td>\n",
       "      <td>0.598987</td>\n",
       "    </tr>\n",
       "    <tr>\n",
       "      <th>7</th>\n",
       "      <td>Monterrey</td>\n",
       "      <td>0.385093</td>\n",
       "      <td>0.600375</td>\n",
       "      <td>0.760070</td>\n",
       "      <td>0.355120</td>\n",
       "      <td>0.554093</td>\n",
       "      <td>0.705712</td>\n",
       "      <td>0.333899</td>\n",
       "      <td>0.518840</td>\n",
       "      <td>0.655420</td>\n",
       "    </tr>\n",
       "    <tr>\n",
       "      <th>8</th>\n",
       "      <td>SLP</td>\n",
       "      <td>0.305028</td>\n",
       "      <td>0.582482</td>\n",
       "      <td>0.744168</td>\n",
       "      <td>0.282635</td>\n",
       "      <td>0.539904</td>\n",
       "      <td>0.689841</td>\n",
       "      <td>0.263375</td>\n",
       "      <td>0.501445</td>\n",
       "      <td>0.635753</td>\n",
       "    </tr>\n",
       "    <tr>\n",
       "      <th>9</th>\n",
       "      <td>Mexico</td>\n",
       "      <td>0.604534</td>\n",
       "      <td>0.695603</td>\n",
       "      <td>0.808848</td>\n",
       "      <td>0.566343</td>\n",
       "      <td>0.651201</td>\n",
       "      <td>0.756255</td>\n",
       "      <td>0.524605</td>\n",
       "      <td>0.602922</td>\n",
       "      <td>0.704757</td>\n",
       "    </tr>\n",
       "    <tr>\n",
       "      <th>10</th>\n",
       "      <td>Puebla</td>\n",
       "      <td>0.417920</td>\n",
       "      <td>0.542413</td>\n",
       "      <td>0.697319</td>\n",
       "      <td>0.389517</td>\n",
       "      <td>0.504618</td>\n",
       "      <td>0.647528</td>\n",
       "      <td>0.359646</td>\n",
       "      <td>0.463790</td>\n",
       "      <td>0.594521</td>\n",
       "    </tr>\n",
       "    <tr>\n",
       "      <th>11</th>\n",
       "      <td>Guadalajara</td>\n",
       "      <td>0.383005</td>\n",
       "      <td>0.601488</td>\n",
       "      <td>0.752034</td>\n",
       "      <td>0.355370</td>\n",
       "      <td>0.558084</td>\n",
       "      <td>0.698722</td>\n",
       "      <td>0.329283</td>\n",
       "      <td>0.514447</td>\n",
       "      <td>0.644604</td>\n",
       "    </tr>\n",
       "    <tr>\n",
       "      <th>12</th>\n",
       "      <td>Querétaro</td>\n",
       "      <td>0.187631</td>\n",
       "      <td>0.593798</td>\n",
       "      <td>0.766819</td>\n",
       "      <td>0.173271</td>\n",
       "      <td>0.549290</td>\n",
       "      <td>0.713879</td>\n",
       "      <td>0.162136</td>\n",
       "      <td>0.507249</td>\n",
       "      <td>0.660512</td>\n",
       "    </tr>\n",
       "  </tbody>\n",
       "</table>\n",
       "</div>"
      ],
      "text/plain": [
       "              city  ind_acc0  ind_acc_pob0  ind_acc_pond0  ind_acc1  \\\n",
       "0           Laguna  0.290679      0.599740       0.740344  0.268661   \n",
       "1       Cuernavaca  0.375310      0.502817       0.619649  0.349588   \n",
       "2           Toluca  0.240597      0.487547       0.641815  0.226381   \n",
       "3   Aguascalientes  0.273947      0.614859       0.728603  0.251341   \n",
       "4         Mexicali  0.185352      0.522136       0.635091  0.169388   \n",
       "5           Merida  0.307317      0.539513       0.665150  0.281105   \n",
       "6         Saltillo  0.304020      0.543941       0.703395  0.278703   \n",
       "7        Monterrey  0.385093      0.600375       0.760070  0.355120   \n",
       "8              SLP  0.305028      0.582482       0.744168  0.282635   \n",
       "9           Mexico  0.604534      0.695603       0.808848  0.566343   \n",
       "10          Puebla  0.417920      0.542413       0.697319  0.389517   \n",
       "11     Guadalajara  0.383005      0.601488       0.752034  0.355370   \n",
       "12       Querétaro  0.187631      0.593798       0.766819  0.173271   \n",
       "\n",
       "    ind_acc_pob1  ind_acc_pond1  ind_acc2  ind_acc_pob2  ind_acc_pond2  \n",
       "0       0.553390       0.686714  0.251316      0.516063       0.636098  \n",
       "1       0.467671       0.575664  0.323933      0.431693       0.529637  \n",
       "2       0.456200       0.598376  0.209568      0.418025       0.547739  \n",
       "3       0.565159       0.671983  0.234459      0.523535       0.619616  \n",
       "4       0.475955       0.580848  0.158134      0.441214       0.535674  \n",
       "5       0.492565       0.609653  0.262592      0.457171       0.561418  \n",
       "6       0.499097       0.648764  0.260293      0.465598       0.598987  \n",
       "7       0.554093       0.705712  0.333899      0.518840       0.655420  \n",
       "8       0.539904       0.689841  0.263375      0.501445       0.635753  \n",
       "9       0.651201       0.756255  0.524605      0.602922       0.704757  \n",
       "10      0.504618       0.647528  0.359646      0.463790       0.594521  \n",
       "11      0.558084       0.698722  0.329283      0.514447       0.644604  \n",
       "12      0.549290       0.713879  0.162136      0.507249       0.660512  "
      ]
     },
     "execution_count": 13,
     "metadata": {},
     "output_type": "execute_result"
    }
   ],
   "source": [
    "gdf_city"
   ]
  },
  {
   "cell_type": "markdown",
   "metadata": {},
   "source": [
    "### [CURRENT] Calculate index for accesability to hospitals, farmacies and supermarkets"
   ]
  },
  {
   "cell_type": "code",
   "execution_count": 9,
   "metadata": {},
   "outputs": [
    {
     "name": "stdout",
     "output_type": "stream",
     "text": [
      "Laguna\n",
      "Cuernavaca\n",
      "Toluca\n",
      "Aguascalientes\n",
      "Mexicali\n",
      "Merida\n",
      "Saltillo\n",
      "Monterrey\n",
      "SLP\n",
      "Mexico\n",
      "Puebla\n",
      "Guadalajara\n",
      "Querétaro\n"
     ]
    }
   ],
   "source": [
    "dir_gdf = '../data/processed/'\n",
    "\n",
    "i = 0\n",
    "\n",
    "#create new df\n",
    "gdf_city = pd.DataFrame(columns=['city','ind_acc', 'ind_acc_pob'])\n",
    "\n",
    "for f in os.listdir(dir_gdf):\n",
    "    \n",
    "    #only uses files that contain _hex_bins\n",
    "    if '_hex_bins' in f:\n",
    "        \n",
    "        #gets city name\n",
    "        city = (f[0:f.find('_')])\n",
    "        \n",
    "        print (city)\n",
    "        \n",
    "        #access and filter data\n",
    "        gdf = gpd.read_file(dir_gdf+f)\n",
    "        gdf = gdf.loc[(gdf['dist_supermercados'] > 0)]\n",
    "        gdf_filter = gdf[['pobtot','dist_supermercados','dist_farmacias','dist_hospitales','geometry']].copy()\n",
    "        \n",
    "        #removes big distance values to avoid errors\n",
    "        gdf_filter['dist_supermercados'] = gdf_filter['dist_supermercados'].apply(lambda x: x if x <= 10000 else 10000)\n",
    "        gdf_filter['dist_farmacias'] = gdf_filter['dist_farmacias'].apply(lambda x: x if x <= 10000 else 10000)\n",
    "        \n",
    "        #calculate index\n",
    "        #hospital index\n",
    "        gdf_filter['ind_hospitales'] =  gdf_filter.apply (lambda row: 1 / (1 + math.exp( 0.00109861 * (row.loc['dist_hospitales'] - 3000 ))), axis=1)\n",
    "        gdf_filter['ind_supermercado'] = gdf_filter.apply (lambda row: 1 / (1 + math.exp( 0.00627778 * (row.loc['dist_supermercados'] - 650 ))), axis=1)\n",
    "        gdf_filter['ind_farmacias'] = gdf_filter.apply (lambda row: 1 / (1 + math.exp( 0.00627778 * (row.loc['dist_farmacias'] - 650 ))), axis=1)\n",
    "        gdf_filter['ind_accesibilidad'] = gdf_filter.apply (lambda row: (0.333*row.loc['ind_supermercado']) + (0.334*row.loc['ind_farmacias']) + (0.333*row.loc['ind_hospitales']), axis=1)\n",
    "        \n",
    "        \n",
    "        #calculate means\n",
    "        #index\n",
    "        media_a = round(gdf_filter.ind_accesibilidad.mean(),2)\n",
    "        media_a_pob = round(gdf_filter[gdf_filter['pobtot']>0].ind_accesibilidad.mean(),2)\n",
    "        \n",
    "        \n",
    "        #add data to df\n",
    "        \n",
    "        gdf_city.loc[i] = [city, media_a, media_a_pob]\n",
    "        \n",
    "        i += 1"
   ]
  },
  {
   "cell_type": "markdown",
   "metadata": {},
   "source": [
    "### Heatmap to visualize data"
   ]
  },
  {
   "cell_type": "code",
   "execution_count": 10,
   "metadata": {},
   "outputs": [],
   "source": [
    "gdf_city.set_index('city', inplace=True)"
   ]
  },
  {
   "cell_type": "code",
   "execution_count": 14,
   "metadata": {},
   "outputs": [
    {
     "data": {
      "image/png": "[encoded data removed]",
      "text/plain": [
       "<Figure size 720x720 with 2 Axes>"
      ]
     },
     "metadata": {
      "needs_background": "light"
     },
     "output_type": "display_data"
    }
   ],
   "source": [
    "import seaborn as sns\n",
    "\n",
    "fig, ax = plt.subplots(1,1,figsize=(10,10))\n",
    "\n",
    "ax = sns.heatmap(gdf_city[['ind_acc','ind_acc_pob']], annot=True, cmap = \"YlGnBu\", linewidths=0.5, fmt='.2f')\n",
    "plt.title('Comparación de índices de accesibilidad')\n",
    "plt.show()\n"
   ]
  },
  {
   "cell_type": "markdown",
   "metadata": {},
   "source": [
    "### Lollipop graph to visualize data"
   ]
  },
  {
   "cell_type": "code",
   "execution_count": 15,
   "metadata": {},
   "outputs": [],
   "source": [
    "gdf_city.reset_index(inplace=True)"
   ]
  },
  {
   "cell_type": "code",
   "execution_count": 17,
   "metadata": {},
   "outputs": [
    {
     "data": {
      "image/png": "[encoded data removed]",
      "text/plain": [
       "<Figure size 864x720 with 1 Axes>"
      ]
     },
     "metadata": {
      "needs_background": "light"
     },
     "output_type": "display_data"
    }
   ],
   "source": [
    "#import seaborn as sns\n",
    "\n",
    "gdf_city.sort_values(by='ind_acc_pob', inplace=True)\n",
    "\n",
    "fig = plt.figure(figsize=(12,10))\n",
    "\n",
    "my_range=range(0,len(gdf_city))\n",
    "\n",
    "plt.hlines(y=gdf_city['city'], xmin=gdf_city['ind_acc'], xmax=gdf_city['ind_acc_pob'],linewidth=3, alpha =0.8)\n",
    "\n",
    "plt.scatter(gdf_city['ind_acc_pob'], my_range, s=80, alpha=1)\n",
    "\n",
    "plt.scatter(gdf_city['ind_acc'], my_range, s=80, alpha=1, zorder=2)\n",
    "\n",
    "plt.title(\"Índice de proximidad básica en cuarentena\", fontsize=20, x=0.5,y=1.02)\n",
    "\n",
    "plt.xlabel('Calificación', fontsize=20)\n",
    "\n",
    "plt.ylabel('',fontsize=20)\n",
    "\n",
    "plt.yticks(fontsize=15)\n",
    "\n",
    "plt.xticks(fontsize=15)\n",
    "\n",
    "plt.grid()\n",
    "\n",
    "plt.xlim(left=0, right=1) \n",
    "\n",
    "plt.legend(['', 'Índice poblacional', 'Índice territorial'], loc='lower right')\n",
    "\n",
    "plt.savefig('../output/figures/Índice_Proximidad.png',dpi=300,bbox_inches='tight')\n",
    "plt.savefig('../output/figures/Índice_Proximidad.svg',dpi=300,bbox_inches='tight') "
   ]
  },
  {
   "cell_type": "code",
   "execution_count": null,
   "metadata": {},
   "outputs": [],
   "source": []
  }
 ],
 "metadata": {
  "kernelspec": {
   "display_name": "geo_env",
   "language": "python",
   "name": "geo_env"
  },
  "language_info": {
   "codemirror_mode": {
    "name": "ipython",
    "version": 3
   },
   "file_extension": ".py",
   "mimetype": "text/x-python",
   "name": "python",
   "nbconvert_exporter": "python",
   "pygments_lexer": "ipython3",
   "version": "3.9.5"
  }
 },
 "nbformat": 4,
 "nbformat_minor": 4
}
