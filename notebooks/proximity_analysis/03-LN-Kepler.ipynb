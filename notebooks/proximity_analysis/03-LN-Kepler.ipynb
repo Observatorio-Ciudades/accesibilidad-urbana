{
 "cells": [
  {
   "cell_type": "code",
   "execution_count": 34,
   "metadata": {},
   "outputs": [],
   "source": [
    "import aup\n",
    "from keplergl import KeplerGl\n",
    "import geopandas as gpd\n",
    "import hex_config\n",
    "import pandas as pd"
   ]
  },
  {
   "cell_type": "code",
   "execution_count": 35,
   "metadata": {},
   "outputs": [],
   "source": [
    "cities = ['Aguascalientes','Cuernavaca','Guadalajara','Laguna','Merida',\n",
    "          'Mexicali','Mexico','Monterrey','Puebla','Querétaro','Saltillo',\n",
    "         'SLP','Toluca']"
   ]
  },
  {
   "cell_type": "code",
   "execution_count": 36,
   "metadata": {},
   "outputs": [],
   "source": [
    "def load_data(df, c):\n",
    "    aup.log(f\"{c} loading data\")\n",
    "    # Creates empty GeoDataFrame to store specified municipality polygons\n",
    "    mun_gdf = gpd.GeoDataFrame()\n",
    "    # ageb_gdf = gpd.GeoDataFrame()\n",
    "    hex_bins = gpd.GeoDataFrame()\n",
    "    year = 2020\n",
    "    mpos_folder = f\"mpos_{year}\"\n",
    "    for i in range(len(df.loc[\"mpos\", c])):\n",
    "        # Extracts specific municipality code\n",
    "        m = df.loc[\"mpos\", c][i]\n",
    "        # Downloads municipality polygon according to code\n",
    "        query = f\"SELECT * FROM marco.{mpos_folder} WHERE \\\"CVEGEO\\\" LIKE '{m}'\"\n",
    "        mun_gdf = mun_gdf.append(aup.gdf_from_query(\n",
    "            query, geometry_col=\"geometry\"))\n",
    "        # Creates query to download hex bins\n",
    "        query = f\"SELECT * FROM processed.hex_bins_index_{year} WHERE \\\"CVEGEO\\\" LIKE '{m}%%'\"\n",
    "        hex_bins = hex_bins.append(\n",
    "            aup.gdf_from_query(query, geometry_col=\"geometry\"))\n",
    "    return hex_bins\n"
   ]
  },
  {
   "cell_type": "code",
   "execution_count": 37,
   "metadata": {},
   "outputs": [],
   "source": [
    "df = pd.read_json(\"../scripts/Metropolis_CVE.json\")\n"
   ]
  },
  {
   "cell_type": "code",
   "execution_count": 38,
   "metadata": {},
   "outputs": [],
   "source": [
    "hex_bins = load_data(df, cities[0])"
   ]
  },
  {
   "cell_type": "code",
   "execution_count": 39,
   "metadata": {},
   "outputs": [
    {
     "name": "stderr",
     "output_type": "stream",
     "text": [
      "<ipython-input-39-e7ac13e66adf>:32: UserWarning: Geometry is in a geographic CRS. Results from 'centroid' are likely incorrect. Use 'GeoSeries.to_crs()' to re-project geometries to a projected CRS before this operation.\n",
      "\n",
      "  longitude = hex_bins.dissolve(by=\"d\").geometry.centroid.x\n"
     ]
    },
    {
     "name": "stdout",
     "output_type": "stream",
     "text": [
      "User Guide: https://docs.kepler.gl/docs/keplergl-jupyter\n"
     ]
    },
    {
     "name": "stderr",
     "output_type": "stream",
     "text": [
      "<ipython-input-39-e7ac13e66adf>:33: UserWarning: Geometry is in a geographic CRS. Results from 'centroid' are likely incorrect. Use 'GeoSeries.to_crs()' to re-project geometries to a projected CRS before this operation.\n",
      "\n",
      "  latitude = hex_bins.dissolve(by=\"d\").geometry.centroid.y\n",
      "/Users/natera/miniconda3/envs/ox/lib/python3.8/site-packages/geopandas/geodataframe.py:852: UserWarning: Geometry column does not contain geometry.\n",
      "  warnings.warn(\"Geometry column does not contain geometry.\")\n"
     ]
    }
   ],
   "source": [
    "#column = 'idx_accessibility'\n",
    "column = 'dist_hospitales'\n",
    "hex_bins[column] = hex_bins[column].astype(float)\n",
    "\n",
    "if column == \"idx_accessibility\":\n",
    "    config = hex_config.config_idx\n",
    "    hex_bins[column] = hex_bins[column].round(2)\n",
    "    bins = [0, 0.2, 0.4, 0.6, 0.8, 1]\n",
    "    labels = ['0-0.2', '0.2-0.4', '0.4-0.6', '0.6-0.8', '0.8-1']\n",
    "    hex_bins[f'bins_{column}'] = pd.cut(\n",
    "        hex_bins[column], bins=bins, labels=labels, include_lowest=True)\n",
    "    config[\"config\"][\"visState\"][\"layers\"][0][\"visualChannels\"][\"colorField\"][\n",
    "        \"name\"\n",
    "    ] = f'bins_{column}'\n",
    "    _name = 'Índice accesibilidad'\n",
    "    hex_bins[_name] = hex_bins[column].astype(str)\n",
    "    config[\"config\"][\"visState\"][\"interactionConfig\"][\"tooltip\"][\"fieldsToShow\"][\n",
    "        \"data\"\n",
    "    ][0][\"name\"] = _name\n",
    "else:\n",
    "    config = hex_config.config\n",
    "    config[\"config\"][\"visState\"][\"layers\"][0][\"visualChannels\"][\"colorField\"][\n",
    "        \"name\"\n",
    "    ] = column\n",
    "    _name = column.replace('dist_', 'Distancia a ')\n",
    "    hex_bins[_name] = hex_bins[column].round(2).astype(str) + ' metros'\n",
    "    _name = column.replace('dist_', 'Distancia a ')\n",
    "    config[\"config\"][\"visState\"][\"interactionConfig\"][\"tooltip\"][\"fieldsToShow\"][\n",
    "        \"data\"\n",
    "    ][0][\"name\"] = _name\n",
    "hex_bins[\"d\"] = 0\n",
    "longitude = hex_bins.dissolve(by=\"d\").geometry.centroid.x\n",
    "latitude = hex_bins.dissolve(by=\"d\").geometry.centroid.y\n",
    "config[\"config\"][\"mapState\"][\"latitude\"] = latitude[0]\n",
    "config[\"config\"][\"mapState\"][\"longitude\"] = longitude[0]\n",
    "map_city = KeplerGl(height=800, data={\"data\": hex_bins}, config=config)\n",
    "#map_city.save_to_html(data ={\"data\": hex_bins}, file_name=\"temp.html\", read_only=True, config = config)"
   ]
  },
  {
   "cell_type": "code",
   "execution_count": 40,
   "metadata": {},
   "outputs": [
    {
     "data": {
      "application/vnd.jupyter.widget-view+json": {
       "model_id": "28c5a4dd304a4b1f8816d7f97adcb350",
       "version_major": 2,
       "version_minor": 0
      },
      "text/plain": [
       "KeplerGl(config={'version': 'v1', 'config': {'visState': {'filters': [], 'layers': [{'id': 'jsx1yd', 'type': '…"
      ]
     },
     "metadata": {},
     "output_type": "display_data"
    }
   ],
   "source": [
    "map_city"
   ]
  },
  {
   "cell_type": "code",
   "execution_count": 41,
   "metadata": {},
   "outputs": [
    {
     "data": {
      "text/plain": [
       "{'version': 'v1',\n",
       " 'config': {'visState': {'filters': [],\n",
       "   'layers': [{'id': 'jsx1yd',\n",
       "     'type': 'geojson',\n",
       "     'config': {'dataId': 'data',\n",
       "      'label': 'data',\n",
       "      'color': [231, 159, 213],\n",
       "      'columns': {'geojson': 'geometry'},\n",
       "      'isVisible': True,\n",
       "      'visConfig': {'opacity': 0.35,\n",
       "       'strokeOpacity': 0.05,\n",
       "       'thickness': 0.5,\n",
       "       'strokeColor': [28, 27, 27],\n",
       "       'colorRange': {'name': 'Custom Palette',\n",
       "        'type': 'custom',\n",
       "        'category': 'Custom',\n",
       "        'colors': ['#FAE300', '#FD7900', '#CF1750', '#7A0DA6', '#2C51BE']},\n",
       "       'strokeColorRange': {'name': 'Global Warming',\n",
       "        'type': 'sequential',\n",
       "        'category': 'Uber',\n",
       "        'colors': ['#5A1846',\n",
       "         '#900C3F',\n",
       "         '#C70039',\n",
       "         '#E3611C',\n",
       "         '#F1920E',\n",
       "         '#FFC300']},\n",
       "       'radius': 10,\n",
       "       'sizeRange': [0, 10],\n",
       "       'radiusRange': [0, 50],\n",
       "       'heightRange': [0, 500],\n",
       "       'elevationScale': 5,\n",
       "       'stroked': True,\n",
       "       'filled': True,\n",
       "       'enable3d': False,\n",
       "       'wireframe': False},\n",
       "      'hidden': False,\n",
       "      'textLabel': [{'field': None,\n",
       "        'color': [255, 255, 255],\n",
       "        'size': 18,\n",
       "        'offset': [0, 0],\n",
       "        'anchor': 'start',\n",
       "        'alignment': 'center'}]},\n",
       "     'visualChannels': {'colorField': {'name': 'dist_hospitales',\n",
       "       'type': 'real'},\n",
       "      'colorScale': 'quantile',\n",
       "      'sizeField': None,\n",
       "      'sizeScale': 'linear',\n",
       "      'strokeColorField': None,\n",
       "      'strokeColorScale': 'quantile',\n",
       "      'heightField': {'name': 'dist_farmacia', 'type': 'real'},\n",
       "      'heightScale': 'linear',\n",
       "      'radiusField': None,\n",
       "      'radiusScale': 'linear'}}],\n",
       "   'interactionConfig': {'tooltip': {'fieldsToShow': {'data': [{'name': 'Distancia a hospitales',\n",
       "        'format': None}]},\n",
       "     'compareMode': False,\n",
       "     'compareType': 'absolute',\n",
       "     'enabled': True},\n",
       "    'brush': {'size': 0.5, 'enabled': False},\n",
       "    'geocoder': {'enabled': False},\n",
       "    'coordinate': {'enabled': False}},\n",
       "   'layerBlending': 'normal',\n",
       "   'splitMaps': [],\n",
       "   'animationConfig': {'currentTime': None, 'speed': 1}},\n",
       "  'mapState': {'bearing': 0,\n",
       "   'dragRotate': False,\n",
       "   'latitude': 21.865922323269984,\n",
       "   'longitude': -102.30626392453544,\n",
       "   'pitch': 0,\n",
       "   'zoom': 8.515158481972351,\n",
       "   'isSplit': False},\n",
       "  'mapStyle': {'styleType': 'dark',\n",
       "   'topLayerGroups': {},\n",
       "   'visibleLayerGroups': {'label': True,\n",
       "    'road': True,\n",
       "    'border': False,\n",
       "    'building': True,\n",
       "    'water': True,\n",
       "    'land': True,\n",
       "    '3d building': False},\n",
       "   'threeDBuildingColor': [9.665468314072013,\n",
       "    17.18305478057247,\n",
       "    31.1442867897876],\n",
       "   'mapStyles': {'a2yomtk': {'accessToken': 'pk.eyJ1IjoibmF0ZXJhIiwiYSI6ImNqNXRxcTdsMDFsamUycXBoOTd5NHZxOXYifQ.c3g6rKBuuK3urwqlQEkO2g',\n",
       "     'custom': True,\n",
       "     'icon': 'https://api.mapbox.com/styles/v1/natera/ckuqusx1a0q9218pcb5z1uvcq/static/-122.3391,37.7922,9,0,0/400x300?access_token=pk.eyJ1IjoibmF0ZXJhIiwiYSI6ImNqNXRxcTdsMDFsamUycXBoOTd5NHZxOXYifQ.c3g6rKBuuK3urwqlQEkO2g&logo=false&attribution=false',\n",
       "     'id': 'a2yomtk',\n",
       "     'label': 'Monochrome',\n",
       "     'url': 'mapbox://styles/natera/ckuqusx1a0q9218pcb5z1uvcq'}}}}}"
      ]
     },
     "execution_count": 41,
     "metadata": {},
     "output_type": "execute_result"
    }
   ],
   "source": [
    "config"
   ]
  },
  {
   "cell_type": "code",
   "execution_count": 43,
   "metadata": {},
   "outputs": [
    {
     "data": {
      "text/plain": [
       "{'version': 'v1',\n",
       " 'config': {'visState': {'filters': [],\n",
       "   'layers': [{'id': 'jsx1yd',\n",
       "     'type': 'geojson',\n",
       "     'config': {'dataId': 'data',\n",
       "      'label': 'data',\n",
       "      'color': [231, 159, 213],\n",
       "      'columns': {'geojson': 'geometry'},\n",
       "      'isVisible': True,\n",
       "      'visConfig': {'opacity': 0.35,\n",
       "       'strokeOpacity': 0.05,\n",
       "       'thickness': 0.5,\n",
       "       'strokeColor': [28, 27, 27],\n",
       "       'colorRange': {'name': 'Custom Palette',\n",
       "        'type': 'custom',\n",
       "        'category': 'Custom',\n",
       "        'colors': ['#FAE300', '#FD7900', '#CF1750', '#7A0DA6', '#2C51BE']},\n",
       "       'strokeColorRange': {'name': 'Global Warming',\n",
       "        'type': 'sequential',\n",
       "        'category': 'Uber',\n",
       "        'colors': ['#5A1846',\n",
       "         '#900C3F',\n",
       "         '#C70039',\n",
       "         '#E3611C',\n",
       "         '#F1920E',\n",
       "         '#FFC300']},\n",
       "       'radius': 10,\n",
       "       'sizeRange': [0, 10],\n",
       "       'radiusRange': [0, 50],\n",
       "       'heightRange': [0, 500],\n",
       "       'elevationScale': 5,\n",
       "       'stroked': True,\n",
       "       'filled': True,\n",
       "       'enable3d': False,\n",
       "       'wireframe': False},\n",
       "      'hidden': False,\n",
       "      'textLabel': [{'field': None,\n",
       "        'color': [255, 255, 255],\n",
       "        'size': 18,\n",
       "        'offset': [0, 0],\n",
       "        'anchor': 'start',\n",
       "        'alignment': 'center'}]},\n",
       "     'visualChannels': {'colorField': {'name': 'dist_hospitales',\n",
       "       'type': 'real'},\n",
       "      'colorScale': 'quantile',\n",
       "      'sizeField': None,\n",
       "      'sizeScale': 'linear',\n",
       "      'strokeColorField': None,\n",
       "      'strokeColorScale': 'quantile',\n",
       "      'heightField': {'name': 'dist_farmacia', 'type': 'real'},\n",
       "      'heightScale': 'linear',\n",
       "      'radiusField': None,\n",
       "      'radiusScale': 'linear'}}],\n",
       "   'interactionConfig': {'tooltip': {'fieldsToShow': {'data': [{'name': 'Distancia a hospitales',\n",
       "        'format': None}]},\n",
       "     'compareMode': False,\n",
       "     'compareType': 'absolute',\n",
       "     'enabled': True},\n",
       "    'brush': {'size': 0.5, 'enabled': False},\n",
       "    'geocoder': {'enabled': False},\n",
       "    'coordinate': {'enabled': False}},\n",
       "   'layerBlending': 'normal',\n",
       "   'splitMaps': [],\n",
       "   'animationConfig': {'currentTime': None, 'speed': 1}},\n",
       "  'mapState': {'bearing': 0,\n",
       "   'dragRotate': False,\n",
       "   'latitude': 21.865922323269984,\n",
       "   'longitude': -102.30626392453544,\n",
       "   'pitch': 0,\n",
       "   'zoom': 8.515158481972351,\n",
       "   'isSplit': False},\n",
       "  'mapStyle': {'styleType': 'cupwmvt',\n",
       "   'topLayerGroups': {},\n",
       "   'visibleLayerGroups': {'label': True, 'road': True, 'water': True},\n",
       "   'threeDBuildingColor': [9.665468314072013,\n",
       "    17.18305478057247,\n",
       "    31.1442867897876],\n",
       "   'mapStyles': {'a2yomtk': {'accessToken': 'pk.eyJ1IjoibmF0ZXJhIiwiYSI6ImNqNXRxcTdsMDFsamUycXBoOTd5NHZxOXYifQ.c3g6rKBuuK3urwqlQEkO2g',\n",
       "     'custom': True,\n",
       "     'icon': 'https://api.mapbox.com/styles/v1/natera/ckuqusx1a0q9218pcb5z1uvcq/static/-122.3391,37.7922,9,0,0/400x300?access_token=pk.eyJ1IjoibmF0ZXJhIiwiYSI6ImNqNXRxcTdsMDFsamUycXBoOTd5NHZxOXYifQ.c3g6rKBuuK3urwqlQEkO2g&logo=false&attribution=false',\n",
       "     'id': 'a2yomtk',\n",
       "     'label': 'Monochrome',\n",
       "     'url': 'mapbox://styles/natera/ckuqusx1a0q9218pcb5z1uvcq'},\n",
       "    'cupwmvt': {'accessToken': 'pk.eyJ1IjoibmF0ZXJhIiwiYSI6ImNqNXRxcTdsMDFsamUycXBoOTd5NHZxOXYifQ.c3g6rKBuuK3urwqlQEkO2g',\n",
       "     'custom': True,\n",
       "     'icon': 'https://api.mapbox.com/styles/v1/natera/ckuqusx1a0q9218pcb5z1uvcq/static/-122.3391,37.7922,9,0,0/400x300?access_token=pk.eyJ1IjoibmF0ZXJhIiwiYSI6ImNqNXRxcTdsMDFsamUycXBoOTd5NHZxOXYifQ.c3g6rKBuuK3urwqlQEkO2g&logo=false&attribution=false',\n",
       "     'id': 'cupwmvt',\n",
       "     'label': 'Monochrome',\n",
       "     'url': 'mapbox://styles/natera/ckuqusx1a0q9218pcb5z1uvcq'}}}}}"
      ]
     },
     "execution_count": 43,
     "metadata": {},
     "output_type": "execute_result"
    }
   ],
   "source": [
    "map_city.config"
   ]
  },
  {
   "cell_type": "code",
   "execution_count": 32,
   "metadata": {},
   "outputs": [
    {
     "name": "stdout",
     "output_type": "stream",
     "text": [
      "Map saved to temp.html!\n"
     ]
    },
    {
     "name": "stderr",
     "output_type": "stream",
     "text": [
      "/Users/natera/miniconda3/envs/ox/lib/python3.8/site-packages/geopandas/geodataframe.py:852: UserWarning: Geometry column does not contain geometry.\n",
      "  warnings.warn(\"Geometry column does not contain geometry.\")\n"
     ]
    }
   ],
   "source": [
    "map_city.save_to_html(data ={\"data\": hex_bins}, file_name=\"temp.html\", read_only=True, config = config)"
   ]
  },
  {
   "cell_type": "code",
   "execution_count": 11,
   "metadata": {},
   "outputs": [],
   "source": [
    "with open('hex_config_2.py', 'w') as f:\n",
    "   f.write('config = {}'.format(map_city.config))"
   ]
  },
  {
   "cell_type": "code",
   "execution_count": null,
   "metadata": {},
   "outputs": [],
   "source": [
    "map_1 = KeplerGl(height=800, config=config)\n",
    "m_m = 83.3\n",
    "for city in cities:\n",
    "    gdf = gpd.read_file(f'../data/processed/{city}_hex_bins.geojson')\n",
    "    gdf['dist_promedio'] = (gdf['dist_farmacias']+gdf['dist_hospitales']+gdf['dist_farmacias'])/3\n",
    "    gdf['min_farmacias'] = gdf['dist_farmacias']/m_m\n",
    "    gdf['min_supermercados'] = gdf['dist_supermercados']/m_m\n",
    "    gdf['min_hospitales'] = gdf['dist_hospitales']/m_m\n",
    "    gdf['tiempo_promedio'] = (gdf['min_hospitales']+gdf['min_supermercados']+gdf['min_farmacias'])/3\n",
    "    map_1.add_data(gdf[gdf['dist_promedio']>0], city)\n",
    "    print(city)\n",
    "map_1"
   ]
  },
  {
   "cell_type": "code",
   "execution_count": null,
   "metadata": {},
   "outputs": [],
   "source": [
    "for i in range(13):\n",
    "    map_1.config['config']['visState']['layers'][i]['config']['visConfig']['opacity']=0.1"
   ]
  },
  {
   "cell_type": "code",
   "execution_count": null,
   "metadata": {},
   "outputs": [],
   "source": [
    "# Save map_1 config to a file\n",
    "with open(f'config_kepler_plot.py', 'w') as f:\n",
    "   f.write('config = {}'.format(map_1.config))"
   ]
  },
  {
   "cell_type": "code",
   "execution_count": null,
   "metadata": {},
   "outputs": [],
   "source": [
    "# load the config\n",
    "%run config_kepler_plot.py"
   ]
  },
  {
   "cell_type": "code",
   "execution_count": null,
   "metadata": {},
   "outputs": [],
   "source": [
    "map_1.save_to_html(file_name=f'../output/html/Mexico_accesibilidad.html', config=config,read_only=False)"
   ]
  },
  {
   "cell_type": "code",
   "execution_count": null,
   "metadata": {},
   "outputs": [],
   "source": [
    "config['config']['visState']['layers'][12]"
   ]
  },
  {
   "cell_type": "code",
   "execution_count": 31,
   "metadata": {},
   "outputs": [
    {
     "data": {
      "text/plain": [
       "{'version': 'v1',\n",
       " 'config': {'visState': {'filters': [],\n",
       "   'layers': [{'id': 'jsx1yd',\n",
       "     'type': 'geojson',\n",
       "     'config': {'dataId': 'data',\n",
       "      'label': 'data',\n",
       "      'color': [231, 159, 213],\n",
       "      'columns': {'geojson': 'geometry'},\n",
       "      'isVisible': True,\n",
       "      'visConfig': {'opacity': 0.35,\n",
       "       'strokeOpacity': 0.05,\n",
       "       'thickness': 0.5,\n",
       "       'strokeColor': [28, 27, 27],\n",
       "       'colorRange': {'name': 'Custom Palette',\n",
       "        'type': 'custom',\n",
       "        'category': 'Custom',\n",
       "        'colors': ['#FAE300', '#FD7900', '#CF1750', '#7A0DA6', '#2C51BE']},\n",
       "       'strokeColorRange': {'name': 'Global Warming',\n",
       "        'type': 'sequential',\n",
       "        'category': 'Uber',\n",
       "        'colors': ['#5A1846',\n",
       "         '#900C3F',\n",
       "         '#C70039',\n",
       "         '#E3611C',\n",
       "         '#F1920E',\n",
       "         '#FFC300']},\n",
       "       'radius': 10,\n",
       "       'sizeRange': [0, 10],\n",
       "       'radiusRange': [0, 50],\n",
       "       'heightRange': [0, 500],\n",
       "       'elevationScale': 5,\n",
       "       'stroked': True,\n",
       "       'filled': True,\n",
       "       'enable3d': False,\n",
       "       'wireframe': False},\n",
       "      'hidden': False,\n",
       "      'textLabel': [{'field': None,\n",
       "        'color': [255, 255, 255],\n",
       "        'size': 18,\n",
       "        'offset': [0, 0],\n",
       "        'anchor': 'start',\n",
       "        'alignment': 'center'}]},\n",
       "     'visualChannels': {'colorField': {'name': 'dist_hospitales',\n",
       "       'type': 'real'},\n",
       "      'colorScale': 'quantile',\n",
       "      'sizeField': None,\n",
       "      'sizeScale': 'linear',\n",
       "      'strokeColorField': None,\n",
       "      'strokeColorScale': 'quantile',\n",
       "      'heightField': {'name': 'dist_farmacia', 'type': 'real'},\n",
       "      'heightScale': 'linear',\n",
       "      'radiusField': None,\n",
       "      'radiusScale': 'linear'}}],\n",
       "   'interactionConfig': {'tooltip': {'fieldsToShow': {'data': [{'name': 'Distancia a hospitales',\n",
       "        'format': None}]},\n",
       "     'compareMode': False,\n",
       "     'compareType': 'absolute',\n",
       "     'enabled': True},\n",
       "    'brush': {'size': 0.5, 'enabled': False},\n",
       "    'geocoder': {'enabled': False},\n",
       "    'coordinate': {'enabled': False}},\n",
       "   'layerBlending': 'normal',\n",
       "   'splitMaps': [],\n",
       "   'animationConfig': {'currentTime': None, 'speed': 1}},\n",
       "  'mapState': {'bearing': 0,\n",
       "   'dragRotate': False,\n",
       "   'latitude': 21.865922323269984,\n",
       "   'longitude': -102.30626392453544,\n",
       "   'pitch': 0,\n",
       "   'zoom': 8.515158481972351,\n",
       "   'isSplit': False},\n",
       "  'mapStyle': {'styleType': 'dark',\n",
       "   'topLayerGroups': {},\n",
       "   'visibleLayerGroups': {'label': True,\n",
       "    'road': True,\n",
       "    'border': False,\n",
       "    'building': True,\n",
       "    'water': True,\n",
       "    'land': True,\n",
       "    '3d building': False},\n",
       "   'threeDBuildingColor': [9.665468314072013,\n",
       "    17.18305478057247,\n",
       "    31.1442867897876],\n",
       "   'mapStyles': {'a2yomtk': {'accessToken': 'pk.eyJ1IjoibmF0ZXJhIiwiYSI6ImNqNXRxcTdsMDFsamUycXBoOTd5NHZxOXYifQ.c3g6rKBuuK3urwqlQEkO2g',\n",
       "     'custom': True,\n",
       "     'icon': 'https://api.mapbox.com/styles/v1/natera/ckuqusx1a0q9218pcb5z1uvcq/static/-122.3391,37.7922,9,0,0/400x300?access_token=pk.eyJ1IjoibmF0ZXJhIiwiYSI6ImNqNXRxcTdsMDFsamUycXBoOTd5NHZxOXYifQ.c3g6rKBuuK3urwqlQEkO2g&logo=false&attribution=false',\n",
       "     'id': 'a2yomtk',\n",
       "     'label': 'Monochrome',\n",
       "     'url': 'mapbox://styles/natera/ckuqusx1a0q9218pcb5z1uvcq'}}}}}"
      ]
     },
     "execution_count": 31,
     "metadata": {},
     "output_type": "execute_result"
    }
   ],
   "source": [
    "config"
   ]
  },
  {
   "cell_type": "code",
   "execution_count": null,
   "metadata": {},
   "outputs": [],
   "source": []
  }
 ],
 "metadata": {
  "kernelspec": {
   "display_name": "Python 3",
   "language": "python",
   "name": "python3"
  },
  "language_info": {
   "codemirror_mode": {
    "name": "ipython",
    "version": 3
   },
   "file_extension": ".py",
   "mimetype": "text/x-python",
   "name": "python",
   "nbconvert_exporter": "python",
   "pygments_lexer": "ipython3",
   "version": "3.8.6"
  }
 },
 "nbformat": 4,
 "nbformat_minor": 4
}
