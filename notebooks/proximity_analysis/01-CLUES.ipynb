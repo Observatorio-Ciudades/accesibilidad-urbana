{
 "cells": [
  {
   "cell_type": "code",
   "execution_count": 163,
   "metadata": {},
   "outputs": [],
   "source": [
    "import pandas as pd\n",
    "import geopandas as gpd\n",
    "import numpy as np\n",
    "from geopy import geocoders\n",
    "import time"
   ]
  },
  {
   "cell_type": "code",
   "execution_count": 164,
   "metadata": {},
   "outputs": [],
   "source": [
    "test = {'latitude': np.nan, 'longitude': np.nan}\n",
    "ser = pd.Series(test)"
   ]
  },
  {
   "cell_type": "code",
   "execution_count": 165,
   "metadata": {},
   "outputs": [
    {
     "data": {
      "text/plain": [
       "nan"
      ]
     },
     "execution_count": 165,
     "metadata": {},
     "output_type": "execute_result"
    }
   ],
   "source": [
    "ser.latitude"
   ]
  },
  {
   "cell_type": "code",
   "execution_count": 166,
   "metadata": {},
   "outputs": [
    {
     "data": {
      "text/plain": [
       "latitude    NaN\n",
       "longitude   NaN\n",
       "dtype: float64"
      ]
     },
     "execution_count": 166,
     "metadata": {},
     "output_type": "execute_result"
    }
   ],
   "source": [
    "ser"
   ]
  },
  {
   "cell_type": "code",
   "execution_count": 167,
   "metadata": {},
   "outputs": [],
   "source": [
    "def get_location_by_address(address):\n",
    "    \"\"\"This function returns a location as raw from an address\n",
    "    will repeat until success\"\"\"\n",
    "    geolocator = geocoders.GoogleV3(api_key=\"\") #INSERT API KEY HERE\n",
    "    location = geolocator.geocode(address, timeout = 10)\n",
    "    if location is not None:\n",
    "        return location\n",
    "    else:\n",
    "        test = {'latitude': np.nan, 'longitude': np.nan}\n",
    "        ser = pd.Series(test)\n",
    "        return ser"
   ]
  },
  {
   "cell_type": "markdown",
   "metadata": {},
   "source": [
    "## Read raw CLUES database"
   ]
  },
  {
   "cell_type": "code",
   "execution_count": 168,
   "metadata": {},
   "outputs": [
    {
     "name": "stdout",
     "output_type": "stream",
     "text": [
      "(41753, 82)\n"
     ]
    },
    {
     "name": "stderr",
     "output_type": "stream",
     "text": [
      "/opt/conda/lib/python3.9/site-packages/IPython/core/interactiveshell.py:3444: DtypeWarning: Columns (32,43,44,45,46) have mixed types.Specify dtype option on import or set low_memory=False.\n",
      "  exec(code_obj, self.user_global_ns, self.user_ns)\n"
     ]
    },
    {
     "data": {
      "text/html": [
       "<div>\n",
       "<style scoped>\n",
       "    .dataframe tbody tr th:only-of-type {\n",
       "        vertical-align: middle;\n",
       "    }\n",
       "\n",
       "    .dataframe tbody tr th {\n",
       "        vertical-align: top;\n",
       "    }\n",
       "\n",
       "    .dataframe thead th {\n",
       "        text-align: right;\n",
       "    }\n",
       "</style>\n",
       "<table border=\"1\" class=\"dataframe\">\n",
       "  <thead>\n",
       "    <tr style=\"text-align: right;\">\n",
       "      <th></th>\n",
       "      <th>ï»¿id</th>\n",
       "      <th>clues</th>\n",
       "      <th>nombre_de_la_entidad</th>\n",
       "      <th>clave_de_la_entidad</th>\n",
       "      <th>nombre_del_municipio</th>\n",
       "      <th>clave_del_municipio</th>\n",
       "      <th>nombre_de_la_localidad</th>\n",
       "      <th>clave_de_la_localidad</th>\n",
       "      <th>nombre_de_la_jurisdiccion</th>\n",
       "      <th>clave_de_la_jurisdiccion</th>\n",
       "      <th>...</th>\n",
       "      <th>clave_tipo_obra</th>\n",
       "      <th>horario_de_atencion</th>\n",
       "      <th>areas_y_servicios</th>\n",
       "      <th>ultimo_movimiento</th>\n",
       "      <th>fecha_ultimo_movimiento</th>\n",
       "      <th>motivo_baja</th>\n",
       "      <th>fecha_efectiva_de_baja</th>\n",
       "      <th>certificacion_csg</th>\n",
       "      <th>tipo_certificacion</th>\n",
       "      <th>vigencia_certificacion</th>\n",
       "    </tr>\n",
       "  </thead>\n",
       "  <tbody>\n",
       "    <tr>\n",
       "      <th>0</th>\n",
       "      <td>9702</td>\n",
       "      <td>HGSMP000490</td>\n",
       "      <td>HIDALGO</td>\n",
       "      <td>13</td>\n",
       "      <td>CHILCUAUTLA</td>\n",
       "      <td>19</td>\n",
       "      <td>CHILCUAUTLA</td>\n",
       "      <td>1</td>\n",
       "      <td>IXMIQUILPAN</td>\n",
       "      <td>6</td>\n",
       "      <td>...</td>\n",
       "      <td>6.0</td>\n",
       "      <td>NaN</td>\n",
       "      <td>NaN</td>\n",
       "      <td>CAMBIO</td>\n",
       "      <td>2016-05-25</td>\n",
       "      <td>NaN</td>\n",
       "      <td>NaN</td>\n",
       "      <td>NO CERTIFICADO</td>\n",
       "      <td>NO ESPECIFICADO</td>\n",
       "      <td>NaN</td>\n",
       "    </tr>\n",
       "    <tr>\n",
       "      <th>1</th>\n",
       "      <td>74814</td>\n",
       "      <td>ASSMP000955</td>\n",
       "      <td>AGUASCALIENTES</td>\n",
       "      <td>1</td>\n",
       "      <td>AGUASCALIENTES</td>\n",
       "      <td>1</td>\n",
       "      <td>AGUASCALIENTES</td>\n",
       "      <td>1</td>\n",
       "      <td>AGUASCALIENTES</td>\n",
       "      <td>1</td>\n",
       "      <td>...</td>\n",
       "      <td>6.0</td>\n",
       "      <td>NaN</td>\n",
       "      <td>NaN</td>\n",
       "      <td>ALTA</td>\n",
       "      <td>2021-03-10</td>\n",
       "      <td>NaN</td>\n",
       "      <td>NaN</td>\n",
       "      <td>NO CERTIFICADO</td>\n",
       "      <td>NO ESPECIFICADO</td>\n",
       "      <td>NaN</td>\n",
       "    </tr>\n",
       "    <tr>\n",
       "      <th>2</th>\n",
       "      <td>74815</td>\n",
       "      <td>BCSMP005862</td>\n",
       "      <td>BAJA CALIFORNIA</td>\n",
       "      <td>2</td>\n",
       "      <td>MEXICALI</td>\n",
       "      <td>2</td>\n",
       "      <td>MEXICALI</td>\n",
       "      <td>1</td>\n",
       "      <td>MEXICALI</td>\n",
       "      <td>1</td>\n",
       "      <td>...</td>\n",
       "      <td>6.0</td>\n",
       "      <td>NaN</td>\n",
       "      <td>NaN</td>\n",
       "      <td>ALTA</td>\n",
       "      <td>2021-03-10</td>\n",
       "      <td>NaN</td>\n",
       "      <td>NaN</td>\n",
       "      <td>NO CERTIFICADO</td>\n",
       "      <td>NO ESPECIFICADO</td>\n",
       "      <td>NaN</td>\n",
       "    </tr>\n",
       "  </tbody>\n",
       "</table>\n",
       "<p>3 rows × 82 columns</p>\n",
       "</div>"
      ],
      "text/plain": [
       "   ï»¿id        clues nombre_de_la_entidad  clave_de_la_entidad  \\\n",
       "0   9702  HGSMP000490              HIDALGO                   13   \n",
       "1  74814  ASSMP000955       AGUASCALIENTES                    1   \n",
       "2  74815  BCSMP005862      BAJA CALIFORNIA                    2   \n",
       "\n",
       "  nombre_del_municipio  clave_del_municipio nombre_de_la_localidad  \\\n",
       "0          CHILCUAUTLA                   19            CHILCUAUTLA   \n",
       "1       AGUASCALIENTES                    1         AGUASCALIENTES   \n",
       "2             MEXICALI                    2               MEXICALI   \n",
       "\n",
       "   clave_de_la_localidad nombre_de_la_jurisdiccion  clave_de_la_jurisdiccion  \\\n",
       "0                      1               IXMIQUILPAN                         6   \n",
       "1                      1            AGUASCALIENTES                         1   \n",
       "2                      1                  MEXICALI                         1   \n",
       "\n",
       "   ... clave_tipo_obra horario_de_atencion areas_y_servicios  \\\n",
       "0  ...             6.0                 NaN               NaN   \n",
       "1  ...             6.0                 NaN               NaN   \n",
       "2  ...             6.0                 NaN               NaN   \n",
       "\n",
       "   ultimo_movimiento fecha_ultimo_movimiento motivo_baja  \\\n",
       "0             CAMBIO              2016-05-25         NaN   \n",
       "1               ALTA              2021-03-10         NaN   \n",
       "2               ALTA              2021-03-10         NaN   \n",
       "\n",
       "  fecha_efectiva_de_baja certificacion_csg  tipo_certificacion  \\\n",
       "0                    NaN    NO CERTIFICADO     NO ESPECIFICADO   \n",
       "1                    NaN    NO CERTIFICADO     NO ESPECIFICADO   \n",
       "2                    NaN    NO CERTIFICADO     NO ESPECIFICADO   \n",
       "\n",
       "  vigencia_certificacion  \n",
       "0                    NaN  \n",
       "1                    NaN  \n",
       "2                    NaN  \n",
       "\n",
       "[3 rows x 82 columns]"
      ]
     },
     "execution_count": 168,
     "metadata": {},
     "output_type": "execute_result"
    }
   ],
   "source": [
    "df = pd.read_csv('/home/jovyan/work/data/external/CLUES_csv.csv', encoding='ISO-8859-1')\n",
    "df.columns= df.columns.str.lower()\n",
    "df.columns = df.columns.str.replace(\" \", \"_\")\n",
    "print(df.shape)\n",
    "df.head(3)"
   ]
  },
  {
   "cell_type": "code",
   "execution_count": 169,
   "metadata": {},
   "outputs": [
    {
     "name": "stdout",
     "output_type": "stream",
     "text": [
      "Number of CLUES =  41753\n"
     ]
    }
   ],
   "source": [
    "print('Number of CLUES = ', len(df))"
   ]
  },
  {
   "cell_type": "code",
   "execution_count": 170,
   "metadata": {},
   "outputs": [
    {
     "name": "stdout",
     "output_type": "stream",
     "text": [
      "Missing:  longitud    884\n",
      "dtype: int64 latitud    884\n",
      "dtype: int64\n"
     ]
    }
   ],
   "source": [
    "missingx = df[['longitud']].isna().sum()\n",
    "missingy = df[['latitud']].isna().sum()\n",
    "\n",
    "print('Missing: ', missingx, missingy)"
   ]
  },
  {
   "cell_type": "code",
   "execution_count": 171,
   "metadata": {},
   "outputs": [],
   "source": [
    "#Filter CLUES, take out those not in operation. Keep Only in Operation and pending.\n",
    "df1 = df[df['estatus_de_operacion']== 'EN OPERACION']\n",
    "df2 = df[df['estatus_de_operacion']== 'PENDIENTE DE ENTRAR EN OPERACION']\n",
    "clues = df1.append(df2)"
   ]
  },
  {
   "cell_type": "code",
   "execution_count": 172,
   "metadata": {},
   "outputs": [
    {
     "name": "stdout",
     "output_type": "stream",
     "text": [
      "CLUES in operation: 35814 CLUES pending: 40 TOTAL: 35854\n"
     ]
    }
   ],
   "source": [
    "print('CLUES in operation: ' + str(len(df1)) + ' CLUES pending: ' +str(len(df2)) + ' TOTAL: ' + str(len(clues)))"
   ]
  },
  {
   "cell_type": "code",
   "execution_count": 173,
   "metadata": {},
   "outputs": [
    {
     "data": {
      "text/html": [
       "<div>\n",
       "<style scoped>\n",
       "    .dataframe tbody tr th:only-of-type {\n",
       "        vertical-align: middle;\n",
       "    }\n",
       "\n",
       "    .dataframe tbody tr th {\n",
       "        vertical-align: top;\n",
       "    }\n",
       "\n",
       "    .dataframe thead th {\n",
       "        text-align: right;\n",
       "    }\n",
       "</style>\n",
       "<table border=\"1\" class=\"dataframe\">\n",
       "  <thead>\n",
       "    <tr style=\"text-align: right;\">\n",
       "      <th></th>\n",
       "      <th>ï»¿id</th>\n",
       "      <th>nombre_de_la_entidad</th>\n",
       "      <th>clave_de_la_entidad</th>\n",
       "      <th>nombre_del_municipio</th>\n",
       "      <th>clave_del_municipio</th>\n",
       "      <th>nombre_de_la_localidad</th>\n",
       "      <th>clave_de_la_localidad</th>\n",
       "      <th>nombre_de_la_jurisdiccion</th>\n",
       "      <th>clave_de_la_jurisdiccion</th>\n",
       "      <th>nombre_de_la_institucion</th>\n",
       "      <th>...</th>\n",
       "      <th>clave_tipo_obra</th>\n",
       "      <th>horario_de_atencion</th>\n",
       "      <th>areas_y_servicios</th>\n",
       "      <th>ultimo_movimiento</th>\n",
       "      <th>fecha_ultimo_movimiento</th>\n",
       "      <th>motivo_baja</th>\n",
       "      <th>fecha_efectiva_de_baja</th>\n",
       "      <th>certificacion_csg</th>\n",
       "      <th>tipo_certificacion</th>\n",
       "      <th>vigencia_certificacion</th>\n",
       "    </tr>\n",
       "    <tr>\n",
       "      <th>clues</th>\n",
       "      <th></th>\n",
       "      <th></th>\n",
       "      <th></th>\n",
       "      <th></th>\n",
       "      <th></th>\n",
       "      <th></th>\n",
       "      <th></th>\n",
       "      <th></th>\n",
       "      <th></th>\n",
       "      <th></th>\n",
       "      <th></th>\n",
       "      <th></th>\n",
       "      <th></th>\n",
       "      <th></th>\n",
       "      <th></th>\n",
       "      <th></th>\n",
       "      <th></th>\n",
       "      <th></th>\n",
       "      <th></th>\n",
       "      <th></th>\n",
       "      <th></th>\n",
       "    </tr>\n",
       "  </thead>\n",
       "  <tbody>\n",
       "    <tr>\n",
       "      <th>HGSMP000490</th>\n",
       "      <td>9702</td>\n",
       "      <td>HIDALGO</td>\n",
       "      <td>13</td>\n",
       "      <td>CHILCUAUTLA</td>\n",
       "      <td>19</td>\n",
       "      <td>CHILCUAUTLA</td>\n",
       "      <td>1</td>\n",
       "      <td>IXMIQUILPAN</td>\n",
       "      <td>6</td>\n",
       "      <td>SERVICIOS MEDICOS PRIVADOS</td>\n",
       "      <td>...</td>\n",
       "      <td>6.0</td>\n",
       "      <td>NaN</td>\n",
       "      <td>NaN</td>\n",
       "      <td>CAMBIO</td>\n",
       "      <td>2016-05-25</td>\n",
       "      <td>NaN</td>\n",
       "      <td>NaN</td>\n",
       "      <td>NO CERTIFICADO</td>\n",
       "      <td>NO ESPECIFICADO</td>\n",
       "      <td>NaN</td>\n",
       "    </tr>\n",
       "    <tr>\n",
       "      <th>ASSMP000955</th>\n",
       "      <td>74814</td>\n",
       "      <td>AGUASCALIENTES</td>\n",
       "      <td>1</td>\n",
       "      <td>AGUASCALIENTES</td>\n",
       "      <td>1</td>\n",
       "      <td>AGUASCALIENTES</td>\n",
       "      <td>1</td>\n",
       "      <td>AGUASCALIENTES</td>\n",
       "      <td>1</td>\n",
       "      <td>SERVICIOS MEDICOS PRIVADOS</td>\n",
       "      <td>...</td>\n",
       "      <td>6.0</td>\n",
       "      <td>NaN</td>\n",
       "      <td>NaN</td>\n",
       "      <td>ALTA</td>\n",
       "      <td>2021-03-10</td>\n",
       "      <td>NaN</td>\n",
       "      <td>NaN</td>\n",
       "      <td>NO CERTIFICADO</td>\n",
       "      <td>NO ESPECIFICADO</td>\n",
       "      <td>NaN</td>\n",
       "    </tr>\n",
       "  </tbody>\n",
       "</table>\n",
       "<p>2 rows × 81 columns</p>\n",
       "</div>"
      ],
      "text/plain": [
       "             ï»¿id nombre_de_la_entidad  clave_de_la_entidad  \\\n",
       "clues                                                          \n",
       "HGSMP000490   9702              HIDALGO                   13   \n",
       "ASSMP000955  74814       AGUASCALIENTES                    1   \n",
       "\n",
       "            nombre_del_municipio  clave_del_municipio nombre_de_la_localidad  \\\n",
       "clues                                                                          \n",
       "HGSMP000490          CHILCUAUTLA                   19            CHILCUAUTLA   \n",
       "ASSMP000955       AGUASCALIENTES                    1         AGUASCALIENTES   \n",
       "\n",
       "             clave_de_la_localidad nombre_de_la_jurisdiccion  \\\n",
       "clues                                                          \n",
       "HGSMP000490                      1               IXMIQUILPAN   \n",
       "ASSMP000955                      1            AGUASCALIENTES   \n",
       "\n",
       "             clave_de_la_jurisdiccion    nombre_de_la_institucion  ...  \\\n",
       "clues                                                              ...   \n",
       "HGSMP000490                         6  SERVICIOS MEDICOS PRIVADOS  ...   \n",
       "ASSMP000955                         1  SERVICIOS MEDICOS PRIVADOS  ...   \n",
       "\n",
       "            clave_tipo_obra horario_de_atencion  areas_y_servicios  \\\n",
       "clues                                                                \n",
       "HGSMP000490             6.0                 NaN                NaN   \n",
       "ASSMP000955             6.0                 NaN                NaN   \n",
       "\n",
       "            ultimo_movimiento fecha_ultimo_movimiento motivo_baja  \\\n",
       "clues                                                               \n",
       "HGSMP000490            CAMBIO              2016-05-25         NaN   \n",
       "ASSMP000955              ALTA              2021-03-10         NaN   \n",
       "\n",
       "            fecha_efectiva_de_baja  certificacion_csg tipo_certificacion  \\\n",
       "clues                                                                      \n",
       "HGSMP000490                    NaN     NO CERTIFICADO    NO ESPECIFICADO   \n",
       "ASSMP000955                    NaN     NO CERTIFICADO    NO ESPECIFICADO   \n",
       "\n",
       "             vigencia_certificacion  \n",
       "clues                                \n",
       "HGSMP000490                     NaN  \n",
       "ASSMP000955                     NaN  \n",
       "\n",
       "[2 rows x 81 columns]"
      ]
     },
     "execution_count": 173,
     "metadata": {},
     "output_type": "execute_result"
    }
   ],
   "source": [
    "clues = clues.set_index('clues')\n",
    "clues.head(2)"
   ]
  },
  {
   "cell_type": "code",
   "execution_count": 174,
   "metadata": {},
   "outputs": [],
   "source": [
    "clues_w = clues[clues['longitud']<= -100]\n",
    "clues_e = clues[clues['longitud']> -100]\n",
    "clues_nan = clues[clues['longitud'].isna()]\n",
    "clues_nan2 = clues[clues['latitud'].isna()]"
   ]
  },
  {
   "cell_type": "code",
   "execution_count": 175,
   "metadata": {},
   "outputs": [
    {
     "data": {
      "text/plain": [
       "True"
      ]
     },
     "execution_count": 175,
     "metadata": {},
     "output_type": "execute_result"
    }
   ],
   "source": [
    "clues_nan.equals(clues_nan2)"
   ]
  },
  {
   "cell_type": "code",
   "execution_count": 176,
   "metadata": {},
   "outputs": [],
   "source": [
    "countx = 0\n",
    "county = 0\n",
    "missing = pd.DataFrame()\n",
    "complete = pd.DataFrame()\n",
    "for idx,row in clues_w.iterrows():\n",
    "    x = len(str(clues.loc[ idx, 'longitud']))\n",
    "    if x< 8:\n",
    "        countx = countx+1\n",
    "    y = len(str(clues.loc[ idx, 'latitud']))\n",
    "    if y< 6:\n",
    "        county = county+1\n",
    "    if x<8 or y<6:\n",
    "        app = clues.loc[[idx]]\n",
    "        missing = missing.append(app)\n",
    "    if x>=8 and y>=6:\n",
    "        comp = clues.loc[[idx]]\n",
    "        complete = complete.append(comp)"
   ]
  },
  {
   "cell_type": "code",
   "execution_count": 177,
   "metadata": {},
   "outputs": [],
   "source": [
    "for idx,row in clues_e.iterrows():\n",
    "    x = len(str(clues.loc[ idx, 'longitud']))\n",
    "    if x< 8:\n",
    "        countx = countx+1\n",
    "    y = len(str(clues.loc[ idx, 'latitud']))\n",
    "    if y< 6:\n",
    "        county = county+1\n",
    "    if x<7 or y<6:\n",
    "        app = clues.loc[[idx]]\n",
    "        missing = missing.append(app)\n",
    "    if x>=7 and y>=6:\n",
    "        comp = clues.loc[[idx]]\n",
    "        complete = complete.append(comp)"
   ]
  },
  {
   "cell_type": "code",
   "execution_count": 178,
   "metadata": {},
   "outputs": [],
   "source": [
    "missing = missing.append(clues_nan)"
   ]
  },
  {
   "cell_type": "code",
   "execution_count": 179,
   "metadata": {},
   "outputs": [
    {
     "name": "stdout",
     "output_type": "stream",
     "text": [
      "TOT: 35854 MISSING: 1287 COMPLETE: 34567\n"
     ]
    }
   ],
   "source": [
    "print('TOT: ' + str(len(clues)) + ' MISSING: ' + str(len(missing)) + ' COMPLETE: ' + str(len(complete)))"
   ]
  },
  {
   "cell_type": "code",
   "execution_count": 180,
   "metadata": {},
   "outputs": [
    {
     "data": {
      "text/plain": [
       "35854"
      ]
     },
     "execution_count": 180,
     "metadata": {},
     "output_type": "execute_result"
    }
   ],
   "source": [
    "len(missing) + len(complete)"
   ]
  },
  {
   "cell_type": "code",
   "execution_count": 181,
   "metadata": {},
   "outputs": [],
   "source": [
    "complete['address'] = (complete['numero_exterior'] + ' ' + complete['vialidad'] +  ', ' + \n",
    "    complete['nombre_del_municipio'] + ', ' + complete['nombre_de_la_entidad']\n",
    "     + ', MEXICO')\n",
    "missing['address'] = (missing['numero_exterior'] + ' ' + missing['vialidad'] +  ', ' + \n",
    "    missing['nombre_del_municipio'] + ', ' + missing['nombre_de_la_entidad']\n",
    "     + ', MEXICO')"
   ]
  },
  {
   "cell_type": "code",
   "execution_count": 182,
   "metadata": {},
   "outputs": [
    {
     "name": "stdout",
     "output_type": "stream",
     "text": [
      "CLUES with coordinates: 34567 CLUES without coordinates or lack of precision: 1287\n"
     ]
    }
   ],
   "source": [
    "print ('CLUES with coordinates: ' + str(len(complete)) + \n",
    "    ' CLUES without coordinates or lack of precision: ' + str(len(missing)))"
   ]
  },
  {
   "cell_type": "code",
   "execution_count": 183,
   "metadata": {},
   "outputs": [
    {
     "name": "stdout",
     "output_type": "stream",
     "text": [
      "Missing CLUES with a valid address to look for: 585\n"
     ]
    }
   ],
   "source": [
    "missingvalid = missing[missing['address'].notna()]\n",
    "print ('Missing CLUES with a valid address to look for: ' + str(len(missingvalid)))"
   ]
  },
  {
   "cell_type": "code",
   "execution_count": 184,
   "metadata": {},
   "outputs": [
    {
     "data": {
      "text/plain": [
       "252"
      ]
     },
     "execution_count": 184,
     "metadata": {},
     "output_type": "execute_result"
    }
   ],
   "source": [
    "len(missingvalid[missingvalid['longitud'].isna()])"
   ]
  },
  {
   "cell_type": "code",
   "execution_count": 217,
   "metadata": {},
   "outputs": [
    {
     "data": {
      "text/plain": [
       "20.619997"
      ]
     },
     "execution_count": 217,
     "metadata": {},
     "output_type": "execute_result"
    }
   ],
   "source": [
    "complete.latitud.CHSDN000043"
   ]
  },
  {
   "cell_type": "code",
   "execution_count": 187,
   "metadata": {},
   "outputs": [],
   "source": [
    "finderror = missingvalid.copy()\n",
    "finderror.reset_index(inplace = True)"
   ]
  },
  {
   "cell_type": "code",
   "execution_count": 188,
   "metadata": {},
   "outputs": [
    {
     "data": {
      "text/plain": [
       "'POSTE NO.26 NInOS HeROES, EL FUERTE, SINALOA, MEXICO'"
      ]
     },
     "execution_count": 188,
     "metadata": {},
     "output_type": "execute_result"
    }
   ],
   "source": [
    "finderror.loc[135, 'address']"
   ]
  },
  {
   "cell_type": "code",
   "execution_count": 189,
   "metadata": {},
   "outputs": [
    {
     "name": "stderr",
     "output_type": "stream",
     "text": [
      "/opt/conda/lib/python3.9/site-packages/pandas/core/indexing.py:1817: SettingWithCopyWarning: \n",
      "A value is trying to be set on a copy of a slice from a DataFrame.\n",
      "Try using .loc[row_indexer,col_indexer] = value instead\n",
      "\n",
      "See the caveats in the documentation: https://pandas.pydata.org/pandas-docs/stable/user_guide/indexing.html#returning-a-view-versus-a-copy\n",
      "  self._setitem_single_column(loc, value, pi)\n"
     ]
    },
    {
     "name": "stdout",
     "output_type": "stream",
     "text": [
      "1/585\n",
      "2/585\n",
      "3/585\n",
      "4/585\n",
      "5/585\n",
      "6/585\n",
      "7/585\n",
      "8/585\n",
      "9/585\n",
      "10/585\n",
      "11/585\n",
      "12/585\n",
      "13/585\n",
      "14/585\n",
      "15/585\n",
      "16/585\n",
      "17/585\n",
      "18/585\n",
      "19/585\n",
      "20/585\n",
      "21/585\n",
      "22/585\n",
      "23/585\n",
      "24/585\n",
      "25/585\n",
      "26/585\n",
      "27/585\n",
      "28/585\n",
      "29/585\n",
      "30/585\n",
      "31/585\n",
      "32/585\n",
      "33/585\n",
      "34/585\n",
      "35/585\n",
      "36/585\n",
      "37/585\n",
      "38/585\n",
      "39/585\n",
      "40/585\n",
      "41/585\n",
      "42/585\n",
      "43/585\n",
      "44/585\n",
      "45/585\n",
      "46/585\n",
      "47/585\n",
      "48/585\n",
      "49/585\n",
      "50/585\n",
      "51/585\n",
      "52/585\n",
      "53/585\n",
      "54/585\n",
      "55/585\n",
      "56/585\n",
      "57/585\n",
      "58/585\n",
      "59/585\n",
      "60/585\n",
      "61/585\n",
      "62/585\n",
      "63/585\n",
      "64/585\n",
      "65/585\n",
      "66/585\n",
      "67/585\n",
      "68/585\n",
      "69/585\n",
      "70/585\n",
      "71/585\n",
      "72/585\n",
      "73/585\n",
      "74/585\n",
      "75/585\n",
      "76/585\n",
      "77/585\n",
      "78/585\n",
      "79/585\n",
      "80/585\n",
      "81/585\n",
      "82/585\n",
      "83/585\n",
      "84/585\n",
      "85/585\n",
      "86/585\n",
      "87/585\n",
      "88/585\n",
      "89/585\n",
      "90/585\n",
      "91/585\n",
      "92/585\n",
      "93/585\n",
      "94/585\n",
      "95/585\n",
      "96/585\n",
      "97/585\n",
      "98/585\n",
      "99/585\n",
      "100/585\n",
      "101/585\n",
      "102/585\n",
      "103/585\n",
      "104/585\n",
      "105/585\n",
      "106/585\n",
      "107/585\n",
      "108/585\n",
      "109/585\n",
      "110/585\n",
      "111/585\n",
      "112/585\n",
      "113/585\n",
      "114/585\n",
      "115/585\n",
      "116/585\n",
      "117/585\n",
      "118/585\n",
      "119/585\n",
      "120/585\n",
      "121/585\n",
      "122/585\n",
      "123/585\n",
      "124/585\n",
      "125/585\n",
      "126/585\n",
      "127/585\n",
      "128/585\n",
      "129/585\n",
      "130/585\n",
      "131/585\n",
      "132/585\n",
      "133/585\n",
      "134/585\n",
      "135/585\n",
      "136/585\n",
      "137/585\n",
      "138/585\n",
      "139/585\n",
      "140/585\n",
      "141/585\n",
      "142/585\n",
      "143/585\n",
      "144/585\n",
      "145/585\n",
      "146/585\n",
      "147/585\n",
      "148/585\n",
      "149/585\n",
      "150/585\n",
      "151/585\n",
      "152/585\n",
      "153/585\n",
      "154/585\n",
      "155/585\n",
      "156/585\n",
      "157/585\n",
      "158/585\n",
      "159/585\n",
      "160/585\n",
      "161/585\n",
      "162/585\n",
      "163/585\n",
      "164/585\n",
      "165/585\n",
      "166/585\n",
      "167/585\n",
      "168/585\n",
      "169/585\n",
      "170/585\n",
      "171/585\n",
      "172/585\n",
      "173/585\n",
      "174/585\n",
      "175/585\n",
      "176/585\n",
      "177/585\n",
      "178/585\n",
      "179/585\n",
      "180/585\n",
      "181/585\n",
      "182/585\n",
      "183/585\n",
      "184/585\n",
      "185/585\n",
      "186/585\n",
      "187/585\n",
      "188/585\n",
      "189/585\n",
      "190/585\n",
      "191/585\n",
      "192/585\n",
      "193/585\n",
      "194/585\n",
      "195/585\n",
      "196/585\n",
      "197/585\n",
      "198/585\n",
      "199/585\n",
      "200/585\n",
      "201/585\n",
      "202/585\n",
      "203/585\n",
      "204/585\n",
      "205/585\n",
      "206/585\n",
      "207/585\n",
      "208/585\n",
      "209/585\n",
      "210/585\n",
      "211/585\n",
      "212/585\n",
      "213/585\n",
      "214/585\n",
      "215/585\n",
      "216/585\n",
      "217/585\n",
      "218/585\n",
      "219/585\n",
      "220/585\n",
      "221/585\n",
      "222/585\n",
      "223/585\n",
      "224/585\n",
      "225/585\n",
      "226/585\n",
      "227/585\n",
      "228/585\n",
      "229/585\n",
      "230/585\n",
      "231/585\n",
      "232/585\n",
      "233/585\n",
      "234/585\n",
      "235/585\n",
      "236/585\n",
      "237/585\n",
      "238/585\n",
      "239/585\n",
      "240/585\n",
      "241/585\n",
      "242/585\n",
      "243/585\n",
      "244/585\n",
      "245/585\n",
      "246/585\n",
      "247/585\n",
      "248/585\n",
      "249/585\n",
      "250/585\n",
      "251/585\n",
      "252/585\n",
      "253/585\n",
      "254/585\n",
      "255/585\n",
      "256/585\n",
      "257/585\n",
      "258/585\n",
      "259/585\n",
      "260/585\n",
      "261/585\n",
      "262/585\n",
      "263/585\n",
      "264/585\n",
      "265/585\n",
      "266/585\n",
      "267/585\n",
      "268/585\n",
      "269/585\n",
      "270/585\n",
      "271/585\n",
      "272/585\n",
      "273/585\n",
      "274/585\n",
      "275/585\n",
      "276/585\n",
      "277/585\n",
      "278/585\n",
      "279/585\n",
      "280/585\n",
      "281/585\n",
      "282/585\n",
      "283/585\n",
      "284/585\n",
      "285/585\n",
      "286/585\n",
      "287/585\n",
      "288/585\n",
      "289/585\n",
      "290/585\n",
      "291/585\n",
      "292/585\n",
      "293/585\n",
      "294/585\n",
      "295/585\n",
      "296/585\n",
      "297/585\n",
      "298/585\n",
      "299/585\n",
      "300/585\n",
      "301/585\n",
      "302/585\n",
      "303/585\n",
      "304/585\n",
      "305/585\n",
      "306/585\n",
      "307/585\n",
      "308/585\n",
      "309/585\n",
      "310/585\n",
      "311/585\n",
      "312/585\n",
      "313/585\n",
      "314/585\n",
      "315/585\n",
      "316/585\n",
      "317/585\n",
      "318/585\n",
      "319/585\n",
      "320/585\n",
      "321/585\n",
      "322/585\n",
      "323/585\n",
      "324/585\n",
      "325/585\n",
      "326/585\n",
      "327/585\n",
      "328/585\n",
      "329/585\n",
      "330/585\n",
      "331/585\n",
      "332/585\n",
      "333/585\n",
      "334/585\n",
      "335/585\n",
      "336/585\n",
      "337/585\n",
      "338/585\n",
      "339/585\n",
      "340/585\n",
      "341/585\n",
      "342/585\n",
      "343/585\n",
      "344/585\n",
      "345/585\n",
      "346/585\n",
      "347/585\n",
      "348/585\n",
      "349/585\n",
      "350/585\n",
      "351/585\n",
      "352/585\n",
      "353/585\n",
      "354/585\n",
      "355/585\n",
      "356/585\n",
      "357/585\n",
      "358/585\n",
      "359/585\n",
      "360/585\n",
      "361/585\n",
      "362/585\n",
      "363/585\n",
      "364/585\n",
      "365/585\n",
      "366/585\n",
      "367/585\n",
      "368/585\n",
      "369/585\n",
      "370/585\n",
      "371/585\n",
      "372/585\n",
      "373/585\n",
      "374/585\n",
      "375/585\n",
      "376/585\n",
      "377/585\n",
      "378/585\n",
      "379/585\n",
      "380/585\n",
      "381/585\n",
      "382/585\n",
      "383/585\n",
      "384/585\n",
      "385/585\n",
      "386/585\n",
      "387/585\n",
      "388/585\n",
      "389/585\n",
      "390/585\n",
      "391/585\n",
      "392/585\n",
      "393/585\n",
      "394/585\n",
      "395/585\n",
      "396/585\n",
      "397/585\n",
      "398/585\n",
      "399/585\n",
      "400/585\n",
      "401/585\n",
      "402/585\n",
      "403/585\n",
      "404/585\n",
      "405/585\n",
      "406/585\n",
      "407/585\n",
      "408/585\n",
      "409/585\n",
      "410/585\n",
      "411/585\n",
      "412/585\n",
      "413/585\n",
      "414/585\n",
      "415/585\n",
      "416/585\n",
      "417/585\n",
      "418/585\n",
      "419/585\n",
      "420/585\n",
      "421/585\n",
      "422/585\n",
      "423/585\n",
      "424/585\n",
      "425/585\n",
      "426/585\n",
      "427/585\n",
      "428/585\n",
      "429/585\n",
      "430/585\n",
      "431/585\n",
      "432/585\n",
      "433/585\n",
      "434/585\n",
      "435/585\n",
      "436/585\n",
      "437/585\n",
      "438/585\n",
      "439/585\n",
      "440/585\n",
      "441/585\n",
      "442/585\n",
      "443/585\n",
      "444/585\n",
      "445/585\n",
      "446/585\n",
      "447/585\n",
      "448/585\n",
      "449/585\n",
      "450/585\n",
      "451/585\n",
      "452/585\n",
      "453/585\n",
      "454/585\n",
      "455/585\n",
      "456/585\n",
      "457/585\n",
      "458/585\n",
      "459/585\n",
      "460/585\n",
      "461/585\n",
      "462/585\n",
      "463/585\n",
      "464/585\n",
      "465/585\n",
      "466/585\n",
      "467/585\n",
      "468/585\n",
      "469/585\n",
      "470/585\n",
      "471/585\n",
      "472/585\n",
      "473/585\n",
      "474/585\n",
      "475/585\n",
      "476/585\n",
      "477/585\n",
      "478/585\n",
      "479/585\n",
      "480/585\n",
      "481/585\n",
      "482/585\n",
      "483/585\n",
      "484/585\n",
      "485/585\n",
      "486/585\n",
      "487/585\n",
      "488/585\n",
      "489/585\n",
      "490/585\n",
      "491/585\n",
      "492/585\n",
      "493/585\n",
      "494/585\n",
      "495/585\n",
      "496/585\n",
      "497/585\n",
      "498/585\n",
      "499/585\n",
      "500/585\n",
      "501/585\n",
      "502/585\n",
      "503/585\n",
      "504/585\n",
      "505/585\n",
      "506/585\n",
      "507/585\n",
      "508/585\n",
      "509/585\n",
      "510/585\n",
      "511/585\n",
      "512/585\n",
      "513/585\n",
      "514/585\n",
      "515/585\n",
      "516/585\n",
      "517/585\n",
      "518/585\n",
      "519/585\n",
      "520/585\n",
      "521/585\n",
      "522/585\n",
      "523/585\n",
      "524/585\n",
      "525/585\n",
      "526/585\n",
      "527/585\n",
      "528/585\n",
      "529/585\n",
      "530/585\n",
      "531/585\n",
      "532/585\n",
      "533/585\n",
      "534/585\n",
      "535/585\n",
      "536/585\n",
      "537/585\n",
      "538/585\n",
      "539/585\n",
      "540/585\n",
      "541/585\n",
      "542/585\n",
      "543/585\n",
      "544/585\n",
      "545/585\n",
      "546/585\n",
      "547/585\n",
      "548/585\n",
      "549/585\n",
      "550/585\n",
      "551/585\n",
      "552/585\n",
      "553/585\n",
      "554/585\n",
      "555/585\n",
      "556/585\n",
      "557/585\n",
      "558/585\n",
      "559/585\n",
      "560/585\n",
      "561/585\n",
      "562/585\n",
      "563/585\n",
      "564/585\n",
      "565/585\n",
      "566/585\n",
      "567/585\n",
      "568/585\n",
      "569/585\n",
      "570/585\n",
      "571/585\n",
      "572/585\n",
      "573/585\n",
      "574/585\n",
      "575/585\n",
      "576/585\n",
      "577/585\n",
      "578/585\n",
      "579/585\n",
      "580/585\n",
      "581/585\n",
      "582/585\n",
      "583/585\n",
      "584/585\n",
      "585/585\n"
     ]
    }
   ],
   "source": [
    "count = 0\n",
    "good = 0\n",
    "for idx,row in missingvalid.iterrows():\n",
    "    address = missingvalid.loc[idx, 'address']\n",
    "    location = get_location_by_address(address)\n",
    "    latitude = location.latitude\n",
    "    longitude = location.longitude\n",
    "    if pd.notna(latitude):\n",
    "        good = good + 1\n",
    "        missingvalid.loc[idx, 'latitud'] = latitude\n",
    "        missingvalid.loc[idx, 'longitud'] = longitude\n",
    "    count = count +1\n",
    "    print(str(count) + '/' + str(len(missingvalid)))"
   ]
  },
  {
   "cell_type": "code",
   "execution_count": 190,
   "metadata": {},
   "outputs": [
    {
     "data": {
      "text/plain": [
       "585"
      ]
     },
     "execution_count": 190,
     "metadata": {},
     "output_type": "execute_result"
    }
   ],
   "source": [
    "good"
   ]
  },
  {
   "cell_type": "code",
   "execution_count": 191,
   "metadata": {},
   "outputs": [
    {
     "data": {
      "text/plain": [
       "0"
      ]
     },
     "execution_count": 191,
     "metadata": {},
     "output_type": "execute_result"
    }
   ],
   "source": [
    "len(missingvalid[missingvalid['longitud'].isna()])"
   ]
  },
  {
   "cell_type": "code",
   "execution_count": 192,
   "metadata": {},
   "outputs": [
    {
     "data": {
      "text/plain": [
       "clues\n",
       "GRIST000083    17.008371\n",
       "MNIST000074    18.617276\n",
       "CMSSA001180    18.920182\n",
       "MCSSA018593    19.045249\n",
       "CMIMS000075    19.090987\n",
       "                 ...    \n",
       "VZPMX000141    18.827848\n",
       "VZPMX000165    18.772742\n",
       "DFSMP005550    19.419900\n",
       "SLSSA003775    23.942068\n",
       "TCSMP000332    18.395166\n",
       "Name: latitud, Length: 585, dtype: float64"
      ]
     },
     "execution_count": 192,
     "metadata": {},
     "output_type": "execute_result"
    }
   ],
   "source": [
    "missingvalid.latitud"
   ]
  },
  {
   "cell_type": "code",
   "execution_count": 193,
   "metadata": {},
   "outputs": [],
   "source": [
    "found = missingvalid[missingvalid['latitud'].notna()]"
   ]
  },
  {
   "cell_type": "code",
   "execution_count": 194,
   "metadata": {},
   "outputs": [
    {
     "data": {
      "text/plain": [
       "585"
      ]
     },
     "execution_count": 194,
     "metadata": {},
     "output_type": "execute_result"
    }
   ],
   "source": [
    "len(found)"
   ]
  },
  {
   "cell_type": "code",
   "execution_count": 195,
   "metadata": {},
   "outputs": [
    {
     "data": {
      "text/plain": [
       "34567"
      ]
     },
     "execution_count": 195,
     "metadata": {},
     "output_type": "execute_result"
    }
   ],
   "source": [
    "len(complete)"
   ]
  },
  {
   "cell_type": "code",
   "execution_count": 196,
   "metadata": {},
   "outputs": [],
   "source": [
    "complete = complete.append(found)"
   ]
  },
  {
   "cell_type": "code",
   "execution_count": 197,
   "metadata": {},
   "outputs": [
    {
     "data": {
      "text/plain": [
       "35152"
      ]
     },
     "execution_count": 197,
     "metadata": {},
     "output_type": "execute_result"
    }
   ],
   "source": [
    "len(complete)"
   ]
  },
  {
   "cell_type": "code",
   "execution_count": 198,
   "metadata": {},
   "outputs": [],
   "source": [
    "complete.to_excel('CorrectedCLUES.xlsx')"
   ]
  },
  {
   "cell_type": "code",
   "execution_count": 199,
   "metadata": {},
   "outputs": [],
   "source": [
    "complete.to_csv('CorrectedCLUES_csv.csv')"
   ]
  },
  {
   "cell_type": "code",
   "execution_count": 200,
   "metadata": {},
   "outputs": [
    {
     "data": {
      "text/plain": [
       "['ï»¿id',\n",
       " 'nombre_de_la_entidad',\n",
       " 'clave_de_la_entidad',\n",
       " 'nombre_del_municipio',\n",
       " 'clave_del_municipio',\n",
       " 'nombre_de_la_localidad',\n",
       " 'clave_de_la_localidad',\n",
       " 'nombre_de_la_jurisdiccion',\n",
       " 'clave_de_la_jurisdiccion',\n",
       " 'nombre_de_la_institucion',\n",
       " 'clave_de_la_institucion',\n",
       " 'nombre_tipo_establecimiento',\n",
       " 'clave_tipo_establecimiento',\n",
       " 'nombre_de_tipologia',\n",
       " 'clave_de_tipologia',\n",
       " 'nombre_de_subtipologia',\n",
       " 'clave_de_subtipologia',\n",
       " 'clave_scian',\n",
       " 'descripcion_clave_scian',\n",
       " 'consultorios_de_med_gral',\n",
       " 'consultorios_en_otras_areas',\n",
       " 'total_de_consultorios',\n",
       " 'camas_en_area_de_hos',\n",
       " 'camas_en_otras_areas',\n",
       " 'total_de_camas',\n",
       " 'nombre_de_la_unidad',\n",
       " 'clave_de_vialidad',\n",
       " 'tipo_de_vialidad',\n",
       " 'vialidad',\n",
       " 'numero_exterior',\n",
       " 'numero_interior',\n",
       " 'clave_del_tipo_de_asentamiento',\n",
       " 'tipo_de_asentamiento',\n",
       " 'asentamiento',\n",
       " 'entre_tipo_de_vialidad_1',\n",
       " 'entre_vialidad_1',\n",
       " 'entre_tipo_de_vialidad_2',\n",
       " 'entre_vialidad_2',\n",
       " 'observaciones_de_la_direccion',\n",
       " 'codigo_postal',\n",
       " 'estatus_de_operacion',\n",
       " 'clave_de_estatus_de_operacion',\n",
       " 'tiene_licencia_sanitaria',\n",
       " 'numero_de_licencia_sanitaria',\n",
       " 'tiene_aviso_de_funcionamiento',\n",
       " 'fecha_emision_av._fun.',\n",
       " 'rfc_del_establecimiento',\n",
       " 'fecha_de_construccion',\n",
       " 'fecha_de_inicio_de_operacion',\n",
       " 'unidad_movil_marca',\n",
       " 'unidad_movil_modelo',\n",
       " 'unidad_movil_capacidad',\n",
       " 'unidad_movil_programa',\n",
       " 'unidad_movil_clave_programa',\n",
       " 'unidad_movil_tipo',\n",
       " 'unidad_movil_clave_tipo',\n",
       " 'unidad_movil_tipologia',\n",
       " 'unidad_movil_clave_tipologia',\n",
       " 'latitud',\n",
       " 'longitud',\n",
       " 'nombre_de_la_ins_adm',\n",
       " 'clave_de_la_ins_adm',\n",
       " 'nivel_atencion',\n",
       " 'clave_nivel_atencion',\n",
       " 'estatus_acreditacion',\n",
       " 'clave_estatus_acreditacion',\n",
       " 'acreditaciones',\n",
       " 'subacreditacion',\n",
       " 'estrato_unidad',\n",
       " 'clave_estrato_unidad',\n",
       " 'tipo_obra',\n",
       " 'clave_tipo_obra',\n",
       " 'horario_de_atencion',\n",
       " 'areas_y_servicios',\n",
       " 'ultimo_movimiento',\n",
       " 'fecha_ultimo_movimiento',\n",
       " 'motivo_baja',\n",
       " 'fecha_efectiva_de_baja',\n",
       " 'certificacion_csg',\n",
       " 'tipo_certificacion',\n",
       " 'vigencia_certificacion',\n",
       " 'address']"
      ]
     },
     "execution_count": 200,
     "metadata": {},
     "output_type": "execute_result"
    }
   ],
   "source": [
    "complete.columns.to_list()"
   ]
  },
  {
   "cell_type": "markdown",
   "metadata": {},
   "source": [
    "## Data treatment"
   ]
  },
  {
   "cell_type": "markdown",
   "metadata": {},
   "source": [
    "### Treat longitud and latitude"
   ]
  },
  {
   "cell_type": "code",
   "execution_count": 201,
   "metadata": {
    "tags": []
   },
   "outputs": [
    {
     "name": "stderr",
     "output_type": "stream",
     "text": [
      "/opt/conda/lib/python3.9/site-packages/pandas/core/indexing.py:1732: SettingWithCopyWarning: \n",
      "A value is trying to be set on a copy of a slice from a DataFrame\n",
      "\n",
      "See the caveats in the documentation: https://pandas.pydata.org/pandas-docs/stable/user_guide/indexing.html#returning-a-view-versus-a-copy\n",
      "  self._setitem_single_block(indexer, value, name)\n"
     ]
    }
   ],
   "source": [
    "df_tmp = complete.copy()\n",
    "\n",
    "variables = ['latitud','longitud']\n",
    "\n",
    "for var in variables:\n",
    "    i = 0\n",
    "    for x in df_tmp[var]:\n",
    "        \n",
    "        try:\n",
    "            x_float = float(x)\n",
    "            \n",
    "            if x_float > 0 and var=='longitud':\n",
    "                x_float = x_float*-1\n",
    "                \n",
    "            if (x_float>-80 or x_float<-140) and var=='longitud':\n",
    "                df_tmp[var].iloc[i] = np.nan\n",
    "            elif (x_float>35 or x_float<10) and var=='latitud':\n",
    "                df_tmp[var].iloc[i] = np.nan\n",
    "            else:\n",
    "                df_tmp[var].iloc[i] = x_float\n",
    "                \n",
    "            i += 1\n",
    "        except:\n",
    "            try:\n",
    "                x_float = float(x[:x.find(' ')])\n",
    "                if x_float > 0 and var=='longitud':\n",
    "                    x_float = x_float*-1\n",
    "                df_tmp[var].iloc[i] = x_float\n",
    "                i += 1\n",
    "            except:\n",
    "                try:\n",
    "                    degree= float(x[:x.find('°')])\n",
    "                    minutes = float(x[(x.find('°')+1):(x.find('\\''))])\n",
    "                    seconds= float(x[x.find('\\'')+1:(x.find('\"'))])\n",
    "                    x_float=degree + minutes/60 + seconds/60\n",
    "                    if x_float > 0 and var=='longitud':\n",
    "                        x_float = x_float*-1\n",
    "                    df_tmp[var].iloc[i] = x_float\n",
    "                    i += 1\n",
    "                except:\n",
    "                    if (var=='latitud' and i==19855) or (var=='longitud' and i==16200):\n",
    "                        x_float = float(x[:x.find('.')+4])\n",
    "                        df_tmp[var].iloc[i] = x_float\n",
    "                    elif var=='longitud' and i==29597:\n",
    "                        df_tmp[var].iloc[i] = -97.426111\n",
    "                    elif var=='longitud' and i==31691:\n",
    "                        element = '-107°26\\'3.10'\n",
    "                        degree= float(element[:element.find('°')])\n",
    "                        minutes = float(element[(element.find('°')+1):(element.find('\\''))])\n",
    "                        seconds= float(element[element.find('\\'')+1:])\n",
    "                        x_float=degree + minutes/60 + seconds/60\n",
    "                        df_tmp[var].iloc[i] = x_float\n",
    "                    elif var=='latitud' and i==31691:\n",
    "                        element = '24°47\\'53.26'\n",
    "                        degree= float(element[:element.find('°')])\n",
    "                        minutes = float(element[(element.find('°')+1):(element.find('\\''))])\n",
    "                        seconds= float(element[element.find('\\'')+1:])\n",
    "                        x_float=degree + minutes/60 + seconds/60\n",
    "                        df_tmp[var].iloc[i] = x_float\n",
    "                    else:\n",
    "                        print(x,i,var)\n",
    "                    i += 1"
   ]
  },
  {
   "cell_type": "code",
   "execution_count": 202,
   "metadata": {
    "tags": []
   },
   "outputs": [],
   "source": [
    "isna = []\n",
    "\n",
    "for var in variables:\n",
    "    i = 0\n",
    "    for x in df_tmp[var]:\n",
    "        if pd.isna(x):\n",
    "            if i not in isna:\n",
    "                isna.append(i)\n",
    "                i+= 1\n",
    "            else:\n",
    "                i+= 1\n",
    "        else:\n",
    "            i+=1"
   ]
  },
  {
   "cell_type": "code",
   "execution_count": 203,
   "metadata": {},
   "outputs": [
    {
     "data": {
      "text/plain": [
       "1"
      ]
     },
     "execution_count": 203,
     "metadata": {},
     "output_type": "execute_result"
    }
   ],
   "source": [
    "len(isna)"
   ]
  },
  {
   "cell_type": "markdown",
   "metadata": {},
   "source": [
    "### To GeoDataFrame"
   ]
  },
  {
   "cell_type": "code",
   "execution_count": 204,
   "metadata": {},
   "outputs": [
    {
     "name": "stdout",
     "output_type": "stream",
     "text": [
      "(35152, 83)\n"
     ]
    },
    {
     "data": {
      "text/html": [
       "<div>\n",
       "<style scoped>\n",
       "    .dataframe tbody tr th:only-of-type {\n",
       "        vertical-align: middle;\n",
       "    }\n",
       "\n",
       "    .dataframe tbody tr th {\n",
       "        vertical-align: top;\n",
       "    }\n",
       "\n",
       "    .dataframe thead th {\n",
       "        text-align: right;\n",
       "    }\n",
       "</style>\n",
       "<table border=\"1\" class=\"dataframe\">\n",
       "  <thead>\n",
       "    <tr style=\"text-align: right;\">\n",
       "      <th></th>\n",
       "      <th>ï»¿id</th>\n",
       "      <th>nombre_de_la_entidad</th>\n",
       "      <th>clave_de_la_entidad</th>\n",
       "      <th>nombre_del_municipio</th>\n",
       "      <th>clave_del_municipio</th>\n",
       "      <th>nombre_de_la_localidad</th>\n",
       "      <th>clave_de_la_localidad</th>\n",
       "      <th>nombre_de_la_jurisdiccion</th>\n",
       "      <th>clave_de_la_jurisdiccion</th>\n",
       "      <th>nombre_de_la_institucion</th>\n",
       "      <th>...</th>\n",
       "      <th>areas_y_servicios</th>\n",
       "      <th>ultimo_movimiento</th>\n",
       "      <th>fecha_ultimo_movimiento</th>\n",
       "      <th>motivo_baja</th>\n",
       "      <th>fecha_efectiva_de_baja</th>\n",
       "      <th>certificacion_csg</th>\n",
       "      <th>tipo_certificacion</th>\n",
       "      <th>vigencia_certificacion</th>\n",
       "      <th>address</th>\n",
       "      <th>geometry</th>\n",
       "    </tr>\n",
       "    <tr>\n",
       "      <th>clues</th>\n",
       "      <th></th>\n",
       "      <th></th>\n",
       "      <th></th>\n",
       "      <th></th>\n",
       "      <th></th>\n",
       "      <th></th>\n",
       "      <th></th>\n",
       "      <th></th>\n",
       "      <th></th>\n",
       "      <th></th>\n",
       "      <th></th>\n",
       "      <th></th>\n",
       "      <th></th>\n",
       "      <th></th>\n",
       "      <th></th>\n",
       "      <th></th>\n",
       "      <th></th>\n",
       "      <th></th>\n",
       "      <th></th>\n",
       "      <th></th>\n",
       "      <th></th>\n",
       "    </tr>\n",
       "  </thead>\n",
       "  <tbody>\n",
       "    <tr>\n",
       "      <th>GRSSA002723</th>\n",
       "      <td>7439</td>\n",
       "      <td>GUERRERO</td>\n",
       "      <td>12</td>\n",
       "      <td>COYUCA DE BENITEZ</td>\n",
       "      <td>21</td>\n",
       "      <td>LOS MOGOTES</td>\n",
       "      <td>35</td>\n",
       "      <td>COSTA GRANDE</td>\n",
       "      <td>5</td>\n",
       "      <td>SECRETARIA DE SALUD</td>\n",
       "      <td>...</td>\n",
       "      <td>NaN</td>\n",
       "      <td>CAMBIO</td>\n",
       "      <td>2005-12-31</td>\n",
       "      <td>NaN</td>\n",
       "      <td>NaN</td>\n",
       "      <td>NO CERTIFICADO</td>\n",
       "      <td>NO ESPECIFICADO</td>\n",
       "      <td>NaN</td>\n",
       "      <td>NaN</td>\n",
       "      <td>POINT (-100.07510 16.94084)</td>\n",
       "    </tr>\n",
       "    <tr>\n",
       "      <th>GRSSA002641</th>\n",
       "      <td>7431</td>\n",
       "      <td>GUERRERO</td>\n",
       "      <td>12</td>\n",
       "      <td>COYUCA DE BENITEZ</td>\n",
       "      <td>21</td>\n",
       "      <td>LA BARRA (LA BARRA DE COYUCA)</td>\n",
       "      <td>9</td>\n",
       "      <td>COSTA GRANDE</td>\n",
       "      <td>5</td>\n",
       "      <td>SECRETARIA DE SALUD</td>\n",
       "      <td>...</td>\n",
       "      <td>NaN</td>\n",
       "      <td>CAMBIO</td>\n",
       "      <td>2005-12-31</td>\n",
       "      <td>NaN</td>\n",
       "      <td>NaN</td>\n",
       "      <td>NO CERTIFICADO</td>\n",
       "      <td>NO ESPECIFICADO</td>\n",
       "      <td>NaN</td>\n",
       "      <td>NaN</td>\n",
       "      <td>POINT (-100.10340 16.94742)</td>\n",
       "    </tr>\n",
       "  </tbody>\n",
       "</table>\n",
       "<p>2 rows × 83 columns</p>\n",
       "</div>"
      ],
      "text/plain": [
       "             ï»¿id nombre_de_la_entidad  clave_de_la_entidad  \\\n",
       "clues                                                          \n",
       "GRSSA002723   7439             GUERRERO                   12   \n",
       "GRSSA002641   7431             GUERRERO                   12   \n",
       "\n",
       "            nombre_del_municipio  clave_del_municipio  \\\n",
       "clues                                                   \n",
       "GRSSA002723    COYUCA DE BENITEZ                   21   \n",
       "GRSSA002641    COYUCA DE BENITEZ                   21   \n",
       "\n",
       "                    nombre_de_la_localidad  clave_de_la_localidad  \\\n",
       "clues                                                               \n",
       "GRSSA002723                    LOS MOGOTES                     35   \n",
       "GRSSA002641  LA BARRA (LA BARRA DE COYUCA)                      9   \n",
       "\n",
       "            nombre_de_la_jurisdiccion  clave_de_la_jurisdiccion  \\\n",
       "clues                                                             \n",
       "GRSSA002723              COSTA GRANDE                         5   \n",
       "GRSSA002641              COSTA GRANDE                         5   \n",
       "\n",
       "            nombre_de_la_institucion  ... areas_y_servicios ultimo_movimiento  \\\n",
       "clues                                 ...                                       \n",
       "GRSSA002723      SECRETARIA DE SALUD  ...               NaN            CAMBIO   \n",
       "GRSSA002641      SECRETARIA DE SALUD  ...               NaN            CAMBIO   \n",
       "\n",
       "             fecha_ultimo_movimiento motivo_baja fecha_efectiva_de_baja  \\\n",
       "clues                                                                     \n",
       "GRSSA002723               2005-12-31         NaN                    NaN   \n",
       "GRSSA002641               2005-12-31         NaN                    NaN   \n",
       "\n",
       "            certificacion_csg tipo_certificacion  vigencia_certificacion  \\\n",
       "clues                                                                      \n",
       "GRSSA002723    NO CERTIFICADO    NO ESPECIFICADO                     NaN   \n",
       "GRSSA002641    NO CERTIFICADO    NO ESPECIFICADO                     NaN   \n",
       "\n",
       "            address                     geometry  \n",
       "clues                                             \n",
       "GRSSA002723     NaN  POINT (-100.07510 16.94084)  \n",
       "GRSSA002641     NaN  POINT (-100.10340 16.94742)  \n",
       "\n",
       "[2 rows x 83 columns]"
      ]
     },
     "execution_count": 204,
     "metadata": {},
     "output_type": "execute_result"
    }
   ],
   "source": [
    "gdf = gpd.GeoDataFrame(\n",
    "    df_tmp, geometry=gpd.points_from_xy(df_tmp.longitud, df_tmp.latitud))\n",
    "print(gdf.shape)\n",
    "gdf.head(2)"
   ]
  },
  {
   "cell_type": "code",
   "execution_count": 205,
   "metadata": {
    "tags": []
   },
   "outputs": [
    {
     "ename": "GEOSException",
     "evalue": "IllegalArgumentException: Points of LinearRing do not form a closed linestring",
     "output_type": "error",
     "traceback": [
      "\u001b[0;31m---------------------------------------------------------------------------\u001b[0m",
      "\u001b[0;31mGEOSException\u001b[0m                             Traceback (most recent call last)",
      "\u001b[0;32m/tmp/ipykernel_719/809661226.py\u001b[0m in \u001b[0;36m<module>\u001b[0;34m\u001b[0m\n\u001b[1;32m      1\u001b[0m \u001b[0mgdf_\u001b[0m \u001b[0;34m=\u001b[0m \u001b[0mgdf\u001b[0m\u001b[0;34m[\u001b[0m\u001b[0;34m~\u001b[0m\u001b[0mgdf\u001b[0m\u001b[0;34m.\u001b[0m\u001b[0mindex\u001b[0m\u001b[0;34m.\u001b[0m\u001b[0misin\u001b[0m\u001b[0;34m(\u001b[0m\u001b[0misna\u001b[0m\u001b[0;34m)\u001b[0m\u001b[0;34m]\u001b[0m\u001b[0;34m.\u001b[0m\u001b[0mcopy\u001b[0m\u001b[0;34m(\u001b[0m\u001b[0;34m)\u001b[0m\u001b[0;34m\u001b[0m\u001b[0;34m\u001b[0m\u001b[0m\n\u001b[1;32m      2\u001b[0m \u001b[0mgdf_\u001b[0m \u001b[0;34m=\u001b[0m \u001b[0mgdf_\u001b[0m\u001b[0;34m.\u001b[0m\u001b[0mset_crs\u001b[0m\u001b[0;34m(\u001b[0m\u001b[0;34m\"EPSG:4326\"\u001b[0m\u001b[0;34m)\u001b[0m\u001b[0;34m\u001b[0m\u001b[0;34m\u001b[0m\u001b[0m\n\u001b[0;32m----> 3\u001b[0;31m \u001b[0mgdf_\u001b[0m\u001b[0;34m.\u001b[0m\u001b[0mplot\u001b[0m\u001b[0;34m(\u001b[0m\u001b[0;34m)\u001b[0m\u001b[0;34m\u001b[0m\u001b[0;34m\u001b[0m\u001b[0m\n\u001b[0m",
      "\u001b[0;32m/opt/conda/lib/python3.9/site-packages/geopandas/plotting.py\u001b[0m in \u001b[0;36m__call__\u001b[0;34m(self, *args, **kwargs)\u001b[0m\n\u001b[1;32m    948\u001b[0m         \u001b[0mkind\u001b[0m \u001b[0;34m=\u001b[0m \u001b[0mkwargs\u001b[0m\u001b[0;34m.\u001b[0m\u001b[0mpop\u001b[0m\u001b[0;34m(\u001b[0m\u001b[0;34m\"kind\"\u001b[0m\u001b[0;34m,\u001b[0m \u001b[0;34m\"geo\"\u001b[0m\u001b[0;34m)\u001b[0m\u001b[0;34m\u001b[0m\u001b[0;34m\u001b[0m\u001b[0m\n\u001b[1;32m    949\u001b[0m         \u001b[0;32mif\u001b[0m \u001b[0mkind\u001b[0m \u001b[0;34m==\u001b[0m \u001b[0;34m\"geo\"\u001b[0m\u001b[0;34m:\u001b[0m\u001b[0;34m\u001b[0m\u001b[0;34m\u001b[0m\u001b[0m\n\u001b[0;32m--> 950\u001b[0;31m             \u001b[0;32mreturn\u001b[0m \u001b[0mplot_dataframe\u001b[0m\u001b[0;34m(\u001b[0m\u001b[0mdata\u001b[0m\u001b[0;34m,\u001b[0m \u001b[0;34m*\u001b[0m\u001b[0margs\u001b[0m\u001b[0;34m,\u001b[0m \u001b[0;34m**\u001b[0m\u001b[0mkwargs\u001b[0m\u001b[0;34m)\u001b[0m\u001b[0;34m\u001b[0m\u001b[0;34m\u001b[0m\u001b[0m\n\u001b[0m\u001b[1;32m    951\u001b[0m         \u001b[0;32mif\u001b[0m \u001b[0mkind\u001b[0m \u001b[0;32min\u001b[0m \u001b[0mself\u001b[0m\u001b[0;34m.\u001b[0m\u001b[0m_pandas_kinds\u001b[0m\u001b[0;34m:\u001b[0m\u001b[0;34m\u001b[0m\u001b[0;34m\u001b[0m\u001b[0m\n\u001b[1;32m    952\u001b[0m             \u001b[0;31m# Access pandas plots\u001b[0m\u001b[0;34m\u001b[0m\u001b[0;34m\u001b[0m\u001b[0m\n",
      "\u001b[0;32m/opt/conda/lib/python3.9/site-packages/geopandas/plotting.py\u001b[0m in \u001b[0;36mplot_dataframe\u001b[0;34m(df, column, cmap, color, ax, cax, categorical, legend, scheme, k, vmin, vmax, markersize, figsize, legend_kwds, categories, classification_kwds, missing_kwds, aspect, **style_kwds)\u001b[0m\n\u001b[1;32m    663\u001b[0m     \u001b[0;32mif\u001b[0m \u001b[0maspect\u001b[0m \u001b[0;34m==\u001b[0m \u001b[0;34m\"auto\"\u001b[0m\u001b[0;34m:\u001b[0m\u001b[0;34m\u001b[0m\u001b[0;34m\u001b[0m\u001b[0m\n\u001b[1;32m    664\u001b[0m         \u001b[0;32mif\u001b[0m \u001b[0mdf\u001b[0m\u001b[0;34m.\u001b[0m\u001b[0mcrs\u001b[0m \u001b[0;32mand\u001b[0m \u001b[0mdf\u001b[0m\u001b[0;34m.\u001b[0m\u001b[0mcrs\u001b[0m\u001b[0;34m.\u001b[0m\u001b[0mis_geographic\u001b[0m\u001b[0;34m:\u001b[0m\u001b[0;34m\u001b[0m\u001b[0;34m\u001b[0m\u001b[0m\n\u001b[0;32m--> 665\u001b[0;31m             \u001b[0mbounds\u001b[0m \u001b[0;34m=\u001b[0m \u001b[0mdf\u001b[0m\u001b[0;34m.\u001b[0m\u001b[0mtotal_bounds\u001b[0m\u001b[0;34m\u001b[0m\u001b[0;34m\u001b[0m\u001b[0m\n\u001b[0m\u001b[1;32m    666\u001b[0m             \u001b[0my_coord\u001b[0m \u001b[0;34m=\u001b[0m \u001b[0mnp\u001b[0m\u001b[0;34m.\u001b[0m\u001b[0mmean\u001b[0m\u001b[0;34m(\u001b[0m\u001b[0;34m[\u001b[0m\u001b[0mbounds\u001b[0m\u001b[0;34m[\u001b[0m\u001b[0;36m1\u001b[0m\u001b[0;34m]\u001b[0m\u001b[0;34m,\u001b[0m \u001b[0mbounds\u001b[0m\u001b[0;34m[\u001b[0m\u001b[0;36m3\u001b[0m\u001b[0;34m]\u001b[0m\u001b[0;34m]\u001b[0m\u001b[0;34m)\u001b[0m\u001b[0;34m\u001b[0m\u001b[0;34m\u001b[0m\u001b[0m\n\u001b[1;32m    667\u001b[0m             \u001b[0max\u001b[0m\u001b[0;34m.\u001b[0m\u001b[0mset_aspect\u001b[0m\u001b[0;34m(\u001b[0m\u001b[0;36m1\u001b[0m \u001b[0;34m/\u001b[0m \u001b[0mnp\u001b[0m\u001b[0;34m.\u001b[0m\u001b[0mcos\u001b[0m\u001b[0;34m(\u001b[0m\u001b[0my_coord\u001b[0m \u001b[0;34m*\u001b[0m \u001b[0mnp\u001b[0m\u001b[0;34m.\u001b[0m\u001b[0mpi\u001b[0m \u001b[0;34m/\u001b[0m \u001b[0;36m180\u001b[0m\u001b[0;34m)\u001b[0m\u001b[0;34m)\u001b[0m\u001b[0;34m\u001b[0m\u001b[0;34m\u001b[0m\u001b[0m\n",
      "\u001b[0;32m/opt/conda/lib/python3.9/site-packages/geopandas/base.py\u001b[0m in \u001b[0;36mtotal_bounds\u001b[0;34m(self)\u001b[0m\n\u001b[1;32m   2582\u001b[0m         \u001b[0marray\u001b[0m\u001b[0;34m(\u001b[0m\u001b[0;34m[\u001b[0m \u001b[0;36m0.\u001b[0m\u001b[0;34m,\u001b[0m \u001b[0;34m-\u001b[0m\u001b[0;36m1.\u001b[0m\u001b[0;34m,\u001b[0m  \u001b[0;36m3.\u001b[0m\u001b[0;34m,\u001b[0m  \u001b[0;36m2.\u001b[0m\u001b[0;34m]\u001b[0m\u001b[0;34m)\u001b[0m\u001b[0;34m\u001b[0m\u001b[0;34m\u001b[0m\u001b[0m\n\u001b[1;32m   2583\u001b[0m         \"\"\"\n\u001b[0;32m-> 2584\u001b[0;31m         \u001b[0;32mreturn\u001b[0m \u001b[0mGeometryArray\u001b[0m\u001b[0;34m(\u001b[0m\u001b[0mself\u001b[0m\u001b[0;34m.\u001b[0m\u001b[0mgeometry\u001b[0m\u001b[0;34m.\u001b[0m\u001b[0mvalues\u001b[0m\u001b[0;34m)\u001b[0m\u001b[0;34m.\u001b[0m\u001b[0mtotal_bounds\u001b[0m\u001b[0;34m\u001b[0m\u001b[0;34m\u001b[0m\u001b[0m\n\u001b[0m\u001b[1;32m   2585\u001b[0m \u001b[0;34m\u001b[0m\u001b[0m\n\u001b[1;32m   2586\u001b[0m     \u001b[0;34m@\u001b[0m\u001b[0mproperty\u001b[0m\u001b[0;34m\u001b[0m\u001b[0;34m\u001b[0m\u001b[0m\n",
      "\u001b[0;32m/opt/conda/lib/python3.9/site-packages/geopandas/array.py\u001b[0m in \u001b[0;36mtotal_bounds\u001b[0;34m(self)\u001b[0m\n\u001b[1;32m    913\u001b[0m             \u001b[0;31m# TODO with numpy >= 1.15, the 'initial' argument can be used\u001b[0m\u001b[0;34m\u001b[0m\u001b[0;34m\u001b[0m\u001b[0m\n\u001b[1;32m    914\u001b[0m             \u001b[0;32mreturn\u001b[0m \u001b[0mnp\u001b[0m\u001b[0;34m.\u001b[0m\u001b[0marray\u001b[0m\u001b[0;34m(\u001b[0m\u001b[0;34m[\u001b[0m\u001b[0mnp\u001b[0m\u001b[0;34m.\u001b[0m\u001b[0mnan\u001b[0m\u001b[0;34m,\u001b[0m \u001b[0mnp\u001b[0m\u001b[0;34m.\u001b[0m\u001b[0mnan\u001b[0m\u001b[0;34m,\u001b[0m \u001b[0mnp\u001b[0m\u001b[0;34m.\u001b[0m\u001b[0mnan\u001b[0m\u001b[0;34m,\u001b[0m \u001b[0mnp\u001b[0m\u001b[0;34m.\u001b[0m\u001b[0mnan\u001b[0m\u001b[0;34m]\u001b[0m\u001b[0;34m)\u001b[0m\u001b[0;34m\u001b[0m\u001b[0;34m\u001b[0m\u001b[0m\n\u001b[0;32m--> 915\u001b[0;31m         \u001b[0mb\u001b[0m \u001b[0;34m=\u001b[0m \u001b[0mself\u001b[0m\u001b[0;34m.\u001b[0m\u001b[0mbounds\u001b[0m\u001b[0;34m\u001b[0m\u001b[0;34m\u001b[0m\u001b[0m\n\u001b[0m\u001b[1;32m    916\u001b[0m         return np.array(\n\u001b[1;32m    917\u001b[0m             (\n",
      "\u001b[0;32m/opt/conda/lib/python3.9/site-packages/geopandas/array.py\u001b[0m in \u001b[0;36mbounds\u001b[0;34m(self)\u001b[0m\n\u001b[1;32m    905\u001b[0m     \u001b[0;34m@\u001b[0m\u001b[0mproperty\u001b[0m\u001b[0;34m\u001b[0m\u001b[0;34m\u001b[0m\u001b[0m\n\u001b[1;32m    906\u001b[0m     \u001b[0;32mdef\u001b[0m \u001b[0mbounds\u001b[0m\u001b[0;34m(\u001b[0m\u001b[0mself\u001b[0m\u001b[0;34m)\u001b[0m\u001b[0;34m:\u001b[0m\u001b[0;34m\u001b[0m\u001b[0;34m\u001b[0m\u001b[0m\n\u001b[0;32m--> 907\u001b[0;31m         \u001b[0;32mreturn\u001b[0m \u001b[0mvectorized\u001b[0m\u001b[0;34m.\u001b[0m\u001b[0mbounds\u001b[0m\u001b[0;34m(\u001b[0m\u001b[0mself\u001b[0m\u001b[0;34m.\u001b[0m\u001b[0mdata\u001b[0m\u001b[0;34m)\u001b[0m\u001b[0;34m\u001b[0m\u001b[0;34m\u001b[0m\u001b[0m\n\u001b[0m\u001b[1;32m    908\u001b[0m \u001b[0;34m\u001b[0m\u001b[0m\n\u001b[1;32m    909\u001b[0m     \u001b[0;34m@\u001b[0m\u001b[0mproperty\u001b[0m\u001b[0;34m\u001b[0m\u001b[0;34m\u001b[0m\u001b[0m\n",
      "\u001b[0;32m/opt/conda/lib/python3.9/site-packages/geopandas/_vectorized.py\u001b[0m in \u001b[0;36mbounds\u001b[0;34m(data)\u001b[0m\n\u001b[1;32m    928\u001b[0m \u001b[0;32mdef\u001b[0m \u001b[0mbounds\u001b[0m\u001b[0;34m(\u001b[0m\u001b[0mdata\u001b[0m\u001b[0;34m)\u001b[0m\u001b[0;34m:\u001b[0m\u001b[0;34m\u001b[0m\u001b[0;34m\u001b[0m\u001b[0m\n\u001b[1;32m    929\u001b[0m     \u001b[0;32mif\u001b[0m \u001b[0mcompat\u001b[0m\u001b[0;34m.\u001b[0m\u001b[0mUSE_PYGEOS\u001b[0m\u001b[0;34m:\u001b[0m\u001b[0;34m\u001b[0m\u001b[0;34m\u001b[0m\u001b[0m\n\u001b[0;32m--> 930\u001b[0;31m         \u001b[0;32mreturn\u001b[0m \u001b[0mpygeos\u001b[0m\u001b[0;34m.\u001b[0m\u001b[0mbounds\u001b[0m\u001b[0;34m(\u001b[0m\u001b[0mdata\u001b[0m\u001b[0;34m)\u001b[0m\u001b[0;34m\u001b[0m\u001b[0;34m\u001b[0m\u001b[0m\n\u001b[0m\u001b[1;32m    931\u001b[0m     \u001b[0;31m# ensure that for empty arrays, the result has the correct shape\u001b[0m\u001b[0;34m\u001b[0m\u001b[0;34m\u001b[0m\u001b[0m\n\u001b[1;32m    932\u001b[0m     \u001b[0;32mif\u001b[0m \u001b[0mlen\u001b[0m\u001b[0;34m(\u001b[0m\u001b[0mdata\u001b[0m\u001b[0;34m)\u001b[0m \u001b[0;34m==\u001b[0m \u001b[0;36m0\u001b[0m\u001b[0;34m:\u001b[0m\u001b[0;34m\u001b[0m\u001b[0;34m\u001b[0m\u001b[0m\n",
      "\u001b[0;32m/opt/conda/lib/python3.9/site-packages/pygeos/decorators.py\u001b[0m in \u001b[0;36mwrapped\u001b[0;34m(*args, **kwargs)\u001b[0m\n\u001b[1;32m     78\u001b[0m             \u001b[0;32mfor\u001b[0m \u001b[0marr\u001b[0m \u001b[0;32min\u001b[0m \u001b[0marray_args\u001b[0m\u001b[0;34m:\u001b[0m\u001b[0;34m\u001b[0m\u001b[0;34m\u001b[0m\u001b[0m\n\u001b[1;32m     79\u001b[0m                 \u001b[0marr\u001b[0m\u001b[0;34m.\u001b[0m\u001b[0mflags\u001b[0m\u001b[0;34m.\u001b[0m\u001b[0mwriteable\u001b[0m \u001b[0;34m=\u001b[0m \u001b[0;32mFalse\u001b[0m\u001b[0;34m\u001b[0m\u001b[0;34m\u001b[0m\u001b[0m\n\u001b[0;32m---> 80\u001b[0;31m             \u001b[0;32mreturn\u001b[0m \u001b[0mfunc\u001b[0m\u001b[0;34m(\u001b[0m\u001b[0;34m*\u001b[0m\u001b[0margs\u001b[0m\u001b[0;34m,\u001b[0m \u001b[0;34m**\u001b[0m\u001b[0mkwargs\u001b[0m\u001b[0;34m)\u001b[0m\u001b[0;34m\u001b[0m\u001b[0;34m\u001b[0m\u001b[0m\n\u001b[0m\u001b[1;32m     81\u001b[0m         \u001b[0;32mfinally\u001b[0m\u001b[0;34m:\u001b[0m\u001b[0;34m\u001b[0m\u001b[0;34m\u001b[0m\u001b[0m\n\u001b[1;32m     82\u001b[0m             \u001b[0;32mfor\u001b[0m \u001b[0marr\u001b[0m\u001b[0;34m,\u001b[0m \u001b[0mold_flag\u001b[0m \u001b[0;32min\u001b[0m \u001b[0mzip\u001b[0m\u001b[0;34m(\u001b[0m\u001b[0marray_args\u001b[0m\u001b[0;34m,\u001b[0m \u001b[0mold_flags\u001b[0m\u001b[0;34m)\u001b[0m\u001b[0;34m:\u001b[0m\u001b[0;34m\u001b[0m\u001b[0;34m\u001b[0m\u001b[0m\n",
      "\u001b[0;32m/opt/conda/lib/python3.9/site-packages/pygeos/measurement.py\u001b[0m in \u001b[0;36mbounds\u001b[0;34m(geometry, **kwargs)\u001b[0m\n\u001b[1;32m     99\u001b[0m     \u001b[0mgeometry_arr\u001b[0m \u001b[0;34m=\u001b[0m \u001b[0mnp\u001b[0m\u001b[0;34m.\u001b[0m\u001b[0masarray\u001b[0m\u001b[0;34m(\u001b[0m\u001b[0mgeometry\u001b[0m\u001b[0;34m,\u001b[0m \u001b[0mdtype\u001b[0m\u001b[0;34m=\u001b[0m\u001b[0mnp\u001b[0m\u001b[0;34m.\u001b[0m\u001b[0mobject_\u001b[0m\u001b[0;34m)\u001b[0m\u001b[0;34m\u001b[0m\u001b[0;34m\u001b[0m\u001b[0m\n\u001b[1;32m    100\u001b[0m     \u001b[0mout\u001b[0m \u001b[0;34m=\u001b[0m \u001b[0mnp\u001b[0m\u001b[0;34m.\u001b[0m\u001b[0mempty\u001b[0m\u001b[0;34m(\u001b[0m\u001b[0mgeometry_arr\u001b[0m\u001b[0;34m.\u001b[0m\u001b[0mshape\u001b[0m \u001b[0;34m+\u001b[0m \u001b[0;34m(\u001b[0m\u001b[0;36m4\u001b[0m\u001b[0;34m,\u001b[0m\u001b[0;34m)\u001b[0m\u001b[0;34m,\u001b[0m \u001b[0mdtype\u001b[0m\u001b[0;34m=\u001b[0m\u001b[0;34m\"float64\"\u001b[0m\u001b[0;34m)\u001b[0m\u001b[0;34m\u001b[0m\u001b[0;34m\u001b[0m\u001b[0m\n\u001b[0;32m--> 101\u001b[0;31m     \u001b[0;32mreturn\u001b[0m \u001b[0mlib\u001b[0m\u001b[0;34m.\u001b[0m\u001b[0mbounds\u001b[0m\u001b[0;34m(\u001b[0m\u001b[0mgeometry_arr\u001b[0m\u001b[0;34m,\u001b[0m \u001b[0mout\u001b[0m\u001b[0;34m=\u001b[0m\u001b[0mout\u001b[0m\u001b[0;34m,\u001b[0m \u001b[0;34m**\u001b[0m\u001b[0mkwargs\u001b[0m\u001b[0;34m)\u001b[0m\u001b[0;34m\u001b[0m\u001b[0;34m\u001b[0m\u001b[0m\n\u001b[0m\u001b[1;32m    102\u001b[0m \u001b[0;34m\u001b[0m\u001b[0m\n\u001b[1;32m    103\u001b[0m \u001b[0;34m\u001b[0m\u001b[0m\n",
      "\u001b[0;31mGEOSException\u001b[0m: IllegalArgumentException: Points of LinearRing do not form a closed linestring"
     ]
    },
    {
     "data": {
      "image/png": "[encoded data removed]",
      "text/plain": [
       "<Figure size 432x288 with 1 Axes>"
      ]
     },
     "metadata": {
      "needs_background": "light"
     },
     "output_type": "display_data"
    }
   ],
   "source": [
    "gdf_ = gdf[~gdf.index.isin(isna)].copy()\n",
    "gdf_ = gdf_.set_crs(\"EPSG:4326\")\n",
    "gdf_.plot()"
   ]
  },
  {
   "cell_type": "code",
   "execution_count": 206,
   "metadata": {},
   "outputs": [
    {
     "data": {
      "text/html": [
       "<div>\n",
       "<style scoped>\n",
       "    .dataframe tbody tr th:only-of-type {\n",
       "        vertical-align: middle;\n",
       "    }\n",
       "\n",
       "    .dataframe tbody tr th {\n",
       "        vertical-align: top;\n",
       "    }\n",
       "\n",
       "    .dataframe thead th {\n",
       "        text-align: right;\n",
       "    }\n",
       "</style>\n",
       "<table border=\"1\" class=\"dataframe\">\n",
       "  <thead>\n",
       "    <tr style=\"text-align: right;\">\n",
       "      <th></th>\n",
       "      <th>clave_de_la_entidad</th>\n",
       "    </tr>\n",
       "    <tr>\n",
       "      <th>nombre_de_la_entidad</th>\n",
       "      <th></th>\n",
       "    </tr>\n",
       "  </thead>\n",
       "  <tbody>\n",
       "  </tbody>\n",
       "</table>\n",
       "</div>"
      ],
      "text/plain": [
       "Empty DataFrame\n",
       "Columns: [clave_de_la_entidad]\n",
       "Index: []"
      ]
     },
     "execution_count": 206,
     "metadata": {},
     "output_type": "execute_result"
    }
   ],
   "source": [
    "df_missing = gdf.loc[gdf.index.isin(isna)][['nombre_de_la_entidad','clave_de_la_entidad']]\n",
    "df_missing = df_missing.groupby('nombre_de_la_entidad').count()\n",
    "df_missing.head(2)"
   ]
  },
  {
   "cell_type": "code",
   "execution_count": 207,
   "metadata": {},
   "outputs": [
    {
     "data": {
      "text/html": [
       "<div>\n",
       "<style scoped>\n",
       "    .dataframe tbody tr th:only-of-type {\n",
       "        vertical-align: middle;\n",
       "    }\n",
       "\n",
       "    .dataframe tbody tr th {\n",
       "        vertical-align: top;\n",
       "    }\n",
       "\n",
       "    .dataframe thead th {\n",
       "        text-align: right;\n",
       "    }\n",
       "</style>\n",
       "<table border=\"1\" class=\"dataframe\">\n",
       "  <thead>\n",
       "    <tr style=\"text-align: right;\">\n",
       "      <th></th>\n",
       "      <th>clave_de_la_entidad</th>\n",
       "    </tr>\n",
       "    <tr>\n",
       "      <th>nombre_de_la_entidad</th>\n",
       "      <th></th>\n",
       "    </tr>\n",
       "  </thead>\n",
       "  <tbody>\n",
       "    <tr>\n",
       "      <th>AGUASCALIENTES</th>\n",
       "      <td>271</td>\n",
       "    </tr>\n",
       "    <tr>\n",
       "      <th>BAJA CALIFORNIA</th>\n",
       "      <td>864</td>\n",
       "    </tr>\n",
       "  </tbody>\n",
       "</table>\n",
       "</div>"
      ],
      "text/plain": [
       "                      clave_de_la_entidad\n",
       "nombre_de_la_entidad                     \n",
       "AGUASCALIENTES                        271\n",
       "BAJA CALIFORNIA                       864"
      ]
     },
     "execution_count": 207,
     "metadata": {},
     "output_type": "execute_result"
    }
   ],
   "source": [
    "df_loc = gdf_[['nombre_de_la_entidad','clave_de_la_entidad']].groupby('nombre_de_la_entidad').count()\n",
    "df_loc.head(2)"
   ]
  },
  {
   "cell_type": "code",
   "execution_count": 208,
   "metadata": {},
   "outputs": [
    {
     "data": {
      "text/html": [
       "<div>\n",
       "<style scoped>\n",
       "    .dataframe tbody tr th:only-of-type {\n",
       "        vertical-align: middle;\n",
       "    }\n",
       "\n",
       "    .dataframe tbody tr th {\n",
       "        vertical-align: top;\n",
       "    }\n",
       "\n",
       "    .dataframe thead th {\n",
       "        text-align: right;\n",
       "    }\n",
       "</style>\n",
       "<table border=\"1\" class=\"dataframe\">\n",
       "  <thead>\n",
       "    <tr style=\"text-align: right;\">\n",
       "      <th></th>\n",
       "      <th>clave_de_la_entidad_x</th>\n",
       "      <th>nombre_de_la_entidad</th>\n",
       "      <th>clave_de_la_entidad_y</th>\n",
       "      <th>pct_missing</th>\n",
       "    </tr>\n",
       "  </thead>\n",
       "  <tbody>\n",
       "  </tbody>\n",
       "</table>\n",
       "</div>"
      ],
      "text/plain": [
       "Empty DataFrame\n",
       "Columns: [clave_de_la_entidad_x, nombre_de_la_entidad, clave_de_la_entidad_y, pct_missing]\n",
       "Index: []"
      ]
     },
     "execution_count": 208,
     "metadata": {},
     "output_type": "execute_result"
    }
   ],
   "source": [
    "df_pct_missing = df_missing.reset_index().merge(df_loc.reset_index(), on='nombre_de_la_entidad')\n",
    "df_pct_missing['pct_missing'] = 100 * (df_pct_missing['clave_de_la_entidad_x'] / df_pct_missing['clave_de_la_entidad_y'])\n",
    "df_pct_missing"
   ]
  },
  {
   "cell_type": "code",
   "execution_count": null,
   "metadata": {},
   "outputs": [],
   "source": []
  }
 ],
 "metadata": {
  "interpreter": {
   "hash": "d4d1e4263499bec80672ea0156c357c1ee493ec2b1c70f0acce89fc37c4a6abe"
  },
  "kernelspec": {
   "display_name": "Python 3.9.7 ('base')",
   "language": "python",
   "name": "python3"
  },
  "language_info": {
   "codemirror_mode": {
    "name": "ipython",
    "version": 3
   },
   "file_extension": ".py",
   "mimetype": "text/x-python",
   "name": "python",
   "nbconvert_exporter": "python",
   "pygments_lexer": "ipython3",
   "version": "3.9.7"
  }
 },
 "nbformat": 4,
 "nbformat_minor": 4
}
